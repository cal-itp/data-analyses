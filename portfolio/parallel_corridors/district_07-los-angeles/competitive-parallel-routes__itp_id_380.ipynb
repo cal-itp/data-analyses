{
 "cells": [
  {
   "cell_type": "code",
   "execution_count": 1,
   "id": "95d00857-6a20-4529-a519-2cc7182928a9",
   "metadata": {
    "execution": {
     "iopub.execute_input": "2022-05-09T17:10:44.040684Z",
     "iopub.status.busy": "2022-05-09T17:10:44.040315Z",
     "iopub.status.idle": "2022-05-09T17:11:05.166636Z",
     "shell.execute_reply": "2022-05-09T17:11:05.165306Z"
    },
    "jupyter": {
     "source_hidden": true
    },
    "papermill": {
     "duration": 21.144331,
     "end_time": "2022-05-09T17:11:05.169721",
     "exception": false,
     "start_time": "2022-05-09T17:10:44.025390",
     "status": "completed"
    },
    "tags": [
     "remove_input"
    ]
   },
   "outputs": [],
   "source": [
    "%%capture\n",
    "import warnings\n",
    "warnings.filterwarnings('ignore')\n",
    "\n",
    "import altair as alt\n",
    "import calitp.magics\n",
    "import geopandas as gpd\n",
    "import intake\n",
    "import pandas as pd\n",
    "\n",
    "from IPython.display import display, Markdown, HTML\n",
    "\n",
    "import parallel_corridors_utils\n",
    "from shared_utils import styleguide\n",
    "import deploy_portfolio_yaml\n",
    "\n",
    "catalog = intake.open_catalog(\"./*.yml\")\n",
    "alt.renderers.enable(\"html\")"
   ]
  },
  {
   "cell_type": "code",
   "execution_count": 2,
   "id": "8af2a0c1-f3da-408d-9bea-11d9fbf8695d",
   "metadata": {
    "execution": {
     "iopub.execute_input": "2022-05-09T17:11:05.197881Z",
     "iopub.status.busy": "2022-05-09T17:11:05.197243Z",
     "iopub.status.idle": "2022-05-09T17:11:05.201836Z",
     "shell.execute_reply": "2022-05-09T17:11:05.200982Z"
    },
    "jupyter": {
     "source_hidden": true
    },
    "papermill": {
     "duration": 0.024119,
     "end_time": "2022-05-09T17:11:05.207469",
     "exception": false,
     "start_time": "2022-05-09T17:11:05.183350",
     "status": "completed"
    },
    "tags": [
     "parameters",
     "remove_input"
    ]
   },
   "outputs": [],
   "source": [
    "# parameters cell\n",
    "itp_id = 182"
   ]
  },
  {
   "cell_type": "code",
   "execution_count": 3,
   "id": "cd17ffbf",
   "metadata": {
    "execution": {
     "iopub.execute_input": "2022-05-09T17:11:05.234480Z",
     "iopub.status.busy": "2022-05-09T17:11:05.233911Z",
     "iopub.status.idle": "2022-05-09T17:11:05.238189Z",
     "shell.execute_reply": "2022-05-09T17:11:05.237636Z"
    },
    "jupyter": {
     "source_hidden": true
    },
    "papermill": {
     "duration": 0.020077,
     "end_time": "2022-05-09T17:11:05.240185",
     "exception": false,
     "start_time": "2022-05-09T17:11:05.220108",
     "status": "completed"
    },
    "tags": [
     "injected-parameters",
     "remove_input"
    ]
   },
   "outputs": [],
   "source": [
    "# Parameters\n",
    "district = \"07 - Los Angeles\"\n",
    "itp_id = 380\n"
   ]
  },
  {
   "cell_type": "code",
   "execution_count": 4,
   "id": "9582aaf4-79ff-412a-b248-8d8d693ebd4f",
   "metadata": {
    "execution": {
     "iopub.execute_input": "2022-05-09T17:11:05.266677Z",
     "iopub.status.busy": "2022-05-09T17:11:05.266029Z",
     "iopub.status.idle": "2022-05-09T17:11:06.875321Z",
     "shell.execute_reply": "2022-05-09T17:11:06.874193Z"
    },
    "jupyter": {
     "source_hidden": true
    },
    "papermill": {
     "duration": 1.625873,
     "end_time": "2022-05-09T17:11:06.877976",
     "exception": false,
     "start_time": "2022-05-09T17:11:05.252103",
     "status": "completed"
    },
    "tags": [
     "remove_input"
    ]
   },
   "outputs": [],
   "source": [
    "df = catalog.competitive_route_variability.read()\n",
    "\n",
    "df = (df[(df.calitp_itp_id == itp_id) & \n",
    "         (df.route_group.notna())]\n",
    "      .reset_index(drop=True)\n",
    "     )\n",
    "\n",
    "\n",
    "if itp_id == 182:\n",
    "    df = df.assign(\n",
    "        route_id = df.route_id.str.replace('-13153', '').astype(int)\n",
    "    )"
   ]
  },
  {
   "cell_type": "code",
   "execution_count": 5,
   "id": "33ac4b06-f647-4dce-a625-8f2c1b37cc60",
   "metadata": {
    "execution": {
     "iopub.execute_input": "2022-05-09T17:11:06.908647Z",
     "iopub.status.busy": "2022-05-09T17:11:06.908289Z",
     "iopub.status.idle": "2022-05-09T17:11:06.918759Z",
     "shell.execute_reply": "2022-05-09T17:11:06.917747Z"
    },
    "jupyter": {
     "source_hidden": true
    },
    "papermill": {
     "duration": 0.030193,
     "end_time": "2022-05-09T17:11:06.920904",
     "exception": false,
     "start_time": "2022-05-09T17:11:06.890711",
     "status": "completed"
    },
    "tags": [
     "remove_input"
    ]
   },
   "outputs": [],
   "source": [
    "%%capture_parameters\n",
    "operator_name = df.name.iloc[0]\n",
    "district_number = f\"{df.caltrans_district.iloc[0].split('-')[0].strip()}\"\n",
    "district_name = f\"{df.caltrans_district.iloc[0].split('-')[1].strip().lower().replace(' ', '-')}\"\n",
    "\n",
    "itp_id, operator_name, district_number, district_name"
   ]
  },
  {
   "cell_type": "markdown",
   "id": "65bc6f5c-8348-42ee-b2dd-52057c406852",
   "metadata": {
    "papermill": {
     "duration": 0.012466,
     "end_time": "2022-05-09T17:11:06.946098",
     "exception": false,
     "start_time": "2022-05-09T17:11:06.933632",
     "status": "completed"
    },
    "tags": []
   },
   "source": [
    "# Ventura County Transportation Commission (ITP ID: 380)"
   ]
  },
  {
   "cell_type": "code",
   "execution_count": 6,
   "id": "a689c1ab-2c6c-4831-8d64-897f5986f571",
   "metadata": {
    "execution": {
     "iopub.execute_input": "2022-05-09T17:11:06.975236Z",
     "iopub.status.busy": "2022-05-09T17:11:06.972990Z",
     "iopub.status.idle": "2022-05-09T17:11:06.984474Z",
     "shell.execute_reply": "2022-05-09T17:11:06.983233Z"
    },
    "jupyter": {
     "source_hidden": true
    },
    "papermill": {
     "duration": 0.036657,
     "end_time": "2022-05-09T17:11:06.995208",
     "exception": false,
     "start_time": "2022-05-09T17:11:06.958551",
     "status": "completed"
    },
    "tags": [
     "remove_input"
    ]
   },
   "outputs": [
    {
     "data": {
      "text/html": [
       "<h1>Competitive & Parallel Routes</h1>"
      ],
      "text/plain": [
       "<IPython.core.display.HTML object>"
      ]
     },
     "metadata": {},
     "output_type": "display_data"
    }
   ],
   "source": [
    "display(HTML(\"<h1>Competitive & Parallel Routes</h1>\")) "
   ]
  },
  {
   "cell_type": "code",
   "execution_count": 7,
   "id": "2cb4d8d5-4760-40e4-85b1-cb833d8bb648",
   "metadata": {
    "execution": {
     "iopub.execute_input": "2022-05-09T17:11:07.044883Z",
     "iopub.status.busy": "2022-05-09T17:11:07.041699Z",
     "iopub.status.idle": "2022-05-09T17:11:19.786875Z",
     "shell.execute_reply": "2022-05-09T17:11:19.785651Z"
    },
    "jupyter": {
     "source_hidden": true
    },
    "papermill": {
     "duration": 12.769679,
     "end_time": "2022-05-09T17:11:19.789408",
     "exception": false,
     "start_time": "2022-05-09T17:11:07.019729",
     "status": "completed"
    },
    "tags": [
     "remove_input"
    ]
   },
   "outputs": [],
   "source": [
    "# Grab parameters for narrative text - clean up formatting here \n",
    "district = df.caltrans_district.iloc[0]\n",
    "formatted_date = pd.to_datetime(parallel_corridors_utils.SELECTED_DATE).strftime('%m-%d-%Y')\n",
    "\n",
    "PCT_COMPETITIVE_THRESHOLD = 0.75\n",
    "\n",
    "stats = parallel_corridors_utils.operator_parallel_competitive_stats(\n",
    "    itp_id, PCT_COMPETITIVE_THRESHOLD)\n",
    "\n",
    "pct_parallel = round(stats['parallel_routes'] / stats['num_routes'] * 100,1 )\n",
    "pct_competitive =  round(stats['competitive_routes'] / stats['num_routes'] * 100,1 )"
   ]
  },
  {
   "cell_type": "markdown",
   "id": "ab667928-5274-4490-82d9-4c39293209a4",
   "metadata": {
    "papermill": {
     "duration": 0.013055,
     "end_time": "2022-05-09T17:11:19.827836",
     "exception": false,
     "start_time": "2022-05-09T17:11:19.814781",
     "status": "completed"
    },
    "tags": []
   },
   "source": [
    "## Quick Stats"
   ]
  },
  {
   "cell_type": "code",
   "execution_count": 8,
   "id": "0416509d-dc62-4165-b62e-64f8b26e8b8e",
   "metadata": {
    "execution": {
     "iopub.execute_input": "2022-05-09T17:11:19.860014Z",
     "iopub.status.busy": "2022-05-09T17:11:19.859128Z",
     "iopub.status.idle": "2022-05-09T17:11:19.866827Z",
     "shell.execute_reply": "2022-05-09T17:11:19.866129Z"
    },
    "jupyter": {
     "source_hidden": true
    },
    "papermill": {
     "duration": 0.025626,
     "end_time": "2022-05-09T17:11:19.868686",
     "exception": false,
     "start_time": "2022-05-09T17:11:19.843060",
     "status": "completed"
    },
    "tags": [
     "remove_input"
    ]
   },
   "outputs": [
    {
     "data": {
      "text/markdown": [
       "**Bus routes in service**: 28 <br>**Parallel routes** to State Highway Network (SHN): 28 routes (100.0%)<br>**Competitive routes** against car travel: 8 routes (28.6%)"
      ],
      "text/plain": [
       "<IPython.core.display.Markdown object>"
      ]
     },
     "metadata": {},
     "output_type": "display_data"
    }
   ],
   "source": [
    "display(\n",
    "    Markdown(\n",
    "        f\"**Bus routes in service**: {stats['num_routes']} \"\n",
    "        \"<br>**Parallel routes** to State Highway Network (SHN): \"\n",
    "        f\"{stats['parallel_routes']} routes ({pct_parallel}%)\"\n",
    "        f\"<br>**Competitive routes** against car travel: {stats['competitive_routes']} routes ({pct_competitive}%)\"\n",
    "    )\n",
    ")"
   ]
  },
  {
   "cell_type": "code",
   "execution_count": 9,
   "id": "f9d6ab58-f0ee-460c-b6de-657490e1f386",
   "metadata": {
    "execution": {
     "iopub.execute_input": "2022-05-09T17:11:19.898189Z",
     "iopub.status.busy": "2022-05-09T17:11:19.897569Z",
     "iopub.status.idle": "2022-05-09T17:11:19.915044Z",
     "shell.execute_reply": "2022-05-09T17:11:19.913791Z"
    },
    "jupyter": {
     "source_hidden": true
    },
    "papermill": {
     "duration": 0.03546,
     "end_time": "2022-05-09T17:11:19.917566",
     "exception": false,
     "start_time": "2022-05-09T17:11:19.882106",
     "status": "completed"
    },
    "tags": [
     "remove_input"
    ]
   },
   "outputs": [],
   "source": [
    "def set_yaxis_range(df, y_col):\n",
    "    Y_MIN = df[y_col].min()\n",
    "    Y_MAX = df[y_col].max()\n",
    "    \n",
    "    return Y_MIN, Y_MAX\n",
    "\n",
    "# Rather than set it according to the operator, which can vary,\n",
    "# just use set thresholds for each group\n",
    "diff_cutoffs = parallel_corridors_utils.diff_cutoffs\n",
    "\n",
    "PCT_TRIPS_BELOW_CUTOFF = 0.25\n",
    "\n",
    "def top15_routes(df, route_group):\n",
    "    df2 = (df[df.route_group==route_group])\n",
    "    # Set a cut-off to enable sorting, where most of the trips are \n",
    "    # below a certain time difference cut-off, \n",
    "    # grab top 15 routes where majority of trips are below that cut-off \n",
    "\n",
    "    route_cols = [\"calitp_itp_id\", \"route_id\"]\n",
    "\n",
    "    df2 = df2.assign(\n",
    "        below_cutoff = df2.apply(lambda x: 1 if x.bus_difference <= diff_cutoffs[route_group] \n",
    "                                 else 0, axis=1),\n",
    "        num_trips = df2.groupby(route_cols)[\"trip_id\"].transform(\"count\")\n",
    "    )\n",
    "\n",
    "    df2[\"below_cutoff\"] = df2.groupby(route_cols)[\"below_cutoff\"].transform(\"sum\")\n",
    "    df2[\"pct_below_cutoff\"] = df2.below_cutoff.divide(df2.num_trips)\n",
    "\n",
    "    # At least half the trips are below that cut-off\n",
    "    # but show 15 max, otherwise, show less, since these won't be as interesting to operators\n",
    "    df3 = (df2[df2.pct_below_cutoff >= PCT_TRIPS_BELOW_CUTOFF]\n",
    "           .sort_values([\"calitp_itp_id\", \"below_cutoff\", \n",
    "                         \"pct_below_cutoff\", \"route_id\"],\n",
    "                        ascending = [True, False, False, True]\n",
    "                       )\n",
    "           .drop_duplicates(subset=[\"calitp_itp_id\", \"route_id\"])\n",
    "          ).head(15)\n",
    "    \n",
    "    return list(df3.route_id)"
   ]
  },
  {
   "cell_type": "code",
   "execution_count": 10,
   "id": "cf36d559-3349-4144-8086-8ac9ce937a5a",
   "metadata": {
    "execution": {
     "iopub.execute_input": "2022-05-09T17:11:19.948501Z",
     "iopub.status.busy": "2022-05-09T17:11:19.947775Z",
     "iopub.status.idle": "2022-05-09T17:11:19.954730Z",
     "shell.execute_reply": "2022-05-09T17:11:19.953661Z"
    },
    "jupyter": {
     "source_hidden": true
    },
    "papermill": {
     "duration": 0.025574,
     "end_time": "2022-05-09T17:11:19.957407",
     "exception": false,
     "start_time": "2022-05-09T17:11:19.931833",
     "status": "completed"
    },
    "tags": [
     "remove_input"
    ]
   },
   "outputs": [],
   "source": [
    "def caption_with_cutoff(cutoff):\n",
    "    sentence = (\n",
    "        f\"<br>These are routes that have **at least {int(PCT_TRIPS_BELOW_CUTOFF*100)}% \"\n",
    "        \"of their trips take no more than an \"\n",
    "        f\"additional {cutoff} min** compared to a car \"\n",
    "        \"(up to 15 routes) are shown.\"\n",
    "        \"<br>Within each route group, routes are sorted in descending order \"\n",
    "        \"by % competitive trips and # trips below the additional time cut-off.\"\n",
    "    )\n",
    "    return sentence\n",
    "\n",
    "CAPTIONS_DICT = {\n",
    "    \"short\": caption_with_cutoff(diff_cutoffs['short']),\n",
    "    \"medium\": caption_with_cutoff(diff_cutoffs['medium']),\n",
    "    \"long\": caption_with_cutoff(diff_cutoffs['long']),\n",
    "}"
   ]
  },
  {
   "cell_type": "code",
   "execution_count": 11,
   "id": "e4306d58-6944-47e9-afef-5d5b524c751f",
   "metadata": {
    "execution": {
     "iopub.execute_input": "2022-05-09T17:11:19.990325Z",
     "iopub.status.busy": "2022-05-09T17:11:19.989687Z",
     "iopub.status.idle": "2022-05-09T17:11:20.008841Z",
     "shell.execute_reply": "2022-05-09T17:11:20.007859Z"
    },
    "jupyter": {
     "source_hidden": true
    },
    "papermill": {
     "duration": 0.038778,
     "end_time": "2022-05-09T17:11:20.011502",
     "exception": false,
     "start_time": "2022-05-09T17:11:19.972724",
     "status": "completed"
    },
    "tags": [
     "remove_input"
    ]
   },
   "outputs": [],
   "source": [
    "def setup_charts(df, PCT_COMPETITIVE_THRESHOLD, route_group):\n",
    "    # Set up df for charting (cut-off at some threshold to show most competitive routes)\n",
    "    plot_me = (df[df.pct_trips_competitive > PCT_COMPETITIVE_THRESHOLD]\n",
    "           .drop(columns = \"geometry\")\n",
    "    )\n",
    "    \n",
    "    y_col1 = \"bus_multiplier\"\n",
    "    Y_MIN1, Y_MAX1 = set_yaxis_range(plot_me, y_col1)\n",
    "\n",
    "    y_col2 = \"bus_difference\"\n",
    "    Y_MIN2, Y_MAX2 = set_yaxis_range(plot_me, y_col2)\n",
    "     \n",
    "    subset_routes = top15_routes(plot_me, route_group)\n",
    "    \n",
    "    multiplier_chart = parallel_corridors_utils.make_stripplot(\n",
    "        plot_me[plot_me.route_id.isin(subset_routes)], \n",
    "        y_col1, Y_MIN = Y_MIN1, Y_MAX = Y_MAX1\n",
    "    )\n",
    "    \n",
    "    difference_chart = parallel_corridors_utils.make_stripplot(\n",
    "        plot_me[plot_me.route_id.isin(subset_routes)], \n",
    "        y_col2, Y_MIN = Y_MIN2, Y_MAX = Y_MAX2\n",
    "    )\n",
    "    \n",
    "    return subset_routes, multiplier_chart, difference_chart            "
   ]
  },
  {
   "cell_type": "code",
   "execution_count": 12,
   "id": "33a710e8-504c-4942-aa75-ff69f216956e",
   "metadata": {
    "execution": {
     "iopub.execute_input": "2022-05-09T17:11:20.044043Z",
     "iopub.status.busy": "2022-05-09T17:11:20.043376Z",
     "iopub.status.idle": "2022-05-09T17:11:20.048985Z",
     "shell.execute_reply": "2022-05-09T17:11:20.048354Z"
    },
    "jupyter": {
     "source_hidden": true
    },
    "papermill": {
     "duration": 0.024512,
     "end_time": "2022-05-09T17:11:20.050997",
     "exception": false,
     "start_time": "2022-05-09T17:11:20.026485",
     "status": "completed"
    },
    "tags": [
     "remove_input"
    ]
   },
   "outputs": [],
   "source": [
    "def display_charts_for_route_group(df, route_group):    \n",
    "    subset_routes, mult, diff  = setup_charts(df, PCT_COMPETITIVE_THRESHOLD, route_group)\n",
    "\n",
    "    if len(subset_routes) > 0:\n",
    "        display(Markdown(f\"{CAPTIONS_DICT[route_group]}\"))\n",
    "\n",
    "        display(mult)\n",
    "        display(diff)"
   ]
  },
  {
   "cell_type": "markdown",
   "id": "525f9b38-072b-46d1-96a8-1aa4b038357c",
   "metadata": {
    "papermill": {
     "duration": 0.013635,
     "end_time": "2022-05-09T17:11:20.077952",
     "exception": false,
     "start_time": "2022-05-09T17:11:20.064317",
     "status": "completed"
    },
    "tags": []
   },
   "source": [
    "## Viable Competitive Routes\n",
    "### Short Routes (< 1 hr)"
   ]
  },
  {
   "cell_type": "code",
   "execution_count": 13,
   "id": "57f7084c-2cf7-45c6-ba08-1609e0bd6ca5",
   "metadata": {
    "execution": {
     "iopub.execute_input": "2022-05-09T17:11:20.112204Z",
     "iopub.status.busy": "2022-05-09T17:11:20.111532Z",
     "iopub.status.idle": "2022-05-09T17:11:20.366531Z",
     "shell.execute_reply": "2022-05-09T17:11:20.365488Z"
    },
    "jupyter": {
     "source_hidden": true
    },
    "papermill": {
     "duration": 0.276298,
     "end_time": "2022-05-09T17:11:20.369641",
     "exception": false,
     "start_time": "2022-05-09T17:11:20.093343",
     "status": "completed"
    },
    "tags": [
     "remove_input"
    ]
   },
   "outputs": [
    {
     "data": {
      "text/markdown": [
       "<br>These are routes that have **at least 25% of their trips take no more than an additional 20 min** compared to a car (up to 15 routes) are shown.<br>Within each route group, routes are sorted in descending order by % competitive trips and # trips below the additional time cut-off."
      ],
      "text/plain": [
       "<IPython.core.display.Markdown object>"
      ]
     },
     "metadata": {},
     "output_type": "display_data"
    },
    {
     "data": {
      "text/html": [
       "\n",
       "<div id=\"altair-viz-c0ee2d6df577431ab887cdfb251a0b25\"></div>\n",
       "<script type=\"text/javascript\">\n",
       "  var VEGA_DEBUG = (typeof VEGA_DEBUG == \"undefined\") ? {} : VEGA_DEBUG;\n",
       "  (function(spec, embedOpt){\n",
       "    let outputDiv = document.currentScript.previousElementSibling;\n",
       "    if (outputDiv.id !== \"altair-viz-c0ee2d6df577431ab887cdfb251a0b25\") {\n",
       "      outputDiv = document.getElementById(\"altair-viz-c0ee2d6df577431ab887cdfb251a0b25\");\n",
       "    }\n",
       "    const paths = {\n",
       "      \"vega\": \"https://cdn.jsdelivr.net/npm//vega@5?noext\",\n",
       "      \"vega-lib\": \"https://cdn.jsdelivr.net/npm//vega-lib?noext\",\n",
       "      \"vega-lite\": \"https://cdn.jsdelivr.net/npm//vega-lite@4.17.0?noext\",\n",
       "      \"vega-embed\": \"https://cdn.jsdelivr.net/npm//vega-embed@6?noext\",\n",
       "    };\n",
       "\n",
       "    function maybeLoadScript(lib, version) {\n",
       "      var key = `${lib.replace(\"-\", \"\")}_version`;\n",
       "      return (VEGA_DEBUG[key] == version) ?\n",
       "        Promise.resolve(paths[lib]) :\n",
       "        new Promise(function(resolve, reject) {\n",
       "          var s = document.createElement('script');\n",
       "          document.getElementsByTagName(\"head\")[0].appendChild(s);\n",
       "          s.async = true;\n",
       "          s.onload = () => {\n",
       "            VEGA_DEBUG[key] = version;\n",
       "            return resolve(paths[lib]);\n",
       "          };\n",
       "          s.onerror = () => reject(`Error loading script: ${paths[lib]}`);\n",
       "          s.src = paths[lib];\n",
       "        });\n",
       "    }\n",
       "\n",
       "    function showError(err) {\n",
       "      outputDiv.innerHTML = `<div class=\"error\" style=\"color:red;\">${err}</div>`;\n",
       "      throw err;\n",
       "    }\n",
       "\n",
       "    function displayChart(vegaEmbed) {\n",
       "      vegaEmbed(outputDiv, spec, embedOpt)\n",
       "        .catch(err => showError(`Javascript Error: ${err.message}<br>This usually means there's a typo in your chart specification. See the javascript console for the full traceback.`));\n",
       "    }\n",
       "\n",
       "    if(typeof define === \"function\" && define.amd) {\n",
       "      requirejs.config({paths});\n",
       "      require([\"vega-embed\"], displayChart, err => showError(`Error loading script: ${err.message}`));\n",
       "    } else {\n",
       "      maybeLoadScript(\"vega\", \"5\")\n",
       "        .then(() => maybeLoadScript(\"vega-lite\", \"4.17.0\"))\n",
       "        .then(() => maybeLoadScript(\"vega-embed\", \"6\"))\n",
       "        .catch(showError)\n",
       "        .then(() => displayChart(vegaEmbed));\n",
       "    }\n",
       "  })({\"config\": {\"view\": {\"continuousWidth\": 400, \"continuousHeight\": 300, \"stroke\": null}, \"facet\": {\"spacing\": 0}}, \"data\": {\"name\": \"data-e3a031ed5acb5c7129f67c4790008e29\"}, \"facet\": {\"column\": {\"field\": \"route_id\", \"sort\": [\"11140\", \"11139\", \"11103\", \"11102\"], \"title\": \"Route ID\", \"type\": \"nominal\"}}, \"spec\": {\"layer\": [{\"mark\": \"rule\", \"encoding\": {\"color\": {\"value\": \"black\"}, \"y\": {\"field\": \"cutoff\", \"type\": \"quantitative\"}}, \"selection\": {\"selector001\": {\"type\": \"interval\", \"bind\": \"scales\", \"encodings\": [\"x\", \"y\"]}}}, {\"mark\": {\"type\": \"point\", \"opacity\": 0.65, \"size\": 12, \"strokeWidth\": 1.1}, \"encoding\": {\"color\": {\"field\": \"time_of_day\", \"scale\": {\"range\": [\"#136C97\", \"#E16B26\", \"#F6BF16\", \"#00896B\", \"#7790A3\", \"#5B559C\"]}, \"sort\": [\"AM Peak\", \"Midday\", \"PM Peak\", \"Owl Service\"], \"title\": \"Time of Day\", \"type\": \"nominal\"}, \"tooltip\": [{\"field\": \"route_id\", \"type\": \"nominal\"}, {\"field\": \"trip_id\", \"type\": \"nominal\"}, {\"field\": \"service_hours\", \"type\": \"quantitative\"}, {\"field\": \"car_duration_hours\", \"type\": \"quantitative\"}, {\"field\": \"bus_multiplier\", \"type\": \"quantitative\"}, {\"field\": \"bus_difference\", \"type\": \"quantitative\"}, {\"field\": \"num_trips\", \"type\": \"quantitative\"}, {\"field\": \"num_competitive\", \"type\": \"quantitative\"}, {\"field\": \"pct_trips_competitive\", \"type\": \"quantitative\"}, {\"field\": \"p25\", \"type\": \"quantitative\"}, {\"field\": \"p50\", \"type\": \"quantitative\"}, {\"field\": \"p75\", \"type\": \"quantitative\"}], \"x\": {\"axis\": {\"grid\": false, \"labels\": false, \"ticks\": true, \"values\": [0]}, \"field\": \"jitter\", \"scale\": {}, \"title\": null, \"type\": \"quantitative\"}, \"y\": {\"field\": \"bus_multiplier\", \"scale\": {\"domain\": [-0.25, 2.5]}, \"title\": \"Ratio of Bus to Car Travel Time\", \"type\": \"quantitative\"}}, \"transform\": [{\"calculate\": \"sqrt(-2*log(random()))*cos(2*PI*random())\", \"as\": \"jitter\"}], \"width\": 50}, {\"layer\": [{\"mark\": {\"type\": \"point\", \"opacity\": 0.6, \"size\": 20, \"strokeWidth\": 1.3}, \"encoding\": {\"color\": {\"value\": \"#323434\"}, \"y\": {\"field\": \"bus_multiplier\", \"type\": \"quantitative\"}}, \"transform\": [{\"filter\": \"(datum.p50_trip === 1)\"}]}, {\"mark\": {\"type\": \"text\", \"align\": \"center\", \"baseline\": \"middle\"}, \"encoding\": {\"color\": {\"value\": \"black\"}, \"text\": {\"field\": \"pct_trips_competitive\", \"format\": \".0%\", \"type\": \"quantitative\"}, \"tooltip\": [{\"field\": \"route_id\", \"type\": \"nominal\"}, {\"field\": \"trip_id\", \"type\": \"nominal\"}, {\"field\": \"service_hours\", \"type\": \"quantitative\"}, {\"field\": \"car_duration_hours\", \"type\": \"quantitative\"}, {\"field\": \"bus_multiplier\", \"type\": \"quantitative\"}, {\"field\": \"bus_difference\", \"type\": \"quantitative\"}, {\"field\": \"num_trips\", \"type\": \"quantitative\"}, {\"field\": \"num_competitive\", \"type\": \"quantitative\"}, {\"field\": \"pct_trips_competitive\", \"type\": \"quantitative\"}, {\"field\": \"p25\", \"type\": \"quantitative\"}, {\"field\": \"p50\", \"type\": \"quantitative\"}, {\"field\": \"p75\", \"type\": \"quantitative\"}], \"x\": {\"value\": 30}, \"y\": {\"value\": 15}}, \"transform\": [{\"calculate\": \"sqrt(-2*log(random()))*cos(2*PI*random())\", \"as\": \"jitter\"}, {\"filter\": \"(datum.fastest_trip === 1)\"}]}]}]}, \"resolve\": {\"scale\": {\"y\": \"shared\"}}, \"title\": \"Ratio of Bus to Car Travel Time\", \"$schema\": \"https://vega.github.io/schema/vega-lite/v4.17.0.json\", \"datasets\": {\"data-e3a031ed5acb5c7129f67c4790008e29\": [{\"calitp_itp_id\": 380, \"trip_key\": 2872704287986575954, \"trip_id\": \"t_297950_b_30295_tn_0\", \"shape_id\": \"p_178758\", \"route_id\": \"11102\", \"service_hours\": 0.5, \"trip_first_departure_ts\": 51900, \"trip_last_arrival_ts\": 53700, \"departure_hour\": 14, \"time_of_day\": \"Midday\", \"p25\": 0.5, \"p50\": 0.5, \"p75\": 0.5, \"p50_trip\": 1, \"fastest_trip\": 1, \"car_duration_hours\": 0.38, \"competitive_route\": 1, \"bus_multiplier\": 1.32, \"bus_difference\": 7.2, \"num_trips\": 3, \"num_competitive\": 3, \"pct_trips_competitive\": 1.0, \"bus_difference_spread\": 0.0, \"route_group\": \"short\", \"max_trip_hrs\": 0.5, \"max_trip_route_group\": 0.92, \"name\": \"Ventura County Transportation Commission\", \"caltrans_district\": \"07 - Los Angeles\", \"drmt_organization_name\": null, \"cutoff2\": 20, \"cutoff\": 2}, {\"calitp_itp_id\": 380, \"trip_key\": -1794597154988842769, \"trip_id\": \"t_297949_b_30295_tn_0\", \"shape_id\": \"p_178758\", \"route_id\": \"11102\", \"service_hours\": 0.5, \"trip_first_departure_ts\": 31140, \"trip_last_arrival_ts\": 32940, \"departure_hour\": 8, \"time_of_day\": \"AM Peak\", \"p25\": 0.5, \"p50\": 0.5, \"p75\": 0.5, \"p50_trip\": 1, \"fastest_trip\": 0, \"car_duration_hours\": 0.38, \"competitive_route\": 1, \"bus_multiplier\": 1.32, \"bus_difference\": 7.2, \"num_trips\": 3, \"num_competitive\": 3, \"pct_trips_competitive\": 1.0, \"bus_difference_spread\": 0.0, \"route_group\": \"short\", \"max_trip_hrs\": 0.5, \"max_trip_route_group\": 0.92, \"name\": \"Ventura County Transportation Commission\", \"caltrans_district\": \"07 - Los Angeles\", \"drmt_organization_name\": null, \"cutoff2\": 20, \"cutoff\": 2}, {\"calitp_itp_id\": 380, \"trip_key\": 1704114464114318887, \"trip_id\": \"t_297948_b_30295_tn_0\", \"shape_id\": \"p_178758\", \"route_id\": \"11102\", \"service_hours\": 0.5, \"trip_first_departure_ts\": 28200, \"trip_last_arrival_ts\": 30000, \"departure_hour\": 7, \"time_of_day\": \"AM Peak\", \"p25\": 0.5, \"p50\": 0.5, \"p75\": 0.5, \"p50_trip\": 1, \"fastest_trip\": 0, \"car_duration_hours\": 0.38, \"competitive_route\": 1, \"bus_multiplier\": 1.32, \"bus_difference\": 7.2, \"num_trips\": 3, \"num_competitive\": 3, \"pct_trips_competitive\": 1.0, \"bus_difference_spread\": 0.0, \"route_group\": \"short\", \"max_trip_hrs\": 0.5, \"max_trip_route_group\": 0.92, \"name\": \"Ventura County Transportation Commission\", \"caltrans_district\": \"07 - Los Angeles\", \"drmt_organization_name\": null, \"cutoff2\": 20, \"cutoff\": 2}, {\"calitp_itp_id\": 380, \"trip_key\": 8040552062176262404, \"trip_id\": \"t_298076_b_30295_tn_0\", \"shape_id\": \"p_178760\", \"route_id\": \"11103\", \"service_hours\": 0.5, \"trip_first_departure_ts\": 25680, \"trip_last_arrival_ts\": 27480, \"departure_hour\": 7, \"time_of_day\": \"AM Peak\", \"p25\": 0.5, \"p50\": 0.51, \"p75\": 0.5275000000000001, \"p50_trip\": 1, \"fastest_trip\": 1, \"car_duration_hours\": 0.32, \"competitive_route\": 1, \"bus_multiplier\": 1.56, \"bus_difference\": 10.8, \"num_trips\": 4, \"num_competitive\": 4, \"pct_trips_competitive\": 1.0, \"bus_difference_spread\": 3.0, \"route_group\": \"short\", \"max_trip_hrs\": 0.55, \"max_trip_route_group\": 0.92, \"name\": \"Ventura County Transportation Commission\", \"caltrans_district\": \"07 - Los Angeles\", \"drmt_organization_name\": null, \"cutoff2\": 20, \"cutoff\": 2}, {\"calitp_itp_id\": 380, \"trip_key\": -5467974047879099779, \"trip_id\": \"t_298075_b_30295_tn_0\", \"shape_id\": \"p_178760\", \"route_id\": \"11103\", \"service_hours\": 0.5, \"trip_first_departure_ts\": 23460, \"trip_last_arrival_ts\": 25260, \"departure_hour\": 6, \"time_of_day\": \"Owl Service\", \"p25\": 0.5, \"p50\": 0.51, \"p75\": 0.5275000000000001, \"p50_trip\": 1, \"fastest_trip\": 0, \"car_duration_hours\": 0.32, \"competitive_route\": 1, \"bus_multiplier\": 1.56, \"bus_difference\": 10.8, \"num_trips\": 4, \"num_competitive\": 4, \"pct_trips_competitive\": 1.0, \"bus_difference_spread\": 3.0, \"route_group\": \"short\", \"max_trip_hrs\": 0.55, \"max_trip_route_group\": 0.92, \"name\": \"Ventura County Transportation Commission\", \"caltrans_district\": \"07 - Los Angeles\", \"drmt_organization_name\": null, \"cutoff2\": 20, \"cutoff\": 2}, {\"calitp_itp_id\": 380, \"trip_key\": -5901345971159908292, \"trip_id\": \"t_298077_b_30295_tn_0\", \"shape_id\": \"p_178760\", \"route_id\": \"11103\", \"service_hours\": 0.52, \"trip_first_departure_ts\": 33300, \"trip_last_arrival_ts\": 35160, \"departure_hour\": 9, \"time_of_day\": \"AM Peak\", \"p25\": 0.5, \"p50\": 0.51, \"p75\": 0.5275000000000001, \"p50_trip\": 1, \"fastest_trip\": 0, \"car_duration_hours\": 0.32, \"competitive_route\": 1, \"bus_multiplier\": 1.62, \"bus_difference\": 12.0, \"num_trips\": 4, \"num_competitive\": 4, \"pct_trips_competitive\": 1.0, \"bus_difference_spread\": 3.0, \"route_group\": \"short\", \"max_trip_hrs\": 0.55, \"max_trip_route_group\": 0.92, \"name\": \"Ventura County Transportation Commission\", \"caltrans_district\": \"07 - Los Angeles\", \"drmt_organization_name\": null, \"cutoff2\": 20, \"cutoff\": 2}, {\"calitp_itp_id\": 380, \"trip_key\": -471785971279718991, \"trip_id\": \"t_298078_b_30295_tn_0\", \"shape_id\": \"p_178760\", \"route_id\": \"11103\", \"service_hours\": 0.55, \"trip_first_departure_ts\": 37140, \"trip_last_arrival_ts\": 39120, \"departure_hour\": 10, \"time_of_day\": \"Midday\", \"p25\": 0.5, \"p50\": 0.51, \"p75\": 0.5275000000000001, \"p50_trip\": 0, \"fastest_trip\": 0, \"car_duration_hours\": 0.32, \"competitive_route\": 1, \"bus_multiplier\": 1.72, \"bus_difference\": 13.8, \"num_trips\": 4, \"num_competitive\": 4, \"pct_trips_competitive\": 1.0, \"bus_difference_spread\": 3.0, \"route_group\": \"short\", \"max_trip_hrs\": 0.55, \"max_trip_route_group\": 0.92, \"name\": \"Ventura County Transportation Commission\", \"caltrans_district\": \"07 - Los Angeles\", \"drmt_organization_name\": null, \"cutoff2\": 20, \"cutoff\": 2}, {\"calitp_itp_id\": 380, \"trip_key\": 6047442871500869582, \"trip_id\": \"t_307282_b_30295_tn_0\", \"shape_id\": \"p_178954\", \"route_id\": \"11139\", \"service_hours\": 0.33, \"trip_first_departure_ts\": 28500, \"trip_last_arrival_ts\": 29700, \"departure_hour\": 7, \"time_of_day\": \"AM Peak\", \"p25\": 0.33, \"p50\": 0.37, \"p75\": 0.37, \"p50_trip\": 0, \"fastest_trip\": 0, \"car_duration_hours\": 0.29, \"competitive_route\": 1, \"bus_multiplier\": 1.14, \"bus_difference\": 2.4, \"num_trips\": 11, \"num_competitive\": 11, \"pct_trips_competitive\": 1.0, \"bus_difference_spread\": 2.4, \"route_group\": \"short\", \"max_trip_hrs\": 0.37, \"max_trip_route_group\": 0.92, \"name\": \"Ventura County Transportation Commission\", \"caltrans_district\": \"07 - Los Angeles\", \"drmt_organization_name\": null, \"cutoff2\": 20, \"cutoff\": 2}, {\"calitp_itp_id\": 380, \"trip_key\": 7482431734771432811, \"trip_id\": \"t_307278_b_30295_tn_0\", \"shape_id\": \"p_178952\", \"route_id\": \"11139\", \"service_hours\": 0.33, \"trip_first_departure_ts\": 25500, \"trip_last_arrival_ts\": 26700, \"departure_hour\": 7, \"time_of_day\": \"AM Peak\", \"p25\": 0.33, \"p50\": 0.37, \"p75\": 0.37, \"p50_trip\": 0, \"fastest_trip\": 0, \"car_duration_hours\": 0.29, \"competitive_route\": 1, \"bus_multiplier\": 1.14, \"bus_difference\": 2.4, \"num_trips\": 11, \"num_competitive\": 11, \"pct_trips_competitive\": 1.0, \"bus_difference_spread\": 2.4, \"route_group\": \"short\", \"max_trip_hrs\": 0.37, \"max_trip_route_group\": 0.92, \"name\": \"Ventura County Transportation Commission\", \"caltrans_district\": \"07 - Los Angeles\", \"drmt_organization_name\": null, \"cutoff2\": 20, \"cutoff\": 2}, {\"calitp_itp_id\": 380, \"trip_key\": -3460051913666472011, \"trip_id\": \"t_307279_b_30295_tn_0\", \"shape_id\": \"p_178952\", \"route_id\": \"11139\", \"service_hours\": 0.33, \"trip_first_departure_ts\": 49200, \"trip_last_arrival_ts\": 50400, \"departure_hour\": 13, \"time_of_day\": \"Midday\", \"p25\": 0.33, \"p50\": 0.37, \"p75\": 0.37, \"p50_trip\": 0, \"fastest_trip\": 0, \"car_duration_hours\": 0.29, \"competitive_route\": 1, \"bus_multiplier\": 1.14, \"bus_difference\": 2.4, \"num_trips\": 11, \"num_competitive\": 11, \"pct_trips_competitive\": 1.0, \"bus_difference_spread\": 2.4, \"route_group\": \"short\", \"max_trip_hrs\": 0.37, \"max_trip_route_group\": 0.92, \"name\": \"Ventura County Transportation Commission\", \"caltrans_district\": \"07 - Los Angeles\", \"drmt_organization_name\": null, \"cutoff2\": 20, \"cutoff\": 2}, {\"calitp_itp_id\": 380, \"trip_key\": 7070557894075735759, \"trip_id\": \"t_307288_b_30295_tn_0\", \"shape_id\": \"p_178954\", \"route_id\": \"11139\", \"service_hours\": 0.33, \"trip_first_departure_ts\": 52800, \"trip_last_arrival_ts\": 54000, \"departure_hour\": 14, \"time_of_day\": \"Midday\", \"p25\": 0.33, \"p50\": 0.37, \"p75\": 0.37, \"p50_trip\": 0, \"fastest_trip\": 1, \"car_duration_hours\": 0.29, \"competitive_route\": 1, \"bus_multiplier\": 1.14, \"bus_difference\": 2.4, \"num_trips\": 11, \"num_competitive\": 11, \"pct_trips_competitive\": 1.0, \"bus_difference_spread\": 2.4, \"route_group\": \"short\", \"max_trip_hrs\": 0.37, \"max_trip_route_group\": 0.92, \"name\": \"Ventura County Transportation Commission\", \"caltrans_district\": \"07 - Los Angeles\", \"drmt_organization_name\": null, \"cutoff2\": 20, \"cutoff\": 2}, {\"calitp_itp_id\": 380, \"trip_key\": 4508689171225940194, \"trip_id\": \"t_307280_b_30295_tn_0\", \"shape_id\": \"p_178953\", \"route_id\": \"11139\", \"service_hours\": 0.37, \"trip_first_departure_ts\": 27000, \"trip_last_arrival_ts\": 28320, \"departure_hour\": 7, \"time_of_day\": \"AM Peak\", \"p25\": 0.33, \"p50\": 0.37, \"p75\": 0.37, \"p50_trip\": 1, \"fastest_trip\": 0, \"car_duration_hours\": 0.29, \"competitive_route\": 1, \"bus_multiplier\": 1.28, \"bus_difference\": 4.8, \"num_trips\": 11, \"num_competitive\": 11, \"pct_trips_competitive\": 1.0, \"bus_difference_spread\": 2.4, \"route_group\": \"short\", \"max_trip_hrs\": 0.37, \"max_trip_route_group\": 0.92, \"name\": \"Ventura County Transportation Commission\", \"caltrans_district\": \"07 - Los Angeles\", \"drmt_organization_name\": null, \"cutoff2\": 20, \"cutoff\": 2}, {\"calitp_itp_id\": 380, \"trip_key\": 4200609986028506125, \"trip_id\": \"t_307285_b_30295_tn_0\", \"shape_id\": \"p_178955\", \"route_id\": \"11139\", \"service_hours\": 0.37, \"trip_first_departure_ts\": 43500, \"trip_last_arrival_ts\": 44820, \"departure_hour\": 12, \"time_of_day\": \"Midday\", \"p25\": 0.33, \"p50\": 0.37, \"p75\": 0.37, \"p50_trip\": 1, \"fastest_trip\": 0, \"car_duration_hours\": 0.29, \"competitive_route\": 1, \"bus_multiplier\": 1.28, \"bus_difference\": 4.8, \"num_trips\": 11, \"num_competitive\": 11, \"pct_trips_competitive\": 1.0, \"bus_difference_spread\": 2.4, \"route_group\": \"short\", \"max_trip_hrs\": 0.37, \"max_trip_route_group\": 0.92, \"name\": \"Ventura County Transportation Commission\", \"caltrans_district\": \"07 - Los Angeles\", \"drmt_organization_name\": null, \"cutoff2\": 20, \"cutoff\": 2}, {\"calitp_itp_id\": 380, \"trip_key\": 7876117558541659199, \"trip_id\": \"t_307287_b_30295_tn_0\", \"shape_id\": \"p_178953\", \"route_id\": \"11139\", \"service_hours\": 0.37, \"trip_first_departure_ts\": 51000, \"trip_last_arrival_ts\": 52320, \"departure_hour\": 14, \"time_of_day\": \"Midday\", \"p25\": 0.33, \"p50\": 0.37, \"p75\": 0.37, \"p50_trip\": 1, \"fastest_trip\": 0, \"car_duration_hours\": 0.29, \"competitive_route\": 1, \"bus_multiplier\": 1.28, \"bus_difference\": 4.8, \"num_trips\": 11, \"num_competitive\": 11, \"pct_trips_competitive\": 1.0, \"bus_difference_spread\": 2.4, \"route_group\": \"short\", \"max_trip_hrs\": 0.37, \"max_trip_route_group\": 0.92, \"name\": \"Ventura County Transportation Commission\", \"caltrans_district\": \"07 - Los Angeles\", \"drmt_organization_name\": null, \"cutoff2\": 20, \"cutoff\": 2}, {\"calitp_itp_id\": 380, \"trip_key\": -8936707200309142372, \"trip_id\": \"t_307284_b_30295_tn_0\", \"shape_id\": \"p_178955\", \"route_id\": \"11139\", \"service_hours\": 0.37, \"trip_first_departure_ts\": 36900, \"trip_last_arrival_ts\": 38220, \"departure_hour\": 10, \"time_of_day\": \"Midday\", \"p25\": 0.33, \"p50\": 0.37, \"p75\": 0.37, \"p50_trip\": 1, \"fastest_trip\": 0, \"car_duration_hours\": 0.29, \"competitive_route\": 1, \"bus_multiplier\": 1.28, \"bus_difference\": 4.8, \"num_trips\": 11, \"num_competitive\": 11, \"pct_trips_competitive\": 1.0, \"bus_difference_spread\": 2.4, \"route_group\": \"short\", \"max_trip_hrs\": 0.37, \"max_trip_route_group\": 0.92, \"name\": \"Ventura County Transportation Commission\", \"caltrans_district\": \"07 - Los Angeles\", \"drmt_organization_name\": null, \"cutoff2\": 20, \"cutoff\": 2}, {\"calitp_itp_id\": 380, \"trip_key\": -6003544487301739559, \"trip_id\": \"t_307281_b_30295_tn_0\", \"shape_id\": \"p_178953\", \"route_id\": \"11139\", \"service_hours\": 0.37, \"trip_first_departure_ts\": 54600, \"trip_last_arrival_ts\": 55920, \"departure_hour\": 15, \"time_of_day\": \"Midday\", \"p25\": 0.33, \"p50\": 0.37, \"p75\": 0.37, \"p50_trip\": 1, \"fastest_trip\": 0, \"car_duration_hours\": 0.29, \"competitive_route\": 1, \"bus_multiplier\": 1.28, \"bus_difference\": 4.8, \"num_trips\": 11, \"num_competitive\": 11, \"pct_trips_competitive\": 1.0, \"bus_difference_spread\": 2.4, \"route_group\": \"short\", \"max_trip_hrs\": 0.37, \"max_trip_route_group\": 0.92, \"name\": \"Ventura County Transportation Commission\", \"caltrans_district\": \"07 - Los Angeles\", \"drmt_organization_name\": null, \"cutoff2\": 20, \"cutoff\": 2}, {\"calitp_itp_id\": 380, \"trip_key\": -7155707871353330728, \"trip_id\": \"t_307283_b_30295_tn_0\", \"shape_id\": \"p_178953\", \"route_id\": \"11139\", \"service_hours\": 0.37, \"trip_first_departure_ts\": 30000, \"trip_last_arrival_ts\": 31320, \"departure_hour\": 8, \"time_of_day\": \"AM Peak\", \"p25\": 0.33, \"p50\": 0.37, \"p75\": 0.37, \"p50_trip\": 1, \"fastest_trip\": 0, \"car_duration_hours\": 0.29, \"competitive_route\": 1, \"bus_multiplier\": 1.28, \"bus_difference\": 4.8, \"num_trips\": 11, \"num_competitive\": 11, \"pct_trips_competitive\": 1.0, \"bus_difference_spread\": 2.4, \"route_group\": \"short\", \"max_trip_hrs\": 0.37, \"max_trip_route_group\": 0.92, \"name\": \"Ventura County Transportation Commission\", \"caltrans_district\": \"07 - Los Angeles\", \"drmt_organization_name\": null, \"cutoff2\": 20, \"cutoff\": 2}, {\"calitp_itp_id\": 380, \"trip_key\": -2602595746946625154, \"trip_id\": \"t_307286_b_30295_tn_0\", \"shape_id\": \"p_178955\", \"route_id\": \"11139\", \"service_hours\": 0.37, \"trip_first_departure_ts\": 58500, \"trip_last_arrival_ts\": 59820, \"departure_hour\": 16, \"time_of_day\": \"Midday\", \"p25\": 0.33, \"p50\": 0.37, \"p75\": 0.37, \"p50_trip\": 1, \"fastest_trip\": 0, \"car_duration_hours\": 0.29, \"competitive_route\": 1, \"bus_multiplier\": 1.28, \"bus_difference\": 4.8, \"num_trips\": 11, \"num_competitive\": 11, \"pct_trips_competitive\": 1.0, \"bus_difference_spread\": 2.4, \"route_group\": \"short\", \"max_trip_hrs\": 0.37, \"max_trip_route_group\": 0.92, \"name\": \"Ventura County Transportation Commission\", \"caltrans_district\": \"07 - Los Angeles\", \"drmt_organization_name\": null, \"cutoff2\": 20, \"cutoff\": 2}, {\"calitp_itp_id\": 380, \"trip_key\": -3477482100020460775, \"trip_id\": \"t_307302_b_30295_tn_0\", \"shape_id\": \"p_178957\", \"route_id\": \"11140\", \"service_hours\": 0.5, \"trip_first_departure_ts\": 60900, \"trip_last_arrival_ts\": 62700, \"departure_hour\": 16, \"time_of_day\": \"Midday\", \"p25\": 0.5, \"p50\": 0.5, \"p75\": 0.5, \"p50_trip\": 1, \"fastest_trip\": 0, \"car_duration_hours\": 0.43, \"competitive_route\": 1, \"bus_multiplier\": 1.16, \"bus_difference\": 4.2, \"num_trips\": 14, \"num_competitive\": 14, \"pct_trips_competitive\": 1.0, \"bus_difference_spread\": 7.8, \"route_group\": \"short\", \"max_trip_hrs\": 0.63, \"max_trip_route_group\": 0.92, \"name\": \"Ventura County Transportation Commission\", \"caltrans_district\": \"07 - Los Angeles\", \"drmt_organization_name\": null, \"cutoff2\": 20, \"cutoff\": 2}, {\"calitp_itp_id\": 380, \"trip_key\": 5998133417845239126, \"trip_id\": \"t_307298_b_30295_tn_0\", \"shape_id\": \"p_178956\", \"route_id\": \"11140\", \"service_hours\": 0.5, \"trip_first_departure_ts\": 47100, \"trip_last_arrival_ts\": 48900, \"departure_hour\": 13, \"time_of_day\": \"Midday\", \"p25\": 0.5, \"p50\": 0.5, \"p75\": 0.5, \"p50_trip\": 1, \"fastest_trip\": 0, \"car_duration_hours\": 0.43, \"competitive_route\": 1, \"bus_multiplier\": 1.16, \"bus_difference\": 4.2, \"num_trips\": 14, \"num_competitive\": 14, \"pct_trips_competitive\": 1.0, \"bus_difference_spread\": 7.8, \"route_group\": \"short\", \"max_trip_hrs\": 0.63, \"max_trip_route_group\": 0.92, \"name\": \"Ventura County Transportation Commission\", \"caltrans_district\": \"07 - Los Angeles\", \"drmt_organization_name\": null, \"cutoff2\": 20, \"cutoff\": 2}, {\"calitp_itp_id\": 380, \"trip_key\": 8379173051858602009, \"trip_id\": \"t_307303_b_30295_tn_0\", \"shape_id\": \"p_178957\", \"route_id\": \"11140\", \"service_hours\": 0.5, \"trip_first_departure_ts\": 63000, \"trip_last_arrival_ts\": 64800, \"departure_hour\": 17, \"time_of_day\": \"PM Peak\", \"p25\": 0.5, \"p50\": 0.5, \"p75\": 0.5, \"p50_trip\": 1, \"fastest_trip\": 0, \"car_duration_hours\": 0.43, \"competitive_route\": 1, \"bus_multiplier\": 1.16, \"bus_difference\": 4.2, \"num_trips\": 14, \"num_competitive\": 14, \"pct_trips_competitive\": 1.0, \"bus_difference_spread\": 7.8, \"route_group\": \"short\", \"max_trip_hrs\": 0.63, \"max_trip_route_group\": 0.92, \"name\": \"Ventura County Transportation Commission\", \"caltrans_district\": \"07 - Los Angeles\", \"drmt_organization_name\": null, \"cutoff2\": 20, \"cutoff\": 2}, {\"calitp_itp_id\": 380, \"trip_key\": -999493374566243572, \"trip_id\": \"t_307297_b_30295_tn_0\", \"shape_id\": \"p_178957\", \"route_id\": \"11140\", \"service_hours\": 0.5, \"trip_first_departure_ts\": 40200, \"trip_last_arrival_ts\": 42000, \"departure_hour\": 11, \"time_of_day\": \"Midday\", \"p25\": 0.5, \"p50\": 0.5, \"p75\": 0.5, \"p50_trip\": 1, \"fastest_trip\": 0, \"car_duration_hours\": 0.43, \"competitive_route\": 1, \"bus_multiplier\": 1.16, \"bus_difference\": 4.2, \"num_trips\": 14, \"num_competitive\": 14, \"pct_trips_competitive\": 1.0, \"bus_difference_spread\": 7.8, \"route_group\": \"short\", \"max_trip_hrs\": 0.63, \"max_trip_route_group\": 0.92, \"name\": \"Ventura County Transportation Commission\", \"caltrans_district\": \"07 - Los Angeles\", \"drmt_organization_name\": null, \"cutoff2\": 20, \"cutoff\": 2}, {\"calitp_itp_id\": 380, \"trip_key\": 4887046062152755978, \"trip_id\": \"t_307293_b_30295_tn_0\", \"shape_id\": \"p_178957\", \"route_id\": \"11140\", \"service_hours\": 0.5, \"trip_first_departure_ts\": 27900, \"trip_last_arrival_ts\": 29700, \"departure_hour\": 7, \"time_of_day\": \"AM Peak\", \"p25\": 0.5, \"p50\": 0.5, \"p75\": 0.5, \"p50_trip\": 1, \"fastest_trip\": 0, \"car_duration_hours\": 0.43, \"competitive_route\": 1, \"bus_multiplier\": 1.16, \"bus_difference\": 4.2, \"num_trips\": 14, \"num_competitive\": 14, \"pct_trips_competitive\": 1.0, \"bus_difference_spread\": 7.8, \"route_group\": \"short\", \"max_trip_hrs\": 0.63, \"max_trip_route_group\": 0.92, \"name\": \"Ventura County Transportation Commission\", \"caltrans_district\": \"07 - Los Angeles\", \"drmt_organization_name\": null, \"cutoff2\": 20, \"cutoff\": 2}, {\"calitp_itp_id\": 380, \"trip_key\": -3501895880367513749, \"trip_id\": \"t_307295_b_30295_tn_0\", \"shape_id\": \"p_178957\", \"route_id\": \"11140\", \"service_hours\": 0.5, \"trip_first_departure_ts\": 32400, \"trip_last_arrival_ts\": 34200, \"departure_hour\": 9, \"time_of_day\": \"AM Peak\", \"p25\": 0.5, \"p50\": 0.5, \"p75\": 0.5, \"p50_trip\": 1, \"fastest_trip\": 0, \"car_duration_hours\": 0.43, \"competitive_route\": 1, \"bus_multiplier\": 1.16, \"bus_difference\": 4.2, \"num_trips\": 14, \"num_competitive\": 14, \"pct_trips_competitive\": 1.0, \"bus_difference_spread\": 7.8, \"route_group\": \"short\", \"max_trip_hrs\": 0.63, \"max_trip_route_group\": 0.92, \"name\": \"Ventura County Transportation Commission\", \"caltrans_district\": \"07 - Los Angeles\", \"drmt_organization_name\": null, \"cutoff2\": 20, \"cutoff\": 2}, {\"calitp_itp_id\": 380, \"trip_key\": 549089932881538247, \"trip_id\": \"t_307299_b_30295_tn_0\", \"shape_id\": \"p_178957\", \"route_id\": \"11140\", \"service_hours\": 0.5, \"trip_first_departure_ts\": 51300, \"trip_last_arrival_ts\": 53100, \"departure_hour\": 14, \"time_of_day\": \"Midday\", \"p25\": 0.5, \"p50\": 0.5, \"p75\": 0.5, \"p50_trip\": 1, \"fastest_trip\": 0, \"car_duration_hours\": 0.43, \"competitive_route\": 1, \"bus_multiplier\": 1.16, \"bus_difference\": 4.2, \"num_trips\": 14, \"num_competitive\": 14, \"pct_trips_competitive\": 1.0, \"bus_difference_spread\": 7.8, \"route_group\": \"short\", \"max_trip_hrs\": 0.63, \"max_trip_route_group\": 0.92, \"name\": \"Ventura County Transportation Commission\", \"caltrans_district\": \"07 - Los Angeles\", \"drmt_organization_name\": null, \"cutoff2\": 20, \"cutoff\": 2}, {\"calitp_itp_id\": 380, \"trip_key\": 8488478320970216414, \"trip_id\": \"t_307301_b_30295_tn_0\", \"shape_id\": \"p_178956\", \"route_id\": \"11140\", \"service_hours\": 0.5, \"trip_first_departure_ts\": 58500, \"trip_last_arrival_ts\": 60300, \"departure_hour\": 16, \"time_of_day\": \"Midday\", \"p25\": 0.5, \"p50\": 0.5, \"p75\": 0.5, \"p50_trip\": 1, \"fastest_trip\": 0, \"car_duration_hours\": 0.43, \"competitive_route\": 1, \"bus_multiplier\": 1.16, \"bus_difference\": 4.2, \"num_trips\": 14, \"num_competitive\": 14, \"pct_trips_competitive\": 1.0, \"bus_difference_spread\": 7.8, \"route_group\": \"short\", \"max_trip_hrs\": 0.63, \"max_trip_route_group\": 0.92, \"name\": \"Ventura County Transportation Commission\", \"caltrans_district\": \"07 - Los Angeles\", \"drmt_organization_name\": null, \"cutoff2\": 20, \"cutoff\": 2}, {\"calitp_itp_id\": 380, \"trip_key\": 7986467915879191184, \"trip_id\": \"t_307304_b_30295_tn_0\", \"shape_id\": \"p_178956\", \"route_id\": \"11140\", \"service_hours\": 0.5, \"trip_first_departure_ts\": 69300, \"trip_last_arrival_ts\": 71100, \"departure_hour\": 19, \"time_of_day\": \"PM Peak\", \"p25\": 0.5, \"p50\": 0.5, \"p75\": 0.5, \"p50_trip\": 1, \"fastest_trip\": 1, \"car_duration_hours\": 0.43, \"competitive_route\": 1, \"bus_multiplier\": 1.16, \"bus_difference\": 4.2, \"num_trips\": 14, \"num_competitive\": 14, \"pct_trips_competitive\": 1.0, \"bus_difference_spread\": 7.8, \"route_group\": \"short\", \"max_trip_hrs\": 0.63, \"max_trip_route_group\": 0.92, \"name\": \"Ventura County Transportation Commission\", \"caltrans_district\": \"07 - Los Angeles\", \"drmt_organization_name\": null, \"cutoff2\": 20, \"cutoff\": 2}, {\"calitp_itp_id\": 380, \"trip_key\": 8246410718931094211, \"trip_id\": \"t_307294_b_30295_tn_0\", \"shape_id\": \"p_178957\", \"route_id\": \"11140\", \"service_hours\": 0.5, \"trip_first_departure_ts\": 30000, \"trip_last_arrival_ts\": 31800, \"departure_hour\": 8, \"time_of_day\": \"AM Peak\", \"p25\": 0.5, \"p50\": 0.5, \"p75\": 0.5, \"p50_trip\": 1, \"fastest_trip\": 0, \"car_duration_hours\": 0.43, \"competitive_route\": 1, \"bus_multiplier\": 1.16, \"bus_difference\": 4.2, \"num_trips\": 14, \"num_competitive\": 14, \"pct_trips_competitive\": 1.0, \"bus_difference_spread\": 7.8, \"route_group\": \"short\", \"max_trip_hrs\": 0.63, \"max_trip_route_group\": 0.92, \"name\": \"Ventura County Transportation Commission\", \"caltrans_district\": \"07 - Los Angeles\", \"drmt_organization_name\": null, \"cutoff2\": 20, \"cutoff\": 2}, {\"calitp_itp_id\": 380, \"trip_key\": 7863296115918132552, \"trip_id\": \"t_307296_b_30295_tn_0\", \"shape_id\": \"p_178957\", \"route_id\": \"11140\", \"service_hours\": 0.5, \"trip_first_departure_ts\": 36000, \"trip_last_arrival_ts\": 37800, \"departure_hour\": 10, \"time_of_day\": \"Midday\", \"p25\": 0.5, \"p50\": 0.5, \"p75\": 0.5, \"p50_trip\": 1, \"fastest_trip\": 0, \"car_duration_hours\": 0.43, \"competitive_route\": 1, \"bus_multiplier\": 1.16, \"bus_difference\": 4.2, \"num_trips\": 14, \"num_competitive\": 14, \"pct_trips_competitive\": 1.0, \"bus_difference_spread\": 7.8, \"route_group\": \"short\", \"max_trip_hrs\": 0.63, \"max_trip_route_group\": 0.92, \"name\": \"Ventura County Transportation Commission\", \"caltrans_district\": \"07 - Los Angeles\", \"drmt_organization_name\": null, \"cutoff2\": 20, \"cutoff\": 2}, {\"calitp_itp_id\": 380, \"trip_key\": 5105309313324600526, \"trip_id\": \"t_307290_b_30295_tn_0\", \"shape_id\": \"p_178956\", \"route_id\": \"11140\", \"service_hours\": 0.5, \"trip_first_departure_ts\": 22500, \"trip_last_arrival_ts\": 24300, \"departure_hour\": 6, \"time_of_day\": \"Owl Service\", \"p25\": 0.5, \"p50\": 0.5, \"p75\": 0.5, \"p50_trip\": 1, \"fastest_trip\": 0, \"car_duration_hours\": 0.43, \"competitive_route\": 1, \"bus_multiplier\": 1.16, \"bus_difference\": 4.2, \"num_trips\": 14, \"num_competitive\": 14, \"pct_trips_competitive\": 1.0, \"bus_difference_spread\": 7.8, \"route_group\": \"short\", \"max_trip_hrs\": 0.63, \"max_trip_route_group\": 0.92, \"name\": \"Ventura County Transportation Commission\", \"caltrans_district\": \"07 - Los Angeles\", \"drmt_organization_name\": null, \"cutoff2\": 20, \"cutoff\": 2}, {\"calitp_itp_id\": 380, \"trip_key\": -8910810402565523088, \"trip_id\": \"t_307291_b_30295_tn_0\", \"shape_id\": \"p_178958\", \"route_id\": \"11140\", \"service_hours\": 0.6, \"trip_first_departure_ts\": 24900, \"trip_last_arrival_ts\": 27060, \"departure_hour\": 6, \"time_of_day\": \"Owl Service\", \"p25\": 0.5, \"p50\": 0.5, \"p75\": 0.5, \"p50_trip\": 0, \"fastest_trip\": 0, \"car_duration_hours\": 0.43, \"competitive_route\": 1, \"bus_multiplier\": 1.4, \"bus_difference\": 10.2, \"num_trips\": 14, \"num_competitive\": 14, \"pct_trips_competitive\": 1.0, \"bus_difference_spread\": 7.8, \"route_group\": \"short\", \"max_trip_hrs\": 0.63, \"max_trip_route_group\": 0.92, \"name\": \"Ventura County Transportation Commission\", \"caltrans_district\": \"07 - Los Angeles\", \"drmt_organization_name\": null, \"cutoff2\": 20, \"cutoff\": 2}, {\"calitp_itp_id\": 380, \"trip_key\": -2653389962220752619, \"trip_id\": \"t_307300_b_30295_tn_0\", \"shape_id\": \"p_178958\", \"route_id\": \"11140\", \"service_hours\": 0.63, \"trip_first_departure_ts\": 55500, \"trip_last_arrival_ts\": 57780, \"departure_hour\": 15, \"time_of_day\": \"Midday\", \"p25\": 0.5, \"p50\": 0.5, \"p75\": 0.5, \"p50_trip\": 0, \"fastest_trip\": 0, \"car_duration_hours\": 0.43, \"competitive_route\": 1, \"bus_multiplier\": 1.47, \"bus_difference\": 12.0, \"num_trips\": 14, \"num_competitive\": 14, \"pct_trips_competitive\": 1.0, \"bus_difference_spread\": 7.8, \"route_group\": \"short\", \"max_trip_hrs\": 0.63, \"max_trip_route_group\": 0.92, \"name\": \"Ventura County Transportation Commission\", \"caltrans_district\": \"07 - Los Angeles\", \"drmt_organization_name\": null, \"cutoff2\": 20, \"cutoff\": 2}]}}, {\"mode\": \"vega-lite\"});\n",
       "</script>"
      ],
      "text/plain": [
       "alt.FacetChart(...)"
      ]
     },
     "metadata": {},
     "output_type": "display_data"
    },
    {
     "data": {
      "text/html": [
       "\n",
       "<div id=\"altair-viz-28bec1dff93f41768632804f9184ee2a\"></div>\n",
       "<script type=\"text/javascript\">\n",
       "  var VEGA_DEBUG = (typeof VEGA_DEBUG == \"undefined\") ? {} : VEGA_DEBUG;\n",
       "  (function(spec, embedOpt){\n",
       "    let outputDiv = document.currentScript.previousElementSibling;\n",
       "    if (outputDiv.id !== \"altair-viz-28bec1dff93f41768632804f9184ee2a\") {\n",
       "      outputDiv = document.getElementById(\"altair-viz-28bec1dff93f41768632804f9184ee2a\");\n",
       "    }\n",
       "    const paths = {\n",
       "      \"vega\": \"https://cdn.jsdelivr.net/npm//vega@5?noext\",\n",
       "      \"vega-lib\": \"https://cdn.jsdelivr.net/npm//vega-lib?noext\",\n",
       "      \"vega-lite\": \"https://cdn.jsdelivr.net/npm//vega-lite@4.17.0?noext\",\n",
       "      \"vega-embed\": \"https://cdn.jsdelivr.net/npm//vega-embed@6?noext\",\n",
       "    };\n",
       "\n",
       "    function maybeLoadScript(lib, version) {\n",
       "      var key = `${lib.replace(\"-\", \"\")}_version`;\n",
       "      return (VEGA_DEBUG[key] == version) ?\n",
       "        Promise.resolve(paths[lib]) :\n",
       "        new Promise(function(resolve, reject) {\n",
       "          var s = document.createElement('script');\n",
       "          document.getElementsByTagName(\"head\")[0].appendChild(s);\n",
       "          s.async = true;\n",
       "          s.onload = () => {\n",
       "            VEGA_DEBUG[key] = version;\n",
       "            return resolve(paths[lib]);\n",
       "          };\n",
       "          s.onerror = () => reject(`Error loading script: ${paths[lib]}`);\n",
       "          s.src = paths[lib];\n",
       "        });\n",
       "    }\n",
       "\n",
       "    function showError(err) {\n",
       "      outputDiv.innerHTML = `<div class=\"error\" style=\"color:red;\">${err}</div>`;\n",
       "      throw err;\n",
       "    }\n",
       "\n",
       "    function displayChart(vegaEmbed) {\n",
       "      vegaEmbed(outputDiv, spec, embedOpt)\n",
       "        .catch(err => showError(`Javascript Error: ${err.message}<br>This usually means there's a typo in your chart specification. See the javascript console for the full traceback.`));\n",
       "    }\n",
       "\n",
       "    if(typeof define === \"function\" && define.amd) {\n",
       "      requirejs.config({paths});\n",
       "      require([\"vega-embed\"], displayChart, err => showError(`Error loading script: ${err.message}`));\n",
       "    } else {\n",
       "      maybeLoadScript(\"vega\", \"5\")\n",
       "        .then(() => maybeLoadScript(\"vega-lite\", \"4.17.0\"))\n",
       "        .then(() => maybeLoadScript(\"vega-embed\", \"6\"))\n",
       "        .catch(showError)\n",
       "        .then(() => displayChart(vegaEmbed));\n",
       "    }\n",
       "  })({\"config\": {\"view\": {\"continuousWidth\": 400, \"continuousHeight\": 300, \"stroke\": null}, \"facet\": {\"spacing\": 0}}, \"data\": {\"name\": \"data-c9e86ae2334cc6de235c5cf96ca99bd0\"}, \"facet\": {\"column\": {\"field\": \"route_id\", \"sort\": [\"11140\", \"11139\", \"11103\", \"11102\"], \"title\": \"Route ID\", \"type\": \"nominal\"}}, \"spec\": {\"layer\": [{\"mark\": \"rule\", \"encoding\": {\"color\": {\"value\": \"black\"}, \"y\": {\"field\": \"cutoff\", \"type\": \"quantitative\"}}, \"selection\": {\"selector002\": {\"type\": \"interval\", \"bind\": \"scales\", \"encodings\": [\"x\", \"y\"]}}}, {\"mark\": {\"type\": \"rule\", \"strokeDash\": [3, 3]}, \"encoding\": {\"color\": {\"value\": \"#323434\"}, \"y\": {\"field\": \"cutoff2\", \"type\": \"quantitative\"}}}, {\"mark\": {\"type\": \"point\", \"opacity\": 0.65, \"size\": 12, \"strokeWidth\": 1.1}, \"encoding\": {\"color\": {\"field\": \"time_of_day\", \"scale\": {\"range\": [\"#136C97\", \"#E16B26\", \"#F6BF16\", \"#00896B\", \"#7790A3\", \"#5B559C\"]}, \"sort\": [\"AM Peak\", \"Midday\", \"PM Peak\", \"Owl Service\"], \"title\": \"Time of Day\", \"type\": \"nominal\"}, \"tooltip\": [{\"field\": \"route_id\", \"type\": \"nominal\"}, {\"field\": \"trip_id\", \"type\": \"nominal\"}, {\"field\": \"service_hours\", \"type\": \"quantitative\"}, {\"field\": \"car_duration_hours\", \"type\": \"quantitative\"}, {\"field\": \"bus_multiplier\", \"type\": \"quantitative\"}, {\"field\": \"bus_difference\", \"type\": \"quantitative\"}, {\"field\": \"num_trips\", \"type\": \"quantitative\"}, {\"field\": \"num_competitive\", \"type\": \"quantitative\"}, {\"field\": \"pct_trips_competitive\", \"type\": \"quantitative\"}, {\"field\": \"p25\", \"type\": \"quantitative\"}, {\"field\": \"p50\", \"type\": \"quantitative\"}, {\"field\": \"p75\", \"type\": \"quantitative\"}], \"x\": {\"axis\": {\"grid\": false, \"labels\": false, \"ticks\": true, \"values\": [0]}, \"field\": \"jitter\", \"scale\": {}, \"title\": null, \"type\": \"quantitative\"}, \"y\": {\"field\": \"bus_difference\", \"scale\": {\"domain\": [-5, 59.4]}, \"title\": \"Difference in Bus to Car Travel Time (min)\", \"type\": \"quantitative\"}}, \"transform\": [{\"calculate\": \"sqrt(-2*log(random()))*cos(2*PI*random())\", \"as\": \"jitter\"}], \"width\": 50}, {\"layer\": [{\"mark\": {\"type\": \"point\", \"opacity\": 0.6, \"size\": 20, \"strokeWidth\": 1.3}, \"encoding\": {\"color\": {\"value\": \"#323434\"}, \"y\": {\"field\": \"bus_difference\", \"type\": \"quantitative\"}}, \"transform\": [{\"filter\": \"(datum.p50_trip === 1)\"}]}, {\"mark\": {\"type\": \"text\", \"align\": \"center\", \"baseline\": \"middle\"}, \"encoding\": {\"color\": {\"value\": \"black\"}, \"text\": {\"field\": \"pct_trips_competitive\", \"format\": \".0%\", \"type\": \"quantitative\"}, \"tooltip\": [{\"field\": \"route_id\", \"type\": \"nominal\"}, {\"field\": \"trip_id\", \"type\": \"nominal\"}, {\"field\": \"service_hours\", \"type\": \"quantitative\"}, {\"field\": \"car_duration_hours\", \"type\": \"quantitative\"}, {\"field\": \"bus_multiplier\", \"type\": \"quantitative\"}, {\"field\": \"bus_difference\", \"type\": \"quantitative\"}, {\"field\": \"num_trips\", \"type\": \"quantitative\"}, {\"field\": \"num_competitive\", \"type\": \"quantitative\"}, {\"field\": \"pct_trips_competitive\", \"type\": \"quantitative\"}, {\"field\": \"p25\", \"type\": \"quantitative\"}, {\"field\": \"p50\", \"type\": \"quantitative\"}, {\"field\": \"p75\", \"type\": \"quantitative\"}], \"x\": {\"value\": 30}, \"y\": {\"value\": 15}}, \"transform\": [{\"calculate\": \"sqrt(-2*log(random()))*cos(2*PI*random())\", \"as\": \"jitter\"}, {\"filter\": \"(datum.fastest_trip === 1)\"}]}]}]}, \"resolve\": {\"scale\": {\"y\": \"shared\"}}, \"title\": \"Difference in Bus to Car Travel Time (min)\", \"$schema\": \"https://vega.github.io/schema/vega-lite/v4.17.0.json\", \"datasets\": {\"data-c9e86ae2334cc6de235c5cf96ca99bd0\": [{\"calitp_itp_id\": 380, \"trip_key\": 2872704287986575954, \"trip_id\": \"t_297950_b_30295_tn_0\", \"shape_id\": \"p_178758\", \"route_id\": \"11102\", \"service_hours\": 0.5, \"trip_first_departure_ts\": 51900, \"trip_last_arrival_ts\": 53700, \"departure_hour\": 14, \"time_of_day\": \"Midday\", \"p25\": 0.5, \"p50\": 0.5, \"p75\": 0.5, \"p50_trip\": 1, \"fastest_trip\": 1, \"car_duration_hours\": 0.38, \"competitive_route\": 1, \"bus_multiplier\": 1.32, \"bus_difference\": 7.2, \"num_trips\": 3, \"num_competitive\": 3, \"pct_trips_competitive\": 1.0, \"bus_difference_spread\": 0.0, \"route_group\": \"short\", \"max_trip_hrs\": 0.5, \"max_trip_route_group\": 0.92, \"name\": \"Ventura County Transportation Commission\", \"caltrans_district\": \"07 - Los Angeles\", \"drmt_organization_name\": null, \"cutoff2\": 20, \"cutoff\": 0}, {\"calitp_itp_id\": 380, \"trip_key\": -1794597154988842769, \"trip_id\": \"t_297949_b_30295_tn_0\", \"shape_id\": \"p_178758\", \"route_id\": \"11102\", \"service_hours\": 0.5, \"trip_first_departure_ts\": 31140, \"trip_last_arrival_ts\": 32940, \"departure_hour\": 8, \"time_of_day\": \"AM Peak\", \"p25\": 0.5, \"p50\": 0.5, \"p75\": 0.5, \"p50_trip\": 1, \"fastest_trip\": 0, \"car_duration_hours\": 0.38, \"competitive_route\": 1, \"bus_multiplier\": 1.32, \"bus_difference\": 7.2, \"num_trips\": 3, \"num_competitive\": 3, \"pct_trips_competitive\": 1.0, \"bus_difference_spread\": 0.0, \"route_group\": \"short\", \"max_trip_hrs\": 0.5, \"max_trip_route_group\": 0.92, \"name\": \"Ventura County Transportation Commission\", \"caltrans_district\": \"07 - Los Angeles\", \"drmt_organization_name\": null, \"cutoff2\": 20, \"cutoff\": 0}, {\"calitp_itp_id\": 380, \"trip_key\": 1704114464114318887, \"trip_id\": \"t_297948_b_30295_tn_0\", \"shape_id\": \"p_178758\", \"route_id\": \"11102\", \"service_hours\": 0.5, \"trip_first_departure_ts\": 28200, \"trip_last_arrival_ts\": 30000, \"departure_hour\": 7, \"time_of_day\": \"AM Peak\", \"p25\": 0.5, \"p50\": 0.5, \"p75\": 0.5, \"p50_trip\": 1, \"fastest_trip\": 0, \"car_duration_hours\": 0.38, \"competitive_route\": 1, \"bus_multiplier\": 1.32, \"bus_difference\": 7.2, \"num_trips\": 3, \"num_competitive\": 3, \"pct_trips_competitive\": 1.0, \"bus_difference_spread\": 0.0, \"route_group\": \"short\", \"max_trip_hrs\": 0.5, \"max_trip_route_group\": 0.92, \"name\": \"Ventura County Transportation Commission\", \"caltrans_district\": \"07 - Los Angeles\", \"drmt_organization_name\": null, \"cutoff2\": 20, \"cutoff\": 0}, {\"calitp_itp_id\": 380, \"trip_key\": 8040552062176262404, \"trip_id\": \"t_298076_b_30295_tn_0\", \"shape_id\": \"p_178760\", \"route_id\": \"11103\", \"service_hours\": 0.5, \"trip_first_departure_ts\": 25680, \"trip_last_arrival_ts\": 27480, \"departure_hour\": 7, \"time_of_day\": \"AM Peak\", \"p25\": 0.5, \"p50\": 0.51, \"p75\": 0.5275000000000001, \"p50_trip\": 1, \"fastest_trip\": 1, \"car_duration_hours\": 0.32, \"competitive_route\": 1, \"bus_multiplier\": 1.56, \"bus_difference\": 10.8, \"num_trips\": 4, \"num_competitive\": 4, \"pct_trips_competitive\": 1.0, \"bus_difference_spread\": 3.0, \"route_group\": \"short\", \"max_trip_hrs\": 0.55, \"max_trip_route_group\": 0.92, \"name\": \"Ventura County Transportation Commission\", \"caltrans_district\": \"07 - Los Angeles\", \"drmt_organization_name\": null, \"cutoff2\": 20, \"cutoff\": 0}, {\"calitp_itp_id\": 380, \"trip_key\": -5467974047879099779, \"trip_id\": \"t_298075_b_30295_tn_0\", \"shape_id\": \"p_178760\", \"route_id\": \"11103\", \"service_hours\": 0.5, \"trip_first_departure_ts\": 23460, \"trip_last_arrival_ts\": 25260, \"departure_hour\": 6, \"time_of_day\": \"Owl Service\", \"p25\": 0.5, \"p50\": 0.51, \"p75\": 0.5275000000000001, \"p50_trip\": 1, \"fastest_trip\": 0, \"car_duration_hours\": 0.32, \"competitive_route\": 1, \"bus_multiplier\": 1.56, \"bus_difference\": 10.8, \"num_trips\": 4, \"num_competitive\": 4, \"pct_trips_competitive\": 1.0, \"bus_difference_spread\": 3.0, \"route_group\": \"short\", \"max_trip_hrs\": 0.55, \"max_trip_route_group\": 0.92, \"name\": \"Ventura County Transportation Commission\", \"caltrans_district\": \"07 - Los Angeles\", \"drmt_organization_name\": null, \"cutoff2\": 20, \"cutoff\": 0}, {\"calitp_itp_id\": 380, \"trip_key\": -5901345971159908292, \"trip_id\": \"t_298077_b_30295_tn_0\", \"shape_id\": \"p_178760\", \"route_id\": \"11103\", \"service_hours\": 0.52, \"trip_first_departure_ts\": 33300, \"trip_last_arrival_ts\": 35160, \"departure_hour\": 9, \"time_of_day\": \"AM Peak\", \"p25\": 0.5, \"p50\": 0.51, \"p75\": 0.5275000000000001, \"p50_trip\": 1, \"fastest_trip\": 0, \"car_duration_hours\": 0.32, \"competitive_route\": 1, \"bus_multiplier\": 1.62, \"bus_difference\": 12.0, \"num_trips\": 4, \"num_competitive\": 4, \"pct_trips_competitive\": 1.0, \"bus_difference_spread\": 3.0, \"route_group\": \"short\", \"max_trip_hrs\": 0.55, \"max_trip_route_group\": 0.92, \"name\": \"Ventura County Transportation Commission\", \"caltrans_district\": \"07 - Los Angeles\", \"drmt_organization_name\": null, \"cutoff2\": 20, \"cutoff\": 0}, {\"calitp_itp_id\": 380, \"trip_key\": -471785971279718991, \"trip_id\": \"t_298078_b_30295_tn_0\", \"shape_id\": \"p_178760\", \"route_id\": \"11103\", \"service_hours\": 0.55, \"trip_first_departure_ts\": 37140, \"trip_last_arrival_ts\": 39120, \"departure_hour\": 10, \"time_of_day\": \"Midday\", \"p25\": 0.5, \"p50\": 0.51, \"p75\": 0.5275000000000001, \"p50_trip\": 0, \"fastest_trip\": 0, \"car_duration_hours\": 0.32, \"competitive_route\": 1, \"bus_multiplier\": 1.72, \"bus_difference\": 13.8, \"num_trips\": 4, \"num_competitive\": 4, \"pct_trips_competitive\": 1.0, \"bus_difference_spread\": 3.0, \"route_group\": \"short\", \"max_trip_hrs\": 0.55, \"max_trip_route_group\": 0.92, \"name\": \"Ventura County Transportation Commission\", \"caltrans_district\": \"07 - Los Angeles\", \"drmt_organization_name\": null, \"cutoff2\": 20, \"cutoff\": 0}, {\"calitp_itp_id\": 380, \"trip_key\": 6047442871500869582, \"trip_id\": \"t_307282_b_30295_tn_0\", \"shape_id\": \"p_178954\", \"route_id\": \"11139\", \"service_hours\": 0.33, \"trip_first_departure_ts\": 28500, \"trip_last_arrival_ts\": 29700, \"departure_hour\": 7, \"time_of_day\": \"AM Peak\", \"p25\": 0.33, \"p50\": 0.37, \"p75\": 0.37, \"p50_trip\": 0, \"fastest_trip\": 0, \"car_duration_hours\": 0.29, \"competitive_route\": 1, \"bus_multiplier\": 1.14, \"bus_difference\": 2.4, \"num_trips\": 11, \"num_competitive\": 11, \"pct_trips_competitive\": 1.0, \"bus_difference_spread\": 2.4, \"route_group\": \"short\", \"max_trip_hrs\": 0.37, \"max_trip_route_group\": 0.92, \"name\": \"Ventura County Transportation Commission\", \"caltrans_district\": \"07 - Los Angeles\", \"drmt_organization_name\": null, \"cutoff2\": 20, \"cutoff\": 0}, {\"calitp_itp_id\": 380, \"trip_key\": 7482431734771432811, \"trip_id\": \"t_307278_b_30295_tn_0\", \"shape_id\": \"p_178952\", \"route_id\": \"11139\", \"service_hours\": 0.33, \"trip_first_departure_ts\": 25500, \"trip_last_arrival_ts\": 26700, \"departure_hour\": 7, \"time_of_day\": \"AM Peak\", \"p25\": 0.33, \"p50\": 0.37, \"p75\": 0.37, \"p50_trip\": 0, \"fastest_trip\": 0, \"car_duration_hours\": 0.29, \"competitive_route\": 1, \"bus_multiplier\": 1.14, \"bus_difference\": 2.4, \"num_trips\": 11, \"num_competitive\": 11, \"pct_trips_competitive\": 1.0, \"bus_difference_spread\": 2.4, \"route_group\": \"short\", \"max_trip_hrs\": 0.37, \"max_trip_route_group\": 0.92, \"name\": \"Ventura County Transportation Commission\", \"caltrans_district\": \"07 - Los Angeles\", \"drmt_organization_name\": null, \"cutoff2\": 20, \"cutoff\": 0}, {\"calitp_itp_id\": 380, \"trip_key\": -3460051913666472011, \"trip_id\": \"t_307279_b_30295_tn_0\", \"shape_id\": \"p_178952\", \"route_id\": \"11139\", \"service_hours\": 0.33, \"trip_first_departure_ts\": 49200, \"trip_last_arrival_ts\": 50400, \"departure_hour\": 13, \"time_of_day\": \"Midday\", \"p25\": 0.33, \"p50\": 0.37, \"p75\": 0.37, \"p50_trip\": 0, \"fastest_trip\": 0, \"car_duration_hours\": 0.29, \"competitive_route\": 1, \"bus_multiplier\": 1.14, \"bus_difference\": 2.4, \"num_trips\": 11, \"num_competitive\": 11, \"pct_trips_competitive\": 1.0, \"bus_difference_spread\": 2.4, \"route_group\": \"short\", \"max_trip_hrs\": 0.37, \"max_trip_route_group\": 0.92, \"name\": \"Ventura County Transportation Commission\", \"caltrans_district\": \"07 - Los Angeles\", \"drmt_organization_name\": null, \"cutoff2\": 20, \"cutoff\": 0}, {\"calitp_itp_id\": 380, \"trip_key\": 7070557894075735759, \"trip_id\": \"t_307288_b_30295_tn_0\", \"shape_id\": \"p_178954\", \"route_id\": \"11139\", \"service_hours\": 0.33, \"trip_first_departure_ts\": 52800, \"trip_last_arrival_ts\": 54000, \"departure_hour\": 14, \"time_of_day\": \"Midday\", \"p25\": 0.33, \"p50\": 0.37, \"p75\": 0.37, \"p50_trip\": 0, \"fastest_trip\": 1, \"car_duration_hours\": 0.29, \"competitive_route\": 1, \"bus_multiplier\": 1.14, \"bus_difference\": 2.4, \"num_trips\": 11, \"num_competitive\": 11, \"pct_trips_competitive\": 1.0, \"bus_difference_spread\": 2.4, \"route_group\": \"short\", \"max_trip_hrs\": 0.37, \"max_trip_route_group\": 0.92, \"name\": \"Ventura County Transportation Commission\", \"caltrans_district\": \"07 - Los Angeles\", \"drmt_organization_name\": null, \"cutoff2\": 20, \"cutoff\": 0}, {\"calitp_itp_id\": 380, \"trip_key\": 4508689171225940194, \"trip_id\": \"t_307280_b_30295_tn_0\", \"shape_id\": \"p_178953\", \"route_id\": \"11139\", \"service_hours\": 0.37, \"trip_first_departure_ts\": 27000, \"trip_last_arrival_ts\": 28320, \"departure_hour\": 7, \"time_of_day\": \"AM Peak\", \"p25\": 0.33, \"p50\": 0.37, \"p75\": 0.37, \"p50_trip\": 1, \"fastest_trip\": 0, \"car_duration_hours\": 0.29, \"competitive_route\": 1, \"bus_multiplier\": 1.28, \"bus_difference\": 4.8, \"num_trips\": 11, \"num_competitive\": 11, \"pct_trips_competitive\": 1.0, \"bus_difference_spread\": 2.4, \"route_group\": \"short\", \"max_trip_hrs\": 0.37, \"max_trip_route_group\": 0.92, \"name\": \"Ventura County Transportation Commission\", \"caltrans_district\": \"07 - Los Angeles\", \"drmt_organization_name\": null, \"cutoff2\": 20, \"cutoff\": 0}, {\"calitp_itp_id\": 380, \"trip_key\": 4200609986028506125, \"trip_id\": \"t_307285_b_30295_tn_0\", \"shape_id\": \"p_178955\", \"route_id\": \"11139\", \"service_hours\": 0.37, \"trip_first_departure_ts\": 43500, \"trip_last_arrival_ts\": 44820, \"departure_hour\": 12, \"time_of_day\": \"Midday\", \"p25\": 0.33, \"p50\": 0.37, \"p75\": 0.37, \"p50_trip\": 1, \"fastest_trip\": 0, \"car_duration_hours\": 0.29, \"competitive_route\": 1, \"bus_multiplier\": 1.28, \"bus_difference\": 4.8, \"num_trips\": 11, \"num_competitive\": 11, \"pct_trips_competitive\": 1.0, \"bus_difference_spread\": 2.4, \"route_group\": \"short\", \"max_trip_hrs\": 0.37, \"max_trip_route_group\": 0.92, \"name\": \"Ventura County Transportation Commission\", \"caltrans_district\": \"07 - Los Angeles\", \"drmt_organization_name\": null, \"cutoff2\": 20, \"cutoff\": 0}, {\"calitp_itp_id\": 380, \"trip_key\": 7876117558541659199, \"trip_id\": \"t_307287_b_30295_tn_0\", \"shape_id\": \"p_178953\", \"route_id\": \"11139\", \"service_hours\": 0.37, \"trip_first_departure_ts\": 51000, \"trip_last_arrival_ts\": 52320, \"departure_hour\": 14, \"time_of_day\": \"Midday\", \"p25\": 0.33, \"p50\": 0.37, \"p75\": 0.37, \"p50_trip\": 1, \"fastest_trip\": 0, \"car_duration_hours\": 0.29, \"competitive_route\": 1, \"bus_multiplier\": 1.28, \"bus_difference\": 4.8, \"num_trips\": 11, \"num_competitive\": 11, \"pct_trips_competitive\": 1.0, \"bus_difference_spread\": 2.4, \"route_group\": \"short\", \"max_trip_hrs\": 0.37, \"max_trip_route_group\": 0.92, \"name\": \"Ventura County Transportation Commission\", \"caltrans_district\": \"07 - Los Angeles\", \"drmt_organization_name\": null, \"cutoff2\": 20, \"cutoff\": 0}, {\"calitp_itp_id\": 380, \"trip_key\": -8936707200309142372, \"trip_id\": \"t_307284_b_30295_tn_0\", \"shape_id\": \"p_178955\", \"route_id\": \"11139\", \"service_hours\": 0.37, \"trip_first_departure_ts\": 36900, \"trip_last_arrival_ts\": 38220, \"departure_hour\": 10, \"time_of_day\": \"Midday\", \"p25\": 0.33, \"p50\": 0.37, \"p75\": 0.37, \"p50_trip\": 1, \"fastest_trip\": 0, \"car_duration_hours\": 0.29, \"competitive_route\": 1, \"bus_multiplier\": 1.28, \"bus_difference\": 4.8, \"num_trips\": 11, \"num_competitive\": 11, \"pct_trips_competitive\": 1.0, \"bus_difference_spread\": 2.4, \"route_group\": \"short\", \"max_trip_hrs\": 0.37, \"max_trip_route_group\": 0.92, \"name\": \"Ventura County Transportation Commission\", \"caltrans_district\": \"07 - Los Angeles\", \"drmt_organization_name\": null, \"cutoff2\": 20, \"cutoff\": 0}, {\"calitp_itp_id\": 380, \"trip_key\": -6003544487301739559, \"trip_id\": \"t_307281_b_30295_tn_0\", \"shape_id\": \"p_178953\", \"route_id\": \"11139\", \"service_hours\": 0.37, \"trip_first_departure_ts\": 54600, \"trip_last_arrival_ts\": 55920, \"departure_hour\": 15, \"time_of_day\": \"Midday\", \"p25\": 0.33, \"p50\": 0.37, \"p75\": 0.37, \"p50_trip\": 1, \"fastest_trip\": 0, \"car_duration_hours\": 0.29, \"competitive_route\": 1, \"bus_multiplier\": 1.28, \"bus_difference\": 4.8, \"num_trips\": 11, \"num_competitive\": 11, \"pct_trips_competitive\": 1.0, \"bus_difference_spread\": 2.4, \"route_group\": \"short\", \"max_trip_hrs\": 0.37, \"max_trip_route_group\": 0.92, \"name\": \"Ventura County Transportation Commission\", \"caltrans_district\": \"07 - Los Angeles\", \"drmt_organization_name\": null, \"cutoff2\": 20, \"cutoff\": 0}, {\"calitp_itp_id\": 380, \"trip_key\": -7155707871353330728, \"trip_id\": \"t_307283_b_30295_tn_0\", \"shape_id\": \"p_178953\", \"route_id\": \"11139\", \"service_hours\": 0.37, \"trip_first_departure_ts\": 30000, \"trip_last_arrival_ts\": 31320, \"departure_hour\": 8, \"time_of_day\": \"AM Peak\", \"p25\": 0.33, \"p50\": 0.37, \"p75\": 0.37, \"p50_trip\": 1, \"fastest_trip\": 0, \"car_duration_hours\": 0.29, \"competitive_route\": 1, \"bus_multiplier\": 1.28, \"bus_difference\": 4.8, \"num_trips\": 11, \"num_competitive\": 11, \"pct_trips_competitive\": 1.0, \"bus_difference_spread\": 2.4, \"route_group\": \"short\", \"max_trip_hrs\": 0.37, \"max_trip_route_group\": 0.92, \"name\": \"Ventura County Transportation Commission\", \"caltrans_district\": \"07 - Los Angeles\", \"drmt_organization_name\": null, \"cutoff2\": 20, \"cutoff\": 0}, {\"calitp_itp_id\": 380, \"trip_key\": -2602595746946625154, \"trip_id\": \"t_307286_b_30295_tn_0\", \"shape_id\": \"p_178955\", \"route_id\": \"11139\", \"service_hours\": 0.37, \"trip_first_departure_ts\": 58500, \"trip_last_arrival_ts\": 59820, \"departure_hour\": 16, \"time_of_day\": \"Midday\", \"p25\": 0.33, \"p50\": 0.37, \"p75\": 0.37, \"p50_trip\": 1, \"fastest_trip\": 0, \"car_duration_hours\": 0.29, \"competitive_route\": 1, \"bus_multiplier\": 1.28, \"bus_difference\": 4.8, \"num_trips\": 11, \"num_competitive\": 11, \"pct_trips_competitive\": 1.0, \"bus_difference_spread\": 2.4, \"route_group\": \"short\", \"max_trip_hrs\": 0.37, \"max_trip_route_group\": 0.92, \"name\": \"Ventura County Transportation Commission\", \"caltrans_district\": \"07 - Los Angeles\", \"drmt_organization_name\": null, \"cutoff2\": 20, \"cutoff\": 0}, {\"calitp_itp_id\": 380, \"trip_key\": -3477482100020460775, \"trip_id\": \"t_307302_b_30295_tn_0\", \"shape_id\": \"p_178957\", \"route_id\": \"11140\", \"service_hours\": 0.5, \"trip_first_departure_ts\": 60900, \"trip_last_arrival_ts\": 62700, \"departure_hour\": 16, \"time_of_day\": \"Midday\", \"p25\": 0.5, \"p50\": 0.5, \"p75\": 0.5, \"p50_trip\": 1, \"fastest_trip\": 0, \"car_duration_hours\": 0.43, \"competitive_route\": 1, \"bus_multiplier\": 1.16, \"bus_difference\": 4.2, \"num_trips\": 14, \"num_competitive\": 14, \"pct_trips_competitive\": 1.0, \"bus_difference_spread\": 7.8, \"route_group\": \"short\", \"max_trip_hrs\": 0.63, \"max_trip_route_group\": 0.92, \"name\": \"Ventura County Transportation Commission\", \"caltrans_district\": \"07 - Los Angeles\", \"drmt_organization_name\": null, \"cutoff2\": 20, \"cutoff\": 0}, {\"calitp_itp_id\": 380, \"trip_key\": 5998133417845239126, \"trip_id\": \"t_307298_b_30295_tn_0\", \"shape_id\": \"p_178956\", \"route_id\": \"11140\", \"service_hours\": 0.5, \"trip_first_departure_ts\": 47100, \"trip_last_arrival_ts\": 48900, \"departure_hour\": 13, \"time_of_day\": \"Midday\", \"p25\": 0.5, \"p50\": 0.5, \"p75\": 0.5, \"p50_trip\": 1, \"fastest_trip\": 0, \"car_duration_hours\": 0.43, \"competitive_route\": 1, \"bus_multiplier\": 1.16, \"bus_difference\": 4.2, \"num_trips\": 14, \"num_competitive\": 14, \"pct_trips_competitive\": 1.0, \"bus_difference_spread\": 7.8, \"route_group\": \"short\", \"max_trip_hrs\": 0.63, \"max_trip_route_group\": 0.92, \"name\": \"Ventura County Transportation Commission\", \"caltrans_district\": \"07 - Los Angeles\", \"drmt_organization_name\": null, \"cutoff2\": 20, \"cutoff\": 0}, {\"calitp_itp_id\": 380, \"trip_key\": 8379173051858602009, \"trip_id\": \"t_307303_b_30295_tn_0\", \"shape_id\": \"p_178957\", \"route_id\": \"11140\", \"service_hours\": 0.5, \"trip_first_departure_ts\": 63000, \"trip_last_arrival_ts\": 64800, \"departure_hour\": 17, \"time_of_day\": \"PM Peak\", \"p25\": 0.5, \"p50\": 0.5, \"p75\": 0.5, \"p50_trip\": 1, \"fastest_trip\": 0, \"car_duration_hours\": 0.43, \"competitive_route\": 1, \"bus_multiplier\": 1.16, \"bus_difference\": 4.2, \"num_trips\": 14, \"num_competitive\": 14, \"pct_trips_competitive\": 1.0, \"bus_difference_spread\": 7.8, \"route_group\": \"short\", \"max_trip_hrs\": 0.63, \"max_trip_route_group\": 0.92, \"name\": \"Ventura County Transportation Commission\", \"caltrans_district\": \"07 - Los Angeles\", \"drmt_organization_name\": null, \"cutoff2\": 20, \"cutoff\": 0}, {\"calitp_itp_id\": 380, \"trip_key\": -999493374566243572, \"trip_id\": \"t_307297_b_30295_tn_0\", \"shape_id\": \"p_178957\", \"route_id\": \"11140\", \"service_hours\": 0.5, \"trip_first_departure_ts\": 40200, \"trip_last_arrival_ts\": 42000, \"departure_hour\": 11, \"time_of_day\": \"Midday\", \"p25\": 0.5, \"p50\": 0.5, \"p75\": 0.5, \"p50_trip\": 1, \"fastest_trip\": 0, \"car_duration_hours\": 0.43, \"competitive_route\": 1, \"bus_multiplier\": 1.16, \"bus_difference\": 4.2, \"num_trips\": 14, \"num_competitive\": 14, \"pct_trips_competitive\": 1.0, \"bus_difference_spread\": 7.8, \"route_group\": \"short\", \"max_trip_hrs\": 0.63, \"max_trip_route_group\": 0.92, \"name\": \"Ventura County Transportation Commission\", \"caltrans_district\": \"07 - Los Angeles\", \"drmt_organization_name\": null, \"cutoff2\": 20, \"cutoff\": 0}, {\"calitp_itp_id\": 380, \"trip_key\": 4887046062152755978, \"trip_id\": \"t_307293_b_30295_tn_0\", \"shape_id\": \"p_178957\", \"route_id\": \"11140\", \"service_hours\": 0.5, \"trip_first_departure_ts\": 27900, \"trip_last_arrival_ts\": 29700, \"departure_hour\": 7, \"time_of_day\": \"AM Peak\", \"p25\": 0.5, \"p50\": 0.5, \"p75\": 0.5, \"p50_trip\": 1, \"fastest_trip\": 0, \"car_duration_hours\": 0.43, \"competitive_route\": 1, \"bus_multiplier\": 1.16, \"bus_difference\": 4.2, \"num_trips\": 14, \"num_competitive\": 14, \"pct_trips_competitive\": 1.0, \"bus_difference_spread\": 7.8, \"route_group\": \"short\", \"max_trip_hrs\": 0.63, \"max_trip_route_group\": 0.92, \"name\": \"Ventura County Transportation Commission\", \"caltrans_district\": \"07 - Los Angeles\", \"drmt_organization_name\": null, \"cutoff2\": 20, \"cutoff\": 0}, {\"calitp_itp_id\": 380, \"trip_key\": -3501895880367513749, \"trip_id\": \"t_307295_b_30295_tn_0\", \"shape_id\": \"p_178957\", \"route_id\": \"11140\", \"service_hours\": 0.5, \"trip_first_departure_ts\": 32400, \"trip_last_arrival_ts\": 34200, \"departure_hour\": 9, \"time_of_day\": \"AM Peak\", \"p25\": 0.5, \"p50\": 0.5, \"p75\": 0.5, \"p50_trip\": 1, \"fastest_trip\": 0, \"car_duration_hours\": 0.43, \"competitive_route\": 1, \"bus_multiplier\": 1.16, \"bus_difference\": 4.2, \"num_trips\": 14, \"num_competitive\": 14, \"pct_trips_competitive\": 1.0, \"bus_difference_spread\": 7.8, \"route_group\": \"short\", \"max_trip_hrs\": 0.63, \"max_trip_route_group\": 0.92, \"name\": \"Ventura County Transportation Commission\", \"caltrans_district\": \"07 - Los Angeles\", \"drmt_organization_name\": null, \"cutoff2\": 20, \"cutoff\": 0}, {\"calitp_itp_id\": 380, \"trip_key\": 549089932881538247, \"trip_id\": \"t_307299_b_30295_tn_0\", \"shape_id\": \"p_178957\", \"route_id\": \"11140\", \"service_hours\": 0.5, \"trip_first_departure_ts\": 51300, \"trip_last_arrival_ts\": 53100, \"departure_hour\": 14, \"time_of_day\": \"Midday\", \"p25\": 0.5, \"p50\": 0.5, \"p75\": 0.5, \"p50_trip\": 1, \"fastest_trip\": 0, \"car_duration_hours\": 0.43, \"competitive_route\": 1, \"bus_multiplier\": 1.16, \"bus_difference\": 4.2, \"num_trips\": 14, \"num_competitive\": 14, \"pct_trips_competitive\": 1.0, \"bus_difference_spread\": 7.8, \"route_group\": \"short\", \"max_trip_hrs\": 0.63, \"max_trip_route_group\": 0.92, \"name\": \"Ventura County Transportation Commission\", \"caltrans_district\": \"07 - Los Angeles\", \"drmt_organization_name\": null, \"cutoff2\": 20, \"cutoff\": 0}, {\"calitp_itp_id\": 380, \"trip_key\": 8488478320970216414, \"trip_id\": \"t_307301_b_30295_tn_0\", \"shape_id\": \"p_178956\", \"route_id\": \"11140\", \"service_hours\": 0.5, \"trip_first_departure_ts\": 58500, \"trip_last_arrival_ts\": 60300, \"departure_hour\": 16, \"time_of_day\": \"Midday\", \"p25\": 0.5, \"p50\": 0.5, \"p75\": 0.5, \"p50_trip\": 1, \"fastest_trip\": 0, \"car_duration_hours\": 0.43, \"competitive_route\": 1, \"bus_multiplier\": 1.16, \"bus_difference\": 4.2, \"num_trips\": 14, \"num_competitive\": 14, \"pct_trips_competitive\": 1.0, \"bus_difference_spread\": 7.8, \"route_group\": \"short\", \"max_trip_hrs\": 0.63, \"max_trip_route_group\": 0.92, \"name\": \"Ventura County Transportation Commission\", \"caltrans_district\": \"07 - Los Angeles\", \"drmt_organization_name\": null, \"cutoff2\": 20, \"cutoff\": 0}, {\"calitp_itp_id\": 380, \"trip_key\": 7986467915879191184, \"trip_id\": \"t_307304_b_30295_tn_0\", \"shape_id\": \"p_178956\", \"route_id\": \"11140\", \"service_hours\": 0.5, \"trip_first_departure_ts\": 69300, \"trip_last_arrival_ts\": 71100, \"departure_hour\": 19, \"time_of_day\": \"PM Peak\", \"p25\": 0.5, \"p50\": 0.5, \"p75\": 0.5, \"p50_trip\": 1, \"fastest_trip\": 1, \"car_duration_hours\": 0.43, \"competitive_route\": 1, \"bus_multiplier\": 1.16, \"bus_difference\": 4.2, \"num_trips\": 14, \"num_competitive\": 14, \"pct_trips_competitive\": 1.0, \"bus_difference_spread\": 7.8, \"route_group\": \"short\", \"max_trip_hrs\": 0.63, \"max_trip_route_group\": 0.92, \"name\": \"Ventura County Transportation Commission\", \"caltrans_district\": \"07 - Los Angeles\", \"drmt_organization_name\": null, \"cutoff2\": 20, \"cutoff\": 0}, {\"calitp_itp_id\": 380, \"trip_key\": 8246410718931094211, \"trip_id\": \"t_307294_b_30295_tn_0\", \"shape_id\": \"p_178957\", \"route_id\": \"11140\", \"service_hours\": 0.5, \"trip_first_departure_ts\": 30000, \"trip_last_arrival_ts\": 31800, \"departure_hour\": 8, \"time_of_day\": \"AM Peak\", \"p25\": 0.5, \"p50\": 0.5, \"p75\": 0.5, \"p50_trip\": 1, \"fastest_trip\": 0, \"car_duration_hours\": 0.43, \"competitive_route\": 1, \"bus_multiplier\": 1.16, \"bus_difference\": 4.2, \"num_trips\": 14, \"num_competitive\": 14, \"pct_trips_competitive\": 1.0, \"bus_difference_spread\": 7.8, \"route_group\": \"short\", \"max_trip_hrs\": 0.63, \"max_trip_route_group\": 0.92, \"name\": \"Ventura County Transportation Commission\", \"caltrans_district\": \"07 - Los Angeles\", \"drmt_organization_name\": null, \"cutoff2\": 20, \"cutoff\": 0}, {\"calitp_itp_id\": 380, \"trip_key\": 7863296115918132552, \"trip_id\": \"t_307296_b_30295_tn_0\", \"shape_id\": \"p_178957\", \"route_id\": \"11140\", \"service_hours\": 0.5, \"trip_first_departure_ts\": 36000, \"trip_last_arrival_ts\": 37800, \"departure_hour\": 10, \"time_of_day\": \"Midday\", \"p25\": 0.5, \"p50\": 0.5, \"p75\": 0.5, \"p50_trip\": 1, \"fastest_trip\": 0, \"car_duration_hours\": 0.43, \"competitive_route\": 1, \"bus_multiplier\": 1.16, \"bus_difference\": 4.2, \"num_trips\": 14, \"num_competitive\": 14, \"pct_trips_competitive\": 1.0, \"bus_difference_spread\": 7.8, \"route_group\": \"short\", \"max_trip_hrs\": 0.63, \"max_trip_route_group\": 0.92, \"name\": \"Ventura County Transportation Commission\", \"caltrans_district\": \"07 - Los Angeles\", \"drmt_organization_name\": null, \"cutoff2\": 20, \"cutoff\": 0}, {\"calitp_itp_id\": 380, \"trip_key\": 5105309313324600526, \"trip_id\": \"t_307290_b_30295_tn_0\", \"shape_id\": \"p_178956\", \"route_id\": \"11140\", \"service_hours\": 0.5, \"trip_first_departure_ts\": 22500, \"trip_last_arrival_ts\": 24300, \"departure_hour\": 6, \"time_of_day\": \"Owl Service\", \"p25\": 0.5, \"p50\": 0.5, \"p75\": 0.5, \"p50_trip\": 1, \"fastest_trip\": 0, \"car_duration_hours\": 0.43, \"competitive_route\": 1, \"bus_multiplier\": 1.16, \"bus_difference\": 4.2, \"num_trips\": 14, \"num_competitive\": 14, \"pct_trips_competitive\": 1.0, \"bus_difference_spread\": 7.8, \"route_group\": \"short\", \"max_trip_hrs\": 0.63, \"max_trip_route_group\": 0.92, \"name\": \"Ventura County Transportation Commission\", \"caltrans_district\": \"07 - Los Angeles\", \"drmt_organization_name\": null, \"cutoff2\": 20, \"cutoff\": 0}, {\"calitp_itp_id\": 380, \"trip_key\": -8910810402565523088, \"trip_id\": \"t_307291_b_30295_tn_0\", \"shape_id\": \"p_178958\", \"route_id\": \"11140\", \"service_hours\": 0.6, \"trip_first_departure_ts\": 24900, \"trip_last_arrival_ts\": 27060, \"departure_hour\": 6, \"time_of_day\": \"Owl Service\", \"p25\": 0.5, \"p50\": 0.5, \"p75\": 0.5, \"p50_trip\": 0, \"fastest_trip\": 0, \"car_duration_hours\": 0.43, \"competitive_route\": 1, \"bus_multiplier\": 1.4, \"bus_difference\": 10.2, \"num_trips\": 14, \"num_competitive\": 14, \"pct_trips_competitive\": 1.0, \"bus_difference_spread\": 7.8, \"route_group\": \"short\", \"max_trip_hrs\": 0.63, \"max_trip_route_group\": 0.92, \"name\": \"Ventura County Transportation Commission\", \"caltrans_district\": \"07 - Los Angeles\", \"drmt_organization_name\": null, \"cutoff2\": 20, \"cutoff\": 0}, {\"calitp_itp_id\": 380, \"trip_key\": -2653389962220752619, \"trip_id\": \"t_307300_b_30295_tn_0\", \"shape_id\": \"p_178958\", \"route_id\": \"11140\", \"service_hours\": 0.63, \"trip_first_departure_ts\": 55500, \"trip_last_arrival_ts\": 57780, \"departure_hour\": 15, \"time_of_day\": \"Midday\", \"p25\": 0.5, \"p50\": 0.5, \"p75\": 0.5, \"p50_trip\": 0, \"fastest_trip\": 0, \"car_duration_hours\": 0.43, \"competitive_route\": 1, \"bus_multiplier\": 1.47, \"bus_difference\": 12.0, \"num_trips\": 14, \"num_competitive\": 14, \"pct_trips_competitive\": 1.0, \"bus_difference_spread\": 7.8, \"route_group\": \"short\", \"max_trip_hrs\": 0.63, \"max_trip_route_group\": 0.92, \"name\": \"Ventura County Transportation Commission\", \"caltrans_district\": \"07 - Los Angeles\", \"drmt_organization_name\": null, \"cutoff2\": 20, \"cutoff\": 0}]}}, {\"mode\": \"vega-lite\"});\n",
       "</script>"
      ],
      "text/plain": [
       "alt.FacetChart(...)"
      ]
     },
     "metadata": {},
     "output_type": "display_data"
    }
   ],
   "source": [
    "# Allow for possibility that operator doesn't have routes that fall into certain route_groups\n",
    "# But, jupyterbook will not like markdown with f-string\n",
    "# separate out route_group and put in each cell, and use try/except + if to display...\n",
    "# but all 3 route groups must be displayed. just add sentence about why no routes were returned at the end\n",
    "route_group = \"short\"\n",
    "try:\n",
    "    display_charts_for_route_group(df, route_group)\n",
    "except:\n",
    "    print(\"No routes meet this criteria.\")"
   ]
  },
  {
   "cell_type": "markdown",
   "id": "c2931b6f-034d-4384-9e14-80b925e3b820",
   "metadata": {
    "papermill": {
     "duration": 0.027695,
     "end_time": "2022-05-09T17:11:20.415477",
     "exception": false,
     "start_time": "2022-05-09T17:11:20.387782",
     "status": "completed"
    },
    "tags": []
   },
   "source": [
    "### Medium Routes (1-1.5 hrs)"
   ]
  },
  {
   "cell_type": "code",
   "execution_count": 14,
   "id": "480edddc-4de0-48c2-ae4c-b0ceef8f28b5",
   "metadata": {
    "execution": {
     "iopub.execute_input": "2022-05-09T17:11:20.452474Z",
     "iopub.status.busy": "2022-05-09T17:11:20.451756Z",
     "iopub.status.idle": "2022-05-09T17:11:20.687256Z",
     "shell.execute_reply": "2022-05-09T17:11:20.686275Z"
    },
    "jupyter": {
     "source_hidden": true
    },
    "papermill": {
     "duration": 0.257075,
     "end_time": "2022-05-09T17:11:20.689677",
     "exception": false,
     "start_time": "2022-05-09T17:11:20.432602",
     "status": "completed"
    },
    "tags": [
     "remove_input"
    ]
   },
   "outputs": [
    {
     "data": {
      "text/markdown": [
       "<br>These are routes that have **at least 25% of their trips take no more than an additional 30 min** compared to a car (up to 15 routes) are shown.<br>Within each route group, routes are sorted in descending order by % competitive trips and # trips below the additional time cut-off."
      ],
      "text/plain": [
       "<IPython.core.display.Markdown object>"
      ]
     },
     "metadata": {},
     "output_type": "display_data"
    },
    {
     "data": {
      "text/html": [
       "\n",
       "<div id=\"altair-viz-f0a4ca1818f04e6098f94015b398ba23\"></div>\n",
       "<script type=\"text/javascript\">\n",
       "  var VEGA_DEBUG = (typeof VEGA_DEBUG == \"undefined\") ? {} : VEGA_DEBUG;\n",
       "  (function(spec, embedOpt){\n",
       "    let outputDiv = document.currentScript.previousElementSibling;\n",
       "    if (outputDiv.id !== \"altair-viz-f0a4ca1818f04e6098f94015b398ba23\") {\n",
       "      outputDiv = document.getElementById(\"altair-viz-f0a4ca1818f04e6098f94015b398ba23\");\n",
       "    }\n",
       "    const paths = {\n",
       "      \"vega\": \"https://cdn.jsdelivr.net/npm//vega@5?noext\",\n",
       "      \"vega-lib\": \"https://cdn.jsdelivr.net/npm//vega-lib?noext\",\n",
       "      \"vega-lite\": \"https://cdn.jsdelivr.net/npm//vega-lite@4.17.0?noext\",\n",
       "      \"vega-embed\": \"https://cdn.jsdelivr.net/npm//vega-embed@6?noext\",\n",
       "    };\n",
       "\n",
       "    function maybeLoadScript(lib, version) {\n",
       "      var key = `${lib.replace(\"-\", \"\")}_version`;\n",
       "      return (VEGA_DEBUG[key] == version) ?\n",
       "        Promise.resolve(paths[lib]) :\n",
       "        new Promise(function(resolve, reject) {\n",
       "          var s = document.createElement('script');\n",
       "          document.getElementsByTagName(\"head\")[0].appendChild(s);\n",
       "          s.async = true;\n",
       "          s.onload = () => {\n",
       "            VEGA_DEBUG[key] = version;\n",
       "            return resolve(paths[lib]);\n",
       "          };\n",
       "          s.onerror = () => reject(`Error loading script: ${paths[lib]}`);\n",
       "          s.src = paths[lib];\n",
       "        });\n",
       "    }\n",
       "\n",
       "    function showError(err) {\n",
       "      outputDiv.innerHTML = `<div class=\"error\" style=\"color:red;\">${err}</div>`;\n",
       "      throw err;\n",
       "    }\n",
       "\n",
       "    function displayChart(vegaEmbed) {\n",
       "      vegaEmbed(outputDiv, spec, embedOpt)\n",
       "        .catch(err => showError(`Javascript Error: ${err.message}<br>This usually means there's a typo in your chart specification. See the javascript console for the full traceback.`));\n",
       "    }\n",
       "\n",
       "    if(typeof define === \"function\" && define.amd) {\n",
       "      requirejs.config({paths});\n",
       "      require([\"vega-embed\"], displayChart, err => showError(`Error loading script: ${err.message}`));\n",
       "    } else {\n",
       "      maybeLoadScript(\"vega\", \"5\")\n",
       "        .then(() => maybeLoadScript(\"vega-lite\", \"4.17.0\"))\n",
       "        .then(() => maybeLoadScript(\"vega-embed\", \"6\"))\n",
       "        .catch(showError)\n",
       "        .then(() => displayChart(vegaEmbed));\n",
       "    }\n",
       "  })({\"config\": {\"view\": {\"continuousWidth\": 400, \"continuousHeight\": 300, \"stroke\": null}, \"facet\": {\"spacing\": 0}}, \"data\": {\"name\": \"data-59104485fb72f844700eb892faabc226\"}, \"facet\": {\"column\": {\"field\": \"route_id\", \"sort\": [\"11672\"], \"title\": \"Route ID\", \"type\": \"nominal\"}}, \"spec\": {\"layer\": [{\"mark\": \"rule\", \"encoding\": {\"color\": {\"value\": \"black\"}, \"y\": {\"field\": \"cutoff\", \"type\": \"quantitative\"}}, \"selection\": {\"selector003\": {\"type\": \"interval\", \"bind\": \"scales\", \"encodings\": [\"x\", \"y\"]}}}, {\"mark\": {\"type\": \"point\", \"opacity\": 0.65, \"size\": 12, \"strokeWidth\": 1.1}, \"encoding\": {\"color\": {\"field\": \"time_of_day\", \"scale\": {\"range\": [\"#136C97\", \"#E16B26\", \"#F6BF16\", \"#00896B\", \"#7790A3\", \"#5B559C\"]}, \"sort\": [\"AM Peak\", \"Midday\", \"PM Peak\", \"Owl Service\"], \"title\": \"Time of Day\", \"type\": \"nominal\"}, \"tooltip\": [{\"field\": \"route_id\", \"type\": \"nominal\"}, {\"field\": \"trip_id\", \"type\": \"nominal\"}, {\"field\": \"service_hours\", \"type\": \"quantitative\"}, {\"field\": \"car_duration_hours\", \"type\": \"quantitative\"}, {\"field\": \"bus_multiplier\", \"type\": \"quantitative\"}, {\"field\": \"bus_difference\", \"type\": \"quantitative\"}, {\"field\": \"num_trips\", \"type\": \"quantitative\"}, {\"field\": \"num_competitive\", \"type\": \"quantitative\"}, {\"field\": \"pct_trips_competitive\", \"type\": \"quantitative\"}, {\"field\": \"p25\", \"type\": \"quantitative\"}, {\"field\": \"p50\", \"type\": \"quantitative\"}, {\"field\": \"p75\", \"type\": \"quantitative\"}], \"x\": {\"axis\": {\"grid\": false, \"labels\": false, \"ticks\": true, \"values\": [0]}, \"field\": \"jitter\", \"scale\": {}, \"title\": null, \"type\": \"quantitative\"}, \"y\": {\"field\": \"bus_multiplier\", \"scale\": {\"domain\": [-0.25, 2.5]}, \"title\": \"Ratio of Bus to Car Travel Time\", \"type\": \"quantitative\"}}, \"transform\": [{\"calculate\": \"sqrt(-2*log(random()))*cos(2*PI*random())\", \"as\": \"jitter\"}], \"width\": 50}, {\"layer\": [{\"mark\": {\"type\": \"point\", \"opacity\": 0.6, \"size\": 20, \"strokeWidth\": 1.3}, \"encoding\": {\"color\": {\"value\": \"#323434\"}, \"y\": {\"field\": \"bus_multiplier\", \"type\": \"quantitative\"}}, \"transform\": [{\"filter\": \"(datum.p50_trip === 1)\"}]}, {\"mark\": {\"type\": \"text\", \"align\": \"center\", \"baseline\": \"middle\"}, \"encoding\": {\"color\": {\"value\": \"black\"}, \"text\": {\"field\": \"pct_trips_competitive\", \"format\": \".0%\", \"type\": \"quantitative\"}, \"tooltip\": [{\"field\": \"route_id\", \"type\": \"nominal\"}, {\"field\": \"trip_id\", \"type\": \"nominal\"}, {\"field\": \"service_hours\", \"type\": \"quantitative\"}, {\"field\": \"car_duration_hours\", \"type\": \"quantitative\"}, {\"field\": \"bus_multiplier\", \"type\": \"quantitative\"}, {\"field\": \"bus_difference\", \"type\": \"quantitative\"}, {\"field\": \"num_trips\", \"type\": \"quantitative\"}, {\"field\": \"num_competitive\", \"type\": \"quantitative\"}, {\"field\": \"pct_trips_competitive\", \"type\": \"quantitative\"}, {\"field\": \"p25\", \"type\": \"quantitative\"}, {\"field\": \"p50\", \"type\": \"quantitative\"}, {\"field\": \"p75\", \"type\": \"quantitative\"}], \"x\": {\"value\": 30}, \"y\": {\"value\": 15}}, \"transform\": [{\"calculate\": \"sqrt(-2*log(random()))*cos(2*PI*random())\", \"as\": \"jitter\"}, {\"filter\": \"(datum.fastest_trip === 1)\"}]}]}]}, \"resolve\": {\"scale\": {\"y\": \"shared\"}}, \"title\": \"Ratio of Bus to Car Travel Time\", \"$schema\": \"https://vega.github.io/schema/vega-lite/v4.17.0.json\", \"datasets\": {\"data-59104485fb72f844700eb892faabc226\": [{\"calitp_itp_id\": 380, \"trip_key\": 5891545230126204644, \"trip_id\": \"t_2012647_b_33529_tn_0\", \"shape_id\": \"p_898247\", \"route_id\": \"11672\", \"service_hours\": 0.67, \"trip_first_departure_ts\": 70200, \"trip_last_arrival_ts\": 72600, \"departure_hour\": 19, \"time_of_day\": \"PM Peak\", \"p25\": 0.95, \"p50\": 0.95, \"p75\": 0.98, \"p50_trip\": 0, \"fastest_trip\": 1, \"car_duration_hours\": 0.51, \"competitive_route\": 1, \"bus_multiplier\": 1.31, \"bus_difference\": 9.6, \"num_trips\": 24, \"num_competitive\": 22, \"pct_trips_competitive\": 0.917, \"bus_difference_spread\": 24.6, \"route_group\": \"medium\", \"max_trip_hrs\": 1.08, \"max_trip_route_group\": 1.45, \"name\": \"Ventura County Transportation Commission\", \"caltrans_district\": \"07 - Los Angeles\", \"drmt_organization_name\": null, \"cutoff2\": 30, \"cutoff\": 2}, {\"calitp_itp_id\": 380, \"trip_key\": 4968266072431212319, \"trip_id\": \"t_2012561_b_33529_tn_0\", \"shape_id\": \"p_9347\", \"route_id\": \"11672\", \"service_hours\": 0.75, \"trip_first_departure_ts\": 74040, \"trip_last_arrival_ts\": 76740, \"departure_hour\": 20, \"time_of_day\": \"Owl Service\", \"p25\": 0.95, \"p50\": 0.95, \"p75\": 0.98, \"p50_trip\": 0, \"fastest_trip\": 0, \"car_duration_hours\": 0.51, \"competitive_route\": 1, \"bus_multiplier\": 1.47, \"bus_difference\": 14.4, \"num_trips\": 24, \"num_competitive\": 22, \"pct_trips_competitive\": 0.917, \"bus_difference_spread\": 24.6, \"route_group\": \"medium\", \"max_trip_hrs\": 1.08, \"max_trip_route_group\": 1.45, \"name\": \"Ventura County Transportation Commission\", \"caltrans_district\": \"07 - Los Angeles\", \"drmt_organization_name\": null, \"cutoff2\": 30, \"cutoff\": 2}, {\"calitp_itp_id\": 380, \"trip_key\": -3580014210103455562, \"trip_id\": \"t_2012533_b_33529_tn_0\", \"shape_id\": \"p_9347\", \"route_id\": \"11672\", \"service_hours\": 0.75, \"trip_first_departure_ts\": 77400, \"trip_last_arrival_ts\": 80100, \"departure_hour\": 21, \"time_of_day\": \"Owl Service\", \"p25\": 0.95, \"p50\": 0.95, \"p75\": 0.98, \"p50_trip\": 0, \"fastest_trip\": 0, \"car_duration_hours\": 0.51, \"competitive_route\": 1, \"bus_multiplier\": 1.47, \"bus_difference\": 14.4, \"num_trips\": 24, \"num_competitive\": 22, \"pct_trips_competitive\": 0.917, \"bus_difference_spread\": 24.6, \"route_group\": \"medium\", \"max_trip_hrs\": 1.08, \"max_trip_route_group\": 1.45, \"name\": \"Ventura County Transportation Commission\", \"caltrans_district\": \"07 - Los Angeles\", \"drmt_organization_name\": null, \"cutoff2\": 30, \"cutoff\": 2}, {\"calitp_itp_id\": 380, \"trip_key\": -5853491086388212051, \"trip_id\": \"t_2012553_b_33529_tn_0\", \"shape_id\": \"p_9350\", \"route_id\": \"11672\", \"service_hours\": 0.78, \"trip_first_departure_ts\": 62700, \"trip_last_arrival_ts\": 65520, \"departure_hour\": 17, \"time_of_day\": \"PM Peak\", \"p25\": 0.95, \"p50\": 0.95, \"p75\": 0.98, \"p50_trip\": 0, \"fastest_trip\": 0, \"car_duration_hours\": 0.51, \"competitive_route\": 1, \"bus_multiplier\": 1.53, \"bus_difference\": 16.2, \"num_trips\": 24, \"num_competitive\": 22, \"pct_trips_competitive\": 0.917, \"bus_difference_spread\": 24.6, \"route_group\": \"medium\", \"max_trip_hrs\": 1.08, \"max_trip_route_group\": 1.45, \"name\": \"Ventura County Transportation Commission\", \"caltrans_district\": \"07 - Los Angeles\", \"drmt_organization_name\": null, \"cutoff2\": 30, \"cutoff\": 2}, {\"calitp_itp_id\": 380, \"trip_key\": 3699007838691646330, \"trip_id\": \"t_2012702_b_33529_tn_0\", \"shape_id\": \"p_898247\", \"route_id\": \"11672\", \"service_hours\": 0.85, \"trip_first_departure_ts\": 66600, \"trip_last_arrival_ts\": 69660, \"departure_hour\": 18, \"time_of_day\": \"PM Peak\", \"p25\": 0.95, \"p50\": 0.95, \"p75\": 0.98, \"p50_trip\": 0, \"fastest_trip\": 0, \"car_duration_hours\": 0.51, \"competitive_route\": 1, \"bus_multiplier\": 1.67, \"bus_difference\": 20.4, \"num_trips\": 24, \"num_competitive\": 22, \"pct_trips_competitive\": 0.917, \"bus_difference_spread\": 24.6, \"route_group\": \"medium\", \"max_trip_hrs\": 1.08, \"max_trip_route_group\": 1.45, \"name\": \"Ventura County Transportation Commission\", \"caltrans_district\": \"07 - Los Angeles\", \"drmt_organization_name\": null, \"cutoff2\": 30, \"cutoff\": 2}, {\"calitp_itp_id\": 380, \"trip_key\": -1465297498536672901, \"trip_id\": \"t_2012590_b_33529_tn_0\", \"shape_id\": \"p_9350\", \"route_id\": \"11672\", \"service_hours\": 0.95, \"trip_first_departure_ts\": 36000, \"trip_last_arrival_ts\": 39420, \"departure_hour\": 10, \"time_of_day\": \"Midday\", \"p25\": 0.95, \"p50\": 0.95, \"p75\": 0.98, \"p50_trip\": 1, \"fastest_trip\": 0, \"car_duration_hours\": 0.51, \"competitive_route\": 1, \"bus_multiplier\": 1.86, \"bus_difference\": 26.4, \"num_trips\": 24, \"num_competitive\": 22, \"pct_trips_competitive\": 0.917, \"bus_difference_spread\": 24.6, \"route_group\": \"medium\", \"max_trip_hrs\": 1.08, \"max_trip_route_group\": 1.45, \"name\": \"Ventura County Transportation Commission\", \"caltrans_district\": \"07 - Los Angeles\", \"drmt_organization_name\": null, \"cutoff2\": 30, \"cutoff\": 2}, {\"calitp_itp_id\": 380, \"trip_key\": -5364162246387263641, \"trip_id\": \"t_2012555_b_33529_tn_0\", \"shape_id\": \"p_9345\", \"route_id\": \"11672\", \"service_hours\": 0.95, \"trip_first_departure_ts\": 25500, \"trip_last_arrival_ts\": 28920, \"departure_hour\": 7, \"time_of_day\": \"AM Peak\", \"p25\": 0.95, \"p50\": 0.95, \"p75\": 0.98, \"p50_trip\": 1, \"fastest_trip\": 0, \"car_duration_hours\": 0.51, \"competitive_route\": 1, \"bus_multiplier\": 1.86, \"bus_difference\": 26.4, \"num_trips\": 24, \"num_competitive\": 22, \"pct_trips_competitive\": 0.917, \"bus_difference_spread\": 24.6, \"route_group\": \"medium\", \"max_trip_hrs\": 1.08, \"max_trip_route_group\": 1.45, \"name\": \"Ventura County Transportation Commission\", \"caltrans_district\": \"07 - Los Angeles\", \"drmt_organization_name\": null, \"cutoff2\": 30, \"cutoff\": 2}, {\"calitp_itp_id\": 380, \"trip_key\": -1015530550137262741, \"trip_id\": \"t_2012601_b_33529_tn_0\", \"shape_id\": \"p_9350\", \"route_id\": \"11672\", \"service_hours\": 0.95, \"trip_first_departure_ts\": 51540, \"trip_last_arrival_ts\": 54960, \"departure_hour\": 14, \"time_of_day\": \"Midday\", \"p25\": 0.95, \"p50\": 0.95, \"p75\": 0.98, \"p50_trip\": 1, \"fastest_trip\": 0, \"car_duration_hours\": 0.51, \"competitive_route\": 1, \"bus_multiplier\": 1.86, \"bus_difference\": 26.4, \"num_trips\": 24, \"num_competitive\": 22, \"pct_trips_competitive\": 0.917, \"bus_difference_spread\": 24.6, \"route_group\": \"medium\", \"max_trip_hrs\": 1.08, \"max_trip_route_group\": 1.45, \"name\": \"Ventura County Transportation Commission\", \"caltrans_district\": \"07 - Los Angeles\", \"drmt_organization_name\": null, \"cutoff2\": 30, \"cutoff\": 2}, {\"calitp_itp_id\": 380, \"trip_key\": 6540036279454747510, \"trip_id\": \"t_2012529_b_33529_tn_0\", \"shape_id\": \"p_9350\", \"route_id\": \"11672\", \"service_hours\": 0.95, \"trip_first_departure_ts\": 33900, \"trip_last_arrival_ts\": 37320, \"departure_hour\": 9, \"time_of_day\": \"AM Peak\", \"p25\": 0.95, \"p50\": 0.95, \"p75\": 0.98, \"p50_trip\": 1, \"fastest_trip\": 0, \"car_duration_hours\": 0.51, \"competitive_route\": 1, \"bus_multiplier\": 1.86, \"bus_difference\": 26.4, \"num_trips\": 24, \"num_competitive\": 22, \"pct_trips_competitive\": 0.917, \"bus_difference_spread\": 24.6, \"route_group\": \"medium\", \"max_trip_hrs\": 1.08, \"max_trip_route_group\": 1.45, \"name\": \"Ventura County Transportation Commission\", \"caltrans_district\": \"07 - Los Angeles\", \"drmt_organization_name\": null, \"cutoff2\": 30, \"cutoff\": 2}, {\"calitp_itp_id\": 380, \"trip_key\": 8866572416816315251, \"trip_id\": \"t_2012600_b_33529_tn_0\", \"shape_id\": \"p_9350\", \"route_id\": \"11672\", \"service_hours\": 0.95, \"trip_first_departure_ts\": 47040, \"trip_last_arrival_ts\": 50460, \"departure_hour\": 13, \"time_of_day\": \"Midday\", \"p25\": 0.95, \"p50\": 0.95, \"p75\": 0.98, \"p50_trip\": 1, \"fastest_trip\": 0, \"car_duration_hours\": 0.51, \"competitive_route\": 1, \"bus_multiplier\": 1.86, \"bus_difference\": 26.4, \"num_trips\": 24, \"num_competitive\": 22, \"pct_trips_competitive\": 0.917, \"bus_difference_spread\": 24.6, \"route_group\": \"medium\", \"max_trip_hrs\": 1.08, \"max_trip_route_group\": 1.45, \"name\": \"Ventura County Transportation Commission\", \"caltrans_district\": \"07 - Los Angeles\", \"drmt_organization_name\": null, \"cutoff2\": 30, \"cutoff\": 2}, {\"calitp_itp_id\": 380, \"trip_key\": -1411477533865701225, \"trip_id\": \"t_2012557_b_33529_tn_0\", \"shape_id\": \"p_9350\", \"route_id\": \"11672\", \"service_hours\": 0.95, \"trip_first_departure_ts\": 29100, \"trip_last_arrival_ts\": 32520, \"departure_hour\": 8, \"time_of_day\": \"AM Peak\", \"p25\": 0.95, \"p50\": 0.95, \"p75\": 0.98, \"p50_trip\": 1, \"fastest_trip\": 0, \"car_duration_hours\": 0.51, \"competitive_route\": 1, \"bus_multiplier\": 1.86, \"bus_difference\": 26.4, \"num_trips\": 24, \"num_competitive\": 22, \"pct_trips_competitive\": 0.917, \"bus_difference_spread\": 24.6, \"route_group\": \"medium\", \"max_trip_hrs\": 1.08, \"max_trip_route_group\": 1.45, \"name\": \"Ventura County Transportation Commission\", \"caltrans_district\": \"07 - Los Angeles\", \"drmt_organization_name\": null, \"cutoff2\": 30, \"cutoff\": 2}, {\"calitp_itp_id\": 380, \"trip_key\": -2688291586804861401, \"trip_id\": \"t_2012520_b_33529_tn_0\", \"shape_id\": \"p_9350\", \"route_id\": \"11672\", \"service_hours\": 0.95, \"trip_first_departure_ts\": 42300, \"trip_last_arrival_ts\": 45720, \"departure_hour\": 11, \"time_of_day\": \"Midday\", \"p25\": 0.95, \"p50\": 0.95, \"p75\": 0.98, \"p50_trip\": 1, \"fastest_trip\": 0, \"car_duration_hours\": 0.51, \"competitive_route\": 1, \"bus_multiplier\": 1.86, \"bus_difference\": 26.4, \"num_trips\": 24, \"num_competitive\": 22, \"pct_trips_competitive\": 0.917, \"bus_difference_spread\": 24.6, \"route_group\": \"medium\", \"max_trip_hrs\": 1.08, \"max_trip_route_group\": 1.45, \"name\": \"Ventura County Transportation Commission\", \"caltrans_district\": \"07 - Los Angeles\", \"drmt_organization_name\": null, \"cutoff2\": 30, \"cutoff\": 2}, {\"calitp_itp_id\": 380, \"trip_key\": -2191057499601499698, \"trip_id\": \"t_2012645_b_33529_tn_0\", \"shape_id\": \"p_9350\", \"route_id\": \"11672\", \"service_hours\": 0.95, \"trip_first_departure_ts\": 24600, \"trip_last_arrival_ts\": 28020, \"departure_hour\": 6, \"time_of_day\": \"Owl Service\", \"p25\": 0.95, \"p50\": 0.95, \"p75\": 0.98, \"p50_trip\": 1, \"fastest_trip\": 0, \"car_duration_hours\": 0.51, \"competitive_route\": 1, \"bus_multiplier\": 1.86, \"bus_difference\": 26.4, \"num_trips\": 24, \"num_competitive\": 22, \"pct_trips_competitive\": 0.917, \"bus_difference_spread\": 24.6, \"route_group\": \"medium\", \"max_trip_hrs\": 1.08, \"max_trip_route_group\": 1.45, \"name\": \"Ventura County Transportation Commission\", \"caltrans_district\": \"07 - Los Angeles\", \"drmt_organization_name\": null, \"cutoff2\": 30, \"cutoff\": 2}, {\"calitp_itp_id\": 380, \"trip_key\": -4304160533257715057, \"trip_id\": \"t_2012479_b_33529_tn_0\", \"shape_id\": \"p_9350\", \"route_id\": \"11672\", \"service_hours\": 0.95, \"trip_first_departure_ts\": 39600, \"trip_last_arrival_ts\": 43020, \"departure_hour\": 11, \"time_of_day\": \"Midday\", \"p25\": 0.95, \"p50\": 0.95, \"p75\": 0.98, \"p50_trip\": 1, \"fastest_trip\": 0, \"car_duration_hours\": 0.51, \"competitive_route\": 1, \"bus_multiplier\": 1.86, \"bus_difference\": 26.4, \"num_trips\": 24, \"num_competitive\": 22, \"pct_trips_competitive\": 0.917, \"bus_difference_spread\": 24.6, \"route_group\": \"medium\", \"max_trip_hrs\": 1.08, \"max_trip_route_group\": 1.45, \"name\": \"Ventura County Transportation Commission\", \"caltrans_district\": \"07 - Los Angeles\", \"drmt_organization_name\": null, \"cutoff2\": 30, \"cutoff\": 2}, {\"calitp_itp_id\": 380, \"trip_key\": -2986394640204099979, \"trip_id\": \"t_2012695_b_33529_tn_0\", \"shape_id\": \"p_9345\", \"route_id\": \"11672\", \"service_hours\": 0.98, \"trip_first_departure_ts\": 70200, \"trip_last_arrival_ts\": 73740, \"departure_hour\": 19, \"time_of_day\": \"PM Peak\", \"p25\": 0.95, \"p50\": 0.95, \"p75\": 0.98, \"p50_trip\": 0, \"fastest_trip\": 0, \"car_duration_hours\": 0.51, \"competitive_route\": 1, \"bus_multiplier\": 1.92, \"bus_difference\": 28.2, \"num_trips\": 24, \"num_competitive\": 22, \"pct_trips_competitive\": 0.917, \"bus_difference_spread\": 24.6, \"route_group\": \"medium\", \"max_trip_hrs\": 1.08, \"max_trip_route_group\": 1.45, \"name\": \"Ventura County Transportation Commission\", \"caltrans_district\": \"07 - Los Angeles\", \"drmt_organization_name\": null, \"cutoff2\": 30, \"cutoff\": 2}, {\"calitp_itp_id\": 380, \"trip_key\": 8529851744194259725, \"trip_id\": \"t_2012532_b_33529_tn_0\", \"shape_id\": \"p_9345\", \"route_id\": \"11672\", \"service_hours\": 0.98, \"trip_first_departure_ts\": 63000, \"trip_last_arrival_ts\": 66540, \"departure_hour\": 17, \"time_of_day\": \"PM Peak\", \"p25\": 0.95, \"p50\": 0.95, \"p75\": 0.98, \"p50_trip\": 0, \"fastest_trip\": 0, \"car_duration_hours\": 0.51, \"competitive_route\": 1, \"bus_multiplier\": 1.92, \"bus_difference\": 28.2, \"num_trips\": 24, \"num_competitive\": 22, \"pct_trips_competitive\": 0.917, \"bus_difference_spread\": 24.6, \"route_group\": \"medium\", \"max_trip_hrs\": 1.08, \"max_trip_route_group\": 1.45, \"name\": \"Ventura County Transportation Commission\", \"caltrans_district\": \"07 - Los Angeles\", \"drmt_organization_name\": null, \"cutoff2\": 30, \"cutoff\": 2}, {\"calitp_itp_id\": 380, \"trip_key\": 7965307930499388414, \"trip_id\": \"t_2012545_b_33529_tn_0\", \"shape_id\": \"p_9345\", \"route_id\": \"11672\", \"service_hours\": 0.98, \"trip_first_departure_ts\": 36000, \"trip_last_arrival_ts\": 39540, \"departure_hour\": 10, \"time_of_day\": \"Midday\", \"p25\": 0.95, \"p50\": 0.95, \"p75\": 0.98, \"p50_trip\": 0, \"fastest_trip\": 0, \"car_duration_hours\": 0.51, \"competitive_route\": 1, \"bus_multiplier\": 1.92, \"bus_difference\": 28.2, \"num_trips\": 24, \"num_competitive\": 22, \"pct_trips_competitive\": 0.917, \"bus_difference_spread\": 24.6, \"route_group\": \"medium\", \"max_trip_hrs\": 1.08, \"max_trip_route_group\": 1.45, \"name\": \"Ventura County Transportation Commission\", \"caltrans_district\": \"07 - Los Angeles\", \"drmt_organization_name\": null, \"cutoff2\": 30, \"cutoff\": 2}, {\"calitp_itp_id\": 380, \"trip_key\": 651151845328152550, \"trip_id\": \"t_2012551_b_33529_tn_0\", \"shape_id\": \"p_9345\", \"route_id\": \"11672\", \"service_hours\": 0.98, \"trip_first_departure_ts\": 47100, \"trip_last_arrival_ts\": 50640, \"departure_hour\": 13, \"time_of_day\": \"Midday\", \"p25\": 0.95, \"p50\": 0.95, \"p75\": 0.98, \"p50_trip\": 0, \"fastest_trip\": 0, \"car_duration_hours\": 0.51, \"competitive_route\": 1, \"bus_multiplier\": 1.92, \"bus_difference\": 28.2, \"num_trips\": 24, \"num_competitive\": 22, \"pct_trips_competitive\": 0.917, \"bus_difference_spread\": 24.6, \"route_group\": \"medium\", \"max_trip_hrs\": 1.08, \"max_trip_route_group\": 1.45, \"name\": \"Ventura County Transportation Commission\", \"caltrans_district\": \"07 - Los Angeles\", \"drmt_organization_name\": null, \"cutoff2\": 30, \"cutoff\": 2}, {\"calitp_itp_id\": 380, \"trip_key\": -4481777016734131864, \"trip_id\": \"t_2012558_b_33529_tn_0\", \"shape_id\": \"p_9345\", \"route_id\": \"11672\", \"service_hours\": 0.98, \"trip_first_departure_ts\": 43200, \"trip_last_arrival_ts\": 46740, \"departure_hour\": 12, \"time_of_day\": \"Midday\", \"p25\": 0.95, \"p50\": 0.95, \"p75\": 0.98, \"p50_trip\": 0, \"fastest_trip\": 0, \"car_duration_hours\": 0.51, \"competitive_route\": 1, \"bus_multiplier\": 1.92, \"bus_difference\": 28.2, \"num_trips\": 24, \"num_competitive\": 22, \"pct_trips_competitive\": 0.917, \"bus_difference_spread\": 24.6, \"route_group\": \"medium\", \"max_trip_hrs\": 1.08, \"max_trip_route_group\": 1.45, \"name\": \"Ventura County Transportation Commission\", \"caltrans_district\": \"07 - Los Angeles\", \"drmt_organization_name\": null, \"cutoff2\": 30, \"cutoff\": 2}, {\"calitp_itp_id\": 380, \"trip_key\": 1137138211923783159, \"trip_id\": \"t_2012550_b_33529_tn_0\", \"shape_id\": \"p_9345\", \"route_id\": \"11672\", \"service_hours\": 0.98, \"trip_first_departure_ts\": 38400, \"trip_last_arrival_ts\": 41940, \"departure_hour\": 10, \"time_of_day\": \"Midday\", \"p25\": 0.95, \"p50\": 0.95, \"p75\": 0.98, \"p50_trip\": 0, \"fastest_trip\": 0, \"car_duration_hours\": 0.51, \"competitive_route\": 1, \"bus_multiplier\": 1.92, \"bus_difference\": 28.2, \"num_trips\": 24, \"num_competitive\": 22, \"pct_trips_competitive\": 0.917, \"bus_difference_spread\": 24.6, \"route_group\": \"medium\", \"max_trip_hrs\": 1.08, \"max_trip_route_group\": 1.45, \"name\": \"Ventura County Transportation Commission\", \"caltrans_district\": \"07 - Los Angeles\", \"drmt_organization_name\": null, \"cutoff2\": 30, \"cutoff\": 2}, {\"calitp_itp_id\": 380, \"trip_key\": -5307294219841469067, \"trip_id\": \"t_2012560_b_33529_tn_0\", \"shape_id\": \"p_9345\", \"route_id\": \"11672\", \"service_hours\": 0.98, \"trip_first_departure_ts\": 66120, \"trip_last_arrival_ts\": 69660, \"departure_hour\": 18, \"time_of_day\": \"PM Peak\", \"p25\": 0.95, \"p50\": 0.95, \"p75\": 0.98, \"p50_trip\": 0, \"fastest_trip\": 0, \"car_duration_hours\": 0.51, \"competitive_route\": 1, \"bus_multiplier\": 1.92, \"bus_difference\": 28.2, \"num_trips\": 24, \"num_competitive\": 22, \"pct_trips_competitive\": 0.917, \"bus_difference_spread\": 24.6, \"route_group\": \"medium\", \"max_trip_hrs\": 1.08, \"max_trip_route_group\": 1.45, \"name\": \"Ventura County Transportation Commission\", \"caltrans_district\": \"07 - Los Angeles\", \"drmt_organization_name\": null, \"cutoff2\": 30, \"cutoff\": 2}, {\"calitp_itp_id\": 380, \"trip_key\": -3691662293212074040, \"trip_id\": \"t_2012578_b_33529_tn_0\", \"shape_id\": \"p_9345\", \"route_id\": \"11672\", \"service_hours\": 0.98, \"trip_first_departure_ts\": 32400, \"trip_last_arrival_ts\": 35940, \"departure_hour\": 9, \"time_of_day\": \"AM Peak\", \"p25\": 0.95, \"p50\": 0.95, \"p75\": 0.98, \"p50_trip\": 0, \"fastest_trip\": 0, \"car_duration_hours\": 0.51, \"competitive_route\": 1, \"bus_multiplier\": 1.92, \"bus_difference\": 28.2, \"num_trips\": 24, \"num_competitive\": 22, \"pct_trips_competitive\": 0.917, \"bus_difference_spread\": 24.6, \"route_group\": \"medium\", \"max_trip_hrs\": 1.08, \"max_trip_route_group\": 1.45, \"name\": \"Ventura County Transportation Commission\", \"caltrans_district\": \"07 - Los Angeles\", \"drmt_organization_name\": null, \"cutoff2\": 30, \"cutoff\": 2}, {\"calitp_itp_id\": 380, \"trip_key\": 4201142452640495994, \"trip_id\": \"t_2012552_b_33529_tn_0\", \"shape_id\": \"p_9350\", \"route_id\": \"11672\", \"service_hours\": 1.05, \"trip_first_departure_ts\": 58860, \"trip_last_arrival_ts\": 62640, \"departure_hour\": 16, \"time_of_day\": \"Midday\", \"p25\": 0.95, \"p50\": 0.95, \"p75\": 0.98, \"p50_trip\": 0, \"fastest_trip\": 0, \"car_duration_hours\": 0.51, \"competitive_route\": 1, \"bus_multiplier\": 2.06, \"bus_difference\": 32.4, \"num_trips\": 24, \"num_competitive\": 22, \"pct_trips_competitive\": 0.917, \"bus_difference_spread\": 24.6, \"route_group\": \"medium\", \"max_trip_hrs\": 1.08, \"max_trip_route_group\": 1.45, \"name\": \"Ventura County Transportation Commission\", \"caltrans_district\": \"07 - Los Angeles\", \"drmt_organization_name\": null, \"cutoff2\": 30, \"cutoff\": 2}, {\"calitp_itp_id\": 380, \"trip_key\": -1529501457730295477, \"trip_id\": \"t_2012556_b_33529_tn_0\", \"shape_id\": \"p_9345\", \"route_id\": \"11672\", \"service_hours\": 1.08, \"trip_first_departure_ts\": 27600, \"trip_last_arrival_ts\": 31500, \"departure_hour\": 7, \"time_of_day\": \"AM Peak\", \"p25\": 0.95, \"p50\": 0.95, \"p75\": 0.98, \"p50_trip\": 0, \"fastest_trip\": 0, \"car_duration_hours\": 0.51, \"competitive_route\": 1, \"bus_multiplier\": 2.12, \"bus_difference\": 34.2, \"num_trips\": 24, \"num_competitive\": 22, \"pct_trips_competitive\": 0.917, \"bus_difference_spread\": 24.6, \"route_group\": \"medium\", \"max_trip_hrs\": 1.08, \"max_trip_route_group\": 1.45, \"name\": \"Ventura County Transportation Commission\", \"caltrans_district\": \"07 - Los Angeles\", \"drmt_organization_name\": null, \"cutoff2\": 30, \"cutoff\": 2}]}}, {\"mode\": \"vega-lite\"});\n",
       "</script>"
      ],
      "text/plain": [
       "alt.FacetChart(...)"
      ]
     },
     "metadata": {},
     "output_type": "display_data"
    },
    {
     "data": {
      "text/html": [
       "\n",
       "<div id=\"altair-viz-963152aab191430a927a4883e2b7fd4d\"></div>\n",
       "<script type=\"text/javascript\">\n",
       "  var VEGA_DEBUG = (typeof VEGA_DEBUG == \"undefined\") ? {} : VEGA_DEBUG;\n",
       "  (function(spec, embedOpt){\n",
       "    let outputDiv = document.currentScript.previousElementSibling;\n",
       "    if (outputDiv.id !== \"altair-viz-963152aab191430a927a4883e2b7fd4d\") {\n",
       "      outputDiv = document.getElementById(\"altair-viz-963152aab191430a927a4883e2b7fd4d\");\n",
       "    }\n",
       "    const paths = {\n",
       "      \"vega\": \"https://cdn.jsdelivr.net/npm//vega@5?noext\",\n",
       "      \"vega-lib\": \"https://cdn.jsdelivr.net/npm//vega-lib?noext\",\n",
       "      \"vega-lite\": \"https://cdn.jsdelivr.net/npm//vega-lite@4.17.0?noext\",\n",
       "      \"vega-embed\": \"https://cdn.jsdelivr.net/npm//vega-embed@6?noext\",\n",
       "    };\n",
       "\n",
       "    function maybeLoadScript(lib, version) {\n",
       "      var key = `${lib.replace(\"-\", \"\")}_version`;\n",
       "      return (VEGA_DEBUG[key] == version) ?\n",
       "        Promise.resolve(paths[lib]) :\n",
       "        new Promise(function(resolve, reject) {\n",
       "          var s = document.createElement('script');\n",
       "          document.getElementsByTagName(\"head\")[0].appendChild(s);\n",
       "          s.async = true;\n",
       "          s.onload = () => {\n",
       "            VEGA_DEBUG[key] = version;\n",
       "            return resolve(paths[lib]);\n",
       "          };\n",
       "          s.onerror = () => reject(`Error loading script: ${paths[lib]}`);\n",
       "          s.src = paths[lib];\n",
       "        });\n",
       "    }\n",
       "\n",
       "    function showError(err) {\n",
       "      outputDiv.innerHTML = `<div class=\"error\" style=\"color:red;\">${err}</div>`;\n",
       "      throw err;\n",
       "    }\n",
       "\n",
       "    function displayChart(vegaEmbed) {\n",
       "      vegaEmbed(outputDiv, spec, embedOpt)\n",
       "        .catch(err => showError(`Javascript Error: ${err.message}<br>This usually means there's a typo in your chart specification. See the javascript console for the full traceback.`));\n",
       "    }\n",
       "\n",
       "    if(typeof define === \"function\" && define.amd) {\n",
       "      requirejs.config({paths});\n",
       "      require([\"vega-embed\"], displayChart, err => showError(`Error loading script: ${err.message}`));\n",
       "    } else {\n",
       "      maybeLoadScript(\"vega\", \"5\")\n",
       "        .then(() => maybeLoadScript(\"vega-lite\", \"4.17.0\"))\n",
       "        .then(() => maybeLoadScript(\"vega-embed\", \"6\"))\n",
       "        .catch(showError)\n",
       "        .then(() => displayChart(vegaEmbed));\n",
       "    }\n",
       "  })({\"config\": {\"view\": {\"continuousWidth\": 400, \"continuousHeight\": 300, \"stroke\": null}, \"facet\": {\"spacing\": 0}}, \"data\": {\"name\": \"data-77bdc151953b11c59c7653c248f670fc\"}, \"facet\": {\"column\": {\"field\": \"route_id\", \"sort\": [\"11672\"], \"title\": \"Route ID\", \"type\": \"nominal\"}}, \"spec\": {\"layer\": [{\"mark\": \"rule\", \"encoding\": {\"color\": {\"value\": \"black\"}, \"y\": {\"field\": \"cutoff\", \"type\": \"quantitative\"}}, \"selection\": {\"selector004\": {\"type\": \"interval\", \"bind\": \"scales\", \"encodings\": [\"x\", \"y\"]}}}, {\"mark\": {\"type\": \"rule\", \"strokeDash\": [3, 3]}, \"encoding\": {\"color\": {\"value\": \"#323434\"}, \"y\": {\"field\": \"cutoff2\", \"type\": \"quantitative\"}}}, {\"mark\": {\"type\": \"point\", \"opacity\": 0.65, \"size\": 12, \"strokeWidth\": 1.1}, \"encoding\": {\"color\": {\"field\": \"time_of_day\", \"scale\": {\"range\": [\"#136C97\", \"#E16B26\", \"#F6BF16\", \"#00896B\", \"#7790A3\", \"#5B559C\"]}, \"sort\": [\"AM Peak\", \"Midday\", \"PM Peak\", \"Owl Service\"], \"title\": \"Time of Day\", \"type\": \"nominal\"}, \"tooltip\": [{\"field\": \"route_id\", \"type\": \"nominal\"}, {\"field\": \"trip_id\", \"type\": \"nominal\"}, {\"field\": \"service_hours\", \"type\": \"quantitative\"}, {\"field\": \"car_duration_hours\", \"type\": \"quantitative\"}, {\"field\": \"bus_multiplier\", \"type\": \"quantitative\"}, {\"field\": \"bus_difference\", \"type\": \"quantitative\"}, {\"field\": \"num_trips\", \"type\": \"quantitative\"}, {\"field\": \"num_competitive\", \"type\": \"quantitative\"}, {\"field\": \"pct_trips_competitive\", \"type\": \"quantitative\"}, {\"field\": \"p25\", \"type\": \"quantitative\"}, {\"field\": \"p50\", \"type\": \"quantitative\"}, {\"field\": \"p75\", \"type\": \"quantitative\"}], \"x\": {\"axis\": {\"grid\": false, \"labels\": false, \"ticks\": true, \"values\": [0]}, \"field\": \"jitter\", \"scale\": {}, \"title\": null, \"type\": \"quantitative\"}, \"y\": {\"field\": \"bus_difference\", \"scale\": {\"domain\": [-5, 59.4]}, \"title\": \"Difference in Bus to Car Travel Time (min)\", \"type\": \"quantitative\"}}, \"transform\": [{\"calculate\": \"sqrt(-2*log(random()))*cos(2*PI*random())\", \"as\": \"jitter\"}], \"width\": 50}, {\"layer\": [{\"mark\": {\"type\": \"point\", \"opacity\": 0.6, \"size\": 20, \"strokeWidth\": 1.3}, \"encoding\": {\"color\": {\"value\": \"#323434\"}, \"y\": {\"field\": \"bus_difference\", \"type\": \"quantitative\"}}, \"transform\": [{\"filter\": \"(datum.p50_trip === 1)\"}]}, {\"mark\": {\"type\": \"text\", \"align\": \"center\", \"baseline\": \"middle\"}, \"encoding\": {\"color\": {\"value\": \"black\"}, \"text\": {\"field\": \"pct_trips_competitive\", \"format\": \".0%\", \"type\": \"quantitative\"}, \"tooltip\": [{\"field\": \"route_id\", \"type\": \"nominal\"}, {\"field\": \"trip_id\", \"type\": \"nominal\"}, {\"field\": \"service_hours\", \"type\": \"quantitative\"}, {\"field\": \"car_duration_hours\", \"type\": \"quantitative\"}, {\"field\": \"bus_multiplier\", \"type\": \"quantitative\"}, {\"field\": \"bus_difference\", \"type\": \"quantitative\"}, {\"field\": \"num_trips\", \"type\": \"quantitative\"}, {\"field\": \"num_competitive\", \"type\": \"quantitative\"}, {\"field\": \"pct_trips_competitive\", \"type\": \"quantitative\"}, {\"field\": \"p25\", \"type\": \"quantitative\"}, {\"field\": \"p50\", \"type\": \"quantitative\"}, {\"field\": \"p75\", \"type\": \"quantitative\"}], \"x\": {\"value\": 30}, \"y\": {\"value\": 15}}, \"transform\": [{\"calculate\": \"sqrt(-2*log(random()))*cos(2*PI*random())\", \"as\": \"jitter\"}, {\"filter\": \"(datum.fastest_trip === 1)\"}]}]}]}, \"resolve\": {\"scale\": {\"y\": \"shared\"}}, \"title\": \"Difference in Bus to Car Travel Time (min)\", \"$schema\": \"https://vega.github.io/schema/vega-lite/v4.17.0.json\", \"datasets\": {\"data-77bdc151953b11c59c7653c248f670fc\": [{\"calitp_itp_id\": 380, \"trip_key\": 5891545230126204644, \"trip_id\": \"t_2012647_b_33529_tn_0\", \"shape_id\": \"p_898247\", \"route_id\": \"11672\", \"service_hours\": 0.67, \"trip_first_departure_ts\": 70200, \"trip_last_arrival_ts\": 72600, \"departure_hour\": 19, \"time_of_day\": \"PM Peak\", \"p25\": 0.95, \"p50\": 0.95, \"p75\": 0.98, \"p50_trip\": 0, \"fastest_trip\": 1, \"car_duration_hours\": 0.51, \"competitive_route\": 1, \"bus_multiplier\": 1.31, \"bus_difference\": 9.6, \"num_trips\": 24, \"num_competitive\": 22, \"pct_trips_competitive\": 0.917, \"bus_difference_spread\": 24.6, \"route_group\": \"medium\", \"max_trip_hrs\": 1.08, \"max_trip_route_group\": 1.45, \"name\": \"Ventura County Transportation Commission\", \"caltrans_district\": \"07 - Los Angeles\", \"drmt_organization_name\": null, \"cutoff2\": 30, \"cutoff\": 0}, {\"calitp_itp_id\": 380, \"trip_key\": 4968266072431212319, \"trip_id\": \"t_2012561_b_33529_tn_0\", \"shape_id\": \"p_9347\", \"route_id\": \"11672\", \"service_hours\": 0.75, \"trip_first_departure_ts\": 74040, \"trip_last_arrival_ts\": 76740, \"departure_hour\": 20, \"time_of_day\": \"Owl Service\", \"p25\": 0.95, \"p50\": 0.95, \"p75\": 0.98, \"p50_trip\": 0, \"fastest_trip\": 0, \"car_duration_hours\": 0.51, \"competitive_route\": 1, \"bus_multiplier\": 1.47, \"bus_difference\": 14.4, \"num_trips\": 24, \"num_competitive\": 22, \"pct_trips_competitive\": 0.917, \"bus_difference_spread\": 24.6, \"route_group\": \"medium\", \"max_trip_hrs\": 1.08, \"max_trip_route_group\": 1.45, \"name\": \"Ventura County Transportation Commission\", \"caltrans_district\": \"07 - Los Angeles\", \"drmt_organization_name\": null, \"cutoff2\": 30, \"cutoff\": 0}, {\"calitp_itp_id\": 380, \"trip_key\": -3580014210103455562, \"trip_id\": \"t_2012533_b_33529_tn_0\", \"shape_id\": \"p_9347\", \"route_id\": \"11672\", \"service_hours\": 0.75, \"trip_first_departure_ts\": 77400, \"trip_last_arrival_ts\": 80100, \"departure_hour\": 21, \"time_of_day\": \"Owl Service\", \"p25\": 0.95, \"p50\": 0.95, \"p75\": 0.98, \"p50_trip\": 0, \"fastest_trip\": 0, \"car_duration_hours\": 0.51, \"competitive_route\": 1, \"bus_multiplier\": 1.47, \"bus_difference\": 14.4, \"num_trips\": 24, \"num_competitive\": 22, \"pct_trips_competitive\": 0.917, \"bus_difference_spread\": 24.6, \"route_group\": \"medium\", \"max_trip_hrs\": 1.08, \"max_trip_route_group\": 1.45, \"name\": \"Ventura County Transportation Commission\", \"caltrans_district\": \"07 - Los Angeles\", \"drmt_organization_name\": null, \"cutoff2\": 30, \"cutoff\": 0}, {\"calitp_itp_id\": 380, \"trip_key\": -5853491086388212051, \"trip_id\": \"t_2012553_b_33529_tn_0\", \"shape_id\": \"p_9350\", \"route_id\": \"11672\", \"service_hours\": 0.78, \"trip_first_departure_ts\": 62700, \"trip_last_arrival_ts\": 65520, \"departure_hour\": 17, \"time_of_day\": \"PM Peak\", \"p25\": 0.95, \"p50\": 0.95, \"p75\": 0.98, \"p50_trip\": 0, \"fastest_trip\": 0, \"car_duration_hours\": 0.51, \"competitive_route\": 1, \"bus_multiplier\": 1.53, \"bus_difference\": 16.2, \"num_trips\": 24, \"num_competitive\": 22, \"pct_trips_competitive\": 0.917, \"bus_difference_spread\": 24.6, \"route_group\": \"medium\", \"max_trip_hrs\": 1.08, \"max_trip_route_group\": 1.45, \"name\": \"Ventura County Transportation Commission\", \"caltrans_district\": \"07 - Los Angeles\", \"drmt_organization_name\": null, \"cutoff2\": 30, \"cutoff\": 0}, {\"calitp_itp_id\": 380, \"trip_key\": 3699007838691646330, \"trip_id\": \"t_2012702_b_33529_tn_0\", \"shape_id\": \"p_898247\", \"route_id\": \"11672\", \"service_hours\": 0.85, \"trip_first_departure_ts\": 66600, \"trip_last_arrival_ts\": 69660, \"departure_hour\": 18, \"time_of_day\": \"PM Peak\", \"p25\": 0.95, \"p50\": 0.95, \"p75\": 0.98, \"p50_trip\": 0, \"fastest_trip\": 0, \"car_duration_hours\": 0.51, \"competitive_route\": 1, \"bus_multiplier\": 1.67, \"bus_difference\": 20.4, \"num_trips\": 24, \"num_competitive\": 22, \"pct_trips_competitive\": 0.917, \"bus_difference_spread\": 24.6, \"route_group\": \"medium\", \"max_trip_hrs\": 1.08, \"max_trip_route_group\": 1.45, \"name\": \"Ventura County Transportation Commission\", \"caltrans_district\": \"07 - Los Angeles\", \"drmt_organization_name\": null, \"cutoff2\": 30, \"cutoff\": 0}, {\"calitp_itp_id\": 380, \"trip_key\": -1465297498536672901, \"trip_id\": \"t_2012590_b_33529_tn_0\", \"shape_id\": \"p_9350\", \"route_id\": \"11672\", \"service_hours\": 0.95, \"trip_first_departure_ts\": 36000, \"trip_last_arrival_ts\": 39420, \"departure_hour\": 10, \"time_of_day\": \"Midday\", \"p25\": 0.95, \"p50\": 0.95, \"p75\": 0.98, \"p50_trip\": 1, \"fastest_trip\": 0, \"car_duration_hours\": 0.51, \"competitive_route\": 1, \"bus_multiplier\": 1.86, \"bus_difference\": 26.4, \"num_trips\": 24, \"num_competitive\": 22, \"pct_trips_competitive\": 0.917, \"bus_difference_spread\": 24.6, \"route_group\": \"medium\", \"max_trip_hrs\": 1.08, \"max_trip_route_group\": 1.45, \"name\": \"Ventura County Transportation Commission\", \"caltrans_district\": \"07 - Los Angeles\", \"drmt_organization_name\": null, \"cutoff2\": 30, \"cutoff\": 0}, {\"calitp_itp_id\": 380, \"trip_key\": -5364162246387263641, \"trip_id\": \"t_2012555_b_33529_tn_0\", \"shape_id\": \"p_9345\", \"route_id\": \"11672\", \"service_hours\": 0.95, \"trip_first_departure_ts\": 25500, \"trip_last_arrival_ts\": 28920, \"departure_hour\": 7, \"time_of_day\": \"AM Peak\", \"p25\": 0.95, \"p50\": 0.95, \"p75\": 0.98, \"p50_trip\": 1, \"fastest_trip\": 0, \"car_duration_hours\": 0.51, \"competitive_route\": 1, \"bus_multiplier\": 1.86, \"bus_difference\": 26.4, \"num_trips\": 24, \"num_competitive\": 22, \"pct_trips_competitive\": 0.917, \"bus_difference_spread\": 24.6, \"route_group\": \"medium\", \"max_trip_hrs\": 1.08, \"max_trip_route_group\": 1.45, \"name\": \"Ventura County Transportation Commission\", \"caltrans_district\": \"07 - Los Angeles\", \"drmt_organization_name\": null, \"cutoff2\": 30, \"cutoff\": 0}, {\"calitp_itp_id\": 380, \"trip_key\": -1015530550137262741, \"trip_id\": \"t_2012601_b_33529_tn_0\", \"shape_id\": \"p_9350\", \"route_id\": \"11672\", \"service_hours\": 0.95, \"trip_first_departure_ts\": 51540, \"trip_last_arrival_ts\": 54960, \"departure_hour\": 14, \"time_of_day\": \"Midday\", \"p25\": 0.95, \"p50\": 0.95, \"p75\": 0.98, \"p50_trip\": 1, \"fastest_trip\": 0, \"car_duration_hours\": 0.51, \"competitive_route\": 1, \"bus_multiplier\": 1.86, \"bus_difference\": 26.4, \"num_trips\": 24, \"num_competitive\": 22, \"pct_trips_competitive\": 0.917, \"bus_difference_spread\": 24.6, \"route_group\": \"medium\", \"max_trip_hrs\": 1.08, \"max_trip_route_group\": 1.45, \"name\": \"Ventura County Transportation Commission\", \"caltrans_district\": \"07 - Los Angeles\", \"drmt_organization_name\": null, \"cutoff2\": 30, \"cutoff\": 0}, {\"calitp_itp_id\": 380, \"trip_key\": 6540036279454747510, \"trip_id\": \"t_2012529_b_33529_tn_0\", \"shape_id\": \"p_9350\", \"route_id\": \"11672\", \"service_hours\": 0.95, \"trip_first_departure_ts\": 33900, \"trip_last_arrival_ts\": 37320, \"departure_hour\": 9, \"time_of_day\": \"AM Peak\", \"p25\": 0.95, \"p50\": 0.95, \"p75\": 0.98, \"p50_trip\": 1, \"fastest_trip\": 0, \"car_duration_hours\": 0.51, \"competitive_route\": 1, \"bus_multiplier\": 1.86, \"bus_difference\": 26.4, \"num_trips\": 24, \"num_competitive\": 22, \"pct_trips_competitive\": 0.917, \"bus_difference_spread\": 24.6, \"route_group\": \"medium\", \"max_trip_hrs\": 1.08, \"max_trip_route_group\": 1.45, \"name\": \"Ventura County Transportation Commission\", \"caltrans_district\": \"07 - Los Angeles\", \"drmt_organization_name\": null, \"cutoff2\": 30, \"cutoff\": 0}, {\"calitp_itp_id\": 380, \"trip_key\": 8866572416816315251, \"trip_id\": \"t_2012600_b_33529_tn_0\", \"shape_id\": \"p_9350\", \"route_id\": \"11672\", \"service_hours\": 0.95, \"trip_first_departure_ts\": 47040, \"trip_last_arrival_ts\": 50460, \"departure_hour\": 13, \"time_of_day\": \"Midday\", \"p25\": 0.95, \"p50\": 0.95, \"p75\": 0.98, \"p50_trip\": 1, \"fastest_trip\": 0, \"car_duration_hours\": 0.51, \"competitive_route\": 1, \"bus_multiplier\": 1.86, \"bus_difference\": 26.4, \"num_trips\": 24, \"num_competitive\": 22, \"pct_trips_competitive\": 0.917, \"bus_difference_spread\": 24.6, \"route_group\": \"medium\", \"max_trip_hrs\": 1.08, \"max_trip_route_group\": 1.45, \"name\": \"Ventura County Transportation Commission\", \"caltrans_district\": \"07 - Los Angeles\", \"drmt_organization_name\": null, \"cutoff2\": 30, \"cutoff\": 0}, {\"calitp_itp_id\": 380, \"trip_key\": -1411477533865701225, \"trip_id\": \"t_2012557_b_33529_tn_0\", \"shape_id\": \"p_9350\", \"route_id\": \"11672\", \"service_hours\": 0.95, \"trip_first_departure_ts\": 29100, \"trip_last_arrival_ts\": 32520, \"departure_hour\": 8, \"time_of_day\": \"AM Peak\", \"p25\": 0.95, \"p50\": 0.95, \"p75\": 0.98, \"p50_trip\": 1, \"fastest_trip\": 0, \"car_duration_hours\": 0.51, \"competitive_route\": 1, \"bus_multiplier\": 1.86, \"bus_difference\": 26.4, \"num_trips\": 24, \"num_competitive\": 22, \"pct_trips_competitive\": 0.917, \"bus_difference_spread\": 24.6, \"route_group\": \"medium\", \"max_trip_hrs\": 1.08, \"max_trip_route_group\": 1.45, \"name\": \"Ventura County Transportation Commission\", \"caltrans_district\": \"07 - Los Angeles\", \"drmt_organization_name\": null, \"cutoff2\": 30, \"cutoff\": 0}, {\"calitp_itp_id\": 380, \"trip_key\": -2688291586804861401, \"trip_id\": \"t_2012520_b_33529_tn_0\", \"shape_id\": \"p_9350\", \"route_id\": \"11672\", \"service_hours\": 0.95, \"trip_first_departure_ts\": 42300, \"trip_last_arrival_ts\": 45720, \"departure_hour\": 11, \"time_of_day\": \"Midday\", \"p25\": 0.95, \"p50\": 0.95, \"p75\": 0.98, \"p50_trip\": 1, \"fastest_trip\": 0, \"car_duration_hours\": 0.51, \"competitive_route\": 1, \"bus_multiplier\": 1.86, \"bus_difference\": 26.4, \"num_trips\": 24, \"num_competitive\": 22, \"pct_trips_competitive\": 0.917, \"bus_difference_spread\": 24.6, \"route_group\": \"medium\", \"max_trip_hrs\": 1.08, \"max_trip_route_group\": 1.45, \"name\": \"Ventura County Transportation Commission\", \"caltrans_district\": \"07 - Los Angeles\", \"drmt_organization_name\": null, \"cutoff2\": 30, \"cutoff\": 0}, {\"calitp_itp_id\": 380, \"trip_key\": -2191057499601499698, \"trip_id\": \"t_2012645_b_33529_tn_0\", \"shape_id\": \"p_9350\", \"route_id\": \"11672\", \"service_hours\": 0.95, \"trip_first_departure_ts\": 24600, \"trip_last_arrival_ts\": 28020, \"departure_hour\": 6, \"time_of_day\": \"Owl Service\", \"p25\": 0.95, \"p50\": 0.95, \"p75\": 0.98, \"p50_trip\": 1, \"fastest_trip\": 0, \"car_duration_hours\": 0.51, \"competitive_route\": 1, \"bus_multiplier\": 1.86, \"bus_difference\": 26.4, \"num_trips\": 24, \"num_competitive\": 22, \"pct_trips_competitive\": 0.917, \"bus_difference_spread\": 24.6, \"route_group\": \"medium\", \"max_trip_hrs\": 1.08, \"max_trip_route_group\": 1.45, \"name\": \"Ventura County Transportation Commission\", \"caltrans_district\": \"07 - Los Angeles\", \"drmt_organization_name\": null, \"cutoff2\": 30, \"cutoff\": 0}, {\"calitp_itp_id\": 380, \"trip_key\": -4304160533257715057, \"trip_id\": \"t_2012479_b_33529_tn_0\", \"shape_id\": \"p_9350\", \"route_id\": \"11672\", \"service_hours\": 0.95, \"trip_first_departure_ts\": 39600, \"trip_last_arrival_ts\": 43020, \"departure_hour\": 11, \"time_of_day\": \"Midday\", \"p25\": 0.95, \"p50\": 0.95, \"p75\": 0.98, \"p50_trip\": 1, \"fastest_trip\": 0, \"car_duration_hours\": 0.51, \"competitive_route\": 1, \"bus_multiplier\": 1.86, \"bus_difference\": 26.4, \"num_trips\": 24, \"num_competitive\": 22, \"pct_trips_competitive\": 0.917, \"bus_difference_spread\": 24.6, \"route_group\": \"medium\", \"max_trip_hrs\": 1.08, \"max_trip_route_group\": 1.45, \"name\": \"Ventura County Transportation Commission\", \"caltrans_district\": \"07 - Los Angeles\", \"drmt_organization_name\": null, \"cutoff2\": 30, \"cutoff\": 0}, {\"calitp_itp_id\": 380, \"trip_key\": -2986394640204099979, \"trip_id\": \"t_2012695_b_33529_tn_0\", \"shape_id\": \"p_9345\", \"route_id\": \"11672\", \"service_hours\": 0.98, \"trip_first_departure_ts\": 70200, \"trip_last_arrival_ts\": 73740, \"departure_hour\": 19, \"time_of_day\": \"PM Peak\", \"p25\": 0.95, \"p50\": 0.95, \"p75\": 0.98, \"p50_trip\": 0, \"fastest_trip\": 0, \"car_duration_hours\": 0.51, \"competitive_route\": 1, \"bus_multiplier\": 1.92, \"bus_difference\": 28.2, \"num_trips\": 24, \"num_competitive\": 22, \"pct_trips_competitive\": 0.917, \"bus_difference_spread\": 24.6, \"route_group\": \"medium\", \"max_trip_hrs\": 1.08, \"max_trip_route_group\": 1.45, \"name\": \"Ventura County Transportation Commission\", \"caltrans_district\": \"07 - Los Angeles\", \"drmt_organization_name\": null, \"cutoff2\": 30, \"cutoff\": 0}, {\"calitp_itp_id\": 380, \"trip_key\": 8529851744194259725, \"trip_id\": \"t_2012532_b_33529_tn_0\", \"shape_id\": \"p_9345\", \"route_id\": \"11672\", \"service_hours\": 0.98, \"trip_first_departure_ts\": 63000, \"trip_last_arrival_ts\": 66540, \"departure_hour\": 17, \"time_of_day\": \"PM Peak\", \"p25\": 0.95, \"p50\": 0.95, \"p75\": 0.98, \"p50_trip\": 0, \"fastest_trip\": 0, \"car_duration_hours\": 0.51, \"competitive_route\": 1, \"bus_multiplier\": 1.92, \"bus_difference\": 28.2, \"num_trips\": 24, \"num_competitive\": 22, \"pct_trips_competitive\": 0.917, \"bus_difference_spread\": 24.6, \"route_group\": \"medium\", \"max_trip_hrs\": 1.08, \"max_trip_route_group\": 1.45, \"name\": \"Ventura County Transportation Commission\", \"caltrans_district\": \"07 - Los Angeles\", \"drmt_organization_name\": null, \"cutoff2\": 30, \"cutoff\": 0}, {\"calitp_itp_id\": 380, \"trip_key\": 7965307930499388414, \"trip_id\": \"t_2012545_b_33529_tn_0\", \"shape_id\": \"p_9345\", \"route_id\": \"11672\", \"service_hours\": 0.98, \"trip_first_departure_ts\": 36000, \"trip_last_arrival_ts\": 39540, \"departure_hour\": 10, \"time_of_day\": \"Midday\", \"p25\": 0.95, \"p50\": 0.95, \"p75\": 0.98, \"p50_trip\": 0, \"fastest_trip\": 0, \"car_duration_hours\": 0.51, \"competitive_route\": 1, \"bus_multiplier\": 1.92, \"bus_difference\": 28.2, \"num_trips\": 24, \"num_competitive\": 22, \"pct_trips_competitive\": 0.917, \"bus_difference_spread\": 24.6, \"route_group\": \"medium\", \"max_trip_hrs\": 1.08, \"max_trip_route_group\": 1.45, \"name\": \"Ventura County Transportation Commission\", \"caltrans_district\": \"07 - Los Angeles\", \"drmt_organization_name\": null, \"cutoff2\": 30, \"cutoff\": 0}, {\"calitp_itp_id\": 380, \"trip_key\": 651151845328152550, \"trip_id\": \"t_2012551_b_33529_tn_0\", \"shape_id\": \"p_9345\", \"route_id\": \"11672\", \"service_hours\": 0.98, \"trip_first_departure_ts\": 47100, \"trip_last_arrival_ts\": 50640, \"departure_hour\": 13, \"time_of_day\": \"Midday\", \"p25\": 0.95, \"p50\": 0.95, \"p75\": 0.98, \"p50_trip\": 0, \"fastest_trip\": 0, \"car_duration_hours\": 0.51, \"competitive_route\": 1, \"bus_multiplier\": 1.92, \"bus_difference\": 28.2, \"num_trips\": 24, \"num_competitive\": 22, \"pct_trips_competitive\": 0.917, \"bus_difference_spread\": 24.6, \"route_group\": \"medium\", \"max_trip_hrs\": 1.08, \"max_trip_route_group\": 1.45, \"name\": \"Ventura County Transportation Commission\", \"caltrans_district\": \"07 - Los Angeles\", \"drmt_organization_name\": null, \"cutoff2\": 30, \"cutoff\": 0}, {\"calitp_itp_id\": 380, \"trip_key\": -4481777016734131864, \"trip_id\": \"t_2012558_b_33529_tn_0\", \"shape_id\": \"p_9345\", \"route_id\": \"11672\", \"service_hours\": 0.98, \"trip_first_departure_ts\": 43200, \"trip_last_arrival_ts\": 46740, \"departure_hour\": 12, \"time_of_day\": \"Midday\", \"p25\": 0.95, \"p50\": 0.95, \"p75\": 0.98, \"p50_trip\": 0, \"fastest_trip\": 0, \"car_duration_hours\": 0.51, \"competitive_route\": 1, \"bus_multiplier\": 1.92, \"bus_difference\": 28.2, \"num_trips\": 24, \"num_competitive\": 22, \"pct_trips_competitive\": 0.917, \"bus_difference_spread\": 24.6, \"route_group\": \"medium\", \"max_trip_hrs\": 1.08, \"max_trip_route_group\": 1.45, \"name\": \"Ventura County Transportation Commission\", \"caltrans_district\": \"07 - Los Angeles\", \"drmt_organization_name\": null, \"cutoff2\": 30, \"cutoff\": 0}, {\"calitp_itp_id\": 380, \"trip_key\": 1137138211923783159, \"trip_id\": \"t_2012550_b_33529_tn_0\", \"shape_id\": \"p_9345\", \"route_id\": \"11672\", \"service_hours\": 0.98, \"trip_first_departure_ts\": 38400, \"trip_last_arrival_ts\": 41940, \"departure_hour\": 10, \"time_of_day\": \"Midday\", \"p25\": 0.95, \"p50\": 0.95, \"p75\": 0.98, \"p50_trip\": 0, \"fastest_trip\": 0, \"car_duration_hours\": 0.51, \"competitive_route\": 1, \"bus_multiplier\": 1.92, \"bus_difference\": 28.2, \"num_trips\": 24, \"num_competitive\": 22, \"pct_trips_competitive\": 0.917, \"bus_difference_spread\": 24.6, \"route_group\": \"medium\", \"max_trip_hrs\": 1.08, \"max_trip_route_group\": 1.45, \"name\": \"Ventura County Transportation Commission\", \"caltrans_district\": \"07 - Los Angeles\", \"drmt_organization_name\": null, \"cutoff2\": 30, \"cutoff\": 0}, {\"calitp_itp_id\": 380, \"trip_key\": -5307294219841469067, \"trip_id\": \"t_2012560_b_33529_tn_0\", \"shape_id\": \"p_9345\", \"route_id\": \"11672\", \"service_hours\": 0.98, \"trip_first_departure_ts\": 66120, \"trip_last_arrival_ts\": 69660, \"departure_hour\": 18, \"time_of_day\": \"PM Peak\", \"p25\": 0.95, \"p50\": 0.95, \"p75\": 0.98, \"p50_trip\": 0, \"fastest_trip\": 0, \"car_duration_hours\": 0.51, \"competitive_route\": 1, \"bus_multiplier\": 1.92, \"bus_difference\": 28.2, \"num_trips\": 24, \"num_competitive\": 22, \"pct_trips_competitive\": 0.917, \"bus_difference_spread\": 24.6, \"route_group\": \"medium\", \"max_trip_hrs\": 1.08, \"max_trip_route_group\": 1.45, \"name\": \"Ventura County Transportation Commission\", \"caltrans_district\": \"07 - Los Angeles\", \"drmt_organization_name\": null, \"cutoff2\": 30, \"cutoff\": 0}, {\"calitp_itp_id\": 380, \"trip_key\": -3691662293212074040, \"trip_id\": \"t_2012578_b_33529_tn_0\", \"shape_id\": \"p_9345\", \"route_id\": \"11672\", \"service_hours\": 0.98, \"trip_first_departure_ts\": 32400, \"trip_last_arrival_ts\": 35940, \"departure_hour\": 9, \"time_of_day\": \"AM Peak\", \"p25\": 0.95, \"p50\": 0.95, \"p75\": 0.98, \"p50_trip\": 0, \"fastest_trip\": 0, \"car_duration_hours\": 0.51, \"competitive_route\": 1, \"bus_multiplier\": 1.92, \"bus_difference\": 28.2, \"num_trips\": 24, \"num_competitive\": 22, \"pct_trips_competitive\": 0.917, \"bus_difference_spread\": 24.6, \"route_group\": \"medium\", \"max_trip_hrs\": 1.08, \"max_trip_route_group\": 1.45, \"name\": \"Ventura County Transportation Commission\", \"caltrans_district\": \"07 - Los Angeles\", \"drmt_organization_name\": null, \"cutoff2\": 30, \"cutoff\": 0}, {\"calitp_itp_id\": 380, \"trip_key\": 4201142452640495994, \"trip_id\": \"t_2012552_b_33529_tn_0\", \"shape_id\": \"p_9350\", \"route_id\": \"11672\", \"service_hours\": 1.05, \"trip_first_departure_ts\": 58860, \"trip_last_arrival_ts\": 62640, \"departure_hour\": 16, \"time_of_day\": \"Midday\", \"p25\": 0.95, \"p50\": 0.95, \"p75\": 0.98, \"p50_trip\": 0, \"fastest_trip\": 0, \"car_duration_hours\": 0.51, \"competitive_route\": 1, \"bus_multiplier\": 2.06, \"bus_difference\": 32.4, \"num_trips\": 24, \"num_competitive\": 22, \"pct_trips_competitive\": 0.917, \"bus_difference_spread\": 24.6, \"route_group\": \"medium\", \"max_trip_hrs\": 1.08, \"max_trip_route_group\": 1.45, \"name\": \"Ventura County Transportation Commission\", \"caltrans_district\": \"07 - Los Angeles\", \"drmt_organization_name\": null, \"cutoff2\": 30, \"cutoff\": 0}, {\"calitp_itp_id\": 380, \"trip_key\": -1529501457730295477, \"trip_id\": \"t_2012556_b_33529_tn_0\", \"shape_id\": \"p_9345\", \"route_id\": \"11672\", \"service_hours\": 1.08, \"trip_first_departure_ts\": 27600, \"trip_last_arrival_ts\": 31500, \"departure_hour\": 7, \"time_of_day\": \"AM Peak\", \"p25\": 0.95, \"p50\": 0.95, \"p75\": 0.98, \"p50_trip\": 0, \"fastest_trip\": 0, \"car_duration_hours\": 0.51, \"competitive_route\": 1, \"bus_multiplier\": 2.12, \"bus_difference\": 34.2, \"num_trips\": 24, \"num_competitive\": 22, \"pct_trips_competitive\": 0.917, \"bus_difference_spread\": 24.6, \"route_group\": \"medium\", \"max_trip_hrs\": 1.08, \"max_trip_route_group\": 1.45, \"name\": \"Ventura County Transportation Commission\", \"caltrans_district\": \"07 - Los Angeles\", \"drmt_organization_name\": null, \"cutoff2\": 30, \"cutoff\": 0}]}}, {\"mode\": \"vega-lite\"});\n",
       "</script>"
      ],
      "text/plain": [
       "alt.FacetChart(...)"
      ]
     },
     "metadata": {},
     "output_type": "display_data"
    }
   ],
   "source": [
    "route_group = \"medium\"\n",
    "try:\n",
    "    display_charts_for_route_group(df, route_group)\n",
    "except:\n",
    "    print(\"No routes meet this criteria.\")"
   ]
  },
  {
   "cell_type": "markdown",
   "id": "124b76d0-886c-4d03-92ac-f1bda3cda182",
   "metadata": {
    "papermill": {
     "duration": 0.0214,
     "end_time": "2022-05-09T17:11:20.739974",
     "exception": false,
     "start_time": "2022-05-09T17:11:20.718574",
     "status": "completed"
    },
    "tags": []
   },
   "source": [
    "### Long Routes (> 1.5 hrs)"
   ]
  },
  {
   "cell_type": "code",
   "execution_count": 15,
   "id": "ddc81b19-4c45-4c81-8b7a-5e0f394aa7a3",
   "metadata": {
    "execution": {
     "iopub.execute_input": "2022-05-09T17:11:20.783504Z",
     "iopub.status.busy": "2022-05-09T17:11:20.782863Z",
     "iopub.status.idle": "2022-05-09T17:11:21.033861Z",
     "shell.execute_reply": "2022-05-09T17:11:21.033060Z"
    },
    "jupyter": {
     "source_hidden": true
    },
    "papermill": {
     "duration": 0.277125,
     "end_time": "2022-05-09T17:11:21.035857",
     "exception": false,
     "start_time": "2022-05-09T17:11:20.758732",
     "status": "completed"
    },
    "tags": [
     "remove_input"
    ]
   },
   "outputs": [
    {
     "data": {
      "text/markdown": [
       "<br>These are routes that have **at least 25% of their trips take no more than an additional 40 min** compared to a car (up to 15 routes) are shown.<br>Within each route group, routes are sorted in descending order by % competitive trips and # trips below the additional time cut-off."
      ],
      "text/plain": [
       "<IPython.core.display.Markdown object>"
      ]
     },
     "metadata": {},
     "output_type": "display_data"
    },
    {
     "data": {
      "text/html": [
       "\n",
       "<div id=\"altair-viz-4c4e5887e6954b789ac656db0471c0d2\"></div>\n",
       "<script type=\"text/javascript\">\n",
       "  var VEGA_DEBUG = (typeof VEGA_DEBUG == \"undefined\") ? {} : VEGA_DEBUG;\n",
       "  (function(spec, embedOpt){\n",
       "    let outputDiv = document.currentScript.previousElementSibling;\n",
       "    if (outputDiv.id !== \"altair-viz-4c4e5887e6954b789ac656db0471c0d2\") {\n",
       "      outputDiv = document.getElementById(\"altair-viz-4c4e5887e6954b789ac656db0471c0d2\");\n",
       "    }\n",
       "    const paths = {\n",
       "      \"vega\": \"https://cdn.jsdelivr.net/npm//vega@5?noext\",\n",
       "      \"vega-lib\": \"https://cdn.jsdelivr.net/npm//vega-lib?noext\",\n",
       "      \"vega-lite\": \"https://cdn.jsdelivr.net/npm//vega-lite@4.17.0?noext\",\n",
       "      \"vega-embed\": \"https://cdn.jsdelivr.net/npm//vega-embed@6?noext\",\n",
       "    };\n",
       "\n",
       "    function maybeLoadScript(lib, version) {\n",
       "      var key = `${lib.replace(\"-\", \"\")}_version`;\n",
       "      return (VEGA_DEBUG[key] == version) ?\n",
       "        Promise.resolve(paths[lib]) :\n",
       "        new Promise(function(resolve, reject) {\n",
       "          var s = document.createElement('script');\n",
       "          document.getElementsByTagName(\"head\")[0].appendChild(s);\n",
       "          s.async = true;\n",
       "          s.onload = () => {\n",
       "            VEGA_DEBUG[key] = version;\n",
       "            return resolve(paths[lib]);\n",
       "          };\n",
       "          s.onerror = () => reject(`Error loading script: ${paths[lib]}`);\n",
       "          s.src = paths[lib];\n",
       "        });\n",
       "    }\n",
       "\n",
       "    function showError(err) {\n",
       "      outputDiv.innerHTML = `<div class=\"error\" style=\"color:red;\">${err}</div>`;\n",
       "      throw err;\n",
       "    }\n",
       "\n",
       "    function displayChart(vegaEmbed) {\n",
       "      vegaEmbed(outputDiv, spec, embedOpt)\n",
       "        .catch(err => showError(`Javascript Error: ${err.message}<br>This usually means there's a typo in your chart specification. See the javascript console for the full traceback.`));\n",
       "    }\n",
       "\n",
       "    if(typeof define === \"function\" && define.amd) {\n",
       "      requirejs.config({paths});\n",
       "      require([\"vega-embed\"], displayChart, err => showError(`Error loading script: ${err.message}`));\n",
       "    } else {\n",
       "      maybeLoadScript(\"vega\", \"5\")\n",
       "        .then(() => maybeLoadScript(\"vega-lite\", \"4.17.0\"))\n",
       "        .then(() => maybeLoadScript(\"vega-embed\", \"6\"))\n",
       "        .catch(showError)\n",
       "        .then(() => displayChart(vegaEmbed));\n",
       "    }\n",
       "  })({\"config\": {\"view\": {\"continuousWidth\": 400, \"continuousHeight\": 300, \"stroke\": null}, \"facet\": {\"spacing\": 0}}, \"data\": {\"name\": \"data-f453ea7b9587086737fd95e19ceb016a\"}, \"facet\": {\"column\": {\"field\": \"route_id\", \"sort\": [\"11690\"], \"title\": \"Route ID\", \"type\": \"nominal\"}}, \"spec\": {\"layer\": [{\"mark\": \"rule\", \"encoding\": {\"color\": {\"value\": \"black\"}, \"y\": {\"field\": \"cutoff\", \"type\": \"quantitative\"}}, \"selection\": {\"selector005\": {\"type\": \"interval\", \"bind\": \"scales\", \"encodings\": [\"x\", \"y\"]}}}, {\"mark\": {\"type\": \"point\", \"opacity\": 0.65, \"size\": 12, \"strokeWidth\": 1.1}, \"encoding\": {\"color\": {\"field\": \"time_of_day\", \"scale\": {\"range\": [\"#136C97\", \"#E16B26\", \"#F6BF16\", \"#00896B\", \"#7790A3\", \"#5B559C\"]}, \"sort\": [\"AM Peak\", \"Midday\", \"PM Peak\", \"Owl Service\"], \"title\": \"Time of Day\", \"type\": \"nominal\"}, \"tooltip\": [{\"field\": \"route_id\", \"type\": \"nominal\"}, {\"field\": \"trip_id\", \"type\": \"nominal\"}, {\"field\": \"service_hours\", \"type\": \"quantitative\"}, {\"field\": \"car_duration_hours\", \"type\": \"quantitative\"}, {\"field\": \"bus_multiplier\", \"type\": \"quantitative\"}, {\"field\": \"bus_difference\", \"type\": \"quantitative\"}, {\"field\": \"num_trips\", \"type\": \"quantitative\"}, {\"field\": \"num_competitive\", \"type\": \"quantitative\"}, {\"field\": \"pct_trips_competitive\", \"type\": \"quantitative\"}, {\"field\": \"p25\", \"type\": \"quantitative\"}, {\"field\": \"p50\", \"type\": \"quantitative\"}, {\"field\": \"p75\", \"type\": \"quantitative\"}], \"x\": {\"axis\": {\"grid\": false, \"labels\": false, \"ticks\": true, \"values\": [0]}, \"field\": \"jitter\", \"scale\": {}, \"title\": null, \"type\": \"quantitative\"}, \"y\": {\"field\": \"bus_multiplier\", \"scale\": {\"domain\": [-0.25, 2.5]}, \"title\": \"Ratio of Bus to Car Travel Time\", \"type\": \"quantitative\"}}, \"transform\": [{\"calculate\": \"sqrt(-2*log(random()))*cos(2*PI*random())\", \"as\": \"jitter\"}], \"width\": 50}, {\"layer\": [{\"mark\": {\"type\": \"point\", \"opacity\": 0.6, \"size\": 20, \"strokeWidth\": 1.3}, \"encoding\": {\"color\": {\"value\": \"#323434\"}, \"y\": {\"field\": \"bus_multiplier\", \"type\": \"quantitative\"}}, \"transform\": [{\"filter\": \"(datum.p50_trip === 1)\"}]}, {\"mark\": {\"type\": \"text\", \"align\": \"center\", \"baseline\": \"middle\"}, \"encoding\": {\"color\": {\"value\": \"black\"}, \"text\": {\"field\": \"pct_trips_competitive\", \"format\": \".0%\", \"type\": \"quantitative\"}, \"tooltip\": [{\"field\": \"route_id\", \"type\": \"nominal\"}, {\"field\": \"trip_id\", \"type\": \"nominal\"}, {\"field\": \"service_hours\", \"type\": \"quantitative\"}, {\"field\": \"car_duration_hours\", \"type\": \"quantitative\"}, {\"field\": \"bus_multiplier\", \"type\": \"quantitative\"}, {\"field\": \"bus_difference\", \"type\": \"quantitative\"}, {\"field\": \"num_trips\", \"type\": \"quantitative\"}, {\"field\": \"num_competitive\", \"type\": \"quantitative\"}, {\"field\": \"pct_trips_competitive\", \"type\": \"quantitative\"}, {\"field\": \"p25\", \"type\": \"quantitative\"}, {\"field\": \"p50\", \"type\": \"quantitative\"}, {\"field\": \"p75\", \"type\": \"quantitative\"}], \"x\": {\"value\": 30}, \"y\": {\"value\": 15}}, \"transform\": [{\"calculate\": \"sqrt(-2*log(random()))*cos(2*PI*random())\", \"as\": \"jitter\"}, {\"filter\": \"(datum.fastest_trip === 1)\"}]}]}]}, \"resolve\": {\"scale\": {\"y\": \"shared\"}}, \"title\": \"Ratio of Bus to Car Travel Time\", \"$schema\": \"https://vega.github.io/schema/vega-lite/v4.17.0.json\", \"datasets\": {\"data-f453ea7b9587086737fd95e19ceb016a\": [{\"calitp_itp_id\": 380, \"trip_key\": -2264956901710554590, \"trip_id\": \"t_2012539_b_33529_tn_0\", \"shape_id\": \"p_9409\", \"route_id\": \"11690\", \"service_hours\": 1.67, \"trip_first_departure_ts\": 19200, \"trip_last_arrival_ts\": 25200, \"departure_hour\": 5, \"time_of_day\": \"Owl Service\", \"p25\": 1.67, \"p50\": 1.77, \"p75\": 1.9225, \"p50_trip\": 1, \"fastest_trip\": 0, \"car_duration_hours\": 1.09, \"competitive_route\": 1, \"bus_multiplier\": 1.53, \"bus_difference\": 34.8, \"num_trips\": 4, \"num_competitive\": 4, \"pct_trips_competitive\": 1.0, \"bus_difference_spread\": 24.6, \"route_group\": \"long\", \"max_trip_hrs\": 2.08, \"max_trip_route_group\": 2.78, \"name\": \"Ventura County Transportation Commission\", \"caltrans_district\": \"07 - Los Angeles\", \"drmt_organization_name\": null, \"cutoff2\": 40, \"cutoff\": 2}, {\"calitp_itp_id\": 380, \"trip_key\": 1309661196047819530, \"trip_id\": \"t_2012465_b_33529_tn_0\", \"shape_id\": \"p_9413\", \"route_id\": \"11690\", \"service_hours\": 1.67, \"trip_first_departure_ts\": 61800, \"trip_last_arrival_ts\": 67800, \"departure_hour\": 17, \"time_of_day\": \"PM Peak\", \"p25\": 1.67, \"p50\": 1.77, \"p75\": 1.9225, \"p50_trip\": 1, \"fastest_trip\": 1, \"car_duration_hours\": 1.09, \"competitive_route\": 1, \"bus_multiplier\": 1.53, \"bus_difference\": 34.8, \"num_trips\": 4, \"num_competitive\": 4, \"pct_trips_competitive\": 1.0, \"bus_difference_spread\": 24.6, \"route_group\": \"long\", \"max_trip_hrs\": 2.08, \"max_trip_route_group\": 2.78, \"name\": \"Ventura County Transportation Commission\", \"caltrans_district\": \"07 - Los Angeles\", \"drmt_organization_name\": null, \"cutoff2\": 40, \"cutoff\": 2}, {\"calitp_itp_id\": 380, \"trip_key\": 6438527212206342248, \"trip_id\": \"t_2012627_b_33529_tn_0\", \"shape_id\": \"p_9413\", \"route_id\": \"11690\", \"service_hours\": 1.87, \"trip_first_departure_ts\": 58200, \"trip_last_arrival_ts\": 64920, \"departure_hour\": 16, \"time_of_day\": \"Midday\", \"p25\": 1.67, \"p50\": 1.77, \"p75\": 1.9225, \"p50_trip\": 1, \"fastest_trip\": 0, \"car_duration_hours\": 1.09, \"competitive_route\": 1, \"bus_multiplier\": 1.72, \"bus_difference\": 46.8, \"num_trips\": 4, \"num_competitive\": 4, \"pct_trips_competitive\": 1.0, \"bus_difference_spread\": 24.6, \"route_group\": \"long\", \"max_trip_hrs\": 2.08, \"max_trip_route_group\": 2.78, \"name\": \"Ventura County Transportation Commission\", \"caltrans_district\": \"07 - Los Angeles\", \"drmt_organization_name\": null, \"cutoff2\": 40, \"cutoff\": 2}, {\"calitp_itp_id\": 380, \"trip_key\": -3671692609972788960, \"trip_id\": \"t_2012613_b_33529_tn_0\", \"shape_id\": \"p_9409\", \"route_id\": \"11690\", \"service_hours\": 2.08, \"trip_first_departure_ts\": 21300, \"trip_last_arrival_ts\": 28800, \"departure_hour\": 5, \"time_of_day\": \"Owl Service\", \"p25\": 1.67, \"p50\": 1.77, \"p75\": 1.9225, \"p50_trip\": 0, \"fastest_trip\": 0, \"car_duration_hours\": 1.09, \"competitive_route\": 1, \"bus_multiplier\": 1.91, \"bus_difference\": 59.4, \"num_trips\": 4, \"num_competitive\": 4, \"pct_trips_competitive\": 1.0, \"bus_difference_spread\": 24.6, \"route_group\": \"long\", \"max_trip_hrs\": 2.08, \"max_trip_route_group\": 2.78, \"name\": \"Ventura County Transportation Commission\", \"caltrans_district\": \"07 - Los Angeles\", \"drmt_organization_name\": null, \"cutoff2\": 40, \"cutoff\": 2}]}}, {\"mode\": \"vega-lite\"});\n",
       "</script>"
      ],
      "text/plain": [
       "alt.FacetChart(...)"
      ]
     },
     "metadata": {},
     "output_type": "display_data"
    },
    {
     "data": {
      "text/html": [
       "\n",
       "<div id=\"altair-viz-6b106d48bfb64c11a3abaad09aec2abd\"></div>\n",
       "<script type=\"text/javascript\">\n",
       "  var VEGA_DEBUG = (typeof VEGA_DEBUG == \"undefined\") ? {} : VEGA_DEBUG;\n",
       "  (function(spec, embedOpt){\n",
       "    let outputDiv = document.currentScript.previousElementSibling;\n",
       "    if (outputDiv.id !== \"altair-viz-6b106d48bfb64c11a3abaad09aec2abd\") {\n",
       "      outputDiv = document.getElementById(\"altair-viz-6b106d48bfb64c11a3abaad09aec2abd\");\n",
       "    }\n",
       "    const paths = {\n",
       "      \"vega\": \"https://cdn.jsdelivr.net/npm//vega@5?noext\",\n",
       "      \"vega-lib\": \"https://cdn.jsdelivr.net/npm//vega-lib?noext\",\n",
       "      \"vega-lite\": \"https://cdn.jsdelivr.net/npm//vega-lite@4.17.0?noext\",\n",
       "      \"vega-embed\": \"https://cdn.jsdelivr.net/npm//vega-embed@6?noext\",\n",
       "    };\n",
       "\n",
       "    function maybeLoadScript(lib, version) {\n",
       "      var key = `${lib.replace(\"-\", \"\")}_version`;\n",
       "      return (VEGA_DEBUG[key] == version) ?\n",
       "        Promise.resolve(paths[lib]) :\n",
       "        new Promise(function(resolve, reject) {\n",
       "          var s = document.createElement('script');\n",
       "          document.getElementsByTagName(\"head\")[0].appendChild(s);\n",
       "          s.async = true;\n",
       "          s.onload = () => {\n",
       "            VEGA_DEBUG[key] = version;\n",
       "            return resolve(paths[lib]);\n",
       "          };\n",
       "          s.onerror = () => reject(`Error loading script: ${paths[lib]}`);\n",
       "          s.src = paths[lib];\n",
       "        });\n",
       "    }\n",
       "\n",
       "    function showError(err) {\n",
       "      outputDiv.innerHTML = `<div class=\"error\" style=\"color:red;\">${err}</div>`;\n",
       "      throw err;\n",
       "    }\n",
       "\n",
       "    function displayChart(vegaEmbed) {\n",
       "      vegaEmbed(outputDiv, spec, embedOpt)\n",
       "        .catch(err => showError(`Javascript Error: ${err.message}<br>This usually means there's a typo in your chart specification. See the javascript console for the full traceback.`));\n",
       "    }\n",
       "\n",
       "    if(typeof define === \"function\" && define.amd) {\n",
       "      requirejs.config({paths});\n",
       "      require([\"vega-embed\"], displayChart, err => showError(`Error loading script: ${err.message}`));\n",
       "    } else {\n",
       "      maybeLoadScript(\"vega\", \"5\")\n",
       "        .then(() => maybeLoadScript(\"vega-lite\", \"4.17.0\"))\n",
       "        .then(() => maybeLoadScript(\"vega-embed\", \"6\"))\n",
       "        .catch(showError)\n",
       "        .then(() => displayChart(vegaEmbed));\n",
       "    }\n",
       "  })({\"config\": {\"view\": {\"continuousWidth\": 400, \"continuousHeight\": 300, \"stroke\": null}, \"facet\": {\"spacing\": 0}}, \"data\": {\"name\": \"data-a24c9d41fce94072b71fe06e4aeb8054\"}, \"facet\": {\"column\": {\"field\": \"route_id\", \"sort\": [\"11690\"], \"title\": \"Route ID\", \"type\": \"nominal\"}}, \"spec\": {\"layer\": [{\"mark\": \"rule\", \"encoding\": {\"color\": {\"value\": \"black\"}, \"y\": {\"field\": \"cutoff\", \"type\": \"quantitative\"}}, \"selection\": {\"selector006\": {\"type\": \"interval\", \"bind\": \"scales\", \"encodings\": [\"x\", \"y\"]}}}, {\"mark\": {\"type\": \"rule\", \"strokeDash\": [3, 3]}, \"encoding\": {\"color\": {\"value\": \"#323434\"}, \"y\": {\"field\": \"cutoff2\", \"type\": \"quantitative\"}}}, {\"mark\": {\"type\": \"point\", \"opacity\": 0.65, \"size\": 12, \"strokeWidth\": 1.1}, \"encoding\": {\"color\": {\"field\": \"time_of_day\", \"scale\": {\"range\": [\"#136C97\", \"#E16B26\", \"#F6BF16\", \"#00896B\", \"#7790A3\", \"#5B559C\"]}, \"sort\": [\"AM Peak\", \"Midday\", \"PM Peak\", \"Owl Service\"], \"title\": \"Time of Day\", \"type\": \"nominal\"}, \"tooltip\": [{\"field\": \"route_id\", \"type\": \"nominal\"}, {\"field\": \"trip_id\", \"type\": \"nominal\"}, {\"field\": \"service_hours\", \"type\": \"quantitative\"}, {\"field\": \"car_duration_hours\", \"type\": \"quantitative\"}, {\"field\": \"bus_multiplier\", \"type\": \"quantitative\"}, {\"field\": \"bus_difference\", \"type\": \"quantitative\"}, {\"field\": \"num_trips\", \"type\": \"quantitative\"}, {\"field\": \"num_competitive\", \"type\": \"quantitative\"}, {\"field\": \"pct_trips_competitive\", \"type\": \"quantitative\"}, {\"field\": \"p25\", \"type\": \"quantitative\"}, {\"field\": \"p50\", \"type\": \"quantitative\"}, {\"field\": \"p75\", \"type\": \"quantitative\"}], \"x\": {\"axis\": {\"grid\": false, \"labels\": false, \"ticks\": true, \"values\": [0]}, \"field\": \"jitter\", \"scale\": {}, \"title\": null, \"type\": \"quantitative\"}, \"y\": {\"field\": \"bus_difference\", \"scale\": {\"domain\": [-5, 59.4]}, \"title\": \"Difference in Bus to Car Travel Time (min)\", \"type\": \"quantitative\"}}, \"transform\": [{\"calculate\": \"sqrt(-2*log(random()))*cos(2*PI*random())\", \"as\": \"jitter\"}], \"width\": 50}, {\"layer\": [{\"mark\": {\"type\": \"point\", \"opacity\": 0.6, \"size\": 20, \"strokeWidth\": 1.3}, \"encoding\": {\"color\": {\"value\": \"#323434\"}, \"y\": {\"field\": \"bus_difference\", \"type\": \"quantitative\"}}, \"transform\": [{\"filter\": \"(datum.p50_trip === 1)\"}]}, {\"mark\": {\"type\": \"text\", \"align\": \"center\", \"baseline\": \"middle\"}, \"encoding\": {\"color\": {\"value\": \"black\"}, \"text\": {\"field\": \"pct_trips_competitive\", \"format\": \".0%\", \"type\": \"quantitative\"}, \"tooltip\": [{\"field\": \"route_id\", \"type\": \"nominal\"}, {\"field\": \"trip_id\", \"type\": \"nominal\"}, {\"field\": \"service_hours\", \"type\": \"quantitative\"}, {\"field\": \"car_duration_hours\", \"type\": \"quantitative\"}, {\"field\": \"bus_multiplier\", \"type\": \"quantitative\"}, {\"field\": \"bus_difference\", \"type\": \"quantitative\"}, {\"field\": \"num_trips\", \"type\": \"quantitative\"}, {\"field\": \"num_competitive\", \"type\": \"quantitative\"}, {\"field\": \"pct_trips_competitive\", \"type\": \"quantitative\"}, {\"field\": \"p25\", \"type\": \"quantitative\"}, {\"field\": \"p50\", \"type\": \"quantitative\"}, {\"field\": \"p75\", \"type\": \"quantitative\"}], \"x\": {\"value\": 30}, \"y\": {\"value\": 15}}, \"transform\": [{\"calculate\": \"sqrt(-2*log(random()))*cos(2*PI*random())\", \"as\": \"jitter\"}, {\"filter\": \"(datum.fastest_trip === 1)\"}]}]}]}, \"resolve\": {\"scale\": {\"y\": \"shared\"}}, \"title\": \"Difference in Bus to Car Travel Time (min)\", \"$schema\": \"https://vega.github.io/schema/vega-lite/v4.17.0.json\", \"datasets\": {\"data-a24c9d41fce94072b71fe06e4aeb8054\": [{\"calitp_itp_id\": 380, \"trip_key\": -2264956901710554590, \"trip_id\": \"t_2012539_b_33529_tn_0\", \"shape_id\": \"p_9409\", \"route_id\": \"11690\", \"service_hours\": 1.67, \"trip_first_departure_ts\": 19200, \"trip_last_arrival_ts\": 25200, \"departure_hour\": 5, \"time_of_day\": \"Owl Service\", \"p25\": 1.67, \"p50\": 1.77, \"p75\": 1.9225, \"p50_trip\": 1, \"fastest_trip\": 0, \"car_duration_hours\": 1.09, \"competitive_route\": 1, \"bus_multiplier\": 1.53, \"bus_difference\": 34.8, \"num_trips\": 4, \"num_competitive\": 4, \"pct_trips_competitive\": 1.0, \"bus_difference_spread\": 24.6, \"route_group\": \"long\", \"max_trip_hrs\": 2.08, \"max_trip_route_group\": 2.78, \"name\": \"Ventura County Transportation Commission\", \"caltrans_district\": \"07 - Los Angeles\", \"drmt_organization_name\": null, \"cutoff2\": 40, \"cutoff\": 0}, {\"calitp_itp_id\": 380, \"trip_key\": 1309661196047819530, \"trip_id\": \"t_2012465_b_33529_tn_0\", \"shape_id\": \"p_9413\", \"route_id\": \"11690\", \"service_hours\": 1.67, \"trip_first_departure_ts\": 61800, \"trip_last_arrival_ts\": 67800, \"departure_hour\": 17, \"time_of_day\": \"PM Peak\", \"p25\": 1.67, \"p50\": 1.77, \"p75\": 1.9225, \"p50_trip\": 1, \"fastest_trip\": 1, \"car_duration_hours\": 1.09, \"competitive_route\": 1, \"bus_multiplier\": 1.53, \"bus_difference\": 34.8, \"num_trips\": 4, \"num_competitive\": 4, \"pct_trips_competitive\": 1.0, \"bus_difference_spread\": 24.6, \"route_group\": \"long\", \"max_trip_hrs\": 2.08, \"max_trip_route_group\": 2.78, \"name\": \"Ventura County Transportation Commission\", \"caltrans_district\": \"07 - Los Angeles\", \"drmt_organization_name\": null, \"cutoff2\": 40, \"cutoff\": 0}, {\"calitp_itp_id\": 380, \"trip_key\": 6438527212206342248, \"trip_id\": \"t_2012627_b_33529_tn_0\", \"shape_id\": \"p_9413\", \"route_id\": \"11690\", \"service_hours\": 1.87, \"trip_first_departure_ts\": 58200, \"trip_last_arrival_ts\": 64920, \"departure_hour\": 16, \"time_of_day\": \"Midday\", \"p25\": 1.67, \"p50\": 1.77, \"p75\": 1.9225, \"p50_trip\": 1, \"fastest_trip\": 0, \"car_duration_hours\": 1.09, \"competitive_route\": 1, \"bus_multiplier\": 1.72, \"bus_difference\": 46.8, \"num_trips\": 4, \"num_competitive\": 4, \"pct_trips_competitive\": 1.0, \"bus_difference_spread\": 24.6, \"route_group\": \"long\", \"max_trip_hrs\": 2.08, \"max_trip_route_group\": 2.78, \"name\": \"Ventura County Transportation Commission\", \"caltrans_district\": \"07 - Los Angeles\", \"drmt_organization_name\": null, \"cutoff2\": 40, \"cutoff\": 0}, {\"calitp_itp_id\": 380, \"trip_key\": -3671692609972788960, \"trip_id\": \"t_2012613_b_33529_tn_0\", \"shape_id\": \"p_9409\", \"route_id\": \"11690\", \"service_hours\": 2.08, \"trip_first_departure_ts\": 21300, \"trip_last_arrival_ts\": 28800, \"departure_hour\": 5, \"time_of_day\": \"Owl Service\", \"p25\": 1.67, \"p50\": 1.77, \"p75\": 1.9225, \"p50_trip\": 0, \"fastest_trip\": 0, \"car_duration_hours\": 1.09, \"competitive_route\": 1, \"bus_multiplier\": 1.91, \"bus_difference\": 59.4, \"num_trips\": 4, \"num_competitive\": 4, \"pct_trips_competitive\": 1.0, \"bus_difference_spread\": 24.6, \"route_group\": \"long\", \"max_trip_hrs\": 2.08, \"max_trip_route_group\": 2.78, \"name\": \"Ventura County Transportation Commission\", \"caltrans_district\": \"07 - Los Angeles\", \"drmt_organization_name\": null, \"cutoff2\": 40, \"cutoff\": 0}]}}, {\"mode\": \"vega-lite\"});\n",
       "</script>"
      ],
      "text/plain": [
       "alt.FacetChart(...)"
      ]
     },
     "metadata": {},
     "output_type": "display_data"
    }
   ],
   "source": [
    "route_group = \"long\"\n",
    "try:\n",
    "    display_charts_for_route_group(df, route_group)\n",
    "except:\n",
    "    print(\"No routes meet this criteria.\")"
   ]
  },
  {
   "cell_type": "markdown",
   "id": "ace75b5f-0442-4fbe-aebd-6c3a13ae13a7",
   "metadata": {
    "papermill": {
     "duration": 0.020826,
     "end_time": "2022-05-09T17:11:21.078055",
     "exception": false,
     "start_time": "2022-05-09T17:11:21.057229",
     "status": "completed"
    },
    "tags": []
   },
   "source": [
    "### GTFS Real-Time Speedmaps"
   ]
  },
  {
   "cell_type": "code",
   "execution_count": 16,
   "id": "3f06fdc4-d5a8-41f5-9b72-ed7e8a2dd2fc",
   "metadata": {
    "execution": {
     "iopub.execute_input": "2022-05-09T17:11:21.127959Z",
     "iopub.status.busy": "2022-05-09T17:11:21.126817Z",
     "iopub.status.idle": "2022-05-09T17:11:21.178955Z",
     "shell.execute_reply": "2022-05-09T17:11:21.177945Z"
    },
    "jupyter": {
     "source_hidden": true
    },
    "papermill": {
     "duration": 0.082598,
     "end_time": "2022-05-09T17:11:21.181600",
     "exception": false,
     "start_time": "2022-05-09T17:11:21.099002",
     "status": "completed"
    },
    "tags": [
     "remove_input"
    ]
   },
   "outputs": [
    {
     "data": {
      "text/html": [
       "No GTFS RT data available."
      ],
      "text/plain": [
       "<IPython.core.display.HTML object>"
      ]
     },
     "metadata": {},
     "output_type": "display_data"
    }
   ],
   "source": [
    "PORTFOLIO_SITE_YAML = \"../portfolio/analyses.yml\"\n",
    "\n",
    "# Grab list of ITP IDs with GTFS RT speedmaps\n",
    "rt_itp_id = deploy_portfolio_yaml.check_if_rt_data_available(PORTFOLIO_SITE_YAML)\n",
    "\n",
    "# Construct the URL \n",
    "RT_URL = (\"https://analysis.calitp.org/rt/\"\n",
    "          f\"district_{district_number}-{district_name}/\"\n",
    "          f\"speedmaps__itp_id_{itp_id}.html\"\n",
    "         ) \n",
    "\n",
    "if itp_id in rt_itp_id:\n",
    "    display(HTML('<a href=RT_URL>GTFS RT speedmaps here.</a>'))\n",
    "else:\n",
    "    display(HTML(\"No GTFS RT data available.\"))"
   ]
  },
  {
   "cell_type": "code",
   "execution_count": null,
   "id": "4664fe87-4e5e-4414-9602-a5c9c2a14072",
   "metadata": {
    "jupyter": {
     "source_hidden": true
    },
    "papermill": {
     "duration": 0.02294,
     "end_time": "2022-05-09T17:11:21.232990",
     "exception": false,
     "start_time": "2022-05-09T17:11:21.210050",
     "status": "completed"
    },
    "tags": [
     "remove_input"
    ]
   },
   "outputs": [],
   "source": []
  }
 ],
 "metadata": {
  "kernelspec": {
   "display_name": "Python 3 (ipykernel)",
   "language": "python",
   "name": "python3"
  },
  "language_info": {
   "codemirror_mode": {
    "name": "ipython",
    "version": 3
   },
   "file_extension": ".py",
   "mimetype": "text/x-python",
   "name": "python",
   "nbconvert_exporter": "python",
   "pygments_lexer": "ipython3",
   "version": "3.9.12"
  },
  "papermill": {
   "default_parameters": {},
   "duration": 41.077401,
   "end_time": "2022-05-09T17:11:23.860664",
   "environment_variables": {},
   "exception": null,
   "input_path": "bus_service_increase/competitive-parallel-routes.ipynb",
   "output_path": "portfolio/parallel_corridors/district_07-los-angeles/competitive-parallel-routes__itp_id_380.ipynb",
   "parameters": {
    "district": "07 - Los Angeles",
    "itp_id": 380
   },
   "start_time": "2022-05-09T17:10:42.783263",
   "version": "2.3.4"
  }
 },
 "nbformat": 4,
 "nbformat_minor": 5
}