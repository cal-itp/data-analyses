version https://git-lfs.github.com/spec/v1
oid sha256:3ba93aae815eb038dca8c81825df7e26295c40a24e41444175784c2acc1e8851
size 1040020
