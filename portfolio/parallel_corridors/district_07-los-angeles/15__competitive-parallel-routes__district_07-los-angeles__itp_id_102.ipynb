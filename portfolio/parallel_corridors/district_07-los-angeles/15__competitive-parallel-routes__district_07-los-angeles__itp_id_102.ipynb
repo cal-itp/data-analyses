{
 "cells": [
  {
   "cell_type": "code",
   "execution_count": 1,
   "id": "95d00857-6a20-4529-a519-2cc7182928a9",
   "metadata": {
    "execution": {
     "iopub.execute_input": "2022-05-11T22:20:24.998779Z",
     "iopub.status.busy": "2022-05-11T22:20:24.998466Z",
     "iopub.status.idle": "2022-05-11T22:20:33.587580Z",
     "shell.execute_reply": "2022-05-11T22:20:33.581664Z"
    },
    "jupyter": {
     "source_hidden": true
    },
    "papermill": {
     "duration": 8.615531,
     "end_time": "2022-05-11T22:20:33.597646",
     "exception": false,
     "start_time": "2022-05-11T22:20:24.982115",
     "status": "completed"
    },
    "tags": [
     "remove_input"
    ]
   },
   "outputs": [],
   "source": [
    "%%capture\n",
    "import warnings\n",
    "warnings.filterwarnings('ignore')\n",
    "\n",
    "import altair as alt\n",
    "import calitp.magics\n",
    "import geopandas as gpd\n",
    "import intake\n",
    "import pandas as pd\n",
    "\n",
    "from IPython.display import display, Markdown, HTML\n",
    "\n",
    "import parallel_corridors_utils\n",
    "import deploy_portfolio_yaml\n",
    "from shared_utils import styleguide, geography_utils\n",
    "from make_stripplot_data import diff_cutoffs\n",
    "\n",
    "catalog = intake.open_catalog(\"./*.yml\")\n",
    "alt.renderers.enable(\"html\")"
   ]
  },
  {
   "cell_type": "code",
   "execution_count": 2,
   "id": "8af2a0c1-f3da-408d-9bea-11d9fbf8695d",
   "metadata": {
    "execution": {
     "iopub.execute_input": "2022-05-11T22:20:33.638685Z",
     "iopub.status.busy": "2022-05-11T22:20:33.637784Z",
     "iopub.status.idle": "2022-05-11T22:20:33.642027Z",
     "shell.execute_reply": "2022-05-11T22:20:33.641312Z"
    },
    "jupyter": {
     "source_hidden": true
    },
    "papermill": {
     "duration": 0.021853,
     "end_time": "2022-05-11T22:20:33.643952",
     "exception": false,
     "start_time": "2022-05-11T22:20:33.622099",
     "status": "completed"
    },
    "tags": [
     "parameters",
     "remove_input"
    ]
   },
   "outputs": [],
   "source": [
    "# parameters cell\n",
    "itp_id = 182"
   ]
  },
  {
   "cell_type": "code",
   "execution_count": 3,
   "id": "c1bce45c",
   "metadata": {
    "execution": {
     "iopub.execute_input": "2022-05-11T22:20:33.672658Z",
     "iopub.status.busy": "2022-05-11T22:20:33.672156Z",
     "iopub.status.idle": "2022-05-11T22:20:33.676487Z",
     "shell.execute_reply": "2022-05-11T22:20:33.675739Z"
    },
    "jupyter": {
     "source_hidden": true
    },
    "papermill": {
     "duration": 0.02113,
     "end_time": "2022-05-11T22:20:33.678373",
     "exception": false,
     "start_time": "2022-05-11T22:20:33.657243",
     "status": "completed"
    },
    "tags": [
     "injected-parameters",
     "remove_input"
    ]
   },
   "outputs": [],
   "source": [
    "# Parameters\n",
    "district = \"07 - Los Angeles\"\n",
    "itp_id = 102\n"
   ]
  },
  {
   "cell_type": "code",
   "execution_count": 4,
   "id": "9582aaf4-79ff-412a-b248-8d8d693ebd4f",
   "metadata": {
    "execution": {
     "iopub.execute_input": "2022-05-11T22:20:33.707725Z",
     "iopub.status.busy": "2022-05-11T22:20:33.706738Z",
     "iopub.status.idle": "2022-05-11T22:20:34.950793Z",
     "shell.execute_reply": "2022-05-11T22:20:34.949785Z"
    },
    "jupyter": {
     "source_hidden": true
    },
    "papermill": {
     "duration": 1.262245,
     "end_time": "2022-05-11T22:20:34.953581",
     "exception": false,
     "start_time": "2022-05-11T22:20:33.691336",
     "status": "completed"
    },
    "tags": [
     "remove_input"
    ]
   },
   "outputs": [],
   "source": [
    "df = catalog.competitive_route_variability.read()\n",
    "\n",
    "df = (df[(df.calitp_itp_id == itp_id) & \n",
    "         (df.route_group.notna())]\n",
    "      .rename(columns = {\"route_name_used\": \"route_name\"})\n",
    "      .reset_index(drop=True)\n",
    "     )\n",
    "\n",
    "if itp_id == 182:\n",
    "    df = df.assign(\n",
    "        route_id = df.route_id.str.replace('-13153', '').astype(int)\n",
    "    )"
   ]
  },
  {
   "cell_type": "code",
   "execution_count": 5,
   "id": "33ac4b06-f647-4dce-a625-8f2c1b37cc60",
   "metadata": {
    "execution": {
     "iopub.execute_input": "2022-05-11T22:20:34.982106Z",
     "iopub.status.busy": "2022-05-11T22:20:34.981794Z",
     "iopub.status.idle": "2022-05-11T22:20:34.990400Z",
     "shell.execute_reply": "2022-05-11T22:20:34.989595Z"
    },
    "jupyter": {
     "source_hidden": true
    },
    "papermill": {
     "duration": 0.025728,
     "end_time": "2022-05-11T22:20:34.992783",
     "exception": false,
     "start_time": "2022-05-11T22:20:34.967055",
     "status": "completed"
    },
    "tags": [
     "remove_input"
    ]
   },
   "outputs": [],
   "source": [
    "%%capture_parameters\n",
    "operator_name = df.name.iloc[0]\n",
    "district_number = f\"{df.caltrans_district.iloc[0].split('-')[0].strip()}\"\n",
    "district_name = f\"{df.caltrans_district.iloc[0].split('-')[1].strip().lower().replace(' ', '-')}\"\n",
    "\n",
    "itp_id, operator_name, district_number, district_name"
   ]
  },
  {
   "cell_type": "markdown",
   "id": "65bc6f5c-8348-42ee-b2dd-52057c406852",
   "metadata": {
    "papermill": {
     "duration": 0.0129,
     "end_time": "2022-05-11T22:20:35.018379",
     "exception": false,
     "start_time": "2022-05-11T22:20:35.005479",
     "status": "completed"
    },
    "tags": []
   },
   "source": [
    "# City of El Monte (ITP ID: 102)"
   ]
  },
  {
   "cell_type": "code",
   "execution_count": 6,
   "id": "a689c1ab-2c6c-4831-8d64-897f5986f571",
   "metadata": {
    "execution": {
     "iopub.execute_input": "2022-05-11T22:20:35.043866Z",
     "iopub.status.busy": "2022-05-11T22:20:35.043537Z",
     "iopub.status.idle": "2022-05-11T22:20:35.050933Z",
     "shell.execute_reply": "2022-05-11T22:20:35.050315Z"
    },
    "jupyter": {
     "source_hidden": true
    },
    "papermill": {
     "duration": 0.022516,
     "end_time": "2022-05-11T22:20:35.052622",
     "exception": false,
     "start_time": "2022-05-11T22:20:35.030106",
     "status": "completed"
    },
    "tags": [
     "remove_input"
    ]
   },
   "outputs": [
    {
     "data": {
      "text/html": [
       "<h1>Competitive & Parallel Routes</h1>"
      ],
      "text/plain": [
       "<IPython.core.display.HTML object>"
      ]
     },
     "metadata": {},
     "output_type": "display_data"
    }
   ],
   "source": [
    "display(HTML(\"<h1>Competitive & Parallel Routes</h1>\")) "
   ]
  },
  {
   "cell_type": "code",
   "execution_count": 7,
   "id": "2cb4d8d5-4760-40e4-85b1-cb833d8bb648",
   "metadata": {
    "execution": {
     "iopub.execute_input": "2022-05-11T22:20:35.082554Z",
     "iopub.status.busy": "2022-05-11T22:20:35.081570Z",
     "iopub.status.idle": "2022-05-11T22:20:45.092266Z",
     "shell.execute_reply": "2022-05-11T22:20:45.091336Z"
    },
    "jupyter": {
     "source_hidden": true
    },
    "papermill": {
     "duration": 10.029091,
     "end_time": "2022-05-11T22:20:45.094851",
     "exception": false,
     "start_time": "2022-05-11T22:20:35.065760",
     "status": "completed"
    },
    "tags": [
     "remove_input"
    ]
   },
   "outputs": [],
   "source": [
    "# Grab parameters for narrative text - clean up formatting here \n",
    "district = df.caltrans_district.iloc[0]\n",
    "formatted_date = pd.to_datetime(parallel_corridors_utils.SELECTED_DATE).strftime('%m-%d-%Y')\n",
    "\n",
    "PCT_COMPETITIVE_THRESHOLD = 0.75\n",
    "PCT_TRIPS_BELOW_CUTOFF = 0.50\n",
    "\n",
    "stats = parallel_corridors_utils.operator_parallel_competitive_stats(\n",
    "    itp_id, PCT_COMPETITIVE_THRESHOLD, PCT_TRIPS_BELOW_CUTOFF)\n",
    "\n",
    "pct_parallel = round(stats['parallel_routes'] / stats['num_routes'] * 100, 1 )\n",
    "pct_competitive =  round(stats['competitive_routes'] / stats['num_routes'] * 100, 1 )\n",
    "pct_viable =  round(stats['viable_competitive_routes'] / stats['num_routes'] * 100, 1 )"
   ]
  },
  {
   "cell_type": "code",
   "execution_count": 8,
   "id": "8bf30c8f-6aa5-47bb-82ae-a906732e81fd",
   "metadata": {
    "execution": {
     "iopub.execute_input": "2022-05-11T22:20:45.122499Z",
     "iopub.status.busy": "2022-05-11T22:20:45.122219Z",
     "iopub.status.idle": "2022-05-11T22:20:45.150530Z",
     "shell.execute_reply": "2022-05-11T22:20:45.149678Z"
    },
    "jupyter": {
     "source_hidden": true
    },
    "papermill": {
     "duration": 0.045204,
     "end_time": "2022-05-11T22:20:45.153074",
     "exception": false,
     "start_time": "2022-05-11T22:20:45.107870",
     "status": "completed"
    },
    "tags": [
     "remove_input"
    ]
   },
   "outputs": [],
   "source": [
    "# Display a table of route-level stats for each route_group\n",
    "# Displaying route_name makes chart too crowded\n",
    "\n",
    "# Get route stats (for entire df)\n",
    "route_stats = parallel_corridors_utils.competitive_route_level_stats(df)\n",
    "    \n",
    "def style_route_stats(df, top15_routes):\n",
    "    df = df[df.route_id.isin(top15_routes)]\n",
    "    \n",
    "    # Rename columns for display\n",
    "    rename_cols = {\n",
    "        \"route_id\": \"Route ID\",\n",
    "        \"route_name\": \"Route Name\",\n",
    "        \"route_group\": \"Route Group\",\n",
    "        \"num_trips\": \"# trips\",\n",
    "        \"daily_avg_freq\": \"Daily Avg Frequency (trips per hr)\",\n",
    "        \"pm_peak_freq\": \"PM Peak Avg Frequency (trips per hr)\",\n",
    "        \"percentiles\": \"25th, 50th, 75th ptile (hrs)\",\n",
    "    }\n",
    "    \n",
    "    # Style it\n",
    "    drop_cols = [\n",
    "        \"calitp_itp_id\", \"below_cutoff\", \"route_group\", \n",
    "        \"pct_trips_competitive\", \"pct_below_cutoff\",\n",
    "        \"p25\", \"p50\", \"p75\",\n",
    "    ]\n",
    "    \n",
    "    df_style = (df.sort_values(\n",
    "        [\"pct_trips_competitive\", \"below_cutoff\", \n",
    "        \"pct_below_cutoff\", \"route_id\"], \n",
    "        ascending=[False, False, False, True])\n",
    "           .drop(columns = drop_cols)\n",
    "           .rename(columns = rename_cols)\n",
    "           .style.format({\n",
    "               #'% trips within 2x car travel': '{:,.1%}', \n",
    "               'Daily Avg Frequency (trips per hr)': '{:,.3}',\n",
    "               'PM Peak Avg Frequency (trips per hr)': '{:,.3}',\n",
    "           })\n",
    "           .hide(axis=\"index\")\n",
    "           .to_html()\n",
    "          )\n",
    "    \n",
    "    display(HTML(\"<h4>Route Stats</h4>\"))\n",
    "    display(HTML(df_style))"
   ]
  },
  {
   "cell_type": "markdown",
   "id": "ab667928-5274-4490-82d9-4c39293209a4",
   "metadata": {
    "papermill": {
     "duration": 0.013042,
     "end_time": "2022-05-11T22:20:45.179514",
     "exception": false,
     "start_time": "2022-05-11T22:20:45.166472",
     "status": "completed"
    },
    "tags": []
   },
   "source": [
    "## Quick Stats"
   ]
  },
  {
   "cell_type": "code",
   "execution_count": 9,
   "id": "0416509d-dc62-4165-b62e-64f8b26e8b8e",
   "metadata": {
    "execution": {
     "iopub.execute_input": "2022-05-11T22:20:45.210006Z",
     "iopub.status.busy": "2022-05-11T22:20:45.209207Z",
     "iopub.status.idle": "2022-05-11T22:20:45.215804Z",
     "shell.execute_reply": "2022-05-11T22:20:45.215317Z"
    },
    "jupyter": {
     "source_hidden": true
    },
    "papermill": {
     "duration": 0.022068,
     "end_time": "2022-05-11T22:20:45.217409",
     "exception": false,
     "start_time": "2022-05-11T22:20:45.195341",
     "status": "completed"
    },
    "tags": [
     "remove_input"
    ]
   },
   "outputs": [
    {
     "data": {
      "text/markdown": [
       "**Bus routes in service: 7**<br>**Parallel routes** to State Highway Network (SHN): **4 routes (57.1%)**<br>**Competitive routes** against car travel (within 2x car travel time): **4 routes (57.1%)**<br>**Viable competitive routes** against car travel (within 2x car travel time and within 20, 30, or 40 min cut-off): **4 routes (57.1%)**"
      ],
      "text/plain": [
       "<IPython.core.display.Markdown object>"
      ]
     },
     "metadata": {},
     "output_type": "display_data"
    }
   ],
   "source": [
    "display(\n",
    "    Markdown(\n",
    "        f\"**Bus routes in service: {stats['num_routes']}**\"\n",
    "        \"<br>**Parallel routes** to State Highway Network (SHN): \"\n",
    "        f\"**{stats['parallel_routes']} routes ({pct_parallel}%)**\"\n",
    "        \"<br>**Competitive routes** against car travel (within 2x car travel time): \"\n",
    "        f\"**{stats['competitive_routes']} routes ({pct_competitive}%)**\"\n",
    "        \"<br>**Viable competitive routes** against car travel \"\n",
    "        \"(within 2x car travel time and within 20, 30, or 40 min cut-off): \"\n",
    "        f\"**{stats['viable_competitive_routes']} routes ({pct_viable}%)**\"\n",
    "    )\n",
    ")"
   ]
  },
  {
   "cell_type": "code",
   "execution_count": 10,
   "id": "f9d6ab58-f0ee-460c-b6de-657490e1f386",
   "metadata": {
    "execution": {
     "iopub.execute_input": "2022-05-11T22:20:45.246292Z",
     "iopub.status.busy": "2022-05-11T22:20:45.245415Z",
     "iopub.status.idle": "2022-05-11T22:20:45.251862Z",
     "shell.execute_reply": "2022-05-11T22:20:45.251375Z"
    },
    "jupyter": {
     "source_hidden": true
    },
    "papermill": {
     "duration": 0.022953,
     "end_time": "2022-05-11T22:20:45.253592",
     "exception": false,
     "start_time": "2022-05-11T22:20:45.230639",
     "status": "completed"
    },
    "tags": [
     "remove_input"
    ]
   },
   "outputs": [],
   "source": [
    "def set_yaxis_range(df, y_col):\n",
    "    Y_MIN = df[y_col].min()\n",
    "    Y_MAX = df[y_col].max()\n",
    "    \n",
    "    return Y_MIN, Y_MAX\n",
    "\n",
    "# Rather than set it according to the operator, which can vary,\n",
    "# just use set thresholds for each group\n",
    "def top15_routes(df, route_group):\n",
    "    # grab top 15 routes where majority of trips are below that cut-off \n",
    "    # but show 15 max, otherwise, show less, since these won't be as interesting to operators\n",
    "    df2 = (df[(df.route_group==route_group) &\n",
    "              (df.pct_below_cutoff >= PCT_TRIPS_BELOW_CUTOFF)]\n",
    "           .sort_values([\"calitp_itp_id\", \"below_cutoff\", \n",
    "                         \"pct_below_cutoff\", \"route_id\"],\n",
    "                        ascending = [True, False, False, True]\n",
    "                       )\n",
    "           .drop_duplicates(subset=[\"calitp_itp_id\", \"route_id\"])\n",
    "          ).head(15)\n",
    "    \n",
    "    return list(df2.route_id)"
   ]
  },
  {
   "cell_type": "code",
   "execution_count": 11,
   "id": "cf36d559-3349-4144-8086-8ac9ce937a5a",
   "metadata": {
    "execution": {
     "iopub.execute_input": "2022-05-11T22:20:45.290430Z",
     "iopub.status.busy": "2022-05-11T22:20:45.289647Z",
     "iopub.status.idle": "2022-05-11T22:20:45.295336Z",
     "shell.execute_reply": "2022-05-11T22:20:45.294726Z"
    },
    "jupyter": {
     "source_hidden": true
    },
    "papermill": {
     "duration": 0.030442,
     "end_time": "2022-05-11T22:20:45.296970",
     "exception": false,
     "start_time": "2022-05-11T22:20:45.266528",
     "status": "completed"
    },
    "tags": [
     "remove_input"
    ]
   },
   "outputs": [],
   "source": [
    "def caption_with_cutoff(cutoff):\n",
    "    sentence = (\n",
    "        f\"<br>These are routes that have **at least {int(PCT_TRIPS_BELOW_CUTOFF*100)}% \"\n",
    "        \"of their trips take no more than an \"\n",
    "        f\"additional {cutoff} min** compared to a car \"\n",
    "        \"(up to 15 routes) are shown.\"\n",
    "        \"<br>Within each route group, routes are sorted in descending order \"\n",
    "        \"by % competitive trips and # trips below the additional time cut-off.\"\n",
    "    )\n",
    "    return sentence\n",
    "\n",
    "CAPTIONS_DICT = {\n",
    "    \"short\": caption_with_cutoff(diff_cutoffs['short']),\n",
    "    \"medium\": caption_with_cutoff(diff_cutoffs['medium']),\n",
    "    \"long\": caption_with_cutoff(diff_cutoffs['long']),\n",
    "}"
   ]
  },
  {
   "cell_type": "code",
   "execution_count": 12,
   "id": "e4306d58-6944-47e9-afef-5d5b524c751f",
   "metadata": {
    "execution": {
     "iopub.execute_input": "2022-05-11T22:20:45.325957Z",
     "iopub.status.busy": "2022-05-11T22:20:45.325107Z",
     "iopub.status.idle": "2022-05-11T22:20:45.331763Z",
     "shell.execute_reply": "2022-05-11T22:20:45.331287Z"
    },
    "jupyter": {
     "source_hidden": true
    },
    "papermill": {
     "duration": 0.023252,
     "end_time": "2022-05-11T22:20:45.333428",
     "exception": false,
     "start_time": "2022-05-11T22:20:45.310176",
     "status": "completed"
    },
    "tags": [
     "remove_input"
    ]
   },
   "outputs": [],
   "source": [
    "def setup_charts(df, PCT_COMPETITIVE_THRESHOLD, route_group):\n",
    "    # Set up df for charting (cut-off at some threshold to show most competitive routes)\n",
    "    plot_me = (df[df.pct_trips_competitive > PCT_COMPETITIVE_THRESHOLD]\n",
    "           .drop(columns = \"geometry\")\n",
    "    )\n",
    "    \n",
    "    # Set y-ranges to be the same across route_groups, \n",
    "    # otherwise charts fluctuate too much, even within operator\n",
    "    y_col1 = \"bus_multiplier\"\n",
    "    Y_MIN1, Y_MAX1 = set_yaxis_range(plot_me, y_col1)\n",
    "\n",
    "    y_col2 = \"bus_difference\"\n",
    "    Y_MIN2, Y_MAX2 = set_yaxis_range(plot_me, y_col2)\n",
    "    \n",
    "    # Grab the routes to plot\n",
    "    subset_routes = top15_routes(plot_me, route_group)\n",
    "        \n",
    "    # Display charts\n",
    "    multiplier_chart = parallel_corridors_utils.make_stripplot(\n",
    "        plot_me[plot_me.route_id.isin(subset_routes)], \n",
    "        y_col1, Y_MIN = Y_MIN1, Y_MAX = Y_MAX1\n",
    "    )\n",
    "    \n",
    "    difference_chart = parallel_corridors_utils.make_stripplot(\n",
    "        plot_me[plot_me.route_id.isin(subset_routes)], \n",
    "        y_col2, Y_MIN = Y_MIN2, Y_MAX = Y_MAX2\n",
    "    )\n",
    "    \n",
    "    return subset_routes, multiplier_chart, difference_chart            "
   ]
  },
  {
   "cell_type": "code",
   "execution_count": 13,
   "id": "33a710e8-504c-4942-aa75-ff69f216956e",
   "metadata": {
    "execution": {
     "iopub.execute_input": "2022-05-11T22:20:45.374515Z",
     "iopub.status.busy": "2022-05-11T22:20:45.373687Z",
     "iopub.status.idle": "2022-05-11T22:20:45.383274Z",
     "shell.execute_reply": "2022-05-11T22:20:45.382373Z"
    },
    "jupyter": {
     "source_hidden": true
    },
    "papermill": {
     "duration": 0.039244,
     "end_time": "2022-05-11T22:20:45.385707",
     "exception": false,
     "start_time": "2022-05-11T22:20:45.346463",
     "status": "completed"
    },
    "tags": [
     "remove_input"
    ]
   },
   "outputs": [],
   "source": [
    "def display_charts_for_route_group(df, route_group):    \n",
    "    subset_routes, mult, diff  = setup_charts(df, PCT_COMPETITIVE_THRESHOLD, route_group)\n",
    "\n",
    "    if len(subset_routes) > 0:\n",
    "        display(Markdown(f\"{CAPTIONS_DICT[route_group]}\"))\n",
    "\n",
    "        display(mult)\n",
    "        display(diff)\n",
    "        \n",
    "        # Display route stats for just plotted routes\n",
    "        style_route_stats(route_stats, subset_routes)"
   ]
  },
  {
   "cell_type": "markdown",
   "id": "525f9b38-072b-46d1-96a8-1aa4b038357c",
   "metadata": {
    "papermill": {
     "duration": 0.014635,
     "end_time": "2022-05-11T22:20:45.415499",
     "exception": false,
     "start_time": "2022-05-11T22:20:45.400864",
     "status": "completed"
    },
    "tags": []
   },
   "source": [
    "## Viable Competitive Routes\n",
    "### Short Routes (< 1 hr)"
   ]
  },
  {
   "cell_type": "code",
   "execution_count": 14,
   "id": "57f7084c-2cf7-45c6-ba08-1609e0bd6ca5",
   "metadata": {
    "execution": {
     "iopub.execute_input": "2022-05-11T22:20:45.444219Z",
     "iopub.status.busy": "2022-05-11T22:20:45.443936Z",
     "iopub.status.idle": "2022-05-11T22:20:45.748727Z",
     "shell.execute_reply": "2022-05-11T22:20:45.748201Z"
    },
    "jupyter": {
     "source_hidden": true
    },
    "papermill": {
     "duration": 0.32093,
     "end_time": "2022-05-11T22:20:45.750427",
     "exception": false,
     "start_time": "2022-05-11T22:20:45.429497",
     "status": "completed"
    },
    "tags": [
     "remove_input"
    ]
   },
   "outputs": [
    {
     "data": {
      "text/markdown": [
       "<br>These are routes that have **at least 50% of their trips take no more than an additional 20 min** compared to a car (up to 15 routes) are shown.<br>Within each route group, routes are sorted in descending order by % competitive trips and # trips below the additional time cut-off."
      ],
      "text/plain": [
       "<IPython.core.display.Markdown object>"
      ]
     },
     "metadata": {},
     "output_type": "display_data"
    },
    {
     "data": {
      "text/html": [
       "\n",
       "<div id=\"altair-viz-51f07c49b5e14a8086b202b5fa7461c1\"></div>\n",
       "<script type=\"text/javascript\">\n",
       "  var VEGA_DEBUG = (typeof VEGA_DEBUG == \"undefined\") ? {} : VEGA_DEBUG;\n",
       "  (function(spec, embedOpt){\n",
       "    let outputDiv = document.currentScript.previousElementSibling;\n",
       "    if (outputDiv.id !== \"altair-viz-51f07c49b5e14a8086b202b5fa7461c1\") {\n",
       "      outputDiv = document.getElementById(\"altair-viz-51f07c49b5e14a8086b202b5fa7461c1\");\n",
       "    }\n",
       "    const paths = {\n",
       "      \"vega\": \"https://cdn.jsdelivr.net/npm//vega@5?noext\",\n",
       "      \"vega-lib\": \"https://cdn.jsdelivr.net/npm//vega-lib?noext\",\n",
       "      \"vega-lite\": \"https://cdn.jsdelivr.net/npm//vega-lite@4.17.0?noext\",\n",
       "      \"vega-embed\": \"https://cdn.jsdelivr.net/npm//vega-embed@6?noext\",\n",
       "    };\n",
       "\n",
       "    function maybeLoadScript(lib, version) {\n",
       "      var key = `${lib.replace(\"-\", \"\")}_version`;\n",
       "      return (VEGA_DEBUG[key] == version) ?\n",
       "        Promise.resolve(paths[lib]) :\n",
       "        new Promise(function(resolve, reject) {\n",
       "          var s = document.createElement('script');\n",
       "          document.getElementsByTagName(\"head\")[0].appendChild(s);\n",
       "          s.async = true;\n",
       "          s.onload = () => {\n",
       "            VEGA_DEBUG[key] = version;\n",
       "            return resolve(paths[lib]);\n",
       "          };\n",
       "          s.onerror = () => reject(`Error loading script: ${paths[lib]}`);\n",
       "          s.src = paths[lib];\n",
       "        });\n",
       "    }\n",
       "\n",
       "    function showError(err) {\n",
       "      outputDiv.innerHTML = `<div class=\"error\" style=\"color:red;\">${err}</div>`;\n",
       "      throw err;\n",
       "    }\n",
       "\n",
       "    function displayChart(vegaEmbed) {\n",
       "      vegaEmbed(outputDiv, spec, embedOpt)\n",
       "        .catch(err => showError(`Javascript Error: ${err.message}<br>This usually means there's a typo in your chart specification. See the javascript console for the full traceback.`));\n",
       "    }\n",
       "\n",
       "    if(typeof define === \"function\" && define.amd) {\n",
       "      requirejs.config({paths});\n",
       "      require([\"vega-embed\"], displayChart, err => showError(`Error loading script: ${err.message}`));\n",
       "    } else {\n",
       "      maybeLoadScript(\"vega\", \"5\")\n",
       "        .then(() => maybeLoadScript(\"vega-lite\", \"4.17.0\"))\n",
       "        .then(() => maybeLoadScript(\"vega-embed\", \"6\"))\n",
       "        .catch(showError)\n",
       "        .then(() => displayChart(vegaEmbed));\n",
       "    }\n",
       "  })({\"config\": {\"view\": {\"continuousWidth\": 400, \"continuousHeight\": 300, \"stroke\": null}, \"facet\": {\"spacing\": 0}}, \"data\": {\"name\": \"data-b9c2d079283aa48026eeb3587e5e9ad9\"}, \"facet\": {\"column\": {\"field\": \"route_id\", \"sort\": [\"6811\", \"6812\", \"6815\", \"6816\"], \"title\": \"Route ID\", \"type\": \"nominal\"}}, \"spec\": {\"layer\": [{\"mark\": \"rule\", \"encoding\": {\"color\": {\"value\": \"black\"}, \"y\": {\"field\": \"cutoff\", \"type\": \"quantitative\"}}, \"selection\": {\"selector001\": {\"type\": \"interval\", \"bind\": \"scales\", \"encodings\": [\"x\", \"y\"]}}}, {\"mark\": {\"type\": \"point\", \"opacity\": 0.65, \"size\": 12, \"strokeWidth\": 1.1}, \"encoding\": {\"color\": {\"field\": \"time_of_day\", \"scale\": {\"range\": [\"#136C97\", \"#E16B26\", \"#F6BF16\", \"#00896B\", \"#7790A3\", \"#5B559C\"]}, \"sort\": [\"AM Peak\", \"Midday\", \"PM Peak\", \"Owl Service\"], \"title\": \"Time of Day\", \"type\": \"nominal\"}, \"tooltip\": [{\"field\": \"route_id\", \"type\": \"nominal\"}, {\"field\": \"route_name\", \"type\": \"nominal\"}, {\"field\": \"trip_id\", \"type\": \"nominal\"}, {\"field\": \"service_hours\", \"type\": \"quantitative\"}, {\"field\": \"car_duration_hours\", \"type\": \"quantitative\"}, {\"field\": \"bus_multiplier\", \"type\": \"quantitative\"}, {\"field\": \"bus_difference\", \"type\": \"quantitative\"}, {\"field\": \"num_trips\", \"type\": \"quantitative\"}, {\"field\": \"num_competitive\", \"type\": \"quantitative\"}, {\"field\": \"pct_trips_competitive\", \"type\": \"quantitative\"}, {\"field\": \"p25\", \"type\": \"quantitative\"}, {\"field\": \"p50\", \"type\": \"quantitative\"}, {\"field\": \"p75\", \"type\": \"quantitative\"}], \"x\": {\"axis\": {\"grid\": false, \"labels\": false, \"ticks\": true, \"values\": [0]}, \"field\": \"jitter\", \"scale\": {}, \"title\": null, \"type\": \"quantitative\"}, \"y\": {\"field\": \"bus_multiplier\", \"scale\": {\"domain\": [-0.25, 3.0]}, \"title\": \"Ratio of Bus to Car Travel Time\", \"type\": \"quantitative\"}}, \"transform\": [{\"calculate\": \"sqrt(-2*log(random()))*cos(2*PI*random())\", \"as\": \"jitter\"}], \"width\": 50}, {\"layer\": [{\"mark\": {\"type\": \"point\", \"opacity\": 0.6, \"size\": 20, \"strokeWidth\": 1.3}, \"encoding\": {\"color\": {\"value\": \"#323434\"}, \"y\": {\"field\": \"bus_multiplier\", \"type\": \"quantitative\"}}, \"transform\": [{\"filter\": \"(datum.p50_trip === 1)\"}]}, {\"mark\": {\"type\": \"text\", \"align\": \"center\", \"baseline\": \"middle\"}, \"encoding\": {\"color\": {\"value\": \"black\"}, \"text\": {\"field\": \"pct_trips_competitive\", \"format\": \".0%\", \"type\": \"quantitative\"}, \"tooltip\": [{\"field\": \"route_id\", \"type\": \"nominal\"}, {\"field\": \"route_name\", \"type\": \"nominal\"}, {\"field\": \"trip_id\", \"type\": \"nominal\"}, {\"field\": \"service_hours\", \"type\": \"quantitative\"}, {\"field\": \"car_duration_hours\", \"type\": \"quantitative\"}, {\"field\": \"bus_multiplier\", \"type\": \"quantitative\"}, {\"field\": \"bus_difference\", \"type\": \"quantitative\"}, {\"field\": \"num_trips\", \"type\": \"quantitative\"}, {\"field\": \"num_competitive\", \"type\": \"quantitative\"}, {\"field\": \"pct_trips_competitive\", \"type\": \"quantitative\"}, {\"field\": \"p25\", \"type\": \"quantitative\"}, {\"field\": \"p50\", \"type\": \"quantitative\"}, {\"field\": \"p75\", \"type\": \"quantitative\"}], \"x\": {\"value\": 30}, \"y\": {\"value\": 15}}, \"transform\": [{\"calculate\": \"sqrt(-2*log(random()))*cos(2*PI*random())\", \"as\": \"jitter\"}, {\"filter\": \"(datum.fastest_trip === 1)\"}]}]}]}, \"resolve\": {\"scale\": {\"y\": \"shared\"}}, \"title\": \"Ratio of Bus to Car Travel Time\", \"$schema\": \"https://vega.github.io/schema/vega-lite/v4.17.0.json\", \"datasets\": {\"data-b9c2d079283aa48026eeb3587e5e9ad9\": [{\"calitp_itp_id\": 102, \"trip_key\": -3170932979757560875, \"trip_id\": \"t_148346_b_2686_tn_0\", \"shape_id\": \"p_111161\", \"route_id\": \"6811\", \"service_hours\": 0.42, \"trip_first_departure_ts\": 32460, \"trip_last_arrival_ts\": 33960, \"departure_hour\": 9, \"time_of_day\": \"AM Peak\", \"p25\": 0.42, \"p50\": 0.42, \"p75\": 0.42, \"p50_trip\": 1, \"fastest_trip\": 0, \"car_duration_hours\": 0.27, \"competitive_route\": 1, \"bus_multiplier\": 1.56, \"bus_difference\": 9.0, \"num_trips\": 21, \"num_competitive\": 21, \"pct_trips_competitive\": 1.0, \"bus_difference_spread\": 0.0, \"route_group\": \"short\", \"max_trip_hrs\": 0.42, \"max_trip_route_group\": 0.42, \"below_cutoff\": 21, \"pct_below_cutoff\": 1.0, \"name\": \"City of El Monte\", \"caltrans_district\": \"07 - Los Angeles\", \"drmt_organization_name\": null, \"route_name\": \"Flair Park\", \"cutoff2\": 20, \"cutoff\": 2}, {\"calitp_itp_id\": 102, \"trip_key\": -5054981746187623325, \"trip_id\": \"t_148357_b_2686_tn_0\", \"shape_id\": \"p_111161\", \"route_id\": \"6811\", \"service_hours\": 0.42, \"trip_first_departure_ts\": 58200, \"trip_last_arrival_ts\": 59700, \"departure_hour\": 16, \"time_of_day\": \"Midday\", \"p25\": 0.42, \"p50\": 0.42, \"p75\": 0.42, \"p50_trip\": 1, \"fastest_trip\": 0, \"car_duration_hours\": 0.27, \"competitive_route\": 1, \"bus_multiplier\": 1.56, \"bus_difference\": 9.0, \"num_trips\": 21, \"num_competitive\": 21, \"pct_trips_competitive\": 1.0, \"bus_difference_spread\": 0.0, \"route_group\": \"short\", \"max_trip_hrs\": 0.42, \"max_trip_route_group\": 0.42, \"below_cutoff\": 21, \"pct_below_cutoff\": 1.0, \"name\": \"City of El Monte\", \"caltrans_district\": \"07 - Los Angeles\", \"drmt_organization_name\": null, \"route_name\": \"Flair Park\", \"cutoff2\": 20, \"cutoff\": 2}, {\"calitp_itp_id\": 102, \"trip_key\": -426695003816342558, \"trip_id\": \"t_148343_b_2686_tn_0\", \"shape_id\": \"p_111161\", \"route_id\": \"6811\", \"service_hours\": 0.42, \"trip_first_departure_ts\": 24960, \"trip_last_arrival_ts\": 26460, \"departure_hour\": 6, \"time_of_day\": \"Owl Service\", \"p25\": 0.42, \"p50\": 0.42, \"p75\": 0.42, \"p50_trip\": 1, \"fastest_trip\": 0, \"car_duration_hours\": 0.27, \"competitive_route\": 1, \"bus_multiplier\": 1.56, \"bus_difference\": 9.0, \"num_trips\": 21, \"num_competitive\": 21, \"pct_trips_competitive\": 1.0, \"bus_difference_spread\": 0.0, \"route_group\": \"short\", \"max_trip_hrs\": 0.42, \"max_trip_route_group\": 0.42, \"below_cutoff\": 21, \"pct_below_cutoff\": 1.0, \"name\": \"City of El Monte\", \"caltrans_district\": \"07 - Los Angeles\", \"drmt_organization_name\": null, \"route_name\": \"Flair Park\", \"cutoff2\": 20, \"cutoff\": 2}, {\"calitp_itp_id\": 102, \"trip_key\": 3343684951749403475, \"trip_id\": \"t_148344_b_2686_tn_0\", \"shape_id\": \"p_111161\", \"route_id\": \"6811\", \"service_hours\": 0.42, \"trip_first_departure_ts\": 27540, \"trip_last_arrival_ts\": 29040, \"departure_hour\": 7, \"time_of_day\": \"AM Peak\", \"p25\": 0.42, \"p50\": 0.42, \"p75\": 0.42, \"p50_trip\": 1, \"fastest_trip\": 0, \"car_duration_hours\": 0.27, \"competitive_route\": 1, \"bus_multiplier\": 1.56, \"bus_difference\": 9.0, \"num_trips\": 21, \"num_competitive\": 21, \"pct_trips_competitive\": 1.0, \"bus_difference_spread\": 0.0, \"route_group\": \"short\", \"max_trip_hrs\": 0.42, \"max_trip_route_group\": 0.42, \"below_cutoff\": 21, \"pct_below_cutoff\": 1.0, \"name\": \"City of El Monte\", \"caltrans_district\": \"07 - Los Angeles\", \"drmt_organization_name\": null, \"route_name\": \"Flair Park\", \"cutoff2\": 20, \"cutoff\": 2}, {\"calitp_itp_id\": 102, \"trip_key\": -2987085737736703591, \"trip_id\": \"t_148342_b_2686_tn_0\", \"shape_id\": \"p_111161\", \"route_id\": \"6811\", \"service_hours\": 0.42, \"trip_first_departure_ts\": 23280, \"trip_last_arrival_ts\": 24780, \"departure_hour\": 6, \"time_of_day\": \"Owl Service\", \"p25\": 0.42, \"p50\": 0.42, \"p75\": 0.42, \"p50_trip\": 1, \"fastest_trip\": 0, \"car_duration_hours\": 0.27, \"competitive_route\": 1, \"bus_multiplier\": 1.56, \"bus_difference\": 9.0, \"num_trips\": 21, \"num_competitive\": 21, \"pct_trips_competitive\": 1.0, \"bus_difference_spread\": 0.0, \"route_group\": \"short\", \"max_trip_hrs\": 0.42, \"max_trip_route_group\": 0.42, \"below_cutoff\": 21, \"pct_below_cutoff\": 1.0, \"name\": \"City of El Monte\", \"caltrans_district\": \"07 - Los Angeles\", \"drmt_organization_name\": null, \"route_name\": \"Flair Park\", \"cutoff2\": 20, \"cutoff\": 2}, {\"calitp_itp_id\": 102, \"trip_key\": 7101760476208459365, \"trip_id\": \"t_148345_b_2686_tn_0\", \"shape_id\": \"p_111161\", \"route_id\": \"6811\", \"service_hours\": 0.42, \"trip_first_departure_ts\": 29160, \"trip_last_arrival_ts\": 30660, \"departure_hour\": 8, \"time_of_day\": \"AM Peak\", \"p25\": 0.42, \"p50\": 0.42, \"p75\": 0.42, \"p50_trip\": 1, \"fastest_trip\": 0, \"car_duration_hours\": 0.27, \"competitive_route\": 1, \"bus_multiplier\": 1.56, \"bus_difference\": 9.0, \"num_trips\": 21, \"num_competitive\": 21, \"pct_trips_competitive\": 1.0, \"bus_difference_spread\": 0.0, \"route_group\": \"short\", \"max_trip_hrs\": 0.42, \"max_trip_route_group\": 0.42, \"below_cutoff\": 21, \"pct_below_cutoff\": 1.0, \"name\": \"City of El Monte\", \"caltrans_district\": \"07 - Los Angeles\", \"drmt_organization_name\": null, \"route_name\": \"Flair Park\", \"cutoff2\": 20, \"cutoff\": 2}, {\"calitp_itp_id\": 102, \"trip_key\": -932474057859813478, \"trip_id\": \"t_148359_b_2686_tn_0\", \"shape_id\": \"p_111161\", \"route_id\": \"6811\", \"service_hours\": 0.42, \"trip_first_departure_ts\": 62400, \"trip_last_arrival_ts\": 63900, \"departure_hour\": 17, \"time_of_day\": \"PM Peak\", \"p25\": 0.42, \"p50\": 0.42, \"p75\": 0.42, \"p50_trip\": 1, \"fastest_trip\": 0, \"car_duration_hours\": 0.27, \"competitive_route\": 1, \"bus_multiplier\": 1.56, \"bus_difference\": 9.0, \"num_trips\": 21, \"num_competitive\": 21, \"pct_trips_competitive\": 1.0, \"bus_difference_spread\": 0.0, \"route_group\": \"short\", \"max_trip_hrs\": 0.42, \"max_trip_route_group\": 0.42, \"below_cutoff\": 21, \"pct_below_cutoff\": 1.0, \"name\": \"City of El Monte\", \"caltrans_district\": \"07 - Los Angeles\", \"drmt_organization_name\": null, \"route_name\": \"Flair Park\", \"cutoff2\": 20, \"cutoff\": 2}, {\"calitp_itp_id\": 102, \"trip_key\": 954335925427757814, \"trip_id\": \"t_148349_b_2686_tn_0\", \"shape_id\": \"p_111161\", \"route_id\": \"6811\", \"service_hours\": 0.42, \"trip_first_departure_ts\": 41460, \"trip_last_arrival_ts\": 42960, \"departure_hour\": 11, \"time_of_day\": \"Midday\", \"p25\": 0.42, \"p50\": 0.42, \"p75\": 0.42, \"p50_trip\": 1, \"fastest_trip\": 0, \"car_duration_hours\": 0.27, \"competitive_route\": 1, \"bus_multiplier\": 1.56, \"bus_difference\": 9.0, \"num_trips\": 21, \"num_competitive\": 21, \"pct_trips_competitive\": 1.0, \"bus_difference_spread\": 0.0, \"route_group\": \"short\", \"max_trip_hrs\": 0.42, \"max_trip_route_group\": 0.42, \"below_cutoff\": 21, \"pct_below_cutoff\": 1.0, \"name\": \"City of El Monte\", \"caltrans_district\": \"07 - Los Angeles\", \"drmt_organization_name\": null, \"route_name\": \"Flair Park\", \"cutoff2\": 20, \"cutoff\": 2}, {\"calitp_itp_id\": 102, \"trip_key\": -8983410035212226553, \"trip_id\": \"t_148360_b_2686_tn_0\", \"shape_id\": \"p_111161\", \"route_id\": \"6811\", \"service_hours\": 0.42, \"trip_first_departure_ts\": 64200, \"trip_last_arrival_ts\": 65700, \"departure_hour\": 17, \"time_of_day\": \"PM Peak\", \"p25\": 0.42, \"p50\": 0.42, \"p75\": 0.42, \"p50_trip\": 1, \"fastest_trip\": 0, \"car_duration_hours\": 0.27, \"competitive_route\": 1, \"bus_multiplier\": 1.56, \"bus_difference\": 9.0, \"num_trips\": 21, \"num_competitive\": 21, \"pct_trips_competitive\": 1.0, \"bus_difference_spread\": 0.0, \"route_group\": \"short\", \"max_trip_hrs\": 0.42, \"max_trip_route_group\": 0.42, \"below_cutoff\": 21, \"pct_below_cutoff\": 1.0, \"name\": \"City of El Monte\", \"caltrans_district\": \"07 - Los Angeles\", \"drmt_organization_name\": null, \"route_name\": \"Flair Park\", \"cutoff2\": 20, \"cutoff\": 2}, {\"calitp_itp_id\": 102, \"trip_key\": 6612048995700350062, \"trip_id\": \"t_148355_b_2686_tn_0\", \"shape_id\": \"p_111161\", \"route_id\": \"6811\", \"service_hours\": 0.42, \"trip_first_departure_ts\": 54900, \"trip_last_arrival_ts\": 56400, \"departure_hour\": 15, \"time_of_day\": \"Midday\", \"p25\": 0.42, \"p50\": 0.42, \"p75\": 0.42, \"p50_trip\": 1, \"fastest_trip\": 0, \"car_duration_hours\": 0.27, \"competitive_route\": 1, \"bus_multiplier\": 1.56, \"bus_difference\": 9.0, \"num_trips\": 21, \"num_competitive\": 21, \"pct_trips_competitive\": 1.0, \"bus_difference_spread\": 0.0, \"route_group\": \"short\", \"max_trip_hrs\": 0.42, \"max_trip_route_group\": 0.42, \"below_cutoff\": 21, \"pct_below_cutoff\": 1.0, \"name\": \"City of El Monte\", \"caltrans_district\": \"07 - Los Angeles\", \"drmt_organization_name\": null, \"route_name\": \"Flair Park\", \"cutoff2\": 20, \"cutoff\": 2}, {\"calitp_itp_id\": 102, \"trip_key\": -6200821305595518778, \"trip_id\": \"t_148340_b_2686_tn_0\", \"shape_id\": \"p_111161\", \"route_id\": \"6811\", \"service_hours\": 0.42, \"trip_first_departure_ts\": 21540, \"trip_last_arrival_ts\": 23040, \"departure_hour\": 5, \"time_of_day\": \"Owl Service\", \"p25\": 0.42, \"p50\": 0.42, \"p75\": 0.42, \"p50_trip\": 1, \"fastest_trip\": 0, \"car_duration_hours\": 0.27, \"competitive_route\": 1, \"bus_multiplier\": 1.56, \"bus_difference\": 9.0, \"num_trips\": 21, \"num_competitive\": 21, \"pct_trips_competitive\": 1.0, \"bus_difference_spread\": 0.0, \"route_group\": \"short\", \"max_trip_hrs\": 0.42, \"max_trip_route_group\": 0.42, \"below_cutoff\": 21, \"pct_below_cutoff\": 1.0, \"name\": \"City of El Monte\", \"caltrans_district\": \"07 - Los Angeles\", \"drmt_organization_name\": null, \"route_name\": \"Flair Park\", \"cutoff2\": 20, \"cutoff\": 2}, {\"calitp_itp_id\": 102, \"trip_key\": 6733041924362896913, \"trip_id\": \"t_148352_b_2686_tn_0\", \"shape_id\": \"p_111161\", \"route_id\": \"6811\", \"service_hours\": 0.42, \"trip_first_departure_ts\": 46860, \"trip_last_arrival_ts\": 48360, \"departure_hour\": 13, \"time_of_day\": \"Midday\", \"p25\": 0.42, \"p50\": 0.42, \"p75\": 0.42, \"p50_trip\": 1, \"fastest_trip\": 0, \"car_duration_hours\": 0.27, \"competitive_route\": 1, \"bus_multiplier\": 1.56, \"bus_difference\": 9.0, \"num_trips\": 21, \"num_competitive\": 21, \"pct_trips_competitive\": 1.0, \"bus_difference_spread\": 0.0, \"route_group\": \"short\", \"max_trip_hrs\": 0.42, \"max_trip_route_group\": 0.42, \"below_cutoff\": 21, \"pct_below_cutoff\": 1.0, \"name\": \"City of El Monte\", \"caltrans_district\": \"07 - Los Angeles\", \"drmt_organization_name\": null, \"route_name\": \"Flair Park\", \"cutoff2\": 20, \"cutoff\": 2}, {\"calitp_itp_id\": 102, \"trip_key\": -5873889480005477065, \"trip_id\": \"t_148348_b_2686_tn_0\", \"shape_id\": \"p_111161\", \"route_id\": \"6811\", \"service_hours\": 0.42, \"trip_first_departure_ts\": 39420, \"trip_last_arrival_ts\": 40920, \"departure_hour\": 10, \"time_of_day\": \"Midday\", \"p25\": 0.42, \"p50\": 0.42, \"p75\": 0.42, \"p50_trip\": 1, \"fastest_trip\": 0, \"car_duration_hours\": 0.27, \"competitive_route\": 1, \"bus_multiplier\": 1.56, \"bus_difference\": 9.0, \"num_trips\": 21, \"num_competitive\": 21, \"pct_trips_competitive\": 1.0, \"bus_difference_spread\": 0.0, \"route_group\": \"short\", \"max_trip_hrs\": 0.42, \"max_trip_route_group\": 0.42, \"below_cutoff\": 21, \"pct_below_cutoff\": 1.0, \"name\": \"City of El Monte\", \"caltrans_district\": \"07 - Los Angeles\", \"drmt_organization_name\": null, \"route_name\": \"Flair Park\", \"cutoff2\": 20, \"cutoff\": 2}, {\"calitp_itp_id\": 102, \"trip_key\": 5974834224977158326, \"trip_id\": \"t_148356_b_2686_tn_0\", \"shape_id\": \"p_111161\", \"route_id\": \"6811\", \"service_hours\": 0.42, \"trip_first_departure_ts\": 56580, \"trip_last_arrival_ts\": 58080, \"departure_hour\": 15, \"time_of_day\": \"Midday\", \"p25\": 0.42, \"p50\": 0.42, \"p75\": 0.42, \"p50_trip\": 1, \"fastest_trip\": 0, \"car_duration_hours\": 0.27, \"competitive_route\": 1, \"bus_multiplier\": 1.56, \"bus_difference\": 9.0, \"num_trips\": 21, \"num_competitive\": 21, \"pct_trips_competitive\": 1.0, \"bus_difference_spread\": 0.0, \"route_group\": \"short\", \"max_trip_hrs\": 0.42, \"max_trip_route_group\": 0.42, \"below_cutoff\": 21, \"pct_below_cutoff\": 1.0, \"name\": \"City of El Monte\", \"caltrans_district\": \"07 - Los Angeles\", \"drmt_organization_name\": null, \"route_name\": \"Flair Park\", \"cutoff2\": 20, \"cutoff\": 2}, {\"calitp_itp_id\": 102, \"trip_key\": -6855062313401032509, \"trip_id\": \"t_148358_b_2686_tn_0\", \"shape_id\": \"p_111161\", \"route_id\": \"6811\", \"service_hours\": 0.42, \"trip_first_departure_ts\": 60720, \"trip_last_arrival_ts\": 62220, \"departure_hour\": 16, \"time_of_day\": \"Midday\", \"p25\": 0.42, \"p50\": 0.42, \"p75\": 0.42, \"p50_trip\": 1, \"fastest_trip\": 0, \"car_duration_hours\": 0.27, \"competitive_route\": 1, \"bus_multiplier\": 1.56, \"bus_difference\": 9.0, \"num_trips\": 21, \"num_competitive\": 21, \"pct_trips_competitive\": 1.0, \"bus_difference_spread\": 0.0, \"route_group\": \"short\", \"max_trip_hrs\": 0.42, \"max_trip_route_group\": 0.42, \"below_cutoff\": 21, \"pct_below_cutoff\": 1.0, \"name\": \"City of El Monte\", \"caltrans_district\": \"07 - Los Angeles\", \"drmt_organization_name\": null, \"route_name\": \"Flair Park\", \"cutoff2\": 20, \"cutoff\": 2}, {\"calitp_itp_id\": 102, \"trip_key\": 4490786474376871827, \"trip_id\": \"t_148339_b_2686_tn_0\", \"shape_id\": \"p_111161\", \"route_id\": \"6811\", \"service_hours\": 0.42, \"trip_first_departure_ts\": 19620, \"trip_last_arrival_ts\": 21120, \"departure_hour\": 5, \"time_of_day\": \"Owl Service\", \"p25\": 0.42, \"p50\": 0.42, \"p75\": 0.42, \"p50_trip\": 1, \"fastest_trip\": 0, \"car_duration_hours\": 0.27, \"competitive_route\": 1, \"bus_multiplier\": 1.56, \"bus_difference\": 9.0, \"num_trips\": 21, \"num_competitive\": 21, \"pct_trips_competitive\": 1.0, \"bus_difference_spread\": 0.0, \"route_group\": \"short\", \"max_trip_hrs\": 0.42, \"max_trip_route_group\": 0.42, \"below_cutoff\": 21, \"pct_below_cutoff\": 1.0, \"name\": \"City of El Monte\", \"caltrans_district\": \"07 - Los Angeles\", \"drmt_organization_name\": null, \"route_name\": \"Flair Park\", \"cutoff2\": 20, \"cutoff\": 2}, {\"calitp_itp_id\": 102, \"trip_key\": 1072782641410824096, \"trip_id\": \"t_148354_b_2686_tn_0\", \"shape_id\": \"p_111161\", \"route_id\": \"6811\", \"service_hours\": 0.42, \"trip_first_departure_ts\": 52200, \"trip_last_arrival_ts\": 53700, \"departure_hour\": 14, \"time_of_day\": \"Midday\", \"p25\": 0.42, \"p50\": 0.42, \"p75\": 0.42, \"p50_trip\": 1, \"fastest_trip\": 0, \"car_duration_hours\": 0.27, \"competitive_route\": 1, \"bus_multiplier\": 1.56, \"bus_difference\": 9.0, \"num_trips\": 21, \"num_competitive\": 21, \"pct_trips_competitive\": 1.0, \"bus_difference_spread\": 0.0, \"route_group\": \"short\", \"max_trip_hrs\": 0.42, \"max_trip_route_group\": 0.42, \"below_cutoff\": 21, \"pct_below_cutoff\": 1.0, \"name\": \"City of El Monte\", \"caltrans_district\": \"07 - Los Angeles\", \"drmt_organization_name\": null, \"route_name\": \"Flair Park\", \"cutoff2\": 20, \"cutoff\": 2}, {\"calitp_itp_id\": 102, \"trip_key\": -403473024553234349, \"trip_id\": \"t_148351_b_2686_tn_0\", \"shape_id\": \"p_111161\", \"route_id\": \"6811\", \"service_hours\": 0.42, \"trip_first_departure_ts\": 43260, \"trip_last_arrival_ts\": 44760, \"departure_hour\": 12, \"time_of_day\": \"Midday\", \"p25\": 0.42, \"p50\": 0.42, \"p75\": 0.42, \"p50_trip\": 1, \"fastest_trip\": 0, \"car_duration_hours\": 0.27, \"competitive_route\": 1, \"bus_multiplier\": 1.56, \"bus_difference\": 9.0, \"num_trips\": 21, \"num_competitive\": 21, \"pct_trips_competitive\": 1.0, \"bus_difference_spread\": 0.0, \"route_group\": \"short\", \"max_trip_hrs\": 0.42, \"max_trip_route_group\": 0.42, \"below_cutoff\": 21, \"pct_below_cutoff\": 1.0, \"name\": \"City of El Monte\", \"caltrans_district\": \"07 - Los Angeles\", \"drmt_organization_name\": null, \"route_name\": \"Flair Park\", \"cutoff2\": 20, \"cutoff\": 2}, {\"calitp_itp_id\": 102, \"trip_key\": 6211780388949625910, \"trip_id\": \"t_148347_b_2686_tn_0\", \"shape_id\": \"p_111161\", \"route_id\": \"6811\", \"service_hours\": 0.42, \"trip_first_departure_ts\": 35820, \"trip_last_arrival_ts\": 37320, \"departure_hour\": 9, \"time_of_day\": \"AM Peak\", \"p25\": 0.42, \"p50\": 0.42, \"p75\": 0.42, \"p50_trip\": 1, \"fastest_trip\": 0, \"car_duration_hours\": 0.27, \"competitive_route\": 1, \"bus_multiplier\": 1.56, \"bus_difference\": 9.0, \"num_trips\": 21, \"num_competitive\": 21, \"pct_trips_competitive\": 1.0, \"bus_difference_spread\": 0.0, \"route_group\": \"short\", \"max_trip_hrs\": 0.42, \"max_trip_route_group\": 0.42, \"below_cutoff\": 21, \"pct_below_cutoff\": 1.0, \"name\": \"City of El Monte\", \"caltrans_district\": \"07 - Los Angeles\", \"drmt_organization_name\": null, \"route_name\": \"Flair Park\", \"cutoff2\": 20, \"cutoff\": 2}, {\"calitp_itp_id\": 102, \"trip_key\": -4479603296714436399, \"trip_id\": \"t_148362_b_2686_tn_0\", \"shape_id\": \"p_111161\", \"route_id\": \"6811\", \"service_hours\": 0.42, \"trip_first_departure_ts\": 67740, \"trip_last_arrival_ts\": 69240, \"departure_hour\": 18, \"time_of_day\": \"PM Peak\", \"p25\": 0.42, \"p50\": 0.42, \"p75\": 0.42, \"p50_trip\": 1, \"fastest_trip\": 1, \"car_duration_hours\": 0.27, \"competitive_route\": 1, \"bus_multiplier\": 1.56, \"bus_difference\": 9.0, \"num_trips\": 21, \"num_competitive\": 21, \"pct_trips_competitive\": 1.0, \"bus_difference_spread\": 0.0, \"route_group\": \"short\", \"max_trip_hrs\": 0.42, \"max_trip_route_group\": 0.42, \"below_cutoff\": 21, \"pct_below_cutoff\": 1.0, \"name\": \"City of El Monte\", \"caltrans_district\": \"07 - Los Angeles\", \"drmt_organization_name\": null, \"route_name\": \"Flair Park\", \"cutoff2\": 20, \"cutoff\": 2}, {\"calitp_itp_id\": 102, \"trip_key\": -842636139958026972, \"trip_id\": \"t_148361_b_2686_tn_0\", \"shape_id\": \"p_111161\", \"route_id\": \"6811\", \"service_hours\": 0.42, \"trip_first_departure_ts\": 66000, \"trip_last_arrival_ts\": 67500, \"departure_hour\": 18, \"time_of_day\": \"PM Peak\", \"p25\": 0.42, \"p50\": 0.42, \"p75\": 0.42, \"p50_trip\": 1, \"fastest_trip\": 0, \"car_duration_hours\": 0.27, \"competitive_route\": 1, \"bus_multiplier\": 1.56, \"bus_difference\": 9.0, \"num_trips\": 21, \"num_competitive\": 21, \"pct_trips_competitive\": 1.0, \"bus_difference_spread\": 0.0, \"route_group\": \"short\", \"max_trip_hrs\": 0.42, \"max_trip_route_group\": 0.42, \"below_cutoff\": 21, \"pct_below_cutoff\": 1.0, \"name\": \"City of El Monte\", \"caltrans_district\": \"07 - Los Angeles\", \"drmt_organization_name\": null, \"route_name\": \"Flair Park\", \"cutoff2\": 20, \"cutoff\": 2}, {\"calitp_itp_id\": 102, \"trip_key\": 7599921630430770892, \"trip_id\": \"t_147895_b_2686_tn_2\", \"shape_id\": \"p_111162\", \"route_id\": \"6812\", \"service_hours\": 0.53, \"trip_first_departure_ts\": 36600, \"trip_last_arrival_ts\": 38520, \"departure_hour\": 10, \"time_of_day\": \"Midday\", \"p25\": 0.53, \"p50\": 0.53, \"p75\": 0.53, \"p50_trip\": 1, \"fastest_trip\": 0, \"car_duration_hours\": 0.46, \"competitive_route\": 1, \"bus_multiplier\": 1.15, \"bus_difference\": 4.2, \"num_trips\": 16, \"num_competitive\": 16, \"pct_trips_competitive\": 1.0, \"bus_difference_spread\": 0.0, \"route_group\": \"short\", \"max_trip_hrs\": 0.53, \"max_trip_route_group\": 0.53, \"below_cutoff\": 16, \"pct_below_cutoff\": 1.0, \"name\": \"City of El Monte\", \"caltrans_district\": \"07 - Los Angeles\", \"drmt_organization_name\": null, \"route_name\": null, \"cutoff2\": 20, \"cutoff\": 2}, {\"calitp_itp_id\": 102, \"trip_key\": 5082407324948190874, \"trip_id\": \"t_147895_b_2686_tn_9\", \"shape_id\": \"p_111162\", \"route_id\": \"6812\", \"service_hours\": 0.53, \"trip_first_departure_ts\": 57600, \"trip_last_arrival_ts\": 59520, \"departure_hour\": 16, \"time_of_day\": \"Midday\", \"p25\": 0.53, \"p50\": 0.53, \"p75\": 0.53, \"p50_trip\": 1, \"fastest_trip\": 0, \"car_duration_hours\": 0.46, \"competitive_route\": 1, \"bus_multiplier\": 1.15, \"bus_difference\": 4.2, \"num_trips\": 16, \"num_competitive\": 16, \"pct_trips_competitive\": 1.0, \"bus_difference_spread\": 0.0, \"route_group\": \"short\", \"max_trip_hrs\": 0.53, \"max_trip_route_group\": 0.53, \"below_cutoff\": 16, \"pct_below_cutoff\": 1.0, \"name\": \"City of El Monte\", \"caltrans_district\": \"07 - Los Angeles\", \"drmt_organization_name\": null, \"route_name\": null, \"cutoff2\": 20, \"cutoff\": 2}, {\"calitp_itp_id\": 102, \"trip_key\": -6793614460101224526, \"trip_id\": \"t_147895_b_2686_tn_4\", \"shape_id\": \"p_111162\", \"route_id\": \"6812\", \"service_hours\": 0.53, \"trip_first_departure_ts\": 42600, \"trip_last_arrival_ts\": 44520, \"departure_hour\": 11, \"time_of_day\": \"Midday\", \"p25\": 0.53, \"p50\": 0.53, \"p75\": 0.53, \"p50_trip\": 1, \"fastest_trip\": 0, \"car_duration_hours\": 0.46, \"competitive_route\": 1, \"bus_multiplier\": 1.15, \"bus_difference\": 4.2, \"num_trips\": 16, \"num_competitive\": 16, \"pct_trips_competitive\": 1.0, \"bus_difference_spread\": 0.0, \"route_group\": \"short\", \"max_trip_hrs\": 0.53, \"max_trip_route_group\": 0.53, \"below_cutoff\": 16, \"pct_below_cutoff\": 1.0, \"name\": \"City of El Monte\", \"caltrans_district\": \"07 - Los Angeles\", \"drmt_organization_name\": null, \"route_name\": null, \"cutoff2\": 20, \"cutoff\": 2}, {\"calitp_itp_id\": 102, \"trip_key\": -1448363535881410216, \"trip_id\": \"t_147895_b_2686_tn_11\", \"shape_id\": \"p_111162\", \"route_id\": \"6812\", \"service_hours\": 0.53, \"trip_first_departure_ts\": 63600, \"trip_last_arrival_ts\": 65520, \"departure_hour\": 17, \"time_of_day\": \"PM Peak\", \"p25\": 0.53, \"p50\": 0.53, \"p75\": 0.53, \"p50_trip\": 1, \"fastest_trip\": 0, \"car_duration_hours\": 0.46, \"competitive_route\": 1, \"bus_multiplier\": 1.15, \"bus_difference\": 4.2, \"num_trips\": 16, \"num_competitive\": 16, \"pct_trips_competitive\": 1.0, \"bus_difference_spread\": 0.0, \"route_group\": \"short\", \"max_trip_hrs\": 0.53, \"max_trip_route_group\": 0.53, \"below_cutoff\": 16, \"pct_below_cutoff\": 1.0, \"name\": \"City of El Monte\", \"caltrans_district\": \"07 - Los Angeles\", \"drmt_organization_name\": null, \"route_name\": null, \"cutoff2\": 20, \"cutoff\": 2}, {\"calitp_itp_id\": 102, \"trip_key\": 6912463162561503119, \"trip_id\": \"t_147893_b_2686_tn_2\", \"shape_id\": \"p_111162\", \"route_id\": \"6812\", \"service_hours\": 0.53, \"trip_first_departure_ts\": 24600, \"trip_last_arrival_ts\": 26520, \"departure_hour\": 6, \"time_of_day\": \"Owl Service\", \"p25\": 0.53, \"p50\": 0.53, \"p75\": 0.53, \"p50_trip\": 1, \"fastest_trip\": 0, \"car_duration_hours\": 0.46, \"competitive_route\": 1, \"bus_multiplier\": 1.15, \"bus_difference\": 4.2, \"num_trips\": 16, \"num_competitive\": 16, \"pct_trips_competitive\": 1.0, \"bus_difference_spread\": 0.0, \"route_group\": \"short\", \"max_trip_hrs\": 0.53, \"max_trip_route_group\": 0.53, \"below_cutoff\": 16, \"pct_below_cutoff\": 1.0, \"name\": \"City of El Monte\", \"caltrans_district\": \"07 - Los Angeles\", \"drmt_organization_name\": null, \"route_name\": null, \"cutoff2\": 20, \"cutoff\": 2}, {\"calitp_itp_id\": 102, \"trip_key\": -23124938045356469, \"trip_id\": \"t_147893_b_2686_tn_1\", \"shape_id\": \"p_111162\", \"route_id\": \"6812\", \"service_hours\": 0.53, \"trip_first_departure_ts\": 21600, \"trip_last_arrival_ts\": 23520, \"departure_hour\": 6, \"time_of_day\": \"Owl Service\", \"p25\": 0.53, \"p50\": 0.53, \"p75\": 0.53, \"p50_trip\": 1, \"fastest_trip\": 0, \"car_duration_hours\": 0.46, \"competitive_route\": 1, \"bus_multiplier\": 1.15, \"bus_difference\": 4.2, \"num_trips\": 16, \"num_competitive\": 16, \"pct_trips_competitive\": 1.0, \"bus_difference_spread\": 0.0, \"route_group\": \"short\", \"max_trip_hrs\": 0.53, \"max_trip_route_group\": 0.53, \"below_cutoff\": 16, \"pct_below_cutoff\": 1.0, \"name\": \"City of El Monte\", \"caltrans_district\": \"07 - Los Angeles\", \"drmt_organization_name\": null, \"route_name\": null, \"cutoff2\": 20, \"cutoff\": 2}, {\"calitp_itp_id\": 102, \"trip_key\": 7133126128916419947, \"trip_id\": \"t_147894_b_2686_tn_0\", \"shape_id\": \"p_111162\", \"route_id\": \"6812\", \"service_hours\": 0.53, \"trip_first_departure_ts\": 66600, \"trip_last_arrival_ts\": 68520, \"departure_hour\": 18, \"time_of_day\": \"PM Peak\", \"p25\": 0.53, \"p50\": 0.53, \"p75\": 0.53, \"p50_trip\": 1, \"fastest_trip\": 1, \"car_duration_hours\": 0.46, \"competitive_route\": 1, \"bus_multiplier\": 1.15, \"bus_difference\": 4.2, \"num_trips\": 16, \"num_competitive\": 16, \"pct_trips_competitive\": 1.0, \"bus_difference_spread\": 0.0, \"route_group\": \"short\", \"max_trip_hrs\": 0.53, \"max_trip_route_group\": 0.53, \"below_cutoff\": 16, \"pct_below_cutoff\": 1.0, \"name\": \"City of El Monte\", \"caltrans_district\": \"07 - Los Angeles\", \"drmt_organization_name\": null, \"route_name\": null, \"cutoff2\": 20, \"cutoff\": 2}, {\"calitp_itp_id\": 102, \"trip_key\": 7420622834655219953, \"trip_id\": \"t_147895_b_2686_tn_3\", \"shape_id\": \"p_111162\", \"route_id\": \"6812\", \"service_hours\": 0.53, \"trip_first_departure_ts\": 39600, \"trip_last_arrival_ts\": 41520, \"departure_hour\": 11, \"time_of_day\": \"Midday\", \"p25\": 0.53, \"p50\": 0.53, \"p75\": 0.53, \"p50_trip\": 1, \"fastest_trip\": 0, \"car_duration_hours\": 0.46, \"competitive_route\": 1, \"bus_multiplier\": 1.15, \"bus_difference\": 4.2, \"num_trips\": 16, \"num_competitive\": 16, \"pct_trips_competitive\": 1.0, \"bus_difference_spread\": 0.0, \"route_group\": \"short\", \"max_trip_hrs\": 0.53, \"max_trip_route_group\": 0.53, \"below_cutoff\": 16, \"pct_below_cutoff\": 1.0, \"name\": \"City of El Monte\", \"caltrans_district\": \"07 - Los Angeles\", \"drmt_organization_name\": null, \"route_name\": null, \"cutoff2\": 20, \"cutoff\": 2}, {\"calitp_itp_id\": 102, \"trip_key\": 2502593979761288262, \"trip_id\": \"t_147895_b_2686_tn_7\", \"shape_id\": \"p_111162\", \"route_id\": \"6812\", \"service_hours\": 0.53, \"trip_first_departure_ts\": 51600, \"trip_last_arrival_ts\": 53520, \"departure_hour\": 14, \"time_of_day\": \"Midday\", \"p25\": 0.53, \"p50\": 0.53, \"p75\": 0.53, \"p50_trip\": 1, \"fastest_trip\": 0, \"car_duration_hours\": 0.46, \"competitive_route\": 1, \"bus_multiplier\": 1.15, \"bus_difference\": 4.2, \"num_trips\": 16, \"num_competitive\": 16, \"pct_trips_competitive\": 1.0, \"bus_difference_spread\": 0.0, \"route_group\": \"short\", \"max_trip_hrs\": 0.53, \"max_trip_route_group\": 0.53, \"below_cutoff\": 16, \"pct_below_cutoff\": 1.0, \"name\": \"City of El Monte\", \"caltrans_district\": \"07 - Los Angeles\", \"drmt_organization_name\": null, \"route_name\": null, \"cutoff2\": 20, \"cutoff\": 2}, {\"calitp_itp_id\": 102, \"trip_key\": -5133896106337568764, \"trip_id\": \"t_147895_b_2686_tn_8\", \"shape_id\": \"p_111162\", \"route_id\": \"6812\", \"service_hours\": 0.53, \"trip_first_departure_ts\": 54600, \"trip_last_arrival_ts\": 56520, \"departure_hour\": 15, \"time_of_day\": \"Midday\", \"p25\": 0.53, \"p50\": 0.53, \"p75\": 0.53, \"p50_trip\": 1, \"fastest_trip\": 0, \"car_duration_hours\": 0.46, \"competitive_route\": 1, \"bus_multiplier\": 1.15, \"bus_difference\": 4.2, \"num_trips\": 16, \"num_competitive\": 16, \"pct_trips_competitive\": 1.0, \"bus_difference_spread\": 0.0, \"route_group\": \"short\", \"max_trip_hrs\": 0.53, \"max_trip_route_group\": 0.53, \"below_cutoff\": 16, \"pct_below_cutoff\": 1.0, \"name\": \"City of El Monte\", \"caltrans_district\": \"07 - Los Angeles\", \"drmt_organization_name\": null, \"route_name\": null, \"cutoff2\": 20, \"cutoff\": 2}, {\"calitp_itp_id\": 102, \"trip_key\": -2325998400800676493, \"trip_id\": \"t_147893_b_2686_tn_3\", \"shape_id\": \"p_111162\", \"route_id\": \"6812\", \"service_hours\": 0.53, \"trip_first_departure_ts\": 27600, \"trip_last_arrival_ts\": 29520, \"departure_hour\": 7, \"time_of_day\": \"AM Peak\", \"p25\": 0.53, \"p50\": 0.53, \"p75\": 0.53, \"p50_trip\": 1, \"fastest_trip\": 0, \"car_duration_hours\": 0.46, \"competitive_route\": 1, \"bus_multiplier\": 1.15, \"bus_difference\": 4.2, \"num_trips\": 16, \"num_competitive\": 16, \"pct_trips_competitive\": 1.0, \"bus_difference_spread\": 0.0, \"route_group\": \"short\", \"max_trip_hrs\": 0.53, \"max_trip_route_group\": 0.53, \"below_cutoff\": 16, \"pct_below_cutoff\": 1.0, \"name\": \"City of El Monte\", \"caltrans_district\": \"07 - Los Angeles\", \"drmt_organization_name\": null, \"route_name\": null, \"cutoff2\": 20, \"cutoff\": 2}, {\"calitp_itp_id\": 102, \"trip_key\": 3843196534470936896, \"trip_id\": \"t_147895_b_2686_tn_1\", \"shape_id\": \"p_111162\", \"route_id\": \"6812\", \"service_hours\": 0.53, \"trip_first_departure_ts\": 33600, \"trip_last_arrival_ts\": 35520, \"departure_hour\": 9, \"time_of_day\": \"AM Peak\", \"p25\": 0.53, \"p50\": 0.53, \"p75\": 0.53, \"p50_trip\": 1, \"fastest_trip\": 0, \"car_duration_hours\": 0.46, \"competitive_route\": 1, \"bus_multiplier\": 1.15, \"bus_difference\": 4.2, \"num_trips\": 16, \"num_competitive\": 16, \"pct_trips_competitive\": 1.0, \"bus_difference_spread\": 0.0, \"route_group\": \"short\", \"max_trip_hrs\": 0.53, \"max_trip_route_group\": 0.53, \"below_cutoff\": 16, \"pct_below_cutoff\": 1.0, \"name\": \"City of El Monte\", \"caltrans_district\": \"07 - Los Angeles\", \"drmt_organization_name\": null, \"route_name\": null, \"cutoff2\": 20, \"cutoff\": 2}, {\"calitp_itp_id\": 102, \"trip_key\": -9133094054889554023, \"trip_id\": \"t_147895_b_2686_tn_6\", \"shape_id\": \"p_111162\", \"route_id\": \"6812\", \"service_hours\": 0.53, \"trip_first_departure_ts\": 48600, \"trip_last_arrival_ts\": 50520, \"departure_hour\": 13, \"time_of_day\": \"Midday\", \"p25\": 0.53, \"p50\": 0.53, \"p75\": 0.53, \"p50_trip\": 1, \"fastest_trip\": 0, \"car_duration_hours\": 0.46, \"competitive_route\": 1, \"bus_multiplier\": 1.15, \"bus_difference\": 4.2, \"num_trips\": 16, \"num_competitive\": 16, \"pct_trips_competitive\": 1.0, \"bus_difference_spread\": 0.0, \"route_group\": \"short\", \"max_trip_hrs\": 0.53, \"max_trip_route_group\": 0.53, \"below_cutoff\": 16, \"pct_below_cutoff\": 1.0, \"name\": \"City of El Monte\", \"caltrans_district\": \"07 - Los Angeles\", \"drmt_organization_name\": null, \"route_name\": null, \"cutoff2\": 20, \"cutoff\": 2}, {\"calitp_itp_id\": 102, \"trip_key\": -5482623696333617813, \"trip_id\": \"t_147895_b_2686_tn_10\", \"shape_id\": \"p_111162\", \"route_id\": \"6812\", \"service_hours\": 0.53, \"trip_first_departure_ts\": 60600, \"trip_last_arrival_ts\": 62520, \"departure_hour\": 16, \"time_of_day\": \"Midday\", \"p25\": 0.53, \"p50\": 0.53, \"p75\": 0.53, \"p50_trip\": 1, \"fastest_trip\": 0, \"car_duration_hours\": 0.46, \"competitive_route\": 1, \"bus_multiplier\": 1.15, \"bus_difference\": 4.2, \"num_trips\": 16, \"num_competitive\": 16, \"pct_trips_competitive\": 1.0, \"bus_difference_spread\": 0.0, \"route_group\": \"short\", \"max_trip_hrs\": 0.53, \"max_trip_route_group\": 0.53, \"below_cutoff\": 16, \"pct_below_cutoff\": 1.0, \"name\": \"City of El Monte\", \"caltrans_district\": \"07 - Los Angeles\", \"drmt_organization_name\": null, \"route_name\": null, \"cutoff2\": 20, \"cutoff\": 2}, {\"calitp_itp_id\": 102, \"trip_key\": -5405565704620470927, \"trip_id\": \"t_147893_b_2686_tn_4\", \"shape_id\": \"p_111162\", \"route_id\": \"6812\", \"service_hours\": 0.53, \"trip_first_departure_ts\": 30600, \"trip_last_arrival_ts\": 32520, \"departure_hour\": 8, \"time_of_day\": \"AM Peak\", \"p25\": 0.53, \"p50\": 0.53, \"p75\": 0.53, \"p50_trip\": 1, \"fastest_trip\": 0, \"car_duration_hours\": 0.46, \"competitive_route\": 1, \"bus_multiplier\": 1.15, \"bus_difference\": 4.2, \"num_trips\": 16, \"num_competitive\": 16, \"pct_trips_competitive\": 1.0, \"bus_difference_spread\": 0.0, \"route_group\": \"short\", \"max_trip_hrs\": 0.53, \"max_trip_route_group\": 0.53, \"below_cutoff\": 16, \"pct_below_cutoff\": 1.0, \"name\": \"City of El Monte\", \"caltrans_district\": \"07 - Los Angeles\", \"drmt_organization_name\": null, \"route_name\": null, \"cutoff2\": 20, \"cutoff\": 2}, {\"calitp_itp_id\": 102, \"trip_key\": -2176601592757212664, \"trip_id\": \"t_147895_b_2686_tn_5\", \"shape_id\": \"p_111162\", \"route_id\": \"6812\", \"service_hours\": 0.53, \"trip_first_departure_ts\": 45600, \"trip_last_arrival_ts\": 47520, \"departure_hour\": 12, \"time_of_day\": \"Midday\", \"p25\": 0.53, \"p50\": 0.53, \"p75\": 0.53, \"p50_trip\": 1, \"fastest_trip\": 0, \"car_duration_hours\": 0.46, \"competitive_route\": 1, \"bus_multiplier\": 1.15, \"bus_difference\": 4.2, \"num_trips\": 16, \"num_competitive\": 16, \"pct_trips_competitive\": 1.0, \"bus_difference_spread\": 0.0, \"route_group\": \"short\", \"max_trip_hrs\": 0.53, \"max_trip_route_group\": 0.53, \"below_cutoff\": 16, \"pct_below_cutoff\": 1.0, \"name\": \"City of El Monte\", \"caltrans_district\": \"07 - Los Angeles\", \"drmt_organization_name\": null, \"route_name\": null, \"cutoff2\": 20, \"cutoff\": 2}, {\"calitp_itp_id\": 102, \"trip_key\": -5362957240605783728, \"trip_id\": \"t_147892_b_2686_tn_5\", \"shape_id\": \"p_111165\", \"route_id\": \"6815\", \"service_hours\": 0.67, \"trip_first_departure_ts\": 45600, \"trip_last_arrival_ts\": 48000, \"departure_hour\": 12, \"time_of_day\": \"Midday\", \"p25\": 0.67, \"p50\": 0.67, \"p75\": 0.67, \"p50_trip\": 1, \"fastest_trip\": 0, \"car_duration_hours\": 0.46, \"competitive_route\": 1, \"bus_multiplier\": 1.46, \"bus_difference\": 12.6, \"num_trips\": 16, \"num_competitive\": 16, \"pct_trips_competitive\": 1.0, \"bus_difference_spread\": 0.0, \"route_group\": \"short\", \"max_trip_hrs\": 0.67, \"max_trip_route_group\": 0.67, \"below_cutoff\": 16, \"pct_below_cutoff\": 1.0, \"name\": \"City of El Monte\", \"caltrans_district\": \"07 - Los Angeles\", \"drmt_organization_name\": null, \"route_name\": null, \"cutoff2\": 20, \"cutoff\": 2}, {\"calitp_itp_id\": 102, \"trip_key\": 4864486280672501753, \"trip_id\": \"t_147890_b_2686_tn_4\", \"shape_id\": \"p_111165\", \"route_id\": \"6815\", \"service_hours\": 0.67, \"trip_first_departure_ts\": 30600, \"trip_last_arrival_ts\": 33000, \"departure_hour\": 8, \"time_of_day\": \"AM Peak\", \"p25\": 0.67, \"p50\": 0.67, \"p75\": 0.67, \"p50_trip\": 1, \"fastest_trip\": 0, \"car_duration_hours\": 0.46, \"competitive_route\": 1, \"bus_multiplier\": 1.46, \"bus_difference\": 12.6, \"num_trips\": 16, \"num_competitive\": 16, \"pct_trips_competitive\": 1.0, \"bus_difference_spread\": 0.0, \"route_group\": \"short\", \"max_trip_hrs\": 0.67, \"max_trip_route_group\": 0.67, \"below_cutoff\": 16, \"pct_below_cutoff\": 1.0, \"name\": \"City of El Monte\", \"caltrans_district\": \"07 - Los Angeles\", \"drmt_organization_name\": null, \"route_name\": null, \"cutoff2\": 20, \"cutoff\": 2}, {\"calitp_itp_id\": 102, \"trip_key\": -3065432940553813125, \"trip_id\": \"t_147892_b_2686_tn_10\", \"shape_id\": \"p_111165\", \"route_id\": \"6815\", \"service_hours\": 0.67, \"trip_first_departure_ts\": 60600, \"trip_last_arrival_ts\": 63000, \"departure_hour\": 16, \"time_of_day\": \"Midday\", \"p25\": 0.67, \"p50\": 0.67, \"p75\": 0.67, \"p50_trip\": 1, \"fastest_trip\": 0, \"car_duration_hours\": 0.46, \"competitive_route\": 1, \"bus_multiplier\": 1.46, \"bus_difference\": 12.6, \"num_trips\": 16, \"num_competitive\": 16, \"pct_trips_competitive\": 1.0, \"bus_difference_spread\": 0.0, \"route_group\": \"short\", \"max_trip_hrs\": 0.67, \"max_trip_route_group\": 0.67, \"below_cutoff\": 16, \"pct_below_cutoff\": 1.0, \"name\": \"City of El Monte\", \"caltrans_district\": \"07 - Los Angeles\", \"drmt_organization_name\": null, \"route_name\": null, \"cutoff2\": 20, \"cutoff\": 2}, {\"calitp_itp_id\": 102, \"trip_key\": 2797677334594301101, \"trip_id\": \"t_147892_b_2686_tn_6\", \"shape_id\": \"p_111165\", \"route_id\": \"6815\", \"service_hours\": 0.67, \"trip_first_departure_ts\": 48600, \"trip_last_arrival_ts\": 51000, \"departure_hour\": 13, \"time_of_day\": \"Midday\", \"p25\": 0.67, \"p50\": 0.67, \"p75\": 0.67, \"p50_trip\": 1, \"fastest_trip\": 0, \"car_duration_hours\": 0.46, \"competitive_route\": 1, \"bus_multiplier\": 1.46, \"bus_difference\": 12.6, \"num_trips\": 16, \"num_competitive\": 16, \"pct_trips_competitive\": 1.0, \"bus_difference_spread\": 0.0, \"route_group\": \"short\", \"max_trip_hrs\": 0.67, \"max_trip_route_group\": 0.67, \"below_cutoff\": 16, \"pct_below_cutoff\": 1.0, \"name\": \"City of El Monte\", \"caltrans_district\": \"07 - Los Angeles\", \"drmt_organization_name\": null, \"route_name\": null, \"cutoff2\": 20, \"cutoff\": 2}, {\"calitp_itp_id\": 102, \"trip_key\": -1733208975052661143, \"trip_id\": \"t_147891_b_2686_tn_0\", \"shape_id\": \"p_111165\", \"route_id\": \"6815\", \"service_hours\": 0.67, \"trip_first_departure_ts\": 66600, \"trip_last_arrival_ts\": 69000, \"departure_hour\": 18, \"time_of_day\": \"PM Peak\", \"p25\": 0.67, \"p50\": 0.67, \"p75\": 0.67, \"p50_trip\": 1, \"fastest_trip\": 1, \"car_duration_hours\": 0.46, \"competitive_route\": 1, \"bus_multiplier\": 1.46, \"bus_difference\": 12.6, \"num_trips\": 16, \"num_competitive\": 16, \"pct_trips_competitive\": 1.0, \"bus_difference_spread\": 0.0, \"route_group\": \"short\", \"max_trip_hrs\": 0.67, \"max_trip_route_group\": 0.67, \"below_cutoff\": 16, \"pct_below_cutoff\": 1.0, \"name\": \"City of El Monte\", \"caltrans_district\": \"07 - Los Angeles\", \"drmt_organization_name\": null, \"route_name\": null, \"cutoff2\": 20, \"cutoff\": 2}, {\"calitp_itp_id\": 102, \"trip_key\": 5274073320015846282, \"trip_id\": \"t_147890_b_2686_tn_2\", \"shape_id\": \"p_111165\", \"route_id\": \"6815\", \"service_hours\": 0.67, \"trip_first_departure_ts\": 24600, \"trip_last_arrival_ts\": 27000, \"departure_hour\": 6, \"time_of_day\": \"Owl Service\", \"p25\": 0.67, \"p50\": 0.67, \"p75\": 0.67, \"p50_trip\": 1, \"fastest_trip\": 0, \"car_duration_hours\": 0.46, \"competitive_route\": 1, \"bus_multiplier\": 1.46, \"bus_difference\": 12.6, \"num_trips\": 16, \"num_competitive\": 16, \"pct_trips_competitive\": 1.0, \"bus_difference_spread\": 0.0, \"route_group\": \"short\", \"max_trip_hrs\": 0.67, \"max_trip_route_group\": 0.67, \"below_cutoff\": 16, \"pct_below_cutoff\": 1.0, \"name\": \"City of El Monte\", \"caltrans_district\": \"07 - Los Angeles\", \"drmt_organization_name\": null, \"route_name\": null, \"cutoff2\": 20, \"cutoff\": 2}, {\"calitp_itp_id\": 102, \"trip_key\": -1510469809421971656, \"trip_id\": \"t_147890_b_2686_tn_1\", \"shape_id\": \"p_111165\", \"route_id\": \"6815\", \"service_hours\": 0.67, \"trip_first_departure_ts\": 21600, \"trip_last_arrival_ts\": 24000, \"departure_hour\": 6, \"time_of_day\": \"Owl Service\", \"p25\": 0.67, \"p50\": 0.67, \"p75\": 0.67, \"p50_trip\": 1, \"fastest_trip\": 0, \"car_duration_hours\": 0.46, \"competitive_route\": 1, \"bus_multiplier\": 1.46, \"bus_difference\": 12.6, \"num_trips\": 16, \"num_competitive\": 16, \"pct_trips_competitive\": 1.0, \"bus_difference_spread\": 0.0, \"route_group\": \"short\", \"max_trip_hrs\": 0.67, \"max_trip_route_group\": 0.67, \"below_cutoff\": 16, \"pct_below_cutoff\": 1.0, \"name\": \"City of El Monte\", \"caltrans_district\": \"07 - Los Angeles\", \"drmt_organization_name\": null, \"route_name\": null, \"cutoff2\": 20, \"cutoff\": 2}, {\"calitp_itp_id\": 102, \"trip_key\": -3990655709391807491, \"trip_id\": \"t_147892_b_2686_tn_9\", \"shape_id\": \"p_111165\", \"route_id\": \"6815\", \"service_hours\": 0.67, \"trip_first_departure_ts\": 57600, \"trip_last_arrival_ts\": 60000, \"departure_hour\": 16, \"time_of_day\": \"Midday\", \"p25\": 0.67, \"p50\": 0.67, \"p75\": 0.67, \"p50_trip\": 1, \"fastest_trip\": 0, \"car_duration_hours\": 0.46, \"competitive_route\": 1, \"bus_multiplier\": 1.46, \"bus_difference\": 12.6, \"num_trips\": 16, \"num_competitive\": 16, \"pct_trips_competitive\": 1.0, \"bus_difference_spread\": 0.0, \"route_group\": \"short\", \"max_trip_hrs\": 0.67, \"max_trip_route_group\": 0.67, \"below_cutoff\": 16, \"pct_below_cutoff\": 1.0, \"name\": \"City of El Monte\", \"caltrans_district\": \"07 - Los Angeles\", \"drmt_organization_name\": null, \"route_name\": null, \"cutoff2\": 20, \"cutoff\": 2}, {\"calitp_itp_id\": 102, \"trip_key\": -6091331931879734223, \"trip_id\": \"t_147892_b_2686_tn_3\", \"shape_id\": \"p_111165\", \"route_id\": \"6815\", \"service_hours\": 0.67, \"trip_first_departure_ts\": 39600, \"trip_last_arrival_ts\": 42000, \"departure_hour\": 11, \"time_of_day\": \"Midday\", \"p25\": 0.67, \"p50\": 0.67, \"p75\": 0.67, \"p50_trip\": 1, \"fastest_trip\": 0, \"car_duration_hours\": 0.46, \"competitive_route\": 1, \"bus_multiplier\": 1.46, \"bus_difference\": 12.6, \"num_trips\": 16, \"num_competitive\": 16, \"pct_trips_competitive\": 1.0, \"bus_difference_spread\": 0.0, \"route_group\": \"short\", \"max_trip_hrs\": 0.67, \"max_trip_route_group\": 0.67, \"below_cutoff\": 16, \"pct_below_cutoff\": 1.0, \"name\": \"City of El Monte\", \"caltrans_district\": \"07 - Los Angeles\", \"drmt_organization_name\": null, \"route_name\": null, \"cutoff2\": 20, \"cutoff\": 2}, {\"calitp_itp_id\": 102, \"trip_key\": -2229373221031908635, \"trip_id\": \"t_147890_b_2686_tn_3\", \"shape_id\": \"p_111165\", \"route_id\": \"6815\", \"service_hours\": 0.67, \"trip_first_departure_ts\": 27600, \"trip_last_arrival_ts\": 30000, \"departure_hour\": 7, \"time_of_day\": \"AM Peak\", \"p25\": 0.67, \"p50\": 0.67, \"p75\": 0.67, \"p50_trip\": 1, \"fastest_trip\": 0, \"car_duration_hours\": 0.46, \"competitive_route\": 1, \"bus_multiplier\": 1.46, \"bus_difference\": 12.6, \"num_trips\": 16, \"num_competitive\": 16, \"pct_trips_competitive\": 1.0, \"bus_difference_spread\": 0.0, \"route_group\": \"short\", \"max_trip_hrs\": 0.67, \"max_trip_route_group\": 0.67, \"below_cutoff\": 16, \"pct_below_cutoff\": 1.0, \"name\": \"City of El Monte\", \"caltrans_district\": \"07 - Los Angeles\", \"drmt_organization_name\": null, \"route_name\": null, \"cutoff2\": 20, \"cutoff\": 2}, {\"calitp_itp_id\": 102, \"trip_key\": -5880457700343244675, \"trip_id\": \"t_147892_b_2686_tn_2\", \"shape_id\": \"p_111165\", \"route_id\": \"6815\", \"service_hours\": 0.67, \"trip_first_departure_ts\": 36600, \"trip_last_arrival_ts\": 39000, \"departure_hour\": 10, \"time_of_day\": \"Midday\", \"p25\": 0.67, \"p50\": 0.67, \"p75\": 0.67, \"p50_trip\": 1, \"fastest_trip\": 0, \"car_duration_hours\": 0.46, \"competitive_route\": 1, \"bus_multiplier\": 1.46, \"bus_difference\": 12.6, \"num_trips\": 16, \"num_competitive\": 16, \"pct_trips_competitive\": 1.0, \"bus_difference_spread\": 0.0, \"route_group\": \"short\", \"max_trip_hrs\": 0.67, \"max_trip_route_group\": 0.67, \"below_cutoff\": 16, \"pct_below_cutoff\": 1.0, \"name\": \"City of El Monte\", \"caltrans_district\": \"07 - Los Angeles\", \"drmt_organization_name\": null, \"route_name\": null, \"cutoff2\": 20, \"cutoff\": 2}, {\"calitp_itp_id\": 102, \"trip_key\": 7763698358630336321, \"trip_id\": \"t_147892_b_2686_tn_4\", \"shape_id\": \"p_111165\", \"route_id\": \"6815\", \"service_hours\": 0.67, \"trip_first_departure_ts\": 42600, \"trip_last_arrival_ts\": 45000, \"departure_hour\": 11, \"time_of_day\": \"Midday\", \"p25\": 0.67, \"p50\": 0.67, \"p75\": 0.67, \"p50_trip\": 1, \"fastest_trip\": 0, \"car_duration_hours\": 0.46, \"competitive_route\": 1, \"bus_multiplier\": 1.46, \"bus_difference\": 12.6, \"num_trips\": 16, \"num_competitive\": 16, \"pct_trips_competitive\": 1.0, \"bus_difference_spread\": 0.0, \"route_group\": \"short\", \"max_trip_hrs\": 0.67, \"max_trip_route_group\": 0.67, \"below_cutoff\": 16, \"pct_below_cutoff\": 1.0, \"name\": \"City of El Monte\", \"caltrans_district\": \"07 - Los Angeles\", \"drmt_organization_name\": null, \"route_name\": null, \"cutoff2\": 20, \"cutoff\": 2}, {\"calitp_itp_id\": 102, \"trip_key\": -8246621721174906460, \"trip_id\": \"t_147892_b_2686_tn_8\", \"shape_id\": \"p_111165\", \"route_id\": \"6815\", \"service_hours\": 0.67, \"trip_first_departure_ts\": 54600, \"trip_last_arrival_ts\": 57000, \"departure_hour\": 15, \"time_of_day\": \"Midday\", \"p25\": 0.67, \"p50\": 0.67, \"p75\": 0.67, \"p50_trip\": 1, \"fastest_trip\": 0, \"car_duration_hours\": 0.46, \"competitive_route\": 1, \"bus_multiplier\": 1.46, \"bus_difference\": 12.6, \"num_trips\": 16, \"num_competitive\": 16, \"pct_trips_competitive\": 1.0, \"bus_difference_spread\": 0.0, \"route_group\": \"short\", \"max_trip_hrs\": 0.67, \"max_trip_route_group\": 0.67, \"below_cutoff\": 16, \"pct_below_cutoff\": 1.0, \"name\": \"City of El Monte\", \"caltrans_district\": \"07 - Los Angeles\", \"drmt_organization_name\": null, \"route_name\": null, \"cutoff2\": 20, \"cutoff\": 2}, {\"calitp_itp_id\": 102, \"trip_key\": 1173113150824679597, \"trip_id\": \"t_147892_b_2686_tn_11\", \"shape_id\": \"p_111165\", \"route_id\": \"6815\", \"service_hours\": 0.67, \"trip_first_departure_ts\": 63600, \"trip_last_arrival_ts\": 66000, \"departure_hour\": 17, \"time_of_day\": \"PM Peak\", \"p25\": 0.67, \"p50\": 0.67, \"p75\": 0.67, \"p50_trip\": 1, \"fastest_trip\": 0, \"car_duration_hours\": 0.46, \"competitive_route\": 1, \"bus_multiplier\": 1.46, \"bus_difference\": 12.6, \"num_trips\": 16, \"num_competitive\": 16, \"pct_trips_competitive\": 1.0, \"bus_difference_spread\": 0.0, \"route_group\": \"short\", \"max_trip_hrs\": 0.67, \"max_trip_route_group\": 0.67, \"below_cutoff\": 16, \"pct_below_cutoff\": 1.0, \"name\": \"City of El Monte\", \"caltrans_district\": \"07 - Los Angeles\", \"drmt_organization_name\": null, \"route_name\": null, \"cutoff2\": 20, \"cutoff\": 2}, {\"calitp_itp_id\": 102, \"trip_key\": 3325949009610385247, \"trip_id\": \"t_147892_b_2686_tn_1\", \"shape_id\": \"p_111165\", \"route_id\": \"6815\", \"service_hours\": 0.67, \"trip_first_departure_ts\": 33600, \"trip_last_arrival_ts\": 36000, \"departure_hour\": 9, \"time_of_day\": \"AM Peak\", \"p25\": 0.67, \"p50\": 0.67, \"p75\": 0.67, \"p50_trip\": 1, \"fastest_trip\": 0, \"car_duration_hours\": 0.46, \"competitive_route\": 1, \"bus_multiplier\": 1.46, \"bus_difference\": 12.6, \"num_trips\": 16, \"num_competitive\": 16, \"pct_trips_competitive\": 1.0, \"bus_difference_spread\": 0.0, \"route_group\": \"short\", \"max_trip_hrs\": 0.67, \"max_trip_route_group\": 0.67, \"below_cutoff\": 16, \"pct_below_cutoff\": 1.0, \"name\": \"City of El Monte\", \"caltrans_district\": \"07 - Los Angeles\", \"drmt_organization_name\": null, \"route_name\": null, \"cutoff2\": 20, \"cutoff\": 2}, {\"calitp_itp_id\": 102, \"trip_key\": -430700960778060696, \"trip_id\": \"t_147892_b_2686_tn_7\", \"shape_id\": \"p_111165\", \"route_id\": \"6815\", \"service_hours\": 0.67, \"trip_first_departure_ts\": 51600, \"trip_last_arrival_ts\": 54000, \"departure_hour\": 14, \"time_of_day\": \"Midday\", \"p25\": 0.67, \"p50\": 0.67, \"p75\": 0.67, \"p50_trip\": 1, \"fastest_trip\": 0, \"car_duration_hours\": 0.46, \"competitive_route\": 1, \"bus_multiplier\": 1.46, \"bus_difference\": 12.6, \"num_trips\": 16, \"num_competitive\": 16, \"pct_trips_competitive\": 1.0, \"bus_difference_spread\": 0.0, \"route_group\": \"short\", \"max_trip_hrs\": 0.67, \"max_trip_route_group\": 0.67, \"below_cutoff\": 16, \"pct_below_cutoff\": 1.0, \"name\": \"City of El Monte\", \"caltrans_district\": \"07 - Los Angeles\", \"drmt_organization_name\": null, \"route_name\": null, \"cutoff2\": 20, \"cutoff\": 2}, {\"calitp_itp_id\": 102, \"trip_key\": 3391477370496388845, \"trip_id\": \"t_147898_b_2686_tn_10\", \"shape_id\": \"p_111166\", \"route_id\": \"6816\", \"service_hours\": 0.67, \"trip_first_departure_ts\": 60600, \"trip_last_arrival_ts\": 63000, \"departure_hour\": 16, \"time_of_day\": \"Midday\", \"p25\": 0.67, \"p50\": 0.67, \"p75\": 0.67, \"p50_trip\": 1, \"fastest_trip\": 0, \"car_duration_hours\": 0.42, \"competitive_route\": 1, \"bus_multiplier\": 1.6, \"bus_difference\": 15.0, \"num_trips\": 16, \"num_competitive\": 16, \"pct_trips_competitive\": 1.0, \"bus_difference_spread\": 0.0, \"route_group\": \"short\", \"max_trip_hrs\": 0.67, \"max_trip_route_group\": 0.67, \"below_cutoff\": 16, \"pct_below_cutoff\": 1.0, \"name\": \"City of El Monte\", \"caltrans_district\": \"07 - Los Angeles\", \"drmt_organization_name\": null, \"route_name\": null, \"cutoff2\": 20, \"cutoff\": 2}, {\"calitp_itp_id\": 102, \"trip_key\": 143023999516622186, \"trip_id\": \"t_147898_b_2686_tn_4\", \"shape_id\": \"p_111166\", \"route_id\": \"6816\", \"service_hours\": 0.67, \"trip_first_departure_ts\": 42600, \"trip_last_arrival_ts\": 45000, \"departure_hour\": 11, \"time_of_day\": \"Midday\", \"p25\": 0.67, \"p50\": 0.67, \"p75\": 0.67, \"p50_trip\": 1, \"fastest_trip\": 0, \"car_duration_hours\": 0.42, \"competitive_route\": 1, \"bus_multiplier\": 1.6, \"bus_difference\": 15.0, \"num_trips\": 16, \"num_competitive\": 16, \"pct_trips_competitive\": 1.0, \"bus_difference_spread\": 0.0, \"route_group\": \"short\", \"max_trip_hrs\": 0.67, \"max_trip_route_group\": 0.67, \"below_cutoff\": 16, \"pct_below_cutoff\": 1.0, \"name\": \"City of El Monte\", \"caltrans_district\": \"07 - Los Angeles\", \"drmt_organization_name\": null, \"route_name\": null, \"cutoff2\": 20, \"cutoff\": 2}, {\"calitp_itp_id\": 102, \"trip_key\": -4012191943816816838, \"trip_id\": \"t_147898_b_2686_tn_3\", \"shape_id\": \"p_111166\", \"route_id\": \"6816\", \"service_hours\": 0.67, \"trip_first_departure_ts\": 39600, \"trip_last_arrival_ts\": 42000, \"departure_hour\": 11, \"time_of_day\": \"Midday\", \"p25\": 0.67, \"p50\": 0.67, \"p75\": 0.67, \"p50_trip\": 1, \"fastest_trip\": 0, \"car_duration_hours\": 0.42, \"competitive_route\": 1, \"bus_multiplier\": 1.6, \"bus_difference\": 15.0, \"num_trips\": 16, \"num_competitive\": 16, \"pct_trips_competitive\": 1.0, \"bus_difference_spread\": 0.0, \"route_group\": \"short\", \"max_trip_hrs\": 0.67, \"max_trip_route_group\": 0.67, \"below_cutoff\": 16, \"pct_below_cutoff\": 1.0, \"name\": \"City of El Monte\", \"caltrans_district\": \"07 - Los Angeles\", \"drmt_organization_name\": null, \"route_name\": null, \"cutoff2\": 20, \"cutoff\": 2}, {\"calitp_itp_id\": 102, \"trip_key\": 2440818110463418880, \"trip_id\": \"t_147898_b_2686_tn_1\", \"shape_id\": \"p_111166\", \"route_id\": \"6816\", \"service_hours\": 0.67, \"trip_first_departure_ts\": 33600, \"trip_last_arrival_ts\": 36000, \"departure_hour\": 9, \"time_of_day\": \"AM Peak\", \"p25\": 0.67, \"p50\": 0.67, \"p75\": 0.67, \"p50_trip\": 1, \"fastest_trip\": 0, \"car_duration_hours\": 0.42, \"competitive_route\": 1, \"bus_multiplier\": 1.6, \"bus_difference\": 15.0, \"num_trips\": 16, \"num_competitive\": 16, \"pct_trips_competitive\": 1.0, \"bus_difference_spread\": 0.0, \"route_group\": \"short\", \"max_trip_hrs\": 0.67, \"max_trip_route_group\": 0.67, \"below_cutoff\": 16, \"pct_below_cutoff\": 1.0, \"name\": \"City of El Monte\", \"caltrans_district\": \"07 - Los Angeles\", \"drmt_organization_name\": null, \"route_name\": null, \"cutoff2\": 20, \"cutoff\": 2}, {\"calitp_itp_id\": 102, \"trip_key\": -7346493855026819010, \"trip_id\": \"t_147898_b_2686_tn_8\", \"shape_id\": \"p_111166\", \"route_id\": \"6816\", \"service_hours\": 0.67, \"trip_first_departure_ts\": 54600, \"trip_last_arrival_ts\": 57000, \"departure_hour\": 15, \"time_of_day\": \"Midday\", \"p25\": 0.67, \"p50\": 0.67, \"p75\": 0.67, \"p50_trip\": 1, \"fastest_trip\": 0, \"car_duration_hours\": 0.42, \"competitive_route\": 1, \"bus_multiplier\": 1.6, \"bus_difference\": 15.0, \"num_trips\": 16, \"num_competitive\": 16, \"pct_trips_competitive\": 1.0, \"bus_difference_spread\": 0.0, \"route_group\": \"short\", \"max_trip_hrs\": 0.67, \"max_trip_route_group\": 0.67, \"below_cutoff\": 16, \"pct_below_cutoff\": 1.0, \"name\": \"City of El Monte\", \"caltrans_district\": \"07 - Los Angeles\", \"drmt_organization_name\": null, \"route_name\": null, \"cutoff2\": 20, \"cutoff\": 2}, {\"calitp_itp_id\": 102, \"trip_key\": 2668184293044213155, \"trip_id\": \"t_147898_b_2686_tn_9\", \"shape_id\": \"p_111166\", \"route_id\": \"6816\", \"service_hours\": 0.67, \"trip_first_departure_ts\": 57600, \"trip_last_arrival_ts\": 60000, \"departure_hour\": 16, \"time_of_day\": \"Midday\", \"p25\": 0.67, \"p50\": 0.67, \"p75\": 0.67, \"p50_trip\": 1, \"fastest_trip\": 0, \"car_duration_hours\": 0.42, \"competitive_route\": 1, \"bus_multiplier\": 1.6, \"bus_difference\": 15.0, \"num_trips\": 16, \"num_competitive\": 16, \"pct_trips_competitive\": 1.0, \"bus_difference_spread\": 0.0, \"route_group\": \"short\", \"max_trip_hrs\": 0.67, \"max_trip_route_group\": 0.67, \"below_cutoff\": 16, \"pct_below_cutoff\": 1.0, \"name\": \"City of El Monte\", \"caltrans_district\": \"07 - Los Angeles\", \"drmt_organization_name\": null, \"route_name\": null, \"cutoff2\": 20, \"cutoff\": 2}, {\"calitp_itp_id\": 102, \"trip_key\": 4339139502125520775, \"trip_id\": \"t_147898_b_2686_tn_2\", \"shape_id\": \"p_111166\", \"route_id\": \"6816\", \"service_hours\": 0.67, \"trip_first_departure_ts\": 36600, \"trip_last_arrival_ts\": 39000, \"departure_hour\": 10, \"time_of_day\": \"Midday\", \"p25\": 0.67, \"p50\": 0.67, \"p75\": 0.67, \"p50_trip\": 1, \"fastest_trip\": 0, \"car_duration_hours\": 0.42, \"competitive_route\": 1, \"bus_multiplier\": 1.6, \"bus_difference\": 15.0, \"num_trips\": 16, \"num_competitive\": 16, \"pct_trips_competitive\": 1.0, \"bus_difference_spread\": 0.0, \"route_group\": \"short\", \"max_trip_hrs\": 0.67, \"max_trip_route_group\": 0.67, \"below_cutoff\": 16, \"pct_below_cutoff\": 1.0, \"name\": \"City of El Monte\", \"caltrans_district\": \"07 - Los Angeles\", \"drmt_organization_name\": null, \"route_name\": null, \"cutoff2\": 20, \"cutoff\": 2}, {\"calitp_itp_id\": 102, \"trip_key\": -334068648931858652, \"trip_id\": \"t_147896_b_2686_tn_4\", \"shape_id\": \"p_111166\", \"route_id\": \"6816\", \"service_hours\": 0.67, \"trip_first_departure_ts\": 30600, \"trip_last_arrival_ts\": 33000, \"departure_hour\": 8, \"time_of_day\": \"AM Peak\", \"p25\": 0.67, \"p50\": 0.67, \"p75\": 0.67, \"p50_trip\": 1, \"fastest_trip\": 0, \"car_duration_hours\": 0.42, \"competitive_route\": 1, \"bus_multiplier\": 1.6, \"bus_difference\": 15.0, \"num_trips\": 16, \"num_competitive\": 16, \"pct_trips_competitive\": 1.0, \"bus_difference_spread\": 0.0, \"route_group\": \"short\", \"max_trip_hrs\": 0.67, \"max_trip_route_group\": 0.67, \"below_cutoff\": 16, \"pct_below_cutoff\": 1.0, \"name\": \"City of El Monte\", \"caltrans_district\": \"07 - Los Angeles\", \"drmt_organization_name\": null, \"route_name\": null, \"cutoff2\": 20, \"cutoff\": 2}, {\"calitp_itp_id\": 102, \"trip_key\": 278358709813889447, \"trip_id\": \"t_147896_b_2686_tn_3\", \"shape_id\": \"p_111166\", \"route_id\": \"6816\", \"service_hours\": 0.67, \"trip_first_departure_ts\": 27600, \"trip_last_arrival_ts\": 30000, \"departure_hour\": 7, \"time_of_day\": \"AM Peak\", \"p25\": 0.67, \"p50\": 0.67, \"p75\": 0.67, \"p50_trip\": 1, \"fastest_trip\": 0, \"car_duration_hours\": 0.42, \"competitive_route\": 1, \"bus_multiplier\": 1.6, \"bus_difference\": 15.0, \"num_trips\": 16, \"num_competitive\": 16, \"pct_trips_competitive\": 1.0, \"bus_difference_spread\": 0.0, \"route_group\": \"short\", \"max_trip_hrs\": 0.67, \"max_trip_route_group\": 0.67, \"below_cutoff\": 16, \"pct_below_cutoff\": 1.0, \"name\": \"City of El Monte\", \"caltrans_district\": \"07 - Los Angeles\", \"drmt_organization_name\": null, \"route_name\": null, \"cutoff2\": 20, \"cutoff\": 2}, {\"calitp_itp_id\": 102, \"trip_key\": -5947620939702280924, \"trip_id\": \"t_147898_b_2686_tn_6\", \"shape_id\": \"p_111166\", \"route_id\": \"6816\", \"service_hours\": 0.67, \"trip_first_departure_ts\": 48600, \"trip_last_arrival_ts\": 51000, \"departure_hour\": 13, \"time_of_day\": \"Midday\", \"p25\": 0.67, \"p50\": 0.67, \"p75\": 0.67, \"p50_trip\": 1, \"fastest_trip\": 0, \"car_duration_hours\": 0.42, \"competitive_route\": 1, \"bus_multiplier\": 1.6, \"bus_difference\": 15.0, \"num_trips\": 16, \"num_competitive\": 16, \"pct_trips_competitive\": 1.0, \"bus_difference_spread\": 0.0, \"route_group\": \"short\", \"max_trip_hrs\": 0.67, \"max_trip_route_group\": 0.67, \"below_cutoff\": 16, \"pct_below_cutoff\": 1.0, \"name\": \"City of El Monte\", \"caltrans_district\": \"07 - Los Angeles\", \"drmt_organization_name\": null, \"route_name\": null, \"cutoff2\": 20, \"cutoff\": 2}, {\"calitp_itp_id\": 102, \"trip_key\": 6848729283777657688, \"trip_id\": \"t_147898_b_2686_tn_11\", \"shape_id\": \"p_111166\", \"route_id\": \"6816\", \"service_hours\": 0.67, \"trip_first_departure_ts\": 63600, \"trip_last_arrival_ts\": 66000, \"departure_hour\": 17, \"time_of_day\": \"PM Peak\", \"p25\": 0.67, \"p50\": 0.67, \"p75\": 0.67, \"p50_trip\": 1, \"fastest_trip\": 0, \"car_duration_hours\": 0.42, \"competitive_route\": 1, \"bus_multiplier\": 1.6, \"bus_difference\": 15.0, \"num_trips\": 16, \"num_competitive\": 16, \"pct_trips_competitive\": 1.0, \"bus_difference_spread\": 0.0, \"route_group\": \"short\", \"max_trip_hrs\": 0.67, \"max_trip_route_group\": 0.67, \"below_cutoff\": 16, \"pct_below_cutoff\": 1.0, \"name\": \"City of El Monte\", \"caltrans_district\": \"07 - Los Angeles\", \"drmt_organization_name\": null, \"route_name\": null, \"cutoff2\": 20, \"cutoff\": 2}, {\"calitp_itp_id\": 102, \"trip_key\": -2779654832465291752, \"trip_id\": \"t_147898_b_2686_tn_7\", \"shape_id\": \"p_111166\", \"route_id\": \"6816\", \"service_hours\": 0.67, \"trip_first_departure_ts\": 51600, \"trip_last_arrival_ts\": 54000, \"departure_hour\": 14, \"time_of_day\": \"Midday\", \"p25\": 0.67, \"p50\": 0.67, \"p75\": 0.67, \"p50_trip\": 1, \"fastest_trip\": 0, \"car_duration_hours\": 0.42, \"competitive_route\": 1, \"bus_multiplier\": 1.6, \"bus_difference\": 15.0, \"num_trips\": 16, \"num_competitive\": 16, \"pct_trips_competitive\": 1.0, \"bus_difference_spread\": 0.0, \"route_group\": \"short\", \"max_trip_hrs\": 0.67, \"max_trip_route_group\": 0.67, \"below_cutoff\": 16, \"pct_below_cutoff\": 1.0, \"name\": \"City of El Monte\", \"caltrans_district\": \"07 - Los Angeles\", \"drmt_organization_name\": null, \"route_name\": null, \"cutoff2\": 20, \"cutoff\": 2}, {\"calitp_itp_id\": 102, \"trip_key\": -5118655446628484113, \"trip_id\": \"t_147896_b_2686_tn_2\", \"shape_id\": \"p_111166\", \"route_id\": \"6816\", \"service_hours\": 0.67, \"trip_first_departure_ts\": 24600, \"trip_last_arrival_ts\": 27000, \"departure_hour\": 6, \"time_of_day\": \"Owl Service\", \"p25\": 0.67, \"p50\": 0.67, \"p75\": 0.67, \"p50_trip\": 1, \"fastest_trip\": 0, \"car_duration_hours\": 0.42, \"competitive_route\": 1, \"bus_multiplier\": 1.6, \"bus_difference\": 15.0, \"num_trips\": 16, \"num_competitive\": 16, \"pct_trips_competitive\": 1.0, \"bus_difference_spread\": 0.0, \"route_group\": \"short\", \"max_trip_hrs\": 0.67, \"max_trip_route_group\": 0.67, \"below_cutoff\": 16, \"pct_below_cutoff\": 1.0, \"name\": \"City of El Monte\", \"caltrans_district\": \"07 - Los Angeles\", \"drmt_organization_name\": null, \"route_name\": null, \"cutoff2\": 20, \"cutoff\": 2}, {\"calitp_itp_id\": 102, \"trip_key\": -7274085442895036013, \"trip_id\": \"t_147898_b_2686_tn_5\", \"shape_id\": \"p_111166\", \"route_id\": \"6816\", \"service_hours\": 0.67, \"trip_first_departure_ts\": 45600, \"trip_last_arrival_ts\": 48000, \"departure_hour\": 12, \"time_of_day\": \"Midday\", \"p25\": 0.67, \"p50\": 0.67, \"p75\": 0.67, \"p50_trip\": 1, \"fastest_trip\": 0, \"car_duration_hours\": 0.42, \"competitive_route\": 1, \"bus_multiplier\": 1.6, \"bus_difference\": 15.0, \"num_trips\": 16, \"num_competitive\": 16, \"pct_trips_competitive\": 1.0, \"bus_difference_spread\": 0.0, \"route_group\": \"short\", \"max_trip_hrs\": 0.67, \"max_trip_route_group\": 0.67, \"below_cutoff\": 16, \"pct_below_cutoff\": 1.0, \"name\": \"City of El Monte\", \"caltrans_district\": \"07 - Los Angeles\", \"drmt_organization_name\": null, \"route_name\": null, \"cutoff2\": 20, \"cutoff\": 2}, {\"calitp_itp_id\": 102, \"trip_key\": 6358063859012994441, \"trip_id\": \"t_147897_b_2686_tn_0\", \"shape_id\": \"p_111166\", \"route_id\": \"6816\", \"service_hours\": 0.67, \"trip_first_departure_ts\": 66600, \"trip_last_arrival_ts\": 69000, \"departure_hour\": 18, \"time_of_day\": \"PM Peak\", \"p25\": 0.67, \"p50\": 0.67, \"p75\": 0.67, \"p50_trip\": 1, \"fastest_trip\": 1, \"car_duration_hours\": 0.42, \"competitive_route\": 1, \"bus_multiplier\": 1.6, \"bus_difference\": 15.0, \"num_trips\": 16, \"num_competitive\": 16, \"pct_trips_competitive\": 1.0, \"bus_difference_spread\": 0.0, \"route_group\": \"short\", \"max_trip_hrs\": 0.67, \"max_trip_route_group\": 0.67, \"below_cutoff\": 16, \"pct_below_cutoff\": 1.0, \"name\": \"City of El Monte\", \"caltrans_district\": \"07 - Los Angeles\", \"drmt_organization_name\": null, \"route_name\": null, \"cutoff2\": 20, \"cutoff\": 2}, {\"calitp_itp_id\": 102, \"trip_key\": 3618396333677559301, \"trip_id\": \"t_147896_b_2686_tn_1\", \"shape_id\": \"p_111166\", \"route_id\": \"6816\", \"service_hours\": 0.67, \"trip_first_departure_ts\": 21600, \"trip_last_arrival_ts\": 24000, \"departure_hour\": 6, \"time_of_day\": \"Owl Service\", \"p25\": 0.67, \"p50\": 0.67, \"p75\": 0.67, \"p50_trip\": 1, \"fastest_trip\": 0, \"car_duration_hours\": 0.42, \"competitive_route\": 1, \"bus_multiplier\": 1.6, \"bus_difference\": 15.0, \"num_trips\": 16, \"num_competitive\": 16, \"pct_trips_competitive\": 1.0, \"bus_difference_spread\": 0.0, \"route_group\": \"short\", \"max_trip_hrs\": 0.67, \"max_trip_route_group\": 0.67, \"below_cutoff\": 16, \"pct_below_cutoff\": 1.0, \"name\": \"City of El Monte\", \"caltrans_district\": \"07 - Los Angeles\", \"drmt_organization_name\": null, \"route_name\": null, \"cutoff2\": 20, \"cutoff\": 2}]}}, {\"mode\": \"vega-lite\"});\n",
       "</script>"
      ],
      "text/plain": [
       "alt.FacetChart(...)"
      ]
     },
     "metadata": {},
     "output_type": "display_data"
    },
    {
     "data": {
      "text/html": [
       "\n",
       "<div id=\"altair-viz-9c4c13d93a1a4501b826d62acb1db0a7\"></div>\n",
       "<script type=\"text/javascript\">\n",
       "  var VEGA_DEBUG = (typeof VEGA_DEBUG == \"undefined\") ? {} : VEGA_DEBUG;\n",
       "  (function(spec, embedOpt){\n",
       "    let outputDiv = document.currentScript.previousElementSibling;\n",
       "    if (outputDiv.id !== \"altair-viz-9c4c13d93a1a4501b826d62acb1db0a7\") {\n",
       "      outputDiv = document.getElementById(\"altair-viz-9c4c13d93a1a4501b826d62acb1db0a7\");\n",
       "    }\n",
       "    const paths = {\n",
       "      \"vega\": \"https://cdn.jsdelivr.net/npm//vega@5?noext\",\n",
       "      \"vega-lib\": \"https://cdn.jsdelivr.net/npm//vega-lib?noext\",\n",
       "      \"vega-lite\": \"https://cdn.jsdelivr.net/npm//vega-lite@4.17.0?noext\",\n",
       "      \"vega-embed\": \"https://cdn.jsdelivr.net/npm//vega-embed@6?noext\",\n",
       "    };\n",
       "\n",
       "    function maybeLoadScript(lib, version) {\n",
       "      var key = `${lib.replace(\"-\", \"\")}_version`;\n",
       "      return (VEGA_DEBUG[key] == version) ?\n",
       "        Promise.resolve(paths[lib]) :\n",
       "        new Promise(function(resolve, reject) {\n",
       "          var s = document.createElement('script');\n",
       "          document.getElementsByTagName(\"head\")[0].appendChild(s);\n",
       "          s.async = true;\n",
       "          s.onload = () => {\n",
       "            VEGA_DEBUG[key] = version;\n",
       "            return resolve(paths[lib]);\n",
       "          };\n",
       "          s.onerror = () => reject(`Error loading script: ${paths[lib]}`);\n",
       "          s.src = paths[lib];\n",
       "        });\n",
       "    }\n",
       "\n",
       "    function showError(err) {\n",
       "      outputDiv.innerHTML = `<div class=\"error\" style=\"color:red;\">${err}</div>`;\n",
       "      throw err;\n",
       "    }\n",
       "\n",
       "    function displayChart(vegaEmbed) {\n",
       "      vegaEmbed(outputDiv, spec, embedOpt)\n",
       "        .catch(err => showError(`Javascript Error: ${err.message}<br>This usually means there's a typo in your chart specification. See the javascript console for the full traceback.`));\n",
       "    }\n",
       "\n",
       "    if(typeof define === \"function\" && define.amd) {\n",
       "      requirejs.config({paths});\n",
       "      require([\"vega-embed\"], displayChart, err => showError(`Error loading script: ${err.message}`));\n",
       "    } else {\n",
       "      maybeLoadScript(\"vega\", \"5\")\n",
       "        .then(() => maybeLoadScript(\"vega-lite\", \"4.17.0\"))\n",
       "        .then(() => maybeLoadScript(\"vega-embed\", \"6\"))\n",
       "        .catch(showError)\n",
       "        .then(() => displayChart(vegaEmbed));\n",
       "    }\n",
       "  })({\"config\": {\"view\": {\"continuousWidth\": 400, \"continuousHeight\": 300, \"stroke\": null}, \"facet\": {\"spacing\": 0}}, \"data\": {\"name\": \"data-2f16e56cff6b465676e5da5cc086003e\"}, \"facet\": {\"column\": {\"field\": \"route_id\", \"sort\": [\"6811\", \"6812\", \"6815\", \"6816\"], \"title\": \"Route ID\", \"type\": \"nominal\"}}, \"spec\": {\"layer\": [{\"mark\": \"rule\", \"encoding\": {\"color\": {\"value\": \"black\"}, \"y\": {\"field\": \"cutoff\", \"type\": \"quantitative\"}}, \"selection\": {\"selector002\": {\"type\": \"interval\", \"bind\": \"scales\", \"encodings\": [\"x\", \"y\"]}}}, {\"mark\": {\"type\": \"rule\", \"strokeDash\": [3, 3]}, \"encoding\": {\"color\": {\"value\": \"#323434\"}, \"y\": {\"field\": \"cutoff2\", \"type\": \"quantitative\"}}}, {\"mark\": {\"type\": \"point\", \"opacity\": 0.65, \"size\": 12, \"strokeWidth\": 1.1}, \"encoding\": {\"color\": {\"field\": \"time_of_day\", \"scale\": {\"range\": [\"#136C97\", \"#E16B26\", \"#F6BF16\", \"#00896B\", \"#7790A3\", \"#5B559C\"]}, \"sort\": [\"AM Peak\", \"Midday\", \"PM Peak\", \"Owl Service\"], \"title\": \"Time of Day\", \"type\": \"nominal\"}, \"tooltip\": [{\"field\": \"route_id\", \"type\": \"nominal\"}, {\"field\": \"route_name\", \"type\": \"nominal\"}, {\"field\": \"trip_id\", \"type\": \"nominal\"}, {\"field\": \"service_hours\", \"type\": \"quantitative\"}, {\"field\": \"car_duration_hours\", \"type\": \"quantitative\"}, {\"field\": \"bus_multiplier\", \"type\": \"quantitative\"}, {\"field\": \"bus_difference\", \"type\": \"quantitative\"}, {\"field\": \"num_trips\", \"type\": \"quantitative\"}, {\"field\": \"num_competitive\", \"type\": \"quantitative\"}, {\"field\": \"pct_trips_competitive\", \"type\": \"quantitative\"}, {\"field\": \"p25\", \"type\": \"quantitative\"}, {\"field\": \"p50\", \"type\": \"quantitative\"}, {\"field\": \"p75\", \"type\": \"quantitative\"}], \"x\": {\"axis\": {\"grid\": false, \"labels\": false, \"ticks\": true, \"values\": [0]}, \"field\": \"jitter\", \"scale\": {}, \"title\": null, \"type\": \"quantitative\"}, \"y\": {\"field\": \"bus_difference\", \"scale\": {\"domain\": [-5, 25.0]}, \"title\": \"Difference in Bus to Car Travel Time (min)\", \"type\": \"quantitative\"}}, \"transform\": [{\"calculate\": \"sqrt(-2*log(random()))*cos(2*PI*random())\", \"as\": \"jitter\"}], \"width\": 50}, {\"layer\": [{\"mark\": {\"type\": \"point\", \"opacity\": 0.6, \"size\": 20, \"strokeWidth\": 1.3}, \"encoding\": {\"color\": {\"value\": \"#323434\"}, \"y\": {\"field\": \"bus_difference\", \"type\": \"quantitative\"}}, \"transform\": [{\"filter\": \"(datum.p50_trip === 1)\"}]}, {\"mark\": {\"type\": \"text\", \"align\": \"center\", \"baseline\": \"middle\"}, \"encoding\": {\"color\": {\"value\": \"black\"}, \"text\": {\"field\": \"pct_trips_competitive\", \"format\": \".0%\", \"type\": \"quantitative\"}, \"tooltip\": [{\"field\": \"route_id\", \"type\": \"nominal\"}, {\"field\": \"route_name\", \"type\": \"nominal\"}, {\"field\": \"trip_id\", \"type\": \"nominal\"}, {\"field\": \"service_hours\", \"type\": \"quantitative\"}, {\"field\": \"car_duration_hours\", \"type\": \"quantitative\"}, {\"field\": \"bus_multiplier\", \"type\": \"quantitative\"}, {\"field\": \"bus_difference\", \"type\": \"quantitative\"}, {\"field\": \"num_trips\", \"type\": \"quantitative\"}, {\"field\": \"num_competitive\", \"type\": \"quantitative\"}, {\"field\": \"pct_trips_competitive\", \"type\": \"quantitative\"}, {\"field\": \"p25\", \"type\": \"quantitative\"}, {\"field\": \"p50\", \"type\": \"quantitative\"}, {\"field\": \"p75\", \"type\": \"quantitative\"}], \"x\": {\"value\": 30}, \"y\": {\"value\": 15}}, \"transform\": [{\"calculate\": \"sqrt(-2*log(random()))*cos(2*PI*random())\", \"as\": \"jitter\"}, {\"filter\": \"(datum.fastest_trip === 1)\"}]}]}]}, \"resolve\": {\"scale\": {\"y\": \"shared\"}}, \"title\": \"Difference in Bus to Car Travel Time (min)\", \"$schema\": \"https://vega.github.io/schema/vega-lite/v4.17.0.json\", \"datasets\": {\"data-2f16e56cff6b465676e5da5cc086003e\": [{\"calitp_itp_id\": 102, \"trip_key\": -3170932979757560875, \"trip_id\": \"t_148346_b_2686_tn_0\", \"shape_id\": \"p_111161\", \"route_id\": \"6811\", \"service_hours\": 0.42, \"trip_first_departure_ts\": 32460, \"trip_last_arrival_ts\": 33960, \"departure_hour\": 9, \"time_of_day\": \"AM Peak\", \"p25\": 0.42, \"p50\": 0.42, \"p75\": 0.42, \"p50_trip\": 1, \"fastest_trip\": 0, \"car_duration_hours\": 0.27, \"competitive_route\": 1, \"bus_multiplier\": 1.56, \"bus_difference\": 9.0, \"num_trips\": 21, \"num_competitive\": 21, \"pct_trips_competitive\": 1.0, \"bus_difference_spread\": 0.0, \"route_group\": \"short\", \"max_trip_hrs\": 0.42, \"max_trip_route_group\": 0.42, \"below_cutoff\": 21, \"pct_below_cutoff\": 1.0, \"name\": \"City of El Monte\", \"caltrans_district\": \"07 - Los Angeles\", \"drmt_organization_name\": null, \"route_name\": \"Flair Park\", \"cutoff2\": 20, \"cutoff\": 0}, {\"calitp_itp_id\": 102, \"trip_key\": -5054981746187623325, \"trip_id\": \"t_148357_b_2686_tn_0\", \"shape_id\": \"p_111161\", \"route_id\": \"6811\", \"service_hours\": 0.42, \"trip_first_departure_ts\": 58200, \"trip_last_arrival_ts\": 59700, \"departure_hour\": 16, \"time_of_day\": \"Midday\", \"p25\": 0.42, \"p50\": 0.42, \"p75\": 0.42, \"p50_trip\": 1, \"fastest_trip\": 0, \"car_duration_hours\": 0.27, \"competitive_route\": 1, \"bus_multiplier\": 1.56, \"bus_difference\": 9.0, \"num_trips\": 21, \"num_competitive\": 21, \"pct_trips_competitive\": 1.0, \"bus_difference_spread\": 0.0, \"route_group\": \"short\", \"max_trip_hrs\": 0.42, \"max_trip_route_group\": 0.42, \"below_cutoff\": 21, \"pct_below_cutoff\": 1.0, \"name\": \"City of El Monte\", \"caltrans_district\": \"07 - Los Angeles\", \"drmt_organization_name\": null, \"route_name\": \"Flair Park\", \"cutoff2\": 20, \"cutoff\": 0}, {\"calitp_itp_id\": 102, \"trip_key\": -426695003816342558, \"trip_id\": \"t_148343_b_2686_tn_0\", \"shape_id\": \"p_111161\", \"route_id\": \"6811\", \"service_hours\": 0.42, \"trip_first_departure_ts\": 24960, \"trip_last_arrival_ts\": 26460, \"departure_hour\": 6, \"time_of_day\": \"Owl Service\", \"p25\": 0.42, \"p50\": 0.42, \"p75\": 0.42, \"p50_trip\": 1, \"fastest_trip\": 0, \"car_duration_hours\": 0.27, \"competitive_route\": 1, \"bus_multiplier\": 1.56, \"bus_difference\": 9.0, \"num_trips\": 21, \"num_competitive\": 21, \"pct_trips_competitive\": 1.0, \"bus_difference_spread\": 0.0, \"route_group\": \"short\", \"max_trip_hrs\": 0.42, \"max_trip_route_group\": 0.42, \"below_cutoff\": 21, \"pct_below_cutoff\": 1.0, \"name\": \"City of El Monte\", \"caltrans_district\": \"07 - Los Angeles\", \"drmt_organization_name\": null, \"route_name\": \"Flair Park\", \"cutoff2\": 20, \"cutoff\": 0}, {\"calitp_itp_id\": 102, \"trip_key\": 3343684951749403475, \"trip_id\": \"t_148344_b_2686_tn_0\", \"shape_id\": \"p_111161\", \"route_id\": \"6811\", \"service_hours\": 0.42, \"trip_first_departure_ts\": 27540, \"trip_last_arrival_ts\": 29040, \"departure_hour\": 7, \"time_of_day\": \"AM Peak\", \"p25\": 0.42, \"p50\": 0.42, \"p75\": 0.42, \"p50_trip\": 1, \"fastest_trip\": 0, \"car_duration_hours\": 0.27, \"competitive_route\": 1, \"bus_multiplier\": 1.56, \"bus_difference\": 9.0, \"num_trips\": 21, \"num_competitive\": 21, \"pct_trips_competitive\": 1.0, \"bus_difference_spread\": 0.0, \"route_group\": \"short\", \"max_trip_hrs\": 0.42, \"max_trip_route_group\": 0.42, \"below_cutoff\": 21, \"pct_below_cutoff\": 1.0, \"name\": \"City of El Monte\", \"caltrans_district\": \"07 - Los Angeles\", \"drmt_organization_name\": null, \"route_name\": \"Flair Park\", \"cutoff2\": 20, \"cutoff\": 0}, {\"calitp_itp_id\": 102, \"trip_key\": -2987085737736703591, \"trip_id\": \"t_148342_b_2686_tn_0\", \"shape_id\": \"p_111161\", \"route_id\": \"6811\", \"service_hours\": 0.42, \"trip_first_departure_ts\": 23280, \"trip_last_arrival_ts\": 24780, \"departure_hour\": 6, \"time_of_day\": \"Owl Service\", \"p25\": 0.42, \"p50\": 0.42, \"p75\": 0.42, \"p50_trip\": 1, \"fastest_trip\": 0, \"car_duration_hours\": 0.27, \"competitive_route\": 1, \"bus_multiplier\": 1.56, \"bus_difference\": 9.0, \"num_trips\": 21, \"num_competitive\": 21, \"pct_trips_competitive\": 1.0, \"bus_difference_spread\": 0.0, \"route_group\": \"short\", \"max_trip_hrs\": 0.42, \"max_trip_route_group\": 0.42, \"below_cutoff\": 21, \"pct_below_cutoff\": 1.0, \"name\": \"City of El Monte\", \"caltrans_district\": \"07 - Los Angeles\", \"drmt_organization_name\": null, \"route_name\": \"Flair Park\", \"cutoff2\": 20, \"cutoff\": 0}, {\"calitp_itp_id\": 102, \"trip_key\": 7101760476208459365, \"trip_id\": \"t_148345_b_2686_tn_0\", \"shape_id\": \"p_111161\", \"route_id\": \"6811\", \"service_hours\": 0.42, \"trip_first_departure_ts\": 29160, \"trip_last_arrival_ts\": 30660, \"departure_hour\": 8, \"time_of_day\": \"AM Peak\", \"p25\": 0.42, \"p50\": 0.42, \"p75\": 0.42, \"p50_trip\": 1, \"fastest_trip\": 0, \"car_duration_hours\": 0.27, \"competitive_route\": 1, \"bus_multiplier\": 1.56, \"bus_difference\": 9.0, \"num_trips\": 21, \"num_competitive\": 21, \"pct_trips_competitive\": 1.0, \"bus_difference_spread\": 0.0, \"route_group\": \"short\", \"max_trip_hrs\": 0.42, \"max_trip_route_group\": 0.42, \"below_cutoff\": 21, \"pct_below_cutoff\": 1.0, \"name\": \"City of El Monte\", \"caltrans_district\": \"07 - Los Angeles\", \"drmt_organization_name\": null, \"route_name\": \"Flair Park\", \"cutoff2\": 20, \"cutoff\": 0}, {\"calitp_itp_id\": 102, \"trip_key\": -932474057859813478, \"trip_id\": \"t_148359_b_2686_tn_0\", \"shape_id\": \"p_111161\", \"route_id\": \"6811\", \"service_hours\": 0.42, \"trip_first_departure_ts\": 62400, \"trip_last_arrival_ts\": 63900, \"departure_hour\": 17, \"time_of_day\": \"PM Peak\", \"p25\": 0.42, \"p50\": 0.42, \"p75\": 0.42, \"p50_trip\": 1, \"fastest_trip\": 0, \"car_duration_hours\": 0.27, \"competitive_route\": 1, \"bus_multiplier\": 1.56, \"bus_difference\": 9.0, \"num_trips\": 21, \"num_competitive\": 21, \"pct_trips_competitive\": 1.0, \"bus_difference_spread\": 0.0, \"route_group\": \"short\", \"max_trip_hrs\": 0.42, \"max_trip_route_group\": 0.42, \"below_cutoff\": 21, \"pct_below_cutoff\": 1.0, \"name\": \"City of El Monte\", \"caltrans_district\": \"07 - Los Angeles\", \"drmt_organization_name\": null, \"route_name\": \"Flair Park\", \"cutoff2\": 20, \"cutoff\": 0}, {\"calitp_itp_id\": 102, \"trip_key\": 954335925427757814, \"trip_id\": \"t_148349_b_2686_tn_0\", \"shape_id\": \"p_111161\", \"route_id\": \"6811\", \"service_hours\": 0.42, \"trip_first_departure_ts\": 41460, \"trip_last_arrival_ts\": 42960, \"departure_hour\": 11, \"time_of_day\": \"Midday\", \"p25\": 0.42, \"p50\": 0.42, \"p75\": 0.42, \"p50_trip\": 1, \"fastest_trip\": 0, \"car_duration_hours\": 0.27, \"competitive_route\": 1, \"bus_multiplier\": 1.56, \"bus_difference\": 9.0, \"num_trips\": 21, \"num_competitive\": 21, \"pct_trips_competitive\": 1.0, \"bus_difference_spread\": 0.0, \"route_group\": \"short\", \"max_trip_hrs\": 0.42, \"max_trip_route_group\": 0.42, \"below_cutoff\": 21, \"pct_below_cutoff\": 1.0, \"name\": \"City of El Monte\", \"caltrans_district\": \"07 - Los Angeles\", \"drmt_organization_name\": null, \"route_name\": \"Flair Park\", \"cutoff2\": 20, \"cutoff\": 0}, {\"calitp_itp_id\": 102, \"trip_key\": -8983410035212226553, \"trip_id\": \"t_148360_b_2686_tn_0\", \"shape_id\": \"p_111161\", \"route_id\": \"6811\", \"service_hours\": 0.42, \"trip_first_departure_ts\": 64200, \"trip_last_arrival_ts\": 65700, \"departure_hour\": 17, \"time_of_day\": \"PM Peak\", \"p25\": 0.42, \"p50\": 0.42, \"p75\": 0.42, \"p50_trip\": 1, \"fastest_trip\": 0, \"car_duration_hours\": 0.27, \"competitive_route\": 1, \"bus_multiplier\": 1.56, \"bus_difference\": 9.0, \"num_trips\": 21, \"num_competitive\": 21, \"pct_trips_competitive\": 1.0, \"bus_difference_spread\": 0.0, \"route_group\": \"short\", \"max_trip_hrs\": 0.42, \"max_trip_route_group\": 0.42, \"below_cutoff\": 21, \"pct_below_cutoff\": 1.0, \"name\": \"City of El Monte\", \"caltrans_district\": \"07 - Los Angeles\", \"drmt_organization_name\": null, \"route_name\": \"Flair Park\", \"cutoff2\": 20, \"cutoff\": 0}, {\"calitp_itp_id\": 102, \"trip_key\": 6612048995700350062, \"trip_id\": \"t_148355_b_2686_tn_0\", \"shape_id\": \"p_111161\", \"route_id\": \"6811\", \"service_hours\": 0.42, \"trip_first_departure_ts\": 54900, \"trip_last_arrival_ts\": 56400, \"departure_hour\": 15, \"time_of_day\": \"Midday\", \"p25\": 0.42, \"p50\": 0.42, \"p75\": 0.42, \"p50_trip\": 1, \"fastest_trip\": 0, \"car_duration_hours\": 0.27, \"competitive_route\": 1, \"bus_multiplier\": 1.56, \"bus_difference\": 9.0, \"num_trips\": 21, \"num_competitive\": 21, \"pct_trips_competitive\": 1.0, \"bus_difference_spread\": 0.0, \"route_group\": \"short\", \"max_trip_hrs\": 0.42, \"max_trip_route_group\": 0.42, \"below_cutoff\": 21, \"pct_below_cutoff\": 1.0, \"name\": \"City of El Monte\", \"caltrans_district\": \"07 - Los Angeles\", \"drmt_organization_name\": null, \"route_name\": \"Flair Park\", \"cutoff2\": 20, \"cutoff\": 0}, {\"calitp_itp_id\": 102, \"trip_key\": -6200821305595518778, \"trip_id\": \"t_148340_b_2686_tn_0\", \"shape_id\": \"p_111161\", \"route_id\": \"6811\", \"service_hours\": 0.42, \"trip_first_departure_ts\": 21540, \"trip_last_arrival_ts\": 23040, \"departure_hour\": 5, \"time_of_day\": \"Owl Service\", \"p25\": 0.42, \"p50\": 0.42, \"p75\": 0.42, \"p50_trip\": 1, \"fastest_trip\": 0, \"car_duration_hours\": 0.27, \"competitive_route\": 1, \"bus_multiplier\": 1.56, \"bus_difference\": 9.0, \"num_trips\": 21, \"num_competitive\": 21, \"pct_trips_competitive\": 1.0, \"bus_difference_spread\": 0.0, \"route_group\": \"short\", \"max_trip_hrs\": 0.42, \"max_trip_route_group\": 0.42, \"below_cutoff\": 21, \"pct_below_cutoff\": 1.0, \"name\": \"City of El Monte\", \"caltrans_district\": \"07 - Los Angeles\", \"drmt_organization_name\": null, \"route_name\": \"Flair Park\", \"cutoff2\": 20, \"cutoff\": 0}, {\"calitp_itp_id\": 102, \"trip_key\": 6733041924362896913, \"trip_id\": \"t_148352_b_2686_tn_0\", \"shape_id\": \"p_111161\", \"route_id\": \"6811\", \"service_hours\": 0.42, \"trip_first_departure_ts\": 46860, \"trip_last_arrival_ts\": 48360, \"departure_hour\": 13, \"time_of_day\": \"Midday\", \"p25\": 0.42, \"p50\": 0.42, \"p75\": 0.42, \"p50_trip\": 1, \"fastest_trip\": 0, \"car_duration_hours\": 0.27, \"competitive_route\": 1, \"bus_multiplier\": 1.56, \"bus_difference\": 9.0, \"num_trips\": 21, \"num_competitive\": 21, \"pct_trips_competitive\": 1.0, \"bus_difference_spread\": 0.0, \"route_group\": \"short\", \"max_trip_hrs\": 0.42, \"max_trip_route_group\": 0.42, \"below_cutoff\": 21, \"pct_below_cutoff\": 1.0, \"name\": \"City of El Monte\", \"caltrans_district\": \"07 - Los Angeles\", \"drmt_organization_name\": null, \"route_name\": \"Flair Park\", \"cutoff2\": 20, \"cutoff\": 0}, {\"calitp_itp_id\": 102, \"trip_key\": -5873889480005477065, \"trip_id\": \"t_148348_b_2686_tn_0\", \"shape_id\": \"p_111161\", \"route_id\": \"6811\", \"service_hours\": 0.42, \"trip_first_departure_ts\": 39420, \"trip_last_arrival_ts\": 40920, \"departure_hour\": 10, \"time_of_day\": \"Midday\", \"p25\": 0.42, \"p50\": 0.42, \"p75\": 0.42, \"p50_trip\": 1, \"fastest_trip\": 0, \"car_duration_hours\": 0.27, \"competitive_route\": 1, \"bus_multiplier\": 1.56, \"bus_difference\": 9.0, \"num_trips\": 21, \"num_competitive\": 21, \"pct_trips_competitive\": 1.0, \"bus_difference_spread\": 0.0, \"route_group\": \"short\", \"max_trip_hrs\": 0.42, \"max_trip_route_group\": 0.42, \"below_cutoff\": 21, \"pct_below_cutoff\": 1.0, \"name\": \"City of El Monte\", \"caltrans_district\": \"07 - Los Angeles\", \"drmt_organization_name\": null, \"route_name\": \"Flair Park\", \"cutoff2\": 20, \"cutoff\": 0}, {\"calitp_itp_id\": 102, \"trip_key\": 5974834224977158326, \"trip_id\": \"t_148356_b_2686_tn_0\", \"shape_id\": \"p_111161\", \"route_id\": \"6811\", \"service_hours\": 0.42, \"trip_first_departure_ts\": 56580, \"trip_last_arrival_ts\": 58080, \"departure_hour\": 15, \"time_of_day\": \"Midday\", \"p25\": 0.42, \"p50\": 0.42, \"p75\": 0.42, \"p50_trip\": 1, \"fastest_trip\": 0, \"car_duration_hours\": 0.27, \"competitive_route\": 1, \"bus_multiplier\": 1.56, \"bus_difference\": 9.0, \"num_trips\": 21, \"num_competitive\": 21, \"pct_trips_competitive\": 1.0, \"bus_difference_spread\": 0.0, \"route_group\": \"short\", \"max_trip_hrs\": 0.42, \"max_trip_route_group\": 0.42, \"below_cutoff\": 21, \"pct_below_cutoff\": 1.0, \"name\": \"City of El Monte\", \"caltrans_district\": \"07 - Los Angeles\", \"drmt_organization_name\": null, \"route_name\": \"Flair Park\", \"cutoff2\": 20, \"cutoff\": 0}, {\"calitp_itp_id\": 102, \"trip_key\": -6855062313401032509, \"trip_id\": \"t_148358_b_2686_tn_0\", \"shape_id\": \"p_111161\", \"route_id\": \"6811\", \"service_hours\": 0.42, \"trip_first_departure_ts\": 60720, \"trip_last_arrival_ts\": 62220, \"departure_hour\": 16, \"time_of_day\": \"Midday\", \"p25\": 0.42, \"p50\": 0.42, \"p75\": 0.42, \"p50_trip\": 1, \"fastest_trip\": 0, \"car_duration_hours\": 0.27, \"competitive_route\": 1, \"bus_multiplier\": 1.56, \"bus_difference\": 9.0, \"num_trips\": 21, \"num_competitive\": 21, \"pct_trips_competitive\": 1.0, \"bus_difference_spread\": 0.0, \"route_group\": \"short\", \"max_trip_hrs\": 0.42, \"max_trip_route_group\": 0.42, \"below_cutoff\": 21, \"pct_below_cutoff\": 1.0, \"name\": \"City of El Monte\", \"caltrans_district\": \"07 - Los Angeles\", \"drmt_organization_name\": null, \"route_name\": \"Flair Park\", \"cutoff2\": 20, \"cutoff\": 0}, {\"calitp_itp_id\": 102, \"trip_key\": 4490786474376871827, \"trip_id\": \"t_148339_b_2686_tn_0\", \"shape_id\": \"p_111161\", \"route_id\": \"6811\", \"service_hours\": 0.42, \"trip_first_departure_ts\": 19620, \"trip_last_arrival_ts\": 21120, \"departure_hour\": 5, \"time_of_day\": \"Owl Service\", \"p25\": 0.42, \"p50\": 0.42, \"p75\": 0.42, \"p50_trip\": 1, \"fastest_trip\": 0, \"car_duration_hours\": 0.27, \"competitive_route\": 1, \"bus_multiplier\": 1.56, \"bus_difference\": 9.0, \"num_trips\": 21, \"num_competitive\": 21, \"pct_trips_competitive\": 1.0, \"bus_difference_spread\": 0.0, \"route_group\": \"short\", \"max_trip_hrs\": 0.42, \"max_trip_route_group\": 0.42, \"below_cutoff\": 21, \"pct_below_cutoff\": 1.0, \"name\": \"City of El Monte\", \"caltrans_district\": \"07 - Los Angeles\", \"drmt_organization_name\": null, \"route_name\": \"Flair Park\", \"cutoff2\": 20, \"cutoff\": 0}, {\"calitp_itp_id\": 102, \"trip_key\": 1072782641410824096, \"trip_id\": \"t_148354_b_2686_tn_0\", \"shape_id\": \"p_111161\", \"route_id\": \"6811\", \"service_hours\": 0.42, \"trip_first_departure_ts\": 52200, \"trip_last_arrival_ts\": 53700, \"departure_hour\": 14, \"time_of_day\": \"Midday\", \"p25\": 0.42, \"p50\": 0.42, \"p75\": 0.42, \"p50_trip\": 1, \"fastest_trip\": 0, \"car_duration_hours\": 0.27, \"competitive_route\": 1, \"bus_multiplier\": 1.56, \"bus_difference\": 9.0, \"num_trips\": 21, \"num_competitive\": 21, \"pct_trips_competitive\": 1.0, \"bus_difference_spread\": 0.0, \"route_group\": \"short\", \"max_trip_hrs\": 0.42, \"max_trip_route_group\": 0.42, \"below_cutoff\": 21, \"pct_below_cutoff\": 1.0, \"name\": \"City of El Monte\", \"caltrans_district\": \"07 - Los Angeles\", \"drmt_organization_name\": null, \"route_name\": \"Flair Park\", \"cutoff2\": 20, \"cutoff\": 0}, {\"calitp_itp_id\": 102, \"trip_key\": -403473024553234349, \"trip_id\": \"t_148351_b_2686_tn_0\", \"shape_id\": \"p_111161\", \"route_id\": \"6811\", \"service_hours\": 0.42, \"trip_first_departure_ts\": 43260, \"trip_last_arrival_ts\": 44760, \"departure_hour\": 12, \"time_of_day\": \"Midday\", \"p25\": 0.42, \"p50\": 0.42, \"p75\": 0.42, \"p50_trip\": 1, \"fastest_trip\": 0, \"car_duration_hours\": 0.27, \"competitive_route\": 1, \"bus_multiplier\": 1.56, \"bus_difference\": 9.0, \"num_trips\": 21, \"num_competitive\": 21, \"pct_trips_competitive\": 1.0, \"bus_difference_spread\": 0.0, \"route_group\": \"short\", \"max_trip_hrs\": 0.42, \"max_trip_route_group\": 0.42, \"below_cutoff\": 21, \"pct_below_cutoff\": 1.0, \"name\": \"City of El Monte\", \"caltrans_district\": \"07 - Los Angeles\", \"drmt_organization_name\": null, \"route_name\": \"Flair Park\", \"cutoff2\": 20, \"cutoff\": 0}, {\"calitp_itp_id\": 102, \"trip_key\": 6211780388949625910, \"trip_id\": \"t_148347_b_2686_tn_0\", \"shape_id\": \"p_111161\", \"route_id\": \"6811\", \"service_hours\": 0.42, \"trip_first_departure_ts\": 35820, \"trip_last_arrival_ts\": 37320, \"departure_hour\": 9, \"time_of_day\": \"AM Peak\", \"p25\": 0.42, \"p50\": 0.42, \"p75\": 0.42, \"p50_trip\": 1, \"fastest_trip\": 0, \"car_duration_hours\": 0.27, \"competitive_route\": 1, \"bus_multiplier\": 1.56, \"bus_difference\": 9.0, \"num_trips\": 21, \"num_competitive\": 21, \"pct_trips_competitive\": 1.0, \"bus_difference_spread\": 0.0, \"route_group\": \"short\", \"max_trip_hrs\": 0.42, \"max_trip_route_group\": 0.42, \"below_cutoff\": 21, \"pct_below_cutoff\": 1.0, \"name\": \"City of El Monte\", \"caltrans_district\": \"07 - Los Angeles\", \"drmt_organization_name\": null, \"route_name\": \"Flair Park\", \"cutoff2\": 20, \"cutoff\": 0}, {\"calitp_itp_id\": 102, \"trip_key\": -4479603296714436399, \"trip_id\": \"t_148362_b_2686_tn_0\", \"shape_id\": \"p_111161\", \"route_id\": \"6811\", \"service_hours\": 0.42, \"trip_first_departure_ts\": 67740, \"trip_last_arrival_ts\": 69240, \"departure_hour\": 18, \"time_of_day\": \"PM Peak\", \"p25\": 0.42, \"p50\": 0.42, \"p75\": 0.42, \"p50_trip\": 1, \"fastest_trip\": 1, \"car_duration_hours\": 0.27, \"competitive_route\": 1, \"bus_multiplier\": 1.56, \"bus_difference\": 9.0, \"num_trips\": 21, \"num_competitive\": 21, \"pct_trips_competitive\": 1.0, \"bus_difference_spread\": 0.0, \"route_group\": \"short\", \"max_trip_hrs\": 0.42, \"max_trip_route_group\": 0.42, \"below_cutoff\": 21, \"pct_below_cutoff\": 1.0, \"name\": \"City of El Monte\", \"caltrans_district\": \"07 - Los Angeles\", \"drmt_organization_name\": null, \"route_name\": \"Flair Park\", \"cutoff2\": 20, \"cutoff\": 0}, {\"calitp_itp_id\": 102, \"trip_key\": -842636139958026972, \"trip_id\": \"t_148361_b_2686_tn_0\", \"shape_id\": \"p_111161\", \"route_id\": \"6811\", \"service_hours\": 0.42, \"trip_first_departure_ts\": 66000, \"trip_last_arrival_ts\": 67500, \"departure_hour\": 18, \"time_of_day\": \"PM Peak\", \"p25\": 0.42, \"p50\": 0.42, \"p75\": 0.42, \"p50_trip\": 1, \"fastest_trip\": 0, \"car_duration_hours\": 0.27, \"competitive_route\": 1, \"bus_multiplier\": 1.56, \"bus_difference\": 9.0, \"num_trips\": 21, \"num_competitive\": 21, \"pct_trips_competitive\": 1.0, \"bus_difference_spread\": 0.0, \"route_group\": \"short\", \"max_trip_hrs\": 0.42, \"max_trip_route_group\": 0.42, \"below_cutoff\": 21, \"pct_below_cutoff\": 1.0, \"name\": \"City of El Monte\", \"caltrans_district\": \"07 - Los Angeles\", \"drmt_organization_name\": null, \"route_name\": \"Flair Park\", \"cutoff2\": 20, \"cutoff\": 0}, {\"calitp_itp_id\": 102, \"trip_key\": 7599921630430770892, \"trip_id\": \"t_147895_b_2686_tn_2\", \"shape_id\": \"p_111162\", \"route_id\": \"6812\", \"service_hours\": 0.53, \"trip_first_departure_ts\": 36600, \"trip_last_arrival_ts\": 38520, \"departure_hour\": 10, \"time_of_day\": \"Midday\", \"p25\": 0.53, \"p50\": 0.53, \"p75\": 0.53, \"p50_trip\": 1, \"fastest_trip\": 0, \"car_duration_hours\": 0.46, \"competitive_route\": 1, \"bus_multiplier\": 1.15, \"bus_difference\": 4.2, \"num_trips\": 16, \"num_competitive\": 16, \"pct_trips_competitive\": 1.0, \"bus_difference_spread\": 0.0, \"route_group\": \"short\", \"max_trip_hrs\": 0.53, \"max_trip_route_group\": 0.53, \"below_cutoff\": 16, \"pct_below_cutoff\": 1.0, \"name\": \"City of El Monte\", \"caltrans_district\": \"07 - Los Angeles\", \"drmt_organization_name\": null, \"route_name\": null, \"cutoff2\": 20, \"cutoff\": 0}, {\"calitp_itp_id\": 102, \"trip_key\": 5082407324948190874, \"trip_id\": \"t_147895_b_2686_tn_9\", \"shape_id\": \"p_111162\", \"route_id\": \"6812\", \"service_hours\": 0.53, \"trip_first_departure_ts\": 57600, \"trip_last_arrival_ts\": 59520, \"departure_hour\": 16, \"time_of_day\": \"Midday\", \"p25\": 0.53, \"p50\": 0.53, \"p75\": 0.53, \"p50_trip\": 1, \"fastest_trip\": 0, \"car_duration_hours\": 0.46, \"competitive_route\": 1, \"bus_multiplier\": 1.15, \"bus_difference\": 4.2, \"num_trips\": 16, \"num_competitive\": 16, \"pct_trips_competitive\": 1.0, \"bus_difference_spread\": 0.0, \"route_group\": \"short\", \"max_trip_hrs\": 0.53, \"max_trip_route_group\": 0.53, \"below_cutoff\": 16, \"pct_below_cutoff\": 1.0, \"name\": \"City of El Monte\", \"caltrans_district\": \"07 - Los Angeles\", \"drmt_organization_name\": null, \"route_name\": null, \"cutoff2\": 20, \"cutoff\": 0}, {\"calitp_itp_id\": 102, \"trip_key\": -6793614460101224526, \"trip_id\": \"t_147895_b_2686_tn_4\", \"shape_id\": \"p_111162\", \"route_id\": \"6812\", \"service_hours\": 0.53, \"trip_first_departure_ts\": 42600, \"trip_last_arrival_ts\": 44520, \"departure_hour\": 11, \"time_of_day\": \"Midday\", \"p25\": 0.53, \"p50\": 0.53, \"p75\": 0.53, \"p50_trip\": 1, \"fastest_trip\": 0, \"car_duration_hours\": 0.46, \"competitive_route\": 1, \"bus_multiplier\": 1.15, \"bus_difference\": 4.2, \"num_trips\": 16, \"num_competitive\": 16, \"pct_trips_competitive\": 1.0, \"bus_difference_spread\": 0.0, \"route_group\": \"short\", \"max_trip_hrs\": 0.53, \"max_trip_route_group\": 0.53, \"below_cutoff\": 16, \"pct_below_cutoff\": 1.0, \"name\": \"City of El Monte\", \"caltrans_district\": \"07 - Los Angeles\", \"drmt_organization_name\": null, \"route_name\": null, \"cutoff2\": 20, \"cutoff\": 0}, {\"calitp_itp_id\": 102, \"trip_key\": -1448363535881410216, \"trip_id\": \"t_147895_b_2686_tn_11\", \"shape_id\": \"p_111162\", \"route_id\": \"6812\", \"service_hours\": 0.53, \"trip_first_departure_ts\": 63600, \"trip_last_arrival_ts\": 65520, \"departure_hour\": 17, \"time_of_day\": \"PM Peak\", \"p25\": 0.53, \"p50\": 0.53, \"p75\": 0.53, \"p50_trip\": 1, \"fastest_trip\": 0, \"car_duration_hours\": 0.46, \"competitive_route\": 1, \"bus_multiplier\": 1.15, \"bus_difference\": 4.2, \"num_trips\": 16, \"num_competitive\": 16, \"pct_trips_competitive\": 1.0, \"bus_difference_spread\": 0.0, \"route_group\": \"short\", \"max_trip_hrs\": 0.53, \"max_trip_route_group\": 0.53, \"below_cutoff\": 16, \"pct_below_cutoff\": 1.0, \"name\": \"City of El Monte\", \"caltrans_district\": \"07 - Los Angeles\", \"drmt_organization_name\": null, \"route_name\": null, \"cutoff2\": 20, \"cutoff\": 0}, {\"calitp_itp_id\": 102, \"trip_key\": 6912463162561503119, \"trip_id\": \"t_147893_b_2686_tn_2\", \"shape_id\": \"p_111162\", \"route_id\": \"6812\", \"service_hours\": 0.53, \"trip_first_departure_ts\": 24600, \"trip_last_arrival_ts\": 26520, \"departure_hour\": 6, \"time_of_day\": \"Owl Service\", \"p25\": 0.53, \"p50\": 0.53, \"p75\": 0.53, \"p50_trip\": 1, \"fastest_trip\": 0, \"car_duration_hours\": 0.46, \"competitive_route\": 1, \"bus_multiplier\": 1.15, \"bus_difference\": 4.2, \"num_trips\": 16, \"num_competitive\": 16, \"pct_trips_competitive\": 1.0, \"bus_difference_spread\": 0.0, \"route_group\": \"short\", \"max_trip_hrs\": 0.53, \"max_trip_route_group\": 0.53, \"below_cutoff\": 16, \"pct_below_cutoff\": 1.0, \"name\": \"City of El Monte\", \"caltrans_district\": \"07 - Los Angeles\", \"drmt_organization_name\": null, \"route_name\": null, \"cutoff2\": 20, \"cutoff\": 0}, {\"calitp_itp_id\": 102, \"trip_key\": -23124938045356469, \"trip_id\": \"t_147893_b_2686_tn_1\", \"shape_id\": \"p_111162\", \"route_id\": \"6812\", \"service_hours\": 0.53, \"trip_first_departure_ts\": 21600, \"trip_last_arrival_ts\": 23520, \"departure_hour\": 6, \"time_of_day\": \"Owl Service\", \"p25\": 0.53, \"p50\": 0.53, \"p75\": 0.53, \"p50_trip\": 1, \"fastest_trip\": 0, \"car_duration_hours\": 0.46, \"competitive_route\": 1, \"bus_multiplier\": 1.15, \"bus_difference\": 4.2, \"num_trips\": 16, \"num_competitive\": 16, \"pct_trips_competitive\": 1.0, \"bus_difference_spread\": 0.0, \"route_group\": \"short\", \"max_trip_hrs\": 0.53, \"max_trip_route_group\": 0.53, \"below_cutoff\": 16, \"pct_below_cutoff\": 1.0, \"name\": \"City of El Monte\", \"caltrans_district\": \"07 - Los Angeles\", \"drmt_organization_name\": null, \"route_name\": null, \"cutoff2\": 20, \"cutoff\": 0}, {\"calitp_itp_id\": 102, \"trip_key\": 7133126128916419947, \"trip_id\": \"t_147894_b_2686_tn_0\", \"shape_id\": \"p_111162\", \"route_id\": \"6812\", \"service_hours\": 0.53, \"trip_first_departure_ts\": 66600, \"trip_last_arrival_ts\": 68520, \"departure_hour\": 18, \"time_of_day\": \"PM Peak\", \"p25\": 0.53, \"p50\": 0.53, \"p75\": 0.53, \"p50_trip\": 1, \"fastest_trip\": 1, \"car_duration_hours\": 0.46, \"competitive_route\": 1, \"bus_multiplier\": 1.15, \"bus_difference\": 4.2, \"num_trips\": 16, \"num_competitive\": 16, \"pct_trips_competitive\": 1.0, \"bus_difference_spread\": 0.0, \"route_group\": \"short\", \"max_trip_hrs\": 0.53, \"max_trip_route_group\": 0.53, \"below_cutoff\": 16, \"pct_below_cutoff\": 1.0, \"name\": \"City of El Monte\", \"caltrans_district\": \"07 - Los Angeles\", \"drmt_organization_name\": null, \"route_name\": null, \"cutoff2\": 20, \"cutoff\": 0}, {\"calitp_itp_id\": 102, \"trip_key\": 7420622834655219953, \"trip_id\": \"t_147895_b_2686_tn_3\", \"shape_id\": \"p_111162\", \"route_id\": \"6812\", \"service_hours\": 0.53, \"trip_first_departure_ts\": 39600, \"trip_last_arrival_ts\": 41520, \"departure_hour\": 11, \"time_of_day\": \"Midday\", \"p25\": 0.53, \"p50\": 0.53, \"p75\": 0.53, \"p50_trip\": 1, \"fastest_trip\": 0, \"car_duration_hours\": 0.46, \"competitive_route\": 1, \"bus_multiplier\": 1.15, \"bus_difference\": 4.2, \"num_trips\": 16, \"num_competitive\": 16, \"pct_trips_competitive\": 1.0, \"bus_difference_spread\": 0.0, \"route_group\": \"short\", \"max_trip_hrs\": 0.53, \"max_trip_route_group\": 0.53, \"below_cutoff\": 16, \"pct_below_cutoff\": 1.0, \"name\": \"City of El Monte\", \"caltrans_district\": \"07 - Los Angeles\", \"drmt_organization_name\": null, \"route_name\": null, \"cutoff2\": 20, \"cutoff\": 0}, {\"calitp_itp_id\": 102, \"trip_key\": 2502593979761288262, \"trip_id\": \"t_147895_b_2686_tn_7\", \"shape_id\": \"p_111162\", \"route_id\": \"6812\", \"service_hours\": 0.53, \"trip_first_departure_ts\": 51600, \"trip_last_arrival_ts\": 53520, \"departure_hour\": 14, \"time_of_day\": \"Midday\", \"p25\": 0.53, \"p50\": 0.53, \"p75\": 0.53, \"p50_trip\": 1, \"fastest_trip\": 0, \"car_duration_hours\": 0.46, \"competitive_route\": 1, \"bus_multiplier\": 1.15, \"bus_difference\": 4.2, \"num_trips\": 16, \"num_competitive\": 16, \"pct_trips_competitive\": 1.0, \"bus_difference_spread\": 0.0, \"route_group\": \"short\", \"max_trip_hrs\": 0.53, \"max_trip_route_group\": 0.53, \"below_cutoff\": 16, \"pct_below_cutoff\": 1.0, \"name\": \"City of El Monte\", \"caltrans_district\": \"07 - Los Angeles\", \"drmt_organization_name\": null, \"route_name\": null, \"cutoff2\": 20, \"cutoff\": 0}, {\"calitp_itp_id\": 102, \"trip_key\": -5133896106337568764, \"trip_id\": \"t_147895_b_2686_tn_8\", \"shape_id\": \"p_111162\", \"route_id\": \"6812\", \"service_hours\": 0.53, \"trip_first_departure_ts\": 54600, \"trip_last_arrival_ts\": 56520, \"departure_hour\": 15, \"time_of_day\": \"Midday\", \"p25\": 0.53, \"p50\": 0.53, \"p75\": 0.53, \"p50_trip\": 1, \"fastest_trip\": 0, \"car_duration_hours\": 0.46, \"competitive_route\": 1, \"bus_multiplier\": 1.15, \"bus_difference\": 4.2, \"num_trips\": 16, \"num_competitive\": 16, \"pct_trips_competitive\": 1.0, \"bus_difference_spread\": 0.0, \"route_group\": \"short\", \"max_trip_hrs\": 0.53, \"max_trip_route_group\": 0.53, \"below_cutoff\": 16, \"pct_below_cutoff\": 1.0, \"name\": \"City of El Monte\", \"caltrans_district\": \"07 - Los Angeles\", \"drmt_organization_name\": null, \"route_name\": null, \"cutoff2\": 20, \"cutoff\": 0}, {\"calitp_itp_id\": 102, \"trip_key\": -2325998400800676493, \"trip_id\": \"t_147893_b_2686_tn_3\", \"shape_id\": \"p_111162\", \"route_id\": \"6812\", \"service_hours\": 0.53, \"trip_first_departure_ts\": 27600, \"trip_last_arrival_ts\": 29520, \"departure_hour\": 7, \"time_of_day\": \"AM Peak\", \"p25\": 0.53, \"p50\": 0.53, \"p75\": 0.53, \"p50_trip\": 1, \"fastest_trip\": 0, \"car_duration_hours\": 0.46, \"competitive_route\": 1, \"bus_multiplier\": 1.15, \"bus_difference\": 4.2, \"num_trips\": 16, \"num_competitive\": 16, \"pct_trips_competitive\": 1.0, \"bus_difference_spread\": 0.0, \"route_group\": \"short\", \"max_trip_hrs\": 0.53, \"max_trip_route_group\": 0.53, \"below_cutoff\": 16, \"pct_below_cutoff\": 1.0, \"name\": \"City of El Monte\", \"caltrans_district\": \"07 - Los Angeles\", \"drmt_organization_name\": null, \"route_name\": null, \"cutoff2\": 20, \"cutoff\": 0}, {\"calitp_itp_id\": 102, \"trip_key\": 3843196534470936896, \"trip_id\": \"t_147895_b_2686_tn_1\", \"shape_id\": \"p_111162\", \"route_id\": \"6812\", \"service_hours\": 0.53, \"trip_first_departure_ts\": 33600, \"trip_last_arrival_ts\": 35520, \"departure_hour\": 9, \"time_of_day\": \"AM Peak\", \"p25\": 0.53, \"p50\": 0.53, \"p75\": 0.53, \"p50_trip\": 1, \"fastest_trip\": 0, \"car_duration_hours\": 0.46, \"competitive_route\": 1, \"bus_multiplier\": 1.15, \"bus_difference\": 4.2, \"num_trips\": 16, \"num_competitive\": 16, \"pct_trips_competitive\": 1.0, \"bus_difference_spread\": 0.0, \"route_group\": \"short\", \"max_trip_hrs\": 0.53, \"max_trip_route_group\": 0.53, \"below_cutoff\": 16, \"pct_below_cutoff\": 1.0, \"name\": \"City of El Monte\", \"caltrans_district\": \"07 - Los Angeles\", \"drmt_organization_name\": null, \"route_name\": null, \"cutoff2\": 20, \"cutoff\": 0}, {\"calitp_itp_id\": 102, \"trip_key\": -9133094054889554023, \"trip_id\": \"t_147895_b_2686_tn_6\", \"shape_id\": \"p_111162\", \"route_id\": \"6812\", \"service_hours\": 0.53, \"trip_first_departure_ts\": 48600, \"trip_last_arrival_ts\": 50520, \"departure_hour\": 13, \"time_of_day\": \"Midday\", \"p25\": 0.53, \"p50\": 0.53, \"p75\": 0.53, \"p50_trip\": 1, \"fastest_trip\": 0, \"car_duration_hours\": 0.46, \"competitive_route\": 1, \"bus_multiplier\": 1.15, \"bus_difference\": 4.2, \"num_trips\": 16, \"num_competitive\": 16, \"pct_trips_competitive\": 1.0, \"bus_difference_spread\": 0.0, \"route_group\": \"short\", \"max_trip_hrs\": 0.53, \"max_trip_route_group\": 0.53, \"below_cutoff\": 16, \"pct_below_cutoff\": 1.0, \"name\": \"City of El Monte\", \"caltrans_district\": \"07 - Los Angeles\", \"drmt_organization_name\": null, \"route_name\": null, \"cutoff2\": 20, \"cutoff\": 0}, {\"calitp_itp_id\": 102, \"trip_key\": -5482623696333617813, \"trip_id\": \"t_147895_b_2686_tn_10\", \"shape_id\": \"p_111162\", \"route_id\": \"6812\", \"service_hours\": 0.53, \"trip_first_departure_ts\": 60600, \"trip_last_arrival_ts\": 62520, \"departure_hour\": 16, \"time_of_day\": \"Midday\", \"p25\": 0.53, \"p50\": 0.53, \"p75\": 0.53, \"p50_trip\": 1, \"fastest_trip\": 0, \"car_duration_hours\": 0.46, \"competitive_route\": 1, \"bus_multiplier\": 1.15, \"bus_difference\": 4.2, \"num_trips\": 16, \"num_competitive\": 16, \"pct_trips_competitive\": 1.0, \"bus_difference_spread\": 0.0, \"route_group\": \"short\", \"max_trip_hrs\": 0.53, \"max_trip_route_group\": 0.53, \"below_cutoff\": 16, \"pct_below_cutoff\": 1.0, \"name\": \"City of El Monte\", \"caltrans_district\": \"07 - Los Angeles\", \"drmt_organization_name\": null, \"route_name\": null, \"cutoff2\": 20, \"cutoff\": 0}, {\"calitp_itp_id\": 102, \"trip_key\": -5405565704620470927, \"trip_id\": \"t_147893_b_2686_tn_4\", \"shape_id\": \"p_111162\", \"route_id\": \"6812\", \"service_hours\": 0.53, \"trip_first_departure_ts\": 30600, \"trip_last_arrival_ts\": 32520, \"departure_hour\": 8, \"time_of_day\": \"AM Peak\", \"p25\": 0.53, \"p50\": 0.53, \"p75\": 0.53, \"p50_trip\": 1, \"fastest_trip\": 0, \"car_duration_hours\": 0.46, \"competitive_route\": 1, \"bus_multiplier\": 1.15, \"bus_difference\": 4.2, \"num_trips\": 16, \"num_competitive\": 16, \"pct_trips_competitive\": 1.0, \"bus_difference_spread\": 0.0, \"route_group\": \"short\", \"max_trip_hrs\": 0.53, \"max_trip_route_group\": 0.53, \"below_cutoff\": 16, \"pct_below_cutoff\": 1.0, \"name\": \"City of El Monte\", \"caltrans_district\": \"07 - Los Angeles\", \"drmt_organization_name\": null, \"route_name\": null, \"cutoff2\": 20, \"cutoff\": 0}, {\"calitp_itp_id\": 102, \"trip_key\": -2176601592757212664, \"trip_id\": \"t_147895_b_2686_tn_5\", \"shape_id\": \"p_111162\", \"route_id\": \"6812\", \"service_hours\": 0.53, \"trip_first_departure_ts\": 45600, \"trip_last_arrival_ts\": 47520, \"departure_hour\": 12, \"time_of_day\": \"Midday\", \"p25\": 0.53, \"p50\": 0.53, \"p75\": 0.53, \"p50_trip\": 1, \"fastest_trip\": 0, \"car_duration_hours\": 0.46, \"competitive_route\": 1, \"bus_multiplier\": 1.15, \"bus_difference\": 4.2, \"num_trips\": 16, \"num_competitive\": 16, \"pct_trips_competitive\": 1.0, \"bus_difference_spread\": 0.0, \"route_group\": \"short\", \"max_trip_hrs\": 0.53, \"max_trip_route_group\": 0.53, \"below_cutoff\": 16, \"pct_below_cutoff\": 1.0, \"name\": \"City of El Monte\", \"caltrans_district\": \"07 - Los Angeles\", \"drmt_organization_name\": null, \"route_name\": null, \"cutoff2\": 20, \"cutoff\": 0}, {\"calitp_itp_id\": 102, \"trip_key\": -5362957240605783728, \"trip_id\": \"t_147892_b_2686_tn_5\", \"shape_id\": \"p_111165\", \"route_id\": \"6815\", \"service_hours\": 0.67, \"trip_first_departure_ts\": 45600, \"trip_last_arrival_ts\": 48000, \"departure_hour\": 12, \"time_of_day\": \"Midday\", \"p25\": 0.67, \"p50\": 0.67, \"p75\": 0.67, \"p50_trip\": 1, \"fastest_trip\": 0, \"car_duration_hours\": 0.46, \"competitive_route\": 1, \"bus_multiplier\": 1.46, \"bus_difference\": 12.6, \"num_trips\": 16, \"num_competitive\": 16, \"pct_trips_competitive\": 1.0, \"bus_difference_spread\": 0.0, \"route_group\": \"short\", \"max_trip_hrs\": 0.67, \"max_trip_route_group\": 0.67, \"below_cutoff\": 16, \"pct_below_cutoff\": 1.0, \"name\": \"City of El Monte\", \"caltrans_district\": \"07 - Los Angeles\", \"drmt_organization_name\": null, \"route_name\": null, \"cutoff2\": 20, \"cutoff\": 0}, {\"calitp_itp_id\": 102, \"trip_key\": 4864486280672501753, \"trip_id\": \"t_147890_b_2686_tn_4\", \"shape_id\": \"p_111165\", \"route_id\": \"6815\", \"service_hours\": 0.67, \"trip_first_departure_ts\": 30600, \"trip_last_arrival_ts\": 33000, \"departure_hour\": 8, \"time_of_day\": \"AM Peak\", \"p25\": 0.67, \"p50\": 0.67, \"p75\": 0.67, \"p50_trip\": 1, \"fastest_trip\": 0, \"car_duration_hours\": 0.46, \"competitive_route\": 1, \"bus_multiplier\": 1.46, \"bus_difference\": 12.6, \"num_trips\": 16, \"num_competitive\": 16, \"pct_trips_competitive\": 1.0, \"bus_difference_spread\": 0.0, \"route_group\": \"short\", \"max_trip_hrs\": 0.67, \"max_trip_route_group\": 0.67, \"below_cutoff\": 16, \"pct_below_cutoff\": 1.0, \"name\": \"City of El Monte\", \"caltrans_district\": \"07 - Los Angeles\", \"drmt_organization_name\": null, \"route_name\": null, \"cutoff2\": 20, \"cutoff\": 0}, {\"calitp_itp_id\": 102, \"trip_key\": -3065432940553813125, \"trip_id\": \"t_147892_b_2686_tn_10\", \"shape_id\": \"p_111165\", \"route_id\": \"6815\", \"service_hours\": 0.67, \"trip_first_departure_ts\": 60600, \"trip_last_arrival_ts\": 63000, \"departure_hour\": 16, \"time_of_day\": \"Midday\", \"p25\": 0.67, \"p50\": 0.67, \"p75\": 0.67, \"p50_trip\": 1, \"fastest_trip\": 0, \"car_duration_hours\": 0.46, \"competitive_route\": 1, \"bus_multiplier\": 1.46, \"bus_difference\": 12.6, \"num_trips\": 16, \"num_competitive\": 16, \"pct_trips_competitive\": 1.0, \"bus_difference_spread\": 0.0, \"route_group\": \"short\", \"max_trip_hrs\": 0.67, \"max_trip_route_group\": 0.67, \"below_cutoff\": 16, \"pct_below_cutoff\": 1.0, \"name\": \"City of El Monte\", \"caltrans_district\": \"07 - Los Angeles\", \"drmt_organization_name\": null, \"route_name\": null, \"cutoff2\": 20, \"cutoff\": 0}, {\"calitp_itp_id\": 102, \"trip_key\": 2797677334594301101, \"trip_id\": \"t_147892_b_2686_tn_6\", \"shape_id\": \"p_111165\", \"route_id\": \"6815\", \"service_hours\": 0.67, \"trip_first_departure_ts\": 48600, \"trip_last_arrival_ts\": 51000, \"departure_hour\": 13, \"time_of_day\": \"Midday\", \"p25\": 0.67, \"p50\": 0.67, \"p75\": 0.67, \"p50_trip\": 1, \"fastest_trip\": 0, \"car_duration_hours\": 0.46, \"competitive_route\": 1, \"bus_multiplier\": 1.46, \"bus_difference\": 12.6, \"num_trips\": 16, \"num_competitive\": 16, \"pct_trips_competitive\": 1.0, \"bus_difference_spread\": 0.0, \"route_group\": \"short\", \"max_trip_hrs\": 0.67, \"max_trip_route_group\": 0.67, \"below_cutoff\": 16, \"pct_below_cutoff\": 1.0, \"name\": \"City of El Monte\", \"caltrans_district\": \"07 - Los Angeles\", \"drmt_organization_name\": null, \"route_name\": null, \"cutoff2\": 20, \"cutoff\": 0}, {\"calitp_itp_id\": 102, \"trip_key\": -1733208975052661143, \"trip_id\": \"t_147891_b_2686_tn_0\", \"shape_id\": \"p_111165\", \"route_id\": \"6815\", \"service_hours\": 0.67, \"trip_first_departure_ts\": 66600, \"trip_last_arrival_ts\": 69000, \"departure_hour\": 18, \"time_of_day\": \"PM Peak\", \"p25\": 0.67, \"p50\": 0.67, \"p75\": 0.67, \"p50_trip\": 1, \"fastest_trip\": 1, \"car_duration_hours\": 0.46, \"competitive_route\": 1, \"bus_multiplier\": 1.46, \"bus_difference\": 12.6, \"num_trips\": 16, \"num_competitive\": 16, \"pct_trips_competitive\": 1.0, \"bus_difference_spread\": 0.0, \"route_group\": \"short\", \"max_trip_hrs\": 0.67, \"max_trip_route_group\": 0.67, \"below_cutoff\": 16, \"pct_below_cutoff\": 1.0, \"name\": \"City of El Monte\", \"caltrans_district\": \"07 - Los Angeles\", \"drmt_organization_name\": null, \"route_name\": null, \"cutoff2\": 20, \"cutoff\": 0}, {\"calitp_itp_id\": 102, \"trip_key\": 5274073320015846282, \"trip_id\": \"t_147890_b_2686_tn_2\", \"shape_id\": \"p_111165\", \"route_id\": \"6815\", \"service_hours\": 0.67, \"trip_first_departure_ts\": 24600, \"trip_last_arrival_ts\": 27000, \"departure_hour\": 6, \"time_of_day\": \"Owl Service\", \"p25\": 0.67, \"p50\": 0.67, \"p75\": 0.67, \"p50_trip\": 1, \"fastest_trip\": 0, \"car_duration_hours\": 0.46, \"competitive_route\": 1, \"bus_multiplier\": 1.46, \"bus_difference\": 12.6, \"num_trips\": 16, \"num_competitive\": 16, \"pct_trips_competitive\": 1.0, \"bus_difference_spread\": 0.0, \"route_group\": \"short\", \"max_trip_hrs\": 0.67, \"max_trip_route_group\": 0.67, \"below_cutoff\": 16, \"pct_below_cutoff\": 1.0, \"name\": \"City of El Monte\", \"caltrans_district\": \"07 - Los Angeles\", \"drmt_organization_name\": null, \"route_name\": null, \"cutoff2\": 20, \"cutoff\": 0}, {\"calitp_itp_id\": 102, \"trip_key\": -1510469809421971656, \"trip_id\": \"t_147890_b_2686_tn_1\", \"shape_id\": \"p_111165\", \"route_id\": \"6815\", \"service_hours\": 0.67, \"trip_first_departure_ts\": 21600, \"trip_last_arrival_ts\": 24000, \"departure_hour\": 6, \"time_of_day\": \"Owl Service\", \"p25\": 0.67, \"p50\": 0.67, \"p75\": 0.67, \"p50_trip\": 1, \"fastest_trip\": 0, \"car_duration_hours\": 0.46, \"competitive_route\": 1, \"bus_multiplier\": 1.46, \"bus_difference\": 12.6, \"num_trips\": 16, \"num_competitive\": 16, \"pct_trips_competitive\": 1.0, \"bus_difference_spread\": 0.0, \"route_group\": \"short\", \"max_trip_hrs\": 0.67, \"max_trip_route_group\": 0.67, \"below_cutoff\": 16, \"pct_below_cutoff\": 1.0, \"name\": \"City of El Monte\", \"caltrans_district\": \"07 - Los Angeles\", \"drmt_organization_name\": null, \"route_name\": null, \"cutoff2\": 20, \"cutoff\": 0}, {\"calitp_itp_id\": 102, \"trip_key\": -3990655709391807491, \"trip_id\": \"t_147892_b_2686_tn_9\", \"shape_id\": \"p_111165\", \"route_id\": \"6815\", \"service_hours\": 0.67, \"trip_first_departure_ts\": 57600, \"trip_last_arrival_ts\": 60000, \"departure_hour\": 16, \"time_of_day\": \"Midday\", \"p25\": 0.67, \"p50\": 0.67, \"p75\": 0.67, \"p50_trip\": 1, \"fastest_trip\": 0, \"car_duration_hours\": 0.46, \"competitive_route\": 1, \"bus_multiplier\": 1.46, \"bus_difference\": 12.6, \"num_trips\": 16, \"num_competitive\": 16, \"pct_trips_competitive\": 1.0, \"bus_difference_spread\": 0.0, \"route_group\": \"short\", \"max_trip_hrs\": 0.67, \"max_trip_route_group\": 0.67, \"below_cutoff\": 16, \"pct_below_cutoff\": 1.0, \"name\": \"City of El Monte\", \"caltrans_district\": \"07 - Los Angeles\", \"drmt_organization_name\": null, \"route_name\": null, \"cutoff2\": 20, \"cutoff\": 0}, {\"calitp_itp_id\": 102, \"trip_key\": -6091331931879734223, \"trip_id\": \"t_147892_b_2686_tn_3\", \"shape_id\": \"p_111165\", \"route_id\": \"6815\", \"service_hours\": 0.67, \"trip_first_departure_ts\": 39600, \"trip_last_arrival_ts\": 42000, \"departure_hour\": 11, \"time_of_day\": \"Midday\", \"p25\": 0.67, \"p50\": 0.67, \"p75\": 0.67, \"p50_trip\": 1, \"fastest_trip\": 0, \"car_duration_hours\": 0.46, \"competitive_route\": 1, \"bus_multiplier\": 1.46, \"bus_difference\": 12.6, \"num_trips\": 16, \"num_competitive\": 16, \"pct_trips_competitive\": 1.0, \"bus_difference_spread\": 0.0, \"route_group\": \"short\", \"max_trip_hrs\": 0.67, \"max_trip_route_group\": 0.67, \"below_cutoff\": 16, \"pct_below_cutoff\": 1.0, \"name\": \"City of El Monte\", \"caltrans_district\": \"07 - Los Angeles\", \"drmt_organization_name\": null, \"route_name\": null, \"cutoff2\": 20, \"cutoff\": 0}, {\"calitp_itp_id\": 102, \"trip_key\": -2229373221031908635, \"trip_id\": \"t_147890_b_2686_tn_3\", \"shape_id\": \"p_111165\", \"route_id\": \"6815\", \"service_hours\": 0.67, \"trip_first_departure_ts\": 27600, \"trip_last_arrival_ts\": 30000, \"departure_hour\": 7, \"time_of_day\": \"AM Peak\", \"p25\": 0.67, \"p50\": 0.67, \"p75\": 0.67, \"p50_trip\": 1, \"fastest_trip\": 0, \"car_duration_hours\": 0.46, \"competitive_route\": 1, \"bus_multiplier\": 1.46, \"bus_difference\": 12.6, \"num_trips\": 16, \"num_competitive\": 16, \"pct_trips_competitive\": 1.0, \"bus_difference_spread\": 0.0, \"route_group\": \"short\", \"max_trip_hrs\": 0.67, \"max_trip_route_group\": 0.67, \"below_cutoff\": 16, \"pct_below_cutoff\": 1.0, \"name\": \"City of El Monte\", \"caltrans_district\": \"07 - Los Angeles\", \"drmt_organization_name\": null, \"route_name\": null, \"cutoff2\": 20, \"cutoff\": 0}, {\"calitp_itp_id\": 102, \"trip_key\": -5880457700343244675, \"trip_id\": \"t_147892_b_2686_tn_2\", \"shape_id\": \"p_111165\", \"route_id\": \"6815\", \"service_hours\": 0.67, \"trip_first_departure_ts\": 36600, \"trip_last_arrival_ts\": 39000, \"departure_hour\": 10, \"time_of_day\": \"Midday\", \"p25\": 0.67, \"p50\": 0.67, \"p75\": 0.67, \"p50_trip\": 1, \"fastest_trip\": 0, \"car_duration_hours\": 0.46, \"competitive_route\": 1, \"bus_multiplier\": 1.46, \"bus_difference\": 12.6, \"num_trips\": 16, \"num_competitive\": 16, \"pct_trips_competitive\": 1.0, \"bus_difference_spread\": 0.0, \"route_group\": \"short\", \"max_trip_hrs\": 0.67, \"max_trip_route_group\": 0.67, \"below_cutoff\": 16, \"pct_below_cutoff\": 1.0, \"name\": \"City of El Monte\", \"caltrans_district\": \"07 - Los Angeles\", \"drmt_organization_name\": null, \"route_name\": null, \"cutoff2\": 20, \"cutoff\": 0}, {\"calitp_itp_id\": 102, \"trip_key\": 7763698358630336321, \"trip_id\": \"t_147892_b_2686_tn_4\", \"shape_id\": \"p_111165\", \"route_id\": \"6815\", \"service_hours\": 0.67, \"trip_first_departure_ts\": 42600, \"trip_last_arrival_ts\": 45000, \"departure_hour\": 11, \"time_of_day\": \"Midday\", \"p25\": 0.67, \"p50\": 0.67, \"p75\": 0.67, \"p50_trip\": 1, \"fastest_trip\": 0, \"car_duration_hours\": 0.46, \"competitive_route\": 1, \"bus_multiplier\": 1.46, \"bus_difference\": 12.6, \"num_trips\": 16, \"num_competitive\": 16, \"pct_trips_competitive\": 1.0, \"bus_difference_spread\": 0.0, \"route_group\": \"short\", \"max_trip_hrs\": 0.67, \"max_trip_route_group\": 0.67, \"below_cutoff\": 16, \"pct_below_cutoff\": 1.0, \"name\": \"City of El Monte\", \"caltrans_district\": \"07 - Los Angeles\", \"drmt_organization_name\": null, \"route_name\": null, \"cutoff2\": 20, \"cutoff\": 0}, {\"calitp_itp_id\": 102, \"trip_key\": -8246621721174906460, \"trip_id\": \"t_147892_b_2686_tn_8\", \"shape_id\": \"p_111165\", \"route_id\": \"6815\", \"service_hours\": 0.67, \"trip_first_departure_ts\": 54600, \"trip_last_arrival_ts\": 57000, \"departure_hour\": 15, \"time_of_day\": \"Midday\", \"p25\": 0.67, \"p50\": 0.67, \"p75\": 0.67, \"p50_trip\": 1, \"fastest_trip\": 0, \"car_duration_hours\": 0.46, \"competitive_route\": 1, \"bus_multiplier\": 1.46, \"bus_difference\": 12.6, \"num_trips\": 16, \"num_competitive\": 16, \"pct_trips_competitive\": 1.0, \"bus_difference_spread\": 0.0, \"route_group\": \"short\", \"max_trip_hrs\": 0.67, \"max_trip_route_group\": 0.67, \"below_cutoff\": 16, \"pct_below_cutoff\": 1.0, \"name\": \"City of El Monte\", \"caltrans_district\": \"07 - Los Angeles\", \"drmt_organization_name\": null, \"route_name\": null, \"cutoff2\": 20, \"cutoff\": 0}, {\"calitp_itp_id\": 102, \"trip_key\": 1173113150824679597, \"trip_id\": \"t_147892_b_2686_tn_11\", \"shape_id\": \"p_111165\", \"route_id\": \"6815\", \"service_hours\": 0.67, \"trip_first_departure_ts\": 63600, \"trip_last_arrival_ts\": 66000, \"departure_hour\": 17, \"time_of_day\": \"PM Peak\", \"p25\": 0.67, \"p50\": 0.67, \"p75\": 0.67, \"p50_trip\": 1, \"fastest_trip\": 0, \"car_duration_hours\": 0.46, \"competitive_route\": 1, \"bus_multiplier\": 1.46, \"bus_difference\": 12.6, \"num_trips\": 16, \"num_competitive\": 16, \"pct_trips_competitive\": 1.0, \"bus_difference_spread\": 0.0, \"route_group\": \"short\", \"max_trip_hrs\": 0.67, \"max_trip_route_group\": 0.67, \"below_cutoff\": 16, \"pct_below_cutoff\": 1.0, \"name\": \"City of El Monte\", \"caltrans_district\": \"07 - Los Angeles\", \"drmt_organization_name\": null, \"route_name\": null, \"cutoff2\": 20, \"cutoff\": 0}, {\"calitp_itp_id\": 102, \"trip_key\": 3325949009610385247, \"trip_id\": \"t_147892_b_2686_tn_1\", \"shape_id\": \"p_111165\", \"route_id\": \"6815\", \"service_hours\": 0.67, \"trip_first_departure_ts\": 33600, \"trip_last_arrival_ts\": 36000, \"departure_hour\": 9, \"time_of_day\": \"AM Peak\", \"p25\": 0.67, \"p50\": 0.67, \"p75\": 0.67, \"p50_trip\": 1, \"fastest_trip\": 0, \"car_duration_hours\": 0.46, \"competitive_route\": 1, \"bus_multiplier\": 1.46, \"bus_difference\": 12.6, \"num_trips\": 16, \"num_competitive\": 16, \"pct_trips_competitive\": 1.0, \"bus_difference_spread\": 0.0, \"route_group\": \"short\", \"max_trip_hrs\": 0.67, \"max_trip_route_group\": 0.67, \"below_cutoff\": 16, \"pct_below_cutoff\": 1.0, \"name\": \"City of El Monte\", \"caltrans_district\": \"07 - Los Angeles\", \"drmt_organization_name\": null, \"route_name\": null, \"cutoff2\": 20, \"cutoff\": 0}, {\"calitp_itp_id\": 102, \"trip_key\": -430700960778060696, \"trip_id\": \"t_147892_b_2686_tn_7\", \"shape_id\": \"p_111165\", \"route_id\": \"6815\", \"service_hours\": 0.67, \"trip_first_departure_ts\": 51600, \"trip_last_arrival_ts\": 54000, \"departure_hour\": 14, \"time_of_day\": \"Midday\", \"p25\": 0.67, \"p50\": 0.67, \"p75\": 0.67, \"p50_trip\": 1, \"fastest_trip\": 0, \"car_duration_hours\": 0.46, \"competitive_route\": 1, \"bus_multiplier\": 1.46, \"bus_difference\": 12.6, \"num_trips\": 16, \"num_competitive\": 16, \"pct_trips_competitive\": 1.0, \"bus_difference_spread\": 0.0, \"route_group\": \"short\", \"max_trip_hrs\": 0.67, \"max_trip_route_group\": 0.67, \"below_cutoff\": 16, \"pct_below_cutoff\": 1.0, \"name\": \"City of El Monte\", \"caltrans_district\": \"07 - Los Angeles\", \"drmt_organization_name\": null, \"route_name\": null, \"cutoff2\": 20, \"cutoff\": 0}, {\"calitp_itp_id\": 102, \"trip_key\": 3391477370496388845, \"trip_id\": \"t_147898_b_2686_tn_10\", \"shape_id\": \"p_111166\", \"route_id\": \"6816\", \"service_hours\": 0.67, \"trip_first_departure_ts\": 60600, \"trip_last_arrival_ts\": 63000, \"departure_hour\": 16, \"time_of_day\": \"Midday\", \"p25\": 0.67, \"p50\": 0.67, \"p75\": 0.67, \"p50_trip\": 1, \"fastest_trip\": 0, \"car_duration_hours\": 0.42, \"competitive_route\": 1, \"bus_multiplier\": 1.6, \"bus_difference\": 15.0, \"num_trips\": 16, \"num_competitive\": 16, \"pct_trips_competitive\": 1.0, \"bus_difference_spread\": 0.0, \"route_group\": \"short\", \"max_trip_hrs\": 0.67, \"max_trip_route_group\": 0.67, \"below_cutoff\": 16, \"pct_below_cutoff\": 1.0, \"name\": \"City of El Monte\", \"caltrans_district\": \"07 - Los Angeles\", \"drmt_organization_name\": null, \"route_name\": null, \"cutoff2\": 20, \"cutoff\": 0}, {\"calitp_itp_id\": 102, \"trip_key\": 143023999516622186, \"trip_id\": \"t_147898_b_2686_tn_4\", \"shape_id\": \"p_111166\", \"route_id\": \"6816\", \"service_hours\": 0.67, \"trip_first_departure_ts\": 42600, \"trip_last_arrival_ts\": 45000, \"departure_hour\": 11, \"time_of_day\": \"Midday\", \"p25\": 0.67, \"p50\": 0.67, \"p75\": 0.67, \"p50_trip\": 1, \"fastest_trip\": 0, \"car_duration_hours\": 0.42, \"competitive_route\": 1, \"bus_multiplier\": 1.6, \"bus_difference\": 15.0, \"num_trips\": 16, \"num_competitive\": 16, \"pct_trips_competitive\": 1.0, \"bus_difference_spread\": 0.0, \"route_group\": \"short\", \"max_trip_hrs\": 0.67, \"max_trip_route_group\": 0.67, \"below_cutoff\": 16, \"pct_below_cutoff\": 1.0, \"name\": \"City of El Monte\", \"caltrans_district\": \"07 - Los Angeles\", \"drmt_organization_name\": null, \"route_name\": null, \"cutoff2\": 20, \"cutoff\": 0}, {\"calitp_itp_id\": 102, \"trip_key\": -4012191943816816838, \"trip_id\": \"t_147898_b_2686_tn_3\", \"shape_id\": \"p_111166\", \"route_id\": \"6816\", \"service_hours\": 0.67, \"trip_first_departure_ts\": 39600, \"trip_last_arrival_ts\": 42000, \"departure_hour\": 11, \"time_of_day\": \"Midday\", \"p25\": 0.67, \"p50\": 0.67, \"p75\": 0.67, \"p50_trip\": 1, \"fastest_trip\": 0, \"car_duration_hours\": 0.42, \"competitive_route\": 1, \"bus_multiplier\": 1.6, \"bus_difference\": 15.0, \"num_trips\": 16, \"num_competitive\": 16, \"pct_trips_competitive\": 1.0, \"bus_difference_spread\": 0.0, \"route_group\": \"short\", \"max_trip_hrs\": 0.67, \"max_trip_route_group\": 0.67, \"below_cutoff\": 16, \"pct_below_cutoff\": 1.0, \"name\": \"City of El Monte\", \"caltrans_district\": \"07 - Los Angeles\", \"drmt_organization_name\": null, \"route_name\": null, \"cutoff2\": 20, \"cutoff\": 0}, {\"calitp_itp_id\": 102, \"trip_key\": 2440818110463418880, \"trip_id\": \"t_147898_b_2686_tn_1\", \"shape_id\": \"p_111166\", \"route_id\": \"6816\", \"service_hours\": 0.67, \"trip_first_departure_ts\": 33600, \"trip_last_arrival_ts\": 36000, \"departure_hour\": 9, \"time_of_day\": \"AM Peak\", \"p25\": 0.67, \"p50\": 0.67, \"p75\": 0.67, \"p50_trip\": 1, \"fastest_trip\": 0, \"car_duration_hours\": 0.42, \"competitive_route\": 1, \"bus_multiplier\": 1.6, \"bus_difference\": 15.0, \"num_trips\": 16, \"num_competitive\": 16, \"pct_trips_competitive\": 1.0, \"bus_difference_spread\": 0.0, \"route_group\": \"short\", \"max_trip_hrs\": 0.67, \"max_trip_route_group\": 0.67, \"below_cutoff\": 16, \"pct_below_cutoff\": 1.0, \"name\": \"City of El Monte\", \"caltrans_district\": \"07 - Los Angeles\", \"drmt_organization_name\": null, \"route_name\": null, \"cutoff2\": 20, \"cutoff\": 0}, {\"calitp_itp_id\": 102, \"trip_key\": -7346493855026819010, \"trip_id\": \"t_147898_b_2686_tn_8\", \"shape_id\": \"p_111166\", \"route_id\": \"6816\", \"service_hours\": 0.67, \"trip_first_departure_ts\": 54600, \"trip_last_arrival_ts\": 57000, \"departure_hour\": 15, \"time_of_day\": \"Midday\", \"p25\": 0.67, \"p50\": 0.67, \"p75\": 0.67, \"p50_trip\": 1, \"fastest_trip\": 0, \"car_duration_hours\": 0.42, \"competitive_route\": 1, \"bus_multiplier\": 1.6, \"bus_difference\": 15.0, \"num_trips\": 16, \"num_competitive\": 16, \"pct_trips_competitive\": 1.0, \"bus_difference_spread\": 0.0, \"route_group\": \"short\", \"max_trip_hrs\": 0.67, \"max_trip_route_group\": 0.67, \"below_cutoff\": 16, \"pct_below_cutoff\": 1.0, \"name\": \"City of El Monte\", \"caltrans_district\": \"07 - Los Angeles\", \"drmt_organization_name\": null, \"route_name\": null, \"cutoff2\": 20, \"cutoff\": 0}, {\"calitp_itp_id\": 102, \"trip_key\": 2668184293044213155, \"trip_id\": \"t_147898_b_2686_tn_9\", \"shape_id\": \"p_111166\", \"route_id\": \"6816\", \"service_hours\": 0.67, \"trip_first_departure_ts\": 57600, \"trip_last_arrival_ts\": 60000, \"departure_hour\": 16, \"time_of_day\": \"Midday\", \"p25\": 0.67, \"p50\": 0.67, \"p75\": 0.67, \"p50_trip\": 1, \"fastest_trip\": 0, \"car_duration_hours\": 0.42, \"competitive_route\": 1, \"bus_multiplier\": 1.6, \"bus_difference\": 15.0, \"num_trips\": 16, \"num_competitive\": 16, \"pct_trips_competitive\": 1.0, \"bus_difference_spread\": 0.0, \"route_group\": \"short\", \"max_trip_hrs\": 0.67, \"max_trip_route_group\": 0.67, \"below_cutoff\": 16, \"pct_below_cutoff\": 1.0, \"name\": \"City of El Monte\", \"caltrans_district\": \"07 - Los Angeles\", \"drmt_organization_name\": null, \"route_name\": null, \"cutoff2\": 20, \"cutoff\": 0}, {\"calitp_itp_id\": 102, \"trip_key\": 4339139502125520775, \"trip_id\": \"t_147898_b_2686_tn_2\", \"shape_id\": \"p_111166\", \"route_id\": \"6816\", \"service_hours\": 0.67, \"trip_first_departure_ts\": 36600, \"trip_last_arrival_ts\": 39000, \"departure_hour\": 10, \"time_of_day\": \"Midday\", \"p25\": 0.67, \"p50\": 0.67, \"p75\": 0.67, \"p50_trip\": 1, \"fastest_trip\": 0, \"car_duration_hours\": 0.42, \"competitive_route\": 1, \"bus_multiplier\": 1.6, \"bus_difference\": 15.0, \"num_trips\": 16, \"num_competitive\": 16, \"pct_trips_competitive\": 1.0, \"bus_difference_spread\": 0.0, \"route_group\": \"short\", \"max_trip_hrs\": 0.67, \"max_trip_route_group\": 0.67, \"below_cutoff\": 16, \"pct_below_cutoff\": 1.0, \"name\": \"City of El Monte\", \"caltrans_district\": \"07 - Los Angeles\", \"drmt_organization_name\": null, \"route_name\": null, \"cutoff2\": 20, \"cutoff\": 0}, {\"calitp_itp_id\": 102, \"trip_key\": -334068648931858652, \"trip_id\": \"t_147896_b_2686_tn_4\", \"shape_id\": \"p_111166\", \"route_id\": \"6816\", \"service_hours\": 0.67, \"trip_first_departure_ts\": 30600, \"trip_last_arrival_ts\": 33000, \"departure_hour\": 8, \"time_of_day\": \"AM Peak\", \"p25\": 0.67, \"p50\": 0.67, \"p75\": 0.67, \"p50_trip\": 1, \"fastest_trip\": 0, \"car_duration_hours\": 0.42, \"competitive_route\": 1, \"bus_multiplier\": 1.6, \"bus_difference\": 15.0, \"num_trips\": 16, \"num_competitive\": 16, \"pct_trips_competitive\": 1.0, \"bus_difference_spread\": 0.0, \"route_group\": \"short\", \"max_trip_hrs\": 0.67, \"max_trip_route_group\": 0.67, \"below_cutoff\": 16, \"pct_below_cutoff\": 1.0, \"name\": \"City of El Monte\", \"caltrans_district\": \"07 - Los Angeles\", \"drmt_organization_name\": null, \"route_name\": null, \"cutoff2\": 20, \"cutoff\": 0}, {\"calitp_itp_id\": 102, \"trip_key\": 278358709813889447, \"trip_id\": \"t_147896_b_2686_tn_3\", \"shape_id\": \"p_111166\", \"route_id\": \"6816\", \"service_hours\": 0.67, \"trip_first_departure_ts\": 27600, \"trip_last_arrival_ts\": 30000, \"departure_hour\": 7, \"time_of_day\": \"AM Peak\", \"p25\": 0.67, \"p50\": 0.67, \"p75\": 0.67, \"p50_trip\": 1, \"fastest_trip\": 0, \"car_duration_hours\": 0.42, \"competitive_route\": 1, \"bus_multiplier\": 1.6, \"bus_difference\": 15.0, \"num_trips\": 16, \"num_competitive\": 16, \"pct_trips_competitive\": 1.0, \"bus_difference_spread\": 0.0, \"route_group\": \"short\", \"max_trip_hrs\": 0.67, \"max_trip_route_group\": 0.67, \"below_cutoff\": 16, \"pct_below_cutoff\": 1.0, \"name\": \"City of El Monte\", \"caltrans_district\": \"07 - Los Angeles\", \"drmt_organization_name\": null, \"route_name\": null, \"cutoff2\": 20, \"cutoff\": 0}, {\"calitp_itp_id\": 102, \"trip_key\": -5947620939702280924, \"trip_id\": \"t_147898_b_2686_tn_6\", \"shape_id\": \"p_111166\", \"route_id\": \"6816\", \"service_hours\": 0.67, \"trip_first_departure_ts\": 48600, \"trip_last_arrival_ts\": 51000, \"departure_hour\": 13, \"time_of_day\": \"Midday\", \"p25\": 0.67, \"p50\": 0.67, \"p75\": 0.67, \"p50_trip\": 1, \"fastest_trip\": 0, \"car_duration_hours\": 0.42, \"competitive_route\": 1, \"bus_multiplier\": 1.6, \"bus_difference\": 15.0, \"num_trips\": 16, \"num_competitive\": 16, \"pct_trips_competitive\": 1.0, \"bus_difference_spread\": 0.0, \"route_group\": \"short\", \"max_trip_hrs\": 0.67, \"max_trip_route_group\": 0.67, \"below_cutoff\": 16, \"pct_below_cutoff\": 1.0, \"name\": \"City of El Monte\", \"caltrans_district\": \"07 - Los Angeles\", \"drmt_organization_name\": null, \"route_name\": null, \"cutoff2\": 20, \"cutoff\": 0}, {\"calitp_itp_id\": 102, \"trip_key\": 6848729283777657688, \"trip_id\": \"t_147898_b_2686_tn_11\", \"shape_id\": \"p_111166\", \"route_id\": \"6816\", \"service_hours\": 0.67, \"trip_first_departure_ts\": 63600, \"trip_last_arrival_ts\": 66000, \"departure_hour\": 17, \"time_of_day\": \"PM Peak\", \"p25\": 0.67, \"p50\": 0.67, \"p75\": 0.67, \"p50_trip\": 1, \"fastest_trip\": 0, \"car_duration_hours\": 0.42, \"competitive_route\": 1, \"bus_multiplier\": 1.6, \"bus_difference\": 15.0, \"num_trips\": 16, \"num_competitive\": 16, \"pct_trips_competitive\": 1.0, \"bus_difference_spread\": 0.0, \"route_group\": \"short\", \"max_trip_hrs\": 0.67, \"max_trip_route_group\": 0.67, \"below_cutoff\": 16, \"pct_below_cutoff\": 1.0, \"name\": \"City of El Monte\", \"caltrans_district\": \"07 - Los Angeles\", \"drmt_organization_name\": null, \"route_name\": null, \"cutoff2\": 20, \"cutoff\": 0}, {\"calitp_itp_id\": 102, \"trip_key\": -2779654832465291752, \"trip_id\": \"t_147898_b_2686_tn_7\", \"shape_id\": \"p_111166\", \"route_id\": \"6816\", \"service_hours\": 0.67, \"trip_first_departure_ts\": 51600, \"trip_last_arrival_ts\": 54000, \"departure_hour\": 14, \"time_of_day\": \"Midday\", \"p25\": 0.67, \"p50\": 0.67, \"p75\": 0.67, \"p50_trip\": 1, \"fastest_trip\": 0, \"car_duration_hours\": 0.42, \"competitive_route\": 1, \"bus_multiplier\": 1.6, \"bus_difference\": 15.0, \"num_trips\": 16, \"num_competitive\": 16, \"pct_trips_competitive\": 1.0, \"bus_difference_spread\": 0.0, \"route_group\": \"short\", \"max_trip_hrs\": 0.67, \"max_trip_route_group\": 0.67, \"below_cutoff\": 16, \"pct_below_cutoff\": 1.0, \"name\": \"City of El Monte\", \"caltrans_district\": \"07 - Los Angeles\", \"drmt_organization_name\": null, \"route_name\": null, \"cutoff2\": 20, \"cutoff\": 0}, {\"calitp_itp_id\": 102, \"trip_key\": -5118655446628484113, \"trip_id\": \"t_147896_b_2686_tn_2\", \"shape_id\": \"p_111166\", \"route_id\": \"6816\", \"service_hours\": 0.67, \"trip_first_departure_ts\": 24600, \"trip_last_arrival_ts\": 27000, \"departure_hour\": 6, \"time_of_day\": \"Owl Service\", \"p25\": 0.67, \"p50\": 0.67, \"p75\": 0.67, \"p50_trip\": 1, \"fastest_trip\": 0, \"car_duration_hours\": 0.42, \"competitive_route\": 1, \"bus_multiplier\": 1.6, \"bus_difference\": 15.0, \"num_trips\": 16, \"num_competitive\": 16, \"pct_trips_competitive\": 1.0, \"bus_difference_spread\": 0.0, \"route_group\": \"short\", \"max_trip_hrs\": 0.67, \"max_trip_route_group\": 0.67, \"below_cutoff\": 16, \"pct_below_cutoff\": 1.0, \"name\": \"City of El Monte\", \"caltrans_district\": \"07 - Los Angeles\", \"drmt_organization_name\": null, \"route_name\": null, \"cutoff2\": 20, \"cutoff\": 0}, {\"calitp_itp_id\": 102, \"trip_key\": -7274085442895036013, \"trip_id\": \"t_147898_b_2686_tn_5\", \"shape_id\": \"p_111166\", \"route_id\": \"6816\", \"service_hours\": 0.67, \"trip_first_departure_ts\": 45600, \"trip_last_arrival_ts\": 48000, \"departure_hour\": 12, \"time_of_day\": \"Midday\", \"p25\": 0.67, \"p50\": 0.67, \"p75\": 0.67, \"p50_trip\": 1, \"fastest_trip\": 0, \"car_duration_hours\": 0.42, \"competitive_route\": 1, \"bus_multiplier\": 1.6, \"bus_difference\": 15.0, \"num_trips\": 16, \"num_competitive\": 16, \"pct_trips_competitive\": 1.0, \"bus_difference_spread\": 0.0, \"route_group\": \"short\", \"max_trip_hrs\": 0.67, \"max_trip_route_group\": 0.67, \"below_cutoff\": 16, \"pct_below_cutoff\": 1.0, \"name\": \"City of El Monte\", \"caltrans_district\": \"07 - Los Angeles\", \"drmt_organization_name\": null, \"route_name\": null, \"cutoff2\": 20, \"cutoff\": 0}, {\"calitp_itp_id\": 102, \"trip_key\": 6358063859012994441, \"trip_id\": \"t_147897_b_2686_tn_0\", \"shape_id\": \"p_111166\", \"route_id\": \"6816\", \"service_hours\": 0.67, \"trip_first_departure_ts\": 66600, \"trip_last_arrival_ts\": 69000, \"departure_hour\": 18, \"time_of_day\": \"PM Peak\", \"p25\": 0.67, \"p50\": 0.67, \"p75\": 0.67, \"p50_trip\": 1, \"fastest_trip\": 1, \"car_duration_hours\": 0.42, \"competitive_route\": 1, \"bus_multiplier\": 1.6, \"bus_difference\": 15.0, \"num_trips\": 16, \"num_competitive\": 16, \"pct_trips_competitive\": 1.0, \"bus_difference_spread\": 0.0, \"route_group\": \"short\", \"max_trip_hrs\": 0.67, \"max_trip_route_group\": 0.67, \"below_cutoff\": 16, \"pct_below_cutoff\": 1.0, \"name\": \"City of El Monte\", \"caltrans_district\": \"07 - Los Angeles\", \"drmt_organization_name\": null, \"route_name\": null, \"cutoff2\": 20, \"cutoff\": 0}, {\"calitp_itp_id\": 102, \"trip_key\": 3618396333677559301, \"trip_id\": \"t_147896_b_2686_tn_1\", \"shape_id\": \"p_111166\", \"route_id\": \"6816\", \"service_hours\": 0.67, \"trip_first_departure_ts\": 21600, \"trip_last_arrival_ts\": 24000, \"departure_hour\": 6, \"time_of_day\": \"Owl Service\", \"p25\": 0.67, \"p50\": 0.67, \"p75\": 0.67, \"p50_trip\": 1, \"fastest_trip\": 0, \"car_duration_hours\": 0.42, \"competitive_route\": 1, \"bus_multiplier\": 1.6, \"bus_difference\": 15.0, \"num_trips\": 16, \"num_competitive\": 16, \"pct_trips_competitive\": 1.0, \"bus_difference_spread\": 0.0, \"route_group\": \"short\", \"max_trip_hrs\": 0.67, \"max_trip_route_group\": 0.67, \"below_cutoff\": 16, \"pct_below_cutoff\": 1.0, \"name\": \"City of El Monte\", \"caltrans_district\": \"07 - Los Angeles\", \"drmt_organization_name\": null, \"route_name\": null, \"cutoff2\": 20, \"cutoff\": 0}]}}, {\"mode\": \"vega-lite\"});\n",
       "</script>"
      ],
      "text/plain": [
       "alt.FacetChart(...)"
      ]
     },
     "metadata": {},
     "output_type": "display_data"
    },
    {
     "data": {
      "text/html": [
       "<h4>Route Stats</h4>"
      ],
      "text/plain": [
       "<IPython.core.display.HTML object>"
      ]
     },
     "metadata": {},
     "output_type": "display_data"
    },
    {
     "data": {
      "text/html": [
       "<style type=\"text/css\">\n",
       "</style>\n",
       "<table id=\"T_78d45\">\n",
       "  <thead>\n",
       "    <tr>\n",
       "      <th id=\"T_78d45_level0_col0\" class=\"col_heading level0 col0\" >Route ID</th>\n",
       "      <th id=\"T_78d45_level0_col1\" class=\"col_heading level0 col1\" >Route Name</th>\n",
       "      <th id=\"T_78d45_level0_col2\" class=\"col_heading level0 col2\" ># trips</th>\n",
       "      <th id=\"T_78d45_level0_col3\" class=\"col_heading level0 col3\" >Daily Avg Frequency (trips per hr)</th>\n",
       "      <th id=\"T_78d45_level0_col4\" class=\"col_heading level0 col4\" >25th, 50th, 75th ptile (hrs)</th>\n",
       "      <th id=\"T_78d45_level0_col5\" class=\"col_heading level0 col5\" >PM Peak Avg Frequency (trips per hr)</th>\n",
       "    </tr>\n",
       "  </thead>\n",
       "  <tbody>\n",
       "    <tr>\n",
       "      <td id=\"T_78d45_row0_col0\" class=\"data row0 col0\" >6811</td>\n",
       "      <td id=\"T_78d45_row0_col1\" class=\"data row0 col1\" >Flair Park</td>\n",
       "      <td id=\"T_78d45_row0_col2\" class=\"data row0 col2\" >21</td>\n",
       "      <td id=\"T_78d45_row0_col3\" class=\"data row0 col3\" >0.88</td>\n",
       "      <td id=\"T_78d45_row0_col4\" class=\"data row0 col4\" >0.42, 0.42, 0.42</td>\n",
       "      <td id=\"T_78d45_row0_col5\" class=\"data row0 col5\" >1.33</td>\n",
       "    </tr>\n",
       "    <tr>\n",
       "      <td id=\"T_78d45_row1_col0\" class=\"data row1 col0\" >6812</td>\n",
       "      <td id=\"T_78d45_row1_col1\" class=\"data row1 col1\" >None</td>\n",
       "      <td id=\"T_78d45_row1_col2\" class=\"data row1 col2\" >16</td>\n",
       "      <td id=\"T_78d45_row1_col3\" class=\"data row1 col3\" >0.67</td>\n",
       "      <td id=\"T_78d45_row1_col4\" class=\"data row1 col4\" >0.53, 0.53, 0.53</td>\n",
       "      <td id=\"T_78d45_row1_col5\" class=\"data row1 col5\" >nan</td>\n",
       "    </tr>\n",
       "    <tr>\n",
       "      <td id=\"T_78d45_row2_col0\" class=\"data row2 col0\" >6815</td>\n",
       "      <td id=\"T_78d45_row2_col1\" class=\"data row2 col1\" >None</td>\n",
       "      <td id=\"T_78d45_row2_col2\" class=\"data row2 col2\" >16</td>\n",
       "      <td id=\"T_78d45_row2_col3\" class=\"data row2 col3\" >0.67</td>\n",
       "      <td id=\"T_78d45_row2_col4\" class=\"data row2 col4\" >0.67, 0.67, 0.67</td>\n",
       "      <td id=\"T_78d45_row2_col5\" class=\"data row2 col5\" >nan</td>\n",
       "    </tr>\n",
       "    <tr>\n",
       "      <td id=\"T_78d45_row3_col0\" class=\"data row3 col0\" >6816</td>\n",
       "      <td id=\"T_78d45_row3_col1\" class=\"data row3 col1\" >None</td>\n",
       "      <td id=\"T_78d45_row3_col2\" class=\"data row3 col2\" >16</td>\n",
       "      <td id=\"T_78d45_row3_col3\" class=\"data row3 col3\" >0.67</td>\n",
       "      <td id=\"T_78d45_row3_col4\" class=\"data row3 col4\" >0.67, 0.67, 0.67</td>\n",
       "      <td id=\"T_78d45_row3_col5\" class=\"data row3 col5\" >nan</td>\n",
       "    </tr>\n",
       "  </tbody>\n",
       "</table>\n"
      ],
      "text/plain": [
       "<IPython.core.display.HTML object>"
      ]
     },
     "metadata": {},
     "output_type": "display_data"
    }
   ],
   "source": [
    "# Allow for possibility that operator doesn't have routes that fall into certain route_groups\n",
    "# But, jupyterbook will not like markdown with f-string\n",
    "# separate out route_group and put in each cell, and use try/except + if to display...\n",
    "# but all 3 route groups must be displayed. just add sentence about why no routes were returned at the end\n",
    "route_group = \"short\"\n",
    "try:\n",
    "    display_charts_for_route_group(df, route_group)\n",
    "except:\n",
    "    print(\"No routes meet this criteria.\")"
   ]
  },
  {
   "cell_type": "markdown",
   "id": "c2931b6f-034d-4384-9e14-80b925e3b820",
   "metadata": {
    "papermill": {
     "duration": 0.027016,
     "end_time": "2022-05-11T22:20:45.796326",
     "exception": false,
     "start_time": "2022-05-11T22:20:45.769310",
     "status": "completed"
    },
    "tags": []
   },
   "source": [
    "### Medium Routes (1-1.5 hrs)"
   ]
  },
  {
   "cell_type": "code",
   "execution_count": 15,
   "id": "480edddc-4de0-48c2-ae4c-b0ceef8f28b5",
   "metadata": {
    "execution": {
     "iopub.execute_input": "2022-05-11T22:20:45.836295Z",
     "iopub.status.busy": "2022-05-11T22:20:45.835737Z",
     "iopub.status.idle": "2022-05-11T22:20:45.848604Z",
     "shell.execute_reply": "2022-05-11T22:20:45.847801Z"
    },
    "jupyter": {
     "source_hidden": true
    },
    "papermill": {
     "duration": 0.035673,
     "end_time": "2022-05-11T22:20:45.850349",
     "exception": false,
     "start_time": "2022-05-11T22:20:45.814676",
     "status": "completed"
    },
    "tags": [
     "remove_input"
    ]
   },
   "outputs": [
    {
     "name": "stdout",
     "output_type": "stream",
     "text": [
      "No routes meet this criteria.\n"
     ]
    }
   ],
   "source": [
    "route_group = \"medium\"\n",
    "try:\n",
    "    display_charts_for_route_group(df, route_group)\n",
    "except:\n",
    "    print(\"No routes meet this criteria.\")"
   ]
  },
  {
   "cell_type": "markdown",
   "id": "124b76d0-886c-4d03-92ac-f1bda3cda182",
   "metadata": {
    "papermill": {
     "duration": 0.032689,
     "end_time": "2022-05-11T22:20:45.921624",
     "exception": false,
     "start_time": "2022-05-11T22:20:45.888935",
     "status": "completed"
    },
    "tags": []
   },
   "source": [
    "### Long Routes (> 1.5 hrs)"
   ]
  },
  {
   "cell_type": "code",
   "execution_count": 16,
   "id": "ddc81b19-4c45-4c81-8b7a-5e0f394aa7a3",
   "metadata": {
    "execution": {
     "iopub.execute_input": "2022-05-11T22:20:45.988816Z",
     "iopub.status.busy": "2022-05-11T22:20:45.988233Z",
     "iopub.status.idle": "2022-05-11T22:20:46.009173Z",
     "shell.execute_reply": "2022-05-11T22:20:46.008004Z"
    },
    "jupyter": {
     "source_hidden": true
    },
    "papermill": {
     "duration": 0.057775,
     "end_time": "2022-05-11T22:20:46.012374",
     "exception": false,
     "start_time": "2022-05-11T22:20:45.954599",
     "status": "completed"
    },
    "tags": [
     "remove_input"
    ]
   },
   "outputs": [
    {
     "name": "stdout",
     "output_type": "stream",
     "text": [
      "No routes meet this criteria.\n"
     ]
    }
   ],
   "source": [
    "route_group = \"long\"\n",
    "try:\n",
    "    display_charts_for_route_group(df, route_group)\n",
    "except:\n",
    "    print(\"No routes meet this criteria.\")"
   ]
  },
  {
   "cell_type": "markdown",
   "id": "ace75b5f-0442-4fbe-aebd-6c3a13ae13a7",
   "metadata": {
    "papermill": {
     "duration": 0.037704,
     "end_time": "2022-05-11T22:20:46.087211",
     "exception": false,
     "start_time": "2022-05-11T22:20:46.049507",
     "status": "completed"
    },
    "tags": []
   },
   "source": [
    "### GTFS Real-Time Speedmaps"
   ]
  },
  {
   "cell_type": "code",
   "execution_count": 17,
   "id": "a0a114a1-e975-4027-9daf-50029f5ef59f",
   "metadata": {
    "execution": {
     "iopub.execute_input": "2022-05-11T22:20:46.153968Z",
     "iopub.status.busy": "2022-05-11T22:20:46.153598Z",
     "iopub.status.idle": "2022-05-11T22:20:46.202395Z",
     "shell.execute_reply": "2022-05-11T22:20:46.200642Z"
    },
    "jupyter": {
     "source_hidden": true
    },
    "papermill": {
     "duration": 0.085515,
     "end_time": "2022-05-11T22:20:46.205179",
     "exception": false,
     "start_time": "2022-05-11T22:20:46.119664",
     "status": "completed"
    },
    "tags": [
     "remove_input"
    ]
   },
   "outputs": [
    {
     "data": {
      "text/html": [
       "No GTFS RT data available."
      ],
      "text/plain": [
       "<IPython.core.display.HTML object>"
      ]
     },
     "metadata": {},
     "output_type": "display_data"
    }
   ],
   "source": [
    "RT_SITE_YAML = \"../portfolio/sites/rt.yml\"\n",
    "\n",
    "# Grab list of ITP IDs with GTFS RT speedmaps\n",
    "rt_itp_id = deploy_portfolio_yaml.check_if_rt_data_available(RT_SITE_YAML)\n",
    "\n",
    "# Construct the URL \n",
    "RT_URL = (\"https://analysis.calitp.org/rt/\"\n",
    "          f\"district_{district_number}-{district_name}/\"\n",
    "          f\"speedmaps__itp_id_{itp_id}.html\"\n",
    "         ) \n",
    "\n",
    "# If this ITP ID is found in RT analysis, give URL to that operator in analysis.calitp.org\n",
    "if itp_id in rt_itp_id:\n",
    "    display(HTML(f'''<a href={RT_URL}>GTFS RT speedmaps here.</a>'''))\n",
    "\n",
    "else:\n",
    "    display(HTML(\"No GTFS RT data available.\"))"
   ]
  },
  {
   "cell_type": "code",
   "execution_count": null,
   "id": "5b680565-2230-4f2e-817c-718fad48d64c",
   "metadata": {
    "jupyter": {
     "source_hidden": true
    },
    "papermill": {
     "duration": 0.036446,
     "end_time": "2022-05-11T22:20:46.276490",
     "exception": false,
     "start_time": "2022-05-11T22:20:46.240044",
     "status": "completed"
    },
    "tags": [
     "remove_input"
    ]
   },
   "outputs": [],
   "source": []
  }
 ],
 "metadata": {
  "kernelspec": {
   "display_name": "Python 3 (ipykernel)",
   "language": "python",
   "name": "python3"
  },
  "language_info": {
   "codemirror_mode": {
    "name": "ipython",
    "version": 3
   },
   "file_extension": ".py",
   "mimetype": "text/x-python",
   "name": "python",
   "nbconvert_exporter": "python",
   "pygments_lexer": "ipython3",
   "version": "3.9.12"
  },
  "papermill": {
   "default_parameters": {},
   "duration": 23.681714,
   "end_time": "2022-05-11T22:20:47.640995",
   "environment_variables": {},
   "exception": null,
   "input_path": "bus_service_increase/competitive-parallel-routes.ipynb",
   "output_path": "portfolio/parallel_corridors/district_07-los-angeles/15__competitive-parallel-routes__district_07-los-angeles__itp_id_102.ipynb",
   "parameters": {
    "district": "07 - Los Angeles",
    "itp_id": 102
   },
   "start_time": "2022-05-11T22:20:23.959281",
   "version": "2.3.4"
  }
 },
 "nbformat": 4,
 "nbformat_minor": 5
}