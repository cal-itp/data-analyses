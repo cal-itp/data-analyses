{
 "cells": [
  {
   "cell_type": "code",
   "execution_count": 1,
   "id": "95d00857-6a20-4529-a519-2cc7182928a9",
   "metadata": {
    "execution": {
     "iopub.execute_input": "2022-05-09T20:08:59.517241Z",
     "iopub.status.busy": "2022-05-09T20:08:59.516495Z",
     "iopub.status.idle": "2022-05-09T20:09:09.923568Z",
     "shell.execute_reply": "2022-05-09T20:09:09.922366Z"
    },
    "jupyter": {
     "source_hidden": true
    },
    "papermill": {
     "duration": 10.431775,
     "end_time": "2022-05-09T20:09:09.927058",
     "exception": false,
     "start_time": "2022-05-09T20:08:59.495283",
     "status": "completed"
    },
    "tags": [
     "remove_input"
    ]
   },
   "outputs": [],
   "source": [
    "%%capture\n",
    "import warnings\n",
    "warnings.filterwarnings('ignore')\n",
    "\n",
    "import altair as alt\n",
    "import calitp.magics\n",
    "import geopandas as gpd\n",
    "import intake\n",
    "import pandas as pd\n",
    "\n",
    "from IPython.display import display, Markdown, HTML\n",
    "\n",
    "import parallel_corridors_utils\n",
    "from shared_utils import styleguide\n",
    "import deploy_portfolio_yaml\n",
    "\n",
    "catalog = intake.open_catalog(\"./*.yml\")\n",
    "alt.renderers.enable(\"html\")"
   ]
  },
  {
   "cell_type": "code",
   "execution_count": 2,
   "id": "8af2a0c1-f3da-408d-9bea-11d9fbf8695d",
   "metadata": {
    "execution": {
     "iopub.execute_input": "2022-05-09T20:09:09.958629Z",
     "iopub.status.busy": "2022-05-09T20:09:09.957477Z",
     "iopub.status.idle": "2022-05-09T20:09:09.962933Z",
     "shell.execute_reply": "2022-05-09T20:09:09.962248Z"
    },
    "jupyter": {
     "source_hidden": true
    },
    "papermill": {
     "duration": 0.022617,
     "end_time": "2022-05-09T20:09:09.965859",
     "exception": false,
     "start_time": "2022-05-09T20:09:09.943242",
     "status": "completed"
    },
    "tags": [
     "parameters",
     "remove_input"
    ]
   },
   "outputs": [],
   "source": [
    "# parameters cell\n",
    "itp_id = 182"
   ]
  },
  {
   "cell_type": "code",
   "execution_count": 3,
   "id": "18a676c1",
   "metadata": {
    "execution": {
     "iopub.execute_input": "2022-05-09T20:09:09.994540Z",
     "iopub.status.busy": "2022-05-09T20:09:09.993714Z",
     "iopub.status.idle": "2022-05-09T20:09:10.007696Z",
     "shell.execute_reply": "2022-05-09T20:09:10.006567Z"
    },
    "jupyter": {
     "source_hidden": true
    },
    "papermill": {
     "duration": 0.032197,
     "end_time": "2022-05-09T20:09:10.010947",
     "exception": false,
     "start_time": "2022-05-09T20:09:09.978750",
     "status": "completed"
    },
    "tags": [
     "injected-parameters",
     "remove_input"
    ]
   },
   "outputs": [],
   "source": [
    "# Parameters\n",
    "district = \"07 - Los Angeles\"\n",
    "itp_id = 260\n"
   ]
  },
  {
   "cell_type": "code",
   "execution_count": 4,
   "id": "9582aaf4-79ff-412a-b248-8d8d693ebd4f",
   "metadata": {
    "execution": {
     "iopub.execute_input": "2022-05-09T20:09:10.042859Z",
     "iopub.status.busy": "2022-05-09T20:09:10.042009Z",
     "iopub.status.idle": "2022-05-09T20:09:11.687854Z",
     "shell.execute_reply": "2022-05-09T20:09:11.686706Z"
    },
    "jupyter": {
     "source_hidden": true
    },
    "papermill": {
     "duration": 1.662836,
     "end_time": "2022-05-09T20:09:11.690731",
     "exception": false,
     "start_time": "2022-05-09T20:09:10.027895",
     "status": "completed"
    },
    "tags": [
     "remove_input"
    ]
   },
   "outputs": [],
   "source": [
    "df = catalog.competitive_route_variability.read()\n",
    "\n",
    "df = (df[(df.calitp_itp_id == itp_id) & \n",
    "         (df.route_group.notna())]\n",
    "      .reset_index(drop=True)\n",
    "     )\n",
    "\n",
    "\n",
    "if itp_id == 182:\n",
    "    df = df.assign(\n",
    "        route_id = df.route_id.str.replace('-13153', '').astype(int)\n",
    "    )"
   ]
  },
  {
   "cell_type": "code",
   "execution_count": 5,
   "id": "33ac4b06-f647-4dce-a625-8f2c1b37cc60",
   "metadata": {
    "execution": {
     "iopub.execute_input": "2022-05-09T20:09:11.719344Z",
     "iopub.status.busy": "2022-05-09T20:09:11.718971Z",
     "iopub.status.idle": "2022-05-09T20:09:11.728661Z",
     "shell.execute_reply": "2022-05-09T20:09:11.727889Z"
    },
    "jupyter": {
     "source_hidden": true
    },
    "papermill": {
     "duration": 0.025234,
     "end_time": "2022-05-09T20:09:11.730409",
     "exception": false,
     "start_time": "2022-05-09T20:09:11.705175",
     "status": "completed"
    },
    "tags": [
     "remove_input"
    ]
   },
   "outputs": [],
   "source": [
    "%%capture_parameters\n",
    "operator_name = df.name.iloc[0]\n",
    "district_number = f\"{df.caltrans_district.iloc[0].split('-')[0].strip()}\"\n",
    "district_name = f\"{df.caltrans_district.iloc[0].split('-')[1].strip().lower().replace(' ', '-')}\"\n",
    "\n",
    "itp_id, operator_name, district_number, district_name"
   ]
  },
  {
   "cell_type": "markdown",
   "id": "65bc6f5c-8348-42ee-b2dd-52057c406852",
   "metadata": {
    "papermill": {
     "duration": 0.012058,
     "end_time": "2022-05-09T20:09:11.755066",
     "exception": false,
     "start_time": "2022-05-09T20:09:11.743008",
     "status": "completed"
    },
    "tags": []
   },
   "source": [
    "# City of Redondo Beach (ITP ID: 260)"
   ]
  },
  {
   "cell_type": "code",
   "execution_count": 6,
   "id": "a689c1ab-2c6c-4831-8d64-897f5986f571",
   "metadata": {
    "execution": {
     "iopub.execute_input": "2022-05-09T20:09:11.784429Z",
     "iopub.status.busy": "2022-05-09T20:09:11.783788Z",
     "iopub.status.idle": "2022-05-09T20:09:11.791502Z",
     "shell.execute_reply": "2022-05-09T20:09:11.790444Z"
    },
    "jupyter": {
     "source_hidden": true
    },
    "papermill": {
     "duration": 0.027249,
     "end_time": "2022-05-09T20:09:11.794448",
     "exception": false,
     "start_time": "2022-05-09T20:09:11.767199",
     "status": "completed"
    },
    "tags": [
     "remove_input"
    ]
   },
   "outputs": [
    {
     "data": {
      "text/html": [
       "<h1>Competitive & Parallel Routes</h1>"
      ],
      "text/plain": [
       "<IPython.core.display.HTML object>"
      ]
     },
     "metadata": {},
     "output_type": "display_data"
    }
   ],
   "source": [
    "display(HTML(\"<h1>Competitive & Parallel Routes</h1>\")) "
   ]
  },
  {
   "cell_type": "code",
   "execution_count": 7,
   "id": "2cb4d8d5-4760-40e4-85b1-cb833d8bb648",
   "metadata": {
    "execution": {
     "iopub.execute_input": "2022-05-09T20:09:11.833080Z",
     "iopub.status.busy": "2022-05-09T20:09:11.832726Z",
     "iopub.status.idle": "2022-05-09T20:09:24.900785Z",
     "shell.execute_reply": "2022-05-09T20:09:24.899688Z"
    },
    "jupyter": {
     "source_hidden": true
    },
    "papermill": {
     "duration": 13.08726,
     "end_time": "2022-05-09T20:09:24.904065",
     "exception": false,
     "start_time": "2022-05-09T20:09:11.816805",
     "status": "completed"
    },
    "tags": [
     "remove_input"
    ]
   },
   "outputs": [],
   "source": [
    "# Grab parameters for narrative text - clean up formatting here \n",
    "district = df.caltrans_district.iloc[0]\n",
    "formatted_date = pd.to_datetime(parallel_corridors_utils.SELECTED_DATE).strftime('%m-%d-%Y')\n",
    "\n",
    "PCT_COMPETITIVE_THRESHOLD = 0.75\n",
    "\n",
    "stats = parallel_corridors_utils.operator_parallel_competitive_stats(\n",
    "    itp_id, PCT_COMPETITIVE_THRESHOLD)\n",
    "\n",
    "pct_parallel = round(stats['parallel_routes'] / stats['num_routes'] * 100,1 )\n",
    "pct_competitive =  round(stats['competitive_routes'] / stats['num_routes'] * 100,1 )"
   ]
  },
  {
   "cell_type": "markdown",
   "id": "ab667928-5274-4490-82d9-4c39293209a4",
   "metadata": {
    "papermill": {
     "duration": 0.013597,
     "end_time": "2022-05-09T20:09:24.933961",
     "exception": false,
     "start_time": "2022-05-09T20:09:24.920364",
     "status": "completed"
    },
    "tags": []
   },
   "source": [
    "## Quick Stats"
   ]
  },
  {
   "cell_type": "code",
   "execution_count": 8,
   "id": "0416509d-dc62-4165-b62e-64f8b26e8b8e",
   "metadata": {
    "execution": {
     "iopub.execute_input": "2022-05-09T20:09:24.962605Z",
     "iopub.status.busy": "2022-05-09T20:09:24.962129Z",
     "iopub.status.idle": "2022-05-09T20:09:24.969699Z",
     "shell.execute_reply": "2022-05-09T20:09:24.968727Z"
    },
    "jupyter": {
     "source_hidden": true
    },
    "papermill": {
     "duration": 0.025983,
     "end_time": "2022-05-09T20:09:24.972976",
     "exception": false,
     "start_time": "2022-05-09T20:09:24.946993",
     "status": "completed"
    },
    "tags": [
     "remove_input"
    ]
   },
   "outputs": [
    {
     "data": {
      "text/markdown": [
       "**Bus routes in service**: 4 <br>**Parallel routes** to State Highway Network (SHN): 4 routes (100.0%)<br>**Competitive routes** against car travel: 3 routes (75.0%)"
      ],
      "text/plain": [
       "<IPython.core.display.Markdown object>"
      ]
     },
     "metadata": {},
     "output_type": "display_data"
    }
   ],
   "source": [
    "display(\n",
    "    Markdown(\n",
    "        f\"**Bus routes in service**: {stats['num_routes']} \"\n",
    "        \"<br>**Parallel routes** to State Highway Network (SHN): \"\n",
    "        f\"{stats['parallel_routes']} routes ({pct_parallel}%)\"\n",
    "        f\"<br>**Competitive routes** against car travel: {stats['competitive_routes']} routes ({pct_competitive}%)\"\n",
    "    )\n",
    ")"
   ]
  },
  {
   "cell_type": "code",
   "execution_count": 9,
   "id": "f9d6ab58-f0ee-460c-b6de-657490e1f386",
   "metadata": {
    "execution": {
     "iopub.execute_input": "2022-05-09T20:09:25.005647Z",
     "iopub.status.busy": "2022-05-09T20:09:25.001953Z",
     "iopub.status.idle": "2022-05-09T20:09:25.015876Z",
     "shell.execute_reply": "2022-05-09T20:09:25.014737Z"
    },
    "jupyter": {
     "source_hidden": true
    },
    "papermill": {
     "duration": 0.031866,
     "end_time": "2022-05-09T20:09:25.018217",
     "exception": false,
     "start_time": "2022-05-09T20:09:24.986351",
     "status": "completed"
    },
    "tags": [
     "remove_input"
    ]
   },
   "outputs": [],
   "source": [
    "def set_yaxis_range(df, y_col):\n",
    "    Y_MIN = df[y_col].min()\n",
    "    Y_MAX = df[y_col].max()\n",
    "    \n",
    "    return Y_MIN, Y_MAX\n",
    "\n",
    "# Rather than set it according to the operator, which can vary,\n",
    "# just use set thresholds for each group\n",
    "diff_cutoffs = parallel_corridors_utils.diff_cutoffs\n",
    "\n",
    "PCT_TRIPS_BELOW_CUTOFF = 0.25\n",
    "\n",
    "def top15_routes(df, route_group):\n",
    "    df2 = (df[df.route_group==route_group])\n",
    "    # Set a cut-off to enable sorting, where most of the trips are \n",
    "    # below a certain time difference cut-off, \n",
    "    # grab top 15 routes where majority of trips are below that cut-off \n",
    "\n",
    "    route_cols = [\"calitp_itp_id\", \"route_id\"]\n",
    "\n",
    "    df2 = df2.assign(\n",
    "        below_cutoff = df2.apply(lambda x: 1 if x.bus_difference <= diff_cutoffs[route_group] \n",
    "                                 else 0, axis=1),\n",
    "        num_trips = df2.groupby(route_cols)[\"trip_id\"].transform(\"count\")\n",
    "    )\n",
    "\n",
    "    df2[\"below_cutoff\"] = df2.groupby(route_cols)[\"below_cutoff\"].transform(\"sum\")\n",
    "    df2[\"pct_below_cutoff\"] = df2.below_cutoff.divide(df2.num_trips)\n",
    "\n",
    "    # At least half the trips are below that cut-off\n",
    "    # but show 15 max, otherwise, show less, since these won't be as interesting to operators\n",
    "    df3 = (df2[df2.pct_below_cutoff >= PCT_TRIPS_BELOW_CUTOFF]\n",
    "           .sort_values([\"calitp_itp_id\", \"below_cutoff\", \n",
    "                         \"pct_below_cutoff\", \"route_id\"],\n",
    "                        ascending = [True, False, False, True]\n",
    "                       )\n",
    "           .drop_duplicates(subset=[\"calitp_itp_id\", \"route_id\"])\n",
    "          ).head(15)\n",
    "    \n",
    "    return list(df3.route_id)"
   ]
  },
  {
   "cell_type": "code",
   "execution_count": 10,
   "id": "cf36d559-3349-4144-8086-8ac9ce937a5a",
   "metadata": {
    "execution": {
     "iopub.execute_input": "2022-05-09T20:09:25.049982Z",
     "iopub.status.busy": "2022-05-09T20:09:25.049637Z",
     "iopub.status.idle": "2022-05-09T20:09:25.055923Z",
     "shell.execute_reply": "2022-05-09T20:09:25.054793Z"
    },
    "jupyter": {
     "source_hidden": true
    },
    "papermill": {
     "duration": 0.025515,
     "end_time": "2022-05-09T20:09:25.058658",
     "exception": false,
     "start_time": "2022-05-09T20:09:25.033143",
     "status": "completed"
    },
    "tags": [
     "remove_input"
    ]
   },
   "outputs": [],
   "source": [
    "def caption_with_cutoff(cutoff):\n",
    "    sentence = (\n",
    "        f\"<br>These are routes that have **at least {int(PCT_TRIPS_BELOW_CUTOFF*100)}% \"\n",
    "        \"of their trips take no more than an \"\n",
    "        f\"additional {cutoff} min** compared to a car \"\n",
    "        \"(up to 15 routes) are shown.\"\n",
    "        \"<br>Within each route group, routes are sorted in descending order \"\n",
    "        \"by % competitive trips and # trips below the additional time cut-off.\"\n",
    "    )\n",
    "    return sentence\n",
    "\n",
    "CAPTIONS_DICT = {\n",
    "    \"short\": caption_with_cutoff(diff_cutoffs['short']),\n",
    "    \"medium\": caption_with_cutoff(diff_cutoffs['medium']),\n",
    "    \"long\": caption_with_cutoff(diff_cutoffs['long']),\n",
    "}"
   ]
  },
  {
   "cell_type": "code",
   "execution_count": 11,
   "id": "e4306d58-6944-47e9-afef-5d5b524c751f",
   "metadata": {
    "execution": {
     "iopub.execute_input": "2022-05-09T20:09:25.090635Z",
     "iopub.status.busy": "2022-05-09T20:09:25.090299Z",
     "iopub.status.idle": "2022-05-09T20:09:25.105918Z",
     "shell.execute_reply": "2022-05-09T20:09:25.097235Z"
    },
    "jupyter": {
     "source_hidden": true
    },
    "papermill": {
     "duration": 0.03366,
     "end_time": "2022-05-09T20:09:25.108390",
     "exception": false,
     "start_time": "2022-05-09T20:09:25.074730",
     "status": "completed"
    },
    "tags": [
     "remove_input"
    ]
   },
   "outputs": [],
   "source": [
    "def setup_charts(df, PCT_COMPETITIVE_THRESHOLD, route_group):\n",
    "    # Set up df for charting (cut-off at some threshold to show most competitive routes)\n",
    "    plot_me = (df[df.pct_trips_competitive > PCT_COMPETITIVE_THRESHOLD]\n",
    "           .drop(columns = \"geometry\")\n",
    "    )\n",
    "    \n",
    "    y_col1 = \"bus_multiplier\"\n",
    "    Y_MIN1, Y_MAX1 = set_yaxis_range(plot_me, y_col1)\n",
    "\n",
    "    y_col2 = \"bus_difference\"\n",
    "    Y_MIN2, Y_MAX2 = set_yaxis_range(plot_me, y_col2)\n",
    "     \n",
    "    subset_routes = top15_routes(plot_me, route_group)\n",
    "    \n",
    "    multiplier_chart = parallel_corridors_utils.make_stripplot(\n",
    "        plot_me[plot_me.route_id.isin(subset_routes)], \n",
    "        y_col1, Y_MIN = Y_MIN1, Y_MAX = Y_MAX1\n",
    "    )\n",
    "    \n",
    "    difference_chart = parallel_corridors_utils.make_stripplot(\n",
    "        plot_me[plot_me.route_id.isin(subset_routes)], \n",
    "        y_col2, Y_MIN = Y_MIN2, Y_MAX = Y_MAX2\n",
    "    )\n",
    "    \n",
    "    return subset_routes, multiplier_chart, difference_chart            "
   ]
  },
  {
   "cell_type": "code",
   "execution_count": 12,
   "id": "33a710e8-504c-4942-aa75-ff69f216956e",
   "metadata": {
    "execution": {
     "iopub.execute_input": "2022-05-09T20:09:25.140058Z",
     "iopub.status.busy": "2022-05-09T20:09:25.139014Z",
     "iopub.status.idle": "2022-05-09T20:09:25.146057Z",
     "shell.execute_reply": "2022-05-09T20:09:25.145073Z"
    },
    "jupyter": {
     "source_hidden": true
    },
    "papermill": {
     "duration": 0.025014,
     "end_time": "2022-05-09T20:09:25.148281",
     "exception": false,
     "start_time": "2022-05-09T20:09:25.123267",
     "status": "completed"
    },
    "tags": [
     "remove_input"
    ]
   },
   "outputs": [],
   "source": [
    "def display_charts_for_route_group(df, route_group):    \n",
    "    subset_routes, mult, diff  = setup_charts(df, PCT_COMPETITIVE_THRESHOLD, route_group)\n",
    "\n",
    "    if len(subset_routes) > 0:\n",
    "        display(Markdown(f\"{CAPTIONS_DICT[route_group]}\"))\n",
    "\n",
    "        display(mult)\n",
    "        display(diff)"
   ]
  },
  {
   "cell_type": "markdown",
   "id": "525f9b38-072b-46d1-96a8-1aa4b038357c",
   "metadata": {
    "papermill": {
     "duration": 0.015534,
     "end_time": "2022-05-09T20:09:25.179335",
     "exception": false,
     "start_time": "2022-05-09T20:09:25.163801",
     "status": "completed"
    },
    "tags": []
   },
   "source": [
    "## Viable Competitive Routes\n",
    "### Short Routes (< 1 hr)"
   ]
  },
  {
   "cell_type": "code",
   "execution_count": 13,
   "id": "57f7084c-2cf7-45c6-ba08-1609e0bd6ca5",
   "metadata": {
    "execution": {
     "iopub.execute_input": "2022-05-09T20:09:25.215980Z",
     "iopub.status.busy": "2022-05-09T20:09:25.214933Z",
     "iopub.status.idle": "2022-05-09T20:09:25.513143Z",
     "shell.execute_reply": "2022-05-09T20:09:25.512063Z"
    },
    "jupyter": {
     "source_hidden": true
    },
    "papermill": {
     "duration": 0.324384,
     "end_time": "2022-05-09T20:09:25.518057",
     "exception": false,
     "start_time": "2022-05-09T20:09:25.193673",
     "status": "completed"
    },
    "tags": [
     "remove_input"
    ]
   },
   "outputs": [
    {
     "data": {
      "text/markdown": [
       "<br>These are routes that have **at least 25% of their trips take no more than an additional 20 min** compared to a car (up to 15 routes) are shown.<br>Within each route group, routes are sorted in descending order by % competitive trips and # trips below the additional time cut-off."
      ],
      "text/plain": [
       "<IPython.core.display.Markdown object>"
      ]
     },
     "metadata": {},
     "output_type": "display_data"
    },
    {
     "data": {
      "text/html": [
       "\n",
       "<div id=\"altair-viz-07490dca63a24637b2f2a67835947de3\"></div>\n",
       "<script type=\"text/javascript\">\n",
       "  var VEGA_DEBUG = (typeof VEGA_DEBUG == \"undefined\") ? {} : VEGA_DEBUG;\n",
       "  (function(spec, embedOpt){\n",
       "    let outputDiv = document.currentScript.previousElementSibling;\n",
       "    if (outputDiv.id !== \"altair-viz-07490dca63a24637b2f2a67835947de3\") {\n",
       "      outputDiv = document.getElementById(\"altair-viz-07490dca63a24637b2f2a67835947de3\");\n",
       "    }\n",
       "    const paths = {\n",
       "      \"vega\": \"https://cdn.jsdelivr.net/npm//vega@5?noext\",\n",
       "      \"vega-lib\": \"https://cdn.jsdelivr.net/npm//vega-lib?noext\",\n",
       "      \"vega-lite\": \"https://cdn.jsdelivr.net/npm//vega-lite@4.17.0?noext\",\n",
       "      \"vega-embed\": \"https://cdn.jsdelivr.net/npm//vega-embed@6?noext\",\n",
       "    };\n",
       "\n",
       "    function maybeLoadScript(lib, version) {\n",
       "      var key = `${lib.replace(\"-\", \"\")}_version`;\n",
       "      return (VEGA_DEBUG[key] == version) ?\n",
       "        Promise.resolve(paths[lib]) :\n",
       "        new Promise(function(resolve, reject) {\n",
       "          var s = document.createElement('script');\n",
       "          document.getElementsByTagName(\"head\")[0].appendChild(s);\n",
       "          s.async = true;\n",
       "          s.onload = () => {\n",
       "            VEGA_DEBUG[key] = version;\n",
       "            return resolve(paths[lib]);\n",
       "          };\n",
       "          s.onerror = () => reject(`Error loading script: ${paths[lib]}`);\n",
       "          s.src = paths[lib];\n",
       "        });\n",
       "    }\n",
       "\n",
       "    function showError(err) {\n",
       "      outputDiv.innerHTML = `<div class=\"error\" style=\"color:red;\">${err}</div>`;\n",
       "      throw err;\n",
       "    }\n",
       "\n",
       "    function displayChart(vegaEmbed) {\n",
       "      vegaEmbed(outputDiv, spec, embedOpt)\n",
       "        .catch(err => showError(`Javascript Error: ${err.message}<br>This usually means there's a typo in your chart specification. See the javascript console for the full traceback.`));\n",
       "    }\n",
       "\n",
       "    if(typeof define === \"function\" && define.amd) {\n",
       "      requirejs.config({paths});\n",
       "      require([\"vega-embed\"], displayChart, err => showError(`Error loading script: ${err.message}`));\n",
       "    } else {\n",
       "      maybeLoadScript(\"vega\", \"5\")\n",
       "        .then(() => maybeLoadScript(\"vega-lite\", \"4.17.0\"))\n",
       "        .then(() => maybeLoadScript(\"vega-embed\", \"6\"))\n",
       "        .catch(showError)\n",
       "        .then(() => displayChart(vegaEmbed));\n",
       "    }\n",
       "  })({\"config\": {\"view\": {\"continuousWidth\": 400, \"continuousHeight\": 300, \"stroke\": null}, \"facet\": {\"spacing\": 0}}, \"data\": {\"name\": \"data-1a1e99d8ed6ea2ead600473a0a4a9b66\"}, \"facet\": {\"column\": {\"field\": \"route_id\", \"sort\": [\"BCT102 SB\"], \"title\": \"Route ID\", \"type\": \"nominal\"}}, \"spec\": {\"layer\": [{\"mark\": \"rule\", \"encoding\": {\"color\": {\"value\": \"black\"}, \"y\": {\"field\": \"cutoff\", \"type\": \"quantitative\"}}, \"selection\": {\"selector001\": {\"type\": \"interval\", \"bind\": \"scales\", \"encodings\": [\"x\", \"y\"]}}}, {\"mark\": {\"type\": \"point\", \"opacity\": 0.65, \"size\": 12, \"strokeWidth\": 1.1}, \"encoding\": {\"color\": {\"field\": \"time_of_day\", \"scale\": {\"range\": [\"#136C97\", \"#E16B26\", \"#F6BF16\", \"#00896B\", \"#7790A3\", \"#5B559C\"]}, \"sort\": [\"AM Peak\", \"Midday\", \"PM Peak\", \"Owl Service\"], \"title\": \"Time of Day\", \"type\": \"nominal\"}, \"tooltip\": [{\"field\": \"route_id\", \"type\": \"nominal\"}, {\"field\": \"trip_id\", \"type\": \"nominal\"}, {\"field\": \"service_hours\", \"type\": \"quantitative\"}, {\"field\": \"car_duration_hours\", \"type\": \"quantitative\"}, {\"field\": \"bus_multiplier\", \"type\": \"quantitative\"}, {\"field\": \"bus_difference\", \"type\": \"quantitative\"}, {\"field\": \"num_trips\", \"type\": \"quantitative\"}, {\"field\": \"num_competitive\", \"type\": \"quantitative\"}, {\"field\": \"pct_trips_competitive\", \"type\": \"quantitative\"}, {\"field\": \"p25\", \"type\": \"quantitative\"}, {\"field\": \"p50\", \"type\": \"quantitative\"}, {\"field\": \"p75\", \"type\": \"quantitative\"}], \"x\": {\"axis\": {\"grid\": false, \"labels\": false, \"ticks\": true, \"values\": [0]}, \"field\": \"jitter\", \"scale\": {}, \"title\": null, \"type\": \"quantitative\"}, \"y\": {\"field\": \"bus_multiplier\", \"scale\": {\"domain\": [-0.25, 2.5]}, \"title\": \"Ratio of Bus to Car Travel Time\", \"type\": \"quantitative\"}}, \"transform\": [{\"calculate\": \"sqrt(-2*log(random()))*cos(2*PI*random())\", \"as\": \"jitter\"}], \"width\": 50}, {\"layer\": [{\"mark\": {\"type\": \"point\", \"opacity\": 0.6, \"size\": 20, \"strokeWidth\": 1.3}, \"encoding\": {\"color\": {\"value\": \"#323434\"}, \"y\": {\"field\": \"bus_multiplier\", \"type\": \"quantitative\"}}, \"transform\": [{\"filter\": \"(datum.p50_trip === 1)\"}]}, {\"mark\": {\"type\": \"text\", \"align\": \"center\", \"baseline\": \"middle\"}, \"encoding\": {\"color\": {\"value\": \"black\"}, \"text\": {\"field\": \"pct_trips_competitive\", \"format\": \".0%\", \"type\": \"quantitative\"}, \"tooltip\": [{\"field\": \"route_id\", \"type\": \"nominal\"}, {\"field\": \"trip_id\", \"type\": \"nominal\"}, {\"field\": \"service_hours\", \"type\": \"quantitative\"}, {\"field\": \"car_duration_hours\", \"type\": \"quantitative\"}, {\"field\": \"bus_multiplier\", \"type\": \"quantitative\"}, {\"field\": \"bus_difference\", \"type\": \"quantitative\"}, {\"field\": \"num_trips\", \"type\": \"quantitative\"}, {\"field\": \"num_competitive\", \"type\": \"quantitative\"}, {\"field\": \"pct_trips_competitive\", \"type\": \"quantitative\"}, {\"field\": \"p25\", \"type\": \"quantitative\"}, {\"field\": \"p50\", \"type\": \"quantitative\"}, {\"field\": \"p75\", \"type\": \"quantitative\"}], \"x\": {\"value\": 30}, \"y\": {\"value\": 15}}, \"transform\": [{\"calculate\": \"sqrt(-2*log(random()))*cos(2*PI*random())\", \"as\": \"jitter\"}, {\"filter\": \"(datum.fastest_trip === 1)\"}]}]}]}, \"resolve\": {\"scale\": {\"y\": \"shared\"}}, \"title\": \"Ratio of Bus to Car Travel Time\", \"$schema\": \"https://vega.github.io/schema/vega-lite/v4.17.0.json\", \"datasets\": {\"data-1a1e99d8ed6ea2ead600473a0a4a9b66\": [{\"calitp_itp_id\": 260, \"trip_key\": 5600594073510181254, \"trip_id\": \"BCT102 SB_MF.T15\", \"shape_id\": \"BCT102 SB\", \"route_id\": \"BCT102 SB\", \"service_hours\": 0.63, \"trip_first_departure_ts\": 41940, \"trip_last_arrival_ts\": 44220, \"departure_hour\": 11, \"time_of_day\": \"Midday\", \"p25\": 0.63, \"p50\": 0.63, \"p75\": 0.63, \"p50_trip\": 1, \"fastest_trip\": 0, \"car_duration_hours\": 0.59, \"competitive_route\": 1, \"bus_multiplier\": 1.07, \"bus_difference\": 2.4, \"num_trips\": 31, \"num_competitive\": 31, \"pct_trips_competitive\": 1.0, \"bus_difference_spread\": 0.0, \"route_group\": \"short\", \"max_trip_hrs\": 0.63, \"max_trip_route_group\": 0.63, \"name\": \"City of Redondo Beach\", \"caltrans_district\": \"07 - Los Angeles\", \"drmt_organization_name\": null, \"cutoff2\": 20, \"cutoff\": 2}, {\"calitp_itp_id\": 260, \"trip_key\": -5553955856524841021, \"trip_id\": \"BCT102 SB_MF.T30\", \"shape_id\": \"BCT102 SB\", \"route_id\": \"BCT102 SB\", \"service_hours\": 0.63, \"trip_first_departure_ts\": 69780, \"trip_last_arrival_ts\": 72060, \"departure_hour\": 19, \"time_of_day\": \"PM Peak\", \"p25\": 0.63, \"p50\": 0.63, \"p75\": 0.63, \"p50_trip\": 1, \"fastest_trip\": 1, \"car_duration_hours\": 0.59, \"competitive_route\": 1, \"bus_multiplier\": 1.07, \"bus_difference\": 2.4, \"num_trips\": 31, \"num_competitive\": 31, \"pct_trips_competitive\": 1.0, \"bus_difference_spread\": 0.0, \"route_group\": \"short\", \"max_trip_hrs\": 0.63, \"max_trip_route_group\": 0.63, \"name\": \"City of Redondo Beach\", \"caltrans_district\": \"07 - Los Angeles\", \"drmt_organization_name\": null, \"cutoff2\": 20, \"cutoff\": 2}, {\"calitp_itp_id\": 260, \"trip_key\": 8801839722880547986, \"trip_id\": \"BCT102 SB_MF.T29\", \"shape_id\": \"BCT102 SB\", \"route_id\": \"BCT102 SB\", \"service_hours\": 0.63, \"trip_first_departure_ts\": 67980, \"trip_last_arrival_ts\": 70260, \"departure_hour\": 18, \"time_of_day\": \"PM Peak\", \"p25\": 0.63, \"p50\": 0.63, \"p75\": 0.63, \"p50_trip\": 1, \"fastest_trip\": 0, \"car_duration_hours\": 0.59, \"competitive_route\": 1, \"bus_multiplier\": 1.07, \"bus_difference\": 2.4, \"num_trips\": 31, \"num_competitive\": 31, \"pct_trips_competitive\": 1.0, \"bus_difference_spread\": 0.0, \"route_group\": \"short\", \"max_trip_hrs\": 0.63, \"max_trip_route_group\": 0.63, \"name\": \"City of Redondo Beach\", \"caltrans_district\": \"07 - Los Angeles\", \"drmt_organization_name\": null, \"cutoff2\": 20, \"cutoff\": 2}, {\"calitp_itp_id\": 260, \"trip_key\": -215016114500874665, \"trip_id\": \"BCT102 SB_MF.T08\", \"shape_id\": \"BCT102 SB\", \"route_id\": \"BCT102 SB\", \"service_hours\": 0.63, \"trip_first_departure_ts\": 29520, \"trip_last_arrival_ts\": 31800, \"departure_hour\": 8, \"time_of_day\": \"AM Peak\", \"p25\": 0.63, \"p50\": 0.63, \"p75\": 0.63, \"p50_trip\": 1, \"fastest_trip\": 0, \"car_duration_hours\": 0.59, \"competitive_route\": 1, \"bus_multiplier\": 1.07, \"bus_difference\": 2.4, \"num_trips\": 31, \"num_competitive\": 31, \"pct_trips_competitive\": 1.0, \"bus_difference_spread\": 0.0, \"route_group\": \"short\", \"max_trip_hrs\": 0.63, \"max_trip_route_group\": 0.63, \"name\": \"City of Redondo Beach\", \"caltrans_district\": \"07 - Los Angeles\", \"drmt_organization_name\": null, \"cutoff2\": 20, \"cutoff\": 2}, {\"calitp_itp_id\": 260, \"trip_key\": 4157095849159416399, \"trip_id\": \"BCT102 SB_MF.T18\", \"shape_id\": \"BCT102 SB\", \"route_id\": \"BCT102 SB\", \"service_hours\": 0.63, \"trip_first_departure_ts\": 48240, \"trip_last_arrival_ts\": 50520, \"departure_hour\": 13, \"time_of_day\": \"Midday\", \"p25\": 0.63, \"p50\": 0.63, \"p75\": 0.63, \"p50_trip\": 1, \"fastest_trip\": 0, \"car_duration_hours\": 0.59, \"competitive_route\": 1, \"bus_multiplier\": 1.07, \"bus_difference\": 2.4, \"num_trips\": 31, \"num_competitive\": 31, \"pct_trips_competitive\": 1.0, \"bus_difference_spread\": 0.0, \"route_group\": \"short\", \"max_trip_hrs\": 0.63, \"max_trip_route_group\": 0.63, \"name\": \"City of Redondo Beach\", \"caltrans_district\": \"07 - Los Angeles\", \"drmt_organization_name\": null, \"cutoff2\": 20, \"cutoff\": 2}, {\"calitp_itp_id\": 260, \"trip_key\": 7870570428958274744, \"trip_id\": \"BCT102 SB_MF.T04\", \"shape_id\": \"BCT102 SB\", \"route_id\": \"BCT102 SB\", \"service_hours\": 0.63, \"trip_first_departure_ts\": 25500, \"trip_last_arrival_ts\": 27780, \"departure_hour\": 7, \"time_of_day\": \"AM Peak\", \"p25\": 0.63, \"p50\": 0.63, \"p75\": 0.63, \"p50_trip\": 1, \"fastest_trip\": 0, \"car_duration_hours\": 0.59, \"competitive_route\": 1, \"bus_multiplier\": 1.07, \"bus_difference\": 2.4, \"num_trips\": 31, \"num_competitive\": 31, \"pct_trips_competitive\": 1.0, \"bus_difference_spread\": 0.0, \"route_group\": \"short\", \"max_trip_hrs\": 0.63, \"max_trip_route_group\": 0.63, \"name\": \"City of Redondo Beach\", \"caltrans_district\": \"07 - Los Angeles\", \"drmt_organization_name\": null, \"cutoff2\": 20, \"cutoff\": 2}, {\"calitp_itp_id\": 260, \"trip_key\": 66336865387378607, \"trip_id\": \"BCT102 SB_MF.T28\", \"shape_id\": \"BCT102 SB\", \"route_id\": \"BCT102 SB\", \"service_hours\": 0.63, \"trip_first_departure_ts\": 66180, \"trip_last_arrival_ts\": 68460, \"departure_hour\": 18, \"time_of_day\": \"PM Peak\", \"p25\": 0.63, \"p50\": 0.63, \"p75\": 0.63, \"p50_trip\": 1, \"fastest_trip\": 0, \"car_duration_hours\": 0.59, \"competitive_route\": 1, \"bus_multiplier\": 1.07, \"bus_difference\": 2.4, \"num_trips\": 31, \"num_competitive\": 31, \"pct_trips_competitive\": 1.0, \"bus_difference_spread\": 0.0, \"route_group\": \"short\", \"max_trip_hrs\": 0.63, \"max_trip_route_group\": 0.63, \"name\": \"City of Redondo Beach\", \"caltrans_district\": \"07 - Los Angeles\", \"drmt_organization_name\": null, \"cutoff2\": 20, \"cutoff\": 2}, {\"calitp_itp_id\": 260, \"trip_key\": 1849295836178047209, \"trip_id\": \"BCT102 SB_MF.T01\", \"shape_id\": \"BCT102 SB\", \"route_id\": \"BCT102 SB\", \"service_hours\": 0.63, \"trip_first_departure_ts\": 22740, \"trip_last_arrival_ts\": 25020, \"departure_hour\": 6, \"time_of_day\": \"Owl Service\", \"p25\": 0.63, \"p50\": 0.63, \"p75\": 0.63, \"p50_trip\": 1, \"fastest_trip\": 0, \"car_duration_hours\": 0.59, \"competitive_route\": 1, \"bus_multiplier\": 1.07, \"bus_difference\": 2.4, \"num_trips\": 31, \"num_competitive\": 31, \"pct_trips_competitive\": 1.0, \"bus_difference_spread\": 0.0, \"route_group\": \"short\", \"max_trip_hrs\": 0.63, \"max_trip_route_group\": 0.63, \"name\": \"City of Redondo Beach\", \"caltrans_district\": \"07 - Los Angeles\", \"drmt_organization_name\": null, \"cutoff2\": 20, \"cutoff\": 2}, {\"calitp_itp_id\": 260, \"trip_key\": 8888593141944986521, \"trip_id\": \"BCT102 SB_MF.T11\", \"shape_id\": \"BCT102 SB\", \"route_id\": \"BCT102 SB\", \"service_hours\": 0.63, \"trip_first_departure_ts\": 34920, \"trip_last_arrival_ts\": 37200, \"departure_hour\": 9, \"time_of_day\": \"AM Peak\", \"p25\": 0.63, \"p50\": 0.63, \"p75\": 0.63, \"p50_trip\": 1, \"fastest_trip\": 0, \"car_duration_hours\": 0.59, \"competitive_route\": 1, \"bus_multiplier\": 1.07, \"bus_difference\": 2.4, \"num_trips\": 31, \"num_competitive\": 31, \"pct_trips_competitive\": 1.0, \"bus_difference_spread\": 0.0, \"route_group\": \"short\", \"max_trip_hrs\": 0.63, \"max_trip_route_group\": 0.63, \"name\": \"City of Redondo Beach\", \"caltrans_district\": \"07 - Los Angeles\", \"drmt_organization_name\": null, \"cutoff2\": 20, \"cutoff\": 2}, {\"calitp_itp_id\": 260, \"trip_key\": -5735749424997332655, \"trip_id\": \"BCT102 SB_MF.T25\", \"shape_id\": \"BCT102 SB\", \"route_id\": \"BCT102 SB\", \"service_hours\": 0.63, \"trip_first_departure_ts\": 60780, \"trip_last_arrival_ts\": 63060, \"departure_hour\": 16, \"time_of_day\": \"Midday\", \"p25\": 0.63, \"p50\": 0.63, \"p75\": 0.63, \"p50_trip\": 1, \"fastest_trip\": 0, \"car_duration_hours\": 0.59, \"competitive_route\": 1, \"bus_multiplier\": 1.07, \"bus_difference\": 2.4, \"num_trips\": 31, \"num_competitive\": 31, \"pct_trips_competitive\": 1.0, \"bus_difference_spread\": 0.0, \"route_group\": \"short\", \"max_trip_hrs\": 0.63, \"max_trip_route_group\": 0.63, \"name\": \"City of Redondo Beach\", \"caltrans_district\": \"07 - Los Angeles\", \"drmt_organization_name\": null, \"cutoff2\": 20, \"cutoff\": 2}, {\"calitp_itp_id\": 260, \"trip_key\": 810308228482532214, \"trip_id\": \"BCT102 SB_MF.T02\", \"shape_id\": \"BCT102 SB\", \"route_id\": \"BCT102 SB\", \"service_hours\": 0.63, \"trip_first_departure_ts\": 24240, \"trip_last_arrival_ts\": 26520, \"departure_hour\": 6, \"time_of_day\": \"Owl Service\", \"p25\": 0.63, \"p50\": 0.63, \"p75\": 0.63, \"p50_trip\": 1, \"fastest_trip\": 0, \"car_duration_hours\": 0.59, \"competitive_route\": 1, \"bus_multiplier\": 1.07, \"bus_difference\": 2.4, \"num_trips\": 31, \"num_competitive\": 31, \"pct_trips_competitive\": 1.0, \"bus_difference_spread\": 0.0, \"route_group\": \"short\", \"max_trip_hrs\": 0.63, \"max_trip_route_group\": 0.63, \"name\": \"City of Redondo Beach\", \"caltrans_district\": \"07 - Los Angeles\", \"drmt_organization_name\": null, \"cutoff2\": 20, \"cutoff\": 2}, {\"calitp_itp_id\": 260, \"trip_key\": -2902071067911749990, \"trip_id\": \"BCT102 SB_MF.T31\", \"shape_id\": \"BCT102 SB\", \"route_id\": \"BCT102 SB\", \"service_hours\": 0.63, \"trip_first_departure_ts\": 71700, \"trip_last_arrival_ts\": 73980, \"departure_hour\": 19, \"time_of_day\": \"PM Peak\", \"p25\": 0.63, \"p50\": 0.63, \"p75\": 0.63, \"p50_trip\": 1, \"fastest_trip\": 0, \"car_duration_hours\": 0.59, \"competitive_route\": 1, \"bus_multiplier\": 1.07, \"bus_difference\": 2.4, \"num_trips\": 31, \"num_competitive\": 31, \"pct_trips_competitive\": 1.0, \"bus_difference_spread\": 0.0, \"route_group\": \"short\", \"max_trip_hrs\": 0.63, \"max_trip_route_group\": 0.63, \"name\": \"City of Redondo Beach\", \"caltrans_district\": \"07 - Los Angeles\", \"drmt_organization_name\": null, \"cutoff2\": 20, \"cutoff\": 2}, {\"calitp_itp_id\": 260, \"trip_key\": -4690143314967611854, \"trip_id\": \"BCT102 SB_MF.T20\", \"shape_id\": \"BCT102 SB\", \"route_id\": \"BCT102 SB\", \"service_hours\": 0.63, \"trip_first_departure_ts\": 51840, \"trip_last_arrival_ts\": 54120, \"departure_hour\": 14, \"time_of_day\": \"Midday\", \"p25\": 0.63, \"p50\": 0.63, \"p75\": 0.63, \"p50_trip\": 1, \"fastest_trip\": 0, \"car_duration_hours\": 0.59, \"competitive_route\": 1, \"bus_multiplier\": 1.07, \"bus_difference\": 2.4, \"num_trips\": 31, \"num_competitive\": 31, \"pct_trips_competitive\": 1.0, \"bus_difference_spread\": 0.0, \"route_group\": \"short\", \"max_trip_hrs\": 0.63, \"max_trip_route_group\": 0.63, \"name\": \"City of Redondo Beach\", \"caltrans_district\": \"07 - Los Angeles\", \"drmt_organization_name\": null, \"cutoff2\": 20, \"cutoff\": 2}, {\"calitp_itp_id\": 260, \"trip_key\": 929902077473829746, \"trip_id\": \"BCT102 SB_MF.T27\", \"shape_id\": \"BCT102 SB\", \"route_id\": \"BCT102 SB\", \"service_hours\": 0.63, \"trip_first_departure_ts\": 64380, \"trip_last_arrival_ts\": 66660, \"departure_hour\": 17, \"time_of_day\": \"PM Peak\", \"p25\": 0.63, \"p50\": 0.63, \"p75\": 0.63, \"p50_trip\": 1, \"fastest_trip\": 0, \"car_duration_hours\": 0.59, \"competitive_route\": 1, \"bus_multiplier\": 1.07, \"bus_difference\": 2.4, \"num_trips\": 31, \"num_competitive\": 31, \"pct_trips_competitive\": 1.0, \"bus_difference_spread\": 0.0, \"route_group\": \"short\", \"max_trip_hrs\": 0.63, \"max_trip_route_group\": 0.63, \"name\": \"City of Redondo Beach\", \"caltrans_district\": \"07 - Los Angeles\", \"drmt_organization_name\": null, \"cutoff2\": 20, \"cutoff\": 2}, {\"calitp_itp_id\": 260, \"trip_key\": -90858452867729391, \"trip_id\": \"BCT102 SB_MF.T19\", \"shape_id\": \"BCT102 SB\", \"route_id\": \"BCT102 SB\", \"service_hours\": 0.63, \"trip_first_departure_ts\": 50040, \"trip_last_arrival_ts\": 52320, \"departure_hour\": 13, \"time_of_day\": \"Midday\", \"p25\": 0.63, \"p50\": 0.63, \"p75\": 0.63, \"p50_trip\": 1, \"fastest_trip\": 0, \"car_duration_hours\": 0.59, \"competitive_route\": 1, \"bus_multiplier\": 1.07, \"bus_difference\": 2.4, \"num_trips\": 31, \"num_competitive\": 31, \"pct_trips_competitive\": 1.0, \"bus_difference_spread\": 0.0, \"route_group\": \"short\", \"max_trip_hrs\": 0.63, \"max_trip_route_group\": 0.63, \"name\": \"City of Redondo Beach\", \"caltrans_district\": \"07 - Los Angeles\", \"drmt_organization_name\": null, \"cutoff2\": 20, \"cutoff\": 2}, {\"calitp_itp_id\": 260, \"trip_key\": 8838309147655915020, \"trip_id\": \"BCT102 SB_MF.T21\", \"shape_id\": \"BCT102 SB\", \"route_id\": \"BCT102 SB\", \"service_hours\": 0.63, \"trip_first_departure_ts\": 53640, \"trip_last_arrival_ts\": 55920, \"departure_hour\": 14, \"time_of_day\": \"Midday\", \"p25\": 0.63, \"p50\": 0.63, \"p75\": 0.63, \"p50_trip\": 1, \"fastest_trip\": 0, \"car_duration_hours\": 0.59, \"competitive_route\": 1, \"bus_multiplier\": 1.07, \"bus_difference\": 2.4, \"num_trips\": 31, \"num_competitive\": 31, \"pct_trips_competitive\": 1.0, \"bus_difference_spread\": 0.0, \"route_group\": \"short\", \"max_trip_hrs\": 0.63, \"max_trip_route_group\": 0.63, \"name\": \"City of Redondo Beach\", \"caltrans_district\": \"07 - Los Angeles\", \"drmt_organization_name\": null, \"cutoff2\": 20, \"cutoff\": 2}, {\"calitp_itp_id\": 260, \"trip_key\": -8320198027851603441, \"trip_id\": \"BCT102 SB_MF.T09\", \"shape_id\": \"BCT102 SB\", \"route_id\": \"BCT102 SB\", \"service_hours\": 0.63, \"trip_first_departure_ts\": 31140, \"trip_last_arrival_ts\": 33420, \"departure_hour\": 8, \"time_of_day\": \"AM Peak\", \"p25\": 0.63, \"p50\": 0.63, \"p75\": 0.63, \"p50_trip\": 1, \"fastest_trip\": 0, \"car_duration_hours\": 0.59, \"competitive_route\": 1, \"bus_multiplier\": 1.07, \"bus_difference\": 2.4, \"num_trips\": 31, \"num_competitive\": 31, \"pct_trips_competitive\": 1.0, \"bus_difference_spread\": 0.0, \"route_group\": \"short\", \"max_trip_hrs\": 0.63, \"max_trip_route_group\": 0.63, \"name\": \"City of Redondo Beach\", \"caltrans_district\": \"07 - Los Angeles\", \"drmt_organization_name\": null, \"cutoff2\": 20, \"cutoff\": 2}, {\"calitp_itp_id\": 260, \"trip_key\": -3103483456625778491, \"trip_id\": \"BCT102 SB_MF.T14\", \"shape_id\": \"BCT102 SB\", \"route_id\": \"BCT102 SB\", \"service_hours\": 0.63, \"trip_first_departure_ts\": 40140, \"trip_last_arrival_ts\": 42420, \"departure_hour\": 11, \"time_of_day\": \"Midday\", \"p25\": 0.63, \"p50\": 0.63, \"p75\": 0.63, \"p50_trip\": 1, \"fastest_trip\": 0, \"car_duration_hours\": 0.59, \"competitive_route\": 1, \"bus_multiplier\": 1.07, \"bus_difference\": 2.4, \"num_trips\": 31, \"num_competitive\": 31, \"pct_trips_competitive\": 1.0, \"bus_difference_spread\": 0.0, \"route_group\": \"short\", \"max_trip_hrs\": 0.63, \"max_trip_route_group\": 0.63, \"name\": \"City of Redondo Beach\", \"caltrans_district\": \"07 - Los Angeles\", \"drmt_organization_name\": null, \"cutoff2\": 20, \"cutoff\": 2}, {\"calitp_itp_id\": 260, \"trip_key\": 1828916571418240004, \"trip_id\": \"BCT102 SB_MF.T16\", \"shape_id\": \"BCT102 SB\", \"route_id\": \"BCT102 SB\", \"service_hours\": 0.63, \"trip_first_departure_ts\": 43740, \"trip_last_arrival_ts\": 46020, \"departure_hour\": 12, \"time_of_day\": \"Midday\", \"p25\": 0.63, \"p50\": 0.63, \"p75\": 0.63, \"p50_trip\": 1, \"fastest_trip\": 0, \"car_duration_hours\": 0.59, \"competitive_route\": 1, \"bus_multiplier\": 1.07, \"bus_difference\": 2.4, \"num_trips\": 31, \"num_competitive\": 31, \"pct_trips_competitive\": 1.0, \"bus_difference_spread\": 0.0, \"route_group\": \"short\", \"max_trip_hrs\": 0.63, \"max_trip_route_group\": 0.63, \"name\": \"City of Redondo Beach\", \"caltrans_district\": \"07 - Los Angeles\", \"drmt_organization_name\": null, \"cutoff2\": 20, \"cutoff\": 2}, {\"calitp_itp_id\": 260, \"trip_key\": -4401258628786279744, \"trip_id\": \"BCT102 SB_MF.T17\", \"shape_id\": \"BCT102 SB\", \"route_id\": \"BCT102 SB\", \"service_hours\": 0.63, \"trip_first_departure_ts\": 45540, \"trip_last_arrival_ts\": 47820, \"departure_hour\": 12, \"time_of_day\": \"Midday\", \"p25\": 0.63, \"p50\": 0.63, \"p75\": 0.63, \"p50_trip\": 1, \"fastest_trip\": 0, \"car_duration_hours\": 0.59, \"competitive_route\": 1, \"bus_multiplier\": 1.07, \"bus_difference\": 2.4, \"num_trips\": 31, \"num_competitive\": 31, \"pct_trips_competitive\": 1.0, \"bus_difference_spread\": 0.0, \"route_group\": \"short\", \"max_trip_hrs\": 0.63, \"max_trip_route_group\": 0.63, \"name\": \"City of Redondo Beach\", \"caltrans_district\": \"07 - Los Angeles\", \"drmt_organization_name\": null, \"cutoff2\": 20, \"cutoff\": 2}, {\"calitp_itp_id\": 260, \"trip_key\": 3924681704903124640, \"trip_id\": \"BCT102 SB_MF.T23\", \"shape_id\": \"BCT102 SB\", \"route_id\": \"BCT102 SB\", \"service_hours\": 0.63, \"trip_first_departure_ts\": 57480, \"trip_last_arrival_ts\": 59760, \"departure_hour\": 15, \"time_of_day\": \"Midday\", \"p25\": 0.63, \"p50\": 0.63, \"p75\": 0.63, \"p50_trip\": 1, \"fastest_trip\": 0, \"car_duration_hours\": 0.59, \"competitive_route\": 1, \"bus_multiplier\": 1.07, \"bus_difference\": 2.4, \"num_trips\": 31, \"num_competitive\": 31, \"pct_trips_competitive\": 1.0, \"bus_difference_spread\": 0.0, \"route_group\": \"short\", \"max_trip_hrs\": 0.63, \"max_trip_route_group\": 0.63, \"name\": \"City of Redondo Beach\", \"caltrans_district\": \"07 - Los Angeles\", \"drmt_organization_name\": null, \"cutoff2\": 20, \"cutoff\": 2}, {\"calitp_itp_id\": 260, \"trip_key\": -3244853499214608810, \"trip_id\": \"BCT102 SB_MF.T22\", \"shape_id\": \"BCT102 SB\", \"route_id\": \"BCT102 SB\", \"service_hours\": 0.63, \"trip_first_departure_ts\": 55860, \"trip_last_arrival_ts\": 58140, \"departure_hour\": 15, \"time_of_day\": \"Midday\", \"p25\": 0.63, \"p50\": 0.63, \"p75\": 0.63, \"p50_trip\": 1, \"fastest_trip\": 0, \"car_duration_hours\": 0.59, \"competitive_route\": 1, \"bus_multiplier\": 1.07, \"bus_difference\": 2.4, \"num_trips\": 31, \"num_competitive\": 31, \"pct_trips_competitive\": 1.0, \"bus_difference_spread\": 0.0, \"route_group\": \"short\", \"max_trip_hrs\": 0.63, \"max_trip_route_group\": 0.63, \"name\": \"City of Redondo Beach\", \"caltrans_district\": \"07 - Los Angeles\", \"drmt_organization_name\": null, \"cutoff2\": 20, \"cutoff\": 2}, {\"calitp_itp_id\": 260, \"trip_key\": 5774528551612231024, \"trip_id\": \"BCT102 SB_MF.T26\", \"shape_id\": \"BCT102 SB\", \"route_id\": \"BCT102 SB\", \"service_hours\": 0.63, \"trip_first_departure_ts\": 62580, \"trip_last_arrival_ts\": 64860, \"departure_hour\": 17, \"time_of_day\": \"PM Peak\", \"p25\": 0.63, \"p50\": 0.63, \"p75\": 0.63, \"p50_trip\": 1, \"fastest_trip\": 0, \"car_duration_hours\": 0.59, \"competitive_route\": 1, \"bus_multiplier\": 1.07, \"bus_difference\": 2.4, \"num_trips\": 31, \"num_competitive\": 31, \"pct_trips_competitive\": 1.0, \"bus_difference_spread\": 0.0, \"route_group\": \"short\", \"max_trip_hrs\": 0.63, \"max_trip_route_group\": 0.63, \"name\": \"City of Redondo Beach\", \"caltrans_district\": \"07 - Los Angeles\", \"drmt_organization_name\": null, \"cutoff2\": 20, \"cutoff\": 2}, {\"calitp_itp_id\": 260, \"trip_key\": 8382291158281313618, \"trip_id\": \"BCT102 SB_MF.T10\", \"shape_id\": \"BCT102 SB\", \"route_id\": \"BCT102 SB\", \"service_hours\": 0.63, \"trip_first_departure_ts\": 33120, \"trip_last_arrival_ts\": 35400, \"departure_hour\": 9, \"time_of_day\": \"AM Peak\", \"p25\": 0.63, \"p50\": 0.63, \"p75\": 0.63, \"p50_trip\": 1, \"fastest_trip\": 0, \"car_duration_hours\": 0.59, \"competitive_route\": 1, \"bus_multiplier\": 1.07, \"bus_difference\": 2.4, \"num_trips\": 31, \"num_competitive\": 31, \"pct_trips_competitive\": 1.0, \"bus_difference_spread\": 0.0, \"route_group\": \"short\", \"max_trip_hrs\": 0.63, \"max_trip_route_group\": 0.63, \"name\": \"City of Redondo Beach\", \"caltrans_district\": \"07 - Los Angeles\", \"drmt_organization_name\": null, \"cutoff2\": 20, \"cutoff\": 2}, {\"calitp_itp_id\": 260, \"trip_key\": 6532390427287396813, \"trip_id\": \"BCT102 SB_MF.T12\", \"shape_id\": \"BCT102 SB\", \"route_id\": \"BCT102 SB\", \"service_hours\": 0.63, \"trip_first_departure_ts\": 36540, \"trip_last_arrival_ts\": 38820, \"departure_hour\": 10, \"time_of_day\": \"Midday\", \"p25\": 0.63, \"p50\": 0.63, \"p75\": 0.63, \"p50_trip\": 1, \"fastest_trip\": 0, \"car_duration_hours\": 0.59, \"competitive_route\": 1, \"bus_multiplier\": 1.07, \"bus_difference\": 2.4, \"num_trips\": 31, \"num_competitive\": 31, \"pct_trips_competitive\": 1.0, \"bus_difference_spread\": 0.0, \"route_group\": \"short\", \"max_trip_hrs\": 0.63, \"max_trip_route_group\": 0.63, \"name\": \"City of Redondo Beach\", \"caltrans_district\": \"07 - Los Angeles\", \"drmt_organization_name\": null, \"cutoff2\": 20, \"cutoff\": 2}, {\"calitp_itp_id\": 260, \"trip_key\": -8685734809874011135, \"trip_id\": \"BCT102 SB_MF.T13\", \"shape_id\": \"BCT102 SB\", \"route_id\": \"BCT102 SB\", \"service_hours\": 0.63, \"trip_first_departure_ts\": 38340, \"trip_last_arrival_ts\": 40620, \"departure_hour\": 10, \"time_of_day\": \"Midday\", \"p25\": 0.63, \"p50\": 0.63, \"p75\": 0.63, \"p50_trip\": 1, \"fastest_trip\": 0, \"car_duration_hours\": 0.59, \"competitive_route\": 1, \"bus_multiplier\": 1.07, \"bus_difference\": 2.4, \"num_trips\": 31, \"num_competitive\": 31, \"pct_trips_competitive\": 1.0, \"bus_difference_spread\": 0.0, \"route_group\": \"short\", \"max_trip_hrs\": 0.63, \"max_trip_route_group\": 0.63, \"name\": \"City of Redondo Beach\", \"caltrans_district\": \"07 - Los Angeles\", \"drmt_organization_name\": null, \"cutoff2\": 20, \"cutoff\": 2}, {\"calitp_itp_id\": 260, \"trip_key\": 8869313843031039602, \"trip_id\": \"BCT102 SB_MF.T03\", \"shape_id\": \"BCT102 SB\", \"route_id\": \"BCT102 SB\", \"service_hours\": 0.63, \"trip_first_departure_ts\": 25200, \"trip_last_arrival_ts\": 27480, \"departure_hour\": 7, \"time_of_day\": \"AM Peak\", \"p25\": 0.63, \"p50\": 0.63, \"p75\": 0.63, \"p50_trip\": 1, \"fastest_trip\": 0, \"car_duration_hours\": 0.59, \"competitive_route\": 1, \"bus_multiplier\": 1.07, \"bus_difference\": 2.4, \"num_trips\": 31, \"num_competitive\": 31, \"pct_trips_competitive\": 1.0, \"bus_difference_spread\": 0.0, \"route_group\": \"short\", \"max_trip_hrs\": 0.63, \"max_trip_route_group\": 0.63, \"name\": \"City of Redondo Beach\", \"caltrans_district\": \"07 - Los Angeles\", \"drmt_organization_name\": null, \"cutoff2\": 20, \"cutoff\": 2}, {\"calitp_itp_id\": 260, \"trip_key\": 4507958272068012161, \"trip_id\": \"BCT102 SB_MF.T05\", \"shape_id\": \"BCT102 SB\", \"route_id\": \"BCT102 SB\", \"service_hours\": 0.63, \"trip_first_departure_ts\": 25920, \"trip_last_arrival_ts\": 28200, \"departure_hour\": 7, \"time_of_day\": \"AM Peak\", \"p25\": 0.63, \"p50\": 0.63, \"p75\": 0.63, \"p50_trip\": 1, \"fastest_trip\": 0, \"car_duration_hours\": 0.59, \"competitive_route\": 1, \"bus_multiplier\": 1.07, \"bus_difference\": 2.4, \"num_trips\": 31, \"num_competitive\": 31, \"pct_trips_competitive\": 1.0, \"bus_difference_spread\": 0.0, \"route_group\": \"short\", \"max_trip_hrs\": 0.63, \"max_trip_route_group\": 0.63, \"name\": \"City of Redondo Beach\", \"caltrans_district\": \"07 - Los Angeles\", \"drmt_organization_name\": null, \"cutoff2\": 20, \"cutoff\": 2}, {\"calitp_itp_id\": 260, \"trip_key\": 1846954128314572841, \"trip_id\": \"BCT102 SB_MF.T24\", \"shape_id\": \"BCT102 SB\", \"route_id\": \"BCT102 SB\", \"service_hours\": 0.63, \"trip_first_departure_ts\": 58980, \"trip_last_arrival_ts\": 61260, \"departure_hour\": 16, \"time_of_day\": \"Midday\", \"p25\": 0.63, \"p50\": 0.63, \"p75\": 0.63, \"p50_trip\": 1, \"fastest_trip\": 0, \"car_duration_hours\": 0.59, \"competitive_route\": 1, \"bus_multiplier\": 1.07, \"bus_difference\": 2.4, \"num_trips\": 31, \"num_competitive\": 31, \"pct_trips_competitive\": 1.0, \"bus_difference_spread\": 0.0, \"route_group\": \"short\", \"max_trip_hrs\": 0.63, \"max_trip_route_group\": 0.63, \"name\": \"City of Redondo Beach\", \"caltrans_district\": \"07 - Los Angeles\", \"drmt_organization_name\": null, \"cutoff2\": 20, \"cutoff\": 2}, {\"calitp_itp_id\": 260, \"trip_key\": -3309727796545106649, \"trip_id\": \"BCT102 SB_MF.T07\", \"shape_id\": \"BCT102 SB\", \"route_id\": \"BCT102 SB\", \"service_hours\": 0.63, \"trip_first_departure_ts\": 27720, \"trip_last_arrival_ts\": 30000, \"departure_hour\": 7, \"time_of_day\": \"AM Peak\", \"p25\": 0.63, \"p50\": 0.63, \"p75\": 0.63, \"p50_trip\": 1, \"fastest_trip\": 0, \"car_duration_hours\": 0.59, \"competitive_route\": 1, \"bus_multiplier\": 1.07, \"bus_difference\": 2.4, \"num_trips\": 31, \"num_competitive\": 31, \"pct_trips_competitive\": 1.0, \"bus_difference_spread\": 0.0, \"route_group\": \"short\", \"max_trip_hrs\": 0.63, \"max_trip_route_group\": 0.63, \"name\": \"City of Redondo Beach\", \"caltrans_district\": \"07 - Los Angeles\", \"drmt_organization_name\": null, \"cutoff2\": 20, \"cutoff\": 2}, {\"calitp_itp_id\": 260, \"trip_key\": -1807960922360739503, \"trip_id\": \"BCT102 SB_MF.T06\", \"shape_id\": \"BCT102 SB\", \"route_id\": \"BCT102 SB\", \"service_hours\": 0.63, \"trip_first_departure_ts\": 26100, \"trip_last_arrival_ts\": 28380, \"departure_hour\": 7, \"time_of_day\": \"AM Peak\", \"p25\": 0.63, \"p50\": 0.63, \"p75\": 0.63, \"p50_trip\": 1, \"fastest_trip\": 0, \"car_duration_hours\": 0.59, \"competitive_route\": 1, \"bus_multiplier\": 1.07, \"bus_difference\": 2.4, \"num_trips\": 31, \"num_competitive\": 31, \"pct_trips_competitive\": 1.0, \"bus_difference_spread\": 0.0, \"route_group\": \"short\", \"max_trip_hrs\": 0.63, \"max_trip_route_group\": 0.63, \"name\": \"City of Redondo Beach\", \"caltrans_district\": \"07 - Los Angeles\", \"drmt_organization_name\": null, \"cutoff2\": 20, \"cutoff\": 2}]}}, {\"mode\": \"vega-lite\"});\n",
       "</script>"
      ],
      "text/plain": [
       "alt.FacetChart(...)"
      ]
     },
     "metadata": {},
     "output_type": "display_data"
    },
    {
     "data": {
      "text/html": [
       "\n",
       "<div id=\"altair-viz-e3dbcbd495af4065ba1f3b2f470a50fe\"></div>\n",
       "<script type=\"text/javascript\">\n",
       "  var VEGA_DEBUG = (typeof VEGA_DEBUG == \"undefined\") ? {} : VEGA_DEBUG;\n",
       "  (function(spec, embedOpt){\n",
       "    let outputDiv = document.currentScript.previousElementSibling;\n",
       "    if (outputDiv.id !== \"altair-viz-e3dbcbd495af4065ba1f3b2f470a50fe\") {\n",
       "      outputDiv = document.getElementById(\"altair-viz-e3dbcbd495af4065ba1f3b2f470a50fe\");\n",
       "    }\n",
       "    const paths = {\n",
       "      \"vega\": \"https://cdn.jsdelivr.net/npm//vega@5?noext\",\n",
       "      \"vega-lib\": \"https://cdn.jsdelivr.net/npm//vega-lib?noext\",\n",
       "      \"vega-lite\": \"https://cdn.jsdelivr.net/npm//vega-lite@4.17.0?noext\",\n",
       "      \"vega-embed\": \"https://cdn.jsdelivr.net/npm//vega-embed@6?noext\",\n",
       "    };\n",
       "\n",
       "    function maybeLoadScript(lib, version) {\n",
       "      var key = `${lib.replace(\"-\", \"\")}_version`;\n",
       "      return (VEGA_DEBUG[key] == version) ?\n",
       "        Promise.resolve(paths[lib]) :\n",
       "        new Promise(function(resolve, reject) {\n",
       "          var s = document.createElement('script');\n",
       "          document.getElementsByTagName(\"head\")[0].appendChild(s);\n",
       "          s.async = true;\n",
       "          s.onload = () => {\n",
       "            VEGA_DEBUG[key] = version;\n",
       "            return resolve(paths[lib]);\n",
       "          };\n",
       "          s.onerror = () => reject(`Error loading script: ${paths[lib]}`);\n",
       "          s.src = paths[lib];\n",
       "        });\n",
       "    }\n",
       "\n",
       "    function showError(err) {\n",
       "      outputDiv.innerHTML = `<div class=\"error\" style=\"color:red;\">${err}</div>`;\n",
       "      throw err;\n",
       "    }\n",
       "\n",
       "    function displayChart(vegaEmbed) {\n",
       "      vegaEmbed(outputDiv, spec, embedOpt)\n",
       "        .catch(err => showError(`Javascript Error: ${err.message}<br>This usually means there's a typo in your chart specification. See the javascript console for the full traceback.`));\n",
       "    }\n",
       "\n",
       "    if(typeof define === \"function\" && define.amd) {\n",
       "      requirejs.config({paths});\n",
       "      require([\"vega-embed\"], displayChart, err => showError(`Error loading script: ${err.message}`));\n",
       "    } else {\n",
       "      maybeLoadScript(\"vega\", \"5\")\n",
       "        .then(() => maybeLoadScript(\"vega-lite\", \"4.17.0\"))\n",
       "        .then(() => maybeLoadScript(\"vega-embed\", \"6\"))\n",
       "        .catch(showError)\n",
       "        .then(() => displayChart(vegaEmbed));\n",
       "    }\n",
       "  })({\"config\": {\"view\": {\"continuousWidth\": 400, \"continuousHeight\": 300, \"stroke\": null}, \"facet\": {\"spacing\": 0}}, \"data\": {\"name\": \"data-3ab8dab0a2245891024d8dd5e182f995\"}, \"facet\": {\"column\": {\"field\": \"route_id\", \"sort\": [\"BCT102 SB\"], \"title\": \"Route ID\", \"type\": \"nominal\"}}, \"spec\": {\"layer\": [{\"mark\": \"rule\", \"encoding\": {\"color\": {\"value\": \"black\"}, \"y\": {\"field\": \"cutoff\", \"type\": \"quantitative\"}}, \"selection\": {\"selector002\": {\"type\": \"interval\", \"bind\": \"scales\", \"encodings\": [\"x\", \"y\"]}}}, {\"mark\": {\"type\": \"rule\", \"strokeDash\": [3, 3]}, \"encoding\": {\"color\": {\"value\": \"#323434\"}, \"y\": {\"field\": \"cutoff2\", \"type\": \"quantitative\"}}}, {\"mark\": {\"type\": \"point\", \"opacity\": 0.65, \"size\": 12, \"strokeWidth\": 1.1}, \"encoding\": {\"color\": {\"field\": \"time_of_day\", \"scale\": {\"range\": [\"#136C97\", \"#E16B26\", \"#F6BF16\", \"#00896B\", \"#7790A3\", \"#5B559C\"]}, \"sort\": [\"AM Peak\", \"Midday\", \"PM Peak\", \"Owl Service\"], \"title\": \"Time of Day\", \"type\": \"nominal\"}, \"tooltip\": [{\"field\": \"route_id\", \"type\": \"nominal\"}, {\"field\": \"trip_id\", \"type\": \"nominal\"}, {\"field\": \"service_hours\", \"type\": \"quantitative\"}, {\"field\": \"car_duration_hours\", \"type\": \"quantitative\"}, {\"field\": \"bus_multiplier\", \"type\": \"quantitative\"}, {\"field\": \"bus_difference\", \"type\": \"quantitative\"}, {\"field\": \"num_trips\", \"type\": \"quantitative\"}, {\"field\": \"num_competitive\", \"type\": \"quantitative\"}, {\"field\": \"pct_trips_competitive\", \"type\": \"quantitative\"}, {\"field\": \"p25\", \"type\": \"quantitative\"}, {\"field\": \"p50\", \"type\": \"quantitative\"}, {\"field\": \"p75\", \"type\": \"quantitative\"}], \"x\": {\"axis\": {\"grid\": false, \"labels\": false, \"ticks\": true, \"values\": [0]}, \"field\": \"jitter\", \"scale\": {}, \"title\": null, \"type\": \"quantitative\"}, \"y\": {\"field\": \"bus_difference\", \"scale\": {\"domain\": [-5, 27.0]}, \"title\": \"Difference in Bus to Car Travel Time (min)\", \"type\": \"quantitative\"}}, \"transform\": [{\"calculate\": \"sqrt(-2*log(random()))*cos(2*PI*random())\", \"as\": \"jitter\"}], \"width\": 50}, {\"layer\": [{\"mark\": {\"type\": \"point\", \"opacity\": 0.6, \"size\": 20, \"strokeWidth\": 1.3}, \"encoding\": {\"color\": {\"value\": \"#323434\"}, \"y\": {\"field\": \"bus_difference\", \"type\": \"quantitative\"}}, \"transform\": [{\"filter\": \"(datum.p50_trip === 1)\"}]}, {\"mark\": {\"type\": \"text\", \"align\": \"center\", \"baseline\": \"middle\"}, \"encoding\": {\"color\": {\"value\": \"black\"}, \"text\": {\"field\": \"pct_trips_competitive\", \"format\": \".0%\", \"type\": \"quantitative\"}, \"tooltip\": [{\"field\": \"route_id\", \"type\": \"nominal\"}, {\"field\": \"trip_id\", \"type\": \"nominal\"}, {\"field\": \"service_hours\", \"type\": \"quantitative\"}, {\"field\": \"car_duration_hours\", \"type\": \"quantitative\"}, {\"field\": \"bus_multiplier\", \"type\": \"quantitative\"}, {\"field\": \"bus_difference\", \"type\": \"quantitative\"}, {\"field\": \"num_trips\", \"type\": \"quantitative\"}, {\"field\": \"num_competitive\", \"type\": \"quantitative\"}, {\"field\": \"pct_trips_competitive\", \"type\": \"quantitative\"}, {\"field\": \"p25\", \"type\": \"quantitative\"}, {\"field\": \"p50\", \"type\": \"quantitative\"}, {\"field\": \"p75\", \"type\": \"quantitative\"}], \"x\": {\"value\": 30}, \"y\": {\"value\": 15}}, \"transform\": [{\"calculate\": \"sqrt(-2*log(random()))*cos(2*PI*random())\", \"as\": \"jitter\"}, {\"filter\": \"(datum.fastest_trip === 1)\"}]}]}]}, \"resolve\": {\"scale\": {\"y\": \"shared\"}}, \"title\": \"Difference in Bus to Car Travel Time (min)\", \"$schema\": \"https://vega.github.io/schema/vega-lite/v4.17.0.json\", \"datasets\": {\"data-3ab8dab0a2245891024d8dd5e182f995\": [{\"calitp_itp_id\": 260, \"trip_key\": 5600594073510181254, \"trip_id\": \"BCT102 SB_MF.T15\", \"shape_id\": \"BCT102 SB\", \"route_id\": \"BCT102 SB\", \"service_hours\": 0.63, \"trip_first_departure_ts\": 41940, \"trip_last_arrival_ts\": 44220, \"departure_hour\": 11, \"time_of_day\": \"Midday\", \"p25\": 0.63, \"p50\": 0.63, \"p75\": 0.63, \"p50_trip\": 1, \"fastest_trip\": 0, \"car_duration_hours\": 0.59, \"competitive_route\": 1, \"bus_multiplier\": 1.07, \"bus_difference\": 2.4, \"num_trips\": 31, \"num_competitive\": 31, \"pct_trips_competitive\": 1.0, \"bus_difference_spread\": 0.0, \"route_group\": \"short\", \"max_trip_hrs\": 0.63, \"max_trip_route_group\": 0.63, \"name\": \"City of Redondo Beach\", \"caltrans_district\": \"07 - Los Angeles\", \"drmt_organization_name\": null, \"cutoff2\": 20, \"cutoff\": 0}, {\"calitp_itp_id\": 260, \"trip_key\": -5553955856524841021, \"trip_id\": \"BCT102 SB_MF.T30\", \"shape_id\": \"BCT102 SB\", \"route_id\": \"BCT102 SB\", \"service_hours\": 0.63, \"trip_first_departure_ts\": 69780, \"trip_last_arrival_ts\": 72060, \"departure_hour\": 19, \"time_of_day\": \"PM Peak\", \"p25\": 0.63, \"p50\": 0.63, \"p75\": 0.63, \"p50_trip\": 1, \"fastest_trip\": 1, \"car_duration_hours\": 0.59, \"competitive_route\": 1, \"bus_multiplier\": 1.07, \"bus_difference\": 2.4, \"num_trips\": 31, \"num_competitive\": 31, \"pct_trips_competitive\": 1.0, \"bus_difference_spread\": 0.0, \"route_group\": \"short\", \"max_trip_hrs\": 0.63, \"max_trip_route_group\": 0.63, \"name\": \"City of Redondo Beach\", \"caltrans_district\": \"07 - Los Angeles\", \"drmt_organization_name\": null, \"cutoff2\": 20, \"cutoff\": 0}, {\"calitp_itp_id\": 260, \"trip_key\": 8801839722880547986, \"trip_id\": \"BCT102 SB_MF.T29\", \"shape_id\": \"BCT102 SB\", \"route_id\": \"BCT102 SB\", \"service_hours\": 0.63, \"trip_first_departure_ts\": 67980, \"trip_last_arrival_ts\": 70260, \"departure_hour\": 18, \"time_of_day\": \"PM Peak\", \"p25\": 0.63, \"p50\": 0.63, \"p75\": 0.63, \"p50_trip\": 1, \"fastest_trip\": 0, \"car_duration_hours\": 0.59, \"competitive_route\": 1, \"bus_multiplier\": 1.07, \"bus_difference\": 2.4, \"num_trips\": 31, \"num_competitive\": 31, \"pct_trips_competitive\": 1.0, \"bus_difference_spread\": 0.0, \"route_group\": \"short\", \"max_trip_hrs\": 0.63, \"max_trip_route_group\": 0.63, \"name\": \"City of Redondo Beach\", \"caltrans_district\": \"07 - Los Angeles\", \"drmt_organization_name\": null, \"cutoff2\": 20, \"cutoff\": 0}, {\"calitp_itp_id\": 260, \"trip_key\": -215016114500874665, \"trip_id\": \"BCT102 SB_MF.T08\", \"shape_id\": \"BCT102 SB\", \"route_id\": \"BCT102 SB\", \"service_hours\": 0.63, \"trip_first_departure_ts\": 29520, \"trip_last_arrival_ts\": 31800, \"departure_hour\": 8, \"time_of_day\": \"AM Peak\", \"p25\": 0.63, \"p50\": 0.63, \"p75\": 0.63, \"p50_trip\": 1, \"fastest_trip\": 0, \"car_duration_hours\": 0.59, \"competitive_route\": 1, \"bus_multiplier\": 1.07, \"bus_difference\": 2.4, \"num_trips\": 31, \"num_competitive\": 31, \"pct_trips_competitive\": 1.0, \"bus_difference_spread\": 0.0, \"route_group\": \"short\", \"max_trip_hrs\": 0.63, \"max_trip_route_group\": 0.63, \"name\": \"City of Redondo Beach\", \"caltrans_district\": \"07 - Los Angeles\", \"drmt_organization_name\": null, \"cutoff2\": 20, \"cutoff\": 0}, {\"calitp_itp_id\": 260, \"trip_key\": 4157095849159416399, \"trip_id\": \"BCT102 SB_MF.T18\", \"shape_id\": \"BCT102 SB\", \"route_id\": \"BCT102 SB\", \"service_hours\": 0.63, \"trip_first_departure_ts\": 48240, \"trip_last_arrival_ts\": 50520, \"departure_hour\": 13, \"time_of_day\": \"Midday\", \"p25\": 0.63, \"p50\": 0.63, \"p75\": 0.63, \"p50_trip\": 1, \"fastest_trip\": 0, \"car_duration_hours\": 0.59, \"competitive_route\": 1, \"bus_multiplier\": 1.07, \"bus_difference\": 2.4, \"num_trips\": 31, \"num_competitive\": 31, \"pct_trips_competitive\": 1.0, \"bus_difference_spread\": 0.0, \"route_group\": \"short\", \"max_trip_hrs\": 0.63, \"max_trip_route_group\": 0.63, \"name\": \"City of Redondo Beach\", \"caltrans_district\": \"07 - Los Angeles\", \"drmt_organization_name\": null, \"cutoff2\": 20, \"cutoff\": 0}, {\"calitp_itp_id\": 260, \"trip_key\": 7870570428958274744, \"trip_id\": \"BCT102 SB_MF.T04\", \"shape_id\": \"BCT102 SB\", \"route_id\": \"BCT102 SB\", \"service_hours\": 0.63, \"trip_first_departure_ts\": 25500, \"trip_last_arrival_ts\": 27780, \"departure_hour\": 7, \"time_of_day\": \"AM Peak\", \"p25\": 0.63, \"p50\": 0.63, \"p75\": 0.63, \"p50_trip\": 1, \"fastest_trip\": 0, \"car_duration_hours\": 0.59, \"competitive_route\": 1, \"bus_multiplier\": 1.07, \"bus_difference\": 2.4, \"num_trips\": 31, \"num_competitive\": 31, \"pct_trips_competitive\": 1.0, \"bus_difference_spread\": 0.0, \"route_group\": \"short\", \"max_trip_hrs\": 0.63, \"max_trip_route_group\": 0.63, \"name\": \"City of Redondo Beach\", \"caltrans_district\": \"07 - Los Angeles\", \"drmt_organization_name\": null, \"cutoff2\": 20, \"cutoff\": 0}, {\"calitp_itp_id\": 260, \"trip_key\": 66336865387378607, \"trip_id\": \"BCT102 SB_MF.T28\", \"shape_id\": \"BCT102 SB\", \"route_id\": \"BCT102 SB\", \"service_hours\": 0.63, \"trip_first_departure_ts\": 66180, \"trip_last_arrival_ts\": 68460, \"departure_hour\": 18, \"time_of_day\": \"PM Peak\", \"p25\": 0.63, \"p50\": 0.63, \"p75\": 0.63, \"p50_trip\": 1, \"fastest_trip\": 0, \"car_duration_hours\": 0.59, \"competitive_route\": 1, \"bus_multiplier\": 1.07, \"bus_difference\": 2.4, \"num_trips\": 31, \"num_competitive\": 31, \"pct_trips_competitive\": 1.0, \"bus_difference_spread\": 0.0, \"route_group\": \"short\", \"max_trip_hrs\": 0.63, \"max_trip_route_group\": 0.63, \"name\": \"City of Redondo Beach\", \"caltrans_district\": \"07 - Los Angeles\", \"drmt_organization_name\": null, \"cutoff2\": 20, \"cutoff\": 0}, {\"calitp_itp_id\": 260, \"trip_key\": 1849295836178047209, \"trip_id\": \"BCT102 SB_MF.T01\", \"shape_id\": \"BCT102 SB\", \"route_id\": \"BCT102 SB\", \"service_hours\": 0.63, \"trip_first_departure_ts\": 22740, \"trip_last_arrival_ts\": 25020, \"departure_hour\": 6, \"time_of_day\": \"Owl Service\", \"p25\": 0.63, \"p50\": 0.63, \"p75\": 0.63, \"p50_trip\": 1, \"fastest_trip\": 0, \"car_duration_hours\": 0.59, \"competitive_route\": 1, \"bus_multiplier\": 1.07, \"bus_difference\": 2.4, \"num_trips\": 31, \"num_competitive\": 31, \"pct_trips_competitive\": 1.0, \"bus_difference_spread\": 0.0, \"route_group\": \"short\", \"max_trip_hrs\": 0.63, \"max_trip_route_group\": 0.63, \"name\": \"City of Redondo Beach\", \"caltrans_district\": \"07 - Los Angeles\", \"drmt_organization_name\": null, \"cutoff2\": 20, \"cutoff\": 0}, {\"calitp_itp_id\": 260, \"trip_key\": 8888593141944986521, \"trip_id\": \"BCT102 SB_MF.T11\", \"shape_id\": \"BCT102 SB\", \"route_id\": \"BCT102 SB\", \"service_hours\": 0.63, \"trip_first_departure_ts\": 34920, \"trip_last_arrival_ts\": 37200, \"departure_hour\": 9, \"time_of_day\": \"AM Peak\", \"p25\": 0.63, \"p50\": 0.63, \"p75\": 0.63, \"p50_trip\": 1, \"fastest_trip\": 0, \"car_duration_hours\": 0.59, \"competitive_route\": 1, \"bus_multiplier\": 1.07, \"bus_difference\": 2.4, \"num_trips\": 31, \"num_competitive\": 31, \"pct_trips_competitive\": 1.0, \"bus_difference_spread\": 0.0, \"route_group\": \"short\", \"max_trip_hrs\": 0.63, \"max_trip_route_group\": 0.63, \"name\": \"City of Redondo Beach\", \"caltrans_district\": \"07 - Los Angeles\", \"drmt_organization_name\": null, \"cutoff2\": 20, \"cutoff\": 0}, {\"calitp_itp_id\": 260, \"trip_key\": -5735749424997332655, \"trip_id\": \"BCT102 SB_MF.T25\", \"shape_id\": \"BCT102 SB\", \"route_id\": \"BCT102 SB\", \"service_hours\": 0.63, \"trip_first_departure_ts\": 60780, \"trip_last_arrival_ts\": 63060, \"departure_hour\": 16, \"time_of_day\": \"Midday\", \"p25\": 0.63, \"p50\": 0.63, \"p75\": 0.63, \"p50_trip\": 1, \"fastest_trip\": 0, \"car_duration_hours\": 0.59, \"competitive_route\": 1, \"bus_multiplier\": 1.07, \"bus_difference\": 2.4, \"num_trips\": 31, \"num_competitive\": 31, \"pct_trips_competitive\": 1.0, \"bus_difference_spread\": 0.0, \"route_group\": \"short\", \"max_trip_hrs\": 0.63, \"max_trip_route_group\": 0.63, \"name\": \"City of Redondo Beach\", \"caltrans_district\": \"07 - Los Angeles\", \"drmt_organization_name\": null, \"cutoff2\": 20, \"cutoff\": 0}, {\"calitp_itp_id\": 260, \"trip_key\": 810308228482532214, \"trip_id\": \"BCT102 SB_MF.T02\", \"shape_id\": \"BCT102 SB\", \"route_id\": \"BCT102 SB\", \"service_hours\": 0.63, \"trip_first_departure_ts\": 24240, \"trip_last_arrival_ts\": 26520, \"departure_hour\": 6, \"time_of_day\": \"Owl Service\", \"p25\": 0.63, \"p50\": 0.63, \"p75\": 0.63, \"p50_trip\": 1, \"fastest_trip\": 0, \"car_duration_hours\": 0.59, \"competitive_route\": 1, \"bus_multiplier\": 1.07, \"bus_difference\": 2.4, \"num_trips\": 31, \"num_competitive\": 31, \"pct_trips_competitive\": 1.0, \"bus_difference_spread\": 0.0, \"route_group\": \"short\", \"max_trip_hrs\": 0.63, \"max_trip_route_group\": 0.63, \"name\": \"City of Redondo Beach\", \"caltrans_district\": \"07 - Los Angeles\", \"drmt_organization_name\": null, \"cutoff2\": 20, \"cutoff\": 0}, {\"calitp_itp_id\": 260, \"trip_key\": -2902071067911749990, \"trip_id\": \"BCT102 SB_MF.T31\", \"shape_id\": \"BCT102 SB\", \"route_id\": \"BCT102 SB\", \"service_hours\": 0.63, \"trip_first_departure_ts\": 71700, \"trip_last_arrival_ts\": 73980, \"departure_hour\": 19, \"time_of_day\": \"PM Peak\", \"p25\": 0.63, \"p50\": 0.63, \"p75\": 0.63, \"p50_trip\": 1, \"fastest_trip\": 0, \"car_duration_hours\": 0.59, \"competitive_route\": 1, \"bus_multiplier\": 1.07, \"bus_difference\": 2.4, \"num_trips\": 31, \"num_competitive\": 31, \"pct_trips_competitive\": 1.0, \"bus_difference_spread\": 0.0, \"route_group\": \"short\", \"max_trip_hrs\": 0.63, \"max_trip_route_group\": 0.63, \"name\": \"City of Redondo Beach\", \"caltrans_district\": \"07 - Los Angeles\", \"drmt_organization_name\": null, \"cutoff2\": 20, \"cutoff\": 0}, {\"calitp_itp_id\": 260, \"trip_key\": -4690143314967611854, \"trip_id\": \"BCT102 SB_MF.T20\", \"shape_id\": \"BCT102 SB\", \"route_id\": \"BCT102 SB\", \"service_hours\": 0.63, \"trip_first_departure_ts\": 51840, \"trip_last_arrival_ts\": 54120, \"departure_hour\": 14, \"time_of_day\": \"Midday\", \"p25\": 0.63, \"p50\": 0.63, \"p75\": 0.63, \"p50_trip\": 1, \"fastest_trip\": 0, \"car_duration_hours\": 0.59, \"competitive_route\": 1, \"bus_multiplier\": 1.07, \"bus_difference\": 2.4, \"num_trips\": 31, \"num_competitive\": 31, \"pct_trips_competitive\": 1.0, \"bus_difference_spread\": 0.0, \"route_group\": \"short\", \"max_trip_hrs\": 0.63, \"max_trip_route_group\": 0.63, \"name\": \"City of Redondo Beach\", \"caltrans_district\": \"07 - Los Angeles\", \"drmt_organization_name\": null, \"cutoff2\": 20, \"cutoff\": 0}, {\"calitp_itp_id\": 260, \"trip_key\": 929902077473829746, \"trip_id\": \"BCT102 SB_MF.T27\", \"shape_id\": \"BCT102 SB\", \"route_id\": \"BCT102 SB\", \"service_hours\": 0.63, \"trip_first_departure_ts\": 64380, \"trip_last_arrival_ts\": 66660, \"departure_hour\": 17, \"time_of_day\": \"PM Peak\", \"p25\": 0.63, \"p50\": 0.63, \"p75\": 0.63, \"p50_trip\": 1, \"fastest_trip\": 0, \"car_duration_hours\": 0.59, \"competitive_route\": 1, \"bus_multiplier\": 1.07, \"bus_difference\": 2.4, \"num_trips\": 31, \"num_competitive\": 31, \"pct_trips_competitive\": 1.0, \"bus_difference_spread\": 0.0, \"route_group\": \"short\", \"max_trip_hrs\": 0.63, \"max_trip_route_group\": 0.63, \"name\": \"City of Redondo Beach\", \"caltrans_district\": \"07 - Los Angeles\", \"drmt_organization_name\": null, \"cutoff2\": 20, \"cutoff\": 0}, {\"calitp_itp_id\": 260, \"trip_key\": -90858452867729391, \"trip_id\": \"BCT102 SB_MF.T19\", \"shape_id\": \"BCT102 SB\", \"route_id\": \"BCT102 SB\", \"service_hours\": 0.63, \"trip_first_departure_ts\": 50040, \"trip_last_arrival_ts\": 52320, \"departure_hour\": 13, \"time_of_day\": \"Midday\", \"p25\": 0.63, \"p50\": 0.63, \"p75\": 0.63, \"p50_trip\": 1, \"fastest_trip\": 0, \"car_duration_hours\": 0.59, \"competitive_route\": 1, \"bus_multiplier\": 1.07, \"bus_difference\": 2.4, \"num_trips\": 31, \"num_competitive\": 31, \"pct_trips_competitive\": 1.0, \"bus_difference_spread\": 0.0, \"route_group\": \"short\", \"max_trip_hrs\": 0.63, \"max_trip_route_group\": 0.63, \"name\": \"City of Redondo Beach\", \"caltrans_district\": \"07 - Los Angeles\", \"drmt_organization_name\": null, \"cutoff2\": 20, \"cutoff\": 0}, {\"calitp_itp_id\": 260, \"trip_key\": 8838309147655915020, \"trip_id\": \"BCT102 SB_MF.T21\", \"shape_id\": \"BCT102 SB\", \"route_id\": \"BCT102 SB\", \"service_hours\": 0.63, \"trip_first_departure_ts\": 53640, \"trip_last_arrival_ts\": 55920, \"departure_hour\": 14, \"time_of_day\": \"Midday\", \"p25\": 0.63, \"p50\": 0.63, \"p75\": 0.63, \"p50_trip\": 1, \"fastest_trip\": 0, \"car_duration_hours\": 0.59, \"competitive_route\": 1, \"bus_multiplier\": 1.07, \"bus_difference\": 2.4, \"num_trips\": 31, \"num_competitive\": 31, \"pct_trips_competitive\": 1.0, \"bus_difference_spread\": 0.0, \"route_group\": \"short\", \"max_trip_hrs\": 0.63, \"max_trip_route_group\": 0.63, \"name\": \"City of Redondo Beach\", \"caltrans_district\": \"07 - Los Angeles\", \"drmt_organization_name\": null, \"cutoff2\": 20, \"cutoff\": 0}, {\"calitp_itp_id\": 260, \"trip_key\": -8320198027851603441, \"trip_id\": \"BCT102 SB_MF.T09\", \"shape_id\": \"BCT102 SB\", \"route_id\": \"BCT102 SB\", \"service_hours\": 0.63, \"trip_first_departure_ts\": 31140, \"trip_last_arrival_ts\": 33420, \"departure_hour\": 8, \"time_of_day\": \"AM Peak\", \"p25\": 0.63, \"p50\": 0.63, \"p75\": 0.63, \"p50_trip\": 1, \"fastest_trip\": 0, \"car_duration_hours\": 0.59, \"competitive_route\": 1, \"bus_multiplier\": 1.07, \"bus_difference\": 2.4, \"num_trips\": 31, \"num_competitive\": 31, \"pct_trips_competitive\": 1.0, \"bus_difference_spread\": 0.0, \"route_group\": \"short\", \"max_trip_hrs\": 0.63, \"max_trip_route_group\": 0.63, \"name\": \"City of Redondo Beach\", \"caltrans_district\": \"07 - Los Angeles\", \"drmt_organization_name\": null, \"cutoff2\": 20, \"cutoff\": 0}, {\"calitp_itp_id\": 260, \"trip_key\": -3103483456625778491, \"trip_id\": \"BCT102 SB_MF.T14\", \"shape_id\": \"BCT102 SB\", \"route_id\": \"BCT102 SB\", \"service_hours\": 0.63, \"trip_first_departure_ts\": 40140, \"trip_last_arrival_ts\": 42420, \"departure_hour\": 11, \"time_of_day\": \"Midday\", \"p25\": 0.63, \"p50\": 0.63, \"p75\": 0.63, \"p50_trip\": 1, \"fastest_trip\": 0, \"car_duration_hours\": 0.59, \"competitive_route\": 1, \"bus_multiplier\": 1.07, \"bus_difference\": 2.4, \"num_trips\": 31, \"num_competitive\": 31, \"pct_trips_competitive\": 1.0, \"bus_difference_spread\": 0.0, \"route_group\": \"short\", \"max_trip_hrs\": 0.63, \"max_trip_route_group\": 0.63, \"name\": \"City of Redondo Beach\", \"caltrans_district\": \"07 - Los Angeles\", \"drmt_organization_name\": null, \"cutoff2\": 20, \"cutoff\": 0}, {\"calitp_itp_id\": 260, \"trip_key\": 1828916571418240004, \"trip_id\": \"BCT102 SB_MF.T16\", \"shape_id\": \"BCT102 SB\", \"route_id\": \"BCT102 SB\", \"service_hours\": 0.63, \"trip_first_departure_ts\": 43740, \"trip_last_arrival_ts\": 46020, \"departure_hour\": 12, \"time_of_day\": \"Midday\", \"p25\": 0.63, \"p50\": 0.63, \"p75\": 0.63, \"p50_trip\": 1, \"fastest_trip\": 0, \"car_duration_hours\": 0.59, \"competitive_route\": 1, \"bus_multiplier\": 1.07, \"bus_difference\": 2.4, \"num_trips\": 31, \"num_competitive\": 31, \"pct_trips_competitive\": 1.0, \"bus_difference_spread\": 0.0, \"route_group\": \"short\", \"max_trip_hrs\": 0.63, \"max_trip_route_group\": 0.63, \"name\": \"City of Redondo Beach\", \"caltrans_district\": \"07 - Los Angeles\", \"drmt_organization_name\": null, \"cutoff2\": 20, \"cutoff\": 0}, {\"calitp_itp_id\": 260, \"trip_key\": -4401258628786279744, \"trip_id\": \"BCT102 SB_MF.T17\", \"shape_id\": \"BCT102 SB\", \"route_id\": \"BCT102 SB\", \"service_hours\": 0.63, \"trip_first_departure_ts\": 45540, \"trip_last_arrival_ts\": 47820, \"departure_hour\": 12, \"time_of_day\": \"Midday\", \"p25\": 0.63, \"p50\": 0.63, \"p75\": 0.63, \"p50_trip\": 1, \"fastest_trip\": 0, \"car_duration_hours\": 0.59, \"competitive_route\": 1, \"bus_multiplier\": 1.07, \"bus_difference\": 2.4, \"num_trips\": 31, \"num_competitive\": 31, \"pct_trips_competitive\": 1.0, \"bus_difference_spread\": 0.0, \"route_group\": \"short\", \"max_trip_hrs\": 0.63, \"max_trip_route_group\": 0.63, \"name\": \"City of Redondo Beach\", \"caltrans_district\": \"07 - Los Angeles\", \"drmt_organization_name\": null, \"cutoff2\": 20, \"cutoff\": 0}, {\"calitp_itp_id\": 260, \"trip_key\": 3924681704903124640, \"trip_id\": \"BCT102 SB_MF.T23\", \"shape_id\": \"BCT102 SB\", \"route_id\": \"BCT102 SB\", \"service_hours\": 0.63, \"trip_first_departure_ts\": 57480, \"trip_last_arrival_ts\": 59760, \"departure_hour\": 15, \"time_of_day\": \"Midday\", \"p25\": 0.63, \"p50\": 0.63, \"p75\": 0.63, \"p50_trip\": 1, \"fastest_trip\": 0, \"car_duration_hours\": 0.59, \"competitive_route\": 1, \"bus_multiplier\": 1.07, \"bus_difference\": 2.4, \"num_trips\": 31, \"num_competitive\": 31, \"pct_trips_competitive\": 1.0, \"bus_difference_spread\": 0.0, \"route_group\": \"short\", \"max_trip_hrs\": 0.63, \"max_trip_route_group\": 0.63, \"name\": \"City of Redondo Beach\", \"caltrans_district\": \"07 - Los Angeles\", \"drmt_organization_name\": null, \"cutoff2\": 20, \"cutoff\": 0}, {\"calitp_itp_id\": 260, \"trip_key\": -3244853499214608810, \"trip_id\": \"BCT102 SB_MF.T22\", \"shape_id\": \"BCT102 SB\", \"route_id\": \"BCT102 SB\", \"service_hours\": 0.63, \"trip_first_departure_ts\": 55860, \"trip_last_arrival_ts\": 58140, \"departure_hour\": 15, \"time_of_day\": \"Midday\", \"p25\": 0.63, \"p50\": 0.63, \"p75\": 0.63, \"p50_trip\": 1, \"fastest_trip\": 0, \"car_duration_hours\": 0.59, \"competitive_route\": 1, \"bus_multiplier\": 1.07, \"bus_difference\": 2.4, \"num_trips\": 31, \"num_competitive\": 31, \"pct_trips_competitive\": 1.0, \"bus_difference_spread\": 0.0, \"route_group\": \"short\", \"max_trip_hrs\": 0.63, \"max_trip_route_group\": 0.63, \"name\": \"City of Redondo Beach\", \"caltrans_district\": \"07 - Los Angeles\", \"drmt_organization_name\": null, \"cutoff2\": 20, \"cutoff\": 0}, {\"calitp_itp_id\": 260, \"trip_key\": 5774528551612231024, \"trip_id\": \"BCT102 SB_MF.T26\", \"shape_id\": \"BCT102 SB\", \"route_id\": \"BCT102 SB\", \"service_hours\": 0.63, \"trip_first_departure_ts\": 62580, \"trip_last_arrival_ts\": 64860, \"departure_hour\": 17, \"time_of_day\": \"PM Peak\", \"p25\": 0.63, \"p50\": 0.63, \"p75\": 0.63, \"p50_trip\": 1, \"fastest_trip\": 0, \"car_duration_hours\": 0.59, \"competitive_route\": 1, \"bus_multiplier\": 1.07, \"bus_difference\": 2.4, \"num_trips\": 31, \"num_competitive\": 31, \"pct_trips_competitive\": 1.0, \"bus_difference_spread\": 0.0, \"route_group\": \"short\", \"max_trip_hrs\": 0.63, \"max_trip_route_group\": 0.63, \"name\": \"City of Redondo Beach\", \"caltrans_district\": \"07 - Los Angeles\", \"drmt_organization_name\": null, \"cutoff2\": 20, \"cutoff\": 0}, {\"calitp_itp_id\": 260, \"trip_key\": 8382291158281313618, \"trip_id\": \"BCT102 SB_MF.T10\", \"shape_id\": \"BCT102 SB\", \"route_id\": \"BCT102 SB\", \"service_hours\": 0.63, \"trip_first_departure_ts\": 33120, \"trip_last_arrival_ts\": 35400, \"departure_hour\": 9, \"time_of_day\": \"AM Peak\", \"p25\": 0.63, \"p50\": 0.63, \"p75\": 0.63, \"p50_trip\": 1, \"fastest_trip\": 0, \"car_duration_hours\": 0.59, \"competitive_route\": 1, \"bus_multiplier\": 1.07, \"bus_difference\": 2.4, \"num_trips\": 31, \"num_competitive\": 31, \"pct_trips_competitive\": 1.0, \"bus_difference_spread\": 0.0, \"route_group\": \"short\", \"max_trip_hrs\": 0.63, \"max_trip_route_group\": 0.63, \"name\": \"City of Redondo Beach\", \"caltrans_district\": \"07 - Los Angeles\", \"drmt_organization_name\": null, \"cutoff2\": 20, \"cutoff\": 0}, {\"calitp_itp_id\": 260, \"trip_key\": 6532390427287396813, \"trip_id\": \"BCT102 SB_MF.T12\", \"shape_id\": \"BCT102 SB\", \"route_id\": \"BCT102 SB\", \"service_hours\": 0.63, \"trip_first_departure_ts\": 36540, \"trip_last_arrival_ts\": 38820, \"departure_hour\": 10, \"time_of_day\": \"Midday\", \"p25\": 0.63, \"p50\": 0.63, \"p75\": 0.63, \"p50_trip\": 1, \"fastest_trip\": 0, \"car_duration_hours\": 0.59, \"competitive_route\": 1, \"bus_multiplier\": 1.07, \"bus_difference\": 2.4, \"num_trips\": 31, \"num_competitive\": 31, \"pct_trips_competitive\": 1.0, \"bus_difference_spread\": 0.0, \"route_group\": \"short\", \"max_trip_hrs\": 0.63, \"max_trip_route_group\": 0.63, \"name\": \"City of Redondo Beach\", \"caltrans_district\": \"07 - Los Angeles\", \"drmt_organization_name\": null, \"cutoff2\": 20, \"cutoff\": 0}, {\"calitp_itp_id\": 260, \"trip_key\": -8685734809874011135, \"trip_id\": \"BCT102 SB_MF.T13\", \"shape_id\": \"BCT102 SB\", \"route_id\": \"BCT102 SB\", \"service_hours\": 0.63, \"trip_first_departure_ts\": 38340, \"trip_last_arrival_ts\": 40620, \"departure_hour\": 10, \"time_of_day\": \"Midday\", \"p25\": 0.63, \"p50\": 0.63, \"p75\": 0.63, \"p50_trip\": 1, \"fastest_trip\": 0, \"car_duration_hours\": 0.59, \"competitive_route\": 1, \"bus_multiplier\": 1.07, \"bus_difference\": 2.4, \"num_trips\": 31, \"num_competitive\": 31, \"pct_trips_competitive\": 1.0, \"bus_difference_spread\": 0.0, \"route_group\": \"short\", \"max_trip_hrs\": 0.63, \"max_trip_route_group\": 0.63, \"name\": \"City of Redondo Beach\", \"caltrans_district\": \"07 - Los Angeles\", \"drmt_organization_name\": null, \"cutoff2\": 20, \"cutoff\": 0}, {\"calitp_itp_id\": 260, \"trip_key\": 8869313843031039602, \"trip_id\": \"BCT102 SB_MF.T03\", \"shape_id\": \"BCT102 SB\", \"route_id\": \"BCT102 SB\", \"service_hours\": 0.63, \"trip_first_departure_ts\": 25200, \"trip_last_arrival_ts\": 27480, \"departure_hour\": 7, \"time_of_day\": \"AM Peak\", \"p25\": 0.63, \"p50\": 0.63, \"p75\": 0.63, \"p50_trip\": 1, \"fastest_trip\": 0, \"car_duration_hours\": 0.59, \"competitive_route\": 1, \"bus_multiplier\": 1.07, \"bus_difference\": 2.4, \"num_trips\": 31, \"num_competitive\": 31, \"pct_trips_competitive\": 1.0, \"bus_difference_spread\": 0.0, \"route_group\": \"short\", \"max_trip_hrs\": 0.63, \"max_trip_route_group\": 0.63, \"name\": \"City of Redondo Beach\", \"caltrans_district\": \"07 - Los Angeles\", \"drmt_organization_name\": null, \"cutoff2\": 20, \"cutoff\": 0}, {\"calitp_itp_id\": 260, \"trip_key\": 4507958272068012161, \"trip_id\": \"BCT102 SB_MF.T05\", \"shape_id\": \"BCT102 SB\", \"route_id\": \"BCT102 SB\", \"service_hours\": 0.63, \"trip_first_departure_ts\": 25920, \"trip_last_arrival_ts\": 28200, \"departure_hour\": 7, \"time_of_day\": \"AM Peak\", \"p25\": 0.63, \"p50\": 0.63, \"p75\": 0.63, \"p50_trip\": 1, \"fastest_trip\": 0, \"car_duration_hours\": 0.59, \"competitive_route\": 1, \"bus_multiplier\": 1.07, \"bus_difference\": 2.4, \"num_trips\": 31, \"num_competitive\": 31, \"pct_trips_competitive\": 1.0, \"bus_difference_spread\": 0.0, \"route_group\": \"short\", \"max_trip_hrs\": 0.63, \"max_trip_route_group\": 0.63, \"name\": \"City of Redondo Beach\", \"caltrans_district\": \"07 - Los Angeles\", \"drmt_organization_name\": null, \"cutoff2\": 20, \"cutoff\": 0}, {\"calitp_itp_id\": 260, \"trip_key\": 1846954128314572841, \"trip_id\": \"BCT102 SB_MF.T24\", \"shape_id\": \"BCT102 SB\", \"route_id\": \"BCT102 SB\", \"service_hours\": 0.63, \"trip_first_departure_ts\": 58980, \"trip_last_arrival_ts\": 61260, \"departure_hour\": 16, \"time_of_day\": \"Midday\", \"p25\": 0.63, \"p50\": 0.63, \"p75\": 0.63, \"p50_trip\": 1, \"fastest_trip\": 0, \"car_duration_hours\": 0.59, \"competitive_route\": 1, \"bus_multiplier\": 1.07, \"bus_difference\": 2.4, \"num_trips\": 31, \"num_competitive\": 31, \"pct_trips_competitive\": 1.0, \"bus_difference_spread\": 0.0, \"route_group\": \"short\", \"max_trip_hrs\": 0.63, \"max_trip_route_group\": 0.63, \"name\": \"City of Redondo Beach\", \"caltrans_district\": \"07 - Los Angeles\", \"drmt_organization_name\": null, \"cutoff2\": 20, \"cutoff\": 0}, {\"calitp_itp_id\": 260, \"trip_key\": -3309727796545106649, \"trip_id\": \"BCT102 SB_MF.T07\", \"shape_id\": \"BCT102 SB\", \"route_id\": \"BCT102 SB\", \"service_hours\": 0.63, \"trip_first_departure_ts\": 27720, \"trip_last_arrival_ts\": 30000, \"departure_hour\": 7, \"time_of_day\": \"AM Peak\", \"p25\": 0.63, \"p50\": 0.63, \"p75\": 0.63, \"p50_trip\": 1, \"fastest_trip\": 0, \"car_duration_hours\": 0.59, \"competitive_route\": 1, \"bus_multiplier\": 1.07, \"bus_difference\": 2.4, \"num_trips\": 31, \"num_competitive\": 31, \"pct_trips_competitive\": 1.0, \"bus_difference_spread\": 0.0, \"route_group\": \"short\", \"max_trip_hrs\": 0.63, \"max_trip_route_group\": 0.63, \"name\": \"City of Redondo Beach\", \"caltrans_district\": \"07 - Los Angeles\", \"drmt_organization_name\": null, \"cutoff2\": 20, \"cutoff\": 0}, {\"calitp_itp_id\": 260, \"trip_key\": -1807960922360739503, \"trip_id\": \"BCT102 SB_MF.T06\", \"shape_id\": \"BCT102 SB\", \"route_id\": \"BCT102 SB\", \"service_hours\": 0.63, \"trip_first_departure_ts\": 26100, \"trip_last_arrival_ts\": 28380, \"departure_hour\": 7, \"time_of_day\": \"AM Peak\", \"p25\": 0.63, \"p50\": 0.63, \"p75\": 0.63, \"p50_trip\": 1, \"fastest_trip\": 0, \"car_duration_hours\": 0.59, \"competitive_route\": 1, \"bus_multiplier\": 1.07, \"bus_difference\": 2.4, \"num_trips\": 31, \"num_competitive\": 31, \"pct_trips_competitive\": 1.0, \"bus_difference_spread\": 0.0, \"route_group\": \"short\", \"max_trip_hrs\": 0.63, \"max_trip_route_group\": 0.63, \"name\": \"City of Redondo Beach\", \"caltrans_district\": \"07 - Los Angeles\", \"drmt_organization_name\": null, \"cutoff2\": 20, \"cutoff\": 0}]}}, {\"mode\": \"vega-lite\"});\n",
       "</script>"
      ],
      "text/plain": [
       "alt.FacetChart(...)"
      ]
     },
     "metadata": {},
     "output_type": "display_data"
    }
   ],
   "source": [
    "# Allow for possibility that operator doesn't have routes that fall into certain route_groups\n",
    "# But, jupyterbook will not like markdown with f-string\n",
    "# separate out route_group and put in each cell, and use try/except + if to display...\n",
    "# but all 3 route groups must be displayed. just add sentence about why no routes were returned at the end\n",
    "route_group = \"short\"\n",
    "try:\n",
    "    display_charts_for_route_group(df, route_group)\n",
    "except:\n",
    "    print(\"No routes meet this criteria.\")"
   ]
  },
  {
   "cell_type": "markdown",
   "id": "c2931b6f-034d-4384-9e14-80b925e3b820",
   "metadata": {
    "papermill": {
     "duration": 0.018284,
     "end_time": "2022-05-09T20:09:25.559220",
     "exception": false,
     "start_time": "2022-05-09T20:09:25.540936",
     "status": "completed"
    },
    "tags": []
   },
   "source": [
    "### Medium Routes (1-1.5 hrs)"
   ]
  },
  {
   "cell_type": "code",
   "execution_count": 14,
   "id": "480edddc-4de0-48c2-ae4c-b0ceef8f28b5",
   "metadata": {
    "execution": {
     "iopub.execute_input": "2022-05-09T20:09:25.597188Z",
     "iopub.status.busy": "2022-05-09T20:09:25.595968Z",
     "iopub.status.idle": "2022-05-09T20:09:25.883715Z",
     "shell.execute_reply": "2022-05-09T20:09:25.882208Z"
    },
    "jupyter": {
     "source_hidden": true
    },
    "papermill": {
     "duration": 0.310839,
     "end_time": "2022-05-09T20:09:25.887543",
     "exception": false,
     "start_time": "2022-05-09T20:09:25.576704",
     "status": "completed"
    },
    "tags": [
     "remove_input"
    ]
   },
   "outputs": [
    {
     "data": {
      "text/markdown": [
       "<br>These are routes that have **at least 25% of their trips take no more than an additional 30 min** compared to a car (up to 15 routes) are shown.<br>Within each route group, routes are sorted in descending order by % competitive trips and # trips below the additional time cut-off."
      ],
      "text/plain": [
       "<IPython.core.display.Markdown object>"
      ]
     },
     "metadata": {},
     "output_type": "display_data"
    },
    {
     "data": {
      "text/html": [
       "\n",
       "<div id=\"altair-viz-52aaf24f7cea41618af5b95ba698a965\"></div>\n",
       "<script type=\"text/javascript\">\n",
       "  var VEGA_DEBUG = (typeof VEGA_DEBUG == \"undefined\") ? {} : VEGA_DEBUG;\n",
       "  (function(spec, embedOpt){\n",
       "    let outputDiv = document.currentScript.previousElementSibling;\n",
       "    if (outputDiv.id !== \"altair-viz-52aaf24f7cea41618af5b95ba698a965\") {\n",
       "      outputDiv = document.getElementById(\"altair-viz-52aaf24f7cea41618af5b95ba698a965\");\n",
       "    }\n",
       "    const paths = {\n",
       "      \"vega\": \"https://cdn.jsdelivr.net/npm//vega@5?noext\",\n",
       "      \"vega-lib\": \"https://cdn.jsdelivr.net/npm//vega-lib?noext\",\n",
       "      \"vega-lite\": \"https://cdn.jsdelivr.net/npm//vega-lite@4.17.0?noext\",\n",
       "      \"vega-embed\": \"https://cdn.jsdelivr.net/npm//vega-embed@6?noext\",\n",
       "    };\n",
       "\n",
       "    function maybeLoadScript(lib, version) {\n",
       "      var key = `${lib.replace(\"-\", \"\")}_version`;\n",
       "      return (VEGA_DEBUG[key] == version) ?\n",
       "        Promise.resolve(paths[lib]) :\n",
       "        new Promise(function(resolve, reject) {\n",
       "          var s = document.createElement('script');\n",
       "          document.getElementsByTagName(\"head\")[0].appendChild(s);\n",
       "          s.async = true;\n",
       "          s.onload = () => {\n",
       "            VEGA_DEBUG[key] = version;\n",
       "            return resolve(paths[lib]);\n",
       "          };\n",
       "          s.onerror = () => reject(`Error loading script: ${paths[lib]}`);\n",
       "          s.src = paths[lib];\n",
       "        });\n",
       "    }\n",
       "\n",
       "    function showError(err) {\n",
       "      outputDiv.innerHTML = `<div class=\"error\" style=\"color:red;\">${err}</div>`;\n",
       "      throw err;\n",
       "    }\n",
       "\n",
       "    function displayChart(vegaEmbed) {\n",
       "      vegaEmbed(outputDiv, spec, embedOpt)\n",
       "        .catch(err => showError(`Javascript Error: ${err.message}<br>This usually means there's a typo in your chart specification. See the javascript console for the full traceback.`));\n",
       "    }\n",
       "\n",
       "    if(typeof define === \"function\" && define.amd) {\n",
       "      requirejs.config({paths});\n",
       "      require([\"vega-embed\"], displayChart, err => showError(`Error loading script: ${err.message}`));\n",
       "    } else {\n",
       "      maybeLoadScript(\"vega\", \"5\")\n",
       "        .then(() => maybeLoadScript(\"vega-lite\", \"4.17.0\"))\n",
       "        .then(() => maybeLoadScript(\"vega-embed\", \"6\"))\n",
       "        .catch(showError)\n",
       "        .then(() => displayChart(vegaEmbed));\n",
       "    }\n",
       "  })({\"config\": {\"view\": {\"continuousWidth\": 400, \"continuousHeight\": 300, \"stroke\": null}, \"facet\": {\"spacing\": 0}}, \"data\": {\"name\": \"data-811a8aa9ace593797df401cca9af4e92\"}, \"facet\": {\"column\": {\"field\": \"route_id\", \"sort\": [\"BCT109 NB\", \"BCT109 SB\"], \"title\": \"Route ID\", \"type\": \"nominal\"}}, \"spec\": {\"layer\": [{\"mark\": \"rule\", \"encoding\": {\"color\": {\"value\": \"black\"}, \"y\": {\"field\": \"cutoff\", \"type\": \"quantitative\"}}, \"selection\": {\"selector003\": {\"type\": \"interval\", \"bind\": \"scales\", \"encodings\": [\"x\", \"y\"]}}}, {\"mark\": {\"type\": \"point\", \"opacity\": 0.65, \"size\": 12, \"strokeWidth\": 1.1}, \"encoding\": {\"color\": {\"field\": \"time_of_day\", \"scale\": {\"range\": [\"#136C97\", \"#E16B26\", \"#F6BF16\", \"#00896B\", \"#7790A3\", \"#5B559C\"]}, \"sort\": [\"AM Peak\", \"Midday\", \"PM Peak\", \"Owl Service\"], \"title\": \"Time of Day\", \"type\": \"nominal\"}, \"tooltip\": [{\"field\": \"route_id\", \"type\": \"nominal\"}, {\"field\": \"trip_id\", \"type\": \"nominal\"}, {\"field\": \"service_hours\", \"type\": \"quantitative\"}, {\"field\": \"car_duration_hours\", \"type\": \"quantitative\"}, {\"field\": \"bus_multiplier\", \"type\": \"quantitative\"}, {\"field\": \"bus_difference\", \"type\": \"quantitative\"}, {\"field\": \"num_trips\", \"type\": \"quantitative\"}, {\"field\": \"num_competitive\", \"type\": \"quantitative\"}, {\"field\": \"pct_trips_competitive\", \"type\": \"quantitative\"}, {\"field\": \"p25\", \"type\": \"quantitative\"}, {\"field\": \"p50\", \"type\": \"quantitative\"}, {\"field\": \"p75\", \"type\": \"quantitative\"}], \"x\": {\"axis\": {\"grid\": false, \"labels\": false, \"ticks\": true, \"values\": [0]}, \"field\": \"jitter\", \"scale\": {}, \"title\": null, \"type\": \"quantitative\"}, \"y\": {\"field\": \"bus_multiplier\", \"scale\": {\"domain\": [-0.25, 2.5]}, \"title\": \"Ratio of Bus to Car Travel Time\", \"type\": \"quantitative\"}}, \"transform\": [{\"calculate\": \"sqrt(-2*log(random()))*cos(2*PI*random())\", \"as\": \"jitter\"}], \"width\": 50}, {\"layer\": [{\"mark\": {\"type\": \"point\", \"opacity\": 0.6, \"size\": 20, \"strokeWidth\": 1.3}, \"encoding\": {\"color\": {\"value\": \"#323434\"}, \"y\": {\"field\": \"bus_multiplier\", \"type\": \"quantitative\"}}, \"transform\": [{\"filter\": \"(datum.p50_trip === 1)\"}]}, {\"mark\": {\"type\": \"text\", \"align\": \"center\", \"baseline\": \"middle\"}, \"encoding\": {\"color\": {\"value\": \"black\"}, \"text\": {\"field\": \"pct_trips_competitive\", \"format\": \".0%\", \"type\": \"quantitative\"}, \"tooltip\": [{\"field\": \"route_id\", \"type\": \"nominal\"}, {\"field\": \"trip_id\", \"type\": \"nominal\"}, {\"field\": \"service_hours\", \"type\": \"quantitative\"}, {\"field\": \"car_duration_hours\", \"type\": \"quantitative\"}, {\"field\": \"bus_multiplier\", \"type\": \"quantitative\"}, {\"field\": \"bus_difference\", \"type\": \"quantitative\"}, {\"field\": \"num_trips\", \"type\": \"quantitative\"}, {\"field\": \"num_competitive\", \"type\": \"quantitative\"}, {\"field\": \"pct_trips_competitive\", \"type\": \"quantitative\"}, {\"field\": \"p25\", \"type\": \"quantitative\"}, {\"field\": \"p50\", \"type\": \"quantitative\"}, {\"field\": \"p75\", \"type\": \"quantitative\"}], \"x\": {\"value\": 30}, \"y\": {\"value\": 15}}, \"transform\": [{\"calculate\": \"sqrt(-2*log(random()))*cos(2*PI*random())\", \"as\": \"jitter\"}, {\"filter\": \"(datum.fastest_trip === 1)\"}]}]}]}, \"resolve\": {\"scale\": {\"y\": \"shared\"}}, \"title\": \"Ratio of Bus to Car Travel Time\", \"$schema\": \"https://vega.github.io/schema/vega-lite/v4.17.0.json\", \"datasets\": {\"data-811a8aa9ace593797df401cca9af4e92\": [{\"calitp_itp_id\": 260, \"trip_key\": 1317046688990537606, \"trip_id\": \"BCT109 NB_MF.T03\", \"shape_id\": \"BCT109 NB\", \"route_id\": \"BCT109 NB\", \"service_hours\": 1.22, \"trip_first_departure_ts\": 26700, \"trip_last_arrival_ts\": 31080, \"departure_hour\": 7, \"time_of_day\": \"AM Peak\", \"p25\": 1.28, \"p50\": 1.28, \"p75\": 1.28, \"p50_trip\": 0, \"fastest_trip\": 1, \"car_duration_hours\": 0.83, \"competitive_route\": 1, \"bus_multiplier\": 1.47, \"bus_difference\": 23.4, \"num_trips\": 20, \"num_competitive\": 20, \"pct_trips_competitive\": 1.0, \"bus_difference_spread\": 3.6, \"route_group\": \"medium\", \"max_trip_hrs\": 1.28, \"max_trip_route_group\": 1.33, \"name\": \"City of Redondo Beach\", \"caltrans_district\": \"07 - Los Angeles\", \"drmt_organization_name\": null, \"cutoff2\": 30, \"cutoff\": 2}, {\"calitp_itp_id\": 260, \"trip_key\": 3673728135160785242, \"trip_id\": \"BCT109 NB_MF.T02\", \"shape_id\": \"BCT109 NB\", \"route_id\": \"BCT109 NB\", \"service_hours\": 1.22, \"trip_first_departure_ts\": 23400, \"trip_last_arrival_ts\": 27780, \"departure_hour\": 6, \"time_of_day\": \"Owl Service\", \"p25\": 1.28, \"p50\": 1.28, \"p75\": 1.28, \"p50_trip\": 0, \"fastest_trip\": 0, \"car_duration_hours\": 0.83, \"competitive_route\": 1, \"bus_multiplier\": 1.47, \"bus_difference\": 23.4, \"num_trips\": 20, \"num_competitive\": 20, \"pct_trips_competitive\": 1.0, \"bus_difference_spread\": 3.6, \"route_group\": \"medium\", \"max_trip_hrs\": 1.28, \"max_trip_route_group\": 1.33, \"name\": \"City of Redondo Beach\", \"caltrans_district\": \"07 - Los Angeles\", \"drmt_organization_name\": null, \"cutoff2\": 30, \"cutoff\": 2}, {\"calitp_itp_id\": 260, \"trip_key\": -5692772296662780211, \"trip_id\": \"BCT109 NB_MF.T01\", \"shape_id\": \"BCT109 NB\", \"route_id\": \"BCT109 NB\", \"service_hours\": 1.22, \"trip_first_departure_ts\": 21600, \"trip_last_arrival_ts\": 25980, \"departure_hour\": 6, \"time_of_day\": \"Owl Service\", \"p25\": 1.28, \"p50\": 1.28, \"p75\": 1.28, \"p50_trip\": 0, \"fastest_trip\": 0, \"car_duration_hours\": 0.83, \"competitive_route\": 1, \"bus_multiplier\": 1.47, \"bus_difference\": 23.4, \"num_trips\": 20, \"num_competitive\": 20, \"pct_trips_competitive\": 1.0, \"bus_difference_spread\": 3.6, \"route_group\": \"medium\", \"max_trip_hrs\": 1.28, \"max_trip_route_group\": 1.33, \"name\": \"City of Redondo Beach\", \"caltrans_district\": \"07 - Los Angeles\", \"drmt_organization_name\": null, \"cutoff2\": 30, \"cutoff\": 2}, {\"calitp_itp_id\": 260, \"trip_key\": -8382958733402730771, \"trip_id\": \"BCT109 NB_MF.T11\", \"shape_id\": \"BCT109 NB\", \"route_id\": \"BCT109 NB\", \"service_hours\": 1.28, \"trip_first_departure_ts\": 49500, \"trip_last_arrival_ts\": 54120, \"departure_hour\": 13, \"time_of_day\": \"Midday\", \"p25\": 1.28, \"p50\": 1.28, \"p75\": 1.28, \"p50_trip\": 1, \"fastest_trip\": 0, \"car_duration_hours\": 0.83, \"competitive_route\": 1, \"bus_multiplier\": 1.54, \"bus_difference\": 27.0, \"num_trips\": 20, \"num_competitive\": 20, \"pct_trips_competitive\": 1.0, \"bus_difference_spread\": 3.6, \"route_group\": \"medium\", \"max_trip_hrs\": 1.28, \"max_trip_route_group\": 1.33, \"name\": \"City of Redondo Beach\", \"caltrans_district\": \"07 - Los Angeles\", \"drmt_organization_name\": null, \"cutoff2\": 30, \"cutoff\": 2}, {\"calitp_itp_id\": 260, \"trip_key\": 7828937370348139098, \"trip_id\": \"BCT109 NB_MF.T04\", \"shape_id\": \"BCT109 NB\", \"route_id\": \"BCT109 NB\", \"service_hours\": 1.28, \"trip_first_departure_ts\": 29400, \"trip_last_arrival_ts\": 34020, \"departure_hour\": 8, \"time_of_day\": \"AM Peak\", \"p25\": 1.28, \"p50\": 1.28, \"p75\": 1.28, \"p50_trip\": 1, \"fastest_trip\": 0, \"car_duration_hours\": 0.83, \"competitive_route\": 1, \"bus_multiplier\": 1.54, \"bus_difference\": 27.0, \"num_trips\": 20, \"num_competitive\": 20, \"pct_trips_competitive\": 1.0, \"bus_difference_spread\": 3.6, \"route_group\": \"medium\", \"max_trip_hrs\": 1.28, \"max_trip_route_group\": 1.33, \"name\": \"City of Redondo Beach\", \"caltrans_district\": \"07 - Los Angeles\", \"drmt_organization_name\": null, \"cutoff2\": 30, \"cutoff\": 2}, {\"calitp_itp_id\": 260, \"trip_key\": -656251562375874454, \"trip_id\": \"BCT109 NB_MF.T19\", \"shape_id\": \"BCT109 NB\", \"route_id\": \"BCT109 NB\", \"service_hours\": 1.28, \"trip_first_departure_ts\": 71100, \"trip_last_arrival_ts\": 75720, \"departure_hour\": 19, \"time_of_day\": \"PM Peak\", \"p25\": 1.28, \"p50\": 1.28, \"p75\": 1.28, \"p50_trip\": 1, \"fastest_trip\": 0, \"car_duration_hours\": 0.83, \"competitive_route\": 1, \"bus_multiplier\": 1.54, \"bus_difference\": 27.0, \"num_trips\": 20, \"num_competitive\": 20, \"pct_trips_competitive\": 1.0, \"bus_difference_spread\": 3.6, \"route_group\": \"medium\", \"max_trip_hrs\": 1.28, \"max_trip_route_group\": 1.33, \"name\": \"City of Redondo Beach\", \"caltrans_district\": \"07 - Los Angeles\", \"drmt_organization_name\": null, \"cutoff2\": 30, \"cutoff\": 2}, {\"calitp_itp_id\": 260, \"trip_key\": 8750848218037897663, \"trip_id\": \"BCT109 NB_MF.T17\", \"shape_id\": \"BCT109 NB\", \"route_id\": \"BCT109 NB\", \"service_hours\": 1.28, \"trip_first_departure_ts\": 65400, \"trip_last_arrival_ts\": 70020, \"departure_hour\": 18, \"time_of_day\": \"PM Peak\", \"p25\": 1.28, \"p50\": 1.28, \"p75\": 1.28, \"p50_trip\": 1, \"fastest_trip\": 0, \"car_duration_hours\": 0.83, \"competitive_route\": 1, \"bus_multiplier\": 1.54, \"bus_difference\": 27.0, \"num_trips\": 20, \"num_competitive\": 20, \"pct_trips_competitive\": 1.0, \"bus_difference_spread\": 3.6, \"route_group\": \"medium\", \"max_trip_hrs\": 1.28, \"max_trip_route_group\": 1.33, \"name\": \"City of Redondo Beach\", \"caltrans_district\": \"07 - Los Angeles\", \"drmt_organization_name\": null, \"cutoff2\": 30, \"cutoff\": 2}, {\"calitp_itp_id\": 260, \"trip_key\": 84845425813148536, \"trip_id\": \"BCT109 NB_MF.T14\", \"shape_id\": \"BCT109 NB\", \"route_id\": \"BCT109 NB\", \"service_hours\": 1.28, \"trip_first_departure_ts\": 57300, \"trip_last_arrival_ts\": 61920, \"departure_hour\": 15, \"time_of_day\": \"Midday\", \"p25\": 1.28, \"p50\": 1.28, \"p75\": 1.28, \"p50_trip\": 1, \"fastest_trip\": 0, \"car_duration_hours\": 0.83, \"competitive_route\": 1, \"bus_multiplier\": 1.54, \"bus_difference\": 27.0, \"num_trips\": 20, \"num_competitive\": 20, \"pct_trips_competitive\": 1.0, \"bus_difference_spread\": 3.6, \"route_group\": \"medium\", \"max_trip_hrs\": 1.28, \"max_trip_route_group\": 1.33, \"name\": \"City of Redondo Beach\", \"caltrans_district\": \"07 - Los Angeles\", \"drmt_organization_name\": null, \"cutoff2\": 30, \"cutoff\": 2}, {\"calitp_itp_id\": 260, \"trip_key\": 6559195403394685853, \"trip_id\": \"BCT109 NB_MF.T07\", \"shape_id\": \"BCT109 NB\", \"route_id\": \"BCT109 NB\", \"service_hours\": 1.28, \"trip_first_departure_ts\": 37500, \"trip_last_arrival_ts\": 42120, \"departure_hour\": 10, \"time_of_day\": \"Midday\", \"p25\": 1.28, \"p50\": 1.28, \"p75\": 1.28, \"p50_trip\": 1, \"fastest_trip\": 0, \"car_duration_hours\": 0.83, \"competitive_route\": 1, \"bus_multiplier\": 1.54, \"bus_difference\": 27.0, \"num_trips\": 20, \"num_competitive\": 20, \"pct_trips_competitive\": 1.0, \"bus_difference_spread\": 3.6, \"route_group\": \"medium\", \"max_trip_hrs\": 1.28, \"max_trip_route_group\": 1.33, \"name\": \"City of Redondo Beach\", \"caltrans_district\": \"07 - Los Angeles\", \"drmt_organization_name\": null, \"cutoff2\": 30, \"cutoff\": 2}, {\"calitp_itp_id\": 260, \"trip_key\": -4238208434499862872, \"trip_id\": \"BCT109 NB_MF.T10\", \"shape_id\": \"BCT109 NB\", \"route_id\": \"BCT109 NB\", \"service_hours\": 1.28, \"trip_first_departure_ts\": 45300, \"trip_last_arrival_ts\": 49920, \"departure_hour\": 12, \"time_of_day\": \"Midday\", \"p25\": 1.28, \"p50\": 1.28, \"p75\": 1.28, \"p50_trip\": 1, \"fastest_trip\": 0, \"car_duration_hours\": 0.83, \"competitive_route\": 1, \"bus_multiplier\": 1.54, \"bus_difference\": 27.0, \"num_trips\": 20, \"num_competitive\": 20, \"pct_trips_competitive\": 1.0, \"bus_difference_spread\": 3.6, \"route_group\": \"medium\", \"max_trip_hrs\": 1.28, \"max_trip_route_group\": 1.33, \"name\": \"City of Redondo Beach\", \"caltrans_district\": \"07 - Los Angeles\", \"drmt_organization_name\": null, \"cutoff2\": 30, \"cutoff\": 2}, {\"calitp_itp_id\": 260, \"trip_key\": -5929374785087733782, \"trip_id\": \"BCT109 NB_MF.T12\", \"shape_id\": \"BCT109 NB\", \"route_id\": \"BCT109 NB\", \"service_hours\": 1.28, \"trip_first_departure_ts\": 52200, \"trip_last_arrival_ts\": 56820, \"departure_hour\": 14, \"time_of_day\": \"Midday\", \"p25\": 1.28, \"p50\": 1.28, \"p75\": 1.28, \"p50_trip\": 1, \"fastest_trip\": 0, \"car_duration_hours\": 0.83, \"competitive_route\": 1, \"bus_multiplier\": 1.54, \"bus_difference\": 27.0, \"num_trips\": 20, \"num_competitive\": 20, \"pct_trips_competitive\": 1.0, \"bus_difference_spread\": 3.6, \"route_group\": \"medium\", \"max_trip_hrs\": 1.28, \"max_trip_route_group\": 1.33, \"name\": \"City of Redondo Beach\", \"caltrans_district\": \"07 - Los Angeles\", \"drmt_organization_name\": null, \"cutoff2\": 30, \"cutoff\": 2}, {\"calitp_itp_id\": 260, \"trip_key\": 8367892553357170010, \"trip_id\": \"BCT109 NB_MF.T20\", \"shape_id\": \"BCT109 NB\", \"route_id\": \"BCT109 NB\", \"service_hours\": 1.28, \"trip_first_departure_ts\": 73800, \"trip_last_arrival_ts\": 78420, \"departure_hour\": 20, \"time_of_day\": \"Owl Service\", \"p25\": 1.28, \"p50\": 1.28, \"p75\": 1.28, \"p50_trip\": 1, \"fastest_trip\": 0, \"car_duration_hours\": 0.83, \"competitive_route\": 1, \"bus_multiplier\": 1.54, \"bus_difference\": 27.0, \"num_trips\": 20, \"num_competitive\": 20, \"pct_trips_competitive\": 1.0, \"bus_difference_spread\": 3.6, \"route_group\": \"medium\", \"max_trip_hrs\": 1.28, \"max_trip_route_group\": 1.33, \"name\": \"City of Redondo Beach\", \"caltrans_district\": \"07 - Los Angeles\", \"drmt_organization_name\": null, \"cutoff2\": 30, \"cutoff\": 2}, {\"calitp_itp_id\": 260, \"trip_key\": -8827795785864707041, \"trip_id\": \"BCT109 NB_MF.T05\", \"shape_id\": \"BCT109 NB\", \"route_id\": \"BCT109 NB\", \"service_hours\": 1.28, \"trip_first_departure_ts\": 31800, \"trip_last_arrival_ts\": 36420, \"departure_hour\": 8, \"time_of_day\": \"AM Peak\", \"p25\": 1.28, \"p50\": 1.28, \"p75\": 1.28, \"p50_trip\": 1, \"fastest_trip\": 0, \"car_duration_hours\": 0.83, \"competitive_route\": 1, \"bus_multiplier\": 1.54, \"bus_difference\": 27.0, \"num_trips\": 20, \"num_competitive\": 20, \"pct_trips_competitive\": 1.0, \"bus_difference_spread\": 3.6, \"route_group\": \"medium\", \"max_trip_hrs\": 1.28, \"max_trip_route_group\": 1.33, \"name\": \"City of Redondo Beach\", \"caltrans_district\": \"07 - Los Angeles\", \"drmt_organization_name\": null, \"cutoff2\": 30, \"cutoff\": 2}, {\"calitp_itp_id\": 260, \"trip_key\": -7343359897475375849, \"trip_id\": \"BCT109 NB_MF.T13\", \"shape_id\": \"BCT109 NB\", \"route_id\": \"BCT109 NB\", \"service_hours\": 1.28, \"trip_first_departure_ts\": 54600, \"trip_last_arrival_ts\": 59220, \"departure_hour\": 15, \"time_of_day\": \"Midday\", \"p25\": 1.28, \"p50\": 1.28, \"p75\": 1.28, \"p50_trip\": 1, \"fastest_trip\": 0, \"car_duration_hours\": 0.83, \"competitive_route\": 1, \"bus_multiplier\": 1.54, \"bus_difference\": 27.0, \"num_trips\": 20, \"num_competitive\": 20, \"pct_trips_competitive\": 1.0, \"bus_difference_spread\": 3.6, \"route_group\": \"medium\", \"max_trip_hrs\": 1.28, \"max_trip_route_group\": 1.33, \"name\": \"City of Redondo Beach\", \"caltrans_district\": \"07 - Los Angeles\", \"drmt_organization_name\": null, \"cutoff2\": 30, \"cutoff\": 2}, {\"calitp_itp_id\": 260, \"trip_key\": -5831490653988659755, \"trip_id\": \"BCT109 NB_MF.T18\", \"shape_id\": \"BCT109 NB\", \"route_id\": \"BCT109 NB\", \"service_hours\": 1.28, \"trip_first_departure_ts\": 68100, \"trip_last_arrival_ts\": 72720, \"departure_hour\": 18, \"time_of_day\": \"PM Peak\", \"p25\": 1.28, \"p50\": 1.28, \"p75\": 1.28, \"p50_trip\": 1, \"fastest_trip\": 0, \"car_duration_hours\": 0.83, \"competitive_route\": 1, \"bus_multiplier\": 1.54, \"bus_difference\": 27.0, \"num_trips\": 20, \"num_competitive\": 20, \"pct_trips_competitive\": 1.0, \"bus_difference_spread\": 3.6, \"route_group\": \"medium\", \"max_trip_hrs\": 1.28, \"max_trip_route_group\": 1.33, \"name\": \"City of Redondo Beach\", \"caltrans_district\": \"07 - Los Angeles\", \"drmt_organization_name\": null, \"cutoff2\": 30, \"cutoff\": 2}, {\"calitp_itp_id\": 260, \"trip_key\": -6459932311807863698, \"trip_id\": \"BCT109 NB_MF.T09\", \"shape_id\": \"BCT109 NB\", \"route_id\": \"BCT109 NB\", \"service_hours\": 1.28, \"trip_first_departure_ts\": 42600, \"trip_last_arrival_ts\": 47220, \"departure_hour\": 11, \"time_of_day\": \"Midday\", \"p25\": 1.28, \"p50\": 1.28, \"p75\": 1.28, \"p50_trip\": 1, \"fastest_trip\": 0, \"car_duration_hours\": 0.83, \"competitive_route\": 1, \"bus_multiplier\": 1.54, \"bus_difference\": 27.0, \"num_trips\": 20, \"num_competitive\": 20, \"pct_trips_competitive\": 1.0, \"bus_difference_spread\": 3.6, \"route_group\": \"medium\", \"max_trip_hrs\": 1.28, \"max_trip_route_group\": 1.33, \"name\": \"City of Redondo Beach\", \"caltrans_district\": \"07 - Los Angeles\", \"drmt_organization_name\": null, \"cutoff2\": 30, \"cutoff\": 2}, {\"calitp_itp_id\": 260, \"trip_key\": 8751971087300252775, \"trip_id\": \"BCT109 NB_MF.T15\", \"shape_id\": \"BCT109 NB\", \"route_id\": \"BCT109 NB\", \"service_hours\": 1.28, \"trip_first_departure_ts\": 60300, \"trip_last_arrival_ts\": 64920, \"departure_hour\": 16, \"time_of_day\": \"Midday\", \"p25\": 1.28, \"p50\": 1.28, \"p75\": 1.28, \"p50_trip\": 1, \"fastest_trip\": 0, \"car_duration_hours\": 0.83, \"competitive_route\": 1, \"bus_multiplier\": 1.54, \"bus_difference\": 27.0, \"num_trips\": 20, \"num_competitive\": 20, \"pct_trips_competitive\": 1.0, \"bus_difference_spread\": 3.6, \"route_group\": \"medium\", \"max_trip_hrs\": 1.28, \"max_trip_route_group\": 1.33, \"name\": \"City of Redondo Beach\", \"caltrans_district\": \"07 - Los Angeles\", \"drmt_organization_name\": null, \"cutoff2\": 30, \"cutoff\": 2}, {\"calitp_itp_id\": 260, \"trip_key\": 650064259460204168, \"trip_id\": \"BCT109 NB_MF.T06\", \"shape_id\": \"BCT109 NB\", \"route_id\": \"BCT109 NB\", \"service_hours\": 1.28, \"trip_first_departure_ts\": 34500, \"trip_last_arrival_ts\": 39120, \"departure_hour\": 9, \"time_of_day\": \"AM Peak\", \"p25\": 1.28, \"p50\": 1.28, \"p75\": 1.28, \"p50_trip\": 1, \"fastest_trip\": 0, \"car_duration_hours\": 0.83, \"competitive_route\": 1, \"bus_multiplier\": 1.54, \"bus_difference\": 27.0, \"num_trips\": 20, \"num_competitive\": 20, \"pct_trips_competitive\": 1.0, \"bus_difference_spread\": 3.6, \"route_group\": \"medium\", \"max_trip_hrs\": 1.28, \"max_trip_route_group\": 1.33, \"name\": \"City of Redondo Beach\", \"caltrans_district\": \"07 - Los Angeles\", \"drmt_organization_name\": null, \"cutoff2\": 30, \"cutoff\": 2}, {\"calitp_itp_id\": 260, \"trip_key\": -1941445509852013822, \"trip_id\": \"BCT109 NB_MF.T16\", \"shape_id\": \"BCT109 NB\", \"route_id\": \"BCT109 NB\", \"service_hours\": 1.28, \"trip_first_departure_ts\": 63000, \"trip_last_arrival_ts\": 67620, \"departure_hour\": 17, \"time_of_day\": \"PM Peak\", \"p25\": 1.28, \"p50\": 1.28, \"p75\": 1.28, \"p50_trip\": 1, \"fastest_trip\": 0, \"car_duration_hours\": 0.83, \"competitive_route\": 1, \"bus_multiplier\": 1.54, \"bus_difference\": 27.0, \"num_trips\": 20, \"num_competitive\": 20, \"pct_trips_competitive\": 1.0, \"bus_difference_spread\": 3.6, \"route_group\": \"medium\", \"max_trip_hrs\": 1.28, \"max_trip_route_group\": 1.33, \"name\": \"City of Redondo Beach\", \"caltrans_district\": \"07 - Los Angeles\", \"drmt_organization_name\": null, \"cutoff2\": 30, \"cutoff\": 2}, {\"calitp_itp_id\": 260, \"trip_key\": 3723404524443184751, \"trip_id\": \"BCT109 NB_MF.T08\", \"shape_id\": \"BCT109 NB\", \"route_id\": \"BCT109 NB\", \"service_hours\": 1.28, \"trip_first_departure_ts\": 40200, \"trip_last_arrival_ts\": 44820, \"departure_hour\": 11, \"time_of_day\": \"Midday\", \"p25\": 1.28, \"p50\": 1.28, \"p75\": 1.28, \"p50_trip\": 1, \"fastest_trip\": 0, \"car_duration_hours\": 0.83, \"competitive_route\": 1, \"bus_multiplier\": 1.54, \"bus_difference\": 27.0, \"num_trips\": 20, \"num_competitive\": 20, \"pct_trips_competitive\": 1.0, \"bus_difference_spread\": 3.6, \"route_group\": \"medium\", \"max_trip_hrs\": 1.28, \"max_trip_route_group\": 1.33, \"name\": \"City of Redondo Beach\", \"caltrans_district\": \"07 - Los Angeles\", \"drmt_organization_name\": null, \"cutoff2\": 30, \"cutoff\": 2}, {\"calitp_itp_id\": 260, \"trip_key\": -7769911764283861301, \"trip_id\": \"BCT109 SB_MF.T05\", \"shape_id\": \"BCT109 SB\", \"route_id\": \"BCT109 SB\", \"service_hours\": 1.33, \"trip_first_departure_ts\": 32100, \"trip_last_arrival_ts\": 36900, \"departure_hour\": 8, \"time_of_day\": \"AM Peak\", \"p25\": 1.33, \"p50\": 1.33, \"p75\": 1.33, \"p50_trip\": 1, \"fastest_trip\": 0, \"car_duration_hours\": 1.1, \"competitive_route\": 1, \"bus_multiplier\": 1.21, \"bus_difference\": 13.8, \"num_trips\": 20, \"num_competitive\": 20, \"pct_trips_competitive\": 1.0, \"bus_difference_spread\": 0.0, \"route_group\": \"medium\", \"max_trip_hrs\": 1.33, \"max_trip_route_group\": 1.33, \"name\": \"City of Redondo Beach\", \"caltrans_district\": \"07 - Los Angeles\", \"drmt_organization_name\": null, \"cutoff2\": 30, \"cutoff\": 2}, {\"calitp_itp_id\": 260, \"trip_key\": 8823191204635919285, \"trip_id\": \"BCT109 SB_MF.T17\", \"shape_id\": \"BCT109 SB\", \"route_id\": \"BCT109 SB\", \"service_hours\": 1.33, \"trip_first_departure_ts\": 65700, \"trip_last_arrival_ts\": 70500, \"departure_hour\": 18, \"time_of_day\": \"PM Peak\", \"p25\": 1.33, \"p50\": 1.33, \"p75\": 1.33, \"p50_trip\": 1, \"fastest_trip\": 0, \"car_duration_hours\": 1.1, \"competitive_route\": 1, \"bus_multiplier\": 1.21, \"bus_difference\": 13.8, \"num_trips\": 20, \"num_competitive\": 20, \"pct_trips_competitive\": 1.0, \"bus_difference_spread\": 0.0, \"route_group\": \"medium\", \"max_trip_hrs\": 1.33, \"max_trip_route_group\": 1.33, \"name\": \"City of Redondo Beach\", \"caltrans_district\": \"07 - Los Angeles\", \"drmt_organization_name\": null, \"cutoff2\": 30, \"cutoff\": 2}, {\"calitp_itp_id\": 260, \"trip_key\": 9206665950355318065, \"trip_id\": \"BCT109 SB_MF.T16\", \"shape_id\": \"BCT109 SB\", \"route_id\": \"BCT109 SB\", \"service_hours\": 1.33, \"trip_first_departure_ts\": 62700, \"trip_last_arrival_ts\": 67500, \"departure_hour\": 17, \"time_of_day\": \"PM Peak\", \"p25\": 1.33, \"p50\": 1.33, \"p75\": 1.33, \"p50_trip\": 1, \"fastest_trip\": 0, \"car_duration_hours\": 1.1, \"competitive_route\": 1, \"bus_multiplier\": 1.21, \"bus_difference\": 13.8, \"num_trips\": 20, \"num_competitive\": 20, \"pct_trips_competitive\": 1.0, \"bus_difference_spread\": 0.0, \"route_group\": \"medium\", \"max_trip_hrs\": 1.33, \"max_trip_route_group\": 1.33, \"name\": \"City of Redondo Beach\", \"caltrans_district\": \"07 - Los Angeles\", \"drmt_organization_name\": null, \"cutoff2\": 30, \"cutoff\": 2}, {\"calitp_itp_id\": 260, \"trip_key\": -4499201128805887979, \"trip_id\": \"BCT109 SB_MF.T20\", \"shape_id\": \"BCT109 SB\", \"route_id\": \"BCT109 SB\", \"service_hours\": 1.33, \"trip_first_departure_ts\": 73500, \"trip_last_arrival_ts\": 78300, \"departure_hour\": 20, \"time_of_day\": \"Owl Service\", \"p25\": 1.33, \"p50\": 1.33, \"p75\": 1.33, \"p50_trip\": 1, \"fastest_trip\": 1, \"car_duration_hours\": 1.1, \"competitive_route\": 1, \"bus_multiplier\": 1.21, \"bus_difference\": 13.8, \"num_trips\": 20, \"num_competitive\": 20, \"pct_trips_competitive\": 1.0, \"bus_difference_spread\": 0.0, \"route_group\": \"medium\", \"max_trip_hrs\": 1.33, \"max_trip_route_group\": 1.33, \"name\": \"City of Redondo Beach\", \"caltrans_district\": \"07 - Los Angeles\", \"drmt_organization_name\": null, \"cutoff2\": 30, \"cutoff\": 2}, {\"calitp_itp_id\": 260, \"trip_key\": -950805648954300900, \"trip_id\": \"BCT109 SB_MF.T15\", \"shape_id\": \"BCT109 SB\", \"route_id\": \"BCT109 SB\", \"service_hours\": 1.33, \"trip_first_departure_ts\": 60000, \"trip_last_arrival_ts\": 64800, \"departure_hour\": 16, \"time_of_day\": \"Midday\", \"p25\": 1.33, \"p50\": 1.33, \"p75\": 1.33, \"p50_trip\": 1, \"fastest_trip\": 0, \"car_duration_hours\": 1.1, \"competitive_route\": 1, \"bus_multiplier\": 1.21, \"bus_difference\": 13.8, \"num_trips\": 20, \"num_competitive\": 20, \"pct_trips_competitive\": 1.0, \"bus_difference_spread\": 0.0, \"route_group\": \"medium\", \"max_trip_hrs\": 1.33, \"max_trip_route_group\": 1.33, \"name\": \"City of Redondo Beach\", \"caltrans_district\": \"07 - Los Angeles\", \"drmt_organization_name\": null, \"cutoff2\": 30, \"cutoff\": 2}, {\"calitp_itp_id\": 260, \"trip_key\": 5483605554865067177, \"trip_id\": \"BCT109 SB_MF.T01\", \"shape_id\": \"BCT109 SB\", \"route_id\": \"BCT109 SB\", \"service_hours\": 1.33, \"trip_first_departure_ts\": 21300, \"trip_last_arrival_ts\": 26100, \"departure_hour\": 5, \"time_of_day\": \"Owl Service\", \"p25\": 1.33, \"p50\": 1.33, \"p75\": 1.33, \"p50_trip\": 1, \"fastest_trip\": 0, \"car_duration_hours\": 1.1, \"competitive_route\": 1, \"bus_multiplier\": 1.21, \"bus_difference\": 13.8, \"num_trips\": 20, \"num_competitive\": 20, \"pct_trips_competitive\": 1.0, \"bus_difference_spread\": 0.0, \"route_group\": \"medium\", \"max_trip_hrs\": 1.33, \"max_trip_route_group\": 1.33, \"name\": \"City of Redondo Beach\", \"caltrans_district\": \"07 - Los Angeles\", \"drmt_organization_name\": null, \"cutoff2\": 30, \"cutoff\": 2}, {\"calitp_itp_id\": 260, \"trip_key\": -4780138184419908344, \"trip_id\": \"BCT109 SB_MF.T14\", \"shape_id\": \"BCT109 SB\", \"route_id\": \"BCT109 SB\", \"service_hours\": 1.33, \"trip_first_departure_ts\": 57600, \"trip_last_arrival_ts\": 62400, \"departure_hour\": 16, \"time_of_day\": \"Midday\", \"p25\": 1.33, \"p50\": 1.33, \"p75\": 1.33, \"p50_trip\": 1, \"fastest_trip\": 0, \"car_duration_hours\": 1.1, \"competitive_route\": 1, \"bus_multiplier\": 1.21, \"bus_difference\": 13.8, \"num_trips\": 20, \"num_competitive\": 20, \"pct_trips_competitive\": 1.0, \"bus_difference_spread\": 0.0, \"route_group\": \"medium\", \"max_trip_hrs\": 1.33, \"max_trip_route_group\": 1.33, \"name\": \"City of Redondo Beach\", \"caltrans_district\": \"07 - Los Angeles\", \"drmt_organization_name\": null, \"cutoff2\": 30, \"cutoff\": 2}, {\"calitp_itp_id\": 260, \"trip_key\": -4425915001469547984, \"trip_id\": \"BCT109 SB_MF.T03\", \"shape_id\": \"BCT109 SB\", \"route_id\": \"BCT109 SB\", \"service_hours\": 1.33, \"trip_first_departure_ts\": 26400, \"trip_last_arrival_ts\": 31200, \"departure_hour\": 7, \"time_of_day\": \"AM Peak\", \"p25\": 1.33, \"p50\": 1.33, \"p75\": 1.33, \"p50_trip\": 1, \"fastest_trip\": 0, \"car_duration_hours\": 1.1, \"competitive_route\": 1, \"bus_multiplier\": 1.21, \"bus_difference\": 13.8, \"num_trips\": 20, \"num_competitive\": 20, \"pct_trips_competitive\": 1.0, \"bus_difference_spread\": 0.0, \"route_group\": \"medium\", \"max_trip_hrs\": 1.33, \"max_trip_route_group\": 1.33, \"name\": \"City of Redondo Beach\", \"caltrans_district\": \"07 - Los Angeles\", \"drmt_organization_name\": null, \"cutoff2\": 30, \"cutoff\": 2}, {\"calitp_itp_id\": 260, \"trip_key\": -6387492083207951242, \"trip_id\": \"BCT109 SB_MF.T11\", \"shape_id\": \"BCT109 SB\", \"route_id\": \"BCT109 SB\", \"service_hours\": 1.33, \"trip_first_departure_ts\": 49200, \"trip_last_arrival_ts\": 54000, \"departure_hour\": 13, \"time_of_day\": \"Midday\", \"p25\": 1.33, \"p50\": 1.33, \"p75\": 1.33, \"p50_trip\": 1, \"fastest_trip\": 0, \"car_duration_hours\": 1.1, \"competitive_route\": 1, \"bus_multiplier\": 1.21, \"bus_difference\": 13.8, \"num_trips\": 20, \"num_competitive\": 20, \"pct_trips_competitive\": 1.0, \"bus_difference_spread\": 0.0, \"route_group\": \"medium\", \"max_trip_hrs\": 1.33, \"max_trip_route_group\": 1.33, \"name\": \"City of Redondo Beach\", \"caltrans_district\": \"07 - Los Angeles\", \"drmt_organization_name\": null, \"cutoff2\": 30, \"cutoff\": 2}, {\"calitp_itp_id\": 260, \"trip_key\": -3213125366714638313, \"trip_id\": \"BCT109 SB_MF.T13\", \"shape_id\": \"BCT109 SB\", \"route_id\": \"BCT109 SB\", \"service_hours\": 1.33, \"trip_first_departure_ts\": 54900, \"trip_last_arrival_ts\": 59700, \"departure_hour\": 15, \"time_of_day\": \"Midday\", \"p25\": 1.33, \"p50\": 1.33, \"p75\": 1.33, \"p50_trip\": 1, \"fastest_trip\": 0, \"car_duration_hours\": 1.1, \"competitive_route\": 1, \"bus_multiplier\": 1.21, \"bus_difference\": 13.8, \"num_trips\": 20, \"num_competitive\": 20, \"pct_trips_competitive\": 1.0, \"bus_difference_spread\": 0.0, \"route_group\": \"medium\", \"max_trip_hrs\": 1.33, \"max_trip_route_group\": 1.33, \"name\": \"City of Redondo Beach\", \"caltrans_district\": \"07 - Los Angeles\", \"drmt_organization_name\": null, \"cutoff2\": 30, \"cutoff\": 2}, {\"calitp_itp_id\": 260, \"trip_key\": 3809111814313801124, \"trip_id\": \"BCT109 SB_MF.T07\", \"shape_id\": \"BCT109 SB\", \"route_id\": \"BCT109 SB\", \"service_hours\": 1.33, \"trip_first_departure_ts\": 37200, \"trip_last_arrival_ts\": 42000, \"departure_hour\": 10, \"time_of_day\": \"Midday\", \"p25\": 1.33, \"p50\": 1.33, \"p75\": 1.33, \"p50_trip\": 1, \"fastest_trip\": 0, \"car_duration_hours\": 1.1, \"competitive_route\": 1, \"bus_multiplier\": 1.21, \"bus_difference\": 13.8, \"num_trips\": 20, \"num_competitive\": 20, \"pct_trips_competitive\": 1.0, \"bus_difference_spread\": 0.0, \"route_group\": \"medium\", \"max_trip_hrs\": 1.33, \"max_trip_route_group\": 1.33, \"name\": \"City of Redondo Beach\", \"caltrans_district\": \"07 - Los Angeles\", \"drmt_organization_name\": null, \"cutoff2\": 30, \"cutoff\": 2}, {\"calitp_itp_id\": 260, \"trip_key\": -8946219895800285709, \"trip_id\": \"BCT109 SB_MF.T12\", \"shape_id\": \"BCT109 SB\", \"route_id\": \"BCT109 SB\", \"service_hours\": 1.33, \"trip_first_departure_ts\": 51900, \"trip_last_arrival_ts\": 56700, \"departure_hour\": 14, \"time_of_day\": \"Midday\", \"p25\": 1.33, \"p50\": 1.33, \"p75\": 1.33, \"p50_trip\": 1, \"fastest_trip\": 0, \"car_duration_hours\": 1.1, \"competitive_route\": 1, \"bus_multiplier\": 1.21, \"bus_difference\": 13.8, \"num_trips\": 20, \"num_competitive\": 20, \"pct_trips_competitive\": 1.0, \"bus_difference_spread\": 0.0, \"route_group\": \"medium\", \"max_trip_hrs\": 1.33, \"max_trip_route_group\": 1.33, \"name\": \"City of Redondo Beach\", \"caltrans_district\": \"07 - Los Angeles\", \"drmt_organization_name\": null, \"cutoff2\": 30, \"cutoff\": 2}, {\"calitp_itp_id\": 260, \"trip_key\": 8591784665566234450, \"trip_id\": \"BCT109 SB_MF.T08\", \"shape_id\": \"BCT109 SB\", \"route_id\": \"BCT109 SB\", \"service_hours\": 1.33, \"trip_first_departure_ts\": 39900, \"trip_last_arrival_ts\": 44700, \"departure_hour\": 11, \"time_of_day\": \"Midday\", \"p25\": 1.33, \"p50\": 1.33, \"p75\": 1.33, \"p50_trip\": 1, \"fastest_trip\": 0, \"car_duration_hours\": 1.1, \"competitive_route\": 1, \"bus_multiplier\": 1.21, \"bus_difference\": 13.8, \"num_trips\": 20, \"num_competitive\": 20, \"pct_trips_competitive\": 1.0, \"bus_difference_spread\": 0.0, \"route_group\": \"medium\", \"max_trip_hrs\": 1.33, \"max_trip_route_group\": 1.33, \"name\": \"City of Redondo Beach\", \"caltrans_district\": \"07 - Los Angeles\", \"drmt_organization_name\": null, \"cutoff2\": 30, \"cutoff\": 2}, {\"calitp_itp_id\": 260, \"trip_key\": -5692302563158925297, \"trip_id\": \"BCT109 SB_MF.T02\", \"shape_id\": \"BCT109 SB\", \"route_id\": \"BCT109 SB\", \"service_hours\": 1.33, \"trip_first_departure_ts\": 24000, \"trip_last_arrival_ts\": 28800, \"departure_hour\": 6, \"time_of_day\": \"Owl Service\", \"p25\": 1.33, \"p50\": 1.33, \"p75\": 1.33, \"p50_trip\": 1, \"fastest_trip\": 0, \"car_duration_hours\": 1.1, \"competitive_route\": 1, \"bus_multiplier\": 1.21, \"bus_difference\": 13.8, \"num_trips\": 20, \"num_competitive\": 20, \"pct_trips_competitive\": 1.0, \"bus_difference_spread\": 0.0, \"route_group\": \"medium\", \"max_trip_hrs\": 1.33, \"max_trip_route_group\": 1.33, \"name\": \"City of Redondo Beach\", \"caltrans_district\": \"07 - Los Angeles\", \"drmt_organization_name\": null, \"cutoff2\": 30, \"cutoff\": 2}, {\"calitp_itp_id\": 260, \"trip_key\": -6167030381298569725, \"trip_id\": \"BCT109 SB_MF.T04\", \"shape_id\": \"BCT109 SB\", \"route_id\": \"BCT109 SB\", \"service_hours\": 1.33, \"trip_first_departure_ts\": 29100, \"trip_last_arrival_ts\": 33900, \"departure_hour\": 8, \"time_of_day\": \"AM Peak\", \"p25\": 1.33, \"p50\": 1.33, \"p75\": 1.33, \"p50_trip\": 1, \"fastest_trip\": 0, \"car_duration_hours\": 1.1, \"competitive_route\": 1, \"bus_multiplier\": 1.21, \"bus_difference\": 13.8, \"num_trips\": 20, \"num_competitive\": 20, \"pct_trips_competitive\": 1.0, \"bus_difference_spread\": 0.0, \"route_group\": \"medium\", \"max_trip_hrs\": 1.33, \"max_trip_route_group\": 1.33, \"name\": \"City of Redondo Beach\", \"caltrans_district\": \"07 - Los Angeles\", \"drmt_organization_name\": null, \"cutoff2\": 30, \"cutoff\": 2}, {\"calitp_itp_id\": 260, \"trip_key\": -5704407478966822574, \"trip_id\": \"BCT109 SB_MF.T19\", \"shape_id\": \"BCT109 SB\", \"route_id\": \"BCT109 SB\", \"service_hours\": 1.33, \"trip_first_departure_ts\": 70800, \"trip_last_arrival_ts\": 75600, \"departure_hour\": 19, \"time_of_day\": \"PM Peak\", \"p25\": 1.33, \"p50\": 1.33, \"p75\": 1.33, \"p50_trip\": 1, \"fastest_trip\": 0, \"car_duration_hours\": 1.1, \"competitive_route\": 1, \"bus_multiplier\": 1.21, \"bus_difference\": 13.8, \"num_trips\": 20, \"num_competitive\": 20, \"pct_trips_competitive\": 1.0, \"bus_difference_spread\": 0.0, \"route_group\": \"medium\", \"max_trip_hrs\": 1.33, \"max_trip_route_group\": 1.33, \"name\": \"City of Redondo Beach\", \"caltrans_district\": \"07 - Los Angeles\", \"drmt_organization_name\": null, \"cutoff2\": 30, \"cutoff\": 2}, {\"calitp_itp_id\": 260, \"trip_key\": 6970404091750010637, \"trip_id\": \"BCT109 SB_MF.T06\", \"shape_id\": \"BCT109 SB\", \"route_id\": \"BCT109 SB\", \"service_hours\": 1.33, \"trip_first_departure_ts\": 34800, \"trip_last_arrival_ts\": 39600, \"departure_hour\": 9, \"time_of_day\": \"AM Peak\", \"p25\": 1.33, \"p50\": 1.33, \"p75\": 1.33, \"p50_trip\": 1, \"fastest_trip\": 0, \"car_duration_hours\": 1.1, \"competitive_route\": 1, \"bus_multiplier\": 1.21, \"bus_difference\": 13.8, \"num_trips\": 20, \"num_competitive\": 20, \"pct_trips_competitive\": 1.0, \"bus_difference_spread\": 0.0, \"route_group\": \"medium\", \"max_trip_hrs\": 1.33, \"max_trip_route_group\": 1.33, \"name\": \"City of Redondo Beach\", \"caltrans_district\": \"07 - Los Angeles\", \"drmt_organization_name\": null, \"cutoff2\": 30, \"cutoff\": 2}, {\"calitp_itp_id\": 260, \"trip_key\": 5016011737382582511, \"trip_id\": \"BCT109 SB_MF.T10\", \"shape_id\": \"BCT109 SB\", \"route_id\": \"BCT109 SB\", \"service_hours\": 1.33, \"trip_first_departure_ts\": 46800, \"trip_last_arrival_ts\": 51600, \"departure_hour\": 13, \"time_of_day\": \"Midday\", \"p25\": 1.33, \"p50\": 1.33, \"p75\": 1.33, \"p50_trip\": 1, \"fastest_trip\": 0, \"car_duration_hours\": 1.1, \"competitive_route\": 1, \"bus_multiplier\": 1.21, \"bus_difference\": 13.8, \"num_trips\": 20, \"num_competitive\": 20, \"pct_trips_competitive\": 1.0, \"bus_difference_spread\": 0.0, \"route_group\": \"medium\", \"max_trip_hrs\": 1.33, \"max_trip_route_group\": 1.33, \"name\": \"City of Redondo Beach\", \"caltrans_district\": \"07 - Los Angeles\", \"drmt_organization_name\": null, \"cutoff2\": 30, \"cutoff\": 2}, {\"calitp_itp_id\": 260, \"trip_key\": 167940946600347386, \"trip_id\": \"BCT109 SB_MF.T18\", \"shape_id\": \"BCT109 SB\", \"route_id\": \"BCT109 SB\", \"service_hours\": 1.33, \"trip_first_departure_ts\": 68400, \"trip_last_arrival_ts\": 73200, \"departure_hour\": 19, \"time_of_day\": \"PM Peak\", \"p25\": 1.33, \"p50\": 1.33, \"p75\": 1.33, \"p50_trip\": 1, \"fastest_trip\": 0, \"car_duration_hours\": 1.1, \"competitive_route\": 1, \"bus_multiplier\": 1.21, \"bus_difference\": 13.8, \"num_trips\": 20, \"num_competitive\": 20, \"pct_trips_competitive\": 1.0, \"bus_difference_spread\": 0.0, \"route_group\": \"medium\", \"max_trip_hrs\": 1.33, \"max_trip_route_group\": 1.33, \"name\": \"City of Redondo Beach\", \"caltrans_district\": \"07 - Los Angeles\", \"drmt_organization_name\": null, \"cutoff2\": 30, \"cutoff\": 2}, {\"calitp_itp_id\": 260, \"trip_key\": 1469278410914527932, \"trip_id\": \"BCT109 SB_MF.T09\", \"shape_id\": \"BCT109 SB\", \"route_id\": \"BCT109 SB\", \"service_hours\": 1.33, \"trip_first_departure_ts\": 44100, \"trip_last_arrival_ts\": 48900, \"departure_hour\": 12, \"time_of_day\": \"Midday\", \"p25\": 1.33, \"p50\": 1.33, \"p75\": 1.33, \"p50_trip\": 1, \"fastest_trip\": 0, \"car_duration_hours\": 1.1, \"competitive_route\": 1, \"bus_multiplier\": 1.21, \"bus_difference\": 13.8, \"num_trips\": 20, \"num_competitive\": 20, \"pct_trips_competitive\": 1.0, \"bus_difference_spread\": 0.0, \"route_group\": \"medium\", \"max_trip_hrs\": 1.33, \"max_trip_route_group\": 1.33, \"name\": \"City of Redondo Beach\", \"caltrans_district\": \"07 - Los Angeles\", \"drmt_organization_name\": null, \"cutoff2\": 30, \"cutoff\": 2}]}}, {\"mode\": \"vega-lite\"});\n",
       "</script>"
      ],
      "text/plain": [
       "alt.FacetChart(...)"
      ]
     },
     "metadata": {},
     "output_type": "display_data"
    },
    {
     "data": {
      "text/html": [
       "\n",
       "<div id=\"altair-viz-11ce86dba8fa4ab1ad3b392e9db555ec\"></div>\n",
       "<script type=\"text/javascript\">\n",
       "  var VEGA_DEBUG = (typeof VEGA_DEBUG == \"undefined\") ? {} : VEGA_DEBUG;\n",
       "  (function(spec, embedOpt){\n",
       "    let outputDiv = document.currentScript.previousElementSibling;\n",
       "    if (outputDiv.id !== \"altair-viz-11ce86dba8fa4ab1ad3b392e9db555ec\") {\n",
       "      outputDiv = document.getElementById(\"altair-viz-11ce86dba8fa4ab1ad3b392e9db555ec\");\n",
       "    }\n",
       "    const paths = {\n",
       "      \"vega\": \"https://cdn.jsdelivr.net/npm//vega@5?noext\",\n",
       "      \"vega-lib\": \"https://cdn.jsdelivr.net/npm//vega-lib?noext\",\n",
       "      \"vega-lite\": \"https://cdn.jsdelivr.net/npm//vega-lite@4.17.0?noext\",\n",
       "      \"vega-embed\": \"https://cdn.jsdelivr.net/npm//vega-embed@6?noext\",\n",
       "    };\n",
       "\n",
       "    function maybeLoadScript(lib, version) {\n",
       "      var key = `${lib.replace(\"-\", \"\")}_version`;\n",
       "      return (VEGA_DEBUG[key] == version) ?\n",
       "        Promise.resolve(paths[lib]) :\n",
       "        new Promise(function(resolve, reject) {\n",
       "          var s = document.createElement('script');\n",
       "          document.getElementsByTagName(\"head\")[0].appendChild(s);\n",
       "          s.async = true;\n",
       "          s.onload = () => {\n",
       "            VEGA_DEBUG[key] = version;\n",
       "            return resolve(paths[lib]);\n",
       "          };\n",
       "          s.onerror = () => reject(`Error loading script: ${paths[lib]}`);\n",
       "          s.src = paths[lib];\n",
       "        });\n",
       "    }\n",
       "\n",
       "    function showError(err) {\n",
       "      outputDiv.innerHTML = `<div class=\"error\" style=\"color:red;\">${err}</div>`;\n",
       "      throw err;\n",
       "    }\n",
       "\n",
       "    function displayChart(vegaEmbed) {\n",
       "      vegaEmbed(outputDiv, spec, embedOpt)\n",
       "        .catch(err => showError(`Javascript Error: ${err.message}<br>This usually means there's a typo in your chart specification. See the javascript console for the full traceback.`));\n",
       "    }\n",
       "\n",
       "    if(typeof define === \"function\" && define.amd) {\n",
       "      requirejs.config({paths});\n",
       "      require([\"vega-embed\"], displayChart, err => showError(`Error loading script: ${err.message}`));\n",
       "    } else {\n",
       "      maybeLoadScript(\"vega\", \"5\")\n",
       "        .then(() => maybeLoadScript(\"vega-lite\", \"4.17.0\"))\n",
       "        .then(() => maybeLoadScript(\"vega-embed\", \"6\"))\n",
       "        .catch(showError)\n",
       "        .then(() => displayChart(vegaEmbed));\n",
       "    }\n",
       "  })({\"config\": {\"view\": {\"continuousWidth\": 400, \"continuousHeight\": 300, \"stroke\": null}, \"facet\": {\"spacing\": 0}}, \"data\": {\"name\": \"data-4a303e878fae92d673aa61651848b8a1\"}, \"facet\": {\"column\": {\"field\": \"route_id\", \"sort\": [\"BCT109 NB\", \"BCT109 SB\"], \"title\": \"Route ID\", \"type\": \"nominal\"}}, \"spec\": {\"layer\": [{\"mark\": \"rule\", \"encoding\": {\"color\": {\"value\": \"black\"}, \"y\": {\"field\": \"cutoff\", \"type\": \"quantitative\"}}, \"selection\": {\"selector004\": {\"type\": \"interval\", \"bind\": \"scales\", \"encodings\": [\"x\", \"y\"]}}}, {\"mark\": {\"type\": \"rule\", \"strokeDash\": [3, 3]}, \"encoding\": {\"color\": {\"value\": \"#323434\"}, \"y\": {\"field\": \"cutoff2\", \"type\": \"quantitative\"}}}, {\"mark\": {\"type\": \"point\", \"opacity\": 0.65, \"size\": 12, \"strokeWidth\": 1.1}, \"encoding\": {\"color\": {\"field\": \"time_of_day\", \"scale\": {\"range\": [\"#136C97\", \"#E16B26\", \"#F6BF16\", \"#00896B\", \"#7790A3\", \"#5B559C\"]}, \"sort\": [\"AM Peak\", \"Midday\", \"PM Peak\", \"Owl Service\"], \"title\": \"Time of Day\", \"type\": \"nominal\"}, \"tooltip\": [{\"field\": \"route_id\", \"type\": \"nominal\"}, {\"field\": \"trip_id\", \"type\": \"nominal\"}, {\"field\": \"service_hours\", \"type\": \"quantitative\"}, {\"field\": \"car_duration_hours\", \"type\": \"quantitative\"}, {\"field\": \"bus_multiplier\", \"type\": \"quantitative\"}, {\"field\": \"bus_difference\", \"type\": \"quantitative\"}, {\"field\": \"num_trips\", \"type\": \"quantitative\"}, {\"field\": \"num_competitive\", \"type\": \"quantitative\"}, {\"field\": \"pct_trips_competitive\", \"type\": \"quantitative\"}, {\"field\": \"p25\", \"type\": \"quantitative\"}, {\"field\": \"p50\", \"type\": \"quantitative\"}, {\"field\": \"p75\", \"type\": \"quantitative\"}], \"x\": {\"axis\": {\"grid\": false, \"labels\": false, \"ticks\": true, \"values\": [0]}, \"field\": \"jitter\", \"scale\": {}, \"title\": null, \"type\": \"quantitative\"}, \"y\": {\"field\": \"bus_difference\", \"scale\": {\"domain\": [-5, 35.0]}, \"title\": \"Difference in Bus to Car Travel Time (min)\", \"type\": \"quantitative\"}}, \"transform\": [{\"calculate\": \"sqrt(-2*log(random()))*cos(2*PI*random())\", \"as\": \"jitter\"}], \"width\": 50}, {\"layer\": [{\"mark\": {\"type\": \"point\", \"opacity\": 0.6, \"size\": 20, \"strokeWidth\": 1.3}, \"encoding\": {\"color\": {\"value\": \"#323434\"}, \"y\": {\"field\": \"bus_difference\", \"type\": \"quantitative\"}}, \"transform\": [{\"filter\": \"(datum.p50_trip === 1)\"}]}, {\"mark\": {\"type\": \"text\", \"align\": \"center\", \"baseline\": \"middle\"}, \"encoding\": {\"color\": {\"value\": \"black\"}, \"text\": {\"field\": \"pct_trips_competitive\", \"format\": \".0%\", \"type\": \"quantitative\"}, \"tooltip\": [{\"field\": \"route_id\", \"type\": \"nominal\"}, {\"field\": \"trip_id\", \"type\": \"nominal\"}, {\"field\": \"service_hours\", \"type\": \"quantitative\"}, {\"field\": \"car_duration_hours\", \"type\": \"quantitative\"}, {\"field\": \"bus_multiplier\", \"type\": \"quantitative\"}, {\"field\": \"bus_difference\", \"type\": \"quantitative\"}, {\"field\": \"num_trips\", \"type\": \"quantitative\"}, {\"field\": \"num_competitive\", \"type\": \"quantitative\"}, {\"field\": \"pct_trips_competitive\", \"type\": \"quantitative\"}, {\"field\": \"p25\", \"type\": \"quantitative\"}, {\"field\": \"p50\", \"type\": \"quantitative\"}, {\"field\": \"p75\", \"type\": \"quantitative\"}], \"x\": {\"value\": 30}, \"y\": {\"value\": 15}}, \"transform\": [{\"calculate\": \"sqrt(-2*log(random()))*cos(2*PI*random())\", \"as\": \"jitter\"}, {\"filter\": \"(datum.fastest_trip === 1)\"}]}]}]}, \"resolve\": {\"scale\": {\"y\": \"shared\"}}, \"title\": \"Difference in Bus to Car Travel Time (min)\", \"$schema\": \"https://vega.github.io/schema/vega-lite/v4.17.0.json\", \"datasets\": {\"data-4a303e878fae92d673aa61651848b8a1\": [{\"calitp_itp_id\": 260, \"trip_key\": 1317046688990537606, \"trip_id\": \"BCT109 NB_MF.T03\", \"shape_id\": \"BCT109 NB\", \"route_id\": \"BCT109 NB\", \"service_hours\": 1.22, \"trip_first_departure_ts\": 26700, \"trip_last_arrival_ts\": 31080, \"departure_hour\": 7, \"time_of_day\": \"AM Peak\", \"p25\": 1.28, \"p50\": 1.28, \"p75\": 1.28, \"p50_trip\": 0, \"fastest_trip\": 1, \"car_duration_hours\": 0.83, \"competitive_route\": 1, \"bus_multiplier\": 1.47, \"bus_difference\": 23.4, \"num_trips\": 20, \"num_competitive\": 20, \"pct_trips_competitive\": 1.0, \"bus_difference_spread\": 3.6, \"route_group\": \"medium\", \"max_trip_hrs\": 1.28, \"max_trip_route_group\": 1.33, \"name\": \"City of Redondo Beach\", \"caltrans_district\": \"07 - Los Angeles\", \"drmt_organization_name\": null, \"cutoff2\": 30, \"cutoff\": 0}, {\"calitp_itp_id\": 260, \"trip_key\": 3673728135160785242, \"trip_id\": \"BCT109 NB_MF.T02\", \"shape_id\": \"BCT109 NB\", \"route_id\": \"BCT109 NB\", \"service_hours\": 1.22, \"trip_first_departure_ts\": 23400, \"trip_last_arrival_ts\": 27780, \"departure_hour\": 6, \"time_of_day\": \"Owl Service\", \"p25\": 1.28, \"p50\": 1.28, \"p75\": 1.28, \"p50_trip\": 0, \"fastest_trip\": 0, \"car_duration_hours\": 0.83, \"competitive_route\": 1, \"bus_multiplier\": 1.47, \"bus_difference\": 23.4, \"num_trips\": 20, \"num_competitive\": 20, \"pct_trips_competitive\": 1.0, \"bus_difference_spread\": 3.6, \"route_group\": \"medium\", \"max_trip_hrs\": 1.28, \"max_trip_route_group\": 1.33, \"name\": \"City of Redondo Beach\", \"caltrans_district\": \"07 - Los Angeles\", \"drmt_organization_name\": null, \"cutoff2\": 30, \"cutoff\": 0}, {\"calitp_itp_id\": 260, \"trip_key\": -5692772296662780211, \"trip_id\": \"BCT109 NB_MF.T01\", \"shape_id\": \"BCT109 NB\", \"route_id\": \"BCT109 NB\", \"service_hours\": 1.22, \"trip_first_departure_ts\": 21600, \"trip_last_arrival_ts\": 25980, \"departure_hour\": 6, \"time_of_day\": \"Owl Service\", \"p25\": 1.28, \"p50\": 1.28, \"p75\": 1.28, \"p50_trip\": 0, \"fastest_trip\": 0, \"car_duration_hours\": 0.83, \"competitive_route\": 1, \"bus_multiplier\": 1.47, \"bus_difference\": 23.4, \"num_trips\": 20, \"num_competitive\": 20, \"pct_trips_competitive\": 1.0, \"bus_difference_spread\": 3.6, \"route_group\": \"medium\", \"max_trip_hrs\": 1.28, \"max_trip_route_group\": 1.33, \"name\": \"City of Redondo Beach\", \"caltrans_district\": \"07 - Los Angeles\", \"drmt_organization_name\": null, \"cutoff2\": 30, \"cutoff\": 0}, {\"calitp_itp_id\": 260, \"trip_key\": -8382958733402730771, \"trip_id\": \"BCT109 NB_MF.T11\", \"shape_id\": \"BCT109 NB\", \"route_id\": \"BCT109 NB\", \"service_hours\": 1.28, \"trip_first_departure_ts\": 49500, \"trip_last_arrival_ts\": 54120, \"departure_hour\": 13, \"time_of_day\": \"Midday\", \"p25\": 1.28, \"p50\": 1.28, \"p75\": 1.28, \"p50_trip\": 1, \"fastest_trip\": 0, \"car_duration_hours\": 0.83, \"competitive_route\": 1, \"bus_multiplier\": 1.54, \"bus_difference\": 27.0, \"num_trips\": 20, \"num_competitive\": 20, \"pct_trips_competitive\": 1.0, \"bus_difference_spread\": 3.6, \"route_group\": \"medium\", \"max_trip_hrs\": 1.28, \"max_trip_route_group\": 1.33, \"name\": \"City of Redondo Beach\", \"caltrans_district\": \"07 - Los Angeles\", \"drmt_organization_name\": null, \"cutoff2\": 30, \"cutoff\": 0}, {\"calitp_itp_id\": 260, \"trip_key\": 7828937370348139098, \"trip_id\": \"BCT109 NB_MF.T04\", \"shape_id\": \"BCT109 NB\", \"route_id\": \"BCT109 NB\", \"service_hours\": 1.28, \"trip_first_departure_ts\": 29400, \"trip_last_arrival_ts\": 34020, \"departure_hour\": 8, \"time_of_day\": \"AM Peak\", \"p25\": 1.28, \"p50\": 1.28, \"p75\": 1.28, \"p50_trip\": 1, \"fastest_trip\": 0, \"car_duration_hours\": 0.83, \"competitive_route\": 1, \"bus_multiplier\": 1.54, \"bus_difference\": 27.0, \"num_trips\": 20, \"num_competitive\": 20, \"pct_trips_competitive\": 1.0, \"bus_difference_spread\": 3.6, \"route_group\": \"medium\", \"max_trip_hrs\": 1.28, \"max_trip_route_group\": 1.33, \"name\": \"City of Redondo Beach\", \"caltrans_district\": \"07 - Los Angeles\", \"drmt_organization_name\": null, \"cutoff2\": 30, \"cutoff\": 0}, {\"calitp_itp_id\": 260, \"trip_key\": -656251562375874454, \"trip_id\": \"BCT109 NB_MF.T19\", \"shape_id\": \"BCT109 NB\", \"route_id\": \"BCT109 NB\", \"service_hours\": 1.28, \"trip_first_departure_ts\": 71100, \"trip_last_arrival_ts\": 75720, \"departure_hour\": 19, \"time_of_day\": \"PM Peak\", \"p25\": 1.28, \"p50\": 1.28, \"p75\": 1.28, \"p50_trip\": 1, \"fastest_trip\": 0, \"car_duration_hours\": 0.83, \"competitive_route\": 1, \"bus_multiplier\": 1.54, \"bus_difference\": 27.0, \"num_trips\": 20, \"num_competitive\": 20, \"pct_trips_competitive\": 1.0, \"bus_difference_spread\": 3.6, \"route_group\": \"medium\", \"max_trip_hrs\": 1.28, \"max_trip_route_group\": 1.33, \"name\": \"City of Redondo Beach\", \"caltrans_district\": \"07 - Los Angeles\", \"drmt_organization_name\": null, \"cutoff2\": 30, \"cutoff\": 0}, {\"calitp_itp_id\": 260, \"trip_key\": 8750848218037897663, \"trip_id\": \"BCT109 NB_MF.T17\", \"shape_id\": \"BCT109 NB\", \"route_id\": \"BCT109 NB\", \"service_hours\": 1.28, \"trip_first_departure_ts\": 65400, \"trip_last_arrival_ts\": 70020, \"departure_hour\": 18, \"time_of_day\": \"PM Peak\", \"p25\": 1.28, \"p50\": 1.28, \"p75\": 1.28, \"p50_trip\": 1, \"fastest_trip\": 0, \"car_duration_hours\": 0.83, \"competitive_route\": 1, \"bus_multiplier\": 1.54, \"bus_difference\": 27.0, \"num_trips\": 20, \"num_competitive\": 20, \"pct_trips_competitive\": 1.0, \"bus_difference_spread\": 3.6, \"route_group\": \"medium\", \"max_trip_hrs\": 1.28, \"max_trip_route_group\": 1.33, \"name\": \"City of Redondo Beach\", \"caltrans_district\": \"07 - Los Angeles\", \"drmt_organization_name\": null, \"cutoff2\": 30, \"cutoff\": 0}, {\"calitp_itp_id\": 260, \"trip_key\": 84845425813148536, \"trip_id\": \"BCT109 NB_MF.T14\", \"shape_id\": \"BCT109 NB\", \"route_id\": \"BCT109 NB\", \"service_hours\": 1.28, \"trip_first_departure_ts\": 57300, \"trip_last_arrival_ts\": 61920, \"departure_hour\": 15, \"time_of_day\": \"Midday\", \"p25\": 1.28, \"p50\": 1.28, \"p75\": 1.28, \"p50_trip\": 1, \"fastest_trip\": 0, \"car_duration_hours\": 0.83, \"competitive_route\": 1, \"bus_multiplier\": 1.54, \"bus_difference\": 27.0, \"num_trips\": 20, \"num_competitive\": 20, \"pct_trips_competitive\": 1.0, \"bus_difference_spread\": 3.6, \"route_group\": \"medium\", \"max_trip_hrs\": 1.28, \"max_trip_route_group\": 1.33, \"name\": \"City of Redondo Beach\", \"caltrans_district\": \"07 - Los Angeles\", \"drmt_organization_name\": null, \"cutoff2\": 30, \"cutoff\": 0}, {\"calitp_itp_id\": 260, \"trip_key\": 6559195403394685853, \"trip_id\": \"BCT109 NB_MF.T07\", \"shape_id\": \"BCT109 NB\", \"route_id\": \"BCT109 NB\", \"service_hours\": 1.28, \"trip_first_departure_ts\": 37500, \"trip_last_arrival_ts\": 42120, \"departure_hour\": 10, \"time_of_day\": \"Midday\", \"p25\": 1.28, \"p50\": 1.28, \"p75\": 1.28, \"p50_trip\": 1, \"fastest_trip\": 0, \"car_duration_hours\": 0.83, \"competitive_route\": 1, \"bus_multiplier\": 1.54, \"bus_difference\": 27.0, \"num_trips\": 20, \"num_competitive\": 20, \"pct_trips_competitive\": 1.0, \"bus_difference_spread\": 3.6, \"route_group\": \"medium\", \"max_trip_hrs\": 1.28, \"max_trip_route_group\": 1.33, \"name\": \"City of Redondo Beach\", \"caltrans_district\": \"07 - Los Angeles\", \"drmt_organization_name\": null, \"cutoff2\": 30, \"cutoff\": 0}, {\"calitp_itp_id\": 260, \"trip_key\": -4238208434499862872, \"trip_id\": \"BCT109 NB_MF.T10\", \"shape_id\": \"BCT109 NB\", \"route_id\": \"BCT109 NB\", \"service_hours\": 1.28, \"trip_first_departure_ts\": 45300, \"trip_last_arrival_ts\": 49920, \"departure_hour\": 12, \"time_of_day\": \"Midday\", \"p25\": 1.28, \"p50\": 1.28, \"p75\": 1.28, \"p50_trip\": 1, \"fastest_trip\": 0, \"car_duration_hours\": 0.83, \"competitive_route\": 1, \"bus_multiplier\": 1.54, \"bus_difference\": 27.0, \"num_trips\": 20, \"num_competitive\": 20, \"pct_trips_competitive\": 1.0, \"bus_difference_spread\": 3.6, \"route_group\": \"medium\", \"max_trip_hrs\": 1.28, \"max_trip_route_group\": 1.33, \"name\": \"City of Redondo Beach\", \"caltrans_district\": \"07 - Los Angeles\", \"drmt_organization_name\": null, \"cutoff2\": 30, \"cutoff\": 0}, {\"calitp_itp_id\": 260, \"trip_key\": -5929374785087733782, \"trip_id\": \"BCT109 NB_MF.T12\", \"shape_id\": \"BCT109 NB\", \"route_id\": \"BCT109 NB\", \"service_hours\": 1.28, \"trip_first_departure_ts\": 52200, \"trip_last_arrival_ts\": 56820, \"departure_hour\": 14, \"time_of_day\": \"Midday\", \"p25\": 1.28, \"p50\": 1.28, \"p75\": 1.28, \"p50_trip\": 1, \"fastest_trip\": 0, \"car_duration_hours\": 0.83, \"competitive_route\": 1, \"bus_multiplier\": 1.54, \"bus_difference\": 27.0, \"num_trips\": 20, \"num_competitive\": 20, \"pct_trips_competitive\": 1.0, \"bus_difference_spread\": 3.6, \"route_group\": \"medium\", \"max_trip_hrs\": 1.28, \"max_trip_route_group\": 1.33, \"name\": \"City of Redondo Beach\", \"caltrans_district\": \"07 - Los Angeles\", \"drmt_organization_name\": null, \"cutoff2\": 30, \"cutoff\": 0}, {\"calitp_itp_id\": 260, \"trip_key\": 8367892553357170010, \"trip_id\": \"BCT109 NB_MF.T20\", \"shape_id\": \"BCT109 NB\", \"route_id\": \"BCT109 NB\", \"service_hours\": 1.28, \"trip_first_departure_ts\": 73800, \"trip_last_arrival_ts\": 78420, \"departure_hour\": 20, \"time_of_day\": \"Owl Service\", \"p25\": 1.28, \"p50\": 1.28, \"p75\": 1.28, \"p50_trip\": 1, \"fastest_trip\": 0, \"car_duration_hours\": 0.83, \"competitive_route\": 1, \"bus_multiplier\": 1.54, \"bus_difference\": 27.0, \"num_trips\": 20, \"num_competitive\": 20, \"pct_trips_competitive\": 1.0, \"bus_difference_spread\": 3.6, \"route_group\": \"medium\", \"max_trip_hrs\": 1.28, \"max_trip_route_group\": 1.33, \"name\": \"City of Redondo Beach\", \"caltrans_district\": \"07 - Los Angeles\", \"drmt_organization_name\": null, \"cutoff2\": 30, \"cutoff\": 0}, {\"calitp_itp_id\": 260, \"trip_key\": -8827795785864707041, \"trip_id\": \"BCT109 NB_MF.T05\", \"shape_id\": \"BCT109 NB\", \"route_id\": \"BCT109 NB\", \"service_hours\": 1.28, \"trip_first_departure_ts\": 31800, \"trip_last_arrival_ts\": 36420, \"departure_hour\": 8, \"time_of_day\": \"AM Peak\", \"p25\": 1.28, \"p50\": 1.28, \"p75\": 1.28, \"p50_trip\": 1, \"fastest_trip\": 0, \"car_duration_hours\": 0.83, \"competitive_route\": 1, \"bus_multiplier\": 1.54, \"bus_difference\": 27.0, \"num_trips\": 20, \"num_competitive\": 20, \"pct_trips_competitive\": 1.0, \"bus_difference_spread\": 3.6, \"route_group\": \"medium\", \"max_trip_hrs\": 1.28, \"max_trip_route_group\": 1.33, \"name\": \"City of Redondo Beach\", \"caltrans_district\": \"07 - Los Angeles\", \"drmt_organization_name\": null, \"cutoff2\": 30, \"cutoff\": 0}, {\"calitp_itp_id\": 260, \"trip_key\": -7343359897475375849, \"trip_id\": \"BCT109 NB_MF.T13\", \"shape_id\": \"BCT109 NB\", \"route_id\": \"BCT109 NB\", \"service_hours\": 1.28, \"trip_first_departure_ts\": 54600, \"trip_last_arrival_ts\": 59220, \"departure_hour\": 15, \"time_of_day\": \"Midday\", \"p25\": 1.28, \"p50\": 1.28, \"p75\": 1.28, \"p50_trip\": 1, \"fastest_trip\": 0, \"car_duration_hours\": 0.83, \"competitive_route\": 1, \"bus_multiplier\": 1.54, \"bus_difference\": 27.0, \"num_trips\": 20, \"num_competitive\": 20, \"pct_trips_competitive\": 1.0, \"bus_difference_spread\": 3.6, \"route_group\": \"medium\", \"max_trip_hrs\": 1.28, \"max_trip_route_group\": 1.33, \"name\": \"City of Redondo Beach\", \"caltrans_district\": \"07 - Los Angeles\", \"drmt_organization_name\": null, \"cutoff2\": 30, \"cutoff\": 0}, {\"calitp_itp_id\": 260, \"trip_key\": -5831490653988659755, \"trip_id\": \"BCT109 NB_MF.T18\", \"shape_id\": \"BCT109 NB\", \"route_id\": \"BCT109 NB\", \"service_hours\": 1.28, \"trip_first_departure_ts\": 68100, \"trip_last_arrival_ts\": 72720, \"departure_hour\": 18, \"time_of_day\": \"PM Peak\", \"p25\": 1.28, \"p50\": 1.28, \"p75\": 1.28, \"p50_trip\": 1, \"fastest_trip\": 0, \"car_duration_hours\": 0.83, \"competitive_route\": 1, \"bus_multiplier\": 1.54, \"bus_difference\": 27.0, \"num_trips\": 20, \"num_competitive\": 20, \"pct_trips_competitive\": 1.0, \"bus_difference_spread\": 3.6, \"route_group\": \"medium\", \"max_trip_hrs\": 1.28, \"max_trip_route_group\": 1.33, \"name\": \"City of Redondo Beach\", \"caltrans_district\": \"07 - Los Angeles\", \"drmt_organization_name\": null, \"cutoff2\": 30, \"cutoff\": 0}, {\"calitp_itp_id\": 260, \"trip_key\": -6459932311807863698, \"trip_id\": \"BCT109 NB_MF.T09\", \"shape_id\": \"BCT109 NB\", \"route_id\": \"BCT109 NB\", \"service_hours\": 1.28, \"trip_first_departure_ts\": 42600, \"trip_last_arrival_ts\": 47220, \"departure_hour\": 11, \"time_of_day\": \"Midday\", \"p25\": 1.28, \"p50\": 1.28, \"p75\": 1.28, \"p50_trip\": 1, \"fastest_trip\": 0, \"car_duration_hours\": 0.83, \"competitive_route\": 1, \"bus_multiplier\": 1.54, \"bus_difference\": 27.0, \"num_trips\": 20, \"num_competitive\": 20, \"pct_trips_competitive\": 1.0, \"bus_difference_spread\": 3.6, \"route_group\": \"medium\", \"max_trip_hrs\": 1.28, \"max_trip_route_group\": 1.33, \"name\": \"City of Redondo Beach\", \"caltrans_district\": \"07 - Los Angeles\", \"drmt_organization_name\": null, \"cutoff2\": 30, \"cutoff\": 0}, {\"calitp_itp_id\": 260, \"trip_key\": 8751971087300252775, \"trip_id\": \"BCT109 NB_MF.T15\", \"shape_id\": \"BCT109 NB\", \"route_id\": \"BCT109 NB\", \"service_hours\": 1.28, \"trip_first_departure_ts\": 60300, \"trip_last_arrival_ts\": 64920, \"departure_hour\": 16, \"time_of_day\": \"Midday\", \"p25\": 1.28, \"p50\": 1.28, \"p75\": 1.28, \"p50_trip\": 1, \"fastest_trip\": 0, \"car_duration_hours\": 0.83, \"competitive_route\": 1, \"bus_multiplier\": 1.54, \"bus_difference\": 27.0, \"num_trips\": 20, \"num_competitive\": 20, \"pct_trips_competitive\": 1.0, \"bus_difference_spread\": 3.6, \"route_group\": \"medium\", \"max_trip_hrs\": 1.28, \"max_trip_route_group\": 1.33, \"name\": \"City of Redondo Beach\", \"caltrans_district\": \"07 - Los Angeles\", \"drmt_organization_name\": null, \"cutoff2\": 30, \"cutoff\": 0}, {\"calitp_itp_id\": 260, \"trip_key\": 650064259460204168, \"trip_id\": \"BCT109 NB_MF.T06\", \"shape_id\": \"BCT109 NB\", \"route_id\": \"BCT109 NB\", \"service_hours\": 1.28, \"trip_first_departure_ts\": 34500, \"trip_last_arrival_ts\": 39120, \"departure_hour\": 9, \"time_of_day\": \"AM Peak\", \"p25\": 1.28, \"p50\": 1.28, \"p75\": 1.28, \"p50_trip\": 1, \"fastest_trip\": 0, \"car_duration_hours\": 0.83, \"competitive_route\": 1, \"bus_multiplier\": 1.54, \"bus_difference\": 27.0, \"num_trips\": 20, \"num_competitive\": 20, \"pct_trips_competitive\": 1.0, \"bus_difference_spread\": 3.6, \"route_group\": \"medium\", \"max_trip_hrs\": 1.28, \"max_trip_route_group\": 1.33, \"name\": \"City of Redondo Beach\", \"caltrans_district\": \"07 - Los Angeles\", \"drmt_organization_name\": null, \"cutoff2\": 30, \"cutoff\": 0}, {\"calitp_itp_id\": 260, \"trip_key\": -1941445509852013822, \"trip_id\": \"BCT109 NB_MF.T16\", \"shape_id\": \"BCT109 NB\", \"route_id\": \"BCT109 NB\", \"service_hours\": 1.28, \"trip_first_departure_ts\": 63000, \"trip_last_arrival_ts\": 67620, \"departure_hour\": 17, \"time_of_day\": \"PM Peak\", \"p25\": 1.28, \"p50\": 1.28, \"p75\": 1.28, \"p50_trip\": 1, \"fastest_trip\": 0, \"car_duration_hours\": 0.83, \"competitive_route\": 1, \"bus_multiplier\": 1.54, \"bus_difference\": 27.0, \"num_trips\": 20, \"num_competitive\": 20, \"pct_trips_competitive\": 1.0, \"bus_difference_spread\": 3.6, \"route_group\": \"medium\", \"max_trip_hrs\": 1.28, \"max_trip_route_group\": 1.33, \"name\": \"City of Redondo Beach\", \"caltrans_district\": \"07 - Los Angeles\", \"drmt_organization_name\": null, \"cutoff2\": 30, \"cutoff\": 0}, {\"calitp_itp_id\": 260, \"trip_key\": 3723404524443184751, \"trip_id\": \"BCT109 NB_MF.T08\", \"shape_id\": \"BCT109 NB\", \"route_id\": \"BCT109 NB\", \"service_hours\": 1.28, \"trip_first_departure_ts\": 40200, \"trip_last_arrival_ts\": 44820, \"departure_hour\": 11, \"time_of_day\": \"Midday\", \"p25\": 1.28, \"p50\": 1.28, \"p75\": 1.28, \"p50_trip\": 1, \"fastest_trip\": 0, \"car_duration_hours\": 0.83, \"competitive_route\": 1, \"bus_multiplier\": 1.54, \"bus_difference\": 27.0, \"num_trips\": 20, \"num_competitive\": 20, \"pct_trips_competitive\": 1.0, \"bus_difference_spread\": 3.6, \"route_group\": \"medium\", \"max_trip_hrs\": 1.28, \"max_trip_route_group\": 1.33, \"name\": \"City of Redondo Beach\", \"caltrans_district\": \"07 - Los Angeles\", \"drmt_organization_name\": null, \"cutoff2\": 30, \"cutoff\": 0}, {\"calitp_itp_id\": 260, \"trip_key\": -7769911764283861301, \"trip_id\": \"BCT109 SB_MF.T05\", \"shape_id\": \"BCT109 SB\", \"route_id\": \"BCT109 SB\", \"service_hours\": 1.33, \"trip_first_departure_ts\": 32100, \"trip_last_arrival_ts\": 36900, \"departure_hour\": 8, \"time_of_day\": \"AM Peak\", \"p25\": 1.33, \"p50\": 1.33, \"p75\": 1.33, \"p50_trip\": 1, \"fastest_trip\": 0, \"car_duration_hours\": 1.1, \"competitive_route\": 1, \"bus_multiplier\": 1.21, \"bus_difference\": 13.8, \"num_trips\": 20, \"num_competitive\": 20, \"pct_trips_competitive\": 1.0, \"bus_difference_spread\": 0.0, \"route_group\": \"medium\", \"max_trip_hrs\": 1.33, \"max_trip_route_group\": 1.33, \"name\": \"City of Redondo Beach\", \"caltrans_district\": \"07 - Los Angeles\", \"drmt_organization_name\": null, \"cutoff2\": 30, \"cutoff\": 0}, {\"calitp_itp_id\": 260, \"trip_key\": 8823191204635919285, \"trip_id\": \"BCT109 SB_MF.T17\", \"shape_id\": \"BCT109 SB\", \"route_id\": \"BCT109 SB\", \"service_hours\": 1.33, \"trip_first_departure_ts\": 65700, \"trip_last_arrival_ts\": 70500, \"departure_hour\": 18, \"time_of_day\": \"PM Peak\", \"p25\": 1.33, \"p50\": 1.33, \"p75\": 1.33, \"p50_trip\": 1, \"fastest_trip\": 0, \"car_duration_hours\": 1.1, \"competitive_route\": 1, \"bus_multiplier\": 1.21, \"bus_difference\": 13.8, \"num_trips\": 20, \"num_competitive\": 20, \"pct_trips_competitive\": 1.0, \"bus_difference_spread\": 0.0, \"route_group\": \"medium\", \"max_trip_hrs\": 1.33, \"max_trip_route_group\": 1.33, \"name\": \"City of Redondo Beach\", \"caltrans_district\": \"07 - Los Angeles\", \"drmt_organization_name\": null, \"cutoff2\": 30, \"cutoff\": 0}, {\"calitp_itp_id\": 260, \"trip_key\": 9206665950355318065, \"trip_id\": \"BCT109 SB_MF.T16\", \"shape_id\": \"BCT109 SB\", \"route_id\": \"BCT109 SB\", \"service_hours\": 1.33, \"trip_first_departure_ts\": 62700, \"trip_last_arrival_ts\": 67500, \"departure_hour\": 17, \"time_of_day\": \"PM Peak\", \"p25\": 1.33, \"p50\": 1.33, \"p75\": 1.33, \"p50_trip\": 1, \"fastest_trip\": 0, \"car_duration_hours\": 1.1, \"competitive_route\": 1, \"bus_multiplier\": 1.21, \"bus_difference\": 13.8, \"num_trips\": 20, \"num_competitive\": 20, \"pct_trips_competitive\": 1.0, \"bus_difference_spread\": 0.0, \"route_group\": \"medium\", \"max_trip_hrs\": 1.33, \"max_trip_route_group\": 1.33, \"name\": \"City of Redondo Beach\", \"caltrans_district\": \"07 - Los Angeles\", \"drmt_organization_name\": null, \"cutoff2\": 30, \"cutoff\": 0}, {\"calitp_itp_id\": 260, \"trip_key\": -4499201128805887979, \"trip_id\": \"BCT109 SB_MF.T20\", \"shape_id\": \"BCT109 SB\", \"route_id\": \"BCT109 SB\", \"service_hours\": 1.33, \"trip_first_departure_ts\": 73500, \"trip_last_arrival_ts\": 78300, \"departure_hour\": 20, \"time_of_day\": \"Owl Service\", \"p25\": 1.33, \"p50\": 1.33, \"p75\": 1.33, \"p50_trip\": 1, \"fastest_trip\": 1, \"car_duration_hours\": 1.1, \"competitive_route\": 1, \"bus_multiplier\": 1.21, \"bus_difference\": 13.8, \"num_trips\": 20, \"num_competitive\": 20, \"pct_trips_competitive\": 1.0, \"bus_difference_spread\": 0.0, \"route_group\": \"medium\", \"max_trip_hrs\": 1.33, \"max_trip_route_group\": 1.33, \"name\": \"City of Redondo Beach\", \"caltrans_district\": \"07 - Los Angeles\", \"drmt_organization_name\": null, \"cutoff2\": 30, \"cutoff\": 0}, {\"calitp_itp_id\": 260, \"trip_key\": -950805648954300900, \"trip_id\": \"BCT109 SB_MF.T15\", \"shape_id\": \"BCT109 SB\", \"route_id\": \"BCT109 SB\", \"service_hours\": 1.33, \"trip_first_departure_ts\": 60000, \"trip_last_arrival_ts\": 64800, \"departure_hour\": 16, \"time_of_day\": \"Midday\", \"p25\": 1.33, \"p50\": 1.33, \"p75\": 1.33, \"p50_trip\": 1, \"fastest_trip\": 0, \"car_duration_hours\": 1.1, \"competitive_route\": 1, \"bus_multiplier\": 1.21, \"bus_difference\": 13.8, \"num_trips\": 20, \"num_competitive\": 20, \"pct_trips_competitive\": 1.0, \"bus_difference_spread\": 0.0, \"route_group\": \"medium\", \"max_trip_hrs\": 1.33, \"max_trip_route_group\": 1.33, \"name\": \"City of Redondo Beach\", \"caltrans_district\": \"07 - Los Angeles\", \"drmt_organization_name\": null, \"cutoff2\": 30, \"cutoff\": 0}, {\"calitp_itp_id\": 260, \"trip_key\": 5483605554865067177, \"trip_id\": \"BCT109 SB_MF.T01\", \"shape_id\": \"BCT109 SB\", \"route_id\": \"BCT109 SB\", \"service_hours\": 1.33, \"trip_first_departure_ts\": 21300, \"trip_last_arrival_ts\": 26100, \"departure_hour\": 5, \"time_of_day\": \"Owl Service\", \"p25\": 1.33, \"p50\": 1.33, \"p75\": 1.33, \"p50_trip\": 1, \"fastest_trip\": 0, \"car_duration_hours\": 1.1, \"competitive_route\": 1, \"bus_multiplier\": 1.21, \"bus_difference\": 13.8, \"num_trips\": 20, \"num_competitive\": 20, \"pct_trips_competitive\": 1.0, \"bus_difference_spread\": 0.0, \"route_group\": \"medium\", \"max_trip_hrs\": 1.33, \"max_trip_route_group\": 1.33, \"name\": \"City of Redondo Beach\", \"caltrans_district\": \"07 - Los Angeles\", \"drmt_organization_name\": null, \"cutoff2\": 30, \"cutoff\": 0}, {\"calitp_itp_id\": 260, \"trip_key\": -4780138184419908344, \"trip_id\": \"BCT109 SB_MF.T14\", \"shape_id\": \"BCT109 SB\", \"route_id\": \"BCT109 SB\", \"service_hours\": 1.33, \"trip_first_departure_ts\": 57600, \"trip_last_arrival_ts\": 62400, \"departure_hour\": 16, \"time_of_day\": \"Midday\", \"p25\": 1.33, \"p50\": 1.33, \"p75\": 1.33, \"p50_trip\": 1, \"fastest_trip\": 0, \"car_duration_hours\": 1.1, \"competitive_route\": 1, \"bus_multiplier\": 1.21, \"bus_difference\": 13.8, \"num_trips\": 20, \"num_competitive\": 20, \"pct_trips_competitive\": 1.0, \"bus_difference_spread\": 0.0, \"route_group\": \"medium\", \"max_trip_hrs\": 1.33, \"max_trip_route_group\": 1.33, \"name\": \"City of Redondo Beach\", \"caltrans_district\": \"07 - Los Angeles\", \"drmt_organization_name\": null, \"cutoff2\": 30, \"cutoff\": 0}, {\"calitp_itp_id\": 260, \"trip_key\": -4425915001469547984, \"trip_id\": \"BCT109 SB_MF.T03\", \"shape_id\": \"BCT109 SB\", \"route_id\": \"BCT109 SB\", \"service_hours\": 1.33, \"trip_first_departure_ts\": 26400, \"trip_last_arrival_ts\": 31200, \"departure_hour\": 7, \"time_of_day\": \"AM Peak\", \"p25\": 1.33, \"p50\": 1.33, \"p75\": 1.33, \"p50_trip\": 1, \"fastest_trip\": 0, \"car_duration_hours\": 1.1, \"competitive_route\": 1, \"bus_multiplier\": 1.21, \"bus_difference\": 13.8, \"num_trips\": 20, \"num_competitive\": 20, \"pct_trips_competitive\": 1.0, \"bus_difference_spread\": 0.0, \"route_group\": \"medium\", \"max_trip_hrs\": 1.33, \"max_trip_route_group\": 1.33, \"name\": \"City of Redondo Beach\", \"caltrans_district\": \"07 - Los Angeles\", \"drmt_organization_name\": null, \"cutoff2\": 30, \"cutoff\": 0}, {\"calitp_itp_id\": 260, \"trip_key\": -6387492083207951242, \"trip_id\": \"BCT109 SB_MF.T11\", \"shape_id\": \"BCT109 SB\", \"route_id\": \"BCT109 SB\", \"service_hours\": 1.33, \"trip_first_departure_ts\": 49200, \"trip_last_arrival_ts\": 54000, \"departure_hour\": 13, \"time_of_day\": \"Midday\", \"p25\": 1.33, \"p50\": 1.33, \"p75\": 1.33, \"p50_trip\": 1, \"fastest_trip\": 0, \"car_duration_hours\": 1.1, \"competitive_route\": 1, \"bus_multiplier\": 1.21, \"bus_difference\": 13.8, \"num_trips\": 20, \"num_competitive\": 20, \"pct_trips_competitive\": 1.0, \"bus_difference_spread\": 0.0, \"route_group\": \"medium\", \"max_trip_hrs\": 1.33, \"max_trip_route_group\": 1.33, \"name\": \"City of Redondo Beach\", \"caltrans_district\": \"07 - Los Angeles\", \"drmt_organization_name\": null, \"cutoff2\": 30, \"cutoff\": 0}, {\"calitp_itp_id\": 260, \"trip_key\": -3213125366714638313, \"trip_id\": \"BCT109 SB_MF.T13\", \"shape_id\": \"BCT109 SB\", \"route_id\": \"BCT109 SB\", \"service_hours\": 1.33, \"trip_first_departure_ts\": 54900, \"trip_last_arrival_ts\": 59700, \"departure_hour\": 15, \"time_of_day\": \"Midday\", \"p25\": 1.33, \"p50\": 1.33, \"p75\": 1.33, \"p50_trip\": 1, \"fastest_trip\": 0, \"car_duration_hours\": 1.1, \"competitive_route\": 1, \"bus_multiplier\": 1.21, \"bus_difference\": 13.8, \"num_trips\": 20, \"num_competitive\": 20, \"pct_trips_competitive\": 1.0, \"bus_difference_spread\": 0.0, \"route_group\": \"medium\", \"max_trip_hrs\": 1.33, \"max_trip_route_group\": 1.33, \"name\": \"City of Redondo Beach\", \"caltrans_district\": \"07 - Los Angeles\", \"drmt_organization_name\": null, \"cutoff2\": 30, \"cutoff\": 0}, {\"calitp_itp_id\": 260, \"trip_key\": 3809111814313801124, \"trip_id\": \"BCT109 SB_MF.T07\", \"shape_id\": \"BCT109 SB\", \"route_id\": \"BCT109 SB\", \"service_hours\": 1.33, \"trip_first_departure_ts\": 37200, \"trip_last_arrival_ts\": 42000, \"departure_hour\": 10, \"time_of_day\": \"Midday\", \"p25\": 1.33, \"p50\": 1.33, \"p75\": 1.33, \"p50_trip\": 1, \"fastest_trip\": 0, \"car_duration_hours\": 1.1, \"competitive_route\": 1, \"bus_multiplier\": 1.21, \"bus_difference\": 13.8, \"num_trips\": 20, \"num_competitive\": 20, \"pct_trips_competitive\": 1.0, \"bus_difference_spread\": 0.0, \"route_group\": \"medium\", \"max_trip_hrs\": 1.33, \"max_trip_route_group\": 1.33, \"name\": \"City of Redondo Beach\", \"caltrans_district\": \"07 - Los Angeles\", \"drmt_organization_name\": null, \"cutoff2\": 30, \"cutoff\": 0}, {\"calitp_itp_id\": 260, \"trip_key\": -8946219895800285709, \"trip_id\": \"BCT109 SB_MF.T12\", \"shape_id\": \"BCT109 SB\", \"route_id\": \"BCT109 SB\", \"service_hours\": 1.33, \"trip_first_departure_ts\": 51900, \"trip_last_arrival_ts\": 56700, \"departure_hour\": 14, \"time_of_day\": \"Midday\", \"p25\": 1.33, \"p50\": 1.33, \"p75\": 1.33, \"p50_trip\": 1, \"fastest_trip\": 0, \"car_duration_hours\": 1.1, \"competitive_route\": 1, \"bus_multiplier\": 1.21, \"bus_difference\": 13.8, \"num_trips\": 20, \"num_competitive\": 20, \"pct_trips_competitive\": 1.0, \"bus_difference_spread\": 0.0, \"route_group\": \"medium\", \"max_trip_hrs\": 1.33, \"max_trip_route_group\": 1.33, \"name\": \"City of Redondo Beach\", \"caltrans_district\": \"07 - Los Angeles\", \"drmt_organization_name\": null, \"cutoff2\": 30, \"cutoff\": 0}, {\"calitp_itp_id\": 260, \"trip_key\": 8591784665566234450, \"trip_id\": \"BCT109 SB_MF.T08\", \"shape_id\": \"BCT109 SB\", \"route_id\": \"BCT109 SB\", \"service_hours\": 1.33, \"trip_first_departure_ts\": 39900, \"trip_last_arrival_ts\": 44700, \"departure_hour\": 11, \"time_of_day\": \"Midday\", \"p25\": 1.33, \"p50\": 1.33, \"p75\": 1.33, \"p50_trip\": 1, \"fastest_trip\": 0, \"car_duration_hours\": 1.1, \"competitive_route\": 1, \"bus_multiplier\": 1.21, \"bus_difference\": 13.8, \"num_trips\": 20, \"num_competitive\": 20, \"pct_trips_competitive\": 1.0, \"bus_difference_spread\": 0.0, \"route_group\": \"medium\", \"max_trip_hrs\": 1.33, \"max_trip_route_group\": 1.33, \"name\": \"City of Redondo Beach\", \"caltrans_district\": \"07 - Los Angeles\", \"drmt_organization_name\": null, \"cutoff2\": 30, \"cutoff\": 0}, {\"calitp_itp_id\": 260, \"trip_key\": -5692302563158925297, \"trip_id\": \"BCT109 SB_MF.T02\", \"shape_id\": \"BCT109 SB\", \"route_id\": \"BCT109 SB\", \"service_hours\": 1.33, \"trip_first_departure_ts\": 24000, \"trip_last_arrival_ts\": 28800, \"departure_hour\": 6, \"time_of_day\": \"Owl Service\", \"p25\": 1.33, \"p50\": 1.33, \"p75\": 1.33, \"p50_trip\": 1, \"fastest_trip\": 0, \"car_duration_hours\": 1.1, \"competitive_route\": 1, \"bus_multiplier\": 1.21, \"bus_difference\": 13.8, \"num_trips\": 20, \"num_competitive\": 20, \"pct_trips_competitive\": 1.0, \"bus_difference_spread\": 0.0, \"route_group\": \"medium\", \"max_trip_hrs\": 1.33, \"max_trip_route_group\": 1.33, \"name\": \"City of Redondo Beach\", \"caltrans_district\": \"07 - Los Angeles\", \"drmt_organization_name\": null, \"cutoff2\": 30, \"cutoff\": 0}, {\"calitp_itp_id\": 260, \"trip_key\": -6167030381298569725, \"trip_id\": \"BCT109 SB_MF.T04\", \"shape_id\": \"BCT109 SB\", \"route_id\": \"BCT109 SB\", \"service_hours\": 1.33, \"trip_first_departure_ts\": 29100, \"trip_last_arrival_ts\": 33900, \"departure_hour\": 8, \"time_of_day\": \"AM Peak\", \"p25\": 1.33, \"p50\": 1.33, \"p75\": 1.33, \"p50_trip\": 1, \"fastest_trip\": 0, \"car_duration_hours\": 1.1, \"competitive_route\": 1, \"bus_multiplier\": 1.21, \"bus_difference\": 13.8, \"num_trips\": 20, \"num_competitive\": 20, \"pct_trips_competitive\": 1.0, \"bus_difference_spread\": 0.0, \"route_group\": \"medium\", \"max_trip_hrs\": 1.33, \"max_trip_route_group\": 1.33, \"name\": \"City of Redondo Beach\", \"caltrans_district\": \"07 - Los Angeles\", \"drmt_organization_name\": null, \"cutoff2\": 30, \"cutoff\": 0}, {\"calitp_itp_id\": 260, \"trip_key\": -5704407478966822574, \"trip_id\": \"BCT109 SB_MF.T19\", \"shape_id\": \"BCT109 SB\", \"route_id\": \"BCT109 SB\", \"service_hours\": 1.33, \"trip_first_departure_ts\": 70800, \"trip_last_arrival_ts\": 75600, \"departure_hour\": 19, \"time_of_day\": \"PM Peak\", \"p25\": 1.33, \"p50\": 1.33, \"p75\": 1.33, \"p50_trip\": 1, \"fastest_trip\": 0, \"car_duration_hours\": 1.1, \"competitive_route\": 1, \"bus_multiplier\": 1.21, \"bus_difference\": 13.8, \"num_trips\": 20, \"num_competitive\": 20, \"pct_trips_competitive\": 1.0, \"bus_difference_spread\": 0.0, \"route_group\": \"medium\", \"max_trip_hrs\": 1.33, \"max_trip_route_group\": 1.33, \"name\": \"City of Redondo Beach\", \"caltrans_district\": \"07 - Los Angeles\", \"drmt_organization_name\": null, \"cutoff2\": 30, \"cutoff\": 0}, {\"calitp_itp_id\": 260, \"trip_key\": 6970404091750010637, \"trip_id\": \"BCT109 SB_MF.T06\", \"shape_id\": \"BCT109 SB\", \"route_id\": \"BCT109 SB\", \"service_hours\": 1.33, \"trip_first_departure_ts\": 34800, \"trip_last_arrival_ts\": 39600, \"departure_hour\": 9, \"time_of_day\": \"AM Peak\", \"p25\": 1.33, \"p50\": 1.33, \"p75\": 1.33, \"p50_trip\": 1, \"fastest_trip\": 0, \"car_duration_hours\": 1.1, \"competitive_route\": 1, \"bus_multiplier\": 1.21, \"bus_difference\": 13.8, \"num_trips\": 20, \"num_competitive\": 20, \"pct_trips_competitive\": 1.0, \"bus_difference_spread\": 0.0, \"route_group\": \"medium\", \"max_trip_hrs\": 1.33, \"max_trip_route_group\": 1.33, \"name\": \"City of Redondo Beach\", \"caltrans_district\": \"07 - Los Angeles\", \"drmt_organization_name\": null, \"cutoff2\": 30, \"cutoff\": 0}, {\"calitp_itp_id\": 260, \"trip_key\": 5016011737382582511, \"trip_id\": \"BCT109 SB_MF.T10\", \"shape_id\": \"BCT109 SB\", \"route_id\": \"BCT109 SB\", \"service_hours\": 1.33, \"trip_first_departure_ts\": 46800, \"trip_last_arrival_ts\": 51600, \"departure_hour\": 13, \"time_of_day\": \"Midday\", \"p25\": 1.33, \"p50\": 1.33, \"p75\": 1.33, \"p50_trip\": 1, \"fastest_trip\": 0, \"car_duration_hours\": 1.1, \"competitive_route\": 1, \"bus_multiplier\": 1.21, \"bus_difference\": 13.8, \"num_trips\": 20, \"num_competitive\": 20, \"pct_trips_competitive\": 1.0, \"bus_difference_spread\": 0.0, \"route_group\": \"medium\", \"max_trip_hrs\": 1.33, \"max_trip_route_group\": 1.33, \"name\": \"City of Redondo Beach\", \"caltrans_district\": \"07 - Los Angeles\", \"drmt_organization_name\": null, \"cutoff2\": 30, \"cutoff\": 0}, {\"calitp_itp_id\": 260, \"trip_key\": 167940946600347386, \"trip_id\": \"BCT109 SB_MF.T18\", \"shape_id\": \"BCT109 SB\", \"route_id\": \"BCT109 SB\", \"service_hours\": 1.33, \"trip_first_departure_ts\": 68400, \"trip_last_arrival_ts\": 73200, \"departure_hour\": 19, \"time_of_day\": \"PM Peak\", \"p25\": 1.33, \"p50\": 1.33, \"p75\": 1.33, \"p50_trip\": 1, \"fastest_trip\": 0, \"car_duration_hours\": 1.1, \"competitive_route\": 1, \"bus_multiplier\": 1.21, \"bus_difference\": 13.8, \"num_trips\": 20, \"num_competitive\": 20, \"pct_trips_competitive\": 1.0, \"bus_difference_spread\": 0.0, \"route_group\": \"medium\", \"max_trip_hrs\": 1.33, \"max_trip_route_group\": 1.33, \"name\": \"City of Redondo Beach\", \"caltrans_district\": \"07 - Los Angeles\", \"drmt_organization_name\": null, \"cutoff2\": 30, \"cutoff\": 0}, {\"calitp_itp_id\": 260, \"trip_key\": 1469278410914527932, \"trip_id\": \"BCT109 SB_MF.T09\", \"shape_id\": \"BCT109 SB\", \"route_id\": \"BCT109 SB\", \"service_hours\": 1.33, \"trip_first_departure_ts\": 44100, \"trip_last_arrival_ts\": 48900, \"departure_hour\": 12, \"time_of_day\": \"Midday\", \"p25\": 1.33, \"p50\": 1.33, \"p75\": 1.33, \"p50_trip\": 1, \"fastest_trip\": 0, \"car_duration_hours\": 1.1, \"competitive_route\": 1, \"bus_multiplier\": 1.21, \"bus_difference\": 13.8, \"num_trips\": 20, \"num_competitive\": 20, \"pct_trips_competitive\": 1.0, \"bus_difference_spread\": 0.0, \"route_group\": \"medium\", \"max_trip_hrs\": 1.33, \"max_trip_route_group\": 1.33, \"name\": \"City of Redondo Beach\", \"caltrans_district\": \"07 - Los Angeles\", \"drmt_organization_name\": null, \"cutoff2\": 30, \"cutoff\": 0}]}}, {\"mode\": \"vega-lite\"});\n",
       "</script>"
      ],
      "text/plain": [
       "alt.FacetChart(...)"
      ]
     },
     "metadata": {},
     "output_type": "display_data"
    }
   ],
   "source": [
    "route_group = \"medium\"\n",
    "try:\n",
    "    display_charts_for_route_group(df, route_group)\n",
    "except:\n",
    "    print(\"No routes meet this criteria.\")"
   ]
  },
  {
   "cell_type": "markdown",
   "id": "124b76d0-886c-4d03-92ac-f1bda3cda182",
   "metadata": {
    "papermill": {
     "duration": 0.021407,
     "end_time": "2022-05-09T20:09:25.940207",
     "exception": false,
     "start_time": "2022-05-09T20:09:25.918800",
     "status": "completed"
    },
    "tags": []
   },
   "source": [
    "### Long Routes (> 1.5 hrs)"
   ]
  },
  {
   "cell_type": "code",
   "execution_count": 15,
   "id": "ddc81b19-4c45-4c81-8b7a-5e0f394aa7a3",
   "metadata": {
    "execution": {
     "iopub.execute_input": "2022-05-09T20:09:25.986033Z",
     "iopub.status.busy": "2022-05-09T20:09:25.985627Z",
     "iopub.status.idle": "2022-05-09T20:09:26.006041Z",
     "shell.execute_reply": "2022-05-09T20:09:26.003795Z"
    },
    "jupyter": {
     "source_hidden": true
    },
    "papermill": {
     "duration": 0.045099,
     "end_time": "2022-05-09T20:09:26.008312",
     "exception": false,
     "start_time": "2022-05-09T20:09:25.963213",
     "status": "completed"
    },
    "tags": [
     "remove_input"
    ]
   },
   "outputs": [
    {
     "name": "stdout",
     "output_type": "stream",
     "text": [
      "No routes meet this criteria.\n"
     ]
    }
   ],
   "source": [
    "route_group = \"long\"\n",
    "try:\n",
    "    display_charts_for_route_group(df, route_group)\n",
    "except:\n",
    "    print(\"No routes meet this criteria.\")"
   ]
  },
  {
   "cell_type": "markdown",
   "id": "ace75b5f-0442-4fbe-aebd-6c3a13ae13a7",
   "metadata": {
    "papermill": {
     "duration": 0.021603,
     "end_time": "2022-05-09T20:09:26.051850",
     "exception": false,
     "start_time": "2022-05-09T20:09:26.030247",
     "status": "completed"
    },
    "tags": []
   },
   "source": [
    "### GTFS Real-Time Speedmaps"
   ]
  },
  {
   "cell_type": "code",
   "execution_count": 16,
   "id": "a0a114a1-e975-4027-9daf-50029f5ef59f",
   "metadata": {
    "execution": {
     "iopub.execute_input": "2022-05-09T20:09:26.098757Z",
     "iopub.status.busy": "2022-05-09T20:09:26.098413Z",
     "iopub.status.idle": "2022-05-09T20:09:26.172088Z",
     "shell.execute_reply": "2022-05-09T20:09:26.170631Z"
    },
    "jupyter": {
     "source_hidden": true
    },
    "papermill": {
     "duration": 0.10138,
     "end_time": "2022-05-09T20:09:26.175996",
     "exception": false,
     "start_time": "2022-05-09T20:09:26.074616",
     "status": "completed"
    },
    "tags": [
     "remove_input"
    ]
   },
   "outputs": [
    {
     "data": {
      "text/html": [
       "<a href=https://analysis.calitp.org/rt/district_07-los-angeles/speedmaps__itp_id_260.html>GTFS RT speedmaps here.</a>"
      ],
      "text/plain": [
       "<IPython.core.display.HTML object>"
      ]
     },
     "metadata": {},
     "output_type": "display_data"
    }
   ],
   "source": [
    "PORTFOLIO_SITE_YAML = \"../portfolio/analyses.yml\"\n",
    "\n",
    "# Grab list of ITP IDs with GTFS RT speedmaps\n",
    "rt_itp_id = deploy_portfolio_yaml.check_if_rt_data_available(PORTFOLIO_SITE_YAML)\n",
    "\n",
    "# Construct the URL \n",
    "RT_URL = (\"https://analysis.calitp.org/rt/\"\n",
    "          f\"district_{district_number}-{district_name}/\"\n",
    "          f\"speedmaps__itp_id_{itp_id}.html\"\n",
    "         ) \n",
    "\n",
    "if itp_id in rt_itp_id:\n",
    "    display(HTML(f'''<a href={RT_URL}>GTFS RT speedmaps here.</a>'''))\n",
    "\n",
    "else:\n",
    "    display(HTML(\"No GTFS RT data available.\"))"
   ]
  },
  {
   "cell_type": "code",
   "execution_count": null,
   "id": "5b680565-2230-4f2e-817c-718fad48d64c",
   "metadata": {
    "jupyter": {
     "source_hidden": true
    },
    "papermill": {
     "duration": 0.034633,
     "end_time": "2022-05-09T20:09:26.247544",
     "exception": false,
     "start_time": "2022-05-09T20:09:26.212911",
     "status": "completed"
    },
    "tags": [
     "remove_input"
    ]
   },
   "outputs": [],
   "source": []
  }
 ],
 "metadata": {
  "kernelspec": {
   "display_name": "Python 3 (ipykernel)",
   "language": "python",
   "name": "python3"
  },
  "language_info": {
   "codemirror_mode": {
    "name": "ipython",
    "version": 3
   },
   "file_extension": ".py",
   "mimetype": "text/x-python",
   "name": "python",
   "nbconvert_exporter": "python",
   "pygments_lexer": "ipython3",
   "version": "3.9.12"
  },
  "papermill": {
   "default_parameters": {},
   "duration": 29.845428,
   "end_time": "2022-05-09T20:09:28.220556",
   "environment_variables": {},
   "exception": null,
   "input_path": "bus_service_increase/competitive-parallel-routes.ipynb",
   "output_path": "portfolio/parallel_corridors/district_07-los-angeles/competitive-parallel-routes__itp_id_260.ipynb",
   "parameters": {
    "district": "07 - Los Angeles",
    "itp_id": 260
   },
   "start_time": "2022-05-09T20:08:58.375128",
   "version": "2.3.4"
  }
 },
 "nbformat": 4,
 "nbformat_minor": 5
}