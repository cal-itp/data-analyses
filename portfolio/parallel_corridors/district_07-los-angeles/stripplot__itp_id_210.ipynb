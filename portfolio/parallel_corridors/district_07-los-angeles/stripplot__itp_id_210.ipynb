{
 "cells": [
  {
   "cell_type": "code",
   "execution_count": 1,
   "id": "95d00857-6a20-4529-a519-2cc7182928a9",
   "metadata": {
    "execution": {
     "iopub.execute_input": "2022-05-07T17:21:52.476224Z",
     "iopub.status.busy": "2022-05-07T17:21:52.475892Z",
     "iopub.status.idle": "2022-05-07T17:22:00.410617Z",
     "shell.execute_reply": "2022-05-07T17:22:00.409919Z"
    },
    "jupyter": {
     "source_hidden": true
    },
    "papermill": {
     "duration": 7.950708,
     "end_time": "2022-05-07T17:22:00.413066",
     "exception": false,
     "start_time": "2022-05-07T17:21:52.462358",
     "status": "completed"
    },
    "tags": [
     "remove_input"
    ]
   },
   "outputs": [],
   "source": [
    "%%capture\n",
    "import warnings\n",
    "warnings.filterwarnings('ignore')\n",
    "\n",
    "import altair as alt\n",
    "import calitp.magics\n",
    "import geopandas as gpd\n",
    "import intake\n",
    "import pandas as pd\n",
    "\n",
    "from IPython.display import display, Markdown, HTML\n",
    "\n",
    "import parallel_corridors_utils\n",
    "from shared_utils import styleguide\n",
    "\n",
    "catalog = intake.open_catalog(\"./*.yml\")\n",
    "alt.renderers.enable(\"html\")"
   ]
  },
  {
   "cell_type": "code",
   "execution_count": 2,
   "id": "8af2a0c1-f3da-408d-9bea-11d9fbf8695d",
   "metadata": {
    "execution": {
     "iopub.execute_input": "2022-05-07T17:22:00.437295Z",
     "iopub.status.busy": "2022-05-07T17:22:00.437024Z",
     "iopub.status.idle": "2022-05-07T17:22:00.441041Z",
     "shell.execute_reply": "2022-05-07T17:22:00.440161Z"
    },
    "jupyter": {
     "source_hidden": true
    },
    "papermill": {
     "duration": 0.018131,
     "end_time": "2022-05-07T17:22:00.443266",
     "exception": false,
     "start_time": "2022-05-07T17:22:00.425135",
     "status": "completed"
    },
    "tags": [
     "parameters",
     "remove_input"
    ]
   },
   "outputs": [],
   "source": [
    "# parameters cell\n",
    "itp_id = 182"
   ]
  },
  {
   "cell_type": "code",
   "execution_count": 3,
   "id": "03dfee1f",
   "metadata": {
    "execution": {
     "iopub.execute_input": "2022-05-07T17:22:00.464901Z",
     "iopub.status.busy": "2022-05-07T17:22:00.464436Z",
     "iopub.status.idle": "2022-05-07T17:22:00.468629Z",
     "shell.execute_reply": "2022-05-07T17:22:00.467853Z"
    },
    "jupyter": {
     "source_hidden": true
    },
    "papermill": {
     "duration": 0.017328,
     "end_time": "2022-05-07T17:22:00.470412",
     "exception": false,
     "start_time": "2022-05-07T17:22:00.453084",
     "status": "completed"
    },
    "tags": [
     "injected-parameters",
     "remove_input"
    ]
   },
   "outputs": [],
   "source": [
    "# Parameters\n",
    "district = \"07 - Los Angeles\"\n",
    "itp_id = 210\n"
   ]
  },
  {
   "cell_type": "code",
   "execution_count": 4,
   "id": "9582aaf4-79ff-412a-b248-8d8d693ebd4f",
   "metadata": {
    "execution": {
     "iopub.execute_input": "2022-05-07T17:22:00.497816Z",
     "iopub.status.busy": "2022-05-07T17:22:00.496846Z",
     "iopub.status.idle": "2022-05-07T17:22:01.704546Z",
     "shell.execute_reply": "2022-05-07T17:22:01.703631Z"
    },
    "jupyter": {
     "source_hidden": true
    },
    "papermill": {
     "duration": 1.225839,
     "end_time": "2022-05-07T17:22:01.706685",
     "exception": false,
     "start_time": "2022-05-07T17:22:00.480846",
     "status": "completed"
    },
    "tags": [
     "remove_input"
    ]
   },
   "outputs": [],
   "source": [
    "df = catalog.competitive_route_variability.read()\n",
    "\n",
    "df = (df[(df.calitp_itp_id == itp_id) & \n",
    "         (df.route_group.notna())]\n",
    "      .reset_index(drop=True)\n",
    "     )\n",
    "\n",
    "\n",
    "if itp_id == 182:\n",
    "    df = df.assign(\n",
    "        route_id = df.route_id.str.replace('-13153', '').astype(int)\n",
    "    )"
   ]
  },
  {
   "cell_type": "code",
   "execution_count": 5,
   "id": "33ac4b06-f647-4dce-a625-8f2c1b37cc60",
   "metadata": {
    "execution": {
     "iopub.execute_input": "2022-05-07T17:22:01.729528Z",
     "iopub.status.busy": "2022-05-07T17:22:01.728640Z",
     "iopub.status.idle": "2022-05-07T17:22:01.735507Z",
     "shell.execute_reply": "2022-05-07T17:22:01.734908Z"
    },
    "jupyter": {
     "source_hidden": true
    },
    "papermill": {
     "duration": 0.020305,
     "end_time": "2022-05-07T17:22:01.737339",
     "exception": false,
     "start_time": "2022-05-07T17:22:01.717034",
     "status": "completed"
    },
    "tags": [
     "remove_input"
    ]
   },
   "outputs": [],
   "source": [
    "%%capture_parameters\n",
    "operator_name = df.name.iloc[0]\n",
    "\n",
    "itp_id, operator_name"
   ]
  },
  {
   "cell_type": "markdown",
   "id": "65bc6f5c-8348-42ee-b2dd-52057c406852",
   "metadata": {
    "papermill": {
     "duration": 0.01006,
     "end_time": "2022-05-07T17:22:01.757425",
     "exception": false,
     "start_time": "2022-05-07T17:22:01.747365",
     "status": "completed"
    },
    "tags": []
   },
   "source": [
    "# City of Moorpark (ITP ID: 210)"
   ]
  },
  {
   "cell_type": "code",
   "execution_count": 6,
   "id": "a689c1ab-2c6c-4831-8d64-897f5986f571",
   "metadata": {
    "execution": {
     "iopub.execute_input": "2022-05-07T17:22:01.779420Z",
     "iopub.status.busy": "2022-05-07T17:22:01.778783Z",
     "iopub.status.idle": "2022-05-07T17:22:01.785358Z",
     "shell.execute_reply": "2022-05-07T17:22:01.784820Z"
    },
    "jupyter": {
     "source_hidden": true
    },
    "papermill": {
     "duration": 0.019654,
     "end_time": "2022-05-07T17:22:01.787021",
     "exception": false,
     "start_time": "2022-05-07T17:22:01.767367",
     "status": "completed"
    },
    "tags": [
     "remove_input"
    ]
   },
   "outputs": [
    {
     "data": {
      "text/html": [
       "<h1>Competitive & Parallel Routes</h1>"
      ],
      "text/plain": [
       "<IPython.core.display.HTML object>"
      ]
     },
     "metadata": {},
     "output_type": "display_data"
    }
   ],
   "source": [
    "display(HTML(\"<h1>Competitive & Parallel Routes</h1>\")) "
   ]
  },
  {
   "cell_type": "code",
   "execution_count": 7,
   "id": "2cb4d8d5-4760-40e4-85b1-cb833d8bb648",
   "metadata": {
    "execution": {
     "iopub.execute_input": "2022-05-07T17:22:01.817454Z",
     "iopub.status.busy": "2022-05-07T17:22:01.816592Z",
     "iopub.status.idle": "2022-05-07T17:22:11.809965Z",
     "shell.execute_reply": "2022-05-07T17:22:11.809359Z"
    },
    "jupyter": {
     "source_hidden": true
    },
    "papermill": {
     "duration": 10.014447,
     "end_time": "2022-05-07T17:22:11.811991",
     "exception": false,
     "start_time": "2022-05-07T17:22:01.797544",
     "status": "completed"
    },
    "tags": [
     "remove_input"
    ]
   },
   "outputs": [],
   "source": [
    "# Grab parameters for narrative text - clean up formatting here \n",
    "district = df.caltrans_district.iloc[0]\n",
    "formatted_date = pd.to_datetime(parallel_corridors_utils.SELECTED_DATE).strftime('%m-%d-%Y')\n",
    "\n",
    "PCT_COMPETITIVE_THRESHOLD = 0.75\n",
    "\n",
    "stats = parallel_corridors_utils.operator_parallel_competitive_stats(\n",
    "    itp_id, PCT_COMPETITIVE_THRESHOLD)\n",
    "\n",
    "pct_parallel = round(stats['parallel_routes'] / stats['num_routes'] * 100,1 )\n",
    "pct_competitive =  round(stats['competitive_routes'] / stats['num_routes'] * 100,1 )"
   ]
  },
  {
   "cell_type": "markdown",
   "id": "ab667928-5274-4490-82d9-4c39293209a4",
   "metadata": {
    "papermill": {
     "duration": 0.011463,
     "end_time": "2022-05-07T17:22:11.834880",
     "exception": false,
     "start_time": "2022-05-07T17:22:11.823417",
     "status": "completed"
    },
    "tags": []
   },
   "source": [
    "## Quick Stats"
   ]
  },
  {
   "cell_type": "code",
   "execution_count": 8,
   "id": "0416509d-dc62-4165-b62e-64f8b26e8b8e",
   "metadata": {
    "execution": {
     "iopub.execute_input": "2022-05-07T17:22:11.860276Z",
     "iopub.status.busy": "2022-05-07T17:22:11.859305Z",
     "iopub.status.idle": "2022-05-07T17:22:11.865799Z",
     "shell.execute_reply": "2022-05-07T17:22:11.865274Z"
    },
    "jupyter": {
     "source_hidden": true
    },
    "papermill": {
     "duration": 0.021926,
     "end_time": "2022-05-07T17:22:11.867393",
     "exception": false,
     "start_time": "2022-05-07T17:22:11.845467",
     "status": "completed"
    },
    "tags": [
     "remove_input"
    ]
   },
   "outputs": [
    {
     "data": {
      "text/markdown": [
       "**Bus routes in service**: 2 <br>**Parallel routes** to State Highway Network (SHN): 2 routes (100.0%)<br>**Competitive routes** against car travel: 1 routes (50.0%)"
      ],
      "text/plain": [
       "<IPython.core.display.Markdown object>"
      ]
     },
     "metadata": {},
     "output_type": "display_data"
    }
   ],
   "source": [
    "display(\n",
    "    Markdown(\n",
    "        f\"**Bus routes in service**: {stats['num_routes']} \"\n",
    "        \"<br>**Parallel routes** to State Highway Network (SHN): \"\n",
    "        f\"{stats['parallel_routes']} routes ({pct_parallel}%)\"\n",
    "        f\"<br>**Competitive routes** against car travel: {stats['competitive_routes']} routes ({pct_competitive}%)\"\n",
    "    )\n",
    ")"
   ]
  },
  {
   "cell_type": "code",
   "execution_count": 9,
   "id": "f9d6ab58-f0ee-460c-b6de-657490e1f386",
   "metadata": {
    "execution": {
     "iopub.execute_input": "2022-05-07T17:22:11.891904Z",
     "iopub.status.busy": "2022-05-07T17:22:11.891236Z",
     "iopub.status.idle": "2022-05-07T17:22:11.909995Z",
     "shell.execute_reply": "2022-05-07T17:22:11.909309Z"
    },
    "jupyter": {
     "source_hidden": true
    },
    "papermill": {
     "duration": 0.033374,
     "end_time": "2022-05-07T17:22:11.911723",
     "exception": false,
     "start_time": "2022-05-07T17:22:11.878349",
     "status": "completed"
    },
    "tags": [
     "remove_input"
    ]
   },
   "outputs": [],
   "source": [
    "def set_yaxis_range(df, y_col):\n",
    "    Y_MIN = df[y_col].min()\n",
    "    Y_MAX = df[y_col].max()\n",
    "    \n",
    "    return Y_MIN, Y_MAX\n",
    "\n",
    "# Rather than set it according to the operator, which can vary,\n",
    "# just use set thresholds for each group\n",
    "diff_cutoffs = {\n",
    "    \"short\": 20,\n",
    "    \"medium\": 30,\n",
    "    \"long\": 40,\n",
    "}\n",
    "\n",
    "PCT_TRIPS_BELOW_CUTOFF = 0.25\n",
    "\n",
    "def top15_routes(df, route_group):\n",
    "    df2 = (df[df.route_group==route_group])\n",
    "    # Set a cut-off to enable sorting, where most of the trips are \n",
    "    # below a certain time difference cut-off, \n",
    "    # grab top 15 routes where majority of trips are below that cut-off \n",
    "\n",
    "    route_cols = [\"calitp_itp_id\", \"route_id\"]\n",
    "\n",
    "    df2 = df2.assign(\n",
    "        below_cutoff = df2.apply(lambda x: 1 if x.bus_difference <= diff_cutoffs[route_group] \n",
    "                                 else 0, axis=1),\n",
    "        num_trips = df2.groupby(route_cols)[\"trip_id\"].transform(\"count\")\n",
    "    )\n",
    "\n",
    "    df2[\"below_cutoff\"] = df2.groupby(route_cols)[\"below_cutoff\"].transform(\"sum\")\n",
    "    df2[\"pct_below_cutoff\"] = df2.below_cutoff.divide(df2.num_trips)\n",
    "\n",
    "    # At least half the trips are below that cut-off\n",
    "    # but show 15 max, otherwise, show less, since these won't be as interesting to operators\n",
    "    df3 = (df2[df2.pct_below_cutoff >= PCT_TRIPS_BELOW_CUTOFF]\n",
    "           .sort_values([\"calitp_itp_id\", \"below_cutoff\", \n",
    "                         \"pct_below_cutoff\", \"route_id\"],\n",
    "                        ascending = [True, False, False, True]\n",
    "                       )\n",
    "           .drop_duplicates(subset=[\"calitp_itp_id\", \"route_id\"])\n",
    "          ).head(15)\n",
    "    \n",
    "    return list(df3.route_id)"
   ]
  },
  {
   "cell_type": "code",
   "execution_count": 10,
   "id": "cf36d559-3349-4144-8086-8ac9ce937a5a",
   "metadata": {
    "execution": {
     "iopub.execute_input": "2022-05-07T17:22:11.936602Z",
     "iopub.status.busy": "2022-05-07T17:22:11.936001Z",
     "iopub.status.idle": "2022-05-07T17:22:11.942017Z",
     "shell.execute_reply": "2022-05-07T17:22:11.941447Z"
    },
    "jupyter": {
     "source_hidden": true
    },
    "papermill": {
     "duration": 0.020853,
     "end_time": "2022-05-07T17:22:11.943964",
     "exception": false,
     "start_time": "2022-05-07T17:22:11.923111",
     "status": "completed"
    },
    "tags": [
     "remove_input"
    ]
   },
   "outputs": [],
   "source": [
    "short_caption = (\n",
    "    f\"<br>These are routes that have at least {int(PCT_TRIPS_BELOW_CUTOFF*100)}% of their trips \"\n",
    "    f\"take no more than an additional {diff_cutoffs['short']} min compared to a car \"\n",
    "    \"(up to 15 routes) are shown.\"\n",
    ")\n",
    "\n",
    "med_caption = (\n",
    "    f\"<br>These are routes that have at least {int(PCT_TRIPS_BELOW_CUTOFF*100)}% of their trips \"\n",
    "    f\"take no more than an additional {diff_cutoffs['medium']} min compared to a car \"\n",
    "    \"(up to 15 routes) are shown.\"\n",
    ")\n",
    "\n",
    "long_caption = (\n",
    "    f\"<br>These are routes that have at least {int(PCT_TRIPS_BELOW_CUTOFF*100)}% of their trips \"\n",
    "    f\"take no more than an additional {diff_cutoffs['long']} min compared to a car \"\n",
    "    \"(up to 15 routes) are shown.\")\n",
    "\n",
    "\n",
    "CAPTIONS_DICT = {\n",
    "    \"short\": short_caption,\n",
    "    \"medium\": med_caption,\n",
    "    \"long\": long_caption,\n",
    "}"
   ]
  },
  {
   "cell_type": "code",
   "execution_count": 11,
   "id": "e4306d58-6944-47e9-afef-5d5b524c751f",
   "metadata": {
    "execution": {
     "iopub.execute_input": "2022-05-07T17:22:11.968980Z",
     "iopub.status.busy": "2022-05-07T17:22:11.968179Z",
     "iopub.status.idle": "2022-05-07T17:22:11.975302Z",
     "shell.execute_reply": "2022-05-07T17:22:11.974518Z"
    },
    "jupyter": {
     "source_hidden": true
    },
    "papermill": {
     "duration": 0.021836,
     "end_time": "2022-05-07T17:22:11.976986",
     "exception": false,
     "start_time": "2022-05-07T17:22:11.955150",
     "status": "completed"
    },
    "tags": [
     "remove_input"
    ]
   },
   "outputs": [],
   "source": [
    "def setup_charts(df, PCT_COMPETITIVE_THRESHOLD, route_group):\n",
    "    # Set up df for charting (cut-off at some threshold to show most competitive routes)\n",
    "    plot_me = (df[df.pct_trips_competitive > PCT_COMPETITIVE_THRESHOLD]\n",
    "           .drop(columns = \"geometry\")\n",
    "    )\n",
    "    \n",
    "    y_col1 = \"bus_multiplier\"\n",
    "    Y_MIN1, Y_MAX1 = set_yaxis_range(plot_me, y_col1)\n",
    "\n",
    "    y_col2 = \"bus_difference\"\n",
    "    Y_MIN2, Y_MAX2 = set_yaxis_range(plot_me, y_col2)\n",
    "     \n",
    "    subset_routes = top15_routes(plot_me, route_group)\n",
    "    \n",
    "    multiplier_chart = parallel_corridors_utils.make_stripplot(\n",
    "        plot_me[plot_me.route_id.isin(subset_routes)], \n",
    "        y_col1, Y_MIN = Y_MIN1, Y_MAX = Y_MAX1\n",
    "    )\n",
    "    \n",
    "    difference_chart = parallel_corridors_utils.make_stripplot(\n",
    "        plot_me[plot_me.route_id.isin(subset_routes)], \n",
    "        y_col2, Y_MIN = Y_MIN2, Y_MAX = Y_MAX2\n",
    "    )\n",
    "    \n",
    "    return subset_routes, multiplier_chart, difference_chart            "
   ]
  },
  {
   "cell_type": "markdown",
   "id": "525f9b38-072b-46d1-96a8-1aa4b038357c",
   "metadata": {
    "papermill": {
     "duration": 0.011237,
     "end_time": "2022-05-07T17:22:11.999443",
     "exception": false,
     "start_time": "2022-05-07T17:22:11.988206",
     "status": "completed"
    },
    "tags": []
   },
   "source": [
    "## Viable Competitive Routes\n",
    "### Short Routes (< 1 hr)"
   ]
  },
  {
   "cell_type": "code",
   "execution_count": 12,
   "id": "57f7084c-2cf7-45c6-ba08-1609e0bd6ca5",
   "metadata": {
    "execution": {
     "iopub.execute_input": "2022-05-07T17:22:12.029637Z",
     "iopub.status.busy": "2022-05-07T17:22:12.027786Z",
     "iopub.status.idle": "2022-05-07T17:22:12.389177Z",
     "shell.execute_reply": "2022-05-07T17:22:12.388269Z"
    },
    "jupyter": {
     "source_hidden": true
    },
    "papermill": {
     "duration": 0.377312,
     "end_time": "2022-05-07T17:22:12.392136",
     "exception": false,
     "start_time": "2022-05-07T17:22:12.014824",
     "status": "completed"
    },
    "tags": [
     "remove_input"
    ]
   },
   "outputs": [
    {
     "data": {
      "text/markdown": [
       "<br>These are routes that have at least 25% of their trips take no more than an additional 20 min compared to a car (up to 15 routes) are shown.Within each route group, routes are sorted in descending order by % competitive trips and # trips below the additional time cut-off."
      ],
      "text/plain": [
       "<IPython.core.display.Markdown object>"
      ]
     },
     "metadata": {},
     "output_type": "display_data"
    },
    {
     "data": {
      "text/html": [
       "\n",
       "<div id=\"altair-viz-b50728a3f6774d3b9f5c17b39eeed48c\"></div>\n",
       "<script type=\"text/javascript\">\n",
       "  var VEGA_DEBUG = (typeof VEGA_DEBUG == \"undefined\") ? {} : VEGA_DEBUG;\n",
       "  (function(spec, embedOpt){\n",
       "    let outputDiv = document.currentScript.previousElementSibling;\n",
       "    if (outputDiv.id !== \"altair-viz-b50728a3f6774d3b9f5c17b39eeed48c\") {\n",
       "      outputDiv = document.getElementById(\"altair-viz-b50728a3f6774d3b9f5c17b39eeed48c\");\n",
       "    }\n",
       "    const paths = {\n",
       "      \"vega\": \"https://cdn.jsdelivr.net/npm//vega@5?noext\",\n",
       "      \"vega-lib\": \"https://cdn.jsdelivr.net/npm//vega-lib?noext\",\n",
       "      \"vega-lite\": \"https://cdn.jsdelivr.net/npm//vega-lite@4.17.0?noext\",\n",
       "      \"vega-embed\": \"https://cdn.jsdelivr.net/npm//vega-embed@6?noext\",\n",
       "    };\n",
       "\n",
       "    function maybeLoadScript(lib, version) {\n",
       "      var key = `${lib.replace(\"-\", \"\")}_version`;\n",
       "      return (VEGA_DEBUG[key] == version) ?\n",
       "        Promise.resolve(paths[lib]) :\n",
       "        new Promise(function(resolve, reject) {\n",
       "          var s = document.createElement('script');\n",
       "          document.getElementsByTagName(\"head\")[0].appendChild(s);\n",
       "          s.async = true;\n",
       "          s.onload = () => {\n",
       "            VEGA_DEBUG[key] = version;\n",
       "            return resolve(paths[lib]);\n",
       "          };\n",
       "          s.onerror = () => reject(`Error loading script: ${paths[lib]}`);\n",
       "          s.src = paths[lib];\n",
       "        });\n",
       "    }\n",
       "\n",
       "    function showError(err) {\n",
       "      outputDiv.innerHTML = `<div class=\"error\" style=\"color:red;\">${err}</div>`;\n",
       "      throw err;\n",
       "    }\n",
       "\n",
       "    function displayChart(vegaEmbed) {\n",
       "      vegaEmbed(outputDiv, spec, embedOpt)\n",
       "        .catch(err => showError(`Javascript Error: ${err.message}<br>This usually means there's a typo in your chart specification. See the javascript console for the full traceback.`));\n",
       "    }\n",
       "\n",
       "    if(typeof define === \"function\" && define.amd) {\n",
       "      requirejs.config({paths});\n",
       "      require([\"vega-embed\"], displayChart, err => showError(`Error loading script: ${err.message}`));\n",
       "    } else {\n",
       "      maybeLoadScript(\"vega\", \"5\")\n",
       "        .then(() => maybeLoadScript(\"vega-lite\", \"4.17.0\"))\n",
       "        .then(() => maybeLoadScript(\"vega-embed\", \"6\"))\n",
       "        .catch(showError)\n",
       "        .then(() => displayChart(vegaEmbed));\n",
       "    }\n",
       "  })({\"config\": {\"view\": {\"continuousWidth\": 400, \"continuousHeight\": 300, \"stroke\": null}, \"facet\": {\"spacing\": 0}}, \"data\": {\"name\": \"data-5fb9f20070d05429487f5c6e23a5258e\"}, \"facet\": {\"column\": {\"field\": \"route_id\", \"sort\": [\"11131\"], \"title\": \"Route ID\", \"type\": \"nominal\"}}, \"spec\": {\"layer\": [{\"mark\": {\"type\": \"point\", \"opacity\": 0.65, \"size\": 12, \"strokeWidth\": 1.1}, \"encoding\": {\"color\": {\"field\": \"time_of_day\", \"scale\": {\"range\": [\"#136C97\", \"#E16B26\", \"#F6BF16\", \"#00896B\", \"#7790A3\", \"#5B559C\"]}, \"sort\": [\"AM Peak\", \"Midday\", \"PM Peak\", \"Owl Service\"], \"title\": \"Time of Day\", \"type\": \"nominal\"}, \"tooltip\": [{\"field\": \"route_id\", \"type\": \"nominal\"}, {\"field\": \"trip_id\", \"type\": \"nominal\"}, {\"field\": \"service_hours\", \"type\": \"quantitative\"}, {\"field\": \"car_duration_hours\", \"type\": \"quantitative\"}, {\"field\": \"bus_multiplier\", \"type\": \"quantitative\"}, {\"field\": \"bus_difference\", \"type\": \"quantitative\"}, {\"field\": \"num_trips\", \"type\": \"quantitative\"}, {\"field\": \"num_competitive\", \"type\": \"quantitative\"}, {\"field\": \"pct_trips_competitive\", \"type\": \"quantitative\"}, {\"field\": \"p25\", \"type\": \"quantitative\"}, {\"field\": \"p50\", \"type\": \"quantitative\"}, {\"field\": \"p75\", \"type\": \"quantitative\"}], \"x\": {\"axis\": {\"grid\": false, \"labels\": false, \"ticks\": true, \"values\": [0]}, \"field\": \"jitter\", \"scale\": {}, \"title\": null, \"type\": \"quantitative\"}, \"y\": {\"field\": \"bus_multiplier\", \"scale\": {\"domain\": [-0.25, 2.5]}, \"title\": \"Ratio of Bus to Car Travel Time\", \"type\": \"quantitative\"}}, \"selection\": {\"selector001\": {\"type\": \"interval\", \"bind\": \"scales\", \"encodings\": [\"x\", \"y\"]}}, \"transform\": [{\"calculate\": \"sqrt(-2*log(random()))*cos(2*PI*random())\", \"as\": \"jitter\"}], \"width\": 60}, {\"layer\": [{\"mark\": {\"type\": \"point\", \"opacity\": 0.6, \"size\": 20, \"strokeWidth\": 1.3}, \"encoding\": {\"color\": {\"value\": \"#323434\"}, \"y\": {\"field\": \"bus_multiplier\", \"type\": \"quantitative\"}}, \"transform\": [{\"filter\": \"(datum.p50_trip === 1)\"}]}, {\"mark\": {\"type\": \"rule\", \"strokeDash\": [2, 3]}, \"encoding\": {\"color\": {\"value\": \"#323434\"}, \"y\": {\"field\": \"cutoff\", \"type\": \"quantitative\"}}}, {\"mark\": {\"type\": \"text\", \"align\": \"center\", \"baseline\": \"middle\"}, \"encoding\": {\"color\": {\"value\": \"black\"}, \"text\": {\"field\": \"pct_trips_competitive\", \"format\": \".0%\", \"type\": \"quantitative\"}, \"tooltip\": [{\"field\": \"route_id\", \"type\": \"nominal\"}, {\"field\": \"trip_id\", \"type\": \"nominal\"}, {\"field\": \"service_hours\", \"type\": \"quantitative\"}, {\"field\": \"car_duration_hours\", \"type\": \"quantitative\"}, {\"field\": \"bus_multiplier\", \"type\": \"quantitative\"}, {\"field\": \"bus_difference\", \"type\": \"quantitative\"}, {\"field\": \"num_trips\", \"type\": \"quantitative\"}, {\"field\": \"num_competitive\", \"type\": \"quantitative\"}, {\"field\": \"pct_trips_competitive\", \"type\": \"quantitative\"}, {\"field\": \"p25\", \"type\": \"quantitative\"}, {\"field\": \"p50\", \"type\": \"quantitative\"}, {\"field\": \"p75\", \"type\": \"quantitative\"}], \"x\": {\"value\": 30}, \"y\": {\"value\": 15}}, \"transform\": [{\"calculate\": \"sqrt(-2*log(random()))*cos(2*PI*random())\", \"as\": \"jitter\"}, {\"filter\": \"(datum.fastest_trip === 1)\"}]}]}]}, \"resolve\": {\"scale\": {\"y\": \"shared\"}}, \"title\": \"Ratio of Bus to Car Travel Time\", \"$schema\": \"https://vega.github.io/schema/vega-lite/v4.17.0.json\", \"datasets\": {\"data-5fb9f20070d05429487f5c6e23a5258e\": [{\"calitp_itp_id\": 210, \"trip_key\": 3341563905747822614, \"trip_id\": \"t_306562_b_16225_tn_0\", \"shape_id\": \"p_178929\", \"route_id\": \"11131\", \"service_hours\": 0.92, \"trip_first_departure_ts\": 30000, \"trip_last_arrival_ts\": 33300, \"departure_hour\": 8, \"time_of_day\": \"AM Peak\", \"p25\": 0.92, \"p50\": 0.92, \"p75\": 0.96, \"p50_trip\": 1, \"fastest_trip\": 0, \"car_duration_hours\": 0.72, \"competitive_route\": 1, \"bus_multiplier\": 1.28, \"bus_difference\": 12.0, \"num_trips\": 11, \"num_competitive\": 11, \"pct_trips_competitive\": 1.0, \"bus_difference_spread\": 4.8, \"route_group\": \"short\", \"max_trip_hrs\": 1.0, \"max_trip_route_group\": 1.0, \"name\": \"City of Moorpark\", \"caltrans_district\": \"07 - Los Angeles\", \"drmt_organization_name\": null, \"cutoff2\": 15.0, \"cutoff\": 2}, {\"calitp_itp_id\": 210, \"trip_key\": -2130872789536584285, \"trip_id\": \"t_306559_b_16225_tn_0\", \"shape_id\": \"p_178928\", \"route_id\": \"11131\", \"service_hours\": 0.92, \"trip_first_departure_ts\": 22500, \"trip_last_arrival_ts\": 25800, \"departure_hour\": 6, \"time_of_day\": \"Owl Service\", \"p25\": 0.92, \"p50\": 0.92, \"p75\": 0.96, \"p50_trip\": 1, \"fastest_trip\": 0, \"car_duration_hours\": 0.72, \"competitive_route\": 1, \"bus_multiplier\": 1.28, \"bus_difference\": 12.0, \"num_trips\": 11, \"num_competitive\": 11, \"pct_trips_competitive\": 1.0, \"bus_difference_spread\": 4.8, \"route_group\": \"short\", \"max_trip_hrs\": 1.0, \"max_trip_route_group\": 1.0, \"name\": \"City of Moorpark\", \"caltrans_district\": \"07 - Los Angeles\", \"drmt_organization_name\": null, \"cutoff2\": 15.0, \"cutoff\": 2}, {\"calitp_itp_id\": 210, \"trip_key\": 5586849125469743557, \"trip_id\": \"t_306560_b_16225_tn_0\", \"shape_id\": \"p_178929\", \"route_id\": \"11131\", \"service_hours\": 0.92, \"trip_first_departure_ts\": 26400, \"trip_last_arrival_ts\": 29700, \"departure_hour\": 7, \"time_of_day\": \"AM Peak\", \"p25\": 0.92, \"p50\": 0.92, \"p75\": 0.96, \"p50_trip\": 1, \"fastest_trip\": 0, \"car_duration_hours\": 0.72, \"competitive_route\": 1, \"bus_multiplier\": 1.28, \"bus_difference\": 12.0, \"num_trips\": 11, \"num_competitive\": 11, \"pct_trips_competitive\": 1.0, \"bus_difference_spread\": 4.8, \"route_group\": \"short\", \"max_trip_hrs\": 1.0, \"max_trip_route_group\": 1.0, \"name\": \"City of Moorpark\", \"caltrans_district\": \"07 - Los Angeles\", \"drmt_organization_name\": null, \"cutoff2\": 15.0, \"cutoff\": 2}, {\"calitp_itp_id\": 210, \"trip_key\": -405197724949488178, \"trip_id\": \"t_306561_b_16225_tn_0\", \"shape_id\": \"p_178929\", \"route_id\": \"11131\", \"service_hours\": 0.92, \"trip_first_departure_ts\": 34200, \"trip_last_arrival_ts\": 37500, \"departure_hour\": 9, \"time_of_day\": \"AM Peak\", \"p25\": 0.92, \"p50\": 0.92, \"p75\": 0.96, \"p50_trip\": 1, \"fastest_trip\": 0, \"car_duration_hours\": 0.72, \"competitive_route\": 1, \"bus_multiplier\": 1.28, \"bus_difference\": 12.0, \"num_trips\": 11, \"num_competitive\": 11, \"pct_trips_competitive\": 1.0, \"bus_difference_spread\": 4.8, \"route_group\": \"short\", \"max_trip_hrs\": 1.0, \"max_trip_route_group\": 1.0, \"name\": \"City of Moorpark\", \"caltrans_district\": \"07 - Los Angeles\", \"drmt_organization_name\": null, \"cutoff2\": 15.0, \"cutoff\": 2}, {\"calitp_itp_id\": 210, \"trip_key\": -5679256309080196942, \"trip_id\": \"t_306566_b_16225_tn_0\", \"shape_id\": \"p_178929\", \"route_id\": \"11131\", \"service_hours\": 0.92, \"trip_first_departure_ts\": 49500, \"trip_last_arrival_ts\": 52800, \"departure_hour\": 13, \"time_of_day\": \"Midday\", \"p25\": 0.92, \"p50\": 0.92, \"p75\": 0.96, \"p50_trip\": 1, \"fastest_trip\": 0, \"car_duration_hours\": 0.72, \"competitive_route\": 1, \"bus_multiplier\": 1.28, \"bus_difference\": 12.0, \"num_trips\": 11, \"num_competitive\": 11, \"pct_trips_competitive\": 1.0, \"bus_difference_spread\": 4.8, \"route_group\": \"short\", \"max_trip_hrs\": 1.0, \"max_trip_route_group\": 1.0, \"name\": \"City of Moorpark\", \"caltrans_district\": \"07 - Los Angeles\", \"drmt_organization_name\": null, \"cutoff2\": 15.0, \"cutoff\": 2}, {\"calitp_itp_id\": 210, \"trip_key\": 1752313231697081193, \"trip_id\": \"t_306563_b_16225_tn_0\", \"shape_id\": \"p_178929\", \"route_id\": \"11131\", \"service_hours\": 0.92, \"trip_first_departure_ts\": 37800, \"trip_last_arrival_ts\": 41100, \"departure_hour\": 10, \"time_of_day\": \"Midday\", \"p25\": 0.92, \"p50\": 0.92, \"p75\": 0.96, \"p50_trip\": 1, \"fastest_trip\": 0, \"car_duration_hours\": 0.72, \"competitive_route\": 1, \"bus_multiplier\": 1.28, \"bus_difference\": 12.0, \"num_trips\": 11, \"num_competitive\": 11, \"pct_trips_competitive\": 1.0, \"bus_difference_spread\": 4.8, \"route_group\": \"short\", \"max_trip_hrs\": 1.0, \"max_trip_route_group\": 1.0, \"name\": \"City of Moorpark\", \"caltrans_district\": \"07 - Los Angeles\", \"drmt_organization_name\": null, \"cutoff2\": 15.0, \"cutoff\": 2}, {\"calitp_itp_id\": 210, \"trip_key\": -7827830937952307456, \"trip_id\": \"t_306564_b_16225_tn_0\", \"shape_id\": \"p_178929\", \"route_id\": \"11131\", \"service_hours\": 0.92, \"trip_first_departure_ts\": 41400, \"trip_last_arrival_ts\": 44700, \"departure_hour\": 11, \"time_of_day\": \"Midday\", \"p25\": 0.92, \"p50\": 0.92, \"p75\": 0.96, \"p50_trip\": 1, \"fastest_trip\": 0, \"car_duration_hours\": 0.72, \"competitive_route\": 1, \"bus_multiplier\": 1.28, \"bus_difference\": 12.0, \"num_trips\": 11, \"num_competitive\": 11, \"pct_trips_competitive\": 1.0, \"bus_difference_spread\": 4.8, \"route_group\": \"short\", \"max_trip_hrs\": 1.0, \"max_trip_route_group\": 1.0, \"name\": \"City of Moorpark\", \"caltrans_district\": \"07 - Los Angeles\", \"drmt_organization_name\": null, \"cutoff2\": 15.0, \"cutoff\": 2}, {\"calitp_itp_id\": 210, \"trip_key\": -1356107766269570840, \"trip_id\": \"t_306567_b_16225_tn_0\", \"shape_id\": \"p_178929\", \"route_id\": \"11131\", \"service_hours\": 0.92, \"trip_first_departure_ts\": 53100, \"trip_last_arrival_ts\": 56400, \"departure_hour\": 14, \"time_of_day\": \"Midday\", \"p25\": 0.92, \"p50\": 0.92, \"p75\": 0.96, \"p50_trip\": 1, \"fastest_trip\": 1, \"car_duration_hours\": 0.72, \"competitive_route\": 1, \"bus_multiplier\": 1.28, \"bus_difference\": 12.0, \"num_trips\": 11, \"num_competitive\": 11, \"pct_trips_competitive\": 1.0, \"bus_difference_spread\": 4.8, \"route_group\": \"short\", \"max_trip_hrs\": 1.0, \"max_trip_route_group\": 1.0, \"name\": \"City of Moorpark\", \"caltrans_district\": \"07 - Los Angeles\", \"drmt_organization_name\": null, \"cutoff2\": 15.0, \"cutoff\": 2}, {\"calitp_itp_id\": 210, \"trip_key\": 5918490509608406939, \"trip_id\": \"t_306565_b_16225_tn_0\", \"shape_id\": \"p_178929\", \"route_id\": \"11131\", \"service_hours\": 1.0, \"trip_first_departure_ts\": 45600, \"trip_last_arrival_ts\": 49200, \"departure_hour\": 12, \"time_of_day\": \"Midday\", \"p25\": 0.92, \"p50\": 0.92, \"p75\": 0.96, \"p50_trip\": 0, \"fastest_trip\": 0, \"car_duration_hours\": 0.72, \"competitive_route\": 1, \"bus_multiplier\": 1.39, \"bus_difference\": 16.8, \"num_trips\": 11, \"num_competitive\": 11, \"pct_trips_competitive\": 1.0, \"bus_difference_spread\": 4.8, \"route_group\": \"short\", \"max_trip_hrs\": 1.0, \"max_trip_route_group\": 1.0, \"name\": \"City of Moorpark\", \"caltrans_district\": \"07 - Los Angeles\", \"drmt_organization_name\": null, \"cutoff2\": 15.0, \"cutoff\": 2}, {\"calitp_itp_id\": 210, \"trip_key\": -1924256971193609396, \"trip_id\": \"t_306568_b_16225_tn_0\", \"shape_id\": \"p_178919\", \"route_id\": \"11131\", \"service_hours\": 1.0, \"trip_first_departure_ts\": 57300, \"trip_last_arrival_ts\": 60900, \"departure_hour\": 15, \"time_of_day\": \"Midday\", \"p25\": 0.92, \"p50\": 0.92, \"p75\": 0.96, \"p50_trip\": 0, \"fastest_trip\": 0, \"car_duration_hours\": 0.72, \"competitive_route\": 1, \"bus_multiplier\": 1.39, \"bus_difference\": 16.8, \"num_trips\": 11, \"num_competitive\": 11, \"pct_trips_competitive\": 1.0, \"bus_difference_spread\": 4.8, \"route_group\": \"short\", \"max_trip_hrs\": 1.0, \"max_trip_route_group\": 1.0, \"name\": \"City of Moorpark\", \"caltrans_district\": \"07 - Los Angeles\", \"drmt_organization_name\": null, \"cutoff2\": 15.0, \"cutoff\": 2}, {\"calitp_itp_id\": 210, \"trip_key\": -4812399808938426988, \"trip_id\": \"t_306569_b_16225_tn_0\", \"shape_id\": \"p_178919\", \"route_id\": \"11131\", \"service_hours\": 1.0, \"trip_first_departure_ts\": 61500, \"trip_last_arrival_ts\": 65100, \"departure_hour\": 17, \"time_of_day\": \"PM Peak\", \"p25\": 0.92, \"p50\": 0.92, \"p75\": 0.96, \"p50_trip\": 0, \"fastest_trip\": 0, \"car_duration_hours\": 0.72, \"competitive_route\": 1, \"bus_multiplier\": 1.39, \"bus_difference\": 16.8, \"num_trips\": 11, \"num_competitive\": 11, \"pct_trips_competitive\": 1.0, \"bus_difference_spread\": 4.8, \"route_group\": \"short\", \"max_trip_hrs\": 1.0, \"max_trip_route_group\": 1.0, \"name\": \"City of Moorpark\", \"caltrans_district\": \"07 - Los Angeles\", \"drmt_organization_name\": null, \"cutoff2\": 15.0, \"cutoff\": 2}]}}, {\"mode\": \"vega-lite\"});\n",
       "</script>"
      ],
      "text/plain": [
       "alt.FacetChart(...)"
      ]
     },
     "metadata": {},
     "output_type": "display_data"
    },
    {
     "data": {
      "text/html": [
       "\n",
       "<div id=\"altair-viz-904ca36b22c048578ec167258832d078\"></div>\n",
       "<script type=\"text/javascript\">\n",
       "  var VEGA_DEBUG = (typeof VEGA_DEBUG == \"undefined\") ? {} : VEGA_DEBUG;\n",
       "  (function(spec, embedOpt){\n",
       "    let outputDiv = document.currentScript.previousElementSibling;\n",
       "    if (outputDiv.id !== \"altair-viz-904ca36b22c048578ec167258832d078\") {\n",
       "      outputDiv = document.getElementById(\"altair-viz-904ca36b22c048578ec167258832d078\");\n",
       "    }\n",
       "    const paths = {\n",
       "      \"vega\": \"https://cdn.jsdelivr.net/npm//vega@5?noext\",\n",
       "      \"vega-lib\": \"https://cdn.jsdelivr.net/npm//vega-lib?noext\",\n",
       "      \"vega-lite\": \"https://cdn.jsdelivr.net/npm//vega-lite@4.17.0?noext\",\n",
       "      \"vega-embed\": \"https://cdn.jsdelivr.net/npm//vega-embed@6?noext\",\n",
       "    };\n",
       "\n",
       "    function maybeLoadScript(lib, version) {\n",
       "      var key = `${lib.replace(\"-\", \"\")}_version`;\n",
       "      return (VEGA_DEBUG[key] == version) ?\n",
       "        Promise.resolve(paths[lib]) :\n",
       "        new Promise(function(resolve, reject) {\n",
       "          var s = document.createElement('script');\n",
       "          document.getElementsByTagName(\"head\")[0].appendChild(s);\n",
       "          s.async = true;\n",
       "          s.onload = () => {\n",
       "            VEGA_DEBUG[key] = version;\n",
       "            return resolve(paths[lib]);\n",
       "          };\n",
       "          s.onerror = () => reject(`Error loading script: ${paths[lib]}`);\n",
       "          s.src = paths[lib];\n",
       "        });\n",
       "    }\n",
       "\n",
       "    function showError(err) {\n",
       "      outputDiv.innerHTML = `<div class=\"error\" style=\"color:red;\">${err}</div>`;\n",
       "      throw err;\n",
       "    }\n",
       "\n",
       "    function displayChart(vegaEmbed) {\n",
       "      vegaEmbed(outputDiv, spec, embedOpt)\n",
       "        .catch(err => showError(`Javascript Error: ${err.message}<br>This usually means there's a typo in your chart specification. See the javascript console for the full traceback.`));\n",
       "    }\n",
       "\n",
       "    if(typeof define === \"function\" && define.amd) {\n",
       "      requirejs.config({paths});\n",
       "      require([\"vega-embed\"], displayChart, err => showError(`Error loading script: ${err.message}`));\n",
       "    } else {\n",
       "      maybeLoadScript(\"vega\", \"5\")\n",
       "        .then(() => maybeLoadScript(\"vega-lite\", \"4.17.0\"))\n",
       "        .then(() => maybeLoadScript(\"vega-embed\", \"6\"))\n",
       "        .catch(showError)\n",
       "        .then(() => displayChart(vegaEmbed));\n",
       "    }\n",
       "  })({\"config\": {\"view\": {\"continuousWidth\": 400, \"continuousHeight\": 300, \"stroke\": null}, \"facet\": {\"spacing\": 0}}, \"data\": {\"name\": \"data-1031f9372576d29437758a2fb2acc3da\"}, \"facet\": {\"column\": {\"field\": \"route_id\", \"sort\": [\"11131\"], \"title\": \"Route ID\", \"type\": \"nominal\"}}, \"spec\": {\"layer\": [{\"mark\": {\"type\": \"point\", \"opacity\": 0.65, \"size\": 12, \"strokeWidth\": 1.1}, \"encoding\": {\"color\": {\"field\": \"time_of_day\", \"scale\": {\"range\": [\"#136C97\", \"#E16B26\", \"#F6BF16\", \"#00896B\", \"#7790A3\", \"#5B559C\"]}, \"sort\": [\"AM Peak\", \"Midday\", \"PM Peak\", \"Owl Service\"], \"title\": \"Time of Day\", \"type\": \"nominal\"}, \"tooltip\": [{\"field\": \"route_id\", \"type\": \"nominal\"}, {\"field\": \"trip_id\", \"type\": \"nominal\"}, {\"field\": \"service_hours\", \"type\": \"quantitative\"}, {\"field\": \"car_duration_hours\", \"type\": \"quantitative\"}, {\"field\": \"bus_multiplier\", \"type\": \"quantitative\"}, {\"field\": \"bus_difference\", \"type\": \"quantitative\"}, {\"field\": \"num_trips\", \"type\": \"quantitative\"}, {\"field\": \"num_competitive\", \"type\": \"quantitative\"}, {\"field\": \"pct_trips_competitive\", \"type\": \"quantitative\"}, {\"field\": \"p25\", \"type\": \"quantitative\"}, {\"field\": \"p50\", \"type\": \"quantitative\"}, {\"field\": \"p75\", \"type\": \"quantitative\"}], \"x\": {\"axis\": {\"grid\": false, \"labels\": false, \"ticks\": true, \"values\": [0]}, \"field\": \"jitter\", \"scale\": {}, \"title\": null, \"type\": \"quantitative\"}, \"y\": {\"field\": \"bus_difference\", \"scale\": {\"domain\": [-5, 20.0]}, \"title\": \"Difference in Bus to Car Travel Time (min)\", \"type\": \"quantitative\"}}, \"selection\": {\"selector002\": {\"type\": \"interval\", \"bind\": \"scales\", \"encodings\": [\"x\", \"y\"]}}, \"transform\": [{\"calculate\": \"sqrt(-2*log(random()))*cos(2*PI*random())\", \"as\": \"jitter\"}], \"width\": 60}, {\"layer\": [{\"mark\": {\"type\": \"point\", \"opacity\": 0.6, \"size\": 20, \"strokeWidth\": 1.3}, \"encoding\": {\"color\": {\"value\": \"#323434\"}, \"y\": {\"field\": \"bus_difference\", \"type\": \"quantitative\"}}, \"transform\": [{\"filter\": \"(datum.p50_trip === 1)\"}]}, {\"mark\": {\"type\": \"rule\", \"strokeDash\": [2, 3]}, \"encoding\": {\"color\": {\"value\": \"#323434\"}, \"y\": {\"field\": \"cutoff\", \"type\": \"quantitative\"}}}, {\"mark\": {\"type\": \"rule\", \"strokeDash\": [2, 3]}, \"encoding\": {\"color\": {\"value\": \"#136C97\"}, \"y\": {\"field\": \"cutoff2\", \"type\": \"quantitative\"}}}, {\"mark\": {\"type\": \"text\", \"align\": \"center\", \"baseline\": \"middle\"}, \"encoding\": {\"color\": {\"value\": \"black\"}, \"text\": {\"field\": \"pct_trips_competitive\", \"format\": \".0%\", \"type\": \"quantitative\"}, \"tooltip\": [{\"field\": \"route_id\", \"type\": \"nominal\"}, {\"field\": \"trip_id\", \"type\": \"nominal\"}, {\"field\": \"service_hours\", \"type\": \"quantitative\"}, {\"field\": \"car_duration_hours\", \"type\": \"quantitative\"}, {\"field\": \"bus_multiplier\", \"type\": \"quantitative\"}, {\"field\": \"bus_difference\", \"type\": \"quantitative\"}, {\"field\": \"num_trips\", \"type\": \"quantitative\"}, {\"field\": \"num_competitive\", \"type\": \"quantitative\"}, {\"field\": \"pct_trips_competitive\", \"type\": \"quantitative\"}, {\"field\": \"p25\", \"type\": \"quantitative\"}, {\"field\": \"p50\", \"type\": \"quantitative\"}, {\"field\": \"p75\", \"type\": \"quantitative\"}], \"x\": {\"value\": 30}, \"y\": {\"value\": 15}}, \"transform\": [{\"calculate\": \"sqrt(-2*log(random()))*cos(2*PI*random())\", \"as\": \"jitter\"}, {\"filter\": \"(datum.fastest_trip === 1)\"}]}]}]}, \"resolve\": {\"scale\": {\"y\": \"shared\"}}, \"title\": \"Difference in Bus to Car Travel Time (min)\", \"$schema\": \"https://vega.github.io/schema/vega-lite/v4.17.0.json\", \"datasets\": {\"data-1031f9372576d29437758a2fb2acc3da\": [{\"calitp_itp_id\": 210, \"trip_key\": 3341563905747822614, \"trip_id\": \"t_306562_b_16225_tn_0\", \"shape_id\": \"p_178929\", \"route_id\": \"11131\", \"service_hours\": 0.92, \"trip_first_departure_ts\": 30000, \"trip_last_arrival_ts\": 33300, \"departure_hour\": 8, \"time_of_day\": \"AM Peak\", \"p25\": 0.92, \"p50\": 0.92, \"p75\": 0.96, \"p50_trip\": 1, \"fastest_trip\": 0, \"car_duration_hours\": 0.72, \"competitive_route\": 1, \"bus_multiplier\": 1.28, \"bus_difference\": 12.0, \"num_trips\": 11, \"num_competitive\": 11, \"pct_trips_competitive\": 1.0, \"bus_difference_spread\": 4.8, \"route_group\": \"short\", \"max_trip_hrs\": 1.0, \"max_trip_route_group\": 1.0, \"name\": \"City of Moorpark\", \"caltrans_district\": \"07 - Los Angeles\", \"drmt_organization_name\": null, \"cutoff2\": 15.0, \"cutoff\": 0}, {\"calitp_itp_id\": 210, \"trip_key\": -2130872789536584285, \"trip_id\": \"t_306559_b_16225_tn_0\", \"shape_id\": \"p_178928\", \"route_id\": \"11131\", \"service_hours\": 0.92, \"trip_first_departure_ts\": 22500, \"trip_last_arrival_ts\": 25800, \"departure_hour\": 6, \"time_of_day\": \"Owl Service\", \"p25\": 0.92, \"p50\": 0.92, \"p75\": 0.96, \"p50_trip\": 1, \"fastest_trip\": 0, \"car_duration_hours\": 0.72, \"competitive_route\": 1, \"bus_multiplier\": 1.28, \"bus_difference\": 12.0, \"num_trips\": 11, \"num_competitive\": 11, \"pct_trips_competitive\": 1.0, \"bus_difference_spread\": 4.8, \"route_group\": \"short\", \"max_trip_hrs\": 1.0, \"max_trip_route_group\": 1.0, \"name\": \"City of Moorpark\", \"caltrans_district\": \"07 - Los Angeles\", \"drmt_organization_name\": null, \"cutoff2\": 15.0, \"cutoff\": 0}, {\"calitp_itp_id\": 210, \"trip_key\": 5586849125469743557, \"trip_id\": \"t_306560_b_16225_tn_0\", \"shape_id\": \"p_178929\", \"route_id\": \"11131\", \"service_hours\": 0.92, \"trip_first_departure_ts\": 26400, \"trip_last_arrival_ts\": 29700, \"departure_hour\": 7, \"time_of_day\": \"AM Peak\", \"p25\": 0.92, \"p50\": 0.92, \"p75\": 0.96, \"p50_trip\": 1, \"fastest_trip\": 0, \"car_duration_hours\": 0.72, \"competitive_route\": 1, \"bus_multiplier\": 1.28, \"bus_difference\": 12.0, \"num_trips\": 11, \"num_competitive\": 11, \"pct_trips_competitive\": 1.0, \"bus_difference_spread\": 4.8, \"route_group\": \"short\", \"max_trip_hrs\": 1.0, \"max_trip_route_group\": 1.0, \"name\": \"City of Moorpark\", \"caltrans_district\": \"07 - Los Angeles\", \"drmt_organization_name\": null, \"cutoff2\": 15.0, \"cutoff\": 0}, {\"calitp_itp_id\": 210, \"trip_key\": -405197724949488178, \"trip_id\": \"t_306561_b_16225_tn_0\", \"shape_id\": \"p_178929\", \"route_id\": \"11131\", \"service_hours\": 0.92, \"trip_first_departure_ts\": 34200, \"trip_last_arrival_ts\": 37500, \"departure_hour\": 9, \"time_of_day\": \"AM Peak\", \"p25\": 0.92, \"p50\": 0.92, \"p75\": 0.96, \"p50_trip\": 1, \"fastest_trip\": 0, \"car_duration_hours\": 0.72, \"competitive_route\": 1, \"bus_multiplier\": 1.28, \"bus_difference\": 12.0, \"num_trips\": 11, \"num_competitive\": 11, \"pct_trips_competitive\": 1.0, \"bus_difference_spread\": 4.8, \"route_group\": \"short\", \"max_trip_hrs\": 1.0, \"max_trip_route_group\": 1.0, \"name\": \"City of Moorpark\", \"caltrans_district\": \"07 - Los Angeles\", \"drmt_organization_name\": null, \"cutoff2\": 15.0, \"cutoff\": 0}, {\"calitp_itp_id\": 210, \"trip_key\": -5679256309080196942, \"trip_id\": \"t_306566_b_16225_tn_0\", \"shape_id\": \"p_178929\", \"route_id\": \"11131\", \"service_hours\": 0.92, \"trip_first_departure_ts\": 49500, \"trip_last_arrival_ts\": 52800, \"departure_hour\": 13, \"time_of_day\": \"Midday\", \"p25\": 0.92, \"p50\": 0.92, \"p75\": 0.96, \"p50_trip\": 1, \"fastest_trip\": 0, \"car_duration_hours\": 0.72, \"competitive_route\": 1, \"bus_multiplier\": 1.28, \"bus_difference\": 12.0, \"num_trips\": 11, \"num_competitive\": 11, \"pct_trips_competitive\": 1.0, \"bus_difference_spread\": 4.8, \"route_group\": \"short\", \"max_trip_hrs\": 1.0, \"max_trip_route_group\": 1.0, \"name\": \"City of Moorpark\", \"caltrans_district\": \"07 - Los Angeles\", \"drmt_organization_name\": null, \"cutoff2\": 15.0, \"cutoff\": 0}, {\"calitp_itp_id\": 210, \"trip_key\": 1752313231697081193, \"trip_id\": \"t_306563_b_16225_tn_0\", \"shape_id\": \"p_178929\", \"route_id\": \"11131\", \"service_hours\": 0.92, \"trip_first_departure_ts\": 37800, \"trip_last_arrival_ts\": 41100, \"departure_hour\": 10, \"time_of_day\": \"Midday\", \"p25\": 0.92, \"p50\": 0.92, \"p75\": 0.96, \"p50_trip\": 1, \"fastest_trip\": 0, \"car_duration_hours\": 0.72, \"competitive_route\": 1, \"bus_multiplier\": 1.28, \"bus_difference\": 12.0, \"num_trips\": 11, \"num_competitive\": 11, \"pct_trips_competitive\": 1.0, \"bus_difference_spread\": 4.8, \"route_group\": \"short\", \"max_trip_hrs\": 1.0, \"max_trip_route_group\": 1.0, \"name\": \"City of Moorpark\", \"caltrans_district\": \"07 - Los Angeles\", \"drmt_organization_name\": null, \"cutoff2\": 15.0, \"cutoff\": 0}, {\"calitp_itp_id\": 210, \"trip_key\": -7827830937952307456, \"trip_id\": \"t_306564_b_16225_tn_0\", \"shape_id\": \"p_178929\", \"route_id\": \"11131\", \"service_hours\": 0.92, \"trip_first_departure_ts\": 41400, \"trip_last_arrival_ts\": 44700, \"departure_hour\": 11, \"time_of_day\": \"Midday\", \"p25\": 0.92, \"p50\": 0.92, \"p75\": 0.96, \"p50_trip\": 1, \"fastest_trip\": 0, \"car_duration_hours\": 0.72, \"competitive_route\": 1, \"bus_multiplier\": 1.28, \"bus_difference\": 12.0, \"num_trips\": 11, \"num_competitive\": 11, \"pct_trips_competitive\": 1.0, \"bus_difference_spread\": 4.8, \"route_group\": \"short\", \"max_trip_hrs\": 1.0, \"max_trip_route_group\": 1.0, \"name\": \"City of Moorpark\", \"caltrans_district\": \"07 - Los Angeles\", \"drmt_organization_name\": null, \"cutoff2\": 15.0, \"cutoff\": 0}, {\"calitp_itp_id\": 210, \"trip_key\": -1356107766269570840, \"trip_id\": \"t_306567_b_16225_tn_0\", \"shape_id\": \"p_178929\", \"route_id\": \"11131\", \"service_hours\": 0.92, \"trip_first_departure_ts\": 53100, \"trip_last_arrival_ts\": 56400, \"departure_hour\": 14, \"time_of_day\": \"Midday\", \"p25\": 0.92, \"p50\": 0.92, \"p75\": 0.96, \"p50_trip\": 1, \"fastest_trip\": 1, \"car_duration_hours\": 0.72, \"competitive_route\": 1, \"bus_multiplier\": 1.28, \"bus_difference\": 12.0, \"num_trips\": 11, \"num_competitive\": 11, \"pct_trips_competitive\": 1.0, \"bus_difference_spread\": 4.8, \"route_group\": \"short\", \"max_trip_hrs\": 1.0, \"max_trip_route_group\": 1.0, \"name\": \"City of Moorpark\", \"caltrans_district\": \"07 - Los Angeles\", \"drmt_organization_name\": null, \"cutoff2\": 15.0, \"cutoff\": 0}, {\"calitp_itp_id\": 210, \"trip_key\": 5918490509608406939, \"trip_id\": \"t_306565_b_16225_tn_0\", \"shape_id\": \"p_178929\", \"route_id\": \"11131\", \"service_hours\": 1.0, \"trip_first_departure_ts\": 45600, \"trip_last_arrival_ts\": 49200, \"departure_hour\": 12, \"time_of_day\": \"Midday\", \"p25\": 0.92, \"p50\": 0.92, \"p75\": 0.96, \"p50_trip\": 0, \"fastest_trip\": 0, \"car_duration_hours\": 0.72, \"competitive_route\": 1, \"bus_multiplier\": 1.39, \"bus_difference\": 16.8, \"num_trips\": 11, \"num_competitive\": 11, \"pct_trips_competitive\": 1.0, \"bus_difference_spread\": 4.8, \"route_group\": \"short\", \"max_trip_hrs\": 1.0, \"max_trip_route_group\": 1.0, \"name\": \"City of Moorpark\", \"caltrans_district\": \"07 - Los Angeles\", \"drmt_organization_name\": null, \"cutoff2\": 15.0, \"cutoff\": 0}, {\"calitp_itp_id\": 210, \"trip_key\": -1924256971193609396, \"trip_id\": \"t_306568_b_16225_tn_0\", \"shape_id\": \"p_178919\", \"route_id\": \"11131\", \"service_hours\": 1.0, \"trip_first_departure_ts\": 57300, \"trip_last_arrival_ts\": 60900, \"departure_hour\": 15, \"time_of_day\": \"Midday\", \"p25\": 0.92, \"p50\": 0.92, \"p75\": 0.96, \"p50_trip\": 0, \"fastest_trip\": 0, \"car_duration_hours\": 0.72, \"competitive_route\": 1, \"bus_multiplier\": 1.39, \"bus_difference\": 16.8, \"num_trips\": 11, \"num_competitive\": 11, \"pct_trips_competitive\": 1.0, \"bus_difference_spread\": 4.8, \"route_group\": \"short\", \"max_trip_hrs\": 1.0, \"max_trip_route_group\": 1.0, \"name\": \"City of Moorpark\", \"caltrans_district\": \"07 - Los Angeles\", \"drmt_organization_name\": null, \"cutoff2\": 15.0, \"cutoff\": 0}, {\"calitp_itp_id\": 210, \"trip_key\": -4812399808938426988, \"trip_id\": \"t_306569_b_16225_tn_0\", \"shape_id\": \"p_178919\", \"route_id\": \"11131\", \"service_hours\": 1.0, \"trip_first_departure_ts\": 61500, \"trip_last_arrival_ts\": 65100, \"departure_hour\": 17, \"time_of_day\": \"PM Peak\", \"p25\": 0.92, \"p50\": 0.92, \"p75\": 0.96, \"p50_trip\": 0, \"fastest_trip\": 0, \"car_duration_hours\": 0.72, \"competitive_route\": 1, \"bus_multiplier\": 1.39, \"bus_difference\": 16.8, \"num_trips\": 11, \"num_competitive\": 11, \"pct_trips_competitive\": 1.0, \"bus_difference_spread\": 4.8, \"route_group\": \"short\", \"max_trip_hrs\": 1.0, \"max_trip_route_group\": 1.0, \"name\": \"City of Moorpark\", \"caltrans_district\": \"07 - Los Angeles\", \"drmt_organization_name\": null, \"cutoff2\": 15.0, \"cutoff\": 0}]}}, {\"mode\": \"vega-lite\"});\n",
       "</script>"
      ],
      "text/plain": [
       "alt.FacetChart(...)"
      ]
     },
     "metadata": {},
     "output_type": "display_data"
    }
   ],
   "source": [
    "# Allow for possibility that operator doesn't have routes that fall into certain route_groups\n",
    "# But, jupyterbook will not like markdown with f-string\n",
    "# separate out route_group and put in each cell, and use try/except + if to display...\n",
    "# but all 3 route groups must be displayed. just add sentence about why no routes were returned at the end\n",
    "route_group = \"short\"\n",
    "try:\n",
    "    subset_routes, mult, diff  = setup_charts(df, PCT_COMPETITIVE_THRESHOLD, route_group)\n",
    "    \n",
    "    if len(subset_routes) > 0:\n",
    "        display(\n",
    "            Markdown(\n",
    "                f\"{CAPTIONS_DICT[route_group]}\"\n",
    "                \"Within each route group, routes are sorted in descending order \"\n",
    "                \"by % competitive trips and # trips below the additional time cut-off.\"\n",
    "            )\n",
    "        )\n",
    "\n",
    "        display(mult)\n",
    "        display(diff)\n",
    "except:\n",
    "    print(\"No routes meet this criteria.\")"
   ]
  },
  {
   "cell_type": "markdown",
   "id": "c2931b6f-034d-4384-9e14-80b925e3b820",
   "metadata": {
    "papermill": {
     "duration": 0.028811,
     "end_time": "2022-05-07T17:22:12.446028",
     "exception": false,
     "start_time": "2022-05-07T17:22:12.417217",
     "status": "completed"
    },
    "tags": []
   },
   "source": [
    "### Medium Routes (1-1.5 hrs)"
   ]
  },
  {
   "cell_type": "code",
   "execution_count": 13,
   "id": "480edddc-4de0-48c2-ae4c-b0ceef8f28b5",
   "metadata": {
    "execution": {
     "iopub.execute_input": "2022-05-07T17:22:12.475540Z",
     "iopub.status.busy": "2022-05-07T17:22:12.475227Z",
     "iopub.status.idle": "2022-05-07T17:22:12.489591Z",
     "shell.execute_reply": "2022-05-07T17:22:12.488668Z"
    },
    "jupyter": {
     "source_hidden": true
    },
    "papermill": {
     "duration": 0.032945,
     "end_time": "2022-05-07T17:22:12.492915",
     "exception": false,
     "start_time": "2022-05-07T17:22:12.459970",
     "status": "completed"
    },
    "tags": [
     "remove_input"
    ]
   },
   "outputs": [
    {
     "name": "stdout",
     "output_type": "stream",
     "text": [
      "No routes meet this criteria.\n"
     ]
    }
   ],
   "source": [
    "route_group = \"medium\"\n",
    "try:\n",
    "    subset_routes, mult, diff  = setup_charts(df, PCT_COMPETITIVE_THRESHOLD, route_group)\n",
    "    if len(subset_routes) > 0:\n",
    "        display(\n",
    "            Markdown(\n",
    "                f\"{CAPTIONS_DICT[route_group]}\"\n",
    "                \"Within each route group, routes are sorted in descending order \"\n",
    "                \"by % competitive trips and # trips below the additional time cut-off.\"\n",
    "            )\n",
    "        )\n",
    "\n",
    "        display(mult)\n",
    "        display(diff)\n",
    "except:\n",
    "    print(\"No routes meet this criteria.\")"
   ]
  },
  {
   "cell_type": "markdown",
   "id": "124b76d0-886c-4d03-92ac-f1bda3cda182",
   "metadata": {
    "papermill": {
     "duration": 0.014746,
     "end_time": "2022-05-07T17:22:12.522980",
     "exception": false,
     "start_time": "2022-05-07T17:22:12.508234",
     "status": "completed"
    },
    "tags": []
   },
   "source": [
    "### Long Routes (> 1.5 hrs)"
   ]
  },
  {
   "cell_type": "code",
   "execution_count": 14,
   "id": "ddc81b19-4c45-4c81-8b7a-5e0f394aa7a3",
   "metadata": {
    "execution": {
     "iopub.execute_input": "2022-05-07T17:22:12.554331Z",
     "iopub.status.busy": "2022-05-07T17:22:12.554058Z",
     "iopub.status.idle": "2022-05-07T17:22:12.566582Z",
     "shell.execute_reply": "2022-05-07T17:22:12.565677Z"
    },
    "jupyter": {
     "source_hidden": true
    },
    "papermill": {
     "duration": 0.031267,
     "end_time": "2022-05-07T17:22:12.569447",
     "exception": false,
     "start_time": "2022-05-07T17:22:12.538180",
     "status": "completed"
    },
    "tags": [
     "remove_input"
    ]
   },
   "outputs": [
    {
     "name": "stdout",
     "output_type": "stream",
     "text": [
      "No routes meet this criteria.\n"
     ]
    }
   ],
   "source": [
    "route_group = \"long\"\n",
    "try:\n",
    "    subset_routes, mult, diff  = setup_charts(df, PCT_COMPETITIVE_THRESHOLD, route_group)\n",
    "    if len(subset_routes) > 0:\n",
    "        display(\n",
    "            Markdown(\n",
    "                f\"{CAPTIONS_DICT[route_group]}\"\n",
    "                \"Within each route group, routes are sorted in descending order \"\n",
    "                \"by % competitive trips and # trips below the additional time cut-off.\"\n",
    "            )\n",
    "        )\n",
    "\n",
    "        display(mult)\n",
    "        display(diff)\n",
    "except:\n",
    "    print(\"No routes meet this criteria.\")"
   ]
  }
 ],
 "metadata": {
  "kernelspec": {
   "display_name": "Python 3 (ipykernel)",
   "language": "python",
   "name": "python3"
  },
  "language_info": {
   "codemirror_mode": {
    "name": "ipython",
    "version": 3
   },
   "file_extension": ".py",
   "mimetype": "text/x-python",
   "name": "python",
   "nbconvert_exporter": "python",
   "pygments_lexer": "ipython3",
   "version": "3.9.12"
  },
  "papermill": {
   "default_parameters": {},
   "duration": 22.331447,
   "end_time": "2022-05-07T17:22:13.706686",
   "environment_variables": {},
   "exception": null,
   "input_path": "bus_service_increase/stripplot.ipynb",
   "output_path": "portfolio/parallel_corridors/district_07-los-angeles/stripplot__itp_id_210.ipynb",
   "parameters": {
    "district": "07 - Los Angeles",
    "itp_id": 210
   },
   "start_time": "2022-05-07T17:21:51.375239",
   "version": "2.3.4"
  }
 },
 "nbformat": 4,
 "nbformat_minor": 5
}