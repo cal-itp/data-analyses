{
 "cells": [
  {
   "cell_type": "code",
   "execution_count": 1,
   "id": "95d00857-6a20-4529-a519-2cc7182928a9",
   "metadata": {
    "execution": {
     "iopub.execute_input": "2022-05-12T19:40:30.478989Z",
     "iopub.status.busy": "2022-05-12T19:40:30.478604Z",
     "iopub.status.idle": "2022-05-12T19:40:38.970888Z",
     "shell.execute_reply": "2022-05-12T19:40:38.970239Z"
    },
    "jupyter": {
     "source_hidden": true
    },
    "papermill": {
     "duration": 8.509163,
     "end_time": "2022-05-12T19:40:38.973493",
     "exception": false,
     "start_time": "2022-05-12T19:40:30.464330",
     "status": "completed"
    },
    "tags": [
     "remove_input"
    ]
   },
   "outputs": [],
   "source": [
    "%%capture\n",
    "import warnings\n",
    "warnings.filterwarnings('ignore')\n",
    "\n",
    "import altair as alt\n",
    "import calitp.magics\n",
    "import geopandas as gpd\n",
    "import intake\n",
    "import pandas as pd\n",
    "\n",
    "from IPython.display import display, Markdown, HTML\n",
    "\n",
    "import parallel_corridors_utils\n",
    "import deploy_portfolio_yaml\n",
    "from shared_utils import styleguide, geography_utils\n",
    "from make_stripplot_data import diff_cutoffs\n",
    "\n",
    "catalog = intake.open_catalog(\"./*.yml\")\n",
    "alt.renderers.enable(\"html\")"
   ]
  },
  {
   "cell_type": "code",
   "execution_count": 2,
   "id": "8af2a0c1-f3da-408d-9bea-11d9fbf8695d",
   "metadata": {
    "execution": {
     "iopub.execute_input": "2022-05-12T19:40:39.000556Z",
     "iopub.status.busy": "2022-05-12T19:40:38.999723Z",
     "iopub.status.idle": "2022-05-12T19:40:39.004010Z",
     "shell.execute_reply": "2022-05-12T19:40:39.003513Z"
    },
    "jupyter": {
     "source_hidden": true
    },
    "papermill": {
     "duration": 0.019303,
     "end_time": "2022-05-12T19:40:39.005741",
     "exception": false,
     "start_time": "2022-05-12T19:40:38.986438",
     "status": "completed"
    },
    "tags": [
     "parameters",
     "remove_input"
    ]
   },
   "outputs": [],
   "source": [
    "# parameters cell\n",
    "itp_id = 182"
   ]
  },
  {
   "cell_type": "code",
   "execution_count": 3,
   "id": "84122841",
   "metadata": {
    "execution": {
     "iopub.execute_input": "2022-05-12T19:40:39.031897Z",
     "iopub.status.busy": "2022-05-12T19:40:39.031066Z",
     "iopub.status.idle": "2022-05-12T19:40:39.036330Z",
     "shell.execute_reply": "2022-05-12T19:40:39.035738Z"
    },
    "jupyter": {
     "source_hidden": true
    },
    "papermill": {
     "duration": 0.020531,
     "end_time": "2022-05-12T19:40:39.038163",
     "exception": false,
     "start_time": "2022-05-12T19:40:39.017632",
     "status": "completed"
    },
    "tags": [
     "injected-parameters",
     "remove_input"
    ]
   },
   "outputs": [],
   "source": [
    "# Parameters\n",
    "district = \"07 - Los Angeles\"\n",
    "itp_id = 260\n"
   ]
  },
  {
   "cell_type": "code",
   "execution_count": 4,
   "id": "9582aaf4-79ff-412a-b248-8d8d693ebd4f",
   "metadata": {
    "execution": {
     "iopub.execute_input": "2022-05-12T19:40:39.067634Z",
     "iopub.status.busy": "2022-05-12T19:40:39.066807Z",
     "iopub.status.idle": "2022-05-12T19:40:40.310888Z",
     "shell.execute_reply": "2022-05-12T19:40:40.310061Z"
    },
    "jupyter": {
     "source_hidden": true
    },
    "papermill": {
     "duration": 1.260959,
     "end_time": "2022-05-12T19:40:40.313108",
     "exception": false,
     "start_time": "2022-05-12T19:40:39.052149",
     "status": "completed"
    },
    "tags": [
     "remove_input"
    ]
   },
   "outputs": [],
   "source": [
    "df = catalog.competitive_route_variability.read()\n",
    "\n",
    "df = (df[(df.calitp_itp_id == itp_id) & \n",
    "         (df.route_group.notna())]\n",
    "      .rename(columns = {\"route_name_used\": \"route_name\"})\n",
    "      .reset_index(drop=True)\n",
    "     )\n",
    "\n",
    "if itp_id == 182:\n",
    "    df = df.assign(\n",
    "        route_id = df.route_id.str.replace('-13153', '').astype(int)\n",
    "    )"
   ]
  },
  {
   "cell_type": "code",
   "execution_count": 5,
   "id": "33ac4b06-f647-4dce-a625-8f2c1b37cc60",
   "metadata": {
    "execution": {
     "iopub.execute_input": "2022-05-12T19:40:40.341297Z",
     "iopub.status.busy": "2022-05-12T19:40:40.340712Z",
     "iopub.status.idle": "2022-05-12T19:40:40.347723Z",
     "shell.execute_reply": "2022-05-12T19:40:40.347075Z"
    },
    "jupyter": {
     "source_hidden": true
    },
    "papermill": {
     "duration": 0.022358,
     "end_time": "2022-05-12T19:40:40.349442",
     "exception": false,
     "start_time": "2022-05-12T19:40:40.327084",
     "status": "completed"
    },
    "tags": [
     "remove_input"
    ]
   },
   "outputs": [],
   "source": [
    "%%capture_parameters\n",
    "operator_name = df.name.iloc[0]\n",
    "district_number = f\"{df.caltrans_district.iloc[0].split('-')[0].strip()}\"\n",
    "district_name = f\"{df.caltrans_district.iloc[0].split('-')[1].strip().lower().replace(' ', '-')}\"\n",
    "\n",
    "itp_id, operator_name, district_number, district_name"
   ]
  },
  {
   "cell_type": "markdown",
   "id": "65bc6f5c-8348-42ee-b2dd-52057c406852",
   "metadata": {
    "papermill": {
     "duration": 0.01245,
     "end_time": "2022-05-12T19:40:40.374830",
     "exception": false,
     "start_time": "2022-05-12T19:40:40.362380",
     "status": "completed"
    },
    "tags": []
   },
   "source": [
    "# City of Redondo Beach (ITP ID: 260)"
   ]
  },
  {
   "cell_type": "code",
   "execution_count": 6,
   "id": "a689c1ab-2c6c-4831-8d64-897f5986f571",
   "metadata": {
    "execution": {
     "iopub.execute_input": "2022-05-12T19:40:40.405774Z",
     "iopub.status.busy": "2022-05-12T19:40:40.405262Z",
     "iopub.status.idle": "2022-05-12T19:40:40.410818Z",
     "shell.execute_reply": "2022-05-12T19:40:40.410315Z"
    },
    "jupyter": {
     "source_hidden": true
    },
    "papermill": {
     "duration": 0.021156,
     "end_time": "2022-05-12T19:40:40.412489",
     "exception": false,
     "start_time": "2022-05-12T19:40:40.391333",
     "status": "completed"
    },
    "tags": [
     "remove_input"
    ]
   },
   "outputs": [
    {
     "data": {
      "text/html": [
       "<h1>Competitive & Parallel Routes</h1>"
      ],
      "text/plain": [
       "<IPython.core.display.HTML object>"
      ]
     },
     "metadata": {},
     "output_type": "display_data"
    }
   ],
   "source": [
    "display(HTML(\"<h1>Competitive & Parallel Routes</h1>\")) "
   ]
  },
  {
   "cell_type": "code",
   "execution_count": 7,
   "id": "2cb4d8d5-4760-40e4-85b1-cb833d8bb648",
   "metadata": {
    "execution": {
     "iopub.execute_input": "2022-05-12T19:40:40.439766Z",
     "iopub.status.busy": "2022-05-12T19:40:40.439272Z",
     "iopub.status.idle": "2022-05-12T19:40:50.974069Z",
     "shell.execute_reply": "2022-05-12T19:40:50.973486Z"
    },
    "jupyter": {
     "source_hidden": true
    },
    "papermill": {
     "duration": 10.551125,
     "end_time": "2022-05-12T19:40:50.976236",
     "exception": false,
     "start_time": "2022-05-12T19:40:40.425111",
     "status": "completed"
    },
    "tags": [
     "remove_input"
    ]
   },
   "outputs": [],
   "source": [
    "# Grab parameters for narrative text - clean up formatting here \n",
    "district = df.caltrans_district.iloc[0]\n",
    "formatted_date = pd.to_datetime(parallel_corridors_utils.SELECTED_DATE).strftime('%m-%d-%Y')\n",
    "\n",
    "PCT_COMPETITIVE_THRESHOLD = 0.75\n",
    "PCT_TRIPS_BELOW_CUTOFF = 1.0\n",
    "\n",
    "stats = parallel_corridors_utils.operator_parallel_competitive_stats(\n",
    "    itp_id, PCT_COMPETITIVE_THRESHOLD, PCT_TRIPS_BELOW_CUTOFF)\n",
    "\n",
    "pct_parallel = round(stats['parallel_routes'] / stats['num_routes'] * 100, 1 )\n",
    "pct_competitive =  round(stats['competitive_routes'] / stats['num_routes'] * 100, 1 )\n",
    "pct_viable =  round(stats['viable_competitive_routes'] / stats['num_routes'] * 100, 1 )"
   ]
  },
  {
   "cell_type": "code",
   "execution_count": 8,
   "id": "8bf30c8f-6aa5-47bb-82ae-a906732e81fd",
   "metadata": {
    "execution": {
     "iopub.execute_input": "2022-05-12T19:40:51.010607Z",
     "iopub.status.busy": "2022-05-12T19:40:51.010062Z",
     "iopub.status.idle": "2022-05-12T19:40:51.036944Z",
     "shell.execute_reply": "2022-05-12T19:40:51.036394Z"
    },
    "jupyter": {
     "source_hidden": true
    },
    "papermill": {
     "duration": 0.043774,
     "end_time": "2022-05-12T19:40:51.038950",
     "exception": false,
     "start_time": "2022-05-12T19:40:50.995176",
     "status": "completed"
    },
    "tags": [
     "remove_input"
    ]
   },
   "outputs": [],
   "source": [
    "# Display a table of route-level stats for each route_group\n",
    "# Displaying route_name makes chart too crowded\n",
    "\n",
    "# Get route stats (for entire df)\n",
    "route_stats = parallel_corridors_utils.competitive_route_level_stats(df)\n",
    "    \n",
    "def style_route_stats(df, top15_routes):\n",
    "    df = df[df.route_id.isin(top15_routes)]\n",
    "    \n",
    "    # Rename columns for display\n",
    "    rename_cols = {\n",
    "        \"route_id\": \"Route ID\",\n",
    "        \"route_name\": \"Route Name\",\n",
    "        \"route_group\": \"Route Group\",\n",
    "        \"num_trips\": \"# trips\",\n",
    "        \"daily_avg_freq\": \"Daily Avg Freq (trips per hr)\",\n",
    "        \"pm_peak_freq\": \"PM Peak Avg Freq (trips per hr)\",\n",
    "        \"percentiles\": \"25th, 50th, 75th ptile (hrs)\",\n",
    "    }\n",
    "    \n",
    "    # Style it\n",
    "    drop_cols = [\n",
    "        \"calitp_itp_id\", \"below_cutoff\", \"route_group\", \n",
    "        \"pct_trips_competitive\", \"pct_below_cutoff\",\n",
    "        \"p25\", \"p50\", \"p75\",\n",
    "    ]\n",
    "    \n",
    "    # Change alignment for some columns\n",
    "    # https://stackoverflow.com/questions/59453091/left-align-the-first-column-and-center-align-the-other-columns-in-a-pandas-table\n",
    "    df_style = (df.sort_values(\n",
    "        [\"pct_trips_competitive\", \"below_cutoff\", \n",
    "        \"pct_below_cutoff\", \"route_id\"], \n",
    "        ascending=[False, False, False, True])\n",
    "           .drop(columns = drop_cols)\n",
    "           .rename(columns = rename_cols)\n",
    "           .style.format(\n",
    "               subset=['Daily Avg Freq (trips per hr)', \n",
    "                       'PM Peak Avg Freq (trips per hr)'], \n",
    "               **{'formatter': '{:,.3}'})\n",
    "                .set_properties(subset=['Route ID', 'Route Name'], \n",
    "                                **{'text-align': 'left'})\n",
    "                .set_properties(subset=['# trips', 'Daily Avg Freq (trips per hr)', \n",
    "                                       'PM Peak Avg Freq (trips per hr)'], \n",
    "                               **{'text-align': 'center'})\n",
    "                .set_table_styles([dict(selector='th', \n",
    "                                        props=[('text-align', 'center')])\n",
    "                                        ])\n",
    "           .hide(axis=\"index\")\n",
    "           .to_html()\n",
    "          )\n",
    "    \n",
    "    display(HTML(\"<h4>Route Stats</h4>\"))\n",
    "    display(HTML(df_style))"
   ]
  },
  {
   "cell_type": "markdown",
   "id": "ab667928-5274-4490-82d9-4c39293209a4",
   "metadata": {
    "papermill": {
     "duration": 0.013617,
     "end_time": "2022-05-12T19:40:51.073604",
     "exception": false,
     "start_time": "2022-05-12T19:40:51.059987",
     "status": "completed"
    },
    "tags": []
   },
   "source": [
    "## Quick Stats"
   ]
  },
  {
   "cell_type": "code",
   "execution_count": 9,
   "id": "0416509d-dc62-4165-b62e-64f8b26e8b8e",
   "metadata": {
    "execution": {
     "iopub.execute_input": "2022-05-12T19:40:51.110870Z",
     "iopub.status.busy": "2022-05-12T19:40:51.110589Z",
     "iopub.status.idle": "2022-05-12T19:40:51.117752Z",
     "shell.execute_reply": "2022-05-12T19:40:51.117210Z"
    },
    "jupyter": {
     "source_hidden": true
    },
    "papermill": {
     "duration": 0.023047,
     "end_time": "2022-05-12T19:40:51.119365",
     "exception": false,
     "start_time": "2022-05-12T19:40:51.096318",
     "status": "completed"
    },
    "tags": [
     "remove_input"
    ]
   },
   "outputs": [
    {
     "data": {
      "text/markdown": [
       "**Bus routes in service: 4**<br>**Parallel routes** to State Highway Network (SHN): **4 routes (100.0%)**<br>**Competitive routes** against car travel (within 2x car travel time): **3 routes (75.0%)**<br>**Viable competitive routes** against car travel (within 2x car travel time and within 20, 30, or 40 min cut-off): **3 routes (75.0%)**"
      ],
      "text/plain": [
       "<IPython.core.display.Markdown object>"
      ]
     },
     "metadata": {},
     "output_type": "display_data"
    }
   ],
   "source": [
    "display(\n",
    "    Markdown(\n",
    "        f\"**Bus routes in service: {stats['num_routes']}**\"\n",
    "        \"<br>**Parallel routes** to State Highway Network (SHN): \"\n",
    "        f\"**{stats['parallel_routes']} routes ({pct_parallel}%)**\"\n",
    "        \"<br>**Competitive routes** against car travel (within 2x car travel time): \"\n",
    "        f\"**{stats['competitive_routes']} routes ({pct_competitive}%)**\"\n",
    "        \"<br>**Viable competitive routes** against car travel \"\n",
    "        \"(within 2x car travel time and within 20, 30, or 40 min cut-off): \"\n",
    "        f\"**{stats['viable_competitive_routes']} routes ({pct_viable}%)**\"\n",
    "    )\n",
    ")"
   ]
  },
  {
   "cell_type": "code",
   "execution_count": 10,
   "id": "f9d6ab58-f0ee-460c-b6de-657490e1f386",
   "metadata": {
    "execution": {
     "iopub.execute_input": "2022-05-12T19:40:51.148021Z",
     "iopub.status.busy": "2022-05-12T19:40:51.147569Z",
     "iopub.status.idle": "2022-05-12T19:40:51.154429Z",
     "shell.execute_reply": "2022-05-12T19:40:51.153846Z"
    },
    "jupyter": {
     "source_hidden": true
    },
    "papermill": {
     "duration": 0.023659,
     "end_time": "2022-05-12T19:40:51.156184",
     "exception": false,
     "start_time": "2022-05-12T19:40:51.132525",
     "status": "completed"
    },
    "tags": [
     "remove_input"
    ]
   },
   "outputs": [],
   "source": [
    "def set_yaxis_range(df, y_col):\n",
    "    Y_MIN = df[y_col].min()\n",
    "    Y_MAX = df[y_col].max()\n",
    "    \n",
    "    return Y_MIN, Y_MAX\n",
    "\n",
    "# Rather than set it according to the operator, which can vary,\n",
    "# just use set thresholds for each group\n",
    "def top15_routes(df, route_group):\n",
    "    # grab top 15 routes where majority of trips are below that cut-off \n",
    "    # but show 15 max, otherwise, show less, since these won't be as interesting to operators\n",
    "    df2 = (df[(df.route_group==route_group) &\n",
    "              (df.pct_below_cutoff >= PCT_TRIPS_BELOW_CUTOFF)]\n",
    "           .sort_values([\"calitp_itp_id\", \"below_cutoff\", \n",
    "                         \"pct_below_cutoff\", \"route_id\"],\n",
    "                        ascending = [True, False, False, True]\n",
    "                       )\n",
    "           .drop_duplicates(subset=[\"calitp_itp_id\", \"route_id\"])\n",
    "          ).head(15)\n",
    "    \n",
    "    return list(df2.route_id)"
   ]
  },
  {
   "cell_type": "code",
   "execution_count": 11,
   "id": "cf36d559-3349-4144-8086-8ac9ce937a5a",
   "metadata": {
    "execution": {
     "iopub.execute_input": "2022-05-12T19:40:51.191684Z",
     "iopub.status.busy": "2022-05-12T19:40:51.191152Z",
     "iopub.status.idle": "2022-05-12T19:40:51.196487Z",
     "shell.execute_reply": "2022-05-12T19:40:51.195995Z"
    },
    "jupyter": {
     "source_hidden": true
    },
    "papermill": {
     "duration": 0.028679,
     "end_time": "2022-05-12T19:40:51.198077",
     "exception": false,
     "start_time": "2022-05-12T19:40:51.169398",
     "status": "completed"
    },
    "tags": [
     "remove_input"
    ]
   },
   "outputs": [],
   "source": [
    "def caption_with_cutoff(cutoff):\n",
    "    sentence = (\n",
    "        f\"<br>These are routes that have **{int(PCT_TRIPS_BELOW_CUTOFF*100)}% \"\n",
    "        \"of their trips take no more than an \"\n",
    "        f\"additional {cutoff} min** compared to a car \"\n",
    "        \"(up to 15 routes) are shown.\"\n",
    "        \"<br>Within each route group, routes are sorted in descending order \"\n",
    "        \"by % competitive trips and # trips below the additional time cut-off.\"\n",
    "    )\n",
    "    return sentence\n",
    "\n",
    "CAPTIONS_DICT = {\n",
    "    \"short\": caption_with_cutoff(diff_cutoffs['short']),\n",
    "    \"medium\": caption_with_cutoff(diff_cutoffs['medium']),\n",
    "    \"long\": caption_with_cutoff(diff_cutoffs['long']),\n",
    "}"
   ]
  },
  {
   "cell_type": "code",
   "execution_count": 12,
   "id": "e4306d58-6944-47e9-afef-5d5b524c751f",
   "metadata": {
    "execution": {
     "iopub.execute_input": "2022-05-12T19:40:51.228487Z",
     "iopub.status.busy": "2022-05-12T19:40:51.227950Z",
     "iopub.status.idle": "2022-05-12T19:40:51.235006Z",
     "shell.execute_reply": "2022-05-12T19:40:51.234520Z"
    },
    "jupyter": {
     "source_hidden": true
    },
    "papermill": {
     "duration": 0.023752,
     "end_time": "2022-05-12T19:40:51.236740",
     "exception": false,
     "start_time": "2022-05-12T19:40:51.212988",
     "status": "completed"
    },
    "tags": [
     "remove_input"
    ]
   },
   "outputs": [],
   "source": [
    "def setup_charts(df, PCT_COMPETITIVE_THRESHOLD, route_group):\n",
    "    # Set up df for charting (cut-off at some threshold to show most competitive routes)\n",
    "    plot_me = (df[df.pct_trips_competitive > PCT_COMPETITIVE_THRESHOLD]\n",
    "           .drop(columns = \"geometry\")\n",
    "    )\n",
    "    \n",
    "    # Set y-ranges to be the same across route_groups, \n",
    "    # otherwise charts fluctuate too much, even within operator\n",
    "    y_col1 = \"bus_multiplier\"\n",
    "    Y_MIN1, Y_MAX1 = set_yaxis_range(plot_me, y_col1)\n",
    "\n",
    "    y_col2 = \"bus_difference\"\n",
    "    Y_MIN2, Y_MAX2 = set_yaxis_range(plot_me, y_col2)\n",
    "    \n",
    "    # Grab the routes to plot\n",
    "    subset_routes = top15_routes(plot_me, route_group)\n",
    "        \n",
    "    # Display charts\n",
    "    multiplier_chart = parallel_corridors_utils.make_stripplot(\n",
    "        plot_me[plot_me.route_id.isin(subset_routes)], \n",
    "        y_col1, Y_MIN = Y_MIN1, Y_MAX = Y_MAX1\n",
    "    )\n",
    "    \n",
    "    difference_chart = parallel_corridors_utils.make_stripplot(\n",
    "        plot_me[plot_me.route_id.isin(subset_routes)], \n",
    "        y_col2, Y_MIN = Y_MIN2, Y_MAX = Y_MAX2\n",
    "    )\n",
    "    \n",
    "    return subset_routes, multiplier_chart, difference_chart            "
   ]
  },
  {
   "cell_type": "code",
   "execution_count": 13,
   "id": "33a710e8-504c-4942-aa75-ff69f216956e",
   "metadata": {
    "execution": {
     "iopub.execute_input": "2022-05-12T19:40:51.269584Z",
     "iopub.status.busy": "2022-05-12T19:40:51.269302Z",
     "iopub.status.idle": "2022-05-12T19:40:51.288482Z",
     "shell.execute_reply": "2022-05-12T19:40:51.273745Z"
    },
    "jupyter": {
     "source_hidden": true
    },
    "papermill": {
     "duration": 0.040659,
     "end_time": "2022-05-12T19:40:51.290824",
     "exception": false,
     "start_time": "2022-05-12T19:40:51.250165",
     "status": "completed"
    },
    "tags": [
     "remove_input"
    ]
   },
   "outputs": [],
   "source": [
    "def display_charts_for_route_group(df, route_group):    \n",
    "    subset_routes, mult, diff  = setup_charts(df, PCT_COMPETITIVE_THRESHOLD, route_group)\n",
    "\n",
    "    if len(subset_routes) > 0:\n",
    "        display(Markdown(f\"{CAPTIONS_DICT[route_group]}\"))\n",
    "\n",
    "        display(mult)\n",
    "        display(diff)\n",
    "        \n",
    "        # Display route stats for just plotted routes\n",
    "        style_route_stats(route_stats, subset_routes)"
   ]
  },
  {
   "cell_type": "markdown",
   "id": "525f9b38-072b-46d1-96a8-1aa4b038357c",
   "metadata": {
    "papermill": {
     "duration": 0.017249,
     "end_time": "2022-05-12T19:40:51.323178",
     "exception": false,
     "start_time": "2022-05-12T19:40:51.305929",
     "status": "completed"
    },
    "tags": []
   },
   "source": [
    "## Viable Competitive Routes\n",
    "### Short Routes (< 1 hr)"
   ]
  },
  {
   "cell_type": "code",
   "execution_count": 14,
   "id": "57f7084c-2cf7-45c6-ba08-1609e0bd6ca5",
   "metadata": {
    "execution": {
     "iopub.execute_input": "2022-05-12T19:40:51.353926Z",
     "iopub.status.busy": "2022-05-12T19:40:51.353408Z",
     "iopub.status.idle": "2022-05-12T19:40:51.627774Z",
     "shell.execute_reply": "2022-05-12T19:40:51.627257Z"
    },
    "jupyter": {
     "source_hidden": true
    },
    "papermill": {
     "duration": 0.291474,
     "end_time": "2022-05-12T19:40:51.629481",
     "exception": false,
     "start_time": "2022-05-12T19:40:51.338007",
     "status": "completed"
    },
    "tags": [
     "remove_input"
    ]
   },
   "outputs": [
    {
     "data": {
      "text/markdown": [
       "<br>These are routes that have **100% of their trips take no more than an additional 20 min** compared to a car (up to 15 routes) are shown.<br>Within each route group, routes are sorted in descending order by % competitive trips and # trips below the additional time cut-off."
      ],
      "text/plain": [
       "<IPython.core.display.Markdown object>"
      ]
     },
     "metadata": {},
     "output_type": "display_data"
    },
    {
     "data": {
      "text/html": [
       "\n",
       "<div id=\"altair-viz-c90b74a15de3438988bbeaf01516a725\"></div>\n",
       "<script type=\"text/javascript\">\n",
       "  var VEGA_DEBUG = (typeof VEGA_DEBUG == \"undefined\") ? {} : VEGA_DEBUG;\n",
       "  (function(spec, embedOpt){\n",
       "    let outputDiv = document.currentScript.previousElementSibling;\n",
       "    if (outputDiv.id !== \"altair-viz-c90b74a15de3438988bbeaf01516a725\") {\n",
       "      outputDiv = document.getElementById(\"altair-viz-c90b74a15de3438988bbeaf01516a725\");\n",
       "    }\n",
       "    const paths = {\n",
       "      \"vega\": \"https://cdn.jsdelivr.net/npm//vega@5?noext\",\n",
       "      \"vega-lib\": \"https://cdn.jsdelivr.net/npm//vega-lib?noext\",\n",
       "      \"vega-lite\": \"https://cdn.jsdelivr.net/npm//vega-lite@4.17.0?noext\",\n",
       "      \"vega-embed\": \"https://cdn.jsdelivr.net/npm//vega-embed@6?noext\",\n",
       "    };\n",
       "\n",
       "    function maybeLoadScript(lib, version) {\n",
       "      var key = `${lib.replace(\"-\", \"\")}_version`;\n",
       "      return (VEGA_DEBUG[key] == version) ?\n",
       "        Promise.resolve(paths[lib]) :\n",
       "        new Promise(function(resolve, reject) {\n",
       "          var s = document.createElement('script');\n",
       "          document.getElementsByTagName(\"head\")[0].appendChild(s);\n",
       "          s.async = true;\n",
       "          s.onload = () => {\n",
       "            VEGA_DEBUG[key] = version;\n",
       "            return resolve(paths[lib]);\n",
       "          };\n",
       "          s.onerror = () => reject(`Error loading script: ${paths[lib]}`);\n",
       "          s.src = paths[lib];\n",
       "        });\n",
       "    }\n",
       "\n",
       "    function showError(err) {\n",
       "      outputDiv.innerHTML = `<div class=\"error\" style=\"color:red;\">${err}</div>`;\n",
       "      throw err;\n",
       "    }\n",
       "\n",
       "    function displayChart(vegaEmbed) {\n",
       "      vegaEmbed(outputDiv, spec, embedOpt)\n",
       "        .catch(err => showError(`Javascript Error: ${err.message}<br>This usually means there's a typo in your chart specification. See the javascript console for the full traceback.`));\n",
       "    }\n",
       "\n",
       "    if(typeof define === \"function\" && define.amd) {\n",
       "      requirejs.config({paths});\n",
       "      require([\"vega-embed\"], displayChart, err => showError(`Error loading script: ${err.message}`));\n",
       "    } else {\n",
       "      maybeLoadScript(\"vega\", \"5\")\n",
       "        .then(() => maybeLoadScript(\"vega-lite\", \"4.17.0\"))\n",
       "        .then(() => maybeLoadScript(\"vega-embed\", \"6\"))\n",
       "        .catch(showError)\n",
       "        .then(() => displayChart(vegaEmbed));\n",
       "    }\n",
       "  })({\"config\": {\"view\": {\"continuousWidth\": 400, \"continuousHeight\": 300, \"stroke\": null}, \"facet\": {\"spacing\": 0}}, \"data\": {\"name\": \"data-eceeae50d113134d0e5efa9886536592\"}, \"facet\": {\"column\": {\"field\": \"route_id\", \"sort\": [\"BCT102 SB\"], \"title\": \"Route ID\", \"type\": \"nominal\"}}, \"spec\": {\"layer\": [{\"mark\": \"rule\", \"encoding\": {\"color\": {\"value\": \"black\"}, \"y\": {\"field\": \"cutoff\", \"type\": \"quantitative\"}}, \"selection\": {\"selector001\": {\"type\": \"interval\", \"bind\": \"scales\", \"encodings\": [\"x\", \"y\"]}}}, {\"mark\": {\"type\": \"point\", \"opacity\": 0.65, \"size\": 12, \"strokeWidth\": 1.1}, \"encoding\": {\"color\": {\"field\": \"time_of_day\", \"scale\": {\"range\": [\"#136C97\", \"#E16B26\", \"#F6BF16\", \"#00896B\", \"#7790A3\", \"#5B559C\"]}, \"sort\": [\"AM Peak\", \"Midday\", \"PM Peak\", \"Owl Service\"], \"title\": \"Time of Day\", \"type\": \"nominal\"}, \"tooltip\": [{\"field\": \"route_id\", \"type\": \"nominal\"}, {\"field\": \"route_name\", \"type\": \"nominal\"}, {\"field\": \"trip_id\", \"type\": \"nominal\"}, {\"field\": \"service_hours\", \"type\": \"quantitative\"}, {\"field\": \"car_duration_hours\", \"type\": \"quantitative\"}, {\"field\": \"bus_multiplier\", \"type\": \"quantitative\"}, {\"field\": \"bus_difference\", \"type\": \"quantitative\"}, {\"field\": \"num_trips\", \"type\": \"quantitative\"}, {\"field\": \"num_competitive\", \"type\": \"quantitative\"}, {\"field\": \"pct_trips_competitive\", \"type\": \"quantitative\"}, {\"field\": \"pct_below_cutoff\", \"type\": \"quantitative\"}, {\"field\": \"p25\", \"type\": \"quantitative\"}, {\"field\": \"p50\", \"type\": \"quantitative\"}, {\"field\": \"p75\", \"type\": \"quantitative\"}], \"x\": {\"axis\": {\"grid\": false, \"labels\": false, \"ticks\": true, \"values\": [0]}, \"field\": \"jitter\", \"scale\": {}, \"title\": null, \"type\": \"quantitative\"}, \"y\": {\"field\": \"bus_multiplier\", \"scale\": {\"domain\": [0, 3.0]}, \"title\": \"Ratio of Bus to Car Travel Time\", \"type\": \"quantitative\"}}, \"transform\": [{\"calculate\": \"sqrt(-2*log(random()))*cos(2*PI*random())\", \"as\": \"jitter\"}], \"width\": 50}, {\"layer\": [{\"mark\": {\"type\": \"point\", \"opacity\": 0.6, \"size\": 20, \"strokeWidth\": 1.3}, \"encoding\": {\"color\": {\"value\": \"#323434\"}, \"y\": {\"field\": \"bus_multiplier\", \"type\": \"quantitative\"}}, \"transform\": [{\"filter\": \"(datum.p50_trip === 1)\"}]}, {\"mark\": {\"type\": \"text\", \"align\": \"center\", \"baseline\": \"middle\"}, \"encoding\": {\"color\": {\"value\": \"black\"}, \"text\": {\"field\": \"pct_trips_competitive\", \"format\": \".0%\", \"type\": \"quantitative\"}, \"tooltip\": [{\"field\": \"route_id\", \"type\": \"nominal\"}, {\"field\": \"route_name\", \"type\": \"nominal\"}, {\"field\": \"trip_id\", \"type\": \"nominal\"}, {\"field\": \"service_hours\", \"type\": \"quantitative\"}, {\"field\": \"car_duration_hours\", \"type\": \"quantitative\"}, {\"field\": \"bus_multiplier\", \"type\": \"quantitative\"}, {\"field\": \"bus_difference\", \"type\": \"quantitative\"}, {\"field\": \"num_trips\", \"type\": \"quantitative\"}, {\"field\": \"num_competitive\", \"type\": \"quantitative\"}, {\"field\": \"pct_trips_competitive\", \"type\": \"quantitative\"}, {\"field\": \"pct_below_cutoff\", \"type\": \"quantitative\"}, {\"field\": \"p25\", \"type\": \"quantitative\"}, {\"field\": \"p50\", \"type\": \"quantitative\"}, {\"field\": \"p75\", \"type\": \"quantitative\"}], \"x\": {\"value\": 30}, \"y\": {\"value\": 15}}, \"transform\": [{\"calculate\": \"sqrt(-2*log(random()))*cos(2*PI*random())\", \"as\": \"jitter\"}, {\"filter\": \"(datum.fastest_trip === 1)\"}]}]}]}, \"resolve\": {\"scale\": {\"y\": \"shared\"}}, \"title\": \"Ratio of Bus to Car Travel Time\", \"$schema\": \"https://vega.github.io/schema/vega-lite/v4.17.0.json\", \"datasets\": {\"data-eceeae50d113134d0e5efa9886536592\": [{\"calitp_itp_id\": 260, \"trip_key\": 5600594073510181254, \"trip_id\": \"BCT102 SB_MF.T15\", \"shape_id\": \"BCT102 SB\", \"route_id\": \"BCT102 SB\", \"service_hours\": 0.63, \"trip_first_departure_ts\": 41940, \"trip_last_arrival_ts\": 44220, \"departure_hour\": 11, \"time_of_day\": \"Midday\", \"p25\": 0.63, \"p50\": 0.63, \"p75\": 0.63, \"p50_trip\": 1, \"fastest_trip\": 0, \"car_duration_hours\": 0.59, \"competitive_route\": 1, \"bus_multiplier\": 1.07, \"bus_difference\": 2.4, \"num_trips\": 31, \"num_competitive\": 31, \"pct_trips_competitive\": 1.0, \"bus_difference_spread\": 0.0, \"route_group\": \"short\", \"max_trip_hrs\": 0.63, \"max_trip_route_group\": 0.63, \"below_cutoff\": 31, \"pct_below_cutoff\": 1.0, \"name\": \"City of Redondo Beach\", \"caltrans_district\": \"07 - Los Angeles\", \"drmt_organization_name\": null, \"route_name\": \"Beach Cities Transit 102 Southbound\", \"cutoff2\": 20, \"cutoff\": 2}, {\"calitp_itp_id\": 260, \"trip_key\": -5553955856524841021, \"trip_id\": \"BCT102 SB_MF.T30\", \"shape_id\": \"BCT102 SB\", \"route_id\": \"BCT102 SB\", \"service_hours\": 0.63, \"trip_first_departure_ts\": 69780, \"trip_last_arrival_ts\": 72060, \"departure_hour\": 19, \"time_of_day\": \"PM Peak\", \"p25\": 0.63, \"p50\": 0.63, \"p75\": 0.63, \"p50_trip\": 1, \"fastest_trip\": 1, \"car_duration_hours\": 0.59, \"competitive_route\": 1, \"bus_multiplier\": 1.07, \"bus_difference\": 2.4, \"num_trips\": 31, \"num_competitive\": 31, \"pct_trips_competitive\": 1.0, \"bus_difference_spread\": 0.0, \"route_group\": \"short\", \"max_trip_hrs\": 0.63, \"max_trip_route_group\": 0.63, \"below_cutoff\": 31, \"pct_below_cutoff\": 1.0, \"name\": \"City of Redondo Beach\", \"caltrans_district\": \"07 - Los Angeles\", \"drmt_organization_name\": null, \"route_name\": \"Beach Cities Transit 102 Southbound\", \"cutoff2\": 20, \"cutoff\": 2}, {\"calitp_itp_id\": 260, \"trip_key\": 8801839722880547986, \"trip_id\": \"BCT102 SB_MF.T29\", \"shape_id\": \"BCT102 SB\", \"route_id\": \"BCT102 SB\", \"service_hours\": 0.63, \"trip_first_departure_ts\": 67980, \"trip_last_arrival_ts\": 70260, \"departure_hour\": 18, \"time_of_day\": \"PM Peak\", \"p25\": 0.63, \"p50\": 0.63, \"p75\": 0.63, \"p50_trip\": 1, \"fastest_trip\": 0, \"car_duration_hours\": 0.59, \"competitive_route\": 1, \"bus_multiplier\": 1.07, \"bus_difference\": 2.4, \"num_trips\": 31, \"num_competitive\": 31, \"pct_trips_competitive\": 1.0, \"bus_difference_spread\": 0.0, \"route_group\": \"short\", \"max_trip_hrs\": 0.63, \"max_trip_route_group\": 0.63, \"below_cutoff\": 31, \"pct_below_cutoff\": 1.0, \"name\": \"City of Redondo Beach\", \"caltrans_district\": \"07 - Los Angeles\", \"drmt_organization_name\": null, \"route_name\": \"Beach Cities Transit 102 Southbound\", \"cutoff2\": 20, \"cutoff\": 2}, {\"calitp_itp_id\": 260, \"trip_key\": -215016114500874665, \"trip_id\": \"BCT102 SB_MF.T08\", \"shape_id\": \"BCT102 SB\", \"route_id\": \"BCT102 SB\", \"service_hours\": 0.63, \"trip_first_departure_ts\": 29520, \"trip_last_arrival_ts\": 31800, \"departure_hour\": 8, \"time_of_day\": \"AM Peak\", \"p25\": 0.63, \"p50\": 0.63, \"p75\": 0.63, \"p50_trip\": 1, \"fastest_trip\": 0, \"car_duration_hours\": 0.59, \"competitive_route\": 1, \"bus_multiplier\": 1.07, \"bus_difference\": 2.4, \"num_trips\": 31, \"num_competitive\": 31, \"pct_trips_competitive\": 1.0, \"bus_difference_spread\": 0.0, \"route_group\": \"short\", \"max_trip_hrs\": 0.63, \"max_trip_route_group\": 0.63, \"below_cutoff\": 31, \"pct_below_cutoff\": 1.0, \"name\": \"City of Redondo Beach\", \"caltrans_district\": \"07 - Los Angeles\", \"drmt_organization_name\": null, \"route_name\": \"Beach Cities Transit 102 Southbound\", \"cutoff2\": 20, \"cutoff\": 2}, {\"calitp_itp_id\": 260, \"trip_key\": 4157095849159416399, \"trip_id\": \"BCT102 SB_MF.T18\", \"shape_id\": \"BCT102 SB\", \"route_id\": \"BCT102 SB\", \"service_hours\": 0.63, \"trip_first_departure_ts\": 48240, \"trip_last_arrival_ts\": 50520, \"departure_hour\": 13, \"time_of_day\": \"Midday\", \"p25\": 0.63, \"p50\": 0.63, \"p75\": 0.63, \"p50_trip\": 1, \"fastest_trip\": 0, \"car_duration_hours\": 0.59, \"competitive_route\": 1, \"bus_multiplier\": 1.07, \"bus_difference\": 2.4, \"num_trips\": 31, \"num_competitive\": 31, \"pct_trips_competitive\": 1.0, \"bus_difference_spread\": 0.0, \"route_group\": \"short\", \"max_trip_hrs\": 0.63, \"max_trip_route_group\": 0.63, \"below_cutoff\": 31, \"pct_below_cutoff\": 1.0, \"name\": \"City of Redondo Beach\", \"caltrans_district\": \"07 - Los Angeles\", \"drmt_organization_name\": null, \"route_name\": \"Beach Cities Transit 102 Southbound\", \"cutoff2\": 20, \"cutoff\": 2}, {\"calitp_itp_id\": 260, \"trip_key\": 7870570428958274744, \"trip_id\": \"BCT102 SB_MF.T04\", \"shape_id\": \"BCT102 SB\", \"route_id\": \"BCT102 SB\", \"service_hours\": 0.63, \"trip_first_departure_ts\": 25500, \"trip_last_arrival_ts\": 27780, \"departure_hour\": 7, \"time_of_day\": \"AM Peak\", \"p25\": 0.63, \"p50\": 0.63, \"p75\": 0.63, \"p50_trip\": 1, \"fastest_trip\": 0, \"car_duration_hours\": 0.59, \"competitive_route\": 1, \"bus_multiplier\": 1.07, \"bus_difference\": 2.4, \"num_trips\": 31, \"num_competitive\": 31, \"pct_trips_competitive\": 1.0, \"bus_difference_spread\": 0.0, \"route_group\": \"short\", \"max_trip_hrs\": 0.63, \"max_trip_route_group\": 0.63, \"below_cutoff\": 31, \"pct_below_cutoff\": 1.0, \"name\": \"City of Redondo Beach\", \"caltrans_district\": \"07 - Los Angeles\", \"drmt_organization_name\": null, \"route_name\": \"Beach Cities Transit 102 Southbound\", \"cutoff2\": 20, \"cutoff\": 2}, {\"calitp_itp_id\": 260, \"trip_key\": 66336865387378607, \"trip_id\": \"BCT102 SB_MF.T28\", \"shape_id\": \"BCT102 SB\", \"route_id\": \"BCT102 SB\", \"service_hours\": 0.63, \"trip_first_departure_ts\": 66180, \"trip_last_arrival_ts\": 68460, \"departure_hour\": 18, \"time_of_day\": \"PM Peak\", \"p25\": 0.63, \"p50\": 0.63, \"p75\": 0.63, \"p50_trip\": 1, \"fastest_trip\": 0, \"car_duration_hours\": 0.59, \"competitive_route\": 1, \"bus_multiplier\": 1.07, \"bus_difference\": 2.4, \"num_trips\": 31, \"num_competitive\": 31, \"pct_trips_competitive\": 1.0, \"bus_difference_spread\": 0.0, \"route_group\": \"short\", \"max_trip_hrs\": 0.63, \"max_trip_route_group\": 0.63, \"below_cutoff\": 31, \"pct_below_cutoff\": 1.0, \"name\": \"City of Redondo Beach\", \"caltrans_district\": \"07 - Los Angeles\", \"drmt_organization_name\": null, \"route_name\": \"Beach Cities Transit 102 Southbound\", \"cutoff2\": 20, \"cutoff\": 2}, {\"calitp_itp_id\": 260, \"trip_key\": 1849295836178047209, \"trip_id\": \"BCT102 SB_MF.T01\", \"shape_id\": \"BCT102 SB\", \"route_id\": \"BCT102 SB\", \"service_hours\": 0.63, \"trip_first_departure_ts\": 22740, \"trip_last_arrival_ts\": 25020, \"departure_hour\": 6, \"time_of_day\": \"Owl Service\", \"p25\": 0.63, \"p50\": 0.63, \"p75\": 0.63, \"p50_trip\": 1, \"fastest_trip\": 0, \"car_duration_hours\": 0.59, \"competitive_route\": 1, \"bus_multiplier\": 1.07, \"bus_difference\": 2.4, \"num_trips\": 31, \"num_competitive\": 31, \"pct_trips_competitive\": 1.0, \"bus_difference_spread\": 0.0, \"route_group\": \"short\", \"max_trip_hrs\": 0.63, \"max_trip_route_group\": 0.63, \"below_cutoff\": 31, \"pct_below_cutoff\": 1.0, \"name\": \"City of Redondo Beach\", \"caltrans_district\": \"07 - Los Angeles\", \"drmt_organization_name\": null, \"route_name\": \"Beach Cities Transit 102 Southbound\", \"cutoff2\": 20, \"cutoff\": 2}, {\"calitp_itp_id\": 260, \"trip_key\": 8888593141944986521, \"trip_id\": \"BCT102 SB_MF.T11\", \"shape_id\": \"BCT102 SB\", \"route_id\": \"BCT102 SB\", \"service_hours\": 0.63, \"trip_first_departure_ts\": 34920, \"trip_last_arrival_ts\": 37200, \"departure_hour\": 9, \"time_of_day\": \"AM Peak\", \"p25\": 0.63, \"p50\": 0.63, \"p75\": 0.63, \"p50_trip\": 1, \"fastest_trip\": 0, \"car_duration_hours\": 0.59, \"competitive_route\": 1, \"bus_multiplier\": 1.07, \"bus_difference\": 2.4, \"num_trips\": 31, \"num_competitive\": 31, \"pct_trips_competitive\": 1.0, \"bus_difference_spread\": 0.0, \"route_group\": \"short\", \"max_trip_hrs\": 0.63, \"max_trip_route_group\": 0.63, \"below_cutoff\": 31, \"pct_below_cutoff\": 1.0, \"name\": \"City of Redondo Beach\", \"caltrans_district\": \"07 - Los Angeles\", \"drmt_organization_name\": null, \"route_name\": \"Beach Cities Transit 102 Southbound\", \"cutoff2\": 20, \"cutoff\": 2}, {\"calitp_itp_id\": 260, \"trip_key\": -5735749424997332655, \"trip_id\": \"BCT102 SB_MF.T25\", \"shape_id\": \"BCT102 SB\", \"route_id\": \"BCT102 SB\", \"service_hours\": 0.63, \"trip_first_departure_ts\": 60780, \"trip_last_arrival_ts\": 63060, \"departure_hour\": 16, \"time_of_day\": \"Midday\", \"p25\": 0.63, \"p50\": 0.63, \"p75\": 0.63, \"p50_trip\": 1, \"fastest_trip\": 0, \"car_duration_hours\": 0.59, \"competitive_route\": 1, \"bus_multiplier\": 1.07, \"bus_difference\": 2.4, \"num_trips\": 31, \"num_competitive\": 31, \"pct_trips_competitive\": 1.0, \"bus_difference_spread\": 0.0, \"route_group\": \"short\", \"max_trip_hrs\": 0.63, \"max_trip_route_group\": 0.63, \"below_cutoff\": 31, \"pct_below_cutoff\": 1.0, \"name\": \"City of Redondo Beach\", \"caltrans_district\": \"07 - Los Angeles\", \"drmt_organization_name\": null, \"route_name\": \"Beach Cities Transit 102 Southbound\", \"cutoff2\": 20, \"cutoff\": 2}, {\"calitp_itp_id\": 260, \"trip_key\": 810308228482532214, \"trip_id\": \"BCT102 SB_MF.T02\", \"shape_id\": \"BCT102 SB\", \"route_id\": \"BCT102 SB\", \"service_hours\": 0.63, \"trip_first_departure_ts\": 24240, \"trip_last_arrival_ts\": 26520, \"departure_hour\": 6, \"time_of_day\": \"Owl Service\", \"p25\": 0.63, \"p50\": 0.63, \"p75\": 0.63, \"p50_trip\": 1, \"fastest_trip\": 0, \"car_duration_hours\": 0.59, \"competitive_route\": 1, \"bus_multiplier\": 1.07, \"bus_difference\": 2.4, \"num_trips\": 31, \"num_competitive\": 31, \"pct_trips_competitive\": 1.0, \"bus_difference_spread\": 0.0, \"route_group\": \"short\", \"max_trip_hrs\": 0.63, \"max_trip_route_group\": 0.63, \"below_cutoff\": 31, \"pct_below_cutoff\": 1.0, \"name\": \"City of Redondo Beach\", \"caltrans_district\": \"07 - Los Angeles\", \"drmt_organization_name\": null, \"route_name\": \"Beach Cities Transit 102 Southbound\", \"cutoff2\": 20, \"cutoff\": 2}, {\"calitp_itp_id\": 260, \"trip_key\": -2902071067911749990, \"trip_id\": \"BCT102 SB_MF.T31\", \"shape_id\": \"BCT102 SB\", \"route_id\": \"BCT102 SB\", \"service_hours\": 0.63, \"trip_first_departure_ts\": 71700, \"trip_last_arrival_ts\": 73980, \"departure_hour\": 19, \"time_of_day\": \"PM Peak\", \"p25\": 0.63, \"p50\": 0.63, \"p75\": 0.63, \"p50_trip\": 1, \"fastest_trip\": 0, \"car_duration_hours\": 0.59, \"competitive_route\": 1, \"bus_multiplier\": 1.07, \"bus_difference\": 2.4, \"num_trips\": 31, \"num_competitive\": 31, \"pct_trips_competitive\": 1.0, \"bus_difference_spread\": 0.0, \"route_group\": \"short\", \"max_trip_hrs\": 0.63, \"max_trip_route_group\": 0.63, \"below_cutoff\": 31, \"pct_below_cutoff\": 1.0, \"name\": \"City of Redondo Beach\", \"caltrans_district\": \"07 - Los Angeles\", \"drmt_organization_name\": null, \"route_name\": \"Beach Cities Transit 102 Southbound\", \"cutoff2\": 20, \"cutoff\": 2}, {\"calitp_itp_id\": 260, \"trip_key\": -4690143314967611854, \"trip_id\": \"BCT102 SB_MF.T20\", \"shape_id\": \"BCT102 SB\", \"route_id\": \"BCT102 SB\", \"service_hours\": 0.63, \"trip_first_departure_ts\": 51840, \"trip_last_arrival_ts\": 54120, \"departure_hour\": 14, \"time_of_day\": \"Midday\", \"p25\": 0.63, \"p50\": 0.63, \"p75\": 0.63, \"p50_trip\": 1, \"fastest_trip\": 0, \"car_duration_hours\": 0.59, \"competitive_route\": 1, \"bus_multiplier\": 1.07, \"bus_difference\": 2.4, \"num_trips\": 31, \"num_competitive\": 31, \"pct_trips_competitive\": 1.0, \"bus_difference_spread\": 0.0, \"route_group\": \"short\", \"max_trip_hrs\": 0.63, \"max_trip_route_group\": 0.63, \"below_cutoff\": 31, \"pct_below_cutoff\": 1.0, \"name\": \"City of Redondo Beach\", \"caltrans_district\": \"07 - Los Angeles\", \"drmt_organization_name\": null, \"route_name\": \"Beach Cities Transit 102 Southbound\", \"cutoff2\": 20, \"cutoff\": 2}, {\"calitp_itp_id\": 260, \"trip_key\": 929902077473829746, \"trip_id\": \"BCT102 SB_MF.T27\", \"shape_id\": \"BCT102 SB\", \"route_id\": \"BCT102 SB\", \"service_hours\": 0.63, \"trip_first_departure_ts\": 64380, \"trip_last_arrival_ts\": 66660, \"departure_hour\": 17, \"time_of_day\": \"PM Peak\", \"p25\": 0.63, \"p50\": 0.63, \"p75\": 0.63, \"p50_trip\": 1, \"fastest_trip\": 0, \"car_duration_hours\": 0.59, \"competitive_route\": 1, \"bus_multiplier\": 1.07, \"bus_difference\": 2.4, \"num_trips\": 31, \"num_competitive\": 31, \"pct_trips_competitive\": 1.0, \"bus_difference_spread\": 0.0, \"route_group\": \"short\", \"max_trip_hrs\": 0.63, \"max_trip_route_group\": 0.63, \"below_cutoff\": 31, \"pct_below_cutoff\": 1.0, \"name\": \"City of Redondo Beach\", \"caltrans_district\": \"07 - Los Angeles\", \"drmt_organization_name\": null, \"route_name\": \"Beach Cities Transit 102 Southbound\", \"cutoff2\": 20, \"cutoff\": 2}, {\"calitp_itp_id\": 260, \"trip_key\": -90858452867729391, \"trip_id\": \"BCT102 SB_MF.T19\", \"shape_id\": \"BCT102 SB\", \"route_id\": \"BCT102 SB\", \"service_hours\": 0.63, \"trip_first_departure_ts\": 50040, \"trip_last_arrival_ts\": 52320, \"departure_hour\": 13, \"time_of_day\": \"Midday\", \"p25\": 0.63, \"p50\": 0.63, \"p75\": 0.63, \"p50_trip\": 1, \"fastest_trip\": 0, \"car_duration_hours\": 0.59, \"competitive_route\": 1, \"bus_multiplier\": 1.07, \"bus_difference\": 2.4, \"num_trips\": 31, \"num_competitive\": 31, \"pct_trips_competitive\": 1.0, \"bus_difference_spread\": 0.0, \"route_group\": \"short\", \"max_trip_hrs\": 0.63, \"max_trip_route_group\": 0.63, \"below_cutoff\": 31, \"pct_below_cutoff\": 1.0, \"name\": \"City of Redondo Beach\", \"caltrans_district\": \"07 - Los Angeles\", \"drmt_organization_name\": null, \"route_name\": \"Beach Cities Transit 102 Southbound\", \"cutoff2\": 20, \"cutoff\": 2}, {\"calitp_itp_id\": 260, \"trip_key\": 8838309147655915020, \"trip_id\": \"BCT102 SB_MF.T21\", \"shape_id\": \"BCT102 SB\", \"route_id\": \"BCT102 SB\", \"service_hours\": 0.63, \"trip_first_departure_ts\": 53640, \"trip_last_arrival_ts\": 55920, \"departure_hour\": 14, \"time_of_day\": \"Midday\", \"p25\": 0.63, \"p50\": 0.63, \"p75\": 0.63, \"p50_trip\": 1, \"fastest_trip\": 0, \"car_duration_hours\": 0.59, \"competitive_route\": 1, \"bus_multiplier\": 1.07, \"bus_difference\": 2.4, \"num_trips\": 31, \"num_competitive\": 31, \"pct_trips_competitive\": 1.0, \"bus_difference_spread\": 0.0, \"route_group\": \"short\", \"max_trip_hrs\": 0.63, \"max_trip_route_group\": 0.63, \"below_cutoff\": 31, \"pct_below_cutoff\": 1.0, \"name\": \"City of Redondo Beach\", \"caltrans_district\": \"07 - Los Angeles\", \"drmt_organization_name\": null, \"route_name\": \"Beach Cities Transit 102 Southbound\", \"cutoff2\": 20, \"cutoff\": 2}, {\"calitp_itp_id\": 260, \"trip_key\": -8320198027851603441, \"trip_id\": \"BCT102 SB_MF.T09\", \"shape_id\": \"BCT102 SB\", \"route_id\": \"BCT102 SB\", \"service_hours\": 0.63, \"trip_first_departure_ts\": 31140, \"trip_last_arrival_ts\": 33420, \"departure_hour\": 8, \"time_of_day\": \"AM Peak\", \"p25\": 0.63, \"p50\": 0.63, \"p75\": 0.63, \"p50_trip\": 1, \"fastest_trip\": 0, \"car_duration_hours\": 0.59, \"competitive_route\": 1, \"bus_multiplier\": 1.07, \"bus_difference\": 2.4, \"num_trips\": 31, \"num_competitive\": 31, \"pct_trips_competitive\": 1.0, \"bus_difference_spread\": 0.0, \"route_group\": \"short\", \"max_trip_hrs\": 0.63, \"max_trip_route_group\": 0.63, \"below_cutoff\": 31, \"pct_below_cutoff\": 1.0, \"name\": \"City of Redondo Beach\", \"caltrans_district\": \"07 - Los Angeles\", \"drmt_organization_name\": null, \"route_name\": \"Beach Cities Transit 102 Southbound\", \"cutoff2\": 20, \"cutoff\": 2}, {\"calitp_itp_id\": 260, \"trip_key\": -3103483456625778491, \"trip_id\": \"BCT102 SB_MF.T14\", \"shape_id\": \"BCT102 SB\", \"route_id\": \"BCT102 SB\", \"service_hours\": 0.63, \"trip_first_departure_ts\": 40140, \"trip_last_arrival_ts\": 42420, \"departure_hour\": 11, \"time_of_day\": \"Midday\", \"p25\": 0.63, \"p50\": 0.63, \"p75\": 0.63, \"p50_trip\": 1, \"fastest_trip\": 0, \"car_duration_hours\": 0.59, \"competitive_route\": 1, \"bus_multiplier\": 1.07, \"bus_difference\": 2.4, \"num_trips\": 31, \"num_competitive\": 31, \"pct_trips_competitive\": 1.0, \"bus_difference_spread\": 0.0, \"route_group\": \"short\", \"max_trip_hrs\": 0.63, \"max_trip_route_group\": 0.63, \"below_cutoff\": 31, \"pct_below_cutoff\": 1.0, \"name\": \"City of Redondo Beach\", \"caltrans_district\": \"07 - Los Angeles\", \"drmt_organization_name\": null, \"route_name\": \"Beach Cities Transit 102 Southbound\", \"cutoff2\": 20, \"cutoff\": 2}, {\"calitp_itp_id\": 260, \"trip_key\": 1828916571418240004, \"trip_id\": \"BCT102 SB_MF.T16\", \"shape_id\": \"BCT102 SB\", \"route_id\": \"BCT102 SB\", \"service_hours\": 0.63, \"trip_first_departure_ts\": 43740, \"trip_last_arrival_ts\": 46020, \"departure_hour\": 12, \"time_of_day\": \"Midday\", \"p25\": 0.63, \"p50\": 0.63, \"p75\": 0.63, \"p50_trip\": 1, \"fastest_trip\": 0, \"car_duration_hours\": 0.59, \"competitive_route\": 1, \"bus_multiplier\": 1.07, \"bus_difference\": 2.4, \"num_trips\": 31, \"num_competitive\": 31, \"pct_trips_competitive\": 1.0, \"bus_difference_spread\": 0.0, \"route_group\": \"short\", \"max_trip_hrs\": 0.63, \"max_trip_route_group\": 0.63, \"below_cutoff\": 31, \"pct_below_cutoff\": 1.0, \"name\": \"City of Redondo Beach\", \"caltrans_district\": \"07 - Los Angeles\", \"drmt_organization_name\": null, \"route_name\": \"Beach Cities Transit 102 Southbound\", \"cutoff2\": 20, \"cutoff\": 2}, {\"calitp_itp_id\": 260, \"trip_key\": -4401258628786279744, \"trip_id\": \"BCT102 SB_MF.T17\", \"shape_id\": \"BCT102 SB\", \"route_id\": \"BCT102 SB\", \"service_hours\": 0.63, \"trip_first_departure_ts\": 45540, \"trip_last_arrival_ts\": 47820, \"departure_hour\": 12, \"time_of_day\": \"Midday\", \"p25\": 0.63, \"p50\": 0.63, \"p75\": 0.63, \"p50_trip\": 1, \"fastest_trip\": 0, \"car_duration_hours\": 0.59, \"competitive_route\": 1, \"bus_multiplier\": 1.07, \"bus_difference\": 2.4, \"num_trips\": 31, \"num_competitive\": 31, \"pct_trips_competitive\": 1.0, \"bus_difference_spread\": 0.0, \"route_group\": \"short\", \"max_trip_hrs\": 0.63, \"max_trip_route_group\": 0.63, \"below_cutoff\": 31, \"pct_below_cutoff\": 1.0, \"name\": \"City of Redondo Beach\", \"caltrans_district\": \"07 - Los Angeles\", \"drmt_organization_name\": null, \"route_name\": \"Beach Cities Transit 102 Southbound\", \"cutoff2\": 20, \"cutoff\": 2}, {\"calitp_itp_id\": 260, \"trip_key\": 3924681704903124640, \"trip_id\": \"BCT102 SB_MF.T23\", \"shape_id\": \"BCT102 SB\", \"route_id\": \"BCT102 SB\", \"service_hours\": 0.63, \"trip_first_departure_ts\": 57480, \"trip_last_arrival_ts\": 59760, \"departure_hour\": 15, \"time_of_day\": \"Midday\", \"p25\": 0.63, \"p50\": 0.63, \"p75\": 0.63, \"p50_trip\": 1, \"fastest_trip\": 0, \"car_duration_hours\": 0.59, \"competitive_route\": 1, \"bus_multiplier\": 1.07, \"bus_difference\": 2.4, \"num_trips\": 31, \"num_competitive\": 31, \"pct_trips_competitive\": 1.0, \"bus_difference_spread\": 0.0, \"route_group\": \"short\", \"max_trip_hrs\": 0.63, \"max_trip_route_group\": 0.63, \"below_cutoff\": 31, \"pct_below_cutoff\": 1.0, \"name\": \"City of Redondo Beach\", \"caltrans_district\": \"07 - Los Angeles\", \"drmt_organization_name\": null, \"route_name\": \"Beach Cities Transit 102 Southbound\", \"cutoff2\": 20, \"cutoff\": 2}, {\"calitp_itp_id\": 260, \"trip_key\": -3244853499214608810, \"trip_id\": \"BCT102 SB_MF.T22\", \"shape_id\": \"BCT102 SB\", \"route_id\": \"BCT102 SB\", \"service_hours\": 0.63, \"trip_first_departure_ts\": 55860, \"trip_last_arrival_ts\": 58140, \"departure_hour\": 15, \"time_of_day\": \"Midday\", \"p25\": 0.63, \"p50\": 0.63, \"p75\": 0.63, \"p50_trip\": 1, \"fastest_trip\": 0, \"car_duration_hours\": 0.59, \"competitive_route\": 1, \"bus_multiplier\": 1.07, \"bus_difference\": 2.4, \"num_trips\": 31, \"num_competitive\": 31, \"pct_trips_competitive\": 1.0, \"bus_difference_spread\": 0.0, \"route_group\": \"short\", \"max_trip_hrs\": 0.63, \"max_trip_route_group\": 0.63, \"below_cutoff\": 31, \"pct_below_cutoff\": 1.0, \"name\": \"City of Redondo Beach\", \"caltrans_district\": \"07 - Los Angeles\", \"drmt_organization_name\": null, \"route_name\": \"Beach Cities Transit 102 Southbound\", \"cutoff2\": 20, \"cutoff\": 2}, {\"calitp_itp_id\": 260, \"trip_key\": 5774528551612231024, \"trip_id\": \"BCT102 SB_MF.T26\", \"shape_id\": \"BCT102 SB\", \"route_id\": \"BCT102 SB\", \"service_hours\": 0.63, \"trip_first_departure_ts\": 62580, \"trip_last_arrival_ts\": 64860, \"departure_hour\": 17, \"time_of_day\": \"PM Peak\", \"p25\": 0.63, \"p50\": 0.63, \"p75\": 0.63, \"p50_trip\": 1, \"fastest_trip\": 0, \"car_duration_hours\": 0.59, \"competitive_route\": 1, \"bus_multiplier\": 1.07, \"bus_difference\": 2.4, \"num_trips\": 31, \"num_competitive\": 31, \"pct_trips_competitive\": 1.0, \"bus_difference_spread\": 0.0, \"route_group\": \"short\", \"max_trip_hrs\": 0.63, \"max_trip_route_group\": 0.63, \"below_cutoff\": 31, \"pct_below_cutoff\": 1.0, \"name\": \"City of Redondo Beach\", \"caltrans_district\": \"07 - Los Angeles\", \"drmt_organization_name\": null, \"route_name\": \"Beach Cities Transit 102 Southbound\", \"cutoff2\": 20, \"cutoff\": 2}, {\"calitp_itp_id\": 260, \"trip_key\": 8382291158281313618, \"trip_id\": \"BCT102 SB_MF.T10\", \"shape_id\": \"BCT102 SB\", \"route_id\": \"BCT102 SB\", \"service_hours\": 0.63, \"trip_first_departure_ts\": 33120, \"trip_last_arrival_ts\": 35400, \"departure_hour\": 9, \"time_of_day\": \"AM Peak\", \"p25\": 0.63, \"p50\": 0.63, \"p75\": 0.63, \"p50_trip\": 1, \"fastest_trip\": 0, \"car_duration_hours\": 0.59, \"competitive_route\": 1, \"bus_multiplier\": 1.07, \"bus_difference\": 2.4, \"num_trips\": 31, \"num_competitive\": 31, \"pct_trips_competitive\": 1.0, \"bus_difference_spread\": 0.0, \"route_group\": \"short\", \"max_trip_hrs\": 0.63, \"max_trip_route_group\": 0.63, \"below_cutoff\": 31, \"pct_below_cutoff\": 1.0, \"name\": \"City of Redondo Beach\", \"caltrans_district\": \"07 - Los Angeles\", \"drmt_organization_name\": null, \"route_name\": \"Beach Cities Transit 102 Southbound\", \"cutoff2\": 20, \"cutoff\": 2}, {\"calitp_itp_id\": 260, \"trip_key\": 6532390427287396813, \"trip_id\": \"BCT102 SB_MF.T12\", \"shape_id\": \"BCT102 SB\", \"route_id\": \"BCT102 SB\", \"service_hours\": 0.63, \"trip_first_departure_ts\": 36540, \"trip_last_arrival_ts\": 38820, \"departure_hour\": 10, \"time_of_day\": \"Midday\", \"p25\": 0.63, \"p50\": 0.63, \"p75\": 0.63, \"p50_trip\": 1, \"fastest_trip\": 0, \"car_duration_hours\": 0.59, \"competitive_route\": 1, \"bus_multiplier\": 1.07, \"bus_difference\": 2.4, \"num_trips\": 31, \"num_competitive\": 31, \"pct_trips_competitive\": 1.0, \"bus_difference_spread\": 0.0, \"route_group\": \"short\", \"max_trip_hrs\": 0.63, \"max_trip_route_group\": 0.63, \"below_cutoff\": 31, \"pct_below_cutoff\": 1.0, \"name\": \"City of Redondo Beach\", \"caltrans_district\": \"07 - Los Angeles\", \"drmt_organization_name\": null, \"route_name\": \"Beach Cities Transit 102 Southbound\", \"cutoff2\": 20, \"cutoff\": 2}, {\"calitp_itp_id\": 260, \"trip_key\": -8685734809874011135, \"trip_id\": \"BCT102 SB_MF.T13\", \"shape_id\": \"BCT102 SB\", \"route_id\": \"BCT102 SB\", \"service_hours\": 0.63, \"trip_first_departure_ts\": 38340, \"trip_last_arrival_ts\": 40620, \"departure_hour\": 10, \"time_of_day\": \"Midday\", \"p25\": 0.63, \"p50\": 0.63, \"p75\": 0.63, \"p50_trip\": 1, \"fastest_trip\": 0, \"car_duration_hours\": 0.59, \"competitive_route\": 1, \"bus_multiplier\": 1.07, \"bus_difference\": 2.4, \"num_trips\": 31, \"num_competitive\": 31, \"pct_trips_competitive\": 1.0, \"bus_difference_spread\": 0.0, \"route_group\": \"short\", \"max_trip_hrs\": 0.63, \"max_trip_route_group\": 0.63, \"below_cutoff\": 31, \"pct_below_cutoff\": 1.0, \"name\": \"City of Redondo Beach\", \"caltrans_district\": \"07 - Los Angeles\", \"drmt_organization_name\": null, \"route_name\": \"Beach Cities Transit 102 Southbound\", \"cutoff2\": 20, \"cutoff\": 2}, {\"calitp_itp_id\": 260, \"trip_key\": 8869313843031039602, \"trip_id\": \"BCT102 SB_MF.T03\", \"shape_id\": \"BCT102 SB\", \"route_id\": \"BCT102 SB\", \"service_hours\": 0.63, \"trip_first_departure_ts\": 25200, \"trip_last_arrival_ts\": 27480, \"departure_hour\": 7, \"time_of_day\": \"AM Peak\", \"p25\": 0.63, \"p50\": 0.63, \"p75\": 0.63, \"p50_trip\": 1, \"fastest_trip\": 0, \"car_duration_hours\": 0.59, \"competitive_route\": 1, \"bus_multiplier\": 1.07, \"bus_difference\": 2.4, \"num_trips\": 31, \"num_competitive\": 31, \"pct_trips_competitive\": 1.0, \"bus_difference_spread\": 0.0, \"route_group\": \"short\", \"max_trip_hrs\": 0.63, \"max_trip_route_group\": 0.63, \"below_cutoff\": 31, \"pct_below_cutoff\": 1.0, \"name\": \"City of Redondo Beach\", \"caltrans_district\": \"07 - Los Angeles\", \"drmt_organization_name\": null, \"route_name\": \"Beach Cities Transit 102 Southbound\", \"cutoff2\": 20, \"cutoff\": 2}, {\"calitp_itp_id\": 260, \"trip_key\": 4507958272068012161, \"trip_id\": \"BCT102 SB_MF.T05\", \"shape_id\": \"BCT102 SB\", \"route_id\": \"BCT102 SB\", \"service_hours\": 0.63, \"trip_first_departure_ts\": 25920, \"trip_last_arrival_ts\": 28200, \"departure_hour\": 7, \"time_of_day\": \"AM Peak\", \"p25\": 0.63, \"p50\": 0.63, \"p75\": 0.63, \"p50_trip\": 1, \"fastest_trip\": 0, \"car_duration_hours\": 0.59, \"competitive_route\": 1, \"bus_multiplier\": 1.07, \"bus_difference\": 2.4, \"num_trips\": 31, \"num_competitive\": 31, \"pct_trips_competitive\": 1.0, \"bus_difference_spread\": 0.0, \"route_group\": \"short\", \"max_trip_hrs\": 0.63, \"max_trip_route_group\": 0.63, \"below_cutoff\": 31, \"pct_below_cutoff\": 1.0, \"name\": \"City of Redondo Beach\", \"caltrans_district\": \"07 - Los Angeles\", \"drmt_organization_name\": null, \"route_name\": \"Beach Cities Transit 102 Southbound\", \"cutoff2\": 20, \"cutoff\": 2}, {\"calitp_itp_id\": 260, \"trip_key\": 1846954128314572841, \"trip_id\": \"BCT102 SB_MF.T24\", \"shape_id\": \"BCT102 SB\", \"route_id\": \"BCT102 SB\", \"service_hours\": 0.63, \"trip_first_departure_ts\": 58980, \"trip_last_arrival_ts\": 61260, \"departure_hour\": 16, \"time_of_day\": \"Midday\", \"p25\": 0.63, \"p50\": 0.63, \"p75\": 0.63, \"p50_trip\": 1, \"fastest_trip\": 0, \"car_duration_hours\": 0.59, \"competitive_route\": 1, \"bus_multiplier\": 1.07, \"bus_difference\": 2.4, \"num_trips\": 31, \"num_competitive\": 31, \"pct_trips_competitive\": 1.0, \"bus_difference_spread\": 0.0, \"route_group\": \"short\", \"max_trip_hrs\": 0.63, \"max_trip_route_group\": 0.63, \"below_cutoff\": 31, \"pct_below_cutoff\": 1.0, \"name\": \"City of Redondo Beach\", \"caltrans_district\": \"07 - Los Angeles\", \"drmt_organization_name\": null, \"route_name\": \"Beach Cities Transit 102 Southbound\", \"cutoff2\": 20, \"cutoff\": 2}, {\"calitp_itp_id\": 260, \"trip_key\": -3309727796545106649, \"trip_id\": \"BCT102 SB_MF.T07\", \"shape_id\": \"BCT102 SB\", \"route_id\": \"BCT102 SB\", \"service_hours\": 0.63, \"trip_first_departure_ts\": 27720, \"trip_last_arrival_ts\": 30000, \"departure_hour\": 7, \"time_of_day\": \"AM Peak\", \"p25\": 0.63, \"p50\": 0.63, \"p75\": 0.63, \"p50_trip\": 1, \"fastest_trip\": 0, \"car_duration_hours\": 0.59, \"competitive_route\": 1, \"bus_multiplier\": 1.07, \"bus_difference\": 2.4, \"num_trips\": 31, \"num_competitive\": 31, \"pct_trips_competitive\": 1.0, \"bus_difference_spread\": 0.0, \"route_group\": \"short\", \"max_trip_hrs\": 0.63, \"max_trip_route_group\": 0.63, \"below_cutoff\": 31, \"pct_below_cutoff\": 1.0, \"name\": \"City of Redondo Beach\", \"caltrans_district\": \"07 - Los Angeles\", \"drmt_organization_name\": null, \"route_name\": \"Beach Cities Transit 102 Southbound\", \"cutoff2\": 20, \"cutoff\": 2}, {\"calitp_itp_id\": 260, \"trip_key\": -1807960922360739503, \"trip_id\": \"BCT102 SB_MF.T06\", \"shape_id\": \"BCT102 SB\", \"route_id\": \"BCT102 SB\", \"service_hours\": 0.63, \"trip_first_departure_ts\": 26100, \"trip_last_arrival_ts\": 28380, \"departure_hour\": 7, \"time_of_day\": \"AM Peak\", \"p25\": 0.63, \"p50\": 0.63, \"p75\": 0.63, \"p50_trip\": 1, \"fastest_trip\": 0, \"car_duration_hours\": 0.59, \"competitive_route\": 1, \"bus_multiplier\": 1.07, \"bus_difference\": 2.4, \"num_trips\": 31, \"num_competitive\": 31, \"pct_trips_competitive\": 1.0, \"bus_difference_spread\": 0.0, \"route_group\": \"short\", \"max_trip_hrs\": 0.63, \"max_trip_route_group\": 0.63, \"below_cutoff\": 31, \"pct_below_cutoff\": 1.0, \"name\": \"City of Redondo Beach\", \"caltrans_district\": \"07 - Los Angeles\", \"drmt_organization_name\": null, \"route_name\": \"Beach Cities Transit 102 Southbound\", \"cutoff2\": 20, \"cutoff\": 2}]}}, {\"mode\": \"vega-lite\"});\n",
       "</script>"
      ],
      "text/plain": [
       "alt.FacetChart(...)"
      ]
     },
     "metadata": {},
     "output_type": "display_data"
    },
    {
     "data": {
      "text/html": [
       "\n",
       "<div id=\"altair-viz-5e2f3346e74d4ff6b5e2fdad19f7fc4f\"></div>\n",
       "<script type=\"text/javascript\">\n",
       "  var VEGA_DEBUG = (typeof VEGA_DEBUG == \"undefined\") ? {} : VEGA_DEBUG;\n",
       "  (function(spec, embedOpt){\n",
       "    let outputDiv = document.currentScript.previousElementSibling;\n",
       "    if (outputDiv.id !== \"altair-viz-5e2f3346e74d4ff6b5e2fdad19f7fc4f\") {\n",
       "      outputDiv = document.getElementById(\"altair-viz-5e2f3346e74d4ff6b5e2fdad19f7fc4f\");\n",
       "    }\n",
       "    const paths = {\n",
       "      \"vega\": \"https://cdn.jsdelivr.net/npm//vega@5?noext\",\n",
       "      \"vega-lib\": \"https://cdn.jsdelivr.net/npm//vega-lib?noext\",\n",
       "      \"vega-lite\": \"https://cdn.jsdelivr.net/npm//vega-lite@4.17.0?noext\",\n",
       "      \"vega-embed\": \"https://cdn.jsdelivr.net/npm//vega-embed@6?noext\",\n",
       "    };\n",
       "\n",
       "    function maybeLoadScript(lib, version) {\n",
       "      var key = `${lib.replace(\"-\", \"\")}_version`;\n",
       "      return (VEGA_DEBUG[key] == version) ?\n",
       "        Promise.resolve(paths[lib]) :\n",
       "        new Promise(function(resolve, reject) {\n",
       "          var s = document.createElement('script');\n",
       "          document.getElementsByTagName(\"head\")[0].appendChild(s);\n",
       "          s.async = true;\n",
       "          s.onload = () => {\n",
       "            VEGA_DEBUG[key] = version;\n",
       "            return resolve(paths[lib]);\n",
       "          };\n",
       "          s.onerror = () => reject(`Error loading script: ${paths[lib]}`);\n",
       "          s.src = paths[lib];\n",
       "        });\n",
       "    }\n",
       "\n",
       "    function showError(err) {\n",
       "      outputDiv.innerHTML = `<div class=\"error\" style=\"color:red;\">${err}</div>`;\n",
       "      throw err;\n",
       "    }\n",
       "\n",
       "    function displayChart(vegaEmbed) {\n",
       "      vegaEmbed(outputDiv, spec, embedOpt)\n",
       "        .catch(err => showError(`Javascript Error: ${err.message}<br>This usually means there's a typo in your chart specification. See the javascript console for the full traceback.`));\n",
       "    }\n",
       "\n",
       "    if(typeof define === \"function\" && define.amd) {\n",
       "      requirejs.config({paths});\n",
       "      require([\"vega-embed\"], displayChart, err => showError(`Error loading script: ${err.message}`));\n",
       "    } else {\n",
       "      maybeLoadScript(\"vega\", \"5\")\n",
       "        .then(() => maybeLoadScript(\"vega-lite\", \"4.17.0\"))\n",
       "        .then(() => maybeLoadScript(\"vega-embed\", \"6\"))\n",
       "        .catch(showError)\n",
       "        .then(() => displayChart(vegaEmbed));\n",
       "    }\n",
       "  })({\"config\": {\"view\": {\"continuousWidth\": 400, \"continuousHeight\": 300, \"stroke\": null}, \"facet\": {\"spacing\": 0}}, \"data\": {\"name\": \"data-ee0c6427cdd1ad01082fd8930598b8e5\"}, \"facet\": {\"column\": {\"field\": \"route_id\", \"sort\": [\"BCT102 SB\"], \"title\": \"Route ID\", \"type\": \"nominal\"}}, \"spec\": {\"layer\": [{\"mark\": \"rule\", \"encoding\": {\"color\": {\"value\": \"black\"}, \"y\": {\"field\": \"cutoff\", \"type\": \"quantitative\"}}, \"selection\": {\"selector002\": {\"type\": \"interval\", \"bind\": \"scales\", \"encodings\": [\"x\", \"y\"]}}}, {\"mark\": {\"type\": \"rule\", \"strokeDash\": [3, 3]}, \"encoding\": {\"color\": {\"value\": \"#323434\"}, \"y\": {\"field\": \"cutoff2\", \"type\": \"quantitative\"}}}, {\"mark\": {\"type\": \"point\", \"opacity\": 0.65, \"size\": 12, \"strokeWidth\": 1.1}, \"encoding\": {\"color\": {\"field\": \"time_of_day\", \"scale\": {\"range\": [\"#136C97\", \"#E16B26\", \"#F6BF16\", \"#00896B\", \"#7790A3\", \"#5B559C\"]}, \"sort\": [\"AM Peak\", \"Midday\", \"PM Peak\", \"Owl Service\"], \"title\": \"Time of Day\", \"type\": \"nominal\"}, \"tooltip\": [{\"field\": \"route_id\", \"type\": \"nominal\"}, {\"field\": \"route_name\", \"type\": \"nominal\"}, {\"field\": \"trip_id\", \"type\": \"nominal\"}, {\"field\": \"service_hours\", \"type\": \"quantitative\"}, {\"field\": \"car_duration_hours\", \"type\": \"quantitative\"}, {\"field\": \"bus_multiplier\", \"type\": \"quantitative\"}, {\"field\": \"bus_difference\", \"type\": \"quantitative\"}, {\"field\": \"num_trips\", \"type\": \"quantitative\"}, {\"field\": \"num_competitive\", \"type\": \"quantitative\"}, {\"field\": \"pct_trips_competitive\", \"type\": \"quantitative\"}, {\"field\": \"pct_below_cutoff\", \"type\": \"quantitative\"}, {\"field\": \"p25\", \"type\": \"quantitative\"}, {\"field\": \"p50\", \"type\": \"quantitative\"}, {\"field\": \"p75\", \"type\": \"quantitative\"}], \"x\": {\"axis\": {\"grid\": false, \"labels\": false, \"ticks\": true, \"values\": [0]}, \"field\": \"jitter\", \"scale\": {}, \"title\": null, \"type\": \"quantitative\"}, \"y\": {\"field\": \"bus_difference\", \"scale\": {\"domain\": [-5, 27.0]}, \"title\": \"Difference in Bus to Car Travel Time (min)\", \"type\": \"quantitative\"}}, \"transform\": [{\"calculate\": \"sqrt(-2*log(random()))*cos(2*PI*random())\", \"as\": \"jitter\"}], \"width\": 50}, {\"layer\": [{\"mark\": {\"type\": \"point\", \"opacity\": 0.6, \"size\": 20, \"strokeWidth\": 1.3}, \"encoding\": {\"color\": {\"value\": \"#323434\"}, \"y\": {\"field\": \"bus_difference\", \"type\": \"quantitative\"}}, \"transform\": [{\"filter\": \"(datum.p50_trip === 1)\"}]}, {\"mark\": {\"type\": \"text\", \"align\": \"center\", \"baseline\": \"middle\"}, \"encoding\": {\"color\": {\"value\": \"black\"}, \"text\": {\"field\": \"pct_trips_competitive\", \"format\": \".0%\", \"type\": \"quantitative\"}, \"tooltip\": [{\"field\": \"route_id\", \"type\": \"nominal\"}, {\"field\": \"route_name\", \"type\": \"nominal\"}, {\"field\": \"trip_id\", \"type\": \"nominal\"}, {\"field\": \"service_hours\", \"type\": \"quantitative\"}, {\"field\": \"car_duration_hours\", \"type\": \"quantitative\"}, {\"field\": \"bus_multiplier\", \"type\": \"quantitative\"}, {\"field\": \"bus_difference\", \"type\": \"quantitative\"}, {\"field\": \"num_trips\", \"type\": \"quantitative\"}, {\"field\": \"num_competitive\", \"type\": \"quantitative\"}, {\"field\": \"pct_trips_competitive\", \"type\": \"quantitative\"}, {\"field\": \"pct_below_cutoff\", \"type\": \"quantitative\"}, {\"field\": \"p25\", \"type\": \"quantitative\"}, {\"field\": \"p50\", \"type\": \"quantitative\"}, {\"field\": \"p75\", \"type\": \"quantitative\"}], \"x\": {\"value\": 30}, \"y\": {\"value\": 15}}, \"transform\": [{\"calculate\": \"sqrt(-2*log(random()))*cos(2*PI*random())\", \"as\": \"jitter\"}, {\"filter\": \"(datum.fastest_trip === 1)\"}]}]}]}, \"resolve\": {\"scale\": {\"y\": \"shared\"}}, \"title\": \"Difference in Bus to Car Travel Time (min)\", \"$schema\": \"https://vega.github.io/schema/vega-lite/v4.17.0.json\", \"datasets\": {\"data-ee0c6427cdd1ad01082fd8930598b8e5\": [{\"calitp_itp_id\": 260, \"trip_key\": 5600594073510181254, \"trip_id\": \"BCT102 SB_MF.T15\", \"shape_id\": \"BCT102 SB\", \"route_id\": \"BCT102 SB\", \"service_hours\": 0.63, \"trip_first_departure_ts\": 41940, \"trip_last_arrival_ts\": 44220, \"departure_hour\": 11, \"time_of_day\": \"Midday\", \"p25\": 0.63, \"p50\": 0.63, \"p75\": 0.63, \"p50_trip\": 1, \"fastest_trip\": 0, \"car_duration_hours\": 0.59, \"competitive_route\": 1, \"bus_multiplier\": 1.07, \"bus_difference\": 2.4, \"num_trips\": 31, \"num_competitive\": 31, \"pct_trips_competitive\": 1.0, \"bus_difference_spread\": 0.0, \"route_group\": \"short\", \"max_trip_hrs\": 0.63, \"max_trip_route_group\": 0.63, \"below_cutoff\": 31, \"pct_below_cutoff\": 1.0, \"name\": \"City of Redondo Beach\", \"caltrans_district\": \"07 - Los Angeles\", \"drmt_organization_name\": null, \"route_name\": \"Beach Cities Transit 102 Southbound\", \"cutoff2\": 20, \"cutoff\": 0}, {\"calitp_itp_id\": 260, \"trip_key\": -5553955856524841021, \"trip_id\": \"BCT102 SB_MF.T30\", \"shape_id\": \"BCT102 SB\", \"route_id\": \"BCT102 SB\", \"service_hours\": 0.63, \"trip_first_departure_ts\": 69780, \"trip_last_arrival_ts\": 72060, \"departure_hour\": 19, \"time_of_day\": \"PM Peak\", \"p25\": 0.63, \"p50\": 0.63, \"p75\": 0.63, \"p50_trip\": 1, \"fastest_trip\": 1, \"car_duration_hours\": 0.59, \"competitive_route\": 1, \"bus_multiplier\": 1.07, \"bus_difference\": 2.4, \"num_trips\": 31, \"num_competitive\": 31, \"pct_trips_competitive\": 1.0, \"bus_difference_spread\": 0.0, \"route_group\": \"short\", \"max_trip_hrs\": 0.63, \"max_trip_route_group\": 0.63, \"below_cutoff\": 31, \"pct_below_cutoff\": 1.0, \"name\": \"City of Redondo Beach\", \"caltrans_district\": \"07 - Los Angeles\", \"drmt_organization_name\": null, \"route_name\": \"Beach Cities Transit 102 Southbound\", \"cutoff2\": 20, \"cutoff\": 0}, {\"calitp_itp_id\": 260, \"trip_key\": 8801839722880547986, \"trip_id\": \"BCT102 SB_MF.T29\", \"shape_id\": \"BCT102 SB\", \"route_id\": \"BCT102 SB\", \"service_hours\": 0.63, \"trip_first_departure_ts\": 67980, \"trip_last_arrival_ts\": 70260, \"departure_hour\": 18, \"time_of_day\": \"PM Peak\", \"p25\": 0.63, \"p50\": 0.63, \"p75\": 0.63, \"p50_trip\": 1, \"fastest_trip\": 0, \"car_duration_hours\": 0.59, \"competitive_route\": 1, \"bus_multiplier\": 1.07, \"bus_difference\": 2.4, \"num_trips\": 31, \"num_competitive\": 31, \"pct_trips_competitive\": 1.0, \"bus_difference_spread\": 0.0, \"route_group\": \"short\", \"max_trip_hrs\": 0.63, \"max_trip_route_group\": 0.63, \"below_cutoff\": 31, \"pct_below_cutoff\": 1.0, \"name\": \"City of Redondo Beach\", \"caltrans_district\": \"07 - Los Angeles\", \"drmt_organization_name\": null, \"route_name\": \"Beach Cities Transit 102 Southbound\", \"cutoff2\": 20, \"cutoff\": 0}, {\"calitp_itp_id\": 260, \"trip_key\": -215016114500874665, \"trip_id\": \"BCT102 SB_MF.T08\", \"shape_id\": \"BCT102 SB\", \"route_id\": \"BCT102 SB\", \"service_hours\": 0.63, \"trip_first_departure_ts\": 29520, \"trip_last_arrival_ts\": 31800, \"departure_hour\": 8, \"time_of_day\": \"AM Peak\", \"p25\": 0.63, \"p50\": 0.63, \"p75\": 0.63, \"p50_trip\": 1, \"fastest_trip\": 0, \"car_duration_hours\": 0.59, \"competitive_route\": 1, \"bus_multiplier\": 1.07, \"bus_difference\": 2.4, \"num_trips\": 31, \"num_competitive\": 31, \"pct_trips_competitive\": 1.0, \"bus_difference_spread\": 0.0, \"route_group\": \"short\", \"max_trip_hrs\": 0.63, \"max_trip_route_group\": 0.63, \"below_cutoff\": 31, \"pct_below_cutoff\": 1.0, \"name\": \"City of Redondo Beach\", \"caltrans_district\": \"07 - Los Angeles\", \"drmt_organization_name\": null, \"route_name\": \"Beach Cities Transit 102 Southbound\", \"cutoff2\": 20, \"cutoff\": 0}, {\"calitp_itp_id\": 260, \"trip_key\": 4157095849159416399, \"trip_id\": \"BCT102 SB_MF.T18\", \"shape_id\": \"BCT102 SB\", \"route_id\": \"BCT102 SB\", \"service_hours\": 0.63, \"trip_first_departure_ts\": 48240, \"trip_last_arrival_ts\": 50520, \"departure_hour\": 13, \"time_of_day\": \"Midday\", \"p25\": 0.63, \"p50\": 0.63, \"p75\": 0.63, \"p50_trip\": 1, \"fastest_trip\": 0, \"car_duration_hours\": 0.59, \"competitive_route\": 1, \"bus_multiplier\": 1.07, \"bus_difference\": 2.4, \"num_trips\": 31, \"num_competitive\": 31, \"pct_trips_competitive\": 1.0, \"bus_difference_spread\": 0.0, \"route_group\": \"short\", \"max_trip_hrs\": 0.63, \"max_trip_route_group\": 0.63, \"below_cutoff\": 31, \"pct_below_cutoff\": 1.0, \"name\": \"City of Redondo Beach\", \"caltrans_district\": \"07 - Los Angeles\", \"drmt_organization_name\": null, \"route_name\": \"Beach Cities Transit 102 Southbound\", \"cutoff2\": 20, \"cutoff\": 0}, {\"calitp_itp_id\": 260, \"trip_key\": 7870570428958274744, \"trip_id\": \"BCT102 SB_MF.T04\", \"shape_id\": \"BCT102 SB\", \"route_id\": \"BCT102 SB\", \"service_hours\": 0.63, \"trip_first_departure_ts\": 25500, \"trip_last_arrival_ts\": 27780, \"departure_hour\": 7, \"time_of_day\": \"AM Peak\", \"p25\": 0.63, \"p50\": 0.63, \"p75\": 0.63, \"p50_trip\": 1, \"fastest_trip\": 0, \"car_duration_hours\": 0.59, \"competitive_route\": 1, \"bus_multiplier\": 1.07, \"bus_difference\": 2.4, \"num_trips\": 31, \"num_competitive\": 31, \"pct_trips_competitive\": 1.0, \"bus_difference_spread\": 0.0, \"route_group\": \"short\", \"max_trip_hrs\": 0.63, \"max_trip_route_group\": 0.63, \"below_cutoff\": 31, \"pct_below_cutoff\": 1.0, \"name\": \"City of Redondo Beach\", \"caltrans_district\": \"07 - Los Angeles\", \"drmt_organization_name\": null, \"route_name\": \"Beach Cities Transit 102 Southbound\", \"cutoff2\": 20, \"cutoff\": 0}, {\"calitp_itp_id\": 260, \"trip_key\": 66336865387378607, \"trip_id\": \"BCT102 SB_MF.T28\", \"shape_id\": \"BCT102 SB\", \"route_id\": \"BCT102 SB\", \"service_hours\": 0.63, \"trip_first_departure_ts\": 66180, \"trip_last_arrival_ts\": 68460, \"departure_hour\": 18, \"time_of_day\": \"PM Peak\", \"p25\": 0.63, \"p50\": 0.63, \"p75\": 0.63, \"p50_trip\": 1, \"fastest_trip\": 0, \"car_duration_hours\": 0.59, \"competitive_route\": 1, \"bus_multiplier\": 1.07, \"bus_difference\": 2.4, \"num_trips\": 31, \"num_competitive\": 31, \"pct_trips_competitive\": 1.0, \"bus_difference_spread\": 0.0, \"route_group\": \"short\", \"max_trip_hrs\": 0.63, \"max_trip_route_group\": 0.63, \"below_cutoff\": 31, \"pct_below_cutoff\": 1.0, \"name\": \"City of Redondo Beach\", \"caltrans_district\": \"07 - Los Angeles\", \"drmt_organization_name\": null, \"route_name\": \"Beach Cities Transit 102 Southbound\", \"cutoff2\": 20, \"cutoff\": 0}, {\"calitp_itp_id\": 260, \"trip_key\": 1849295836178047209, \"trip_id\": \"BCT102 SB_MF.T01\", \"shape_id\": \"BCT102 SB\", \"route_id\": \"BCT102 SB\", \"service_hours\": 0.63, \"trip_first_departure_ts\": 22740, \"trip_last_arrival_ts\": 25020, \"departure_hour\": 6, \"time_of_day\": \"Owl Service\", \"p25\": 0.63, \"p50\": 0.63, \"p75\": 0.63, \"p50_trip\": 1, \"fastest_trip\": 0, \"car_duration_hours\": 0.59, \"competitive_route\": 1, \"bus_multiplier\": 1.07, \"bus_difference\": 2.4, \"num_trips\": 31, \"num_competitive\": 31, \"pct_trips_competitive\": 1.0, \"bus_difference_spread\": 0.0, \"route_group\": \"short\", \"max_trip_hrs\": 0.63, \"max_trip_route_group\": 0.63, \"below_cutoff\": 31, \"pct_below_cutoff\": 1.0, \"name\": \"City of Redondo Beach\", \"caltrans_district\": \"07 - Los Angeles\", \"drmt_organization_name\": null, \"route_name\": \"Beach Cities Transit 102 Southbound\", \"cutoff2\": 20, \"cutoff\": 0}, {\"calitp_itp_id\": 260, \"trip_key\": 8888593141944986521, \"trip_id\": \"BCT102 SB_MF.T11\", \"shape_id\": \"BCT102 SB\", \"route_id\": \"BCT102 SB\", \"service_hours\": 0.63, \"trip_first_departure_ts\": 34920, \"trip_last_arrival_ts\": 37200, \"departure_hour\": 9, \"time_of_day\": \"AM Peak\", \"p25\": 0.63, \"p50\": 0.63, \"p75\": 0.63, \"p50_trip\": 1, \"fastest_trip\": 0, \"car_duration_hours\": 0.59, \"competitive_route\": 1, \"bus_multiplier\": 1.07, \"bus_difference\": 2.4, \"num_trips\": 31, \"num_competitive\": 31, \"pct_trips_competitive\": 1.0, \"bus_difference_spread\": 0.0, \"route_group\": \"short\", \"max_trip_hrs\": 0.63, \"max_trip_route_group\": 0.63, \"below_cutoff\": 31, \"pct_below_cutoff\": 1.0, \"name\": \"City of Redondo Beach\", \"caltrans_district\": \"07 - Los Angeles\", \"drmt_organization_name\": null, \"route_name\": \"Beach Cities Transit 102 Southbound\", \"cutoff2\": 20, \"cutoff\": 0}, {\"calitp_itp_id\": 260, \"trip_key\": -5735749424997332655, \"trip_id\": \"BCT102 SB_MF.T25\", \"shape_id\": \"BCT102 SB\", \"route_id\": \"BCT102 SB\", \"service_hours\": 0.63, \"trip_first_departure_ts\": 60780, \"trip_last_arrival_ts\": 63060, \"departure_hour\": 16, \"time_of_day\": \"Midday\", \"p25\": 0.63, \"p50\": 0.63, \"p75\": 0.63, \"p50_trip\": 1, \"fastest_trip\": 0, \"car_duration_hours\": 0.59, \"competitive_route\": 1, \"bus_multiplier\": 1.07, \"bus_difference\": 2.4, \"num_trips\": 31, \"num_competitive\": 31, \"pct_trips_competitive\": 1.0, \"bus_difference_spread\": 0.0, \"route_group\": \"short\", \"max_trip_hrs\": 0.63, \"max_trip_route_group\": 0.63, \"below_cutoff\": 31, \"pct_below_cutoff\": 1.0, \"name\": \"City of Redondo Beach\", \"caltrans_district\": \"07 - Los Angeles\", \"drmt_organization_name\": null, \"route_name\": \"Beach Cities Transit 102 Southbound\", \"cutoff2\": 20, \"cutoff\": 0}, {\"calitp_itp_id\": 260, \"trip_key\": 810308228482532214, \"trip_id\": \"BCT102 SB_MF.T02\", \"shape_id\": \"BCT102 SB\", \"route_id\": \"BCT102 SB\", \"service_hours\": 0.63, \"trip_first_departure_ts\": 24240, \"trip_last_arrival_ts\": 26520, \"departure_hour\": 6, \"time_of_day\": \"Owl Service\", \"p25\": 0.63, \"p50\": 0.63, \"p75\": 0.63, \"p50_trip\": 1, \"fastest_trip\": 0, \"car_duration_hours\": 0.59, \"competitive_route\": 1, \"bus_multiplier\": 1.07, \"bus_difference\": 2.4, \"num_trips\": 31, \"num_competitive\": 31, \"pct_trips_competitive\": 1.0, \"bus_difference_spread\": 0.0, \"route_group\": \"short\", \"max_trip_hrs\": 0.63, \"max_trip_route_group\": 0.63, \"below_cutoff\": 31, \"pct_below_cutoff\": 1.0, \"name\": \"City of Redondo Beach\", \"caltrans_district\": \"07 - Los Angeles\", \"drmt_organization_name\": null, \"route_name\": \"Beach Cities Transit 102 Southbound\", \"cutoff2\": 20, \"cutoff\": 0}, {\"calitp_itp_id\": 260, \"trip_key\": -2902071067911749990, \"trip_id\": \"BCT102 SB_MF.T31\", \"shape_id\": \"BCT102 SB\", \"route_id\": \"BCT102 SB\", \"service_hours\": 0.63, \"trip_first_departure_ts\": 71700, \"trip_last_arrival_ts\": 73980, \"departure_hour\": 19, \"time_of_day\": \"PM Peak\", \"p25\": 0.63, \"p50\": 0.63, \"p75\": 0.63, \"p50_trip\": 1, \"fastest_trip\": 0, \"car_duration_hours\": 0.59, \"competitive_route\": 1, \"bus_multiplier\": 1.07, \"bus_difference\": 2.4, \"num_trips\": 31, \"num_competitive\": 31, \"pct_trips_competitive\": 1.0, \"bus_difference_spread\": 0.0, \"route_group\": \"short\", \"max_trip_hrs\": 0.63, \"max_trip_route_group\": 0.63, \"below_cutoff\": 31, \"pct_below_cutoff\": 1.0, \"name\": \"City of Redondo Beach\", \"caltrans_district\": \"07 - Los Angeles\", \"drmt_organization_name\": null, \"route_name\": \"Beach Cities Transit 102 Southbound\", \"cutoff2\": 20, \"cutoff\": 0}, {\"calitp_itp_id\": 260, \"trip_key\": -4690143314967611854, \"trip_id\": \"BCT102 SB_MF.T20\", \"shape_id\": \"BCT102 SB\", \"route_id\": \"BCT102 SB\", \"service_hours\": 0.63, \"trip_first_departure_ts\": 51840, \"trip_last_arrival_ts\": 54120, \"departure_hour\": 14, \"time_of_day\": \"Midday\", \"p25\": 0.63, \"p50\": 0.63, \"p75\": 0.63, \"p50_trip\": 1, \"fastest_trip\": 0, \"car_duration_hours\": 0.59, \"competitive_route\": 1, \"bus_multiplier\": 1.07, \"bus_difference\": 2.4, \"num_trips\": 31, \"num_competitive\": 31, \"pct_trips_competitive\": 1.0, \"bus_difference_spread\": 0.0, \"route_group\": \"short\", \"max_trip_hrs\": 0.63, \"max_trip_route_group\": 0.63, \"below_cutoff\": 31, \"pct_below_cutoff\": 1.0, \"name\": \"City of Redondo Beach\", \"caltrans_district\": \"07 - Los Angeles\", \"drmt_organization_name\": null, \"route_name\": \"Beach Cities Transit 102 Southbound\", \"cutoff2\": 20, \"cutoff\": 0}, {\"calitp_itp_id\": 260, \"trip_key\": 929902077473829746, \"trip_id\": \"BCT102 SB_MF.T27\", \"shape_id\": \"BCT102 SB\", \"route_id\": \"BCT102 SB\", \"service_hours\": 0.63, \"trip_first_departure_ts\": 64380, \"trip_last_arrival_ts\": 66660, \"departure_hour\": 17, \"time_of_day\": \"PM Peak\", \"p25\": 0.63, \"p50\": 0.63, \"p75\": 0.63, \"p50_trip\": 1, \"fastest_trip\": 0, \"car_duration_hours\": 0.59, \"competitive_route\": 1, \"bus_multiplier\": 1.07, \"bus_difference\": 2.4, \"num_trips\": 31, \"num_competitive\": 31, \"pct_trips_competitive\": 1.0, \"bus_difference_spread\": 0.0, \"route_group\": \"short\", \"max_trip_hrs\": 0.63, \"max_trip_route_group\": 0.63, \"below_cutoff\": 31, \"pct_below_cutoff\": 1.0, \"name\": \"City of Redondo Beach\", \"caltrans_district\": \"07 - Los Angeles\", \"drmt_organization_name\": null, \"route_name\": \"Beach Cities Transit 102 Southbound\", \"cutoff2\": 20, \"cutoff\": 0}, {\"calitp_itp_id\": 260, \"trip_key\": -90858452867729391, \"trip_id\": \"BCT102 SB_MF.T19\", \"shape_id\": \"BCT102 SB\", \"route_id\": \"BCT102 SB\", \"service_hours\": 0.63, \"trip_first_departure_ts\": 50040, \"trip_last_arrival_ts\": 52320, \"departure_hour\": 13, \"time_of_day\": \"Midday\", \"p25\": 0.63, \"p50\": 0.63, \"p75\": 0.63, \"p50_trip\": 1, \"fastest_trip\": 0, \"car_duration_hours\": 0.59, \"competitive_route\": 1, \"bus_multiplier\": 1.07, \"bus_difference\": 2.4, \"num_trips\": 31, \"num_competitive\": 31, \"pct_trips_competitive\": 1.0, \"bus_difference_spread\": 0.0, \"route_group\": \"short\", \"max_trip_hrs\": 0.63, \"max_trip_route_group\": 0.63, \"below_cutoff\": 31, \"pct_below_cutoff\": 1.0, \"name\": \"City of Redondo Beach\", \"caltrans_district\": \"07 - Los Angeles\", \"drmt_organization_name\": null, \"route_name\": \"Beach Cities Transit 102 Southbound\", \"cutoff2\": 20, \"cutoff\": 0}, {\"calitp_itp_id\": 260, \"trip_key\": 8838309147655915020, \"trip_id\": \"BCT102 SB_MF.T21\", \"shape_id\": \"BCT102 SB\", \"route_id\": \"BCT102 SB\", \"service_hours\": 0.63, \"trip_first_departure_ts\": 53640, \"trip_last_arrival_ts\": 55920, \"departure_hour\": 14, \"time_of_day\": \"Midday\", \"p25\": 0.63, \"p50\": 0.63, \"p75\": 0.63, \"p50_trip\": 1, \"fastest_trip\": 0, \"car_duration_hours\": 0.59, \"competitive_route\": 1, \"bus_multiplier\": 1.07, \"bus_difference\": 2.4, \"num_trips\": 31, \"num_competitive\": 31, \"pct_trips_competitive\": 1.0, \"bus_difference_spread\": 0.0, \"route_group\": \"short\", \"max_trip_hrs\": 0.63, \"max_trip_route_group\": 0.63, \"below_cutoff\": 31, \"pct_below_cutoff\": 1.0, \"name\": \"City of Redondo Beach\", \"caltrans_district\": \"07 - Los Angeles\", \"drmt_organization_name\": null, \"route_name\": \"Beach Cities Transit 102 Southbound\", \"cutoff2\": 20, \"cutoff\": 0}, {\"calitp_itp_id\": 260, \"trip_key\": -8320198027851603441, \"trip_id\": \"BCT102 SB_MF.T09\", \"shape_id\": \"BCT102 SB\", \"route_id\": \"BCT102 SB\", \"service_hours\": 0.63, \"trip_first_departure_ts\": 31140, \"trip_last_arrival_ts\": 33420, \"departure_hour\": 8, \"time_of_day\": \"AM Peak\", \"p25\": 0.63, \"p50\": 0.63, \"p75\": 0.63, \"p50_trip\": 1, \"fastest_trip\": 0, \"car_duration_hours\": 0.59, \"competitive_route\": 1, \"bus_multiplier\": 1.07, \"bus_difference\": 2.4, \"num_trips\": 31, \"num_competitive\": 31, \"pct_trips_competitive\": 1.0, \"bus_difference_spread\": 0.0, \"route_group\": \"short\", \"max_trip_hrs\": 0.63, \"max_trip_route_group\": 0.63, \"below_cutoff\": 31, \"pct_below_cutoff\": 1.0, \"name\": \"City of Redondo Beach\", \"caltrans_district\": \"07 - Los Angeles\", \"drmt_organization_name\": null, \"route_name\": \"Beach Cities Transit 102 Southbound\", \"cutoff2\": 20, \"cutoff\": 0}, {\"calitp_itp_id\": 260, \"trip_key\": -3103483456625778491, \"trip_id\": \"BCT102 SB_MF.T14\", \"shape_id\": \"BCT102 SB\", \"route_id\": \"BCT102 SB\", \"service_hours\": 0.63, \"trip_first_departure_ts\": 40140, \"trip_last_arrival_ts\": 42420, \"departure_hour\": 11, \"time_of_day\": \"Midday\", \"p25\": 0.63, \"p50\": 0.63, \"p75\": 0.63, \"p50_trip\": 1, \"fastest_trip\": 0, \"car_duration_hours\": 0.59, \"competitive_route\": 1, \"bus_multiplier\": 1.07, \"bus_difference\": 2.4, \"num_trips\": 31, \"num_competitive\": 31, \"pct_trips_competitive\": 1.0, \"bus_difference_spread\": 0.0, \"route_group\": \"short\", \"max_trip_hrs\": 0.63, \"max_trip_route_group\": 0.63, \"below_cutoff\": 31, \"pct_below_cutoff\": 1.0, \"name\": \"City of Redondo Beach\", \"caltrans_district\": \"07 - Los Angeles\", \"drmt_organization_name\": null, \"route_name\": \"Beach Cities Transit 102 Southbound\", \"cutoff2\": 20, \"cutoff\": 0}, {\"calitp_itp_id\": 260, \"trip_key\": 1828916571418240004, \"trip_id\": \"BCT102 SB_MF.T16\", \"shape_id\": \"BCT102 SB\", \"route_id\": \"BCT102 SB\", \"service_hours\": 0.63, \"trip_first_departure_ts\": 43740, \"trip_last_arrival_ts\": 46020, \"departure_hour\": 12, \"time_of_day\": \"Midday\", \"p25\": 0.63, \"p50\": 0.63, \"p75\": 0.63, \"p50_trip\": 1, \"fastest_trip\": 0, \"car_duration_hours\": 0.59, \"competitive_route\": 1, \"bus_multiplier\": 1.07, \"bus_difference\": 2.4, \"num_trips\": 31, \"num_competitive\": 31, \"pct_trips_competitive\": 1.0, \"bus_difference_spread\": 0.0, \"route_group\": \"short\", \"max_trip_hrs\": 0.63, \"max_trip_route_group\": 0.63, \"below_cutoff\": 31, \"pct_below_cutoff\": 1.0, \"name\": \"City of Redondo Beach\", \"caltrans_district\": \"07 - Los Angeles\", \"drmt_organization_name\": null, \"route_name\": \"Beach Cities Transit 102 Southbound\", \"cutoff2\": 20, \"cutoff\": 0}, {\"calitp_itp_id\": 260, \"trip_key\": -4401258628786279744, \"trip_id\": \"BCT102 SB_MF.T17\", \"shape_id\": \"BCT102 SB\", \"route_id\": \"BCT102 SB\", \"service_hours\": 0.63, \"trip_first_departure_ts\": 45540, \"trip_last_arrival_ts\": 47820, \"departure_hour\": 12, \"time_of_day\": \"Midday\", \"p25\": 0.63, \"p50\": 0.63, \"p75\": 0.63, \"p50_trip\": 1, \"fastest_trip\": 0, \"car_duration_hours\": 0.59, \"competitive_route\": 1, \"bus_multiplier\": 1.07, \"bus_difference\": 2.4, \"num_trips\": 31, \"num_competitive\": 31, \"pct_trips_competitive\": 1.0, \"bus_difference_spread\": 0.0, \"route_group\": \"short\", \"max_trip_hrs\": 0.63, \"max_trip_route_group\": 0.63, \"below_cutoff\": 31, \"pct_below_cutoff\": 1.0, \"name\": \"City of Redondo Beach\", \"caltrans_district\": \"07 - Los Angeles\", \"drmt_organization_name\": null, \"route_name\": \"Beach Cities Transit 102 Southbound\", \"cutoff2\": 20, \"cutoff\": 0}, {\"calitp_itp_id\": 260, \"trip_key\": 3924681704903124640, \"trip_id\": \"BCT102 SB_MF.T23\", \"shape_id\": \"BCT102 SB\", \"route_id\": \"BCT102 SB\", \"service_hours\": 0.63, \"trip_first_departure_ts\": 57480, \"trip_last_arrival_ts\": 59760, \"departure_hour\": 15, \"time_of_day\": \"Midday\", \"p25\": 0.63, \"p50\": 0.63, \"p75\": 0.63, \"p50_trip\": 1, \"fastest_trip\": 0, \"car_duration_hours\": 0.59, \"competitive_route\": 1, \"bus_multiplier\": 1.07, \"bus_difference\": 2.4, \"num_trips\": 31, \"num_competitive\": 31, \"pct_trips_competitive\": 1.0, \"bus_difference_spread\": 0.0, \"route_group\": \"short\", \"max_trip_hrs\": 0.63, \"max_trip_route_group\": 0.63, \"below_cutoff\": 31, \"pct_below_cutoff\": 1.0, \"name\": \"City of Redondo Beach\", \"caltrans_district\": \"07 - Los Angeles\", \"drmt_organization_name\": null, \"route_name\": \"Beach Cities Transit 102 Southbound\", \"cutoff2\": 20, \"cutoff\": 0}, {\"calitp_itp_id\": 260, \"trip_key\": -3244853499214608810, \"trip_id\": \"BCT102 SB_MF.T22\", \"shape_id\": \"BCT102 SB\", \"route_id\": \"BCT102 SB\", \"service_hours\": 0.63, \"trip_first_departure_ts\": 55860, \"trip_last_arrival_ts\": 58140, \"departure_hour\": 15, \"time_of_day\": \"Midday\", \"p25\": 0.63, \"p50\": 0.63, \"p75\": 0.63, \"p50_trip\": 1, \"fastest_trip\": 0, \"car_duration_hours\": 0.59, \"competitive_route\": 1, \"bus_multiplier\": 1.07, \"bus_difference\": 2.4, \"num_trips\": 31, \"num_competitive\": 31, \"pct_trips_competitive\": 1.0, \"bus_difference_spread\": 0.0, \"route_group\": \"short\", \"max_trip_hrs\": 0.63, \"max_trip_route_group\": 0.63, \"below_cutoff\": 31, \"pct_below_cutoff\": 1.0, \"name\": \"City of Redondo Beach\", \"caltrans_district\": \"07 - Los Angeles\", \"drmt_organization_name\": null, \"route_name\": \"Beach Cities Transit 102 Southbound\", \"cutoff2\": 20, \"cutoff\": 0}, {\"calitp_itp_id\": 260, \"trip_key\": 5774528551612231024, \"trip_id\": \"BCT102 SB_MF.T26\", \"shape_id\": \"BCT102 SB\", \"route_id\": \"BCT102 SB\", \"service_hours\": 0.63, \"trip_first_departure_ts\": 62580, \"trip_last_arrival_ts\": 64860, \"departure_hour\": 17, \"time_of_day\": \"PM Peak\", \"p25\": 0.63, \"p50\": 0.63, \"p75\": 0.63, \"p50_trip\": 1, \"fastest_trip\": 0, \"car_duration_hours\": 0.59, \"competitive_route\": 1, \"bus_multiplier\": 1.07, \"bus_difference\": 2.4, \"num_trips\": 31, \"num_competitive\": 31, \"pct_trips_competitive\": 1.0, \"bus_difference_spread\": 0.0, \"route_group\": \"short\", \"max_trip_hrs\": 0.63, \"max_trip_route_group\": 0.63, \"below_cutoff\": 31, \"pct_below_cutoff\": 1.0, \"name\": \"City of Redondo Beach\", \"caltrans_district\": \"07 - Los Angeles\", \"drmt_organization_name\": null, \"route_name\": \"Beach Cities Transit 102 Southbound\", \"cutoff2\": 20, \"cutoff\": 0}, {\"calitp_itp_id\": 260, \"trip_key\": 8382291158281313618, \"trip_id\": \"BCT102 SB_MF.T10\", \"shape_id\": \"BCT102 SB\", \"route_id\": \"BCT102 SB\", \"service_hours\": 0.63, \"trip_first_departure_ts\": 33120, \"trip_last_arrival_ts\": 35400, \"departure_hour\": 9, \"time_of_day\": \"AM Peak\", \"p25\": 0.63, \"p50\": 0.63, \"p75\": 0.63, \"p50_trip\": 1, \"fastest_trip\": 0, \"car_duration_hours\": 0.59, \"competitive_route\": 1, \"bus_multiplier\": 1.07, \"bus_difference\": 2.4, \"num_trips\": 31, \"num_competitive\": 31, \"pct_trips_competitive\": 1.0, \"bus_difference_spread\": 0.0, \"route_group\": \"short\", \"max_trip_hrs\": 0.63, \"max_trip_route_group\": 0.63, \"below_cutoff\": 31, \"pct_below_cutoff\": 1.0, \"name\": \"City of Redondo Beach\", \"caltrans_district\": \"07 - Los Angeles\", \"drmt_organization_name\": null, \"route_name\": \"Beach Cities Transit 102 Southbound\", \"cutoff2\": 20, \"cutoff\": 0}, {\"calitp_itp_id\": 260, \"trip_key\": 6532390427287396813, \"trip_id\": \"BCT102 SB_MF.T12\", \"shape_id\": \"BCT102 SB\", \"route_id\": \"BCT102 SB\", \"service_hours\": 0.63, \"trip_first_departure_ts\": 36540, \"trip_last_arrival_ts\": 38820, \"departure_hour\": 10, \"time_of_day\": \"Midday\", \"p25\": 0.63, \"p50\": 0.63, \"p75\": 0.63, \"p50_trip\": 1, \"fastest_trip\": 0, \"car_duration_hours\": 0.59, \"competitive_route\": 1, \"bus_multiplier\": 1.07, \"bus_difference\": 2.4, \"num_trips\": 31, \"num_competitive\": 31, \"pct_trips_competitive\": 1.0, \"bus_difference_spread\": 0.0, \"route_group\": \"short\", \"max_trip_hrs\": 0.63, \"max_trip_route_group\": 0.63, \"below_cutoff\": 31, \"pct_below_cutoff\": 1.0, \"name\": \"City of Redondo Beach\", \"caltrans_district\": \"07 - Los Angeles\", \"drmt_organization_name\": null, \"route_name\": \"Beach Cities Transit 102 Southbound\", \"cutoff2\": 20, \"cutoff\": 0}, {\"calitp_itp_id\": 260, \"trip_key\": -8685734809874011135, \"trip_id\": \"BCT102 SB_MF.T13\", \"shape_id\": \"BCT102 SB\", \"route_id\": \"BCT102 SB\", \"service_hours\": 0.63, \"trip_first_departure_ts\": 38340, \"trip_last_arrival_ts\": 40620, \"departure_hour\": 10, \"time_of_day\": \"Midday\", \"p25\": 0.63, \"p50\": 0.63, \"p75\": 0.63, \"p50_trip\": 1, \"fastest_trip\": 0, \"car_duration_hours\": 0.59, \"competitive_route\": 1, \"bus_multiplier\": 1.07, \"bus_difference\": 2.4, \"num_trips\": 31, \"num_competitive\": 31, \"pct_trips_competitive\": 1.0, \"bus_difference_spread\": 0.0, \"route_group\": \"short\", \"max_trip_hrs\": 0.63, \"max_trip_route_group\": 0.63, \"below_cutoff\": 31, \"pct_below_cutoff\": 1.0, \"name\": \"City of Redondo Beach\", \"caltrans_district\": \"07 - Los Angeles\", \"drmt_organization_name\": null, \"route_name\": \"Beach Cities Transit 102 Southbound\", \"cutoff2\": 20, \"cutoff\": 0}, {\"calitp_itp_id\": 260, \"trip_key\": 8869313843031039602, \"trip_id\": \"BCT102 SB_MF.T03\", \"shape_id\": \"BCT102 SB\", \"route_id\": \"BCT102 SB\", \"service_hours\": 0.63, \"trip_first_departure_ts\": 25200, \"trip_last_arrival_ts\": 27480, \"departure_hour\": 7, \"time_of_day\": \"AM Peak\", \"p25\": 0.63, \"p50\": 0.63, \"p75\": 0.63, \"p50_trip\": 1, \"fastest_trip\": 0, \"car_duration_hours\": 0.59, \"competitive_route\": 1, \"bus_multiplier\": 1.07, \"bus_difference\": 2.4, \"num_trips\": 31, \"num_competitive\": 31, \"pct_trips_competitive\": 1.0, \"bus_difference_spread\": 0.0, \"route_group\": \"short\", \"max_trip_hrs\": 0.63, \"max_trip_route_group\": 0.63, \"below_cutoff\": 31, \"pct_below_cutoff\": 1.0, \"name\": \"City of Redondo Beach\", \"caltrans_district\": \"07 - Los Angeles\", \"drmt_organization_name\": null, \"route_name\": \"Beach Cities Transit 102 Southbound\", \"cutoff2\": 20, \"cutoff\": 0}, {\"calitp_itp_id\": 260, \"trip_key\": 4507958272068012161, \"trip_id\": \"BCT102 SB_MF.T05\", \"shape_id\": \"BCT102 SB\", \"route_id\": \"BCT102 SB\", \"service_hours\": 0.63, \"trip_first_departure_ts\": 25920, \"trip_last_arrival_ts\": 28200, \"departure_hour\": 7, \"time_of_day\": \"AM Peak\", \"p25\": 0.63, \"p50\": 0.63, \"p75\": 0.63, \"p50_trip\": 1, \"fastest_trip\": 0, \"car_duration_hours\": 0.59, \"competitive_route\": 1, \"bus_multiplier\": 1.07, \"bus_difference\": 2.4, \"num_trips\": 31, \"num_competitive\": 31, \"pct_trips_competitive\": 1.0, \"bus_difference_spread\": 0.0, \"route_group\": \"short\", \"max_trip_hrs\": 0.63, \"max_trip_route_group\": 0.63, \"below_cutoff\": 31, \"pct_below_cutoff\": 1.0, \"name\": \"City of Redondo Beach\", \"caltrans_district\": \"07 - Los Angeles\", \"drmt_organization_name\": null, \"route_name\": \"Beach Cities Transit 102 Southbound\", \"cutoff2\": 20, \"cutoff\": 0}, {\"calitp_itp_id\": 260, \"trip_key\": 1846954128314572841, \"trip_id\": \"BCT102 SB_MF.T24\", \"shape_id\": \"BCT102 SB\", \"route_id\": \"BCT102 SB\", \"service_hours\": 0.63, \"trip_first_departure_ts\": 58980, \"trip_last_arrival_ts\": 61260, \"departure_hour\": 16, \"time_of_day\": \"Midday\", \"p25\": 0.63, \"p50\": 0.63, \"p75\": 0.63, \"p50_trip\": 1, \"fastest_trip\": 0, \"car_duration_hours\": 0.59, \"competitive_route\": 1, \"bus_multiplier\": 1.07, \"bus_difference\": 2.4, \"num_trips\": 31, \"num_competitive\": 31, \"pct_trips_competitive\": 1.0, \"bus_difference_spread\": 0.0, \"route_group\": \"short\", \"max_trip_hrs\": 0.63, \"max_trip_route_group\": 0.63, \"below_cutoff\": 31, \"pct_below_cutoff\": 1.0, \"name\": \"City of Redondo Beach\", \"caltrans_district\": \"07 - Los Angeles\", \"drmt_organization_name\": null, \"route_name\": \"Beach Cities Transit 102 Southbound\", \"cutoff2\": 20, \"cutoff\": 0}, {\"calitp_itp_id\": 260, \"trip_key\": -3309727796545106649, \"trip_id\": \"BCT102 SB_MF.T07\", \"shape_id\": \"BCT102 SB\", \"route_id\": \"BCT102 SB\", \"service_hours\": 0.63, \"trip_first_departure_ts\": 27720, \"trip_last_arrival_ts\": 30000, \"departure_hour\": 7, \"time_of_day\": \"AM Peak\", \"p25\": 0.63, \"p50\": 0.63, \"p75\": 0.63, \"p50_trip\": 1, \"fastest_trip\": 0, \"car_duration_hours\": 0.59, \"competitive_route\": 1, \"bus_multiplier\": 1.07, \"bus_difference\": 2.4, \"num_trips\": 31, \"num_competitive\": 31, \"pct_trips_competitive\": 1.0, \"bus_difference_spread\": 0.0, \"route_group\": \"short\", \"max_trip_hrs\": 0.63, \"max_trip_route_group\": 0.63, \"below_cutoff\": 31, \"pct_below_cutoff\": 1.0, \"name\": \"City of Redondo Beach\", \"caltrans_district\": \"07 - Los Angeles\", \"drmt_organization_name\": null, \"route_name\": \"Beach Cities Transit 102 Southbound\", \"cutoff2\": 20, \"cutoff\": 0}, {\"calitp_itp_id\": 260, \"trip_key\": -1807960922360739503, \"trip_id\": \"BCT102 SB_MF.T06\", \"shape_id\": \"BCT102 SB\", \"route_id\": \"BCT102 SB\", \"service_hours\": 0.63, \"trip_first_departure_ts\": 26100, \"trip_last_arrival_ts\": 28380, \"departure_hour\": 7, \"time_of_day\": \"AM Peak\", \"p25\": 0.63, \"p50\": 0.63, \"p75\": 0.63, \"p50_trip\": 1, \"fastest_trip\": 0, \"car_duration_hours\": 0.59, \"competitive_route\": 1, \"bus_multiplier\": 1.07, \"bus_difference\": 2.4, \"num_trips\": 31, \"num_competitive\": 31, \"pct_trips_competitive\": 1.0, \"bus_difference_spread\": 0.0, \"route_group\": \"short\", \"max_trip_hrs\": 0.63, \"max_trip_route_group\": 0.63, \"below_cutoff\": 31, \"pct_below_cutoff\": 1.0, \"name\": \"City of Redondo Beach\", \"caltrans_district\": \"07 - Los Angeles\", \"drmt_organization_name\": null, \"route_name\": \"Beach Cities Transit 102 Southbound\", \"cutoff2\": 20, \"cutoff\": 0}]}}, {\"mode\": \"vega-lite\"});\n",
       "</script>"
      ],
      "text/plain": [
       "alt.FacetChart(...)"
      ]
     },
     "metadata": {},
     "output_type": "display_data"
    },
    {
     "data": {
      "text/html": [
       "<h4>Route Stats</h4>"
      ],
      "text/plain": [
       "<IPython.core.display.HTML object>"
      ]
     },
     "metadata": {},
     "output_type": "display_data"
    },
    {
     "data": {
      "text/html": [
       "<style type=\"text/css\">\n",
       "#T_1018c th {\n",
       "  text-align: center;\n",
       "}\n",
       "#T_1018c_row0_col0, #T_1018c_row0_col1 {\n",
       "  text-align: left;\n",
       "}\n",
       "#T_1018c_row0_col2, #T_1018c_row0_col3, #T_1018c_row0_col5 {\n",
       "  text-align: center;\n",
       "}\n",
       "</style>\n",
       "<table id=\"T_1018c\">\n",
       "  <thead>\n",
       "    <tr>\n",
       "      <th id=\"T_1018c_level0_col0\" class=\"col_heading level0 col0\" >Route ID</th>\n",
       "      <th id=\"T_1018c_level0_col1\" class=\"col_heading level0 col1\" >Route Name</th>\n",
       "      <th id=\"T_1018c_level0_col2\" class=\"col_heading level0 col2\" ># trips</th>\n",
       "      <th id=\"T_1018c_level0_col3\" class=\"col_heading level0 col3\" >Daily Avg Freq (trips per hr)</th>\n",
       "      <th id=\"T_1018c_level0_col4\" class=\"col_heading level0 col4\" >25th, 50th, 75th ptile (hrs)</th>\n",
       "      <th id=\"T_1018c_level0_col5\" class=\"col_heading level0 col5\" >PM Peak Avg Freq (trips per hr)</th>\n",
       "    </tr>\n",
       "  </thead>\n",
       "  <tbody>\n",
       "    <tr>\n",
       "      <td id=\"T_1018c_row0_col0\" class=\"data row0 col0\" >BCT102 SB</td>\n",
       "      <td id=\"T_1018c_row0_col1\" class=\"data row0 col1\" >Beach Cities Transit 102 Southbound</td>\n",
       "      <td id=\"T_1018c_row0_col2\" class=\"data row0 col2\" >31</td>\n",
       "      <td id=\"T_1018c_row0_col3\" class=\"data row0 col3\" >1.29</td>\n",
       "      <td id=\"T_1018c_row0_col4\" class=\"data row0 col4\" >0.63, 0.63, 0.63</td>\n",
       "      <td id=\"T_1018c_row0_col5\" class=\"data row0 col5\" >2.0</td>\n",
       "    </tr>\n",
       "  </tbody>\n",
       "</table>\n"
      ],
      "text/plain": [
       "<IPython.core.display.HTML object>"
      ]
     },
     "metadata": {},
     "output_type": "display_data"
    }
   ],
   "source": [
    "# Allow for possibility that operator doesn't have routes that fall into certain route_groups\n",
    "# But, jupyterbook will not like markdown with f-string\n",
    "# separate out route_group and put in each cell, and use try/except + if to display...\n",
    "# but all 3 route groups must be displayed. just add sentence about why no routes were returned at the end\n",
    "route_group = \"short\"\n",
    "try:\n",
    "    display_charts_for_route_group(df, route_group)\n",
    "except:\n",
    "    print(\"No routes meet this criteria.\")"
   ]
  },
  {
   "cell_type": "markdown",
   "id": "c2931b6f-034d-4384-9e14-80b925e3b820",
   "metadata": {
    "papermill": {
     "duration": 0.022031,
     "end_time": "2022-05-12T19:40:51.668955",
     "exception": false,
     "start_time": "2022-05-12T19:40:51.646924",
     "status": "completed"
    },
    "tags": []
   },
   "source": [
    "### Medium Routes (1-1.5 hrs)"
   ]
  },
  {
   "cell_type": "code",
   "execution_count": 15,
   "id": "480edddc-4de0-48c2-ae4c-b0ceef8f28b5",
   "metadata": {
    "execution": {
     "iopub.execute_input": "2022-05-12T19:40:51.712280Z",
     "iopub.status.busy": "2022-05-12T19:40:51.711944Z",
     "iopub.status.idle": "2022-05-12T19:40:51.949772Z",
     "shell.execute_reply": "2022-05-12T19:40:51.949182Z"
    },
    "jupyter": {
     "source_hidden": true
    },
    "papermill": {
     "duration": 0.259426,
     "end_time": "2022-05-12T19:40:51.951415",
     "exception": false,
     "start_time": "2022-05-12T19:40:51.691989",
     "status": "completed"
    },
    "tags": [
     "remove_input"
    ]
   },
   "outputs": [
    {
     "data": {
      "text/markdown": [
       "<br>These are routes that have **100% of their trips take no more than an additional 30 min** compared to a car (up to 15 routes) are shown.<br>Within each route group, routes are sorted in descending order by % competitive trips and # trips below the additional time cut-off."
      ],
      "text/plain": [
       "<IPython.core.display.Markdown object>"
      ]
     },
     "metadata": {},
     "output_type": "display_data"
    },
    {
     "data": {
      "text/html": [
       "\n",
       "<div id=\"altair-viz-97ff35127a214f8abac691d57819a759\"></div>\n",
       "<script type=\"text/javascript\">\n",
       "  var VEGA_DEBUG = (typeof VEGA_DEBUG == \"undefined\") ? {} : VEGA_DEBUG;\n",
       "  (function(spec, embedOpt){\n",
       "    let outputDiv = document.currentScript.previousElementSibling;\n",
       "    if (outputDiv.id !== \"altair-viz-97ff35127a214f8abac691d57819a759\") {\n",
       "      outputDiv = document.getElementById(\"altair-viz-97ff35127a214f8abac691d57819a759\");\n",
       "    }\n",
       "    const paths = {\n",
       "      \"vega\": \"https://cdn.jsdelivr.net/npm//vega@5?noext\",\n",
       "      \"vega-lib\": \"https://cdn.jsdelivr.net/npm//vega-lib?noext\",\n",
       "      \"vega-lite\": \"https://cdn.jsdelivr.net/npm//vega-lite@4.17.0?noext\",\n",
       "      \"vega-embed\": \"https://cdn.jsdelivr.net/npm//vega-embed@6?noext\",\n",
       "    };\n",
       "\n",
       "    function maybeLoadScript(lib, version) {\n",
       "      var key = `${lib.replace(\"-\", \"\")}_version`;\n",
       "      return (VEGA_DEBUG[key] == version) ?\n",
       "        Promise.resolve(paths[lib]) :\n",
       "        new Promise(function(resolve, reject) {\n",
       "          var s = document.createElement('script');\n",
       "          document.getElementsByTagName(\"head\")[0].appendChild(s);\n",
       "          s.async = true;\n",
       "          s.onload = () => {\n",
       "            VEGA_DEBUG[key] = version;\n",
       "            return resolve(paths[lib]);\n",
       "          };\n",
       "          s.onerror = () => reject(`Error loading script: ${paths[lib]}`);\n",
       "          s.src = paths[lib];\n",
       "        });\n",
       "    }\n",
       "\n",
       "    function showError(err) {\n",
       "      outputDiv.innerHTML = `<div class=\"error\" style=\"color:red;\">${err}</div>`;\n",
       "      throw err;\n",
       "    }\n",
       "\n",
       "    function displayChart(vegaEmbed) {\n",
       "      vegaEmbed(outputDiv, spec, embedOpt)\n",
       "        .catch(err => showError(`Javascript Error: ${err.message}<br>This usually means there's a typo in your chart specification. See the javascript console for the full traceback.`));\n",
       "    }\n",
       "\n",
       "    if(typeof define === \"function\" && define.amd) {\n",
       "      requirejs.config({paths});\n",
       "      require([\"vega-embed\"], displayChart, err => showError(`Error loading script: ${err.message}`));\n",
       "    } else {\n",
       "      maybeLoadScript(\"vega\", \"5\")\n",
       "        .then(() => maybeLoadScript(\"vega-lite\", \"4.17.0\"))\n",
       "        .then(() => maybeLoadScript(\"vega-embed\", \"6\"))\n",
       "        .catch(showError)\n",
       "        .then(() => displayChart(vegaEmbed));\n",
       "    }\n",
       "  })({\"config\": {\"view\": {\"continuousWidth\": 400, \"continuousHeight\": 300, \"stroke\": null}, \"facet\": {\"spacing\": 0}}, \"data\": {\"name\": \"data-46407bb7eb54360ac889bf721a950d58\"}, \"facet\": {\"column\": {\"field\": \"route_id\", \"sort\": [\"BCT109 NB\", \"BCT109 SB\"], \"title\": \"Route ID\", \"type\": \"nominal\"}}, \"spec\": {\"layer\": [{\"mark\": \"rule\", \"encoding\": {\"color\": {\"value\": \"black\"}, \"y\": {\"field\": \"cutoff\", \"type\": \"quantitative\"}}, \"selection\": {\"selector003\": {\"type\": \"interval\", \"bind\": \"scales\", \"encodings\": [\"x\", \"y\"]}}}, {\"mark\": {\"type\": \"point\", \"opacity\": 0.65, \"size\": 12, \"strokeWidth\": 1.1}, \"encoding\": {\"color\": {\"field\": \"time_of_day\", \"scale\": {\"range\": [\"#136C97\", \"#E16B26\", \"#F6BF16\", \"#00896B\", \"#7790A3\", \"#5B559C\"]}, \"sort\": [\"AM Peak\", \"Midday\", \"PM Peak\", \"Owl Service\"], \"title\": \"Time of Day\", \"type\": \"nominal\"}, \"tooltip\": [{\"field\": \"route_id\", \"type\": \"nominal\"}, {\"field\": \"route_name\", \"type\": \"nominal\"}, {\"field\": \"trip_id\", \"type\": \"nominal\"}, {\"field\": \"service_hours\", \"type\": \"quantitative\"}, {\"field\": \"car_duration_hours\", \"type\": \"quantitative\"}, {\"field\": \"bus_multiplier\", \"type\": \"quantitative\"}, {\"field\": \"bus_difference\", \"type\": \"quantitative\"}, {\"field\": \"num_trips\", \"type\": \"quantitative\"}, {\"field\": \"num_competitive\", \"type\": \"quantitative\"}, {\"field\": \"pct_trips_competitive\", \"type\": \"quantitative\"}, {\"field\": \"pct_below_cutoff\", \"type\": \"quantitative\"}, {\"field\": \"p25\", \"type\": \"quantitative\"}, {\"field\": \"p50\", \"type\": \"quantitative\"}, {\"field\": \"p75\", \"type\": \"quantitative\"}], \"x\": {\"axis\": {\"grid\": false, \"labels\": false, \"ticks\": true, \"values\": [0]}, \"field\": \"jitter\", \"scale\": {}, \"title\": null, \"type\": \"quantitative\"}, \"y\": {\"field\": \"bus_multiplier\", \"scale\": {\"domain\": [0, 3.0]}, \"title\": \"Ratio of Bus to Car Travel Time\", \"type\": \"quantitative\"}}, \"transform\": [{\"calculate\": \"sqrt(-2*log(random()))*cos(2*PI*random())\", \"as\": \"jitter\"}], \"width\": 50}, {\"layer\": [{\"mark\": {\"type\": \"point\", \"opacity\": 0.6, \"size\": 20, \"strokeWidth\": 1.3}, \"encoding\": {\"color\": {\"value\": \"#323434\"}, \"y\": {\"field\": \"bus_multiplier\", \"type\": \"quantitative\"}}, \"transform\": [{\"filter\": \"(datum.p50_trip === 1)\"}]}, {\"mark\": {\"type\": \"text\", \"align\": \"center\", \"baseline\": \"middle\"}, \"encoding\": {\"color\": {\"value\": \"black\"}, \"text\": {\"field\": \"pct_trips_competitive\", \"format\": \".0%\", \"type\": \"quantitative\"}, \"tooltip\": [{\"field\": \"route_id\", \"type\": \"nominal\"}, {\"field\": \"route_name\", \"type\": \"nominal\"}, {\"field\": \"trip_id\", \"type\": \"nominal\"}, {\"field\": \"service_hours\", \"type\": \"quantitative\"}, {\"field\": \"car_duration_hours\", \"type\": \"quantitative\"}, {\"field\": \"bus_multiplier\", \"type\": \"quantitative\"}, {\"field\": \"bus_difference\", \"type\": \"quantitative\"}, {\"field\": \"num_trips\", \"type\": \"quantitative\"}, {\"field\": \"num_competitive\", \"type\": \"quantitative\"}, {\"field\": \"pct_trips_competitive\", \"type\": \"quantitative\"}, {\"field\": \"pct_below_cutoff\", \"type\": \"quantitative\"}, {\"field\": \"p25\", \"type\": \"quantitative\"}, {\"field\": \"p50\", \"type\": \"quantitative\"}, {\"field\": \"p75\", \"type\": \"quantitative\"}], \"x\": {\"value\": 30}, \"y\": {\"value\": 15}}, \"transform\": [{\"calculate\": \"sqrt(-2*log(random()))*cos(2*PI*random())\", \"as\": \"jitter\"}, {\"filter\": \"(datum.fastest_trip === 1)\"}]}]}]}, \"resolve\": {\"scale\": {\"y\": \"shared\"}}, \"title\": \"Ratio of Bus to Car Travel Time\", \"$schema\": \"https://vega.github.io/schema/vega-lite/v4.17.0.json\", \"datasets\": {\"data-46407bb7eb54360ac889bf721a950d58\": [{\"calitp_itp_id\": 260, \"trip_key\": 1317046688990537606, \"trip_id\": \"BCT109 NB_MF.T03\", \"shape_id\": \"BCT109 NB\", \"route_id\": \"BCT109 NB\", \"service_hours\": 1.22, \"trip_first_departure_ts\": 26700, \"trip_last_arrival_ts\": 31080, \"departure_hour\": 7, \"time_of_day\": \"AM Peak\", \"p25\": 1.28, \"p50\": 1.28, \"p75\": 1.28, \"p50_trip\": 0, \"fastest_trip\": 1, \"car_duration_hours\": 0.83, \"competitive_route\": 1, \"bus_multiplier\": 1.47, \"bus_difference\": 23.4, \"num_trips\": 20, \"num_competitive\": 20, \"pct_trips_competitive\": 1.0, \"bus_difference_spread\": 3.6000000000000014, \"route_group\": \"medium\", \"max_trip_hrs\": 1.28, \"max_trip_route_group\": 1.28, \"below_cutoff\": 20, \"pct_below_cutoff\": 1.0, \"name\": \"City of Redondo Beach\", \"caltrans_district\": \"07 - Los Angeles\", \"drmt_organization_name\": null, \"route_name\": \"Beach Cities Transit 109 Northbound\", \"cutoff2\": 30, \"cutoff\": 2}, {\"calitp_itp_id\": 260, \"trip_key\": 3673728135160785242, \"trip_id\": \"BCT109 NB_MF.T02\", \"shape_id\": \"BCT109 NB\", \"route_id\": \"BCT109 NB\", \"service_hours\": 1.22, \"trip_first_departure_ts\": 23400, \"trip_last_arrival_ts\": 27780, \"departure_hour\": 6, \"time_of_day\": \"Owl Service\", \"p25\": 1.28, \"p50\": 1.28, \"p75\": 1.28, \"p50_trip\": 0, \"fastest_trip\": 0, \"car_duration_hours\": 0.83, \"competitive_route\": 1, \"bus_multiplier\": 1.47, \"bus_difference\": 23.4, \"num_trips\": 20, \"num_competitive\": 20, \"pct_trips_competitive\": 1.0, \"bus_difference_spread\": 3.6000000000000014, \"route_group\": \"medium\", \"max_trip_hrs\": 1.28, \"max_trip_route_group\": 1.28, \"below_cutoff\": 20, \"pct_below_cutoff\": 1.0, \"name\": \"City of Redondo Beach\", \"caltrans_district\": \"07 - Los Angeles\", \"drmt_organization_name\": null, \"route_name\": \"Beach Cities Transit 109 Northbound\", \"cutoff2\": 30, \"cutoff\": 2}, {\"calitp_itp_id\": 260, \"trip_key\": -5692772296662780211, \"trip_id\": \"BCT109 NB_MF.T01\", \"shape_id\": \"BCT109 NB\", \"route_id\": \"BCT109 NB\", \"service_hours\": 1.22, \"trip_first_departure_ts\": 21600, \"trip_last_arrival_ts\": 25980, \"departure_hour\": 6, \"time_of_day\": \"Owl Service\", \"p25\": 1.28, \"p50\": 1.28, \"p75\": 1.28, \"p50_trip\": 0, \"fastest_trip\": 0, \"car_duration_hours\": 0.83, \"competitive_route\": 1, \"bus_multiplier\": 1.47, \"bus_difference\": 23.4, \"num_trips\": 20, \"num_competitive\": 20, \"pct_trips_competitive\": 1.0, \"bus_difference_spread\": 3.6000000000000014, \"route_group\": \"medium\", \"max_trip_hrs\": 1.28, \"max_trip_route_group\": 1.28, \"below_cutoff\": 20, \"pct_below_cutoff\": 1.0, \"name\": \"City of Redondo Beach\", \"caltrans_district\": \"07 - Los Angeles\", \"drmt_organization_name\": null, \"route_name\": \"Beach Cities Transit 109 Northbound\", \"cutoff2\": 30, \"cutoff\": 2}, {\"calitp_itp_id\": 260, \"trip_key\": -8382958733402730771, \"trip_id\": \"BCT109 NB_MF.T11\", \"shape_id\": \"BCT109 NB\", \"route_id\": \"BCT109 NB\", \"service_hours\": 1.28, \"trip_first_departure_ts\": 49500, \"trip_last_arrival_ts\": 54120, \"departure_hour\": 13, \"time_of_day\": \"Midday\", \"p25\": 1.28, \"p50\": 1.28, \"p75\": 1.28, \"p50_trip\": 1, \"fastest_trip\": 0, \"car_duration_hours\": 0.83, \"competitive_route\": 1, \"bus_multiplier\": 1.54, \"bus_difference\": 27.0, \"num_trips\": 20, \"num_competitive\": 20, \"pct_trips_competitive\": 1.0, \"bus_difference_spread\": 3.6000000000000014, \"route_group\": \"medium\", \"max_trip_hrs\": 1.28, \"max_trip_route_group\": 1.28, \"below_cutoff\": 20, \"pct_below_cutoff\": 1.0, \"name\": \"City of Redondo Beach\", \"caltrans_district\": \"07 - Los Angeles\", \"drmt_organization_name\": null, \"route_name\": \"Beach Cities Transit 109 Northbound\", \"cutoff2\": 30, \"cutoff\": 2}, {\"calitp_itp_id\": 260, \"trip_key\": 7828937370348139098, \"trip_id\": \"BCT109 NB_MF.T04\", \"shape_id\": \"BCT109 NB\", \"route_id\": \"BCT109 NB\", \"service_hours\": 1.28, \"trip_first_departure_ts\": 29400, \"trip_last_arrival_ts\": 34020, \"departure_hour\": 8, \"time_of_day\": \"AM Peak\", \"p25\": 1.28, \"p50\": 1.28, \"p75\": 1.28, \"p50_trip\": 1, \"fastest_trip\": 0, \"car_duration_hours\": 0.83, \"competitive_route\": 1, \"bus_multiplier\": 1.54, \"bus_difference\": 27.0, \"num_trips\": 20, \"num_competitive\": 20, \"pct_trips_competitive\": 1.0, \"bus_difference_spread\": 3.6000000000000014, \"route_group\": \"medium\", \"max_trip_hrs\": 1.28, \"max_trip_route_group\": 1.28, \"below_cutoff\": 20, \"pct_below_cutoff\": 1.0, \"name\": \"City of Redondo Beach\", \"caltrans_district\": \"07 - Los Angeles\", \"drmt_organization_name\": null, \"route_name\": \"Beach Cities Transit 109 Northbound\", \"cutoff2\": 30, \"cutoff\": 2}, {\"calitp_itp_id\": 260, \"trip_key\": -656251562375874454, \"trip_id\": \"BCT109 NB_MF.T19\", \"shape_id\": \"BCT109 NB\", \"route_id\": \"BCT109 NB\", \"service_hours\": 1.28, \"trip_first_departure_ts\": 71100, \"trip_last_arrival_ts\": 75720, \"departure_hour\": 19, \"time_of_day\": \"PM Peak\", \"p25\": 1.28, \"p50\": 1.28, \"p75\": 1.28, \"p50_trip\": 1, \"fastest_trip\": 0, \"car_duration_hours\": 0.83, \"competitive_route\": 1, \"bus_multiplier\": 1.54, \"bus_difference\": 27.0, \"num_trips\": 20, \"num_competitive\": 20, \"pct_trips_competitive\": 1.0, \"bus_difference_spread\": 3.6000000000000014, \"route_group\": \"medium\", \"max_trip_hrs\": 1.28, \"max_trip_route_group\": 1.28, \"below_cutoff\": 20, \"pct_below_cutoff\": 1.0, \"name\": \"City of Redondo Beach\", \"caltrans_district\": \"07 - Los Angeles\", \"drmt_organization_name\": null, \"route_name\": \"Beach Cities Transit 109 Northbound\", \"cutoff2\": 30, \"cutoff\": 2}, {\"calitp_itp_id\": 260, \"trip_key\": 8750848218037897663, \"trip_id\": \"BCT109 NB_MF.T17\", \"shape_id\": \"BCT109 NB\", \"route_id\": \"BCT109 NB\", \"service_hours\": 1.28, \"trip_first_departure_ts\": 65400, \"trip_last_arrival_ts\": 70020, \"departure_hour\": 18, \"time_of_day\": \"PM Peak\", \"p25\": 1.28, \"p50\": 1.28, \"p75\": 1.28, \"p50_trip\": 1, \"fastest_trip\": 0, \"car_duration_hours\": 0.83, \"competitive_route\": 1, \"bus_multiplier\": 1.54, \"bus_difference\": 27.0, \"num_trips\": 20, \"num_competitive\": 20, \"pct_trips_competitive\": 1.0, \"bus_difference_spread\": 3.6000000000000014, \"route_group\": \"medium\", \"max_trip_hrs\": 1.28, \"max_trip_route_group\": 1.28, \"below_cutoff\": 20, \"pct_below_cutoff\": 1.0, \"name\": \"City of Redondo Beach\", \"caltrans_district\": \"07 - Los Angeles\", \"drmt_organization_name\": null, \"route_name\": \"Beach Cities Transit 109 Northbound\", \"cutoff2\": 30, \"cutoff\": 2}, {\"calitp_itp_id\": 260, \"trip_key\": 84845425813148536, \"trip_id\": \"BCT109 NB_MF.T14\", \"shape_id\": \"BCT109 NB\", \"route_id\": \"BCT109 NB\", \"service_hours\": 1.28, \"trip_first_departure_ts\": 57300, \"trip_last_arrival_ts\": 61920, \"departure_hour\": 15, \"time_of_day\": \"Midday\", \"p25\": 1.28, \"p50\": 1.28, \"p75\": 1.28, \"p50_trip\": 1, \"fastest_trip\": 0, \"car_duration_hours\": 0.83, \"competitive_route\": 1, \"bus_multiplier\": 1.54, \"bus_difference\": 27.0, \"num_trips\": 20, \"num_competitive\": 20, \"pct_trips_competitive\": 1.0, \"bus_difference_spread\": 3.6000000000000014, \"route_group\": \"medium\", \"max_trip_hrs\": 1.28, \"max_trip_route_group\": 1.28, \"below_cutoff\": 20, \"pct_below_cutoff\": 1.0, \"name\": \"City of Redondo Beach\", \"caltrans_district\": \"07 - Los Angeles\", \"drmt_organization_name\": null, \"route_name\": \"Beach Cities Transit 109 Northbound\", \"cutoff2\": 30, \"cutoff\": 2}, {\"calitp_itp_id\": 260, \"trip_key\": 6559195403394685853, \"trip_id\": \"BCT109 NB_MF.T07\", \"shape_id\": \"BCT109 NB\", \"route_id\": \"BCT109 NB\", \"service_hours\": 1.28, \"trip_first_departure_ts\": 37500, \"trip_last_arrival_ts\": 42120, \"departure_hour\": 10, \"time_of_day\": \"Midday\", \"p25\": 1.28, \"p50\": 1.28, \"p75\": 1.28, \"p50_trip\": 1, \"fastest_trip\": 0, \"car_duration_hours\": 0.83, \"competitive_route\": 1, \"bus_multiplier\": 1.54, \"bus_difference\": 27.0, \"num_trips\": 20, \"num_competitive\": 20, \"pct_trips_competitive\": 1.0, \"bus_difference_spread\": 3.6000000000000014, \"route_group\": \"medium\", \"max_trip_hrs\": 1.28, \"max_trip_route_group\": 1.28, \"below_cutoff\": 20, \"pct_below_cutoff\": 1.0, \"name\": \"City of Redondo Beach\", \"caltrans_district\": \"07 - Los Angeles\", \"drmt_organization_name\": null, \"route_name\": \"Beach Cities Transit 109 Northbound\", \"cutoff2\": 30, \"cutoff\": 2}, {\"calitp_itp_id\": 260, \"trip_key\": -4238208434499862872, \"trip_id\": \"BCT109 NB_MF.T10\", \"shape_id\": \"BCT109 NB\", \"route_id\": \"BCT109 NB\", \"service_hours\": 1.28, \"trip_first_departure_ts\": 45300, \"trip_last_arrival_ts\": 49920, \"departure_hour\": 12, \"time_of_day\": \"Midday\", \"p25\": 1.28, \"p50\": 1.28, \"p75\": 1.28, \"p50_trip\": 1, \"fastest_trip\": 0, \"car_duration_hours\": 0.83, \"competitive_route\": 1, \"bus_multiplier\": 1.54, \"bus_difference\": 27.0, \"num_trips\": 20, \"num_competitive\": 20, \"pct_trips_competitive\": 1.0, \"bus_difference_spread\": 3.6000000000000014, \"route_group\": \"medium\", \"max_trip_hrs\": 1.28, \"max_trip_route_group\": 1.28, \"below_cutoff\": 20, \"pct_below_cutoff\": 1.0, \"name\": \"City of Redondo Beach\", \"caltrans_district\": \"07 - Los Angeles\", \"drmt_organization_name\": null, \"route_name\": \"Beach Cities Transit 109 Northbound\", \"cutoff2\": 30, \"cutoff\": 2}, {\"calitp_itp_id\": 260, \"trip_key\": -5929374785087733782, \"trip_id\": \"BCT109 NB_MF.T12\", \"shape_id\": \"BCT109 NB\", \"route_id\": \"BCT109 NB\", \"service_hours\": 1.28, \"trip_first_departure_ts\": 52200, \"trip_last_arrival_ts\": 56820, \"departure_hour\": 14, \"time_of_day\": \"Midday\", \"p25\": 1.28, \"p50\": 1.28, \"p75\": 1.28, \"p50_trip\": 1, \"fastest_trip\": 0, \"car_duration_hours\": 0.83, \"competitive_route\": 1, \"bus_multiplier\": 1.54, \"bus_difference\": 27.0, \"num_trips\": 20, \"num_competitive\": 20, \"pct_trips_competitive\": 1.0, \"bus_difference_spread\": 3.6000000000000014, \"route_group\": \"medium\", \"max_trip_hrs\": 1.28, \"max_trip_route_group\": 1.28, \"below_cutoff\": 20, \"pct_below_cutoff\": 1.0, \"name\": \"City of Redondo Beach\", \"caltrans_district\": \"07 - Los Angeles\", \"drmt_organization_name\": null, \"route_name\": \"Beach Cities Transit 109 Northbound\", \"cutoff2\": 30, \"cutoff\": 2}, {\"calitp_itp_id\": 260, \"trip_key\": 8367892553357170010, \"trip_id\": \"BCT109 NB_MF.T20\", \"shape_id\": \"BCT109 NB\", \"route_id\": \"BCT109 NB\", \"service_hours\": 1.28, \"trip_first_departure_ts\": 73800, \"trip_last_arrival_ts\": 78420, \"departure_hour\": 20, \"time_of_day\": \"Owl Service\", \"p25\": 1.28, \"p50\": 1.28, \"p75\": 1.28, \"p50_trip\": 1, \"fastest_trip\": 0, \"car_duration_hours\": 0.83, \"competitive_route\": 1, \"bus_multiplier\": 1.54, \"bus_difference\": 27.0, \"num_trips\": 20, \"num_competitive\": 20, \"pct_trips_competitive\": 1.0, \"bus_difference_spread\": 3.6000000000000014, \"route_group\": \"medium\", \"max_trip_hrs\": 1.28, \"max_trip_route_group\": 1.28, \"below_cutoff\": 20, \"pct_below_cutoff\": 1.0, \"name\": \"City of Redondo Beach\", \"caltrans_district\": \"07 - Los Angeles\", \"drmt_organization_name\": null, \"route_name\": \"Beach Cities Transit 109 Northbound\", \"cutoff2\": 30, \"cutoff\": 2}, {\"calitp_itp_id\": 260, \"trip_key\": -8827795785864707041, \"trip_id\": \"BCT109 NB_MF.T05\", \"shape_id\": \"BCT109 NB\", \"route_id\": \"BCT109 NB\", \"service_hours\": 1.28, \"trip_first_departure_ts\": 31800, \"trip_last_arrival_ts\": 36420, \"departure_hour\": 8, \"time_of_day\": \"AM Peak\", \"p25\": 1.28, \"p50\": 1.28, \"p75\": 1.28, \"p50_trip\": 1, \"fastest_trip\": 0, \"car_duration_hours\": 0.83, \"competitive_route\": 1, \"bus_multiplier\": 1.54, \"bus_difference\": 27.0, \"num_trips\": 20, \"num_competitive\": 20, \"pct_trips_competitive\": 1.0, \"bus_difference_spread\": 3.6000000000000014, \"route_group\": \"medium\", \"max_trip_hrs\": 1.28, \"max_trip_route_group\": 1.28, \"below_cutoff\": 20, \"pct_below_cutoff\": 1.0, \"name\": \"City of Redondo Beach\", \"caltrans_district\": \"07 - Los Angeles\", \"drmt_organization_name\": null, \"route_name\": \"Beach Cities Transit 109 Northbound\", \"cutoff2\": 30, \"cutoff\": 2}, {\"calitp_itp_id\": 260, \"trip_key\": -7343359897475375849, \"trip_id\": \"BCT109 NB_MF.T13\", \"shape_id\": \"BCT109 NB\", \"route_id\": \"BCT109 NB\", \"service_hours\": 1.28, \"trip_first_departure_ts\": 54600, \"trip_last_arrival_ts\": 59220, \"departure_hour\": 15, \"time_of_day\": \"Midday\", \"p25\": 1.28, \"p50\": 1.28, \"p75\": 1.28, \"p50_trip\": 1, \"fastest_trip\": 0, \"car_duration_hours\": 0.83, \"competitive_route\": 1, \"bus_multiplier\": 1.54, \"bus_difference\": 27.0, \"num_trips\": 20, \"num_competitive\": 20, \"pct_trips_competitive\": 1.0, \"bus_difference_spread\": 3.6000000000000014, \"route_group\": \"medium\", \"max_trip_hrs\": 1.28, \"max_trip_route_group\": 1.28, \"below_cutoff\": 20, \"pct_below_cutoff\": 1.0, \"name\": \"City of Redondo Beach\", \"caltrans_district\": \"07 - Los Angeles\", \"drmt_organization_name\": null, \"route_name\": \"Beach Cities Transit 109 Northbound\", \"cutoff2\": 30, \"cutoff\": 2}, {\"calitp_itp_id\": 260, \"trip_key\": -5831490653988659755, \"trip_id\": \"BCT109 NB_MF.T18\", \"shape_id\": \"BCT109 NB\", \"route_id\": \"BCT109 NB\", \"service_hours\": 1.28, \"trip_first_departure_ts\": 68100, \"trip_last_arrival_ts\": 72720, \"departure_hour\": 18, \"time_of_day\": \"PM Peak\", \"p25\": 1.28, \"p50\": 1.28, \"p75\": 1.28, \"p50_trip\": 1, \"fastest_trip\": 0, \"car_duration_hours\": 0.83, \"competitive_route\": 1, \"bus_multiplier\": 1.54, \"bus_difference\": 27.0, \"num_trips\": 20, \"num_competitive\": 20, \"pct_trips_competitive\": 1.0, \"bus_difference_spread\": 3.6000000000000014, \"route_group\": \"medium\", \"max_trip_hrs\": 1.28, \"max_trip_route_group\": 1.28, \"below_cutoff\": 20, \"pct_below_cutoff\": 1.0, \"name\": \"City of Redondo Beach\", \"caltrans_district\": \"07 - Los Angeles\", \"drmt_organization_name\": null, \"route_name\": \"Beach Cities Transit 109 Northbound\", \"cutoff2\": 30, \"cutoff\": 2}, {\"calitp_itp_id\": 260, \"trip_key\": -6459932311807863698, \"trip_id\": \"BCT109 NB_MF.T09\", \"shape_id\": \"BCT109 NB\", \"route_id\": \"BCT109 NB\", \"service_hours\": 1.28, \"trip_first_departure_ts\": 42600, \"trip_last_arrival_ts\": 47220, \"departure_hour\": 11, \"time_of_day\": \"Midday\", \"p25\": 1.28, \"p50\": 1.28, \"p75\": 1.28, \"p50_trip\": 1, \"fastest_trip\": 0, \"car_duration_hours\": 0.83, \"competitive_route\": 1, \"bus_multiplier\": 1.54, \"bus_difference\": 27.0, \"num_trips\": 20, \"num_competitive\": 20, \"pct_trips_competitive\": 1.0, \"bus_difference_spread\": 3.6000000000000014, \"route_group\": \"medium\", \"max_trip_hrs\": 1.28, \"max_trip_route_group\": 1.28, \"below_cutoff\": 20, \"pct_below_cutoff\": 1.0, \"name\": \"City of Redondo Beach\", \"caltrans_district\": \"07 - Los Angeles\", \"drmt_organization_name\": null, \"route_name\": \"Beach Cities Transit 109 Northbound\", \"cutoff2\": 30, \"cutoff\": 2}, {\"calitp_itp_id\": 260, \"trip_key\": 8751971087300252775, \"trip_id\": \"BCT109 NB_MF.T15\", \"shape_id\": \"BCT109 NB\", \"route_id\": \"BCT109 NB\", \"service_hours\": 1.28, \"trip_first_departure_ts\": 60300, \"trip_last_arrival_ts\": 64920, \"departure_hour\": 16, \"time_of_day\": \"Midday\", \"p25\": 1.28, \"p50\": 1.28, \"p75\": 1.28, \"p50_trip\": 1, \"fastest_trip\": 0, \"car_duration_hours\": 0.83, \"competitive_route\": 1, \"bus_multiplier\": 1.54, \"bus_difference\": 27.0, \"num_trips\": 20, \"num_competitive\": 20, \"pct_trips_competitive\": 1.0, \"bus_difference_spread\": 3.6000000000000014, \"route_group\": \"medium\", \"max_trip_hrs\": 1.28, \"max_trip_route_group\": 1.28, \"below_cutoff\": 20, \"pct_below_cutoff\": 1.0, \"name\": \"City of Redondo Beach\", \"caltrans_district\": \"07 - Los Angeles\", \"drmt_organization_name\": null, \"route_name\": \"Beach Cities Transit 109 Northbound\", \"cutoff2\": 30, \"cutoff\": 2}, {\"calitp_itp_id\": 260, \"trip_key\": 650064259460204168, \"trip_id\": \"BCT109 NB_MF.T06\", \"shape_id\": \"BCT109 NB\", \"route_id\": \"BCT109 NB\", \"service_hours\": 1.28, \"trip_first_departure_ts\": 34500, \"trip_last_arrival_ts\": 39120, \"departure_hour\": 9, \"time_of_day\": \"AM Peak\", \"p25\": 1.28, \"p50\": 1.28, \"p75\": 1.28, \"p50_trip\": 1, \"fastest_trip\": 0, \"car_duration_hours\": 0.83, \"competitive_route\": 1, \"bus_multiplier\": 1.54, \"bus_difference\": 27.0, \"num_trips\": 20, \"num_competitive\": 20, \"pct_trips_competitive\": 1.0, \"bus_difference_spread\": 3.6000000000000014, \"route_group\": \"medium\", \"max_trip_hrs\": 1.28, \"max_trip_route_group\": 1.28, \"below_cutoff\": 20, \"pct_below_cutoff\": 1.0, \"name\": \"City of Redondo Beach\", \"caltrans_district\": \"07 - Los Angeles\", \"drmt_organization_name\": null, \"route_name\": \"Beach Cities Transit 109 Northbound\", \"cutoff2\": 30, \"cutoff\": 2}, {\"calitp_itp_id\": 260, \"trip_key\": -1941445509852013822, \"trip_id\": \"BCT109 NB_MF.T16\", \"shape_id\": \"BCT109 NB\", \"route_id\": \"BCT109 NB\", \"service_hours\": 1.28, \"trip_first_departure_ts\": 63000, \"trip_last_arrival_ts\": 67620, \"departure_hour\": 17, \"time_of_day\": \"PM Peak\", \"p25\": 1.28, \"p50\": 1.28, \"p75\": 1.28, \"p50_trip\": 1, \"fastest_trip\": 0, \"car_duration_hours\": 0.83, \"competitive_route\": 1, \"bus_multiplier\": 1.54, \"bus_difference\": 27.0, \"num_trips\": 20, \"num_competitive\": 20, \"pct_trips_competitive\": 1.0, \"bus_difference_spread\": 3.6000000000000014, \"route_group\": \"medium\", \"max_trip_hrs\": 1.28, \"max_trip_route_group\": 1.28, \"below_cutoff\": 20, \"pct_below_cutoff\": 1.0, \"name\": \"City of Redondo Beach\", \"caltrans_district\": \"07 - Los Angeles\", \"drmt_organization_name\": null, \"route_name\": \"Beach Cities Transit 109 Northbound\", \"cutoff2\": 30, \"cutoff\": 2}, {\"calitp_itp_id\": 260, \"trip_key\": 3723404524443184751, \"trip_id\": \"BCT109 NB_MF.T08\", \"shape_id\": \"BCT109 NB\", \"route_id\": \"BCT109 NB\", \"service_hours\": 1.28, \"trip_first_departure_ts\": 40200, \"trip_last_arrival_ts\": 44820, \"departure_hour\": 11, \"time_of_day\": \"Midday\", \"p25\": 1.28, \"p50\": 1.28, \"p75\": 1.28, \"p50_trip\": 1, \"fastest_trip\": 0, \"car_duration_hours\": 0.83, \"competitive_route\": 1, \"bus_multiplier\": 1.54, \"bus_difference\": 27.0, \"num_trips\": 20, \"num_competitive\": 20, \"pct_trips_competitive\": 1.0, \"bus_difference_spread\": 3.6000000000000014, \"route_group\": \"medium\", \"max_trip_hrs\": 1.28, \"max_trip_route_group\": 1.28, \"below_cutoff\": 20, \"pct_below_cutoff\": 1.0, \"name\": \"City of Redondo Beach\", \"caltrans_district\": \"07 - Los Angeles\", \"drmt_organization_name\": null, \"route_name\": \"Beach Cities Transit 109 Northbound\", \"cutoff2\": 30, \"cutoff\": 2}, {\"calitp_itp_id\": 260, \"trip_key\": -7769911764283861301, \"trip_id\": \"BCT109 SB_MF.T05\", \"shape_id\": \"BCT109 SB\", \"route_id\": \"BCT109 SB\", \"service_hours\": 1.33, \"trip_first_departure_ts\": 32100, \"trip_last_arrival_ts\": 36900, \"departure_hour\": 8, \"time_of_day\": \"AM Peak\", \"p25\": 1.33, \"p50\": 1.33, \"p75\": 1.33, \"p50_trip\": 1, \"fastest_trip\": 0, \"car_duration_hours\": 1.1, \"competitive_route\": 1, \"bus_multiplier\": 1.21, \"bus_difference\": 13.8, \"num_trips\": 20, \"num_competitive\": 20, \"pct_trips_competitive\": 1.0, \"bus_difference_spread\": 0.0, \"route_group\": \"medium\", \"max_trip_hrs\": 1.33, \"max_trip_route_group\": 1.33, \"below_cutoff\": 20, \"pct_below_cutoff\": 1.0, \"name\": \"City of Redondo Beach\", \"caltrans_district\": \"07 - Los Angeles\", \"drmt_organization_name\": null, \"route_name\": \"Beach Cities Transit 109 Southbound\", \"cutoff2\": 30, \"cutoff\": 2}, {\"calitp_itp_id\": 260, \"trip_key\": 8823191204635919285, \"trip_id\": \"BCT109 SB_MF.T17\", \"shape_id\": \"BCT109 SB\", \"route_id\": \"BCT109 SB\", \"service_hours\": 1.33, \"trip_first_departure_ts\": 65700, \"trip_last_arrival_ts\": 70500, \"departure_hour\": 18, \"time_of_day\": \"PM Peak\", \"p25\": 1.33, \"p50\": 1.33, \"p75\": 1.33, \"p50_trip\": 1, \"fastest_trip\": 0, \"car_duration_hours\": 1.1, \"competitive_route\": 1, \"bus_multiplier\": 1.21, \"bus_difference\": 13.8, \"num_trips\": 20, \"num_competitive\": 20, \"pct_trips_competitive\": 1.0, \"bus_difference_spread\": 0.0, \"route_group\": \"medium\", \"max_trip_hrs\": 1.33, \"max_trip_route_group\": 1.33, \"below_cutoff\": 20, \"pct_below_cutoff\": 1.0, \"name\": \"City of Redondo Beach\", \"caltrans_district\": \"07 - Los Angeles\", \"drmt_organization_name\": null, \"route_name\": \"Beach Cities Transit 109 Southbound\", \"cutoff2\": 30, \"cutoff\": 2}, {\"calitp_itp_id\": 260, \"trip_key\": 9206665950355318065, \"trip_id\": \"BCT109 SB_MF.T16\", \"shape_id\": \"BCT109 SB\", \"route_id\": \"BCT109 SB\", \"service_hours\": 1.33, \"trip_first_departure_ts\": 62700, \"trip_last_arrival_ts\": 67500, \"departure_hour\": 17, \"time_of_day\": \"PM Peak\", \"p25\": 1.33, \"p50\": 1.33, \"p75\": 1.33, \"p50_trip\": 1, \"fastest_trip\": 0, \"car_duration_hours\": 1.1, \"competitive_route\": 1, \"bus_multiplier\": 1.21, \"bus_difference\": 13.8, \"num_trips\": 20, \"num_competitive\": 20, \"pct_trips_competitive\": 1.0, \"bus_difference_spread\": 0.0, \"route_group\": \"medium\", \"max_trip_hrs\": 1.33, \"max_trip_route_group\": 1.33, \"below_cutoff\": 20, \"pct_below_cutoff\": 1.0, \"name\": \"City of Redondo Beach\", \"caltrans_district\": \"07 - Los Angeles\", \"drmt_organization_name\": null, \"route_name\": \"Beach Cities Transit 109 Southbound\", \"cutoff2\": 30, \"cutoff\": 2}, {\"calitp_itp_id\": 260, \"trip_key\": -4499201128805887979, \"trip_id\": \"BCT109 SB_MF.T20\", \"shape_id\": \"BCT109 SB\", \"route_id\": \"BCT109 SB\", \"service_hours\": 1.33, \"trip_first_departure_ts\": 73500, \"trip_last_arrival_ts\": 78300, \"departure_hour\": 20, \"time_of_day\": \"Owl Service\", \"p25\": 1.33, \"p50\": 1.33, \"p75\": 1.33, \"p50_trip\": 1, \"fastest_trip\": 1, \"car_duration_hours\": 1.1, \"competitive_route\": 1, \"bus_multiplier\": 1.21, \"bus_difference\": 13.8, \"num_trips\": 20, \"num_competitive\": 20, \"pct_trips_competitive\": 1.0, \"bus_difference_spread\": 0.0, \"route_group\": \"medium\", \"max_trip_hrs\": 1.33, \"max_trip_route_group\": 1.33, \"below_cutoff\": 20, \"pct_below_cutoff\": 1.0, \"name\": \"City of Redondo Beach\", \"caltrans_district\": \"07 - Los Angeles\", \"drmt_organization_name\": null, \"route_name\": \"Beach Cities Transit 109 Southbound\", \"cutoff2\": 30, \"cutoff\": 2}, {\"calitp_itp_id\": 260, \"trip_key\": -950805648954300900, \"trip_id\": \"BCT109 SB_MF.T15\", \"shape_id\": \"BCT109 SB\", \"route_id\": \"BCT109 SB\", \"service_hours\": 1.33, \"trip_first_departure_ts\": 60000, \"trip_last_arrival_ts\": 64800, \"departure_hour\": 16, \"time_of_day\": \"Midday\", \"p25\": 1.33, \"p50\": 1.33, \"p75\": 1.33, \"p50_trip\": 1, \"fastest_trip\": 0, \"car_duration_hours\": 1.1, \"competitive_route\": 1, \"bus_multiplier\": 1.21, \"bus_difference\": 13.8, \"num_trips\": 20, \"num_competitive\": 20, \"pct_trips_competitive\": 1.0, \"bus_difference_spread\": 0.0, \"route_group\": \"medium\", \"max_trip_hrs\": 1.33, \"max_trip_route_group\": 1.33, \"below_cutoff\": 20, \"pct_below_cutoff\": 1.0, \"name\": \"City of Redondo Beach\", \"caltrans_district\": \"07 - Los Angeles\", \"drmt_organization_name\": null, \"route_name\": \"Beach Cities Transit 109 Southbound\", \"cutoff2\": 30, \"cutoff\": 2}, {\"calitp_itp_id\": 260, \"trip_key\": 5483605554865067177, \"trip_id\": \"BCT109 SB_MF.T01\", \"shape_id\": \"BCT109 SB\", \"route_id\": \"BCT109 SB\", \"service_hours\": 1.33, \"trip_first_departure_ts\": 21300, \"trip_last_arrival_ts\": 26100, \"departure_hour\": 5, \"time_of_day\": \"Owl Service\", \"p25\": 1.33, \"p50\": 1.33, \"p75\": 1.33, \"p50_trip\": 1, \"fastest_trip\": 0, \"car_duration_hours\": 1.1, \"competitive_route\": 1, \"bus_multiplier\": 1.21, \"bus_difference\": 13.8, \"num_trips\": 20, \"num_competitive\": 20, \"pct_trips_competitive\": 1.0, \"bus_difference_spread\": 0.0, \"route_group\": \"medium\", \"max_trip_hrs\": 1.33, \"max_trip_route_group\": 1.33, \"below_cutoff\": 20, \"pct_below_cutoff\": 1.0, \"name\": \"City of Redondo Beach\", \"caltrans_district\": \"07 - Los Angeles\", \"drmt_organization_name\": null, \"route_name\": \"Beach Cities Transit 109 Southbound\", \"cutoff2\": 30, \"cutoff\": 2}, {\"calitp_itp_id\": 260, \"trip_key\": -4780138184419908344, \"trip_id\": \"BCT109 SB_MF.T14\", \"shape_id\": \"BCT109 SB\", \"route_id\": \"BCT109 SB\", \"service_hours\": 1.33, \"trip_first_departure_ts\": 57600, \"trip_last_arrival_ts\": 62400, \"departure_hour\": 16, \"time_of_day\": \"Midday\", \"p25\": 1.33, \"p50\": 1.33, \"p75\": 1.33, \"p50_trip\": 1, \"fastest_trip\": 0, \"car_duration_hours\": 1.1, \"competitive_route\": 1, \"bus_multiplier\": 1.21, \"bus_difference\": 13.8, \"num_trips\": 20, \"num_competitive\": 20, \"pct_trips_competitive\": 1.0, \"bus_difference_spread\": 0.0, \"route_group\": \"medium\", \"max_trip_hrs\": 1.33, \"max_trip_route_group\": 1.33, \"below_cutoff\": 20, \"pct_below_cutoff\": 1.0, \"name\": \"City of Redondo Beach\", \"caltrans_district\": \"07 - Los Angeles\", \"drmt_organization_name\": null, \"route_name\": \"Beach Cities Transit 109 Southbound\", \"cutoff2\": 30, \"cutoff\": 2}, {\"calitp_itp_id\": 260, \"trip_key\": -4425915001469547984, \"trip_id\": \"BCT109 SB_MF.T03\", \"shape_id\": \"BCT109 SB\", \"route_id\": \"BCT109 SB\", \"service_hours\": 1.33, \"trip_first_departure_ts\": 26400, \"trip_last_arrival_ts\": 31200, \"departure_hour\": 7, \"time_of_day\": \"AM Peak\", \"p25\": 1.33, \"p50\": 1.33, \"p75\": 1.33, \"p50_trip\": 1, \"fastest_trip\": 0, \"car_duration_hours\": 1.1, \"competitive_route\": 1, \"bus_multiplier\": 1.21, \"bus_difference\": 13.8, \"num_trips\": 20, \"num_competitive\": 20, \"pct_trips_competitive\": 1.0, \"bus_difference_spread\": 0.0, \"route_group\": \"medium\", \"max_trip_hrs\": 1.33, \"max_trip_route_group\": 1.33, \"below_cutoff\": 20, \"pct_below_cutoff\": 1.0, \"name\": \"City of Redondo Beach\", \"caltrans_district\": \"07 - Los Angeles\", \"drmt_organization_name\": null, \"route_name\": \"Beach Cities Transit 109 Southbound\", \"cutoff2\": 30, \"cutoff\": 2}, {\"calitp_itp_id\": 260, \"trip_key\": -6387492083207951242, \"trip_id\": \"BCT109 SB_MF.T11\", \"shape_id\": \"BCT109 SB\", \"route_id\": \"BCT109 SB\", \"service_hours\": 1.33, \"trip_first_departure_ts\": 49200, \"trip_last_arrival_ts\": 54000, \"departure_hour\": 13, \"time_of_day\": \"Midday\", \"p25\": 1.33, \"p50\": 1.33, \"p75\": 1.33, \"p50_trip\": 1, \"fastest_trip\": 0, \"car_duration_hours\": 1.1, \"competitive_route\": 1, \"bus_multiplier\": 1.21, \"bus_difference\": 13.8, \"num_trips\": 20, \"num_competitive\": 20, \"pct_trips_competitive\": 1.0, \"bus_difference_spread\": 0.0, \"route_group\": \"medium\", \"max_trip_hrs\": 1.33, \"max_trip_route_group\": 1.33, \"below_cutoff\": 20, \"pct_below_cutoff\": 1.0, \"name\": \"City of Redondo Beach\", \"caltrans_district\": \"07 - Los Angeles\", \"drmt_organization_name\": null, \"route_name\": \"Beach Cities Transit 109 Southbound\", \"cutoff2\": 30, \"cutoff\": 2}, {\"calitp_itp_id\": 260, \"trip_key\": -3213125366714638313, \"trip_id\": \"BCT109 SB_MF.T13\", \"shape_id\": \"BCT109 SB\", \"route_id\": \"BCT109 SB\", \"service_hours\": 1.33, \"trip_first_departure_ts\": 54900, \"trip_last_arrival_ts\": 59700, \"departure_hour\": 15, \"time_of_day\": \"Midday\", \"p25\": 1.33, \"p50\": 1.33, \"p75\": 1.33, \"p50_trip\": 1, \"fastest_trip\": 0, \"car_duration_hours\": 1.1, \"competitive_route\": 1, \"bus_multiplier\": 1.21, \"bus_difference\": 13.8, \"num_trips\": 20, \"num_competitive\": 20, \"pct_trips_competitive\": 1.0, \"bus_difference_spread\": 0.0, \"route_group\": \"medium\", \"max_trip_hrs\": 1.33, \"max_trip_route_group\": 1.33, \"below_cutoff\": 20, \"pct_below_cutoff\": 1.0, \"name\": \"City of Redondo Beach\", \"caltrans_district\": \"07 - Los Angeles\", \"drmt_organization_name\": null, \"route_name\": \"Beach Cities Transit 109 Southbound\", \"cutoff2\": 30, \"cutoff\": 2}, {\"calitp_itp_id\": 260, \"trip_key\": 3809111814313801124, \"trip_id\": \"BCT109 SB_MF.T07\", \"shape_id\": \"BCT109 SB\", \"route_id\": \"BCT109 SB\", \"service_hours\": 1.33, \"trip_first_departure_ts\": 37200, \"trip_last_arrival_ts\": 42000, \"departure_hour\": 10, \"time_of_day\": \"Midday\", \"p25\": 1.33, \"p50\": 1.33, \"p75\": 1.33, \"p50_trip\": 1, \"fastest_trip\": 0, \"car_duration_hours\": 1.1, \"competitive_route\": 1, \"bus_multiplier\": 1.21, \"bus_difference\": 13.8, \"num_trips\": 20, \"num_competitive\": 20, \"pct_trips_competitive\": 1.0, \"bus_difference_spread\": 0.0, \"route_group\": \"medium\", \"max_trip_hrs\": 1.33, \"max_trip_route_group\": 1.33, \"below_cutoff\": 20, \"pct_below_cutoff\": 1.0, \"name\": \"City of Redondo Beach\", \"caltrans_district\": \"07 - Los Angeles\", \"drmt_organization_name\": null, \"route_name\": \"Beach Cities Transit 109 Southbound\", \"cutoff2\": 30, \"cutoff\": 2}, {\"calitp_itp_id\": 260, \"trip_key\": -8946219895800285709, \"trip_id\": \"BCT109 SB_MF.T12\", \"shape_id\": \"BCT109 SB\", \"route_id\": \"BCT109 SB\", \"service_hours\": 1.33, \"trip_first_departure_ts\": 51900, \"trip_last_arrival_ts\": 56700, \"departure_hour\": 14, \"time_of_day\": \"Midday\", \"p25\": 1.33, \"p50\": 1.33, \"p75\": 1.33, \"p50_trip\": 1, \"fastest_trip\": 0, \"car_duration_hours\": 1.1, \"competitive_route\": 1, \"bus_multiplier\": 1.21, \"bus_difference\": 13.8, \"num_trips\": 20, \"num_competitive\": 20, \"pct_trips_competitive\": 1.0, \"bus_difference_spread\": 0.0, \"route_group\": \"medium\", \"max_trip_hrs\": 1.33, \"max_trip_route_group\": 1.33, \"below_cutoff\": 20, \"pct_below_cutoff\": 1.0, \"name\": \"City of Redondo Beach\", \"caltrans_district\": \"07 - Los Angeles\", \"drmt_organization_name\": null, \"route_name\": \"Beach Cities Transit 109 Southbound\", \"cutoff2\": 30, \"cutoff\": 2}, {\"calitp_itp_id\": 260, \"trip_key\": 8591784665566234450, \"trip_id\": \"BCT109 SB_MF.T08\", \"shape_id\": \"BCT109 SB\", \"route_id\": \"BCT109 SB\", \"service_hours\": 1.33, \"trip_first_departure_ts\": 39900, \"trip_last_arrival_ts\": 44700, \"departure_hour\": 11, \"time_of_day\": \"Midday\", \"p25\": 1.33, \"p50\": 1.33, \"p75\": 1.33, \"p50_trip\": 1, \"fastest_trip\": 0, \"car_duration_hours\": 1.1, \"competitive_route\": 1, \"bus_multiplier\": 1.21, \"bus_difference\": 13.8, \"num_trips\": 20, \"num_competitive\": 20, \"pct_trips_competitive\": 1.0, \"bus_difference_spread\": 0.0, \"route_group\": \"medium\", \"max_trip_hrs\": 1.33, \"max_trip_route_group\": 1.33, \"below_cutoff\": 20, \"pct_below_cutoff\": 1.0, \"name\": \"City of Redondo Beach\", \"caltrans_district\": \"07 - Los Angeles\", \"drmt_organization_name\": null, \"route_name\": \"Beach Cities Transit 109 Southbound\", \"cutoff2\": 30, \"cutoff\": 2}, {\"calitp_itp_id\": 260, \"trip_key\": -5692302563158925297, \"trip_id\": \"BCT109 SB_MF.T02\", \"shape_id\": \"BCT109 SB\", \"route_id\": \"BCT109 SB\", \"service_hours\": 1.33, \"trip_first_departure_ts\": 24000, \"trip_last_arrival_ts\": 28800, \"departure_hour\": 6, \"time_of_day\": \"Owl Service\", \"p25\": 1.33, \"p50\": 1.33, \"p75\": 1.33, \"p50_trip\": 1, \"fastest_trip\": 0, \"car_duration_hours\": 1.1, \"competitive_route\": 1, \"bus_multiplier\": 1.21, \"bus_difference\": 13.8, \"num_trips\": 20, \"num_competitive\": 20, \"pct_trips_competitive\": 1.0, \"bus_difference_spread\": 0.0, \"route_group\": \"medium\", \"max_trip_hrs\": 1.33, \"max_trip_route_group\": 1.33, \"below_cutoff\": 20, \"pct_below_cutoff\": 1.0, \"name\": \"City of Redondo Beach\", \"caltrans_district\": \"07 - Los Angeles\", \"drmt_organization_name\": null, \"route_name\": \"Beach Cities Transit 109 Southbound\", \"cutoff2\": 30, \"cutoff\": 2}, {\"calitp_itp_id\": 260, \"trip_key\": -6167030381298569725, \"trip_id\": \"BCT109 SB_MF.T04\", \"shape_id\": \"BCT109 SB\", \"route_id\": \"BCT109 SB\", \"service_hours\": 1.33, \"trip_first_departure_ts\": 29100, \"trip_last_arrival_ts\": 33900, \"departure_hour\": 8, \"time_of_day\": \"AM Peak\", \"p25\": 1.33, \"p50\": 1.33, \"p75\": 1.33, \"p50_trip\": 1, \"fastest_trip\": 0, \"car_duration_hours\": 1.1, \"competitive_route\": 1, \"bus_multiplier\": 1.21, \"bus_difference\": 13.8, \"num_trips\": 20, \"num_competitive\": 20, \"pct_trips_competitive\": 1.0, \"bus_difference_spread\": 0.0, \"route_group\": \"medium\", \"max_trip_hrs\": 1.33, \"max_trip_route_group\": 1.33, \"below_cutoff\": 20, \"pct_below_cutoff\": 1.0, \"name\": \"City of Redondo Beach\", \"caltrans_district\": \"07 - Los Angeles\", \"drmt_organization_name\": null, \"route_name\": \"Beach Cities Transit 109 Southbound\", \"cutoff2\": 30, \"cutoff\": 2}, {\"calitp_itp_id\": 260, \"trip_key\": -5704407478966822574, \"trip_id\": \"BCT109 SB_MF.T19\", \"shape_id\": \"BCT109 SB\", \"route_id\": \"BCT109 SB\", \"service_hours\": 1.33, \"trip_first_departure_ts\": 70800, \"trip_last_arrival_ts\": 75600, \"departure_hour\": 19, \"time_of_day\": \"PM Peak\", \"p25\": 1.33, \"p50\": 1.33, \"p75\": 1.33, \"p50_trip\": 1, \"fastest_trip\": 0, \"car_duration_hours\": 1.1, \"competitive_route\": 1, \"bus_multiplier\": 1.21, \"bus_difference\": 13.8, \"num_trips\": 20, \"num_competitive\": 20, \"pct_trips_competitive\": 1.0, \"bus_difference_spread\": 0.0, \"route_group\": \"medium\", \"max_trip_hrs\": 1.33, \"max_trip_route_group\": 1.33, \"below_cutoff\": 20, \"pct_below_cutoff\": 1.0, \"name\": \"City of Redondo Beach\", \"caltrans_district\": \"07 - Los Angeles\", \"drmt_organization_name\": null, \"route_name\": \"Beach Cities Transit 109 Southbound\", \"cutoff2\": 30, \"cutoff\": 2}, {\"calitp_itp_id\": 260, \"trip_key\": 6970404091750010637, \"trip_id\": \"BCT109 SB_MF.T06\", \"shape_id\": \"BCT109 SB\", \"route_id\": \"BCT109 SB\", \"service_hours\": 1.33, \"trip_first_departure_ts\": 34800, \"trip_last_arrival_ts\": 39600, \"departure_hour\": 9, \"time_of_day\": \"AM Peak\", \"p25\": 1.33, \"p50\": 1.33, \"p75\": 1.33, \"p50_trip\": 1, \"fastest_trip\": 0, \"car_duration_hours\": 1.1, \"competitive_route\": 1, \"bus_multiplier\": 1.21, \"bus_difference\": 13.8, \"num_trips\": 20, \"num_competitive\": 20, \"pct_trips_competitive\": 1.0, \"bus_difference_spread\": 0.0, \"route_group\": \"medium\", \"max_trip_hrs\": 1.33, \"max_trip_route_group\": 1.33, \"below_cutoff\": 20, \"pct_below_cutoff\": 1.0, \"name\": \"City of Redondo Beach\", \"caltrans_district\": \"07 - Los Angeles\", \"drmt_organization_name\": null, \"route_name\": \"Beach Cities Transit 109 Southbound\", \"cutoff2\": 30, \"cutoff\": 2}, {\"calitp_itp_id\": 260, \"trip_key\": 5016011737382582511, \"trip_id\": \"BCT109 SB_MF.T10\", \"shape_id\": \"BCT109 SB\", \"route_id\": \"BCT109 SB\", \"service_hours\": 1.33, \"trip_first_departure_ts\": 46800, \"trip_last_arrival_ts\": 51600, \"departure_hour\": 13, \"time_of_day\": \"Midday\", \"p25\": 1.33, \"p50\": 1.33, \"p75\": 1.33, \"p50_trip\": 1, \"fastest_trip\": 0, \"car_duration_hours\": 1.1, \"competitive_route\": 1, \"bus_multiplier\": 1.21, \"bus_difference\": 13.8, \"num_trips\": 20, \"num_competitive\": 20, \"pct_trips_competitive\": 1.0, \"bus_difference_spread\": 0.0, \"route_group\": \"medium\", \"max_trip_hrs\": 1.33, \"max_trip_route_group\": 1.33, \"below_cutoff\": 20, \"pct_below_cutoff\": 1.0, \"name\": \"City of Redondo Beach\", \"caltrans_district\": \"07 - Los Angeles\", \"drmt_organization_name\": null, \"route_name\": \"Beach Cities Transit 109 Southbound\", \"cutoff2\": 30, \"cutoff\": 2}, {\"calitp_itp_id\": 260, \"trip_key\": 167940946600347386, \"trip_id\": \"BCT109 SB_MF.T18\", \"shape_id\": \"BCT109 SB\", \"route_id\": \"BCT109 SB\", \"service_hours\": 1.33, \"trip_first_departure_ts\": 68400, \"trip_last_arrival_ts\": 73200, \"departure_hour\": 19, \"time_of_day\": \"PM Peak\", \"p25\": 1.33, \"p50\": 1.33, \"p75\": 1.33, \"p50_trip\": 1, \"fastest_trip\": 0, \"car_duration_hours\": 1.1, \"competitive_route\": 1, \"bus_multiplier\": 1.21, \"bus_difference\": 13.8, \"num_trips\": 20, \"num_competitive\": 20, \"pct_trips_competitive\": 1.0, \"bus_difference_spread\": 0.0, \"route_group\": \"medium\", \"max_trip_hrs\": 1.33, \"max_trip_route_group\": 1.33, \"below_cutoff\": 20, \"pct_below_cutoff\": 1.0, \"name\": \"City of Redondo Beach\", \"caltrans_district\": \"07 - Los Angeles\", \"drmt_organization_name\": null, \"route_name\": \"Beach Cities Transit 109 Southbound\", \"cutoff2\": 30, \"cutoff\": 2}, {\"calitp_itp_id\": 260, \"trip_key\": 1469278410914527932, \"trip_id\": \"BCT109 SB_MF.T09\", \"shape_id\": \"BCT109 SB\", \"route_id\": \"BCT109 SB\", \"service_hours\": 1.33, \"trip_first_departure_ts\": 44100, \"trip_last_arrival_ts\": 48900, \"departure_hour\": 12, \"time_of_day\": \"Midday\", \"p25\": 1.33, \"p50\": 1.33, \"p75\": 1.33, \"p50_trip\": 1, \"fastest_trip\": 0, \"car_duration_hours\": 1.1, \"competitive_route\": 1, \"bus_multiplier\": 1.21, \"bus_difference\": 13.8, \"num_trips\": 20, \"num_competitive\": 20, \"pct_trips_competitive\": 1.0, \"bus_difference_spread\": 0.0, \"route_group\": \"medium\", \"max_trip_hrs\": 1.33, \"max_trip_route_group\": 1.33, \"below_cutoff\": 20, \"pct_below_cutoff\": 1.0, \"name\": \"City of Redondo Beach\", \"caltrans_district\": \"07 - Los Angeles\", \"drmt_organization_name\": null, \"route_name\": \"Beach Cities Transit 109 Southbound\", \"cutoff2\": 30, \"cutoff\": 2}]}}, {\"mode\": \"vega-lite\"});\n",
       "</script>"
      ],
      "text/plain": [
       "alt.FacetChart(...)"
      ]
     },
     "metadata": {},
     "output_type": "display_data"
    },
    {
     "data": {
      "text/html": [
       "\n",
       "<div id=\"altair-viz-2de2a1d5809e4ae4b1134904c1c42f55\"></div>\n",
       "<script type=\"text/javascript\">\n",
       "  var VEGA_DEBUG = (typeof VEGA_DEBUG == \"undefined\") ? {} : VEGA_DEBUG;\n",
       "  (function(spec, embedOpt){\n",
       "    let outputDiv = document.currentScript.previousElementSibling;\n",
       "    if (outputDiv.id !== \"altair-viz-2de2a1d5809e4ae4b1134904c1c42f55\") {\n",
       "      outputDiv = document.getElementById(\"altair-viz-2de2a1d5809e4ae4b1134904c1c42f55\");\n",
       "    }\n",
       "    const paths = {\n",
       "      \"vega\": \"https://cdn.jsdelivr.net/npm//vega@5?noext\",\n",
       "      \"vega-lib\": \"https://cdn.jsdelivr.net/npm//vega-lib?noext\",\n",
       "      \"vega-lite\": \"https://cdn.jsdelivr.net/npm//vega-lite@4.17.0?noext\",\n",
       "      \"vega-embed\": \"https://cdn.jsdelivr.net/npm//vega-embed@6?noext\",\n",
       "    };\n",
       "\n",
       "    function maybeLoadScript(lib, version) {\n",
       "      var key = `${lib.replace(\"-\", \"\")}_version`;\n",
       "      return (VEGA_DEBUG[key] == version) ?\n",
       "        Promise.resolve(paths[lib]) :\n",
       "        new Promise(function(resolve, reject) {\n",
       "          var s = document.createElement('script');\n",
       "          document.getElementsByTagName(\"head\")[0].appendChild(s);\n",
       "          s.async = true;\n",
       "          s.onload = () => {\n",
       "            VEGA_DEBUG[key] = version;\n",
       "            return resolve(paths[lib]);\n",
       "          };\n",
       "          s.onerror = () => reject(`Error loading script: ${paths[lib]}`);\n",
       "          s.src = paths[lib];\n",
       "        });\n",
       "    }\n",
       "\n",
       "    function showError(err) {\n",
       "      outputDiv.innerHTML = `<div class=\"error\" style=\"color:red;\">${err}</div>`;\n",
       "      throw err;\n",
       "    }\n",
       "\n",
       "    function displayChart(vegaEmbed) {\n",
       "      vegaEmbed(outputDiv, spec, embedOpt)\n",
       "        .catch(err => showError(`Javascript Error: ${err.message}<br>This usually means there's a typo in your chart specification. See the javascript console for the full traceback.`));\n",
       "    }\n",
       "\n",
       "    if(typeof define === \"function\" && define.amd) {\n",
       "      requirejs.config({paths});\n",
       "      require([\"vega-embed\"], displayChart, err => showError(`Error loading script: ${err.message}`));\n",
       "    } else {\n",
       "      maybeLoadScript(\"vega\", \"5\")\n",
       "        .then(() => maybeLoadScript(\"vega-lite\", \"4.17.0\"))\n",
       "        .then(() => maybeLoadScript(\"vega-embed\", \"6\"))\n",
       "        .catch(showError)\n",
       "        .then(() => displayChart(vegaEmbed));\n",
       "    }\n",
       "  })({\"config\": {\"view\": {\"continuousWidth\": 400, \"continuousHeight\": 300, \"stroke\": null}, \"facet\": {\"spacing\": 0}}, \"data\": {\"name\": \"data-d858d34c9c62da1c124d236c51429f3b\"}, \"facet\": {\"column\": {\"field\": \"route_id\", \"sort\": [\"BCT109 NB\", \"BCT109 SB\"], \"title\": \"Route ID\", \"type\": \"nominal\"}}, \"spec\": {\"layer\": [{\"mark\": \"rule\", \"encoding\": {\"color\": {\"value\": \"black\"}, \"y\": {\"field\": \"cutoff\", \"type\": \"quantitative\"}}, \"selection\": {\"selector004\": {\"type\": \"interval\", \"bind\": \"scales\", \"encodings\": [\"x\", \"y\"]}}}, {\"mark\": {\"type\": \"rule\", \"strokeDash\": [3, 3]}, \"encoding\": {\"color\": {\"value\": \"#323434\"}, \"y\": {\"field\": \"cutoff2\", \"type\": \"quantitative\"}}}, {\"mark\": {\"type\": \"point\", \"opacity\": 0.65, \"size\": 12, \"strokeWidth\": 1.1}, \"encoding\": {\"color\": {\"field\": \"time_of_day\", \"scale\": {\"range\": [\"#136C97\", \"#E16B26\", \"#F6BF16\", \"#00896B\", \"#7790A3\", \"#5B559C\"]}, \"sort\": [\"AM Peak\", \"Midday\", \"PM Peak\", \"Owl Service\"], \"title\": \"Time of Day\", \"type\": \"nominal\"}, \"tooltip\": [{\"field\": \"route_id\", \"type\": \"nominal\"}, {\"field\": \"route_name\", \"type\": \"nominal\"}, {\"field\": \"trip_id\", \"type\": \"nominal\"}, {\"field\": \"service_hours\", \"type\": \"quantitative\"}, {\"field\": \"car_duration_hours\", \"type\": \"quantitative\"}, {\"field\": \"bus_multiplier\", \"type\": \"quantitative\"}, {\"field\": \"bus_difference\", \"type\": \"quantitative\"}, {\"field\": \"num_trips\", \"type\": \"quantitative\"}, {\"field\": \"num_competitive\", \"type\": \"quantitative\"}, {\"field\": \"pct_trips_competitive\", \"type\": \"quantitative\"}, {\"field\": \"pct_below_cutoff\", \"type\": \"quantitative\"}, {\"field\": \"p25\", \"type\": \"quantitative\"}, {\"field\": \"p50\", \"type\": \"quantitative\"}, {\"field\": \"p75\", \"type\": \"quantitative\"}], \"x\": {\"axis\": {\"grid\": false, \"labels\": false, \"ticks\": true, \"values\": [0]}, \"field\": \"jitter\", \"scale\": {}, \"title\": null, \"type\": \"quantitative\"}, \"y\": {\"field\": \"bus_difference\", \"scale\": {\"domain\": [-5, 35.0]}, \"title\": \"Difference in Bus to Car Travel Time (min)\", \"type\": \"quantitative\"}}, \"transform\": [{\"calculate\": \"sqrt(-2*log(random()))*cos(2*PI*random())\", \"as\": \"jitter\"}], \"width\": 50}, {\"layer\": [{\"mark\": {\"type\": \"point\", \"opacity\": 0.6, \"size\": 20, \"strokeWidth\": 1.3}, \"encoding\": {\"color\": {\"value\": \"#323434\"}, \"y\": {\"field\": \"bus_difference\", \"type\": \"quantitative\"}}, \"transform\": [{\"filter\": \"(datum.p50_trip === 1)\"}]}, {\"mark\": {\"type\": \"text\", \"align\": \"center\", \"baseline\": \"middle\"}, \"encoding\": {\"color\": {\"value\": \"black\"}, \"text\": {\"field\": \"pct_trips_competitive\", \"format\": \".0%\", \"type\": \"quantitative\"}, \"tooltip\": [{\"field\": \"route_id\", \"type\": \"nominal\"}, {\"field\": \"route_name\", \"type\": \"nominal\"}, {\"field\": \"trip_id\", \"type\": \"nominal\"}, {\"field\": \"service_hours\", \"type\": \"quantitative\"}, {\"field\": \"car_duration_hours\", \"type\": \"quantitative\"}, {\"field\": \"bus_multiplier\", \"type\": \"quantitative\"}, {\"field\": \"bus_difference\", \"type\": \"quantitative\"}, {\"field\": \"num_trips\", \"type\": \"quantitative\"}, {\"field\": \"num_competitive\", \"type\": \"quantitative\"}, {\"field\": \"pct_trips_competitive\", \"type\": \"quantitative\"}, {\"field\": \"pct_below_cutoff\", \"type\": \"quantitative\"}, {\"field\": \"p25\", \"type\": \"quantitative\"}, {\"field\": \"p50\", \"type\": \"quantitative\"}, {\"field\": \"p75\", \"type\": \"quantitative\"}], \"x\": {\"value\": 30}, \"y\": {\"value\": 15}}, \"transform\": [{\"calculate\": \"sqrt(-2*log(random()))*cos(2*PI*random())\", \"as\": \"jitter\"}, {\"filter\": \"(datum.fastest_trip === 1)\"}]}]}]}, \"resolve\": {\"scale\": {\"y\": \"shared\"}}, \"title\": \"Difference in Bus to Car Travel Time (min)\", \"$schema\": \"https://vega.github.io/schema/vega-lite/v4.17.0.json\", \"datasets\": {\"data-d858d34c9c62da1c124d236c51429f3b\": [{\"calitp_itp_id\": 260, \"trip_key\": 1317046688990537606, \"trip_id\": \"BCT109 NB_MF.T03\", \"shape_id\": \"BCT109 NB\", \"route_id\": \"BCT109 NB\", \"service_hours\": 1.22, \"trip_first_departure_ts\": 26700, \"trip_last_arrival_ts\": 31080, \"departure_hour\": 7, \"time_of_day\": \"AM Peak\", \"p25\": 1.28, \"p50\": 1.28, \"p75\": 1.28, \"p50_trip\": 0, \"fastest_trip\": 1, \"car_duration_hours\": 0.83, \"competitive_route\": 1, \"bus_multiplier\": 1.47, \"bus_difference\": 23.4, \"num_trips\": 20, \"num_competitive\": 20, \"pct_trips_competitive\": 1.0, \"bus_difference_spread\": 3.6000000000000014, \"route_group\": \"medium\", \"max_trip_hrs\": 1.28, \"max_trip_route_group\": 1.28, \"below_cutoff\": 20, \"pct_below_cutoff\": 1.0, \"name\": \"City of Redondo Beach\", \"caltrans_district\": \"07 - Los Angeles\", \"drmt_organization_name\": null, \"route_name\": \"Beach Cities Transit 109 Northbound\", \"cutoff2\": 30, \"cutoff\": 0}, {\"calitp_itp_id\": 260, \"trip_key\": 3673728135160785242, \"trip_id\": \"BCT109 NB_MF.T02\", \"shape_id\": \"BCT109 NB\", \"route_id\": \"BCT109 NB\", \"service_hours\": 1.22, \"trip_first_departure_ts\": 23400, \"trip_last_arrival_ts\": 27780, \"departure_hour\": 6, \"time_of_day\": \"Owl Service\", \"p25\": 1.28, \"p50\": 1.28, \"p75\": 1.28, \"p50_trip\": 0, \"fastest_trip\": 0, \"car_duration_hours\": 0.83, \"competitive_route\": 1, \"bus_multiplier\": 1.47, \"bus_difference\": 23.4, \"num_trips\": 20, \"num_competitive\": 20, \"pct_trips_competitive\": 1.0, \"bus_difference_spread\": 3.6000000000000014, \"route_group\": \"medium\", \"max_trip_hrs\": 1.28, \"max_trip_route_group\": 1.28, \"below_cutoff\": 20, \"pct_below_cutoff\": 1.0, \"name\": \"City of Redondo Beach\", \"caltrans_district\": \"07 - Los Angeles\", \"drmt_organization_name\": null, \"route_name\": \"Beach Cities Transit 109 Northbound\", \"cutoff2\": 30, \"cutoff\": 0}, {\"calitp_itp_id\": 260, \"trip_key\": -5692772296662780211, \"trip_id\": \"BCT109 NB_MF.T01\", \"shape_id\": \"BCT109 NB\", \"route_id\": \"BCT109 NB\", \"service_hours\": 1.22, \"trip_first_departure_ts\": 21600, \"trip_last_arrival_ts\": 25980, \"departure_hour\": 6, \"time_of_day\": \"Owl Service\", \"p25\": 1.28, \"p50\": 1.28, \"p75\": 1.28, \"p50_trip\": 0, \"fastest_trip\": 0, \"car_duration_hours\": 0.83, \"competitive_route\": 1, \"bus_multiplier\": 1.47, \"bus_difference\": 23.4, \"num_trips\": 20, \"num_competitive\": 20, \"pct_trips_competitive\": 1.0, \"bus_difference_spread\": 3.6000000000000014, \"route_group\": \"medium\", \"max_trip_hrs\": 1.28, \"max_trip_route_group\": 1.28, \"below_cutoff\": 20, \"pct_below_cutoff\": 1.0, \"name\": \"City of Redondo Beach\", \"caltrans_district\": \"07 - Los Angeles\", \"drmt_organization_name\": null, \"route_name\": \"Beach Cities Transit 109 Northbound\", \"cutoff2\": 30, \"cutoff\": 0}, {\"calitp_itp_id\": 260, \"trip_key\": -8382958733402730771, \"trip_id\": \"BCT109 NB_MF.T11\", \"shape_id\": \"BCT109 NB\", \"route_id\": \"BCT109 NB\", \"service_hours\": 1.28, \"trip_first_departure_ts\": 49500, \"trip_last_arrival_ts\": 54120, \"departure_hour\": 13, \"time_of_day\": \"Midday\", \"p25\": 1.28, \"p50\": 1.28, \"p75\": 1.28, \"p50_trip\": 1, \"fastest_trip\": 0, \"car_duration_hours\": 0.83, \"competitive_route\": 1, \"bus_multiplier\": 1.54, \"bus_difference\": 27.0, \"num_trips\": 20, \"num_competitive\": 20, \"pct_trips_competitive\": 1.0, \"bus_difference_spread\": 3.6000000000000014, \"route_group\": \"medium\", \"max_trip_hrs\": 1.28, \"max_trip_route_group\": 1.28, \"below_cutoff\": 20, \"pct_below_cutoff\": 1.0, \"name\": \"City of Redondo Beach\", \"caltrans_district\": \"07 - Los Angeles\", \"drmt_organization_name\": null, \"route_name\": \"Beach Cities Transit 109 Northbound\", \"cutoff2\": 30, \"cutoff\": 0}, {\"calitp_itp_id\": 260, \"trip_key\": 7828937370348139098, \"trip_id\": \"BCT109 NB_MF.T04\", \"shape_id\": \"BCT109 NB\", \"route_id\": \"BCT109 NB\", \"service_hours\": 1.28, \"trip_first_departure_ts\": 29400, \"trip_last_arrival_ts\": 34020, \"departure_hour\": 8, \"time_of_day\": \"AM Peak\", \"p25\": 1.28, \"p50\": 1.28, \"p75\": 1.28, \"p50_trip\": 1, \"fastest_trip\": 0, \"car_duration_hours\": 0.83, \"competitive_route\": 1, \"bus_multiplier\": 1.54, \"bus_difference\": 27.0, \"num_trips\": 20, \"num_competitive\": 20, \"pct_trips_competitive\": 1.0, \"bus_difference_spread\": 3.6000000000000014, \"route_group\": \"medium\", \"max_trip_hrs\": 1.28, \"max_trip_route_group\": 1.28, \"below_cutoff\": 20, \"pct_below_cutoff\": 1.0, \"name\": \"City of Redondo Beach\", \"caltrans_district\": \"07 - Los Angeles\", \"drmt_organization_name\": null, \"route_name\": \"Beach Cities Transit 109 Northbound\", \"cutoff2\": 30, \"cutoff\": 0}, {\"calitp_itp_id\": 260, \"trip_key\": -656251562375874454, \"trip_id\": \"BCT109 NB_MF.T19\", \"shape_id\": \"BCT109 NB\", \"route_id\": \"BCT109 NB\", \"service_hours\": 1.28, \"trip_first_departure_ts\": 71100, \"trip_last_arrival_ts\": 75720, \"departure_hour\": 19, \"time_of_day\": \"PM Peak\", \"p25\": 1.28, \"p50\": 1.28, \"p75\": 1.28, \"p50_trip\": 1, \"fastest_trip\": 0, \"car_duration_hours\": 0.83, \"competitive_route\": 1, \"bus_multiplier\": 1.54, \"bus_difference\": 27.0, \"num_trips\": 20, \"num_competitive\": 20, \"pct_trips_competitive\": 1.0, \"bus_difference_spread\": 3.6000000000000014, \"route_group\": \"medium\", \"max_trip_hrs\": 1.28, \"max_trip_route_group\": 1.28, \"below_cutoff\": 20, \"pct_below_cutoff\": 1.0, \"name\": \"City of Redondo Beach\", \"caltrans_district\": \"07 - Los Angeles\", \"drmt_organization_name\": null, \"route_name\": \"Beach Cities Transit 109 Northbound\", \"cutoff2\": 30, \"cutoff\": 0}, {\"calitp_itp_id\": 260, \"trip_key\": 8750848218037897663, \"trip_id\": \"BCT109 NB_MF.T17\", \"shape_id\": \"BCT109 NB\", \"route_id\": \"BCT109 NB\", \"service_hours\": 1.28, \"trip_first_departure_ts\": 65400, \"trip_last_arrival_ts\": 70020, \"departure_hour\": 18, \"time_of_day\": \"PM Peak\", \"p25\": 1.28, \"p50\": 1.28, \"p75\": 1.28, \"p50_trip\": 1, \"fastest_trip\": 0, \"car_duration_hours\": 0.83, \"competitive_route\": 1, \"bus_multiplier\": 1.54, \"bus_difference\": 27.0, \"num_trips\": 20, \"num_competitive\": 20, \"pct_trips_competitive\": 1.0, \"bus_difference_spread\": 3.6000000000000014, \"route_group\": \"medium\", \"max_trip_hrs\": 1.28, \"max_trip_route_group\": 1.28, \"below_cutoff\": 20, \"pct_below_cutoff\": 1.0, \"name\": \"City of Redondo Beach\", \"caltrans_district\": \"07 - Los Angeles\", \"drmt_organization_name\": null, \"route_name\": \"Beach Cities Transit 109 Northbound\", \"cutoff2\": 30, \"cutoff\": 0}, {\"calitp_itp_id\": 260, \"trip_key\": 84845425813148536, \"trip_id\": \"BCT109 NB_MF.T14\", \"shape_id\": \"BCT109 NB\", \"route_id\": \"BCT109 NB\", \"service_hours\": 1.28, \"trip_first_departure_ts\": 57300, \"trip_last_arrival_ts\": 61920, \"departure_hour\": 15, \"time_of_day\": \"Midday\", \"p25\": 1.28, \"p50\": 1.28, \"p75\": 1.28, \"p50_trip\": 1, \"fastest_trip\": 0, \"car_duration_hours\": 0.83, \"competitive_route\": 1, \"bus_multiplier\": 1.54, \"bus_difference\": 27.0, \"num_trips\": 20, \"num_competitive\": 20, \"pct_trips_competitive\": 1.0, \"bus_difference_spread\": 3.6000000000000014, \"route_group\": \"medium\", \"max_trip_hrs\": 1.28, \"max_trip_route_group\": 1.28, \"below_cutoff\": 20, \"pct_below_cutoff\": 1.0, \"name\": \"City of Redondo Beach\", \"caltrans_district\": \"07 - Los Angeles\", \"drmt_organization_name\": null, \"route_name\": \"Beach Cities Transit 109 Northbound\", \"cutoff2\": 30, \"cutoff\": 0}, {\"calitp_itp_id\": 260, \"trip_key\": 6559195403394685853, \"trip_id\": \"BCT109 NB_MF.T07\", \"shape_id\": \"BCT109 NB\", \"route_id\": \"BCT109 NB\", \"service_hours\": 1.28, \"trip_first_departure_ts\": 37500, \"trip_last_arrival_ts\": 42120, \"departure_hour\": 10, \"time_of_day\": \"Midday\", \"p25\": 1.28, \"p50\": 1.28, \"p75\": 1.28, \"p50_trip\": 1, \"fastest_trip\": 0, \"car_duration_hours\": 0.83, \"competitive_route\": 1, \"bus_multiplier\": 1.54, \"bus_difference\": 27.0, \"num_trips\": 20, \"num_competitive\": 20, \"pct_trips_competitive\": 1.0, \"bus_difference_spread\": 3.6000000000000014, \"route_group\": \"medium\", \"max_trip_hrs\": 1.28, \"max_trip_route_group\": 1.28, \"below_cutoff\": 20, \"pct_below_cutoff\": 1.0, \"name\": \"City of Redondo Beach\", \"caltrans_district\": \"07 - Los Angeles\", \"drmt_organization_name\": null, \"route_name\": \"Beach Cities Transit 109 Northbound\", \"cutoff2\": 30, \"cutoff\": 0}, {\"calitp_itp_id\": 260, \"trip_key\": -4238208434499862872, \"trip_id\": \"BCT109 NB_MF.T10\", \"shape_id\": \"BCT109 NB\", \"route_id\": \"BCT109 NB\", \"service_hours\": 1.28, \"trip_first_departure_ts\": 45300, \"trip_last_arrival_ts\": 49920, \"departure_hour\": 12, \"time_of_day\": \"Midday\", \"p25\": 1.28, \"p50\": 1.28, \"p75\": 1.28, \"p50_trip\": 1, \"fastest_trip\": 0, \"car_duration_hours\": 0.83, \"competitive_route\": 1, \"bus_multiplier\": 1.54, \"bus_difference\": 27.0, \"num_trips\": 20, \"num_competitive\": 20, \"pct_trips_competitive\": 1.0, \"bus_difference_spread\": 3.6000000000000014, \"route_group\": \"medium\", \"max_trip_hrs\": 1.28, \"max_trip_route_group\": 1.28, \"below_cutoff\": 20, \"pct_below_cutoff\": 1.0, \"name\": \"City of Redondo Beach\", \"caltrans_district\": \"07 - Los Angeles\", \"drmt_organization_name\": null, \"route_name\": \"Beach Cities Transit 109 Northbound\", \"cutoff2\": 30, \"cutoff\": 0}, {\"calitp_itp_id\": 260, \"trip_key\": -5929374785087733782, \"trip_id\": \"BCT109 NB_MF.T12\", \"shape_id\": \"BCT109 NB\", \"route_id\": \"BCT109 NB\", \"service_hours\": 1.28, \"trip_first_departure_ts\": 52200, \"trip_last_arrival_ts\": 56820, \"departure_hour\": 14, \"time_of_day\": \"Midday\", \"p25\": 1.28, \"p50\": 1.28, \"p75\": 1.28, \"p50_trip\": 1, \"fastest_trip\": 0, \"car_duration_hours\": 0.83, \"competitive_route\": 1, \"bus_multiplier\": 1.54, \"bus_difference\": 27.0, \"num_trips\": 20, \"num_competitive\": 20, \"pct_trips_competitive\": 1.0, \"bus_difference_spread\": 3.6000000000000014, \"route_group\": \"medium\", \"max_trip_hrs\": 1.28, \"max_trip_route_group\": 1.28, \"below_cutoff\": 20, \"pct_below_cutoff\": 1.0, \"name\": \"City of Redondo Beach\", \"caltrans_district\": \"07 - Los Angeles\", \"drmt_organization_name\": null, \"route_name\": \"Beach Cities Transit 109 Northbound\", \"cutoff2\": 30, \"cutoff\": 0}, {\"calitp_itp_id\": 260, \"trip_key\": 8367892553357170010, \"trip_id\": \"BCT109 NB_MF.T20\", \"shape_id\": \"BCT109 NB\", \"route_id\": \"BCT109 NB\", \"service_hours\": 1.28, \"trip_first_departure_ts\": 73800, \"trip_last_arrival_ts\": 78420, \"departure_hour\": 20, \"time_of_day\": \"Owl Service\", \"p25\": 1.28, \"p50\": 1.28, \"p75\": 1.28, \"p50_trip\": 1, \"fastest_trip\": 0, \"car_duration_hours\": 0.83, \"competitive_route\": 1, \"bus_multiplier\": 1.54, \"bus_difference\": 27.0, \"num_trips\": 20, \"num_competitive\": 20, \"pct_trips_competitive\": 1.0, \"bus_difference_spread\": 3.6000000000000014, \"route_group\": \"medium\", \"max_trip_hrs\": 1.28, \"max_trip_route_group\": 1.28, \"below_cutoff\": 20, \"pct_below_cutoff\": 1.0, \"name\": \"City of Redondo Beach\", \"caltrans_district\": \"07 - Los Angeles\", \"drmt_organization_name\": null, \"route_name\": \"Beach Cities Transit 109 Northbound\", \"cutoff2\": 30, \"cutoff\": 0}, {\"calitp_itp_id\": 260, \"trip_key\": -8827795785864707041, \"trip_id\": \"BCT109 NB_MF.T05\", \"shape_id\": \"BCT109 NB\", \"route_id\": \"BCT109 NB\", \"service_hours\": 1.28, \"trip_first_departure_ts\": 31800, \"trip_last_arrival_ts\": 36420, \"departure_hour\": 8, \"time_of_day\": \"AM Peak\", \"p25\": 1.28, \"p50\": 1.28, \"p75\": 1.28, \"p50_trip\": 1, \"fastest_trip\": 0, \"car_duration_hours\": 0.83, \"competitive_route\": 1, \"bus_multiplier\": 1.54, \"bus_difference\": 27.0, \"num_trips\": 20, \"num_competitive\": 20, \"pct_trips_competitive\": 1.0, \"bus_difference_spread\": 3.6000000000000014, \"route_group\": \"medium\", \"max_trip_hrs\": 1.28, \"max_trip_route_group\": 1.28, \"below_cutoff\": 20, \"pct_below_cutoff\": 1.0, \"name\": \"City of Redondo Beach\", \"caltrans_district\": \"07 - Los Angeles\", \"drmt_organization_name\": null, \"route_name\": \"Beach Cities Transit 109 Northbound\", \"cutoff2\": 30, \"cutoff\": 0}, {\"calitp_itp_id\": 260, \"trip_key\": -7343359897475375849, \"trip_id\": \"BCT109 NB_MF.T13\", \"shape_id\": \"BCT109 NB\", \"route_id\": \"BCT109 NB\", \"service_hours\": 1.28, \"trip_first_departure_ts\": 54600, \"trip_last_arrival_ts\": 59220, \"departure_hour\": 15, \"time_of_day\": \"Midday\", \"p25\": 1.28, \"p50\": 1.28, \"p75\": 1.28, \"p50_trip\": 1, \"fastest_trip\": 0, \"car_duration_hours\": 0.83, \"competitive_route\": 1, \"bus_multiplier\": 1.54, \"bus_difference\": 27.0, \"num_trips\": 20, \"num_competitive\": 20, \"pct_trips_competitive\": 1.0, \"bus_difference_spread\": 3.6000000000000014, \"route_group\": \"medium\", \"max_trip_hrs\": 1.28, \"max_trip_route_group\": 1.28, \"below_cutoff\": 20, \"pct_below_cutoff\": 1.0, \"name\": \"City of Redondo Beach\", \"caltrans_district\": \"07 - Los Angeles\", \"drmt_organization_name\": null, \"route_name\": \"Beach Cities Transit 109 Northbound\", \"cutoff2\": 30, \"cutoff\": 0}, {\"calitp_itp_id\": 260, \"trip_key\": -5831490653988659755, \"trip_id\": \"BCT109 NB_MF.T18\", \"shape_id\": \"BCT109 NB\", \"route_id\": \"BCT109 NB\", \"service_hours\": 1.28, \"trip_first_departure_ts\": 68100, \"trip_last_arrival_ts\": 72720, \"departure_hour\": 18, \"time_of_day\": \"PM Peak\", \"p25\": 1.28, \"p50\": 1.28, \"p75\": 1.28, \"p50_trip\": 1, \"fastest_trip\": 0, \"car_duration_hours\": 0.83, \"competitive_route\": 1, \"bus_multiplier\": 1.54, \"bus_difference\": 27.0, \"num_trips\": 20, \"num_competitive\": 20, \"pct_trips_competitive\": 1.0, \"bus_difference_spread\": 3.6000000000000014, \"route_group\": \"medium\", \"max_trip_hrs\": 1.28, \"max_trip_route_group\": 1.28, \"below_cutoff\": 20, \"pct_below_cutoff\": 1.0, \"name\": \"City of Redondo Beach\", \"caltrans_district\": \"07 - Los Angeles\", \"drmt_organization_name\": null, \"route_name\": \"Beach Cities Transit 109 Northbound\", \"cutoff2\": 30, \"cutoff\": 0}, {\"calitp_itp_id\": 260, \"trip_key\": -6459932311807863698, \"trip_id\": \"BCT109 NB_MF.T09\", \"shape_id\": \"BCT109 NB\", \"route_id\": \"BCT109 NB\", \"service_hours\": 1.28, \"trip_first_departure_ts\": 42600, \"trip_last_arrival_ts\": 47220, \"departure_hour\": 11, \"time_of_day\": \"Midday\", \"p25\": 1.28, \"p50\": 1.28, \"p75\": 1.28, \"p50_trip\": 1, \"fastest_trip\": 0, \"car_duration_hours\": 0.83, \"competitive_route\": 1, \"bus_multiplier\": 1.54, \"bus_difference\": 27.0, \"num_trips\": 20, \"num_competitive\": 20, \"pct_trips_competitive\": 1.0, \"bus_difference_spread\": 3.6000000000000014, \"route_group\": \"medium\", \"max_trip_hrs\": 1.28, \"max_trip_route_group\": 1.28, \"below_cutoff\": 20, \"pct_below_cutoff\": 1.0, \"name\": \"City of Redondo Beach\", \"caltrans_district\": \"07 - Los Angeles\", \"drmt_organization_name\": null, \"route_name\": \"Beach Cities Transit 109 Northbound\", \"cutoff2\": 30, \"cutoff\": 0}, {\"calitp_itp_id\": 260, \"trip_key\": 8751971087300252775, \"trip_id\": \"BCT109 NB_MF.T15\", \"shape_id\": \"BCT109 NB\", \"route_id\": \"BCT109 NB\", \"service_hours\": 1.28, \"trip_first_departure_ts\": 60300, \"trip_last_arrival_ts\": 64920, \"departure_hour\": 16, \"time_of_day\": \"Midday\", \"p25\": 1.28, \"p50\": 1.28, \"p75\": 1.28, \"p50_trip\": 1, \"fastest_trip\": 0, \"car_duration_hours\": 0.83, \"competitive_route\": 1, \"bus_multiplier\": 1.54, \"bus_difference\": 27.0, \"num_trips\": 20, \"num_competitive\": 20, \"pct_trips_competitive\": 1.0, \"bus_difference_spread\": 3.6000000000000014, \"route_group\": \"medium\", \"max_trip_hrs\": 1.28, \"max_trip_route_group\": 1.28, \"below_cutoff\": 20, \"pct_below_cutoff\": 1.0, \"name\": \"City of Redondo Beach\", \"caltrans_district\": \"07 - Los Angeles\", \"drmt_organization_name\": null, \"route_name\": \"Beach Cities Transit 109 Northbound\", \"cutoff2\": 30, \"cutoff\": 0}, {\"calitp_itp_id\": 260, \"trip_key\": 650064259460204168, \"trip_id\": \"BCT109 NB_MF.T06\", \"shape_id\": \"BCT109 NB\", \"route_id\": \"BCT109 NB\", \"service_hours\": 1.28, \"trip_first_departure_ts\": 34500, \"trip_last_arrival_ts\": 39120, \"departure_hour\": 9, \"time_of_day\": \"AM Peak\", \"p25\": 1.28, \"p50\": 1.28, \"p75\": 1.28, \"p50_trip\": 1, \"fastest_trip\": 0, \"car_duration_hours\": 0.83, \"competitive_route\": 1, \"bus_multiplier\": 1.54, \"bus_difference\": 27.0, \"num_trips\": 20, \"num_competitive\": 20, \"pct_trips_competitive\": 1.0, \"bus_difference_spread\": 3.6000000000000014, \"route_group\": \"medium\", \"max_trip_hrs\": 1.28, \"max_trip_route_group\": 1.28, \"below_cutoff\": 20, \"pct_below_cutoff\": 1.0, \"name\": \"City of Redondo Beach\", \"caltrans_district\": \"07 - Los Angeles\", \"drmt_organization_name\": null, \"route_name\": \"Beach Cities Transit 109 Northbound\", \"cutoff2\": 30, \"cutoff\": 0}, {\"calitp_itp_id\": 260, \"trip_key\": -1941445509852013822, \"trip_id\": \"BCT109 NB_MF.T16\", \"shape_id\": \"BCT109 NB\", \"route_id\": \"BCT109 NB\", \"service_hours\": 1.28, \"trip_first_departure_ts\": 63000, \"trip_last_arrival_ts\": 67620, \"departure_hour\": 17, \"time_of_day\": \"PM Peak\", \"p25\": 1.28, \"p50\": 1.28, \"p75\": 1.28, \"p50_trip\": 1, \"fastest_trip\": 0, \"car_duration_hours\": 0.83, \"competitive_route\": 1, \"bus_multiplier\": 1.54, \"bus_difference\": 27.0, \"num_trips\": 20, \"num_competitive\": 20, \"pct_trips_competitive\": 1.0, \"bus_difference_spread\": 3.6000000000000014, \"route_group\": \"medium\", \"max_trip_hrs\": 1.28, \"max_trip_route_group\": 1.28, \"below_cutoff\": 20, \"pct_below_cutoff\": 1.0, \"name\": \"City of Redondo Beach\", \"caltrans_district\": \"07 - Los Angeles\", \"drmt_organization_name\": null, \"route_name\": \"Beach Cities Transit 109 Northbound\", \"cutoff2\": 30, \"cutoff\": 0}, {\"calitp_itp_id\": 260, \"trip_key\": 3723404524443184751, \"trip_id\": \"BCT109 NB_MF.T08\", \"shape_id\": \"BCT109 NB\", \"route_id\": \"BCT109 NB\", \"service_hours\": 1.28, \"trip_first_departure_ts\": 40200, \"trip_last_arrival_ts\": 44820, \"departure_hour\": 11, \"time_of_day\": \"Midday\", \"p25\": 1.28, \"p50\": 1.28, \"p75\": 1.28, \"p50_trip\": 1, \"fastest_trip\": 0, \"car_duration_hours\": 0.83, \"competitive_route\": 1, \"bus_multiplier\": 1.54, \"bus_difference\": 27.0, \"num_trips\": 20, \"num_competitive\": 20, \"pct_trips_competitive\": 1.0, \"bus_difference_spread\": 3.6000000000000014, \"route_group\": \"medium\", \"max_trip_hrs\": 1.28, \"max_trip_route_group\": 1.28, \"below_cutoff\": 20, \"pct_below_cutoff\": 1.0, \"name\": \"City of Redondo Beach\", \"caltrans_district\": \"07 - Los Angeles\", \"drmt_organization_name\": null, \"route_name\": \"Beach Cities Transit 109 Northbound\", \"cutoff2\": 30, \"cutoff\": 0}, {\"calitp_itp_id\": 260, \"trip_key\": -7769911764283861301, \"trip_id\": \"BCT109 SB_MF.T05\", \"shape_id\": \"BCT109 SB\", \"route_id\": \"BCT109 SB\", \"service_hours\": 1.33, \"trip_first_departure_ts\": 32100, \"trip_last_arrival_ts\": 36900, \"departure_hour\": 8, \"time_of_day\": \"AM Peak\", \"p25\": 1.33, \"p50\": 1.33, \"p75\": 1.33, \"p50_trip\": 1, \"fastest_trip\": 0, \"car_duration_hours\": 1.1, \"competitive_route\": 1, \"bus_multiplier\": 1.21, \"bus_difference\": 13.8, \"num_trips\": 20, \"num_competitive\": 20, \"pct_trips_competitive\": 1.0, \"bus_difference_spread\": 0.0, \"route_group\": \"medium\", \"max_trip_hrs\": 1.33, \"max_trip_route_group\": 1.33, \"below_cutoff\": 20, \"pct_below_cutoff\": 1.0, \"name\": \"City of Redondo Beach\", \"caltrans_district\": \"07 - Los Angeles\", \"drmt_organization_name\": null, \"route_name\": \"Beach Cities Transit 109 Southbound\", \"cutoff2\": 30, \"cutoff\": 0}, {\"calitp_itp_id\": 260, \"trip_key\": 8823191204635919285, \"trip_id\": \"BCT109 SB_MF.T17\", \"shape_id\": \"BCT109 SB\", \"route_id\": \"BCT109 SB\", \"service_hours\": 1.33, \"trip_first_departure_ts\": 65700, \"trip_last_arrival_ts\": 70500, \"departure_hour\": 18, \"time_of_day\": \"PM Peak\", \"p25\": 1.33, \"p50\": 1.33, \"p75\": 1.33, \"p50_trip\": 1, \"fastest_trip\": 0, \"car_duration_hours\": 1.1, \"competitive_route\": 1, \"bus_multiplier\": 1.21, \"bus_difference\": 13.8, \"num_trips\": 20, \"num_competitive\": 20, \"pct_trips_competitive\": 1.0, \"bus_difference_spread\": 0.0, \"route_group\": \"medium\", \"max_trip_hrs\": 1.33, \"max_trip_route_group\": 1.33, \"below_cutoff\": 20, \"pct_below_cutoff\": 1.0, \"name\": \"City of Redondo Beach\", \"caltrans_district\": \"07 - Los Angeles\", \"drmt_organization_name\": null, \"route_name\": \"Beach Cities Transit 109 Southbound\", \"cutoff2\": 30, \"cutoff\": 0}, {\"calitp_itp_id\": 260, \"trip_key\": 9206665950355318065, \"trip_id\": \"BCT109 SB_MF.T16\", \"shape_id\": \"BCT109 SB\", \"route_id\": \"BCT109 SB\", \"service_hours\": 1.33, \"trip_first_departure_ts\": 62700, \"trip_last_arrival_ts\": 67500, \"departure_hour\": 17, \"time_of_day\": \"PM Peak\", \"p25\": 1.33, \"p50\": 1.33, \"p75\": 1.33, \"p50_trip\": 1, \"fastest_trip\": 0, \"car_duration_hours\": 1.1, \"competitive_route\": 1, \"bus_multiplier\": 1.21, \"bus_difference\": 13.8, \"num_trips\": 20, \"num_competitive\": 20, \"pct_trips_competitive\": 1.0, \"bus_difference_spread\": 0.0, \"route_group\": \"medium\", \"max_trip_hrs\": 1.33, \"max_trip_route_group\": 1.33, \"below_cutoff\": 20, \"pct_below_cutoff\": 1.0, \"name\": \"City of Redondo Beach\", \"caltrans_district\": \"07 - Los Angeles\", \"drmt_organization_name\": null, \"route_name\": \"Beach Cities Transit 109 Southbound\", \"cutoff2\": 30, \"cutoff\": 0}, {\"calitp_itp_id\": 260, \"trip_key\": -4499201128805887979, \"trip_id\": \"BCT109 SB_MF.T20\", \"shape_id\": \"BCT109 SB\", \"route_id\": \"BCT109 SB\", \"service_hours\": 1.33, \"trip_first_departure_ts\": 73500, \"trip_last_arrival_ts\": 78300, \"departure_hour\": 20, \"time_of_day\": \"Owl Service\", \"p25\": 1.33, \"p50\": 1.33, \"p75\": 1.33, \"p50_trip\": 1, \"fastest_trip\": 1, \"car_duration_hours\": 1.1, \"competitive_route\": 1, \"bus_multiplier\": 1.21, \"bus_difference\": 13.8, \"num_trips\": 20, \"num_competitive\": 20, \"pct_trips_competitive\": 1.0, \"bus_difference_spread\": 0.0, \"route_group\": \"medium\", \"max_trip_hrs\": 1.33, \"max_trip_route_group\": 1.33, \"below_cutoff\": 20, \"pct_below_cutoff\": 1.0, \"name\": \"City of Redondo Beach\", \"caltrans_district\": \"07 - Los Angeles\", \"drmt_organization_name\": null, \"route_name\": \"Beach Cities Transit 109 Southbound\", \"cutoff2\": 30, \"cutoff\": 0}, {\"calitp_itp_id\": 260, \"trip_key\": -950805648954300900, \"trip_id\": \"BCT109 SB_MF.T15\", \"shape_id\": \"BCT109 SB\", \"route_id\": \"BCT109 SB\", \"service_hours\": 1.33, \"trip_first_departure_ts\": 60000, \"trip_last_arrival_ts\": 64800, \"departure_hour\": 16, \"time_of_day\": \"Midday\", \"p25\": 1.33, \"p50\": 1.33, \"p75\": 1.33, \"p50_trip\": 1, \"fastest_trip\": 0, \"car_duration_hours\": 1.1, \"competitive_route\": 1, \"bus_multiplier\": 1.21, \"bus_difference\": 13.8, \"num_trips\": 20, \"num_competitive\": 20, \"pct_trips_competitive\": 1.0, \"bus_difference_spread\": 0.0, \"route_group\": \"medium\", \"max_trip_hrs\": 1.33, \"max_trip_route_group\": 1.33, \"below_cutoff\": 20, \"pct_below_cutoff\": 1.0, \"name\": \"City of Redondo Beach\", \"caltrans_district\": \"07 - Los Angeles\", \"drmt_organization_name\": null, \"route_name\": \"Beach Cities Transit 109 Southbound\", \"cutoff2\": 30, \"cutoff\": 0}, {\"calitp_itp_id\": 260, \"trip_key\": 5483605554865067177, \"trip_id\": \"BCT109 SB_MF.T01\", \"shape_id\": \"BCT109 SB\", \"route_id\": \"BCT109 SB\", \"service_hours\": 1.33, \"trip_first_departure_ts\": 21300, \"trip_last_arrival_ts\": 26100, \"departure_hour\": 5, \"time_of_day\": \"Owl Service\", \"p25\": 1.33, \"p50\": 1.33, \"p75\": 1.33, \"p50_trip\": 1, \"fastest_trip\": 0, \"car_duration_hours\": 1.1, \"competitive_route\": 1, \"bus_multiplier\": 1.21, \"bus_difference\": 13.8, \"num_trips\": 20, \"num_competitive\": 20, \"pct_trips_competitive\": 1.0, \"bus_difference_spread\": 0.0, \"route_group\": \"medium\", \"max_trip_hrs\": 1.33, \"max_trip_route_group\": 1.33, \"below_cutoff\": 20, \"pct_below_cutoff\": 1.0, \"name\": \"City of Redondo Beach\", \"caltrans_district\": \"07 - Los Angeles\", \"drmt_organization_name\": null, \"route_name\": \"Beach Cities Transit 109 Southbound\", \"cutoff2\": 30, \"cutoff\": 0}, {\"calitp_itp_id\": 260, \"trip_key\": -4780138184419908344, \"trip_id\": \"BCT109 SB_MF.T14\", \"shape_id\": \"BCT109 SB\", \"route_id\": \"BCT109 SB\", \"service_hours\": 1.33, \"trip_first_departure_ts\": 57600, \"trip_last_arrival_ts\": 62400, \"departure_hour\": 16, \"time_of_day\": \"Midday\", \"p25\": 1.33, \"p50\": 1.33, \"p75\": 1.33, \"p50_trip\": 1, \"fastest_trip\": 0, \"car_duration_hours\": 1.1, \"competitive_route\": 1, \"bus_multiplier\": 1.21, \"bus_difference\": 13.8, \"num_trips\": 20, \"num_competitive\": 20, \"pct_trips_competitive\": 1.0, \"bus_difference_spread\": 0.0, \"route_group\": \"medium\", \"max_trip_hrs\": 1.33, \"max_trip_route_group\": 1.33, \"below_cutoff\": 20, \"pct_below_cutoff\": 1.0, \"name\": \"City of Redondo Beach\", \"caltrans_district\": \"07 - Los Angeles\", \"drmt_organization_name\": null, \"route_name\": \"Beach Cities Transit 109 Southbound\", \"cutoff2\": 30, \"cutoff\": 0}, {\"calitp_itp_id\": 260, \"trip_key\": -4425915001469547984, \"trip_id\": \"BCT109 SB_MF.T03\", \"shape_id\": \"BCT109 SB\", \"route_id\": \"BCT109 SB\", \"service_hours\": 1.33, \"trip_first_departure_ts\": 26400, \"trip_last_arrival_ts\": 31200, \"departure_hour\": 7, \"time_of_day\": \"AM Peak\", \"p25\": 1.33, \"p50\": 1.33, \"p75\": 1.33, \"p50_trip\": 1, \"fastest_trip\": 0, \"car_duration_hours\": 1.1, \"competitive_route\": 1, \"bus_multiplier\": 1.21, \"bus_difference\": 13.8, \"num_trips\": 20, \"num_competitive\": 20, \"pct_trips_competitive\": 1.0, \"bus_difference_spread\": 0.0, \"route_group\": \"medium\", \"max_trip_hrs\": 1.33, \"max_trip_route_group\": 1.33, \"below_cutoff\": 20, \"pct_below_cutoff\": 1.0, \"name\": \"City of Redondo Beach\", \"caltrans_district\": \"07 - Los Angeles\", \"drmt_organization_name\": null, \"route_name\": \"Beach Cities Transit 109 Southbound\", \"cutoff2\": 30, \"cutoff\": 0}, {\"calitp_itp_id\": 260, \"trip_key\": -6387492083207951242, \"trip_id\": \"BCT109 SB_MF.T11\", \"shape_id\": \"BCT109 SB\", \"route_id\": \"BCT109 SB\", \"service_hours\": 1.33, \"trip_first_departure_ts\": 49200, \"trip_last_arrival_ts\": 54000, \"departure_hour\": 13, \"time_of_day\": \"Midday\", \"p25\": 1.33, \"p50\": 1.33, \"p75\": 1.33, \"p50_trip\": 1, \"fastest_trip\": 0, \"car_duration_hours\": 1.1, \"competitive_route\": 1, \"bus_multiplier\": 1.21, \"bus_difference\": 13.8, \"num_trips\": 20, \"num_competitive\": 20, \"pct_trips_competitive\": 1.0, \"bus_difference_spread\": 0.0, \"route_group\": \"medium\", \"max_trip_hrs\": 1.33, \"max_trip_route_group\": 1.33, \"below_cutoff\": 20, \"pct_below_cutoff\": 1.0, \"name\": \"City of Redondo Beach\", \"caltrans_district\": \"07 - Los Angeles\", \"drmt_organization_name\": null, \"route_name\": \"Beach Cities Transit 109 Southbound\", \"cutoff2\": 30, \"cutoff\": 0}, {\"calitp_itp_id\": 260, \"trip_key\": -3213125366714638313, \"trip_id\": \"BCT109 SB_MF.T13\", \"shape_id\": \"BCT109 SB\", \"route_id\": \"BCT109 SB\", \"service_hours\": 1.33, \"trip_first_departure_ts\": 54900, \"trip_last_arrival_ts\": 59700, \"departure_hour\": 15, \"time_of_day\": \"Midday\", \"p25\": 1.33, \"p50\": 1.33, \"p75\": 1.33, \"p50_trip\": 1, \"fastest_trip\": 0, \"car_duration_hours\": 1.1, \"competitive_route\": 1, \"bus_multiplier\": 1.21, \"bus_difference\": 13.8, \"num_trips\": 20, \"num_competitive\": 20, \"pct_trips_competitive\": 1.0, \"bus_difference_spread\": 0.0, \"route_group\": \"medium\", \"max_trip_hrs\": 1.33, \"max_trip_route_group\": 1.33, \"below_cutoff\": 20, \"pct_below_cutoff\": 1.0, \"name\": \"City of Redondo Beach\", \"caltrans_district\": \"07 - Los Angeles\", \"drmt_organization_name\": null, \"route_name\": \"Beach Cities Transit 109 Southbound\", \"cutoff2\": 30, \"cutoff\": 0}, {\"calitp_itp_id\": 260, \"trip_key\": 3809111814313801124, \"trip_id\": \"BCT109 SB_MF.T07\", \"shape_id\": \"BCT109 SB\", \"route_id\": \"BCT109 SB\", \"service_hours\": 1.33, \"trip_first_departure_ts\": 37200, \"trip_last_arrival_ts\": 42000, \"departure_hour\": 10, \"time_of_day\": \"Midday\", \"p25\": 1.33, \"p50\": 1.33, \"p75\": 1.33, \"p50_trip\": 1, \"fastest_trip\": 0, \"car_duration_hours\": 1.1, \"competitive_route\": 1, \"bus_multiplier\": 1.21, \"bus_difference\": 13.8, \"num_trips\": 20, \"num_competitive\": 20, \"pct_trips_competitive\": 1.0, \"bus_difference_spread\": 0.0, \"route_group\": \"medium\", \"max_trip_hrs\": 1.33, \"max_trip_route_group\": 1.33, \"below_cutoff\": 20, \"pct_below_cutoff\": 1.0, \"name\": \"City of Redondo Beach\", \"caltrans_district\": \"07 - Los Angeles\", \"drmt_organization_name\": null, \"route_name\": \"Beach Cities Transit 109 Southbound\", \"cutoff2\": 30, \"cutoff\": 0}, {\"calitp_itp_id\": 260, \"trip_key\": -8946219895800285709, \"trip_id\": \"BCT109 SB_MF.T12\", \"shape_id\": \"BCT109 SB\", \"route_id\": \"BCT109 SB\", \"service_hours\": 1.33, \"trip_first_departure_ts\": 51900, \"trip_last_arrival_ts\": 56700, \"departure_hour\": 14, \"time_of_day\": \"Midday\", \"p25\": 1.33, \"p50\": 1.33, \"p75\": 1.33, \"p50_trip\": 1, \"fastest_trip\": 0, \"car_duration_hours\": 1.1, \"competitive_route\": 1, \"bus_multiplier\": 1.21, \"bus_difference\": 13.8, \"num_trips\": 20, \"num_competitive\": 20, \"pct_trips_competitive\": 1.0, \"bus_difference_spread\": 0.0, \"route_group\": \"medium\", \"max_trip_hrs\": 1.33, \"max_trip_route_group\": 1.33, \"below_cutoff\": 20, \"pct_below_cutoff\": 1.0, \"name\": \"City of Redondo Beach\", \"caltrans_district\": \"07 - Los Angeles\", \"drmt_organization_name\": null, \"route_name\": \"Beach Cities Transit 109 Southbound\", \"cutoff2\": 30, \"cutoff\": 0}, {\"calitp_itp_id\": 260, \"trip_key\": 8591784665566234450, \"trip_id\": \"BCT109 SB_MF.T08\", \"shape_id\": \"BCT109 SB\", \"route_id\": \"BCT109 SB\", \"service_hours\": 1.33, \"trip_first_departure_ts\": 39900, \"trip_last_arrival_ts\": 44700, \"departure_hour\": 11, \"time_of_day\": \"Midday\", \"p25\": 1.33, \"p50\": 1.33, \"p75\": 1.33, \"p50_trip\": 1, \"fastest_trip\": 0, \"car_duration_hours\": 1.1, \"competitive_route\": 1, \"bus_multiplier\": 1.21, \"bus_difference\": 13.8, \"num_trips\": 20, \"num_competitive\": 20, \"pct_trips_competitive\": 1.0, \"bus_difference_spread\": 0.0, \"route_group\": \"medium\", \"max_trip_hrs\": 1.33, \"max_trip_route_group\": 1.33, \"below_cutoff\": 20, \"pct_below_cutoff\": 1.0, \"name\": \"City of Redondo Beach\", \"caltrans_district\": \"07 - Los Angeles\", \"drmt_organization_name\": null, \"route_name\": \"Beach Cities Transit 109 Southbound\", \"cutoff2\": 30, \"cutoff\": 0}, {\"calitp_itp_id\": 260, \"trip_key\": -5692302563158925297, \"trip_id\": \"BCT109 SB_MF.T02\", \"shape_id\": \"BCT109 SB\", \"route_id\": \"BCT109 SB\", \"service_hours\": 1.33, \"trip_first_departure_ts\": 24000, \"trip_last_arrival_ts\": 28800, \"departure_hour\": 6, \"time_of_day\": \"Owl Service\", \"p25\": 1.33, \"p50\": 1.33, \"p75\": 1.33, \"p50_trip\": 1, \"fastest_trip\": 0, \"car_duration_hours\": 1.1, \"competitive_route\": 1, \"bus_multiplier\": 1.21, \"bus_difference\": 13.8, \"num_trips\": 20, \"num_competitive\": 20, \"pct_trips_competitive\": 1.0, \"bus_difference_spread\": 0.0, \"route_group\": \"medium\", \"max_trip_hrs\": 1.33, \"max_trip_route_group\": 1.33, \"below_cutoff\": 20, \"pct_below_cutoff\": 1.0, \"name\": \"City of Redondo Beach\", \"caltrans_district\": \"07 - Los Angeles\", \"drmt_organization_name\": null, \"route_name\": \"Beach Cities Transit 109 Southbound\", \"cutoff2\": 30, \"cutoff\": 0}, {\"calitp_itp_id\": 260, \"trip_key\": -6167030381298569725, \"trip_id\": \"BCT109 SB_MF.T04\", \"shape_id\": \"BCT109 SB\", \"route_id\": \"BCT109 SB\", \"service_hours\": 1.33, \"trip_first_departure_ts\": 29100, \"trip_last_arrival_ts\": 33900, \"departure_hour\": 8, \"time_of_day\": \"AM Peak\", \"p25\": 1.33, \"p50\": 1.33, \"p75\": 1.33, \"p50_trip\": 1, \"fastest_trip\": 0, \"car_duration_hours\": 1.1, \"competitive_route\": 1, \"bus_multiplier\": 1.21, \"bus_difference\": 13.8, \"num_trips\": 20, \"num_competitive\": 20, \"pct_trips_competitive\": 1.0, \"bus_difference_spread\": 0.0, \"route_group\": \"medium\", \"max_trip_hrs\": 1.33, \"max_trip_route_group\": 1.33, \"below_cutoff\": 20, \"pct_below_cutoff\": 1.0, \"name\": \"City of Redondo Beach\", \"caltrans_district\": \"07 - Los Angeles\", \"drmt_organization_name\": null, \"route_name\": \"Beach Cities Transit 109 Southbound\", \"cutoff2\": 30, \"cutoff\": 0}, {\"calitp_itp_id\": 260, \"trip_key\": -5704407478966822574, \"trip_id\": \"BCT109 SB_MF.T19\", \"shape_id\": \"BCT109 SB\", \"route_id\": \"BCT109 SB\", \"service_hours\": 1.33, \"trip_first_departure_ts\": 70800, \"trip_last_arrival_ts\": 75600, \"departure_hour\": 19, \"time_of_day\": \"PM Peak\", \"p25\": 1.33, \"p50\": 1.33, \"p75\": 1.33, \"p50_trip\": 1, \"fastest_trip\": 0, \"car_duration_hours\": 1.1, \"competitive_route\": 1, \"bus_multiplier\": 1.21, \"bus_difference\": 13.8, \"num_trips\": 20, \"num_competitive\": 20, \"pct_trips_competitive\": 1.0, \"bus_difference_spread\": 0.0, \"route_group\": \"medium\", \"max_trip_hrs\": 1.33, \"max_trip_route_group\": 1.33, \"below_cutoff\": 20, \"pct_below_cutoff\": 1.0, \"name\": \"City of Redondo Beach\", \"caltrans_district\": \"07 - Los Angeles\", \"drmt_organization_name\": null, \"route_name\": \"Beach Cities Transit 109 Southbound\", \"cutoff2\": 30, \"cutoff\": 0}, {\"calitp_itp_id\": 260, \"trip_key\": 6970404091750010637, \"trip_id\": \"BCT109 SB_MF.T06\", \"shape_id\": \"BCT109 SB\", \"route_id\": \"BCT109 SB\", \"service_hours\": 1.33, \"trip_first_departure_ts\": 34800, \"trip_last_arrival_ts\": 39600, \"departure_hour\": 9, \"time_of_day\": \"AM Peak\", \"p25\": 1.33, \"p50\": 1.33, \"p75\": 1.33, \"p50_trip\": 1, \"fastest_trip\": 0, \"car_duration_hours\": 1.1, \"competitive_route\": 1, \"bus_multiplier\": 1.21, \"bus_difference\": 13.8, \"num_trips\": 20, \"num_competitive\": 20, \"pct_trips_competitive\": 1.0, \"bus_difference_spread\": 0.0, \"route_group\": \"medium\", \"max_trip_hrs\": 1.33, \"max_trip_route_group\": 1.33, \"below_cutoff\": 20, \"pct_below_cutoff\": 1.0, \"name\": \"City of Redondo Beach\", \"caltrans_district\": \"07 - Los Angeles\", \"drmt_organization_name\": null, \"route_name\": \"Beach Cities Transit 109 Southbound\", \"cutoff2\": 30, \"cutoff\": 0}, {\"calitp_itp_id\": 260, \"trip_key\": 5016011737382582511, \"trip_id\": \"BCT109 SB_MF.T10\", \"shape_id\": \"BCT109 SB\", \"route_id\": \"BCT109 SB\", \"service_hours\": 1.33, \"trip_first_departure_ts\": 46800, \"trip_last_arrival_ts\": 51600, \"departure_hour\": 13, \"time_of_day\": \"Midday\", \"p25\": 1.33, \"p50\": 1.33, \"p75\": 1.33, \"p50_trip\": 1, \"fastest_trip\": 0, \"car_duration_hours\": 1.1, \"competitive_route\": 1, \"bus_multiplier\": 1.21, \"bus_difference\": 13.8, \"num_trips\": 20, \"num_competitive\": 20, \"pct_trips_competitive\": 1.0, \"bus_difference_spread\": 0.0, \"route_group\": \"medium\", \"max_trip_hrs\": 1.33, \"max_trip_route_group\": 1.33, \"below_cutoff\": 20, \"pct_below_cutoff\": 1.0, \"name\": \"City of Redondo Beach\", \"caltrans_district\": \"07 - Los Angeles\", \"drmt_organization_name\": null, \"route_name\": \"Beach Cities Transit 109 Southbound\", \"cutoff2\": 30, \"cutoff\": 0}, {\"calitp_itp_id\": 260, \"trip_key\": 167940946600347386, \"trip_id\": \"BCT109 SB_MF.T18\", \"shape_id\": \"BCT109 SB\", \"route_id\": \"BCT109 SB\", \"service_hours\": 1.33, \"trip_first_departure_ts\": 68400, \"trip_last_arrival_ts\": 73200, \"departure_hour\": 19, \"time_of_day\": \"PM Peak\", \"p25\": 1.33, \"p50\": 1.33, \"p75\": 1.33, \"p50_trip\": 1, \"fastest_trip\": 0, \"car_duration_hours\": 1.1, \"competitive_route\": 1, \"bus_multiplier\": 1.21, \"bus_difference\": 13.8, \"num_trips\": 20, \"num_competitive\": 20, \"pct_trips_competitive\": 1.0, \"bus_difference_spread\": 0.0, \"route_group\": \"medium\", \"max_trip_hrs\": 1.33, \"max_trip_route_group\": 1.33, \"below_cutoff\": 20, \"pct_below_cutoff\": 1.0, \"name\": \"City of Redondo Beach\", \"caltrans_district\": \"07 - Los Angeles\", \"drmt_organization_name\": null, \"route_name\": \"Beach Cities Transit 109 Southbound\", \"cutoff2\": 30, \"cutoff\": 0}, {\"calitp_itp_id\": 260, \"trip_key\": 1469278410914527932, \"trip_id\": \"BCT109 SB_MF.T09\", \"shape_id\": \"BCT109 SB\", \"route_id\": \"BCT109 SB\", \"service_hours\": 1.33, \"trip_first_departure_ts\": 44100, \"trip_last_arrival_ts\": 48900, \"departure_hour\": 12, \"time_of_day\": \"Midday\", \"p25\": 1.33, \"p50\": 1.33, \"p75\": 1.33, \"p50_trip\": 1, \"fastest_trip\": 0, \"car_duration_hours\": 1.1, \"competitive_route\": 1, \"bus_multiplier\": 1.21, \"bus_difference\": 13.8, \"num_trips\": 20, \"num_competitive\": 20, \"pct_trips_competitive\": 1.0, \"bus_difference_spread\": 0.0, \"route_group\": \"medium\", \"max_trip_hrs\": 1.33, \"max_trip_route_group\": 1.33, \"below_cutoff\": 20, \"pct_below_cutoff\": 1.0, \"name\": \"City of Redondo Beach\", \"caltrans_district\": \"07 - Los Angeles\", \"drmt_organization_name\": null, \"route_name\": \"Beach Cities Transit 109 Southbound\", \"cutoff2\": 30, \"cutoff\": 0}]}}, {\"mode\": \"vega-lite\"});\n",
       "</script>"
      ],
      "text/plain": [
       "alt.FacetChart(...)"
      ]
     },
     "metadata": {},
     "output_type": "display_data"
    },
    {
     "data": {
      "text/html": [
       "<h4>Route Stats</h4>"
      ],
      "text/plain": [
       "<IPython.core.display.HTML object>"
      ]
     },
     "metadata": {},
     "output_type": "display_data"
    },
    {
     "data": {
      "text/html": [
       "<style type=\"text/css\">\n",
       "#T_3438e th {\n",
       "  text-align: center;\n",
       "}\n",
       "#T_3438e_row0_col0, #T_3438e_row0_col1, #T_3438e_row1_col0, #T_3438e_row1_col1 {\n",
       "  text-align: left;\n",
       "}\n",
       "#T_3438e_row0_col2, #T_3438e_row0_col3, #T_3438e_row0_col5, #T_3438e_row1_col2, #T_3438e_row1_col3, #T_3438e_row1_col5 {\n",
       "  text-align: center;\n",
       "}\n",
       "</style>\n",
       "<table id=\"T_3438e\">\n",
       "  <thead>\n",
       "    <tr>\n",
       "      <th id=\"T_3438e_level0_col0\" class=\"col_heading level0 col0\" >Route ID</th>\n",
       "      <th id=\"T_3438e_level0_col1\" class=\"col_heading level0 col1\" >Route Name</th>\n",
       "      <th id=\"T_3438e_level0_col2\" class=\"col_heading level0 col2\" ># trips</th>\n",
       "      <th id=\"T_3438e_level0_col3\" class=\"col_heading level0 col3\" >Daily Avg Freq (trips per hr)</th>\n",
       "      <th id=\"T_3438e_level0_col4\" class=\"col_heading level0 col4\" >25th, 50th, 75th ptile (hrs)</th>\n",
       "      <th id=\"T_3438e_level0_col5\" class=\"col_heading level0 col5\" >PM Peak Avg Freq (trips per hr)</th>\n",
       "    </tr>\n",
       "  </thead>\n",
       "  <tbody>\n",
       "    <tr>\n",
       "      <td id=\"T_3438e_row0_col0\" class=\"data row0 col0\" >BCT109 NB</td>\n",
       "      <td id=\"T_3438e_row0_col1\" class=\"data row0 col1\" >Beach Cities Transit 109 Northbound</td>\n",
       "      <td id=\"T_3438e_row0_col2\" class=\"data row0 col2\" >20</td>\n",
       "      <td id=\"T_3438e_row0_col3\" class=\"data row0 col3\" >0.83</td>\n",
       "      <td id=\"T_3438e_row0_col4\" class=\"data row0 col4\" >1.28, 1.28, 1.28</td>\n",
       "      <td id=\"T_3438e_row0_col5\" class=\"data row0 col5\" >1.33</td>\n",
       "    </tr>\n",
       "    <tr>\n",
       "      <td id=\"T_3438e_row1_col0\" class=\"data row1 col0\" >BCT109 SB</td>\n",
       "      <td id=\"T_3438e_row1_col1\" class=\"data row1 col1\" >Beach Cities Transit 109 Southbound</td>\n",
       "      <td id=\"T_3438e_row1_col2\" class=\"data row1 col2\" >20</td>\n",
       "      <td id=\"T_3438e_row1_col3\" class=\"data row1 col3\" >0.83</td>\n",
       "      <td id=\"T_3438e_row1_col4\" class=\"data row1 col4\" >1.33, 1.33, 1.33</td>\n",
       "      <td id=\"T_3438e_row1_col5\" class=\"data row1 col5\" >1.33</td>\n",
       "    </tr>\n",
       "  </tbody>\n",
       "</table>\n"
      ],
      "text/plain": [
       "<IPython.core.display.HTML object>"
      ]
     },
     "metadata": {},
     "output_type": "display_data"
    }
   ],
   "source": [
    "route_group = \"medium\"\n",
    "try:\n",
    "    display_charts_for_route_group(df, route_group)\n",
    "except:\n",
    "    print(\"No routes meet this criteria.\")"
   ]
  },
  {
   "cell_type": "markdown",
   "id": "124b76d0-886c-4d03-92ac-f1bda3cda182",
   "metadata": {
    "papermill": {
     "duration": 0.028719,
     "end_time": "2022-05-12T19:40:52.013329",
     "exception": false,
     "start_time": "2022-05-12T19:40:51.984610",
     "status": "completed"
    },
    "tags": []
   },
   "source": [
    "### Long Routes (> 1.5 hrs)"
   ]
  },
  {
   "cell_type": "code",
   "execution_count": 16,
   "id": "ddc81b19-4c45-4c81-8b7a-5e0f394aa7a3",
   "metadata": {
    "execution": {
     "iopub.execute_input": "2022-05-12T19:40:52.057750Z",
     "iopub.status.busy": "2022-05-12T19:40:52.057449Z",
     "iopub.status.idle": "2022-05-12T19:40:52.075419Z",
     "shell.execute_reply": "2022-05-12T19:40:52.074482Z"
    },
    "jupyter": {
     "source_hidden": true
    },
    "papermill": {
     "duration": 0.04259,
     "end_time": "2022-05-12T19:40:52.077306",
     "exception": false,
     "start_time": "2022-05-12T19:40:52.034716",
     "status": "completed"
    },
    "tags": [
     "remove_input"
    ]
   },
   "outputs": [
    {
     "name": "stdout",
     "output_type": "stream",
     "text": [
      "No routes meet this criteria.\n"
     ]
    }
   ],
   "source": [
    "route_group = \"long\"\n",
    "try:\n",
    "    display_charts_for_route_group(df, route_group)\n",
    "except:\n",
    "    print(\"No routes meet this criteria.\")"
   ]
  },
  {
   "cell_type": "markdown",
   "id": "ace75b5f-0442-4fbe-aebd-6c3a13ae13a7",
   "metadata": {
    "papermill": {
     "duration": 0.021331,
     "end_time": "2022-05-12T19:40:52.120523",
     "exception": false,
     "start_time": "2022-05-12T19:40:52.099192",
     "status": "completed"
    },
    "tags": []
   },
   "source": [
    "### GTFS Real-Time Speedmaps"
   ]
  },
  {
   "cell_type": "code",
   "execution_count": 17,
   "id": "a0a114a1-e975-4027-9daf-50029f5ef59f",
   "metadata": {
    "execution": {
     "iopub.execute_input": "2022-05-12T19:40:52.170071Z",
     "iopub.status.busy": "2022-05-12T19:40:52.169791Z",
     "iopub.status.idle": "2022-05-12T19:40:52.194983Z",
     "shell.execute_reply": "2022-05-12T19:40:52.194042Z"
    },
    "jupyter": {
     "source_hidden": true
    },
    "papermill": {
     "duration": 0.054286,
     "end_time": "2022-05-12T19:40:52.196954",
     "exception": false,
     "start_time": "2022-05-12T19:40:52.142668",
     "status": "completed"
    },
    "tags": [
     "remove_input"
    ]
   },
   "outputs": [
    {
     "data": {
      "text/html": [
       "<a href=https://analysis.calitp.org/rt/district_07-los-angeles/speedmaps__itp_id_260.html>GTFS RT speedmaps here.</a>"
      ],
      "text/plain": [
       "<IPython.core.display.HTML object>"
      ]
     },
     "metadata": {},
     "output_type": "display_data"
    }
   ],
   "source": [
    "RT_SITE_YAML = \"../portfolio/sites/rt.yml\"\n",
    "\n",
    "# Grab list of ITP IDs with GTFS RT speedmaps\n",
    "rt_itp_id = deploy_portfolio_yaml.check_if_rt_data_available(RT_SITE_YAML)\n",
    "\n",
    "# Construct the URL \n",
    "RT_URL = (\"https://analysis.calitp.org/rt/\"\n",
    "          f\"district_{district_number}-{district_name}/\"\n",
    "          f\"speedmaps__itp_id_{itp_id}.html\"\n",
    "         ) \n",
    "\n",
    "# If this ITP ID is found in RT analysis, give URL to that operator in analysis.calitp.org\n",
    "if itp_id in rt_itp_id:\n",
    "    display(HTML(f'''<a href={RT_URL}>GTFS RT speedmaps here.</a>'''))\n",
    "\n",
    "else:\n",
    "    display(HTML(\"No GTFS RT data available.\"))"
   ]
  },
  {
   "cell_type": "code",
   "execution_count": null,
   "id": "5b680565-2230-4f2e-817c-718fad48d64c",
   "metadata": {
    "jupyter": {
     "source_hidden": true
    },
    "papermill": {
     "duration": 0.021141,
     "end_time": "2022-05-12T19:40:52.242641",
     "exception": false,
     "start_time": "2022-05-12T19:40:52.221500",
     "status": "completed"
    },
    "tags": [
     "remove_input"
    ]
   },
   "outputs": [],
   "source": []
  }
 ],
 "metadata": {
  "kernelspec": {
   "display_name": "Python 3 (ipykernel)",
   "language": "python",
   "name": "python3"
  },
  "language_info": {
   "codemirror_mode": {
    "name": "ipython",
    "version": 3
   },
   "file_extension": ".py",
   "mimetype": "text/x-python",
   "name": "python",
   "nbconvert_exporter": "python",
   "pygments_lexer": "ipython3",
   "version": "3.9.12"
  },
  "papermill": {
   "default_parameters": {},
   "duration": 24.331275,
   "end_time": "2022-05-12T19:40:53.488170",
   "environment_variables": {},
   "exception": null,
   "input_path": "bus_service_increase/competitive-parallel-routes.ipynb",
   "output_path": "portfolio/parallel_corridors/district_07-los-angeles/30__competitive-parallel-routes__district_07-los-angeles__itp_id_260.ipynb",
   "parameters": {
    "district": "07 - Los Angeles",
    "itp_id": 260
   },
   "start_time": "2022-05-12T19:40:29.156895",
   "version": "2.3.4"
  }
 },
 "nbformat": 4,
 "nbformat_minor": 5
}