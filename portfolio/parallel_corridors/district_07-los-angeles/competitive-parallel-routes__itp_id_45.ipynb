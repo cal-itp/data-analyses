{
 "cells": [
  {
   "cell_type": "code",
   "execution_count": 1,
   "id": "95d00857-6a20-4529-a519-2cc7182928a9",
   "metadata": {
    "execution": {
     "iopub.execute_input": "2022-05-09T17:00:01.374661Z",
     "iopub.status.busy": "2022-05-09T17:00:01.373377Z",
     "iopub.status.idle": "2022-05-09T17:00:10.617357Z",
     "shell.execute_reply": "2022-05-09T17:00:10.615477Z"
    },
    "jupyter": {
     "source_hidden": true
    },
    "papermill": {
     "duration": 9.263287,
     "end_time": "2022-05-09T17:00:10.620912",
     "exception": false,
     "start_time": "2022-05-09T17:00:01.357625",
     "status": "completed"
    },
    "tags": [
     "remove_input"
    ]
   },
   "outputs": [],
   "source": [
    "%%capture\n",
    "import warnings\n",
    "warnings.filterwarnings('ignore')\n",
    "\n",
    "import altair as alt\n",
    "import calitp.magics\n",
    "import geopandas as gpd\n",
    "import intake\n",
    "import pandas as pd\n",
    "\n",
    "from IPython.display import display, Markdown, HTML\n",
    "\n",
    "import parallel_corridors_utils\n",
    "from shared_utils import styleguide\n",
    "import deploy_portfolio_yaml\n",
    "\n",
    "catalog = intake.open_catalog(\"./*.yml\")\n",
    "alt.renderers.enable(\"html\")"
   ]
  },
  {
   "cell_type": "code",
   "execution_count": 2,
   "id": "8af2a0c1-f3da-408d-9bea-11d9fbf8695d",
   "metadata": {
    "execution": {
     "iopub.execute_input": "2022-05-09T17:00:10.652273Z",
     "iopub.status.busy": "2022-05-09T17:00:10.650695Z",
     "iopub.status.idle": "2022-05-09T17:00:10.656501Z",
     "shell.execute_reply": "2022-05-09T17:00:10.655704Z"
    },
    "jupyter": {
     "source_hidden": true
    },
    "papermill": {
     "duration": 0.023843,
     "end_time": "2022-05-09T17:00:10.658680",
     "exception": false,
     "start_time": "2022-05-09T17:00:10.634837",
     "status": "completed"
    },
    "tags": [
     "parameters",
     "remove_input"
    ]
   },
   "outputs": [],
   "source": [
    "# parameters cell\n",
    "itp_id = 182"
   ]
  },
  {
   "cell_type": "code",
   "execution_count": 3,
   "id": "01c792c0",
   "metadata": {
    "execution": {
     "iopub.execute_input": "2022-05-09T17:00:10.687730Z",
     "iopub.status.busy": "2022-05-09T17:00:10.686530Z",
     "iopub.status.idle": "2022-05-09T17:00:10.692878Z",
     "shell.execute_reply": "2022-05-09T17:00:10.691758Z"
    },
    "jupyter": {
     "source_hidden": true
    },
    "papermill": {
     "duration": 0.024048,
     "end_time": "2022-05-09T17:00:10.695279",
     "exception": false,
     "start_time": "2022-05-09T17:00:10.671231",
     "status": "completed"
    },
    "tags": [
     "injected-parameters",
     "remove_input"
    ]
   },
   "outputs": [],
   "source": [
    "# Parameters\n",
    "district = \"07 - Los Angeles\"\n",
    "itp_id = 45\n"
   ]
  },
  {
   "cell_type": "code",
   "execution_count": 4,
   "id": "9582aaf4-79ff-412a-b248-8d8d693ebd4f",
   "metadata": {
    "execution": {
     "iopub.execute_input": "2022-05-09T17:00:10.730852Z",
     "iopub.status.busy": "2022-05-09T17:00:10.729592Z",
     "iopub.status.idle": "2022-05-09T17:00:12.133324Z",
     "shell.execute_reply": "2022-05-09T17:00:12.132281Z"
    },
    "jupyter": {
     "source_hidden": true
    },
    "papermill": {
     "duration": 1.420516,
     "end_time": "2022-05-09T17:00:12.135898",
     "exception": false,
     "start_time": "2022-05-09T17:00:10.715382",
     "status": "completed"
    },
    "tags": [
     "remove_input"
    ]
   },
   "outputs": [],
   "source": [
    "df = catalog.competitive_route_variability.read()\n",
    "\n",
    "df = (df[(df.calitp_itp_id == itp_id) & \n",
    "         (df.route_group.notna())]\n",
    "      .reset_index(drop=True)\n",
    "     )\n",
    "\n",
    "\n",
    "if itp_id == 182:\n",
    "    df = df.assign(\n",
    "        route_id = df.route_id.str.replace('-13153', '').astype(int)\n",
    "    )"
   ]
  },
  {
   "cell_type": "code",
   "execution_count": 5,
   "id": "33ac4b06-f647-4dce-a625-8f2c1b37cc60",
   "metadata": {
    "execution": {
     "iopub.execute_input": "2022-05-09T17:00:12.165789Z",
     "iopub.status.busy": "2022-05-09T17:00:12.165011Z",
     "iopub.status.idle": "2022-05-09T17:00:12.174173Z",
     "shell.execute_reply": "2022-05-09T17:00:12.173059Z"
    },
    "jupyter": {
     "source_hidden": true
    },
    "papermill": {
     "duration": 0.028589,
     "end_time": "2022-05-09T17:00:12.177056",
     "exception": false,
     "start_time": "2022-05-09T17:00:12.148467",
     "status": "completed"
    },
    "tags": [
     "remove_input"
    ]
   },
   "outputs": [],
   "source": [
    "%%capture_parameters\n",
    "operator_name = df.name.iloc[0]\n",
    "district_number = f\"{df.caltrans_district.iloc[0].split('-')[0].strip()}\"\n",
    "district_name = f\"{df.caltrans_district.iloc[0].split('-')[1].strip().lower().replace(' ', '-')}\"\n",
    "\n",
    "itp_id, operator_name, district_number, district_name"
   ]
  },
  {
   "cell_type": "markdown",
   "id": "65bc6f5c-8348-42ee-b2dd-52057c406852",
   "metadata": {
    "papermill": {
     "duration": 0.016831,
     "end_time": "2022-05-09T17:00:12.207727",
     "exception": false,
     "start_time": "2022-05-09T17:00:12.190896",
     "status": "completed"
    },
    "tags": []
   },
   "source": [
    "# City of Burbank (ITP ID: 45)"
   ]
  },
  {
   "cell_type": "code",
   "execution_count": 6,
   "id": "a689c1ab-2c6c-4831-8d64-897f5986f571",
   "metadata": {
    "execution": {
     "iopub.execute_input": "2022-05-09T17:00:12.236409Z",
     "iopub.status.busy": "2022-05-09T17:00:12.236039Z",
     "iopub.status.idle": "2022-05-09T17:00:12.243185Z",
     "shell.execute_reply": "2022-05-09T17:00:12.242295Z"
    },
    "jupyter": {
     "source_hidden": true
    },
    "papermill": {
     "duration": 0.025782,
     "end_time": "2022-05-09T17:00:12.246846",
     "exception": false,
     "start_time": "2022-05-09T17:00:12.221064",
     "status": "completed"
    },
    "tags": [
     "remove_input"
    ]
   },
   "outputs": [
    {
     "data": {
      "text/html": [
       "<h1>Competitive & Parallel Routes</h1>"
      ],
      "text/plain": [
       "<IPython.core.display.HTML object>"
      ]
     },
     "metadata": {},
     "output_type": "display_data"
    }
   ],
   "source": [
    "display(HTML(\"<h1>Competitive & Parallel Routes</h1>\")) "
   ]
  },
  {
   "cell_type": "code",
   "execution_count": 7,
   "id": "2cb4d8d5-4760-40e4-85b1-cb833d8bb648",
   "metadata": {
    "execution": {
     "iopub.execute_input": "2022-05-09T17:00:12.277210Z",
     "iopub.status.busy": "2022-05-09T17:00:12.276454Z",
     "iopub.status.idle": "2022-05-09T17:00:24.726091Z",
     "shell.execute_reply": "2022-05-09T17:00:24.725405Z"
    },
    "jupyter": {
     "source_hidden": true
    },
    "papermill": {
     "duration": 12.468043,
     "end_time": "2022-05-09T17:00:24.728491",
     "exception": false,
     "start_time": "2022-05-09T17:00:12.260448",
     "status": "completed"
    },
    "tags": [
     "remove_input"
    ]
   },
   "outputs": [],
   "source": [
    "# Grab parameters for narrative text - clean up formatting here \n",
    "district = df.caltrans_district.iloc[0]\n",
    "formatted_date = pd.to_datetime(parallel_corridors_utils.SELECTED_DATE).strftime('%m-%d-%Y')\n",
    "\n",
    "PCT_COMPETITIVE_THRESHOLD = 0.75\n",
    "\n",
    "stats = parallel_corridors_utils.operator_parallel_competitive_stats(\n",
    "    itp_id, PCT_COMPETITIVE_THRESHOLD)\n",
    "\n",
    "pct_parallel = round(stats['parallel_routes'] / stats['num_routes'] * 100,1 )\n",
    "pct_competitive =  round(stats['competitive_routes'] / stats['num_routes'] * 100,1 )"
   ]
  },
  {
   "cell_type": "markdown",
   "id": "ab667928-5274-4490-82d9-4c39293209a4",
   "metadata": {
    "papermill": {
     "duration": 0.012811,
     "end_time": "2022-05-09T17:00:24.754819",
     "exception": false,
     "start_time": "2022-05-09T17:00:24.742008",
     "status": "completed"
    },
    "tags": []
   },
   "source": [
    "## Quick Stats"
   ]
  },
  {
   "cell_type": "code",
   "execution_count": 8,
   "id": "0416509d-dc62-4165-b62e-64f8b26e8b8e",
   "metadata": {
    "execution": {
     "iopub.execute_input": "2022-05-09T17:00:24.782219Z",
     "iopub.status.busy": "2022-05-09T17:00:24.781666Z",
     "iopub.status.idle": "2022-05-09T17:00:24.787820Z",
     "shell.execute_reply": "2022-05-09T17:00:24.787271Z"
    },
    "jupyter": {
     "source_hidden": true
    },
    "papermill": {
     "duration": 0.022247,
     "end_time": "2022-05-09T17:00:24.789587",
     "exception": false,
     "start_time": "2022-05-09T17:00:24.767340",
     "status": "completed"
    },
    "tags": [
     "remove_input"
    ]
   },
   "outputs": [
    {
     "data": {
      "text/markdown": [
       "**Bus routes in service**: 3 <br>**Parallel routes** to State Highway Network (SHN): 2 routes (66.7%)<br>**Competitive routes** against car travel: 2 routes (66.7%)"
      ],
      "text/plain": [
       "<IPython.core.display.Markdown object>"
      ]
     },
     "metadata": {},
     "output_type": "display_data"
    }
   ],
   "source": [
    "display(\n",
    "    Markdown(\n",
    "        f\"**Bus routes in service**: {stats['num_routes']} \"\n",
    "        \"<br>**Parallel routes** to State Highway Network (SHN): \"\n",
    "        f\"{stats['parallel_routes']} routes ({pct_parallel}%)\"\n",
    "        f\"<br>**Competitive routes** against car travel: {stats['competitive_routes']} routes ({pct_competitive}%)\"\n",
    "    )\n",
    ")"
   ]
  },
  {
   "cell_type": "code",
   "execution_count": 9,
   "id": "f9d6ab58-f0ee-460c-b6de-657490e1f386",
   "metadata": {
    "execution": {
     "iopub.execute_input": "2022-05-09T17:00:24.823855Z",
     "iopub.status.busy": "2022-05-09T17:00:24.823303Z",
     "iopub.status.idle": "2022-05-09T17:00:24.832679Z",
     "shell.execute_reply": "2022-05-09T17:00:24.831909Z"
    },
    "jupyter": {
     "source_hidden": true
    },
    "papermill": {
     "duration": 0.028588,
     "end_time": "2022-05-09T17:00:24.835080",
     "exception": false,
     "start_time": "2022-05-09T17:00:24.806492",
     "status": "completed"
    },
    "tags": [
     "remove_input"
    ]
   },
   "outputs": [],
   "source": [
    "def set_yaxis_range(df, y_col):\n",
    "    Y_MIN = df[y_col].min()\n",
    "    Y_MAX = df[y_col].max()\n",
    "    \n",
    "    return Y_MIN, Y_MAX\n",
    "\n",
    "# Rather than set it according to the operator, which can vary,\n",
    "# just use set thresholds for each group\n",
    "diff_cutoffs = parallel_corridors_utils.diff_cutoffs\n",
    "\n",
    "PCT_TRIPS_BELOW_CUTOFF = 0.25\n",
    "\n",
    "def top15_routes(df, route_group):\n",
    "    df2 = (df[df.route_group==route_group])\n",
    "    # Set a cut-off to enable sorting, where most of the trips are \n",
    "    # below a certain time difference cut-off, \n",
    "    # grab top 15 routes where majority of trips are below that cut-off \n",
    "\n",
    "    route_cols = [\"calitp_itp_id\", \"route_id\"]\n",
    "\n",
    "    df2 = df2.assign(\n",
    "        below_cutoff = df2.apply(lambda x: 1 if x.bus_difference <= diff_cutoffs[route_group] \n",
    "                                 else 0, axis=1),\n",
    "        num_trips = df2.groupby(route_cols)[\"trip_id\"].transform(\"count\")\n",
    "    )\n",
    "\n",
    "    df2[\"below_cutoff\"] = df2.groupby(route_cols)[\"below_cutoff\"].transform(\"sum\")\n",
    "    df2[\"pct_below_cutoff\"] = df2.below_cutoff.divide(df2.num_trips)\n",
    "\n",
    "    # At least half the trips are below that cut-off\n",
    "    # but show 15 max, otherwise, show less, since these won't be as interesting to operators\n",
    "    df3 = (df2[df2.pct_below_cutoff >= PCT_TRIPS_BELOW_CUTOFF]\n",
    "           .sort_values([\"calitp_itp_id\", \"below_cutoff\", \n",
    "                         \"pct_below_cutoff\", \"route_id\"],\n",
    "                        ascending = [True, False, False, True]\n",
    "                       )\n",
    "           .drop_duplicates(subset=[\"calitp_itp_id\", \"route_id\"])\n",
    "          ).head(15)\n",
    "    \n",
    "    return list(df3.route_id)"
   ]
  },
  {
   "cell_type": "code",
   "execution_count": 10,
   "id": "cf36d559-3349-4144-8086-8ac9ce937a5a",
   "metadata": {
    "execution": {
     "iopub.execute_input": "2022-05-09T17:00:24.865303Z",
     "iopub.status.busy": "2022-05-09T17:00:24.864703Z",
     "iopub.status.idle": "2022-05-09T17:00:24.870460Z",
     "shell.execute_reply": "2022-05-09T17:00:24.869642Z"
    },
    "jupyter": {
     "source_hidden": true
    },
    "papermill": {
     "duration": 0.022372,
     "end_time": "2022-05-09T17:00:24.872448",
     "exception": false,
     "start_time": "2022-05-09T17:00:24.850076",
     "status": "completed"
    },
    "tags": [
     "remove_input"
    ]
   },
   "outputs": [],
   "source": [
    "def caption_with_cutoff(cutoff):\n",
    "    sentence = (\n",
    "        f\"<br>These are routes that have **at least {int(PCT_TRIPS_BELOW_CUTOFF*100)}% \"\n",
    "        \"of their trips take no more than an \"\n",
    "        f\"additional {cutoff} min** compared to a car \"\n",
    "        \"(up to 15 routes) are shown.\"\n",
    "        \"<br>Within each route group, routes are sorted in descending order \"\n",
    "        \"by % competitive trips and # trips below the additional time cut-off.\"\n",
    "    )\n",
    "    return sentence\n",
    "\n",
    "CAPTIONS_DICT = {\n",
    "    \"short\": caption_with_cutoff(diff_cutoffs['short']),\n",
    "    \"medium\": caption_with_cutoff(diff_cutoffs['medium']),\n",
    "    \"long\": caption_with_cutoff(diff_cutoffs['long']),\n",
    "}"
   ]
  },
  {
   "cell_type": "code",
   "execution_count": 11,
   "id": "e4306d58-6944-47e9-afef-5d5b524c751f",
   "metadata": {
    "execution": {
     "iopub.execute_input": "2022-05-09T17:00:24.906926Z",
     "iopub.status.busy": "2022-05-09T17:00:24.906298Z",
     "iopub.status.idle": "2022-05-09T17:00:24.913927Z",
     "shell.execute_reply": "2022-05-09T17:00:24.913215Z"
    },
    "jupyter": {
     "source_hidden": true
    },
    "papermill": {
     "duration": 0.030099,
     "end_time": "2022-05-09T17:00:24.916082",
     "exception": false,
     "start_time": "2022-05-09T17:00:24.885983",
     "status": "completed"
    },
    "tags": [
     "remove_input"
    ]
   },
   "outputs": [],
   "source": [
    "def setup_charts(df, PCT_COMPETITIVE_THRESHOLD, route_group):\n",
    "    # Set up df for charting (cut-off at some threshold to show most competitive routes)\n",
    "    plot_me = (df[df.pct_trips_competitive > PCT_COMPETITIVE_THRESHOLD]\n",
    "           .drop(columns = \"geometry\")\n",
    "    )\n",
    "    \n",
    "    y_col1 = \"bus_multiplier\"\n",
    "    Y_MIN1, Y_MAX1 = set_yaxis_range(plot_me, y_col1)\n",
    "\n",
    "    y_col2 = \"bus_difference\"\n",
    "    Y_MIN2, Y_MAX2 = set_yaxis_range(plot_me, y_col2)\n",
    "     \n",
    "    subset_routes = top15_routes(plot_me, route_group)\n",
    "    \n",
    "    multiplier_chart = parallel_corridors_utils.make_stripplot(\n",
    "        plot_me[plot_me.route_id.isin(subset_routes)], \n",
    "        y_col1, Y_MIN = Y_MIN1, Y_MAX = Y_MAX1\n",
    "    )\n",
    "    \n",
    "    difference_chart = parallel_corridors_utils.make_stripplot(\n",
    "        plot_me[plot_me.route_id.isin(subset_routes)], \n",
    "        y_col2, Y_MIN = Y_MIN2, Y_MAX = Y_MAX2\n",
    "    )\n",
    "    \n",
    "    return subset_routes, multiplier_chart, difference_chart            "
   ]
  },
  {
   "cell_type": "code",
   "execution_count": 12,
   "id": "33a710e8-504c-4942-aa75-ff69f216956e",
   "metadata": {
    "execution": {
     "iopub.execute_input": "2022-05-09T17:00:24.946045Z",
     "iopub.status.busy": "2022-05-09T17:00:24.945501Z",
     "iopub.status.idle": "2022-05-09T17:00:24.951367Z",
     "shell.execute_reply": "2022-05-09T17:00:24.950691Z"
    },
    "jupyter": {
     "source_hidden": true
    },
    "papermill": {
     "duration": 0.023055,
     "end_time": "2022-05-09T17:00:24.953361",
     "exception": false,
     "start_time": "2022-05-09T17:00:24.930306",
     "status": "completed"
    },
    "tags": [
     "remove_input"
    ]
   },
   "outputs": [],
   "source": [
    "def display_charts_for_route_group(df, route_group):    \n",
    "    subset_routes, mult, diff  = setup_charts(df, PCT_COMPETITIVE_THRESHOLD, route_group)\n",
    "\n",
    "    if len(subset_routes) > 0:\n",
    "        display(Markdown(f\"{CAPTIONS_DICT[route_group]}\"))\n",
    "\n",
    "        display(mult)\n",
    "        display(diff)"
   ]
  },
  {
   "cell_type": "markdown",
   "id": "525f9b38-072b-46d1-96a8-1aa4b038357c",
   "metadata": {
    "papermill": {
     "duration": 0.013349,
     "end_time": "2022-05-09T17:00:24.979938",
     "exception": false,
     "start_time": "2022-05-09T17:00:24.966589",
     "status": "completed"
    },
    "tags": []
   },
   "source": [
    "## Viable Competitive Routes\n",
    "### Short Routes (< 1 hr)"
   ]
  },
  {
   "cell_type": "code",
   "execution_count": 13,
   "id": "57f7084c-2cf7-45c6-ba08-1609e0bd6ca5",
   "metadata": {
    "execution": {
     "iopub.execute_input": "2022-05-09T17:00:25.018442Z",
     "iopub.status.busy": "2022-05-09T17:00:25.017814Z",
     "iopub.status.idle": "2022-05-09T17:00:25.249783Z",
     "shell.execute_reply": "2022-05-09T17:00:25.248736Z"
    },
    "jupyter": {
     "source_hidden": true
    },
    "papermill": {
     "duration": 0.256844,
     "end_time": "2022-05-09T17:00:25.251947",
     "exception": false,
     "start_time": "2022-05-09T17:00:24.995103",
     "status": "completed"
    },
    "tags": [
     "remove_input"
    ]
   },
   "outputs": [
    {
     "data": {
      "text/markdown": [
       "<br>These are routes that have **at least 25% of their trips take no more than an additional 20 min** compared to a car (up to 15 routes) are shown.<br>Within each route group, routes are sorted in descending order by % competitive trips and # trips below the additional time cut-off."
      ],
      "text/plain": [
       "<IPython.core.display.Markdown object>"
      ]
     },
     "metadata": {},
     "output_type": "display_data"
    },
    {
     "data": {
      "text/html": [
       "\n",
       "<div id=\"altair-viz-accaea13a05741059953365b2dc64e86\"></div>\n",
       "<script type=\"text/javascript\">\n",
       "  var VEGA_DEBUG = (typeof VEGA_DEBUG == \"undefined\") ? {} : VEGA_DEBUG;\n",
       "  (function(spec, embedOpt){\n",
       "    let outputDiv = document.currentScript.previousElementSibling;\n",
       "    if (outputDiv.id !== \"altair-viz-accaea13a05741059953365b2dc64e86\") {\n",
       "      outputDiv = document.getElementById(\"altair-viz-accaea13a05741059953365b2dc64e86\");\n",
       "    }\n",
       "    const paths = {\n",
       "      \"vega\": \"https://cdn.jsdelivr.net/npm//vega@5?noext\",\n",
       "      \"vega-lib\": \"https://cdn.jsdelivr.net/npm//vega-lib?noext\",\n",
       "      \"vega-lite\": \"https://cdn.jsdelivr.net/npm//vega-lite@4.17.0?noext\",\n",
       "      \"vega-embed\": \"https://cdn.jsdelivr.net/npm//vega-embed@6?noext\",\n",
       "    };\n",
       "\n",
       "    function maybeLoadScript(lib, version) {\n",
       "      var key = `${lib.replace(\"-\", \"\")}_version`;\n",
       "      return (VEGA_DEBUG[key] == version) ?\n",
       "        Promise.resolve(paths[lib]) :\n",
       "        new Promise(function(resolve, reject) {\n",
       "          var s = document.createElement('script');\n",
       "          document.getElementsByTagName(\"head\")[0].appendChild(s);\n",
       "          s.async = true;\n",
       "          s.onload = () => {\n",
       "            VEGA_DEBUG[key] = version;\n",
       "            return resolve(paths[lib]);\n",
       "          };\n",
       "          s.onerror = () => reject(`Error loading script: ${paths[lib]}`);\n",
       "          s.src = paths[lib];\n",
       "        });\n",
       "    }\n",
       "\n",
       "    function showError(err) {\n",
       "      outputDiv.innerHTML = `<div class=\"error\" style=\"color:red;\">${err}</div>`;\n",
       "      throw err;\n",
       "    }\n",
       "\n",
       "    function displayChart(vegaEmbed) {\n",
       "      vegaEmbed(outputDiv, spec, embedOpt)\n",
       "        .catch(err => showError(`Javascript Error: ${err.message}<br>This usually means there's a typo in your chart specification. See the javascript console for the full traceback.`));\n",
       "    }\n",
       "\n",
       "    if(typeof define === \"function\" && define.amd) {\n",
       "      requirejs.config({paths});\n",
       "      require([\"vega-embed\"], displayChart, err => showError(`Error loading script: ${err.message}`));\n",
       "    } else {\n",
       "      maybeLoadScript(\"vega\", \"5\")\n",
       "        .then(() => maybeLoadScript(\"vega-lite\", \"4.17.0\"))\n",
       "        .then(() => maybeLoadScript(\"vega-embed\", \"6\"))\n",
       "        .catch(showError)\n",
       "        .then(() => displayChart(vegaEmbed));\n",
       "    }\n",
       "  })({\"config\": {\"view\": {\"continuousWidth\": 400, \"continuousHeight\": 300, \"stroke\": null}, \"facet\": {\"spacing\": 0}}, \"data\": {\"name\": \"data-7920f62505b3951bdfecaac33737f137\"}, \"facet\": {\"column\": {\"field\": \"route_id\", \"sort\": [\"3164\"], \"title\": \"Route ID\", \"type\": \"nominal\"}}, \"spec\": {\"layer\": [{\"mark\": \"rule\", \"encoding\": {\"color\": {\"value\": \"black\"}, \"y\": {\"field\": \"cutoff\", \"type\": \"quantitative\"}}, \"selection\": {\"selector001\": {\"type\": \"interval\", \"bind\": \"scales\", \"encodings\": [\"x\", \"y\"]}}}, {\"mark\": {\"type\": \"point\", \"opacity\": 0.65, \"size\": 12, \"strokeWidth\": 1.1}, \"encoding\": {\"color\": {\"field\": \"time_of_day\", \"scale\": {\"range\": [\"#136C97\", \"#E16B26\", \"#F6BF16\", \"#00896B\", \"#7790A3\", \"#5B559C\"]}, \"sort\": [\"AM Peak\", \"Midday\", \"PM Peak\", \"Owl Service\"], \"title\": \"Time of Day\", \"type\": \"nominal\"}, \"tooltip\": [{\"field\": \"route_id\", \"type\": \"nominal\"}, {\"field\": \"trip_id\", \"type\": \"nominal\"}, {\"field\": \"service_hours\", \"type\": \"quantitative\"}, {\"field\": \"car_duration_hours\", \"type\": \"quantitative\"}, {\"field\": \"bus_multiplier\", \"type\": \"quantitative\"}, {\"field\": \"bus_difference\", \"type\": \"quantitative\"}, {\"field\": \"num_trips\", \"type\": \"quantitative\"}, {\"field\": \"num_competitive\", \"type\": \"quantitative\"}, {\"field\": \"pct_trips_competitive\", \"type\": \"quantitative\"}, {\"field\": \"p25\", \"type\": \"quantitative\"}, {\"field\": \"p50\", \"type\": \"quantitative\"}, {\"field\": \"p75\", \"type\": \"quantitative\"}], \"x\": {\"axis\": {\"grid\": false, \"labels\": false, \"ticks\": true, \"values\": [0]}, \"field\": \"jitter\", \"scale\": {}, \"title\": null, \"type\": \"quantitative\"}, \"y\": {\"field\": \"bus_multiplier\", \"scale\": {\"domain\": [-0.25, 2.5]}, \"title\": \"Ratio of Bus to Car Travel Time\", \"type\": \"quantitative\"}}, \"transform\": [{\"calculate\": \"sqrt(-2*log(random()))*cos(2*PI*random())\", \"as\": \"jitter\"}], \"width\": 50}, {\"layer\": [{\"mark\": {\"type\": \"point\", \"opacity\": 0.6, \"size\": 20, \"strokeWidth\": 1.3}, \"encoding\": {\"color\": {\"value\": \"#323434\"}, \"y\": {\"field\": \"bus_multiplier\", \"type\": \"quantitative\"}}, \"transform\": [{\"filter\": \"(datum.p50_trip === 1)\"}]}, {\"mark\": {\"type\": \"text\", \"align\": \"center\", \"baseline\": \"middle\"}, \"encoding\": {\"color\": {\"value\": \"black\"}, \"text\": {\"field\": \"pct_trips_competitive\", \"format\": \".0%\", \"type\": \"quantitative\"}, \"tooltip\": [{\"field\": \"route_id\", \"type\": \"nominal\"}, {\"field\": \"trip_id\", \"type\": \"nominal\"}, {\"field\": \"service_hours\", \"type\": \"quantitative\"}, {\"field\": \"car_duration_hours\", \"type\": \"quantitative\"}, {\"field\": \"bus_multiplier\", \"type\": \"quantitative\"}, {\"field\": \"bus_difference\", \"type\": \"quantitative\"}, {\"field\": \"num_trips\", \"type\": \"quantitative\"}, {\"field\": \"num_competitive\", \"type\": \"quantitative\"}, {\"field\": \"pct_trips_competitive\", \"type\": \"quantitative\"}, {\"field\": \"p25\", \"type\": \"quantitative\"}, {\"field\": \"p50\", \"type\": \"quantitative\"}, {\"field\": \"p75\", \"type\": \"quantitative\"}], \"x\": {\"value\": 30}, \"y\": {\"value\": 15}}, \"transform\": [{\"calculate\": \"sqrt(-2*log(random()))*cos(2*PI*random())\", \"as\": \"jitter\"}, {\"filter\": \"(datum.fastest_trip === 1)\"}]}]}]}, \"resolve\": {\"scale\": {\"y\": \"shared\"}}, \"title\": \"Ratio of Bus to Car Travel Time\", \"$schema\": \"https://vega.github.io/schema/vega-lite/v4.17.0.json\", \"datasets\": {\"data-7920f62505b3951bdfecaac33737f137\": [{\"calitp_itp_id\": 45, \"trip_key\": 6318246185118805377, \"trip_id\": \"402-1\", \"shape_id\": \"13903\", \"route_id\": \"3164\", \"service_hours\": 0.55, \"trip_first_departure_ts\": 23400, \"trip_last_arrival_ts\": 25380, \"departure_hour\": 6, \"time_of_day\": \"Owl Service\", \"p25\": 0.55, \"p50\": 0.55, \"p75\": 0.55, \"p50_trip\": 1, \"fastest_trip\": 0, \"car_duration_hours\": 0.47, \"competitive_route\": 1, \"bus_multiplier\": 1.17, \"bus_difference\": 4.8, \"num_trips\": 15, \"num_competitive\": 15, \"pct_trips_competitive\": 1.0, \"bus_difference_spread\": 0.0, \"route_group\": \"short\", \"max_trip_hrs\": 0.55, \"max_trip_route_group\": 0.88, \"name\": \"City of Burbank\", \"caltrans_district\": \"07 - Los Angeles\", \"drmt_organization_name\": null, \"cutoff2\": 20, \"cutoff\": 2}, {\"calitp_itp_id\": 45, \"trip_key\": -7853289907812336092, \"trip_id\": \"451-1\", \"shape_id\": \"13903\", \"route_id\": \"3164\", \"service_hours\": 0.55, \"trip_first_departure_ts\": 54000, \"trip_last_arrival_ts\": 55980, \"departure_hour\": 15, \"time_of_day\": \"Midday\", \"p25\": 0.55, \"p50\": 0.55, \"p75\": 0.55, \"p50_trip\": 1, \"fastest_trip\": 0, \"car_duration_hours\": 0.47, \"competitive_route\": 1, \"bus_multiplier\": 1.17, \"bus_difference\": 4.8, \"num_trips\": 15, \"num_competitive\": 15, \"pct_trips_competitive\": 1.0, \"bus_difference_spread\": 0.0, \"route_group\": \"short\", \"max_trip_hrs\": 0.55, \"max_trip_route_group\": 0.88, \"name\": \"City of Burbank\", \"caltrans_district\": \"07 - Los Angeles\", \"drmt_organization_name\": null, \"cutoff2\": 20, \"cutoff\": 2}, {\"calitp_itp_id\": 45, \"trip_key\": 1689551807670669501, \"trip_id\": \"401-2\", \"shape_id\": \"13903\", \"route_id\": \"3164\", \"service_hours\": 0.55, \"trip_first_departure_ts\": 25200, \"trip_last_arrival_ts\": 27180, \"departure_hour\": 7, \"time_of_day\": \"AM Peak\", \"p25\": 0.55, \"p50\": 0.55, \"p75\": 0.55, \"p50_trip\": 1, \"fastest_trip\": 0, \"car_duration_hours\": 0.47, \"competitive_route\": 1, \"bus_multiplier\": 1.17, \"bus_difference\": 4.8, \"num_trips\": 15, \"num_competitive\": 15, \"pct_trips_competitive\": 1.0, \"bus_difference_spread\": 0.0, \"route_group\": \"short\", \"max_trip_hrs\": 0.55, \"max_trip_route_group\": 0.88, \"name\": \"City of Burbank\", \"caltrans_district\": \"07 - Los Angeles\", \"drmt_organization_name\": null, \"cutoff2\": 20, \"cutoff\": 2}, {\"calitp_itp_id\": 45, \"trip_key\": 9040775932521604768, \"trip_id\": \"401-3\", \"shape_id\": \"13903\", \"route_id\": \"3164\", \"service_hours\": 0.55, \"trip_first_departure_ts\": 28800, \"trip_last_arrival_ts\": 30780, \"departure_hour\": 8, \"time_of_day\": \"AM Peak\", \"p25\": 0.55, \"p50\": 0.55, \"p75\": 0.55, \"p50_trip\": 1, \"fastest_trip\": 0, \"car_duration_hours\": 0.47, \"competitive_route\": 1, \"bus_multiplier\": 1.17, \"bus_difference\": 4.8, \"num_trips\": 15, \"num_competitive\": 15, \"pct_trips_competitive\": 1.0, \"bus_difference_spread\": 0.0, \"route_group\": \"short\", \"max_trip_hrs\": 0.55, \"max_trip_route_group\": 0.88, \"name\": \"City of Burbank\", \"caltrans_district\": \"07 - Los Angeles\", \"drmt_organization_name\": null, \"cutoff2\": 20, \"cutoff\": 2}, {\"calitp_itp_id\": 45, \"trip_key\": 1360733760580777787, \"trip_id\": \"451-4\", \"shape_id\": \"13903\", \"route_id\": \"3164\", \"service_hours\": 0.55, \"trip_first_departure_ts\": 64800, \"trip_last_arrival_ts\": 66780, \"departure_hour\": 18, \"time_of_day\": \"PM Peak\", \"p25\": 0.55, \"p50\": 0.55, \"p75\": 0.55, \"p50_trip\": 1, \"fastest_trip\": 1, \"car_duration_hours\": 0.47, \"competitive_route\": 1, \"bus_multiplier\": 1.17, \"bus_difference\": 4.8, \"num_trips\": 15, \"num_competitive\": 15, \"pct_trips_competitive\": 1.0, \"bus_difference_spread\": 0.0, \"route_group\": \"short\", \"max_trip_hrs\": 0.55, \"max_trip_route_group\": 0.88, \"name\": \"City of Burbank\", \"caltrans_district\": \"07 - Los Angeles\", \"drmt_organization_name\": null, \"cutoff2\": 20, \"cutoff\": 2}, {\"calitp_itp_id\": 45, \"trip_key\": 3734137046075893755, \"trip_id\": \"402-2\", \"shape_id\": \"13903\", \"route_id\": \"3164\", \"service_hours\": 0.55, \"trip_first_departure_ts\": 27000, \"trip_last_arrival_ts\": 28980, \"departure_hour\": 7, \"time_of_day\": \"AM Peak\", \"p25\": 0.55, \"p50\": 0.55, \"p75\": 0.55, \"p50_trip\": 1, \"fastest_trip\": 0, \"car_duration_hours\": 0.47, \"competitive_route\": 1, \"bus_multiplier\": 1.17, \"bus_difference\": 4.8, \"num_trips\": 15, \"num_competitive\": 15, \"pct_trips_competitive\": 1.0, \"bus_difference_spread\": 0.0, \"route_group\": \"short\", \"max_trip_hrs\": 0.55, \"max_trip_route_group\": 0.88, \"name\": \"City of Burbank\", \"caltrans_district\": \"07 - Los Angeles\", \"drmt_organization_name\": null, \"cutoff2\": 20, \"cutoff\": 2}, {\"calitp_itp_id\": 45, \"trip_key\": 5277074698108374086, \"trip_id\": \"452-3\", \"shape_id\": \"13903\", \"route_id\": \"3164\", \"service_hours\": 0.55, \"trip_first_departure_ts\": 63000, \"trip_last_arrival_ts\": 64980, \"departure_hour\": 17, \"time_of_day\": \"PM Peak\", \"p25\": 0.55, \"p50\": 0.55, \"p75\": 0.55, \"p50_trip\": 1, \"fastest_trip\": 0, \"car_duration_hours\": 0.47, \"competitive_route\": 1, \"bus_multiplier\": 1.17, \"bus_difference\": 4.8, \"num_trips\": 15, \"num_competitive\": 15, \"pct_trips_competitive\": 1.0, \"bus_difference_spread\": 0.0, \"route_group\": \"short\", \"max_trip_hrs\": 0.55, \"max_trip_route_group\": 0.88, \"name\": \"City of Burbank\", \"caltrans_district\": \"07 - Los Angeles\", \"drmt_organization_name\": null, \"cutoff2\": 20, \"cutoff\": 2}, {\"calitp_itp_id\": 45, \"trip_key\": 786329574861499582, \"trip_id\": \"451-2\", \"shape_id\": \"13903\", \"route_id\": \"3164\", \"service_hours\": 0.55, \"trip_first_departure_ts\": 57600, \"trip_last_arrival_ts\": 59580, \"departure_hour\": 16, \"time_of_day\": \"Midday\", \"p25\": 0.55, \"p50\": 0.55, \"p75\": 0.55, \"p50_trip\": 1, \"fastest_trip\": 0, \"car_duration_hours\": 0.47, \"competitive_route\": 1, \"bus_multiplier\": 1.17, \"bus_difference\": 4.8, \"num_trips\": 15, \"num_competitive\": 15, \"pct_trips_competitive\": 1.0, \"bus_difference_spread\": 0.0, \"route_group\": \"short\", \"max_trip_hrs\": 0.55, \"max_trip_route_group\": 0.88, \"name\": \"City of Burbank\", \"caltrans_district\": \"07 - Los Angeles\", \"drmt_organization_name\": null, \"cutoff2\": 20, \"cutoff\": 2}, {\"calitp_itp_id\": 45, \"trip_key\": 4450778079017283900, \"trip_id\": \"401-4\", \"shape_id\": \"13903\", \"route_id\": \"3164\", \"service_hours\": 0.55, \"trip_first_departure_ts\": 32400, \"trip_last_arrival_ts\": 34380, \"departure_hour\": 9, \"time_of_day\": \"AM Peak\", \"p25\": 0.55, \"p50\": 0.55, \"p75\": 0.55, \"p50_trip\": 1, \"fastest_trip\": 0, \"car_duration_hours\": 0.47, \"competitive_route\": 1, \"bus_multiplier\": 1.17, \"bus_difference\": 4.8, \"num_trips\": 15, \"num_competitive\": 15, \"pct_trips_competitive\": 1.0, \"bus_difference_spread\": 0.0, \"route_group\": \"short\", \"max_trip_hrs\": 0.55, \"max_trip_route_group\": 0.88, \"name\": \"City of Burbank\", \"caltrans_district\": \"07 - Los Angeles\", \"drmt_organization_name\": null, \"cutoff2\": 20, \"cutoff\": 2}, {\"calitp_itp_id\": 45, \"trip_key\": -3193598419664960209, \"trip_id\": \"452-2\", \"shape_id\": \"13903\", \"route_id\": \"3164\", \"service_hours\": 0.55, \"trip_first_departure_ts\": 59400, \"trip_last_arrival_ts\": 61380, \"departure_hour\": 16, \"time_of_day\": \"Midday\", \"p25\": 0.55, \"p50\": 0.55, \"p75\": 0.55, \"p50_trip\": 1, \"fastest_trip\": 0, \"car_duration_hours\": 0.47, \"competitive_route\": 1, \"bus_multiplier\": 1.17, \"bus_difference\": 4.8, \"num_trips\": 15, \"num_competitive\": 15, \"pct_trips_competitive\": 1.0, \"bus_difference_spread\": 0.0, \"route_group\": \"short\", \"max_trip_hrs\": 0.55, \"max_trip_route_group\": 0.88, \"name\": \"City of Burbank\", \"caltrans_district\": \"07 - Los Angeles\", \"drmt_organization_name\": null, \"cutoff2\": 20, \"cutoff\": 2}, {\"calitp_itp_id\": 45, \"trip_key\": 5366624671865977670, \"trip_id\": \"451-3\", \"shape_id\": \"13903\", \"route_id\": \"3164\", \"service_hours\": 0.55, \"trip_first_departure_ts\": 61200, \"trip_last_arrival_ts\": 63180, \"departure_hour\": 17, \"time_of_day\": \"PM Peak\", \"p25\": 0.55, \"p50\": 0.55, \"p75\": 0.55, \"p50_trip\": 1, \"fastest_trip\": 0, \"car_duration_hours\": 0.47, \"competitive_route\": 1, \"bus_multiplier\": 1.17, \"bus_difference\": 4.8, \"num_trips\": 15, \"num_competitive\": 15, \"pct_trips_competitive\": 1.0, \"bus_difference_spread\": 0.0, \"route_group\": \"short\", \"max_trip_hrs\": 0.55, \"max_trip_route_group\": 0.88, \"name\": \"City of Burbank\", \"caltrans_district\": \"07 - Los Angeles\", \"drmt_organization_name\": null, \"cutoff2\": 20, \"cutoff\": 2}, {\"calitp_itp_id\": 45, \"trip_key\": -6560600716166031315, \"trip_id\": \"452-4\", \"shape_id\": \"13903\", \"route_id\": \"3164\", \"service_hours\": 0.55, \"trip_first_departure_ts\": 66600, \"trip_last_arrival_ts\": 68580, \"departure_hour\": 18, \"time_of_day\": \"PM Peak\", \"p25\": 0.55, \"p50\": 0.55, \"p75\": 0.55, \"p50_trip\": 1, \"fastest_trip\": 0, \"car_duration_hours\": 0.47, \"competitive_route\": 1, \"bus_multiplier\": 1.17, \"bus_difference\": 4.8, \"num_trips\": 15, \"num_competitive\": 15, \"pct_trips_competitive\": 1.0, \"bus_difference_spread\": 0.0, \"route_group\": \"short\", \"max_trip_hrs\": 0.55, \"max_trip_route_group\": 0.88, \"name\": \"City of Burbank\", \"caltrans_district\": \"07 - Los Angeles\", \"drmt_organization_name\": null, \"cutoff2\": 20, \"cutoff\": 2}, {\"calitp_itp_id\": 45, \"trip_key\": 2467992296948917337, \"trip_id\": \"452-1\", \"shape_id\": \"13903\", \"route_id\": \"3164\", \"service_hours\": 0.55, \"trip_first_departure_ts\": 55800, \"trip_last_arrival_ts\": 57780, \"departure_hour\": 15, \"time_of_day\": \"Midday\", \"p25\": 0.55, \"p50\": 0.55, \"p75\": 0.55, \"p50_trip\": 1, \"fastest_trip\": 0, \"car_duration_hours\": 0.47, \"competitive_route\": 1, \"bus_multiplier\": 1.17, \"bus_difference\": 4.8, \"num_trips\": 15, \"num_competitive\": 15, \"pct_trips_competitive\": 1.0, \"bus_difference_spread\": 0.0, \"route_group\": \"short\", \"max_trip_hrs\": 0.55, \"max_trip_route_group\": 0.88, \"name\": \"City of Burbank\", \"caltrans_district\": \"07 - Los Angeles\", \"drmt_organization_name\": null, \"cutoff2\": 20, \"cutoff\": 2}, {\"calitp_itp_id\": 45, \"trip_key\": 8839944477616273896, \"trip_id\": \"402-3\", \"shape_id\": \"13903\", \"route_id\": \"3164\", \"service_hours\": 0.55, \"trip_first_departure_ts\": 30600, \"trip_last_arrival_ts\": 32580, \"departure_hour\": 8, \"time_of_day\": \"AM Peak\", \"p25\": 0.55, \"p50\": 0.55, \"p75\": 0.55, \"p50_trip\": 1, \"fastest_trip\": 0, \"car_duration_hours\": 0.47, \"competitive_route\": 1, \"bus_multiplier\": 1.17, \"bus_difference\": 4.8, \"num_trips\": 15, \"num_competitive\": 15, \"pct_trips_competitive\": 1.0, \"bus_difference_spread\": 0.0, \"route_group\": \"short\", \"max_trip_hrs\": 0.55, \"max_trip_route_group\": 0.88, \"name\": \"City of Burbank\", \"caltrans_district\": \"07 - Los Angeles\", \"drmt_organization_name\": null, \"cutoff2\": 20, \"cutoff\": 2}, {\"calitp_itp_id\": 45, \"trip_key\": -108266460062539705, \"trip_id\": \"401-1\", \"shape_id\": \"13903\", \"route_id\": \"3164\", \"service_hours\": 0.55, \"trip_first_departure_ts\": 21600, \"trip_last_arrival_ts\": 23580, \"departure_hour\": 6, \"time_of_day\": \"Owl Service\", \"p25\": 0.55, \"p50\": 0.55, \"p75\": 0.55, \"p50_trip\": 1, \"fastest_trip\": 0, \"car_duration_hours\": 0.47, \"competitive_route\": 1, \"bus_multiplier\": 1.17, \"bus_difference\": 4.8, \"num_trips\": 15, \"num_competitive\": 15, \"pct_trips_competitive\": 1.0, \"bus_difference_spread\": 0.0, \"route_group\": \"short\", \"max_trip_hrs\": 0.55, \"max_trip_route_group\": 0.88, \"name\": \"City of Burbank\", \"caltrans_district\": \"07 - Los Angeles\", \"drmt_organization_name\": null, \"cutoff2\": 20, \"cutoff\": 2}]}}, {\"mode\": \"vega-lite\"});\n",
       "</script>"
      ],
      "text/plain": [
       "alt.FacetChart(...)"
      ]
     },
     "metadata": {},
     "output_type": "display_data"
    },
    {
     "data": {
      "text/html": [
       "\n",
       "<div id=\"altair-viz-70d84d296b5b4fad84d3a7b6c4102258\"></div>\n",
       "<script type=\"text/javascript\">\n",
       "  var VEGA_DEBUG = (typeof VEGA_DEBUG == \"undefined\") ? {} : VEGA_DEBUG;\n",
       "  (function(spec, embedOpt){\n",
       "    let outputDiv = document.currentScript.previousElementSibling;\n",
       "    if (outputDiv.id !== \"altair-viz-70d84d296b5b4fad84d3a7b6c4102258\") {\n",
       "      outputDiv = document.getElementById(\"altair-viz-70d84d296b5b4fad84d3a7b6c4102258\");\n",
       "    }\n",
       "    const paths = {\n",
       "      \"vega\": \"https://cdn.jsdelivr.net/npm//vega@5?noext\",\n",
       "      \"vega-lib\": \"https://cdn.jsdelivr.net/npm//vega-lib?noext\",\n",
       "      \"vega-lite\": \"https://cdn.jsdelivr.net/npm//vega-lite@4.17.0?noext\",\n",
       "      \"vega-embed\": \"https://cdn.jsdelivr.net/npm//vega-embed@6?noext\",\n",
       "    };\n",
       "\n",
       "    function maybeLoadScript(lib, version) {\n",
       "      var key = `${lib.replace(\"-\", \"\")}_version`;\n",
       "      return (VEGA_DEBUG[key] == version) ?\n",
       "        Promise.resolve(paths[lib]) :\n",
       "        new Promise(function(resolve, reject) {\n",
       "          var s = document.createElement('script');\n",
       "          document.getElementsByTagName(\"head\")[0].appendChild(s);\n",
       "          s.async = true;\n",
       "          s.onload = () => {\n",
       "            VEGA_DEBUG[key] = version;\n",
       "            return resolve(paths[lib]);\n",
       "          };\n",
       "          s.onerror = () => reject(`Error loading script: ${paths[lib]}`);\n",
       "          s.src = paths[lib];\n",
       "        });\n",
       "    }\n",
       "\n",
       "    function showError(err) {\n",
       "      outputDiv.innerHTML = `<div class=\"error\" style=\"color:red;\">${err}</div>`;\n",
       "      throw err;\n",
       "    }\n",
       "\n",
       "    function displayChart(vegaEmbed) {\n",
       "      vegaEmbed(outputDiv, spec, embedOpt)\n",
       "        .catch(err => showError(`Javascript Error: ${err.message}<br>This usually means there's a typo in your chart specification. See the javascript console for the full traceback.`));\n",
       "    }\n",
       "\n",
       "    if(typeof define === \"function\" && define.amd) {\n",
       "      requirejs.config({paths});\n",
       "      require([\"vega-embed\"], displayChart, err => showError(`Error loading script: ${err.message}`));\n",
       "    } else {\n",
       "      maybeLoadScript(\"vega\", \"5\")\n",
       "        .then(() => maybeLoadScript(\"vega-lite\", \"4.17.0\"))\n",
       "        .then(() => maybeLoadScript(\"vega-embed\", \"6\"))\n",
       "        .catch(showError)\n",
       "        .then(() => displayChart(vegaEmbed));\n",
       "    }\n",
       "  })({\"config\": {\"view\": {\"continuousWidth\": 400, \"continuousHeight\": 300, \"stroke\": null}, \"facet\": {\"spacing\": 0}}, \"data\": {\"name\": \"data-350ad877837949b6f9c83e09d41dd77f\"}, \"facet\": {\"column\": {\"field\": \"route_id\", \"sort\": [\"3164\"], \"title\": \"Route ID\", \"type\": \"nominal\"}}, \"spec\": {\"layer\": [{\"mark\": \"rule\", \"encoding\": {\"color\": {\"value\": \"black\"}, \"y\": {\"field\": \"cutoff\", \"type\": \"quantitative\"}}, \"selection\": {\"selector002\": {\"type\": \"interval\", \"bind\": \"scales\", \"encodings\": [\"x\", \"y\"]}}}, {\"mark\": {\"type\": \"rule\", \"strokeDash\": [3, 3]}, \"encoding\": {\"color\": {\"value\": \"#323434\"}, \"y\": {\"field\": \"cutoff2\", \"type\": \"quantitative\"}}}, {\"mark\": {\"type\": \"point\", \"opacity\": 0.65, \"size\": 12, \"strokeWidth\": 1.1}, \"encoding\": {\"color\": {\"field\": \"time_of_day\", \"scale\": {\"range\": [\"#136C97\", \"#E16B26\", \"#F6BF16\", \"#00896B\", \"#7790A3\", \"#5B559C\"]}, \"sort\": [\"AM Peak\", \"Midday\", \"PM Peak\", \"Owl Service\"], \"title\": \"Time of Day\", \"type\": \"nominal\"}, \"tooltip\": [{\"field\": \"route_id\", \"type\": \"nominal\"}, {\"field\": \"trip_id\", \"type\": \"nominal\"}, {\"field\": \"service_hours\", \"type\": \"quantitative\"}, {\"field\": \"car_duration_hours\", \"type\": \"quantitative\"}, {\"field\": \"bus_multiplier\", \"type\": \"quantitative\"}, {\"field\": \"bus_difference\", \"type\": \"quantitative\"}, {\"field\": \"num_trips\", \"type\": \"quantitative\"}, {\"field\": \"num_competitive\", \"type\": \"quantitative\"}, {\"field\": \"pct_trips_competitive\", \"type\": \"quantitative\"}, {\"field\": \"p25\", \"type\": \"quantitative\"}, {\"field\": \"p50\", \"type\": \"quantitative\"}, {\"field\": \"p75\", \"type\": \"quantitative\"}], \"x\": {\"axis\": {\"grid\": false, \"labels\": false, \"ticks\": true, \"values\": [0]}, \"field\": \"jitter\", \"scale\": {}, \"title\": null, \"type\": \"quantitative\"}, \"y\": {\"field\": \"bus_difference\", \"scale\": {\"domain\": [-5, 25.0]}, \"title\": \"Difference in Bus to Car Travel Time (min)\", \"type\": \"quantitative\"}}, \"transform\": [{\"calculate\": \"sqrt(-2*log(random()))*cos(2*PI*random())\", \"as\": \"jitter\"}], \"width\": 50}, {\"layer\": [{\"mark\": {\"type\": \"point\", \"opacity\": 0.6, \"size\": 20, \"strokeWidth\": 1.3}, \"encoding\": {\"color\": {\"value\": \"#323434\"}, \"y\": {\"field\": \"bus_difference\", \"type\": \"quantitative\"}}, \"transform\": [{\"filter\": \"(datum.p50_trip === 1)\"}]}, {\"mark\": {\"type\": \"text\", \"align\": \"center\", \"baseline\": \"middle\"}, \"encoding\": {\"color\": {\"value\": \"black\"}, \"text\": {\"field\": \"pct_trips_competitive\", \"format\": \".0%\", \"type\": \"quantitative\"}, \"tooltip\": [{\"field\": \"route_id\", \"type\": \"nominal\"}, {\"field\": \"trip_id\", \"type\": \"nominal\"}, {\"field\": \"service_hours\", \"type\": \"quantitative\"}, {\"field\": \"car_duration_hours\", \"type\": \"quantitative\"}, {\"field\": \"bus_multiplier\", \"type\": \"quantitative\"}, {\"field\": \"bus_difference\", \"type\": \"quantitative\"}, {\"field\": \"num_trips\", \"type\": \"quantitative\"}, {\"field\": \"num_competitive\", \"type\": \"quantitative\"}, {\"field\": \"pct_trips_competitive\", \"type\": \"quantitative\"}, {\"field\": \"p25\", \"type\": \"quantitative\"}, {\"field\": \"p50\", \"type\": \"quantitative\"}, {\"field\": \"p75\", \"type\": \"quantitative\"}], \"x\": {\"value\": 30}, \"y\": {\"value\": 15}}, \"transform\": [{\"calculate\": \"sqrt(-2*log(random()))*cos(2*PI*random())\", \"as\": \"jitter\"}, {\"filter\": \"(datum.fastest_trip === 1)\"}]}]}]}, \"resolve\": {\"scale\": {\"y\": \"shared\"}}, \"title\": \"Difference in Bus to Car Travel Time (min)\", \"$schema\": \"https://vega.github.io/schema/vega-lite/v4.17.0.json\", \"datasets\": {\"data-350ad877837949b6f9c83e09d41dd77f\": [{\"calitp_itp_id\": 45, \"trip_key\": 6318246185118805377, \"trip_id\": \"402-1\", \"shape_id\": \"13903\", \"route_id\": \"3164\", \"service_hours\": 0.55, \"trip_first_departure_ts\": 23400, \"trip_last_arrival_ts\": 25380, \"departure_hour\": 6, \"time_of_day\": \"Owl Service\", \"p25\": 0.55, \"p50\": 0.55, \"p75\": 0.55, \"p50_trip\": 1, \"fastest_trip\": 0, \"car_duration_hours\": 0.47, \"competitive_route\": 1, \"bus_multiplier\": 1.17, \"bus_difference\": 4.8, \"num_trips\": 15, \"num_competitive\": 15, \"pct_trips_competitive\": 1.0, \"bus_difference_spread\": 0.0, \"route_group\": \"short\", \"max_trip_hrs\": 0.55, \"max_trip_route_group\": 0.88, \"name\": \"City of Burbank\", \"caltrans_district\": \"07 - Los Angeles\", \"drmt_organization_name\": null, \"cutoff2\": 20, \"cutoff\": 0}, {\"calitp_itp_id\": 45, \"trip_key\": -7853289907812336092, \"trip_id\": \"451-1\", \"shape_id\": \"13903\", \"route_id\": \"3164\", \"service_hours\": 0.55, \"trip_first_departure_ts\": 54000, \"trip_last_arrival_ts\": 55980, \"departure_hour\": 15, \"time_of_day\": \"Midday\", \"p25\": 0.55, \"p50\": 0.55, \"p75\": 0.55, \"p50_trip\": 1, \"fastest_trip\": 0, \"car_duration_hours\": 0.47, \"competitive_route\": 1, \"bus_multiplier\": 1.17, \"bus_difference\": 4.8, \"num_trips\": 15, \"num_competitive\": 15, \"pct_trips_competitive\": 1.0, \"bus_difference_spread\": 0.0, \"route_group\": \"short\", \"max_trip_hrs\": 0.55, \"max_trip_route_group\": 0.88, \"name\": \"City of Burbank\", \"caltrans_district\": \"07 - Los Angeles\", \"drmt_organization_name\": null, \"cutoff2\": 20, \"cutoff\": 0}, {\"calitp_itp_id\": 45, \"trip_key\": 1689551807670669501, \"trip_id\": \"401-2\", \"shape_id\": \"13903\", \"route_id\": \"3164\", \"service_hours\": 0.55, \"trip_first_departure_ts\": 25200, \"trip_last_arrival_ts\": 27180, \"departure_hour\": 7, \"time_of_day\": \"AM Peak\", \"p25\": 0.55, \"p50\": 0.55, \"p75\": 0.55, \"p50_trip\": 1, \"fastest_trip\": 0, \"car_duration_hours\": 0.47, \"competitive_route\": 1, \"bus_multiplier\": 1.17, \"bus_difference\": 4.8, \"num_trips\": 15, \"num_competitive\": 15, \"pct_trips_competitive\": 1.0, \"bus_difference_spread\": 0.0, \"route_group\": \"short\", \"max_trip_hrs\": 0.55, \"max_trip_route_group\": 0.88, \"name\": \"City of Burbank\", \"caltrans_district\": \"07 - Los Angeles\", \"drmt_organization_name\": null, \"cutoff2\": 20, \"cutoff\": 0}, {\"calitp_itp_id\": 45, \"trip_key\": 9040775932521604768, \"trip_id\": \"401-3\", \"shape_id\": \"13903\", \"route_id\": \"3164\", \"service_hours\": 0.55, \"trip_first_departure_ts\": 28800, \"trip_last_arrival_ts\": 30780, \"departure_hour\": 8, \"time_of_day\": \"AM Peak\", \"p25\": 0.55, \"p50\": 0.55, \"p75\": 0.55, \"p50_trip\": 1, \"fastest_trip\": 0, \"car_duration_hours\": 0.47, \"competitive_route\": 1, \"bus_multiplier\": 1.17, \"bus_difference\": 4.8, \"num_trips\": 15, \"num_competitive\": 15, \"pct_trips_competitive\": 1.0, \"bus_difference_spread\": 0.0, \"route_group\": \"short\", \"max_trip_hrs\": 0.55, \"max_trip_route_group\": 0.88, \"name\": \"City of Burbank\", \"caltrans_district\": \"07 - Los Angeles\", \"drmt_organization_name\": null, \"cutoff2\": 20, \"cutoff\": 0}, {\"calitp_itp_id\": 45, \"trip_key\": 1360733760580777787, \"trip_id\": \"451-4\", \"shape_id\": \"13903\", \"route_id\": \"3164\", \"service_hours\": 0.55, \"trip_first_departure_ts\": 64800, \"trip_last_arrival_ts\": 66780, \"departure_hour\": 18, \"time_of_day\": \"PM Peak\", \"p25\": 0.55, \"p50\": 0.55, \"p75\": 0.55, \"p50_trip\": 1, \"fastest_trip\": 1, \"car_duration_hours\": 0.47, \"competitive_route\": 1, \"bus_multiplier\": 1.17, \"bus_difference\": 4.8, \"num_trips\": 15, \"num_competitive\": 15, \"pct_trips_competitive\": 1.0, \"bus_difference_spread\": 0.0, \"route_group\": \"short\", \"max_trip_hrs\": 0.55, \"max_trip_route_group\": 0.88, \"name\": \"City of Burbank\", \"caltrans_district\": \"07 - Los Angeles\", \"drmt_organization_name\": null, \"cutoff2\": 20, \"cutoff\": 0}, {\"calitp_itp_id\": 45, \"trip_key\": 3734137046075893755, \"trip_id\": \"402-2\", \"shape_id\": \"13903\", \"route_id\": \"3164\", \"service_hours\": 0.55, \"trip_first_departure_ts\": 27000, \"trip_last_arrival_ts\": 28980, \"departure_hour\": 7, \"time_of_day\": \"AM Peak\", \"p25\": 0.55, \"p50\": 0.55, \"p75\": 0.55, \"p50_trip\": 1, \"fastest_trip\": 0, \"car_duration_hours\": 0.47, \"competitive_route\": 1, \"bus_multiplier\": 1.17, \"bus_difference\": 4.8, \"num_trips\": 15, \"num_competitive\": 15, \"pct_trips_competitive\": 1.0, \"bus_difference_spread\": 0.0, \"route_group\": \"short\", \"max_trip_hrs\": 0.55, \"max_trip_route_group\": 0.88, \"name\": \"City of Burbank\", \"caltrans_district\": \"07 - Los Angeles\", \"drmt_organization_name\": null, \"cutoff2\": 20, \"cutoff\": 0}, {\"calitp_itp_id\": 45, \"trip_key\": 5277074698108374086, \"trip_id\": \"452-3\", \"shape_id\": \"13903\", \"route_id\": \"3164\", \"service_hours\": 0.55, \"trip_first_departure_ts\": 63000, \"trip_last_arrival_ts\": 64980, \"departure_hour\": 17, \"time_of_day\": \"PM Peak\", \"p25\": 0.55, \"p50\": 0.55, \"p75\": 0.55, \"p50_trip\": 1, \"fastest_trip\": 0, \"car_duration_hours\": 0.47, \"competitive_route\": 1, \"bus_multiplier\": 1.17, \"bus_difference\": 4.8, \"num_trips\": 15, \"num_competitive\": 15, \"pct_trips_competitive\": 1.0, \"bus_difference_spread\": 0.0, \"route_group\": \"short\", \"max_trip_hrs\": 0.55, \"max_trip_route_group\": 0.88, \"name\": \"City of Burbank\", \"caltrans_district\": \"07 - Los Angeles\", \"drmt_organization_name\": null, \"cutoff2\": 20, \"cutoff\": 0}, {\"calitp_itp_id\": 45, \"trip_key\": 786329574861499582, \"trip_id\": \"451-2\", \"shape_id\": \"13903\", \"route_id\": \"3164\", \"service_hours\": 0.55, \"trip_first_departure_ts\": 57600, \"trip_last_arrival_ts\": 59580, \"departure_hour\": 16, \"time_of_day\": \"Midday\", \"p25\": 0.55, \"p50\": 0.55, \"p75\": 0.55, \"p50_trip\": 1, \"fastest_trip\": 0, \"car_duration_hours\": 0.47, \"competitive_route\": 1, \"bus_multiplier\": 1.17, \"bus_difference\": 4.8, \"num_trips\": 15, \"num_competitive\": 15, \"pct_trips_competitive\": 1.0, \"bus_difference_spread\": 0.0, \"route_group\": \"short\", \"max_trip_hrs\": 0.55, \"max_trip_route_group\": 0.88, \"name\": \"City of Burbank\", \"caltrans_district\": \"07 - Los Angeles\", \"drmt_organization_name\": null, \"cutoff2\": 20, \"cutoff\": 0}, {\"calitp_itp_id\": 45, \"trip_key\": 4450778079017283900, \"trip_id\": \"401-4\", \"shape_id\": \"13903\", \"route_id\": \"3164\", \"service_hours\": 0.55, \"trip_first_departure_ts\": 32400, \"trip_last_arrival_ts\": 34380, \"departure_hour\": 9, \"time_of_day\": \"AM Peak\", \"p25\": 0.55, \"p50\": 0.55, \"p75\": 0.55, \"p50_trip\": 1, \"fastest_trip\": 0, \"car_duration_hours\": 0.47, \"competitive_route\": 1, \"bus_multiplier\": 1.17, \"bus_difference\": 4.8, \"num_trips\": 15, \"num_competitive\": 15, \"pct_trips_competitive\": 1.0, \"bus_difference_spread\": 0.0, \"route_group\": \"short\", \"max_trip_hrs\": 0.55, \"max_trip_route_group\": 0.88, \"name\": \"City of Burbank\", \"caltrans_district\": \"07 - Los Angeles\", \"drmt_organization_name\": null, \"cutoff2\": 20, \"cutoff\": 0}, {\"calitp_itp_id\": 45, \"trip_key\": -3193598419664960209, \"trip_id\": \"452-2\", \"shape_id\": \"13903\", \"route_id\": \"3164\", \"service_hours\": 0.55, \"trip_first_departure_ts\": 59400, \"trip_last_arrival_ts\": 61380, \"departure_hour\": 16, \"time_of_day\": \"Midday\", \"p25\": 0.55, \"p50\": 0.55, \"p75\": 0.55, \"p50_trip\": 1, \"fastest_trip\": 0, \"car_duration_hours\": 0.47, \"competitive_route\": 1, \"bus_multiplier\": 1.17, \"bus_difference\": 4.8, \"num_trips\": 15, \"num_competitive\": 15, \"pct_trips_competitive\": 1.0, \"bus_difference_spread\": 0.0, \"route_group\": \"short\", \"max_trip_hrs\": 0.55, \"max_trip_route_group\": 0.88, \"name\": \"City of Burbank\", \"caltrans_district\": \"07 - Los Angeles\", \"drmt_organization_name\": null, \"cutoff2\": 20, \"cutoff\": 0}, {\"calitp_itp_id\": 45, \"trip_key\": 5366624671865977670, \"trip_id\": \"451-3\", \"shape_id\": \"13903\", \"route_id\": \"3164\", \"service_hours\": 0.55, \"trip_first_departure_ts\": 61200, \"trip_last_arrival_ts\": 63180, \"departure_hour\": 17, \"time_of_day\": \"PM Peak\", \"p25\": 0.55, \"p50\": 0.55, \"p75\": 0.55, \"p50_trip\": 1, \"fastest_trip\": 0, \"car_duration_hours\": 0.47, \"competitive_route\": 1, \"bus_multiplier\": 1.17, \"bus_difference\": 4.8, \"num_trips\": 15, \"num_competitive\": 15, \"pct_trips_competitive\": 1.0, \"bus_difference_spread\": 0.0, \"route_group\": \"short\", \"max_trip_hrs\": 0.55, \"max_trip_route_group\": 0.88, \"name\": \"City of Burbank\", \"caltrans_district\": \"07 - Los Angeles\", \"drmt_organization_name\": null, \"cutoff2\": 20, \"cutoff\": 0}, {\"calitp_itp_id\": 45, \"trip_key\": -6560600716166031315, \"trip_id\": \"452-4\", \"shape_id\": \"13903\", \"route_id\": \"3164\", \"service_hours\": 0.55, \"trip_first_departure_ts\": 66600, \"trip_last_arrival_ts\": 68580, \"departure_hour\": 18, \"time_of_day\": \"PM Peak\", \"p25\": 0.55, \"p50\": 0.55, \"p75\": 0.55, \"p50_trip\": 1, \"fastest_trip\": 0, \"car_duration_hours\": 0.47, \"competitive_route\": 1, \"bus_multiplier\": 1.17, \"bus_difference\": 4.8, \"num_trips\": 15, \"num_competitive\": 15, \"pct_trips_competitive\": 1.0, \"bus_difference_spread\": 0.0, \"route_group\": \"short\", \"max_trip_hrs\": 0.55, \"max_trip_route_group\": 0.88, \"name\": \"City of Burbank\", \"caltrans_district\": \"07 - Los Angeles\", \"drmt_organization_name\": null, \"cutoff2\": 20, \"cutoff\": 0}, {\"calitp_itp_id\": 45, \"trip_key\": 2467992296948917337, \"trip_id\": \"452-1\", \"shape_id\": \"13903\", \"route_id\": \"3164\", \"service_hours\": 0.55, \"trip_first_departure_ts\": 55800, \"trip_last_arrival_ts\": 57780, \"departure_hour\": 15, \"time_of_day\": \"Midday\", \"p25\": 0.55, \"p50\": 0.55, \"p75\": 0.55, \"p50_trip\": 1, \"fastest_trip\": 0, \"car_duration_hours\": 0.47, \"competitive_route\": 1, \"bus_multiplier\": 1.17, \"bus_difference\": 4.8, \"num_trips\": 15, \"num_competitive\": 15, \"pct_trips_competitive\": 1.0, \"bus_difference_spread\": 0.0, \"route_group\": \"short\", \"max_trip_hrs\": 0.55, \"max_trip_route_group\": 0.88, \"name\": \"City of Burbank\", \"caltrans_district\": \"07 - Los Angeles\", \"drmt_organization_name\": null, \"cutoff2\": 20, \"cutoff\": 0}, {\"calitp_itp_id\": 45, \"trip_key\": 8839944477616273896, \"trip_id\": \"402-3\", \"shape_id\": \"13903\", \"route_id\": \"3164\", \"service_hours\": 0.55, \"trip_first_departure_ts\": 30600, \"trip_last_arrival_ts\": 32580, \"departure_hour\": 8, \"time_of_day\": \"AM Peak\", \"p25\": 0.55, \"p50\": 0.55, \"p75\": 0.55, \"p50_trip\": 1, \"fastest_trip\": 0, \"car_duration_hours\": 0.47, \"competitive_route\": 1, \"bus_multiplier\": 1.17, \"bus_difference\": 4.8, \"num_trips\": 15, \"num_competitive\": 15, \"pct_trips_competitive\": 1.0, \"bus_difference_spread\": 0.0, \"route_group\": \"short\", \"max_trip_hrs\": 0.55, \"max_trip_route_group\": 0.88, \"name\": \"City of Burbank\", \"caltrans_district\": \"07 - Los Angeles\", \"drmt_organization_name\": null, \"cutoff2\": 20, \"cutoff\": 0}, {\"calitp_itp_id\": 45, \"trip_key\": -108266460062539705, \"trip_id\": \"401-1\", \"shape_id\": \"13903\", \"route_id\": \"3164\", \"service_hours\": 0.55, \"trip_first_departure_ts\": 21600, \"trip_last_arrival_ts\": 23580, \"departure_hour\": 6, \"time_of_day\": \"Owl Service\", \"p25\": 0.55, \"p50\": 0.55, \"p75\": 0.55, \"p50_trip\": 1, \"fastest_trip\": 0, \"car_duration_hours\": 0.47, \"competitive_route\": 1, \"bus_multiplier\": 1.17, \"bus_difference\": 4.8, \"num_trips\": 15, \"num_competitive\": 15, \"pct_trips_competitive\": 1.0, \"bus_difference_spread\": 0.0, \"route_group\": \"short\", \"max_trip_hrs\": 0.55, \"max_trip_route_group\": 0.88, \"name\": \"City of Burbank\", \"caltrans_district\": \"07 - Los Angeles\", \"drmt_organization_name\": null, \"cutoff2\": 20, \"cutoff\": 0}]}}, {\"mode\": \"vega-lite\"});\n",
       "</script>"
      ],
      "text/plain": [
       "alt.FacetChart(...)"
      ]
     },
     "metadata": {},
     "output_type": "display_data"
    }
   ],
   "source": [
    "# Allow for possibility that operator doesn't have routes that fall into certain route_groups\n",
    "# But, jupyterbook will not like markdown with f-string\n",
    "# separate out route_group and put in each cell, and use try/except + if to display...\n",
    "# but all 3 route groups must be displayed. just add sentence about why no routes were returned at the end\n",
    "route_group = \"short\"\n",
    "try:\n",
    "    display_charts_for_route_group(df, route_group)\n",
    "except:\n",
    "    print(\"No routes meet this criteria.\")"
   ]
  },
  {
   "cell_type": "markdown",
   "id": "c2931b6f-034d-4384-9e14-80b925e3b820",
   "metadata": {
    "papermill": {
     "duration": 0.018569,
     "end_time": "2022-05-09T17:00:25.285616",
     "exception": false,
     "start_time": "2022-05-09T17:00:25.267047",
     "status": "completed"
    },
    "tags": []
   },
   "source": [
    "### Medium Routes (1-1.5 hrs)"
   ]
  },
  {
   "cell_type": "code",
   "execution_count": 14,
   "id": "480edddc-4de0-48c2-ae4c-b0ceef8f28b5",
   "metadata": {
    "execution": {
     "iopub.execute_input": "2022-05-09T17:00:25.337162Z",
     "iopub.status.busy": "2022-05-09T17:00:25.336795Z",
     "iopub.status.idle": "2022-05-09T17:00:25.350696Z",
     "shell.execute_reply": "2022-05-09T17:00:25.349760Z"
    },
    "jupyter": {
     "source_hidden": true
    },
    "papermill": {
     "duration": 0.035264,
     "end_time": "2022-05-09T17:00:25.353226",
     "exception": false,
     "start_time": "2022-05-09T17:00:25.317962",
     "status": "completed"
    },
    "tags": [
     "remove_input"
    ]
   },
   "outputs": [
    {
     "name": "stdout",
     "output_type": "stream",
     "text": [
      "No routes meet this criteria.\n"
     ]
    }
   ],
   "source": [
    "route_group = \"medium\"\n",
    "try:\n",
    "    display_charts_for_route_group(df, route_group)\n",
    "except:\n",
    "    print(\"No routes meet this criteria.\")"
   ]
  },
  {
   "cell_type": "markdown",
   "id": "124b76d0-886c-4d03-92ac-f1bda3cda182",
   "metadata": {
    "papermill": {
     "duration": 0.016944,
     "end_time": "2022-05-09T17:00:25.386892",
     "exception": false,
     "start_time": "2022-05-09T17:00:25.369948",
     "status": "completed"
    },
    "tags": []
   },
   "source": [
    "### Long Routes (> 1.5 hrs)"
   ]
  },
  {
   "cell_type": "code",
   "execution_count": 15,
   "id": "ddc81b19-4c45-4c81-8b7a-5e0f394aa7a3",
   "metadata": {
    "execution": {
     "iopub.execute_input": "2022-05-09T17:00:25.434344Z",
     "iopub.status.busy": "2022-05-09T17:00:25.433189Z",
     "iopub.status.idle": "2022-05-09T17:00:25.449258Z",
     "shell.execute_reply": "2022-05-09T17:00:25.448216Z"
    },
    "jupyter": {
     "source_hidden": true
    },
    "papermill": {
     "duration": 0.039435,
     "end_time": "2022-05-09T17:00:25.451524",
     "exception": false,
     "start_time": "2022-05-09T17:00:25.412089",
     "status": "completed"
    },
    "tags": [
     "remove_input"
    ]
   },
   "outputs": [
    {
     "name": "stdout",
     "output_type": "stream",
     "text": [
      "No routes meet this criteria.\n"
     ]
    }
   ],
   "source": [
    "route_group = \"long\"\n",
    "try:\n",
    "    display_charts_for_route_group(df, route_group)\n",
    "except:\n",
    "    print(\"No routes meet this criteria.\")"
   ]
  },
  {
   "cell_type": "markdown",
   "id": "ace75b5f-0442-4fbe-aebd-6c3a13ae13a7",
   "metadata": {
    "papermill": {
     "duration": 0.021618,
     "end_time": "2022-05-09T17:00:25.491277",
     "exception": false,
     "start_time": "2022-05-09T17:00:25.469659",
     "status": "completed"
    },
    "tags": []
   },
   "source": [
    "### GTFS Real-Time Speedmaps"
   ]
  },
  {
   "cell_type": "code",
   "execution_count": 16,
   "id": "3f06fdc4-d5a8-41f5-9b72-ed7e8a2dd2fc",
   "metadata": {
    "execution": {
     "iopub.execute_input": "2022-05-09T17:00:25.544404Z",
     "iopub.status.busy": "2022-05-09T17:00:25.544025Z",
     "iopub.status.idle": "2022-05-09T17:00:25.606437Z",
     "shell.execute_reply": "2022-05-09T17:00:25.602648Z"
    },
    "jupyter": {
     "source_hidden": true
    },
    "papermill": {
     "duration": 0.087854,
     "end_time": "2022-05-09T17:00:25.609982",
     "exception": false,
     "start_time": "2022-05-09T17:00:25.522128",
     "status": "completed"
    },
    "tags": [
     "remove_input"
    ]
   },
   "outputs": [
    {
     "data": {
      "text/html": [
       "<a href=RT_URL>GTFS RT speedmaps here.</a>"
      ],
      "text/plain": [
       "<IPython.core.display.HTML object>"
      ]
     },
     "metadata": {},
     "output_type": "display_data"
    }
   ],
   "source": [
    "PORTFOLIO_SITE_YAML = \"../portfolio/analyses.yml\"\n",
    "\n",
    "# Grab list of ITP IDs with GTFS RT speedmaps\n",
    "rt_itp_id = deploy_portfolio_yaml.check_if_rt_data_available(PORTFOLIO_SITE_YAML)\n",
    "\n",
    "# Construct the URL \n",
    "RT_URL = (\"https://analysis.calitp.org/rt/\"\n",
    "          f\"district_{district_number}-{district_name}/\"\n",
    "          f\"speedmaps__itp_id_{itp_id}.html\"\n",
    "         ) \n",
    "\n",
    "if itp_id in rt_itp_id:\n",
    "    display(HTML('<a href=RT_URL>GTFS RT speedmaps here.</a>'))\n",
    "else:\n",
    "    display(HTML(\"No GTFS RT data available.\"))"
   ]
  },
  {
   "cell_type": "code",
   "execution_count": null,
   "id": "4664fe87-4e5e-4414-9602-a5c9c2a14072",
   "metadata": {
    "jupyter": {
     "source_hidden": true
    },
    "papermill": {
     "duration": 0.017151,
     "end_time": "2022-05-09T17:00:25.647622",
     "exception": false,
     "start_time": "2022-05-09T17:00:25.630471",
     "status": "completed"
    },
    "tags": [
     "remove_input"
    ]
   },
   "outputs": [],
   "source": []
  }
 ],
 "metadata": {
  "kernelspec": {
   "display_name": "Python 3 (ipykernel)",
   "language": "python",
   "name": "python3"
  },
  "language_info": {
   "codemirror_mode": {
    "name": "ipython",
    "version": 3
   },
   "file_extension": ".py",
   "mimetype": "text/x-python",
   "name": "python",
   "nbconvert_exporter": "python",
   "pygments_lexer": "ipython3",
   "version": "3.9.12"
  },
  "papermill": {
   "default_parameters": {},
   "duration": 28.07176,
   "end_time": "2022-05-09T17:00:27.952539",
   "environment_variables": {},
   "exception": null,
   "input_path": "bus_service_increase/competitive-parallel-routes.ipynb",
   "output_path": "portfolio/parallel_corridors/district_07-los-angeles/competitive-parallel-routes__itp_id_45.ipynb",
   "parameters": {
    "district": "07 - Los Angeles",
    "itp_id": 45
   },
   "start_time": "2022-05-09T16:59:59.880779",
   "version": "2.3.4"
  }
 },
 "nbformat": 4,
 "nbformat_minor": 5
}