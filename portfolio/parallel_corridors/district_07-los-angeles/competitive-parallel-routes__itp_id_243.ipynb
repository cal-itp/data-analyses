{
 "cells": [
  {
   "cell_type": "code",
   "execution_count": 1,
   "id": "95d00857-6a20-4529-a519-2cc7182928a9",
   "metadata": {
    "execution": {
     "iopub.execute_input": "2022-05-09T17:07:27.302838Z",
     "iopub.status.busy": "2022-05-09T17:07:27.302447Z",
     "iopub.status.idle": "2022-05-09T17:07:36.654685Z",
     "shell.execute_reply": "2022-05-09T17:07:36.653400Z"
    },
    "jupyter": {
     "source_hidden": true
    },
    "papermill": {
     "duration": 9.372103,
     "end_time": "2022-05-09T17:07:36.657539",
     "exception": false,
     "start_time": "2022-05-09T17:07:27.285436",
     "status": "completed"
    },
    "tags": [
     "remove_input"
    ]
   },
   "outputs": [],
   "source": [
    "%%capture\n",
    "import warnings\n",
    "warnings.filterwarnings('ignore')\n",
    "\n",
    "import altair as alt\n",
    "import calitp.magics\n",
    "import geopandas as gpd\n",
    "import intake\n",
    "import pandas as pd\n",
    "\n",
    "from IPython.display import display, Markdown, HTML\n",
    "\n",
    "import parallel_corridors_utils\n",
    "from shared_utils import styleguide\n",
    "import deploy_portfolio_yaml\n",
    "\n",
    "catalog = intake.open_catalog(\"./*.yml\")\n",
    "alt.renderers.enable(\"html\")"
   ]
  },
  {
   "cell_type": "code",
   "execution_count": 2,
   "id": "8af2a0c1-f3da-408d-9bea-11d9fbf8695d",
   "metadata": {
    "execution": {
     "iopub.execute_input": "2022-05-09T17:07:36.688483Z",
     "iopub.status.busy": "2022-05-09T17:07:36.688024Z",
     "iopub.status.idle": "2022-05-09T17:07:36.692646Z",
     "shell.execute_reply": "2022-05-09T17:07:36.691718Z"
    },
    "jupyter": {
     "source_hidden": true
    },
    "papermill": {
     "duration": 0.021739,
     "end_time": "2022-05-09T17:07:36.694574",
     "exception": false,
     "start_time": "2022-05-09T17:07:36.672835",
     "status": "completed"
    },
    "tags": [
     "parameters",
     "remove_input"
    ]
   },
   "outputs": [],
   "source": [
    "# parameters cell\n",
    "itp_id = 182"
   ]
  },
  {
   "cell_type": "code",
   "execution_count": 3,
   "id": "99e65600",
   "metadata": {
    "execution": {
     "iopub.execute_input": "2022-05-09T17:07:36.726020Z",
     "iopub.status.busy": "2022-05-09T17:07:36.725270Z",
     "iopub.status.idle": "2022-05-09T17:07:36.730374Z",
     "shell.execute_reply": "2022-05-09T17:07:36.729626Z"
    },
    "jupyter": {
     "source_hidden": true
    },
    "papermill": {
     "duration": 0.020834,
     "end_time": "2022-05-09T17:07:36.732308",
     "exception": false,
     "start_time": "2022-05-09T17:07:36.711474",
     "status": "completed"
    },
    "tags": [
     "injected-parameters",
     "remove_input"
    ]
   },
   "outputs": [],
   "source": [
    "# Parameters\n",
    "district = \"07 - Los Angeles\"\n",
    "itp_id = 243\n"
   ]
  },
  {
   "cell_type": "code",
   "execution_count": 4,
   "id": "9582aaf4-79ff-412a-b248-8d8d693ebd4f",
   "metadata": {
    "execution": {
     "iopub.execute_input": "2022-05-09T17:07:36.759586Z",
     "iopub.status.busy": "2022-05-09T17:07:36.758354Z",
     "iopub.status.idle": "2022-05-09T17:07:38.086723Z",
     "shell.execute_reply": "2022-05-09T17:07:38.085988Z"
    },
    "jupyter": {
     "source_hidden": true
    },
    "papermill": {
     "duration": 1.344561,
     "end_time": "2022-05-09T17:07:38.089025",
     "exception": false,
     "start_time": "2022-05-09T17:07:36.744464",
     "status": "completed"
    },
    "tags": [
     "remove_input"
    ]
   },
   "outputs": [],
   "source": [
    "df = catalog.competitive_route_variability.read()\n",
    "\n",
    "df = (df[(df.calitp_itp_id == itp_id) & \n",
    "         (df.route_group.notna())]\n",
    "      .reset_index(drop=True)\n",
    "     )\n",
    "\n",
    "\n",
    "if itp_id == 182:\n",
    "    df = df.assign(\n",
    "        route_id = df.route_id.str.replace('-13153', '').astype(int)\n",
    "    )"
   ]
  },
  {
   "cell_type": "code",
   "execution_count": 5,
   "id": "33ac4b06-f647-4dce-a625-8f2c1b37cc60",
   "metadata": {
    "execution": {
     "iopub.execute_input": "2022-05-09T17:07:38.117676Z",
     "iopub.status.busy": "2022-05-09T17:07:38.116973Z",
     "iopub.status.idle": "2022-05-09T17:07:38.126370Z",
     "shell.execute_reply": "2022-05-09T17:07:38.125638Z"
    },
    "jupyter": {
     "source_hidden": true
    },
    "papermill": {
     "duration": 0.025926,
     "end_time": "2022-05-09T17:07:38.128125",
     "exception": false,
     "start_time": "2022-05-09T17:07:38.102199",
     "status": "completed"
    },
    "tags": [
     "remove_input"
    ]
   },
   "outputs": [],
   "source": [
    "%%capture_parameters\n",
    "operator_name = df.name.iloc[0]\n",
    "district_number = f\"{df.caltrans_district.iloc[0].split('-')[0].strip()}\"\n",
    "district_name = f\"{df.caltrans_district.iloc[0].split('-')[1].strip().lower().replace(' ', '-')}\"\n",
    "\n",
    "itp_id, operator_name, district_number, district_name"
   ]
  },
  {
   "cell_type": "markdown",
   "id": "65bc6f5c-8348-42ee-b2dd-52057c406852",
   "metadata": {
    "papermill": {
     "duration": 0.011918,
     "end_time": "2022-05-09T17:07:38.154107",
     "exception": false,
     "start_time": "2022-05-09T17:07:38.142189",
     "status": "completed"
    },
    "tags": []
   },
   "source": [
    "# City of Pasadena (ITP ID: 243)"
   ]
  },
  {
   "cell_type": "code",
   "execution_count": 6,
   "id": "a689c1ab-2c6c-4831-8d64-897f5986f571",
   "metadata": {
    "execution": {
     "iopub.execute_input": "2022-05-09T17:07:38.182899Z",
     "iopub.status.busy": "2022-05-09T17:07:38.182214Z",
     "iopub.status.idle": "2022-05-09T17:07:38.188663Z",
     "shell.execute_reply": "2022-05-09T17:07:38.188092Z"
    },
    "jupyter": {
     "source_hidden": true
    },
    "papermill": {
     "duration": 0.022753,
     "end_time": "2022-05-09T17:07:38.190478",
     "exception": false,
     "start_time": "2022-05-09T17:07:38.167725",
     "status": "completed"
    },
    "tags": [
     "remove_input"
    ]
   },
   "outputs": [
    {
     "data": {
      "text/html": [
       "<h1>Competitive & Parallel Routes</h1>"
      ],
      "text/plain": [
       "<IPython.core.display.HTML object>"
      ]
     },
     "metadata": {},
     "output_type": "display_data"
    }
   ],
   "source": [
    "display(HTML(\"<h1>Competitive & Parallel Routes</h1>\")) "
   ]
  },
  {
   "cell_type": "code",
   "execution_count": 7,
   "id": "2cb4d8d5-4760-40e4-85b1-cb833d8bb648",
   "metadata": {
    "execution": {
     "iopub.execute_input": "2022-05-09T17:07:38.229850Z",
     "iopub.status.busy": "2022-05-09T17:07:38.228837Z",
     "iopub.status.idle": "2022-05-09T17:07:50.383997Z",
     "shell.execute_reply": "2022-05-09T17:07:50.383140Z"
    },
    "jupyter": {
     "source_hidden": true
    },
    "papermill": {
     "duration": 12.173787,
     "end_time": "2022-05-09T17:07:50.386603",
     "exception": false,
     "start_time": "2022-05-09T17:07:38.212816",
     "status": "completed"
    },
    "tags": [
     "remove_input"
    ]
   },
   "outputs": [],
   "source": [
    "# Grab parameters for narrative text - clean up formatting here \n",
    "district = df.caltrans_district.iloc[0]\n",
    "formatted_date = pd.to_datetime(parallel_corridors_utils.SELECTED_DATE).strftime('%m-%d-%Y')\n",
    "\n",
    "PCT_COMPETITIVE_THRESHOLD = 0.75\n",
    "\n",
    "stats = parallel_corridors_utils.operator_parallel_competitive_stats(\n",
    "    itp_id, PCT_COMPETITIVE_THRESHOLD)\n",
    "\n",
    "pct_parallel = round(stats['parallel_routes'] / stats['num_routes'] * 100,1 )\n",
    "pct_competitive =  round(stats['competitive_routes'] / stats['num_routes'] * 100,1 )"
   ]
  },
  {
   "cell_type": "markdown",
   "id": "ab667928-5274-4490-82d9-4c39293209a4",
   "metadata": {
    "papermill": {
     "duration": 0.013925,
     "end_time": "2022-05-09T17:07:50.413702",
     "exception": false,
     "start_time": "2022-05-09T17:07:50.399777",
     "status": "completed"
    },
    "tags": []
   },
   "source": [
    "## Quick Stats"
   ]
  },
  {
   "cell_type": "code",
   "execution_count": 8,
   "id": "0416509d-dc62-4165-b62e-64f8b26e8b8e",
   "metadata": {
    "execution": {
     "iopub.execute_input": "2022-05-09T17:07:50.444288Z",
     "iopub.status.busy": "2022-05-09T17:07:50.443931Z",
     "iopub.status.idle": "2022-05-09T17:07:50.450845Z",
     "shell.execute_reply": "2022-05-09T17:07:50.449857Z"
    },
    "jupyter": {
     "source_hidden": true
    },
    "papermill": {
     "duration": 0.026568,
     "end_time": "2022-05-09T17:07:50.454192",
     "exception": false,
     "start_time": "2022-05-09T17:07:50.427624",
     "status": "completed"
    },
    "tags": [
     "remove_input"
    ]
   },
   "outputs": [
    {
     "data": {
      "text/markdown": [
       "**Bus routes in service**: 9 <br>**Parallel routes** to State Highway Network (SHN): 5 routes (55.6%)<br>**Competitive routes** against car travel: 1 routes (11.1%)"
      ],
      "text/plain": [
       "<IPython.core.display.Markdown object>"
      ]
     },
     "metadata": {},
     "output_type": "display_data"
    }
   ],
   "source": [
    "display(\n",
    "    Markdown(\n",
    "        f\"**Bus routes in service**: {stats['num_routes']} \"\n",
    "        \"<br>**Parallel routes** to State Highway Network (SHN): \"\n",
    "        f\"{stats['parallel_routes']} routes ({pct_parallel}%)\"\n",
    "        f\"<br>**Competitive routes** against car travel: {stats['competitive_routes']} routes ({pct_competitive}%)\"\n",
    "    )\n",
    ")"
   ]
  },
  {
   "cell_type": "code",
   "execution_count": 9,
   "id": "f9d6ab58-f0ee-460c-b6de-657490e1f386",
   "metadata": {
    "execution": {
     "iopub.execute_input": "2022-05-09T17:07:50.484798Z",
     "iopub.status.busy": "2022-05-09T17:07:50.484452Z",
     "iopub.status.idle": "2022-05-09T17:07:50.494638Z",
     "shell.execute_reply": "2022-05-09T17:07:50.493519Z"
    },
    "jupyter": {
     "source_hidden": true
    },
    "papermill": {
     "duration": 0.029821,
     "end_time": "2022-05-09T17:07:50.497295",
     "exception": false,
     "start_time": "2022-05-09T17:07:50.467474",
     "status": "completed"
    },
    "tags": [
     "remove_input"
    ]
   },
   "outputs": [],
   "source": [
    "def set_yaxis_range(df, y_col):\n",
    "    Y_MIN = df[y_col].min()\n",
    "    Y_MAX = df[y_col].max()\n",
    "    \n",
    "    return Y_MIN, Y_MAX\n",
    "\n",
    "# Rather than set it according to the operator, which can vary,\n",
    "# just use set thresholds for each group\n",
    "diff_cutoffs = parallel_corridors_utils.diff_cutoffs\n",
    "\n",
    "PCT_TRIPS_BELOW_CUTOFF = 0.25\n",
    "\n",
    "def top15_routes(df, route_group):\n",
    "    df2 = (df[df.route_group==route_group])\n",
    "    # Set a cut-off to enable sorting, where most of the trips are \n",
    "    # below a certain time difference cut-off, \n",
    "    # grab top 15 routes where majority of trips are below that cut-off \n",
    "\n",
    "    route_cols = [\"calitp_itp_id\", \"route_id\"]\n",
    "\n",
    "    df2 = df2.assign(\n",
    "        below_cutoff = df2.apply(lambda x: 1 if x.bus_difference <= diff_cutoffs[route_group] \n",
    "                                 else 0, axis=1),\n",
    "        num_trips = df2.groupby(route_cols)[\"trip_id\"].transform(\"count\")\n",
    "    )\n",
    "\n",
    "    df2[\"below_cutoff\"] = df2.groupby(route_cols)[\"below_cutoff\"].transform(\"sum\")\n",
    "    df2[\"pct_below_cutoff\"] = df2.below_cutoff.divide(df2.num_trips)\n",
    "\n",
    "    # At least half the trips are below that cut-off\n",
    "    # but show 15 max, otherwise, show less, since these won't be as interesting to operators\n",
    "    df3 = (df2[df2.pct_below_cutoff >= PCT_TRIPS_BELOW_CUTOFF]\n",
    "           .sort_values([\"calitp_itp_id\", \"below_cutoff\", \n",
    "                         \"pct_below_cutoff\", \"route_id\"],\n",
    "                        ascending = [True, False, False, True]\n",
    "                       )\n",
    "           .drop_duplicates(subset=[\"calitp_itp_id\", \"route_id\"])\n",
    "          ).head(15)\n",
    "    \n",
    "    return list(df3.route_id)"
   ]
  },
  {
   "cell_type": "code",
   "execution_count": 10,
   "id": "cf36d559-3349-4144-8086-8ac9ce937a5a",
   "metadata": {
    "execution": {
     "iopub.execute_input": "2022-05-09T17:07:50.536110Z",
     "iopub.status.busy": "2022-05-09T17:07:50.535771Z",
     "iopub.status.idle": "2022-05-09T17:07:50.542431Z",
     "shell.execute_reply": "2022-05-09T17:07:50.541509Z"
    },
    "jupyter": {
     "source_hidden": true
    },
    "papermill": {
     "duration": 0.025225,
     "end_time": "2022-05-09T17:07:50.544621",
     "exception": false,
     "start_time": "2022-05-09T17:07:50.519396",
     "status": "completed"
    },
    "tags": [
     "remove_input"
    ]
   },
   "outputs": [],
   "source": [
    "def caption_with_cutoff(cutoff):\n",
    "    sentence = (\n",
    "        f\"<br>These are routes that have **at least {int(PCT_TRIPS_BELOW_CUTOFF*100)}% \"\n",
    "        \"of their trips take no more than an \"\n",
    "        f\"additional {cutoff} min** compared to a car \"\n",
    "        \"(up to 15 routes) are shown.\"\n",
    "        \"<br>Within each route group, routes are sorted in descending order \"\n",
    "        \"by % competitive trips and # trips below the additional time cut-off.\"\n",
    "    )\n",
    "    return sentence\n",
    "\n",
    "CAPTIONS_DICT = {\n",
    "    \"short\": caption_with_cutoff(diff_cutoffs['short']),\n",
    "    \"medium\": caption_with_cutoff(diff_cutoffs['medium']),\n",
    "    \"long\": caption_with_cutoff(diff_cutoffs['long']),\n",
    "}"
   ]
  },
  {
   "cell_type": "code",
   "execution_count": 11,
   "id": "e4306d58-6944-47e9-afef-5d5b524c751f",
   "metadata": {
    "execution": {
     "iopub.execute_input": "2022-05-09T17:07:50.576511Z",
     "iopub.status.busy": "2022-05-09T17:07:50.575416Z",
     "iopub.status.idle": "2022-05-09T17:07:50.583852Z",
     "shell.execute_reply": "2022-05-09T17:07:50.583115Z"
    },
    "jupyter": {
     "source_hidden": true
    },
    "papermill": {
     "duration": 0.027293,
     "end_time": "2022-05-09T17:07:50.586203",
     "exception": false,
     "start_time": "2022-05-09T17:07:50.558910",
     "status": "completed"
    },
    "tags": [
     "remove_input"
    ]
   },
   "outputs": [],
   "source": [
    "def setup_charts(df, PCT_COMPETITIVE_THRESHOLD, route_group):\n",
    "    # Set up df for charting (cut-off at some threshold to show most competitive routes)\n",
    "    plot_me = (df[df.pct_trips_competitive > PCT_COMPETITIVE_THRESHOLD]\n",
    "           .drop(columns = \"geometry\")\n",
    "    )\n",
    "    \n",
    "    y_col1 = \"bus_multiplier\"\n",
    "    Y_MIN1, Y_MAX1 = set_yaxis_range(plot_me, y_col1)\n",
    "\n",
    "    y_col2 = \"bus_difference\"\n",
    "    Y_MIN2, Y_MAX2 = set_yaxis_range(plot_me, y_col2)\n",
    "     \n",
    "    subset_routes = top15_routes(plot_me, route_group)\n",
    "    \n",
    "    multiplier_chart = parallel_corridors_utils.make_stripplot(\n",
    "        plot_me[plot_me.route_id.isin(subset_routes)], \n",
    "        y_col1, Y_MIN = Y_MIN1, Y_MAX = Y_MAX1\n",
    "    )\n",
    "    \n",
    "    difference_chart = parallel_corridors_utils.make_stripplot(\n",
    "        plot_me[plot_me.route_id.isin(subset_routes)], \n",
    "        y_col2, Y_MIN = Y_MIN2, Y_MAX = Y_MAX2\n",
    "    )\n",
    "    \n",
    "    return subset_routes, multiplier_chart, difference_chart            "
   ]
  },
  {
   "cell_type": "code",
   "execution_count": 12,
   "id": "33a710e8-504c-4942-aa75-ff69f216956e",
   "metadata": {
    "execution": {
     "iopub.execute_input": "2022-05-09T17:07:50.625169Z",
     "iopub.status.busy": "2022-05-09T17:07:50.624416Z",
     "iopub.status.idle": "2022-05-09T17:07:50.630778Z",
     "shell.execute_reply": "2022-05-09T17:07:50.630064Z"
    },
    "jupyter": {
     "source_hidden": true
    },
    "papermill": {
     "duration": 0.024889,
     "end_time": "2022-05-09T17:07:50.632792",
     "exception": false,
     "start_time": "2022-05-09T17:07:50.607903",
     "status": "completed"
    },
    "tags": [
     "remove_input"
    ]
   },
   "outputs": [],
   "source": [
    "def display_charts_for_route_group(df, route_group):    \n",
    "    subset_routes, mult, diff  = setup_charts(df, PCT_COMPETITIVE_THRESHOLD, route_group)\n",
    "\n",
    "    if len(subset_routes) > 0:\n",
    "        display(Markdown(f\"{CAPTIONS_DICT[route_group]}\"))\n",
    "\n",
    "        display(mult)\n",
    "        display(diff)"
   ]
  },
  {
   "cell_type": "markdown",
   "id": "525f9b38-072b-46d1-96a8-1aa4b038357c",
   "metadata": {
    "papermill": {
     "duration": 0.014203,
     "end_time": "2022-05-09T17:07:50.666060",
     "exception": false,
     "start_time": "2022-05-09T17:07:50.651857",
     "status": "completed"
    },
    "tags": []
   },
   "source": [
    "## Viable Competitive Routes\n",
    "### Short Routes (< 1 hr)"
   ]
  },
  {
   "cell_type": "code",
   "execution_count": 13,
   "id": "57f7084c-2cf7-45c6-ba08-1609e0bd6ca5",
   "metadata": {
    "execution": {
     "iopub.execute_input": "2022-05-09T17:07:50.712331Z",
     "iopub.status.busy": "2022-05-09T17:07:50.711335Z",
     "iopub.status.idle": "2022-05-09T17:07:51.026184Z",
     "shell.execute_reply": "2022-05-09T17:07:51.025093Z"
    },
    "jupyter": {
     "source_hidden": true
    },
    "papermill": {
     "duration": 0.345992,
     "end_time": "2022-05-09T17:07:51.030884",
     "exception": false,
     "start_time": "2022-05-09T17:07:50.684892",
     "status": "completed"
    },
    "tags": [
     "remove_input"
    ]
   },
   "outputs": [
    {
     "data": {
      "text/markdown": [
       "<br>These are routes that have **at least 25% of their trips take no more than an additional 20 min** compared to a car (up to 15 routes) are shown.<br>Within each route group, routes are sorted in descending order by % competitive trips and # trips below the additional time cut-off."
      ],
      "text/plain": [
       "<IPython.core.display.Markdown object>"
      ]
     },
     "metadata": {},
     "output_type": "display_data"
    },
    {
     "data": {
      "text/html": [
       "\n",
       "<div id=\"altair-viz-c9786be7073e42619ccd3ebbd4f79163\"></div>\n",
       "<script type=\"text/javascript\">\n",
       "  var VEGA_DEBUG = (typeof VEGA_DEBUG == \"undefined\") ? {} : VEGA_DEBUG;\n",
       "  (function(spec, embedOpt){\n",
       "    let outputDiv = document.currentScript.previousElementSibling;\n",
       "    if (outputDiv.id !== \"altair-viz-c9786be7073e42619ccd3ebbd4f79163\") {\n",
       "      outputDiv = document.getElementById(\"altair-viz-c9786be7073e42619ccd3ebbd4f79163\");\n",
       "    }\n",
       "    const paths = {\n",
       "      \"vega\": \"https://cdn.jsdelivr.net/npm//vega@5?noext\",\n",
       "      \"vega-lib\": \"https://cdn.jsdelivr.net/npm//vega-lib?noext\",\n",
       "      \"vega-lite\": \"https://cdn.jsdelivr.net/npm//vega-lite@4.17.0?noext\",\n",
       "      \"vega-embed\": \"https://cdn.jsdelivr.net/npm//vega-embed@6?noext\",\n",
       "    };\n",
       "\n",
       "    function maybeLoadScript(lib, version) {\n",
       "      var key = `${lib.replace(\"-\", \"\")}_version`;\n",
       "      return (VEGA_DEBUG[key] == version) ?\n",
       "        Promise.resolve(paths[lib]) :\n",
       "        new Promise(function(resolve, reject) {\n",
       "          var s = document.createElement('script');\n",
       "          document.getElementsByTagName(\"head\")[0].appendChild(s);\n",
       "          s.async = true;\n",
       "          s.onload = () => {\n",
       "            VEGA_DEBUG[key] = version;\n",
       "            return resolve(paths[lib]);\n",
       "          };\n",
       "          s.onerror = () => reject(`Error loading script: ${paths[lib]}`);\n",
       "          s.src = paths[lib];\n",
       "        });\n",
       "    }\n",
       "\n",
       "    function showError(err) {\n",
       "      outputDiv.innerHTML = `<div class=\"error\" style=\"color:red;\">${err}</div>`;\n",
       "      throw err;\n",
       "    }\n",
       "\n",
       "    function displayChart(vegaEmbed) {\n",
       "      vegaEmbed(outputDiv, spec, embedOpt)\n",
       "        .catch(err => showError(`Javascript Error: ${err.message}<br>This usually means there's a typo in your chart specification. See the javascript console for the full traceback.`));\n",
       "    }\n",
       "\n",
       "    if(typeof define === \"function\" && define.amd) {\n",
       "      requirejs.config({paths});\n",
       "      require([\"vega-embed\"], displayChart, err => showError(`Error loading script: ${err.message}`));\n",
       "    } else {\n",
       "      maybeLoadScript(\"vega\", \"5\")\n",
       "        .then(() => maybeLoadScript(\"vega-lite\", \"4.17.0\"))\n",
       "        .then(() => maybeLoadScript(\"vega-embed\", \"6\"))\n",
       "        .catch(showError)\n",
       "        .then(() => displayChart(vegaEmbed));\n",
       "    }\n",
       "  })({\"config\": {\"view\": {\"continuousWidth\": 400, \"continuousHeight\": 300, \"stroke\": null}, \"facet\": {\"spacing\": 0}}, \"data\": {\"name\": \"data-02a3e9996f30d22b0e3a6fc994bba0bc\"}, \"facet\": {\"column\": {\"field\": \"route_id\", \"sort\": [\"40\"], \"title\": \"Route ID\", \"type\": \"nominal\"}}, \"spec\": {\"layer\": [{\"mark\": \"rule\", \"encoding\": {\"color\": {\"value\": \"black\"}, \"y\": {\"field\": \"cutoff\", \"type\": \"quantitative\"}}, \"selection\": {\"selector001\": {\"type\": \"interval\", \"bind\": \"scales\", \"encodings\": [\"x\", \"y\"]}}}, {\"mark\": {\"type\": \"point\", \"opacity\": 0.65, \"size\": 12, \"strokeWidth\": 1.1}, \"encoding\": {\"color\": {\"field\": \"time_of_day\", \"scale\": {\"range\": [\"#136C97\", \"#E16B26\", \"#F6BF16\", \"#00896B\", \"#7790A3\", \"#5B559C\"]}, \"sort\": [\"AM Peak\", \"Midday\", \"PM Peak\", \"Owl Service\"], \"title\": \"Time of Day\", \"type\": \"nominal\"}, \"tooltip\": [{\"field\": \"route_id\", \"type\": \"nominal\"}, {\"field\": \"trip_id\", \"type\": \"nominal\"}, {\"field\": \"service_hours\", \"type\": \"quantitative\"}, {\"field\": \"car_duration_hours\", \"type\": \"quantitative\"}, {\"field\": \"bus_multiplier\", \"type\": \"quantitative\"}, {\"field\": \"bus_difference\", \"type\": \"quantitative\"}, {\"field\": \"num_trips\", \"type\": \"quantitative\"}, {\"field\": \"num_competitive\", \"type\": \"quantitative\"}, {\"field\": \"pct_trips_competitive\", \"type\": \"quantitative\"}, {\"field\": \"p25\", \"type\": \"quantitative\"}, {\"field\": \"p50\", \"type\": \"quantitative\"}, {\"field\": \"p75\", \"type\": \"quantitative\"}], \"x\": {\"axis\": {\"grid\": false, \"labels\": false, \"ticks\": true, \"values\": [0]}, \"field\": \"jitter\", \"scale\": {}, \"title\": null, \"type\": \"quantitative\"}, \"y\": {\"field\": \"bus_multiplier\", \"scale\": {\"domain\": [-0.25, 2.5]}, \"title\": \"Ratio of Bus to Car Travel Time\", \"type\": \"quantitative\"}}, \"transform\": [{\"calculate\": \"sqrt(-2*log(random()))*cos(2*PI*random())\", \"as\": \"jitter\"}], \"width\": 50}, {\"layer\": [{\"mark\": {\"type\": \"point\", \"opacity\": 0.6, \"size\": 20, \"strokeWidth\": 1.3}, \"encoding\": {\"color\": {\"value\": \"#323434\"}, \"y\": {\"field\": \"bus_multiplier\", \"type\": \"quantitative\"}}, \"transform\": [{\"filter\": \"(datum.p50_trip === 1)\"}]}, {\"mark\": {\"type\": \"text\", \"align\": \"center\", \"baseline\": \"middle\"}, \"encoding\": {\"color\": {\"value\": \"black\"}, \"text\": {\"field\": \"pct_trips_competitive\", \"format\": \".0%\", \"type\": \"quantitative\"}, \"tooltip\": [{\"field\": \"route_id\", \"type\": \"nominal\"}, {\"field\": \"trip_id\", \"type\": \"nominal\"}, {\"field\": \"service_hours\", \"type\": \"quantitative\"}, {\"field\": \"car_duration_hours\", \"type\": \"quantitative\"}, {\"field\": \"bus_multiplier\", \"type\": \"quantitative\"}, {\"field\": \"bus_difference\", \"type\": \"quantitative\"}, {\"field\": \"num_trips\", \"type\": \"quantitative\"}, {\"field\": \"num_competitive\", \"type\": \"quantitative\"}, {\"field\": \"pct_trips_competitive\", \"type\": \"quantitative\"}, {\"field\": \"p25\", \"type\": \"quantitative\"}, {\"field\": \"p50\", \"type\": \"quantitative\"}, {\"field\": \"p75\", \"type\": \"quantitative\"}], \"x\": {\"value\": 30}, \"y\": {\"value\": 15}}, \"transform\": [{\"calculate\": \"sqrt(-2*log(random()))*cos(2*PI*random())\", \"as\": \"jitter\"}, {\"filter\": \"(datum.fastest_trip === 1)\"}]}]}]}, \"resolve\": {\"scale\": {\"y\": \"shared\"}}, \"title\": \"Ratio of Bus to Car Travel Time\", \"$schema\": \"https://vega.github.io/schema/vega-lite/v4.17.0.json\", \"datasets\": {\"data-02a3e9996f30d22b0e3a6fc994bba0bc\": [{\"calitp_itp_id\": 243, \"trip_key\": -4683193974779480574, \"trip_id\": \"1475\", \"shape_id\": \"115\", \"route_id\": \"40\", \"service_hours\": 0.4, \"trip_first_departure_ts\": 67140, \"trip_last_arrival_ts\": 68580, \"departure_hour\": 18, \"time_of_day\": \"PM Peak\", \"p25\": 0.43, \"p50\": 0.43, \"p75\": 0.47, \"p50_trip\": 0, \"fastest_trip\": 0, \"car_duration_hours\": 0.36, \"competitive_route\": 1, \"bus_multiplier\": 1.11, \"bus_difference\": 2.4, \"num_trips\": 60, \"num_competitive\": 60, \"pct_trips_competitive\": 1.0, \"bus_difference_spread\": 7.2, \"route_group\": \"short\", \"max_trip_hrs\": 0.52, \"max_trip_route_group\": 0.9, \"name\": \"City of Pasadena\", \"caltrans_district\": \"07 - Los Angeles\", \"drmt_organization_name\": null, \"cutoff2\": 20, \"cutoff\": 2}, {\"calitp_itp_id\": 243, \"trip_key\": 3755065576031661020, \"trip_id\": \"1408\", \"shape_id\": \"115\", \"route_id\": \"40\", \"service_hours\": 0.4, \"trip_first_departure_ts\": 65160, \"trip_last_arrival_ts\": 66600, \"departure_hour\": 18, \"time_of_day\": \"PM Peak\", \"p25\": 0.43, \"p50\": 0.43, \"p75\": 0.47, \"p50_trip\": 0, \"fastest_trip\": 0, \"car_duration_hours\": 0.36, \"competitive_route\": 1, \"bus_multiplier\": 1.11, \"bus_difference\": 2.4, \"num_trips\": 60, \"num_competitive\": 60, \"pct_trips_competitive\": 1.0, \"bus_difference_spread\": 7.2, \"route_group\": \"short\", \"max_trip_hrs\": 0.52, \"max_trip_route_group\": 0.9, \"name\": \"City of Pasadena\", \"caltrans_district\": \"07 - Los Angeles\", \"drmt_organization_name\": null, \"cutoff2\": 20, \"cutoff\": 2}, {\"calitp_itp_id\": 243, \"trip_key\": 5737807320484712030, \"trip_id\": \"1410\", \"shape_id\": \"115\", \"route_id\": \"40\", \"service_hours\": 0.4, \"trip_first_departure_ts\": 68940, \"trip_last_arrival_ts\": 70380, \"departure_hour\": 19, \"time_of_day\": \"PM Peak\", \"p25\": 0.43, \"p50\": 0.43, \"p75\": 0.47, \"p50_trip\": 0, \"fastest_trip\": 1, \"car_duration_hours\": 0.36, \"competitive_route\": 1, \"bus_multiplier\": 1.11, \"bus_difference\": 2.4, \"num_trips\": 60, \"num_competitive\": 60, \"pct_trips_competitive\": 1.0, \"bus_difference_spread\": 7.2, \"route_group\": \"short\", \"max_trip_hrs\": 0.52, \"max_trip_route_group\": 0.9, \"name\": \"City of Pasadena\", \"caltrans_district\": \"07 - Los Angeles\", \"drmt_organization_name\": null, \"cutoff2\": 20, \"cutoff\": 2}, {\"calitp_itp_id\": 243, \"trip_key\": -5878716702429970159, \"trip_id\": \"1477\", \"shape_id\": \"115\", \"route_id\": \"40\", \"service_hours\": 0.4, \"trip_first_departure_ts\": 70740, \"trip_last_arrival_ts\": 72180, \"departure_hour\": 19, \"time_of_day\": \"PM Peak\", \"p25\": 0.43, \"p50\": 0.43, \"p75\": 0.47, \"p50_trip\": 0, \"fastest_trip\": 0, \"car_duration_hours\": 0.36, \"competitive_route\": 1, \"bus_multiplier\": 1.11, \"bus_difference\": 2.4, \"num_trips\": 60, \"num_competitive\": 60, \"pct_trips_competitive\": 1.0, \"bus_difference_spread\": 7.2, \"route_group\": \"short\", \"max_trip_hrs\": 0.52, \"max_trip_route_group\": 0.9, \"name\": \"City of Pasadena\", \"caltrans_district\": \"07 - Los Angeles\", \"drmt_organization_name\": null, \"cutoff2\": 20, \"cutoff\": 2}, {\"calitp_itp_id\": 243, \"trip_key\": 3421942835263118318, \"trip_id\": \"1467\", \"shape_id\": \"115\", \"route_id\": \"40\", \"service_hours\": 0.42, \"trip_first_departure_ts\": 51300, \"trip_last_arrival_ts\": 52800, \"departure_hour\": 14, \"time_of_day\": \"Midday\", \"p25\": 0.43, \"p50\": 0.43, \"p75\": 0.47, \"p50_trip\": 0, \"fastest_trip\": 0, \"car_duration_hours\": 0.36, \"competitive_route\": 1, \"bus_multiplier\": 1.17, \"bus_difference\": 3.6, \"num_trips\": 60, \"num_competitive\": 60, \"pct_trips_competitive\": 1.0, \"bus_difference_spread\": 7.2, \"route_group\": \"short\", \"max_trip_hrs\": 0.52, \"max_trip_route_group\": 0.9, \"name\": \"City of Pasadena\", \"caltrans_district\": \"07 - Los Angeles\", \"drmt_organization_name\": null, \"cutoff2\": 20, \"cutoff\": 2}, {\"calitp_itp_id\": 243, \"trip_key\": -3971823856648761703, \"trip_id\": \"1454\", \"shape_id\": \"115\", \"route_id\": \"40\", \"service_hours\": 0.42, \"trip_first_departure_ts\": 23580, \"trip_last_arrival_ts\": 25080, \"departure_hour\": 6, \"time_of_day\": \"Owl Service\", \"p25\": 0.43, \"p50\": 0.43, \"p75\": 0.47, \"p50_trip\": 0, \"fastest_trip\": 0, \"car_duration_hours\": 0.36, \"competitive_route\": 1, \"bus_multiplier\": 1.17, \"bus_difference\": 3.6, \"num_trips\": 60, \"num_competitive\": 60, \"pct_trips_competitive\": 1.0, \"bus_difference_spread\": 7.2, \"route_group\": \"short\", \"max_trip_hrs\": 0.52, \"max_trip_route_group\": 0.9, \"name\": \"City of Pasadena\", \"caltrans_district\": \"07 - Los Angeles\", \"drmt_organization_name\": null, \"cutoff2\": 20, \"cutoff\": 2}, {\"calitp_itp_id\": 243, \"trip_key\": 571203467262955197, \"trip_id\": \"1461\", \"shape_id\": \"115\", \"route_id\": \"40\", \"service_hours\": 0.42, \"trip_first_departure_ts\": 39420, \"trip_last_arrival_ts\": 40920, \"departure_hour\": 10, \"time_of_day\": \"Midday\", \"p25\": 0.43, \"p50\": 0.43, \"p75\": 0.47, \"p50_trip\": 0, \"fastest_trip\": 0, \"car_duration_hours\": 0.36, \"competitive_route\": 1, \"bus_multiplier\": 1.17, \"bus_difference\": 3.6, \"num_trips\": 60, \"num_competitive\": 60, \"pct_trips_competitive\": 1.0, \"bus_difference_spread\": 7.2, \"route_group\": \"short\", \"max_trip_hrs\": 0.52, \"max_trip_route_group\": 0.9, \"name\": \"City of Pasadena\", \"caltrans_district\": \"07 - Los Angeles\", \"drmt_organization_name\": null, \"cutoff2\": 20, \"cutoff\": 2}, {\"calitp_itp_id\": 243, \"trip_key\": -3331154249928098219, \"trip_id\": \"1398\", \"shape_id\": \"115\", \"route_id\": \"40\", \"service_hours\": 0.42, \"trip_first_departure_ts\": 45360, \"trip_last_arrival_ts\": 46860, \"departure_hour\": 12, \"time_of_day\": \"Midday\", \"p25\": 0.43, \"p50\": 0.43, \"p75\": 0.47, \"p50_trip\": 0, \"fastest_trip\": 0, \"car_duration_hours\": 0.36, \"competitive_route\": 1, \"bus_multiplier\": 1.17, \"bus_difference\": 3.6, \"num_trips\": 60, \"num_competitive\": 60, \"pct_trips_competitive\": 1.0, \"bus_difference_spread\": 7.2, \"route_group\": \"short\", \"max_trip_hrs\": 0.52, \"max_trip_route_group\": 0.9, \"name\": \"City of Pasadena\", \"caltrans_district\": \"07 - Los Angeles\", \"drmt_organization_name\": null, \"cutoff2\": 20, \"cutoff\": 2}, {\"calitp_itp_id\": 243, \"trip_key\": 8871366527079549887, \"trip_id\": \"1396\", \"shape_id\": \"115\", \"route_id\": \"40\", \"service_hours\": 0.42, \"trip_first_departure_ts\": 41400, \"trip_last_arrival_ts\": 42900, \"departure_hour\": 11, \"time_of_day\": \"Midday\", \"p25\": 0.43, \"p50\": 0.43, \"p75\": 0.47, \"p50_trip\": 0, \"fastest_trip\": 0, \"car_duration_hours\": 0.36, \"competitive_route\": 1, \"bus_multiplier\": 1.17, \"bus_difference\": 3.6, \"num_trips\": 60, \"num_competitive\": 60, \"pct_trips_competitive\": 1.0, \"bus_difference_spread\": 7.2, \"route_group\": \"short\", \"max_trip_hrs\": 0.52, \"max_trip_route_group\": 0.9, \"name\": \"City of Pasadena\", \"caltrans_district\": \"07 - Los Angeles\", \"drmt_organization_name\": null, \"cutoff2\": 20, \"cutoff\": 2}, {\"calitp_itp_id\": 243, \"trip_key\": -7625146753172560862, \"trip_id\": \"575\", \"shape_id\": \"115\", \"route_id\": \"40\", \"service_hours\": 0.42, \"trip_first_departure_ts\": 21600, \"trip_last_arrival_ts\": 23100, \"departure_hour\": 6, \"time_of_day\": \"Owl Service\", \"p25\": 0.43, \"p50\": 0.43, \"p75\": 0.47, \"p50_trip\": 0, \"fastest_trip\": 0, \"car_duration_hours\": 0.36, \"competitive_route\": 1, \"bus_multiplier\": 1.17, \"bus_difference\": 3.6, \"num_trips\": 60, \"num_competitive\": 60, \"pct_trips_competitive\": 1.0, \"bus_difference_spread\": 7.2, \"route_group\": \"short\", \"max_trip_hrs\": 0.52, \"max_trip_route_group\": 0.9, \"name\": \"City of Pasadena\", \"caltrans_district\": \"07 - Los Angeles\", \"drmt_organization_name\": null, \"cutoff2\": 20, \"cutoff\": 2}, {\"calitp_itp_id\": 243, \"trip_key\": 1097618043081436245, \"trip_id\": \"1394\", \"shape_id\": \"115\", \"route_id\": \"40\", \"service_hours\": 0.42, \"trip_first_departure_ts\": 37440, \"trip_last_arrival_ts\": 38940, \"departure_hour\": 10, \"time_of_day\": \"Midday\", \"p25\": 0.43, \"p50\": 0.43, \"p75\": 0.47, \"p50_trip\": 0, \"fastest_trip\": 0, \"car_duration_hours\": 0.36, \"competitive_route\": 1, \"bus_multiplier\": 1.17, \"bus_difference\": 3.6, \"num_trips\": 60, \"num_competitive\": 60, \"pct_trips_competitive\": 1.0, \"bus_difference_spread\": 7.2, \"route_group\": \"short\", \"max_trip_hrs\": 0.52, \"max_trip_route_group\": 0.9, \"name\": \"City of Pasadena\", \"caltrans_district\": \"07 - Los Angeles\", \"drmt_organization_name\": null, \"cutoff2\": 20, \"cutoff\": 2}, {\"calitp_itp_id\": 243, \"trip_key\": 2953871376385710556, \"trip_id\": \"395\", \"shape_id\": \"116\", \"route_id\": \"40\", \"service_hours\": 0.42, \"trip_first_departure_ts\": 23640, \"trip_last_arrival_ts\": 25140, \"departure_hour\": 6, \"time_of_day\": \"Owl Service\", \"p25\": 0.43, \"p50\": 0.43, \"p75\": 0.47, \"p50_trip\": 0, \"fastest_trip\": 0, \"car_duration_hours\": 0.36, \"competitive_route\": 1, \"bus_multiplier\": 1.17, \"bus_difference\": 3.6, \"num_trips\": 60, \"num_competitive\": 60, \"pct_trips_competitive\": 1.0, \"bus_difference_spread\": 7.2, \"route_group\": \"short\", \"max_trip_hrs\": 0.52, \"max_trip_route_group\": 0.9, \"name\": \"City of Pasadena\", \"caltrans_district\": \"07 - Los Angeles\", \"drmt_organization_name\": null, \"cutoff2\": 20, \"cutoff\": 2}, {\"calitp_itp_id\": 243, \"trip_key\": -5744225030962745131, \"trip_id\": \"1463\", \"shape_id\": \"115\", \"route_id\": \"40\", \"service_hours\": 0.42, \"trip_first_departure_ts\": 43380, \"trip_last_arrival_ts\": 44880, \"departure_hour\": 12, \"time_of_day\": \"Midday\", \"p25\": 0.43, \"p50\": 0.43, \"p75\": 0.47, \"p50_trip\": 0, \"fastest_trip\": 0, \"car_duration_hours\": 0.36, \"competitive_route\": 1, \"bus_multiplier\": 1.17, \"bus_difference\": 3.6, \"num_trips\": 60, \"num_competitive\": 60, \"pct_trips_competitive\": 1.0, \"bus_difference_spread\": 7.2, \"route_group\": \"short\", \"max_trip_hrs\": 0.52, \"max_trip_route_group\": 0.9, \"name\": \"City of Pasadena\", \"caltrans_district\": \"07 - Los Angeles\", \"drmt_organization_name\": null, \"cutoff2\": 20, \"cutoff\": 2}, {\"calitp_itp_id\": 243, \"trip_key\": -6811379298604587808, \"trip_id\": \"1455\", \"shape_id\": \"116\", \"route_id\": \"40\", \"service_hours\": 0.43, \"trip_first_departure_ts\": 25620, \"trip_last_arrival_ts\": 27180, \"departure_hour\": 7, \"time_of_day\": \"AM Peak\", \"p25\": 0.43, \"p50\": 0.43, \"p75\": 0.47, \"p50_trip\": 1, \"fastest_trip\": 0, \"car_duration_hours\": 0.36, \"competitive_route\": 1, \"bus_multiplier\": 1.19, \"bus_difference\": 4.2, \"num_trips\": 60, \"num_competitive\": 60, \"pct_trips_competitive\": 1.0, \"bus_difference_spread\": 7.2, \"route_group\": \"short\", \"max_trip_hrs\": 0.52, \"max_trip_route_group\": 0.9, \"name\": \"City of Pasadena\", \"caltrans_district\": \"07 - Los Angeles\", \"drmt_organization_name\": null, \"cutoff2\": 20, \"cutoff\": 2}, {\"calitp_itp_id\": 243, \"trip_key\": -1075970438840635475, \"trip_id\": \"1391\", \"shape_id\": \"116\", \"route_id\": \"40\", \"service_hours\": 0.43, \"trip_first_departure_ts\": 31560, \"trip_last_arrival_ts\": 33120, \"departure_hour\": 8, \"time_of_day\": \"AM Peak\", \"p25\": 0.43, \"p50\": 0.43, \"p75\": 0.47, \"p50_trip\": 1, \"fastest_trip\": 0, \"car_duration_hours\": 0.36, \"competitive_route\": 1, \"bus_multiplier\": 1.19, \"bus_difference\": 4.2, \"num_trips\": 60, \"num_competitive\": 60, \"pct_trips_competitive\": 1.0, \"bus_difference_spread\": 7.2, \"route_group\": \"short\", \"max_trip_hrs\": 0.52, \"max_trip_route_group\": 0.9, \"name\": \"City of Pasadena\", \"caltrans_district\": \"07 - Los Angeles\", \"drmt_organization_name\": null, \"cutoff2\": 20, \"cutoff\": 2}, {\"calitp_itp_id\": 243, \"trip_key\": 3849708608977064688, \"trip_id\": \"1458\", \"shape_id\": \"115\", \"route_id\": \"40\", \"service_hours\": 0.43, \"trip_first_departure_ts\": 31500, \"trip_last_arrival_ts\": 33060, \"departure_hour\": 8, \"time_of_day\": \"AM Peak\", \"p25\": 0.43, \"p50\": 0.43, \"p75\": 0.47, \"p50_trip\": 1, \"fastest_trip\": 0, \"car_duration_hours\": 0.36, \"competitive_route\": 1, \"bus_multiplier\": 1.19, \"bus_difference\": 4.2, \"num_trips\": 60, \"num_competitive\": 60, \"pct_trips_competitive\": 1.0, \"bus_difference_spread\": 7.2, \"route_group\": \"short\", \"max_trip_hrs\": 0.52, \"max_trip_route_group\": 0.9, \"name\": \"City of Pasadena\", \"caltrans_district\": \"07 - Los Angeles\", \"drmt_organization_name\": null, \"cutoff2\": 20, \"cutoff\": 2}, {\"calitp_itp_id\": 243, \"trip_key\": -3429725424476719160, \"trip_id\": \"1465\", \"shape_id\": \"115\", \"route_id\": \"40\", \"service_hours\": 0.43, \"trip_first_departure_ts\": 47340, \"trip_last_arrival_ts\": 48900, \"departure_hour\": 13, \"time_of_day\": \"Midday\", \"p25\": 0.43, \"p50\": 0.43, \"p75\": 0.47, \"p50_trip\": 1, \"fastest_trip\": 0, \"car_duration_hours\": 0.36, \"competitive_route\": 1, \"bus_multiplier\": 1.19, \"bus_difference\": 4.2, \"num_trips\": 60, \"num_competitive\": 60, \"pct_trips_competitive\": 1.0, \"bus_difference_spread\": 7.2, \"route_group\": \"short\", \"max_trip_hrs\": 0.52, \"max_trip_route_group\": 0.9, \"name\": \"City of Pasadena\", \"caltrans_district\": \"07 - Los Angeles\", \"drmt_organization_name\": null, \"cutoff2\": 20, \"cutoff\": 2}, {\"calitp_itp_id\": 243, \"trip_key\": 5607973623522429463, \"trip_id\": \"1471\", \"shape_id\": \"115\", \"route_id\": \"40\", \"service_hours\": 0.43, \"trip_first_departure_ts\": 59220, \"trip_last_arrival_ts\": 60780, \"departure_hour\": 16, \"time_of_day\": \"Midday\", \"p25\": 0.43, \"p50\": 0.43, \"p75\": 0.47, \"p50_trip\": 1, \"fastest_trip\": 0, \"car_duration_hours\": 0.36, \"competitive_route\": 1, \"bus_multiplier\": 1.19, \"bus_difference\": 4.2, \"num_trips\": 60, \"num_competitive\": 60, \"pct_trips_competitive\": 1.0, \"bus_difference_spread\": 7.2, \"route_group\": \"short\", \"max_trip_hrs\": 0.52, \"max_trip_route_group\": 0.9, \"name\": \"City of Pasadena\", \"caltrans_district\": \"07 - Los Angeles\", \"drmt_organization_name\": null, \"cutoff2\": 20, \"cutoff\": 2}, {\"calitp_itp_id\": 243, \"trip_key\": 7147158597936599933, \"trip_id\": \"397\", \"shape_id\": \"116\", \"route_id\": \"40\", \"service_hours\": 0.43, \"trip_first_departure_ts\": 27600, \"trip_last_arrival_ts\": 29160, \"departure_hour\": 7, \"time_of_day\": \"AM Peak\", \"p25\": 0.43, \"p50\": 0.43, \"p75\": 0.47, \"p50_trip\": 1, \"fastest_trip\": 0, \"car_duration_hours\": 0.36, \"competitive_route\": 1, \"bus_multiplier\": 1.19, \"bus_difference\": 4.2, \"num_trips\": 60, \"num_competitive\": 60, \"pct_trips_competitive\": 1.0, \"bus_difference_spread\": 7.2, \"route_group\": \"short\", \"max_trip_hrs\": 0.52, \"max_trip_route_group\": 0.9, \"name\": \"City of Pasadena\", \"caltrans_district\": \"07 - Los Angeles\", \"drmt_organization_name\": null, \"cutoff2\": 20, \"cutoff\": 2}, {\"calitp_itp_id\": 243, \"trip_key\": 5130996138285784141, \"trip_id\": \"1485\", \"shape_id\": \"115\", \"route_id\": \"40\", \"service_hours\": 0.43, \"trip_first_departure_ts\": 60180, \"trip_last_arrival_ts\": 61740, \"departure_hour\": 16, \"time_of_day\": \"Midday\", \"p25\": 0.43, \"p50\": 0.43, \"p75\": 0.47, \"p50_trip\": 1, \"fastest_trip\": 0, \"car_duration_hours\": 0.36, \"competitive_route\": 1, \"bus_multiplier\": 1.19, \"bus_difference\": 4.2, \"num_trips\": 60, \"num_competitive\": 60, \"pct_trips_competitive\": 1.0, \"bus_difference_spread\": 7.2, \"route_group\": \"short\", \"max_trip_hrs\": 0.52, \"max_trip_route_group\": 0.9, \"name\": \"City of Pasadena\", \"caltrans_district\": \"07 - Los Angeles\", \"drmt_organization_name\": null, \"cutoff2\": 20, \"cutoff\": 2}, {\"calitp_itp_id\": 243, \"trip_key\": 5334111742153078456, \"trip_id\": \"1480\", \"shape_id\": \"116\", \"route_id\": \"40\", \"service_hours\": 0.43, \"trip_first_departure_ts\": 30540, \"trip_last_arrival_ts\": 32100, \"departure_hour\": 8, \"time_of_day\": \"AM Peak\", \"p25\": 0.43, \"p50\": 0.43, \"p75\": 0.47, \"p50_trip\": 1, \"fastest_trip\": 0, \"car_duration_hours\": 0.36, \"competitive_route\": 1, \"bus_multiplier\": 1.19, \"bus_difference\": 4.2, \"num_trips\": 60, \"num_competitive\": 60, \"pct_trips_competitive\": 1.0, \"bus_difference_spread\": 7.2, \"route_group\": \"short\", \"max_trip_hrs\": 0.52, \"max_trip_route_group\": 0.9, \"name\": \"City of Pasadena\", \"caltrans_district\": \"07 - Los Angeles\", \"drmt_organization_name\": null, \"cutoff2\": 20, \"cutoff\": 2}, {\"calitp_itp_id\": 243, \"trip_key\": 1064322808308691801, \"trip_id\": \"1406\", \"shape_id\": \"115\", \"route_id\": \"40\", \"service_hours\": 0.43, \"trip_first_departure_ts\": 61200, \"trip_last_arrival_ts\": 62760, \"departure_hour\": 17, \"time_of_day\": \"PM Peak\", \"p25\": 0.43, \"p50\": 0.43, \"p75\": 0.47, \"p50_trip\": 1, \"fastest_trip\": 0, \"car_duration_hours\": 0.36, \"competitive_route\": 1, \"bus_multiplier\": 1.19, \"bus_difference\": 4.2, \"num_trips\": 60, \"num_competitive\": 60, \"pct_trips_competitive\": 1.0, \"bus_difference_spread\": 7.2, \"route_group\": \"short\", \"max_trip_hrs\": 0.52, \"max_trip_route_group\": 0.9, \"name\": \"City of Pasadena\", \"caltrans_district\": \"07 - Los Angeles\", \"drmt_organization_name\": null, \"cutoff2\": 20, \"cutoff\": 2}, {\"calitp_itp_id\": 243, \"trip_key\": -457273300587208898, \"trip_id\": \"1479\", \"shape_id\": \"115\", \"route_id\": \"40\", \"service_hours\": 0.43, \"trip_first_departure_ts\": 28380, \"trip_last_arrival_ts\": 29940, \"departure_hour\": 7, \"time_of_day\": \"AM Peak\", \"p25\": 0.43, \"p50\": 0.43, \"p75\": 0.47, \"p50_trip\": 1, \"fastest_trip\": 0, \"car_duration_hours\": 0.36, \"competitive_route\": 1, \"bus_multiplier\": 1.19, \"bus_difference\": 4.2, \"num_trips\": 60, \"num_competitive\": 60, \"pct_trips_competitive\": 1.0, \"bus_difference_spread\": 7.2, \"route_group\": \"short\", \"max_trip_hrs\": 0.52, \"max_trip_route_group\": 0.9, \"name\": \"City of Pasadena\", \"caltrans_district\": \"07 - Los Angeles\", \"drmt_organization_name\": null, \"cutoff2\": 20, \"cutoff\": 2}, {\"calitp_itp_id\": 243, \"trip_key\": -2156526438854766631, \"trip_id\": \"1402\", \"shape_id\": \"115\", \"route_id\": \"40\", \"service_hours\": 0.43, \"trip_first_departure_ts\": 53280, \"trip_last_arrival_ts\": 54840, \"departure_hour\": 14, \"time_of_day\": \"Midday\", \"p25\": 0.43, \"p50\": 0.43, \"p75\": 0.47, \"p50_trip\": 1, \"fastest_trip\": 0, \"car_duration_hours\": 0.36, \"competitive_route\": 1, \"bus_multiplier\": 1.19, \"bus_difference\": 4.2, \"num_trips\": 60, \"num_competitive\": 60, \"pct_trips_competitive\": 1.0, \"bus_difference_spread\": 7.2, \"route_group\": \"short\", \"max_trip_hrs\": 0.52, \"max_trip_route_group\": 0.9, \"name\": \"City of Pasadena\", \"caltrans_district\": \"07 - Los Angeles\", \"drmt_organization_name\": null, \"cutoff2\": 20, \"cutoff\": 2}, {\"calitp_itp_id\": 243, \"trip_key\": -5520825071662195722, \"trip_id\": \"515\", \"shape_id\": \"116\", \"route_id\": \"40\", \"service_hours\": 0.43, \"trip_first_departure_ts\": 33540, \"trip_last_arrival_ts\": 35100, \"departure_hour\": 9, \"time_of_day\": \"AM Peak\", \"p25\": 0.43, \"p50\": 0.43, \"p75\": 0.47, \"p50_trip\": 1, \"fastest_trip\": 0, \"car_duration_hours\": 0.36, \"competitive_route\": 1, \"bus_multiplier\": 1.19, \"bus_difference\": 4.2, \"num_trips\": 60, \"num_competitive\": 60, \"pct_trips_competitive\": 1.0, \"bus_difference_spread\": 7.2, \"route_group\": \"short\", \"max_trip_hrs\": 0.52, \"max_trip_route_group\": 0.9, \"name\": \"City of Pasadena\", \"caltrans_district\": \"07 - Los Angeles\", \"drmt_organization_name\": null, \"cutoff2\": 20, \"cutoff\": 2}, {\"calitp_itp_id\": 243, \"trip_key\": 427370692779107272, \"trip_id\": \"1392\", \"shape_id\": \"115\", \"route_id\": \"40\", \"service_hours\": 0.43, \"trip_first_departure_ts\": 33480, \"trip_last_arrival_ts\": 35040, \"departure_hour\": 9, \"time_of_day\": \"AM Peak\", \"p25\": 0.43, \"p50\": 0.43, \"p75\": 0.47, \"p50_trip\": 1, \"fastest_trip\": 0, \"car_duration_hours\": 0.36, \"competitive_route\": 1, \"bus_multiplier\": 1.19, \"bus_difference\": 4.2, \"num_trips\": 60, \"num_competitive\": 60, \"pct_trips_competitive\": 1.0, \"bus_difference_spread\": 7.2, \"route_group\": \"short\", \"max_trip_hrs\": 0.52, \"max_trip_route_group\": 0.9, \"name\": \"City of Pasadena\", \"caltrans_district\": \"07 - Los Angeles\", \"drmt_organization_name\": null, \"cutoff2\": 20, \"cutoff\": 2}, {\"calitp_itp_id\": 243, \"trip_key\": -4430660323068573471, \"trip_id\": \"1473\", \"shape_id\": \"115\", \"route_id\": \"40\", \"service_hours\": 0.43, \"trip_first_departure_ts\": 63180, \"trip_last_arrival_ts\": 64740, \"departure_hour\": 17, \"time_of_day\": \"PM Peak\", \"p25\": 0.43, \"p50\": 0.43, \"p75\": 0.47, \"p50_trip\": 1, \"fastest_trip\": 0, \"car_duration_hours\": 0.36, \"competitive_route\": 1, \"bus_multiplier\": 1.19, \"bus_difference\": 4.2, \"num_trips\": 60, \"num_competitive\": 60, \"pct_trips_competitive\": 1.0, \"bus_difference_spread\": 7.2, \"route_group\": \"short\", \"max_trip_hrs\": 0.52, \"max_trip_route_group\": 0.9, \"name\": \"City of Pasadena\", \"caltrans_district\": \"07 - Los Angeles\", \"drmt_organization_name\": null, \"cutoff2\": 20, \"cutoff\": 2}, {\"calitp_itp_id\": 243, \"trip_key\": -5720050255020226388, \"trip_id\": \"1390\", \"shape_id\": \"115\", \"route_id\": \"40\", \"service_hours\": 0.43, \"trip_first_departure_ts\": 29520, \"trip_last_arrival_ts\": 31080, \"departure_hour\": 8, \"time_of_day\": \"AM Peak\", \"p25\": 0.43, \"p50\": 0.43, \"p75\": 0.47, \"p50_trip\": 1, \"fastest_trip\": 0, \"car_duration_hours\": 0.36, \"competitive_route\": 1, \"bus_multiplier\": 1.19, \"bus_difference\": 4.2, \"num_trips\": 60, \"num_competitive\": 60, \"pct_trips_competitive\": 1.0, \"bus_difference_spread\": 7.2, \"route_group\": \"short\", \"max_trip_hrs\": 0.52, \"max_trip_route_group\": 0.9, \"name\": \"City of Pasadena\", \"caltrans_district\": \"07 - Los Angeles\", \"drmt_organization_name\": null, \"cutoff2\": 20, \"cutoff\": 2}, {\"calitp_itp_id\": 243, \"trip_key\": -5096491728171873290, \"trip_id\": \"1404\", \"shape_id\": \"115\", \"route_id\": \"40\", \"service_hours\": 0.43, \"trip_first_departure_ts\": 57240, \"trip_last_arrival_ts\": 58800, \"departure_hour\": 15, \"time_of_day\": \"Midday\", \"p25\": 0.43, \"p50\": 0.43, \"p75\": 0.47, \"p50_trip\": 1, \"fastest_trip\": 0, \"car_duration_hours\": 0.36, \"competitive_route\": 1, \"bus_multiplier\": 1.19, \"bus_difference\": 4.2, \"num_trips\": 60, \"num_competitive\": 60, \"pct_trips_competitive\": 1.0, \"bus_difference_spread\": 7.2, \"route_group\": \"short\", \"max_trip_hrs\": 0.52, \"max_trip_route_group\": 0.9, \"name\": \"City of Pasadena\", \"caltrans_district\": \"07 - Los Angeles\", \"drmt_organization_name\": null, \"cutoff2\": 20, \"cutoff\": 2}, {\"calitp_itp_id\": 243, \"trip_key\": 974509850166598335, \"trip_id\": \"1459\", \"shape_id\": \"115\", \"route_id\": \"40\", \"service_hours\": 0.43, \"trip_first_departure_ts\": 35460, \"trip_last_arrival_ts\": 37020, \"departure_hour\": 9, \"time_of_day\": \"AM Peak\", \"p25\": 0.43, \"p50\": 0.43, \"p75\": 0.47, \"p50_trip\": 1, \"fastest_trip\": 0, \"car_duration_hours\": 0.36, \"competitive_route\": 1, \"bus_multiplier\": 1.19, \"bus_difference\": 4.2, \"num_trips\": 60, \"num_competitive\": 60, \"pct_trips_competitive\": 1.0, \"bus_difference_spread\": 7.2, \"route_group\": \"short\", \"max_trip_hrs\": 0.52, \"max_trip_route_group\": 0.9, \"name\": \"City of Pasadena\", \"caltrans_district\": \"07 - Los Angeles\", \"drmt_organization_name\": null, \"cutoff2\": 20, \"cutoff\": 2}, {\"calitp_itp_id\": 243, \"trip_key\": -3932176442900632664, \"trip_id\": \"1481\", \"shape_id\": \"115\", \"route_id\": \"40\", \"service_hours\": 0.43, \"trip_first_departure_ts\": 32340, \"trip_last_arrival_ts\": 33900, \"departure_hour\": 8, \"time_of_day\": \"AM Peak\", \"p25\": 0.43, \"p50\": 0.43, \"p75\": 0.47, \"p50_trip\": 1, \"fastest_trip\": 0, \"car_duration_hours\": 0.36, \"competitive_route\": 1, \"bus_multiplier\": 1.19, \"bus_difference\": 4.2, \"num_trips\": 60, \"num_competitive\": 60, \"pct_trips_competitive\": 1.0, \"bus_difference_spread\": 7.2, \"route_group\": \"short\", \"max_trip_hrs\": 0.52, \"max_trip_route_group\": 0.9, \"name\": \"City of Pasadena\", \"caltrans_district\": \"07 - Los Angeles\", \"drmt_organization_name\": null, \"cutoff2\": 20, \"cutoff\": 2}, {\"calitp_itp_id\": 243, \"trip_key\": 5908215030719960402, \"trip_id\": \"1393\", \"shape_id\": \"116\", \"route_id\": \"40\", \"service_hours\": 0.43, \"trip_first_departure_ts\": 35520, \"trip_last_arrival_ts\": 37080, \"departure_hour\": 9, \"time_of_day\": \"AM Peak\", \"p25\": 0.43, \"p50\": 0.43, \"p75\": 0.47, \"p50_trip\": 1, \"fastest_trip\": 0, \"car_duration_hours\": 0.36, \"competitive_route\": 1, \"bus_multiplier\": 1.19, \"bus_difference\": 4.2, \"num_trips\": 60, \"num_competitive\": 60, \"pct_trips_competitive\": 1.0, \"bus_difference_spread\": 7.2, \"route_group\": \"short\", \"max_trip_hrs\": 0.52, \"max_trip_route_group\": 0.9, \"name\": \"City of Pasadena\", \"caltrans_district\": \"07 - Los Angeles\", \"drmt_organization_name\": null, \"cutoff2\": 20, \"cutoff\": 2}, {\"calitp_itp_id\": 243, \"trip_key\": 4439859274706666415, \"trip_id\": \"1457\", \"shape_id\": \"116\", \"route_id\": \"40\", \"service_hours\": 0.43, \"trip_first_departure_ts\": 29580, \"trip_last_arrival_ts\": 31140, \"departure_hour\": 8, \"time_of_day\": \"AM Peak\", \"p25\": 0.43, \"p50\": 0.43, \"p75\": 0.47, \"p50_trip\": 1, \"fastest_trip\": 0, \"car_duration_hours\": 0.36, \"competitive_route\": 1, \"bus_multiplier\": 1.19, \"bus_difference\": 4.2, \"num_trips\": 60, \"num_competitive\": 60, \"pct_trips_competitive\": 1.0, \"bus_difference_spread\": 7.2, \"route_group\": \"short\", \"max_trip_hrs\": 0.52, \"max_trip_route_group\": 0.9, \"name\": \"City of Pasadena\", \"caltrans_district\": \"07 - Los Angeles\", \"drmt_organization_name\": null, \"cutoff2\": 20, \"cutoff\": 2}, {\"calitp_itp_id\": 243, \"trip_key\": -8641782261728298310, \"trip_id\": \"1400\", \"shape_id\": \"115\", \"route_id\": \"40\", \"service_hours\": 0.43, \"trip_first_departure_ts\": 49320, \"trip_last_arrival_ts\": 50880, \"departure_hour\": 13, \"time_of_day\": \"Midday\", \"p25\": 0.43, \"p50\": 0.43, \"p75\": 0.47, \"p50_trip\": 1, \"fastest_trip\": 0, \"car_duration_hours\": 0.36, \"competitive_route\": 1, \"bus_multiplier\": 1.19, \"bus_difference\": 4.2, \"num_trips\": 60, \"num_competitive\": 60, \"pct_trips_competitive\": 1.0, \"bus_difference_spread\": 7.2, \"route_group\": \"short\", \"max_trip_hrs\": 0.52, \"max_trip_route_group\": 0.9, \"name\": \"City of Pasadena\", \"caltrans_district\": \"07 - Los Angeles\", \"drmt_organization_name\": null, \"cutoff2\": 20, \"cutoff\": 2}, {\"calitp_itp_id\": 243, \"trip_key\": -2952889877015258857, \"trip_id\": \"1478\", \"shape_id\": \"116\", \"route_id\": \"40\", \"service_hours\": 0.43, \"trip_first_departure_ts\": 26640, \"trip_last_arrival_ts\": 28200, \"departure_hour\": 7, \"time_of_day\": \"AM Peak\", \"p25\": 0.43, \"p50\": 0.43, \"p75\": 0.47, \"p50_trip\": 1, \"fastest_trip\": 0, \"car_duration_hours\": 0.36, \"competitive_route\": 1, \"bus_multiplier\": 1.19, \"bus_difference\": 4.2, \"num_trips\": 60, \"num_competitive\": 60, \"pct_trips_competitive\": 1.0, \"bus_difference_spread\": 7.2, \"route_group\": \"short\", \"max_trip_hrs\": 0.52, \"max_trip_route_group\": 0.9, \"name\": \"City of Pasadena\", \"caltrans_district\": \"07 - Los Angeles\", \"drmt_organization_name\": null, \"cutoff2\": 20, \"cutoff\": 2}, {\"calitp_itp_id\": 243, \"trip_key\": -2935842029882481834, \"trip_id\": \"1460\", \"shape_id\": \"116\", \"route_id\": \"40\", \"service_hours\": 0.45, \"trip_first_departure_ts\": 37500, \"trip_last_arrival_ts\": 39120, \"departure_hour\": 10, \"time_of_day\": \"Midday\", \"p25\": 0.43, \"p50\": 0.43, \"p75\": 0.47, \"p50_trip\": 0, \"fastest_trip\": 0, \"car_duration_hours\": 0.36, \"competitive_route\": 1, \"bus_multiplier\": 1.25, \"bus_difference\": 5.4, \"num_trips\": 60, \"num_competitive\": 60, \"pct_trips_competitive\": 1.0, \"bus_difference_spread\": 7.2, \"route_group\": \"short\", \"max_trip_hrs\": 0.52, \"max_trip_route_group\": 0.9, \"name\": \"City of Pasadena\", \"caltrans_district\": \"07 - Los Angeles\", \"drmt_organization_name\": null, \"cutoff2\": 20, \"cutoff\": 2}, {\"calitp_itp_id\": 243, \"trip_key\": 4183328403217081308, \"trip_id\": \"1483\", \"shape_id\": \"115\", \"route_id\": \"40\", \"service_hours\": 0.45, \"trip_first_departure_ts\": 56160, \"trip_last_arrival_ts\": 57780, \"departure_hour\": 15, \"time_of_day\": \"Midday\", \"p25\": 0.43, \"p50\": 0.43, \"p75\": 0.47, \"p50_trip\": 0, \"fastest_trip\": 0, \"car_duration_hours\": 0.36, \"competitive_route\": 1, \"bus_multiplier\": 1.25, \"bus_difference\": 5.4, \"num_trips\": 60, \"num_competitive\": 60, \"pct_trips_competitive\": 1.0, \"bus_difference_spread\": 7.2, \"route_group\": \"short\", \"max_trip_hrs\": 0.52, \"max_trip_route_group\": 0.9, \"name\": \"City of Pasadena\", \"caltrans_district\": \"07 - Los Angeles\", \"drmt_organization_name\": null, \"cutoff2\": 20, \"cutoff\": 2}, {\"calitp_itp_id\": 243, \"trip_key\": 3251342999874066575, \"trip_id\": \"1395\", \"shape_id\": \"116\", \"route_id\": \"40\", \"service_hours\": 0.45, \"trip_first_departure_ts\": 39480, \"trip_last_arrival_ts\": 41100, \"departure_hour\": 10, \"time_of_day\": \"Midday\", \"p25\": 0.43, \"p50\": 0.43, \"p75\": 0.47, \"p50_trip\": 0, \"fastest_trip\": 0, \"car_duration_hours\": 0.36, \"competitive_route\": 1, \"bus_multiplier\": 1.25, \"bus_difference\": 5.4, \"num_trips\": 60, \"num_competitive\": 60, \"pct_trips_competitive\": 1.0, \"bus_difference_spread\": 7.2, \"route_group\": \"short\", \"max_trip_hrs\": 0.52, \"max_trip_route_group\": 0.9, \"name\": \"City of Pasadena\", \"caltrans_district\": \"07 - Los Angeles\", \"drmt_organization_name\": null, \"cutoff2\": 20, \"cutoff\": 2}, {\"calitp_itp_id\": 243, \"trip_key\": 9108332941586504875, \"trip_id\": \"1469\", \"shape_id\": \"115\", \"route_id\": \"40\", \"service_hours\": 0.45, \"trip_first_departure_ts\": 55260, \"trip_last_arrival_ts\": 56880, \"departure_hour\": 15, \"time_of_day\": \"Midday\", \"p25\": 0.43, \"p50\": 0.43, \"p75\": 0.47, \"p50_trip\": 0, \"fastest_trip\": 0, \"car_duration_hours\": 0.36, \"competitive_route\": 1, \"bus_multiplier\": 1.25, \"bus_difference\": 5.4, \"num_trips\": 60, \"num_competitive\": 60, \"pct_trips_competitive\": 1.0, \"bus_difference_spread\": 7.2, \"route_group\": \"short\", \"max_trip_hrs\": 0.52, \"max_trip_route_group\": 0.9, \"name\": \"City of Pasadena\", \"caltrans_district\": \"07 - Los Angeles\", \"drmt_organization_name\": null, \"cutoff2\": 20, \"cutoff\": 2}, {\"calitp_itp_id\": 243, \"trip_key\": -5240856566030428726, \"trip_id\": \"1389\", \"shape_id\": \"115\", \"route_id\": \"40\", \"service_hours\": 0.45, \"trip_first_departure_ts\": 25560, \"trip_last_arrival_ts\": 27180, \"departure_hour\": 7, \"time_of_day\": \"AM Peak\", \"p25\": 0.43, \"p50\": 0.43, \"p75\": 0.47, \"p50_trip\": 0, \"fastest_trip\": 0, \"car_duration_hours\": 0.36, \"competitive_route\": 1, \"bus_multiplier\": 1.25, \"bus_difference\": 5.4, \"num_trips\": 60, \"num_competitive\": 60, \"pct_trips_competitive\": 1.0, \"bus_difference_spread\": 7.2, \"route_group\": \"short\", \"max_trip_hrs\": 0.52, \"max_trip_route_group\": 0.9, \"name\": \"City of Pasadena\", \"caltrans_district\": \"07 - Los Angeles\", \"drmt_organization_name\": null, \"cutoff2\": 20, \"cutoff\": 2}, {\"calitp_itp_id\": 243, \"trip_key\": -4618607117097329099, \"trip_id\": \"1456\", \"shape_id\": \"115\", \"route_id\": \"40\", \"service_hours\": 0.45, \"trip_first_departure_ts\": 27540, \"trip_last_arrival_ts\": 29160, \"departure_hour\": 7, \"time_of_day\": \"AM Peak\", \"p25\": 0.43, \"p50\": 0.43, \"p75\": 0.47, \"p50_trip\": 0, \"fastest_trip\": 0, \"car_duration_hours\": 0.36, \"competitive_route\": 1, \"bus_multiplier\": 1.25, \"bus_difference\": 5.4, \"num_trips\": 60, \"num_competitive\": 60, \"pct_trips_competitive\": 1.0, \"bus_difference_spread\": 7.2, \"route_group\": \"short\", \"max_trip_hrs\": 0.52, \"max_trip_route_group\": 0.9, \"name\": \"City of Pasadena\", \"caltrans_district\": \"07 - Los Angeles\", \"drmt_organization_name\": null, \"cutoff2\": 20, \"cutoff\": 2}, {\"calitp_itp_id\": 243, \"trip_key\": -61917552718045693, \"trip_id\": \"1464\", \"shape_id\": \"116\", \"route_id\": \"40\", \"service_hours\": 0.47, \"trip_first_departure_ts\": 45420, \"trip_last_arrival_ts\": 47100, \"departure_hour\": 12, \"time_of_day\": \"Midday\", \"p25\": 0.43, \"p50\": 0.43, \"p75\": 0.47, \"p50_trip\": 0, \"fastest_trip\": 0, \"car_duration_hours\": 0.36, \"competitive_route\": 1, \"bus_multiplier\": 1.31, \"bus_difference\": 6.6, \"num_trips\": 60, \"num_competitive\": 60, \"pct_trips_competitive\": 1.0, \"bus_difference_spread\": 7.2, \"route_group\": \"short\", \"max_trip_hrs\": 0.52, \"max_trip_route_group\": 0.9, \"name\": \"City of Pasadena\", \"caltrans_district\": \"07 - Los Angeles\", \"drmt_organization_name\": null, \"cutoff2\": 20, \"cutoff\": 2}, {\"calitp_itp_id\": 243, \"trip_key\": -5481032292012533812, \"trip_id\": \"1397\", \"shape_id\": \"116\", \"route_id\": \"40\", \"service_hours\": 0.47, \"trip_first_departure_ts\": 43440, \"trip_last_arrival_ts\": 45120, \"departure_hour\": 12, \"time_of_day\": \"Midday\", \"p25\": 0.43, \"p50\": 0.43, \"p75\": 0.47, \"p50_trip\": 0, \"fastest_trip\": 0, \"car_duration_hours\": 0.36, \"competitive_route\": 1, \"bus_multiplier\": 1.31, \"bus_difference\": 6.6, \"num_trips\": 60, \"num_competitive\": 60, \"pct_trips_competitive\": 1.0, \"bus_difference_spread\": 7.2, \"route_group\": \"short\", \"max_trip_hrs\": 0.52, \"max_trip_route_group\": 0.9, \"name\": \"City of Pasadena\", \"caltrans_district\": \"07 - Los Angeles\", \"drmt_organization_name\": null, \"cutoff2\": 20, \"cutoff\": 2}, {\"calitp_itp_id\": 243, \"trip_key\": 8094440408290887746, \"trip_id\": \"1466\", \"shape_id\": \"116\", \"route_id\": \"40\", \"service_hours\": 0.47, \"trip_first_departure_ts\": 49380, \"trip_last_arrival_ts\": 51060, \"departure_hour\": 13, \"time_of_day\": \"Midday\", \"p25\": 0.43, \"p50\": 0.43, \"p75\": 0.47, \"p50_trip\": 0, \"fastest_trip\": 0, \"car_duration_hours\": 0.36, \"competitive_route\": 1, \"bus_multiplier\": 1.31, \"bus_difference\": 6.6, \"num_trips\": 60, \"num_competitive\": 60, \"pct_trips_competitive\": 1.0, \"bus_difference_spread\": 7.2, \"route_group\": \"short\", \"max_trip_hrs\": 0.52, \"max_trip_route_group\": 0.9, \"name\": \"City of Pasadena\", \"caltrans_district\": \"07 - Los Angeles\", \"drmt_organization_name\": null, \"cutoff2\": 20, \"cutoff\": 2}, {\"calitp_itp_id\": 243, \"trip_key\": 471731787304392193, \"trip_id\": \"1401\", \"shape_id\": \"116\", \"route_id\": \"40\", \"service_hours\": 0.47, \"trip_first_departure_ts\": 51360, \"trip_last_arrival_ts\": 53040, \"departure_hour\": 14, \"time_of_day\": \"Midday\", \"p25\": 0.43, \"p50\": 0.43, \"p75\": 0.47, \"p50_trip\": 0, \"fastest_trip\": 0, \"car_duration_hours\": 0.36, \"competitive_route\": 1, \"bus_multiplier\": 1.31, \"bus_difference\": 6.6, \"num_trips\": 60, \"num_competitive\": 60, \"pct_trips_competitive\": 1.0, \"bus_difference_spread\": 7.2, \"route_group\": \"short\", \"max_trip_hrs\": 0.52, \"max_trip_route_group\": 0.9, \"name\": \"City of Pasadena\", \"caltrans_district\": \"07 - Los Angeles\", \"drmt_organization_name\": null, \"cutoff2\": 20, \"cutoff\": 2}, {\"calitp_itp_id\": 243, \"trip_key\": -147033308085787826, \"trip_id\": \"1399\", \"shape_id\": \"116\", \"route_id\": \"40\", \"service_hours\": 0.47, \"trip_first_departure_ts\": 47400, \"trip_last_arrival_ts\": 49080, \"departure_hour\": 13, \"time_of_day\": \"Midday\", \"p25\": 0.43, \"p50\": 0.43, \"p75\": 0.47, \"p50_trip\": 0, \"fastest_trip\": 0, \"car_duration_hours\": 0.36, \"competitive_route\": 1, \"bus_multiplier\": 1.31, \"bus_difference\": 6.6, \"num_trips\": 60, \"num_competitive\": 60, \"pct_trips_competitive\": 1.0, \"bus_difference_spread\": 7.2, \"route_group\": \"short\", \"max_trip_hrs\": 0.52, \"max_trip_route_group\": 0.9, \"name\": \"City of Pasadena\", \"caltrans_district\": \"07 - Los Angeles\", \"drmt_organization_name\": null, \"cutoff2\": 20, \"cutoff\": 2}, {\"calitp_itp_id\": 243, \"trip_key\": 7376714902451683338, \"trip_id\": \"1462\", \"shape_id\": \"116\", \"route_id\": \"40\", \"service_hours\": 0.47, \"trip_first_departure_ts\": 41460, \"trip_last_arrival_ts\": 43140, \"departure_hour\": 11, \"time_of_day\": \"Midday\", \"p25\": 0.43, \"p50\": 0.43, \"p75\": 0.47, \"p50_trip\": 0, \"fastest_trip\": 0, \"car_duration_hours\": 0.36, \"competitive_route\": 1, \"bus_multiplier\": 1.31, \"bus_difference\": 6.6, \"num_trips\": 60, \"num_competitive\": 60, \"pct_trips_competitive\": 1.0, \"bus_difference_spread\": 7.2, \"route_group\": \"short\", \"max_trip_hrs\": 0.52, \"max_trip_route_group\": 0.9, \"name\": \"City of Pasadena\", \"caltrans_district\": \"07 - Los Angeles\", \"drmt_organization_name\": null, \"cutoff2\": 20, \"cutoff\": 2}, {\"calitp_itp_id\": 243, \"trip_key\": -1938911408225879080, \"trip_id\": \"1468\", \"shape_id\": \"116\", \"route_id\": \"40\", \"service_hours\": 0.48, \"trip_first_departure_ts\": 53340, \"trip_last_arrival_ts\": 55080, \"departure_hour\": 14, \"time_of_day\": \"Midday\", \"p25\": 0.43, \"p50\": 0.43, \"p75\": 0.47, \"p50_trip\": 0, \"fastest_trip\": 0, \"car_duration_hours\": 0.36, \"competitive_route\": 1, \"bus_multiplier\": 1.33, \"bus_difference\": 7.2, \"num_trips\": 60, \"num_competitive\": 60, \"pct_trips_competitive\": 1.0, \"bus_difference_spread\": 7.2, \"route_group\": \"short\", \"max_trip_hrs\": 0.52, \"max_trip_route_group\": 0.9, \"name\": \"City of Pasadena\", \"caltrans_district\": \"07 - Los Angeles\", \"drmt_organization_name\": null, \"cutoff2\": 20, \"cutoff\": 2}, {\"calitp_itp_id\": 243, \"trip_key\": 1630135609506128439, \"trip_id\": \"242\", \"shape_id\": \"116\", \"route_id\": \"40\", \"service_hours\": 0.48, \"trip_first_departure_ts\": 67200, \"trip_last_arrival_ts\": 68940, \"departure_hour\": 18, \"time_of_day\": \"PM Peak\", \"p25\": 0.43, \"p50\": 0.43, \"p75\": 0.47, \"p50_trip\": 0, \"fastest_trip\": 0, \"car_duration_hours\": 0.36, \"competitive_route\": 1, \"bus_multiplier\": 1.33, \"bus_difference\": 7.2, \"num_trips\": 60, \"num_competitive\": 60, \"pct_trips_competitive\": 1.0, \"bus_difference_spread\": 7.2, \"route_group\": \"short\", \"max_trip_hrs\": 0.52, \"max_trip_route_group\": 0.9, \"name\": \"City of Pasadena\", \"caltrans_district\": \"07 - Los Angeles\", \"drmt_organization_name\": null, \"cutoff2\": 20, \"cutoff\": 2}, {\"calitp_itp_id\": 243, \"trip_key\": -3806905863690559099, \"trip_id\": \"243\", \"shape_id\": \"116\", \"route_id\": \"40\", \"service_hours\": 0.48, \"trip_first_departure_ts\": 70800, \"trip_last_arrival_ts\": 72540, \"departure_hour\": 19, \"time_of_day\": \"PM Peak\", \"p25\": 0.43, \"p50\": 0.43, \"p75\": 0.47, \"p50_trip\": 0, \"fastest_trip\": 0, \"car_duration_hours\": 0.36, \"competitive_route\": 1, \"bus_multiplier\": 1.33, \"bus_difference\": 7.2, \"num_trips\": 60, \"num_competitive\": 60, \"pct_trips_competitive\": 1.0, \"bus_difference_spread\": 7.2, \"route_group\": \"short\", \"max_trip_hrs\": 0.52, \"max_trip_route_group\": 0.9, \"name\": \"City of Pasadena\", \"caltrans_district\": \"07 - Los Angeles\", \"drmt_organization_name\": null, \"cutoff2\": 20, \"cutoff\": 2}, {\"calitp_itp_id\": 243, \"trip_key\": -2861983691571892523, \"trip_id\": \"244\", \"shape_id\": \"116\", \"route_id\": \"40\", \"service_hours\": 0.48, \"trip_first_departure_ts\": 65220, \"trip_last_arrival_ts\": 66960, \"departure_hour\": 18, \"time_of_day\": \"PM Peak\", \"p25\": 0.43, \"p50\": 0.43, \"p75\": 0.47, \"p50_trip\": 0, \"fastest_trip\": 0, \"car_duration_hours\": 0.36, \"competitive_route\": 1, \"bus_multiplier\": 1.33, \"bus_difference\": 7.2, \"num_trips\": 60, \"num_competitive\": 60, \"pct_trips_competitive\": 1.0, \"bus_difference_spread\": 7.2, \"route_group\": \"short\", \"max_trip_hrs\": 0.52, \"max_trip_route_group\": 0.9, \"name\": \"City of Pasadena\", \"caltrans_district\": \"07 - Los Angeles\", \"drmt_organization_name\": null, \"cutoff2\": 20, \"cutoff\": 2}, {\"calitp_itp_id\": 243, \"trip_key\": 8576133153169936559, \"trip_id\": \"245\", \"shape_id\": \"116\", \"route_id\": \"40\", \"service_hours\": 0.48, \"trip_first_departure_ts\": 69000, \"trip_last_arrival_ts\": 70740, \"departure_hour\": 19, \"time_of_day\": \"PM Peak\", \"p25\": 0.43, \"p50\": 0.43, \"p75\": 0.47, \"p50_trip\": 0, \"fastest_trip\": 0, \"car_duration_hours\": 0.36, \"competitive_route\": 1, \"bus_multiplier\": 1.33, \"bus_difference\": 7.2, \"num_trips\": 60, \"num_competitive\": 60, \"pct_trips_competitive\": 1.0, \"bus_difference_spread\": 7.2, \"route_group\": \"short\", \"max_trip_hrs\": 0.52, \"max_trip_route_group\": 0.9, \"name\": \"City of Pasadena\", \"caltrans_district\": \"07 - Los Angeles\", \"drmt_organization_name\": null, \"cutoff2\": 20, \"cutoff\": 2}, {\"calitp_itp_id\": 243, \"trip_key\": 3918195882673815193, \"trip_id\": \"1482\", \"shape_id\": \"116\", \"route_id\": \"40\", \"service_hours\": 0.5, \"trip_first_departure_ts\": 54360, \"trip_last_arrival_ts\": 56160, \"departure_hour\": 15, \"time_of_day\": \"Midday\", \"p25\": 0.43, \"p50\": 0.43, \"p75\": 0.47, \"p50_trip\": 0, \"fastest_trip\": 0, \"car_duration_hours\": 0.36, \"competitive_route\": 1, \"bus_multiplier\": 1.39, \"bus_difference\": 8.4, \"num_trips\": 60, \"num_competitive\": 60, \"pct_trips_competitive\": 1.0, \"bus_difference_spread\": 7.2, \"route_group\": \"short\", \"max_trip_hrs\": 0.52, \"max_trip_route_group\": 0.9, \"name\": \"City of Pasadena\", \"caltrans_district\": \"07 - Los Angeles\", \"drmt_organization_name\": null, \"cutoff2\": 20, \"cutoff\": 2}, {\"calitp_itp_id\": 243, \"trip_key\": 6200472641121586631, \"trip_id\": \"1403\", \"shape_id\": \"116\", \"route_id\": \"40\", \"service_hours\": 0.5, \"trip_first_departure_ts\": 55440, \"trip_last_arrival_ts\": 57240, \"departure_hour\": 15, \"time_of_day\": \"Midday\", \"p25\": 0.43, \"p50\": 0.43, \"p75\": 0.47, \"p50_trip\": 0, \"fastest_trip\": 0, \"car_duration_hours\": 0.36, \"competitive_route\": 1, \"bus_multiplier\": 1.39, \"bus_difference\": 8.4, \"num_trips\": 60, \"num_competitive\": 60, \"pct_trips_competitive\": 1.0, \"bus_difference_spread\": 7.2, \"route_group\": \"short\", \"max_trip_hrs\": 0.52, \"max_trip_route_group\": 0.9, \"name\": \"City of Pasadena\", \"caltrans_district\": \"07 - Los Angeles\", \"drmt_organization_name\": null, \"cutoff2\": 20, \"cutoff\": 2}, {\"calitp_itp_id\": 243, \"trip_key\": 3831482585458194579, \"trip_id\": \"1405\", \"shape_id\": \"116\", \"route_id\": \"40\", \"service_hours\": 0.5, \"trip_first_departure_ts\": 59280, \"trip_last_arrival_ts\": 61080, \"departure_hour\": 16, \"time_of_day\": \"Midday\", \"p25\": 0.43, \"p50\": 0.43, \"p75\": 0.47, \"p50_trip\": 0, \"fastest_trip\": 0, \"car_duration_hours\": 0.36, \"competitive_route\": 1, \"bus_multiplier\": 1.39, \"bus_difference\": 8.4, \"num_trips\": 60, \"num_competitive\": 60, \"pct_trips_competitive\": 1.0, \"bus_difference_spread\": 7.2, \"route_group\": \"short\", \"max_trip_hrs\": 0.52, \"max_trip_route_group\": 0.9, \"name\": \"City of Pasadena\", \"caltrans_district\": \"07 - Los Angeles\", \"drmt_organization_name\": null, \"cutoff2\": 20, \"cutoff\": 2}, {\"calitp_itp_id\": 243, \"trip_key\": -7102978442082303200, \"trip_id\": \"1484\", \"shape_id\": \"116\", \"route_id\": \"40\", \"service_hours\": 0.5, \"trip_first_departure_ts\": 58380, \"trip_last_arrival_ts\": 60180, \"departure_hour\": 16, \"time_of_day\": \"Midday\", \"p25\": 0.43, \"p50\": 0.43, \"p75\": 0.47, \"p50_trip\": 0, \"fastest_trip\": 0, \"car_duration_hours\": 0.36, \"competitive_route\": 1, \"bus_multiplier\": 1.39, \"bus_difference\": 8.4, \"num_trips\": 60, \"num_competitive\": 60, \"pct_trips_competitive\": 1.0, \"bus_difference_spread\": 7.2, \"route_group\": \"short\", \"max_trip_hrs\": 0.52, \"max_trip_route_group\": 0.9, \"name\": \"City of Pasadena\", \"caltrans_district\": \"07 - Los Angeles\", \"drmt_organization_name\": null, \"cutoff2\": 20, \"cutoff\": 2}, {\"calitp_itp_id\": 243, \"trip_key\": -170044678535717605, \"trip_id\": \"1470\", \"shape_id\": \"116\", \"route_id\": \"40\", \"service_hours\": 0.5, \"trip_first_departure_ts\": 57300, \"trip_last_arrival_ts\": 59100, \"departure_hour\": 15, \"time_of_day\": \"Midday\", \"p25\": 0.43, \"p50\": 0.43, \"p75\": 0.47, \"p50_trip\": 0, \"fastest_trip\": 0, \"car_duration_hours\": 0.36, \"competitive_route\": 1, \"bus_multiplier\": 1.39, \"bus_difference\": 8.4, \"num_trips\": 60, \"num_competitive\": 60, \"pct_trips_competitive\": 1.0, \"bus_difference_spread\": 7.2, \"route_group\": \"short\", \"max_trip_hrs\": 0.52, \"max_trip_route_group\": 0.9, \"name\": \"City of Pasadena\", \"caltrans_district\": \"07 - Los Angeles\", \"drmt_organization_name\": null, \"cutoff2\": 20, \"cutoff\": 2}, {\"calitp_itp_id\": 243, \"trip_key\": 8301001581029939119, \"trip_id\": \"1486\", \"shape_id\": \"116\", \"route_id\": \"40\", \"service_hours\": 0.52, \"trip_first_departure_ts\": 62340, \"trip_last_arrival_ts\": 64200, \"departure_hour\": 17, \"time_of_day\": \"PM Peak\", \"p25\": 0.43, \"p50\": 0.43, \"p75\": 0.47, \"p50_trip\": 0, \"fastest_trip\": 0, \"car_duration_hours\": 0.36, \"competitive_route\": 1, \"bus_multiplier\": 1.44, \"bus_difference\": 9.6, \"num_trips\": 60, \"num_competitive\": 60, \"pct_trips_competitive\": 1.0, \"bus_difference_spread\": 7.2, \"route_group\": \"short\", \"max_trip_hrs\": 0.52, \"max_trip_route_group\": 0.9, \"name\": \"City of Pasadena\", \"caltrans_district\": \"07 - Los Angeles\", \"drmt_organization_name\": null, \"cutoff2\": 20, \"cutoff\": 2}, {\"calitp_itp_id\": 243, \"trip_key\": 2947993844491741256, \"trip_id\": \"1472\", \"shape_id\": \"116\", \"route_id\": \"40\", \"service_hours\": 0.52, \"trip_first_departure_ts\": 61260, \"trip_last_arrival_ts\": 63120, \"departure_hour\": 17, \"time_of_day\": \"PM Peak\", \"p25\": 0.43, \"p50\": 0.43, \"p75\": 0.47, \"p50_trip\": 0, \"fastest_trip\": 0, \"car_duration_hours\": 0.36, \"competitive_route\": 1, \"bus_multiplier\": 1.44, \"bus_difference\": 9.6, \"num_trips\": 60, \"num_competitive\": 60, \"pct_trips_competitive\": 1.0, \"bus_difference_spread\": 7.2, \"route_group\": \"short\", \"max_trip_hrs\": 0.52, \"max_trip_route_group\": 0.9, \"name\": \"City of Pasadena\", \"caltrans_district\": \"07 - Los Angeles\", \"drmt_organization_name\": null, \"cutoff2\": 20, \"cutoff\": 2}, {\"calitp_itp_id\": 243, \"trip_key\": 103938444193857682, \"trip_id\": \"241\", \"shape_id\": \"116\", \"route_id\": \"40\", \"service_hours\": 0.52, \"trip_first_departure_ts\": 63240, \"trip_last_arrival_ts\": 65100, \"departure_hour\": 17, \"time_of_day\": \"PM Peak\", \"p25\": 0.43, \"p50\": 0.43, \"p75\": 0.47, \"p50_trip\": 0, \"fastest_trip\": 0, \"car_duration_hours\": 0.36, \"competitive_route\": 1, \"bus_multiplier\": 1.44, \"bus_difference\": 9.6, \"num_trips\": 60, \"num_competitive\": 60, \"pct_trips_competitive\": 1.0, \"bus_difference_spread\": 7.2, \"route_group\": \"short\", \"max_trip_hrs\": 0.52, \"max_trip_route_group\": 0.9, \"name\": \"City of Pasadena\", \"caltrans_district\": \"07 - Los Angeles\", \"drmt_organization_name\": null, \"cutoff2\": 20, \"cutoff\": 2}]}}, {\"mode\": \"vega-lite\"});\n",
       "</script>"
      ],
      "text/plain": [
       "alt.FacetChart(...)"
      ]
     },
     "metadata": {},
     "output_type": "display_data"
    },
    {
     "data": {
      "text/html": [
       "\n",
       "<div id=\"altair-viz-98ce4130e9f14ca397e78a50444fe28a\"></div>\n",
       "<script type=\"text/javascript\">\n",
       "  var VEGA_DEBUG = (typeof VEGA_DEBUG == \"undefined\") ? {} : VEGA_DEBUG;\n",
       "  (function(spec, embedOpt){\n",
       "    let outputDiv = document.currentScript.previousElementSibling;\n",
       "    if (outputDiv.id !== \"altair-viz-98ce4130e9f14ca397e78a50444fe28a\") {\n",
       "      outputDiv = document.getElementById(\"altair-viz-98ce4130e9f14ca397e78a50444fe28a\");\n",
       "    }\n",
       "    const paths = {\n",
       "      \"vega\": \"https://cdn.jsdelivr.net/npm//vega@5?noext\",\n",
       "      \"vega-lib\": \"https://cdn.jsdelivr.net/npm//vega-lib?noext\",\n",
       "      \"vega-lite\": \"https://cdn.jsdelivr.net/npm//vega-lite@4.17.0?noext\",\n",
       "      \"vega-embed\": \"https://cdn.jsdelivr.net/npm//vega-embed@6?noext\",\n",
       "    };\n",
       "\n",
       "    function maybeLoadScript(lib, version) {\n",
       "      var key = `${lib.replace(\"-\", \"\")}_version`;\n",
       "      return (VEGA_DEBUG[key] == version) ?\n",
       "        Promise.resolve(paths[lib]) :\n",
       "        new Promise(function(resolve, reject) {\n",
       "          var s = document.createElement('script');\n",
       "          document.getElementsByTagName(\"head\")[0].appendChild(s);\n",
       "          s.async = true;\n",
       "          s.onload = () => {\n",
       "            VEGA_DEBUG[key] = version;\n",
       "            return resolve(paths[lib]);\n",
       "          };\n",
       "          s.onerror = () => reject(`Error loading script: ${paths[lib]}`);\n",
       "          s.src = paths[lib];\n",
       "        });\n",
       "    }\n",
       "\n",
       "    function showError(err) {\n",
       "      outputDiv.innerHTML = `<div class=\"error\" style=\"color:red;\">${err}</div>`;\n",
       "      throw err;\n",
       "    }\n",
       "\n",
       "    function displayChart(vegaEmbed) {\n",
       "      vegaEmbed(outputDiv, spec, embedOpt)\n",
       "        .catch(err => showError(`Javascript Error: ${err.message}<br>This usually means there's a typo in your chart specification. See the javascript console for the full traceback.`));\n",
       "    }\n",
       "\n",
       "    if(typeof define === \"function\" && define.amd) {\n",
       "      requirejs.config({paths});\n",
       "      require([\"vega-embed\"], displayChart, err => showError(`Error loading script: ${err.message}`));\n",
       "    } else {\n",
       "      maybeLoadScript(\"vega\", \"5\")\n",
       "        .then(() => maybeLoadScript(\"vega-lite\", \"4.17.0\"))\n",
       "        .then(() => maybeLoadScript(\"vega-embed\", \"6\"))\n",
       "        .catch(showError)\n",
       "        .then(() => displayChart(vegaEmbed));\n",
       "    }\n",
       "  })({\"config\": {\"view\": {\"continuousWidth\": 400, \"continuousHeight\": 300, \"stroke\": null}, \"facet\": {\"spacing\": 0}}, \"data\": {\"name\": \"data-02c1482089044251c4a5a2a03887b659\"}, \"facet\": {\"column\": {\"field\": \"route_id\", \"sort\": [\"40\"], \"title\": \"Route ID\", \"type\": \"nominal\"}}, \"spec\": {\"layer\": [{\"mark\": \"rule\", \"encoding\": {\"color\": {\"value\": \"black\"}, \"y\": {\"field\": \"cutoff\", \"type\": \"quantitative\"}}, \"selection\": {\"selector002\": {\"type\": \"interval\", \"bind\": \"scales\", \"encodings\": [\"x\", \"y\"]}}}, {\"mark\": {\"type\": \"rule\", \"strokeDash\": [3, 3]}, \"encoding\": {\"color\": {\"value\": \"#323434\"}, \"y\": {\"field\": \"cutoff2\", \"type\": \"quantitative\"}}}, {\"mark\": {\"type\": \"point\", \"opacity\": 0.65, \"size\": 12, \"strokeWidth\": 1.1}, \"encoding\": {\"color\": {\"field\": \"time_of_day\", \"scale\": {\"range\": [\"#136C97\", \"#E16B26\", \"#F6BF16\", \"#00896B\", \"#7790A3\", \"#5B559C\"]}, \"sort\": [\"AM Peak\", \"Midday\", \"PM Peak\", \"Owl Service\"], \"title\": \"Time of Day\", \"type\": \"nominal\"}, \"tooltip\": [{\"field\": \"route_id\", \"type\": \"nominal\"}, {\"field\": \"trip_id\", \"type\": \"nominal\"}, {\"field\": \"service_hours\", \"type\": \"quantitative\"}, {\"field\": \"car_duration_hours\", \"type\": \"quantitative\"}, {\"field\": \"bus_multiplier\", \"type\": \"quantitative\"}, {\"field\": \"bus_difference\", \"type\": \"quantitative\"}, {\"field\": \"num_trips\", \"type\": \"quantitative\"}, {\"field\": \"num_competitive\", \"type\": \"quantitative\"}, {\"field\": \"pct_trips_competitive\", \"type\": \"quantitative\"}, {\"field\": \"p25\", \"type\": \"quantitative\"}, {\"field\": \"p50\", \"type\": \"quantitative\"}, {\"field\": \"p75\", \"type\": \"quantitative\"}], \"x\": {\"axis\": {\"grid\": false, \"labels\": false, \"ticks\": true, \"values\": [0]}, \"field\": \"jitter\", \"scale\": {}, \"title\": null, \"type\": \"quantitative\"}, \"y\": {\"field\": \"bus_difference\", \"scale\": {\"domain\": [-5, 25.0]}, \"title\": \"Difference in Bus to Car Travel Time (min)\", \"type\": \"quantitative\"}}, \"transform\": [{\"calculate\": \"sqrt(-2*log(random()))*cos(2*PI*random())\", \"as\": \"jitter\"}], \"width\": 50}, {\"layer\": [{\"mark\": {\"type\": \"point\", \"opacity\": 0.6, \"size\": 20, \"strokeWidth\": 1.3}, \"encoding\": {\"color\": {\"value\": \"#323434\"}, \"y\": {\"field\": \"bus_difference\", \"type\": \"quantitative\"}}, \"transform\": [{\"filter\": \"(datum.p50_trip === 1)\"}]}, {\"mark\": {\"type\": \"text\", \"align\": \"center\", \"baseline\": \"middle\"}, \"encoding\": {\"color\": {\"value\": \"black\"}, \"text\": {\"field\": \"pct_trips_competitive\", \"format\": \".0%\", \"type\": \"quantitative\"}, \"tooltip\": [{\"field\": \"route_id\", \"type\": \"nominal\"}, {\"field\": \"trip_id\", \"type\": \"nominal\"}, {\"field\": \"service_hours\", \"type\": \"quantitative\"}, {\"field\": \"car_duration_hours\", \"type\": \"quantitative\"}, {\"field\": \"bus_multiplier\", \"type\": \"quantitative\"}, {\"field\": \"bus_difference\", \"type\": \"quantitative\"}, {\"field\": \"num_trips\", \"type\": \"quantitative\"}, {\"field\": \"num_competitive\", \"type\": \"quantitative\"}, {\"field\": \"pct_trips_competitive\", \"type\": \"quantitative\"}, {\"field\": \"p25\", \"type\": \"quantitative\"}, {\"field\": \"p50\", \"type\": \"quantitative\"}, {\"field\": \"p75\", \"type\": \"quantitative\"}], \"x\": {\"value\": 30}, \"y\": {\"value\": 15}}, \"transform\": [{\"calculate\": \"sqrt(-2*log(random()))*cos(2*PI*random())\", \"as\": \"jitter\"}, {\"filter\": \"(datum.fastest_trip === 1)\"}]}]}]}, \"resolve\": {\"scale\": {\"y\": \"shared\"}}, \"title\": \"Difference in Bus to Car Travel Time (min)\", \"$schema\": \"https://vega.github.io/schema/vega-lite/v4.17.0.json\", \"datasets\": {\"data-02c1482089044251c4a5a2a03887b659\": [{\"calitp_itp_id\": 243, \"trip_key\": -4683193974779480574, \"trip_id\": \"1475\", \"shape_id\": \"115\", \"route_id\": \"40\", \"service_hours\": 0.4, \"trip_first_departure_ts\": 67140, \"trip_last_arrival_ts\": 68580, \"departure_hour\": 18, \"time_of_day\": \"PM Peak\", \"p25\": 0.43, \"p50\": 0.43, \"p75\": 0.47, \"p50_trip\": 0, \"fastest_trip\": 0, \"car_duration_hours\": 0.36, \"competitive_route\": 1, \"bus_multiplier\": 1.11, \"bus_difference\": 2.4, \"num_trips\": 60, \"num_competitive\": 60, \"pct_trips_competitive\": 1.0, \"bus_difference_spread\": 7.2, \"route_group\": \"short\", \"max_trip_hrs\": 0.52, \"max_trip_route_group\": 0.9, \"name\": \"City of Pasadena\", \"caltrans_district\": \"07 - Los Angeles\", \"drmt_organization_name\": null, \"cutoff2\": 20, \"cutoff\": 0}, {\"calitp_itp_id\": 243, \"trip_key\": 3755065576031661020, \"trip_id\": \"1408\", \"shape_id\": \"115\", \"route_id\": \"40\", \"service_hours\": 0.4, \"trip_first_departure_ts\": 65160, \"trip_last_arrival_ts\": 66600, \"departure_hour\": 18, \"time_of_day\": \"PM Peak\", \"p25\": 0.43, \"p50\": 0.43, \"p75\": 0.47, \"p50_trip\": 0, \"fastest_trip\": 0, \"car_duration_hours\": 0.36, \"competitive_route\": 1, \"bus_multiplier\": 1.11, \"bus_difference\": 2.4, \"num_trips\": 60, \"num_competitive\": 60, \"pct_trips_competitive\": 1.0, \"bus_difference_spread\": 7.2, \"route_group\": \"short\", \"max_trip_hrs\": 0.52, \"max_trip_route_group\": 0.9, \"name\": \"City of Pasadena\", \"caltrans_district\": \"07 - Los Angeles\", \"drmt_organization_name\": null, \"cutoff2\": 20, \"cutoff\": 0}, {\"calitp_itp_id\": 243, \"trip_key\": 5737807320484712030, \"trip_id\": \"1410\", \"shape_id\": \"115\", \"route_id\": \"40\", \"service_hours\": 0.4, \"trip_first_departure_ts\": 68940, \"trip_last_arrival_ts\": 70380, \"departure_hour\": 19, \"time_of_day\": \"PM Peak\", \"p25\": 0.43, \"p50\": 0.43, \"p75\": 0.47, \"p50_trip\": 0, \"fastest_trip\": 1, \"car_duration_hours\": 0.36, \"competitive_route\": 1, \"bus_multiplier\": 1.11, \"bus_difference\": 2.4, \"num_trips\": 60, \"num_competitive\": 60, \"pct_trips_competitive\": 1.0, \"bus_difference_spread\": 7.2, \"route_group\": \"short\", \"max_trip_hrs\": 0.52, \"max_trip_route_group\": 0.9, \"name\": \"City of Pasadena\", \"caltrans_district\": \"07 - Los Angeles\", \"drmt_organization_name\": null, \"cutoff2\": 20, \"cutoff\": 0}, {\"calitp_itp_id\": 243, \"trip_key\": -5878716702429970159, \"trip_id\": \"1477\", \"shape_id\": \"115\", \"route_id\": \"40\", \"service_hours\": 0.4, \"trip_first_departure_ts\": 70740, \"trip_last_arrival_ts\": 72180, \"departure_hour\": 19, \"time_of_day\": \"PM Peak\", \"p25\": 0.43, \"p50\": 0.43, \"p75\": 0.47, \"p50_trip\": 0, \"fastest_trip\": 0, \"car_duration_hours\": 0.36, \"competitive_route\": 1, \"bus_multiplier\": 1.11, \"bus_difference\": 2.4, \"num_trips\": 60, \"num_competitive\": 60, \"pct_trips_competitive\": 1.0, \"bus_difference_spread\": 7.2, \"route_group\": \"short\", \"max_trip_hrs\": 0.52, \"max_trip_route_group\": 0.9, \"name\": \"City of Pasadena\", \"caltrans_district\": \"07 - Los Angeles\", \"drmt_organization_name\": null, \"cutoff2\": 20, \"cutoff\": 0}, {\"calitp_itp_id\": 243, \"trip_key\": 3421942835263118318, \"trip_id\": \"1467\", \"shape_id\": \"115\", \"route_id\": \"40\", \"service_hours\": 0.42, \"trip_first_departure_ts\": 51300, \"trip_last_arrival_ts\": 52800, \"departure_hour\": 14, \"time_of_day\": \"Midday\", \"p25\": 0.43, \"p50\": 0.43, \"p75\": 0.47, \"p50_trip\": 0, \"fastest_trip\": 0, \"car_duration_hours\": 0.36, \"competitive_route\": 1, \"bus_multiplier\": 1.17, \"bus_difference\": 3.6, \"num_trips\": 60, \"num_competitive\": 60, \"pct_trips_competitive\": 1.0, \"bus_difference_spread\": 7.2, \"route_group\": \"short\", \"max_trip_hrs\": 0.52, \"max_trip_route_group\": 0.9, \"name\": \"City of Pasadena\", \"caltrans_district\": \"07 - Los Angeles\", \"drmt_organization_name\": null, \"cutoff2\": 20, \"cutoff\": 0}, {\"calitp_itp_id\": 243, \"trip_key\": -3971823856648761703, \"trip_id\": \"1454\", \"shape_id\": \"115\", \"route_id\": \"40\", \"service_hours\": 0.42, \"trip_first_departure_ts\": 23580, \"trip_last_arrival_ts\": 25080, \"departure_hour\": 6, \"time_of_day\": \"Owl Service\", \"p25\": 0.43, \"p50\": 0.43, \"p75\": 0.47, \"p50_trip\": 0, \"fastest_trip\": 0, \"car_duration_hours\": 0.36, \"competitive_route\": 1, \"bus_multiplier\": 1.17, \"bus_difference\": 3.6, \"num_trips\": 60, \"num_competitive\": 60, \"pct_trips_competitive\": 1.0, \"bus_difference_spread\": 7.2, \"route_group\": \"short\", \"max_trip_hrs\": 0.52, \"max_trip_route_group\": 0.9, \"name\": \"City of Pasadena\", \"caltrans_district\": \"07 - Los Angeles\", \"drmt_organization_name\": null, \"cutoff2\": 20, \"cutoff\": 0}, {\"calitp_itp_id\": 243, \"trip_key\": 571203467262955197, \"trip_id\": \"1461\", \"shape_id\": \"115\", \"route_id\": \"40\", \"service_hours\": 0.42, \"trip_first_departure_ts\": 39420, \"trip_last_arrival_ts\": 40920, \"departure_hour\": 10, \"time_of_day\": \"Midday\", \"p25\": 0.43, \"p50\": 0.43, \"p75\": 0.47, \"p50_trip\": 0, \"fastest_trip\": 0, \"car_duration_hours\": 0.36, \"competitive_route\": 1, \"bus_multiplier\": 1.17, \"bus_difference\": 3.6, \"num_trips\": 60, \"num_competitive\": 60, \"pct_trips_competitive\": 1.0, \"bus_difference_spread\": 7.2, \"route_group\": \"short\", \"max_trip_hrs\": 0.52, \"max_trip_route_group\": 0.9, \"name\": \"City of Pasadena\", \"caltrans_district\": \"07 - Los Angeles\", \"drmt_organization_name\": null, \"cutoff2\": 20, \"cutoff\": 0}, {\"calitp_itp_id\": 243, \"trip_key\": -3331154249928098219, \"trip_id\": \"1398\", \"shape_id\": \"115\", \"route_id\": \"40\", \"service_hours\": 0.42, \"trip_first_departure_ts\": 45360, \"trip_last_arrival_ts\": 46860, \"departure_hour\": 12, \"time_of_day\": \"Midday\", \"p25\": 0.43, \"p50\": 0.43, \"p75\": 0.47, \"p50_trip\": 0, \"fastest_trip\": 0, \"car_duration_hours\": 0.36, \"competitive_route\": 1, \"bus_multiplier\": 1.17, \"bus_difference\": 3.6, \"num_trips\": 60, \"num_competitive\": 60, \"pct_trips_competitive\": 1.0, \"bus_difference_spread\": 7.2, \"route_group\": \"short\", \"max_trip_hrs\": 0.52, \"max_trip_route_group\": 0.9, \"name\": \"City of Pasadena\", \"caltrans_district\": \"07 - Los Angeles\", \"drmt_organization_name\": null, \"cutoff2\": 20, \"cutoff\": 0}, {\"calitp_itp_id\": 243, \"trip_key\": 8871366527079549887, \"trip_id\": \"1396\", \"shape_id\": \"115\", \"route_id\": \"40\", \"service_hours\": 0.42, \"trip_first_departure_ts\": 41400, \"trip_last_arrival_ts\": 42900, \"departure_hour\": 11, \"time_of_day\": \"Midday\", \"p25\": 0.43, \"p50\": 0.43, \"p75\": 0.47, \"p50_trip\": 0, \"fastest_trip\": 0, \"car_duration_hours\": 0.36, \"competitive_route\": 1, \"bus_multiplier\": 1.17, \"bus_difference\": 3.6, \"num_trips\": 60, \"num_competitive\": 60, \"pct_trips_competitive\": 1.0, \"bus_difference_spread\": 7.2, \"route_group\": \"short\", \"max_trip_hrs\": 0.52, \"max_trip_route_group\": 0.9, \"name\": \"City of Pasadena\", \"caltrans_district\": \"07 - Los Angeles\", \"drmt_organization_name\": null, \"cutoff2\": 20, \"cutoff\": 0}, {\"calitp_itp_id\": 243, \"trip_key\": -7625146753172560862, \"trip_id\": \"575\", \"shape_id\": \"115\", \"route_id\": \"40\", \"service_hours\": 0.42, \"trip_first_departure_ts\": 21600, \"trip_last_arrival_ts\": 23100, \"departure_hour\": 6, \"time_of_day\": \"Owl Service\", \"p25\": 0.43, \"p50\": 0.43, \"p75\": 0.47, \"p50_trip\": 0, \"fastest_trip\": 0, \"car_duration_hours\": 0.36, \"competitive_route\": 1, \"bus_multiplier\": 1.17, \"bus_difference\": 3.6, \"num_trips\": 60, \"num_competitive\": 60, \"pct_trips_competitive\": 1.0, \"bus_difference_spread\": 7.2, \"route_group\": \"short\", \"max_trip_hrs\": 0.52, \"max_trip_route_group\": 0.9, \"name\": \"City of Pasadena\", \"caltrans_district\": \"07 - Los Angeles\", \"drmt_organization_name\": null, \"cutoff2\": 20, \"cutoff\": 0}, {\"calitp_itp_id\": 243, \"trip_key\": 1097618043081436245, \"trip_id\": \"1394\", \"shape_id\": \"115\", \"route_id\": \"40\", \"service_hours\": 0.42, \"trip_first_departure_ts\": 37440, \"trip_last_arrival_ts\": 38940, \"departure_hour\": 10, \"time_of_day\": \"Midday\", \"p25\": 0.43, \"p50\": 0.43, \"p75\": 0.47, \"p50_trip\": 0, \"fastest_trip\": 0, \"car_duration_hours\": 0.36, \"competitive_route\": 1, \"bus_multiplier\": 1.17, \"bus_difference\": 3.6, \"num_trips\": 60, \"num_competitive\": 60, \"pct_trips_competitive\": 1.0, \"bus_difference_spread\": 7.2, \"route_group\": \"short\", \"max_trip_hrs\": 0.52, \"max_trip_route_group\": 0.9, \"name\": \"City of Pasadena\", \"caltrans_district\": \"07 - Los Angeles\", \"drmt_organization_name\": null, \"cutoff2\": 20, \"cutoff\": 0}, {\"calitp_itp_id\": 243, \"trip_key\": 2953871376385710556, \"trip_id\": \"395\", \"shape_id\": \"116\", \"route_id\": \"40\", \"service_hours\": 0.42, \"trip_first_departure_ts\": 23640, \"trip_last_arrival_ts\": 25140, \"departure_hour\": 6, \"time_of_day\": \"Owl Service\", \"p25\": 0.43, \"p50\": 0.43, \"p75\": 0.47, \"p50_trip\": 0, \"fastest_trip\": 0, \"car_duration_hours\": 0.36, \"competitive_route\": 1, \"bus_multiplier\": 1.17, \"bus_difference\": 3.6, \"num_trips\": 60, \"num_competitive\": 60, \"pct_trips_competitive\": 1.0, \"bus_difference_spread\": 7.2, \"route_group\": \"short\", \"max_trip_hrs\": 0.52, \"max_trip_route_group\": 0.9, \"name\": \"City of Pasadena\", \"caltrans_district\": \"07 - Los Angeles\", \"drmt_organization_name\": null, \"cutoff2\": 20, \"cutoff\": 0}, {\"calitp_itp_id\": 243, \"trip_key\": -5744225030962745131, \"trip_id\": \"1463\", \"shape_id\": \"115\", \"route_id\": \"40\", \"service_hours\": 0.42, \"trip_first_departure_ts\": 43380, \"trip_last_arrival_ts\": 44880, \"departure_hour\": 12, \"time_of_day\": \"Midday\", \"p25\": 0.43, \"p50\": 0.43, \"p75\": 0.47, \"p50_trip\": 0, \"fastest_trip\": 0, \"car_duration_hours\": 0.36, \"competitive_route\": 1, \"bus_multiplier\": 1.17, \"bus_difference\": 3.6, \"num_trips\": 60, \"num_competitive\": 60, \"pct_trips_competitive\": 1.0, \"bus_difference_spread\": 7.2, \"route_group\": \"short\", \"max_trip_hrs\": 0.52, \"max_trip_route_group\": 0.9, \"name\": \"City of Pasadena\", \"caltrans_district\": \"07 - Los Angeles\", \"drmt_organization_name\": null, \"cutoff2\": 20, \"cutoff\": 0}, {\"calitp_itp_id\": 243, \"trip_key\": -6811379298604587808, \"trip_id\": \"1455\", \"shape_id\": \"116\", \"route_id\": \"40\", \"service_hours\": 0.43, \"trip_first_departure_ts\": 25620, \"trip_last_arrival_ts\": 27180, \"departure_hour\": 7, \"time_of_day\": \"AM Peak\", \"p25\": 0.43, \"p50\": 0.43, \"p75\": 0.47, \"p50_trip\": 1, \"fastest_trip\": 0, \"car_duration_hours\": 0.36, \"competitive_route\": 1, \"bus_multiplier\": 1.19, \"bus_difference\": 4.2, \"num_trips\": 60, \"num_competitive\": 60, \"pct_trips_competitive\": 1.0, \"bus_difference_spread\": 7.2, \"route_group\": \"short\", \"max_trip_hrs\": 0.52, \"max_trip_route_group\": 0.9, \"name\": \"City of Pasadena\", \"caltrans_district\": \"07 - Los Angeles\", \"drmt_organization_name\": null, \"cutoff2\": 20, \"cutoff\": 0}, {\"calitp_itp_id\": 243, \"trip_key\": -1075970438840635475, \"trip_id\": \"1391\", \"shape_id\": \"116\", \"route_id\": \"40\", \"service_hours\": 0.43, \"trip_first_departure_ts\": 31560, \"trip_last_arrival_ts\": 33120, \"departure_hour\": 8, \"time_of_day\": \"AM Peak\", \"p25\": 0.43, \"p50\": 0.43, \"p75\": 0.47, \"p50_trip\": 1, \"fastest_trip\": 0, \"car_duration_hours\": 0.36, \"competitive_route\": 1, \"bus_multiplier\": 1.19, \"bus_difference\": 4.2, \"num_trips\": 60, \"num_competitive\": 60, \"pct_trips_competitive\": 1.0, \"bus_difference_spread\": 7.2, \"route_group\": \"short\", \"max_trip_hrs\": 0.52, \"max_trip_route_group\": 0.9, \"name\": \"City of Pasadena\", \"caltrans_district\": \"07 - Los Angeles\", \"drmt_organization_name\": null, \"cutoff2\": 20, \"cutoff\": 0}, {\"calitp_itp_id\": 243, \"trip_key\": 3849708608977064688, \"trip_id\": \"1458\", \"shape_id\": \"115\", \"route_id\": \"40\", \"service_hours\": 0.43, \"trip_first_departure_ts\": 31500, \"trip_last_arrival_ts\": 33060, \"departure_hour\": 8, \"time_of_day\": \"AM Peak\", \"p25\": 0.43, \"p50\": 0.43, \"p75\": 0.47, \"p50_trip\": 1, \"fastest_trip\": 0, \"car_duration_hours\": 0.36, \"competitive_route\": 1, \"bus_multiplier\": 1.19, \"bus_difference\": 4.2, \"num_trips\": 60, \"num_competitive\": 60, \"pct_trips_competitive\": 1.0, \"bus_difference_spread\": 7.2, \"route_group\": \"short\", \"max_trip_hrs\": 0.52, \"max_trip_route_group\": 0.9, \"name\": \"City of Pasadena\", \"caltrans_district\": \"07 - Los Angeles\", \"drmt_organization_name\": null, \"cutoff2\": 20, \"cutoff\": 0}, {\"calitp_itp_id\": 243, \"trip_key\": -3429725424476719160, \"trip_id\": \"1465\", \"shape_id\": \"115\", \"route_id\": \"40\", \"service_hours\": 0.43, \"trip_first_departure_ts\": 47340, \"trip_last_arrival_ts\": 48900, \"departure_hour\": 13, \"time_of_day\": \"Midday\", \"p25\": 0.43, \"p50\": 0.43, \"p75\": 0.47, \"p50_trip\": 1, \"fastest_trip\": 0, \"car_duration_hours\": 0.36, \"competitive_route\": 1, \"bus_multiplier\": 1.19, \"bus_difference\": 4.2, \"num_trips\": 60, \"num_competitive\": 60, \"pct_trips_competitive\": 1.0, \"bus_difference_spread\": 7.2, \"route_group\": \"short\", \"max_trip_hrs\": 0.52, \"max_trip_route_group\": 0.9, \"name\": \"City of Pasadena\", \"caltrans_district\": \"07 - Los Angeles\", \"drmt_organization_name\": null, \"cutoff2\": 20, \"cutoff\": 0}, {\"calitp_itp_id\": 243, \"trip_key\": 5607973623522429463, \"trip_id\": \"1471\", \"shape_id\": \"115\", \"route_id\": \"40\", \"service_hours\": 0.43, \"trip_first_departure_ts\": 59220, \"trip_last_arrival_ts\": 60780, \"departure_hour\": 16, \"time_of_day\": \"Midday\", \"p25\": 0.43, \"p50\": 0.43, \"p75\": 0.47, \"p50_trip\": 1, \"fastest_trip\": 0, \"car_duration_hours\": 0.36, \"competitive_route\": 1, \"bus_multiplier\": 1.19, \"bus_difference\": 4.2, \"num_trips\": 60, \"num_competitive\": 60, \"pct_trips_competitive\": 1.0, \"bus_difference_spread\": 7.2, \"route_group\": \"short\", \"max_trip_hrs\": 0.52, \"max_trip_route_group\": 0.9, \"name\": \"City of Pasadena\", \"caltrans_district\": \"07 - Los Angeles\", \"drmt_organization_name\": null, \"cutoff2\": 20, \"cutoff\": 0}, {\"calitp_itp_id\": 243, \"trip_key\": 7147158597936599933, \"trip_id\": \"397\", \"shape_id\": \"116\", \"route_id\": \"40\", \"service_hours\": 0.43, \"trip_first_departure_ts\": 27600, \"trip_last_arrival_ts\": 29160, \"departure_hour\": 7, \"time_of_day\": \"AM Peak\", \"p25\": 0.43, \"p50\": 0.43, \"p75\": 0.47, \"p50_trip\": 1, \"fastest_trip\": 0, \"car_duration_hours\": 0.36, \"competitive_route\": 1, \"bus_multiplier\": 1.19, \"bus_difference\": 4.2, \"num_trips\": 60, \"num_competitive\": 60, \"pct_trips_competitive\": 1.0, \"bus_difference_spread\": 7.2, \"route_group\": \"short\", \"max_trip_hrs\": 0.52, \"max_trip_route_group\": 0.9, \"name\": \"City of Pasadena\", \"caltrans_district\": \"07 - Los Angeles\", \"drmt_organization_name\": null, \"cutoff2\": 20, \"cutoff\": 0}, {\"calitp_itp_id\": 243, \"trip_key\": 5130996138285784141, \"trip_id\": \"1485\", \"shape_id\": \"115\", \"route_id\": \"40\", \"service_hours\": 0.43, \"trip_first_departure_ts\": 60180, \"trip_last_arrival_ts\": 61740, \"departure_hour\": 16, \"time_of_day\": \"Midday\", \"p25\": 0.43, \"p50\": 0.43, \"p75\": 0.47, \"p50_trip\": 1, \"fastest_trip\": 0, \"car_duration_hours\": 0.36, \"competitive_route\": 1, \"bus_multiplier\": 1.19, \"bus_difference\": 4.2, \"num_trips\": 60, \"num_competitive\": 60, \"pct_trips_competitive\": 1.0, \"bus_difference_spread\": 7.2, \"route_group\": \"short\", \"max_trip_hrs\": 0.52, \"max_trip_route_group\": 0.9, \"name\": \"City of Pasadena\", \"caltrans_district\": \"07 - Los Angeles\", \"drmt_organization_name\": null, \"cutoff2\": 20, \"cutoff\": 0}, {\"calitp_itp_id\": 243, \"trip_key\": 5334111742153078456, \"trip_id\": \"1480\", \"shape_id\": \"116\", \"route_id\": \"40\", \"service_hours\": 0.43, \"trip_first_departure_ts\": 30540, \"trip_last_arrival_ts\": 32100, \"departure_hour\": 8, \"time_of_day\": \"AM Peak\", \"p25\": 0.43, \"p50\": 0.43, \"p75\": 0.47, \"p50_trip\": 1, \"fastest_trip\": 0, \"car_duration_hours\": 0.36, \"competitive_route\": 1, \"bus_multiplier\": 1.19, \"bus_difference\": 4.2, \"num_trips\": 60, \"num_competitive\": 60, \"pct_trips_competitive\": 1.0, \"bus_difference_spread\": 7.2, \"route_group\": \"short\", \"max_trip_hrs\": 0.52, \"max_trip_route_group\": 0.9, \"name\": \"City of Pasadena\", \"caltrans_district\": \"07 - Los Angeles\", \"drmt_organization_name\": null, \"cutoff2\": 20, \"cutoff\": 0}, {\"calitp_itp_id\": 243, \"trip_key\": 1064322808308691801, \"trip_id\": \"1406\", \"shape_id\": \"115\", \"route_id\": \"40\", \"service_hours\": 0.43, \"trip_first_departure_ts\": 61200, \"trip_last_arrival_ts\": 62760, \"departure_hour\": 17, \"time_of_day\": \"PM Peak\", \"p25\": 0.43, \"p50\": 0.43, \"p75\": 0.47, \"p50_trip\": 1, \"fastest_trip\": 0, \"car_duration_hours\": 0.36, \"competitive_route\": 1, \"bus_multiplier\": 1.19, \"bus_difference\": 4.2, \"num_trips\": 60, \"num_competitive\": 60, \"pct_trips_competitive\": 1.0, \"bus_difference_spread\": 7.2, \"route_group\": \"short\", \"max_trip_hrs\": 0.52, \"max_trip_route_group\": 0.9, \"name\": \"City of Pasadena\", \"caltrans_district\": \"07 - Los Angeles\", \"drmt_organization_name\": null, \"cutoff2\": 20, \"cutoff\": 0}, {\"calitp_itp_id\": 243, \"trip_key\": -457273300587208898, \"trip_id\": \"1479\", \"shape_id\": \"115\", \"route_id\": \"40\", \"service_hours\": 0.43, \"trip_first_departure_ts\": 28380, \"trip_last_arrival_ts\": 29940, \"departure_hour\": 7, \"time_of_day\": \"AM Peak\", \"p25\": 0.43, \"p50\": 0.43, \"p75\": 0.47, \"p50_trip\": 1, \"fastest_trip\": 0, \"car_duration_hours\": 0.36, \"competitive_route\": 1, \"bus_multiplier\": 1.19, \"bus_difference\": 4.2, \"num_trips\": 60, \"num_competitive\": 60, \"pct_trips_competitive\": 1.0, \"bus_difference_spread\": 7.2, \"route_group\": \"short\", \"max_trip_hrs\": 0.52, \"max_trip_route_group\": 0.9, \"name\": \"City of Pasadena\", \"caltrans_district\": \"07 - Los Angeles\", \"drmt_organization_name\": null, \"cutoff2\": 20, \"cutoff\": 0}, {\"calitp_itp_id\": 243, \"trip_key\": -2156526438854766631, \"trip_id\": \"1402\", \"shape_id\": \"115\", \"route_id\": \"40\", \"service_hours\": 0.43, \"trip_first_departure_ts\": 53280, \"trip_last_arrival_ts\": 54840, \"departure_hour\": 14, \"time_of_day\": \"Midday\", \"p25\": 0.43, \"p50\": 0.43, \"p75\": 0.47, \"p50_trip\": 1, \"fastest_trip\": 0, \"car_duration_hours\": 0.36, \"competitive_route\": 1, \"bus_multiplier\": 1.19, \"bus_difference\": 4.2, \"num_trips\": 60, \"num_competitive\": 60, \"pct_trips_competitive\": 1.0, \"bus_difference_spread\": 7.2, \"route_group\": \"short\", \"max_trip_hrs\": 0.52, \"max_trip_route_group\": 0.9, \"name\": \"City of Pasadena\", \"caltrans_district\": \"07 - Los Angeles\", \"drmt_organization_name\": null, \"cutoff2\": 20, \"cutoff\": 0}, {\"calitp_itp_id\": 243, \"trip_key\": -5520825071662195722, \"trip_id\": \"515\", \"shape_id\": \"116\", \"route_id\": \"40\", \"service_hours\": 0.43, \"trip_first_departure_ts\": 33540, \"trip_last_arrival_ts\": 35100, \"departure_hour\": 9, \"time_of_day\": \"AM Peak\", \"p25\": 0.43, \"p50\": 0.43, \"p75\": 0.47, \"p50_trip\": 1, \"fastest_trip\": 0, \"car_duration_hours\": 0.36, \"competitive_route\": 1, \"bus_multiplier\": 1.19, \"bus_difference\": 4.2, \"num_trips\": 60, \"num_competitive\": 60, \"pct_trips_competitive\": 1.0, \"bus_difference_spread\": 7.2, \"route_group\": \"short\", \"max_trip_hrs\": 0.52, \"max_trip_route_group\": 0.9, \"name\": \"City of Pasadena\", \"caltrans_district\": \"07 - Los Angeles\", \"drmt_organization_name\": null, \"cutoff2\": 20, \"cutoff\": 0}, {\"calitp_itp_id\": 243, \"trip_key\": 427370692779107272, \"trip_id\": \"1392\", \"shape_id\": \"115\", \"route_id\": \"40\", \"service_hours\": 0.43, \"trip_first_departure_ts\": 33480, \"trip_last_arrival_ts\": 35040, \"departure_hour\": 9, \"time_of_day\": \"AM Peak\", \"p25\": 0.43, \"p50\": 0.43, \"p75\": 0.47, \"p50_trip\": 1, \"fastest_trip\": 0, \"car_duration_hours\": 0.36, \"competitive_route\": 1, \"bus_multiplier\": 1.19, \"bus_difference\": 4.2, \"num_trips\": 60, \"num_competitive\": 60, \"pct_trips_competitive\": 1.0, \"bus_difference_spread\": 7.2, \"route_group\": \"short\", \"max_trip_hrs\": 0.52, \"max_trip_route_group\": 0.9, \"name\": \"City of Pasadena\", \"caltrans_district\": \"07 - Los Angeles\", \"drmt_organization_name\": null, \"cutoff2\": 20, \"cutoff\": 0}, {\"calitp_itp_id\": 243, \"trip_key\": -4430660323068573471, \"trip_id\": \"1473\", \"shape_id\": \"115\", \"route_id\": \"40\", \"service_hours\": 0.43, \"trip_first_departure_ts\": 63180, \"trip_last_arrival_ts\": 64740, \"departure_hour\": 17, \"time_of_day\": \"PM Peak\", \"p25\": 0.43, \"p50\": 0.43, \"p75\": 0.47, \"p50_trip\": 1, \"fastest_trip\": 0, \"car_duration_hours\": 0.36, \"competitive_route\": 1, \"bus_multiplier\": 1.19, \"bus_difference\": 4.2, \"num_trips\": 60, \"num_competitive\": 60, \"pct_trips_competitive\": 1.0, \"bus_difference_spread\": 7.2, \"route_group\": \"short\", \"max_trip_hrs\": 0.52, \"max_trip_route_group\": 0.9, \"name\": \"City of Pasadena\", \"caltrans_district\": \"07 - Los Angeles\", \"drmt_organization_name\": null, \"cutoff2\": 20, \"cutoff\": 0}, {\"calitp_itp_id\": 243, \"trip_key\": -5720050255020226388, \"trip_id\": \"1390\", \"shape_id\": \"115\", \"route_id\": \"40\", \"service_hours\": 0.43, \"trip_first_departure_ts\": 29520, \"trip_last_arrival_ts\": 31080, \"departure_hour\": 8, \"time_of_day\": \"AM Peak\", \"p25\": 0.43, \"p50\": 0.43, \"p75\": 0.47, \"p50_trip\": 1, \"fastest_trip\": 0, \"car_duration_hours\": 0.36, \"competitive_route\": 1, \"bus_multiplier\": 1.19, \"bus_difference\": 4.2, \"num_trips\": 60, \"num_competitive\": 60, \"pct_trips_competitive\": 1.0, \"bus_difference_spread\": 7.2, \"route_group\": \"short\", \"max_trip_hrs\": 0.52, \"max_trip_route_group\": 0.9, \"name\": \"City of Pasadena\", \"caltrans_district\": \"07 - Los Angeles\", \"drmt_organization_name\": null, \"cutoff2\": 20, \"cutoff\": 0}, {\"calitp_itp_id\": 243, \"trip_key\": -5096491728171873290, \"trip_id\": \"1404\", \"shape_id\": \"115\", \"route_id\": \"40\", \"service_hours\": 0.43, \"trip_first_departure_ts\": 57240, \"trip_last_arrival_ts\": 58800, \"departure_hour\": 15, \"time_of_day\": \"Midday\", \"p25\": 0.43, \"p50\": 0.43, \"p75\": 0.47, \"p50_trip\": 1, \"fastest_trip\": 0, \"car_duration_hours\": 0.36, \"competitive_route\": 1, \"bus_multiplier\": 1.19, \"bus_difference\": 4.2, \"num_trips\": 60, \"num_competitive\": 60, \"pct_trips_competitive\": 1.0, \"bus_difference_spread\": 7.2, \"route_group\": \"short\", \"max_trip_hrs\": 0.52, \"max_trip_route_group\": 0.9, \"name\": \"City of Pasadena\", \"caltrans_district\": \"07 - Los Angeles\", \"drmt_organization_name\": null, \"cutoff2\": 20, \"cutoff\": 0}, {\"calitp_itp_id\": 243, \"trip_key\": 974509850166598335, \"trip_id\": \"1459\", \"shape_id\": \"115\", \"route_id\": \"40\", \"service_hours\": 0.43, \"trip_first_departure_ts\": 35460, \"trip_last_arrival_ts\": 37020, \"departure_hour\": 9, \"time_of_day\": \"AM Peak\", \"p25\": 0.43, \"p50\": 0.43, \"p75\": 0.47, \"p50_trip\": 1, \"fastest_trip\": 0, \"car_duration_hours\": 0.36, \"competitive_route\": 1, \"bus_multiplier\": 1.19, \"bus_difference\": 4.2, \"num_trips\": 60, \"num_competitive\": 60, \"pct_trips_competitive\": 1.0, \"bus_difference_spread\": 7.2, \"route_group\": \"short\", \"max_trip_hrs\": 0.52, \"max_trip_route_group\": 0.9, \"name\": \"City of Pasadena\", \"caltrans_district\": \"07 - Los Angeles\", \"drmt_organization_name\": null, \"cutoff2\": 20, \"cutoff\": 0}, {\"calitp_itp_id\": 243, \"trip_key\": -3932176442900632664, \"trip_id\": \"1481\", \"shape_id\": \"115\", \"route_id\": \"40\", \"service_hours\": 0.43, \"trip_first_departure_ts\": 32340, \"trip_last_arrival_ts\": 33900, \"departure_hour\": 8, \"time_of_day\": \"AM Peak\", \"p25\": 0.43, \"p50\": 0.43, \"p75\": 0.47, \"p50_trip\": 1, \"fastest_trip\": 0, \"car_duration_hours\": 0.36, \"competitive_route\": 1, \"bus_multiplier\": 1.19, \"bus_difference\": 4.2, \"num_trips\": 60, \"num_competitive\": 60, \"pct_trips_competitive\": 1.0, \"bus_difference_spread\": 7.2, \"route_group\": \"short\", \"max_trip_hrs\": 0.52, \"max_trip_route_group\": 0.9, \"name\": \"City of Pasadena\", \"caltrans_district\": \"07 - Los Angeles\", \"drmt_organization_name\": null, \"cutoff2\": 20, \"cutoff\": 0}, {\"calitp_itp_id\": 243, \"trip_key\": 5908215030719960402, \"trip_id\": \"1393\", \"shape_id\": \"116\", \"route_id\": \"40\", \"service_hours\": 0.43, \"trip_first_departure_ts\": 35520, \"trip_last_arrival_ts\": 37080, \"departure_hour\": 9, \"time_of_day\": \"AM Peak\", \"p25\": 0.43, \"p50\": 0.43, \"p75\": 0.47, \"p50_trip\": 1, \"fastest_trip\": 0, \"car_duration_hours\": 0.36, \"competitive_route\": 1, \"bus_multiplier\": 1.19, \"bus_difference\": 4.2, \"num_trips\": 60, \"num_competitive\": 60, \"pct_trips_competitive\": 1.0, \"bus_difference_spread\": 7.2, \"route_group\": \"short\", \"max_trip_hrs\": 0.52, \"max_trip_route_group\": 0.9, \"name\": \"City of Pasadena\", \"caltrans_district\": \"07 - Los Angeles\", \"drmt_organization_name\": null, \"cutoff2\": 20, \"cutoff\": 0}, {\"calitp_itp_id\": 243, \"trip_key\": 4439859274706666415, \"trip_id\": \"1457\", \"shape_id\": \"116\", \"route_id\": \"40\", \"service_hours\": 0.43, \"trip_first_departure_ts\": 29580, \"trip_last_arrival_ts\": 31140, \"departure_hour\": 8, \"time_of_day\": \"AM Peak\", \"p25\": 0.43, \"p50\": 0.43, \"p75\": 0.47, \"p50_trip\": 1, \"fastest_trip\": 0, \"car_duration_hours\": 0.36, \"competitive_route\": 1, \"bus_multiplier\": 1.19, \"bus_difference\": 4.2, \"num_trips\": 60, \"num_competitive\": 60, \"pct_trips_competitive\": 1.0, \"bus_difference_spread\": 7.2, \"route_group\": \"short\", \"max_trip_hrs\": 0.52, \"max_trip_route_group\": 0.9, \"name\": \"City of Pasadena\", \"caltrans_district\": \"07 - Los Angeles\", \"drmt_organization_name\": null, \"cutoff2\": 20, \"cutoff\": 0}, {\"calitp_itp_id\": 243, \"trip_key\": -8641782261728298310, \"trip_id\": \"1400\", \"shape_id\": \"115\", \"route_id\": \"40\", \"service_hours\": 0.43, \"trip_first_departure_ts\": 49320, \"trip_last_arrival_ts\": 50880, \"departure_hour\": 13, \"time_of_day\": \"Midday\", \"p25\": 0.43, \"p50\": 0.43, \"p75\": 0.47, \"p50_trip\": 1, \"fastest_trip\": 0, \"car_duration_hours\": 0.36, \"competitive_route\": 1, \"bus_multiplier\": 1.19, \"bus_difference\": 4.2, \"num_trips\": 60, \"num_competitive\": 60, \"pct_trips_competitive\": 1.0, \"bus_difference_spread\": 7.2, \"route_group\": \"short\", \"max_trip_hrs\": 0.52, \"max_trip_route_group\": 0.9, \"name\": \"City of Pasadena\", \"caltrans_district\": \"07 - Los Angeles\", \"drmt_organization_name\": null, \"cutoff2\": 20, \"cutoff\": 0}, {\"calitp_itp_id\": 243, \"trip_key\": -2952889877015258857, \"trip_id\": \"1478\", \"shape_id\": \"116\", \"route_id\": \"40\", \"service_hours\": 0.43, \"trip_first_departure_ts\": 26640, \"trip_last_arrival_ts\": 28200, \"departure_hour\": 7, \"time_of_day\": \"AM Peak\", \"p25\": 0.43, \"p50\": 0.43, \"p75\": 0.47, \"p50_trip\": 1, \"fastest_trip\": 0, \"car_duration_hours\": 0.36, \"competitive_route\": 1, \"bus_multiplier\": 1.19, \"bus_difference\": 4.2, \"num_trips\": 60, \"num_competitive\": 60, \"pct_trips_competitive\": 1.0, \"bus_difference_spread\": 7.2, \"route_group\": \"short\", \"max_trip_hrs\": 0.52, \"max_trip_route_group\": 0.9, \"name\": \"City of Pasadena\", \"caltrans_district\": \"07 - Los Angeles\", \"drmt_organization_name\": null, \"cutoff2\": 20, \"cutoff\": 0}, {\"calitp_itp_id\": 243, \"trip_key\": -2935842029882481834, \"trip_id\": \"1460\", \"shape_id\": \"116\", \"route_id\": \"40\", \"service_hours\": 0.45, \"trip_first_departure_ts\": 37500, \"trip_last_arrival_ts\": 39120, \"departure_hour\": 10, \"time_of_day\": \"Midday\", \"p25\": 0.43, \"p50\": 0.43, \"p75\": 0.47, \"p50_trip\": 0, \"fastest_trip\": 0, \"car_duration_hours\": 0.36, \"competitive_route\": 1, \"bus_multiplier\": 1.25, \"bus_difference\": 5.4, \"num_trips\": 60, \"num_competitive\": 60, \"pct_trips_competitive\": 1.0, \"bus_difference_spread\": 7.2, \"route_group\": \"short\", \"max_trip_hrs\": 0.52, \"max_trip_route_group\": 0.9, \"name\": \"City of Pasadena\", \"caltrans_district\": \"07 - Los Angeles\", \"drmt_organization_name\": null, \"cutoff2\": 20, \"cutoff\": 0}, {\"calitp_itp_id\": 243, \"trip_key\": 4183328403217081308, \"trip_id\": \"1483\", \"shape_id\": \"115\", \"route_id\": \"40\", \"service_hours\": 0.45, \"trip_first_departure_ts\": 56160, \"trip_last_arrival_ts\": 57780, \"departure_hour\": 15, \"time_of_day\": \"Midday\", \"p25\": 0.43, \"p50\": 0.43, \"p75\": 0.47, \"p50_trip\": 0, \"fastest_trip\": 0, \"car_duration_hours\": 0.36, \"competitive_route\": 1, \"bus_multiplier\": 1.25, \"bus_difference\": 5.4, \"num_trips\": 60, \"num_competitive\": 60, \"pct_trips_competitive\": 1.0, \"bus_difference_spread\": 7.2, \"route_group\": \"short\", \"max_trip_hrs\": 0.52, \"max_trip_route_group\": 0.9, \"name\": \"City of Pasadena\", \"caltrans_district\": \"07 - Los Angeles\", \"drmt_organization_name\": null, \"cutoff2\": 20, \"cutoff\": 0}, {\"calitp_itp_id\": 243, \"trip_key\": 3251342999874066575, \"trip_id\": \"1395\", \"shape_id\": \"116\", \"route_id\": \"40\", \"service_hours\": 0.45, \"trip_first_departure_ts\": 39480, \"trip_last_arrival_ts\": 41100, \"departure_hour\": 10, \"time_of_day\": \"Midday\", \"p25\": 0.43, \"p50\": 0.43, \"p75\": 0.47, \"p50_trip\": 0, \"fastest_trip\": 0, \"car_duration_hours\": 0.36, \"competitive_route\": 1, \"bus_multiplier\": 1.25, \"bus_difference\": 5.4, \"num_trips\": 60, \"num_competitive\": 60, \"pct_trips_competitive\": 1.0, \"bus_difference_spread\": 7.2, \"route_group\": \"short\", \"max_trip_hrs\": 0.52, \"max_trip_route_group\": 0.9, \"name\": \"City of Pasadena\", \"caltrans_district\": \"07 - Los Angeles\", \"drmt_organization_name\": null, \"cutoff2\": 20, \"cutoff\": 0}, {\"calitp_itp_id\": 243, \"trip_key\": 9108332941586504875, \"trip_id\": \"1469\", \"shape_id\": \"115\", \"route_id\": \"40\", \"service_hours\": 0.45, \"trip_first_departure_ts\": 55260, \"trip_last_arrival_ts\": 56880, \"departure_hour\": 15, \"time_of_day\": \"Midday\", \"p25\": 0.43, \"p50\": 0.43, \"p75\": 0.47, \"p50_trip\": 0, \"fastest_trip\": 0, \"car_duration_hours\": 0.36, \"competitive_route\": 1, \"bus_multiplier\": 1.25, \"bus_difference\": 5.4, \"num_trips\": 60, \"num_competitive\": 60, \"pct_trips_competitive\": 1.0, \"bus_difference_spread\": 7.2, \"route_group\": \"short\", \"max_trip_hrs\": 0.52, \"max_trip_route_group\": 0.9, \"name\": \"City of Pasadena\", \"caltrans_district\": \"07 - Los Angeles\", \"drmt_organization_name\": null, \"cutoff2\": 20, \"cutoff\": 0}, {\"calitp_itp_id\": 243, \"trip_key\": -5240856566030428726, \"trip_id\": \"1389\", \"shape_id\": \"115\", \"route_id\": \"40\", \"service_hours\": 0.45, \"trip_first_departure_ts\": 25560, \"trip_last_arrival_ts\": 27180, \"departure_hour\": 7, \"time_of_day\": \"AM Peak\", \"p25\": 0.43, \"p50\": 0.43, \"p75\": 0.47, \"p50_trip\": 0, \"fastest_trip\": 0, \"car_duration_hours\": 0.36, \"competitive_route\": 1, \"bus_multiplier\": 1.25, \"bus_difference\": 5.4, \"num_trips\": 60, \"num_competitive\": 60, \"pct_trips_competitive\": 1.0, \"bus_difference_spread\": 7.2, \"route_group\": \"short\", \"max_trip_hrs\": 0.52, \"max_trip_route_group\": 0.9, \"name\": \"City of Pasadena\", \"caltrans_district\": \"07 - Los Angeles\", \"drmt_organization_name\": null, \"cutoff2\": 20, \"cutoff\": 0}, {\"calitp_itp_id\": 243, \"trip_key\": -4618607117097329099, \"trip_id\": \"1456\", \"shape_id\": \"115\", \"route_id\": \"40\", \"service_hours\": 0.45, \"trip_first_departure_ts\": 27540, \"trip_last_arrival_ts\": 29160, \"departure_hour\": 7, \"time_of_day\": \"AM Peak\", \"p25\": 0.43, \"p50\": 0.43, \"p75\": 0.47, \"p50_trip\": 0, \"fastest_trip\": 0, \"car_duration_hours\": 0.36, \"competitive_route\": 1, \"bus_multiplier\": 1.25, \"bus_difference\": 5.4, \"num_trips\": 60, \"num_competitive\": 60, \"pct_trips_competitive\": 1.0, \"bus_difference_spread\": 7.2, \"route_group\": \"short\", \"max_trip_hrs\": 0.52, \"max_trip_route_group\": 0.9, \"name\": \"City of Pasadena\", \"caltrans_district\": \"07 - Los Angeles\", \"drmt_organization_name\": null, \"cutoff2\": 20, \"cutoff\": 0}, {\"calitp_itp_id\": 243, \"trip_key\": -61917552718045693, \"trip_id\": \"1464\", \"shape_id\": \"116\", \"route_id\": \"40\", \"service_hours\": 0.47, \"trip_first_departure_ts\": 45420, \"trip_last_arrival_ts\": 47100, \"departure_hour\": 12, \"time_of_day\": \"Midday\", \"p25\": 0.43, \"p50\": 0.43, \"p75\": 0.47, \"p50_trip\": 0, \"fastest_trip\": 0, \"car_duration_hours\": 0.36, \"competitive_route\": 1, \"bus_multiplier\": 1.31, \"bus_difference\": 6.6, \"num_trips\": 60, \"num_competitive\": 60, \"pct_trips_competitive\": 1.0, \"bus_difference_spread\": 7.2, \"route_group\": \"short\", \"max_trip_hrs\": 0.52, \"max_trip_route_group\": 0.9, \"name\": \"City of Pasadena\", \"caltrans_district\": \"07 - Los Angeles\", \"drmt_organization_name\": null, \"cutoff2\": 20, \"cutoff\": 0}, {\"calitp_itp_id\": 243, \"trip_key\": -5481032292012533812, \"trip_id\": \"1397\", \"shape_id\": \"116\", \"route_id\": \"40\", \"service_hours\": 0.47, \"trip_first_departure_ts\": 43440, \"trip_last_arrival_ts\": 45120, \"departure_hour\": 12, \"time_of_day\": \"Midday\", \"p25\": 0.43, \"p50\": 0.43, \"p75\": 0.47, \"p50_trip\": 0, \"fastest_trip\": 0, \"car_duration_hours\": 0.36, \"competitive_route\": 1, \"bus_multiplier\": 1.31, \"bus_difference\": 6.6, \"num_trips\": 60, \"num_competitive\": 60, \"pct_trips_competitive\": 1.0, \"bus_difference_spread\": 7.2, \"route_group\": \"short\", \"max_trip_hrs\": 0.52, \"max_trip_route_group\": 0.9, \"name\": \"City of Pasadena\", \"caltrans_district\": \"07 - Los Angeles\", \"drmt_organization_name\": null, \"cutoff2\": 20, \"cutoff\": 0}, {\"calitp_itp_id\": 243, \"trip_key\": 8094440408290887746, \"trip_id\": \"1466\", \"shape_id\": \"116\", \"route_id\": \"40\", \"service_hours\": 0.47, \"trip_first_departure_ts\": 49380, \"trip_last_arrival_ts\": 51060, \"departure_hour\": 13, \"time_of_day\": \"Midday\", \"p25\": 0.43, \"p50\": 0.43, \"p75\": 0.47, \"p50_trip\": 0, \"fastest_trip\": 0, \"car_duration_hours\": 0.36, \"competitive_route\": 1, \"bus_multiplier\": 1.31, \"bus_difference\": 6.6, \"num_trips\": 60, \"num_competitive\": 60, \"pct_trips_competitive\": 1.0, \"bus_difference_spread\": 7.2, \"route_group\": \"short\", \"max_trip_hrs\": 0.52, \"max_trip_route_group\": 0.9, \"name\": \"City of Pasadena\", \"caltrans_district\": \"07 - Los Angeles\", \"drmt_organization_name\": null, \"cutoff2\": 20, \"cutoff\": 0}, {\"calitp_itp_id\": 243, \"trip_key\": 471731787304392193, \"trip_id\": \"1401\", \"shape_id\": \"116\", \"route_id\": \"40\", \"service_hours\": 0.47, \"trip_first_departure_ts\": 51360, \"trip_last_arrival_ts\": 53040, \"departure_hour\": 14, \"time_of_day\": \"Midday\", \"p25\": 0.43, \"p50\": 0.43, \"p75\": 0.47, \"p50_trip\": 0, \"fastest_trip\": 0, \"car_duration_hours\": 0.36, \"competitive_route\": 1, \"bus_multiplier\": 1.31, \"bus_difference\": 6.6, \"num_trips\": 60, \"num_competitive\": 60, \"pct_trips_competitive\": 1.0, \"bus_difference_spread\": 7.2, \"route_group\": \"short\", \"max_trip_hrs\": 0.52, \"max_trip_route_group\": 0.9, \"name\": \"City of Pasadena\", \"caltrans_district\": \"07 - Los Angeles\", \"drmt_organization_name\": null, \"cutoff2\": 20, \"cutoff\": 0}, {\"calitp_itp_id\": 243, \"trip_key\": -147033308085787826, \"trip_id\": \"1399\", \"shape_id\": \"116\", \"route_id\": \"40\", \"service_hours\": 0.47, \"trip_first_departure_ts\": 47400, \"trip_last_arrival_ts\": 49080, \"departure_hour\": 13, \"time_of_day\": \"Midday\", \"p25\": 0.43, \"p50\": 0.43, \"p75\": 0.47, \"p50_trip\": 0, \"fastest_trip\": 0, \"car_duration_hours\": 0.36, \"competitive_route\": 1, \"bus_multiplier\": 1.31, \"bus_difference\": 6.6, \"num_trips\": 60, \"num_competitive\": 60, \"pct_trips_competitive\": 1.0, \"bus_difference_spread\": 7.2, \"route_group\": \"short\", \"max_trip_hrs\": 0.52, \"max_trip_route_group\": 0.9, \"name\": \"City of Pasadena\", \"caltrans_district\": \"07 - Los Angeles\", \"drmt_organization_name\": null, \"cutoff2\": 20, \"cutoff\": 0}, {\"calitp_itp_id\": 243, \"trip_key\": 7376714902451683338, \"trip_id\": \"1462\", \"shape_id\": \"116\", \"route_id\": \"40\", \"service_hours\": 0.47, \"trip_first_departure_ts\": 41460, \"trip_last_arrival_ts\": 43140, \"departure_hour\": 11, \"time_of_day\": \"Midday\", \"p25\": 0.43, \"p50\": 0.43, \"p75\": 0.47, \"p50_trip\": 0, \"fastest_trip\": 0, \"car_duration_hours\": 0.36, \"competitive_route\": 1, \"bus_multiplier\": 1.31, \"bus_difference\": 6.6, \"num_trips\": 60, \"num_competitive\": 60, \"pct_trips_competitive\": 1.0, \"bus_difference_spread\": 7.2, \"route_group\": \"short\", \"max_trip_hrs\": 0.52, \"max_trip_route_group\": 0.9, \"name\": \"City of Pasadena\", \"caltrans_district\": \"07 - Los Angeles\", \"drmt_organization_name\": null, \"cutoff2\": 20, \"cutoff\": 0}, {\"calitp_itp_id\": 243, \"trip_key\": -1938911408225879080, \"trip_id\": \"1468\", \"shape_id\": \"116\", \"route_id\": \"40\", \"service_hours\": 0.48, \"trip_first_departure_ts\": 53340, \"trip_last_arrival_ts\": 55080, \"departure_hour\": 14, \"time_of_day\": \"Midday\", \"p25\": 0.43, \"p50\": 0.43, \"p75\": 0.47, \"p50_trip\": 0, \"fastest_trip\": 0, \"car_duration_hours\": 0.36, \"competitive_route\": 1, \"bus_multiplier\": 1.33, \"bus_difference\": 7.2, \"num_trips\": 60, \"num_competitive\": 60, \"pct_trips_competitive\": 1.0, \"bus_difference_spread\": 7.2, \"route_group\": \"short\", \"max_trip_hrs\": 0.52, \"max_trip_route_group\": 0.9, \"name\": \"City of Pasadena\", \"caltrans_district\": \"07 - Los Angeles\", \"drmt_organization_name\": null, \"cutoff2\": 20, \"cutoff\": 0}, {\"calitp_itp_id\": 243, \"trip_key\": 1630135609506128439, \"trip_id\": \"242\", \"shape_id\": \"116\", \"route_id\": \"40\", \"service_hours\": 0.48, \"trip_first_departure_ts\": 67200, \"trip_last_arrival_ts\": 68940, \"departure_hour\": 18, \"time_of_day\": \"PM Peak\", \"p25\": 0.43, \"p50\": 0.43, \"p75\": 0.47, \"p50_trip\": 0, \"fastest_trip\": 0, \"car_duration_hours\": 0.36, \"competitive_route\": 1, \"bus_multiplier\": 1.33, \"bus_difference\": 7.2, \"num_trips\": 60, \"num_competitive\": 60, \"pct_trips_competitive\": 1.0, \"bus_difference_spread\": 7.2, \"route_group\": \"short\", \"max_trip_hrs\": 0.52, \"max_trip_route_group\": 0.9, \"name\": \"City of Pasadena\", \"caltrans_district\": \"07 - Los Angeles\", \"drmt_organization_name\": null, \"cutoff2\": 20, \"cutoff\": 0}, {\"calitp_itp_id\": 243, \"trip_key\": -3806905863690559099, \"trip_id\": \"243\", \"shape_id\": \"116\", \"route_id\": \"40\", \"service_hours\": 0.48, \"trip_first_departure_ts\": 70800, \"trip_last_arrival_ts\": 72540, \"departure_hour\": 19, \"time_of_day\": \"PM Peak\", \"p25\": 0.43, \"p50\": 0.43, \"p75\": 0.47, \"p50_trip\": 0, \"fastest_trip\": 0, \"car_duration_hours\": 0.36, \"competitive_route\": 1, \"bus_multiplier\": 1.33, \"bus_difference\": 7.2, \"num_trips\": 60, \"num_competitive\": 60, \"pct_trips_competitive\": 1.0, \"bus_difference_spread\": 7.2, \"route_group\": \"short\", \"max_trip_hrs\": 0.52, \"max_trip_route_group\": 0.9, \"name\": \"City of Pasadena\", \"caltrans_district\": \"07 - Los Angeles\", \"drmt_organization_name\": null, \"cutoff2\": 20, \"cutoff\": 0}, {\"calitp_itp_id\": 243, \"trip_key\": -2861983691571892523, \"trip_id\": \"244\", \"shape_id\": \"116\", \"route_id\": \"40\", \"service_hours\": 0.48, \"trip_first_departure_ts\": 65220, \"trip_last_arrival_ts\": 66960, \"departure_hour\": 18, \"time_of_day\": \"PM Peak\", \"p25\": 0.43, \"p50\": 0.43, \"p75\": 0.47, \"p50_trip\": 0, \"fastest_trip\": 0, \"car_duration_hours\": 0.36, \"competitive_route\": 1, \"bus_multiplier\": 1.33, \"bus_difference\": 7.2, \"num_trips\": 60, \"num_competitive\": 60, \"pct_trips_competitive\": 1.0, \"bus_difference_spread\": 7.2, \"route_group\": \"short\", \"max_trip_hrs\": 0.52, \"max_trip_route_group\": 0.9, \"name\": \"City of Pasadena\", \"caltrans_district\": \"07 - Los Angeles\", \"drmt_organization_name\": null, \"cutoff2\": 20, \"cutoff\": 0}, {\"calitp_itp_id\": 243, \"trip_key\": 8576133153169936559, \"trip_id\": \"245\", \"shape_id\": \"116\", \"route_id\": \"40\", \"service_hours\": 0.48, \"trip_first_departure_ts\": 69000, \"trip_last_arrival_ts\": 70740, \"departure_hour\": 19, \"time_of_day\": \"PM Peak\", \"p25\": 0.43, \"p50\": 0.43, \"p75\": 0.47, \"p50_trip\": 0, \"fastest_trip\": 0, \"car_duration_hours\": 0.36, \"competitive_route\": 1, \"bus_multiplier\": 1.33, \"bus_difference\": 7.2, \"num_trips\": 60, \"num_competitive\": 60, \"pct_trips_competitive\": 1.0, \"bus_difference_spread\": 7.2, \"route_group\": \"short\", \"max_trip_hrs\": 0.52, \"max_trip_route_group\": 0.9, \"name\": \"City of Pasadena\", \"caltrans_district\": \"07 - Los Angeles\", \"drmt_organization_name\": null, \"cutoff2\": 20, \"cutoff\": 0}, {\"calitp_itp_id\": 243, \"trip_key\": 3918195882673815193, \"trip_id\": \"1482\", \"shape_id\": \"116\", \"route_id\": \"40\", \"service_hours\": 0.5, \"trip_first_departure_ts\": 54360, \"trip_last_arrival_ts\": 56160, \"departure_hour\": 15, \"time_of_day\": \"Midday\", \"p25\": 0.43, \"p50\": 0.43, \"p75\": 0.47, \"p50_trip\": 0, \"fastest_trip\": 0, \"car_duration_hours\": 0.36, \"competitive_route\": 1, \"bus_multiplier\": 1.39, \"bus_difference\": 8.4, \"num_trips\": 60, \"num_competitive\": 60, \"pct_trips_competitive\": 1.0, \"bus_difference_spread\": 7.2, \"route_group\": \"short\", \"max_trip_hrs\": 0.52, \"max_trip_route_group\": 0.9, \"name\": \"City of Pasadena\", \"caltrans_district\": \"07 - Los Angeles\", \"drmt_organization_name\": null, \"cutoff2\": 20, \"cutoff\": 0}, {\"calitp_itp_id\": 243, \"trip_key\": 6200472641121586631, \"trip_id\": \"1403\", \"shape_id\": \"116\", \"route_id\": \"40\", \"service_hours\": 0.5, \"trip_first_departure_ts\": 55440, \"trip_last_arrival_ts\": 57240, \"departure_hour\": 15, \"time_of_day\": \"Midday\", \"p25\": 0.43, \"p50\": 0.43, \"p75\": 0.47, \"p50_trip\": 0, \"fastest_trip\": 0, \"car_duration_hours\": 0.36, \"competitive_route\": 1, \"bus_multiplier\": 1.39, \"bus_difference\": 8.4, \"num_trips\": 60, \"num_competitive\": 60, \"pct_trips_competitive\": 1.0, \"bus_difference_spread\": 7.2, \"route_group\": \"short\", \"max_trip_hrs\": 0.52, \"max_trip_route_group\": 0.9, \"name\": \"City of Pasadena\", \"caltrans_district\": \"07 - Los Angeles\", \"drmt_organization_name\": null, \"cutoff2\": 20, \"cutoff\": 0}, {\"calitp_itp_id\": 243, \"trip_key\": 3831482585458194579, \"trip_id\": \"1405\", \"shape_id\": \"116\", \"route_id\": \"40\", \"service_hours\": 0.5, \"trip_first_departure_ts\": 59280, \"trip_last_arrival_ts\": 61080, \"departure_hour\": 16, \"time_of_day\": \"Midday\", \"p25\": 0.43, \"p50\": 0.43, \"p75\": 0.47, \"p50_trip\": 0, \"fastest_trip\": 0, \"car_duration_hours\": 0.36, \"competitive_route\": 1, \"bus_multiplier\": 1.39, \"bus_difference\": 8.4, \"num_trips\": 60, \"num_competitive\": 60, \"pct_trips_competitive\": 1.0, \"bus_difference_spread\": 7.2, \"route_group\": \"short\", \"max_trip_hrs\": 0.52, \"max_trip_route_group\": 0.9, \"name\": \"City of Pasadena\", \"caltrans_district\": \"07 - Los Angeles\", \"drmt_organization_name\": null, \"cutoff2\": 20, \"cutoff\": 0}, {\"calitp_itp_id\": 243, \"trip_key\": -7102978442082303200, \"trip_id\": \"1484\", \"shape_id\": \"116\", \"route_id\": \"40\", \"service_hours\": 0.5, \"trip_first_departure_ts\": 58380, \"trip_last_arrival_ts\": 60180, \"departure_hour\": 16, \"time_of_day\": \"Midday\", \"p25\": 0.43, \"p50\": 0.43, \"p75\": 0.47, \"p50_trip\": 0, \"fastest_trip\": 0, \"car_duration_hours\": 0.36, \"competitive_route\": 1, \"bus_multiplier\": 1.39, \"bus_difference\": 8.4, \"num_trips\": 60, \"num_competitive\": 60, \"pct_trips_competitive\": 1.0, \"bus_difference_spread\": 7.2, \"route_group\": \"short\", \"max_trip_hrs\": 0.52, \"max_trip_route_group\": 0.9, \"name\": \"City of Pasadena\", \"caltrans_district\": \"07 - Los Angeles\", \"drmt_organization_name\": null, \"cutoff2\": 20, \"cutoff\": 0}, {\"calitp_itp_id\": 243, \"trip_key\": -170044678535717605, \"trip_id\": \"1470\", \"shape_id\": \"116\", \"route_id\": \"40\", \"service_hours\": 0.5, \"trip_first_departure_ts\": 57300, \"trip_last_arrival_ts\": 59100, \"departure_hour\": 15, \"time_of_day\": \"Midday\", \"p25\": 0.43, \"p50\": 0.43, \"p75\": 0.47, \"p50_trip\": 0, \"fastest_trip\": 0, \"car_duration_hours\": 0.36, \"competitive_route\": 1, \"bus_multiplier\": 1.39, \"bus_difference\": 8.4, \"num_trips\": 60, \"num_competitive\": 60, \"pct_trips_competitive\": 1.0, \"bus_difference_spread\": 7.2, \"route_group\": \"short\", \"max_trip_hrs\": 0.52, \"max_trip_route_group\": 0.9, \"name\": \"City of Pasadena\", \"caltrans_district\": \"07 - Los Angeles\", \"drmt_organization_name\": null, \"cutoff2\": 20, \"cutoff\": 0}, {\"calitp_itp_id\": 243, \"trip_key\": 8301001581029939119, \"trip_id\": \"1486\", \"shape_id\": \"116\", \"route_id\": \"40\", \"service_hours\": 0.52, \"trip_first_departure_ts\": 62340, \"trip_last_arrival_ts\": 64200, \"departure_hour\": 17, \"time_of_day\": \"PM Peak\", \"p25\": 0.43, \"p50\": 0.43, \"p75\": 0.47, \"p50_trip\": 0, \"fastest_trip\": 0, \"car_duration_hours\": 0.36, \"competitive_route\": 1, \"bus_multiplier\": 1.44, \"bus_difference\": 9.6, \"num_trips\": 60, \"num_competitive\": 60, \"pct_trips_competitive\": 1.0, \"bus_difference_spread\": 7.2, \"route_group\": \"short\", \"max_trip_hrs\": 0.52, \"max_trip_route_group\": 0.9, \"name\": \"City of Pasadena\", \"caltrans_district\": \"07 - Los Angeles\", \"drmt_organization_name\": null, \"cutoff2\": 20, \"cutoff\": 0}, {\"calitp_itp_id\": 243, \"trip_key\": 2947993844491741256, \"trip_id\": \"1472\", \"shape_id\": \"116\", \"route_id\": \"40\", \"service_hours\": 0.52, \"trip_first_departure_ts\": 61260, \"trip_last_arrival_ts\": 63120, \"departure_hour\": 17, \"time_of_day\": \"PM Peak\", \"p25\": 0.43, \"p50\": 0.43, \"p75\": 0.47, \"p50_trip\": 0, \"fastest_trip\": 0, \"car_duration_hours\": 0.36, \"competitive_route\": 1, \"bus_multiplier\": 1.44, \"bus_difference\": 9.6, \"num_trips\": 60, \"num_competitive\": 60, \"pct_trips_competitive\": 1.0, \"bus_difference_spread\": 7.2, \"route_group\": \"short\", \"max_trip_hrs\": 0.52, \"max_trip_route_group\": 0.9, \"name\": \"City of Pasadena\", \"caltrans_district\": \"07 - Los Angeles\", \"drmt_organization_name\": null, \"cutoff2\": 20, \"cutoff\": 0}, {\"calitp_itp_id\": 243, \"trip_key\": 103938444193857682, \"trip_id\": \"241\", \"shape_id\": \"116\", \"route_id\": \"40\", \"service_hours\": 0.52, \"trip_first_departure_ts\": 63240, \"trip_last_arrival_ts\": 65100, \"departure_hour\": 17, \"time_of_day\": \"PM Peak\", \"p25\": 0.43, \"p50\": 0.43, \"p75\": 0.47, \"p50_trip\": 0, \"fastest_trip\": 0, \"car_duration_hours\": 0.36, \"competitive_route\": 1, \"bus_multiplier\": 1.44, \"bus_difference\": 9.6, \"num_trips\": 60, \"num_competitive\": 60, \"pct_trips_competitive\": 1.0, \"bus_difference_spread\": 7.2, \"route_group\": \"short\", \"max_trip_hrs\": 0.52, \"max_trip_route_group\": 0.9, \"name\": \"City of Pasadena\", \"caltrans_district\": \"07 - Los Angeles\", \"drmt_organization_name\": null, \"cutoff2\": 20, \"cutoff\": 0}]}}, {\"mode\": \"vega-lite\"});\n",
       "</script>"
      ],
      "text/plain": [
       "alt.FacetChart(...)"
      ]
     },
     "metadata": {},
     "output_type": "display_data"
    }
   ],
   "source": [
    "# Allow for possibility that operator doesn't have routes that fall into certain route_groups\n",
    "# But, jupyterbook will not like markdown with f-string\n",
    "# separate out route_group and put in each cell, and use try/except + if to display...\n",
    "# but all 3 route groups must be displayed. just add sentence about why no routes were returned at the end\n",
    "route_group = \"short\"\n",
    "try:\n",
    "    display_charts_for_route_group(df, route_group)\n",
    "except:\n",
    "    print(\"No routes meet this criteria.\")"
   ]
  },
  {
   "cell_type": "markdown",
   "id": "c2931b6f-034d-4384-9e14-80b925e3b820",
   "metadata": {
    "papermill": {
     "duration": 0.018107,
     "end_time": "2022-05-09T17:07:51.069449",
     "exception": false,
     "start_time": "2022-05-09T17:07:51.051342",
     "status": "completed"
    },
    "tags": []
   },
   "source": [
    "### Medium Routes (1-1.5 hrs)"
   ]
  },
  {
   "cell_type": "code",
   "execution_count": 14,
   "id": "480edddc-4de0-48c2-ae4c-b0ceef8f28b5",
   "metadata": {
    "execution": {
     "iopub.execute_input": "2022-05-09T17:07:51.117898Z",
     "iopub.status.busy": "2022-05-09T17:07:51.116683Z",
     "iopub.status.idle": "2022-05-09T17:07:51.132462Z",
     "shell.execute_reply": "2022-05-09T17:07:51.130771Z"
    },
    "jupyter": {
     "source_hidden": true
    },
    "papermill": {
     "duration": 0.046779,
     "end_time": "2022-05-09T17:07:51.134860",
     "exception": false,
     "start_time": "2022-05-09T17:07:51.088081",
     "status": "completed"
    },
    "tags": [
     "remove_input"
    ]
   },
   "outputs": [
    {
     "name": "stdout",
     "output_type": "stream",
     "text": [
      "No routes meet this criteria.\n"
     ]
    }
   ],
   "source": [
    "route_group = \"medium\"\n",
    "try:\n",
    "    display_charts_for_route_group(df, route_group)\n",
    "except:\n",
    "    print(\"No routes meet this criteria.\")"
   ]
  },
  {
   "cell_type": "markdown",
   "id": "124b76d0-886c-4d03-92ac-f1bda3cda182",
   "metadata": {
    "papermill": {
     "duration": 0.01935,
     "end_time": "2022-05-09T17:07:51.176715",
     "exception": false,
     "start_time": "2022-05-09T17:07:51.157365",
     "status": "completed"
    },
    "tags": []
   },
   "source": [
    "### Long Routes (> 1.5 hrs)"
   ]
  },
  {
   "cell_type": "code",
   "execution_count": 15,
   "id": "ddc81b19-4c45-4c81-8b7a-5e0f394aa7a3",
   "metadata": {
    "execution": {
     "iopub.execute_input": "2022-05-09T17:07:51.225195Z",
     "iopub.status.busy": "2022-05-09T17:07:51.224761Z",
     "iopub.status.idle": "2022-05-09T17:07:51.238296Z",
     "shell.execute_reply": "2022-05-09T17:07:51.237344Z"
    },
    "jupyter": {
     "source_hidden": true
    },
    "papermill": {
     "duration": 0.045071,
     "end_time": "2022-05-09T17:07:51.241710",
     "exception": false,
     "start_time": "2022-05-09T17:07:51.196639",
     "status": "completed"
    },
    "tags": [
     "remove_input"
    ]
   },
   "outputs": [
    {
     "name": "stdout",
     "output_type": "stream",
     "text": [
      "No routes meet this criteria.\n"
     ]
    }
   ],
   "source": [
    "route_group = \"long\"\n",
    "try:\n",
    "    display_charts_for_route_group(df, route_group)\n",
    "except:\n",
    "    print(\"No routes meet this criteria.\")"
   ]
  },
  {
   "cell_type": "markdown",
   "id": "ace75b5f-0442-4fbe-aebd-6c3a13ae13a7",
   "metadata": {
    "papermill": {
     "duration": 0.018255,
     "end_time": "2022-05-09T17:07:51.278826",
     "exception": false,
     "start_time": "2022-05-09T17:07:51.260571",
     "status": "completed"
    },
    "tags": []
   },
   "source": [
    "### GTFS Real-Time Speedmaps"
   ]
  },
  {
   "cell_type": "code",
   "execution_count": 16,
   "id": "3f06fdc4-d5a8-41f5-9b72-ed7e8a2dd2fc",
   "metadata": {
    "execution": {
     "iopub.execute_input": "2022-05-09T17:07:51.324821Z",
     "iopub.status.busy": "2022-05-09T17:07:51.324178Z",
     "iopub.status.idle": "2022-05-09T17:07:51.376338Z",
     "shell.execute_reply": "2022-05-09T17:07:51.375361Z"
    },
    "jupyter": {
     "source_hidden": true
    },
    "papermill": {
     "duration": 0.080908,
     "end_time": "2022-05-09T17:07:51.378531",
     "exception": false,
     "start_time": "2022-05-09T17:07:51.297623",
     "status": "completed"
    },
    "tags": [
     "remove_input"
    ]
   },
   "outputs": [
    {
     "data": {
      "text/html": [
       "<a href=RT_URL>GTFS RT speedmaps here.</a>"
      ],
      "text/plain": [
       "<IPython.core.display.HTML object>"
      ]
     },
     "metadata": {},
     "output_type": "display_data"
    }
   ],
   "source": [
    "PORTFOLIO_SITE_YAML = \"../portfolio/analyses.yml\"\n",
    "\n",
    "# Grab list of ITP IDs with GTFS RT speedmaps\n",
    "rt_itp_id = deploy_portfolio_yaml.check_if_rt_data_available(PORTFOLIO_SITE_YAML)\n",
    "\n",
    "# Construct the URL \n",
    "RT_URL = (\"https://analysis.calitp.org/rt/\"\n",
    "          f\"district_{district_number}-{district_name}/\"\n",
    "          f\"speedmaps__itp_id_{itp_id}.html\"\n",
    "         ) \n",
    "\n",
    "if itp_id in rt_itp_id:\n",
    "    display(HTML('<a href=RT_URL>GTFS RT speedmaps here.</a>'))\n",
    "else:\n",
    "    display(HTML(\"No GTFS RT data available.\"))"
   ]
  },
  {
   "cell_type": "code",
   "execution_count": null,
   "id": "4664fe87-4e5e-4414-9602-a5c9c2a14072",
   "metadata": {
    "jupyter": {
     "source_hidden": true
    },
    "papermill": {
     "duration": 0.02325,
     "end_time": "2022-05-09T17:07:51.422854",
     "exception": false,
     "start_time": "2022-05-09T17:07:51.399604",
     "status": "completed"
    },
    "tags": [
     "remove_input"
    ]
   },
   "outputs": [],
   "source": []
  }
 ],
 "metadata": {
  "kernelspec": {
   "display_name": "Python 3 (ipykernel)",
   "language": "python",
   "name": "python3"
  },
  "language_info": {
   "codemirror_mode": {
    "name": "ipython",
    "version": 3
   },
   "file_extension": ".py",
   "mimetype": "text/x-python",
   "name": "python",
   "nbconvert_exporter": "python",
   "pygments_lexer": "ipython3",
   "version": "3.9.12"
  },
  "papermill": {
   "default_parameters": {},
   "duration": 28.08358,
   "end_time": "2022-05-09T17:07:54.028900",
   "environment_variables": {},
   "exception": null,
   "input_path": "bus_service_increase/competitive-parallel-routes.ipynb",
   "output_path": "portfolio/parallel_corridors/district_07-los-angeles/competitive-parallel-routes__itp_id_243.ipynb",
   "parameters": {
    "district": "07 - Los Angeles",
    "itp_id": 243
   },
   "start_time": "2022-05-09T17:07:25.945320",
   "version": "2.3.4"
  }
 },
 "nbformat": 4,
 "nbformat_minor": 5
}