{
 "cells": [
  {
   "cell_type": "code",
   "execution_count": 1,
   "id": "95d00857-6a20-4529-a519-2cc7182928a9",
   "metadata": {
    "execution": {
     "iopub.execute_input": "2022-05-09T17:09:49.655900Z",
     "iopub.status.busy": "2022-05-09T17:09:49.654693Z",
     "iopub.status.idle": "2022-05-09T17:09:58.621429Z",
     "shell.execute_reply": "2022-05-09T17:09:58.620368Z"
    },
    "jupyter": {
     "source_hidden": true
    },
    "papermill": {
     "duration": 8.984309,
     "end_time": "2022-05-09T17:09:58.624729",
     "exception": false,
     "start_time": "2022-05-09T17:09:49.640420",
     "status": "completed"
    },
    "tags": [
     "remove_input"
    ]
   },
   "outputs": [],
   "source": [
    "%%capture\n",
    "import warnings\n",
    "warnings.filterwarnings('ignore')\n",
    "\n",
    "import altair as alt\n",
    "import calitp.magics\n",
    "import geopandas as gpd\n",
    "import intake\n",
    "import pandas as pd\n",
    "\n",
    "from IPython.display import display, Markdown, HTML\n",
    "\n",
    "import parallel_corridors_utils\n",
    "from shared_utils import styleguide\n",
    "import deploy_portfolio_yaml\n",
    "\n",
    "catalog = intake.open_catalog(\"./*.yml\")\n",
    "alt.renderers.enable(\"html\")"
   ]
  },
  {
   "cell_type": "code",
   "execution_count": 2,
   "id": "8af2a0c1-f3da-408d-9bea-11d9fbf8695d",
   "metadata": {
    "execution": {
     "iopub.execute_input": "2022-05-09T17:09:58.653057Z",
     "iopub.status.busy": "2022-05-09T17:09:58.652717Z",
     "iopub.status.idle": "2022-05-09T17:09:58.657199Z",
     "shell.execute_reply": "2022-05-09T17:09:58.656097Z"
    },
    "jupyter": {
     "source_hidden": true
    },
    "papermill": {
     "duration": 0.021902,
     "end_time": "2022-05-09T17:09:58.660062",
     "exception": false,
     "start_time": "2022-05-09T17:09:58.638160",
     "status": "completed"
    },
    "tags": [
     "parameters",
     "remove_input"
    ]
   },
   "outputs": [],
   "source": [
    "# parameters cell\n",
    "itp_id = 182"
   ]
  },
  {
   "cell_type": "code",
   "execution_count": 3,
   "id": "e186bd16",
   "metadata": {
    "execution": {
     "iopub.execute_input": "2022-05-09T17:09:58.687774Z",
     "iopub.status.busy": "2022-05-09T17:09:58.687426Z",
     "iopub.status.idle": "2022-05-09T17:09:58.691938Z",
     "shell.execute_reply": "2022-05-09T17:09:58.690932Z"
    },
    "jupyter": {
     "source_hidden": true
    },
    "papermill": {
     "duration": 0.021333,
     "end_time": "2022-05-09T17:09:58.693950",
     "exception": false,
     "start_time": "2022-05-09T17:09:58.672617",
     "status": "completed"
    },
    "tags": [
     "injected-parameters",
     "remove_input"
    ]
   },
   "outputs": [],
   "source": [
    "# Parameters\n",
    "district = \"07 - Los Angeles\"\n",
    "itp_id = 337\n"
   ]
  },
  {
   "cell_type": "code",
   "execution_count": 4,
   "id": "9582aaf4-79ff-412a-b248-8d8d693ebd4f",
   "metadata": {
    "execution": {
     "iopub.execute_input": "2022-05-09T17:09:58.726641Z",
     "iopub.status.busy": "2022-05-09T17:09:58.726327Z",
     "iopub.status.idle": "2022-05-09T17:09:59.964132Z",
     "shell.execute_reply": "2022-05-09T17:09:59.962592Z"
    },
    "jupyter": {
     "source_hidden": true
    },
    "papermill": {
     "duration": 1.256459,
     "end_time": "2022-05-09T17:09:59.968819",
     "exception": false,
     "start_time": "2022-05-09T17:09:58.712360",
     "status": "completed"
    },
    "tags": [
     "remove_input"
    ]
   },
   "outputs": [],
   "source": [
    "df = catalog.competitive_route_variability.read()\n",
    "\n",
    "df = (df[(df.calitp_itp_id == itp_id) & \n",
    "         (df.route_group.notna())]\n",
    "      .reset_index(drop=True)\n",
    "     )\n",
    "\n",
    "\n",
    "if itp_id == 182:\n",
    "    df = df.assign(\n",
    "        route_id = df.route_id.str.replace('-13153', '').astype(int)\n",
    "    )"
   ]
  },
  {
   "cell_type": "code",
   "execution_count": 5,
   "id": "33ac4b06-f647-4dce-a625-8f2c1b37cc60",
   "metadata": {
    "execution": {
     "iopub.execute_input": "2022-05-09T17:09:59.998273Z",
     "iopub.status.busy": "2022-05-09T17:09:59.997899Z",
     "iopub.status.idle": "2022-05-09T17:10:00.011333Z",
     "shell.execute_reply": "2022-05-09T17:10:00.010425Z"
    },
    "jupyter": {
     "source_hidden": true
    },
    "papermill": {
     "duration": 0.03141,
     "end_time": "2022-05-09T17:10:00.013837",
     "exception": false,
     "start_time": "2022-05-09T17:09:59.982427",
     "status": "completed"
    },
    "tags": [
     "remove_input"
    ]
   },
   "outputs": [],
   "source": [
    "%%capture_parameters\n",
    "operator_name = df.name.iloc[0]\n",
    "district_number = f\"{df.caltrans_district.iloc[0].split('-')[0].strip()}\"\n",
    "district_name = f\"{df.caltrans_district.iloc[0].split('-')[1].strip().lower().replace(' ', '-')}\"\n",
    "\n",
    "itp_id, operator_name, district_number, district_name"
   ]
  },
  {
   "cell_type": "markdown",
   "id": "65bc6f5c-8348-42ee-b2dd-52057c406852",
   "metadata": {
    "papermill": {
     "duration": 0.014107,
     "end_time": "2022-05-09T17:10:00.041724",
     "exception": false,
     "start_time": "2022-05-09T17:10:00.027617",
     "status": "completed"
    },
    "tags": []
   },
   "source": [
    "# City of Thousand Oaks (ITP ID: 337)"
   ]
  },
  {
   "cell_type": "code",
   "execution_count": 6,
   "id": "a689c1ab-2c6c-4831-8d64-897f5986f571",
   "metadata": {
    "execution": {
     "iopub.execute_input": "2022-05-09T17:10:00.071116Z",
     "iopub.status.busy": "2022-05-09T17:10:00.070437Z",
     "iopub.status.idle": "2022-05-09T17:10:00.078063Z",
     "shell.execute_reply": "2022-05-09T17:10:00.077228Z"
    },
    "jupyter": {
     "source_hidden": true
    },
    "papermill": {
     "duration": 0.025169,
     "end_time": "2022-05-09T17:10:00.080354",
     "exception": false,
     "start_time": "2022-05-09T17:10:00.055185",
     "status": "completed"
    },
    "tags": [
     "remove_input"
    ]
   },
   "outputs": [
    {
     "data": {
      "text/html": [
       "<h1>Competitive & Parallel Routes</h1>"
      ],
      "text/plain": [
       "<IPython.core.display.HTML object>"
      ]
     },
     "metadata": {},
     "output_type": "display_data"
    }
   ],
   "source": [
    "display(HTML(\"<h1>Competitive & Parallel Routes</h1>\")) "
   ]
  },
  {
   "cell_type": "code",
   "execution_count": 7,
   "id": "2cb4d8d5-4760-40e4-85b1-cb833d8bb648",
   "metadata": {
    "execution": {
     "iopub.execute_input": "2022-05-09T17:10:00.122019Z",
     "iopub.status.busy": "2022-05-09T17:10:00.121217Z",
     "iopub.status.idle": "2022-05-09T17:10:12.672590Z",
     "shell.execute_reply": "2022-05-09T17:10:12.671630Z"
    },
    "jupyter": {
     "source_hidden": true
    },
    "papermill": {
     "duration": 12.579214,
     "end_time": "2022-05-09T17:10:12.675047",
     "exception": false,
     "start_time": "2022-05-09T17:10:00.095833",
     "status": "completed"
    },
    "tags": [
     "remove_input"
    ]
   },
   "outputs": [],
   "source": [
    "# Grab parameters for narrative text - clean up formatting here \n",
    "district = df.caltrans_district.iloc[0]\n",
    "formatted_date = pd.to_datetime(parallel_corridors_utils.SELECTED_DATE).strftime('%m-%d-%Y')\n",
    "\n",
    "PCT_COMPETITIVE_THRESHOLD = 0.75\n",
    "\n",
    "stats = parallel_corridors_utils.operator_parallel_competitive_stats(\n",
    "    itp_id, PCT_COMPETITIVE_THRESHOLD)\n",
    "\n",
    "pct_parallel = round(stats['parallel_routes'] / stats['num_routes'] * 100,1 )\n",
    "pct_competitive =  round(stats['competitive_routes'] / stats['num_routes'] * 100,1 )"
   ]
  },
  {
   "cell_type": "markdown",
   "id": "ab667928-5274-4490-82d9-4c39293209a4",
   "metadata": {
    "papermill": {
     "duration": 0.020471,
     "end_time": "2022-05-09T17:10:12.708946",
     "exception": false,
     "start_time": "2022-05-09T17:10:12.688475",
     "status": "completed"
    },
    "tags": []
   },
   "source": [
    "## Quick Stats"
   ]
  },
  {
   "cell_type": "code",
   "execution_count": 8,
   "id": "0416509d-dc62-4165-b62e-64f8b26e8b8e",
   "metadata": {
    "execution": {
     "iopub.execute_input": "2022-05-09T17:10:12.737998Z",
     "iopub.status.busy": "2022-05-09T17:10:12.737644Z",
     "iopub.status.idle": "2022-05-09T17:10:12.744742Z",
     "shell.execute_reply": "2022-05-09T17:10:12.743721Z"
    },
    "jupyter": {
     "source_hidden": true
    },
    "papermill": {
     "duration": 0.024627,
     "end_time": "2022-05-09T17:10:12.747795",
     "exception": false,
     "start_time": "2022-05-09T17:10:12.723168",
     "status": "completed"
    },
    "tags": [
     "remove_input"
    ]
   },
   "outputs": [
    {
     "data": {
      "text/markdown": [
       "**Bus routes in service**: 5 <br>**Parallel routes** to State Highway Network (SHN): 5 routes (100.0%)<br>**Competitive routes** against car travel: 5 routes (100.0%)"
      ],
      "text/plain": [
       "<IPython.core.display.Markdown object>"
      ]
     },
     "metadata": {},
     "output_type": "display_data"
    }
   ],
   "source": [
    "display(\n",
    "    Markdown(\n",
    "        f\"**Bus routes in service**: {stats['num_routes']} \"\n",
    "        \"<br>**Parallel routes** to State Highway Network (SHN): \"\n",
    "        f\"{stats['parallel_routes']} routes ({pct_parallel}%)\"\n",
    "        f\"<br>**Competitive routes** against car travel: {stats['competitive_routes']} routes ({pct_competitive}%)\"\n",
    "    )\n",
    ")"
   ]
  },
  {
   "cell_type": "code",
   "execution_count": 9,
   "id": "f9d6ab58-f0ee-460c-b6de-657490e1f386",
   "metadata": {
    "execution": {
     "iopub.execute_input": "2022-05-09T17:10:12.811011Z",
     "iopub.status.busy": "2022-05-09T17:10:12.810725Z",
     "iopub.status.idle": "2022-05-09T17:10:12.820194Z",
     "shell.execute_reply": "2022-05-09T17:10:12.819258Z"
    },
    "jupyter": {
     "source_hidden": true
    },
    "papermill": {
     "duration": 0.059049,
     "end_time": "2022-05-09T17:10:12.821920",
     "exception": false,
     "start_time": "2022-05-09T17:10:12.762871",
     "status": "completed"
    },
    "tags": [
     "remove_input"
    ]
   },
   "outputs": [],
   "source": [
    "def set_yaxis_range(df, y_col):\n",
    "    Y_MIN = df[y_col].min()\n",
    "    Y_MAX = df[y_col].max()\n",
    "    \n",
    "    return Y_MIN, Y_MAX\n",
    "\n",
    "# Rather than set it according to the operator, which can vary,\n",
    "# just use set thresholds for each group\n",
    "diff_cutoffs = parallel_corridors_utils.diff_cutoffs\n",
    "\n",
    "PCT_TRIPS_BELOW_CUTOFF = 0.25\n",
    "\n",
    "def top15_routes(df, route_group):\n",
    "    df2 = (df[df.route_group==route_group])\n",
    "    # Set a cut-off to enable sorting, where most of the trips are \n",
    "    # below a certain time difference cut-off, \n",
    "    # grab top 15 routes where majority of trips are below that cut-off \n",
    "\n",
    "    route_cols = [\"calitp_itp_id\", \"route_id\"]\n",
    "\n",
    "    df2 = df2.assign(\n",
    "        below_cutoff = df2.apply(lambda x: 1 if x.bus_difference <= diff_cutoffs[route_group] \n",
    "                                 else 0, axis=1),\n",
    "        num_trips = df2.groupby(route_cols)[\"trip_id\"].transform(\"count\")\n",
    "    )\n",
    "\n",
    "    df2[\"below_cutoff\"] = df2.groupby(route_cols)[\"below_cutoff\"].transform(\"sum\")\n",
    "    df2[\"pct_below_cutoff\"] = df2.below_cutoff.divide(df2.num_trips)\n",
    "\n",
    "    # At least half the trips are below that cut-off\n",
    "    # but show 15 max, otherwise, show less, since these won't be as interesting to operators\n",
    "    df3 = (df2[df2.pct_below_cutoff >= PCT_TRIPS_BELOW_CUTOFF]\n",
    "           .sort_values([\"calitp_itp_id\", \"below_cutoff\", \n",
    "                         \"pct_below_cutoff\", \"route_id\"],\n",
    "                        ascending = [True, False, False, True]\n",
    "                       )\n",
    "           .drop_duplicates(subset=[\"calitp_itp_id\", \"route_id\"])\n",
    "          ).head(15)\n",
    "    \n",
    "    return list(df3.route_id)"
   ]
  },
  {
   "cell_type": "code",
   "execution_count": 10,
   "id": "cf36d559-3349-4144-8086-8ac9ce937a5a",
   "metadata": {
    "execution": {
     "iopub.execute_input": "2022-05-09T17:10:12.850741Z",
     "iopub.status.busy": "2022-05-09T17:10:12.850131Z",
     "iopub.status.idle": "2022-05-09T17:10:12.855828Z",
     "shell.execute_reply": "2022-05-09T17:10:12.855221Z"
    },
    "jupyter": {
     "source_hidden": true
    },
    "papermill": {
     "duration": 0.02274,
     "end_time": "2022-05-09T17:10:12.857769",
     "exception": false,
     "start_time": "2022-05-09T17:10:12.835029",
     "status": "completed"
    },
    "tags": [
     "remove_input"
    ]
   },
   "outputs": [],
   "source": [
    "def caption_with_cutoff(cutoff):\n",
    "    sentence = (\n",
    "        f\"<br>These are routes that have **at least {int(PCT_TRIPS_BELOW_CUTOFF*100)}% \"\n",
    "        \"of their trips take no more than an \"\n",
    "        f\"additional {cutoff} min** compared to a car \"\n",
    "        \"(up to 15 routes) are shown.\"\n",
    "        \"<br>Within each route group, routes are sorted in descending order \"\n",
    "        \"by % competitive trips and # trips below the additional time cut-off.\"\n",
    "    )\n",
    "    return sentence\n",
    "\n",
    "CAPTIONS_DICT = {\n",
    "    \"short\": caption_with_cutoff(diff_cutoffs['short']),\n",
    "    \"medium\": caption_with_cutoff(diff_cutoffs['medium']),\n",
    "    \"long\": caption_with_cutoff(diff_cutoffs['long']),\n",
    "}"
   ]
  },
  {
   "cell_type": "code",
   "execution_count": 11,
   "id": "e4306d58-6944-47e9-afef-5d5b524c751f",
   "metadata": {
    "execution": {
     "iopub.execute_input": "2022-05-09T17:10:12.886217Z",
     "iopub.status.busy": "2022-05-09T17:10:12.885668Z",
     "iopub.status.idle": "2022-05-09T17:10:12.893007Z",
     "shell.execute_reply": "2022-05-09T17:10:12.892335Z"
    },
    "jupyter": {
     "source_hidden": true
    },
    "papermill": {
     "duration": 0.024222,
     "end_time": "2022-05-09T17:10:12.895200",
     "exception": false,
     "start_time": "2022-05-09T17:10:12.870978",
     "status": "completed"
    },
    "tags": [
     "remove_input"
    ]
   },
   "outputs": [],
   "source": [
    "def setup_charts(df, PCT_COMPETITIVE_THRESHOLD, route_group):\n",
    "    # Set up df for charting (cut-off at some threshold to show most competitive routes)\n",
    "    plot_me = (df[df.pct_trips_competitive > PCT_COMPETITIVE_THRESHOLD]\n",
    "           .drop(columns = \"geometry\")\n",
    "    )\n",
    "    \n",
    "    y_col1 = \"bus_multiplier\"\n",
    "    Y_MIN1, Y_MAX1 = set_yaxis_range(plot_me, y_col1)\n",
    "\n",
    "    y_col2 = \"bus_difference\"\n",
    "    Y_MIN2, Y_MAX2 = set_yaxis_range(plot_me, y_col2)\n",
    "     \n",
    "    subset_routes = top15_routes(plot_me, route_group)\n",
    "    \n",
    "    multiplier_chart = parallel_corridors_utils.make_stripplot(\n",
    "        plot_me[plot_me.route_id.isin(subset_routes)], \n",
    "        y_col1, Y_MIN = Y_MIN1, Y_MAX = Y_MAX1\n",
    "    )\n",
    "    \n",
    "    difference_chart = parallel_corridors_utils.make_stripplot(\n",
    "        plot_me[plot_me.route_id.isin(subset_routes)], \n",
    "        y_col2, Y_MIN = Y_MIN2, Y_MAX = Y_MAX2\n",
    "    )\n",
    "    \n",
    "    return subset_routes, multiplier_chart, difference_chart            "
   ]
  },
  {
   "cell_type": "code",
   "execution_count": 12,
   "id": "33a710e8-504c-4942-aa75-ff69f216956e",
   "metadata": {
    "execution": {
     "iopub.execute_input": "2022-05-09T17:10:12.933193Z",
     "iopub.status.busy": "2022-05-09T17:10:12.932667Z",
     "iopub.status.idle": "2022-05-09T17:10:12.937806Z",
     "shell.execute_reply": "2022-05-09T17:10:12.937213Z"
    },
    "jupyter": {
     "source_hidden": true
    },
    "papermill": {
     "duration": 0.022604,
     "end_time": "2022-05-09T17:10:12.939700",
     "exception": false,
     "start_time": "2022-05-09T17:10:12.917096",
     "status": "completed"
    },
    "tags": [
     "remove_input"
    ]
   },
   "outputs": [],
   "source": [
    "def display_charts_for_route_group(df, route_group):    \n",
    "    subset_routes, mult, diff  = setup_charts(df, PCT_COMPETITIVE_THRESHOLD, route_group)\n",
    "\n",
    "    if len(subset_routes) > 0:\n",
    "        display(Markdown(f\"{CAPTIONS_DICT[route_group]}\"))\n",
    "\n",
    "        display(mult)\n",
    "        display(diff)"
   ]
  },
  {
   "cell_type": "markdown",
   "id": "525f9b38-072b-46d1-96a8-1aa4b038357c",
   "metadata": {
    "papermill": {
     "duration": 0.013672,
     "end_time": "2022-05-09T17:10:12.967886",
     "exception": false,
     "start_time": "2022-05-09T17:10:12.954214",
     "status": "completed"
    },
    "tags": []
   },
   "source": [
    "## Viable Competitive Routes\n",
    "### Short Routes (< 1 hr)"
   ]
  },
  {
   "cell_type": "code",
   "execution_count": 13,
   "id": "57f7084c-2cf7-45c6-ba08-1609e0bd6ca5",
   "metadata": {
    "execution": {
     "iopub.execute_input": "2022-05-09T17:10:12.996280Z",
     "iopub.status.busy": "2022-05-09T17:10:12.995989Z",
     "iopub.status.idle": "2022-05-09T17:10:13.269693Z",
     "shell.execute_reply": "2022-05-09T17:10:13.268775Z"
    },
    "jupyter": {
     "source_hidden": true
    },
    "papermill": {
     "duration": 0.291191,
     "end_time": "2022-05-09T17:10:13.272126",
     "exception": false,
     "start_time": "2022-05-09T17:10:12.980935",
     "status": "completed"
    },
    "tags": [
     "remove_input"
    ]
   },
   "outputs": [
    {
     "data": {
      "text/markdown": [
       "<br>These are routes that have **at least 25% of their trips take no more than an additional 20 min** compared to a car (up to 15 routes) are shown.<br>Within each route group, routes are sorted in descending order by % competitive trips and # trips below the additional time cut-off."
      ],
      "text/plain": [
       "<IPython.core.display.Markdown object>"
      ]
     },
     "metadata": {},
     "output_type": "display_data"
    },
    {
     "data": {
      "text/html": [
       "\n",
       "<div id=\"altair-viz-aef6eb4576e3488999faf9eefae324c0\"></div>\n",
       "<script type=\"text/javascript\">\n",
       "  var VEGA_DEBUG = (typeof VEGA_DEBUG == \"undefined\") ? {} : VEGA_DEBUG;\n",
       "  (function(spec, embedOpt){\n",
       "    let outputDiv = document.currentScript.previousElementSibling;\n",
       "    if (outputDiv.id !== \"altair-viz-aef6eb4576e3488999faf9eefae324c0\") {\n",
       "      outputDiv = document.getElementById(\"altair-viz-aef6eb4576e3488999faf9eefae324c0\");\n",
       "    }\n",
       "    const paths = {\n",
       "      \"vega\": \"https://cdn.jsdelivr.net/npm//vega@5?noext\",\n",
       "      \"vega-lib\": \"https://cdn.jsdelivr.net/npm//vega-lib?noext\",\n",
       "      \"vega-lite\": \"https://cdn.jsdelivr.net/npm//vega-lite@4.17.0?noext\",\n",
       "      \"vega-embed\": \"https://cdn.jsdelivr.net/npm//vega-embed@6?noext\",\n",
       "    };\n",
       "\n",
       "    function maybeLoadScript(lib, version) {\n",
       "      var key = `${lib.replace(\"-\", \"\")}_version`;\n",
       "      return (VEGA_DEBUG[key] == version) ?\n",
       "        Promise.resolve(paths[lib]) :\n",
       "        new Promise(function(resolve, reject) {\n",
       "          var s = document.createElement('script');\n",
       "          document.getElementsByTagName(\"head\")[0].appendChild(s);\n",
       "          s.async = true;\n",
       "          s.onload = () => {\n",
       "            VEGA_DEBUG[key] = version;\n",
       "            return resolve(paths[lib]);\n",
       "          };\n",
       "          s.onerror = () => reject(`Error loading script: ${paths[lib]}`);\n",
       "          s.src = paths[lib];\n",
       "        });\n",
       "    }\n",
       "\n",
       "    function showError(err) {\n",
       "      outputDiv.innerHTML = `<div class=\"error\" style=\"color:red;\">${err}</div>`;\n",
       "      throw err;\n",
       "    }\n",
       "\n",
       "    function displayChart(vegaEmbed) {\n",
       "      vegaEmbed(outputDiv, spec, embedOpt)\n",
       "        .catch(err => showError(`Javascript Error: ${err.message}<br>This usually means there's a typo in your chart specification. See the javascript console for the full traceback.`));\n",
       "    }\n",
       "\n",
       "    if(typeof define === \"function\" && define.amd) {\n",
       "      requirejs.config({paths});\n",
       "      require([\"vega-embed\"], displayChart, err => showError(`Error loading script: ${err.message}`));\n",
       "    } else {\n",
       "      maybeLoadScript(\"vega\", \"5\")\n",
       "        .then(() => maybeLoadScript(\"vega-lite\", \"4.17.0\"))\n",
       "        .then(() => maybeLoadScript(\"vega-embed\", \"6\"))\n",
       "        .catch(showError)\n",
       "        .then(() => displayChart(vegaEmbed));\n",
       "    }\n",
       "  })({\"config\": {\"view\": {\"continuousWidth\": 400, \"continuousHeight\": 300, \"stroke\": null}, \"facet\": {\"spacing\": 0}}, \"data\": {\"name\": \"data-643a2706548c7000394d5c7917dcd444\"}, \"facet\": {\"column\": {\"field\": \"route_id\", \"sort\": [\"3641\", \"3640\", \"6799\", \"3638\", \"3639\"], \"title\": \"Route ID\", \"type\": \"nominal\"}}, \"spec\": {\"layer\": [{\"mark\": \"rule\", \"encoding\": {\"color\": {\"value\": \"black\"}, \"y\": {\"field\": \"cutoff\", \"type\": \"quantitative\"}}, \"selection\": {\"selector001\": {\"type\": \"interval\", \"bind\": \"scales\", \"encodings\": [\"x\", \"y\"]}}}, {\"mark\": {\"type\": \"point\", \"opacity\": 0.65, \"size\": 12, \"strokeWidth\": 1.1}, \"encoding\": {\"color\": {\"field\": \"time_of_day\", \"scale\": {\"range\": [\"#136C97\", \"#E16B26\", \"#F6BF16\", \"#00896B\", \"#7790A3\", \"#5B559C\"]}, \"sort\": [\"AM Peak\", \"Midday\", \"PM Peak\", \"Owl Service\"], \"title\": \"Time of Day\", \"type\": \"nominal\"}, \"tooltip\": [{\"field\": \"route_id\", \"type\": \"nominal\"}, {\"field\": \"trip_id\", \"type\": \"nominal\"}, {\"field\": \"service_hours\", \"type\": \"quantitative\"}, {\"field\": \"car_duration_hours\", \"type\": \"quantitative\"}, {\"field\": \"bus_multiplier\", \"type\": \"quantitative\"}, {\"field\": \"bus_difference\", \"type\": \"quantitative\"}, {\"field\": \"num_trips\", \"type\": \"quantitative\"}, {\"field\": \"num_competitive\", \"type\": \"quantitative\"}, {\"field\": \"pct_trips_competitive\", \"type\": \"quantitative\"}, {\"field\": \"p25\", \"type\": \"quantitative\"}, {\"field\": \"p50\", \"type\": \"quantitative\"}, {\"field\": \"p75\", \"type\": \"quantitative\"}], \"x\": {\"axis\": {\"grid\": false, \"labels\": false, \"ticks\": true, \"values\": [0]}, \"field\": \"jitter\", \"scale\": {}, \"title\": null, \"type\": \"quantitative\"}, \"y\": {\"field\": \"bus_multiplier\", \"scale\": {\"domain\": [-0.25, 2.5]}, \"title\": \"Ratio of Bus to Car Travel Time\", \"type\": \"quantitative\"}}, \"transform\": [{\"calculate\": \"sqrt(-2*log(random()))*cos(2*PI*random())\", \"as\": \"jitter\"}], \"width\": 50}, {\"layer\": [{\"mark\": {\"type\": \"point\", \"opacity\": 0.6, \"size\": 20, \"strokeWidth\": 1.3}, \"encoding\": {\"color\": {\"value\": \"#323434\"}, \"y\": {\"field\": \"bus_multiplier\", \"type\": \"quantitative\"}}, \"transform\": [{\"filter\": \"(datum.p50_trip === 1)\"}]}, {\"mark\": {\"type\": \"text\", \"align\": \"center\", \"baseline\": \"middle\"}, \"encoding\": {\"color\": {\"value\": \"black\"}, \"text\": {\"field\": \"pct_trips_competitive\", \"format\": \".0%\", \"type\": \"quantitative\"}, \"tooltip\": [{\"field\": \"route_id\", \"type\": \"nominal\"}, {\"field\": \"trip_id\", \"type\": \"nominal\"}, {\"field\": \"service_hours\", \"type\": \"quantitative\"}, {\"field\": \"car_duration_hours\", \"type\": \"quantitative\"}, {\"field\": \"bus_multiplier\", \"type\": \"quantitative\"}, {\"field\": \"bus_difference\", \"type\": \"quantitative\"}, {\"field\": \"num_trips\", \"type\": \"quantitative\"}, {\"field\": \"num_competitive\", \"type\": \"quantitative\"}, {\"field\": \"pct_trips_competitive\", \"type\": \"quantitative\"}, {\"field\": \"p25\", \"type\": \"quantitative\"}, {\"field\": \"p50\", \"type\": \"quantitative\"}, {\"field\": \"p75\", \"type\": \"quantitative\"}], \"x\": {\"value\": 30}, \"y\": {\"value\": 15}}, \"transform\": [{\"calculate\": \"sqrt(-2*log(random()))*cos(2*PI*random())\", \"as\": \"jitter\"}, {\"filter\": \"(datum.fastest_trip === 1)\"}]}]}]}, \"resolve\": {\"scale\": {\"y\": \"shared\"}}, \"title\": \"Ratio of Bus to Car Travel Time\", \"$schema\": \"https://vega.github.io/schema/vega-lite/v4.17.0.json\", \"datasets\": {\"data-643a2706548c7000394d5c7917dcd444\": [{\"calitp_itp_id\": 337, \"trip_key\": -5417850757404701005, \"trip_id\": \"t_1235934_b_27094_tn_0\", \"shape_id\": \"p_900582\", \"route_id\": \"3638\", \"service_hours\": 0.83, \"trip_first_departure_ts\": 39600, \"trip_last_arrival_ts\": 42600, \"departure_hour\": 11, \"time_of_day\": \"Midday\", \"p25\": 0.83, \"p50\": 0.83, \"p75\": 0.97, \"p50_trip\": 1, \"fastest_trip\": 0, \"car_duration_hours\": 0.67, \"competitive_route\": 1, \"bus_multiplier\": 1.24, \"bus_difference\": 9.6, \"num_trips\": 13, \"num_competitive\": 13, \"pct_trips_competitive\": 1.0, \"bus_difference_spread\": 8.4, \"route_group\": \"short\", \"max_trip_hrs\": 0.97, \"max_trip_route_group\": 0.98, \"name\": \"City of Thousand Oaks\", \"caltrans_district\": \"07 - Los Angeles\", \"drmt_organization_name\": null, \"cutoff2\": 20, \"cutoff\": 2}, {\"calitp_itp_id\": 337, \"trip_key\": 209354926468341269, \"trip_id\": \"t_1235933_b_27094_tn_0\", \"shape_id\": \"p_900582\", \"route_id\": \"3638\", \"service_hours\": 0.83, \"trip_first_departure_ts\": 28800, \"trip_last_arrival_ts\": 31800, \"departure_hour\": 8, \"time_of_day\": \"AM Peak\", \"p25\": 0.83, \"p50\": 0.83, \"p75\": 0.97, \"p50_trip\": 1, \"fastest_trip\": 0, \"car_duration_hours\": 0.67, \"competitive_route\": 1, \"bus_multiplier\": 1.24, \"bus_difference\": 9.6, \"num_trips\": 13, \"num_competitive\": 13, \"pct_trips_competitive\": 1.0, \"bus_difference_spread\": 8.4, \"route_group\": \"short\", \"max_trip_hrs\": 0.97, \"max_trip_route_group\": 0.98, \"name\": \"City of Thousand Oaks\", \"caltrans_district\": \"07 - Los Angeles\", \"drmt_organization_name\": null, \"cutoff2\": 20, \"cutoff\": 2}, {\"calitp_itp_id\": 337, \"trip_key\": -5437739256566684202, \"trip_id\": \"t_1229931_b_27094_tn_0\", \"shape_id\": \"p_900582\", \"route_id\": \"3638\", \"service_hours\": 0.83, \"trip_first_departure_ts\": 25200, \"trip_last_arrival_ts\": 28200, \"departure_hour\": 7, \"time_of_day\": \"AM Peak\", \"p25\": 0.83, \"p50\": 0.83, \"p75\": 0.97, \"p50_trip\": 1, \"fastest_trip\": 0, \"car_duration_hours\": 0.67, \"competitive_route\": 1, \"bus_multiplier\": 1.24, \"bus_difference\": 9.6, \"num_trips\": 13, \"num_competitive\": 13, \"pct_trips_competitive\": 1.0, \"bus_difference_spread\": 8.4, \"route_group\": \"short\", \"max_trip_hrs\": 0.97, \"max_trip_route_group\": 0.98, \"name\": \"City of Thousand Oaks\", \"caltrans_district\": \"07 - Los Angeles\", \"drmt_organization_name\": null, \"cutoff2\": 20, \"cutoff\": 2}, {\"calitp_itp_id\": 337, \"trip_key\": -6621775892395641115, \"trip_id\": \"t_1235937_b_27094_tn_0\", \"shape_id\": \"p_900582\", \"route_id\": \"3638\", \"service_hours\": 0.83, \"trip_first_departure_ts\": 61200, \"trip_last_arrival_ts\": 64200, \"departure_hour\": 17, \"time_of_day\": \"PM Peak\", \"p25\": 0.83, \"p50\": 0.83, \"p75\": 0.97, \"p50_trip\": 1, \"fastest_trip\": 0, \"car_duration_hours\": 0.67, \"competitive_route\": 1, \"bus_multiplier\": 1.24, \"bus_difference\": 9.6, \"num_trips\": 13, \"num_competitive\": 13, \"pct_trips_competitive\": 1.0, \"bus_difference_spread\": 8.4, \"route_group\": \"short\", \"max_trip_hrs\": 0.97, \"max_trip_route_group\": 0.98, \"name\": \"City of Thousand Oaks\", \"caltrans_district\": \"07 - Los Angeles\", \"drmt_organization_name\": null, \"cutoff2\": 20, \"cutoff\": 2}, {\"calitp_itp_id\": 337, \"trip_key\": -6696683000161121359, \"trip_id\": \"t_1235935_b_27094_tn_0\", \"shape_id\": \"p_900582\", \"route_id\": \"3638\", \"service_hours\": 0.83, \"trip_first_departure_ts\": 43200, \"trip_last_arrival_ts\": 46200, \"departure_hour\": 12, \"time_of_day\": \"Midday\", \"p25\": 0.83, \"p50\": 0.83, \"p75\": 0.97, \"p50_trip\": 1, \"fastest_trip\": 0, \"car_duration_hours\": 0.67, \"competitive_route\": 1, \"bus_multiplier\": 1.24, \"bus_difference\": 9.6, \"num_trips\": 13, \"num_competitive\": 13, \"pct_trips_competitive\": 1.0, \"bus_difference_spread\": 8.4, \"route_group\": \"short\", \"max_trip_hrs\": 0.97, \"max_trip_route_group\": 0.98, \"name\": \"City of Thousand Oaks\", \"caltrans_district\": \"07 - Los Angeles\", \"drmt_organization_name\": null, \"cutoff2\": 20, \"cutoff\": 2}, {\"calitp_itp_id\": 337, \"trip_key\": 5506372218916925207, \"trip_id\": \"t_1235938_b_27094_tn_0\", \"shape_id\": \"p_900583\", \"route_id\": \"3638\", \"service_hours\": 0.83, \"trip_first_departure_ts\": 64800, \"trip_last_arrival_ts\": 67800, \"departure_hour\": 18, \"time_of_day\": \"PM Peak\", \"p25\": 0.83, \"p50\": 0.83, \"p75\": 0.97, \"p50_trip\": 1, \"fastest_trip\": 1, \"car_duration_hours\": 0.67, \"competitive_route\": 1, \"bus_multiplier\": 1.24, \"bus_difference\": 9.6, \"num_trips\": 13, \"num_competitive\": 13, \"pct_trips_competitive\": 1.0, \"bus_difference_spread\": 8.4, \"route_group\": \"short\", \"max_trip_hrs\": 0.97, \"max_trip_route_group\": 0.98, \"name\": \"City of Thousand Oaks\", \"caltrans_district\": \"07 - Los Angeles\", \"drmt_organization_name\": null, \"cutoff2\": 20, \"cutoff\": 2}, {\"calitp_itp_id\": 337, \"trip_key\": 4641100964488913718, \"trip_id\": \"t_1235936_b_27094_tn_0\", \"shape_id\": \"p_900582\", \"route_id\": \"3638\", \"service_hours\": 0.83, \"trip_first_departure_ts\": 50400, \"trip_last_arrival_ts\": 53400, \"departure_hour\": 14, \"time_of_day\": \"Midday\", \"p25\": 0.83, \"p50\": 0.83, \"p75\": 0.97, \"p50_trip\": 1, \"fastest_trip\": 0, \"car_duration_hours\": 0.67, \"competitive_route\": 1, \"bus_multiplier\": 1.24, \"bus_difference\": 9.6, \"num_trips\": 13, \"num_competitive\": 13, \"pct_trips_competitive\": 1.0, \"bus_difference_spread\": 8.4, \"route_group\": \"short\", \"max_trip_hrs\": 0.97, \"max_trip_route_group\": 0.98, \"name\": \"City of Thousand Oaks\", \"caltrans_district\": \"07 - Los Angeles\", \"drmt_organization_name\": null, \"cutoff2\": 20, \"cutoff\": 2}, {\"calitp_itp_id\": 337, \"trip_key\": 571110044697681553, \"trip_id\": \"t_1235932_b_27094_tn_0\", \"shape_id\": \"p_900581\", \"route_id\": \"3638\", \"service_hours\": 0.97, \"trip_first_departure_ts\": 57600, \"trip_last_arrival_ts\": 61080, \"departure_hour\": 16, \"time_of_day\": \"Midday\", \"p25\": 0.83, \"p50\": 0.83, \"p75\": 0.97, \"p50_trip\": 0, \"fastest_trip\": 0, \"car_duration_hours\": 0.67, \"competitive_route\": 1, \"bus_multiplier\": 1.45, \"bus_difference\": 18.0, \"num_trips\": 13, \"num_competitive\": 13, \"pct_trips_competitive\": 1.0, \"bus_difference_spread\": 8.4, \"route_group\": \"short\", \"max_trip_hrs\": 0.97, \"max_trip_route_group\": 0.98, \"name\": \"City of Thousand Oaks\", \"caltrans_district\": \"07 - Los Angeles\", \"drmt_organization_name\": null, \"cutoff2\": 20, \"cutoff\": 2}, {\"calitp_itp_id\": 337, \"trip_key\": -1473672104509948238, \"trip_id\": \"t_1235928_b_27094_tn_0\", \"shape_id\": \"p_900581\", \"route_id\": \"3638\", \"service_hours\": 0.97, \"trip_first_departure_ts\": 32400, \"trip_last_arrival_ts\": 35880, \"departure_hour\": 9, \"time_of_day\": \"AM Peak\", \"p25\": 0.83, \"p50\": 0.83, \"p75\": 0.97, \"p50_trip\": 0, \"fastest_trip\": 0, \"car_duration_hours\": 0.67, \"competitive_route\": 1, \"bus_multiplier\": 1.45, \"bus_difference\": 18.0, \"num_trips\": 13, \"num_competitive\": 13, \"pct_trips_competitive\": 1.0, \"bus_difference_spread\": 8.4, \"route_group\": \"short\", \"max_trip_hrs\": 0.97, \"max_trip_route_group\": 0.98, \"name\": \"City of Thousand Oaks\", \"caltrans_district\": \"07 - Los Angeles\", \"drmt_organization_name\": null, \"cutoff2\": 20, \"cutoff\": 2}, {\"calitp_itp_id\": 337, \"trip_key\": -2431505389973254096, \"trip_id\": \"t_1235929_b_27094_tn_0\", \"shape_id\": \"p_900581\", \"route_id\": \"3638\", \"service_hours\": 0.97, \"trip_first_departure_ts\": 36000, \"trip_last_arrival_ts\": 39480, \"departure_hour\": 10, \"time_of_day\": \"Midday\", \"p25\": 0.83, \"p50\": 0.83, \"p75\": 0.97, \"p50_trip\": 0, \"fastest_trip\": 0, \"car_duration_hours\": 0.67, \"competitive_route\": 1, \"bus_multiplier\": 1.45, \"bus_difference\": 18.0, \"num_trips\": 13, \"num_competitive\": 13, \"pct_trips_competitive\": 1.0, \"bus_difference_spread\": 8.4, \"route_group\": \"short\", \"max_trip_hrs\": 0.97, \"max_trip_route_group\": 0.98, \"name\": \"City of Thousand Oaks\", \"caltrans_district\": \"07 - Los Angeles\", \"drmt_organization_name\": null, \"cutoff2\": 20, \"cutoff\": 2}, {\"calitp_itp_id\": 337, \"trip_key\": -8094520911414573698, \"trip_id\": \"t_1235930_b_27094_tn_0\", \"shape_id\": \"p_900581\", \"route_id\": \"3638\", \"service_hours\": 0.97, \"trip_first_departure_ts\": 46800, \"trip_last_arrival_ts\": 50280, \"departure_hour\": 13, \"time_of_day\": \"Midday\", \"p25\": 0.83, \"p50\": 0.83, \"p75\": 0.97, \"p50_trip\": 0, \"fastest_trip\": 0, \"car_duration_hours\": 0.67, \"competitive_route\": 1, \"bus_multiplier\": 1.45, \"bus_difference\": 18.0, \"num_trips\": 13, \"num_competitive\": 13, \"pct_trips_competitive\": 1.0, \"bus_difference_spread\": 8.4, \"route_group\": \"short\", \"max_trip_hrs\": 0.97, \"max_trip_route_group\": 0.98, \"name\": \"City of Thousand Oaks\", \"caltrans_district\": \"07 - Los Angeles\", \"drmt_organization_name\": null, \"cutoff2\": 20, \"cutoff\": 2}, {\"calitp_itp_id\": 337, \"trip_key\": -2064112445706589811, \"trip_id\": \"t_1235931_b_27094_tn_0\", \"shape_id\": \"p_900581\", \"route_id\": \"3638\", \"service_hours\": 0.97, \"trip_first_departure_ts\": 54000, \"trip_last_arrival_ts\": 57480, \"departure_hour\": 15, \"time_of_day\": \"Midday\", \"p25\": 0.83, \"p50\": 0.83, \"p75\": 0.97, \"p50_trip\": 0, \"fastest_trip\": 0, \"car_duration_hours\": 0.67, \"competitive_route\": 1, \"bus_multiplier\": 1.45, \"bus_difference\": 18.0, \"num_trips\": 13, \"num_competitive\": 13, \"pct_trips_competitive\": 1.0, \"bus_difference_spread\": 8.4, \"route_group\": \"short\", \"max_trip_hrs\": 0.97, \"max_trip_route_group\": 0.98, \"name\": \"City of Thousand Oaks\", \"caltrans_district\": \"07 - Los Angeles\", \"drmt_organization_name\": null, \"cutoff2\": 20, \"cutoff\": 2}, {\"calitp_itp_id\": 337, \"trip_key\": -8357797015416377564, \"trip_id\": \"t_1229925_b_27094_tn_0\", \"shape_id\": \"p_900581\", \"route_id\": \"3638\", \"service_hours\": 0.97, \"trip_first_departure_ts\": 21600, \"trip_last_arrival_ts\": 25080, \"departure_hour\": 6, \"time_of_day\": \"Owl Service\", \"p25\": 0.83, \"p50\": 0.83, \"p75\": 0.97, \"p50_trip\": 0, \"fastest_trip\": 0, \"car_duration_hours\": 0.67, \"competitive_route\": 1, \"bus_multiplier\": 1.45, \"bus_difference\": 18.0, \"num_trips\": 13, \"num_competitive\": 13, \"pct_trips_competitive\": 1.0, \"bus_difference_spread\": 8.4, \"route_group\": \"short\", \"max_trip_hrs\": 0.97, \"max_trip_route_group\": 0.98, \"name\": \"City of Thousand Oaks\", \"caltrans_district\": \"07 - Los Angeles\", \"drmt_organization_name\": null, \"cutoff2\": 20, \"cutoff\": 2}, {\"calitp_itp_id\": 337, \"trip_key\": 6356284930724495451, \"trip_id\": \"t_1235940_b_27094_tn_0\", \"shape_id\": \"p_900590\", \"route_id\": \"3639\", \"service_hours\": 0.73, \"trip_first_departure_ts\": 64800, \"trip_last_arrival_ts\": 67440, \"departure_hour\": 18, \"time_of_day\": \"PM Peak\", \"p25\": 0.83, \"p50\": 0.83, \"p75\": 0.83, \"p50_trip\": 0, \"fastest_trip\": 1, \"car_duration_hours\": 0.51, \"competitive_route\": 1, \"bus_multiplier\": 1.43, \"bus_difference\": 13.2, \"num_trips\": 13, \"num_competitive\": 13, \"pct_trips_competitive\": 1.0, \"bus_difference_spread\": 6.0, \"route_group\": \"short\", \"max_trip_hrs\": 0.83, \"max_trip_route_group\": 0.98, \"name\": \"City of Thousand Oaks\", \"caltrans_district\": \"07 - Los Angeles\", \"drmt_organization_name\": null, \"cutoff2\": 20, \"cutoff\": 2}, {\"calitp_itp_id\": 337, \"trip_key\": 1104654808723534942, \"trip_id\": \"t_1317286_b_27094_tn_0\", \"shape_id\": \"p_111149\", \"route_id\": \"3639\", \"service_hours\": 0.83, \"trip_first_departure_ts\": 32400, \"trip_last_arrival_ts\": 35400, \"departure_hour\": 9, \"time_of_day\": \"AM Peak\", \"p25\": 0.83, \"p50\": 0.83, \"p75\": 0.83, \"p50_trip\": 1, \"fastest_trip\": 0, \"car_duration_hours\": 0.51, \"competitive_route\": 1, \"bus_multiplier\": 1.63, \"bus_difference\": 19.2, \"num_trips\": 13, \"num_competitive\": 13, \"pct_trips_competitive\": 1.0, \"bus_difference_spread\": 6.0, \"route_group\": \"short\", \"max_trip_hrs\": 0.83, \"max_trip_route_group\": 0.98, \"name\": \"City of Thousand Oaks\", \"caltrans_district\": \"07 - Los Angeles\", \"drmt_organization_name\": null, \"cutoff2\": 20, \"cutoff\": 2}, {\"calitp_itp_id\": 337, \"trip_key\": 7096089844723651939, \"trip_id\": \"t_1230045_b_27094_tn_0\", \"shape_id\": \"p_111149\", \"route_id\": \"3639\", \"service_hours\": 0.83, \"trip_first_departure_ts\": 21600, \"trip_last_arrival_ts\": 24600, \"departure_hour\": 6, \"time_of_day\": \"Owl Service\", \"p25\": 0.83, \"p50\": 0.83, \"p75\": 0.83, \"p50_trip\": 1, \"fastest_trip\": 0, \"car_duration_hours\": 0.51, \"competitive_route\": 1, \"bus_multiplier\": 1.63, \"bus_difference\": 19.2, \"num_trips\": 13, \"num_competitive\": 13, \"pct_trips_competitive\": 1.0, \"bus_difference_spread\": 6.0, \"route_group\": \"short\", \"max_trip_hrs\": 0.83, \"max_trip_route_group\": 0.98, \"name\": \"City of Thousand Oaks\", \"caltrans_district\": \"07 - Los Angeles\", \"drmt_organization_name\": null, \"cutoff2\": 20, \"cutoff\": 2}, {\"calitp_itp_id\": 337, \"trip_key\": 2304713837515405250, \"trip_id\": \"t_1317285_b_27094_tn_0\", \"shape_id\": \"p_111149\", \"route_id\": \"3639\", \"service_hours\": 0.83, \"trip_first_departure_ts\": 28800, \"trip_last_arrival_ts\": 31800, \"departure_hour\": 8, \"time_of_day\": \"AM Peak\", \"p25\": 0.83, \"p50\": 0.83, \"p75\": 0.83, \"p50_trip\": 1, \"fastest_trip\": 0, \"car_duration_hours\": 0.51, \"competitive_route\": 1, \"bus_multiplier\": 1.63, \"bus_difference\": 19.2, \"num_trips\": 13, \"num_competitive\": 13, \"pct_trips_competitive\": 1.0, \"bus_difference_spread\": 6.0, \"route_group\": \"short\", \"max_trip_hrs\": 0.83, \"max_trip_route_group\": 0.98, \"name\": \"City of Thousand Oaks\", \"caltrans_district\": \"07 - Los Angeles\", \"drmt_organization_name\": null, \"cutoff2\": 20, \"cutoff\": 2}, {\"calitp_itp_id\": 337, \"trip_key\": 527502444819434170, \"trip_id\": \"t_1317290_b_27094_tn_0\", \"shape_id\": \"p_111149\", \"route_id\": \"3639\", \"service_hours\": 0.83, \"trip_first_departure_ts\": 46800, \"trip_last_arrival_ts\": 49800, \"departure_hour\": 13, \"time_of_day\": \"Midday\", \"p25\": 0.83, \"p50\": 0.83, \"p75\": 0.83, \"p50_trip\": 1, \"fastest_trip\": 0, \"car_duration_hours\": 0.51, \"competitive_route\": 1, \"bus_multiplier\": 1.63, \"bus_difference\": 19.2, \"num_trips\": 13, \"num_competitive\": 13, \"pct_trips_competitive\": 1.0, \"bus_difference_spread\": 6.0, \"route_group\": \"short\", \"max_trip_hrs\": 0.83, \"max_trip_route_group\": 0.98, \"name\": \"City of Thousand Oaks\", \"caltrans_district\": \"07 - Los Angeles\", \"drmt_organization_name\": null, \"cutoff2\": 20, \"cutoff\": 2}, {\"calitp_itp_id\": 337, \"trip_key\": -5346827477957330776, \"trip_id\": \"t_1317291_b_27094_tn_0\", \"shape_id\": \"p_111149\", \"route_id\": \"3639\", \"service_hours\": 0.83, \"trip_first_departure_ts\": 50400, \"trip_last_arrival_ts\": 53400, \"departure_hour\": 14, \"time_of_day\": \"Midday\", \"p25\": 0.83, \"p50\": 0.83, \"p75\": 0.83, \"p50_trip\": 1, \"fastest_trip\": 0, \"car_duration_hours\": 0.51, \"competitive_route\": 1, \"bus_multiplier\": 1.63, \"bus_difference\": 19.2, \"num_trips\": 13, \"num_competitive\": 13, \"pct_trips_competitive\": 1.0, \"bus_difference_spread\": 6.0, \"route_group\": \"short\", \"max_trip_hrs\": 0.83, \"max_trip_route_group\": 0.98, \"name\": \"City of Thousand Oaks\", \"caltrans_district\": \"07 - Los Angeles\", \"drmt_organization_name\": null, \"cutoff2\": 20, \"cutoff\": 2}, {\"calitp_itp_id\": 337, \"trip_key\": -8134904347792543278, \"trip_id\": \"t_1317288_b_27094_tn_0\", \"shape_id\": \"p_111149\", \"route_id\": \"3639\", \"service_hours\": 0.83, \"trip_first_departure_ts\": 39600, \"trip_last_arrival_ts\": 42600, \"departure_hour\": 11, \"time_of_day\": \"Midday\", \"p25\": 0.83, \"p50\": 0.83, \"p75\": 0.83, \"p50_trip\": 1, \"fastest_trip\": 0, \"car_duration_hours\": 0.51, \"competitive_route\": 1, \"bus_multiplier\": 1.63, \"bus_difference\": 19.2, \"num_trips\": 13, \"num_competitive\": 13, \"pct_trips_competitive\": 1.0, \"bus_difference_spread\": 6.0, \"route_group\": \"short\", \"max_trip_hrs\": 0.83, \"max_trip_route_group\": 0.98, \"name\": \"City of Thousand Oaks\", \"caltrans_district\": \"07 - Los Angeles\", \"drmt_organization_name\": null, \"cutoff2\": 20, \"cutoff\": 2}, {\"calitp_itp_id\": 337, \"trip_key\": -8681561676251272436, \"trip_id\": \"t_1317294_b_27094_tn_0\", \"shape_id\": \"p_111149\", \"route_id\": \"3639\", \"service_hours\": 0.83, \"trip_first_departure_ts\": 61200, \"trip_last_arrival_ts\": 64200, \"departure_hour\": 17, \"time_of_day\": \"PM Peak\", \"p25\": 0.83, \"p50\": 0.83, \"p75\": 0.83, \"p50_trip\": 1, \"fastest_trip\": 0, \"car_duration_hours\": 0.51, \"competitive_route\": 1, \"bus_multiplier\": 1.63, \"bus_difference\": 19.2, \"num_trips\": 13, \"num_competitive\": 13, \"pct_trips_competitive\": 1.0, \"bus_difference_spread\": 6.0, \"route_group\": \"short\", \"max_trip_hrs\": 0.83, \"max_trip_route_group\": 0.98, \"name\": \"City of Thousand Oaks\", \"caltrans_district\": \"07 - Los Angeles\", \"drmt_organization_name\": null, \"cutoff2\": 20, \"cutoff\": 2}, {\"calitp_itp_id\": 337, \"trip_key\": 3003466328050706760, \"trip_id\": \"t_1317289_b_27094_tn_0\", \"shape_id\": \"p_111149\", \"route_id\": \"3639\", \"service_hours\": 0.83, \"trip_first_departure_ts\": 43200, \"trip_last_arrival_ts\": 46200, \"departure_hour\": 12, \"time_of_day\": \"Midday\", \"p25\": 0.83, \"p50\": 0.83, \"p75\": 0.83, \"p50_trip\": 1, \"fastest_trip\": 0, \"car_duration_hours\": 0.51, \"competitive_route\": 1, \"bus_multiplier\": 1.63, \"bus_difference\": 19.2, \"num_trips\": 13, \"num_competitive\": 13, \"pct_trips_competitive\": 1.0, \"bus_difference_spread\": 6.0, \"route_group\": \"short\", \"max_trip_hrs\": 0.83, \"max_trip_route_group\": 0.98, \"name\": \"City of Thousand Oaks\", \"caltrans_district\": \"07 - Los Angeles\", \"drmt_organization_name\": null, \"cutoff2\": 20, \"cutoff\": 2}, {\"calitp_itp_id\": 337, \"trip_key\": -5915891417952522518, \"trip_id\": \"t_1230046_b_27094_tn_0\", \"shape_id\": \"p_111149\", \"route_id\": \"3639\", \"service_hours\": 0.83, \"trip_first_departure_ts\": 25200, \"trip_last_arrival_ts\": 28200, \"departure_hour\": 7, \"time_of_day\": \"AM Peak\", \"p25\": 0.83, \"p50\": 0.83, \"p75\": 0.83, \"p50_trip\": 1, \"fastest_trip\": 0, \"car_duration_hours\": 0.51, \"competitive_route\": 1, \"bus_multiplier\": 1.63, \"bus_difference\": 19.2, \"num_trips\": 13, \"num_competitive\": 13, \"pct_trips_competitive\": 1.0, \"bus_difference_spread\": 6.0, \"route_group\": \"short\", \"max_trip_hrs\": 0.83, \"max_trip_route_group\": 0.98, \"name\": \"City of Thousand Oaks\", \"caltrans_district\": \"07 - Los Angeles\", \"drmt_organization_name\": null, \"cutoff2\": 20, \"cutoff\": 2}, {\"calitp_itp_id\": 337, \"trip_key\": -1138834084274760611, \"trip_id\": \"t_1317293_b_27094_tn_0\", \"shape_id\": \"p_111149\", \"route_id\": \"3639\", \"service_hours\": 0.83, \"trip_first_departure_ts\": 57600, \"trip_last_arrival_ts\": 60600, \"departure_hour\": 16, \"time_of_day\": \"Midday\", \"p25\": 0.83, \"p50\": 0.83, \"p75\": 0.83, \"p50_trip\": 1, \"fastest_trip\": 0, \"car_duration_hours\": 0.51, \"competitive_route\": 1, \"bus_multiplier\": 1.63, \"bus_difference\": 19.2, \"num_trips\": 13, \"num_competitive\": 13, \"pct_trips_competitive\": 1.0, \"bus_difference_spread\": 6.0, \"route_group\": \"short\", \"max_trip_hrs\": 0.83, \"max_trip_route_group\": 0.98, \"name\": \"City of Thousand Oaks\", \"caltrans_district\": \"07 - Los Angeles\", \"drmt_organization_name\": null, \"cutoff2\": 20, \"cutoff\": 2}, {\"calitp_itp_id\": 337, \"trip_key\": -3297138022389221325, \"trip_id\": \"t_1317292_b_27094_tn_0\", \"shape_id\": \"p_111149\", \"route_id\": \"3639\", \"service_hours\": 0.83, \"trip_first_departure_ts\": 54000, \"trip_last_arrival_ts\": 57000, \"departure_hour\": 15, \"time_of_day\": \"Midday\", \"p25\": 0.83, \"p50\": 0.83, \"p75\": 0.83, \"p50_trip\": 1, \"fastest_trip\": 0, \"car_duration_hours\": 0.51, \"competitive_route\": 1, \"bus_multiplier\": 1.63, \"bus_difference\": 19.2, \"num_trips\": 13, \"num_competitive\": 13, \"pct_trips_competitive\": 1.0, \"bus_difference_spread\": 6.0, \"route_group\": \"short\", \"max_trip_hrs\": 0.83, \"max_trip_route_group\": 0.98, \"name\": \"City of Thousand Oaks\", \"caltrans_district\": \"07 - Los Angeles\", \"drmt_organization_name\": null, \"cutoff2\": 20, \"cutoff\": 2}, {\"calitp_itp_id\": 337, \"trip_key\": 2804499718300023424, \"trip_id\": \"t_1317287_b_27094_tn_0\", \"shape_id\": \"p_111149\", \"route_id\": \"3639\", \"service_hours\": 0.83, \"trip_first_departure_ts\": 36000, \"trip_last_arrival_ts\": 39000, \"departure_hour\": 10, \"time_of_day\": \"Midday\", \"p25\": 0.83, \"p50\": 0.83, \"p75\": 0.83, \"p50_trip\": 1, \"fastest_trip\": 0, \"car_duration_hours\": 0.51, \"competitive_route\": 1, \"bus_multiplier\": 1.63, \"bus_difference\": 19.2, \"num_trips\": 13, \"num_competitive\": 13, \"pct_trips_competitive\": 1.0, \"bus_difference_spread\": 6.0, \"route_group\": \"short\", \"max_trip_hrs\": 0.83, \"max_trip_route_group\": 0.98, \"name\": \"City of Thousand Oaks\", \"caltrans_district\": \"07 - Los Angeles\", \"drmt_organization_name\": null, \"cutoff2\": 20, \"cutoff\": 2}, {\"calitp_itp_id\": 337, \"trip_key\": 1358325327274590038, \"trip_id\": \"t_1317307_b_27094_tn_0\", \"shape_id\": \"p_900592\", \"route_id\": \"3640\", \"service_hours\": 0.82, \"trip_first_departure_ts\": 32400, \"trip_last_arrival_ts\": 35340, \"departure_hour\": 9, \"time_of_day\": \"AM Peak\", \"p25\": 0.82, \"p50\": 0.82, \"p75\": 0.82, \"p50_trip\": 1, \"fastest_trip\": 0, \"car_duration_hours\": 0.62, \"competitive_route\": 1, \"bus_multiplier\": 1.32, \"bus_difference\": 12.0, \"num_trips\": 13, \"num_competitive\": 13, \"pct_trips_competitive\": 1.0, \"bus_difference_spread\": 0.0, \"route_group\": \"short\", \"max_trip_hrs\": 0.82, \"max_trip_route_group\": 0.98, \"name\": \"City of Thousand Oaks\", \"caltrans_district\": \"07 - Los Angeles\", \"drmt_organization_name\": null, \"cutoff2\": 20, \"cutoff\": 2}, {\"calitp_itp_id\": 337, \"trip_key\": 3527914113114180610, \"trip_id\": \"t_1317316_b_27094_tn_0\", \"shape_id\": \"p_900592\", \"route_id\": \"3640\", \"service_hours\": 0.82, \"trip_first_departure_ts\": 64800, \"trip_last_arrival_ts\": 67740, \"departure_hour\": 18, \"time_of_day\": \"PM Peak\", \"p25\": 0.82, \"p50\": 0.82, \"p75\": 0.82, \"p50_trip\": 1, \"fastest_trip\": 1, \"car_duration_hours\": 0.62, \"competitive_route\": 1, \"bus_multiplier\": 1.32, \"bus_difference\": 12.0, \"num_trips\": 13, \"num_competitive\": 13, \"pct_trips_competitive\": 1.0, \"bus_difference_spread\": 0.0, \"route_group\": \"short\", \"max_trip_hrs\": 0.82, \"max_trip_route_group\": 0.98, \"name\": \"City of Thousand Oaks\", \"caltrans_district\": \"07 - Los Angeles\", \"drmt_organization_name\": null, \"cutoff2\": 20, \"cutoff\": 2}, {\"calitp_itp_id\": 337, \"trip_key\": -5815335661553103789, \"trip_id\": \"t_1317308_b_27094_tn_0\", \"shape_id\": \"p_900592\", \"route_id\": \"3640\", \"service_hours\": 0.82, \"trip_first_departure_ts\": 36000, \"trip_last_arrival_ts\": 38940, \"departure_hour\": 10, \"time_of_day\": \"Midday\", \"p25\": 0.82, \"p50\": 0.82, \"p75\": 0.82, \"p50_trip\": 1, \"fastest_trip\": 0, \"car_duration_hours\": 0.62, \"competitive_route\": 1, \"bus_multiplier\": 1.32, \"bus_difference\": 12.0, \"num_trips\": 13, \"num_competitive\": 13, \"pct_trips_competitive\": 1.0, \"bus_difference_spread\": 0.0, \"route_group\": \"short\", \"max_trip_hrs\": 0.82, \"max_trip_route_group\": 0.98, \"name\": \"City of Thousand Oaks\", \"caltrans_district\": \"07 - Los Angeles\", \"drmt_organization_name\": null, \"cutoff2\": 20, \"cutoff\": 2}, {\"calitp_itp_id\": 337, \"trip_key\": -5078553225780790204, \"trip_id\": \"t_1317314_b_27094_tn_0\", \"shape_id\": \"p_900592\", \"route_id\": \"3640\", \"service_hours\": 0.82, \"trip_first_departure_ts\": 57600, \"trip_last_arrival_ts\": 60540, \"departure_hour\": 16, \"time_of_day\": \"Midday\", \"p25\": 0.82, \"p50\": 0.82, \"p75\": 0.82, \"p50_trip\": 1, \"fastest_trip\": 0, \"car_duration_hours\": 0.62, \"competitive_route\": 1, \"bus_multiplier\": 1.32, \"bus_difference\": 12.0, \"num_trips\": 13, \"num_competitive\": 13, \"pct_trips_competitive\": 1.0, \"bus_difference_spread\": 0.0, \"route_group\": \"short\", \"max_trip_hrs\": 0.82, \"max_trip_route_group\": 0.98, \"name\": \"City of Thousand Oaks\", \"caltrans_district\": \"07 - Los Angeles\", \"drmt_organization_name\": null, \"cutoff2\": 20, \"cutoff\": 2}, {\"calitp_itp_id\": 337, \"trip_key\": 5326212799935033881, \"trip_id\": \"t_1317311_b_27094_tn_0\", \"shape_id\": \"p_900592\", \"route_id\": \"3640\", \"service_hours\": 0.82, \"trip_first_departure_ts\": 46800, \"trip_last_arrival_ts\": 49740, \"departure_hour\": 13, \"time_of_day\": \"Midday\", \"p25\": 0.82, \"p50\": 0.82, \"p75\": 0.82, \"p50_trip\": 1, \"fastest_trip\": 0, \"car_duration_hours\": 0.62, \"competitive_route\": 1, \"bus_multiplier\": 1.32, \"bus_difference\": 12.0, \"num_trips\": 13, \"num_competitive\": 13, \"pct_trips_competitive\": 1.0, \"bus_difference_spread\": 0.0, \"route_group\": \"short\", \"max_trip_hrs\": 0.82, \"max_trip_route_group\": 0.98, \"name\": \"City of Thousand Oaks\", \"caltrans_district\": \"07 - Los Angeles\", \"drmt_organization_name\": null, \"cutoff2\": 20, \"cutoff\": 2}, {\"calitp_itp_id\": 337, \"trip_key\": -2831959076268491258, \"trip_id\": \"t_1230056_b_27094_tn_0\", \"shape_id\": \"p_900592\", \"route_id\": \"3640\", \"service_hours\": 0.82, \"trip_first_departure_ts\": 25200, \"trip_last_arrival_ts\": 28140, \"departure_hour\": 7, \"time_of_day\": \"AM Peak\", \"p25\": 0.82, \"p50\": 0.82, \"p75\": 0.82, \"p50_trip\": 1, \"fastest_trip\": 0, \"car_duration_hours\": 0.62, \"competitive_route\": 1, \"bus_multiplier\": 1.32, \"bus_difference\": 12.0, \"num_trips\": 13, \"num_competitive\": 13, \"pct_trips_competitive\": 1.0, \"bus_difference_spread\": 0.0, \"route_group\": \"short\", \"max_trip_hrs\": 0.82, \"max_trip_route_group\": 0.98, \"name\": \"City of Thousand Oaks\", \"caltrans_district\": \"07 - Los Angeles\", \"drmt_organization_name\": null, \"cutoff2\": 20, \"cutoff\": 2}, {\"calitp_itp_id\": 337, \"trip_key\": -4037674381576649544, \"trip_id\": \"t_1317306_b_27094_tn_0\", \"shape_id\": \"p_900592\", \"route_id\": \"3640\", \"service_hours\": 0.82, \"trip_first_departure_ts\": 28800, \"trip_last_arrival_ts\": 31740, \"departure_hour\": 8, \"time_of_day\": \"AM Peak\", \"p25\": 0.82, \"p50\": 0.82, \"p75\": 0.82, \"p50_trip\": 1, \"fastest_trip\": 0, \"car_duration_hours\": 0.62, \"competitive_route\": 1, \"bus_multiplier\": 1.32, \"bus_difference\": 12.0, \"num_trips\": 13, \"num_competitive\": 13, \"pct_trips_competitive\": 1.0, \"bus_difference_spread\": 0.0, \"route_group\": \"short\", \"max_trip_hrs\": 0.82, \"max_trip_route_group\": 0.98, \"name\": \"City of Thousand Oaks\", \"caltrans_district\": \"07 - Los Angeles\", \"drmt_organization_name\": null, \"cutoff2\": 20, \"cutoff\": 2}, {\"calitp_itp_id\": 337, \"trip_key\": 8032959870998234560, \"trip_id\": \"t_1317312_b_27094_tn_0\", \"shape_id\": \"p_900592\", \"route_id\": \"3640\", \"service_hours\": 0.82, \"trip_first_departure_ts\": 50400, \"trip_last_arrival_ts\": 53340, \"departure_hour\": 14, \"time_of_day\": \"Midday\", \"p25\": 0.82, \"p50\": 0.82, \"p75\": 0.82, \"p50_trip\": 1, \"fastest_trip\": 0, \"car_duration_hours\": 0.62, \"competitive_route\": 1, \"bus_multiplier\": 1.32, \"bus_difference\": 12.0, \"num_trips\": 13, \"num_competitive\": 13, \"pct_trips_competitive\": 1.0, \"bus_difference_spread\": 0.0, \"route_group\": \"short\", \"max_trip_hrs\": 0.82, \"max_trip_route_group\": 0.98, \"name\": \"City of Thousand Oaks\", \"caltrans_district\": \"07 - Los Angeles\", \"drmt_organization_name\": null, \"cutoff2\": 20, \"cutoff\": 2}, {\"calitp_itp_id\": 337, \"trip_key\": -7808968342740784205, \"trip_id\": \"t_1317313_b_27094_tn_0\", \"shape_id\": \"p_900592\", \"route_id\": \"3640\", \"service_hours\": 0.82, \"trip_first_departure_ts\": 54000, \"trip_last_arrival_ts\": 56940, \"departure_hour\": 15, \"time_of_day\": \"Midday\", \"p25\": 0.82, \"p50\": 0.82, \"p75\": 0.82, \"p50_trip\": 1, \"fastest_trip\": 0, \"car_duration_hours\": 0.62, \"competitive_route\": 1, \"bus_multiplier\": 1.32, \"bus_difference\": 12.0, \"num_trips\": 13, \"num_competitive\": 13, \"pct_trips_competitive\": 1.0, \"bus_difference_spread\": 0.0, \"route_group\": \"short\", \"max_trip_hrs\": 0.82, \"max_trip_route_group\": 0.98, \"name\": \"City of Thousand Oaks\", \"caltrans_district\": \"07 - Los Angeles\", \"drmt_organization_name\": null, \"cutoff2\": 20, \"cutoff\": 2}, {\"calitp_itp_id\": 337, \"trip_key\": 174905476332898893, \"trip_id\": \"t_1317315_b_27094_tn_0\", \"shape_id\": \"p_900592\", \"route_id\": \"3640\", \"service_hours\": 0.82, \"trip_first_departure_ts\": 61200, \"trip_last_arrival_ts\": 64140, \"departure_hour\": 17, \"time_of_day\": \"PM Peak\", \"p25\": 0.82, \"p50\": 0.82, \"p75\": 0.82, \"p50_trip\": 1, \"fastest_trip\": 0, \"car_duration_hours\": 0.62, \"competitive_route\": 1, \"bus_multiplier\": 1.32, \"bus_difference\": 12.0, \"num_trips\": 13, \"num_competitive\": 13, \"pct_trips_competitive\": 1.0, \"bus_difference_spread\": 0.0, \"route_group\": \"short\", \"max_trip_hrs\": 0.82, \"max_trip_route_group\": 0.98, \"name\": \"City of Thousand Oaks\", \"caltrans_district\": \"07 - Los Angeles\", \"drmt_organization_name\": null, \"cutoff2\": 20, \"cutoff\": 2}, {\"calitp_itp_id\": 337, \"trip_key\": 1386274926039851253, \"trip_id\": \"t_1230055_b_27094_tn_0\", \"shape_id\": \"p_900592\", \"route_id\": \"3640\", \"service_hours\": 0.82, \"trip_first_departure_ts\": 21600, \"trip_last_arrival_ts\": 24540, \"departure_hour\": 6, \"time_of_day\": \"Owl Service\", \"p25\": 0.82, \"p50\": 0.82, \"p75\": 0.82, \"p50_trip\": 1, \"fastest_trip\": 0, \"car_duration_hours\": 0.62, \"competitive_route\": 1, \"bus_multiplier\": 1.32, \"bus_difference\": 12.0, \"num_trips\": 13, \"num_competitive\": 13, \"pct_trips_competitive\": 1.0, \"bus_difference_spread\": 0.0, \"route_group\": \"short\", \"max_trip_hrs\": 0.82, \"max_trip_route_group\": 0.98, \"name\": \"City of Thousand Oaks\", \"caltrans_district\": \"07 - Los Angeles\", \"drmt_organization_name\": null, \"cutoff2\": 20, \"cutoff\": 2}, {\"calitp_itp_id\": 337, \"trip_key\": -3608918615386158952, \"trip_id\": \"t_1317309_b_27094_tn_0\", \"shape_id\": \"p_900592\", \"route_id\": \"3640\", \"service_hours\": 0.82, \"trip_first_departure_ts\": 39600, \"trip_last_arrival_ts\": 42540, \"departure_hour\": 11, \"time_of_day\": \"Midday\", \"p25\": 0.82, \"p50\": 0.82, \"p75\": 0.82, \"p50_trip\": 1, \"fastest_trip\": 0, \"car_duration_hours\": 0.62, \"competitive_route\": 1, \"bus_multiplier\": 1.32, \"bus_difference\": 12.0, \"num_trips\": 13, \"num_competitive\": 13, \"pct_trips_competitive\": 1.0, \"bus_difference_spread\": 0.0, \"route_group\": \"short\", \"max_trip_hrs\": 0.82, \"max_trip_route_group\": 0.98, \"name\": \"City of Thousand Oaks\", \"caltrans_district\": \"07 - Los Angeles\", \"drmt_organization_name\": null, \"cutoff2\": 20, \"cutoff\": 2}, {\"calitp_itp_id\": 337, \"trip_key\": 4442988126574455679, \"trip_id\": \"t_1317310_b_27094_tn_0\", \"shape_id\": \"p_900592\", \"route_id\": \"3640\", \"service_hours\": 0.82, \"trip_first_departure_ts\": 43200, \"trip_last_arrival_ts\": 46140, \"departure_hour\": 12, \"time_of_day\": \"Midday\", \"p25\": 0.82, \"p50\": 0.82, \"p75\": 0.82, \"p50_trip\": 1, \"fastest_trip\": 0, \"car_duration_hours\": 0.62, \"competitive_route\": 1, \"bus_multiplier\": 1.32, \"bus_difference\": 12.0, \"num_trips\": 13, \"num_competitive\": 13, \"pct_trips_competitive\": 1.0, \"bus_difference_spread\": 0.0, \"route_group\": \"short\", \"max_trip_hrs\": 0.82, \"max_trip_route_group\": 0.98, \"name\": \"City of Thousand Oaks\", \"caltrans_district\": \"07 - Los Angeles\", \"drmt_organization_name\": null, \"cutoff2\": 20, \"cutoff\": 2}, {\"calitp_itp_id\": 337, \"trip_key\": 6101094481849918654, \"trip_id\": \"t_1317322_b_27094_tn_0\", \"shape_id\": \"p_900594\", \"route_id\": \"3641\", \"service_hours\": 0.65, \"trip_first_departure_ts\": 29400, \"trip_last_arrival_ts\": 31740, \"departure_hour\": 8, \"time_of_day\": \"AM Peak\", \"p25\": 0.65, \"p50\": 0.65, \"p75\": 0.98, \"p50_trip\": 1, \"fastest_trip\": 0, \"car_duration_hours\": 0.54, \"competitive_route\": 1, \"bus_multiplier\": 1.2, \"bus_difference\": 6.6, \"num_trips\": 13, \"num_competitive\": 13, \"pct_trips_competitive\": 1.0, \"bus_difference_spread\": 19.8, \"route_group\": \"short\", \"max_trip_hrs\": 0.98, \"max_trip_route_group\": 0.98, \"name\": \"City of Thousand Oaks\", \"caltrans_district\": \"07 - Los Angeles\", \"drmt_organization_name\": null, \"cutoff2\": 20, \"cutoff\": 2}, {\"calitp_itp_id\": 337, \"trip_key\": 2825519637592921543, \"trip_id\": \"t_1317325_b_27094_tn_0\", \"shape_id\": \"p_900594\", \"route_id\": \"3641\", \"service_hours\": 0.65, \"trip_first_departure_ts\": 51000, \"trip_last_arrival_ts\": 53340, \"departure_hour\": 14, \"time_of_day\": \"Midday\", \"p25\": 0.65, \"p50\": 0.65, \"p75\": 0.98, \"p50_trip\": 1, \"fastest_trip\": 0, \"car_duration_hours\": 0.54, \"competitive_route\": 1, \"bus_multiplier\": 1.2, \"bus_difference\": 6.6, \"num_trips\": 13, \"num_competitive\": 13, \"pct_trips_competitive\": 1.0, \"bus_difference_spread\": 19.8, \"route_group\": \"short\", \"max_trip_hrs\": 0.98, \"max_trip_route_group\": 0.98, \"name\": \"City of Thousand Oaks\", \"caltrans_district\": \"07 - Los Angeles\", \"drmt_organization_name\": null, \"cutoff2\": 20, \"cutoff\": 2}, {\"calitp_itp_id\": 337, \"trip_key\": 8606260441039250374, \"trip_id\": \"t_1230059_b_27094_tn_0\", \"shape_id\": \"p_900594\", \"route_id\": \"3641\", \"service_hours\": 0.65, \"trip_first_departure_ts\": 22200, \"trip_last_arrival_ts\": 24540, \"departure_hour\": 6, \"time_of_day\": \"Owl Service\", \"p25\": 0.65, \"p50\": 0.65, \"p75\": 0.98, \"p50_trip\": 1, \"fastest_trip\": 0, \"car_duration_hours\": 0.54, \"competitive_route\": 1, \"bus_multiplier\": 1.2, \"bus_difference\": 6.6, \"num_trips\": 13, \"num_competitive\": 13, \"pct_trips_competitive\": 1.0, \"bus_difference_spread\": 19.8, \"route_group\": \"short\", \"max_trip_hrs\": 0.98, \"max_trip_route_group\": 0.98, \"name\": \"City of Thousand Oaks\", \"caltrans_district\": \"07 - Los Angeles\", \"drmt_organization_name\": null, \"cutoff2\": 20, \"cutoff\": 2}, {\"calitp_itp_id\": 337, \"trip_key\": -6862196731422607109, \"trip_id\": \"t_1317326_b_27094_tn_0\", \"shape_id\": \"p_900594\", \"route_id\": \"3641\", \"service_hours\": 0.65, \"trip_first_departure_ts\": 58200, \"trip_last_arrival_ts\": 60540, \"departure_hour\": 16, \"time_of_day\": \"Midday\", \"p25\": 0.65, \"p50\": 0.65, \"p75\": 0.98, \"p50_trip\": 1, \"fastest_trip\": 0, \"car_duration_hours\": 0.54, \"competitive_route\": 1, \"bus_multiplier\": 1.2, \"bus_difference\": 6.6, \"num_trips\": 13, \"num_competitive\": 13, \"pct_trips_competitive\": 1.0, \"bus_difference_spread\": 19.8, \"route_group\": \"short\", \"max_trip_hrs\": 0.98, \"max_trip_route_group\": 0.98, \"name\": \"City of Thousand Oaks\", \"caltrans_district\": \"07 - Los Angeles\", \"drmt_organization_name\": null, \"cutoff2\": 20, \"cutoff\": 2}, {\"calitp_itp_id\": 337, \"trip_key\": 8574213800508560280, \"trip_id\": \"t_1317324_b_27094_tn_0\", \"shape_id\": \"p_900594\", \"route_id\": \"3641\", \"service_hours\": 0.65, \"trip_first_departure_ts\": 43800, \"trip_last_arrival_ts\": 46140, \"departure_hour\": 12, \"time_of_day\": \"Midday\", \"p25\": 0.65, \"p50\": 0.65, \"p75\": 0.98, \"p50_trip\": 1, \"fastest_trip\": 0, \"car_duration_hours\": 0.54, \"competitive_route\": 1, \"bus_multiplier\": 1.2, \"bus_difference\": 6.6, \"num_trips\": 13, \"num_competitive\": 13, \"pct_trips_competitive\": 1.0, \"bus_difference_spread\": 19.8, \"route_group\": \"short\", \"max_trip_hrs\": 0.98, \"max_trip_route_group\": 0.98, \"name\": \"City of Thousand Oaks\", \"caltrans_district\": \"07 - Los Angeles\", \"drmt_organization_name\": null, \"cutoff2\": 20, \"cutoff\": 2}, {\"calitp_itp_id\": 337, \"trip_key\": -2621702537523133483, \"trip_id\": \"t_1317323_b_27094_tn_0\", \"shape_id\": \"p_900594\", \"route_id\": \"3641\", \"service_hours\": 0.65, \"trip_first_departure_ts\": 36600, \"trip_last_arrival_ts\": 38940, \"departure_hour\": 10, \"time_of_day\": \"Midday\", \"p25\": 0.65, \"p50\": 0.65, \"p75\": 0.98, \"p50_trip\": 1, \"fastest_trip\": 0, \"car_duration_hours\": 0.54, \"competitive_route\": 1, \"bus_multiplier\": 1.2, \"bus_difference\": 6.6, \"num_trips\": 13, \"num_competitive\": 13, \"pct_trips_competitive\": 1.0, \"bus_difference_spread\": 19.8, \"route_group\": \"short\", \"max_trip_hrs\": 0.98, \"max_trip_route_group\": 0.98, \"name\": \"City of Thousand Oaks\", \"caltrans_district\": \"07 - Los Angeles\", \"drmt_organization_name\": null, \"cutoff2\": 20, \"cutoff\": 2}, {\"calitp_itp_id\": 337, \"trip_key\": -874104652751008295, \"trip_id\": \"t_1317327_b_27094_tn_0\", \"shape_id\": \"p_900594\", \"route_id\": \"3641\", \"service_hours\": 0.65, \"trip_first_departure_ts\": 65400, \"trip_last_arrival_ts\": 67740, \"departure_hour\": 18, \"time_of_day\": \"PM Peak\", \"p25\": 0.65, \"p50\": 0.65, \"p75\": 0.98, \"p50_trip\": 1, \"fastest_trip\": 1, \"car_duration_hours\": 0.54, \"competitive_route\": 1, \"bus_multiplier\": 1.2, \"bus_difference\": 6.6, \"num_trips\": 13, \"num_competitive\": 13, \"pct_trips_competitive\": 1.0, \"bus_difference_spread\": 19.8, \"route_group\": \"short\", \"max_trip_hrs\": 0.98, \"max_trip_route_group\": 0.98, \"name\": \"City of Thousand Oaks\", \"caltrans_district\": \"07 - Los Angeles\", \"drmt_organization_name\": null, \"cutoff2\": 20, \"cutoff\": 2}, {\"calitp_itp_id\": 337, \"trip_key\": 8567723010136658121, \"trip_id\": \"t_1317318_b_27094_tn_0\", \"shape_id\": \"p_900593\", \"route_id\": \"3641\", \"service_hours\": 0.98, \"trip_first_departure_ts\": 39600, \"trip_last_arrival_ts\": 43140, \"departure_hour\": 11, \"time_of_day\": \"Midday\", \"p25\": 0.65, \"p50\": 0.65, \"p75\": 0.98, \"p50_trip\": 0, \"fastest_trip\": 0, \"car_duration_hours\": 0.54, \"competitive_route\": 1, \"bus_multiplier\": 1.81, \"bus_difference\": 26.4, \"num_trips\": 13, \"num_competitive\": 13, \"pct_trips_competitive\": 1.0, \"bus_difference_spread\": 19.8, \"route_group\": \"short\", \"max_trip_hrs\": 0.98, \"max_trip_route_group\": 0.98, \"name\": \"City of Thousand Oaks\", \"caltrans_district\": \"07 - Los Angeles\", \"drmt_organization_name\": null, \"cutoff2\": 20, \"cutoff\": 2}, {\"calitp_itp_id\": 337, \"trip_key\": 2604441278113330024, \"trip_id\": \"t_1317321_b_27094_tn_0\", \"shape_id\": \"p_900593\", \"route_id\": \"3641\", \"service_hours\": 0.98, \"trip_first_departure_ts\": 61200, \"trip_last_arrival_ts\": 64740, \"departure_hour\": 17, \"time_of_day\": \"PM Peak\", \"p25\": 0.65, \"p50\": 0.65, \"p75\": 0.98, \"p50_trip\": 0, \"fastest_trip\": 0, \"car_duration_hours\": 0.54, \"competitive_route\": 1, \"bus_multiplier\": 1.81, \"bus_difference\": 26.4, \"num_trips\": 13, \"num_competitive\": 13, \"pct_trips_competitive\": 1.0, \"bus_difference_spread\": 19.8, \"route_group\": \"short\", \"max_trip_hrs\": 0.98, \"max_trip_route_group\": 0.98, \"name\": \"City of Thousand Oaks\", \"caltrans_district\": \"07 - Los Angeles\", \"drmt_organization_name\": null, \"cutoff2\": 20, \"cutoff\": 2}, {\"calitp_itp_id\": 337, \"trip_key\": -5435496664739485498, \"trip_id\": \"t_1317319_b_27094_tn_0\", \"shape_id\": \"p_900593\", \"route_id\": \"3641\", \"service_hours\": 0.98, \"trip_first_departure_ts\": 46800, \"trip_last_arrival_ts\": 50340, \"departure_hour\": 13, \"time_of_day\": \"Midday\", \"p25\": 0.65, \"p50\": 0.65, \"p75\": 0.98, \"p50_trip\": 0, \"fastest_trip\": 0, \"car_duration_hours\": 0.54, \"competitive_route\": 1, \"bus_multiplier\": 1.81, \"bus_difference\": 26.4, \"num_trips\": 13, \"num_competitive\": 13, \"pct_trips_competitive\": 1.0, \"bus_difference_spread\": 19.8, \"route_group\": \"short\", \"max_trip_hrs\": 0.98, \"max_trip_route_group\": 0.98, \"name\": \"City of Thousand Oaks\", \"caltrans_district\": \"07 - Los Angeles\", \"drmt_organization_name\": null, \"cutoff2\": 20, \"cutoff\": 2}, {\"calitp_itp_id\": 337, \"trip_key\": 8062695349286739436, \"trip_id\": \"t_1317320_b_27094_tn_0\", \"shape_id\": \"p_900593\", \"route_id\": \"3641\", \"service_hours\": 0.98, \"trip_first_departure_ts\": 54000, \"trip_last_arrival_ts\": 57540, \"departure_hour\": 15, \"time_of_day\": \"Midday\", \"p25\": 0.65, \"p50\": 0.65, \"p75\": 0.98, \"p50_trip\": 0, \"fastest_trip\": 0, \"car_duration_hours\": 0.54, \"competitive_route\": 1, \"bus_multiplier\": 1.81, \"bus_difference\": 26.4, \"num_trips\": 13, \"num_competitive\": 13, \"pct_trips_competitive\": 1.0, \"bus_difference_spread\": 19.8, \"route_group\": \"short\", \"max_trip_hrs\": 0.98, \"max_trip_route_group\": 0.98, \"name\": \"City of Thousand Oaks\", \"caltrans_district\": \"07 - Los Angeles\", \"drmt_organization_name\": null, \"cutoff2\": 20, \"cutoff\": 2}, {\"calitp_itp_id\": 337, \"trip_key\": -7344104896059729615, \"trip_id\": \"t_1317317_b_27094_tn_0\", \"shape_id\": \"p_900593\", \"route_id\": \"3641\", \"service_hours\": 0.98, \"trip_first_departure_ts\": 32400, \"trip_last_arrival_ts\": 35940, \"departure_hour\": 9, \"time_of_day\": \"AM Peak\", \"p25\": 0.65, \"p50\": 0.65, \"p75\": 0.98, \"p50_trip\": 0, \"fastest_trip\": 0, \"car_duration_hours\": 0.54, \"competitive_route\": 1, \"bus_multiplier\": 1.81, \"bus_difference\": 26.4, \"num_trips\": 13, \"num_competitive\": 13, \"pct_trips_competitive\": 1.0, \"bus_difference_spread\": 19.8, \"route_group\": \"short\", \"max_trip_hrs\": 0.98, \"max_trip_route_group\": 0.98, \"name\": \"City of Thousand Oaks\", \"caltrans_district\": \"07 - Los Angeles\", \"drmt_organization_name\": null, \"cutoff2\": 20, \"cutoff\": 2}, {\"calitp_itp_id\": 337, \"trip_key\": 4303281494008744764, \"trip_id\": \"t_1230060_b_27094_tn_0\", \"shape_id\": \"p_900593\", \"route_id\": \"3641\", \"service_hours\": 0.98, \"trip_first_departure_ts\": 25200, \"trip_last_arrival_ts\": 28740, \"departure_hour\": 7, \"time_of_day\": \"AM Peak\", \"p25\": 0.65, \"p50\": 0.65, \"p75\": 0.98, \"p50_trip\": 0, \"fastest_trip\": 0, \"car_duration_hours\": 0.54, \"competitive_route\": 1, \"bus_multiplier\": 1.81, \"bus_difference\": 26.4, \"num_trips\": 13, \"num_competitive\": 13, \"pct_trips_competitive\": 1.0, \"bus_difference_spread\": 19.8, \"route_group\": \"short\", \"max_trip_hrs\": 0.98, \"max_trip_route_group\": 0.98, \"name\": \"City of Thousand Oaks\", \"caltrans_district\": \"07 - Los Angeles\", \"drmt_organization_name\": null, \"cutoff2\": 20, \"cutoff\": 2}, {\"calitp_itp_id\": 337, \"trip_key\": -3339647991534680967, \"trip_id\": \"t_1230052_b_27094_tn_0\", \"shape_id\": \"p_900591\", \"route_id\": \"6799\", \"service_hours\": 0.82, \"trip_first_departure_ts\": 25200, \"trip_last_arrival_ts\": 28140, \"departure_hour\": 7, \"time_of_day\": \"AM Peak\", \"p25\": 0.82, \"p50\": 0.82, \"p75\": 0.82, \"p50_trip\": 1, \"fastest_trip\": 0, \"car_duration_hours\": 0.58, \"competitive_route\": 1, \"bus_multiplier\": 1.41, \"bus_difference\": 14.4, \"num_trips\": 13, \"num_competitive\": 13, \"pct_trips_competitive\": 1.0, \"bus_difference_spread\": 0.0, \"route_group\": \"short\", \"max_trip_hrs\": 0.82, \"max_trip_route_group\": 0.98, \"name\": \"City of Thousand Oaks\", \"caltrans_district\": \"07 - Los Angeles\", \"drmt_organization_name\": null, \"cutoff2\": 20, \"cutoff\": 2}, {\"calitp_itp_id\": 337, \"trip_key\": -7812706225654533933, \"trip_id\": \"t_1317350_b_27094_tn_0\", \"shape_id\": \"p_900591\", \"route_id\": \"6799\", \"service_hours\": 0.82, \"trip_first_departure_ts\": 28800, \"trip_last_arrival_ts\": 31740, \"departure_hour\": 8, \"time_of_day\": \"AM Peak\", \"p25\": 0.82, \"p50\": 0.82, \"p75\": 0.82, \"p50_trip\": 1, \"fastest_trip\": 0, \"car_duration_hours\": 0.58, \"competitive_route\": 1, \"bus_multiplier\": 1.41, \"bus_difference\": 14.4, \"num_trips\": 13, \"num_competitive\": 13, \"pct_trips_competitive\": 1.0, \"bus_difference_spread\": 0.0, \"route_group\": \"short\", \"max_trip_hrs\": 0.82, \"max_trip_route_group\": 0.98, \"name\": \"City of Thousand Oaks\", \"caltrans_district\": \"07 - Los Angeles\", \"drmt_organization_name\": null, \"cutoff2\": 20, \"cutoff\": 2}, {\"calitp_itp_id\": 337, \"trip_key\": -2901946403960055063, \"trip_id\": \"t_1317352_b_27094_tn_0\", \"shape_id\": \"p_900591\", \"route_id\": \"6799\", \"service_hours\": 0.82, \"trip_first_departure_ts\": 36000, \"trip_last_arrival_ts\": 38940, \"departure_hour\": 10, \"time_of_day\": \"Midday\", \"p25\": 0.82, \"p50\": 0.82, \"p75\": 0.82, \"p50_trip\": 1, \"fastest_trip\": 0, \"car_duration_hours\": 0.58, \"competitive_route\": 1, \"bus_multiplier\": 1.41, \"bus_difference\": 14.4, \"num_trips\": 13, \"num_competitive\": 13, \"pct_trips_competitive\": 1.0, \"bus_difference_spread\": 0.0, \"route_group\": \"short\", \"max_trip_hrs\": 0.82, \"max_trip_route_group\": 0.98, \"name\": \"City of Thousand Oaks\", \"caltrans_district\": \"07 - Los Angeles\", \"drmt_organization_name\": null, \"cutoff2\": 20, \"cutoff\": 2}, {\"calitp_itp_id\": 337, \"trip_key\": -811125851311968377, \"trip_id\": \"t_1230049_b_27094_tn_0\", \"shape_id\": \"p_900591\", \"route_id\": \"6799\", \"service_hours\": 0.82, \"trip_first_departure_ts\": 21600, \"trip_last_arrival_ts\": 24540, \"departure_hour\": 6, \"time_of_day\": \"Owl Service\", \"p25\": 0.82, \"p50\": 0.82, \"p75\": 0.82, \"p50_trip\": 1, \"fastest_trip\": 0, \"car_duration_hours\": 0.58, \"competitive_route\": 1, \"bus_multiplier\": 1.41, \"bus_difference\": 14.4, \"num_trips\": 13, \"num_competitive\": 13, \"pct_trips_competitive\": 1.0, \"bus_difference_spread\": 0.0, \"route_group\": \"short\", \"max_trip_hrs\": 0.82, \"max_trip_route_group\": 0.98, \"name\": \"City of Thousand Oaks\", \"caltrans_district\": \"07 - Los Angeles\", \"drmt_organization_name\": null, \"cutoff2\": 20, \"cutoff\": 2}, {\"calitp_itp_id\": 337, \"trip_key\": -4476578932371071111, \"trip_id\": \"t_1317353_b_27094_tn_0\", \"shape_id\": \"p_900591\", \"route_id\": \"6799\", \"service_hours\": 0.82, \"trip_first_departure_ts\": 39600, \"trip_last_arrival_ts\": 42540, \"departure_hour\": 11, \"time_of_day\": \"Midday\", \"p25\": 0.82, \"p50\": 0.82, \"p75\": 0.82, \"p50_trip\": 1, \"fastest_trip\": 0, \"car_duration_hours\": 0.58, \"competitive_route\": 1, \"bus_multiplier\": 1.41, \"bus_difference\": 14.4, \"num_trips\": 13, \"num_competitive\": 13, \"pct_trips_competitive\": 1.0, \"bus_difference_spread\": 0.0, \"route_group\": \"short\", \"max_trip_hrs\": 0.82, \"max_trip_route_group\": 0.98, \"name\": \"City of Thousand Oaks\", \"caltrans_district\": \"07 - Los Angeles\", \"drmt_organization_name\": null, \"cutoff2\": 20, \"cutoff\": 2}, {\"calitp_itp_id\": 337, \"trip_key\": -7749798268344435151, \"trip_id\": \"t_1317355_b_27094_tn_0\", \"shape_id\": \"p_900591\", \"route_id\": \"6799\", \"service_hours\": 0.82, \"trip_first_departure_ts\": 46800, \"trip_last_arrival_ts\": 49740, \"departure_hour\": 13, \"time_of_day\": \"Midday\", \"p25\": 0.82, \"p50\": 0.82, \"p75\": 0.82, \"p50_trip\": 1, \"fastest_trip\": 0, \"car_duration_hours\": 0.58, \"competitive_route\": 1, \"bus_multiplier\": 1.41, \"bus_difference\": 14.4, \"num_trips\": 13, \"num_competitive\": 13, \"pct_trips_competitive\": 1.0, \"bus_difference_spread\": 0.0, \"route_group\": \"short\", \"max_trip_hrs\": 0.82, \"max_trip_route_group\": 0.98, \"name\": \"City of Thousand Oaks\", \"caltrans_district\": \"07 - Los Angeles\", \"drmt_organization_name\": null, \"cutoff2\": 20, \"cutoff\": 2}, {\"calitp_itp_id\": 337, \"trip_key\": -8042224096457433652, \"trip_id\": \"t_1317351_b_27094_tn_0\", \"shape_id\": \"p_900591\", \"route_id\": \"6799\", \"service_hours\": 0.82, \"trip_first_departure_ts\": 32400, \"trip_last_arrival_ts\": 35340, \"departure_hour\": 9, \"time_of_day\": \"AM Peak\", \"p25\": 0.82, \"p50\": 0.82, \"p75\": 0.82, \"p50_trip\": 1, \"fastest_trip\": 0, \"car_duration_hours\": 0.58, \"competitive_route\": 1, \"bus_multiplier\": 1.41, \"bus_difference\": 14.4, \"num_trips\": 13, \"num_competitive\": 13, \"pct_trips_competitive\": 1.0, \"bus_difference_spread\": 0.0, \"route_group\": \"short\", \"max_trip_hrs\": 0.82, \"max_trip_route_group\": 0.98, \"name\": \"City of Thousand Oaks\", \"caltrans_district\": \"07 - Los Angeles\", \"drmt_organization_name\": null, \"cutoff2\": 20, \"cutoff\": 2}, {\"calitp_itp_id\": 337, \"trip_key\": -921040881378149292, \"trip_id\": \"t_1317354_b_27094_tn_0\", \"shape_id\": \"p_900591\", \"route_id\": \"6799\", \"service_hours\": 0.82, \"trip_first_departure_ts\": 43200, \"trip_last_arrival_ts\": 46140, \"departure_hour\": 12, \"time_of_day\": \"Midday\", \"p25\": 0.82, \"p50\": 0.82, \"p75\": 0.82, \"p50_trip\": 1, \"fastest_trip\": 0, \"car_duration_hours\": 0.58, \"competitive_route\": 1, \"bus_multiplier\": 1.41, \"bus_difference\": 14.4, \"num_trips\": 13, \"num_competitive\": 13, \"pct_trips_competitive\": 1.0, \"bus_difference_spread\": 0.0, \"route_group\": \"short\", \"max_trip_hrs\": 0.82, \"max_trip_route_group\": 0.98, \"name\": \"City of Thousand Oaks\", \"caltrans_district\": \"07 - Los Angeles\", \"drmt_organization_name\": null, \"cutoff2\": 20, \"cutoff\": 2}, {\"calitp_itp_id\": 337, \"trip_key\": 284123079588749380, \"trip_id\": \"t_1317358_b_27094_tn_0\", \"shape_id\": \"p_900591\", \"route_id\": \"6799\", \"service_hours\": 0.82, \"trip_first_departure_ts\": 57600, \"trip_last_arrival_ts\": 60540, \"departure_hour\": 16, \"time_of_day\": \"Midday\", \"p25\": 0.82, \"p50\": 0.82, \"p75\": 0.82, \"p50_trip\": 1, \"fastest_trip\": 0, \"car_duration_hours\": 0.58, \"competitive_route\": 1, \"bus_multiplier\": 1.41, \"bus_difference\": 14.4, \"num_trips\": 13, \"num_competitive\": 13, \"pct_trips_competitive\": 1.0, \"bus_difference_spread\": 0.0, \"route_group\": \"short\", \"max_trip_hrs\": 0.82, \"max_trip_route_group\": 0.98, \"name\": \"City of Thousand Oaks\", \"caltrans_district\": \"07 - Los Angeles\", \"drmt_organization_name\": null, \"cutoff2\": 20, \"cutoff\": 2}, {\"calitp_itp_id\": 337, \"trip_key\": -4381000657039983348, \"trip_id\": \"t_1317357_b_27094_tn_0\", \"shape_id\": \"p_900591\", \"route_id\": \"6799\", \"service_hours\": 0.82, \"trip_first_departure_ts\": 54000, \"trip_last_arrival_ts\": 56940, \"departure_hour\": 15, \"time_of_day\": \"Midday\", \"p25\": 0.82, \"p50\": 0.82, \"p75\": 0.82, \"p50_trip\": 1, \"fastest_trip\": 0, \"car_duration_hours\": 0.58, \"competitive_route\": 1, \"bus_multiplier\": 1.41, \"bus_difference\": 14.4, \"num_trips\": 13, \"num_competitive\": 13, \"pct_trips_competitive\": 1.0, \"bus_difference_spread\": 0.0, \"route_group\": \"short\", \"max_trip_hrs\": 0.82, \"max_trip_route_group\": 0.98, \"name\": \"City of Thousand Oaks\", \"caltrans_district\": \"07 - Los Angeles\", \"drmt_organization_name\": null, \"cutoff2\": 20, \"cutoff\": 2}, {\"calitp_itp_id\": 337, \"trip_key\": -6840087071432211258, \"trip_id\": \"t_1317359_b_27094_tn_0\", \"shape_id\": \"p_900591\", \"route_id\": \"6799\", \"service_hours\": 0.82, \"trip_first_departure_ts\": 61200, \"trip_last_arrival_ts\": 64140, \"departure_hour\": 17, \"time_of_day\": \"PM Peak\", \"p25\": 0.82, \"p50\": 0.82, \"p75\": 0.82, \"p50_trip\": 1, \"fastest_trip\": 0, \"car_duration_hours\": 0.58, \"competitive_route\": 1, \"bus_multiplier\": 1.41, \"bus_difference\": 14.4, \"num_trips\": 13, \"num_competitive\": 13, \"pct_trips_competitive\": 1.0, \"bus_difference_spread\": 0.0, \"route_group\": \"short\", \"max_trip_hrs\": 0.82, \"max_trip_route_group\": 0.98, \"name\": \"City of Thousand Oaks\", \"caltrans_district\": \"07 - Los Angeles\", \"drmt_organization_name\": null, \"cutoff2\": 20, \"cutoff\": 2}, {\"calitp_itp_id\": 337, \"trip_key\": 4837374424228184135, \"trip_id\": \"t_1317360_b_27094_tn_0\", \"shape_id\": \"p_900591\", \"route_id\": \"6799\", \"service_hours\": 0.82, \"trip_first_departure_ts\": 64800, \"trip_last_arrival_ts\": 67740, \"departure_hour\": 18, \"time_of_day\": \"PM Peak\", \"p25\": 0.82, \"p50\": 0.82, \"p75\": 0.82, \"p50_trip\": 1, \"fastest_trip\": 1, \"car_duration_hours\": 0.58, \"competitive_route\": 1, \"bus_multiplier\": 1.41, \"bus_difference\": 14.4, \"num_trips\": 13, \"num_competitive\": 13, \"pct_trips_competitive\": 1.0, \"bus_difference_spread\": 0.0, \"route_group\": \"short\", \"max_trip_hrs\": 0.82, \"max_trip_route_group\": 0.98, \"name\": \"City of Thousand Oaks\", \"caltrans_district\": \"07 - Los Angeles\", \"drmt_organization_name\": null, \"cutoff2\": 20, \"cutoff\": 2}, {\"calitp_itp_id\": 337, \"trip_key\": -8368667360634585597, \"trip_id\": \"t_1317356_b_27094_tn_0\", \"shape_id\": \"p_900591\", \"route_id\": \"6799\", \"service_hours\": 0.82, \"trip_first_departure_ts\": 50400, \"trip_last_arrival_ts\": 53340, \"departure_hour\": 14, \"time_of_day\": \"Midday\", \"p25\": 0.82, \"p50\": 0.82, \"p75\": 0.82, \"p50_trip\": 1, \"fastest_trip\": 0, \"car_duration_hours\": 0.58, \"competitive_route\": 1, \"bus_multiplier\": 1.41, \"bus_difference\": 14.4, \"num_trips\": 13, \"num_competitive\": 13, \"pct_trips_competitive\": 1.0, \"bus_difference_spread\": 0.0, \"route_group\": \"short\", \"max_trip_hrs\": 0.82, \"max_trip_route_group\": 0.98, \"name\": \"City of Thousand Oaks\", \"caltrans_district\": \"07 - Los Angeles\", \"drmt_organization_name\": null, \"cutoff2\": 20, \"cutoff\": 2}]}}, {\"mode\": \"vega-lite\"});\n",
       "</script>"
      ],
      "text/plain": [
       "alt.FacetChart(...)"
      ]
     },
     "metadata": {},
     "output_type": "display_data"
    },
    {
     "data": {
      "text/html": [
       "\n",
       "<div id=\"altair-viz-157187dafac44006be33983fad1c218c\"></div>\n",
       "<script type=\"text/javascript\">\n",
       "  var VEGA_DEBUG = (typeof VEGA_DEBUG == \"undefined\") ? {} : VEGA_DEBUG;\n",
       "  (function(spec, embedOpt){\n",
       "    let outputDiv = document.currentScript.previousElementSibling;\n",
       "    if (outputDiv.id !== \"altair-viz-157187dafac44006be33983fad1c218c\") {\n",
       "      outputDiv = document.getElementById(\"altair-viz-157187dafac44006be33983fad1c218c\");\n",
       "    }\n",
       "    const paths = {\n",
       "      \"vega\": \"https://cdn.jsdelivr.net/npm//vega@5?noext\",\n",
       "      \"vega-lib\": \"https://cdn.jsdelivr.net/npm//vega-lib?noext\",\n",
       "      \"vega-lite\": \"https://cdn.jsdelivr.net/npm//vega-lite@4.17.0?noext\",\n",
       "      \"vega-embed\": \"https://cdn.jsdelivr.net/npm//vega-embed@6?noext\",\n",
       "    };\n",
       "\n",
       "    function maybeLoadScript(lib, version) {\n",
       "      var key = `${lib.replace(\"-\", \"\")}_version`;\n",
       "      return (VEGA_DEBUG[key] == version) ?\n",
       "        Promise.resolve(paths[lib]) :\n",
       "        new Promise(function(resolve, reject) {\n",
       "          var s = document.createElement('script');\n",
       "          document.getElementsByTagName(\"head\")[0].appendChild(s);\n",
       "          s.async = true;\n",
       "          s.onload = () => {\n",
       "            VEGA_DEBUG[key] = version;\n",
       "            return resolve(paths[lib]);\n",
       "          };\n",
       "          s.onerror = () => reject(`Error loading script: ${paths[lib]}`);\n",
       "          s.src = paths[lib];\n",
       "        });\n",
       "    }\n",
       "\n",
       "    function showError(err) {\n",
       "      outputDiv.innerHTML = `<div class=\"error\" style=\"color:red;\">${err}</div>`;\n",
       "      throw err;\n",
       "    }\n",
       "\n",
       "    function displayChart(vegaEmbed) {\n",
       "      vegaEmbed(outputDiv, spec, embedOpt)\n",
       "        .catch(err => showError(`Javascript Error: ${err.message}<br>This usually means there's a typo in your chart specification. See the javascript console for the full traceback.`));\n",
       "    }\n",
       "\n",
       "    if(typeof define === \"function\" && define.amd) {\n",
       "      requirejs.config({paths});\n",
       "      require([\"vega-embed\"], displayChart, err => showError(`Error loading script: ${err.message}`));\n",
       "    } else {\n",
       "      maybeLoadScript(\"vega\", \"5\")\n",
       "        .then(() => maybeLoadScript(\"vega-lite\", \"4.17.0\"))\n",
       "        .then(() => maybeLoadScript(\"vega-embed\", \"6\"))\n",
       "        .catch(showError)\n",
       "        .then(() => displayChart(vegaEmbed));\n",
       "    }\n",
       "  })({\"config\": {\"view\": {\"continuousWidth\": 400, \"continuousHeight\": 300, \"stroke\": null}, \"facet\": {\"spacing\": 0}}, \"data\": {\"name\": \"data-0c5bbfb6296800a000b9aebd0d5ea86b\"}, \"facet\": {\"column\": {\"field\": \"route_id\", \"sort\": [\"3641\", \"3640\", \"6799\", \"3638\", \"3639\"], \"title\": \"Route ID\", \"type\": \"nominal\"}}, \"spec\": {\"layer\": [{\"mark\": \"rule\", \"encoding\": {\"color\": {\"value\": \"black\"}, \"y\": {\"field\": \"cutoff\", \"type\": \"quantitative\"}}, \"selection\": {\"selector002\": {\"type\": \"interval\", \"bind\": \"scales\", \"encodings\": [\"x\", \"y\"]}}}, {\"mark\": {\"type\": \"rule\", \"strokeDash\": [3, 3]}, \"encoding\": {\"color\": {\"value\": \"#323434\"}, \"y\": {\"field\": \"cutoff2\", \"type\": \"quantitative\"}}}, {\"mark\": {\"type\": \"point\", \"opacity\": 0.65, \"size\": 12, \"strokeWidth\": 1.1}, \"encoding\": {\"color\": {\"field\": \"time_of_day\", \"scale\": {\"range\": [\"#136C97\", \"#E16B26\", \"#F6BF16\", \"#00896B\", \"#7790A3\", \"#5B559C\"]}, \"sort\": [\"AM Peak\", \"Midday\", \"PM Peak\", \"Owl Service\"], \"title\": \"Time of Day\", \"type\": \"nominal\"}, \"tooltip\": [{\"field\": \"route_id\", \"type\": \"nominal\"}, {\"field\": \"trip_id\", \"type\": \"nominal\"}, {\"field\": \"service_hours\", \"type\": \"quantitative\"}, {\"field\": \"car_duration_hours\", \"type\": \"quantitative\"}, {\"field\": \"bus_multiplier\", \"type\": \"quantitative\"}, {\"field\": \"bus_difference\", \"type\": \"quantitative\"}, {\"field\": \"num_trips\", \"type\": \"quantitative\"}, {\"field\": \"num_competitive\", \"type\": \"quantitative\"}, {\"field\": \"pct_trips_competitive\", \"type\": \"quantitative\"}, {\"field\": \"p25\", \"type\": \"quantitative\"}, {\"field\": \"p50\", \"type\": \"quantitative\"}, {\"field\": \"p75\", \"type\": \"quantitative\"}], \"x\": {\"axis\": {\"grid\": false, \"labels\": false, \"ticks\": true, \"values\": [0]}, \"field\": \"jitter\", \"scale\": {}, \"title\": null, \"type\": \"quantitative\"}, \"y\": {\"field\": \"bus_difference\", \"scale\": {\"domain\": [-5, 26.4]}, \"title\": \"Difference in Bus to Car Travel Time (min)\", \"type\": \"quantitative\"}}, \"transform\": [{\"calculate\": \"sqrt(-2*log(random()))*cos(2*PI*random())\", \"as\": \"jitter\"}], \"width\": 50}, {\"layer\": [{\"mark\": {\"type\": \"point\", \"opacity\": 0.6, \"size\": 20, \"strokeWidth\": 1.3}, \"encoding\": {\"color\": {\"value\": \"#323434\"}, \"y\": {\"field\": \"bus_difference\", \"type\": \"quantitative\"}}, \"transform\": [{\"filter\": \"(datum.p50_trip === 1)\"}]}, {\"mark\": {\"type\": \"text\", \"align\": \"center\", \"baseline\": \"middle\"}, \"encoding\": {\"color\": {\"value\": \"black\"}, \"text\": {\"field\": \"pct_trips_competitive\", \"format\": \".0%\", \"type\": \"quantitative\"}, \"tooltip\": [{\"field\": \"route_id\", \"type\": \"nominal\"}, {\"field\": \"trip_id\", \"type\": \"nominal\"}, {\"field\": \"service_hours\", \"type\": \"quantitative\"}, {\"field\": \"car_duration_hours\", \"type\": \"quantitative\"}, {\"field\": \"bus_multiplier\", \"type\": \"quantitative\"}, {\"field\": \"bus_difference\", \"type\": \"quantitative\"}, {\"field\": \"num_trips\", \"type\": \"quantitative\"}, {\"field\": \"num_competitive\", \"type\": \"quantitative\"}, {\"field\": \"pct_trips_competitive\", \"type\": \"quantitative\"}, {\"field\": \"p25\", \"type\": \"quantitative\"}, {\"field\": \"p50\", \"type\": \"quantitative\"}, {\"field\": \"p75\", \"type\": \"quantitative\"}], \"x\": {\"value\": 30}, \"y\": {\"value\": 15}}, \"transform\": [{\"calculate\": \"sqrt(-2*log(random()))*cos(2*PI*random())\", \"as\": \"jitter\"}, {\"filter\": \"(datum.fastest_trip === 1)\"}]}]}]}, \"resolve\": {\"scale\": {\"y\": \"shared\"}}, \"title\": \"Difference in Bus to Car Travel Time (min)\", \"$schema\": \"https://vega.github.io/schema/vega-lite/v4.17.0.json\", \"datasets\": {\"data-0c5bbfb6296800a000b9aebd0d5ea86b\": [{\"calitp_itp_id\": 337, \"trip_key\": -5417850757404701005, \"trip_id\": \"t_1235934_b_27094_tn_0\", \"shape_id\": \"p_900582\", \"route_id\": \"3638\", \"service_hours\": 0.83, \"trip_first_departure_ts\": 39600, \"trip_last_arrival_ts\": 42600, \"departure_hour\": 11, \"time_of_day\": \"Midday\", \"p25\": 0.83, \"p50\": 0.83, \"p75\": 0.97, \"p50_trip\": 1, \"fastest_trip\": 0, \"car_duration_hours\": 0.67, \"competitive_route\": 1, \"bus_multiplier\": 1.24, \"bus_difference\": 9.6, \"num_trips\": 13, \"num_competitive\": 13, \"pct_trips_competitive\": 1.0, \"bus_difference_spread\": 8.4, \"route_group\": \"short\", \"max_trip_hrs\": 0.97, \"max_trip_route_group\": 0.98, \"name\": \"City of Thousand Oaks\", \"caltrans_district\": \"07 - Los Angeles\", \"drmt_organization_name\": null, \"cutoff2\": 20, \"cutoff\": 0}, {\"calitp_itp_id\": 337, \"trip_key\": 209354926468341269, \"trip_id\": \"t_1235933_b_27094_tn_0\", \"shape_id\": \"p_900582\", \"route_id\": \"3638\", \"service_hours\": 0.83, \"trip_first_departure_ts\": 28800, \"trip_last_arrival_ts\": 31800, \"departure_hour\": 8, \"time_of_day\": \"AM Peak\", \"p25\": 0.83, \"p50\": 0.83, \"p75\": 0.97, \"p50_trip\": 1, \"fastest_trip\": 0, \"car_duration_hours\": 0.67, \"competitive_route\": 1, \"bus_multiplier\": 1.24, \"bus_difference\": 9.6, \"num_trips\": 13, \"num_competitive\": 13, \"pct_trips_competitive\": 1.0, \"bus_difference_spread\": 8.4, \"route_group\": \"short\", \"max_trip_hrs\": 0.97, \"max_trip_route_group\": 0.98, \"name\": \"City of Thousand Oaks\", \"caltrans_district\": \"07 - Los Angeles\", \"drmt_organization_name\": null, \"cutoff2\": 20, \"cutoff\": 0}, {\"calitp_itp_id\": 337, \"trip_key\": -5437739256566684202, \"trip_id\": \"t_1229931_b_27094_tn_0\", \"shape_id\": \"p_900582\", \"route_id\": \"3638\", \"service_hours\": 0.83, \"trip_first_departure_ts\": 25200, \"trip_last_arrival_ts\": 28200, \"departure_hour\": 7, \"time_of_day\": \"AM Peak\", \"p25\": 0.83, \"p50\": 0.83, \"p75\": 0.97, \"p50_trip\": 1, \"fastest_trip\": 0, \"car_duration_hours\": 0.67, \"competitive_route\": 1, \"bus_multiplier\": 1.24, \"bus_difference\": 9.6, \"num_trips\": 13, \"num_competitive\": 13, \"pct_trips_competitive\": 1.0, \"bus_difference_spread\": 8.4, \"route_group\": \"short\", \"max_trip_hrs\": 0.97, \"max_trip_route_group\": 0.98, \"name\": \"City of Thousand Oaks\", \"caltrans_district\": \"07 - Los Angeles\", \"drmt_organization_name\": null, \"cutoff2\": 20, \"cutoff\": 0}, {\"calitp_itp_id\": 337, \"trip_key\": -6621775892395641115, \"trip_id\": \"t_1235937_b_27094_tn_0\", \"shape_id\": \"p_900582\", \"route_id\": \"3638\", \"service_hours\": 0.83, \"trip_first_departure_ts\": 61200, \"trip_last_arrival_ts\": 64200, \"departure_hour\": 17, \"time_of_day\": \"PM Peak\", \"p25\": 0.83, \"p50\": 0.83, \"p75\": 0.97, \"p50_trip\": 1, \"fastest_trip\": 0, \"car_duration_hours\": 0.67, \"competitive_route\": 1, \"bus_multiplier\": 1.24, \"bus_difference\": 9.6, \"num_trips\": 13, \"num_competitive\": 13, \"pct_trips_competitive\": 1.0, \"bus_difference_spread\": 8.4, \"route_group\": \"short\", \"max_trip_hrs\": 0.97, \"max_trip_route_group\": 0.98, \"name\": \"City of Thousand Oaks\", \"caltrans_district\": \"07 - Los Angeles\", \"drmt_organization_name\": null, \"cutoff2\": 20, \"cutoff\": 0}, {\"calitp_itp_id\": 337, \"trip_key\": -6696683000161121359, \"trip_id\": \"t_1235935_b_27094_tn_0\", \"shape_id\": \"p_900582\", \"route_id\": \"3638\", \"service_hours\": 0.83, \"trip_first_departure_ts\": 43200, \"trip_last_arrival_ts\": 46200, \"departure_hour\": 12, \"time_of_day\": \"Midday\", \"p25\": 0.83, \"p50\": 0.83, \"p75\": 0.97, \"p50_trip\": 1, \"fastest_trip\": 0, \"car_duration_hours\": 0.67, \"competitive_route\": 1, \"bus_multiplier\": 1.24, \"bus_difference\": 9.6, \"num_trips\": 13, \"num_competitive\": 13, \"pct_trips_competitive\": 1.0, \"bus_difference_spread\": 8.4, \"route_group\": \"short\", \"max_trip_hrs\": 0.97, \"max_trip_route_group\": 0.98, \"name\": \"City of Thousand Oaks\", \"caltrans_district\": \"07 - Los Angeles\", \"drmt_organization_name\": null, \"cutoff2\": 20, \"cutoff\": 0}, {\"calitp_itp_id\": 337, \"trip_key\": 5506372218916925207, \"trip_id\": \"t_1235938_b_27094_tn_0\", \"shape_id\": \"p_900583\", \"route_id\": \"3638\", \"service_hours\": 0.83, \"trip_first_departure_ts\": 64800, \"trip_last_arrival_ts\": 67800, \"departure_hour\": 18, \"time_of_day\": \"PM Peak\", \"p25\": 0.83, \"p50\": 0.83, \"p75\": 0.97, \"p50_trip\": 1, \"fastest_trip\": 1, \"car_duration_hours\": 0.67, \"competitive_route\": 1, \"bus_multiplier\": 1.24, \"bus_difference\": 9.6, \"num_trips\": 13, \"num_competitive\": 13, \"pct_trips_competitive\": 1.0, \"bus_difference_spread\": 8.4, \"route_group\": \"short\", \"max_trip_hrs\": 0.97, \"max_trip_route_group\": 0.98, \"name\": \"City of Thousand Oaks\", \"caltrans_district\": \"07 - Los Angeles\", \"drmt_organization_name\": null, \"cutoff2\": 20, \"cutoff\": 0}, {\"calitp_itp_id\": 337, \"trip_key\": 4641100964488913718, \"trip_id\": \"t_1235936_b_27094_tn_0\", \"shape_id\": \"p_900582\", \"route_id\": \"3638\", \"service_hours\": 0.83, \"trip_first_departure_ts\": 50400, \"trip_last_arrival_ts\": 53400, \"departure_hour\": 14, \"time_of_day\": \"Midday\", \"p25\": 0.83, \"p50\": 0.83, \"p75\": 0.97, \"p50_trip\": 1, \"fastest_trip\": 0, \"car_duration_hours\": 0.67, \"competitive_route\": 1, \"bus_multiplier\": 1.24, \"bus_difference\": 9.6, \"num_trips\": 13, \"num_competitive\": 13, \"pct_trips_competitive\": 1.0, \"bus_difference_spread\": 8.4, \"route_group\": \"short\", \"max_trip_hrs\": 0.97, \"max_trip_route_group\": 0.98, \"name\": \"City of Thousand Oaks\", \"caltrans_district\": \"07 - Los Angeles\", \"drmt_organization_name\": null, \"cutoff2\": 20, \"cutoff\": 0}, {\"calitp_itp_id\": 337, \"trip_key\": 571110044697681553, \"trip_id\": \"t_1235932_b_27094_tn_0\", \"shape_id\": \"p_900581\", \"route_id\": \"3638\", \"service_hours\": 0.97, \"trip_first_departure_ts\": 57600, \"trip_last_arrival_ts\": 61080, \"departure_hour\": 16, \"time_of_day\": \"Midday\", \"p25\": 0.83, \"p50\": 0.83, \"p75\": 0.97, \"p50_trip\": 0, \"fastest_trip\": 0, \"car_duration_hours\": 0.67, \"competitive_route\": 1, \"bus_multiplier\": 1.45, \"bus_difference\": 18.0, \"num_trips\": 13, \"num_competitive\": 13, \"pct_trips_competitive\": 1.0, \"bus_difference_spread\": 8.4, \"route_group\": \"short\", \"max_trip_hrs\": 0.97, \"max_trip_route_group\": 0.98, \"name\": \"City of Thousand Oaks\", \"caltrans_district\": \"07 - Los Angeles\", \"drmt_organization_name\": null, \"cutoff2\": 20, \"cutoff\": 0}, {\"calitp_itp_id\": 337, \"trip_key\": -1473672104509948238, \"trip_id\": \"t_1235928_b_27094_tn_0\", \"shape_id\": \"p_900581\", \"route_id\": \"3638\", \"service_hours\": 0.97, \"trip_first_departure_ts\": 32400, \"trip_last_arrival_ts\": 35880, \"departure_hour\": 9, \"time_of_day\": \"AM Peak\", \"p25\": 0.83, \"p50\": 0.83, \"p75\": 0.97, \"p50_trip\": 0, \"fastest_trip\": 0, \"car_duration_hours\": 0.67, \"competitive_route\": 1, \"bus_multiplier\": 1.45, \"bus_difference\": 18.0, \"num_trips\": 13, \"num_competitive\": 13, \"pct_trips_competitive\": 1.0, \"bus_difference_spread\": 8.4, \"route_group\": \"short\", \"max_trip_hrs\": 0.97, \"max_trip_route_group\": 0.98, \"name\": \"City of Thousand Oaks\", \"caltrans_district\": \"07 - Los Angeles\", \"drmt_organization_name\": null, \"cutoff2\": 20, \"cutoff\": 0}, {\"calitp_itp_id\": 337, \"trip_key\": -2431505389973254096, \"trip_id\": \"t_1235929_b_27094_tn_0\", \"shape_id\": \"p_900581\", \"route_id\": \"3638\", \"service_hours\": 0.97, \"trip_first_departure_ts\": 36000, \"trip_last_arrival_ts\": 39480, \"departure_hour\": 10, \"time_of_day\": \"Midday\", \"p25\": 0.83, \"p50\": 0.83, \"p75\": 0.97, \"p50_trip\": 0, \"fastest_trip\": 0, \"car_duration_hours\": 0.67, \"competitive_route\": 1, \"bus_multiplier\": 1.45, \"bus_difference\": 18.0, \"num_trips\": 13, \"num_competitive\": 13, \"pct_trips_competitive\": 1.0, \"bus_difference_spread\": 8.4, \"route_group\": \"short\", \"max_trip_hrs\": 0.97, \"max_trip_route_group\": 0.98, \"name\": \"City of Thousand Oaks\", \"caltrans_district\": \"07 - Los Angeles\", \"drmt_organization_name\": null, \"cutoff2\": 20, \"cutoff\": 0}, {\"calitp_itp_id\": 337, \"trip_key\": -8094520911414573698, \"trip_id\": \"t_1235930_b_27094_tn_0\", \"shape_id\": \"p_900581\", \"route_id\": \"3638\", \"service_hours\": 0.97, \"trip_first_departure_ts\": 46800, \"trip_last_arrival_ts\": 50280, \"departure_hour\": 13, \"time_of_day\": \"Midday\", \"p25\": 0.83, \"p50\": 0.83, \"p75\": 0.97, \"p50_trip\": 0, \"fastest_trip\": 0, \"car_duration_hours\": 0.67, \"competitive_route\": 1, \"bus_multiplier\": 1.45, \"bus_difference\": 18.0, \"num_trips\": 13, \"num_competitive\": 13, \"pct_trips_competitive\": 1.0, \"bus_difference_spread\": 8.4, \"route_group\": \"short\", \"max_trip_hrs\": 0.97, \"max_trip_route_group\": 0.98, \"name\": \"City of Thousand Oaks\", \"caltrans_district\": \"07 - Los Angeles\", \"drmt_organization_name\": null, \"cutoff2\": 20, \"cutoff\": 0}, {\"calitp_itp_id\": 337, \"trip_key\": -2064112445706589811, \"trip_id\": \"t_1235931_b_27094_tn_0\", \"shape_id\": \"p_900581\", \"route_id\": \"3638\", \"service_hours\": 0.97, \"trip_first_departure_ts\": 54000, \"trip_last_arrival_ts\": 57480, \"departure_hour\": 15, \"time_of_day\": \"Midday\", \"p25\": 0.83, \"p50\": 0.83, \"p75\": 0.97, \"p50_trip\": 0, \"fastest_trip\": 0, \"car_duration_hours\": 0.67, \"competitive_route\": 1, \"bus_multiplier\": 1.45, \"bus_difference\": 18.0, \"num_trips\": 13, \"num_competitive\": 13, \"pct_trips_competitive\": 1.0, \"bus_difference_spread\": 8.4, \"route_group\": \"short\", \"max_trip_hrs\": 0.97, \"max_trip_route_group\": 0.98, \"name\": \"City of Thousand Oaks\", \"caltrans_district\": \"07 - Los Angeles\", \"drmt_organization_name\": null, \"cutoff2\": 20, \"cutoff\": 0}, {\"calitp_itp_id\": 337, \"trip_key\": -8357797015416377564, \"trip_id\": \"t_1229925_b_27094_tn_0\", \"shape_id\": \"p_900581\", \"route_id\": \"3638\", \"service_hours\": 0.97, \"trip_first_departure_ts\": 21600, \"trip_last_arrival_ts\": 25080, \"departure_hour\": 6, \"time_of_day\": \"Owl Service\", \"p25\": 0.83, \"p50\": 0.83, \"p75\": 0.97, \"p50_trip\": 0, \"fastest_trip\": 0, \"car_duration_hours\": 0.67, \"competitive_route\": 1, \"bus_multiplier\": 1.45, \"bus_difference\": 18.0, \"num_trips\": 13, \"num_competitive\": 13, \"pct_trips_competitive\": 1.0, \"bus_difference_spread\": 8.4, \"route_group\": \"short\", \"max_trip_hrs\": 0.97, \"max_trip_route_group\": 0.98, \"name\": \"City of Thousand Oaks\", \"caltrans_district\": \"07 - Los Angeles\", \"drmt_organization_name\": null, \"cutoff2\": 20, \"cutoff\": 0}, {\"calitp_itp_id\": 337, \"trip_key\": 6356284930724495451, \"trip_id\": \"t_1235940_b_27094_tn_0\", \"shape_id\": \"p_900590\", \"route_id\": \"3639\", \"service_hours\": 0.73, \"trip_first_departure_ts\": 64800, \"trip_last_arrival_ts\": 67440, \"departure_hour\": 18, \"time_of_day\": \"PM Peak\", \"p25\": 0.83, \"p50\": 0.83, \"p75\": 0.83, \"p50_trip\": 0, \"fastest_trip\": 1, \"car_duration_hours\": 0.51, \"competitive_route\": 1, \"bus_multiplier\": 1.43, \"bus_difference\": 13.2, \"num_trips\": 13, \"num_competitive\": 13, \"pct_trips_competitive\": 1.0, \"bus_difference_spread\": 6.0, \"route_group\": \"short\", \"max_trip_hrs\": 0.83, \"max_trip_route_group\": 0.98, \"name\": \"City of Thousand Oaks\", \"caltrans_district\": \"07 - Los Angeles\", \"drmt_organization_name\": null, \"cutoff2\": 20, \"cutoff\": 0}, {\"calitp_itp_id\": 337, \"trip_key\": 1104654808723534942, \"trip_id\": \"t_1317286_b_27094_tn_0\", \"shape_id\": \"p_111149\", \"route_id\": \"3639\", \"service_hours\": 0.83, \"trip_first_departure_ts\": 32400, \"trip_last_arrival_ts\": 35400, \"departure_hour\": 9, \"time_of_day\": \"AM Peak\", \"p25\": 0.83, \"p50\": 0.83, \"p75\": 0.83, \"p50_trip\": 1, \"fastest_trip\": 0, \"car_duration_hours\": 0.51, \"competitive_route\": 1, \"bus_multiplier\": 1.63, \"bus_difference\": 19.2, \"num_trips\": 13, \"num_competitive\": 13, \"pct_trips_competitive\": 1.0, \"bus_difference_spread\": 6.0, \"route_group\": \"short\", \"max_trip_hrs\": 0.83, \"max_trip_route_group\": 0.98, \"name\": \"City of Thousand Oaks\", \"caltrans_district\": \"07 - Los Angeles\", \"drmt_organization_name\": null, \"cutoff2\": 20, \"cutoff\": 0}, {\"calitp_itp_id\": 337, \"trip_key\": 7096089844723651939, \"trip_id\": \"t_1230045_b_27094_tn_0\", \"shape_id\": \"p_111149\", \"route_id\": \"3639\", \"service_hours\": 0.83, \"trip_first_departure_ts\": 21600, \"trip_last_arrival_ts\": 24600, \"departure_hour\": 6, \"time_of_day\": \"Owl Service\", \"p25\": 0.83, \"p50\": 0.83, \"p75\": 0.83, \"p50_trip\": 1, \"fastest_trip\": 0, \"car_duration_hours\": 0.51, \"competitive_route\": 1, \"bus_multiplier\": 1.63, \"bus_difference\": 19.2, \"num_trips\": 13, \"num_competitive\": 13, \"pct_trips_competitive\": 1.0, \"bus_difference_spread\": 6.0, \"route_group\": \"short\", \"max_trip_hrs\": 0.83, \"max_trip_route_group\": 0.98, \"name\": \"City of Thousand Oaks\", \"caltrans_district\": \"07 - Los Angeles\", \"drmt_organization_name\": null, \"cutoff2\": 20, \"cutoff\": 0}, {\"calitp_itp_id\": 337, \"trip_key\": 2304713837515405250, \"trip_id\": \"t_1317285_b_27094_tn_0\", \"shape_id\": \"p_111149\", \"route_id\": \"3639\", \"service_hours\": 0.83, \"trip_first_departure_ts\": 28800, \"trip_last_arrival_ts\": 31800, \"departure_hour\": 8, \"time_of_day\": \"AM Peak\", \"p25\": 0.83, \"p50\": 0.83, \"p75\": 0.83, \"p50_trip\": 1, \"fastest_trip\": 0, \"car_duration_hours\": 0.51, \"competitive_route\": 1, \"bus_multiplier\": 1.63, \"bus_difference\": 19.2, \"num_trips\": 13, \"num_competitive\": 13, \"pct_trips_competitive\": 1.0, \"bus_difference_spread\": 6.0, \"route_group\": \"short\", \"max_trip_hrs\": 0.83, \"max_trip_route_group\": 0.98, \"name\": \"City of Thousand Oaks\", \"caltrans_district\": \"07 - Los Angeles\", \"drmt_organization_name\": null, \"cutoff2\": 20, \"cutoff\": 0}, {\"calitp_itp_id\": 337, \"trip_key\": 527502444819434170, \"trip_id\": \"t_1317290_b_27094_tn_0\", \"shape_id\": \"p_111149\", \"route_id\": \"3639\", \"service_hours\": 0.83, \"trip_first_departure_ts\": 46800, \"trip_last_arrival_ts\": 49800, \"departure_hour\": 13, \"time_of_day\": \"Midday\", \"p25\": 0.83, \"p50\": 0.83, \"p75\": 0.83, \"p50_trip\": 1, \"fastest_trip\": 0, \"car_duration_hours\": 0.51, \"competitive_route\": 1, \"bus_multiplier\": 1.63, \"bus_difference\": 19.2, \"num_trips\": 13, \"num_competitive\": 13, \"pct_trips_competitive\": 1.0, \"bus_difference_spread\": 6.0, \"route_group\": \"short\", \"max_trip_hrs\": 0.83, \"max_trip_route_group\": 0.98, \"name\": \"City of Thousand Oaks\", \"caltrans_district\": \"07 - Los Angeles\", \"drmt_organization_name\": null, \"cutoff2\": 20, \"cutoff\": 0}, {\"calitp_itp_id\": 337, \"trip_key\": -5346827477957330776, \"trip_id\": \"t_1317291_b_27094_tn_0\", \"shape_id\": \"p_111149\", \"route_id\": \"3639\", \"service_hours\": 0.83, \"trip_first_departure_ts\": 50400, \"trip_last_arrival_ts\": 53400, \"departure_hour\": 14, \"time_of_day\": \"Midday\", \"p25\": 0.83, \"p50\": 0.83, \"p75\": 0.83, \"p50_trip\": 1, \"fastest_trip\": 0, \"car_duration_hours\": 0.51, \"competitive_route\": 1, \"bus_multiplier\": 1.63, \"bus_difference\": 19.2, \"num_trips\": 13, \"num_competitive\": 13, \"pct_trips_competitive\": 1.0, \"bus_difference_spread\": 6.0, \"route_group\": \"short\", \"max_trip_hrs\": 0.83, \"max_trip_route_group\": 0.98, \"name\": \"City of Thousand Oaks\", \"caltrans_district\": \"07 - Los Angeles\", \"drmt_organization_name\": null, \"cutoff2\": 20, \"cutoff\": 0}, {\"calitp_itp_id\": 337, \"trip_key\": -8134904347792543278, \"trip_id\": \"t_1317288_b_27094_tn_0\", \"shape_id\": \"p_111149\", \"route_id\": \"3639\", \"service_hours\": 0.83, \"trip_first_departure_ts\": 39600, \"trip_last_arrival_ts\": 42600, \"departure_hour\": 11, \"time_of_day\": \"Midday\", \"p25\": 0.83, \"p50\": 0.83, \"p75\": 0.83, \"p50_trip\": 1, \"fastest_trip\": 0, \"car_duration_hours\": 0.51, \"competitive_route\": 1, \"bus_multiplier\": 1.63, \"bus_difference\": 19.2, \"num_trips\": 13, \"num_competitive\": 13, \"pct_trips_competitive\": 1.0, \"bus_difference_spread\": 6.0, \"route_group\": \"short\", \"max_trip_hrs\": 0.83, \"max_trip_route_group\": 0.98, \"name\": \"City of Thousand Oaks\", \"caltrans_district\": \"07 - Los Angeles\", \"drmt_organization_name\": null, \"cutoff2\": 20, \"cutoff\": 0}, {\"calitp_itp_id\": 337, \"trip_key\": -8681561676251272436, \"trip_id\": \"t_1317294_b_27094_tn_0\", \"shape_id\": \"p_111149\", \"route_id\": \"3639\", \"service_hours\": 0.83, \"trip_first_departure_ts\": 61200, \"trip_last_arrival_ts\": 64200, \"departure_hour\": 17, \"time_of_day\": \"PM Peak\", \"p25\": 0.83, \"p50\": 0.83, \"p75\": 0.83, \"p50_trip\": 1, \"fastest_trip\": 0, \"car_duration_hours\": 0.51, \"competitive_route\": 1, \"bus_multiplier\": 1.63, \"bus_difference\": 19.2, \"num_trips\": 13, \"num_competitive\": 13, \"pct_trips_competitive\": 1.0, \"bus_difference_spread\": 6.0, \"route_group\": \"short\", \"max_trip_hrs\": 0.83, \"max_trip_route_group\": 0.98, \"name\": \"City of Thousand Oaks\", \"caltrans_district\": \"07 - Los Angeles\", \"drmt_organization_name\": null, \"cutoff2\": 20, \"cutoff\": 0}, {\"calitp_itp_id\": 337, \"trip_key\": 3003466328050706760, \"trip_id\": \"t_1317289_b_27094_tn_0\", \"shape_id\": \"p_111149\", \"route_id\": \"3639\", \"service_hours\": 0.83, \"trip_first_departure_ts\": 43200, \"trip_last_arrival_ts\": 46200, \"departure_hour\": 12, \"time_of_day\": \"Midday\", \"p25\": 0.83, \"p50\": 0.83, \"p75\": 0.83, \"p50_trip\": 1, \"fastest_trip\": 0, \"car_duration_hours\": 0.51, \"competitive_route\": 1, \"bus_multiplier\": 1.63, \"bus_difference\": 19.2, \"num_trips\": 13, \"num_competitive\": 13, \"pct_trips_competitive\": 1.0, \"bus_difference_spread\": 6.0, \"route_group\": \"short\", \"max_trip_hrs\": 0.83, \"max_trip_route_group\": 0.98, \"name\": \"City of Thousand Oaks\", \"caltrans_district\": \"07 - Los Angeles\", \"drmt_organization_name\": null, \"cutoff2\": 20, \"cutoff\": 0}, {\"calitp_itp_id\": 337, \"trip_key\": -5915891417952522518, \"trip_id\": \"t_1230046_b_27094_tn_0\", \"shape_id\": \"p_111149\", \"route_id\": \"3639\", \"service_hours\": 0.83, \"trip_first_departure_ts\": 25200, \"trip_last_arrival_ts\": 28200, \"departure_hour\": 7, \"time_of_day\": \"AM Peak\", \"p25\": 0.83, \"p50\": 0.83, \"p75\": 0.83, \"p50_trip\": 1, \"fastest_trip\": 0, \"car_duration_hours\": 0.51, \"competitive_route\": 1, \"bus_multiplier\": 1.63, \"bus_difference\": 19.2, \"num_trips\": 13, \"num_competitive\": 13, \"pct_trips_competitive\": 1.0, \"bus_difference_spread\": 6.0, \"route_group\": \"short\", \"max_trip_hrs\": 0.83, \"max_trip_route_group\": 0.98, \"name\": \"City of Thousand Oaks\", \"caltrans_district\": \"07 - Los Angeles\", \"drmt_organization_name\": null, \"cutoff2\": 20, \"cutoff\": 0}, {\"calitp_itp_id\": 337, \"trip_key\": -1138834084274760611, \"trip_id\": \"t_1317293_b_27094_tn_0\", \"shape_id\": \"p_111149\", \"route_id\": \"3639\", \"service_hours\": 0.83, \"trip_first_departure_ts\": 57600, \"trip_last_arrival_ts\": 60600, \"departure_hour\": 16, \"time_of_day\": \"Midday\", \"p25\": 0.83, \"p50\": 0.83, \"p75\": 0.83, \"p50_trip\": 1, \"fastest_trip\": 0, \"car_duration_hours\": 0.51, \"competitive_route\": 1, \"bus_multiplier\": 1.63, \"bus_difference\": 19.2, \"num_trips\": 13, \"num_competitive\": 13, \"pct_trips_competitive\": 1.0, \"bus_difference_spread\": 6.0, \"route_group\": \"short\", \"max_trip_hrs\": 0.83, \"max_trip_route_group\": 0.98, \"name\": \"City of Thousand Oaks\", \"caltrans_district\": \"07 - Los Angeles\", \"drmt_organization_name\": null, \"cutoff2\": 20, \"cutoff\": 0}, {\"calitp_itp_id\": 337, \"trip_key\": -3297138022389221325, \"trip_id\": \"t_1317292_b_27094_tn_0\", \"shape_id\": \"p_111149\", \"route_id\": \"3639\", \"service_hours\": 0.83, \"trip_first_departure_ts\": 54000, \"trip_last_arrival_ts\": 57000, \"departure_hour\": 15, \"time_of_day\": \"Midday\", \"p25\": 0.83, \"p50\": 0.83, \"p75\": 0.83, \"p50_trip\": 1, \"fastest_trip\": 0, \"car_duration_hours\": 0.51, \"competitive_route\": 1, \"bus_multiplier\": 1.63, \"bus_difference\": 19.2, \"num_trips\": 13, \"num_competitive\": 13, \"pct_trips_competitive\": 1.0, \"bus_difference_spread\": 6.0, \"route_group\": \"short\", \"max_trip_hrs\": 0.83, \"max_trip_route_group\": 0.98, \"name\": \"City of Thousand Oaks\", \"caltrans_district\": \"07 - Los Angeles\", \"drmt_organization_name\": null, \"cutoff2\": 20, \"cutoff\": 0}, {\"calitp_itp_id\": 337, \"trip_key\": 2804499718300023424, \"trip_id\": \"t_1317287_b_27094_tn_0\", \"shape_id\": \"p_111149\", \"route_id\": \"3639\", \"service_hours\": 0.83, \"trip_first_departure_ts\": 36000, \"trip_last_arrival_ts\": 39000, \"departure_hour\": 10, \"time_of_day\": \"Midday\", \"p25\": 0.83, \"p50\": 0.83, \"p75\": 0.83, \"p50_trip\": 1, \"fastest_trip\": 0, \"car_duration_hours\": 0.51, \"competitive_route\": 1, \"bus_multiplier\": 1.63, \"bus_difference\": 19.2, \"num_trips\": 13, \"num_competitive\": 13, \"pct_trips_competitive\": 1.0, \"bus_difference_spread\": 6.0, \"route_group\": \"short\", \"max_trip_hrs\": 0.83, \"max_trip_route_group\": 0.98, \"name\": \"City of Thousand Oaks\", \"caltrans_district\": \"07 - Los Angeles\", \"drmt_organization_name\": null, \"cutoff2\": 20, \"cutoff\": 0}, {\"calitp_itp_id\": 337, \"trip_key\": 1358325327274590038, \"trip_id\": \"t_1317307_b_27094_tn_0\", \"shape_id\": \"p_900592\", \"route_id\": \"3640\", \"service_hours\": 0.82, \"trip_first_departure_ts\": 32400, \"trip_last_arrival_ts\": 35340, \"departure_hour\": 9, \"time_of_day\": \"AM Peak\", \"p25\": 0.82, \"p50\": 0.82, \"p75\": 0.82, \"p50_trip\": 1, \"fastest_trip\": 0, \"car_duration_hours\": 0.62, \"competitive_route\": 1, \"bus_multiplier\": 1.32, \"bus_difference\": 12.0, \"num_trips\": 13, \"num_competitive\": 13, \"pct_trips_competitive\": 1.0, \"bus_difference_spread\": 0.0, \"route_group\": \"short\", \"max_trip_hrs\": 0.82, \"max_trip_route_group\": 0.98, \"name\": \"City of Thousand Oaks\", \"caltrans_district\": \"07 - Los Angeles\", \"drmt_organization_name\": null, \"cutoff2\": 20, \"cutoff\": 0}, {\"calitp_itp_id\": 337, \"trip_key\": 3527914113114180610, \"trip_id\": \"t_1317316_b_27094_tn_0\", \"shape_id\": \"p_900592\", \"route_id\": \"3640\", \"service_hours\": 0.82, \"trip_first_departure_ts\": 64800, \"trip_last_arrival_ts\": 67740, \"departure_hour\": 18, \"time_of_day\": \"PM Peak\", \"p25\": 0.82, \"p50\": 0.82, \"p75\": 0.82, \"p50_trip\": 1, \"fastest_trip\": 1, \"car_duration_hours\": 0.62, \"competitive_route\": 1, \"bus_multiplier\": 1.32, \"bus_difference\": 12.0, \"num_trips\": 13, \"num_competitive\": 13, \"pct_trips_competitive\": 1.0, \"bus_difference_spread\": 0.0, \"route_group\": \"short\", \"max_trip_hrs\": 0.82, \"max_trip_route_group\": 0.98, \"name\": \"City of Thousand Oaks\", \"caltrans_district\": \"07 - Los Angeles\", \"drmt_organization_name\": null, \"cutoff2\": 20, \"cutoff\": 0}, {\"calitp_itp_id\": 337, \"trip_key\": -5815335661553103789, \"trip_id\": \"t_1317308_b_27094_tn_0\", \"shape_id\": \"p_900592\", \"route_id\": \"3640\", \"service_hours\": 0.82, \"trip_first_departure_ts\": 36000, \"trip_last_arrival_ts\": 38940, \"departure_hour\": 10, \"time_of_day\": \"Midday\", \"p25\": 0.82, \"p50\": 0.82, \"p75\": 0.82, \"p50_trip\": 1, \"fastest_trip\": 0, \"car_duration_hours\": 0.62, \"competitive_route\": 1, \"bus_multiplier\": 1.32, \"bus_difference\": 12.0, \"num_trips\": 13, \"num_competitive\": 13, \"pct_trips_competitive\": 1.0, \"bus_difference_spread\": 0.0, \"route_group\": \"short\", \"max_trip_hrs\": 0.82, \"max_trip_route_group\": 0.98, \"name\": \"City of Thousand Oaks\", \"caltrans_district\": \"07 - Los Angeles\", \"drmt_organization_name\": null, \"cutoff2\": 20, \"cutoff\": 0}, {\"calitp_itp_id\": 337, \"trip_key\": -5078553225780790204, \"trip_id\": \"t_1317314_b_27094_tn_0\", \"shape_id\": \"p_900592\", \"route_id\": \"3640\", \"service_hours\": 0.82, \"trip_first_departure_ts\": 57600, \"trip_last_arrival_ts\": 60540, \"departure_hour\": 16, \"time_of_day\": \"Midday\", \"p25\": 0.82, \"p50\": 0.82, \"p75\": 0.82, \"p50_trip\": 1, \"fastest_trip\": 0, \"car_duration_hours\": 0.62, \"competitive_route\": 1, \"bus_multiplier\": 1.32, \"bus_difference\": 12.0, \"num_trips\": 13, \"num_competitive\": 13, \"pct_trips_competitive\": 1.0, \"bus_difference_spread\": 0.0, \"route_group\": \"short\", \"max_trip_hrs\": 0.82, \"max_trip_route_group\": 0.98, \"name\": \"City of Thousand Oaks\", \"caltrans_district\": \"07 - Los Angeles\", \"drmt_organization_name\": null, \"cutoff2\": 20, \"cutoff\": 0}, {\"calitp_itp_id\": 337, \"trip_key\": 5326212799935033881, \"trip_id\": \"t_1317311_b_27094_tn_0\", \"shape_id\": \"p_900592\", \"route_id\": \"3640\", \"service_hours\": 0.82, \"trip_first_departure_ts\": 46800, \"trip_last_arrival_ts\": 49740, \"departure_hour\": 13, \"time_of_day\": \"Midday\", \"p25\": 0.82, \"p50\": 0.82, \"p75\": 0.82, \"p50_trip\": 1, \"fastest_trip\": 0, \"car_duration_hours\": 0.62, \"competitive_route\": 1, \"bus_multiplier\": 1.32, \"bus_difference\": 12.0, \"num_trips\": 13, \"num_competitive\": 13, \"pct_trips_competitive\": 1.0, \"bus_difference_spread\": 0.0, \"route_group\": \"short\", \"max_trip_hrs\": 0.82, \"max_trip_route_group\": 0.98, \"name\": \"City of Thousand Oaks\", \"caltrans_district\": \"07 - Los Angeles\", \"drmt_organization_name\": null, \"cutoff2\": 20, \"cutoff\": 0}, {\"calitp_itp_id\": 337, \"trip_key\": -2831959076268491258, \"trip_id\": \"t_1230056_b_27094_tn_0\", \"shape_id\": \"p_900592\", \"route_id\": \"3640\", \"service_hours\": 0.82, \"trip_first_departure_ts\": 25200, \"trip_last_arrival_ts\": 28140, \"departure_hour\": 7, \"time_of_day\": \"AM Peak\", \"p25\": 0.82, \"p50\": 0.82, \"p75\": 0.82, \"p50_trip\": 1, \"fastest_trip\": 0, \"car_duration_hours\": 0.62, \"competitive_route\": 1, \"bus_multiplier\": 1.32, \"bus_difference\": 12.0, \"num_trips\": 13, \"num_competitive\": 13, \"pct_trips_competitive\": 1.0, \"bus_difference_spread\": 0.0, \"route_group\": \"short\", \"max_trip_hrs\": 0.82, \"max_trip_route_group\": 0.98, \"name\": \"City of Thousand Oaks\", \"caltrans_district\": \"07 - Los Angeles\", \"drmt_organization_name\": null, \"cutoff2\": 20, \"cutoff\": 0}, {\"calitp_itp_id\": 337, \"trip_key\": -4037674381576649544, \"trip_id\": \"t_1317306_b_27094_tn_0\", \"shape_id\": \"p_900592\", \"route_id\": \"3640\", \"service_hours\": 0.82, \"trip_first_departure_ts\": 28800, \"trip_last_arrival_ts\": 31740, \"departure_hour\": 8, \"time_of_day\": \"AM Peak\", \"p25\": 0.82, \"p50\": 0.82, \"p75\": 0.82, \"p50_trip\": 1, \"fastest_trip\": 0, \"car_duration_hours\": 0.62, \"competitive_route\": 1, \"bus_multiplier\": 1.32, \"bus_difference\": 12.0, \"num_trips\": 13, \"num_competitive\": 13, \"pct_trips_competitive\": 1.0, \"bus_difference_spread\": 0.0, \"route_group\": \"short\", \"max_trip_hrs\": 0.82, \"max_trip_route_group\": 0.98, \"name\": \"City of Thousand Oaks\", \"caltrans_district\": \"07 - Los Angeles\", \"drmt_organization_name\": null, \"cutoff2\": 20, \"cutoff\": 0}, {\"calitp_itp_id\": 337, \"trip_key\": 8032959870998234560, \"trip_id\": \"t_1317312_b_27094_tn_0\", \"shape_id\": \"p_900592\", \"route_id\": \"3640\", \"service_hours\": 0.82, \"trip_first_departure_ts\": 50400, \"trip_last_arrival_ts\": 53340, \"departure_hour\": 14, \"time_of_day\": \"Midday\", \"p25\": 0.82, \"p50\": 0.82, \"p75\": 0.82, \"p50_trip\": 1, \"fastest_trip\": 0, \"car_duration_hours\": 0.62, \"competitive_route\": 1, \"bus_multiplier\": 1.32, \"bus_difference\": 12.0, \"num_trips\": 13, \"num_competitive\": 13, \"pct_trips_competitive\": 1.0, \"bus_difference_spread\": 0.0, \"route_group\": \"short\", \"max_trip_hrs\": 0.82, \"max_trip_route_group\": 0.98, \"name\": \"City of Thousand Oaks\", \"caltrans_district\": \"07 - Los Angeles\", \"drmt_organization_name\": null, \"cutoff2\": 20, \"cutoff\": 0}, {\"calitp_itp_id\": 337, \"trip_key\": -7808968342740784205, \"trip_id\": \"t_1317313_b_27094_tn_0\", \"shape_id\": \"p_900592\", \"route_id\": \"3640\", \"service_hours\": 0.82, \"trip_first_departure_ts\": 54000, \"trip_last_arrival_ts\": 56940, \"departure_hour\": 15, \"time_of_day\": \"Midday\", \"p25\": 0.82, \"p50\": 0.82, \"p75\": 0.82, \"p50_trip\": 1, \"fastest_trip\": 0, \"car_duration_hours\": 0.62, \"competitive_route\": 1, \"bus_multiplier\": 1.32, \"bus_difference\": 12.0, \"num_trips\": 13, \"num_competitive\": 13, \"pct_trips_competitive\": 1.0, \"bus_difference_spread\": 0.0, \"route_group\": \"short\", \"max_trip_hrs\": 0.82, \"max_trip_route_group\": 0.98, \"name\": \"City of Thousand Oaks\", \"caltrans_district\": \"07 - Los Angeles\", \"drmt_organization_name\": null, \"cutoff2\": 20, \"cutoff\": 0}, {\"calitp_itp_id\": 337, \"trip_key\": 174905476332898893, \"trip_id\": \"t_1317315_b_27094_tn_0\", \"shape_id\": \"p_900592\", \"route_id\": \"3640\", \"service_hours\": 0.82, \"trip_first_departure_ts\": 61200, \"trip_last_arrival_ts\": 64140, \"departure_hour\": 17, \"time_of_day\": \"PM Peak\", \"p25\": 0.82, \"p50\": 0.82, \"p75\": 0.82, \"p50_trip\": 1, \"fastest_trip\": 0, \"car_duration_hours\": 0.62, \"competitive_route\": 1, \"bus_multiplier\": 1.32, \"bus_difference\": 12.0, \"num_trips\": 13, \"num_competitive\": 13, \"pct_trips_competitive\": 1.0, \"bus_difference_spread\": 0.0, \"route_group\": \"short\", \"max_trip_hrs\": 0.82, \"max_trip_route_group\": 0.98, \"name\": \"City of Thousand Oaks\", \"caltrans_district\": \"07 - Los Angeles\", \"drmt_organization_name\": null, \"cutoff2\": 20, \"cutoff\": 0}, {\"calitp_itp_id\": 337, \"trip_key\": 1386274926039851253, \"trip_id\": \"t_1230055_b_27094_tn_0\", \"shape_id\": \"p_900592\", \"route_id\": \"3640\", \"service_hours\": 0.82, \"trip_first_departure_ts\": 21600, \"trip_last_arrival_ts\": 24540, \"departure_hour\": 6, \"time_of_day\": \"Owl Service\", \"p25\": 0.82, \"p50\": 0.82, \"p75\": 0.82, \"p50_trip\": 1, \"fastest_trip\": 0, \"car_duration_hours\": 0.62, \"competitive_route\": 1, \"bus_multiplier\": 1.32, \"bus_difference\": 12.0, \"num_trips\": 13, \"num_competitive\": 13, \"pct_trips_competitive\": 1.0, \"bus_difference_spread\": 0.0, \"route_group\": \"short\", \"max_trip_hrs\": 0.82, \"max_trip_route_group\": 0.98, \"name\": \"City of Thousand Oaks\", \"caltrans_district\": \"07 - Los Angeles\", \"drmt_organization_name\": null, \"cutoff2\": 20, \"cutoff\": 0}, {\"calitp_itp_id\": 337, \"trip_key\": -3608918615386158952, \"trip_id\": \"t_1317309_b_27094_tn_0\", \"shape_id\": \"p_900592\", \"route_id\": \"3640\", \"service_hours\": 0.82, \"trip_first_departure_ts\": 39600, \"trip_last_arrival_ts\": 42540, \"departure_hour\": 11, \"time_of_day\": \"Midday\", \"p25\": 0.82, \"p50\": 0.82, \"p75\": 0.82, \"p50_trip\": 1, \"fastest_trip\": 0, \"car_duration_hours\": 0.62, \"competitive_route\": 1, \"bus_multiplier\": 1.32, \"bus_difference\": 12.0, \"num_trips\": 13, \"num_competitive\": 13, \"pct_trips_competitive\": 1.0, \"bus_difference_spread\": 0.0, \"route_group\": \"short\", \"max_trip_hrs\": 0.82, \"max_trip_route_group\": 0.98, \"name\": \"City of Thousand Oaks\", \"caltrans_district\": \"07 - Los Angeles\", \"drmt_organization_name\": null, \"cutoff2\": 20, \"cutoff\": 0}, {\"calitp_itp_id\": 337, \"trip_key\": 4442988126574455679, \"trip_id\": \"t_1317310_b_27094_tn_0\", \"shape_id\": \"p_900592\", \"route_id\": \"3640\", \"service_hours\": 0.82, \"trip_first_departure_ts\": 43200, \"trip_last_arrival_ts\": 46140, \"departure_hour\": 12, \"time_of_day\": \"Midday\", \"p25\": 0.82, \"p50\": 0.82, \"p75\": 0.82, \"p50_trip\": 1, \"fastest_trip\": 0, \"car_duration_hours\": 0.62, \"competitive_route\": 1, \"bus_multiplier\": 1.32, \"bus_difference\": 12.0, \"num_trips\": 13, \"num_competitive\": 13, \"pct_trips_competitive\": 1.0, \"bus_difference_spread\": 0.0, \"route_group\": \"short\", \"max_trip_hrs\": 0.82, \"max_trip_route_group\": 0.98, \"name\": \"City of Thousand Oaks\", \"caltrans_district\": \"07 - Los Angeles\", \"drmt_organization_name\": null, \"cutoff2\": 20, \"cutoff\": 0}, {\"calitp_itp_id\": 337, \"trip_key\": 6101094481849918654, \"trip_id\": \"t_1317322_b_27094_tn_0\", \"shape_id\": \"p_900594\", \"route_id\": \"3641\", \"service_hours\": 0.65, \"trip_first_departure_ts\": 29400, \"trip_last_arrival_ts\": 31740, \"departure_hour\": 8, \"time_of_day\": \"AM Peak\", \"p25\": 0.65, \"p50\": 0.65, \"p75\": 0.98, \"p50_trip\": 1, \"fastest_trip\": 0, \"car_duration_hours\": 0.54, \"competitive_route\": 1, \"bus_multiplier\": 1.2, \"bus_difference\": 6.6, \"num_trips\": 13, \"num_competitive\": 13, \"pct_trips_competitive\": 1.0, \"bus_difference_spread\": 19.8, \"route_group\": \"short\", \"max_trip_hrs\": 0.98, \"max_trip_route_group\": 0.98, \"name\": \"City of Thousand Oaks\", \"caltrans_district\": \"07 - Los Angeles\", \"drmt_organization_name\": null, \"cutoff2\": 20, \"cutoff\": 0}, {\"calitp_itp_id\": 337, \"trip_key\": 2825519637592921543, \"trip_id\": \"t_1317325_b_27094_tn_0\", \"shape_id\": \"p_900594\", \"route_id\": \"3641\", \"service_hours\": 0.65, \"trip_first_departure_ts\": 51000, \"trip_last_arrival_ts\": 53340, \"departure_hour\": 14, \"time_of_day\": \"Midday\", \"p25\": 0.65, \"p50\": 0.65, \"p75\": 0.98, \"p50_trip\": 1, \"fastest_trip\": 0, \"car_duration_hours\": 0.54, \"competitive_route\": 1, \"bus_multiplier\": 1.2, \"bus_difference\": 6.6, \"num_trips\": 13, \"num_competitive\": 13, \"pct_trips_competitive\": 1.0, \"bus_difference_spread\": 19.8, \"route_group\": \"short\", \"max_trip_hrs\": 0.98, \"max_trip_route_group\": 0.98, \"name\": \"City of Thousand Oaks\", \"caltrans_district\": \"07 - Los Angeles\", \"drmt_organization_name\": null, \"cutoff2\": 20, \"cutoff\": 0}, {\"calitp_itp_id\": 337, \"trip_key\": 8606260441039250374, \"trip_id\": \"t_1230059_b_27094_tn_0\", \"shape_id\": \"p_900594\", \"route_id\": \"3641\", \"service_hours\": 0.65, \"trip_first_departure_ts\": 22200, \"trip_last_arrival_ts\": 24540, \"departure_hour\": 6, \"time_of_day\": \"Owl Service\", \"p25\": 0.65, \"p50\": 0.65, \"p75\": 0.98, \"p50_trip\": 1, \"fastest_trip\": 0, \"car_duration_hours\": 0.54, \"competitive_route\": 1, \"bus_multiplier\": 1.2, \"bus_difference\": 6.6, \"num_trips\": 13, \"num_competitive\": 13, \"pct_trips_competitive\": 1.0, \"bus_difference_spread\": 19.8, \"route_group\": \"short\", \"max_trip_hrs\": 0.98, \"max_trip_route_group\": 0.98, \"name\": \"City of Thousand Oaks\", \"caltrans_district\": \"07 - Los Angeles\", \"drmt_organization_name\": null, \"cutoff2\": 20, \"cutoff\": 0}, {\"calitp_itp_id\": 337, \"trip_key\": -6862196731422607109, \"trip_id\": \"t_1317326_b_27094_tn_0\", \"shape_id\": \"p_900594\", \"route_id\": \"3641\", \"service_hours\": 0.65, \"trip_first_departure_ts\": 58200, \"trip_last_arrival_ts\": 60540, \"departure_hour\": 16, \"time_of_day\": \"Midday\", \"p25\": 0.65, \"p50\": 0.65, \"p75\": 0.98, \"p50_trip\": 1, \"fastest_trip\": 0, \"car_duration_hours\": 0.54, \"competitive_route\": 1, \"bus_multiplier\": 1.2, \"bus_difference\": 6.6, \"num_trips\": 13, \"num_competitive\": 13, \"pct_trips_competitive\": 1.0, \"bus_difference_spread\": 19.8, \"route_group\": \"short\", \"max_trip_hrs\": 0.98, \"max_trip_route_group\": 0.98, \"name\": \"City of Thousand Oaks\", \"caltrans_district\": \"07 - Los Angeles\", \"drmt_organization_name\": null, \"cutoff2\": 20, \"cutoff\": 0}, {\"calitp_itp_id\": 337, \"trip_key\": 8574213800508560280, \"trip_id\": \"t_1317324_b_27094_tn_0\", \"shape_id\": \"p_900594\", \"route_id\": \"3641\", \"service_hours\": 0.65, \"trip_first_departure_ts\": 43800, \"trip_last_arrival_ts\": 46140, \"departure_hour\": 12, \"time_of_day\": \"Midday\", \"p25\": 0.65, \"p50\": 0.65, \"p75\": 0.98, \"p50_trip\": 1, \"fastest_trip\": 0, \"car_duration_hours\": 0.54, \"competitive_route\": 1, \"bus_multiplier\": 1.2, \"bus_difference\": 6.6, \"num_trips\": 13, \"num_competitive\": 13, \"pct_trips_competitive\": 1.0, \"bus_difference_spread\": 19.8, \"route_group\": \"short\", \"max_trip_hrs\": 0.98, \"max_trip_route_group\": 0.98, \"name\": \"City of Thousand Oaks\", \"caltrans_district\": \"07 - Los Angeles\", \"drmt_organization_name\": null, \"cutoff2\": 20, \"cutoff\": 0}, {\"calitp_itp_id\": 337, \"trip_key\": -2621702537523133483, \"trip_id\": \"t_1317323_b_27094_tn_0\", \"shape_id\": \"p_900594\", \"route_id\": \"3641\", \"service_hours\": 0.65, \"trip_first_departure_ts\": 36600, \"trip_last_arrival_ts\": 38940, \"departure_hour\": 10, \"time_of_day\": \"Midday\", \"p25\": 0.65, \"p50\": 0.65, \"p75\": 0.98, \"p50_trip\": 1, \"fastest_trip\": 0, \"car_duration_hours\": 0.54, \"competitive_route\": 1, \"bus_multiplier\": 1.2, \"bus_difference\": 6.6, \"num_trips\": 13, \"num_competitive\": 13, \"pct_trips_competitive\": 1.0, \"bus_difference_spread\": 19.8, \"route_group\": \"short\", \"max_trip_hrs\": 0.98, \"max_trip_route_group\": 0.98, \"name\": \"City of Thousand Oaks\", \"caltrans_district\": \"07 - Los Angeles\", \"drmt_organization_name\": null, \"cutoff2\": 20, \"cutoff\": 0}, {\"calitp_itp_id\": 337, \"trip_key\": -874104652751008295, \"trip_id\": \"t_1317327_b_27094_tn_0\", \"shape_id\": \"p_900594\", \"route_id\": \"3641\", \"service_hours\": 0.65, \"trip_first_departure_ts\": 65400, \"trip_last_arrival_ts\": 67740, \"departure_hour\": 18, \"time_of_day\": \"PM Peak\", \"p25\": 0.65, \"p50\": 0.65, \"p75\": 0.98, \"p50_trip\": 1, \"fastest_trip\": 1, \"car_duration_hours\": 0.54, \"competitive_route\": 1, \"bus_multiplier\": 1.2, \"bus_difference\": 6.6, \"num_trips\": 13, \"num_competitive\": 13, \"pct_trips_competitive\": 1.0, \"bus_difference_spread\": 19.8, \"route_group\": \"short\", \"max_trip_hrs\": 0.98, \"max_trip_route_group\": 0.98, \"name\": \"City of Thousand Oaks\", \"caltrans_district\": \"07 - Los Angeles\", \"drmt_organization_name\": null, \"cutoff2\": 20, \"cutoff\": 0}, {\"calitp_itp_id\": 337, \"trip_key\": 8567723010136658121, \"trip_id\": \"t_1317318_b_27094_tn_0\", \"shape_id\": \"p_900593\", \"route_id\": \"3641\", \"service_hours\": 0.98, \"trip_first_departure_ts\": 39600, \"trip_last_arrival_ts\": 43140, \"departure_hour\": 11, \"time_of_day\": \"Midday\", \"p25\": 0.65, \"p50\": 0.65, \"p75\": 0.98, \"p50_trip\": 0, \"fastest_trip\": 0, \"car_duration_hours\": 0.54, \"competitive_route\": 1, \"bus_multiplier\": 1.81, \"bus_difference\": 26.4, \"num_trips\": 13, \"num_competitive\": 13, \"pct_trips_competitive\": 1.0, \"bus_difference_spread\": 19.8, \"route_group\": \"short\", \"max_trip_hrs\": 0.98, \"max_trip_route_group\": 0.98, \"name\": \"City of Thousand Oaks\", \"caltrans_district\": \"07 - Los Angeles\", \"drmt_organization_name\": null, \"cutoff2\": 20, \"cutoff\": 0}, {\"calitp_itp_id\": 337, \"trip_key\": 2604441278113330024, \"trip_id\": \"t_1317321_b_27094_tn_0\", \"shape_id\": \"p_900593\", \"route_id\": \"3641\", \"service_hours\": 0.98, \"trip_first_departure_ts\": 61200, \"trip_last_arrival_ts\": 64740, \"departure_hour\": 17, \"time_of_day\": \"PM Peak\", \"p25\": 0.65, \"p50\": 0.65, \"p75\": 0.98, \"p50_trip\": 0, \"fastest_trip\": 0, \"car_duration_hours\": 0.54, \"competitive_route\": 1, \"bus_multiplier\": 1.81, \"bus_difference\": 26.4, \"num_trips\": 13, \"num_competitive\": 13, \"pct_trips_competitive\": 1.0, \"bus_difference_spread\": 19.8, \"route_group\": \"short\", \"max_trip_hrs\": 0.98, \"max_trip_route_group\": 0.98, \"name\": \"City of Thousand Oaks\", \"caltrans_district\": \"07 - Los Angeles\", \"drmt_organization_name\": null, \"cutoff2\": 20, \"cutoff\": 0}, {\"calitp_itp_id\": 337, \"trip_key\": -5435496664739485498, \"trip_id\": \"t_1317319_b_27094_tn_0\", \"shape_id\": \"p_900593\", \"route_id\": \"3641\", \"service_hours\": 0.98, \"trip_first_departure_ts\": 46800, \"trip_last_arrival_ts\": 50340, \"departure_hour\": 13, \"time_of_day\": \"Midday\", \"p25\": 0.65, \"p50\": 0.65, \"p75\": 0.98, \"p50_trip\": 0, \"fastest_trip\": 0, \"car_duration_hours\": 0.54, \"competitive_route\": 1, \"bus_multiplier\": 1.81, \"bus_difference\": 26.4, \"num_trips\": 13, \"num_competitive\": 13, \"pct_trips_competitive\": 1.0, \"bus_difference_spread\": 19.8, \"route_group\": \"short\", \"max_trip_hrs\": 0.98, \"max_trip_route_group\": 0.98, \"name\": \"City of Thousand Oaks\", \"caltrans_district\": \"07 - Los Angeles\", \"drmt_organization_name\": null, \"cutoff2\": 20, \"cutoff\": 0}, {\"calitp_itp_id\": 337, \"trip_key\": 8062695349286739436, \"trip_id\": \"t_1317320_b_27094_tn_0\", \"shape_id\": \"p_900593\", \"route_id\": \"3641\", \"service_hours\": 0.98, \"trip_first_departure_ts\": 54000, \"trip_last_arrival_ts\": 57540, \"departure_hour\": 15, \"time_of_day\": \"Midday\", \"p25\": 0.65, \"p50\": 0.65, \"p75\": 0.98, \"p50_trip\": 0, \"fastest_trip\": 0, \"car_duration_hours\": 0.54, \"competitive_route\": 1, \"bus_multiplier\": 1.81, \"bus_difference\": 26.4, \"num_trips\": 13, \"num_competitive\": 13, \"pct_trips_competitive\": 1.0, \"bus_difference_spread\": 19.8, \"route_group\": \"short\", \"max_trip_hrs\": 0.98, \"max_trip_route_group\": 0.98, \"name\": \"City of Thousand Oaks\", \"caltrans_district\": \"07 - Los Angeles\", \"drmt_organization_name\": null, \"cutoff2\": 20, \"cutoff\": 0}, {\"calitp_itp_id\": 337, \"trip_key\": -7344104896059729615, \"trip_id\": \"t_1317317_b_27094_tn_0\", \"shape_id\": \"p_900593\", \"route_id\": \"3641\", \"service_hours\": 0.98, \"trip_first_departure_ts\": 32400, \"trip_last_arrival_ts\": 35940, \"departure_hour\": 9, \"time_of_day\": \"AM Peak\", \"p25\": 0.65, \"p50\": 0.65, \"p75\": 0.98, \"p50_trip\": 0, \"fastest_trip\": 0, \"car_duration_hours\": 0.54, \"competitive_route\": 1, \"bus_multiplier\": 1.81, \"bus_difference\": 26.4, \"num_trips\": 13, \"num_competitive\": 13, \"pct_trips_competitive\": 1.0, \"bus_difference_spread\": 19.8, \"route_group\": \"short\", \"max_trip_hrs\": 0.98, \"max_trip_route_group\": 0.98, \"name\": \"City of Thousand Oaks\", \"caltrans_district\": \"07 - Los Angeles\", \"drmt_organization_name\": null, \"cutoff2\": 20, \"cutoff\": 0}, {\"calitp_itp_id\": 337, \"trip_key\": 4303281494008744764, \"trip_id\": \"t_1230060_b_27094_tn_0\", \"shape_id\": \"p_900593\", \"route_id\": \"3641\", \"service_hours\": 0.98, \"trip_first_departure_ts\": 25200, \"trip_last_arrival_ts\": 28740, \"departure_hour\": 7, \"time_of_day\": \"AM Peak\", \"p25\": 0.65, \"p50\": 0.65, \"p75\": 0.98, \"p50_trip\": 0, \"fastest_trip\": 0, \"car_duration_hours\": 0.54, \"competitive_route\": 1, \"bus_multiplier\": 1.81, \"bus_difference\": 26.4, \"num_trips\": 13, \"num_competitive\": 13, \"pct_trips_competitive\": 1.0, \"bus_difference_spread\": 19.8, \"route_group\": \"short\", \"max_trip_hrs\": 0.98, \"max_trip_route_group\": 0.98, \"name\": \"City of Thousand Oaks\", \"caltrans_district\": \"07 - Los Angeles\", \"drmt_organization_name\": null, \"cutoff2\": 20, \"cutoff\": 0}, {\"calitp_itp_id\": 337, \"trip_key\": -3339647991534680967, \"trip_id\": \"t_1230052_b_27094_tn_0\", \"shape_id\": \"p_900591\", \"route_id\": \"6799\", \"service_hours\": 0.82, \"trip_first_departure_ts\": 25200, \"trip_last_arrival_ts\": 28140, \"departure_hour\": 7, \"time_of_day\": \"AM Peak\", \"p25\": 0.82, \"p50\": 0.82, \"p75\": 0.82, \"p50_trip\": 1, \"fastest_trip\": 0, \"car_duration_hours\": 0.58, \"competitive_route\": 1, \"bus_multiplier\": 1.41, \"bus_difference\": 14.4, \"num_trips\": 13, \"num_competitive\": 13, \"pct_trips_competitive\": 1.0, \"bus_difference_spread\": 0.0, \"route_group\": \"short\", \"max_trip_hrs\": 0.82, \"max_trip_route_group\": 0.98, \"name\": \"City of Thousand Oaks\", \"caltrans_district\": \"07 - Los Angeles\", \"drmt_organization_name\": null, \"cutoff2\": 20, \"cutoff\": 0}, {\"calitp_itp_id\": 337, \"trip_key\": -7812706225654533933, \"trip_id\": \"t_1317350_b_27094_tn_0\", \"shape_id\": \"p_900591\", \"route_id\": \"6799\", \"service_hours\": 0.82, \"trip_first_departure_ts\": 28800, \"trip_last_arrival_ts\": 31740, \"departure_hour\": 8, \"time_of_day\": \"AM Peak\", \"p25\": 0.82, \"p50\": 0.82, \"p75\": 0.82, \"p50_trip\": 1, \"fastest_trip\": 0, \"car_duration_hours\": 0.58, \"competitive_route\": 1, \"bus_multiplier\": 1.41, \"bus_difference\": 14.4, \"num_trips\": 13, \"num_competitive\": 13, \"pct_trips_competitive\": 1.0, \"bus_difference_spread\": 0.0, \"route_group\": \"short\", \"max_trip_hrs\": 0.82, \"max_trip_route_group\": 0.98, \"name\": \"City of Thousand Oaks\", \"caltrans_district\": \"07 - Los Angeles\", \"drmt_organization_name\": null, \"cutoff2\": 20, \"cutoff\": 0}, {\"calitp_itp_id\": 337, \"trip_key\": -2901946403960055063, \"trip_id\": \"t_1317352_b_27094_tn_0\", \"shape_id\": \"p_900591\", \"route_id\": \"6799\", \"service_hours\": 0.82, \"trip_first_departure_ts\": 36000, \"trip_last_arrival_ts\": 38940, \"departure_hour\": 10, \"time_of_day\": \"Midday\", \"p25\": 0.82, \"p50\": 0.82, \"p75\": 0.82, \"p50_trip\": 1, \"fastest_trip\": 0, \"car_duration_hours\": 0.58, \"competitive_route\": 1, \"bus_multiplier\": 1.41, \"bus_difference\": 14.4, \"num_trips\": 13, \"num_competitive\": 13, \"pct_trips_competitive\": 1.0, \"bus_difference_spread\": 0.0, \"route_group\": \"short\", \"max_trip_hrs\": 0.82, \"max_trip_route_group\": 0.98, \"name\": \"City of Thousand Oaks\", \"caltrans_district\": \"07 - Los Angeles\", \"drmt_organization_name\": null, \"cutoff2\": 20, \"cutoff\": 0}, {\"calitp_itp_id\": 337, \"trip_key\": -811125851311968377, \"trip_id\": \"t_1230049_b_27094_tn_0\", \"shape_id\": \"p_900591\", \"route_id\": \"6799\", \"service_hours\": 0.82, \"trip_first_departure_ts\": 21600, \"trip_last_arrival_ts\": 24540, \"departure_hour\": 6, \"time_of_day\": \"Owl Service\", \"p25\": 0.82, \"p50\": 0.82, \"p75\": 0.82, \"p50_trip\": 1, \"fastest_trip\": 0, \"car_duration_hours\": 0.58, \"competitive_route\": 1, \"bus_multiplier\": 1.41, \"bus_difference\": 14.4, \"num_trips\": 13, \"num_competitive\": 13, \"pct_trips_competitive\": 1.0, \"bus_difference_spread\": 0.0, \"route_group\": \"short\", \"max_trip_hrs\": 0.82, \"max_trip_route_group\": 0.98, \"name\": \"City of Thousand Oaks\", \"caltrans_district\": \"07 - Los Angeles\", \"drmt_organization_name\": null, \"cutoff2\": 20, \"cutoff\": 0}, {\"calitp_itp_id\": 337, \"trip_key\": -4476578932371071111, \"trip_id\": \"t_1317353_b_27094_tn_0\", \"shape_id\": \"p_900591\", \"route_id\": \"6799\", \"service_hours\": 0.82, \"trip_first_departure_ts\": 39600, \"trip_last_arrival_ts\": 42540, \"departure_hour\": 11, \"time_of_day\": \"Midday\", \"p25\": 0.82, \"p50\": 0.82, \"p75\": 0.82, \"p50_trip\": 1, \"fastest_trip\": 0, \"car_duration_hours\": 0.58, \"competitive_route\": 1, \"bus_multiplier\": 1.41, \"bus_difference\": 14.4, \"num_trips\": 13, \"num_competitive\": 13, \"pct_trips_competitive\": 1.0, \"bus_difference_spread\": 0.0, \"route_group\": \"short\", \"max_trip_hrs\": 0.82, \"max_trip_route_group\": 0.98, \"name\": \"City of Thousand Oaks\", \"caltrans_district\": \"07 - Los Angeles\", \"drmt_organization_name\": null, \"cutoff2\": 20, \"cutoff\": 0}, {\"calitp_itp_id\": 337, \"trip_key\": -7749798268344435151, \"trip_id\": \"t_1317355_b_27094_tn_0\", \"shape_id\": \"p_900591\", \"route_id\": \"6799\", \"service_hours\": 0.82, \"trip_first_departure_ts\": 46800, \"trip_last_arrival_ts\": 49740, \"departure_hour\": 13, \"time_of_day\": \"Midday\", \"p25\": 0.82, \"p50\": 0.82, \"p75\": 0.82, \"p50_trip\": 1, \"fastest_trip\": 0, \"car_duration_hours\": 0.58, \"competitive_route\": 1, \"bus_multiplier\": 1.41, \"bus_difference\": 14.4, \"num_trips\": 13, \"num_competitive\": 13, \"pct_trips_competitive\": 1.0, \"bus_difference_spread\": 0.0, \"route_group\": \"short\", \"max_trip_hrs\": 0.82, \"max_trip_route_group\": 0.98, \"name\": \"City of Thousand Oaks\", \"caltrans_district\": \"07 - Los Angeles\", \"drmt_organization_name\": null, \"cutoff2\": 20, \"cutoff\": 0}, {\"calitp_itp_id\": 337, \"trip_key\": -8042224096457433652, \"trip_id\": \"t_1317351_b_27094_tn_0\", \"shape_id\": \"p_900591\", \"route_id\": \"6799\", \"service_hours\": 0.82, \"trip_first_departure_ts\": 32400, \"trip_last_arrival_ts\": 35340, \"departure_hour\": 9, \"time_of_day\": \"AM Peak\", \"p25\": 0.82, \"p50\": 0.82, \"p75\": 0.82, \"p50_trip\": 1, \"fastest_trip\": 0, \"car_duration_hours\": 0.58, \"competitive_route\": 1, \"bus_multiplier\": 1.41, \"bus_difference\": 14.4, \"num_trips\": 13, \"num_competitive\": 13, \"pct_trips_competitive\": 1.0, \"bus_difference_spread\": 0.0, \"route_group\": \"short\", \"max_trip_hrs\": 0.82, \"max_trip_route_group\": 0.98, \"name\": \"City of Thousand Oaks\", \"caltrans_district\": \"07 - Los Angeles\", \"drmt_organization_name\": null, \"cutoff2\": 20, \"cutoff\": 0}, {\"calitp_itp_id\": 337, \"trip_key\": -921040881378149292, \"trip_id\": \"t_1317354_b_27094_tn_0\", \"shape_id\": \"p_900591\", \"route_id\": \"6799\", \"service_hours\": 0.82, \"trip_first_departure_ts\": 43200, \"trip_last_arrival_ts\": 46140, \"departure_hour\": 12, \"time_of_day\": \"Midday\", \"p25\": 0.82, \"p50\": 0.82, \"p75\": 0.82, \"p50_trip\": 1, \"fastest_trip\": 0, \"car_duration_hours\": 0.58, \"competitive_route\": 1, \"bus_multiplier\": 1.41, \"bus_difference\": 14.4, \"num_trips\": 13, \"num_competitive\": 13, \"pct_trips_competitive\": 1.0, \"bus_difference_spread\": 0.0, \"route_group\": \"short\", \"max_trip_hrs\": 0.82, \"max_trip_route_group\": 0.98, \"name\": \"City of Thousand Oaks\", \"caltrans_district\": \"07 - Los Angeles\", \"drmt_organization_name\": null, \"cutoff2\": 20, \"cutoff\": 0}, {\"calitp_itp_id\": 337, \"trip_key\": 284123079588749380, \"trip_id\": \"t_1317358_b_27094_tn_0\", \"shape_id\": \"p_900591\", \"route_id\": \"6799\", \"service_hours\": 0.82, \"trip_first_departure_ts\": 57600, \"trip_last_arrival_ts\": 60540, \"departure_hour\": 16, \"time_of_day\": \"Midday\", \"p25\": 0.82, \"p50\": 0.82, \"p75\": 0.82, \"p50_trip\": 1, \"fastest_trip\": 0, \"car_duration_hours\": 0.58, \"competitive_route\": 1, \"bus_multiplier\": 1.41, \"bus_difference\": 14.4, \"num_trips\": 13, \"num_competitive\": 13, \"pct_trips_competitive\": 1.0, \"bus_difference_spread\": 0.0, \"route_group\": \"short\", \"max_trip_hrs\": 0.82, \"max_trip_route_group\": 0.98, \"name\": \"City of Thousand Oaks\", \"caltrans_district\": \"07 - Los Angeles\", \"drmt_organization_name\": null, \"cutoff2\": 20, \"cutoff\": 0}, {\"calitp_itp_id\": 337, \"trip_key\": -4381000657039983348, \"trip_id\": \"t_1317357_b_27094_tn_0\", \"shape_id\": \"p_900591\", \"route_id\": \"6799\", \"service_hours\": 0.82, \"trip_first_departure_ts\": 54000, \"trip_last_arrival_ts\": 56940, \"departure_hour\": 15, \"time_of_day\": \"Midday\", \"p25\": 0.82, \"p50\": 0.82, \"p75\": 0.82, \"p50_trip\": 1, \"fastest_trip\": 0, \"car_duration_hours\": 0.58, \"competitive_route\": 1, \"bus_multiplier\": 1.41, \"bus_difference\": 14.4, \"num_trips\": 13, \"num_competitive\": 13, \"pct_trips_competitive\": 1.0, \"bus_difference_spread\": 0.0, \"route_group\": \"short\", \"max_trip_hrs\": 0.82, \"max_trip_route_group\": 0.98, \"name\": \"City of Thousand Oaks\", \"caltrans_district\": \"07 - Los Angeles\", \"drmt_organization_name\": null, \"cutoff2\": 20, \"cutoff\": 0}, {\"calitp_itp_id\": 337, \"trip_key\": -6840087071432211258, \"trip_id\": \"t_1317359_b_27094_tn_0\", \"shape_id\": \"p_900591\", \"route_id\": \"6799\", \"service_hours\": 0.82, \"trip_first_departure_ts\": 61200, \"trip_last_arrival_ts\": 64140, \"departure_hour\": 17, \"time_of_day\": \"PM Peak\", \"p25\": 0.82, \"p50\": 0.82, \"p75\": 0.82, \"p50_trip\": 1, \"fastest_trip\": 0, \"car_duration_hours\": 0.58, \"competitive_route\": 1, \"bus_multiplier\": 1.41, \"bus_difference\": 14.4, \"num_trips\": 13, \"num_competitive\": 13, \"pct_trips_competitive\": 1.0, \"bus_difference_spread\": 0.0, \"route_group\": \"short\", \"max_trip_hrs\": 0.82, \"max_trip_route_group\": 0.98, \"name\": \"City of Thousand Oaks\", \"caltrans_district\": \"07 - Los Angeles\", \"drmt_organization_name\": null, \"cutoff2\": 20, \"cutoff\": 0}, {\"calitp_itp_id\": 337, \"trip_key\": 4837374424228184135, \"trip_id\": \"t_1317360_b_27094_tn_0\", \"shape_id\": \"p_900591\", \"route_id\": \"6799\", \"service_hours\": 0.82, \"trip_first_departure_ts\": 64800, \"trip_last_arrival_ts\": 67740, \"departure_hour\": 18, \"time_of_day\": \"PM Peak\", \"p25\": 0.82, \"p50\": 0.82, \"p75\": 0.82, \"p50_trip\": 1, \"fastest_trip\": 1, \"car_duration_hours\": 0.58, \"competitive_route\": 1, \"bus_multiplier\": 1.41, \"bus_difference\": 14.4, \"num_trips\": 13, \"num_competitive\": 13, \"pct_trips_competitive\": 1.0, \"bus_difference_spread\": 0.0, \"route_group\": \"short\", \"max_trip_hrs\": 0.82, \"max_trip_route_group\": 0.98, \"name\": \"City of Thousand Oaks\", \"caltrans_district\": \"07 - Los Angeles\", \"drmt_organization_name\": null, \"cutoff2\": 20, \"cutoff\": 0}, {\"calitp_itp_id\": 337, \"trip_key\": -8368667360634585597, \"trip_id\": \"t_1317356_b_27094_tn_0\", \"shape_id\": \"p_900591\", \"route_id\": \"6799\", \"service_hours\": 0.82, \"trip_first_departure_ts\": 50400, \"trip_last_arrival_ts\": 53340, \"departure_hour\": 14, \"time_of_day\": \"Midday\", \"p25\": 0.82, \"p50\": 0.82, \"p75\": 0.82, \"p50_trip\": 1, \"fastest_trip\": 0, \"car_duration_hours\": 0.58, \"competitive_route\": 1, \"bus_multiplier\": 1.41, \"bus_difference\": 14.4, \"num_trips\": 13, \"num_competitive\": 13, \"pct_trips_competitive\": 1.0, \"bus_difference_spread\": 0.0, \"route_group\": \"short\", \"max_trip_hrs\": 0.82, \"max_trip_route_group\": 0.98, \"name\": \"City of Thousand Oaks\", \"caltrans_district\": \"07 - Los Angeles\", \"drmt_organization_name\": null, \"cutoff2\": 20, \"cutoff\": 0}]}}, {\"mode\": \"vega-lite\"});\n",
       "</script>"
      ],
      "text/plain": [
       "alt.FacetChart(...)"
      ]
     },
     "metadata": {},
     "output_type": "display_data"
    }
   ],
   "source": [
    "# Allow for possibility that operator doesn't have routes that fall into certain route_groups\n",
    "# But, jupyterbook will not like markdown with f-string\n",
    "# separate out route_group and put in each cell, and use try/except + if to display...\n",
    "# but all 3 route groups must be displayed. just add sentence about why no routes were returned at the end\n",
    "route_group = \"short\"\n",
    "try:\n",
    "    display_charts_for_route_group(df, route_group)\n",
    "except:\n",
    "    print(\"No routes meet this criteria.\")"
   ]
  },
  {
   "cell_type": "markdown",
   "id": "c2931b6f-034d-4384-9e14-80b925e3b820",
   "metadata": {
    "papermill": {
     "duration": 0.027596,
     "end_time": "2022-05-09T17:10:13.321266",
     "exception": false,
     "start_time": "2022-05-09T17:10:13.293670",
     "status": "completed"
    },
    "tags": []
   },
   "source": [
    "### Medium Routes (1-1.5 hrs)"
   ]
  },
  {
   "cell_type": "code",
   "execution_count": 14,
   "id": "480edddc-4de0-48c2-ae4c-b0ceef8f28b5",
   "metadata": {
    "execution": {
     "iopub.execute_input": "2022-05-09T17:10:13.359844Z",
     "iopub.status.busy": "2022-05-09T17:10:13.359341Z",
     "iopub.status.idle": "2022-05-09T17:10:13.372760Z",
     "shell.execute_reply": "2022-05-09T17:10:13.371740Z"
    },
    "jupyter": {
     "source_hidden": true
    },
    "papermill": {
     "duration": 0.035678,
     "end_time": "2022-05-09T17:10:13.374957",
     "exception": false,
     "start_time": "2022-05-09T17:10:13.339279",
     "status": "completed"
    },
    "tags": [
     "remove_input"
    ]
   },
   "outputs": [
    {
     "name": "stdout",
     "output_type": "stream",
     "text": [
      "No routes meet this criteria.\n"
     ]
    }
   ],
   "source": [
    "route_group = \"medium\"\n",
    "try:\n",
    "    display_charts_for_route_group(df, route_group)\n",
    "except:\n",
    "    print(\"No routes meet this criteria.\")"
   ]
  },
  {
   "cell_type": "markdown",
   "id": "124b76d0-886c-4d03-92ac-f1bda3cda182",
   "metadata": {
    "papermill": {
     "duration": 0.017918,
     "end_time": "2022-05-09T17:10:13.429003",
     "exception": false,
     "start_time": "2022-05-09T17:10:13.411085",
     "status": "completed"
    },
    "tags": []
   },
   "source": [
    "### Long Routes (> 1.5 hrs)"
   ]
  },
  {
   "cell_type": "code",
   "execution_count": 15,
   "id": "ddc81b19-4c45-4c81-8b7a-5e0f394aa7a3",
   "metadata": {
    "execution": {
     "iopub.execute_input": "2022-05-09T17:10:13.470795Z",
     "iopub.status.busy": "2022-05-09T17:10:13.469581Z",
     "iopub.status.idle": "2022-05-09T17:10:13.483593Z",
     "shell.execute_reply": "2022-05-09T17:10:13.482609Z"
    },
    "jupyter": {
     "source_hidden": true
    },
    "papermill": {
     "duration": 0.036723,
     "end_time": "2022-05-09T17:10:13.485695",
     "exception": false,
     "start_time": "2022-05-09T17:10:13.448972",
     "status": "completed"
    },
    "tags": [
     "remove_input"
    ]
   },
   "outputs": [
    {
     "name": "stdout",
     "output_type": "stream",
     "text": [
      "No routes meet this criteria.\n"
     ]
    }
   ],
   "source": [
    "route_group = \"long\"\n",
    "try:\n",
    "    display_charts_for_route_group(df, route_group)\n",
    "except:\n",
    "    print(\"No routes meet this criteria.\")"
   ]
  },
  {
   "cell_type": "markdown",
   "id": "ace75b5f-0442-4fbe-aebd-6c3a13ae13a7",
   "metadata": {
    "papermill": {
     "duration": 0.021353,
     "end_time": "2022-05-09T17:10:13.538300",
     "exception": false,
     "start_time": "2022-05-09T17:10:13.516947",
     "status": "completed"
    },
    "tags": []
   },
   "source": [
    "### GTFS Real-Time Speedmaps"
   ]
  },
  {
   "cell_type": "code",
   "execution_count": 16,
   "id": "3f06fdc4-d5a8-41f5-9b72-ed7e8a2dd2fc",
   "metadata": {
    "execution": {
     "iopub.execute_input": "2022-05-09T17:10:13.582404Z",
     "iopub.status.busy": "2022-05-09T17:10:13.581753Z",
     "iopub.status.idle": "2022-05-09T17:10:13.633408Z",
     "shell.execute_reply": "2022-05-09T17:10:13.632323Z"
    },
    "jupyter": {
     "source_hidden": true
    },
    "papermill": {
     "duration": 0.075342,
     "end_time": "2022-05-09T17:10:13.635737",
     "exception": false,
     "start_time": "2022-05-09T17:10:13.560395",
     "status": "completed"
    },
    "tags": [
     "remove_input"
    ]
   },
   "outputs": [
    {
     "data": {
      "text/html": [
       "No GTFS RT data available."
      ],
      "text/plain": [
       "<IPython.core.display.HTML object>"
      ]
     },
     "metadata": {},
     "output_type": "display_data"
    }
   ],
   "source": [
    "PORTFOLIO_SITE_YAML = \"../portfolio/analyses.yml\"\n",
    "\n",
    "# Grab list of ITP IDs with GTFS RT speedmaps\n",
    "rt_itp_id = deploy_portfolio_yaml.check_if_rt_data_available(PORTFOLIO_SITE_YAML)\n",
    "\n",
    "# Construct the URL \n",
    "RT_URL = (\"https://analysis.calitp.org/rt/\"\n",
    "          f\"district_{district_number}-{district_name}/\"\n",
    "          f\"speedmaps__itp_id_{itp_id}.html\"\n",
    "         ) \n",
    "\n",
    "if itp_id in rt_itp_id:\n",
    "    display(HTML('<a href=RT_URL>GTFS RT speedmaps here.</a>'))\n",
    "else:\n",
    "    display(HTML(\"No GTFS RT data available.\"))"
   ]
  },
  {
   "cell_type": "code",
   "execution_count": null,
   "id": "4664fe87-4e5e-4414-9602-a5c9c2a14072",
   "metadata": {
    "jupyter": {
     "source_hidden": true
    },
    "papermill": {
     "duration": 0.021312,
     "end_time": "2022-05-09T17:10:13.675436",
     "exception": false,
     "start_time": "2022-05-09T17:10:13.654124",
     "status": "completed"
    },
    "tags": [
     "remove_input"
    ]
   },
   "outputs": [],
   "source": []
  }
 ],
 "metadata": {
  "kernelspec": {
   "display_name": "Python 3 (ipykernel)",
   "language": "python",
   "name": "python3"
  },
  "language_info": {
   "codemirror_mode": {
    "name": "ipython",
    "version": 3
   },
   "file_extension": ".py",
   "mimetype": "text/x-python",
   "name": "python",
   "nbconvert_exporter": "python",
   "pygments_lexer": "ipython3",
   "version": "3.9.12"
  },
  "papermill": {
   "default_parameters": {},
   "duration": 27.075517,
   "end_time": "2022-05-09T17:10:15.533615",
   "environment_variables": {},
   "exception": null,
   "input_path": "bus_service_increase/competitive-parallel-routes.ipynb",
   "output_path": "portfolio/parallel_corridors/district_07-los-angeles/competitive-parallel-routes__itp_id_337.ipynb",
   "parameters": {
    "district": "07 - Los Angeles",
    "itp_id": 337
   },
   "start_time": "2022-05-09T17:09:48.458098",
   "version": "2.3.4"
  }
 },
 "nbformat": 4,
 "nbformat_minor": 5
}