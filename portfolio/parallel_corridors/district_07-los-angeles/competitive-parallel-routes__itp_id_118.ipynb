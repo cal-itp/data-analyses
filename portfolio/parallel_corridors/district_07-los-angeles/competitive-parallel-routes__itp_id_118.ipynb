{
 "cells": [
  {
   "cell_type": "code",
   "execution_count": 1,
   "id": "95d00857-6a20-4529-a519-2cc7182928a9",
   "metadata": {
    "execution": {
     "iopub.execute_input": "2022-05-09T20:02:49.854288Z",
     "iopub.status.busy": "2022-05-09T20:02:49.853649Z",
     "iopub.status.idle": "2022-05-09T20:02:59.928979Z",
     "shell.execute_reply": "2022-05-09T20:02:59.927467Z"
    },
    "jupyter": {
     "source_hidden": true
    },
    "papermill": {
     "duration": 10.093816,
     "end_time": "2022-05-09T20:02:59.932498",
     "exception": false,
     "start_time": "2022-05-09T20:02:49.838682",
     "status": "completed"
    },
    "tags": [
     "remove_input"
    ]
   },
   "outputs": [],
   "source": [
    "%%capture\n",
    "import warnings\n",
    "warnings.filterwarnings('ignore')\n",
    "\n",
    "import altair as alt\n",
    "import calitp.magics\n",
    "import geopandas as gpd\n",
    "import intake\n",
    "import pandas as pd\n",
    "\n",
    "from IPython.display import display, Markdown, HTML\n",
    "\n",
    "import parallel_corridors_utils\n",
    "from shared_utils import styleguide\n",
    "import deploy_portfolio_yaml\n",
    "\n",
    "catalog = intake.open_catalog(\"./*.yml\")\n",
    "alt.renderers.enable(\"html\")"
   ]
  },
  {
   "cell_type": "code",
   "execution_count": 2,
   "id": "8af2a0c1-f3da-408d-9bea-11d9fbf8695d",
   "metadata": {
    "execution": {
     "iopub.execute_input": "2022-05-09T20:02:59.962718Z",
     "iopub.status.busy": "2022-05-09T20:02:59.961821Z",
     "iopub.status.idle": "2022-05-09T20:02:59.967345Z",
     "shell.execute_reply": "2022-05-09T20:02:59.966421Z"
    },
    "jupyter": {
     "source_hidden": true
    },
    "papermill": {
     "duration": 0.026213,
     "end_time": "2022-05-09T20:02:59.970944",
     "exception": false,
     "start_time": "2022-05-09T20:02:59.944731",
     "status": "completed"
    },
    "tags": [
     "parameters",
     "remove_input"
    ]
   },
   "outputs": [],
   "source": [
    "# parameters cell\n",
    "itp_id = 182"
   ]
  },
  {
   "cell_type": "code",
   "execution_count": 3,
   "id": "1b239704",
   "metadata": {
    "execution": {
     "iopub.execute_input": "2022-05-09T20:02:59.999661Z",
     "iopub.status.busy": "2022-05-09T20:02:59.998827Z",
     "iopub.status.idle": "2022-05-09T20:03:00.009624Z",
     "shell.execute_reply": "2022-05-09T20:03:00.008756Z"
    },
    "jupyter": {
     "source_hidden": true
    },
    "papermill": {
     "duration": 0.02851,
     "end_time": "2022-05-09T20:03:00.011978",
     "exception": false,
     "start_time": "2022-05-09T20:02:59.983468",
     "status": "completed"
    },
    "tags": [
     "injected-parameters",
     "remove_input"
    ]
   },
   "outputs": [],
   "source": [
    "# Parameters\n",
    "district = \"07 - Los Angeles\"\n",
    "itp_id = 118\n"
   ]
  },
  {
   "cell_type": "code",
   "execution_count": 4,
   "id": "9582aaf4-79ff-412a-b248-8d8d693ebd4f",
   "metadata": {
    "execution": {
     "iopub.execute_input": "2022-05-09T20:03:00.043166Z",
     "iopub.status.busy": "2022-05-09T20:03:00.041929Z",
     "iopub.status.idle": "2022-05-09T20:03:01.482971Z",
     "shell.execute_reply": "2022-05-09T20:03:01.482236Z"
    },
    "jupyter": {
     "source_hidden": true
    },
    "papermill": {
     "duration": 1.459266,
     "end_time": "2022-05-09T20:03:01.485514",
     "exception": false,
     "start_time": "2022-05-09T20:03:00.026248",
     "status": "completed"
    },
    "tags": [
     "remove_input"
    ]
   },
   "outputs": [],
   "source": [
    "df = catalog.competitive_route_variability.read()\n",
    "\n",
    "df = (df[(df.calitp_itp_id == itp_id) & \n",
    "         (df.route_group.notna())]\n",
    "      .reset_index(drop=True)\n",
    "     )\n",
    "\n",
    "\n",
    "if itp_id == 182:\n",
    "    df = df.assign(\n",
    "        route_id = df.route_id.str.replace('-13153', '').astype(int)\n",
    "    )"
   ]
  },
  {
   "cell_type": "code",
   "execution_count": 5,
   "id": "33ac4b06-f647-4dce-a625-8f2c1b37cc60",
   "metadata": {
    "execution": {
     "iopub.execute_input": "2022-05-09T20:03:01.512769Z",
     "iopub.status.busy": "2022-05-09T20:03:01.512170Z",
     "iopub.status.idle": "2022-05-09T20:03:01.526939Z",
     "shell.execute_reply": "2022-05-09T20:03:01.525922Z"
    },
    "jupyter": {
     "source_hidden": true
    },
    "papermill": {
     "duration": 0.032173,
     "end_time": "2022-05-09T20:03:01.529980",
     "exception": false,
     "start_time": "2022-05-09T20:03:01.497807",
     "status": "completed"
    },
    "tags": [
     "remove_input"
    ]
   },
   "outputs": [],
   "source": [
    "%%capture_parameters\n",
    "operator_name = df.name.iloc[0]\n",
    "district_number = f\"{df.caltrans_district.iloc[0].split('-')[0].strip()}\"\n",
    "district_name = f\"{df.caltrans_district.iloc[0].split('-')[1].strip().lower().replace(' ', '-')}\"\n",
    "\n",
    "itp_id, operator_name, district_number, district_name"
   ]
  },
  {
   "cell_type": "markdown",
   "id": "65bc6f5c-8348-42ee-b2dd-52057c406852",
   "metadata": {
    "papermill": {
     "duration": 0.01384,
     "end_time": "2022-05-09T20:03:01.557356",
     "exception": false,
     "start_time": "2022-05-09T20:03:01.543516",
     "status": "completed"
    },
    "tags": []
   },
   "source": [
    "# City of Gardena (ITP ID: 118)"
   ]
  },
  {
   "cell_type": "code",
   "execution_count": 6,
   "id": "a689c1ab-2c6c-4831-8d64-897f5986f571",
   "metadata": {
    "execution": {
     "iopub.execute_input": "2022-05-09T20:03:01.585443Z",
     "iopub.status.busy": "2022-05-09T20:03:01.584761Z",
     "iopub.status.idle": "2022-05-09T20:03:01.591726Z",
     "shell.execute_reply": "2022-05-09T20:03:01.591013Z"
    },
    "jupyter": {
     "source_hidden": true
    },
    "papermill": {
     "duration": 0.023757,
     "end_time": "2022-05-09T20:03:01.593612",
     "exception": false,
     "start_time": "2022-05-09T20:03:01.569855",
     "status": "completed"
    },
    "tags": [
     "remove_input"
    ]
   },
   "outputs": [
    {
     "data": {
      "text/html": [
       "<h1>Competitive & Parallel Routes</h1>"
      ],
      "text/plain": [
       "<IPython.core.display.HTML object>"
      ]
     },
     "metadata": {},
     "output_type": "display_data"
    }
   ],
   "source": [
    "display(HTML(\"<h1>Competitive & Parallel Routes</h1>\")) "
   ]
  },
  {
   "cell_type": "code",
   "execution_count": 7,
   "id": "2cb4d8d5-4760-40e4-85b1-cb833d8bb648",
   "metadata": {
    "execution": {
     "iopub.execute_input": "2022-05-09T20:03:01.631271Z",
     "iopub.status.busy": "2022-05-09T20:03:01.630612Z",
     "iopub.status.idle": "2022-05-09T20:03:14.091138Z",
     "shell.execute_reply": "2022-05-09T20:03:14.089531Z"
    },
    "jupyter": {
     "source_hidden": true
    },
    "papermill": {
     "duration": 12.480874,
     "end_time": "2022-05-09T20:03:14.094949",
     "exception": false,
     "start_time": "2022-05-09T20:03:01.614075",
     "status": "completed"
    },
    "tags": [
     "remove_input"
    ]
   },
   "outputs": [],
   "source": [
    "# Grab parameters for narrative text - clean up formatting here \n",
    "district = df.caltrans_district.iloc[0]\n",
    "formatted_date = pd.to_datetime(parallel_corridors_utils.SELECTED_DATE).strftime('%m-%d-%Y')\n",
    "\n",
    "PCT_COMPETITIVE_THRESHOLD = 0.75\n",
    "\n",
    "stats = parallel_corridors_utils.operator_parallel_competitive_stats(\n",
    "    itp_id, PCT_COMPETITIVE_THRESHOLD)\n",
    "\n",
    "pct_parallel = round(stats['parallel_routes'] / stats['num_routes'] * 100,1 )\n",
    "pct_competitive =  round(stats['competitive_routes'] / stats['num_routes'] * 100,1 )"
   ]
  },
  {
   "cell_type": "markdown",
   "id": "ab667928-5274-4490-82d9-4c39293209a4",
   "metadata": {
    "papermill": {
     "duration": 0.018182,
     "end_time": "2022-05-09T20:03:14.138035",
     "exception": false,
     "start_time": "2022-05-09T20:03:14.119853",
     "status": "completed"
    },
    "tags": []
   },
   "source": [
    "## Quick Stats"
   ]
  },
  {
   "cell_type": "code",
   "execution_count": 8,
   "id": "0416509d-dc62-4165-b62e-64f8b26e8b8e",
   "metadata": {
    "execution": {
     "iopub.execute_input": "2022-05-09T20:03:14.177826Z",
     "iopub.status.busy": "2022-05-09T20:03:14.177097Z",
     "iopub.status.idle": "2022-05-09T20:03:14.185920Z",
     "shell.execute_reply": "2022-05-09T20:03:14.184906Z"
    },
    "jupyter": {
     "source_hidden": true
    },
    "papermill": {
     "duration": 0.031128,
     "end_time": "2022-05-09T20:03:14.188719",
     "exception": false,
     "start_time": "2022-05-09T20:03:14.157591",
     "status": "completed"
    },
    "tags": [
     "remove_input"
    ]
   },
   "outputs": [
    {
     "data": {
      "text/markdown": [
       "**Bus routes in service**: 5 <br>**Parallel routes** to State Highway Network (SHN): 4 routes (80.0%)<br>**Competitive routes** against car travel: 1 routes (20.0%)"
      ],
      "text/plain": [
       "<IPython.core.display.Markdown object>"
      ]
     },
     "metadata": {},
     "output_type": "display_data"
    }
   ],
   "source": [
    "display(\n",
    "    Markdown(\n",
    "        f\"**Bus routes in service**: {stats['num_routes']} \"\n",
    "        \"<br>**Parallel routes** to State Highway Network (SHN): \"\n",
    "        f\"{stats['parallel_routes']} routes ({pct_parallel}%)\"\n",
    "        f\"<br>**Competitive routes** against car travel: {stats['competitive_routes']} routes ({pct_competitive}%)\"\n",
    "    )\n",
    ")"
   ]
  },
  {
   "cell_type": "code",
   "execution_count": 9,
   "id": "f9d6ab58-f0ee-460c-b6de-657490e1f386",
   "metadata": {
    "execution": {
     "iopub.execute_input": "2022-05-09T20:03:14.234010Z",
     "iopub.status.busy": "2022-05-09T20:03:14.233016Z",
     "iopub.status.idle": "2022-05-09T20:03:14.248253Z",
     "shell.execute_reply": "2022-05-09T20:03:14.247306Z"
    },
    "jupyter": {
     "source_hidden": true
    },
    "papermill": {
     "duration": 0.038217,
     "end_time": "2022-05-09T20:03:14.251099",
     "exception": false,
     "start_time": "2022-05-09T20:03:14.212882",
     "status": "completed"
    },
    "tags": [
     "remove_input"
    ]
   },
   "outputs": [],
   "source": [
    "def set_yaxis_range(df, y_col):\n",
    "    Y_MIN = df[y_col].min()\n",
    "    Y_MAX = df[y_col].max()\n",
    "    \n",
    "    return Y_MIN, Y_MAX\n",
    "\n",
    "# Rather than set it according to the operator, which can vary,\n",
    "# just use set thresholds for each group\n",
    "diff_cutoffs = parallel_corridors_utils.diff_cutoffs\n",
    "\n",
    "PCT_TRIPS_BELOW_CUTOFF = 0.25\n",
    "\n",
    "def top15_routes(df, route_group):\n",
    "    df2 = (df[df.route_group==route_group])\n",
    "    # Set a cut-off to enable sorting, where most of the trips are \n",
    "    # below a certain time difference cut-off, \n",
    "    # grab top 15 routes where majority of trips are below that cut-off \n",
    "\n",
    "    route_cols = [\"calitp_itp_id\", \"route_id\"]\n",
    "\n",
    "    df2 = df2.assign(\n",
    "        below_cutoff = df2.apply(lambda x: 1 if x.bus_difference <= diff_cutoffs[route_group] \n",
    "                                 else 0, axis=1),\n",
    "        num_trips = df2.groupby(route_cols)[\"trip_id\"].transform(\"count\")\n",
    "    )\n",
    "\n",
    "    df2[\"below_cutoff\"] = df2.groupby(route_cols)[\"below_cutoff\"].transform(\"sum\")\n",
    "    df2[\"pct_below_cutoff\"] = df2.below_cutoff.divide(df2.num_trips)\n",
    "\n",
    "    # At least half the trips are below that cut-off\n",
    "    # but show 15 max, otherwise, show less, since these won't be as interesting to operators\n",
    "    df3 = (df2[df2.pct_below_cutoff >= PCT_TRIPS_BELOW_CUTOFF]\n",
    "           .sort_values([\"calitp_itp_id\", \"below_cutoff\", \n",
    "                         \"pct_below_cutoff\", \"route_id\"],\n",
    "                        ascending = [True, False, False, True]\n",
    "                       )\n",
    "           .drop_duplicates(subset=[\"calitp_itp_id\", \"route_id\"])\n",
    "          ).head(15)\n",
    "    \n",
    "    return list(df3.route_id)"
   ]
  },
  {
   "cell_type": "code",
   "execution_count": 10,
   "id": "cf36d559-3349-4144-8086-8ac9ce937a5a",
   "metadata": {
    "execution": {
     "iopub.execute_input": "2022-05-09T20:03:14.290883Z",
     "iopub.status.busy": "2022-05-09T20:03:14.288367Z",
     "iopub.status.idle": "2022-05-09T20:03:14.314013Z",
     "shell.execute_reply": "2022-05-09T20:03:14.312731Z"
    },
    "jupyter": {
     "source_hidden": true
    },
    "papermill": {
     "duration": 0.047865,
     "end_time": "2022-05-09T20:03:14.316677",
     "exception": false,
     "start_time": "2022-05-09T20:03:14.268812",
     "status": "completed"
    },
    "tags": [
     "remove_input"
    ]
   },
   "outputs": [],
   "source": [
    "def caption_with_cutoff(cutoff):\n",
    "    sentence = (\n",
    "        f\"<br>These are routes that have **at least {int(PCT_TRIPS_BELOW_CUTOFF*100)}% \"\n",
    "        \"of their trips take no more than an \"\n",
    "        f\"additional {cutoff} min** compared to a car \"\n",
    "        \"(up to 15 routes) are shown.\"\n",
    "        \"<br>Within each route group, routes are sorted in descending order \"\n",
    "        \"by % competitive trips and # trips below the additional time cut-off.\"\n",
    "    )\n",
    "    return sentence\n",
    "\n",
    "CAPTIONS_DICT = {\n",
    "    \"short\": caption_with_cutoff(diff_cutoffs['short']),\n",
    "    \"medium\": caption_with_cutoff(diff_cutoffs['medium']),\n",
    "    \"long\": caption_with_cutoff(diff_cutoffs['long']),\n",
    "}"
   ]
  },
  {
   "cell_type": "code",
   "execution_count": 11,
   "id": "e4306d58-6944-47e9-afef-5d5b524c751f",
   "metadata": {
    "execution": {
     "iopub.execute_input": "2022-05-09T20:03:14.358981Z",
     "iopub.status.busy": "2022-05-09T20:03:14.358539Z",
     "iopub.status.idle": "2022-05-09T20:03:14.366617Z",
     "shell.execute_reply": "2022-05-09T20:03:14.365532Z"
    },
    "jupyter": {
     "source_hidden": true
    },
    "papermill": {
     "duration": 0.028851,
     "end_time": "2022-05-09T20:03:14.369530",
     "exception": false,
     "start_time": "2022-05-09T20:03:14.340679",
     "status": "completed"
    },
    "tags": [
     "remove_input"
    ]
   },
   "outputs": [],
   "source": [
    "def setup_charts(df, PCT_COMPETITIVE_THRESHOLD, route_group):\n",
    "    # Set up df for charting (cut-off at some threshold to show most competitive routes)\n",
    "    plot_me = (df[df.pct_trips_competitive > PCT_COMPETITIVE_THRESHOLD]\n",
    "           .drop(columns = \"geometry\")\n",
    "    )\n",
    "    \n",
    "    y_col1 = \"bus_multiplier\"\n",
    "    Y_MIN1, Y_MAX1 = set_yaxis_range(plot_me, y_col1)\n",
    "\n",
    "    y_col2 = \"bus_difference\"\n",
    "    Y_MIN2, Y_MAX2 = set_yaxis_range(plot_me, y_col2)\n",
    "     \n",
    "    subset_routes = top15_routes(plot_me, route_group)\n",
    "    \n",
    "    multiplier_chart = parallel_corridors_utils.make_stripplot(\n",
    "        plot_me[plot_me.route_id.isin(subset_routes)], \n",
    "        y_col1, Y_MIN = Y_MIN1, Y_MAX = Y_MAX1\n",
    "    )\n",
    "    \n",
    "    difference_chart = parallel_corridors_utils.make_stripplot(\n",
    "        plot_me[plot_me.route_id.isin(subset_routes)], \n",
    "        y_col2, Y_MIN = Y_MIN2, Y_MAX = Y_MAX2\n",
    "    )\n",
    "    \n",
    "    return subset_routes, multiplier_chart, difference_chart            "
   ]
  },
  {
   "cell_type": "code",
   "execution_count": 12,
   "id": "33a710e8-504c-4942-aa75-ff69f216956e",
   "metadata": {
    "execution": {
     "iopub.execute_input": "2022-05-09T20:03:14.407264Z",
     "iopub.status.busy": "2022-05-09T20:03:14.406866Z",
     "iopub.status.idle": "2022-05-09T20:03:14.412833Z",
     "shell.execute_reply": "2022-05-09T20:03:14.411742Z"
    },
    "jupyter": {
     "source_hidden": true
    },
    "papermill": {
     "duration": 0.03187,
     "end_time": "2022-05-09T20:03:14.416449",
     "exception": false,
     "start_time": "2022-05-09T20:03:14.384579",
     "status": "completed"
    },
    "tags": [
     "remove_input"
    ]
   },
   "outputs": [],
   "source": [
    "def display_charts_for_route_group(df, route_group):    \n",
    "    subset_routes, mult, diff  = setup_charts(df, PCT_COMPETITIVE_THRESHOLD, route_group)\n",
    "\n",
    "    if len(subset_routes) > 0:\n",
    "        display(Markdown(f\"{CAPTIONS_DICT[route_group]}\"))\n",
    "\n",
    "        display(mult)\n",
    "        display(diff)"
   ]
  },
  {
   "cell_type": "markdown",
   "id": "525f9b38-072b-46d1-96a8-1aa4b038357c",
   "metadata": {
    "papermill": {
     "duration": 0.015818,
     "end_time": "2022-05-09T20:03:14.449044",
     "exception": false,
     "start_time": "2022-05-09T20:03:14.433226",
     "status": "completed"
    },
    "tags": []
   },
   "source": [
    "## Viable Competitive Routes\n",
    "### Short Routes (< 1 hr)"
   ]
  },
  {
   "cell_type": "code",
   "execution_count": 13,
   "id": "57f7084c-2cf7-45c6-ba08-1609e0bd6ca5",
   "metadata": {
    "execution": {
     "iopub.execute_input": "2022-05-09T20:03:14.486452Z",
     "iopub.status.busy": "2022-05-09T20:03:14.486005Z",
     "iopub.status.idle": "2022-05-09T20:03:14.795311Z",
     "shell.execute_reply": "2022-05-09T20:03:14.794297Z"
    },
    "jupyter": {
     "source_hidden": true
    },
    "papermill": {
     "duration": 0.341943,
     "end_time": "2022-05-09T20:03:14.807169",
     "exception": false,
     "start_time": "2022-05-09T20:03:14.465226",
     "status": "completed"
    },
    "tags": [
     "remove_input"
    ]
   },
   "outputs": [
    {
     "data": {
      "text/markdown": [
       "<br>These are routes that have **at least 25% of their trips take no more than an additional 20 min** compared to a car (up to 15 routes) are shown.<br>Within each route group, routes are sorted in descending order by % competitive trips and # trips below the additional time cut-off."
      ],
      "text/plain": [
       "<IPython.core.display.Markdown object>"
      ]
     },
     "metadata": {},
     "output_type": "display_data"
    },
    {
     "data": {
      "text/html": [
       "\n",
       "<div id=\"altair-viz-5e9c4fe17a7d4738bdb5fce87260424c\"></div>\n",
       "<script type=\"text/javascript\">\n",
       "  var VEGA_DEBUG = (typeof VEGA_DEBUG == \"undefined\") ? {} : VEGA_DEBUG;\n",
       "  (function(spec, embedOpt){\n",
       "    let outputDiv = document.currentScript.previousElementSibling;\n",
       "    if (outputDiv.id !== \"altair-viz-5e9c4fe17a7d4738bdb5fce87260424c\") {\n",
       "      outputDiv = document.getElementById(\"altair-viz-5e9c4fe17a7d4738bdb5fce87260424c\");\n",
       "    }\n",
       "    const paths = {\n",
       "      \"vega\": \"https://cdn.jsdelivr.net/npm//vega@5?noext\",\n",
       "      \"vega-lib\": \"https://cdn.jsdelivr.net/npm//vega-lib?noext\",\n",
       "      \"vega-lite\": \"https://cdn.jsdelivr.net/npm//vega-lite@4.17.0?noext\",\n",
       "      \"vega-embed\": \"https://cdn.jsdelivr.net/npm//vega-embed@6?noext\",\n",
       "    };\n",
       "\n",
       "    function maybeLoadScript(lib, version) {\n",
       "      var key = `${lib.replace(\"-\", \"\")}_version`;\n",
       "      return (VEGA_DEBUG[key] == version) ?\n",
       "        Promise.resolve(paths[lib]) :\n",
       "        new Promise(function(resolve, reject) {\n",
       "          var s = document.createElement('script');\n",
       "          document.getElementsByTagName(\"head\")[0].appendChild(s);\n",
       "          s.async = true;\n",
       "          s.onload = () => {\n",
       "            VEGA_DEBUG[key] = version;\n",
       "            return resolve(paths[lib]);\n",
       "          };\n",
       "          s.onerror = () => reject(`Error loading script: ${paths[lib]}`);\n",
       "          s.src = paths[lib];\n",
       "        });\n",
       "    }\n",
       "\n",
       "    function showError(err) {\n",
       "      outputDiv.innerHTML = `<div class=\"error\" style=\"color:red;\">${err}</div>`;\n",
       "      throw err;\n",
       "    }\n",
       "\n",
       "    function displayChart(vegaEmbed) {\n",
       "      vegaEmbed(outputDiv, spec, embedOpt)\n",
       "        .catch(err => showError(`Javascript Error: ${err.message}<br>This usually means there's a typo in your chart specification. See the javascript console for the full traceback.`));\n",
       "    }\n",
       "\n",
       "    if(typeof define === \"function\" && define.amd) {\n",
       "      requirejs.config({paths});\n",
       "      require([\"vega-embed\"], displayChart, err => showError(`Error loading script: ${err.message}`));\n",
       "    } else {\n",
       "      maybeLoadScript(\"vega\", \"5\")\n",
       "        .then(() => maybeLoadScript(\"vega-lite\", \"4.17.0\"))\n",
       "        .then(() => maybeLoadScript(\"vega-embed\", \"6\"))\n",
       "        .catch(showError)\n",
       "        .then(() => displayChart(vegaEmbed));\n",
       "    }\n",
       "  })({\"config\": {\"view\": {\"continuousWidth\": 400, \"continuousHeight\": 300, \"stroke\": null}, \"facet\": {\"spacing\": 0}}, \"data\": {\"name\": \"data-e429fa2ca227d2807597319b4c781a6f\"}, \"facet\": {\"column\": {\"field\": \"route_id\", \"sort\": [\"11028\"], \"title\": \"Route ID\", \"type\": \"nominal\"}}, \"spec\": {\"layer\": [{\"mark\": \"rule\", \"encoding\": {\"color\": {\"value\": \"black\"}, \"y\": {\"field\": \"cutoff\", \"type\": \"quantitative\"}}, \"selection\": {\"selector001\": {\"type\": \"interval\", \"bind\": \"scales\", \"encodings\": [\"x\", \"y\"]}}}, {\"mark\": {\"type\": \"point\", \"opacity\": 0.65, \"size\": 12, \"strokeWidth\": 1.1}, \"encoding\": {\"color\": {\"field\": \"time_of_day\", \"scale\": {\"range\": [\"#136C97\", \"#E16B26\", \"#F6BF16\", \"#00896B\", \"#7790A3\", \"#5B559C\"]}, \"sort\": [\"AM Peak\", \"Midday\", \"PM Peak\", \"Owl Service\"], \"title\": \"Time of Day\", \"type\": \"nominal\"}, \"tooltip\": [{\"field\": \"route_id\", \"type\": \"nominal\"}, {\"field\": \"trip_id\", \"type\": \"nominal\"}, {\"field\": \"service_hours\", \"type\": \"quantitative\"}, {\"field\": \"car_duration_hours\", \"type\": \"quantitative\"}, {\"field\": \"bus_multiplier\", \"type\": \"quantitative\"}, {\"field\": \"bus_difference\", \"type\": \"quantitative\"}, {\"field\": \"num_trips\", \"type\": \"quantitative\"}, {\"field\": \"num_competitive\", \"type\": \"quantitative\"}, {\"field\": \"pct_trips_competitive\", \"type\": \"quantitative\"}, {\"field\": \"p25\", \"type\": \"quantitative\"}, {\"field\": \"p50\", \"type\": \"quantitative\"}, {\"field\": \"p75\", \"type\": \"quantitative\"}], \"x\": {\"axis\": {\"grid\": false, \"labels\": false, \"ticks\": true, \"values\": [0]}, \"field\": \"jitter\", \"scale\": {}, \"title\": null, \"type\": \"quantitative\"}, \"y\": {\"field\": \"bus_multiplier\", \"scale\": {\"domain\": [-0.25, 2.5]}, \"title\": \"Ratio of Bus to Car Travel Time\", \"type\": \"quantitative\"}}, \"transform\": [{\"calculate\": \"sqrt(-2*log(random()))*cos(2*PI*random())\", \"as\": \"jitter\"}], \"width\": 50}, {\"layer\": [{\"mark\": {\"type\": \"point\", \"opacity\": 0.6, \"size\": 20, \"strokeWidth\": 1.3}, \"encoding\": {\"color\": {\"value\": \"#323434\"}, \"y\": {\"field\": \"bus_multiplier\", \"type\": \"quantitative\"}}, \"transform\": [{\"filter\": \"(datum.p50_trip === 1)\"}]}, {\"mark\": {\"type\": \"text\", \"align\": \"center\", \"baseline\": \"middle\"}, \"encoding\": {\"color\": {\"value\": \"black\"}, \"text\": {\"field\": \"pct_trips_competitive\", \"format\": \".0%\", \"type\": \"quantitative\"}, \"tooltip\": [{\"field\": \"route_id\", \"type\": \"nominal\"}, {\"field\": \"trip_id\", \"type\": \"nominal\"}, {\"field\": \"service_hours\", \"type\": \"quantitative\"}, {\"field\": \"car_duration_hours\", \"type\": \"quantitative\"}, {\"field\": \"bus_multiplier\", \"type\": \"quantitative\"}, {\"field\": \"bus_difference\", \"type\": \"quantitative\"}, {\"field\": \"num_trips\", \"type\": \"quantitative\"}, {\"field\": \"num_competitive\", \"type\": \"quantitative\"}, {\"field\": \"pct_trips_competitive\", \"type\": \"quantitative\"}, {\"field\": \"p25\", \"type\": \"quantitative\"}, {\"field\": \"p50\", \"type\": \"quantitative\"}, {\"field\": \"p75\", \"type\": \"quantitative\"}], \"x\": {\"value\": 30}, \"y\": {\"value\": 15}}, \"transform\": [{\"calculate\": \"sqrt(-2*log(random()))*cos(2*PI*random())\", \"as\": \"jitter\"}, {\"filter\": \"(datum.fastest_trip === 1)\"}]}]}]}, \"resolve\": {\"scale\": {\"y\": \"shared\"}}, \"title\": \"Ratio of Bus to Car Travel Time\", \"$schema\": \"https://vega.github.io/schema/vega-lite/v4.17.0.json\", \"datasets\": {\"data-e429fa2ca227d2807597319b4c781a6f\": [{\"calitp_itp_id\": 118, \"trip_key\": -1372577508136436480, \"trip_id\": \"t_1366019_b_29676_tn_4\", \"shape_id\": \"p_178406\", \"route_id\": \"11028\", \"service_hours\": 0.53, \"trip_first_departure_ts\": 46320, \"trip_last_arrival_ts\": 48240, \"departure_hour\": 12, \"time_of_day\": \"Midday\", \"p25\": 0.53, \"p50\": 0.565, \"p75\": 0.63, \"p50_trip\": 1, \"fastest_trip\": 0, \"car_duration_hours\": 0.49, \"competitive_route\": 1, \"bus_multiplier\": 1.08, \"bus_difference\": 2.4, \"num_trips\": 28, \"num_competitive\": 28, \"pct_trips_competitive\": 1.0, \"bus_difference_spread\": 6.0, \"route_group\": \"short\", \"max_trip_hrs\": 0.63, \"max_trip_route_group\": 0.83, \"name\": \"City of Gardena\", \"caltrans_district\": \"07 - Los Angeles\", \"drmt_organization_name\": null, \"cutoff2\": 20, \"cutoff\": 2}, {\"calitp_itp_id\": 118, \"trip_key\": 7016819247018341680, \"trip_id\": \"t_1366019_b_29676_tn_1\", \"shape_id\": \"p_178406\", \"route_id\": \"11028\", \"service_hours\": 0.53, \"trip_first_departure_ts\": 30120, \"trip_last_arrival_ts\": 32040, \"departure_hour\": 8, \"time_of_day\": \"AM Peak\", \"p25\": 0.53, \"p50\": 0.565, \"p75\": 0.63, \"p50_trip\": 1, \"fastest_trip\": 0, \"car_duration_hours\": 0.49, \"competitive_route\": 1, \"bus_multiplier\": 1.08, \"bus_difference\": 2.4, \"num_trips\": 28, \"num_competitive\": 28, \"pct_trips_competitive\": 1.0, \"bus_difference_spread\": 6.0, \"route_group\": \"short\", \"max_trip_hrs\": 0.63, \"max_trip_route_group\": 0.83, \"name\": \"City of Gardena\", \"caltrans_district\": \"07 - Los Angeles\", \"drmt_organization_name\": null, \"cutoff2\": 20, \"cutoff\": 2}, {\"calitp_itp_id\": 118, \"trip_key\": 5332978293222479907, \"trip_id\": \"t_1366019_b_29676_tn_7\", \"shape_id\": \"p_178406\", \"route_id\": \"11028\", \"service_hours\": 0.53, \"trip_first_departure_ts\": 62520, \"trip_last_arrival_ts\": 64440, \"departure_hour\": 17, \"time_of_day\": \"PM Peak\", \"p25\": 0.53, \"p50\": 0.565, \"p75\": 0.63, \"p50_trip\": 1, \"fastest_trip\": 0, \"car_duration_hours\": 0.49, \"competitive_route\": 1, \"bus_multiplier\": 1.08, \"bus_difference\": 2.4, \"num_trips\": 28, \"num_competitive\": 28, \"pct_trips_competitive\": 1.0, \"bus_difference_spread\": 6.0, \"route_group\": \"short\", \"max_trip_hrs\": 0.63, \"max_trip_route_group\": 0.83, \"name\": \"City of Gardena\", \"caltrans_district\": \"07 - Los Angeles\", \"drmt_organization_name\": null, \"cutoff2\": 20, \"cutoff\": 2}, {\"calitp_itp_id\": 118, \"trip_key\": -8954781235138461151, \"trip_id\": \"t_1366015_b_29676_tn_1\", \"shape_id\": \"p_178406\", \"route_id\": \"11028\", \"service_hours\": 0.53, \"trip_first_departure_ts\": 32820, \"trip_last_arrival_ts\": 34740, \"departure_hour\": 9, \"time_of_day\": \"AM Peak\", \"p25\": 0.53, \"p50\": 0.565, \"p75\": 0.63, \"p50_trip\": 1, \"fastest_trip\": 0, \"car_duration_hours\": 0.49, \"competitive_route\": 1, \"bus_multiplier\": 1.08, \"bus_difference\": 2.4, \"num_trips\": 28, \"num_competitive\": 28, \"pct_trips_competitive\": 1.0, \"bus_difference_spread\": 6.0, \"route_group\": \"short\", \"max_trip_hrs\": 0.63, \"max_trip_route_group\": 0.83, \"name\": \"City of Gardena\", \"caltrans_district\": \"07 - Los Angeles\", \"drmt_organization_name\": null, \"cutoff2\": 20, \"cutoff\": 2}, {\"calitp_itp_id\": 118, \"trip_key\": -1696059690583935144, \"trip_id\": \"t_1366015_b_29676_tn_6\", \"shape_id\": \"p_178406\", \"route_id\": \"11028\", \"service_hours\": 0.53, \"trip_first_departure_ts\": 59820, \"trip_last_arrival_ts\": 61740, \"departure_hour\": 16, \"time_of_day\": \"Midday\", \"p25\": 0.53, \"p50\": 0.565, \"p75\": 0.63, \"p50_trip\": 1, \"fastest_trip\": 0, \"car_duration_hours\": 0.49, \"competitive_route\": 1, \"bus_multiplier\": 1.08, \"bus_difference\": 2.4, \"num_trips\": 28, \"num_competitive\": 28, \"pct_trips_competitive\": 1.0, \"bus_difference_spread\": 6.0, \"route_group\": \"short\", \"max_trip_hrs\": 0.63, \"max_trip_route_group\": 0.83, \"name\": \"City of Gardena\", \"caltrans_district\": \"07 - Los Angeles\", \"drmt_organization_name\": null, \"cutoff2\": 20, \"cutoff\": 2}, {\"calitp_itp_id\": 118, \"trip_key\": 5379235107430957967, \"trip_id\": \"t_1366015_b_29676_tn_5\", \"shape_id\": \"p_178406\", \"route_id\": \"11028\", \"service_hours\": 0.53, \"trip_first_departure_ts\": 54420, \"trip_last_arrival_ts\": 56340, \"departure_hour\": 15, \"time_of_day\": \"Midday\", \"p25\": 0.53, \"p50\": 0.565, \"p75\": 0.63, \"p50_trip\": 1, \"fastest_trip\": 0, \"car_duration_hours\": 0.49, \"competitive_route\": 1, \"bus_multiplier\": 1.08, \"bus_difference\": 2.4, \"num_trips\": 28, \"num_competitive\": 28, \"pct_trips_competitive\": 1.0, \"bus_difference_spread\": 6.0, \"route_group\": \"short\", \"max_trip_hrs\": 0.63, \"max_trip_route_group\": 0.83, \"name\": \"City of Gardena\", \"caltrans_district\": \"07 - Los Angeles\", \"drmt_organization_name\": null, \"cutoff2\": 20, \"cutoff\": 2}, {\"calitp_itp_id\": 118, \"trip_key\": 5543595234003855497, \"trip_id\": \"t_1366019_b_29676_tn_2\", \"shape_id\": \"p_178406\", \"route_id\": \"11028\", \"service_hours\": 0.53, \"trip_first_departure_ts\": 35520, \"trip_last_arrival_ts\": 37440, \"departure_hour\": 9, \"time_of_day\": \"AM Peak\", \"p25\": 0.53, \"p50\": 0.565, \"p75\": 0.63, \"p50_trip\": 1, \"fastest_trip\": 0, \"car_duration_hours\": 0.49, \"competitive_route\": 1, \"bus_multiplier\": 1.08, \"bus_difference\": 2.4, \"num_trips\": 28, \"num_competitive\": 28, \"pct_trips_competitive\": 1.0, \"bus_difference_spread\": 6.0, \"route_group\": \"short\", \"max_trip_hrs\": 0.63, \"max_trip_route_group\": 0.83, \"name\": \"City of Gardena\", \"caltrans_district\": \"07 - Los Angeles\", \"drmt_organization_name\": null, \"cutoff2\": 20, \"cutoff\": 2}, {\"calitp_itp_id\": 118, \"trip_key\": 4987759971207289357, \"trip_id\": \"t_1366015_b_29676_tn_7\", \"shape_id\": \"p_178406\", \"route_id\": \"11028\", \"service_hours\": 0.53, \"trip_first_departure_ts\": 65220, \"trip_last_arrival_ts\": 67140, \"departure_hour\": 18, \"time_of_day\": \"PM Peak\", \"p25\": 0.53, \"p50\": 0.565, \"p75\": 0.63, \"p50_trip\": 1, \"fastest_trip\": 1, \"car_duration_hours\": 0.49, \"competitive_route\": 1, \"bus_multiplier\": 1.08, \"bus_difference\": 2.4, \"num_trips\": 28, \"num_competitive\": 28, \"pct_trips_competitive\": 1.0, \"bus_difference_spread\": 6.0, \"route_group\": \"short\", \"max_trip_hrs\": 0.63, \"max_trip_route_group\": 0.83, \"name\": \"City of Gardena\", \"caltrans_district\": \"07 - Los Angeles\", \"drmt_organization_name\": null, \"cutoff2\": 20, \"cutoff\": 2}, {\"calitp_itp_id\": 118, \"trip_key\": -1486508128991620450, \"trip_id\": \"t_1366019_b_29676_tn_6\", \"shape_id\": \"p_178406\", \"route_id\": \"11028\", \"service_hours\": 0.53, \"trip_first_departure_ts\": 57120, \"trip_last_arrival_ts\": 59040, \"departure_hour\": 15, \"time_of_day\": \"Midday\", \"p25\": 0.53, \"p50\": 0.565, \"p75\": 0.63, \"p50_trip\": 1, \"fastest_trip\": 0, \"car_duration_hours\": 0.49, \"competitive_route\": 1, \"bus_multiplier\": 1.08, \"bus_difference\": 2.4, \"num_trips\": 28, \"num_competitive\": 28, \"pct_trips_competitive\": 1.0, \"bus_difference_spread\": 6.0, \"route_group\": \"short\", \"max_trip_hrs\": 0.63, \"max_trip_route_group\": 0.83, \"name\": \"City of Gardena\", \"caltrans_district\": \"07 - Los Angeles\", \"drmt_organization_name\": null, \"cutoff2\": 20, \"cutoff\": 2}, {\"calitp_itp_id\": 118, \"trip_key\": 4225478380428352784, \"trip_id\": \"t_1366019_b_29676_tn_3\", \"shape_id\": \"p_178406\", \"route_id\": \"11028\", \"service_hours\": 0.53, \"trip_first_departure_ts\": 40920, \"trip_last_arrival_ts\": 42840, \"departure_hour\": 11, \"time_of_day\": \"Midday\", \"p25\": 0.53, \"p50\": 0.565, \"p75\": 0.63, \"p50_trip\": 1, \"fastest_trip\": 0, \"car_duration_hours\": 0.49, \"competitive_route\": 1, \"bus_multiplier\": 1.08, \"bus_difference\": 2.4, \"num_trips\": 28, \"num_competitive\": 28, \"pct_trips_competitive\": 1.0, \"bus_difference_spread\": 6.0, \"route_group\": \"short\", \"max_trip_hrs\": 0.63, \"max_trip_route_group\": 0.83, \"name\": \"City of Gardena\", \"caltrans_district\": \"07 - Los Angeles\", \"drmt_organization_name\": null, \"cutoff2\": 20, \"cutoff\": 2}, {\"calitp_itp_id\": 118, \"trip_key\": -5812498746558009092, \"trip_id\": \"t_1366019_b_29676_tn_5\", \"shape_id\": \"p_178406\", \"route_id\": \"11028\", \"service_hours\": 0.53, \"trip_first_departure_ts\": 51720, \"trip_last_arrival_ts\": 53640, \"departure_hour\": 14, \"time_of_day\": \"Midday\", \"p25\": 0.53, \"p50\": 0.565, \"p75\": 0.63, \"p50_trip\": 1, \"fastest_trip\": 0, \"car_duration_hours\": 0.49, \"competitive_route\": 1, \"bus_multiplier\": 1.08, \"bus_difference\": 2.4, \"num_trips\": 28, \"num_competitive\": 28, \"pct_trips_competitive\": 1.0, \"bus_difference_spread\": 6.0, \"route_group\": \"short\", \"max_trip_hrs\": 0.63, \"max_trip_route_group\": 0.83, \"name\": \"City of Gardena\", \"caltrans_district\": \"07 - Los Angeles\", \"drmt_organization_name\": null, \"cutoff2\": 20, \"cutoff\": 2}, {\"calitp_itp_id\": 118, \"trip_key\": 5427680503512932933, \"trip_id\": \"t_1366015_b_29676_tn_3\", \"shape_id\": \"p_178406\", \"route_id\": \"11028\", \"service_hours\": 0.53, \"trip_first_departure_ts\": 43620, \"trip_last_arrival_ts\": 45540, \"departure_hour\": 12, \"time_of_day\": \"Midday\", \"p25\": 0.53, \"p50\": 0.565, \"p75\": 0.63, \"p50_trip\": 1, \"fastest_trip\": 0, \"car_duration_hours\": 0.49, \"competitive_route\": 1, \"bus_multiplier\": 1.08, \"bus_difference\": 2.4, \"num_trips\": 28, \"num_competitive\": 28, \"pct_trips_competitive\": 1.0, \"bus_difference_spread\": 6.0, \"route_group\": \"short\", \"max_trip_hrs\": 0.63, \"max_trip_route_group\": 0.83, \"name\": \"City of Gardena\", \"caltrans_district\": \"07 - Los Angeles\", \"drmt_organization_name\": null, \"cutoff2\": 20, \"cutoff\": 2}, {\"calitp_itp_id\": 118, \"trip_key\": -5808960124639347255, \"trip_id\": \"t_1366015_b_29676_tn_2\", \"shape_id\": \"p_178406\", \"route_id\": \"11028\", \"service_hours\": 0.53, \"trip_first_departure_ts\": 38220, \"trip_last_arrival_ts\": 40140, \"departure_hour\": 10, \"time_of_day\": \"Midday\", \"p25\": 0.53, \"p50\": 0.565, \"p75\": 0.63, \"p50_trip\": 1, \"fastest_trip\": 0, \"car_duration_hours\": 0.49, \"competitive_route\": 1, \"bus_multiplier\": 1.08, \"bus_difference\": 2.4, \"num_trips\": 28, \"num_competitive\": 28, \"pct_trips_competitive\": 1.0, \"bus_difference_spread\": 6.0, \"route_group\": \"short\", \"max_trip_hrs\": 0.63, \"max_trip_route_group\": 0.83, \"name\": \"City of Gardena\", \"caltrans_district\": \"07 - Los Angeles\", \"drmt_organization_name\": null, \"cutoff2\": 20, \"cutoff\": 2}, {\"calitp_itp_id\": 118, \"trip_key\": -2432840590800293824, \"trip_id\": \"t_1366015_b_29676_tn_4\", \"shape_id\": \"p_178406\", \"route_id\": \"11028\", \"service_hours\": 0.53, \"trip_first_departure_ts\": 49020, \"trip_last_arrival_ts\": 50940, \"departure_hour\": 13, \"time_of_day\": \"Midday\", \"p25\": 0.53, \"p50\": 0.565, \"p75\": 0.63, \"p50_trip\": 1, \"fastest_trip\": 0, \"car_duration_hours\": 0.49, \"competitive_route\": 1, \"bus_multiplier\": 1.08, \"bus_difference\": 2.4, \"num_trips\": 28, \"num_competitive\": 28, \"pct_trips_competitive\": 1.0, \"bus_difference_spread\": 6.0, \"route_group\": \"short\", \"max_trip_hrs\": 0.63, \"max_trip_route_group\": 0.83, \"name\": \"City of Gardena\", \"caltrans_district\": \"07 - Los Angeles\", \"drmt_organization_name\": null, \"cutoff2\": 20, \"cutoff\": 2}, {\"calitp_itp_id\": 118, \"trip_key\": -4950462320872157282, \"trip_id\": \"t_1366018_b_29676_tn_0\", \"shape_id\": \"p_282433\", \"route_id\": \"11028\", \"service_hours\": 0.6, \"trip_first_departure_ts\": 27540, \"trip_last_arrival_ts\": 29700, \"departure_hour\": 7, \"time_of_day\": \"AM Peak\", \"p25\": 0.53, \"p50\": 0.565, \"p75\": 0.63, \"p50_trip\": 0, \"fastest_trip\": 0, \"car_duration_hours\": 0.49, \"competitive_route\": 1, \"bus_multiplier\": 1.22, \"bus_difference\": 6.6, \"num_trips\": 28, \"num_competitive\": 28, \"pct_trips_competitive\": 1.0, \"bus_difference_spread\": 6.0, \"route_group\": \"short\", \"max_trip_hrs\": 0.63, \"max_trip_route_group\": 0.83, \"name\": \"City of Gardena\", \"caltrans_district\": \"07 - Los Angeles\", \"drmt_organization_name\": null, \"cutoff2\": 20, \"cutoff\": 2}, {\"calitp_itp_id\": 118, \"trip_key\": -2638499373886652526, \"trip_id\": \"t_1366021_b_29676_tn_1\", \"shape_id\": \"p_282433\", \"route_id\": \"11028\", \"service_hours\": 0.6, \"trip_first_departure_ts\": 57240, \"trip_last_arrival_ts\": 59400, \"departure_hour\": 15, \"time_of_day\": \"Midday\", \"p25\": 0.53, \"p50\": 0.565, \"p75\": 0.63, \"p50_trip\": 0, \"fastest_trip\": 0, \"car_duration_hours\": 0.49, \"competitive_route\": 1, \"bus_multiplier\": 1.22, \"bus_difference\": 6.6, \"num_trips\": 28, \"num_competitive\": 28, \"pct_trips_competitive\": 1.0, \"bus_difference_spread\": 6.0, \"route_group\": \"short\", \"max_trip_hrs\": 0.63, \"max_trip_route_group\": 0.83, \"name\": \"City of Gardena\", \"caltrans_district\": \"07 - Los Angeles\", \"drmt_organization_name\": null, \"cutoff2\": 20, \"cutoff\": 2}, {\"calitp_itp_id\": 118, \"trip_key\": 1150104854769908764, \"trip_id\": \"t_1366017_b_29676_tn_2\", \"shape_id\": \"p_282433\", \"route_id\": \"11028\", \"service_hours\": 0.6, \"trip_first_departure_ts\": 59940, \"trip_last_arrival_ts\": 62100, \"departure_hour\": 16, \"time_of_day\": \"Midday\", \"p25\": 0.53, \"p50\": 0.565, \"p75\": 0.63, \"p50_trip\": 0, \"fastest_trip\": 0, \"car_duration_hours\": 0.49, \"competitive_route\": 1, \"bus_multiplier\": 1.22, \"bus_difference\": 6.6, \"num_trips\": 28, \"num_competitive\": 28, \"pct_trips_competitive\": 1.0, \"bus_difference_spread\": 6.0, \"route_group\": \"short\", \"max_trip_hrs\": 0.63, \"max_trip_route_group\": 0.83, \"name\": \"City of Gardena\", \"caltrans_district\": \"07 - Los Angeles\", \"drmt_organization_name\": null, \"cutoff2\": 20, \"cutoff\": 2}, {\"calitp_itp_id\": 118, \"trip_key\": 2634871259947735912, \"trip_id\": \"t_1366017_b_29676_tn_1\", \"shape_id\": \"p_282433\", \"route_id\": \"11028\", \"service_hours\": 0.6, \"trip_first_departure_ts\": 54540, \"trip_last_arrival_ts\": 56700, \"departure_hour\": 15, \"time_of_day\": \"Midday\", \"p25\": 0.53, \"p50\": 0.565, \"p75\": 0.63, \"p50_trip\": 0, \"fastest_trip\": 0, \"car_duration_hours\": 0.49, \"competitive_route\": 1, \"bus_multiplier\": 1.22, \"bus_difference\": 6.6, \"num_trips\": 28, \"num_competitive\": 28, \"pct_trips_competitive\": 1.0, \"bus_difference_spread\": 6.0, \"route_group\": \"short\", \"max_trip_hrs\": 0.63, \"max_trip_route_group\": 0.83, \"name\": \"City of Gardena\", \"caltrans_district\": \"07 - Los Angeles\", \"drmt_organization_name\": null, \"cutoff2\": 20, \"cutoff\": 2}, {\"calitp_itp_id\": 118, \"trip_key\": 5867520996491274236, \"trip_id\": \"t_1366014_b_29676_tn_0\", \"shape_id\": \"p_282433\", \"route_id\": \"11028\", \"service_hours\": 0.6, \"trip_first_departure_ts\": 30240, \"trip_last_arrival_ts\": 32400, \"departure_hour\": 8, \"time_of_day\": \"AM Peak\", \"p25\": 0.53, \"p50\": 0.565, \"p75\": 0.63, \"p50_trip\": 0, \"fastest_trip\": 0, \"car_duration_hours\": 0.49, \"competitive_route\": 1, \"bus_multiplier\": 1.22, \"bus_difference\": 6.6, \"num_trips\": 28, \"num_competitive\": 28, \"pct_trips_competitive\": 1.0, \"bus_difference_spread\": 6.0, \"route_group\": \"short\", \"max_trip_hrs\": 0.63, \"max_trip_route_group\": 0.83, \"name\": \"City of Gardena\", \"caltrans_district\": \"07 - Los Angeles\", \"drmt_organization_name\": null, \"cutoff2\": 20, \"cutoff\": 2}, {\"calitp_itp_id\": 118, \"trip_key\": -7602382970305410050, \"trip_id\": \"t_1366021_b_29676_tn_2\", \"shape_id\": \"p_282433\", \"route_id\": \"11028\", \"service_hours\": 0.6, \"trip_first_departure_ts\": 62640, \"trip_last_arrival_ts\": 64800, \"departure_hour\": 17, \"time_of_day\": \"PM Peak\", \"p25\": 0.53, \"p50\": 0.565, \"p75\": 0.63, \"p50_trip\": 0, \"fastest_trip\": 0, \"car_duration_hours\": 0.49, \"competitive_route\": 1, \"bus_multiplier\": 1.22, \"bus_difference\": 6.6, \"num_trips\": 28, \"num_competitive\": 28, \"pct_trips_competitive\": 1.0, \"bus_difference_spread\": 6.0, \"route_group\": \"short\", \"max_trip_hrs\": 0.63, \"max_trip_route_group\": 0.83, \"name\": \"City of Gardena\", \"caltrans_district\": \"07 - Los Angeles\", \"drmt_organization_name\": null, \"cutoff2\": 20, \"cutoff\": 2}, {\"calitp_itp_id\": 118, \"trip_key\": 8166486977050405865, \"trip_id\": \"t_1366020_b_29676_tn_4\", \"shape_id\": \"p_282433\", \"route_id\": \"11028\", \"service_hours\": 0.63, \"trip_first_departure_ts\": 49140, \"trip_last_arrival_ts\": 51420, \"departure_hour\": 13, \"time_of_day\": \"Midday\", \"p25\": 0.53, \"p50\": 0.565, \"p75\": 0.63, \"p50_trip\": 0, \"fastest_trip\": 0, \"car_duration_hours\": 0.49, \"competitive_route\": 1, \"bus_multiplier\": 1.29, \"bus_difference\": 8.4, \"num_trips\": 28, \"num_competitive\": 28, \"pct_trips_competitive\": 1.0, \"bus_difference_spread\": 6.0, \"route_group\": \"short\", \"max_trip_hrs\": 0.63, \"max_trip_route_group\": 0.83, \"name\": \"City of Gardena\", \"caltrans_district\": \"07 - Los Angeles\", \"drmt_organization_name\": null, \"cutoff2\": 20, \"cutoff\": 2}, {\"calitp_itp_id\": 118, \"trip_key\": 1015361398689675342, \"trip_id\": \"t_1366016_b_29676_tn_2\", \"shape_id\": \"p_282433\", \"route_id\": \"11028\", \"service_hours\": 0.63, \"trip_first_departure_ts\": 41040, \"trip_last_arrival_ts\": 43320, \"departure_hour\": 11, \"time_of_day\": \"Midday\", \"p25\": 0.53, \"p50\": 0.565, \"p75\": 0.63, \"p50_trip\": 0, \"fastest_trip\": 0, \"car_duration_hours\": 0.49, \"competitive_route\": 1, \"bus_multiplier\": 1.29, \"bus_difference\": 8.4, \"num_trips\": 28, \"num_competitive\": 28, \"pct_trips_competitive\": 1.0, \"bus_difference_spread\": 6.0, \"route_group\": \"short\", \"max_trip_hrs\": 0.63, \"max_trip_route_group\": 0.83, \"name\": \"City of Gardena\", \"caltrans_district\": \"07 - Los Angeles\", \"drmt_organization_name\": null, \"cutoff2\": 20, \"cutoff\": 2}, {\"calitp_itp_id\": 118, \"trip_key\": 149663345072019794, \"trip_id\": \"t_1366020_b_29676_tn_2\", \"shape_id\": \"p_282433\", \"route_id\": \"11028\", \"service_hours\": 0.63, \"trip_first_departure_ts\": 38340, \"trip_last_arrival_ts\": 40620, \"departure_hour\": 10, \"time_of_day\": \"Midday\", \"p25\": 0.53, \"p50\": 0.565, \"p75\": 0.63, \"p50_trip\": 0, \"fastest_trip\": 0, \"car_duration_hours\": 0.49, \"competitive_route\": 1, \"bus_multiplier\": 1.29, \"bus_difference\": 8.4, \"num_trips\": 28, \"num_competitive\": 28, \"pct_trips_competitive\": 1.0, \"bus_difference_spread\": 6.0, \"route_group\": \"short\", \"max_trip_hrs\": 0.63, \"max_trip_route_group\": 0.83, \"name\": \"City of Gardena\", \"caltrans_district\": \"07 - Los Angeles\", \"drmt_organization_name\": null, \"cutoff2\": 20, \"cutoff\": 2}, {\"calitp_itp_id\": 118, \"trip_key\": 7443864157371174291, \"trip_id\": \"t_1366020_b_29676_tn_3\", \"shape_id\": \"p_282433\", \"route_id\": \"11028\", \"service_hours\": 0.63, \"trip_first_departure_ts\": 43740, \"trip_last_arrival_ts\": 46020, \"departure_hour\": 12, \"time_of_day\": \"Midday\", \"p25\": 0.53, \"p50\": 0.565, \"p75\": 0.63, \"p50_trip\": 0, \"fastest_trip\": 0, \"car_duration_hours\": 0.49, \"competitive_route\": 1, \"bus_multiplier\": 1.29, \"bus_difference\": 8.4, \"num_trips\": 28, \"num_competitive\": 28, \"pct_trips_competitive\": 1.0, \"bus_difference_spread\": 6.0, \"route_group\": \"short\", \"max_trip_hrs\": 0.63, \"max_trip_route_group\": 0.83, \"name\": \"City of Gardena\", \"caltrans_district\": \"07 - Los Angeles\", \"drmt_organization_name\": null, \"cutoff2\": 20, \"cutoff\": 2}, {\"calitp_itp_id\": 118, \"trip_key\": -7083425015888724320, \"trip_id\": \"t_1366020_b_29676_tn_1\", \"shape_id\": \"p_282433\", \"route_id\": \"11028\", \"service_hours\": 0.63, \"trip_first_departure_ts\": 32940, \"trip_last_arrival_ts\": 35220, \"departure_hour\": 9, \"time_of_day\": \"AM Peak\", \"p25\": 0.53, \"p50\": 0.565, \"p75\": 0.63, \"p50_trip\": 0, \"fastest_trip\": 0, \"car_duration_hours\": 0.49, \"competitive_route\": 1, \"bus_multiplier\": 1.29, \"bus_difference\": 8.4, \"num_trips\": 28, \"num_competitive\": 28, \"pct_trips_competitive\": 1.0, \"bus_difference_spread\": 6.0, \"route_group\": \"short\", \"max_trip_hrs\": 0.63, \"max_trip_route_group\": 0.83, \"name\": \"City of Gardena\", \"caltrans_district\": \"07 - Los Angeles\", \"drmt_organization_name\": null, \"cutoff2\": 20, \"cutoff\": 2}, {\"calitp_itp_id\": 118, \"trip_key\": 5283758938027533347, \"trip_id\": \"t_1366016_b_29676_tn_3\", \"shape_id\": \"p_282433\", \"route_id\": \"11028\", \"service_hours\": 0.63, \"trip_first_departure_ts\": 46440, \"trip_last_arrival_ts\": 48720, \"departure_hour\": 12, \"time_of_day\": \"Midday\", \"p25\": 0.53, \"p50\": 0.565, \"p75\": 0.63, \"p50_trip\": 0, \"fastest_trip\": 0, \"car_duration_hours\": 0.49, \"competitive_route\": 1, \"bus_multiplier\": 1.29, \"bus_difference\": 8.4, \"num_trips\": 28, \"num_competitive\": 28, \"pct_trips_competitive\": 1.0, \"bus_difference_spread\": 6.0, \"route_group\": \"short\", \"max_trip_hrs\": 0.63, \"max_trip_route_group\": 0.83, \"name\": \"City of Gardena\", \"caltrans_district\": \"07 - Los Angeles\", \"drmt_organization_name\": null, \"cutoff2\": 20, \"cutoff\": 2}, {\"calitp_itp_id\": 118, \"trip_key\": -2174549733388464298, \"trip_id\": \"t_1366016_b_29676_tn_1\", \"shape_id\": \"p_282433\", \"route_id\": \"11028\", \"service_hours\": 0.63, \"trip_first_departure_ts\": 35640, \"trip_last_arrival_ts\": 37920, \"departure_hour\": 9, \"time_of_day\": \"AM Peak\", \"p25\": 0.53, \"p50\": 0.565, \"p75\": 0.63, \"p50_trip\": 0, \"fastest_trip\": 0, \"car_duration_hours\": 0.49, \"competitive_route\": 1, \"bus_multiplier\": 1.29, \"bus_difference\": 8.4, \"num_trips\": 28, \"num_competitive\": 28, \"pct_trips_competitive\": 1.0, \"bus_difference_spread\": 6.0, \"route_group\": \"short\", \"max_trip_hrs\": 0.63, \"max_trip_route_group\": 0.83, \"name\": \"City of Gardena\", \"caltrans_district\": \"07 - Los Angeles\", \"drmt_organization_name\": null, \"cutoff2\": 20, \"cutoff\": 2}, {\"calitp_itp_id\": 118, \"trip_key\": 2938506307684795943, \"trip_id\": \"t_1366016_b_29676_tn_4\", \"shape_id\": \"p_282433\", \"route_id\": \"11028\", \"service_hours\": 0.63, \"trip_first_departure_ts\": 51840, \"trip_last_arrival_ts\": 54120, \"departure_hour\": 14, \"time_of_day\": \"Midday\", \"p25\": 0.53, \"p50\": 0.565, \"p75\": 0.63, \"p50_trip\": 0, \"fastest_trip\": 0, \"car_duration_hours\": 0.49, \"competitive_route\": 1, \"bus_multiplier\": 1.29, \"bus_difference\": 8.4, \"num_trips\": 28, \"num_competitive\": 28, \"pct_trips_competitive\": 1.0, \"bus_difference_spread\": 6.0, \"route_group\": \"short\", \"max_trip_hrs\": 0.63, \"max_trip_route_group\": 0.83, \"name\": \"City of Gardena\", \"caltrans_district\": \"07 - Los Angeles\", \"drmt_organization_name\": null, \"cutoff2\": 20, \"cutoff\": 2}]}}, {\"mode\": \"vega-lite\"});\n",
       "</script>"
      ],
      "text/plain": [
       "alt.FacetChart(...)"
      ]
     },
     "metadata": {},
     "output_type": "display_data"
    },
    {
     "data": {
      "text/html": [
       "\n",
       "<div id=\"altair-viz-cff250aea4b042a788cb87163d2467a2\"></div>\n",
       "<script type=\"text/javascript\">\n",
       "  var VEGA_DEBUG = (typeof VEGA_DEBUG == \"undefined\") ? {} : VEGA_DEBUG;\n",
       "  (function(spec, embedOpt){\n",
       "    let outputDiv = document.currentScript.previousElementSibling;\n",
       "    if (outputDiv.id !== \"altair-viz-cff250aea4b042a788cb87163d2467a2\") {\n",
       "      outputDiv = document.getElementById(\"altair-viz-cff250aea4b042a788cb87163d2467a2\");\n",
       "    }\n",
       "    const paths = {\n",
       "      \"vega\": \"https://cdn.jsdelivr.net/npm//vega@5?noext\",\n",
       "      \"vega-lib\": \"https://cdn.jsdelivr.net/npm//vega-lib?noext\",\n",
       "      \"vega-lite\": \"https://cdn.jsdelivr.net/npm//vega-lite@4.17.0?noext\",\n",
       "      \"vega-embed\": \"https://cdn.jsdelivr.net/npm//vega-embed@6?noext\",\n",
       "    };\n",
       "\n",
       "    function maybeLoadScript(lib, version) {\n",
       "      var key = `${lib.replace(\"-\", \"\")}_version`;\n",
       "      return (VEGA_DEBUG[key] == version) ?\n",
       "        Promise.resolve(paths[lib]) :\n",
       "        new Promise(function(resolve, reject) {\n",
       "          var s = document.createElement('script');\n",
       "          document.getElementsByTagName(\"head\")[0].appendChild(s);\n",
       "          s.async = true;\n",
       "          s.onload = () => {\n",
       "            VEGA_DEBUG[key] = version;\n",
       "            return resolve(paths[lib]);\n",
       "          };\n",
       "          s.onerror = () => reject(`Error loading script: ${paths[lib]}`);\n",
       "          s.src = paths[lib];\n",
       "        });\n",
       "    }\n",
       "\n",
       "    function showError(err) {\n",
       "      outputDiv.innerHTML = `<div class=\"error\" style=\"color:red;\">${err}</div>`;\n",
       "      throw err;\n",
       "    }\n",
       "\n",
       "    function displayChart(vegaEmbed) {\n",
       "      vegaEmbed(outputDiv, spec, embedOpt)\n",
       "        .catch(err => showError(`Javascript Error: ${err.message}<br>This usually means there's a typo in your chart specification. See the javascript console for the full traceback.`));\n",
       "    }\n",
       "\n",
       "    if(typeof define === \"function\" && define.amd) {\n",
       "      requirejs.config({paths});\n",
       "      require([\"vega-embed\"], displayChart, err => showError(`Error loading script: ${err.message}`));\n",
       "    } else {\n",
       "      maybeLoadScript(\"vega\", \"5\")\n",
       "        .then(() => maybeLoadScript(\"vega-lite\", \"4.17.0\"))\n",
       "        .then(() => maybeLoadScript(\"vega-embed\", \"6\"))\n",
       "        .catch(showError)\n",
       "        .then(() => displayChart(vegaEmbed));\n",
       "    }\n",
       "  })({\"config\": {\"view\": {\"continuousWidth\": 400, \"continuousHeight\": 300, \"stroke\": null}, \"facet\": {\"spacing\": 0}}, \"data\": {\"name\": \"data-eefab0ef0b18773273af1c39fd058225\"}, \"facet\": {\"column\": {\"field\": \"route_id\", \"sort\": [\"11028\"], \"title\": \"Route ID\", \"type\": \"nominal\"}}, \"spec\": {\"layer\": [{\"mark\": \"rule\", \"encoding\": {\"color\": {\"value\": \"black\"}, \"y\": {\"field\": \"cutoff\", \"type\": \"quantitative\"}}, \"selection\": {\"selector002\": {\"type\": \"interval\", \"bind\": \"scales\", \"encodings\": [\"x\", \"y\"]}}}, {\"mark\": {\"type\": \"rule\", \"strokeDash\": [3, 3]}, \"encoding\": {\"color\": {\"value\": \"#323434\"}, \"y\": {\"field\": \"cutoff2\", \"type\": \"quantitative\"}}}, {\"mark\": {\"type\": \"point\", \"opacity\": 0.65, \"size\": 12, \"strokeWidth\": 1.1}, \"encoding\": {\"color\": {\"field\": \"time_of_day\", \"scale\": {\"range\": [\"#136C97\", \"#E16B26\", \"#F6BF16\", \"#00896B\", \"#7790A3\", \"#5B559C\"]}, \"sort\": [\"AM Peak\", \"Midday\", \"PM Peak\", \"Owl Service\"], \"title\": \"Time of Day\", \"type\": \"nominal\"}, \"tooltip\": [{\"field\": \"route_id\", \"type\": \"nominal\"}, {\"field\": \"trip_id\", \"type\": \"nominal\"}, {\"field\": \"service_hours\", \"type\": \"quantitative\"}, {\"field\": \"car_duration_hours\", \"type\": \"quantitative\"}, {\"field\": \"bus_multiplier\", \"type\": \"quantitative\"}, {\"field\": \"bus_difference\", \"type\": \"quantitative\"}, {\"field\": \"num_trips\", \"type\": \"quantitative\"}, {\"field\": \"num_competitive\", \"type\": \"quantitative\"}, {\"field\": \"pct_trips_competitive\", \"type\": \"quantitative\"}, {\"field\": \"p25\", \"type\": \"quantitative\"}, {\"field\": \"p50\", \"type\": \"quantitative\"}, {\"field\": \"p75\", \"type\": \"quantitative\"}], \"x\": {\"axis\": {\"grid\": false, \"labels\": false, \"ticks\": true, \"values\": [0]}, \"field\": \"jitter\", \"scale\": {}, \"title\": null, \"type\": \"quantitative\"}, \"y\": {\"field\": \"bus_difference\", \"scale\": {\"domain\": [-5, 25.0]}, \"title\": \"Difference in Bus to Car Travel Time (min)\", \"type\": \"quantitative\"}}, \"transform\": [{\"calculate\": \"sqrt(-2*log(random()))*cos(2*PI*random())\", \"as\": \"jitter\"}], \"width\": 50}, {\"layer\": [{\"mark\": {\"type\": \"point\", \"opacity\": 0.6, \"size\": 20, \"strokeWidth\": 1.3}, \"encoding\": {\"color\": {\"value\": \"#323434\"}, \"y\": {\"field\": \"bus_difference\", \"type\": \"quantitative\"}}, \"transform\": [{\"filter\": \"(datum.p50_trip === 1)\"}]}, {\"mark\": {\"type\": \"text\", \"align\": \"center\", \"baseline\": \"middle\"}, \"encoding\": {\"color\": {\"value\": \"black\"}, \"text\": {\"field\": \"pct_trips_competitive\", \"format\": \".0%\", \"type\": \"quantitative\"}, \"tooltip\": [{\"field\": \"route_id\", \"type\": \"nominal\"}, {\"field\": \"trip_id\", \"type\": \"nominal\"}, {\"field\": \"service_hours\", \"type\": \"quantitative\"}, {\"field\": \"car_duration_hours\", \"type\": \"quantitative\"}, {\"field\": \"bus_multiplier\", \"type\": \"quantitative\"}, {\"field\": \"bus_difference\", \"type\": \"quantitative\"}, {\"field\": \"num_trips\", \"type\": \"quantitative\"}, {\"field\": \"num_competitive\", \"type\": \"quantitative\"}, {\"field\": \"pct_trips_competitive\", \"type\": \"quantitative\"}, {\"field\": \"p25\", \"type\": \"quantitative\"}, {\"field\": \"p50\", \"type\": \"quantitative\"}, {\"field\": \"p75\", \"type\": \"quantitative\"}], \"x\": {\"value\": 30}, \"y\": {\"value\": 15}}, \"transform\": [{\"calculate\": \"sqrt(-2*log(random()))*cos(2*PI*random())\", \"as\": \"jitter\"}, {\"filter\": \"(datum.fastest_trip === 1)\"}]}]}]}, \"resolve\": {\"scale\": {\"y\": \"shared\"}}, \"title\": \"Difference in Bus to Car Travel Time (min)\", \"$schema\": \"https://vega.github.io/schema/vega-lite/v4.17.0.json\", \"datasets\": {\"data-eefab0ef0b18773273af1c39fd058225\": [{\"calitp_itp_id\": 118, \"trip_key\": -1372577508136436480, \"trip_id\": \"t_1366019_b_29676_tn_4\", \"shape_id\": \"p_178406\", \"route_id\": \"11028\", \"service_hours\": 0.53, \"trip_first_departure_ts\": 46320, \"trip_last_arrival_ts\": 48240, \"departure_hour\": 12, \"time_of_day\": \"Midday\", \"p25\": 0.53, \"p50\": 0.565, \"p75\": 0.63, \"p50_trip\": 1, \"fastest_trip\": 0, \"car_duration_hours\": 0.49, \"competitive_route\": 1, \"bus_multiplier\": 1.08, \"bus_difference\": 2.4, \"num_trips\": 28, \"num_competitive\": 28, \"pct_trips_competitive\": 1.0, \"bus_difference_spread\": 6.0, \"route_group\": \"short\", \"max_trip_hrs\": 0.63, \"max_trip_route_group\": 0.83, \"name\": \"City of Gardena\", \"caltrans_district\": \"07 - Los Angeles\", \"drmt_organization_name\": null, \"cutoff2\": 20, \"cutoff\": 0}, {\"calitp_itp_id\": 118, \"trip_key\": 7016819247018341680, \"trip_id\": \"t_1366019_b_29676_tn_1\", \"shape_id\": \"p_178406\", \"route_id\": \"11028\", \"service_hours\": 0.53, \"trip_first_departure_ts\": 30120, \"trip_last_arrival_ts\": 32040, \"departure_hour\": 8, \"time_of_day\": \"AM Peak\", \"p25\": 0.53, \"p50\": 0.565, \"p75\": 0.63, \"p50_trip\": 1, \"fastest_trip\": 0, \"car_duration_hours\": 0.49, \"competitive_route\": 1, \"bus_multiplier\": 1.08, \"bus_difference\": 2.4, \"num_trips\": 28, \"num_competitive\": 28, \"pct_trips_competitive\": 1.0, \"bus_difference_spread\": 6.0, \"route_group\": \"short\", \"max_trip_hrs\": 0.63, \"max_trip_route_group\": 0.83, \"name\": \"City of Gardena\", \"caltrans_district\": \"07 - Los Angeles\", \"drmt_organization_name\": null, \"cutoff2\": 20, \"cutoff\": 0}, {\"calitp_itp_id\": 118, \"trip_key\": 5332978293222479907, \"trip_id\": \"t_1366019_b_29676_tn_7\", \"shape_id\": \"p_178406\", \"route_id\": \"11028\", \"service_hours\": 0.53, \"trip_first_departure_ts\": 62520, \"trip_last_arrival_ts\": 64440, \"departure_hour\": 17, \"time_of_day\": \"PM Peak\", \"p25\": 0.53, \"p50\": 0.565, \"p75\": 0.63, \"p50_trip\": 1, \"fastest_trip\": 0, \"car_duration_hours\": 0.49, \"competitive_route\": 1, \"bus_multiplier\": 1.08, \"bus_difference\": 2.4, \"num_trips\": 28, \"num_competitive\": 28, \"pct_trips_competitive\": 1.0, \"bus_difference_spread\": 6.0, \"route_group\": \"short\", \"max_trip_hrs\": 0.63, \"max_trip_route_group\": 0.83, \"name\": \"City of Gardena\", \"caltrans_district\": \"07 - Los Angeles\", \"drmt_organization_name\": null, \"cutoff2\": 20, \"cutoff\": 0}, {\"calitp_itp_id\": 118, \"trip_key\": -8954781235138461151, \"trip_id\": \"t_1366015_b_29676_tn_1\", \"shape_id\": \"p_178406\", \"route_id\": \"11028\", \"service_hours\": 0.53, \"trip_first_departure_ts\": 32820, \"trip_last_arrival_ts\": 34740, \"departure_hour\": 9, \"time_of_day\": \"AM Peak\", \"p25\": 0.53, \"p50\": 0.565, \"p75\": 0.63, \"p50_trip\": 1, \"fastest_trip\": 0, \"car_duration_hours\": 0.49, \"competitive_route\": 1, \"bus_multiplier\": 1.08, \"bus_difference\": 2.4, \"num_trips\": 28, \"num_competitive\": 28, \"pct_trips_competitive\": 1.0, \"bus_difference_spread\": 6.0, \"route_group\": \"short\", \"max_trip_hrs\": 0.63, \"max_trip_route_group\": 0.83, \"name\": \"City of Gardena\", \"caltrans_district\": \"07 - Los Angeles\", \"drmt_organization_name\": null, \"cutoff2\": 20, \"cutoff\": 0}, {\"calitp_itp_id\": 118, \"trip_key\": -1696059690583935144, \"trip_id\": \"t_1366015_b_29676_tn_6\", \"shape_id\": \"p_178406\", \"route_id\": \"11028\", \"service_hours\": 0.53, \"trip_first_departure_ts\": 59820, \"trip_last_arrival_ts\": 61740, \"departure_hour\": 16, \"time_of_day\": \"Midday\", \"p25\": 0.53, \"p50\": 0.565, \"p75\": 0.63, \"p50_trip\": 1, \"fastest_trip\": 0, \"car_duration_hours\": 0.49, \"competitive_route\": 1, \"bus_multiplier\": 1.08, \"bus_difference\": 2.4, \"num_trips\": 28, \"num_competitive\": 28, \"pct_trips_competitive\": 1.0, \"bus_difference_spread\": 6.0, \"route_group\": \"short\", \"max_trip_hrs\": 0.63, \"max_trip_route_group\": 0.83, \"name\": \"City of Gardena\", \"caltrans_district\": \"07 - Los Angeles\", \"drmt_organization_name\": null, \"cutoff2\": 20, \"cutoff\": 0}, {\"calitp_itp_id\": 118, \"trip_key\": 5379235107430957967, \"trip_id\": \"t_1366015_b_29676_tn_5\", \"shape_id\": \"p_178406\", \"route_id\": \"11028\", \"service_hours\": 0.53, \"trip_first_departure_ts\": 54420, \"trip_last_arrival_ts\": 56340, \"departure_hour\": 15, \"time_of_day\": \"Midday\", \"p25\": 0.53, \"p50\": 0.565, \"p75\": 0.63, \"p50_trip\": 1, \"fastest_trip\": 0, \"car_duration_hours\": 0.49, \"competitive_route\": 1, \"bus_multiplier\": 1.08, \"bus_difference\": 2.4, \"num_trips\": 28, \"num_competitive\": 28, \"pct_trips_competitive\": 1.0, \"bus_difference_spread\": 6.0, \"route_group\": \"short\", \"max_trip_hrs\": 0.63, \"max_trip_route_group\": 0.83, \"name\": \"City of Gardena\", \"caltrans_district\": \"07 - Los Angeles\", \"drmt_organization_name\": null, \"cutoff2\": 20, \"cutoff\": 0}, {\"calitp_itp_id\": 118, \"trip_key\": 5543595234003855497, \"trip_id\": \"t_1366019_b_29676_tn_2\", \"shape_id\": \"p_178406\", \"route_id\": \"11028\", \"service_hours\": 0.53, \"trip_first_departure_ts\": 35520, \"trip_last_arrival_ts\": 37440, \"departure_hour\": 9, \"time_of_day\": \"AM Peak\", \"p25\": 0.53, \"p50\": 0.565, \"p75\": 0.63, \"p50_trip\": 1, \"fastest_trip\": 0, \"car_duration_hours\": 0.49, \"competitive_route\": 1, \"bus_multiplier\": 1.08, \"bus_difference\": 2.4, \"num_trips\": 28, \"num_competitive\": 28, \"pct_trips_competitive\": 1.0, \"bus_difference_spread\": 6.0, \"route_group\": \"short\", \"max_trip_hrs\": 0.63, \"max_trip_route_group\": 0.83, \"name\": \"City of Gardena\", \"caltrans_district\": \"07 - Los Angeles\", \"drmt_organization_name\": null, \"cutoff2\": 20, \"cutoff\": 0}, {\"calitp_itp_id\": 118, \"trip_key\": 4987759971207289357, \"trip_id\": \"t_1366015_b_29676_tn_7\", \"shape_id\": \"p_178406\", \"route_id\": \"11028\", \"service_hours\": 0.53, \"trip_first_departure_ts\": 65220, \"trip_last_arrival_ts\": 67140, \"departure_hour\": 18, \"time_of_day\": \"PM Peak\", \"p25\": 0.53, \"p50\": 0.565, \"p75\": 0.63, \"p50_trip\": 1, \"fastest_trip\": 1, \"car_duration_hours\": 0.49, \"competitive_route\": 1, \"bus_multiplier\": 1.08, \"bus_difference\": 2.4, \"num_trips\": 28, \"num_competitive\": 28, \"pct_trips_competitive\": 1.0, \"bus_difference_spread\": 6.0, \"route_group\": \"short\", \"max_trip_hrs\": 0.63, \"max_trip_route_group\": 0.83, \"name\": \"City of Gardena\", \"caltrans_district\": \"07 - Los Angeles\", \"drmt_organization_name\": null, \"cutoff2\": 20, \"cutoff\": 0}, {\"calitp_itp_id\": 118, \"trip_key\": -1486508128991620450, \"trip_id\": \"t_1366019_b_29676_tn_6\", \"shape_id\": \"p_178406\", \"route_id\": \"11028\", \"service_hours\": 0.53, \"trip_first_departure_ts\": 57120, \"trip_last_arrival_ts\": 59040, \"departure_hour\": 15, \"time_of_day\": \"Midday\", \"p25\": 0.53, \"p50\": 0.565, \"p75\": 0.63, \"p50_trip\": 1, \"fastest_trip\": 0, \"car_duration_hours\": 0.49, \"competitive_route\": 1, \"bus_multiplier\": 1.08, \"bus_difference\": 2.4, \"num_trips\": 28, \"num_competitive\": 28, \"pct_trips_competitive\": 1.0, \"bus_difference_spread\": 6.0, \"route_group\": \"short\", \"max_trip_hrs\": 0.63, \"max_trip_route_group\": 0.83, \"name\": \"City of Gardena\", \"caltrans_district\": \"07 - Los Angeles\", \"drmt_organization_name\": null, \"cutoff2\": 20, \"cutoff\": 0}, {\"calitp_itp_id\": 118, \"trip_key\": 4225478380428352784, \"trip_id\": \"t_1366019_b_29676_tn_3\", \"shape_id\": \"p_178406\", \"route_id\": \"11028\", \"service_hours\": 0.53, \"trip_first_departure_ts\": 40920, \"trip_last_arrival_ts\": 42840, \"departure_hour\": 11, \"time_of_day\": \"Midday\", \"p25\": 0.53, \"p50\": 0.565, \"p75\": 0.63, \"p50_trip\": 1, \"fastest_trip\": 0, \"car_duration_hours\": 0.49, \"competitive_route\": 1, \"bus_multiplier\": 1.08, \"bus_difference\": 2.4, \"num_trips\": 28, \"num_competitive\": 28, \"pct_trips_competitive\": 1.0, \"bus_difference_spread\": 6.0, \"route_group\": \"short\", \"max_trip_hrs\": 0.63, \"max_trip_route_group\": 0.83, \"name\": \"City of Gardena\", \"caltrans_district\": \"07 - Los Angeles\", \"drmt_organization_name\": null, \"cutoff2\": 20, \"cutoff\": 0}, {\"calitp_itp_id\": 118, \"trip_key\": -5812498746558009092, \"trip_id\": \"t_1366019_b_29676_tn_5\", \"shape_id\": \"p_178406\", \"route_id\": \"11028\", \"service_hours\": 0.53, \"trip_first_departure_ts\": 51720, \"trip_last_arrival_ts\": 53640, \"departure_hour\": 14, \"time_of_day\": \"Midday\", \"p25\": 0.53, \"p50\": 0.565, \"p75\": 0.63, \"p50_trip\": 1, \"fastest_trip\": 0, \"car_duration_hours\": 0.49, \"competitive_route\": 1, \"bus_multiplier\": 1.08, \"bus_difference\": 2.4, \"num_trips\": 28, \"num_competitive\": 28, \"pct_trips_competitive\": 1.0, \"bus_difference_spread\": 6.0, \"route_group\": \"short\", \"max_trip_hrs\": 0.63, \"max_trip_route_group\": 0.83, \"name\": \"City of Gardena\", \"caltrans_district\": \"07 - Los Angeles\", \"drmt_organization_name\": null, \"cutoff2\": 20, \"cutoff\": 0}, {\"calitp_itp_id\": 118, \"trip_key\": 5427680503512932933, \"trip_id\": \"t_1366015_b_29676_tn_3\", \"shape_id\": \"p_178406\", \"route_id\": \"11028\", \"service_hours\": 0.53, \"trip_first_departure_ts\": 43620, \"trip_last_arrival_ts\": 45540, \"departure_hour\": 12, \"time_of_day\": \"Midday\", \"p25\": 0.53, \"p50\": 0.565, \"p75\": 0.63, \"p50_trip\": 1, \"fastest_trip\": 0, \"car_duration_hours\": 0.49, \"competitive_route\": 1, \"bus_multiplier\": 1.08, \"bus_difference\": 2.4, \"num_trips\": 28, \"num_competitive\": 28, \"pct_trips_competitive\": 1.0, \"bus_difference_spread\": 6.0, \"route_group\": \"short\", \"max_trip_hrs\": 0.63, \"max_trip_route_group\": 0.83, \"name\": \"City of Gardena\", \"caltrans_district\": \"07 - Los Angeles\", \"drmt_organization_name\": null, \"cutoff2\": 20, \"cutoff\": 0}, {\"calitp_itp_id\": 118, \"trip_key\": -5808960124639347255, \"trip_id\": \"t_1366015_b_29676_tn_2\", \"shape_id\": \"p_178406\", \"route_id\": \"11028\", \"service_hours\": 0.53, \"trip_first_departure_ts\": 38220, \"trip_last_arrival_ts\": 40140, \"departure_hour\": 10, \"time_of_day\": \"Midday\", \"p25\": 0.53, \"p50\": 0.565, \"p75\": 0.63, \"p50_trip\": 1, \"fastest_trip\": 0, \"car_duration_hours\": 0.49, \"competitive_route\": 1, \"bus_multiplier\": 1.08, \"bus_difference\": 2.4, \"num_trips\": 28, \"num_competitive\": 28, \"pct_trips_competitive\": 1.0, \"bus_difference_spread\": 6.0, \"route_group\": \"short\", \"max_trip_hrs\": 0.63, \"max_trip_route_group\": 0.83, \"name\": \"City of Gardena\", \"caltrans_district\": \"07 - Los Angeles\", \"drmt_organization_name\": null, \"cutoff2\": 20, \"cutoff\": 0}, {\"calitp_itp_id\": 118, \"trip_key\": -2432840590800293824, \"trip_id\": \"t_1366015_b_29676_tn_4\", \"shape_id\": \"p_178406\", \"route_id\": \"11028\", \"service_hours\": 0.53, \"trip_first_departure_ts\": 49020, \"trip_last_arrival_ts\": 50940, \"departure_hour\": 13, \"time_of_day\": \"Midday\", \"p25\": 0.53, \"p50\": 0.565, \"p75\": 0.63, \"p50_trip\": 1, \"fastest_trip\": 0, \"car_duration_hours\": 0.49, \"competitive_route\": 1, \"bus_multiplier\": 1.08, \"bus_difference\": 2.4, \"num_trips\": 28, \"num_competitive\": 28, \"pct_trips_competitive\": 1.0, \"bus_difference_spread\": 6.0, \"route_group\": \"short\", \"max_trip_hrs\": 0.63, \"max_trip_route_group\": 0.83, \"name\": \"City of Gardena\", \"caltrans_district\": \"07 - Los Angeles\", \"drmt_organization_name\": null, \"cutoff2\": 20, \"cutoff\": 0}, {\"calitp_itp_id\": 118, \"trip_key\": -4950462320872157282, \"trip_id\": \"t_1366018_b_29676_tn_0\", \"shape_id\": \"p_282433\", \"route_id\": \"11028\", \"service_hours\": 0.6, \"trip_first_departure_ts\": 27540, \"trip_last_arrival_ts\": 29700, \"departure_hour\": 7, \"time_of_day\": \"AM Peak\", \"p25\": 0.53, \"p50\": 0.565, \"p75\": 0.63, \"p50_trip\": 0, \"fastest_trip\": 0, \"car_duration_hours\": 0.49, \"competitive_route\": 1, \"bus_multiplier\": 1.22, \"bus_difference\": 6.6, \"num_trips\": 28, \"num_competitive\": 28, \"pct_trips_competitive\": 1.0, \"bus_difference_spread\": 6.0, \"route_group\": \"short\", \"max_trip_hrs\": 0.63, \"max_trip_route_group\": 0.83, \"name\": \"City of Gardena\", \"caltrans_district\": \"07 - Los Angeles\", \"drmt_organization_name\": null, \"cutoff2\": 20, \"cutoff\": 0}, {\"calitp_itp_id\": 118, \"trip_key\": -2638499373886652526, \"trip_id\": \"t_1366021_b_29676_tn_1\", \"shape_id\": \"p_282433\", \"route_id\": \"11028\", \"service_hours\": 0.6, \"trip_first_departure_ts\": 57240, \"trip_last_arrival_ts\": 59400, \"departure_hour\": 15, \"time_of_day\": \"Midday\", \"p25\": 0.53, \"p50\": 0.565, \"p75\": 0.63, \"p50_trip\": 0, \"fastest_trip\": 0, \"car_duration_hours\": 0.49, \"competitive_route\": 1, \"bus_multiplier\": 1.22, \"bus_difference\": 6.6, \"num_trips\": 28, \"num_competitive\": 28, \"pct_trips_competitive\": 1.0, \"bus_difference_spread\": 6.0, \"route_group\": \"short\", \"max_trip_hrs\": 0.63, \"max_trip_route_group\": 0.83, \"name\": \"City of Gardena\", \"caltrans_district\": \"07 - Los Angeles\", \"drmt_organization_name\": null, \"cutoff2\": 20, \"cutoff\": 0}, {\"calitp_itp_id\": 118, \"trip_key\": 1150104854769908764, \"trip_id\": \"t_1366017_b_29676_tn_2\", \"shape_id\": \"p_282433\", \"route_id\": \"11028\", \"service_hours\": 0.6, \"trip_first_departure_ts\": 59940, \"trip_last_arrival_ts\": 62100, \"departure_hour\": 16, \"time_of_day\": \"Midday\", \"p25\": 0.53, \"p50\": 0.565, \"p75\": 0.63, \"p50_trip\": 0, \"fastest_trip\": 0, \"car_duration_hours\": 0.49, \"competitive_route\": 1, \"bus_multiplier\": 1.22, \"bus_difference\": 6.6, \"num_trips\": 28, \"num_competitive\": 28, \"pct_trips_competitive\": 1.0, \"bus_difference_spread\": 6.0, \"route_group\": \"short\", \"max_trip_hrs\": 0.63, \"max_trip_route_group\": 0.83, \"name\": \"City of Gardena\", \"caltrans_district\": \"07 - Los Angeles\", \"drmt_organization_name\": null, \"cutoff2\": 20, \"cutoff\": 0}, {\"calitp_itp_id\": 118, \"trip_key\": 2634871259947735912, \"trip_id\": \"t_1366017_b_29676_tn_1\", \"shape_id\": \"p_282433\", \"route_id\": \"11028\", \"service_hours\": 0.6, \"trip_first_departure_ts\": 54540, \"trip_last_arrival_ts\": 56700, \"departure_hour\": 15, \"time_of_day\": \"Midday\", \"p25\": 0.53, \"p50\": 0.565, \"p75\": 0.63, \"p50_trip\": 0, \"fastest_trip\": 0, \"car_duration_hours\": 0.49, \"competitive_route\": 1, \"bus_multiplier\": 1.22, \"bus_difference\": 6.6, \"num_trips\": 28, \"num_competitive\": 28, \"pct_trips_competitive\": 1.0, \"bus_difference_spread\": 6.0, \"route_group\": \"short\", \"max_trip_hrs\": 0.63, \"max_trip_route_group\": 0.83, \"name\": \"City of Gardena\", \"caltrans_district\": \"07 - Los Angeles\", \"drmt_organization_name\": null, \"cutoff2\": 20, \"cutoff\": 0}, {\"calitp_itp_id\": 118, \"trip_key\": 5867520996491274236, \"trip_id\": \"t_1366014_b_29676_tn_0\", \"shape_id\": \"p_282433\", \"route_id\": \"11028\", \"service_hours\": 0.6, \"trip_first_departure_ts\": 30240, \"trip_last_arrival_ts\": 32400, \"departure_hour\": 8, \"time_of_day\": \"AM Peak\", \"p25\": 0.53, \"p50\": 0.565, \"p75\": 0.63, \"p50_trip\": 0, \"fastest_trip\": 0, \"car_duration_hours\": 0.49, \"competitive_route\": 1, \"bus_multiplier\": 1.22, \"bus_difference\": 6.6, \"num_trips\": 28, \"num_competitive\": 28, \"pct_trips_competitive\": 1.0, \"bus_difference_spread\": 6.0, \"route_group\": \"short\", \"max_trip_hrs\": 0.63, \"max_trip_route_group\": 0.83, \"name\": \"City of Gardena\", \"caltrans_district\": \"07 - Los Angeles\", \"drmt_organization_name\": null, \"cutoff2\": 20, \"cutoff\": 0}, {\"calitp_itp_id\": 118, \"trip_key\": -7602382970305410050, \"trip_id\": \"t_1366021_b_29676_tn_2\", \"shape_id\": \"p_282433\", \"route_id\": \"11028\", \"service_hours\": 0.6, \"trip_first_departure_ts\": 62640, \"trip_last_arrival_ts\": 64800, \"departure_hour\": 17, \"time_of_day\": \"PM Peak\", \"p25\": 0.53, \"p50\": 0.565, \"p75\": 0.63, \"p50_trip\": 0, \"fastest_trip\": 0, \"car_duration_hours\": 0.49, \"competitive_route\": 1, \"bus_multiplier\": 1.22, \"bus_difference\": 6.6, \"num_trips\": 28, \"num_competitive\": 28, \"pct_trips_competitive\": 1.0, \"bus_difference_spread\": 6.0, \"route_group\": \"short\", \"max_trip_hrs\": 0.63, \"max_trip_route_group\": 0.83, \"name\": \"City of Gardena\", \"caltrans_district\": \"07 - Los Angeles\", \"drmt_organization_name\": null, \"cutoff2\": 20, \"cutoff\": 0}, {\"calitp_itp_id\": 118, \"trip_key\": 8166486977050405865, \"trip_id\": \"t_1366020_b_29676_tn_4\", \"shape_id\": \"p_282433\", \"route_id\": \"11028\", \"service_hours\": 0.63, \"trip_first_departure_ts\": 49140, \"trip_last_arrival_ts\": 51420, \"departure_hour\": 13, \"time_of_day\": \"Midday\", \"p25\": 0.53, \"p50\": 0.565, \"p75\": 0.63, \"p50_trip\": 0, \"fastest_trip\": 0, \"car_duration_hours\": 0.49, \"competitive_route\": 1, \"bus_multiplier\": 1.29, \"bus_difference\": 8.4, \"num_trips\": 28, \"num_competitive\": 28, \"pct_trips_competitive\": 1.0, \"bus_difference_spread\": 6.0, \"route_group\": \"short\", \"max_trip_hrs\": 0.63, \"max_trip_route_group\": 0.83, \"name\": \"City of Gardena\", \"caltrans_district\": \"07 - Los Angeles\", \"drmt_organization_name\": null, \"cutoff2\": 20, \"cutoff\": 0}, {\"calitp_itp_id\": 118, \"trip_key\": 1015361398689675342, \"trip_id\": \"t_1366016_b_29676_tn_2\", \"shape_id\": \"p_282433\", \"route_id\": \"11028\", \"service_hours\": 0.63, \"trip_first_departure_ts\": 41040, \"trip_last_arrival_ts\": 43320, \"departure_hour\": 11, \"time_of_day\": \"Midday\", \"p25\": 0.53, \"p50\": 0.565, \"p75\": 0.63, \"p50_trip\": 0, \"fastest_trip\": 0, \"car_duration_hours\": 0.49, \"competitive_route\": 1, \"bus_multiplier\": 1.29, \"bus_difference\": 8.4, \"num_trips\": 28, \"num_competitive\": 28, \"pct_trips_competitive\": 1.0, \"bus_difference_spread\": 6.0, \"route_group\": \"short\", \"max_trip_hrs\": 0.63, \"max_trip_route_group\": 0.83, \"name\": \"City of Gardena\", \"caltrans_district\": \"07 - Los Angeles\", \"drmt_organization_name\": null, \"cutoff2\": 20, \"cutoff\": 0}, {\"calitp_itp_id\": 118, \"trip_key\": 149663345072019794, \"trip_id\": \"t_1366020_b_29676_tn_2\", \"shape_id\": \"p_282433\", \"route_id\": \"11028\", \"service_hours\": 0.63, \"trip_first_departure_ts\": 38340, \"trip_last_arrival_ts\": 40620, \"departure_hour\": 10, \"time_of_day\": \"Midday\", \"p25\": 0.53, \"p50\": 0.565, \"p75\": 0.63, \"p50_trip\": 0, \"fastest_trip\": 0, \"car_duration_hours\": 0.49, \"competitive_route\": 1, \"bus_multiplier\": 1.29, \"bus_difference\": 8.4, \"num_trips\": 28, \"num_competitive\": 28, \"pct_trips_competitive\": 1.0, \"bus_difference_spread\": 6.0, \"route_group\": \"short\", \"max_trip_hrs\": 0.63, \"max_trip_route_group\": 0.83, \"name\": \"City of Gardena\", \"caltrans_district\": \"07 - Los Angeles\", \"drmt_organization_name\": null, \"cutoff2\": 20, \"cutoff\": 0}, {\"calitp_itp_id\": 118, \"trip_key\": 7443864157371174291, \"trip_id\": \"t_1366020_b_29676_tn_3\", \"shape_id\": \"p_282433\", \"route_id\": \"11028\", \"service_hours\": 0.63, \"trip_first_departure_ts\": 43740, \"trip_last_arrival_ts\": 46020, \"departure_hour\": 12, \"time_of_day\": \"Midday\", \"p25\": 0.53, \"p50\": 0.565, \"p75\": 0.63, \"p50_trip\": 0, \"fastest_trip\": 0, \"car_duration_hours\": 0.49, \"competitive_route\": 1, \"bus_multiplier\": 1.29, \"bus_difference\": 8.4, \"num_trips\": 28, \"num_competitive\": 28, \"pct_trips_competitive\": 1.0, \"bus_difference_spread\": 6.0, \"route_group\": \"short\", \"max_trip_hrs\": 0.63, \"max_trip_route_group\": 0.83, \"name\": \"City of Gardena\", \"caltrans_district\": \"07 - Los Angeles\", \"drmt_organization_name\": null, \"cutoff2\": 20, \"cutoff\": 0}, {\"calitp_itp_id\": 118, \"trip_key\": -7083425015888724320, \"trip_id\": \"t_1366020_b_29676_tn_1\", \"shape_id\": \"p_282433\", \"route_id\": \"11028\", \"service_hours\": 0.63, \"trip_first_departure_ts\": 32940, \"trip_last_arrival_ts\": 35220, \"departure_hour\": 9, \"time_of_day\": \"AM Peak\", \"p25\": 0.53, \"p50\": 0.565, \"p75\": 0.63, \"p50_trip\": 0, \"fastest_trip\": 0, \"car_duration_hours\": 0.49, \"competitive_route\": 1, \"bus_multiplier\": 1.29, \"bus_difference\": 8.4, \"num_trips\": 28, \"num_competitive\": 28, \"pct_trips_competitive\": 1.0, \"bus_difference_spread\": 6.0, \"route_group\": \"short\", \"max_trip_hrs\": 0.63, \"max_trip_route_group\": 0.83, \"name\": \"City of Gardena\", \"caltrans_district\": \"07 - Los Angeles\", \"drmt_organization_name\": null, \"cutoff2\": 20, \"cutoff\": 0}, {\"calitp_itp_id\": 118, \"trip_key\": 5283758938027533347, \"trip_id\": \"t_1366016_b_29676_tn_3\", \"shape_id\": \"p_282433\", \"route_id\": \"11028\", \"service_hours\": 0.63, \"trip_first_departure_ts\": 46440, \"trip_last_arrival_ts\": 48720, \"departure_hour\": 12, \"time_of_day\": \"Midday\", \"p25\": 0.53, \"p50\": 0.565, \"p75\": 0.63, \"p50_trip\": 0, \"fastest_trip\": 0, \"car_duration_hours\": 0.49, \"competitive_route\": 1, \"bus_multiplier\": 1.29, \"bus_difference\": 8.4, \"num_trips\": 28, \"num_competitive\": 28, \"pct_trips_competitive\": 1.0, \"bus_difference_spread\": 6.0, \"route_group\": \"short\", \"max_trip_hrs\": 0.63, \"max_trip_route_group\": 0.83, \"name\": \"City of Gardena\", \"caltrans_district\": \"07 - Los Angeles\", \"drmt_organization_name\": null, \"cutoff2\": 20, \"cutoff\": 0}, {\"calitp_itp_id\": 118, \"trip_key\": -2174549733388464298, \"trip_id\": \"t_1366016_b_29676_tn_1\", \"shape_id\": \"p_282433\", \"route_id\": \"11028\", \"service_hours\": 0.63, \"trip_first_departure_ts\": 35640, \"trip_last_arrival_ts\": 37920, \"departure_hour\": 9, \"time_of_day\": \"AM Peak\", \"p25\": 0.53, \"p50\": 0.565, \"p75\": 0.63, \"p50_trip\": 0, \"fastest_trip\": 0, \"car_duration_hours\": 0.49, \"competitive_route\": 1, \"bus_multiplier\": 1.29, \"bus_difference\": 8.4, \"num_trips\": 28, \"num_competitive\": 28, \"pct_trips_competitive\": 1.0, \"bus_difference_spread\": 6.0, \"route_group\": \"short\", \"max_trip_hrs\": 0.63, \"max_trip_route_group\": 0.83, \"name\": \"City of Gardena\", \"caltrans_district\": \"07 - Los Angeles\", \"drmt_organization_name\": null, \"cutoff2\": 20, \"cutoff\": 0}, {\"calitp_itp_id\": 118, \"trip_key\": 2938506307684795943, \"trip_id\": \"t_1366016_b_29676_tn_4\", \"shape_id\": \"p_282433\", \"route_id\": \"11028\", \"service_hours\": 0.63, \"trip_first_departure_ts\": 51840, \"trip_last_arrival_ts\": 54120, \"departure_hour\": 14, \"time_of_day\": \"Midday\", \"p25\": 0.53, \"p50\": 0.565, \"p75\": 0.63, \"p50_trip\": 0, \"fastest_trip\": 0, \"car_duration_hours\": 0.49, \"competitive_route\": 1, \"bus_multiplier\": 1.29, \"bus_difference\": 8.4, \"num_trips\": 28, \"num_competitive\": 28, \"pct_trips_competitive\": 1.0, \"bus_difference_spread\": 6.0, \"route_group\": \"short\", \"max_trip_hrs\": 0.63, \"max_trip_route_group\": 0.83, \"name\": \"City of Gardena\", \"caltrans_district\": \"07 - Los Angeles\", \"drmt_organization_name\": null, \"cutoff2\": 20, \"cutoff\": 0}]}}, {\"mode\": \"vega-lite\"});\n",
       "</script>"
      ],
      "text/plain": [
       "alt.FacetChart(...)"
      ]
     },
     "metadata": {},
     "output_type": "display_data"
    }
   ],
   "source": [
    "# Allow for possibility that operator doesn't have routes that fall into certain route_groups\n",
    "# But, jupyterbook will not like markdown with f-string\n",
    "# separate out route_group and put in each cell, and use try/except + if to display...\n",
    "# but all 3 route groups must be displayed. just add sentence about why no routes were returned at the end\n",
    "route_group = \"short\"\n",
    "try:\n",
    "    display_charts_for_route_group(df, route_group)\n",
    "except:\n",
    "    print(\"No routes meet this criteria.\")"
   ]
  },
  {
   "cell_type": "markdown",
   "id": "c2931b6f-034d-4384-9e14-80b925e3b820",
   "metadata": {
    "papermill": {
     "duration": 0.019115,
     "end_time": "2022-05-09T20:03:14.844625",
     "exception": false,
     "start_time": "2022-05-09T20:03:14.825510",
     "status": "completed"
    },
    "tags": []
   },
   "source": [
    "### Medium Routes (1-1.5 hrs)"
   ]
  },
  {
   "cell_type": "code",
   "execution_count": 14,
   "id": "480edddc-4de0-48c2-ae4c-b0ceef8f28b5",
   "metadata": {
    "execution": {
     "iopub.execute_input": "2022-05-09T20:03:14.889115Z",
     "iopub.status.busy": "2022-05-09T20:03:14.888093Z",
     "iopub.status.idle": "2022-05-09T20:03:14.915725Z",
     "shell.execute_reply": "2022-05-09T20:03:14.914285Z"
    },
    "jupyter": {
     "source_hidden": true
    },
    "papermill": {
     "duration": 0.054214,
     "end_time": "2022-05-09T20:03:14.919388",
     "exception": false,
     "start_time": "2022-05-09T20:03:14.865174",
     "status": "completed"
    },
    "tags": [
     "remove_input"
    ]
   },
   "outputs": [
    {
     "name": "stdout",
     "output_type": "stream",
     "text": [
      "No routes meet this criteria.\n"
     ]
    }
   ],
   "source": [
    "route_group = \"medium\"\n",
    "try:\n",
    "    display_charts_for_route_group(df, route_group)\n",
    "except:\n",
    "    print(\"No routes meet this criteria.\")"
   ]
  },
  {
   "cell_type": "markdown",
   "id": "124b76d0-886c-4d03-92ac-f1bda3cda182",
   "metadata": {
    "papermill": {
     "duration": 0.019364,
     "end_time": "2022-05-09T20:03:14.956640",
     "exception": false,
     "start_time": "2022-05-09T20:03:14.937276",
     "status": "completed"
    },
    "tags": []
   },
   "source": [
    "### Long Routes (> 1.5 hrs)"
   ]
  },
  {
   "cell_type": "code",
   "execution_count": 15,
   "id": "ddc81b19-4c45-4c81-8b7a-5e0f394aa7a3",
   "metadata": {
    "execution": {
     "iopub.execute_input": "2022-05-09T20:03:14.996371Z",
     "iopub.status.busy": "2022-05-09T20:03:14.996006Z",
     "iopub.status.idle": "2022-05-09T20:03:15.015095Z",
     "shell.execute_reply": "2022-05-09T20:03:15.014339Z"
    },
    "jupyter": {
     "source_hidden": true
    },
    "papermill": {
     "duration": 0.042203,
     "end_time": "2022-05-09T20:03:15.017101",
     "exception": false,
     "start_time": "2022-05-09T20:03:14.974898",
     "status": "completed"
    },
    "tags": [
     "remove_input"
    ]
   },
   "outputs": [
    {
     "name": "stdout",
     "output_type": "stream",
     "text": [
      "No routes meet this criteria.\n"
     ]
    }
   ],
   "source": [
    "route_group = \"long\"\n",
    "try:\n",
    "    display_charts_for_route_group(df, route_group)\n",
    "except:\n",
    "    print(\"No routes meet this criteria.\")"
   ]
  },
  {
   "cell_type": "markdown",
   "id": "ace75b5f-0442-4fbe-aebd-6c3a13ae13a7",
   "metadata": {
    "papermill": {
     "duration": 0.017154,
     "end_time": "2022-05-09T20:03:15.052049",
     "exception": false,
     "start_time": "2022-05-09T20:03:15.034895",
     "status": "completed"
    },
    "tags": []
   },
   "source": [
    "### GTFS Real-Time Speedmaps"
   ]
  },
  {
   "cell_type": "code",
   "execution_count": 16,
   "id": "a0a114a1-e975-4027-9daf-50029f5ef59f",
   "metadata": {
    "execution": {
     "iopub.execute_input": "2022-05-09T20:03:15.108681Z",
     "iopub.status.busy": "2022-05-09T20:03:15.108129Z",
     "iopub.status.idle": "2022-05-09T20:03:15.161923Z",
     "shell.execute_reply": "2022-05-09T20:03:15.160905Z"
    },
    "jupyter": {
     "source_hidden": true
    },
    "papermill": {
     "duration": 0.09192,
     "end_time": "2022-05-09T20:03:15.164335",
     "exception": false,
     "start_time": "2022-05-09T20:03:15.072415",
     "status": "completed"
    },
    "tags": [
     "remove_input"
    ]
   },
   "outputs": [
    {
     "data": {
      "text/html": [
       "No GTFS RT data available."
      ],
      "text/plain": [
       "<IPython.core.display.HTML object>"
      ]
     },
     "metadata": {},
     "output_type": "display_data"
    }
   ],
   "source": [
    "PORTFOLIO_SITE_YAML = \"../portfolio/analyses.yml\"\n",
    "\n",
    "# Grab list of ITP IDs with GTFS RT speedmaps\n",
    "rt_itp_id = deploy_portfolio_yaml.check_if_rt_data_available(PORTFOLIO_SITE_YAML)\n",
    "\n",
    "# Construct the URL \n",
    "RT_URL = (\"https://analysis.calitp.org/rt/\"\n",
    "          f\"district_{district_number}-{district_name}/\"\n",
    "          f\"speedmaps__itp_id_{itp_id}.html\"\n",
    "         ) \n",
    "\n",
    "if itp_id in rt_itp_id:\n",
    "    display(HTML(f'''<a href={RT_URL}>GTFS RT speedmaps here.</a>'''))\n",
    "\n",
    "else:\n",
    "    display(HTML(\"No GTFS RT data available.\"))"
   ]
  },
  {
   "cell_type": "code",
   "execution_count": null,
   "id": "5b680565-2230-4f2e-817c-718fad48d64c",
   "metadata": {
    "jupyter": {
     "source_hidden": true
    },
    "papermill": {
     "duration": 0.025693,
     "end_time": "2022-05-09T20:03:15.212894",
     "exception": false,
     "start_time": "2022-05-09T20:03:15.187201",
     "status": "completed"
    },
    "tags": [
     "remove_input"
    ]
   },
   "outputs": [],
   "source": []
  }
 ],
 "metadata": {
  "kernelspec": {
   "display_name": "Python 3 (ipykernel)",
   "language": "python",
   "name": "python3"
  },
  "language_info": {
   "codemirror_mode": {
    "name": "ipython",
    "version": 3
   },
   "file_extension": ".py",
   "mimetype": "text/x-python",
   "name": "python",
   "nbconvert_exporter": "python",
   "pygments_lexer": "ipython3",
   "version": "3.9.12"
  },
  "papermill": {
   "default_parameters": {},
   "duration": 29.077777,
   "end_time": "2022-05-09T20:03:17.553712",
   "environment_variables": {},
   "exception": null,
   "input_path": "bus_service_increase/competitive-parallel-routes.ipynb",
   "output_path": "portfolio/parallel_corridors/district_07-los-angeles/competitive-parallel-routes__itp_id_118.ipynb",
   "parameters": {
    "district": "07 - Los Angeles",
    "itp_id": 118
   },
   "start_time": "2022-05-09T20:02:48.475935",
   "version": "2.3.4"
  }
 },
 "nbformat": 4,
 "nbformat_minor": 5
}