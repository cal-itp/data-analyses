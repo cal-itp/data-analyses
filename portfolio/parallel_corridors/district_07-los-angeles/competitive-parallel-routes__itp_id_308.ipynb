{
 "cells": [
  {
   "cell_type": "code",
   "execution_count": 1,
   "id": "95d00857-6a20-4529-a519-2cc7182928a9",
   "metadata": {
    "execution": {
     "iopub.execute_input": "2022-05-09T17:09:22.641046Z",
     "iopub.status.busy": "2022-05-09T17:09:22.640298Z",
     "iopub.status.idle": "2022-05-09T17:09:31.971302Z",
     "shell.execute_reply": "2022-05-09T17:09:31.970188Z"
    },
    "jupyter": {
     "source_hidden": true
    },
    "papermill": {
     "duration": 9.349927,
     "end_time": "2022-05-09T17:09:31.973929",
     "exception": false,
     "start_time": "2022-05-09T17:09:22.624002",
     "status": "completed"
    },
    "tags": [
     "remove_input"
    ]
   },
   "outputs": [],
   "source": [
    "%%capture\n",
    "import warnings\n",
    "warnings.filterwarnings('ignore')\n",
    "\n",
    "import altair as alt\n",
    "import calitp.magics\n",
    "import geopandas as gpd\n",
    "import intake\n",
    "import pandas as pd\n",
    "\n",
    "from IPython.display import display, Markdown, HTML\n",
    "\n",
    "import parallel_corridors_utils\n",
    "from shared_utils import styleguide\n",
    "import deploy_portfolio_yaml\n",
    "\n",
    "catalog = intake.open_catalog(\"./*.yml\")\n",
    "alt.renderers.enable(\"html\")"
   ]
  },
  {
   "cell_type": "code",
   "execution_count": 2,
   "id": "8af2a0c1-f3da-408d-9bea-11d9fbf8695d",
   "metadata": {
    "execution": {
     "iopub.execute_input": "2022-05-09T17:09:32.000434Z",
     "iopub.status.busy": "2022-05-09T17:09:31.999768Z",
     "iopub.status.idle": "2022-05-09T17:09:32.003940Z",
     "shell.execute_reply": "2022-05-09T17:09:32.003354Z"
    },
    "jupyter": {
     "source_hidden": true
    },
    "papermill": {
     "duration": 0.020305,
     "end_time": "2022-05-09T17:09:32.006378",
     "exception": false,
     "start_time": "2022-05-09T17:09:31.986073",
     "status": "completed"
    },
    "tags": [
     "parameters",
     "remove_input"
    ]
   },
   "outputs": [],
   "source": [
    "# parameters cell\n",
    "itp_id = 182"
   ]
  },
  {
   "cell_type": "code",
   "execution_count": 3,
   "id": "f4044201",
   "metadata": {
    "execution": {
     "iopub.execute_input": "2022-05-09T17:09:32.045292Z",
     "iopub.status.busy": "2022-05-09T17:09:32.044744Z",
     "iopub.status.idle": "2022-05-09T17:09:32.048776Z",
     "shell.execute_reply": "2022-05-09T17:09:32.048286Z"
    },
    "jupyter": {
     "source_hidden": true
    },
    "papermill": {
     "duration": 0.0253,
     "end_time": "2022-05-09T17:09:32.050716",
     "exception": false,
     "start_time": "2022-05-09T17:09:32.025416",
     "status": "completed"
    },
    "tags": [
     "injected-parameters",
     "remove_input"
    ]
   },
   "outputs": [],
   "source": [
    "# Parameters\n",
    "district = \"07 - Los Angeles\"\n",
    "itp_id = 308\n"
   ]
  },
  {
   "cell_type": "code",
   "execution_count": 4,
   "id": "9582aaf4-79ff-412a-b248-8d8d693ebd4f",
   "metadata": {
    "execution": {
     "iopub.execute_input": "2022-05-09T17:09:32.078377Z",
     "iopub.status.busy": "2022-05-09T17:09:32.077793Z",
     "iopub.status.idle": "2022-05-09T17:09:33.305249Z",
     "shell.execute_reply": "2022-05-09T17:09:33.304403Z"
    },
    "jupyter": {
     "source_hidden": true
    },
    "papermill": {
     "duration": 1.244666,
     "end_time": "2022-05-09T17:09:33.308089",
     "exception": false,
     "start_time": "2022-05-09T17:09:32.063423",
     "status": "completed"
    },
    "tags": [
     "remove_input"
    ]
   },
   "outputs": [],
   "source": [
    "df = catalog.competitive_route_variability.read()\n",
    "\n",
    "df = (df[(df.calitp_itp_id == itp_id) & \n",
    "         (df.route_group.notna())]\n",
    "      .reset_index(drop=True)\n",
    "     )\n",
    "\n",
    "\n",
    "if itp_id == 182:\n",
    "    df = df.assign(\n",
    "        route_id = df.route_id.str.replace('-13153', '').astype(int)\n",
    "    )"
   ]
  },
  {
   "cell_type": "code",
   "execution_count": 5,
   "id": "33ac4b06-f647-4dce-a625-8f2c1b37cc60",
   "metadata": {
    "execution": {
     "iopub.execute_input": "2022-05-09T17:09:33.339030Z",
     "iopub.status.busy": "2022-05-09T17:09:33.338431Z",
     "iopub.status.idle": "2022-05-09T17:09:33.346319Z",
     "shell.execute_reply": "2022-05-09T17:09:33.345396Z"
    },
    "jupyter": {
     "source_hidden": true
    },
    "papermill": {
     "duration": 0.024778,
     "end_time": "2022-05-09T17:09:33.348325",
     "exception": false,
     "start_time": "2022-05-09T17:09:33.323547",
     "status": "completed"
    },
    "tags": [
     "remove_input"
    ]
   },
   "outputs": [],
   "source": [
    "%%capture_parameters\n",
    "operator_name = df.name.iloc[0]\n",
    "district_number = f\"{df.caltrans_district.iloc[0].split('-')[0].strip()}\"\n",
    "district_name = f\"{df.caltrans_district.iloc[0].split('-')[1].strip().lower().replace(' ', '-')}\"\n",
    "\n",
    "itp_id, operator_name, district_number, district_name"
   ]
  },
  {
   "cell_type": "markdown",
   "id": "65bc6f5c-8348-42ee-b2dd-52057c406852",
   "metadata": {
    "papermill": {
     "duration": 0.013376,
     "end_time": "2022-05-09T17:09:33.374073",
     "exception": false,
     "start_time": "2022-05-09T17:09:33.360697",
     "status": "completed"
    },
    "tags": []
   },
   "source": [
    "# City of Simi Valley (ITP ID: 308)"
   ]
  },
  {
   "cell_type": "code",
   "execution_count": 6,
   "id": "a689c1ab-2c6c-4831-8d64-897f5986f571",
   "metadata": {
    "execution": {
     "iopub.execute_input": "2022-05-09T17:09:33.401345Z",
     "iopub.status.busy": "2022-05-09T17:09:33.400493Z",
     "iopub.status.idle": "2022-05-09T17:09:33.412575Z",
     "shell.execute_reply": "2022-05-09T17:09:33.411425Z"
    },
    "jupyter": {
     "source_hidden": true
    },
    "papermill": {
     "duration": 0.029044,
     "end_time": "2022-05-09T17:09:33.415356",
     "exception": false,
     "start_time": "2022-05-09T17:09:33.386312",
     "status": "completed"
    },
    "tags": [
     "remove_input"
    ]
   },
   "outputs": [
    {
     "data": {
      "text/html": [
       "<h1>Competitive & Parallel Routes</h1>"
      ],
      "text/plain": [
       "<IPython.core.display.HTML object>"
      ]
     },
     "metadata": {},
     "output_type": "display_data"
    }
   ],
   "source": [
    "display(HTML(\"<h1>Competitive & Parallel Routes</h1>\")) "
   ]
  },
  {
   "cell_type": "code",
   "execution_count": 7,
   "id": "2cb4d8d5-4760-40e4-85b1-cb833d8bb648",
   "metadata": {
    "execution": {
     "iopub.execute_input": "2022-05-09T17:09:33.447626Z",
     "iopub.status.busy": "2022-05-09T17:09:33.447261Z",
     "iopub.status.idle": "2022-05-09T17:09:45.207453Z",
     "shell.execute_reply": "2022-05-09T17:09:45.206534Z"
    },
    "jupyter": {
     "source_hidden": true
    },
    "papermill": {
     "duration": 11.781818,
     "end_time": "2022-05-09T17:09:45.210560",
     "exception": false,
     "start_time": "2022-05-09T17:09:33.428742",
     "status": "completed"
    },
    "tags": [
     "remove_input"
    ]
   },
   "outputs": [],
   "source": [
    "# Grab parameters for narrative text - clean up formatting here \n",
    "district = df.caltrans_district.iloc[0]\n",
    "formatted_date = pd.to_datetime(parallel_corridors_utils.SELECTED_DATE).strftime('%m-%d-%Y')\n",
    "\n",
    "PCT_COMPETITIVE_THRESHOLD = 0.75\n",
    "\n",
    "stats = parallel_corridors_utils.operator_parallel_competitive_stats(\n",
    "    itp_id, PCT_COMPETITIVE_THRESHOLD)\n",
    "\n",
    "pct_parallel = round(stats['parallel_routes'] / stats['num_routes'] * 100,1 )\n",
    "pct_competitive =  round(stats['competitive_routes'] / stats['num_routes'] * 100,1 )"
   ]
  },
  {
   "cell_type": "markdown",
   "id": "ab667928-5274-4490-82d9-4c39293209a4",
   "metadata": {
    "papermill": {
     "duration": 0.015211,
     "end_time": "2022-05-09T17:09:45.239090",
     "exception": false,
     "start_time": "2022-05-09T17:09:45.223879",
     "status": "completed"
    },
    "tags": []
   },
   "source": [
    "## Quick Stats"
   ]
  },
  {
   "cell_type": "code",
   "execution_count": 8,
   "id": "0416509d-dc62-4165-b62e-64f8b26e8b8e",
   "metadata": {
    "execution": {
     "iopub.execute_input": "2022-05-09T17:09:45.266725Z",
     "iopub.status.busy": "2022-05-09T17:09:45.266349Z",
     "iopub.status.idle": "2022-05-09T17:09:45.273190Z",
     "shell.execute_reply": "2022-05-09T17:09:45.272376Z"
    },
    "jupyter": {
     "source_hidden": true
    },
    "papermill": {
     "duration": 0.022806,
     "end_time": "2022-05-09T17:09:45.274974",
     "exception": false,
     "start_time": "2022-05-09T17:09:45.252168",
     "status": "completed"
    },
    "tags": [
     "remove_input"
    ]
   },
   "outputs": [
    {
     "data": {
      "text/markdown": [
       "**Bus routes in service**: 3 <br>**Parallel routes** to State Highway Network (SHN): 3 routes (100.0%)<br>**Competitive routes** against car travel: 1 routes (33.3%)"
      ],
      "text/plain": [
       "<IPython.core.display.Markdown object>"
      ]
     },
     "metadata": {},
     "output_type": "display_data"
    }
   ],
   "source": [
    "display(\n",
    "    Markdown(\n",
    "        f\"**Bus routes in service**: {stats['num_routes']} \"\n",
    "        \"<br>**Parallel routes** to State Highway Network (SHN): \"\n",
    "        f\"{stats['parallel_routes']} routes ({pct_parallel}%)\"\n",
    "        f\"<br>**Competitive routes** against car travel: {stats['competitive_routes']} routes ({pct_competitive}%)\"\n",
    "    )\n",
    ")"
   ]
  },
  {
   "cell_type": "code",
   "execution_count": 9,
   "id": "f9d6ab58-f0ee-460c-b6de-657490e1f386",
   "metadata": {
    "execution": {
     "iopub.execute_input": "2022-05-09T17:09:45.316616Z",
     "iopub.status.busy": "2022-05-09T17:09:45.315806Z",
     "iopub.status.idle": "2022-05-09T17:09:45.325072Z",
     "shell.execute_reply": "2022-05-09T17:09:45.324236Z"
    },
    "jupyter": {
     "source_hidden": true
    },
    "papermill": {
     "duration": 0.038797,
     "end_time": "2022-05-09T17:09:45.327009",
     "exception": false,
     "start_time": "2022-05-09T17:09:45.288212",
     "status": "completed"
    },
    "tags": [
     "remove_input"
    ]
   },
   "outputs": [],
   "source": [
    "def set_yaxis_range(df, y_col):\n",
    "    Y_MIN = df[y_col].min()\n",
    "    Y_MAX = df[y_col].max()\n",
    "    \n",
    "    return Y_MIN, Y_MAX\n",
    "\n",
    "# Rather than set it according to the operator, which can vary,\n",
    "# just use set thresholds for each group\n",
    "diff_cutoffs = parallel_corridors_utils.diff_cutoffs\n",
    "\n",
    "PCT_TRIPS_BELOW_CUTOFF = 0.25\n",
    "\n",
    "def top15_routes(df, route_group):\n",
    "    df2 = (df[df.route_group==route_group])\n",
    "    # Set a cut-off to enable sorting, where most of the trips are \n",
    "    # below a certain time difference cut-off, \n",
    "    # grab top 15 routes where majority of trips are below that cut-off \n",
    "\n",
    "    route_cols = [\"calitp_itp_id\", \"route_id\"]\n",
    "\n",
    "    df2 = df2.assign(\n",
    "        below_cutoff = df2.apply(lambda x: 1 if x.bus_difference <= diff_cutoffs[route_group] \n",
    "                                 else 0, axis=1),\n",
    "        num_trips = df2.groupby(route_cols)[\"trip_id\"].transform(\"count\")\n",
    "    )\n",
    "\n",
    "    df2[\"below_cutoff\"] = df2.groupby(route_cols)[\"below_cutoff\"].transform(\"sum\")\n",
    "    df2[\"pct_below_cutoff\"] = df2.below_cutoff.divide(df2.num_trips)\n",
    "\n",
    "    # At least half the trips are below that cut-off\n",
    "    # but show 15 max, otherwise, show less, since these won't be as interesting to operators\n",
    "    df3 = (df2[df2.pct_below_cutoff >= PCT_TRIPS_BELOW_CUTOFF]\n",
    "           .sort_values([\"calitp_itp_id\", \"below_cutoff\", \n",
    "                         \"pct_below_cutoff\", \"route_id\"],\n",
    "                        ascending = [True, False, False, True]\n",
    "                       )\n",
    "           .drop_duplicates(subset=[\"calitp_itp_id\", \"route_id\"])\n",
    "          ).head(15)\n",
    "    \n",
    "    return list(df3.route_id)"
   ]
  },
  {
   "cell_type": "code",
   "execution_count": 10,
   "id": "cf36d559-3349-4144-8086-8ac9ce937a5a",
   "metadata": {
    "execution": {
     "iopub.execute_input": "2022-05-09T17:09:45.356140Z",
     "iopub.status.busy": "2022-05-09T17:09:45.355067Z",
     "iopub.status.idle": "2022-05-09T17:09:45.361418Z",
     "shell.execute_reply": "2022-05-09T17:09:45.360734Z"
    },
    "jupyter": {
     "source_hidden": true
    },
    "papermill": {
     "duration": 0.022742,
     "end_time": "2022-05-09T17:09:45.363186",
     "exception": false,
     "start_time": "2022-05-09T17:09:45.340444",
     "status": "completed"
    },
    "tags": [
     "remove_input"
    ]
   },
   "outputs": [],
   "source": [
    "def caption_with_cutoff(cutoff):\n",
    "    sentence = (\n",
    "        f\"<br>These are routes that have **at least {int(PCT_TRIPS_BELOW_CUTOFF*100)}% \"\n",
    "        \"of their trips take no more than an \"\n",
    "        f\"additional {cutoff} min** compared to a car \"\n",
    "        \"(up to 15 routes) are shown.\"\n",
    "        \"<br>Within each route group, routes are sorted in descending order \"\n",
    "        \"by % competitive trips and # trips below the additional time cut-off.\"\n",
    "    )\n",
    "    return sentence\n",
    "\n",
    "CAPTIONS_DICT = {\n",
    "    \"short\": caption_with_cutoff(diff_cutoffs['short']),\n",
    "    \"medium\": caption_with_cutoff(diff_cutoffs['medium']),\n",
    "    \"long\": caption_with_cutoff(diff_cutoffs['long']),\n",
    "}"
   ]
  },
  {
   "cell_type": "code",
   "execution_count": 11,
   "id": "e4306d58-6944-47e9-afef-5d5b524c751f",
   "metadata": {
    "execution": {
     "iopub.execute_input": "2022-05-09T17:09:45.392396Z",
     "iopub.status.busy": "2022-05-09T17:09:45.391435Z",
     "iopub.status.idle": "2022-05-09T17:09:45.409794Z",
     "shell.execute_reply": "2022-05-09T17:09:45.409186Z"
    },
    "jupyter": {
     "source_hidden": true
    },
    "papermill": {
     "duration": 0.035185,
     "end_time": "2022-05-09T17:09:45.411881",
     "exception": false,
     "start_time": "2022-05-09T17:09:45.376696",
     "status": "completed"
    },
    "tags": [
     "remove_input"
    ]
   },
   "outputs": [],
   "source": [
    "def setup_charts(df, PCT_COMPETITIVE_THRESHOLD, route_group):\n",
    "    # Set up df for charting (cut-off at some threshold to show most competitive routes)\n",
    "    plot_me = (df[df.pct_trips_competitive > PCT_COMPETITIVE_THRESHOLD]\n",
    "           .drop(columns = \"geometry\")\n",
    "    )\n",
    "    \n",
    "    y_col1 = \"bus_multiplier\"\n",
    "    Y_MIN1, Y_MAX1 = set_yaxis_range(plot_me, y_col1)\n",
    "\n",
    "    y_col2 = \"bus_difference\"\n",
    "    Y_MIN2, Y_MAX2 = set_yaxis_range(plot_me, y_col2)\n",
    "     \n",
    "    subset_routes = top15_routes(plot_me, route_group)\n",
    "    \n",
    "    multiplier_chart = parallel_corridors_utils.make_stripplot(\n",
    "        plot_me[plot_me.route_id.isin(subset_routes)], \n",
    "        y_col1, Y_MIN = Y_MIN1, Y_MAX = Y_MAX1\n",
    "    )\n",
    "    \n",
    "    difference_chart = parallel_corridors_utils.make_stripplot(\n",
    "        plot_me[plot_me.route_id.isin(subset_routes)], \n",
    "        y_col2, Y_MIN = Y_MIN2, Y_MAX = Y_MAX2\n",
    "    )\n",
    "    \n",
    "    return subset_routes, multiplier_chart, difference_chart            "
   ]
  },
  {
   "cell_type": "code",
   "execution_count": 12,
   "id": "33a710e8-504c-4942-aa75-ff69f216956e",
   "metadata": {
    "execution": {
     "iopub.execute_input": "2022-05-09T17:09:45.441816Z",
     "iopub.status.busy": "2022-05-09T17:09:45.441111Z",
     "iopub.status.idle": "2022-05-09T17:09:45.449196Z",
     "shell.execute_reply": "2022-05-09T17:09:45.448335Z"
    },
    "jupyter": {
     "source_hidden": true
    },
    "papermill": {
     "duration": 0.02621,
     "end_time": "2022-05-09T17:09:45.452118",
     "exception": false,
     "start_time": "2022-05-09T17:09:45.425908",
     "status": "completed"
    },
    "tags": [
     "remove_input"
    ]
   },
   "outputs": [],
   "source": [
    "def display_charts_for_route_group(df, route_group):    \n",
    "    subset_routes, mult, diff  = setup_charts(df, PCT_COMPETITIVE_THRESHOLD, route_group)\n",
    "\n",
    "    if len(subset_routes) > 0:\n",
    "        display(Markdown(f\"{CAPTIONS_DICT[route_group]}\"))\n",
    "\n",
    "        display(mult)\n",
    "        display(diff)"
   ]
  },
  {
   "cell_type": "markdown",
   "id": "525f9b38-072b-46d1-96a8-1aa4b038357c",
   "metadata": {
    "papermill": {
     "duration": 0.014227,
     "end_time": "2022-05-09T17:09:45.482309",
     "exception": false,
     "start_time": "2022-05-09T17:09:45.468082",
     "status": "completed"
    },
    "tags": []
   },
   "source": [
    "## Viable Competitive Routes\n",
    "### Short Routes (< 1 hr)"
   ]
  },
  {
   "cell_type": "code",
   "execution_count": 13,
   "id": "57f7084c-2cf7-45c6-ba08-1609e0bd6ca5",
   "metadata": {
    "execution": {
     "iopub.execute_input": "2022-05-09T17:09:45.531740Z",
     "iopub.status.busy": "2022-05-09T17:09:45.531401Z",
     "iopub.status.idle": "2022-05-09T17:09:45.853676Z",
     "shell.execute_reply": "2022-05-09T17:09:45.852756Z"
    },
    "jupyter": {
     "source_hidden": true
    },
    "papermill": {
     "duration": 0.346018,
     "end_time": "2022-05-09T17:09:45.855977",
     "exception": false,
     "start_time": "2022-05-09T17:09:45.509959",
     "status": "completed"
    },
    "tags": [
     "remove_input"
    ]
   },
   "outputs": [
    {
     "data": {
      "text/markdown": [
       "<br>These are routes that have **at least 25% of their trips take no more than an additional 20 min** compared to a car (up to 15 routes) are shown.<br>Within each route group, routes are sorted in descending order by % competitive trips and # trips below the additional time cut-off."
      ],
      "text/plain": [
       "<IPython.core.display.Markdown object>"
      ]
     },
     "metadata": {},
     "output_type": "display_data"
    },
    {
     "data": {
      "text/html": [
       "\n",
       "<div id=\"altair-viz-db9d7ee3b4244f9cbd6e1241dda45ecc\"></div>\n",
       "<script type=\"text/javascript\">\n",
       "  var VEGA_DEBUG = (typeof VEGA_DEBUG == \"undefined\") ? {} : VEGA_DEBUG;\n",
       "  (function(spec, embedOpt){\n",
       "    let outputDiv = document.currentScript.previousElementSibling;\n",
       "    if (outputDiv.id !== \"altair-viz-db9d7ee3b4244f9cbd6e1241dda45ecc\") {\n",
       "      outputDiv = document.getElementById(\"altair-viz-db9d7ee3b4244f9cbd6e1241dda45ecc\");\n",
       "    }\n",
       "    const paths = {\n",
       "      \"vega\": \"https://cdn.jsdelivr.net/npm//vega@5?noext\",\n",
       "      \"vega-lib\": \"https://cdn.jsdelivr.net/npm//vega-lib?noext\",\n",
       "      \"vega-lite\": \"https://cdn.jsdelivr.net/npm//vega-lite@4.17.0?noext\",\n",
       "      \"vega-embed\": \"https://cdn.jsdelivr.net/npm//vega-embed@6?noext\",\n",
       "    };\n",
       "\n",
       "    function maybeLoadScript(lib, version) {\n",
       "      var key = `${lib.replace(\"-\", \"\")}_version`;\n",
       "      return (VEGA_DEBUG[key] == version) ?\n",
       "        Promise.resolve(paths[lib]) :\n",
       "        new Promise(function(resolve, reject) {\n",
       "          var s = document.createElement('script');\n",
       "          document.getElementsByTagName(\"head\")[0].appendChild(s);\n",
       "          s.async = true;\n",
       "          s.onload = () => {\n",
       "            VEGA_DEBUG[key] = version;\n",
       "            return resolve(paths[lib]);\n",
       "          };\n",
       "          s.onerror = () => reject(`Error loading script: ${paths[lib]}`);\n",
       "          s.src = paths[lib];\n",
       "        });\n",
       "    }\n",
       "\n",
       "    function showError(err) {\n",
       "      outputDiv.innerHTML = `<div class=\"error\" style=\"color:red;\">${err}</div>`;\n",
       "      throw err;\n",
       "    }\n",
       "\n",
       "    function displayChart(vegaEmbed) {\n",
       "      vegaEmbed(outputDiv, spec, embedOpt)\n",
       "        .catch(err => showError(`Javascript Error: ${err.message}<br>This usually means there's a typo in your chart specification. See the javascript console for the full traceback.`));\n",
       "    }\n",
       "\n",
       "    if(typeof define === \"function\" && define.amd) {\n",
       "      requirejs.config({paths});\n",
       "      require([\"vega-embed\"], displayChart, err => showError(`Error loading script: ${err.message}`));\n",
       "    } else {\n",
       "      maybeLoadScript(\"vega\", \"5\")\n",
       "        .then(() => maybeLoadScript(\"vega-lite\", \"4.17.0\"))\n",
       "        .then(() => maybeLoadScript(\"vega-embed\", \"6\"))\n",
       "        .catch(showError)\n",
       "        .then(() => displayChart(vegaEmbed));\n",
       "    }\n",
       "  })({\"config\": {\"view\": {\"continuousWidth\": 400, \"continuousHeight\": 300, \"stroke\": null}, \"facet\": {\"spacing\": 0}}, \"data\": {\"name\": \"data-dab62e31a9cb817bb87d16befff0a6d2\"}, \"facet\": {\"column\": {\"field\": \"route_id\", \"sort\": [\"15206\"], \"title\": \"Route ID\", \"type\": \"nominal\"}}, \"spec\": {\"layer\": [{\"mark\": \"rule\", \"encoding\": {\"color\": {\"value\": \"black\"}, \"y\": {\"field\": \"cutoff\", \"type\": \"quantitative\"}}, \"selection\": {\"selector001\": {\"type\": \"interval\", \"bind\": \"scales\", \"encodings\": [\"x\", \"y\"]}}}, {\"mark\": {\"type\": \"point\", \"opacity\": 0.65, \"size\": 12, \"strokeWidth\": 1.1}, \"encoding\": {\"color\": {\"field\": \"time_of_day\", \"scale\": {\"range\": [\"#136C97\", \"#E16B26\", \"#F6BF16\", \"#00896B\", \"#7790A3\", \"#5B559C\"]}, \"sort\": [\"AM Peak\", \"Midday\", \"PM Peak\", \"Owl Service\"], \"title\": \"Time of Day\", \"type\": \"nominal\"}, \"tooltip\": [{\"field\": \"route_id\", \"type\": \"nominal\"}, {\"field\": \"trip_id\", \"type\": \"nominal\"}, {\"field\": \"service_hours\", \"type\": \"quantitative\"}, {\"field\": \"car_duration_hours\", \"type\": \"quantitative\"}, {\"field\": \"bus_multiplier\", \"type\": \"quantitative\"}, {\"field\": \"bus_difference\", \"type\": \"quantitative\"}, {\"field\": \"num_trips\", \"type\": \"quantitative\"}, {\"field\": \"num_competitive\", \"type\": \"quantitative\"}, {\"field\": \"pct_trips_competitive\", \"type\": \"quantitative\"}, {\"field\": \"p25\", \"type\": \"quantitative\"}, {\"field\": \"p50\", \"type\": \"quantitative\"}, {\"field\": \"p75\", \"type\": \"quantitative\"}], \"x\": {\"axis\": {\"grid\": false, \"labels\": false, \"ticks\": true, \"values\": [0]}, \"field\": \"jitter\", \"scale\": {}, \"title\": null, \"type\": \"quantitative\"}, \"y\": {\"field\": \"bus_multiplier\", \"scale\": {\"domain\": [-0.25, 2.5]}, \"title\": \"Ratio of Bus to Car Travel Time\", \"type\": \"quantitative\"}}, \"transform\": [{\"calculate\": \"sqrt(-2*log(random()))*cos(2*PI*random())\", \"as\": \"jitter\"}], \"width\": 50}, {\"layer\": [{\"mark\": {\"type\": \"point\", \"opacity\": 0.6, \"size\": 20, \"strokeWidth\": 1.3}, \"encoding\": {\"color\": {\"value\": \"#323434\"}, \"y\": {\"field\": \"bus_multiplier\", \"type\": \"quantitative\"}}, \"transform\": [{\"filter\": \"(datum.p50_trip === 1)\"}]}, {\"mark\": {\"type\": \"text\", \"align\": \"center\", \"baseline\": \"middle\"}, \"encoding\": {\"color\": {\"value\": \"black\"}, \"text\": {\"field\": \"pct_trips_competitive\", \"format\": \".0%\", \"type\": \"quantitative\"}, \"tooltip\": [{\"field\": \"route_id\", \"type\": \"nominal\"}, {\"field\": \"trip_id\", \"type\": \"nominal\"}, {\"field\": \"service_hours\", \"type\": \"quantitative\"}, {\"field\": \"car_duration_hours\", \"type\": \"quantitative\"}, {\"field\": \"bus_multiplier\", \"type\": \"quantitative\"}, {\"field\": \"bus_difference\", \"type\": \"quantitative\"}, {\"field\": \"num_trips\", \"type\": \"quantitative\"}, {\"field\": \"num_competitive\", \"type\": \"quantitative\"}, {\"field\": \"pct_trips_competitive\", \"type\": \"quantitative\"}, {\"field\": \"p25\", \"type\": \"quantitative\"}, {\"field\": \"p50\", \"type\": \"quantitative\"}, {\"field\": \"p75\", \"type\": \"quantitative\"}], \"x\": {\"value\": 30}, \"y\": {\"value\": 15}}, \"transform\": [{\"calculate\": \"sqrt(-2*log(random()))*cos(2*PI*random())\", \"as\": \"jitter\"}, {\"filter\": \"(datum.fastest_trip === 1)\"}]}]}]}, \"resolve\": {\"scale\": {\"y\": \"shared\"}}, \"title\": \"Ratio of Bus to Car Travel Time\", \"$schema\": \"https://vega.github.io/schema/vega-lite/v4.17.0.json\", \"datasets\": {\"data-dab62e31a9cb817bb87d16befff0a6d2\": [{\"calitp_itp_id\": 308, \"trip_key\": 2261689821660566722, \"trip_id\": \"t_946129_b_24359_tn_0\", \"shape_id\": \"p_898188\", \"route_id\": \"15206\", \"service_hours\": 0.33, \"trip_first_departure_ts\": 69000, \"trip_last_arrival_ts\": 70200, \"departure_hour\": 19, \"time_of_day\": \"PM Peak\", \"p25\": 0.33, \"p50\": 0.41500000000000004, \"p75\": 0.5, \"p50_trip\": 0, \"fastest_trip\": 1, \"car_duration_hours\": 0.3, \"competitive_route\": 1, \"bus_multiplier\": 1.1, \"bus_difference\": 1.8, \"num_trips\": 56, \"num_competitive\": 56, \"pct_trips_competitive\": 1.0, \"bus_difference_spread\": 11.4, \"route_group\": \"short\", \"max_trip_hrs\": 0.52, \"max_trip_route_group\": 0.52, \"name\": \"City of Simi Valley\", \"caltrans_district\": \"07 - Los Angeles\", \"drmt_organization_name\": null, \"cutoff2\": 20, \"cutoff\": 2}, {\"calitp_itp_id\": 308, \"trip_key\": 8179130212206563919, \"trip_id\": \"t_946123_b_24359_tn_0\", \"shape_id\": \"p_898188\", \"route_id\": \"15206\", \"service_hours\": 0.33, \"trip_first_departure_ts\": 58200, \"trip_last_arrival_ts\": 59400, \"departure_hour\": 16, \"time_of_day\": \"Midday\", \"p25\": 0.33, \"p50\": 0.41500000000000004, \"p75\": 0.5, \"p50_trip\": 0, \"fastest_trip\": 0, \"car_duration_hours\": 0.3, \"competitive_route\": 1, \"bus_multiplier\": 1.1, \"bus_difference\": 1.8, \"num_trips\": 56, \"num_competitive\": 56, \"pct_trips_competitive\": 1.0, \"bus_difference_spread\": 11.4, \"route_group\": \"short\", \"max_trip_hrs\": 0.52, \"max_trip_route_group\": 0.52, \"name\": \"City of Simi Valley\", \"caltrans_district\": \"07 - Los Angeles\", \"drmt_organization_name\": null, \"cutoff2\": 20, \"cutoff\": 2}, {\"calitp_itp_id\": 308, \"trip_key\": -2498285654119123466, \"trip_id\": \"t_946103_b_24359_tn_0\", \"shape_id\": \"p_898188\", \"route_id\": \"15206\", \"service_hours\": 0.33, \"trip_first_departure_ts\": 22200, \"trip_last_arrival_ts\": 23400, \"departure_hour\": 6, \"time_of_day\": \"Owl Service\", \"p25\": 0.33, \"p50\": 0.41500000000000004, \"p75\": 0.5, \"p50_trip\": 0, \"fastest_trip\": 0, \"car_duration_hours\": 0.3, \"competitive_route\": 1, \"bus_multiplier\": 1.1, \"bus_difference\": 1.8, \"num_trips\": 56, \"num_competitive\": 56, \"pct_trips_competitive\": 1.0, \"bus_difference_spread\": 11.4, \"route_group\": \"short\", \"max_trip_hrs\": 0.52, \"max_trip_route_group\": 0.52, \"name\": \"City of Simi Valley\", \"caltrans_district\": \"07 - Los Angeles\", \"drmt_organization_name\": null, \"cutoff2\": 20, \"cutoff\": 2}, {\"calitp_itp_id\": 308, \"trip_key\": -8259203156399175823, \"trip_id\": \"t_946119_b_24359_tn_0\", \"shape_id\": \"p_898188\", \"route_id\": \"15206\", \"service_hours\": 0.33, \"trip_first_departure_ts\": 51000, \"trip_last_arrival_ts\": 52200, \"departure_hour\": 14, \"time_of_day\": \"Midday\", \"p25\": 0.33, \"p50\": 0.41500000000000004, \"p75\": 0.5, \"p50_trip\": 0, \"fastest_trip\": 0, \"car_duration_hours\": 0.3, \"competitive_route\": 1, \"bus_multiplier\": 1.1, \"bus_difference\": 1.8, \"num_trips\": 56, \"num_competitive\": 56, \"pct_trips_competitive\": 1.0, \"bus_difference_spread\": 11.4, \"route_group\": \"short\", \"max_trip_hrs\": 0.52, \"max_trip_route_group\": 0.52, \"name\": \"City of Simi Valley\", \"caltrans_district\": \"07 - Los Angeles\", \"drmt_organization_name\": null, \"cutoff2\": 20, \"cutoff\": 2}, {\"calitp_itp_id\": 308, \"trip_key\": -5427810824681045318, \"trip_id\": \"t_946125_b_24359_tn_0\", \"shape_id\": \"p_898188\", \"route_id\": \"15206\", \"service_hours\": 0.33, \"trip_first_departure_ts\": 61800, \"trip_last_arrival_ts\": 63000, \"departure_hour\": 17, \"time_of_day\": \"PM Peak\", \"p25\": 0.33, \"p50\": 0.41500000000000004, \"p75\": 0.5, \"p50_trip\": 0, \"fastest_trip\": 0, \"car_duration_hours\": 0.3, \"competitive_route\": 1, \"bus_multiplier\": 1.1, \"bus_difference\": 1.8, \"num_trips\": 56, \"num_competitive\": 56, \"pct_trips_competitive\": 1.0, \"bus_difference_spread\": 11.4, \"route_group\": \"short\", \"max_trip_hrs\": 0.52, \"max_trip_route_group\": 0.52, \"name\": \"City of Simi Valley\", \"caltrans_district\": \"07 - Los Angeles\", \"drmt_organization_name\": null, \"cutoff2\": 20, \"cutoff\": 2}, {\"calitp_itp_id\": 308, \"trip_key\": -1433717451632064498, \"trip_id\": \"t_946109_b_24359_tn_0\", \"shape_id\": \"p_898188\", \"route_id\": \"15206\", \"service_hours\": 0.33, \"trip_first_departure_ts\": 33000, \"trip_last_arrival_ts\": 34200, \"departure_hour\": 9, \"time_of_day\": \"AM Peak\", \"p25\": 0.33, \"p50\": 0.41500000000000004, \"p75\": 0.5, \"p50_trip\": 0, \"fastest_trip\": 0, \"car_duration_hours\": 0.3, \"competitive_route\": 1, \"bus_multiplier\": 1.1, \"bus_difference\": 1.8, \"num_trips\": 56, \"num_competitive\": 56, \"pct_trips_competitive\": 1.0, \"bus_difference_spread\": 11.4, \"route_group\": \"short\", \"max_trip_hrs\": 0.52, \"max_trip_route_group\": 0.52, \"name\": \"City of Simi Valley\", \"caltrans_district\": \"07 - Los Angeles\", \"drmt_organization_name\": null, \"cutoff2\": 20, \"cutoff\": 2}, {\"calitp_itp_id\": 308, \"trip_key\": -6729915948586873085, \"trip_id\": \"t_946113_b_24359_tn_0\", \"shape_id\": \"p_898188\", \"route_id\": \"15206\", \"service_hours\": 0.33, \"trip_first_departure_ts\": 40200, \"trip_last_arrival_ts\": 41400, \"departure_hour\": 11, \"time_of_day\": \"Midday\", \"p25\": 0.33, \"p50\": 0.41500000000000004, \"p75\": 0.5, \"p50_trip\": 0, \"fastest_trip\": 0, \"car_duration_hours\": 0.3, \"competitive_route\": 1, \"bus_multiplier\": 1.1, \"bus_difference\": 1.8, \"num_trips\": 56, \"num_competitive\": 56, \"pct_trips_competitive\": 1.0, \"bus_difference_spread\": 11.4, \"route_group\": \"short\", \"max_trip_hrs\": 0.52, \"max_trip_route_group\": 0.52, \"name\": \"City of Simi Valley\", \"caltrans_district\": \"07 - Los Angeles\", \"drmt_organization_name\": null, \"cutoff2\": 20, \"cutoff\": 2}, {\"calitp_itp_id\": 308, \"trip_key\": 7776908892581446703, \"trip_id\": \"t_946108_b_24359_tn_0\", \"shape_id\": \"p_898188\", \"route_id\": \"15206\", \"service_hours\": 0.33, \"trip_first_departure_ts\": 31200, \"trip_last_arrival_ts\": 32400, \"departure_hour\": 8, \"time_of_day\": \"AM Peak\", \"p25\": 0.33, \"p50\": 0.41500000000000004, \"p75\": 0.5, \"p50_trip\": 0, \"fastest_trip\": 0, \"car_duration_hours\": 0.3, \"competitive_route\": 1, \"bus_multiplier\": 1.1, \"bus_difference\": 1.8, \"num_trips\": 56, \"num_competitive\": 56, \"pct_trips_competitive\": 1.0, \"bus_difference_spread\": 11.4, \"route_group\": \"short\", \"max_trip_hrs\": 0.52, \"max_trip_route_group\": 0.52, \"name\": \"City of Simi Valley\", \"caltrans_district\": \"07 - Los Angeles\", \"drmt_organization_name\": null, \"cutoff2\": 20, \"cutoff\": 2}, {\"calitp_itp_id\": 308, \"trip_key\": -5820800580559433667, \"trip_id\": \"t_946124_b_24359_tn_0\", \"shape_id\": \"p_898188\", \"route_id\": \"15206\", \"service_hours\": 0.33, \"trip_first_departure_ts\": 60000, \"trip_last_arrival_ts\": 61200, \"departure_hour\": 16, \"time_of_day\": \"Midday\", \"p25\": 0.33, \"p50\": 0.41500000000000004, \"p75\": 0.5, \"p50_trip\": 0, \"fastest_trip\": 0, \"car_duration_hours\": 0.3, \"competitive_route\": 1, \"bus_multiplier\": 1.1, \"bus_difference\": 1.8, \"num_trips\": 56, \"num_competitive\": 56, \"pct_trips_competitive\": 1.0, \"bus_difference_spread\": 11.4, \"route_group\": \"short\", \"max_trip_hrs\": 0.52, \"max_trip_route_group\": 0.52, \"name\": \"City of Simi Valley\", \"caltrans_district\": \"07 - Los Angeles\", \"drmt_organization_name\": null, \"cutoff2\": 20, \"cutoff\": 2}, {\"calitp_itp_id\": 308, \"trip_key\": -8320292640799424591, \"trip_id\": \"t_946105_b_24359_tn_0\", \"shape_id\": \"p_898188\", \"route_id\": \"15206\", \"service_hours\": 0.33, \"trip_first_departure_ts\": 25800, \"trip_last_arrival_ts\": 27000, \"departure_hour\": 7, \"time_of_day\": \"AM Peak\", \"p25\": 0.33, \"p50\": 0.41500000000000004, \"p75\": 0.5, \"p50_trip\": 0, \"fastest_trip\": 0, \"car_duration_hours\": 0.3, \"competitive_route\": 1, \"bus_multiplier\": 1.1, \"bus_difference\": 1.8, \"num_trips\": 56, \"num_competitive\": 56, \"pct_trips_competitive\": 1.0, \"bus_difference_spread\": 11.4, \"route_group\": \"short\", \"max_trip_hrs\": 0.52, \"max_trip_route_group\": 0.52, \"name\": \"City of Simi Valley\", \"caltrans_district\": \"07 - Los Angeles\", \"drmt_organization_name\": null, \"cutoff2\": 20, \"cutoff\": 2}, {\"calitp_itp_id\": 308, \"trip_key\": -5635726924837519396, \"trip_id\": \"t_946107_b_24359_tn_0\", \"shape_id\": \"p_898188\", \"route_id\": \"15206\", \"service_hours\": 0.33, \"trip_first_departure_ts\": 29400, \"trip_last_arrival_ts\": 30600, \"departure_hour\": 8, \"time_of_day\": \"AM Peak\", \"p25\": 0.33, \"p50\": 0.41500000000000004, \"p75\": 0.5, \"p50_trip\": 0, \"fastest_trip\": 0, \"car_duration_hours\": 0.3, \"competitive_route\": 1, \"bus_multiplier\": 1.1, \"bus_difference\": 1.8, \"num_trips\": 56, \"num_competitive\": 56, \"pct_trips_competitive\": 1.0, \"bus_difference_spread\": 11.4, \"route_group\": \"short\", \"max_trip_hrs\": 0.52, \"max_trip_route_group\": 0.52, \"name\": \"City of Simi Valley\", \"caltrans_district\": \"07 - Los Angeles\", \"drmt_organization_name\": null, \"cutoff2\": 20, \"cutoff\": 2}, {\"calitp_itp_id\": 308, \"trip_key\": 6825484287729484729, \"trip_id\": \"t_946116_b_24359_tn_0\", \"shape_id\": \"p_898188\", \"route_id\": \"15206\", \"service_hours\": 0.33, \"trip_first_departure_ts\": 45600, \"trip_last_arrival_ts\": 46800, \"departure_hour\": 12, \"time_of_day\": \"Midday\", \"p25\": 0.33, \"p50\": 0.41500000000000004, \"p75\": 0.5, \"p50_trip\": 0, \"fastest_trip\": 0, \"car_duration_hours\": 0.3, \"competitive_route\": 1, \"bus_multiplier\": 1.1, \"bus_difference\": 1.8, \"num_trips\": 56, \"num_competitive\": 56, \"pct_trips_competitive\": 1.0, \"bus_difference_spread\": 11.4, \"route_group\": \"short\", \"max_trip_hrs\": 0.52, \"max_trip_route_group\": 0.52, \"name\": \"City of Simi Valley\", \"caltrans_district\": \"07 - Los Angeles\", \"drmt_organization_name\": null, \"cutoff2\": 20, \"cutoff\": 2}, {\"calitp_itp_id\": 308, \"trip_key\": 5914148812228893700, \"trip_id\": \"t_946111_b_24359_tn_0\", \"shape_id\": \"p_898188\", \"route_id\": \"15206\", \"service_hours\": 0.33, \"trip_first_departure_ts\": 36600, \"trip_last_arrival_ts\": 37800, \"departure_hour\": 10, \"time_of_day\": \"Midday\", \"p25\": 0.33, \"p50\": 0.41500000000000004, \"p75\": 0.5, \"p50_trip\": 0, \"fastest_trip\": 0, \"car_duration_hours\": 0.3, \"competitive_route\": 1, \"bus_multiplier\": 1.1, \"bus_difference\": 1.8, \"num_trips\": 56, \"num_competitive\": 56, \"pct_trips_competitive\": 1.0, \"bus_difference_spread\": 11.4, \"route_group\": \"short\", \"max_trip_hrs\": 0.52, \"max_trip_route_group\": 0.52, \"name\": \"City of Simi Valley\", \"caltrans_district\": \"07 - Los Angeles\", \"drmt_organization_name\": null, \"cutoff2\": 20, \"cutoff\": 2}, {\"calitp_itp_id\": 308, \"trip_key\": -876161771991597509, \"trip_id\": \"t_946115_b_24359_tn_0\", \"shape_id\": \"p_898188\", \"route_id\": \"15206\", \"service_hours\": 0.33, \"trip_first_departure_ts\": 43800, \"trip_last_arrival_ts\": 45000, \"departure_hour\": 12, \"time_of_day\": \"Midday\", \"p25\": 0.33, \"p50\": 0.41500000000000004, \"p75\": 0.5, \"p50_trip\": 0, \"fastest_trip\": 0, \"car_duration_hours\": 0.3, \"competitive_route\": 1, \"bus_multiplier\": 1.1, \"bus_difference\": 1.8, \"num_trips\": 56, \"num_competitive\": 56, \"pct_trips_competitive\": 1.0, \"bus_difference_spread\": 11.4, \"route_group\": \"short\", \"max_trip_hrs\": 0.52, \"max_trip_route_group\": 0.52, \"name\": \"City of Simi Valley\", \"caltrans_district\": \"07 - Los Angeles\", \"drmt_organization_name\": null, \"cutoff2\": 20, \"cutoff\": 2}, {\"calitp_itp_id\": 308, \"trip_key\": -7853264398043842300, \"trip_id\": \"t_946126_b_24359_tn_0\", \"shape_id\": \"p_898188\", \"route_id\": \"15206\", \"service_hours\": 0.33, \"trip_first_departure_ts\": 63600, \"trip_last_arrival_ts\": 64800, \"departure_hour\": 17, \"time_of_day\": \"PM Peak\", \"p25\": 0.33, \"p50\": 0.41500000000000004, \"p75\": 0.5, \"p50_trip\": 0, \"fastest_trip\": 0, \"car_duration_hours\": 0.3, \"competitive_route\": 1, \"bus_multiplier\": 1.1, \"bus_difference\": 1.8, \"num_trips\": 56, \"num_competitive\": 56, \"pct_trips_competitive\": 1.0, \"bus_difference_spread\": 11.4, \"route_group\": \"short\", \"max_trip_hrs\": 0.52, \"max_trip_route_group\": 0.52, \"name\": \"City of Simi Valley\", \"caltrans_district\": \"07 - Los Angeles\", \"drmt_organization_name\": null, \"cutoff2\": 20, \"cutoff\": 2}, {\"calitp_itp_id\": 308, \"trip_key\": 8911867157148446863, \"trip_id\": \"t_946128_b_24359_tn_0\", \"shape_id\": \"p_898188\", \"route_id\": \"15206\", \"service_hours\": 0.33, \"trip_first_departure_ts\": 67260, \"trip_last_arrival_ts\": 68460, \"departure_hour\": 18, \"time_of_day\": \"PM Peak\", \"p25\": 0.33, \"p50\": 0.41500000000000004, \"p75\": 0.5, \"p50_trip\": 0, \"fastest_trip\": 0, \"car_duration_hours\": 0.3, \"competitive_route\": 1, \"bus_multiplier\": 1.1, \"bus_difference\": 1.8, \"num_trips\": 56, \"num_competitive\": 56, \"pct_trips_competitive\": 1.0, \"bus_difference_spread\": 11.4, \"route_group\": \"short\", \"max_trip_hrs\": 0.52, \"max_trip_route_group\": 0.52, \"name\": \"City of Simi Valley\", \"caltrans_district\": \"07 - Los Angeles\", \"drmt_organization_name\": null, \"cutoff2\": 20, \"cutoff\": 2}, {\"calitp_itp_id\": 308, \"trip_key\": -8762992939399743410, \"trip_id\": \"t_946130_b_24359_tn_0\", \"shape_id\": \"p_898188\", \"route_id\": \"15206\", \"service_hours\": 0.33, \"trip_first_departure_ts\": 70800, \"trip_last_arrival_ts\": 72000, \"departure_hour\": 19, \"time_of_day\": \"PM Peak\", \"p25\": 0.33, \"p50\": 0.41500000000000004, \"p75\": 0.5, \"p50_trip\": 0, \"fastest_trip\": 0, \"car_duration_hours\": 0.3, \"competitive_route\": 1, \"bus_multiplier\": 1.1, \"bus_difference\": 1.8, \"num_trips\": 56, \"num_competitive\": 56, \"pct_trips_competitive\": 1.0, \"bus_difference_spread\": 11.4, \"route_group\": \"short\", \"max_trip_hrs\": 0.52, \"max_trip_route_group\": 0.52, \"name\": \"City of Simi Valley\", \"caltrans_district\": \"07 - Los Angeles\", \"drmt_organization_name\": null, \"cutoff2\": 20, \"cutoff\": 2}, {\"calitp_itp_id\": 308, \"trip_key\": -4391232210353182445, \"trip_id\": \"t_946106_b_24359_tn_0\", \"shape_id\": \"p_898188\", \"route_id\": \"15206\", \"service_hours\": 0.33, \"trip_first_departure_ts\": 27600, \"trip_last_arrival_ts\": 28800, \"departure_hour\": 7, \"time_of_day\": \"AM Peak\", \"p25\": 0.33, \"p50\": 0.41500000000000004, \"p75\": 0.5, \"p50_trip\": 0, \"fastest_trip\": 0, \"car_duration_hours\": 0.3, \"competitive_route\": 1, \"bus_multiplier\": 1.1, \"bus_difference\": 1.8, \"num_trips\": 56, \"num_competitive\": 56, \"pct_trips_competitive\": 1.0, \"bus_difference_spread\": 11.4, \"route_group\": \"short\", \"max_trip_hrs\": 0.52, \"max_trip_route_group\": 0.52, \"name\": \"City of Simi Valley\", \"caltrans_district\": \"07 - Los Angeles\", \"drmt_organization_name\": null, \"cutoff2\": 20, \"cutoff\": 2}, {\"calitp_itp_id\": 308, \"trip_key\": 7093254243388164782, \"trip_id\": \"t_946127_b_24359_tn_0\", \"shape_id\": \"p_898188\", \"route_id\": \"15206\", \"service_hours\": 0.33, \"trip_first_departure_ts\": 65400, \"trip_last_arrival_ts\": 66600, \"departure_hour\": 18, \"time_of_day\": \"PM Peak\", \"p25\": 0.33, \"p50\": 0.41500000000000004, \"p75\": 0.5, \"p50_trip\": 0, \"fastest_trip\": 0, \"car_duration_hours\": 0.3, \"competitive_route\": 1, \"bus_multiplier\": 1.1, \"bus_difference\": 1.8, \"num_trips\": 56, \"num_competitive\": 56, \"pct_trips_competitive\": 1.0, \"bus_difference_spread\": 11.4, \"route_group\": \"short\", \"max_trip_hrs\": 0.52, \"max_trip_route_group\": 0.52, \"name\": \"City of Simi Valley\", \"caltrans_district\": \"07 - Los Angeles\", \"drmt_organization_name\": null, \"cutoff2\": 20, \"cutoff\": 2}, {\"calitp_itp_id\": 308, \"trip_key\": -5590865945693394818, \"trip_id\": \"t_946121_b_24359_tn_0\", \"shape_id\": \"p_898188\", \"route_id\": \"15206\", \"service_hours\": 0.33, \"trip_first_departure_ts\": 54600, \"trip_last_arrival_ts\": 55800, \"departure_hour\": 15, \"time_of_day\": \"Midday\", \"p25\": 0.33, \"p50\": 0.41500000000000004, \"p75\": 0.5, \"p50_trip\": 0, \"fastest_trip\": 0, \"car_duration_hours\": 0.3, \"competitive_route\": 1, \"bus_multiplier\": 1.1, \"bus_difference\": 1.8, \"num_trips\": 56, \"num_competitive\": 56, \"pct_trips_competitive\": 1.0, \"bus_difference_spread\": 11.4, \"route_group\": \"short\", \"max_trip_hrs\": 0.52, \"max_trip_route_group\": 0.52, \"name\": \"City of Simi Valley\", \"caltrans_district\": \"07 - Los Angeles\", \"drmt_organization_name\": null, \"cutoff2\": 20, \"cutoff\": 2}, {\"calitp_itp_id\": 308, \"trip_key\": -3228277295240571107, \"trip_id\": \"t_946122_b_24359_tn_0\", \"shape_id\": \"p_898188\", \"route_id\": \"15206\", \"service_hours\": 0.33, \"trip_first_departure_ts\": 56400, \"trip_last_arrival_ts\": 57600, \"departure_hour\": 15, \"time_of_day\": \"Midday\", \"p25\": 0.33, \"p50\": 0.41500000000000004, \"p75\": 0.5, \"p50_trip\": 0, \"fastest_trip\": 0, \"car_duration_hours\": 0.3, \"competitive_route\": 1, \"bus_multiplier\": 1.1, \"bus_difference\": 1.8, \"num_trips\": 56, \"num_competitive\": 56, \"pct_trips_competitive\": 1.0, \"bus_difference_spread\": 11.4, \"route_group\": \"short\", \"max_trip_hrs\": 0.52, \"max_trip_route_group\": 0.52, \"name\": \"City of Simi Valley\", \"caltrans_district\": \"07 - Los Angeles\", \"drmt_organization_name\": null, \"cutoff2\": 20, \"cutoff\": 2}, {\"calitp_itp_id\": 308, \"trip_key\": 8339464564364172853, \"trip_id\": \"t_946112_b_24359_tn_0\", \"shape_id\": \"p_898188\", \"route_id\": \"15206\", \"service_hours\": 0.33, \"trip_first_departure_ts\": 38400, \"trip_last_arrival_ts\": 39600, \"departure_hour\": 10, \"time_of_day\": \"Midday\", \"p25\": 0.33, \"p50\": 0.41500000000000004, \"p75\": 0.5, \"p50_trip\": 0, \"fastest_trip\": 0, \"car_duration_hours\": 0.3, \"competitive_route\": 1, \"bus_multiplier\": 1.1, \"bus_difference\": 1.8, \"num_trips\": 56, \"num_competitive\": 56, \"pct_trips_competitive\": 1.0, \"bus_difference_spread\": 11.4, \"route_group\": \"short\", \"max_trip_hrs\": 0.52, \"max_trip_route_group\": 0.52, \"name\": \"City of Simi Valley\", \"caltrans_district\": \"07 - Los Angeles\", \"drmt_organization_name\": null, \"cutoff2\": 20, \"cutoff\": 2}, {\"calitp_itp_id\": 308, \"trip_key\": 4142883466696691433, \"trip_id\": \"t_946110_b_24359_tn_0\", \"shape_id\": \"p_898188\", \"route_id\": \"15206\", \"service_hours\": 0.33, \"trip_first_departure_ts\": 34800, \"trip_last_arrival_ts\": 36000, \"departure_hour\": 9, \"time_of_day\": \"AM Peak\", \"p25\": 0.33, \"p50\": 0.41500000000000004, \"p75\": 0.5, \"p50_trip\": 0, \"fastest_trip\": 0, \"car_duration_hours\": 0.3, \"competitive_route\": 1, \"bus_multiplier\": 1.1, \"bus_difference\": 1.8, \"num_trips\": 56, \"num_competitive\": 56, \"pct_trips_competitive\": 1.0, \"bus_difference_spread\": 11.4, \"route_group\": \"short\", \"max_trip_hrs\": 0.52, \"max_trip_route_group\": 0.52, \"name\": \"City of Simi Valley\", \"caltrans_district\": \"07 - Los Angeles\", \"drmt_organization_name\": null, \"cutoff2\": 20, \"cutoff\": 2}, {\"calitp_itp_id\": 308, \"trip_key\": 2158922621291155621, \"trip_id\": \"t_946117_b_24359_tn_0\", \"shape_id\": \"p_898188\", \"route_id\": \"15206\", \"service_hours\": 0.33, \"trip_first_departure_ts\": 47400, \"trip_last_arrival_ts\": 48600, \"departure_hour\": 13, \"time_of_day\": \"Midday\", \"p25\": 0.33, \"p50\": 0.41500000000000004, \"p75\": 0.5, \"p50_trip\": 0, \"fastest_trip\": 0, \"car_duration_hours\": 0.3, \"competitive_route\": 1, \"bus_multiplier\": 1.1, \"bus_difference\": 1.8, \"num_trips\": 56, \"num_competitive\": 56, \"pct_trips_competitive\": 1.0, \"bus_difference_spread\": 11.4, \"route_group\": \"short\", \"max_trip_hrs\": 0.52, \"max_trip_route_group\": 0.52, \"name\": \"City of Simi Valley\", \"caltrans_district\": \"07 - Los Angeles\", \"drmt_organization_name\": null, \"cutoff2\": 20, \"cutoff\": 2}, {\"calitp_itp_id\": 308, \"trip_key\": -6662960956626415706, \"trip_id\": \"t_946104_b_24359_tn_0\", \"shape_id\": \"p_898188\", \"route_id\": \"15206\", \"service_hours\": 0.33, \"trip_first_departure_ts\": 24000, \"trip_last_arrival_ts\": 25200, \"departure_hour\": 6, \"time_of_day\": \"Owl Service\", \"p25\": 0.33, \"p50\": 0.41500000000000004, \"p75\": 0.5, \"p50_trip\": 0, \"fastest_trip\": 0, \"car_duration_hours\": 0.3, \"competitive_route\": 1, \"bus_multiplier\": 1.1, \"bus_difference\": 1.8, \"num_trips\": 56, \"num_competitive\": 56, \"pct_trips_competitive\": 1.0, \"bus_difference_spread\": 11.4, \"route_group\": \"short\", \"max_trip_hrs\": 0.52, \"max_trip_route_group\": 0.52, \"name\": \"City of Simi Valley\", \"caltrans_district\": \"07 - Los Angeles\", \"drmt_organization_name\": null, \"cutoff2\": 20, \"cutoff\": 2}, {\"calitp_itp_id\": 308, \"trip_key\": 3366481284366637267, \"trip_id\": \"t_946120_b_24359_tn_0\", \"shape_id\": \"p_898188\", \"route_id\": \"15206\", \"service_hours\": 0.33, \"trip_first_departure_ts\": 52800, \"trip_last_arrival_ts\": 54000, \"departure_hour\": 14, \"time_of_day\": \"Midday\", \"p25\": 0.33, \"p50\": 0.41500000000000004, \"p75\": 0.5, \"p50_trip\": 0, \"fastest_trip\": 0, \"car_duration_hours\": 0.3, \"competitive_route\": 1, \"bus_multiplier\": 1.1, \"bus_difference\": 1.8, \"num_trips\": 56, \"num_competitive\": 56, \"pct_trips_competitive\": 1.0, \"bus_difference_spread\": 11.4, \"route_group\": \"short\", \"max_trip_hrs\": 0.52, \"max_trip_route_group\": 0.52, \"name\": \"City of Simi Valley\", \"caltrans_district\": \"07 - Los Angeles\", \"drmt_organization_name\": null, \"cutoff2\": 20, \"cutoff\": 2}, {\"calitp_itp_id\": 308, \"trip_key\": -3828744296987613966, \"trip_id\": \"t_946114_b_24359_tn_0\", \"shape_id\": \"p_898188\", \"route_id\": \"15206\", \"service_hours\": 0.33, \"trip_first_departure_ts\": 42000, \"trip_last_arrival_ts\": 43200, \"departure_hour\": 11, \"time_of_day\": \"Midday\", \"p25\": 0.33, \"p50\": 0.41500000000000004, \"p75\": 0.5, \"p50_trip\": 0, \"fastest_trip\": 0, \"car_duration_hours\": 0.3, \"competitive_route\": 1, \"bus_multiplier\": 1.1, \"bus_difference\": 1.8, \"num_trips\": 56, \"num_competitive\": 56, \"pct_trips_competitive\": 1.0, \"bus_difference_spread\": 11.4, \"route_group\": \"short\", \"max_trip_hrs\": 0.52, \"max_trip_route_group\": 0.52, \"name\": \"City of Simi Valley\", \"caltrans_district\": \"07 - Los Angeles\", \"drmt_organization_name\": null, \"cutoff2\": 20, \"cutoff\": 2}, {\"calitp_itp_id\": 308, \"trip_key\": -3560747305575803624, \"trip_id\": \"t_946118_b_24359_tn_0\", \"shape_id\": \"p_898188\", \"route_id\": \"15206\", \"service_hours\": 0.33, \"trip_first_departure_ts\": 49200, \"trip_last_arrival_ts\": 50400, \"departure_hour\": 13, \"time_of_day\": \"Midday\", \"p25\": 0.33, \"p50\": 0.41500000000000004, \"p75\": 0.5, \"p50_trip\": 0, \"fastest_trip\": 0, \"car_duration_hours\": 0.3, \"competitive_route\": 1, \"bus_multiplier\": 1.1, \"bus_difference\": 1.8, \"num_trips\": 56, \"num_competitive\": 56, \"pct_trips_competitive\": 1.0, \"bus_difference_spread\": 11.4, \"route_group\": \"short\", \"max_trip_hrs\": 0.52, \"max_trip_route_group\": 0.52, \"name\": \"City of Simi Valley\", \"caltrans_district\": \"07 - Los Angeles\", \"drmt_organization_name\": null, \"cutoff2\": 20, \"cutoff\": 2}, {\"calitp_itp_id\": 308, \"trip_key\": -8167083170040521081, \"trip_id\": \"t_943125_b_24359_tn_0\", \"shape_id\": \"p_898187\", \"route_id\": \"15206\", \"service_hours\": 0.5, \"trip_first_departure_ts\": 54000, \"trip_last_arrival_ts\": 55800, \"departure_hour\": 15, \"time_of_day\": \"Midday\", \"p25\": 0.33, \"p50\": 0.41500000000000004, \"p75\": 0.5, \"p50_trip\": 1, \"fastest_trip\": 0, \"car_duration_hours\": 0.3, \"competitive_route\": 1, \"bus_multiplier\": 1.67, \"bus_difference\": 12.0, \"num_trips\": 56, \"num_competitive\": 56, \"pct_trips_competitive\": 1.0, \"bus_difference_spread\": 11.4, \"route_group\": \"short\", \"max_trip_hrs\": 0.52, \"max_trip_route_group\": 0.52, \"name\": \"City of Simi Valley\", \"caltrans_district\": \"07 - Los Angeles\", \"drmt_organization_name\": null, \"cutoff2\": 20, \"cutoff\": 2}, {\"calitp_itp_id\": 308, \"trip_key\": -4279807971257814144, \"trip_id\": \"t_943130_b_24359_tn_0\", \"shape_id\": \"p_898187\", \"route_id\": \"15206\", \"service_hours\": 0.5, \"trip_first_departure_ts\": 63000, \"trip_last_arrival_ts\": 64800, \"departure_hour\": 17, \"time_of_day\": \"PM Peak\", \"p25\": 0.33, \"p50\": 0.41500000000000004, \"p75\": 0.5, \"p50_trip\": 1, \"fastest_trip\": 0, \"car_duration_hours\": 0.3, \"competitive_route\": 1, \"bus_multiplier\": 1.67, \"bus_difference\": 12.0, \"num_trips\": 56, \"num_competitive\": 56, \"pct_trips_competitive\": 1.0, \"bus_difference_spread\": 11.4, \"route_group\": \"short\", \"max_trip_hrs\": 0.52, \"max_trip_route_group\": 0.52, \"name\": \"City of Simi Valley\", \"caltrans_district\": \"07 - Los Angeles\", \"drmt_organization_name\": null, \"cutoff2\": 20, \"cutoff\": 2}, {\"calitp_itp_id\": 308, \"trip_key\": -2554570937767145092, \"trip_id\": \"t_943112_b_24359_tn_0\", \"shape_id\": \"p_898187\", \"route_id\": \"15206\", \"service_hours\": 0.5, \"trip_first_departure_ts\": 30600, \"trip_last_arrival_ts\": 32400, \"departure_hour\": 8, \"time_of_day\": \"AM Peak\", \"p25\": 0.33, \"p50\": 0.41500000000000004, \"p75\": 0.5, \"p50_trip\": 1, \"fastest_trip\": 0, \"car_duration_hours\": 0.3, \"competitive_route\": 1, \"bus_multiplier\": 1.67, \"bus_difference\": 12.0, \"num_trips\": 56, \"num_competitive\": 56, \"pct_trips_competitive\": 1.0, \"bus_difference_spread\": 11.4, \"route_group\": \"short\", \"max_trip_hrs\": 0.52, \"max_trip_route_group\": 0.52, \"name\": \"City of Simi Valley\", \"caltrans_district\": \"07 - Los Angeles\", \"drmt_organization_name\": null, \"cutoff2\": 20, \"cutoff\": 2}, {\"calitp_itp_id\": 308, \"trip_key\": 8294143917432518976, \"trip_id\": \"t_943119_b_24359_tn_0\", \"shape_id\": \"p_898187\", \"route_id\": \"15206\", \"service_hours\": 0.5, \"trip_first_departure_ts\": 43200, \"trip_last_arrival_ts\": 45000, \"departure_hour\": 12, \"time_of_day\": \"Midday\", \"p25\": 0.33, \"p50\": 0.41500000000000004, \"p75\": 0.5, \"p50_trip\": 1, \"fastest_trip\": 0, \"car_duration_hours\": 0.3, \"competitive_route\": 1, \"bus_multiplier\": 1.67, \"bus_difference\": 12.0, \"num_trips\": 56, \"num_competitive\": 56, \"pct_trips_competitive\": 1.0, \"bus_difference_spread\": 11.4, \"route_group\": \"short\", \"max_trip_hrs\": 0.52, \"max_trip_route_group\": 0.52, \"name\": \"City of Simi Valley\", \"caltrans_district\": \"07 - Los Angeles\", \"drmt_organization_name\": null, \"cutoff2\": 20, \"cutoff\": 2}, {\"calitp_itp_id\": 308, \"trip_key\": 7653100744196602185, \"trip_id\": \"t_943128_b_24359_tn_0\", \"shape_id\": \"p_898187\", \"route_id\": \"15206\", \"service_hours\": 0.5, \"trip_first_departure_ts\": 59400, \"trip_last_arrival_ts\": 61200, \"departure_hour\": 16, \"time_of_day\": \"Midday\", \"p25\": 0.33, \"p50\": 0.41500000000000004, \"p75\": 0.5, \"p50_trip\": 1, \"fastest_trip\": 0, \"car_duration_hours\": 0.3, \"competitive_route\": 1, \"bus_multiplier\": 1.67, \"bus_difference\": 12.0, \"num_trips\": 56, \"num_competitive\": 56, \"pct_trips_competitive\": 1.0, \"bus_difference_spread\": 11.4, \"route_group\": \"short\", \"max_trip_hrs\": 0.52, \"max_trip_route_group\": 0.52, \"name\": \"City of Simi Valley\", \"caltrans_district\": \"07 - Los Angeles\", \"drmt_organization_name\": null, \"cutoff2\": 20, \"cutoff\": 2}, {\"calitp_itp_id\": 308, \"trip_key\": 7826532935182082108, \"trip_id\": \"t_943114_b_24359_tn_0\", \"shape_id\": \"p_898187\", \"route_id\": \"15206\", \"service_hours\": 0.5, \"trip_first_departure_ts\": 34200, \"trip_last_arrival_ts\": 36000, \"departure_hour\": 9, \"time_of_day\": \"AM Peak\", \"p25\": 0.33, \"p50\": 0.41500000000000004, \"p75\": 0.5, \"p50_trip\": 1, \"fastest_trip\": 0, \"car_duration_hours\": 0.3, \"competitive_route\": 1, \"bus_multiplier\": 1.67, \"bus_difference\": 12.0, \"num_trips\": 56, \"num_competitive\": 56, \"pct_trips_competitive\": 1.0, \"bus_difference_spread\": 11.4, \"route_group\": \"short\", \"max_trip_hrs\": 0.52, \"max_trip_route_group\": 0.52, \"name\": \"City of Simi Valley\", \"caltrans_district\": \"07 - Los Angeles\", \"drmt_organization_name\": null, \"cutoff2\": 20, \"cutoff\": 2}, {\"calitp_itp_id\": 308, \"trip_key\": -995582805426313628, \"trip_id\": \"t_943121_b_24359_tn_0\", \"shape_id\": \"p_898187\", \"route_id\": \"15206\", \"service_hours\": 0.5, \"trip_first_departure_ts\": 46800, \"trip_last_arrival_ts\": 48600, \"departure_hour\": 13, \"time_of_day\": \"Midday\", \"p25\": 0.33, \"p50\": 0.41500000000000004, \"p75\": 0.5, \"p50_trip\": 1, \"fastest_trip\": 0, \"car_duration_hours\": 0.3, \"competitive_route\": 1, \"bus_multiplier\": 1.67, \"bus_difference\": 12.0, \"num_trips\": 56, \"num_competitive\": 56, \"pct_trips_competitive\": 1.0, \"bus_difference_spread\": 11.4, \"route_group\": \"short\", \"max_trip_hrs\": 0.52, \"max_trip_route_group\": 0.52, \"name\": \"City of Simi Valley\", \"caltrans_district\": \"07 - Los Angeles\", \"drmt_organization_name\": null, \"cutoff2\": 20, \"cutoff\": 2}, {\"calitp_itp_id\": 308, \"trip_key\": 3281690379974936211, \"trip_id\": \"t_943124_b_24359_tn_0\", \"shape_id\": \"p_898187\", \"route_id\": \"15206\", \"service_hours\": 0.5, \"trip_first_departure_ts\": 52200, \"trip_last_arrival_ts\": 54000, \"departure_hour\": 14, \"time_of_day\": \"Midday\", \"p25\": 0.33, \"p50\": 0.41500000000000004, \"p75\": 0.5, \"p50_trip\": 1, \"fastest_trip\": 0, \"car_duration_hours\": 0.3, \"competitive_route\": 1, \"bus_multiplier\": 1.67, \"bus_difference\": 12.0, \"num_trips\": 56, \"num_competitive\": 56, \"pct_trips_competitive\": 1.0, \"bus_difference_spread\": 11.4, \"route_group\": \"short\", \"max_trip_hrs\": 0.52, \"max_trip_route_group\": 0.52, \"name\": \"City of Simi Valley\", \"caltrans_district\": \"07 - Los Angeles\", \"drmt_organization_name\": null, \"cutoff2\": 20, \"cutoff\": 2}, {\"calitp_itp_id\": 308, \"trip_key\": 6476298289328237587, \"trip_id\": \"t_943115_b_24359_tn_0\", \"shape_id\": \"p_898187\", \"route_id\": \"15206\", \"service_hours\": 0.5, \"trip_first_departure_ts\": 36000, \"trip_last_arrival_ts\": 37800, \"departure_hour\": 10, \"time_of_day\": \"Midday\", \"p25\": 0.33, \"p50\": 0.41500000000000004, \"p75\": 0.5, \"p50_trip\": 1, \"fastest_trip\": 0, \"car_duration_hours\": 0.3, \"competitive_route\": 1, \"bus_multiplier\": 1.67, \"bus_difference\": 12.0, \"num_trips\": 56, \"num_competitive\": 56, \"pct_trips_competitive\": 1.0, \"bus_difference_spread\": 11.4, \"route_group\": \"short\", \"max_trip_hrs\": 0.52, \"max_trip_route_group\": 0.52, \"name\": \"City of Simi Valley\", \"caltrans_district\": \"07 - Los Angeles\", \"drmt_organization_name\": null, \"cutoff2\": 20, \"cutoff\": 2}, {\"calitp_itp_id\": 308, \"trip_key\": 7759242011797943927, \"trip_id\": \"t_943109_b_24359_tn_0\", \"shape_id\": \"p_898187\", \"route_id\": \"15206\", \"service_hours\": 0.5, \"trip_first_departure_ts\": 25200, \"trip_last_arrival_ts\": 27000, \"departure_hour\": 7, \"time_of_day\": \"AM Peak\", \"p25\": 0.33, \"p50\": 0.41500000000000004, \"p75\": 0.5, \"p50_trip\": 1, \"fastest_trip\": 0, \"car_duration_hours\": 0.3, \"competitive_route\": 1, \"bus_multiplier\": 1.67, \"bus_difference\": 12.0, \"num_trips\": 56, \"num_competitive\": 56, \"pct_trips_competitive\": 1.0, \"bus_difference_spread\": 11.4, \"route_group\": \"short\", \"max_trip_hrs\": 0.52, \"max_trip_route_group\": 0.52, \"name\": \"City of Simi Valley\", \"caltrans_district\": \"07 - Los Angeles\", \"drmt_organization_name\": null, \"cutoff2\": 20, \"cutoff\": 2}, {\"calitp_itp_id\": 308, \"trip_key\": 5346566435353817924, \"trip_id\": \"t_943120_b_24359_tn_0\", \"shape_id\": \"p_898187\", \"route_id\": \"15206\", \"service_hours\": 0.5, \"trip_first_departure_ts\": 45000, \"trip_last_arrival_ts\": 46800, \"departure_hour\": 12, \"time_of_day\": \"Midday\", \"p25\": 0.33, \"p50\": 0.41500000000000004, \"p75\": 0.5, \"p50_trip\": 1, \"fastest_trip\": 0, \"car_duration_hours\": 0.3, \"competitive_route\": 1, \"bus_multiplier\": 1.67, \"bus_difference\": 12.0, \"num_trips\": 56, \"num_competitive\": 56, \"pct_trips_competitive\": 1.0, \"bus_difference_spread\": 11.4, \"route_group\": \"short\", \"max_trip_hrs\": 0.52, \"max_trip_route_group\": 0.52, \"name\": \"City of Simi Valley\", \"caltrans_district\": \"07 - Los Angeles\", \"drmt_organization_name\": null, \"cutoff2\": 20, \"cutoff\": 2}, {\"calitp_itp_id\": 308, \"trip_key\": 26886795067199730, \"trip_id\": \"t_943108_b_24359_tn_0\", \"shape_id\": \"p_898187\", \"route_id\": \"15206\", \"service_hours\": 0.5, \"trip_first_departure_ts\": 23400, \"trip_last_arrival_ts\": 25200, \"departure_hour\": 6, \"time_of_day\": \"Owl Service\", \"p25\": 0.33, \"p50\": 0.41500000000000004, \"p75\": 0.5, \"p50_trip\": 1, \"fastest_trip\": 0, \"car_duration_hours\": 0.3, \"competitive_route\": 1, \"bus_multiplier\": 1.67, \"bus_difference\": 12.0, \"num_trips\": 56, \"num_competitive\": 56, \"pct_trips_competitive\": 1.0, \"bus_difference_spread\": 11.4, \"route_group\": \"short\", \"max_trip_hrs\": 0.52, \"max_trip_route_group\": 0.52, \"name\": \"City of Simi Valley\", \"caltrans_district\": \"07 - Los Angeles\", \"drmt_organization_name\": null, \"cutoff2\": 20, \"cutoff\": 2}, {\"calitp_itp_id\": 308, \"trip_key\": 8263220477305444705, \"trip_id\": \"t_943126_b_24359_tn_0\", \"shape_id\": \"p_898187\", \"route_id\": \"15206\", \"service_hours\": 0.5, \"trip_first_departure_ts\": 55800, \"trip_last_arrival_ts\": 57600, \"departure_hour\": 15, \"time_of_day\": \"Midday\", \"p25\": 0.33, \"p50\": 0.41500000000000004, \"p75\": 0.5, \"p50_trip\": 1, \"fastest_trip\": 0, \"car_duration_hours\": 0.3, \"competitive_route\": 1, \"bus_multiplier\": 1.67, \"bus_difference\": 12.0, \"num_trips\": 56, \"num_competitive\": 56, \"pct_trips_competitive\": 1.0, \"bus_difference_spread\": 11.4, \"route_group\": \"short\", \"max_trip_hrs\": 0.52, \"max_trip_route_group\": 0.52, \"name\": \"City of Simi Valley\", \"caltrans_district\": \"07 - Los Angeles\", \"drmt_organization_name\": null, \"cutoff2\": 20, \"cutoff\": 2}, {\"calitp_itp_id\": 308, \"trip_key\": -6939419209454966460, \"trip_id\": \"t_943117_b_24359_tn_0\", \"shape_id\": \"p_898187\", \"route_id\": \"15206\", \"service_hours\": 0.5, \"trip_first_departure_ts\": 39600, \"trip_last_arrival_ts\": 41400, \"departure_hour\": 11, \"time_of_day\": \"Midday\", \"p25\": 0.33, \"p50\": 0.41500000000000004, \"p75\": 0.5, \"p50_trip\": 1, \"fastest_trip\": 0, \"car_duration_hours\": 0.3, \"competitive_route\": 1, \"bus_multiplier\": 1.67, \"bus_difference\": 12.0, \"num_trips\": 56, \"num_competitive\": 56, \"pct_trips_competitive\": 1.0, \"bus_difference_spread\": 11.4, \"route_group\": \"short\", \"max_trip_hrs\": 0.52, \"max_trip_route_group\": 0.52, \"name\": \"City of Simi Valley\", \"caltrans_district\": \"07 - Los Angeles\", \"drmt_organization_name\": null, \"cutoff2\": 20, \"cutoff\": 2}, {\"calitp_itp_id\": 308, \"trip_key\": 7685243856575547949, \"trip_id\": \"t_943123_b_24359_tn_0\", \"shape_id\": \"p_898187\", \"route_id\": \"15206\", \"service_hours\": 0.5, \"trip_first_departure_ts\": 50400, \"trip_last_arrival_ts\": 52200, \"departure_hour\": 14, \"time_of_day\": \"Midday\", \"p25\": 0.33, \"p50\": 0.41500000000000004, \"p75\": 0.5, \"p50_trip\": 1, \"fastest_trip\": 0, \"car_duration_hours\": 0.3, \"competitive_route\": 1, \"bus_multiplier\": 1.67, \"bus_difference\": 12.0, \"num_trips\": 56, \"num_competitive\": 56, \"pct_trips_competitive\": 1.0, \"bus_difference_spread\": 11.4, \"route_group\": \"short\", \"max_trip_hrs\": 0.52, \"max_trip_route_group\": 0.52, \"name\": \"City of Simi Valley\", \"caltrans_district\": \"07 - Los Angeles\", \"drmt_organization_name\": null, \"cutoff2\": 20, \"cutoff\": 2}, {\"calitp_itp_id\": 308, \"trip_key\": -2753794484308387366, \"trip_id\": \"t_943106_b_24359_tn_0\", \"shape_id\": \"p_898187\", \"route_id\": \"15206\", \"service_hours\": 0.5, \"trip_first_departure_ts\": 19800, \"trip_last_arrival_ts\": 21600, \"departure_hour\": 5, \"time_of_day\": \"Owl Service\", \"p25\": 0.33, \"p50\": 0.41500000000000004, \"p75\": 0.5, \"p50_trip\": 1, \"fastest_trip\": 0, \"car_duration_hours\": 0.3, \"competitive_route\": 1, \"bus_multiplier\": 1.67, \"bus_difference\": 12.0, \"num_trips\": 56, \"num_competitive\": 56, \"pct_trips_competitive\": 1.0, \"bus_difference_spread\": 11.4, \"route_group\": \"short\", \"max_trip_hrs\": 0.52, \"max_trip_route_group\": 0.52, \"name\": \"City of Simi Valley\", \"caltrans_district\": \"07 - Los Angeles\", \"drmt_organization_name\": null, \"cutoff2\": 20, \"cutoff\": 2}, {\"calitp_itp_id\": 308, \"trip_key\": 1638024500768460867, \"trip_id\": \"t_943113_b_24359_tn_0\", \"shape_id\": \"p_898187\", \"route_id\": \"15206\", \"service_hours\": 0.5, \"trip_first_departure_ts\": 32400, \"trip_last_arrival_ts\": 34200, \"departure_hour\": 9, \"time_of_day\": \"AM Peak\", \"p25\": 0.33, \"p50\": 0.41500000000000004, \"p75\": 0.5, \"p50_trip\": 1, \"fastest_trip\": 0, \"car_duration_hours\": 0.3, \"competitive_route\": 1, \"bus_multiplier\": 1.67, \"bus_difference\": 12.0, \"num_trips\": 56, \"num_competitive\": 56, \"pct_trips_competitive\": 1.0, \"bus_difference_spread\": 11.4, \"route_group\": \"short\", \"max_trip_hrs\": 0.52, \"max_trip_route_group\": 0.52, \"name\": \"City of Simi Valley\", \"caltrans_district\": \"07 - Los Angeles\", \"drmt_organization_name\": null, \"cutoff2\": 20, \"cutoff\": 2}, {\"calitp_itp_id\": 308, \"trip_key\": -6708986917806240098, \"trip_id\": \"t_943111_b_24359_tn_0\", \"shape_id\": \"p_898187\", \"route_id\": \"15206\", \"service_hours\": 0.5, \"trip_first_departure_ts\": 28800, \"trip_last_arrival_ts\": 30600, \"departure_hour\": 8, \"time_of_day\": \"AM Peak\", \"p25\": 0.33, \"p50\": 0.41500000000000004, \"p75\": 0.5, \"p50_trip\": 1, \"fastest_trip\": 0, \"car_duration_hours\": 0.3, \"competitive_route\": 1, \"bus_multiplier\": 1.67, \"bus_difference\": 12.0, \"num_trips\": 56, \"num_competitive\": 56, \"pct_trips_competitive\": 1.0, \"bus_difference_spread\": 11.4, \"route_group\": \"short\", \"max_trip_hrs\": 0.52, \"max_trip_route_group\": 0.52, \"name\": \"City of Simi Valley\", \"caltrans_district\": \"07 - Los Angeles\", \"drmt_organization_name\": null, \"cutoff2\": 20, \"cutoff\": 2}, {\"calitp_itp_id\": 308, \"trip_key\": -8426351511834028311, \"trip_id\": \"t_943129_b_24359_tn_0\", \"shape_id\": \"p_898187\", \"route_id\": \"15206\", \"service_hours\": 0.5, \"trip_first_departure_ts\": 61200, \"trip_last_arrival_ts\": 63000, \"departure_hour\": 17, \"time_of_day\": \"PM Peak\", \"p25\": 0.33, \"p50\": 0.41500000000000004, \"p75\": 0.5, \"p50_trip\": 1, \"fastest_trip\": 0, \"car_duration_hours\": 0.3, \"competitive_route\": 1, \"bus_multiplier\": 1.67, \"bus_difference\": 12.0, \"num_trips\": 56, \"num_competitive\": 56, \"pct_trips_competitive\": 1.0, \"bus_difference_spread\": 11.4, \"route_group\": \"short\", \"max_trip_hrs\": 0.52, \"max_trip_route_group\": 0.52, \"name\": \"City of Simi Valley\", \"caltrans_district\": \"07 - Los Angeles\", \"drmt_organization_name\": null, \"cutoff2\": 20, \"cutoff\": 2}, {\"calitp_itp_id\": 308, \"trip_key\": -8413614114020087387, \"trip_id\": \"t_943107_b_24359_tn_0\", \"shape_id\": \"p_898187\", \"route_id\": \"15206\", \"service_hours\": 0.5, \"trip_first_departure_ts\": 21600, \"trip_last_arrival_ts\": 23400, \"departure_hour\": 6, \"time_of_day\": \"Owl Service\", \"p25\": 0.33, \"p50\": 0.41500000000000004, \"p75\": 0.5, \"p50_trip\": 1, \"fastest_trip\": 0, \"car_duration_hours\": 0.3, \"competitive_route\": 1, \"bus_multiplier\": 1.67, \"bus_difference\": 12.0, \"num_trips\": 56, \"num_competitive\": 56, \"pct_trips_competitive\": 1.0, \"bus_difference_spread\": 11.4, \"route_group\": \"short\", \"max_trip_hrs\": 0.52, \"max_trip_route_group\": 0.52, \"name\": \"City of Simi Valley\", \"caltrans_district\": \"07 - Los Angeles\", \"drmt_organization_name\": null, \"cutoff2\": 20, \"cutoff\": 2}, {\"calitp_itp_id\": 308, \"trip_key\": 1535253645783132569, \"trip_id\": \"t_943122_b_24359_tn_0\", \"shape_id\": \"p_898187\", \"route_id\": \"15206\", \"service_hours\": 0.5, \"trip_first_departure_ts\": 48600, \"trip_last_arrival_ts\": 50400, \"departure_hour\": 13, \"time_of_day\": \"Midday\", \"p25\": 0.33, \"p50\": 0.41500000000000004, \"p75\": 0.5, \"p50_trip\": 1, \"fastest_trip\": 0, \"car_duration_hours\": 0.3, \"competitive_route\": 1, \"bus_multiplier\": 1.67, \"bus_difference\": 12.0, \"num_trips\": 56, \"num_competitive\": 56, \"pct_trips_competitive\": 1.0, \"bus_difference_spread\": 11.4, \"route_group\": \"short\", \"max_trip_hrs\": 0.52, \"max_trip_route_group\": 0.52, \"name\": \"City of Simi Valley\", \"caltrans_district\": \"07 - Los Angeles\", \"drmt_organization_name\": null, \"cutoff2\": 20, \"cutoff\": 2}, {\"calitp_itp_id\": 308, \"trip_key\": -5427913516834419101, \"trip_id\": \"t_943127_b_24359_tn_0\", \"shape_id\": \"p_898187\", \"route_id\": \"15206\", \"service_hours\": 0.5, \"trip_first_departure_ts\": 57600, \"trip_last_arrival_ts\": 59400, \"departure_hour\": 16, \"time_of_day\": \"Midday\", \"p25\": 0.33, \"p50\": 0.41500000000000004, \"p75\": 0.5, \"p50_trip\": 1, \"fastest_trip\": 0, \"car_duration_hours\": 0.3, \"competitive_route\": 1, \"bus_multiplier\": 1.67, \"bus_difference\": 12.0, \"num_trips\": 56, \"num_competitive\": 56, \"pct_trips_competitive\": 1.0, \"bus_difference_spread\": 11.4, \"route_group\": \"short\", \"max_trip_hrs\": 0.52, \"max_trip_route_group\": 0.52, \"name\": \"City of Simi Valley\", \"caltrans_district\": \"07 - Los Angeles\", \"drmt_organization_name\": null, \"cutoff2\": 20, \"cutoff\": 2}, {\"calitp_itp_id\": 308, \"trip_key\": -6584515016194492990, \"trip_id\": \"t_943110_b_24359_tn_0\", \"shape_id\": \"p_898187\", \"route_id\": \"15206\", \"service_hours\": 0.5, \"trip_first_departure_ts\": 27000, \"trip_last_arrival_ts\": 28800, \"departure_hour\": 7, \"time_of_day\": \"AM Peak\", \"p25\": 0.33, \"p50\": 0.41500000000000004, \"p75\": 0.5, \"p50_trip\": 1, \"fastest_trip\": 0, \"car_duration_hours\": 0.3, \"competitive_route\": 1, \"bus_multiplier\": 1.67, \"bus_difference\": 12.0, \"num_trips\": 56, \"num_competitive\": 56, \"pct_trips_competitive\": 1.0, \"bus_difference_spread\": 11.4, \"route_group\": \"short\", \"max_trip_hrs\": 0.52, \"max_trip_route_group\": 0.52, \"name\": \"City of Simi Valley\", \"caltrans_district\": \"07 - Los Angeles\", \"drmt_organization_name\": null, \"cutoff2\": 20, \"cutoff\": 2}, {\"calitp_itp_id\": 308, \"trip_key\": -7054588329911308985, \"trip_id\": \"t_943118_b_24359_tn_0\", \"shape_id\": \"p_898187\", \"route_id\": \"15206\", \"service_hours\": 0.5, \"trip_first_departure_ts\": 41400, \"trip_last_arrival_ts\": 43200, \"departure_hour\": 11, \"time_of_day\": \"Midday\", \"p25\": 0.33, \"p50\": 0.41500000000000004, \"p75\": 0.5, \"p50_trip\": 1, \"fastest_trip\": 0, \"car_duration_hours\": 0.3, \"competitive_route\": 1, \"bus_multiplier\": 1.67, \"bus_difference\": 12.0, \"num_trips\": 56, \"num_competitive\": 56, \"pct_trips_competitive\": 1.0, \"bus_difference_spread\": 11.4, \"route_group\": \"short\", \"max_trip_hrs\": 0.52, \"max_trip_route_group\": 0.52, \"name\": \"City of Simi Valley\", \"caltrans_district\": \"07 - Los Angeles\", \"drmt_organization_name\": null, \"cutoff2\": 20, \"cutoff\": 2}, {\"calitp_itp_id\": 308, \"trip_key\": -5665756668728020039, \"trip_id\": \"t_943116_b_24359_tn_0\", \"shape_id\": \"p_898187\", \"route_id\": \"15206\", \"service_hours\": 0.5, \"trip_first_departure_ts\": 37800, \"trip_last_arrival_ts\": 39600, \"departure_hour\": 10, \"time_of_day\": \"Midday\", \"p25\": 0.33, \"p50\": 0.41500000000000004, \"p75\": 0.5, \"p50_trip\": 1, \"fastest_trip\": 0, \"car_duration_hours\": 0.3, \"competitive_route\": 1, \"bus_multiplier\": 1.67, \"bus_difference\": 12.0, \"num_trips\": 56, \"num_competitive\": 56, \"pct_trips_competitive\": 1.0, \"bus_difference_spread\": 11.4, \"route_group\": \"short\", \"max_trip_hrs\": 0.52, \"max_trip_route_group\": 0.52, \"name\": \"City of Simi Valley\", \"caltrans_district\": \"07 - Los Angeles\", \"drmt_organization_name\": null, \"cutoff2\": 20, \"cutoff\": 2}, {\"calitp_itp_id\": 308, \"trip_key\": 5576393918378021629, \"trip_id\": \"t_943131_b_24359_tn_0\", \"shape_id\": \"p_898187\", \"route_id\": \"15206\", \"service_hours\": 0.52, \"trip_first_departure_ts\": 64800, \"trip_last_arrival_ts\": 66660, \"departure_hour\": 18, \"time_of_day\": \"PM Peak\", \"p25\": 0.33, \"p50\": 0.41500000000000004, \"p75\": 0.5, \"p50_trip\": 0, \"fastest_trip\": 0, \"car_duration_hours\": 0.3, \"competitive_route\": 1, \"bus_multiplier\": 1.73, \"bus_difference\": 13.2, \"num_trips\": 56, \"num_competitive\": 56, \"pct_trips_competitive\": 1.0, \"bus_difference_spread\": 11.4, \"route_group\": \"short\", \"max_trip_hrs\": 0.52, \"max_trip_route_group\": 0.52, \"name\": \"City of Simi Valley\", \"caltrans_district\": \"07 - Los Angeles\", \"drmt_organization_name\": null, \"cutoff2\": 20, \"cutoff\": 2}, {\"calitp_itp_id\": 308, \"trip_key\": 4175715694418941445, \"trip_id\": \"t_943132_b_24359_tn_0\", \"shape_id\": \"p_898187\", \"route_id\": \"15206\", \"service_hours\": 0.52, \"trip_first_departure_ts\": 66600, \"trip_last_arrival_ts\": 68460, \"departure_hour\": 18, \"time_of_day\": \"PM Peak\", \"p25\": 0.33, \"p50\": 0.41500000000000004, \"p75\": 0.5, \"p50_trip\": 0, \"fastest_trip\": 0, \"car_duration_hours\": 0.3, \"competitive_route\": 1, \"bus_multiplier\": 1.73, \"bus_difference\": 13.2, \"num_trips\": 56, \"num_competitive\": 56, \"pct_trips_competitive\": 1.0, \"bus_difference_spread\": 11.4, \"route_group\": \"short\", \"max_trip_hrs\": 0.52, \"max_trip_route_group\": 0.52, \"name\": \"City of Simi Valley\", \"caltrans_district\": \"07 - Los Angeles\", \"drmt_organization_name\": null, \"cutoff2\": 20, \"cutoff\": 2}, {\"calitp_itp_id\": 308, \"trip_key\": 5919046552257188394, \"trip_id\": \"t_943133_b_24359_tn_0\", \"shape_id\": \"p_898187\", \"route_id\": \"15206\", \"service_hours\": 0.52, \"trip_first_departure_ts\": 68460, \"trip_last_arrival_ts\": 70320, \"departure_hour\": 19, \"time_of_day\": \"PM Peak\", \"p25\": 0.33, \"p50\": 0.41500000000000004, \"p75\": 0.5, \"p50_trip\": 0, \"fastest_trip\": 0, \"car_duration_hours\": 0.3, \"competitive_route\": 1, \"bus_multiplier\": 1.73, \"bus_difference\": 13.2, \"num_trips\": 56, \"num_competitive\": 56, \"pct_trips_competitive\": 1.0, \"bus_difference_spread\": 11.4, \"route_group\": \"short\", \"max_trip_hrs\": 0.52, \"max_trip_route_group\": 0.52, \"name\": \"City of Simi Valley\", \"caltrans_district\": \"07 - Los Angeles\", \"drmt_organization_name\": null, \"cutoff2\": 20, \"cutoff\": 2}]}}, {\"mode\": \"vega-lite\"});\n",
       "</script>"
      ],
      "text/plain": [
       "alt.FacetChart(...)"
      ]
     },
     "metadata": {},
     "output_type": "display_data"
    },
    {
     "data": {
      "text/html": [
       "\n",
       "<div id=\"altair-viz-c6feae4264cf406ba0b2d388aa371448\"></div>\n",
       "<script type=\"text/javascript\">\n",
       "  var VEGA_DEBUG = (typeof VEGA_DEBUG == \"undefined\") ? {} : VEGA_DEBUG;\n",
       "  (function(spec, embedOpt){\n",
       "    let outputDiv = document.currentScript.previousElementSibling;\n",
       "    if (outputDiv.id !== \"altair-viz-c6feae4264cf406ba0b2d388aa371448\") {\n",
       "      outputDiv = document.getElementById(\"altair-viz-c6feae4264cf406ba0b2d388aa371448\");\n",
       "    }\n",
       "    const paths = {\n",
       "      \"vega\": \"https://cdn.jsdelivr.net/npm//vega@5?noext\",\n",
       "      \"vega-lib\": \"https://cdn.jsdelivr.net/npm//vega-lib?noext\",\n",
       "      \"vega-lite\": \"https://cdn.jsdelivr.net/npm//vega-lite@4.17.0?noext\",\n",
       "      \"vega-embed\": \"https://cdn.jsdelivr.net/npm//vega-embed@6?noext\",\n",
       "    };\n",
       "\n",
       "    function maybeLoadScript(lib, version) {\n",
       "      var key = `${lib.replace(\"-\", \"\")}_version`;\n",
       "      return (VEGA_DEBUG[key] == version) ?\n",
       "        Promise.resolve(paths[lib]) :\n",
       "        new Promise(function(resolve, reject) {\n",
       "          var s = document.createElement('script');\n",
       "          document.getElementsByTagName(\"head\")[0].appendChild(s);\n",
       "          s.async = true;\n",
       "          s.onload = () => {\n",
       "            VEGA_DEBUG[key] = version;\n",
       "            return resolve(paths[lib]);\n",
       "          };\n",
       "          s.onerror = () => reject(`Error loading script: ${paths[lib]}`);\n",
       "          s.src = paths[lib];\n",
       "        });\n",
       "    }\n",
       "\n",
       "    function showError(err) {\n",
       "      outputDiv.innerHTML = `<div class=\"error\" style=\"color:red;\">${err}</div>`;\n",
       "      throw err;\n",
       "    }\n",
       "\n",
       "    function displayChart(vegaEmbed) {\n",
       "      vegaEmbed(outputDiv, spec, embedOpt)\n",
       "        .catch(err => showError(`Javascript Error: ${err.message}<br>This usually means there's a typo in your chart specification. See the javascript console for the full traceback.`));\n",
       "    }\n",
       "\n",
       "    if(typeof define === \"function\" && define.amd) {\n",
       "      requirejs.config({paths});\n",
       "      require([\"vega-embed\"], displayChart, err => showError(`Error loading script: ${err.message}`));\n",
       "    } else {\n",
       "      maybeLoadScript(\"vega\", \"5\")\n",
       "        .then(() => maybeLoadScript(\"vega-lite\", \"4.17.0\"))\n",
       "        .then(() => maybeLoadScript(\"vega-embed\", \"6\"))\n",
       "        .catch(showError)\n",
       "        .then(() => displayChart(vegaEmbed));\n",
       "    }\n",
       "  })({\"config\": {\"view\": {\"continuousWidth\": 400, \"continuousHeight\": 300, \"stroke\": null}, \"facet\": {\"spacing\": 0}}, \"data\": {\"name\": \"data-f2ccbc9814d2b3c86bba6b57f0a473dc\"}, \"facet\": {\"column\": {\"field\": \"route_id\", \"sort\": [\"15206\"], \"title\": \"Route ID\", \"type\": \"nominal\"}}, \"spec\": {\"layer\": [{\"mark\": \"rule\", \"encoding\": {\"color\": {\"value\": \"black\"}, \"y\": {\"field\": \"cutoff\", \"type\": \"quantitative\"}}, \"selection\": {\"selector002\": {\"type\": \"interval\", \"bind\": \"scales\", \"encodings\": [\"x\", \"y\"]}}}, {\"mark\": {\"type\": \"rule\", \"strokeDash\": [3, 3]}, \"encoding\": {\"color\": {\"value\": \"#323434\"}, \"y\": {\"field\": \"cutoff2\", \"type\": \"quantitative\"}}}, {\"mark\": {\"type\": \"point\", \"opacity\": 0.65, \"size\": 12, \"strokeWidth\": 1.1}, \"encoding\": {\"color\": {\"field\": \"time_of_day\", \"scale\": {\"range\": [\"#136C97\", \"#E16B26\", \"#F6BF16\", \"#00896B\", \"#7790A3\", \"#5B559C\"]}, \"sort\": [\"AM Peak\", \"Midday\", \"PM Peak\", \"Owl Service\"], \"title\": \"Time of Day\", \"type\": \"nominal\"}, \"tooltip\": [{\"field\": \"route_id\", \"type\": \"nominal\"}, {\"field\": \"trip_id\", \"type\": \"nominal\"}, {\"field\": \"service_hours\", \"type\": \"quantitative\"}, {\"field\": \"car_duration_hours\", \"type\": \"quantitative\"}, {\"field\": \"bus_multiplier\", \"type\": \"quantitative\"}, {\"field\": \"bus_difference\", \"type\": \"quantitative\"}, {\"field\": \"num_trips\", \"type\": \"quantitative\"}, {\"field\": \"num_competitive\", \"type\": \"quantitative\"}, {\"field\": \"pct_trips_competitive\", \"type\": \"quantitative\"}, {\"field\": \"p25\", \"type\": \"quantitative\"}, {\"field\": \"p50\", \"type\": \"quantitative\"}, {\"field\": \"p75\", \"type\": \"quantitative\"}], \"x\": {\"axis\": {\"grid\": false, \"labels\": false, \"ticks\": true, \"values\": [0]}, \"field\": \"jitter\", \"scale\": {}, \"title\": null, \"type\": \"quantitative\"}, \"y\": {\"field\": \"bus_difference\", \"scale\": {\"domain\": [-5, 25.0]}, \"title\": \"Difference in Bus to Car Travel Time (min)\", \"type\": \"quantitative\"}}, \"transform\": [{\"calculate\": \"sqrt(-2*log(random()))*cos(2*PI*random())\", \"as\": \"jitter\"}], \"width\": 50}, {\"layer\": [{\"mark\": {\"type\": \"point\", \"opacity\": 0.6, \"size\": 20, \"strokeWidth\": 1.3}, \"encoding\": {\"color\": {\"value\": \"#323434\"}, \"y\": {\"field\": \"bus_difference\", \"type\": \"quantitative\"}}, \"transform\": [{\"filter\": \"(datum.p50_trip === 1)\"}]}, {\"mark\": {\"type\": \"text\", \"align\": \"center\", \"baseline\": \"middle\"}, \"encoding\": {\"color\": {\"value\": \"black\"}, \"text\": {\"field\": \"pct_trips_competitive\", \"format\": \".0%\", \"type\": \"quantitative\"}, \"tooltip\": [{\"field\": \"route_id\", \"type\": \"nominal\"}, {\"field\": \"trip_id\", \"type\": \"nominal\"}, {\"field\": \"service_hours\", \"type\": \"quantitative\"}, {\"field\": \"car_duration_hours\", \"type\": \"quantitative\"}, {\"field\": \"bus_multiplier\", \"type\": \"quantitative\"}, {\"field\": \"bus_difference\", \"type\": \"quantitative\"}, {\"field\": \"num_trips\", \"type\": \"quantitative\"}, {\"field\": \"num_competitive\", \"type\": \"quantitative\"}, {\"field\": \"pct_trips_competitive\", \"type\": \"quantitative\"}, {\"field\": \"p25\", \"type\": \"quantitative\"}, {\"field\": \"p50\", \"type\": \"quantitative\"}, {\"field\": \"p75\", \"type\": \"quantitative\"}], \"x\": {\"value\": 30}, \"y\": {\"value\": 15}}, \"transform\": [{\"calculate\": \"sqrt(-2*log(random()))*cos(2*PI*random())\", \"as\": \"jitter\"}, {\"filter\": \"(datum.fastest_trip === 1)\"}]}]}]}, \"resolve\": {\"scale\": {\"y\": \"shared\"}}, \"title\": \"Difference in Bus to Car Travel Time (min)\", \"$schema\": \"https://vega.github.io/schema/vega-lite/v4.17.0.json\", \"datasets\": {\"data-f2ccbc9814d2b3c86bba6b57f0a473dc\": [{\"calitp_itp_id\": 308, \"trip_key\": 2261689821660566722, \"trip_id\": \"t_946129_b_24359_tn_0\", \"shape_id\": \"p_898188\", \"route_id\": \"15206\", \"service_hours\": 0.33, \"trip_first_departure_ts\": 69000, \"trip_last_arrival_ts\": 70200, \"departure_hour\": 19, \"time_of_day\": \"PM Peak\", \"p25\": 0.33, \"p50\": 0.41500000000000004, \"p75\": 0.5, \"p50_trip\": 0, \"fastest_trip\": 1, \"car_duration_hours\": 0.3, \"competitive_route\": 1, \"bus_multiplier\": 1.1, \"bus_difference\": 1.8, \"num_trips\": 56, \"num_competitive\": 56, \"pct_trips_competitive\": 1.0, \"bus_difference_spread\": 11.4, \"route_group\": \"short\", \"max_trip_hrs\": 0.52, \"max_trip_route_group\": 0.52, \"name\": \"City of Simi Valley\", \"caltrans_district\": \"07 - Los Angeles\", \"drmt_organization_name\": null, \"cutoff2\": 20, \"cutoff\": 0}, {\"calitp_itp_id\": 308, \"trip_key\": 8179130212206563919, \"trip_id\": \"t_946123_b_24359_tn_0\", \"shape_id\": \"p_898188\", \"route_id\": \"15206\", \"service_hours\": 0.33, \"trip_first_departure_ts\": 58200, \"trip_last_arrival_ts\": 59400, \"departure_hour\": 16, \"time_of_day\": \"Midday\", \"p25\": 0.33, \"p50\": 0.41500000000000004, \"p75\": 0.5, \"p50_trip\": 0, \"fastest_trip\": 0, \"car_duration_hours\": 0.3, \"competitive_route\": 1, \"bus_multiplier\": 1.1, \"bus_difference\": 1.8, \"num_trips\": 56, \"num_competitive\": 56, \"pct_trips_competitive\": 1.0, \"bus_difference_spread\": 11.4, \"route_group\": \"short\", \"max_trip_hrs\": 0.52, \"max_trip_route_group\": 0.52, \"name\": \"City of Simi Valley\", \"caltrans_district\": \"07 - Los Angeles\", \"drmt_organization_name\": null, \"cutoff2\": 20, \"cutoff\": 0}, {\"calitp_itp_id\": 308, \"trip_key\": -2498285654119123466, \"trip_id\": \"t_946103_b_24359_tn_0\", \"shape_id\": \"p_898188\", \"route_id\": \"15206\", \"service_hours\": 0.33, \"trip_first_departure_ts\": 22200, \"trip_last_arrival_ts\": 23400, \"departure_hour\": 6, \"time_of_day\": \"Owl Service\", \"p25\": 0.33, \"p50\": 0.41500000000000004, \"p75\": 0.5, \"p50_trip\": 0, \"fastest_trip\": 0, \"car_duration_hours\": 0.3, \"competitive_route\": 1, \"bus_multiplier\": 1.1, \"bus_difference\": 1.8, \"num_trips\": 56, \"num_competitive\": 56, \"pct_trips_competitive\": 1.0, \"bus_difference_spread\": 11.4, \"route_group\": \"short\", \"max_trip_hrs\": 0.52, \"max_trip_route_group\": 0.52, \"name\": \"City of Simi Valley\", \"caltrans_district\": \"07 - Los Angeles\", \"drmt_organization_name\": null, \"cutoff2\": 20, \"cutoff\": 0}, {\"calitp_itp_id\": 308, \"trip_key\": -8259203156399175823, \"trip_id\": \"t_946119_b_24359_tn_0\", \"shape_id\": \"p_898188\", \"route_id\": \"15206\", \"service_hours\": 0.33, \"trip_first_departure_ts\": 51000, \"trip_last_arrival_ts\": 52200, \"departure_hour\": 14, \"time_of_day\": \"Midday\", \"p25\": 0.33, \"p50\": 0.41500000000000004, \"p75\": 0.5, \"p50_trip\": 0, \"fastest_trip\": 0, \"car_duration_hours\": 0.3, \"competitive_route\": 1, \"bus_multiplier\": 1.1, \"bus_difference\": 1.8, \"num_trips\": 56, \"num_competitive\": 56, \"pct_trips_competitive\": 1.0, \"bus_difference_spread\": 11.4, \"route_group\": \"short\", \"max_trip_hrs\": 0.52, \"max_trip_route_group\": 0.52, \"name\": \"City of Simi Valley\", \"caltrans_district\": \"07 - Los Angeles\", \"drmt_organization_name\": null, \"cutoff2\": 20, \"cutoff\": 0}, {\"calitp_itp_id\": 308, \"trip_key\": -5427810824681045318, \"trip_id\": \"t_946125_b_24359_tn_0\", \"shape_id\": \"p_898188\", \"route_id\": \"15206\", \"service_hours\": 0.33, \"trip_first_departure_ts\": 61800, \"trip_last_arrival_ts\": 63000, \"departure_hour\": 17, \"time_of_day\": \"PM Peak\", \"p25\": 0.33, \"p50\": 0.41500000000000004, \"p75\": 0.5, \"p50_trip\": 0, \"fastest_trip\": 0, \"car_duration_hours\": 0.3, \"competitive_route\": 1, \"bus_multiplier\": 1.1, \"bus_difference\": 1.8, \"num_trips\": 56, \"num_competitive\": 56, \"pct_trips_competitive\": 1.0, \"bus_difference_spread\": 11.4, \"route_group\": \"short\", \"max_trip_hrs\": 0.52, \"max_trip_route_group\": 0.52, \"name\": \"City of Simi Valley\", \"caltrans_district\": \"07 - Los Angeles\", \"drmt_organization_name\": null, \"cutoff2\": 20, \"cutoff\": 0}, {\"calitp_itp_id\": 308, \"trip_key\": -1433717451632064498, \"trip_id\": \"t_946109_b_24359_tn_0\", \"shape_id\": \"p_898188\", \"route_id\": \"15206\", \"service_hours\": 0.33, \"trip_first_departure_ts\": 33000, \"trip_last_arrival_ts\": 34200, \"departure_hour\": 9, \"time_of_day\": \"AM Peak\", \"p25\": 0.33, \"p50\": 0.41500000000000004, \"p75\": 0.5, \"p50_trip\": 0, \"fastest_trip\": 0, \"car_duration_hours\": 0.3, \"competitive_route\": 1, \"bus_multiplier\": 1.1, \"bus_difference\": 1.8, \"num_trips\": 56, \"num_competitive\": 56, \"pct_trips_competitive\": 1.0, \"bus_difference_spread\": 11.4, \"route_group\": \"short\", \"max_trip_hrs\": 0.52, \"max_trip_route_group\": 0.52, \"name\": \"City of Simi Valley\", \"caltrans_district\": \"07 - Los Angeles\", \"drmt_organization_name\": null, \"cutoff2\": 20, \"cutoff\": 0}, {\"calitp_itp_id\": 308, \"trip_key\": -6729915948586873085, \"trip_id\": \"t_946113_b_24359_tn_0\", \"shape_id\": \"p_898188\", \"route_id\": \"15206\", \"service_hours\": 0.33, \"trip_first_departure_ts\": 40200, \"trip_last_arrival_ts\": 41400, \"departure_hour\": 11, \"time_of_day\": \"Midday\", \"p25\": 0.33, \"p50\": 0.41500000000000004, \"p75\": 0.5, \"p50_trip\": 0, \"fastest_trip\": 0, \"car_duration_hours\": 0.3, \"competitive_route\": 1, \"bus_multiplier\": 1.1, \"bus_difference\": 1.8, \"num_trips\": 56, \"num_competitive\": 56, \"pct_trips_competitive\": 1.0, \"bus_difference_spread\": 11.4, \"route_group\": \"short\", \"max_trip_hrs\": 0.52, \"max_trip_route_group\": 0.52, \"name\": \"City of Simi Valley\", \"caltrans_district\": \"07 - Los Angeles\", \"drmt_organization_name\": null, \"cutoff2\": 20, \"cutoff\": 0}, {\"calitp_itp_id\": 308, \"trip_key\": 7776908892581446703, \"trip_id\": \"t_946108_b_24359_tn_0\", \"shape_id\": \"p_898188\", \"route_id\": \"15206\", \"service_hours\": 0.33, \"trip_first_departure_ts\": 31200, \"trip_last_arrival_ts\": 32400, \"departure_hour\": 8, \"time_of_day\": \"AM Peak\", \"p25\": 0.33, \"p50\": 0.41500000000000004, \"p75\": 0.5, \"p50_trip\": 0, \"fastest_trip\": 0, \"car_duration_hours\": 0.3, \"competitive_route\": 1, \"bus_multiplier\": 1.1, \"bus_difference\": 1.8, \"num_trips\": 56, \"num_competitive\": 56, \"pct_trips_competitive\": 1.0, \"bus_difference_spread\": 11.4, \"route_group\": \"short\", \"max_trip_hrs\": 0.52, \"max_trip_route_group\": 0.52, \"name\": \"City of Simi Valley\", \"caltrans_district\": \"07 - Los Angeles\", \"drmt_organization_name\": null, \"cutoff2\": 20, \"cutoff\": 0}, {\"calitp_itp_id\": 308, \"trip_key\": -5820800580559433667, \"trip_id\": \"t_946124_b_24359_tn_0\", \"shape_id\": \"p_898188\", \"route_id\": \"15206\", \"service_hours\": 0.33, \"trip_first_departure_ts\": 60000, \"trip_last_arrival_ts\": 61200, \"departure_hour\": 16, \"time_of_day\": \"Midday\", \"p25\": 0.33, \"p50\": 0.41500000000000004, \"p75\": 0.5, \"p50_trip\": 0, \"fastest_trip\": 0, \"car_duration_hours\": 0.3, \"competitive_route\": 1, \"bus_multiplier\": 1.1, \"bus_difference\": 1.8, \"num_trips\": 56, \"num_competitive\": 56, \"pct_trips_competitive\": 1.0, \"bus_difference_spread\": 11.4, \"route_group\": \"short\", \"max_trip_hrs\": 0.52, \"max_trip_route_group\": 0.52, \"name\": \"City of Simi Valley\", \"caltrans_district\": \"07 - Los Angeles\", \"drmt_organization_name\": null, \"cutoff2\": 20, \"cutoff\": 0}, {\"calitp_itp_id\": 308, \"trip_key\": -8320292640799424591, \"trip_id\": \"t_946105_b_24359_tn_0\", \"shape_id\": \"p_898188\", \"route_id\": \"15206\", \"service_hours\": 0.33, \"trip_first_departure_ts\": 25800, \"trip_last_arrival_ts\": 27000, \"departure_hour\": 7, \"time_of_day\": \"AM Peak\", \"p25\": 0.33, \"p50\": 0.41500000000000004, \"p75\": 0.5, \"p50_trip\": 0, \"fastest_trip\": 0, \"car_duration_hours\": 0.3, \"competitive_route\": 1, \"bus_multiplier\": 1.1, \"bus_difference\": 1.8, \"num_trips\": 56, \"num_competitive\": 56, \"pct_trips_competitive\": 1.0, \"bus_difference_spread\": 11.4, \"route_group\": \"short\", \"max_trip_hrs\": 0.52, \"max_trip_route_group\": 0.52, \"name\": \"City of Simi Valley\", \"caltrans_district\": \"07 - Los Angeles\", \"drmt_organization_name\": null, \"cutoff2\": 20, \"cutoff\": 0}, {\"calitp_itp_id\": 308, \"trip_key\": -5635726924837519396, \"trip_id\": \"t_946107_b_24359_tn_0\", \"shape_id\": \"p_898188\", \"route_id\": \"15206\", \"service_hours\": 0.33, \"trip_first_departure_ts\": 29400, \"trip_last_arrival_ts\": 30600, \"departure_hour\": 8, \"time_of_day\": \"AM Peak\", \"p25\": 0.33, \"p50\": 0.41500000000000004, \"p75\": 0.5, \"p50_trip\": 0, \"fastest_trip\": 0, \"car_duration_hours\": 0.3, \"competitive_route\": 1, \"bus_multiplier\": 1.1, \"bus_difference\": 1.8, \"num_trips\": 56, \"num_competitive\": 56, \"pct_trips_competitive\": 1.0, \"bus_difference_spread\": 11.4, \"route_group\": \"short\", \"max_trip_hrs\": 0.52, \"max_trip_route_group\": 0.52, \"name\": \"City of Simi Valley\", \"caltrans_district\": \"07 - Los Angeles\", \"drmt_organization_name\": null, \"cutoff2\": 20, \"cutoff\": 0}, {\"calitp_itp_id\": 308, \"trip_key\": 6825484287729484729, \"trip_id\": \"t_946116_b_24359_tn_0\", \"shape_id\": \"p_898188\", \"route_id\": \"15206\", \"service_hours\": 0.33, \"trip_first_departure_ts\": 45600, \"trip_last_arrival_ts\": 46800, \"departure_hour\": 12, \"time_of_day\": \"Midday\", \"p25\": 0.33, \"p50\": 0.41500000000000004, \"p75\": 0.5, \"p50_trip\": 0, \"fastest_trip\": 0, \"car_duration_hours\": 0.3, \"competitive_route\": 1, \"bus_multiplier\": 1.1, \"bus_difference\": 1.8, \"num_trips\": 56, \"num_competitive\": 56, \"pct_trips_competitive\": 1.0, \"bus_difference_spread\": 11.4, \"route_group\": \"short\", \"max_trip_hrs\": 0.52, \"max_trip_route_group\": 0.52, \"name\": \"City of Simi Valley\", \"caltrans_district\": \"07 - Los Angeles\", \"drmt_organization_name\": null, \"cutoff2\": 20, \"cutoff\": 0}, {\"calitp_itp_id\": 308, \"trip_key\": 5914148812228893700, \"trip_id\": \"t_946111_b_24359_tn_0\", \"shape_id\": \"p_898188\", \"route_id\": \"15206\", \"service_hours\": 0.33, \"trip_first_departure_ts\": 36600, \"trip_last_arrival_ts\": 37800, \"departure_hour\": 10, \"time_of_day\": \"Midday\", \"p25\": 0.33, \"p50\": 0.41500000000000004, \"p75\": 0.5, \"p50_trip\": 0, \"fastest_trip\": 0, \"car_duration_hours\": 0.3, \"competitive_route\": 1, \"bus_multiplier\": 1.1, \"bus_difference\": 1.8, \"num_trips\": 56, \"num_competitive\": 56, \"pct_trips_competitive\": 1.0, \"bus_difference_spread\": 11.4, \"route_group\": \"short\", \"max_trip_hrs\": 0.52, \"max_trip_route_group\": 0.52, \"name\": \"City of Simi Valley\", \"caltrans_district\": \"07 - Los Angeles\", \"drmt_organization_name\": null, \"cutoff2\": 20, \"cutoff\": 0}, {\"calitp_itp_id\": 308, \"trip_key\": -876161771991597509, \"trip_id\": \"t_946115_b_24359_tn_0\", \"shape_id\": \"p_898188\", \"route_id\": \"15206\", \"service_hours\": 0.33, \"trip_first_departure_ts\": 43800, \"trip_last_arrival_ts\": 45000, \"departure_hour\": 12, \"time_of_day\": \"Midday\", \"p25\": 0.33, \"p50\": 0.41500000000000004, \"p75\": 0.5, \"p50_trip\": 0, \"fastest_trip\": 0, \"car_duration_hours\": 0.3, \"competitive_route\": 1, \"bus_multiplier\": 1.1, \"bus_difference\": 1.8, \"num_trips\": 56, \"num_competitive\": 56, \"pct_trips_competitive\": 1.0, \"bus_difference_spread\": 11.4, \"route_group\": \"short\", \"max_trip_hrs\": 0.52, \"max_trip_route_group\": 0.52, \"name\": \"City of Simi Valley\", \"caltrans_district\": \"07 - Los Angeles\", \"drmt_organization_name\": null, \"cutoff2\": 20, \"cutoff\": 0}, {\"calitp_itp_id\": 308, \"trip_key\": -7853264398043842300, \"trip_id\": \"t_946126_b_24359_tn_0\", \"shape_id\": \"p_898188\", \"route_id\": \"15206\", \"service_hours\": 0.33, \"trip_first_departure_ts\": 63600, \"trip_last_arrival_ts\": 64800, \"departure_hour\": 17, \"time_of_day\": \"PM Peak\", \"p25\": 0.33, \"p50\": 0.41500000000000004, \"p75\": 0.5, \"p50_trip\": 0, \"fastest_trip\": 0, \"car_duration_hours\": 0.3, \"competitive_route\": 1, \"bus_multiplier\": 1.1, \"bus_difference\": 1.8, \"num_trips\": 56, \"num_competitive\": 56, \"pct_trips_competitive\": 1.0, \"bus_difference_spread\": 11.4, \"route_group\": \"short\", \"max_trip_hrs\": 0.52, \"max_trip_route_group\": 0.52, \"name\": \"City of Simi Valley\", \"caltrans_district\": \"07 - Los Angeles\", \"drmt_organization_name\": null, \"cutoff2\": 20, \"cutoff\": 0}, {\"calitp_itp_id\": 308, \"trip_key\": 8911867157148446863, \"trip_id\": \"t_946128_b_24359_tn_0\", \"shape_id\": \"p_898188\", \"route_id\": \"15206\", \"service_hours\": 0.33, \"trip_first_departure_ts\": 67260, \"trip_last_arrival_ts\": 68460, \"departure_hour\": 18, \"time_of_day\": \"PM Peak\", \"p25\": 0.33, \"p50\": 0.41500000000000004, \"p75\": 0.5, \"p50_trip\": 0, \"fastest_trip\": 0, \"car_duration_hours\": 0.3, \"competitive_route\": 1, \"bus_multiplier\": 1.1, \"bus_difference\": 1.8, \"num_trips\": 56, \"num_competitive\": 56, \"pct_trips_competitive\": 1.0, \"bus_difference_spread\": 11.4, \"route_group\": \"short\", \"max_trip_hrs\": 0.52, \"max_trip_route_group\": 0.52, \"name\": \"City of Simi Valley\", \"caltrans_district\": \"07 - Los Angeles\", \"drmt_organization_name\": null, \"cutoff2\": 20, \"cutoff\": 0}, {\"calitp_itp_id\": 308, \"trip_key\": -8762992939399743410, \"trip_id\": \"t_946130_b_24359_tn_0\", \"shape_id\": \"p_898188\", \"route_id\": \"15206\", \"service_hours\": 0.33, \"trip_first_departure_ts\": 70800, \"trip_last_arrival_ts\": 72000, \"departure_hour\": 19, \"time_of_day\": \"PM Peak\", \"p25\": 0.33, \"p50\": 0.41500000000000004, \"p75\": 0.5, \"p50_trip\": 0, \"fastest_trip\": 0, \"car_duration_hours\": 0.3, \"competitive_route\": 1, \"bus_multiplier\": 1.1, \"bus_difference\": 1.8, \"num_trips\": 56, \"num_competitive\": 56, \"pct_trips_competitive\": 1.0, \"bus_difference_spread\": 11.4, \"route_group\": \"short\", \"max_trip_hrs\": 0.52, \"max_trip_route_group\": 0.52, \"name\": \"City of Simi Valley\", \"caltrans_district\": \"07 - Los Angeles\", \"drmt_organization_name\": null, \"cutoff2\": 20, \"cutoff\": 0}, {\"calitp_itp_id\": 308, \"trip_key\": -4391232210353182445, \"trip_id\": \"t_946106_b_24359_tn_0\", \"shape_id\": \"p_898188\", \"route_id\": \"15206\", \"service_hours\": 0.33, \"trip_first_departure_ts\": 27600, \"trip_last_arrival_ts\": 28800, \"departure_hour\": 7, \"time_of_day\": \"AM Peak\", \"p25\": 0.33, \"p50\": 0.41500000000000004, \"p75\": 0.5, \"p50_trip\": 0, \"fastest_trip\": 0, \"car_duration_hours\": 0.3, \"competitive_route\": 1, \"bus_multiplier\": 1.1, \"bus_difference\": 1.8, \"num_trips\": 56, \"num_competitive\": 56, \"pct_trips_competitive\": 1.0, \"bus_difference_spread\": 11.4, \"route_group\": \"short\", \"max_trip_hrs\": 0.52, \"max_trip_route_group\": 0.52, \"name\": \"City of Simi Valley\", \"caltrans_district\": \"07 - Los Angeles\", \"drmt_organization_name\": null, \"cutoff2\": 20, \"cutoff\": 0}, {\"calitp_itp_id\": 308, \"trip_key\": 7093254243388164782, \"trip_id\": \"t_946127_b_24359_tn_0\", \"shape_id\": \"p_898188\", \"route_id\": \"15206\", \"service_hours\": 0.33, \"trip_first_departure_ts\": 65400, \"trip_last_arrival_ts\": 66600, \"departure_hour\": 18, \"time_of_day\": \"PM Peak\", \"p25\": 0.33, \"p50\": 0.41500000000000004, \"p75\": 0.5, \"p50_trip\": 0, \"fastest_trip\": 0, \"car_duration_hours\": 0.3, \"competitive_route\": 1, \"bus_multiplier\": 1.1, \"bus_difference\": 1.8, \"num_trips\": 56, \"num_competitive\": 56, \"pct_trips_competitive\": 1.0, \"bus_difference_spread\": 11.4, \"route_group\": \"short\", \"max_trip_hrs\": 0.52, \"max_trip_route_group\": 0.52, \"name\": \"City of Simi Valley\", \"caltrans_district\": \"07 - Los Angeles\", \"drmt_organization_name\": null, \"cutoff2\": 20, \"cutoff\": 0}, {\"calitp_itp_id\": 308, \"trip_key\": -5590865945693394818, \"trip_id\": \"t_946121_b_24359_tn_0\", \"shape_id\": \"p_898188\", \"route_id\": \"15206\", \"service_hours\": 0.33, \"trip_first_departure_ts\": 54600, \"trip_last_arrival_ts\": 55800, \"departure_hour\": 15, \"time_of_day\": \"Midday\", \"p25\": 0.33, \"p50\": 0.41500000000000004, \"p75\": 0.5, \"p50_trip\": 0, \"fastest_trip\": 0, \"car_duration_hours\": 0.3, \"competitive_route\": 1, \"bus_multiplier\": 1.1, \"bus_difference\": 1.8, \"num_trips\": 56, \"num_competitive\": 56, \"pct_trips_competitive\": 1.0, \"bus_difference_spread\": 11.4, \"route_group\": \"short\", \"max_trip_hrs\": 0.52, \"max_trip_route_group\": 0.52, \"name\": \"City of Simi Valley\", \"caltrans_district\": \"07 - Los Angeles\", \"drmt_organization_name\": null, \"cutoff2\": 20, \"cutoff\": 0}, {\"calitp_itp_id\": 308, \"trip_key\": -3228277295240571107, \"trip_id\": \"t_946122_b_24359_tn_0\", \"shape_id\": \"p_898188\", \"route_id\": \"15206\", \"service_hours\": 0.33, \"trip_first_departure_ts\": 56400, \"trip_last_arrival_ts\": 57600, \"departure_hour\": 15, \"time_of_day\": \"Midday\", \"p25\": 0.33, \"p50\": 0.41500000000000004, \"p75\": 0.5, \"p50_trip\": 0, \"fastest_trip\": 0, \"car_duration_hours\": 0.3, \"competitive_route\": 1, \"bus_multiplier\": 1.1, \"bus_difference\": 1.8, \"num_trips\": 56, \"num_competitive\": 56, \"pct_trips_competitive\": 1.0, \"bus_difference_spread\": 11.4, \"route_group\": \"short\", \"max_trip_hrs\": 0.52, \"max_trip_route_group\": 0.52, \"name\": \"City of Simi Valley\", \"caltrans_district\": \"07 - Los Angeles\", \"drmt_organization_name\": null, \"cutoff2\": 20, \"cutoff\": 0}, {\"calitp_itp_id\": 308, \"trip_key\": 8339464564364172853, \"trip_id\": \"t_946112_b_24359_tn_0\", \"shape_id\": \"p_898188\", \"route_id\": \"15206\", \"service_hours\": 0.33, \"trip_first_departure_ts\": 38400, \"trip_last_arrival_ts\": 39600, \"departure_hour\": 10, \"time_of_day\": \"Midday\", \"p25\": 0.33, \"p50\": 0.41500000000000004, \"p75\": 0.5, \"p50_trip\": 0, \"fastest_trip\": 0, \"car_duration_hours\": 0.3, \"competitive_route\": 1, \"bus_multiplier\": 1.1, \"bus_difference\": 1.8, \"num_trips\": 56, \"num_competitive\": 56, \"pct_trips_competitive\": 1.0, \"bus_difference_spread\": 11.4, \"route_group\": \"short\", \"max_trip_hrs\": 0.52, \"max_trip_route_group\": 0.52, \"name\": \"City of Simi Valley\", \"caltrans_district\": \"07 - Los Angeles\", \"drmt_organization_name\": null, \"cutoff2\": 20, \"cutoff\": 0}, {\"calitp_itp_id\": 308, \"trip_key\": 4142883466696691433, \"trip_id\": \"t_946110_b_24359_tn_0\", \"shape_id\": \"p_898188\", \"route_id\": \"15206\", \"service_hours\": 0.33, \"trip_first_departure_ts\": 34800, \"trip_last_arrival_ts\": 36000, \"departure_hour\": 9, \"time_of_day\": \"AM Peak\", \"p25\": 0.33, \"p50\": 0.41500000000000004, \"p75\": 0.5, \"p50_trip\": 0, \"fastest_trip\": 0, \"car_duration_hours\": 0.3, \"competitive_route\": 1, \"bus_multiplier\": 1.1, \"bus_difference\": 1.8, \"num_trips\": 56, \"num_competitive\": 56, \"pct_trips_competitive\": 1.0, \"bus_difference_spread\": 11.4, \"route_group\": \"short\", \"max_trip_hrs\": 0.52, \"max_trip_route_group\": 0.52, \"name\": \"City of Simi Valley\", \"caltrans_district\": \"07 - Los Angeles\", \"drmt_organization_name\": null, \"cutoff2\": 20, \"cutoff\": 0}, {\"calitp_itp_id\": 308, \"trip_key\": 2158922621291155621, \"trip_id\": \"t_946117_b_24359_tn_0\", \"shape_id\": \"p_898188\", \"route_id\": \"15206\", \"service_hours\": 0.33, \"trip_first_departure_ts\": 47400, \"trip_last_arrival_ts\": 48600, \"departure_hour\": 13, \"time_of_day\": \"Midday\", \"p25\": 0.33, \"p50\": 0.41500000000000004, \"p75\": 0.5, \"p50_trip\": 0, \"fastest_trip\": 0, \"car_duration_hours\": 0.3, \"competitive_route\": 1, \"bus_multiplier\": 1.1, \"bus_difference\": 1.8, \"num_trips\": 56, \"num_competitive\": 56, \"pct_trips_competitive\": 1.0, \"bus_difference_spread\": 11.4, \"route_group\": \"short\", \"max_trip_hrs\": 0.52, \"max_trip_route_group\": 0.52, \"name\": \"City of Simi Valley\", \"caltrans_district\": \"07 - Los Angeles\", \"drmt_organization_name\": null, \"cutoff2\": 20, \"cutoff\": 0}, {\"calitp_itp_id\": 308, \"trip_key\": -6662960956626415706, \"trip_id\": \"t_946104_b_24359_tn_0\", \"shape_id\": \"p_898188\", \"route_id\": \"15206\", \"service_hours\": 0.33, \"trip_first_departure_ts\": 24000, \"trip_last_arrival_ts\": 25200, \"departure_hour\": 6, \"time_of_day\": \"Owl Service\", \"p25\": 0.33, \"p50\": 0.41500000000000004, \"p75\": 0.5, \"p50_trip\": 0, \"fastest_trip\": 0, \"car_duration_hours\": 0.3, \"competitive_route\": 1, \"bus_multiplier\": 1.1, \"bus_difference\": 1.8, \"num_trips\": 56, \"num_competitive\": 56, \"pct_trips_competitive\": 1.0, \"bus_difference_spread\": 11.4, \"route_group\": \"short\", \"max_trip_hrs\": 0.52, \"max_trip_route_group\": 0.52, \"name\": \"City of Simi Valley\", \"caltrans_district\": \"07 - Los Angeles\", \"drmt_organization_name\": null, \"cutoff2\": 20, \"cutoff\": 0}, {\"calitp_itp_id\": 308, \"trip_key\": 3366481284366637267, \"trip_id\": \"t_946120_b_24359_tn_0\", \"shape_id\": \"p_898188\", \"route_id\": \"15206\", \"service_hours\": 0.33, \"trip_first_departure_ts\": 52800, \"trip_last_arrival_ts\": 54000, \"departure_hour\": 14, \"time_of_day\": \"Midday\", \"p25\": 0.33, \"p50\": 0.41500000000000004, \"p75\": 0.5, \"p50_trip\": 0, \"fastest_trip\": 0, \"car_duration_hours\": 0.3, \"competitive_route\": 1, \"bus_multiplier\": 1.1, \"bus_difference\": 1.8, \"num_trips\": 56, \"num_competitive\": 56, \"pct_trips_competitive\": 1.0, \"bus_difference_spread\": 11.4, \"route_group\": \"short\", \"max_trip_hrs\": 0.52, \"max_trip_route_group\": 0.52, \"name\": \"City of Simi Valley\", \"caltrans_district\": \"07 - Los Angeles\", \"drmt_organization_name\": null, \"cutoff2\": 20, \"cutoff\": 0}, {\"calitp_itp_id\": 308, \"trip_key\": -3828744296987613966, \"trip_id\": \"t_946114_b_24359_tn_0\", \"shape_id\": \"p_898188\", \"route_id\": \"15206\", \"service_hours\": 0.33, \"trip_first_departure_ts\": 42000, \"trip_last_arrival_ts\": 43200, \"departure_hour\": 11, \"time_of_day\": \"Midday\", \"p25\": 0.33, \"p50\": 0.41500000000000004, \"p75\": 0.5, \"p50_trip\": 0, \"fastest_trip\": 0, \"car_duration_hours\": 0.3, \"competitive_route\": 1, \"bus_multiplier\": 1.1, \"bus_difference\": 1.8, \"num_trips\": 56, \"num_competitive\": 56, \"pct_trips_competitive\": 1.0, \"bus_difference_spread\": 11.4, \"route_group\": \"short\", \"max_trip_hrs\": 0.52, \"max_trip_route_group\": 0.52, \"name\": \"City of Simi Valley\", \"caltrans_district\": \"07 - Los Angeles\", \"drmt_organization_name\": null, \"cutoff2\": 20, \"cutoff\": 0}, {\"calitp_itp_id\": 308, \"trip_key\": -3560747305575803624, \"trip_id\": \"t_946118_b_24359_tn_0\", \"shape_id\": \"p_898188\", \"route_id\": \"15206\", \"service_hours\": 0.33, \"trip_first_departure_ts\": 49200, \"trip_last_arrival_ts\": 50400, \"departure_hour\": 13, \"time_of_day\": \"Midday\", \"p25\": 0.33, \"p50\": 0.41500000000000004, \"p75\": 0.5, \"p50_trip\": 0, \"fastest_trip\": 0, \"car_duration_hours\": 0.3, \"competitive_route\": 1, \"bus_multiplier\": 1.1, \"bus_difference\": 1.8, \"num_trips\": 56, \"num_competitive\": 56, \"pct_trips_competitive\": 1.0, \"bus_difference_spread\": 11.4, \"route_group\": \"short\", \"max_trip_hrs\": 0.52, \"max_trip_route_group\": 0.52, \"name\": \"City of Simi Valley\", \"caltrans_district\": \"07 - Los Angeles\", \"drmt_organization_name\": null, \"cutoff2\": 20, \"cutoff\": 0}, {\"calitp_itp_id\": 308, \"trip_key\": -8167083170040521081, \"trip_id\": \"t_943125_b_24359_tn_0\", \"shape_id\": \"p_898187\", \"route_id\": \"15206\", \"service_hours\": 0.5, \"trip_first_departure_ts\": 54000, \"trip_last_arrival_ts\": 55800, \"departure_hour\": 15, \"time_of_day\": \"Midday\", \"p25\": 0.33, \"p50\": 0.41500000000000004, \"p75\": 0.5, \"p50_trip\": 1, \"fastest_trip\": 0, \"car_duration_hours\": 0.3, \"competitive_route\": 1, \"bus_multiplier\": 1.67, \"bus_difference\": 12.0, \"num_trips\": 56, \"num_competitive\": 56, \"pct_trips_competitive\": 1.0, \"bus_difference_spread\": 11.4, \"route_group\": \"short\", \"max_trip_hrs\": 0.52, \"max_trip_route_group\": 0.52, \"name\": \"City of Simi Valley\", \"caltrans_district\": \"07 - Los Angeles\", \"drmt_organization_name\": null, \"cutoff2\": 20, \"cutoff\": 0}, {\"calitp_itp_id\": 308, \"trip_key\": -4279807971257814144, \"trip_id\": \"t_943130_b_24359_tn_0\", \"shape_id\": \"p_898187\", \"route_id\": \"15206\", \"service_hours\": 0.5, \"trip_first_departure_ts\": 63000, \"trip_last_arrival_ts\": 64800, \"departure_hour\": 17, \"time_of_day\": \"PM Peak\", \"p25\": 0.33, \"p50\": 0.41500000000000004, \"p75\": 0.5, \"p50_trip\": 1, \"fastest_trip\": 0, \"car_duration_hours\": 0.3, \"competitive_route\": 1, \"bus_multiplier\": 1.67, \"bus_difference\": 12.0, \"num_trips\": 56, \"num_competitive\": 56, \"pct_trips_competitive\": 1.0, \"bus_difference_spread\": 11.4, \"route_group\": \"short\", \"max_trip_hrs\": 0.52, \"max_trip_route_group\": 0.52, \"name\": \"City of Simi Valley\", \"caltrans_district\": \"07 - Los Angeles\", \"drmt_organization_name\": null, \"cutoff2\": 20, \"cutoff\": 0}, {\"calitp_itp_id\": 308, \"trip_key\": -2554570937767145092, \"trip_id\": \"t_943112_b_24359_tn_0\", \"shape_id\": \"p_898187\", \"route_id\": \"15206\", \"service_hours\": 0.5, \"trip_first_departure_ts\": 30600, \"trip_last_arrival_ts\": 32400, \"departure_hour\": 8, \"time_of_day\": \"AM Peak\", \"p25\": 0.33, \"p50\": 0.41500000000000004, \"p75\": 0.5, \"p50_trip\": 1, \"fastest_trip\": 0, \"car_duration_hours\": 0.3, \"competitive_route\": 1, \"bus_multiplier\": 1.67, \"bus_difference\": 12.0, \"num_trips\": 56, \"num_competitive\": 56, \"pct_trips_competitive\": 1.0, \"bus_difference_spread\": 11.4, \"route_group\": \"short\", \"max_trip_hrs\": 0.52, \"max_trip_route_group\": 0.52, \"name\": \"City of Simi Valley\", \"caltrans_district\": \"07 - Los Angeles\", \"drmt_organization_name\": null, \"cutoff2\": 20, \"cutoff\": 0}, {\"calitp_itp_id\": 308, \"trip_key\": 8294143917432518976, \"trip_id\": \"t_943119_b_24359_tn_0\", \"shape_id\": \"p_898187\", \"route_id\": \"15206\", \"service_hours\": 0.5, \"trip_first_departure_ts\": 43200, \"trip_last_arrival_ts\": 45000, \"departure_hour\": 12, \"time_of_day\": \"Midday\", \"p25\": 0.33, \"p50\": 0.41500000000000004, \"p75\": 0.5, \"p50_trip\": 1, \"fastest_trip\": 0, \"car_duration_hours\": 0.3, \"competitive_route\": 1, \"bus_multiplier\": 1.67, \"bus_difference\": 12.0, \"num_trips\": 56, \"num_competitive\": 56, \"pct_trips_competitive\": 1.0, \"bus_difference_spread\": 11.4, \"route_group\": \"short\", \"max_trip_hrs\": 0.52, \"max_trip_route_group\": 0.52, \"name\": \"City of Simi Valley\", \"caltrans_district\": \"07 - Los Angeles\", \"drmt_organization_name\": null, \"cutoff2\": 20, \"cutoff\": 0}, {\"calitp_itp_id\": 308, \"trip_key\": 7653100744196602185, \"trip_id\": \"t_943128_b_24359_tn_0\", \"shape_id\": \"p_898187\", \"route_id\": \"15206\", \"service_hours\": 0.5, \"trip_first_departure_ts\": 59400, \"trip_last_arrival_ts\": 61200, \"departure_hour\": 16, \"time_of_day\": \"Midday\", \"p25\": 0.33, \"p50\": 0.41500000000000004, \"p75\": 0.5, \"p50_trip\": 1, \"fastest_trip\": 0, \"car_duration_hours\": 0.3, \"competitive_route\": 1, \"bus_multiplier\": 1.67, \"bus_difference\": 12.0, \"num_trips\": 56, \"num_competitive\": 56, \"pct_trips_competitive\": 1.0, \"bus_difference_spread\": 11.4, \"route_group\": \"short\", \"max_trip_hrs\": 0.52, \"max_trip_route_group\": 0.52, \"name\": \"City of Simi Valley\", \"caltrans_district\": \"07 - Los Angeles\", \"drmt_organization_name\": null, \"cutoff2\": 20, \"cutoff\": 0}, {\"calitp_itp_id\": 308, \"trip_key\": 7826532935182082108, \"trip_id\": \"t_943114_b_24359_tn_0\", \"shape_id\": \"p_898187\", \"route_id\": \"15206\", \"service_hours\": 0.5, \"trip_first_departure_ts\": 34200, \"trip_last_arrival_ts\": 36000, \"departure_hour\": 9, \"time_of_day\": \"AM Peak\", \"p25\": 0.33, \"p50\": 0.41500000000000004, \"p75\": 0.5, \"p50_trip\": 1, \"fastest_trip\": 0, \"car_duration_hours\": 0.3, \"competitive_route\": 1, \"bus_multiplier\": 1.67, \"bus_difference\": 12.0, \"num_trips\": 56, \"num_competitive\": 56, \"pct_trips_competitive\": 1.0, \"bus_difference_spread\": 11.4, \"route_group\": \"short\", \"max_trip_hrs\": 0.52, \"max_trip_route_group\": 0.52, \"name\": \"City of Simi Valley\", \"caltrans_district\": \"07 - Los Angeles\", \"drmt_organization_name\": null, \"cutoff2\": 20, \"cutoff\": 0}, {\"calitp_itp_id\": 308, \"trip_key\": -995582805426313628, \"trip_id\": \"t_943121_b_24359_tn_0\", \"shape_id\": \"p_898187\", \"route_id\": \"15206\", \"service_hours\": 0.5, \"trip_first_departure_ts\": 46800, \"trip_last_arrival_ts\": 48600, \"departure_hour\": 13, \"time_of_day\": \"Midday\", \"p25\": 0.33, \"p50\": 0.41500000000000004, \"p75\": 0.5, \"p50_trip\": 1, \"fastest_trip\": 0, \"car_duration_hours\": 0.3, \"competitive_route\": 1, \"bus_multiplier\": 1.67, \"bus_difference\": 12.0, \"num_trips\": 56, \"num_competitive\": 56, \"pct_trips_competitive\": 1.0, \"bus_difference_spread\": 11.4, \"route_group\": \"short\", \"max_trip_hrs\": 0.52, \"max_trip_route_group\": 0.52, \"name\": \"City of Simi Valley\", \"caltrans_district\": \"07 - Los Angeles\", \"drmt_organization_name\": null, \"cutoff2\": 20, \"cutoff\": 0}, {\"calitp_itp_id\": 308, \"trip_key\": 3281690379974936211, \"trip_id\": \"t_943124_b_24359_tn_0\", \"shape_id\": \"p_898187\", \"route_id\": \"15206\", \"service_hours\": 0.5, \"trip_first_departure_ts\": 52200, \"trip_last_arrival_ts\": 54000, \"departure_hour\": 14, \"time_of_day\": \"Midday\", \"p25\": 0.33, \"p50\": 0.41500000000000004, \"p75\": 0.5, \"p50_trip\": 1, \"fastest_trip\": 0, \"car_duration_hours\": 0.3, \"competitive_route\": 1, \"bus_multiplier\": 1.67, \"bus_difference\": 12.0, \"num_trips\": 56, \"num_competitive\": 56, \"pct_trips_competitive\": 1.0, \"bus_difference_spread\": 11.4, \"route_group\": \"short\", \"max_trip_hrs\": 0.52, \"max_trip_route_group\": 0.52, \"name\": \"City of Simi Valley\", \"caltrans_district\": \"07 - Los Angeles\", \"drmt_organization_name\": null, \"cutoff2\": 20, \"cutoff\": 0}, {\"calitp_itp_id\": 308, \"trip_key\": 6476298289328237587, \"trip_id\": \"t_943115_b_24359_tn_0\", \"shape_id\": \"p_898187\", \"route_id\": \"15206\", \"service_hours\": 0.5, \"trip_first_departure_ts\": 36000, \"trip_last_arrival_ts\": 37800, \"departure_hour\": 10, \"time_of_day\": \"Midday\", \"p25\": 0.33, \"p50\": 0.41500000000000004, \"p75\": 0.5, \"p50_trip\": 1, \"fastest_trip\": 0, \"car_duration_hours\": 0.3, \"competitive_route\": 1, \"bus_multiplier\": 1.67, \"bus_difference\": 12.0, \"num_trips\": 56, \"num_competitive\": 56, \"pct_trips_competitive\": 1.0, \"bus_difference_spread\": 11.4, \"route_group\": \"short\", \"max_trip_hrs\": 0.52, \"max_trip_route_group\": 0.52, \"name\": \"City of Simi Valley\", \"caltrans_district\": \"07 - Los Angeles\", \"drmt_organization_name\": null, \"cutoff2\": 20, \"cutoff\": 0}, {\"calitp_itp_id\": 308, \"trip_key\": 7759242011797943927, \"trip_id\": \"t_943109_b_24359_tn_0\", \"shape_id\": \"p_898187\", \"route_id\": \"15206\", \"service_hours\": 0.5, \"trip_first_departure_ts\": 25200, \"trip_last_arrival_ts\": 27000, \"departure_hour\": 7, \"time_of_day\": \"AM Peak\", \"p25\": 0.33, \"p50\": 0.41500000000000004, \"p75\": 0.5, \"p50_trip\": 1, \"fastest_trip\": 0, \"car_duration_hours\": 0.3, \"competitive_route\": 1, \"bus_multiplier\": 1.67, \"bus_difference\": 12.0, \"num_trips\": 56, \"num_competitive\": 56, \"pct_trips_competitive\": 1.0, \"bus_difference_spread\": 11.4, \"route_group\": \"short\", \"max_trip_hrs\": 0.52, \"max_trip_route_group\": 0.52, \"name\": \"City of Simi Valley\", \"caltrans_district\": \"07 - Los Angeles\", \"drmt_organization_name\": null, \"cutoff2\": 20, \"cutoff\": 0}, {\"calitp_itp_id\": 308, \"trip_key\": 5346566435353817924, \"trip_id\": \"t_943120_b_24359_tn_0\", \"shape_id\": \"p_898187\", \"route_id\": \"15206\", \"service_hours\": 0.5, \"trip_first_departure_ts\": 45000, \"trip_last_arrival_ts\": 46800, \"departure_hour\": 12, \"time_of_day\": \"Midday\", \"p25\": 0.33, \"p50\": 0.41500000000000004, \"p75\": 0.5, \"p50_trip\": 1, \"fastest_trip\": 0, \"car_duration_hours\": 0.3, \"competitive_route\": 1, \"bus_multiplier\": 1.67, \"bus_difference\": 12.0, \"num_trips\": 56, \"num_competitive\": 56, \"pct_trips_competitive\": 1.0, \"bus_difference_spread\": 11.4, \"route_group\": \"short\", \"max_trip_hrs\": 0.52, \"max_trip_route_group\": 0.52, \"name\": \"City of Simi Valley\", \"caltrans_district\": \"07 - Los Angeles\", \"drmt_organization_name\": null, \"cutoff2\": 20, \"cutoff\": 0}, {\"calitp_itp_id\": 308, \"trip_key\": 26886795067199730, \"trip_id\": \"t_943108_b_24359_tn_0\", \"shape_id\": \"p_898187\", \"route_id\": \"15206\", \"service_hours\": 0.5, \"trip_first_departure_ts\": 23400, \"trip_last_arrival_ts\": 25200, \"departure_hour\": 6, \"time_of_day\": \"Owl Service\", \"p25\": 0.33, \"p50\": 0.41500000000000004, \"p75\": 0.5, \"p50_trip\": 1, \"fastest_trip\": 0, \"car_duration_hours\": 0.3, \"competitive_route\": 1, \"bus_multiplier\": 1.67, \"bus_difference\": 12.0, \"num_trips\": 56, \"num_competitive\": 56, \"pct_trips_competitive\": 1.0, \"bus_difference_spread\": 11.4, \"route_group\": \"short\", \"max_trip_hrs\": 0.52, \"max_trip_route_group\": 0.52, \"name\": \"City of Simi Valley\", \"caltrans_district\": \"07 - Los Angeles\", \"drmt_organization_name\": null, \"cutoff2\": 20, \"cutoff\": 0}, {\"calitp_itp_id\": 308, \"trip_key\": 8263220477305444705, \"trip_id\": \"t_943126_b_24359_tn_0\", \"shape_id\": \"p_898187\", \"route_id\": \"15206\", \"service_hours\": 0.5, \"trip_first_departure_ts\": 55800, \"trip_last_arrival_ts\": 57600, \"departure_hour\": 15, \"time_of_day\": \"Midday\", \"p25\": 0.33, \"p50\": 0.41500000000000004, \"p75\": 0.5, \"p50_trip\": 1, \"fastest_trip\": 0, \"car_duration_hours\": 0.3, \"competitive_route\": 1, \"bus_multiplier\": 1.67, \"bus_difference\": 12.0, \"num_trips\": 56, \"num_competitive\": 56, \"pct_trips_competitive\": 1.0, \"bus_difference_spread\": 11.4, \"route_group\": \"short\", \"max_trip_hrs\": 0.52, \"max_trip_route_group\": 0.52, \"name\": \"City of Simi Valley\", \"caltrans_district\": \"07 - Los Angeles\", \"drmt_organization_name\": null, \"cutoff2\": 20, \"cutoff\": 0}, {\"calitp_itp_id\": 308, \"trip_key\": -6939419209454966460, \"trip_id\": \"t_943117_b_24359_tn_0\", \"shape_id\": \"p_898187\", \"route_id\": \"15206\", \"service_hours\": 0.5, \"trip_first_departure_ts\": 39600, \"trip_last_arrival_ts\": 41400, \"departure_hour\": 11, \"time_of_day\": \"Midday\", \"p25\": 0.33, \"p50\": 0.41500000000000004, \"p75\": 0.5, \"p50_trip\": 1, \"fastest_trip\": 0, \"car_duration_hours\": 0.3, \"competitive_route\": 1, \"bus_multiplier\": 1.67, \"bus_difference\": 12.0, \"num_trips\": 56, \"num_competitive\": 56, \"pct_trips_competitive\": 1.0, \"bus_difference_spread\": 11.4, \"route_group\": \"short\", \"max_trip_hrs\": 0.52, \"max_trip_route_group\": 0.52, \"name\": \"City of Simi Valley\", \"caltrans_district\": \"07 - Los Angeles\", \"drmt_organization_name\": null, \"cutoff2\": 20, \"cutoff\": 0}, {\"calitp_itp_id\": 308, \"trip_key\": 7685243856575547949, \"trip_id\": \"t_943123_b_24359_tn_0\", \"shape_id\": \"p_898187\", \"route_id\": \"15206\", \"service_hours\": 0.5, \"trip_first_departure_ts\": 50400, \"trip_last_arrival_ts\": 52200, \"departure_hour\": 14, \"time_of_day\": \"Midday\", \"p25\": 0.33, \"p50\": 0.41500000000000004, \"p75\": 0.5, \"p50_trip\": 1, \"fastest_trip\": 0, \"car_duration_hours\": 0.3, \"competitive_route\": 1, \"bus_multiplier\": 1.67, \"bus_difference\": 12.0, \"num_trips\": 56, \"num_competitive\": 56, \"pct_trips_competitive\": 1.0, \"bus_difference_spread\": 11.4, \"route_group\": \"short\", \"max_trip_hrs\": 0.52, \"max_trip_route_group\": 0.52, \"name\": \"City of Simi Valley\", \"caltrans_district\": \"07 - Los Angeles\", \"drmt_organization_name\": null, \"cutoff2\": 20, \"cutoff\": 0}, {\"calitp_itp_id\": 308, \"trip_key\": -2753794484308387366, \"trip_id\": \"t_943106_b_24359_tn_0\", \"shape_id\": \"p_898187\", \"route_id\": \"15206\", \"service_hours\": 0.5, \"trip_first_departure_ts\": 19800, \"trip_last_arrival_ts\": 21600, \"departure_hour\": 5, \"time_of_day\": \"Owl Service\", \"p25\": 0.33, \"p50\": 0.41500000000000004, \"p75\": 0.5, \"p50_trip\": 1, \"fastest_trip\": 0, \"car_duration_hours\": 0.3, \"competitive_route\": 1, \"bus_multiplier\": 1.67, \"bus_difference\": 12.0, \"num_trips\": 56, \"num_competitive\": 56, \"pct_trips_competitive\": 1.0, \"bus_difference_spread\": 11.4, \"route_group\": \"short\", \"max_trip_hrs\": 0.52, \"max_trip_route_group\": 0.52, \"name\": \"City of Simi Valley\", \"caltrans_district\": \"07 - Los Angeles\", \"drmt_organization_name\": null, \"cutoff2\": 20, \"cutoff\": 0}, {\"calitp_itp_id\": 308, \"trip_key\": 1638024500768460867, \"trip_id\": \"t_943113_b_24359_tn_0\", \"shape_id\": \"p_898187\", \"route_id\": \"15206\", \"service_hours\": 0.5, \"trip_first_departure_ts\": 32400, \"trip_last_arrival_ts\": 34200, \"departure_hour\": 9, \"time_of_day\": \"AM Peak\", \"p25\": 0.33, \"p50\": 0.41500000000000004, \"p75\": 0.5, \"p50_trip\": 1, \"fastest_trip\": 0, \"car_duration_hours\": 0.3, \"competitive_route\": 1, \"bus_multiplier\": 1.67, \"bus_difference\": 12.0, \"num_trips\": 56, \"num_competitive\": 56, \"pct_trips_competitive\": 1.0, \"bus_difference_spread\": 11.4, \"route_group\": \"short\", \"max_trip_hrs\": 0.52, \"max_trip_route_group\": 0.52, \"name\": \"City of Simi Valley\", \"caltrans_district\": \"07 - Los Angeles\", \"drmt_organization_name\": null, \"cutoff2\": 20, \"cutoff\": 0}, {\"calitp_itp_id\": 308, \"trip_key\": -6708986917806240098, \"trip_id\": \"t_943111_b_24359_tn_0\", \"shape_id\": \"p_898187\", \"route_id\": \"15206\", \"service_hours\": 0.5, \"trip_first_departure_ts\": 28800, \"trip_last_arrival_ts\": 30600, \"departure_hour\": 8, \"time_of_day\": \"AM Peak\", \"p25\": 0.33, \"p50\": 0.41500000000000004, \"p75\": 0.5, \"p50_trip\": 1, \"fastest_trip\": 0, \"car_duration_hours\": 0.3, \"competitive_route\": 1, \"bus_multiplier\": 1.67, \"bus_difference\": 12.0, \"num_trips\": 56, \"num_competitive\": 56, \"pct_trips_competitive\": 1.0, \"bus_difference_spread\": 11.4, \"route_group\": \"short\", \"max_trip_hrs\": 0.52, \"max_trip_route_group\": 0.52, \"name\": \"City of Simi Valley\", \"caltrans_district\": \"07 - Los Angeles\", \"drmt_organization_name\": null, \"cutoff2\": 20, \"cutoff\": 0}, {\"calitp_itp_id\": 308, \"trip_key\": -8426351511834028311, \"trip_id\": \"t_943129_b_24359_tn_0\", \"shape_id\": \"p_898187\", \"route_id\": \"15206\", \"service_hours\": 0.5, \"trip_first_departure_ts\": 61200, \"trip_last_arrival_ts\": 63000, \"departure_hour\": 17, \"time_of_day\": \"PM Peak\", \"p25\": 0.33, \"p50\": 0.41500000000000004, \"p75\": 0.5, \"p50_trip\": 1, \"fastest_trip\": 0, \"car_duration_hours\": 0.3, \"competitive_route\": 1, \"bus_multiplier\": 1.67, \"bus_difference\": 12.0, \"num_trips\": 56, \"num_competitive\": 56, \"pct_trips_competitive\": 1.0, \"bus_difference_spread\": 11.4, \"route_group\": \"short\", \"max_trip_hrs\": 0.52, \"max_trip_route_group\": 0.52, \"name\": \"City of Simi Valley\", \"caltrans_district\": \"07 - Los Angeles\", \"drmt_organization_name\": null, \"cutoff2\": 20, \"cutoff\": 0}, {\"calitp_itp_id\": 308, \"trip_key\": -8413614114020087387, \"trip_id\": \"t_943107_b_24359_tn_0\", \"shape_id\": \"p_898187\", \"route_id\": \"15206\", \"service_hours\": 0.5, \"trip_first_departure_ts\": 21600, \"trip_last_arrival_ts\": 23400, \"departure_hour\": 6, \"time_of_day\": \"Owl Service\", \"p25\": 0.33, \"p50\": 0.41500000000000004, \"p75\": 0.5, \"p50_trip\": 1, \"fastest_trip\": 0, \"car_duration_hours\": 0.3, \"competitive_route\": 1, \"bus_multiplier\": 1.67, \"bus_difference\": 12.0, \"num_trips\": 56, \"num_competitive\": 56, \"pct_trips_competitive\": 1.0, \"bus_difference_spread\": 11.4, \"route_group\": \"short\", \"max_trip_hrs\": 0.52, \"max_trip_route_group\": 0.52, \"name\": \"City of Simi Valley\", \"caltrans_district\": \"07 - Los Angeles\", \"drmt_organization_name\": null, \"cutoff2\": 20, \"cutoff\": 0}, {\"calitp_itp_id\": 308, \"trip_key\": 1535253645783132569, \"trip_id\": \"t_943122_b_24359_tn_0\", \"shape_id\": \"p_898187\", \"route_id\": \"15206\", \"service_hours\": 0.5, \"trip_first_departure_ts\": 48600, \"trip_last_arrival_ts\": 50400, \"departure_hour\": 13, \"time_of_day\": \"Midday\", \"p25\": 0.33, \"p50\": 0.41500000000000004, \"p75\": 0.5, \"p50_trip\": 1, \"fastest_trip\": 0, \"car_duration_hours\": 0.3, \"competitive_route\": 1, \"bus_multiplier\": 1.67, \"bus_difference\": 12.0, \"num_trips\": 56, \"num_competitive\": 56, \"pct_trips_competitive\": 1.0, \"bus_difference_spread\": 11.4, \"route_group\": \"short\", \"max_trip_hrs\": 0.52, \"max_trip_route_group\": 0.52, \"name\": \"City of Simi Valley\", \"caltrans_district\": \"07 - Los Angeles\", \"drmt_organization_name\": null, \"cutoff2\": 20, \"cutoff\": 0}, {\"calitp_itp_id\": 308, \"trip_key\": -5427913516834419101, \"trip_id\": \"t_943127_b_24359_tn_0\", \"shape_id\": \"p_898187\", \"route_id\": \"15206\", \"service_hours\": 0.5, \"trip_first_departure_ts\": 57600, \"trip_last_arrival_ts\": 59400, \"departure_hour\": 16, \"time_of_day\": \"Midday\", \"p25\": 0.33, \"p50\": 0.41500000000000004, \"p75\": 0.5, \"p50_trip\": 1, \"fastest_trip\": 0, \"car_duration_hours\": 0.3, \"competitive_route\": 1, \"bus_multiplier\": 1.67, \"bus_difference\": 12.0, \"num_trips\": 56, \"num_competitive\": 56, \"pct_trips_competitive\": 1.0, \"bus_difference_spread\": 11.4, \"route_group\": \"short\", \"max_trip_hrs\": 0.52, \"max_trip_route_group\": 0.52, \"name\": \"City of Simi Valley\", \"caltrans_district\": \"07 - Los Angeles\", \"drmt_organization_name\": null, \"cutoff2\": 20, \"cutoff\": 0}, {\"calitp_itp_id\": 308, \"trip_key\": -6584515016194492990, \"trip_id\": \"t_943110_b_24359_tn_0\", \"shape_id\": \"p_898187\", \"route_id\": \"15206\", \"service_hours\": 0.5, \"trip_first_departure_ts\": 27000, \"trip_last_arrival_ts\": 28800, \"departure_hour\": 7, \"time_of_day\": \"AM Peak\", \"p25\": 0.33, \"p50\": 0.41500000000000004, \"p75\": 0.5, \"p50_trip\": 1, \"fastest_trip\": 0, \"car_duration_hours\": 0.3, \"competitive_route\": 1, \"bus_multiplier\": 1.67, \"bus_difference\": 12.0, \"num_trips\": 56, \"num_competitive\": 56, \"pct_trips_competitive\": 1.0, \"bus_difference_spread\": 11.4, \"route_group\": \"short\", \"max_trip_hrs\": 0.52, \"max_trip_route_group\": 0.52, \"name\": \"City of Simi Valley\", \"caltrans_district\": \"07 - Los Angeles\", \"drmt_organization_name\": null, \"cutoff2\": 20, \"cutoff\": 0}, {\"calitp_itp_id\": 308, \"trip_key\": -7054588329911308985, \"trip_id\": \"t_943118_b_24359_tn_0\", \"shape_id\": \"p_898187\", \"route_id\": \"15206\", \"service_hours\": 0.5, \"trip_first_departure_ts\": 41400, \"trip_last_arrival_ts\": 43200, \"departure_hour\": 11, \"time_of_day\": \"Midday\", \"p25\": 0.33, \"p50\": 0.41500000000000004, \"p75\": 0.5, \"p50_trip\": 1, \"fastest_trip\": 0, \"car_duration_hours\": 0.3, \"competitive_route\": 1, \"bus_multiplier\": 1.67, \"bus_difference\": 12.0, \"num_trips\": 56, \"num_competitive\": 56, \"pct_trips_competitive\": 1.0, \"bus_difference_spread\": 11.4, \"route_group\": \"short\", \"max_trip_hrs\": 0.52, \"max_trip_route_group\": 0.52, \"name\": \"City of Simi Valley\", \"caltrans_district\": \"07 - Los Angeles\", \"drmt_organization_name\": null, \"cutoff2\": 20, \"cutoff\": 0}, {\"calitp_itp_id\": 308, \"trip_key\": -5665756668728020039, \"trip_id\": \"t_943116_b_24359_tn_0\", \"shape_id\": \"p_898187\", \"route_id\": \"15206\", \"service_hours\": 0.5, \"trip_first_departure_ts\": 37800, \"trip_last_arrival_ts\": 39600, \"departure_hour\": 10, \"time_of_day\": \"Midday\", \"p25\": 0.33, \"p50\": 0.41500000000000004, \"p75\": 0.5, \"p50_trip\": 1, \"fastest_trip\": 0, \"car_duration_hours\": 0.3, \"competitive_route\": 1, \"bus_multiplier\": 1.67, \"bus_difference\": 12.0, \"num_trips\": 56, \"num_competitive\": 56, \"pct_trips_competitive\": 1.0, \"bus_difference_spread\": 11.4, \"route_group\": \"short\", \"max_trip_hrs\": 0.52, \"max_trip_route_group\": 0.52, \"name\": \"City of Simi Valley\", \"caltrans_district\": \"07 - Los Angeles\", \"drmt_organization_name\": null, \"cutoff2\": 20, \"cutoff\": 0}, {\"calitp_itp_id\": 308, \"trip_key\": 5576393918378021629, \"trip_id\": \"t_943131_b_24359_tn_0\", \"shape_id\": \"p_898187\", \"route_id\": \"15206\", \"service_hours\": 0.52, \"trip_first_departure_ts\": 64800, \"trip_last_arrival_ts\": 66660, \"departure_hour\": 18, \"time_of_day\": \"PM Peak\", \"p25\": 0.33, \"p50\": 0.41500000000000004, \"p75\": 0.5, \"p50_trip\": 0, \"fastest_trip\": 0, \"car_duration_hours\": 0.3, \"competitive_route\": 1, \"bus_multiplier\": 1.73, \"bus_difference\": 13.2, \"num_trips\": 56, \"num_competitive\": 56, \"pct_trips_competitive\": 1.0, \"bus_difference_spread\": 11.4, \"route_group\": \"short\", \"max_trip_hrs\": 0.52, \"max_trip_route_group\": 0.52, \"name\": \"City of Simi Valley\", \"caltrans_district\": \"07 - Los Angeles\", \"drmt_organization_name\": null, \"cutoff2\": 20, \"cutoff\": 0}, {\"calitp_itp_id\": 308, \"trip_key\": 4175715694418941445, \"trip_id\": \"t_943132_b_24359_tn_0\", \"shape_id\": \"p_898187\", \"route_id\": \"15206\", \"service_hours\": 0.52, \"trip_first_departure_ts\": 66600, \"trip_last_arrival_ts\": 68460, \"departure_hour\": 18, \"time_of_day\": \"PM Peak\", \"p25\": 0.33, \"p50\": 0.41500000000000004, \"p75\": 0.5, \"p50_trip\": 0, \"fastest_trip\": 0, \"car_duration_hours\": 0.3, \"competitive_route\": 1, \"bus_multiplier\": 1.73, \"bus_difference\": 13.2, \"num_trips\": 56, \"num_competitive\": 56, \"pct_trips_competitive\": 1.0, \"bus_difference_spread\": 11.4, \"route_group\": \"short\", \"max_trip_hrs\": 0.52, \"max_trip_route_group\": 0.52, \"name\": \"City of Simi Valley\", \"caltrans_district\": \"07 - Los Angeles\", \"drmt_organization_name\": null, \"cutoff2\": 20, \"cutoff\": 0}, {\"calitp_itp_id\": 308, \"trip_key\": 5919046552257188394, \"trip_id\": \"t_943133_b_24359_tn_0\", \"shape_id\": \"p_898187\", \"route_id\": \"15206\", \"service_hours\": 0.52, \"trip_first_departure_ts\": 68460, \"trip_last_arrival_ts\": 70320, \"departure_hour\": 19, \"time_of_day\": \"PM Peak\", \"p25\": 0.33, \"p50\": 0.41500000000000004, \"p75\": 0.5, \"p50_trip\": 0, \"fastest_trip\": 0, \"car_duration_hours\": 0.3, \"competitive_route\": 1, \"bus_multiplier\": 1.73, \"bus_difference\": 13.2, \"num_trips\": 56, \"num_competitive\": 56, \"pct_trips_competitive\": 1.0, \"bus_difference_spread\": 11.4, \"route_group\": \"short\", \"max_trip_hrs\": 0.52, \"max_trip_route_group\": 0.52, \"name\": \"City of Simi Valley\", \"caltrans_district\": \"07 - Los Angeles\", \"drmt_organization_name\": null, \"cutoff2\": 20, \"cutoff\": 0}]}}, {\"mode\": \"vega-lite\"});\n",
       "</script>"
      ],
      "text/plain": [
       "alt.FacetChart(...)"
      ]
     },
     "metadata": {},
     "output_type": "display_data"
    }
   ],
   "source": [
    "# Allow for possibility that operator doesn't have routes that fall into certain route_groups\n",
    "# But, jupyterbook will not like markdown with f-string\n",
    "# separate out route_group and put in each cell, and use try/except + if to display...\n",
    "# but all 3 route groups must be displayed. just add sentence about why no routes were returned at the end\n",
    "route_group = \"short\"\n",
    "try:\n",
    "    display_charts_for_route_group(df, route_group)\n",
    "except:\n",
    "    print(\"No routes meet this criteria.\")"
   ]
  },
  {
   "cell_type": "markdown",
   "id": "c2931b6f-034d-4384-9e14-80b925e3b820",
   "metadata": {
    "papermill": {
     "duration": 0.018247,
     "end_time": "2022-05-09T17:09:45.892533",
     "exception": false,
     "start_time": "2022-05-09T17:09:45.874286",
     "status": "completed"
    },
    "tags": []
   },
   "source": [
    "### Medium Routes (1-1.5 hrs)"
   ]
  },
  {
   "cell_type": "code",
   "execution_count": 14,
   "id": "480edddc-4de0-48c2-ae4c-b0ceef8f28b5",
   "metadata": {
    "execution": {
     "iopub.execute_input": "2022-05-09T17:09:45.935757Z",
     "iopub.status.busy": "2022-05-09T17:09:45.934815Z",
     "iopub.status.idle": "2022-05-09T17:09:45.950080Z",
     "shell.execute_reply": "2022-05-09T17:09:45.949048Z"
    },
    "jupyter": {
     "source_hidden": true
    },
    "papermill": {
     "duration": 0.038159,
     "end_time": "2022-05-09T17:09:45.952392",
     "exception": false,
     "start_time": "2022-05-09T17:09:45.914233",
     "status": "completed"
    },
    "tags": [
     "remove_input"
    ]
   },
   "outputs": [
    {
     "name": "stdout",
     "output_type": "stream",
     "text": [
      "No routes meet this criteria.\n"
     ]
    }
   ],
   "source": [
    "route_group = \"medium\"\n",
    "try:\n",
    "    display_charts_for_route_group(df, route_group)\n",
    "except:\n",
    "    print(\"No routes meet this criteria.\")"
   ]
  },
  {
   "cell_type": "markdown",
   "id": "124b76d0-886c-4d03-92ac-f1bda3cda182",
   "metadata": {
    "papermill": {
     "duration": 0.020552,
     "end_time": "2022-05-09T17:09:45.994035",
     "exception": false,
     "start_time": "2022-05-09T17:09:45.973483",
     "status": "completed"
    },
    "tags": []
   },
   "source": [
    "### Long Routes (> 1.5 hrs)"
   ]
  },
  {
   "cell_type": "code",
   "execution_count": 15,
   "id": "ddc81b19-4c45-4c81-8b7a-5e0f394aa7a3",
   "metadata": {
    "execution": {
     "iopub.execute_input": "2022-05-09T17:09:46.049799Z",
     "iopub.status.busy": "2022-05-09T17:09:46.048992Z",
     "iopub.status.idle": "2022-05-09T17:09:46.062305Z",
     "shell.execute_reply": "2022-05-09T17:09:46.061348Z"
    },
    "jupyter": {
     "source_hidden": true
    },
    "papermill": {
     "duration": 0.036515,
     "end_time": "2022-05-09T17:09:46.064818",
     "exception": false,
     "start_time": "2022-05-09T17:09:46.028303",
     "status": "completed"
    },
    "tags": [
     "remove_input"
    ]
   },
   "outputs": [
    {
     "name": "stdout",
     "output_type": "stream",
     "text": [
      "No routes meet this criteria.\n"
     ]
    }
   ],
   "source": [
    "route_group = \"long\"\n",
    "try:\n",
    "    display_charts_for_route_group(df, route_group)\n",
    "except:\n",
    "    print(\"No routes meet this criteria.\")"
   ]
  },
  {
   "cell_type": "markdown",
   "id": "ace75b5f-0442-4fbe-aebd-6c3a13ae13a7",
   "metadata": {
    "papermill": {
     "duration": 0.035934,
     "end_time": "2022-05-09T17:09:46.120766",
     "exception": false,
     "start_time": "2022-05-09T17:09:46.084832",
     "status": "completed"
    },
    "tags": []
   },
   "source": [
    "### GTFS Real-Time Speedmaps"
   ]
  },
  {
   "cell_type": "code",
   "execution_count": 16,
   "id": "3f06fdc4-d5a8-41f5-9b72-ed7e8a2dd2fc",
   "metadata": {
    "execution": {
     "iopub.execute_input": "2022-05-09T17:09:46.195569Z",
     "iopub.status.busy": "2022-05-09T17:09:46.195085Z",
     "iopub.status.idle": "2022-05-09T17:09:46.284723Z",
     "shell.execute_reply": "2022-05-09T17:09:46.283576Z"
    },
    "jupyter": {
     "source_hidden": true
    },
    "papermill": {
     "duration": 0.136419,
     "end_time": "2022-05-09T17:09:46.288706",
     "exception": false,
     "start_time": "2022-05-09T17:09:46.152287",
     "status": "completed"
    },
    "tags": [
     "remove_input"
    ]
   },
   "outputs": [
    {
     "data": {
      "text/html": [
       "No GTFS RT data available."
      ],
      "text/plain": [
       "<IPython.core.display.HTML object>"
      ]
     },
     "metadata": {},
     "output_type": "display_data"
    }
   ],
   "source": [
    "PORTFOLIO_SITE_YAML = \"../portfolio/analyses.yml\"\n",
    "\n",
    "# Grab list of ITP IDs with GTFS RT speedmaps\n",
    "rt_itp_id = deploy_portfolio_yaml.check_if_rt_data_available(PORTFOLIO_SITE_YAML)\n",
    "\n",
    "# Construct the URL \n",
    "RT_URL = (\"https://analysis.calitp.org/rt/\"\n",
    "          f\"district_{district_number}-{district_name}/\"\n",
    "          f\"speedmaps__itp_id_{itp_id}.html\"\n",
    "         ) \n",
    "\n",
    "if itp_id in rt_itp_id:\n",
    "    display(HTML('<a href=RT_URL>GTFS RT speedmaps here.</a>'))\n",
    "else:\n",
    "    display(HTML(\"No GTFS RT data available.\"))"
   ]
  },
  {
   "cell_type": "code",
   "execution_count": null,
   "id": "4664fe87-4e5e-4414-9602-a5c9c2a14072",
   "metadata": {
    "jupyter": {
     "source_hidden": true
    },
    "papermill": {
     "duration": 0.03175,
     "end_time": "2022-05-09T17:09:46.355884",
     "exception": false,
     "start_time": "2022-05-09T17:09:46.324134",
     "status": "completed"
    },
    "tags": [
     "remove_input"
    ]
   },
   "outputs": [],
   "source": []
  }
 ],
 "metadata": {
  "kernelspec": {
   "display_name": "Python 3 (ipykernel)",
   "language": "python",
   "name": "python3"
  },
  "language_info": {
   "codemirror_mode": {
    "name": "ipython",
    "version": 3
   },
   "file_extension": ".py",
   "mimetype": "text/x-python",
   "name": "python",
   "nbconvert_exporter": "python",
   "pygments_lexer": "ipython3",
   "version": "3.9.12"
  },
  "papermill": {
   "default_parameters": {},
   "duration": 27.092355,
   "end_time": "2022-05-09T17:09:48.226643",
   "environment_variables": {},
   "exception": null,
   "input_path": "bus_service_increase/competitive-parallel-routes.ipynb",
   "output_path": "portfolio/parallel_corridors/district_07-los-angeles/competitive-parallel-routes__itp_id_308.ipynb",
   "parameters": {
    "district": "07 - Los Angeles",
    "itp_id": 308
   },
   "start_time": "2022-05-09T17:09:21.134288",
   "version": "2.3.4"
  }
 },
 "nbformat": 4,
 "nbformat_minor": 5
}