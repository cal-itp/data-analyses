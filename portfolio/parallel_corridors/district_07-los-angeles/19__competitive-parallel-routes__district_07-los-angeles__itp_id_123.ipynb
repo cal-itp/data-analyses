{
 "cells": [
  {
   "cell_type": "code",
   "execution_count": 1,
   "id": "95d00857-6a20-4529-a519-2cc7182928a9",
   "metadata": {
    "execution": {
     "iopub.execute_input": "2022-05-11T22:22:10.683555Z",
     "iopub.status.busy": "2022-05-11T22:22:10.683238Z",
     "iopub.status.idle": "2022-05-11T22:22:19.117306Z",
     "shell.execute_reply": "2022-05-11T22:22:19.116394Z"
    },
    "jupyter": {
     "source_hidden": true
    },
    "papermill": {
     "duration": 8.451326,
     "end_time": "2022-05-11T22:22:19.119903",
     "exception": false,
     "start_time": "2022-05-11T22:22:10.668577",
     "status": "completed"
    },
    "tags": [
     "remove_input"
    ]
   },
   "outputs": [],
   "source": [
    "%%capture\n",
    "import warnings\n",
    "warnings.filterwarnings('ignore')\n",
    "\n",
    "import altair as alt\n",
    "import calitp.magics\n",
    "import geopandas as gpd\n",
    "import intake\n",
    "import pandas as pd\n",
    "\n",
    "from IPython.display import display, Markdown, HTML\n",
    "\n",
    "import parallel_corridors_utils\n",
    "import deploy_portfolio_yaml\n",
    "from shared_utils import styleguide, geography_utils\n",
    "from make_stripplot_data import diff_cutoffs\n",
    "\n",
    "catalog = intake.open_catalog(\"./*.yml\")\n",
    "alt.renderers.enable(\"html\")"
   ]
  },
  {
   "cell_type": "code",
   "execution_count": 2,
   "id": "8af2a0c1-f3da-408d-9bea-11d9fbf8695d",
   "metadata": {
    "execution": {
     "iopub.execute_input": "2022-05-11T22:22:19.158800Z",
     "iopub.status.busy": "2022-05-11T22:22:19.158435Z",
     "iopub.status.idle": "2022-05-11T22:22:19.162578Z",
     "shell.execute_reply": "2022-05-11T22:22:19.161614Z"
    },
    "jupyter": {
     "source_hidden": true
    },
    "papermill": {
     "duration": 0.033036,
     "end_time": "2022-05-11T22:22:19.165235",
     "exception": false,
     "start_time": "2022-05-11T22:22:19.132199",
     "status": "completed"
    },
    "tags": [
     "parameters",
     "remove_input"
    ]
   },
   "outputs": [],
   "source": [
    "# parameters cell\n",
    "itp_id = 182"
   ]
  },
  {
   "cell_type": "code",
   "execution_count": 3,
   "id": "4337cb24",
   "metadata": {
    "execution": {
     "iopub.execute_input": "2022-05-11T22:22:19.191745Z",
     "iopub.status.busy": "2022-05-11T22:22:19.191470Z",
     "iopub.status.idle": "2022-05-11T22:22:19.195313Z",
     "shell.execute_reply": "2022-05-11T22:22:19.194497Z"
    },
    "jupyter": {
     "source_hidden": true
    },
    "papermill": {
     "duration": 0.019276,
     "end_time": "2022-05-11T22:22:19.197073",
     "exception": false,
     "start_time": "2022-05-11T22:22:19.177797",
     "status": "completed"
    },
    "tags": [
     "injected-parameters",
     "remove_input"
    ]
   },
   "outputs": [],
   "source": [
    "# Parameters\n",
    "district = \"07 - Los Angeles\"\n",
    "itp_id = 123\n"
   ]
  },
  {
   "cell_type": "code",
   "execution_count": 4,
   "id": "9582aaf4-79ff-412a-b248-8d8d693ebd4f",
   "metadata": {
    "execution": {
     "iopub.execute_input": "2022-05-11T22:22:19.223373Z",
     "iopub.status.busy": "2022-05-11T22:22:19.222439Z",
     "iopub.status.idle": "2022-05-11T22:22:20.465517Z",
     "shell.execute_reply": "2022-05-11T22:22:20.464632Z"
    },
    "jupyter": {
     "source_hidden": true
    },
    "papermill": {
     "duration": 1.258519,
     "end_time": "2022-05-11T22:22:20.467748",
     "exception": false,
     "start_time": "2022-05-11T22:22:19.209229",
     "status": "completed"
    },
    "tags": [
     "remove_input"
    ]
   },
   "outputs": [],
   "source": [
    "df = catalog.competitive_route_variability.read()\n",
    "\n",
    "df = (df[(df.calitp_itp_id == itp_id) & \n",
    "         (df.route_group.notna())]\n",
    "      .rename(columns = {\"route_name_used\": \"route_name\"})\n",
    "      .reset_index(drop=True)\n",
    "     )\n",
    "\n",
    "if itp_id == 182:\n",
    "    df = df.assign(\n",
    "        route_id = df.route_id.str.replace('-13153', '').astype(int)\n",
    "    )"
   ]
  },
  {
   "cell_type": "code",
   "execution_count": 5,
   "id": "33ac4b06-f647-4dce-a625-8f2c1b37cc60",
   "metadata": {
    "execution": {
     "iopub.execute_input": "2022-05-11T22:22:20.496924Z",
     "iopub.status.busy": "2022-05-11T22:22:20.496417Z",
     "iopub.status.idle": "2022-05-11T22:22:20.503435Z",
     "shell.execute_reply": "2022-05-11T22:22:20.502804Z"
    },
    "jupyter": {
     "source_hidden": true
    },
    "papermill": {
     "duration": 0.024639,
     "end_time": "2022-05-11T22:22:20.505034",
     "exception": false,
     "start_time": "2022-05-11T22:22:20.480395",
     "status": "completed"
    },
    "tags": [
     "remove_input"
    ]
   },
   "outputs": [],
   "source": [
    "%%capture_parameters\n",
    "operator_name = df.name.iloc[0]\n",
    "district_number = f\"{df.caltrans_district.iloc[0].split('-')[0].strip()}\"\n",
    "district_name = f\"{df.caltrans_district.iloc[0].split('-')[1].strip().lower().replace(' ', '-')}\"\n",
    "\n",
    "itp_id, operator_name, district_number, district_name"
   ]
  },
  {
   "cell_type": "markdown",
   "id": "65bc6f5c-8348-42ee-b2dd-52057c406852",
   "metadata": {
    "papermill": {
     "duration": 0.012013,
     "end_time": "2022-05-11T22:22:20.529196",
     "exception": false,
     "start_time": "2022-05-11T22:22:20.517183",
     "status": "completed"
    },
    "tags": []
   },
   "source": [
    "# Gold Coast Transit (ITP ID: 123)"
   ]
  },
  {
   "cell_type": "code",
   "execution_count": 6,
   "id": "a689c1ab-2c6c-4831-8d64-897f5986f571",
   "metadata": {
    "execution": {
     "iopub.execute_input": "2022-05-11T22:22:20.555740Z",
     "iopub.status.busy": "2022-05-11T22:22:20.555214Z",
     "iopub.status.idle": "2022-05-11T22:22:20.560967Z",
     "shell.execute_reply": "2022-05-11T22:22:20.560436Z"
    },
    "jupyter": {
     "source_hidden": true
    },
    "papermill": {
     "duration": 0.021648,
     "end_time": "2022-05-11T22:22:20.562735",
     "exception": false,
     "start_time": "2022-05-11T22:22:20.541087",
     "status": "completed"
    },
    "tags": [
     "remove_input"
    ]
   },
   "outputs": [
    {
     "data": {
      "text/html": [
       "<h1>Competitive & Parallel Routes</h1>"
      ],
      "text/plain": [
       "<IPython.core.display.HTML object>"
      ]
     },
     "metadata": {},
     "output_type": "display_data"
    }
   ],
   "source": [
    "display(HTML(\"<h1>Competitive & Parallel Routes</h1>\")) "
   ]
  },
  {
   "cell_type": "code",
   "execution_count": 7,
   "id": "2cb4d8d5-4760-40e4-85b1-cb833d8bb648",
   "metadata": {
    "execution": {
     "iopub.execute_input": "2022-05-11T22:22:20.598689Z",
     "iopub.status.busy": "2022-05-11T22:22:20.598159Z",
     "iopub.status.idle": "2022-05-11T22:22:32.209722Z",
     "shell.execute_reply": "2022-05-11T22:22:32.208730Z"
    },
    "jupyter": {
     "source_hidden": true
    },
    "papermill": {
     "duration": 11.64329,
     "end_time": "2022-05-11T22:22:32.218304",
     "exception": false,
     "start_time": "2022-05-11T22:22:20.575014",
     "status": "completed"
    },
    "tags": [
     "remove_input"
    ]
   },
   "outputs": [],
   "source": [
    "# Grab parameters for narrative text - clean up formatting here \n",
    "district = df.caltrans_district.iloc[0]\n",
    "formatted_date = pd.to_datetime(parallel_corridors_utils.SELECTED_DATE).strftime('%m-%d-%Y')\n",
    "\n",
    "PCT_COMPETITIVE_THRESHOLD = 0.75\n",
    "PCT_TRIPS_BELOW_CUTOFF = 0.50\n",
    "\n",
    "stats = parallel_corridors_utils.operator_parallel_competitive_stats(\n",
    "    itp_id, PCT_COMPETITIVE_THRESHOLD, PCT_TRIPS_BELOW_CUTOFF)\n",
    "\n",
    "pct_parallel = round(stats['parallel_routes'] / stats['num_routes'] * 100, 1 )\n",
    "pct_competitive =  round(stats['competitive_routes'] / stats['num_routes'] * 100, 1 )\n",
    "pct_viable =  round(stats['viable_competitive_routes'] / stats['num_routes'] * 100, 1 )"
   ]
  },
  {
   "cell_type": "code",
   "execution_count": 8,
   "id": "8bf30c8f-6aa5-47bb-82ae-a906732e81fd",
   "metadata": {
    "execution": {
     "iopub.execute_input": "2022-05-11T22:22:32.273547Z",
     "iopub.status.busy": "2022-05-11T22:22:32.271939Z",
     "iopub.status.idle": "2022-05-11T22:22:32.312488Z",
     "shell.execute_reply": "2022-05-11T22:22:32.311622Z"
    },
    "jupyter": {
     "source_hidden": true
    },
    "papermill": {
     "duration": 0.067375,
     "end_time": "2022-05-11T22:22:32.314965",
     "exception": false,
     "start_time": "2022-05-11T22:22:32.247590",
     "status": "completed"
    },
    "tags": [
     "remove_input"
    ]
   },
   "outputs": [],
   "source": [
    "# Display a table of route-level stats for each route_group\n",
    "# Displaying route_name makes chart too crowded\n",
    "\n",
    "# Get route stats (for entire df)\n",
    "route_stats = parallel_corridors_utils.competitive_route_level_stats(df)\n",
    "    \n",
    "def style_route_stats(df, top15_routes):\n",
    "    df = df[df.route_id.isin(top15_routes)]\n",
    "    \n",
    "    # Rename columns for display\n",
    "    rename_cols = {\n",
    "        \"route_id\": \"Route ID\",\n",
    "        \"route_name\": \"Route Name\",\n",
    "        \"route_group\": \"Route Group\",\n",
    "        \"num_trips\": \"# trips\",\n",
    "        \"daily_avg_freq\": \"Daily Avg Frequency (trips per hr)\",\n",
    "        \"pm_peak_freq\": \"PM Peak Avg Frequency (trips per hr)\",\n",
    "        \"percentiles\": \"25th, 50th, 75th ptile (hrs)\",\n",
    "    }\n",
    "    \n",
    "    # Style it\n",
    "    drop_cols = [\n",
    "        \"calitp_itp_id\", \"below_cutoff\", \"route_group\", \n",
    "        \"pct_trips_competitive\", \"pct_below_cutoff\",\n",
    "        \"p25\", \"p50\", \"p75\",\n",
    "    ]\n",
    "    \n",
    "    df_style = (df.sort_values(\n",
    "        [\"pct_trips_competitive\", \"below_cutoff\", \n",
    "        \"pct_below_cutoff\", \"route_id\"], \n",
    "        ascending=[False, False, False, True])\n",
    "           .drop(columns = drop_cols)\n",
    "           .rename(columns = rename_cols)\n",
    "           .style.format({\n",
    "               #'% trips within 2x car travel': '{:,.1%}', \n",
    "               'Daily Avg Frequency (trips per hr)': '{:,.3}',\n",
    "               'PM Peak Avg Frequency (trips per hr)': '{:,.3}',\n",
    "           })\n",
    "           .hide(axis=\"index\")\n",
    "           .to_html()\n",
    "          )\n",
    "    \n",
    "    display(HTML(\"<h4>Route Stats</h4>\"))\n",
    "    display(HTML(df_style))"
   ]
  },
  {
   "cell_type": "markdown",
   "id": "ab667928-5274-4490-82d9-4c39293209a4",
   "metadata": {
    "papermill": {
     "duration": 0.016485,
     "end_time": "2022-05-11T22:22:32.352360",
     "exception": false,
     "start_time": "2022-05-11T22:22:32.335875",
     "status": "completed"
    },
    "tags": []
   },
   "source": [
    "## Quick Stats"
   ]
  },
  {
   "cell_type": "code",
   "execution_count": 9,
   "id": "0416509d-dc62-4165-b62e-64f8b26e8b8e",
   "metadata": {
    "execution": {
     "iopub.execute_input": "2022-05-11T22:22:32.380110Z",
     "iopub.status.busy": "2022-05-11T22:22:32.379859Z",
     "iopub.status.idle": "2022-05-11T22:22:32.390091Z",
     "shell.execute_reply": "2022-05-11T22:22:32.389276Z"
    },
    "jupyter": {
     "source_hidden": true
    },
    "papermill": {
     "duration": 0.027488,
     "end_time": "2022-05-11T22:22:32.392867",
     "exception": false,
     "start_time": "2022-05-11T22:22:32.365379",
     "status": "completed"
    },
    "tags": [
     "remove_input"
    ]
   },
   "outputs": [
    {
     "data": {
      "text/markdown": [
       "**Bus routes in service: 23**<br>**Parallel routes** to State Highway Network (SHN): **7 routes (30.4%)**<br>**Competitive routes** against car travel (within 2x car travel time): **3 routes (13.0%)**<br>**Viable competitive routes** against car travel (within 2x car travel time and within 20, 30, or 40 min cut-off): **2 routes (8.7%)**"
      ],
      "text/plain": [
       "<IPython.core.display.Markdown object>"
      ]
     },
     "metadata": {},
     "output_type": "display_data"
    }
   ],
   "source": [
    "display(\n",
    "    Markdown(\n",
    "        f\"**Bus routes in service: {stats['num_routes']}**\"\n",
    "        \"<br>**Parallel routes** to State Highway Network (SHN): \"\n",
    "        f\"**{stats['parallel_routes']} routes ({pct_parallel}%)**\"\n",
    "        \"<br>**Competitive routes** against car travel (within 2x car travel time): \"\n",
    "        f\"**{stats['competitive_routes']} routes ({pct_competitive}%)**\"\n",
    "        \"<br>**Viable competitive routes** against car travel \"\n",
    "        \"(within 2x car travel time and within 20, 30, or 40 min cut-off): \"\n",
    "        f\"**{stats['viable_competitive_routes']} routes ({pct_viable}%)**\"\n",
    "    )\n",
    ")"
   ]
  },
  {
   "cell_type": "code",
   "execution_count": 10,
   "id": "f9d6ab58-f0ee-460c-b6de-657490e1f386",
   "metadata": {
    "execution": {
     "iopub.execute_input": "2022-05-11T22:22:32.427526Z",
     "iopub.status.busy": "2022-05-11T22:22:32.427169Z",
     "iopub.status.idle": "2022-05-11T22:22:32.434212Z",
     "shell.execute_reply": "2022-05-11T22:22:32.433617Z"
    },
    "jupyter": {
     "source_hidden": true
    },
    "papermill": {
     "duration": 0.026899,
     "end_time": "2022-05-11T22:22:32.436074",
     "exception": false,
     "start_time": "2022-05-11T22:22:32.409175",
     "status": "completed"
    },
    "tags": [
     "remove_input"
    ]
   },
   "outputs": [],
   "source": [
    "def set_yaxis_range(df, y_col):\n",
    "    Y_MIN = df[y_col].min()\n",
    "    Y_MAX = df[y_col].max()\n",
    "    \n",
    "    return Y_MIN, Y_MAX\n",
    "\n",
    "# Rather than set it according to the operator, which can vary,\n",
    "# just use set thresholds for each group\n",
    "def top15_routes(df, route_group):\n",
    "    # grab top 15 routes where majority of trips are below that cut-off \n",
    "    # but show 15 max, otherwise, show less, since these won't be as interesting to operators\n",
    "    df2 = (df[(df.route_group==route_group) &\n",
    "              (df.pct_below_cutoff >= PCT_TRIPS_BELOW_CUTOFF)]\n",
    "           .sort_values([\"calitp_itp_id\", \"below_cutoff\", \n",
    "                         \"pct_below_cutoff\", \"route_id\"],\n",
    "                        ascending = [True, False, False, True]\n",
    "                       )\n",
    "           .drop_duplicates(subset=[\"calitp_itp_id\", \"route_id\"])\n",
    "          ).head(15)\n",
    "    \n",
    "    return list(df2.route_id)"
   ]
  },
  {
   "cell_type": "code",
   "execution_count": 11,
   "id": "cf36d559-3349-4144-8086-8ac9ce937a5a",
   "metadata": {
    "execution": {
     "iopub.execute_input": "2022-05-11T22:22:32.464276Z",
     "iopub.status.busy": "2022-05-11T22:22:32.463785Z",
     "iopub.status.idle": "2022-05-11T22:22:32.470588Z",
     "shell.execute_reply": "2022-05-11T22:22:32.470025Z"
    },
    "jupyter": {
     "source_hidden": true
    },
    "papermill": {
     "duration": 0.023419,
     "end_time": "2022-05-11T22:22:32.472391",
     "exception": false,
     "start_time": "2022-05-11T22:22:32.448972",
     "status": "completed"
    },
    "tags": [
     "remove_input"
    ]
   },
   "outputs": [],
   "source": [
    "def caption_with_cutoff(cutoff):\n",
    "    sentence = (\n",
    "        f\"<br>These are routes that have **at least {int(PCT_TRIPS_BELOW_CUTOFF*100)}% \"\n",
    "        \"of their trips take no more than an \"\n",
    "        f\"additional {cutoff} min** compared to a car \"\n",
    "        \"(up to 15 routes) are shown.\"\n",
    "        \"<br>Within each route group, routes are sorted in descending order \"\n",
    "        \"by % competitive trips and # trips below the additional time cut-off.\"\n",
    "    )\n",
    "    return sentence\n",
    "\n",
    "CAPTIONS_DICT = {\n",
    "    \"short\": caption_with_cutoff(diff_cutoffs['short']),\n",
    "    \"medium\": caption_with_cutoff(diff_cutoffs['medium']),\n",
    "    \"long\": caption_with_cutoff(diff_cutoffs['long']),\n",
    "}"
   ]
  },
  {
   "cell_type": "code",
   "execution_count": 12,
   "id": "e4306d58-6944-47e9-afef-5d5b524c751f",
   "metadata": {
    "execution": {
     "iopub.execute_input": "2022-05-11T22:22:32.508662Z",
     "iopub.status.busy": "2022-05-11T22:22:32.508200Z",
     "iopub.status.idle": "2022-05-11T22:22:32.514944Z",
     "shell.execute_reply": "2022-05-11T22:22:32.514397Z"
    },
    "jupyter": {
     "source_hidden": true
    },
    "papermill": {
     "duration": 0.026336,
     "end_time": "2022-05-11T22:22:32.516702",
     "exception": false,
     "start_time": "2022-05-11T22:22:32.490366",
     "status": "completed"
    },
    "tags": [
     "remove_input"
    ]
   },
   "outputs": [],
   "source": [
    "def setup_charts(df, PCT_COMPETITIVE_THRESHOLD, route_group):\n",
    "    # Set up df for charting (cut-off at some threshold to show most competitive routes)\n",
    "    plot_me = (df[df.pct_trips_competitive > PCT_COMPETITIVE_THRESHOLD]\n",
    "           .drop(columns = \"geometry\")\n",
    "    )\n",
    "    \n",
    "    # Set y-ranges to be the same across route_groups, \n",
    "    # otherwise charts fluctuate too much, even within operator\n",
    "    y_col1 = \"bus_multiplier\"\n",
    "    Y_MIN1, Y_MAX1 = set_yaxis_range(plot_me, y_col1)\n",
    "\n",
    "    y_col2 = \"bus_difference\"\n",
    "    Y_MIN2, Y_MAX2 = set_yaxis_range(plot_me, y_col2)\n",
    "    \n",
    "    # Grab the routes to plot\n",
    "    subset_routes = top15_routes(plot_me, route_group)\n",
    "        \n",
    "    # Display charts\n",
    "    multiplier_chart = parallel_corridors_utils.make_stripplot(\n",
    "        plot_me[plot_me.route_id.isin(subset_routes)], \n",
    "        y_col1, Y_MIN = Y_MIN1, Y_MAX = Y_MAX1\n",
    "    )\n",
    "    \n",
    "    difference_chart = parallel_corridors_utils.make_stripplot(\n",
    "        plot_me[plot_me.route_id.isin(subset_routes)], \n",
    "        y_col2, Y_MIN = Y_MIN2, Y_MAX = Y_MAX2\n",
    "    )\n",
    "    \n",
    "    return subset_routes, multiplier_chart, difference_chart            "
   ]
  },
  {
   "cell_type": "code",
   "execution_count": 13,
   "id": "33a710e8-504c-4942-aa75-ff69f216956e",
   "metadata": {
    "execution": {
     "iopub.execute_input": "2022-05-11T22:22:32.546906Z",
     "iopub.status.busy": "2022-05-11T22:22:32.546615Z",
     "iopub.status.idle": "2022-05-11T22:22:32.551884Z",
     "shell.execute_reply": "2022-05-11T22:22:32.550981Z"
    },
    "jupyter": {
     "source_hidden": true
    },
    "papermill": {
     "duration": 0.023257,
     "end_time": "2022-05-11T22:22:32.553740",
     "exception": false,
     "start_time": "2022-05-11T22:22:32.530483",
     "status": "completed"
    },
    "tags": [
     "remove_input"
    ]
   },
   "outputs": [],
   "source": [
    "def display_charts_for_route_group(df, route_group):    \n",
    "    subset_routes, mult, diff  = setup_charts(df, PCT_COMPETITIVE_THRESHOLD, route_group)\n",
    "\n",
    "    if len(subset_routes) > 0:\n",
    "        display(Markdown(f\"{CAPTIONS_DICT[route_group]}\"))\n",
    "\n",
    "        display(mult)\n",
    "        display(diff)\n",
    "        \n",
    "        # Display route stats for just plotted routes\n",
    "        style_route_stats(route_stats, subset_routes)"
   ]
  },
  {
   "cell_type": "markdown",
   "id": "525f9b38-072b-46d1-96a8-1aa4b038357c",
   "metadata": {
    "papermill": {
     "duration": 0.014204,
     "end_time": "2022-05-11T22:22:32.581664",
     "exception": false,
     "start_time": "2022-05-11T22:22:32.567460",
     "status": "completed"
    },
    "tags": []
   },
   "source": [
    "## Viable Competitive Routes\n",
    "### Short Routes (< 1 hr)"
   ]
  },
  {
   "cell_type": "code",
   "execution_count": 14,
   "id": "57f7084c-2cf7-45c6-ba08-1609e0bd6ca5",
   "metadata": {
    "execution": {
     "iopub.execute_input": "2022-05-11T22:22:32.622463Z",
     "iopub.status.busy": "2022-05-11T22:22:32.622113Z",
     "iopub.status.idle": "2022-05-11T22:22:33.046466Z",
     "shell.execute_reply": "2022-05-11T22:22:33.045540Z"
    },
    "jupyter": {
     "source_hidden": true
    },
    "papermill": {
     "duration": 0.444308,
     "end_time": "2022-05-11T22:22:33.049414",
     "exception": false,
     "start_time": "2022-05-11T22:22:32.605106",
     "status": "completed"
    },
    "tags": [
     "remove_input"
    ]
   },
   "outputs": [
    {
     "data": {
      "text/markdown": [
       "<br>These are routes that have **at least 50% of their trips take no more than an additional 20 min** compared to a car (up to 15 routes) are shown.<br>Within each route group, routes are sorted in descending order by % competitive trips and # trips below the additional time cut-off."
      ],
      "text/plain": [
       "<IPython.core.display.Markdown object>"
      ]
     },
     "metadata": {},
     "output_type": "display_data"
    },
    {
     "data": {
      "text/html": [
       "\n",
       "<div id=\"altair-viz-1c783f9821614ca0befae4fdd0031d68\"></div>\n",
       "<script type=\"text/javascript\">\n",
       "  var VEGA_DEBUG = (typeof VEGA_DEBUG == \"undefined\") ? {} : VEGA_DEBUG;\n",
       "  (function(spec, embedOpt){\n",
       "    let outputDiv = document.currentScript.previousElementSibling;\n",
       "    if (outputDiv.id !== \"altair-viz-1c783f9821614ca0befae4fdd0031d68\") {\n",
       "      outputDiv = document.getElementById(\"altair-viz-1c783f9821614ca0befae4fdd0031d68\");\n",
       "    }\n",
       "    const paths = {\n",
       "      \"vega\": \"https://cdn.jsdelivr.net/npm//vega@5?noext\",\n",
       "      \"vega-lib\": \"https://cdn.jsdelivr.net/npm//vega-lib?noext\",\n",
       "      \"vega-lite\": \"https://cdn.jsdelivr.net/npm//vega-lite@4.17.0?noext\",\n",
       "      \"vega-embed\": \"https://cdn.jsdelivr.net/npm//vega-embed@6?noext\",\n",
       "    };\n",
       "\n",
       "    function maybeLoadScript(lib, version) {\n",
       "      var key = `${lib.replace(\"-\", \"\")}_version`;\n",
       "      return (VEGA_DEBUG[key] == version) ?\n",
       "        Promise.resolve(paths[lib]) :\n",
       "        new Promise(function(resolve, reject) {\n",
       "          var s = document.createElement('script');\n",
       "          document.getElementsByTagName(\"head\")[0].appendChild(s);\n",
       "          s.async = true;\n",
       "          s.onload = () => {\n",
       "            VEGA_DEBUG[key] = version;\n",
       "            return resolve(paths[lib]);\n",
       "          };\n",
       "          s.onerror = () => reject(`Error loading script: ${paths[lib]}`);\n",
       "          s.src = paths[lib];\n",
       "        });\n",
       "    }\n",
       "\n",
       "    function showError(err) {\n",
       "      outputDiv.innerHTML = `<div class=\"error\" style=\"color:red;\">${err}</div>`;\n",
       "      throw err;\n",
       "    }\n",
       "\n",
       "    function displayChart(vegaEmbed) {\n",
       "      vegaEmbed(outputDiv, spec, embedOpt)\n",
       "        .catch(err => showError(`Javascript Error: ${err.message}<br>This usually means there's a typo in your chart specification. See the javascript console for the full traceback.`));\n",
       "    }\n",
       "\n",
       "    if(typeof define === \"function\" && define.amd) {\n",
       "      requirejs.config({paths});\n",
       "      require([\"vega-embed\"], displayChart, err => showError(`Error loading script: ${err.message}`));\n",
       "    } else {\n",
       "      maybeLoadScript(\"vega\", \"5\")\n",
       "        .then(() => maybeLoadScript(\"vega-lite\", \"4.17.0\"))\n",
       "        .then(() => maybeLoadScript(\"vega-embed\", \"6\"))\n",
       "        .catch(showError)\n",
       "        .then(() => displayChart(vegaEmbed));\n",
       "    }\n",
       "  })({\"config\": {\"view\": {\"continuousWidth\": 400, \"continuousHeight\": 300, \"stroke\": null}, \"facet\": {\"spacing\": 0}}, \"data\": {\"name\": \"data-3a561c21f1f0b0344786d645010b7ae0\"}, \"facet\": {\"column\": {\"field\": \"route_id\", \"sort\": [\"15\", \"11\"], \"title\": \"Route ID\", \"type\": \"nominal\"}}, \"spec\": {\"layer\": [{\"mark\": \"rule\", \"encoding\": {\"color\": {\"value\": \"black\"}, \"y\": {\"field\": \"cutoff\", \"type\": \"quantitative\"}}, \"selection\": {\"selector001\": {\"type\": \"interval\", \"bind\": \"scales\", \"encodings\": [\"x\", \"y\"]}}}, {\"mark\": {\"type\": \"point\", \"opacity\": 0.65, \"size\": 12, \"strokeWidth\": 1.1}, \"encoding\": {\"color\": {\"field\": \"time_of_day\", \"scale\": {\"range\": [\"#136C97\", \"#E16B26\", \"#F6BF16\", \"#00896B\", \"#7790A3\", \"#5B559C\"]}, \"sort\": [\"AM Peak\", \"Midday\", \"PM Peak\", \"Owl Service\"], \"title\": \"Time of Day\", \"type\": \"nominal\"}, \"tooltip\": [{\"field\": \"route_id\", \"type\": \"nominal\"}, {\"field\": \"route_name\", \"type\": \"nominal\"}, {\"field\": \"trip_id\", \"type\": \"nominal\"}, {\"field\": \"service_hours\", \"type\": \"quantitative\"}, {\"field\": \"car_duration_hours\", \"type\": \"quantitative\"}, {\"field\": \"bus_multiplier\", \"type\": \"quantitative\"}, {\"field\": \"bus_difference\", \"type\": \"quantitative\"}, {\"field\": \"num_trips\", \"type\": \"quantitative\"}, {\"field\": \"num_competitive\", \"type\": \"quantitative\"}, {\"field\": \"pct_trips_competitive\", \"type\": \"quantitative\"}, {\"field\": \"p25\", \"type\": \"quantitative\"}, {\"field\": \"p50\", \"type\": \"quantitative\"}, {\"field\": \"p75\", \"type\": \"quantitative\"}], \"x\": {\"axis\": {\"grid\": false, \"labels\": false, \"ticks\": true, \"values\": [0]}, \"field\": \"jitter\", \"scale\": {}, \"title\": null, \"type\": \"quantitative\"}, \"y\": {\"field\": \"bus_multiplier\", \"scale\": {\"domain\": [-0.25, 3.0]}, \"title\": \"Ratio of Bus to Car Travel Time\", \"type\": \"quantitative\"}}, \"transform\": [{\"calculate\": \"sqrt(-2*log(random()))*cos(2*PI*random())\", \"as\": \"jitter\"}], \"width\": 50}, {\"layer\": [{\"mark\": {\"type\": \"point\", \"opacity\": 0.6, \"size\": 20, \"strokeWidth\": 1.3}, \"encoding\": {\"color\": {\"value\": \"#323434\"}, \"y\": {\"field\": \"bus_multiplier\", \"type\": \"quantitative\"}}, \"transform\": [{\"filter\": \"(datum.p50_trip === 1)\"}]}, {\"mark\": {\"type\": \"text\", \"align\": \"center\", \"baseline\": \"middle\"}, \"encoding\": {\"color\": {\"value\": \"black\"}, \"text\": {\"field\": \"pct_trips_competitive\", \"format\": \".0%\", \"type\": \"quantitative\"}, \"tooltip\": [{\"field\": \"route_id\", \"type\": \"nominal\"}, {\"field\": \"route_name\", \"type\": \"nominal\"}, {\"field\": \"trip_id\", \"type\": \"nominal\"}, {\"field\": \"service_hours\", \"type\": \"quantitative\"}, {\"field\": \"car_duration_hours\", \"type\": \"quantitative\"}, {\"field\": \"bus_multiplier\", \"type\": \"quantitative\"}, {\"field\": \"bus_difference\", \"type\": \"quantitative\"}, {\"field\": \"num_trips\", \"type\": \"quantitative\"}, {\"field\": \"num_competitive\", \"type\": \"quantitative\"}, {\"field\": \"pct_trips_competitive\", \"type\": \"quantitative\"}, {\"field\": \"p25\", \"type\": \"quantitative\"}, {\"field\": \"p50\", \"type\": \"quantitative\"}, {\"field\": \"p75\", \"type\": \"quantitative\"}], \"x\": {\"value\": 30}, \"y\": {\"value\": 15}}, \"transform\": [{\"calculate\": \"sqrt(-2*log(random()))*cos(2*PI*random())\", \"as\": \"jitter\"}, {\"filter\": \"(datum.fastest_trip === 1)\"}]}]}]}, \"resolve\": {\"scale\": {\"y\": \"shared\"}}, \"title\": \"Ratio of Bus to Car Travel Time\", \"$schema\": \"https://vega.github.io/schema/vega-lite/v4.17.0.json\", \"datasets\": {\"data-3a561c21f1f0b0344786d645010b7ae0\": [{\"calitp_itp_id\": 123, \"trip_key\": 214550496230027180, \"trip_id\": \"[@1.0.62083704@][8][1623269965867]/1__1102/MF\", \"shape_id\": \"[@1.0.12094204@]1\", \"route_id\": \"11\", \"service_hours\": 0.52, \"trip_first_departure_ts\": 26400, \"trip_last_arrival_ts\": 28260, \"departure_hour\": 7, \"time_of_day\": \"AM Peak\", \"p25\": 0.55, \"p50\": 0.58, \"p75\": 0.6, \"p50_trip\": 0, \"fastest_trip\": 0, \"car_duration_hours\": 0.3, \"competitive_route\": 1, \"bus_multiplier\": 1.73, \"bus_difference\": 13.2, \"num_trips\": 56, \"num_competitive\": 48, \"pct_trips_competitive\": 0.857, \"bus_difference_spread\": 9.600000000000001, \"route_group\": \"short\", \"max_trip_hrs\": 0.68, \"max_trip_route_group\": 0.68, \"below_cutoff\": 55, \"pct_below_cutoff\": 0.9821428571428571, \"name\": \"Gold Coast Transit\", \"caltrans_district\": \"07 - Los Angeles\", \"drmt_organization_name\": null, \"route_name\": null, \"cutoff2\": 20, \"cutoff\": 2}, {\"calitp_itp_id\": 123, \"trip_key\": 821303326648740029, \"trip_id\": \"[@1.0.62083704@][8][1623269965867]/2__1101/MF\", \"shape_id\": \"[@1.0.12094204@]1\", \"route_id\": \"11\", \"service_hours\": 0.52, \"trip_first_departure_ts\": 28800, \"trip_last_arrival_ts\": 30660, \"departure_hour\": 8, \"time_of_day\": \"AM Peak\", \"p25\": 0.55, \"p50\": 0.58, \"p75\": 0.6, \"p50_trip\": 0, \"fastest_trip\": 1, \"car_duration_hours\": 0.3, \"competitive_route\": 1, \"bus_multiplier\": 1.73, \"bus_difference\": 13.2, \"num_trips\": 56, \"num_competitive\": 48, \"pct_trips_competitive\": 0.857, \"bus_difference_spread\": 9.600000000000001, \"route_group\": \"short\", \"max_trip_hrs\": 0.68, \"max_trip_route_group\": 0.68, \"below_cutoff\": 55, \"pct_below_cutoff\": 0.9821428571428571, \"name\": \"Gold Coast Transit\", \"caltrans_district\": \"07 - Los Angeles\", \"drmt_organization_name\": null, \"route_name\": null, \"cutoff2\": 20, \"cutoff\": 2}, {\"calitp_itp_id\": 123, \"trip_key\": -866115219505739402, \"trip_id\": \"[@1.0.62083704@][8][1623269965867]/0__1101/MF\", \"shape_id\": \"[@1.0.12094204@]1\", \"route_id\": \"11\", \"service_hours\": 0.52, \"trip_first_departure_ts\": 24000, \"trip_last_arrival_ts\": 25860, \"departure_hour\": 6, \"time_of_day\": \"Owl Service\", \"p25\": 0.55, \"p50\": 0.58, \"p75\": 0.6, \"p50_trip\": 0, \"fastest_trip\": 0, \"car_duration_hours\": 0.3, \"competitive_route\": 1, \"bus_multiplier\": 1.73, \"bus_difference\": 13.2, \"num_trips\": 56, \"num_competitive\": 48, \"pct_trips_competitive\": 0.857, \"bus_difference_spread\": 9.600000000000001, \"route_group\": \"short\", \"max_trip_hrs\": 0.68, \"max_trip_route_group\": 0.68, \"below_cutoff\": 55, \"pct_below_cutoff\": 0.9821428571428571, \"name\": \"Gold Coast Transit\", \"caltrans_district\": \"07 - Los Angeles\", \"drmt_organization_name\": null, \"route_name\": null, \"cutoff2\": 20, \"cutoff\": 2}, {\"calitp_itp_id\": 123, \"trip_key\": -2498758204090959281, \"trip_id\": \"[@1.0.62083704@][9][1623270569113]/29__1102/MF\", \"shape_id\": \"[@1.0.12094204@]2\", \"route_id\": \"11\", \"service_hours\": 0.53, \"trip_first_departure_ts\": 24000, \"trip_last_arrival_ts\": 25920, \"departure_hour\": 6, \"time_of_day\": \"Owl Service\", \"p25\": 0.55, \"p50\": 0.58, \"p75\": 0.6, \"p50_trip\": 0, \"fastest_trip\": 0, \"car_duration_hours\": 0.3, \"competitive_route\": 1, \"bus_multiplier\": 1.77, \"bus_difference\": 13.8, \"num_trips\": 56, \"num_competitive\": 48, \"pct_trips_competitive\": 0.857, \"bus_difference_spread\": 9.600000000000001, \"route_group\": \"short\", \"max_trip_hrs\": 0.68, \"max_trip_route_group\": 0.68, \"below_cutoff\": 55, \"pct_below_cutoff\": 0.9821428571428571, \"name\": \"Gold Coast Transit\", \"caltrans_district\": \"07 - Los Angeles\", \"drmt_organization_name\": null, \"route_name\": null, \"cutoff2\": 20, \"cutoff\": 2}, {\"calitp_itp_id\": 123, \"trip_key\": 800531103243119220, \"trip_id\": \"[@1.0.62083704@][9][1623270569113]/53__1102/MF\", \"shape_id\": \"[@1.0.12094204@]2\", \"route_id\": \"11\", \"service_hours\": 0.53, \"trip_first_departure_ts\": 70200, \"trip_last_arrival_ts\": 72120, \"departure_hour\": 19, \"time_of_day\": \"PM Peak\", \"p25\": 0.55, \"p50\": 0.58, \"p75\": 0.6, \"p50_trip\": 0, \"fastest_trip\": 0, \"car_duration_hours\": 0.3, \"competitive_route\": 1, \"bus_multiplier\": 1.77, \"bus_difference\": 13.8, \"num_trips\": 56, \"num_competitive\": 48, \"pct_trips_competitive\": 0.857, \"bus_difference_spread\": 9.600000000000001, \"route_group\": \"short\", \"max_trip_hrs\": 0.68, \"max_trip_route_group\": 0.68, \"below_cutoff\": 55, \"pct_below_cutoff\": 0.9821428571428571, \"name\": \"Gold Coast Transit\", \"caltrans_district\": \"07 - Los Angeles\", \"drmt_organization_name\": null, \"route_name\": null, \"cutoff2\": 20, \"cutoff\": 2}, {\"calitp_itp_id\": 123, \"trip_key\": 1434272936313117643, \"trip_id\": \"[@1.0.62083704@][8][1623269965867]/25__1102/MF\", \"shape_id\": \"[@1.0.12094204@]1\", \"route_id\": \"11\", \"service_hours\": 0.53, \"trip_first_departure_ts\": 72900, \"trip_last_arrival_ts\": 74820, \"departure_hour\": 20, \"time_of_day\": \"Owl Service\", \"p25\": 0.55, \"p50\": 0.58, \"p75\": 0.6, \"p50_trip\": 0, \"fastest_trip\": 0, \"car_duration_hours\": 0.3, \"competitive_route\": 1, \"bus_multiplier\": 1.77, \"bus_difference\": 13.8, \"num_trips\": 56, \"num_competitive\": 48, \"pct_trips_competitive\": 0.857, \"bus_difference_spread\": 9.600000000000001, \"route_group\": \"short\", \"max_trip_hrs\": 0.68, \"max_trip_route_group\": 0.68, \"below_cutoff\": 55, \"pct_below_cutoff\": 0.9821428571428571, \"name\": \"Gold Coast Transit\", \"caltrans_district\": \"07 - Los Angeles\", \"drmt_organization_name\": null, \"route_name\": null, \"cutoff2\": 20, \"cutoff\": 2}, {\"calitp_itp_id\": 123, \"trip_key\": 8276759852205729187, \"trip_id\": \"[@1.0.62083704@][8][1623269965867]/24__1101/MF\", \"shape_id\": \"[@1.0.12094204@]1\", \"route_id\": \"11\", \"service_hours\": 0.53, \"trip_first_departure_ts\": 71400, \"trip_last_arrival_ts\": 73320, \"departure_hour\": 19, \"time_of_day\": \"PM Peak\", \"p25\": 0.55, \"p50\": 0.58, \"p75\": 0.6, \"p50_trip\": 0, \"fastest_trip\": 0, \"car_duration_hours\": 0.3, \"competitive_route\": 1, \"bus_multiplier\": 1.77, \"bus_difference\": 13.8, \"num_trips\": 56, \"num_competitive\": 48, \"pct_trips_competitive\": 0.857, \"bus_difference_spread\": 9.600000000000001, \"route_group\": \"short\", \"max_trip_hrs\": 0.68, \"max_trip_route_group\": 0.68, \"below_cutoff\": 55, \"pct_below_cutoff\": 0.9821428571428571, \"name\": \"Gold Coast Transit\", \"caltrans_district\": \"07 - Los Angeles\", \"drmt_organization_name\": null, \"route_name\": null, \"cutoff2\": 20, \"cutoff\": 2}, {\"calitp_itp_id\": 123, \"trip_key\": 6659277185529916871, \"trip_id\": \"[@1.0.62083704@][9][1623270569113]/54__1103/MF\", \"shape_id\": \"[@1.0.12094204@]2\", \"route_id\": \"11\", \"service_hours\": 0.53, \"trip_first_departure_ts\": 72000, \"trip_last_arrival_ts\": 73920, \"departure_hour\": 20, \"time_of_day\": \"Owl Service\", \"p25\": 0.55, \"p50\": 0.58, \"p75\": 0.6, \"p50_trip\": 0, \"fastest_trip\": 0, \"car_duration_hours\": 0.3, \"competitive_route\": 1, \"bus_multiplier\": 1.77, \"bus_difference\": 13.8, \"num_trips\": 56, \"num_competitive\": 48, \"pct_trips_competitive\": 0.857, \"bus_difference_spread\": 9.600000000000001, \"route_group\": \"short\", \"max_trip_hrs\": 0.68, \"max_trip_route_group\": 0.68, \"below_cutoff\": 55, \"pct_below_cutoff\": 0.9821428571428571, \"name\": \"Gold Coast Transit\", \"caltrans_district\": \"07 - Los Angeles\", \"drmt_organization_name\": null, \"route_name\": null, \"cutoff2\": 20, \"cutoff\": 2}, {\"calitp_itp_id\": 123, \"trip_key\": 1408836823682151551, \"trip_id\": \"[@1.0.62083704@][9][1623270569113]/28__1101/MF\", \"shape_id\": \"[@1.0.12094204@]2\", \"route_id\": \"11\", \"service_hours\": 0.53, \"trip_first_departure_ts\": 21600, \"trip_last_arrival_ts\": 23520, \"departure_hour\": 6, \"time_of_day\": \"Owl Service\", \"p25\": 0.55, \"p50\": 0.58, \"p75\": 0.6, \"p50_trip\": 0, \"fastest_trip\": 0, \"car_duration_hours\": 0.3, \"competitive_route\": 1, \"bus_multiplier\": 1.77, \"bus_difference\": 13.8, \"num_trips\": 56, \"num_competitive\": 48, \"pct_trips_competitive\": 0.857, \"bus_difference_spread\": 9.600000000000001, \"route_group\": \"short\", \"max_trip_hrs\": 0.68, \"max_trip_route_group\": 0.68, \"below_cutoff\": 55, \"pct_below_cutoff\": 0.9821428571428571, \"name\": \"Gold Coast Transit\", \"caltrans_district\": \"07 - Los Angeles\", \"drmt_organization_name\": null, \"route_name\": null, \"cutoff2\": 20, \"cutoff\": 2}, {\"calitp_itp_id\": 123, \"trip_key\": 3529584823861132376, \"trip_id\": \"[@1.0.62083704@][8][1623269965867]/26__1103/MF\", \"shape_id\": \"[@1.0.12094204@]1\", \"route_id\": \"11\", \"service_hours\": 0.53, \"trip_first_departure_ts\": 74400, \"trip_last_arrival_ts\": 76320, \"departure_hour\": 20, \"time_of_day\": \"Owl Service\", \"p25\": 0.55, \"p50\": 0.58, \"p75\": 0.6, \"p50_trip\": 0, \"fastest_trip\": 0, \"car_duration_hours\": 0.3, \"competitive_route\": 1, \"bus_multiplier\": 1.77, \"bus_difference\": 13.8, \"num_trips\": 56, \"num_competitive\": 48, \"pct_trips_competitive\": 0.857, \"bus_difference_spread\": 9.600000000000001, \"route_group\": \"short\", \"max_trip_hrs\": 0.68, \"max_trip_route_group\": 0.68, \"below_cutoff\": 55, \"pct_below_cutoff\": 0.9821428571428571, \"name\": \"Gold Coast Transit\", \"caltrans_district\": \"07 - Los Angeles\", \"drmt_organization_name\": null, \"route_name\": null, \"cutoff2\": 20, \"cutoff\": 2}, {\"calitp_itp_id\": 123, \"trip_key\": -4325138780183454538, \"trip_id\": \"[@1.0.62083704@][9][1623270569113]/50__1101/MF\", \"shape_id\": \"[@1.0.12094204@]2\", \"route_id\": \"11\", \"service_hours\": 0.55, \"trip_first_departure_ts\": 63600, \"trip_last_arrival_ts\": 65580, \"departure_hour\": 17, \"time_of_day\": \"PM Peak\", \"p25\": 0.55, \"p50\": 0.58, \"p75\": 0.6, \"p50_trip\": 0, \"fastest_trip\": 0, \"car_duration_hours\": 0.3, \"competitive_route\": 1, \"bus_multiplier\": 1.83, \"bus_difference\": 15.0, \"num_trips\": 56, \"num_competitive\": 48, \"pct_trips_competitive\": 0.857, \"bus_difference_spread\": 9.600000000000001, \"route_group\": \"short\", \"max_trip_hrs\": 0.68, \"max_trip_route_group\": 0.68, \"below_cutoff\": 55, \"pct_below_cutoff\": 0.9821428571428571, \"name\": \"Gold Coast Transit\", \"caltrans_district\": \"07 - Los Angeles\", \"drmt_organization_name\": null, \"route_name\": null, \"cutoff2\": 20, \"cutoff\": 2}, {\"calitp_itp_id\": 123, \"trip_key\": 7379685873548451231, \"trip_id\": \"[@1.0.62083704@][9][1623292300738]/0__1103/MF\", \"shape_id\": \"[@1.0.12094204@]2\", \"route_id\": \"11\", \"service_hours\": 0.55, \"trip_first_departure_ts\": 66900, \"trip_last_arrival_ts\": 68880, \"departure_hour\": 18, \"time_of_day\": \"PM Peak\", \"p25\": 0.55, \"p50\": 0.58, \"p75\": 0.6, \"p50_trip\": 0, \"fastest_trip\": 0, \"car_duration_hours\": 0.3, \"competitive_route\": 1, \"bus_multiplier\": 1.83, \"bus_difference\": 15.0, \"num_trips\": 56, \"num_competitive\": 48, \"pct_trips_competitive\": 0.857, \"bus_difference_spread\": 9.600000000000001, \"route_group\": \"short\", \"max_trip_hrs\": 0.68, \"max_trip_route_group\": 0.68, \"below_cutoff\": 55, \"pct_below_cutoff\": 0.9821428571428571, \"name\": \"Gold Coast Transit\", \"caltrans_district\": \"07 - Los Angeles\", \"drmt_organization_name\": null, \"route_name\": null, \"cutoff2\": 20, \"cutoff\": 2}, {\"calitp_itp_id\": 123, \"trip_key\": -5230431657078151652, \"trip_id\": \"[@1.0.62083704@][9][1623270569113]/52__1101/MF\", \"shape_id\": \"[@1.0.12094204@]2\", \"route_id\": \"11\", \"service_hours\": 0.55, \"trip_first_departure_ts\": 68700, \"trip_last_arrival_ts\": 70680, \"departure_hour\": 19, \"time_of_day\": \"PM Peak\", \"p25\": 0.55, \"p50\": 0.58, \"p75\": 0.6, \"p50_trip\": 0, \"fastest_trip\": 0, \"car_duration_hours\": 0.3, \"competitive_route\": 1, \"bus_multiplier\": 1.83, \"bus_difference\": 15.0, \"num_trips\": 56, \"num_competitive\": 48, \"pct_trips_competitive\": 0.857, \"bus_difference_spread\": 9.600000000000001, \"route_group\": \"short\", \"max_trip_hrs\": 0.68, \"max_trip_route_group\": 0.68, \"below_cutoff\": 55, \"pct_below_cutoff\": 0.9821428571428571, \"name\": \"Gold Coast Transit\", \"caltrans_district\": \"07 - Los Angeles\", \"drmt_organization_name\": null, \"route_name\": null, \"cutoff2\": 20, \"cutoff\": 2}, {\"calitp_itp_id\": 123, \"trip_key\": -7811746246702764012, \"trip_id\": \"[@1.0.62083704@][8][1623269965867]/21__1101/MF\", \"shape_id\": \"[@1.0.12094204@]1\", \"route_id\": \"11\", \"service_hours\": 0.55, \"trip_first_departure_ts\": 66300, \"trip_last_arrival_ts\": 68280, \"departure_hour\": 18, \"time_of_day\": \"PM Peak\", \"p25\": 0.55, \"p50\": 0.58, \"p75\": 0.6, \"p50_trip\": 0, \"fastest_trip\": 0, \"car_duration_hours\": 0.3, \"competitive_route\": 1, \"bus_multiplier\": 1.83, \"bus_difference\": 15.0, \"num_trips\": 56, \"num_competitive\": 48, \"pct_trips_competitive\": 0.857, \"bus_difference_spread\": 9.600000000000001, \"route_group\": \"short\", \"max_trip_hrs\": 0.68, \"max_trip_route_group\": 0.68, \"below_cutoff\": 55, \"pct_below_cutoff\": 0.9821428571428571, \"name\": \"Gold Coast Transit\", \"caltrans_district\": \"07 - Los Angeles\", \"drmt_organization_name\": null, \"route_name\": null, \"cutoff2\": 20, \"cutoff\": 2}, {\"calitp_itp_id\": 123, \"trip_key\": 4978099049135414044, \"trip_id\": \"[@1.0.62083704@][9][1623270569113]/49__1103/MF\", \"shape_id\": \"[@1.0.12094204@]2\", \"route_id\": \"11\", \"service_hours\": 0.55, \"trip_first_departure_ts\": 61800, \"trip_last_arrival_ts\": 63780, \"departure_hour\": 17, \"time_of_day\": \"PM Peak\", \"p25\": 0.55, \"p50\": 0.58, \"p75\": 0.6, \"p50_trip\": 0, \"fastest_trip\": 0, \"car_duration_hours\": 0.3, \"competitive_route\": 1, \"bus_multiplier\": 1.83, \"bus_difference\": 15.0, \"num_trips\": 56, \"num_competitive\": 48, \"pct_trips_competitive\": 0.857, \"bus_difference_spread\": 9.600000000000001, \"route_group\": \"short\", \"max_trip_hrs\": 0.68, \"max_trip_route_group\": 0.68, \"below_cutoff\": 55, \"pct_below_cutoff\": 0.9821428571428571, \"name\": \"Gold Coast Transit\", \"caltrans_district\": \"07 - Los Angeles\", \"drmt_organization_name\": null, \"route_name\": null, \"cutoff2\": 20, \"cutoff\": 2}, {\"calitp_itp_id\": 123, \"trip_key\": 4004902047216889366, \"trip_id\": \"[@1.0.62083704@][9][1623270569113]/51__1102/MF\", \"shape_id\": \"[@1.0.12094204@]2\", \"route_id\": \"11\", \"service_hours\": 0.55, \"trip_first_departure_ts\": 65100, \"trip_last_arrival_ts\": 67080, \"departure_hour\": 18, \"time_of_day\": \"PM Peak\", \"p25\": 0.55, \"p50\": 0.58, \"p75\": 0.6, \"p50_trip\": 0, \"fastest_trip\": 0, \"car_duration_hours\": 0.3, \"competitive_route\": 1, \"bus_multiplier\": 1.83, \"bus_difference\": 15.0, \"num_trips\": 56, \"num_competitive\": 48, \"pct_trips_competitive\": 0.857, \"bus_difference_spread\": 9.600000000000001, \"route_group\": \"short\", \"max_trip_hrs\": 0.68, \"max_trip_route_group\": 0.68, \"below_cutoff\": 55, \"pct_below_cutoff\": 0.9821428571428571, \"name\": \"Gold Coast Transit\", \"caltrans_district\": \"07 - Los Angeles\", \"drmt_organization_name\": null, \"route_name\": null, \"cutoff2\": 20, \"cutoff\": 2}, {\"calitp_itp_id\": 123, \"trip_key\": 7863403569830752964, \"trip_id\": \"[@1.0.62083704@][8][1623269965867]/23__1103/MF\", \"shape_id\": \"[@1.0.12094204@]1\", \"route_id\": \"11\", \"service_hours\": 0.55, \"trip_first_departure_ts\": 69600, \"trip_last_arrival_ts\": 71580, \"departure_hour\": 19, \"time_of_day\": \"PM Peak\", \"p25\": 0.55, \"p50\": 0.58, \"p75\": 0.6, \"p50_trip\": 0, \"fastest_trip\": 0, \"car_duration_hours\": 0.3, \"competitive_route\": 1, \"bus_multiplier\": 1.83, \"bus_difference\": 15.0, \"num_trips\": 56, \"num_competitive\": 48, \"pct_trips_competitive\": 0.857, \"bus_difference_spread\": 9.600000000000001, \"route_group\": \"short\", \"max_trip_hrs\": 0.68, \"max_trip_route_group\": 0.68, \"below_cutoff\": 55, \"pct_below_cutoff\": 0.9821428571428571, \"name\": \"Gold Coast Transit\", \"caltrans_district\": \"07 - Los Angeles\", \"drmt_organization_name\": null, \"route_name\": null, \"cutoff2\": 20, \"cutoff\": 2}, {\"calitp_itp_id\": 123, \"trip_key\": -1660081629431646106, \"trip_id\": \"[@1.0.62083704@][9][1623270569113]/48__1102/MF\", \"shape_id\": \"[@1.0.12094204@]2\", \"route_id\": \"11\", \"service_hours\": 0.55, \"trip_first_departure_ts\": 60000, \"trip_last_arrival_ts\": 61980, \"departure_hour\": 16, \"time_of_day\": \"Midday\", \"p25\": 0.55, \"p50\": 0.58, \"p75\": 0.6, \"p50_trip\": 0, \"fastest_trip\": 0, \"car_duration_hours\": 0.3, \"competitive_route\": 1, \"bus_multiplier\": 1.83, \"bus_difference\": 15.0, \"num_trips\": 56, \"num_competitive\": 48, \"pct_trips_competitive\": 0.857, \"bus_difference_spread\": 9.600000000000001, \"route_group\": \"short\", \"max_trip_hrs\": 0.68, \"max_trip_route_group\": 0.68, \"below_cutoff\": 55, \"pct_below_cutoff\": 0.9821428571428571, \"name\": \"Gold Coast Transit\", \"caltrans_district\": \"07 - Los Angeles\", \"drmt_organization_name\": null, \"route_name\": null, \"cutoff2\": 20, \"cutoff\": 2}, {\"calitp_itp_id\": 123, \"trip_key\": -5767094593408870232, \"trip_id\": \"[@1.0.62083704@][8][1623269965867]/22__1102/MF\", \"shape_id\": \"[@1.0.12094204@]1\", \"route_id\": \"11\", \"service_hours\": 0.55, \"trip_first_departure_ts\": 67800, \"trip_last_arrival_ts\": 69780, \"departure_hour\": 18, \"time_of_day\": \"PM Peak\", \"p25\": 0.55, \"p50\": 0.58, \"p75\": 0.6, \"p50_trip\": 0, \"fastest_trip\": 0, \"car_duration_hours\": 0.3, \"competitive_route\": 1, \"bus_multiplier\": 1.83, \"bus_difference\": 15.0, \"num_trips\": 56, \"num_competitive\": 48, \"pct_trips_competitive\": 0.857, \"bus_difference_spread\": 9.600000000000001, \"route_group\": \"short\", \"max_trip_hrs\": 0.68, \"max_trip_route_group\": 0.68, \"below_cutoff\": 55, \"pct_below_cutoff\": 0.9821428571428571, \"name\": \"Gold Coast Transit\", \"caltrans_district\": \"07 - Los Angeles\", \"drmt_organization_name\": null, \"route_name\": null, \"cutoff2\": 20, \"cutoff\": 2}, {\"calitp_itp_id\": 123, \"trip_key\": 8403095855192575849, \"trip_id\": \"[@1.0.62083704@][8][1623269965867]/3__1102/MF\", \"shape_id\": \"[@1.0.12094204@]1\", \"route_id\": \"11\", \"service_hours\": 0.55, \"trip_first_departure_ts\": 31200, \"trip_last_arrival_ts\": 33180, \"departure_hour\": 8, \"time_of_day\": \"AM Peak\", \"p25\": 0.55, \"p50\": 0.58, \"p75\": 0.6, \"p50_trip\": 0, \"fastest_trip\": 0, \"car_duration_hours\": 0.3, \"competitive_route\": 1, \"bus_multiplier\": 1.83, \"bus_difference\": 15.0, \"num_trips\": 56, \"num_competitive\": 48, \"pct_trips_competitive\": 0.857, \"bus_difference_spread\": 9.600000000000001, \"route_group\": \"short\", \"max_trip_hrs\": 0.68, \"max_trip_route_group\": 0.68, \"below_cutoff\": 55, \"pct_below_cutoff\": 0.9821428571428571, \"name\": \"Gold Coast Transit\", \"caltrans_district\": \"07 - Los Angeles\", \"drmt_organization_name\": null, \"route_name\": null, \"cutoff2\": 20, \"cutoff\": 2}, {\"calitp_itp_id\": 123, \"trip_key\": 1307749009971585482, \"trip_id\": \"[@1.0.62083704@][8][1623269965867]/6__1103/MF\", \"shape_id\": \"[@1.0.12094204@]1\", \"route_id\": \"11\", \"service_hours\": 0.57, \"trip_first_departure_ts\": 37800, \"trip_last_arrival_ts\": 39840, \"departure_hour\": 10, \"time_of_day\": \"Midday\", \"p25\": 0.55, \"p50\": 0.58, \"p75\": 0.6, \"p50_trip\": 0, \"fastest_trip\": 0, \"car_duration_hours\": 0.3, \"competitive_route\": 1, \"bus_multiplier\": 1.9, \"bus_difference\": 16.2, \"num_trips\": 56, \"num_competitive\": 48, \"pct_trips_competitive\": 0.857, \"bus_difference_spread\": 9.600000000000001, \"route_group\": \"short\", \"max_trip_hrs\": 0.68, \"max_trip_route_group\": 0.68, \"below_cutoff\": 55, \"pct_below_cutoff\": 0.9821428571428571, \"name\": \"Gold Coast Transit\", \"caltrans_district\": \"07 - Los Angeles\", \"drmt_organization_name\": null, \"route_name\": null, \"cutoff2\": 20, \"cutoff\": 2}, {\"calitp_itp_id\": 123, \"trip_key\": -764115641361571205, \"trip_id\": \"[@1.0.62083704@][8][1623269965867]/4__1101/MF\", \"shape_id\": \"[@1.0.12094204@]1\", \"route_id\": \"11\", \"service_hours\": 0.57, \"trip_first_departure_ts\": 33600, \"trip_last_arrival_ts\": 35640, \"departure_hour\": 9, \"time_of_day\": \"AM Peak\", \"p25\": 0.55, \"p50\": 0.58, \"p75\": 0.6, \"p50_trip\": 0, \"fastest_trip\": 0, \"car_duration_hours\": 0.3, \"competitive_route\": 1, \"bus_multiplier\": 1.9, \"bus_difference\": 16.2, \"num_trips\": 56, \"num_competitive\": 48, \"pct_trips_competitive\": 0.857, \"bus_difference_spread\": 9.600000000000001, \"route_group\": \"short\", \"max_trip_hrs\": 0.68, \"max_trip_route_group\": 0.68, \"below_cutoff\": 55, \"pct_below_cutoff\": 0.9821428571428571, \"name\": \"Gold Coast Transit\", \"caltrans_district\": \"07 - Los Angeles\", \"drmt_organization_name\": null, \"route_name\": null, \"cutoff2\": 20, \"cutoff\": 2}, {\"calitp_itp_id\": 123, \"trip_key\": -3846609194463021895, \"trip_id\": \"[@1.0.62083704@][8][1623269965867]/20__1103/MF\", \"shape_id\": \"[@1.0.12094204@]1\", \"route_id\": \"11\", \"service_hours\": 0.57, \"trip_first_departure_ts\": 64500, \"trip_last_arrival_ts\": 66540, \"departure_hour\": 17, \"time_of_day\": \"PM Peak\", \"p25\": 0.55, \"p50\": 0.58, \"p75\": 0.6, \"p50_trip\": 0, \"fastest_trip\": 0, \"car_duration_hours\": 0.3, \"competitive_route\": 1, \"bus_multiplier\": 1.9, \"bus_difference\": 16.2, \"num_trips\": 56, \"num_competitive\": 48, \"pct_trips_competitive\": 0.857, \"bus_difference_spread\": 9.600000000000001, \"route_group\": \"short\", \"max_trip_hrs\": 0.68, \"max_trip_route_group\": 0.68, \"below_cutoff\": 55, \"pct_below_cutoff\": 0.9821428571428571, \"name\": \"Gold Coast Transit\", \"caltrans_district\": \"07 - Los Angeles\", \"drmt_organization_name\": null, \"route_name\": null, \"cutoff2\": 20, \"cutoff\": 2}, {\"calitp_itp_id\": 123, \"trip_key\": 2499260868334004460, \"trip_id\": \"[@1.0.62083704@][8][1623269965867]/5__1102/MF\", \"shape_id\": \"[@1.0.12094204@]1\", \"route_id\": \"11\", \"service_hours\": 0.57, \"trip_first_departure_ts\": 36000, \"trip_last_arrival_ts\": 38040, \"departure_hour\": 10, \"time_of_day\": \"Midday\", \"p25\": 0.55, \"p50\": 0.58, \"p75\": 0.6, \"p50_trip\": 0, \"fastest_trip\": 0, \"car_duration_hours\": 0.3, \"competitive_route\": 1, \"bus_multiplier\": 1.9, \"bus_difference\": 16.2, \"num_trips\": 56, \"num_competitive\": 48, \"pct_trips_competitive\": 0.857, \"bus_difference_spread\": 9.600000000000001, \"route_group\": \"short\", \"max_trip_hrs\": 0.68, \"max_trip_route_group\": 0.68, \"below_cutoff\": 55, \"pct_below_cutoff\": 0.9821428571428571, \"name\": \"Gold Coast Transit\", \"caltrans_district\": \"07 - Los Angeles\", \"drmt_organization_name\": null, \"route_name\": null, \"cutoff2\": 20, \"cutoff\": 2}, {\"calitp_itp_id\": 123, \"trip_key\": 2945266529759894774, \"trip_id\": \"[@1.0.62083704@][9][1623270569113]/35__1101/MF\", \"shape_id\": \"[@1.0.12094204@]2\", \"route_id\": \"11\", \"service_hours\": 0.58, \"trip_first_departure_ts\": 36600, \"trip_last_arrival_ts\": 38700, \"departure_hour\": 10, \"time_of_day\": \"Midday\", \"p25\": 0.55, \"p50\": 0.58, \"p75\": 0.6, \"p50_trip\": 1, \"fastest_trip\": 0, \"car_duration_hours\": 0.3, \"competitive_route\": 1, \"bus_multiplier\": 1.93, \"bus_difference\": 16.8, \"num_trips\": 56, \"num_competitive\": 48, \"pct_trips_competitive\": 0.857, \"bus_difference_spread\": 9.600000000000001, \"route_group\": \"short\", \"max_trip_hrs\": 0.68, \"max_trip_route_group\": 0.68, \"below_cutoff\": 55, \"pct_below_cutoff\": 0.9821428571428571, \"name\": \"Gold Coast Transit\", \"caltrans_district\": \"07 - Los Angeles\", \"drmt_organization_name\": null, \"route_name\": null, \"cutoff2\": 20, \"cutoff\": 2}, {\"calitp_itp_id\": 123, \"trip_key\": 7932525389389928230, \"trip_id\": \"[@1.0.62083704@][9][1623270569113]/33__1102/MF\", \"shape_id\": \"[@1.0.12094204@]2\", \"route_id\": \"11\", \"service_hours\": 0.58, \"trip_first_departure_ts\": 33600, \"trip_last_arrival_ts\": 35700, \"departure_hour\": 9, \"time_of_day\": \"AM Peak\", \"p25\": 0.55, \"p50\": 0.58, \"p75\": 0.6, \"p50_trip\": 1, \"fastest_trip\": 0, \"car_duration_hours\": 0.3, \"competitive_route\": 1, \"bus_multiplier\": 1.93, \"bus_difference\": 16.8, \"num_trips\": 56, \"num_competitive\": 48, \"pct_trips_competitive\": 0.857, \"bus_difference_spread\": 9.600000000000001, \"route_group\": \"short\", \"max_trip_hrs\": 0.68, \"max_trip_route_group\": 0.68, \"below_cutoff\": 55, \"pct_below_cutoff\": 0.9821428571428571, \"name\": \"Gold Coast Transit\", \"caltrans_district\": \"07 - Los Angeles\", \"drmt_organization_name\": null, \"route_name\": null, \"cutoff2\": 20, \"cutoff\": 2}, {\"calitp_itp_id\": 123, \"trip_key\": 7276100221824109923, \"trip_id\": \"[@1.0.62083704@][8][1623269965867]/8__1102/MF\", \"shape_id\": \"[@1.0.12094204@]1\", \"route_id\": \"11\", \"service_hours\": 0.58, \"trip_first_departure_ts\": 41100, \"trip_last_arrival_ts\": 43200, \"departure_hour\": 11, \"time_of_day\": \"Midday\", \"p25\": 0.55, \"p50\": 0.58, \"p75\": 0.6, \"p50_trip\": 1, \"fastest_trip\": 0, \"car_duration_hours\": 0.3, \"competitive_route\": 1, \"bus_multiplier\": 1.93, \"bus_difference\": 16.8, \"num_trips\": 56, \"num_competitive\": 48, \"pct_trips_competitive\": 0.857, \"bus_difference_spread\": 9.600000000000001, \"route_group\": \"short\", \"max_trip_hrs\": 0.68, \"max_trip_route_group\": 0.68, \"below_cutoff\": 55, \"pct_below_cutoff\": 0.9821428571428571, \"name\": \"Gold Coast Transit\", \"caltrans_district\": \"07 - Los Angeles\", \"drmt_organization_name\": null, \"route_name\": null, \"cutoff2\": 20, \"cutoff\": 2}, {\"calitp_itp_id\": 123, \"trip_key\": -285821122515667108, \"trip_id\": \"[@1.0.62083704@][8][1623269965867]/19__1102/MF\", \"shape_id\": \"[@1.0.12094204@]1\", \"route_id\": \"11\", \"service_hours\": 0.58, \"trip_first_departure_ts\": 62700, \"trip_last_arrival_ts\": 64800, \"departure_hour\": 17, \"time_of_day\": \"PM Peak\", \"p25\": 0.55, \"p50\": 0.58, \"p75\": 0.6, \"p50_trip\": 1, \"fastest_trip\": 0, \"car_duration_hours\": 0.3, \"competitive_route\": 1, \"bus_multiplier\": 1.93, \"bus_difference\": 16.8, \"num_trips\": 56, \"num_competitive\": 48, \"pct_trips_competitive\": 0.857, \"bus_difference_spread\": 9.600000000000001, \"route_group\": \"short\", \"max_trip_hrs\": 0.68, \"max_trip_route_group\": 0.68, \"below_cutoff\": 55, \"pct_below_cutoff\": 0.9821428571428571, \"name\": \"Gold Coast Transit\", \"caltrans_district\": \"07 - Los Angeles\", \"drmt_organization_name\": null, \"route_name\": null, \"cutoff2\": 20, \"cutoff\": 2}, {\"calitp_itp_id\": 123, \"trip_key\": -726589652837303925, \"trip_id\": \"[@1.0.62083704@][9][1623270569113]/34__1103/MF\", \"shape_id\": \"[@1.0.12094204@]2\", \"route_id\": \"11\", \"service_hours\": 0.58, \"trip_first_departure_ts\": 35100, \"trip_last_arrival_ts\": 37200, \"departure_hour\": 9, \"time_of_day\": \"AM Peak\", \"p25\": 0.55, \"p50\": 0.58, \"p75\": 0.6, \"p50_trip\": 1, \"fastest_trip\": 0, \"car_duration_hours\": 0.3, \"competitive_route\": 1, \"bus_multiplier\": 1.93, \"bus_difference\": 16.8, \"num_trips\": 56, \"num_competitive\": 48, \"pct_trips_competitive\": 0.857, \"bus_difference_spread\": 9.600000000000001, \"route_group\": \"short\", \"max_trip_hrs\": 0.68, \"max_trip_route_group\": 0.68, \"below_cutoff\": 55, \"pct_below_cutoff\": 0.9821428571428571, \"name\": \"Gold Coast Transit\", \"caltrans_district\": \"07 - Los Angeles\", \"drmt_organization_name\": null, \"route_name\": null, \"cutoff2\": 20, \"cutoff\": 2}, {\"calitp_itp_id\": 123, \"trip_key\": 125429039382222695, \"trip_id\": \"[@1.0.62083704@][8][1623269965867]/7__1101/MF\", \"shape_id\": \"[@1.0.12094204@]1\", \"route_id\": \"11\", \"service_hours\": 0.58, \"trip_first_departure_ts\": 39300, \"trip_last_arrival_ts\": 41400, \"departure_hour\": 10, \"time_of_day\": \"Midday\", \"p25\": 0.55, \"p50\": 0.58, \"p75\": 0.6, \"p50_trip\": 1, \"fastest_trip\": 0, \"car_duration_hours\": 0.3, \"competitive_route\": 1, \"bus_multiplier\": 1.93, \"bus_difference\": 16.8, \"num_trips\": 56, \"num_competitive\": 48, \"pct_trips_competitive\": 0.857, \"bus_difference_spread\": 9.600000000000001, \"route_group\": \"short\", \"max_trip_hrs\": 0.68, \"max_trip_route_group\": 0.68, \"below_cutoff\": 55, \"pct_below_cutoff\": 0.9821428571428571, \"name\": \"Gold Coast Transit\", \"caltrans_district\": \"07 - Los Angeles\", \"drmt_organization_name\": null, \"route_name\": null, \"cutoff2\": 20, \"cutoff\": 2}, {\"calitp_itp_id\": 123, \"trip_key\": -774275813379302024, \"trip_id\": \"[@1.0.62083704@][9][1623270569113]/42__1102/MF\", \"shape_id\": \"[@1.0.12094204@]2\", \"route_id\": \"11\", \"service_hours\": 0.6, \"trip_first_departure_ts\": 49200, \"trip_last_arrival_ts\": 51360, \"departure_hour\": 13, \"time_of_day\": \"Midday\", \"p25\": 0.55, \"p50\": 0.58, \"p75\": 0.6, \"p50_trip\": 0, \"fastest_trip\": 0, \"car_duration_hours\": 0.3, \"competitive_route\": 1, \"bus_multiplier\": 2.0, \"bus_difference\": 18.0, \"num_trips\": 56, \"num_competitive\": 48, \"pct_trips_competitive\": 0.857, \"bus_difference_spread\": 9.600000000000001, \"route_group\": \"short\", \"max_trip_hrs\": 0.68, \"max_trip_route_group\": 0.68, \"below_cutoff\": 55, \"pct_below_cutoff\": 0.9821428571428571, \"name\": \"Gold Coast Transit\", \"caltrans_district\": \"07 - Los Angeles\", \"drmt_organization_name\": null, \"route_name\": null, \"cutoff2\": 20, \"cutoff\": 2}, {\"calitp_itp_id\": 123, \"trip_key\": 7647705232452423788, \"trip_id\": \"[@1.0.62083704@][9][1623270569113]/40__1103/MF\", \"shape_id\": \"[@1.0.12094204@]2\", \"route_id\": \"11\", \"service_hours\": 0.6, \"trip_first_departure_ts\": 45600, \"trip_last_arrival_ts\": 47760, \"departure_hour\": 12, \"time_of_day\": \"Midday\", \"p25\": 0.55, \"p50\": 0.58, \"p75\": 0.6, \"p50_trip\": 0, \"fastest_trip\": 0, \"car_duration_hours\": 0.3, \"competitive_route\": 1, \"bus_multiplier\": 2.0, \"bus_difference\": 18.0, \"num_trips\": 56, \"num_competitive\": 48, \"pct_trips_competitive\": 0.857, \"bus_difference_spread\": 9.600000000000001, \"route_group\": \"short\", \"max_trip_hrs\": 0.68, \"max_trip_route_group\": 0.68, \"below_cutoff\": 55, \"pct_below_cutoff\": 0.9821428571428571, \"name\": \"Gold Coast Transit\", \"caltrans_district\": \"07 - Los Angeles\", \"drmt_organization_name\": null, \"route_name\": null, \"cutoff2\": 20, \"cutoff\": 2}, {\"calitp_itp_id\": 123, \"trip_key\": -7372295269780882250, \"trip_id\": \"[@1.0.62083704@][9][1623270569113]/45__1102/MF\", \"shape_id\": \"[@1.0.12094204@]2\", \"route_id\": \"11\", \"service_hours\": 0.6, \"trip_first_departure_ts\": 54600, \"trip_last_arrival_ts\": 56760, \"departure_hour\": 15, \"time_of_day\": \"Midday\", \"p25\": 0.55, \"p50\": 0.58, \"p75\": 0.6, \"p50_trip\": 0, \"fastest_trip\": 0, \"car_duration_hours\": 0.3, \"competitive_route\": 1, \"bus_multiplier\": 2.0, \"bus_difference\": 18.0, \"num_trips\": 56, \"num_competitive\": 48, \"pct_trips_competitive\": 0.857, \"bus_difference_spread\": 9.600000000000001, \"route_group\": \"short\", \"max_trip_hrs\": 0.68, \"max_trip_route_group\": 0.68, \"below_cutoff\": 55, \"pct_below_cutoff\": 0.9821428571428571, \"name\": \"Gold Coast Transit\", \"caltrans_district\": \"07 - Los Angeles\", \"drmt_organization_name\": null, \"route_name\": null, \"cutoff2\": 20, \"cutoff\": 2}, {\"calitp_itp_id\": 123, \"trip_key\": -7978053570672385932, \"trip_id\": \"[@1.0.62083704@][9][1623270569113]/31__1102/MF\", \"shape_id\": \"[@1.0.12094204@]2\", \"route_id\": \"11\", \"service_hours\": 0.6, \"trip_first_departure_ts\": 28800, \"trip_last_arrival_ts\": 30960, \"departure_hour\": 8, \"time_of_day\": \"AM Peak\", \"p25\": 0.55, \"p50\": 0.58, \"p75\": 0.6, \"p50_trip\": 0, \"fastest_trip\": 0, \"car_duration_hours\": 0.3, \"competitive_route\": 1, \"bus_multiplier\": 2.0, \"bus_difference\": 18.0, \"num_trips\": 56, \"num_competitive\": 48, \"pct_trips_competitive\": 0.857, \"bus_difference_spread\": 9.600000000000001, \"route_group\": \"short\", \"max_trip_hrs\": 0.68, \"max_trip_route_group\": 0.68, \"below_cutoff\": 55, \"pct_below_cutoff\": 0.9821428571428571, \"name\": \"Gold Coast Transit\", \"caltrans_district\": \"07 - Los Angeles\", \"drmt_organization_name\": null, \"route_name\": null, \"cutoff2\": 20, \"cutoff\": 2}, {\"calitp_itp_id\": 123, \"trip_key\": 7794322408150797585, \"trip_id\": \"[@1.0.62083704@][9][1623270569113]/46__1103/MF\", \"shape_id\": \"[@1.0.12094204@]2\", \"route_id\": \"11\", \"service_hours\": 0.6, \"trip_first_departure_ts\": 56400, \"trip_last_arrival_ts\": 58560, \"departure_hour\": 15, \"time_of_day\": \"Midday\", \"p25\": 0.55, \"p50\": 0.58, \"p75\": 0.6, \"p50_trip\": 0, \"fastest_trip\": 0, \"car_duration_hours\": 0.3, \"competitive_route\": 1, \"bus_multiplier\": 2.0, \"bus_difference\": 18.0, \"num_trips\": 56, \"num_competitive\": 48, \"pct_trips_competitive\": 0.857, \"bus_difference_spread\": 9.600000000000001, \"route_group\": \"short\", \"max_trip_hrs\": 0.68, \"max_trip_route_group\": 0.68, \"below_cutoff\": 55, \"pct_below_cutoff\": 0.9821428571428571, \"name\": \"Gold Coast Transit\", \"caltrans_district\": \"07 - Los Angeles\", \"drmt_organization_name\": null, \"route_name\": null, \"cutoff2\": 20, \"cutoff\": 2}, {\"calitp_itp_id\": 123, \"trip_key\": 8462881722069176474, \"trip_id\": \"[@1.0.62083704@][9][1623270569113]/36__1102/MF\", \"shape_id\": \"[@1.0.12094204@]2\", \"route_id\": \"11\", \"service_hours\": 0.6, \"trip_first_departure_ts\": 38400, \"trip_last_arrival_ts\": 40560, \"departure_hour\": 10, \"time_of_day\": \"Midday\", \"p25\": 0.55, \"p50\": 0.58, \"p75\": 0.6, \"p50_trip\": 0, \"fastest_trip\": 0, \"car_duration_hours\": 0.3, \"competitive_route\": 1, \"bus_multiplier\": 2.0, \"bus_difference\": 18.0, \"num_trips\": 56, \"num_competitive\": 48, \"pct_trips_competitive\": 0.857, \"bus_difference_spread\": 9.600000000000001, \"route_group\": \"short\", \"max_trip_hrs\": 0.68, \"max_trip_route_group\": 0.68, \"below_cutoff\": 55, \"pct_below_cutoff\": 0.9821428571428571, \"name\": \"Gold Coast Transit\", \"caltrans_district\": \"07 - Los Angeles\", \"drmt_organization_name\": null, \"route_name\": null, \"cutoff2\": 20, \"cutoff\": 2}, {\"calitp_itp_id\": 123, \"trip_key\": -8470698541285960071, \"trip_id\": \"[@1.0.62083704@][9][1623270569113]/37__1103/MF\", \"shape_id\": \"[@1.0.12094204@]2\", \"route_id\": \"11\", \"service_hours\": 0.6, \"trip_first_departure_ts\": 40200, \"trip_last_arrival_ts\": 42360, \"departure_hour\": 11, \"time_of_day\": \"Midday\", \"p25\": 0.55, \"p50\": 0.58, \"p75\": 0.6, \"p50_trip\": 0, \"fastest_trip\": 0, \"car_duration_hours\": 0.3, \"competitive_route\": 1, \"bus_multiplier\": 2.0, \"bus_difference\": 18.0, \"num_trips\": 56, \"num_competitive\": 48, \"pct_trips_competitive\": 0.857, \"bus_difference_spread\": 9.600000000000001, \"route_group\": \"short\", \"max_trip_hrs\": 0.68, \"max_trip_route_group\": 0.68, \"below_cutoff\": 55, \"pct_below_cutoff\": 0.9821428571428571, \"name\": \"Gold Coast Transit\", \"caltrans_district\": \"07 - Los Angeles\", \"drmt_organization_name\": null, \"route_name\": null, \"cutoff2\": 20, \"cutoff\": 2}, {\"calitp_itp_id\": 123, \"trip_key\": -5173599729779190491, \"trip_id\": \"[@1.0.62083704@][9][1623270569113]/44__1101/MF\", \"shape_id\": \"[@1.0.12094204@]2\", \"route_id\": \"11\", \"service_hours\": 0.6, \"trip_first_departure_ts\": 52800, \"trip_last_arrival_ts\": 54960, \"departure_hour\": 14, \"time_of_day\": \"Midday\", \"p25\": 0.55, \"p50\": 0.58, \"p75\": 0.6, \"p50_trip\": 0, \"fastest_trip\": 0, \"car_duration_hours\": 0.3, \"competitive_route\": 1, \"bus_multiplier\": 2.0, \"bus_difference\": 18.0, \"num_trips\": 56, \"num_competitive\": 48, \"pct_trips_competitive\": 0.857, \"bus_difference_spread\": 9.600000000000001, \"route_group\": \"short\", \"max_trip_hrs\": 0.68, \"max_trip_route_group\": 0.68, \"below_cutoff\": 55, \"pct_below_cutoff\": 0.9821428571428571, \"name\": \"Gold Coast Transit\", \"caltrans_district\": \"07 - Los Angeles\", \"drmt_organization_name\": null, \"route_name\": null, \"cutoff2\": 20, \"cutoff\": 2}, {\"calitp_itp_id\": 123, \"trip_key\": -7305029243220377898, \"trip_id\": \"[@1.0.62083704@][9][1623270569113]/47__1101/MF\", \"shape_id\": \"[@1.0.12094204@]2\", \"route_id\": \"11\", \"service_hours\": 0.6, \"trip_first_departure_ts\": 58200, \"trip_last_arrival_ts\": 60360, \"departure_hour\": 16, \"time_of_day\": \"Midday\", \"p25\": 0.55, \"p50\": 0.58, \"p75\": 0.6, \"p50_trip\": 0, \"fastest_trip\": 0, \"car_duration_hours\": 0.3, \"competitive_route\": 1, \"bus_multiplier\": 2.0, \"bus_difference\": 18.0, \"num_trips\": 56, \"num_competitive\": 48, \"pct_trips_competitive\": 0.857, \"bus_difference_spread\": 9.600000000000001, \"route_group\": \"short\", \"max_trip_hrs\": 0.68, \"max_trip_route_group\": 0.68, \"below_cutoff\": 55, \"pct_below_cutoff\": 0.9821428571428571, \"name\": \"Gold Coast Transit\", \"caltrans_district\": \"07 - Los Angeles\", \"drmt_organization_name\": null, \"route_name\": null, \"cutoff2\": 20, \"cutoff\": 2}, {\"calitp_itp_id\": 123, \"trip_key\": 5430688303368339812, \"trip_id\": \"[@1.0.62083704@][9][1623270569113]/41__1101/MF\", \"shape_id\": \"[@1.0.12094204@]2\", \"route_id\": \"11\", \"service_hours\": 0.6, \"trip_first_departure_ts\": 47400, \"trip_last_arrival_ts\": 49560, \"departure_hour\": 13, \"time_of_day\": \"Midday\", \"p25\": 0.55, \"p50\": 0.58, \"p75\": 0.6, \"p50_trip\": 0, \"fastest_trip\": 0, \"car_duration_hours\": 0.3, \"competitive_route\": 1, \"bus_multiplier\": 2.0, \"bus_difference\": 18.0, \"num_trips\": 56, \"num_competitive\": 48, \"pct_trips_competitive\": 0.857, \"bus_difference_spread\": 9.600000000000001, \"route_group\": \"short\", \"max_trip_hrs\": 0.68, \"max_trip_route_group\": 0.68, \"below_cutoff\": 55, \"pct_below_cutoff\": 0.9821428571428571, \"name\": \"Gold Coast Transit\", \"caltrans_district\": \"07 - Los Angeles\", \"drmt_organization_name\": null, \"route_name\": null, \"cutoff2\": 20, \"cutoff\": 2}, {\"calitp_itp_id\": 123, \"trip_key\": 9221463708151688683, \"trip_id\": \"[@1.0.62083704@][9][1623270569113]/30__1101/MF\", \"shape_id\": \"[@1.0.12094204@]2\", \"route_id\": \"11\", \"service_hours\": 0.6, \"trip_first_departure_ts\": 26400, \"trip_last_arrival_ts\": 28560, \"departure_hour\": 7, \"time_of_day\": \"AM Peak\", \"p25\": 0.55, \"p50\": 0.58, \"p75\": 0.6, \"p50_trip\": 0, \"fastest_trip\": 0, \"car_duration_hours\": 0.3, \"competitive_route\": 1, \"bus_multiplier\": 2.0, \"bus_difference\": 18.0, \"num_trips\": 56, \"num_competitive\": 48, \"pct_trips_competitive\": 0.857, \"bus_difference_spread\": 9.600000000000001, \"route_group\": \"short\", \"max_trip_hrs\": 0.68, \"max_trip_route_group\": 0.68, \"below_cutoff\": 55, \"pct_below_cutoff\": 0.9821428571428571, \"name\": \"Gold Coast Transit\", \"caltrans_district\": \"07 - Los Angeles\", \"drmt_organization_name\": null, \"route_name\": null, \"cutoff2\": 20, \"cutoff\": 2}, {\"calitp_itp_id\": 123, \"trip_key\": 7608553407141549961, \"trip_id\": \"[@1.0.62083704@][9][1623270569113]/39__1102/MF\", \"shape_id\": \"[@1.0.12094204@]2\", \"route_id\": \"11\", \"service_hours\": 0.6, \"trip_first_departure_ts\": 43800, \"trip_last_arrival_ts\": 45960, \"departure_hour\": 12, \"time_of_day\": \"Midday\", \"p25\": 0.55, \"p50\": 0.58, \"p75\": 0.6, \"p50_trip\": 0, \"fastest_trip\": 0, \"car_duration_hours\": 0.3, \"competitive_route\": 1, \"bus_multiplier\": 2.0, \"bus_difference\": 18.0, \"num_trips\": 56, \"num_competitive\": 48, \"pct_trips_competitive\": 0.857, \"bus_difference_spread\": 9.600000000000001, \"route_group\": \"short\", \"max_trip_hrs\": 0.68, \"max_trip_route_group\": 0.68, \"below_cutoff\": 55, \"pct_below_cutoff\": 0.9821428571428571, \"name\": \"Gold Coast Transit\", \"caltrans_district\": \"07 - Los Angeles\", \"drmt_organization_name\": null, \"route_name\": null, \"cutoff2\": 20, \"cutoff\": 2}, {\"calitp_itp_id\": 123, \"trip_key\": -4517800281538047397, \"trip_id\": \"[@1.0.62083704@][8][1623269965867]/18__1101/MF\", \"shape_id\": \"[@1.0.12094204@]1\", \"route_id\": \"11\", \"service_hours\": 0.6, \"trip_first_departure_ts\": 60900, \"trip_last_arrival_ts\": 63060, \"departure_hour\": 16, \"time_of_day\": \"Midday\", \"p25\": 0.55, \"p50\": 0.58, \"p75\": 0.6, \"p50_trip\": 0, \"fastest_trip\": 0, \"car_duration_hours\": 0.3, \"competitive_route\": 1, \"bus_multiplier\": 2.0, \"bus_difference\": 18.0, \"num_trips\": 56, \"num_competitive\": 48, \"pct_trips_competitive\": 0.857, \"bus_difference_spread\": 9.600000000000001, \"route_group\": \"short\", \"max_trip_hrs\": 0.68, \"max_trip_route_group\": 0.68, \"below_cutoff\": 55, \"pct_below_cutoff\": 0.9821428571428571, \"name\": \"Gold Coast Transit\", \"caltrans_district\": \"07 - Los Angeles\", \"drmt_organization_name\": null, \"route_name\": null, \"cutoff2\": 20, \"cutoff\": 2}, {\"calitp_itp_id\": 123, \"trip_key\": -4303125813403294587, \"trip_id\": \"[@1.0.62083704@][9][1623270569113]/38__1101/MF\", \"shape_id\": \"[@1.0.12094204@]2\", \"route_id\": \"11\", \"service_hours\": 0.6, \"trip_first_departure_ts\": 42000, \"trip_last_arrival_ts\": 44160, \"departure_hour\": 11, \"time_of_day\": \"Midday\", \"p25\": 0.55, \"p50\": 0.58, \"p75\": 0.6, \"p50_trip\": 0, \"fastest_trip\": 0, \"car_duration_hours\": 0.3, \"competitive_route\": 1, \"bus_multiplier\": 2.0, \"bus_difference\": 18.0, \"num_trips\": 56, \"num_competitive\": 48, \"pct_trips_competitive\": 0.857, \"bus_difference_spread\": 9.600000000000001, \"route_group\": \"short\", \"max_trip_hrs\": 0.68, \"max_trip_route_group\": 0.68, \"below_cutoff\": 55, \"pct_below_cutoff\": 0.9821428571428571, \"name\": \"Gold Coast Transit\", \"caltrans_district\": \"07 - Los Angeles\", \"drmt_organization_name\": null, \"route_name\": null, \"cutoff2\": 20, \"cutoff\": 2}, {\"calitp_itp_id\": 123, \"trip_key\": 8325487004418520992, \"trip_id\": \"[@1.0.62083704@][8][1623269965867]/9__1103/MF\", \"shape_id\": \"[@1.0.12094204@]1\", \"route_id\": \"11\", \"service_hours\": 0.6, \"trip_first_departure_ts\": 42900, \"trip_last_arrival_ts\": 45060, \"departure_hour\": 11, \"time_of_day\": \"Midday\", \"p25\": 0.55, \"p50\": 0.58, \"p75\": 0.6, \"p50_trip\": 0, \"fastest_trip\": 0, \"car_duration_hours\": 0.3, \"competitive_route\": 1, \"bus_multiplier\": 2.0, \"bus_difference\": 18.0, \"num_trips\": 56, \"num_competitive\": 48, \"pct_trips_competitive\": 0.857, \"bus_difference_spread\": 9.600000000000001, \"route_group\": \"short\", \"max_trip_hrs\": 0.68, \"max_trip_route_group\": 0.68, \"below_cutoff\": 55, \"pct_below_cutoff\": 0.9821428571428571, \"name\": \"Gold Coast Transit\", \"caltrans_district\": \"07 - Los Angeles\", \"drmt_organization_name\": null, \"route_name\": null, \"cutoff2\": 20, \"cutoff\": 2}, {\"calitp_itp_id\": 123, \"trip_key\": -8517428714452059353, \"trip_id\": \"[@1.0.62083704@][8][1623269965867]/11__1102/MF\", \"shape_id\": \"[@1.0.12094204@]1\", \"route_id\": \"11\", \"service_hours\": 0.6, \"trip_first_departure_ts\": 46500, \"trip_last_arrival_ts\": 48660, \"departure_hour\": 12, \"time_of_day\": \"Midday\", \"p25\": 0.55, \"p50\": 0.58, \"p75\": 0.6, \"p50_trip\": 0, \"fastest_trip\": 0, \"car_duration_hours\": 0.3, \"competitive_route\": 1, \"bus_multiplier\": 2.0, \"bus_difference\": 18.0, \"num_trips\": 56, \"num_competitive\": 48, \"pct_trips_competitive\": 0.857, \"bus_difference_spread\": 9.600000000000001, \"route_group\": \"short\", \"max_trip_hrs\": 0.68, \"max_trip_route_group\": 0.68, \"below_cutoff\": 55, \"pct_below_cutoff\": 0.9821428571428571, \"name\": \"Gold Coast Transit\", \"caltrans_district\": \"07 - Los Angeles\", \"drmt_organization_name\": null, \"route_name\": null, \"cutoff2\": 20, \"cutoff\": 2}, {\"calitp_itp_id\": 123, \"trip_key\": -7961784540835925932, \"trip_id\": \"[@1.0.62083704@][9][1623270569113]/43__1103/MF\", \"shape_id\": \"[@1.0.12094204@]2\", \"route_id\": \"11\", \"service_hours\": 0.6, \"trip_first_departure_ts\": 51000, \"trip_last_arrival_ts\": 53160, \"departure_hour\": 14, \"time_of_day\": \"Midday\", \"p25\": 0.55, \"p50\": 0.58, \"p75\": 0.6, \"p50_trip\": 0, \"fastest_trip\": 0, \"car_duration_hours\": 0.3, \"competitive_route\": 1, \"bus_multiplier\": 2.0, \"bus_difference\": 18.0, \"num_trips\": 56, \"num_competitive\": 48, \"pct_trips_competitive\": 0.857, \"bus_difference_spread\": 9.600000000000001, \"route_group\": \"short\", \"max_trip_hrs\": 0.68, \"max_trip_route_group\": 0.68, \"below_cutoff\": 55, \"pct_below_cutoff\": 0.9821428571428571, \"name\": \"Gold Coast Transit\", \"caltrans_district\": \"07 - Los Angeles\", \"drmt_organization_name\": null, \"route_name\": null, \"cutoff2\": 20, \"cutoff\": 2}, {\"calitp_itp_id\": 123, \"trip_key\": -7368099266825063238, \"trip_id\": \"[@1.0.62083704@][9][1623270569113]/32__1101/MF\", \"shape_id\": \"[@1.0.12094204@]2\", \"route_id\": \"11\", \"service_hours\": 0.6, \"trip_first_departure_ts\": 31200, \"trip_last_arrival_ts\": 33360, \"departure_hour\": 8, \"time_of_day\": \"AM Peak\", \"p25\": 0.55, \"p50\": 0.58, \"p75\": 0.6, \"p50_trip\": 0, \"fastest_trip\": 0, \"car_duration_hours\": 0.3, \"competitive_route\": 1, \"bus_multiplier\": 2.0, \"bus_difference\": 18.0, \"num_trips\": 56, \"num_competitive\": 48, \"pct_trips_competitive\": 0.857, \"bus_difference_spread\": 9.600000000000001, \"route_group\": \"short\", \"max_trip_hrs\": 0.68, \"max_trip_route_group\": 0.68, \"below_cutoff\": 55, \"pct_below_cutoff\": 0.9821428571428571, \"name\": \"Gold Coast Transit\", \"caltrans_district\": \"07 - Los Angeles\", \"drmt_organization_name\": null, \"route_name\": null, \"cutoff2\": 20, \"cutoff\": 2}, {\"calitp_itp_id\": 123, \"trip_key\": -8039799812623061091, \"trip_id\": \"[@1.0.62083704@][8][1623269965867]/15__1103/MF\", \"shape_id\": \"[@1.0.12094204@]1\", \"route_id\": \"11\", \"service_hours\": 0.62, \"trip_first_departure_ts\": 53700, \"trip_last_arrival_ts\": 55920, \"departure_hour\": 14, \"time_of_day\": \"Midday\", \"p25\": 0.55, \"p50\": 0.58, \"p75\": 0.6, \"p50_trip\": 0, \"fastest_trip\": 0, \"car_duration_hours\": 0.3, \"competitive_route\": 1, \"bus_multiplier\": 2.07, \"bus_difference\": 19.2, \"num_trips\": 56, \"num_competitive\": 48, \"pct_trips_competitive\": 0.857, \"bus_difference_spread\": 9.600000000000001, \"route_group\": \"short\", \"max_trip_hrs\": 0.68, \"max_trip_route_group\": 0.68, \"below_cutoff\": 55, \"pct_below_cutoff\": 0.9821428571428571, \"name\": \"Gold Coast Transit\", \"caltrans_district\": \"07 - Los Angeles\", \"drmt_organization_name\": null, \"route_name\": null, \"cutoff2\": 20, \"cutoff\": 2}, {\"calitp_itp_id\": 123, \"trip_key\": 2330386147227665240, \"trip_id\": \"[@1.0.62083704@][8][1623269965867]/13__1101/MF\", \"shape_id\": \"[@1.0.12094204@]1\", \"route_id\": \"11\", \"service_hours\": 0.62, \"trip_first_departure_ts\": 50100, \"trip_last_arrival_ts\": 52320, \"departure_hour\": 13, \"time_of_day\": \"Midday\", \"p25\": 0.55, \"p50\": 0.58, \"p75\": 0.6, \"p50_trip\": 0, \"fastest_trip\": 0, \"car_duration_hours\": 0.3, \"competitive_route\": 1, \"bus_multiplier\": 2.07, \"bus_difference\": 19.2, \"num_trips\": 56, \"num_competitive\": 48, \"pct_trips_competitive\": 0.857, \"bus_difference_spread\": 9.600000000000001, \"route_group\": \"short\", \"max_trip_hrs\": 0.68, \"max_trip_route_group\": 0.68, \"below_cutoff\": 55, \"pct_below_cutoff\": 0.9821428571428571, \"name\": \"Gold Coast Transit\", \"caltrans_district\": \"07 - Los Angeles\", \"drmt_organization_name\": null, \"route_name\": null, \"cutoff2\": 20, \"cutoff\": 2}, {\"calitp_itp_id\": 123, \"trip_key\": -5749017611038273867, \"trip_id\": \"[@1.0.62083704@][8][1623269965867]/14__1102/MF\", \"shape_id\": \"[@1.0.12094204@]1\", \"route_id\": \"11\", \"service_hours\": 0.62, \"trip_first_departure_ts\": 51900, \"trip_last_arrival_ts\": 54120, \"departure_hour\": 14, \"time_of_day\": \"Midday\", \"p25\": 0.55, \"p50\": 0.58, \"p75\": 0.6, \"p50_trip\": 0, \"fastest_trip\": 0, \"car_duration_hours\": 0.3, \"competitive_route\": 1, \"bus_multiplier\": 2.07, \"bus_difference\": 19.2, \"num_trips\": 56, \"num_competitive\": 48, \"pct_trips_competitive\": 0.857, \"bus_difference_spread\": 9.600000000000001, \"route_group\": \"short\", \"max_trip_hrs\": 0.68, \"max_trip_route_group\": 0.68, \"below_cutoff\": 55, \"pct_below_cutoff\": 0.9821428571428571, \"name\": \"Gold Coast Transit\", \"caltrans_district\": \"07 - Los Angeles\", \"drmt_organization_name\": null, \"route_name\": null, \"cutoff2\": 20, \"cutoff\": 2}, {\"calitp_itp_id\": 123, \"trip_key\": 5992972138535387871, \"trip_id\": \"[@1.0.62083704@][8][1623269965867]/17__1103/MF\", \"shape_id\": \"[@1.0.12094204@]1\", \"route_id\": \"11\", \"service_hours\": 0.62, \"trip_first_departure_ts\": 59100, \"trip_last_arrival_ts\": 61320, \"departure_hour\": 16, \"time_of_day\": \"Midday\", \"p25\": 0.55, \"p50\": 0.58, \"p75\": 0.6, \"p50_trip\": 0, \"fastest_trip\": 0, \"car_duration_hours\": 0.3, \"competitive_route\": 1, \"bus_multiplier\": 2.07, \"bus_difference\": 19.2, \"num_trips\": 56, \"num_competitive\": 48, \"pct_trips_competitive\": 0.857, \"bus_difference_spread\": 9.600000000000001, \"route_group\": \"short\", \"max_trip_hrs\": 0.68, \"max_trip_route_group\": 0.68, \"below_cutoff\": 55, \"pct_below_cutoff\": 0.9821428571428571, \"name\": \"Gold Coast Transit\", \"caltrans_district\": \"07 - Los Angeles\", \"drmt_organization_name\": null, \"route_name\": null, \"cutoff2\": 20, \"cutoff\": 2}, {\"calitp_itp_id\": 123, \"trip_key\": -7934741256932568368, \"trip_id\": \"[@1.0.62083704@][8][1623270200522]/27__1102/MF\", \"shape_id\": \"[@1.0.12094204@]1\", \"route_id\": \"11\", \"service_hours\": 0.62, \"trip_first_departure_ts\": 57300, \"trip_last_arrival_ts\": 59520, \"departure_hour\": 15, \"time_of_day\": \"Midday\", \"p25\": 0.55, \"p50\": 0.58, \"p75\": 0.6, \"p50_trip\": 0, \"fastest_trip\": 0, \"car_duration_hours\": 0.3, \"competitive_route\": 1, \"bus_multiplier\": 2.07, \"bus_difference\": 19.2, \"num_trips\": 56, \"num_competitive\": 48, \"pct_trips_competitive\": 0.857, \"bus_difference_spread\": 9.600000000000001, \"route_group\": \"short\", \"max_trip_hrs\": 0.68, \"max_trip_route_group\": 0.68, \"below_cutoff\": 55, \"pct_below_cutoff\": 0.9821428571428571, \"name\": \"Gold Coast Transit\", \"caltrans_district\": \"07 - Los Angeles\", \"drmt_organization_name\": null, \"route_name\": null, \"cutoff2\": 20, \"cutoff\": 2}, {\"calitp_itp_id\": 123, \"trip_key\": -7459510066676945067, \"trip_id\": \"[@1.0.62083704@][8][1623269965867]/12__1103/MF\", \"shape_id\": \"[@1.0.12094204@]1\", \"route_id\": \"11\", \"service_hours\": 0.62, \"trip_first_departure_ts\": 48300, \"trip_last_arrival_ts\": 50520, \"departure_hour\": 13, \"time_of_day\": \"Midday\", \"p25\": 0.55, \"p50\": 0.58, \"p75\": 0.6, \"p50_trip\": 0, \"fastest_trip\": 0, \"car_duration_hours\": 0.3, \"competitive_route\": 1, \"bus_multiplier\": 2.07, \"bus_difference\": 19.2, \"num_trips\": 56, \"num_competitive\": 48, \"pct_trips_competitive\": 0.857, \"bus_difference_spread\": 9.600000000000001, \"route_group\": \"short\", \"max_trip_hrs\": 0.68, \"max_trip_route_group\": 0.68, \"below_cutoff\": 55, \"pct_below_cutoff\": 0.9821428571428571, \"name\": \"Gold Coast Transit\", \"caltrans_district\": \"07 - Los Angeles\", \"drmt_organization_name\": null, \"route_name\": null, \"cutoff2\": 20, \"cutoff\": 2}, {\"calitp_itp_id\": 123, \"trip_key\": -7382530921435603726, \"trip_id\": \"[@1.0.62083704@][8][1623269965867]/16__1101/MF\", \"shape_id\": \"[@1.0.12094204@]1\", \"route_id\": \"11\", \"service_hours\": 0.62, \"trip_first_departure_ts\": 55500, \"trip_last_arrival_ts\": 57720, \"departure_hour\": 15, \"time_of_day\": \"Midday\", \"p25\": 0.55, \"p50\": 0.58, \"p75\": 0.6, \"p50_trip\": 0, \"fastest_trip\": 0, \"car_duration_hours\": 0.3, \"competitive_route\": 1, \"bus_multiplier\": 2.07, \"bus_difference\": 19.2, \"num_trips\": 56, \"num_competitive\": 48, \"pct_trips_competitive\": 0.857, \"bus_difference_spread\": 9.600000000000001, \"route_group\": \"short\", \"max_trip_hrs\": 0.68, \"max_trip_route_group\": 0.68, \"below_cutoff\": 55, \"pct_below_cutoff\": 0.9821428571428571, \"name\": \"Gold Coast Transit\", \"caltrans_district\": \"07 - Los Angeles\", \"drmt_organization_name\": null, \"route_name\": null, \"cutoff2\": 20, \"cutoff\": 2}, {\"calitp_itp_id\": 123, \"trip_key\": -6055443258463673118, \"trip_id\": \"[@1.0.62083704@][8][1623269965867]/10__1101/MF\", \"shape_id\": \"[@1.0.12094204@]1\", \"route_id\": \"11\", \"service_hours\": 0.68, \"trip_first_departure_ts\": 44700, \"trip_last_arrival_ts\": 47160, \"departure_hour\": 12, \"time_of_day\": \"Midday\", \"p25\": 0.55, \"p50\": 0.58, \"p75\": 0.6, \"p50_trip\": 0, \"fastest_trip\": 0, \"car_duration_hours\": 0.3, \"competitive_route\": 1, \"bus_multiplier\": 2.27, \"bus_difference\": 22.8, \"num_trips\": 56, \"num_competitive\": 48, \"pct_trips_competitive\": 0.857, \"bus_difference_spread\": 9.600000000000001, \"route_group\": \"short\", \"max_trip_hrs\": 0.68, \"max_trip_route_group\": 0.68, \"below_cutoff\": 55, \"pct_below_cutoff\": 0.9821428571428571, \"name\": \"Gold Coast Transit\", \"caltrans_district\": \"07 - Los Angeles\", \"drmt_organization_name\": null, \"route_name\": null, \"cutoff2\": 20, \"cutoff\": 2}, {\"calitp_itp_id\": 123, \"trip_key\": 394576751653948139, \"trip_id\": \"[@1.0.54596205@][8][1591601531227]/0__1501/MF\", \"shape_id\": \"[@1.0.567661@]1\", \"route_id\": \"15\", \"service_hours\": 0.55, \"trip_first_departure_ts\": 29700, \"trip_last_arrival_ts\": 31680, \"departure_hour\": 8, \"time_of_day\": \"AM Peak\", \"p25\": 0.62, \"p50\": 0.67, \"p75\": 0.72, \"p50_trip\": 0, \"fastest_trip\": 0, \"car_duration_hours\": 0.45, \"competitive_route\": 1, \"bus_multiplier\": 1.22, \"bus_difference\": 6.0, \"num_trips\": 25, \"num_competitive\": 25, \"pct_trips_competitive\": 1.0, \"bus_difference_spread\": 12.0, \"route_group\": \"short\", \"max_trip_hrs\": 0.75, \"max_trip_route_group\": 0.75, \"below_cutoff\": 25, \"pct_below_cutoff\": 1.0, \"name\": \"Gold Coast Transit\", \"caltrans_district\": \"07 - Los Angeles\", \"drmt_organization_name\": null, \"route_name\": null, \"cutoff2\": 20, \"cutoff\": 2}, {\"calitp_itp_id\": 123, \"trip_key\": 7777626037555053921, \"trip_id\": \"[@1.0.54596205@][8][1591601531227]/12__1501/MF\", \"shape_id\": \"[@1.0.567661@]1\", \"route_id\": \"15\", \"service_hours\": 0.55, \"trip_first_departure_ts\": 64800, \"trip_last_arrival_ts\": 66780, \"departure_hour\": 18, \"time_of_day\": \"PM Peak\", \"p25\": 0.62, \"p50\": 0.67, \"p75\": 0.72, \"p50_trip\": 0, \"fastest_trip\": 1, \"car_duration_hours\": 0.45, \"competitive_route\": 1, \"bus_multiplier\": 1.22, \"bus_difference\": 6.0, \"num_trips\": 25, \"num_competitive\": 25, \"pct_trips_competitive\": 1.0, \"bus_difference_spread\": 12.0, \"route_group\": \"short\", \"max_trip_hrs\": 0.75, \"max_trip_route_group\": 0.75, \"below_cutoff\": 25, \"pct_below_cutoff\": 1.0, \"name\": \"Gold Coast Transit\", \"caltrans_district\": \"07 - Los Angeles\", \"drmt_organization_name\": null, \"route_name\": null, \"cutoff2\": 20, \"cutoff\": 2}, {\"calitp_itp_id\": 123, \"trip_key\": -8445251455085083644, \"trip_id\": \"[@1.0.54596205@][9][1591601706798]/13__1502/MF\", \"shape_id\": \"[@1.0.49500777@]3\", \"route_id\": \"15\", \"service_hours\": 0.58, \"trip_first_departure_ts\": 29880, \"trip_last_arrival_ts\": 31980, \"departure_hour\": 8, \"time_of_day\": \"AM Peak\", \"p25\": 0.62, \"p50\": 0.67, \"p75\": 0.72, \"p50_trip\": 0, \"fastest_trip\": 0, \"car_duration_hours\": 0.45, \"competitive_route\": 1, \"bus_multiplier\": 1.29, \"bus_difference\": 7.8, \"num_trips\": 25, \"num_competitive\": 25, \"pct_trips_competitive\": 1.0, \"bus_difference_spread\": 12.0, \"route_group\": \"short\", \"max_trip_hrs\": 0.75, \"max_trip_route_group\": 0.75, \"below_cutoff\": 25, \"pct_below_cutoff\": 1.0, \"name\": \"Gold Coast Transit\", \"caltrans_district\": \"07 - Los Angeles\", \"drmt_organization_name\": null, \"route_name\": null, \"cutoff2\": 20, \"cutoff\": 2}, {\"calitp_itp_id\": 123, \"trip_key\": -546682182020560826, \"trip_id\": \"[@1.0.54596205@][8][1591601531227]/3__1502/MF\", \"shape_id\": \"[@1.0.567661@]1\", \"route_id\": \"15\", \"service_hours\": 0.6, \"trip_first_departure_ts\": 37800, \"trip_last_arrival_ts\": 39960, \"departure_hour\": 10, \"time_of_day\": \"Midday\", \"p25\": 0.62, \"p50\": 0.67, \"p75\": 0.72, \"p50_trip\": 0, \"fastest_trip\": 0, \"car_duration_hours\": 0.45, \"competitive_route\": 1, \"bus_multiplier\": 1.33, \"bus_difference\": 9.0, \"num_trips\": 25, \"num_competitive\": 25, \"pct_trips_competitive\": 1.0, \"bus_difference_spread\": 12.0, \"route_group\": \"short\", \"max_trip_hrs\": 0.75, \"max_trip_route_group\": 0.75, \"below_cutoff\": 25, \"pct_below_cutoff\": 1.0, \"name\": \"Gold Coast Transit\", \"caltrans_district\": \"07 - Los Angeles\", \"drmt_organization_name\": null, \"route_name\": null, \"cutoff2\": 20, \"cutoff\": 2}, {\"calitp_itp_id\": 123, \"trip_key\": 8063163746988588673, \"trip_id\": \"[@1.0.54596205@][8][1591601531227]/1__1502/MF\", \"shape_id\": \"[@1.0.567661@]1\", \"route_id\": \"15\", \"service_hours\": 0.6, \"trip_first_departure_ts\": 32400, \"trip_last_arrival_ts\": 34560, \"departure_hour\": 9, \"time_of_day\": \"AM Peak\", \"p25\": 0.62, \"p50\": 0.67, \"p75\": 0.72, \"p50_trip\": 0, \"fastest_trip\": 0, \"car_duration_hours\": 0.45, \"competitive_route\": 1, \"bus_multiplier\": 1.33, \"bus_difference\": 9.0, \"num_trips\": 25, \"num_competitive\": 25, \"pct_trips_competitive\": 1.0, \"bus_difference_spread\": 12.0, \"route_group\": \"short\", \"max_trip_hrs\": 0.75, \"max_trip_route_group\": 0.75, \"below_cutoff\": 25, \"pct_below_cutoff\": 1.0, \"name\": \"Gold Coast Transit\", \"caltrans_district\": \"07 - Los Angeles\", \"drmt_organization_name\": null, \"route_name\": null, \"cutoff2\": 20, \"cutoff\": 2}, {\"calitp_itp_id\": 123, \"trip_key\": -2543667842253870401, \"trip_id\": \"[@1.0.54596205@][8][1591601531227]/2__1501/MF\", \"shape_id\": \"[@1.0.567661@]1\", \"route_id\": \"15\", \"service_hours\": 0.6, \"trip_first_departure_ts\": 35100, \"trip_last_arrival_ts\": 37260, \"departure_hour\": 9, \"time_of_day\": \"AM Peak\", \"p25\": 0.62, \"p50\": 0.67, \"p75\": 0.72, \"p50_trip\": 0, \"fastest_trip\": 0, \"car_duration_hours\": 0.45, \"competitive_route\": 1, \"bus_multiplier\": 1.33, \"bus_difference\": 9.0, \"num_trips\": 25, \"num_competitive\": 25, \"pct_trips_competitive\": 1.0, \"bus_difference_spread\": 12.0, \"route_group\": \"short\", \"max_trip_hrs\": 0.75, \"max_trip_route_group\": 0.75, \"below_cutoff\": 25, \"pct_below_cutoff\": 1.0, \"name\": \"Gold Coast Transit\", \"caltrans_district\": \"07 - Los Angeles\", \"drmt_organization_name\": null, \"route_name\": null, \"cutoff2\": 20, \"cutoff\": 2}, {\"calitp_itp_id\": 123, \"trip_key\": 1409911732989310483, \"trip_id\": \"[@1.0.56791677@][8][1603224933504]/0__1502/MF\", \"shape_id\": \"[@1.0.567661@]1\", \"route_id\": \"15\", \"service_hours\": 0.62, \"trip_first_departure_ts\": 61800, \"trip_last_arrival_ts\": 64020, \"departure_hour\": 17, \"time_of_day\": \"PM Peak\", \"p25\": 0.62, \"p50\": 0.67, \"p75\": 0.72, \"p50_trip\": 0, \"fastest_trip\": 0, \"car_duration_hours\": 0.45, \"competitive_route\": 1, \"bus_multiplier\": 1.38, \"bus_difference\": 10.2, \"num_trips\": 25, \"num_competitive\": 25, \"pct_trips_competitive\": 1.0, \"bus_difference_spread\": 12.0, \"route_group\": \"short\", \"max_trip_hrs\": 0.75, \"max_trip_route_group\": 0.75, \"below_cutoff\": 25, \"pct_below_cutoff\": 1.0, \"name\": \"Gold Coast Transit\", \"caltrans_district\": \"07 - Los Angeles\", \"drmt_organization_name\": null, \"route_name\": null, \"cutoff2\": 20, \"cutoff\": 2}, {\"calitp_itp_id\": 123, \"trip_key\": 2578810324104730806, \"trip_id\": \"[@1.0.54596205@][8][1591601531227]/5__1502/MF\", \"shape_id\": \"[@1.0.567661@]1\", \"route_id\": \"15\", \"service_hours\": 0.67, \"trip_first_departure_ts\": 43800, \"trip_last_arrival_ts\": 46200, \"departure_hour\": 12, \"time_of_day\": \"Midday\", \"p25\": 0.62, \"p50\": 0.67, \"p75\": 0.72, \"p50_trip\": 1, \"fastest_trip\": 0, \"car_duration_hours\": 0.45, \"competitive_route\": 1, \"bus_multiplier\": 1.49, \"bus_difference\": 13.2, \"num_trips\": 25, \"num_competitive\": 25, \"pct_trips_competitive\": 1.0, \"bus_difference_spread\": 12.0, \"route_group\": \"short\", \"max_trip_hrs\": 0.75, \"max_trip_route_group\": 0.75, \"below_cutoff\": 25, \"pct_below_cutoff\": 1.0, \"name\": \"Gold Coast Transit\", \"caltrans_district\": \"07 - Los Angeles\", \"drmt_organization_name\": null, \"route_name\": null, \"cutoff2\": 20, \"cutoff\": 2}, {\"calitp_itp_id\": 123, \"trip_key\": 846387118305110812, \"trip_id\": \"[@1.0.54596205@][8][1591601531227]/6__1501/MF\", \"shape_id\": \"[@1.0.567661@]1\", \"route_id\": \"15\", \"service_hours\": 0.67, \"trip_first_departure_ts\": 46800, \"trip_last_arrival_ts\": 49200, \"departure_hour\": 13, \"time_of_day\": \"Midday\", \"p25\": 0.62, \"p50\": 0.67, \"p75\": 0.72, \"p50_trip\": 1, \"fastest_trip\": 0, \"car_duration_hours\": 0.45, \"competitive_route\": 1, \"bus_multiplier\": 1.49, \"bus_difference\": 13.2, \"num_trips\": 25, \"num_competitive\": 25, \"pct_trips_competitive\": 1.0, \"bus_difference_spread\": 12.0, \"route_group\": \"short\", \"max_trip_hrs\": 0.75, \"max_trip_route_group\": 0.75, \"below_cutoff\": 25, \"pct_below_cutoff\": 1.0, \"name\": \"Gold Coast Transit\", \"caltrans_district\": \"07 - Los Angeles\", \"drmt_organization_name\": null, \"route_name\": null, \"cutoff2\": 20, \"cutoff\": 2}, {\"calitp_itp_id\": 123, \"trip_key\": -7618554743726336719, \"trip_id\": \"[@1.0.54596205@][8][1591601531227]/7__1502/MF\", \"shape_id\": \"[@1.0.567661@]1\", \"route_id\": \"15\", \"service_hours\": 0.67, \"trip_first_departure_ts\": 49800, \"trip_last_arrival_ts\": 52200, \"departure_hour\": 13, \"time_of_day\": \"Midday\", \"p25\": 0.62, \"p50\": 0.67, \"p75\": 0.72, \"p50_trip\": 1, \"fastest_trip\": 0, \"car_duration_hours\": 0.45, \"competitive_route\": 1, \"bus_multiplier\": 1.49, \"bus_difference\": 13.2, \"num_trips\": 25, \"num_competitive\": 25, \"pct_trips_competitive\": 1.0, \"bus_difference_spread\": 12.0, \"route_group\": \"short\", \"max_trip_hrs\": 0.75, \"max_trip_route_group\": 0.75, \"below_cutoff\": 25, \"pct_below_cutoff\": 1.0, \"name\": \"Gold Coast Transit\", \"caltrans_district\": \"07 - Los Angeles\", \"drmt_organization_name\": null, \"route_name\": null, \"cutoff2\": 20, \"cutoff\": 2}, {\"calitp_itp_id\": 123, \"trip_key\": -3596481844340437464, \"trip_id\": \"[@1.0.54596205@][8][1591601531227]/9__1502/MF\", \"shape_id\": \"[@1.0.567661@]1\", \"route_id\": \"15\", \"service_hours\": 0.67, \"trip_first_departure_ts\": 55800, \"trip_last_arrival_ts\": 58200, \"departure_hour\": 15, \"time_of_day\": \"Midday\", \"p25\": 0.62, \"p50\": 0.67, \"p75\": 0.72, \"p50_trip\": 1, \"fastest_trip\": 0, \"car_duration_hours\": 0.45, \"competitive_route\": 1, \"bus_multiplier\": 1.49, \"bus_difference\": 13.2, \"num_trips\": 25, \"num_competitive\": 25, \"pct_trips_competitive\": 1.0, \"bus_difference_spread\": 12.0, \"route_group\": \"short\", \"max_trip_hrs\": 0.75, \"max_trip_route_group\": 0.75, \"below_cutoff\": 25, \"pct_below_cutoff\": 1.0, \"name\": \"Gold Coast Transit\", \"caltrans_district\": \"07 - Los Angeles\", \"drmt_organization_name\": null, \"route_name\": null, \"cutoff2\": 20, \"cutoff\": 2}, {\"calitp_itp_id\": 123, \"trip_key\": -7655654849266970526, \"trip_id\": \"[@1.0.54596205@][8][1591601531227]/8__1501/MF\", \"shape_id\": \"[@1.0.567661@]1\", \"route_id\": \"15\", \"service_hours\": 0.67, \"trip_first_departure_ts\": 52800, \"trip_last_arrival_ts\": 55200, \"departure_hour\": 14, \"time_of_day\": \"Midday\", \"p25\": 0.62, \"p50\": 0.67, \"p75\": 0.72, \"p50_trip\": 1, \"fastest_trip\": 0, \"car_duration_hours\": 0.45, \"competitive_route\": 1, \"bus_multiplier\": 1.49, \"bus_difference\": 13.2, \"num_trips\": 25, \"num_competitive\": 25, \"pct_trips_competitive\": 1.0, \"bus_difference_spread\": 12.0, \"route_group\": \"short\", \"max_trip_hrs\": 0.75, \"max_trip_route_group\": 0.75, \"below_cutoff\": 25, \"pct_below_cutoff\": 1.0, \"name\": \"Gold Coast Transit\", \"caltrans_district\": \"07 - Los Angeles\", \"drmt_organization_name\": null, \"route_name\": null, \"cutoff2\": 20, \"cutoff\": 2}, {\"calitp_itp_id\": 123, \"trip_key\": 7722965107654728913, \"trip_id\": \"[@1.0.54596205@][8][1591601531227]/4__1501/MF\", \"shape_id\": \"[@1.0.567661@]1\", \"route_id\": \"15\", \"service_hours\": 0.67, \"trip_first_departure_ts\": 40800, \"trip_last_arrival_ts\": 43200, \"departure_hour\": 11, \"time_of_day\": \"Midday\", \"p25\": 0.62, \"p50\": 0.67, \"p75\": 0.72, \"p50_trip\": 1, \"fastest_trip\": 0, \"car_duration_hours\": 0.45, \"competitive_route\": 1, \"bus_multiplier\": 1.49, \"bus_difference\": 13.2, \"num_trips\": 25, \"num_competitive\": 25, \"pct_trips_competitive\": 1.0, \"bus_difference_spread\": 12.0, \"route_group\": \"short\", \"max_trip_hrs\": 0.75, \"max_trip_route_group\": 0.75, \"below_cutoff\": 25, \"pct_below_cutoff\": 1.0, \"name\": \"Gold Coast Transit\", \"caltrans_district\": \"07 - Los Angeles\", \"drmt_organization_name\": null, \"route_name\": null, \"cutoff2\": 20, \"cutoff\": 2}, {\"calitp_itp_id\": 123, \"trip_key\": 8590014577844580458, \"trip_id\": \"[@1.0.54596205@][8][1591601531227]/10__1501/MF\", \"shape_id\": \"[@1.0.567661@]1\", \"route_id\": \"15\", \"service_hours\": 0.67, \"trip_first_departure_ts\": 58800, \"trip_last_arrival_ts\": 61200, \"departure_hour\": 16, \"time_of_day\": \"Midday\", \"p25\": 0.62, \"p50\": 0.67, \"p75\": 0.72, \"p50_trip\": 1, \"fastest_trip\": 0, \"car_duration_hours\": 0.45, \"competitive_route\": 1, \"bus_multiplier\": 1.49, \"bus_difference\": 13.2, \"num_trips\": 25, \"num_competitive\": 25, \"pct_trips_competitive\": 1.0, \"bus_difference_spread\": 12.0, \"route_group\": \"short\", \"max_trip_hrs\": 0.75, \"max_trip_route_group\": 0.75, \"below_cutoff\": 25, \"pct_below_cutoff\": 1.0, \"name\": \"Gold Coast Transit\", \"caltrans_district\": \"07 - Los Angeles\", \"drmt_organization_name\": null, \"route_name\": null, \"cutoff2\": 20, \"cutoff\": 2}, {\"calitp_itp_id\": 123, \"trip_key\": -5845103218638896760, \"trip_id\": \"[@1.0.54596205@][9][1591601706798]/16__1501/MF\", \"shape_id\": \"[@1.0.567661@]2\", \"route_id\": \"15\", \"service_hours\": 0.7, \"trip_first_departure_ts\": 37800, \"trip_last_arrival_ts\": 40320, \"departure_hour\": 10, \"time_of_day\": \"Midday\", \"p25\": 0.62, \"p50\": 0.67, \"p75\": 0.72, \"p50_trip\": 0, \"fastest_trip\": 0, \"car_duration_hours\": 0.45, \"competitive_route\": 1, \"bus_multiplier\": 1.56, \"bus_difference\": 15.0, \"num_trips\": 25, \"num_competitive\": 25, \"pct_trips_competitive\": 1.0, \"bus_difference_spread\": 12.0, \"route_group\": \"short\", \"max_trip_hrs\": 0.75, \"max_trip_route_group\": 0.75, \"below_cutoff\": 25, \"pct_below_cutoff\": 1.0, \"name\": \"Gold Coast Transit\", \"caltrans_district\": \"07 - Los Angeles\", \"drmt_organization_name\": null, \"route_name\": null, \"cutoff2\": 20, \"cutoff\": 2}, {\"calitp_itp_id\": 123, \"trip_key\": -7237280433113365916, \"trip_id\": \"[@1.0.54596205@][9][1591601706798]/14__1501/MF\", \"shape_id\": \"[@1.0.567661@]2\", \"route_id\": \"15\", \"service_hours\": 0.7, \"trip_first_departure_ts\": 32100, \"trip_last_arrival_ts\": 34620, \"departure_hour\": 8, \"time_of_day\": \"AM Peak\", \"p25\": 0.62, \"p50\": 0.67, \"p75\": 0.72, \"p50_trip\": 0, \"fastest_trip\": 0, \"car_duration_hours\": 0.45, \"competitive_route\": 1, \"bus_multiplier\": 1.56, \"bus_difference\": 15.0, \"num_trips\": 25, \"num_competitive\": 25, \"pct_trips_competitive\": 1.0, \"bus_difference_spread\": 12.0, \"route_group\": \"short\", \"max_trip_hrs\": 0.75, \"max_trip_route_group\": 0.75, \"below_cutoff\": 25, \"pct_below_cutoff\": 1.0, \"name\": \"Gold Coast Transit\", \"caltrans_district\": \"07 - Los Angeles\", \"drmt_organization_name\": null, \"route_name\": null, \"cutoff2\": 20, \"cutoff\": 2}, {\"calitp_itp_id\": 123, \"trip_key\": 2586141109768626921, \"trip_id\": \"[@1.0.54596205@][9][1591601706798]/15__1502/MF\", \"shape_id\": \"[@1.0.567661@]2\", \"route_id\": \"15\", \"service_hours\": 0.7, \"trip_first_departure_ts\": 34800, \"trip_last_arrival_ts\": 37320, \"departure_hour\": 9, \"time_of_day\": \"AM Peak\", \"p25\": 0.62, \"p50\": 0.67, \"p75\": 0.72, \"p50_trip\": 0, \"fastest_trip\": 0, \"car_duration_hours\": 0.45, \"competitive_route\": 1, \"bus_multiplier\": 1.56, \"bus_difference\": 15.0, \"num_trips\": 25, \"num_competitive\": 25, \"pct_trips_competitive\": 1.0, \"bus_difference_spread\": 12.0, \"route_group\": \"short\", \"max_trip_hrs\": 0.75, \"max_trip_route_group\": 0.75, \"below_cutoff\": 25, \"pct_below_cutoff\": 1.0, \"name\": \"Gold Coast Transit\", \"caltrans_district\": \"07 - Los Angeles\", \"drmt_organization_name\": null, \"route_name\": null, \"cutoff2\": 20, \"cutoff\": 2}, {\"calitp_itp_id\": 123, \"trip_key\": -3140849612052990080, \"trip_id\": \"[@1.0.54596205@][9][1591601706798]/24__1501/MF\", \"shape_id\": \"[@1.0.567661@]2\", \"route_id\": \"15\", \"service_hours\": 0.7, \"trip_first_departure_ts\": 61800, \"trip_last_arrival_ts\": 64320, \"departure_hour\": 17, \"time_of_day\": \"PM Peak\", \"p25\": 0.62, \"p50\": 0.67, \"p75\": 0.72, \"p50_trip\": 0, \"fastest_trip\": 0, \"car_duration_hours\": 0.45, \"competitive_route\": 1, \"bus_multiplier\": 1.56, \"bus_difference\": 15.0, \"num_trips\": 25, \"num_competitive\": 25, \"pct_trips_competitive\": 1.0, \"bus_difference_spread\": 12.0, \"route_group\": \"short\", \"max_trip_hrs\": 0.75, \"max_trip_route_group\": 0.75, \"below_cutoff\": 25, \"pct_below_cutoff\": 1.0, \"name\": \"Gold Coast Transit\", \"caltrans_district\": \"07 - Los Angeles\", \"drmt_organization_name\": null, \"route_name\": null, \"cutoff2\": 20, \"cutoff\": 2}, {\"calitp_itp_id\": 123, \"trip_key\": 5318243453526181446, \"trip_id\": \"[@1.0.56791677@][9][1603226249555]/1__1502/MF\", \"shape_id\": \"[@1.0.567661@]2\", \"route_id\": \"15\", \"service_hours\": 0.72, \"trip_first_departure_ts\": 58800, \"trip_last_arrival_ts\": 61380, \"departure_hour\": 16, \"time_of_day\": \"Midday\", \"p25\": 0.62, \"p50\": 0.67, \"p75\": 0.72, \"p50_trip\": 0, \"fastest_trip\": 0, \"car_duration_hours\": 0.45, \"competitive_route\": 1, \"bus_multiplier\": 1.6, \"bus_difference\": 16.2, \"num_trips\": 25, \"num_competitive\": 25, \"pct_trips_competitive\": 1.0, \"bus_difference_spread\": 12.0, \"route_group\": \"short\", \"max_trip_hrs\": 0.75, \"max_trip_route_group\": 0.75, \"below_cutoff\": 25, \"pct_below_cutoff\": 1.0, \"name\": \"Gold Coast Transit\", \"caltrans_district\": \"07 - Los Angeles\", \"drmt_organization_name\": null, \"route_name\": null, \"cutoff2\": 20, \"cutoff\": 2}, {\"calitp_itp_id\": 123, \"trip_key\": 7391165619851399355, \"trip_id\": \"[@1.0.54596205@][9][1591601706798]/22__1501/MF\", \"shape_id\": \"[@1.0.567661@]2\", \"route_id\": \"15\", \"service_hours\": 0.75, \"trip_first_departure_ts\": 55800, \"trip_last_arrival_ts\": 58500, \"departure_hour\": 15, \"time_of_day\": \"Midday\", \"p25\": 0.62, \"p50\": 0.67, \"p75\": 0.72, \"p50_trip\": 0, \"fastest_trip\": 0, \"car_duration_hours\": 0.45, \"competitive_route\": 1, \"bus_multiplier\": 1.67, \"bus_difference\": 18.0, \"num_trips\": 25, \"num_competitive\": 25, \"pct_trips_competitive\": 1.0, \"bus_difference_spread\": 12.0, \"route_group\": \"short\", \"max_trip_hrs\": 0.75, \"max_trip_route_group\": 0.75, \"below_cutoff\": 25, \"pct_below_cutoff\": 1.0, \"name\": \"Gold Coast Transit\", \"caltrans_district\": \"07 - Los Angeles\", \"drmt_organization_name\": null, \"route_name\": null, \"cutoff2\": 20, \"cutoff\": 2}, {\"calitp_itp_id\": 123, \"trip_key\": -865186325645978286, \"trip_id\": \"[@1.0.54596205@][9][1591601706798]/19__1502/MF\", \"shape_id\": \"[@1.0.567661@]2\", \"route_id\": \"15\", \"service_hours\": 0.75, \"trip_first_departure_ts\": 46800, \"trip_last_arrival_ts\": 49500, \"departure_hour\": 13, \"time_of_day\": \"Midday\", \"p25\": 0.62, \"p50\": 0.67, \"p75\": 0.72, \"p50_trip\": 0, \"fastest_trip\": 0, \"car_duration_hours\": 0.45, \"competitive_route\": 1, \"bus_multiplier\": 1.67, \"bus_difference\": 18.0, \"num_trips\": 25, \"num_competitive\": 25, \"pct_trips_competitive\": 1.0, \"bus_difference_spread\": 12.0, \"route_group\": \"short\", \"max_trip_hrs\": 0.75, \"max_trip_route_group\": 0.75, \"below_cutoff\": 25, \"pct_below_cutoff\": 1.0, \"name\": \"Gold Coast Transit\", \"caltrans_district\": \"07 - Los Angeles\", \"drmt_organization_name\": null, \"route_name\": null, \"cutoff2\": 20, \"cutoff\": 2}, {\"calitp_itp_id\": 123, \"trip_key\": 8393304992485265009, \"trip_id\": \"[@1.0.54596205@][9][1591601706798]/17__1502/MF\", \"shape_id\": \"[@1.0.567661@]2\", \"route_id\": \"15\", \"service_hours\": 0.75, \"trip_first_departure_ts\": 40800, \"trip_last_arrival_ts\": 43500, \"departure_hour\": 11, \"time_of_day\": \"Midday\", \"p25\": 0.62, \"p50\": 0.67, \"p75\": 0.72, \"p50_trip\": 0, \"fastest_trip\": 0, \"car_duration_hours\": 0.45, \"competitive_route\": 1, \"bus_multiplier\": 1.67, \"bus_difference\": 18.0, \"num_trips\": 25, \"num_competitive\": 25, \"pct_trips_competitive\": 1.0, \"bus_difference_spread\": 12.0, \"route_group\": \"short\", \"max_trip_hrs\": 0.75, \"max_trip_route_group\": 0.75, \"below_cutoff\": 25, \"pct_below_cutoff\": 1.0, \"name\": \"Gold Coast Transit\", \"caltrans_district\": \"07 - Los Angeles\", \"drmt_organization_name\": null, \"route_name\": null, \"cutoff2\": 20, \"cutoff\": 2}, {\"calitp_itp_id\": 123, \"trip_key\": -2163024508308576291, \"trip_id\": \"[@1.0.54596205@][9][1591601706798]/18__1501/MF\", \"shape_id\": \"[@1.0.567661@]2\", \"route_id\": \"15\", \"service_hours\": 0.75, \"trip_first_departure_ts\": 43800, \"trip_last_arrival_ts\": 46500, \"departure_hour\": 12, \"time_of_day\": \"Midday\", \"p25\": 0.62, \"p50\": 0.67, \"p75\": 0.72, \"p50_trip\": 0, \"fastest_trip\": 0, \"car_duration_hours\": 0.45, \"competitive_route\": 1, \"bus_multiplier\": 1.67, \"bus_difference\": 18.0, \"num_trips\": 25, \"num_competitive\": 25, \"pct_trips_competitive\": 1.0, \"bus_difference_spread\": 12.0, \"route_group\": \"short\", \"max_trip_hrs\": 0.75, \"max_trip_route_group\": 0.75, \"below_cutoff\": 25, \"pct_below_cutoff\": 1.0, \"name\": \"Gold Coast Transit\", \"caltrans_district\": \"07 - Los Angeles\", \"drmt_organization_name\": null, \"route_name\": null, \"cutoff2\": 20, \"cutoff\": 2}, {\"calitp_itp_id\": 123, \"trip_key\": 799422507511558741, \"trip_id\": \"[@1.0.54596205@][9][1591601706798]/20__1501/MF\", \"shape_id\": \"[@1.0.567661@]2\", \"route_id\": \"15\", \"service_hours\": 0.75, \"trip_first_departure_ts\": 49800, \"trip_last_arrival_ts\": 52500, \"departure_hour\": 13, \"time_of_day\": \"Midday\", \"p25\": 0.62, \"p50\": 0.67, \"p75\": 0.72, \"p50_trip\": 0, \"fastest_trip\": 0, \"car_duration_hours\": 0.45, \"competitive_route\": 1, \"bus_multiplier\": 1.67, \"bus_difference\": 18.0, \"num_trips\": 25, \"num_competitive\": 25, \"pct_trips_competitive\": 1.0, \"bus_difference_spread\": 12.0, \"route_group\": \"short\", \"max_trip_hrs\": 0.75, \"max_trip_route_group\": 0.75, \"below_cutoff\": 25, \"pct_below_cutoff\": 1.0, \"name\": \"Gold Coast Transit\", \"caltrans_district\": \"07 - Los Angeles\", \"drmt_organization_name\": null, \"route_name\": null, \"cutoff2\": 20, \"cutoff\": 2}, {\"calitp_itp_id\": 123, \"trip_key\": -7571567057349437209, \"trip_id\": \"[@1.0.54596205@][9][1591601706798]/21__1502/MF\", \"shape_id\": \"[@1.0.567661@]2\", \"route_id\": \"15\", \"service_hours\": 0.75, \"trip_first_departure_ts\": 52800, \"trip_last_arrival_ts\": 55500, \"departure_hour\": 14, \"time_of_day\": \"Midday\", \"p25\": 0.62, \"p50\": 0.67, \"p75\": 0.72, \"p50_trip\": 0, \"fastest_trip\": 0, \"car_duration_hours\": 0.45, \"competitive_route\": 1, \"bus_multiplier\": 1.67, \"bus_difference\": 18.0, \"num_trips\": 25, \"num_competitive\": 25, \"pct_trips_competitive\": 1.0, \"bus_difference_spread\": 12.0, \"route_group\": \"short\", \"max_trip_hrs\": 0.75, \"max_trip_route_group\": 0.75, \"below_cutoff\": 25, \"pct_below_cutoff\": 1.0, \"name\": \"Gold Coast Transit\", \"caltrans_district\": \"07 - Los Angeles\", \"drmt_organization_name\": null, \"route_name\": null, \"cutoff2\": 20, \"cutoff\": 2}]}}, {\"mode\": \"vega-lite\"});\n",
       "</script>"
      ],
      "text/plain": [
       "alt.FacetChart(...)"
      ]
     },
     "metadata": {},
     "output_type": "display_data"
    },
    {
     "data": {
      "text/html": [
       "\n",
       "<div id=\"altair-viz-2916ec9ba4664fecb53e10756dc2ff6f\"></div>\n",
       "<script type=\"text/javascript\">\n",
       "  var VEGA_DEBUG = (typeof VEGA_DEBUG == \"undefined\") ? {} : VEGA_DEBUG;\n",
       "  (function(spec, embedOpt){\n",
       "    let outputDiv = document.currentScript.previousElementSibling;\n",
       "    if (outputDiv.id !== \"altair-viz-2916ec9ba4664fecb53e10756dc2ff6f\") {\n",
       "      outputDiv = document.getElementById(\"altair-viz-2916ec9ba4664fecb53e10756dc2ff6f\");\n",
       "    }\n",
       "    const paths = {\n",
       "      \"vega\": \"https://cdn.jsdelivr.net/npm//vega@5?noext\",\n",
       "      \"vega-lib\": \"https://cdn.jsdelivr.net/npm//vega-lib?noext\",\n",
       "      \"vega-lite\": \"https://cdn.jsdelivr.net/npm//vega-lite@4.17.0?noext\",\n",
       "      \"vega-embed\": \"https://cdn.jsdelivr.net/npm//vega-embed@6?noext\",\n",
       "    };\n",
       "\n",
       "    function maybeLoadScript(lib, version) {\n",
       "      var key = `${lib.replace(\"-\", \"\")}_version`;\n",
       "      return (VEGA_DEBUG[key] == version) ?\n",
       "        Promise.resolve(paths[lib]) :\n",
       "        new Promise(function(resolve, reject) {\n",
       "          var s = document.createElement('script');\n",
       "          document.getElementsByTagName(\"head\")[0].appendChild(s);\n",
       "          s.async = true;\n",
       "          s.onload = () => {\n",
       "            VEGA_DEBUG[key] = version;\n",
       "            return resolve(paths[lib]);\n",
       "          };\n",
       "          s.onerror = () => reject(`Error loading script: ${paths[lib]}`);\n",
       "          s.src = paths[lib];\n",
       "        });\n",
       "    }\n",
       "\n",
       "    function showError(err) {\n",
       "      outputDiv.innerHTML = `<div class=\"error\" style=\"color:red;\">${err}</div>`;\n",
       "      throw err;\n",
       "    }\n",
       "\n",
       "    function displayChart(vegaEmbed) {\n",
       "      vegaEmbed(outputDiv, spec, embedOpt)\n",
       "        .catch(err => showError(`Javascript Error: ${err.message}<br>This usually means there's a typo in your chart specification. See the javascript console for the full traceback.`));\n",
       "    }\n",
       "\n",
       "    if(typeof define === \"function\" && define.amd) {\n",
       "      requirejs.config({paths});\n",
       "      require([\"vega-embed\"], displayChart, err => showError(`Error loading script: ${err.message}`));\n",
       "    } else {\n",
       "      maybeLoadScript(\"vega\", \"5\")\n",
       "        .then(() => maybeLoadScript(\"vega-lite\", \"4.17.0\"))\n",
       "        .then(() => maybeLoadScript(\"vega-embed\", \"6\"))\n",
       "        .catch(showError)\n",
       "        .then(() => displayChart(vegaEmbed));\n",
       "    }\n",
       "  })({\"config\": {\"view\": {\"continuousWidth\": 400, \"continuousHeight\": 300, \"stroke\": null}, \"facet\": {\"spacing\": 0}}, \"data\": {\"name\": \"data-58066efbdb882f9dfa5d18f650330b3e\"}, \"facet\": {\"column\": {\"field\": \"route_id\", \"sort\": [\"15\", \"11\"], \"title\": \"Route ID\", \"type\": \"nominal\"}}, \"spec\": {\"layer\": [{\"mark\": \"rule\", \"encoding\": {\"color\": {\"value\": \"black\"}, \"y\": {\"field\": \"cutoff\", \"type\": \"quantitative\"}}, \"selection\": {\"selector002\": {\"type\": \"interval\", \"bind\": \"scales\", \"encodings\": [\"x\", \"y\"]}}}, {\"mark\": {\"type\": \"rule\", \"strokeDash\": [3, 3]}, \"encoding\": {\"color\": {\"value\": \"#323434\"}, \"y\": {\"field\": \"cutoff2\", \"type\": \"quantitative\"}}}, {\"mark\": {\"type\": \"point\", \"opacity\": 0.65, \"size\": 12, \"strokeWidth\": 1.1}, \"encoding\": {\"color\": {\"field\": \"time_of_day\", \"scale\": {\"range\": [\"#136C97\", \"#E16B26\", \"#F6BF16\", \"#00896B\", \"#7790A3\", \"#5B559C\"]}, \"sort\": [\"AM Peak\", \"Midday\", \"PM Peak\", \"Owl Service\"], \"title\": \"Time of Day\", \"type\": \"nominal\"}, \"tooltip\": [{\"field\": \"route_id\", \"type\": \"nominal\"}, {\"field\": \"route_name\", \"type\": \"nominal\"}, {\"field\": \"trip_id\", \"type\": \"nominal\"}, {\"field\": \"service_hours\", \"type\": \"quantitative\"}, {\"field\": \"car_duration_hours\", \"type\": \"quantitative\"}, {\"field\": \"bus_multiplier\", \"type\": \"quantitative\"}, {\"field\": \"bus_difference\", \"type\": \"quantitative\"}, {\"field\": \"num_trips\", \"type\": \"quantitative\"}, {\"field\": \"num_competitive\", \"type\": \"quantitative\"}, {\"field\": \"pct_trips_competitive\", \"type\": \"quantitative\"}, {\"field\": \"p25\", \"type\": \"quantitative\"}, {\"field\": \"p50\", \"type\": \"quantitative\"}, {\"field\": \"p75\", \"type\": \"quantitative\"}], \"x\": {\"axis\": {\"grid\": false, \"labels\": false, \"ticks\": true, \"values\": [0]}, \"field\": \"jitter\", \"scale\": {}, \"title\": null, \"type\": \"quantitative\"}, \"y\": {\"field\": \"bus_difference\", \"scale\": {\"domain\": [-5, 54.6]}, \"title\": \"Difference in Bus to Car Travel Time (min)\", \"type\": \"quantitative\"}}, \"transform\": [{\"calculate\": \"sqrt(-2*log(random()))*cos(2*PI*random())\", \"as\": \"jitter\"}], \"width\": 50}, {\"layer\": [{\"mark\": {\"type\": \"point\", \"opacity\": 0.6, \"size\": 20, \"strokeWidth\": 1.3}, \"encoding\": {\"color\": {\"value\": \"#323434\"}, \"y\": {\"field\": \"bus_difference\", \"type\": \"quantitative\"}}, \"transform\": [{\"filter\": \"(datum.p50_trip === 1)\"}]}, {\"mark\": {\"type\": \"text\", \"align\": \"center\", \"baseline\": \"middle\"}, \"encoding\": {\"color\": {\"value\": \"black\"}, \"text\": {\"field\": \"pct_trips_competitive\", \"format\": \".0%\", \"type\": \"quantitative\"}, \"tooltip\": [{\"field\": \"route_id\", \"type\": \"nominal\"}, {\"field\": \"route_name\", \"type\": \"nominal\"}, {\"field\": \"trip_id\", \"type\": \"nominal\"}, {\"field\": \"service_hours\", \"type\": \"quantitative\"}, {\"field\": \"car_duration_hours\", \"type\": \"quantitative\"}, {\"field\": \"bus_multiplier\", \"type\": \"quantitative\"}, {\"field\": \"bus_difference\", \"type\": \"quantitative\"}, {\"field\": \"num_trips\", \"type\": \"quantitative\"}, {\"field\": \"num_competitive\", \"type\": \"quantitative\"}, {\"field\": \"pct_trips_competitive\", \"type\": \"quantitative\"}, {\"field\": \"p25\", \"type\": \"quantitative\"}, {\"field\": \"p50\", \"type\": \"quantitative\"}, {\"field\": \"p75\", \"type\": \"quantitative\"}], \"x\": {\"value\": 30}, \"y\": {\"value\": 15}}, \"transform\": [{\"calculate\": \"sqrt(-2*log(random()))*cos(2*PI*random())\", \"as\": \"jitter\"}, {\"filter\": \"(datum.fastest_trip === 1)\"}]}]}]}, \"resolve\": {\"scale\": {\"y\": \"shared\"}}, \"title\": \"Difference in Bus to Car Travel Time (min)\", \"$schema\": \"https://vega.github.io/schema/vega-lite/v4.17.0.json\", \"datasets\": {\"data-58066efbdb882f9dfa5d18f650330b3e\": [{\"calitp_itp_id\": 123, \"trip_key\": 214550496230027180, \"trip_id\": \"[@1.0.62083704@][8][1623269965867]/1__1102/MF\", \"shape_id\": \"[@1.0.12094204@]1\", \"route_id\": \"11\", \"service_hours\": 0.52, \"trip_first_departure_ts\": 26400, \"trip_last_arrival_ts\": 28260, \"departure_hour\": 7, \"time_of_day\": \"AM Peak\", \"p25\": 0.55, \"p50\": 0.58, \"p75\": 0.6, \"p50_trip\": 0, \"fastest_trip\": 0, \"car_duration_hours\": 0.3, \"competitive_route\": 1, \"bus_multiplier\": 1.73, \"bus_difference\": 13.2, \"num_trips\": 56, \"num_competitive\": 48, \"pct_trips_competitive\": 0.857, \"bus_difference_spread\": 9.600000000000001, \"route_group\": \"short\", \"max_trip_hrs\": 0.68, \"max_trip_route_group\": 0.68, \"below_cutoff\": 55, \"pct_below_cutoff\": 0.9821428571428571, \"name\": \"Gold Coast Transit\", \"caltrans_district\": \"07 - Los Angeles\", \"drmt_organization_name\": null, \"route_name\": null, \"cutoff2\": 20, \"cutoff\": 0}, {\"calitp_itp_id\": 123, \"trip_key\": 821303326648740029, \"trip_id\": \"[@1.0.62083704@][8][1623269965867]/2__1101/MF\", \"shape_id\": \"[@1.0.12094204@]1\", \"route_id\": \"11\", \"service_hours\": 0.52, \"trip_first_departure_ts\": 28800, \"trip_last_arrival_ts\": 30660, \"departure_hour\": 8, \"time_of_day\": \"AM Peak\", \"p25\": 0.55, \"p50\": 0.58, \"p75\": 0.6, \"p50_trip\": 0, \"fastest_trip\": 1, \"car_duration_hours\": 0.3, \"competitive_route\": 1, \"bus_multiplier\": 1.73, \"bus_difference\": 13.2, \"num_trips\": 56, \"num_competitive\": 48, \"pct_trips_competitive\": 0.857, \"bus_difference_spread\": 9.600000000000001, \"route_group\": \"short\", \"max_trip_hrs\": 0.68, \"max_trip_route_group\": 0.68, \"below_cutoff\": 55, \"pct_below_cutoff\": 0.9821428571428571, \"name\": \"Gold Coast Transit\", \"caltrans_district\": \"07 - Los Angeles\", \"drmt_organization_name\": null, \"route_name\": null, \"cutoff2\": 20, \"cutoff\": 0}, {\"calitp_itp_id\": 123, \"trip_key\": -866115219505739402, \"trip_id\": \"[@1.0.62083704@][8][1623269965867]/0__1101/MF\", \"shape_id\": \"[@1.0.12094204@]1\", \"route_id\": \"11\", \"service_hours\": 0.52, \"trip_first_departure_ts\": 24000, \"trip_last_arrival_ts\": 25860, \"departure_hour\": 6, \"time_of_day\": \"Owl Service\", \"p25\": 0.55, \"p50\": 0.58, \"p75\": 0.6, \"p50_trip\": 0, \"fastest_trip\": 0, \"car_duration_hours\": 0.3, \"competitive_route\": 1, \"bus_multiplier\": 1.73, \"bus_difference\": 13.2, \"num_trips\": 56, \"num_competitive\": 48, \"pct_trips_competitive\": 0.857, \"bus_difference_spread\": 9.600000000000001, \"route_group\": \"short\", \"max_trip_hrs\": 0.68, \"max_trip_route_group\": 0.68, \"below_cutoff\": 55, \"pct_below_cutoff\": 0.9821428571428571, \"name\": \"Gold Coast Transit\", \"caltrans_district\": \"07 - Los Angeles\", \"drmt_organization_name\": null, \"route_name\": null, \"cutoff2\": 20, \"cutoff\": 0}, {\"calitp_itp_id\": 123, \"trip_key\": -2498758204090959281, \"trip_id\": \"[@1.0.62083704@][9][1623270569113]/29__1102/MF\", \"shape_id\": \"[@1.0.12094204@]2\", \"route_id\": \"11\", \"service_hours\": 0.53, \"trip_first_departure_ts\": 24000, \"trip_last_arrival_ts\": 25920, \"departure_hour\": 6, \"time_of_day\": \"Owl Service\", \"p25\": 0.55, \"p50\": 0.58, \"p75\": 0.6, \"p50_trip\": 0, \"fastest_trip\": 0, \"car_duration_hours\": 0.3, \"competitive_route\": 1, \"bus_multiplier\": 1.77, \"bus_difference\": 13.8, \"num_trips\": 56, \"num_competitive\": 48, \"pct_trips_competitive\": 0.857, \"bus_difference_spread\": 9.600000000000001, \"route_group\": \"short\", \"max_trip_hrs\": 0.68, \"max_trip_route_group\": 0.68, \"below_cutoff\": 55, \"pct_below_cutoff\": 0.9821428571428571, \"name\": \"Gold Coast Transit\", \"caltrans_district\": \"07 - Los Angeles\", \"drmt_organization_name\": null, \"route_name\": null, \"cutoff2\": 20, \"cutoff\": 0}, {\"calitp_itp_id\": 123, \"trip_key\": 800531103243119220, \"trip_id\": \"[@1.0.62083704@][9][1623270569113]/53__1102/MF\", \"shape_id\": \"[@1.0.12094204@]2\", \"route_id\": \"11\", \"service_hours\": 0.53, \"trip_first_departure_ts\": 70200, \"trip_last_arrival_ts\": 72120, \"departure_hour\": 19, \"time_of_day\": \"PM Peak\", \"p25\": 0.55, \"p50\": 0.58, \"p75\": 0.6, \"p50_trip\": 0, \"fastest_trip\": 0, \"car_duration_hours\": 0.3, \"competitive_route\": 1, \"bus_multiplier\": 1.77, \"bus_difference\": 13.8, \"num_trips\": 56, \"num_competitive\": 48, \"pct_trips_competitive\": 0.857, \"bus_difference_spread\": 9.600000000000001, \"route_group\": \"short\", \"max_trip_hrs\": 0.68, \"max_trip_route_group\": 0.68, \"below_cutoff\": 55, \"pct_below_cutoff\": 0.9821428571428571, \"name\": \"Gold Coast Transit\", \"caltrans_district\": \"07 - Los Angeles\", \"drmt_organization_name\": null, \"route_name\": null, \"cutoff2\": 20, \"cutoff\": 0}, {\"calitp_itp_id\": 123, \"trip_key\": 1434272936313117643, \"trip_id\": \"[@1.0.62083704@][8][1623269965867]/25__1102/MF\", \"shape_id\": \"[@1.0.12094204@]1\", \"route_id\": \"11\", \"service_hours\": 0.53, \"trip_first_departure_ts\": 72900, \"trip_last_arrival_ts\": 74820, \"departure_hour\": 20, \"time_of_day\": \"Owl Service\", \"p25\": 0.55, \"p50\": 0.58, \"p75\": 0.6, \"p50_trip\": 0, \"fastest_trip\": 0, \"car_duration_hours\": 0.3, \"competitive_route\": 1, \"bus_multiplier\": 1.77, \"bus_difference\": 13.8, \"num_trips\": 56, \"num_competitive\": 48, \"pct_trips_competitive\": 0.857, \"bus_difference_spread\": 9.600000000000001, \"route_group\": \"short\", \"max_trip_hrs\": 0.68, \"max_trip_route_group\": 0.68, \"below_cutoff\": 55, \"pct_below_cutoff\": 0.9821428571428571, \"name\": \"Gold Coast Transit\", \"caltrans_district\": \"07 - Los Angeles\", \"drmt_organization_name\": null, \"route_name\": null, \"cutoff2\": 20, \"cutoff\": 0}, {\"calitp_itp_id\": 123, \"trip_key\": 8276759852205729187, \"trip_id\": \"[@1.0.62083704@][8][1623269965867]/24__1101/MF\", \"shape_id\": \"[@1.0.12094204@]1\", \"route_id\": \"11\", \"service_hours\": 0.53, \"trip_first_departure_ts\": 71400, \"trip_last_arrival_ts\": 73320, \"departure_hour\": 19, \"time_of_day\": \"PM Peak\", \"p25\": 0.55, \"p50\": 0.58, \"p75\": 0.6, \"p50_trip\": 0, \"fastest_trip\": 0, \"car_duration_hours\": 0.3, \"competitive_route\": 1, \"bus_multiplier\": 1.77, \"bus_difference\": 13.8, \"num_trips\": 56, \"num_competitive\": 48, \"pct_trips_competitive\": 0.857, \"bus_difference_spread\": 9.600000000000001, \"route_group\": \"short\", \"max_trip_hrs\": 0.68, \"max_trip_route_group\": 0.68, \"below_cutoff\": 55, \"pct_below_cutoff\": 0.9821428571428571, \"name\": \"Gold Coast Transit\", \"caltrans_district\": \"07 - Los Angeles\", \"drmt_organization_name\": null, \"route_name\": null, \"cutoff2\": 20, \"cutoff\": 0}, {\"calitp_itp_id\": 123, \"trip_key\": 6659277185529916871, \"trip_id\": \"[@1.0.62083704@][9][1623270569113]/54__1103/MF\", \"shape_id\": \"[@1.0.12094204@]2\", \"route_id\": \"11\", \"service_hours\": 0.53, \"trip_first_departure_ts\": 72000, \"trip_last_arrival_ts\": 73920, \"departure_hour\": 20, \"time_of_day\": \"Owl Service\", \"p25\": 0.55, \"p50\": 0.58, \"p75\": 0.6, \"p50_trip\": 0, \"fastest_trip\": 0, \"car_duration_hours\": 0.3, \"competitive_route\": 1, \"bus_multiplier\": 1.77, \"bus_difference\": 13.8, \"num_trips\": 56, \"num_competitive\": 48, \"pct_trips_competitive\": 0.857, \"bus_difference_spread\": 9.600000000000001, \"route_group\": \"short\", \"max_trip_hrs\": 0.68, \"max_trip_route_group\": 0.68, \"below_cutoff\": 55, \"pct_below_cutoff\": 0.9821428571428571, \"name\": \"Gold Coast Transit\", \"caltrans_district\": \"07 - Los Angeles\", \"drmt_organization_name\": null, \"route_name\": null, \"cutoff2\": 20, \"cutoff\": 0}, {\"calitp_itp_id\": 123, \"trip_key\": 1408836823682151551, \"trip_id\": \"[@1.0.62083704@][9][1623270569113]/28__1101/MF\", \"shape_id\": \"[@1.0.12094204@]2\", \"route_id\": \"11\", \"service_hours\": 0.53, \"trip_first_departure_ts\": 21600, \"trip_last_arrival_ts\": 23520, \"departure_hour\": 6, \"time_of_day\": \"Owl Service\", \"p25\": 0.55, \"p50\": 0.58, \"p75\": 0.6, \"p50_trip\": 0, \"fastest_trip\": 0, \"car_duration_hours\": 0.3, \"competitive_route\": 1, \"bus_multiplier\": 1.77, \"bus_difference\": 13.8, \"num_trips\": 56, \"num_competitive\": 48, \"pct_trips_competitive\": 0.857, \"bus_difference_spread\": 9.600000000000001, \"route_group\": \"short\", \"max_trip_hrs\": 0.68, \"max_trip_route_group\": 0.68, \"below_cutoff\": 55, \"pct_below_cutoff\": 0.9821428571428571, \"name\": \"Gold Coast Transit\", \"caltrans_district\": \"07 - Los Angeles\", \"drmt_organization_name\": null, \"route_name\": null, \"cutoff2\": 20, \"cutoff\": 0}, {\"calitp_itp_id\": 123, \"trip_key\": 3529584823861132376, \"trip_id\": \"[@1.0.62083704@][8][1623269965867]/26__1103/MF\", \"shape_id\": \"[@1.0.12094204@]1\", \"route_id\": \"11\", \"service_hours\": 0.53, \"trip_first_departure_ts\": 74400, \"trip_last_arrival_ts\": 76320, \"departure_hour\": 20, \"time_of_day\": \"Owl Service\", \"p25\": 0.55, \"p50\": 0.58, \"p75\": 0.6, \"p50_trip\": 0, \"fastest_trip\": 0, \"car_duration_hours\": 0.3, \"competitive_route\": 1, \"bus_multiplier\": 1.77, \"bus_difference\": 13.8, \"num_trips\": 56, \"num_competitive\": 48, \"pct_trips_competitive\": 0.857, \"bus_difference_spread\": 9.600000000000001, \"route_group\": \"short\", \"max_trip_hrs\": 0.68, \"max_trip_route_group\": 0.68, \"below_cutoff\": 55, \"pct_below_cutoff\": 0.9821428571428571, \"name\": \"Gold Coast Transit\", \"caltrans_district\": \"07 - Los Angeles\", \"drmt_organization_name\": null, \"route_name\": null, \"cutoff2\": 20, \"cutoff\": 0}, {\"calitp_itp_id\": 123, \"trip_key\": -4325138780183454538, \"trip_id\": \"[@1.0.62083704@][9][1623270569113]/50__1101/MF\", \"shape_id\": \"[@1.0.12094204@]2\", \"route_id\": \"11\", \"service_hours\": 0.55, \"trip_first_departure_ts\": 63600, \"trip_last_arrival_ts\": 65580, \"departure_hour\": 17, \"time_of_day\": \"PM Peak\", \"p25\": 0.55, \"p50\": 0.58, \"p75\": 0.6, \"p50_trip\": 0, \"fastest_trip\": 0, \"car_duration_hours\": 0.3, \"competitive_route\": 1, \"bus_multiplier\": 1.83, \"bus_difference\": 15.0, \"num_trips\": 56, \"num_competitive\": 48, \"pct_trips_competitive\": 0.857, \"bus_difference_spread\": 9.600000000000001, \"route_group\": \"short\", \"max_trip_hrs\": 0.68, \"max_trip_route_group\": 0.68, \"below_cutoff\": 55, \"pct_below_cutoff\": 0.9821428571428571, \"name\": \"Gold Coast Transit\", \"caltrans_district\": \"07 - Los Angeles\", \"drmt_organization_name\": null, \"route_name\": null, \"cutoff2\": 20, \"cutoff\": 0}, {\"calitp_itp_id\": 123, \"trip_key\": 7379685873548451231, \"trip_id\": \"[@1.0.62083704@][9][1623292300738]/0__1103/MF\", \"shape_id\": \"[@1.0.12094204@]2\", \"route_id\": \"11\", \"service_hours\": 0.55, \"trip_first_departure_ts\": 66900, \"trip_last_arrival_ts\": 68880, \"departure_hour\": 18, \"time_of_day\": \"PM Peak\", \"p25\": 0.55, \"p50\": 0.58, \"p75\": 0.6, \"p50_trip\": 0, \"fastest_trip\": 0, \"car_duration_hours\": 0.3, \"competitive_route\": 1, \"bus_multiplier\": 1.83, \"bus_difference\": 15.0, \"num_trips\": 56, \"num_competitive\": 48, \"pct_trips_competitive\": 0.857, \"bus_difference_spread\": 9.600000000000001, \"route_group\": \"short\", \"max_trip_hrs\": 0.68, \"max_trip_route_group\": 0.68, \"below_cutoff\": 55, \"pct_below_cutoff\": 0.9821428571428571, \"name\": \"Gold Coast Transit\", \"caltrans_district\": \"07 - Los Angeles\", \"drmt_organization_name\": null, \"route_name\": null, \"cutoff2\": 20, \"cutoff\": 0}, {\"calitp_itp_id\": 123, \"trip_key\": -5230431657078151652, \"trip_id\": \"[@1.0.62083704@][9][1623270569113]/52__1101/MF\", \"shape_id\": \"[@1.0.12094204@]2\", \"route_id\": \"11\", \"service_hours\": 0.55, \"trip_first_departure_ts\": 68700, \"trip_last_arrival_ts\": 70680, \"departure_hour\": 19, \"time_of_day\": \"PM Peak\", \"p25\": 0.55, \"p50\": 0.58, \"p75\": 0.6, \"p50_trip\": 0, \"fastest_trip\": 0, \"car_duration_hours\": 0.3, \"competitive_route\": 1, \"bus_multiplier\": 1.83, \"bus_difference\": 15.0, \"num_trips\": 56, \"num_competitive\": 48, \"pct_trips_competitive\": 0.857, \"bus_difference_spread\": 9.600000000000001, \"route_group\": \"short\", \"max_trip_hrs\": 0.68, \"max_trip_route_group\": 0.68, \"below_cutoff\": 55, \"pct_below_cutoff\": 0.9821428571428571, \"name\": \"Gold Coast Transit\", \"caltrans_district\": \"07 - Los Angeles\", \"drmt_organization_name\": null, \"route_name\": null, \"cutoff2\": 20, \"cutoff\": 0}, {\"calitp_itp_id\": 123, \"trip_key\": -7811746246702764012, \"trip_id\": \"[@1.0.62083704@][8][1623269965867]/21__1101/MF\", \"shape_id\": \"[@1.0.12094204@]1\", \"route_id\": \"11\", \"service_hours\": 0.55, \"trip_first_departure_ts\": 66300, \"trip_last_arrival_ts\": 68280, \"departure_hour\": 18, \"time_of_day\": \"PM Peak\", \"p25\": 0.55, \"p50\": 0.58, \"p75\": 0.6, \"p50_trip\": 0, \"fastest_trip\": 0, \"car_duration_hours\": 0.3, \"competitive_route\": 1, \"bus_multiplier\": 1.83, \"bus_difference\": 15.0, \"num_trips\": 56, \"num_competitive\": 48, \"pct_trips_competitive\": 0.857, \"bus_difference_spread\": 9.600000000000001, \"route_group\": \"short\", \"max_trip_hrs\": 0.68, \"max_trip_route_group\": 0.68, \"below_cutoff\": 55, \"pct_below_cutoff\": 0.9821428571428571, \"name\": \"Gold Coast Transit\", \"caltrans_district\": \"07 - Los Angeles\", \"drmt_organization_name\": null, \"route_name\": null, \"cutoff2\": 20, \"cutoff\": 0}, {\"calitp_itp_id\": 123, \"trip_key\": 4978099049135414044, \"trip_id\": \"[@1.0.62083704@][9][1623270569113]/49__1103/MF\", \"shape_id\": \"[@1.0.12094204@]2\", \"route_id\": \"11\", \"service_hours\": 0.55, \"trip_first_departure_ts\": 61800, \"trip_last_arrival_ts\": 63780, \"departure_hour\": 17, \"time_of_day\": \"PM Peak\", \"p25\": 0.55, \"p50\": 0.58, \"p75\": 0.6, \"p50_trip\": 0, \"fastest_trip\": 0, \"car_duration_hours\": 0.3, \"competitive_route\": 1, \"bus_multiplier\": 1.83, \"bus_difference\": 15.0, \"num_trips\": 56, \"num_competitive\": 48, \"pct_trips_competitive\": 0.857, \"bus_difference_spread\": 9.600000000000001, \"route_group\": \"short\", \"max_trip_hrs\": 0.68, \"max_trip_route_group\": 0.68, \"below_cutoff\": 55, \"pct_below_cutoff\": 0.9821428571428571, \"name\": \"Gold Coast Transit\", \"caltrans_district\": \"07 - Los Angeles\", \"drmt_organization_name\": null, \"route_name\": null, \"cutoff2\": 20, \"cutoff\": 0}, {\"calitp_itp_id\": 123, \"trip_key\": 4004902047216889366, \"trip_id\": \"[@1.0.62083704@][9][1623270569113]/51__1102/MF\", \"shape_id\": \"[@1.0.12094204@]2\", \"route_id\": \"11\", \"service_hours\": 0.55, \"trip_first_departure_ts\": 65100, \"trip_last_arrival_ts\": 67080, \"departure_hour\": 18, \"time_of_day\": \"PM Peak\", \"p25\": 0.55, \"p50\": 0.58, \"p75\": 0.6, \"p50_trip\": 0, \"fastest_trip\": 0, \"car_duration_hours\": 0.3, \"competitive_route\": 1, \"bus_multiplier\": 1.83, \"bus_difference\": 15.0, \"num_trips\": 56, \"num_competitive\": 48, \"pct_trips_competitive\": 0.857, \"bus_difference_spread\": 9.600000000000001, \"route_group\": \"short\", \"max_trip_hrs\": 0.68, \"max_trip_route_group\": 0.68, \"below_cutoff\": 55, \"pct_below_cutoff\": 0.9821428571428571, \"name\": \"Gold Coast Transit\", \"caltrans_district\": \"07 - Los Angeles\", \"drmt_organization_name\": null, \"route_name\": null, \"cutoff2\": 20, \"cutoff\": 0}, {\"calitp_itp_id\": 123, \"trip_key\": 7863403569830752964, \"trip_id\": \"[@1.0.62083704@][8][1623269965867]/23__1103/MF\", \"shape_id\": \"[@1.0.12094204@]1\", \"route_id\": \"11\", \"service_hours\": 0.55, \"trip_first_departure_ts\": 69600, \"trip_last_arrival_ts\": 71580, \"departure_hour\": 19, \"time_of_day\": \"PM Peak\", \"p25\": 0.55, \"p50\": 0.58, \"p75\": 0.6, \"p50_trip\": 0, \"fastest_trip\": 0, \"car_duration_hours\": 0.3, \"competitive_route\": 1, \"bus_multiplier\": 1.83, \"bus_difference\": 15.0, \"num_trips\": 56, \"num_competitive\": 48, \"pct_trips_competitive\": 0.857, \"bus_difference_spread\": 9.600000000000001, \"route_group\": \"short\", \"max_trip_hrs\": 0.68, \"max_trip_route_group\": 0.68, \"below_cutoff\": 55, \"pct_below_cutoff\": 0.9821428571428571, \"name\": \"Gold Coast Transit\", \"caltrans_district\": \"07 - Los Angeles\", \"drmt_organization_name\": null, \"route_name\": null, \"cutoff2\": 20, \"cutoff\": 0}, {\"calitp_itp_id\": 123, \"trip_key\": -1660081629431646106, \"trip_id\": \"[@1.0.62083704@][9][1623270569113]/48__1102/MF\", \"shape_id\": \"[@1.0.12094204@]2\", \"route_id\": \"11\", \"service_hours\": 0.55, \"trip_first_departure_ts\": 60000, \"trip_last_arrival_ts\": 61980, \"departure_hour\": 16, \"time_of_day\": \"Midday\", \"p25\": 0.55, \"p50\": 0.58, \"p75\": 0.6, \"p50_trip\": 0, \"fastest_trip\": 0, \"car_duration_hours\": 0.3, \"competitive_route\": 1, \"bus_multiplier\": 1.83, \"bus_difference\": 15.0, \"num_trips\": 56, \"num_competitive\": 48, \"pct_trips_competitive\": 0.857, \"bus_difference_spread\": 9.600000000000001, \"route_group\": \"short\", \"max_trip_hrs\": 0.68, \"max_trip_route_group\": 0.68, \"below_cutoff\": 55, \"pct_below_cutoff\": 0.9821428571428571, \"name\": \"Gold Coast Transit\", \"caltrans_district\": \"07 - Los Angeles\", \"drmt_organization_name\": null, \"route_name\": null, \"cutoff2\": 20, \"cutoff\": 0}, {\"calitp_itp_id\": 123, \"trip_key\": -5767094593408870232, \"trip_id\": \"[@1.0.62083704@][8][1623269965867]/22__1102/MF\", \"shape_id\": \"[@1.0.12094204@]1\", \"route_id\": \"11\", \"service_hours\": 0.55, \"trip_first_departure_ts\": 67800, \"trip_last_arrival_ts\": 69780, \"departure_hour\": 18, \"time_of_day\": \"PM Peak\", \"p25\": 0.55, \"p50\": 0.58, \"p75\": 0.6, \"p50_trip\": 0, \"fastest_trip\": 0, \"car_duration_hours\": 0.3, \"competitive_route\": 1, \"bus_multiplier\": 1.83, \"bus_difference\": 15.0, \"num_trips\": 56, \"num_competitive\": 48, \"pct_trips_competitive\": 0.857, \"bus_difference_spread\": 9.600000000000001, \"route_group\": \"short\", \"max_trip_hrs\": 0.68, \"max_trip_route_group\": 0.68, \"below_cutoff\": 55, \"pct_below_cutoff\": 0.9821428571428571, \"name\": \"Gold Coast Transit\", \"caltrans_district\": \"07 - Los Angeles\", \"drmt_organization_name\": null, \"route_name\": null, \"cutoff2\": 20, \"cutoff\": 0}, {\"calitp_itp_id\": 123, \"trip_key\": 8403095855192575849, \"trip_id\": \"[@1.0.62083704@][8][1623269965867]/3__1102/MF\", \"shape_id\": \"[@1.0.12094204@]1\", \"route_id\": \"11\", \"service_hours\": 0.55, \"trip_first_departure_ts\": 31200, \"trip_last_arrival_ts\": 33180, \"departure_hour\": 8, \"time_of_day\": \"AM Peak\", \"p25\": 0.55, \"p50\": 0.58, \"p75\": 0.6, \"p50_trip\": 0, \"fastest_trip\": 0, \"car_duration_hours\": 0.3, \"competitive_route\": 1, \"bus_multiplier\": 1.83, \"bus_difference\": 15.0, \"num_trips\": 56, \"num_competitive\": 48, \"pct_trips_competitive\": 0.857, \"bus_difference_spread\": 9.600000000000001, \"route_group\": \"short\", \"max_trip_hrs\": 0.68, \"max_trip_route_group\": 0.68, \"below_cutoff\": 55, \"pct_below_cutoff\": 0.9821428571428571, \"name\": \"Gold Coast Transit\", \"caltrans_district\": \"07 - Los Angeles\", \"drmt_organization_name\": null, \"route_name\": null, \"cutoff2\": 20, \"cutoff\": 0}, {\"calitp_itp_id\": 123, \"trip_key\": 1307749009971585482, \"trip_id\": \"[@1.0.62083704@][8][1623269965867]/6__1103/MF\", \"shape_id\": \"[@1.0.12094204@]1\", \"route_id\": \"11\", \"service_hours\": 0.57, \"trip_first_departure_ts\": 37800, \"trip_last_arrival_ts\": 39840, \"departure_hour\": 10, \"time_of_day\": \"Midday\", \"p25\": 0.55, \"p50\": 0.58, \"p75\": 0.6, \"p50_trip\": 0, \"fastest_trip\": 0, \"car_duration_hours\": 0.3, \"competitive_route\": 1, \"bus_multiplier\": 1.9, \"bus_difference\": 16.2, \"num_trips\": 56, \"num_competitive\": 48, \"pct_trips_competitive\": 0.857, \"bus_difference_spread\": 9.600000000000001, \"route_group\": \"short\", \"max_trip_hrs\": 0.68, \"max_trip_route_group\": 0.68, \"below_cutoff\": 55, \"pct_below_cutoff\": 0.9821428571428571, \"name\": \"Gold Coast Transit\", \"caltrans_district\": \"07 - Los Angeles\", \"drmt_organization_name\": null, \"route_name\": null, \"cutoff2\": 20, \"cutoff\": 0}, {\"calitp_itp_id\": 123, \"trip_key\": -764115641361571205, \"trip_id\": \"[@1.0.62083704@][8][1623269965867]/4__1101/MF\", \"shape_id\": \"[@1.0.12094204@]1\", \"route_id\": \"11\", \"service_hours\": 0.57, \"trip_first_departure_ts\": 33600, \"trip_last_arrival_ts\": 35640, \"departure_hour\": 9, \"time_of_day\": \"AM Peak\", \"p25\": 0.55, \"p50\": 0.58, \"p75\": 0.6, \"p50_trip\": 0, \"fastest_trip\": 0, \"car_duration_hours\": 0.3, \"competitive_route\": 1, \"bus_multiplier\": 1.9, \"bus_difference\": 16.2, \"num_trips\": 56, \"num_competitive\": 48, \"pct_trips_competitive\": 0.857, \"bus_difference_spread\": 9.600000000000001, \"route_group\": \"short\", \"max_trip_hrs\": 0.68, \"max_trip_route_group\": 0.68, \"below_cutoff\": 55, \"pct_below_cutoff\": 0.9821428571428571, \"name\": \"Gold Coast Transit\", \"caltrans_district\": \"07 - Los Angeles\", \"drmt_organization_name\": null, \"route_name\": null, \"cutoff2\": 20, \"cutoff\": 0}, {\"calitp_itp_id\": 123, \"trip_key\": -3846609194463021895, \"trip_id\": \"[@1.0.62083704@][8][1623269965867]/20__1103/MF\", \"shape_id\": \"[@1.0.12094204@]1\", \"route_id\": \"11\", \"service_hours\": 0.57, \"trip_first_departure_ts\": 64500, \"trip_last_arrival_ts\": 66540, \"departure_hour\": 17, \"time_of_day\": \"PM Peak\", \"p25\": 0.55, \"p50\": 0.58, \"p75\": 0.6, \"p50_trip\": 0, \"fastest_trip\": 0, \"car_duration_hours\": 0.3, \"competitive_route\": 1, \"bus_multiplier\": 1.9, \"bus_difference\": 16.2, \"num_trips\": 56, \"num_competitive\": 48, \"pct_trips_competitive\": 0.857, \"bus_difference_spread\": 9.600000000000001, \"route_group\": \"short\", \"max_trip_hrs\": 0.68, \"max_trip_route_group\": 0.68, \"below_cutoff\": 55, \"pct_below_cutoff\": 0.9821428571428571, \"name\": \"Gold Coast Transit\", \"caltrans_district\": \"07 - Los Angeles\", \"drmt_organization_name\": null, \"route_name\": null, \"cutoff2\": 20, \"cutoff\": 0}, {\"calitp_itp_id\": 123, \"trip_key\": 2499260868334004460, \"trip_id\": \"[@1.0.62083704@][8][1623269965867]/5__1102/MF\", \"shape_id\": \"[@1.0.12094204@]1\", \"route_id\": \"11\", \"service_hours\": 0.57, \"trip_first_departure_ts\": 36000, \"trip_last_arrival_ts\": 38040, \"departure_hour\": 10, \"time_of_day\": \"Midday\", \"p25\": 0.55, \"p50\": 0.58, \"p75\": 0.6, \"p50_trip\": 0, \"fastest_trip\": 0, \"car_duration_hours\": 0.3, \"competitive_route\": 1, \"bus_multiplier\": 1.9, \"bus_difference\": 16.2, \"num_trips\": 56, \"num_competitive\": 48, \"pct_trips_competitive\": 0.857, \"bus_difference_spread\": 9.600000000000001, \"route_group\": \"short\", \"max_trip_hrs\": 0.68, \"max_trip_route_group\": 0.68, \"below_cutoff\": 55, \"pct_below_cutoff\": 0.9821428571428571, \"name\": \"Gold Coast Transit\", \"caltrans_district\": \"07 - Los Angeles\", \"drmt_organization_name\": null, \"route_name\": null, \"cutoff2\": 20, \"cutoff\": 0}, {\"calitp_itp_id\": 123, \"trip_key\": 2945266529759894774, \"trip_id\": \"[@1.0.62083704@][9][1623270569113]/35__1101/MF\", \"shape_id\": \"[@1.0.12094204@]2\", \"route_id\": \"11\", \"service_hours\": 0.58, \"trip_first_departure_ts\": 36600, \"trip_last_arrival_ts\": 38700, \"departure_hour\": 10, \"time_of_day\": \"Midday\", \"p25\": 0.55, \"p50\": 0.58, \"p75\": 0.6, \"p50_trip\": 1, \"fastest_trip\": 0, \"car_duration_hours\": 0.3, \"competitive_route\": 1, \"bus_multiplier\": 1.93, \"bus_difference\": 16.8, \"num_trips\": 56, \"num_competitive\": 48, \"pct_trips_competitive\": 0.857, \"bus_difference_spread\": 9.600000000000001, \"route_group\": \"short\", \"max_trip_hrs\": 0.68, \"max_trip_route_group\": 0.68, \"below_cutoff\": 55, \"pct_below_cutoff\": 0.9821428571428571, \"name\": \"Gold Coast Transit\", \"caltrans_district\": \"07 - Los Angeles\", \"drmt_organization_name\": null, \"route_name\": null, \"cutoff2\": 20, \"cutoff\": 0}, {\"calitp_itp_id\": 123, \"trip_key\": 7932525389389928230, \"trip_id\": \"[@1.0.62083704@][9][1623270569113]/33__1102/MF\", \"shape_id\": \"[@1.0.12094204@]2\", \"route_id\": \"11\", \"service_hours\": 0.58, \"trip_first_departure_ts\": 33600, \"trip_last_arrival_ts\": 35700, \"departure_hour\": 9, \"time_of_day\": \"AM Peak\", \"p25\": 0.55, \"p50\": 0.58, \"p75\": 0.6, \"p50_trip\": 1, \"fastest_trip\": 0, \"car_duration_hours\": 0.3, \"competitive_route\": 1, \"bus_multiplier\": 1.93, \"bus_difference\": 16.8, \"num_trips\": 56, \"num_competitive\": 48, \"pct_trips_competitive\": 0.857, \"bus_difference_spread\": 9.600000000000001, \"route_group\": \"short\", \"max_trip_hrs\": 0.68, \"max_trip_route_group\": 0.68, \"below_cutoff\": 55, \"pct_below_cutoff\": 0.9821428571428571, \"name\": \"Gold Coast Transit\", \"caltrans_district\": \"07 - Los Angeles\", \"drmt_organization_name\": null, \"route_name\": null, \"cutoff2\": 20, \"cutoff\": 0}, {\"calitp_itp_id\": 123, \"trip_key\": 7276100221824109923, \"trip_id\": \"[@1.0.62083704@][8][1623269965867]/8__1102/MF\", \"shape_id\": \"[@1.0.12094204@]1\", \"route_id\": \"11\", \"service_hours\": 0.58, \"trip_first_departure_ts\": 41100, \"trip_last_arrival_ts\": 43200, \"departure_hour\": 11, \"time_of_day\": \"Midday\", \"p25\": 0.55, \"p50\": 0.58, \"p75\": 0.6, \"p50_trip\": 1, \"fastest_trip\": 0, \"car_duration_hours\": 0.3, \"competitive_route\": 1, \"bus_multiplier\": 1.93, \"bus_difference\": 16.8, \"num_trips\": 56, \"num_competitive\": 48, \"pct_trips_competitive\": 0.857, \"bus_difference_spread\": 9.600000000000001, \"route_group\": \"short\", \"max_trip_hrs\": 0.68, \"max_trip_route_group\": 0.68, \"below_cutoff\": 55, \"pct_below_cutoff\": 0.9821428571428571, \"name\": \"Gold Coast Transit\", \"caltrans_district\": \"07 - Los Angeles\", \"drmt_organization_name\": null, \"route_name\": null, \"cutoff2\": 20, \"cutoff\": 0}, {\"calitp_itp_id\": 123, \"trip_key\": -285821122515667108, \"trip_id\": \"[@1.0.62083704@][8][1623269965867]/19__1102/MF\", \"shape_id\": \"[@1.0.12094204@]1\", \"route_id\": \"11\", \"service_hours\": 0.58, \"trip_first_departure_ts\": 62700, \"trip_last_arrival_ts\": 64800, \"departure_hour\": 17, \"time_of_day\": \"PM Peak\", \"p25\": 0.55, \"p50\": 0.58, \"p75\": 0.6, \"p50_trip\": 1, \"fastest_trip\": 0, \"car_duration_hours\": 0.3, \"competitive_route\": 1, \"bus_multiplier\": 1.93, \"bus_difference\": 16.8, \"num_trips\": 56, \"num_competitive\": 48, \"pct_trips_competitive\": 0.857, \"bus_difference_spread\": 9.600000000000001, \"route_group\": \"short\", \"max_trip_hrs\": 0.68, \"max_trip_route_group\": 0.68, \"below_cutoff\": 55, \"pct_below_cutoff\": 0.9821428571428571, \"name\": \"Gold Coast Transit\", \"caltrans_district\": \"07 - Los Angeles\", \"drmt_organization_name\": null, \"route_name\": null, \"cutoff2\": 20, \"cutoff\": 0}, {\"calitp_itp_id\": 123, \"trip_key\": -726589652837303925, \"trip_id\": \"[@1.0.62083704@][9][1623270569113]/34__1103/MF\", \"shape_id\": \"[@1.0.12094204@]2\", \"route_id\": \"11\", \"service_hours\": 0.58, \"trip_first_departure_ts\": 35100, \"trip_last_arrival_ts\": 37200, \"departure_hour\": 9, \"time_of_day\": \"AM Peak\", \"p25\": 0.55, \"p50\": 0.58, \"p75\": 0.6, \"p50_trip\": 1, \"fastest_trip\": 0, \"car_duration_hours\": 0.3, \"competitive_route\": 1, \"bus_multiplier\": 1.93, \"bus_difference\": 16.8, \"num_trips\": 56, \"num_competitive\": 48, \"pct_trips_competitive\": 0.857, \"bus_difference_spread\": 9.600000000000001, \"route_group\": \"short\", \"max_trip_hrs\": 0.68, \"max_trip_route_group\": 0.68, \"below_cutoff\": 55, \"pct_below_cutoff\": 0.9821428571428571, \"name\": \"Gold Coast Transit\", \"caltrans_district\": \"07 - Los Angeles\", \"drmt_organization_name\": null, \"route_name\": null, \"cutoff2\": 20, \"cutoff\": 0}, {\"calitp_itp_id\": 123, \"trip_key\": 125429039382222695, \"trip_id\": \"[@1.0.62083704@][8][1623269965867]/7__1101/MF\", \"shape_id\": \"[@1.0.12094204@]1\", \"route_id\": \"11\", \"service_hours\": 0.58, \"trip_first_departure_ts\": 39300, \"trip_last_arrival_ts\": 41400, \"departure_hour\": 10, \"time_of_day\": \"Midday\", \"p25\": 0.55, \"p50\": 0.58, \"p75\": 0.6, \"p50_trip\": 1, \"fastest_trip\": 0, \"car_duration_hours\": 0.3, \"competitive_route\": 1, \"bus_multiplier\": 1.93, \"bus_difference\": 16.8, \"num_trips\": 56, \"num_competitive\": 48, \"pct_trips_competitive\": 0.857, \"bus_difference_spread\": 9.600000000000001, \"route_group\": \"short\", \"max_trip_hrs\": 0.68, \"max_trip_route_group\": 0.68, \"below_cutoff\": 55, \"pct_below_cutoff\": 0.9821428571428571, \"name\": \"Gold Coast Transit\", \"caltrans_district\": \"07 - Los Angeles\", \"drmt_organization_name\": null, \"route_name\": null, \"cutoff2\": 20, \"cutoff\": 0}, {\"calitp_itp_id\": 123, \"trip_key\": -774275813379302024, \"trip_id\": \"[@1.0.62083704@][9][1623270569113]/42__1102/MF\", \"shape_id\": \"[@1.0.12094204@]2\", \"route_id\": \"11\", \"service_hours\": 0.6, \"trip_first_departure_ts\": 49200, \"trip_last_arrival_ts\": 51360, \"departure_hour\": 13, \"time_of_day\": \"Midday\", \"p25\": 0.55, \"p50\": 0.58, \"p75\": 0.6, \"p50_trip\": 0, \"fastest_trip\": 0, \"car_duration_hours\": 0.3, \"competitive_route\": 1, \"bus_multiplier\": 2.0, \"bus_difference\": 18.0, \"num_trips\": 56, \"num_competitive\": 48, \"pct_trips_competitive\": 0.857, \"bus_difference_spread\": 9.600000000000001, \"route_group\": \"short\", \"max_trip_hrs\": 0.68, \"max_trip_route_group\": 0.68, \"below_cutoff\": 55, \"pct_below_cutoff\": 0.9821428571428571, \"name\": \"Gold Coast Transit\", \"caltrans_district\": \"07 - Los Angeles\", \"drmt_organization_name\": null, \"route_name\": null, \"cutoff2\": 20, \"cutoff\": 0}, {\"calitp_itp_id\": 123, \"trip_key\": 7647705232452423788, \"trip_id\": \"[@1.0.62083704@][9][1623270569113]/40__1103/MF\", \"shape_id\": \"[@1.0.12094204@]2\", \"route_id\": \"11\", \"service_hours\": 0.6, \"trip_first_departure_ts\": 45600, \"trip_last_arrival_ts\": 47760, \"departure_hour\": 12, \"time_of_day\": \"Midday\", \"p25\": 0.55, \"p50\": 0.58, \"p75\": 0.6, \"p50_trip\": 0, \"fastest_trip\": 0, \"car_duration_hours\": 0.3, \"competitive_route\": 1, \"bus_multiplier\": 2.0, \"bus_difference\": 18.0, \"num_trips\": 56, \"num_competitive\": 48, \"pct_trips_competitive\": 0.857, \"bus_difference_spread\": 9.600000000000001, \"route_group\": \"short\", \"max_trip_hrs\": 0.68, \"max_trip_route_group\": 0.68, \"below_cutoff\": 55, \"pct_below_cutoff\": 0.9821428571428571, \"name\": \"Gold Coast Transit\", \"caltrans_district\": \"07 - Los Angeles\", \"drmt_organization_name\": null, \"route_name\": null, \"cutoff2\": 20, \"cutoff\": 0}, {\"calitp_itp_id\": 123, \"trip_key\": -7372295269780882250, \"trip_id\": \"[@1.0.62083704@][9][1623270569113]/45__1102/MF\", \"shape_id\": \"[@1.0.12094204@]2\", \"route_id\": \"11\", \"service_hours\": 0.6, \"trip_first_departure_ts\": 54600, \"trip_last_arrival_ts\": 56760, \"departure_hour\": 15, \"time_of_day\": \"Midday\", \"p25\": 0.55, \"p50\": 0.58, \"p75\": 0.6, \"p50_trip\": 0, \"fastest_trip\": 0, \"car_duration_hours\": 0.3, \"competitive_route\": 1, \"bus_multiplier\": 2.0, \"bus_difference\": 18.0, \"num_trips\": 56, \"num_competitive\": 48, \"pct_trips_competitive\": 0.857, \"bus_difference_spread\": 9.600000000000001, \"route_group\": \"short\", \"max_trip_hrs\": 0.68, \"max_trip_route_group\": 0.68, \"below_cutoff\": 55, \"pct_below_cutoff\": 0.9821428571428571, \"name\": \"Gold Coast Transit\", \"caltrans_district\": \"07 - Los Angeles\", \"drmt_organization_name\": null, \"route_name\": null, \"cutoff2\": 20, \"cutoff\": 0}, {\"calitp_itp_id\": 123, \"trip_key\": -7978053570672385932, \"trip_id\": \"[@1.0.62083704@][9][1623270569113]/31__1102/MF\", \"shape_id\": \"[@1.0.12094204@]2\", \"route_id\": \"11\", \"service_hours\": 0.6, \"trip_first_departure_ts\": 28800, \"trip_last_arrival_ts\": 30960, \"departure_hour\": 8, \"time_of_day\": \"AM Peak\", \"p25\": 0.55, \"p50\": 0.58, \"p75\": 0.6, \"p50_trip\": 0, \"fastest_trip\": 0, \"car_duration_hours\": 0.3, \"competitive_route\": 1, \"bus_multiplier\": 2.0, \"bus_difference\": 18.0, \"num_trips\": 56, \"num_competitive\": 48, \"pct_trips_competitive\": 0.857, \"bus_difference_spread\": 9.600000000000001, \"route_group\": \"short\", \"max_trip_hrs\": 0.68, \"max_trip_route_group\": 0.68, \"below_cutoff\": 55, \"pct_below_cutoff\": 0.9821428571428571, \"name\": \"Gold Coast Transit\", \"caltrans_district\": \"07 - Los Angeles\", \"drmt_organization_name\": null, \"route_name\": null, \"cutoff2\": 20, \"cutoff\": 0}, {\"calitp_itp_id\": 123, \"trip_key\": 7794322408150797585, \"trip_id\": \"[@1.0.62083704@][9][1623270569113]/46__1103/MF\", \"shape_id\": \"[@1.0.12094204@]2\", \"route_id\": \"11\", \"service_hours\": 0.6, \"trip_first_departure_ts\": 56400, \"trip_last_arrival_ts\": 58560, \"departure_hour\": 15, \"time_of_day\": \"Midday\", \"p25\": 0.55, \"p50\": 0.58, \"p75\": 0.6, \"p50_trip\": 0, \"fastest_trip\": 0, \"car_duration_hours\": 0.3, \"competitive_route\": 1, \"bus_multiplier\": 2.0, \"bus_difference\": 18.0, \"num_trips\": 56, \"num_competitive\": 48, \"pct_trips_competitive\": 0.857, \"bus_difference_spread\": 9.600000000000001, \"route_group\": \"short\", \"max_trip_hrs\": 0.68, \"max_trip_route_group\": 0.68, \"below_cutoff\": 55, \"pct_below_cutoff\": 0.9821428571428571, \"name\": \"Gold Coast Transit\", \"caltrans_district\": \"07 - Los Angeles\", \"drmt_organization_name\": null, \"route_name\": null, \"cutoff2\": 20, \"cutoff\": 0}, {\"calitp_itp_id\": 123, \"trip_key\": 8462881722069176474, \"trip_id\": \"[@1.0.62083704@][9][1623270569113]/36__1102/MF\", \"shape_id\": \"[@1.0.12094204@]2\", \"route_id\": \"11\", \"service_hours\": 0.6, \"trip_first_departure_ts\": 38400, \"trip_last_arrival_ts\": 40560, \"departure_hour\": 10, \"time_of_day\": \"Midday\", \"p25\": 0.55, \"p50\": 0.58, \"p75\": 0.6, \"p50_trip\": 0, \"fastest_trip\": 0, \"car_duration_hours\": 0.3, \"competitive_route\": 1, \"bus_multiplier\": 2.0, \"bus_difference\": 18.0, \"num_trips\": 56, \"num_competitive\": 48, \"pct_trips_competitive\": 0.857, \"bus_difference_spread\": 9.600000000000001, \"route_group\": \"short\", \"max_trip_hrs\": 0.68, \"max_trip_route_group\": 0.68, \"below_cutoff\": 55, \"pct_below_cutoff\": 0.9821428571428571, \"name\": \"Gold Coast Transit\", \"caltrans_district\": \"07 - Los Angeles\", \"drmt_organization_name\": null, \"route_name\": null, \"cutoff2\": 20, \"cutoff\": 0}, {\"calitp_itp_id\": 123, \"trip_key\": -8470698541285960071, \"trip_id\": \"[@1.0.62083704@][9][1623270569113]/37__1103/MF\", \"shape_id\": \"[@1.0.12094204@]2\", \"route_id\": \"11\", \"service_hours\": 0.6, \"trip_first_departure_ts\": 40200, \"trip_last_arrival_ts\": 42360, \"departure_hour\": 11, \"time_of_day\": \"Midday\", \"p25\": 0.55, \"p50\": 0.58, \"p75\": 0.6, \"p50_trip\": 0, \"fastest_trip\": 0, \"car_duration_hours\": 0.3, \"competitive_route\": 1, \"bus_multiplier\": 2.0, \"bus_difference\": 18.0, \"num_trips\": 56, \"num_competitive\": 48, \"pct_trips_competitive\": 0.857, \"bus_difference_spread\": 9.600000000000001, \"route_group\": \"short\", \"max_trip_hrs\": 0.68, \"max_trip_route_group\": 0.68, \"below_cutoff\": 55, \"pct_below_cutoff\": 0.9821428571428571, \"name\": \"Gold Coast Transit\", \"caltrans_district\": \"07 - Los Angeles\", \"drmt_organization_name\": null, \"route_name\": null, \"cutoff2\": 20, \"cutoff\": 0}, {\"calitp_itp_id\": 123, \"trip_key\": -5173599729779190491, \"trip_id\": \"[@1.0.62083704@][9][1623270569113]/44__1101/MF\", \"shape_id\": \"[@1.0.12094204@]2\", \"route_id\": \"11\", \"service_hours\": 0.6, \"trip_first_departure_ts\": 52800, \"trip_last_arrival_ts\": 54960, \"departure_hour\": 14, \"time_of_day\": \"Midday\", \"p25\": 0.55, \"p50\": 0.58, \"p75\": 0.6, \"p50_trip\": 0, \"fastest_trip\": 0, \"car_duration_hours\": 0.3, \"competitive_route\": 1, \"bus_multiplier\": 2.0, \"bus_difference\": 18.0, \"num_trips\": 56, \"num_competitive\": 48, \"pct_trips_competitive\": 0.857, \"bus_difference_spread\": 9.600000000000001, \"route_group\": \"short\", \"max_trip_hrs\": 0.68, \"max_trip_route_group\": 0.68, \"below_cutoff\": 55, \"pct_below_cutoff\": 0.9821428571428571, \"name\": \"Gold Coast Transit\", \"caltrans_district\": \"07 - Los Angeles\", \"drmt_organization_name\": null, \"route_name\": null, \"cutoff2\": 20, \"cutoff\": 0}, {\"calitp_itp_id\": 123, \"trip_key\": -7305029243220377898, \"trip_id\": \"[@1.0.62083704@][9][1623270569113]/47__1101/MF\", \"shape_id\": \"[@1.0.12094204@]2\", \"route_id\": \"11\", \"service_hours\": 0.6, \"trip_first_departure_ts\": 58200, \"trip_last_arrival_ts\": 60360, \"departure_hour\": 16, \"time_of_day\": \"Midday\", \"p25\": 0.55, \"p50\": 0.58, \"p75\": 0.6, \"p50_trip\": 0, \"fastest_trip\": 0, \"car_duration_hours\": 0.3, \"competitive_route\": 1, \"bus_multiplier\": 2.0, \"bus_difference\": 18.0, \"num_trips\": 56, \"num_competitive\": 48, \"pct_trips_competitive\": 0.857, \"bus_difference_spread\": 9.600000000000001, \"route_group\": \"short\", \"max_trip_hrs\": 0.68, \"max_trip_route_group\": 0.68, \"below_cutoff\": 55, \"pct_below_cutoff\": 0.9821428571428571, \"name\": \"Gold Coast Transit\", \"caltrans_district\": \"07 - Los Angeles\", \"drmt_organization_name\": null, \"route_name\": null, \"cutoff2\": 20, \"cutoff\": 0}, {\"calitp_itp_id\": 123, \"trip_key\": 5430688303368339812, \"trip_id\": \"[@1.0.62083704@][9][1623270569113]/41__1101/MF\", \"shape_id\": \"[@1.0.12094204@]2\", \"route_id\": \"11\", \"service_hours\": 0.6, \"trip_first_departure_ts\": 47400, \"trip_last_arrival_ts\": 49560, \"departure_hour\": 13, \"time_of_day\": \"Midday\", \"p25\": 0.55, \"p50\": 0.58, \"p75\": 0.6, \"p50_trip\": 0, \"fastest_trip\": 0, \"car_duration_hours\": 0.3, \"competitive_route\": 1, \"bus_multiplier\": 2.0, \"bus_difference\": 18.0, \"num_trips\": 56, \"num_competitive\": 48, \"pct_trips_competitive\": 0.857, \"bus_difference_spread\": 9.600000000000001, \"route_group\": \"short\", \"max_trip_hrs\": 0.68, \"max_trip_route_group\": 0.68, \"below_cutoff\": 55, \"pct_below_cutoff\": 0.9821428571428571, \"name\": \"Gold Coast Transit\", \"caltrans_district\": \"07 - Los Angeles\", \"drmt_organization_name\": null, \"route_name\": null, \"cutoff2\": 20, \"cutoff\": 0}, {\"calitp_itp_id\": 123, \"trip_key\": 9221463708151688683, \"trip_id\": \"[@1.0.62083704@][9][1623270569113]/30__1101/MF\", \"shape_id\": \"[@1.0.12094204@]2\", \"route_id\": \"11\", \"service_hours\": 0.6, \"trip_first_departure_ts\": 26400, \"trip_last_arrival_ts\": 28560, \"departure_hour\": 7, \"time_of_day\": \"AM Peak\", \"p25\": 0.55, \"p50\": 0.58, \"p75\": 0.6, \"p50_trip\": 0, \"fastest_trip\": 0, \"car_duration_hours\": 0.3, \"competitive_route\": 1, \"bus_multiplier\": 2.0, \"bus_difference\": 18.0, \"num_trips\": 56, \"num_competitive\": 48, \"pct_trips_competitive\": 0.857, \"bus_difference_spread\": 9.600000000000001, \"route_group\": \"short\", \"max_trip_hrs\": 0.68, \"max_trip_route_group\": 0.68, \"below_cutoff\": 55, \"pct_below_cutoff\": 0.9821428571428571, \"name\": \"Gold Coast Transit\", \"caltrans_district\": \"07 - Los Angeles\", \"drmt_organization_name\": null, \"route_name\": null, \"cutoff2\": 20, \"cutoff\": 0}, {\"calitp_itp_id\": 123, \"trip_key\": 7608553407141549961, \"trip_id\": \"[@1.0.62083704@][9][1623270569113]/39__1102/MF\", \"shape_id\": \"[@1.0.12094204@]2\", \"route_id\": \"11\", \"service_hours\": 0.6, \"trip_first_departure_ts\": 43800, \"trip_last_arrival_ts\": 45960, \"departure_hour\": 12, \"time_of_day\": \"Midday\", \"p25\": 0.55, \"p50\": 0.58, \"p75\": 0.6, \"p50_trip\": 0, \"fastest_trip\": 0, \"car_duration_hours\": 0.3, \"competitive_route\": 1, \"bus_multiplier\": 2.0, \"bus_difference\": 18.0, \"num_trips\": 56, \"num_competitive\": 48, \"pct_trips_competitive\": 0.857, \"bus_difference_spread\": 9.600000000000001, \"route_group\": \"short\", \"max_trip_hrs\": 0.68, \"max_trip_route_group\": 0.68, \"below_cutoff\": 55, \"pct_below_cutoff\": 0.9821428571428571, \"name\": \"Gold Coast Transit\", \"caltrans_district\": \"07 - Los Angeles\", \"drmt_organization_name\": null, \"route_name\": null, \"cutoff2\": 20, \"cutoff\": 0}, {\"calitp_itp_id\": 123, \"trip_key\": -4517800281538047397, \"trip_id\": \"[@1.0.62083704@][8][1623269965867]/18__1101/MF\", \"shape_id\": \"[@1.0.12094204@]1\", \"route_id\": \"11\", \"service_hours\": 0.6, \"trip_first_departure_ts\": 60900, \"trip_last_arrival_ts\": 63060, \"departure_hour\": 16, \"time_of_day\": \"Midday\", \"p25\": 0.55, \"p50\": 0.58, \"p75\": 0.6, \"p50_trip\": 0, \"fastest_trip\": 0, \"car_duration_hours\": 0.3, \"competitive_route\": 1, \"bus_multiplier\": 2.0, \"bus_difference\": 18.0, \"num_trips\": 56, \"num_competitive\": 48, \"pct_trips_competitive\": 0.857, \"bus_difference_spread\": 9.600000000000001, \"route_group\": \"short\", \"max_trip_hrs\": 0.68, \"max_trip_route_group\": 0.68, \"below_cutoff\": 55, \"pct_below_cutoff\": 0.9821428571428571, \"name\": \"Gold Coast Transit\", \"caltrans_district\": \"07 - Los Angeles\", \"drmt_organization_name\": null, \"route_name\": null, \"cutoff2\": 20, \"cutoff\": 0}, {\"calitp_itp_id\": 123, \"trip_key\": -4303125813403294587, \"trip_id\": \"[@1.0.62083704@][9][1623270569113]/38__1101/MF\", \"shape_id\": \"[@1.0.12094204@]2\", \"route_id\": \"11\", \"service_hours\": 0.6, \"trip_first_departure_ts\": 42000, \"trip_last_arrival_ts\": 44160, \"departure_hour\": 11, \"time_of_day\": \"Midday\", \"p25\": 0.55, \"p50\": 0.58, \"p75\": 0.6, \"p50_trip\": 0, \"fastest_trip\": 0, \"car_duration_hours\": 0.3, \"competitive_route\": 1, \"bus_multiplier\": 2.0, \"bus_difference\": 18.0, \"num_trips\": 56, \"num_competitive\": 48, \"pct_trips_competitive\": 0.857, \"bus_difference_spread\": 9.600000000000001, \"route_group\": \"short\", \"max_trip_hrs\": 0.68, \"max_trip_route_group\": 0.68, \"below_cutoff\": 55, \"pct_below_cutoff\": 0.9821428571428571, \"name\": \"Gold Coast Transit\", \"caltrans_district\": \"07 - Los Angeles\", \"drmt_organization_name\": null, \"route_name\": null, \"cutoff2\": 20, \"cutoff\": 0}, {\"calitp_itp_id\": 123, \"trip_key\": 8325487004418520992, \"trip_id\": \"[@1.0.62083704@][8][1623269965867]/9__1103/MF\", \"shape_id\": \"[@1.0.12094204@]1\", \"route_id\": \"11\", \"service_hours\": 0.6, \"trip_first_departure_ts\": 42900, \"trip_last_arrival_ts\": 45060, \"departure_hour\": 11, \"time_of_day\": \"Midday\", \"p25\": 0.55, \"p50\": 0.58, \"p75\": 0.6, \"p50_trip\": 0, \"fastest_trip\": 0, \"car_duration_hours\": 0.3, \"competitive_route\": 1, \"bus_multiplier\": 2.0, \"bus_difference\": 18.0, \"num_trips\": 56, \"num_competitive\": 48, \"pct_trips_competitive\": 0.857, \"bus_difference_spread\": 9.600000000000001, \"route_group\": \"short\", \"max_trip_hrs\": 0.68, \"max_trip_route_group\": 0.68, \"below_cutoff\": 55, \"pct_below_cutoff\": 0.9821428571428571, \"name\": \"Gold Coast Transit\", \"caltrans_district\": \"07 - Los Angeles\", \"drmt_organization_name\": null, \"route_name\": null, \"cutoff2\": 20, \"cutoff\": 0}, {\"calitp_itp_id\": 123, \"trip_key\": -8517428714452059353, \"trip_id\": \"[@1.0.62083704@][8][1623269965867]/11__1102/MF\", \"shape_id\": \"[@1.0.12094204@]1\", \"route_id\": \"11\", \"service_hours\": 0.6, \"trip_first_departure_ts\": 46500, \"trip_last_arrival_ts\": 48660, \"departure_hour\": 12, \"time_of_day\": \"Midday\", \"p25\": 0.55, \"p50\": 0.58, \"p75\": 0.6, \"p50_trip\": 0, \"fastest_trip\": 0, \"car_duration_hours\": 0.3, \"competitive_route\": 1, \"bus_multiplier\": 2.0, \"bus_difference\": 18.0, \"num_trips\": 56, \"num_competitive\": 48, \"pct_trips_competitive\": 0.857, \"bus_difference_spread\": 9.600000000000001, \"route_group\": \"short\", \"max_trip_hrs\": 0.68, \"max_trip_route_group\": 0.68, \"below_cutoff\": 55, \"pct_below_cutoff\": 0.9821428571428571, \"name\": \"Gold Coast Transit\", \"caltrans_district\": \"07 - Los Angeles\", \"drmt_organization_name\": null, \"route_name\": null, \"cutoff2\": 20, \"cutoff\": 0}, {\"calitp_itp_id\": 123, \"trip_key\": -7961784540835925932, \"trip_id\": \"[@1.0.62083704@][9][1623270569113]/43__1103/MF\", \"shape_id\": \"[@1.0.12094204@]2\", \"route_id\": \"11\", \"service_hours\": 0.6, \"trip_first_departure_ts\": 51000, \"trip_last_arrival_ts\": 53160, \"departure_hour\": 14, \"time_of_day\": \"Midday\", \"p25\": 0.55, \"p50\": 0.58, \"p75\": 0.6, \"p50_trip\": 0, \"fastest_trip\": 0, \"car_duration_hours\": 0.3, \"competitive_route\": 1, \"bus_multiplier\": 2.0, \"bus_difference\": 18.0, \"num_trips\": 56, \"num_competitive\": 48, \"pct_trips_competitive\": 0.857, \"bus_difference_spread\": 9.600000000000001, \"route_group\": \"short\", \"max_trip_hrs\": 0.68, \"max_trip_route_group\": 0.68, \"below_cutoff\": 55, \"pct_below_cutoff\": 0.9821428571428571, \"name\": \"Gold Coast Transit\", \"caltrans_district\": \"07 - Los Angeles\", \"drmt_organization_name\": null, \"route_name\": null, \"cutoff2\": 20, \"cutoff\": 0}, {\"calitp_itp_id\": 123, \"trip_key\": -7368099266825063238, \"trip_id\": \"[@1.0.62083704@][9][1623270569113]/32__1101/MF\", \"shape_id\": \"[@1.0.12094204@]2\", \"route_id\": \"11\", \"service_hours\": 0.6, \"trip_first_departure_ts\": 31200, \"trip_last_arrival_ts\": 33360, \"departure_hour\": 8, \"time_of_day\": \"AM Peak\", \"p25\": 0.55, \"p50\": 0.58, \"p75\": 0.6, \"p50_trip\": 0, \"fastest_trip\": 0, \"car_duration_hours\": 0.3, \"competitive_route\": 1, \"bus_multiplier\": 2.0, \"bus_difference\": 18.0, \"num_trips\": 56, \"num_competitive\": 48, \"pct_trips_competitive\": 0.857, \"bus_difference_spread\": 9.600000000000001, \"route_group\": \"short\", \"max_trip_hrs\": 0.68, \"max_trip_route_group\": 0.68, \"below_cutoff\": 55, \"pct_below_cutoff\": 0.9821428571428571, \"name\": \"Gold Coast Transit\", \"caltrans_district\": \"07 - Los Angeles\", \"drmt_organization_name\": null, \"route_name\": null, \"cutoff2\": 20, \"cutoff\": 0}, {\"calitp_itp_id\": 123, \"trip_key\": -8039799812623061091, \"trip_id\": \"[@1.0.62083704@][8][1623269965867]/15__1103/MF\", \"shape_id\": \"[@1.0.12094204@]1\", \"route_id\": \"11\", \"service_hours\": 0.62, \"trip_first_departure_ts\": 53700, \"trip_last_arrival_ts\": 55920, \"departure_hour\": 14, \"time_of_day\": \"Midday\", \"p25\": 0.55, \"p50\": 0.58, \"p75\": 0.6, \"p50_trip\": 0, \"fastest_trip\": 0, \"car_duration_hours\": 0.3, \"competitive_route\": 1, \"bus_multiplier\": 2.07, \"bus_difference\": 19.2, \"num_trips\": 56, \"num_competitive\": 48, \"pct_trips_competitive\": 0.857, \"bus_difference_spread\": 9.600000000000001, \"route_group\": \"short\", \"max_trip_hrs\": 0.68, \"max_trip_route_group\": 0.68, \"below_cutoff\": 55, \"pct_below_cutoff\": 0.9821428571428571, \"name\": \"Gold Coast Transit\", \"caltrans_district\": \"07 - Los Angeles\", \"drmt_organization_name\": null, \"route_name\": null, \"cutoff2\": 20, \"cutoff\": 0}, {\"calitp_itp_id\": 123, \"trip_key\": 2330386147227665240, \"trip_id\": \"[@1.0.62083704@][8][1623269965867]/13__1101/MF\", \"shape_id\": \"[@1.0.12094204@]1\", \"route_id\": \"11\", \"service_hours\": 0.62, \"trip_first_departure_ts\": 50100, \"trip_last_arrival_ts\": 52320, \"departure_hour\": 13, \"time_of_day\": \"Midday\", \"p25\": 0.55, \"p50\": 0.58, \"p75\": 0.6, \"p50_trip\": 0, \"fastest_trip\": 0, \"car_duration_hours\": 0.3, \"competitive_route\": 1, \"bus_multiplier\": 2.07, \"bus_difference\": 19.2, \"num_trips\": 56, \"num_competitive\": 48, \"pct_trips_competitive\": 0.857, \"bus_difference_spread\": 9.600000000000001, \"route_group\": \"short\", \"max_trip_hrs\": 0.68, \"max_trip_route_group\": 0.68, \"below_cutoff\": 55, \"pct_below_cutoff\": 0.9821428571428571, \"name\": \"Gold Coast Transit\", \"caltrans_district\": \"07 - Los Angeles\", \"drmt_organization_name\": null, \"route_name\": null, \"cutoff2\": 20, \"cutoff\": 0}, {\"calitp_itp_id\": 123, \"trip_key\": -5749017611038273867, \"trip_id\": \"[@1.0.62083704@][8][1623269965867]/14__1102/MF\", \"shape_id\": \"[@1.0.12094204@]1\", \"route_id\": \"11\", \"service_hours\": 0.62, \"trip_first_departure_ts\": 51900, \"trip_last_arrival_ts\": 54120, \"departure_hour\": 14, \"time_of_day\": \"Midday\", \"p25\": 0.55, \"p50\": 0.58, \"p75\": 0.6, \"p50_trip\": 0, \"fastest_trip\": 0, \"car_duration_hours\": 0.3, \"competitive_route\": 1, \"bus_multiplier\": 2.07, \"bus_difference\": 19.2, \"num_trips\": 56, \"num_competitive\": 48, \"pct_trips_competitive\": 0.857, \"bus_difference_spread\": 9.600000000000001, \"route_group\": \"short\", \"max_trip_hrs\": 0.68, \"max_trip_route_group\": 0.68, \"below_cutoff\": 55, \"pct_below_cutoff\": 0.9821428571428571, \"name\": \"Gold Coast Transit\", \"caltrans_district\": \"07 - Los Angeles\", \"drmt_organization_name\": null, \"route_name\": null, \"cutoff2\": 20, \"cutoff\": 0}, {\"calitp_itp_id\": 123, \"trip_key\": 5992972138535387871, \"trip_id\": \"[@1.0.62083704@][8][1623269965867]/17__1103/MF\", \"shape_id\": \"[@1.0.12094204@]1\", \"route_id\": \"11\", \"service_hours\": 0.62, \"trip_first_departure_ts\": 59100, \"trip_last_arrival_ts\": 61320, \"departure_hour\": 16, \"time_of_day\": \"Midday\", \"p25\": 0.55, \"p50\": 0.58, \"p75\": 0.6, \"p50_trip\": 0, \"fastest_trip\": 0, \"car_duration_hours\": 0.3, \"competitive_route\": 1, \"bus_multiplier\": 2.07, \"bus_difference\": 19.2, \"num_trips\": 56, \"num_competitive\": 48, \"pct_trips_competitive\": 0.857, \"bus_difference_spread\": 9.600000000000001, \"route_group\": \"short\", \"max_trip_hrs\": 0.68, \"max_trip_route_group\": 0.68, \"below_cutoff\": 55, \"pct_below_cutoff\": 0.9821428571428571, \"name\": \"Gold Coast Transit\", \"caltrans_district\": \"07 - Los Angeles\", \"drmt_organization_name\": null, \"route_name\": null, \"cutoff2\": 20, \"cutoff\": 0}, {\"calitp_itp_id\": 123, \"trip_key\": -7934741256932568368, \"trip_id\": \"[@1.0.62083704@][8][1623270200522]/27__1102/MF\", \"shape_id\": \"[@1.0.12094204@]1\", \"route_id\": \"11\", \"service_hours\": 0.62, \"trip_first_departure_ts\": 57300, \"trip_last_arrival_ts\": 59520, \"departure_hour\": 15, \"time_of_day\": \"Midday\", \"p25\": 0.55, \"p50\": 0.58, \"p75\": 0.6, \"p50_trip\": 0, \"fastest_trip\": 0, \"car_duration_hours\": 0.3, \"competitive_route\": 1, \"bus_multiplier\": 2.07, \"bus_difference\": 19.2, \"num_trips\": 56, \"num_competitive\": 48, \"pct_trips_competitive\": 0.857, \"bus_difference_spread\": 9.600000000000001, \"route_group\": \"short\", \"max_trip_hrs\": 0.68, \"max_trip_route_group\": 0.68, \"below_cutoff\": 55, \"pct_below_cutoff\": 0.9821428571428571, \"name\": \"Gold Coast Transit\", \"caltrans_district\": \"07 - Los Angeles\", \"drmt_organization_name\": null, \"route_name\": null, \"cutoff2\": 20, \"cutoff\": 0}, {\"calitp_itp_id\": 123, \"trip_key\": -7459510066676945067, \"trip_id\": \"[@1.0.62083704@][8][1623269965867]/12__1103/MF\", \"shape_id\": \"[@1.0.12094204@]1\", \"route_id\": \"11\", \"service_hours\": 0.62, \"trip_first_departure_ts\": 48300, \"trip_last_arrival_ts\": 50520, \"departure_hour\": 13, \"time_of_day\": \"Midday\", \"p25\": 0.55, \"p50\": 0.58, \"p75\": 0.6, \"p50_trip\": 0, \"fastest_trip\": 0, \"car_duration_hours\": 0.3, \"competitive_route\": 1, \"bus_multiplier\": 2.07, \"bus_difference\": 19.2, \"num_trips\": 56, \"num_competitive\": 48, \"pct_trips_competitive\": 0.857, \"bus_difference_spread\": 9.600000000000001, \"route_group\": \"short\", \"max_trip_hrs\": 0.68, \"max_trip_route_group\": 0.68, \"below_cutoff\": 55, \"pct_below_cutoff\": 0.9821428571428571, \"name\": \"Gold Coast Transit\", \"caltrans_district\": \"07 - Los Angeles\", \"drmt_organization_name\": null, \"route_name\": null, \"cutoff2\": 20, \"cutoff\": 0}, {\"calitp_itp_id\": 123, \"trip_key\": -7382530921435603726, \"trip_id\": \"[@1.0.62083704@][8][1623269965867]/16__1101/MF\", \"shape_id\": \"[@1.0.12094204@]1\", \"route_id\": \"11\", \"service_hours\": 0.62, \"trip_first_departure_ts\": 55500, \"trip_last_arrival_ts\": 57720, \"departure_hour\": 15, \"time_of_day\": \"Midday\", \"p25\": 0.55, \"p50\": 0.58, \"p75\": 0.6, \"p50_trip\": 0, \"fastest_trip\": 0, \"car_duration_hours\": 0.3, \"competitive_route\": 1, \"bus_multiplier\": 2.07, \"bus_difference\": 19.2, \"num_trips\": 56, \"num_competitive\": 48, \"pct_trips_competitive\": 0.857, \"bus_difference_spread\": 9.600000000000001, \"route_group\": \"short\", \"max_trip_hrs\": 0.68, \"max_trip_route_group\": 0.68, \"below_cutoff\": 55, \"pct_below_cutoff\": 0.9821428571428571, \"name\": \"Gold Coast Transit\", \"caltrans_district\": \"07 - Los Angeles\", \"drmt_organization_name\": null, \"route_name\": null, \"cutoff2\": 20, \"cutoff\": 0}, {\"calitp_itp_id\": 123, \"trip_key\": -6055443258463673118, \"trip_id\": \"[@1.0.62083704@][8][1623269965867]/10__1101/MF\", \"shape_id\": \"[@1.0.12094204@]1\", \"route_id\": \"11\", \"service_hours\": 0.68, \"trip_first_departure_ts\": 44700, \"trip_last_arrival_ts\": 47160, \"departure_hour\": 12, \"time_of_day\": \"Midday\", \"p25\": 0.55, \"p50\": 0.58, \"p75\": 0.6, \"p50_trip\": 0, \"fastest_trip\": 0, \"car_duration_hours\": 0.3, \"competitive_route\": 1, \"bus_multiplier\": 2.27, \"bus_difference\": 22.8, \"num_trips\": 56, \"num_competitive\": 48, \"pct_trips_competitive\": 0.857, \"bus_difference_spread\": 9.600000000000001, \"route_group\": \"short\", \"max_trip_hrs\": 0.68, \"max_trip_route_group\": 0.68, \"below_cutoff\": 55, \"pct_below_cutoff\": 0.9821428571428571, \"name\": \"Gold Coast Transit\", \"caltrans_district\": \"07 - Los Angeles\", \"drmt_organization_name\": null, \"route_name\": null, \"cutoff2\": 20, \"cutoff\": 0}, {\"calitp_itp_id\": 123, \"trip_key\": 394576751653948139, \"trip_id\": \"[@1.0.54596205@][8][1591601531227]/0__1501/MF\", \"shape_id\": \"[@1.0.567661@]1\", \"route_id\": \"15\", \"service_hours\": 0.55, \"trip_first_departure_ts\": 29700, \"trip_last_arrival_ts\": 31680, \"departure_hour\": 8, \"time_of_day\": \"AM Peak\", \"p25\": 0.62, \"p50\": 0.67, \"p75\": 0.72, \"p50_trip\": 0, \"fastest_trip\": 0, \"car_duration_hours\": 0.45, \"competitive_route\": 1, \"bus_multiplier\": 1.22, \"bus_difference\": 6.0, \"num_trips\": 25, \"num_competitive\": 25, \"pct_trips_competitive\": 1.0, \"bus_difference_spread\": 12.0, \"route_group\": \"short\", \"max_trip_hrs\": 0.75, \"max_trip_route_group\": 0.75, \"below_cutoff\": 25, \"pct_below_cutoff\": 1.0, \"name\": \"Gold Coast Transit\", \"caltrans_district\": \"07 - Los Angeles\", \"drmt_organization_name\": null, \"route_name\": null, \"cutoff2\": 20, \"cutoff\": 0}, {\"calitp_itp_id\": 123, \"trip_key\": 7777626037555053921, \"trip_id\": \"[@1.0.54596205@][8][1591601531227]/12__1501/MF\", \"shape_id\": \"[@1.0.567661@]1\", \"route_id\": \"15\", \"service_hours\": 0.55, \"trip_first_departure_ts\": 64800, \"trip_last_arrival_ts\": 66780, \"departure_hour\": 18, \"time_of_day\": \"PM Peak\", \"p25\": 0.62, \"p50\": 0.67, \"p75\": 0.72, \"p50_trip\": 0, \"fastest_trip\": 1, \"car_duration_hours\": 0.45, \"competitive_route\": 1, \"bus_multiplier\": 1.22, \"bus_difference\": 6.0, \"num_trips\": 25, \"num_competitive\": 25, \"pct_trips_competitive\": 1.0, \"bus_difference_spread\": 12.0, \"route_group\": \"short\", \"max_trip_hrs\": 0.75, \"max_trip_route_group\": 0.75, \"below_cutoff\": 25, \"pct_below_cutoff\": 1.0, \"name\": \"Gold Coast Transit\", \"caltrans_district\": \"07 - Los Angeles\", \"drmt_organization_name\": null, \"route_name\": null, \"cutoff2\": 20, \"cutoff\": 0}, {\"calitp_itp_id\": 123, \"trip_key\": -8445251455085083644, \"trip_id\": \"[@1.0.54596205@][9][1591601706798]/13__1502/MF\", \"shape_id\": \"[@1.0.49500777@]3\", \"route_id\": \"15\", \"service_hours\": 0.58, \"trip_first_departure_ts\": 29880, \"trip_last_arrival_ts\": 31980, \"departure_hour\": 8, \"time_of_day\": \"AM Peak\", \"p25\": 0.62, \"p50\": 0.67, \"p75\": 0.72, \"p50_trip\": 0, \"fastest_trip\": 0, \"car_duration_hours\": 0.45, \"competitive_route\": 1, \"bus_multiplier\": 1.29, \"bus_difference\": 7.8, \"num_trips\": 25, \"num_competitive\": 25, \"pct_trips_competitive\": 1.0, \"bus_difference_spread\": 12.0, \"route_group\": \"short\", \"max_trip_hrs\": 0.75, \"max_trip_route_group\": 0.75, \"below_cutoff\": 25, \"pct_below_cutoff\": 1.0, \"name\": \"Gold Coast Transit\", \"caltrans_district\": \"07 - Los Angeles\", \"drmt_organization_name\": null, \"route_name\": null, \"cutoff2\": 20, \"cutoff\": 0}, {\"calitp_itp_id\": 123, \"trip_key\": -546682182020560826, \"trip_id\": \"[@1.0.54596205@][8][1591601531227]/3__1502/MF\", \"shape_id\": \"[@1.0.567661@]1\", \"route_id\": \"15\", \"service_hours\": 0.6, \"trip_first_departure_ts\": 37800, \"trip_last_arrival_ts\": 39960, \"departure_hour\": 10, \"time_of_day\": \"Midday\", \"p25\": 0.62, \"p50\": 0.67, \"p75\": 0.72, \"p50_trip\": 0, \"fastest_trip\": 0, \"car_duration_hours\": 0.45, \"competitive_route\": 1, \"bus_multiplier\": 1.33, \"bus_difference\": 9.0, \"num_trips\": 25, \"num_competitive\": 25, \"pct_trips_competitive\": 1.0, \"bus_difference_spread\": 12.0, \"route_group\": \"short\", \"max_trip_hrs\": 0.75, \"max_trip_route_group\": 0.75, \"below_cutoff\": 25, \"pct_below_cutoff\": 1.0, \"name\": \"Gold Coast Transit\", \"caltrans_district\": \"07 - Los Angeles\", \"drmt_organization_name\": null, \"route_name\": null, \"cutoff2\": 20, \"cutoff\": 0}, {\"calitp_itp_id\": 123, \"trip_key\": 8063163746988588673, \"trip_id\": \"[@1.0.54596205@][8][1591601531227]/1__1502/MF\", \"shape_id\": \"[@1.0.567661@]1\", \"route_id\": \"15\", \"service_hours\": 0.6, \"trip_first_departure_ts\": 32400, \"trip_last_arrival_ts\": 34560, \"departure_hour\": 9, \"time_of_day\": \"AM Peak\", \"p25\": 0.62, \"p50\": 0.67, \"p75\": 0.72, \"p50_trip\": 0, \"fastest_trip\": 0, \"car_duration_hours\": 0.45, \"competitive_route\": 1, \"bus_multiplier\": 1.33, \"bus_difference\": 9.0, \"num_trips\": 25, \"num_competitive\": 25, \"pct_trips_competitive\": 1.0, \"bus_difference_spread\": 12.0, \"route_group\": \"short\", \"max_trip_hrs\": 0.75, \"max_trip_route_group\": 0.75, \"below_cutoff\": 25, \"pct_below_cutoff\": 1.0, \"name\": \"Gold Coast Transit\", \"caltrans_district\": \"07 - Los Angeles\", \"drmt_organization_name\": null, \"route_name\": null, \"cutoff2\": 20, \"cutoff\": 0}, {\"calitp_itp_id\": 123, \"trip_key\": -2543667842253870401, \"trip_id\": \"[@1.0.54596205@][8][1591601531227]/2__1501/MF\", \"shape_id\": \"[@1.0.567661@]1\", \"route_id\": \"15\", \"service_hours\": 0.6, \"trip_first_departure_ts\": 35100, \"trip_last_arrival_ts\": 37260, \"departure_hour\": 9, \"time_of_day\": \"AM Peak\", \"p25\": 0.62, \"p50\": 0.67, \"p75\": 0.72, \"p50_trip\": 0, \"fastest_trip\": 0, \"car_duration_hours\": 0.45, \"competitive_route\": 1, \"bus_multiplier\": 1.33, \"bus_difference\": 9.0, \"num_trips\": 25, \"num_competitive\": 25, \"pct_trips_competitive\": 1.0, \"bus_difference_spread\": 12.0, \"route_group\": \"short\", \"max_trip_hrs\": 0.75, \"max_trip_route_group\": 0.75, \"below_cutoff\": 25, \"pct_below_cutoff\": 1.0, \"name\": \"Gold Coast Transit\", \"caltrans_district\": \"07 - Los Angeles\", \"drmt_organization_name\": null, \"route_name\": null, \"cutoff2\": 20, \"cutoff\": 0}, {\"calitp_itp_id\": 123, \"trip_key\": 1409911732989310483, \"trip_id\": \"[@1.0.56791677@][8][1603224933504]/0__1502/MF\", \"shape_id\": \"[@1.0.567661@]1\", \"route_id\": \"15\", \"service_hours\": 0.62, \"trip_first_departure_ts\": 61800, \"trip_last_arrival_ts\": 64020, \"departure_hour\": 17, \"time_of_day\": \"PM Peak\", \"p25\": 0.62, \"p50\": 0.67, \"p75\": 0.72, \"p50_trip\": 0, \"fastest_trip\": 0, \"car_duration_hours\": 0.45, \"competitive_route\": 1, \"bus_multiplier\": 1.38, \"bus_difference\": 10.2, \"num_trips\": 25, \"num_competitive\": 25, \"pct_trips_competitive\": 1.0, \"bus_difference_spread\": 12.0, \"route_group\": \"short\", \"max_trip_hrs\": 0.75, \"max_trip_route_group\": 0.75, \"below_cutoff\": 25, \"pct_below_cutoff\": 1.0, \"name\": \"Gold Coast Transit\", \"caltrans_district\": \"07 - Los Angeles\", \"drmt_organization_name\": null, \"route_name\": null, \"cutoff2\": 20, \"cutoff\": 0}, {\"calitp_itp_id\": 123, \"trip_key\": 2578810324104730806, \"trip_id\": \"[@1.0.54596205@][8][1591601531227]/5__1502/MF\", \"shape_id\": \"[@1.0.567661@]1\", \"route_id\": \"15\", \"service_hours\": 0.67, \"trip_first_departure_ts\": 43800, \"trip_last_arrival_ts\": 46200, \"departure_hour\": 12, \"time_of_day\": \"Midday\", \"p25\": 0.62, \"p50\": 0.67, \"p75\": 0.72, \"p50_trip\": 1, \"fastest_trip\": 0, \"car_duration_hours\": 0.45, \"competitive_route\": 1, \"bus_multiplier\": 1.49, \"bus_difference\": 13.2, \"num_trips\": 25, \"num_competitive\": 25, \"pct_trips_competitive\": 1.0, \"bus_difference_spread\": 12.0, \"route_group\": \"short\", \"max_trip_hrs\": 0.75, \"max_trip_route_group\": 0.75, \"below_cutoff\": 25, \"pct_below_cutoff\": 1.0, \"name\": \"Gold Coast Transit\", \"caltrans_district\": \"07 - Los Angeles\", \"drmt_organization_name\": null, \"route_name\": null, \"cutoff2\": 20, \"cutoff\": 0}, {\"calitp_itp_id\": 123, \"trip_key\": 846387118305110812, \"trip_id\": \"[@1.0.54596205@][8][1591601531227]/6__1501/MF\", \"shape_id\": \"[@1.0.567661@]1\", \"route_id\": \"15\", \"service_hours\": 0.67, \"trip_first_departure_ts\": 46800, \"trip_last_arrival_ts\": 49200, \"departure_hour\": 13, \"time_of_day\": \"Midday\", \"p25\": 0.62, \"p50\": 0.67, \"p75\": 0.72, \"p50_trip\": 1, \"fastest_trip\": 0, \"car_duration_hours\": 0.45, \"competitive_route\": 1, \"bus_multiplier\": 1.49, \"bus_difference\": 13.2, \"num_trips\": 25, \"num_competitive\": 25, \"pct_trips_competitive\": 1.0, \"bus_difference_spread\": 12.0, \"route_group\": \"short\", \"max_trip_hrs\": 0.75, \"max_trip_route_group\": 0.75, \"below_cutoff\": 25, \"pct_below_cutoff\": 1.0, \"name\": \"Gold Coast Transit\", \"caltrans_district\": \"07 - Los Angeles\", \"drmt_organization_name\": null, \"route_name\": null, \"cutoff2\": 20, \"cutoff\": 0}, {\"calitp_itp_id\": 123, \"trip_key\": -7618554743726336719, \"trip_id\": \"[@1.0.54596205@][8][1591601531227]/7__1502/MF\", \"shape_id\": \"[@1.0.567661@]1\", \"route_id\": \"15\", \"service_hours\": 0.67, \"trip_first_departure_ts\": 49800, \"trip_last_arrival_ts\": 52200, \"departure_hour\": 13, \"time_of_day\": \"Midday\", \"p25\": 0.62, \"p50\": 0.67, \"p75\": 0.72, \"p50_trip\": 1, \"fastest_trip\": 0, \"car_duration_hours\": 0.45, \"competitive_route\": 1, \"bus_multiplier\": 1.49, \"bus_difference\": 13.2, \"num_trips\": 25, \"num_competitive\": 25, \"pct_trips_competitive\": 1.0, \"bus_difference_spread\": 12.0, \"route_group\": \"short\", \"max_trip_hrs\": 0.75, \"max_trip_route_group\": 0.75, \"below_cutoff\": 25, \"pct_below_cutoff\": 1.0, \"name\": \"Gold Coast Transit\", \"caltrans_district\": \"07 - Los Angeles\", \"drmt_organization_name\": null, \"route_name\": null, \"cutoff2\": 20, \"cutoff\": 0}, {\"calitp_itp_id\": 123, \"trip_key\": -3596481844340437464, \"trip_id\": \"[@1.0.54596205@][8][1591601531227]/9__1502/MF\", \"shape_id\": \"[@1.0.567661@]1\", \"route_id\": \"15\", \"service_hours\": 0.67, \"trip_first_departure_ts\": 55800, \"trip_last_arrival_ts\": 58200, \"departure_hour\": 15, \"time_of_day\": \"Midday\", \"p25\": 0.62, \"p50\": 0.67, \"p75\": 0.72, \"p50_trip\": 1, \"fastest_trip\": 0, \"car_duration_hours\": 0.45, \"competitive_route\": 1, \"bus_multiplier\": 1.49, \"bus_difference\": 13.2, \"num_trips\": 25, \"num_competitive\": 25, \"pct_trips_competitive\": 1.0, \"bus_difference_spread\": 12.0, \"route_group\": \"short\", \"max_trip_hrs\": 0.75, \"max_trip_route_group\": 0.75, \"below_cutoff\": 25, \"pct_below_cutoff\": 1.0, \"name\": \"Gold Coast Transit\", \"caltrans_district\": \"07 - Los Angeles\", \"drmt_organization_name\": null, \"route_name\": null, \"cutoff2\": 20, \"cutoff\": 0}, {\"calitp_itp_id\": 123, \"trip_key\": -7655654849266970526, \"trip_id\": \"[@1.0.54596205@][8][1591601531227]/8__1501/MF\", \"shape_id\": \"[@1.0.567661@]1\", \"route_id\": \"15\", \"service_hours\": 0.67, \"trip_first_departure_ts\": 52800, \"trip_last_arrival_ts\": 55200, \"departure_hour\": 14, \"time_of_day\": \"Midday\", \"p25\": 0.62, \"p50\": 0.67, \"p75\": 0.72, \"p50_trip\": 1, \"fastest_trip\": 0, \"car_duration_hours\": 0.45, \"competitive_route\": 1, \"bus_multiplier\": 1.49, \"bus_difference\": 13.2, \"num_trips\": 25, \"num_competitive\": 25, \"pct_trips_competitive\": 1.0, \"bus_difference_spread\": 12.0, \"route_group\": \"short\", \"max_trip_hrs\": 0.75, \"max_trip_route_group\": 0.75, \"below_cutoff\": 25, \"pct_below_cutoff\": 1.0, \"name\": \"Gold Coast Transit\", \"caltrans_district\": \"07 - Los Angeles\", \"drmt_organization_name\": null, \"route_name\": null, \"cutoff2\": 20, \"cutoff\": 0}, {\"calitp_itp_id\": 123, \"trip_key\": 7722965107654728913, \"trip_id\": \"[@1.0.54596205@][8][1591601531227]/4__1501/MF\", \"shape_id\": \"[@1.0.567661@]1\", \"route_id\": \"15\", \"service_hours\": 0.67, \"trip_first_departure_ts\": 40800, \"trip_last_arrival_ts\": 43200, \"departure_hour\": 11, \"time_of_day\": \"Midday\", \"p25\": 0.62, \"p50\": 0.67, \"p75\": 0.72, \"p50_trip\": 1, \"fastest_trip\": 0, \"car_duration_hours\": 0.45, \"competitive_route\": 1, \"bus_multiplier\": 1.49, \"bus_difference\": 13.2, \"num_trips\": 25, \"num_competitive\": 25, \"pct_trips_competitive\": 1.0, \"bus_difference_spread\": 12.0, \"route_group\": \"short\", \"max_trip_hrs\": 0.75, \"max_trip_route_group\": 0.75, \"below_cutoff\": 25, \"pct_below_cutoff\": 1.0, \"name\": \"Gold Coast Transit\", \"caltrans_district\": \"07 - Los Angeles\", \"drmt_organization_name\": null, \"route_name\": null, \"cutoff2\": 20, \"cutoff\": 0}, {\"calitp_itp_id\": 123, \"trip_key\": 8590014577844580458, \"trip_id\": \"[@1.0.54596205@][8][1591601531227]/10__1501/MF\", \"shape_id\": \"[@1.0.567661@]1\", \"route_id\": \"15\", \"service_hours\": 0.67, \"trip_first_departure_ts\": 58800, \"trip_last_arrival_ts\": 61200, \"departure_hour\": 16, \"time_of_day\": \"Midday\", \"p25\": 0.62, \"p50\": 0.67, \"p75\": 0.72, \"p50_trip\": 1, \"fastest_trip\": 0, \"car_duration_hours\": 0.45, \"competitive_route\": 1, \"bus_multiplier\": 1.49, \"bus_difference\": 13.2, \"num_trips\": 25, \"num_competitive\": 25, \"pct_trips_competitive\": 1.0, \"bus_difference_spread\": 12.0, \"route_group\": \"short\", \"max_trip_hrs\": 0.75, \"max_trip_route_group\": 0.75, \"below_cutoff\": 25, \"pct_below_cutoff\": 1.0, \"name\": \"Gold Coast Transit\", \"caltrans_district\": \"07 - Los Angeles\", \"drmt_organization_name\": null, \"route_name\": null, \"cutoff2\": 20, \"cutoff\": 0}, {\"calitp_itp_id\": 123, \"trip_key\": -5845103218638896760, \"trip_id\": \"[@1.0.54596205@][9][1591601706798]/16__1501/MF\", \"shape_id\": \"[@1.0.567661@]2\", \"route_id\": \"15\", \"service_hours\": 0.7, \"trip_first_departure_ts\": 37800, \"trip_last_arrival_ts\": 40320, \"departure_hour\": 10, \"time_of_day\": \"Midday\", \"p25\": 0.62, \"p50\": 0.67, \"p75\": 0.72, \"p50_trip\": 0, \"fastest_trip\": 0, \"car_duration_hours\": 0.45, \"competitive_route\": 1, \"bus_multiplier\": 1.56, \"bus_difference\": 15.0, \"num_trips\": 25, \"num_competitive\": 25, \"pct_trips_competitive\": 1.0, \"bus_difference_spread\": 12.0, \"route_group\": \"short\", \"max_trip_hrs\": 0.75, \"max_trip_route_group\": 0.75, \"below_cutoff\": 25, \"pct_below_cutoff\": 1.0, \"name\": \"Gold Coast Transit\", \"caltrans_district\": \"07 - Los Angeles\", \"drmt_organization_name\": null, \"route_name\": null, \"cutoff2\": 20, \"cutoff\": 0}, {\"calitp_itp_id\": 123, \"trip_key\": -7237280433113365916, \"trip_id\": \"[@1.0.54596205@][9][1591601706798]/14__1501/MF\", \"shape_id\": \"[@1.0.567661@]2\", \"route_id\": \"15\", \"service_hours\": 0.7, \"trip_first_departure_ts\": 32100, \"trip_last_arrival_ts\": 34620, \"departure_hour\": 8, \"time_of_day\": \"AM Peak\", \"p25\": 0.62, \"p50\": 0.67, \"p75\": 0.72, \"p50_trip\": 0, \"fastest_trip\": 0, \"car_duration_hours\": 0.45, \"competitive_route\": 1, \"bus_multiplier\": 1.56, \"bus_difference\": 15.0, \"num_trips\": 25, \"num_competitive\": 25, \"pct_trips_competitive\": 1.0, \"bus_difference_spread\": 12.0, \"route_group\": \"short\", \"max_trip_hrs\": 0.75, \"max_trip_route_group\": 0.75, \"below_cutoff\": 25, \"pct_below_cutoff\": 1.0, \"name\": \"Gold Coast Transit\", \"caltrans_district\": \"07 - Los Angeles\", \"drmt_organization_name\": null, \"route_name\": null, \"cutoff2\": 20, \"cutoff\": 0}, {\"calitp_itp_id\": 123, \"trip_key\": 2586141109768626921, \"trip_id\": \"[@1.0.54596205@][9][1591601706798]/15__1502/MF\", \"shape_id\": \"[@1.0.567661@]2\", \"route_id\": \"15\", \"service_hours\": 0.7, \"trip_first_departure_ts\": 34800, \"trip_last_arrival_ts\": 37320, \"departure_hour\": 9, \"time_of_day\": \"AM Peak\", \"p25\": 0.62, \"p50\": 0.67, \"p75\": 0.72, \"p50_trip\": 0, \"fastest_trip\": 0, \"car_duration_hours\": 0.45, \"competitive_route\": 1, \"bus_multiplier\": 1.56, \"bus_difference\": 15.0, \"num_trips\": 25, \"num_competitive\": 25, \"pct_trips_competitive\": 1.0, \"bus_difference_spread\": 12.0, \"route_group\": \"short\", \"max_trip_hrs\": 0.75, \"max_trip_route_group\": 0.75, \"below_cutoff\": 25, \"pct_below_cutoff\": 1.0, \"name\": \"Gold Coast Transit\", \"caltrans_district\": \"07 - Los Angeles\", \"drmt_organization_name\": null, \"route_name\": null, \"cutoff2\": 20, \"cutoff\": 0}, {\"calitp_itp_id\": 123, \"trip_key\": -3140849612052990080, \"trip_id\": \"[@1.0.54596205@][9][1591601706798]/24__1501/MF\", \"shape_id\": \"[@1.0.567661@]2\", \"route_id\": \"15\", \"service_hours\": 0.7, \"trip_first_departure_ts\": 61800, \"trip_last_arrival_ts\": 64320, \"departure_hour\": 17, \"time_of_day\": \"PM Peak\", \"p25\": 0.62, \"p50\": 0.67, \"p75\": 0.72, \"p50_trip\": 0, \"fastest_trip\": 0, \"car_duration_hours\": 0.45, \"competitive_route\": 1, \"bus_multiplier\": 1.56, \"bus_difference\": 15.0, \"num_trips\": 25, \"num_competitive\": 25, \"pct_trips_competitive\": 1.0, \"bus_difference_spread\": 12.0, \"route_group\": \"short\", \"max_trip_hrs\": 0.75, \"max_trip_route_group\": 0.75, \"below_cutoff\": 25, \"pct_below_cutoff\": 1.0, \"name\": \"Gold Coast Transit\", \"caltrans_district\": \"07 - Los Angeles\", \"drmt_organization_name\": null, \"route_name\": null, \"cutoff2\": 20, \"cutoff\": 0}, {\"calitp_itp_id\": 123, \"trip_key\": 5318243453526181446, \"trip_id\": \"[@1.0.56791677@][9][1603226249555]/1__1502/MF\", \"shape_id\": \"[@1.0.567661@]2\", \"route_id\": \"15\", \"service_hours\": 0.72, \"trip_first_departure_ts\": 58800, \"trip_last_arrival_ts\": 61380, \"departure_hour\": 16, \"time_of_day\": \"Midday\", \"p25\": 0.62, \"p50\": 0.67, \"p75\": 0.72, \"p50_trip\": 0, \"fastest_trip\": 0, \"car_duration_hours\": 0.45, \"competitive_route\": 1, \"bus_multiplier\": 1.6, \"bus_difference\": 16.2, \"num_trips\": 25, \"num_competitive\": 25, \"pct_trips_competitive\": 1.0, \"bus_difference_spread\": 12.0, \"route_group\": \"short\", \"max_trip_hrs\": 0.75, \"max_trip_route_group\": 0.75, \"below_cutoff\": 25, \"pct_below_cutoff\": 1.0, \"name\": \"Gold Coast Transit\", \"caltrans_district\": \"07 - Los Angeles\", \"drmt_organization_name\": null, \"route_name\": null, \"cutoff2\": 20, \"cutoff\": 0}, {\"calitp_itp_id\": 123, \"trip_key\": 7391165619851399355, \"trip_id\": \"[@1.0.54596205@][9][1591601706798]/22__1501/MF\", \"shape_id\": \"[@1.0.567661@]2\", \"route_id\": \"15\", \"service_hours\": 0.75, \"trip_first_departure_ts\": 55800, \"trip_last_arrival_ts\": 58500, \"departure_hour\": 15, \"time_of_day\": \"Midday\", \"p25\": 0.62, \"p50\": 0.67, \"p75\": 0.72, \"p50_trip\": 0, \"fastest_trip\": 0, \"car_duration_hours\": 0.45, \"competitive_route\": 1, \"bus_multiplier\": 1.67, \"bus_difference\": 18.0, \"num_trips\": 25, \"num_competitive\": 25, \"pct_trips_competitive\": 1.0, \"bus_difference_spread\": 12.0, \"route_group\": \"short\", \"max_trip_hrs\": 0.75, \"max_trip_route_group\": 0.75, \"below_cutoff\": 25, \"pct_below_cutoff\": 1.0, \"name\": \"Gold Coast Transit\", \"caltrans_district\": \"07 - Los Angeles\", \"drmt_organization_name\": null, \"route_name\": null, \"cutoff2\": 20, \"cutoff\": 0}, {\"calitp_itp_id\": 123, \"trip_key\": -865186325645978286, \"trip_id\": \"[@1.0.54596205@][9][1591601706798]/19__1502/MF\", \"shape_id\": \"[@1.0.567661@]2\", \"route_id\": \"15\", \"service_hours\": 0.75, \"trip_first_departure_ts\": 46800, \"trip_last_arrival_ts\": 49500, \"departure_hour\": 13, \"time_of_day\": \"Midday\", \"p25\": 0.62, \"p50\": 0.67, \"p75\": 0.72, \"p50_trip\": 0, \"fastest_trip\": 0, \"car_duration_hours\": 0.45, \"competitive_route\": 1, \"bus_multiplier\": 1.67, \"bus_difference\": 18.0, \"num_trips\": 25, \"num_competitive\": 25, \"pct_trips_competitive\": 1.0, \"bus_difference_spread\": 12.0, \"route_group\": \"short\", \"max_trip_hrs\": 0.75, \"max_trip_route_group\": 0.75, \"below_cutoff\": 25, \"pct_below_cutoff\": 1.0, \"name\": \"Gold Coast Transit\", \"caltrans_district\": \"07 - Los Angeles\", \"drmt_organization_name\": null, \"route_name\": null, \"cutoff2\": 20, \"cutoff\": 0}, {\"calitp_itp_id\": 123, \"trip_key\": 8393304992485265009, \"trip_id\": \"[@1.0.54596205@][9][1591601706798]/17__1502/MF\", \"shape_id\": \"[@1.0.567661@]2\", \"route_id\": \"15\", \"service_hours\": 0.75, \"trip_first_departure_ts\": 40800, \"trip_last_arrival_ts\": 43500, \"departure_hour\": 11, \"time_of_day\": \"Midday\", \"p25\": 0.62, \"p50\": 0.67, \"p75\": 0.72, \"p50_trip\": 0, \"fastest_trip\": 0, \"car_duration_hours\": 0.45, \"competitive_route\": 1, \"bus_multiplier\": 1.67, \"bus_difference\": 18.0, \"num_trips\": 25, \"num_competitive\": 25, \"pct_trips_competitive\": 1.0, \"bus_difference_spread\": 12.0, \"route_group\": \"short\", \"max_trip_hrs\": 0.75, \"max_trip_route_group\": 0.75, \"below_cutoff\": 25, \"pct_below_cutoff\": 1.0, \"name\": \"Gold Coast Transit\", \"caltrans_district\": \"07 - Los Angeles\", \"drmt_organization_name\": null, \"route_name\": null, \"cutoff2\": 20, \"cutoff\": 0}, {\"calitp_itp_id\": 123, \"trip_key\": -2163024508308576291, \"trip_id\": \"[@1.0.54596205@][9][1591601706798]/18__1501/MF\", \"shape_id\": \"[@1.0.567661@]2\", \"route_id\": \"15\", \"service_hours\": 0.75, \"trip_first_departure_ts\": 43800, \"trip_last_arrival_ts\": 46500, \"departure_hour\": 12, \"time_of_day\": \"Midday\", \"p25\": 0.62, \"p50\": 0.67, \"p75\": 0.72, \"p50_trip\": 0, \"fastest_trip\": 0, \"car_duration_hours\": 0.45, \"competitive_route\": 1, \"bus_multiplier\": 1.67, \"bus_difference\": 18.0, \"num_trips\": 25, \"num_competitive\": 25, \"pct_trips_competitive\": 1.0, \"bus_difference_spread\": 12.0, \"route_group\": \"short\", \"max_trip_hrs\": 0.75, \"max_trip_route_group\": 0.75, \"below_cutoff\": 25, \"pct_below_cutoff\": 1.0, \"name\": \"Gold Coast Transit\", \"caltrans_district\": \"07 - Los Angeles\", \"drmt_organization_name\": null, \"route_name\": null, \"cutoff2\": 20, \"cutoff\": 0}, {\"calitp_itp_id\": 123, \"trip_key\": 799422507511558741, \"trip_id\": \"[@1.0.54596205@][9][1591601706798]/20__1501/MF\", \"shape_id\": \"[@1.0.567661@]2\", \"route_id\": \"15\", \"service_hours\": 0.75, \"trip_first_departure_ts\": 49800, \"trip_last_arrival_ts\": 52500, \"departure_hour\": 13, \"time_of_day\": \"Midday\", \"p25\": 0.62, \"p50\": 0.67, \"p75\": 0.72, \"p50_trip\": 0, \"fastest_trip\": 0, \"car_duration_hours\": 0.45, \"competitive_route\": 1, \"bus_multiplier\": 1.67, \"bus_difference\": 18.0, \"num_trips\": 25, \"num_competitive\": 25, \"pct_trips_competitive\": 1.0, \"bus_difference_spread\": 12.0, \"route_group\": \"short\", \"max_trip_hrs\": 0.75, \"max_trip_route_group\": 0.75, \"below_cutoff\": 25, \"pct_below_cutoff\": 1.0, \"name\": \"Gold Coast Transit\", \"caltrans_district\": \"07 - Los Angeles\", \"drmt_organization_name\": null, \"route_name\": null, \"cutoff2\": 20, \"cutoff\": 0}, {\"calitp_itp_id\": 123, \"trip_key\": -7571567057349437209, \"trip_id\": \"[@1.0.54596205@][9][1591601706798]/21__1502/MF\", \"shape_id\": \"[@1.0.567661@]2\", \"route_id\": \"15\", \"service_hours\": 0.75, \"trip_first_departure_ts\": 52800, \"trip_last_arrival_ts\": 55500, \"departure_hour\": 14, \"time_of_day\": \"Midday\", \"p25\": 0.62, \"p50\": 0.67, \"p75\": 0.72, \"p50_trip\": 0, \"fastest_trip\": 0, \"car_duration_hours\": 0.45, \"competitive_route\": 1, \"bus_multiplier\": 1.67, \"bus_difference\": 18.0, \"num_trips\": 25, \"num_competitive\": 25, \"pct_trips_competitive\": 1.0, \"bus_difference_spread\": 12.0, \"route_group\": \"short\", \"max_trip_hrs\": 0.75, \"max_trip_route_group\": 0.75, \"below_cutoff\": 25, \"pct_below_cutoff\": 1.0, \"name\": \"Gold Coast Transit\", \"caltrans_district\": \"07 - Los Angeles\", \"drmt_organization_name\": null, \"route_name\": null, \"cutoff2\": 20, \"cutoff\": 0}]}}, {\"mode\": \"vega-lite\"});\n",
       "</script>"
      ],
      "text/plain": [
       "alt.FacetChart(...)"
      ]
     },
     "metadata": {},
     "output_type": "display_data"
    },
    {
     "data": {
      "text/html": [
       "<h4>Route Stats</h4>"
      ],
      "text/plain": [
       "<IPython.core.display.HTML object>"
      ]
     },
     "metadata": {},
     "output_type": "display_data"
    },
    {
     "data": {
      "text/html": [
       "<style type=\"text/css\">\n",
       "</style>\n",
       "<table id=\"T_06337\">\n",
       "  <thead>\n",
       "    <tr>\n",
       "      <th id=\"T_06337_level0_col0\" class=\"col_heading level0 col0\" >Route ID</th>\n",
       "      <th id=\"T_06337_level0_col1\" class=\"col_heading level0 col1\" >Route Name</th>\n",
       "      <th id=\"T_06337_level0_col2\" class=\"col_heading level0 col2\" ># trips</th>\n",
       "      <th id=\"T_06337_level0_col3\" class=\"col_heading level0 col3\" >Daily Avg Frequency (trips per hr)</th>\n",
       "      <th id=\"T_06337_level0_col4\" class=\"col_heading level0 col4\" >25th, 50th, 75th ptile (hrs)</th>\n",
       "      <th id=\"T_06337_level0_col5\" class=\"col_heading level0 col5\" >PM Peak Avg Frequency (trips per hr)</th>\n",
       "    </tr>\n",
       "  </thead>\n",
       "  <tbody>\n",
       "    <tr>\n",
       "      <td id=\"T_06337_row0_col0\" class=\"data row0 col0\" >15</td>\n",
       "      <td id=\"T_06337_row0_col1\" class=\"data row0 col1\" >None</td>\n",
       "      <td id=\"T_06337_row0_col2\" class=\"data row0 col2\" >25</td>\n",
       "      <td id=\"T_06337_row0_col3\" class=\"data row0 col3\" >1.04</td>\n",
       "      <td id=\"T_06337_row0_col4\" class=\"data row0 col4\" >0.62, 0.67, 0.72</td>\n",
       "      <td id=\"T_06337_row0_col5\" class=\"data row0 col5\" >nan</td>\n",
       "    </tr>\n",
       "    <tr>\n",
       "      <td id=\"T_06337_row1_col0\" class=\"data row1 col0\" >11</td>\n",
       "      <td id=\"T_06337_row1_col1\" class=\"data row1 col1\" >None</td>\n",
       "      <td id=\"T_06337_row1_col2\" class=\"data row1 col2\" >56</td>\n",
       "      <td id=\"T_06337_row1_col3\" class=\"data row1 col3\" >2.33</td>\n",
       "      <td id=\"T_06337_row1_col4\" class=\"data row1 col4\" >0.55, 0.58, 0.6</td>\n",
       "      <td id=\"T_06337_row1_col5\" class=\"data row1 col5\" >nan</td>\n",
       "    </tr>\n",
       "  </tbody>\n",
       "</table>\n"
      ],
      "text/plain": [
       "<IPython.core.display.HTML object>"
      ]
     },
     "metadata": {},
     "output_type": "display_data"
    }
   ],
   "source": [
    "# Allow for possibility that operator doesn't have routes that fall into certain route_groups\n",
    "# But, jupyterbook will not like markdown with f-string\n",
    "# separate out route_group and put in each cell, and use try/except + if to display...\n",
    "# but all 3 route groups must be displayed. just add sentence about why no routes were returned at the end\n",
    "route_group = \"short\"\n",
    "try:\n",
    "    display_charts_for_route_group(df, route_group)\n",
    "except:\n",
    "    print(\"No routes meet this criteria.\")"
   ]
  },
  {
   "cell_type": "markdown",
   "id": "c2931b6f-034d-4384-9e14-80b925e3b820",
   "metadata": {
    "papermill": {
     "duration": 0.03154,
     "end_time": "2022-05-11T22:22:33.117841",
     "exception": false,
     "start_time": "2022-05-11T22:22:33.086301",
     "status": "completed"
    },
    "tags": []
   },
   "source": [
    "### Medium Routes (1-1.5 hrs)"
   ]
  },
  {
   "cell_type": "code",
   "execution_count": 15,
   "id": "480edddc-4de0-48c2-ae4c-b0ceef8f28b5",
   "metadata": {
    "execution": {
     "iopub.execute_input": "2022-05-11T22:22:33.198502Z",
     "iopub.status.busy": "2022-05-11T22:22:33.198040Z",
     "iopub.status.idle": "2022-05-11T22:22:33.217547Z",
     "shell.execute_reply": "2022-05-11T22:22:33.216742Z"
    },
    "jupyter": {
     "source_hidden": true
    },
    "papermill": {
     "duration": 0.071076,
     "end_time": "2022-05-11T22:22:33.220181",
     "exception": false,
     "start_time": "2022-05-11T22:22:33.149105",
     "status": "completed"
    },
    "tags": [
     "remove_input"
    ]
   },
   "outputs": [
    {
     "name": "stdout",
     "output_type": "stream",
     "text": [
      "No routes meet this criteria.\n"
     ]
    }
   ],
   "source": [
    "route_group = \"medium\"\n",
    "try:\n",
    "    display_charts_for_route_group(df, route_group)\n",
    "except:\n",
    "    print(\"No routes meet this criteria.\")"
   ]
  },
  {
   "cell_type": "markdown",
   "id": "124b76d0-886c-4d03-92ac-f1bda3cda182",
   "metadata": {
    "papermill": {
     "duration": 0.03792,
     "end_time": "2022-05-11T22:22:33.292848",
     "exception": false,
     "start_time": "2022-05-11T22:22:33.254928",
     "status": "completed"
    },
    "tags": []
   },
   "source": [
    "### Long Routes (> 1.5 hrs)"
   ]
  },
  {
   "cell_type": "code",
   "execution_count": 16,
   "id": "ddc81b19-4c45-4c81-8b7a-5e0f394aa7a3",
   "metadata": {
    "execution": {
     "iopub.execute_input": "2022-05-11T22:22:33.365559Z",
     "iopub.status.busy": "2022-05-11T22:22:33.364775Z",
     "iopub.status.idle": "2022-05-11T22:22:33.387114Z",
     "shell.execute_reply": "2022-05-11T22:22:33.386316Z"
    },
    "jupyter": {
     "source_hidden": true
    },
    "papermill": {
     "duration": 0.061285,
     "end_time": "2022-05-11T22:22:33.389754",
     "exception": false,
     "start_time": "2022-05-11T22:22:33.328469",
     "status": "completed"
    },
    "tags": [
     "remove_input"
    ]
   },
   "outputs": [
    {
     "name": "stdout",
     "output_type": "stream",
     "text": [
      "No routes meet this criteria.\n"
     ]
    }
   ],
   "source": [
    "route_group = \"long\"\n",
    "try:\n",
    "    display_charts_for_route_group(df, route_group)\n",
    "except:\n",
    "    print(\"No routes meet this criteria.\")"
   ]
  },
  {
   "cell_type": "markdown",
   "id": "ace75b5f-0442-4fbe-aebd-6c3a13ae13a7",
   "metadata": {
    "papermill": {
     "duration": 0.041864,
     "end_time": "2022-05-11T22:22:33.468436",
     "exception": false,
     "start_time": "2022-05-11T22:22:33.426572",
     "status": "completed"
    },
    "tags": []
   },
   "source": [
    "### GTFS Real-Time Speedmaps"
   ]
  },
  {
   "cell_type": "code",
   "execution_count": 17,
   "id": "a0a114a1-e975-4027-9daf-50029f5ef59f",
   "metadata": {
    "execution": {
     "iopub.execute_input": "2022-05-11T22:22:33.582571Z",
     "iopub.status.busy": "2022-05-11T22:22:33.582204Z",
     "iopub.status.idle": "2022-05-11T22:22:33.625289Z",
     "shell.execute_reply": "2022-05-11T22:22:33.624462Z"
    },
    "jupyter": {
     "source_hidden": true
    },
    "papermill": {
     "duration": 0.089064,
     "end_time": "2022-05-11T22:22:33.627942",
     "exception": false,
     "start_time": "2022-05-11T22:22:33.538878",
     "status": "completed"
    },
    "tags": [
     "remove_input"
    ]
   },
   "outputs": [
    {
     "data": {
      "text/html": [
       "No GTFS RT data available."
      ],
      "text/plain": [
       "<IPython.core.display.HTML object>"
      ]
     },
     "metadata": {},
     "output_type": "display_data"
    }
   ],
   "source": [
    "RT_SITE_YAML = \"../portfolio/sites/rt.yml\"\n",
    "\n",
    "# Grab list of ITP IDs with GTFS RT speedmaps\n",
    "rt_itp_id = deploy_portfolio_yaml.check_if_rt_data_available(RT_SITE_YAML)\n",
    "\n",
    "# Construct the URL \n",
    "RT_URL = (\"https://analysis.calitp.org/rt/\"\n",
    "          f\"district_{district_number}-{district_name}/\"\n",
    "          f\"speedmaps__itp_id_{itp_id}.html\"\n",
    "         ) \n",
    "\n",
    "# If this ITP ID is found in RT analysis, give URL to that operator in analysis.calitp.org\n",
    "if itp_id in rt_itp_id:\n",
    "    display(HTML(f'''<a href={RT_URL}>GTFS RT speedmaps here.</a>'''))\n",
    "\n",
    "else:\n",
    "    display(HTML(\"No GTFS RT data available.\"))"
   ]
  },
  {
   "cell_type": "code",
   "execution_count": null,
   "id": "5b680565-2230-4f2e-817c-718fad48d64c",
   "metadata": {
    "jupyter": {
     "source_hidden": true
    },
    "papermill": {
     "duration": 0.03787,
     "end_time": "2022-05-11T22:22:33.703663",
     "exception": false,
     "start_time": "2022-05-11T22:22:33.665793",
     "status": "completed"
    },
    "tags": [
     "remove_input"
    ]
   },
   "outputs": [],
   "source": []
  }
 ],
 "metadata": {
  "kernelspec": {
   "display_name": "Python 3 (ipykernel)",
   "language": "python",
   "name": "python3"
  },
  "language_info": {
   "codemirror_mode": {
    "name": "ipython",
    "version": 3
   },
   "file_extension": ".py",
   "mimetype": "text/x-python",
   "name": "python",
   "nbconvert_exporter": "python",
   "pygments_lexer": "ipython3",
   "version": "3.9.12"
  },
  "papermill": {
   "default_parameters": {},
   "duration": 25.647794,
   "end_time": "2022-05-11T22:22:35.272529",
   "environment_variables": {},
   "exception": null,
   "input_path": "bus_service_increase/competitive-parallel-routes.ipynb",
   "output_path": "portfolio/parallel_corridors/district_07-los-angeles/19__competitive-parallel-routes__district_07-los-angeles__itp_id_123.ipynb",
   "parameters": {
    "district": "07 - Los Angeles",
    "itp_id": 123
   },
   "start_time": "2022-05-11T22:22:09.624735",
   "version": "2.3.4"
  }
 },
 "nbformat": 4,
 "nbformat_minor": 5
}