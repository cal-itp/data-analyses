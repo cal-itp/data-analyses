{
 "cells": [
  {
   "cell_type": "code",
   "execution_count": 1,
   "id": "95d00857-6a20-4529-a519-2cc7182928a9",
   "metadata": {
    "execution": {
     "iopub.execute_input": "2022-06-03T22:09:01.117335Z",
     "iopub.status.busy": "2022-06-03T22:09:01.116627Z",
     "iopub.status.idle": "2022-06-03T22:09:09.873857Z",
     "shell.execute_reply": "2022-06-03T22:09:09.872619Z"
    },
    "jupyter": {
     "source_hidden": true
    },
    "papermill": {
     "duration": 8.77548,
     "end_time": "2022-06-03T22:09:09.876503",
     "exception": false,
     "start_time": "2022-06-03T22:09:01.101023",
     "status": "completed"
    },
    "tags": [
     "remove_input"
    ]
   },
   "outputs": [],
   "source": [
    "%%capture\n",
    "import warnings\n",
    "warnings.filterwarnings('ignore')\n",
    "\n",
    "import altair as alt\n",
    "import calitp.magics\n",
    "import geopandas as gpd\n",
    "import intake\n",
    "import pandas as pd\n",
    "\n",
    "from IPython.display import display, Markdown, HTML\n",
    "\n",
    "import parallel_corridors_utils\n",
    "import deploy_portfolio_yaml\n",
    "from shared_utils import styleguide, geography_utils\n",
    "from E5_make_stripplot_data import diff_cutoffs\n",
    "\n",
    "catalog = intake.open_catalog(\"./*.yml\")\n",
    "alt.renderers.enable(\"html\")"
   ]
  },
  {
   "cell_type": "code",
   "execution_count": 2,
   "id": "8af2a0c1-f3da-408d-9bea-11d9fbf8695d",
   "metadata": {
    "execution": {
     "iopub.execute_input": "2022-06-03T22:09:09.906452Z",
     "iopub.status.busy": "2022-06-03T22:09:09.905502Z",
     "iopub.status.idle": "2022-06-03T22:09:09.910018Z",
     "shell.execute_reply": "2022-06-03T22:09:09.909408Z"
    },
    "jupyter": {
     "source_hidden": true
    },
    "papermill": {
     "duration": 0.021341,
     "end_time": "2022-06-03T22:09:09.911974",
     "exception": false,
     "start_time": "2022-06-03T22:09:09.890633",
     "status": "completed"
    },
    "tags": [
     "parameters",
     "remove_input"
    ]
   },
   "outputs": [],
   "source": [
    "# parameters cell\n",
    "itp_id = 182"
   ]
  },
  {
   "cell_type": "code",
   "execution_count": 3,
   "id": "3720459b",
   "metadata": {
    "execution": {
     "iopub.execute_input": "2022-06-03T22:09:09.942256Z",
     "iopub.status.busy": "2022-06-03T22:09:09.941705Z",
     "iopub.status.idle": "2022-06-03T22:09:09.946188Z",
     "shell.execute_reply": "2022-06-03T22:09:09.945396Z"
    },
    "jupyter": {
     "source_hidden": true
    },
    "papermill": {
     "duration": 0.023071,
     "end_time": "2022-06-03T22:09:09.948139",
     "exception": false,
     "start_time": "2022-06-03T22:09:09.925068",
     "status": "completed"
    },
    "tags": [
     "injected-parameters",
     "remove_input"
    ]
   },
   "outputs": [],
   "source": [
    "# Parameters\n",
    "district = \"07 - Los Angeles\"\n",
    "itp_id = 337\n"
   ]
  },
  {
   "cell_type": "code",
   "execution_count": 4,
   "id": "9582aaf4-79ff-412a-b248-8d8d693ebd4f",
   "metadata": {
    "execution": {
     "iopub.execute_input": "2022-06-03T22:09:09.976424Z",
     "iopub.status.busy": "2022-06-03T22:09:09.976128Z",
     "iopub.status.idle": "2022-06-03T22:09:11.279606Z",
     "shell.execute_reply": "2022-06-03T22:09:11.278600Z"
    },
    "jupyter": {
     "source_hidden": true
    },
    "papermill": {
     "duration": 1.321938,
     "end_time": "2022-06-03T22:09:11.282554",
     "exception": false,
     "start_time": "2022-06-03T22:09:09.960616",
     "status": "completed"
    },
    "tags": [
     "remove_input"
    ]
   },
   "outputs": [],
   "source": [
    "df = catalog.competitive_route_variability.read()\n",
    "\n",
    "df = (df[(df.calitp_itp_id == itp_id) & \n",
    "         (df.route_group.notna())]\n",
    "      .rename(columns = {\"route_name_used\": \"route_name\"})\n",
    "      .reset_index(drop=True)\n",
    "     )\n",
    "\n",
    "\n",
    "if itp_id == 182:\n",
    "    df = df.assign(\n",
    "        route_id = df.route_id.str.replace('-13153', '')\n",
    "    )\n",
    "\n",
    "# Use route_short_name instead\n",
    "# But where route_short_name is missing, use route_id\n",
    "df = df.assign(\n",
    "    route_id2 = df.apply(lambda x: x.route_short_name if x.route_short_name is not None\n",
    "                        else x.route_id, axis=1),\n",
    ")"
   ]
  },
  {
   "cell_type": "code",
   "execution_count": 5,
   "id": "33ac4b06-f647-4dce-a625-8f2c1b37cc60",
   "metadata": {
    "execution": {
     "iopub.execute_input": "2022-06-03T22:09:11.310743Z",
     "iopub.status.busy": "2022-06-03T22:09:11.310466Z",
     "iopub.status.idle": "2022-06-03T22:09:11.317677Z",
     "shell.execute_reply": "2022-06-03T22:09:11.316803Z"
    },
    "jupyter": {
     "source_hidden": true
    },
    "papermill": {
     "duration": 0.024,
     "end_time": "2022-06-03T22:09:11.319676",
     "exception": false,
     "start_time": "2022-06-03T22:09:11.295676",
     "status": "completed"
    },
    "tags": [
     "remove_input"
    ]
   },
   "outputs": [],
   "source": [
    "%%capture_parameters\n",
    "operator_name = df.calitp_agency_name.iloc[0]\n",
    "district_number = f\"{df.caltrans_district.iloc[0].split('-')[0].strip()}\"\n",
    "district_name = f\"{df.caltrans_district.iloc[0].split('-')[1].strip().lower().replace(' ', '-')}\"\n",
    "\n",
    "itp_id, operator_name, district_number, district_name"
   ]
  },
  {
   "cell_type": "markdown",
   "id": "65bc6f5c-8348-42ee-b2dd-52057c406852",
   "metadata": {
    "papermill": {
     "duration": 0.017342,
     "end_time": "2022-06-03T22:09:11.349739",
     "exception": false,
     "start_time": "2022-06-03T22:09:11.332397",
     "status": "completed"
    },
    "tags": []
   },
   "source": [
    "# Thousand Oaks Transit"
   ]
  },
  {
   "cell_type": "code",
   "execution_count": 6,
   "id": "a689c1ab-2c6c-4831-8d64-897f5986f571",
   "metadata": {
    "execution": {
     "iopub.execute_input": "2022-06-03T22:09:11.378503Z",
     "iopub.status.busy": "2022-06-03T22:09:11.377511Z",
     "iopub.status.idle": "2022-06-03T22:09:11.384591Z",
     "shell.execute_reply": "2022-06-03T22:09:11.383991Z"
    },
    "jupyter": {
     "source_hidden": true
    },
    "papermill": {
     "duration": 0.02316,
     "end_time": "2022-06-03T22:09:11.386344",
     "exception": false,
     "start_time": "2022-06-03T22:09:11.363184",
     "status": "completed"
    },
    "tags": [
     "remove_input"
    ]
   },
   "outputs": [
    {
     "data": {
      "text/html": [
       "<h1>Competitive & Parallel Routes</h1>"
      ],
      "text/plain": [
       "<IPython.core.display.HTML object>"
      ]
     },
     "metadata": {},
     "output_type": "display_data"
    }
   ],
   "source": [
    "display(HTML(\"<h1>Competitive & Parallel Routes</h1>\")) "
   ]
  },
  {
   "cell_type": "code",
   "execution_count": 7,
   "id": "2cb4d8d5-4760-40e4-85b1-cb833d8bb648",
   "metadata": {
    "execution": {
     "iopub.execute_input": "2022-06-03T22:09:11.415979Z",
     "iopub.status.busy": "2022-06-03T22:09:11.415044Z",
     "iopub.status.idle": "2022-06-03T22:09:22.377626Z",
     "shell.execute_reply": "2022-06-03T22:09:22.376701Z"
    },
    "jupyter": {
     "source_hidden": true
    },
    "papermill": {
     "duration": 10.980059,
     "end_time": "2022-06-03T22:09:22.380423",
     "exception": false,
     "start_time": "2022-06-03T22:09:11.400364",
     "status": "completed"
    },
    "tags": [
     "remove_input"
    ]
   },
   "outputs": [],
   "source": [
    "# Grab parameters for narrative text - clean up formatting here \n",
    "district = df.caltrans_district.iloc[0]\n",
    "formatted_date = pd.to_datetime(parallel_corridors_utils.SELECTED_DATE).strftime('%m-%d-%Y')\n",
    "\n",
    "PCT_COMPETITIVE_THRESHOLD = parallel_corridors_utils.PCT_COMPETITIVE_THRESHOLD\n",
    "PCT_TRIPS_BELOW_CUTOFF = parallel_corridors_utils.PCT_TRIPS_BELOW_CUTOFF\n",
    "\n",
    "stats = parallel_corridors_utils.operator_parallel_competitive_stats(\n",
    "    itp_id, PCT_COMPETITIVE_THRESHOLD, PCT_TRIPS_BELOW_CUTOFF)\n",
    "\n",
    "pct_parallel = round(stats['parallel_routes'] / stats['num_routes'] * 100, 1 )\n",
    "pct_competitive =  round(stats['competitive_routes'] / stats['num_routes'] * 100, 1 )\n",
    "pct_viable =  round(stats['viable_competitive_routes'] / stats['num_routes'] * 100, 1 )"
   ]
  },
  {
   "cell_type": "code",
   "execution_count": 8,
   "id": "8bf30c8f-6aa5-47bb-82ae-a906732e81fd",
   "metadata": {
    "execution": {
     "iopub.execute_input": "2022-06-03T22:09:22.409855Z",
     "iopub.status.busy": "2022-06-03T22:09:22.409571Z",
     "iopub.status.idle": "2022-06-03T22:09:22.450553Z",
     "shell.execute_reply": "2022-06-03T22:09:22.449529Z"
    },
    "jupyter": {
     "source_hidden": true
    },
    "papermill": {
     "duration": 0.058448,
     "end_time": "2022-06-03T22:09:22.453331",
     "exception": false,
     "start_time": "2022-06-03T22:09:22.394883",
     "status": "completed"
    },
    "tags": [
     "remove_input"
    ]
   },
   "outputs": [],
   "source": [
    "# Display a table of route-level stats for each route_group\n",
    "# Displaying route_name makes chart too crowded\n",
    "\n",
    "# Get route stats (for entire df)\n",
    "route_stats = parallel_corridors_utils.competitive_route_level_stats(df)\n",
    "    \n",
    "def style_route_stats(df, top15_routes):\n",
    "    df = df[df.route_id.isin(top15_routes)]\n",
    "    \n",
    "    # Rename columns for display\n",
    "    rename_cols = {\n",
    "        \"route_id2\": \"Route ID\",\n",
    "        \"route_name\": \"Route Name\",\n",
    "        \"route_group\": \"Route Group\",\n",
    "        \"num_trips\": \"# trips\",\n",
    "        \"daily_avg_freq\": \"Daily Avg Freq (trips per hr)\",\n",
    "        \"pm_peak_freq\": \"PM Peak Avg Freq (trips per hr)\",\n",
    "        \"percentiles\": \"25th, 50th, 75th ptile (hrs)\",\n",
    "    }\n",
    "    \n",
    "    # Style it\n",
    "    drop_cols = [\n",
    "        \"calitp_itp_id\", \"route_id\", \"below_cutoff\", \"route_group\", \n",
    "        \"pct_trips_competitive\", \"pct_below_cutoff\",\n",
    "        \"p25\", \"p50\", \"p75\",\n",
    "    ]\n",
    "    \n",
    "    # Change alignment for some columns\n",
    "    # https://stackoverflow.com/questions/59453091/left-align-the-first-column-and-center-align-the-other-columns-in-a-pandas-table\n",
    "    df_style = (df.sort_values(\n",
    "        [\"pct_trips_competitive\", \"below_cutoff\", \n",
    "        \"pct_below_cutoff\", \"route_id2\"], \n",
    "        ascending=[False, False, False, True])\n",
    "           .drop(columns = drop_cols)\n",
    "           .rename(columns = rename_cols)\n",
    "           .style.format(\n",
    "               subset=['Daily Avg Freq (trips per hr)', \n",
    "                       'PM Peak Avg Freq (trips per hr)'], \n",
    "               **{'formatter': '{:,.3}'})\n",
    "                .set_properties(subset=['Route ID', 'Route Name'], \n",
    "                                **{'text-align': 'left'})\n",
    "                .set_properties(subset=['# trips', 'Daily Avg Freq (trips per hr)', \n",
    "                                       'PM Peak Avg Freq (trips per hr)'], \n",
    "                               **{'text-align': 'center'})\n",
    "                .set_table_styles([dict(selector='th', \n",
    "                                        props=[('text-align', 'center')])\n",
    "                                        ])\n",
    "           .hide(axis=\"index\")\n",
    "           .to_html()\n",
    "          )\n",
    "    \n",
    "    display(HTML(\"<h4>Route Stats</h4>\"))\n",
    "    display(HTML(df_style))"
   ]
  },
  {
   "cell_type": "markdown",
   "id": "ab667928-5274-4490-82d9-4c39293209a4",
   "metadata": {
    "papermill": {
     "duration": 0.014403,
     "end_time": "2022-06-03T22:09:22.483629",
     "exception": false,
     "start_time": "2022-06-03T22:09:22.469226",
     "status": "completed"
    },
    "tags": []
   },
   "source": [
    "## Quick Stats"
   ]
  },
  {
   "cell_type": "code",
   "execution_count": 9,
   "id": "0416509d-dc62-4165-b62e-64f8b26e8b8e",
   "metadata": {
    "execution": {
     "iopub.execute_input": "2022-06-03T22:09:22.513328Z",
     "iopub.status.busy": "2022-06-03T22:09:22.512961Z",
     "iopub.status.idle": "2022-06-03T22:09:22.519554Z",
     "shell.execute_reply": "2022-06-03T22:09:22.518748Z"
    },
    "jupyter": {
     "source_hidden": true
    },
    "papermill": {
     "duration": 0.023643,
     "end_time": "2022-06-03T22:09:22.521585",
     "exception": false,
     "start_time": "2022-06-03T22:09:22.497942",
     "status": "completed"
    },
    "tags": [
     "remove_input"
    ]
   },
   "outputs": [
    {
     "data": {
      "text/markdown": [
       "**Bus routes in service: 5**<br>**Parallel routes** to State Highway Network (SHN): **5 routes (100.0%)**<br>**Competitive routes** against car travel (within 2x car travel time): **5 routes (100.0%)**<br>**Viable competitive routes** against car travel (within 2x car travel time and within 20, 30, or 40 min cut-off): **4 routes (80.0%)**"
      ],
      "text/plain": [
       "<IPython.core.display.Markdown object>"
      ]
     },
     "metadata": {},
     "output_type": "display_data"
    }
   ],
   "source": [
    "display(\n",
    "    Markdown(\n",
    "        f\"**Bus routes in service: {stats['num_routes']}**\"\n",
    "        \"<br>**Parallel routes** to State Highway Network (SHN): \"\n",
    "        f\"**{stats['parallel_routes']} routes ({pct_parallel}%)**\"\n",
    "        \"<br>**Competitive routes** against car travel (within 2x car travel time): \"\n",
    "        f\"**{stats['competitive_routes']} routes ({pct_competitive}%)**\"\n",
    "        \"<br>**Viable competitive routes** against car travel \"\n",
    "        \"(within 2x car travel time and within 20, 30, or 40 min cut-off): \"\n",
    "        f\"**{stats['viable_competitive_routes']} routes ({pct_viable}%)**\"\n",
    "    )\n",
    ")"
   ]
  },
  {
   "cell_type": "code",
   "execution_count": 10,
   "id": "f9d6ab58-f0ee-460c-b6de-657490e1f386",
   "metadata": {
    "execution": {
     "iopub.execute_input": "2022-06-03T22:09:22.558228Z",
     "iopub.status.busy": "2022-06-03T22:09:22.557529Z",
     "iopub.status.idle": "2022-06-03T22:09:22.565172Z",
     "shell.execute_reply": "2022-06-03T22:09:22.564555Z"
    },
    "jupyter": {
     "source_hidden": true
    },
    "papermill": {
     "duration": 0.025567,
     "end_time": "2022-06-03T22:09:22.567024",
     "exception": false,
     "start_time": "2022-06-03T22:09:22.541457",
     "status": "completed"
    },
    "tags": [
     "remove_input"
    ]
   },
   "outputs": [],
   "source": [
    "def set_yaxis_range(df, y_col):\n",
    "    Y_MIN = df[y_col].min()\n",
    "    Y_MAX = df[y_col].max()\n",
    "    \n",
    "    return Y_MIN, Y_MAX\n",
    "\n",
    "# Rather than set it according to the operator, which can vary,\n",
    "# just use set thresholds for each group\n",
    "def top15_routes(df, route_group):\n",
    "    # grab top 15 routes where majority of trips are below that cut-off \n",
    "    # but show 15 max, otherwise, show less, since these won't be as interesting to operators\n",
    "    df2 = (df[(df.route_group==route_group) &\n",
    "              (df.pct_below_cutoff >= PCT_TRIPS_BELOW_CUTOFF)]\n",
    "           .sort_values([\"calitp_itp_id\", \"below_cutoff\", \n",
    "                         \"pct_below_cutoff\", \"route_id\"],\n",
    "                        ascending = [True, False, False, True]\n",
    "                       )\n",
    "           .drop_duplicates(subset=[\"calitp_itp_id\", \"route_id\"])\n",
    "          ).head(15)\n",
    "    \n",
    "    if len(df2) > 1:\n",
    "        return list(df2.route_id)"
   ]
  },
  {
   "cell_type": "code",
   "execution_count": 11,
   "id": "cf36d559-3349-4144-8086-8ac9ce937a5a",
   "metadata": {
    "execution": {
     "iopub.execute_input": "2022-06-03T22:09:22.599162Z",
     "iopub.status.busy": "2022-06-03T22:09:22.598619Z",
     "iopub.status.idle": "2022-06-03T22:09:22.604367Z",
     "shell.execute_reply": "2022-06-03T22:09:22.603764Z"
    },
    "jupyter": {
     "source_hidden": true
    },
    "papermill": {
     "duration": 0.023696,
     "end_time": "2022-06-03T22:09:22.606172",
     "exception": false,
     "start_time": "2022-06-03T22:09:22.582476",
     "status": "completed"
    },
    "tags": [
     "remove_input"
    ]
   },
   "outputs": [],
   "source": [
    "def caption_with_cutoff(cutoff):\n",
    "    sentence = (\n",
    "        f\"<br>These are routes that have **{int(PCT_TRIPS_BELOW_CUTOFF*100)}% \"\n",
    "        \"of their trips take no more than an \"\n",
    "        f\"additional {cutoff} min** compared to a car \"\n",
    "        \"(up to 15 routes) are shown.\"\n",
    "        \"<br>Within each route group, routes are sorted in descending order \"\n",
    "        \"by % competitive trips and # trips below the additional time cut-off.\"\n",
    "    )\n",
    "    return sentence\n",
    "\n",
    "CAPTIONS_DICT = {\n",
    "    \"short\": caption_with_cutoff(diff_cutoffs['short']),\n",
    "    \"medium\": caption_with_cutoff(diff_cutoffs['medium']),\n",
    "    \"long\": caption_with_cutoff(diff_cutoffs['long']),\n",
    "}"
   ]
  },
  {
   "cell_type": "code",
   "execution_count": 12,
   "id": "e4306d58-6944-47e9-afef-5d5b524c751f",
   "metadata": {
    "execution": {
     "iopub.execute_input": "2022-06-03T22:09:22.637669Z",
     "iopub.status.busy": "2022-06-03T22:09:22.637381Z",
     "iopub.status.idle": "2022-06-03T22:09:22.646556Z",
     "shell.execute_reply": "2022-06-03T22:09:22.645547Z"
    },
    "jupyter": {
     "source_hidden": true
    },
    "papermill": {
     "duration": 0.028928,
     "end_time": "2022-06-03T22:09:22.648869",
     "exception": false,
     "start_time": "2022-06-03T22:09:22.619941",
     "status": "completed"
    },
    "tags": [
     "remove_input"
    ]
   },
   "outputs": [],
   "source": [
    "def setup_charts(df, PCT_COMPETITIVE_THRESHOLD, route_group):\n",
    "    # Set up df for charting (cut-off at some threshold to show most competitive routes)\n",
    "    plot_me = (df[df.pct_trips_competitive > PCT_COMPETITIVE_THRESHOLD]\n",
    "           .drop(columns = \"geometry\")\n",
    "    )\n",
    "    \n",
    "    # Set y-ranges to be the same across route_groups, \n",
    "    # otherwise charts fluctuate too much, even within operator\n",
    "    y_col1 = \"bus_multiplier\"\n",
    "    Y_MIN1, Y_MAX1 = set_yaxis_range(plot_me, y_col1)\n",
    "\n",
    "    y_col2 = \"bus_difference\"\n",
    "    Y_MIN2, Y_MAX2 = set_yaxis_range(plot_me, y_col2)\n",
    "    \n",
    "    # Grab the routes to plot\n",
    "    subset_routes = top15_routes(plot_me, route_group)\n",
    "        \n",
    "    # Display charts\n",
    "    multiplier_chart = parallel_corridors_utils.make_stripplot(\n",
    "        plot_me[plot_me.route_id.isin(subset_routes)], \n",
    "        y_col1, Y_MIN = Y_MIN1, Y_MAX = Y_MAX1\n",
    "    )\n",
    "    \n",
    "    difference_chart = parallel_corridors_utils.make_stripplot(\n",
    "        plot_me[plot_me.route_id.isin(subset_routes)], \n",
    "        y_col2, Y_MIN = Y_MIN2, Y_MAX = Y_MAX2\n",
    "    )\n",
    "    \n",
    "    return subset_routes, multiplier_chart, difference_chart            "
   ]
  },
  {
   "cell_type": "code",
   "execution_count": 13,
   "id": "33a710e8-504c-4942-aa75-ff69f216956e",
   "metadata": {
    "execution": {
     "iopub.execute_input": "2022-06-03T22:09:22.680122Z",
     "iopub.status.busy": "2022-06-03T22:09:22.679804Z",
     "iopub.status.idle": "2022-06-03T22:09:22.687214Z",
     "shell.execute_reply": "2022-06-03T22:09:22.686540Z"
    },
    "jupyter": {
     "source_hidden": true
    },
    "papermill": {
     "duration": 0.02541,
     "end_time": "2022-06-03T22:09:22.689062",
     "exception": false,
     "start_time": "2022-06-03T22:09:22.663652",
     "status": "completed"
    },
    "tags": [
     "remove_input"
    ]
   },
   "outputs": [],
   "source": [
    "# Allow for possibility that operator doesn't have routes that fall into certain route_groups\n",
    "# But, jupyterbook will not like markdown with f-string\n",
    "# separate out route_group and put in each cell, and use try/except + if to display...\n",
    "# but all 3 route groups must be displayed. \n",
    "# just add sentence about why no routes were returned at the end\n",
    "# Change to fewer than 2 routes, instead of no routes, because we don't want to show just 1 route\n",
    "\n",
    "def display_charts_for_route_group(df, route_group):\n",
    "    try:\n",
    "        subset_routes, mult, diff  = setup_charts(df, PCT_COMPETITIVE_THRESHOLD, route_group)\n",
    "    \n",
    "        if len(subset_routes) > 1:\n",
    "            display(Markdown(f\"{CAPTIONS_DICT[route_group]}\"))\n",
    "\n",
    "            display(mult)\n",
    "            display(diff)\n",
    "\n",
    "            # Display route stats for just plotted routes\n",
    "            style_route_stats(route_stats, subset_routes)\n",
    "        else: \n",
    "            print(\"Fewer than 2 routes meet this criteria.\")\n",
    "    except:\n",
    "        print(\"No routes meet this criteria.\")"
   ]
  },
  {
   "cell_type": "markdown",
   "id": "525f9b38-072b-46d1-96a8-1aa4b038357c",
   "metadata": {
    "papermill": {
     "duration": 0.014723,
     "end_time": "2022-06-03T22:09:22.719986",
     "exception": false,
     "start_time": "2022-06-03T22:09:22.705263",
     "status": "completed"
    },
    "tags": []
   },
   "source": [
    "## Viable Competitive Routes\n",
    "### Short Routes (< 1 hr)"
   ]
  },
  {
   "cell_type": "code",
   "execution_count": 14,
   "id": "57f7084c-2cf7-45c6-ba08-1609e0bd6ca5",
   "metadata": {
    "execution": {
     "iopub.execute_input": "2022-06-03T22:09:22.760260Z",
     "iopub.status.busy": "2022-06-03T22:09:22.759768Z",
     "iopub.status.idle": "2022-06-03T22:09:23.143455Z",
     "shell.execute_reply": "2022-06-03T22:09:23.142862Z"
    },
    "jupyter": {
     "source_hidden": true
    },
    "papermill": {
     "duration": 0.401801,
     "end_time": "2022-06-03T22:09:23.145484",
     "exception": false,
     "start_time": "2022-06-03T22:09:22.743683",
     "status": "completed"
    },
    "tags": [
     "remove_input"
    ]
   },
   "outputs": [
    {
     "data": {
      "text/markdown": [
       "<br>These are routes that have **100% of their trips take no more than an additional 20 min** compared to a car (up to 15 routes) are shown.<br>Within each route group, routes are sorted in descending order by % competitive trips and # trips below the additional time cut-off."
      ],
      "text/plain": [
       "<IPython.core.display.Markdown object>"
      ]
     },
     "metadata": {},
     "output_type": "display_data"
    },
    {
     "data": {
      "text/html": [
       "\n",
       "<div id=\"altair-viz-1df31a44c93a4322a45ff940b9cf45cb\"></div>\n",
       "<script type=\"text/javascript\">\n",
       "  var VEGA_DEBUG = (typeof VEGA_DEBUG == \"undefined\") ? {} : VEGA_DEBUG;\n",
       "  (function(spec, embedOpt){\n",
       "    let outputDiv = document.currentScript.previousElementSibling;\n",
       "    if (outputDiv.id !== \"altair-viz-1df31a44c93a4322a45ff940b9cf45cb\") {\n",
       "      outputDiv = document.getElementById(\"altair-viz-1df31a44c93a4322a45ff940b9cf45cb\");\n",
       "    }\n",
       "    const paths = {\n",
       "      \"vega\": \"https://cdn.jsdelivr.net/npm//vega@5?noext\",\n",
       "      \"vega-lib\": \"https://cdn.jsdelivr.net/npm//vega-lib?noext\",\n",
       "      \"vega-lite\": \"https://cdn.jsdelivr.net/npm//vega-lite@4.17.0?noext\",\n",
       "      \"vega-embed\": \"https://cdn.jsdelivr.net/npm//vega-embed@6?noext\",\n",
       "    };\n",
       "\n",
       "    function maybeLoadScript(lib, version) {\n",
       "      var key = `${lib.replace(\"-\", \"\")}_version`;\n",
       "      return (VEGA_DEBUG[key] == version) ?\n",
       "        Promise.resolve(paths[lib]) :\n",
       "        new Promise(function(resolve, reject) {\n",
       "          var s = document.createElement('script');\n",
       "          document.getElementsByTagName(\"head\")[0].appendChild(s);\n",
       "          s.async = true;\n",
       "          s.onload = () => {\n",
       "            VEGA_DEBUG[key] = version;\n",
       "            return resolve(paths[lib]);\n",
       "          };\n",
       "          s.onerror = () => reject(`Error loading script: ${paths[lib]}`);\n",
       "          s.src = paths[lib];\n",
       "        });\n",
       "    }\n",
       "\n",
       "    function showError(err) {\n",
       "      outputDiv.innerHTML = `<div class=\"error\" style=\"color:red;\">${err}</div>`;\n",
       "      throw err;\n",
       "    }\n",
       "\n",
       "    function displayChart(vegaEmbed) {\n",
       "      vegaEmbed(outputDiv, spec, embedOpt)\n",
       "        .catch(err => showError(`Javascript Error: ${err.message}<br>This usually means there's a typo in your chart specification. See the javascript console for the full traceback.`));\n",
       "    }\n",
       "\n",
       "    if(typeof define === \"function\" && define.amd) {\n",
       "      requirejs.config({paths});\n",
       "      require([\"vega-embed\"], displayChart, err => showError(`Error loading script: ${err.message}`));\n",
       "    } else {\n",
       "      maybeLoadScript(\"vega\", \"5\")\n",
       "        .then(() => maybeLoadScript(\"vega-lite\", \"4.17.0\"))\n",
       "        .then(() => maybeLoadScript(\"vega-embed\", \"6\"))\n",
       "        .catch(showError)\n",
       "        .then(() => displayChart(vegaEmbed));\n",
       "    }\n",
       "  })({\"config\": {\"view\": {\"continuousWidth\": 400, \"continuousHeight\": 300, \"stroke\": null}, \"facet\": {\"spacing\": 0}}, \"data\": {\"name\": \"data-a14615a9d26312ea480709a435bb9c5b\"}, \"facet\": {\"column\": {\"field\": \"route_id2\", \"sort\": [\"43\", \"42\", \"40\", \"41\"], \"title\": \"Route ID\", \"type\": \"nominal\"}}, \"spec\": {\"layer\": [{\"mark\": \"rule\", \"encoding\": {\"color\": {\"value\": \"black\"}, \"y\": {\"field\": \"cutoff\", \"type\": \"quantitative\"}}, \"selection\": {\"selector001\": {\"type\": \"interval\", \"bind\": \"scales\", \"encodings\": [\"x\", \"y\"]}}}, {\"mark\": {\"type\": \"point\", \"opacity\": 0.65, \"size\": 20, \"strokeWidth\": 1.1}, \"encoding\": {\"color\": {\"field\": \"time_of_day\", \"scale\": {\"range\": [\"#136C97\", \"#E16B26\", \"#F6BF16\", \"#00896B\", \"#7790A3\", \"#5B559C\"]}, \"sort\": [\"AM Peak\", \"Midday\", \"PM Peak\", \"Owl Service\"], \"title\": \"Time of Day\", \"type\": \"nominal\"}, \"tooltip\": [{\"field\": \"route_id2\", \"title\": \"route_id\", \"type\": \"nominal\"}, {\"field\": \"route_name\", \"type\": \"nominal\"}, {\"field\": \"trip_id\", \"type\": \"nominal\"}, {\"field\": \"service_hours\", \"type\": \"quantitative\"}, {\"field\": \"car_duration_hours\", \"type\": \"quantitative\"}, {\"field\": \"bus_multiplier\", \"type\": \"quantitative\"}, {\"field\": \"bus_difference\", \"type\": \"quantitative\"}, {\"field\": \"num_trips\", \"type\": \"quantitative\"}, {\"field\": \"num_competitive\", \"type\": \"quantitative\"}, {\"field\": \"pct_trips_competitive\", \"type\": \"quantitative\"}, {\"field\": \"pct_below_cutoff\", \"type\": \"quantitative\"}, {\"field\": \"p25\", \"type\": \"quantitative\"}, {\"field\": \"p50\", \"type\": \"quantitative\"}, {\"field\": \"p75\", \"type\": \"quantitative\"}], \"x\": {\"axis\": {\"grid\": false, \"labels\": false, \"ticks\": true, \"values\": [0]}, \"field\": \"jitter\", \"scale\": {}, \"title\": null, \"type\": \"quantitative\"}, \"y\": {\"field\": \"bus_multiplier\", \"scale\": {\"domain\": [0, 3.0]}, \"title\": \"Ratio of Bus to Car Travel Time\", \"type\": \"quantitative\"}}, \"transform\": [{\"calculate\": \"sqrt(-2*log(random()))*cos(2*PI*random())\", \"as\": \"jitter\"}], \"width\": 50}, {\"layer\": [{\"mark\": {\"type\": \"point\", \"opacity\": 0.6, \"size\": 20, \"strokeWidth\": 1.3}, \"encoding\": {\"color\": {\"value\": \"#323434\"}, \"y\": {\"field\": \"bus_multiplier\", \"type\": \"quantitative\"}}, \"transform\": [{\"filter\": \"(datum.p50_trip === 1)\"}]}, {\"mark\": {\"type\": \"text\", \"align\": \"center\", \"baseline\": \"middle\"}, \"encoding\": {\"color\": {\"value\": \"black\"}, \"text\": {\"field\": \"pct_trips_competitive\", \"format\": \".0%\", \"type\": \"quantitative\"}, \"tooltip\": [{\"field\": \"route_id2\", \"title\": \"route_id\", \"type\": \"nominal\"}, {\"field\": \"route_name\", \"type\": \"nominal\"}, {\"field\": \"trip_id\", \"type\": \"nominal\"}, {\"field\": \"service_hours\", \"type\": \"quantitative\"}, {\"field\": \"car_duration_hours\", \"type\": \"quantitative\"}, {\"field\": \"bus_multiplier\", \"type\": \"quantitative\"}, {\"field\": \"bus_difference\", \"type\": \"quantitative\"}, {\"field\": \"num_trips\", \"type\": \"quantitative\"}, {\"field\": \"num_competitive\", \"type\": \"quantitative\"}, {\"field\": \"pct_trips_competitive\", \"type\": \"quantitative\"}, {\"field\": \"pct_below_cutoff\", \"type\": \"quantitative\"}, {\"field\": \"p25\", \"type\": \"quantitative\"}, {\"field\": \"p50\", \"type\": \"quantitative\"}, {\"field\": \"p75\", \"type\": \"quantitative\"}], \"x\": {\"value\": 30}, \"y\": {\"value\": 15}}, \"transform\": [{\"calculate\": \"sqrt(-2*log(random()))*cos(2*PI*random())\", \"as\": \"jitter\"}, {\"filter\": \"(datum.fastest_trip === 1)\"}]}]}]}, \"resolve\": {\"scale\": {\"y\": \"shared\"}}, \"title\": \"Ratio of Bus to Car Travel Time\", \"$schema\": \"https://vega.github.io/schema/vega-lite/v4.17.0.json\", \"datasets\": {\"data-a14615a9d26312ea480709a435bb9c5b\": [{\"calitp_itp_id\": 337, \"trip_key\": -5417850757404701005, \"trip_id\": \"t_1235934_b_27094_tn_0\", \"shape_id\": \"p_900582\", \"route_id\": \"3638\", \"service_hours\": 0.83, \"trip_first_departure_ts\": 39600, \"trip_last_arrival_ts\": 42600, \"departure_hour\": 11, \"time_of_day\": \"Midday\", \"p25\": 0.83, \"p50\": 0.83, \"p75\": 0.97, \"p50_trip\": 1, \"fastest_trip\": 0, \"car_duration_hours\": 0.67, \"competitive_route\": 1, \"bus_multiplier\": 1.24, \"bus_difference\": 9.6, \"num_trips\": 13, \"num_competitive\": 13, \"pct_trips_competitive\": 1.0, \"bus_difference_spread\": 8.4, \"route_group\": \"short\", \"max_trip_hrs\": 0.97, \"max_trip_route_group\": 0.97, \"below_cutoff\": 13, \"pct_below_cutoff\": 1.0, \"calitp_agency_name\": \"Thousand Oaks Transit\", \"caltrans_district\": \"07 - Los Angeles\", \"route_name\": \"Newbury Park - The Oaks Shopping Center\", \"route_short_name\": \"40\", \"route_id2\": \"40\", \"cutoff2\": 20, \"cutoff\": 2}, {\"calitp_itp_id\": 337, \"trip_key\": 209354926468341269, \"trip_id\": \"t_1235933_b_27094_tn_0\", \"shape_id\": \"p_900582\", \"route_id\": \"3638\", \"service_hours\": 0.83, \"trip_first_departure_ts\": 28800, \"trip_last_arrival_ts\": 31800, \"departure_hour\": 8, \"time_of_day\": \"AM Peak\", \"p25\": 0.83, \"p50\": 0.83, \"p75\": 0.97, \"p50_trip\": 1, \"fastest_trip\": 0, \"car_duration_hours\": 0.67, \"competitive_route\": 1, \"bus_multiplier\": 1.24, \"bus_difference\": 9.6, \"num_trips\": 13, \"num_competitive\": 13, \"pct_trips_competitive\": 1.0, \"bus_difference_spread\": 8.4, \"route_group\": \"short\", \"max_trip_hrs\": 0.97, \"max_trip_route_group\": 0.97, \"below_cutoff\": 13, \"pct_below_cutoff\": 1.0, \"calitp_agency_name\": \"Thousand Oaks Transit\", \"caltrans_district\": \"07 - Los Angeles\", \"route_name\": \"Newbury Park - The Oaks Shopping Center\", \"route_short_name\": \"40\", \"route_id2\": \"40\", \"cutoff2\": 20, \"cutoff\": 2}, {\"calitp_itp_id\": 337, \"trip_key\": -5437739256566684202, \"trip_id\": \"t_1229931_b_27094_tn_0\", \"shape_id\": \"p_900582\", \"route_id\": \"3638\", \"service_hours\": 0.83, \"trip_first_departure_ts\": 25200, \"trip_last_arrival_ts\": 28200, \"departure_hour\": 7, \"time_of_day\": \"AM Peak\", \"p25\": 0.83, \"p50\": 0.83, \"p75\": 0.97, \"p50_trip\": 1, \"fastest_trip\": 0, \"car_duration_hours\": 0.67, \"competitive_route\": 1, \"bus_multiplier\": 1.24, \"bus_difference\": 9.6, \"num_trips\": 13, \"num_competitive\": 13, \"pct_trips_competitive\": 1.0, \"bus_difference_spread\": 8.4, \"route_group\": \"short\", \"max_trip_hrs\": 0.97, \"max_trip_route_group\": 0.97, \"below_cutoff\": 13, \"pct_below_cutoff\": 1.0, \"calitp_agency_name\": \"Thousand Oaks Transit\", \"caltrans_district\": \"07 - Los Angeles\", \"route_name\": \"Newbury Park - The Oaks Shopping Center\", \"route_short_name\": \"40\", \"route_id2\": \"40\", \"cutoff2\": 20, \"cutoff\": 2}, {\"calitp_itp_id\": 337, \"trip_key\": -6621775892395641115, \"trip_id\": \"t_1235937_b_27094_tn_0\", \"shape_id\": \"p_900582\", \"route_id\": \"3638\", \"service_hours\": 0.83, \"trip_first_departure_ts\": 61200, \"trip_last_arrival_ts\": 64200, \"departure_hour\": 17, \"time_of_day\": \"PM Peak\", \"p25\": 0.83, \"p50\": 0.83, \"p75\": 0.97, \"p50_trip\": 1, \"fastest_trip\": 0, \"car_duration_hours\": 0.67, \"competitive_route\": 1, \"bus_multiplier\": 1.24, \"bus_difference\": 9.6, \"num_trips\": 13, \"num_competitive\": 13, \"pct_trips_competitive\": 1.0, \"bus_difference_spread\": 8.4, \"route_group\": \"short\", \"max_trip_hrs\": 0.97, \"max_trip_route_group\": 0.97, \"below_cutoff\": 13, \"pct_below_cutoff\": 1.0, \"calitp_agency_name\": \"Thousand Oaks Transit\", \"caltrans_district\": \"07 - Los Angeles\", \"route_name\": \"Newbury Park - The Oaks Shopping Center\", \"route_short_name\": \"40\", \"route_id2\": \"40\", \"cutoff2\": 20, \"cutoff\": 2}, {\"calitp_itp_id\": 337, \"trip_key\": -6696683000161121359, \"trip_id\": \"t_1235935_b_27094_tn_0\", \"shape_id\": \"p_900582\", \"route_id\": \"3638\", \"service_hours\": 0.83, \"trip_first_departure_ts\": 43200, \"trip_last_arrival_ts\": 46200, \"departure_hour\": 12, \"time_of_day\": \"Midday\", \"p25\": 0.83, \"p50\": 0.83, \"p75\": 0.97, \"p50_trip\": 1, \"fastest_trip\": 0, \"car_duration_hours\": 0.67, \"competitive_route\": 1, \"bus_multiplier\": 1.24, \"bus_difference\": 9.6, \"num_trips\": 13, \"num_competitive\": 13, \"pct_trips_competitive\": 1.0, \"bus_difference_spread\": 8.4, \"route_group\": \"short\", \"max_trip_hrs\": 0.97, \"max_trip_route_group\": 0.97, \"below_cutoff\": 13, \"pct_below_cutoff\": 1.0, \"calitp_agency_name\": \"Thousand Oaks Transit\", \"caltrans_district\": \"07 - Los Angeles\", \"route_name\": \"Newbury Park - The Oaks Shopping Center\", \"route_short_name\": \"40\", \"route_id2\": \"40\", \"cutoff2\": 20, \"cutoff\": 2}, {\"calitp_itp_id\": 337, \"trip_key\": 5506372218916925207, \"trip_id\": \"t_1235938_b_27094_tn_0\", \"shape_id\": \"p_900583\", \"route_id\": \"3638\", \"service_hours\": 0.83, \"trip_first_departure_ts\": 64800, \"trip_last_arrival_ts\": 67800, \"departure_hour\": 18, \"time_of_day\": \"PM Peak\", \"p25\": 0.83, \"p50\": 0.83, \"p75\": 0.97, \"p50_trip\": 1, \"fastest_trip\": 1, \"car_duration_hours\": 0.67, \"competitive_route\": 1, \"bus_multiplier\": 1.24, \"bus_difference\": 9.6, \"num_trips\": 13, \"num_competitive\": 13, \"pct_trips_competitive\": 1.0, \"bus_difference_spread\": 8.4, \"route_group\": \"short\", \"max_trip_hrs\": 0.97, \"max_trip_route_group\": 0.97, \"below_cutoff\": 13, \"pct_below_cutoff\": 1.0, \"calitp_agency_name\": \"Thousand Oaks Transit\", \"caltrans_district\": \"07 - Los Angeles\", \"route_name\": \"Newbury Park - The Oaks Shopping Center\", \"route_short_name\": \"40\", \"route_id2\": \"40\", \"cutoff2\": 20, \"cutoff\": 2}, {\"calitp_itp_id\": 337, \"trip_key\": 4641100964488913718, \"trip_id\": \"t_1235936_b_27094_tn_0\", \"shape_id\": \"p_900582\", \"route_id\": \"3638\", \"service_hours\": 0.83, \"trip_first_departure_ts\": 50400, \"trip_last_arrival_ts\": 53400, \"departure_hour\": 14, \"time_of_day\": \"Midday\", \"p25\": 0.83, \"p50\": 0.83, \"p75\": 0.97, \"p50_trip\": 1, \"fastest_trip\": 0, \"car_duration_hours\": 0.67, \"competitive_route\": 1, \"bus_multiplier\": 1.24, \"bus_difference\": 9.6, \"num_trips\": 13, \"num_competitive\": 13, \"pct_trips_competitive\": 1.0, \"bus_difference_spread\": 8.4, \"route_group\": \"short\", \"max_trip_hrs\": 0.97, \"max_trip_route_group\": 0.97, \"below_cutoff\": 13, \"pct_below_cutoff\": 1.0, \"calitp_agency_name\": \"Thousand Oaks Transit\", \"caltrans_district\": \"07 - Los Angeles\", \"route_name\": \"Newbury Park - The Oaks Shopping Center\", \"route_short_name\": \"40\", \"route_id2\": \"40\", \"cutoff2\": 20, \"cutoff\": 2}, {\"calitp_itp_id\": 337, \"trip_key\": 571110044697681553, \"trip_id\": \"t_1235932_b_27094_tn_0\", \"shape_id\": \"p_900581\", \"route_id\": \"3638\", \"service_hours\": 0.97, \"trip_first_departure_ts\": 57600, \"trip_last_arrival_ts\": 61080, \"departure_hour\": 16, \"time_of_day\": \"Midday\", \"p25\": 0.83, \"p50\": 0.83, \"p75\": 0.97, \"p50_trip\": 0, \"fastest_trip\": 0, \"car_duration_hours\": 0.67, \"competitive_route\": 1, \"bus_multiplier\": 1.45, \"bus_difference\": 18.0, \"num_trips\": 13, \"num_competitive\": 13, \"pct_trips_competitive\": 1.0, \"bus_difference_spread\": 8.4, \"route_group\": \"short\", \"max_trip_hrs\": 0.97, \"max_trip_route_group\": 0.97, \"below_cutoff\": 13, \"pct_below_cutoff\": 1.0, \"calitp_agency_name\": \"Thousand Oaks Transit\", \"caltrans_district\": \"07 - Los Angeles\", \"route_name\": \"Newbury Park - The Oaks Shopping Center\", \"route_short_name\": \"40\", \"route_id2\": \"40\", \"cutoff2\": 20, \"cutoff\": 2}, {\"calitp_itp_id\": 337, \"trip_key\": -1473672104509948238, \"trip_id\": \"t_1235928_b_27094_tn_0\", \"shape_id\": \"p_900581\", \"route_id\": \"3638\", \"service_hours\": 0.97, \"trip_first_departure_ts\": 32400, \"trip_last_arrival_ts\": 35880, \"departure_hour\": 9, \"time_of_day\": \"AM Peak\", \"p25\": 0.83, \"p50\": 0.83, \"p75\": 0.97, \"p50_trip\": 0, \"fastest_trip\": 0, \"car_duration_hours\": 0.67, \"competitive_route\": 1, \"bus_multiplier\": 1.45, \"bus_difference\": 18.0, \"num_trips\": 13, \"num_competitive\": 13, \"pct_trips_competitive\": 1.0, \"bus_difference_spread\": 8.4, \"route_group\": \"short\", \"max_trip_hrs\": 0.97, \"max_trip_route_group\": 0.97, \"below_cutoff\": 13, \"pct_below_cutoff\": 1.0, \"calitp_agency_name\": \"Thousand Oaks Transit\", \"caltrans_district\": \"07 - Los Angeles\", \"route_name\": \"Newbury Park - The Oaks Shopping Center\", \"route_short_name\": \"40\", \"route_id2\": \"40\", \"cutoff2\": 20, \"cutoff\": 2}, {\"calitp_itp_id\": 337, \"trip_key\": -2431505389973254096, \"trip_id\": \"t_1235929_b_27094_tn_0\", \"shape_id\": \"p_900581\", \"route_id\": \"3638\", \"service_hours\": 0.97, \"trip_first_departure_ts\": 36000, \"trip_last_arrival_ts\": 39480, \"departure_hour\": 10, \"time_of_day\": \"Midday\", \"p25\": 0.83, \"p50\": 0.83, \"p75\": 0.97, \"p50_trip\": 0, \"fastest_trip\": 0, \"car_duration_hours\": 0.67, \"competitive_route\": 1, \"bus_multiplier\": 1.45, \"bus_difference\": 18.0, \"num_trips\": 13, \"num_competitive\": 13, \"pct_trips_competitive\": 1.0, \"bus_difference_spread\": 8.4, \"route_group\": \"short\", \"max_trip_hrs\": 0.97, \"max_trip_route_group\": 0.97, \"below_cutoff\": 13, \"pct_below_cutoff\": 1.0, \"calitp_agency_name\": \"Thousand Oaks Transit\", \"caltrans_district\": \"07 - Los Angeles\", \"route_name\": \"Newbury Park - The Oaks Shopping Center\", \"route_short_name\": \"40\", \"route_id2\": \"40\", \"cutoff2\": 20, \"cutoff\": 2}, {\"calitp_itp_id\": 337, \"trip_key\": -8094520911414573698, \"trip_id\": \"t_1235930_b_27094_tn_0\", \"shape_id\": \"p_900581\", \"route_id\": \"3638\", \"service_hours\": 0.97, \"trip_first_departure_ts\": 46800, \"trip_last_arrival_ts\": 50280, \"departure_hour\": 13, \"time_of_day\": \"Midday\", \"p25\": 0.83, \"p50\": 0.83, \"p75\": 0.97, \"p50_trip\": 0, \"fastest_trip\": 0, \"car_duration_hours\": 0.67, \"competitive_route\": 1, \"bus_multiplier\": 1.45, \"bus_difference\": 18.0, \"num_trips\": 13, \"num_competitive\": 13, \"pct_trips_competitive\": 1.0, \"bus_difference_spread\": 8.4, \"route_group\": \"short\", \"max_trip_hrs\": 0.97, \"max_trip_route_group\": 0.97, \"below_cutoff\": 13, \"pct_below_cutoff\": 1.0, \"calitp_agency_name\": \"Thousand Oaks Transit\", \"caltrans_district\": \"07 - Los Angeles\", \"route_name\": \"Newbury Park - The Oaks Shopping Center\", \"route_short_name\": \"40\", \"route_id2\": \"40\", \"cutoff2\": 20, \"cutoff\": 2}, {\"calitp_itp_id\": 337, \"trip_key\": -2064112445706589811, \"trip_id\": \"t_1235931_b_27094_tn_0\", \"shape_id\": \"p_900581\", \"route_id\": \"3638\", \"service_hours\": 0.97, \"trip_first_departure_ts\": 54000, \"trip_last_arrival_ts\": 57480, \"departure_hour\": 15, \"time_of_day\": \"Midday\", \"p25\": 0.83, \"p50\": 0.83, \"p75\": 0.97, \"p50_trip\": 0, \"fastest_trip\": 0, \"car_duration_hours\": 0.67, \"competitive_route\": 1, \"bus_multiplier\": 1.45, \"bus_difference\": 18.0, \"num_trips\": 13, \"num_competitive\": 13, \"pct_trips_competitive\": 1.0, \"bus_difference_spread\": 8.4, \"route_group\": \"short\", \"max_trip_hrs\": 0.97, \"max_trip_route_group\": 0.97, \"below_cutoff\": 13, \"pct_below_cutoff\": 1.0, \"calitp_agency_name\": \"Thousand Oaks Transit\", \"caltrans_district\": \"07 - Los Angeles\", \"route_name\": \"Newbury Park - The Oaks Shopping Center\", \"route_short_name\": \"40\", \"route_id2\": \"40\", \"cutoff2\": 20, \"cutoff\": 2}, {\"calitp_itp_id\": 337, \"trip_key\": -8357797015416377564, \"trip_id\": \"t_1229925_b_27094_tn_0\", \"shape_id\": \"p_900581\", \"route_id\": \"3638\", \"service_hours\": 0.97, \"trip_first_departure_ts\": 21600, \"trip_last_arrival_ts\": 25080, \"departure_hour\": 6, \"time_of_day\": \"Owl Service\", \"p25\": 0.83, \"p50\": 0.83, \"p75\": 0.97, \"p50_trip\": 0, \"fastest_trip\": 0, \"car_duration_hours\": 0.67, \"competitive_route\": 1, \"bus_multiplier\": 1.45, \"bus_difference\": 18.0, \"num_trips\": 13, \"num_competitive\": 13, \"pct_trips_competitive\": 1.0, \"bus_difference_spread\": 8.4, \"route_group\": \"short\", \"max_trip_hrs\": 0.97, \"max_trip_route_group\": 0.97, \"below_cutoff\": 13, \"pct_below_cutoff\": 1.0, \"calitp_agency_name\": \"Thousand Oaks Transit\", \"caltrans_district\": \"07 - Los Angeles\", \"route_name\": \"Newbury Park - The Oaks Shopping Center\", \"route_short_name\": \"40\", \"route_id2\": \"40\", \"cutoff2\": 20, \"cutoff\": 2}, {\"calitp_itp_id\": 337, \"trip_key\": 6356284930724495451, \"trip_id\": \"t_1235940_b_27094_tn_0\", \"shape_id\": \"p_900590\", \"route_id\": \"3639\", \"service_hours\": 0.73, \"trip_first_departure_ts\": 64800, \"trip_last_arrival_ts\": 67440, \"departure_hour\": 18, \"time_of_day\": \"PM Peak\", \"p25\": 0.83, \"p50\": 0.83, \"p75\": 0.83, \"p50_trip\": 0, \"fastest_trip\": 1, \"car_duration_hours\": 0.51, \"competitive_route\": 1, \"bus_multiplier\": 1.43, \"bus_difference\": 13.2, \"num_trips\": 13, \"num_competitive\": 13, \"pct_trips_competitive\": 1.0, \"bus_difference_spread\": 6.0, \"route_group\": \"short\", \"max_trip_hrs\": 0.83, \"max_trip_route_group\": 0.83, \"below_cutoff\": 13, \"pct_below_cutoff\": 1.0, \"calitp_agency_name\": \"Thousand Oaks Transit\", \"caltrans_district\": \"07 - Los Angeles\", \"route_name\": \"Brimhall Library - Teen Center - Senior Center - The Oaks Shopping Center - Janss Marketplace - Los Robles Hospital - Cal Lutheran\", \"route_short_name\": \"41\", \"route_id2\": \"41\", \"cutoff2\": 20, \"cutoff\": 2}, {\"calitp_itp_id\": 337, \"trip_key\": 1104654808723534942, \"trip_id\": \"t_1317286_b_27094_tn_0\", \"shape_id\": \"p_111149\", \"route_id\": \"3639\", \"service_hours\": 0.83, \"trip_first_departure_ts\": 32400, \"trip_last_arrival_ts\": 35400, \"departure_hour\": 9, \"time_of_day\": \"AM Peak\", \"p25\": 0.83, \"p50\": 0.83, \"p75\": 0.83, \"p50_trip\": 1, \"fastest_trip\": 0, \"car_duration_hours\": 0.51, \"competitive_route\": 1, \"bus_multiplier\": 1.63, \"bus_difference\": 19.2, \"num_trips\": 13, \"num_competitive\": 13, \"pct_trips_competitive\": 1.0, \"bus_difference_spread\": 6.0, \"route_group\": \"short\", \"max_trip_hrs\": 0.83, \"max_trip_route_group\": 0.83, \"below_cutoff\": 13, \"pct_below_cutoff\": 1.0, \"calitp_agency_name\": \"Thousand Oaks Transit\", \"caltrans_district\": \"07 - Los Angeles\", \"route_name\": \"Brimhall Library - Teen Center - Senior Center - The Oaks Shopping Center - Janss Marketplace - Los Robles Hospital - Cal Lutheran\", \"route_short_name\": \"41\", \"route_id2\": \"41\", \"cutoff2\": 20, \"cutoff\": 2}, {\"calitp_itp_id\": 337, \"trip_key\": 7096089844723651939, \"trip_id\": \"t_1230045_b_27094_tn_0\", \"shape_id\": \"p_111149\", \"route_id\": \"3639\", \"service_hours\": 0.83, \"trip_first_departure_ts\": 21600, \"trip_last_arrival_ts\": 24600, \"departure_hour\": 6, \"time_of_day\": \"Owl Service\", \"p25\": 0.83, \"p50\": 0.83, \"p75\": 0.83, \"p50_trip\": 1, \"fastest_trip\": 0, \"car_duration_hours\": 0.51, \"competitive_route\": 1, \"bus_multiplier\": 1.63, \"bus_difference\": 19.2, \"num_trips\": 13, \"num_competitive\": 13, \"pct_trips_competitive\": 1.0, \"bus_difference_spread\": 6.0, \"route_group\": \"short\", \"max_trip_hrs\": 0.83, \"max_trip_route_group\": 0.83, \"below_cutoff\": 13, \"pct_below_cutoff\": 1.0, \"calitp_agency_name\": \"Thousand Oaks Transit\", \"caltrans_district\": \"07 - Los Angeles\", \"route_name\": \"Brimhall Library - Teen Center - Senior Center - The Oaks Shopping Center - Janss Marketplace - Los Robles Hospital - Cal Lutheran\", \"route_short_name\": \"41\", \"route_id2\": \"41\", \"cutoff2\": 20, \"cutoff\": 2}, {\"calitp_itp_id\": 337, \"trip_key\": 2304713837515405250, \"trip_id\": \"t_1317285_b_27094_tn_0\", \"shape_id\": \"p_111149\", \"route_id\": \"3639\", \"service_hours\": 0.83, \"trip_first_departure_ts\": 28800, \"trip_last_arrival_ts\": 31800, \"departure_hour\": 8, \"time_of_day\": \"AM Peak\", \"p25\": 0.83, \"p50\": 0.83, \"p75\": 0.83, \"p50_trip\": 1, \"fastest_trip\": 0, \"car_duration_hours\": 0.51, \"competitive_route\": 1, \"bus_multiplier\": 1.63, \"bus_difference\": 19.2, \"num_trips\": 13, \"num_competitive\": 13, \"pct_trips_competitive\": 1.0, \"bus_difference_spread\": 6.0, \"route_group\": \"short\", \"max_trip_hrs\": 0.83, \"max_trip_route_group\": 0.83, \"below_cutoff\": 13, \"pct_below_cutoff\": 1.0, \"calitp_agency_name\": \"Thousand Oaks Transit\", \"caltrans_district\": \"07 - Los Angeles\", \"route_name\": \"Brimhall Library - Teen Center - Senior Center - The Oaks Shopping Center - Janss Marketplace - Los Robles Hospital - Cal Lutheran\", \"route_short_name\": \"41\", \"route_id2\": \"41\", \"cutoff2\": 20, \"cutoff\": 2}, {\"calitp_itp_id\": 337, \"trip_key\": 527502444819434170, \"trip_id\": \"t_1317290_b_27094_tn_0\", \"shape_id\": \"p_111149\", \"route_id\": \"3639\", \"service_hours\": 0.83, \"trip_first_departure_ts\": 46800, \"trip_last_arrival_ts\": 49800, \"departure_hour\": 13, \"time_of_day\": \"Midday\", \"p25\": 0.83, \"p50\": 0.83, \"p75\": 0.83, \"p50_trip\": 1, \"fastest_trip\": 0, \"car_duration_hours\": 0.51, \"competitive_route\": 1, \"bus_multiplier\": 1.63, \"bus_difference\": 19.2, \"num_trips\": 13, \"num_competitive\": 13, \"pct_trips_competitive\": 1.0, \"bus_difference_spread\": 6.0, \"route_group\": \"short\", \"max_trip_hrs\": 0.83, \"max_trip_route_group\": 0.83, \"below_cutoff\": 13, \"pct_below_cutoff\": 1.0, \"calitp_agency_name\": \"Thousand Oaks Transit\", \"caltrans_district\": \"07 - Los Angeles\", \"route_name\": \"Brimhall Library - Teen Center - Senior Center - The Oaks Shopping Center - Janss Marketplace - Los Robles Hospital - Cal Lutheran\", \"route_short_name\": \"41\", \"route_id2\": \"41\", \"cutoff2\": 20, \"cutoff\": 2}, {\"calitp_itp_id\": 337, \"trip_key\": -5346827477957330776, \"trip_id\": \"t_1317291_b_27094_tn_0\", \"shape_id\": \"p_111149\", \"route_id\": \"3639\", \"service_hours\": 0.83, \"trip_first_departure_ts\": 50400, \"trip_last_arrival_ts\": 53400, \"departure_hour\": 14, \"time_of_day\": \"Midday\", \"p25\": 0.83, \"p50\": 0.83, \"p75\": 0.83, \"p50_trip\": 1, \"fastest_trip\": 0, \"car_duration_hours\": 0.51, \"competitive_route\": 1, \"bus_multiplier\": 1.63, \"bus_difference\": 19.2, \"num_trips\": 13, \"num_competitive\": 13, \"pct_trips_competitive\": 1.0, \"bus_difference_spread\": 6.0, \"route_group\": \"short\", \"max_trip_hrs\": 0.83, \"max_trip_route_group\": 0.83, \"below_cutoff\": 13, \"pct_below_cutoff\": 1.0, \"calitp_agency_name\": \"Thousand Oaks Transit\", \"caltrans_district\": \"07 - Los Angeles\", \"route_name\": \"Brimhall Library - Teen Center - Senior Center - The Oaks Shopping Center - Janss Marketplace - Los Robles Hospital - Cal Lutheran\", \"route_short_name\": \"41\", \"route_id2\": \"41\", \"cutoff2\": 20, \"cutoff\": 2}, {\"calitp_itp_id\": 337, \"trip_key\": -8134904347792543278, \"trip_id\": \"t_1317288_b_27094_tn_0\", \"shape_id\": \"p_111149\", \"route_id\": \"3639\", \"service_hours\": 0.83, \"trip_first_departure_ts\": 39600, \"trip_last_arrival_ts\": 42600, \"departure_hour\": 11, \"time_of_day\": \"Midday\", \"p25\": 0.83, \"p50\": 0.83, \"p75\": 0.83, \"p50_trip\": 1, \"fastest_trip\": 0, \"car_duration_hours\": 0.51, \"competitive_route\": 1, \"bus_multiplier\": 1.63, \"bus_difference\": 19.2, \"num_trips\": 13, \"num_competitive\": 13, \"pct_trips_competitive\": 1.0, \"bus_difference_spread\": 6.0, \"route_group\": \"short\", \"max_trip_hrs\": 0.83, \"max_trip_route_group\": 0.83, \"below_cutoff\": 13, \"pct_below_cutoff\": 1.0, \"calitp_agency_name\": \"Thousand Oaks Transit\", \"caltrans_district\": \"07 - Los Angeles\", \"route_name\": \"Brimhall Library - Teen Center - Senior Center - The Oaks Shopping Center - Janss Marketplace - Los Robles Hospital - Cal Lutheran\", \"route_short_name\": \"41\", \"route_id2\": \"41\", \"cutoff2\": 20, \"cutoff\": 2}, {\"calitp_itp_id\": 337, \"trip_key\": -8681561676251272436, \"trip_id\": \"t_1317294_b_27094_tn_0\", \"shape_id\": \"p_111149\", \"route_id\": \"3639\", \"service_hours\": 0.83, \"trip_first_departure_ts\": 61200, \"trip_last_arrival_ts\": 64200, \"departure_hour\": 17, \"time_of_day\": \"PM Peak\", \"p25\": 0.83, \"p50\": 0.83, \"p75\": 0.83, \"p50_trip\": 1, \"fastest_trip\": 0, \"car_duration_hours\": 0.51, \"competitive_route\": 1, \"bus_multiplier\": 1.63, \"bus_difference\": 19.2, \"num_trips\": 13, \"num_competitive\": 13, \"pct_trips_competitive\": 1.0, \"bus_difference_spread\": 6.0, \"route_group\": \"short\", \"max_trip_hrs\": 0.83, \"max_trip_route_group\": 0.83, \"below_cutoff\": 13, \"pct_below_cutoff\": 1.0, \"calitp_agency_name\": \"Thousand Oaks Transit\", \"caltrans_district\": \"07 - Los Angeles\", \"route_name\": \"Brimhall Library - Teen Center - Senior Center - The Oaks Shopping Center - Janss Marketplace - Los Robles Hospital - Cal Lutheran\", \"route_short_name\": \"41\", \"route_id2\": \"41\", \"cutoff2\": 20, \"cutoff\": 2}, {\"calitp_itp_id\": 337, \"trip_key\": 3003466328050706760, \"trip_id\": \"t_1317289_b_27094_tn_0\", \"shape_id\": \"p_111149\", \"route_id\": \"3639\", \"service_hours\": 0.83, \"trip_first_departure_ts\": 43200, \"trip_last_arrival_ts\": 46200, \"departure_hour\": 12, \"time_of_day\": \"Midday\", \"p25\": 0.83, \"p50\": 0.83, \"p75\": 0.83, \"p50_trip\": 1, \"fastest_trip\": 0, \"car_duration_hours\": 0.51, \"competitive_route\": 1, \"bus_multiplier\": 1.63, \"bus_difference\": 19.2, \"num_trips\": 13, \"num_competitive\": 13, \"pct_trips_competitive\": 1.0, \"bus_difference_spread\": 6.0, \"route_group\": \"short\", \"max_trip_hrs\": 0.83, \"max_trip_route_group\": 0.83, \"below_cutoff\": 13, \"pct_below_cutoff\": 1.0, \"calitp_agency_name\": \"Thousand Oaks Transit\", \"caltrans_district\": \"07 - Los Angeles\", \"route_name\": \"Brimhall Library - Teen Center - Senior Center - The Oaks Shopping Center - Janss Marketplace - Los Robles Hospital - Cal Lutheran\", \"route_short_name\": \"41\", \"route_id2\": \"41\", \"cutoff2\": 20, \"cutoff\": 2}, {\"calitp_itp_id\": 337, \"trip_key\": -5915891417952522518, \"trip_id\": \"t_1230046_b_27094_tn_0\", \"shape_id\": \"p_111149\", \"route_id\": \"3639\", \"service_hours\": 0.83, \"trip_first_departure_ts\": 25200, \"trip_last_arrival_ts\": 28200, \"departure_hour\": 7, \"time_of_day\": \"AM Peak\", \"p25\": 0.83, \"p50\": 0.83, \"p75\": 0.83, \"p50_trip\": 1, \"fastest_trip\": 0, \"car_duration_hours\": 0.51, \"competitive_route\": 1, \"bus_multiplier\": 1.63, \"bus_difference\": 19.2, \"num_trips\": 13, \"num_competitive\": 13, \"pct_trips_competitive\": 1.0, \"bus_difference_spread\": 6.0, \"route_group\": \"short\", \"max_trip_hrs\": 0.83, \"max_trip_route_group\": 0.83, \"below_cutoff\": 13, \"pct_below_cutoff\": 1.0, \"calitp_agency_name\": \"Thousand Oaks Transit\", \"caltrans_district\": \"07 - Los Angeles\", \"route_name\": \"Brimhall Library - Teen Center - Senior Center - The Oaks Shopping Center - Janss Marketplace - Los Robles Hospital - Cal Lutheran\", \"route_short_name\": \"41\", \"route_id2\": \"41\", \"cutoff2\": 20, \"cutoff\": 2}, {\"calitp_itp_id\": 337, \"trip_key\": -1138834084274760611, \"trip_id\": \"t_1317293_b_27094_tn_0\", \"shape_id\": \"p_111149\", \"route_id\": \"3639\", \"service_hours\": 0.83, \"trip_first_departure_ts\": 57600, \"trip_last_arrival_ts\": 60600, \"departure_hour\": 16, \"time_of_day\": \"Midday\", \"p25\": 0.83, \"p50\": 0.83, \"p75\": 0.83, \"p50_trip\": 1, \"fastest_trip\": 0, \"car_duration_hours\": 0.51, \"competitive_route\": 1, \"bus_multiplier\": 1.63, \"bus_difference\": 19.2, \"num_trips\": 13, \"num_competitive\": 13, \"pct_trips_competitive\": 1.0, \"bus_difference_spread\": 6.0, \"route_group\": \"short\", \"max_trip_hrs\": 0.83, \"max_trip_route_group\": 0.83, \"below_cutoff\": 13, \"pct_below_cutoff\": 1.0, \"calitp_agency_name\": \"Thousand Oaks Transit\", \"caltrans_district\": \"07 - Los Angeles\", \"route_name\": \"Brimhall Library - Teen Center - Senior Center - The Oaks Shopping Center - Janss Marketplace - Los Robles Hospital - Cal Lutheran\", \"route_short_name\": \"41\", \"route_id2\": \"41\", \"cutoff2\": 20, \"cutoff\": 2}, {\"calitp_itp_id\": 337, \"trip_key\": -3297138022389221325, \"trip_id\": \"t_1317292_b_27094_tn_0\", \"shape_id\": \"p_111149\", \"route_id\": \"3639\", \"service_hours\": 0.83, \"trip_first_departure_ts\": 54000, \"trip_last_arrival_ts\": 57000, \"departure_hour\": 15, \"time_of_day\": \"Midday\", \"p25\": 0.83, \"p50\": 0.83, \"p75\": 0.83, \"p50_trip\": 1, \"fastest_trip\": 0, \"car_duration_hours\": 0.51, \"competitive_route\": 1, \"bus_multiplier\": 1.63, \"bus_difference\": 19.2, \"num_trips\": 13, \"num_competitive\": 13, \"pct_trips_competitive\": 1.0, \"bus_difference_spread\": 6.0, \"route_group\": \"short\", \"max_trip_hrs\": 0.83, \"max_trip_route_group\": 0.83, \"below_cutoff\": 13, \"pct_below_cutoff\": 1.0, \"calitp_agency_name\": \"Thousand Oaks Transit\", \"caltrans_district\": \"07 - Los Angeles\", \"route_name\": \"Brimhall Library - Teen Center - Senior Center - The Oaks Shopping Center - Janss Marketplace - Los Robles Hospital - Cal Lutheran\", \"route_short_name\": \"41\", \"route_id2\": \"41\", \"cutoff2\": 20, \"cutoff\": 2}, {\"calitp_itp_id\": 337, \"trip_key\": 2804499718300023424, \"trip_id\": \"t_1317287_b_27094_tn_0\", \"shape_id\": \"p_111149\", \"route_id\": \"3639\", \"service_hours\": 0.83, \"trip_first_departure_ts\": 36000, \"trip_last_arrival_ts\": 39000, \"departure_hour\": 10, \"time_of_day\": \"Midday\", \"p25\": 0.83, \"p50\": 0.83, \"p75\": 0.83, \"p50_trip\": 1, \"fastest_trip\": 0, \"car_duration_hours\": 0.51, \"competitive_route\": 1, \"bus_multiplier\": 1.63, \"bus_difference\": 19.2, \"num_trips\": 13, \"num_competitive\": 13, \"pct_trips_competitive\": 1.0, \"bus_difference_spread\": 6.0, \"route_group\": \"short\", \"max_trip_hrs\": 0.83, \"max_trip_route_group\": 0.83, \"below_cutoff\": 13, \"pct_below_cutoff\": 1.0, \"calitp_agency_name\": \"Thousand Oaks Transit\", \"caltrans_district\": \"07 - Los Angeles\", \"route_name\": \"Brimhall Library - Teen Center - Senior Center - The Oaks Shopping Center - Janss Marketplace - Los Robles Hospital - Cal Lutheran\", \"route_short_name\": \"41\", \"route_id2\": \"41\", \"cutoff2\": 20, \"cutoff\": 2}, {\"calitp_itp_id\": 337, \"trip_key\": 1358325327274590038, \"trip_id\": \"t_1317307_b_27094_tn_0\", \"shape_id\": \"p_900592\", \"route_id\": \"3640\", \"service_hours\": 0.82, \"trip_first_departure_ts\": 32400, \"trip_last_arrival_ts\": 35340, \"departure_hour\": 9, \"time_of_day\": \"AM Peak\", \"p25\": 0.82, \"p50\": 0.82, \"p75\": 0.82, \"p50_trip\": 1, \"fastest_trip\": 0, \"car_duration_hours\": 0.62, \"competitive_route\": 1, \"bus_multiplier\": 1.32, \"bus_difference\": 12.0, \"num_trips\": 13, \"num_competitive\": 13, \"pct_trips_competitive\": 1.0, \"bus_difference_spread\": 0.0, \"route_group\": \"short\", \"max_trip_hrs\": 0.82, \"max_trip_route_group\": 0.82, \"below_cutoff\": 13, \"pct_below_cutoff\": 1.0, \"calitp_agency_name\": \"Thousand Oaks Transit\", \"caltrans_district\": \"07 - Los Angeles\", \"route_name\": \"Civic Arts Plaza (City Hall) - The Oaks Shopping Center - Transportation Center\", \"route_short_name\": \"43\", \"route_id2\": \"43\", \"cutoff2\": 20, \"cutoff\": 2}, {\"calitp_itp_id\": 337, \"trip_key\": 3527914113114180610, \"trip_id\": \"t_1317316_b_27094_tn_0\", \"shape_id\": \"p_900592\", \"route_id\": \"3640\", \"service_hours\": 0.82, \"trip_first_departure_ts\": 64800, \"trip_last_arrival_ts\": 67740, \"departure_hour\": 18, \"time_of_day\": \"PM Peak\", \"p25\": 0.82, \"p50\": 0.82, \"p75\": 0.82, \"p50_trip\": 1, \"fastest_trip\": 1, \"car_duration_hours\": 0.62, \"competitive_route\": 1, \"bus_multiplier\": 1.32, \"bus_difference\": 12.0, \"num_trips\": 13, \"num_competitive\": 13, \"pct_trips_competitive\": 1.0, \"bus_difference_spread\": 0.0, \"route_group\": \"short\", \"max_trip_hrs\": 0.82, \"max_trip_route_group\": 0.82, \"below_cutoff\": 13, \"pct_below_cutoff\": 1.0, \"calitp_agency_name\": \"Thousand Oaks Transit\", \"caltrans_district\": \"07 - Los Angeles\", \"route_name\": \"Civic Arts Plaza (City Hall) - The Oaks Shopping Center - Transportation Center\", \"route_short_name\": \"43\", \"route_id2\": \"43\", \"cutoff2\": 20, \"cutoff\": 2}, {\"calitp_itp_id\": 337, \"trip_key\": -5815335661553103789, \"trip_id\": \"t_1317308_b_27094_tn_0\", \"shape_id\": \"p_900592\", \"route_id\": \"3640\", \"service_hours\": 0.82, \"trip_first_departure_ts\": 36000, \"trip_last_arrival_ts\": 38940, \"departure_hour\": 10, \"time_of_day\": \"Midday\", \"p25\": 0.82, \"p50\": 0.82, \"p75\": 0.82, \"p50_trip\": 1, \"fastest_trip\": 0, \"car_duration_hours\": 0.62, \"competitive_route\": 1, \"bus_multiplier\": 1.32, \"bus_difference\": 12.0, \"num_trips\": 13, \"num_competitive\": 13, \"pct_trips_competitive\": 1.0, \"bus_difference_spread\": 0.0, \"route_group\": \"short\", \"max_trip_hrs\": 0.82, \"max_trip_route_group\": 0.82, \"below_cutoff\": 13, \"pct_below_cutoff\": 1.0, \"calitp_agency_name\": \"Thousand Oaks Transit\", \"caltrans_district\": \"07 - Los Angeles\", \"route_name\": \"Civic Arts Plaza (City Hall) - The Oaks Shopping Center - Transportation Center\", \"route_short_name\": \"43\", \"route_id2\": \"43\", \"cutoff2\": 20, \"cutoff\": 2}, {\"calitp_itp_id\": 337, \"trip_key\": -5078553225780790204, \"trip_id\": \"t_1317314_b_27094_tn_0\", \"shape_id\": \"p_900592\", \"route_id\": \"3640\", \"service_hours\": 0.82, \"trip_first_departure_ts\": 57600, \"trip_last_arrival_ts\": 60540, \"departure_hour\": 16, \"time_of_day\": \"Midday\", \"p25\": 0.82, \"p50\": 0.82, \"p75\": 0.82, \"p50_trip\": 1, \"fastest_trip\": 0, \"car_duration_hours\": 0.62, \"competitive_route\": 1, \"bus_multiplier\": 1.32, \"bus_difference\": 12.0, \"num_trips\": 13, \"num_competitive\": 13, \"pct_trips_competitive\": 1.0, \"bus_difference_spread\": 0.0, \"route_group\": \"short\", \"max_trip_hrs\": 0.82, \"max_trip_route_group\": 0.82, \"below_cutoff\": 13, \"pct_below_cutoff\": 1.0, \"calitp_agency_name\": \"Thousand Oaks Transit\", \"caltrans_district\": \"07 - Los Angeles\", \"route_name\": \"Civic Arts Plaza (City Hall) - The Oaks Shopping Center - Transportation Center\", \"route_short_name\": \"43\", \"route_id2\": \"43\", \"cutoff2\": 20, \"cutoff\": 2}, {\"calitp_itp_id\": 337, \"trip_key\": 5326212799935033881, \"trip_id\": \"t_1317311_b_27094_tn_0\", \"shape_id\": \"p_900592\", \"route_id\": \"3640\", \"service_hours\": 0.82, \"trip_first_departure_ts\": 46800, \"trip_last_arrival_ts\": 49740, \"departure_hour\": 13, \"time_of_day\": \"Midday\", \"p25\": 0.82, \"p50\": 0.82, \"p75\": 0.82, \"p50_trip\": 1, \"fastest_trip\": 0, \"car_duration_hours\": 0.62, \"competitive_route\": 1, \"bus_multiplier\": 1.32, \"bus_difference\": 12.0, \"num_trips\": 13, \"num_competitive\": 13, \"pct_trips_competitive\": 1.0, \"bus_difference_spread\": 0.0, \"route_group\": \"short\", \"max_trip_hrs\": 0.82, \"max_trip_route_group\": 0.82, \"below_cutoff\": 13, \"pct_below_cutoff\": 1.0, \"calitp_agency_name\": \"Thousand Oaks Transit\", \"caltrans_district\": \"07 - Los Angeles\", \"route_name\": \"Civic Arts Plaza (City Hall) - The Oaks Shopping Center - Transportation Center\", \"route_short_name\": \"43\", \"route_id2\": \"43\", \"cutoff2\": 20, \"cutoff\": 2}, {\"calitp_itp_id\": 337, \"trip_key\": -2831959076268491258, \"trip_id\": \"t_1230056_b_27094_tn_0\", \"shape_id\": \"p_900592\", \"route_id\": \"3640\", \"service_hours\": 0.82, \"trip_first_departure_ts\": 25200, \"trip_last_arrival_ts\": 28140, \"departure_hour\": 7, \"time_of_day\": \"AM Peak\", \"p25\": 0.82, \"p50\": 0.82, \"p75\": 0.82, \"p50_trip\": 1, \"fastest_trip\": 0, \"car_duration_hours\": 0.62, \"competitive_route\": 1, \"bus_multiplier\": 1.32, \"bus_difference\": 12.0, \"num_trips\": 13, \"num_competitive\": 13, \"pct_trips_competitive\": 1.0, \"bus_difference_spread\": 0.0, \"route_group\": \"short\", \"max_trip_hrs\": 0.82, \"max_trip_route_group\": 0.82, \"below_cutoff\": 13, \"pct_below_cutoff\": 1.0, \"calitp_agency_name\": \"Thousand Oaks Transit\", \"caltrans_district\": \"07 - Los Angeles\", \"route_name\": \"Civic Arts Plaza (City Hall) - The Oaks Shopping Center - Transportation Center\", \"route_short_name\": \"43\", \"route_id2\": \"43\", \"cutoff2\": 20, \"cutoff\": 2}, {\"calitp_itp_id\": 337, \"trip_key\": -4037674381576649544, \"trip_id\": \"t_1317306_b_27094_tn_0\", \"shape_id\": \"p_900592\", \"route_id\": \"3640\", \"service_hours\": 0.82, \"trip_first_departure_ts\": 28800, \"trip_last_arrival_ts\": 31740, \"departure_hour\": 8, \"time_of_day\": \"AM Peak\", \"p25\": 0.82, \"p50\": 0.82, \"p75\": 0.82, \"p50_trip\": 1, \"fastest_trip\": 0, \"car_duration_hours\": 0.62, \"competitive_route\": 1, \"bus_multiplier\": 1.32, \"bus_difference\": 12.0, \"num_trips\": 13, \"num_competitive\": 13, \"pct_trips_competitive\": 1.0, \"bus_difference_spread\": 0.0, \"route_group\": \"short\", \"max_trip_hrs\": 0.82, \"max_trip_route_group\": 0.82, \"below_cutoff\": 13, \"pct_below_cutoff\": 1.0, \"calitp_agency_name\": \"Thousand Oaks Transit\", \"caltrans_district\": \"07 - Los Angeles\", \"route_name\": \"Civic Arts Plaza (City Hall) - The Oaks Shopping Center - Transportation Center\", \"route_short_name\": \"43\", \"route_id2\": \"43\", \"cutoff2\": 20, \"cutoff\": 2}, {\"calitp_itp_id\": 337, \"trip_key\": 8032959870998234560, \"trip_id\": \"t_1317312_b_27094_tn_0\", \"shape_id\": \"p_900592\", \"route_id\": \"3640\", \"service_hours\": 0.82, \"trip_first_departure_ts\": 50400, \"trip_last_arrival_ts\": 53340, \"departure_hour\": 14, \"time_of_day\": \"Midday\", \"p25\": 0.82, \"p50\": 0.82, \"p75\": 0.82, \"p50_trip\": 1, \"fastest_trip\": 0, \"car_duration_hours\": 0.62, \"competitive_route\": 1, \"bus_multiplier\": 1.32, \"bus_difference\": 12.0, \"num_trips\": 13, \"num_competitive\": 13, \"pct_trips_competitive\": 1.0, \"bus_difference_spread\": 0.0, \"route_group\": \"short\", \"max_trip_hrs\": 0.82, \"max_trip_route_group\": 0.82, \"below_cutoff\": 13, \"pct_below_cutoff\": 1.0, \"calitp_agency_name\": \"Thousand Oaks Transit\", \"caltrans_district\": \"07 - Los Angeles\", \"route_name\": \"Civic Arts Plaza (City Hall) - The Oaks Shopping Center - Transportation Center\", \"route_short_name\": \"43\", \"route_id2\": \"43\", \"cutoff2\": 20, \"cutoff\": 2}, {\"calitp_itp_id\": 337, \"trip_key\": -7808968342740784205, \"trip_id\": \"t_1317313_b_27094_tn_0\", \"shape_id\": \"p_900592\", \"route_id\": \"3640\", \"service_hours\": 0.82, \"trip_first_departure_ts\": 54000, \"trip_last_arrival_ts\": 56940, \"departure_hour\": 15, \"time_of_day\": \"Midday\", \"p25\": 0.82, \"p50\": 0.82, \"p75\": 0.82, \"p50_trip\": 1, \"fastest_trip\": 0, \"car_duration_hours\": 0.62, \"competitive_route\": 1, \"bus_multiplier\": 1.32, \"bus_difference\": 12.0, \"num_trips\": 13, \"num_competitive\": 13, \"pct_trips_competitive\": 1.0, \"bus_difference_spread\": 0.0, \"route_group\": \"short\", \"max_trip_hrs\": 0.82, \"max_trip_route_group\": 0.82, \"below_cutoff\": 13, \"pct_below_cutoff\": 1.0, \"calitp_agency_name\": \"Thousand Oaks Transit\", \"caltrans_district\": \"07 - Los Angeles\", \"route_name\": \"Civic Arts Plaza (City Hall) - The Oaks Shopping Center - Transportation Center\", \"route_short_name\": \"43\", \"route_id2\": \"43\", \"cutoff2\": 20, \"cutoff\": 2}, {\"calitp_itp_id\": 337, \"trip_key\": 174905476332898893, \"trip_id\": \"t_1317315_b_27094_tn_0\", \"shape_id\": \"p_900592\", \"route_id\": \"3640\", \"service_hours\": 0.82, \"trip_first_departure_ts\": 61200, \"trip_last_arrival_ts\": 64140, \"departure_hour\": 17, \"time_of_day\": \"PM Peak\", \"p25\": 0.82, \"p50\": 0.82, \"p75\": 0.82, \"p50_trip\": 1, \"fastest_trip\": 0, \"car_duration_hours\": 0.62, \"competitive_route\": 1, \"bus_multiplier\": 1.32, \"bus_difference\": 12.0, \"num_trips\": 13, \"num_competitive\": 13, \"pct_trips_competitive\": 1.0, \"bus_difference_spread\": 0.0, \"route_group\": \"short\", \"max_trip_hrs\": 0.82, \"max_trip_route_group\": 0.82, \"below_cutoff\": 13, \"pct_below_cutoff\": 1.0, \"calitp_agency_name\": \"Thousand Oaks Transit\", \"caltrans_district\": \"07 - Los Angeles\", \"route_name\": \"Civic Arts Plaza (City Hall) - The Oaks Shopping Center - Transportation Center\", \"route_short_name\": \"43\", \"route_id2\": \"43\", \"cutoff2\": 20, \"cutoff\": 2}, {\"calitp_itp_id\": 337, \"trip_key\": 1386274926039851253, \"trip_id\": \"t_1230055_b_27094_tn_0\", \"shape_id\": \"p_900592\", \"route_id\": \"3640\", \"service_hours\": 0.82, \"trip_first_departure_ts\": 21600, \"trip_last_arrival_ts\": 24540, \"departure_hour\": 6, \"time_of_day\": \"Owl Service\", \"p25\": 0.82, \"p50\": 0.82, \"p75\": 0.82, \"p50_trip\": 1, \"fastest_trip\": 0, \"car_duration_hours\": 0.62, \"competitive_route\": 1, \"bus_multiplier\": 1.32, \"bus_difference\": 12.0, \"num_trips\": 13, \"num_competitive\": 13, \"pct_trips_competitive\": 1.0, \"bus_difference_spread\": 0.0, \"route_group\": \"short\", \"max_trip_hrs\": 0.82, \"max_trip_route_group\": 0.82, \"below_cutoff\": 13, \"pct_below_cutoff\": 1.0, \"calitp_agency_name\": \"Thousand Oaks Transit\", \"caltrans_district\": \"07 - Los Angeles\", \"route_name\": \"Civic Arts Plaza (City Hall) - The Oaks Shopping Center - Transportation Center\", \"route_short_name\": \"43\", \"route_id2\": \"43\", \"cutoff2\": 20, \"cutoff\": 2}, {\"calitp_itp_id\": 337, \"trip_key\": -3608918615386158952, \"trip_id\": \"t_1317309_b_27094_tn_0\", \"shape_id\": \"p_900592\", \"route_id\": \"3640\", \"service_hours\": 0.82, \"trip_first_departure_ts\": 39600, \"trip_last_arrival_ts\": 42540, \"departure_hour\": 11, \"time_of_day\": \"Midday\", \"p25\": 0.82, \"p50\": 0.82, \"p75\": 0.82, \"p50_trip\": 1, \"fastest_trip\": 0, \"car_duration_hours\": 0.62, \"competitive_route\": 1, \"bus_multiplier\": 1.32, \"bus_difference\": 12.0, \"num_trips\": 13, \"num_competitive\": 13, \"pct_trips_competitive\": 1.0, \"bus_difference_spread\": 0.0, \"route_group\": \"short\", \"max_trip_hrs\": 0.82, \"max_trip_route_group\": 0.82, \"below_cutoff\": 13, \"pct_below_cutoff\": 1.0, \"calitp_agency_name\": \"Thousand Oaks Transit\", \"caltrans_district\": \"07 - Los Angeles\", \"route_name\": \"Civic Arts Plaza (City Hall) - The Oaks Shopping Center - Transportation Center\", \"route_short_name\": \"43\", \"route_id2\": \"43\", \"cutoff2\": 20, \"cutoff\": 2}, {\"calitp_itp_id\": 337, \"trip_key\": 4442988126574455679, \"trip_id\": \"t_1317310_b_27094_tn_0\", \"shape_id\": \"p_900592\", \"route_id\": \"3640\", \"service_hours\": 0.82, \"trip_first_departure_ts\": 43200, \"trip_last_arrival_ts\": 46140, \"departure_hour\": 12, \"time_of_day\": \"Midday\", \"p25\": 0.82, \"p50\": 0.82, \"p75\": 0.82, \"p50_trip\": 1, \"fastest_trip\": 0, \"car_duration_hours\": 0.62, \"competitive_route\": 1, \"bus_multiplier\": 1.32, \"bus_difference\": 12.0, \"num_trips\": 13, \"num_competitive\": 13, \"pct_trips_competitive\": 1.0, \"bus_difference_spread\": 0.0, \"route_group\": \"short\", \"max_trip_hrs\": 0.82, \"max_trip_route_group\": 0.82, \"below_cutoff\": 13, \"pct_below_cutoff\": 1.0, \"calitp_agency_name\": \"Thousand Oaks Transit\", \"caltrans_district\": \"07 - Los Angeles\", \"route_name\": \"Civic Arts Plaza (City Hall) - The Oaks Shopping Center - Transportation Center\", \"route_short_name\": \"43\", \"route_id2\": \"43\", \"cutoff2\": 20, \"cutoff\": 2}, {\"calitp_itp_id\": 337, \"trip_key\": -3339647991534680967, \"trip_id\": \"t_1230052_b_27094_tn_0\", \"shape_id\": \"p_900591\", \"route_id\": \"6799\", \"service_hours\": 0.82, \"trip_first_departure_ts\": 25200, \"trip_last_arrival_ts\": 28140, \"departure_hour\": 7, \"time_of_day\": \"AM Peak\", \"p25\": 0.82, \"p50\": 0.82, \"p75\": 0.82, \"p50_trip\": 1, \"fastest_trip\": 0, \"car_duration_hours\": 0.58, \"competitive_route\": 1, \"bus_multiplier\": 1.41, \"bus_difference\": 14.4, \"num_trips\": 13, \"num_competitive\": 13, \"pct_trips_competitive\": 1.0, \"bus_difference_spread\": 0.0, \"route_group\": \"short\", \"max_trip_hrs\": 0.82, \"max_trip_route_group\": 0.82, \"below_cutoff\": 13, \"pct_below_cutoff\": 1.0, \"calitp_agency_name\": \"Thousand Oaks Transit\", \"caltrans_district\": \"07 - Los Angeles\", \"route_name\": \"The Oaks - Teen And Senior Centers - Clu - Los Robles Hospital - The Oaks\", \"route_short_name\": \"42\", \"route_id2\": \"42\", \"cutoff2\": 20, \"cutoff\": 2}, {\"calitp_itp_id\": 337, \"trip_key\": -7812706225654533933, \"trip_id\": \"t_1317350_b_27094_tn_0\", \"shape_id\": \"p_900591\", \"route_id\": \"6799\", \"service_hours\": 0.82, \"trip_first_departure_ts\": 28800, \"trip_last_arrival_ts\": 31740, \"departure_hour\": 8, \"time_of_day\": \"AM Peak\", \"p25\": 0.82, \"p50\": 0.82, \"p75\": 0.82, \"p50_trip\": 1, \"fastest_trip\": 0, \"car_duration_hours\": 0.58, \"competitive_route\": 1, \"bus_multiplier\": 1.41, \"bus_difference\": 14.4, \"num_trips\": 13, \"num_competitive\": 13, \"pct_trips_competitive\": 1.0, \"bus_difference_spread\": 0.0, \"route_group\": \"short\", \"max_trip_hrs\": 0.82, \"max_trip_route_group\": 0.82, \"below_cutoff\": 13, \"pct_below_cutoff\": 1.0, \"calitp_agency_name\": \"Thousand Oaks Transit\", \"caltrans_district\": \"07 - Los Angeles\", \"route_name\": \"The Oaks - Teen And Senior Centers - Clu - Los Robles Hospital - The Oaks\", \"route_short_name\": \"42\", \"route_id2\": \"42\", \"cutoff2\": 20, \"cutoff\": 2}, {\"calitp_itp_id\": 337, \"trip_key\": -2901946403960055063, \"trip_id\": \"t_1317352_b_27094_tn_0\", \"shape_id\": \"p_900591\", \"route_id\": \"6799\", \"service_hours\": 0.82, \"trip_first_departure_ts\": 36000, \"trip_last_arrival_ts\": 38940, \"departure_hour\": 10, \"time_of_day\": \"Midday\", \"p25\": 0.82, \"p50\": 0.82, \"p75\": 0.82, \"p50_trip\": 1, \"fastest_trip\": 0, \"car_duration_hours\": 0.58, \"competitive_route\": 1, \"bus_multiplier\": 1.41, \"bus_difference\": 14.4, \"num_trips\": 13, \"num_competitive\": 13, \"pct_trips_competitive\": 1.0, \"bus_difference_spread\": 0.0, \"route_group\": \"short\", \"max_trip_hrs\": 0.82, \"max_trip_route_group\": 0.82, \"below_cutoff\": 13, \"pct_below_cutoff\": 1.0, \"calitp_agency_name\": \"Thousand Oaks Transit\", \"caltrans_district\": \"07 - Los Angeles\", \"route_name\": \"The Oaks - Teen And Senior Centers - Clu - Los Robles Hospital - The Oaks\", \"route_short_name\": \"42\", \"route_id2\": \"42\", \"cutoff2\": 20, \"cutoff\": 2}, {\"calitp_itp_id\": 337, \"trip_key\": -811125851311968377, \"trip_id\": \"t_1230049_b_27094_tn_0\", \"shape_id\": \"p_900591\", \"route_id\": \"6799\", \"service_hours\": 0.82, \"trip_first_departure_ts\": 21600, \"trip_last_arrival_ts\": 24540, \"departure_hour\": 6, \"time_of_day\": \"Owl Service\", \"p25\": 0.82, \"p50\": 0.82, \"p75\": 0.82, \"p50_trip\": 1, \"fastest_trip\": 0, \"car_duration_hours\": 0.58, \"competitive_route\": 1, \"bus_multiplier\": 1.41, \"bus_difference\": 14.4, \"num_trips\": 13, \"num_competitive\": 13, \"pct_trips_competitive\": 1.0, \"bus_difference_spread\": 0.0, \"route_group\": \"short\", \"max_trip_hrs\": 0.82, \"max_trip_route_group\": 0.82, \"below_cutoff\": 13, \"pct_below_cutoff\": 1.0, \"calitp_agency_name\": \"Thousand Oaks Transit\", \"caltrans_district\": \"07 - Los Angeles\", \"route_name\": \"The Oaks - Teen And Senior Centers - Clu - Los Robles Hospital - The Oaks\", \"route_short_name\": \"42\", \"route_id2\": \"42\", \"cutoff2\": 20, \"cutoff\": 2}, {\"calitp_itp_id\": 337, \"trip_key\": -4476578932371071111, \"trip_id\": \"t_1317353_b_27094_tn_0\", \"shape_id\": \"p_900591\", \"route_id\": \"6799\", \"service_hours\": 0.82, \"trip_first_departure_ts\": 39600, \"trip_last_arrival_ts\": 42540, \"departure_hour\": 11, \"time_of_day\": \"Midday\", \"p25\": 0.82, \"p50\": 0.82, \"p75\": 0.82, \"p50_trip\": 1, \"fastest_trip\": 0, \"car_duration_hours\": 0.58, \"competitive_route\": 1, \"bus_multiplier\": 1.41, \"bus_difference\": 14.4, \"num_trips\": 13, \"num_competitive\": 13, \"pct_trips_competitive\": 1.0, \"bus_difference_spread\": 0.0, \"route_group\": \"short\", \"max_trip_hrs\": 0.82, \"max_trip_route_group\": 0.82, \"below_cutoff\": 13, \"pct_below_cutoff\": 1.0, \"calitp_agency_name\": \"Thousand Oaks Transit\", \"caltrans_district\": \"07 - Los Angeles\", \"route_name\": \"The Oaks - Teen And Senior Centers - Clu - Los Robles Hospital - The Oaks\", \"route_short_name\": \"42\", \"route_id2\": \"42\", \"cutoff2\": 20, \"cutoff\": 2}, {\"calitp_itp_id\": 337, \"trip_key\": -7749798268344435151, \"trip_id\": \"t_1317355_b_27094_tn_0\", \"shape_id\": \"p_900591\", \"route_id\": \"6799\", \"service_hours\": 0.82, \"trip_first_departure_ts\": 46800, \"trip_last_arrival_ts\": 49740, \"departure_hour\": 13, \"time_of_day\": \"Midday\", \"p25\": 0.82, \"p50\": 0.82, \"p75\": 0.82, \"p50_trip\": 1, \"fastest_trip\": 0, \"car_duration_hours\": 0.58, \"competitive_route\": 1, \"bus_multiplier\": 1.41, \"bus_difference\": 14.4, \"num_trips\": 13, \"num_competitive\": 13, \"pct_trips_competitive\": 1.0, \"bus_difference_spread\": 0.0, \"route_group\": \"short\", \"max_trip_hrs\": 0.82, \"max_trip_route_group\": 0.82, \"below_cutoff\": 13, \"pct_below_cutoff\": 1.0, \"calitp_agency_name\": \"Thousand Oaks Transit\", \"caltrans_district\": \"07 - Los Angeles\", \"route_name\": \"The Oaks - Teen And Senior Centers - Clu - Los Robles Hospital - The Oaks\", \"route_short_name\": \"42\", \"route_id2\": \"42\", \"cutoff2\": 20, \"cutoff\": 2}, {\"calitp_itp_id\": 337, \"trip_key\": -8042224096457433652, \"trip_id\": \"t_1317351_b_27094_tn_0\", \"shape_id\": \"p_900591\", \"route_id\": \"6799\", \"service_hours\": 0.82, \"trip_first_departure_ts\": 32400, \"trip_last_arrival_ts\": 35340, \"departure_hour\": 9, \"time_of_day\": \"AM Peak\", \"p25\": 0.82, \"p50\": 0.82, \"p75\": 0.82, \"p50_trip\": 1, \"fastest_trip\": 0, \"car_duration_hours\": 0.58, \"competitive_route\": 1, \"bus_multiplier\": 1.41, \"bus_difference\": 14.4, \"num_trips\": 13, \"num_competitive\": 13, \"pct_trips_competitive\": 1.0, \"bus_difference_spread\": 0.0, \"route_group\": \"short\", \"max_trip_hrs\": 0.82, \"max_trip_route_group\": 0.82, \"below_cutoff\": 13, \"pct_below_cutoff\": 1.0, \"calitp_agency_name\": \"Thousand Oaks Transit\", \"caltrans_district\": \"07 - Los Angeles\", \"route_name\": \"The Oaks - Teen And Senior Centers - Clu - Los Robles Hospital - The Oaks\", \"route_short_name\": \"42\", \"route_id2\": \"42\", \"cutoff2\": 20, \"cutoff\": 2}, {\"calitp_itp_id\": 337, \"trip_key\": -921040881378149292, \"trip_id\": \"t_1317354_b_27094_tn_0\", \"shape_id\": \"p_900591\", \"route_id\": \"6799\", \"service_hours\": 0.82, \"trip_first_departure_ts\": 43200, \"trip_last_arrival_ts\": 46140, \"departure_hour\": 12, \"time_of_day\": \"Midday\", \"p25\": 0.82, \"p50\": 0.82, \"p75\": 0.82, \"p50_trip\": 1, \"fastest_trip\": 0, \"car_duration_hours\": 0.58, \"competitive_route\": 1, \"bus_multiplier\": 1.41, \"bus_difference\": 14.4, \"num_trips\": 13, \"num_competitive\": 13, \"pct_trips_competitive\": 1.0, \"bus_difference_spread\": 0.0, \"route_group\": \"short\", \"max_trip_hrs\": 0.82, \"max_trip_route_group\": 0.82, \"below_cutoff\": 13, \"pct_below_cutoff\": 1.0, \"calitp_agency_name\": \"Thousand Oaks Transit\", \"caltrans_district\": \"07 - Los Angeles\", \"route_name\": \"The Oaks - Teen And Senior Centers - Clu - Los Robles Hospital - The Oaks\", \"route_short_name\": \"42\", \"route_id2\": \"42\", \"cutoff2\": 20, \"cutoff\": 2}, {\"calitp_itp_id\": 337, \"trip_key\": 284123079588749380, \"trip_id\": \"t_1317358_b_27094_tn_0\", \"shape_id\": \"p_900591\", \"route_id\": \"6799\", \"service_hours\": 0.82, \"trip_first_departure_ts\": 57600, \"trip_last_arrival_ts\": 60540, \"departure_hour\": 16, \"time_of_day\": \"Midday\", \"p25\": 0.82, \"p50\": 0.82, \"p75\": 0.82, \"p50_trip\": 1, \"fastest_trip\": 0, \"car_duration_hours\": 0.58, \"competitive_route\": 1, \"bus_multiplier\": 1.41, \"bus_difference\": 14.4, \"num_trips\": 13, \"num_competitive\": 13, \"pct_trips_competitive\": 1.0, \"bus_difference_spread\": 0.0, \"route_group\": \"short\", \"max_trip_hrs\": 0.82, \"max_trip_route_group\": 0.82, \"below_cutoff\": 13, \"pct_below_cutoff\": 1.0, \"calitp_agency_name\": \"Thousand Oaks Transit\", \"caltrans_district\": \"07 - Los Angeles\", \"route_name\": \"The Oaks - Teen And Senior Centers - Clu - Los Robles Hospital - The Oaks\", \"route_short_name\": \"42\", \"route_id2\": \"42\", \"cutoff2\": 20, \"cutoff\": 2}, {\"calitp_itp_id\": 337, \"trip_key\": -4381000657039983348, \"trip_id\": \"t_1317357_b_27094_tn_0\", \"shape_id\": \"p_900591\", \"route_id\": \"6799\", \"service_hours\": 0.82, \"trip_first_departure_ts\": 54000, \"trip_last_arrival_ts\": 56940, \"departure_hour\": 15, \"time_of_day\": \"Midday\", \"p25\": 0.82, \"p50\": 0.82, \"p75\": 0.82, \"p50_trip\": 1, \"fastest_trip\": 0, \"car_duration_hours\": 0.58, \"competitive_route\": 1, \"bus_multiplier\": 1.41, \"bus_difference\": 14.4, \"num_trips\": 13, \"num_competitive\": 13, \"pct_trips_competitive\": 1.0, \"bus_difference_spread\": 0.0, \"route_group\": \"short\", \"max_trip_hrs\": 0.82, \"max_trip_route_group\": 0.82, \"below_cutoff\": 13, \"pct_below_cutoff\": 1.0, \"calitp_agency_name\": \"Thousand Oaks Transit\", \"caltrans_district\": \"07 - Los Angeles\", \"route_name\": \"The Oaks - Teen And Senior Centers - Clu - Los Robles Hospital - The Oaks\", \"route_short_name\": \"42\", \"route_id2\": \"42\", \"cutoff2\": 20, \"cutoff\": 2}, {\"calitp_itp_id\": 337, \"trip_key\": -6840087071432211258, \"trip_id\": \"t_1317359_b_27094_tn_0\", \"shape_id\": \"p_900591\", \"route_id\": \"6799\", \"service_hours\": 0.82, \"trip_first_departure_ts\": 61200, \"trip_last_arrival_ts\": 64140, \"departure_hour\": 17, \"time_of_day\": \"PM Peak\", \"p25\": 0.82, \"p50\": 0.82, \"p75\": 0.82, \"p50_trip\": 1, \"fastest_trip\": 0, \"car_duration_hours\": 0.58, \"competitive_route\": 1, \"bus_multiplier\": 1.41, \"bus_difference\": 14.4, \"num_trips\": 13, \"num_competitive\": 13, \"pct_trips_competitive\": 1.0, \"bus_difference_spread\": 0.0, \"route_group\": \"short\", \"max_trip_hrs\": 0.82, \"max_trip_route_group\": 0.82, \"below_cutoff\": 13, \"pct_below_cutoff\": 1.0, \"calitp_agency_name\": \"Thousand Oaks Transit\", \"caltrans_district\": \"07 - Los Angeles\", \"route_name\": \"The Oaks - Teen And Senior Centers - Clu - Los Robles Hospital - The Oaks\", \"route_short_name\": \"42\", \"route_id2\": \"42\", \"cutoff2\": 20, \"cutoff\": 2}, {\"calitp_itp_id\": 337, \"trip_key\": 4837374424228184135, \"trip_id\": \"t_1317360_b_27094_tn_0\", \"shape_id\": \"p_900591\", \"route_id\": \"6799\", \"service_hours\": 0.82, \"trip_first_departure_ts\": 64800, \"trip_last_arrival_ts\": 67740, \"departure_hour\": 18, \"time_of_day\": \"PM Peak\", \"p25\": 0.82, \"p50\": 0.82, \"p75\": 0.82, \"p50_trip\": 1, \"fastest_trip\": 1, \"car_duration_hours\": 0.58, \"competitive_route\": 1, \"bus_multiplier\": 1.41, \"bus_difference\": 14.4, \"num_trips\": 13, \"num_competitive\": 13, \"pct_trips_competitive\": 1.0, \"bus_difference_spread\": 0.0, \"route_group\": \"short\", \"max_trip_hrs\": 0.82, \"max_trip_route_group\": 0.82, \"below_cutoff\": 13, \"pct_below_cutoff\": 1.0, \"calitp_agency_name\": \"Thousand Oaks Transit\", \"caltrans_district\": \"07 - Los Angeles\", \"route_name\": \"The Oaks - Teen And Senior Centers - Clu - Los Robles Hospital - The Oaks\", \"route_short_name\": \"42\", \"route_id2\": \"42\", \"cutoff2\": 20, \"cutoff\": 2}, {\"calitp_itp_id\": 337, \"trip_key\": -8368667360634585597, \"trip_id\": \"t_1317356_b_27094_tn_0\", \"shape_id\": \"p_900591\", \"route_id\": \"6799\", \"service_hours\": 0.82, \"trip_first_departure_ts\": 50400, \"trip_last_arrival_ts\": 53340, \"departure_hour\": 14, \"time_of_day\": \"Midday\", \"p25\": 0.82, \"p50\": 0.82, \"p75\": 0.82, \"p50_trip\": 1, \"fastest_trip\": 0, \"car_duration_hours\": 0.58, \"competitive_route\": 1, \"bus_multiplier\": 1.41, \"bus_difference\": 14.4, \"num_trips\": 13, \"num_competitive\": 13, \"pct_trips_competitive\": 1.0, \"bus_difference_spread\": 0.0, \"route_group\": \"short\", \"max_trip_hrs\": 0.82, \"max_trip_route_group\": 0.82, \"below_cutoff\": 13, \"pct_below_cutoff\": 1.0, \"calitp_agency_name\": \"Thousand Oaks Transit\", \"caltrans_district\": \"07 - Los Angeles\", \"route_name\": \"The Oaks - Teen And Senior Centers - Clu - Los Robles Hospital - The Oaks\", \"route_short_name\": \"42\", \"route_id2\": \"42\", \"cutoff2\": 20, \"cutoff\": 2}]}}, {\"mode\": \"vega-lite\"});\n",
       "</script>"
      ],
      "text/plain": [
       "alt.FacetChart(...)"
      ]
     },
     "metadata": {},
     "output_type": "display_data"
    },
    {
     "data": {
      "text/html": [
       "\n",
       "<div id=\"altair-viz-797ad7e4ef1a4eaab41a37f2473a8e17\"></div>\n",
       "<script type=\"text/javascript\">\n",
       "  var VEGA_DEBUG = (typeof VEGA_DEBUG == \"undefined\") ? {} : VEGA_DEBUG;\n",
       "  (function(spec, embedOpt){\n",
       "    let outputDiv = document.currentScript.previousElementSibling;\n",
       "    if (outputDiv.id !== \"altair-viz-797ad7e4ef1a4eaab41a37f2473a8e17\") {\n",
       "      outputDiv = document.getElementById(\"altair-viz-797ad7e4ef1a4eaab41a37f2473a8e17\");\n",
       "    }\n",
       "    const paths = {\n",
       "      \"vega\": \"https://cdn.jsdelivr.net/npm//vega@5?noext\",\n",
       "      \"vega-lib\": \"https://cdn.jsdelivr.net/npm//vega-lib?noext\",\n",
       "      \"vega-lite\": \"https://cdn.jsdelivr.net/npm//vega-lite@4.17.0?noext\",\n",
       "      \"vega-embed\": \"https://cdn.jsdelivr.net/npm//vega-embed@6?noext\",\n",
       "    };\n",
       "\n",
       "    function maybeLoadScript(lib, version) {\n",
       "      var key = `${lib.replace(\"-\", \"\")}_version`;\n",
       "      return (VEGA_DEBUG[key] == version) ?\n",
       "        Promise.resolve(paths[lib]) :\n",
       "        new Promise(function(resolve, reject) {\n",
       "          var s = document.createElement('script');\n",
       "          document.getElementsByTagName(\"head\")[0].appendChild(s);\n",
       "          s.async = true;\n",
       "          s.onload = () => {\n",
       "            VEGA_DEBUG[key] = version;\n",
       "            return resolve(paths[lib]);\n",
       "          };\n",
       "          s.onerror = () => reject(`Error loading script: ${paths[lib]}`);\n",
       "          s.src = paths[lib];\n",
       "        });\n",
       "    }\n",
       "\n",
       "    function showError(err) {\n",
       "      outputDiv.innerHTML = `<div class=\"error\" style=\"color:red;\">${err}</div>`;\n",
       "      throw err;\n",
       "    }\n",
       "\n",
       "    function displayChart(vegaEmbed) {\n",
       "      vegaEmbed(outputDiv, spec, embedOpt)\n",
       "        .catch(err => showError(`Javascript Error: ${err.message}<br>This usually means there's a typo in your chart specification. See the javascript console for the full traceback.`));\n",
       "    }\n",
       "\n",
       "    if(typeof define === \"function\" && define.amd) {\n",
       "      requirejs.config({paths});\n",
       "      require([\"vega-embed\"], displayChart, err => showError(`Error loading script: ${err.message}`));\n",
       "    } else {\n",
       "      maybeLoadScript(\"vega\", \"5\")\n",
       "        .then(() => maybeLoadScript(\"vega-lite\", \"4.17.0\"))\n",
       "        .then(() => maybeLoadScript(\"vega-embed\", \"6\"))\n",
       "        .catch(showError)\n",
       "        .then(() => displayChart(vegaEmbed));\n",
       "    }\n",
       "  })({\"config\": {\"view\": {\"continuousWidth\": 400, \"continuousHeight\": 300, \"stroke\": null}, \"facet\": {\"spacing\": 0}}, \"data\": {\"name\": \"data-db4e141cd6dfb843cc6b3ac320fb54de\"}, \"facet\": {\"column\": {\"field\": \"route_id2\", \"sort\": [\"43\", \"42\", \"40\", \"41\"], \"title\": \"Route ID\", \"type\": \"nominal\"}}, \"spec\": {\"layer\": [{\"mark\": \"rule\", \"encoding\": {\"color\": {\"value\": \"black\"}, \"y\": {\"field\": \"cutoff\", \"type\": \"quantitative\"}}, \"selection\": {\"selector002\": {\"type\": \"interval\", \"bind\": \"scales\", \"encodings\": [\"x\", \"y\"]}}}, {\"mark\": {\"type\": \"rule\", \"strokeDash\": [3, 3]}, \"encoding\": {\"color\": {\"value\": \"#323434\"}, \"y\": {\"field\": \"cutoff2\", \"type\": \"quantitative\"}}}, {\"mark\": {\"type\": \"point\", \"opacity\": 0.65, \"size\": 20, \"strokeWidth\": 1.1}, \"encoding\": {\"color\": {\"field\": \"time_of_day\", \"scale\": {\"range\": [\"#136C97\", \"#E16B26\", \"#F6BF16\", \"#00896B\", \"#7790A3\", \"#5B559C\"]}, \"sort\": [\"AM Peak\", \"Midday\", \"PM Peak\", \"Owl Service\"], \"title\": \"Time of Day\", \"type\": \"nominal\"}, \"tooltip\": [{\"field\": \"route_id2\", \"title\": \"route_id\", \"type\": \"nominal\"}, {\"field\": \"route_name\", \"type\": \"nominal\"}, {\"field\": \"trip_id\", \"type\": \"nominal\"}, {\"field\": \"service_hours\", \"type\": \"quantitative\"}, {\"field\": \"car_duration_hours\", \"type\": \"quantitative\"}, {\"field\": \"bus_multiplier\", \"type\": \"quantitative\"}, {\"field\": \"bus_difference\", \"type\": \"quantitative\"}, {\"field\": \"num_trips\", \"type\": \"quantitative\"}, {\"field\": \"num_competitive\", \"type\": \"quantitative\"}, {\"field\": \"pct_trips_competitive\", \"type\": \"quantitative\"}, {\"field\": \"pct_below_cutoff\", \"type\": \"quantitative\"}, {\"field\": \"p25\", \"type\": \"quantitative\"}, {\"field\": \"p50\", \"type\": \"quantitative\"}, {\"field\": \"p75\", \"type\": \"quantitative\"}], \"x\": {\"axis\": {\"grid\": false, \"labels\": false, \"ticks\": true, \"values\": [0]}, \"field\": \"jitter\", \"scale\": {}, \"title\": null, \"type\": \"quantitative\"}, \"y\": {\"field\": \"bus_difference\", \"scale\": {\"domain\": [-5, 26.4]}, \"title\": \"Difference in Bus to Car Travel Time (min)\", \"type\": \"quantitative\"}}, \"transform\": [{\"calculate\": \"sqrt(-2*log(random()))*cos(2*PI*random())\", \"as\": \"jitter\"}], \"width\": 50}, {\"layer\": [{\"mark\": {\"type\": \"point\", \"opacity\": 0.6, \"size\": 20, \"strokeWidth\": 1.3}, \"encoding\": {\"color\": {\"value\": \"#323434\"}, \"y\": {\"field\": \"bus_difference\", \"type\": \"quantitative\"}}, \"transform\": [{\"filter\": \"(datum.p50_trip === 1)\"}]}, {\"mark\": {\"type\": \"text\", \"align\": \"center\", \"baseline\": \"middle\"}, \"encoding\": {\"color\": {\"value\": \"black\"}, \"text\": {\"field\": \"pct_trips_competitive\", \"format\": \".0%\", \"type\": \"quantitative\"}, \"tooltip\": [{\"field\": \"route_id2\", \"title\": \"route_id\", \"type\": \"nominal\"}, {\"field\": \"route_name\", \"type\": \"nominal\"}, {\"field\": \"trip_id\", \"type\": \"nominal\"}, {\"field\": \"service_hours\", \"type\": \"quantitative\"}, {\"field\": \"car_duration_hours\", \"type\": \"quantitative\"}, {\"field\": \"bus_multiplier\", \"type\": \"quantitative\"}, {\"field\": \"bus_difference\", \"type\": \"quantitative\"}, {\"field\": \"num_trips\", \"type\": \"quantitative\"}, {\"field\": \"num_competitive\", \"type\": \"quantitative\"}, {\"field\": \"pct_trips_competitive\", \"type\": \"quantitative\"}, {\"field\": \"pct_below_cutoff\", \"type\": \"quantitative\"}, {\"field\": \"p25\", \"type\": \"quantitative\"}, {\"field\": \"p50\", \"type\": \"quantitative\"}, {\"field\": \"p75\", \"type\": \"quantitative\"}], \"x\": {\"value\": 30}, \"y\": {\"value\": 15}}, \"transform\": [{\"calculate\": \"sqrt(-2*log(random()))*cos(2*PI*random())\", \"as\": \"jitter\"}, {\"filter\": \"(datum.fastest_trip === 1)\"}]}]}]}, \"resolve\": {\"scale\": {\"y\": \"shared\"}}, \"title\": \"Difference in Bus to Car Travel Time (min)\", \"$schema\": \"https://vega.github.io/schema/vega-lite/v4.17.0.json\", \"datasets\": {\"data-db4e141cd6dfb843cc6b3ac320fb54de\": [{\"calitp_itp_id\": 337, \"trip_key\": -5417850757404701005, \"trip_id\": \"t_1235934_b_27094_tn_0\", \"shape_id\": \"p_900582\", \"route_id\": \"3638\", \"service_hours\": 0.83, \"trip_first_departure_ts\": 39600, \"trip_last_arrival_ts\": 42600, \"departure_hour\": 11, \"time_of_day\": \"Midday\", \"p25\": 0.83, \"p50\": 0.83, \"p75\": 0.97, \"p50_trip\": 1, \"fastest_trip\": 0, \"car_duration_hours\": 0.67, \"competitive_route\": 1, \"bus_multiplier\": 1.24, \"bus_difference\": 9.6, \"num_trips\": 13, \"num_competitive\": 13, \"pct_trips_competitive\": 1.0, \"bus_difference_spread\": 8.4, \"route_group\": \"short\", \"max_trip_hrs\": 0.97, \"max_trip_route_group\": 0.97, \"below_cutoff\": 13, \"pct_below_cutoff\": 1.0, \"calitp_agency_name\": \"Thousand Oaks Transit\", \"caltrans_district\": \"07 - Los Angeles\", \"route_name\": \"Newbury Park - The Oaks Shopping Center\", \"route_short_name\": \"40\", \"route_id2\": \"40\", \"cutoff2\": 20, \"cutoff\": 0}, {\"calitp_itp_id\": 337, \"trip_key\": 209354926468341269, \"trip_id\": \"t_1235933_b_27094_tn_0\", \"shape_id\": \"p_900582\", \"route_id\": \"3638\", \"service_hours\": 0.83, \"trip_first_departure_ts\": 28800, \"trip_last_arrival_ts\": 31800, \"departure_hour\": 8, \"time_of_day\": \"AM Peak\", \"p25\": 0.83, \"p50\": 0.83, \"p75\": 0.97, \"p50_trip\": 1, \"fastest_trip\": 0, \"car_duration_hours\": 0.67, \"competitive_route\": 1, \"bus_multiplier\": 1.24, \"bus_difference\": 9.6, \"num_trips\": 13, \"num_competitive\": 13, \"pct_trips_competitive\": 1.0, \"bus_difference_spread\": 8.4, \"route_group\": \"short\", \"max_trip_hrs\": 0.97, \"max_trip_route_group\": 0.97, \"below_cutoff\": 13, \"pct_below_cutoff\": 1.0, \"calitp_agency_name\": \"Thousand Oaks Transit\", \"caltrans_district\": \"07 - Los Angeles\", \"route_name\": \"Newbury Park - The Oaks Shopping Center\", \"route_short_name\": \"40\", \"route_id2\": \"40\", \"cutoff2\": 20, \"cutoff\": 0}, {\"calitp_itp_id\": 337, \"trip_key\": -5437739256566684202, \"trip_id\": \"t_1229931_b_27094_tn_0\", \"shape_id\": \"p_900582\", \"route_id\": \"3638\", \"service_hours\": 0.83, \"trip_first_departure_ts\": 25200, \"trip_last_arrival_ts\": 28200, \"departure_hour\": 7, \"time_of_day\": \"AM Peak\", \"p25\": 0.83, \"p50\": 0.83, \"p75\": 0.97, \"p50_trip\": 1, \"fastest_trip\": 0, \"car_duration_hours\": 0.67, \"competitive_route\": 1, \"bus_multiplier\": 1.24, \"bus_difference\": 9.6, \"num_trips\": 13, \"num_competitive\": 13, \"pct_trips_competitive\": 1.0, \"bus_difference_spread\": 8.4, \"route_group\": \"short\", \"max_trip_hrs\": 0.97, \"max_trip_route_group\": 0.97, \"below_cutoff\": 13, \"pct_below_cutoff\": 1.0, \"calitp_agency_name\": \"Thousand Oaks Transit\", \"caltrans_district\": \"07 - Los Angeles\", \"route_name\": \"Newbury Park - The Oaks Shopping Center\", \"route_short_name\": \"40\", \"route_id2\": \"40\", \"cutoff2\": 20, \"cutoff\": 0}, {\"calitp_itp_id\": 337, \"trip_key\": -6621775892395641115, \"trip_id\": \"t_1235937_b_27094_tn_0\", \"shape_id\": \"p_900582\", \"route_id\": \"3638\", \"service_hours\": 0.83, \"trip_first_departure_ts\": 61200, \"trip_last_arrival_ts\": 64200, \"departure_hour\": 17, \"time_of_day\": \"PM Peak\", \"p25\": 0.83, \"p50\": 0.83, \"p75\": 0.97, \"p50_trip\": 1, \"fastest_trip\": 0, \"car_duration_hours\": 0.67, \"competitive_route\": 1, \"bus_multiplier\": 1.24, \"bus_difference\": 9.6, \"num_trips\": 13, \"num_competitive\": 13, \"pct_trips_competitive\": 1.0, \"bus_difference_spread\": 8.4, \"route_group\": \"short\", \"max_trip_hrs\": 0.97, \"max_trip_route_group\": 0.97, \"below_cutoff\": 13, \"pct_below_cutoff\": 1.0, \"calitp_agency_name\": \"Thousand Oaks Transit\", \"caltrans_district\": \"07 - Los Angeles\", \"route_name\": \"Newbury Park - The Oaks Shopping Center\", \"route_short_name\": \"40\", \"route_id2\": \"40\", \"cutoff2\": 20, \"cutoff\": 0}, {\"calitp_itp_id\": 337, \"trip_key\": -6696683000161121359, \"trip_id\": \"t_1235935_b_27094_tn_0\", \"shape_id\": \"p_900582\", \"route_id\": \"3638\", \"service_hours\": 0.83, \"trip_first_departure_ts\": 43200, \"trip_last_arrival_ts\": 46200, \"departure_hour\": 12, \"time_of_day\": \"Midday\", \"p25\": 0.83, \"p50\": 0.83, \"p75\": 0.97, \"p50_trip\": 1, \"fastest_trip\": 0, \"car_duration_hours\": 0.67, \"competitive_route\": 1, \"bus_multiplier\": 1.24, \"bus_difference\": 9.6, \"num_trips\": 13, \"num_competitive\": 13, \"pct_trips_competitive\": 1.0, \"bus_difference_spread\": 8.4, \"route_group\": \"short\", \"max_trip_hrs\": 0.97, \"max_trip_route_group\": 0.97, \"below_cutoff\": 13, \"pct_below_cutoff\": 1.0, \"calitp_agency_name\": \"Thousand Oaks Transit\", \"caltrans_district\": \"07 - Los Angeles\", \"route_name\": \"Newbury Park - The Oaks Shopping Center\", \"route_short_name\": \"40\", \"route_id2\": \"40\", \"cutoff2\": 20, \"cutoff\": 0}, {\"calitp_itp_id\": 337, \"trip_key\": 5506372218916925207, \"trip_id\": \"t_1235938_b_27094_tn_0\", \"shape_id\": \"p_900583\", \"route_id\": \"3638\", \"service_hours\": 0.83, \"trip_first_departure_ts\": 64800, \"trip_last_arrival_ts\": 67800, \"departure_hour\": 18, \"time_of_day\": \"PM Peak\", \"p25\": 0.83, \"p50\": 0.83, \"p75\": 0.97, \"p50_trip\": 1, \"fastest_trip\": 1, \"car_duration_hours\": 0.67, \"competitive_route\": 1, \"bus_multiplier\": 1.24, \"bus_difference\": 9.6, \"num_trips\": 13, \"num_competitive\": 13, \"pct_trips_competitive\": 1.0, \"bus_difference_spread\": 8.4, \"route_group\": \"short\", \"max_trip_hrs\": 0.97, \"max_trip_route_group\": 0.97, \"below_cutoff\": 13, \"pct_below_cutoff\": 1.0, \"calitp_agency_name\": \"Thousand Oaks Transit\", \"caltrans_district\": \"07 - Los Angeles\", \"route_name\": \"Newbury Park - The Oaks Shopping Center\", \"route_short_name\": \"40\", \"route_id2\": \"40\", \"cutoff2\": 20, \"cutoff\": 0}, {\"calitp_itp_id\": 337, \"trip_key\": 4641100964488913718, \"trip_id\": \"t_1235936_b_27094_tn_0\", \"shape_id\": \"p_900582\", \"route_id\": \"3638\", \"service_hours\": 0.83, \"trip_first_departure_ts\": 50400, \"trip_last_arrival_ts\": 53400, \"departure_hour\": 14, \"time_of_day\": \"Midday\", \"p25\": 0.83, \"p50\": 0.83, \"p75\": 0.97, \"p50_trip\": 1, \"fastest_trip\": 0, \"car_duration_hours\": 0.67, \"competitive_route\": 1, \"bus_multiplier\": 1.24, \"bus_difference\": 9.6, \"num_trips\": 13, \"num_competitive\": 13, \"pct_trips_competitive\": 1.0, \"bus_difference_spread\": 8.4, \"route_group\": \"short\", \"max_trip_hrs\": 0.97, \"max_trip_route_group\": 0.97, \"below_cutoff\": 13, \"pct_below_cutoff\": 1.0, \"calitp_agency_name\": \"Thousand Oaks Transit\", \"caltrans_district\": \"07 - Los Angeles\", \"route_name\": \"Newbury Park - The Oaks Shopping Center\", \"route_short_name\": \"40\", \"route_id2\": \"40\", \"cutoff2\": 20, \"cutoff\": 0}, {\"calitp_itp_id\": 337, \"trip_key\": 571110044697681553, \"trip_id\": \"t_1235932_b_27094_tn_0\", \"shape_id\": \"p_900581\", \"route_id\": \"3638\", \"service_hours\": 0.97, \"trip_first_departure_ts\": 57600, \"trip_last_arrival_ts\": 61080, \"departure_hour\": 16, \"time_of_day\": \"Midday\", \"p25\": 0.83, \"p50\": 0.83, \"p75\": 0.97, \"p50_trip\": 0, \"fastest_trip\": 0, \"car_duration_hours\": 0.67, \"competitive_route\": 1, \"bus_multiplier\": 1.45, \"bus_difference\": 18.0, \"num_trips\": 13, \"num_competitive\": 13, \"pct_trips_competitive\": 1.0, \"bus_difference_spread\": 8.4, \"route_group\": \"short\", \"max_trip_hrs\": 0.97, \"max_trip_route_group\": 0.97, \"below_cutoff\": 13, \"pct_below_cutoff\": 1.0, \"calitp_agency_name\": \"Thousand Oaks Transit\", \"caltrans_district\": \"07 - Los Angeles\", \"route_name\": \"Newbury Park - The Oaks Shopping Center\", \"route_short_name\": \"40\", \"route_id2\": \"40\", \"cutoff2\": 20, \"cutoff\": 0}, {\"calitp_itp_id\": 337, \"trip_key\": -1473672104509948238, \"trip_id\": \"t_1235928_b_27094_tn_0\", \"shape_id\": \"p_900581\", \"route_id\": \"3638\", \"service_hours\": 0.97, \"trip_first_departure_ts\": 32400, \"trip_last_arrival_ts\": 35880, \"departure_hour\": 9, \"time_of_day\": \"AM Peak\", \"p25\": 0.83, \"p50\": 0.83, \"p75\": 0.97, \"p50_trip\": 0, \"fastest_trip\": 0, \"car_duration_hours\": 0.67, \"competitive_route\": 1, \"bus_multiplier\": 1.45, \"bus_difference\": 18.0, \"num_trips\": 13, \"num_competitive\": 13, \"pct_trips_competitive\": 1.0, \"bus_difference_spread\": 8.4, \"route_group\": \"short\", \"max_trip_hrs\": 0.97, \"max_trip_route_group\": 0.97, \"below_cutoff\": 13, \"pct_below_cutoff\": 1.0, \"calitp_agency_name\": \"Thousand Oaks Transit\", \"caltrans_district\": \"07 - Los Angeles\", \"route_name\": \"Newbury Park - The Oaks Shopping Center\", \"route_short_name\": \"40\", \"route_id2\": \"40\", \"cutoff2\": 20, \"cutoff\": 0}, {\"calitp_itp_id\": 337, \"trip_key\": -2431505389973254096, \"trip_id\": \"t_1235929_b_27094_tn_0\", \"shape_id\": \"p_900581\", \"route_id\": \"3638\", \"service_hours\": 0.97, \"trip_first_departure_ts\": 36000, \"trip_last_arrival_ts\": 39480, \"departure_hour\": 10, \"time_of_day\": \"Midday\", \"p25\": 0.83, \"p50\": 0.83, \"p75\": 0.97, \"p50_trip\": 0, \"fastest_trip\": 0, \"car_duration_hours\": 0.67, \"competitive_route\": 1, \"bus_multiplier\": 1.45, \"bus_difference\": 18.0, \"num_trips\": 13, \"num_competitive\": 13, \"pct_trips_competitive\": 1.0, \"bus_difference_spread\": 8.4, \"route_group\": \"short\", \"max_trip_hrs\": 0.97, \"max_trip_route_group\": 0.97, \"below_cutoff\": 13, \"pct_below_cutoff\": 1.0, \"calitp_agency_name\": \"Thousand Oaks Transit\", \"caltrans_district\": \"07 - Los Angeles\", \"route_name\": \"Newbury Park - The Oaks Shopping Center\", \"route_short_name\": \"40\", \"route_id2\": \"40\", \"cutoff2\": 20, \"cutoff\": 0}, {\"calitp_itp_id\": 337, \"trip_key\": -8094520911414573698, \"trip_id\": \"t_1235930_b_27094_tn_0\", \"shape_id\": \"p_900581\", \"route_id\": \"3638\", \"service_hours\": 0.97, \"trip_first_departure_ts\": 46800, \"trip_last_arrival_ts\": 50280, \"departure_hour\": 13, \"time_of_day\": \"Midday\", \"p25\": 0.83, \"p50\": 0.83, \"p75\": 0.97, \"p50_trip\": 0, \"fastest_trip\": 0, \"car_duration_hours\": 0.67, \"competitive_route\": 1, \"bus_multiplier\": 1.45, \"bus_difference\": 18.0, \"num_trips\": 13, \"num_competitive\": 13, \"pct_trips_competitive\": 1.0, \"bus_difference_spread\": 8.4, \"route_group\": \"short\", \"max_trip_hrs\": 0.97, \"max_trip_route_group\": 0.97, \"below_cutoff\": 13, \"pct_below_cutoff\": 1.0, \"calitp_agency_name\": \"Thousand Oaks Transit\", \"caltrans_district\": \"07 - Los Angeles\", \"route_name\": \"Newbury Park - The Oaks Shopping Center\", \"route_short_name\": \"40\", \"route_id2\": \"40\", \"cutoff2\": 20, \"cutoff\": 0}, {\"calitp_itp_id\": 337, \"trip_key\": -2064112445706589811, \"trip_id\": \"t_1235931_b_27094_tn_0\", \"shape_id\": \"p_900581\", \"route_id\": \"3638\", \"service_hours\": 0.97, \"trip_first_departure_ts\": 54000, \"trip_last_arrival_ts\": 57480, \"departure_hour\": 15, \"time_of_day\": \"Midday\", \"p25\": 0.83, \"p50\": 0.83, \"p75\": 0.97, \"p50_trip\": 0, \"fastest_trip\": 0, \"car_duration_hours\": 0.67, \"competitive_route\": 1, \"bus_multiplier\": 1.45, \"bus_difference\": 18.0, \"num_trips\": 13, \"num_competitive\": 13, \"pct_trips_competitive\": 1.0, \"bus_difference_spread\": 8.4, \"route_group\": \"short\", \"max_trip_hrs\": 0.97, \"max_trip_route_group\": 0.97, \"below_cutoff\": 13, \"pct_below_cutoff\": 1.0, \"calitp_agency_name\": \"Thousand Oaks Transit\", \"caltrans_district\": \"07 - Los Angeles\", \"route_name\": \"Newbury Park - The Oaks Shopping Center\", \"route_short_name\": \"40\", \"route_id2\": \"40\", \"cutoff2\": 20, \"cutoff\": 0}, {\"calitp_itp_id\": 337, \"trip_key\": -8357797015416377564, \"trip_id\": \"t_1229925_b_27094_tn_0\", \"shape_id\": \"p_900581\", \"route_id\": \"3638\", \"service_hours\": 0.97, \"trip_first_departure_ts\": 21600, \"trip_last_arrival_ts\": 25080, \"departure_hour\": 6, \"time_of_day\": \"Owl Service\", \"p25\": 0.83, \"p50\": 0.83, \"p75\": 0.97, \"p50_trip\": 0, \"fastest_trip\": 0, \"car_duration_hours\": 0.67, \"competitive_route\": 1, \"bus_multiplier\": 1.45, \"bus_difference\": 18.0, \"num_trips\": 13, \"num_competitive\": 13, \"pct_trips_competitive\": 1.0, \"bus_difference_spread\": 8.4, \"route_group\": \"short\", \"max_trip_hrs\": 0.97, \"max_trip_route_group\": 0.97, \"below_cutoff\": 13, \"pct_below_cutoff\": 1.0, \"calitp_agency_name\": \"Thousand Oaks Transit\", \"caltrans_district\": \"07 - Los Angeles\", \"route_name\": \"Newbury Park - The Oaks Shopping Center\", \"route_short_name\": \"40\", \"route_id2\": \"40\", \"cutoff2\": 20, \"cutoff\": 0}, {\"calitp_itp_id\": 337, \"trip_key\": 6356284930724495451, \"trip_id\": \"t_1235940_b_27094_tn_0\", \"shape_id\": \"p_900590\", \"route_id\": \"3639\", \"service_hours\": 0.73, \"trip_first_departure_ts\": 64800, \"trip_last_arrival_ts\": 67440, \"departure_hour\": 18, \"time_of_day\": \"PM Peak\", \"p25\": 0.83, \"p50\": 0.83, \"p75\": 0.83, \"p50_trip\": 0, \"fastest_trip\": 1, \"car_duration_hours\": 0.51, \"competitive_route\": 1, \"bus_multiplier\": 1.43, \"bus_difference\": 13.2, \"num_trips\": 13, \"num_competitive\": 13, \"pct_trips_competitive\": 1.0, \"bus_difference_spread\": 6.0, \"route_group\": \"short\", \"max_trip_hrs\": 0.83, \"max_trip_route_group\": 0.83, \"below_cutoff\": 13, \"pct_below_cutoff\": 1.0, \"calitp_agency_name\": \"Thousand Oaks Transit\", \"caltrans_district\": \"07 - Los Angeles\", \"route_name\": \"Brimhall Library - Teen Center - Senior Center - The Oaks Shopping Center - Janss Marketplace - Los Robles Hospital - Cal Lutheran\", \"route_short_name\": \"41\", \"route_id2\": \"41\", \"cutoff2\": 20, \"cutoff\": 0}, {\"calitp_itp_id\": 337, \"trip_key\": 1104654808723534942, \"trip_id\": \"t_1317286_b_27094_tn_0\", \"shape_id\": \"p_111149\", \"route_id\": \"3639\", \"service_hours\": 0.83, \"trip_first_departure_ts\": 32400, \"trip_last_arrival_ts\": 35400, \"departure_hour\": 9, \"time_of_day\": \"AM Peak\", \"p25\": 0.83, \"p50\": 0.83, \"p75\": 0.83, \"p50_trip\": 1, \"fastest_trip\": 0, \"car_duration_hours\": 0.51, \"competitive_route\": 1, \"bus_multiplier\": 1.63, \"bus_difference\": 19.2, \"num_trips\": 13, \"num_competitive\": 13, \"pct_trips_competitive\": 1.0, \"bus_difference_spread\": 6.0, \"route_group\": \"short\", \"max_trip_hrs\": 0.83, \"max_trip_route_group\": 0.83, \"below_cutoff\": 13, \"pct_below_cutoff\": 1.0, \"calitp_agency_name\": \"Thousand Oaks Transit\", \"caltrans_district\": \"07 - Los Angeles\", \"route_name\": \"Brimhall Library - Teen Center - Senior Center - The Oaks Shopping Center - Janss Marketplace - Los Robles Hospital - Cal Lutheran\", \"route_short_name\": \"41\", \"route_id2\": \"41\", \"cutoff2\": 20, \"cutoff\": 0}, {\"calitp_itp_id\": 337, \"trip_key\": 7096089844723651939, \"trip_id\": \"t_1230045_b_27094_tn_0\", \"shape_id\": \"p_111149\", \"route_id\": \"3639\", \"service_hours\": 0.83, \"trip_first_departure_ts\": 21600, \"trip_last_arrival_ts\": 24600, \"departure_hour\": 6, \"time_of_day\": \"Owl Service\", \"p25\": 0.83, \"p50\": 0.83, \"p75\": 0.83, \"p50_trip\": 1, \"fastest_trip\": 0, \"car_duration_hours\": 0.51, \"competitive_route\": 1, \"bus_multiplier\": 1.63, \"bus_difference\": 19.2, \"num_trips\": 13, \"num_competitive\": 13, \"pct_trips_competitive\": 1.0, \"bus_difference_spread\": 6.0, \"route_group\": \"short\", \"max_trip_hrs\": 0.83, \"max_trip_route_group\": 0.83, \"below_cutoff\": 13, \"pct_below_cutoff\": 1.0, \"calitp_agency_name\": \"Thousand Oaks Transit\", \"caltrans_district\": \"07 - Los Angeles\", \"route_name\": \"Brimhall Library - Teen Center - Senior Center - The Oaks Shopping Center - Janss Marketplace - Los Robles Hospital - Cal Lutheran\", \"route_short_name\": \"41\", \"route_id2\": \"41\", \"cutoff2\": 20, \"cutoff\": 0}, {\"calitp_itp_id\": 337, \"trip_key\": 2304713837515405250, \"trip_id\": \"t_1317285_b_27094_tn_0\", \"shape_id\": \"p_111149\", \"route_id\": \"3639\", \"service_hours\": 0.83, \"trip_first_departure_ts\": 28800, \"trip_last_arrival_ts\": 31800, \"departure_hour\": 8, \"time_of_day\": \"AM Peak\", \"p25\": 0.83, \"p50\": 0.83, \"p75\": 0.83, \"p50_trip\": 1, \"fastest_trip\": 0, \"car_duration_hours\": 0.51, \"competitive_route\": 1, \"bus_multiplier\": 1.63, \"bus_difference\": 19.2, \"num_trips\": 13, \"num_competitive\": 13, \"pct_trips_competitive\": 1.0, \"bus_difference_spread\": 6.0, \"route_group\": \"short\", \"max_trip_hrs\": 0.83, \"max_trip_route_group\": 0.83, \"below_cutoff\": 13, \"pct_below_cutoff\": 1.0, \"calitp_agency_name\": \"Thousand Oaks Transit\", \"caltrans_district\": \"07 - Los Angeles\", \"route_name\": \"Brimhall Library - Teen Center - Senior Center - The Oaks Shopping Center - Janss Marketplace - Los Robles Hospital - Cal Lutheran\", \"route_short_name\": \"41\", \"route_id2\": \"41\", \"cutoff2\": 20, \"cutoff\": 0}, {\"calitp_itp_id\": 337, \"trip_key\": 527502444819434170, \"trip_id\": \"t_1317290_b_27094_tn_0\", \"shape_id\": \"p_111149\", \"route_id\": \"3639\", \"service_hours\": 0.83, \"trip_first_departure_ts\": 46800, \"trip_last_arrival_ts\": 49800, \"departure_hour\": 13, \"time_of_day\": \"Midday\", \"p25\": 0.83, \"p50\": 0.83, \"p75\": 0.83, \"p50_trip\": 1, \"fastest_trip\": 0, \"car_duration_hours\": 0.51, \"competitive_route\": 1, \"bus_multiplier\": 1.63, \"bus_difference\": 19.2, \"num_trips\": 13, \"num_competitive\": 13, \"pct_trips_competitive\": 1.0, \"bus_difference_spread\": 6.0, \"route_group\": \"short\", \"max_trip_hrs\": 0.83, \"max_trip_route_group\": 0.83, \"below_cutoff\": 13, \"pct_below_cutoff\": 1.0, \"calitp_agency_name\": \"Thousand Oaks Transit\", \"caltrans_district\": \"07 - Los Angeles\", \"route_name\": \"Brimhall Library - Teen Center - Senior Center - The Oaks Shopping Center - Janss Marketplace - Los Robles Hospital - Cal Lutheran\", \"route_short_name\": \"41\", \"route_id2\": \"41\", \"cutoff2\": 20, \"cutoff\": 0}, {\"calitp_itp_id\": 337, \"trip_key\": -5346827477957330776, \"trip_id\": \"t_1317291_b_27094_tn_0\", \"shape_id\": \"p_111149\", \"route_id\": \"3639\", \"service_hours\": 0.83, \"trip_first_departure_ts\": 50400, \"trip_last_arrival_ts\": 53400, \"departure_hour\": 14, \"time_of_day\": \"Midday\", \"p25\": 0.83, \"p50\": 0.83, \"p75\": 0.83, \"p50_trip\": 1, \"fastest_trip\": 0, \"car_duration_hours\": 0.51, \"competitive_route\": 1, \"bus_multiplier\": 1.63, \"bus_difference\": 19.2, \"num_trips\": 13, \"num_competitive\": 13, \"pct_trips_competitive\": 1.0, \"bus_difference_spread\": 6.0, \"route_group\": \"short\", \"max_trip_hrs\": 0.83, \"max_trip_route_group\": 0.83, \"below_cutoff\": 13, \"pct_below_cutoff\": 1.0, \"calitp_agency_name\": \"Thousand Oaks Transit\", \"caltrans_district\": \"07 - Los Angeles\", \"route_name\": \"Brimhall Library - Teen Center - Senior Center - The Oaks Shopping Center - Janss Marketplace - Los Robles Hospital - Cal Lutheran\", \"route_short_name\": \"41\", \"route_id2\": \"41\", \"cutoff2\": 20, \"cutoff\": 0}, {\"calitp_itp_id\": 337, \"trip_key\": -8134904347792543278, \"trip_id\": \"t_1317288_b_27094_tn_0\", \"shape_id\": \"p_111149\", \"route_id\": \"3639\", \"service_hours\": 0.83, \"trip_first_departure_ts\": 39600, \"trip_last_arrival_ts\": 42600, \"departure_hour\": 11, \"time_of_day\": \"Midday\", \"p25\": 0.83, \"p50\": 0.83, \"p75\": 0.83, \"p50_trip\": 1, \"fastest_trip\": 0, \"car_duration_hours\": 0.51, \"competitive_route\": 1, \"bus_multiplier\": 1.63, \"bus_difference\": 19.2, \"num_trips\": 13, \"num_competitive\": 13, \"pct_trips_competitive\": 1.0, \"bus_difference_spread\": 6.0, \"route_group\": \"short\", \"max_trip_hrs\": 0.83, \"max_trip_route_group\": 0.83, \"below_cutoff\": 13, \"pct_below_cutoff\": 1.0, \"calitp_agency_name\": \"Thousand Oaks Transit\", \"caltrans_district\": \"07 - Los Angeles\", \"route_name\": \"Brimhall Library - Teen Center - Senior Center - The Oaks Shopping Center - Janss Marketplace - Los Robles Hospital - Cal Lutheran\", \"route_short_name\": \"41\", \"route_id2\": \"41\", \"cutoff2\": 20, \"cutoff\": 0}, {\"calitp_itp_id\": 337, \"trip_key\": -8681561676251272436, \"trip_id\": \"t_1317294_b_27094_tn_0\", \"shape_id\": \"p_111149\", \"route_id\": \"3639\", \"service_hours\": 0.83, \"trip_first_departure_ts\": 61200, \"trip_last_arrival_ts\": 64200, \"departure_hour\": 17, \"time_of_day\": \"PM Peak\", \"p25\": 0.83, \"p50\": 0.83, \"p75\": 0.83, \"p50_trip\": 1, \"fastest_trip\": 0, \"car_duration_hours\": 0.51, \"competitive_route\": 1, \"bus_multiplier\": 1.63, \"bus_difference\": 19.2, \"num_trips\": 13, \"num_competitive\": 13, \"pct_trips_competitive\": 1.0, \"bus_difference_spread\": 6.0, \"route_group\": \"short\", \"max_trip_hrs\": 0.83, \"max_trip_route_group\": 0.83, \"below_cutoff\": 13, \"pct_below_cutoff\": 1.0, \"calitp_agency_name\": \"Thousand Oaks Transit\", \"caltrans_district\": \"07 - Los Angeles\", \"route_name\": \"Brimhall Library - Teen Center - Senior Center - The Oaks Shopping Center - Janss Marketplace - Los Robles Hospital - Cal Lutheran\", \"route_short_name\": \"41\", \"route_id2\": \"41\", \"cutoff2\": 20, \"cutoff\": 0}, {\"calitp_itp_id\": 337, \"trip_key\": 3003466328050706760, \"trip_id\": \"t_1317289_b_27094_tn_0\", \"shape_id\": \"p_111149\", \"route_id\": \"3639\", \"service_hours\": 0.83, \"trip_first_departure_ts\": 43200, \"trip_last_arrival_ts\": 46200, \"departure_hour\": 12, \"time_of_day\": \"Midday\", \"p25\": 0.83, \"p50\": 0.83, \"p75\": 0.83, \"p50_trip\": 1, \"fastest_trip\": 0, \"car_duration_hours\": 0.51, \"competitive_route\": 1, \"bus_multiplier\": 1.63, \"bus_difference\": 19.2, \"num_trips\": 13, \"num_competitive\": 13, \"pct_trips_competitive\": 1.0, \"bus_difference_spread\": 6.0, \"route_group\": \"short\", \"max_trip_hrs\": 0.83, \"max_trip_route_group\": 0.83, \"below_cutoff\": 13, \"pct_below_cutoff\": 1.0, \"calitp_agency_name\": \"Thousand Oaks Transit\", \"caltrans_district\": \"07 - Los Angeles\", \"route_name\": \"Brimhall Library - Teen Center - Senior Center - The Oaks Shopping Center - Janss Marketplace - Los Robles Hospital - Cal Lutheran\", \"route_short_name\": \"41\", \"route_id2\": \"41\", \"cutoff2\": 20, \"cutoff\": 0}, {\"calitp_itp_id\": 337, \"trip_key\": -5915891417952522518, \"trip_id\": \"t_1230046_b_27094_tn_0\", \"shape_id\": \"p_111149\", \"route_id\": \"3639\", \"service_hours\": 0.83, \"trip_first_departure_ts\": 25200, \"trip_last_arrival_ts\": 28200, \"departure_hour\": 7, \"time_of_day\": \"AM Peak\", \"p25\": 0.83, \"p50\": 0.83, \"p75\": 0.83, \"p50_trip\": 1, \"fastest_trip\": 0, \"car_duration_hours\": 0.51, \"competitive_route\": 1, \"bus_multiplier\": 1.63, \"bus_difference\": 19.2, \"num_trips\": 13, \"num_competitive\": 13, \"pct_trips_competitive\": 1.0, \"bus_difference_spread\": 6.0, \"route_group\": \"short\", \"max_trip_hrs\": 0.83, \"max_trip_route_group\": 0.83, \"below_cutoff\": 13, \"pct_below_cutoff\": 1.0, \"calitp_agency_name\": \"Thousand Oaks Transit\", \"caltrans_district\": \"07 - Los Angeles\", \"route_name\": \"Brimhall Library - Teen Center - Senior Center - The Oaks Shopping Center - Janss Marketplace - Los Robles Hospital - Cal Lutheran\", \"route_short_name\": \"41\", \"route_id2\": \"41\", \"cutoff2\": 20, \"cutoff\": 0}, {\"calitp_itp_id\": 337, \"trip_key\": -1138834084274760611, \"trip_id\": \"t_1317293_b_27094_tn_0\", \"shape_id\": \"p_111149\", \"route_id\": \"3639\", \"service_hours\": 0.83, \"trip_first_departure_ts\": 57600, \"trip_last_arrival_ts\": 60600, \"departure_hour\": 16, \"time_of_day\": \"Midday\", \"p25\": 0.83, \"p50\": 0.83, \"p75\": 0.83, \"p50_trip\": 1, \"fastest_trip\": 0, \"car_duration_hours\": 0.51, \"competitive_route\": 1, \"bus_multiplier\": 1.63, \"bus_difference\": 19.2, \"num_trips\": 13, \"num_competitive\": 13, \"pct_trips_competitive\": 1.0, \"bus_difference_spread\": 6.0, \"route_group\": \"short\", \"max_trip_hrs\": 0.83, \"max_trip_route_group\": 0.83, \"below_cutoff\": 13, \"pct_below_cutoff\": 1.0, \"calitp_agency_name\": \"Thousand Oaks Transit\", \"caltrans_district\": \"07 - Los Angeles\", \"route_name\": \"Brimhall Library - Teen Center - Senior Center - The Oaks Shopping Center - Janss Marketplace - Los Robles Hospital - Cal Lutheran\", \"route_short_name\": \"41\", \"route_id2\": \"41\", \"cutoff2\": 20, \"cutoff\": 0}, {\"calitp_itp_id\": 337, \"trip_key\": -3297138022389221325, \"trip_id\": \"t_1317292_b_27094_tn_0\", \"shape_id\": \"p_111149\", \"route_id\": \"3639\", \"service_hours\": 0.83, \"trip_first_departure_ts\": 54000, \"trip_last_arrival_ts\": 57000, \"departure_hour\": 15, \"time_of_day\": \"Midday\", \"p25\": 0.83, \"p50\": 0.83, \"p75\": 0.83, \"p50_trip\": 1, \"fastest_trip\": 0, \"car_duration_hours\": 0.51, \"competitive_route\": 1, \"bus_multiplier\": 1.63, \"bus_difference\": 19.2, \"num_trips\": 13, \"num_competitive\": 13, \"pct_trips_competitive\": 1.0, \"bus_difference_spread\": 6.0, \"route_group\": \"short\", \"max_trip_hrs\": 0.83, \"max_trip_route_group\": 0.83, \"below_cutoff\": 13, \"pct_below_cutoff\": 1.0, \"calitp_agency_name\": \"Thousand Oaks Transit\", \"caltrans_district\": \"07 - Los Angeles\", \"route_name\": \"Brimhall Library - Teen Center - Senior Center - The Oaks Shopping Center - Janss Marketplace - Los Robles Hospital - Cal Lutheran\", \"route_short_name\": \"41\", \"route_id2\": \"41\", \"cutoff2\": 20, \"cutoff\": 0}, {\"calitp_itp_id\": 337, \"trip_key\": 2804499718300023424, \"trip_id\": \"t_1317287_b_27094_tn_0\", \"shape_id\": \"p_111149\", \"route_id\": \"3639\", \"service_hours\": 0.83, \"trip_first_departure_ts\": 36000, \"trip_last_arrival_ts\": 39000, \"departure_hour\": 10, \"time_of_day\": \"Midday\", \"p25\": 0.83, \"p50\": 0.83, \"p75\": 0.83, \"p50_trip\": 1, \"fastest_trip\": 0, \"car_duration_hours\": 0.51, \"competitive_route\": 1, \"bus_multiplier\": 1.63, \"bus_difference\": 19.2, \"num_trips\": 13, \"num_competitive\": 13, \"pct_trips_competitive\": 1.0, \"bus_difference_spread\": 6.0, \"route_group\": \"short\", \"max_trip_hrs\": 0.83, \"max_trip_route_group\": 0.83, \"below_cutoff\": 13, \"pct_below_cutoff\": 1.0, \"calitp_agency_name\": \"Thousand Oaks Transit\", \"caltrans_district\": \"07 - Los Angeles\", \"route_name\": \"Brimhall Library - Teen Center - Senior Center - The Oaks Shopping Center - Janss Marketplace - Los Robles Hospital - Cal Lutheran\", \"route_short_name\": \"41\", \"route_id2\": \"41\", \"cutoff2\": 20, \"cutoff\": 0}, {\"calitp_itp_id\": 337, \"trip_key\": 1358325327274590038, \"trip_id\": \"t_1317307_b_27094_tn_0\", \"shape_id\": \"p_900592\", \"route_id\": \"3640\", \"service_hours\": 0.82, \"trip_first_departure_ts\": 32400, \"trip_last_arrival_ts\": 35340, \"departure_hour\": 9, \"time_of_day\": \"AM Peak\", \"p25\": 0.82, \"p50\": 0.82, \"p75\": 0.82, \"p50_trip\": 1, \"fastest_trip\": 0, \"car_duration_hours\": 0.62, \"competitive_route\": 1, \"bus_multiplier\": 1.32, \"bus_difference\": 12.0, \"num_trips\": 13, \"num_competitive\": 13, \"pct_trips_competitive\": 1.0, \"bus_difference_spread\": 0.0, \"route_group\": \"short\", \"max_trip_hrs\": 0.82, \"max_trip_route_group\": 0.82, \"below_cutoff\": 13, \"pct_below_cutoff\": 1.0, \"calitp_agency_name\": \"Thousand Oaks Transit\", \"caltrans_district\": \"07 - Los Angeles\", \"route_name\": \"Civic Arts Plaza (City Hall) - The Oaks Shopping Center - Transportation Center\", \"route_short_name\": \"43\", \"route_id2\": \"43\", \"cutoff2\": 20, \"cutoff\": 0}, {\"calitp_itp_id\": 337, \"trip_key\": 3527914113114180610, \"trip_id\": \"t_1317316_b_27094_tn_0\", \"shape_id\": \"p_900592\", \"route_id\": \"3640\", \"service_hours\": 0.82, \"trip_first_departure_ts\": 64800, \"trip_last_arrival_ts\": 67740, \"departure_hour\": 18, \"time_of_day\": \"PM Peak\", \"p25\": 0.82, \"p50\": 0.82, \"p75\": 0.82, \"p50_trip\": 1, \"fastest_trip\": 1, \"car_duration_hours\": 0.62, \"competitive_route\": 1, \"bus_multiplier\": 1.32, \"bus_difference\": 12.0, \"num_trips\": 13, \"num_competitive\": 13, \"pct_trips_competitive\": 1.0, \"bus_difference_spread\": 0.0, \"route_group\": \"short\", \"max_trip_hrs\": 0.82, \"max_trip_route_group\": 0.82, \"below_cutoff\": 13, \"pct_below_cutoff\": 1.0, \"calitp_agency_name\": \"Thousand Oaks Transit\", \"caltrans_district\": \"07 - Los Angeles\", \"route_name\": \"Civic Arts Plaza (City Hall) - The Oaks Shopping Center - Transportation Center\", \"route_short_name\": \"43\", \"route_id2\": \"43\", \"cutoff2\": 20, \"cutoff\": 0}, {\"calitp_itp_id\": 337, \"trip_key\": -5815335661553103789, \"trip_id\": \"t_1317308_b_27094_tn_0\", \"shape_id\": \"p_900592\", \"route_id\": \"3640\", \"service_hours\": 0.82, \"trip_first_departure_ts\": 36000, \"trip_last_arrival_ts\": 38940, \"departure_hour\": 10, \"time_of_day\": \"Midday\", \"p25\": 0.82, \"p50\": 0.82, \"p75\": 0.82, \"p50_trip\": 1, \"fastest_trip\": 0, \"car_duration_hours\": 0.62, \"competitive_route\": 1, \"bus_multiplier\": 1.32, \"bus_difference\": 12.0, \"num_trips\": 13, \"num_competitive\": 13, \"pct_trips_competitive\": 1.0, \"bus_difference_spread\": 0.0, \"route_group\": \"short\", \"max_trip_hrs\": 0.82, \"max_trip_route_group\": 0.82, \"below_cutoff\": 13, \"pct_below_cutoff\": 1.0, \"calitp_agency_name\": \"Thousand Oaks Transit\", \"caltrans_district\": \"07 - Los Angeles\", \"route_name\": \"Civic Arts Plaza (City Hall) - The Oaks Shopping Center - Transportation Center\", \"route_short_name\": \"43\", \"route_id2\": \"43\", \"cutoff2\": 20, \"cutoff\": 0}, {\"calitp_itp_id\": 337, \"trip_key\": -5078553225780790204, \"trip_id\": \"t_1317314_b_27094_tn_0\", \"shape_id\": \"p_900592\", \"route_id\": \"3640\", \"service_hours\": 0.82, \"trip_first_departure_ts\": 57600, \"trip_last_arrival_ts\": 60540, \"departure_hour\": 16, \"time_of_day\": \"Midday\", \"p25\": 0.82, \"p50\": 0.82, \"p75\": 0.82, \"p50_trip\": 1, \"fastest_trip\": 0, \"car_duration_hours\": 0.62, \"competitive_route\": 1, \"bus_multiplier\": 1.32, \"bus_difference\": 12.0, \"num_trips\": 13, \"num_competitive\": 13, \"pct_trips_competitive\": 1.0, \"bus_difference_spread\": 0.0, \"route_group\": \"short\", \"max_trip_hrs\": 0.82, \"max_trip_route_group\": 0.82, \"below_cutoff\": 13, \"pct_below_cutoff\": 1.0, \"calitp_agency_name\": \"Thousand Oaks Transit\", \"caltrans_district\": \"07 - Los Angeles\", \"route_name\": \"Civic Arts Plaza (City Hall) - The Oaks Shopping Center - Transportation Center\", \"route_short_name\": \"43\", \"route_id2\": \"43\", \"cutoff2\": 20, \"cutoff\": 0}, {\"calitp_itp_id\": 337, \"trip_key\": 5326212799935033881, \"trip_id\": \"t_1317311_b_27094_tn_0\", \"shape_id\": \"p_900592\", \"route_id\": \"3640\", \"service_hours\": 0.82, \"trip_first_departure_ts\": 46800, \"trip_last_arrival_ts\": 49740, \"departure_hour\": 13, \"time_of_day\": \"Midday\", \"p25\": 0.82, \"p50\": 0.82, \"p75\": 0.82, \"p50_trip\": 1, \"fastest_trip\": 0, \"car_duration_hours\": 0.62, \"competitive_route\": 1, \"bus_multiplier\": 1.32, \"bus_difference\": 12.0, \"num_trips\": 13, \"num_competitive\": 13, \"pct_trips_competitive\": 1.0, \"bus_difference_spread\": 0.0, \"route_group\": \"short\", \"max_trip_hrs\": 0.82, \"max_trip_route_group\": 0.82, \"below_cutoff\": 13, \"pct_below_cutoff\": 1.0, \"calitp_agency_name\": \"Thousand Oaks Transit\", \"caltrans_district\": \"07 - Los Angeles\", \"route_name\": \"Civic Arts Plaza (City Hall) - The Oaks Shopping Center - Transportation Center\", \"route_short_name\": \"43\", \"route_id2\": \"43\", \"cutoff2\": 20, \"cutoff\": 0}, {\"calitp_itp_id\": 337, \"trip_key\": -2831959076268491258, \"trip_id\": \"t_1230056_b_27094_tn_0\", \"shape_id\": \"p_900592\", \"route_id\": \"3640\", \"service_hours\": 0.82, \"trip_first_departure_ts\": 25200, \"trip_last_arrival_ts\": 28140, \"departure_hour\": 7, \"time_of_day\": \"AM Peak\", \"p25\": 0.82, \"p50\": 0.82, \"p75\": 0.82, \"p50_trip\": 1, \"fastest_trip\": 0, \"car_duration_hours\": 0.62, \"competitive_route\": 1, \"bus_multiplier\": 1.32, \"bus_difference\": 12.0, \"num_trips\": 13, \"num_competitive\": 13, \"pct_trips_competitive\": 1.0, \"bus_difference_spread\": 0.0, \"route_group\": \"short\", \"max_trip_hrs\": 0.82, \"max_trip_route_group\": 0.82, \"below_cutoff\": 13, \"pct_below_cutoff\": 1.0, \"calitp_agency_name\": \"Thousand Oaks Transit\", \"caltrans_district\": \"07 - Los Angeles\", \"route_name\": \"Civic Arts Plaza (City Hall) - The Oaks Shopping Center - Transportation Center\", \"route_short_name\": \"43\", \"route_id2\": \"43\", \"cutoff2\": 20, \"cutoff\": 0}, {\"calitp_itp_id\": 337, \"trip_key\": -4037674381576649544, \"trip_id\": \"t_1317306_b_27094_tn_0\", \"shape_id\": \"p_900592\", \"route_id\": \"3640\", \"service_hours\": 0.82, \"trip_first_departure_ts\": 28800, \"trip_last_arrival_ts\": 31740, \"departure_hour\": 8, \"time_of_day\": \"AM Peak\", \"p25\": 0.82, \"p50\": 0.82, \"p75\": 0.82, \"p50_trip\": 1, \"fastest_trip\": 0, \"car_duration_hours\": 0.62, \"competitive_route\": 1, \"bus_multiplier\": 1.32, \"bus_difference\": 12.0, \"num_trips\": 13, \"num_competitive\": 13, \"pct_trips_competitive\": 1.0, \"bus_difference_spread\": 0.0, \"route_group\": \"short\", \"max_trip_hrs\": 0.82, \"max_trip_route_group\": 0.82, \"below_cutoff\": 13, \"pct_below_cutoff\": 1.0, \"calitp_agency_name\": \"Thousand Oaks Transit\", \"caltrans_district\": \"07 - Los Angeles\", \"route_name\": \"Civic Arts Plaza (City Hall) - The Oaks Shopping Center - Transportation Center\", \"route_short_name\": \"43\", \"route_id2\": \"43\", \"cutoff2\": 20, \"cutoff\": 0}, {\"calitp_itp_id\": 337, \"trip_key\": 8032959870998234560, \"trip_id\": \"t_1317312_b_27094_tn_0\", \"shape_id\": \"p_900592\", \"route_id\": \"3640\", \"service_hours\": 0.82, \"trip_first_departure_ts\": 50400, \"trip_last_arrival_ts\": 53340, \"departure_hour\": 14, \"time_of_day\": \"Midday\", \"p25\": 0.82, \"p50\": 0.82, \"p75\": 0.82, \"p50_trip\": 1, \"fastest_trip\": 0, \"car_duration_hours\": 0.62, \"competitive_route\": 1, \"bus_multiplier\": 1.32, \"bus_difference\": 12.0, \"num_trips\": 13, \"num_competitive\": 13, \"pct_trips_competitive\": 1.0, \"bus_difference_spread\": 0.0, \"route_group\": \"short\", \"max_trip_hrs\": 0.82, \"max_trip_route_group\": 0.82, \"below_cutoff\": 13, \"pct_below_cutoff\": 1.0, \"calitp_agency_name\": \"Thousand Oaks Transit\", \"caltrans_district\": \"07 - Los Angeles\", \"route_name\": \"Civic Arts Plaza (City Hall) - The Oaks Shopping Center - Transportation Center\", \"route_short_name\": \"43\", \"route_id2\": \"43\", \"cutoff2\": 20, \"cutoff\": 0}, {\"calitp_itp_id\": 337, \"trip_key\": -7808968342740784205, \"trip_id\": \"t_1317313_b_27094_tn_0\", \"shape_id\": \"p_900592\", \"route_id\": \"3640\", \"service_hours\": 0.82, \"trip_first_departure_ts\": 54000, \"trip_last_arrival_ts\": 56940, \"departure_hour\": 15, \"time_of_day\": \"Midday\", \"p25\": 0.82, \"p50\": 0.82, \"p75\": 0.82, \"p50_trip\": 1, \"fastest_trip\": 0, \"car_duration_hours\": 0.62, \"competitive_route\": 1, \"bus_multiplier\": 1.32, \"bus_difference\": 12.0, \"num_trips\": 13, \"num_competitive\": 13, \"pct_trips_competitive\": 1.0, \"bus_difference_spread\": 0.0, \"route_group\": \"short\", \"max_trip_hrs\": 0.82, \"max_trip_route_group\": 0.82, \"below_cutoff\": 13, \"pct_below_cutoff\": 1.0, \"calitp_agency_name\": \"Thousand Oaks Transit\", \"caltrans_district\": \"07 - Los Angeles\", \"route_name\": \"Civic Arts Plaza (City Hall) - The Oaks Shopping Center - Transportation Center\", \"route_short_name\": \"43\", \"route_id2\": \"43\", \"cutoff2\": 20, \"cutoff\": 0}, {\"calitp_itp_id\": 337, \"trip_key\": 174905476332898893, \"trip_id\": \"t_1317315_b_27094_tn_0\", \"shape_id\": \"p_900592\", \"route_id\": \"3640\", \"service_hours\": 0.82, \"trip_first_departure_ts\": 61200, \"trip_last_arrival_ts\": 64140, \"departure_hour\": 17, \"time_of_day\": \"PM Peak\", \"p25\": 0.82, \"p50\": 0.82, \"p75\": 0.82, \"p50_trip\": 1, \"fastest_trip\": 0, \"car_duration_hours\": 0.62, \"competitive_route\": 1, \"bus_multiplier\": 1.32, \"bus_difference\": 12.0, \"num_trips\": 13, \"num_competitive\": 13, \"pct_trips_competitive\": 1.0, \"bus_difference_spread\": 0.0, \"route_group\": \"short\", \"max_trip_hrs\": 0.82, \"max_trip_route_group\": 0.82, \"below_cutoff\": 13, \"pct_below_cutoff\": 1.0, \"calitp_agency_name\": \"Thousand Oaks Transit\", \"caltrans_district\": \"07 - Los Angeles\", \"route_name\": \"Civic Arts Plaza (City Hall) - The Oaks Shopping Center - Transportation Center\", \"route_short_name\": \"43\", \"route_id2\": \"43\", \"cutoff2\": 20, \"cutoff\": 0}, {\"calitp_itp_id\": 337, \"trip_key\": 1386274926039851253, \"trip_id\": \"t_1230055_b_27094_tn_0\", \"shape_id\": \"p_900592\", \"route_id\": \"3640\", \"service_hours\": 0.82, \"trip_first_departure_ts\": 21600, \"trip_last_arrival_ts\": 24540, \"departure_hour\": 6, \"time_of_day\": \"Owl Service\", \"p25\": 0.82, \"p50\": 0.82, \"p75\": 0.82, \"p50_trip\": 1, \"fastest_trip\": 0, \"car_duration_hours\": 0.62, \"competitive_route\": 1, \"bus_multiplier\": 1.32, \"bus_difference\": 12.0, \"num_trips\": 13, \"num_competitive\": 13, \"pct_trips_competitive\": 1.0, \"bus_difference_spread\": 0.0, \"route_group\": \"short\", \"max_trip_hrs\": 0.82, \"max_trip_route_group\": 0.82, \"below_cutoff\": 13, \"pct_below_cutoff\": 1.0, \"calitp_agency_name\": \"Thousand Oaks Transit\", \"caltrans_district\": \"07 - Los Angeles\", \"route_name\": \"Civic Arts Plaza (City Hall) - The Oaks Shopping Center - Transportation Center\", \"route_short_name\": \"43\", \"route_id2\": \"43\", \"cutoff2\": 20, \"cutoff\": 0}, {\"calitp_itp_id\": 337, \"trip_key\": -3608918615386158952, \"trip_id\": \"t_1317309_b_27094_tn_0\", \"shape_id\": \"p_900592\", \"route_id\": \"3640\", \"service_hours\": 0.82, \"trip_first_departure_ts\": 39600, \"trip_last_arrival_ts\": 42540, \"departure_hour\": 11, \"time_of_day\": \"Midday\", \"p25\": 0.82, \"p50\": 0.82, \"p75\": 0.82, \"p50_trip\": 1, \"fastest_trip\": 0, \"car_duration_hours\": 0.62, \"competitive_route\": 1, \"bus_multiplier\": 1.32, \"bus_difference\": 12.0, \"num_trips\": 13, \"num_competitive\": 13, \"pct_trips_competitive\": 1.0, \"bus_difference_spread\": 0.0, \"route_group\": \"short\", \"max_trip_hrs\": 0.82, \"max_trip_route_group\": 0.82, \"below_cutoff\": 13, \"pct_below_cutoff\": 1.0, \"calitp_agency_name\": \"Thousand Oaks Transit\", \"caltrans_district\": \"07 - Los Angeles\", \"route_name\": \"Civic Arts Plaza (City Hall) - The Oaks Shopping Center - Transportation Center\", \"route_short_name\": \"43\", \"route_id2\": \"43\", \"cutoff2\": 20, \"cutoff\": 0}, {\"calitp_itp_id\": 337, \"trip_key\": 4442988126574455679, \"trip_id\": \"t_1317310_b_27094_tn_0\", \"shape_id\": \"p_900592\", \"route_id\": \"3640\", \"service_hours\": 0.82, \"trip_first_departure_ts\": 43200, \"trip_last_arrival_ts\": 46140, \"departure_hour\": 12, \"time_of_day\": \"Midday\", \"p25\": 0.82, \"p50\": 0.82, \"p75\": 0.82, \"p50_trip\": 1, \"fastest_trip\": 0, \"car_duration_hours\": 0.62, \"competitive_route\": 1, \"bus_multiplier\": 1.32, \"bus_difference\": 12.0, \"num_trips\": 13, \"num_competitive\": 13, \"pct_trips_competitive\": 1.0, \"bus_difference_spread\": 0.0, \"route_group\": \"short\", \"max_trip_hrs\": 0.82, \"max_trip_route_group\": 0.82, \"below_cutoff\": 13, \"pct_below_cutoff\": 1.0, \"calitp_agency_name\": \"Thousand Oaks Transit\", \"caltrans_district\": \"07 - Los Angeles\", \"route_name\": \"Civic Arts Plaza (City Hall) - The Oaks Shopping Center - Transportation Center\", \"route_short_name\": \"43\", \"route_id2\": \"43\", \"cutoff2\": 20, \"cutoff\": 0}, {\"calitp_itp_id\": 337, \"trip_key\": -3339647991534680967, \"trip_id\": \"t_1230052_b_27094_tn_0\", \"shape_id\": \"p_900591\", \"route_id\": \"6799\", \"service_hours\": 0.82, \"trip_first_departure_ts\": 25200, \"trip_last_arrival_ts\": 28140, \"departure_hour\": 7, \"time_of_day\": \"AM Peak\", \"p25\": 0.82, \"p50\": 0.82, \"p75\": 0.82, \"p50_trip\": 1, \"fastest_trip\": 0, \"car_duration_hours\": 0.58, \"competitive_route\": 1, \"bus_multiplier\": 1.41, \"bus_difference\": 14.4, \"num_trips\": 13, \"num_competitive\": 13, \"pct_trips_competitive\": 1.0, \"bus_difference_spread\": 0.0, \"route_group\": \"short\", \"max_trip_hrs\": 0.82, \"max_trip_route_group\": 0.82, \"below_cutoff\": 13, \"pct_below_cutoff\": 1.0, \"calitp_agency_name\": \"Thousand Oaks Transit\", \"caltrans_district\": \"07 - Los Angeles\", \"route_name\": \"The Oaks - Teen And Senior Centers - Clu - Los Robles Hospital - The Oaks\", \"route_short_name\": \"42\", \"route_id2\": \"42\", \"cutoff2\": 20, \"cutoff\": 0}, {\"calitp_itp_id\": 337, \"trip_key\": -7812706225654533933, \"trip_id\": \"t_1317350_b_27094_tn_0\", \"shape_id\": \"p_900591\", \"route_id\": \"6799\", \"service_hours\": 0.82, \"trip_first_departure_ts\": 28800, \"trip_last_arrival_ts\": 31740, \"departure_hour\": 8, \"time_of_day\": \"AM Peak\", \"p25\": 0.82, \"p50\": 0.82, \"p75\": 0.82, \"p50_trip\": 1, \"fastest_trip\": 0, \"car_duration_hours\": 0.58, \"competitive_route\": 1, \"bus_multiplier\": 1.41, \"bus_difference\": 14.4, \"num_trips\": 13, \"num_competitive\": 13, \"pct_trips_competitive\": 1.0, \"bus_difference_spread\": 0.0, \"route_group\": \"short\", \"max_trip_hrs\": 0.82, \"max_trip_route_group\": 0.82, \"below_cutoff\": 13, \"pct_below_cutoff\": 1.0, \"calitp_agency_name\": \"Thousand Oaks Transit\", \"caltrans_district\": \"07 - Los Angeles\", \"route_name\": \"The Oaks - Teen And Senior Centers - Clu - Los Robles Hospital - The Oaks\", \"route_short_name\": \"42\", \"route_id2\": \"42\", \"cutoff2\": 20, \"cutoff\": 0}, {\"calitp_itp_id\": 337, \"trip_key\": -2901946403960055063, \"trip_id\": \"t_1317352_b_27094_tn_0\", \"shape_id\": \"p_900591\", \"route_id\": \"6799\", \"service_hours\": 0.82, \"trip_first_departure_ts\": 36000, \"trip_last_arrival_ts\": 38940, \"departure_hour\": 10, \"time_of_day\": \"Midday\", \"p25\": 0.82, \"p50\": 0.82, \"p75\": 0.82, \"p50_trip\": 1, \"fastest_trip\": 0, \"car_duration_hours\": 0.58, \"competitive_route\": 1, \"bus_multiplier\": 1.41, \"bus_difference\": 14.4, \"num_trips\": 13, \"num_competitive\": 13, \"pct_trips_competitive\": 1.0, \"bus_difference_spread\": 0.0, \"route_group\": \"short\", \"max_trip_hrs\": 0.82, \"max_trip_route_group\": 0.82, \"below_cutoff\": 13, \"pct_below_cutoff\": 1.0, \"calitp_agency_name\": \"Thousand Oaks Transit\", \"caltrans_district\": \"07 - Los Angeles\", \"route_name\": \"The Oaks - Teen And Senior Centers - Clu - Los Robles Hospital - The Oaks\", \"route_short_name\": \"42\", \"route_id2\": \"42\", \"cutoff2\": 20, \"cutoff\": 0}, {\"calitp_itp_id\": 337, \"trip_key\": -811125851311968377, \"trip_id\": \"t_1230049_b_27094_tn_0\", \"shape_id\": \"p_900591\", \"route_id\": \"6799\", \"service_hours\": 0.82, \"trip_first_departure_ts\": 21600, \"trip_last_arrival_ts\": 24540, \"departure_hour\": 6, \"time_of_day\": \"Owl Service\", \"p25\": 0.82, \"p50\": 0.82, \"p75\": 0.82, \"p50_trip\": 1, \"fastest_trip\": 0, \"car_duration_hours\": 0.58, \"competitive_route\": 1, \"bus_multiplier\": 1.41, \"bus_difference\": 14.4, \"num_trips\": 13, \"num_competitive\": 13, \"pct_trips_competitive\": 1.0, \"bus_difference_spread\": 0.0, \"route_group\": \"short\", \"max_trip_hrs\": 0.82, \"max_trip_route_group\": 0.82, \"below_cutoff\": 13, \"pct_below_cutoff\": 1.0, \"calitp_agency_name\": \"Thousand Oaks Transit\", \"caltrans_district\": \"07 - Los Angeles\", \"route_name\": \"The Oaks - Teen And Senior Centers - Clu - Los Robles Hospital - The Oaks\", \"route_short_name\": \"42\", \"route_id2\": \"42\", \"cutoff2\": 20, \"cutoff\": 0}, {\"calitp_itp_id\": 337, \"trip_key\": -4476578932371071111, \"trip_id\": \"t_1317353_b_27094_tn_0\", \"shape_id\": \"p_900591\", \"route_id\": \"6799\", \"service_hours\": 0.82, \"trip_first_departure_ts\": 39600, \"trip_last_arrival_ts\": 42540, \"departure_hour\": 11, \"time_of_day\": \"Midday\", \"p25\": 0.82, \"p50\": 0.82, \"p75\": 0.82, \"p50_trip\": 1, \"fastest_trip\": 0, \"car_duration_hours\": 0.58, \"competitive_route\": 1, \"bus_multiplier\": 1.41, \"bus_difference\": 14.4, \"num_trips\": 13, \"num_competitive\": 13, \"pct_trips_competitive\": 1.0, \"bus_difference_spread\": 0.0, \"route_group\": \"short\", \"max_trip_hrs\": 0.82, \"max_trip_route_group\": 0.82, \"below_cutoff\": 13, \"pct_below_cutoff\": 1.0, \"calitp_agency_name\": \"Thousand Oaks Transit\", \"caltrans_district\": \"07 - Los Angeles\", \"route_name\": \"The Oaks - Teen And Senior Centers - Clu - Los Robles Hospital - The Oaks\", \"route_short_name\": \"42\", \"route_id2\": \"42\", \"cutoff2\": 20, \"cutoff\": 0}, {\"calitp_itp_id\": 337, \"trip_key\": -7749798268344435151, \"trip_id\": \"t_1317355_b_27094_tn_0\", \"shape_id\": \"p_900591\", \"route_id\": \"6799\", \"service_hours\": 0.82, \"trip_first_departure_ts\": 46800, \"trip_last_arrival_ts\": 49740, \"departure_hour\": 13, \"time_of_day\": \"Midday\", \"p25\": 0.82, \"p50\": 0.82, \"p75\": 0.82, \"p50_trip\": 1, \"fastest_trip\": 0, \"car_duration_hours\": 0.58, \"competitive_route\": 1, \"bus_multiplier\": 1.41, \"bus_difference\": 14.4, \"num_trips\": 13, \"num_competitive\": 13, \"pct_trips_competitive\": 1.0, \"bus_difference_spread\": 0.0, \"route_group\": \"short\", \"max_trip_hrs\": 0.82, \"max_trip_route_group\": 0.82, \"below_cutoff\": 13, \"pct_below_cutoff\": 1.0, \"calitp_agency_name\": \"Thousand Oaks Transit\", \"caltrans_district\": \"07 - Los Angeles\", \"route_name\": \"The Oaks - Teen And Senior Centers - Clu - Los Robles Hospital - The Oaks\", \"route_short_name\": \"42\", \"route_id2\": \"42\", \"cutoff2\": 20, \"cutoff\": 0}, {\"calitp_itp_id\": 337, \"trip_key\": -8042224096457433652, \"trip_id\": \"t_1317351_b_27094_tn_0\", \"shape_id\": \"p_900591\", \"route_id\": \"6799\", \"service_hours\": 0.82, \"trip_first_departure_ts\": 32400, \"trip_last_arrival_ts\": 35340, \"departure_hour\": 9, \"time_of_day\": \"AM Peak\", \"p25\": 0.82, \"p50\": 0.82, \"p75\": 0.82, \"p50_trip\": 1, \"fastest_trip\": 0, \"car_duration_hours\": 0.58, \"competitive_route\": 1, \"bus_multiplier\": 1.41, \"bus_difference\": 14.4, \"num_trips\": 13, \"num_competitive\": 13, \"pct_trips_competitive\": 1.0, \"bus_difference_spread\": 0.0, \"route_group\": \"short\", \"max_trip_hrs\": 0.82, \"max_trip_route_group\": 0.82, \"below_cutoff\": 13, \"pct_below_cutoff\": 1.0, \"calitp_agency_name\": \"Thousand Oaks Transit\", \"caltrans_district\": \"07 - Los Angeles\", \"route_name\": \"The Oaks - Teen And Senior Centers - Clu - Los Robles Hospital - The Oaks\", \"route_short_name\": \"42\", \"route_id2\": \"42\", \"cutoff2\": 20, \"cutoff\": 0}, {\"calitp_itp_id\": 337, \"trip_key\": -921040881378149292, \"trip_id\": \"t_1317354_b_27094_tn_0\", \"shape_id\": \"p_900591\", \"route_id\": \"6799\", \"service_hours\": 0.82, \"trip_first_departure_ts\": 43200, \"trip_last_arrival_ts\": 46140, \"departure_hour\": 12, \"time_of_day\": \"Midday\", \"p25\": 0.82, \"p50\": 0.82, \"p75\": 0.82, \"p50_trip\": 1, \"fastest_trip\": 0, \"car_duration_hours\": 0.58, \"competitive_route\": 1, \"bus_multiplier\": 1.41, \"bus_difference\": 14.4, \"num_trips\": 13, \"num_competitive\": 13, \"pct_trips_competitive\": 1.0, \"bus_difference_spread\": 0.0, \"route_group\": \"short\", \"max_trip_hrs\": 0.82, \"max_trip_route_group\": 0.82, \"below_cutoff\": 13, \"pct_below_cutoff\": 1.0, \"calitp_agency_name\": \"Thousand Oaks Transit\", \"caltrans_district\": \"07 - Los Angeles\", \"route_name\": \"The Oaks - Teen And Senior Centers - Clu - Los Robles Hospital - The Oaks\", \"route_short_name\": \"42\", \"route_id2\": \"42\", \"cutoff2\": 20, \"cutoff\": 0}, {\"calitp_itp_id\": 337, \"trip_key\": 284123079588749380, \"trip_id\": \"t_1317358_b_27094_tn_0\", \"shape_id\": \"p_900591\", \"route_id\": \"6799\", \"service_hours\": 0.82, \"trip_first_departure_ts\": 57600, \"trip_last_arrival_ts\": 60540, \"departure_hour\": 16, \"time_of_day\": \"Midday\", \"p25\": 0.82, \"p50\": 0.82, \"p75\": 0.82, \"p50_trip\": 1, \"fastest_trip\": 0, \"car_duration_hours\": 0.58, \"competitive_route\": 1, \"bus_multiplier\": 1.41, \"bus_difference\": 14.4, \"num_trips\": 13, \"num_competitive\": 13, \"pct_trips_competitive\": 1.0, \"bus_difference_spread\": 0.0, \"route_group\": \"short\", \"max_trip_hrs\": 0.82, \"max_trip_route_group\": 0.82, \"below_cutoff\": 13, \"pct_below_cutoff\": 1.0, \"calitp_agency_name\": \"Thousand Oaks Transit\", \"caltrans_district\": \"07 - Los Angeles\", \"route_name\": \"The Oaks - Teen And Senior Centers - Clu - Los Robles Hospital - The Oaks\", \"route_short_name\": \"42\", \"route_id2\": \"42\", \"cutoff2\": 20, \"cutoff\": 0}, {\"calitp_itp_id\": 337, \"trip_key\": -4381000657039983348, \"trip_id\": \"t_1317357_b_27094_tn_0\", \"shape_id\": \"p_900591\", \"route_id\": \"6799\", \"service_hours\": 0.82, \"trip_first_departure_ts\": 54000, \"trip_last_arrival_ts\": 56940, \"departure_hour\": 15, \"time_of_day\": \"Midday\", \"p25\": 0.82, \"p50\": 0.82, \"p75\": 0.82, \"p50_trip\": 1, \"fastest_trip\": 0, \"car_duration_hours\": 0.58, \"competitive_route\": 1, \"bus_multiplier\": 1.41, \"bus_difference\": 14.4, \"num_trips\": 13, \"num_competitive\": 13, \"pct_trips_competitive\": 1.0, \"bus_difference_spread\": 0.0, \"route_group\": \"short\", \"max_trip_hrs\": 0.82, \"max_trip_route_group\": 0.82, \"below_cutoff\": 13, \"pct_below_cutoff\": 1.0, \"calitp_agency_name\": \"Thousand Oaks Transit\", \"caltrans_district\": \"07 - Los Angeles\", \"route_name\": \"The Oaks - Teen And Senior Centers - Clu - Los Robles Hospital - The Oaks\", \"route_short_name\": \"42\", \"route_id2\": \"42\", \"cutoff2\": 20, \"cutoff\": 0}, {\"calitp_itp_id\": 337, \"trip_key\": -6840087071432211258, \"trip_id\": \"t_1317359_b_27094_tn_0\", \"shape_id\": \"p_900591\", \"route_id\": \"6799\", \"service_hours\": 0.82, \"trip_first_departure_ts\": 61200, \"trip_last_arrival_ts\": 64140, \"departure_hour\": 17, \"time_of_day\": \"PM Peak\", \"p25\": 0.82, \"p50\": 0.82, \"p75\": 0.82, \"p50_trip\": 1, \"fastest_trip\": 0, \"car_duration_hours\": 0.58, \"competitive_route\": 1, \"bus_multiplier\": 1.41, \"bus_difference\": 14.4, \"num_trips\": 13, \"num_competitive\": 13, \"pct_trips_competitive\": 1.0, \"bus_difference_spread\": 0.0, \"route_group\": \"short\", \"max_trip_hrs\": 0.82, \"max_trip_route_group\": 0.82, \"below_cutoff\": 13, \"pct_below_cutoff\": 1.0, \"calitp_agency_name\": \"Thousand Oaks Transit\", \"caltrans_district\": \"07 - Los Angeles\", \"route_name\": \"The Oaks - Teen And Senior Centers - Clu - Los Robles Hospital - The Oaks\", \"route_short_name\": \"42\", \"route_id2\": \"42\", \"cutoff2\": 20, \"cutoff\": 0}, {\"calitp_itp_id\": 337, \"trip_key\": 4837374424228184135, \"trip_id\": \"t_1317360_b_27094_tn_0\", \"shape_id\": \"p_900591\", \"route_id\": \"6799\", \"service_hours\": 0.82, \"trip_first_departure_ts\": 64800, \"trip_last_arrival_ts\": 67740, \"departure_hour\": 18, \"time_of_day\": \"PM Peak\", \"p25\": 0.82, \"p50\": 0.82, \"p75\": 0.82, \"p50_trip\": 1, \"fastest_trip\": 1, \"car_duration_hours\": 0.58, \"competitive_route\": 1, \"bus_multiplier\": 1.41, \"bus_difference\": 14.4, \"num_trips\": 13, \"num_competitive\": 13, \"pct_trips_competitive\": 1.0, \"bus_difference_spread\": 0.0, \"route_group\": \"short\", \"max_trip_hrs\": 0.82, \"max_trip_route_group\": 0.82, \"below_cutoff\": 13, \"pct_below_cutoff\": 1.0, \"calitp_agency_name\": \"Thousand Oaks Transit\", \"caltrans_district\": \"07 - Los Angeles\", \"route_name\": \"The Oaks - Teen And Senior Centers - Clu - Los Robles Hospital - The Oaks\", \"route_short_name\": \"42\", \"route_id2\": \"42\", \"cutoff2\": 20, \"cutoff\": 0}, {\"calitp_itp_id\": 337, \"trip_key\": -8368667360634585597, \"trip_id\": \"t_1317356_b_27094_tn_0\", \"shape_id\": \"p_900591\", \"route_id\": \"6799\", \"service_hours\": 0.82, \"trip_first_departure_ts\": 50400, \"trip_last_arrival_ts\": 53340, \"departure_hour\": 14, \"time_of_day\": \"Midday\", \"p25\": 0.82, \"p50\": 0.82, \"p75\": 0.82, \"p50_trip\": 1, \"fastest_trip\": 0, \"car_duration_hours\": 0.58, \"competitive_route\": 1, \"bus_multiplier\": 1.41, \"bus_difference\": 14.4, \"num_trips\": 13, \"num_competitive\": 13, \"pct_trips_competitive\": 1.0, \"bus_difference_spread\": 0.0, \"route_group\": \"short\", \"max_trip_hrs\": 0.82, \"max_trip_route_group\": 0.82, \"below_cutoff\": 13, \"pct_below_cutoff\": 1.0, \"calitp_agency_name\": \"Thousand Oaks Transit\", \"caltrans_district\": \"07 - Los Angeles\", \"route_name\": \"The Oaks - Teen And Senior Centers - Clu - Los Robles Hospital - The Oaks\", \"route_short_name\": \"42\", \"route_id2\": \"42\", \"cutoff2\": 20, \"cutoff\": 0}]}}, {\"mode\": \"vega-lite\"});\n",
       "</script>"
      ],
      "text/plain": [
       "alt.FacetChart(...)"
      ]
     },
     "metadata": {},
     "output_type": "display_data"
    },
    {
     "data": {
      "text/html": [
       "<h4>Route Stats</h4>"
      ],
      "text/plain": [
       "<IPython.core.display.HTML object>"
      ]
     },
     "metadata": {},
     "output_type": "display_data"
    },
    {
     "data": {
      "text/html": [
       "<style type=\"text/css\">\n",
       "#T_fc1b7 th {\n",
       "  text-align: center;\n",
       "}\n",
       "#T_fc1b7_row0_col0, #T_fc1b7_row0_col1, #T_fc1b7_row1_col0, #T_fc1b7_row1_col1, #T_fc1b7_row2_col0, #T_fc1b7_row2_col1, #T_fc1b7_row3_col0, #T_fc1b7_row3_col1 {\n",
       "  text-align: left;\n",
       "}\n",
       "#T_fc1b7_row0_col2, #T_fc1b7_row0_col3, #T_fc1b7_row0_col5, #T_fc1b7_row1_col2, #T_fc1b7_row1_col3, #T_fc1b7_row1_col5, #T_fc1b7_row2_col2, #T_fc1b7_row2_col3, #T_fc1b7_row2_col5, #T_fc1b7_row3_col2, #T_fc1b7_row3_col3, #T_fc1b7_row3_col5 {\n",
       "  text-align: center;\n",
       "}\n",
       "</style>\n",
       "<table id=\"T_fc1b7\">\n",
       "  <thead>\n",
       "    <tr>\n",
       "      <th id=\"T_fc1b7_level0_col0\" class=\"col_heading level0 col0\" >Route ID</th>\n",
       "      <th id=\"T_fc1b7_level0_col1\" class=\"col_heading level0 col1\" >Route Name</th>\n",
       "      <th id=\"T_fc1b7_level0_col2\" class=\"col_heading level0 col2\" ># trips</th>\n",
       "      <th id=\"T_fc1b7_level0_col3\" class=\"col_heading level0 col3\" >Daily Avg Freq (trips per hr)</th>\n",
       "      <th id=\"T_fc1b7_level0_col4\" class=\"col_heading level0 col4\" >25th, 50th, 75th ptile (hrs)</th>\n",
       "      <th id=\"T_fc1b7_level0_col5\" class=\"col_heading level0 col5\" >PM Peak Avg Freq (trips per hr)</th>\n",
       "    </tr>\n",
       "  </thead>\n",
       "  <tbody>\n",
       "    <tr>\n",
       "      <td id=\"T_fc1b7_row0_col0\" class=\"data row0 col0\" >40</td>\n",
       "      <td id=\"T_fc1b7_row0_col1\" class=\"data row0 col1\" >Newbury Park - The Oaks Shopping Center</td>\n",
       "      <td id=\"T_fc1b7_row0_col2\" class=\"data row0 col2\" >13</td>\n",
       "      <td id=\"T_fc1b7_row0_col3\" class=\"data row0 col3\" >0.54</td>\n",
       "      <td id=\"T_fc1b7_row0_col4\" class=\"data row0 col4\" >0.83, 0.83, 0.97</td>\n",
       "      <td id=\"T_fc1b7_row0_col5\" class=\"data row0 col5\" >0.67</td>\n",
       "    </tr>\n",
       "    <tr>\n",
       "      <td id=\"T_fc1b7_row1_col0\" class=\"data row1 col0\" >41</td>\n",
       "      <td id=\"T_fc1b7_row1_col1\" class=\"data row1 col1\" >Brimhall Library - Teen Center - Senior Center - The Oaks Shopping Center - Janss Marketplace - Los Robles Hospital - Cal Lutheran</td>\n",
       "      <td id=\"T_fc1b7_row1_col2\" class=\"data row1 col2\" >13</td>\n",
       "      <td id=\"T_fc1b7_row1_col3\" class=\"data row1 col3\" >0.54</td>\n",
       "      <td id=\"T_fc1b7_row1_col4\" class=\"data row1 col4\" >0.83, 0.83, 0.83</td>\n",
       "      <td id=\"T_fc1b7_row1_col5\" class=\"data row1 col5\" >0.67</td>\n",
       "    </tr>\n",
       "    <tr>\n",
       "      <td id=\"T_fc1b7_row2_col0\" class=\"data row2 col0\" >42</td>\n",
       "      <td id=\"T_fc1b7_row2_col1\" class=\"data row2 col1\" >The Oaks - Teen And Senior Centers - Clu - Los Robles Hospital - The Oaks</td>\n",
       "      <td id=\"T_fc1b7_row2_col2\" class=\"data row2 col2\" >13</td>\n",
       "      <td id=\"T_fc1b7_row2_col3\" class=\"data row2 col3\" >0.54</td>\n",
       "      <td id=\"T_fc1b7_row2_col4\" class=\"data row2 col4\" >0.82, 0.82, 0.82</td>\n",
       "      <td id=\"T_fc1b7_row2_col5\" class=\"data row2 col5\" >0.67</td>\n",
       "    </tr>\n",
       "    <tr>\n",
       "      <td id=\"T_fc1b7_row3_col0\" class=\"data row3 col0\" >43</td>\n",
       "      <td id=\"T_fc1b7_row3_col1\" class=\"data row3 col1\" >Civic Arts Plaza (City Hall) - The Oaks Shopping Center - Transportation Center</td>\n",
       "      <td id=\"T_fc1b7_row3_col2\" class=\"data row3 col2\" >13</td>\n",
       "      <td id=\"T_fc1b7_row3_col3\" class=\"data row3 col3\" >0.54</td>\n",
       "      <td id=\"T_fc1b7_row3_col4\" class=\"data row3 col4\" >0.82, 0.82, 0.82</td>\n",
       "      <td id=\"T_fc1b7_row3_col5\" class=\"data row3 col5\" >0.67</td>\n",
       "    </tr>\n",
       "  </tbody>\n",
       "</table>\n"
      ],
      "text/plain": [
       "<IPython.core.display.HTML object>"
      ]
     },
     "metadata": {},
     "output_type": "display_data"
    }
   ],
   "source": [
    "route_group = \"short\"\n",
    "display_charts_for_route_group(df, route_group)"
   ]
  },
  {
   "cell_type": "markdown",
   "id": "c2931b6f-034d-4384-9e14-80b925e3b820",
   "metadata": {
    "papermill": {
     "duration": 0.020012,
     "end_time": "2022-06-03T22:09:23.188049",
     "exception": false,
     "start_time": "2022-06-03T22:09:23.168037",
     "status": "completed"
    },
    "tags": []
   },
   "source": [
    "### Medium Routes (1-1.5 hrs)"
   ]
  },
  {
   "cell_type": "code",
   "execution_count": 15,
   "id": "480edddc-4de0-48c2-ae4c-b0ceef8f28b5",
   "metadata": {
    "execution": {
     "iopub.execute_input": "2022-06-03T22:09:23.231997Z",
     "iopub.status.busy": "2022-06-03T22:09:23.230950Z",
     "iopub.status.idle": "2022-06-03T22:09:23.249030Z",
     "shell.execute_reply": "2022-06-03T22:09:23.248224Z"
    },
    "jupyter": {
     "source_hidden": true
    },
    "papermill": {
     "duration": 0.043055,
     "end_time": "2022-06-03T22:09:23.251015",
     "exception": false,
     "start_time": "2022-06-03T22:09:23.207960",
     "status": "completed"
    },
    "tags": [
     "remove_input"
    ]
   },
   "outputs": [
    {
     "name": "stdout",
     "output_type": "stream",
     "text": [
      "No routes meet this criteria.\n"
     ]
    }
   ],
   "source": [
    "route_group = \"medium\"\n",
    "display_charts_for_route_group(df, route_group)"
   ]
  },
  {
   "cell_type": "markdown",
   "id": "124b76d0-886c-4d03-92ac-f1bda3cda182",
   "metadata": {
    "papermill": {
     "duration": 0.021497,
     "end_time": "2022-06-03T22:09:23.291933",
     "exception": false,
     "start_time": "2022-06-03T22:09:23.270436",
     "status": "completed"
    },
    "tags": []
   },
   "source": [
    "### Long Routes (> 1.5 hrs)"
   ]
  },
  {
   "cell_type": "code",
   "execution_count": 16,
   "id": "ddc81b19-4c45-4c81-8b7a-5e0f394aa7a3",
   "metadata": {
    "execution": {
     "iopub.execute_input": "2022-06-03T22:09:23.340726Z",
     "iopub.status.busy": "2022-06-03T22:09:23.333879Z",
     "iopub.status.idle": "2022-06-03T22:09:23.352033Z",
     "shell.execute_reply": "2022-06-03T22:09:23.351028Z"
    },
    "jupyter": {
     "source_hidden": true
    },
    "papermill": {
     "duration": 0.042902,
     "end_time": "2022-06-03T22:09:23.354421",
     "exception": false,
     "start_time": "2022-06-03T22:09:23.311519",
     "status": "completed"
    },
    "tags": [
     "remove_input"
    ]
   },
   "outputs": [
    {
     "name": "stdout",
     "output_type": "stream",
     "text": [
      "No routes meet this criteria.\n"
     ]
    }
   ],
   "source": [
    "route_group = \"long\"\n",
    "display_charts_for_route_group(df, route_group)"
   ]
  },
  {
   "cell_type": "markdown",
   "id": "ace75b5f-0442-4fbe-aebd-6c3a13ae13a7",
   "metadata": {
    "papermill": {
     "duration": 0.020125,
     "end_time": "2022-06-03T22:09:23.394600",
     "exception": false,
     "start_time": "2022-06-03T22:09:23.374475",
     "status": "completed"
    },
    "tags": []
   },
   "source": [
    "### GTFS Real-Time Speedmaps"
   ]
  },
  {
   "cell_type": "code",
   "execution_count": 17,
   "id": "a0a114a1-e975-4027-9daf-50029f5ef59f",
   "metadata": {
    "execution": {
     "iopub.execute_input": "2022-06-03T22:09:23.441562Z",
     "iopub.status.busy": "2022-06-03T22:09:23.440567Z",
     "iopub.status.idle": "2022-06-03T22:09:23.464747Z",
     "shell.execute_reply": "2022-06-03T22:09:23.463914Z"
    },
    "jupyter": {
     "source_hidden": true
    },
    "papermill": {
     "duration": 0.052038,
     "end_time": "2022-06-03T22:09:23.466692",
     "exception": false,
     "start_time": "2022-06-03T22:09:23.414654",
     "status": "completed"
    },
    "tags": [
     "remove_input"
    ]
   },
   "outputs": [
    {
     "data": {
      "text/html": [
       "No GTFS RT data available."
      ],
      "text/plain": [
       "<IPython.core.display.HTML object>"
      ]
     },
     "metadata": {},
     "output_type": "display_data"
    }
   ],
   "source": [
    "RT_SITE_YAML = \"../portfolio/sites/rt.yml\"\n",
    "\n",
    "# Grab list of ITP IDs with GTFS RT speedmaps\n",
    "rt_itp_id = deploy_portfolio_yaml.check_if_rt_data_available(RT_SITE_YAML)\n",
    "\n",
    "# Construct the URL \n",
    "RT_URL = (\"https://analysis.calitp.org/rt/\"\n",
    "          f\"district_{district_number}-{district_name}/\"\n",
    "          f\"speedmaps__itp_id_{itp_id}.html\"\n",
    "         ) \n",
    "\n",
    "# If this ITP ID is found in RT analysis, give URL to that operator in analysis.calitp.org\n",
    "if itp_id in rt_itp_id:\n",
    "    display(HTML(f'''<a href={RT_URL}>GTFS RT speedmaps here.</a>'''))\n",
    "\n",
    "else:\n",
    "    display(HTML(\"No GTFS RT data available.\"))"
   ]
  },
  {
   "cell_type": "code",
   "execution_count": null,
   "id": "5b680565-2230-4f2e-817c-718fad48d64c",
   "metadata": {
    "jupyter": {
     "source_hidden": true
    },
    "papermill": {
     "duration": 0.020718,
     "end_time": "2022-06-03T22:09:23.507862",
     "exception": false,
     "start_time": "2022-06-03T22:09:23.487144",
     "status": "completed"
    },
    "tags": [
     "remove_input"
    ]
   },
   "outputs": [],
   "source": []
  }
 ],
 "metadata": {
  "kernelspec": {
   "display_name": "Python 3 (ipykernel)",
   "language": "python",
   "name": "python3"
  },
  "language_info": {
   "codemirror_mode": {
    "name": "ipython",
    "version": 3
   },
   "file_extension": ".py",
   "mimetype": "text/x-python",
   "name": "python",
   "nbconvert_exporter": "python",
   "pygments_lexer": "ipython3",
   "version": "3.9.12"
  },
  "papermill": {
   "default_parameters": {},
   "duration": 26.080533,
   "end_time": "2022-06-03T22:09:25.949022",
   "environment_variables": {},
   "exception": null,
   "input_path": "bus_service_increase/competitive-parallel-routes.ipynb",
   "output_path": "portfolio/parallel_corridors/district_07-los-angeles/12__competitive-parallel-routes__district_07-los-angeles__itp_id_337.ipynb",
   "parameters": {
    "district": "07 - Los Angeles",
    "itp_id": 337
   },
   "start_time": "2022-06-03T22:08:59.868489",
   "version": "2.3.4"
  }
 },
 "nbformat": 4,
 "nbformat_minor": 5
}