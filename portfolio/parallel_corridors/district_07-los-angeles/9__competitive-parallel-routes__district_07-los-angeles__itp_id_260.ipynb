{
 "cells": [
  {
   "cell_type": "code",
   "execution_count": 1,
   "id": "95d00857-6a20-4529-a519-2cc7182928a9",
   "metadata": {
    "execution": {
     "iopub.execute_input": "2022-06-03T22:07:31.431461Z",
     "iopub.status.busy": "2022-06-03T22:07:31.430875Z",
     "iopub.status.idle": "2022-06-03T22:07:52.381101Z",
     "shell.execute_reply": "2022-06-03T22:07:52.379920Z"
    },
    "jupyter": {
     "source_hidden": true
    },
    "papermill": {
     "duration": 20.968059,
     "end_time": "2022-06-03T22:07:52.383592",
     "exception": false,
     "start_time": "2022-06-03T22:07:31.415533",
     "status": "completed"
    },
    "tags": [
     "remove_input"
    ]
   },
   "outputs": [],
   "source": [
    "%%capture\n",
    "import warnings\n",
    "warnings.filterwarnings('ignore')\n",
    "\n",
    "import altair as alt\n",
    "import calitp.magics\n",
    "import geopandas as gpd\n",
    "import intake\n",
    "import pandas as pd\n",
    "\n",
    "from IPython.display import display, Markdown, HTML\n",
    "\n",
    "import parallel_corridors_utils\n",
    "import deploy_portfolio_yaml\n",
    "from shared_utils import styleguide, geography_utils\n",
    "from E5_make_stripplot_data import diff_cutoffs\n",
    "\n",
    "catalog = intake.open_catalog(\"./*.yml\")\n",
    "alt.renderers.enable(\"html\")"
   ]
  },
  {
   "cell_type": "code",
   "execution_count": 2,
   "id": "8af2a0c1-f3da-408d-9bea-11d9fbf8695d",
   "metadata": {
    "execution": {
     "iopub.execute_input": "2022-06-03T22:07:52.411455Z",
     "iopub.status.busy": "2022-06-03T22:07:52.410850Z",
     "iopub.status.idle": "2022-06-03T22:07:52.414943Z",
     "shell.execute_reply": "2022-06-03T22:07:52.414380Z"
    },
    "jupyter": {
     "source_hidden": true
    },
    "papermill": {
     "duration": 0.020005,
     "end_time": "2022-06-03T22:07:52.416747",
     "exception": false,
     "start_time": "2022-06-03T22:07:52.396742",
     "status": "completed"
    },
    "tags": [
     "parameters",
     "remove_input"
    ]
   },
   "outputs": [],
   "source": [
    "# parameters cell\n",
    "itp_id = 182"
   ]
  },
  {
   "cell_type": "code",
   "execution_count": 3,
   "id": "713439a6",
   "metadata": {
    "execution": {
     "iopub.execute_input": "2022-06-03T22:07:52.445672Z",
     "iopub.status.busy": "2022-06-03T22:07:52.445005Z",
     "iopub.status.idle": "2022-06-03T22:07:52.449728Z",
     "shell.execute_reply": "2022-06-03T22:07:52.449072Z"
    },
    "jupyter": {
     "source_hidden": true
    },
    "papermill": {
     "duration": 0.022595,
     "end_time": "2022-06-03T22:07:52.451590",
     "exception": false,
     "start_time": "2022-06-03T22:07:52.428995",
     "status": "completed"
    },
    "tags": [
     "injected-parameters",
     "remove_input"
    ]
   },
   "outputs": [],
   "source": [
    "# Parameters\n",
    "district = \"07 - Los Angeles\"\n",
    "itp_id = 260\n"
   ]
  },
  {
   "cell_type": "code",
   "execution_count": 4,
   "id": "9582aaf4-79ff-412a-b248-8d8d693ebd4f",
   "metadata": {
    "execution": {
     "iopub.execute_input": "2022-06-03T22:07:52.479884Z",
     "iopub.status.busy": "2022-06-03T22:07:52.479638Z",
     "iopub.status.idle": "2022-06-03T22:07:53.801223Z",
     "shell.execute_reply": "2022-06-03T22:07:53.800263Z"
    },
    "jupyter": {
     "source_hidden": true
    },
    "papermill": {
     "duration": 1.337278,
     "end_time": "2022-06-03T22:07:53.803452",
     "exception": false,
     "start_time": "2022-06-03T22:07:52.466174",
     "status": "completed"
    },
    "tags": [
     "remove_input"
    ]
   },
   "outputs": [],
   "source": [
    "df = catalog.competitive_route_variability.read()\n",
    "\n",
    "df = (df[(df.calitp_itp_id == itp_id) & \n",
    "         (df.route_group.notna())]\n",
    "      .rename(columns = {\"route_name_used\": \"route_name\"})\n",
    "      .reset_index(drop=True)\n",
    "     )\n",
    "\n",
    "\n",
    "if itp_id == 182:\n",
    "    df = df.assign(\n",
    "        route_id = df.route_id.str.replace('-13153', '')\n",
    "    )\n",
    "\n",
    "# Use route_short_name instead\n",
    "# But where route_short_name is missing, use route_id\n",
    "df = df.assign(\n",
    "    route_id2 = df.apply(lambda x: x.route_short_name if x.route_short_name is not None\n",
    "                        else x.route_id, axis=1),\n",
    ")"
   ]
  },
  {
   "cell_type": "code",
   "execution_count": 5,
   "id": "33ac4b06-f647-4dce-a625-8f2c1b37cc60",
   "metadata": {
    "execution": {
     "iopub.execute_input": "2022-06-03T22:07:53.834198Z",
     "iopub.status.busy": "2022-06-03T22:07:53.833862Z",
     "iopub.status.idle": "2022-06-03T22:07:53.844809Z",
     "shell.execute_reply": "2022-06-03T22:07:53.843557Z"
    },
    "jupyter": {
     "source_hidden": true
    },
    "papermill": {
     "duration": 0.028652,
     "end_time": "2022-06-03T22:07:53.847543",
     "exception": false,
     "start_time": "2022-06-03T22:07:53.818891",
     "status": "completed"
    },
    "tags": [
     "remove_input"
    ]
   },
   "outputs": [],
   "source": [
    "%%capture_parameters\n",
    "operator_name = df.calitp_agency_name.iloc[0]\n",
    "district_number = f\"{df.caltrans_district.iloc[0].split('-')[0].strip()}\"\n",
    "district_name = f\"{df.caltrans_district.iloc[0].split('-')[1].strip().lower().replace(' ', '-')}\"\n",
    "\n",
    "itp_id, operator_name, district_number, district_name"
   ]
  },
  {
   "cell_type": "markdown",
   "id": "65bc6f5c-8348-42ee-b2dd-52057c406852",
   "metadata": {
    "papermill": {
     "duration": 0.013722,
     "end_time": "2022-06-03T22:07:53.876126",
     "exception": false,
     "start_time": "2022-06-03T22:07:53.862404",
     "status": "completed"
    },
    "tags": []
   },
   "source": [
    "# Beach Cities Transit"
   ]
  },
  {
   "cell_type": "code",
   "execution_count": 6,
   "id": "a689c1ab-2c6c-4831-8d64-897f5986f571",
   "metadata": {
    "execution": {
     "iopub.execute_input": "2022-06-03T22:07:53.904428Z",
     "iopub.status.busy": "2022-06-03T22:07:53.903878Z",
     "iopub.status.idle": "2022-06-03T22:07:53.909761Z",
     "shell.execute_reply": "2022-06-03T22:07:53.909168Z"
    },
    "jupyter": {
     "source_hidden": true
    },
    "papermill": {
     "duration": 0.022476,
     "end_time": "2022-06-03T22:07:53.911594",
     "exception": false,
     "start_time": "2022-06-03T22:07:53.889118",
     "status": "completed"
    },
    "tags": [
     "remove_input"
    ]
   },
   "outputs": [
    {
     "data": {
      "text/html": [
       "<h1>Competitive & Parallel Routes</h1>"
      ],
      "text/plain": [
       "<IPython.core.display.HTML object>"
      ]
     },
     "metadata": {},
     "output_type": "display_data"
    }
   ],
   "source": [
    "display(HTML(\"<h1>Competitive & Parallel Routes</h1>\")) "
   ]
  },
  {
   "cell_type": "code",
   "execution_count": 7,
   "id": "2cb4d8d5-4760-40e4-85b1-cb833d8bb648",
   "metadata": {
    "execution": {
     "iopub.execute_input": "2022-06-03T22:07:53.944247Z",
     "iopub.status.busy": "2022-06-03T22:07:53.943712Z",
     "iopub.status.idle": "2022-06-03T22:08:04.644978Z",
     "shell.execute_reply": "2022-06-03T22:08:04.643941Z"
    },
    "jupyter": {
     "source_hidden": true
    },
    "papermill": {
     "duration": 10.722252,
     "end_time": "2022-06-03T22:08:04.647615",
     "exception": false,
     "start_time": "2022-06-03T22:07:53.925363",
     "status": "completed"
    },
    "tags": [
     "remove_input"
    ]
   },
   "outputs": [],
   "source": [
    "# Grab parameters for narrative text - clean up formatting here \n",
    "district = df.caltrans_district.iloc[0]\n",
    "formatted_date = pd.to_datetime(parallel_corridors_utils.SELECTED_DATE).strftime('%m-%d-%Y')\n",
    "\n",
    "PCT_COMPETITIVE_THRESHOLD = parallel_corridors_utils.PCT_COMPETITIVE_THRESHOLD\n",
    "PCT_TRIPS_BELOW_CUTOFF = parallel_corridors_utils.PCT_TRIPS_BELOW_CUTOFF\n",
    "\n",
    "stats = parallel_corridors_utils.operator_parallel_competitive_stats(\n",
    "    itp_id, PCT_COMPETITIVE_THRESHOLD, PCT_TRIPS_BELOW_CUTOFF)\n",
    "\n",
    "pct_parallel = round(stats['parallel_routes'] / stats['num_routes'] * 100, 1 )\n",
    "pct_competitive =  round(stats['competitive_routes'] / stats['num_routes'] * 100, 1 )\n",
    "pct_viable =  round(stats['viable_competitive_routes'] / stats['num_routes'] * 100, 1 )"
   ]
  },
  {
   "cell_type": "code",
   "execution_count": 8,
   "id": "8bf30c8f-6aa5-47bb-82ae-a906732e81fd",
   "metadata": {
    "execution": {
     "iopub.execute_input": "2022-06-03T22:08:04.697583Z",
     "iopub.status.busy": "2022-06-03T22:08:04.697243Z",
     "iopub.status.idle": "2022-06-03T22:08:04.747874Z",
     "shell.execute_reply": "2022-06-03T22:08:04.746523Z"
    },
    "jupyter": {
     "source_hidden": true
    },
    "papermill": {
     "duration": 0.089558,
     "end_time": "2022-06-03T22:08:04.751028",
     "exception": false,
     "start_time": "2022-06-03T22:08:04.661470",
     "status": "completed"
    },
    "tags": [
     "remove_input"
    ]
   },
   "outputs": [],
   "source": [
    "# Display a table of route-level stats for each route_group\n",
    "# Displaying route_name makes chart too crowded\n",
    "\n",
    "# Get route stats (for entire df)\n",
    "route_stats = parallel_corridors_utils.competitive_route_level_stats(df)\n",
    "    \n",
    "def style_route_stats(df, top15_routes):\n",
    "    df = df[df.route_id.isin(top15_routes)]\n",
    "    \n",
    "    # Rename columns for display\n",
    "    rename_cols = {\n",
    "        \"route_id2\": \"Route ID\",\n",
    "        \"route_name\": \"Route Name\",\n",
    "        \"route_group\": \"Route Group\",\n",
    "        \"num_trips\": \"# trips\",\n",
    "        \"daily_avg_freq\": \"Daily Avg Freq (trips per hr)\",\n",
    "        \"pm_peak_freq\": \"PM Peak Avg Freq (trips per hr)\",\n",
    "        \"percentiles\": \"25th, 50th, 75th ptile (hrs)\",\n",
    "    }\n",
    "    \n",
    "    # Style it\n",
    "    drop_cols = [\n",
    "        \"calitp_itp_id\", \"route_id\", \"below_cutoff\", \"route_group\", \n",
    "        \"pct_trips_competitive\", \"pct_below_cutoff\",\n",
    "        \"p25\", \"p50\", \"p75\",\n",
    "    ]\n",
    "    \n",
    "    # Change alignment for some columns\n",
    "    # https://stackoverflow.com/questions/59453091/left-align-the-first-column-and-center-align-the-other-columns-in-a-pandas-table\n",
    "    df_style = (df.sort_values(\n",
    "        [\"pct_trips_competitive\", \"below_cutoff\", \n",
    "        \"pct_below_cutoff\", \"route_id2\"], \n",
    "        ascending=[False, False, False, True])\n",
    "           .drop(columns = drop_cols)\n",
    "           .rename(columns = rename_cols)\n",
    "           .style.format(\n",
    "               subset=['Daily Avg Freq (trips per hr)', \n",
    "                       'PM Peak Avg Freq (trips per hr)'], \n",
    "               **{'formatter': '{:,.3}'})\n",
    "                .set_properties(subset=['Route ID', 'Route Name'], \n",
    "                                **{'text-align': 'left'})\n",
    "                .set_properties(subset=['# trips', 'Daily Avg Freq (trips per hr)', \n",
    "                                       'PM Peak Avg Freq (trips per hr)'], \n",
    "                               **{'text-align': 'center'})\n",
    "                .set_table_styles([dict(selector='th', \n",
    "                                        props=[('text-align', 'center')])\n",
    "                                        ])\n",
    "           .hide(axis=\"index\")\n",
    "           .to_html()\n",
    "          )\n",
    "    \n",
    "    display(HTML(\"<h4>Route Stats</h4>\"))\n",
    "    display(HTML(df_style))"
   ]
  },
  {
   "cell_type": "markdown",
   "id": "ab667928-5274-4490-82d9-4c39293209a4",
   "metadata": {
    "papermill": {
     "duration": 0.024046,
     "end_time": "2022-06-03T22:08:04.800265",
     "exception": false,
     "start_time": "2022-06-03T22:08:04.776219",
     "status": "completed"
    },
    "tags": []
   },
   "source": [
    "## Quick Stats"
   ]
  },
  {
   "cell_type": "code",
   "execution_count": 9,
   "id": "0416509d-dc62-4165-b62e-64f8b26e8b8e",
   "metadata": {
    "execution": {
     "iopub.execute_input": "2022-06-03T22:08:04.852620Z",
     "iopub.status.busy": "2022-06-03T22:08:04.852292Z",
     "iopub.status.idle": "2022-06-03T22:08:04.864656Z",
     "shell.execute_reply": "2022-06-03T22:08:04.863499Z"
    },
    "jupyter": {
     "source_hidden": true
    },
    "papermill": {
     "duration": 0.044264,
     "end_time": "2022-06-03T22:08:04.868589",
     "exception": false,
     "start_time": "2022-06-03T22:08:04.824325",
     "status": "completed"
    },
    "tags": [
     "remove_input"
    ]
   },
   "outputs": [
    {
     "data": {
      "text/markdown": [
       "**Bus routes in service: 4**<br>**Parallel routes** to State Highway Network (SHN): **4 routes (100.0%)**<br>**Competitive routes** against car travel (within 2x car travel time): **3 routes (75.0%)**<br>**Viable competitive routes** against car travel (within 2x car travel time and within 20, 30, or 40 min cut-off): **3 routes (75.0%)**"
      ],
      "text/plain": [
       "<IPython.core.display.Markdown object>"
      ]
     },
     "metadata": {},
     "output_type": "display_data"
    }
   ],
   "source": [
    "display(\n",
    "    Markdown(\n",
    "        f\"**Bus routes in service: {stats['num_routes']}**\"\n",
    "        \"<br>**Parallel routes** to State Highway Network (SHN): \"\n",
    "        f\"**{stats['parallel_routes']} routes ({pct_parallel}%)**\"\n",
    "        \"<br>**Competitive routes** against car travel (within 2x car travel time): \"\n",
    "        f\"**{stats['competitive_routes']} routes ({pct_competitive}%)**\"\n",
    "        \"<br>**Viable competitive routes** against car travel \"\n",
    "        \"(within 2x car travel time and within 20, 30, or 40 min cut-off): \"\n",
    "        f\"**{stats['viable_competitive_routes']} routes ({pct_viable}%)**\"\n",
    "    )\n",
    ")"
   ]
  },
  {
   "cell_type": "code",
   "execution_count": 10,
   "id": "f9d6ab58-f0ee-460c-b6de-657490e1f386",
   "metadata": {
    "execution": {
     "iopub.execute_input": "2022-06-03T22:08:04.922715Z",
     "iopub.status.busy": "2022-06-03T22:08:04.922228Z",
     "iopub.status.idle": "2022-06-03T22:08:04.940465Z",
     "shell.execute_reply": "2022-06-03T22:08:04.933961Z"
    },
    "jupyter": {
     "source_hidden": true
    },
    "papermill": {
     "duration": 0.046928,
     "end_time": "2022-06-03T22:08:04.944171",
     "exception": false,
     "start_time": "2022-06-03T22:08:04.897243",
     "status": "completed"
    },
    "tags": [
     "remove_input"
    ]
   },
   "outputs": [],
   "source": [
    "def set_yaxis_range(df, y_col):\n",
    "    Y_MIN = df[y_col].min()\n",
    "    Y_MAX = df[y_col].max()\n",
    "    \n",
    "    return Y_MIN, Y_MAX\n",
    "\n",
    "# Rather than set it according to the operator, which can vary,\n",
    "# just use set thresholds for each group\n",
    "def top15_routes(df, route_group):\n",
    "    # grab top 15 routes where majority of trips are below that cut-off \n",
    "    # but show 15 max, otherwise, show less, since these won't be as interesting to operators\n",
    "    df2 = (df[(df.route_group==route_group) &\n",
    "              (df.pct_below_cutoff >= PCT_TRIPS_BELOW_CUTOFF)]\n",
    "           .sort_values([\"calitp_itp_id\", \"below_cutoff\", \n",
    "                         \"pct_below_cutoff\", \"route_id\"],\n",
    "                        ascending = [True, False, False, True]\n",
    "                       )\n",
    "           .drop_duplicates(subset=[\"calitp_itp_id\", \"route_id\"])\n",
    "          ).head(15)\n",
    "    \n",
    "    if len(df2) > 1:\n",
    "        return list(df2.route_id)"
   ]
  },
  {
   "cell_type": "code",
   "execution_count": 11,
   "id": "cf36d559-3349-4144-8086-8ac9ce937a5a",
   "metadata": {
    "execution": {
     "iopub.execute_input": "2022-06-03T22:08:04.998690Z",
     "iopub.status.busy": "2022-06-03T22:08:04.998157Z",
     "iopub.status.idle": "2022-06-03T22:08:05.009268Z",
     "shell.execute_reply": "2022-06-03T22:08:05.007722Z"
    },
    "jupyter": {
     "source_hidden": true
    },
    "papermill": {
     "duration": 0.04352,
     "end_time": "2022-06-03T22:08:05.014167",
     "exception": false,
     "start_time": "2022-06-03T22:08:04.970647",
     "status": "completed"
    },
    "tags": [
     "remove_input"
    ]
   },
   "outputs": [],
   "source": [
    "def caption_with_cutoff(cutoff):\n",
    "    sentence = (\n",
    "        f\"<br>These are routes that have **{int(PCT_TRIPS_BELOW_CUTOFF*100)}% \"\n",
    "        \"of their trips take no more than an \"\n",
    "        f\"additional {cutoff} min** compared to a car \"\n",
    "        \"(up to 15 routes) are shown.\"\n",
    "        \"<br>Within each route group, routes are sorted in descending order \"\n",
    "        \"by % competitive trips and # trips below the additional time cut-off.\"\n",
    "    )\n",
    "    return sentence\n",
    "\n",
    "CAPTIONS_DICT = {\n",
    "    \"short\": caption_with_cutoff(diff_cutoffs['short']),\n",
    "    \"medium\": caption_with_cutoff(diff_cutoffs['medium']),\n",
    "    \"long\": caption_with_cutoff(diff_cutoffs['long']),\n",
    "}"
   ]
  },
  {
   "cell_type": "code",
   "execution_count": 12,
   "id": "e4306d58-6944-47e9-afef-5d5b524c751f",
   "metadata": {
    "execution": {
     "iopub.execute_input": "2022-06-03T22:08:05.055429Z",
     "iopub.status.busy": "2022-06-03T22:08:05.055144Z",
     "iopub.status.idle": "2022-06-03T22:08:05.062272Z",
     "shell.execute_reply": "2022-06-03T22:08:05.061253Z"
    },
    "jupyter": {
     "source_hidden": true
    },
    "papermill": {
     "duration": 0.025308,
     "end_time": "2022-06-03T22:08:05.064187",
     "exception": false,
     "start_time": "2022-06-03T22:08:05.038879",
     "status": "completed"
    },
    "tags": [
     "remove_input"
    ]
   },
   "outputs": [],
   "source": [
    "def setup_charts(df, PCT_COMPETITIVE_THRESHOLD, route_group):\n",
    "    # Set up df for charting (cut-off at some threshold to show most competitive routes)\n",
    "    plot_me = (df[df.pct_trips_competitive > PCT_COMPETITIVE_THRESHOLD]\n",
    "           .drop(columns = \"geometry\")\n",
    "    )\n",
    "    \n",
    "    # Set y-ranges to be the same across route_groups, \n",
    "    # otherwise charts fluctuate too much, even within operator\n",
    "    y_col1 = \"bus_multiplier\"\n",
    "    Y_MIN1, Y_MAX1 = set_yaxis_range(plot_me, y_col1)\n",
    "\n",
    "    y_col2 = \"bus_difference\"\n",
    "    Y_MIN2, Y_MAX2 = set_yaxis_range(plot_me, y_col2)\n",
    "    \n",
    "    # Grab the routes to plot\n",
    "    subset_routes = top15_routes(plot_me, route_group)\n",
    "        \n",
    "    # Display charts\n",
    "    multiplier_chart = parallel_corridors_utils.make_stripplot(\n",
    "        plot_me[plot_me.route_id.isin(subset_routes)], \n",
    "        y_col1, Y_MIN = Y_MIN1, Y_MAX = Y_MAX1\n",
    "    )\n",
    "    \n",
    "    difference_chart = parallel_corridors_utils.make_stripplot(\n",
    "        plot_me[plot_me.route_id.isin(subset_routes)], \n",
    "        y_col2, Y_MIN = Y_MIN2, Y_MAX = Y_MAX2\n",
    "    )\n",
    "    \n",
    "    return subset_routes, multiplier_chart, difference_chart            "
   ]
  },
  {
   "cell_type": "code",
   "execution_count": 13,
   "id": "33a710e8-504c-4942-aa75-ff69f216956e",
   "metadata": {
    "execution": {
     "iopub.execute_input": "2022-06-03T22:08:05.099447Z",
     "iopub.status.busy": "2022-06-03T22:08:05.099153Z",
     "iopub.status.idle": "2022-06-03T22:08:05.106024Z",
     "shell.execute_reply": "2022-06-03T22:08:05.105068Z"
    },
    "jupyter": {
     "source_hidden": true
    },
    "papermill": {
     "duration": 0.027323,
     "end_time": "2022-06-03T22:08:05.108121",
     "exception": false,
     "start_time": "2022-06-03T22:08:05.080798",
     "status": "completed"
    },
    "tags": [
     "remove_input"
    ]
   },
   "outputs": [],
   "source": [
    "# Allow for possibility that operator doesn't have routes that fall into certain route_groups\n",
    "# But, jupyterbook will not like markdown with f-string\n",
    "# separate out route_group and put in each cell, and use try/except + if to display...\n",
    "# but all 3 route groups must be displayed. \n",
    "# just add sentence about why no routes were returned at the end\n",
    "# Change to fewer than 2 routes, instead of no routes, because we don't want to show just 1 route\n",
    "\n",
    "def display_charts_for_route_group(df, route_group):\n",
    "    try:\n",
    "        subset_routes, mult, diff  = setup_charts(df, PCT_COMPETITIVE_THRESHOLD, route_group)\n",
    "    \n",
    "        if len(subset_routes) > 1:\n",
    "            display(Markdown(f\"{CAPTIONS_DICT[route_group]}\"))\n",
    "\n",
    "            display(mult)\n",
    "            display(diff)\n",
    "\n",
    "            # Display route stats for just plotted routes\n",
    "            style_route_stats(route_stats, subset_routes)\n",
    "        else: \n",
    "            print(\"Fewer than 2 routes meet this criteria.\")\n",
    "    except:\n",
    "        print(\"No routes meet this criteria.\")"
   ]
  },
  {
   "cell_type": "markdown",
   "id": "525f9b38-072b-46d1-96a8-1aa4b038357c",
   "metadata": {
    "papermill": {
     "duration": 0.019391,
     "end_time": "2022-06-03T22:08:05.143276",
     "exception": false,
     "start_time": "2022-06-03T22:08:05.123885",
     "status": "completed"
    },
    "tags": []
   },
   "source": [
    "## Viable Competitive Routes\n",
    "### Short Routes (< 1 hr)"
   ]
  },
  {
   "cell_type": "code",
   "execution_count": 14,
   "id": "57f7084c-2cf7-45c6-ba08-1609e0bd6ca5",
   "metadata": {
    "execution": {
     "iopub.execute_input": "2022-06-03T22:08:05.176715Z",
     "iopub.status.busy": "2022-06-03T22:08:05.175876Z",
     "iopub.status.idle": "2022-06-03T22:08:05.193391Z",
     "shell.execute_reply": "2022-06-03T22:08:05.192380Z"
    },
    "jupyter": {
     "source_hidden": true
    },
    "papermill": {
     "duration": 0.036445,
     "end_time": "2022-06-03T22:08:05.195460",
     "exception": false,
     "start_time": "2022-06-03T22:08:05.159015",
     "status": "completed"
    },
    "tags": [
     "remove_input"
    ]
   },
   "outputs": [
    {
     "name": "stdout",
     "output_type": "stream",
     "text": [
      "No routes meet this criteria.\n"
     ]
    }
   ],
   "source": [
    "route_group = \"short\"\n",
    "display_charts_for_route_group(df, route_group)"
   ]
  },
  {
   "cell_type": "markdown",
   "id": "c2931b6f-034d-4384-9e14-80b925e3b820",
   "metadata": {
    "papermill": {
     "duration": 0.014505,
     "end_time": "2022-06-03T22:08:05.225255",
     "exception": false,
     "start_time": "2022-06-03T22:08:05.210750",
     "status": "completed"
    },
    "tags": []
   },
   "source": [
    "### Medium Routes (1-1.5 hrs)"
   ]
  },
  {
   "cell_type": "code",
   "execution_count": 15,
   "id": "480edddc-4de0-48c2-ae4c-b0ceef8f28b5",
   "metadata": {
    "execution": {
     "iopub.execute_input": "2022-06-03T22:08:05.263819Z",
     "iopub.status.busy": "2022-06-03T22:08:05.263539Z",
     "iopub.status.idle": "2022-06-03T22:08:05.718025Z",
     "shell.execute_reply": "2022-06-03T22:08:05.717359Z"
    },
    "jupyter": {
     "source_hidden": true
    },
    "papermill": {
     "duration": 0.474717,
     "end_time": "2022-06-03T22:08:05.719873",
     "exception": false,
     "start_time": "2022-06-03T22:08:05.245156",
     "status": "completed"
    },
    "tags": [
     "remove_input"
    ]
   },
   "outputs": [
    {
     "data": {
      "text/markdown": [
       "<br>These are routes that have **100% of their trips take no more than an additional 30 min** compared to a car (up to 15 routes) are shown.<br>Within each route group, routes are sorted in descending order by % competitive trips and # trips below the additional time cut-off."
      ],
      "text/plain": [
       "<IPython.core.display.Markdown object>"
      ]
     },
     "metadata": {},
     "output_type": "display_data"
    },
    {
     "data": {
      "text/html": [
       "\n",
       "<div id=\"altair-viz-a7e32ef878624135a934245e53a7dfa1\"></div>\n",
       "<script type=\"text/javascript\">\n",
       "  var VEGA_DEBUG = (typeof VEGA_DEBUG == \"undefined\") ? {} : VEGA_DEBUG;\n",
       "  (function(spec, embedOpt){\n",
       "    let outputDiv = document.currentScript.previousElementSibling;\n",
       "    if (outputDiv.id !== \"altair-viz-a7e32ef878624135a934245e53a7dfa1\") {\n",
       "      outputDiv = document.getElementById(\"altair-viz-a7e32ef878624135a934245e53a7dfa1\");\n",
       "    }\n",
       "    const paths = {\n",
       "      \"vega\": \"https://cdn.jsdelivr.net/npm//vega@5?noext\",\n",
       "      \"vega-lib\": \"https://cdn.jsdelivr.net/npm//vega-lib?noext\",\n",
       "      \"vega-lite\": \"https://cdn.jsdelivr.net/npm//vega-lite@4.17.0?noext\",\n",
       "      \"vega-embed\": \"https://cdn.jsdelivr.net/npm//vega-embed@6?noext\",\n",
       "    };\n",
       "\n",
       "    function maybeLoadScript(lib, version) {\n",
       "      var key = `${lib.replace(\"-\", \"\")}_version`;\n",
       "      return (VEGA_DEBUG[key] == version) ?\n",
       "        Promise.resolve(paths[lib]) :\n",
       "        new Promise(function(resolve, reject) {\n",
       "          var s = document.createElement('script');\n",
       "          document.getElementsByTagName(\"head\")[0].appendChild(s);\n",
       "          s.async = true;\n",
       "          s.onload = () => {\n",
       "            VEGA_DEBUG[key] = version;\n",
       "            return resolve(paths[lib]);\n",
       "          };\n",
       "          s.onerror = () => reject(`Error loading script: ${paths[lib]}`);\n",
       "          s.src = paths[lib];\n",
       "        });\n",
       "    }\n",
       "\n",
       "    function showError(err) {\n",
       "      outputDiv.innerHTML = `<div class=\"error\" style=\"color:red;\">${err}</div>`;\n",
       "      throw err;\n",
       "    }\n",
       "\n",
       "    function displayChart(vegaEmbed) {\n",
       "      vegaEmbed(outputDiv, spec, embedOpt)\n",
       "        .catch(err => showError(`Javascript Error: ${err.message}<br>This usually means there's a typo in your chart specification. See the javascript console for the full traceback.`));\n",
       "    }\n",
       "\n",
       "    if(typeof define === \"function\" && define.amd) {\n",
       "      requirejs.config({paths});\n",
       "      require([\"vega-embed\"], displayChart, err => showError(`Error loading script: ${err.message}`));\n",
       "    } else {\n",
       "      maybeLoadScript(\"vega\", \"5\")\n",
       "        .then(() => maybeLoadScript(\"vega-lite\", \"4.17.0\"))\n",
       "        .then(() => maybeLoadScript(\"vega-embed\", \"6\"))\n",
       "        .catch(showError)\n",
       "        .then(() => displayChart(vegaEmbed));\n",
       "    }\n",
       "  })({\"config\": {\"view\": {\"continuousWidth\": 400, \"continuousHeight\": 300, \"stroke\": null}, \"facet\": {\"spacing\": 0}}, \"data\": {\"name\": \"data-84268e0a33815d491892d51ad9517afd\"}, \"facet\": {\"column\": {\"field\": \"route_id2\", \"sort\": [\"BCT109 NB\", \"BCT109 SB\"], \"title\": \"Route ID\", \"type\": \"nominal\"}}, \"spec\": {\"layer\": [{\"mark\": \"rule\", \"encoding\": {\"color\": {\"value\": \"black\"}, \"y\": {\"field\": \"cutoff\", \"type\": \"quantitative\"}}, \"selection\": {\"selector001\": {\"type\": \"interval\", \"bind\": \"scales\", \"encodings\": [\"x\", \"y\"]}}}, {\"mark\": {\"type\": \"point\", \"opacity\": 0.65, \"size\": 20, \"strokeWidth\": 1.1}, \"encoding\": {\"color\": {\"field\": \"time_of_day\", \"scale\": {\"range\": [\"#136C97\", \"#E16B26\", \"#F6BF16\", \"#00896B\", \"#7790A3\", \"#5B559C\"]}, \"sort\": [\"AM Peak\", \"Midday\", \"PM Peak\", \"Owl Service\"], \"title\": \"Time of Day\", \"type\": \"nominal\"}, \"tooltip\": [{\"field\": \"route_id2\", \"title\": \"route_id\", \"type\": \"nominal\"}, {\"field\": \"route_name\", \"type\": \"nominal\"}, {\"field\": \"trip_id\", \"type\": \"nominal\"}, {\"field\": \"service_hours\", \"type\": \"quantitative\"}, {\"field\": \"car_duration_hours\", \"type\": \"quantitative\"}, {\"field\": \"bus_multiplier\", \"type\": \"quantitative\"}, {\"field\": \"bus_difference\", \"type\": \"quantitative\"}, {\"field\": \"num_trips\", \"type\": \"quantitative\"}, {\"field\": \"num_competitive\", \"type\": \"quantitative\"}, {\"field\": \"pct_trips_competitive\", \"type\": \"quantitative\"}, {\"field\": \"pct_below_cutoff\", \"type\": \"quantitative\"}, {\"field\": \"p25\", \"type\": \"quantitative\"}, {\"field\": \"p50\", \"type\": \"quantitative\"}, {\"field\": \"p75\", \"type\": \"quantitative\"}], \"x\": {\"axis\": {\"grid\": false, \"labels\": false, \"ticks\": true, \"values\": [0]}, \"field\": \"jitter\", \"scale\": {}, \"title\": null, \"type\": \"quantitative\"}, \"y\": {\"field\": \"bus_multiplier\", \"scale\": {\"domain\": [0, 3.0]}, \"title\": \"Ratio of Bus to Car Travel Time\", \"type\": \"quantitative\"}}, \"transform\": [{\"calculate\": \"sqrt(-2*log(random()))*cos(2*PI*random())\", \"as\": \"jitter\"}], \"width\": 50}, {\"layer\": [{\"mark\": {\"type\": \"point\", \"opacity\": 0.6, \"size\": 20, \"strokeWidth\": 1.3}, \"encoding\": {\"color\": {\"value\": \"#323434\"}, \"y\": {\"field\": \"bus_multiplier\", \"type\": \"quantitative\"}}, \"transform\": [{\"filter\": \"(datum.p50_trip === 1)\"}]}, {\"mark\": {\"type\": \"text\", \"align\": \"center\", \"baseline\": \"middle\"}, \"encoding\": {\"color\": {\"value\": \"black\"}, \"text\": {\"field\": \"pct_trips_competitive\", \"format\": \".0%\", \"type\": \"quantitative\"}, \"tooltip\": [{\"field\": \"route_id2\", \"title\": \"route_id\", \"type\": \"nominal\"}, {\"field\": \"route_name\", \"type\": \"nominal\"}, {\"field\": \"trip_id\", \"type\": \"nominal\"}, {\"field\": \"service_hours\", \"type\": \"quantitative\"}, {\"field\": \"car_duration_hours\", \"type\": \"quantitative\"}, {\"field\": \"bus_multiplier\", \"type\": \"quantitative\"}, {\"field\": \"bus_difference\", \"type\": \"quantitative\"}, {\"field\": \"num_trips\", \"type\": \"quantitative\"}, {\"field\": \"num_competitive\", \"type\": \"quantitative\"}, {\"field\": \"pct_trips_competitive\", \"type\": \"quantitative\"}, {\"field\": \"pct_below_cutoff\", \"type\": \"quantitative\"}, {\"field\": \"p25\", \"type\": \"quantitative\"}, {\"field\": \"p50\", \"type\": \"quantitative\"}, {\"field\": \"p75\", \"type\": \"quantitative\"}], \"x\": {\"value\": 30}, \"y\": {\"value\": 15}}, \"transform\": [{\"calculate\": \"sqrt(-2*log(random()))*cos(2*PI*random())\", \"as\": \"jitter\"}, {\"filter\": \"(datum.fastest_trip === 1)\"}]}]}]}, \"resolve\": {\"scale\": {\"y\": \"shared\"}}, \"title\": \"Ratio of Bus to Car Travel Time\", \"$schema\": \"https://vega.github.io/schema/vega-lite/v4.17.0.json\", \"datasets\": {\"data-84268e0a33815d491892d51ad9517afd\": [{\"calitp_itp_id\": 260, \"trip_key\": 1317046688990537606, \"trip_id\": \"BCT109 NB_MF.T03\", \"shape_id\": \"BCT109 NB\", \"route_id\": \"BCT109 NB\", \"service_hours\": 1.22, \"trip_first_departure_ts\": 26700, \"trip_last_arrival_ts\": 31080, \"departure_hour\": 7, \"time_of_day\": \"AM Peak\", \"p25\": 1.28, \"p50\": 1.28, \"p75\": 1.28, \"p50_trip\": 0, \"fastest_trip\": 1, \"car_duration_hours\": 0.83, \"competitive_route\": 1, \"bus_multiplier\": 1.47, \"bus_difference\": 23.4, \"num_trips\": 20, \"num_competitive\": 20, \"pct_trips_competitive\": 1.0, \"bus_difference_spread\": 3.6000000000000014, \"route_group\": \"medium\", \"max_trip_hrs\": 1.28, \"max_trip_route_group\": 1.28, \"below_cutoff\": 20, \"pct_below_cutoff\": 1.0, \"calitp_agency_name\": \"Beach Cities Transit\", \"caltrans_district\": \"07 - Los Angeles\", \"route_name\": \"Beach Cities Transit 109 Northbound\", \"route_short_name\": null, \"route_id2\": \"BCT109 NB\", \"cutoff2\": 30, \"cutoff\": 2}, {\"calitp_itp_id\": 260, \"trip_key\": 3673728135160785242, \"trip_id\": \"BCT109 NB_MF.T02\", \"shape_id\": \"BCT109 NB\", \"route_id\": \"BCT109 NB\", \"service_hours\": 1.22, \"trip_first_departure_ts\": 23400, \"trip_last_arrival_ts\": 27780, \"departure_hour\": 6, \"time_of_day\": \"Owl Service\", \"p25\": 1.28, \"p50\": 1.28, \"p75\": 1.28, \"p50_trip\": 0, \"fastest_trip\": 0, \"car_duration_hours\": 0.83, \"competitive_route\": 1, \"bus_multiplier\": 1.47, \"bus_difference\": 23.4, \"num_trips\": 20, \"num_competitive\": 20, \"pct_trips_competitive\": 1.0, \"bus_difference_spread\": 3.6000000000000014, \"route_group\": \"medium\", \"max_trip_hrs\": 1.28, \"max_trip_route_group\": 1.28, \"below_cutoff\": 20, \"pct_below_cutoff\": 1.0, \"calitp_agency_name\": \"Beach Cities Transit\", \"caltrans_district\": \"07 - Los Angeles\", \"route_name\": \"Beach Cities Transit 109 Northbound\", \"route_short_name\": null, \"route_id2\": \"BCT109 NB\", \"cutoff2\": 30, \"cutoff\": 2}, {\"calitp_itp_id\": 260, \"trip_key\": -5692772296662780211, \"trip_id\": \"BCT109 NB_MF.T01\", \"shape_id\": \"BCT109 NB\", \"route_id\": \"BCT109 NB\", \"service_hours\": 1.22, \"trip_first_departure_ts\": 21600, \"trip_last_arrival_ts\": 25980, \"departure_hour\": 6, \"time_of_day\": \"Owl Service\", \"p25\": 1.28, \"p50\": 1.28, \"p75\": 1.28, \"p50_trip\": 0, \"fastest_trip\": 0, \"car_duration_hours\": 0.83, \"competitive_route\": 1, \"bus_multiplier\": 1.47, \"bus_difference\": 23.4, \"num_trips\": 20, \"num_competitive\": 20, \"pct_trips_competitive\": 1.0, \"bus_difference_spread\": 3.6000000000000014, \"route_group\": \"medium\", \"max_trip_hrs\": 1.28, \"max_trip_route_group\": 1.28, \"below_cutoff\": 20, \"pct_below_cutoff\": 1.0, \"calitp_agency_name\": \"Beach Cities Transit\", \"caltrans_district\": \"07 - Los Angeles\", \"route_name\": \"Beach Cities Transit 109 Northbound\", \"route_short_name\": null, \"route_id2\": \"BCT109 NB\", \"cutoff2\": 30, \"cutoff\": 2}, {\"calitp_itp_id\": 260, \"trip_key\": -8382958733402730771, \"trip_id\": \"BCT109 NB_MF.T11\", \"shape_id\": \"BCT109 NB\", \"route_id\": \"BCT109 NB\", \"service_hours\": 1.28, \"trip_first_departure_ts\": 49500, \"trip_last_arrival_ts\": 54120, \"departure_hour\": 13, \"time_of_day\": \"Midday\", \"p25\": 1.28, \"p50\": 1.28, \"p75\": 1.28, \"p50_trip\": 1, \"fastest_trip\": 0, \"car_duration_hours\": 0.83, \"competitive_route\": 1, \"bus_multiplier\": 1.54, \"bus_difference\": 27.0, \"num_trips\": 20, \"num_competitive\": 20, \"pct_trips_competitive\": 1.0, \"bus_difference_spread\": 3.6000000000000014, \"route_group\": \"medium\", \"max_trip_hrs\": 1.28, \"max_trip_route_group\": 1.28, \"below_cutoff\": 20, \"pct_below_cutoff\": 1.0, \"calitp_agency_name\": \"Beach Cities Transit\", \"caltrans_district\": \"07 - Los Angeles\", \"route_name\": \"Beach Cities Transit 109 Northbound\", \"route_short_name\": null, \"route_id2\": \"BCT109 NB\", \"cutoff2\": 30, \"cutoff\": 2}, {\"calitp_itp_id\": 260, \"trip_key\": 7828937370348139098, \"trip_id\": \"BCT109 NB_MF.T04\", \"shape_id\": \"BCT109 NB\", \"route_id\": \"BCT109 NB\", \"service_hours\": 1.28, \"trip_first_departure_ts\": 29400, \"trip_last_arrival_ts\": 34020, \"departure_hour\": 8, \"time_of_day\": \"AM Peak\", \"p25\": 1.28, \"p50\": 1.28, \"p75\": 1.28, \"p50_trip\": 1, \"fastest_trip\": 0, \"car_duration_hours\": 0.83, \"competitive_route\": 1, \"bus_multiplier\": 1.54, \"bus_difference\": 27.0, \"num_trips\": 20, \"num_competitive\": 20, \"pct_trips_competitive\": 1.0, \"bus_difference_spread\": 3.6000000000000014, \"route_group\": \"medium\", \"max_trip_hrs\": 1.28, \"max_trip_route_group\": 1.28, \"below_cutoff\": 20, \"pct_below_cutoff\": 1.0, \"calitp_agency_name\": \"Beach Cities Transit\", \"caltrans_district\": \"07 - Los Angeles\", \"route_name\": \"Beach Cities Transit 109 Northbound\", \"route_short_name\": null, \"route_id2\": \"BCT109 NB\", \"cutoff2\": 30, \"cutoff\": 2}, {\"calitp_itp_id\": 260, \"trip_key\": -656251562375874454, \"trip_id\": \"BCT109 NB_MF.T19\", \"shape_id\": \"BCT109 NB\", \"route_id\": \"BCT109 NB\", \"service_hours\": 1.28, \"trip_first_departure_ts\": 71100, \"trip_last_arrival_ts\": 75720, \"departure_hour\": 19, \"time_of_day\": \"PM Peak\", \"p25\": 1.28, \"p50\": 1.28, \"p75\": 1.28, \"p50_trip\": 1, \"fastest_trip\": 0, \"car_duration_hours\": 0.83, \"competitive_route\": 1, \"bus_multiplier\": 1.54, \"bus_difference\": 27.0, \"num_trips\": 20, \"num_competitive\": 20, \"pct_trips_competitive\": 1.0, \"bus_difference_spread\": 3.6000000000000014, \"route_group\": \"medium\", \"max_trip_hrs\": 1.28, \"max_trip_route_group\": 1.28, \"below_cutoff\": 20, \"pct_below_cutoff\": 1.0, \"calitp_agency_name\": \"Beach Cities Transit\", \"caltrans_district\": \"07 - Los Angeles\", \"route_name\": \"Beach Cities Transit 109 Northbound\", \"route_short_name\": null, \"route_id2\": \"BCT109 NB\", \"cutoff2\": 30, \"cutoff\": 2}, {\"calitp_itp_id\": 260, \"trip_key\": 8750848218037897663, \"trip_id\": \"BCT109 NB_MF.T17\", \"shape_id\": \"BCT109 NB\", \"route_id\": \"BCT109 NB\", \"service_hours\": 1.28, \"trip_first_departure_ts\": 65400, \"trip_last_arrival_ts\": 70020, \"departure_hour\": 18, \"time_of_day\": \"PM Peak\", \"p25\": 1.28, \"p50\": 1.28, \"p75\": 1.28, \"p50_trip\": 1, \"fastest_trip\": 0, \"car_duration_hours\": 0.83, \"competitive_route\": 1, \"bus_multiplier\": 1.54, \"bus_difference\": 27.0, \"num_trips\": 20, \"num_competitive\": 20, \"pct_trips_competitive\": 1.0, \"bus_difference_spread\": 3.6000000000000014, \"route_group\": \"medium\", \"max_trip_hrs\": 1.28, \"max_trip_route_group\": 1.28, \"below_cutoff\": 20, \"pct_below_cutoff\": 1.0, \"calitp_agency_name\": \"Beach Cities Transit\", \"caltrans_district\": \"07 - Los Angeles\", \"route_name\": \"Beach Cities Transit 109 Northbound\", \"route_short_name\": null, \"route_id2\": \"BCT109 NB\", \"cutoff2\": 30, \"cutoff\": 2}, {\"calitp_itp_id\": 260, \"trip_key\": 84845425813148536, \"trip_id\": \"BCT109 NB_MF.T14\", \"shape_id\": \"BCT109 NB\", \"route_id\": \"BCT109 NB\", \"service_hours\": 1.28, \"trip_first_departure_ts\": 57300, \"trip_last_arrival_ts\": 61920, \"departure_hour\": 15, \"time_of_day\": \"Midday\", \"p25\": 1.28, \"p50\": 1.28, \"p75\": 1.28, \"p50_trip\": 1, \"fastest_trip\": 0, \"car_duration_hours\": 0.83, \"competitive_route\": 1, \"bus_multiplier\": 1.54, \"bus_difference\": 27.0, \"num_trips\": 20, \"num_competitive\": 20, \"pct_trips_competitive\": 1.0, \"bus_difference_spread\": 3.6000000000000014, \"route_group\": \"medium\", \"max_trip_hrs\": 1.28, \"max_trip_route_group\": 1.28, \"below_cutoff\": 20, \"pct_below_cutoff\": 1.0, \"calitp_agency_name\": \"Beach Cities Transit\", \"caltrans_district\": \"07 - Los Angeles\", \"route_name\": \"Beach Cities Transit 109 Northbound\", \"route_short_name\": null, \"route_id2\": \"BCT109 NB\", \"cutoff2\": 30, \"cutoff\": 2}, {\"calitp_itp_id\": 260, \"trip_key\": 6559195403394685853, \"trip_id\": \"BCT109 NB_MF.T07\", \"shape_id\": \"BCT109 NB\", \"route_id\": \"BCT109 NB\", \"service_hours\": 1.28, \"trip_first_departure_ts\": 37500, \"trip_last_arrival_ts\": 42120, \"departure_hour\": 10, \"time_of_day\": \"Midday\", \"p25\": 1.28, \"p50\": 1.28, \"p75\": 1.28, \"p50_trip\": 1, \"fastest_trip\": 0, \"car_duration_hours\": 0.83, \"competitive_route\": 1, \"bus_multiplier\": 1.54, \"bus_difference\": 27.0, \"num_trips\": 20, \"num_competitive\": 20, \"pct_trips_competitive\": 1.0, \"bus_difference_spread\": 3.6000000000000014, \"route_group\": \"medium\", \"max_trip_hrs\": 1.28, \"max_trip_route_group\": 1.28, \"below_cutoff\": 20, \"pct_below_cutoff\": 1.0, \"calitp_agency_name\": \"Beach Cities Transit\", \"caltrans_district\": \"07 - Los Angeles\", \"route_name\": \"Beach Cities Transit 109 Northbound\", \"route_short_name\": null, \"route_id2\": \"BCT109 NB\", \"cutoff2\": 30, \"cutoff\": 2}, {\"calitp_itp_id\": 260, \"trip_key\": -4238208434499862872, \"trip_id\": \"BCT109 NB_MF.T10\", \"shape_id\": \"BCT109 NB\", \"route_id\": \"BCT109 NB\", \"service_hours\": 1.28, \"trip_first_departure_ts\": 45300, \"trip_last_arrival_ts\": 49920, \"departure_hour\": 12, \"time_of_day\": \"Midday\", \"p25\": 1.28, \"p50\": 1.28, \"p75\": 1.28, \"p50_trip\": 1, \"fastest_trip\": 0, \"car_duration_hours\": 0.83, \"competitive_route\": 1, \"bus_multiplier\": 1.54, \"bus_difference\": 27.0, \"num_trips\": 20, \"num_competitive\": 20, \"pct_trips_competitive\": 1.0, \"bus_difference_spread\": 3.6000000000000014, \"route_group\": \"medium\", \"max_trip_hrs\": 1.28, \"max_trip_route_group\": 1.28, \"below_cutoff\": 20, \"pct_below_cutoff\": 1.0, \"calitp_agency_name\": \"Beach Cities Transit\", \"caltrans_district\": \"07 - Los Angeles\", \"route_name\": \"Beach Cities Transit 109 Northbound\", \"route_short_name\": null, \"route_id2\": \"BCT109 NB\", \"cutoff2\": 30, \"cutoff\": 2}, {\"calitp_itp_id\": 260, \"trip_key\": -5929374785087733782, \"trip_id\": \"BCT109 NB_MF.T12\", \"shape_id\": \"BCT109 NB\", \"route_id\": \"BCT109 NB\", \"service_hours\": 1.28, \"trip_first_departure_ts\": 52200, \"trip_last_arrival_ts\": 56820, \"departure_hour\": 14, \"time_of_day\": \"Midday\", \"p25\": 1.28, \"p50\": 1.28, \"p75\": 1.28, \"p50_trip\": 1, \"fastest_trip\": 0, \"car_duration_hours\": 0.83, \"competitive_route\": 1, \"bus_multiplier\": 1.54, \"bus_difference\": 27.0, \"num_trips\": 20, \"num_competitive\": 20, \"pct_trips_competitive\": 1.0, \"bus_difference_spread\": 3.6000000000000014, \"route_group\": \"medium\", \"max_trip_hrs\": 1.28, \"max_trip_route_group\": 1.28, \"below_cutoff\": 20, \"pct_below_cutoff\": 1.0, \"calitp_agency_name\": \"Beach Cities Transit\", \"caltrans_district\": \"07 - Los Angeles\", \"route_name\": \"Beach Cities Transit 109 Northbound\", \"route_short_name\": null, \"route_id2\": \"BCT109 NB\", \"cutoff2\": 30, \"cutoff\": 2}, {\"calitp_itp_id\": 260, \"trip_key\": 8367892553357170010, \"trip_id\": \"BCT109 NB_MF.T20\", \"shape_id\": \"BCT109 NB\", \"route_id\": \"BCT109 NB\", \"service_hours\": 1.28, \"trip_first_departure_ts\": 73800, \"trip_last_arrival_ts\": 78420, \"departure_hour\": 20, \"time_of_day\": \"Owl Service\", \"p25\": 1.28, \"p50\": 1.28, \"p75\": 1.28, \"p50_trip\": 1, \"fastest_trip\": 0, \"car_duration_hours\": 0.83, \"competitive_route\": 1, \"bus_multiplier\": 1.54, \"bus_difference\": 27.0, \"num_trips\": 20, \"num_competitive\": 20, \"pct_trips_competitive\": 1.0, \"bus_difference_spread\": 3.6000000000000014, \"route_group\": \"medium\", \"max_trip_hrs\": 1.28, \"max_trip_route_group\": 1.28, \"below_cutoff\": 20, \"pct_below_cutoff\": 1.0, \"calitp_agency_name\": \"Beach Cities Transit\", \"caltrans_district\": \"07 - Los Angeles\", \"route_name\": \"Beach Cities Transit 109 Northbound\", \"route_short_name\": null, \"route_id2\": \"BCT109 NB\", \"cutoff2\": 30, \"cutoff\": 2}, {\"calitp_itp_id\": 260, \"trip_key\": -8827795785864707041, \"trip_id\": \"BCT109 NB_MF.T05\", \"shape_id\": \"BCT109 NB\", \"route_id\": \"BCT109 NB\", \"service_hours\": 1.28, \"trip_first_departure_ts\": 31800, \"trip_last_arrival_ts\": 36420, \"departure_hour\": 8, \"time_of_day\": \"AM Peak\", \"p25\": 1.28, \"p50\": 1.28, \"p75\": 1.28, \"p50_trip\": 1, \"fastest_trip\": 0, \"car_duration_hours\": 0.83, \"competitive_route\": 1, \"bus_multiplier\": 1.54, \"bus_difference\": 27.0, \"num_trips\": 20, \"num_competitive\": 20, \"pct_trips_competitive\": 1.0, \"bus_difference_spread\": 3.6000000000000014, \"route_group\": \"medium\", \"max_trip_hrs\": 1.28, \"max_trip_route_group\": 1.28, \"below_cutoff\": 20, \"pct_below_cutoff\": 1.0, \"calitp_agency_name\": \"Beach Cities Transit\", \"caltrans_district\": \"07 - Los Angeles\", \"route_name\": \"Beach Cities Transit 109 Northbound\", \"route_short_name\": null, \"route_id2\": \"BCT109 NB\", \"cutoff2\": 30, \"cutoff\": 2}, {\"calitp_itp_id\": 260, \"trip_key\": -7343359897475375849, \"trip_id\": \"BCT109 NB_MF.T13\", \"shape_id\": \"BCT109 NB\", \"route_id\": \"BCT109 NB\", \"service_hours\": 1.28, \"trip_first_departure_ts\": 54600, \"trip_last_arrival_ts\": 59220, \"departure_hour\": 15, \"time_of_day\": \"Midday\", \"p25\": 1.28, \"p50\": 1.28, \"p75\": 1.28, \"p50_trip\": 1, \"fastest_trip\": 0, \"car_duration_hours\": 0.83, \"competitive_route\": 1, \"bus_multiplier\": 1.54, \"bus_difference\": 27.0, \"num_trips\": 20, \"num_competitive\": 20, \"pct_trips_competitive\": 1.0, \"bus_difference_spread\": 3.6000000000000014, \"route_group\": \"medium\", \"max_trip_hrs\": 1.28, \"max_trip_route_group\": 1.28, \"below_cutoff\": 20, \"pct_below_cutoff\": 1.0, \"calitp_agency_name\": \"Beach Cities Transit\", \"caltrans_district\": \"07 - Los Angeles\", \"route_name\": \"Beach Cities Transit 109 Northbound\", \"route_short_name\": null, \"route_id2\": \"BCT109 NB\", \"cutoff2\": 30, \"cutoff\": 2}, {\"calitp_itp_id\": 260, \"trip_key\": -5831490653988659755, \"trip_id\": \"BCT109 NB_MF.T18\", \"shape_id\": \"BCT109 NB\", \"route_id\": \"BCT109 NB\", \"service_hours\": 1.28, \"trip_first_departure_ts\": 68100, \"trip_last_arrival_ts\": 72720, \"departure_hour\": 18, \"time_of_day\": \"PM Peak\", \"p25\": 1.28, \"p50\": 1.28, \"p75\": 1.28, \"p50_trip\": 1, \"fastest_trip\": 0, \"car_duration_hours\": 0.83, \"competitive_route\": 1, \"bus_multiplier\": 1.54, \"bus_difference\": 27.0, \"num_trips\": 20, \"num_competitive\": 20, \"pct_trips_competitive\": 1.0, \"bus_difference_spread\": 3.6000000000000014, \"route_group\": \"medium\", \"max_trip_hrs\": 1.28, \"max_trip_route_group\": 1.28, \"below_cutoff\": 20, \"pct_below_cutoff\": 1.0, \"calitp_agency_name\": \"Beach Cities Transit\", \"caltrans_district\": \"07 - Los Angeles\", \"route_name\": \"Beach Cities Transit 109 Northbound\", \"route_short_name\": null, \"route_id2\": \"BCT109 NB\", \"cutoff2\": 30, \"cutoff\": 2}, {\"calitp_itp_id\": 260, \"trip_key\": -6459932311807863698, \"trip_id\": \"BCT109 NB_MF.T09\", \"shape_id\": \"BCT109 NB\", \"route_id\": \"BCT109 NB\", \"service_hours\": 1.28, \"trip_first_departure_ts\": 42600, \"trip_last_arrival_ts\": 47220, \"departure_hour\": 11, \"time_of_day\": \"Midday\", \"p25\": 1.28, \"p50\": 1.28, \"p75\": 1.28, \"p50_trip\": 1, \"fastest_trip\": 0, \"car_duration_hours\": 0.83, \"competitive_route\": 1, \"bus_multiplier\": 1.54, \"bus_difference\": 27.0, \"num_trips\": 20, \"num_competitive\": 20, \"pct_trips_competitive\": 1.0, \"bus_difference_spread\": 3.6000000000000014, \"route_group\": \"medium\", \"max_trip_hrs\": 1.28, \"max_trip_route_group\": 1.28, \"below_cutoff\": 20, \"pct_below_cutoff\": 1.0, \"calitp_agency_name\": \"Beach Cities Transit\", \"caltrans_district\": \"07 - Los Angeles\", \"route_name\": \"Beach Cities Transit 109 Northbound\", \"route_short_name\": null, \"route_id2\": \"BCT109 NB\", \"cutoff2\": 30, \"cutoff\": 2}, {\"calitp_itp_id\": 260, \"trip_key\": 8751971087300252775, \"trip_id\": \"BCT109 NB_MF.T15\", \"shape_id\": \"BCT109 NB\", \"route_id\": \"BCT109 NB\", \"service_hours\": 1.28, \"trip_first_departure_ts\": 60300, \"trip_last_arrival_ts\": 64920, \"departure_hour\": 16, \"time_of_day\": \"Midday\", \"p25\": 1.28, \"p50\": 1.28, \"p75\": 1.28, \"p50_trip\": 1, \"fastest_trip\": 0, \"car_duration_hours\": 0.83, \"competitive_route\": 1, \"bus_multiplier\": 1.54, \"bus_difference\": 27.0, \"num_trips\": 20, \"num_competitive\": 20, \"pct_trips_competitive\": 1.0, \"bus_difference_spread\": 3.6000000000000014, \"route_group\": \"medium\", \"max_trip_hrs\": 1.28, \"max_trip_route_group\": 1.28, \"below_cutoff\": 20, \"pct_below_cutoff\": 1.0, \"calitp_agency_name\": \"Beach Cities Transit\", \"caltrans_district\": \"07 - Los Angeles\", \"route_name\": \"Beach Cities Transit 109 Northbound\", \"route_short_name\": null, \"route_id2\": \"BCT109 NB\", \"cutoff2\": 30, \"cutoff\": 2}, {\"calitp_itp_id\": 260, \"trip_key\": 650064259460204168, \"trip_id\": \"BCT109 NB_MF.T06\", \"shape_id\": \"BCT109 NB\", \"route_id\": \"BCT109 NB\", \"service_hours\": 1.28, \"trip_first_departure_ts\": 34500, \"trip_last_arrival_ts\": 39120, \"departure_hour\": 9, \"time_of_day\": \"AM Peak\", \"p25\": 1.28, \"p50\": 1.28, \"p75\": 1.28, \"p50_trip\": 1, \"fastest_trip\": 0, \"car_duration_hours\": 0.83, \"competitive_route\": 1, \"bus_multiplier\": 1.54, \"bus_difference\": 27.0, \"num_trips\": 20, \"num_competitive\": 20, \"pct_trips_competitive\": 1.0, \"bus_difference_spread\": 3.6000000000000014, \"route_group\": \"medium\", \"max_trip_hrs\": 1.28, \"max_trip_route_group\": 1.28, \"below_cutoff\": 20, \"pct_below_cutoff\": 1.0, \"calitp_agency_name\": \"Beach Cities Transit\", \"caltrans_district\": \"07 - Los Angeles\", \"route_name\": \"Beach Cities Transit 109 Northbound\", \"route_short_name\": null, \"route_id2\": \"BCT109 NB\", \"cutoff2\": 30, \"cutoff\": 2}, {\"calitp_itp_id\": 260, \"trip_key\": -1941445509852013822, \"trip_id\": \"BCT109 NB_MF.T16\", \"shape_id\": \"BCT109 NB\", \"route_id\": \"BCT109 NB\", \"service_hours\": 1.28, \"trip_first_departure_ts\": 63000, \"trip_last_arrival_ts\": 67620, \"departure_hour\": 17, \"time_of_day\": \"PM Peak\", \"p25\": 1.28, \"p50\": 1.28, \"p75\": 1.28, \"p50_trip\": 1, \"fastest_trip\": 0, \"car_duration_hours\": 0.83, \"competitive_route\": 1, \"bus_multiplier\": 1.54, \"bus_difference\": 27.0, \"num_trips\": 20, \"num_competitive\": 20, \"pct_trips_competitive\": 1.0, \"bus_difference_spread\": 3.6000000000000014, \"route_group\": \"medium\", \"max_trip_hrs\": 1.28, \"max_trip_route_group\": 1.28, \"below_cutoff\": 20, \"pct_below_cutoff\": 1.0, \"calitp_agency_name\": \"Beach Cities Transit\", \"caltrans_district\": \"07 - Los Angeles\", \"route_name\": \"Beach Cities Transit 109 Northbound\", \"route_short_name\": null, \"route_id2\": \"BCT109 NB\", \"cutoff2\": 30, \"cutoff\": 2}, {\"calitp_itp_id\": 260, \"trip_key\": 3723404524443184751, \"trip_id\": \"BCT109 NB_MF.T08\", \"shape_id\": \"BCT109 NB\", \"route_id\": \"BCT109 NB\", \"service_hours\": 1.28, \"trip_first_departure_ts\": 40200, \"trip_last_arrival_ts\": 44820, \"departure_hour\": 11, \"time_of_day\": \"Midday\", \"p25\": 1.28, \"p50\": 1.28, \"p75\": 1.28, \"p50_trip\": 1, \"fastest_trip\": 0, \"car_duration_hours\": 0.83, \"competitive_route\": 1, \"bus_multiplier\": 1.54, \"bus_difference\": 27.0, \"num_trips\": 20, \"num_competitive\": 20, \"pct_trips_competitive\": 1.0, \"bus_difference_spread\": 3.6000000000000014, \"route_group\": \"medium\", \"max_trip_hrs\": 1.28, \"max_trip_route_group\": 1.28, \"below_cutoff\": 20, \"pct_below_cutoff\": 1.0, \"calitp_agency_name\": \"Beach Cities Transit\", \"caltrans_district\": \"07 - Los Angeles\", \"route_name\": \"Beach Cities Transit 109 Northbound\", \"route_short_name\": null, \"route_id2\": \"BCT109 NB\", \"cutoff2\": 30, \"cutoff\": 2}, {\"calitp_itp_id\": 260, \"trip_key\": -7769911764283861301, \"trip_id\": \"BCT109 SB_MF.T05\", \"shape_id\": \"BCT109 SB\", \"route_id\": \"BCT109 SB\", \"service_hours\": 1.33, \"trip_first_departure_ts\": 32100, \"trip_last_arrival_ts\": 36900, \"departure_hour\": 8, \"time_of_day\": \"AM Peak\", \"p25\": 1.33, \"p50\": 1.33, \"p75\": 1.33, \"p50_trip\": 1, \"fastest_trip\": 0, \"car_duration_hours\": 1.1, \"competitive_route\": 1, \"bus_multiplier\": 1.21, \"bus_difference\": 13.8, \"num_trips\": 20, \"num_competitive\": 20, \"pct_trips_competitive\": 1.0, \"bus_difference_spread\": 0.0, \"route_group\": \"medium\", \"max_trip_hrs\": 1.33, \"max_trip_route_group\": 1.33, \"below_cutoff\": 20, \"pct_below_cutoff\": 1.0, \"calitp_agency_name\": \"Beach Cities Transit\", \"caltrans_district\": \"07 - Los Angeles\", \"route_name\": \"Beach Cities Transit 109 Southbound\", \"route_short_name\": null, \"route_id2\": \"BCT109 SB\", \"cutoff2\": 30, \"cutoff\": 2}, {\"calitp_itp_id\": 260, \"trip_key\": 8823191204635919285, \"trip_id\": \"BCT109 SB_MF.T17\", \"shape_id\": \"BCT109 SB\", \"route_id\": \"BCT109 SB\", \"service_hours\": 1.33, \"trip_first_departure_ts\": 65700, \"trip_last_arrival_ts\": 70500, \"departure_hour\": 18, \"time_of_day\": \"PM Peak\", \"p25\": 1.33, \"p50\": 1.33, \"p75\": 1.33, \"p50_trip\": 1, \"fastest_trip\": 0, \"car_duration_hours\": 1.1, \"competitive_route\": 1, \"bus_multiplier\": 1.21, \"bus_difference\": 13.8, \"num_trips\": 20, \"num_competitive\": 20, \"pct_trips_competitive\": 1.0, \"bus_difference_spread\": 0.0, \"route_group\": \"medium\", \"max_trip_hrs\": 1.33, \"max_trip_route_group\": 1.33, \"below_cutoff\": 20, \"pct_below_cutoff\": 1.0, \"calitp_agency_name\": \"Beach Cities Transit\", \"caltrans_district\": \"07 - Los Angeles\", \"route_name\": \"Beach Cities Transit 109 Southbound\", \"route_short_name\": null, \"route_id2\": \"BCT109 SB\", \"cutoff2\": 30, \"cutoff\": 2}, {\"calitp_itp_id\": 260, \"trip_key\": 9206665950355318065, \"trip_id\": \"BCT109 SB_MF.T16\", \"shape_id\": \"BCT109 SB\", \"route_id\": \"BCT109 SB\", \"service_hours\": 1.33, \"trip_first_departure_ts\": 62700, \"trip_last_arrival_ts\": 67500, \"departure_hour\": 17, \"time_of_day\": \"PM Peak\", \"p25\": 1.33, \"p50\": 1.33, \"p75\": 1.33, \"p50_trip\": 1, \"fastest_trip\": 0, \"car_duration_hours\": 1.1, \"competitive_route\": 1, \"bus_multiplier\": 1.21, \"bus_difference\": 13.8, \"num_trips\": 20, \"num_competitive\": 20, \"pct_trips_competitive\": 1.0, \"bus_difference_spread\": 0.0, \"route_group\": \"medium\", \"max_trip_hrs\": 1.33, \"max_trip_route_group\": 1.33, \"below_cutoff\": 20, \"pct_below_cutoff\": 1.0, \"calitp_agency_name\": \"Beach Cities Transit\", \"caltrans_district\": \"07 - Los Angeles\", \"route_name\": \"Beach Cities Transit 109 Southbound\", \"route_short_name\": null, \"route_id2\": \"BCT109 SB\", \"cutoff2\": 30, \"cutoff\": 2}, {\"calitp_itp_id\": 260, \"trip_key\": -4499201128805887979, \"trip_id\": \"BCT109 SB_MF.T20\", \"shape_id\": \"BCT109 SB\", \"route_id\": \"BCT109 SB\", \"service_hours\": 1.33, \"trip_first_departure_ts\": 73500, \"trip_last_arrival_ts\": 78300, \"departure_hour\": 20, \"time_of_day\": \"Owl Service\", \"p25\": 1.33, \"p50\": 1.33, \"p75\": 1.33, \"p50_trip\": 1, \"fastest_trip\": 1, \"car_duration_hours\": 1.1, \"competitive_route\": 1, \"bus_multiplier\": 1.21, \"bus_difference\": 13.8, \"num_trips\": 20, \"num_competitive\": 20, \"pct_trips_competitive\": 1.0, \"bus_difference_spread\": 0.0, \"route_group\": \"medium\", \"max_trip_hrs\": 1.33, \"max_trip_route_group\": 1.33, \"below_cutoff\": 20, \"pct_below_cutoff\": 1.0, \"calitp_agency_name\": \"Beach Cities Transit\", \"caltrans_district\": \"07 - Los Angeles\", \"route_name\": \"Beach Cities Transit 109 Southbound\", \"route_short_name\": null, \"route_id2\": \"BCT109 SB\", \"cutoff2\": 30, \"cutoff\": 2}, {\"calitp_itp_id\": 260, \"trip_key\": -950805648954300900, \"trip_id\": \"BCT109 SB_MF.T15\", \"shape_id\": \"BCT109 SB\", \"route_id\": \"BCT109 SB\", \"service_hours\": 1.33, \"trip_first_departure_ts\": 60000, \"trip_last_arrival_ts\": 64800, \"departure_hour\": 16, \"time_of_day\": \"Midday\", \"p25\": 1.33, \"p50\": 1.33, \"p75\": 1.33, \"p50_trip\": 1, \"fastest_trip\": 0, \"car_duration_hours\": 1.1, \"competitive_route\": 1, \"bus_multiplier\": 1.21, \"bus_difference\": 13.8, \"num_trips\": 20, \"num_competitive\": 20, \"pct_trips_competitive\": 1.0, \"bus_difference_spread\": 0.0, \"route_group\": \"medium\", \"max_trip_hrs\": 1.33, \"max_trip_route_group\": 1.33, \"below_cutoff\": 20, \"pct_below_cutoff\": 1.0, \"calitp_agency_name\": \"Beach Cities Transit\", \"caltrans_district\": \"07 - Los Angeles\", \"route_name\": \"Beach Cities Transit 109 Southbound\", \"route_short_name\": null, \"route_id2\": \"BCT109 SB\", \"cutoff2\": 30, \"cutoff\": 2}, {\"calitp_itp_id\": 260, \"trip_key\": 5483605554865067177, \"trip_id\": \"BCT109 SB_MF.T01\", \"shape_id\": \"BCT109 SB\", \"route_id\": \"BCT109 SB\", \"service_hours\": 1.33, \"trip_first_departure_ts\": 21300, \"trip_last_arrival_ts\": 26100, \"departure_hour\": 5, \"time_of_day\": \"Owl Service\", \"p25\": 1.33, \"p50\": 1.33, \"p75\": 1.33, \"p50_trip\": 1, \"fastest_trip\": 0, \"car_duration_hours\": 1.1, \"competitive_route\": 1, \"bus_multiplier\": 1.21, \"bus_difference\": 13.8, \"num_trips\": 20, \"num_competitive\": 20, \"pct_trips_competitive\": 1.0, \"bus_difference_spread\": 0.0, \"route_group\": \"medium\", \"max_trip_hrs\": 1.33, \"max_trip_route_group\": 1.33, \"below_cutoff\": 20, \"pct_below_cutoff\": 1.0, \"calitp_agency_name\": \"Beach Cities Transit\", \"caltrans_district\": \"07 - Los Angeles\", \"route_name\": \"Beach Cities Transit 109 Southbound\", \"route_short_name\": null, \"route_id2\": \"BCT109 SB\", \"cutoff2\": 30, \"cutoff\": 2}, {\"calitp_itp_id\": 260, \"trip_key\": -4780138184419908344, \"trip_id\": \"BCT109 SB_MF.T14\", \"shape_id\": \"BCT109 SB\", \"route_id\": \"BCT109 SB\", \"service_hours\": 1.33, \"trip_first_departure_ts\": 57600, \"trip_last_arrival_ts\": 62400, \"departure_hour\": 16, \"time_of_day\": \"Midday\", \"p25\": 1.33, \"p50\": 1.33, \"p75\": 1.33, \"p50_trip\": 1, \"fastest_trip\": 0, \"car_duration_hours\": 1.1, \"competitive_route\": 1, \"bus_multiplier\": 1.21, \"bus_difference\": 13.8, \"num_trips\": 20, \"num_competitive\": 20, \"pct_trips_competitive\": 1.0, \"bus_difference_spread\": 0.0, \"route_group\": \"medium\", \"max_trip_hrs\": 1.33, \"max_trip_route_group\": 1.33, \"below_cutoff\": 20, \"pct_below_cutoff\": 1.0, \"calitp_agency_name\": \"Beach Cities Transit\", \"caltrans_district\": \"07 - Los Angeles\", \"route_name\": \"Beach Cities Transit 109 Southbound\", \"route_short_name\": null, \"route_id2\": \"BCT109 SB\", \"cutoff2\": 30, \"cutoff\": 2}, {\"calitp_itp_id\": 260, \"trip_key\": -4425915001469547984, \"trip_id\": \"BCT109 SB_MF.T03\", \"shape_id\": \"BCT109 SB\", \"route_id\": \"BCT109 SB\", \"service_hours\": 1.33, \"trip_first_departure_ts\": 26400, \"trip_last_arrival_ts\": 31200, \"departure_hour\": 7, \"time_of_day\": \"AM Peak\", \"p25\": 1.33, \"p50\": 1.33, \"p75\": 1.33, \"p50_trip\": 1, \"fastest_trip\": 0, \"car_duration_hours\": 1.1, \"competitive_route\": 1, \"bus_multiplier\": 1.21, \"bus_difference\": 13.8, \"num_trips\": 20, \"num_competitive\": 20, \"pct_trips_competitive\": 1.0, \"bus_difference_spread\": 0.0, \"route_group\": \"medium\", \"max_trip_hrs\": 1.33, \"max_trip_route_group\": 1.33, \"below_cutoff\": 20, \"pct_below_cutoff\": 1.0, \"calitp_agency_name\": \"Beach Cities Transit\", \"caltrans_district\": \"07 - Los Angeles\", \"route_name\": \"Beach Cities Transit 109 Southbound\", \"route_short_name\": null, \"route_id2\": \"BCT109 SB\", \"cutoff2\": 30, \"cutoff\": 2}, {\"calitp_itp_id\": 260, \"trip_key\": -6387492083207951242, \"trip_id\": \"BCT109 SB_MF.T11\", \"shape_id\": \"BCT109 SB\", \"route_id\": \"BCT109 SB\", \"service_hours\": 1.33, \"trip_first_departure_ts\": 49200, \"trip_last_arrival_ts\": 54000, \"departure_hour\": 13, \"time_of_day\": \"Midday\", \"p25\": 1.33, \"p50\": 1.33, \"p75\": 1.33, \"p50_trip\": 1, \"fastest_trip\": 0, \"car_duration_hours\": 1.1, \"competitive_route\": 1, \"bus_multiplier\": 1.21, \"bus_difference\": 13.8, \"num_trips\": 20, \"num_competitive\": 20, \"pct_trips_competitive\": 1.0, \"bus_difference_spread\": 0.0, \"route_group\": \"medium\", \"max_trip_hrs\": 1.33, \"max_trip_route_group\": 1.33, \"below_cutoff\": 20, \"pct_below_cutoff\": 1.0, \"calitp_agency_name\": \"Beach Cities Transit\", \"caltrans_district\": \"07 - Los Angeles\", \"route_name\": \"Beach Cities Transit 109 Southbound\", \"route_short_name\": null, \"route_id2\": \"BCT109 SB\", \"cutoff2\": 30, \"cutoff\": 2}, {\"calitp_itp_id\": 260, \"trip_key\": -3213125366714638313, \"trip_id\": \"BCT109 SB_MF.T13\", \"shape_id\": \"BCT109 SB\", \"route_id\": \"BCT109 SB\", \"service_hours\": 1.33, \"trip_first_departure_ts\": 54900, \"trip_last_arrival_ts\": 59700, \"departure_hour\": 15, \"time_of_day\": \"Midday\", \"p25\": 1.33, \"p50\": 1.33, \"p75\": 1.33, \"p50_trip\": 1, \"fastest_trip\": 0, \"car_duration_hours\": 1.1, \"competitive_route\": 1, \"bus_multiplier\": 1.21, \"bus_difference\": 13.8, \"num_trips\": 20, \"num_competitive\": 20, \"pct_trips_competitive\": 1.0, \"bus_difference_spread\": 0.0, \"route_group\": \"medium\", \"max_trip_hrs\": 1.33, \"max_trip_route_group\": 1.33, \"below_cutoff\": 20, \"pct_below_cutoff\": 1.0, \"calitp_agency_name\": \"Beach Cities Transit\", \"caltrans_district\": \"07 - Los Angeles\", \"route_name\": \"Beach Cities Transit 109 Southbound\", \"route_short_name\": null, \"route_id2\": \"BCT109 SB\", \"cutoff2\": 30, \"cutoff\": 2}, {\"calitp_itp_id\": 260, \"trip_key\": 3809111814313801124, \"trip_id\": \"BCT109 SB_MF.T07\", \"shape_id\": \"BCT109 SB\", \"route_id\": \"BCT109 SB\", \"service_hours\": 1.33, \"trip_first_departure_ts\": 37200, \"trip_last_arrival_ts\": 42000, \"departure_hour\": 10, \"time_of_day\": \"Midday\", \"p25\": 1.33, \"p50\": 1.33, \"p75\": 1.33, \"p50_trip\": 1, \"fastest_trip\": 0, \"car_duration_hours\": 1.1, \"competitive_route\": 1, \"bus_multiplier\": 1.21, \"bus_difference\": 13.8, \"num_trips\": 20, \"num_competitive\": 20, \"pct_trips_competitive\": 1.0, \"bus_difference_spread\": 0.0, \"route_group\": \"medium\", \"max_trip_hrs\": 1.33, \"max_trip_route_group\": 1.33, \"below_cutoff\": 20, \"pct_below_cutoff\": 1.0, \"calitp_agency_name\": \"Beach Cities Transit\", \"caltrans_district\": \"07 - Los Angeles\", \"route_name\": \"Beach Cities Transit 109 Southbound\", \"route_short_name\": null, \"route_id2\": \"BCT109 SB\", \"cutoff2\": 30, \"cutoff\": 2}, {\"calitp_itp_id\": 260, \"trip_key\": -8946219895800285709, \"trip_id\": \"BCT109 SB_MF.T12\", \"shape_id\": \"BCT109 SB\", \"route_id\": \"BCT109 SB\", \"service_hours\": 1.33, \"trip_first_departure_ts\": 51900, \"trip_last_arrival_ts\": 56700, \"departure_hour\": 14, \"time_of_day\": \"Midday\", \"p25\": 1.33, \"p50\": 1.33, \"p75\": 1.33, \"p50_trip\": 1, \"fastest_trip\": 0, \"car_duration_hours\": 1.1, \"competitive_route\": 1, \"bus_multiplier\": 1.21, \"bus_difference\": 13.8, \"num_trips\": 20, \"num_competitive\": 20, \"pct_trips_competitive\": 1.0, \"bus_difference_spread\": 0.0, \"route_group\": \"medium\", \"max_trip_hrs\": 1.33, \"max_trip_route_group\": 1.33, \"below_cutoff\": 20, \"pct_below_cutoff\": 1.0, \"calitp_agency_name\": \"Beach Cities Transit\", \"caltrans_district\": \"07 - Los Angeles\", \"route_name\": \"Beach Cities Transit 109 Southbound\", \"route_short_name\": null, \"route_id2\": \"BCT109 SB\", \"cutoff2\": 30, \"cutoff\": 2}, {\"calitp_itp_id\": 260, \"trip_key\": 8591784665566234450, \"trip_id\": \"BCT109 SB_MF.T08\", \"shape_id\": \"BCT109 SB\", \"route_id\": \"BCT109 SB\", \"service_hours\": 1.33, \"trip_first_departure_ts\": 39900, \"trip_last_arrival_ts\": 44700, \"departure_hour\": 11, \"time_of_day\": \"Midday\", \"p25\": 1.33, \"p50\": 1.33, \"p75\": 1.33, \"p50_trip\": 1, \"fastest_trip\": 0, \"car_duration_hours\": 1.1, \"competitive_route\": 1, \"bus_multiplier\": 1.21, \"bus_difference\": 13.8, \"num_trips\": 20, \"num_competitive\": 20, \"pct_trips_competitive\": 1.0, \"bus_difference_spread\": 0.0, \"route_group\": \"medium\", \"max_trip_hrs\": 1.33, \"max_trip_route_group\": 1.33, \"below_cutoff\": 20, \"pct_below_cutoff\": 1.0, \"calitp_agency_name\": \"Beach Cities Transit\", \"caltrans_district\": \"07 - Los Angeles\", \"route_name\": \"Beach Cities Transit 109 Southbound\", \"route_short_name\": null, \"route_id2\": \"BCT109 SB\", \"cutoff2\": 30, \"cutoff\": 2}, {\"calitp_itp_id\": 260, \"trip_key\": -5692302563158925297, \"trip_id\": \"BCT109 SB_MF.T02\", \"shape_id\": \"BCT109 SB\", \"route_id\": \"BCT109 SB\", \"service_hours\": 1.33, \"trip_first_departure_ts\": 24000, \"trip_last_arrival_ts\": 28800, \"departure_hour\": 6, \"time_of_day\": \"Owl Service\", \"p25\": 1.33, \"p50\": 1.33, \"p75\": 1.33, \"p50_trip\": 1, \"fastest_trip\": 0, \"car_duration_hours\": 1.1, \"competitive_route\": 1, \"bus_multiplier\": 1.21, \"bus_difference\": 13.8, \"num_trips\": 20, \"num_competitive\": 20, \"pct_trips_competitive\": 1.0, \"bus_difference_spread\": 0.0, \"route_group\": \"medium\", \"max_trip_hrs\": 1.33, \"max_trip_route_group\": 1.33, \"below_cutoff\": 20, \"pct_below_cutoff\": 1.0, \"calitp_agency_name\": \"Beach Cities Transit\", \"caltrans_district\": \"07 - Los Angeles\", \"route_name\": \"Beach Cities Transit 109 Southbound\", \"route_short_name\": null, \"route_id2\": \"BCT109 SB\", \"cutoff2\": 30, \"cutoff\": 2}, {\"calitp_itp_id\": 260, \"trip_key\": -6167030381298569725, \"trip_id\": \"BCT109 SB_MF.T04\", \"shape_id\": \"BCT109 SB\", \"route_id\": \"BCT109 SB\", \"service_hours\": 1.33, \"trip_first_departure_ts\": 29100, \"trip_last_arrival_ts\": 33900, \"departure_hour\": 8, \"time_of_day\": \"AM Peak\", \"p25\": 1.33, \"p50\": 1.33, \"p75\": 1.33, \"p50_trip\": 1, \"fastest_trip\": 0, \"car_duration_hours\": 1.1, \"competitive_route\": 1, \"bus_multiplier\": 1.21, \"bus_difference\": 13.8, \"num_trips\": 20, \"num_competitive\": 20, \"pct_trips_competitive\": 1.0, \"bus_difference_spread\": 0.0, \"route_group\": \"medium\", \"max_trip_hrs\": 1.33, \"max_trip_route_group\": 1.33, \"below_cutoff\": 20, \"pct_below_cutoff\": 1.0, \"calitp_agency_name\": \"Beach Cities Transit\", \"caltrans_district\": \"07 - Los Angeles\", \"route_name\": \"Beach Cities Transit 109 Southbound\", \"route_short_name\": null, \"route_id2\": \"BCT109 SB\", \"cutoff2\": 30, \"cutoff\": 2}, {\"calitp_itp_id\": 260, \"trip_key\": -5704407478966822574, \"trip_id\": \"BCT109 SB_MF.T19\", \"shape_id\": \"BCT109 SB\", \"route_id\": \"BCT109 SB\", \"service_hours\": 1.33, \"trip_first_departure_ts\": 70800, \"trip_last_arrival_ts\": 75600, \"departure_hour\": 19, \"time_of_day\": \"PM Peak\", \"p25\": 1.33, \"p50\": 1.33, \"p75\": 1.33, \"p50_trip\": 1, \"fastest_trip\": 0, \"car_duration_hours\": 1.1, \"competitive_route\": 1, \"bus_multiplier\": 1.21, \"bus_difference\": 13.8, \"num_trips\": 20, \"num_competitive\": 20, \"pct_trips_competitive\": 1.0, \"bus_difference_spread\": 0.0, \"route_group\": \"medium\", \"max_trip_hrs\": 1.33, \"max_trip_route_group\": 1.33, \"below_cutoff\": 20, \"pct_below_cutoff\": 1.0, \"calitp_agency_name\": \"Beach Cities Transit\", \"caltrans_district\": \"07 - Los Angeles\", \"route_name\": \"Beach Cities Transit 109 Southbound\", \"route_short_name\": null, \"route_id2\": \"BCT109 SB\", \"cutoff2\": 30, \"cutoff\": 2}, {\"calitp_itp_id\": 260, \"trip_key\": 6970404091750010637, \"trip_id\": \"BCT109 SB_MF.T06\", \"shape_id\": \"BCT109 SB\", \"route_id\": \"BCT109 SB\", \"service_hours\": 1.33, \"trip_first_departure_ts\": 34800, \"trip_last_arrival_ts\": 39600, \"departure_hour\": 9, \"time_of_day\": \"AM Peak\", \"p25\": 1.33, \"p50\": 1.33, \"p75\": 1.33, \"p50_trip\": 1, \"fastest_trip\": 0, \"car_duration_hours\": 1.1, \"competitive_route\": 1, \"bus_multiplier\": 1.21, \"bus_difference\": 13.8, \"num_trips\": 20, \"num_competitive\": 20, \"pct_trips_competitive\": 1.0, \"bus_difference_spread\": 0.0, \"route_group\": \"medium\", \"max_trip_hrs\": 1.33, \"max_trip_route_group\": 1.33, \"below_cutoff\": 20, \"pct_below_cutoff\": 1.0, \"calitp_agency_name\": \"Beach Cities Transit\", \"caltrans_district\": \"07 - Los Angeles\", \"route_name\": \"Beach Cities Transit 109 Southbound\", \"route_short_name\": null, \"route_id2\": \"BCT109 SB\", \"cutoff2\": 30, \"cutoff\": 2}, {\"calitp_itp_id\": 260, \"trip_key\": 5016011737382582511, \"trip_id\": \"BCT109 SB_MF.T10\", \"shape_id\": \"BCT109 SB\", \"route_id\": \"BCT109 SB\", \"service_hours\": 1.33, \"trip_first_departure_ts\": 46800, \"trip_last_arrival_ts\": 51600, \"departure_hour\": 13, \"time_of_day\": \"Midday\", \"p25\": 1.33, \"p50\": 1.33, \"p75\": 1.33, \"p50_trip\": 1, \"fastest_trip\": 0, \"car_duration_hours\": 1.1, \"competitive_route\": 1, \"bus_multiplier\": 1.21, \"bus_difference\": 13.8, \"num_trips\": 20, \"num_competitive\": 20, \"pct_trips_competitive\": 1.0, \"bus_difference_spread\": 0.0, \"route_group\": \"medium\", \"max_trip_hrs\": 1.33, \"max_trip_route_group\": 1.33, \"below_cutoff\": 20, \"pct_below_cutoff\": 1.0, \"calitp_agency_name\": \"Beach Cities Transit\", \"caltrans_district\": \"07 - Los Angeles\", \"route_name\": \"Beach Cities Transit 109 Southbound\", \"route_short_name\": null, \"route_id2\": \"BCT109 SB\", \"cutoff2\": 30, \"cutoff\": 2}, {\"calitp_itp_id\": 260, \"trip_key\": 167940946600347386, \"trip_id\": \"BCT109 SB_MF.T18\", \"shape_id\": \"BCT109 SB\", \"route_id\": \"BCT109 SB\", \"service_hours\": 1.33, \"trip_first_departure_ts\": 68400, \"trip_last_arrival_ts\": 73200, \"departure_hour\": 19, \"time_of_day\": \"PM Peak\", \"p25\": 1.33, \"p50\": 1.33, \"p75\": 1.33, \"p50_trip\": 1, \"fastest_trip\": 0, \"car_duration_hours\": 1.1, \"competitive_route\": 1, \"bus_multiplier\": 1.21, \"bus_difference\": 13.8, \"num_trips\": 20, \"num_competitive\": 20, \"pct_trips_competitive\": 1.0, \"bus_difference_spread\": 0.0, \"route_group\": \"medium\", \"max_trip_hrs\": 1.33, \"max_trip_route_group\": 1.33, \"below_cutoff\": 20, \"pct_below_cutoff\": 1.0, \"calitp_agency_name\": \"Beach Cities Transit\", \"caltrans_district\": \"07 - Los Angeles\", \"route_name\": \"Beach Cities Transit 109 Southbound\", \"route_short_name\": null, \"route_id2\": \"BCT109 SB\", \"cutoff2\": 30, \"cutoff\": 2}, {\"calitp_itp_id\": 260, \"trip_key\": 1469278410914527932, \"trip_id\": \"BCT109 SB_MF.T09\", \"shape_id\": \"BCT109 SB\", \"route_id\": \"BCT109 SB\", \"service_hours\": 1.33, \"trip_first_departure_ts\": 44100, \"trip_last_arrival_ts\": 48900, \"departure_hour\": 12, \"time_of_day\": \"Midday\", \"p25\": 1.33, \"p50\": 1.33, \"p75\": 1.33, \"p50_trip\": 1, \"fastest_trip\": 0, \"car_duration_hours\": 1.1, \"competitive_route\": 1, \"bus_multiplier\": 1.21, \"bus_difference\": 13.8, \"num_trips\": 20, \"num_competitive\": 20, \"pct_trips_competitive\": 1.0, \"bus_difference_spread\": 0.0, \"route_group\": \"medium\", \"max_trip_hrs\": 1.33, \"max_trip_route_group\": 1.33, \"below_cutoff\": 20, \"pct_below_cutoff\": 1.0, \"calitp_agency_name\": \"Beach Cities Transit\", \"caltrans_district\": \"07 - Los Angeles\", \"route_name\": \"Beach Cities Transit 109 Southbound\", \"route_short_name\": null, \"route_id2\": \"BCT109 SB\", \"cutoff2\": 30, \"cutoff\": 2}]}}, {\"mode\": \"vega-lite\"});\n",
       "</script>"
      ],
      "text/plain": [
       "alt.FacetChart(...)"
      ]
     },
     "metadata": {},
     "output_type": "display_data"
    },
    {
     "data": {
      "text/html": [
       "\n",
       "<div id=\"altair-viz-2059560d1eab4540801d639b3b78146e\"></div>\n",
       "<script type=\"text/javascript\">\n",
       "  var VEGA_DEBUG = (typeof VEGA_DEBUG == \"undefined\") ? {} : VEGA_DEBUG;\n",
       "  (function(spec, embedOpt){\n",
       "    let outputDiv = document.currentScript.previousElementSibling;\n",
       "    if (outputDiv.id !== \"altair-viz-2059560d1eab4540801d639b3b78146e\") {\n",
       "      outputDiv = document.getElementById(\"altair-viz-2059560d1eab4540801d639b3b78146e\");\n",
       "    }\n",
       "    const paths = {\n",
       "      \"vega\": \"https://cdn.jsdelivr.net/npm//vega@5?noext\",\n",
       "      \"vega-lib\": \"https://cdn.jsdelivr.net/npm//vega-lib?noext\",\n",
       "      \"vega-lite\": \"https://cdn.jsdelivr.net/npm//vega-lite@4.17.0?noext\",\n",
       "      \"vega-embed\": \"https://cdn.jsdelivr.net/npm//vega-embed@6?noext\",\n",
       "    };\n",
       "\n",
       "    function maybeLoadScript(lib, version) {\n",
       "      var key = `${lib.replace(\"-\", \"\")}_version`;\n",
       "      return (VEGA_DEBUG[key] == version) ?\n",
       "        Promise.resolve(paths[lib]) :\n",
       "        new Promise(function(resolve, reject) {\n",
       "          var s = document.createElement('script');\n",
       "          document.getElementsByTagName(\"head\")[0].appendChild(s);\n",
       "          s.async = true;\n",
       "          s.onload = () => {\n",
       "            VEGA_DEBUG[key] = version;\n",
       "            return resolve(paths[lib]);\n",
       "          };\n",
       "          s.onerror = () => reject(`Error loading script: ${paths[lib]}`);\n",
       "          s.src = paths[lib];\n",
       "        });\n",
       "    }\n",
       "\n",
       "    function showError(err) {\n",
       "      outputDiv.innerHTML = `<div class=\"error\" style=\"color:red;\">${err}</div>`;\n",
       "      throw err;\n",
       "    }\n",
       "\n",
       "    function displayChart(vegaEmbed) {\n",
       "      vegaEmbed(outputDiv, spec, embedOpt)\n",
       "        .catch(err => showError(`Javascript Error: ${err.message}<br>This usually means there's a typo in your chart specification. See the javascript console for the full traceback.`));\n",
       "    }\n",
       "\n",
       "    if(typeof define === \"function\" && define.amd) {\n",
       "      requirejs.config({paths});\n",
       "      require([\"vega-embed\"], displayChart, err => showError(`Error loading script: ${err.message}`));\n",
       "    } else {\n",
       "      maybeLoadScript(\"vega\", \"5\")\n",
       "        .then(() => maybeLoadScript(\"vega-lite\", \"4.17.0\"))\n",
       "        .then(() => maybeLoadScript(\"vega-embed\", \"6\"))\n",
       "        .catch(showError)\n",
       "        .then(() => displayChart(vegaEmbed));\n",
       "    }\n",
       "  })({\"config\": {\"view\": {\"continuousWidth\": 400, \"continuousHeight\": 300, \"stroke\": null}, \"facet\": {\"spacing\": 0}}, \"data\": {\"name\": \"data-c55193c969fdc105d023fb22f87cb7f6\"}, \"facet\": {\"column\": {\"field\": \"route_id2\", \"sort\": [\"BCT109 NB\", \"BCT109 SB\"], \"title\": \"Route ID\", \"type\": \"nominal\"}}, \"spec\": {\"layer\": [{\"mark\": \"rule\", \"encoding\": {\"color\": {\"value\": \"black\"}, \"y\": {\"field\": \"cutoff\", \"type\": \"quantitative\"}}, \"selection\": {\"selector002\": {\"type\": \"interval\", \"bind\": \"scales\", \"encodings\": [\"x\", \"y\"]}}}, {\"mark\": {\"type\": \"rule\", \"strokeDash\": [3, 3]}, \"encoding\": {\"color\": {\"value\": \"#323434\"}, \"y\": {\"field\": \"cutoff2\", \"type\": \"quantitative\"}}}, {\"mark\": {\"type\": \"point\", \"opacity\": 0.65, \"size\": 20, \"strokeWidth\": 1.1}, \"encoding\": {\"color\": {\"field\": \"time_of_day\", \"scale\": {\"range\": [\"#136C97\", \"#E16B26\", \"#F6BF16\", \"#00896B\", \"#7790A3\", \"#5B559C\"]}, \"sort\": [\"AM Peak\", \"Midday\", \"PM Peak\", \"Owl Service\"], \"title\": \"Time of Day\", \"type\": \"nominal\"}, \"tooltip\": [{\"field\": \"route_id2\", \"title\": \"route_id\", \"type\": \"nominal\"}, {\"field\": \"route_name\", \"type\": \"nominal\"}, {\"field\": \"trip_id\", \"type\": \"nominal\"}, {\"field\": \"service_hours\", \"type\": \"quantitative\"}, {\"field\": \"car_duration_hours\", \"type\": \"quantitative\"}, {\"field\": \"bus_multiplier\", \"type\": \"quantitative\"}, {\"field\": \"bus_difference\", \"type\": \"quantitative\"}, {\"field\": \"num_trips\", \"type\": \"quantitative\"}, {\"field\": \"num_competitive\", \"type\": \"quantitative\"}, {\"field\": \"pct_trips_competitive\", \"type\": \"quantitative\"}, {\"field\": \"pct_below_cutoff\", \"type\": \"quantitative\"}, {\"field\": \"p25\", \"type\": \"quantitative\"}, {\"field\": \"p50\", \"type\": \"quantitative\"}, {\"field\": \"p75\", \"type\": \"quantitative\"}], \"x\": {\"axis\": {\"grid\": false, \"labels\": false, \"ticks\": true, \"values\": [0]}, \"field\": \"jitter\", \"scale\": {}, \"title\": null, \"type\": \"quantitative\"}, \"y\": {\"field\": \"bus_difference\", \"scale\": {\"domain\": [-5, 35.0]}, \"title\": \"Difference in Bus to Car Travel Time (min)\", \"type\": \"quantitative\"}}, \"transform\": [{\"calculate\": \"sqrt(-2*log(random()))*cos(2*PI*random())\", \"as\": \"jitter\"}], \"width\": 50}, {\"layer\": [{\"mark\": {\"type\": \"point\", \"opacity\": 0.6, \"size\": 20, \"strokeWidth\": 1.3}, \"encoding\": {\"color\": {\"value\": \"#323434\"}, \"y\": {\"field\": \"bus_difference\", \"type\": \"quantitative\"}}, \"transform\": [{\"filter\": \"(datum.p50_trip === 1)\"}]}, {\"mark\": {\"type\": \"text\", \"align\": \"center\", \"baseline\": \"middle\"}, \"encoding\": {\"color\": {\"value\": \"black\"}, \"text\": {\"field\": \"pct_trips_competitive\", \"format\": \".0%\", \"type\": \"quantitative\"}, \"tooltip\": [{\"field\": \"route_id2\", \"title\": \"route_id\", \"type\": \"nominal\"}, {\"field\": \"route_name\", \"type\": \"nominal\"}, {\"field\": \"trip_id\", \"type\": \"nominal\"}, {\"field\": \"service_hours\", \"type\": \"quantitative\"}, {\"field\": \"car_duration_hours\", \"type\": \"quantitative\"}, {\"field\": \"bus_multiplier\", \"type\": \"quantitative\"}, {\"field\": \"bus_difference\", \"type\": \"quantitative\"}, {\"field\": \"num_trips\", \"type\": \"quantitative\"}, {\"field\": \"num_competitive\", \"type\": \"quantitative\"}, {\"field\": \"pct_trips_competitive\", \"type\": \"quantitative\"}, {\"field\": \"pct_below_cutoff\", \"type\": \"quantitative\"}, {\"field\": \"p25\", \"type\": \"quantitative\"}, {\"field\": \"p50\", \"type\": \"quantitative\"}, {\"field\": \"p75\", \"type\": \"quantitative\"}], \"x\": {\"value\": 30}, \"y\": {\"value\": 15}}, \"transform\": [{\"calculate\": \"sqrt(-2*log(random()))*cos(2*PI*random())\", \"as\": \"jitter\"}, {\"filter\": \"(datum.fastest_trip === 1)\"}]}]}]}, \"resolve\": {\"scale\": {\"y\": \"shared\"}}, \"title\": \"Difference in Bus to Car Travel Time (min)\", \"$schema\": \"https://vega.github.io/schema/vega-lite/v4.17.0.json\", \"datasets\": {\"data-c55193c969fdc105d023fb22f87cb7f6\": [{\"calitp_itp_id\": 260, \"trip_key\": 1317046688990537606, \"trip_id\": \"BCT109 NB_MF.T03\", \"shape_id\": \"BCT109 NB\", \"route_id\": \"BCT109 NB\", \"service_hours\": 1.22, \"trip_first_departure_ts\": 26700, \"trip_last_arrival_ts\": 31080, \"departure_hour\": 7, \"time_of_day\": \"AM Peak\", \"p25\": 1.28, \"p50\": 1.28, \"p75\": 1.28, \"p50_trip\": 0, \"fastest_trip\": 1, \"car_duration_hours\": 0.83, \"competitive_route\": 1, \"bus_multiplier\": 1.47, \"bus_difference\": 23.4, \"num_trips\": 20, \"num_competitive\": 20, \"pct_trips_competitive\": 1.0, \"bus_difference_spread\": 3.6000000000000014, \"route_group\": \"medium\", \"max_trip_hrs\": 1.28, \"max_trip_route_group\": 1.28, \"below_cutoff\": 20, \"pct_below_cutoff\": 1.0, \"calitp_agency_name\": \"Beach Cities Transit\", \"caltrans_district\": \"07 - Los Angeles\", \"route_name\": \"Beach Cities Transit 109 Northbound\", \"route_short_name\": null, \"route_id2\": \"BCT109 NB\", \"cutoff2\": 30, \"cutoff\": 0}, {\"calitp_itp_id\": 260, \"trip_key\": 3673728135160785242, \"trip_id\": \"BCT109 NB_MF.T02\", \"shape_id\": \"BCT109 NB\", \"route_id\": \"BCT109 NB\", \"service_hours\": 1.22, \"trip_first_departure_ts\": 23400, \"trip_last_arrival_ts\": 27780, \"departure_hour\": 6, \"time_of_day\": \"Owl Service\", \"p25\": 1.28, \"p50\": 1.28, \"p75\": 1.28, \"p50_trip\": 0, \"fastest_trip\": 0, \"car_duration_hours\": 0.83, \"competitive_route\": 1, \"bus_multiplier\": 1.47, \"bus_difference\": 23.4, \"num_trips\": 20, \"num_competitive\": 20, \"pct_trips_competitive\": 1.0, \"bus_difference_spread\": 3.6000000000000014, \"route_group\": \"medium\", \"max_trip_hrs\": 1.28, \"max_trip_route_group\": 1.28, \"below_cutoff\": 20, \"pct_below_cutoff\": 1.0, \"calitp_agency_name\": \"Beach Cities Transit\", \"caltrans_district\": \"07 - Los Angeles\", \"route_name\": \"Beach Cities Transit 109 Northbound\", \"route_short_name\": null, \"route_id2\": \"BCT109 NB\", \"cutoff2\": 30, \"cutoff\": 0}, {\"calitp_itp_id\": 260, \"trip_key\": -5692772296662780211, \"trip_id\": \"BCT109 NB_MF.T01\", \"shape_id\": \"BCT109 NB\", \"route_id\": \"BCT109 NB\", \"service_hours\": 1.22, \"trip_first_departure_ts\": 21600, \"trip_last_arrival_ts\": 25980, \"departure_hour\": 6, \"time_of_day\": \"Owl Service\", \"p25\": 1.28, \"p50\": 1.28, \"p75\": 1.28, \"p50_trip\": 0, \"fastest_trip\": 0, \"car_duration_hours\": 0.83, \"competitive_route\": 1, \"bus_multiplier\": 1.47, \"bus_difference\": 23.4, \"num_trips\": 20, \"num_competitive\": 20, \"pct_trips_competitive\": 1.0, \"bus_difference_spread\": 3.6000000000000014, \"route_group\": \"medium\", \"max_trip_hrs\": 1.28, \"max_trip_route_group\": 1.28, \"below_cutoff\": 20, \"pct_below_cutoff\": 1.0, \"calitp_agency_name\": \"Beach Cities Transit\", \"caltrans_district\": \"07 - Los Angeles\", \"route_name\": \"Beach Cities Transit 109 Northbound\", \"route_short_name\": null, \"route_id2\": \"BCT109 NB\", \"cutoff2\": 30, \"cutoff\": 0}, {\"calitp_itp_id\": 260, \"trip_key\": -8382958733402730771, \"trip_id\": \"BCT109 NB_MF.T11\", \"shape_id\": \"BCT109 NB\", \"route_id\": \"BCT109 NB\", \"service_hours\": 1.28, \"trip_first_departure_ts\": 49500, \"trip_last_arrival_ts\": 54120, \"departure_hour\": 13, \"time_of_day\": \"Midday\", \"p25\": 1.28, \"p50\": 1.28, \"p75\": 1.28, \"p50_trip\": 1, \"fastest_trip\": 0, \"car_duration_hours\": 0.83, \"competitive_route\": 1, \"bus_multiplier\": 1.54, \"bus_difference\": 27.0, \"num_trips\": 20, \"num_competitive\": 20, \"pct_trips_competitive\": 1.0, \"bus_difference_spread\": 3.6000000000000014, \"route_group\": \"medium\", \"max_trip_hrs\": 1.28, \"max_trip_route_group\": 1.28, \"below_cutoff\": 20, \"pct_below_cutoff\": 1.0, \"calitp_agency_name\": \"Beach Cities Transit\", \"caltrans_district\": \"07 - Los Angeles\", \"route_name\": \"Beach Cities Transit 109 Northbound\", \"route_short_name\": null, \"route_id2\": \"BCT109 NB\", \"cutoff2\": 30, \"cutoff\": 0}, {\"calitp_itp_id\": 260, \"trip_key\": 7828937370348139098, \"trip_id\": \"BCT109 NB_MF.T04\", \"shape_id\": \"BCT109 NB\", \"route_id\": \"BCT109 NB\", \"service_hours\": 1.28, \"trip_first_departure_ts\": 29400, \"trip_last_arrival_ts\": 34020, \"departure_hour\": 8, \"time_of_day\": \"AM Peak\", \"p25\": 1.28, \"p50\": 1.28, \"p75\": 1.28, \"p50_trip\": 1, \"fastest_trip\": 0, \"car_duration_hours\": 0.83, \"competitive_route\": 1, \"bus_multiplier\": 1.54, \"bus_difference\": 27.0, \"num_trips\": 20, \"num_competitive\": 20, \"pct_trips_competitive\": 1.0, \"bus_difference_spread\": 3.6000000000000014, \"route_group\": \"medium\", \"max_trip_hrs\": 1.28, \"max_trip_route_group\": 1.28, \"below_cutoff\": 20, \"pct_below_cutoff\": 1.0, \"calitp_agency_name\": \"Beach Cities Transit\", \"caltrans_district\": \"07 - Los Angeles\", \"route_name\": \"Beach Cities Transit 109 Northbound\", \"route_short_name\": null, \"route_id2\": \"BCT109 NB\", \"cutoff2\": 30, \"cutoff\": 0}, {\"calitp_itp_id\": 260, \"trip_key\": -656251562375874454, \"trip_id\": \"BCT109 NB_MF.T19\", \"shape_id\": \"BCT109 NB\", \"route_id\": \"BCT109 NB\", \"service_hours\": 1.28, \"trip_first_departure_ts\": 71100, \"trip_last_arrival_ts\": 75720, \"departure_hour\": 19, \"time_of_day\": \"PM Peak\", \"p25\": 1.28, \"p50\": 1.28, \"p75\": 1.28, \"p50_trip\": 1, \"fastest_trip\": 0, \"car_duration_hours\": 0.83, \"competitive_route\": 1, \"bus_multiplier\": 1.54, \"bus_difference\": 27.0, \"num_trips\": 20, \"num_competitive\": 20, \"pct_trips_competitive\": 1.0, \"bus_difference_spread\": 3.6000000000000014, \"route_group\": \"medium\", \"max_trip_hrs\": 1.28, \"max_trip_route_group\": 1.28, \"below_cutoff\": 20, \"pct_below_cutoff\": 1.0, \"calitp_agency_name\": \"Beach Cities Transit\", \"caltrans_district\": \"07 - Los Angeles\", \"route_name\": \"Beach Cities Transit 109 Northbound\", \"route_short_name\": null, \"route_id2\": \"BCT109 NB\", \"cutoff2\": 30, \"cutoff\": 0}, {\"calitp_itp_id\": 260, \"trip_key\": 8750848218037897663, \"trip_id\": \"BCT109 NB_MF.T17\", \"shape_id\": \"BCT109 NB\", \"route_id\": \"BCT109 NB\", \"service_hours\": 1.28, \"trip_first_departure_ts\": 65400, \"trip_last_arrival_ts\": 70020, \"departure_hour\": 18, \"time_of_day\": \"PM Peak\", \"p25\": 1.28, \"p50\": 1.28, \"p75\": 1.28, \"p50_trip\": 1, \"fastest_trip\": 0, \"car_duration_hours\": 0.83, \"competitive_route\": 1, \"bus_multiplier\": 1.54, \"bus_difference\": 27.0, \"num_trips\": 20, \"num_competitive\": 20, \"pct_trips_competitive\": 1.0, \"bus_difference_spread\": 3.6000000000000014, \"route_group\": \"medium\", \"max_trip_hrs\": 1.28, \"max_trip_route_group\": 1.28, \"below_cutoff\": 20, \"pct_below_cutoff\": 1.0, \"calitp_agency_name\": \"Beach Cities Transit\", \"caltrans_district\": \"07 - Los Angeles\", \"route_name\": \"Beach Cities Transit 109 Northbound\", \"route_short_name\": null, \"route_id2\": \"BCT109 NB\", \"cutoff2\": 30, \"cutoff\": 0}, {\"calitp_itp_id\": 260, \"trip_key\": 84845425813148536, \"trip_id\": \"BCT109 NB_MF.T14\", \"shape_id\": \"BCT109 NB\", \"route_id\": \"BCT109 NB\", \"service_hours\": 1.28, \"trip_first_departure_ts\": 57300, \"trip_last_arrival_ts\": 61920, \"departure_hour\": 15, \"time_of_day\": \"Midday\", \"p25\": 1.28, \"p50\": 1.28, \"p75\": 1.28, \"p50_trip\": 1, \"fastest_trip\": 0, \"car_duration_hours\": 0.83, \"competitive_route\": 1, \"bus_multiplier\": 1.54, \"bus_difference\": 27.0, \"num_trips\": 20, \"num_competitive\": 20, \"pct_trips_competitive\": 1.0, \"bus_difference_spread\": 3.6000000000000014, \"route_group\": \"medium\", \"max_trip_hrs\": 1.28, \"max_trip_route_group\": 1.28, \"below_cutoff\": 20, \"pct_below_cutoff\": 1.0, \"calitp_agency_name\": \"Beach Cities Transit\", \"caltrans_district\": \"07 - Los Angeles\", \"route_name\": \"Beach Cities Transit 109 Northbound\", \"route_short_name\": null, \"route_id2\": \"BCT109 NB\", \"cutoff2\": 30, \"cutoff\": 0}, {\"calitp_itp_id\": 260, \"trip_key\": 6559195403394685853, \"trip_id\": \"BCT109 NB_MF.T07\", \"shape_id\": \"BCT109 NB\", \"route_id\": \"BCT109 NB\", \"service_hours\": 1.28, \"trip_first_departure_ts\": 37500, \"trip_last_arrival_ts\": 42120, \"departure_hour\": 10, \"time_of_day\": \"Midday\", \"p25\": 1.28, \"p50\": 1.28, \"p75\": 1.28, \"p50_trip\": 1, \"fastest_trip\": 0, \"car_duration_hours\": 0.83, \"competitive_route\": 1, \"bus_multiplier\": 1.54, \"bus_difference\": 27.0, \"num_trips\": 20, \"num_competitive\": 20, \"pct_trips_competitive\": 1.0, \"bus_difference_spread\": 3.6000000000000014, \"route_group\": \"medium\", \"max_trip_hrs\": 1.28, \"max_trip_route_group\": 1.28, \"below_cutoff\": 20, \"pct_below_cutoff\": 1.0, \"calitp_agency_name\": \"Beach Cities Transit\", \"caltrans_district\": \"07 - Los Angeles\", \"route_name\": \"Beach Cities Transit 109 Northbound\", \"route_short_name\": null, \"route_id2\": \"BCT109 NB\", \"cutoff2\": 30, \"cutoff\": 0}, {\"calitp_itp_id\": 260, \"trip_key\": -4238208434499862872, \"trip_id\": \"BCT109 NB_MF.T10\", \"shape_id\": \"BCT109 NB\", \"route_id\": \"BCT109 NB\", \"service_hours\": 1.28, \"trip_first_departure_ts\": 45300, \"trip_last_arrival_ts\": 49920, \"departure_hour\": 12, \"time_of_day\": \"Midday\", \"p25\": 1.28, \"p50\": 1.28, \"p75\": 1.28, \"p50_trip\": 1, \"fastest_trip\": 0, \"car_duration_hours\": 0.83, \"competitive_route\": 1, \"bus_multiplier\": 1.54, \"bus_difference\": 27.0, \"num_trips\": 20, \"num_competitive\": 20, \"pct_trips_competitive\": 1.0, \"bus_difference_spread\": 3.6000000000000014, \"route_group\": \"medium\", \"max_trip_hrs\": 1.28, \"max_trip_route_group\": 1.28, \"below_cutoff\": 20, \"pct_below_cutoff\": 1.0, \"calitp_agency_name\": \"Beach Cities Transit\", \"caltrans_district\": \"07 - Los Angeles\", \"route_name\": \"Beach Cities Transit 109 Northbound\", \"route_short_name\": null, \"route_id2\": \"BCT109 NB\", \"cutoff2\": 30, \"cutoff\": 0}, {\"calitp_itp_id\": 260, \"trip_key\": -5929374785087733782, \"trip_id\": \"BCT109 NB_MF.T12\", \"shape_id\": \"BCT109 NB\", \"route_id\": \"BCT109 NB\", \"service_hours\": 1.28, \"trip_first_departure_ts\": 52200, \"trip_last_arrival_ts\": 56820, \"departure_hour\": 14, \"time_of_day\": \"Midday\", \"p25\": 1.28, \"p50\": 1.28, \"p75\": 1.28, \"p50_trip\": 1, \"fastest_trip\": 0, \"car_duration_hours\": 0.83, \"competitive_route\": 1, \"bus_multiplier\": 1.54, \"bus_difference\": 27.0, \"num_trips\": 20, \"num_competitive\": 20, \"pct_trips_competitive\": 1.0, \"bus_difference_spread\": 3.6000000000000014, \"route_group\": \"medium\", \"max_trip_hrs\": 1.28, \"max_trip_route_group\": 1.28, \"below_cutoff\": 20, \"pct_below_cutoff\": 1.0, \"calitp_agency_name\": \"Beach Cities Transit\", \"caltrans_district\": \"07 - Los Angeles\", \"route_name\": \"Beach Cities Transit 109 Northbound\", \"route_short_name\": null, \"route_id2\": \"BCT109 NB\", \"cutoff2\": 30, \"cutoff\": 0}, {\"calitp_itp_id\": 260, \"trip_key\": 8367892553357170010, \"trip_id\": \"BCT109 NB_MF.T20\", \"shape_id\": \"BCT109 NB\", \"route_id\": \"BCT109 NB\", \"service_hours\": 1.28, \"trip_first_departure_ts\": 73800, \"trip_last_arrival_ts\": 78420, \"departure_hour\": 20, \"time_of_day\": \"Owl Service\", \"p25\": 1.28, \"p50\": 1.28, \"p75\": 1.28, \"p50_trip\": 1, \"fastest_trip\": 0, \"car_duration_hours\": 0.83, \"competitive_route\": 1, \"bus_multiplier\": 1.54, \"bus_difference\": 27.0, \"num_trips\": 20, \"num_competitive\": 20, \"pct_trips_competitive\": 1.0, \"bus_difference_spread\": 3.6000000000000014, \"route_group\": \"medium\", \"max_trip_hrs\": 1.28, \"max_trip_route_group\": 1.28, \"below_cutoff\": 20, \"pct_below_cutoff\": 1.0, \"calitp_agency_name\": \"Beach Cities Transit\", \"caltrans_district\": \"07 - Los Angeles\", \"route_name\": \"Beach Cities Transit 109 Northbound\", \"route_short_name\": null, \"route_id2\": \"BCT109 NB\", \"cutoff2\": 30, \"cutoff\": 0}, {\"calitp_itp_id\": 260, \"trip_key\": -8827795785864707041, \"trip_id\": \"BCT109 NB_MF.T05\", \"shape_id\": \"BCT109 NB\", \"route_id\": \"BCT109 NB\", \"service_hours\": 1.28, \"trip_first_departure_ts\": 31800, \"trip_last_arrival_ts\": 36420, \"departure_hour\": 8, \"time_of_day\": \"AM Peak\", \"p25\": 1.28, \"p50\": 1.28, \"p75\": 1.28, \"p50_trip\": 1, \"fastest_trip\": 0, \"car_duration_hours\": 0.83, \"competitive_route\": 1, \"bus_multiplier\": 1.54, \"bus_difference\": 27.0, \"num_trips\": 20, \"num_competitive\": 20, \"pct_trips_competitive\": 1.0, \"bus_difference_spread\": 3.6000000000000014, \"route_group\": \"medium\", \"max_trip_hrs\": 1.28, \"max_trip_route_group\": 1.28, \"below_cutoff\": 20, \"pct_below_cutoff\": 1.0, \"calitp_agency_name\": \"Beach Cities Transit\", \"caltrans_district\": \"07 - Los Angeles\", \"route_name\": \"Beach Cities Transit 109 Northbound\", \"route_short_name\": null, \"route_id2\": \"BCT109 NB\", \"cutoff2\": 30, \"cutoff\": 0}, {\"calitp_itp_id\": 260, \"trip_key\": -7343359897475375849, \"trip_id\": \"BCT109 NB_MF.T13\", \"shape_id\": \"BCT109 NB\", \"route_id\": \"BCT109 NB\", \"service_hours\": 1.28, \"trip_first_departure_ts\": 54600, \"trip_last_arrival_ts\": 59220, \"departure_hour\": 15, \"time_of_day\": \"Midday\", \"p25\": 1.28, \"p50\": 1.28, \"p75\": 1.28, \"p50_trip\": 1, \"fastest_trip\": 0, \"car_duration_hours\": 0.83, \"competitive_route\": 1, \"bus_multiplier\": 1.54, \"bus_difference\": 27.0, \"num_trips\": 20, \"num_competitive\": 20, \"pct_trips_competitive\": 1.0, \"bus_difference_spread\": 3.6000000000000014, \"route_group\": \"medium\", \"max_trip_hrs\": 1.28, \"max_trip_route_group\": 1.28, \"below_cutoff\": 20, \"pct_below_cutoff\": 1.0, \"calitp_agency_name\": \"Beach Cities Transit\", \"caltrans_district\": \"07 - Los Angeles\", \"route_name\": \"Beach Cities Transit 109 Northbound\", \"route_short_name\": null, \"route_id2\": \"BCT109 NB\", \"cutoff2\": 30, \"cutoff\": 0}, {\"calitp_itp_id\": 260, \"trip_key\": -5831490653988659755, \"trip_id\": \"BCT109 NB_MF.T18\", \"shape_id\": \"BCT109 NB\", \"route_id\": \"BCT109 NB\", \"service_hours\": 1.28, \"trip_first_departure_ts\": 68100, \"trip_last_arrival_ts\": 72720, \"departure_hour\": 18, \"time_of_day\": \"PM Peak\", \"p25\": 1.28, \"p50\": 1.28, \"p75\": 1.28, \"p50_trip\": 1, \"fastest_trip\": 0, \"car_duration_hours\": 0.83, \"competitive_route\": 1, \"bus_multiplier\": 1.54, \"bus_difference\": 27.0, \"num_trips\": 20, \"num_competitive\": 20, \"pct_trips_competitive\": 1.0, \"bus_difference_spread\": 3.6000000000000014, \"route_group\": \"medium\", \"max_trip_hrs\": 1.28, \"max_trip_route_group\": 1.28, \"below_cutoff\": 20, \"pct_below_cutoff\": 1.0, \"calitp_agency_name\": \"Beach Cities Transit\", \"caltrans_district\": \"07 - Los Angeles\", \"route_name\": \"Beach Cities Transit 109 Northbound\", \"route_short_name\": null, \"route_id2\": \"BCT109 NB\", \"cutoff2\": 30, \"cutoff\": 0}, {\"calitp_itp_id\": 260, \"trip_key\": -6459932311807863698, \"trip_id\": \"BCT109 NB_MF.T09\", \"shape_id\": \"BCT109 NB\", \"route_id\": \"BCT109 NB\", \"service_hours\": 1.28, \"trip_first_departure_ts\": 42600, \"trip_last_arrival_ts\": 47220, \"departure_hour\": 11, \"time_of_day\": \"Midday\", \"p25\": 1.28, \"p50\": 1.28, \"p75\": 1.28, \"p50_trip\": 1, \"fastest_trip\": 0, \"car_duration_hours\": 0.83, \"competitive_route\": 1, \"bus_multiplier\": 1.54, \"bus_difference\": 27.0, \"num_trips\": 20, \"num_competitive\": 20, \"pct_trips_competitive\": 1.0, \"bus_difference_spread\": 3.6000000000000014, \"route_group\": \"medium\", \"max_trip_hrs\": 1.28, \"max_trip_route_group\": 1.28, \"below_cutoff\": 20, \"pct_below_cutoff\": 1.0, \"calitp_agency_name\": \"Beach Cities Transit\", \"caltrans_district\": \"07 - Los Angeles\", \"route_name\": \"Beach Cities Transit 109 Northbound\", \"route_short_name\": null, \"route_id2\": \"BCT109 NB\", \"cutoff2\": 30, \"cutoff\": 0}, {\"calitp_itp_id\": 260, \"trip_key\": 8751971087300252775, \"trip_id\": \"BCT109 NB_MF.T15\", \"shape_id\": \"BCT109 NB\", \"route_id\": \"BCT109 NB\", \"service_hours\": 1.28, \"trip_first_departure_ts\": 60300, \"trip_last_arrival_ts\": 64920, \"departure_hour\": 16, \"time_of_day\": \"Midday\", \"p25\": 1.28, \"p50\": 1.28, \"p75\": 1.28, \"p50_trip\": 1, \"fastest_trip\": 0, \"car_duration_hours\": 0.83, \"competitive_route\": 1, \"bus_multiplier\": 1.54, \"bus_difference\": 27.0, \"num_trips\": 20, \"num_competitive\": 20, \"pct_trips_competitive\": 1.0, \"bus_difference_spread\": 3.6000000000000014, \"route_group\": \"medium\", \"max_trip_hrs\": 1.28, \"max_trip_route_group\": 1.28, \"below_cutoff\": 20, \"pct_below_cutoff\": 1.0, \"calitp_agency_name\": \"Beach Cities Transit\", \"caltrans_district\": \"07 - Los Angeles\", \"route_name\": \"Beach Cities Transit 109 Northbound\", \"route_short_name\": null, \"route_id2\": \"BCT109 NB\", \"cutoff2\": 30, \"cutoff\": 0}, {\"calitp_itp_id\": 260, \"trip_key\": 650064259460204168, \"trip_id\": \"BCT109 NB_MF.T06\", \"shape_id\": \"BCT109 NB\", \"route_id\": \"BCT109 NB\", \"service_hours\": 1.28, \"trip_first_departure_ts\": 34500, \"trip_last_arrival_ts\": 39120, \"departure_hour\": 9, \"time_of_day\": \"AM Peak\", \"p25\": 1.28, \"p50\": 1.28, \"p75\": 1.28, \"p50_trip\": 1, \"fastest_trip\": 0, \"car_duration_hours\": 0.83, \"competitive_route\": 1, \"bus_multiplier\": 1.54, \"bus_difference\": 27.0, \"num_trips\": 20, \"num_competitive\": 20, \"pct_trips_competitive\": 1.0, \"bus_difference_spread\": 3.6000000000000014, \"route_group\": \"medium\", \"max_trip_hrs\": 1.28, \"max_trip_route_group\": 1.28, \"below_cutoff\": 20, \"pct_below_cutoff\": 1.0, \"calitp_agency_name\": \"Beach Cities Transit\", \"caltrans_district\": \"07 - Los Angeles\", \"route_name\": \"Beach Cities Transit 109 Northbound\", \"route_short_name\": null, \"route_id2\": \"BCT109 NB\", \"cutoff2\": 30, \"cutoff\": 0}, {\"calitp_itp_id\": 260, \"trip_key\": -1941445509852013822, \"trip_id\": \"BCT109 NB_MF.T16\", \"shape_id\": \"BCT109 NB\", \"route_id\": \"BCT109 NB\", \"service_hours\": 1.28, \"trip_first_departure_ts\": 63000, \"trip_last_arrival_ts\": 67620, \"departure_hour\": 17, \"time_of_day\": \"PM Peak\", \"p25\": 1.28, \"p50\": 1.28, \"p75\": 1.28, \"p50_trip\": 1, \"fastest_trip\": 0, \"car_duration_hours\": 0.83, \"competitive_route\": 1, \"bus_multiplier\": 1.54, \"bus_difference\": 27.0, \"num_trips\": 20, \"num_competitive\": 20, \"pct_trips_competitive\": 1.0, \"bus_difference_spread\": 3.6000000000000014, \"route_group\": \"medium\", \"max_trip_hrs\": 1.28, \"max_trip_route_group\": 1.28, \"below_cutoff\": 20, \"pct_below_cutoff\": 1.0, \"calitp_agency_name\": \"Beach Cities Transit\", \"caltrans_district\": \"07 - Los Angeles\", \"route_name\": \"Beach Cities Transit 109 Northbound\", \"route_short_name\": null, \"route_id2\": \"BCT109 NB\", \"cutoff2\": 30, \"cutoff\": 0}, {\"calitp_itp_id\": 260, \"trip_key\": 3723404524443184751, \"trip_id\": \"BCT109 NB_MF.T08\", \"shape_id\": \"BCT109 NB\", \"route_id\": \"BCT109 NB\", \"service_hours\": 1.28, \"trip_first_departure_ts\": 40200, \"trip_last_arrival_ts\": 44820, \"departure_hour\": 11, \"time_of_day\": \"Midday\", \"p25\": 1.28, \"p50\": 1.28, \"p75\": 1.28, \"p50_trip\": 1, \"fastest_trip\": 0, \"car_duration_hours\": 0.83, \"competitive_route\": 1, \"bus_multiplier\": 1.54, \"bus_difference\": 27.0, \"num_trips\": 20, \"num_competitive\": 20, \"pct_trips_competitive\": 1.0, \"bus_difference_spread\": 3.6000000000000014, \"route_group\": \"medium\", \"max_trip_hrs\": 1.28, \"max_trip_route_group\": 1.28, \"below_cutoff\": 20, \"pct_below_cutoff\": 1.0, \"calitp_agency_name\": \"Beach Cities Transit\", \"caltrans_district\": \"07 - Los Angeles\", \"route_name\": \"Beach Cities Transit 109 Northbound\", \"route_short_name\": null, \"route_id2\": \"BCT109 NB\", \"cutoff2\": 30, \"cutoff\": 0}, {\"calitp_itp_id\": 260, \"trip_key\": -7769911764283861301, \"trip_id\": \"BCT109 SB_MF.T05\", \"shape_id\": \"BCT109 SB\", \"route_id\": \"BCT109 SB\", \"service_hours\": 1.33, \"trip_first_departure_ts\": 32100, \"trip_last_arrival_ts\": 36900, \"departure_hour\": 8, \"time_of_day\": \"AM Peak\", \"p25\": 1.33, \"p50\": 1.33, \"p75\": 1.33, \"p50_trip\": 1, \"fastest_trip\": 0, \"car_duration_hours\": 1.1, \"competitive_route\": 1, \"bus_multiplier\": 1.21, \"bus_difference\": 13.8, \"num_trips\": 20, \"num_competitive\": 20, \"pct_trips_competitive\": 1.0, \"bus_difference_spread\": 0.0, \"route_group\": \"medium\", \"max_trip_hrs\": 1.33, \"max_trip_route_group\": 1.33, \"below_cutoff\": 20, \"pct_below_cutoff\": 1.0, \"calitp_agency_name\": \"Beach Cities Transit\", \"caltrans_district\": \"07 - Los Angeles\", \"route_name\": \"Beach Cities Transit 109 Southbound\", \"route_short_name\": null, \"route_id2\": \"BCT109 SB\", \"cutoff2\": 30, \"cutoff\": 0}, {\"calitp_itp_id\": 260, \"trip_key\": 8823191204635919285, \"trip_id\": \"BCT109 SB_MF.T17\", \"shape_id\": \"BCT109 SB\", \"route_id\": \"BCT109 SB\", \"service_hours\": 1.33, \"trip_first_departure_ts\": 65700, \"trip_last_arrival_ts\": 70500, \"departure_hour\": 18, \"time_of_day\": \"PM Peak\", \"p25\": 1.33, \"p50\": 1.33, \"p75\": 1.33, \"p50_trip\": 1, \"fastest_trip\": 0, \"car_duration_hours\": 1.1, \"competitive_route\": 1, \"bus_multiplier\": 1.21, \"bus_difference\": 13.8, \"num_trips\": 20, \"num_competitive\": 20, \"pct_trips_competitive\": 1.0, \"bus_difference_spread\": 0.0, \"route_group\": \"medium\", \"max_trip_hrs\": 1.33, \"max_trip_route_group\": 1.33, \"below_cutoff\": 20, \"pct_below_cutoff\": 1.0, \"calitp_agency_name\": \"Beach Cities Transit\", \"caltrans_district\": \"07 - Los Angeles\", \"route_name\": \"Beach Cities Transit 109 Southbound\", \"route_short_name\": null, \"route_id2\": \"BCT109 SB\", \"cutoff2\": 30, \"cutoff\": 0}, {\"calitp_itp_id\": 260, \"trip_key\": 9206665950355318065, \"trip_id\": \"BCT109 SB_MF.T16\", \"shape_id\": \"BCT109 SB\", \"route_id\": \"BCT109 SB\", \"service_hours\": 1.33, \"trip_first_departure_ts\": 62700, \"trip_last_arrival_ts\": 67500, \"departure_hour\": 17, \"time_of_day\": \"PM Peak\", \"p25\": 1.33, \"p50\": 1.33, \"p75\": 1.33, \"p50_trip\": 1, \"fastest_trip\": 0, \"car_duration_hours\": 1.1, \"competitive_route\": 1, \"bus_multiplier\": 1.21, \"bus_difference\": 13.8, \"num_trips\": 20, \"num_competitive\": 20, \"pct_trips_competitive\": 1.0, \"bus_difference_spread\": 0.0, \"route_group\": \"medium\", \"max_trip_hrs\": 1.33, \"max_trip_route_group\": 1.33, \"below_cutoff\": 20, \"pct_below_cutoff\": 1.0, \"calitp_agency_name\": \"Beach Cities Transit\", \"caltrans_district\": \"07 - Los Angeles\", \"route_name\": \"Beach Cities Transit 109 Southbound\", \"route_short_name\": null, \"route_id2\": \"BCT109 SB\", \"cutoff2\": 30, \"cutoff\": 0}, {\"calitp_itp_id\": 260, \"trip_key\": -4499201128805887979, \"trip_id\": \"BCT109 SB_MF.T20\", \"shape_id\": \"BCT109 SB\", \"route_id\": \"BCT109 SB\", \"service_hours\": 1.33, \"trip_first_departure_ts\": 73500, \"trip_last_arrival_ts\": 78300, \"departure_hour\": 20, \"time_of_day\": \"Owl Service\", \"p25\": 1.33, \"p50\": 1.33, \"p75\": 1.33, \"p50_trip\": 1, \"fastest_trip\": 1, \"car_duration_hours\": 1.1, \"competitive_route\": 1, \"bus_multiplier\": 1.21, \"bus_difference\": 13.8, \"num_trips\": 20, \"num_competitive\": 20, \"pct_trips_competitive\": 1.0, \"bus_difference_spread\": 0.0, \"route_group\": \"medium\", \"max_trip_hrs\": 1.33, \"max_trip_route_group\": 1.33, \"below_cutoff\": 20, \"pct_below_cutoff\": 1.0, \"calitp_agency_name\": \"Beach Cities Transit\", \"caltrans_district\": \"07 - Los Angeles\", \"route_name\": \"Beach Cities Transit 109 Southbound\", \"route_short_name\": null, \"route_id2\": \"BCT109 SB\", \"cutoff2\": 30, \"cutoff\": 0}, {\"calitp_itp_id\": 260, \"trip_key\": -950805648954300900, \"trip_id\": \"BCT109 SB_MF.T15\", \"shape_id\": \"BCT109 SB\", \"route_id\": \"BCT109 SB\", \"service_hours\": 1.33, \"trip_first_departure_ts\": 60000, \"trip_last_arrival_ts\": 64800, \"departure_hour\": 16, \"time_of_day\": \"Midday\", \"p25\": 1.33, \"p50\": 1.33, \"p75\": 1.33, \"p50_trip\": 1, \"fastest_trip\": 0, \"car_duration_hours\": 1.1, \"competitive_route\": 1, \"bus_multiplier\": 1.21, \"bus_difference\": 13.8, \"num_trips\": 20, \"num_competitive\": 20, \"pct_trips_competitive\": 1.0, \"bus_difference_spread\": 0.0, \"route_group\": \"medium\", \"max_trip_hrs\": 1.33, \"max_trip_route_group\": 1.33, \"below_cutoff\": 20, \"pct_below_cutoff\": 1.0, \"calitp_agency_name\": \"Beach Cities Transit\", \"caltrans_district\": \"07 - Los Angeles\", \"route_name\": \"Beach Cities Transit 109 Southbound\", \"route_short_name\": null, \"route_id2\": \"BCT109 SB\", \"cutoff2\": 30, \"cutoff\": 0}, {\"calitp_itp_id\": 260, \"trip_key\": 5483605554865067177, \"trip_id\": \"BCT109 SB_MF.T01\", \"shape_id\": \"BCT109 SB\", \"route_id\": \"BCT109 SB\", \"service_hours\": 1.33, \"trip_first_departure_ts\": 21300, \"trip_last_arrival_ts\": 26100, \"departure_hour\": 5, \"time_of_day\": \"Owl Service\", \"p25\": 1.33, \"p50\": 1.33, \"p75\": 1.33, \"p50_trip\": 1, \"fastest_trip\": 0, \"car_duration_hours\": 1.1, \"competitive_route\": 1, \"bus_multiplier\": 1.21, \"bus_difference\": 13.8, \"num_trips\": 20, \"num_competitive\": 20, \"pct_trips_competitive\": 1.0, \"bus_difference_spread\": 0.0, \"route_group\": \"medium\", \"max_trip_hrs\": 1.33, \"max_trip_route_group\": 1.33, \"below_cutoff\": 20, \"pct_below_cutoff\": 1.0, \"calitp_agency_name\": \"Beach Cities Transit\", \"caltrans_district\": \"07 - Los Angeles\", \"route_name\": \"Beach Cities Transit 109 Southbound\", \"route_short_name\": null, \"route_id2\": \"BCT109 SB\", \"cutoff2\": 30, \"cutoff\": 0}, {\"calitp_itp_id\": 260, \"trip_key\": -4780138184419908344, \"trip_id\": \"BCT109 SB_MF.T14\", \"shape_id\": \"BCT109 SB\", \"route_id\": \"BCT109 SB\", \"service_hours\": 1.33, \"trip_first_departure_ts\": 57600, \"trip_last_arrival_ts\": 62400, \"departure_hour\": 16, \"time_of_day\": \"Midday\", \"p25\": 1.33, \"p50\": 1.33, \"p75\": 1.33, \"p50_trip\": 1, \"fastest_trip\": 0, \"car_duration_hours\": 1.1, \"competitive_route\": 1, \"bus_multiplier\": 1.21, \"bus_difference\": 13.8, \"num_trips\": 20, \"num_competitive\": 20, \"pct_trips_competitive\": 1.0, \"bus_difference_spread\": 0.0, \"route_group\": \"medium\", \"max_trip_hrs\": 1.33, \"max_trip_route_group\": 1.33, \"below_cutoff\": 20, \"pct_below_cutoff\": 1.0, \"calitp_agency_name\": \"Beach Cities Transit\", \"caltrans_district\": \"07 - Los Angeles\", \"route_name\": \"Beach Cities Transit 109 Southbound\", \"route_short_name\": null, \"route_id2\": \"BCT109 SB\", \"cutoff2\": 30, \"cutoff\": 0}, {\"calitp_itp_id\": 260, \"trip_key\": -4425915001469547984, \"trip_id\": \"BCT109 SB_MF.T03\", \"shape_id\": \"BCT109 SB\", \"route_id\": \"BCT109 SB\", \"service_hours\": 1.33, \"trip_first_departure_ts\": 26400, \"trip_last_arrival_ts\": 31200, \"departure_hour\": 7, \"time_of_day\": \"AM Peak\", \"p25\": 1.33, \"p50\": 1.33, \"p75\": 1.33, \"p50_trip\": 1, \"fastest_trip\": 0, \"car_duration_hours\": 1.1, \"competitive_route\": 1, \"bus_multiplier\": 1.21, \"bus_difference\": 13.8, \"num_trips\": 20, \"num_competitive\": 20, \"pct_trips_competitive\": 1.0, \"bus_difference_spread\": 0.0, \"route_group\": \"medium\", \"max_trip_hrs\": 1.33, \"max_trip_route_group\": 1.33, \"below_cutoff\": 20, \"pct_below_cutoff\": 1.0, \"calitp_agency_name\": \"Beach Cities Transit\", \"caltrans_district\": \"07 - Los Angeles\", \"route_name\": \"Beach Cities Transit 109 Southbound\", \"route_short_name\": null, \"route_id2\": \"BCT109 SB\", \"cutoff2\": 30, \"cutoff\": 0}, {\"calitp_itp_id\": 260, \"trip_key\": -6387492083207951242, \"trip_id\": \"BCT109 SB_MF.T11\", \"shape_id\": \"BCT109 SB\", \"route_id\": \"BCT109 SB\", \"service_hours\": 1.33, \"trip_first_departure_ts\": 49200, \"trip_last_arrival_ts\": 54000, \"departure_hour\": 13, \"time_of_day\": \"Midday\", \"p25\": 1.33, \"p50\": 1.33, \"p75\": 1.33, \"p50_trip\": 1, \"fastest_trip\": 0, \"car_duration_hours\": 1.1, \"competitive_route\": 1, \"bus_multiplier\": 1.21, \"bus_difference\": 13.8, \"num_trips\": 20, \"num_competitive\": 20, \"pct_trips_competitive\": 1.0, \"bus_difference_spread\": 0.0, \"route_group\": \"medium\", \"max_trip_hrs\": 1.33, \"max_trip_route_group\": 1.33, \"below_cutoff\": 20, \"pct_below_cutoff\": 1.0, \"calitp_agency_name\": \"Beach Cities Transit\", \"caltrans_district\": \"07 - Los Angeles\", \"route_name\": \"Beach Cities Transit 109 Southbound\", \"route_short_name\": null, \"route_id2\": \"BCT109 SB\", \"cutoff2\": 30, \"cutoff\": 0}, {\"calitp_itp_id\": 260, \"trip_key\": -3213125366714638313, \"trip_id\": \"BCT109 SB_MF.T13\", \"shape_id\": \"BCT109 SB\", \"route_id\": \"BCT109 SB\", \"service_hours\": 1.33, \"trip_first_departure_ts\": 54900, \"trip_last_arrival_ts\": 59700, \"departure_hour\": 15, \"time_of_day\": \"Midday\", \"p25\": 1.33, \"p50\": 1.33, \"p75\": 1.33, \"p50_trip\": 1, \"fastest_trip\": 0, \"car_duration_hours\": 1.1, \"competitive_route\": 1, \"bus_multiplier\": 1.21, \"bus_difference\": 13.8, \"num_trips\": 20, \"num_competitive\": 20, \"pct_trips_competitive\": 1.0, \"bus_difference_spread\": 0.0, \"route_group\": \"medium\", \"max_trip_hrs\": 1.33, \"max_trip_route_group\": 1.33, \"below_cutoff\": 20, \"pct_below_cutoff\": 1.0, \"calitp_agency_name\": \"Beach Cities Transit\", \"caltrans_district\": \"07 - Los Angeles\", \"route_name\": \"Beach Cities Transit 109 Southbound\", \"route_short_name\": null, \"route_id2\": \"BCT109 SB\", \"cutoff2\": 30, \"cutoff\": 0}, {\"calitp_itp_id\": 260, \"trip_key\": 3809111814313801124, \"trip_id\": \"BCT109 SB_MF.T07\", \"shape_id\": \"BCT109 SB\", \"route_id\": \"BCT109 SB\", \"service_hours\": 1.33, \"trip_first_departure_ts\": 37200, \"trip_last_arrival_ts\": 42000, \"departure_hour\": 10, \"time_of_day\": \"Midday\", \"p25\": 1.33, \"p50\": 1.33, \"p75\": 1.33, \"p50_trip\": 1, \"fastest_trip\": 0, \"car_duration_hours\": 1.1, \"competitive_route\": 1, \"bus_multiplier\": 1.21, \"bus_difference\": 13.8, \"num_trips\": 20, \"num_competitive\": 20, \"pct_trips_competitive\": 1.0, \"bus_difference_spread\": 0.0, \"route_group\": \"medium\", \"max_trip_hrs\": 1.33, \"max_trip_route_group\": 1.33, \"below_cutoff\": 20, \"pct_below_cutoff\": 1.0, \"calitp_agency_name\": \"Beach Cities Transit\", \"caltrans_district\": \"07 - Los Angeles\", \"route_name\": \"Beach Cities Transit 109 Southbound\", \"route_short_name\": null, \"route_id2\": \"BCT109 SB\", \"cutoff2\": 30, \"cutoff\": 0}, {\"calitp_itp_id\": 260, \"trip_key\": -8946219895800285709, \"trip_id\": \"BCT109 SB_MF.T12\", \"shape_id\": \"BCT109 SB\", \"route_id\": \"BCT109 SB\", \"service_hours\": 1.33, \"trip_first_departure_ts\": 51900, \"trip_last_arrival_ts\": 56700, \"departure_hour\": 14, \"time_of_day\": \"Midday\", \"p25\": 1.33, \"p50\": 1.33, \"p75\": 1.33, \"p50_trip\": 1, \"fastest_trip\": 0, \"car_duration_hours\": 1.1, \"competitive_route\": 1, \"bus_multiplier\": 1.21, \"bus_difference\": 13.8, \"num_trips\": 20, \"num_competitive\": 20, \"pct_trips_competitive\": 1.0, \"bus_difference_spread\": 0.0, \"route_group\": \"medium\", \"max_trip_hrs\": 1.33, \"max_trip_route_group\": 1.33, \"below_cutoff\": 20, \"pct_below_cutoff\": 1.0, \"calitp_agency_name\": \"Beach Cities Transit\", \"caltrans_district\": \"07 - Los Angeles\", \"route_name\": \"Beach Cities Transit 109 Southbound\", \"route_short_name\": null, \"route_id2\": \"BCT109 SB\", \"cutoff2\": 30, \"cutoff\": 0}, {\"calitp_itp_id\": 260, \"trip_key\": 8591784665566234450, \"trip_id\": \"BCT109 SB_MF.T08\", \"shape_id\": \"BCT109 SB\", \"route_id\": \"BCT109 SB\", \"service_hours\": 1.33, \"trip_first_departure_ts\": 39900, \"trip_last_arrival_ts\": 44700, \"departure_hour\": 11, \"time_of_day\": \"Midday\", \"p25\": 1.33, \"p50\": 1.33, \"p75\": 1.33, \"p50_trip\": 1, \"fastest_trip\": 0, \"car_duration_hours\": 1.1, \"competitive_route\": 1, \"bus_multiplier\": 1.21, \"bus_difference\": 13.8, \"num_trips\": 20, \"num_competitive\": 20, \"pct_trips_competitive\": 1.0, \"bus_difference_spread\": 0.0, \"route_group\": \"medium\", \"max_trip_hrs\": 1.33, \"max_trip_route_group\": 1.33, \"below_cutoff\": 20, \"pct_below_cutoff\": 1.0, \"calitp_agency_name\": \"Beach Cities Transit\", \"caltrans_district\": \"07 - Los Angeles\", \"route_name\": \"Beach Cities Transit 109 Southbound\", \"route_short_name\": null, \"route_id2\": \"BCT109 SB\", \"cutoff2\": 30, \"cutoff\": 0}, {\"calitp_itp_id\": 260, \"trip_key\": -5692302563158925297, \"trip_id\": \"BCT109 SB_MF.T02\", \"shape_id\": \"BCT109 SB\", \"route_id\": \"BCT109 SB\", \"service_hours\": 1.33, \"trip_first_departure_ts\": 24000, \"trip_last_arrival_ts\": 28800, \"departure_hour\": 6, \"time_of_day\": \"Owl Service\", \"p25\": 1.33, \"p50\": 1.33, \"p75\": 1.33, \"p50_trip\": 1, \"fastest_trip\": 0, \"car_duration_hours\": 1.1, \"competitive_route\": 1, \"bus_multiplier\": 1.21, \"bus_difference\": 13.8, \"num_trips\": 20, \"num_competitive\": 20, \"pct_trips_competitive\": 1.0, \"bus_difference_spread\": 0.0, \"route_group\": \"medium\", \"max_trip_hrs\": 1.33, \"max_trip_route_group\": 1.33, \"below_cutoff\": 20, \"pct_below_cutoff\": 1.0, \"calitp_agency_name\": \"Beach Cities Transit\", \"caltrans_district\": \"07 - Los Angeles\", \"route_name\": \"Beach Cities Transit 109 Southbound\", \"route_short_name\": null, \"route_id2\": \"BCT109 SB\", \"cutoff2\": 30, \"cutoff\": 0}, {\"calitp_itp_id\": 260, \"trip_key\": -6167030381298569725, \"trip_id\": \"BCT109 SB_MF.T04\", \"shape_id\": \"BCT109 SB\", \"route_id\": \"BCT109 SB\", \"service_hours\": 1.33, \"trip_first_departure_ts\": 29100, \"trip_last_arrival_ts\": 33900, \"departure_hour\": 8, \"time_of_day\": \"AM Peak\", \"p25\": 1.33, \"p50\": 1.33, \"p75\": 1.33, \"p50_trip\": 1, \"fastest_trip\": 0, \"car_duration_hours\": 1.1, \"competitive_route\": 1, \"bus_multiplier\": 1.21, \"bus_difference\": 13.8, \"num_trips\": 20, \"num_competitive\": 20, \"pct_trips_competitive\": 1.0, \"bus_difference_spread\": 0.0, \"route_group\": \"medium\", \"max_trip_hrs\": 1.33, \"max_trip_route_group\": 1.33, \"below_cutoff\": 20, \"pct_below_cutoff\": 1.0, \"calitp_agency_name\": \"Beach Cities Transit\", \"caltrans_district\": \"07 - Los Angeles\", \"route_name\": \"Beach Cities Transit 109 Southbound\", \"route_short_name\": null, \"route_id2\": \"BCT109 SB\", \"cutoff2\": 30, \"cutoff\": 0}, {\"calitp_itp_id\": 260, \"trip_key\": -5704407478966822574, \"trip_id\": \"BCT109 SB_MF.T19\", \"shape_id\": \"BCT109 SB\", \"route_id\": \"BCT109 SB\", \"service_hours\": 1.33, \"trip_first_departure_ts\": 70800, \"trip_last_arrival_ts\": 75600, \"departure_hour\": 19, \"time_of_day\": \"PM Peak\", \"p25\": 1.33, \"p50\": 1.33, \"p75\": 1.33, \"p50_trip\": 1, \"fastest_trip\": 0, \"car_duration_hours\": 1.1, \"competitive_route\": 1, \"bus_multiplier\": 1.21, \"bus_difference\": 13.8, \"num_trips\": 20, \"num_competitive\": 20, \"pct_trips_competitive\": 1.0, \"bus_difference_spread\": 0.0, \"route_group\": \"medium\", \"max_trip_hrs\": 1.33, \"max_trip_route_group\": 1.33, \"below_cutoff\": 20, \"pct_below_cutoff\": 1.0, \"calitp_agency_name\": \"Beach Cities Transit\", \"caltrans_district\": \"07 - Los Angeles\", \"route_name\": \"Beach Cities Transit 109 Southbound\", \"route_short_name\": null, \"route_id2\": \"BCT109 SB\", \"cutoff2\": 30, \"cutoff\": 0}, {\"calitp_itp_id\": 260, \"trip_key\": 6970404091750010637, \"trip_id\": \"BCT109 SB_MF.T06\", \"shape_id\": \"BCT109 SB\", \"route_id\": \"BCT109 SB\", \"service_hours\": 1.33, \"trip_first_departure_ts\": 34800, \"trip_last_arrival_ts\": 39600, \"departure_hour\": 9, \"time_of_day\": \"AM Peak\", \"p25\": 1.33, \"p50\": 1.33, \"p75\": 1.33, \"p50_trip\": 1, \"fastest_trip\": 0, \"car_duration_hours\": 1.1, \"competitive_route\": 1, \"bus_multiplier\": 1.21, \"bus_difference\": 13.8, \"num_trips\": 20, \"num_competitive\": 20, \"pct_trips_competitive\": 1.0, \"bus_difference_spread\": 0.0, \"route_group\": \"medium\", \"max_trip_hrs\": 1.33, \"max_trip_route_group\": 1.33, \"below_cutoff\": 20, \"pct_below_cutoff\": 1.0, \"calitp_agency_name\": \"Beach Cities Transit\", \"caltrans_district\": \"07 - Los Angeles\", \"route_name\": \"Beach Cities Transit 109 Southbound\", \"route_short_name\": null, \"route_id2\": \"BCT109 SB\", \"cutoff2\": 30, \"cutoff\": 0}, {\"calitp_itp_id\": 260, \"trip_key\": 5016011737382582511, \"trip_id\": \"BCT109 SB_MF.T10\", \"shape_id\": \"BCT109 SB\", \"route_id\": \"BCT109 SB\", \"service_hours\": 1.33, \"trip_first_departure_ts\": 46800, \"trip_last_arrival_ts\": 51600, \"departure_hour\": 13, \"time_of_day\": \"Midday\", \"p25\": 1.33, \"p50\": 1.33, \"p75\": 1.33, \"p50_trip\": 1, \"fastest_trip\": 0, \"car_duration_hours\": 1.1, \"competitive_route\": 1, \"bus_multiplier\": 1.21, \"bus_difference\": 13.8, \"num_trips\": 20, \"num_competitive\": 20, \"pct_trips_competitive\": 1.0, \"bus_difference_spread\": 0.0, \"route_group\": \"medium\", \"max_trip_hrs\": 1.33, \"max_trip_route_group\": 1.33, \"below_cutoff\": 20, \"pct_below_cutoff\": 1.0, \"calitp_agency_name\": \"Beach Cities Transit\", \"caltrans_district\": \"07 - Los Angeles\", \"route_name\": \"Beach Cities Transit 109 Southbound\", \"route_short_name\": null, \"route_id2\": \"BCT109 SB\", \"cutoff2\": 30, \"cutoff\": 0}, {\"calitp_itp_id\": 260, \"trip_key\": 167940946600347386, \"trip_id\": \"BCT109 SB_MF.T18\", \"shape_id\": \"BCT109 SB\", \"route_id\": \"BCT109 SB\", \"service_hours\": 1.33, \"trip_first_departure_ts\": 68400, \"trip_last_arrival_ts\": 73200, \"departure_hour\": 19, \"time_of_day\": \"PM Peak\", \"p25\": 1.33, \"p50\": 1.33, \"p75\": 1.33, \"p50_trip\": 1, \"fastest_trip\": 0, \"car_duration_hours\": 1.1, \"competitive_route\": 1, \"bus_multiplier\": 1.21, \"bus_difference\": 13.8, \"num_trips\": 20, \"num_competitive\": 20, \"pct_trips_competitive\": 1.0, \"bus_difference_spread\": 0.0, \"route_group\": \"medium\", \"max_trip_hrs\": 1.33, \"max_trip_route_group\": 1.33, \"below_cutoff\": 20, \"pct_below_cutoff\": 1.0, \"calitp_agency_name\": \"Beach Cities Transit\", \"caltrans_district\": \"07 - Los Angeles\", \"route_name\": \"Beach Cities Transit 109 Southbound\", \"route_short_name\": null, \"route_id2\": \"BCT109 SB\", \"cutoff2\": 30, \"cutoff\": 0}, {\"calitp_itp_id\": 260, \"trip_key\": 1469278410914527932, \"trip_id\": \"BCT109 SB_MF.T09\", \"shape_id\": \"BCT109 SB\", \"route_id\": \"BCT109 SB\", \"service_hours\": 1.33, \"trip_first_departure_ts\": 44100, \"trip_last_arrival_ts\": 48900, \"departure_hour\": 12, \"time_of_day\": \"Midday\", \"p25\": 1.33, \"p50\": 1.33, \"p75\": 1.33, \"p50_trip\": 1, \"fastest_trip\": 0, \"car_duration_hours\": 1.1, \"competitive_route\": 1, \"bus_multiplier\": 1.21, \"bus_difference\": 13.8, \"num_trips\": 20, \"num_competitive\": 20, \"pct_trips_competitive\": 1.0, \"bus_difference_spread\": 0.0, \"route_group\": \"medium\", \"max_trip_hrs\": 1.33, \"max_trip_route_group\": 1.33, \"below_cutoff\": 20, \"pct_below_cutoff\": 1.0, \"calitp_agency_name\": \"Beach Cities Transit\", \"caltrans_district\": \"07 - Los Angeles\", \"route_name\": \"Beach Cities Transit 109 Southbound\", \"route_short_name\": null, \"route_id2\": \"BCT109 SB\", \"cutoff2\": 30, \"cutoff\": 0}]}}, {\"mode\": \"vega-lite\"});\n",
       "</script>"
      ],
      "text/plain": [
       "alt.FacetChart(...)"
      ]
     },
     "metadata": {},
     "output_type": "display_data"
    },
    {
     "data": {
      "text/html": [
       "<h4>Route Stats</h4>"
      ],
      "text/plain": [
       "<IPython.core.display.HTML object>"
      ]
     },
     "metadata": {},
     "output_type": "display_data"
    },
    {
     "data": {
      "text/html": [
       "<style type=\"text/css\">\n",
       "#T_c9428 th {\n",
       "  text-align: center;\n",
       "}\n",
       "#T_c9428_row0_col0, #T_c9428_row0_col1, #T_c9428_row1_col0, #T_c9428_row1_col1 {\n",
       "  text-align: left;\n",
       "}\n",
       "#T_c9428_row0_col2, #T_c9428_row0_col3, #T_c9428_row0_col5, #T_c9428_row1_col2, #T_c9428_row1_col3, #T_c9428_row1_col5 {\n",
       "  text-align: center;\n",
       "}\n",
       "</style>\n",
       "<table id=\"T_c9428\">\n",
       "  <thead>\n",
       "    <tr>\n",
       "      <th id=\"T_c9428_level0_col0\" class=\"col_heading level0 col0\" >Route ID</th>\n",
       "      <th id=\"T_c9428_level0_col1\" class=\"col_heading level0 col1\" >Route Name</th>\n",
       "      <th id=\"T_c9428_level0_col2\" class=\"col_heading level0 col2\" ># trips</th>\n",
       "      <th id=\"T_c9428_level0_col3\" class=\"col_heading level0 col3\" >Daily Avg Freq (trips per hr)</th>\n",
       "      <th id=\"T_c9428_level0_col4\" class=\"col_heading level0 col4\" >25th, 50th, 75th ptile (hrs)</th>\n",
       "      <th id=\"T_c9428_level0_col5\" class=\"col_heading level0 col5\" >PM Peak Avg Freq (trips per hr)</th>\n",
       "    </tr>\n",
       "  </thead>\n",
       "  <tbody>\n",
       "    <tr>\n",
       "      <td id=\"T_c9428_row0_col0\" class=\"data row0 col0\" >BCT109 NB</td>\n",
       "      <td id=\"T_c9428_row0_col1\" class=\"data row0 col1\" >Beach Cities Transit 109 Northbound</td>\n",
       "      <td id=\"T_c9428_row0_col2\" class=\"data row0 col2\" >20</td>\n",
       "      <td id=\"T_c9428_row0_col3\" class=\"data row0 col3\" >0.83</td>\n",
       "      <td id=\"T_c9428_row0_col4\" class=\"data row0 col4\" >1.28, 1.28, 1.28</td>\n",
       "      <td id=\"T_c9428_row0_col5\" class=\"data row0 col5\" >1.33</td>\n",
       "    </tr>\n",
       "    <tr>\n",
       "      <td id=\"T_c9428_row1_col0\" class=\"data row1 col0\" >BCT109 SB</td>\n",
       "      <td id=\"T_c9428_row1_col1\" class=\"data row1 col1\" >Beach Cities Transit 109 Southbound</td>\n",
       "      <td id=\"T_c9428_row1_col2\" class=\"data row1 col2\" >20</td>\n",
       "      <td id=\"T_c9428_row1_col3\" class=\"data row1 col3\" >0.83</td>\n",
       "      <td id=\"T_c9428_row1_col4\" class=\"data row1 col4\" >1.33, 1.33, 1.33</td>\n",
       "      <td id=\"T_c9428_row1_col5\" class=\"data row1 col5\" >1.33</td>\n",
       "    </tr>\n",
       "  </tbody>\n",
       "</table>\n"
      ],
      "text/plain": [
       "<IPython.core.display.HTML object>"
      ]
     },
     "metadata": {},
     "output_type": "display_data"
    }
   ],
   "source": [
    "route_group = \"medium\"\n",
    "display_charts_for_route_group(df, route_group)"
   ]
  },
  {
   "cell_type": "markdown",
   "id": "124b76d0-886c-4d03-92ac-f1bda3cda182",
   "metadata": {
    "papermill": {
     "duration": 0.019527,
     "end_time": "2022-06-03T22:08:05.766910",
     "exception": false,
     "start_time": "2022-06-03T22:08:05.747383",
     "status": "completed"
    },
    "tags": []
   },
   "source": [
    "### Long Routes (> 1.5 hrs)"
   ]
  },
  {
   "cell_type": "code",
   "execution_count": 16,
   "id": "ddc81b19-4c45-4c81-8b7a-5e0f394aa7a3",
   "metadata": {
    "execution": {
     "iopub.execute_input": "2022-06-03T22:08:05.806826Z",
     "iopub.status.busy": "2022-06-03T22:08:05.806375Z",
     "iopub.status.idle": "2022-06-03T22:08:05.818619Z",
     "shell.execute_reply": "2022-06-03T22:08:05.817599Z"
    },
    "jupyter": {
     "source_hidden": true
    },
    "papermill": {
     "duration": 0.034428,
     "end_time": "2022-06-03T22:08:05.820801",
     "exception": false,
     "start_time": "2022-06-03T22:08:05.786373",
     "status": "completed"
    },
    "tags": [
     "remove_input"
    ]
   },
   "outputs": [
    {
     "name": "stdout",
     "output_type": "stream",
     "text": [
      "No routes meet this criteria.\n"
     ]
    }
   ],
   "source": [
    "route_group = \"long\"\n",
    "display_charts_for_route_group(df, route_group)"
   ]
  },
  {
   "cell_type": "markdown",
   "id": "ace75b5f-0442-4fbe-aebd-6c3a13ae13a7",
   "metadata": {
    "papermill": {
     "duration": 0.020925,
     "end_time": "2022-06-03T22:08:05.869415",
     "exception": false,
     "start_time": "2022-06-03T22:08:05.848490",
     "status": "completed"
    },
    "tags": []
   },
   "source": [
    "### GTFS Real-Time Speedmaps"
   ]
  },
  {
   "cell_type": "code",
   "execution_count": 17,
   "id": "a0a114a1-e975-4027-9daf-50029f5ef59f",
   "metadata": {
    "execution": {
     "iopub.execute_input": "2022-06-03T22:08:05.912009Z",
     "iopub.status.busy": "2022-06-03T22:08:05.911452Z",
     "iopub.status.idle": "2022-06-03T22:08:05.933499Z",
     "shell.execute_reply": "2022-06-03T22:08:05.932488Z"
    },
    "jupyter": {
     "source_hidden": true
    },
    "papermill": {
     "duration": 0.050528,
     "end_time": "2022-06-03T22:08:05.940773",
     "exception": false,
     "start_time": "2022-06-03T22:08:05.890245",
     "status": "completed"
    },
    "tags": [
     "remove_input"
    ]
   },
   "outputs": [
    {
     "data": {
      "text/html": [
       "<a href=https://analysis.calitp.org/rt/district_07-los-angeles/speedmaps__itp_id_260.html>GTFS RT speedmaps here.</a>"
      ],
      "text/plain": [
       "<IPython.core.display.HTML object>"
      ]
     },
     "metadata": {},
     "output_type": "display_data"
    }
   ],
   "source": [
    "RT_SITE_YAML = \"../portfolio/sites/rt.yml\"\n",
    "\n",
    "# Grab list of ITP IDs with GTFS RT speedmaps\n",
    "rt_itp_id = deploy_portfolio_yaml.check_if_rt_data_available(RT_SITE_YAML)\n",
    "\n",
    "# Construct the URL \n",
    "RT_URL = (\"https://analysis.calitp.org/rt/\"\n",
    "          f\"district_{district_number}-{district_name}/\"\n",
    "          f\"speedmaps__itp_id_{itp_id}.html\"\n",
    "         ) \n",
    "\n",
    "# If this ITP ID is found in RT analysis, give URL to that operator in analysis.calitp.org\n",
    "if itp_id in rt_itp_id:\n",
    "    display(HTML(f'''<a href={RT_URL}>GTFS RT speedmaps here.</a>'''))\n",
    "\n",
    "else:\n",
    "    display(HTML(\"No GTFS RT data available.\"))"
   ]
  },
  {
   "cell_type": "code",
   "execution_count": null,
   "id": "5b680565-2230-4f2e-817c-718fad48d64c",
   "metadata": {
    "jupyter": {
     "source_hidden": true
    },
    "papermill": {
     "duration": 0.019469,
     "end_time": "2022-06-03T22:08:05.981229",
     "exception": false,
     "start_time": "2022-06-03T22:08:05.961760",
     "status": "completed"
    },
    "tags": [
     "remove_input"
    ]
   },
   "outputs": [],
   "source": []
  }
 ],
 "metadata": {
  "kernelspec": {
   "display_name": "Python 3 (ipykernel)",
   "language": "python",
   "name": "python3"
  },
  "language_info": {
   "codemirror_mode": {
    "name": "ipython",
    "version": 3
   },
   "file_extension": ".py",
   "mimetype": "text/x-python",
   "name": "python",
   "nbconvert_exporter": "python",
   "pygments_lexer": "ipython3",
   "version": "3.9.12"
  },
  "papermill": {
   "default_parameters": {},
   "duration": 37.213286,
   "end_time": "2022-06-03T22:08:07.326193",
   "environment_variables": {},
   "exception": null,
   "input_path": "bus_service_increase/competitive-parallel-routes.ipynb",
   "output_path": "portfolio/parallel_corridors/district_07-los-angeles/9__competitive-parallel-routes__district_07-los-angeles__itp_id_260.ipynb",
   "parameters": {
    "district": "07 - Los Angeles",
    "itp_id": 260
   },
   "start_time": "2022-06-03T22:07:30.112907",
   "version": "2.3.4"
  }
 },
 "nbformat": 4,
 "nbformat_minor": 5
}