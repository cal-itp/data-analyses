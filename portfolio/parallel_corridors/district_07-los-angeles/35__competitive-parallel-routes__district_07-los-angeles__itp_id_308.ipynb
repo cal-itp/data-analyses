{
 "cells": [
  {
   "cell_type": "code",
   "execution_count": 1,
   "id": "95d00857-6a20-4529-a519-2cc7182928a9",
   "metadata": {
    "execution": {
     "iopub.execute_input": "2022-05-12T19:42:31.926952Z",
     "iopub.status.busy": "2022-05-12T19:42:31.926424Z",
     "iopub.status.idle": "2022-05-12T19:42:40.310653Z",
     "shell.execute_reply": "2022-05-12T19:42:40.309844Z"
    },
    "jupyter": {
     "source_hidden": true
    },
    "papermill": {
     "duration": 8.400895,
     "end_time": "2022-05-12T19:42:40.313160",
     "exception": false,
     "start_time": "2022-05-12T19:42:31.912265",
     "status": "completed"
    },
    "tags": [
     "remove_input"
    ]
   },
   "outputs": [],
   "source": [
    "%%capture\n",
    "import warnings\n",
    "warnings.filterwarnings('ignore')\n",
    "\n",
    "import altair as alt\n",
    "import calitp.magics\n",
    "import geopandas as gpd\n",
    "import intake\n",
    "import pandas as pd\n",
    "\n",
    "from IPython.display import display, Markdown, HTML\n",
    "\n",
    "import parallel_corridors_utils\n",
    "import deploy_portfolio_yaml\n",
    "from shared_utils import styleguide, geography_utils\n",
    "from make_stripplot_data import diff_cutoffs\n",
    "\n",
    "catalog = intake.open_catalog(\"./*.yml\")\n",
    "alt.renderers.enable(\"html\")"
   ]
  },
  {
   "cell_type": "code",
   "execution_count": 2,
   "id": "8af2a0c1-f3da-408d-9bea-11d9fbf8695d",
   "metadata": {
    "execution": {
     "iopub.execute_input": "2022-05-12T19:42:40.341548Z",
     "iopub.status.busy": "2022-05-12T19:42:40.340980Z",
     "iopub.status.idle": "2022-05-12T19:42:40.345039Z",
     "shell.execute_reply": "2022-05-12T19:42:40.344494Z"
    },
    "jupyter": {
     "source_hidden": true
    },
    "papermill": {
     "duration": 0.019773,
     "end_time": "2022-05-12T19:42:40.346770",
     "exception": false,
     "start_time": "2022-05-12T19:42:40.326997",
     "status": "completed"
    },
    "tags": [
     "parameters",
     "remove_input"
    ]
   },
   "outputs": [],
   "source": [
    "# parameters cell\n",
    "itp_id = 182"
   ]
  },
  {
   "cell_type": "code",
   "execution_count": 3,
   "id": "2497228b",
   "metadata": {
    "execution": {
     "iopub.execute_input": "2022-05-12T19:42:40.374062Z",
     "iopub.status.busy": "2022-05-12T19:42:40.372963Z",
     "iopub.status.idle": "2022-05-12T19:42:40.377740Z",
     "shell.execute_reply": "2022-05-12T19:42:40.377180Z"
    },
    "jupyter": {
     "source_hidden": true
    },
    "papermill": {
     "duration": 0.01985,
     "end_time": "2022-05-12T19:42:40.379555",
     "exception": false,
     "start_time": "2022-05-12T19:42:40.359705",
     "status": "completed"
    },
    "tags": [
     "injected-parameters",
     "remove_input"
    ]
   },
   "outputs": [],
   "source": [
    "# Parameters\n",
    "district = \"07 - Los Angeles\"\n",
    "itp_id = 308\n"
   ]
  },
  {
   "cell_type": "code",
   "execution_count": 4,
   "id": "9582aaf4-79ff-412a-b248-8d8d693ebd4f",
   "metadata": {
    "execution": {
     "iopub.execute_input": "2022-05-12T19:42:40.411725Z",
     "iopub.status.busy": "2022-05-12T19:42:40.411078Z",
     "iopub.status.idle": "2022-05-12T19:42:41.648057Z",
     "shell.execute_reply": "2022-05-12T19:42:41.647503Z"
    },
    "jupyter": {
     "source_hidden": true
    },
    "papermill": {
     "duration": 1.25309,
     "end_time": "2022-05-12T19:42:41.650488",
     "exception": false,
     "start_time": "2022-05-12T19:42:40.397398",
     "status": "completed"
    },
    "tags": [
     "remove_input"
    ]
   },
   "outputs": [],
   "source": [
    "df = catalog.competitive_route_variability.read()\n",
    "\n",
    "df = (df[(df.calitp_itp_id == itp_id) & \n",
    "         (df.route_group.notna())]\n",
    "      .rename(columns = {\"route_name_used\": \"route_name\"})\n",
    "      .reset_index(drop=True)\n",
    "     )\n",
    "\n",
    "if itp_id == 182:\n",
    "    df = df.assign(\n",
    "        route_id = df.route_id.str.replace('-13153', '').astype(int)\n",
    "    )"
   ]
  },
  {
   "cell_type": "code",
   "execution_count": 5,
   "id": "33ac4b06-f647-4dce-a625-8f2c1b37cc60",
   "metadata": {
    "execution": {
     "iopub.execute_input": "2022-05-12T19:42:41.679161Z",
     "iopub.status.busy": "2022-05-12T19:42:41.678187Z",
     "iopub.status.idle": "2022-05-12T19:42:41.688889Z",
     "shell.execute_reply": "2022-05-12T19:42:41.685162Z"
    },
    "jupyter": {
     "source_hidden": true
    },
    "papermill": {
     "duration": 0.027742,
     "end_time": "2022-05-12T19:42:41.690909",
     "exception": false,
     "start_time": "2022-05-12T19:42:41.663167",
     "status": "completed"
    },
    "tags": [
     "remove_input"
    ]
   },
   "outputs": [],
   "source": [
    "%%capture_parameters\n",
    "operator_name = df.name.iloc[0]\n",
    "district_number = f\"{df.caltrans_district.iloc[0].split('-')[0].strip()}\"\n",
    "district_name = f\"{df.caltrans_district.iloc[0].split('-')[1].strip().lower().replace(' ', '-')}\"\n",
    "\n",
    "itp_id, operator_name, district_number, district_name"
   ]
  },
  {
   "cell_type": "markdown",
   "id": "65bc6f5c-8348-42ee-b2dd-52057c406852",
   "metadata": {
    "papermill": {
     "duration": 0.012742,
     "end_time": "2022-05-12T19:42:41.717528",
     "exception": false,
     "start_time": "2022-05-12T19:42:41.704786",
     "status": "completed"
    },
    "tags": []
   },
   "source": [
    "# City of Simi Valley (ITP ID: 308)"
   ]
  },
  {
   "cell_type": "code",
   "execution_count": 6,
   "id": "a689c1ab-2c6c-4831-8d64-897f5986f571",
   "metadata": {
    "execution": {
     "iopub.execute_input": "2022-05-12T19:42:41.745560Z",
     "iopub.status.busy": "2022-05-12T19:42:41.745293Z",
     "iopub.status.idle": "2022-05-12T19:42:41.751252Z",
     "shell.execute_reply": "2022-05-12T19:42:41.750385Z"
    },
    "jupyter": {
     "source_hidden": true
    },
    "papermill": {
     "duration": 0.023205,
     "end_time": "2022-05-12T19:42:41.753954",
     "exception": false,
     "start_time": "2022-05-12T19:42:41.730749",
     "status": "completed"
    },
    "tags": [
     "remove_input"
    ]
   },
   "outputs": [
    {
     "data": {
      "text/html": [
       "<h1>Competitive & Parallel Routes</h1>"
      ],
      "text/plain": [
       "<IPython.core.display.HTML object>"
      ]
     },
     "metadata": {},
     "output_type": "display_data"
    }
   ],
   "source": [
    "display(HTML(\"<h1>Competitive & Parallel Routes</h1>\")) "
   ]
  },
  {
   "cell_type": "code",
   "execution_count": 7,
   "id": "2cb4d8d5-4760-40e4-85b1-cb833d8bb648",
   "metadata": {
    "execution": {
     "iopub.execute_input": "2022-05-12T19:42:41.782989Z",
     "iopub.status.busy": "2022-05-12T19:42:41.782717Z",
     "iopub.status.idle": "2022-05-12T19:42:51.823509Z",
     "shell.execute_reply": "2022-05-12T19:42:51.822607Z"
    },
    "jupyter": {
     "source_hidden": true
    },
    "papermill": {
     "duration": 10.057971,
     "end_time": "2022-05-12T19:42:51.825623",
     "exception": false,
     "start_time": "2022-05-12T19:42:41.767652",
     "status": "completed"
    },
    "tags": [
     "remove_input"
    ]
   },
   "outputs": [],
   "source": [
    "# Grab parameters for narrative text - clean up formatting here \n",
    "district = df.caltrans_district.iloc[0]\n",
    "formatted_date = pd.to_datetime(parallel_corridors_utils.SELECTED_DATE).strftime('%m-%d-%Y')\n",
    "\n",
    "PCT_COMPETITIVE_THRESHOLD = 0.75\n",
    "PCT_TRIPS_BELOW_CUTOFF = 1.0\n",
    "\n",
    "stats = parallel_corridors_utils.operator_parallel_competitive_stats(\n",
    "    itp_id, PCT_COMPETITIVE_THRESHOLD, PCT_TRIPS_BELOW_CUTOFF)\n",
    "\n",
    "pct_parallel = round(stats['parallel_routes'] / stats['num_routes'] * 100, 1 )\n",
    "pct_competitive =  round(stats['competitive_routes'] / stats['num_routes'] * 100, 1 )\n",
    "pct_viable =  round(stats['viable_competitive_routes'] / stats['num_routes'] * 100, 1 )"
   ]
  },
  {
   "cell_type": "code",
   "execution_count": 8,
   "id": "8bf30c8f-6aa5-47bb-82ae-a906732e81fd",
   "metadata": {
    "execution": {
     "iopub.execute_input": "2022-05-12T19:42:51.854332Z",
     "iopub.status.busy": "2022-05-12T19:42:51.853766Z",
     "iopub.status.idle": "2022-05-12T19:42:51.880929Z",
     "shell.execute_reply": "2022-05-12T19:42:51.880340Z"
    },
    "jupyter": {
     "source_hidden": true
    },
    "papermill": {
     "duration": 0.044451,
     "end_time": "2022-05-12T19:42:51.883089",
     "exception": false,
     "start_time": "2022-05-12T19:42:51.838638",
     "status": "completed"
    },
    "tags": [
     "remove_input"
    ]
   },
   "outputs": [],
   "source": [
    "# Display a table of route-level stats for each route_group\n",
    "# Displaying route_name makes chart too crowded\n",
    "\n",
    "# Get route stats (for entire df)\n",
    "route_stats = parallel_corridors_utils.competitive_route_level_stats(df)\n",
    "    \n",
    "def style_route_stats(df, top15_routes):\n",
    "    df = df[df.route_id.isin(top15_routes)]\n",
    "    \n",
    "    # Rename columns for display\n",
    "    rename_cols = {\n",
    "        \"route_id\": \"Route ID\",\n",
    "        \"route_name\": \"Route Name\",\n",
    "        \"route_group\": \"Route Group\",\n",
    "        \"num_trips\": \"# trips\",\n",
    "        \"daily_avg_freq\": \"Daily Avg Freq (trips per hr)\",\n",
    "        \"pm_peak_freq\": \"PM Peak Avg Freq (trips per hr)\",\n",
    "        \"percentiles\": \"25th, 50th, 75th ptile (hrs)\",\n",
    "    }\n",
    "    \n",
    "    # Style it\n",
    "    drop_cols = [\n",
    "        \"calitp_itp_id\", \"below_cutoff\", \"route_group\", \n",
    "        \"pct_trips_competitive\", \"pct_below_cutoff\",\n",
    "        \"p25\", \"p50\", \"p75\",\n",
    "    ]\n",
    "    \n",
    "    # Change alignment for some columns\n",
    "    # https://stackoverflow.com/questions/59453091/left-align-the-first-column-and-center-align-the-other-columns-in-a-pandas-table\n",
    "    df_style = (df.sort_values(\n",
    "        [\"pct_trips_competitive\", \"below_cutoff\", \n",
    "        \"pct_below_cutoff\", \"route_id\"], \n",
    "        ascending=[False, False, False, True])\n",
    "           .drop(columns = drop_cols)\n",
    "           .rename(columns = rename_cols)\n",
    "           .style.format(\n",
    "               subset=['Daily Avg Freq (trips per hr)', \n",
    "                       'PM Peak Avg Freq (trips per hr)'], \n",
    "               **{'formatter': '{:,.3}'})\n",
    "                .set_properties(subset=['Route ID', 'Route Name'], \n",
    "                                **{'text-align': 'left'})\n",
    "                .set_properties(subset=['# trips', 'Daily Avg Freq (trips per hr)', \n",
    "                                       'PM Peak Avg Freq (trips per hr)'], \n",
    "                               **{'text-align': 'center'})\n",
    "                .set_table_styles([dict(selector='th', \n",
    "                                        props=[('text-align', 'center')])\n",
    "                                        ])\n",
    "           .hide(axis=\"index\")\n",
    "           .to_html()\n",
    "          )\n",
    "    \n",
    "    display(HTML(\"<h4>Route Stats</h4>\"))\n",
    "    display(HTML(df_style))"
   ]
  },
  {
   "cell_type": "markdown",
   "id": "ab667928-5274-4490-82d9-4c39293209a4",
   "metadata": {
    "papermill": {
     "duration": 0.013874,
     "end_time": "2022-05-12T19:42:51.912908",
     "exception": false,
     "start_time": "2022-05-12T19:42:51.899034",
     "status": "completed"
    },
    "tags": []
   },
   "source": [
    "## Quick Stats"
   ]
  },
  {
   "cell_type": "code",
   "execution_count": 9,
   "id": "0416509d-dc62-4165-b62e-64f8b26e8b8e",
   "metadata": {
    "execution": {
     "iopub.execute_input": "2022-05-12T19:42:51.941146Z",
     "iopub.status.busy": "2022-05-12T19:42:51.940392Z",
     "iopub.status.idle": "2022-05-12T19:42:51.947190Z",
     "shell.execute_reply": "2022-05-12T19:42:51.946551Z"
    },
    "jupyter": {
     "source_hidden": true
    },
    "papermill": {
     "duration": 0.023899,
     "end_time": "2022-05-12T19:42:51.949315",
     "exception": false,
     "start_time": "2022-05-12T19:42:51.925416",
     "status": "completed"
    },
    "tags": [
     "remove_input"
    ]
   },
   "outputs": [
    {
     "data": {
      "text/markdown": [
       "**Bus routes in service: 3**<br>**Parallel routes** to State Highway Network (SHN): **3 routes (100.0%)**<br>**Competitive routes** against car travel (within 2x car travel time): **1 routes (33.3%)**<br>**Viable competitive routes** against car travel (within 2x car travel time and within 20, 30, or 40 min cut-off): **1 routes (33.3%)**"
      ],
      "text/plain": [
       "<IPython.core.display.Markdown object>"
      ]
     },
     "metadata": {},
     "output_type": "display_data"
    }
   ],
   "source": [
    "display(\n",
    "    Markdown(\n",
    "        f\"**Bus routes in service: {stats['num_routes']}**\"\n",
    "        \"<br>**Parallel routes** to State Highway Network (SHN): \"\n",
    "        f\"**{stats['parallel_routes']} routes ({pct_parallel}%)**\"\n",
    "        \"<br>**Competitive routes** against car travel (within 2x car travel time): \"\n",
    "        f\"**{stats['competitive_routes']} routes ({pct_competitive}%)**\"\n",
    "        \"<br>**Viable competitive routes** against car travel \"\n",
    "        \"(within 2x car travel time and within 20, 30, or 40 min cut-off): \"\n",
    "        f\"**{stats['viable_competitive_routes']} routes ({pct_viable}%)**\"\n",
    "    )\n",
    ")"
   ]
  },
  {
   "cell_type": "code",
   "execution_count": 10,
   "id": "f9d6ab58-f0ee-460c-b6de-657490e1f386",
   "metadata": {
    "execution": {
     "iopub.execute_input": "2022-05-12T19:42:51.977972Z",
     "iopub.status.busy": "2022-05-12T19:42:51.977690Z",
     "iopub.status.idle": "2022-05-12T19:42:51.988539Z",
     "shell.execute_reply": "2022-05-12T19:42:51.983840Z"
    },
    "jupyter": {
     "source_hidden": true
    },
    "papermill": {
     "duration": 0.02789,
     "end_time": "2022-05-12T19:42:51.990328",
     "exception": false,
     "start_time": "2022-05-12T19:42:51.962438",
     "status": "completed"
    },
    "tags": [
     "remove_input"
    ]
   },
   "outputs": [],
   "source": [
    "def set_yaxis_range(df, y_col):\n",
    "    Y_MIN = df[y_col].min()\n",
    "    Y_MAX = df[y_col].max()\n",
    "    \n",
    "    return Y_MIN, Y_MAX\n",
    "\n",
    "# Rather than set it according to the operator, which can vary,\n",
    "# just use set thresholds for each group\n",
    "def top15_routes(df, route_group):\n",
    "    # grab top 15 routes where majority of trips are below that cut-off \n",
    "    # but show 15 max, otherwise, show less, since these won't be as interesting to operators\n",
    "    df2 = (df[(df.route_group==route_group) &\n",
    "              (df.pct_below_cutoff >= PCT_TRIPS_BELOW_CUTOFF)]\n",
    "           .sort_values([\"calitp_itp_id\", \"below_cutoff\", \n",
    "                         \"pct_below_cutoff\", \"route_id\"],\n",
    "                        ascending = [True, False, False, True]\n",
    "                       )\n",
    "           .drop_duplicates(subset=[\"calitp_itp_id\", \"route_id\"])\n",
    "          ).head(15)\n",
    "    \n",
    "    return list(df2.route_id)"
   ]
  },
  {
   "cell_type": "code",
   "execution_count": 11,
   "id": "cf36d559-3349-4144-8086-8ac9ce937a5a",
   "metadata": {
    "execution": {
     "iopub.execute_input": "2022-05-12T19:42:52.020671Z",
     "iopub.status.busy": "2022-05-12T19:42:52.019829Z",
     "iopub.status.idle": "2022-05-12T19:42:52.025689Z",
     "shell.execute_reply": "2022-05-12T19:42:52.025098Z"
    },
    "jupyter": {
     "source_hidden": true
    },
    "papermill": {
     "duration": 0.023197,
     "end_time": "2022-05-12T19:42:52.027412",
     "exception": false,
     "start_time": "2022-05-12T19:42:52.004215",
     "status": "completed"
    },
    "tags": [
     "remove_input"
    ]
   },
   "outputs": [],
   "source": [
    "def caption_with_cutoff(cutoff):\n",
    "    sentence = (\n",
    "        f\"<br>These are routes that have **{int(PCT_TRIPS_BELOW_CUTOFF*100)}% \"\n",
    "        \"of their trips take no more than an \"\n",
    "        f\"additional {cutoff} min** compared to a car \"\n",
    "        \"(up to 15 routes) are shown.\"\n",
    "        \"<br>Within each route group, routes are sorted in descending order \"\n",
    "        \"by % competitive trips and # trips below the additional time cut-off.\"\n",
    "    )\n",
    "    return sentence\n",
    "\n",
    "CAPTIONS_DICT = {\n",
    "    \"short\": caption_with_cutoff(diff_cutoffs['short']),\n",
    "    \"medium\": caption_with_cutoff(diff_cutoffs['medium']),\n",
    "    \"long\": caption_with_cutoff(diff_cutoffs['long']),\n",
    "}"
   ]
  },
  {
   "cell_type": "code",
   "execution_count": 12,
   "id": "e4306d58-6944-47e9-afef-5d5b524c751f",
   "metadata": {
    "execution": {
     "iopub.execute_input": "2022-05-12T19:42:52.057593Z",
     "iopub.status.busy": "2022-05-12T19:42:52.056781Z",
     "iopub.status.idle": "2022-05-12T19:42:52.063655Z",
     "shell.execute_reply": "2022-05-12T19:42:52.062876Z"
    },
    "jupyter": {
     "source_hidden": true
    },
    "papermill": {
     "duration": 0.024517,
     "end_time": "2022-05-12T19:42:52.065408",
     "exception": false,
     "start_time": "2022-05-12T19:42:52.040891",
     "status": "completed"
    },
    "tags": [
     "remove_input"
    ]
   },
   "outputs": [],
   "source": [
    "def setup_charts(df, PCT_COMPETITIVE_THRESHOLD, route_group):\n",
    "    # Set up df for charting (cut-off at some threshold to show most competitive routes)\n",
    "    plot_me = (df[df.pct_trips_competitive > PCT_COMPETITIVE_THRESHOLD]\n",
    "           .drop(columns = \"geometry\")\n",
    "    )\n",
    "    \n",
    "    # Set y-ranges to be the same across route_groups, \n",
    "    # otherwise charts fluctuate too much, even within operator\n",
    "    y_col1 = \"bus_multiplier\"\n",
    "    Y_MIN1, Y_MAX1 = set_yaxis_range(plot_me, y_col1)\n",
    "\n",
    "    y_col2 = \"bus_difference\"\n",
    "    Y_MIN2, Y_MAX2 = set_yaxis_range(plot_me, y_col2)\n",
    "    \n",
    "    # Grab the routes to plot\n",
    "    subset_routes = top15_routes(plot_me, route_group)\n",
    "        \n",
    "    # Display charts\n",
    "    multiplier_chart = parallel_corridors_utils.make_stripplot(\n",
    "        plot_me[plot_me.route_id.isin(subset_routes)], \n",
    "        y_col1, Y_MIN = Y_MIN1, Y_MAX = Y_MAX1\n",
    "    )\n",
    "    \n",
    "    difference_chart = parallel_corridors_utils.make_stripplot(\n",
    "        plot_me[plot_me.route_id.isin(subset_routes)], \n",
    "        y_col2, Y_MIN = Y_MIN2, Y_MAX = Y_MAX2\n",
    "    )\n",
    "    \n",
    "    return subset_routes, multiplier_chart, difference_chart            "
   ]
  },
  {
   "cell_type": "code",
   "execution_count": 13,
   "id": "33a710e8-504c-4942-aa75-ff69f216956e",
   "metadata": {
    "execution": {
     "iopub.execute_input": "2022-05-12T19:42:52.102696Z",
     "iopub.status.busy": "2022-05-12T19:42:52.102144Z",
     "iopub.status.idle": "2022-05-12T19:42:52.107326Z",
     "shell.execute_reply": "2022-05-12T19:42:52.106791Z"
    },
    "jupyter": {
     "source_hidden": true
    },
    "papermill": {
     "duration": 0.030452,
     "end_time": "2022-05-12T19:42:52.109309",
     "exception": false,
     "start_time": "2022-05-12T19:42:52.078857",
     "status": "completed"
    },
    "tags": [
     "remove_input"
    ]
   },
   "outputs": [],
   "source": [
    "def display_charts_for_route_group(df, route_group):    \n",
    "    subset_routes, mult, diff  = setup_charts(df, PCT_COMPETITIVE_THRESHOLD, route_group)\n",
    "\n",
    "    if len(subset_routes) > 0:\n",
    "        display(Markdown(f\"{CAPTIONS_DICT[route_group]}\"))\n",
    "\n",
    "        display(mult)\n",
    "        display(diff)\n",
    "        \n",
    "        # Display route stats for just plotted routes\n",
    "        style_route_stats(route_stats, subset_routes)"
   ]
  },
  {
   "cell_type": "markdown",
   "id": "525f9b38-072b-46d1-96a8-1aa4b038357c",
   "metadata": {
    "papermill": {
     "duration": 0.014215,
     "end_time": "2022-05-12T19:42:52.137364",
     "exception": false,
     "start_time": "2022-05-12T19:42:52.123149",
     "status": "completed"
    },
    "tags": []
   },
   "source": [
    "## Viable Competitive Routes\n",
    "### Short Routes (< 1 hr)"
   ]
  },
  {
   "cell_type": "code",
   "execution_count": 14,
   "id": "57f7084c-2cf7-45c6-ba08-1609e0bd6ca5",
   "metadata": {
    "execution": {
     "iopub.execute_input": "2022-05-12T19:42:52.167311Z",
     "iopub.status.busy": "2022-05-12T19:42:52.166858Z",
     "iopub.status.idle": "2022-05-12T19:42:52.461185Z",
     "shell.execute_reply": "2022-05-12T19:42:52.460364Z"
    },
    "jupyter": {
     "source_hidden": true
    },
    "papermill": {
     "duration": 0.311836,
     "end_time": "2022-05-12T19:42:52.463384",
     "exception": false,
     "start_time": "2022-05-12T19:42:52.151548",
     "status": "completed"
    },
    "tags": [
     "remove_input"
    ]
   },
   "outputs": [
    {
     "data": {
      "text/markdown": [
       "<br>These are routes that have **100% of their trips take no more than an additional 20 min** compared to a car (up to 15 routes) are shown.<br>Within each route group, routes are sorted in descending order by % competitive trips and # trips below the additional time cut-off."
      ],
      "text/plain": [
       "<IPython.core.display.Markdown object>"
      ]
     },
     "metadata": {},
     "output_type": "display_data"
    },
    {
     "data": {
      "text/html": [
       "\n",
       "<div id=\"altair-viz-15b686a961ef41aeb913aa214741581f\"></div>\n",
       "<script type=\"text/javascript\">\n",
       "  var VEGA_DEBUG = (typeof VEGA_DEBUG == \"undefined\") ? {} : VEGA_DEBUG;\n",
       "  (function(spec, embedOpt){\n",
       "    let outputDiv = document.currentScript.previousElementSibling;\n",
       "    if (outputDiv.id !== \"altair-viz-15b686a961ef41aeb913aa214741581f\") {\n",
       "      outputDiv = document.getElementById(\"altair-viz-15b686a961ef41aeb913aa214741581f\");\n",
       "    }\n",
       "    const paths = {\n",
       "      \"vega\": \"https://cdn.jsdelivr.net/npm//vega@5?noext\",\n",
       "      \"vega-lib\": \"https://cdn.jsdelivr.net/npm//vega-lib?noext\",\n",
       "      \"vega-lite\": \"https://cdn.jsdelivr.net/npm//vega-lite@4.17.0?noext\",\n",
       "      \"vega-embed\": \"https://cdn.jsdelivr.net/npm//vega-embed@6?noext\",\n",
       "    };\n",
       "\n",
       "    function maybeLoadScript(lib, version) {\n",
       "      var key = `${lib.replace(\"-\", \"\")}_version`;\n",
       "      return (VEGA_DEBUG[key] == version) ?\n",
       "        Promise.resolve(paths[lib]) :\n",
       "        new Promise(function(resolve, reject) {\n",
       "          var s = document.createElement('script');\n",
       "          document.getElementsByTagName(\"head\")[0].appendChild(s);\n",
       "          s.async = true;\n",
       "          s.onload = () => {\n",
       "            VEGA_DEBUG[key] = version;\n",
       "            return resolve(paths[lib]);\n",
       "          };\n",
       "          s.onerror = () => reject(`Error loading script: ${paths[lib]}`);\n",
       "          s.src = paths[lib];\n",
       "        });\n",
       "    }\n",
       "\n",
       "    function showError(err) {\n",
       "      outputDiv.innerHTML = `<div class=\"error\" style=\"color:red;\">${err}</div>`;\n",
       "      throw err;\n",
       "    }\n",
       "\n",
       "    function displayChart(vegaEmbed) {\n",
       "      vegaEmbed(outputDiv, spec, embedOpt)\n",
       "        .catch(err => showError(`Javascript Error: ${err.message}<br>This usually means there's a typo in your chart specification. See the javascript console for the full traceback.`));\n",
       "    }\n",
       "\n",
       "    if(typeof define === \"function\" && define.amd) {\n",
       "      requirejs.config({paths});\n",
       "      require([\"vega-embed\"], displayChart, err => showError(`Error loading script: ${err.message}`));\n",
       "    } else {\n",
       "      maybeLoadScript(\"vega\", \"5\")\n",
       "        .then(() => maybeLoadScript(\"vega-lite\", \"4.17.0\"))\n",
       "        .then(() => maybeLoadScript(\"vega-embed\", \"6\"))\n",
       "        .catch(showError)\n",
       "        .then(() => displayChart(vegaEmbed));\n",
       "    }\n",
       "  })({\"config\": {\"view\": {\"continuousWidth\": 400, \"continuousHeight\": 300, \"stroke\": null}, \"facet\": {\"spacing\": 0}}, \"data\": {\"name\": \"data-8538aaf50a493d86dbf8ff572cd30c95\"}, \"facet\": {\"column\": {\"field\": \"route_id\", \"sort\": [\"15206\"], \"title\": \"Route ID\", \"type\": \"nominal\"}}, \"spec\": {\"layer\": [{\"mark\": \"rule\", \"encoding\": {\"color\": {\"value\": \"black\"}, \"y\": {\"field\": \"cutoff\", \"type\": \"quantitative\"}}, \"selection\": {\"selector001\": {\"type\": \"interval\", \"bind\": \"scales\", \"encodings\": [\"x\", \"y\"]}}}, {\"mark\": {\"type\": \"point\", \"opacity\": 0.65, \"size\": 12, \"strokeWidth\": 1.1}, \"encoding\": {\"color\": {\"field\": \"time_of_day\", \"scale\": {\"range\": [\"#136C97\", \"#E16B26\", \"#F6BF16\", \"#00896B\", \"#7790A3\", \"#5B559C\"]}, \"sort\": [\"AM Peak\", \"Midday\", \"PM Peak\", \"Owl Service\"], \"title\": \"Time of Day\", \"type\": \"nominal\"}, \"tooltip\": [{\"field\": \"route_id\", \"type\": \"nominal\"}, {\"field\": \"route_name\", \"type\": \"nominal\"}, {\"field\": \"trip_id\", \"type\": \"nominal\"}, {\"field\": \"service_hours\", \"type\": \"quantitative\"}, {\"field\": \"car_duration_hours\", \"type\": \"quantitative\"}, {\"field\": \"bus_multiplier\", \"type\": \"quantitative\"}, {\"field\": \"bus_difference\", \"type\": \"quantitative\"}, {\"field\": \"num_trips\", \"type\": \"quantitative\"}, {\"field\": \"num_competitive\", \"type\": \"quantitative\"}, {\"field\": \"pct_trips_competitive\", \"type\": \"quantitative\"}, {\"field\": \"pct_below_cutoff\", \"type\": \"quantitative\"}, {\"field\": \"p25\", \"type\": \"quantitative\"}, {\"field\": \"p50\", \"type\": \"quantitative\"}, {\"field\": \"p75\", \"type\": \"quantitative\"}], \"x\": {\"axis\": {\"grid\": false, \"labels\": false, \"ticks\": true, \"values\": [0]}, \"field\": \"jitter\", \"scale\": {}, \"title\": null, \"type\": \"quantitative\"}, \"y\": {\"field\": \"bus_multiplier\", \"scale\": {\"domain\": [0, 3.0]}, \"title\": \"Ratio of Bus to Car Travel Time\", \"type\": \"quantitative\"}}, \"transform\": [{\"calculate\": \"sqrt(-2*log(random()))*cos(2*PI*random())\", \"as\": \"jitter\"}], \"width\": 50}, {\"layer\": [{\"mark\": {\"type\": \"point\", \"opacity\": 0.6, \"size\": 20, \"strokeWidth\": 1.3}, \"encoding\": {\"color\": {\"value\": \"#323434\"}, \"y\": {\"field\": \"bus_multiplier\", \"type\": \"quantitative\"}}, \"transform\": [{\"filter\": \"(datum.p50_trip === 1)\"}]}, {\"mark\": {\"type\": \"text\", \"align\": \"center\", \"baseline\": \"middle\"}, \"encoding\": {\"color\": {\"value\": \"black\"}, \"text\": {\"field\": \"pct_trips_competitive\", \"format\": \".0%\", \"type\": \"quantitative\"}, \"tooltip\": [{\"field\": \"route_id\", \"type\": \"nominal\"}, {\"field\": \"route_name\", \"type\": \"nominal\"}, {\"field\": \"trip_id\", \"type\": \"nominal\"}, {\"field\": \"service_hours\", \"type\": \"quantitative\"}, {\"field\": \"car_duration_hours\", \"type\": \"quantitative\"}, {\"field\": \"bus_multiplier\", \"type\": \"quantitative\"}, {\"field\": \"bus_difference\", \"type\": \"quantitative\"}, {\"field\": \"num_trips\", \"type\": \"quantitative\"}, {\"field\": \"num_competitive\", \"type\": \"quantitative\"}, {\"field\": \"pct_trips_competitive\", \"type\": \"quantitative\"}, {\"field\": \"pct_below_cutoff\", \"type\": \"quantitative\"}, {\"field\": \"p25\", \"type\": \"quantitative\"}, {\"field\": \"p50\", \"type\": \"quantitative\"}, {\"field\": \"p75\", \"type\": \"quantitative\"}], \"x\": {\"value\": 30}, \"y\": {\"value\": 15}}, \"transform\": [{\"calculate\": \"sqrt(-2*log(random()))*cos(2*PI*random())\", \"as\": \"jitter\"}, {\"filter\": \"(datum.fastest_trip === 1)\"}]}]}]}, \"resolve\": {\"scale\": {\"y\": \"shared\"}}, \"title\": \"Ratio of Bus to Car Travel Time\", \"$schema\": \"https://vega.github.io/schema/vega-lite/v4.17.0.json\", \"datasets\": {\"data-8538aaf50a493d86dbf8ff572cd30c95\": [{\"calitp_itp_id\": 308, \"trip_key\": 2261689821660566722, \"trip_id\": \"t_946129_b_24359_tn_0\", \"shape_id\": \"p_898188\", \"route_id\": \"15206\", \"service_hours\": 0.33, \"trip_first_departure_ts\": 69000, \"trip_last_arrival_ts\": 70200, \"departure_hour\": 19, \"time_of_day\": \"PM Peak\", \"p25\": 0.33, \"p50\": 0.41500000000000004, \"p75\": 0.5, \"p50_trip\": 0, \"fastest_trip\": 1, \"car_duration_hours\": 0.3, \"competitive_route\": 1, \"bus_multiplier\": 1.1, \"bus_difference\": 1.8, \"num_trips\": 56, \"num_competitive\": 56, \"pct_trips_competitive\": 1.0, \"bus_difference_spread\": 11.399999999999999, \"route_group\": \"short\", \"max_trip_hrs\": 0.52, \"max_trip_route_group\": 0.52, \"below_cutoff\": 56, \"pct_below_cutoff\": 1.0, \"name\": \"City of Simi Valley\", \"caltrans_district\": \"07 - Los Angeles\", \"drmt_organization_name\": null, \"route_name\": \"30\", \"cutoff2\": 20, \"cutoff\": 2}, {\"calitp_itp_id\": 308, \"trip_key\": 8179130212206563919, \"trip_id\": \"t_946123_b_24359_tn_0\", \"shape_id\": \"p_898188\", \"route_id\": \"15206\", \"service_hours\": 0.33, \"trip_first_departure_ts\": 58200, \"trip_last_arrival_ts\": 59400, \"departure_hour\": 16, \"time_of_day\": \"Midday\", \"p25\": 0.33, \"p50\": 0.41500000000000004, \"p75\": 0.5, \"p50_trip\": 0, \"fastest_trip\": 0, \"car_duration_hours\": 0.3, \"competitive_route\": 1, \"bus_multiplier\": 1.1, \"bus_difference\": 1.8, \"num_trips\": 56, \"num_competitive\": 56, \"pct_trips_competitive\": 1.0, \"bus_difference_spread\": 11.399999999999999, \"route_group\": \"short\", \"max_trip_hrs\": 0.52, \"max_trip_route_group\": 0.52, \"below_cutoff\": 56, \"pct_below_cutoff\": 1.0, \"name\": \"City of Simi Valley\", \"caltrans_district\": \"07 - Los Angeles\", \"drmt_organization_name\": null, \"route_name\": \"30\", \"cutoff2\": 20, \"cutoff\": 2}, {\"calitp_itp_id\": 308, \"trip_key\": -2498285654119123466, \"trip_id\": \"t_946103_b_24359_tn_0\", \"shape_id\": \"p_898188\", \"route_id\": \"15206\", \"service_hours\": 0.33, \"trip_first_departure_ts\": 22200, \"trip_last_arrival_ts\": 23400, \"departure_hour\": 6, \"time_of_day\": \"Owl Service\", \"p25\": 0.33, \"p50\": 0.41500000000000004, \"p75\": 0.5, \"p50_trip\": 0, \"fastest_trip\": 0, \"car_duration_hours\": 0.3, \"competitive_route\": 1, \"bus_multiplier\": 1.1, \"bus_difference\": 1.8, \"num_trips\": 56, \"num_competitive\": 56, \"pct_trips_competitive\": 1.0, \"bus_difference_spread\": 11.399999999999999, \"route_group\": \"short\", \"max_trip_hrs\": 0.52, \"max_trip_route_group\": 0.52, \"below_cutoff\": 56, \"pct_below_cutoff\": 1.0, \"name\": \"City of Simi Valley\", \"caltrans_district\": \"07 - Los Angeles\", \"drmt_organization_name\": null, \"route_name\": \"30\", \"cutoff2\": 20, \"cutoff\": 2}, {\"calitp_itp_id\": 308, \"trip_key\": -8259203156399175823, \"trip_id\": \"t_946119_b_24359_tn_0\", \"shape_id\": \"p_898188\", \"route_id\": \"15206\", \"service_hours\": 0.33, \"trip_first_departure_ts\": 51000, \"trip_last_arrival_ts\": 52200, \"departure_hour\": 14, \"time_of_day\": \"Midday\", \"p25\": 0.33, \"p50\": 0.41500000000000004, \"p75\": 0.5, \"p50_trip\": 0, \"fastest_trip\": 0, \"car_duration_hours\": 0.3, \"competitive_route\": 1, \"bus_multiplier\": 1.1, \"bus_difference\": 1.8, \"num_trips\": 56, \"num_competitive\": 56, \"pct_trips_competitive\": 1.0, \"bus_difference_spread\": 11.399999999999999, \"route_group\": \"short\", \"max_trip_hrs\": 0.52, \"max_trip_route_group\": 0.52, \"below_cutoff\": 56, \"pct_below_cutoff\": 1.0, \"name\": \"City of Simi Valley\", \"caltrans_district\": \"07 - Los Angeles\", \"drmt_organization_name\": null, \"route_name\": \"30\", \"cutoff2\": 20, \"cutoff\": 2}, {\"calitp_itp_id\": 308, \"trip_key\": -5427810824681045318, \"trip_id\": \"t_946125_b_24359_tn_0\", \"shape_id\": \"p_898188\", \"route_id\": \"15206\", \"service_hours\": 0.33, \"trip_first_departure_ts\": 61800, \"trip_last_arrival_ts\": 63000, \"departure_hour\": 17, \"time_of_day\": \"PM Peak\", \"p25\": 0.33, \"p50\": 0.41500000000000004, \"p75\": 0.5, \"p50_trip\": 0, \"fastest_trip\": 0, \"car_duration_hours\": 0.3, \"competitive_route\": 1, \"bus_multiplier\": 1.1, \"bus_difference\": 1.8, \"num_trips\": 56, \"num_competitive\": 56, \"pct_trips_competitive\": 1.0, \"bus_difference_spread\": 11.399999999999999, \"route_group\": \"short\", \"max_trip_hrs\": 0.52, \"max_trip_route_group\": 0.52, \"below_cutoff\": 56, \"pct_below_cutoff\": 1.0, \"name\": \"City of Simi Valley\", \"caltrans_district\": \"07 - Los Angeles\", \"drmt_organization_name\": null, \"route_name\": \"30\", \"cutoff2\": 20, \"cutoff\": 2}, {\"calitp_itp_id\": 308, \"trip_key\": -1433717451632064498, \"trip_id\": \"t_946109_b_24359_tn_0\", \"shape_id\": \"p_898188\", \"route_id\": \"15206\", \"service_hours\": 0.33, \"trip_first_departure_ts\": 33000, \"trip_last_arrival_ts\": 34200, \"departure_hour\": 9, \"time_of_day\": \"AM Peak\", \"p25\": 0.33, \"p50\": 0.41500000000000004, \"p75\": 0.5, \"p50_trip\": 0, \"fastest_trip\": 0, \"car_duration_hours\": 0.3, \"competitive_route\": 1, \"bus_multiplier\": 1.1, \"bus_difference\": 1.8, \"num_trips\": 56, \"num_competitive\": 56, \"pct_trips_competitive\": 1.0, \"bus_difference_spread\": 11.399999999999999, \"route_group\": \"short\", \"max_trip_hrs\": 0.52, \"max_trip_route_group\": 0.52, \"below_cutoff\": 56, \"pct_below_cutoff\": 1.0, \"name\": \"City of Simi Valley\", \"caltrans_district\": \"07 - Los Angeles\", \"drmt_organization_name\": null, \"route_name\": \"30\", \"cutoff2\": 20, \"cutoff\": 2}, {\"calitp_itp_id\": 308, \"trip_key\": -6729915948586873085, \"trip_id\": \"t_946113_b_24359_tn_0\", \"shape_id\": \"p_898188\", \"route_id\": \"15206\", \"service_hours\": 0.33, \"trip_first_departure_ts\": 40200, \"trip_last_arrival_ts\": 41400, \"departure_hour\": 11, \"time_of_day\": \"Midday\", \"p25\": 0.33, \"p50\": 0.41500000000000004, \"p75\": 0.5, \"p50_trip\": 0, \"fastest_trip\": 0, \"car_duration_hours\": 0.3, \"competitive_route\": 1, \"bus_multiplier\": 1.1, \"bus_difference\": 1.8, \"num_trips\": 56, \"num_competitive\": 56, \"pct_trips_competitive\": 1.0, \"bus_difference_spread\": 11.399999999999999, \"route_group\": \"short\", \"max_trip_hrs\": 0.52, \"max_trip_route_group\": 0.52, \"below_cutoff\": 56, \"pct_below_cutoff\": 1.0, \"name\": \"City of Simi Valley\", \"caltrans_district\": \"07 - Los Angeles\", \"drmt_organization_name\": null, \"route_name\": \"30\", \"cutoff2\": 20, \"cutoff\": 2}, {\"calitp_itp_id\": 308, \"trip_key\": 7776908892581446703, \"trip_id\": \"t_946108_b_24359_tn_0\", \"shape_id\": \"p_898188\", \"route_id\": \"15206\", \"service_hours\": 0.33, \"trip_first_departure_ts\": 31200, \"trip_last_arrival_ts\": 32400, \"departure_hour\": 8, \"time_of_day\": \"AM Peak\", \"p25\": 0.33, \"p50\": 0.41500000000000004, \"p75\": 0.5, \"p50_trip\": 0, \"fastest_trip\": 0, \"car_duration_hours\": 0.3, \"competitive_route\": 1, \"bus_multiplier\": 1.1, \"bus_difference\": 1.8, \"num_trips\": 56, \"num_competitive\": 56, \"pct_trips_competitive\": 1.0, \"bus_difference_spread\": 11.399999999999999, \"route_group\": \"short\", \"max_trip_hrs\": 0.52, \"max_trip_route_group\": 0.52, \"below_cutoff\": 56, \"pct_below_cutoff\": 1.0, \"name\": \"City of Simi Valley\", \"caltrans_district\": \"07 - Los Angeles\", \"drmt_organization_name\": null, \"route_name\": \"30\", \"cutoff2\": 20, \"cutoff\": 2}, {\"calitp_itp_id\": 308, \"trip_key\": -5820800580559433667, \"trip_id\": \"t_946124_b_24359_tn_0\", \"shape_id\": \"p_898188\", \"route_id\": \"15206\", \"service_hours\": 0.33, \"trip_first_departure_ts\": 60000, \"trip_last_arrival_ts\": 61200, \"departure_hour\": 16, \"time_of_day\": \"Midday\", \"p25\": 0.33, \"p50\": 0.41500000000000004, \"p75\": 0.5, \"p50_trip\": 0, \"fastest_trip\": 0, \"car_duration_hours\": 0.3, \"competitive_route\": 1, \"bus_multiplier\": 1.1, \"bus_difference\": 1.8, \"num_trips\": 56, \"num_competitive\": 56, \"pct_trips_competitive\": 1.0, \"bus_difference_spread\": 11.399999999999999, \"route_group\": \"short\", \"max_trip_hrs\": 0.52, \"max_trip_route_group\": 0.52, \"below_cutoff\": 56, \"pct_below_cutoff\": 1.0, \"name\": \"City of Simi Valley\", \"caltrans_district\": \"07 - Los Angeles\", \"drmt_organization_name\": null, \"route_name\": \"30\", \"cutoff2\": 20, \"cutoff\": 2}, {\"calitp_itp_id\": 308, \"trip_key\": -8320292640799424591, \"trip_id\": \"t_946105_b_24359_tn_0\", \"shape_id\": \"p_898188\", \"route_id\": \"15206\", \"service_hours\": 0.33, \"trip_first_departure_ts\": 25800, \"trip_last_arrival_ts\": 27000, \"departure_hour\": 7, \"time_of_day\": \"AM Peak\", \"p25\": 0.33, \"p50\": 0.41500000000000004, \"p75\": 0.5, \"p50_trip\": 0, \"fastest_trip\": 0, \"car_duration_hours\": 0.3, \"competitive_route\": 1, \"bus_multiplier\": 1.1, \"bus_difference\": 1.8, \"num_trips\": 56, \"num_competitive\": 56, \"pct_trips_competitive\": 1.0, \"bus_difference_spread\": 11.399999999999999, \"route_group\": \"short\", \"max_trip_hrs\": 0.52, \"max_trip_route_group\": 0.52, \"below_cutoff\": 56, \"pct_below_cutoff\": 1.0, \"name\": \"City of Simi Valley\", \"caltrans_district\": \"07 - Los Angeles\", \"drmt_organization_name\": null, \"route_name\": \"30\", \"cutoff2\": 20, \"cutoff\": 2}, {\"calitp_itp_id\": 308, \"trip_key\": -5635726924837519396, \"trip_id\": \"t_946107_b_24359_tn_0\", \"shape_id\": \"p_898188\", \"route_id\": \"15206\", \"service_hours\": 0.33, \"trip_first_departure_ts\": 29400, \"trip_last_arrival_ts\": 30600, \"departure_hour\": 8, \"time_of_day\": \"AM Peak\", \"p25\": 0.33, \"p50\": 0.41500000000000004, \"p75\": 0.5, \"p50_trip\": 0, \"fastest_trip\": 0, \"car_duration_hours\": 0.3, \"competitive_route\": 1, \"bus_multiplier\": 1.1, \"bus_difference\": 1.8, \"num_trips\": 56, \"num_competitive\": 56, \"pct_trips_competitive\": 1.0, \"bus_difference_spread\": 11.399999999999999, \"route_group\": \"short\", \"max_trip_hrs\": 0.52, \"max_trip_route_group\": 0.52, \"below_cutoff\": 56, \"pct_below_cutoff\": 1.0, \"name\": \"City of Simi Valley\", \"caltrans_district\": \"07 - Los Angeles\", \"drmt_organization_name\": null, \"route_name\": \"30\", \"cutoff2\": 20, \"cutoff\": 2}, {\"calitp_itp_id\": 308, \"trip_key\": 6825484287729484729, \"trip_id\": \"t_946116_b_24359_tn_0\", \"shape_id\": \"p_898188\", \"route_id\": \"15206\", \"service_hours\": 0.33, \"trip_first_departure_ts\": 45600, \"trip_last_arrival_ts\": 46800, \"departure_hour\": 12, \"time_of_day\": \"Midday\", \"p25\": 0.33, \"p50\": 0.41500000000000004, \"p75\": 0.5, \"p50_trip\": 0, \"fastest_trip\": 0, \"car_duration_hours\": 0.3, \"competitive_route\": 1, \"bus_multiplier\": 1.1, \"bus_difference\": 1.8, \"num_trips\": 56, \"num_competitive\": 56, \"pct_trips_competitive\": 1.0, \"bus_difference_spread\": 11.399999999999999, \"route_group\": \"short\", \"max_trip_hrs\": 0.52, \"max_trip_route_group\": 0.52, \"below_cutoff\": 56, \"pct_below_cutoff\": 1.0, \"name\": \"City of Simi Valley\", \"caltrans_district\": \"07 - Los Angeles\", \"drmt_organization_name\": null, \"route_name\": \"30\", \"cutoff2\": 20, \"cutoff\": 2}, {\"calitp_itp_id\": 308, \"trip_key\": 5914148812228893700, \"trip_id\": \"t_946111_b_24359_tn_0\", \"shape_id\": \"p_898188\", \"route_id\": \"15206\", \"service_hours\": 0.33, \"trip_first_departure_ts\": 36600, \"trip_last_arrival_ts\": 37800, \"departure_hour\": 10, \"time_of_day\": \"Midday\", \"p25\": 0.33, \"p50\": 0.41500000000000004, \"p75\": 0.5, \"p50_trip\": 0, \"fastest_trip\": 0, \"car_duration_hours\": 0.3, \"competitive_route\": 1, \"bus_multiplier\": 1.1, \"bus_difference\": 1.8, \"num_trips\": 56, \"num_competitive\": 56, \"pct_trips_competitive\": 1.0, \"bus_difference_spread\": 11.399999999999999, \"route_group\": \"short\", \"max_trip_hrs\": 0.52, \"max_trip_route_group\": 0.52, \"below_cutoff\": 56, \"pct_below_cutoff\": 1.0, \"name\": \"City of Simi Valley\", \"caltrans_district\": \"07 - Los Angeles\", \"drmt_organization_name\": null, \"route_name\": \"30\", \"cutoff2\": 20, \"cutoff\": 2}, {\"calitp_itp_id\": 308, \"trip_key\": -876161771991597509, \"trip_id\": \"t_946115_b_24359_tn_0\", \"shape_id\": \"p_898188\", \"route_id\": \"15206\", \"service_hours\": 0.33, \"trip_first_departure_ts\": 43800, \"trip_last_arrival_ts\": 45000, \"departure_hour\": 12, \"time_of_day\": \"Midday\", \"p25\": 0.33, \"p50\": 0.41500000000000004, \"p75\": 0.5, \"p50_trip\": 0, \"fastest_trip\": 0, \"car_duration_hours\": 0.3, \"competitive_route\": 1, \"bus_multiplier\": 1.1, \"bus_difference\": 1.8, \"num_trips\": 56, \"num_competitive\": 56, \"pct_trips_competitive\": 1.0, \"bus_difference_spread\": 11.399999999999999, \"route_group\": \"short\", \"max_trip_hrs\": 0.52, \"max_trip_route_group\": 0.52, \"below_cutoff\": 56, \"pct_below_cutoff\": 1.0, \"name\": \"City of Simi Valley\", \"caltrans_district\": \"07 - Los Angeles\", \"drmt_organization_name\": null, \"route_name\": \"30\", \"cutoff2\": 20, \"cutoff\": 2}, {\"calitp_itp_id\": 308, \"trip_key\": -7853264398043842300, \"trip_id\": \"t_946126_b_24359_tn_0\", \"shape_id\": \"p_898188\", \"route_id\": \"15206\", \"service_hours\": 0.33, \"trip_first_departure_ts\": 63600, \"trip_last_arrival_ts\": 64800, \"departure_hour\": 17, \"time_of_day\": \"PM Peak\", \"p25\": 0.33, \"p50\": 0.41500000000000004, \"p75\": 0.5, \"p50_trip\": 0, \"fastest_trip\": 0, \"car_duration_hours\": 0.3, \"competitive_route\": 1, \"bus_multiplier\": 1.1, \"bus_difference\": 1.8, \"num_trips\": 56, \"num_competitive\": 56, \"pct_trips_competitive\": 1.0, \"bus_difference_spread\": 11.399999999999999, \"route_group\": \"short\", \"max_trip_hrs\": 0.52, \"max_trip_route_group\": 0.52, \"below_cutoff\": 56, \"pct_below_cutoff\": 1.0, \"name\": \"City of Simi Valley\", \"caltrans_district\": \"07 - Los Angeles\", \"drmt_organization_name\": null, \"route_name\": \"30\", \"cutoff2\": 20, \"cutoff\": 2}, {\"calitp_itp_id\": 308, \"trip_key\": 8911867157148446863, \"trip_id\": \"t_946128_b_24359_tn_0\", \"shape_id\": \"p_898188\", \"route_id\": \"15206\", \"service_hours\": 0.33, \"trip_first_departure_ts\": 67260, \"trip_last_arrival_ts\": 68460, \"departure_hour\": 18, \"time_of_day\": \"PM Peak\", \"p25\": 0.33, \"p50\": 0.41500000000000004, \"p75\": 0.5, \"p50_trip\": 0, \"fastest_trip\": 0, \"car_duration_hours\": 0.3, \"competitive_route\": 1, \"bus_multiplier\": 1.1, \"bus_difference\": 1.8, \"num_trips\": 56, \"num_competitive\": 56, \"pct_trips_competitive\": 1.0, \"bus_difference_spread\": 11.399999999999999, \"route_group\": \"short\", \"max_trip_hrs\": 0.52, \"max_trip_route_group\": 0.52, \"below_cutoff\": 56, \"pct_below_cutoff\": 1.0, \"name\": \"City of Simi Valley\", \"caltrans_district\": \"07 - Los Angeles\", \"drmt_organization_name\": null, \"route_name\": \"30\", \"cutoff2\": 20, \"cutoff\": 2}, {\"calitp_itp_id\": 308, \"trip_key\": -8762992939399743410, \"trip_id\": \"t_946130_b_24359_tn_0\", \"shape_id\": \"p_898188\", \"route_id\": \"15206\", \"service_hours\": 0.33, \"trip_first_departure_ts\": 70800, \"trip_last_arrival_ts\": 72000, \"departure_hour\": 19, \"time_of_day\": \"PM Peak\", \"p25\": 0.33, \"p50\": 0.41500000000000004, \"p75\": 0.5, \"p50_trip\": 0, \"fastest_trip\": 0, \"car_duration_hours\": 0.3, \"competitive_route\": 1, \"bus_multiplier\": 1.1, \"bus_difference\": 1.8, \"num_trips\": 56, \"num_competitive\": 56, \"pct_trips_competitive\": 1.0, \"bus_difference_spread\": 11.399999999999999, \"route_group\": \"short\", \"max_trip_hrs\": 0.52, \"max_trip_route_group\": 0.52, \"below_cutoff\": 56, \"pct_below_cutoff\": 1.0, \"name\": \"City of Simi Valley\", \"caltrans_district\": \"07 - Los Angeles\", \"drmt_organization_name\": null, \"route_name\": \"30\", \"cutoff2\": 20, \"cutoff\": 2}, {\"calitp_itp_id\": 308, \"trip_key\": -4391232210353182445, \"trip_id\": \"t_946106_b_24359_tn_0\", \"shape_id\": \"p_898188\", \"route_id\": \"15206\", \"service_hours\": 0.33, \"trip_first_departure_ts\": 27600, \"trip_last_arrival_ts\": 28800, \"departure_hour\": 7, \"time_of_day\": \"AM Peak\", \"p25\": 0.33, \"p50\": 0.41500000000000004, \"p75\": 0.5, \"p50_trip\": 0, \"fastest_trip\": 0, \"car_duration_hours\": 0.3, \"competitive_route\": 1, \"bus_multiplier\": 1.1, \"bus_difference\": 1.8, \"num_trips\": 56, \"num_competitive\": 56, \"pct_trips_competitive\": 1.0, \"bus_difference_spread\": 11.399999999999999, \"route_group\": \"short\", \"max_trip_hrs\": 0.52, \"max_trip_route_group\": 0.52, \"below_cutoff\": 56, \"pct_below_cutoff\": 1.0, \"name\": \"City of Simi Valley\", \"caltrans_district\": \"07 - Los Angeles\", \"drmt_organization_name\": null, \"route_name\": \"30\", \"cutoff2\": 20, \"cutoff\": 2}, {\"calitp_itp_id\": 308, \"trip_key\": 7093254243388164782, \"trip_id\": \"t_946127_b_24359_tn_0\", \"shape_id\": \"p_898188\", \"route_id\": \"15206\", \"service_hours\": 0.33, \"trip_first_departure_ts\": 65400, \"trip_last_arrival_ts\": 66600, \"departure_hour\": 18, \"time_of_day\": \"PM Peak\", \"p25\": 0.33, \"p50\": 0.41500000000000004, \"p75\": 0.5, \"p50_trip\": 0, \"fastest_trip\": 0, \"car_duration_hours\": 0.3, \"competitive_route\": 1, \"bus_multiplier\": 1.1, \"bus_difference\": 1.8, \"num_trips\": 56, \"num_competitive\": 56, \"pct_trips_competitive\": 1.0, \"bus_difference_spread\": 11.399999999999999, \"route_group\": \"short\", \"max_trip_hrs\": 0.52, \"max_trip_route_group\": 0.52, \"below_cutoff\": 56, \"pct_below_cutoff\": 1.0, \"name\": \"City of Simi Valley\", \"caltrans_district\": \"07 - Los Angeles\", \"drmt_organization_name\": null, \"route_name\": \"30\", \"cutoff2\": 20, \"cutoff\": 2}, {\"calitp_itp_id\": 308, \"trip_key\": -5590865945693394818, \"trip_id\": \"t_946121_b_24359_tn_0\", \"shape_id\": \"p_898188\", \"route_id\": \"15206\", \"service_hours\": 0.33, \"trip_first_departure_ts\": 54600, \"trip_last_arrival_ts\": 55800, \"departure_hour\": 15, \"time_of_day\": \"Midday\", \"p25\": 0.33, \"p50\": 0.41500000000000004, \"p75\": 0.5, \"p50_trip\": 0, \"fastest_trip\": 0, \"car_duration_hours\": 0.3, \"competitive_route\": 1, \"bus_multiplier\": 1.1, \"bus_difference\": 1.8, \"num_trips\": 56, \"num_competitive\": 56, \"pct_trips_competitive\": 1.0, \"bus_difference_spread\": 11.399999999999999, \"route_group\": \"short\", \"max_trip_hrs\": 0.52, \"max_trip_route_group\": 0.52, \"below_cutoff\": 56, \"pct_below_cutoff\": 1.0, \"name\": \"City of Simi Valley\", \"caltrans_district\": \"07 - Los Angeles\", \"drmt_organization_name\": null, \"route_name\": \"30\", \"cutoff2\": 20, \"cutoff\": 2}, {\"calitp_itp_id\": 308, \"trip_key\": -3228277295240571107, \"trip_id\": \"t_946122_b_24359_tn_0\", \"shape_id\": \"p_898188\", \"route_id\": \"15206\", \"service_hours\": 0.33, \"trip_first_departure_ts\": 56400, \"trip_last_arrival_ts\": 57600, \"departure_hour\": 15, \"time_of_day\": \"Midday\", \"p25\": 0.33, \"p50\": 0.41500000000000004, \"p75\": 0.5, \"p50_trip\": 0, \"fastest_trip\": 0, \"car_duration_hours\": 0.3, \"competitive_route\": 1, \"bus_multiplier\": 1.1, \"bus_difference\": 1.8, \"num_trips\": 56, \"num_competitive\": 56, \"pct_trips_competitive\": 1.0, \"bus_difference_spread\": 11.399999999999999, \"route_group\": \"short\", \"max_trip_hrs\": 0.52, \"max_trip_route_group\": 0.52, \"below_cutoff\": 56, \"pct_below_cutoff\": 1.0, \"name\": \"City of Simi Valley\", \"caltrans_district\": \"07 - Los Angeles\", \"drmt_organization_name\": null, \"route_name\": \"30\", \"cutoff2\": 20, \"cutoff\": 2}, {\"calitp_itp_id\": 308, \"trip_key\": 8339464564364172853, \"trip_id\": \"t_946112_b_24359_tn_0\", \"shape_id\": \"p_898188\", \"route_id\": \"15206\", \"service_hours\": 0.33, \"trip_first_departure_ts\": 38400, \"trip_last_arrival_ts\": 39600, \"departure_hour\": 10, \"time_of_day\": \"Midday\", \"p25\": 0.33, \"p50\": 0.41500000000000004, \"p75\": 0.5, \"p50_trip\": 0, \"fastest_trip\": 0, \"car_duration_hours\": 0.3, \"competitive_route\": 1, \"bus_multiplier\": 1.1, \"bus_difference\": 1.8, \"num_trips\": 56, \"num_competitive\": 56, \"pct_trips_competitive\": 1.0, \"bus_difference_spread\": 11.399999999999999, \"route_group\": \"short\", \"max_trip_hrs\": 0.52, \"max_trip_route_group\": 0.52, \"below_cutoff\": 56, \"pct_below_cutoff\": 1.0, \"name\": \"City of Simi Valley\", \"caltrans_district\": \"07 - Los Angeles\", \"drmt_organization_name\": null, \"route_name\": \"30\", \"cutoff2\": 20, \"cutoff\": 2}, {\"calitp_itp_id\": 308, \"trip_key\": 4142883466696691433, \"trip_id\": \"t_946110_b_24359_tn_0\", \"shape_id\": \"p_898188\", \"route_id\": \"15206\", \"service_hours\": 0.33, \"trip_first_departure_ts\": 34800, \"trip_last_arrival_ts\": 36000, \"departure_hour\": 9, \"time_of_day\": \"AM Peak\", \"p25\": 0.33, \"p50\": 0.41500000000000004, \"p75\": 0.5, \"p50_trip\": 0, \"fastest_trip\": 0, \"car_duration_hours\": 0.3, \"competitive_route\": 1, \"bus_multiplier\": 1.1, \"bus_difference\": 1.8, \"num_trips\": 56, \"num_competitive\": 56, \"pct_trips_competitive\": 1.0, \"bus_difference_spread\": 11.399999999999999, \"route_group\": \"short\", \"max_trip_hrs\": 0.52, \"max_trip_route_group\": 0.52, \"below_cutoff\": 56, \"pct_below_cutoff\": 1.0, \"name\": \"City of Simi Valley\", \"caltrans_district\": \"07 - Los Angeles\", \"drmt_organization_name\": null, \"route_name\": \"30\", \"cutoff2\": 20, \"cutoff\": 2}, {\"calitp_itp_id\": 308, \"trip_key\": 2158922621291155621, \"trip_id\": \"t_946117_b_24359_tn_0\", \"shape_id\": \"p_898188\", \"route_id\": \"15206\", \"service_hours\": 0.33, \"trip_first_departure_ts\": 47400, \"trip_last_arrival_ts\": 48600, \"departure_hour\": 13, \"time_of_day\": \"Midday\", \"p25\": 0.33, \"p50\": 0.41500000000000004, \"p75\": 0.5, \"p50_trip\": 0, \"fastest_trip\": 0, \"car_duration_hours\": 0.3, \"competitive_route\": 1, \"bus_multiplier\": 1.1, \"bus_difference\": 1.8, \"num_trips\": 56, \"num_competitive\": 56, \"pct_trips_competitive\": 1.0, \"bus_difference_spread\": 11.399999999999999, \"route_group\": \"short\", \"max_trip_hrs\": 0.52, \"max_trip_route_group\": 0.52, \"below_cutoff\": 56, \"pct_below_cutoff\": 1.0, \"name\": \"City of Simi Valley\", \"caltrans_district\": \"07 - Los Angeles\", \"drmt_organization_name\": null, \"route_name\": \"30\", \"cutoff2\": 20, \"cutoff\": 2}, {\"calitp_itp_id\": 308, \"trip_key\": -6662960956626415706, \"trip_id\": \"t_946104_b_24359_tn_0\", \"shape_id\": \"p_898188\", \"route_id\": \"15206\", \"service_hours\": 0.33, \"trip_first_departure_ts\": 24000, \"trip_last_arrival_ts\": 25200, \"departure_hour\": 6, \"time_of_day\": \"Owl Service\", \"p25\": 0.33, \"p50\": 0.41500000000000004, \"p75\": 0.5, \"p50_trip\": 0, \"fastest_trip\": 0, \"car_duration_hours\": 0.3, \"competitive_route\": 1, \"bus_multiplier\": 1.1, \"bus_difference\": 1.8, \"num_trips\": 56, \"num_competitive\": 56, \"pct_trips_competitive\": 1.0, \"bus_difference_spread\": 11.399999999999999, \"route_group\": \"short\", \"max_trip_hrs\": 0.52, \"max_trip_route_group\": 0.52, \"below_cutoff\": 56, \"pct_below_cutoff\": 1.0, \"name\": \"City of Simi Valley\", \"caltrans_district\": \"07 - Los Angeles\", \"drmt_organization_name\": null, \"route_name\": \"30\", \"cutoff2\": 20, \"cutoff\": 2}, {\"calitp_itp_id\": 308, \"trip_key\": 3366481284366637267, \"trip_id\": \"t_946120_b_24359_tn_0\", \"shape_id\": \"p_898188\", \"route_id\": \"15206\", \"service_hours\": 0.33, \"trip_first_departure_ts\": 52800, \"trip_last_arrival_ts\": 54000, \"departure_hour\": 14, \"time_of_day\": \"Midday\", \"p25\": 0.33, \"p50\": 0.41500000000000004, \"p75\": 0.5, \"p50_trip\": 0, \"fastest_trip\": 0, \"car_duration_hours\": 0.3, \"competitive_route\": 1, \"bus_multiplier\": 1.1, \"bus_difference\": 1.8, \"num_trips\": 56, \"num_competitive\": 56, \"pct_trips_competitive\": 1.0, \"bus_difference_spread\": 11.399999999999999, \"route_group\": \"short\", \"max_trip_hrs\": 0.52, \"max_trip_route_group\": 0.52, \"below_cutoff\": 56, \"pct_below_cutoff\": 1.0, \"name\": \"City of Simi Valley\", \"caltrans_district\": \"07 - Los Angeles\", \"drmt_organization_name\": null, \"route_name\": \"30\", \"cutoff2\": 20, \"cutoff\": 2}, {\"calitp_itp_id\": 308, \"trip_key\": -3828744296987613966, \"trip_id\": \"t_946114_b_24359_tn_0\", \"shape_id\": \"p_898188\", \"route_id\": \"15206\", \"service_hours\": 0.33, \"trip_first_departure_ts\": 42000, \"trip_last_arrival_ts\": 43200, \"departure_hour\": 11, \"time_of_day\": \"Midday\", \"p25\": 0.33, \"p50\": 0.41500000000000004, \"p75\": 0.5, \"p50_trip\": 0, \"fastest_trip\": 0, \"car_duration_hours\": 0.3, \"competitive_route\": 1, \"bus_multiplier\": 1.1, \"bus_difference\": 1.8, \"num_trips\": 56, \"num_competitive\": 56, \"pct_trips_competitive\": 1.0, \"bus_difference_spread\": 11.399999999999999, \"route_group\": \"short\", \"max_trip_hrs\": 0.52, \"max_trip_route_group\": 0.52, \"below_cutoff\": 56, \"pct_below_cutoff\": 1.0, \"name\": \"City of Simi Valley\", \"caltrans_district\": \"07 - Los Angeles\", \"drmt_organization_name\": null, \"route_name\": \"30\", \"cutoff2\": 20, \"cutoff\": 2}, {\"calitp_itp_id\": 308, \"trip_key\": -3560747305575803624, \"trip_id\": \"t_946118_b_24359_tn_0\", \"shape_id\": \"p_898188\", \"route_id\": \"15206\", \"service_hours\": 0.33, \"trip_first_departure_ts\": 49200, \"trip_last_arrival_ts\": 50400, \"departure_hour\": 13, \"time_of_day\": \"Midday\", \"p25\": 0.33, \"p50\": 0.41500000000000004, \"p75\": 0.5, \"p50_trip\": 0, \"fastest_trip\": 0, \"car_duration_hours\": 0.3, \"competitive_route\": 1, \"bus_multiplier\": 1.1, \"bus_difference\": 1.8, \"num_trips\": 56, \"num_competitive\": 56, \"pct_trips_competitive\": 1.0, \"bus_difference_spread\": 11.399999999999999, \"route_group\": \"short\", \"max_trip_hrs\": 0.52, \"max_trip_route_group\": 0.52, \"below_cutoff\": 56, \"pct_below_cutoff\": 1.0, \"name\": \"City of Simi Valley\", \"caltrans_district\": \"07 - Los Angeles\", \"drmt_organization_name\": null, \"route_name\": \"30\", \"cutoff2\": 20, \"cutoff\": 2}, {\"calitp_itp_id\": 308, \"trip_key\": -8167083170040521081, \"trip_id\": \"t_943125_b_24359_tn_0\", \"shape_id\": \"p_898187\", \"route_id\": \"15206\", \"service_hours\": 0.5, \"trip_first_departure_ts\": 54000, \"trip_last_arrival_ts\": 55800, \"departure_hour\": 15, \"time_of_day\": \"Midday\", \"p25\": 0.33, \"p50\": 0.41500000000000004, \"p75\": 0.5, \"p50_trip\": 1, \"fastest_trip\": 0, \"car_duration_hours\": 0.3, \"competitive_route\": 1, \"bus_multiplier\": 1.67, \"bus_difference\": 12.0, \"num_trips\": 56, \"num_competitive\": 56, \"pct_trips_competitive\": 1.0, \"bus_difference_spread\": 11.399999999999999, \"route_group\": \"short\", \"max_trip_hrs\": 0.52, \"max_trip_route_group\": 0.52, \"below_cutoff\": 56, \"pct_below_cutoff\": 1.0, \"name\": \"City of Simi Valley\", \"caltrans_district\": \"07 - Los Angeles\", \"drmt_organization_name\": null, \"route_name\": \"30\", \"cutoff2\": 20, \"cutoff\": 2}, {\"calitp_itp_id\": 308, \"trip_key\": -4279807971257814144, \"trip_id\": \"t_943130_b_24359_tn_0\", \"shape_id\": \"p_898187\", \"route_id\": \"15206\", \"service_hours\": 0.5, \"trip_first_departure_ts\": 63000, \"trip_last_arrival_ts\": 64800, \"departure_hour\": 17, \"time_of_day\": \"PM Peak\", \"p25\": 0.33, \"p50\": 0.41500000000000004, \"p75\": 0.5, \"p50_trip\": 1, \"fastest_trip\": 0, \"car_duration_hours\": 0.3, \"competitive_route\": 1, \"bus_multiplier\": 1.67, \"bus_difference\": 12.0, \"num_trips\": 56, \"num_competitive\": 56, \"pct_trips_competitive\": 1.0, \"bus_difference_spread\": 11.399999999999999, \"route_group\": \"short\", \"max_trip_hrs\": 0.52, \"max_trip_route_group\": 0.52, \"below_cutoff\": 56, \"pct_below_cutoff\": 1.0, \"name\": \"City of Simi Valley\", \"caltrans_district\": \"07 - Los Angeles\", \"drmt_organization_name\": null, \"route_name\": \"30\", \"cutoff2\": 20, \"cutoff\": 2}, {\"calitp_itp_id\": 308, \"trip_key\": -2554570937767145092, \"trip_id\": \"t_943112_b_24359_tn_0\", \"shape_id\": \"p_898187\", \"route_id\": \"15206\", \"service_hours\": 0.5, \"trip_first_departure_ts\": 30600, \"trip_last_arrival_ts\": 32400, \"departure_hour\": 8, \"time_of_day\": \"AM Peak\", \"p25\": 0.33, \"p50\": 0.41500000000000004, \"p75\": 0.5, \"p50_trip\": 1, \"fastest_trip\": 0, \"car_duration_hours\": 0.3, \"competitive_route\": 1, \"bus_multiplier\": 1.67, \"bus_difference\": 12.0, \"num_trips\": 56, \"num_competitive\": 56, \"pct_trips_competitive\": 1.0, \"bus_difference_spread\": 11.399999999999999, \"route_group\": \"short\", \"max_trip_hrs\": 0.52, \"max_trip_route_group\": 0.52, \"below_cutoff\": 56, \"pct_below_cutoff\": 1.0, \"name\": \"City of Simi Valley\", \"caltrans_district\": \"07 - Los Angeles\", \"drmt_organization_name\": null, \"route_name\": \"30\", \"cutoff2\": 20, \"cutoff\": 2}, {\"calitp_itp_id\": 308, \"trip_key\": 8294143917432518976, \"trip_id\": \"t_943119_b_24359_tn_0\", \"shape_id\": \"p_898187\", \"route_id\": \"15206\", \"service_hours\": 0.5, \"trip_first_departure_ts\": 43200, \"trip_last_arrival_ts\": 45000, \"departure_hour\": 12, \"time_of_day\": \"Midday\", \"p25\": 0.33, \"p50\": 0.41500000000000004, \"p75\": 0.5, \"p50_trip\": 1, \"fastest_trip\": 0, \"car_duration_hours\": 0.3, \"competitive_route\": 1, \"bus_multiplier\": 1.67, \"bus_difference\": 12.0, \"num_trips\": 56, \"num_competitive\": 56, \"pct_trips_competitive\": 1.0, \"bus_difference_spread\": 11.399999999999999, \"route_group\": \"short\", \"max_trip_hrs\": 0.52, \"max_trip_route_group\": 0.52, \"below_cutoff\": 56, \"pct_below_cutoff\": 1.0, \"name\": \"City of Simi Valley\", \"caltrans_district\": \"07 - Los Angeles\", \"drmt_organization_name\": null, \"route_name\": \"30\", \"cutoff2\": 20, \"cutoff\": 2}, {\"calitp_itp_id\": 308, \"trip_key\": 7653100744196602185, \"trip_id\": \"t_943128_b_24359_tn_0\", \"shape_id\": \"p_898187\", \"route_id\": \"15206\", \"service_hours\": 0.5, \"trip_first_departure_ts\": 59400, \"trip_last_arrival_ts\": 61200, \"departure_hour\": 16, \"time_of_day\": \"Midday\", \"p25\": 0.33, \"p50\": 0.41500000000000004, \"p75\": 0.5, \"p50_trip\": 1, \"fastest_trip\": 0, \"car_duration_hours\": 0.3, \"competitive_route\": 1, \"bus_multiplier\": 1.67, \"bus_difference\": 12.0, \"num_trips\": 56, \"num_competitive\": 56, \"pct_trips_competitive\": 1.0, \"bus_difference_spread\": 11.399999999999999, \"route_group\": \"short\", \"max_trip_hrs\": 0.52, \"max_trip_route_group\": 0.52, \"below_cutoff\": 56, \"pct_below_cutoff\": 1.0, \"name\": \"City of Simi Valley\", \"caltrans_district\": \"07 - Los Angeles\", \"drmt_organization_name\": null, \"route_name\": \"30\", \"cutoff2\": 20, \"cutoff\": 2}, {\"calitp_itp_id\": 308, \"trip_key\": 7826532935182082108, \"trip_id\": \"t_943114_b_24359_tn_0\", \"shape_id\": \"p_898187\", \"route_id\": \"15206\", \"service_hours\": 0.5, \"trip_first_departure_ts\": 34200, \"trip_last_arrival_ts\": 36000, \"departure_hour\": 9, \"time_of_day\": \"AM Peak\", \"p25\": 0.33, \"p50\": 0.41500000000000004, \"p75\": 0.5, \"p50_trip\": 1, \"fastest_trip\": 0, \"car_duration_hours\": 0.3, \"competitive_route\": 1, \"bus_multiplier\": 1.67, \"bus_difference\": 12.0, \"num_trips\": 56, \"num_competitive\": 56, \"pct_trips_competitive\": 1.0, \"bus_difference_spread\": 11.399999999999999, \"route_group\": \"short\", \"max_trip_hrs\": 0.52, \"max_trip_route_group\": 0.52, \"below_cutoff\": 56, \"pct_below_cutoff\": 1.0, \"name\": \"City of Simi Valley\", \"caltrans_district\": \"07 - Los Angeles\", \"drmt_organization_name\": null, \"route_name\": \"30\", \"cutoff2\": 20, \"cutoff\": 2}, {\"calitp_itp_id\": 308, \"trip_key\": -995582805426313628, \"trip_id\": \"t_943121_b_24359_tn_0\", \"shape_id\": \"p_898187\", \"route_id\": \"15206\", \"service_hours\": 0.5, \"trip_first_departure_ts\": 46800, \"trip_last_arrival_ts\": 48600, \"departure_hour\": 13, \"time_of_day\": \"Midday\", \"p25\": 0.33, \"p50\": 0.41500000000000004, \"p75\": 0.5, \"p50_trip\": 1, \"fastest_trip\": 0, \"car_duration_hours\": 0.3, \"competitive_route\": 1, \"bus_multiplier\": 1.67, \"bus_difference\": 12.0, \"num_trips\": 56, \"num_competitive\": 56, \"pct_trips_competitive\": 1.0, \"bus_difference_spread\": 11.399999999999999, \"route_group\": \"short\", \"max_trip_hrs\": 0.52, \"max_trip_route_group\": 0.52, \"below_cutoff\": 56, \"pct_below_cutoff\": 1.0, \"name\": \"City of Simi Valley\", \"caltrans_district\": \"07 - Los Angeles\", \"drmt_organization_name\": null, \"route_name\": \"30\", \"cutoff2\": 20, \"cutoff\": 2}, {\"calitp_itp_id\": 308, \"trip_key\": 3281690379974936211, \"trip_id\": \"t_943124_b_24359_tn_0\", \"shape_id\": \"p_898187\", \"route_id\": \"15206\", \"service_hours\": 0.5, \"trip_first_departure_ts\": 52200, \"trip_last_arrival_ts\": 54000, \"departure_hour\": 14, \"time_of_day\": \"Midday\", \"p25\": 0.33, \"p50\": 0.41500000000000004, \"p75\": 0.5, \"p50_trip\": 1, \"fastest_trip\": 0, \"car_duration_hours\": 0.3, \"competitive_route\": 1, \"bus_multiplier\": 1.67, \"bus_difference\": 12.0, \"num_trips\": 56, \"num_competitive\": 56, \"pct_trips_competitive\": 1.0, \"bus_difference_spread\": 11.399999999999999, \"route_group\": \"short\", \"max_trip_hrs\": 0.52, \"max_trip_route_group\": 0.52, \"below_cutoff\": 56, \"pct_below_cutoff\": 1.0, \"name\": \"City of Simi Valley\", \"caltrans_district\": \"07 - Los Angeles\", \"drmt_organization_name\": null, \"route_name\": \"30\", \"cutoff2\": 20, \"cutoff\": 2}, {\"calitp_itp_id\": 308, \"trip_key\": 6476298289328237587, \"trip_id\": \"t_943115_b_24359_tn_0\", \"shape_id\": \"p_898187\", \"route_id\": \"15206\", \"service_hours\": 0.5, \"trip_first_departure_ts\": 36000, \"trip_last_arrival_ts\": 37800, \"departure_hour\": 10, \"time_of_day\": \"Midday\", \"p25\": 0.33, \"p50\": 0.41500000000000004, \"p75\": 0.5, \"p50_trip\": 1, \"fastest_trip\": 0, \"car_duration_hours\": 0.3, \"competitive_route\": 1, \"bus_multiplier\": 1.67, \"bus_difference\": 12.0, \"num_trips\": 56, \"num_competitive\": 56, \"pct_trips_competitive\": 1.0, \"bus_difference_spread\": 11.399999999999999, \"route_group\": \"short\", \"max_trip_hrs\": 0.52, \"max_trip_route_group\": 0.52, \"below_cutoff\": 56, \"pct_below_cutoff\": 1.0, \"name\": \"City of Simi Valley\", \"caltrans_district\": \"07 - Los Angeles\", \"drmt_organization_name\": null, \"route_name\": \"30\", \"cutoff2\": 20, \"cutoff\": 2}, {\"calitp_itp_id\": 308, \"trip_key\": 7759242011797943927, \"trip_id\": \"t_943109_b_24359_tn_0\", \"shape_id\": \"p_898187\", \"route_id\": \"15206\", \"service_hours\": 0.5, \"trip_first_departure_ts\": 25200, \"trip_last_arrival_ts\": 27000, \"departure_hour\": 7, \"time_of_day\": \"AM Peak\", \"p25\": 0.33, \"p50\": 0.41500000000000004, \"p75\": 0.5, \"p50_trip\": 1, \"fastest_trip\": 0, \"car_duration_hours\": 0.3, \"competitive_route\": 1, \"bus_multiplier\": 1.67, \"bus_difference\": 12.0, \"num_trips\": 56, \"num_competitive\": 56, \"pct_trips_competitive\": 1.0, \"bus_difference_spread\": 11.399999999999999, \"route_group\": \"short\", \"max_trip_hrs\": 0.52, \"max_trip_route_group\": 0.52, \"below_cutoff\": 56, \"pct_below_cutoff\": 1.0, \"name\": \"City of Simi Valley\", \"caltrans_district\": \"07 - Los Angeles\", \"drmt_organization_name\": null, \"route_name\": \"30\", \"cutoff2\": 20, \"cutoff\": 2}, {\"calitp_itp_id\": 308, \"trip_key\": 5346566435353817924, \"trip_id\": \"t_943120_b_24359_tn_0\", \"shape_id\": \"p_898187\", \"route_id\": \"15206\", \"service_hours\": 0.5, \"trip_first_departure_ts\": 45000, \"trip_last_arrival_ts\": 46800, \"departure_hour\": 12, \"time_of_day\": \"Midday\", \"p25\": 0.33, \"p50\": 0.41500000000000004, \"p75\": 0.5, \"p50_trip\": 1, \"fastest_trip\": 0, \"car_duration_hours\": 0.3, \"competitive_route\": 1, \"bus_multiplier\": 1.67, \"bus_difference\": 12.0, \"num_trips\": 56, \"num_competitive\": 56, \"pct_trips_competitive\": 1.0, \"bus_difference_spread\": 11.399999999999999, \"route_group\": \"short\", \"max_trip_hrs\": 0.52, \"max_trip_route_group\": 0.52, \"below_cutoff\": 56, \"pct_below_cutoff\": 1.0, \"name\": \"City of Simi Valley\", \"caltrans_district\": \"07 - Los Angeles\", \"drmt_organization_name\": null, \"route_name\": \"30\", \"cutoff2\": 20, \"cutoff\": 2}, {\"calitp_itp_id\": 308, \"trip_key\": 26886795067199730, \"trip_id\": \"t_943108_b_24359_tn_0\", \"shape_id\": \"p_898187\", \"route_id\": \"15206\", \"service_hours\": 0.5, \"trip_first_departure_ts\": 23400, \"trip_last_arrival_ts\": 25200, \"departure_hour\": 6, \"time_of_day\": \"Owl Service\", \"p25\": 0.33, \"p50\": 0.41500000000000004, \"p75\": 0.5, \"p50_trip\": 1, \"fastest_trip\": 0, \"car_duration_hours\": 0.3, \"competitive_route\": 1, \"bus_multiplier\": 1.67, \"bus_difference\": 12.0, \"num_trips\": 56, \"num_competitive\": 56, \"pct_trips_competitive\": 1.0, \"bus_difference_spread\": 11.399999999999999, \"route_group\": \"short\", \"max_trip_hrs\": 0.52, \"max_trip_route_group\": 0.52, \"below_cutoff\": 56, \"pct_below_cutoff\": 1.0, \"name\": \"City of Simi Valley\", \"caltrans_district\": \"07 - Los Angeles\", \"drmt_organization_name\": null, \"route_name\": \"30\", \"cutoff2\": 20, \"cutoff\": 2}, {\"calitp_itp_id\": 308, \"trip_key\": 8263220477305444705, \"trip_id\": \"t_943126_b_24359_tn_0\", \"shape_id\": \"p_898187\", \"route_id\": \"15206\", \"service_hours\": 0.5, \"trip_first_departure_ts\": 55800, \"trip_last_arrival_ts\": 57600, \"departure_hour\": 15, \"time_of_day\": \"Midday\", \"p25\": 0.33, \"p50\": 0.41500000000000004, \"p75\": 0.5, \"p50_trip\": 1, \"fastest_trip\": 0, \"car_duration_hours\": 0.3, \"competitive_route\": 1, \"bus_multiplier\": 1.67, \"bus_difference\": 12.0, \"num_trips\": 56, \"num_competitive\": 56, \"pct_trips_competitive\": 1.0, \"bus_difference_spread\": 11.399999999999999, \"route_group\": \"short\", \"max_trip_hrs\": 0.52, \"max_trip_route_group\": 0.52, \"below_cutoff\": 56, \"pct_below_cutoff\": 1.0, \"name\": \"City of Simi Valley\", \"caltrans_district\": \"07 - Los Angeles\", \"drmt_organization_name\": null, \"route_name\": \"30\", \"cutoff2\": 20, \"cutoff\": 2}, {\"calitp_itp_id\": 308, \"trip_key\": -6939419209454966460, \"trip_id\": \"t_943117_b_24359_tn_0\", \"shape_id\": \"p_898187\", \"route_id\": \"15206\", \"service_hours\": 0.5, \"trip_first_departure_ts\": 39600, \"trip_last_arrival_ts\": 41400, \"departure_hour\": 11, \"time_of_day\": \"Midday\", \"p25\": 0.33, \"p50\": 0.41500000000000004, \"p75\": 0.5, \"p50_trip\": 1, \"fastest_trip\": 0, \"car_duration_hours\": 0.3, \"competitive_route\": 1, \"bus_multiplier\": 1.67, \"bus_difference\": 12.0, \"num_trips\": 56, \"num_competitive\": 56, \"pct_trips_competitive\": 1.0, \"bus_difference_spread\": 11.399999999999999, \"route_group\": \"short\", \"max_trip_hrs\": 0.52, \"max_trip_route_group\": 0.52, \"below_cutoff\": 56, \"pct_below_cutoff\": 1.0, \"name\": \"City of Simi Valley\", \"caltrans_district\": \"07 - Los Angeles\", \"drmt_organization_name\": null, \"route_name\": \"30\", \"cutoff2\": 20, \"cutoff\": 2}, {\"calitp_itp_id\": 308, \"trip_key\": 7685243856575547949, \"trip_id\": \"t_943123_b_24359_tn_0\", \"shape_id\": \"p_898187\", \"route_id\": \"15206\", \"service_hours\": 0.5, \"trip_first_departure_ts\": 50400, \"trip_last_arrival_ts\": 52200, \"departure_hour\": 14, \"time_of_day\": \"Midday\", \"p25\": 0.33, \"p50\": 0.41500000000000004, \"p75\": 0.5, \"p50_trip\": 1, \"fastest_trip\": 0, \"car_duration_hours\": 0.3, \"competitive_route\": 1, \"bus_multiplier\": 1.67, \"bus_difference\": 12.0, \"num_trips\": 56, \"num_competitive\": 56, \"pct_trips_competitive\": 1.0, \"bus_difference_spread\": 11.399999999999999, \"route_group\": \"short\", \"max_trip_hrs\": 0.52, \"max_trip_route_group\": 0.52, \"below_cutoff\": 56, \"pct_below_cutoff\": 1.0, \"name\": \"City of Simi Valley\", \"caltrans_district\": \"07 - Los Angeles\", \"drmt_organization_name\": null, \"route_name\": \"30\", \"cutoff2\": 20, \"cutoff\": 2}, {\"calitp_itp_id\": 308, \"trip_key\": -2753794484308387366, \"trip_id\": \"t_943106_b_24359_tn_0\", \"shape_id\": \"p_898187\", \"route_id\": \"15206\", \"service_hours\": 0.5, \"trip_first_departure_ts\": 19800, \"trip_last_arrival_ts\": 21600, \"departure_hour\": 5, \"time_of_day\": \"Owl Service\", \"p25\": 0.33, \"p50\": 0.41500000000000004, \"p75\": 0.5, \"p50_trip\": 1, \"fastest_trip\": 0, \"car_duration_hours\": 0.3, \"competitive_route\": 1, \"bus_multiplier\": 1.67, \"bus_difference\": 12.0, \"num_trips\": 56, \"num_competitive\": 56, \"pct_trips_competitive\": 1.0, \"bus_difference_spread\": 11.399999999999999, \"route_group\": \"short\", \"max_trip_hrs\": 0.52, \"max_trip_route_group\": 0.52, \"below_cutoff\": 56, \"pct_below_cutoff\": 1.0, \"name\": \"City of Simi Valley\", \"caltrans_district\": \"07 - Los Angeles\", \"drmt_organization_name\": null, \"route_name\": \"30\", \"cutoff2\": 20, \"cutoff\": 2}, {\"calitp_itp_id\": 308, \"trip_key\": 1638024500768460867, \"trip_id\": \"t_943113_b_24359_tn_0\", \"shape_id\": \"p_898187\", \"route_id\": \"15206\", \"service_hours\": 0.5, \"trip_first_departure_ts\": 32400, \"trip_last_arrival_ts\": 34200, \"departure_hour\": 9, \"time_of_day\": \"AM Peak\", \"p25\": 0.33, \"p50\": 0.41500000000000004, \"p75\": 0.5, \"p50_trip\": 1, \"fastest_trip\": 0, \"car_duration_hours\": 0.3, \"competitive_route\": 1, \"bus_multiplier\": 1.67, \"bus_difference\": 12.0, \"num_trips\": 56, \"num_competitive\": 56, \"pct_trips_competitive\": 1.0, \"bus_difference_spread\": 11.399999999999999, \"route_group\": \"short\", \"max_trip_hrs\": 0.52, \"max_trip_route_group\": 0.52, \"below_cutoff\": 56, \"pct_below_cutoff\": 1.0, \"name\": \"City of Simi Valley\", \"caltrans_district\": \"07 - Los Angeles\", \"drmt_organization_name\": null, \"route_name\": \"30\", \"cutoff2\": 20, \"cutoff\": 2}, {\"calitp_itp_id\": 308, \"trip_key\": -6708986917806240098, \"trip_id\": \"t_943111_b_24359_tn_0\", \"shape_id\": \"p_898187\", \"route_id\": \"15206\", \"service_hours\": 0.5, \"trip_first_departure_ts\": 28800, \"trip_last_arrival_ts\": 30600, \"departure_hour\": 8, \"time_of_day\": \"AM Peak\", \"p25\": 0.33, \"p50\": 0.41500000000000004, \"p75\": 0.5, \"p50_trip\": 1, \"fastest_trip\": 0, \"car_duration_hours\": 0.3, \"competitive_route\": 1, \"bus_multiplier\": 1.67, \"bus_difference\": 12.0, \"num_trips\": 56, \"num_competitive\": 56, \"pct_trips_competitive\": 1.0, \"bus_difference_spread\": 11.399999999999999, \"route_group\": \"short\", \"max_trip_hrs\": 0.52, \"max_trip_route_group\": 0.52, \"below_cutoff\": 56, \"pct_below_cutoff\": 1.0, \"name\": \"City of Simi Valley\", \"caltrans_district\": \"07 - Los Angeles\", \"drmt_organization_name\": null, \"route_name\": \"30\", \"cutoff2\": 20, \"cutoff\": 2}, {\"calitp_itp_id\": 308, \"trip_key\": -8426351511834028311, \"trip_id\": \"t_943129_b_24359_tn_0\", \"shape_id\": \"p_898187\", \"route_id\": \"15206\", \"service_hours\": 0.5, \"trip_first_departure_ts\": 61200, \"trip_last_arrival_ts\": 63000, \"departure_hour\": 17, \"time_of_day\": \"PM Peak\", \"p25\": 0.33, \"p50\": 0.41500000000000004, \"p75\": 0.5, \"p50_trip\": 1, \"fastest_trip\": 0, \"car_duration_hours\": 0.3, \"competitive_route\": 1, \"bus_multiplier\": 1.67, \"bus_difference\": 12.0, \"num_trips\": 56, \"num_competitive\": 56, \"pct_trips_competitive\": 1.0, \"bus_difference_spread\": 11.399999999999999, \"route_group\": \"short\", \"max_trip_hrs\": 0.52, \"max_trip_route_group\": 0.52, \"below_cutoff\": 56, \"pct_below_cutoff\": 1.0, \"name\": \"City of Simi Valley\", \"caltrans_district\": \"07 - Los Angeles\", \"drmt_organization_name\": null, \"route_name\": \"30\", \"cutoff2\": 20, \"cutoff\": 2}, {\"calitp_itp_id\": 308, \"trip_key\": -8413614114020087387, \"trip_id\": \"t_943107_b_24359_tn_0\", \"shape_id\": \"p_898187\", \"route_id\": \"15206\", \"service_hours\": 0.5, \"trip_first_departure_ts\": 21600, \"trip_last_arrival_ts\": 23400, \"departure_hour\": 6, \"time_of_day\": \"Owl Service\", \"p25\": 0.33, \"p50\": 0.41500000000000004, \"p75\": 0.5, \"p50_trip\": 1, \"fastest_trip\": 0, \"car_duration_hours\": 0.3, \"competitive_route\": 1, \"bus_multiplier\": 1.67, \"bus_difference\": 12.0, \"num_trips\": 56, \"num_competitive\": 56, \"pct_trips_competitive\": 1.0, \"bus_difference_spread\": 11.399999999999999, \"route_group\": \"short\", \"max_trip_hrs\": 0.52, \"max_trip_route_group\": 0.52, \"below_cutoff\": 56, \"pct_below_cutoff\": 1.0, \"name\": \"City of Simi Valley\", \"caltrans_district\": \"07 - Los Angeles\", \"drmt_organization_name\": null, \"route_name\": \"30\", \"cutoff2\": 20, \"cutoff\": 2}, {\"calitp_itp_id\": 308, \"trip_key\": 1535253645783132569, \"trip_id\": \"t_943122_b_24359_tn_0\", \"shape_id\": \"p_898187\", \"route_id\": \"15206\", \"service_hours\": 0.5, \"trip_first_departure_ts\": 48600, \"trip_last_arrival_ts\": 50400, \"departure_hour\": 13, \"time_of_day\": \"Midday\", \"p25\": 0.33, \"p50\": 0.41500000000000004, \"p75\": 0.5, \"p50_trip\": 1, \"fastest_trip\": 0, \"car_duration_hours\": 0.3, \"competitive_route\": 1, \"bus_multiplier\": 1.67, \"bus_difference\": 12.0, \"num_trips\": 56, \"num_competitive\": 56, \"pct_trips_competitive\": 1.0, \"bus_difference_spread\": 11.399999999999999, \"route_group\": \"short\", \"max_trip_hrs\": 0.52, \"max_trip_route_group\": 0.52, \"below_cutoff\": 56, \"pct_below_cutoff\": 1.0, \"name\": \"City of Simi Valley\", \"caltrans_district\": \"07 - Los Angeles\", \"drmt_organization_name\": null, \"route_name\": \"30\", \"cutoff2\": 20, \"cutoff\": 2}, {\"calitp_itp_id\": 308, \"trip_key\": -5427913516834419101, \"trip_id\": \"t_943127_b_24359_tn_0\", \"shape_id\": \"p_898187\", \"route_id\": \"15206\", \"service_hours\": 0.5, \"trip_first_departure_ts\": 57600, \"trip_last_arrival_ts\": 59400, \"departure_hour\": 16, \"time_of_day\": \"Midday\", \"p25\": 0.33, \"p50\": 0.41500000000000004, \"p75\": 0.5, \"p50_trip\": 1, \"fastest_trip\": 0, \"car_duration_hours\": 0.3, \"competitive_route\": 1, \"bus_multiplier\": 1.67, \"bus_difference\": 12.0, \"num_trips\": 56, \"num_competitive\": 56, \"pct_trips_competitive\": 1.0, \"bus_difference_spread\": 11.399999999999999, \"route_group\": \"short\", \"max_trip_hrs\": 0.52, \"max_trip_route_group\": 0.52, \"below_cutoff\": 56, \"pct_below_cutoff\": 1.0, \"name\": \"City of Simi Valley\", \"caltrans_district\": \"07 - Los Angeles\", \"drmt_organization_name\": null, \"route_name\": \"30\", \"cutoff2\": 20, \"cutoff\": 2}, {\"calitp_itp_id\": 308, \"trip_key\": -6584515016194492990, \"trip_id\": \"t_943110_b_24359_tn_0\", \"shape_id\": \"p_898187\", \"route_id\": \"15206\", \"service_hours\": 0.5, \"trip_first_departure_ts\": 27000, \"trip_last_arrival_ts\": 28800, \"departure_hour\": 7, \"time_of_day\": \"AM Peak\", \"p25\": 0.33, \"p50\": 0.41500000000000004, \"p75\": 0.5, \"p50_trip\": 1, \"fastest_trip\": 0, \"car_duration_hours\": 0.3, \"competitive_route\": 1, \"bus_multiplier\": 1.67, \"bus_difference\": 12.0, \"num_trips\": 56, \"num_competitive\": 56, \"pct_trips_competitive\": 1.0, \"bus_difference_spread\": 11.399999999999999, \"route_group\": \"short\", \"max_trip_hrs\": 0.52, \"max_trip_route_group\": 0.52, \"below_cutoff\": 56, \"pct_below_cutoff\": 1.0, \"name\": \"City of Simi Valley\", \"caltrans_district\": \"07 - Los Angeles\", \"drmt_organization_name\": null, \"route_name\": \"30\", \"cutoff2\": 20, \"cutoff\": 2}, {\"calitp_itp_id\": 308, \"trip_key\": -7054588329911308985, \"trip_id\": \"t_943118_b_24359_tn_0\", \"shape_id\": \"p_898187\", \"route_id\": \"15206\", \"service_hours\": 0.5, \"trip_first_departure_ts\": 41400, \"trip_last_arrival_ts\": 43200, \"departure_hour\": 11, \"time_of_day\": \"Midday\", \"p25\": 0.33, \"p50\": 0.41500000000000004, \"p75\": 0.5, \"p50_trip\": 1, \"fastest_trip\": 0, \"car_duration_hours\": 0.3, \"competitive_route\": 1, \"bus_multiplier\": 1.67, \"bus_difference\": 12.0, \"num_trips\": 56, \"num_competitive\": 56, \"pct_trips_competitive\": 1.0, \"bus_difference_spread\": 11.399999999999999, \"route_group\": \"short\", \"max_trip_hrs\": 0.52, \"max_trip_route_group\": 0.52, \"below_cutoff\": 56, \"pct_below_cutoff\": 1.0, \"name\": \"City of Simi Valley\", \"caltrans_district\": \"07 - Los Angeles\", \"drmt_organization_name\": null, \"route_name\": \"30\", \"cutoff2\": 20, \"cutoff\": 2}, {\"calitp_itp_id\": 308, \"trip_key\": -5665756668728020039, \"trip_id\": \"t_943116_b_24359_tn_0\", \"shape_id\": \"p_898187\", \"route_id\": \"15206\", \"service_hours\": 0.5, \"trip_first_departure_ts\": 37800, \"trip_last_arrival_ts\": 39600, \"departure_hour\": 10, \"time_of_day\": \"Midday\", \"p25\": 0.33, \"p50\": 0.41500000000000004, \"p75\": 0.5, \"p50_trip\": 1, \"fastest_trip\": 0, \"car_duration_hours\": 0.3, \"competitive_route\": 1, \"bus_multiplier\": 1.67, \"bus_difference\": 12.0, \"num_trips\": 56, \"num_competitive\": 56, \"pct_trips_competitive\": 1.0, \"bus_difference_spread\": 11.399999999999999, \"route_group\": \"short\", \"max_trip_hrs\": 0.52, \"max_trip_route_group\": 0.52, \"below_cutoff\": 56, \"pct_below_cutoff\": 1.0, \"name\": \"City of Simi Valley\", \"caltrans_district\": \"07 - Los Angeles\", \"drmt_organization_name\": null, \"route_name\": \"30\", \"cutoff2\": 20, \"cutoff\": 2}, {\"calitp_itp_id\": 308, \"trip_key\": 5576393918378021629, \"trip_id\": \"t_943131_b_24359_tn_0\", \"shape_id\": \"p_898187\", \"route_id\": \"15206\", \"service_hours\": 0.52, \"trip_first_departure_ts\": 64800, \"trip_last_arrival_ts\": 66660, \"departure_hour\": 18, \"time_of_day\": \"PM Peak\", \"p25\": 0.33, \"p50\": 0.41500000000000004, \"p75\": 0.5, \"p50_trip\": 0, \"fastest_trip\": 0, \"car_duration_hours\": 0.3, \"competitive_route\": 1, \"bus_multiplier\": 1.73, \"bus_difference\": 13.2, \"num_trips\": 56, \"num_competitive\": 56, \"pct_trips_competitive\": 1.0, \"bus_difference_spread\": 11.399999999999999, \"route_group\": \"short\", \"max_trip_hrs\": 0.52, \"max_trip_route_group\": 0.52, \"below_cutoff\": 56, \"pct_below_cutoff\": 1.0, \"name\": \"City of Simi Valley\", \"caltrans_district\": \"07 - Los Angeles\", \"drmt_organization_name\": null, \"route_name\": \"30\", \"cutoff2\": 20, \"cutoff\": 2}, {\"calitp_itp_id\": 308, \"trip_key\": 4175715694418941445, \"trip_id\": \"t_943132_b_24359_tn_0\", \"shape_id\": \"p_898187\", \"route_id\": \"15206\", \"service_hours\": 0.52, \"trip_first_departure_ts\": 66600, \"trip_last_arrival_ts\": 68460, \"departure_hour\": 18, \"time_of_day\": \"PM Peak\", \"p25\": 0.33, \"p50\": 0.41500000000000004, \"p75\": 0.5, \"p50_trip\": 0, \"fastest_trip\": 0, \"car_duration_hours\": 0.3, \"competitive_route\": 1, \"bus_multiplier\": 1.73, \"bus_difference\": 13.2, \"num_trips\": 56, \"num_competitive\": 56, \"pct_trips_competitive\": 1.0, \"bus_difference_spread\": 11.399999999999999, \"route_group\": \"short\", \"max_trip_hrs\": 0.52, \"max_trip_route_group\": 0.52, \"below_cutoff\": 56, \"pct_below_cutoff\": 1.0, \"name\": \"City of Simi Valley\", \"caltrans_district\": \"07 - Los Angeles\", \"drmt_organization_name\": null, \"route_name\": \"30\", \"cutoff2\": 20, \"cutoff\": 2}, {\"calitp_itp_id\": 308, \"trip_key\": 5919046552257188394, \"trip_id\": \"t_943133_b_24359_tn_0\", \"shape_id\": \"p_898187\", \"route_id\": \"15206\", \"service_hours\": 0.52, \"trip_first_departure_ts\": 68460, \"trip_last_arrival_ts\": 70320, \"departure_hour\": 19, \"time_of_day\": \"PM Peak\", \"p25\": 0.33, \"p50\": 0.41500000000000004, \"p75\": 0.5, \"p50_trip\": 0, \"fastest_trip\": 0, \"car_duration_hours\": 0.3, \"competitive_route\": 1, \"bus_multiplier\": 1.73, \"bus_difference\": 13.2, \"num_trips\": 56, \"num_competitive\": 56, \"pct_trips_competitive\": 1.0, \"bus_difference_spread\": 11.399999999999999, \"route_group\": \"short\", \"max_trip_hrs\": 0.52, \"max_trip_route_group\": 0.52, \"below_cutoff\": 56, \"pct_below_cutoff\": 1.0, \"name\": \"City of Simi Valley\", \"caltrans_district\": \"07 - Los Angeles\", \"drmt_organization_name\": null, \"route_name\": \"30\", \"cutoff2\": 20, \"cutoff\": 2}]}}, {\"mode\": \"vega-lite\"});\n",
       "</script>"
      ],
      "text/plain": [
       "alt.FacetChart(...)"
      ]
     },
     "metadata": {},
     "output_type": "display_data"
    },
    {
     "data": {
      "text/html": [
       "\n",
       "<div id=\"altair-viz-36fc6ae39d354d1881e75e1dec721aac\"></div>\n",
       "<script type=\"text/javascript\">\n",
       "  var VEGA_DEBUG = (typeof VEGA_DEBUG == \"undefined\") ? {} : VEGA_DEBUG;\n",
       "  (function(spec, embedOpt){\n",
       "    let outputDiv = document.currentScript.previousElementSibling;\n",
       "    if (outputDiv.id !== \"altair-viz-36fc6ae39d354d1881e75e1dec721aac\") {\n",
       "      outputDiv = document.getElementById(\"altair-viz-36fc6ae39d354d1881e75e1dec721aac\");\n",
       "    }\n",
       "    const paths = {\n",
       "      \"vega\": \"https://cdn.jsdelivr.net/npm//vega@5?noext\",\n",
       "      \"vega-lib\": \"https://cdn.jsdelivr.net/npm//vega-lib?noext\",\n",
       "      \"vega-lite\": \"https://cdn.jsdelivr.net/npm//vega-lite@4.17.0?noext\",\n",
       "      \"vega-embed\": \"https://cdn.jsdelivr.net/npm//vega-embed@6?noext\",\n",
       "    };\n",
       "\n",
       "    function maybeLoadScript(lib, version) {\n",
       "      var key = `${lib.replace(\"-\", \"\")}_version`;\n",
       "      return (VEGA_DEBUG[key] == version) ?\n",
       "        Promise.resolve(paths[lib]) :\n",
       "        new Promise(function(resolve, reject) {\n",
       "          var s = document.createElement('script');\n",
       "          document.getElementsByTagName(\"head\")[0].appendChild(s);\n",
       "          s.async = true;\n",
       "          s.onload = () => {\n",
       "            VEGA_DEBUG[key] = version;\n",
       "            return resolve(paths[lib]);\n",
       "          };\n",
       "          s.onerror = () => reject(`Error loading script: ${paths[lib]}`);\n",
       "          s.src = paths[lib];\n",
       "        });\n",
       "    }\n",
       "\n",
       "    function showError(err) {\n",
       "      outputDiv.innerHTML = `<div class=\"error\" style=\"color:red;\">${err}</div>`;\n",
       "      throw err;\n",
       "    }\n",
       "\n",
       "    function displayChart(vegaEmbed) {\n",
       "      vegaEmbed(outputDiv, spec, embedOpt)\n",
       "        .catch(err => showError(`Javascript Error: ${err.message}<br>This usually means there's a typo in your chart specification. See the javascript console for the full traceback.`));\n",
       "    }\n",
       "\n",
       "    if(typeof define === \"function\" && define.amd) {\n",
       "      requirejs.config({paths});\n",
       "      require([\"vega-embed\"], displayChart, err => showError(`Error loading script: ${err.message}`));\n",
       "    } else {\n",
       "      maybeLoadScript(\"vega\", \"5\")\n",
       "        .then(() => maybeLoadScript(\"vega-lite\", \"4.17.0\"))\n",
       "        .then(() => maybeLoadScript(\"vega-embed\", \"6\"))\n",
       "        .catch(showError)\n",
       "        .then(() => displayChart(vegaEmbed));\n",
       "    }\n",
       "  })({\"config\": {\"view\": {\"continuousWidth\": 400, \"continuousHeight\": 300, \"stroke\": null}, \"facet\": {\"spacing\": 0}}, \"data\": {\"name\": \"data-f2d5d1d0286886882de948157c135a46\"}, \"facet\": {\"column\": {\"field\": \"route_id\", \"sort\": [\"15206\"], \"title\": \"Route ID\", \"type\": \"nominal\"}}, \"spec\": {\"layer\": [{\"mark\": \"rule\", \"encoding\": {\"color\": {\"value\": \"black\"}, \"y\": {\"field\": \"cutoff\", \"type\": \"quantitative\"}}, \"selection\": {\"selector002\": {\"type\": \"interval\", \"bind\": \"scales\", \"encodings\": [\"x\", \"y\"]}}}, {\"mark\": {\"type\": \"rule\", \"strokeDash\": [3, 3]}, \"encoding\": {\"color\": {\"value\": \"#323434\"}, \"y\": {\"field\": \"cutoff2\", \"type\": \"quantitative\"}}}, {\"mark\": {\"type\": \"point\", \"opacity\": 0.65, \"size\": 12, \"strokeWidth\": 1.1}, \"encoding\": {\"color\": {\"field\": \"time_of_day\", \"scale\": {\"range\": [\"#136C97\", \"#E16B26\", \"#F6BF16\", \"#00896B\", \"#7790A3\", \"#5B559C\"]}, \"sort\": [\"AM Peak\", \"Midday\", \"PM Peak\", \"Owl Service\"], \"title\": \"Time of Day\", \"type\": \"nominal\"}, \"tooltip\": [{\"field\": \"route_id\", \"type\": \"nominal\"}, {\"field\": \"route_name\", \"type\": \"nominal\"}, {\"field\": \"trip_id\", \"type\": \"nominal\"}, {\"field\": \"service_hours\", \"type\": \"quantitative\"}, {\"field\": \"car_duration_hours\", \"type\": \"quantitative\"}, {\"field\": \"bus_multiplier\", \"type\": \"quantitative\"}, {\"field\": \"bus_difference\", \"type\": \"quantitative\"}, {\"field\": \"num_trips\", \"type\": \"quantitative\"}, {\"field\": \"num_competitive\", \"type\": \"quantitative\"}, {\"field\": \"pct_trips_competitive\", \"type\": \"quantitative\"}, {\"field\": \"pct_below_cutoff\", \"type\": \"quantitative\"}, {\"field\": \"p25\", \"type\": \"quantitative\"}, {\"field\": \"p50\", \"type\": \"quantitative\"}, {\"field\": \"p75\", \"type\": \"quantitative\"}], \"x\": {\"axis\": {\"grid\": false, \"labels\": false, \"ticks\": true, \"values\": [0]}, \"field\": \"jitter\", \"scale\": {}, \"title\": null, \"type\": \"quantitative\"}, \"y\": {\"field\": \"bus_difference\", \"scale\": {\"domain\": [-5, 25.0]}, \"title\": \"Difference in Bus to Car Travel Time (min)\", \"type\": \"quantitative\"}}, \"transform\": [{\"calculate\": \"sqrt(-2*log(random()))*cos(2*PI*random())\", \"as\": \"jitter\"}], \"width\": 50}, {\"layer\": [{\"mark\": {\"type\": \"point\", \"opacity\": 0.6, \"size\": 20, \"strokeWidth\": 1.3}, \"encoding\": {\"color\": {\"value\": \"#323434\"}, \"y\": {\"field\": \"bus_difference\", \"type\": \"quantitative\"}}, \"transform\": [{\"filter\": \"(datum.p50_trip === 1)\"}]}, {\"mark\": {\"type\": \"text\", \"align\": \"center\", \"baseline\": \"middle\"}, \"encoding\": {\"color\": {\"value\": \"black\"}, \"text\": {\"field\": \"pct_trips_competitive\", \"format\": \".0%\", \"type\": \"quantitative\"}, \"tooltip\": [{\"field\": \"route_id\", \"type\": \"nominal\"}, {\"field\": \"route_name\", \"type\": \"nominal\"}, {\"field\": \"trip_id\", \"type\": \"nominal\"}, {\"field\": \"service_hours\", \"type\": \"quantitative\"}, {\"field\": \"car_duration_hours\", \"type\": \"quantitative\"}, {\"field\": \"bus_multiplier\", \"type\": \"quantitative\"}, {\"field\": \"bus_difference\", \"type\": \"quantitative\"}, {\"field\": \"num_trips\", \"type\": \"quantitative\"}, {\"field\": \"num_competitive\", \"type\": \"quantitative\"}, {\"field\": \"pct_trips_competitive\", \"type\": \"quantitative\"}, {\"field\": \"pct_below_cutoff\", \"type\": \"quantitative\"}, {\"field\": \"p25\", \"type\": \"quantitative\"}, {\"field\": \"p50\", \"type\": \"quantitative\"}, {\"field\": \"p75\", \"type\": \"quantitative\"}], \"x\": {\"value\": 30}, \"y\": {\"value\": 15}}, \"transform\": [{\"calculate\": \"sqrt(-2*log(random()))*cos(2*PI*random())\", \"as\": \"jitter\"}, {\"filter\": \"(datum.fastest_trip === 1)\"}]}]}]}, \"resolve\": {\"scale\": {\"y\": \"shared\"}}, \"title\": \"Difference in Bus to Car Travel Time (min)\", \"$schema\": \"https://vega.github.io/schema/vega-lite/v4.17.0.json\", \"datasets\": {\"data-f2d5d1d0286886882de948157c135a46\": [{\"calitp_itp_id\": 308, \"trip_key\": 2261689821660566722, \"trip_id\": \"t_946129_b_24359_tn_0\", \"shape_id\": \"p_898188\", \"route_id\": \"15206\", \"service_hours\": 0.33, \"trip_first_departure_ts\": 69000, \"trip_last_arrival_ts\": 70200, \"departure_hour\": 19, \"time_of_day\": \"PM Peak\", \"p25\": 0.33, \"p50\": 0.41500000000000004, \"p75\": 0.5, \"p50_trip\": 0, \"fastest_trip\": 1, \"car_duration_hours\": 0.3, \"competitive_route\": 1, \"bus_multiplier\": 1.1, \"bus_difference\": 1.8, \"num_trips\": 56, \"num_competitive\": 56, \"pct_trips_competitive\": 1.0, \"bus_difference_spread\": 11.399999999999999, \"route_group\": \"short\", \"max_trip_hrs\": 0.52, \"max_trip_route_group\": 0.52, \"below_cutoff\": 56, \"pct_below_cutoff\": 1.0, \"name\": \"City of Simi Valley\", \"caltrans_district\": \"07 - Los Angeles\", \"drmt_organization_name\": null, \"route_name\": \"30\", \"cutoff2\": 20, \"cutoff\": 0}, {\"calitp_itp_id\": 308, \"trip_key\": 8179130212206563919, \"trip_id\": \"t_946123_b_24359_tn_0\", \"shape_id\": \"p_898188\", \"route_id\": \"15206\", \"service_hours\": 0.33, \"trip_first_departure_ts\": 58200, \"trip_last_arrival_ts\": 59400, \"departure_hour\": 16, \"time_of_day\": \"Midday\", \"p25\": 0.33, \"p50\": 0.41500000000000004, \"p75\": 0.5, \"p50_trip\": 0, \"fastest_trip\": 0, \"car_duration_hours\": 0.3, \"competitive_route\": 1, \"bus_multiplier\": 1.1, \"bus_difference\": 1.8, \"num_trips\": 56, \"num_competitive\": 56, \"pct_trips_competitive\": 1.0, \"bus_difference_spread\": 11.399999999999999, \"route_group\": \"short\", \"max_trip_hrs\": 0.52, \"max_trip_route_group\": 0.52, \"below_cutoff\": 56, \"pct_below_cutoff\": 1.0, \"name\": \"City of Simi Valley\", \"caltrans_district\": \"07 - Los Angeles\", \"drmt_organization_name\": null, \"route_name\": \"30\", \"cutoff2\": 20, \"cutoff\": 0}, {\"calitp_itp_id\": 308, \"trip_key\": -2498285654119123466, \"trip_id\": \"t_946103_b_24359_tn_0\", \"shape_id\": \"p_898188\", \"route_id\": \"15206\", \"service_hours\": 0.33, \"trip_first_departure_ts\": 22200, \"trip_last_arrival_ts\": 23400, \"departure_hour\": 6, \"time_of_day\": \"Owl Service\", \"p25\": 0.33, \"p50\": 0.41500000000000004, \"p75\": 0.5, \"p50_trip\": 0, \"fastest_trip\": 0, \"car_duration_hours\": 0.3, \"competitive_route\": 1, \"bus_multiplier\": 1.1, \"bus_difference\": 1.8, \"num_trips\": 56, \"num_competitive\": 56, \"pct_trips_competitive\": 1.0, \"bus_difference_spread\": 11.399999999999999, \"route_group\": \"short\", \"max_trip_hrs\": 0.52, \"max_trip_route_group\": 0.52, \"below_cutoff\": 56, \"pct_below_cutoff\": 1.0, \"name\": \"City of Simi Valley\", \"caltrans_district\": \"07 - Los Angeles\", \"drmt_organization_name\": null, \"route_name\": \"30\", \"cutoff2\": 20, \"cutoff\": 0}, {\"calitp_itp_id\": 308, \"trip_key\": -8259203156399175823, \"trip_id\": \"t_946119_b_24359_tn_0\", \"shape_id\": \"p_898188\", \"route_id\": \"15206\", \"service_hours\": 0.33, \"trip_first_departure_ts\": 51000, \"trip_last_arrival_ts\": 52200, \"departure_hour\": 14, \"time_of_day\": \"Midday\", \"p25\": 0.33, \"p50\": 0.41500000000000004, \"p75\": 0.5, \"p50_trip\": 0, \"fastest_trip\": 0, \"car_duration_hours\": 0.3, \"competitive_route\": 1, \"bus_multiplier\": 1.1, \"bus_difference\": 1.8, \"num_trips\": 56, \"num_competitive\": 56, \"pct_trips_competitive\": 1.0, \"bus_difference_spread\": 11.399999999999999, \"route_group\": \"short\", \"max_trip_hrs\": 0.52, \"max_trip_route_group\": 0.52, \"below_cutoff\": 56, \"pct_below_cutoff\": 1.0, \"name\": \"City of Simi Valley\", \"caltrans_district\": \"07 - Los Angeles\", \"drmt_organization_name\": null, \"route_name\": \"30\", \"cutoff2\": 20, \"cutoff\": 0}, {\"calitp_itp_id\": 308, \"trip_key\": -5427810824681045318, \"trip_id\": \"t_946125_b_24359_tn_0\", \"shape_id\": \"p_898188\", \"route_id\": \"15206\", \"service_hours\": 0.33, \"trip_first_departure_ts\": 61800, \"trip_last_arrival_ts\": 63000, \"departure_hour\": 17, \"time_of_day\": \"PM Peak\", \"p25\": 0.33, \"p50\": 0.41500000000000004, \"p75\": 0.5, \"p50_trip\": 0, \"fastest_trip\": 0, \"car_duration_hours\": 0.3, \"competitive_route\": 1, \"bus_multiplier\": 1.1, \"bus_difference\": 1.8, \"num_trips\": 56, \"num_competitive\": 56, \"pct_trips_competitive\": 1.0, \"bus_difference_spread\": 11.399999999999999, \"route_group\": \"short\", \"max_trip_hrs\": 0.52, \"max_trip_route_group\": 0.52, \"below_cutoff\": 56, \"pct_below_cutoff\": 1.0, \"name\": \"City of Simi Valley\", \"caltrans_district\": \"07 - Los Angeles\", \"drmt_organization_name\": null, \"route_name\": \"30\", \"cutoff2\": 20, \"cutoff\": 0}, {\"calitp_itp_id\": 308, \"trip_key\": -1433717451632064498, \"trip_id\": \"t_946109_b_24359_tn_0\", \"shape_id\": \"p_898188\", \"route_id\": \"15206\", \"service_hours\": 0.33, \"trip_first_departure_ts\": 33000, \"trip_last_arrival_ts\": 34200, \"departure_hour\": 9, \"time_of_day\": \"AM Peak\", \"p25\": 0.33, \"p50\": 0.41500000000000004, \"p75\": 0.5, \"p50_trip\": 0, \"fastest_trip\": 0, \"car_duration_hours\": 0.3, \"competitive_route\": 1, \"bus_multiplier\": 1.1, \"bus_difference\": 1.8, \"num_trips\": 56, \"num_competitive\": 56, \"pct_trips_competitive\": 1.0, \"bus_difference_spread\": 11.399999999999999, \"route_group\": \"short\", \"max_trip_hrs\": 0.52, \"max_trip_route_group\": 0.52, \"below_cutoff\": 56, \"pct_below_cutoff\": 1.0, \"name\": \"City of Simi Valley\", \"caltrans_district\": \"07 - Los Angeles\", \"drmt_organization_name\": null, \"route_name\": \"30\", \"cutoff2\": 20, \"cutoff\": 0}, {\"calitp_itp_id\": 308, \"trip_key\": -6729915948586873085, \"trip_id\": \"t_946113_b_24359_tn_0\", \"shape_id\": \"p_898188\", \"route_id\": \"15206\", \"service_hours\": 0.33, \"trip_first_departure_ts\": 40200, \"trip_last_arrival_ts\": 41400, \"departure_hour\": 11, \"time_of_day\": \"Midday\", \"p25\": 0.33, \"p50\": 0.41500000000000004, \"p75\": 0.5, \"p50_trip\": 0, \"fastest_trip\": 0, \"car_duration_hours\": 0.3, \"competitive_route\": 1, \"bus_multiplier\": 1.1, \"bus_difference\": 1.8, \"num_trips\": 56, \"num_competitive\": 56, \"pct_trips_competitive\": 1.0, \"bus_difference_spread\": 11.399999999999999, \"route_group\": \"short\", \"max_trip_hrs\": 0.52, \"max_trip_route_group\": 0.52, \"below_cutoff\": 56, \"pct_below_cutoff\": 1.0, \"name\": \"City of Simi Valley\", \"caltrans_district\": \"07 - Los Angeles\", \"drmt_organization_name\": null, \"route_name\": \"30\", \"cutoff2\": 20, \"cutoff\": 0}, {\"calitp_itp_id\": 308, \"trip_key\": 7776908892581446703, \"trip_id\": \"t_946108_b_24359_tn_0\", \"shape_id\": \"p_898188\", \"route_id\": \"15206\", \"service_hours\": 0.33, \"trip_first_departure_ts\": 31200, \"trip_last_arrival_ts\": 32400, \"departure_hour\": 8, \"time_of_day\": \"AM Peak\", \"p25\": 0.33, \"p50\": 0.41500000000000004, \"p75\": 0.5, \"p50_trip\": 0, \"fastest_trip\": 0, \"car_duration_hours\": 0.3, \"competitive_route\": 1, \"bus_multiplier\": 1.1, \"bus_difference\": 1.8, \"num_trips\": 56, \"num_competitive\": 56, \"pct_trips_competitive\": 1.0, \"bus_difference_spread\": 11.399999999999999, \"route_group\": \"short\", \"max_trip_hrs\": 0.52, \"max_trip_route_group\": 0.52, \"below_cutoff\": 56, \"pct_below_cutoff\": 1.0, \"name\": \"City of Simi Valley\", \"caltrans_district\": \"07 - Los Angeles\", \"drmt_organization_name\": null, \"route_name\": \"30\", \"cutoff2\": 20, \"cutoff\": 0}, {\"calitp_itp_id\": 308, \"trip_key\": -5820800580559433667, \"trip_id\": \"t_946124_b_24359_tn_0\", \"shape_id\": \"p_898188\", \"route_id\": \"15206\", \"service_hours\": 0.33, \"trip_first_departure_ts\": 60000, \"trip_last_arrival_ts\": 61200, \"departure_hour\": 16, \"time_of_day\": \"Midday\", \"p25\": 0.33, \"p50\": 0.41500000000000004, \"p75\": 0.5, \"p50_trip\": 0, \"fastest_trip\": 0, \"car_duration_hours\": 0.3, \"competitive_route\": 1, \"bus_multiplier\": 1.1, \"bus_difference\": 1.8, \"num_trips\": 56, \"num_competitive\": 56, \"pct_trips_competitive\": 1.0, \"bus_difference_spread\": 11.399999999999999, \"route_group\": \"short\", \"max_trip_hrs\": 0.52, \"max_trip_route_group\": 0.52, \"below_cutoff\": 56, \"pct_below_cutoff\": 1.0, \"name\": \"City of Simi Valley\", \"caltrans_district\": \"07 - Los Angeles\", \"drmt_organization_name\": null, \"route_name\": \"30\", \"cutoff2\": 20, \"cutoff\": 0}, {\"calitp_itp_id\": 308, \"trip_key\": -8320292640799424591, \"trip_id\": \"t_946105_b_24359_tn_0\", \"shape_id\": \"p_898188\", \"route_id\": \"15206\", \"service_hours\": 0.33, \"trip_first_departure_ts\": 25800, \"trip_last_arrival_ts\": 27000, \"departure_hour\": 7, \"time_of_day\": \"AM Peak\", \"p25\": 0.33, \"p50\": 0.41500000000000004, \"p75\": 0.5, \"p50_trip\": 0, \"fastest_trip\": 0, \"car_duration_hours\": 0.3, \"competitive_route\": 1, \"bus_multiplier\": 1.1, \"bus_difference\": 1.8, \"num_trips\": 56, \"num_competitive\": 56, \"pct_trips_competitive\": 1.0, \"bus_difference_spread\": 11.399999999999999, \"route_group\": \"short\", \"max_trip_hrs\": 0.52, \"max_trip_route_group\": 0.52, \"below_cutoff\": 56, \"pct_below_cutoff\": 1.0, \"name\": \"City of Simi Valley\", \"caltrans_district\": \"07 - Los Angeles\", \"drmt_organization_name\": null, \"route_name\": \"30\", \"cutoff2\": 20, \"cutoff\": 0}, {\"calitp_itp_id\": 308, \"trip_key\": -5635726924837519396, \"trip_id\": \"t_946107_b_24359_tn_0\", \"shape_id\": \"p_898188\", \"route_id\": \"15206\", \"service_hours\": 0.33, \"trip_first_departure_ts\": 29400, \"trip_last_arrival_ts\": 30600, \"departure_hour\": 8, \"time_of_day\": \"AM Peak\", \"p25\": 0.33, \"p50\": 0.41500000000000004, \"p75\": 0.5, \"p50_trip\": 0, \"fastest_trip\": 0, \"car_duration_hours\": 0.3, \"competitive_route\": 1, \"bus_multiplier\": 1.1, \"bus_difference\": 1.8, \"num_trips\": 56, \"num_competitive\": 56, \"pct_trips_competitive\": 1.0, \"bus_difference_spread\": 11.399999999999999, \"route_group\": \"short\", \"max_trip_hrs\": 0.52, \"max_trip_route_group\": 0.52, \"below_cutoff\": 56, \"pct_below_cutoff\": 1.0, \"name\": \"City of Simi Valley\", \"caltrans_district\": \"07 - Los Angeles\", \"drmt_organization_name\": null, \"route_name\": \"30\", \"cutoff2\": 20, \"cutoff\": 0}, {\"calitp_itp_id\": 308, \"trip_key\": 6825484287729484729, \"trip_id\": \"t_946116_b_24359_tn_0\", \"shape_id\": \"p_898188\", \"route_id\": \"15206\", \"service_hours\": 0.33, \"trip_first_departure_ts\": 45600, \"trip_last_arrival_ts\": 46800, \"departure_hour\": 12, \"time_of_day\": \"Midday\", \"p25\": 0.33, \"p50\": 0.41500000000000004, \"p75\": 0.5, \"p50_trip\": 0, \"fastest_trip\": 0, \"car_duration_hours\": 0.3, \"competitive_route\": 1, \"bus_multiplier\": 1.1, \"bus_difference\": 1.8, \"num_trips\": 56, \"num_competitive\": 56, \"pct_trips_competitive\": 1.0, \"bus_difference_spread\": 11.399999999999999, \"route_group\": \"short\", \"max_trip_hrs\": 0.52, \"max_trip_route_group\": 0.52, \"below_cutoff\": 56, \"pct_below_cutoff\": 1.0, \"name\": \"City of Simi Valley\", \"caltrans_district\": \"07 - Los Angeles\", \"drmt_organization_name\": null, \"route_name\": \"30\", \"cutoff2\": 20, \"cutoff\": 0}, {\"calitp_itp_id\": 308, \"trip_key\": 5914148812228893700, \"trip_id\": \"t_946111_b_24359_tn_0\", \"shape_id\": \"p_898188\", \"route_id\": \"15206\", \"service_hours\": 0.33, \"trip_first_departure_ts\": 36600, \"trip_last_arrival_ts\": 37800, \"departure_hour\": 10, \"time_of_day\": \"Midday\", \"p25\": 0.33, \"p50\": 0.41500000000000004, \"p75\": 0.5, \"p50_trip\": 0, \"fastest_trip\": 0, \"car_duration_hours\": 0.3, \"competitive_route\": 1, \"bus_multiplier\": 1.1, \"bus_difference\": 1.8, \"num_trips\": 56, \"num_competitive\": 56, \"pct_trips_competitive\": 1.0, \"bus_difference_spread\": 11.399999999999999, \"route_group\": \"short\", \"max_trip_hrs\": 0.52, \"max_trip_route_group\": 0.52, \"below_cutoff\": 56, \"pct_below_cutoff\": 1.0, \"name\": \"City of Simi Valley\", \"caltrans_district\": \"07 - Los Angeles\", \"drmt_organization_name\": null, \"route_name\": \"30\", \"cutoff2\": 20, \"cutoff\": 0}, {\"calitp_itp_id\": 308, \"trip_key\": -876161771991597509, \"trip_id\": \"t_946115_b_24359_tn_0\", \"shape_id\": \"p_898188\", \"route_id\": \"15206\", \"service_hours\": 0.33, \"trip_first_departure_ts\": 43800, \"trip_last_arrival_ts\": 45000, \"departure_hour\": 12, \"time_of_day\": \"Midday\", \"p25\": 0.33, \"p50\": 0.41500000000000004, \"p75\": 0.5, \"p50_trip\": 0, \"fastest_trip\": 0, \"car_duration_hours\": 0.3, \"competitive_route\": 1, \"bus_multiplier\": 1.1, \"bus_difference\": 1.8, \"num_trips\": 56, \"num_competitive\": 56, \"pct_trips_competitive\": 1.0, \"bus_difference_spread\": 11.399999999999999, \"route_group\": \"short\", \"max_trip_hrs\": 0.52, \"max_trip_route_group\": 0.52, \"below_cutoff\": 56, \"pct_below_cutoff\": 1.0, \"name\": \"City of Simi Valley\", \"caltrans_district\": \"07 - Los Angeles\", \"drmt_organization_name\": null, \"route_name\": \"30\", \"cutoff2\": 20, \"cutoff\": 0}, {\"calitp_itp_id\": 308, \"trip_key\": -7853264398043842300, \"trip_id\": \"t_946126_b_24359_tn_0\", \"shape_id\": \"p_898188\", \"route_id\": \"15206\", \"service_hours\": 0.33, \"trip_first_departure_ts\": 63600, \"trip_last_arrival_ts\": 64800, \"departure_hour\": 17, \"time_of_day\": \"PM Peak\", \"p25\": 0.33, \"p50\": 0.41500000000000004, \"p75\": 0.5, \"p50_trip\": 0, \"fastest_trip\": 0, \"car_duration_hours\": 0.3, \"competitive_route\": 1, \"bus_multiplier\": 1.1, \"bus_difference\": 1.8, \"num_trips\": 56, \"num_competitive\": 56, \"pct_trips_competitive\": 1.0, \"bus_difference_spread\": 11.399999999999999, \"route_group\": \"short\", \"max_trip_hrs\": 0.52, \"max_trip_route_group\": 0.52, \"below_cutoff\": 56, \"pct_below_cutoff\": 1.0, \"name\": \"City of Simi Valley\", \"caltrans_district\": \"07 - Los Angeles\", \"drmt_organization_name\": null, \"route_name\": \"30\", \"cutoff2\": 20, \"cutoff\": 0}, {\"calitp_itp_id\": 308, \"trip_key\": 8911867157148446863, \"trip_id\": \"t_946128_b_24359_tn_0\", \"shape_id\": \"p_898188\", \"route_id\": \"15206\", \"service_hours\": 0.33, \"trip_first_departure_ts\": 67260, \"trip_last_arrival_ts\": 68460, \"departure_hour\": 18, \"time_of_day\": \"PM Peak\", \"p25\": 0.33, \"p50\": 0.41500000000000004, \"p75\": 0.5, \"p50_trip\": 0, \"fastest_trip\": 0, \"car_duration_hours\": 0.3, \"competitive_route\": 1, \"bus_multiplier\": 1.1, \"bus_difference\": 1.8, \"num_trips\": 56, \"num_competitive\": 56, \"pct_trips_competitive\": 1.0, \"bus_difference_spread\": 11.399999999999999, \"route_group\": \"short\", \"max_trip_hrs\": 0.52, \"max_trip_route_group\": 0.52, \"below_cutoff\": 56, \"pct_below_cutoff\": 1.0, \"name\": \"City of Simi Valley\", \"caltrans_district\": \"07 - Los Angeles\", \"drmt_organization_name\": null, \"route_name\": \"30\", \"cutoff2\": 20, \"cutoff\": 0}, {\"calitp_itp_id\": 308, \"trip_key\": -8762992939399743410, \"trip_id\": \"t_946130_b_24359_tn_0\", \"shape_id\": \"p_898188\", \"route_id\": \"15206\", \"service_hours\": 0.33, \"trip_first_departure_ts\": 70800, \"trip_last_arrival_ts\": 72000, \"departure_hour\": 19, \"time_of_day\": \"PM Peak\", \"p25\": 0.33, \"p50\": 0.41500000000000004, \"p75\": 0.5, \"p50_trip\": 0, \"fastest_trip\": 0, \"car_duration_hours\": 0.3, \"competitive_route\": 1, \"bus_multiplier\": 1.1, \"bus_difference\": 1.8, \"num_trips\": 56, \"num_competitive\": 56, \"pct_trips_competitive\": 1.0, \"bus_difference_spread\": 11.399999999999999, \"route_group\": \"short\", \"max_trip_hrs\": 0.52, \"max_trip_route_group\": 0.52, \"below_cutoff\": 56, \"pct_below_cutoff\": 1.0, \"name\": \"City of Simi Valley\", \"caltrans_district\": \"07 - Los Angeles\", \"drmt_organization_name\": null, \"route_name\": \"30\", \"cutoff2\": 20, \"cutoff\": 0}, {\"calitp_itp_id\": 308, \"trip_key\": -4391232210353182445, \"trip_id\": \"t_946106_b_24359_tn_0\", \"shape_id\": \"p_898188\", \"route_id\": \"15206\", \"service_hours\": 0.33, \"trip_first_departure_ts\": 27600, \"trip_last_arrival_ts\": 28800, \"departure_hour\": 7, \"time_of_day\": \"AM Peak\", \"p25\": 0.33, \"p50\": 0.41500000000000004, \"p75\": 0.5, \"p50_trip\": 0, \"fastest_trip\": 0, \"car_duration_hours\": 0.3, \"competitive_route\": 1, \"bus_multiplier\": 1.1, \"bus_difference\": 1.8, \"num_trips\": 56, \"num_competitive\": 56, \"pct_trips_competitive\": 1.0, \"bus_difference_spread\": 11.399999999999999, \"route_group\": \"short\", \"max_trip_hrs\": 0.52, \"max_trip_route_group\": 0.52, \"below_cutoff\": 56, \"pct_below_cutoff\": 1.0, \"name\": \"City of Simi Valley\", \"caltrans_district\": \"07 - Los Angeles\", \"drmt_organization_name\": null, \"route_name\": \"30\", \"cutoff2\": 20, \"cutoff\": 0}, {\"calitp_itp_id\": 308, \"trip_key\": 7093254243388164782, \"trip_id\": \"t_946127_b_24359_tn_0\", \"shape_id\": \"p_898188\", \"route_id\": \"15206\", \"service_hours\": 0.33, \"trip_first_departure_ts\": 65400, \"trip_last_arrival_ts\": 66600, \"departure_hour\": 18, \"time_of_day\": \"PM Peak\", \"p25\": 0.33, \"p50\": 0.41500000000000004, \"p75\": 0.5, \"p50_trip\": 0, \"fastest_trip\": 0, \"car_duration_hours\": 0.3, \"competitive_route\": 1, \"bus_multiplier\": 1.1, \"bus_difference\": 1.8, \"num_trips\": 56, \"num_competitive\": 56, \"pct_trips_competitive\": 1.0, \"bus_difference_spread\": 11.399999999999999, \"route_group\": \"short\", \"max_trip_hrs\": 0.52, \"max_trip_route_group\": 0.52, \"below_cutoff\": 56, \"pct_below_cutoff\": 1.0, \"name\": \"City of Simi Valley\", \"caltrans_district\": \"07 - Los Angeles\", \"drmt_organization_name\": null, \"route_name\": \"30\", \"cutoff2\": 20, \"cutoff\": 0}, {\"calitp_itp_id\": 308, \"trip_key\": -5590865945693394818, \"trip_id\": \"t_946121_b_24359_tn_0\", \"shape_id\": \"p_898188\", \"route_id\": \"15206\", \"service_hours\": 0.33, \"trip_first_departure_ts\": 54600, \"trip_last_arrival_ts\": 55800, \"departure_hour\": 15, \"time_of_day\": \"Midday\", \"p25\": 0.33, \"p50\": 0.41500000000000004, \"p75\": 0.5, \"p50_trip\": 0, \"fastest_trip\": 0, \"car_duration_hours\": 0.3, \"competitive_route\": 1, \"bus_multiplier\": 1.1, \"bus_difference\": 1.8, \"num_trips\": 56, \"num_competitive\": 56, \"pct_trips_competitive\": 1.0, \"bus_difference_spread\": 11.399999999999999, \"route_group\": \"short\", \"max_trip_hrs\": 0.52, \"max_trip_route_group\": 0.52, \"below_cutoff\": 56, \"pct_below_cutoff\": 1.0, \"name\": \"City of Simi Valley\", \"caltrans_district\": \"07 - Los Angeles\", \"drmt_organization_name\": null, \"route_name\": \"30\", \"cutoff2\": 20, \"cutoff\": 0}, {\"calitp_itp_id\": 308, \"trip_key\": -3228277295240571107, \"trip_id\": \"t_946122_b_24359_tn_0\", \"shape_id\": \"p_898188\", \"route_id\": \"15206\", \"service_hours\": 0.33, \"trip_first_departure_ts\": 56400, \"trip_last_arrival_ts\": 57600, \"departure_hour\": 15, \"time_of_day\": \"Midday\", \"p25\": 0.33, \"p50\": 0.41500000000000004, \"p75\": 0.5, \"p50_trip\": 0, \"fastest_trip\": 0, \"car_duration_hours\": 0.3, \"competitive_route\": 1, \"bus_multiplier\": 1.1, \"bus_difference\": 1.8, \"num_trips\": 56, \"num_competitive\": 56, \"pct_trips_competitive\": 1.0, \"bus_difference_spread\": 11.399999999999999, \"route_group\": \"short\", \"max_trip_hrs\": 0.52, \"max_trip_route_group\": 0.52, \"below_cutoff\": 56, \"pct_below_cutoff\": 1.0, \"name\": \"City of Simi Valley\", \"caltrans_district\": \"07 - Los Angeles\", \"drmt_organization_name\": null, \"route_name\": \"30\", \"cutoff2\": 20, \"cutoff\": 0}, {\"calitp_itp_id\": 308, \"trip_key\": 8339464564364172853, \"trip_id\": \"t_946112_b_24359_tn_0\", \"shape_id\": \"p_898188\", \"route_id\": \"15206\", \"service_hours\": 0.33, \"trip_first_departure_ts\": 38400, \"trip_last_arrival_ts\": 39600, \"departure_hour\": 10, \"time_of_day\": \"Midday\", \"p25\": 0.33, \"p50\": 0.41500000000000004, \"p75\": 0.5, \"p50_trip\": 0, \"fastest_trip\": 0, \"car_duration_hours\": 0.3, \"competitive_route\": 1, \"bus_multiplier\": 1.1, \"bus_difference\": 1.8, \"num_trips\": 56, \"num_competitive\": 56, \"pct_trips_competitive\": 1.0, \"bus_difference_spread\": 11.399999999999999, \"route_group\": \"short\", \"max_trip_hrs\": 0.52, \"max_trip_route_group\": 0.52, \"below_cutoff\": 56, \"pct_below_cutoff\": 1.0, \"name\": \"City of Simi Valley\", \"caltrans_district\": \"07 - Los Angeles\", \"drmt_organization_name\": null, \"route_name\": \"30\", \"cutoff2\": 20, \"cutoff\": 0}, {\"calitp_itp_id\": 308, \"trip_key\": 4142883466696691433, \"trip_id\": \"t_946110_b_24359_tn_0\", \"shape_id\": \"p_898188\", \"route_id\": \"15206\", \"service_hours\": 0.33, \"trip_first_departure_ts\": 34800, \"trip_last_arrival_ts\": 36000, \"departure_hour\": 9, \"time_of_day\": \"AM Peak\", \"p25\": 0.33, \"p50\": 0.41500000000000004, \"p75\": 0.5, \"p50_trip\": 0, \"fastest_trip\": 0, \"car_duration_hours\": 0.3, \"competitive_route\": 1, \"bus_multiplier\": 1.1, \"bus_difference\": 1.8, \"num_trips\": 56, \"num_competitive\": 56, \"pct_trips_competitive\": 1.0, \"bus_difference_spread\": 11.399999999999999, \"route_group\": \"short\", \"max_trip_hrs\": 0.52, \"max_trip_route_group\": 0.52, \"below_cutoff\": 56, \"pct_below_cutoff\": 1.0, \"name\": \"City of Simi Valley\", \"caltrans_district\": \"07 - Los Angeles\", \"drmt_organization_name\": null, \"route_name\": \"30\", \"cutoff2\": 20, \"cutoff\": 0}, {\"calitp_itp_id\": 308, \"trip_key\": 2158922621291155621, \"trip_id\": \"t_946117_b_24359_tn_0\", \"shape_id\": \"p_898188\", \"route_id\": \"15206\", \"service_hours\": 0.33, \"trip_first_departure_ts\": 47400, \"trip_last_arrival_ts\": 48600, \"departure_hour\": 13, \"time_of_day\": \"Midday\", \"p25\": 0.33, \"p50\": 0.41500000000000004, \"p75\": 0.5, \"p50_trip\": 0, \"fastest_trip\": 0, \"car_duration_hours\": 0.3, \"competitive_route\": 1, \"bus_multiplier\": 1.1, \"bus_difference\": 1.8, \"num_trips\": 56, \"num_competitive\": 56, \"pct_trips_competitive\": 1.0, \"bus_difference_spread\": 11.399999999999999, \"route_group\": \"short\", \"max_trip_hrs\": 0.52, \"max_trip_route_group\": 0.52, \"below_cutoff\": 56, \"pct_below_cutoff\": 1.0, \"name\": \"City of Simi Valley\", \"caltrans_district\": \"07 - Los Angeles\", \"drmt_organization_name\": null, \"route_name\": \"30\", \"cutoff2\": 20, \"cutoff\": 0}, {\"calitp_itp_id\": 308, \"trip_key\": -6662960956626415706, \"trip_id\": \"t_946104_b_24359_tn_0\", \"shape_id\": \"p_898188\", \"route_id\": \"15206\", \"service_hours\": 0.33, \"trip_first_departure_ts\": 24000, \"trip_last_arrival_ts\": 25200, \"departure_hour\": 6, \"time_of_day\": \"Owl Service\", \"p25\": 0.33, \"p50\": 0.41500000000000004, \"p75\": 0.5, \"p50_trip\": 0, \"fastest_trip\": 0, \"car_duration_hours\": 0.3, \"competitive_route\": 1, \"bus_multiplier\": 1.1, \"bus_difference\": 1.8, \"num_trips\": 56, \"num_competitive\": 56, \"pct_trips_competitive\": 1.0, \"bus_difference_spread\": 11.399999999999999, \"route_group\": \"short\", \"max_trip_hrs\": 0.52, \"max_trip_route_group\": 0.52, \"below_cutoff\": 56, \"pct_below_cutoff\": 1.0, \"name\": \"City of Simi Valley\", \"caltrans_district\": \"07 - Los Angeles\", \"drmt_organization_name\": null, \"route_name\": \"30\", \"cutoff2\": 20, \"cutoff\": 0}, {\"calitp_itp_id\": 308, \"trip_key\": 3366481284366637267, \"trip_id\": \"t_946120_b_24359_tn_0\", \"shape_id\": \"p_898188\", \"route_id\": \"15206\", \"service_hours\": 0.33, \"trip_first_departure_ts\": 52800, \"trip_last_arrival_ts\": 54000, \"departure_hour\": 14, \"time_of_day\": \"Midday\", \"p25\": 0.33, \"p50\": 0.41500000000000004, \"p75\": 0.5, \"p50_trip\": 0, \"fastest_trip\": 0, \"car_duration_hours\": 0.3, \"competitive_route\": 1, \"bus_multiplier\": 1.1, \"bus_difference\": 1.8, \"num_trips\": 56, \"num_competitive\": 56, \"pct_trips_competitive\": 1.0, \"bus_difference_spread\": 11.399999999999999, \"route_group\": \"short\", \"max_trip_hrs\": 0.52, \"max_trip_route_group\": 0.52, \"below_cutoff\": 56, \"pct_below_cutoff\": 1.0, \"name\": \"City of Simi Valley\", \"caltrans_district\": \"07 - Los Angeles\", \"drmt_organization_name\": null, \"route_name\": \"30\", \"cutoff2\": 20, \"cutoff\": 0}, {\"calitp_itp_id\": 308, \"trip_key\": -3828744296987613966, \"trip_id\": \"t_946114_b_24359_tn_0\", \"shape_id\": \"p_898188\", \"route_id\": \"15206\", \"service_hours\": 0.33, \"trip_first_departure_ts\": 42000, \"trip_last_arrival_ts\": 43200, \"departure_hour\": 11, \"time_of_day\": \"Midday\", \"p25\": 0.33, \"p50\": 0.41500000000000004, \"p75\": 0.5, \"p50_trip\": 0, \"fastest_trip\": 0, \"car_duration_hours\": 0.3, \"competitive_route\": 1, \"bus_multiplier\": 1.1, \"bus_difference\": 1.8, \"num_trips\": 56, \"num_competitive\": 56, \"pct_trips_competitive\": 1.0, \"bus_difference_spread\": 11.399999999999999, \"route_group\": \"short\", \"max_trip_hrs\": 0.52, \"max_trip_route_group\": 0.52, \"below_cutoff\": 56, \"pct_below_cutoff\": 1.0, \"name\": \"City of Simi Valley\", \"caltrans_district\": \"07 - Los Angeles\", \"drmt_organization_name\": null, \"route_name\": \"30\", \"cutoff2\": 20, \"cutoff\": 0}, {\"calitp_itp_id\": 308, \"trip_key\": -3560747305575803624, \"trip_id\": \"t_946118_b_24359_tn_0\", \"shape_id\": \"p_898188\", \"route_id\": \"15206\", \"service_hours\": 0.33, \"trip_first_departure_ts\": 49200, \"trip_last_arrival_ts\": 50400, \"departure_hour\": 13, \"time_of_day\": \"Midday\", \"p25\": 0.33, \"p50\": 0.41500000000000004, \"p75\": 0.5, \"p50_trip\": 0, \"fastest_trip\": 0, \"car_duration_hours\": 0.3, \"competitive_route\": 1, \"bus_multiplier\": 1.1, \"bus_difference\": 1.8, \"num_trips\": 56, \"num_competitive\": 56, \"pct_trips_competitive\": 1.0, \"bus_difference_spread\": 11.399999999999999, \"route_group\": \"short\", \"max_trip_hrs\": 0.52, \"max_trip_route_group\": 0.52, \"below_cutoff\": 56, \"pct_below_cutoff\": 1.0, \"name\": \"City of Simi Valley\", \"caltrans_district\": \"07 - Los Angeles\", \"drmt_organization_name\": null, \"route_name\": \"30\", \"cutoff2\": 20, \"cutoff\": 0}, {\"calitp_itp_id\": 308, \"trip_key\": -8167083170040521081, \"trip_id\": \"t_943125_b_24359_tn_0\", \"shape_id\": \"p_898187\", \"route_id\": \"15206\", \"service_hours\": 0.5, \"trip_first_departure_ts\": 54000, \"trip_last_arrival_ts\": 55800, \"departure_hour\": 15, \"time_of_day\": \"Midday\", \"p25\": 0.33, \"p50\": 0.41500000000000004, \"p75\": 0.5, \"p50_trip\": 1, \"fastest_trip\": 0, \"car_duration_hours\": 0.3, \"competitive_route\": 1, \"bus_multiplier\": 1.67, \"bus_difference\": 12.0, \"num_trips\": 56, \"num_competitive\": 56, \"pct_trips_competitive\": 1.0, \"bus_difference_spread\": 11.399999999999999, \"route_group\": \"short\", \"max_trip_hrs\": 0.52, \"max_trip_route_group\": 0.52, \"below_cutoff\": 56, \"pct_below_cutoff\": 1.0, \"name\": \"City of Simi Valley\", \"caltrans_district\": \"07 - Los Angeles\", \"drmt_organization_name\": null, \"route_name\": \"30\", \"cutoff2\": 20, \"cutoff\": 0}, {\"calitp_itp_id\": 308, \"trip_key\": -4279807971257814144, \"trip_id\": \"t_943130_b_24359_tn_0\", \"shape_id\": \"p_898187\", \"route_id\": \"15206\", \"service_hours\": 0.5, \"trip_first_departure_ts\": 63000, \"trip_last_arrival_ts\": 64800, \"departure_hour\": 17, \"time_of_day\": \"PM Peak\", \"p25\": 0.33, \"p50\": 0.41500000000000004, \"p75\": 0.5, \"p50_trip\": 1, \"fastest_trip\": 0, \"car_duration_hours\": 0.3, \"competitive_route\": 1, \"bus_multiplier\": 1.67, \"bus_difference\": 12.0, \"num_trips\": 56, \"num_competitive\": 56, \"pct_trips_competitive\": 1.0, \"bus_difference_spread\": 11.399999999999999, \"route_group\": \"short\", \"max_trip_hrs\": 0.52, \"max_trip_route_group\": 0.52, \"below_cutoff\": 56, \"pct_below_cutoff\": 1.0, \"name\": \"City of Simi Valley\", \"caltrans_district\": \"07 - Los Angeles\", \"drmt_organization_name\": null, \"route_name\": \"30\", \"cutoff2\": 20, \"cutoff\": 0}, {\"calitp_itp_id\": 308, \"trip_key\": -2554570937767145092, \"trip_id\": \"t_943112_b_24359_tn_0\", \"shape_id\": \"p_898187\", \"route_id\": \"15206\", \"service_hours\": 0.5, \"trip_first_departure_ts\": 30600, \"trip_last_arrival_ts\": 32400, \"departure_hour\": 8, \"time_of_day\": \"AM Peak\", \"p25\": 0.33, \"p50\": 0.41500000000000004, \"p75\": 0.5, \"p50_trip\": 1, \"fastest_trip\": 0, \"car_duration_hours\": 0.3, \"competitive_route\": 1, \"bus_multiplier\": 1.67, \"bus_difference\": 12.0, \"num_trips\": 56, \"num_competitive\": 56, \"pct_trips_competitive\": 1.0, \"bus_difference_spread\": 11.399999999999999, \"route_group\": \"short\", \"max_trip_hrs\": 0.52, \"max_trip_route_group\": 0.52, \"below_cutoff\": 56, \"pct_below_cutoff\": 1.0, \"name\": \"City of Simi Valley\", \"caltrans_district\": \"07 - Los Angeles\", \"drmt_organization_name\": null, \"route_name\": \"30\", \"cutoff2\": 20, \"cutoff\": 0}, {\"calitp_itp_id\": 308, \"trip_key\": 8294143917432518976, \"trip_id\": \"t_943119_b_24359_tn_0\", \"shape_id\": \"p_898187\", \"route_id\": \"15206\", \"service_hours\": 0.5, \"trip_first_departure_ts\": 43200, \"trip_last_arrival_ts\": 45000, \"departure_hour\": 12, \"time_of_day\": \"Midday\", \"p25\": 0.33, \"p50\": 0.41500000000000004, \"p75\": 0.5, \"p50_trip\": 1, \"fastest_trip\": 0, \"car_duration_hours\": 0.3, \"competitive_route\": 1, \"bus_multiplier\": 1.67, \"bus_difference\": 12.0, \"num_trips\": 56, \"num_competitive\": 56, \"pct_trips_competitive\": 1.0, \"bus_difference_spread\": 11.399999999999999, \"route_group\": \"short\", \"max_trip_hrs\": 0.52, \"max_trip_route_group\": 0.52, \"below_cutoff\": 56, \"pct_below_cutoff\": 1.0, \"name\": \"City of Simi Valley\", \"caltrans_district\": \"07 - Los Angeles\", \"drmt_organization_name\": null, \"route_name\": \"30\", \"cutoff2\": 20, \"cutoff\": 0}, {\"calitp_itp_id\": 308, \"trip_key\": 7653100744196602185, \"trip_id\": \"t_943128_b_24359_tn_0\", \"shape_id\": \"p_898187\", \"route_id\": \"15206\", \"service_hours\": 0.5, \"trip_first_departure_ts\": 59400, \"trip_last_arrival_ts\": 61200, \"departure_hour\": 16, \"time_of_day\": \"Midday\", \"p25\": 0.33, \"p50\": 0.41500000000000004, \"p75\": 0.5, \"p50_trip\": 1, \"fastest_trip\": 0, \"car_duration_hours\": 0.3, \"competitive_route\": 1, \"bus_multiplier\": 1.67, \"bus_difference\": 12.0, \"num_trips\": 56, \"num_competitive\": 56, \"pct_trips_competitive\": 1.0, \"bus_difference_spread\": 11.399999999999999, \"route_group\": \"short\", \"max_trip_hrs\": 0.52, \"max_trip_route_group\": 0.52, \"below_cutoff\": 56, \"pct_below_cutoff\": 1.0, \"name\": \"City of Simi Valley\", \"caltrans_district\": \"07 - Los Angeles\", \"drmt_organization_name\": null, \"route_name\": \"30\", \"cutoff2\": 20, \"cutoff\": 0}, {\"calitp_itp_id\": 308, \"trip_key\": 7826532935182082108, \"trip_id\": \"t_943114_b_24359_tn_0\", \"shape_id\": \"p_898187\", \"route_id\": \"15206\", \"service_hours\": 0.5, \"trip_first_departure_ts\": 34200, \"trip_last_arrival_ts\": 36000, \"departure_hour\": 9, \"time_of_day\": \"AM Peak\", \"p25\": 0.33, \"p50\": 0.41500000000000004, \"p75\": 0.5, \"p50_trip\": 1, \"fastest_trip\": 0, \"car_duration_hours\": 0.3, \"competitive_route\": 1, \"bus_multiplier\": 1.67, \"bus_difference\": 12.0, \"num_trips\": 56, \"num_competitive\": 56, \"pct_trips_competitive\": 1.0, \"bus_difference_spread\": 11.399999999999999, \"route_group\": \"short\", \"max_trip_hrs\": 0.52, \"max_trip_route_group\": 0.52, \"below_cutoff\": 56, \"pct_below_cutoff\": 1.0, \"name\": \"City of Simi Valley\", \"caltrans_district\": \"07 - Los Angeles\", \"drmt_organization_name\": null, \"route_name\": \"30\", \"cutoff2\": 20, \"cutoff\": 0}, {\"calitp_itp_id\": 308, \"trip_key\": -995582805426313628, \"trip_id\": \"t_943121_b_24359_tn_0\", \"shape_id\": \"p_898187\", \"route_id\": \"15206\", \"service_hours\": 0.5, \"trip_first_departure_ts\": 46800, \"trip_last_arrival_ts\": 48600, \"departure_hour\": 13, \"time_of_day\": \"Midday\", \"p25\": 0.33, \"p50\": 0.41500000000000004, \"p75\": 0.5, \"p50_trip\": 1, \"fastest_trip\": 0, \"car_duration_hours\": 0.3, \"competitive_route\": 1, \"bus_multiplier\": 1.67, \"bus_difference\": 12.0, \"num_trips\": 56, \"num_competitive\": 56, \"pct_trips_competitive\": 1.0, \"bus_difference_spread\": 11.399999999999999, \"route_group\": \"short\", \"max_trip_hrs\": 0.52, \"max_trip_route_group\": 0.52, \"below_cutoff\": 56, \"pct_below_cutoff\": 1.0, \"name\": \"City of Simi Valley\", \"caltrans_district\": \"07 - Los Angeles\", \"drmt_organization_name\": null, \"route_name\": \"30\", \"cutoff2\": 20, \"cutoff\": 0}, {\"calitp_itp_id\": 308, \"trip_key\": 3281690379974936211, \"trip_id\": \"t_943124_b_24359_tn_0\", \"shape_id\": \"p_898187\", \"route_id\": \"15206\", \"service_hours\": 0.5, \"trip_first_departure_ts\": 52200, \"trip_last_arrival_ts\": 54000, \"departure_hour\": 14, \"time_of_day\": \"Midday\", \"p25\": 0.33, \"p50\": 0.41500000000000004, \"p75\": 0.5, \"p50_trip\": 1, \"fastest_trip\": 0, \"car_duration_hours\": 0.3, \"competitive_route\": 1, \"bus_multiplier\": 1.67, \"bus_difference\": 12.0, \"num_trips\": 56, \"num_competitive\": 56, \"pct_trips_competitive\": 1.0, \"bus_difference_spread\": 11.399999999999999, \"route_group\": \"short\", \"max_trip_hrs\": 0.52, \"max_trip_route_group\": 0.52, \"below_cutoff\": 56, \"pct_below_cutoff\": 1.0, \"name\": \"City of Simi Valley\", \"caltrans_district\": \"07 - Los Angeles\", \"drmt_organization_name\": null, \"route_name\": \"30\", \"cutoff2\": 20, \"cutoff\": 0}, {\"calitp_itp_id\": 308, \"trip_key\": 6476298289328237587, \"trip_id\": \"t_943115_b_24359_tn_0\", \"shape_id\": \"p_898187\", \"route_id\": \"15206\", \"service_hours\": 0.5, \"trip_first_departure_ts\": 36000, \"trip_last_arrival_ts\": 37800, \"departure_hour\": 10, \"time_of_day\": \"Midday\", \"p25\": 0.33, \"p50\": 0.41500000000000004, \"p75\": 0.5, \"p50_trip\": 1, \"fastest_trip\": 0, \"car_duration_hours\": 0.3, \"competitive_route\": 1, \"bus_multiplier\": 1.67, \"bus_difference\": 12.0, \"num_trips\": 56, \"num_competitive\": 56, \"pct_trips_competitive\": 1.0, \"bus_difference_spread\": 11.399999999999999, \"route_group\": \"short\", \"max_trip_hrs\": 0.52, \"max_trip_route_group\": 0.52, \"below_cutoff\": 56, \"pct_below_cutoff\": 1.0, \"name\": \"City of Simi Valley\", \"caltrans_district\": \"07 - Los Angeles\", \"drmt_organization_name\": null, \"route_name\": \"30\", \"cutoff2\": 20, \"cutoff\": 0}, {\"calitp_itp_id\": 308, \"trip_key\": 7759242011797943927, \"trip_id\": \"t_943109_b_24359_tn_0\", \"shape_id\": \"p_898187\", \"route_id\": \"15206\", \"service_hours\": 0.5, \"trip_first_departure_ts\": 25200, \"trip_last_arrival_ts\": 27000, \"departure_hour\": 7, \"time_of_day\": \"AM Peak\", \"p25\": 0.33, \"p50\": 0.41500000000000004, \"p75\": 0.5, \"p50_trip\": 1, \"fastest_trip\": 0, \"car_duration_hours\": 0.3, \"competitive_route\": 1, \"bus_multiplier\": 1.67, \"bus_difference\": 12.0, \"num_trips\": 56, \"num_competitive\": 56, \"pct_trips_competitive\": 1.0, \"bus_difference_spread\": 11.399999999999999, \"route_group\": \"short\", \"max_trip_hrs\": 0.52, \"max_trip_route_group\": 0.52, \"below_cutoff\": 56, \"pct_below_cutoff\": 1.0, \"name\": \"City of Simi Valley\", \"caltrans_district\": \"07 - Los Angeles\", \"drmt_organization_name\": null, \"route_name\": \"30\", \"cutoff2\": 20, \"cutoff\": 0}, {\"calitp_itp_id\": 308, \"trip_key\": 5346566435353817924, \"trip_id\": \"t_943120_b_24359_tn_0\", \"shape_id\": \"p_898187\", \"route_id\": \"15206\", \"service_hours\": 0.5, \"trip_first_departure_ts\": 45000, \"trip_last_arrival_ts\": 46800, \"departure_hour\": 12, \"time_of_day\": \"Midday\", \"p25\": 0.33, \"p50\": 0.41500000000000004, \"p75\": 0.5, \"p50_trip\": 1, \"fastest_trip\": 0, \"car_duration_hours\": 0.3, \"competitive_route\": 1, \"bus_multiplier\": 1.67, \"bus_difference\": 12.0, \"num_trips\": 56, \"num_competitive\": 56, \"pct_trips_competitive\": 1.0, \"bus_difference_spread\": 11.399999999999999, \"route_group\": \"short\", \"max_trip_hrs\": 0.52, \"max_trip_route_group\": 0.52, \"below_cutoff\": 56, \"pct_below_cutoff\": 1.0, \"name\": \"City of Simi Valley\", \"caltrans_district\": \"07 - Los Angeles\", \"drmt_organization_name\": null, \"route_name\": \"30\", \"cutoff2\": 20, \"cutoff\": 0}, {\"calitp_itp_id\": 308, \"trip_key\": 26886795067199730, \"trip_id\": \"t_943108_b_24359_tn_0\", \"shape_id\": \"p_898187\", \"route_id\": \"15206\", \"service_hours\": 0.5, \"trip_first_departure_ts\": 23400, \"trip_last_arrival_ts\": 25200, \"departure_hour\": 6, \"time_of_day\": \"Owl Service\", \"p25\": 0.33, \"p50\": 0.41500000000000004, \"p75\": 0.5, \"p50_trip\": 1, \"fastest_trip\": 0, \"car_duration_hours\": 0.3, \"competitive_route\": 1, \"bus_multiplier\": 1.67, \"bus_difference\": 12.0, \"num_trips\": 56, \"num_competitive\": 56, \"pct_trips_competitive\": 1.0, \"bus_difference_spread\": 11.399999999999999, \"route_group\": \"short\", \"max_trip_hrs\": 0.52, \"max_trip_route_group\": 0.52, \"below_cutoff\": 56, \"pct_below_cutoff\": 1.0, \"name\": \"City of Simi Valley\", \"caltrans_district\": \"07 - Los Angeles\", \"drmt_organization_name\": null, \"route_name\": \"30\", \"cutoff2\": 20, \"cutoff\": 0}, {\"calitp_itp_id\": 308, \"trip_key\": 8263220477305444705, \"trip_id\": \"t_943126_b_24359_tn_0\", \"shape_id\": \"p_898187\", \"route_id\": \"15206\", \"service_hours\": 0.5, \"trip_first_departure_ts\": 55800, \"trip_last_arrival_ts\": 57600, \"departure_hour\": 15, \"time_of_day\": \"Midday\", \"p25\": 0.33, \"p50\": 0.41500000000000004, \"p75\": 0.5, \"p50_trip\": 1, \"fastest_trip\": 0, \"car_duration_hours\": 0.3, \"competitive_route\": 1, \"bus_multiplier\": 1.67, \"bus_difference\": 12.0, \"num_trips\": 56, \"num_competitive\": 56, \"pct_trips_competitive\": 1.0, \"bus_difference_spread\": 11.399999999999999, \"route_group\": \"short\", \"max_trip_hrs\": 0.52, \"max_trip_route_group\": 0.52, \"below_cutoff\": 56, \"pct_below_cutoff\": 1.0, \"name\": \"City of Simi Valley\", \"caltrans_district\": \"07 - Los Angeles\", \"drmt_organization_name\": null, \"route_name\": \"30\", \"cutoff2\": 20, \"cutoff\": 0}, {\"calitp_itp_id\": 308, \"trip_key\": -6939419209454966460, \"trip_id\": \"t_943117_b_24359_tn_0\", \"shape_id\": \"p_898187\", \"route_id\": \"15206\", \"service_hours\": 0.5, \"trip_first_departure_ts\": 39600, \"trip_last_arrival_ts\": 41400, \"departure_hour\": 11, \"time_of_day\": \"Midday\", \"p25\": 0.33, \"p50\": 0.41500000000000004, \"p75\": 0.5, \"p50_trip\": 1, \"fastest_trip\": 0, \"car_duration_hours\": 0.3, \"competitive_route\": 1, \"bus_multiplier\": 1.67, \"bus_difference\": 12.0, \"num_trips\": 56, \"num_competitive\": 56, \"pct_trips_competitive\": 1.0, \"bus_difference_spread\": 11.399999999999999, \"route_group\": \"short\", \"max_trip_hrs\": 0.52, \"max_trip_route_group\": 0.52, \"below_cutoff\": 56, \"pct_below_cutoff\": 1.0, \"name\": \"City of Simi Valley\", \"caltrans_district\": \"07 - Los Angeles\", \"drmt_organization_name\": null, \"route_name\": \"30\", \"cutoff2\": 20, \"cutoff\": 0}, {\"calitp_itp_id\": 308, \"trip_key\": 7685243856575547949, \"trip_id\": \"t_943123_b_24359_tn_0\", \"shape_id\": \"p_898187\", \"route_id\": \"15206\", \"service_hours\": 0.5, \"trip_first_departure_ts\": 50400, \"trip_last_arrival_ts\": 52200, \"departure_hour\": 14, \"time_of_day\": \"Midday\", \"p25\": 0.33, \"p50\": 0.41500000000000004, \"p75\": 0.5, \"p50_trip\": 1, \"fastest_trip\": 0, \"car_duration_hours\": 0.3, \"competitive_route\": 1, \"bus_multiplier\": 1.67, \"bus_difference\": 12.0, \"num_trips\": 56, \"num_competitive\": 56, \"pct_trips_competitive\": 1.0, \"bus_difference_spread\": 11.399999999999999, \"route_group\": \"short\", \"max_trip_hrs\": 0.52, \"max_trip_route_group\": 0.52, \"below_cutoff\": 56, \"pct_below_cutoff\": 1.0, \"name\": \"City of Simi Valley\", \"caltrans_district\": \"07 - Los Angeles\", \"drmt_organization_name\": null, \"route_name\": \"30\", \"cutoff2\": 20, \"cutoff\": 0}, {\"calitp_itp_id\": 308, \"trip_key\": -2753794484308387366, \"trip_id\": \"t_943106_b_24359_tn_0\", \"shape_id\": \"p_898187\", \"route_id\": \"15206\", \"service_hours\": 0.5, \"trip_first_departure_ts\": 19800, \"trip_last_arrival_ts\": 21600, \"departure_hour\": 5, \"time_of_day\": \"Owl Service\", \"p25\": 0.33, \"p50\": 0.41500000000000004, \"p75\": 0.5, \"p50_trip\": 1, \"fastest_trip\": 0, \"car_duration_hours\": 0.3, \"competitive_route\": 1, \"bus_multiplier\": 1.67, \"bus_difference\": 12.0, \"num_trips\": 56, \"num_competitive\": 56, \"pct_trips_competitive\": 1.0, \"bus_difference_spread\": 11.399999999999999, \"route_group\": \"short\", \"max_trip_hrs\": 0.52, \"max_trip_route_group\": 0.52, \"below_cutoff\": 56, \"pct_below_cutoff\": 1.0, \"name\": \"City of Simi Valley\", \"caltrans_district\": \"07 - Los Angeles\", \"drmt_organization_name\": null, \"route_name\": \"30\", \"cutoff2\": 20, \"cutoff\": 0}, {\"calitp_itp_id\": 308, \"trip_key\": 1638024500768460867, \"trip_id\": \"t_943113_b_24359_tn_0\", \"shape_id\": \"p_898187\", \"route_id\": \"15206\", \"service_hours\": 0.5, \"trip_first_departure_ts\": 32400, \"trip_last_arrival_ts\": 34200, \"departure_hour\": 9, \"time_of_day\": \"AM Peak\", \"p25\": 0.33, \"p50\": 0.41500000000000004, \"p75\": 0.5, \"p50_trip\": 1, \"fastest_trip\": 0, \"car_duration_hours\": 0.3, \"competitive_route\": 1, \"bus_multiplier\": 1.67, \"bus_difference\": 12.0, \"num_trips\": 56, \"num_competitive\": 56, \"pct_trips_competitive\": 1.0, \"bus_difference_spread\": 11.399999999999999, \"route_group\": \"short\", \"max_trip_hrs\": 0.52, \"max_trip_route_group\": 0.52, \"below_cutoff\": 56, \"pct_below_cutoff\": 1.0, \"name\": \"City of Simi Valley\", \"caltrans_district\": \"07 - Los Angeles\", \"drmt_organization_name\": null, \"route_name\": \"30\", \"cutoff2\": 20, \"cutoff\": 0}, {\"calitp_itp_id\": 308, \"trip_key\": -6708986917806240098, \"trip_id\": \"t_943111_b_24359_tn_0\", \"shape_id\": \"p_898187\", \"route_id\": \"15206\", \"service_hours\": 0.5, \"trip_first_departure_ts\": 28800, \"trip_last_arrival_ts\": 30600, \"departure_hour\": 8, \"time_of_day\": \"AM Peak\", \"p25\": 0.33, \"p50\": 0.41500000000000004, \"p75\": 0.5, \"p50_trip\": 1, \"fastest_trip\": 0, \"car_duration_hours\": 0.3, \"competitive_route\": 1, \"bus_multiplier\": 1.67, \"bus_difference\": 12.0, \"num_trips\": 56, \"num_competitive\": 56, \"pct_trips_competitive\": 1.0, \"bus_difference_spread\": 11.399999999999999, \"route_group\": \"short\", \"max_trip_hrs\": 0.52, \"max_trip_route_group\": 0.52, \"below_cutoff\": 56, \"pct_below_cutoff\": 1.0, \"name\": \"City of Simi Valley\", \"caltrans_district\": \"07 - Los Angeles\", \"drmt_organization_name\": null, \"route_name\": \"30\", \"cutoff2\": 20, \"cutoff\": 0}, {\"calitp_itp_id\": 308, \"trip_key\": -8426351511834028311, \"trip_id\": \"t_943129_b_24359_tn_0\", \"shape_id\": \"p_898187\", \"route_id\": \"15206\", \"service_hours\": 0.5, \"trip_first_departure_ts\": 61200, \"trip_last_arrival_ts\": 63000, \"departure_hour\": 17, \"time_of_day\": \"PM Peak\", \"p25\": 0.33, \"p50\": 0.41500000000000004, \"p75\": 0.5, \"p50_trip\": 1, \"fastest_trip\": 0, \"car_duration_hours\": 0.3, \"competitive_route\": 1, \"bus_multiplier\": 1.67, \"bus_difference\": 12.0, \"num_trips\": 56, \"num_competitive\": 56, \"pct_trips_competitive\": 1.0, \"bus_difference_spread\": 11.399999999999999, \"route_group\": \"short\", \"max_trip_hrs\": 0.52, \"max_trip_route_group\": 0.52, \"below_cutoff\": 56, \"pct_below_cutoff\": 1.0, \"name\": \"City of Simi Valley\", \"caltrans_district\": \"07 - Los Angeles\", \"drmt_organization_name\": null, \"route_name\": \"30\", \"cutoff2\": 20, \"cutoff\": 0}, {\"calitp_itp_id\": 308, \"trip_key\": -8413614114020087387, \"trip_id\": \"t_943107_b_24359_tn_0\", \"shape_id\": \"p_898187\", \"route_id\": \"15206\", \"service_hours\": 0.5, \"trip_first_departure_ts\": 21600, \"trip_last_arrival_ts\": 23400, \"departure_hour\": 6, \"time_of_day\": \"Owl Service\", \"p25\": 0.33, \"p50\": 0.41500000000000004, \"p75\": 0.5, \"p50_trip\": 1, \"fastest_trip\": 0, \"car_duration_hours\": 0.3, \"competitive_route\": 1, \"bus_multiplier\": 1.67, \"bus_difference\": 12.0, \"num_trips\": 56, \"num_competitive\": 56, \"pct_trips_competitive\": 1.0, \"bus_difference_spread\": 11.399999999999999, \"route_group\": \"short\", \"max_trip_hrs\": 0.52, \"max_trip_route_group\": 0.52, \"below_cutoff\": 56, \"pct_below_cutoff\": 1.0, \"name\": \"City of Simi Valley\", \"caltrans_district\": \"07 - Los Angeles\", \"drmt_organization_name\": null, \"route_name\": \"30\", \"cutoff2\": 20, \"cutoff\": 0}, {\"calitp_itp_id\": 308, \"trip_key\": 1535253645783132569, \"trip_id\": \"t_943122_b_24359_tn_0\", \"shape_id\": \"p_898187\", \"route_id\": \"15206\", \"service_hours\": 0.5, \"trip_first_departure_ts\": 48600, \"trip_last_arrival_ts\": 50400, \"departure_hour\": 13, \"time_of_day\": \"Midday\", \"p25\": 0.33, \"p50\": 0.41500000000000004, \"p75\": 0.5, \"p50_trip\": 1, \"fastest_trip\": 0, \"car_duration_hours\": 0.3, \"competitive_route\": 1, \"bus_multiplier\": 1.67, \"bus_difference\": 12.0, \"num_trips\": 56, \"num_competitive\": 56, \"pct_trips_competitive\": 1.0, \"bus_difference_spread\": 11.399999999999999, \"route_group\": \"short\", \"max_trip_hrs\": 0.52, \"max_trip_route_group\": 0.52, \"below_cutoff\": 56, \"pct_below_cutoff\": 1.0, \"name\": \"City of Simi Valley\", \"caltrans_district\": \"07 - Los Angeles\", \"drmt_organization_name\": null, \"route_name\": \"30\", \"cutoff2\": 20, \"cutoff\": 0}, {\"calitp_itp_id\": 308, \"trip_key\": -5427913516834419101, \"trip_id\": \"t_943127_b_24359_tn_0\", \"shape_id\": \"p_898187\", \"route_id\": \"15206\", \"service_hours\": 0.5, \"trip_first_departure_ts\": 57600, \"trip_last_arrival_ts\": 59400, \"departure_hour\": 16, \"time_of_day\": \"Midday\", \"p25\": 0.33, \"p50\": 0.41500000000000004, \"p75\": 0.5, \"p50_trip\": 1, \"fastest_trip\": 0, \"car_duration_hours\": 0.3, \"competitive_route\": 1, \"bus_multiplier\": 1.67, \"bus_difference\": 12.0, \"num_trips\": 56, \"num_competitive\": 56, \"pct_trips_competitive\": 1.0, \"bus_difference_spread\": 11.399999999999999, \"route_group\": \"short\", \"max_trip_hrs\": 0.52, \"max_trip_route_group\": 0.52, \"below_cutoff\": 56, \"pct_below_cutoff\": 1.0, \"name\": \"City of Simi Valley\", \"caltrans_district\": \"07 - Los Angeles\", \"drmt_organization_name\": null, \"route_name\": \"30\", \"cutoff2\": 20, \"cutoff\": 0}, {\"calitp_itp_id\": 308, \"trip_key\": -6584515016194492990, \"trip_id\": \"t_943110_b_24359_tn_0\", \"shape_id\": \"p_898187\", \"route_id\": \"15206\", \"service_hours\": 0.5, \"trip_first_departure_ts\": 27000, \"trip_last_arrival_ts\": 28800, \"departure_hour\": 7, \"time_of_day\": \"AM Peak\", \"p25\": 0.33, \"p50\": 0.41500000000000004, \"p75\": 0.5, \"p50_trip\": 1, \"fastest_trip\": 0, \"car_duration_hours\": 0.3, \"competitive_route\": 1, \"bus_multiplier\": 1.67, \"bus_difference\": 12.0, \"num_trips\": 56, \"num_competitive\": 56, \"pct_trips_competitive\": 1.0, \"bus_difference_spread\": 11.399999999999999, \"route_group\": \"short\", \"max_trip_hrs\": 0.52, \"max_trip_route_group\": 0.52, \"below_cutoff\": 56, \"pct_below_cutoff\": 1.0, \"name\": \"City of Simi Valley\", \"caltrans_district\": \"07 - Los Angeles\", \"drmt_organization_name\": null, \"route_name\": \"30\", \"cutoff2\": 20, \"cutoff\": 0}, {\"calitp_itp_id\": 308, \"trip_key\": -7054588329911308985, \"trip_id\": \"t_943118_b_24359_tn_0\", \"shape_id\": \"p_898187\", \"route_id\": \"15206\", \"service_hours\": 0.5, \"trip_first_departure_ts\": 41400, \"trip_last_arrival_ts\": 43200, \"departure_hour\": 11, \"time_of_day\": \"Midday\", \"p25\": 0.33, \"p50\": 0.41500000000000004, \"p75\": 0.5, \"p50_trip\": 1, \"fastest_trip\": 0, \"car_duration_hours\": 0.3, \"competitive_route\": 1, \"bus_multiplier\": 1.67, \"bus_difference\": 12.0, \"num_trips\": 56, \"num_competitive\": 56, \"pct_trips_competitive\": 1.0, \"bus_difference_spread\": 11.399999999999999, \"route_group\": \"short\", \"max_trip_hrs\": 0.52, \"max_trip_route_group\": 0.52, \"below_cutoff\": 56, \"pct_below_cutoff\": 1.0, \"name\": \"City of Simi Valley\", \"caltrans_district\": \"07 - Los Angeles\", \"drmt_organization_name\": null, \"route_name\": \"30\", \"cutoff2\": 20, \"cutoff\": 0}, {\"calitp_itp_id\": 308, \"trip_key\": -5665756668728020039, \"trip_id\": \"t_943116_b_24359_tn_0\", \"shape_id\": \"p_898187\", \"route_id\": \"15206\", \"service_hours\": 0.5, \"trip_first_departure_ts\": 37800, \"trip_last_arrival_ts\": 39600, \"departure_hour\": 10, \"time_of_day\": \"Midday\", \"p25\": 0.33, \"p50\": 0.41500000000000004, \"p75\": 0.5, \"p50_trip\": 1, \"fastest_trip\": 0, \"car_duration_hours\": 0.3, \"competitive_route\": 1, \"bus_multiplier\": 1.67, \"bus_difference\": 12.0, \"num_trips\": 56, \"num_competitive\": 56, \"pct_trips_competitive\": 1.0, \"bus_difference_spread\": 11.399999999999999, \"route_group\": \"short\", \"max_trip_hrs\": 0.52, \"max_trip_route_group\": 0.52, \"below_cutoff\": 56, \"pct_below_cutoff\": 1.0, \"name\": \"City of Simi Valley\", \"caltrans_district\": \"07 - Los Angeles\", \"drmt_organization_name\": null, \"route_name\": \"30\", \"cutoff2\": 20, \"cutoff\": 0}, {\"calitp_itp_id\": 308, \"trip_key\": 5576393918378021629, \"trip_id\": \"t_943131_b_24359_tn_0\", \"shape_id\": \"p_898187\", \"route_id\": \"15206\", \"service_hours\": 0.52, \"trip_first_departure_ts\": 64800, \"trip_last_arrival_ts\": 66660, \"departure_hour\": 18, \"time_of_day\": \"PM Peak\", \"p25\": 0.33, \"p50\": 0.41500000000000004, \"p75\": 0.5, \"p50_trip\": 0, \"fastest_trip\": 0, \"car_duration_hours\": 0.3, \"competitive_route\": 1, \"bus_multiplier\": 1.73, \"bus_difference\": 13.2, \"num_trips\": 56, \"num_competitive\": 56, \"pct_trips_competitive\": 1.0, \"bus_difference_spread\": 11.399999999999999, \"route_group\": \"short\", \"max_trip_hrs\": 0.52, \"max_trip_route_group\": 0.52, \"below_cutoff\": 56, \"pct_below_cutoff\": 1.0, \"name\": \"City of Simi Valley\", \"caltrans_district\": \"07 - Los Angeles\", \"drmt_organization_name\": null, \"route_name\": \"30\", \"cutoff2\": 20, \"cutoff\": 0}, {\"calitp_itp_id\": 308, \"trip_key\": 4175715694418941445, \"trip_id\": \"t_943132_b_24359_tn_0\", \"shape_id\": \"p_898187\", \"route_id\": \"15206\", \"service_hours\": 0.52, \"trip_first_departure_ts\": 66600, \"trip_last_arrival_ts\": 68460, \"departure_hour\": 18, \"time_of_day\": \"PM Peak\", \"p25\": 0.33, \"p50\": 0.41500000000000004, \"p75\": 0.5, \"p50_trip\": 0, \"fastest_trip\": 0, \"car_duration_hours\": 0.3, \"competitive_route\": 1, \"bus_multiplier\": 1.73, \"bus_difference\": 13.2, \"num_trips\": 56, \"num_competitive\": 56, \"pct_trips_competitive\": 1.0, \"bus_difference_spread\": 11.399999999999999, \"route_group\": \"short\", \"max_trip_hrs\": 0.52, \"max_trip_route_group\": 0.52, \"below_cutoff\": 56, \"pct_below_cutoff\": 1.0, \"name\": \"City of Simi Valley\", \"caltrans_district\": \"07 - Los Angeles\", \"drmt_organization_name\": null, \"route_name\": \"30\", \"cutoff2\": 20, \"cutoff\": 0}, {\"calitp_itp_id\": 308, \"trip_key\": 5919046552257188394, \"trip_id\": \"t_943133_b_24359_tn_0\", \"shape_id\": \"p_898187\", \"route_id\": \"15206\", \"service_hours\": 0.52, \"trip_first_departure_ts\": 68460, \"trip_last_arrival_ts\": 70320, \"departure_hour\": 19, \"time_of_day\": \"PM Peak\", \"p25\": 0.33, \"p50\": 0.41500000000000004, \"p75\": 0.5, \"p50_trip\": 0, \"fastest_trip\": 0, \"car_duration_hours\": 0.3, \"competitive_route\": 1, \"bus_multiplier\": 1.73, \"bus_difference\": 13.2, \"num_trips\": 56, \"num_competitive\": 56, \"pct_trips_competitive\": 1.0, \"bus_difference_spread\": 11.399999999999999, \"route_group\": \"short\", \"max_trip_hrs\": 0.52, \"max_trip_route_group\": 0.52, \"below_cutoff\": 56, \"pct_below_cutoff\": 1.0, \"name\": \"City of Simi Valley\", \"caltrans_district\": \"07 - Los Angeles\", \"drmt_organization_name\": null, \"route_name\": \"30\", \"cutoff2\": 20, \"cutoff\": 0}]}}, {\"mode\": \"vega-lite\"});\n",
       "</script>"
      ],
      "text/plain": [
       "alt.FacetChart(...)"
      ]
     },
     "metadata": {},
     "output_type": "display_data"
    },
    {
     "data": {
      "text/html": [
       "<h4>Route Stats</h4>"
      ],
      "text/plain": [
       "<IPython.core.display.HTML object>"
      ]
     },
     "metadata": {},
     "output_type": "display_data"
    },
    {
     "data": {
      "text/html": [
       "<style type=\"text/css\">\n",
       "#T_6c2e1 th {\n",
       "  text-align: center;\n",
       "}\n",
       "#T_6c2e1_row0_col0, #T_6c2e1_row0_col1 {\n",
       "  text-align: left;\n",
       "}\n",
       "#T_6c2e1_row0_col2, #T_6c2e1_row0_col3, #T_6c2e1_row0_col5 {\n",
       "  text-align: center;\n",
       "}\n",
       "</style>\n",
       "<table id=\"T_6c2e1\">\n",
       "  <thead>\n",
       "    <tr>\n",
       "      <th id=\"T_6c2e1_level0_col0\" class=\"col_heading level0 col0\" >Route ID</th>\n",
       "      <th id=\"T_6c2e1_level0_col1\" class=\"col_heading level0 col1\" >Route Name</th>\n",
       "      <th id=\"T_6c2e1_level0_col2\" class=\"col_heading level0 col2\" ># trips</th>\n",
       "      <th id=\"T_6c2e1_level0_col3\" class=\"col_heading level0 col3\" >Daily Avg Freq (trips per hr)</th>\n",
       "      <th id=\"T_6c2e1_level0_col4\" class=\"col_heading level0 col4\" >25th, 50th, 75th ptile (hrs)</th>\n",
       "      <th id=\"T_6c2e1_level0_col5\" class=\"col_heading level0 col5\" >PM Peak Avg Freq (trips per hr)</th>\n",
       "    </tr>\n",
       "  </thead>\n",
       "  <tbody>\n",
       "    <tr>\n",
       "      <td id=\"T_6c2e1_row0_col0\" class=\"data row0 col0\" >15206</td>\n",
       "      <td id=\"T_6c2e1_row0_col1\" class=\"data row0 col1\" >30</td>\n",
       "      <td id=\"T_6c2e1_row0_col2\" class=\"data row0 col2\" >56</td>\n",
       "      <td id=\"T_6c2e1_row0_col3\" class=\"data row0 col3\" >2.33</td>\n",
       "      <td id=\"T_6c2e1_row0_col4\" class=\"data row0 col4\" >0.33, 0.42, 0.5</td>\n",
       "      <td id=\"T_6c2e1_row0_col5\" class=\"data row0 col5\" >3.67</td>\n",
       "    </tr>\n",
       "  </tbody>\n",
       "</table>\n"
      ],
      "text/plain": [
       "<IPython.core.display.HTML object>"
      ]
     },
     "metadata": {},
     "output_type": "display_data"
    }
   ],
   "source": [
    "# Allow for possibility that operator doesn't have routes that fall into certain route_groups\n",
    "# But, jupyterbook will not like markdown with f-string\n",
    "# separate out route_group and put in each cell, and use try/except + if to display...\n",
    "# but all 3 route groups must be displayed. just add sentence about why no routes were returned at the end\n",
    "route_group = \"short\"\n",
    "try:\n",
    "    display_charts_for_route_group(df, route_group)\n",
    "except:\n",
    "    print(\"No routes meet this criteria.\")"
   ]
  },
  {
   "cell_type": "markdown",
   "id": "c2931b6f-034d-4384-9e14-80b925e3b820",
   "metadata": {
    "papermill": {
     "duration": 0.029223,
     "end_time": "2022-05-12T19:42:52.523013",
     "exception": false,
     "start_time": "2022-05-12T19:42:52.493790",
     "status": "completed"
    },
    "tags": []
   },
   "source": [
    "### Medium Routes (1-1.5 hrs)"
   ]
  },
  {
   "cell_type": "code",
   "execution_count": 15,
   "id": "480edddc-4de0-48c2-ae4c-b0ceef8f28b5",
   "metadata": {
    "execution": {
     "iopub.execute_input": "2022-05-12T19:42:52.563657Z",
     "iopub.status.busy": "2022-05-12T19:42:52.563192Z",
     "iopub.status.idle": "2022-05-12T19:42:52.575342Z",
     "shell.execute_reply": "2022-05-12T19:42:52.573653Z"
    },
    "jupyter": {
     "source_hidden": true
    },
    "papermill": {
     "duration": 0.034572,
     "end_time": "2022-05-12T19:42:52.577196",
     "exception": false,
     "start_time": "2022-05-12T19:42:52.542624",
     "status": "completed"
    },
    "tags": [
     "remove_input"
    ]
   },
   "outputs": [
    {
     "name": "stdout",
     "output_type": "stream",
     "text": [
      "No routes meet this criteria.\n"
     ]
    }
   ],
   "source": [
    "route_group = \"medium\"\n",
    "try:\n",
    "    display_charts_for_route_group(df, route_group)\n",
    "except:\n",
    "    print(\"No routes meet this criteria.\")"
   ]
  },
  {
   "cell_type": "markdown",
   "id": "124b76d0-886c-4d03-92ac-f1bda3cda182",
   "metadata": {
    "papermill": {
     "duration": 0.018745,
     "end_time": "2022-05-12T19:42:52.618496",
     "exception": false,
     "start_time": "2022-05-12T19:42:52.599751",
     "status": "completed"
    },
    "tags": []
   },
   "source": [
    "### Long Routes (> 1.5 hrs)"
   ]
  },
  {
   "cell_type": "code",
   "execution_count": 16,
   "id": "ddc81b19-4c45-4c81-8b7a-5e0f394aa7a3",
   "metadata": {
    "execution": {
     "iopub.execute_input": "2022-05-12T19:42:52.656764Z",
     "iopub.status.busy": "2022-05-12T19:42:52.656251Z",
     "iopub.status.idle": "2022-05-12T19:42:52.667657Z",
     "shell.execute_reply": "2022-05-12T19:42:52.667000Z"
    },
    "jupyter": {
     "source_hidden": true
    },
    "papermill": {
     "duration": 0.032818,
     "end_time": "2022-05-12T19:42:52.669359",
     "exception": false,
     "start_time": "2022-05-12T19:42:52.636541",
     "status": "completed"
    },
    "tags": [
     "remove_input"
    ]
   },
   "outputs": [
    {
     "name": "stdout",
     "output_type": "stream",
     "text": [
      "No routes meet this criteria.\n"
     ]
    }
   ],
   "source": [
    "route_group = \"long\"\n",
    "try:\n",
    "    display_charts_for_route_group(df, route_group)\n",
    "except:\n",
    "    print(\"No routes meet this criteria.\")"
   ]
  },
  {
   "cell_type": "markdown",
   "id": "ace75b5f-0442-4fbe-aebd-6c3a13ae13a7",
   "metadata": {
    "papermill": {
     "duration": 0.01877,
     "end_time": "2022-05-12T19:42:52.711349",
     "exception": false,
     "start_time": "2022-05-12T19:42:52.692579",
     "status": "completed"
    },
    "tags": []
   },
   "source": [
    "### GTFS Real-Time Speedmaps"
   ]
  },
  {
   "cell_type": "code",
   "execution_count": 17,
   "id": "a0a114a1-e975-4027-9daf-50029f5ef59f",
   "metadata": {
    "execution": {
     "iopub.execute_input": "2022-05-12T19:42:52.751119Z",
     "iopub.status.busy": "2022-05-12T19:42:52.750626Z",
     "iopub.status.idle": "2022-05-12T19:42:52.771577Z",
     "shell.execute_reply": "2022-05-12T19:42:52.770872Z"
    },
    "jupyter": {
     "source_hidden": true
    },
    "papermill": {
     "duration": 0.042537,
     "end_time": "2022-05-12T19:42:52.773463",
     "exception": false,
     "start_time": "2022-05-12T19:42:52.730926",
     "status": "completed"
    },
    "tags": [
     "remove_input"
    ]
   },
   "outputs": [
    {
     "data": {
      "text/html": [
       "No GTFS RT data available."
      ],
      "text/plain": [
       "<IPython.core.display.HTML object>"
      ]
     },
     "metadata": {},
     "output_type": "display_data"
    }
   ],
   "source": [
    "RT_SITE_YAML = \"../portfolio/sites/rt.yml\"\n",
    "\n",
    "# Grab list of ITP IDs with GTFS RT speedmaps\n",
    "rt_itp_id = deploy_portfolio_yaml.check_if_rt_data_available(RT_SITE_YAML)\n",
    "\n",
    "# Construct the URL \n",
    "RT_URL = (\"https://analysis.calitp.org/rt/\"\n",
    "          f\"district_{district_number}-{district_name}/\"\n",
    "          f\"speedmaps__itp_id_{itp_id}.html\"\n",
    "         ) \n",
    "\n",
    "# If this ITP ID is found in RT analysis, give URL to that operator in analysis.calitp.org\n",
    "if itp_id in rt_itp_id:\n",
    "    display(HTML(f'''<a href={RT_URL}>GTFS RT speedmaps here.</a>'''))\n",
    "\n",
    "else:\n",
    "    display(HTML(\"No GTFS RT data available.\"))"
   ]
  },
  {
   "cell_type": "code",
   "execution_count": null,
   "id": "5b680565-2230-4f2e-817c-718fad48d64c",
   "metadata": {
    "jupyter": {
     "source_hidden": true
    },
    "papermill": {
     "duration": 0.02087,
     "end_time": "2022-05-12T19:42:52.820661",
     "exception": false,
     "start_time": "2022-05-12T19:42:52.799791",
     "status": "completed"
    },
    "tags": [
     "remove_input"
    ]
   },
   "outputs": [],
   "source": []
  }
 ],
 "metadata": {
  "kernelspec": {
   "display_name": "Python 3 (ipykernel)",
   "language": "python",
   "name": "python3"
  },
  "language_info": {
   "codemirror_mode": {
    "name": "ipython",
    "version": 3
   },
   "file_extension": ".py",
   "mimetype": "text/x-python",
   "name": "python",
   "nbconvert_exporter": "python",
   "pygments_lexer": "ipython3",
   "version": "3.9.12"
  },
  "papermill": {
   "default_parameters": {},
   "duration": 23.32767,
   "end_time": "2022-05-12T19:42:53.962177",
   "environment_variables": {},
   "exception": null,
   "input_path": "bus_service_increase/competitive-parallel-routes.ipynb",
   "output_path": "portfolio/parallel_corridors/district_07-los-angeles/35__competitive-parallel-routes__district_07-los-angeles__itp_id_308.ipynb",
   "parameters": {
    "district": "07 - Los Angeles",
    "itp_id": 308
   },
   "start_time": "2022-05-12T19:42:30.634507",
   "version": "2.3.4"
  }
 },
 "nbformat": 4,
 "nbformat_minor": 5
}