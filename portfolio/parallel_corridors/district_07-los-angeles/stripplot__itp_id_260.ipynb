{
 "cells": [
  {
   "cell_type": "code",
   "execution_count": 1,
   "id": "95d00857-6a20-4529-a519-2cc7182928a9",
   "metadata": {
    "execution": {
     "iopub.execute_input": "2022-05-07T17:23:35.443049Z",
     "iopub.status.busy": "2022-05-07T17:23:35.442734Z",
     "iopub.status.idle": "2022-05-07T17:23:43.545577Z",
     "shell.execute_reply": "2022-05-07T17:23:43.544670Z"
    },
    "jupyter": {
     "source_hidden": true
    },
    "papermill": {
     "duration": 8.11699,
     "end_time": "2022-05-07T17:23:43.547871",
     "exception": false,
     "start_time": "2022-05-07T17:23:35.430881",
     "status": "completed"
    },
    "tags": [
     "remove_input"
    ]
   },
   "outputs": [],
   "source": [
    "%%capture\n",
    "import warnings\n",
    "warnings.filterwarnings('ignore')\n",
    "\n",
    "import altair as alt\n",
    "import calitp.magics\n",
    "import geopandas as gpd\n",
    "import intake\n",
    "import pandas as pd\n",
    "\n",
    "from IPython.display import display, Markdown, HTML\n",
    "\n",
    "import parallel_corridors_utils\n",
    "from shared_utils import styleguide\n",
    "\n",
    "catalog = intake.open_catalog(\"./*.yml\")\n",
    "alt.renderers.enable(\"html\")"
   ]
  },
  {
   "cell_type": "code",
   "execution_count": 2,
   "id": "8af2a0c1-f3da-408d-9bea-11d9fbf8695d",
   "metadata": {
    "execution": {
     "iopub.execute_input": "2022-05-07T17:23:43.569501Z",
     "iopub.status.busy": "2022-05-07T17:23:43.569237Z",
     "iopub.status.idle": "2022-05-07T17:23:43.572603Z",
     "shell.execute_reply": "2022-05-07T17:23:43.571873Z"
    },
    "jupyter": {
     "source_hidden": true
    },
    "papermill": {
     "duration": 0.01602,
     "end_time": "2022-05-07T17:23:43.574324",
     "exception": false,
     "start_time": "2022-05-07T17:23:43.558304",
     "status": "completed"
    },
    "tags": [
     "parameters",
     "remove_input"
    ]
   },
   "outputs": [],
   "source": [
    "# parameters cell\n",
    "itp_id = 182"
   ]
  },
  {
   "cell_type": "code",
   "execution_count": 3,
   "id": "293b0722",
   "metadata": {
    "execution": {
     "iopub.execute_input": "2022-05-07T17:23:43.595062Z",
     "iopub.status.busy": "2022-05-07T17:23:43.594296Z",
     "iopub.status.idle": "2022-05-07T17:23:43.598377Z",
     "shell.execute_reply": "2022-05-07T17:23:43.597833Z"
    },
    "jupyter": {
     "source_hidden": true
    },
    "papermill": {
     "duration": 0.016422,
     "end_time": "2022-05-07T17:23:43.600056",
     "exception": false,
     "start_time": "2022-05-07T17:23:43.583634",
     "status": "completed"
    },
    "tags": [
     "injected-parameters",
     "remove_input"
    ]
   },
   "outputs": [],
   "source": [
    "# Parameters\n",
    "district = \"07 - Los Angeles\"\n",
    "itp_id = 260\n"
   ]
  },
  {
   "cell_type": "code",
   "execution_count": 4,
   "id": "9582aaf4-79ff-412a-b248-8d8d693ebd4f",
   "metadata": {
    "execution": {
     "iopub.execute_input": "2022-05-07T17:23:43.626827Z",
     "iopub.status.busy": "2022-05-07T17:23:43.626310Z",
     "iopub.status.idle": "2022-05-07T17:23:44.817884Z",
     "shell.execute_reply": "2022-05-07T17:23:44.816955Z"
    },
    "jupyter": {
     "source_hidden": true
    },
    "papermill": {
     "duration": 1.205365,
     "end_time": "2022-05-07T17:23:44.820376",
     "exception": false,
     "start_time": "2022-05-07T17:23:43.615011",
     "status": "completed"
    },
    "tags": [
     "remove_input"
    ]
   },
   "outputs": [],
   "source": [
    "df = catalog.competitive_route_variability.read()\n",
    "\n",
    "df = (df[(df.calitp_itp_id == itp_id) & \n",
    "         (df.route_group.notna())]\n",
    "      .reset_index(drop=True)\n",
    "     )\n",
    "\n",
    "\n",
    "if itp_id == 182:\n",
    "    df = df.assign(\n",
    "        route_id = df.route_id.str.replace('-13153', '').astype(int)\n",
    "    )"
   ]
  },
  {
   "cell_type": "code",
   "execution_count": 5,
   "id": "33ac4b06-f647-4dce-a625-8f2c1b37cc60",
   "metadata": {
    "execution": {
     "iopub.execute_input": "2022-05-07T17:23:44.842195Z",
     "iopub.status.busy": "2022-05-07T17:23:44.841946Z",
     "iopub.status.idle": "2022-05-07T17:23:44.848925Z",
     "shell.execute_reply": "2022-05-07T17:23:44.848433Z"
    },
    "jupyter": {
     "source_hidden": true
    },
    "papermill": {
     "duration": 0.019735,
     "end_time": "2022-05-07T17:23:44.850516",
     "exception": false,
     "start_time": "2022-05-07T17:23:44.830781",
     "status": "completed"
    },
    "tags": [
     "remove_input"
    ]
   },
   "outputs": [],
   "source": [
    "%%capture_parameters\n",
    "operator_name = df.name.iloc[0]\n",
    "\n",
    "itp_id, operator_name"
   ]
  },
  {
   "cell_type": "markdown",
   "id": "65bc6f5c-8348-42ee-b2dd-52057c406852",
   "metadata": {
    "papermill": {
     "duration": 0.009754,
     "end_time": "2022-05-07T17:23:44.870077",
     "exception": false,
     "start_time": "2022-05-07T17:23:44.860323",
     "status": "completed"
    },
    "tags": []
   },
   "source": [
    "# City of Redondo Beach (ITP ID: 260)"
   ]
  },
  {
   "cell_type": "code",
   "execution_count": 6,
   "id": "a689c1ab-2c6c-4831-8d64-897f5986f571",
   "metadata": {
    "execution": {
     "iopub.execute_input": "2022-05-07T17:23:44.891801Z",
     "iopub.status.busy": "2022-05-07T17:23:44.891244Z",
     "iopub.status.idle": "2022-05-07T17:23:44.896924Z",
     "shell.execute_reply": "2022-05-07T17:23:44.896411Z"
    },
    "jupyter": {
     "source_hidden": true
    },
    "papermill": {
     "duration": 0.018666,
     "end_time": "2022-05-07T17:23:44.898529",
     "exception": false,
     "start_time": "2022-05-07T17:23:44.879863",
     "status": "completed"
    },
    "tags": [
     "remove_input"
    ]
   },
   "outputs": [
    {
     "data": {
      "text/html": [
       "<h1>Competitive & Parallel Routes</h1>"
      ],
      "text/plain": [
       "<IPython.core.display.HTML object>"
      ]
     },
     "metadata": {},
     "output_type": "display_data"
    }
   ],
   "source": [
    "display(HTML(\"<h1>Competitive & Parallel Routes</h1>\")) "
   ]
  },
  {
   "cell_type": "code",
   "execution_count": 7,
   "id": "2cb4d8d5-4760-40e4-85b1-cb833d8bb648",
   "metadata": {
    "execution": {
     "iopub.execute_input": "2022-05-07T17:23:44.930871Z",
     "iopub.status.busy": "2022-05-07T17:23:44.930362Z",
     "iopub.status.idle": "2022-05-07T17:23:54.958318Z",
     "shell.execute_reply": "2022-05-07T17:23:54.957373Z"
    },
    "jupyter": {
     "source_hidden": true
    },
    "papermill": {
     "duration": 10.042714,
     "end_time": "2022-05-07T17:23:54.960830",
     "exception": false,
     "start_time": "2022-05-07T17:23:44.918116",
     "status": "completed"
    },
    "tags": [
     "remove_input"
    ]
   },
   "outputs": [],
   "source": [
    "# Grab parameters for narrative text - clean up formatting here \n",
    "district = df.caltrans_district.iloc[0]\n",
    "formatted_date = pd.to_datetime(parallel_corridors_utils.SELECTED_DATE).strftime('%m-%d-%Y')\n",
    "\n",
    "PCT_COMPETITIVE_THRESHOLD = 0.75\n",
    "\n",
    "stats = parallel_corridors_utils.operator_parallel_competitive_stats(\n",
    "    itp_id, PCT_COMPETITIVE_THRESHOLD)\n",
    "\n",
    "pct_parallel = round(stats['parallel_routes'] / stats['num_routes'] * 100,1 )\n",
    "pct_competitive =  round(stats['competitive_routes'] / stats['num_routes'] * 100,1 )"
   ]
  },
  {
   "cell_type": "markdown",
   "id": "ab667928-5274-4490-82d9-4c39293209a4",
   "metadata": {
    "papermill": {
     "duration": 0.01062,
     "end_time": "2022-05-07T17:23:54.982597",
     "exception": false,
     "start_time": "2022-05-07T17:23:54.971977",
     "status": "completed"
    },
    "tags": []
   },
   "source": [
    "## Quick Stats"
   ]
  },
  {
   "cell_type": "code",
   "execution_count": 8,
   "id": "0416509d-dc62-4165-b62e-64f8b26e8b8e",
   "metadata": {
    "execution": {
     "iopub.execute_input": "2022-05-07T17:23:55.005450Z",
     "iopub.status.busy": "2022-05-07T17:23:55.005176Z",
     "iopub.status.idle": "2022-05-07T17:23:55.013323Z",
     "shell.execute_reply": "2022-05-07T17:23:55.012566Z"
    },
    "jupyter": {
     "source_hidden": true
    },
    "papermill": {
     "duration": 0.022518,
     "end_time": "2022-05-07T17:23:55.015674",
     "exception": false,
     "start_time": "2022-05-07T17:23:54.993156",
     "status": "completed"
    },
    "tags": [
     "remove_input"
    ]
   },
   "outputs": [
    {
     "data": {
      "text/markdown": [
       "**Bus routes in service**: 4 <br>**Parallel routes** to State Highway Network (SHN): 4 routes (100.0%)<br>**Competitive routes** against car travel: 3 routes (75.0%)"
      ],
      "text/plain": [
       "<IPython.core.display.Markdown object>"
      ]
     },
     "metadata": {},
     "output_type": "display_data"
    }
   ],
   "source": [
    "display(\n",
    "    Markdown(\n",
    "        f\"**Bus routes in service**: {stats['num_routes']} \"\n",
    "        \"<br>**Parallel routes** to State Highway Network (SHN): \"\n",
    "        f\"{stats['parallel_routes']} routes ({pct_parallel}%)\"\n",
    "        f\"<br>**Competitive routes** against car travel: {stats['competitive_routes']} routes ({pct_competitive}%)\"\n",
    "    )\n",
    ")"
   ]
  },
  {
   "cell_type": "code",
   "execution_count": 9,
   "id": "f9d6ab58-f0ee-460c-b6de-657490e1f386",
   "metadata": {
    "execution": {
     "iopub.execute_input": "2022-05-07T17:23:55.039913Z",
     "iopub.status.busy": "2022-05-07T17:23:55.039673Z",
     "iopub.status.idle": "2022-05-07T17:23:55.048465Z",
     "shell.execute_reply": "2022-05-07T17:23:55.047664Z"
    },
    "jupyter": {
     "source_hidden": true
    },
    "papermill": {
     "duration": 0.022802,
     "end_time": "2022-05-07T17:23:55.050234",
     "exception": false,
     "start_time": "2022-05-07T17:23:55.027432",
     "status": "completed"
    },
    "tags": [
     "remove_input"
    ]
   },
   "outputs": [],
   "source": [
    "def set_yaxis_range(df, y_col):\n",
    "    Y_MIN = df[y_col].min()\n",
    "    Y_MAX = df[y_col].max()\n",
    "    \n",
    "    return Y_MIN, Y_MAX\n",
    "\n",
    "# Rather than set it according to the operator, which can vary,\n",
    "# just use set thresholds for each group\n",
    "diff_cutoffs = {\n",
    "    \"short\": 20,\n",
    "    \"medium\": 30,\n",
    "    \"long\": 40,\n",
    "}\n",
    "\n",
    "PCT_TRIPS_BELOW_CUTOFF = 0.25\n",
    "\n",
    "def top15_routes(df, route_group):\n",
    "    df2 = (df[df.route_group==route_group])\n",
    "    # Set a cut-off to enable sorting, where most of the trips are \n",
    "    # below a certain time difference cut-off, \n",
    "    # grab top 15 routes where majority of trips are below that cut-off \n",
    "\n",
    "    route_cols = [\"calitp_itp_id\", \"route_id\"]\n",
    "\n",
    "    df2 = df2.assign(\n",
    "        below_cutoff = df2.apply(lambda x: 1 if x.bus_difference <= diff_cutoffs[route_group] \n",
    "                                 else 0, axis=1),\n",
    "        num_trips = df2.groupby(route_cols)[\"trip_id\"].transform(\"count\")\n",
    "    )\n",
    "\n",
    "    df2[\"below_cutoff\"] = df2.groupby(route_cols)[\"below_cutoff\"].transform(\"sum\")\n",
    "    df2[\"pct_below_cutoff\"] = df2.below_cutoff.divide(df2.num_trips)\n",
    "\n",
    "    # At least half the trips are below that cut-off\n",
    "    # but show 15 max, otherwise, show less, since these won't be as interesting to operators\n",
    "    df3 = (df2[df2.pct_below_cutoff >= PCT_TRIPS_BELOW_CUTOFF]\n",
    "           .sort_values([\"calitp_itp_id\", \"below_cutoff\", \n",
    "                         \"pct_below_cutoff\", \"route_id\"],\n",
    "                        ascending = [True, False, False, True]\n",
    "                       )\n",
    "           .drop_duplicates(subset=[\"calitp_itp_id\", \"route_id\"])\n",
    "          ).head(15)\n",
    "    \n",
    "    return list(df3.route_id)"
   ]
  },
  {
   "cell_type": "code",
   "execution_count": 10,
   "id": "cf36d559-3349-4144-8086-8ac9ce937a5a",
   "metadata": {
    "execution": {
     "iopub.execute_input": "2022-05-07T17:23:55.074136Z",
     "iopub.status.busy": "2022-05-07T17:23:55.073656Z",
     "iopub.status.idle": "2022-05-07T17:23:55.079370Z",
     "shell.execute_reply": "2022-05-07T17:23:55.078642Z"
    },
    "jupyter": {
     "source_hidden": true
    },
    "papermill": {
     "duration": 0.019983,
     "end_time": "2022-05-07T17:23:55.081262",
     "exception": false,
     "start_time": "2022-05-07T17:23:55.061279",
     "status": "completed"
    },
    "tags": [
     "remove_input"
    ]
   },
   "outputs": [],
   "source": [
    "short_caption = (\n",
    "    f\"<br>These are routes that have at least {int(PCT_TRIPS_BELOW_CUTOFF*100)}% of their trips \"\n",
    "    f\"take no more than an additional {diff_cutoffs['short']} min compared to a car \"\n",
    "    \"(up to 15 routes) are shown.\"\n",
    ")\n",
    "\n",
    "med_caption = (\n",
    "    f\"<br>These are routes that have at least {int(PCT_TRIPS_BELOW_CUTOFF*100)}% of their trips \"\n",
    "    f\"take no more than an additional {diff_cutoffs['medium']} min compared to a car \"\n",
    "    \"(up to 15 routes) are shown.\"\n",
    ")\n",
    "\n",
    "long_caption = (\n",
    "    f\"<br>These are routes that have at least {int(PCT_TRIPS_BELOW_CUTOFF*100)}% of their trips \"\n",
    "    f\"take no more than an additional {diff_cutoffs['long']} min compared to a car \"\n",
    "    \"(up to 15 routes) are shown.\")\n",
    "\n",
    "\n",
    "CAPTIONS_DICT = {\n",
    "    \"short\": short_caption,\n",
    "    \"medium\": med_caption,\n",
    "    \"long\": long_caption,\n",
    "}"
   ]
  },
  {
   "cell_type": "code",
   "execution_count": 11,
   "id": "e4306d58-6944-47e9-afef-5d5b524c751f",
   "metadata": {
    "execution": {
     "iopub.execute_input": "2022-05-07T17:23:55.111166Z",
     "iopub.status.busy": "2022-05-07T17:23:55.110892Z",
     "iopub.status.idle": "2022-05-07T17:23:55.118440Z",
     "shell.execute_reply": "2022-05-07T17:23:55.117748Z"
    },
    "jupyter": {
     "source_hidden": true
    },
    "papermill": {
     "duration": 0.027519,
     "end_time": "2022-05-07T17:23:55.120379",
     "exception": false,
     "start_time": "2022-05-07T17:23:55.092860",
     "status": "completed"
    },
    "tags": [
     "remove_input"
    ]
   },
   "outputs": [],
   "source": [
    "def setup_charts(df, PCT_COMPETITIVE_THRESHOLD, route_group):\n",
    "    # Set up df for charting (cut-off at some threshold to show most competitive routes)\n",
    "    plot_me = (df[df.pct_trips_competitive > PCT_COMPETITIVE_THRESHOLD]\n",
    "           .drop(columns = \"geometry\")\n",
    "    )\n",
    "    \n",
    "    y_col1 = \"bus_multiplier\"\n",
    "    Y_MIN1, Y_MAX1 = set_yaxis_range(plot_me, y_col1)\n",
    "\n",
    "    y_col2 = \"bus_difference\"\n",
    "    Y_MIN2, Y_MAX2 = set_yaxis_range(plot_me, y_col2)\n",
    "     \n",
    "    subset_routes = top15_routes(plot_me, route_group)\n",
    "    \n",
    "    multiplier_chart = parallel_corridors_utils.make_stripplot(\n",
    "        plot_me[plot_me.route_id.isin(subset_routes)], \n",
    "        y_col1, Y_MIN = Y_MIN1, Y_MAX = Y_MAX1\n",
    "    )\n",
    "    \n",
    "    difference_chart = parallel_corridors_utils.make_stripplot(\n",
    "        plot_me[plot_me.route_id.isin(subset_routes)], \n",
    "        y_col2, Y_MIN = Y_MIN2, Y_MAX = Y_MAX2\n",
    "    )\n",
    "    \n",
    "    return subset_routes, multiplier_chart, difference_chart            "
   ]
  },
  {
   "cell_type": "markdown",
   "id": "525f9b38-072b-46d1-96a8-1aa4b038357c",
   "metadata": {
    "papermill": {
     "duration": 0.011076,
     "end_time": "2022-05-07T17:23:55.143264",
     "exception": false,
     "start_time": "2022-05-07T17:23:55.132188",
     "status": "completed"
    },
    "tags": []
   },
   "source": [
    "## Viable Competitive Routes\n",
    "### Short Routes (< 1 hr)"
   ]
  },
  {
   "cell_type": "code",
   "execution_count": 12,
   "id": "57f7084c-2cf7-45c6-ba08-1609e0bd6ca5",
   "metadata": {
    "execution": {
     "iopub.execute_input": "2022-05-07T17:23:55.167285Z",
     "iopub.status.busy": "2022-05-07T17:23:55.167014Z",
     "iopub.status.idle": "2022-05-07T17:23:55.417990Z",
     "shell.execute_reply": "2022-05-07T17:23:55.417444Z"
    },
    "jupyter": {
     "source_hidden": true
    },
    "papermill": {
     "duration": 0.265647,
     "end_time": "2022-05-07T17:23:55.419865",
     "exception": false,
     "start_time": "2022-05-07T17:23:55.154218",
     "status": "completed"
    },
    "tags": [
     "remove_input"
    ]
   },
   "outputs": [
    {
     "data": {
      "text/markdown": [
       "<br>These are routes that have at least 25% of their trips take no more than an additional 20 min compared to a car (up to 15 routes) are shown.Within each route group, routes are sorted in descending order by % competitive trips and # trips below the additional time cut-off."
      ],
      "text/plain": [
       "<IPython.core.display.Markdown object>"
      ]
     },
     "metadata": {},
     "output_type": "display_data"
    },
    {
     "data": {
      "text/html": [
       "\n",
       "<div id=\"altair-viz-14dcc7c6ad9941c2b9e8335357dd27ad\"></div>\n",
       "<script type=\"text/javascript\">\n",
       "  var VEGA_DEBUG = (typeof VEGA_DEBUG == \"undefined\") ? {} : VEGA_DEBUG;\n",
       "  (function(spec, embedOpt){\n",
       "    let outputDiv = document.currentScript.previousElementSibling;\n",
       "    if (outputDiv.id !== \"altair-viz-14dcc7c6ad9941c2b9e8335357dd27ad\") {\n",
       "      outputDiv = document.getElementById(\"altair-viz-14dcc7c6ad9941c2b9e8335357dd27ad\");\n",
       "    }\n",
       "    const paths = {\n",
       "      \"vega\": \"https://cdn.jsdelivr.net/npm//vega@5?noext\",\n",
       "      \"vega-lib\": \"https://cdn.jsdelivr.net/npm//vega-lib?noext\",\n",
       "      \"vega-lite\": \"https://cdn.jsdelivr.net/npm//vega-lite@4.17.0?noext\",\n",
       "      \"vega-embed\": \"https://cdn.jsdelivr.net/npm//vega-embed@6?noext\",\n",
       "    };\n",
       "\n",
       "    function maybeLoadScript(lib, version) {\n",
       "      var key = `${lib.replace(\"-\", \"\")}_version`;\n",
       "      return (VEGA_DEBUG[key] == version) ?\n",
       "        Promise.resolve(paths[lib]) :\n",
       "        new Promise(function(resolve, reject) {\n",
       "          var s = document.createElement('script');\n",
       "          document.getElementsByTagName(\"head\")[0].appendChild(s);\n",
       "          s.async = true;\n",
       "          s.onload = () => {\n",
       "            VEGA_DEBUG[key] = version;\n",
       "            return resolve(paths[lib]);\n",
       "          };\n",
       "          s.onerror = () => reject(`Error loading script: ${paths[lib]}`);\n",
       "          s.src = paths[lib];\n",
       "        });\n",
       "    }\n",
       "\n",
       "    function showError(err) {\n",
       "      outputDiv.innerHTML = `<div class=\"error\" style=\"color:red;\">${err}</div>`;\n",
       "      throw err;\n",
       "    }\n",
       "\n",
       "    function displayChart(vegaEmbed) {\n",
       "      vegaEmbed(outputDiv, spec, embedOpt)\n",
       "        .catch(err => showError(`Javascript Error: ${err.message}<br>This usually means there's a typo in your chart specification. See the javascript console for the full traceback.`));\n",
       "    }\n",
       "\n",
       "    if(typeof define === \"function\" && define.amd) {\n",
       "      requirejs.config({paths});\n",
       "      require([\"vega-embed\"], displayChart, err => showError(`Error loading script: ${err.message}`));\n",
       "    } else {\n",
       "      maybeLoadScript(\"vega\", \"5\")\n",
       "        .then(() => maybeLoadScript(\"vega-lite\", \"4.17.0\"))\n",
       "        .then(() => maybeLoadScript(\"vega-embed\", \"6\"))\n",
       "        .catch(showError)\n",
       "        .then(() => displayChart(vegaEmbed));\n",
       "    }\n",
       "  })({\"config\": {\"view\": {\"continuousWidth\": 400, \"continuousHeight\": 300, \"stroke\": null}, \"facet\": {\"spacing\": 0}}, \"data\": {\"name\": \"data-7cf2f23c7aa4ee2c4cf19a9b382996a5\"}, \"facet\": {\"column\": {\"field\": \"route_id\", \"sort\": [\"BCT102 SB\"], \"title\": \"Route ID\", \"type\": \"nominal\"}}, \"spec\": {\"layer\": [{\"mark\": {\"type\": \"point\", \"opacity\": 0.65, \"size\": 12, \"strokeWidth\": 1.1}, \"encoding\": {\"color\": {\"field\": \"time_of_day\", \"scale\": {\"range\": [\"#136C97\", \"#E16B26\", \"#F6BF16\", \"#00896B\", \"#7790A3\", \"#5B559C\"]}, \"sort\": [\"AM Peak\", \"Midday\", \"PM Peak\", \"Owl Service\"], \"title\": \"Time of Day\", \"type\": \"nominal\"}, \"tooltip\": [{\"field\": \"route_id\", \"type\": \"nominal\"}, {\"field\": \"trip_id\", \"type\": \"nominal\"}, {\"field\": \"service_hours\", \"type\": \"quantitative\"}, {\"field\": \"car_duration_hours\", \"type\": \"quantitative\"}, {\"field\": \"bus_multiplier\", \"type\": \"quantitative\"}, {\"field\": \"bus_difference\", \"type\": \"quantitative\"}, {\"field\": \"num_trips\", \"type\": \"quantitative\"}, {\"field\": \"num_competitive\", \"type\": \"quantitative\"}, {\"field\": \"pct_trips_competitive\", \"type\": \"quantitative\"}, {\"field\": \"p25\", \"type\": \"quantitative\"}, {\"field\": \"p50\", \"type\": \"quantitative\"}, {\"field\": \"p75\", \"type\": \"quantitative\"}], \"x\": {\"axis\": {\"grid\": false, \"labels\": false, \"ticks\": true, \"values\": [0]}, \"field\": \"jitter\", \"scale\": {}, \"title\": null, \"type\": \"quantitative\"}, \"y\": {\"field\": \"bus_multiplier\", \"scale\": {\"domain\": [-0.25, 2.5]}, \"title\": \"Ratio of Bus to Car Travel Time\", \"type\": \"quantitative\"}}, \"selection\": {\"selector001\": {\"type\": \"interval\", \"bind\": \"scales\", \"encodings\": [\"x\", \"y\"]}}, \"transform\": [{\"calculate\": \"sqrt(-2*log(random()))*cos(2*PI*random())\", \"as\": \"jitter\"}], \"width\": 60}, {\"layer\": [{\"mark\": {\"type\": \"point\", \"opacity\": 0.6, \"size\": 20, \"strokeWidth\": 1.3}, \"encoding\": {\"color\": {\"value\": \"#323434\"}, \"y\": {\"field\": \"bus_multiplier\", \"type\": \"quantitative\"}}, \"transform\": [{\"filter\": \"(datum.p50_trip === 1)\"}]}, {\"mark\": {\"type\": \"rule\", \"strokeDash\": [2, 3]}, \"encoding\": {\"color\": {\"value\": \"#323434\"}, \"y\": {\"field\": \"cutoff\", \"type\": \"quantitative\"}}}, {\"mark\": {\"type\": \"text\", \"align\": \"center\", \"baseline\": \"middle\"}, \"encoding\": {\"color\": {\"value\": \"black\"}, \"text\": {\"field\": \"pct_trips_competitive\", \"format\": \".0%\", \"type\": \"quantitative\"}, \"tooltip\": [{\"field\": \"route_id\", \"type\": \"nominal\"}, {\"field\": \"trip_id\", \"type\": \"nominal\"}, {\"field\": \"service_hours\", \"type\": \"quantitative\"}, {\"field\": \"car_duration_hours\", \"type\": \"quantitative\"}, {\"field\": \"bus_multiplier\", \"type\": \"quantitative\"}, {\"field\": \"bus_difference\", \"type\": \"quantitative\"}, {\"field\": \"num_trips\", \"type\": \"quantitative\"}, {\"field\": \"num_competitive\", \"type\": \"quantitative\"}, {\"field\": \"pct_trips_competitive\", \"type\": \"quantitative\"}, {\"field\": \"p25\", \"type\": \"quantitative\"}, {\"field\": \"p50\", \"type\": \"quantitative\"}, {\"field\": \"p75\", \"type\": \"quantitative\"}], \"x\": {\"value\": 30}, \"y\": {\"value\": 15}}, \"transform\": [{\"calculate\": \"sqrt(-2*log(random()))*cos(2*PI*random())\", \"as\": \"jitter\"}, {\"filter\": \"(datum.fastest_trip === 1)\"}]}]}]}, \"resolve\": {\"scale\": {\"y\": \"shared\"}}, \"title\": \"Ratio of Bus to Car Travel Time\", \"$schema\": \"https://vega.github.io/schema/vega-lite/v4.17.0.json\", \"datasets\": {\"data-7cf2f23c7aa4ee2c4cf19a9b382996a5\": [{\"calitp_itp_id\": 260, \"trip_key\": 5600594073510181254, \"trip_id\": \"BCT102 SB_MF.T15\", \"shape_id\": \"BCT102 SB\", \"route_id\": \"BCT102 SB\", \"service_hours\": 0.63, \"trip_first_departure_ts\": 41940, \"trip_last_arrival_ts\": 44220, \"departure_hour\": 11, \"time_of_day\": \"Midday\", \"p25\": 0.63, \"p50\": 0.63, \"p75\": 0.63, \"p50_trip\": 1, \"fastest_trip\": 0, \"car_duration_hours\": 0.59, \"competitive_route\": 1, \"bus_multiplier\": 1.07, \"bus_difference\": 2.4, \"num_trips\": 31, \"num_competitive\": 31, \"pct_trips_competitive\": 1.0, \"bus_difference_spread\": 0.0, \"route_group\": \"short\", \"max_trip_hrs\": 0.63, \"max_trip_route_group\": 0.63, \"name\": \"City of Redondo Beach\", \"caltrans_district\": \"07 - Los Angeles\", \"drmt_organization_name\": null, \"cutoff2\": 9.45, \"cutoff\": 2}, {\"calitp_itp_id\": 260, \"trip_key\": -5553955856524841021, \"trip_id\": \"BCT102 SB_MF.T30\", \"shape_id\": \"BCT102 SB\", \"route_id\": \"BCT102 SB\", \"service_hours\": 0.63, \"trip_first_departure_ts\": 69780, \"trip_last_arrival_ts\": 72060, \"departure_hour\": 19, \"time_of_day\": \"PM Peak\", \"p25\": 0.63, \"p50\": 0.63, \"p75\": 0.63, \"p50_trip\": 1, \"fastest_trip\": 1, \"car_duration_hours\": 0.59, \"competitive_route\": 1, \"bus_multiplier\": 1.07, \"bus_difference\": 2.4, \"num_trips\": 31, \"num_competitive\": 31, \"pct_trips_competitive\": 1.0, \"bus_difference_spread\": 0.0, \"route_group\": \"short\", \"max_trip_hrs\": 0.63, \"max_trip_route_group\": 0.63, \"name\": \"City of Redondo Beach\", \"caltrans_district\": \"07 - Los Angeles\", \"drmt_organization_name\": null, \"cutoff2\": 9.45, \"cutoff\": 2}, {\"calitp_itp_id\": 260, \"trip_key\": 8801839722880547986, \"trip_id\": \"BCT102 SB_MF.T29\", \"shape_id\": \"BCT102 SB\", \"route_id\": \"BCT102 SB\", \"service_hours\": 0.63, \"trip_first_departure_ts\": 67980, \"trip_last_arrival_ts\": 70260, \"departure_hour\": 18, \"time_of_day\": \"PM Peak\", \"p25\": 0.63, \"p50\": 0.63, \"p75\": 0.63, \"p50_trip\": 1, \"fastest_trip\": 0, \"car_duration_hours\": 0.59, \"competitive_route\": 1, \"bus_multiplier\": 1.07, \"bus_difference\": 2.4, \"num_trips\": 31, \"num_competitive\": 31, \"pct_trips_competitive\": 1.0, \"bus_difference_spread\": 0.0, \"route_group\": \"short\", \"max_trip_hrs\": 0.63, \"max_trip_route_group\": 0.63, \"name\": \"City of Redondo Beach\", \"caltrans_district\": \"07 - Los Angeles\", \"drmt_organization_name\": null, \"cutoff2\": 9.45, \"cutoff\": 2}, {\"calitp_itp_id\": 260, \"trip_key\": -215016114500874665, \"trip_id\": \"BCT102 SB_MF.T08\", \"shape_id\": \"BCT102 SB\", \"route_id\": \"BCT102 SB\", \"service_hours\": 0.63, \"trip_first_departure_ts\": 29520, \"trip_last_arrival_ts\": 31800, \"departure_hour\": 8, \"time_of_day\": \"AM Peak\", \"p25\": 0.63, \"p50\": 0.63, \"p75\": 0.63, \"p50_trip\": 1, \"fastest_trip\": 0, \"car_duration_hours\": 0.59, \"competitive_route\": 1, \"bus_multiplier\": 1.07, \"bus_difference\": 2.4, \"num_trips\": 31, \"num_competitive\": 31, \"pct_trips_competitive\": 1.0, \"bus_difference_spread\": 0.0, \"route_group\": \"short\", \"max_trip_hrs\": 0.63, \"max_trip_route_group\": 0.63, \"name\": \"City of Redondo Beach\", \"caltrans_district\": \"07 - Los Angeles\", \"drmt_organization_name\": null, \"cutoff2\": 9.45, \"cutoff\": 2}, {\"calitp_itp_id\": 260, \"trip_key\": 4157095849159416399, \"trip_id\": \"BCT102 SB_MF.T18\", \"shape_id\": \"BCT102 SB\", \"route_id\": \"BCT102 SB\", \"service_hours\": 0.63, \"trip_first_departure_ts\": 48240, \"trip_last_arrival_ts\": 50520, \"departure_hour\": 13, \"time_of_day\": \"Midday\", \"p25\": 0.63, \"p50\": 0.63, \"p75\": 0.63, \"p50_trip\": 1, \"fastest_trip\": 0, \"car_duration_hours\": 0.59, \"competitive_route\": 1, \"bus_multiplier\": 1.07, \"bus_difference\": 2.4, \"num_trips\": 31, \"num_competitive\": 31, \"pct_trips_competitive\": 1.0, \"bus_difference_spread\": 0.0, \"route_group\": \"short\", \"max_trip_hrs\": 0.63, \"max_trip_route_group\": 0.63, \"name\": \"City of Redondo Beach\", \"caltrans_district\": \"07 - Los Angeles\", \"drmt_organization_name\": null, \"cutoff2\": 9.45, \"cutoff\": 2}, {\"calitp_itp_id\": 260, \"trip_key\": 7870570428958274744, \"trip_id\": \"BCT102 SB_MF.T04\", \"shape_id\": \"BCT102 SB\", \"route_id\": \"BCT102 SB\", \"service_hours\": 0.63, \"trip_first_departure_ts\": 25500, \"trip_last_arrival_ts\": 27780, \"departure_hour\": 7, \"time_of_day\": \"AM Peak\", \"p25\": 0.63, \"p50\": 0.63, \"p75\": 0.63, \"p50_trip\": 1, \"fastest_trip\": 0, \"car_duration_hours\": 0.59, \"competitive_route\": 1, \"bus_multiplier\": 1.07, \"bus_difference\": 2.4, \"num_trips\": 31, \"num_competitive\": 31, \"pct_trips_competitive\": 1.0, \"bus_difference_spread\": 0.0, \"route_group\": \"short\", \"max_trip_hrs\": 0.63, \"max_trip_route_group\": 0.63, \"name\": \"City of Redondo Beach\", \"caltrans_district\": \"07 - Los Angeles\", \"drmt_organization_name\": null, \"cutoff2\": 9.45, \"cutoff\": 2}, {\"calitp_itp_id\": 260, \"trip_key\": 66336865387378607, \"trip_id\": \"BCT102 SB_MF.T28\", \"shape_id\": \"BCT102 SB\", \"route_id\": \"BCT102 SB\", \"service_hours\": 0.63, \"trip_first_departure_ts\": 66180, \"trip_last_arrival_ts\": 68460, \"departure_hour\": 18, \"time_of_day\": \"PM Peak\", \"p25\": 0.63, \"p50\": 0.63, \"p75\": 0.63, \"p50_trip\": 1, \"fastest_trip\": 0, \"car_duration_hours\": 0.59, \"competitive_route\": 1, \"bus_multiplier\": 1.07, \"bus_difference\": 2.4, \"num_trips\": 31, \"num_competitive\": 31, \"pct_trips_competitive\": 1.0, \"bus_difference_spread\": 0.0, \"route_group\": \"short\", \"max_trip_hrs\": 0.63, \"max_trip_route_group\": 0.63, \"name\": \"City of Redondo Beach\", \"caltrans_district\": \"07 - Los Angeles\", \"drmt_organization_name\": null, \"cutoff2\": 9.45, \"cutoff\": 2}, {\"calitp_itp_id\": 260, \"trip_key\": 1849295836178047209, \"trip_id\": \"BCT102 SB_MF.T01\", \"shape_id\": \"BCT102 SB\", \"route_id\": \"BCT102 SB\", \"service_hours\": 0.63, \"trip_first_departure_ts\": 22740, \"trip_last_arrival_ts\": 25020, \"departure_hour\": 6, \"time_of_day\": \"Owl Service\", \"p25\": 0.63, \"p50\": 0.63, \"p75\": 0.63, \"p50_trip\": 1, \"fastest_trip\": 0, \"car_duration_hours\": 0.59, \"competitive_route\": 1, \"bus_multiplier\": 1.07, \"bus_difference\": 2.4, \"num_trips\": 31, \"num_competitive\": 31, \"pct_trips_competitive\": 1.0, \"bus_difference_spread\": 0.0, \"route_group\": \"short\", \"max_trip_hrs\": 0.63, \"max_trip_route_group\": 0.63, \"name\": \"City of Redondo Beach\", \"caltrans_district\": \"07 - Los Angeles\", \"drmt_organization_name\": null, \"cutoff2\": 9.45, \"cutoff\": 2}, {\"calitp_itp_id\": 260, \"trip_key\": 8888593141944986521, \"trip_id\": \"BCT102 SB_MF.T11\", \"shape_id\": \"BCT102 SB\", \"route_id\": \"BCT102 SB\", \"service_hours\": 0.63, \"trip_first_departure_ts\": 34920, \"trip_last_arrival_ts\": 37200, \"departure_hour\": 9, \"time_of_day\": \"AM Peak\", \"p25\": 0.63, \"p50\": 0.63, \"p75\": 0.63, \"p50_trip\": 1, \"fastest_trip\": 0, \"car_duration_hours\": 0.59, \"competitive_route\": 1, \"bus_multiplier\": 1.07, \"bus_difference\": 2.4, \"num_trips\": 31, \"num_competitive\": 31, \"pct_trips_competitive\": 1.0, \"bus_difference_spread\": 0.0, \"route_group\": \"short\", \"max_trip_hrs\": 0.63, \"max_trip_route_group\": 0.63, \"name\": \"City of Redondo Beach\", \"caltrans_district\": \"07 - Los Angeles\", \"drmt_organization_name\": null, \"cutoff2\": 9.45, \"cutoff\": 2}, {\"calitp_itp_id\": 260, \"trip_key\": -5735749424997332655, \"trip_id\": \"BCT102 SB_MF.T25\", \"shape_id\": \"BCT102 SB\", \"route_id\": \"BCT102 SB\", \"service_hours\": 0.63, \"trip_first_departure_ts\": 60780, \"trip_last_arrival_ts\": 63060, \"departure_hour\": 16, \"time_of_day\": \"Midday\", \"p25\": 0.63, \"p50\": 0.63, \"p75\": 0.63, \"p50_trip\": 1, \"fastest_trip\": 0, \"car_duration_hours\": 0.59, \"competitive_route\": 1, \"bus_multiplier\": 1.07, \"bus_difference\": 2.4, \"num_trips\": 31, \"num_competitive\": 31, \"pct_trips_competitive\": 1.0, \"bus_difference_spread\": 0.0, \"route_group\": \"short\", \"max_trip_hrs\": 0.63, \"max_trip_route_group\": 0.63, \"name\": \"City of Redondo Beach\", \"caltrans_district\": \"07 - Los Angeles\", \"drmt_organization_name\": null, \"cutoff2\": 9.45, \"cutoff\": 2}, {\"calitp_itp_id\": 260, \"trip_key\": 810308228482532214, \"trip_id\": \"BCT102 SB_MF.T02\", \"shape_id\": \"BCT102 SB\", \"route_id\": \"BCT102 SB\", \"service_hours\": 0.63, \"trip_first_departure_ts\": 24240, \"trip_last_arrival_ts\": 26520, \"departure_hour\": 6, \"time_of_day\": \"Owl Service\", \"p25\": 0.63, \"p50\": 0.63, \"p75\": 0.63, \"p50_trip\": 1, \"fastest_trip\": 0, \"car_duration_hours\": 0.59, \"competitive_route\": 1, \"bus_multiplier\": 1.07, \"bus_difference\": 2.4, \"num_trips\": 31, \"num_competitive\": 31, \"pct_trips_competitive\": 1.0, \"bus_difference_spread\": 0.0, \"route_group\": \"short\", \"max_trip_hrs\": 0.63, \"max_trip_route_group\": 0.63, \"name\": \"City of Redondo Beach\", \"caltrans_district\": \"07 - Los Angeles\", \"drmt_organization_name\": null, \"cutoff2\": 9.45, \"cutoff\": 2}, {\"calitp_itp_id\": 260, \"trip_key\": -2902071067911749990, \"trip_id\": \"BCT102 SB_MF.T31\", \"shape_id\": \"BCT102 SB\", \"route_id\": \"BCT102 SB\", \"service_hours\": 0.63, \"trip_first_departure_ts\": 71700, \"trip_last_arrival_ts\": 73980, \"departure_hour\": 19, \"time_of_day\": \"PM Peak\", \"p25\": 0.63, \"p50\": 0.63, \"p75\": 0.63, \"p50_trip\": 1, \"fastest_trip\": 0, \"car_duration_hours\": 0.59, \"competitive_route\": 1, \"bus_multiplier\": 1.07, \"bus_difference\": 2.4, \"num_trips\": 31, \"num_competitive\": 31, \"pct_trips_competitive\": 1.0, \"bus_difference_spread\": 0.0, \"route_group\": \"short\", \"max_trip_hrs\": 0.63, \"max_trip_route_group\": 0.63, \"name\": \"City of Redondo Beach\", \"caltrans_district\": \"07 - Los Angeles\", \"drmt_organization_name\": null, \"cutoff2\": 9.45, \"cutoff\": 2}, {\"calitp_itp_id\": 260, \"trip_key\": -4690143314967611854, \"trip_id\": \"BCT102 SB_MF.T20\", \"shape_id\": \"BCT102 SB\", \"route_id\": \"BCT102 SB\", \"service_hours\": 0.63, \"trip_first_departure_ts\": 51840, \"trip_last_arrival_ts\": 54120, \"departure_hour\": 14, \"time_of_day\": \"Midday\", \"p25\": 0.63, \"p50\": 0.63, \"p75\": 0.63, \"p50_trip\": 1, \"fastest_trip\": 0, \"car_duration_hours\": 0.59, \"competitive_route\": 1, \"bus_multiplier\": 1.07, \"bus_difference\": 2.4, \"num_trips\": 31, \"num_competitive\": 31, \"pct_trips_competitive\": 1.0, \"bus_difference_spread\": 0.0, \"route_group\": \"short\", \"max_trip_hrs\": 0.63, \"max_trip_route_group\": 0.63, \"name\": \"City of Redondo Beach\", \"caltrans_district\": \"07 - Los Angeles\", \"drmt_organization_name\": null, \"cutoff2\": 9.45, \"cutoff\": 2}, {\"calitp_itp_id\": 260, \"trip_key\": 929902077473829746, \"trip_id\": \"BCT102 SB_MF.T27\", \"shape_id\": \"BCT102 SB\", \"route_id\": \"BCT102 SB\", \"service_hours\": 0.63, \"trip_first_departure_ts\": 64380, \"trip_last_arrival_ts\": 66660, \"departure_hour\": 17, \"time_of_day\": \"PM Peak\", \"p25\": 0.63, \"p50\": 0.63, \"p75\": 0.63, \"p50_trip\": 1, \"fastest_trip\": 0, \"car_duration_hours\": 0.59, \"competitive_route\": 1, \"bus_multiplier\": 1.07, \"bus_difference\": 2.4, \"num_trips\": 31, \"num_competitive\": 31, \"pct_trips_competitive\": 1.0, \"bus_difference_spread\": 0.0, \"route_group\": \"short\", \"max_trip_hrs\": 0.63, \"max_trip_route_group\": 0.63, \"name\": \"City of Redondo Beach\", \"caltrans_district\": \"07 - Los Angeles\", \"drmt_organization_name\": null, \"cutoff2\": 9.45, \"cutoff\": 2}, {\"calitp_itp_id\": 260, \"trip_key\": -90858452867729391, \"trip_id\": \"BCT102 SB_MF.T19\", \"shape_id\": \"BCT102 SB\", \"route_id\": \"BCT102 SB\", \"service_hours\": 0.63, \"trip_first_departure_ts\": 50040, \"trip_last_arrival_ts\": 52320, \"departure_hour\": 13, \"time_of_day\": \"Midday\", \"p25\": 0.63, \"p50\": 0.63, \"p75\": 0.63, \"p50_trip\": 1, \"fastest_trip\": 0, \"car_duration_hours\": 0.59, \"competitive_route\": 1, \"bus_multiplier\": 1.07, \"bus_difference\": 2.4, \"num_trips\": 31, \"num_competitive\": 31, \"pct_trips_competitive\": 1.0, \"bus_difference_spread\": 0.0, \"route_group\": \"short\", \"max_trip_hrs\": 0.63, \"max_trip_route_group\": 0.63, \"name\": \"City of Redondo Beach\", \"caltrans_district\": \"07 - Los Angeles\", \"drmt_organization_name\": null, \"cutoff2\": 9.45, \"cutoff\": 2}, {\"calitp_itp_id\": 260, \"trip_key\": 8838309147655915020, \"trip_id\": \"BCT102 SB_MF.T21\", \"shape_id\": \"BCT102 SB\", \"route_id\": \"BCT102 SB\", \"service_hours\": 0.63, \"trip_first_departure_ts\": 53640, \"trip_last_arrival_ts\": 55920, \"departure_hour\": 14, \"time_of_day\": \"Midday\", \"p25\": 0.63, \"p50\": 0.63, \"p75\": 0.63, \"p50_trip\": 1, \"fastest_trip\": 0, \"car_duration_hours\": 0.59, \"competitive_route\": 1, \"bus_multiplier\": 1.07, \"bus_difference\": 2.4, \"num_trips\": 31, \"num_competitive\": 31, \"pct_trips_competitive\": 1.0, \"bus_difference_spread\": 0.0, \"route_group\": \"short\", \"max_trip_hrs\": 0.63, \"max_trip_route_group\": 0.63, \"name\": \"City of Redondo Beach\", \"caltrans_district\": \"07 - Los Angeles\", \"drmt_organization_name\": null, \"cutoff2\": 9.45, \"cutoff\": 2}, {\"calitp_itp_id\": 260, \"trip_key\": -8320198027851603441, \"trip_id\": \"BCT102 SB_MF.T09\", \"shape_id\": \"BCT102 SB\", \"route_id\": \"BCT102 SB\", \"service_hours\": 0.63, \"trip_first_departure_ts\": 31140, \"trip_last_arrival_ts\": 33420, \"departure_hour\": 8, \"time_of_day\": \"AM Peak\", \"p25\": 0.63, \"p50\": 0.63, \"p75\": 0.63, \"p50_trip\": 1, \"fastest_trip\": 0, \"car_duration_hours\": 0.59, \"competitive_route\": 1, \"bus_multiplier\": 1.07, \"bus_difference\": 2.4, \"num_trips\": 31, \"num_competitive\": 31, \"pct_trips_competitive\": 1.0, \"bus_difference_spread\": 0.0, \"route_group\": \"short\", \"max_trip_hrs\": 0.63, \"max_trip_route_group\": 0.63, \"name\": \"City of Redondo Beach\", \"caltrans_district\": \"07 - Los Angeles\", \"drmt_organization_name\": null, \"cutoff2\": 9.45, \"cutoff\": 2}, {\"calitp_itp_id\": 260, \"trip_key\": -3103483456625778491, \"trip_id\": \"BCT102 SB_MF.T14\", \"shape_id\": \"BCT102 SB\", \"route_id\": \"BCT102 SB\", \"service_hours\": 0.63, \"trip_first_departure_ts\": 40140, \"trip_last_arrival_ts\": 42420, \"departure_hour\": 11, \"time_of_day\": \"Midday\", \"p25\": 0.63, \"p50\": 0.63, \"p75\": 0.63, \"p50_trip\": 1, \"fastest_trip\": 0, \"car_duration_hours\": 0.59, \"competitive_route\": 1, \"bus_multiplier\": 1.07, \"bus_difference\": 2.4, \"num_trips\": 31, \"num_competitive\": 31, \"pct_trips_competitive\": 1.0, \"bus_difference_spread\": 0.0, \"route_group\": \"short\", \"max_trip_hrs\": 0.63, \"max_trip_route_group\": 0.63, \"name\": \"City of Redondo Beach\", \"caltrans_district\": \"07 - Los Angeles\", \"drmt_organization_name\": null, \"cutoff2\": 9.45, \"cutoff\": 2}, {\"calitp_itp_id\": 260, \"trip_key\": 1828916571418240004, \"trip_id\": \"BCT102 SB_MF.T16\", \"shape_id\": \"BCT102 SB\", \"route_id\": \"BCT102 SB\", \"service_hours\": 0.63, \"trip_first_departure_ts\": 43740, \"trip_last_arrival_ts\": 46020, \"departure_hour\": 12, \"time_of_day\": \"Midday\", \"p25\": 0.63, \"p50\": 0.63, \"p75\": 0.63, \"p50_trip\": 1, \"fastest_trip\": 0, \"car_duration_hours\": 0.59, \"competitive_route\": 1, \"bus_multiplier\": 1.07, \"bus_difference\": 2.4, \"num_trips\": 31, \"num_competitive\": 31, \"pct_trips_competitive\": 1.0, \"bus_difference_spread\": 0.0, \"route_group\": \"short\", \"max_trip_hrs\": 0.63, \"max_trip_route_group\": 0.63, \"name\": \"City of Redondo Beach\", \"caltrans_district\": \"07 - Los Angeles\", \"drmt_organization_name\": null, \"cutoff2\": 9.45, \"cutoff\": 2}, {\"calitp_itp_id\": 260, \"trip_key\": -4401258628786279744, \"trip_id\": \"BCT102 SB_MF.T17\", \"shape_id\": \"BCT102 SB\", \"route_id\": \"BCT102 SB\", \"service_hours\": 0.63, \"trip_first_departure_ts\": 45540, \"trip_last_arrival_ts\": 47820, \"departure_hour\": 12, \"time_of_day\": \"Midday\", \"p25\": 0.63, \"p50\": 0.63, \"p75\": 0.63, \"p50_trip\": 1, \"fastest_trip\": 0, \"car_duration_hours\": 0.59, \"competitive_route\": 1, \"bus_multiplier\": 1.07, \"bus_difference\": 2.4, \"num_trips\": 31, \"num_competitive\": 31, \"pct_trips_competitive\": 1.0, \"bus_difference_spread\": 0.0, \"route_group\": \"short\", \"max_trip_hrs\": 0.63, \"max_trip_route_group\": 0.63, \"name\": \"City of Redondo Beach\", \"caltrans_district\": \"07 - Los Angeles\", \"drmt_organization_name\": null, \"cutoff2\": 9.45, \"cutoff\": 2}, {\"calitp_itp_id\": 260, \"trip_key\": 3924681704903124640, \"trip_id\": \"BCT102 SB_MF.T23\", \"shape_id\": \"BCT102 SB\", \"route_id\": \"BCT102 SB\", \"service_hours\": 0.63, \"trip_first_departure_ts\": 57480, \"trip_last_arrival_ts\": 59760, \"departure_hour\": 15, \"time_of_day\": \"Midday\", \"p25\": 0.63, \"p50\": 0.63, \"p75\": 0.63, \"p50_trip\": 1, \"fastest_trip\": 0, \"car_duration_hours\": 0.59, \"competitive_route\": 1, \"bus_multiplier\": 1.07, \"bus_difference\": 2.4, \"num_trips\": 31, \"num_competitive\": 31, \"pct_trips_competitive\": 1.0, \"bus_difference_spread\": 0.0, \"route_group\": \"short\", \"max_trip_hrs\": 0.63, \"max_trip_route_group\": 0.63, \"name\": \"City of Redondo Beach\", \"caltrans_district\": \"07 - Los Angeles\", \"drmt_organization_name\": null, \"cutoff2\": 9.45, \"cutoff\": 2}, {\"calitp_itp_id\": 260, \"trip_key\": -3244853499214608810, \"trip_id\": \"BCT102 SB_MF.T22\", \"shape_id\": \"BCT102 SB\", \"route_id\": \"BCT102 SB\", \"service_hours\": 0.63, \"trip_first_departure_ts\": 55860, \"trip_last_arrival_ts\": 58140, \"departure_hour\": 15, \"time_of_day\": \"Midday\", \"p25\": 0.63, \"p50\": 0.63, \"p75\": 0.63, \"p50_trip\": 1, \"fastest_trip\": 0, \"car_duration_hours\": 0.59, \"competitive_route\": 1, \"bus_multiplier\": 1.07, \"bus_difference\": 2.4, \"num_trips\": 31, \"num_competitive\": 31, \"pct_trips_competitive\": 1.0, \"bus_difference_spread\": 0.0, \"route_group\": \"short\", \"max_trip_hrs\": 0.63, \"max_trip_route_group\": 0.63, \"name\": \"City of Redondo Beach\", \"caltrans_district\": \"07 - Los Angeles\", \"drmt_organization_name\": null, \"cutoff2\": 9.45, \"cutoff\": 2}, {\"calitp_itp_id\": 260, \"trip_key\": 5774528551612231024, \"trip_id\": \"BCT102 SB_MF.T26\", \"shape_id\": \"BCT102 SB\", \"route_id\": \"BCT102 SB\", \"service_hours\": 0.63, \"trip_first_departure_ts\": 62580, \"trip_last_arrival_ts\": 64860, \"departure_hour\": 17, \"time_of_day\": \"PM Peak\", \"p25\": 0.63, \"p50\": 0.63, \"p75\": 0.63, \"p50_trip\": 1, \"fastest_trip\": 0, \"car_duration_hours\": 0.59, \"competitive_route\": 1, \"bus_multiplier\": 1.07, \"bus_difference\": 2.4, \"num_trips\": 31, \"num_competitive\": 31, \"pct_trips_competitive\": 1.0, \"bus_difference_spread\": 0.0, \"route_group\": \"short\", \"max_trip_hrs\": 0.63, \"max_trip_route_group\": 0.63, \"name\": \"City of Redondo Beach\", \"caltrans_district\": \"07 - Los Angeles\", \"drmt_organization_name\": null, \"cutoff2\": 9.45, \"cutoff\": 2}, {\"calitp_itp_id\": 260, \"trip_key\": 8382291158281313618, \"trip_id\": \"BCT102 SB_MF.T10\", \"shape_id\": \"BCT102 SB\", \"route_id\": \"BCT102 SB\", \"service_hours\": 0.63, \"trip_first_departure_ts\": 33120, \"trip_last_arrival_ts\": 35400, \"departure_hour\": 9, \"time_of_day\": \"AM Peak\", \"p25\": 0.63, \"p50\": 0.63, \"p75\": 0.63, \"p50_trip\": 1, \"fastest_trip\": 0, \"car_duration_hours\": 0.59, \"competitive_route\": 1, \"bus_multiplier\": 1.07, \"bus_difference\": 2.4, \"num_trips\": 31, \"num_competitive\": 31, \"pct_trips_competitive\": 1.0, \"bus_difference_spread\": 0.0, \"route_group\": \"short\", \"max_trip_hrs\": 0.63, \"max_trip_route_group\": 0.63, \"name\": \"City of Redondo Beach\", \"caltrans_district\": \"07 - Los Angeles\", \"drmt_organization_name\": null, \"cutoff2\": 9.45, \"cutoff\": 2}, {\"calitp_itp_id\": 260, \"trip_key\": 6532390427287396813, \"trip_id\": \"BCT102 SB_MF.T12\", \"shape_id\": \"BCT102 SB\", \"route_id\": \"BCT102 SB\", \"service_hours\": 0.63, \"trip_first_departure_ts\": 36540, \"trip_last_arrival_ts\": 38820, \"departure_hour\": 10, \"time_of_day\": \"Midday\", \"p25\": 0.63, \"p50\": 0.63, \"p75\": 0.63, \"p50_trip\": 1, \"fastest_trip\": 0, \"car_duration_hours\": 0.59, \"competitive_route\": 1, \"bus_multiplier\": 1.07, \"bus_difference\": 2.4, \"num_trips\": 31, \"num_competitive\": 31, \"pct_trips_competitive\": 1.0, \"bus_difference_spread\": 0.0, \"route_group\": \"short\", \"max_trip_hrs\": 0.63, \"max_trip_route_group\": 0.63, \"name\": \"City of Redondo Beach\", \"caltrans_district\": \"07 - Los Angeles\", \"drmt_organization_name\": null, \"cutoff2\": 9.45, \"cutoff\": 2}, {\"calitp_itp_id\": 260, \"trip_key\": -8685734809874011135, \"trip_id\": \"BCT102 SB_MF.T13\", \"shape_id\": \"BCT102 SB\", \"route_id\": \"BCT102 SB\", \"service_hours\": 0.63, \"trip_first_departure_ts\": 38340, \"trip_last_arrival_ts\": 40620, \"departure_hour\": 10, \"time_of_day\": \"Midday\", \"p25\": 0.63, \"p50\": 0.63, \"p75\": 0.63, \"p50_trip\": 1, \"fastest_trip\": 0, \"car_duration_hours\": 0.59, \"competitive_route\": 1, \"bus_multiplier\": 1.07, \"bus_difference\": 2.4, \"num_trips\": 31, \"num_competitive\": 31, \"pct_trips_competitive\": 1.0, \"bus_difference_spread\": 0.0, \"route_group\": \"short\", \"max_trip_hrs\": 0.63, \"max_trip_route_group\": 0.63, \"name\": \"City of Redondo Beach\", \"caltrans_district\": \"07 - Los Angeles\", \"drmt_organization_name\": null, \"cutoff2\": 9.45, \"cutoff\": 2}, {\"calitp_itp_id\": 260, \"trip_key\": 8869313843031039602, \"trip_id\": \"BCT102 SB_MF.T03\", \"shape_id\": \"BCT102 SB\", \"route_id\": \"BCT102 SB\", \"service_hours\": 0.63, \"trip_first_departure_ts\": 25200, \"trip_last_arrival_ts\": 27480, \"departure_hour\": 7, \"time_of_day\": \"AM Peak\", \"p25\": 0.63, \"p50\": 0.63, \"p75\": 0.63, \"p50_trip\": 1, \"fastest_trip\": 0, \"car_duration_hours\": 0.59, \"competitive_route\": 1, \"bus_multiplier\": 1.07, \"bus_difference\": 2.4, \"num_trips\": 31, \"num_competitive\": 31, \"pct_trips_competitive\": 1.0, \"bus_difference_spread\": 0.0, \"route_group\": \"short\", \"max_trip_hrs\": 0.63, \"max_trip_route_group\": 0.63, \"name\": \"City of Redondo Beach\", \"caltrans_district\": \"07 - Los Angeles\", \"drmt_organization_name\": null, \"cutoff2\": 9.45, \"cutoff\": 2}, {\"calitp_itp_id\": 260, \"trip_key\": 4507958272068012161, \"trip_id\": \"BCT102 SB_MF.T05\", \"shape_id\": \"BCT102 SB\", \"route_id\": \"BCT102 SB\", \"service_hours\": 0.63, \"trip_first_departure_ts\": 25920, \"trip_last_arrival_ts\": 28200, \"departure_hour\": 7, \"time_of_day\": \"AM Peak\", \"p25\": 0.63, \"p50\": 0.63, \"p75\": 0.63, \"p50_trip\": 1, \"fastest_trip\": 0, \"car_duration_hours\": 0.59, \"competitive_route\": 1, \"bus_multiplier\": 1.07, \"bus_difference\": 2.4, \"num_trips\": 31, \"num_competitive\": 31, \"pct_trips_competitive\": 1.0, \"bus_difference_spread\": 0.0, \"route_group\": \"short\", \"max_trip_hrs\": 0.63, \"max_trip_route_group\": 0.63, \"name\": \"City of Redondo Beach\", \"caltrans_district\": \"07 - Los Angeles\", \"drmt_organization_name\": null, \"cutoff2\": 9.45, \"cutoff\": 2}, {\"calitp_itp_id\": 260, \"trip_key\": 1846954128314572841, \"trip_id\": \"BCT102 SB_MF.T24\", \"shape_id\": \"BCT102 SB\", \"route_id\": \"BCT102 SB\", \"service_hours\": 0.63, \"trip_first_departure_ts\": 58980, \"trip_last_arrival_ts\": 61260, \"departure_hour\": 16, \"time_of_day\": \"Midday\", \"p25\": 0.63, \"p50\": 0.63, \"p75\": 0.63, \"p50_trip\": 1, \"fastest_trip\": 0, \"car_duration_hours\": 0.59, \"competitive_route\": 1, \"bus_multiplier\": 1.07, \"bus_difference\": 2.4, \"num_trips\": 31, \"num_competitive\": 31, \"pct_trips_competitive\": 1.0, \"bus_difference_spread\": 0.0, \"route_group\": \"short\", \"max_trip_hrs\": 0.63, \"max_trip_route_group\": 0.63, \"name\": \"City of Redondo Beach\", \"caltrans_district\": \"07 - Los Angeles\", \"drmt_organization_name\": null, \"cutoff2\": 9.45, \"cutoff\": 2}, {\"calitp_itp_id\": 260, \"trip_key\": -3309727796545106649, \"trip_id\": \"BCT102 SB_MF.T07\", \"shape_id\": \"BCT102 SB\", \"route_id\": \"BCT102 SB\", \"service_hours\": 0.63, \"trip_first_departure_ts\": 27720, \"trip_last_arrival_ts\": 30000, \"departure_hour\": 7, \"time_of_day\": \"AM Peak\", \"p25\": 0.63, \"p50\": 0.63, \"p75\": 0.63, \"p50_trip\": 1, \"fastest_trip\": 0, \"car_duration_hours\": 0.59, \"competitive_route\": 1, \"bus_multiplier\": 1.07, \"bus_difference\": 2.4, \"num_trips\": 31, \"num_competitive\": 31, \"pct_trips_competitive\": 1.0, \"bus_difference_spread\": 0.0, \"route_group\": \"short\", \"max_trip_hrs\": 0.63, \"max_trip_route_group\": 0.63, \"name\": \"City of Redondo Beach\", \"caltrans_district\": \"07 - Los Angeles\", \"drmt_organization_name\": null, \"cutoff2\": 9.45, \"cutoff\": 2}, {\"calitp_itp_id\": 260, \"trip_key\": -1807960922360739503, \"trip_id\": \"BCT102 SB_MF.T06\", \"shape_id\": \"BCT102 SB\", \"route_id\": \"BCT102 SB\", \"service_hours\": 0.63, \"trip_first_departure_ts\": 26100, \"trip_last_arrival_ts\": 28380, \"departure_hour\": 7, \"time_of_day\": \"AM Peak\", \"p25\": 0.63, \"p50\": 0.63, \"p75\": 0.63, \"p50_trip\": 1, \"fastest_trip\": 0, \"car_duration_hours\": 0.59, \"competitive_route\": 1, \"bus_multiplier\": 1.07, \"bus_difference\": 2.4, \"num_trips\": 31, \"num_competitive\": 31, \"pct_trips_competitive\": 1.0, \"bus_difference_spread\": 0.0, \"route_group\": \"short\", \"max_trip_hrs\": 0.63, \"max_trip_route_group\": 0.63, \"name\": \"City of Redondo Beach\", \"caltrans_district\": \"07 - Los Angeles\", \"drmt_organization_name\": null, \"cutoff2\": 9.45, \"cutoff\": 2}]}}, {\"mode\": \"vega-lite\"});\n",
       "</script>"
      ],
      "text/plain": [
       "alt.FacetChart(...)"
      ]
     },
     "metadata": {},
     "output_type": "display_data"
    },
    {
     "data": {
      "text/html": [
       "\n",
       "<div id=\"altair-viz-4e4c211489f4426b8e83c6a841b6eb50\"></div>\n",
       "<script type=\"text/javascript\">\n",
       "  var VEGA_DEBUG = (typeof VEGA_DEBUG == \"undefined\") ? {} : VEGA_DEBUG;\n",
       "  (function(spec, embedOpt){\n",
       "    let outputDiv = document.currentScript.previousElementSibling;\n",
       "    if (outputDiv.id !== \"altair-viz-4e4c211489f4426b8e83c6a841b6eb50\") {\n",
       "      outputDiv = document.getElementById(\"altair-viz-4e4c211489f4426b8e83c6a841b6eb50\");\n",
       "    }\n",
       "    const paths = {\n",
       "      \"vega\": \"https://cdn.jsdelivr.net/npm//vega@5?noext\",\n",
       "      \"vega-lib\": \"https://cdn.jsdelivr.net/npm//vega-lib?noext\",\n",
       "      \"vega-lite\": \"https://cdn.jsdelivr.net/npm//vega-lite@4.17.0?noext\",\n",
       "      \"vega-embed\": \"https://cdn.jsdelivr.net/npm//vega-embed@6?noext\",\n",
       "    };\n",
       "\n",
       "    function maybeLoadScript(lib, version) {\n",
       "      var key = `${lib.replace(\"-\", \"\")}_version`;\n",
       "      return (VEGA_DEBUG[key] == version) ?\n",
       "        Promise.resolve(paths[lib]) :\n",
       "        new Promise(function(resolve, reject) {\n",
       "          var s = document.createElement('script');\n",
       "          document.getElementsByTagName(\"head\")[0].appendChild(s);\n",
       "          s.async = true;\n",
       "          s.onload = () => {\n",
       "            VEGA_DEBUG[key] = version;\n",
       "            return resolve(paths[lib]);\n",
       "          };\n",
       "          s.onerror = () => reject(`Error loading script: ${paths[lib]}`);\n",
       "          s.src = paths[lib];\n",
       "        });\n",
       "    }\n",
       "\n",
       "    function showError(err) {\n",
       "      outputDiv.innerHTML = `<div class=\"error\" style=\"color:red;\">${err}</div>`;\n",
       "      throw err;\n",
       "    }\n",
       "\n",
       "    function displayChart(vegaEmbed) {\n",
       "      vegaEmbed(outputDiv, spec, embedOpt)\n",
       "        .catch(err => showError(`Javascript Error: ${err.message}<br>This usually means there's a typo in your chart specification. See the javascript console for the full traceback.`));\n",
       "    }\n",
       "\n",
       "    if(typeof define === \"function\" && define.amd) {\n",
       "      requirejs.config({paths});\n",
       "      require([\"vega-embed\"], displayChart, err => showError(`Error loading script: ${err.message}`));\n",
       "    } else {\n",
       "      maybeLoadScript(\"vega\", \"5\")\n",
       "        .then(() => maybeLoadScript(\"vega-lite\", \"4.17.0\"))\n",
       "        .then(() => maybeLoadScript(\"vega-embed\", \"6\"))\n",
       "        .catch(showError)\n",
       "        .then(() => displayChart(vegaEmbed));\n",
       "    }\n",
       "  })({\"config\": {\"view\": {\"continuousWidth\": 400, \"continuousHeight\": 300, \"stroke\": null}, \"facet\": {\"spacing\": 0}}, \"data\": {\"name\": \"data-40ed1bb1e13f13ca672fd6e337a3d617\"}, \"facet\": {\"column\": {\"field\": \"route_id\", \"sort\": [\"BCT102 SB\"], \"title\": \"Route ID\", \"type\": \"nominal\"}}, \"spec\": {\"layer\": [{\"mark\": {\"type\": \"point\", \"opacity\": 0.65, \"size\": 12, \"strokeWidth\": 1.1}, \"encoding\": {\"color\": {\"field\": \"time_of_day\", \"scale\": {\"range\": [\"#136C97\", \"#E16B26\", \"#F6BF16\", \"#00896B\", \"#7790A3\", \"#5B559C\"]}, \"sort\": [\"AM Peak\", \"Midday\", \"PM Peak\", \"Owl Service\"], \"title\": \"Time of Day\", \"type\": \"nominal\"}, \"tooltip\": [{\"field\": \"route_id\", \"type\": \"nominal\"}, {\"field\": \"trip_id\", \"type\": \"nominal\"}, {\"field\": \"service_hours\", \"type\": \"quantitative\"}, {\"field\": \"car_duration_hours\", \"type\": \"quantitative\"}, {\"field\": \"bus_multiplier\", \"type\": \"quantitative\"}, {\"field\": \"bus_difference\", \"type\": \"quantitative\"}, {\"field\": \"num_trips\", \"type\": \"quantitative\"}, {\"field\": \"num_competitive\", \"type\": \"quantitative\"}, {\"field\": \"pct_trips_competitive\", \"type\": \"quantitative\"}, {\"field\": \"p25\", \"type\": \"quantitative\"}, {\"field\": \"p50\", \"type\": \"quantitative\"}, {\"field\": \"p75\", \"type\": \"quantitative\"}], \"x\": {\"axis\": {\"grid\": false, \"labels\": false, \"ticks\": true, \"values\": [0]}, \"field\": \"jitter\", \"scale\": {}, \"title\": null, \"type\": \"quantitative\"}, \"y\": {\"field\": \"bus_difference\", \"scale\": {\"domain\": [-5, 27.0]}, \"title\": \"Difference in Bus to Car Travel Time (min)\", \"type\": \"quantitative\"}}, \"selection\": {\"selector002\": {\"type\": \"interval\", \"bind\": \"scales\", \"encodings\": [\"x\", \"y\"]}}, \"transform\": [{\"calculate\": \"sqrt(-2*log(random()))*cos(2*PI*random())\", \"as\": \"jitter\"}], \"width\": 60}, {\"layer\": [{\"mark\": {\"type\": \"point\", \"opacity\": 0.6, \"size\": 20, \"strokeWidth\": 1.3}, \"encoding\": {\"color\": {\"value\": \"#323434\"}, \"y\": {\"field\": \"bus_difference\", \"type\": \"quantitative\"}}, \"transform\": [{\"filter\": \"(datum.p50_trip === 1)\"}]}, {\"mark\": {\"type\": \"rule\", \"strokeDash\": [2, 3]}, \"encoding\": {\"color\": {\"value\": \"#323434\"}, \"y\": {\"field\": \"cutoff\", \"type\": \"quantitative\"}}}, {\"mark\": {\"type\": \"rule\", \"strokeDash\": [2, 3]}, \"encoding\": {\"color\": {\"value\": \"#136C97\"}, \"y\": {\"field\": \"cutoff2\", \"type\": \"quantitative\"}}}, {\"mark\": {\"type\": \"text\", \"align\": \"center\", \"baseline\": \"middle\"}, \"encoding\": {\"color\": {\"value\": \"black\"}, \"text\": {\"field\": \"pct_trips_competitive\", \"format\": \".0%\", \"type\": \"quantitative\"}, \"tooltip\": [{\"field\": \"route_id\", \"type\": \"nominal\"}, {\"field\": \"trip_id\", \"type\": \"nominal\"}, {\"field\": \"service_hours\", \"type\": \"quantitative\"}, {\"field\": \"car_duration_hours\", \"type\": \"quantitative\"}, {\"field\": \"bus_multiplier\", \"type\": \"quantitative\"}, {\"field\": \"bus_difference\", \"type\": \"quantitative\"}, {\"field\": \"num_trips\", \"type\": \"quantitative\"}, {\"field\": \"num_competitive\", \"type\": \"quantitative\"}, {\"field\": \"pct_trips_competitive\", \"type\": \"quantitative\"}, {\"field\": \"p25\", \"type\": \"quantitative\"}, {\"field\": \"p50\", \"type\": \"quantitative\"}, {\"field\": \"p75\", \"type\": \"quantitative\"}], \"x\": {\"value\": 30}, \"y\": {\"value\": 15}}, \"transform\": [{\"calculate\": \"sqrt(-2*log(random()))*cos(2*PI*random())\", \"as\": \"jitter\"}, {\"filter\": \"(datum.fastest_trip === 1)\"}]}]}]}, \"resolve\": {\"scale\": {\"y\": \"shared\"}}, \"title\": \"Difference in Bus to Car Travel Time (min)\", \"$schema\": \"https://vega.github.io/schema/vega-lite/v4.17.0.json\", \"datasets\": {\"data-40ed1bb1e13f13ca672fd6e337a3d617\": [{\"calitp_itp_id\": 260, \"trip_key\": 5600594073510181254, \"trip_id\": \"BCT102 SB_MF.T15\", \"shape_id\": \"BCT102 SB\", \"route_id\": \"BCT102 SB\", \"service_hours\": 0.63, \"trip_first_departure_ts\": 41940, \"trip_last_arrival_ts\": 44220, \"departure_hour\": 11, \"time_of_day\": \"Midday\", \"p25\": 0.63, \"p50\": 0.63, \"p75\": 0.63, \"p50_trip\": 1, \"fastest_trip\": 0, \"car_duration_hours\": 0.59, \"competitive_route\": 1, \"bus_multiplier\": 1.07, \"bus_difference\": 2.4, \"num_trips\": 31, \"num_competitive\": 31, \"pct_trips_competitive\": 1.0, \"bus_difference_spread\": 0.0, \"route_group\": \"short\", \"max_trip_hrs\": 0.63, \"max_trip_route_group\": 0.63, \"name\": \"City of Redondo Beach\", \"caltrans_district\": \"07 - Los Angeles\", \"drmt_organization_name\": null, \"cutoff2\": 9.45, \"cutoff\": 0}, {\"calitp_itp_id\": 260, \"trip_key\": -5553955856524841021, \"trip_id\": \"BCT102 SB_MF.T30\", \"shape_id\": \"BCT102 SB\", \"route_id\": \"BCT102 SB\", \"service_hours\": 0.63, \"trip_first_departure_ts\": 69780, \"trip_last_arrival_ts\": 72060, \"departure_hour\": 19, \"time_of_day\": \"PM Peak\", \"p25\": 0.63, \"p50\": 0.63, \"p75\": 0.63, \"p50_trip\": 1, \"fastest_trip\": 1, \"car_duration_hours\": 0.59, \"competitive_route\": 1, \"bus_multiplier\": 1.07, \"bus_difference\": 2.4, \"num_trips\": 31, \"num_competitive\": 31, \"pct_trips_competitive\": 1.0, \"bus_difference_spread\": 0.0, \"route_group\": \"short\", \"max_trip_hrs\": 0.63, \"max_trip_route_group\": 0.63, \"name\": \"City of Redondo Beach\", \"caltrans_district\": \"07 - Los Angeles\", \"drmt_organization_name\": null, \"cutoff2\": 9.45, \"cutoff\": 0}, {\"calitp_itp_id\": 260, \"trip_key\": 8801839722880547986, \"trip_id\": \"BCT102 SB_MF.T29\", \"shape_id\": \"BCT102 SB\", \"route_id\": \"BCT102 SB\", \"service_hours\": 0.63, \"trip_first_departure_ts\": 67980, \"trip_last_arrival_ts\": 70260, \"departure_hour\": 18, \"time_of_day\": \"PM Peak\", \"p25\": 0.63, \"p50\": 0.63, \"p75\": 0.63, \"p50_trip\": 1, \"fastest_trip\": 0, \"car_duration_hours\": 0.59, \"competitive_route\": 1, \"bus_multiplier\": 1.07, \"bus_difference\": 2.4, \"num_trips\": 31, \"num_competitive\": 31, \"pct_trips_competitive\": 1.0, \"bus_difference_spread\": 0.0, \"route_group\": \"short\", \"max_trip_hrs\": 0.63, \"max_trip_route_group\": 0.63, \"name\": \"City of Redondo Beach\", \"caltrans_district\": \"07 - Los Angeles\", \"drmt_organization_name\": null, \"cutoff2\": 9.45, \"cutoff\": 0}, {\"calitp_itp_id\": 260, \"trip_key\": -215016114500874665, \"trip_id\": \"BCT102 SB_MF.T08\", \"shape_id\": \"BCT102 SB\", \"route_id\": \"BCT102 SB\", \"service_hours\": 0.63, \"trip_first_departure_ts\": 29520, \"trip_last_arrival_ts\": 31800, \"departure_hour\": 8, \"time_of_day\": \"AM Peak\", \"p25\": 0.63, \"p50\": 0.63, \"p75\": 0.63, \"p50_trip\": 1, \"fastest_trip\": 0, \"car_duration_hours\": 0.59, \"competitive_route\": 1, \"bus_multiplier\": 1.07, \"bus_difference\": 2.4, \"num_trips\": 31, \"num_competitive\": 31, \"pct_trips_competitive\": 1.0, \"bus_difference_spread\": 0.0, \"route_group\": \"short\", \"max_trip_hrs\": 0.63, \"max_trip_route_group\": 0.63, \"name\": \"City of Redondo Beach\", \"caltrans_district\": \"07 - Los Angeles\", \"drmt_organization_name\": null, \"cutoff2\": 9.45, \"cutoff\": 0}, {\"calitp_itp_id\": 260, \"trip_key\": 4157095849159416399, \"trip_id\": \"BCT102 SB_MF.T18\", \"shape_id\": \"BCT102 SB\", \"route_id\": \"BCT102 SB\", \"service_hours\": 0.63, \"trip_first_departure_ts\": 48240, \"trip_last_arrival_ts\": 50520, \"departure_hour\": 13, \"time_of_day\": \"Midday\", \"p25\": 0.63, \"p50\": 0.63, \"p75\": 0.63, \"p50_trip\": 1, \"fastest_trip\": 0, \"car_duration_hours\": 0.59, \"competitive_route\": 1, \"bus_multiplier\": 1.07, \"bus_difference\": 2.4, \"num_trips\": 31, \"num_competitive\": 31, \"pct_trips_competitive\": 1.0, \"bus_difference_spread\": 0.0, \"route_group\": \"short\", \"max_trip_hrs\": 0.63, \"max_trip_route_group\": 0.63, \"name\": \"City of Redondo Beach\", \"caltrans_district\": \"07 - Los Angeles\", \"drmt_organization_name\": null, \"cutoff2\": 9.45, \"cutoff\": 0}, {\"calitp_itp_id\": 260, \"trip_key\": 7870570428958274744, \"trip_id\": \"BCT102 SB_MF.T04\", \"shape_id\": \"BCT102 SB\", \"route_id\": \"BCT102 SB\", \"service_hours\": 0.63, \"trip_first_departure_ts\": 25500, \"trip_last_arrival_ts\": 27780, \"departure_hour\": 7, \"time_of_day\": \"AM Peak\", \"p25\": 0.63, \"p50\": 0.63, \"p75\": 0.63, \"p50_trip\": 1, \"fastest_trip\": 0, \"car_duration_hours\": 0.59, \"competitive_route\": 1, \"bus_multiplier\": 1.07, \"bus_difference\": 2.4, \"num_trips\": 31, \"num_competitive\": 31, \"pct_trips_competitive\": 1.0, \"bus_difference_spread\": 0.0, \"route_group\": \"short\", \"max_trip_hrs\": 0.63, \"max_trip_route_group\": 0.63, \"name\": \"City of Redondo Beach\", \"caltrans_district\": \"07 - Los Angeles\", \"drmt_organization_name\": null, \"cutoff2\": 9.45, \"cutoff\": 0}, {\"calitp_itp_id\": 260, \"trip_key\": 66336865387378607, \"trip_id\": \"BCT102 SB_MF.T28\", \"shape_id\": \"BCT102 SB\", \"route_id\": \"BCT102 SB\", \"service_hours\": 0.63, \"trip_first_departure_ts\": 66180, \"trip_last_arrival_ts\": 68460, \"departure_hour\": 18, \"time_of_day\": \"PM Peak\", \"p25\": 0.63, \"p50\": 0.63, \"p75\": 0.63, \"p50_trip\": 1, \"fastest_trip\": 0, \"car_duration_hours\": 0.59, \"competitive_route\": 1, \"bus_multiplier\": 1.07, \"bus_difference\": 2.4, \"num_trips\": 31, \"num_competitive\": 31, \"pct_trips_competitive\": 1.0, \"bus_difference_spread\": 0.0, \"route_group\": \"short\", \"max_trip_hrs\": 0.63, \"max_trip_route_group\": 0.63, \"name\": \"City of Redondo Beach\", \"caltrans_district\": \"07 - Los Angeles\", \"drmt_organization_name\": null, \"cutoff2\": 9.45, \"cutoff\": 0}, {\"calitp_itp_id\": 260, \"trip_key\": 1849295836178047209, \"trip_id\": \"BCT102 SB_MF.T01\", \"shape_id\": \"BCT102 SB\", \"route_id\": \"BCT102 SB\", \"service_hours\": 0.63, \"trip_first_departure_ts\": 22740, \"trip_last_arrival_ts\": 25020, \"departure_hour\": 6, \"time_of_day\": \"Owl Service\", \"p25\": 0.63, \"p50\": 0.63, \"p75\": 0.63, \"p50_trip\": 1, \"fastest_trip\": 0, \"car_duration_hours\": 0.59, \"competitive_route\": 1, \"bus_multiplier\": 1.07, \"bus_difference\": 2.4, \"num_trips\": 31, \"num_competitive\": 31, \"pct_trips_competitive\": 1.0, \"bus_difference_spread\": 0.0, \"route_group\": \"short\", \"max_trip_hrs\": 0.63, \"max_trip_route_group\": 0.63, \"name\": \"City of Redondo Beach\", \"caltrans_district\": \"07 - Los Angeles\", \"drmt_organization_name\": null, \"cutoff2\": 9.45, \"cutoff\": 0}, {\"calitp_itp_id\": 260, \"trip_key\": 8888593141944986521, \"trip_id\": \"BCT102 SB_MF.T11\", \"shape_id\": \"BCT102 SB\", \"route_id\": \"BCT102 SB\", \"service_hours\": 0.63, \"trip_first_departure_ts\": 34920, \"trip_last_arrival_ts\": 37200, \"departure_hour\": 9, \"time_of_day\": \"AM Peak\", \"p25\": 0.63, \"p50\": 0.63, \"p75\": 0.63, \"p50_trip\": 1, \"fastest_trip\": 0, \"car_duration_hours\": 0.59, \"competitive_route\": 1, \"bus_multiplier\": 1.07, \"bus_difference\": 2.4, \"num_trips\": 31, \"num_competitive\": 31, \"pct_trips_competitive\": 1.0, \"bus_difference_spread\": 0.0, \"route_group\": \"short\", \"max_trip_hrs\": 0.63, \"max_trip_route_group\": 0.63, \"name\": \"City of Redondo Beach\", \"caltrans_district\": \"07 - Los Angeles\", \"drmt_organization_name\": null, \"cutoff2\": 9.45, \"cutoff\": 0}, {\"calitp_itp_id\": 260, \"trip_key\": -5735749424997332655, \"trip_id\": \"BCT102 SB_MF.T25\", \"shape_id\": \"BCT102 SB\", \"route_id\": \"BCT102 SB\", \"service_hours\": 0.63, \"trip_first_departure_ts\": 60780, \"trip_last_arrival_ts\": 63060, \"departure_hour\": 16, \"time_of_day\": \"Midday\", \"p25\": 0.63, \"p50\": 0.63, \"p75\": 0.63, \"p50_trip\": 1, \"fastest_trip\": 0, \"car_duration_hours\": 0.59, \"competitive_route\": 1, \"bus_multiplier\": 1.07, \"bus_difference\": 2.4, \"num_trips\": 31, \"num_competitive\": 31, \"pct_trips_competitive\": 1.0, \"bus_difference_spread\": 0.0, \"route_group\": \"short\", \"max_trip_hrs\": 0.63, \"max_trip_route_group\": 0.63, \"name\": \"City of Redondo Beach\", \"caltrans_district\": \"07 - Los Angeles\", \"drmt_organization_name\": null, \"cutoff2\": 9.45, \"cutoff\": 0}, {\"calitp_itp_id\": 260, \"trip_key\": 810308228482532214, \"trip_id\": \"BCT102 SB_MF.T02\", \"shape_id\": \"BCT102 SB\", \"route_id\": \"BCT102 SB\", \"service_hours\": 0.63, \"trip_first_departure_ts\": 24240, \"trip_last_arrival_ts\": 26520, \"departure_hour\": 6, \"time_of_day\": \"Owl Service\", \"p25\": 0.63, \"p50\": 0.63, \"p75\": 0.63, \"p50_trip\": 1, \"fastest_trip\": 0, \"car_duration_hours\": 0.59, \"competitive_route\": 1, \"bus_multiplier\": 1.07, \"bus_difference\": 2.4, \"num_trips\": 31, \"num_competitive\": 31, \"pct_trips_competitive\": 1.0, \"bus_difference_spread\": 0.0, \"route_group\": \"short\", \"max_trip_hrs\": 0.63, \"max_trip_route_group\": 0.63, \"name\": \"City of Redondo Beach\", \"caltrans_district\": \"07 - Los Angeles\", \"drmt_organization_name\": null, \"cutoff2\": 9.45, \"cutoff\": 0}, {\"calitp_itp_id\": 260, \"trip_key\": -2902071067911749990, \"trip_id\": \"BCT102 SB_MF.T31\", \"shape_id\": \"BCT102 SB\", \"route_id\": \"BCT102 SB\", \"service_hours\": 0.63, \"trip_first_departure_ts\": 71700, \"trip_last_arrival_ts\": 73980, \"departure_hour\": 19, \"time_of_day\": \"PM Peak\", \"p25\": 0.63, \"p50\": 0.63, \"p75\": 0.63, \"p50_trip\": 1, \"fastest_trip\": 0, \"car_duration_hours\": 0.59, \"competitive_route\": 1, \"bus_multiplier\": 1.07, \"bus_difference\": 2.4, \"num_trips\": 31, \"num_competitive\": 31, \"pct_trips_competitive\": 1.0, \"bus_difference_spread\": 0.0, \"route_group\": \"short\", \"max_trip_hrs\": 0.63, \"max_trip_route_group\": 0.63, \"name\": \"City of Redondo Beach\", \"caltrans_district\": \"07 - Los Angeles\", \"drmt_organization_name\": null, \"cutoff2\": 9.45, \"cutoff\": 0}, {\"calitp_itp_id\": 260, \"trip_key\": -4690143314967611854, \"trip_id\": \"BCT102 SB_MF.T20\", \"shape_id\": \"BCT102 SB\", \"route_id\": \"BCT102 SB\", \"service_hours\": 0.63, \"trip_first_departure_ts\": 51840, \"trip_last_arrival_ts\": 54120, \"departure_hour\": 14, \"time_of_day\": \"Midday\", \"p25\": 0.63, \"p50\": 0.63, \"p75\": 0.63, \"p50_trip\": 1, \"fastest_trip\": 0, \"car_duration_hours\": 0.59, \"competitive_route\": 1, \"bus_multiplier\": 1.07, \"bus_difference\": 2.4, \"num_trips\": 31, \"num_competitive\": 31, \"pct_trips_competitive\": 1.0, \"bus_difference_spread\": 0.0, \"route_group\": \"short\", \"max_trip_hrs\": 0.63, \"max_trip_route_group\": 0.63, \"name\": \"City of Redondo Beach\", \"caltrans_district\": \"07 - Los Angeles\", \"drmt_organization_name\": null, \"cutoff2\": 9.45, \"cutoff\": 0}, {\"calitp_itp_id\": 260, \"trip_key\": 929902077473829746, \"trip_id\": \"BCT102 SB_MF.T27\", \"shape_id\": \"BCT102 SB\", \"route_id\": \"BCT102 SB\", \"service_hours\": 0.63, \"trip_first_departure_ts\": 64380, \"trip_last_arrival_ts\": 66660, \"departure_hour\": 17, \"time_of_day\": \"PM Peak\", \"p25\": 0.63, \"p50\": 0.63, \"p75\": 0.63, \"p50_trip\": 1, \"fastest_trip\": 0, \"car_duration_hours\": 0.59, \"competitive_route\": 1, \"bus_multiplier\": 1.07, \"bus_difference\": 2.4, \"num_trips\": 31, \"num_competitive\": 31, \"pct_trips_competitive\": 1.0, \"bus_difference_spread\": 0.0, \"route_group\": \"short\", \"max_trip_hrs\": 0.63, \"max_trip_route_group\": 0.63, \"name\": \"City of Redondo Beach\", \"caltrans_district\": \"07 - Los Angeles\", \"drmt_organization_name\": null, \"cutoff2\": 9.45, \"cutoff\": 0}, {\"calitp_itp_id\": 260, \"trip_key\": -90858452867729391, \"trip_id\": \"BCT102 SB_MF.T19\", \"shape_id\": \"BCT102 SB\", \"route_id\": \"BCT102 SB\", \"service_hours\": 0.63, \"trip_first_departure_ts\": 50040, \"trip_last_arrival_ts\": 52320, \"departure_hour\": 13, \"time_of_day\": \"Midday\", \"p25\": 0.63, \"p50\": 0.63, \"p75\": 0.63, \"p50_trip\": 1, \"fastest_trip\": 0, \"car_duration_hours\": 0.59, \"competitive_route\": 1, \"bus_multiplier\": 1.07, \"bus_difference\": 2.4, \"num_trips\": 31, \"num_competitive\": 31, \"pct_trips_competitive\": 1.0, \"bus_difference_spread\": 0.0, \"route_group\": \"short\", \"max_trip_hrs\": 0.63, \"max_trip_route_group\": 0.63, \"name\": \"City of Redondo Beach\", \"caltrans_district\": \"07 - Los Angeles\", \"drmt_organization_name\": null, \"cutoff2\": 9.45, \"cutoff\": 0}, {\"calitp_itp_id\": 260, \"trip_key\": 8838309147655915020, \"trip_id\": \"BCT102 SB_MF.T21\", \"shape_id\": \"BCT102 SB\", \"route_id\": \"BCT102 SB\", \"service_hours\": 0.63, \"trip_first_departure_ts\": 53640, \"trip_last_arrival_ts\": 55920, \"departure_hour\": 14, \"time_of_day\": \"Midday\", \"p25\": 0.63, \"p50\": 0.63, \"p75\": 0.63, \"p50_trip\": 1, \"fastest_trip\": 0, \"car_duration_hours\": 0.59, \"competitive_route\": 1, \"bus_multiplier\": 1.07, \"bus_difference\": 2.4, \"num_trips\": 31, \"num_competitive\": 31, \"pct_trips_competitive\": 1.0, \"bus_difference_spread\": 0.0, \"route_group\": \"short\", \"max_trip_hrs\": 0.63, \"max_trip_route_group\": 0.63, \"name\": \"City of Redondo Beach\", \"caltrans_district\": \"07 - Los Angeles\", \"drmt_organization_name\": null, \"cutoff2\": 9.45, \"cutoff\": 0}, {\"calitp_itp_id\": 260, \"trip_key\": -8320198027851603441, \"trip_id\": \"BCT102 SB_MF.T09\", \"shape_id\": \"BCT102 SB\", \"route_id\": \"BCT102 SB\", \"service_hours\": 0.63, \"trip_first_departure_ts\": 31140, \"trip_last_arrival_ts\": 33420, \"departure_hour\": 8, \"time_of_day\": \"AM Peak\", \"p25\": 0.63, \"p50\": 0.63, \"p75\": 0.63, \"p50_trip\": 1, \"fastest_trip\": 0, \"car_duration_hours\": 0.59, \"competitive_route\": 1, \"bus_multiplier\": 1.07, \"bus_difference\": 2.4, \"num_trips\": 31, \"num_competitive\": 31, \"pct_trips_competitive\": 1.0, \"bus_difference_spread\": 0.0, \"route_group\": \"short\", \"max_trip_hrs\": 0.63, \"max_trip_route_group\": 0.63, \"name\": \"City of Redondo Beach\", \"caltrans_district\": \"07 - Los Angeles\", \"drmt_organization_name\": null, \"cutoff2\": 9.45, \"cutoff\": 0}, {\"calitp_itp_id\": 260, \"trip_key\": -3103483456625778491, \"trip_id\": \"BCT102 SB_MF.T14\", \"shape_id\": \"BCT102 SB\", \"route_id\": \"BCT102 SB\", \"service_hours\": 0.63, \"trip_first_departure_ts\": 40140, \"trip_last_arrival_ts\": 42420, \"departure_hour\": 11, \"time_of_day\": \"Midday\", \"p25\": 0.63, \"p50\": 0.63, \"p75\": 0.63, \"p50_trip\": 1, \"fastest_trip\": 0, \"car_duration_hours\": 0.59, \"competitive_route\": 1, \"bus_multiplier\": 1.07, \"bus_difference\": 2.4, \"num_trips\": 31, \"num_competitive\": 31, \"pct_trips_competitive\": 1.0, \"bus_difference_spread\": 0.0, \"route_group\": \"short\", \"max_trip_hrs\": 0.63, \"max_trip_route_group\": 0.63, \"name\": \"City of Redondo Beach\", \"caltrans_district\": \"07 - Los Angeles\", \"drmt_organization_name\": null, \"cutoff2\": 9.45, \"cutoff\": 0}, {\"calitp_itp_id\": 260, \"trip_key\": 1828916571418240004, \"trip_id\": \"BCT102 SB_MF.T16\", \"shape_id\": \"BCT102 SB\", \"route_id\": \"BCT102 SB\", \"service_hours\": 0.63, \"trip_first_departure_ts\": 43740, \"trip_last_arrival_ts\": 46020, \"departure_hour\": 12, \"time_of_day\": \"Midday\", \"p25\": 0.63, \"p50\": 0.63, \"p75\": 0.63, \"p50_trip\": 1, \"fastest_trip\": 0, \"car_duration_hours\": 0.59, \"competitive_route\": 1, \"bus_multiplier\": 1.07, \"bus_difference\": 2.4, \"num_trips\": 31, \"num_competitive\": 31, \"pct_trips_competitive\": 1.0, \"bus_difference_spread\": 0.0, \"route_group\": \"short\", \"max_trip_hrs\": 0.63, \"max_trip_route_group\": 0.63, \"name\": \"City of Redondo Beach\", \"caltrans_district\": \"07 - Los Angeles\", \"drmt_organization_name\": null, \"cutoff2\": 9.45, \"cutoff\": 0}, {\"calitp_itp_id\": 260, \"trip_key\": -4401258628786279744, \"trip_id\": \"BCT102 SB_MF.T17\", \"shape_id\": \"BCT102 SB\", \"route_id\": \"BCT102 SB\", \"service_hours\": 0.63, \"trip_first_departure_ts\": 45540, \"trip_last_arrival_ts\": 47820, \"departure_hour\": 12, \"time_of_day\": \"Midday\", \"p25\": 0.63, \"p50\": 0.63, \"p75\": 0.63, \"p50_trip\": 1, \"fastest_trip\": 0, \"car_duration_hours\": 0.59, \"competitive_route\": 1, \"bus_multiplier\": 1.07, \"bus_difference\": 2.4, \"num_trips\": 31, \"num_competitive\": 31, \"pct_trips_competitive\": 1.0, \"bus_difference_spread\": 0.0, \"route_group\": \"short\", \"max_trip_hrs\": 0.63, \"max_trip_route_group\": 0.63, \"name\": \"City of Redondo Beach\", \"caltrans_district\": \"07 - Los Angeles\", \"drmt_organization_name\": null, \"cutoff2\": 9.45, \"cutoff\": 0}, {\"calitp_itp_id\": 260, \"trip_key\": 3924681704903124640, \"trip_id\": \"BCT102 SB_MF.T23\", \"shape_id\": \"BCT102 SB\", \"route_id\": \"BCT102 SB\", \"service_hours\": 0.63, \"trip_first_departure_ts\": 57480, \"trip_last_arrival_ts\": 59760, \"departure_hour\": 15, \"time_of_day\": \"Midday\", \"p25\": 0.63, \"p50\": 0.63, \"p75\": 0.63, \"p50_trip\": 1, \"fastest_trip\": 0, \"car_duration_hours\": 0.59, \"competitive_route\": 1, \"bus_multiplier\": 1.07, \"bus_difference\": 2.4, \"num_trips\": 31, \"num_competitive\": 31, \"pct_trips_competitive\": 1.0, \"bus_difference_spread\": 0.0, \"route_group\": \"short\", \"max_trip_hrs\": 0.63, \"max_trip_route_group\": 0.63, \"name\": \"City of Redondo Beach\", \"caltrans_district\": \"07 - Los Angeles\", \"drmt_organization_name\": null, \"cutoff2\": 9.45, \"cutoff\": 0}, {\"calitp_itp_id\": 260, \"trip_key\": -3244853499214608810, \"trip_id\": \"BCT102 SB_MF.T22\", \"shape_id\": \"BCT102 SB\", \"route_id\": \"BCT102 SB\", \"service_hours\": 0.63, \"trip_first_departure_ts\": 55860, \"trip_last_arrival_ts\": 58140, \"departure_hour\": 15, \"time_of_day\": \"Midday\", \"p25\": 0.63, \"p50\": 0.63, \"p75\": 0.63, \"p50_trip\": 1, \"fastest_trip\": 0, \"car_duration_hours\": 0.59, \"competitive_route\": 1, \"bus_multiplier\": 1.07, \"bus_difference\": 2.4, \"num_trips\": 31, \"num_competitive\": 31, \"pct_trips_competitive\": 1.0, \"bus_difference_spread\": 0.0, \"route_group\": \"short\", \"max_trip_hrs\": 0.63, \"max_trip_route_group\": 0.63, \"name\": \"City of Redondo Beach\", \"caltrans_district\": \"07 - Los Angeles\", \"drmt_organization_name\": null, \"cutoff2\": 9.45, \"cutoff\": 0}, {\"calitp_itp_id\": 260, \"trip_key\": 5774528551612231024, \"trip_id\": \"BCT102 SB_MF.T26\", \"shape_id\": \"BCT102 SB\", \"route_id\": \"BCT102 SB\", \"service_hours\": 0.63, \"trip_first_departure_ts\": 62580, \"trip_last_arrival_ts\": 64860, \"departure_hour\": 17, \"time_of_day\": \"PM Peak\", \"p25\": 0.63, \"p50\": 0.63, \"p75\": 0.63, \"p50_trip\": 1, \"fastest_trip\": 0, \"car_duration_hours\": 0.59, \"competitive_route\": 1, \"bus_multiplier\": 1.07, \"bus_difference\": 2.4, \"num_trips\": 31, \"num_competitive\": 31, \"pct_trips_competitive\": 1.0, \"bus_difference_spread\": 0.0, \"route_group\": \"short\", \"max_trip_hrs\": 0.63, \"max_trip_route_group\": 0.63, \"name\": \"City of Redondo Beach\", \"caltrans_district\": \"07 - Los Angeles\", \"drmt_organization_name\": null, \"cutoff2\": 9.45, \"cutoff\": 0}, {\"calitp_itp_id\": 260, \"trip_key\": 8382291158281313618, \"trip_id\": \"BCT102 SB_MF.T10\", \"shape_id\": \"BCT102 SB\", \"route_id\": \"BCT102 SB\", \"service_hours\": 0.63, \"trip_first_departure_ts\": 33120, \"trip_last_arrival_ts\": 35400, \"departure_hour\": 9, \"time_of_day\": \"AM Peak\", \"p25\": 0.63, \"p50\": 0.63, \"p75\": 0.63, \"p50_trip\": 1, \"fastest_trip\": 0, \"car_duration_hours\": 0.59, \"competitive_route\": 1, \"bus_multiplier\": 1.07, \"bus_difference\": 2.4, \"num_trips\": 31, \"num_competitive\": 31, \"pct_trips_competitive\": 1.0, \"bus_difference_spread\": 0.0, \"route_group\": \"short\", \"max_trip_hrs\": 0.63, \"max_trip_route_group\": 0.63, \"name\": \"City of Redondo Beach\", \"caltrans_district\": \"07 - Los Angeles\", \"drmt_organization_name\": null, \"cutoff2\": 9.45, \"cutoff\": 0}, {\"calitp_itp_id\": 260, \"trip_key\": 6532390427287396813, \"trip_id\": \"BCT102 SB_MF.T12\", \"shape_id\": \"BCT102 SB\", \"route_id\": \"BCT102 SB\", \"service_hours\": 0.63, \"trip_first_departure_ts\": 36540, \"trip_last_arrival_ts\": 38820, \"departure_hour\": 10, \"time_of_day\": \"Midday\", \"p25\": 0.63, \"p50\": 0.63, \"p75\": 0.63, \"p50_trip\": 1, \"fastest_trip\": 0, \"car_duration_hours\": 0.59, \"competitive_route\": 1, \"bus_multiplier\": 1.07, \"bus_difference\": 2.4, \"num_trips\": 31, \"num_competitive\": 31, \"pct_trips_competitive\": 1.0, \"bus_difference_spread\": 0.0, \"route_group\": \"short\", \"max_trip_hrs\": 0.63, \"max_trip_route_group\": 0.63, \"name\": \"City of Redondo Beach\", \"caltrans_district\": \"07 - Los Angeles\", \"drmt_organization_name\": null, \"cutoff2\": 9.45, \"cutoff\": 0}, {\"calitp_itp_id\": 260, \"trip_key\": -8685734809874011135, \"trip_id\": \"BCT102 SB_MF.T13\", \"shape_id\": \"BCT102 SB\", \"route_id\": \"BCT102 SB\", \"service_hours\": 0.63, \"trip_first_departure_ts\": 38340, \"trip_last_arrival_ts\": 40620, \"departure_hour\": 10, \"time_of_day\": \"Midday\", \"p25\": 0.63, \"p50\": 0.63, \"p75\": 0.63, \"p50_trip\": 1, \"fastest_trip\": 0, \"car_duration_hours\": 0.59, \"competitive_route\": 1, \"bus_multiplier\": 1.07, \"bus_difference\": 2.4, \"num_trips\": 31, \"num_competitive\": 31, \"pct_trips_competitive\": 1.0, \"bus_difference_spread\": 0.0, \"route_group\": \"short\", \"max_trip_hrs\": 0.63, \"max_trip_route_group\": 0.63, \"name\": \"City of Redondo Beach\", \"caltrans_district\": \"07 - Los Angeles\", \"drmt_organization_name\": null, \"cutoff2\": 9.45, \"cutoff\": 0}, {\"calitp_itp_id\": 260, \"trip_key\": 8869313843031039602, \"trip_id\": \"BCT102 SB_MF.T03\", \"shape_id\": \"BCT102 SB\", \"route_id\": \"BCT102 SB\", \"service_hours\": 0.63, \"trip_first_departure_ts\": 25200, \"trip_last_arrival_ts\": 27480, \"departure_hour\": 7, \"time_of_day\": \"AM Peak\", \"p25\": 0.63, \"p50\": 0.63, \"p75\": 0.63, \"p50_trip\": 1, \"fastest_trip\": 0, \"car_duration_hours\": 0.59, \"competitive_route\": 1, \"bus_multiplier\": 1.07, \"bus_difference\": 2.4, \"num_trips\": 31, \"num_competitive\": 31, \"pct_trips_competitive\": 1.0, \"bus_difference_spread\": 0.0, \"route_group\": \"short\", \"max_trip_hrs\": 0.63, \"max_trip_route_group\": 0.63, \"name\": \"City of Redondo Beach\", \"caltrans_district\": \"07 - Los Angeles\", \"drmt_organization_name\": null, \"cutoff2\": 9.45, \"cutoff\": 0}, {\"calitp_itp_id\": 260, \"trip_key\": 4507958272068012161, \"trip_id\": \"BCT102 SB_MF.T05\", \"shape_id\": \"BCT102 SB\", \"route_id\": \"BCT102 SB\", \"service_hours\": 0.63, \"trip_first_departure_ts\": 25920, \"trip_last_arrival_ts\": 28200, \"departure_hour\": 7, \"time_of_day\": \"AM Peak\", \"p25\": 0.63, \"p50\": 0.63, \"p75\": 0.63, \"p50_trip\": 1, \"fastest_trip\": 0, \"car_duration_hours\": 0.59, \"competitive_route\": 1, \"bus_multiplier\": 1.07, \"bus_difference\": 2.4, \"num_trips\": 31, \"num_competitive\": 31, \"pct_trips_competitive\": 1.0, \"bus_difference_spread\": 0.0, \"route_group\": \"short\", \"max_trip_hrs\": 0.63, \"max_trip_route_group\": 0.63, \"name\": \"City of Redondo Beach\", \"caltrans_district\": \"07 - Los Angeles\", \"drmt_organization_name\": null, \"cutoff2\": 9.45, \"cutoff\": 0}, {\"calitp_itp_id\": 260, \"trip_key\": 1846954128314572841, \"trip_id\": \"BCT102 SB_MF.T24\", \"shape_id\": \"BCT102 SB\", \"route_id\": \"BCT102 SB\", \"service_hours\": 0.63, \"trip_first_departure_ts\": 58980, \"trip_last_arrival_ts\": 61260, \"departure_hour\": 16, \"time_of_day\": \"Midday\", \"p25\": 0.63, \"p50\": 0.63, \"p75\": 0.63, \"p50_trip\": 1, \"fastest_trip\": 0, \"car_duration_hours\": 0.59, \"competitive_route\": 1, \"bus_multiplier\": 1.07, \"bus_difference\": 2.4, \"num_trips\": 31, \"num_competitive\": 31, \"pct_trips_competitive\": 1.0, \"bus_difference_spread\": 0.0, \"route_group\": \"short\", \"max_trip_hrs\": 0.63, \"max_trip_route_group\": 0.63, \"name\": \"City of Redondo Beach\", \"caltrans_district\": \"07 - Los Angeles\", \"drmt_organization_name\": null, \"cutoff2\": 9.45, \"cutoff\": 0}, {\"calitp_itp_id\": 260, \"trip_key\": -3309727796545106649, \"trip_id\": \"BCT102 SB_MF.T07\", \"shape_id\": \"BCT102 SB\", \"route_id\": \"BCT102 SB\", \"service_hours\": 0.63, \"trip_first_departure_ts\": 27720, \"trip_last_arrival_ts\": 30000, \"departure_hour\": 7, \"time_of_day\": \"AM Peak\", \"p25\": 0.63, \"p50\": 0.63, \"p75\": 0.63, \"p50_trip\": 1, \"fastest_trip\": 0, \"car_duration_hours\": 0.59, \"competitive_route\": 1, \"bus_multiplier\": 1.07, \"bus_difference\": 2.4, \"num_trips\": 31, \"num_competitive\": 31, \"pct_trips_competitive\": 1.0, \"bus_difference_spread\": 0.0, \"route_group\": \"short\", \"max_trip_hrs\": 0.63, \"max_trip_route_group\": 0.63, \"name\": \"City of Redondo Beach\", \"caltrans_district\": \"07 - Los Angeles\", \"drmt_organization_name\": null, \"cutoff2\": 9.45, \"cutoff\": 0}, {\"calitp_itp_id\": 260, \"trip_key\": -1807960922360739503, \"trip_id\": \"BCT102 SB_MF.T06\", \"shape_id\": \"BCT102 SB\", \"route_id\": \"BCT102 SB\", \"service_hours\": 0.63, \"trip_first_departure_ts\": 26100, \"trip_last_arrival_ts\": 28380, \"departure_hour\": 7, \"time_of_day\": \"AM Peak\", \"p25\": 0.63, \"p50\": 0.63, \"p75\": 0.63, \"p50_trip\": 1, \"fastest_trip\": 0, \"car_duration_hours\": 0.59, \"competitive_route\": 1, \"bus_multiplier\": 1.07, \"bus_difference\": 2.4, \"num_trips\": 31, \"num_competitive\": 31, \"pct_trips_competitive\": 1.0, \"bus_difference_spread\": 0.0, \"route_group\": \"short\", \"max_trip_hrs\": 0.63, \"max_trip_route_group\": 0.63, \"name\": \"City of Redondo Beach\", \"caltrans_district\": \"07 - Los Angeles\", \"drmt_organization_name\": null, \"cutoff2\": 9.45, \"cutoff\": 0}]}}, {\"mode\": \"vega-lite\"});\n",
       "</script>"
      ],
      "text/plain": [
       "alt.FacetChart(...)"
      ]
     },
     "metadata": {},
     "output_type": "display_data"
    }
   ],
   "source": [
    "# Allow for possibility that operator doesn't have routes that fall into certain route_groups\n",
    "# But, jupyterbook will not like markdown with f-string\n",
    "# separate out route_group and put in each cell, and use try/except + if to display...\n",
    "# but all 3 route groups must be displayed. just add sentence about why no routes were returned at the end\n",
    "route_group = \"short\"\n",
    "try:\n",
    "    subset_routes, mult, diff  = setup_charts(df, PCT_COMPETITIVE_THRESHOLD, route_group)\n",
    "    \n",
    "    if len(subset_routes) > 0:\n",
    "        display(\n",
    "            Markdown(\n",
    "                f\"{CAPTIONS_DICT[route_group]}\"\n",
    "                \"Within each route group, routes are sorted in descending order \"\n",
    "                \"by % competitive trips and # trips below the additional time cut-off.\"\n",
    "            )\n",
    "        )\n",
    "\n",
    "        display(mult)\n",
    "        display(diff)\n",
    "except:\n",
    "    print(\"No routes meet this criteria.\")"
   ]
  },
  {
   "cell_type": "markdown",
   "id": "c2931b6f-034d-4384-9e14-80b925e3b820",
   "metadata": {
    "papermill": {
     "duration": 0.013653,
     "end_time": "2022-05-07T17:23:55.449500",
     "exception": false,
     "start_time": "2022-05-07T17:23:55.435847",
     "status": "completed"
    },
    "tags": []
   },
   "source": [
    "### Medium Routes (1-1.5 hrs)"
   ]
  },
  {
   "cell_type": "code",
   "execution_count": 13,
   "id": "480edddc-4de0-48c2-ae4c-b0ceef8f28b5",
   "metadata": {
    "execution": {
     "iopub.execute_input": "2022-05-07T17:23:55.479432Z",
     "iopub.status.busy": "2022-05-07T17:23:55.478497Z",
     "iopub.status.idle": "2022-05-07T17:23:55.710093Z",
     "shell.execute_reply": "2022-05-07T17:23:55.709518Z"
    },
    "jupyter": {
     "source_hidden": true
    },
    "papermill": {
     "duration": 0.248253,
     "end_time": "2022-05-07T17:23:55.712029",
     "exception": false,
     "start_time": "2022-05-07T17:23:55.463776",
     "status": "completed"
    },
    "tags": [
     "remove_input"
    ]
   },
   "outputs": [
    {
     "data": {
      "text/markdown": [
       "<br>These are routes that have at least 25% of their trips take no more than an additional 30 min compared to a car (up to 15 routes) are shown.Within each route group, routes are sorted in descending order by % competitive trips and # trips below the additional time cut-off."
      ],
      "text/plain": [
       "<IPython.core.display.Markdown object>"
      ]
     },
     "metadata": {},
     "output_type": "display_data"
    },
    {
     "data": {
      "text/html": [
       "\n",
       "<div id=\"altair-viz-1947779a8aa44c92847b48d48c9ad24c\"></div>\n",
       "<script type=\"text/javascript\">\n",
       "  var VEGA_DEBUG = (typeof VEGA_DEBUG == \"undefined\") ? {} : VEGA_DEBUG;\n",
       "  (function(spec, embedOpt){\n",
       "    let outputDiv = document.currentScript.previousElementSibling;\n",
       "    if (outputDiv.id !== \"altair-viz-1947779a8aa44c92847b48d48c9ad24c\") {\n",
       "      outputDiv = document.getElementById(\"altair-viz-1947779a8aa44c92847b48d48c9ad24c\");\n",
       "    }\n",
       "    const paths = {\n",
       "      \"vega\": \"https://cdn.jsdelivr.net/npm//vega@5?noext\",\n",
       "      \"vega-lib\": \"https://cdn.jsdelivr.net/npm//vega-lib?noext\",\n",
       "      \"vega-lite\": \"https://cdn.jsdelivr.net/npm//vega-lite@4.17.0?noext\",\n",
       "      \"vega-embed\": \"https://cdn.jsdelivr.net/npm//vega-embed@6?noext\",\n",
       "    };\n",
       "\n",
       "    function maybeLoadScript(lib, version) {\n",
       "      var key = `${lib.replace(\"-\", \"\")}_version`;\n",
       "      return (VEGA_DEBUG[key] == version) ?\n",
       "        Promise.resolve(paths[lib]) :\n",
       "        new Promise(function(resolve, reject) {\n",
       "          var s = document.createElement('script');\n",
       "          document.getElementsByTagName(\"head\")[0].appendChild(s);\n",
       "          s.async = true;\n",
       "          s.onload = () => {\n",
       "            VEGA_DEBUG[key] = version;\n",
       "            return resolve(paths[lib]);\n",
       "          };\n",
       "          s.onerror = () => reject(`Error loading script: ${paths[lib]}`);\n",
       "          s.src = paths[lib];\n",
       "        });\n",
       "    }\n",
       "\n",
       "    function showError(err) {\n",
       "      outputDiv.innerHTML = `<div class=\"error\" style=\"color:red;\">${err}</div>`;\n",
       "      throw err;\n",
       "    }\n",
       "\n",
       "    function displayChart(vegaEmbed) {\n",
       "      vegaEmbed(outputDiv, spec, embedOpt)\n",
       "        .catch(err => showError(`Javascript Error: ${err.message}<br>This usually means there's a typo in your chart specification. See the javascript console for the full traceback.`));\n",
       "    }\n",
       "\n",
       "    if(typeof define === \"function\" && define.amd) {\n",
       "      requirejs.config({paths});\n",
       "      require([\"vega-embed\"], displayChart, err => showError(`Error loading script: ${err.message}`));\n",
       "    } else {\n",
       "      maybeLoadScript(\"vega\", \"5\")\n",
       "        .then(() => maybeLoadScript(\"vega-lite\", \"4.17.0\"))\n",
       "        .then(() => maybeLoadScript(\"vega-embed\", \"6\"))\n",
       "        .catch(showError)\n",
       "        .then(() => displayChart(vegaEmbed));\n",
       "    }\n",
       "  })({\"config\": {\"view\": {\"continuousWidth\": 400, \"continuousHeight\": 300, \"stroke\": null}, \"facet\": {\"spacing\": 0}}, \"data\": {\"name\": \"data-2ff87d7302f544c9b62be1722927d5b7\"}, \"facet\": {\"column\": {\"field\": \"route_id\", \"sort\": [\"BCT109 NB\", \"BCT109 SB\"], \"title\": \"Route ID\", \"type\": \"nominal\"}}, \"spec\": {\"layer\": [{\"mark\": {\"type\": \"point\", \"opacity\": 0.65, \"size\": 12, \"strokeWidth\": 1.1}, \"encoding\": {\"color\": {\"field\": \"time_of_day\", \"scale\": {\"range\": [\"#136C97\", \"#E16B26\", \"#F6BF16\", \"#00896B\", \"#7790A3\", \"#5B559C\"]}, \"sort\": [\"AM Peak\", \"Midday\", \"PM Peak\", \"Owl Service\"], \"title\": \"Time of Day\", \"type\": \"nominal\"}, \"tooltip\": [{\"field\": \"route_id\", \"type\": \"nominal\"}, {\"field\": \"trip_id\", \"type\": \"nominal\"}, {\"field\": \"service_hours\", \"type\": \"quantitative\"}, {\"field\": \"car_duration_hours\", \"type\": \"quantitative\"}, {\"field\": \"bus_multiplier\", \"type\": \"quantitative\"}, {\"field\": \"bus_difference\", \"type\": \"quantitative\"}, {\"field\": \"num_trips\", \"type\": \"quantitative\"}, {\"field\": \"num_competitive\", \"type\": \"quantitative\"}, {\"field\": \"pct_trips_competitive\", \"type\": \"quantitative\"}, {\"field\": \"p25\", \"type\": \"quantitative\"}, {\"field\": \"p50\", \"type\": \"quantitative\"}, {\"field\": \"p75\", \"type\": \"quantitative\"}], \"x\": {\"axis\": {\"grid\": false, \"labels\": false, \"ticks\": true, \"values\": [0]}, \"field\": \"jitter\", \"scale\": {}, \"title\": null, \"type\": \"quantitative\"}, \"y\": {\"field\": \"bus_multiplier\", \"scale\": {\"domain\": [-0.25, 2.5]}, \"title\": \"Ratio of Bus to Car Travel Time\", \"type\": \"quantitative\"}}, \"selection\": {\"selector003\": {\"type\": \"interval\", \"bind\": \"scales\", \"encodings\": [\"x\", \"y\"]}}, \"transform\": [{\"calculate\": \"sqrt(-2*log(random()))*cos(2*PI*random())\", \"as\": \"jitter\"}], \"width\": 60}, {\"layer\": [{\"mark\": {\"type\": \"point\", \"opacity\": 0.6, \"size\": 20, \"strokeWidth\": 1.3}, \"encoding\": {\"color\": {\"value\": \"#323434\"}, \"y\": {\"field\": \"bus_multiplier\", \"type\": \"quantitative\"}}, \"transform\": [{\"filter\": \"(datum.p50_trip === 1)\"}]}, {\"mark\": {\"type\": \"rule\", \"strokeDash\": [2, 3]}, \"encoding\": {\"color\": {\"value\": \"#323434\"}, \"y\": {\"field\": \"cutoff\", \"type\": \"quantitative\"}}}, {\"mark\": {\"type\": \"text\", \"align\": \"center\", \"baseline\": \"middle\"}, \"encoding\": {\"color\": {\"value\": \"black\"}, \"text\": {\"field\": \"pct_trips_competitive\", \"format\": \".0%\", \"type\": \"quantitative\"}, \"tooltip\": [{\"field\": \"route_id\", \"type\": \"nominal\"}, {\"field\": \"trip_id\", \"type\": \"nominal\"}, {\"field\": \"service_hours\", \"type\": \"quantitative\"}, {\"field\": \"car_duration_hours\", \"type\": \"quantitative\"}, {\"field\": \"bus_multiplier\", \"type\": \"quantitative\"}, {\"field\": \"bus_difference\", \"type\": \"quantitative\"}, {\"field\": \"num_trips\", \"type\": \"quantitative\"}, {\"field\": \"num_competitive\", \"type\": \"quantitative\"}, {\"field\": \"pct_trips_competitive\", \"type\": \"quantitative\"}, {\"field\": \"p25\", \"type\": \"quantitative\"}, {\"field\": \"p50\", \"type\": \"quantitative\"}, {\"field\": \"p75\", \"type\": \"quantitative\"}], \"x\": {\"value\": 30}, \"y\": {\"value\": 15}}, \"transform\": [{\"calculate\": \"sqrt(-2*log(random()))*cos(2*PI*random())\", \"as\": \"jitter\"}, {\"filter\": \"(datum.fastest_trip === 1)\"}]}]}]}, \"resolve\": {\"scale\": {\"y\": \"shared\"}}, \"title\": \"Ratio of Bus to Car Travel Time\", \"$schema\": \"https://vega.github.io/schema/vega-lite/v4.17.0.json\", \"datasets\": {\"data-2ff87d7302f544c9b62be1722927d5b7\": [{\"calitp_itp_id\": 260, \"trip_key\": 1317046688990537606, \"trip_id\": \"BCT109 NB_MF.T03\", \"shape_id\": \"BCT109 NB\", \"route_id\": \"BCT109 NB\", \"service_hours\": 1.22, \"trip_first_departure_ts\": 26700, \"trip_last_arrival_ts\": 31080, \"departure_hour\": 7, \"time_of_day\": \"AM Peak\", \"p25\": 1.28, \"p50\": 1.28, \"p75\": 1.28, \"p50_trip\": 0, \"fastest_trip\": 1, \"car_duration_hours\": 0.83, \"competitive_route\": 1, \"bus_multiplier\": 1.47, \"bus_difference\": 23.4, \"num_trips\": 20, \"num_competitive\": 20, \"pct_trips_competitive\": 1.0, \"bus_difference_spread\": 3.6, \"route_group\": \"medium\", \"max_trip_hrs\": 1.28, \"max_trip_route_group\": 1.33, \"name\": \"City of Redondo Beach\", \"caltrans_district\": \"07 - Los Angeles\", \"drmt_organization_name\": null, \"cutoff2\": 19.950000000000003, \"cutoff\": 2}, {\"calitp_itp_id\": 260, \"trip_key\": 3673728135160785242, \"trip_id\": \"BCT109 NB_MF.T02\", \"shape_id\": \"BCT109 NB\", \"route_id\": \"BCT109 NB\", \"service_hours\": 1.22, \"trip_first_departure_ts\": 23400, \"trip_last_arrival_ts\": 27780, \"departure_hour\": 6, \"time_of_day\": \"Owl Service\", \"p25\": 1.28, \"p50\": 1.28, \"p75\": 1.28, \"p50_trip\": 0, \"fastest_trip\": 0, \"car_duration_hours\": 0.83, \"competitive_route\": 1, \"bus_multiplier\": 1.47, \"bus_difference\": 23.4, \"num_trips\": 20, \"num_competitive\": 20, \"pct_trips_competitive\": 1.0, \"bus_difference_spread\": 3.6, \"route_group\": \"medium\", \"max_trip_hrs\": 1.28, \"max_trip_route_group\": 1.33, \"name\": \"City of Redondo Beach\", \"caltrans_district\": \"07 - Los Angeles\", \"drmt_organization_name\": null, \"cutoff2\": 19.950000000000003, \"cutoff\": 2}, {\"calitp_itp_id\": 260, \"trip_key\": -5692772296662780211, \"trip_id\": \"BCT109 NB_MF.T01\", \"shape_id\": \"BCT109 NB\", \"route_id\": \"BCT109 NB\", \"service_hours\": 1.22, \"trip_first_departure_ts\": 21600, \"trip_last_arrival_ts\": 25980, \"departure_hour\": 6, \"time_of_day\": \"Owl Service\", \"p25\": 1.28, \"p50\": 1.28, \"p75\": 1.28, \"p50_trip\": 0, \"fastest_trip\": 0, \"car_duration_hours\": 0.83, \"competitive_route\": 1, \"bus_multiplier\": 1.47, \"bus_difference\": 23.4, \"num_trips\": 20, \"num_competitive\": 20, \"pct_trips_competitive\": 1.0, \"bus_difference_spread\": 3.6, \"route_group\": \"medium\", \"max_trip_hrs\": 1.28, \"max_trip_route_group\": 1.33, \"name\": \"City of Redondo Beach\", \"caltrans_district\": \"07 - Los Angeles\", \"drmt_organization_name\": null, \"cutoff2\": 19.950000000000003, \"cutoff\": 2}, {\"calitp_itp_id\": 260, \"trip_key\": -8382958733402730771, \"trip_id\": \"BCT109 NB_MF.T11\", \"shape_id\": \"BCT109 NB\", \"route_id\": \"BCT109 NB\", \"service_hours\": 1.28, \"trip_first_departure_ts\": 49500, \"trip_last_arrival_ts\": 54120, \"departure_hour\": 13, \"time_of_day\": \"Midday\", \"p25\": 1.28, \"p50\": 1.28, \"p75\": 1.28, \"p50_trip\": 1, \"fastest_trip\": 0, \"car_duration_hours\": 0.83, \"competitive_route\": 1, \"bus_multiplier\": 1.54, \"bus_difference\": 27.0, \"num_trips\": 20, \"num_competitive\": 20, \"pct_trips_competitive\": 1.0, \"bus_difference_spread\": 3.6, \"route_group\": \"medium\", \"max_trip_hrs\": 1.28, \"max_trip_route_group\": 1.33, \"name\": \"City of Redondo Beach\", \"caltrans_district\": \"07 - Los Angeles\", \"drmt_organization_name\": null, \"cutoff2\": 19.950000000000003, \"cutoff\": 2}, {\"calitp_itp_id\": 260, \"trip_key\": 7828937370348139098, \"trip_id\": \"BCT109 NB_MF.T04\", \"shape_id\": \"BCT109 NB\", \"route_id\": \"BCT109 NB\", \"service_hours\": 1.28, \"trip_first_departure_ts\": 29400, \"trip_last_arrival_ts\": 34020, \"departure_hour\": 8, \"time_of_day\": \"AM Peak\", \"p25\": 1.28, \"p50\": 1.28, \"p75\": 1.28, \"p50_trip\": 1, \"fastest_trip\": 0, \"car_duration_hours\": 0.83, \"competitive_route\": 1, \"bus_multiplier\": 1.54, \"bus_difference\": 27.0, \"num_trips\": 20, \"num_competitive\": 20, \"pct_trips_competitive\": 1.0, \"bus_difference_spread\": 3.6, \"route_group\": \"medium\", \"max_trip_hrs\": 1.28, \"max_trip_route_group\": 1.33, \"name\": \"City of Redondo Beach\", \"caltrans_district\": \"07 - Los Angeles\", \"drmt_organization_name\": null, \"cutoff2\": 19.950000000000003, \"cutoff\": 2}, {\"calitp_itp_id\": 260, \"trip_key\": -656251562375874454, \"trip_id\": \"BCT109 NB_MF.T19\", \"shape_id\": \"BCT109 NB\", \"route_id\": \"BCT109 NB\", \"service_hours\": 1.28, \"trip_first_departure_ts\": 71100, \"trip_last_arrival_ts\": 75720, \"departure_hour\": 19, \"time_of_day\": \"PM Peak\", \"p25\": 1.28, \"p50\": 1.28, \"p75\": 1.28, \"p50_trip\": 1, \"fastest_trip\": 0, \"car_duration_hours\": 0.83, \"competitive_route\": 1, \"bus_multiplier\": 1.54, \"bus_difference\": 27.0, \"num_trips\": 20, \"num_competitive\": 20, \"pct_trips_competitive\": 1.0, \"bus_difference_spread\": 3.6, \"route_group\": \"medium\", \"max_trip_hrs\": 1.28, \"max_trip_route_group\": 1.33, \"name\": \"City of Redondo Beach\", \"caltrans_district\": \"07 - Los Angeles\", \"drmt_organization_name\": null, \"cutoff2\": 19.950000000000003, \"cutoff\": 2}, {\"calitp_itp_id\": 260, \"trip_key\": 8750848218037897663, \"trip_id\": \"BCT109 NB_MF.T17\", \"shape_id\": \"BCT109 NB\", \"route_id\": \"BCT109 NB\", \"service_hours\": 1.28, \"trip_first_departure_ts\": 65400, \"trip_last_arrival_ts\": 70020, \"departure_hour\": 18, \"time_of_day\": \"PM Peak\", \"p25\": 1.28, \"p50\": 1.28, \"p75\": 1.28, \"p50_trip\": 1, \"fastest_trip\": 0, \"car_duration_hours\": 0.83, \"competitive_route\": 1, \"bus_multiplier\": 1.54, \"bus_difference\": 27.0, \"num_trips\": 20, \"num_competitive\": 20, \"pct_trips_competitive\": 1.0, \"bus_difference_spread\": 3.6, \"route_group\": \"medium\", \"max_trip_hrs\": 1.28, \"max_trip_route_group\": 1.33, \"name\": \"City of Redondo Beach\", \"caltrans_district\": \"07 - Los Angeles\", \"drmt_organization_name\": null, \"cutoff2\": 19.950000000000003, \"cutoff\": 2}, {\"calitp_itp_id\": 260, \"trip_key\": 84845425813148536, \"trip_id\": \"BCT109 NB_MF.T14\", \"shape_id\": \"BCT109 NB\", \"route_id\": \"BCT109 NB\", \"service_hours\": 1.28, \"trip_first_departure_ts\": 57300, \"trip_last_arrival_ts\": 61920, \"departure_hour\": 15, \"time_of_day\": \"Midday\", \"p25\": 1.28, \"p50\": 1.28, \"p75\": 1.28, \"p50_trip\": 1, \"fastest_trip\": 0, \"car_duration_hours\": 0.83, \"competitive_route\": 1, \"bus_multiplier\": 1.54, \"bus_difference\": 27.0, \"num_trips\": 20, \"num_competitive\": 20, \"pct_trips_competitive\": 1.0, \"bus_difference_spread\": 3.6, \"route_group\": \"medium\", \"max_trip_hrs\": 1.28, \"max_trip_route_group\": 1.33, \"name\": \"City of Redondo Beach\", \"caltrans_district\": \"07 - Los Angeles\", \"drmt_organization_name\": null, \"cutoff2\": 19.950000000000003, \"cutoff\": 2}, {\"calitp_itp_id\": 260, \"trip_key\": 6559195403394685853, \"trip_id\": \"BCT109 NB_MF.T07\", \"shape_id\": \"BCT109 NB\", \"route_id\": \"BCT109 NB\", \"service_hours\": 1.28, \"trip_first_departure_ts\": 37500, \"trip_last_arrival_ts\": 42120, \"departure_hour\": 10, \"time_of_day\": \"Midday\", \"p25\": 1.28, \"p50\": 1.28, \"p75\": 1.28, \"p50_trip\": 1, \"fastest_trip\": 0, \"car_duration_hours\": 0.83, \"competitive_route\": 1, \"bus_multiplier\": 1.54, \"bus_difference\": 27.0, \"num_trips\": 20, \"num_competitive\": 20, \"pct_trips_competitive\": 1.0, \"bus_difference_spread\": 3.6, \"route_group\": \"medium\", \"max_trip_hrs\": 1.28, \"max_trip_route_group\": 1.33, \"name\": \"City of Redondo Beach\", \"caltrans_district\": \"07 - Los Angeles\", \"drmt_organization_name\": null, \"cutoff2\": 19.950000000000003, \"cutoff\": 2}, {\"calitp_itp_id\": 260, \"trip_key\": -4238208434499862872, \"trip_id\": \"BCT109 NB_MF.T10\", \"shape_id\": \"BCT109 NB\", \"route_id\": \"BCT109 NB\", \"service_hours\": 1.28, \"trip_first_departure_ts\": 45300, \"trip_last_arrival_ts\": 49920, \"departure_hour\": 12, \"time_of_day\": \"Midday\", \"p25\": 1.28, \"p50\": 1.28, \"p75\": 1.28, \"p50_trip\": 1, \"fastest_trip\": 0, \"car_duration_hours\": 0.83, \"competitive_route\": 1, \"bus_multiplier\": 1.54, \"bus_difference\": 27.0, \"num_trips\": 20, \"num_competitive\": 20, \"pct_trips_competitive\": 1.0, \"bus_difference_spread\": 3.6, \"route_group\": \"medium\", \"max_trip_hrs\": 1.28, \"max_trip_route_group\": 1.33, \"name\": \"City of Redondo Beach\", \"caltrans_district\": \"07 - Los Angeles\", \"drmt_organization_name\": null, \"cutoff2\": 19.950000000000003, \"cutoff\": 2}, {\"calitp_itp_id\": 260, \"trip_key\": -5929374785087733782, \"trip_id\": \"BCT109 NB_MF.T12\", \"shape_id\": \"BCT109 NB\", \"route_id\": \"BCT109 NB\", \"service_hours\": 1.28, \"trip_first_departure_ts\": 52200, \"trip_last_arrival_ts\": 56820, \"departure_hour\": 14, \"time_of_day\": \"Midday\", \"p25\": 1.28, \"p50\": 1.28, \"p75\": 1.28, \"p50_trip\": 1, \"fastest_trip\": 0, \"car_duration_hours\": 0.83, \"competitive_route\": 1, \"bus_multiplier\": 1.54, \"bus_difference\": 27.0, \"num_trips\": 20, \"num_competitive\": 20, \"pct_trips_competitive\": 1.0, \"bus_difference_spread\": 3.6, \"route_group\": \"medium\", \"max_trip_hrs\": 1.28, \"max_trip_route_group\": 1.33, \"name\": \"City of Redondo Beach\", \"caltrans_district\": \"07 - Los Angeles\", \"drmt_organization_name\": null, \"cutoff2\": 19.950000000000003, \"cutoff\": 2}, {\"calitp_itp_id\": 260, \"trip_key\": 8367892553357170010, \"trip_id\": \"BCT109 NB_MF.T20\", \"shape_id\": \"BCT109 NB\", \"route_id\": \"BCT109 NB\", \"service_hours\": 1.28, \"trip_first_departure_ts\": 73800, \"trip_last_arrival_ts\": 78420, \"departure_hour\": 20, \"time_of_day\": \"Owl Service\", \"p25\": 1.28, \"p50\": 1.28, \"p75\": 1.28, \"p50_trip\": 1, \"fastest_trip\": 0, \"car_duration_hours\": 0.83, \"competitive_route\": 1, \"bus_multiplier\": 1.54, \"bus_difference\": 27.0, \"num_trips\": 20, \"num_competitive\": 20, \"pct_trips_competitive\": 1.0, \"bus_difference_spread\": 3.6, \"route_group\": \"medium\", \"max_trip_hrs\": 1.28, \"max_trip_route_group\": 1.33, \"name\": \"City of Redondo Beach\", \"caltrans_district\": \"07 - Los Angeles\", \"drmt_organization_name\": null, \"cutoff2\": 19.950000000000003, \"cutoff\": 2}, {\"calitp_itp_id\": 260, \"trip_key\": -8827795785864707041, \"trip_id\": \"BCT109 NB_MF.T05\", \"shape_id\": \"BCT109 NB\", \"route_id\": \"BCT109 NB\", \"service_hours\": 1.28, \"trip_first_departure_ts\": 31800, \"trip_last_arrival_ts\": 36420, \"departure_hour\": 8, \"time_of_day\": \"AM Peak\", \"p25\": 1.28, \"p50\": 1.28, \"p75\": 1.28, \"p50_trip\": 1, \"fastest_trip\": 0, \"car_duration_hours\": 0.83, \"competitive_route\": 1, \"bus_multiplier\": 1.54, \"bus_difference\": 27.0, \"num_trips\": 20, \"num_competitive\": 20, \"pct_trips_competitive\": 1.0, \"bus_difference_spread\": 3.6, \"route_group\": \"medium\", \"max_trip_hrs\": 1.28, \"max_trip_route_group\": 1.33, \"name\": \"City of Redondo Beach\", \"caltrans_district\": \"07 - Los Angeles\", \"drmt_organization_name\": null, \"cutoff2\": 19.950000000000003, \"cutoff\": 2}, {\"calitp_itp_id\": 260, \"trip_key\": -7343359897475375849, \"trip_id\": \"BCT109 NB_MF.T13\", \"shape_id\": \"BCT109 NB\", \"route_id\": \"BCT109 NB\", \"service_hours\": 1.28, \"trip_first_departure_ts\": 54600, \"trip_last_arrival_ts\": 59220, \"departure_hour\": 15, \"time_of_day\": \"Midday\", \"p25\": 1.28, \"p50\": 1.28, \"p75\": 1.28, \"p50_trip\": 1, \"fastest_trip\": 0, \"car_duration_hours\": 0.83, \"competitive_route\": 1, \"bus_multiplier\": 1.54, \"bus_difference\": 27.0, \"num_trips\": 20, \"num_competitive\": 20, \"pct_trips_competitive\": 1.0, \"bus_difference_spread\": 3.6, \"route_group\": \"medium\", \"max_trip_hrs\": 1.28, \"max_trip_route_group\": 1.33, \"name\": \"City of Redondo Beach\", \"caltrans_district\": \"07 - Los Angeles\", \"drmt_organization_name\": null, \"cutoff2\": 19.950000000000003, \"cutoff\": 2}, {\"calitp_itp_id\": 260, \"trip_key\": -5831490653988659755, \"trip_id\": \"BCT109 NB_MF.T18\", \"shape_id\": \"BCT109 NB\", \"route_id\": \"BCT109 NB\", \"service_hours\": 1.28, \"trip_first_departure_ts\": 68100, \"trip_last_arrival_ts\": 72720, \"departure_hour\": 18, \"time_of_day\": \"PM Peak\", \"p25\": 1.28, \"p50\": 1.28, \"p75\": 1.28, \"p50_trip\": 1, \"fastest_trip\": 0, \"car_duration_hours\": 0.83, \"competitive_route\": 1, \"bus_multiplier\": 1.54, \"bus_difference\": 27.0, \"num_trips\": 20, \"num_competitive\": 20, \"pct_trips_competitive\": 1.0, \"bus_difference_spread\": 3.6, \"route_group\": \"medium\", \"max_trip_hrs\": 1.28, \"max_trip_route_group\": 1.33, \"name\": \"City of Redondo Beach\", \"caltrans_district\": \"07 - Los Angeles\", \"drmt_organization_name\": null, \"cutoff2\": 19.950000000000003, \"cutoff\": 2}, {\"calitp_itp_id\": 260, \"trip_key\": -6459932311807863698, \"trip_id\": \"BCT109 NB_MF.T09\", \"shape_id\": \"BCT109 NB\", \"route_id\": \"BCT109 NB\", \"service_hours\": 1.28, \"trip_first_departure_ts\": 42600, \"trip_last_arrival_ts\": 47220, \"departure_hour\": 11, \"time_of_day\": \"Midday\", \"p25\": 1.28, \"p50\": 1.28, \"p75\": 1.28, \"p50_trip\": 1, \"fastest_trip\": 0, \"car_duration_hours\": 0.83, \"competitive_route\": 1, \"bus_multiplier\": 1.54, \"bus_difference\": 27.0, \"num_trips\": 20, \"num_competitive\": 20, \"pct_trips_competitive\": 1.0, \"bus_difference_spread\": 3.6, \"route_group\": \"medium\", \"max_trip_hrs\": 1.28, \"max_trip_route_group\": 1.33, \"name\": \"City of Redondo Beach\", \"caltrans_district\": \"07 - Los Angeles\", \"drmt_organization_name\": null, \"cutoff2\": 19.950000000000003, \"cutoff\": 2}, {\"calitp_itp_id\": 260, \"trip_key\": 8751971087300252775, \"trip_id\": \"BCT109 NB_MF.T15\", \"shape_id\": \"BCT109 NB\", \"route_id\": \"BCT109 NB\", \"service_hours\": 1.28, \"trip_first_departure_ts\": 60300, \"trip_last_arrival_ts\": 64920, \"departure_hour\": 16, \"time_of_day\": \"Midday\", \"p25\": 1.28, \"p50\": 1.28, \"p75\": 1.28, \"p50_trip\": 1, \"fastest_trip\": 0, \"car_duration_hours\": 0.83, \"competitive_route\": 1, \"bus_multiplier\": 1.54, \"bus_difference\": 27.0, \"num_trips\": 20, \"num_competitive\": 20, \"pct_trips_competitive\": 1.0, \"bus_difference_spread\": 3.6, \"route_group\": \"medium\", \"max_trip_hrs\": 1.28, \"max_trip_route_group\": 1.33, \"name\": \"City of Redondo Beach\", \"caltrans_district\": \"07 - Los Angeles\", \"drmt_organization_name\": null, \"cutoff2\": 19.950000000000003, \"cutoff\": 2}, {\"calitp_itp_id\": 260, \"trip_key\": 650064259460204168, \"trip_id\": \"BCT109 NB_MF.T06\", \"shape_id\": \"BCT109 NB\", \"route_id\": \"BCT109 NB\", \"service_hours\": 1.28, \"trip_first_departure_ts\": 34500, \"trip_last_arrival_ts\": 39120, \"departure_hour\": 9, \"time_of_day\": \"AM Peak\", \"p25\": 1.28, \"p50\": 1.28, \"p75\": 1.28, \"p50_trip\": 1, \"fastest_trip\": 0, \"car_duration_hours\": 0.83, \"competitive_route\": 1, \"bus_multiplier\": 1.54, \"bus_difference\": 27.0, \"num_trips\": 20, \"num_competitive\": 20, \"pct_trips_competitive\": 1.0, \"bus_difference_spread\": 3.6, \"route_group\": \"medium\", \"max_trip_hrs\": 1.28, \"max_trip_route_group\": 1.33, \"name\": \"City of Redondo Beach\", \"caltrans_district\": \"07 - Los Angeles\", \"drmt_organization_name\": null, \"cutoff2\": 19.950000000000003, \"cutoff\": 2}, {\"calitp_itp_id\": 260, \"trip_key\": -1941445509852013822, \"trip_id\": \"BCT109 NB_MF.T16\", \"shape_id\": \"BCT109 NB\", \"route_id\": \"BCT109 NB\", \"service_hours\": 1.28, \"trip_first_departure_ts\": 63000, \"trip_last_arrival_ts\": 67620, \"departure_hour\": 17, \"time_of_day\": \"PM Peak\", \"p25\": 1.28, \"p50\": 1.28, \"p75\": 1.28, \"p50_trip\": 1, \"fastest_trip\": 0, \"car_duration_hours\": 0.83, \"competitive_route\": 1, \"bus_multiplier\": 1.54, \"bus_difference\": 27.0, \"num_trips\": 20, \"num_competitive\": 20, \"pct_trips_competitive\": 1.0, \"bus_difference_spread\": 3.6, \"route_group\": \"medium\", \"max_trip_hrs\": 1.28, \"max_trip_route_group\": 1.33, \"name\": \"City of Redondo Beach\", \"caltrans_district\": \"07 - Los Angeles\", \"drmt_organization_name\": null, \"cutoff2\": 19.950000000000003, \"cutoff\": 2}, {\"calitp_itp_id\": 260, \"trip_key\": 3723404524443184751, \"trip_id\": \"BCT109 NB_MF.T08\", \"shape_id\": \"BCT109 NB\", \"route_id\": \"BCT109 NB\", \"service_hours\": 1.28, \"trip_first_departure_ts\": 40200, \"trip_last_arrival_ts\": 44820, \"departure_hour\": 11, \"time_of_day\": \"Midday\", \"p25\": 1.28, \"p50\": 1.28, \"p75\": 1.28, \"p50_trip\": 1, \"fastest_trip\": 0, \"car_duration_hours\": 0.83, \"competitive_route\": 1, \"bus_multiplier\": 1.54, \"bus_difference\": 27.0, \"num_trips\": 20, \"num_competitive\": 20, \"pct_trips_competitive\": 1.0, \"bus_difference_spread\": 3.6, \"route_group\": \"medium\", \"max_trip_hrs\": 1.28, \"max_trip_route_group\": 1.33, \"name\": \"City of Redondo Beach\", \"caltrans_district\": \"07 - Los Angeles\", \"drmt_organization_name\": null, \"cutoff2\": 19.950000000000003, \"cutoff\": 2}, {\"calitp_itp_id\": 260, \"trip_key\": -7769911764283861301, \"trip_id\": \"BCT109 SB_MF.T05\", \"shape_id\": \"BCT109 SB\", \"route_id\": \"BCT109 SB\", \"service_hours\": 1.33, \"trip_first_departure_ts\": 32100, \"trip_last_arrival_ts\": 36900, \"departure_hour\": 8, \"time_of_day\": \"AM Peak\", \"p25\": 1.33, \"p50\": 1.33, \"p75\": 1.33, \"p50_trip\": 1, \"fastest_trip\": 0, \"car_duration_hours\": 1.1, \"competitive_route\": 1, \"bus_multiplier\": 1.21, \"bus_difference\": 13.8, \"num_trips\": 20, \"num_competitive\": 20, \"pct_trips_competitive\": 1.0, \"bus_difference_spread\": 0.0, \"route_group\": \"medium\", \"max_trip_hrs\": 1.33, \"max_trip_route_group\": 1.33, \"name\": \"City of Redondo Beach\", \"caltrans_district\": \"07 - Los Angeles\", \"drmt_organization_name\": null, \"cutoff2\": 19.950000000000003, \"cutoff\": 2}, {\"calitp_itp_id\": 260, \"trip_key\": 8823191204635919285, \"trip_id\": \"BCT109 SB_MF.T17\", \"shape_id\": \"BCT109 SB\", \"route_id\": \"BCT109 SB\", \"service_hours\": 1.33, \"trip_first_departure_ts\": 65700, \"trip_last_arrival_ts\": 70500, \"departure_hour\": 18, \"time_of_day\": \"PM Peak\", \"p25\": 1.33, \"p50\": 1.33, \"p75\": 1.33, \"p50_trip\": 1, \"fastest_trip\": 0, \"car_duration_hours\": 1.1, \"competitive_route\": 1, \"bus_multiplier\": 1.21, \"bus_difference\": 13.8, \"num_trips\": 20, \"num_competitive\": 20, \"pct_trips_competitive\": 1.0, \"bus_difference_spread\": 0.0, \"route_group\": \"medium\", \"max_trip_hrs\": 1.33, \"max_trip_route_group\": 1.33, \"name\": \"City of Redondo Beach\", \"caltrans_district\": \"07 - Los Angeles\", \"drmt_organization_name\": null, \"cutoff2\": 19.950000000000003, \"cutoff\": 2}, {\"calitp_itp_id\": 260, \"trip_key\": 9206665950355318065, \"trip_id\": \"BCT109 SB_MF.T16\", \"shape_id\": \"BCT109 SB\", \"route_id\": \"BCT109 SB\", \"service_hours\": 1.33, \"trip_first_departure_ts\": 62700, \"trip_last_arrival_ts\": 67500, \"departure_hour\": 17, \"time_of_day\": \"PM Peak\", \"p25\": 1.33, \"p50\": 1.33, \"p75\": 1.33, \"p50_trip\": 1, \"fastest_trip\": 0, \"car_duration_hours\": 1.1, \"competitive_route\": 1, \"bus_multiplier\": 1.21, \"bus_difference\": 13.8, \"num_trips\": 20, \"num_competitive\": 20, \"pct_trips_competitive\": 1.0, \"bus_difference_spread\": 0.0, \"route_group\": \"medium\", \"max_trip_hrs\": 1.33, \"max_trip_route_group\": 1.33, \"name\": \"City of Redondo Beach\", \"caltrans_district\": \"07 - Los Angeles\", \"drmt_organization_name\": null, \"cutoff2\": 19.950000000000003, \"cutoff\": 2}, {\"calitp_itp_id\": 260, \"trip_key\": -4499201128805887979, \"trip_id\": \"BCT109 SB_MF.T20\", \"shape_id\": \"BCT109 SB\", \"route_id\": \"BCT109 SB\", \"service_hours\": 1.33, \"trip_first_departure_ts\": 73500, \"trip_last_arrival_ts\": 78300, \"departure_hour\": 20, \"time_of_day\": \"Owl Service\", \"p25\": 1.33, \"p50\": 1.33, \"p75\": 1.33, \"p50_trip\": 1, \"fastest_trip\": 1, \"car_duration_hours\": 1.1, \"competitive_route\": 1, \"bus_multiplier\": 1.21, \"bus_difference\": 13.8, \"num_trips\": 20, \"num_competitive\": 20, \"pct_trips_competitive\": 1.0, \"bus_difference_spread\": 0.0, \"route_group\": \"medium\", \"max_trip_hrs\": 1.33, \"max_trip_route_group\": 1.33, \"name\": \"City of Redondo Beach\", \"caltrans_district\": \"07 - Los Angeles\", \"drmt_organization_name\": null, \"cutoff2\": 19.950000000000003, \"cutoff\": 2}, {\"calitp_itp_id\": 260, \"trip_key\": -950805648954300900, \"trip_id\": \"BCT109 SB_MF.T15\", \"shape_id\": \"BCT109 SB\", \"route_id\": \"BCT109 SB\", \"service_hours\": 1.33, \"trip_first_departure_ts\": 60000, \"trip_last_arrival_ts\": 64800, \"departure_hour\": 16, \"time_of_day\": \"Midday\", \"p25\": 1.33, \"p50\": 1.33, \"p75\": 1.33, \"p50_trip\": 1, \"fastest_trip\": 0, \"car_duration_hours\": 1.1, \"competitive_route\": 1, \"bus_multiplier\": 1.21, \"bus_difference\": 13.8, \"num_trips\": 20, \"num_competitive\": 20, \"pct_trips_competitive\": 1.0, \"bus_difference_spread\": 0.0, \"route_group\": \"medium\", \"max_trip_hrs\": 1.33, \"max_trip_route_group\": 1.33, \"name\": \"City of Redondo Beach\", \"caltrans_district\": \"07 - Los Angeles\", \"drmt_organization_name\": null, \"cutoff2\": 19.950000000000003, \"cutoff\": 2}, {\"calitp_itp_id\": 260, \"trip_key\": 5483605554865067177, \"trip_id\": \"BCT109 SB_MF.T01\", \"shape_id\": \"BCT109 SB\", \"route_id\": \"BCT109 SB\", \"service_hours\": 1.33, \"trip_first_departure_ts\": 21300, \"trip_last_arrival_ts\": 26100, \"departure_hour\": 5, \"time_of_day\": \"Owl Service\", \"p25\": 1.33, \"p50\": 1.33, \"p75\": 1.33, \"p50_trip\": 1, \"fastest_trip\": 0, \"car_duration_hours\": 1.1, \"competitive_route\": 1, \"bus_multiplier\": 1.21, \"bus_difference\": 13.8, \"num_trips\": 20, \"num_competitive\": 20, \"pct_trips_competitive\": 1.0, \"bus_difference_spread\": 0.0, \"route_group\": \"medium\", \"max_trip_hrs\": 1.33, \"max_trip_route_group\": 1.33, \"name\": \"City of Redondo Beach\", \"caltrans_district\": \"07 - Los Angeles\", \"drmt_organization_name\": null, \"cutoff2\": 19.950000000000003, \"cutoff\": 2}, {\"calitp_itp_id\": 260, \"trip_key\": -4780138184419908344, \"trip_id\": \"BCT109 SB_MF.T14\", \"shape_id\": \"BCT109 SB\", \"route_id\": \"BCT109 SB\", \"service_hours\": 1.33, \"trip_first_departure_ts\": 57600, \"trip_last_arrival_ts\": 62400, \"departure_hour\": 16, \"time_of_day\": \"Midday\", \"p25\": 1.33, \"p50\": 1.33, \"p75\": 1.33, \"p50_trip\": 1, \"fastest_trip\": 0, \"car_duration_hours\": 1.1, \"competitive_route\": 1, \"bus_multiplier\": 1.21, \"bus_difference\": 13.8, \"num_trips\": 20, \"num_competitive\": 20, \"pct_trips_competitive\": 1.0, \"bus_difference_spread\": 0.0, \"route_group\": \"medium\", \"max_trip_hrs\": 1.33, \"max_trip_route_group\": 1.33, \"name\": \"City of Redondo Beach\", \"caltrans_district\": \"07 - Los Angeles\", \"drmt_organization_name\": null, \"cutoff2\": 19.950000000000003, \"cutoff\": 2}, {\"calitp_itp_id\": 260, \"trip_key\": -4425915001469547984, \"trip_id\": \"BCT109 SB_MF.T03\", \"shape_id\": \"BCT109 SB\", \"route_id\": \"BCT109 SB\", \"service_hours\": 1.33, \"trip_first_departure_ts\": 26400, \"trip_last_arrival_ts\": 31200, \"departure_hour\": 7, \"time_of_day\": \"AM Peak\", \"p25\": 1.33, \"p50\": 1.33, \"p75\": 1.33, \"p50_trip\": 1, \"fastest_trip\": 0, \"car_duration_hours\": 1.1, \"competitive_route\": 1, \"bus_multiplier\": 1.21, \"bus_difference\": 13.8, \"num_trips\": 20, \"num_competitive\": 20, \"pct_trips_competitive\": 1.0, \"bus_difference_spread\": 0.0, \"route_group\": \"medium\", \"max_trip_hrs\": 1.33, \"max_trip_route_group\": 1.33, \"name\": \"City of Redondo Beach\", \"caltrans_district\": \"07 - Los Angeles\", \"drmt_organization_name\": null, \"cutoff2\": 19.950000000000003, \"cutoff\": 2}, {\"calitp_itp_id\": 260, \"trip_key\": -6387492083207951242, \"trip_id\": \"BCT109 SB_MF.T11\", \"shape_id\": \"BCT109 SB\", \"route_id\": \"BCT109 SB\", \"service_hours\": 1.33, \"trip_first_departure_ts\": 49200, \"trip_last_arrival_ts\": 54000, \"departure_hour\": 13, \"time_of_day\": \"Midday\", \"p25\": 1.33, \"p50\": 1.33, \"p75\": 1.33, \"p50_trip\": 1, \"fastest_trip\": 0, \"car_duration_hours\": 1.1, \"competitive_route\": 1, \"bus_multiplier\": 1.21, \"bus_difference\": 13.8, \"num_trips\": 20, \"num_competitive\": 20, \"pct_trips_competitive\": 1.0, \"bus_difference_spread\": 0.0, \"route_group\": \"medium\", \"max_trip_hrs\": 1.33, \"max_trip_route_group\": 1.33, \"name\": \"City of Redondo Beach\", \"caltrans_district\": \"07 - Los Angeles\", \"drmt_organization_name\": null, \"cutoff2\": 19.950000000000003, \"cutoff\": 2}, {\"calitp_itp_id\": 260, \"trip_key\": -3213125366714638313, \"trip_id\": \"BCT109 SB_MF.T13\", \"shape_id\": \"BCT109 SB\", \"route_id\": \"BCT109 SB\", \"service_hours\": 1.33, \"trip_first_departure_ts\": 54900, \"trip_last_arrival_ts\": 59700, \"departure_hour\": 15, \"time_of_day\": \"Midday\", \"p25\": 1.33, \"p50\": 1.33, \"p75\": 1.33, \"p50_trip\": 1, \"fastest_trip\": 0, \"car_duration_hours\": 1.1, \"competitive_route\": 1, \"bus_multiplier\": 1.21, \"bus_difference\": 13.8, \"num_trips\": 20, \"num_competitive\": 20, \"pct_trips_competitive\": 1.0, \"bus_difference_spread\": 0.0, \"route_group\": \"medium\", \"max_trip_hrs\": 1.33, \"max_trip_route_group\": 1.33, \"name\": \"City of Redondo Beach\", \"caltrans_district\": \"07 - Los Angeles\", \"drmt_organization_name\": null, \"cutoff2\": 19.950000000000003, \"cutoff\": 2}, {\"calitp_itp_id\": 260, \"trip_key\": 3809111814313801124, \"trip_id\": \"BCT109 SB_MF.T07\", \"shape_id\": \"BCT109 SB\", \"route_id\": \"BCT109 SB\", \"service_hours\": 1.33, \"trip_first_departure_ts\": 37200, \"trip_last_arrival_ts\": 42000, \"departure_hour\": 10, \"time_of_day\": \"Midday\", \"p25\": 1.33, \"p50\": 1.33, \"p75\": 1.33, \"p50_trip\": 1, \"fastest_trip\": 0, \"car_duration_hours\": 1.1, \"competitive_route\": 1, \"bus_multiplier\": 1.21, \"bus_difference\": 13.8, \"num_trips\": 20, \"num_competitive\": 20, \"pct_trips_competitive\": 1.0, \"bus_difference_spread\": 0.0, \"route_group\": \"medium\", \"max_trip_hrs\": 1.33, \"max_trip_route_group\": 1.33, \"name\": \"City of Redondo Beach\", \"caltrans_district\": \"07 - Los Angeles\", \"drmt_organization_name\": null, \"cutoff2\": 19.950000000000003, \"cutoff\": 2}, {\"calitp_itp_id\": 260, \"trip_key\": -8946219895800285709, \"trip_id\": \"BCT109 SB_MF.T12\", \"shape_id\": \"BCT109 SB\", \"route_id\": \"BCT109 SB\", \"service_hours\": 1.33, \"trip_first_departure_ts\": 51900, \"trip_last_arrival_ts\": 56700, \"departure_hour\": 14, \"time_of_day\": \"Midday\", \"p25\": 1.33, \"p50\": 1.33, \"p75\": 1.33, \"p50_trip\": 1, \"fastest_trip\": 0, \"car_duration_hours\": 1.1, \"competitive_route\": 1, \"bus_multiplier\": 1.21, \"bus_difference\": 13.8, \"num_trips\": 20, \"num_competitive\": 20, \"pct_trips_competitive\": 1.0, \"bus_difference_spread\": 0.0, \"route_group\": \"medium\", \"max_trip_hrs\": 1.33, \"max_trip_route_group\": 1.33, \"name\": \"City of Redondo Beach\", \"caltrans_district\": \"07 - Los Angeles\", \"drmt_organization_name\": null, \"cutoff2\": 19.950000000000003, \"cutoff\": 2}, {\"calitp_itp_id\": 260, \"trip_key\": 8591784665566234450, \"trip_id\": \"BCT109 SB_MF.T08\", \"shape_id\": \"BCT109 SB\", \"route_id\": \"BCT109 SB\", \"service_hours\": 1.33, \"trip_first_departure_ts\": 39900, \"trip_last_arrival_ts\": 44700, \"departure_hour\": 11, \"time_of_day\": \"Midday\", \"p25\": 1.33, \"p50\": 1.33, \"p75\": 1.33, \"p50_trip\": 1, \"fastest_trip\": 0, \"car_duration_hours\": 1.1, \"competitive_route\": 1, \"bus_multiplier\": 1.21, \"bus_difference\": 13.8, \"num_trips\": 20, \"num_competitive\": 20, \"pct_trips_competitive\": 1.0, \"bus_difference_spread\": 0.0, \"route_group\": \"medium\", \"max_trip_hrs\": 1.33, \"max_trip_route_group\": 1.33, \"name\": \"City of Redondo Beach\", \"caltrans_district\": \"07 - Los Angeles\", \"drmt_organization_name\": null, \"cutoff2\": 19.950000000000003, \"cutoff\": 2}, {\"calitp_itp_id\": 260, \"trip_key\": -5692302563158925297, \"trip_id\": \"BCT109 SB_MF.T02\", \"shape_id\": \"BCT109 SB\", \"route_id\": \"BCT109 SB\", \"service_hours\": 1.33, \"trip_first_departure_ts\": 24000, \"trip_last_arrival_ts\": 28800, \"departure_hour\": 6, \"time_of_day\": \"Owl Service\", \"p25\": 1.33, \"p50\": 1.33, \"p75\": 1.33, \"p50_trip\": 1, \"fastest_trip\": 0, \"car_duration_hours\": 1.1, \"competitive_route\": 1, \"bus_multiplier\": 1.21, \"bus_difference\": 13.8, \"num_trips\": 20, \"num_competitive\": 20, \"pct_trips_competitive\": 1.0, \"bus_difference_spread\": 0.0, \"route_group\": \"medium\", \"max_trip_hrs\": 1.33, \"max_trip_route_group\": 1.33, \"name\": \"City of Redondo Beach\", \"caltrans_district\": \"07 - Los Angeles\", \"drmt_organization_name\": null, \"cutoff2\": 19.950000000000003, \"cutoff\": 2}, {\"calitp_itp_id\": 260, \"trip_key\": -6167030381298569725, \"trip_id\": \"BCT109 SB_MF.T04\", \"shape_id\": \"BCT109 SB\", \"route_id\": \"BCT109 SB\", \"service_hours\": 1.33, \"trip_first_departure_ts\": 29100, \"trip_last_arrival_ts\": 33900, \"departure_hour\": 8, \"time_of_day\": \"AM Peak\", \"p25\": 1.33, \"p50\": 1.33, \"p75\": 1.33, \"p50_trip\": 1, \"fastest_trip\": 0, \"car_duration_hours\": 1.1, \"competitive_route\": 1, \"bus_multiplier\": 1.21, \"bus_difference\": 13.8, \"num_trips\": 20, \"num_competitive\": 20, \"pct_trips_competitive\": 1.0, \"bus_difference_spread\": 0.0, \"route_group\": \"medium\", \"max_trip_hrs\": 1.33, \"max_trip_route_group\": 1.33, \"name\": \"City of Redondo Beach\", \"caltrans_district\": \"07 - Los Angeles\", \"drmt_organization_name\": null, \"cutoff2\": 19.950000000000003, \"cutoff\": 2}, {\"calitp_itp_id\": 260, \"trip_key\": -5704407478966822574, \"trip_id\": \"BCT109 SB_MF.T19\", \"shape_id\": \"BCT109 SB\", \"route_id\": \"BCT109 SB\", \"service_hours\": 1.33, \"trip_first_departure_ts\": 70800, \"trip_last_arrival_ts\": 75600, \"departure_hour\": 19, \"time_of_day\": \"PM Peak\", \"p25\": 1.33, \"p50\": 1.33, \"p75\": 1.33, \"p50_trip\": 1, \"fastest_trip\": 0, \"car_duration_hours\": 1.1, \"competitive_route\": 1, \"bus_multiplier\": 1.21, \"bus_difference\": 13.8, \"num_trips\": 20, \"num_competitive\": 20, \"pct_trips_competitive\": 1.0, \"bus_difference_spread\": 0.0, \"route_group\": \"medium\", \"max_trip_hrs\": 1.33, \"max_trip_route_group\": 1.33, \"name\": \"City of Redondo Beach\", \"caltrans_district\": \"07 - Los Angeles\", \"drmt_organization_name\": null, \"cutoff2\": 19.950000000000003, \"cutoff\": 2}, {\"calitp_itp_id\": 260, \"trip_key\": 6970404091750010637, \"trip_id\": \"BCT109 SB_MF.T06\", \"shape_id\": \"BCT109 SB\", \"route_id\": \"BCT109 SB\", \"service_hours\": 1.33, \"trip_first_departure_ts\": 34800, \"trip_last_arrival_ts\": 39600, \"departure_hour\": 9, \"time_of_day\": \"AM Peak\", \"p25\": 1.33, \"p50\": 1.33, \"p75\": 1.33, \"p50_trip\": 1, \"fastest_trip\": 0, \"car_duration_hours\": 1.1, \"competitive_route\": 1, \"bus_multiplier\": 1.21, \"bus_difference\": 13.8, \"num_trips\": 20, \"num_competitive\": 20, \"pct_trips_competitive\": 1.0, \"bus_difference_spread\": 0.0, \"route_group\": \"medium\", \"max_trip_hrs\": 1.33, \"max_trip_route_group\": 1.33, \"name\": \"City of Redondo Beach\", \"caltrans_district\": \"07 - Los Angeles\", \"drmt_organization_name\": null, \"cutoff2\": 19.950000000000003, \"cutoff\": 2}, {\"calitp_itp_id\": 260, \"trip_key\": 5016011737382582511, \"trip_id\": \"BCT109 SB_MF.T10\", \"shape_id\": \"BCT109 SB\", \"route_id\": \"BCT109 SB\", \"service_hours\": 1.33, \"trip_first_departure_ts\": 46800, \"trip_last_arrival_ts\": 51600, \"departure_hour\": 13, \"time_of_day\": \"Midday\", \"p25\": 1.33, \"p50\": 1.33, \"p75\": 1.33, \"p50_trip\": 1, \"fastest_trip\": 0, \"car_duration_hours\": 1.1, \"competitive_route\": 1, \"bus_multiplier\": 1.21, \"bus_difference\": 13.8, \"num_trips\": 20, \"num_competitive\": 20, \"pct_trips_competitive\": 1.0, \"bus_difference_spread\": 0.0, \"route_group\": \"medium\", \"max_trip_hrs\": 1.33, \"max_trip_route_group\": 1.33, \"name\": \"City of Redondo Beach\", \"caltrans_district\": \"07 - Los Angeles\", \"drmt_organization_name\": null, \"cutoff2\": 19.950000000000003, \"cutoff\": 2}, {\"calitp_itp_id\": 260, \"trip_key\": 167940946600347386, \"trip_id\": \"BCT109 SB_MF.T18\", \"shape_id\": \"BCT109 SB\", \"route_id\": \"BCT109 SB\", \"service_hours\": 1.33, \"trip_first_departure_ts\": 68400, \"trip_last_arrival_ts\": 73200, \"departure_hour\": 19, \"time_of_day\": \"PM Peak\", \"p25\": 1.33, \"p50\": 1.33, \"p75\": 1.33, \"p50_trip\": 1, \"fastest_trip\": 0, \"car_duration_hours\": 1.1, \"competitive_route\": 1, \"bus_multiplier\": 1.21, \"bus_difference\": 13.8, \"num_trips\": 20, \"num_competitive\": 20, \"pct_trips_competitive\": 1.0, \"bus_difference_spread\": 0.0, \"route_group\": \"medium\", \"max_trip_hrs\": 1.33, \"max_trip_route_group\": 1.33, \"name\": \"City of Redondo Beach\", \"caltrans_district\": \"07 - Los Angeles\", \"drmt_organization_name\": null, \"cutoff2\": 19.950000000000003, \"cutoff\": 2}, {\"calitp_itp_id\": 260, \"trip_key\": 1469278410914527932, \"trip_id\": \"BCT109 SB_MF.T09\", \"shape_id\": \"BCT109 SB\", \"route_id\": \"BCT109 SB\", \"service_hours\": 1.33, \"trip_first_departure_ts\": 44100, \"trip_last_arrival_ts\": 48900, \"departure_hour\": 12, \"time_of_day\": \"Midday\", \"p25\": 1.33, \"p50\": 1.33, \"p75\": 1.33, \"p50_trip\": 1, \"fastest_trip\": 0, \"car_duration_hours\": 1.1, \"competitive_route\": 1, \"bus_multiplier\": 1.21, \"bus_difference\": 13.8, \"num_trips\": 20, \"num_competitive\": 20, \"pct_trips_competitive\": 1.0, \"bus_difference_spread\": 0.0, \"route_group\": \"medium\", \"max_trip_hrs\": 1.33, \"max_trip_route_group\": 1.33, \"name\": \"City of Redondo Beach\", \"caltrans_district\": \"07 - Los Angeles\", \"drmt_organization_name\": null, \"cutoff2\": 19.950000000000003, \"cutoff\": 2}]}}, {\"mode\": \"vega-lite\"});\n",
       "</script>"
      ],
      "text/plain": [
       "alt.FacetChart(...)"
      ]
     },
     "metadata": {},
     "output_type": "display_data"
    },
    {
     "data": {
      "text/html": [
       "\n",
       "<div id=\"altair-viz-9b41b562736d4e739f138ad9b1fb38f3\"></div>\n",
       "<script type=\"text/javascript\">\n",
       "  var VEGA_DEBUG = (typeof VEGA_DEBUG == \"undefined\") ? {} : VEGA_DEBUG;\n",
       "  (function(spec, embedOpt){\n",
       "    let outputDiv = document.currentScript.previousElementSibling;\n",
       "    if (outputDiv.id !== \"altair-viz-9b41b562736d4e739f138ad9b1fb38f3\") {\n",
       "      outputDiv = document.getElementById(\"altair-viz-9b41b562736d4e739f138ad9b1fb38f3\");\n",
       "    }\n",
       "    const paths = {\n",
       "      \"vega\": \"https://cdn.jsdelivr.net/npm//vega@5?noext\",\n",
       "      \"vega-lib\": \"https://cdn.jsdelivr.net/npm//vega-lib?noext\",\n",
       "      \"vega-lite\": \"https://cdn.jsdelivr.net/npm//vega-lite@4.17.0?noext\",\n",
       "      \"vega-embed\": \"https://cdn.jsdelivr.net/npm//vega-embed@6?noext\",\n",
       "    };\n",
       "\n",
       "    function maybeLoadScript(lib, version) {\n",
       "      var key = `${lib.replace(\"-\", \"\")}_version`;\n",
       "      return (VEGA_DEBUG[key] == version) ?\n",
       "        Promise.resolve(paths[lib]) :\n",
       "        new Promise(function(resolve, reject) {\n",
       "          var s = document.createElement('script');\n",
       "          document.getElementsByTagName(\"head\")[0].appendChild(s);\n",
       "          s.async = true;\n",
       "          s.onload = () => {\n",
       "            VEGA_DEBUG[key] = version;\n",
       "            return resolve(paths[lib]);\n",
       "          };\n",
       "          s.onerror = () => reject(`Error loading script: ${paths[lib]}`);\n",
       "          s.src = paths[lib];\n",
       "        });\n",
       "    }\n",
       "\n",
       "    function showError(err) {\n",
       "      outputDiv.innerHTML = `<div class=\"error\" style=\"color:red;\">${err}</div>`;\n",
       "      throw err;\n",
       "    }\n",
       "\n",
       "    function displayChart(vegaEmbed) {\n",
       "      vegaEmbed(outputDiv, spec, embedOpt)\n",
       "        .catch(err => showError(`Javascript Error: ${err.message}<br>This usually means there's a typo in your chart specification. See the javascript console for the full traceback.`));\n",
       "    }\n",
       "\n",
       "    if(typeof define === \"function\" && define.amd) {\n",
       "      requirejs.config({paths});\n",
       "      require([\"vega-embed\"], displayChart, err => showError(`Error loading script: ${err.message}`));\n",
       "    } else {\n",
       "      maybeLoadScript(\"vega\", \"5\")\n",
       "        .then(() => maybeLoadScript(\"vega-lite\", \"4.17.0\"))\n",
       "        .then(() => maybeLoadScript(\"vega-embed\", \"6\"))\n",
       "        .catch(showError)\n",
       "        .then(() => displayChart(vegaEmbed));\n",
       "    }\n",
       "  })({\"config\": {\"view\": {\"continuousWidth\": 400, \"continuousHeight\": 300, \"stroke\": null}, \"facet\": {\"spacing\": 0}}, \"data\": {\"name\": \"data-1fae6ff6e923c30089bca720a5f2c651\"}, \"facet\": {\"column\": {\"field\": \"route_id\", \"sort\": [\"BCT109 NB\", \"BCT109 SB\"], \"title\": \"Route ID\", \"type\": \"nominal\"}}, \"spec\": {\"layer\": [{\"mark\": {\"type\": \"point\", \"opacity\": 0.65, \"size\": 12, \"strokeWidth\": 1.1}, \"encoding\": {\"color\": {\"field\": \"time_of_day\", \"scale\": {\"range\": [\"#136C97\", \"#E16B26\", \"#F6BF16\", \"#00896B\", \"#7790A3\", \"#5B559C\"]}, \"sort\": [\"AM Peak\", \"Midday\", \"PM Peak\", \"Owl Service\"], \"title\": \"Time of Day\", \"type\": \"nominal\"}, \"tooltip\": [{\"field\": \"route_id\", \"type\": \"nominal\"}, {\"field\": \"trip_id\", \"type\": \"nominal\"}, {\"field\": \"service_hours\", \"type\": \"quantitative\"}, {\"field\": \"car_duration_hours\", \"type\": \"quantitative\"}, {\"field\": \"bus_multiplier\", \"type\": \"quantitative\"}, {\"field\": \"bus_difference\", \"type\": \"quantitative\"}, {\"field\": \"num_trips\", \"type\": \"quantitative\"}, {\"field\": \"num_competitive\", \"type\": \"quantitative\"}, {\"field\": \"pct_trips_competitive\", \"type\": \"quantitative\"}, {\"field\": \"p25\", \"type\": \"quantitative\"}, {\"field\": \"p50\", \"type\": \"quantitative\"}, {\"field\": \"p75\", \"type\": \"quantitative\"}], \"x\": {\"axis\": {\"grid\": false, \"labels\": false, \"ticks\": true, \"values\": [0]}, \"field\": \"jitter\", \"scale\": {}, \"title\": null, \"type\": \"quantitative\"}, \"y\": {\"field\": \"bus_difference\", \"scale\": {\"domain\": [-5, 27.0]}, \"title\": \"Difference in Bus to Car Travel Time (min)\", \"type\": \"quantitative\"}}, \"selection\": {\"selector004\": {\"type\": \"interval\", \"bind\": \"scales\", \"encodings\": [\"x\", \"y\"]}}, \"transform\": [{\"calculate\": \"sqrt(-2*log(random()))*cos(2*PI*random())\", \"as\": \"jitter\"}], \"width\": 60}, {\"layer\": [{\"mark\": {\"type\": \"point\", \"opacity\": 0.6, \"size\": 20, \"strokeWidth\": 1.3}, \"encoding\": {\"color\": {\"value\": \"#323434\"}, \"y\": {\"field\": \"bus_difference\", \"type\": \"quantitative\"}}, \"transform\": [{\"filter\": \"(datum.p50_trip === 1)\"}]}, {\"mark\": {\"type\": \"rule\", \"strokeDash\": [2, 3]}, \"encoding\": {\"color\": {\"value\": \"#323434\"}, \"y\": {\"field\": \"cutoff\", \"type\": \"quantitative\"}}}, {\"mark\": {\"type\": \"rule\", \"strokeDash\": [2, 3]}, \"encoding\": {\"color\": {\"value\": \"#136C97\"}, \"y\": {\"field\": \"cutoff2\", \"type\": \"quantitative\"}}}, {\"mark\": {\"type\": \"text\", \"align\": \"center\", \"baseline\": \"middle\"}, \"encoding\": {\"color\": {\"value\": \"black\"}, \"text\": {\"field\": \"pct_trips_competitive\", \"format\": \".0%\", \"type\": \"quantitative\"}, \"tooltip\": [{\"field\": \"route_id\", \"type\": \"nominal\"}, {\"field\": \"trip_id\", \"type\": \"nominal\"}, {\"field\": \"service_hours\", \"type\": \"quantitative\"}, {\"field\": \"car_duration_hours\", \"type\": \"quantitative\"}, {\"field\": \"bus_multiplier\", \"type\": \"quantitative\"}, {\"field\": \"bus_difference\", \"type\": \"quantitative\"}, {\"field\": \"num_trips\", \"type\": \"quantitative\"}, {\"field\": \"num_competitive\", \"type\": \"quantitative\"}, {\"field\": \"pct_trips_competitive\", \"type\": \"quantitative\"}, {\"field\": \"p25\", \"type\": \"quantitative\"}, {\"field\": \"p50\", \"type\": \"quantitative\"}, {\"field\": \"p75\", \"type\": \"quantitative\"}], \"x\": {\"value\": 30}, \"y\": {\"value\": 15}}, \"transform\": [{\"calculate\": \"sqrt(-2*log(random()))*cos(2*PI*random())\", \"as\": \"jitter\"}, {\"filter\": \"(datum.fastest_trip === 1)\"}]}]}]}, \"resolve\": {\"scale\": {\"y\": \"shared\"}}, \"title\": \"Difference in Bus to Car Travel Time (min)\", \"$schema\": \"https://vega.github.io/schema/vega-lite/v4.17.0.json\", \"datasets\": {\"data-1fae6ff6e923c30089bca720a5f2c651\": [{\"calitp_itp_id\": 260, \"trip_key\": 1317046688990537606, \"trip_id\": \"BCT109 NB_MF.T03\", \"shape_id\": \"BCT109 NB\", \"route_id\": \"BCT109 NB\", \"service_hours\": 1.22, \"trip_first_departure_ts\": 26700, \"trip_last_arrival_ts\": 31080, \"departure_hour\": 7, \"time_of_day\": \"AM Peak\", \"p25\": 1.28, \"p50\": 1.28, \"p75\": 1.28, \"p50_trip\": 0, \"fastest_trip\": 1, \"car_duration_hours\": 0.83, \"competitive_route\": 1, \"bus_multiplier\": 1.47, \"bus_difference\": 23.4, \"num_trips\": 20, \"num_competitive\": 20, \"pct_trips_competitive\": 1.0, \"bus_difference_spread\": 3.6, \"route_group\": \"medium\", \"max_trip_hrs\": 1.28, \"max_trip_route_group\": 1.33, \"name\": \"City of Redondo Beach\", \"caltrans_district\": \"07 - Los Angeles\", \"drmt_organization_name\": null, \"cutoff2\": 19.950000000000003, \"cutoff\": 0}, {\"calitp_itp_id\": 260, \"trip_key\": 3673728135160785242, \"trip_id\": \"BCT109 NB_MF.T02\", \"shape_id\": \"BCT109 NB\", \"route_id\": \"BCT109 NB\", \"service_hours\": 1.22, \"trip_first_departure_ts\": 23400, \"trip_last_arrival_ts\": 27780, \"departure_hour\": 6, \"time_of_day\": \"Owl Service\", \"p25\": 1.28, \"p50\": 1.28, \"p75\": 1.28, \"p50_trip\": 0, \"fastest_trip\": 0, \"car_duration_hours\": 0.83, \"competitive_route\": 1, \"bus_multiplier\": 1.47, \"bus_difference\": 23.4, \"num_trips\": 20, \"num_competitive\": 20, \"pct_trips_competitive\": 1.0, \"bus_difference_spread\": 3.6, \"route_group\": \"medium\", \"max_trip_hrs\": 1.28, \"max_trip_route_group\": 1.33, \"name\": \"City of Redondo Beach\", \"caltrans_district\": \"07 - Los Angeles\", \"drmt_organization_name\": null, \"cutoff2\": 19.950000000000003, \"cutoff\": 0}, {\"calitp_itp_id\": 260, \"trip_key\": -5692772296662780211, \"trip_id\": \"BCT109 NB_MF.T01\", \"shape_id\": \"BCT109 NB\", \"route_id\": \"BCT109 NB\", \"service_hours\": 1.22, \"trip_first_departure_ts\": 21600, \"trip_last_arrival_ts\": 25980, \"departure_hour\": 6, \"time_of_day\": \"Owl Service\", \"p25\": 1.28, \"p50\": 1.28, \"p75\": 1.28, \"p50_trip\": 0, \"fastest_trip\": 0, \"car_duration_hours\": 0.83, \"competitive_route\": 1, \"bus_multiplier\": 1.47, \"bus_difference\": 23.4, \"num_trips\": 20, \"num_competitive\": 20, \"pct_trips_competitive\": 1.0, \"bus_difference_spread\": 3.6, \"route_group\": \"medium\", \"max_trip_hrs\": 1.28, \"max_trip_route_group\": 1.33, \"name\": \"City of Redondo Beach\", \"caltrans_district\": \"07 - Los Angeles\", \"drmt_organization_name\": null, \"cutoff2\": 19.950000000000003, \"cutoff\": 0}, {\"calitp_itp_id\": 260, \"trip_key\": -8382958733402730771, \"trip_id\": \"BCT109 NB_MF.T11\", \"shape_id\": \"BCT109 NB\", \"route_id\": \"BCT109 NB\", \"service_hours\": 1.28, \"trip_first_departure_ts\": 49500, \"trip_last_arrival_ts\": 54120, \"departure_hour\": 13, \"time_of_day\": \"Midday\", \"p25\": 1.28, \"p50\": 1.28, \"p75\": 1.28, \"p50_trip\": 1, \"fastest_trip\": 0, \"car_duration_hours\": 0.83, \"competitive_route\": 1, \"bus_multiplier\": 1.54, \"bus_difference\": 27.0, \"num_trips\": 20, \"num_competitive\": 20, \"pct_trips_competitive\": 1.0, \"bus_difference_spread\": 3.6, \"route_group\": \"medium\", \"max_trip_hrs\": 1.28, \"max_trip_route_group\": 1.33, \"name\": \"City of Redondo Beach\", \"caltrans_district\": \"07 - Los Angeles\", \"drmt_organization_name\": null, \"cutoff2\": 19.950000000000003, \"cutoff\": 0}, {\"calitp_itp_id\": 260, \"trip_key\": 7828937370348139098, \"trip_id\": \"BCT109 NB_MF.T04\", \"shape_id\": \"BCT109 NB\", \"route_id\": \"BCT109 NB\", \"service_hours\": 1.28, \"trip_first_departure_ts\": 29400, \"trip_last_arrival_ts\": 34020, \"departure_hour\": 8, \"time_of_day\": \"AM Peak\", \"p25\": 1.28, \"p50\": 1.28, \"p75\": 1.28, \"p50_trip\": 1, \"fastest_trip\": 0, \"car_duration_hours\": 0.83, \"competitive_route\": 1, \"bus_multiplier\": 1.54, \"bus_difference\": 27.0, \"num_trips\": 20, \"num_competitive\": 20, \"pct_trips_competitive\": 1.0, \"bus_difference_spread\": 3.6, \"route_group\": \"medium\", \"max_trip_hrs\": 1.28, \"max_trip_route_group\": 1.33, \"name\": \"City of Redondo Beach\", \"caltrans_district\": \"07 - Los Angeles\", \"drmt_organization_name\": null, \"cutoff2\": 19.950000000000003, \"cutoff\": 0}, {\"calitp_itp_id\": 260, \"trip_key\": -656251562375874454, \"trip_id\": \"BCT109 NB_MF.T19\", \"shape_id\": \"BCT109 NB\", \"route_id\": \"BCT109 NB\", \"service_hours\": 1.28, \"trip_first_departure_ts\": 71100, \"trip_last_arrival_ts\": 75720, \"departure_hour\": 19, \"time_of_day\": \"PM Peak\", \"p25\": 1.28, \"p50\": 1.28, \"p75\": 1.28, \"p50_trip\": 1, \"fastest_trip\": 0, \"car_duration_hours\": 0.83, \"competitive_route\": 1, \"bus_multiplier\": 1.54, \"bus_difference\": 27.0, \"num_trips\": 20, \"num_competitive\": 20, \"pct_trips_competitive\": 1.0, \"bus_difference_spread\": 3.6, \"route_group\": \"medium\", \"max_trip_hrs\": 1.28, \"max_trip_route_group\": 1.33, \"name\": \"City of Redondo Beach\", \"caltrans_district\": \"07 - Los Angeles\", \"drmt_organization_name\": null, \"cutoff2\": 19.950000000000003, \"cutoff\": 0}, {\"calitp_itp_id\": 260, \"trip_key\": 8750848218037897663, \"trip_id\": \"BCT109 NB_MF.T17\", \"shape_id\": \"BCT109 NB\", \"route_id\": \"BCT109 NB\", \"service_hours\": 1.28, \"trip_first_departure_ts\": 65400, \"trip_last_arrival_ts\": 70020, \"departure_hour\": 18, \"time_of_day\": \"PM Peak\", \"p25\": 1.28, \"p50\": 1.28, \"p75\": 1.28, \"p50_trip\": 1, \"fastest_trip\": 0, \"car_duration_hours\": 0.83, \"competitive_route\": 1, \"bus_multiplier\": 1.54, \"bus_difference\": 27.0, \"num_trips\": 20, \"num_competitive\": 20, \"pct_trips_competitive\": 1.0, \"bus_difference_spread\": 3.6, \"route_group\": \"medium\", \"max_trip_hrs\": 1.28, \"max_trip_route_group\": 1.33, \"name\": \"City of Redondo Beach\", \"caltrans_district\": \"07 - Los Angeles\", \"drmt_organization_name\": null, \"cutoff2\": 19.950000000000003, \"cutoff\": 0}, {\"calitp_itp_id\": 260, \"trip_key\": 84845425813148536, \"trip_id\": \"BCT109 NB_MF.T14\", \"shape_id\": \"BCT109 NB\", \"route_id\": \"BCT109 NB\", \"service_hours\": 1.28, \"trip_first_departure_ts\": 57300, \"trip_last_arrival_ts\": 61920, \"departure_hour\": 15, \"time_of_day\": \"Midday\", \"p25\": 1.28, \"p50\": 1.28, \"p75\": 1.28, \"p50_trip\": 1, \"fastest_trip\": 0, \"car_duration_hours\": 0.83, \"competitive_route\": 1, \"bus_multiplier\": 1.54, \"bus_difference\": 27.0, \"num_trips\": 20, \"num_competitive\": 20, \"pct_trips_competitive\": 1.0, \"bus_difference_spread\": 3.6, \"route_group\": \"medium\", \"max_trip_hrs\": 1.28, \"max_trip_route_group\": 1.33, \"name\": \"City of Redondo Beach\", \"caltrans_district\": \"07 - Los Angeles\", \"drmt_organization_name\": null, \"cutoff2\": 19.950000000000003, \"cutoff\": 0}, {\"calitp_itp_id\": 260, \"trip_key\": 6559195403394685853, \"trip_id\": \"BCT109 NB_MF.T07\", \"shape_id\": \"BCT109 NB\", \"route_id\": \"BCT109 NB\", \"service_hours\": 1.28, \"trip_first_departure_ts\": 37500, \"trip_last_arrival_ts\": 42120, \"departure_hour\": 10, \"time_of_day\": \"Midday\", \"p25\": 1.28, \"p50\": 1.28, \"p75\": 1.28, \"p50_trip\": 1, \"fastest_trip\": 0, \"car_duration_hours\": 0.83, \"competitive_route\": 1, \"bus_multiplier\": 1.54, \"bus_difference\": 27.0, \"num_trips\": 20, \"num_competitive\": 20, \"pct_trips_competitive\": 1.0, \"bus_difference_spread\": 3.6, \"route_group\": \"medium\", \"max_trip_hrs\": 1.28, \"max_trip_route_group\": 1.33, \"name\": \"City of Redondo Beach\", \"caltrans_district\": \"07 - Los Angeles\", \"drmt_organization_name\": null, \"cutoff2\": 19.950000000000003, \"cutoff\": 0}, {\"calitp_itp_id\": 260, \"trip_key\": -4238208434499862872, \"trip_id\": \"BCT109 NB_MF.T10\", \"shape_id\": \"BCT109 NB\", \"route_id\": \"BCT109 NB\", \"service_hours\": 1.28, \"trip_first_departure_ts\": 45300, \"trip_last_arrival_ts\": 49920, \"departure_hour\": 12, \"time_of_day\": \"Midday\", \"p25\": 1.28, \"p50\": 1.28, \"p75\": 1.28, \"p50_trip\": 1, \"fastest_trip\": 0, \"car_duration_hours\": 0.83, \"competitive_route\": 1, \"bus_multiplier\": 1.54, \"bus_difference\": 27.0, \"num_trips\": 20, \"num_competitive\": 20, \"pct_trips_competitive\": 1.0, \"bus_difference_spread\": 3.6, \"route_group\": \"medium\", \"max_trip_hrs\": 1.28, \"max_trip_route_group\": 1.33, \"name\": \"City of Redondo Beach\", \"caltrans_district\": \"07 - Los Angeles\", \"drmt_organization_name\": null, \"cutoff2\": 19.950000000000003, \"cutoff\": 0}, {\"calitp_itp_id\": 260, \"trip_key\": -5929374785087733782, \"trip_id\": \"BCT109 NB_MF.T12\", \"shape_id\": \"BCT109 NB\", \"route_id\": \"BCT109 NB\", \"service_hours\": 1.28, \"trip_first_departure_ts\": 52200, \"trip_last_arrival_ts\": 56820, \"departure_hour\": 14, \"time_of_day\": \"Midday\", \"p25\": 1.28, \"p50\": 1.28, \"p75\": 1.28, \"p50_trip\": 1, \"fastest_trip\": 0, \"car_duration_hours\": 0.83, \"competitive_route\": 1, \"bus_multiplier\": 1.54, \"bus_difference\": 27.0, \"num_trips\": 20, \"num_competitive\": 20, \"pct_trips_competitive\": 1.0, \"bus_difference_spread\": 3.6, \"route_group\": \"medium\", \"max_trip_hrs\": 1.28, \"max_trip_route_group\": 1.33, \"name\": \"City of Redondo Beach\", \"caltrans_district\": \"07 - Los Angeles\", \"drmt_organization_name\": null, \"cutoff2\": 19.950000000000003, \"cutoff\": 0}, {\"calitp_itp_id\": 260, \"trip_key\": 8367892553357170010, \"trip_id\": \"BCT109 NB_MF.T20\", \"shape_id\": \"BCT109 NB\", \"route_id\": \"BCT109 NB\", \"service_hours\": 1.28, \"trip_first_departure_ts\": 73800, \"trip_last_arrival_ts\": 78420, \"departure_hour\": 20, \"time_of_day\": \"Owl Service\", \"p25\": 1.28, \"p50\": 1.28, \"p75\": 1.28, \"p50_trip\": 1, \"fastest_trip\": 0, \"car_duration_hours\": 0.83, \"competitive_route\": 1, \"bus_multiplier\": 1.54, \"bus_difference\": 27.0, \"num_trips\": 20, \"num_competitive\": 20, \"pct_trips_competitive\": 1.0, \"bus_difference_spread\": 3.6, \"route_group\": \"medium\", \"max_trip_hrs\": 1.28, \"max_trip_route_group\": 1.33, \"name\": \"City of Redondo Beach\", \"caltrans_district\": \"07 - Los Angeles\", \"drmt_organization_name\": null, \"cutoff2\": 19.950000000000003, \"cutoff\": 0}, {\"calitp_itp_id\": 260, \"trip_key\": -8827795785864707041, \"trip_id\": \"BCT109 NB_MF.T05\", \"shape_id\": \"BCT109 NB\", \"route_id\": \"BCT109 NB\", \"service_hours\": 1.28, \"trip_first_departure_ts\": 31800, \"trip_last_arrival_ts\": 36420, \"departure_hour\": 8, \"time_of_day\": \"AM Peak\", \"p25\": 1.28, \"p50\": 1.28, \"p75\": 1.28, \"p50_trip\": 1, \"fastest_trip\": 0, \"car_duration_hours\": 0.83, \"competitive_route\": 1, \"bus_multiplier\": 1.54, \"bus_difference\": 27.0, \"num_trips\": 20, \"num_competitive\": 20, \"pct_trips_competitive\": 1.0, \"bus_difference_spread\": 3.6, \"route_group\": \"medium\", \"max_trip_hrs\": 1.28, \"max_trip_route_group\": 1.33, \"name\": \"City of Redondo Beach\", \"caltrans_district\": \"07 - Los Angeles\", \"drmt_organization_name\": null, \"cutoff2\": 19.950000000000003, \"cutoff\": 0}, {\"calitp_itp_id\": 260, \"trip_key\": -7343359897475375849, \"trip_id\": \"BCT109 NB_MF.T13\", \"shape_id\": \"BCT109 NB\", \"route_id\": \"BCT109 NB\", \"service_hours\": 1.28, \"trip_first_departure_ts\": 54600, \"trip_last_arrival_ts\": 59220, \"departure_hour\": 15, \"time_of_day\": \"Midday\", \"p25\": 1.28, \"p50\": 1.28, \"p75\": 1.28, \"p50_trip\": 1, \"fastest_trip\": 0, \"car_duration_hours\": 0.83, \"competitive_route\": 1, \"bus_multiplier\": 1.54, \"bus_difference\": 27.0, \"num_trips\": 20, \"num_competitive\": 20, \"pct_trips_competitive\": 1.0, \"bus_difference_spread\": 3.6, \"route_group\": \"medium\", \"max_trip_hrs\": 1.28, \"max_trip_route_group\": 1.33, \"name\": \"City of Redondo Beach\", \"caltrans_district\": \"07 - Los Angeles\", \"drmt_organization_name\": null, \"cutoff2\": 19.950000000000003, \"cutoff\": 0}, {\"calitp_itp_id\": 260, \"trip_key\": -5831490653988659755, \"trip_id\": \"BCT109 NB_MF.T18\", \"shape_id\": \"BCT109 NB\", \"route_id\": \"BCT109 NB\", \"service_hours\": 1.28, \"trip_first_departure_ts\": 68100, \"trip_last_arrival_ts\": 72720, \"departure_hour\": 18, \"time_of_day\": \"PM Peak\", \"p25\": 1.28, \"p50\": 1.28, \"p75\": 1.28, \"p50_trip\": 1, \"fastest_trip\": 0, \"car_duration_hours\": 0.83, \"competitive_route\": 1, \"bus_multiplier\": 1.54, \"bus_difference\": 27.0, \"num_trips\": 20, \"num_competitive\": 20, \"pct_trips_competitive\": 1.0, \"bus_difference_spread\": 3.6, \"route_group\": \"medium\", \"max_trip_hrs\": 1.28, \"max_trip_route_group\": 1.33, \"name\": \"City of Redondo Beach\", \"caltrans_district\": \"07 - Los Angeles\", \"drmt_organization_name\": null, \"cutoff2\": 19.950000000000003, \"cutoff\": 0}, {\"calitp_itp_id\": 260, \"trip_key\": -6459932311807863698, \"trip_id\": \"BCT109 NB_MF.T09\", \"shape_id\": \"BCT109 NB\", \"route_id\": \"BCT109 NB\", \"service_hours\": 1.28, \"trip_first_departure_ts\": 42600, \"trip_last_arrival_ts\": 47220, \"departure_hour\": 11, \"time_of_day\": \"Midday\", \"p25\": 1.28, \"p50\": 1.28, \"p75\": 1.28, \"p50_trip\": 1, \"fastest_trip\": 0, \"car_duration_hours\": 0.83, \"competitive_route\": 1, \"bus_multiplier\": 1.54, \"bus_difference\": 27.0, \"num_trips\": 20, \"num_competitive\": 20, \"pct_trips_competitive\": 1.0, \"bus_difference_spread\": 3.6, \"route_group\": \"medium\", \"max_trip_hrs\": 1.28, \"max_trip_route_group\": 1.33, \"name\": \"City of Redondo Beach\", \"caltrans_district\": \"07 - Los Angeles\", \"drmt_organization_name\": null, \"cutoff2\": 19.950000000000003, \"cutoff\": 0}, {\"calitp_itp_id\": 260, \"trip_key\": 8751971087300252775, \"trip_id\": \"BCT109 NB_MF.T15\", \"shape_id\": \"BCT109 NB\", \"route_id\": \"BCT109 NB\", \"service_hours\": 1.28, \"trip_first_departure_ts\": 60300, \"trip_last_arrival_ts\": 64920, \"departure_hour\": 16, \"time_of_day\": \"Midday\", \"p25\": 1.28, \"p50\": 1.28, \"p75\": 1.28, \"p50_trip\": 1, \"fastest_trip\": 0, \"car_duration_hours\": 0.83, \"competitive_route\": 1, \"bus_multiplier\": 1.54, \"bus_difference\": 27.0, \"num_trips\": 20, \"num_competitive\": 20, \"pct_trips_competitive\": 1.0, \"bus_difference_spread\": 3.6, \"route_group\": \"medium\", \"max_trip_hrs\": 1.28, \"max_trip_route_group\": 1.33, \"name\": \"City of Redondo Beach\", \"caltrans_district\": \"07 - Los Angeles\", \"drmt_organization_name\": null, \"cutoff2\": 19.950000000000003, \"cutoff\": 0}, {\"calitp_itp_id\": 260, \"trip_key\": 650064259460204168, \"trip_id\": \"BCT109 NB_MF.T06\", \"shape_id\": \"BCT109 NB\", \"route_id\": \"BCT109 NB\", \"service_hours\": 1.28, \"trip_first_departure_ts\": 34500, \"trip_last_arrival_ts\": 39120, \"departure_hour\": 9, \"time_of_day\": \"AM Peak\", \"p25\": 1.28, \"p50\": 1.28, \"p75\": 1.28, \"p50_trip\": 1, \"fastest_trip\": 0, \"car_duration_hours\": 0.83, \"competitive_route\": 1, \"bus_multiplier\": 1.54, \"bus_difference\": 27.0, \"num_trips\": 20, \"num_competitive\": 20, \"pct_trips_competitive\": 1.0, \"bus_difference_spread\": 3.6, \"route_group\": \"medium\", \"max_trip_hrs\": 1.28, \"max_trip_route_group\": 1.33, \"name\": \"City of Redondo Beach\", \"caltrans_district\": \"07 - Los Angeles\", \"drmt_organization_name\": null, \"cutoff2\": 19.950000000000003, \"cutoff\": 0}, {\"calitp_itp_id\": 260, \"trip_key\": -1941445509852013822, \"trip_id\": \"BCT109 NB_MF.T16\", \"shape_id\": \"BCT109 NB\", \"route_id\": \"BCT109 NB\", \"service_hours\": 1.28, \"trip_first_departure_ts\": 63000, \"trip_last_arrival_ts\": 67620, \"departure_hour\": 17, \"time_of_day\": \"PM Peak\", \"p25\": 1.28, \"p50\": 1.28, \"p75\": 1.28, \"p50_trip\": 1, \"fastest_trip\": 0, \"car_duration_hours\": 0.83, \"competitive_route\": 1, \"bus_multiplier\": 1.54, \"bus_difference\": 27.0, \"num_trips\": 20, \"num_competitive\": 20, \"pct_trips_competitive\": 1.0, \"bus_difference_spread\": 3.6, \"route_group\": \"medium\", \"max_trip_hrs\": 1.28, \"max_trip_route_group\": 1.33, \"name\": \"City of Redondo Beach\", \"caltrans_district\": \"07 - Los Angeles\", \"drmt_organization_name\": null, \"cutoff2\": 19.950000000000003, \"cutoff\": 0}, {\"calitp_itp_id\": 260, \"trip_key\": 3723404524443184751, \"trip_id\": \"BCT109 NB_MF.T08\", \"shape_id\": \"BCT109 NB\", \"route_id\": \"BCT109 NB\", \"service_hours\": 1.28, \"trip_first_departure_ts\": 40200, \"trip_last_arrival_ts\": 44820, \"departure_hour\": 11, \"time_of_day\": \"Midday\", \"p25\": 1.28, \"p50\": 1.28, \"p75\": 1.28, \"p50_trip\": 1, \"fastest_trip\": 0, \"car_duration_hours\": 0.83, \"competitive_route\": 1, \"bus_multiplier\": 1.54, \"bus_difference\": 27.0, \"num_trips\": 20, \"num_competitive\": 20, \"pct_trips_competitive\": 1.0, \"bus_difference_spread\": 3.6, \"route_group\": \"medium\", \"max_trip_hrs\": 1.28, \"max_trip_route_group\": 1.33, \"name\": \"City of Redondo Beach\", \"caltrans_district\": \"07 - Los Angeles\", \"drmt_organization_name\": null, \"cutoff2\": 19.950000000000003, \"cutoff\": 0}, {\"calitp_itp_id\": 260, \"trip_key\": -7769911764283861301, \"trip_id\": \"BCT109 SB_MF.T05\", \"shape_id\": \"BCT109 SB\", \"route_id\": \"BCT109 SB\", \"service_hours\": 1.33, \"trip_first_departure_ts\": 32100, \"trip_last_arrival_ts\": 36900, \"departure_hour\": 8, \"time_of_day\": \"AM Peak\", \"p25\": 1.33, \"p50\": 1.33, \"p75\": 1.33, \"p50_trip\": 1, \"fastest_trip\": 0, \"car_duration_hours\": 1.1, \"competitive_route\": 1, \"bus_multiplier\": 1.21, \"bus_difference\": 13.8, \"num_trips\": 20, \"num_competitive\": 20, \"pct_trips_competitive\": 1.0, \"bus_difference_spread\": 0.0, \"route_group\": \"medium\", \"max_trip_hrs\": 1.33, \"max_trip_route_group\": 1.33, \"name\": \"City of Redondo Beach\", \"caltrans_district\": \"07 - Los Angeles\", \"drmt_organization_name\": null, \"cutoff2\": 19.950000000000003, \"cutoff\": 0}, {\"calitp_itp_id\": 260, \"trip_key\": 8823191204635919285, \"trip_id\": \"BCT109 SB_MF.T17\", \"shape_id\": \"BCT109 SB\", \"route_id\": \"BCT109 SB\", \"service_hours\": 1.33, \"trip_first_departure_ts\": 65700, \"trip_last_arrival_ts\": 70500, \"departure_hour\": 18, \"time_of_day\": \"PM Peak\", \"p25\": 1.33, \"p50\": 1.33, \"p75\": 1.33, \"p50_trip\": 1, \"fastest_trip\": 0, \"car_duration_hours\": 1.1, \"competitive_route\": 1, \"bus_multiplier\": 1.21, \"bus_difference\": 13.8, \"num_trips\": 20, \"num_competitive\": 20, \"pct_trips_competitive\": 1.0, \"bus_difference_spread\": 0.0, \"route_group\": \"medium\", \"max_trip_hrs\": 1.33, \"max_trip_route_group\": 1.33, \"name\": \"City of Redondo Beach\", \"caltrans_district\": \"07 - Los Angeles\", \"drmt_organization_name\": null, \"cutoff2\": 19.950000000000003, \"cutoff\": 0}, {\"calitp_itp_id\": 260, \"trip_key\": 9206665950355318065, \"trip_id\": \"BCT109 SB_MF.T16\", \"shape_id\": \"BCT109 SB\", \"route_id\": \"BCT109 SB\", \"service_hours\": 1.33, \"trip_first_departure_ts\": 62700, \"trip_last_arrival_ts\": 67500, \"departure_hour\": 17, \"time_of_day\": \"PM Peak\", \"p25\": 1.33, \"p50\": 1.33, \"p75\": 1.33, \"p50_trip\": 1, \"fastest_trip\": 0, \"car_duration_hours\": 1.1, \"competitive_route\": 1, \"bus_multiplier\": 1.21, \"bus_difference\": 13.8, \"num_trips\": 20, \"num_competitive\": 20, \"pct_trips_competitive\": 1.0, \"bus_difference_spread\": 0.0, \"route_group\": \"medium\", \"max_trip_hrs\": 1.33, \"max_trip_route_group\": 1.33, \"name\": \"City of Redondo Beach\", \"caltrans_district\": \"07 - Los Angeles\", \"drmt_organization_name\": null, \"cutoff2\": 19.950000000000003, \"cutoff\": 0}, {\"calitp_itp_id\": 260, \"trip_key\": -4499201128805887979, \"trip_id\": \"BCT109 SB_MF.T20\", \"shape_id\": \"BCT109 SB\", \"route_id\": \"BCT109 SB\", \"service_hours\": 1.33, \"trip_first_departure_ts\": 73500, \"trip_last_arrival_ts\": 78300, \"departure_hour\": 20, \"time_of_day\": \"Owl Service\", \"p25\": 1.33, \"p50\": 1.33, \"p75\": 1.33, \"p50_trip\": 1, \"fastest_trip\": 1, \"car_duration_hours\": 1.1, \"competitive_route\": 1, \"bus_multiplier\": 1.21, \"bus_difference\": 13.8, \"num_trips\": 20, \"num_competitive\": 20, \"pct_trips_competitive\": 1.0, \"bus_difference_spread\": 0.0, \"route_group\": \"medium\", \"max_trip_hrs\": 1.33, \"max_trip_route_group\": 1.33, \"name\": \"City of Redondo Beach\", \"caltrans_district\": \"07 - Los Angeles\", \"drmt_organization_name\": null, \"cutoff2\": 19.950000000000003, \"cutoff\": 0}, {\"calitp_itp_id\": 260, \"trip_key\": -950805648954300900, \"trip_id\": \"BCT109 SB_MF.T15\", \"shape_id\": \"BCT109 SB\", \"route_id\": \"BCT109 SB\", \"service_hours\": 1.33, \"trip_first_departure_ts\": 60000, \"trip_last_arrival_ts\": 64800, \"departure_hour\": 16, \"time_of_day\": \"Midday\", \"p25\": 1.33, \"p50\": 1.33, \"p75\": 1.33, \"p50_trip\": 1, \"fastest_trip\": 0, \"car_duration_hours\": 1.1, \"competitive_route\": 1, \"bus_multiplier\": 1.21, \"bus_difference\": 13.8, \"num_trips\": 20, \"num_competitive\": 20, \"pct_trips_competitive\": 1.0, \"bus_difference_spread\": 0.0, \"route_group\": \"medium\", \"max_trip_hrs\": 1.33, \"max_trip_route_group\": 1.33, \"name\": \"City of Redondo Beach\", \"caltrans_district\": \"07 - Los Angeles\", \"drmt_organization_name\": null, \"cutoff2\": 19.950000000000003, \"cutoff\": 0}, {\"calitp_itp_id\": 260, \"trip_key\": 5483605554865067177, \"trip_id\": \"BCT109 SB_MF.T01\", \"shape_id\": \"BCT109 SB\", \"route_id\": \"BCT109 SB\", \"service_hours\": 1.33, \"trip_first_departure_ts\": 21300, \"trip_last_arrival_ts\": 26100, \"departure_hour\": 5, \"time_of_day\": \"Owl Service\", \"p25\": 1.33, \"p50\": 1.33, \"p75\": 1.33, \"p50_trip\": 1, \"fastest_trip\": 0, \"car_duration_hours\": 1.1, \"competitive_route\": 1, \"bus_multiplier\": 1.21, \"bus_difference\": 13.8, \"num_trips\": 20, \"num_competitive\": 20, \"pct_trips_competitive\": 1.0, \"bus_difference_spread\": 0.0, \"route_group\": \"medium\", \"max_trip_hrs\": 1.33, \"max_trip_route_group\": 1.33, \"name\": \"City of Redondo Beach\", \"caltrans_district\": \"07 - Los Angeles\", \"drmt_organization_name\": null, \"cutoff2\": 19.950000000000003, \"cutoff\": 0}, {\"calitp_itp_id\": 260, \"trip_key\": -4780138184419908344, \"trip_id\": \"BCT109 SB_MF.T14\", \"shape_id\": \"BCT109 SB\", \"route_id\": \"BCT109 SB\", \"service_hours\": 1.33, \"trip_first_departure_ts\": 57600, \"trip_last_arrival_ts\": 62400, \"departure_hour\": 16, \"time_of_day\": \"Midday\", \"p25\": 1.33, \"p50\": 1.33, \"p75\": 1.33, \"p50_trip\": 1, \"fastest_trip\": 0, \"car_duration_hours\": 1.1, \"competitive_route\": 1, \"bus_multiplier\": 1.21, \"bus_difference\": 13.8, \"num_trips\": 20, \"num_competitive\": 20, \"pct_trips_competitive\": 1.0, \"bus_difference_spread\": 0.0, \"route_group\": \"medium\", \"max_trip_hrs\": 1.33, \"max_trip_route_group\": 1.33, \"name\": \"City of Redondo Beach\", \"caltrans_district\": \"07 - Los Angeles\", \"drmt_organization_name\": null, \"cutoff2\": 19.950000000000003, \"cutoff\": 0}, {\"calitp_itp_id\": 260, \"trip_key\": -4425915001469547984, \"trip_id\": \"BCT109 SB_MF.T03\", \"shape_id\": \"BCT109 SB\", \"route_id\": \"BCT109 SB\", \"service_hours\": 1.33, \"trip_first_departure_ts\": 26400, \"trip_last_arrival_ts\": 31200, \"departure_hour\": 7, \"time_of_day\": \"AM Peak\", \"p25\": 1.33, \"p50\": 1.33, \"p75\": 1.33, \"p50_trip\": 1, \"fastest_trip\": 0, \"car_duration_hours\": 1.1, \"competitive_route\": 1, \"bus_multiplier\": 1.21, \"bus_difference\": 13.8, \"num_trips\": 20, \"num_competitive\": 20, \"pct_trips_competitive\": 1.0, \"bus_difference_spread\": 0.0, \"route_group\": \"medium\", \"max_trip_hrs\": 1.33, \"max_trip_route_group\": 1.33, \"name\": \"City of Redondo Beach\", \"caltrans_district\": \"07 - Los Angeles\", \"drmt_organization_name\": null, \"cutoff2\": 19.950000000000003, \"cutoff\": 0}, {\"calitp_itp_id\": 260, \"trip_key\": -6387492083207951242, \"trip_id\": \"BCT109 SB_MF.T11\", \"shape_id\": \"BCT109 SB\", \"route_id\": \"BCT109 SB\", \"service_hours\": 1.33, \"trip_first_departure_ts\": 49200, \"trip_last_arrival_ts\": 54000, \"departure_hour\": 13, \"time_of_day\": \"Midday\", \"p25\": 1.33, \"p50\": 1.33, \"p75\": 1.33, \"p50_trip\": 1, \"fastest_trip\": 0, \"car_duration_hours\": 1.1, \"competitive_route\": 1, \"bus_multiplier\": 1.21, \"bus_difference\": 13.8, \"num_trips\": 20, \"num_competitive\": 20, \"pct_trips_competitive\": 1.0, \"bus_difference_spread\": 0.0, \"route_group\": \"medium\", \"max_trip_hrs\": 1.33, \"max_trip_route_group\": 1.33, \"name\": \"City of Redondo Beach\", \"caltrans_district\": \"07 - Los Angeles\", \"drmt_organization_name\": null, \"cutoff2\": 19.950000000000003, \"cutoff\": 0}, {\"calitp_itp_id\": 260, \"trip_key\": -3213125366714638313, \"trip_id\": \"BCT109 SB_MF.T13\", \"shape_id\": \"BCT109 SB\", \"route_id\": \"BCT109 SB\", \"service_hours\": 1.33, \"trip_first_departure_ts\": 54900, \"trip_last_arrival_ts\": 59700, \"departure_hour\": 15, \"time_of_day\": \"Midday\", \"p25\": 1.33, \"p50\": 1.33, \"p75\": 1.33, \"p50_trip\": 1, \"fastest_trip\": 0, \"car_duration_hours\": 1.1, \"competitive_route\": 1, \"bus_multiplier\": 1.21, \"bus_difference\": 13.8, \"num_trips\": 20, \"num_competitive\": 20, \"pct_trips_competitive\": 1.0, \"bus_difference_spread\": 0.0, \"route_group\": \"medium\", \"max_trip_hrs\": 1.33, \"max_trip_route_group\": 1.33, \"name\": \"City of Redondo Beach\", \"caltrans_district\": \"07 - Los Angeles\", \"drmt_organization_name\": null, \"cutoff2\": 19.950000000000003, \"cutoff\": 0}, {\"calitp_itp_id\": 260, \"trip_key\": 3809111814313801124, \"trip_id\": \"BCT109 SB_MF.T07\", \"shape_id\": \"BCT109 SB\", \"route_id\": \"BCT109 SB\", \"service_hours\": 1.33, \"trip_first_departure_ts\": 37200, \"trip_last_arrival_ts\": 42000, \"departure_hour\": 10, \"time_of_day\": \"Midday\", \"p25\": 1.33, \"p50\": 1.33, \"p75\": 1.33, \"p50_trip\": 1, \"fastest_trip\": 0, \"car_duration_hours\": 1.1, \"competitive_route\": 1, \"bus_multiplier\": 1.21, \"bus_difference\": 13.8, \"num_trips\": 20, \"num_competitive\": 20, \"pct_trips_competitive\": 1.0, \"bus_difference_spread\": 0.0, \"route_group\": \"medium\", \"max_trip_hrs\": 1.33, \"max_trip_route_group\": 1.33, \"name\": \"City of Redondo Beach\", \"caltrans_district\": \"07 - Los Angeles\", \"drmt_organization_name\": null, \"cutoff2\": 19.950000000000003, \"cutoff\": 0}, {\"calitp_itp_id\": 260, \"trip_key\": -8946219895800285709, \"trip_id\": \"BCT109 SB_MF.T12\", \"shape_id\": \"BCT109 SB\", \"route_id\": \"BCT109 SB\", \"service_hours\": 1.33, \"trip_first_departure_ts\": 51900, \"trip_last_arrival_ts\": 56700, \"departure_hour\": 14, \"time_of_day\": \"Midday\", \"p25\": 1.33, \"p50\": 1.33, \"p75\": 1.33, \"p50_trip\": 1, \"fastest_trip\": 0, \"car_duration_hours\": 1.1, \"competitive_route\": 1, \"bus_multiplier\": 1.21, \"bus_difference\": 13.8, \"num_trips\": 20, \"num_competitive\": 20, \"pct_trips_competitive\": 1.0, \"bus_difference_spread\": 0.0, \"route_group\": \"medium\", \"max_trip_hrs\": 1.33, \"max_trip_route_group\": 1.33, \"name\": \"City of Redondo Beach\", \"caltrans_district\": \"07 - Los Angeles\", \"drmt_organization_name\": null, \"cutoff2\": 19.950000000000003, \"cutoff\": 0}, {\"calitp_itp_id\": 260, \"trip_key\": 8591784665566234450, \"trip_id\": \"BCT109 SB_MF.T08\", \"shape_id\": \"BCT109 SB\", \"route_id\": \"BCT109 SB\", \"service_hours\": 1.33, \"trip_first_departure_ts\": 39900, \"trip_last_arrival_ts\": 44700, \"departure_hour\": 11, \"time_of_day\": \"Midday\", \"p25\": 1.33, \"p50\": 1.33, \"p75\": 1.33, \"p50_trip\": 1, \"fastest_trip\": 0, \"car_duration_hours\": 1.1, \"competitive_route\": 1, \"bus_multiplier\": 1.21, \"bus_difference\": 13.8, \"num_trips\": 20, \"num_competitive\": 20, \"pct_trips_competitive\": 1.0, \"bus_difference_spread\": 0.0, \"route_group\": \"medium\", \"max_trip_hrs\": 1.33, \"max_trip_route_group\": 1.33, \"name\": \"City of Redondo Beach\", \"caltrans_district\": \"07 - Los Angeles\", \"drmt_organization_name\": null, \"cutoff2\": 19.950000000000003, \"cutoff\": 0}, {\"calitp_itp_id\": 260, \"trip_key\": -5692302563158925297, \"trip_id\": \"BCT109 SB_MF.T02\", \"shape_id\": \"BCT109 SB\", \"route_id\": \"BCT109 SB\", \"service_hours\": 1.33, \"trip_first_departure_ts\": 24000, \"trip_last_arrival_ts\": 28800, \"departure_hour\": 6, \"time_of_day\": \"Owl Service\", \"p25\": 1.33, \"p50\": 1.33, \"p75\": 1.33, \"p50_trip\": 1, \"fastest_trip\": 0, \"car_duration_hours\": 1.1, \"competitive_route\": 1, \"bus_multiplier\": 1.21, \"bus_difference\": 13.8, \"num_trips\": 20, \"num_competitive\": 20, \"pct_trips_competitive\": 1.0, \"bus_difference_spread\": 0.0, \"route_group\": \"medium\", \"max_trip_hrs\": 1.33, \"max_trip_route_group\": 1.33, \"name\": \"City of Redondo Beach\", \"caltrans_district\": \"07 - Los Angeles\", \"drmt_organization_name\": null, \"cutoff2\": 19.950000000000003, \"cutoff\": 0}, {\"calitp_itp_id\": 260, \"trip_key\": -6167030381298569725, \"trip_id\": \"BCT109 SB_MF.T04\", \"shape_id\": \"BCT109 SB\", \"route_id\": \"BCT109 SB\", \"service_hours\": 1.33, \"trip_first_departure_ts\": 29100, \"trip_last_arrival_ts\": 33900, \"departure_hour\": 8, \"time_of_day\": \"AM Peak\", \"p25\": 1.33, \"p50\": 1.33, \"p75\": 1.33, \"p50_trip\": 1, \"fastest_trip\": 0, \"car_duration_hours\": 1.1, \"competitive_route\": 1, \"bus_multiplier\": 1.21, \"bus_difference\": 13.8, \"num_trips\": 20, \"num_competitive\": 20, \"pct_trips_competitive\": 1.0, \"bus_difference_spread\": 0.0, \"route_group\": \"medium\", \"max_trip_hrs\": 1.33, \"max_trip_route_group\": 1.33, \"name\": \"City of Redondo Beach\", \"caltrans_district\": \"07 - Los Angeles\", \"drmt_organization_name\": null, \"cutoff2\": 19.950000000000003, \"cutoff\": 0}, {\"calitp_itp_id\": 260, \"trip_key\": -5704407478966822574, \"trip_id\": \"BCT109 SB_MF.T19\", \"shape_id\": \"BCT109 SB\", \"route_id\": \"BCT109 SB\", \"service_hours\": 1.33, \"trip_first_departure_ts\": 70800, \"trip_last_arrival_ts\": 75600, \"departure_hour\": 19, \"time_of_day\": \"PM Peak\", \"p25\": 1.33, \"p50\": 1.33, \"p75\": 1.33, \"p50_trip\": 1, \"fastest_trip\": 0, \"car_duration_hours\": 1.1, \"competitive_route\": 1, \"bus_multiplier\": 1.21, \"bus_difference\": 13.8, \"num_trips\": 20, \"num_competitive\": 20, \"pct_trips_competitive\": 1.0, \"bus_difference_spread\": 0.0, \"route_group\": \"medium\", \"max_trip_hrs\": 1.33, \"max_trip_route_group\": 1.33, \"name\": \"City of Redondo Beach\", \"caltrans_district\": \"07 - Los Angeles\", \"drmt_organization_name\": null, \"cutoff2\": 19.950000000000003, \"cutoff\": 0}, {\"calitp_itp_id\": 260, \"trip_key\": 6970404091750010637, \"trip_id\": \"BCT109 SB_MF.T06\", \"shape_id\": \"BCT109 SB\", \"route_id\": \"BCT109 SB\", \"service_hours\": 1.33, \"trip_first_departure_ts\": 34800, \"trip_last_arrival_ts\": 39600, \"departure_hour\": 9, \"time_of_day\": \"AM Peak\", \"p25\": 1.33, \"p50\": 1.33, \"p75\": 1.33, \"p50_trip\": 1, \"fastest_trip\": 0, \"car_duration_hours\": 1.1, \"competitive_route\": 1, \"bus_multiplier\": 1.21, \"bus_difference\": 13.8, \"num_trips\": 20, \"num_competitive\": 20, \"pct_trips_competitive\": 1.0, \"bus_difference_spread\": 0.0, \"route_group\": \"medium\", \"max_trip_hrs\": 1.33, \"max_trip_route_group\": 1.33, \"name\": \"City of Redondo Beach\", \"caltrans_district\": \"07 - Los Angeles\", \"drmt_organization_name\": null, \"cutoff2\": 19.950000000000003, \"cutoff\": 0}, {\"calitp_itp_id\": 260, \"trip_key\": 5016011737382582511, \"trip_id\": \"BCT109 SB_MF.T10\", \"shape_id\": \"BCT109 SB\", \"route_id\": \"BCT109 SB\", \"service_hours\": 1.33, \"trip_first_departure_ts\": 46800, \"trip_last_arrival_ts\": 51600, \"departure_hour\": 13, \"time_of_day\": \"Midday\", \"p25\": 1.33, \"p50\": 1.33, \"p75\": 1.33, \"p50_trip\": 1, \"fastest_trip\": 0, \"car_duration_hours\": 1.1, \"competitive_route\": 1, \"bus_multiplier\": 1.21, \"bus_difference\": 13.8, \"num_trips\": 20, \"num_competitive\": 20, \"pct_trips_competitive\": 1.0, \"bus_difference_spread\": 0.0, \"route_group\": \"medium\", \"max_trip_hrs\": 1.33, \"max_trip_route_group\": 1.33, \"name\": \"City of Redondo Beach\", \"caltrans_district\": \"07 - Los Angeles\", \"drmt_organization_name\": null, \"cutoff2\": 19.950000000000003, \"cutoff\": 0}, {\"calitp_itp_id\": 260, \"trip_key\": 167940946600347386, \"trip_id\": \"BCT109 SB_MF.T18\", \"shape_id\": \"BCT109 SB\", \"route_id\": \"BCT109 SB\", \"service_hours\": 1.33, \"trip_first_departure_ts\": 68400, \"trip_last_arrival_ts\": 73200, \"departure_hour\": 19, \"time_of_day\": \"PM Peak\", \"p25\": 1.33, \"p50\": 1.33, \"p75\": 1.33, \"p50_trip\": 1, \"fastest_trip\": 0, \"car_duration_hours\": 1.1, \"competitive_route\": 1, \"bus_multiplier\": 1.21, \"bus_difference\": 13.8, \"num_trips\": 20, \"num_competitive\": 20, \"pct_trips_competitive\": 1.0, \"bus_difference_spread\": 0.0, \"route_group\": \"medium\", \"max_trip_hrs\": 1.33, \"max_trip_route_group\": 1.33, \"name\": \"City of Redondo Beach\", \"caltrans_district\": \"07 - Los Angeles\", \"drmt_organization_name\": null, \"cutoff2\": 19.950000000000003, \"cutoff\": 0}, {\"calitp_itp_id\": 260, \"trip_key\": 1469278410914527932, \"trip_id\": \"BCT109 SB_MF.T09\", \"shape_id\": \"BCT109 SB\", \"route_id\": \"BCT109 SB\", \"service_hours\": 1.33, \"trip_first_departure_ts\": 44100, \"trip_last_arrival_ts\": 48900, \"departure_hour\": 12, \"time_of_day\": \"Midday\", \"p25\": 1.33, \"p50\": 1.33, \"p75\": 1.33, \"p50_trip\": 1, \"fastest_trip\": 0, \"car_duration_hours\": 1.1, \"competitive_route\": 1, \"bus_multiplier\": 1.21, \"bus_difference\": 13.8, \"num_trips\": 20, \"num_competitive\": 20, \"pct_trips_competitive\": 1.0, \"bus_difference_spread\": 0.0, \"route_group\": \"medium\", \"max_trip_hrs\": 1.33, \"max_trip_route_group\": 1.33, \"name\": \"City of Redondo Beach\", \"caltrans_district\": \"07 - Los Angeles\", \"drmt_organization_name\": null, \"cutoff2\": 19.950000000000003, \"cutoff\": 0}]}}, {\"mode\": \"vega-lite\"});\n",
       "</script>"
      ],
      "text/plain": [
       "alt.FacetChart(...)"
      ]
     },
     "metadata": {},
     "output_type": "display_data"
    }
   ],
   "source": [
    "route_group = \"medium\"\n",
    "try:\n",
    "    subset_routes, mult, diff  = setup_charts(df, PCT_COMPETITIVE_THRESHOLD, route_group)\n",
    "    if len(subset_routes) > 0:\n",
    "        display(\n",
    "            Markdown(\n",
    "                f\"{CAPTIONS_DICT[route_group]}\"\n",
    "                \"Within each route group, routes are sorted in descending order \"\n",
    "                \"by % competitive trips and # trips below the additional time cut-off.\"\n",
    "            )\n",
    "        )\n",
    "\n",
    "        display(mult)\n",
    "        display(diff)\n",
    "except:\n",
    "    print(\"No routes meet this criteria.\")"
   ]
  },
  {
   "cell_type": "markdown",
   "id": "124b76d0-886c-4d03-92ac-f1bda3cda182",
   "metadata": {
    "papermill": {
     "duration": 0.017277,
     "end_time": "2022-05-07T17:23:55.748525",
     "exception": false,
     "start_time": "2022-05-07T17:23:55.731248",
     "status": "completed"
    },
    "tags": []
   },
   "source": [
    "### Long Routes (> 1.5 hrs)"
   ]
  },
  {
   "cell_type": "code",
   "execution_count": 14,
   "id": "ddc81b19-4c45-4c81-8b7a-5e0f394aa7a3",
   "metadata": {
    "execution": {
     "iopub.execute_input": "2022-05-07T17:23:55.783708Z",
     "iopub.status.busy": "2022-05-07T17:23:55.782907Z",
     "iopub.status.idle": "2022-05-07T17:23:55.794856Z",
     "shell.execute_reply": "2022-05-07T17:23:55.793996Z"
    },
    "jupyter": {
     "source_hidden": true
    },
    "papermill": {
     "duration": 0.031524,
     "end_time": "2022-05-07T17:23:55.796902",
     "exception": false,
     "start_time": "2022-05-07T17:23:55.765378",
     "status": "completed"
    },
    "tags": [
     "remove_input"
    ]
   },
   "outputs": [
    {
     "name": "stdout",
     "output_type": "stream",
     "text": [
      "No routes meet this criteria.\n"
     ]
    }
   ],
   "source": [
    "route_group = \"long\"\n",
    "try:\n",
    "    subset_routes, mult, diff  = setup_charts(df, PCT_COMPETITIVE_THRESHOLD, route_group)\n",
    "    if len(subset_routes) > 0:\n",
    "        display(\n",
    "            Markdown(\n",
    "                f\"{CAPTIONS_DICT[route_group]}\"\n",
    "                \"Within each route group, routes are sorted in descending order \"\n",
    "                \"by % competitive trips and # trips below the additional time cut-off.\"\n",
    "            )\n",
    "        )\n",
    "\n",
    "        display(mult)\n",
    "        display(diff)\n",
    "except:\n",
    "    print(\"No routes meet this criteria.\")"
   ]
  }
 ],
 "metadata": {
  "kernelspec": {
   "display_name": "Python 3 (ipykernel)",
   "language": "python",
   "name": "python3"
  },
  "language_info": {
   "codemirror_mode": {
    "name": "ipython",
    "version": 3
   },
   "file_extension": ".py",
   "mimetype": "text/x-python",
   "name": "python",
   "nbconvert_exporter": "python",
   "pygments_lexer": "ipython3",
   "version": "3.9.12"
  },
  "papermill": {
   "default_parameters": {},
   "duration": 22.534096,
   "end_time": "2022-05-07T17:23:56.941176",
   "environment_variables": {},
   "exception": null,
   "input_path": "bus_service_increase/stripplot.ipynb",
   "output_path": "portfolio/parallel_corridors/district_07-los-angeles/stripplot__itp_id_260.ipynb",
   "parameters": {
    "district": "07 - Los Angeles",
    "itp_id": 260
   },
   "start_time": "2022-05-07T17:23:34.407080",
   "version": "2.3.4"
  }
 },
 "nbformat": 4,
 "nbformat_minor": 5
}