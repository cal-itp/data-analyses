{
 "cells": [
  {
   "cell_type": "code",
   "execution_count": 1,
   "id": "95d00857-6a20-4529-a519-2cc7182928a9",
   "metadata": {
    "execution": {
     "iopub.execute_input": "2022-06-03T20:50:18.335650Z",
     "iopub.status.busy": "2022-06-03T20:50:18.334504Z",
     "iopub.status.idle": "2022-06-03T20:50:27.467245Z",
     "shell.execute_reply": "2022-06-03T20:50:27.466450Z"
    },
    "jupyter": {
     "source_hidden": true
    },
    "papermill": {
     "duration": 9.15178,
     "end_time": "2022-06-03T20:50:27.469659",
     "exception": false,
     "start_time": "2022-06-03T20:50:18.317879",
     "status": "completed"
    },
    "tags": [
     "remove_input"
    ]
   },
   "outputs": [],
   "source": [
    "%%capture\n",
    "import warnings\n",
    "warnings.filterwarnings('ignore')\n",
    "\n",
    "import altair as alt\n",
    "import calitp.magics\n",
    "import geopandas as gpd\n",
    "import intake\n",
    "import pandas as pd\n",
    "\n",
    "from IPython.display import display, Markdown, HTML\n",
    "\n",
    "import parallel_corridors_utils\n",
    "import deploy_portfolio_yaml\n",
    "from shared_utils import styleguide, geography_utils\n",
    "from E5_make_stripplot_data import diff_cutoffs\n",
    "\n",
    "catalog = intake.open_catalog(\"./*.yml\")\n",
    "alt.renderers.enable(\"html\")"
   ]
  },
  {
   "cell_type": "code",
   "execution_count": 2,
   "id": "a1939dd3-6c5b-4ef7-b49f-e3f30c8bd8bd",
   "metadata": {
    "execution": {
     "iopub.execute_input": "2022-06-03T20:50:27.498810Z",
     "iopub.status.busy": "2022-06-03T20:50:27.498507Z",
     "iopub.status.idle": "2022-06-03T20:50:27.502882Z",
     "shell.execute_reply": "2022-06-03T20:50:27.501941Z"
    },
    "jupyter": {
     "source_hidden": true
    },
    "papermill": {
     "duration": 0.021912,
     "end_time": "2022-06-03T20:50:27.505293",
     "exception": false,
     "start_time": "2022-06-03T20:50:27.483381",
     "status": "completed"
    },
    "tags": [
     "remove_input"
    ]
   },
   "outputs": [],
   "source": [
    "from calitp.tables import tbl\n",
    "from siuba import *"
   ]
  },
  {
   "cell_type": "code",
   "execution_count": 3,
   "id": "8af2a0c1-f3da-408d-9bea-11d9fbf8695d",
   "metadata": {
    "execution": {
     "iopub.execute_input": "2022-06-03T20:50:27.542200Z",
     "iopub.status.busy": "2022-06-03T20:50:27.540896Z",
     "iopub.status.idle": "2022-06-03T20:50:27.545467Z",
     "shell.execute_reply": "2022-06-03T20:50:27.544960Z"
    },
    "jupyter": {
     "source_hidden": true
    },
    "papermill": {
     "duration": 0.02884,
     "end_time": "2022-06-03T20:50:27.547220",
     "exception": false,
     "start_time": "2022-06-03T20:50:27.518380",
     "status": "completed"
    },
    "tags": [
     "parameters",
     "remove_input"
    ]
   },
   "outputs": [],
   "source": [
    "# parameters cell\n",
    "itp_id = 182"
   ]
  },
  {
   "cell_type": "code",
   "execution_count": 4,
   "id": "cdfcde6e",
   "metadata": {
    "execution": {
     "iopub.execute_input": "2022-06-03T20:50:27.575479Z",
     "iopub.status.busy": "2022-06-03T20:50:27.574578Z",
     "iopub.status.idle": "2022-06-03T20:50:27.578983Z",
     "shell.execute_reply": "2022-06-03T20:50:27.578452Z"
    },
    "jupyter": {
     "source_hidden": true
    },
    "papermill": {
     "duration": 0.020432,
     "end_time": "2022-06-03T20:50:27.580772",
     "exception": false,
     "start_time": "2022-06-03T20:50:27.560340",
     "status": "completed"
    },
    "tags": [
     "injected-parameters",
     "remove_input"
    ]
   },
   "outputs": [],
   "source": [
    "# Parameters\n",
    "district = \"07 - Los Angeles\"\n",
    "itp_id = 380\n"
   ]
  },
  {
   "cell_type": "code",
   "execution_count": 5,
   "id": "9582aaf4-79ff-412a-b248-8d8d693ebd4f",
   "metadata": {
    "execution": {
     "iopub.execute_input": "2022-06-03T20:50:27.609652Z",
     "iopub.status.busy": "2022-06-03T20:50:27.608741Z",
     "iopub.status.idle": "2022-06-03T20:50:28.902921Z",
     "shell.execute_reply": "2022-06-03T20:50:28.901809Z"
    },
    "jupyter": {
     "source_hidden": true
    },
    "papermill": {
     "duration": 1.31173,
     "end_time": "2022-06-03T20:50:28.905647",
     "exception": false,
     "start_time": "2022-06-03T20:50:27.593917",
     "status": "completed"
    },
    "tags": [
     "remove_input"
    ]
   },
   "outputs": [],
   "source": [
    "df = catalog.competitive_route_variability.read()\n",
    "\n",
    "df = (df[(df.calitp_itp_id == itp_id) & \n",
    "         (df.route_group.notna())]\n",
    "      .rename(columns = {\"route_name_used\": \"route_name\"})\n",
    "      .reset_index(drop=True)\n",
    "     )\n",
    "\n",
    "\n",
    "if itp_id == 182:\n",
    "    df = df.assign(\n",
    "        route_id = df.route_id.str.replace('-13153', '')\n",
    "    )\n",
    "\n",
    "# Use route_short_name instead\n",
    "# But where route_short_name is missing, use route_id\n",
    "df = df.assign(\n",
    "    route_id2 = df.apply(lambda x: x.route_short_name if x.route_short_name is not None\n",
    "                        else x.route_id, axis=1),\n",
    ")"
   ]
  },
  {
   "cell_type": "code",
   "execution_count": 6,
   "id": "33ac4b06-f647-4dce-a625-8f2c1b37cc60",
   "metadata": {
    "execution": {
     "iopub.execute_input": "2022-06-03T20:50:28.934556Z",
     "iopub.status.busy": "2022-06-03T20:50:28.933762Z",
     "iopub.status.idle": "2022-06-03T20:50:28.946408Z",
     "shell.execute_reply": "2022-06-03T20:50:28.945419Z"
    },
    "jupyter": {
     "source_hidden": true
    },
    "papermill": {
     "duration": 0.029747,
     "end_time": "2022-06-03T20:50:28.948726",
     "exception": false,
     "start_time": "2022-06-03T20:50:28.918979",
     "status": "completed"
    },
    "tags": [
     "remove_input"
    ]
   },
   "outputs": [],
   "source": [
    "%%capture_parameters\n",
    "operator_name = df.calitp_agency_name.iloc[0]\n",
    "district_number = f\"{df.caltrans_district.iloc[0].split('-')[0].strip()}\"\n",
    "district_name = f\"{df.caltrans_district.iloc[0].split('-')[1].strip().lower().replace(' ', '-')}\"\n",
    "\n",
    "itp_id, operator_name, district_number, district_name"
   ]
  },
  {
   "cell_type": "markdown",
   "id": "65bc6f5c-8348-42ee-b2dd-52057c406852",
   "metadata": {
    "papermill": {
     "duration": 0.01413,
     "end_time": "2022-06-03T20:50:28.976354",
     "exception": false,
     "start_time": "2022-06-03T20:50:28.962224",
     "status": "completed"
    },
    "tags": []
   },
   "source": [
    "# Ventura County Transportation Commission"
   ]
  },
  {
   "cell_type": "code",
   "execution_count": 7,
   "id": "a689c1ab-2c6c-4831-8d64-897f5986f571",
   "metadata": {
    "execution": {
     "iopub.execute_input": "2022-06-03T20:50:29.009317Z",
     "iopub.status.busy": "2022-06-03T20:50:29.008606Z",
     "iopub.status.idle": "2022-06-03T20:50:29.015606Z",
     "shell.execute_reply": "2022-06-03T20:50:29.014836Z"
    },
    "jupyter": {
     "source_hidden": true
    },
    "papermill": {
     "duration": 0.024693,
     "end_time": "2022-06-03T20:50:29.017422",
     "exception": false,
     "start_time": "2022-06-03T20:50:28.992729",
     "status": "completed"
    },
    "tags": [
     "remove_input"
    ]
   },
   "outputs": [
    {
     "data": {
      "text/html": [
       "<h1>Competitive & Parallel Routes</h1>"
      ],
      "text/plain": [
       "<IPython.core.display.HTML object>"
      ]
     },
     "metadata": {},
     "output_type": "display_data"
    }
   ],
   "source": [
    "display(HTML(\"<h1>Competitive & Parallel Routes</h1>\")) "
   ]
  },
  {
   "cell_type": "code",
   "execution_count": 8,
   "id": "2cb4d8d5-4760-40e4-85b1-cb833d8bb648",
   "metadata": {
    "execution": {
     "iopub.execute_input": "2022-06-03T20:50:29.057383Z",
     "iopub.status.busy": "2022-06-03T20:50:29.057053Z",
     "iopub.status.idle": "2022-06-03T20:50:40.161783Z",
     "shell.execute_reply": "2022-06-03T20:50:40.160728Z"
    },
    "jupyter": {
     "source_hidden": true
    },
    "papermill": {
     "duration": 11.132576,
     "end_time": "2022-06-03T20:50:40.164319",
     "exception": false,
     "start_time": "2022-06-03T20:50:29.031743",
     "status": "completed"
    },
    "tags": [
     "remove_input"
    ]
   },
   "outputs": [],
   "source": [
    "# Grab parameters for narrative text - clean up formatting here \n",
    "district = df.caltrans_district.iloc[0]\n",
    "formatted_date = pd.to_datetime(parallel_corridors_utils.SELECTED_DATE).strftime('%m-%d-%Y')\n",
    "\n",
    "PCT_COMPETITIVE_THRESHOLD = parallel_corridors_utils.PCT_COMPETITIVE_THRESHOLD\n",
    "PCT_TRIPS_BELOW_CUTOFF = parallel_corridors_utils.PCT_TRIPS_BELOW_CUTOFF\n",
    "\n",
    "stats = parallel_corridors_utils.operator_parallel_competitive_stats(\n",
    "    itp_id, PCT_COMPETITIVE_THRESHOLD, PCT_TRIPS_BELOW_CUTOFF)\n",
    "\n",
    "pct_parallel = round(stats['parallel_routes'] / stats['num_routes'] * 100, 1 )\n",
    "pct_competitive =  round(stats['competitive_routes'] / stats['num_routes'] * 100, 1 )\n",
    "pct_viable =  round(stats['viable_competitive_routes'] / stats['num_routes'] * 100, 1 )"
   ]
  },
  {
   "cell_type": "code",
   "execution_count": 9,
   "id": "8bf30c8f-6aa5-47bb-82ae-a906732e81fd",
   "metadata": {
    "execution": {
     "iopub.execute_input": "2022-06-03T20:50:40.195634Z",
     "iopub.status.busy": "2022-06-03T20:50:40.195316Z",
     "iopub.status.idle": "2022-06-03T20:50:40.231060Z",
     "shell.execute_reply": "2022-06-03T20:50:40.230128Z"
    },
    "jupyter": {
     "source_hidden": true
    },
    "papermill": {
     "duration": 0.05418,
     "end_time": "2022-06-03T20:50:40.233348",
     "exception": false,
     "start_time": "2022-06-03T20:50:40.179168",
     "status": "completed"
    },
    "tags": [
     "remove_input"
    ]
   },
   "outputs": [],
   "source": [
    "# Display a table of route-level stats for each route_group\n",
    "# Displaying route_name makes chart too crowded\n",
    "\n",
    "# Get route stats (for entire df)\n",
    "route_stats = parallel_corridors_utils.competitive_route_level_stats(df)\n",
    "    \n",
    "def style_route_stats(df, top15_routes):\n",
    "    df = df[df.route_id.isin(top15_routes)]\n",
    "    \n",
    "    # Rename columns for display\n",
    "    rename_cols = {\n",
    "        \"route_id2\": \"Route ID\",\n",
    "        \"route_name\": \"Route Name\",\n",
    "        \"route_group\": \"Route Group\",\n",
    "        \"num_trips\": \"# trips\",\n",
    "        \"daily_avg_freq\": \"Daily Avg Freq (trips per hr)\",\n",
    "        \"pm_peak_freq\": \"PM Peak Avg Freq (trips per hr)\",\n",
    "        \"percentiles\": \"25th, 50th, 75th ptile (hrs)\",\n",
    "    }\n",
    "    \n",
    "    # Style it\n",
    "    drop_cols = [\n",
    "        \"calitp_itp_id\", \"below_cutoff\", \"route_group\", \n",
    "        \"pct_trips_competitive\", \"pct_below_cutoff\",\n",
    "        \"p25\", \"p50\", \"p75\",\n",
    "    ]\n",
    "    \n",
    "    # Change alignment for some columns\n",
    "    # https://stackoverflow.com/questions/59453091/left-align-the-first-column-and-center-align-the-other-columns-in-a-pandas-table\n",
    "    df_style = (df.sort_values(\n",
    "        [\"pct_trips_competitive\", \"below_cutoff\", \n",
    "        \"pct_below_cutoff\", \"route_id\"], \n",
    "        ascending=[False, False, False, True])\n",
    "           .drop(columns = drop_cols)\n",
    "           .rename(columns = rename_cols)\n",
    "           .style.format(\n",
    "               subset=['Daily Avg Freq (trips per hr)', \n",
    "                       'PM Peak Avg Freq (trips per hr)'], \n",
    "               **{'formatter': '{:,.3}'})\n",
    "                .set_properties(subset=['Route ID', 'Route Name'], \n",
    "                                **{'text-align': 'left'})\n",
    "                .set_properties(subset=['# trips', 'Daily Avg Freq (trips per hr)', \n",
    "                                       'PM Peak Avg Freq (trips per hr)'], \n",
    "                               **{'text-align': 'center'})\n",
    "                .set_table_styles([dict(selector='th', \n",
    "                                        props=[('text-align', 'center')])\n",
    "                                        ])\n",
    "           .hide(axis=\"index\")\n",
    "           .to_html()\n",
    "          )\n",
    "    \n",
    "    display(HTML(\"<h4>Route Stats</h4>\"))\n",
    "    display(HTML(df_style))"
   ]
  },
  {
   "cell_type": "markdown",
   "id": "ab667928-5274-4490-82d9-4c39293209a4",
   "metadata": {
    "papermill": {
     "duration": 0.015266,
     "end_time": "2022-06-03T20:50:40.268597",
     "exception": false,
     "start_time": "2022-06-03T20:50:40.253331",
     "status": "completed"
    },
    "tags": []
   },
   "source": [
    "## Quick Stats"
   ]
  },
  {
   "cell_type": "code",
   "execution_count": 10,
   "id": "0416509d-dc62-4165-b62e-64f8b26e8b8e",
   "metadata": {
    "execution": {
     "iopub.execute_input": "2022-06-03T20:50:40.300811Z",
     "iopub.status.busy": "2022-06-03T20:50:40.300531Z",
     "iopub.status.idle": "2022-06-03T20:50:40.306745Z",
     "shell.execute_reply": "2022-06-03T20:50:40.305908Z"
    },
    "jupyter": {
     "source_hidden": true
    },
    "papermill": {
     "duration": 0.025851,
     "end_time": "2022-06-03T20:50:40.309374",
     "exception": false,
     "start_time": "2022-06-03T20:50:40.283523",
     "status": "completed"
    },
    "tags": [
     "remove_input"
    ]
   },
   "outputs": [
    {
     "data": {
      "text/markdown": [
       "**Bus routes in service: 28**<br>**Parallel routes** to State Highway Network (SHN): **28 routes (100.0%)**<br>**Competitive routes** against car travel (within 2x car travel time): **8 routes (28.6%)**<br>**Viable competitive routes** against car travel (within 2x car travel time and within 20, 30, or 40 min cut-off): **4 routes (14.3%)**"
      ],
      "text/plain": [
       "<IPython.core.display.Markdown object>"
      ]
     },
     "metadata": {},
     "output_type": "display_data"
    }
   ],
   "source": [
    "display(\n",
    "    Markdown(\n",
    "        f\"**Bus routes in service: {stats['num_routes']}**\"\n",
    "        \"<br>**Parallel routes** to State Highway Network (SHN): \"\n",
    "        f\"**{stats['parallel_routes']} routes ({pct_parallel}%)**\"\n",
    "        \"<br>**Competitive routes** against car travel (within 2x car travel time): \"\n",
    "        f\"**{stats['competitive_routes']} routes ({pct_competitive}%)**\"\n",
    "        \"<br>**Viable competitive routes** against car travel \"\n",
    "        \"(within 2x car travel time and within 20, 30, or 40 min cut-off): \"\n",
    "        f\"**{stats['viable_competitive_routes']} routes ({pct_viable}%)**\"\n",
    "    )\n",
    ")"
   ]
  },
  {
   "cell_type": "code",
   "execution_count": 11,
   "id": "f9d6ab58-f0ee-460c-b6de-657490e1f386",
   "metadata": {
    "execution": {
     "iopub.execute_input": "2022-06-03T20:50:40.346961Z",
     "iopub.status.busy": "2022-06-03T20:50:40.345873Z",
     "iopub.status.idle": "2022-06-03T20:50:40.355212Z",
     "shell.execute_reply": "2022-06-03T20:50:40.353739Z"
    },
    "jupyter": {
     "source_hidden": true
    },
    "papermill": {
     "duration": 0.033569,
     "end_time": "2022-06-03T20:50:40.357527",
     "exception": false,
     "start_time": "2022-06-03T20:50:40.323958",
     "status": "completed"
    },
    "tags": [
     "remove_input"
    ]
   },
   "outputs": [],
   "source": [
    "def set_yaxis_range(df, y_col):\n",
    "    Y_MIN = df[y_col].min()\n",
    "    Y_MAX = df[y_col].max()\n",
    "    \n",
    "    return Y_MIN, Y_MAX\n",
    "\n",
    "# Rather than set it according to the operator, which can vary,\n",
    "# just use set thresholds for each group\n",
    "def top15_routes(df, route_group):\n",
    "    # grab top 15 routes where majority of trips are below that cut-off \n",
    "    # but show 15 max, otherwise, show less, since these won't be as interesting to operators\n",
    "    df2 = (df[(df.route_group==route_group) &\n",
    "              (df.pct_below_cutoff >= PCT_TRIPS_BELOW_CUTOFF)]\n",
    "           .sort_values([\"calitp_itp_id\", \"below_cutoff\", \n",
    "                         \"pct_below_cutoff\", \"route_id\"],\n",
    "                        ascending = [True, False, False, True]\n",
    "                       )\n",
    "           .drop_duplicates(subset=[\"calitp_itp_id\", \"route_id\"])\n",
    "          ).head(15)\n",
    "    \n",
    "    if len(df2) > 1:\n",
    "        return list(df2.route_id)"
   ]
  },
  {
   "cell_type": "code",
   "execution_count": 12,
   "id": "cf36d559-3349-4144-8086-8ac9ce937a5a",
   "metadata": {
    "execution": {
     "iopub.execute_input": "2022-06-03T20:50:40.390706Z",
     "iopub.status.busy": "2022-06-03T20:50:40.390404Z",
     "iopub.status.idle": "2022-06-03T20:50:40.395684Z",
     "shell.execute_reply": "2022-06-03T20:50:40.394770Z"
    },
    "jupyter": {
     "source_hidden": true
    },
    "papermill": {
     "duration": 0.024972,
     "end_time": "2022-06-03T20:50:40.397656",
     "exception": false,
     "start_time": "2022-06-03T20:50:40.372684",
     "status": "completed"
    },
    "tags": [
     "remove_input"
    ]
   },
   "outputs": [],
   "source": [
    "def caption_with_cutoff(cutoff):\n",
    "    sentence = (\n",
    "        f\"<br>These are routes that have **{int(PCT_TRIPS_BELOW_CUTOFF*100)}% \"\n",
    "        \"of their trips take no more than an \"\n",
    "        f\"additional {cutoff} min** compared to a car \"\n",
    "        \"(up to 15 routes) are shown.\"\n",
    "        \"<br>Within each route group, routes are sorted in descending order \"\n",
    "        \"by % competitive trips and # trips below the additional time cut-off.\"\n",
    "    )\n",
    "    return sentence\n",
    "\n",
    "CAPTIONS_DICT = {\n",
    "    \"short\": caption_with_cutoff(diff_cutoffs['short']),\n",
    "    \"medium\": caption_with_cutoff(diff_cutoffs['medium']),\n",
    "    \"long\": caption_with_cutoff(diff_cutoffs['long']),\n",
    "}"
   ]
  },
  {
   "cell_type": "code",
   "execution_count": 13,
   "id": "e4306d58-6944-47e9-afef-5d5b524c751f",
   "metadata": {
    "execution": {
     "iopub.execute_input": "2022-06-03T20:50:40.451023Z",
     "iopub.status.busy": "2022-06-03T20:50:40.450668Z",
     "iopub.status.idle": "2022-06-03T20:50:40.469432Z",
     "shell.execute_reply": "2022-06-03T20:50:40.468534Z"
    },
    "jupyter": {
     "source_hidden": true
    },
    "papermill": {
     "duration": 0.063632,
     "end_time": "2022-06-03T20:50:40.479040",
     "exception": false,
     "start_time": "2022-06-03T20:50:40.415408",
     "status": "completed"
    },
    "tags": [
     "remove_input"
    ]
   },
   "outputs": [],
   "source": [
    "def setup_charts(df, PCT_COMPETITIVE_THRESHOLD, route_group):\n",
    "    # Set up df for charting (cut-off at some threshold to show most competitive routes)\n",
    "    plot_me = (df[df.pct_trips_competitive > PCT_COMPETITIVE_THRESHOLD]\n",
    "           .drop(columns = \"geometry\")\n",
    "    )\n",
    "    \n",
    "    # Set y-ranges to be the same across route_groups, \n",
    "    # otherwise charts fluctuate too much, even within operator\n",
    "    y_col1 = \"bus_multiplier\"\n",
    "    Y_MIN1, Y_MAX1 = set_yaxis_range(plot_me, y_col1)\n",
    "\n",
    "    y_col2 = \"bus_difference\"\n",
    "    Y_MIN2, Y_MAX2 = set_yaxis_range(plot_me, y_col2)\n",
    "    \n",
    "    # Grab the routes to plot\n",
    "    subset_routes = top15_routes(plot_me, route_group)\n",
    "        \n",
    "    # Display charts\n",
    "    multiplier_chart = parallel_corridors_utils.make_stripplot(\n",
    "        plot_me[plot_me.route_id.isin(subset_routes)], \n",
    "        y_col1, Y_MIN = Y_MIN1, Y_MAX = Y_MAX1\n",
    "    )\n",
    "    \n",
    "    difference_chart = parallel_corridors_utils.make_stripplot(\n",
    "        plot_me[plot_me.route_id.isin(subset_routes)], \n",
    "        y_col2, Y_MIN = Y_MIN2, Y_MAX = Y_MAX2\n",
    "    )\n",
    "    \n",
    "    return subset_routes, multiplier_chart, difference_chart            "
   ]
  },
  {
   "cell_type": "code",
   "execution_count": 14,
   "id": "33a710e8-504c-4942-aa75-ff69f216956e",
   "metadata": {
    "execution": {
     "iopub.execute_input": "2022-06-03T20:50:40.521926Z",
     "iopub.status.busy": "2022-06-03T20:50:40.521651Z",
     "iopub.status.idle": "2022-06-03T20:50:40.526886Z",
     "shell.execute_reply": "2022-06-03T20:50:40.525997Z"
    },
    "jupyter": {
     "source_hidden": true
    },
    "papermill": {
     "duration": 0.040495,
     "end_time": "2022-06-03T20:50:40.543283",
     "exception": false,
     "start_time": "2022-06-03T20:50:40.502788",
     "status": "completed"
    },
    "tags": [
     "remove_input"
    ]
   },
   "outputs": [],
   "source": [
    "def display_charts_for_route_group(df, route_group):    \n",
    "    subset_routes, mult, diff  = setup_charts(df, PCT_COMPETITIVE_THRESHOLD, route_group)\n",
    "\n",
    "    if len(subset_routes) > 1:\n",
    "        display(Markdown(f\"{CAPTIONS_DICT[route_group]}\"))\n",
    "\n",
    "        display(mult)\n",
    "        display(diff)\n",
    "        \n",
    "        # Display route stats for just plotted routes\n",
    "        style_route_stats(route_stats, subset_routes)"
   ]
  },
  {
   "cell_type": "code",
   "execution_count": 15,
   "id": "33954352-1d8b-4d9e-9eba-3ff7e3ad4bf1",
   "metadata": {
    "execution": {
     "iopub.execute_input": "2022-06-03T20:50:40.577120Z",
     "iopub.status.busy": "2022-06-03T20:50:40.576583Z",
     "iopub.status.idle": "2022-06-03T20:50:40.581284Z",
     "shell.execute_reply": "2022-06-03T20:50:40.580564Z"
    },
    "jupyter": {
     "source_hidden": true
    },
    "papermill": {
     "duration": 0.023121,
     "end_time": "2022-06-03T20:50:40.583417",
     "exception": false,
     "start_time": "2022-06-03T20:50:40.560296",
     "status": "completed"
    },
    "tags": [
     "remove_input"
    ]
   },
   "outputs": [],
   "source": [
    "# Allow for possibility that operator doesn't have routes that fall into certain route_groups\n",
    "# But, jupyterbook will not like markdown with f-string\n",
    "# separate out route_group and put in each cell, and use try/except + if to display...\n",
    "# but all 3 route groups must be displayed. \n",
    "# just add sentence about why no routes were returned at the end\n",
    "# Change to fewer than 2 routes, instead of no routes, because we don't want to show just 1 route\n",
    "no_display_statement = \"Fewer than 2 routes meet this criteria.\""
   ]
  },
  {
   "cell_type": "markdown",
   "id": "525f9b38-072b-46d1-96a8-1aa4b038357c",
   "metadata": {
    "papermill": {
     "duration": 0.016359,
     "end_time": "2022-06-03T20:50:40.615162",
     "exception": false,
     "start_time": "2022-06-03T20:50:40.598803",
     "status": "completed"
    },
    "tags": []
   },
   "source": [
    "## Viable Competitive Routes\n",
    "### Short Routes (< 1 hr)"
   ]
  },
  {
   "cell_type": "code",
   "execution_count": 16,
   "id": "57f7084c-2cf7-45c6-ba08-1609e0bd6ca5",
   "metadata": {
    "execution": {
     "iopub.execute_input": "2022-06-03T20:50:40.655168Z",
     "iopub.status.busy": "2022-06-03T20:50:40.654490Z",
     "iopub.status.idle": "2022-06-03T20:50:41.063153Z",
     "shell.execute_reply": "2022-06-03T20:50:41.061897Z"
    },
    "jupyter": {
     "source_hidden": true
    },
    "papermill": {
     "duration": 0.433027,
     "end_time": "2022-06-03T20:50:41.065215",
     "exception": false,
     "start_time": "2022-06-03T20:50:40.632188",
     "status": "completed"
    },
    "tags": [
     "remove_input"
    ]
   },
   "outputs": [
    {
     "data": {
      "text/markdown": [
       "<br>These are routes that have **100% of their trips take no more than an additional 20 min** compared to a car (up to 15 routes) are shown.<br>Within each route group, routes are sorted in descending order by % competitive trips and # trips below the additional time cut-off."
      ],
      "text/plain": [
       "<IPython.core.display.Markdown object>"
      ]
     },
     "metadata": {},
     "output_type": "display_data"
    },
    {
     "data": {
      "text/html": [
       "\n",
       "<div id=\"altair-viz-cae68b35000e44feb83a98c935f477b4\"></div>\n",
       "<script type=\"text/javascript\">\n",
       "  var VEGA_DEBUG = (typeof VEGA_DEBUG == \"undefined\") ? {} : VEGA_DEBUG;\n",
       "  (function(spec, embedOpt){\n",
       "    let outputDiv = document.currentScript.previousElementSibling;\n",
       "    if (outputDiv.id !== \"altair-viz-cae68b35000e44feb83a98c935f477b4\") {\n",
       "      outputDiv = document.getElementById(\"altair-viz-cae68b35000e44feb83a98c935f477b4\");\n",
       "    }\n",
       "    const paths = {\n",
       "      \"vega\": \"https://cdn.jsdelivr.net/npm//vega@5?noext\",\n",
       "      \"vega-lib\": \"https://cdn.jsdelivr.net/npm//vega-lib?noext\",\n",
       "      \"vega-lite\": \"https://cdn.jsdelivr.net/npm//vega-lite@4.17.0?noext\",\n",
       "      \"vega-embed\": \"https://cdn.jsdelivr.net/npm//vega-embed@6?noext\",\n",
       "    };\n",
       "\n",
       "    function maybeLoadScript(lib, version) {\n",
       "      var key = `${lib.replace(\"-\", \"\")}_version`;\n",
       "      return (VEGA_DEBUG[key] == version) ?\n",
       "        Promise.resolve(paths[lib]) :\n",
       "        new Promise(function(resolve, reject) {\n",
       "          var s = document.createElement('script');\n",
       "          document.getElementsByTagName(\"head\")[0].appendChild(s);\n",
       "          s.async = true;\n",
       "          s.onload = () => {\n",
       "            VEGA_DEBUG[key] = version;\n",
       "            return resolve(paths[lib]);\n",
       "          };\n",
       "          s.onerror = () => reject(`Error loading script: ${paths[lib]}`);\n",
       "          s.src = paths[lib];\n",
       "        });\n",
       "    }\n",
       "\n",
       "    function showError(err) {\n",
       "      outputDiv.innerHTML = `<div class=\"error\" style=\"color:red;\">${err}</div>`;\n",
       "      throw err;\n",
       "    }\n",
       "\n",
       "    function displayChart(vegaEmbed) {\n",
       "      vegaEmbed(outputDiv, spec, embedOpt)\n",
       "        .catch(err => showError(`Javascript Error: ${err.message}<br>This usually means there's a typo in your chart specification. See the javascript console for the full traceback.`));\n",
       "    }\n",
       "\n",
       "    if(typeof define === \"function\" && define.amd) {\n",
       "      requirejs.config({paths});\n",
       "      require([\"vega-embed\"], displayChart, err => showError(`Error loading script: ${err.message}`));\n",
       "    } else {\n",
       "      maybeLoadScript(\"vega\", \"5\")\n",
       "        .then(() => maybeLoadScript(\"vega-lite\", \"4.17.0\"))\n",
       "        .then(() => maybeLoadScript(\"vega-embed\", \"6\"))\n",
       "        .catch(showError)\n",
       "        .then(() => displayChart(vegaEmbed));\n",
       "    }\n",
       "  })({\"config\": {\"view\": {\"continuousWidth\": 400, \"continuousHeight\": 300, \"stroke\": null}, \"facet\": {\"spacing\": 0}}, \"data\": {\"name\": \"data-df263596eee47fcc5922ff23ca3faeb3\"}, \"facet\": {\"column\": {\"field\": \"route_id2\", \"sort\": [\"11140\", \"11139\", \"B\", \"A\"], \"title\": \"Route ID\", \"type\": \"nominal\"}}, \"spec\": {\"layer\": [{\"mark\": \"rule\", \"encoding\": {\"color\": {\"value\": \"black\"}, \"y\": {\"field\": \"cutoff\", \"type\": \"quantitative\"}}, \"selection\": {\"selector001\": {\"type\": \"interval\", \"bind\": \"scales\", \"encodings\": [\"x\", \"y\"]}}}, {\"mark\": {\"type\": \"point\", \"opacity\": 0.65, \"size\": 20, \"strokeWidth\": 1.1}, \"encoding\": {\"color\": {\"field\": \"time_of_day\", \"scale\": {\"range\": [\"#136C97\", \"#E16B26\", \"#F6BF16\", \"#00896B\", \"#7790A3\", \"#5B559C\"]}, \"sort\": [\"AM Peak\", \"Midday\", \"PM Peak\", \"Owl Service\"], \"title\": \"Time of Day\", \"type\": \"nominal\"}, \"tooltip\": [{\"field\": \"route_id2\", \"title\": \"route_id\", \"type\": \"nominal\"}, {\"field\": \"route_name\", \"type\": \"nominal\"}, {\"field\": \"trip_id\", \"type\": \"nominal\"}, {\"field\": \"service_hours\", \"type\": \"quantitative\"}, {\"field\": \"car_duration_hours\", \"type\": \"quantitative\"}, {\"field\": \"bus_multiplier\", \"type\": \"quantitative\"}, {\"field\": \"bus_difference\", \"type\": \"quantitative\"}, {\"field\": \"num_trips\", \"type\": \"quantitative\"}, {\"field\": \"num_competitive\", \"type\": \"quantitative\"}, {\"field\": \"pct_trips_competitive\", \"type\": \"quantitative\"}, {\"field\": \"pct_below_cutoff\", \"type\": \"quantitative\"}, {\"field\": \"p25\", \"type\": \"quantitative\"}, {\"field\": \"p50\", \"type\": \"quantitative\"}, {\"field\": \"p75\", \"type\": \"quantitative\"}], \"x\": {\"axis\": {\"grid\": false, \"labels\": false, \"ticks\": true, \"values\": [0]}, \"field\": \"jitter\", \"scale\": {}, \"title\": null, \"type\": \"quantitative\"}, \"y\": {\"field\": \"bus_multiplier\", \"scale\": {\"domain\": [0, 3.0]}, \"title\": \"Ratio of Bus to Car Travel Time\", \"type\": \"quantitative\"}}, \"transform\": [{\"calculate\": \"sqrt(-2*log(random()))*cos(2*PI*random())\", \"as\": \"jitter\"}], \"width\": 50}, {\"layer\": [{\"mark\": {\"type\": \"point\", \"opacity\": 0.6, \"size\": 20, \"strokeWidth\": 1.3}, \"encoding\": {\"color\": {\"value\": \"#323434\"}, \"y\": {\"field\": \"bus_multiplier\", \"type\": \"quantitative\"}}, \"transform\": [{\"filter\": \"(datum.p50_trip === 1)\"}]}, {\"mark\": {\"type\": \"text\", \"align\": \"center\", \"baseline\": \"middle\"}, \"encoding\": {\"color\": {\"value\": \"black\"}, \"text\": {\"field\": \"pct_trips_competitive\", \"format\": \".0%\", \"type\": \"quantitative\"}, \"tooltip\": [{\"field\": \"route_id2\", \"title\": \"route_id\", \"type\": \"nominal\"}, {\"field\": \"route_name\", \"type\": \"nominal\"}, {\"field\": \"trip_id\", \"type\": \"nominal\"}, {\"field\": \"service_hours\", \"type\": \"quantitative\"}, {\"field\": \"car_duration_hours\", \"type\": \"quantitative\"}, {\"field\": \"bus_multiplier\", \"type\": \"quantitative\"}, {\"field\": \"bus_difference\", \"type\": \"quantitative\"}, {\"field\": \"num_trips\", \"type\": \"quantitative\"}, {\"field\": \"num_competitive\", \"type\": \"quantitative\"}, {\"field\": \"pct_trips_competitive\", \"type\": \"quantitative\"}, {\"field\": \"pct_below_cutoff\", \"type\": \"quantitative\"}, {\"field\": \"p25\", \"type\": \"quantitative\"}, {\"field\": \"p50\", \"type\": \"quantitative\"}, {\"field\": \"p75\", \"type\": \"quantitative\"}], \"x\": {\"value\": 30}, \"y\": {\"value\": 15}}, \"transform\": [{\"calculate\": \"sqrt(-2*log(random()))*cos(2*PI*random())\", \"as\": \"jitter\"}, {\"filter\": \"(datum.fastest_trip === 1)\"}]}]}]}, \"resolve\": {\"scale\": {\"y\": \"shared\"}}, \"title\": \"Ratio of Bus to Car Travel Time\", \"$schema\": \"https://vega.github.io/schema/vega-lite/v4.17.0.json\", \"datasets\": {\"data-df263596eee47fcc5922ff23ca3faeb3\": [{\"calitp_itp_id\": 380, \"trip_key\": 2872704287986575954, \"trip_id\": \"t_297950_b_30295_tn_0\", \"shape_id\": \"p_178758\", \"route_id\": \"11102\", \"service_hours\": 0.5, \"trip_first_departure_ts\": 51900, \"trip_last_arrival_ts\": 53700, \"departure_hour\": 14, \"time_of_day\": \"Midday\", \"p25\": 0.5, \"p50\": 0.5, \"p75\": 0.5, \"p50_trip\": 1, \"fastest_trip\": 1, \"car_duration_hours\": 0.38, \"competitive_route\": 1, \"bus_multiplier\": 1.32, \"bus_difference\": 7.2, \"num_trips\": 3, \"num_competitive\": 3, \"pct_trips_competitive\": 1.0, \"bus_difference_spread\": 0.0, \"route_group\": \"short\", \"max_trip_hrs\": 0.5, \"max_trip_route_group\": 0.5, \"below_cutoff\": 3, \"pct_below_cutoff\": 1.0, \"calitp_agency_name\": \"Ventura County Transportation Commission\", \"caltrans_district\": \"07 - Los Angeles\", \"route_name\": \"Santa Paula\", \"route_short_name\": \"A\", \"route_id2\": \"A\", \"cutoff2\": 20, \"cutoff\": 2}, {\"calitp_itp_id\": 380, \"trip_key\": -1794597154988842769, \"trip_id\": \"t_297949_b_30295_tn_0\", \"shape_id\": \"p_178758\", \"route_id\": \"11102\", \"service_hours\": 0.5, \"trip_first_departure_ts\": 31140, \"trip_last_arrival_ts\": 32940, \"departure_hour\": 8, \"time_of_day\": \"AM Peak\", \"p25\": 0.5, \"p50\": 0.5, \"p75\": 0.5, \"p50_trip\": 1, \"fastest_trip\": 0, \"car_duration_hours\": 0.38, \"competitive_route\": 1, \"bus_multiplier\": 1.32, \"bus_difference\": 7.2, \"num_trips\": 3, \"num_competitive\": 3, \"pct_trips_competitive\": 1.0, \"bus_difference_spread\": 0.0, \"route_group\": \"short\", \"max_trip_hrs\": 0.5, \"max_trip_route_group\": 0.5, \"below_cutoff\": 3, \"pct_below_cutoff\": 1.0, \"calitp_agency_name\": \"Ventura County Transportation Commission\", \"caltrans_district\": \"07 - Los Angeles\", \"route_name\": \"Santa Paula\", \"route_short_name\": \"A\", \"route_id2\": \"A\", \"cutoff2\": 20, \"cutoff\": 2}, {\"calitp_itp_id\": 380, \"trip_key\": 1704114464114318887, \"trip_id\": \"t_297948_b_30295_tn_0\", \"shape_id\": \"p_178758\", \"route_id\": \"11102\", \"service_hours\": 0.5, \"trip_first_departure_ts\": 28200, \"trip_last_arrival_ts\": 30000, \"departure_hour\": 7, \"time_of_day\": \"AM Peak\", \"p25\": 0.5, \"p50\": 0.5, \"p75\": 0.5, \"p50_trip\": 1, \"fastest_trip\": 0, \"car_duration_hours\": 0.38, \"competitive_route\": 1, \"bus_multiplier\": 1.32, \"bus_difference\": 7.2, \"num_trips\": 3, \"num_competitive\": 3, \"pct_trips_competitive\": 1.0, \"bus_difference_spread\": 0.0, \"route_group\": \"short\", \"max_trip_hrs\": 0.5, \"max_trip_route_group\": 0.5, \"below_cutoff\": 3, \"pct_below_cutoff\": 1.0, \"calitp_agency_name\": \"Ventura County Transportation Commission\", \"caltrans_district\": \"07 - Los Angeles\", \"route_name\": \"Santa Paula\", \"route_short_name\": \"A\", \"route_id2\": \"A\", \"cutoff2\": 20, \"cutoff\": 2}, {\"calitp_itp_id\": 380, \"trip_key\": 8040552062176262404, \"trip_id\": \"t_298076_b_30295_tn_0\", \"shape_id\": \"p_178760\", \"route_id\": \"11103\", \"service_hours\": 0.5, \"trip_first_departure_ts\": 25680, \"trip_last_arrival_ts\": 27480, \"departure_hour\": 7, \"time_of_day\": \"AM Peak\", \"p25\": 0.5, \"p50\": 0.51, \"p75\": 0.5275000000000001, \"p50_trip\": 1, \"fastest_trip\": 1, \"car_duration_hours\": 0.32, \"competitive_route\": 1, \"bus_multiplier\": 1.56, \"bus_difference\": 10.8, \"num_trips\": 4, \"num_competitive\": 4, \"pct_trips_competitive\": 1.0, \"bus_difference_spread\": 3.0, \"route_group\": \"short\", \"max_trip_hrs\": 0.55, \"max_trip_route_group\": 0.55, \"below_cutoff\": 4, \"pct_below_cutoff\": 1.0, \"calitp_agency_name\": \"Ventura County Transportation Commission\", \"caltrans_district\": \"07 - Los Angeles\", \"route_name\": \"Santa Paula\", \"route_short_name\": \"B\", \"route_id2\": \"B\", \"cutoff2\": 20, \"cutoff\": 2}, {\"calitp_itp_id\": 380, \"trip_key\": -5467974047879099779, \"trip_id\": \"t_298075_b_30295_tn_0\", \"shape_id\": \"p_178760\", \"route_id\": \"11103\", \"service_hours\": 0.5, \"trip_first_departure_ts\": 23460, \"trip_last_arrival_ts\": 25260, \"departure_hour\": 6, \"time_of_day\": \"Owl Service\", \"p25\": 0.5, \"p50\": 0.51, \"p75\": 0.5275000000000001, \"p50_trip\": 1, \"fastest_trip\": 0, \"car_duration_hours\": 0.32, \"competitive_route\": 1, \"bus_multiplier\": 1.56, \"bus_difference\": 10.8, \"num_trips\": 4, \"num_competitive\": 4, \"pct_trips_competitive\": 1.0, \"bus_difference_spread\": 3.0, \"route_group\": \"short\", \"max_trip_hrs\": 0.55, \"max_trip_route_group\": 0.55, \"below_cutoff\": 4, \"pct_below_cutoff\": 1.0, \"calitp_agency_name\": \"Ventura County Transportation Commission\", \"caltrans_district\": \"07 - Los Angeles\", \"route_name\": \"Santa Paula\", \"route_short_name\": \"B\", \"route_id2\": \"B\", \"cutoff2\": 20, \"cutoff\": 2}, {\"calitp_itp_id\": 380, \"trip_key\": -5901345971159908292, \"trip_id\": \"t_298077_b_30295_tn_0\", \"shape_id\": \"p_178760\", \"route_id\": \"11103\", \"service_hours\": 0.52, \"trip_first_departure_ts\": 33300, \"trip_last_arrival_ts\": 35160, \"departure_hour\": 9, \"time_of_day\": \"AM Peak\", \"p25\": 0.5, \"p50\": 0.51, \"p75\": 0.5275000000000001, \"p50_trip\": 1, \"fastest_trip\": 0, \"car_duration_hours\": 0.32, \"competitive_route\": 1, \"bus_multiplier\": 1.62, \"bus_difference\": 12.0, \"num_trips\": 4, \"num_competitive\": 4, \"pct_trips_competitive\": 1.0, \"bus_difference_spread\": 3.0, \"route_group\": \"short\", \"max_trip_hrs\": 0.55, \"max_trip_route_group\": 0.55, \"below_cutoff\": 4, \"pct_below_cutoff\": 1.0, \"calitp_agency_name\": \"Ventura County Transportation Commission\", \"caltrans_district\": \"07 - Los Angeles\", \"route_name\": \"Santa Paula\", \"route_short_name\": \"B\", \"route_id2\": \"B\", \"cutoff2\": 20, \"cutoff\": 2}, {\"calitp_itp_id\": 380, \"trip_key\": -471785971279718991, \"trip_id\": \"t_298078_b_30295_tn_0\", \"shape_id\": \"p_178760\", \"route_id\": \"11103\", \"service_hours\": 0.55, \"trip_first_departure_ts\": 37140, \"trip_last_arrival_ts\": 39120, \"departure_hour\": 10, \"time_of_day\": \"Midday\", \"p25\": 0.5, \"p50\": 0.51, \"p75\": 0.5275000000000001, \"p50_trip\": 0, \"fastest_trip\": 0, \"car_duration_hours\": 0.32, \"competitive_route\": 1, \"bus_multiplier\": 1.72, \"bus_difference\": 13.8, \"num_trips\": 4, \"num_competitive\": 4, \"pct_trips_competitive\": 1.0, \"bus_difference_spread\": 3.0, \"route_group\": \"short\", \"max_trip_hrs\": 0.55, \"max_trip_route_group\": 0.55, \"below_cutoff\": 4, \"pct_below_cutoff\": 1.0, \"calitp_agency_name\": \"Ventura County Transportation Commission\", \"caltrans_district\": \"07 - Los Angeles\", \"route_name\": \"Santa Paula\", \"route_short_name\": \"B\", \"route_id2\": \"B\", \"cutoff2\": 20, \"cutoff\": 2}, {\"calitp_itp_id\": 380, \"trip_key\": 6047442871500869582, \"trip_id\": \"t_307282_b_30295_tn_0\", \"shape_id\": \"p_178954\", \"route_id\": \"11139\", \"service_hours\": 0.33, \"trip_first_departure_ts\": 28500, \"trip_last_arrival_ts\": 29700, \"departure_hour\": 7, \"time_of_day\": \"AM Peak\", \"p25\": 0.33, \"p50\": 0.37, \"p75\": 0.37, \"p50_trip\": 0, \"fastest_trip\": 0, \"car_duration_hours\": 0.29, \"competitive_route\": 1, \"bus_multiplier\": 1.14, \"bus_difference\": 2.4, \"num_trips\": 11, \"num_competitive\": 11, \"pct_trips_competitive\": 1.0, \"bus_difference_spread\": 2.4, \"route_group\": \"short\", \"max_trip_hrs\": 0.37, \"max_trip_route_group\": 0.37, \"below_cutoff\": 11, \"pct_below_cutoff\": 1.0, \"calitp_agency_name\": \"Ventura County Transportation Commission\", \"caltrans_district\": \"07 - Los Angeles\", \"route_name\": \"Fillmore Loop\", \"route_short_name\": null, \"route_id2\": \"11139\", \"cutoff2\": 20, \"cutoff\": 2}, {\"calitp_itp_id\": 380, \"trip_key\": 7482431734771432811, \"trip_id\": \"t_307278_b_30295_tn_0\", \"shape_id\": \"p_178952\", \"route_id\": \"11139\", \"service_hours\": 0.33, \"trip_first_departure_ts\": 25500, \"trip_last_arrival_ts\": 26700, \"departure_hour\": 7, \"time_of_day\": \"AM Peak\", \"p25\": 0.33, \"p50\": 0.37, \"p75\": 0.37, \"p50_trip\": 0, \"fastest_trip\": 0, \"car_duration_hours\": 0.29, \"competitive_route\": 1, \"bus_multiplier\": 1.14, \"bus_difference\": 2.4, \"num_trips\": 11, \"num_competitive\": 11, \"pct_trips_competitive\": 1.0, \"bus_difference_spread\": 2.4, \"route_group\": \"short\", \"max_trip_hrs\": 0.37, \"max_trip_route_group\": 0.37, \"below_cutoff\": 11, \"pct_below_cutoff\": 1.0, \"calitp_agency_name\": \"Ventura County Transportation Commission\", \"caltrans_district\": \"07 - Los Angeles\", \"route_name\": \"Fillmore Loop\", \"route_short_name\": null, \"route_id2\": \"11139\", \"cutoff2\": 20, \"cutoff\": 2}, {\"calitp_itp_id\": 380, \"trip_key\": -3460051913666472011, \"trip_id\": \"t_307279_b_30295_tn_0\", \"shape_id\": \"p_178952\", \"route_id\": \"11139\", \"service_hours\": 0.33, \"trip_first_departure_ts\": 49200, \"trip_last_arrival_ts\": 50400, \"departure_hour\": 13, \"time_of_day\": \"Midday\", \"p25\": 0.33, \"p50\": 0.37, \"p75\": 0.37, \"p50_trip\": 0, \"fastest_trip\": 0, \"car_duration_hours\": 0.29, \"competitive_route\": 1, \"bus_multiplier\": 1.14, \"bus_difference\": 2.4, \"num_trips\": 11, \"num_competitive\": 11, \"pct_trips_competitive\": 1.0, \"bus_difference_spread\": 2.4, \"route_group\": \"short\", \"max_trip_hrs\": 0.37, \"max_trip_route_group\": 0.37, \"below_cutoff\": 11, \"pct_below_cutoff\": 1.0, \"calitp_agency_name\": \"Ventura County Transportation Commission\", \"caltrans_district\": \"07 - Los Angeles\", \"route_name\": \"Fillmore Loop\", \"route_short_name\": null, \"route_id2\": \"11139\", \"cutoff2\": 20, \"cutoff\": 2}, {\"calitp_itp_id\": 380, \"trip_key\": 7070557894075735759, \"trip_id\": \"t_307288_b_30295_tn_0\", \"shape_id\": \"p_178954\", \"route_id\": \"11139\", \"service_hours\": 0.33, \"trip_first_departure_ts\": 52800, \"trip_last_arrival_ts\": 54000, \"departure_hour\": 14, \"time_of_day\": \"Midday\", \"p25\": 0.33, \"p50\": 0.37, \"p75\": 0.37, \"p50_trip\": 0, \"fastest_trip\": 1, \"car_duration_hours\": 0.29, \"competitive_route\": 1, \"bus_multiplier\": 1.14, \"bus_difference\": 2.4, \"num_trips\": 11, \"num_competitive\": 11, \"pct_trips_competitive\": 1.0, \"bus_difference_spread\": 2.4, \"route_group\": \"short\", \"max_trip_hrs\": 0.37, \"max_trip_route_group\": 0.37, \"below_cutoff\": 11, \"pct_below_cutoff\": 1.0, \"calitp_agency_name\": \"Ventura County Transportation Commission\", \"caltrans_district\": \"07 - Los Angeles\", \"route_name\": \"Fillmore Loop\", \"route_short_name\": null, \"route_id2\": \"11139\", \"cutoff2\": 20, \"cutoff\": 2}, {\"calitp_itp_id\": 380, \"trip_key\": 4508689171225940194, \"trip_id\": \"t_307280_b_30295_tn_0\", \"shape_id\": \"p_178953\", \"route_id\": \"11139\", \"service_hours\": 0.37, \"trip_first_departure_ts\": 27000, \"trip_last_arrival_ts\": 28320, \"departure_hour\": 7, \"time_of_day\": \"AM Peak\", \"p25\": 0.33, \"p50\": 0.37, \"p75\": 0.37, \"p50_trip\": 1, \"fastest_trip\": 0, \"car_duration_hours\": 0.29, \"competitive_route\": 1, \"bus_multiplier\": 1.28, \"bus_difference\": 4.8, \"num_trips\": 11, \"num_competitive\": 11, \"pct_trips_competitive\": 1.0, \"bus_difference_spread\": 2.4, \"route_group\": \"short\", \"max_trip_hrs\": 0.37, \"max_trip_route_group\": 0.37, \"below_cutoff\": 11, \"pct_below_cutoff\": 1.0, \"calitp_agency_name\": \"Ventura County Transportation Commission\", \"caltrans_district\": \"07 - Los Angeles\", \"route_name\": \"Fillmore Loop\", \"route_short_name\": null, \"route_id2\": \"11139\", \"cutoff2\": 20, \"cutoff\": 2}, {\"calitp_itp_id\": 380, \"trip_key\": 4200609986028506125, \"trip_id\": \"t_307285_b_30295_tn_0\", \"shape_id\": \"p_178955\", \"route_id\": \"11139\", \"service_hours\": 0.37, \"trip_first_departure_ts\": 43500, \"trip_last_arrival_ts\": 44820, \"departure_hour\": 12, \"time_of_day\": \"Midday\", \"p25\": 0.33, \"p50\": 0.37, \"p75\": 0.37, \"p50_trip\": 1, \"fastest_trip\": 0, \"car_duration_hours\": 0.29, \"competitive_route\": 1, \"bus_multiplier\": 1.28, \"bus_difference\": 4.8, \"num_trips\": 11, \"num_competitive\": 11, \"pct_trips_competitive\": 1.0, \"bus_difference_spread\": 2.4, \"route_group\": \"short\", \"max_trip_hrs\": 0.37, \"max_trip_route_group\": 0.37, \"below_cutoff\": 11, \"pct_below_cutoff\": 1.0, \"calitp_agency_name\": \"Ventura County Transportation Commission\", \"caltrans_district\": \"07 - Los Angeles\", \"route_name\": \"Fillmore Loop\", \"route_short_name\": null, \"route_id2\": \"11139\", \"cutoff2\": 20, \"cutoff\": 2}, {\"calitp_itp_id\": 380, \"trip_key\": 7876117558541659199, \"trip_id\": \"t_307287_b_30295_tn_0\", \"shape_id\": \"p_178953\", \"route_id\": \"11139\", \"service_hours\": 0.37, \"trip_first_departure_ts\": 51000, \"trip_last_arrival_ts\": 52320, \"departure_hour\": 14, \"time_of_day\": \"Midday\", \"p25\": 0.33, \"p50\": 0.37, \"p75\": 0.37, \"p50_trip\": 1, \"fastest_trip\": 0, \"car_duration_hours\": 0.29, \"competitive_route\": 1, \"bus_multiplier\": 1.28, \"bus_difference\": 4.8, \"num_trips\": 11, \"num_competitive\": 11, \"pct_trips_competitive\": 1.0, \"bus_difference_spread\": 2.4, \"route_group\": \"short\", \"max_trip_hrs\": 0.37, \"max_trip_route_group\": 0.37, \"below_cutoff\": 11, \"pct_below_cutoff\": 1.0, \"calitp_agency_name\": \"Ventura County Transportation Commission\", \"caltrans_district\": \"07 - Los Angeles\", \"route_name\": \"Fillmore Loop\", \"route_short_name\": null, \"route_id2\": \"11139\", \"cutoff2\": 20, \"cutoff\": 2}, {\"calitp_itp_id\": 380, \"trip_key\": -8936707200309142372, \"trip_id\": \"t_307284_b_30295_tn_0\", \"shape_id\": \"p_178955\", \"route_id\": \"11139\", \"service_hours\": 0.37, \"trip_first_departure_ts\": 36900, \"trip_last_arrival_ts\": 38220, \"departure_hour\": 10, \"time_of_day\": \"Midday\", \"p25\": 0.33, \"p50\": 0.37, \"p75\": 0.37, \"p50_trip\": 1, \"fastest_trip\": 0, \"car_duration_hours\": 0.29, \"competitive_route\": 1, \"bus_multiplier\": 1.28, \"bus_difference\": 4.8, \"num_trips\": 11, \"num_competitive\": 11, \"pct_trips_competitive\": 1.0, \"bus_difference_spread\": 2.4, \"route_group\": \"short\", \"max_trip_hrs\": 0.37, \"max_trip_route_group\": 0.37, \"below_cutoff\": 11, \"pct_below_cutoff\": 1.0, \"calitp_agency_name\": \"Ventura County Transportation Commission\", \"caltrans_district\": \"07 - Los Angeles\", \"route_name\": \"Fillmore Loop\", \"route_short_name\": null, \"route_id2\": \"11139\", \"cutoff2\": 20, \"cutoff\": 2}, {\"calitp_itp_id\": 380, \"trip_key\": -6003544487301739559, \"trip_id\": \"t_307281_b_30295_tn_0\", \"shape_id\": \"p_178953\", \"route_id\": \"11139\", \"service_hours\": 0.37, \"trip_first_departure_ts\": 54600, \"trip_last_arrival_ts\": 55920, \"departure_hour\": 15, \"time_of_day\": \"Midday\", \"p25\": 0.33, \"p50\": 0.37, \"p75\": 0.37, \"p50_trip\": 1, \"fastest_trip\": 0, \"car_duration_hours\": 0.29, \"competitive_route\": 1, \"bus_multiplier\": 1.28, \"bus_difference\": 4.8, \"num_trips\": 11, \"num_competitive\": 11, \"pct_trips_competitive\": 1.0, \"bus_difference_spread\": 2.4, \"route_group\": \"short\", \"max_trip_hrs\": 0.37, \"max_trip_route_group\": 0.37, \"below_cutoff\": 11, \"pct_below_cutoff\": 1.0, \"calitp_agency_name\": \"Ventura County Transportation Commission\", \"caltrans_district\": \"07 - Los Angeles\", \"route_name\": \"Fillmore Loop\", \"route_short_name\": null, \"route_id2\": \"11139\", \"cutoff2\": 20, \"cutoff\": 2}, {\"calitp_itp_id\": 380, \"trip_key\": -7155707871353330728, \"trip_id\": \"t_307283_b_30295_tn_0\", \"shape_id\": \"p_178953\", \"route_id\": \"11139\", \"service_hours\": 0.37, \"trip_first_departure_ts\": 30000, \"trip_last_arrival_ts\": 31320, \"departure_hour\": 8, \"time_of_day\": \"AM Peak\", \"p25\": 0.33, \"p50\": 0.37, \"p75\": 0.37, \"p50_trip\": 1, \"fastest_trip\": 0, \"car_duration_hours\": 0.29, \"competitive_route\": 1, \"bus_multiplier\": 1.28, \"bus_difference\": 4.8, \"num_trips\": 11, \"num_competitive\": 11, \"pct_trips_competitive\": 1.0, \"bus_difference_spread\": 2.4, \"route_group\": \"short\", \"max_trip_hrs\": 0.37, \"max_trip_route_group\": 0.37, \"below_cutoff\": 11, \"pct_below_cutoff\": 1.0, \"calitp_agency_name\": \"Ventura County Transportation Commission\", \"caltrans_district\": \"07 - Los Angeles\", \"route_name\": \"Fillmore Loop\", \"route_short_name\": null, \"route_id2\": \"11139\", \"cutoff2\": 20, \"cutoff\": 2}, {\"calitp_itp_id\": 380, \"trip_key\": -2602595746946625154, \"trip_id\": \"t_307286_b_30295_tn_0\", \"shape_id\": \"p_178955\", \"route_id\": \"11139\", \"service_hours\": 0.37, \"trip_first_departure_ts\": 58500, \"trip_last_arrival_ts\": 59820, \"departure_hour\": 16, \"time_of_day\": \"Midday\", \"p25\": 0.33, \"p50\": 0.37, \"p75\": 0.37, \"p50_trip\": 1, \"fastest_trip\": 0, \"car_duration_hours\": 0.29, \"competitive_route\": 1, \"bus_multiplier\": 1.28, \"bus_difference\": 4.8, \"num_trips\": 11, \"num_competitive\": 11, \"pct_trips_competitive\": 1.0, \"bus_difference_spread\": 2.4, \"route_group\": \"short\", \"max_trip_hrs\": 0.37, \"max_trip_route_group\": 0.37, \"below_cutoff\": 11, \"pct_below_cutoff\": 1.0, \"calitp_agency_name\": \"Ventura County Transportation Commission\", \"caltrans_district\": \"07 - Los Angeles\", \"route_name\": \"Fillmore Loop\", \"route_short_name\": null, \"route_id2\": \"11139\", \"cutoff2\": 20, \"cutoff\": 2}, {\"calitp_itp_id\": 380, \"trip_key\": -3477482100020460775, \"trip_id\": \"t_307302_b_30295_tn_0\", \"shape_id\": \"p_178957\", \"route_id\": \"11140\", \"service_hours\": 0.5, \"trip_first_departure_ts\": 60900, \"trip_last_arrival_ts\": 62700, \"departure_hour\": 16, \"time_of_day\": \"Midday\", \"p25\": 0.5, \"p50\": 0.5, \"p75\": 0.5, \"p50_trip\": 1, \"fastest_trip\": 0, \"car_duration_hours\": 0.43, \"competitive_route\": 1, \"bus_multiplier\": 1.16, \"bus_difference\": 4.2, \"num_trips\": 14, \"num_competitive\": 14, \"pct_trips_competitive\": 1.0, \"bus_difference_spread\": 7.8, \"route_group\": \"short\", \"max_trip_hrs\": 0.63, \"max_trip_route_group\": 0.63, \"below_cutoff\": 14, \"pct_below_cutoff\": 1.0, \"calitp_agency_name\": \"Ventura County Transportation Commission\", \"caltrans_district\": \"07 - Los Angeles\", \"route_name\": \"Piru Loop\", \"route_short_name\": null, \"route_id2\": \"11140\", \"cutoff2\": 20, \"cutoff\": 2}, {\"calitp_itp_id\": 380, \"trip_key\": 5998133417845239126, \"trip_id\": \"t_307298_b_30295_tn_0\", \"shape_id\": \"p_178956\", \"route_id\": \"11140\", \"service_hours\": 0.5, \"trip_first_departure_ts\": 47100, \"trip_last_arrival_ts\": 48900, \"departure_hour\": 13, \"time_of_day\": \"Midday\", \"p25\": 0.5, \"p50\": 0.5, \"p75\": 0.5, \"p50_trip\": 1, \"fastest_trip\": 0, \"car_duration_hours\": 0.43, \"competitive_route\": 1, \"bus_multiplier\": 1.16, \"bus_difference\": 4.2, \"num_trips\": 14, \"num_competitive\": 14, \"pct_trips_competitive\": 1.0, \"bus_difference_spread\": 7.8, \"route_group\": \"short\", \"max_trip_hrs\": 0.63, \"max_trip_route_group\": 0.63, \"below_cutoff\": 14, \"pct_below_cutoff\": 1.0, \"calitp_agency_name\": \"Ventura County Transportation Commission\", \"caltrans_district\": \"07 - Los Angeles\", \"route_name\": \"Piru Loop\", \"route_short_name\": null, \"route_id2\": \"11140\", \"cutoff2\": 20, \"cutoff\": 2}, {\"calitp_itp_id\": 380, \"trip_key\": 8379173051858602009, \"trip_id\": \"t_307303_b_30295_tn_0\", \"shape_id\": \"p_178957\", \"route_id\": \"11140\", \"service_hours\": 0.5, \"trip_first_departure_ts\": 63000, \"trip_last_arrival_ts\": 64800, \"departure_hour\": 17, \"time_of_day\": \"PM Peak\", \"p25\": 0.5, \"p50\": 0.5, \"p75\": 0.5, \"p50_trip\": 1, \"fastest_trip\": 0, \"car_duration_hours\": 0.43, \"competitive_route\": 1, \"bus_multiplier\": 1.16, \"bus_difference\": 4.2, \"num_trips\": 14, \"num_competitive\": 14, \"pct_trips_competitive\": 1.0, \"bus_difference_spread\": 7.8, \"route_group\": \"short\", \"max_trip_hrs\": 0.63, \"max_trip_route_group\": 0.63, \"below_cutoff\": 14, \"pct_below_cutoff\": 1.0, \"calitp_agency_name\": \"Ventura County Transportation Commission\", \"caltrans_district\": \"07 - Los Angeles\", \"route_name\": \"Piru Loop\", \"route_short_name\": null, \"route_id2\": \"11140\", \"cutoff2\": 20, \"cutoff\": 2}, {\"calitp_itp_id\": 380, \"trip_key\": -999493374566243572, \"trip_id\": \"t_307297_b_30295_tn_0\", \"shape_id\": \"p_178957\", \"route_id\": \"11140\", \"service_hours\": 0.5, \"trip_first_departure_ts\": 40200, \"trip_last_arrival_ts\": 42000, \"departure_hour\": 11, \"time_of_day\": \"Midday\", \"p25\": 0.5, \"p50\": 0.5, \"p75\": 0.5, \"p50_trip\": 1, \"fastest_trip\": 0, \"car_duration_hours\": 0.43, \"competitive_route\": 1, \"bus_multiplier\": 1.16, \"bus_difference\": 4.2, \"num_trips\": 14, \"num_competitive\": 14, \"pct_trips_competitive\": 1.0, \"bus_difference_spread\": 7.8, \"route_group\": \"short\", \"max_trip_hrs\": 0.63, \"max_trip_route_group\": 0.63, \"below_cutoff\": 14, \"pct_below_cutoff\": 1.0, \"calitp_agency_name\": \"Ventura County Transportation Commission\", \"caltrans_district\": \"07 - Los Angeles\", \"route_name\": \"Piru Loop\", \"route_short_name\": null, \"route_id2\": \"11140\", \"cutoff2\": 20, \"cutoff\": 2}, {\"calitp_itp_id\": 380, \"trip_key\": 4887046062152755978, \"trip_id\": \"t_307293_b_30295_tn_0\", \"shape_id\": \"p_178957\", \"route_id\": \"11140\", \"service_hours\": 0.5, \"trip_first_departure_ts\": 27900, \"trip_last_arrival_ts\": 29700, \"departure_hour\": 7, \"time_of_day\": \"AM Peak\", \"p25\": 0.5, \"p50\": 0.5, \"p75\": 0.5, \"p50_trip\": 1, \"fastest_trip\": 0, \"car_duration_hours\": 0.43, \"competitive_route\": 1, \"bus_multiplier\": 1.16, \"bus_difference\": 4.2, \"num_trips\": 14, \"num_competitive\": 14, \"pct_trips_competitive\": 1.0, \"bus_difference_spread\": 7.8, \"route_group\": \"short\", \"max_trip_hrs\": 0.63, \"max_trip_route_group\": 0.63, \"below_cutoff\": 14, \"pct_below_cutoff\": 1.0, \"calitp_agency_name\": \"Ventura County Transportation Commission\", \"caltrans_district\": \"07 - Los Angeles\", \"route_name\": \"Piru Loop\", \"route_short_name\": null, \"route_id2\": \"11140\", \"cutoff2\": 20, \"cutoff\": 2}, {\"calitp_itp_id\": 380, \"trip_key\": -3501895880367513749, \"trip_id\": \"t_307295_b_30295_tn_0\", \"shape_id\": \"p_178957\", \"route_id\": \"11140\", \"service_hours\": 0.5, \"trip_first_departure_ts\": 32400, \"trip_last_arrival_ts\": 34200, \"departure_hour\": 9, \"time_of_day\": \"AM Peak\", \"p25\": 0.5, \"p50\": 0.5, \"p75\": 0.5, \"p50_trip\": 1, \"fastest_trip\": 0, \"car_duration_hours\": 0.43, \"competitive_route\": 1, \"bus_multiplier\": 1.16, \"bus_difference\": 4.2, \"num_trips\": 14, \"num_competitive\": 14, \"pct_trips_competitive\": 1.0, \"bus_difference_spread\": 7.8, \"route_group\": \"short\", \"max_trip_hrs\": 0.63, \"max_trip_route_group\": 0.63, \"below_cutoff\": 14, \"pct_below_cutoff\": 1.0, \"calitp_agency_name\": \"Ventura County Transportation Commission\", \"caltrans_district\": \"07 - Los Angeles\", \"route_name\": \"Piru Loop\", \"route_short_name\": null, \"route_id2\": \"11140\", \"cutoff2\": 20, \"cutoff\": 2}, {\"calitp_itp_id\": 380, \"trip_key\": 549089932881538247, \"trip_id\": \"t_307299_b_30295_tn_0\", \"shape_id\": \"p_178957\", \"route_id\": \"11140\", \"service_hours\": 0.5, \"trip_first_departure_ts\": 51300, \"trip_last_arrival_ts\": 53100, \"departure_hour\": 14, \"time_of_day\": \"Midday\", \"p25\": 0.5, \"p50\": 0.5, \"p75\": 0.5, \"p50_trip\": 1, \"fastest_trip\": 0, \"car_duration_hours\": 0.43, \"competitive_route\": 1, \"bus_multiplier\": 1.16, \"bus_difference\": 4.2, \"num_trips\": 14, \"num_competitive\": 14, \"pct_trips_competitive\": 1.0, \"bus_difference_spread\": 7.8, \"route_group\": \"short\", \"max_trip_hrs\": 0.63, \"max_trip_route_group\": 0.63, \"below_cutoff\": 14, \"pct_below_cutoff\": 1.0, \"calitp_agency_name\": \"Ventura County Transportation Commission\", \"caltrans_district\": \"07 - Los Angeles\", \"route_name\": \"Piru Loop\", \"route_short_name\": null, \"route_id2\": \"11140\", \"cutoff2\": 20, \"cutoff\": 2}, {\"calitp_itp_id\": 380, \"trip_key\": 8488478320970216414, \"trip_id\": \"t_307301_b_30295_tn_0\", \"shape_id\": \"p_178956\", \"route_id\": \"11140\", \"service_hours\": 0.5, \"trip_first_departure_ts\": 58500, \"trip_last_arrival_ts\": 60300, \"departure_hour\": 16, \"time_of_day\": \"Midday\", \"p25\": 0.5, \"p50\": 0.5, \"p75\": 0.5, \"p50_trip\": 1, \"fastest_trip\": 0, \"car_duration_hours\": 0.43, \"competitive_route\": 1, \"bus_multiplier\": 1.16, \"bus_difference\": 4.2, \"num_trips\": 14, \"num_competitive\": 14, \"pct_trips_competitive\": 1.0, \"bus_difference_spread\": 7.8, \"route_group\": \"short\", \"max_trip_hrs\": 0.63, \"max_trip_route_group\": 0.63, \"below_cutoff\": 14, \"pct_below_cutoff\": 1.0, \"calitp_agency_name\": \"Ventura County Transportation Commission\", \"caltrans_district\": \"07 - Los Angeles\", \"route_name\": \"Piru Loop\", \"route_short_name\": null, \"route_id2\": \"11140\", \"cutoff2\": 20, \"cutoff\": 2}, {\"calitp_itp_id\": 380, \"trip_key\": 7986467915879191184, \"trip_id\": \"t_307304_b_30295_tn_0\", \"shape_id\": \"p_178956\", \"route_id\": \"11140\", \"service_hours\": 0.5, \"trip_first_departure_ts\": 69300, \"trip_last_arrival_ts\": 71100, \"departure_hour\": 19, \"time_of_day\": \"PM Peak\", \"p25\": 0.5, \"p50\": 0.5, \"p75\": 0.5, \"p50_trip\": 1, \"fastest_trip\": 1, \"car_duration_hours\": 0.43, \"competitive_route\": 1, \"bus_multiplier\": 1.16, \"bus_difference\": 4.2, \"num_trips\": 14, \"num_competitive\": 14, \"pct_trips_competitive\": 1.0, \"bus_difference_spread\": 7.8, \"route_group\": \"short\", \"max_trip_hrs\": 0.63, \"max_trip_route_group\": 0.63, \"below_cutoff\": 14, \"pct_below_cutoff\": 1.0, \"calitp_agency_name\": \"Ventura County Transportation Commission\", \"caltrans_district\": \"07 - Los Angeles\", \"route_name\": \"Piru Loop\", \"route_short_name\": null, \"route_id2\": \"11140\", \"cutoff2\": 20, \"cutoff\": 2}, {\"calitp_itp_id\": 380, \"trip_key\": 8246410718931094211, \"trip_id\": \"t_307294_b_30295_tn_0\", \"shape_id\": \"p_178957\", \"route_id\": \"11140\", \"service_hours\": 0.5, \"trip_first_departure_ts\": 30000, \"trip_last_arrival_ts\": 31800, \"departure_hour\": 8, \"time_of_day\": \"AM Peak\", \"p25\": 0.5, \"p50\": 0.5, \"p75\": 0.5, \"p50_trip\": 1, \"fastest_trip\": 0, \"car_duration_hours\": 0.43, \"competitive_route\": 1, \"bus_multiplier\": 1.16, \"bus_difference\": 4.2, \"num_trips\": 14, \"num_competitive\": 14, \"pct_trips_competitive\": 1.0, \"bus_difference_spread\": 7.8, \"route_group\": \"short\", \"max_trip_hrs\": 0.63, \"max_trip_route_group\": 0.63, \"below_cutoff\": 14, \"pct_below_cutoff\": 1.0, \"calitp_agency_name\": \"Ventura County Transportation Commission\", \"caltrans_district\": \"07 - Los Angeles\", \"route_name\": \"Piru Loop\", \"route_short_name\": null, \"route_id2\": \"11140\", \"cutoff2\": 20, \"cutoff\": 2}, {\"calitp_itp_id\": 380, \"trip_key\": 7863296115918132552, \"trip_id\": \"t_307296_b_30295_tn_0\", \"shape_id\": \"p_178957\", \"route_id\": \"11140\", \"service_hours\": 0.5, \"trip_first_departure_ts\": 36000, \"trip_last_arrival_ts\": 37800, \"departure_hour\": 10, \"time_of_day\": \"Midday\", \"p25\": 0.5, \"p50\": 0.5, \"p75\": 0.5, \"p50_trip\": 1, \"fastest_trip\": 0, \"car_duration_hours\": 0.43, \"competitive_route\": 1, \"bus_multiplier\": 1.16, \"bus_difference\": 4.2, \"num_trips\": 14, \"num_competitive\": 14, \"pct_trips_competitive\": 1.0, \"bus_difference_spread\": 7.8, \"route_group\": \"short\", \"max_trip_hrs\": 0.63, \"max_trip_route_group\": 0.63, \"below_cutoff\": 14, \"pct_below_cutoff\": 1.0, \"calitp_agency_name\": \"Ventura County Transportation Commission\", \"caltrans_district\": \"07 - Los Angeles\", \"route_name\": \"Piru Loop\", \"route_short_name\": null, \"route_id2\": \"11140\", \"cutoff2\": 20, \"cutoff\": 2}, {\"calitp_itp_id\": 380, \"trip_key\": 5105309313324600526, \"trip_id\": \"t_307290_b_30295_tn_0\", \"shape_id\": \"p_178956\", \"route_id\": \"11140\", \"service_hours\": 0.5, \"trip_first_departure_ts\": 22500, \"trip_last_arrival_ts\": 24300, \"departure_hour\": 6, \"time_of_day\": \"Owl Service\", \"p25\": 0.5, \"p50\": 0.5, \"p75\": 0.5, \"p50_trip\": 1, \"fastest_trip\": 0, \"car_duration_hours\": 0.43, \"competitive_route\": 1, \"bus_multiplier\": 1.16, \"bus_difference\": 4.2, \"num_trips\": 14, \"num_competitive\": 14, \"pct_trips_competitive\": 1.0, \"bus_difference_spread\": 7.8, \"route_group\": \"short\", \"max_trip_hrs\": 0.63, \"max_trip_route_group\": 0.63, \"below_cutoff\": 14, \"pct_below_cutoff\": 1.0, \"calitp_agency_name\": \"Ventura County Transportation Commission\", \"caltrans_district\": \"07 - Los Angeles\", \"route_name\": \"Piru Loop\", \"route_short_name\": null, \"route_id2\": \"11140\", \"cutoff2\": 20, \"cutoff\": 2}, {\"calitp_itp_id\": 380, \"trip_key\": -8910810402565523088, \"trip_id\": \"t_307291_b_30295_tn_0\", \"shape_id\": \"p_178958\", \"route_id\": \"11140\", \"service_hours\": 0.6, \"trip_first_departure_ts\": 24900, \"trip_last_arrival_ts\": 27060, \"departure_hour\": 6, \"time_of_day\": \"Owl Service\", \"p25\": 0.5, \"p50\": 0.5, \"p75\": 0.5, \"p50_trip\": 0, \"fastest_trip\": 0, \"car_duration_hours\": 0.43, \"competitive_route\": 1, \"bus_multiplier\": 1.4, \"bus_difference\": 10.2, \"num_trips\": 14, \"num_competitive\": 14, \"pct_trips_competitive\": 1.0, \"bus_difference_spread\": 7.8, \"route_group\": \"short\", \"max_trip_hrs\": 0.63, \"max_trip_route_group\": 0.63, \"below_cutoff\": 14, \"pct_below_cutoff\": 1.0, \"calitp_agency_name\": \"Ventura County Transportation Commission\", \"caltrans_district\": \"07 - Los Angeles\", \"route_name\": \"Piru Loop\", \"route_short_name\": null, \"route_id2\": \"11140\", \"cutoff2\": 20, \"cutoff\": 2}, {\"calitp_itp_id\": 380, \"trip_key\": -2653389962220752619, \"trip_id\": \"t_307300_b_30295_tn_0\", \"shape_id\": \"p_178958\", \"route_id\": \"11140\", \"service_hours\": 0.63, \"trip_first_departure_ts\": 55500, \"trip_last_arrival_ts\": 57780, \"departure_hour\": 15, \"time_of_day\": \"Midday\", \"p25\": 0.5, \"p50\": 0.5, \"p75\": 0.5, \"p50_trip\": 0, \"fastest_trip\": 0, \"car_duration_hours\": 0.43, \"competitive_route\": 1, \"bus_multiplier\": 1.47, \"bus_difference\": 12.0, \"num_trips\": 14, \"num_competitive\": 14, \"pct_trips_competitive\": 1.0, \"bus_difference_spread\": 7.8, \"route_group\": \"short\", \"max_trip_hrs\": 0.63, \"max_trip_route_group\": 0.63, \"below_cutoff\": 14, \"pct_below_cutoff\": 1.0, \"calitp_agency_name\": \"Ventura County Transportation Commission\", \"caltrans_district\": \"07 - Los Angeles\", \"route_name\": \"Piru Loop\", \"route_short_name\": null, \"route_id2\": \"11140\", \"cutoff2\": 20, \"cutoff\": 2}]}}, {\"mode\": \"vega-lite\"});\n",
       "</script>"
      ],
      "text/plain": [
       "alt.FacetChart(...)"
      ]
     },
     "metadata": {},
     "output_type": "display_data"
    },
    {
     "data": {
      "text/html": [
       "\n",
       "<div id=\"altair-viz-837f07794fd349a3b4715b1d9c310640\"></div>\n",
       "<script type=\"text/javascript\">\n",
       "  var VEGA_DEBUG = (typeof VEGA_DEBUG == \"undefined\") ? {} : VEGA_DEBUG;\n",
       "  (function(spec, embedOpt){\n",
       "    let outputDiv = document.currentScript.previousElementSibling;\n",
       "    if (outputDiv.id !== \"altair-viz-837f07794fd349a3b4715b1d9c310640\") {\n",
       "      outputDiv = document.getElementById(\"altair-viz-837f07794fd349a3b4715b1d9c310640\");\n",
       "    }\n",
       "    const paths = {\n",
       "      \"vega\": \"https://cdn.jsdelivr.net/npm//vega@5?noext\",\n",
       "      \"vega-lib\": \"https://cdn.jsdelivr.net/npm//vega-lib?noext\",\n",
       "      \"vega-lite\": \"https://cdn.jsdelivr.net/npm//vega-lite@4.17.0?noext\",\n",
       "      \"vega-embed\": \"https://cdn.jsdelivr.net/npm//vega-embed@6?noext\",\n",
       "    };\n",
       "\n",
       "    function maybeLoadScript(lib, version) {\n",
       "      var key = `${lib.replace(\"-\", \"\")}_version`;\n",
       "      return (VEGA_DEBUG[key] == version) ?\n",
       "        Promise.resolve(paths[lib]) :\n",
       "        new Promise(function(resolve, reject) {\n",
       "          var s = document.createElement('script');\n",
       "          document.getElementsByTagName(\"head\")[0].appendChild(s);\n",
       "          s.async = true;\n",
       "          s.onload = () => {\n",
       "            VEGA_DEBUG[key] = version;\n",
       "            return resolve(paths[lib]);\n",
       "          };\n",
       "          s.onerror = () => reject(`Error loading script: ${paths[lib]}`);\n",
       "          s.src = paths[lib];\n",
       "        });\n",
       "    }\n",
       "\n",
       "    function showError(err) {\n",
       "      outputDiv.innerHTML = `<div class=\"error\" style=\"color:red;\">${err}</div>`;\n",
       "      throw err;\n",
       "    }\n",
       "\n",
       "    function displayChart(vegaEmbed) {\n",
       "      vegaEmbed(outputDiv, spec, embedOpt)\n",
       "        .catch(err => showError(`Javascript Error: ${err.message}<br>This usually means there's a typo in your chart specification. See the javascript console for the full traceback.`));\n",
       "    }\n",
       "\n",
       "    if(typeof define === \"function\" && define.amd) {\n",
       "      requirejs.config({paths});\n",
       "      require([\"vega-embed\"], displayChart, err => showError(`Error loading script: ${err.message}`));\n",
       "    } else {\n",
       "      maybeLoadScript(\"vega\", \"5\")\n",
       "        .then(() => maybeLoadScript(\"vega-lite\", \"4.17.0\"))\n",
       "        .then(() => maybeLoadScript(\"vega-embed\", \"6\"))\n",
       "        .catch(showError)\n",
       "        .then(() => displayChart(vegaEmbed));\n",
       "    }\n",
       "  })({\"config\": {\"view\": {\"continuousWidth\": 400, \"continuousHeight\": 300, \"stroke\": null}, \"facet\": {\"spacing\": 0}}, \"data\": {\"name\": \"data-2f25010a0b73a0601e6d926bd20dcad9\"}, \"facet\": {\"column\": {\"field\": \"route_id2\", \"sort\": [\"11140\", \"11139\", \"B\", \"A\"], \"title\": \"Route ID\", \"type\": \"nominal\"}}, \"spec\": {\"layer\": [{\"mark\": \"rule\", \"encoding\": {\"color\": {\"value\": \"black\"}, \"y\": {\"field\": \"cutoff\", \"type\": \"quantitative\"}}, \"selection\": {\"selector002\": {\"type\": \"interval\", \"bind\": \"scales\", \"encodings\": [\"x\", \"y\"]}}}, {\"mark\": {\"type\": \"rule\", \"strokeDash\": [3, 3]}, \"encoding\": {\"color\": {\"value\": \"#323434\"}, \"y\": {\"field\": \"cutoff2\", \"type\": \"quantitative\"}}}, {\"mark\": {\"type\": \"point\", \"opacity\": 0.65, \"size\": 20, \"strokeWidth\": 1.1}, \"encoding\": {\"color\": {\"field\": \"time_of_day\", \"scale\": {\"range\": [\"#136C97\", \"#E16B26\", \"#F6BF16\", \"#00896B\", \"#7790A3\", \"#5B559C\"]}, \"sort\": [\"AM Peak\", \"Midday\", \"PM Peak\", \"Owl Service\"], \"title\": \"Time of Day\", \"type\": \"nominal\"}, \"tooltip\": [{\"field\": \"route_id2\", \"title\": \"route_id\", \"type\": \"nominal\"}, {\"field\": \"route_name\", \"type\": \"nominal\"}, {\"field\": \"trip_id\", \"type\": \"nominal\"}, {\"field\": \"service_hours\", \"type\": \"quantitative\"}, {\"field\": \"car_duration_hours\", \"type\": \"quantitative\"}, {\"field\": \"bus_multiplier\", \"type\": \"quantitative\"}, {\"field\": \"bus_difference\", \"type\": \"quantitative\"}, {\"field\": \"num_trips\", \"type\": \"quantitative\"}, {\"field\": \"num_competitive\", \"type\": \"quantitative\"}, {\"field\": \"pct_trips_competitive\", \"type\": \"quantitative\"}, {\"field\": \"pct_below_cutoff\", \"type\": \"quantitative\"}, {\"field\": \"p25\", \"type\": \"quantitative\"}, {\"field\": \"p50\", \"type\": \"quantitative\"}, {\"field\": \"p75\", \"type\": \"quantitative\"}], \"x\": {\"axis\": {\"grid\": false, \"labels\": false, \"ticks\": true, \"values\": [0]}, \"field\": \"jitter\", \"scale\": {}, \"title\": null, \"type\": \"quantitative\"}, \"y\": {\"field\": \"bus_difference\", \"scale\": {\"domain\": [-5, 59.4]}, \"title\": \"Difference in Bus to Car Travel Time (min)\", \"type\": \"quantitative\"}}, \"transform\": [{\"calculate\": \"sqrt(-2*log(random()))*cos(2*PI*random())\", \"as\": \"jitter\"}], \"width\": 50}, {\"layer\": [{\"mark\": {\"type\": \"point\", \"opacity\": 0.6, \"size\": 20, \"strokeWidth\": 1.3}, \"encoding\": {\"color\": {\"value\": \"#323434\"}, \"y\": {\"field\": \"bus_difference\", \"type\": \"quantitative\"}}, \"transform\": [{\"filter\": \"(datum.p50_trip === 1)\"}]}, {\"mark\": {\"type\": \"text\", \"align\": \"center\", \"baseline\": \"middle\"}, \"encoding\": {\"color\": {\"value\": \"black\"}, \"text\": {\"field\": \"pct_trips_competitive\", \"format\": \".0%\", \"type\": \"quantitative\"}, \"tooltip\": [{\"field\": \"route_id2\", \"title\": \"route_id\", \"type\": \"nominal\"}, {\"field\": \"route_name\", \"type\": \"nominal\"}, {\"field\": \"trip_id\", \"type\": \"nominal\"}, {\"field\": \"service_hours\", \"type\": \"quantitative\"}, {\"field\": \"car_duration_hours\", \"type\": \"quantitative\"}, {\"field\": \"bus_multiplier\", \"type\": \"quantitative\"}, {\"field\": \"bus_difference\", \"type\": \"quantitative\"}, {\"field\": \"num_trips\", \"type\": \"quantitative\"}, {\"field\": \"num_competitive\", \"type\": \"quantitative\"}, {\"field\": \"pct_trips_competitive\", \"type\": \"quantitative\"}, {\"field\": \"pct_below_cutoff\", \"type\": \"quantitative\"}, {\"field\": \"p25\", \"type\": \"quantitative\"}, {\"field\": \"p50\", \"type\": \"quantitative\"}, {\"field\": \"p75\", \"type\": \"quantitative\"}], \"x\": {\"value\": 30}, \"y\": {\"value\": 15}}, \"transform\": [{\"calculate\": \"sqrt(-2*log(random()))*cos(2*PI*random())\", \"as\": \"jitter\"}, {\"filter\": \"(datum.fastest_trip === 1)\"}]}]}]}, \"resolve\": {\"scale\": {\"y\": \"shared\"}}, \"title\": \"Difference in Bus to Car Travel Time (min)\", \"$schema\": \"https://vega.github.io/schema/vega-lite/v4.17.0.json\", \"datasets\": {\"data-2f25010a0b73a0601e6d926bd20dcad9\": [{\"calitp_itp_id\": 380, \"trip_key\": 2872704287986575954, \"trip_id\": \"t_297950_b_30295_tn_0\", \"shape_id\": \"p_178758\", \"route_id\": \"11102\", \"service_hours\": 0.5, \"trip_first_departure_ts\": 51900, \"trip_last_arrival_ts\": 53700, \"departure_hour\": 14, \"time_of_day\": \"Midday\", \"p25\": 0.5, \"p50\": 0.5, \"p75\": 0.5, \"p50_trip\": 1, \"fastest_trip\": 1, \"car_duration_hours\": 0.38, \"competitive_route\": 1, \"bus_multiplier\": 1.32, \"bus_difference\": 7.2, \"num_trips\": 3, \"num_competitive\": 3, \"pct_trips_competitive\": 1.0, \"bus_difference_spread\": 0.0, \"route_group\": \"short\", \"max_trip_hrs\": 0.5, \"max_trip_route_group\": 0.5, \"below_cutoff\": 3, \"pct_below_cutoff\": 1.0, \"calitp_agency_name\": \"Ventura County Transportation Commission\", \"caltrans_district\": \"07 - Los Angeles\", \"route_name\": \"Santa Paula\", \"route_short_name\": \"A\", \"route_id2\": \"A\", \"cutoff2\": 20, \"cutoff\": 0}, {\"calitp_itp_id\": 380, \"trip_key\": -1794597154988842769, \"trip_id\": \"t_297949_b_30295_tn_0\", \"shape_id\": \"p_178758\", \"route_id\": \"11102\", \"service_hours\": 0.5, \"trip_first_departure_ts\": 31140, \"trip_last_arrival_ts\": 32940, \"departure_hour\": 8, \"time_of_day\": \"AM Peak\", \"p25\": 0.5, \"p50\": 0.5, \"p75\": 0.5, \"p50_trip\": 1, \"fastest_trip\": 0, \"car_duration_hours\": 0.38, \"competitive_route\": 1, \"bus_multiplier\": 1.32, \"bus_difference\": 7.2, \"num_trips\": 3, \"num_competitive\": 3, \"pct_trips_competitive\": 1.0, \"bus_difference_spread\": 0.0, \"route_group\": \"short\", \"max_trip_hrs\": 0.5, \"max_trip_route_group\": 0.5, \"below_cutoff\": 3, \"pct_below_cutoff\": 1.0, \"calitp_agency_name\": \"Ventura County Transportation Commission\", \"caltrans_district\": \"07 - Los Angeles\", \"route_name\": \"Santa Paula\", \"route_short_name\": \"A\", \"route_id2\": \"A\", \"cutoff2\": 20, \"cutoff\": 0}, {\"calitp_itp_id\": 380, \"trip_key\": 1704114464114318887, \"trip_id\": \"t_297948_b_30295_tn_0\", \"shape_id\": \"p_178758\", \"route_id\": \"11102\", \"service_hours\": 0.5, \"trip_first_departure_ts\": 28200, \"trip_last_arrival_ts\": 30000, \"departure_hour\": 7, \"time_of_day\": \"AM Peak\", \"p25\": 0.5, \"p50\": 0.5, \"p75\": 0.5, \"p50_trip\": 1, \"fastest_trip\": 0, \"car_duration_hours\": 0.38, \"competitive_route\": 1, \"bus_multiplier\": 1.32, \"bus_difference\": 7.2, \"num_trips\": 3, \"num_competitive\": 3, \"pct_trips_competitive\": 1.0, \"bus_difference_spread\": 0.0, \"route_group\": \"short\", \"max_trip_hrs\": 0.5, \"max_trip_route_group\": 0.5, \"below_cutoff\": 3, \"pct_below_cutoff\": 1.0, \"calitp_agency_name\": \"Ventura County Transportation Commission\", \"caltrans_district\": \"07 - Los Angeles\", \"route_name\": \"Santa Paula\", \"route_short_name\": \"A\", \"route_id2\": \"A\", \"cutoff2\": 20, \"cutoff\": 0}, {\"calitp_itp_id\": 380, \"trip_key\": 8040552062176262404, \"trip_id\": \"t_298076_b_30295_tn_0\", \"shape_id\": \"p_178760\", \"route_id\": \"11103\", \"service_hours\": 0.5, \"trip_first_departure_ts\": 25680, \"trip_last_arrival_ts\": 27480, \"departure_hour\": 7, \"time_of_day\": \"AM Peak\", \"p25\": 0.5, \"p50\": 0.51, \"p75\": 0.5275000000000001, \"p50_trip\": 1, \"fastest_trip\": 1, \"car_duration_hours\": 0.32, \"competitive_route\": 1, \"bus_multiplier\": 1.56, \"bus_difference\": 10.8, \"num_trips\": 4, \"num_competitive\": 4, \"pct_trips_competitive\": 1.0, \"bus_difference_spread\": 3.0, \"route_group\": \"short\", \"max_trip_hrs\": 0.55, \"max_trip_route_group\": 0.55, \"below_cutoff\": 4, \"pct_below_cutoff\": 1.0, \"calitp_agency_name\": \"Ventura County Transportation Commission\", \"caltrans_district\": \"07 - Los Angeles\", \"route_name\": \"Santa Paula\", \"route_short_name\": \"B\", \"route_id2\": \"B\", \"cutoff2\": 20, \"cutoff\": 0}, {\"calitp_itp_id\": 380, \"trip_key\": -5467974047879099779, \"trip_id\": \"t_298075_b_30295_tn_0\", \"shape_id\": \"p_178760\", \"route_id\": \"11103\", \"service_hours\": 0.5, \"trip_first_departure_ts\": 23460, \"trip_last_arrival_ts\": 25260, \"departure_hour\": 6, \"time_of_day\": \"Owl Service\", \"p25\": 0.5, \"p50\": 0.51, \"p75\": 0.5275000000000001, \"p50_trip\": 1, \"fastest_trip\": 0, \"car_duration_hours\": 0.32, \"competitive_route\": 1, \"bus_multiplier\": 1.56, \"bus_difference\": 10.8, \"num_trips\": 4, \"num_competitive\": 4, \"pct_trips_competitive\": 1.0, \"bus_difference_spread\": 3.0, \"route_group\": \"short\", \"max_trip_hrs\": 0.55, \"max_trip_route_group\": 0.55, \"below_cutoff\": 4, \"pct_below_cutoff\": 1.0, \"calitp_agency_name\": \"Ventura County Transportation Commission\", \"caltrans_district\": \"07 - Los Angeles\", \"route_name\": \"Santa Paula\", \"route_short_name\": \"B\", \"route_id2\": \"B\", \"cutoff2\": 20, \"cutoff\": 0}, {\"calitp_itp_id\": 380, \"trip_key\": -5901345971159908292, \"trip_id\": \"t_298077_b_30295_tn_0\", \"shape_id\": \"p_178760\", \"route_id\": \"11103\", \"service_hours\": 0.52, \"trip_first_departure_ts\": 33300, \"trip_last_arrival_ts\": 35160, \"departure_hour\": 9, \"time_of_day\": \"AM Peak\", \"p25\": 0.5, \"p50\": 0.51, \"p75\": 0.5275000000000001, \"p50_trip\": 1, \"fastest_trip\": 0, \"car_duration_hours\": 0.32, \"competitive_route\": 1, \"bus_multiplier\": 1.62, \"bus_difference\": 12.0, \"num_trips\": 4, \"num_competitive\": 4, \"pct_trips_competitive\": 1.0, \"bus_difference_spread\": 3.0, \"route_group\": \"short\", \"max_trip_hrs\": 0.55, \"max_trip_route_group\": 0.55, \"below_cutoff\": 4, \"pct_below_cutoff\": 1.0, \"calitp_agency_name\": \"Ventura County Transportation Commission\", \"caltrans_district\": \"07 - Los Angeles\", \"route_name\": \"Santa Paula\", \"route_short_name\": \"B\", \"route_id2\": \"B\", \"cutoff2\": 20, \"cutoff\": 0}, {\"calitp_itp_id\": 380, \"trip_key\": -471785971279718991, \"trip_id\": \"t_298078_b_30295_tn_0\", \"shape_id\": \"p_178760\", \"route_id\": \"11103\", \"service_hours\": 0.55, \"trip_first_departure_ts\": 37140, \"trip_last_arrival_ts\": 39120, \"departure_hour\": 10, \"time_of_day\": \"Midday\", \"p25\": 0.5, \"p50\": 0.51, \"p75\": 0.5275000000000001, \"p50_trip\": 0, \"fastest_trip\": 0, \"car_duration_hours\": 0.32, \"competitive_route\": 1, \"bus_multiplier\": 1.72, \"bus_difference\": 13.8, \"num_trips\": 4, \"num_competitive\": 4, \"pct_trips_competitive\": 1.0, \"bus_difference_spread\": 3.0, \"route_group\": \"short\", \"max_trip_hrs\": 0.55, \"max_trip_route_group\": 0.55, \"below_cutoff\": 4, \"pct_below_cutoff\": 1.0, \"calitp_agency_name\": \"Ventura County Transportation Commission\", \"caltrans_district\": \"07 - Los Angeles\", \"route_name\": \"Santa Paula\", \"route_short_name\": \"B\", \"route_id2\": \"B\", \"cutoff2\": 20, \"cutoff\": 0}, {\"calitp_itp_id\": 380, \"trip_key\": 6047442871500869582, \"trip_id\": \"t_307282_b_30295_tn_0\", \"shape_id\": \"p_178954\", \"route_id\": \"11139\", \"service_hours\": 0.33, \"trip_first_departure_ts\": 28500, \"trip_last_arrival_ts\": 29700, \"departure_hour\": 7, \"time_of_day\": \"AM Peak\", \"p25\": 0.33, \"p50\": 0.37, \"p75\": 0.37, \"p50_trip\": 0, \"fastest_trip\": 0, \"car_duration_hours\": 0.29, \"competitive_route\": 1, \"bus_multiplier\": 1.14, \"bus_difference\": 2.4, \"num_trips\": 11, \"num_competitive\": 11, \"pct_trips_competitive\": 1.0, \"bus_difference_spread\": 2.4, \"route_group\": \"short\", \"max_trip_hrs\": 0.37, \"max_trip_route_group\": 0.37, \"below_cutoff\": 11, \"pct_below_cutoff\": 1.0, \"calitp_agency_name\": \"Ventura County Transportation Commission\", \"caltrans_district\": \"07 - Los Angeles\", \"route_name\": \"Fillmore Loop\", \"route_short_name\": null, \"route_id2\": \"11139\", \"cutoff2\": 20, \"cutoff\": 0}, {\"calitp_itp_id\": 380, \"trip_key\": 7482431734771432811, \"trip_id\": \"t_307278_b_30295_tn_0\", \"shape_id\": \"p_178952\", \"route_id\": \"11139\", \"service_hours\": 0.33, \"trip_first_departure_ts\": 25500, \"trip_last_arrival_ts\": 26700, \"departure_hour\": 7, \"time_of_day\": \"AM Peak\", \"p25\": 0.33, \"p50\": 0.37, \"p75\": 0.37, \"p50_trip\": 0, \"fastest_trip\": 0, \"car_duration_hours\": 0.29, \"competitive_route\": 1, \"bus_multiplier\": 1.14, \"bus_difference\": 2.4, \"num_trips\": 11, \"num_competitive\": 11, \"pct_trips_competitive\": 1.0, \"bus_difference_spread\": 2.4, \"route_group\": \"short\", \"max_trip_hrs\": 0.37, \"max_trip_route_group\": 0.37, \"below_cutoff\": 11, \"pct_below_cutoff\": 1.0, \"calitp_agency_name\": \"Ventura County Transportation Commission\", \"caltrans_district\": \"07 - Los Angeles\", \"route_name\": \"Fillmore Loop\", \"route_short_name\": null, \"route_id2\": \"11139\", \"cutoff2\": 20, \"cutoff\": 0}, {\"calitp_itp_id\": 380, \"trip_key\": -3460051913666472011, \"trip_id\": \"t_307279_b_30295_tn_0\", \"shape_id\": \"p_178952\", \"route_id\": \"11139\", \"service_hours\": 0.33, \"trip_first_departure_ts\": 49200, \"trip_last_arrival_ts\": 50400, \"departure_hour\": 13, \"time_of_day\": \"Midday\", \"p25\": 0.33, \"p50\": 0.37, \"p75\": 0.37, \"p50_trip\": 0, \"fastest_trip\": 0, \"car_duration_hours\": 0.29, \"competitive_route\": 1, \"bus_multiplier\": 1.14, \"bus_difference\": 2.4, \"num_trips\": 11, \"num_competitive\": 11, \"pct_trips_competitive\": 1.0, \"bus_difference_spread\": 2.4, \"route_group\": \"short\", \"max_trip_hrs\": 0.37, \"max_trip_route_group\": 0.37, \"below_cutoff\": 11, \"pct_below_cutoff\": 1.0, \"calitp_agency_name\": \"Ventura County Transportation Commission\", \"caltrans_district\": \"07 - Los Angeles\", \"route_name\": \"Fillmore Loop\", \"route_short_name\": null, \"route_id2\": \"11139\", \"cutoff2\": 20, \"cutoff\": 0}, {\"calitp_itp_id\": 380, \"trip_key\": 7070557894075735759, \"trip_id\": \"t_307288_b_30295_tn_0\", \"shape_id\": \"p_178954\", \"route_id\": \"11139\", \"service_hours\": 0.33, \"trip_first_departure_ts\": 52800, \"trip_last_arrival_ts\": 54000, \"departure_hour\": 14, \"time_of_day\": \"Midday\", \"p25\": 0.33, \"p50\": 0.37, \"p75\": 0.37, \"p50_trip\": 0, \"fastest_trip\": 1, \"car_duration_hours\": 0.29, \"competitive_route\": 1, \"bus_multiplier\": 1.14, \"bus_difference\": 2.4, \"num_trips\": 11, \"num_competitive\": 11, \"pct_trips_competitive\": 1.0, \"bus_difference_spread\": 2.4, \"route_group\": \"short\", \"max_trip_hrs\": 0.37, \"max_trip_route_group\": 0.37, \"below_cutoff\": 11, \"pct_below_cutoff\": 1.0, \"calitp_agency_name\": \"Ventura County Transportation Commission\", \"caltrans_district\": \"07 - Los Angeles\", \"route_name\": \"Fillmore Loop\", \"route_short_name\": null, \"route_id2\": \"11139\", \"cutoff2\": 20, \"cutoff\": 0}, {\"calitp_itp_id\": 380, \"trip_key\": 4508689171225940194, \"trip_id\": \"t_307280_b_30295_tn_0\", \"shape_id\": \"p_178953\", \"route_id\": \"11139\", \"service_hours\": 0.37, \"trip_first_departure_ts\": 27000, \"trip_last_arrival_ts\": 28320, \"departure_hour\": 7, \"time_of_day\": \"AM Peak\", \"p25\": 0.33, \"p50\": 0.37, \"p75\": 0.37, \"p50_trip\": 1, \"fastest_trip\": 0, \"car_duration_hours\": 0.29, \"competitive_route\": 1, \"bus_multiplier\": 1.28, \"bus_difference\": 4.8, \"num_trips\": 11, \"num_competitive\": 11, \"pct_trips_competitive\": 1.0, \"bus_difference_spread\": 2.4, \"route_group\": \"short\", \"max_trip_hrs\": 0.37, \"max_trip_route_group\": 0.37, \"below_cutoff\": 11, \"pct_below_cutoff\": 1.0, \"calitp_agency_name\": \"Ventura County Transportation Commission\", \"caltrans_district\": \"07 - Los Angeles\", \"route_name\": \"Fillmore Loop\", \"route_short_name\": null, \"route_id2\": \"11139\", \"cutoff2\": 20, \"cutoff\": 0}, {\"calitp_itp_id\": 380, \"trip_key\": 4200609986028506125, \"trip_id\": \"t_307285_b_30295_tn_0\", \"shape_id\": \"p_178955\", \"route_id\": \"11139\", \"service_hours\": 0.37, \"trip_first_departure_ts\": 43500, \"trip_last_arrival_ts\": 44820, \"departure_hour\": 12, \"time_of_day\": \"Midday\", \"p25\": 0.33, \"p50\": 0.37, \"p75\": 0.37, \"p50_trip\": 1, \"fastest_trip\": 0, \"car_duration_hours\": 0.29, \"competitive_route\": 1, \"bus_multiplier\": 1.28, \"bus_difference\": 4.8, \"num_trips\": 11, \"num_competitive\": 11, \"pct_trips_competitive\": 1.0, \"bus_difference_spread\": 2.4, \"route_group\": \"short\", \"max_trip_hrs\": 0.37, \"max_trip_route_group\": 0.37, \"below_cutoff\": 11, \"pct_below_cutoff\": 1.0, \"calitp_agency_name\": \"Ventura County Transportation Commission\", \"caltrans_district\": \"07 - Los Angeles\", \"route_name\": \"Fillmore Loop\", \"route_short_name\": null, \"route_id2\": \"11139\", \"cutoff2\": 20, \"cutoff\": 0}, {\"calitp_itp_id\": 380, \"trip_key\": 7876117558541659199, \"trip_id\": \"t_307287_b_30295_tn_0\", \"shape_id\": \"p_178953\", \"route_id\": \"11139\", \"service_hours\": 0.37, \"trip_first_departure_ts\": 51000, \"trip_last_arrival_ts\": 52320, \"departure_hour\": 14, \"time_of_day\": \"Midday\", \"p25\": 0.33, \"p50\": 0.37, \"p75\": 0.37, \"p50_trip\": 1, \"fastest_trip\": 0, \"car_duration_hours\": 0.29, \"competitive_route\": 1, \"bus_multiplier\": 1.28, \"bus_difference\": 4.8, \"num_trips\": 11, \"num_competitive\": 11, \"pct_trips_competitive\": 1.0, \"bus_difference_spread\": 2.4, \"route_group\": \"short\", \"max_trip_hrs\": 0.37, \"max_trip_route_group\": 0.37, \"below_cutoff\": 11, \"pct_below_cutoff\": 1.0, \"calitp_agency_name\": \"Ventura County Transportation Commission\", \"caltrans_district\": \"07 - Los Angeles\", \"route_name\": \"Fillmore Loop\", \"route_short_name\": null, \"route_id2\": \"11139\", \"cutoff2\": 20, \"cutoff\": 0}, {\"calitp_itp_id\": 380, \"trip_key\": -8936707200309142372, \"trip_id\": \"t_307284_b_30295_tn_0\", \"shape_id\": \"p_178955\", \"route_id\": \"11139\", \"service_hours\": 0.37, \"trip_first_departure_ts\": 36900, \"trip_last_arrival_ts\": 38220, \"departure_hour\": 10, \"time_of_day\": \"Midday\", \"p25\": 0.33, \"p50\": 0.37, \"p75\": 0.37, \"p50_trip\": 1, \"fastest_trip\": 0, \"car_duration_hours\": 0.29, \"competitive_route\": 1, \"bus_multiplier\": 1.28, \"bus_difference\": 4.8, \"num_trips\": 11, \"num_competitive\": 11, \"pct_trips_competitive\": 1.0, \"bus_difference_spread\": 2.4, \"route_group\": \"short\", \"max_trip_hrs\": 0.37, \"max_trip_route_group\": 0.37, \"below_cutoff\": 11, \"pct_below_cutoff\": 1.0, \"calitp_agency_name\": \"Ventura County Transportation Commission\", \"caltrans_district\": \"07 - Los Angeles\", \"route_name\": \"Fillmore Loop\", \"route_short_name\": null, \"route_id2\": \"11139\", \"cutoff2\": 20, \"cutoff\": 0}, {\"calitp_itp_id\": 380, \"trip_key\": -6003544487301739559, \"trip_id\": \"t_307281_b_30295_tn_0\", \"shape_id\": \"p_178953\", \"route_id\": \"11139\", \"service_hours\": 0.37, \"trip_first_departure_ts\": 54600, \"trip_last_arrival_ts\": 55920, \"departure_hour\": 15, \"time_of_day\": \"Midday\", \"p25\": 0.33, \"p50\": 0.37, \"p75\": 0.37, \"p50_trip\": 1, \"fastest_trip\": 0, \"car_duration_hours\": 0.29, \"competitive_route\": 1, \"bus_multiplier\": 1.28, \"bus_difference\": 4.8, \"num_trips\": 11, \"num_competitive\": 11, \"pct_trips_competitive\": 1.0, \"bus_difference_spread\": 2.4, \"route_group\": \"short\", \"max_trip_hrs\": 0.37, \"max_trip_route_group\": 0.37, \"below_cutoff\": 11, \"pct_below_cutoff\": 1.0, \"calitp_agency_name\": \"Ventura County Transportation Commission\", \"caltrans_district\": \"07 - Los Angeles\", \"route_name\": \"Fillmore Loop\", \"route_short_name\": null, \"route_id2\": \"11139\", \"cutoff2\": 20, \"cutoff\": 0}, {\"calitp_itp_id\": 380, \"trip_key\": -7155707871353330728, \"trip_id\": \"t_307283_b_30295_tn_0\", \"shape_id\": \"p_178953\", \"route_id\": \"11139\", \"service_hours\": 0.37, \"trip_first_departure_ts\": 30000, \"trip_last_arrival_ts\": 31320, \"departure_hour\": 8, \"time_of_day\": \"AM Peak\", \"p25\": 0.33, \"p50\": 0.37, \"p75\": 0.37, \"p50_trip\": 1, \"fastest_trip\": 0, \"car_duration_hours\": 0.29, \"competitive_route\": 1, \"bus_multiplier\": 1.28, \"bus_difference\": 4.8, \"num_trips\": 11, \"num_competitive\": 11, \"pct_trips_competitive\": 1.0, \"bus_difference_spread\": 2.4, \"route_group\": \"short\", \"max_trip_hrs\": 0.37, \"max_trip_route_group\": 0.37, \"below_cutoff\": 11, \"pct_below_cutoff\": 1.0, \"calitp_agency_name\": \"Ventura County Transportation Commission\", \"caltrans_district\": \"07 - Los Angeles\", \"route_name\": \"Fillmore Loop\", \"route_short_name\": null, \"route_id2\": \"11139\", \"cutoff2\": 20, \"cutoff\": 0}, {\"calitp_itp_id\": 380, \"trip_key\": -2602595746946625154, \"trip_id\": \"t_307286_b_30295_tn_0\", \"shape_id\": \"p_178955\", \"route_id\": \"11139\", \"service_hours\": 0.37, \"trip_first_departure_ts\": 58500, \"trip_last_arrival_ts\": 59820, \"departure_hour\": 16, \"time_of_day\": \"Midday\", \"p25\": 0.33, \"p50\": 0.37, \"p75\": 0.37, \"p50_trip\": 1, \"fastest_trip\": 0, \"car_duration_hours\": 0.29, \"competitive_route\": 1, \"bus_multiplier\": 1.28, \"bus_difference\": 4.8, \"num_trips\": 11, \"num_competitive\": 11, \"pct_trips_competitive\": 1.0, \"bus_difference_spread\": 2.4, \"route_group\": \"short\", \"max_trip_hrs\": 0.37, \"max_trip_route_group\": 0.37, \"below_cutoff\": 11, \"pct_below_cutoff\": 1.0, \"calitp_agency_name\": \"Ventura County Transportation Commission\", \"caltrans_district\": \"07 - Los Angeles\", \"route_name\": \"Fillmore Loop\", \"route_short_name\": null, \"route_id2\": \"11139\", \"cutoff2\": 20, \"cutoff\": 0}, {\"calitp_itp_id\": 380, \"trip_key\": -3477482100020460775, \"trip_id\": \"t_307302_b_30295_tn_0\", \"shape_id\": \"p_178957\", \"route_id\": \"11140\", \"service_hours\": 0.5, \"trip_first_departure_ts\": 60900, \"trip_last_arrival_ts\": 62700, \"departure_hour\": 16, \"time_of_day\": \"Midday\", \"p25\": 0.5, \"p50\": 0.5, \"p75\": 0.5, \"p50_trip\": 1, \"fastest_trip\": 0, \"car_duration_hours\": 0.43, \"competitive_route\": 1, \"bus_multiplier\": 1.16, \"bus_difference\": 4.2, \"num_trips\": 14, \"num_competitive\": 14, \"pct_trips_competitive\": 1.0, \"bus_difference_spread\": 7.8, \"route_group\": \"short\", \"max_trip_hrs\": 0.63, \"max_trip_route_group\": 0.63, \"below_cutoff\": 14, \"pct_below_cutoff\": 1.0, \"calitp_agency_name\": \"Ventura County Transportation Commission\", \"caltrans_district\": \"07 - Los Angeles\", \"route_name\": \"Piru Loop\", \"route_short_name\": null, \"route_id2\": \"11140\", \"cutoff2\": 20, \"cutoff\": 0}, {\"calitp_itp_id\": 380, \"trip_key\": 5998133417845239126, \"trip_id\": \"t_307298_b_30295_tn_0\", \"shape_id\": \"p_178956\", \"route_id\": \"11140\", \"service_hours\": 0.5, \"trip_first_departure_ts\": 47100, \"trip_last_arrival_ts\": 48900, \"departure_hour\": 13, \"time_of_day\": \"Midday\", \"p25\": 0.5, \"p50\": 0.5, \"p75\": 0.5, \"p50_trip\": 1, \"fastest_trip\": 0, \"car_duration_hours\": 0.43, \"competitive_route\": 1, \"bus_multiplier\": 1.16, \"bus_difference\": 4.2, \"num_trips\": 14, \"num_competitive\": 14, \"pct_trips_competitive\": 1.0, \"bus_difference_spread\": 7.8, \"route_group\": \"short\", \"max_trip_hrs\": 0.63, \"max_trip_route_group\": 0.63, \"below_cutoff\": 14, \"pct_below_cutoff\": 1.0, \"calitp_agency_name\": \"Ventura County Transportation Commission\", \"caltrans_district\": \"07 - Los Angeles\", \"route_name\": \"Piru Loop\", \"route_short_name\": null, \"route_id2\": \"11140\", \"cutoff2\": 20, \"cutoff\": 0}, {\"calitp_itp_id\": 380, \"trip_key\": 8379173051858602009, \"trip_id\": \"t_307303_b_30295_tn_0\", \"shape_id\": \"p_178957\", \"route_id\": \"11140\", \"service_hours\": 0.5, \"trip_first_departure_ts\": 63000, \"trip_last_arrival_ts\": 64800, \"departure_hour\": 17, \"time_of_day\": \"PM Peak\", \"p25\": 0.5, \"p50\": 0.5, \"p75\": 0.5, \"p50_trip\": 1, \"fastest_trip\": 0, \"car_duration_hours\": 0.43, \"competitive_route\": 1, \"bus_multiplier\": 1.16, \"bus_difference\": 4.2, \"num_trips\": 14, \"num_competitive\": 14, \"pct_trips_competitive\": 1.0, \"bus_difference_spread\": 7.8, \"route_group\": \"short\", \"max_trip_hrs\": 0.63, \"max_trip_route_group\": 0.63, \"below_cutoff\": 14, \"pct_below_cutoff\": 1.0, \"calitp_agency_name\": \"Ventura County Transportation Commission\", \"caltrans_district\": \"07 - Los Angeles\", \"route_name\": \"Piru Loop\", \"route_short_name\": null, \"route_id2\": \"11140\", \"cutoff2\": 20, \"cutoff\": 0}, {\"calitp_itp_id\": 380, \"trip_key\": -999493374566243572, \"trip_id\": \"t_307297_b_30295_tn_0\", \"shape_id\": \"p_178957\", \"route_id\": \"11140\", \"service_hours\": 0.5, \"trip_first_departure_ts\": 40200, \"trip_last_arrival_ts\": 42000, \"departure_hour\": 11, \"time_of_day\": \"Midday\", \"p25\": 0.5, \"p50\": 0.5, \"p75\": 0.5, \"p50_trip\": 1, \"fastest_trip\": 0, \"car_duration_hours\": 0.43, \"competitive_route\": 1, \"bus_multiplier\": 1.16, \"bus_difference\": 4.2, \"num_trips\": 14, \"num_competitive\": 14, \"pct_trips_competitive\": 1.0, \"bus_difference_spread\": 7.8, \"route_group\": \"short\", \"max_trip_hrs\": 0.63, \"max_trip_route_group\": 0.63, \"below_cutoff\": 14, \"pct_below_cutoff\": 1.0, \"calitp_agency_name\": \"Ventura County Transportation Commission\", \"caltrans_district\": \"07 - Los Angeles\", \"route_name\": \"Piru Loop\", \"route_short_name\": null, \"route_id2\": \"11140\", \"cutoff2\": 20, \"cutoff\": 0}, {\"calitp_itp_id\": 380, \"trip_key\": 4887046062152755978, \"trip_id\": \"t_307293_b_30295_tn_0\", \"shape_id\": \"p_178957\", \"route_id\": \"11140\", \"service_hours\": 0.5, \"trip_first_departure_ts\": 27900, \"trip_last_arrival_ts\": 29700, \"departure_hour\": 7, \"time_of_day\": \"AM Peak\", \"p25\": 0.5, \"p50\": 0.5, \"p75\": 0.5, \"p50_trip\": 1, \"fastest_trip\": 0, \"car_duration_hours\": 0.43, \"competitive_route\": 1, \"bus_multiplier\": 1.16, \"bus_difference\": 4.2, \"num_trips\": 14, \"num_competitive\": 14, \"pct_trips_competitive\": 1.0, \"bus_difference_spread\": 7.8, \"route_group\": \"short\", \"max_trip_hrs\": 0.63, \"max_trip_route_group\": 0.63, \"below_cutoff\": 14, \"pct_below_cutoff\": 1.0, \"calitp_agency_name\": \"Ventura County Transportation Commission\", \"caltrans_district\": \"07 - Los Angeles\", \"route_name\": \"Piru Loop\", \"route_short_name\": null, \"route_id2\": \"11140\", \"cutoff2\": 20, \"cutoff\": 0}, {\"calitp_itp_id\": 380, \"trip_key\": -3501895880367513749, \"trip_id\": \"t_307295_b_30295_tn_0\", \"shape_id\": \"p_178957\", \"route_id\": \"11140\", \"service_hours\": 0.5, \"trip_first_departure_ts\": 32400, \"trip_last_arrival_ts\": 34200, \"departure_hour\": 9, \"time_of_day\": \"AM Peak\", \"p25\": 0.5, \"p50\": 0.5, \"p75\": 0.5, \"p50_trip\": 1, \"fastest_trip\": 0, \"car_duration_hours\": 0.43, \"competitive_route\": 1, \"bus_multiplier\": 1.16, \"bus_difference\": 4.2, \"num_trips\": 14, \"num_competitive\": 14, \"pct_trips_competitive\": 1.0, \"bus_difference_spread\": 7.8, \"route_group\": \"short\", \"max_trip_hrs\": 0.63, \"max_trip_route_group\": 0.63, \"below_cutoff\": 14, \"pct_below_cutoff\": 1.0, \"calitp_agency_name\": \"Ventura County Transportation Commission\", \"caltrans_district\": \"07 - Los Angeles\", \"route_name\": \"Piru Loop\", \"route_short_name\": null, \"route_id2\": \"11140\", \"cutoff2\": 20, \"cutoff\": 0}, {\"calitp_itp_id\": 380, \"trip_key\": 549089932881538247, \"trip_id\": \"t_307299_b_30295_tn_0\", \"shape_id\": \"p_178957\", \"route_id\": \"11140\", \"service_hours\": 0.5, \"trip_first_departure_ts\": 51300, \"trip_last_arrival_ts\": 53100, \"departure_hour\": 14, \"time_of_day\": \"Midday\", \"p25\": 0.5, \"p50\": 0.5, \"p75\": 0.5, \"p50_trip\": 1, \"fastest_trip\": 0, \"car_duration_hours\": 0.43, \"competitive_route\": 1, \"bus_multiplier\": 1.16, \"bus_difference\": 4.2, \"num_trips\": 14, \"num_competitive\": 14, \"pct_trips_competitive\": 1.0, \"bus_difference_spread\": 7.8, \"route_group\": \"short\", \"max_trip_hrs\": 0.63, \"max_trip_route_group\": 0.63, \"below_cutoff\": 14, \"pct_below_cutoff\": 1.0, \"calitp_agency_name\": \"Ventura County Transportation Commission\", \"caltrans_district\": \"07 - Los Angeles\", \"route_name\": \"Piru Loop\", \"route_short_name\": null, \"route_id2\": \"11140\", \"cutoff2\": 20, \"cutoff\": 0}, {\"calitp_itp_id\": 380, \"trip_key\": 8488478320970216414, \"trip_id\": \"t_307301_b_30295_tn_0\", \"shape_id\": \"p_178956\", \"route_id\": \"11140\", \"service_hours\": 0.5, \"trip_first_departure_ts\": 58500, \"trip_last_arrival_ts\": 60300, \"departure_hour\": 16, \"time_of_day\": \"Midday\", \"p25\": 0.5, \"p50\": 0.5, \"p75\": 0.5, \"p50_trip\": 1, \"fastest_trip\": 0, \"car_duration_hours\": 0.43, \"competitive_route\": 1, \"bus_multiplier\": 1.16, \"bus_difference\": 4.2, \"num_trips\": 14, \"num_competitive\": 14, \"pct_trips_competitive\": 1.0, \"bus_difference_spread\": 7.8, \"route_group\": \"short\", \"max_trip_hrs\": 0.63, \"max_trip_route_group\": 0.63, \"below_cutoff\": 14, \"pct_below_cutoff\": 1.0, \"calitp_agency_name\": \"Ventura County Transportation Commission\", \"caltrans_district\": \"07 - Los Angeles\", \"route_name\": \"Piru Loop\", \"route_short_name\": null, \"route_id2\": \"11140\", \"cutoff2\": 20, \"cutoff\": 0}, {\"calitp_itp_id\": 380, \"trip_key\": 7986467915879191184, \"trip_id\": \"t_307304_b_30295_tn_0\", \"shape_id\": \"p_178956\", \"route_id\": \"11140\", \"service_hours\": 0.5, \"trip_first_departure_ts\": 69300, \"trip_last_arrival_ts\": 71100, \"departure_hour\": 19, \"time_of_day\": \"PM Peak\", \"p25\": 0.5, \"p50\": 0.5, \"p75\": 0.5, \"p50_trip\": 1, \"fastest_trip\": 1, \"car_duration_hours\": 0.43, \"competitive_route\": 1, \"bus_multiplier\": 1.16, \"bus_difference\": 4.2, \"num_trips\": 14, \"num_competitive\": 14, \"pct_trips_competitive\": 1.0, \"bus_difference_spread\": 7.8, \"route_group\": \"short\", \"max_trip_hrs\": 0.63, \"max_trip_route_group\": 0.63, \"below_cutoff\": 14, \"pct_below_cutoff\": 1.0, \"calitp_agency_name\": \"Ventura County Transportation Commission\", \"caltrans_district\": \"07 - Los Angeles\", \"route_name\": \"Piru Loop\", \"route_short_name\": null, \"route_id2\": \"11140\", \"cutoff2\": 20, \"cutoff\": 0}, {\"calitp_itp_id\": 380, \"trip_key\": 8246410718931094211, \"trip_id\": \"t_307294_b_30295_tn_0\", \"shape_id\": \"p_178957\", \"route_id\": \"11140\", \"service_hours\": 0.5, \"trip_first_departure_ts\": 30000, \"trip_last_arrival_ts\": 31800, \"departure_hour\": 8, \"time_of_day\": \"AM Peak\", \"p25\": 0.5, \"p50\": 0.5, \"p75\": 0.5, \"p50_trip\": 1, \"fastest_trip\": 0, \"car_duration_hours\": 0.43, \"competitive_route\": 1, \"bus_multiplier\": 1.16, \"bus_difference\": 4.2, \"num_trips\": 14, \"num_competitive\": 14, \"pct_trips_competitive\": 1.0, \"bus_difference_spread\": 7.8, \"route_group\": \"short\", \"max_trip_hrs\": 0.63, \"max_trip_route_group\": 0.63, \"below_cutoff\": 14, \"pct_below_cutoff\": 1.0, \"calitp_agency_name\": \"Ventura County Transportation Commission\", \"caltrans_district\": \"07 - Los Angeles\", \"route_name\": \"Piru Loop\", \"route_short_name\": null, \"route_id2\": \"11140\", \"cutoff2\": 20, \"cutoff\": 0}, {\"calitp_itp_id\": 380, \"trip_key\": 7863296115918132552, \"trip_id\": \"t_307296_b_30295_tn_0\", \"shape_id\": \"p_178957\", \"route_id\": \"11140\", \"service_hours\": 0.5, \"trip_first_departure_ts\": 36000, \"trip_last_arrival_ts\": 37800, \"departure_hour\": 10, \"time_of_day\": \"Midday\", \"p25\": 0.5, \"p50\": 0.5, \"p75\": 0.5, \"p50_trip\": 1, \"fastest_trip\": 0, \"car_duration_hours\": 0.43, \"competitive_route\": 1, \"bus_multiplier\": 1.16, \"bus_difference\": 4.2, \"num_trips\": 14, \"num_competitive\": 14, \"pct_trips_competitive\": 1.0, \"bus_difference_spread\": 7.8, \"route_group\": \"short\", \"max_trip_hrs\": 0.63, \"max_trip_route_group\": 0.63, \"below_cutoff\": 14, \"pct_below_cutoff\": 1.0, \"calitp_agency_name\": \"Ventura County Transportation Commission\", \"caltrans_district\": \"07 - Los Angeles\", \"route_name\": \"Piru Loop\", \"route_short_name\": null, \"route_id2\": \"11140\", \"cutoff2\": 20, \"cutoff\": 0}, {\"calitp_itp_id\": 380, \"trip_key\": 5105309313324600526, \"trip_id\": \"t_307290_b_30295_tn_0\", \"shape_id\": \"p_178956\", \"route_id\": \"11140\", \"service_hours\": 0.5, \"trip_first_departure_ts\": 22500, \"trip_last_arrival_ts\": 24300, \"departure_hour\": 6, \"time_of_day\": \"Owl Service\", \"p25\": 0.5, \"p50\": 0.5, \"p75\": 0.5, \"p50_trip\": 1, \"fastest_trip\": 0, \"car_duration_hours\": 0.43, \"competitive_route\": 1, \"bus_multiplier\": 1.16, \"bus_difference\": 4.2, \"num_trips\": 14, \"num_competitive\": 14, \"pct_trips_competitive\": 1.0, \"bus_difference_spread\": 7.8, \"route_group\": \"short\", \"max_trip_hrs\": 0.63, \"max_trip_route_group\": 0.63, \"below_cutoff\": 14, \"pct_below_cutoff\": 1.0, \"calitp_agency_name\": \"Ventura County Transportation Commission\", \"caltrans_district\": \"07 - Los Angeles\", \"route_name\": \"Piru Loop\", \"route_short_name\": null, \"route_id2\": \"11140\", \"cutoff2\": 20, \"cutoff\": 0}, {\"calitp_itp_id\": 380, \"trip_key\": -8910810402565523088, \"trip_id\": \"t_307291_b_30295_tn_0\", \"shape_id\": \"p_178958\", \"route_id\": \"11140\", \"service_hours\": 0.6, \"trip_first_departure_ts\": 24900, \"trip_last_arrival_ts\": 27060, \"departure_hour\": 6, \"time_of_day\": \"Owl Service\", \"p25\": 0.5, \"p50\": 0.5, \"p75\": 0.5, \"p50_trip\": 0, \"fastest_trip\": 0, \"car_duration_hours\": 0.43, \"competitive_route\": 1, \"bus_multiplier\": 1.4, \"bus_difference\": 10.2, \"num_trips\": 14, \"num_competitive\": 14, \"pct_trips_competitive\": 1.0, \"bus_difference_spread\": 7.8, \"route_group\": \"short\", \"max_trip_hrs\": 0.63, \"max_trip_route_group\": 0.63, \"below_cutoff\": 14, \"pct_below_cutoff\": 1.0, \"calitp_agency_name\": \"Ventura County Transportation Commission\", \"caltrans_district\": \"07 - Los Angeles\", \"route_name\": \"Piru Loop\", \"route_short_name\": null, \"route_id2\": \"11140\", \"cutoff2\": 20, \"cutoff\": 0}, {\"calitp_itp_id\": 380, \"trip_key\": -2653389962220752619, \"trip_id\": \"t_307300_b_30295_tn_0\", \"shape_id\": \"p_178958\", \"route_id\": \"11140\", \"service_hours\": 0.63, \"trip_first_departure_ts\": 55500, \"trip_last_arrival_ts\": 57780, \"departure_hour\": 15, \"time_of_day\": \"Midday\", \"p25\": 0.5, \"p50\": 0.5, \"p75\": 0.5, \"p50_trip\": 0, \"fastest_trip\": 0, \"car_duration_hours\": 0.43, \"competitive_route\": 1, \"bus_multiplier\": 1.47, \"bus_difference\": 12.0, \"num_trips\": 14, \"num_competitive\": 14, \"pct_trips_competitive\": 1.0, \"bus_difference_spread\": 7.8, \"route_group\": \"short\", \"max_trip_hrs\": 0.63, \"max_trip_route_group\": 0.63, \"below_cutoff\": 14, \"pct_below_cutoff\": 1.0, \"calitp_agency_name\": \"Ventura County Transportation Commission\", \"caltrans_district\": \"07 - Los Angeles\", \"route_name\": \"Piru Loop\", \"route_short_name\": null, \"route_id2\": \"11140\", \"cutoff2\": 20, \"cutoff\": 0}]}}, {\"mode\": \"vega-lite\"});\n",
       "</script>"
      ],
      "text/plain": [
       "alt.FacetChart(...)"
      ]
     },
     "metadata": {},
     "output_type": "display_data"
    },
    {
     "name": "stdout",
     "output_type": "stream",
     "text": [
      "Fewer than 2 routes meet this criteria.\n"
     ]
    }
   ],
   "source": [
    "route_group = \"short\"\n",
    "try:\n",
    "    display_charts_for_route_group(df, route_group)\n",
    "except:\n",
    "    print(no_display_statement)"
   ]
  },
  {
   "cell_type": "markdown",
   "id": "c2931b6f-034d-4384-9e14-80b925e3b820",
   "metadata": {
    "papermill": {
     "duration": 0.018415,
     "end_time": "2022-06-03T20:50:41.104887",
     "exception": false,
     "start_time": "2022-06-03T20:50:41.086472",
     "status": "completed"
    },
    "tags": []
   },
   "source": [
    "### Medium Routes (1-1.5 hrs)"
   ]
  },
  {
   "cell_type": "code",
   "execution_count": 17,
   "id": "480edddc-4de0-48c2-ae4c-b0ceef8f28b5",
   "metadata": {
    "execution": {
     "iopub.execute_input": "2022-06-03T20:50:41.150402Z",
     "iopub.status.busy": "2022-06-03T20:50:41.150122Z",
     "iopub.status.idle": "2022-06-03T20:50:41.166206Z",
     "shell.execute_reply": "2022-06-03T20:50:41.165143Z"
    },
    "jupyter": {
     "source_hidden": true
    },
    "papermill": {
     "duration": 0.044243,
     "end_time": "2022-06-03T20:50:41.168898",
     "exception": false,
     "start_time": "2022-06-03T20:50:41.124655",
     "status": "completed"
    },
    "tags": [
     "remove_input"
    ]
   },
   "outputs": [
    {
     "name": "stdout",
     "output_type": "stream",
     "text": [
      "Fewer than 2 routes meet this criteria.\n"
     ]
    }
   ],
   "source": [
    "route_group = \"medium\"\n",
    "try:\n",
    "    display_charts_for_route_group(df, route_group)\n",
    "except:\n",
    "    print(no_display_statement)"
   ]
  },
  {
   "cell_type": "markdown",
   "id": "124b76d0-886c-4d03-92ac-f1bda3cda182",
   "metadata": {
    "papermill": {
     "duration": 0.01913,
     "end_time": "2022-06-03T20:50:41.208411",
     "exception": false,
     "start_time": "2022-06-03T20:50:41.189281",
     "status": "completed"
    },
    "tags": []
   },
   "source": [
    "### Long Routes (> 1.5 hrs)"
   ]
  },
  {
   "cell_type": "code",
   "execution_count": 18,
   "id": "ddc81b19-4c45-4c81-8b7a-5e0f394aa7a3",
   "metadata": {
    "execution": {
     "iopub.execute_input": "2022-06-03T20:50:41.253689Z",
     "iopub.status.busy": "2022-06-03T20:50:41.253139Z",
     "iopub.status.idle": "2022-06-03T20:50:41.269041Z",
     "shell.execute_reply": "2022-06-03T20:50:41.268207Z"
    },
    "jupyter": {
     "source_hidden": true
    },
    "papermill": {
     "duration": 0.04282,
     "end_time": "2022-06-03T20:50:41.270841",
     "exception": false,
     "start_time": "2022-06-03T20:50:41.228021",
     "status": "completed"
    },
    "tags": [
     "remove_input"
    ]
   },
   "outputs": [
    {
     "name": "stdout",
     "output_type": "stream",
     "text": [
      "Fewer than 2 routes meet this criteria.\n"
     ]
    }
   ],
   "source": [
    "route_group = \"long\"\n",
    "try:\n",
    "    display_charts_for_route_group(df, route_group)\n",
    "except:\n",
    "    print(no_display_statement)"
   ]
  },
  {
   "cell_type": "markdown",
   "id": "ace75b5f-0442-4fbe-aebd-6c3a13ae13a7",
   "metadata": {
    "papermill": {
     "duration": 0.018603,
     "end_time": "2022-06-03T20:50:41.309566",
     "exception": false,
     "start_time": "2022-06-03T20:50:41.290963",
     "status": "completed"
    },
    "tags": []
   },
   "source": [
    "### GTFS Real-Time Speedmaps"
   ]
  },
  {
   "cell_type": "code",
   "execution_count": 19,
   "id": "a0a114a1-e975-4027-9daf-50029f5ef59f",
   "metadata": {
    "execution": {
     "iopub.execute_input": "2022-06-03T20:50:41.357991Z",
     "iopub.status.busy": "2022-06-03T20:50:41.356823Z",
     "iopub.status.idle": "2022-06-03T20:50:41.385047Z",
     "shell.execute_reply": "2022-06-03T20:50:41.384021Z"
    },
    "jupyter": {
     "source_hidden": true
    },
    "papermill": {
     "duration": 0.05659,
     "end_time": "2022-06-03T20:50:41.387415",
     "exception": false,
     "start_time": "2022-06-03T20:50:41.330825",
     "status": "completed"
    },
    "tags": [
     "remove_input"
    ]
   },
   "outputs": [
    {
     "data": {
      "text/html": [
       "No GTFS RT data available."
      ],
      "text/plain": [
       "<IPython.core.display.HTML object>"
      ]
     },
     "metadata": {},
     "output_type": "display_data"
    }
   ],
   "source": [
    "RT_SITE_YAML = \"../portfolio/sites/rt.yml\"\n",
    "\n",
    "# Grab list of ITP IDs with GTFS RT speedmaps\n",
    "rt_itp_id = deploy_portfolio_yaml.check_if_rt_data_available(RT_SITE_YAML)\n",
    "\n",
    "# Construct the URL \n",
    "RT_URL = (\"https://analysis.calitp.org/rt/\"\n",
    "          f\"district_{district_number}-{district_name}/\"\n",
    "          f\"speedmaps__itp_id_{itp_id}.html\"\n",
    "         ) \n",
    "\n",
    "# If this ITP ID is found in RT analysis, give URL to that operator in analysis.calitp.org\n",
    "if itp_id in rt_itp_id:\n",
    "    display(HTML(f'''<a href={RT_URL}>GTFS RT speedmaps here.</a>'''))\n",
    "\n",
    "else:\n",
    "    display(HTML(\"No GTFS RT data available.\"))"
   ]
  },
  {
   "cell_type": "code",
   "execution_count": null,
   "id": "5b680565-2230-4f2e-817c-718fad48d64c",
   "metadata": {
    "jupyter": {
     "source_hidden": true
    },
    "papermill": {
     "duration": 0.021007,
     "end_time": "2022-06-03T20:50:41.430446",
     "exception": false,
     "start_time": "2022-06-03T20:50:41.409439",
     "status": "completed"
    },
    "tags": [
     "remove_input"
    ]
   },
   "outputs": [],
   "source": []
  }
 ],
 "metadata": {
  "kernelspec": {
   "display_name": "Python 3 (ipykernel)",
   "language": "python",
   "name": "python3"
  },
  "language_info": {
   "codemirror_mode": {
    "name": "ipython",
    "version": 3
   },
   "file_extension": ".py",
   "mimetype": "text/x-python",
   "name": "python",
   "nbconvert_exporter": "python",
   "pygments_lexer": "ipython3",
   "version": "3.9.12"
  },
  "papermill": {
   "default_parameters": {},
   "duration": 25.774524,
   "end_time": "2022-06-03T20:50:42.779795",
   "environment_variables": {},
   "exception": null,
   "input_path": "bus_service_increase/competitive-parallel-routes.ipynb",
   "output_path": "portfolio/parallel_corridors/district_07-los-angeles/14__competitive-parallel-routes__district_07-los-angeles__itp_id_380.ipynb",
   "parameters": {
    "district": "07 - Los Angeles",
    "itp_id": 380
   },
   "start_time": "2022-06-03T20:50:17.005271",
   "version": "2.3.4"
  }
 },
 "nbformat": 4,
 "nbformat_minor": 5
}