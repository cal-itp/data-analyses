{
 "cells": [
  {
   "cell_type": "code",
   "execution_count": 1,
   "id": "95d00857-6a20-4529-a519-2cc7182928a9",
   "metadata": {
    "execution": {
     "iopub.execute_input": "2022-05-07T17:29:45.161044Z",
     "iopub.status.busy": "2022-05-07T17:29:45.160066Z",
     "iopub.status.idle": "2022-05-07T17:29:53.395950Z",
     "shell.execute_reply": "2022-05-07T17:29:53.395295Z"
    },
    "jupyter": {
     "source_hidden": true
    },
    "papermill": {
     "duration": 8.252087,
     "end_time": "2022-05-07T17:29:53.398394",
     "exception": false,
     "start_time": "2022-05-07T17:29:45.146307",
     "status": "completed"
    },
    "tags": [
     "remove_input"
    ]
   },
   "outputs": [],
   "source": [
    "%%capture\n",
    "import warnings\n",
    "warnings.filterwarnings('ignore')\n",
    "\n",
    "import altair as alt\n",
    "import calitp.magics\n",
    "import geopandas as gpd\n",
    "import intake\n",
    "import pandas as pd\n",
    "\n",
    "from IPython.display import display, Markdown, HTML\n",
    "\n",
    "import parallel_corridors_utils\n",
    "from shared_utils import styleguide\n",
    "\n",
    "catalog = intake.open_catalog(\"./*.yml\")\n",
    "alt.renderers.enable(\"html\")"
   ]
  },
  {
   "cell_type": "code",
   "execution_count": 2,
   "id": "8af2a0c1-f3da-408d-9bea-11d9fbf8695d",
   "metadata": {
    "execution": {
     "iopub.execute_input": "2022-05-07T17:29:53.420888Z",
     "iopub.status.busy": "2022-05-07T17:29:53.420596Z",
     "iopub.status.idle": "2022-05-07T17:29:53.424563Z",
     "shell.execute_reply": "2022-05-07T17:29:53.423620Z"
    },
    "jupyter": {
     "source_hidden": true
    },
    "papermill": {
     "duration": 0.018039,
     "end_time": "2022-05-07T17:29:53.426729",
     "exception": false,
     "start_time": "2022-05-07T17:29:53.408690",
     "status": "completed"
    },
    "tags": [
     "parameters",
     "remove_input"
    ]
   },
   "outputs": [],
   "source": [
    "# parameters cell\n",
    "itp_id = 182"
   ]
  },
  {
   "cell_type": "code",
   "execution_count": 3,
   "id": "66765b61",
   "metadata": {
    "execution": {
     "iopub.execute_input": "2022-05-07T17:29:53.447587Z",
     "iopub.status.busy": "2022-05-07T17:29:53.447342Z",
     "iopub.status.idle": "2022-05-07T17:29:53.452232Z",
     "shell.execute_reply": "2022-05-07T17:29:53.451434Z"
    },
    "jupyter": {
     "source_hidden": true
    },
    "papermill": {
     "duration": 0.017571,
     "end_time": "2022-05-07T17:29:53.454150",
     "exception": false,
     "start_time": "2022-05-07T17:29:53.436579",
     "status": "completed"
    },
    "tags": [
     "injected-parameters",
     "remove_input"
    ]
   },
   "outputs": [],
   "source": [
    "# Parameters\n",
    "district = \"10 - Stockton\"\n",
    "itp_id = 168\n"
   ]
  },
  {
   "cell_type": "code",
   "execution_count": 4,
   "id": "9582aaf4-79ff-412a-b248-8d8d693ebd4f",
   "metadata": {
    "execution": {
     "iopub.execute_input": "2022-05-07T17:29:53.474504Z",
     "iopub.status.busy": "2022-05-07T17:29:53.473870Z",
     "iopub.status.idle": "2022-05-07T17:29:54.719263Z",
     "shell.execute_reply": "2022-05-07T17:29:54.718700Z"
    },
    "jupyter": {
     "source_hidden": true
    },
    "papermill": {
     "duration": 1.25795,
     "end_time": "2022-05-07T17:29:54.721413",
     "exception": false,
     "start_time": "2022-05-07T17:29:53.463463",
     "status": "completed"
    },
    "tags": [
     "remove_input"
    ]
   },
   "outputs": [],
   "source": [
    "df = catalog.competitive_route_variability.read()\n",
    "\n",
    "df = (df[(df.calitp_itp_id == itp_id) & \n",
    "         (df.route_group.notna())]\n",
    "      .reset_index(drop=True)\n",
    "     )\n",
    "\n",
    "\n",
    "if itp_id == 182:\n",
    "    df = df.assign(\n",
    "        route_id = df.route_id.str.replace('-13153', '').astype(int)\n",
    "    )"
   ]
  },
  {
   "cell_type": "code",
   "execution_count": 5,
   "id": "33ac4b06-f647-4dce-a625-8f2c1b37cc60",
   "metadata": {
    "execution": {
     "iopub.execute_input": "2022-05-07T17:29:54.744153Z",
     "iopub.status.busy": "2022-05-07T17:29:54.743164Z",
     "iopub.status.idle": "2022-05-07T17:29:54.750200Z",
     "shell.execute_reply": "2022-05-07T17:29:54.749371Z"
    },
    "jupyter": {
     "source_hidden": true
    },
    "papermill": {
     "duration": 0.020426,
     "end_time": "2022-05-07T17:29:54.751938",
     "exception": false,
     "start_time": "2022-05-07T17:29:54.731512",
     "status": "completed"
    },
    "tags": [
     "remove_input"
    ]
   },
   "outputs": [],
   "source": [
    "%%capture_parameters\n",
    "operator_name = df.name.iloc[0]\n",
    "\n",
    "itp_id, operator_name"
   ]
  },
  {
   "cell_type": "markdown",
   "id": "65bc6f5c-8348-42ee-b2dd-52057c406852",
   "metadata": {
    "papermill": {
     "duration": 0.009699,
     "end_time": "2022-05-07T17:29:54.771956",
     "exception": false,
     "start_time": "2022-05-07T17:29:54.762257",
     "status": "completed"
    },
    "tags": []
   },
   "source": [
    "# City of Lodi (ITP ID: 168)"
   ]
  },
  {
   "cell_type": "code",
   "execution_count": 6,
   "id": "a689c1ab-2c6c-4831-8d64-897f5986f571",
   "metadata": {
    "execution": {
     "iopub.execute_input": "2022-05-07T17:29:54.793124Z",
     "iopub.status.busy": "2022-05-07T17:29:54.792840Z",
     "iopub.status.idle": "2022-05-07T17:29:54.800881Z",
     "shell.execute_reply": "2022-05-07T17:29:54.800052Z"
    },
    "jupyter": {
     "source_hidden": true
    },
    "papermill": {
     "duration": 0.021182,
     "end_time": "2022-05-07T17:29:54.802873",
     "exception": false,
     "start_time": "2022-05-07T17:29:54.781691",
     "status": "completed"
    },
    "tags": [
     "remove_input"
    ]
   },
   "outputs": [
    {
     "data": {
      "text/html": [
       "<h1>Competitive & Parallel Routes</h1>"
      ],
      "text/plain": [
       "<IPython.core.display.HTML object>"
      ]
     },
     "metadata": {},
     "output_type": "display_data"
    }
   ],
   "source": [
    "display(HTML(\"<h1>Competitive & Parallel Routes</h1>\")) "
   ]
  },
  {
   "cell_type": "code",
   "execution_count": 7,
   "id": "2cb4d8d5-4760-40e4-85b1-cb833d8bb648",
   "metadata": {
    "execution": {
     "iopub.execute_input": "2022-05-07T17:29:54.830920Z",
     "iopub.status.busy": "2022-05-07T17:29:54.830337Z",
     "iopub.status.idle": "2022-05-07T17:30:04.788208Z",
     "shell.execute_reply": "2022-05-07T17:30:04.787609Z"
    },
    "jupyter": {
     "source_hidden": true
    },
    "papermill": {
     "duration": 9.972045,
     "end_time": "2022-05-07T17:30:04.790414",
     "exception": false,
     "start_time": "2022-05-07T17:29:54.818369",
     "status": "completed"
    },
    "tags": [
     "remove_input"
    ]
   },
   "outputs": [],
   "source": [
    "# Grab parameters for narrative text - clean up formatting here \n",
    "district = df.caltrans_district.iloc[0]\n",
    "formatted_date = pd.to_datetime(parallel_corridors_utils.SELECTED_DATE).strftime('%m-%d-%Y')\n",
    "\n",
    "PCT_COMPETITIVE_THRESHOLD = 0.75\n",
    "\n",
    "stats = parallel_corridors_utils.operator_parallel_competitive_stats(\n",
    "    itp_id, PCT_COMPETITIVE_THRESHOLD)\n",
    "\n",
    "pct_parallel = round(stats['parallel_routes'] / stats['num_routes'] * 100,1 )\n",
    "pct_competitive =  round(stats['competitive_routes'] / stats['num_routes'] * 100,1 )"
   ]
  },
  {
   "cell_type": "markdown",
   "id": "ab667928-5274-4490-82d9-4c39293209a4",
   "metadata": {
    "papermill": {
     "duration": 0.010556,
     "end_time": "2022-05-07T17:30:04.811837",
     "exception": false,
     "start_time": "2022-05-07T17:30:04.801281",
     "status": "completed"
    },
    "tags": []
   },
   "source": [
    "## Quick Stats"
   ]
  },
  {
   "cell_type": "code",
   "execution_count": 8,
   "id": "0416509d-dc62-4165-b62e-64f8b26e8b8e",
   "metadata": {
    "execution": {
     "iopub.execute_input": "2022-05-07T17:30:04.835623Z",
     "iopub.status.busy": "2022-05-07T17:30:04.834708Z",
     "iopub.status.idle": "2022-05-07T17:30:04.841000Z",
     "shell.execute_reply": "2022-05-07T17:30:04.840511Z"
    },
    "jupyter": {
     "source_hidden": true
    },
    "papermill": {
     "duration": 0.020075,
     "end_time": "2022-05-07T17:30:04.842632",
     "exception": false,
     "start_time": "2022-05-07T17:30:04.822557",
     "status": "completed"
    },
    "tags": [
     "remove_input"
    ]
   },
   "outputs": [
    {
     "data": {
      "text/markdown": [
       "**Bus routes in service**: 11 <br>**Parallel routes** to State Highway Network (SHN): 9 routes (81.8%)<br>**Competitive routes** against car travel: 7 routes (63.6%)"
      ],
      "text/plain": [
       "<IPython.core.display.Markdown object>"
      ]
     },
     "metadata": {},
     "output_type": "display_data"
    }
   ],
   "source": [
    "display(\n",
    "    Markdown(\n",
    "        f\"**Bus routes in service**: {stats['num_routes']} \"\n",
    "        \"<br>**Parallel routes** to State Highway Network (SHN): \"\n",
    "        f\"{stats['parallel_routes']} routes ({pct_parallel}%)\"\n",
    "        f\"<br>**Competitive routes** against car travel: {stats['competitive_routes']} routes ({pct_competitive}%)\"\n",
    "    )\n",
    ")"
   ]
  },
  {
   "cell_type": "code",
   "execution_count": 9,
   "id": "f9d6ab58-f0ee-460c-b6de-657490e1f386",
   "metadata": {
    "execution": {
     "iopub.execute_input": "2022-05-07T17:30:04.867401Z",
     "iopub.status.busy": "2022-05-07T17:30:04.866513Z",
     "iopub.status.idle": "2022-05-07T17:30:04.875982Z",
     "shell.execute_reply": "2022-05-07T17:30:04.875504Z"
    },
    "jupyter": {
     "source_hidden": true
    },
    "papermill": {
     "duration": 0.023575,
     "end_time": "2022-05-07T17:30:04.877626",
     "exception": false,
     "start_time": "2022-05-07T17:30:04.854051",
     "status": "completed"
    },
    "tags": [
     "remove_input"
    ]
   },
   "outputs": [],
   "source": [
    "def set_yaxis_range(df, y_col):\n",
    "    Y_MIN = df[y_col].min()\n",
    "    Y_MAX = df[y_col].max()\n",
    "    \n",
    "    return Y_MIN, Y_MAX\n",
    "\n",
    "# Rather than set it according to the operator, which can vary,\n",
    "# just use set thresholds for each group\n",
    "diff_cutoffs = {\n",
    "    \"short\": 20,\n",
    "    \"medium\": 30,\n",
    "    \"long\": 40,\n",
    "}\n",
    "\n",
    "PCT_TRIPS_BELOW_CUTOFF = 0.25\n",
    "\n",
    "def top15_routes(df, route_group):\n",
    "    df2 = (df[df.route_group==route_group])\n",
    "    # Set a cut-off to enable sorting, where most of the trips are \n",
    "    # below a certain time difference cut-off, \n",
    "    # grab top 15 routes where majority of trips are below that cut-off \n",
    "\n",
    "    route_cols = [\"calitp_itp_id\", \"route_id\"]\n",
    "\n",
    "    df2 = df2.assign(\n",
    "        below_cutoff = df2.apply(lambda x: 1 if x.bus_difference <= diff_cutoffs[route_group] \n",
    "                                 else 0, axis=1),\n",
    "        num_trips = df2.groupby(route_cols)[\"trip_id\"].transform(\"count\")\n",
    "    )\n",
    "\n",
    "    df2[\"below_cutoff\"] = df2.groupby(route_cols)[\"below_cutoff\"].transform(\"sum\")\n",
    "    df2[\"pct_below_cutoff\"] = df2.below_cutoff.divide(df2.num_trips)\n",
    "\n",
    "    # At least half the trips are below that cut-off\n",
    "    # but show 15 max, otherwise, show less, since these won't be as interesting to operators\n",
    "    df3 = (df2[df2.pct_below_cutoff >= PCT_TRIPS_BELOW_CUTOFF]\n",
    "           .sort_values([\"calitp_itp_id\", \"below_cutoff\", \n",
    "                         \"pct_below_cutoff\", \"route_id\"],\n",
    "                        ascending = [True, False, False, True]\n",
    "                       )\n",
    "           .drop_duplicates(subset=[\"calitp_itp_id\", \"route_id\"])\n",
    "          ).head(15)\n",
    "    \n",
    "    return list(df3.route_id)"
   ]
  },
  {
   "cell_type": "code",
   "execution_count": 10,
   "id": "cf36d559-3349-4144-8086-8ac9ce937a5a",
   "metadata": {
    "execution": {
     "iopub.execute_input": "2022-05-07T17:30:04.908975Z",
     "iopub.status.busy": "2022-05-07T17:30:04.901373Z",
     "iopub.status.idle": "2022-05-07T17:30:04.919424Z",
     "shell.execute_reply": "2022-05-07T17:30:04.918107Z"
    },
    "jupyter": {
     "source_hidden": true
    },
    "papermill": {
     "duration": 0.033101,
     "end_time": "2022-05-07T17:30:04.922162",
     "exception": false,
     "start_time": "2022-05-07T17:30:04.889061",
     "status": "completed"
    },
    "tags": [
     "remove_input"
    ]
   },
   "outputs": [],
   "source": [
    "short_caption = (\n",
    "    f\"<br>These are routes that have at least {int(PCT_TRIPS_BELOW_CUTOFF*100)}% of their trips \"\n",
    "    f\"take no more than an additional {diff_cutoffs['short']} min compared to a car \"\n",
    "    \"(up to 15 routes) are shown.\"\n",
    ")\n",
    "\n",
    "med_caption = (\n",
    "    f\"<br>These are routes that have at least {int(PCT_TRIPS_BELOW_CUTOFF*100)}% of their trips \"\n",
    "    f\"take no more than an additional {diff_cutoffs['medium']} min compared to a car \"\n",
    "    \"(up to 15 routes) are shown.\"\n",
    ")\n",
    "\n",
    "long_caption = (\n",
    "    f\"<br>These are routes that have at least {int(PCT_TRIPS_BELOW_CUTOFF*100)}% of their trips \"\n",
    "    f\"take no more than an additional {diff_cutoffs['long']} min compared to a car \"\n",
    "    \"(up to 15 routes) are shown.\")\n",
    "\n",
    "\n",
    "CAPTIONS_DICT = {\n",
    "    \"short\": short_caption,\n",
    "    \"medium\": med_caption,\n",
    "    \"long\": long_caption,\n",
    "}"
   ]
  },
  {
   "cell_type": "code",
   "execution_count": 11,
   "id": "e4306d58-6944-47e9-afef-5d5b524c751f",
   "metadata": {
    "execution": {
     "iopub.execute_input": "2022-05-07T17:30:04.947791Z",
     "iopub.status.busy": "2022-05-07T17:30:04.947128Z",
     "iopub.status.idle": "2022-05-07T17:30:04.954053Z",
     "shell.execute_reply": "2022-05-07T17:30:04.953533Z"
    },
    "jupyter": {
     "source_hidden": true
    },
    "papermill": {
     "duration": 0.023247,
     "end_time": "2022-05-07T17:30:04.957713",
     "exception": false,
     "start_time": "2022-05-07T17:30:04.934466",
     "status": "completed"
    },
    "tags": [
     "remove_input"
    ]
   },
   "outputs": [],
   "source": [
    "def setup_charts(df, PCT_COMPETITIVE_THRESHOLD, route_group):\n",
    "    # Set up df for charting (cut-off at some threshold to show most competitive routes)\n",
    "    plot_me = (df[df.pct_trips_competitive > PCT_COMPETITIVE_THRESHOLD]\n",
    "           .drop(columns = \"geometry\")\n",
    "    )\n",
    "    \n",
    "    y_col1 = \"bus_multiplier\"\n",
    "    Y_MIN1, Y_MAX1 = set_yaxis_range(plot_me, y_col1)\n",
    "\n",
    "    y_col2 = \"bus_difference\"\n",
    "    Y_MIN2, Y_MAX2 = set_yaxis_range(plot_me, y_col2)\n",
    "     \n",
    "    subset_routes = top15_routes(plot_me, route_group)\n",
    "    \n",
    "    multiplier_chart = parallel_corridors_utils.make_stripplot(\n",
    "        plot_me[plot_me.route_id.isin(subset_routes)], \n",
    "        y_col1, Y_MIN = Y_MIN1, Y_MAX = Y_MAX1\n",
    "    )\n",
    "    \n",
    "    difference_chart = parallel_corridors_utils.make_stripplot(\n",
    "        plot_me[plot_me.route_id.isin(subset_routes)], \n",
    "        y_col2, Y_MIN = Y_MIN2, Y_MAX = Y_MAX2\n",
    "    )\n",
    "    \n",
    "    return subset_routes, multiplier_chart, difference_chart            "
   ]
  },
  {
   "cell_type": "markdown",
   "id": "525f9b38-072b-46d1-96a8-1aa4b038357c",
   "metadata": {
    "papermill": {
     "duration": 0.012115,
     "end_time": "2022-05-07T17:30:04.986657",
     "exception": false,
     "start_time": "2022-05-07T17:30:04.974542",
     "status": "completed"
    },
    "tags": []
   },
   "source": [
    "## Viable Competitive Routes\n",
    "### Short Routes (< 1 hr)"
   ]
  },
  {
   "cell_type": "code",
   "execution_count": 12,
   "id": "57f7084c-2cf7-45c6-ba08-1609e0bd6ca5",
   "metadata": {
    "execution": {
     "iopub.execute_input": "2022-05-07T17:30:05.016844Z",
     "iopub.status.busy": "2022-05-07T17:30:05.016547Z",
     "iopub.status.idle": "2022-05-07T17:30:05.250249Z",
     "shell.execute_reply": "2022-05-07T17:30:05.249530Z"
    },
    "jupyter": {
     "source_hidden": true
    },
    "papermill": {
     "duration": 0.254342,
     "end_time": "2022-05-07T17:30:05.252137",
     "exception": false,
     "start_time": "2022-05-07T17:30:04.997795",
     "status": "completed"
    },
    "tags": [
     "remove_input"
    ]
   },
   "outputs": [
    {
     "data": {
      "text/markdown": [
       "<br>These are routes that have at least 25% of their trips take no more than an additional 20 min compared to a car (up to 15 routes) are shown.Within each route group, routes are sorted in descending order by % competitive trips and # trips below the additional time cut-off."
      ],
      "text/plain": [
       "<IPython.core.display.Markdown object>"
      ]
     },
     "metadata": {},
     "output_type": "display_data"
    },
    {
     "data": {
      "text/html": [
       "\n",
       "<div id=\"altair-viz-4b23e9c4bc644137899840fce08b431c\"></div>\n",
       "<script type=\"text/javascript\">\n",
       "  var VEGA_DEBUG = (typeof VEGA_DEBUG == \"undefined\") ? {} : VEGA_DEBUG;\n",
       "  (function(spec, embedOpt){\n",
       "    let outputDiv = document.currentScript.previousElementSibling;\n",
       "    if (outputDiv.id !== \"altair-viz-4b23e9c4bc644137899840fce08b431c\") {\n",
       "      outputDiv = document.getElementById(\"altair-viz-4b23e9c4bc644137899840fce08b431c\");\n",
       "    }\n",
       "    const paths = {\n",
       "      \"vega\": \"https://cdn.jsdelivr.net/npm//vega@5?noext\",\n",
       "      \"vega-lib\": \"https://cdn.jsdelivr.net/npm//vega-lib?noext\",\n",
       "      \"vega-lite\": \"https://cdn.jsdelivr.net/npm//vega-lite@4.17.0?noext\",\n",
       "      \"vega-embed\": \"https://cdn.jsdelivr.net/npm//vega-embed@6?noext\",\n",
       "    };\n",
       "\n",
       "    function maybeLoadScript(lib, version) {\n",
       "      var key = `${lib.replace(\"-\", \"\")}_version`;\n",
       "      return (VEGA_DEBUG[key] == version) ?\n",
       "        Promise.resolve(paths[lib]) :\n",
       "        new Promise(function(resolve, reject) {\n",
       "          var s = document.createElement('script');\n",
       "          document.getElementsByTagName(\"head\")[0].appendChild(s);\n",
       "          s.async = true;\n",
       "          s.onload = () => {\n",
       "            VEGA_DEBUG[key] = version;\n",
       "            return resolve(paths[lib]);\n",
       "          };\n",
       "          s.onerror = () => reject(`Error loading script: ${paths[lib]}`);\n",
       "          s.src = paths[lib];\n",
       "        });\n",
       "    }\n",
       "\n",
       "    function showError(err) {\n",
       "      outputDiv.innerHTML = `<div class=\"error\" style=\"color:red;\">${err}</div>`;\n",
       "      throw err;\n",
       "    }\n",
       "\n",
       "    function displayChart(vegaEmbed) {\n",
       "      vegaEmbed(outputDiv, spec, embedOpt)\n",
       "        .catch(err => showError(`Javascript Error: ${err.message}<br>This usually means there's a typo in your chart specification. See the javascript console for the full traceback.`));\n",
       "    }\n",
       "\n",
       "    if(typeof define === \"function\" && define.amd) {\n",
       "      requirejs.config({paths});\n",
       "      require([\"vega-embed\"], displayChart, err => showError(`Error loading script: ${err.message}`));\n",
       "    } else {\n",
       "      maybeLoadScript(\"vega\", \"5\")\n",
       "        .then(() => maybeLoadScript(\"vega-lite\", \"4.17.0\"))\n",
       "        .then(() => maybeLoadScript(\"vega-embed\", \"6\"))\n",
       "        .catch(showError)\n",
       "        .then(() => displayChart(vegaEmbed));\n",
       "    }\n",
       "  })({\"config\": {\"view\": {\"continuousWidth\": 400, \"continuousHeight\": 300, \"stroke\": null}, \"facet\": {\"spacing\": 0}}, \"data\": {\"name\": \"data-8d101ed0e9ace286bcdb593690c4a081\"}, \"facet\": {\"column\": {\"field\": \"route_id\", \"sort\": [\"45\", \"5\", \"9\", \"6\"], \"title\": \"Route ID\", \"type\": \"nominal\"}}, \"spec\": {\"layer\": [{\"mark\": {\"type\": \"point\", \"opacity\": 0.65, \"size\": 12, \"strokeWidth\": 1.1}, \"encoding\": {\"color\": {\"field\": \"time_of_day\", \"scale\": {\"range\": [\"#136C97\", \"#E16B26\", \"#F6BF16\", \"#00896B\", \"#7790A3\", \"#5B559C\"]}, \"sort\": [\"AM Peak\", \"Midday\", \"PM Peak\", \"Owl Service\"], \"title\": \"Time of Day\", \"type\": \"nominal\"}, \"tooltip\": [{\"field\": \"route_id\", \"type\": \"nominal\"}, {\"field\": \"trip_id\", \"type\": \"nominal\"}, {\"field\": \"service_hours\", \"type\": \"quantitative\"}, {\"field\": \"car_duration_hours\", \"type\": \"quantitative\"}, {\"field\": \"bus_multiplier\", \"type\": \"quantitative\"}, {\"field\": \"bus_difference\", \"type\": \"quantitative\"}, {\"field\": \"num_trips\", \"type\": \"quantitative\"}, {\"field\": \"num_competitive\", \"type\": \"quantitative\"}, {\"field\": \"pct_trips_competitive\", \"type\": \"quantitative\"}, {\"field\": \"p25\", \"type\": \"quantitative\"}, {\"field\": \"p50\", \"type\": \"quantitative\"}, {\"field\": \"p75\", \"type\": \"quantitative\"}], \"x\": {\"axis\": {\"grid\": false, \"labels\": false, \"ticks\": true, \"values\": [0]}, \"field\": \"jitter\", \"scale\": {}, \"title\": null, \"type\": \"quantitative\"}, \"y\": {\"field\": \"bus_multiplier\", \"scale\": {\"domain\": [-0.25, 2.5]}, \"title\": \"Ratio of Bus to Car Travel Time\", \"type\": \"quantitative\"}}, \"selection\": {\"selector001\": {\"type\": \"interval\", \"bind\": \"scales\", \"encodings\": [\"x\", \"y\"]}}, \"transform\": [{\"calculate\": \"sqrt(-2*log(random()))*cos(2*PI*random())\", \"as\": \"jitter\"}], \"width\": 60}, {\"layer\": [{\"mark\": {\"type\": \"point\", \"opacity\": 0.6, \"size\": 20, \"strokeWidth\": 1.3}, \"encoding\": {\"color\": {\"value\": \"#323434\"}, \"y\": {\"field\": \"bus_multiplier\", \"type\": \"quantitative\"}}, \"transform\": [{\"filter\": \"(datum.p50_trip === 1)\"}]}, {\"mark\": {\"type\": \"rule\", \"strokeDash\": [2, 3]}, \"encoding\": {\"color\": {\"value\": \"#323434\"}, \"y\": {\"field\": \"cutoff\", \"type\": \"quantitative\"}}}, {\"mark\": {\"type\": \"text\", \"align\": \"center\", \"baseline\": \"middle\"}, \"encoding\": {\"color\": {\"value\": \"black\"}, \"text\": {\"field\": \"pct_trips_competitive\", \"format\": \".0%\", \"type\": \"quantitative\"}, \"tooltip\": [{\"field\": \"route_id\", \"type\": \"nominal\"}, {\"field\": \"trip_id\", \"type\": \"nominal\"}, {\"field\": \"service_hours\", \"type\": \"quantitative\"}, {\"field\": \"car_duration_hours\", \"type\": \"quantitative\"}, {\"field\": \"bus_multiplier\", \"type\": \"quantitative\"}, {\"field\": \"bus_difference\", \"type\": \"quantitative\"}, {\"field\": \"num_trips\", \"type\": \"quantitative\"}, {\"field\": \"num_competitive\", \"type\": \"quantitative\"}, {\"field\": \"pct_trips_competitive\", \"type\": \"quantitative\"}, {\"field\": \"p25\", \"type\": \"quantitative\"}, {\"field\": \"p50\", \"type\": \"quantitative\"}, {\"field\": \"p75\", \"type\": \"quantitative\"}], \"x\": {\"value\": 30}, \"y\": {\"value\": 15}}, \"transform\": [{\"calculate\": \"sqrt(-2*log(random()))*cos(2*PI*random())\", \"as\": \"jitter\"}, {\"filter\": \"(datum.fastest_trip === 1)\"}]}]}]}, \"resolve\": {\"scale\": {\"y\": \"shared\"}}, \"title\": \"Ratio of Bus to Car Travel Time\", \"$schema\": \"https://vega.github.io/schema/vega-lite/v4.17.0.json\", \"datasets\": {\"data-8d101ed0e9ace286bcdb593690c4a081\": [{\"calitp_itp_id\": 168, \"trip_key\": 2199239617006018366, \"trip_id\": \"5016351\", \"shape_id\": \"45 171689\", \"route_id\": \"45\", \"service_hours\": 0.23, \"trip_first_departure_ts\": 22380, \"trip_last_arrival_ts\": 23220, \"departure_hour\": 6, \"time_of_day\": \"Owl Service\", \"p25\": 0.24000000000000002, \"p50\": 0.25, \"p75\": 0.26, \"p50_trip\": 1, \"fastest_trip\": 1, \"car_duration_hours\": 0.17, \"competitive_route\": 1, \"bus_multiplier\": 1.35, \"bus_difference\": 3.6, \"num_trips\": 2, \"num_competitive\": 2, \"pct_trips_competitive\": 1.0, \"bus_difference_spread\": 2.4, \"route_group\": \"short\", \"max_trip_hrs\": 0.27, \"max_trip_route_group\": 0.82, \"name\": \"City of Lodi\", \"caltrans_district\": \"10 - Stockton\", \"drmt_organization_name\": null, \"cutoff2\": 12.299999999999999, \"cutoff\": 2}, {\"calitp_itp_id\": 168, \"trip_key\": 6442362743022621027, \"trip_id\": \"7901478\", \"shape_id\": \"45 171689\", \"route_id\": \"45\", \"service_hours\": 0.27, \"trip_first_departure_ts\": 27000, \"trip_last_arrival_ts\": 27960, \"departure_hour\": 7, \"time_of_day\": \"AM Peak\", \"p25\": 0.24000000000000002, \"p50\": 0.25, \"p75\": 0.26, \"p50_trip\": 0, \"fastest_trip\": 0, \"car_duration_hours\": 0.17, \"competitive_route\": 1, \"bus_multiplier\": 1.59, \"bus_difference\": 6.0, \"num_trips\": 2, \"num_competitive\": 2, \"pct_trips_competitive\": 1.0, \"bus_difference_spread\": 2.4, \"route_group\": \"short\", \"max_trip_hrs\": 0.27, \"max_trip_route_group\": 0.82, \"name\": \"City of Lodi\", \"caltrans_district\": \"10 - Stockton\", \"drmt_organization_name\": null, \"cutoff2\": 12.299999999999999, \"cutoff\": 2}, {\"calitp_itp_id\": 168, \"trip_key\": -133091918511425829, \"trip_id\": \"5024867\", \"shape_id\": \"5 171692\", \"route_id\": \"5\", \"service_hours\": 0.4, \"trip_first_departure_ts\": 22500, \"trip_last_arrival_ts\": 23940, \"departure_hour\": 6, \"time_of_day\": \"Owl Service\", \"p25\": 0.40750000000000003, \"p50\": 0.41500000000000004, \"p75\": 0.4225, \"p50_trip\": 0, \"fastest_trip\": 1, \"car_duration_hours\": 0.28, \"competitive_route\": 1, \"bus_multiplier\": 1.43, \"bus_difference\": 7.2, \"num_trips\": 2, \"num_competitive\": 2, \"pct_trips_competitive\": 1.0, \"bus_difference_spread\": 1.8, \"route_group\": \"short\", \"max_trip_hrs\": 0.43, \"max_trip_route_group\": 0.82, \"name\": \"City of Lodi\", \"caltrans_district\": \"10 - Stockton\", \"drmt_organization_name\": null, \"cutoff2\": 12.299999999999999, \"cutoff\": 2}, {\"calitp_itp_id\": 168, \"trip_key\": -3347287698096008956, \"trip_id\": \"5024869\", \"shape_id\": \"5 171692\", \"route_id\": \"5\", \"service_hours\": 0.43, \"trip_first_departure_ts\": 26400, \"trip_last_arrival_ts\": 27960, \"departure_hour\": 7, \"time_of_day\": \"AM Peak\", \"p25\": 0.40750000000000003, \"p50\": 0.41500000000000004, \"p75\": 0.4225, \"p50_trip\": 1, \"fastest_trip\": 0, \"car_duration_hours\": 0.28, \"competitive_route\": 1, \"bus_multiplier\": 1.54, \"bus_difference\": 9.0, \"num_trips\": 2, \"num_competitive\": 2, \"pct_trips_competitive\": 1.0, \"bus_difference_spread\": 1.8, \"route_group\": \"short\", \"max_trip_hrs\": 0.43, \"max_trip_route_group\": 0.82, \"name\": \"City of Lodi\", \"caltrans_district\": \"10 - Stockton\", \"drmt_organization_name\": null, \"cutoff2\": 12.299999999999999, \"cutoff\": 2}, {\"calitp_itp_id\": 168, \"trip_key\": -1100885806102794017, \"trip_id\": \"5024837\", \"shape_id\": \"6 171696\", \"route_id\": \"6\", \"service_hours\": 0.78, \"trip_first_departure_ts\": 23400, \"trip_last_arrival_ts\": 26220, \"departure_hour\": 6, \"time_of_day\": \"Owl Service\", \"p25\": 0.78, \"p50\": 0.78, \"p75\": 0.78, \"p50_trip\": 1, \"fastest_trip\": 1, \"car_duration_hours\": 0.46, \"competitive_route\": 1, \"bus_multiplier\": 1.7, \"bus_difference\": 19.2, \"num_trips\": 1, \"num_competitive\": 1, \"pct_trips_competitive\": 1.0, \"bus_difference_spread\": 0.0, \"route_group\": \"short\", \"max_trip_hrs\": 0.78, \"max_trip_route_group\": 0.82, \"name\": \"City of Lodi\", \"caltrans_district\": \"10 - Stockton\", \"drmt_organization_name\": null, \"cutoff2\": 12.299999999999999, \"cutoff\": 2}, {\"calitp_itp_id\": 168, \"trip_key\": -764000840965944519, \"trip_id\": \"5024871\", \"shape_id\": \"9 171687\", \"route_id\": \"9\", \"service_hours\": 0.4, \"trip_first_departure_ts\": 51600, \"trip_last_arrival_ts\": 53040, \"departure_hour\": 14, \"time_of_day\": \"Midday\", \"p25\": 0.41250000000000003, \"p50\": 0.42500000000000004, \"p75\": 0.4375, \"p50_trip\": 0, \"fastest_trip\": 1, \"car_duration_hours\": 0.28, \"competitive_route\": 1, \"bus_multiplier\": 1.43, \"bus_difference\": 7.2, \"num_trips\": 2, \"num_competitive\": 2, \"pct_trips_competitive\": 1.0, \"bus_difference_spread\": 3.0, \"route_group\": \"short\", \"max_trip_hrs\": 0.45, \"max_trip_route_group\": 0.82, \"name\": \"City of Lodi\", \"caltrans_district\": \"10 - Stockton\", \"drmt_organization_name\": null, \"cutoff2\": 12.299999999999999, \"cutoff\": 2}, {\"calitp_itp_id\": 168, \"trip_key\": -8611148177880385172, \"trip_id\": \"5024872\", \"shape_id\": \"9 171687\", \"route_id\": \"9\", \"service_hours\": 0.45, \"trip_first_departure_ts\": 53400, \"trip_last_arrival_ts\": 55020, \"departure_hour\": 14, \"time_of_day\": \"Midday\", \"p25\": 0.41250000000000003, \"p50\": 0.42500000000000004, \"p75\": 0.4375, \"p50_trip\": 1, \"fastest_trip\": 0, \"car_duration_hours\": 0.28, \"competitive_route\": 1, \"bus_multiplier\": 1.61, \"bus_difference\": 10.2, \"num_trips\": 2, \"num_competitive\": 2, \"pct_trips_competitive\": 1.0, \"bus_difference_spread\": 3.0, \"route_group\": \"short\", \"max_trip_hrs\": 0.45, \"max_trip_route_group\": 0.82, \"name\": \"City of Lodi\", \"caltrans_district\": \"10 - Stockton\", \"drmt_organization_name\": null, \"cutoff2\": 12.299999999999999, \"cutoff\": 2}]}}, {\"mode\": \"vega-lite\"});\n",
       "</script>"
      ],
      "text/plain": [
       "alt.FacetChart(...)"
      ]
     },
     "metadata": {},
     "output_type": "display_data"
    },
    {
     "data": {
      "text/html": [
       "\n",
       "<div id=\"altair-viz-3f124530a33f49f49d48b82fc65f8085\"></div>\n",
       "<script type=\"text/javascript\">\n",
       "  var VEGA_DEBUG = (typeof VEGA_DEBUG == \"undefined\") ? {} : VEGA_DEBUG;\n",
       "  (function(spec, embedOpt){\n",
       "    let outputDiv = document.currentScript.previousElementSibling;\n",
       "    if (outputDiv.id !== \"altair-viz-3f124530a33f49f49d48b82fc65f8085\") {\n",
       "      outputDiv = document.getElementById(\"altair-viz-3f124530a33f49f49d48b82fc65f8085\");\n",
       "    }\n",
       "    const paths = {\n",
       "      \"vega\": \"https://cdn.jsdelivr.net/npm//vega@5?noext\",\n",
       "      \"vega-lib\": \"https://cdn.jsdelivr.net/npm//vega-lib?noext\",\n",
       "      \"vega-lite\": \"https://cdn.jsdelivr.net/npm//vega-lite@4.17.0?noext\",\n",
       "      \"vega-embed\": \"https://cdn.jsdelivr.net/npm//vega-embed@6?noext\",\n",
       "    };\n",
       "\n",
       "    function maybeLoadScript(lib, version) {\n",
       "      var key = `${lib.replace(\"-\", \"\")}_version`;\n",
       "      return (VEGA_DEBUG[key] == version) ?\n",
       "        Promise.resolve(paths[lib]) :\n",
       "        new Promise(function(resolve, reject) {\n",
       "          var s = document.createElement('script');\n",
       "          document.getElementsByTagName(\"head\")[0].appendChild(s);\n",
       "          s.async = true;\n",
       "          s.onload = () => {\n",
       "            VEGA_DEBUG[key] = version;\n",
       "            return resolve(paths[lib]);\n",
       "          };\n",
       "          s.onerror = () => reject(`Error loading script: ${paths[lib]}`);\n",
       "          s.src = paths[lib];\n",
       "        });\n",
       "    }\n",
       "\n",
       "    function showError(err) {\n",
       "      outputDiv.innerHTML = `<div class=\"error\" style=\"color:red;\">${err}</div>`;\n",
       "      throw err;\n",
       "    }\n",
       "\n",
       "    function displayChart(vegaEmbed) {\n",
       "      vegaEmbed(outputDiv, spec, embedOpt)\n",
       "        .catch(err => showError(`Javascript Error: ${err.message}<br>This usually means there's a typo in your chart specification. See the javascript console for the full traceback.`));\n",
       "    }\n",
       "\n",
       "    if(typeof define === \"function\" && define.amd) {\n",
       "      requirejs.config({paths});\n",
       "      require([\"vega-embed\"], displayChart, err => showError(`Error loading script: ${err.message}`));\n",
       "    } else {\n",
       "      maybeLoadScript(\"vega\", \"5\")\n",
       "        .then(() => maybeLoadScript(\"vega-lite\", \"4.17.0\"))\n",
       "        .then(() => maybeLoadScript(\"vega-embed\", \"6\"))\n",
       "        .catch(showError)\n",
       "        .then(() => displayChart(vegaEmbed));\n",
       "    }\n",
       "  })({\"config\": {\"view\": {\"continuousWidth\": 400, \"continuousHeight\": 300, \"stroke\": null}, \"facet\": {\"spacing\": 0}}, \"data\": {\"name\": \"data-d7daa0ed1a9e0749fc3ef8b07d028e46\"}, \"facet\": {\"column\": {\"field\": \"route_id\", \"sort\": [\"45\", \"5\", \"9\", \"6\"], \"title\": \"Route ID\", \"type\": \"nominal\"}}, \"spec\": {\"layer\": [{\"mark\": {\"type\": \"point\", \"opacity\": 0.65, \"size\": 12, \"strokeWidth\": 1.1}, \"encoding\": {\"color\": {\"field\": \"time_of_day\", \"scale\": {\"range\": [\"#136C97\", \"#E16B26\", \"#F6BF16\", \"#00896B\", \"#7790A3\", \"#5B559C\"]}, \"sort\": [\"AM Peak\", \"Midday\", \"PM Peak\", \"Owl Service\"], \"title\": \"Time of Day\", \"type\": \"nominal\"}, \"tooltip\": [{\"field\": \"route_id\", \"type\": \"nominal\"}, {\"field\": \"trip_id\", \"type\": \"nominal\"}, {\"field\": \"service_hours\", \"type\": \"quantitative\"}, {\"field\": \"car_duration_hours\", \"type\": \"quantitative\"}, {\"field\": \"bus_multiplier\", \"type\": \"quantitative\"}, {\"field\": \"bus_difference\", \"type\": \"quantitative\"}, {\"field\": \"num_trips\", \"type\": \"quantitative\"}, {\"field\": \"num_competitive\", \"type\": \"quantitative\"}, {\"field\": \"pct_trips_competitive\", \"type\": \"quantitative\"}, {\"field\": \"p25\", \"type\": \"quantitative\"}, {\"field\": \"p50\", \"type\": \"quantitative\"}, {\"field\": \"p75\", \"type\": \"quantitative\"}], \"x\": {\"axis\": {\"grid\": false, \"labels\": false, \"ticks\": true, \"values\": [0]}, \"field\": \"jitter\", \"scale\": {}, \"title\": null, \"type\": \"quantitative\"}, \"y\": {\"field\": \"bus_difference\", \"scale\": {\"domain\": [-5, 21.6]}, \"title\": \"Difference in Bus to Car Travel Time (min)\", \"type\": \"quantitative\"}}, \"selection\": {\"selector002\": {\"type\": \"interval\", \"bind\": \"scales\", \"encodings\": [\"x\", \"y\"]}}, \"transform\": [{\"calculate\": \"sqrt(-2*log(random()))*cos(2*PI*random())\", \"as\": \"jitter\"}], \"width\": 60}, {\"layer\": [{\"mark\": {\"type\": \"point\", \"opacity\": 0.6, \"size\": 20, \"strokeWidth\": 1.3}, \"encoding\": {\"color\": {\"value\": \"#323434\"}, \"y\": {\"field\": \"bus_difference\", \"type\": \"quantitative\"}}, \"transform\": [{\"filter\": \"(datum.p50_trip === 1)\"}]}, {\"mark\": {\"type\": \"rule\", \"strokeDash\": [2, 3]}, \"encoding\": {\"color\": {\"value\": \"#323434\"}, \"y\": {\"field\": \"cutoff\", \"type\": \"quantitative\"}}}, {\"mark\": {\"type\": \"rule\", \"strokeDash\": [2, 3]}, \"encoding\": {\"color\": {\"value\": \"#136C97\"}, \"y\": {\"field\": \"cutoff2\", \"type\": \"quantitative\"}}}, {\"mark\": {\"type\": \"text\", \"align\": \"center\", \"baseline\": \"middle\"}, \"encoding\": {\"color\": {\"value\": \"black\"}, \"text\": {\"field\": \"pct_trips_competitive\", \"format\": \".0%\", \"type\": \"quantitative\"}, \"tooltip\": [{\"field\": \"route_id\", \"type\": \"nominal\"}, {\"field\": \"trip_id\", \"type\": \"nominal\"}, {\"field\": \"service_hours\", \"type\": \"quantitative\"}, {\"field\": \"car_duration_hours\", \"type\": \"quantitative\"}, {\"field\": \"bus_multiplier\", \"type\": \"quantitative\"}, {\"field\": \"bus_difference\", \"type\": \"quantitative\"}, {\"field\": \"num_trips\", \"type\": \"quantitative\"}, {\"field\": \"num_competitive\", \"type\": \"quantitative\"}, {\"field\": \"pct_trips_competitive\", \"type\": \"quantitative\"}, {\"field\": \"p25\", \"type\": \"quantitative\"}, {\"field\": \"p50\", \"type\": \"quantitative\"}, {\"field\": \"p75\", \"type\": \"quantitative\"}], \"x\": {\"value\": 30}, \"y\": {\"value\": 15}}, \"transform\": [{\"calculate\": \"sqrt(-2*log(random()))*cos(2*PI*random())\", \"as\": \"jitter\"}, {\"filter\": \"(datum.fastest_trip === 1)\"}]}]}]}, \"resolve\": {\"scale\": {\"y\": \"shared\"}}, \"title\": \"Difference in Bus to Car Travel Time (min)\", \"$schema\": \"https://vega.github.io/schema/vega-lite/v4.17.0.json\", \"datasets\": {\"data-d7daa0ed1a9e0749fc3ef8b07d028e46\": [{\"calitp_itp_id\": 168, \"trip_key\": 2199239617006018366, \"trip_id\": \"5016351\", \"shape_id\": \"45 171689\", \"route_id\": \"45\", \"service_hours\": 0.23, \"trip_first_departure_ts\": 22380, \"trip_last_arrival_ts\": 23220, \"departure_hour\": 6, \"time_of_day\": \"Owl Service\", \"p25\": 0.24000000000000002, \"p50\": 0.25, \"p75\": 0.26, \"p50_trip\": 1, \"fastest_trip\": 1, \"car_duration_hours\": 0.17, \"competitive_route\": 1, \"bus_multiplier\": 1.35, \"bus_difference\": 3.6, \"num_trips\": 2, \"num_competitive\": 2, \"pct_trips_competitive\": 1.0, \"bus_difference_spread\": 2.4, \"route_group\": \"short\", \"max_trip_hrs\": 0.27, \"max_trip_route_group\": 0.82, \"name\": \"City of Lodi\", \"caltrans_district\": \"10 - Stockton\", \"drmt_organization_name\": null, \"cutoff2\": 12.299999999999999, \"cutoff\": 0}, {\"calitp_itp_id\": 168, \"trip_key\": 6442362743022621027, \"trip_id\": \"7901478\", \"shape_id\": \"45 171689\", \"route_id\": \"45\", \"service_hours\": 0.27, \"trip_first_departure_ts\": 27000, \"trip_last_arrival_ts\": 27960, \"departure_hour\": 7, \"time_of_day\": \"AM Peak\", \"p25\": 0.24000000000000002, \"p50\": 0.25, \"p75\": 0.26, \"p50_trip\": 0, \"fastest_trip\": 0, \"car_duration_hours\": 0.17, \"competitive_route\": 1, \"bus_multiplier\": 1.59, \"bus_difference\": 6.0, \"num_trips\": 2, \"num_competitive\": 2, \"pct_trips_competitive\": 1.0, \"bus_difference_spread\": 2.4, \"route_group\": \"short\", \"max_trip_hrs\": 0.27, \"max_trip_route_group\": 0.82, \"name\": \"City of Lodi\", \"caltrans_district\": \"10 - Stockton\", \"drmt_organization_name\": null, \"cutoff2\": 12.299999999999999, \"cutoff\": 0}, {\"calitp_itp_id\": 168, \"trip_key\": -133091918511425829, \"trip_id\": \"5024867\", \"shape_id\": \"5 171692\", \"route_id\": \"5\", \"service_hours\": 0.4, \"trip_first_departure_ts\": 22500, \"trip_last_arrival_ts\": 23940, \"departure_hour\": 6, \"time_of_day\": \"Owl Service\", \"p25\": 0.40750000000000003, \"p50\": 0.41500000000000004, \"p75\": 0.4225, \"p50_trip\": 0, \"fastest_trip\": 1, \"car_duration_hours\": 0.28, \"competitive_route\": 1, \"bus_multiplier\": 1.43, \"bus_difference\": 7.2, \"num_trips\": 2, \"num_competitive\": 2, \"pct_trips_competitive\": 1.0, \"bus_difference_spread\": 1.8, \"route_group\": \"short\", \"max_trip_hrs\": 0.43, \"max_trip_route_group\": 0.82, \"name\": \"City of Lodi\", \"caltrans_district\": \"10 - Stockton\", \"drmt_organization_name\": null, \"cutoff2\": 12.299999999999999, \"cutoff\": 0}, {\"calitp_itp_id\": 168, \"trip_key\": -3347287698096008956, \"trip_id\": \"5024869\", \"shape_id\": \"5 171692\", \"route_id\": \"5\", \"service_hours\": 0.43, \"trip_first_departure_ts\": 26400, \"trip_last_arrival_ts\": 27960, \"departure_hour\": 7, \"time_of_day\": \"AM Peak\", \"p25\": 0.40750000000000003, \"p50\": 0.41500000000000004, \"p75\": 0.4225, \"p50_trip\": 1, \"fastest_trip\": 0, \"car_duration_hours\": 0.28, \"competitive_route\": 1, \"bus_multiplier\": 1.54, \"bus_difference\": 9.0, \"num_trips\": 2, \"num_competitive\": 2, \"pct_trips_competitive\": 1.0, \"bus_difference_spread\": 1.8, \"route_group\": \"short\", \"max_trip_hrs\": 0.43, \"max_trip_route_group\": 0.82, \"name\": \"City of Lodi\", \"caltrans_district\": \"10 - Stockton\", \"drmt_organization_name\": null, \"cutoff2\": 12.299999999999999, \"cutoff\": 0}, {\"calitp_itp_id\": 168, \"trip_key\": -1100885806102794017, \"trip_id\": \"5024837\", \"shape_id\": \"6 171696\", \"route_id\": \"6\", \"service_hours\": 0.78, \"trip_first_departure_ts\": 23400, \"trip_last_arrival_ts\": 26220, \"departure_hour\": 6, \"time_of_day\": \"Owl Service\", \"p25\": 0.78, \"p50\": 0.78, \"p75\": 0.78, \"p50_trip\": 1, \"fastest_trip\": 1, \"car_duration_hours\": 0.46, \"competitive_route\": 1, \"bus_multiplier\": 1.7, \"bus_difference\": 19.2, \"num_trips\": 1, \"num_competitive\": 1, \"pct_trips_competitive\": 1.0, \"bus_difference_spread\": 0.0, \"route_group\": \"short\", \"max_trip_hrs\": 0.78, \"max_trip_route_group\": 0.82, \"name\": \"City of Lodi\", \"caltrans_district\": \"10 - Stockton\", \"drmt_organization_name\": null, \"cutoff2\": 12.299999999999999, \"cutoff\": 0}, {\"calitp_itp_id\": 168, \"trip_key\": -764000840965944519, \"trip_id\": \"5024871\", \"shape_id\": \"9 171687\", \"route_id\": \"9\", \"service_hours\": 0.4, \"trip_first_departure_ts\": 51600, \"trip_last_arrival_ts\": 53040, \"departure_hour\": 14, \"time_of_day\": \"Midday\", \"p25\": 0.41250000000000003, \"p50\": 0.42500000000000004, \"p75\": 0.4375, \"p50_trip\": 0, \"fastest_trip\": 1, \"car_duration_hours\": 0.28, \"competitive_route\": 1, \"bus_multiplier\": 1.43, \"bus_difference\": 7.2, \"num_trips\": 2, \"num_competitive\": 2, \"pct_trips_competitive\": 1.0, \"bus_difference_spread\": 3.0, \"route_group\": \"short\", \"max_trip_hrs\": 0.45, \"max_trip_route_group\": 0.82, \"name\": \"City of Lodi\", \"caltrans_district\": \"10 - Stockton\", \"drmt_organization_name\": null, \"cutoff2\": 12.299999999999999, \"cutoff\": 0}, {\"calitp_itp_id\": 168, \"trip_key\": -8611148177880385172, \"trip_id\": \"5024872\", \"shape_id\": \"9 171687\", \"route_id\": \"9\", \"service_hours\": 0.45, \"trip_first_departure_ts\": 53400, \"trip_last_arrival_ts\": 55020, \"departure_hour\": 14, \"time_of_day\": \"Midday\", \"p25\": 0.41250000000000003, \"p50\": 0.42500000000000004, \"p75\": 0.4375, \"p50_trip\": 1, \"fastest_trip\": 0, \"car_duration_hours\": 0.28, \"competitive_route\": 1, \"bus_multiplier\": 1.61, \"bus_difference\": 10.2, \"num_trips\": 2, \"num_competitive\": 2, \"pct_trips_competitive\": 1.0, \"bus_difference_spread\": 3.0, \"route_group\": \"short\", \"max_trip_hrs\": 0.45, \"max_trip_route_group\": 0.82, \"name\": \"City of Lodi\", \"caltrans_district\": \"10 - Stockton\", \"drmt_organization_name\": null, \"cutoff2\": 12.299999999999999, \"cutoff\": 0}]}}, {\"mode\": \"vega-lite\"});\n",
       "</script>"
      ],
      "text/plain": [
       "alt.FacetChart(...)"
      ]
     },
     "metadata": {},
     "output_type": "display_data"
    }
   ],
   "source": [
    "# Allow for possibility that operator doesn't have routes that fall into certain route_groups\n",
    "# But, jupyterbook will not like markdown with f-string\n",
    "# separate out route_group and put in each cell, and use try/except + if to display...\n",
    "# but all 3 route groups must be displayed. just add sentence about why no routes were returned at the end\n",
    "route_group = \"short\"\n",
    "try:\n",
    "    subset_routes, mult, diff  = setup_charts(df, PCT_COMPETITIVE_THRESHOLD, route_group)\n",
    "    \n",
    "    if len(subset_routes) > 0:\n",
    "        display(\n",
    "            Markdown(\n",
    "                f\"{CAPTIONS_DICT[route_group]}\"\n",
    "                \"Within each route group, routes are sorted in descending order \"\n",
    "                \"by % competitive trips and # trips below the additional time cut-off.\"\n",
    "            )\n",
    "        )\n",
    "\n",
    "        display(mult)\n",
    "        display(diff)\n",
    "except:\n",
    "    print(\"No routes meet this criteria.\")"
   ]
  },
  {
   "cell_type": "markdown",
   "id": "c2931b6f-034d-4384-9e14-80b925e3b820",
   "metadata": {
    "papermill": {
     "duration": 0.012932,
     "end_time": "2022-05-07T17:30:05.279010",
     "exception": false,
     "start_time": "2022-05-07T17:30:05.266078",
     "status": "completed"
    },
    "tags": []
   },
   "source": [
    "### Medium Routes (1-1.5 hrs)"
   ]
  },
  {
   "cell_type": "code",
   "execution_count": 13,
   "id": "480edddc-4de0-48c2-ae4c-b0ceef8f28b5",
   "metadata": {
    "execution": {
     "iopub.execute_input": "2022-05-07T17:30:05.315432Z",
     "iopub.status.busy": "2022-05-07T17:30:05.315128Z",
     "iopub.status.idle": "2022-05-07T17:30:05.328031Z",
     "shell.execute_reply": "2022-05-07T17:30:05.327481Z"
    },
    "jupyter": {
     "source_hidden": true
    },
    "papermill": {
     "duration": 0.036522,
     "end_time": "2022-05-07T17:30:05.329643",
     "exception": false,
     "start_time": "2022-05-07T17:30:05.293121",
     "status": "completed"
    },
    "tags": [
     "remove_input"
    ]
   },
   "outputs": [
    {
     "name": "stdout",
     "output_type": "stream",
     "text": [
      "No routes meet this criteria.\n"
     ]
    }
   ],
   "source": [
    "route_group = \"medium\"\n",
    "try:\n",
    "    subset_routes, mult, diff  = setup_charts(df, PCT_COMPETITIVE_THRESHOLD, route_group)\n",
    "    if len(subset_routes) > 0:\n",
    "        display(\n",
    "            Markdown(\n",
    "                f\"{CAPTIONS_DICT[route_group]}\"\n",
    "                \"Within each route group, routes are sorted in descending order \"\n",
    "                \"by % competitive trips and # trips below the additional time cut-off.\"\n",
    "            )\n",
    "        )\n",
    "\n",
    "        display(mult)\n",
    "        display(diff)\n",
    "except:\n",
    "    print(\"No routes meet this criteria.\")"
   ]
  },
  {
   "cell_type": "markdown",
   "id": "124b76d0-886c-4d03-92ac-f1bda3cda182",
   "metadata": {
    "papermill": {
     "duration": 0.013327,
     "end_time": "2022-05-07T17:30:05.356006",
     "exception": false,
     "start_time": "2022-05-07T17:30:05.342679",
     "status": "completed"
    },
    "tags": []
   },
   "source": [
    "### Long Routes (> 1.5 hrs)"
   ]
  },
  {
   "cell_type": "code",
   "execution_count": 14,
   "id": "ddc81b19-4c45-4c81-8b7a-5e0f394aa7a3",
   "metadata": {
    "execution": {
     "iopub.execute_input": "2022-05-07T17:30:05.384875Z",
     "iopub.status.busy": "2022-05-07T17:30:05.384631Z",
     "iopub.status.idle": "2022-05-07T17:30:05.395508Z",
     "shell.execute_reply": "2022-05-07T17:30:05.394937Z"
    },
    "jupyter": {
     "source_hidden": true
    },
    "papermill": {
     "duration": 0.027871,
     "end_time": "2022-05-07T17:30:05.397081",
     "exception": false,
     "start_time": "2022-05-07T17:30:05.369210",
     "status": "completed"
    },
    "tags": [
     "remove_input"
    ]
   },
   "outputs": [
    {
     "name": "stdout",
     "output_type": "stream",
     "text": [
      "No routes meet this criteria.\n"
     ]
    }
   ],
   "source": [
    "route_group = \"long\"\n",
    "try:\n",
    "    subset_routes, mult, diff  = setup_charts(df, PCT_COMPETITIVE_THRESHOLD, route_group)\n",
    "    if len(subset_routes) > 0:\n",
    "        display(\n",
    "            Markdown(\n",
    "                f\"{CAPTIONS_DICT[route_group]}\"\n",
    "                \"Within each route group, routes are sorted in descending order \"\n",
    "                \"by % competitive trips and # trips below the additional time cut-off.\"\n",
    "            )\n",
    "        )\n",
    "\n",
    "        display(mult)\n",
    "        display(diff)\n",
    "except:\n",
    "    print(\"No routes meet this criteria.\")"
   ]
  }
 ],
 "metadata": {
  "kernelspec": {
   "display_name": "Python 3 (ipykernel)",
   "language": "python",
   "name": "python3"
  },
  "language_info": {
   "codemirror_mode": {
    "name": "ipython",
    "version": 3
   },
   "file_extension": ".py",
   "mimetype": "text/x-python",
   "name": "python",
   "nbconvert_exporter": "python",
   "pygments_lexer": "ipython3",
   "version": "3.9.12"
  },
  "papermill": {
   "default_parameters": {},
   "duration": 22.717901,
   "end_time": "2022-05-07T17:30:06.545629",
   "environment_variables": {},
   "exception": null,
   "input_path": "bus_service_increase/stripplot.ipynb",
   "output_path": "portfolio/parallel_corridors/district_10-stockton/stripplot__itp_id_168.ipynb",
   "parameters": {
    "district": "10 - Stockton",
    "itp_id": 168
   },
   "start_time": "2022-05-07T17:29:43.827728",
   "version": "2.3.4"
  }
 },
 "nbformat": 4,
 "nbformat_minor": 5
}