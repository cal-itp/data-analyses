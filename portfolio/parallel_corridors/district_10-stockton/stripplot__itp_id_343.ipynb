{
 "cells": [
  {
   "cell_type": "code",
   "execution_count": 1,
   "id": "95d00857-6a20-4529-a519-2cc7182928a9",
   "metadata": {
    "execution": {
     "iopub.execute_input": "2022-05-07T17:31:17.621550Z",
     "iopub.status.busy": "2022-05-07T17:31:17.621107Z",
     "iopub.status.idle": "2022-05-07T17:31:25.843830Z",
     "shell.execute_reply": "2022-05-07T17:31:25.842927Z"
    },
    "jupyter": {
     "source_hidden": true
    },
    "papermill": {
     "duration": 8.246087,
     "end_time": "2022-05-07T17:31:25.846096",
     "exception": false,
     "start_time": "2022-05-07T17:31:17.600009",
     "status": "completed"
    },
    "tags": [
     "remove_input"
    ]
   },
   "outputs": [],
   "source": [
    "%%capture\n",
    "import warnings\n",
    "warnings.filterwarnings('ignore')\n",
    "\n",
    "import altair as alt\n",
    "import calitp.magics\n",
    "import geopandas as gpd\n",
    "import intake\n",
    "import pandas as pd\n",
    "\n",
    "from IPython.display import display, Markdown, HTML\n",
    "\n",
    "import parallel_corridors_utils\n",
    "from shared_utils import styleguide\n",
    "\n",
    "catalog = intake.open_catalog(\"./*.yml\")\n",
    "alt.renderers.enable(\"html\")"
   ]
  },
  {
   "cell_type": "code",
   "execution_count": 2,
   "id": "8af2a0c1-f3da-408d-9bea-11d9fbf8695d",
   "metadata": {
    "execution": {
     "iopub.execute_input": "2022-05-07T17:31:25.867651Z",
     "iopub.status.busy": "2022-05-07T17:31:25.867319Z",
     "iopub.status.idle": "2022-05-07T17:31:25.871573Z",
     "shell.execute_reply": "2022-05-07T17:31:25.870685Z"
    },
    "jupyter": {
     "source_hidden": true
    },
    "papermill": {
     "duration": 0.01748,
     "end_time": "2022-05-07T17:31:25.873685",
     "exception": false,
     "start_time": "2022-05-07T17:31:25.856205",
     "status": "completed"
    },
    "tags": [
     "parameters",
     "remove_input"
    ]
   },
   "outputs": [],
   "source": [
    "# parameters cell\n",
    "itp_id = 182"
   ]
  },
  {
   "cell_type": "code",
   "execution_count": 3,
   "id": "bd6aa7c6",
   "metadata": {
    "execution": {
     "iopub.execute_input": "2022-05-07T17:31:25.894258Z",
     "iopub.status.busy": "2022-05-07T17:31:25.893639Z",
     "iopub.status.idle": "2022-05-07T17:31:25.898174Z",
     "shell.execute_reply": "2022-05-07T17:31:25.897411Z"
    },
    "jupyter": {
     "source_hidden": true
    },
    "papermill": {
     "duration": 0.01688,
     "end_time": "2022-05-07T17:31:25.899989",
     "exception": false,
     "start_time": "2022-05-07T17:31:25.883109",
     "status": "completed"
    },
    "tags": [
     "injected-parameters",
     "remove_input"
    ]
   },
   "outputs": [],
   "source": [
    "# Parameters\n",
    "district = \"10 - Stockton\"\n",
    "itp_id = 343\n"
   ]
  },
  {
   "cell_type": "code",
   "execution_count": 4,
   "id": "9582aaf4-79ff-412a-b248-8d8d693ebd4f",
   "metadata": {
    "execution": {
     "iopub.execute_input": "2022-05-07T17:31:25.928181Z",
     "iopub.status.busy": "2022-05-07T17:31:25.927450Z",
     "iopub.status.idle": "2022-05-07T17:31:27.152223Z",
     "shell.execute_reply": "2022-05-07T17:31:27.151488Z"
    },
    "jupyter": {
     "source_hidden": true
    },
    "papermill": {
     "duration": 1.237849,
     "end_time": "2022-05-07T17:31:27.154439",
     "exception": false,
     "start_time": "2022-05-07T17:31:25.916590",
     "status": "completed"
    },
    "tags": [
     "remove_input"
    ]
   },
   "outputs": [],
   "source": [
    "df = catalog.competitive_route_variability.read()\n",
    "\n",
    "df = (df[(df.calitp_itp_id == itp_id) & \n",
    "         (df.route_group.notna())]\n",
    "      .reset_index(drop=True)\n",
    "     )\n",
    "\n",
    "\n",
    "if itp_id == 182:\n",
    "    df = df.assign(\n",
    "        route_id = df.route_id.str.replace('-13153', '').astype(int)\n",
    "    )"
   ]
  },
  {
   "cell_type": "code",
   "execution_count": 5,
   "id": "33ac4b06-f647-4dce-a625-8f2c1b37cc60",
   "metadata": {
    "execution": {
     "iopub.execute_input": "2022-05-07T17:31:27.176604Z",
     "iopub.status.busy": "2022-05-07T17:31:27.176166Z",
     "iopub.status.idle": "2022-05-07T17:31:27.182905Z",
     "shell.execute_reply": "2022-05-07T17:31:27.182425Z"
    },
    "jupyter": {
     "source_hidden": true
    },
    "papermill": {
     "duration": 0.019977,
     "end_time": "2022-05-07T17:31:27.184438",
     "exception": false,
     "start_time": "2022-05-07T17:31:27.164461",
     "status": "completed"
    },
    "tags": [
     "remove_input"
    ]
   },
   "outputs": [],
   "source": [
    "%%capture_parameters\n",
    "operator_name = df.name.iloc[0]\n",
    "\n",
    "itp_id, operator_name"
   ]
  },
  {
   "cell_type": "markdown",
   "id": "65bc6f5c-8348-42ee-b2dd-52057c406852",
   "metadata": {
    "papermill": {
     "duration": 0.009754,
     "end_time": "2022-05-07T17:31:27.204034",
     "exception": false,
     "start_time": "2022-05-07T17:31:27.194280",
     "status": "completed"
    },
    "tags": []
   },
   "source": [
    "# Transit Joint Powers Authority for Merced County (ITP ID: 343)"
   ]
  },
  {
   "cell_type": "code",
   "execution_count": 6,
   "id": "a689c1ab-2c6c-4831-8d64-897f5986f571",
   "metadata": {
    "execution": {
     "iopub.execute_input": "2022-05-07T17:31:27.225684Z",
     "iopub.status.busy": "2022-05-07T17:31:27.225227Z",
     "iopub.status.idle": "2022-05-07T17:31:27.230674Z",
     "shell.execute_reply": "2022-05-07T17:31:27.230162Z"
    },
    "jupyter": {
     "source_hidden": true
    },
    "papermill": {
     "duration": 0.018353,
     "end_time": "2022-05-07T17:31:27.232184",
     "exception": false,
     "start_time": "2022-05-07T17:31:27.213831",
     "status": "completed"
    },
    "tags": [
     "remove_input"
    ]
   },
   "outputs": [
    {
     "data": {
      "text/html": [
       "<h1>Competitive & Parallel Routes</h1>"
      ],
      "text/plain": [
       "<IPython.core.display.HTML object>"
      ]
     },
     "metadata": {},
     "output_type": "display_data"
    }
   ],
   "source": [
    "display(HTML(\"<h1>Competitive & Parallel Routes</h1>\")) "
   ]
  },
  {
   "cell_type": "code",
   "execution_count": 7,
   "id": "2cb4d8d5-4760-40e4-85b1-cb833d8bb648",
   "metadata": {
    "execution": {
     "iopub.execute_input": "2022-05-07T17:31:27.254430Z",
     "iopub.status.busy": "2022-05-07T17:31:27.254008Z",
     "iopub.status.idle": "2022-05-07T17:31:37.554259Z",
     "shell.execute_reply": "2022-05-07T17:31:37.553313Z"
    },
    "jupyter": {
     "source_hidden": true
    },
    "papermill": {
     "duration": 10.314744,
     "end_time": "2022-05-07T17:31:37.557293",
     "exception": false,
     "start_time": "2022-05-07T17:31:27.242549",
     "status": "completed"
    },
    "tags": [
     "remove_input"
    ]
   },
   "outputs": [],
   "source": [
    "# Grab parameters for narrative text - clean up formatting here \n",
    "district = df.caltrans_district.iloc[0]\n",
    "formatted_date = pd.to_datetime(parallel_corridors_utils.SELECTED_DATE).strftime('%m-%d-%Y')\n",
    "\n",
    "PCT_COMPETITIVE_THRESHOLD = 0.75\n",
    "\n",
    "stats = parallel_corridors_utils.operator_parallel_competitive_stats(\n",
    "    itp_id, PCT_COMPETITIVE_THRESHOLD)\n",
    "\n",
    "pct_parallel = round(stats['parallel_routes'] / stats['num_routes'] * 100,1 )\n",
    "pct_competitive =  round(stats['competitive_routes'] / stats['num_routes'] * 100,1 )"
   ]
  },
  {
   "cell_type": "markdown",
   "id": "ab667928-5274-4490-82d9-4c39293209a4",
   "metadata": {
    "papermill": {
     "duration": 0.118525,
     "end_time": "2022-05-07T17:31:37.690442",
     "exception": false,
     "start_time": "2022-05-07T17:31:37.571917",
     "status": "completed"
    },
    "tags": []
   },
   "source": [
    "## Quick Stats"
   ]
  },
  {
   "cell_type": "code",
   "execution_count": 8,
   "id": "0416509d-dc62-4165-b62e-64f8b26e8b8e",
   "metadata": {
    "execution": {
     "iopub.execute_input": "2022-05-07T17:31:37.723523Z",
     "iopub.status.busy": "2022-05-07T17:31:37.723221Z",
     "iopub.status.idle": "2022-05-07T17:31:37.734253Z",
     "shell.execute_reply": "2022-05-07T17:31:37.733538Z"
    },
    "jupyter": {
     "source_hidden": true
    },
    "papermill": {
     "duration": 0.030478,
     "end_time": "2022-05-07T17:31:37.736676",
     "exception": false,
     "start_time": "2022-05-07T17:31:37.706198",
     "status": "completed"
    },
    "tags": [
     "remove_input"
    ]
   },
   "outputs": [
    {
     "data": {
      "text/markdown": [
       "**Bus routes in service**: 15 <br>**Parallel routes** to State Highway Network (SHN): 13 routes (86.7%)<br>**Competitive routes** against car travel: 2 routes (13.3%)"
      ],
      "text/plain": [
       "<IPython.core.display.Markdown object>"
      ]
     },
     "metadata": {},
     "output_type": "display_data"
    }
   ],
   "source": [
    "display(\n",
    "    Markdown(\n",
    "        f\"**Bus routes in service**: {stats['num_routes']} \"\n",
    "        \"<br>**Parallel routes** to State Highway Network (SHN): \"\n",
    "        f\"{stats['parallel_routes']} routes ({pct_parallel}%)\"\n",
    "        f\"<br>**Competitive routes** against car travel: {stats['competitive_routes']} routes ({pct_competitive}%)\"\n",
    "    )\n",
    ")"
   ]
  },
  {
   "cell_type": "code",
   "execution_count": 9,
   "id": "f9d6ab58-f0ee-460c-b6de-657490e1f386",
   "metadata": {
    "execution": {
     "iopub.execute_input": "2022-05-07T17:31:37.784020Z",
     "iopub.status.busy": "2022-05-07T17:31:37.781735Z",
     "iopub.status.idle": "2022-05-07T17:31:37.796703Z",
     "shell.execute_reply": "2022-05-07T17:31:37.795922Z"
    },
    "jupyter": {
     "source_hidden": true
    },
    "papermill": {
     "duration": 0.041564,
     "end_time": "2022-05-07T17:31:37.798991",
     "exception": false,
     "start_time": "2022-05-07T17:31:37.757427",
     "status": "completed"
    },
    "tags": [
     "remove_input"
    ]
   },
   "outputs": [],
   "source": [
    "def set_yaxis_range(df, y_col):\n",
    "    Y_MIN = df[y_col].min()\n",
    "    Y_MAX = df[y_col].max()\n",
    "    \n",
    "    return Y_MIN, Y_MAX\n",
    "\n",
    "# Rather than set it according to the operator, which can vary,\n",
    "# just use set thresholds for each group\n",
    "diff_cutoffs = {\n",
    "    \"short\": 20,\n",
    "    \"medium\": 30,\n",
    "    \"long\": 40,\n",
    "}\n",
    "\n",
    "PCT_TRIPS_BELOW_CUTOFF = 0.25\n",
    "\n",
    "def top15_routes(df, route_group):\n",
    "    df2 = (df[df.route_group==route_group])\n",
    "    # Set a cut-off to enable sorting, where most of the trips are \n",
    "    # below a certain time difference cut-off, \n",
    "    # grab top 15 routes where majority of trips are below that cut-off \n",
    "\n",
    "    route_cols = [\"calitp_itp_id\", \"route_id\"]\n",
    "\n",
    "    df2 = df2.assign(\n",
    "        below_cutoff = df2.apply(lambda x: 1 if x.bus_difference <= diff_cutoffs[route_group] \n",
    "                                 else 0, axis=1),\n",
    "        num_trips = df2.groupby(route_cols)[\"trip_id\"].transform(\"count\")\n",
    "    )\n",
    "\n",
    "    df2[\"below_cutoff\"] = df2.groupby(route_cols)[\"below_cutoff\"].transform(\"sum\")\n",
    "    df2[\"pct_below_cutoff\"] = df2.below_cutoff.divide(df2.num_trips)\n",
    "\n",
    "    # At least half the trips are below that cut-off\n",
    "    # but show 15 max, otherwise, show less, since these won't be as interesting to operators\n",
    "    df3 = (df2[df2.pct_below_cutoff >= PCT_TRIPS_BELOW_CUTOFF]\n",
    "           .sort_values([\"calitp_itp_id\", \"below_cutoff\", \n",
    "                         \"pct_below_cutoff\", \"route_id\"],\n",
    "                        ascending = [True, False, False, True]\n",
    "                       )\n",
    "           .drop_duplicates(subset=[\"calitp_itp_id\", \"route_id\"])\n",
    "          ).head(15)\n",
    "    \n",
    "    return list(df3.route_id)"
   ]
  },
  {
   "cell_type": "code",
   "execution_count": 10,
   "id": "cf36d559-3349-4144-8086-8ac9ce937a5a",
   "metadata": {
    "execution": {
     "iopub.execute_input": "2022-05-07T17:31:38.020399Z",
     "iopub.status.busy": "2022-05-07T17:31:38.019409Z",
     "iopub.status.idle": "2022-05-07T17:31:38.027018Z",
     "shell.execute_reply": "2022-05-07T17:31:38.026242Z"
    },
    "jupyter": {
     "source_hidden": true
    },
    "papermill": {
     "duration": 0.212459,
     "end_time": "2022-05-07T17:31:38.029756",
     "exception": false,
     "start_time": "2022-05-07T17:31:37.817297",
     "status": "completed"
    },
    "tags": [
     "remove_input"
    ]
   },
   "outputs": [],
   "source": [
    "short_caption = (\n",
    "    f\"<br>These are routes that have at least {int(PCT_TRIPS_BELOW_CUTOFF*100)}% of their trips \"\n",
    "    f\"take no more than an additional {diff_cutoffs['short']} min compared to a car \"\n",
    "    \"(up to 15 routes) are shown.\"\n",
    ")\n",
    "\n",
    "med_caption = (\n",
    "    f\"<br>These are routes that have at least {int(PCT_TRIPS_BELOW_CUTOFF*100)}% of their trips \"\n",
    "    f\"take no more than an additional {diff_cutoffs['medium']} min compared to a car \"\n",
    "    \"(up to 15 routes) are shown.\"\n",
    ")\n",
    "\n",
    "long_caption = (\n",
    "    f\"<br>These are routes that have at least {int(PCT_TRIPS_BELOW_CUTOFF*100)}% of their trips \"\n",
    "    f\"take no more than an additional {diff_cutoffs['long']} min compared to a car \"\n",
    "    \"(up to 15 routes) are shown.\")\n",
    "\n",
    "\n",
    "CAPTIONS_DICT = {\n",
    "    \"short\": short_caption,\n",
    "    \"medium\": med_caption,\n",
    "    \"long\": long_caption,\n",
    "}"
   ]
  },
  {
   "cell_type": "code",
   "execution_count": 11,
   "id": "e4306d58-6944-47e9-afef-5d5b524c751f",
   "metadata": {
    "execution": {
     "iopub.execute_input": "2022-05-07T17:31:38.076194Z",
     "iopub.status.busy": "2022-05-07T17:31:38.075826Z",
     "iopub.status.idle": "2022-05-07T17:31:38.085434Z",
     "shell.execute_reply": "2022-05-07T17:31:38.084875Z"
    },
    "jupyter": {
     "source_hidden": true
    },
    "papermill": {
     "duration": 0.035239,
     "end_time": "2022-05-07T17:31:38.087281",
     "exception": false,
     "start_time": "2022-05-07T17:31:38.052042",
     "status": "completed"
    },
    "tags": [
     "remove_input"
    ]
   },
   "outputs": [],
   "source": [
    "def setup_charts(df, PCT_COMPETITIVE_THRESHOLD, route_group):\n",
    "    # Set up df for charting (cut-off at some threshold to show most competitive routes)\n",
    "    plot_me = (df[df.pct_trips_competitive > PCT_COMPETITIVE_THRESHOLD]\n",
    "           .drop(columns = \"geometry\")\n",
    "    )\n",
    "    \n",
    "    y_col1 = \"bus_multiplier\"\n",
    "    Y_MIN1, Y_MAX1 = set_yaxis_range(plot_me, y_col1)\n",
    "\n",
    "    y_col2 = \"bus_difference\"\n",
    "    Y_MIN2, Y_MAX2 = set_yaxis_range(plot_me, y_col2)\n",
    "     \n",
    "    subset_routes = top15_routes(plot_me, route_group)\n",
    "    \n",
    "    multiplier_chart = parallel_corridors_utils.make_stripplot(\n",
    "        plot_me[plot_me.route_id.isin(subset_routes)], \n",
    "        y_col1, Y_MIN = Y_MIN1, Y_MAX = Y_MAX1\n",
    "    )\n",
    "    \n",
    "    difference_chart = parallel_corridors_utils.make_stripplot(\n",
    "        plot_me[plot_me.route_id.isin(subset_routes)], \n",
    "        y_col2, Y_MIN = Y_MIN2, Y_MAX = Y_MAX2\n",
    "    )\n",
    "    \n",
    "    return subset_routes, multiplier_chart, difference_chart            "
   ]
  },
  {
   "cell_type": "markdown",
   "id": "525f9b38-072b-46d1-96a8-1aa4b038357c",
   "metadata": {
    "papermill": {
     "duration": 0.216544,
     "end_time": "2022-05-07T17:31:38.316545",
     "exception": false,
     "start_time": "2022-05-07T17:31:38.100001",
     "status": "completed"
    },
    "tags": []
   },
   "source": [
    "## Viable Competitive Routes\n",
    "### Short Routes (< 1 hr)"
   ]
  },
  {
   "cell_type": "code",
   "execution_count": 12,
   "id": "57f7084c-2cf7-45c6-ba08-1609e0bd6ca5",
   "metadata": {
    "execution": {
     "iopub.execute_input": "2022-05-07T17:31:38.350225Z",
     "iopub.status.busy": "2022-05-07T17:31:38.349946Z",
     "iopub.status.idle": "2022-05-07T17:31:38.377865Z",
     "shell.execute_reply": "2022-05-07T17:31:38.375035Z"
    },
    "jupyter": {
     "source_hidden": true
    },
    "papermill": {
     "duration": 0.050159,
     "end_time": "2022-05-07T17:31:38.382839",
     "exception": false,
     "start_time": "2022-05-07T17:31:38.332680",
     "status": "completed"
    },
    "tags": [
     "remove_input"
    ]
   },
   "outputs": [
    {
     "name": "stdout",
     "output_type": "stream",
     "text": [
      "No routes meet this criteria.\n"
     ]
    }
   ],
   "source": [
    "# Allow for possibility that operator doesn't have routes that fall into certain route_groups\n",
    "# But, jupyterbook will not like markdown with f-string\n",
    "# separate out route_group and put in each cell, and use try/except + if to display...\n",
    "# but all 3 route groups must be displayed. just add sentence about why no routes were returned at the end\n",
    "route_group = \"short\"\n",
    "try:\n",
    "    subset_routes, mult, diff  = setup_charts(df, PCT_COMPETITIVE_THRESHOLD, route_group)\n",
    "    \n",
    "    if len(subset_routes) > 0:\n",
    "        display(\n",
    "            Markdown(\n",
    "                f\"{CAPTIONS_DICT[route_group]}\"\n",
    "                \"Within each route group, routes are sorted in descending order \"\n",
    "                \"by % competitive trips and # trips below the additional time cut-off.\"\n",
    "            )\n",
    "        )\n",
    "\n",
    "        display(mult)\n",
    "        display(diff)\n",
    "except:\n",
    "    print(\"No routes meet this criteria.\")"
   ]
  },
  {
   "cell_type": "markdown",
   "id": "c2931b6f-034d-4384-9e14-80b925e3b820",
   "metadata": {
    "papermill": {
     "duration": 0.020425,
     "end_time": "2022-05-07T17:31:38.433738",
     "exception": false,
     "start_time": "2022-05-07T17:31:38.413313",
     "status": "completed"
    },
    "tags": []
   },
   "source": [
    "### Medium Routes (1-1.5 hrs)"
   ]
  },
  {
   "cell_type": "code",
   "execution_count": 13,
   "id": "480edddc-4de0-48c2-ae4c-b0ceef8f28b5",
   "metadata": {
    "execution": {
     "iopub.execute_input": "2022-05-07T17:31:38.685307Z",
     "iopub.status.busy": "2022-05-07T17:31:38.684980Z",
     "iopub.status.idle": "2022-05-07T17:31:38.998881Z",
     "shell.execute_reply": "2022-05-07T17:31:38.997958Z"
    },
    "jupyter": {
     "source_hidden": true
    },
    "papermill": {
     "duration": 0.337257,
     "end_time": "2022-05-07T17:31:39.001025",
     "exception": false,
     "start_time": "2022-05-07T17:31:38.663768",
     "status": "completed"
    },
    "tags": [
     "remove_input"
    ]
   },
   "outputs": [
    {
     "data": {
      "text/markdown": [
       "<br>These are routes that have at least 25% of their trips take no more than an additional 30 min compared to a car (up to 15 routes) are shown.Within each route group, routes are sorted in descending order by % competitive trips and # trips below the additional time cut-off."
      ],
      "text/plain": [
       "<IPython.core.display.Markdown object>"
      ]
     },
     "metadata": {},
     "output_type": "display_data"
    },
    {
     "data": {
      "text/html": [
       "\n",
       "<div id=\"altair-viz-9197494bf85446bf85a16808e5fb0b12\"></div>\n",
       "<script type=\"text/javascript\">\n",
       "  var VEGA_DEBUG = (typeof VEGA_DEBUG == \"undefined\") ? {} : VEGA_DEBUG;\n",
       "  (function(spec, embedOpt){\n",
       "    let outputDiv = document.currentScript.previousElementSibling;\n",
       "    if (outputDiv.id !== \"altair-viz-9197494bf85446bf85a16808e5fb0b12\") {\n",
       "      outputDiv = document.getElementById(\"altair-viz-9197494bf85446bf85a16808e5fb0b12\");\n",
       "    }\n",
       "    const paths = {\n",
       "      \"vega\": \"https://cdn.jsdelivr.net/npm//vega@5?noext\",\n",
       "      \"vega-lib\": \"https://cdn.jsdelivr.net/npm//vega-lib?noext\",\n",
       "      \"vega-lite\": \"https://cdn.jsdelivr.net/npm//vega-lite@4.17.0?noext\",\n",
       "      \"vega-embed\": \"https://cdn.jsdelivr.net/npm//vega-embed@6?noext\",\n",
       "    };\n",
       "\n",
       "    function maybeLoadScript(lib, version) {\n",
       "      var key = `${lib.replace(\"-\", \"\")}_version`;\n",
       "      return (VEGA_DEBUG[key] == version) ?\n",
       "        Promise.resolve(paths[lib]) :\n",
       "        new Promise(function(resolve, reject) {\n",
       "          var s = document.createElement('script');\n",
       "          document.getElementsByTagName(\"head\")[0].appendChild(s);\n",
       "          s.async = true;\n",
       "          s.onload = () => {\n",
       "            VEGA_DEBUG[key] = version;\n",
       "            return resolve(paths[lib]);\n",
       "          };\n",
       "          s.onerror = () => reject(`Error loading script: ${paths[lib]}`);\n",
       "          s.src = paths[lib];\n",
       "        });\n",
       "    }\n",
       "\n",
       "    function showError(err) {\n",
       "      outputDiv.innerHTML = `<div class=\"error\" style=\"color:red;\">${err}</div>`;\n",
       "      throw err;\n",
       "    }\n",
       "\n",
       "    function displayChart(vegaEmbed) {\n",
       "      vegaEmbed(outputDiv, spec, embedOpt)\n",
       "        .catch(err => showError(`Javascript Error: ${err.message}<br>This usually means there's a typo in your chart specification. See the javascript console for the full traceback.`));\n",
       "    }\n",
       "\n",
       "    if(typeof define === \"function\" && define.amd) {\n",
       "      requirejs.config({paths});\n",
       "      require([\"vega-embed\"], displayChart, err => showError(`Error loading script: ${err.message}`));\n",
       "    } else {\n",
       "      maybeLoadScript(\"vega\", \"5\")\n",
       "        .then(() => maybeLoadScript(\"vega-lite\", \"4.17.0\"))\n",
       "        .then(() => maybeLoadScript(\"vega-embed\", \"6\"))\n",
       "        .catch(showError)\n",
       "        .then(() => displayChart(vegaEmbed));\n",
       "    }\n",
       "  })({\"config\": {\"view\": {\"continuousWidth\": 400, \"continuousHeight\": 300, \"stroke\": null}, \"facet\": {\"spacing\": 0}}, \"data\": {\"name\": \"data-5e9cf482d3eb2c3bbdb30f50eab7033a\"}, \"facet\": {\"column\": {\"field\": \"route_id\", \"sort\": [\"1881\"], \"title\": \"Route ID\", \"type\": \"nominal\"}}, \"spec\": {\"layer\": [{\"mark\": {\"type\": \"point\", \"opacity\": 0.65, \"size\": 12, \"strokeWidth\": 1.1}, \"encoding\": {\"color\": {\"field\": \"time_of_day\", \"scale\": {\"range\": [\"#136C97\", \"#E16B26\", \"#F6BF16\", \"#00896B\", \"#7790A3\", \"#5B559C\"]}, \"sort\": [\"AM Peak\", \"Midday\", \"PM Peak\", \"Owl Service\"], \"title\": \"Time of Day\", \"type\": \"nominal\"}, \"tooltip\": [{\"field\": \"route_id\", \"type\": \"nominal\"}, {\"field\": \"trip_id\", \"type\": \"nominal\"}, {\"field\": \"service_hours\", \"type\": \"quantitative\"}, {\"field\": \"car_duration_hours\", \"type\": \"quantitative\"}, {\"field\": \"bus_multiplier\", \"type\": \"quantitative\"}, {\"field\": \"bus_difference\", \"type\": \"quantitative\"}, {\"field\": \"num_trips\", \"type\": \"quantitative\"}, {\"field\": \"num_competitive\", \"type\": \"quantitative\"}, {\"field\": \"pct_trips_competitive\", \"type\": \"quantitative\"}, {\"field\": \"p25\", \"type\": \"quantitative\"}, {\"field\": \"p50\", \"type\": \"quantitative\"}, {\"field\": \"p75\", \"type\": \"quantitative\"}], \"x\": {\"axis\": {\"grid\": false, \"labels\": false, \"ticks\": true, \"values\": [0]}, \"field\": \"jitter\", \"scale\": {}, \"title\": null, \"type\": \"quantitative\"}, \"y\": {\"field\": \"bus_multiplier\", \"scale\": {\"domain\": [-0.25, 2.5]}, \"title\": \"Ratio of Bus to Car Travel Time\", \"type\": \"quantitative\"}}, \"selection\": {\"selector001\": {\"type\": \"interval\", \"bind\": \"scales\", \"encodings\": [\"x\", \"y\"]}}, \"transform\": [{\"calculate\": \"sqrt(-2*log(random()))*cos(2*PI*random())\", \"as\": \"jitter\"}], \"width\": 60}, {\"layer\": [{\"mark\": {\"type\": \"point\", \"opacity\": 0.6, \"size\": 20, \"strokeWidth\": 1.3}, \"encoding\": {\"color\": {\"value\": \"#323434\"}, \"y\": {\"field\": \"bus_multiplier\", \"type\": \"quantitative\"}}, \"transform\": [{\"filter\": \"(datum.p50_trip === 1)\"}]}, {\"mark\": {\"type\": \"rule\", \"strokeDash\": [2, 3]}, \"encoding\": {\"color\": {\"value\": \"#323434\"}, \"y\": {\"field\": \"cutoff\", \"type\": \"quantitative\"}}}, {\"mark\": {\"type\": \"text\", \"align\": \"center\", \"baseline\": \"middle\"}, \"encoding\": {\"color\": {\"value\": \"black\"}, \"text\": {\"field\": \"pct_trips_competitive\", \"format\": \".0%\", \"type\": \"quantitative\"}, \"tooltip\": [{\"field\": \"route_id\", \"type\": \"nominal\"}, {\"field\": \"trip_id\", \"type\": \"nominal\"}, {\"field\": \"service_hours\", \"type\": \"quantitative\"}, {\"field\": \"car_duration_hours\", \"type\": \"quantitative\"}, {\"field\": \"bus_multiplier\", \"type\": \"quantitative\"}, {\"field\": \"bus_difference\", \"type\": \"quantitative\"}, {\"field\": \"num_trips\", \"type\": \"quantitative\"}, {\"field\": \"num_competitive\", \"type\": \"quantitative\"}, {\"field\": \"pct_trips_competitive\", \"type\": \"quantitative\"}, {\"field\": \"p25\", \"type\": \"quantitative\"}, {\"field\": \"p50\", \"type\": \"quantitative\"}, {\"field\": \"p75\", \"type\": \"quantitative\"}], \"x\": {\"value\": 30}, \"y\": {\"value\": 15}}, \"transform\": [{\"calculate\": \"sqrt(-2*log(random()))*cos(2*PI*random())\", \"as\": \"jitter\"}, {\"filter\": \"(datum.fastest_trip === 1)\"}]}]}]}, \"resolve\": {\"scale\": {\"y\": \"shared\"}}, \"title\": \"Ratio of Bus to Car Travel Time\", \"$schema\": \"https://vega.github.io/schema/vega-lite/v4.17.0.json\", \"datasets\": {\"data-5e9cf482d3eb2c3bbdb30f50eab7033a\": [{\"calitp_itp_id\": 343, \"trip_key\": 7516215431355909309, \"trip_id\": \"t_1963129_b_33141_tn_0\", \"shape_id\": \"p_1303793\", \"route_id\": \"1881\", \"service_hours\": 1.15, \"trip_first_departure_ts\": 63900, \"trip_last_arrival_ts\": 68040, \"departure_hour\": 17, \"time_of_day\": \"PM Peak\", \"p25\": 1.18, \"p50\": 1.18, \"p75\": 1.23, \"p50_trip\": 0, \"fastest_trip\": 0, \"car_duration_hours\": 0.9, \"competitive_route\": 1, \"bus_multiplier\": 1.28, \"bus_difference\": 15.0, \"num_trips\": 20, \"num_competitive\": 20, \"pct_trips_competitive\": 1.0, \"bus_difference_spread\": 4.8, \"route_group\": \"medium\", \"max_trip_hrs\": 1.23, \"max_trip_route_group\": 1.25, \"name\": \"Transit Joint Powers Authority for Merced County\", \"caltrans_district\": \"10 - Stockton\", \"drmt_organization_name\": null, \"cutoff2\": 18.75, \"cutoff\": 2}, {\"calitp_itp_id\": 343, \"trip_key\": -9179148727592923166, \"trip_id\": \"t_1963130_b_33141_tn_0\", \"shape_id\": \"p_1303793\", \"route_id\": \"1881\", \"service_hours\": 1.15, \"trip_first_departure_ts\": 70200, \"trip_last_arrival_ts\": 74340, \"departure_hour\": 19, \"time_of_day\": \"PM Peak\", \"p25\": 1.18, \"p50\": 1.18, \"p75\": 1.23, \"p50_trip\": 0, \"fastest_trip\": 1, \"car_duration_hours\": 0.9, \"competitive_route\": 1, \"bus_multiplier\": 1.28, \"bus_difference\": 15.0, \"num_trips\": 20, \"num_competitive\": 20, \"pct_trips_competitive\": 1.0, \"bus_difference_spread\": 4.8, \"route_group\": \"medium\", \"max_trip_hrs\": 1.23, \"max_trip_route_group\": 1.25, \"name\": \"Transit Joint Powers Authority for Merced County\", \"caltrans_district\": \"10 - Stockton\", \"drmt_organization_name\": null, \"cutoff2\": 18.75, \"cutoff\": 2}, {\"calitp_itp_id\": 343, \"trip_key\": 5381214985750226954, \"trip_id\": \"t_1963141_b_33141_tn_0\", \"shape_id\": \"p_1303791\", \"route_id\": \"1881\", \"service_hours\": 1.18, \"trip_first_departure_ts\": 65040, \"trip_last_arrival_ts\": 69300, \"departure_hour\": 18, \"time_of_day\": \"PM Peak\", \"p25\": 1.18, \"p50\": 1.18, \"p75\": 1.23, \"p50_trip\": 1, \"fastest_trip\": 0, \"car_duration_hours\": 0.9, \"competitive_route\": 1, \"bus_multiplier\": 1.31, \"bus_difference\": 16.8, \"num_trips\": 20, \"num_competitive\": 20, \"pct_trips_competitive\": 1.0, \"bus_difference_spread\": 4.8, \"route_group\": \"medium\", \"max_trip_hrs\": 1.23, \"max_trip_route_group\": 1.25, \"name\": \"Transit Joint Powers Authority for Merced County\", \"caltrans_district\": \"10 - Stockton\", \"drmt_organization_name\": null, \"cutoff2\": 18.75, \"cutoff\": 2}, {\"calitp_itp_id\": 343, \"trip_key\": 5286043343502123648, \"trip_id\": \"t_1963133_b_33141_tn_0\", \"shape_id\": \"p_1303791\", \"route_id\": \"1881\", \"service_hours\": 1.18, \"trip_first_departure_ts\": 21840, \"trip_last_arrival_ts\": 26100, \"departure_hour\": 6, \"time_of_day\": \"Owl Service\", \"p25\": 1.18, \"p50\": 1.18, \"p75\": 1.23, \"p50_trip\": 1, \"fastest_trip\": 0, \"car_duration_hours\": 0.9, \"competitive_route\": 1, \"bus_multiplier\": 1.31, \"bus_difference\": 16.8, \"num_trips\": 20, \"num_competitive\": 20, \"pct_trips_competitive\": 1.0, \"bus_difference_spread\": 4.8, \"route_group\": \"medium\", \"max_trip_hrs\": 1.23, \"max_trip_route_group\": 1.25, \"name\": \"Transit Joint Powers Authority for Merced County\", \"caltrans_district\": \"10 - Stockton\", \"drmt_organization_name\": null, \"cutoff2\": 18.75, \"cutoff\": 2}, {\"calitp_itp_id\": 343, \"trip_key\": -3118253142166864359, \"trip_id\": \"t_1963139_b_33141_tn_0\", \"shape_id\": \"p_1303791\", \"route_id\": \"1881\", \"service_hours\": 1.18, \"trip_first_departure_ts\": 54240, \"trip_last_arrival_ts\": 58500, \"departure_hour\": 15, \"time_of_day\": \"Midday\", \"p25\": 1.18, \"p50\": 1.18, \"p75\": 1.23, \"p50_trip\": 1, \"fastest_trip\": 0, \"car_duration_hours\": 0.9, \"competitive_route\": 1, \"bus_multiplier\": 1.31, \"bus_difference\": 16.8, \"num_trips\": 20, \"num_competitive\": 20, \"pct_trips_competitive\": 1.0, \"bus_difference_spread\": 4.8, \"route_group\": \"medium\", \"max_trip_hrs\": 1.23, \"max_trip_route_group\": 1.25, \"name\": \"Transit Joint Powers Authority for Merced County\", \"caltrans_district\": \"10 - Stockton\", \"drmt_organization_name\": null, \"cutoff2\": 18.75, \"cutoff\": 2}, {\"calitp_itp_id\": 343, \"trip_key\": -6539832337695123663, \"trip_id\": \"t_1963134_b_33141_tn_0\", \"shape_id\": \"p_1303791\", \"route_id\": \"1881\", \"service_hours\": 1.18, \"trip_first_departure_ts\": 38940, \"trip_last_arrival_ts\": 43200, \"departure_hour\": 10, \"time_of_day\": \"Midday\", \"p25\": 1.18, \"p50\": 1.18, \"p75\": 1.23, \"p50_trip\": 1, \"fastest_trip\": 0, \"car_duration_hours\": 0.9, \"competitive_route\": 1, \"bus_multiplier\": 1.31, \"bus_difference\": 16.8, \"num_trips\": 20, \"num_competitive\": 20, \"pct_trips_competitive\": 1.0, \"bus_difference_spread\": 4.8, \"route_group\": \"medium\", \"max_trip_hrs\": 1.23, \"max_trip_route_group\": 1.25, \"name\": \"Transit Joint Powers Authority for Merced County\", \"caltrans_district\": \"10 - Stockton\", \"drmt_organization_name\": null, \"cutoff2\": 18.75, \"cutoff\": 2}, {\"calitp_itp_id\": 343, \"trip_key\": 6122250569749720475, \"trip_id\": \"t_1963142_b_33141_tn_0\", \"shape_id\": \"p_1303791\", \"route_id\": \"1881\", \"service_hours\": 1.18, \"trip_first_departure_ts\": 68580, \"trip_last_arrival_ts\": 72840, \"departure_hour\": 19, \"time_of_day\": \"PM Peak\", \"p25\": 1.18, \"p50\": 1.18, \"p75\": 1.23, \"p50_trip\": 1, \"fastest_trip\": 0, \"car_duration_hours\": 0.9, \"competitive_route\": 1, \"bus_multiplier\": 1.31, \"bus_difference\": 16.8, \"num_trips\": 20, \"num_competitive\": 20, \"pct_trips_competitive\": 1.0, \"bus_difference_spread\": 4.8, \"route_group\": \"medium\", \"max_trip_hrs\": 1.23, \"max_trip_route_group\": 1.25, \"name\": \"Transit Joint Powers Authority for Merced County\", \"caltrans_district\": \"10 - Stockton\", \"drmt_organization_name\": null, \"cutoff2\": 18.75, \"cutoff\": 2}, {\"calitp_itp_id\": 343, \"trip_key\": 2683520550618393728, \"trip_id\": \"t_1963138_b_33141_tn_0\", \"shape_id\": \"p_1303791\", \"route_id\": \"1881\", \"service_hours\": 1.18, \"trip_first_departure_ts\": 48840, \"trip_last_arrival_ts\": 53100, \"departure_hour\": 13, \"time_of_day\": \"Midday\", \"p25\": 1.18, \"p50\": 1.18, \"p75\": 1.23, \"p50_trip\": 1, \"fastest_trip\": 0, \"car_duration_hours\": 0.9, \"competitive_route\": 1, \"bus_multiplier\": 1.31, \"bus_difference\": 16.8, \"num_trips\": 20, \"num_competitive\": 20, \"pct_trips_competitive\": 1.0, \"bus_difference_spread\": 4.8, \"route_group\": \"medium\", \"max_trip_hrs\": 1.23, \"max_trip_route_group\": 1.25, \"name\": \"Transit Joint Powers Authority for Merced County\", \"caltrans_district\": \"10 - Stockton\", \"drmt_organization_name\": null, \"cutoff2\": 18.75, \"cutoff\": 2}, {\"calitp_itp_id\": 343, \"trip_key\": 3284257985366143338, \"trip_id\": \"t_1963136_b_33141_tn_0\", \"shape_id\": \"p_1303791\", \"route_id\": \"1881\", \"service_hours\": 1.18, \"trip_first_departure_ts\": 32640, \"trip_last_arrival_ts\": 36900, \"departure_hour\": 9, \"time_of_day\": \"AM Peak\", \"p25\": 1.18, \"p50\": 1.18, \"p75\": 1.23, \"p50_trip\": 1, \"fastest_trip\": 0, \"car_duration_hours\": 0.9, \"competitive_route\": 1, \"bus_multiplier\": 1.31, \"bus_difference\": 16.8, \"num_trips\": 20, \"num_competitive\": 20, \"pct_trips_competitive\": 1.0, \"bus_difference_spread\": 4.8, \"route_group\": \"medium\", \"max_trip_hrs\": 1.23, \"max_trip_route_group\": 1.25, \"name\": \"Transit Joint Powers Authority for Merced County\", \"caltrans_district\": \"10 - Stockton\", \"drmt_organization_name\": null, \"cutoff2\": 18.75, \"cutoff\": 2}, {\"calitp_itp_id\": 343, \"trip_key\": -6607512870610324607, \"trip_id\": \"t_1963140_b_33141_tn_0\", \"shape_id\": \"p_1303791\", \"route_id\": \"1881\", \"service_hours\": 1.18, \"trip_first_departure_ts\": 59640, \"trip_last_arrival_ts\": 63900, \"departure_hour\": 16, \"time_of_day\": \"Midday\", \"p25\": 1.18, \"p50\": 1.18, \"p75\": 1.23, \"p50_trip\": 1, \"fastest_trip\": 0, \"car_duration_hours\": 0.9, \"competitive_route\": 1, \"bus_multiplier\": 1.31, \"bus_difference\": 16.8, \"num_trips\": 20, \"num_competitive\": 20, \"pct_trips_competitive\": 1.0, \"bus_difference_spread\": 4.8, \"route_group\": \"medium\", \"max_trip_hrs\": 1.23, \"max_trip_route_group\": 1.25, \"name\": \"Transit Joint Powers Authority for Merced County\", \"caltrans_district\": \"10 - Stockton\", \"drmt_organization_name\": null, \"cutoff2\": 18.75, \"cutoff\": 2}, {\"calitp_itp_id\": 343, \"trip_key\": 7077916178314187876, \"trip_id\": \"t_1963135_b_33141_tn_0\", \"shape_id\": \"p_1303791\", \"route_id\": \"1881\", \"service_hours\": 1.18, \"trip_first_departure_ts\": 29040, \"trip_last_arrival_ts\": 33300, \"departure_hour\": 8, \"time_of_day\": \"AM Peak\", \"p25\": 1.18, \"p50\": 1.18, \"p75\": 1.23, \"p50_trip\": 1, \"fastest_trip\": 0, \"car_duration_hours\": 0.9, \"competitive_route\": 1, \"bus_multiplier\": 1.31, \"bus_difference\": 16.8, \"num_trips\": 20, \"num_competitive\": 20, \"pct_trips_competitive\": 1.0, \"bus_difference_spread\": 4.8, \"route_group\": \"medium\", \"max_trip_hrs\": 1.23, \"max_trip_route_group\": 1.25, \"name\": \"Transit Joint Powers Authority for Merced County\", \"caltrans_district\": \"10 - Stockton\", \"drmt_organization_name\": null, \"cutoff2\": 18.75, \"cutoff\": 2}, {\"calitp_itp_id\": 343, \"trip_key\": 1642406009089055462, \"trip_id\": \"t_1963137_b_33141_tn_0\", \"shape_id\": \"p_1303791\", \"route_id\": \"1881\", \"service_hours\": 1.18, \"trip_first_departure_ts\": 43440, \"trip_last_arrival_ts\": 47700, \"departure_hour\": 12, \"time_of_day\": \"Midday\", \"p25\": 1.18, \"p50\": 1.18, \"p75\": 1.23, \"p50_trip\": 1, \"fastest_trip\": 0, \"car_duration_hours\": 0.9, \"competitive_route\": 1, \"bus_multiplier\": 1.31, \"bus_difference\": 16.8, \"num_trips\": 20, \"num_competitive\": 20, \"pct_trips_competitive\": 1.0, \"bus_difference_spread\": 4.8, \"route_group\": \"medium\", \"max_trip_hrs\": 1.23, \"max_trip_route_group\": 1.25, \"name\": \"Transit Joint Powers Authority for Merced County\", \"caltrans_district\": \"10 - Stockton\", \"drmt_organization_name\": null, \"cutoff2\": 18.75, \"cutoff\": 2}, {\"calitp_itp_id\": 343, \"trip_key\": -4440352420161409541, \"trip_id\": \"t_1963126_b_33141_tn_0\", \"shape_id\": \"p_1303788\", \"route_id\": \"1881\", \"service_hours\": 1.23, \"trip_first_departure_ts\": 33300, \"trip_last_arrival_ts\": 37740, \"departure_hour\": 9, \"time_of_day\": \"AM Peak\", \"p25\": 1.18, \"p50\": 1.18, \"p75\": 1.23, \"p50_trip\": 0, \"fastest_trip\": 0, \"car_duration_hours\": 0.9, \"competitive_route\": 1, \"bus_multiplier\": 1.37, \"bus_difference\": 19.8, \"num_trips\": 20, \"num_competitive\": 20, \"pct_trips_competitive\": 1.0, \"bus_difference_spread\": 4.8, \"route_group\": \"medium\", \"max_trip_hrs\": 1.23, \"max_trip_route_group\": 1.25, \"name\": \"Transit Joint Powers Authority for Merced County\", \"caltrans_district\": \"10 - Stockton\", \"drmt_organization_name\": null, \"cutoff2\": 18.75, \"cutoff\": 2}, {\"calitp_itp_id\": 343, \"trip_key\": 4330130170498142458, \"trip_id\": \"t_1963124_b_33141_tn_0\", \"shape_id\": \"p_1303788\", \"route_id\": \"1881\", \"service_hours\": 1.23, \"trip_first_departure_ts\": 48600, \"trip_last_arrival_ts\": 53040, \"departure_hour\": 13, \"time_of_day\": \"Midday\", \"p25\": 1.18, \"p50\": 1.18, \"p75\": 1.23, \"p50_trip\": 0, \"fastest_trip\": 0, \"car_duration_hours\": 0.9, \"competitive_route\": 1, \"bus_multiplier\": 1.37, \"bus_difference\": 19.8, \"num_trips\": 20, \"num_competitive\": 20, \"pct_trips_competitive\": 1.0, \"bus_difference_spread\": 4.8, \"route_group\": \"medium\", \"max_trip_hrs\": 1.23, \"max_trip_route_group\": 1.25, \"name\": \"Transit Joint Powers Authority for Merced County\", \"caltrans_district\": \"10 - Stockton\", \"drmt_organization_name\": null, \"cutoff2\": 18.75, \"cutoff\": 2}, {\"calitp_itp_id\": 343, \"trip_key\": -1448756516359851733, \"trip_id\": \"t_1963131_b_33141_tn_0\", \"shape_id\": \"p_1303788\", \"route_id\": \"1881\", \"service_hours\": 1.23, \"trip_first_departure_ts\": 27000, \"trip_last_arrival_ts\": 31440, \"departure_hour\": 7, \"time_of_day\": \"AM Peak\", \"p25\": 1.18, \"p50\": 1.18, \"p75\": 1.23, \"p50_trip\": 0, \"fastest_trip\": 0, \"car_duration_hours\": 0.9, \"competitive_route\": 1, \"bus_multiplier\": 1.37, \"bus_difference\": 19.8, \"num_trips\": 20, \"num_competitive\": 20, \"pct_trips_competitive\": 1.0, \"bus_difference_spread\": 4.8, \"route_group\": \"medium\", \"max_trip_hrs\": 1.23, \"max_trip_route_group\": 1.25, \"name\": \"Transit Joint Powers Authority for Merced County\", \"caltrans_district\": \"10 - Stockton\", \"drmt_organization_name\": null, \"cutoff2\": 18.75, \"cutoff\": 2}, {\"calitp_itp_id\": 343, \"trip_key\": 2839669944368947609, \"trip_id\": \"t_1963125_b_33141_tn_0\", \"shape_id\": \"p_1303788\", \"route_id\": \"1881\", \"service_hours\": 1.23, \"trip_first_departure_ts\": 59400, \"trip_last_arrival_ts\": 63840, \"departure_hour\": 16, \"time_of_day\": \"Midday\", \"p25\": 1.18, \"p50\": 1.18, \"p75\": 1.23, \"p50_trip\": 0, \"fastest_trip\": 0, \"car_duration_hours\": 0.9, \"competitive_route\": 1, \"bus_multiplier\": 1.37, \"bus_difference\": 19.8, \"num_trips\": 20, \"num_competitive\": 20, \"pct_trips_competitive\": 1.0, \"bus_difference_spread\": 4.8, \"route_group\": \"medium\", \"max_trip_hrs\": 1.23, \"max_trip_route_group\": 1.25, \"name\": \"Transit Joint Powers Authority for Merced County\", \"caltrans_district\": \"10 - Stockton\", \"drmt_organization_name\": null, \"cutoff2\": 18.75, \"cutoff\": 2}, {\"calitp_itp_id\": 343, \"trip_key\": -2346356644846226611, \"trip_id\": \"t_1963123_b_33141_tn_0\", \"shape_id\": \"p_1303788\", \"route_id\": \"1881\", \"service_hours\": 1.23, \"trip_first_departure_ts\": 37800, \"trip_last_arrival_ts\": 42240, \"departure_hour\": 10, \"time_of_day\": \"Midday\", \"p25\": 1.18, \"p50\": 1.18, \"p75\": 1.23, \"p50_trip\": 0, \"fastest_trip\": 0, \"car_duration_hours\": 0.9, \"competitive_route\": 1, \"bus_multiplier\": 1.37, \"bus_difference\": 19.8, \"num_trips\": 20, \"num_competitive\": 20, \"pct_trips_competitive\": 1.0, \"bus_difference_spread\": 4.8, \"route_group\": \"medium\", \"max_trip_hrs\": 1.23, \"max_trip_route_group\": 1.25, \"name\": \"Transit Joint Powers Authority for Merced County\", \"caltrans_district\": \"10 - Stockton\", \"drmt_organization_name\": null, \"cutoff2\": 18.75, \"cutoff\": 2}, {\"calitp_itp_id\": 343, \"trip_key\": 8313034551470198749, \"trip_id\": \"t_1963128_b_33141_tn_0\", \"shape_id\": \"p_1303788\", \"route_id\": \"1881\", \"service_hours\": 1.23, \"trip_first_departure_ts\": 54000, \"trip_last_arrival_ts\": 58440, \"departure_hour\": 15, \"time_of_day\": \"Midday\", \"p25\": 1.18, \"p50\": 1.18, \"p75\": 1.23, \"p50_trip\": 0, \"fastest_trip\": 0, \"car_duration_hours\": 0.9, \"competitive_route\": 1, \"bus_multiplier\": 1.37, \"bus_difference\": 19.8, \"num_trips\": 20, \"num_competitive\": 20, \"pct_trips_competitive\": 1.0, \"bus_difference_spread\": 4.8, \"route_group\": \"medium\", \"max_trip_hrs\": 1.23, \"max_trip_route_group\": 1.25, \"name\": \"Transit Joint Powers Authority for Merced County\", \"caltrans_district\": \"10 - Stockton\", \"drmt_organization_name\": null, \"cutoff2\": 18.75, \"cutoff\": 2}, {\"calitp_itp_id\": 343, \"trip_key\": -5484133089713109700, \"trip_id\": \"t_1963132_b_33141_tn_0\", \"shape_id\": \"p_1303788\", \"route_id\": \"1881\", \"service_hours\": 1.23, \"trip_first_departure_ts\": 23400, \"trip_last_arrival_ts\": 27840, \"departure_hour\": 6, \"time_of_day\": \"Owl Service\", \"p25\": 1.18, \"p50\": 1.18, \"p75\": 1.23, \"p50_trip\": 0, \"fastest_trip\": 0, \"car_duration_hours\": 0.9, \"competitive_route\": 1, \"bus_multiplier\": 1.37, \"bus_difference\": 19.8, \"num_trips\": 20, \"num_competitive\": 20, \"pct_trips_competitive\": 1.0, \"bus_difference_spread\": 4.8, \"route_group\": \"medium\", \"max_trip_hrs\": 1.23, \"max_trip_route_group\": 1.25, \"name\": \"Transit Joint Powers Authority for Merced County\", \"caltrans_district\": \"10 - Stockton\", \"drmt_organization_name\": null, \"cutoff2\": 18.75, \"cutoff\": 2}, {\"calitp_itp_id\": 343, \"trip_key\": -8923446581115531070, \"trip_id\": \"t_1963127_b_33141_tn_0\", \"shape_id\": \"p_1303788\", \"route_id\": \"1881\", \"service_hours\": 1.23, \"trip_first_departure_ts\": 43200, \"trip_last_arrival_ts\": 47640, \"departure_hour\": 12, \"time_of_day\": \"Midday\", \"p25\": 1.18, \"p50\": 1.18, \"p75\": 1.23, \"p50_trip\": 0, \"fastest_trip\": 0, \"car_duration_hours\": 0.9, \"competitive_route\": 1, \"bus_multiplier\": 1.37, \"bus_difference\": 19.8, \"num_trips\": 20, \"num_competitive\": 20, \"pct_trips_competitive\": 1.0, \"bus_difference_spread\": 4.8, \"route_group\": \"medium\", \"max_trip_hrs\": 1.23, \"max_trip_route_group\": 1.25, \"name\": \"Transit Joint Powers Authority for Merced County\", \"caltrans_district\": \"10 - Stockton\", \"drmt_organization_name\": null, \"cutoff2\": 18.75, \"cutoff\": 2}]}}, {\"mode\": \"vega-lite\"});\n",
       "</script>"
      ],
      "text/plain": [
       "alt.FacetChart(...)"
      ]
     },
     "metadata": {},
     "output_type": "display_data"
    },
    {
     "data": {
      "text/html": [
       "\n",
       "<div id=\"altair-viz-abe79536b956433394ad10d50b09aa42\"></div>\n",
       "<script type=\"text/javascript\">\n",
       "  var VEGA_DEBUG = (typeof VEGA_DEBUG == \"undefined\") ? {} : VEGA_DEBUG;\n",
       "  (function(spec, embedOpt){\n",
       "    let outputDiv = document.currentScript.previousElementSibling;\n",
       "    if (outputDiv.id !== \"altair-viz-abe79536b956433394ad10d50b09aa42\") {\n",
       "      outputDiv = document.getElementById(\"altair-viz-abe79536b956433394ad10d50b09aa42\");\n",
       "    }\n",
       "    const paths = {\n",
       "      \"vega\": \"https://cdn.jsdelivr.net/npm//vega@5?noext\",\n",
       "      \"vega-lib\": \"https://cdn.jsdelivr.net/npm//vega-lib?noext\",\n",
       "      \"vega-lite\": \"https://cdn.jsdelivr.net/npm//vega-lite@4.17.0?noext\",\n",
       "      \"vega-embed\": \"https://cdn.jsdelivr.net/npm//vega-embed@6?noext\",\n",
       "    };\n",
       "\n",
       "    function maybeLoadScript(lib, version) {\n",
       "      var key = `${lib.replace(\"-\", \"\")}_version`;\n",
       "      return (VEGA_DEBUG[key] == version) ?\n",
       "        Promise.resolve(paths[lib]) :\n",
       "        new Promise(function(resolve, reject) {\n",
       "          var s = document.createElement('script');\n",
       "          document.getElementsByTagName(\"head\")[0].appendChild(s);\n",
       "          s.async = true;\n",
       "          s.onload = () => {\n",
       "            VEGA_DEBUG[key] = version;\n",
       "            return resolve(paths[lib]);\n",
       "          };\n",
       "          s.onerror = () => reject(`Error loading script: ${paths[lib]}`);\n",
       "          s.src = paths[lib];\n",
       "        });\n",
       "    }\n",
       "\n",
       "    function showError(err) {\n",
       "      outputDiv.innerHTML = `<div class=\"error\" style=\"color:red;\">${err}</div>`;\n",
       "      throw err;\n",
       "    }\n",
       "\n",
       "    function displayChart(vegaEmbed) {\n",
       "      vegaEmbed(outputDiv, spec, embedOpt)\n",
       "        .catch(err => showError(`Javascript Error: ${err.message}<br>This usually means there's a typo in your chart specification. See the javascript console for the full traceback.`));\n",
       "    }\n",
       "\n",
       "    if(typeof define === \"function\" && define.amd) {\n",
       "      requirejs.config({paths});\n",
       "      require([\"vega-embed\"], displayChart, err => showError(`Error loading script: ${err.message}`));\n",
       "    } else {\n",
       "      maybeLoadScript(\"vega\", \"5\")\n",
       "        .then(() => maybeLoadScript(\"vega-lite\", \"4.17.0\"))\n",
       "        .then(() => maybeLoadScript(\"vega-embed\", \"6\"))\n",
       "        .catch(showError)\n",
       "        .then(() => displayChart(vegaEmbed));\n",
       "    }\n",
       "  })({\"config\": {\"view\": {\"continuousWidth\": 400, \"continuousHeight\": 300, \"stroke\": null}, \"facet\": {\"spacing\": 0}}, \"data\": {\"name\": \"data-b93ed1a48e262a78d2f2437d4b2e0d5b\"}, \"facet\": {\"column\": {\"field\": \"route_id\", \"sort\": [\"1881\"], \"title\": \"Route ID\", \"type\": \"nominal\"}}, \"spec\": {\"layer\": [{\"mark\": {\"type\": \"point\", \"opacity\": 0.65, \"size\": 12, \"strokeWidth\": 1.1}, \"encoding\": {\"color\": {\"field\": \"time_of_day\", \"scale\": {\"range\": [\"#136C97\", \"#E16B26\", \"#F6BF16\", \"#00896B\", \"#7790A3\", \"#5B559C\"]}, \"sort\": [\"AM Peak\", \"Midday\", \"PM Peak\", \"Owl Service\"], \"title\": \"Time of Day\", \"type\": \"nominal\"}, \"tooltip\": [{\"field\": \"route_id\", \"type\": \"nominal\"}, {\"field\": \"trip_id\", \"type\": \"nominal\"}, {\"field\": \"service_hours\", \"type\": \"quantitative\"}, {\"field\": \"car_duration_hours\", \"type\": \"quantitative\"}, {\"field\": \"bus_multiplier\", \"type\": \"quantitative\"}, {\"field\": \"bus_difference\", \"type\": \"quantitative\"}, {\"field\": \"num_trips\", \"type\": \"quantitative\"}, {\"field\": \"num_competitive\", \"type\": \"quantitative\"}, {\"field\": \"pct_trips_competitive\", \"type\": \"quantitative\"}, {\"field\": \"p25\", \"type\": \"quantitative\"}, {\"field\": \"p50\", \"type\": \"quantitative\"}, {\"field\": \"p75\", \"type\": \"quantitative\"}], \"x\": {\"axis\": {\"grid\": false, \"labels\": false, \"ticks\": true, \"values\": [0]}, \"field\": \"jitter\", \"scale\": {}, \"title\": null, \"type\": \"quantitative\"}, \"y\": {\"field\": \"bus_difference\", \"scale\": {\"domain\": [-5, 23.75]}, \"title\": \"Difference in Bus to Car Travel Time (min)\", \"type\": \"quantitative\"}}, \"selection\": {\"selector002\": {\"type\": \"interval\", \"bind\": \"scales\", \"encodings\": [\"x\", \"y\"]}}, \"transform\": [{\"calculate\": \"sqrt(-2*log(random()))*cos(2*PI*random())\", \"as\": \"jitter\"}], \"width\": 60}, {\"layer\": [{\"mark\": {\"type\": \"point\", \"opacity\": 0.6, \"size\": 20, \"strokeWidth\": 1.3}, \"encoding\": {\"color\": {\"value\": \"#323434\"}, \"y\": {\"field\": \"bus_difference\", \"type\": \"quantitative\"}}, \"transform\": [{\"filter\": \"(datum.p50_trip === 1)\"}]}, {\"mark\": {\"type\": \"rule\", \"strokeDash\": [2, 3]}, \"encoding\": {\"color\": {\"value\": \"#323434\"}, \"y\": {\"field\": \"cutoff\", \"type\": \"quantitative\"}}}, {\"mark\": {\"type\": \"rule\", \"strokeDash\": [2, 3]}, \"encoding\": {\"color\": {\"value\": \"#136C97\"}, \"y\": {\"field\": \"cutoff2\", \"type\": \"quantitative\"}}}, {\"mark\": {\"type\": \"text\", \"align\": \"center\", \"baseline\": \"middle\"}, \"encoding\": {\"color\": {\"value\": \"black\"}, \"text\": {\"field\": \"pct_trips_competitive\", \"format\": \".0%\", \"type\": \"quantitative\"}, \"tooltip\": [{\"field\": \"route_id\", \"type\": \"nominal\"}, {\"field\": \"trip_id\", \"type\": \"nominal\"}, {\"field\": \"service_hours\", \"type\": \"quantitative\"}, {\"field\": \"car_duration_hours\", \"type\": \"quantitative\"}, {\"field\": \"bus_multiplier\", \"type\": \"quantitative\"}, {\"field\": \"bus_difference\", \"type\": \"quantitative\"}, {\"field\": \"num_trips\", \"type\": \"quantitative\"}, {\"field\": \"num_competitive\", \"type\": \"quantitative\"}, {\"field\": \"pct_trips_competitive\", \"type\": \"quantitative\"}, {\"field\": \"p25\", \"type\": \"quantitative\"}, {\"field\": \"p50\", \"type\": \"quantitative\"}, {\"field\": \"p75\", \"type\": \"quantitative\"}], \"x\": {\"value\": 30}, \"y\": {\"value\": 15}}, \"transform\": [{\"calculate\": \"sqrt(-2*log(random()))*cos(2*PI*random())\", \"as\": \"jitter\"}, {\"filter\": \"(datum.fastest_trip === 1)\"}]}]}]}, \"resolve\": {\"scale\": {\"y\": \"shared\"}}, \"title\": \"Difference in Bus to Car Travel Time (min)\", \"$schema\": \"https://vega.github.io/schema/vega-lite/v4.17.0.json\", \"datasets\": {\"data-b93ed1a48e262a78d2f2437d4b2e0d5b\": [{\"calitp_itp_id\": 343, \"trip_key\": 7516215431355909309, \"trip_id\": \"t_1963129_b_33141_tn_0\", \"shape_id\": \"p_1303793\", \"route_id\": \"1881\", \"service_hours\": 1.15, \"trip_first_departure_ts\": 63900, \"trip_last_arrival_ts\": 68040, \"departure_hour\": 17, \"time_of_day\": \"PM Peak\", \"p25\": 1.18, \"p50\": 1.18, \"p75\": 1.23, \"p50_trip\": 0, \"fastest_trip\": 0, \"car_duration_hours\": 0.9, \"competitive_route\": 1, \"bus_multiplier\": 1.28, \"bus_difference\": 15.0, \"num_trips\": 20, \"num_competitive\": 20, \"pct_trips_competitive\": 1.0, \"bus_difference_spread\": 4.8, \"route_group\": \"medium\", \"max_trip_hrs\": 1.23, \"max_trip_route_group\": 1.25, \"name\": \"Transit Joint Powers Authority for Merced County\", \"caltrans_district\": \"10 - Stockton\", \"drmt_organization_name\": null, \"cutoff2\": 18.75, \"cutoff\": 0}, {\"calitp_itp_id\": 343, \"trip_key\": -9179148727592923166, \"trip_id\": \"t_1963130_b_33141_tn_0\", \"shape_id\": \"p_1303793\", \"route_id\": \"1881\", \"service_hours\": 1.15, \"trip_first_departure_ts\": 70200, \"trip_last_arrival_ts\": 74340, \"departure_hour\": 19, \"time_of_day\": \"PM Peak\", \"p25\": 1.18, \"p50\": 1.18, \"p75\": 1.23, \"p50_trip\": 0, \"fastest_trip\": 1, \"car_duration_hours\": 0.9, \"competitive_route\": 1, \"bus_multiplier\": 1.28, \"bus_difference\": 15.0, \"num_trips\": 20, \"num_competitive\": 20, \"pct_trips_competitive\": 1.0, \"bus_difference_spread\": 4.8, \"route_group\": \"medium\", \"max_trip_hrs\": 1.23, \"max_trip_route_group\": 1.25, \"name\": \"Transit Joint Powers Authority for Merced County\", \"caltrans_district\": \"10 - Stockton\", \"drmt_organization_name\": null, \"cutoff2\": 18.75, \"cutoff\": 0}, {\"calitp_itp_id\": 343, \"trip_key\": 5381214985750226954, \"trip_id\": \"t_1963141_b_33141_tn_0\", \"shape_id\": \"p_1303791\", \"route_id\": \"1881\", \"service_hours\": 1.18, \"trip_first_departure_ts\": 65040, \"trip_last_arrival_ts\": 69300, \"departure_hour\": 18, \"time_of_day\": \"PM Peak\", \"p25\": 1.18, \"p50\": 1.18, \"p75\": 1.23, \"p50_trip\": 1, \"fastest_trip\": 0, \"car_duration_hours\": 0.9, \"competitive_route\": 1, \"bus_multiplier\": 1.31, \"bus_difference\": 16.8, \"num_trips\": 20, \"num_competitive\": 20, \"pct_trips_competitive\": 1.0, \"bus_difference_spread\": 4.8, \"route_group\": \"medium\", \"max_trip_hrs\": 1.23, \"max_trip_route_group\": 1.25, \"name\": \"Transit Joint Powers Authority for Merced County\", \"caltrans_district\": \"10 - Stockton\", \"drmt_organization_name\": null, \"cutoff2\": 18.75, \"cutoff\": 0}, {\"calitp_itp_id\": 343, \"trip_key\": 5286043343502123648, \"trip_id\": \"t_1963133_b_33141_tn_0\", \"shape_id\": \"p_1303791\", \"route_id\": \"1881\", \"service_hours\": 1.18, \"trip_first_departure_ts\": 21840, \"trip_last_arrival_ts\": 26100, \"departure_hour\": 6, \"time_of_day\": \"Owl Service\", \"p25\": 1.18, \"p50\": 1.18, \"p75\": 1.23, \"p50_trip\": 1, \"fastest_trip\": 0, \"car_duration_hours\": 0.9, \"competitive_route\": 1, \"bus_multiplier\": 1.31, \"bus_difference\": 16.8, \"num_trips\": 20, \"num_competitive\": 20, \"pct_trips_competitive\": 1.0, \"bus_difference_spread\": 4.8, \"route_group\": \"medium\", \"max_trip_hrs\": 1.23, \"max_trip_route_group\": 1.25, \"name\": \"Transit Joint Powers Authority for Merced County\", \"caltrans_district\": \"10 - Stockton\", \"drmt_organization_name\": null, \"cutoff2\": 18.75, \"cutoff\": 0}, {\"calitp_itp_id\": 343, \"trip_key\": -3118253142166864359, \"trip_id\": \"t_1963139_b_33141_tn_0\", \"shape_id\": \"p_1303791\", \"route_id\": \"1881\", \"service_hours\": 1.18, \"trip_first_departure_ts\": 54240, \"trip_last_arrival_ts\": 58500, \"departure_hour\": 15, \"time_of_day\": \"Midday\", \"p25\": 1.18, \"p50\": 1.18, \"p75\": 1.23, \"p50_trip\": 1, \"fastest_trip\": 0, \"car_duration_hours\": 0.9, \"competitive_route\": 1, \"bus_multiplier\": 1.31, \"bus_difference\": 16.8, \"num_trips\": 20, \"num_competitive\": 20, \"pct_trips_competitive\": 1.0, \"bus_difference_spread\": 4.8, \"route_group\": \"medium\", \"max_trip_hrs\": 1.23, \"max_trip_route_group\": 1.25, \"name\": \"Transit Joint Powers Authority for Merced County\", \"caltrans_district\": \"10 - Stockton\", \"drmt_organization_name\": null, \"cutoff2\": 18.75, \"cutoff\": 0}, {\"calitp_itp_id\": 343, \"trip_key\": -6539832337695123663, \"trip_id\": \"t_1963134_b_33141_tn_0\", \"shape_id\": \"p_1303791\", \"route_id\": \"1881\", \"service_hours\": 1.18, \"trip_first_departure_ts\": 38940, \"trip_last_arrival_ts\": 43200, \"departure_hour\": 10, \"time_of_day\": \"Midday\", \"p25\": 1.18, \"p50\": 1.18, \"p75\": 1.23, \"p50_trip\": 1, \"fastest_trip\": 0, \"car_duration_hours\": 0.9, \"competitive_route\": 1, \"bus_multiplier\": 1.31, \"bus_difference\": 16.8, \"num_trips\": 20, \"num_competitive\": 20, \"pct_trips_competitive\": 1.0, \"bus_difference_spread\": 4.8, \"route_group\": \"medium\", \"max_trip_hrs\": 1.23, \"max_trip_route_group\": 1.25, \"name\": \"Transit Joint Powers Authority for Merced County\", \"caltrans_district\": \"10 - Stockton\", \"drmt_organization_name\": null, \"cutoff2\": 18.75, \"cutoff\": 0}, {\"calitp_itp_id\": 343, \"trip_key\": 6122250569749720475, \"trip_id\": \"t_1963142_b_33141_tn_0\", \"shape_id\": \"p_1303791\", \"route_id\": \"1881\", \"service_hours\": 1.18, \"trip_first_departure_ts\": 68580, \"trip_last_arrival_ts\": 72840, \"departure_hour\": 19, \"time_of_day\": \"PM Peak\", \"p25\": 1.18, \"p50\": 1.18, \"p75\": 1.23, \"p50_trip\": 1, \"fastest_trip\": 0, \"car_duration_hours\": 0.9, \"competitive_route\": 1, \"bus_multiplier\": 1.31, \"bus_difference\": 16.8, \"num_trips\": 20, \"num_competitive\": 20, \"pct_trips_competitive\": 1.0, \"bus_difference_spread\": 4.8, \"route_group\": \"medium\", \"max_trip_hrs\": 1.23, \"max_trip_route_group\": 1.25, \"name\": \"Transit Joint Powers Authority for Merced County\", \"caltrans_district\": \"10 - Stockton\", \"drmt_organization_name\": null, \"cutoff2\": 18.75, \"cutoff\": 0}, {\"calitp_itp_id\": 343, \"trip_key\": 2683520550618393728, \"trip_id\": \"t_1963138_b_33141_tn_0\", \"shape_id\": \"p_1303791\", \"route_id\": \"1881\", \"service_hours\": 1.18, \"trip_first_departure_ts\": 48840, \"trip_last_arrival_ts\": 53100, \"departure_hour\": 13, \"time_of_day\": \"Midday\", \"p25\": 1.18, \"p50\": 1.18, \"p75\": 1.23, \"p50_trip\": 1, \"fastest_trip\": 0, \"car_duration_hours\": 0.9, \"competitive_route\": 1, \"bus_multiplier\": 1.31, \"bus_difference\": 16.8, \"num_trips\": 20, \"num_competitive\": 20, \"pct_trips_competitive\": 1.0, \"bus_difference_spread\": 4.8, \"route_group\": \"medium\", \"max_trip_hrs\": 1.23, \"max_trip_route_group\": 1.25, \"name\": \"Transit Joint Powers Authority for Merced County\", \"caltrans_district\": \"10 - Stockton\", \"drmt_organization_name\": null, \"cutoff2\": 18.75, \"cutoff\": 0}, {\"calitp_itp_id\": 343, \"trip_key\": 3284257985366143338, \"trip_id\": \"t_1963136_b_33141_tn_0\", \"shape_id\": \"p_1303791\", \"route_id\": \"1881\", \"service_hours\": 1.18, \"trip_first_departure_ts\": 32640, \"trip_last_arrival_ts\": 36900, \"departure_hour\": 9, \"time_of_day\": \"AM Peak\", \"p25\": 1.18, \"p50\": 1.18, \"p75\": 1.23, \"p50_trip\": 1, \"fastest_trip\": 0, \"car_duration_hours\": 0.9, \"competitive_route\": 1, \"bus_multiplier\": 1.31, \"bus_difference\": 16.8, \"num_trips\": 20, \"num_competitive\": 20, \"pct_trips_competitive\": 1.0, \"bus_difference_spread\": 4.8, \"route_group\": \"medium\", \"max_trip_hrs\": 1.23, \"max_trip_route_group\": 1.25, \"name\": \"Transit Joint Powers Authority for Merced County\", \"caltrans_district\": \"10 - Stockton\", \"drmt_organization_name\": null, \"cutoff2\": 18.75, \"cutoff\": 0}, {\"calitp_itp_id\": 343, \"trip_key\": -6607512870610324607, \"trip_id\": \"t_1963140_b_33141_tn_0\", \"shape_id\": \"p_1303791\", \"route_id\": \"1881\", \"service_hours\": 1.18, \"trip_first_departure_ts\": 59640, \"trip_last_arrival_ts\": 63900, \"departure_hour\": 16, \"time_of_day\": \"Midday\", \"p25\": 1.18, \"p50\": 1.18, \"p75\": 1.23, \"p50_trip\": 1, \"fastest_trip\": 0, \"car_duration_hours\": 0.9, \"competitive_route\": 1, \"bus_multiplier\": 1.31, \"bus_difference\": 16.8, \"num_trips\": 20, \"num_competitive\": 20, \"pct_trips_competitive\": 1.0, \"bus_difference_spread\": 4.8, \"route_group\": \"medium\", \"max_trip_hrs\": 1.23, \"max_trip_route_group\": 1.25, \"name\": \"Transit Joint Powers Authority for Merced County\", \"caltrans_district\": \"10 - Stockton\", \"drmt_organization_name\": null, \"cutoff2\": 18.75, \"cutoff\": 0}, {\"calitp_itp_id\": 343, \"trip_key\": 7077916178314187876, \"trip_id\": \"t_1963135_b_33141_tn_0\", \"shape_id\": \"p_1303791\", \"route_id\": \"1881\", \"service_hours\": 1.18, \"trip_first_departure_ts\": 29040, \"trip_last_arrival_ts\": 33300, \"departure_hour\": 8, \"time_of_day\": \"AM Peak\", \"p25\": 1.18, \"p50\": 1.18, \"p75\": 1.23, \"p50_trip\": 1, \"fastest_trip\": 0, \"car_duration_hours\": 0.9, \"competitive_route\": 1, \"bus_multiplier\": 1.31, \"bus_difference\": 16.8, \"num_trips\": 20, \"num_competitive\": 20, \"pct_trips_competitive\": 1.0, \"bus_difference_spread\": 4.8, \"route_group\": \"medium\", \"max_trip_hrs\": 1.23, \"max_trip_route_group\": 1.25, \"name\": \"Transit Joint Powers Authority for Merced County\", \"caltrans_district\": \"10 - Stockton\", \"drmt_organization_name\": null, \"cutoff2\": 18.75, \"cutoff\": 0}, {\"calitp_itp_id\": 343, \"trip_key\": 1642406009089055462, \"trip_id\": \"t_1963137_b_33141_tn_0\", \"shape_id\": \"p_1303791\", \"route_id\": \"1881\", \"service_hours\": 1.18, \"trip_first_departure_ts\": 43440, \"trip_last_arrival_ts\": 47700, \"departure_hour\": 12, \"time_of_day\": \"Midday\", \"p25\": 1.18, \"p50\": 1.18, \"p75\": 1.23, \"p50_trip\": 1, \"fastest_trip\": 0, \"car_duration_hours\": 0.9, \"competitive_route\": 1, \"bus_multiplier\": 1.31, \"bus_difference\": 16.8, \"num_trips\": 20, \"num_competitive\": 20, \"pct_trips_competitive\": 1.0, \"bus_difference_spread\": 4.8, \"route_group\": \"medium\", \"max_trip_hrs\": 1.23, \"max_trip_route_group\": 1.25, \"name\": \"Transit Joint Powers Authority for Merced County\", \"caltrans_district\": \"10 - Stockton\", \"drmt_organization_name\": null, \"cutoff2\": 18.75, \"cutoff\": 0}, {\"calitp_itp_id\": 343, \"trip_key\": -4440352420161409541, \"trip_id\": \"t_1963126_b_33141_tn_0\", \"shape_id\": \"p_1303788\", \"route_id\": \"1881\", \"service_hours\": 1.23, \"trip_first_departure_ts\": 33300, \"trip_last_arrival_ts\": 37740, \"departure_hour\": 9, \"time_of_day\": \"AM Peak\", \"p25\": 1.18, \"p50\": 1.18, \"p75\": 1.23, \"p50_trip\": 0, \"fastest_trip\": 0, \"car_duration_hours\": 0.9, \"competitive_route\": 1, \"bus_multiplier\": 1.37, \"bus_difference\": 19.8, \"num_trips\": 20, \"num_competitive\": 20, \"pct_trips_competitive\": 1.0, \"bus_difference_spread\": 4.8, \"route_group\": \"medium\", \"max_trip_hrs\": 1.23, \"max_trip_route_group\": 1.25, \"name\": \"Transit Joint Powers Authority for Merced County\", \"caltrans_district\": \"10 - Stockton\", \"drmt_organization_name\": null, \"cutoff2\": 18.75, \"cutoff\": 0}, {\"calitp_itp_id\": 343, \"trip_key\": 4330130170498142458, \"trip_id\": \"t_1963124_b_33141_tn_0\", \"shape_id\": \"p_1303788\", \"route_id\": \"1881\", \"service_hours\": 1.23, \"trip_first_departure_ts\": 48600, \"trip_last_arrival_ts\": 53040, \"departure_hour\": 13, \"time_of_day\": \"Midday\", \"p25\": 1.18, \"p50\": 1.18, \"p75\": 1.23, \"p50_trip\": 0, \"fastest_trip\": 0, \"car_duration_hours\": 0.9, \"competitive_route\": 1, \"bus_multiplier\": 1.37, \"bus_difference\": 19.8, \"num_trips\": 20, \"num_competitive\": 20, \"pct_trips_competitive\": 1.0, \"bus_difference_spread\": 4.8, \"route_group\": \"medium\", \"max_trip_hrs\": 1.23, \"max_trip_route_group\": 1.25, \"name\": \"Transit Joint Powers Authority for Merced County\", \"caltrans_district\": \"10 - Stockton\", \"drmt_organization_name\": null, \"cutoff2\": 18.75, \"cutoff\": 0}, {\"calitp_itp_id\": 343, \"trip_key\": -1448756516359851733, \"trip_id\": \"t_1963131_b_33141_tn_0\", \"shape_id\": \"p_1303788\", \"route_id\": \"1881\", \"service_hours\": 1.23, \"trip_first_departure_ts\": 27000, \"trip_last_arrival_ts\": 31440, \"departure_hour\": 7, \"time_of_day\": \"AM Peak\", \"p25\": 1.18, \"p50\": 1.18, \"p75\": 1.23, \"p50_trip\": 0, \"fastest_trip\": 0, \"car_duration_hours\": 0.9, \"competitive_route\": 1, \"bus_multiplier\": 1.37, \"bus_difference\": 19.8, \"num_trips\": 20, \"num_competitive\": 20, \"pct_trips_competitive\": 1.0, \"bus_difference_spread\": 4.8, \"route_group\": \"medium\", \"max_trip_hrs\": 1.23, \"max_trip_route_group\": 1.25, \"name\": \"Transit Joint Powers Authority for Merced County\", \"caltrans_district\": \"10 - Stockton\", \"drmt_organization_name\": null, \"cutoff2\": 18.75, \"cutoff\": 0}, {\"calitp_itp_id\": 343, \"trip_key\": 2839669944368947609, \"trip_id\": \"t_1963125_b_33141_tn_0\", \"shape_id\": \"p_1303788\", \"route_id\": \"1881\", \"service_hours\": 1.23, \"trip_first_departure_ts\": 59400, \"trip_last_arrival_ts\": 63840, \"departure_hour\": 16, \"time_of_day\": \"Midday\", \"p25\": 1.18, \"p50\": 1.18, \"p75\": 1.23, \"p50_trip\": 0, \"fastest_trip\": 0, \"car_duration_hours\": 0.9, \"competitive_route\": 1, \"bus_multiplier\": 1.37, \"bus_difference\": 19.8, \"num_trips\": 20, \"num_competitive\": 20, \"pct_trips_competitive\": 1.0, \"bus_difference_spread\": 4.8, \"route_group\": \"medium\", \"max_trip_hrs\": 1.23, \"max_trip_route_group\": 1.25, \"name\": \"Transit Joint Powers Authority for Merced County\", \"caltrans_district\": \"10 - Stockton\", \"drmt_organization_name\": null, \"cutoff2\": 18.75, \"cutoff\": 0}, {\"calitp_itp_id\": 343, \"trip_key\": -2346356644846226611, \"trip_id\": \"t_1963123_b_33141_tn_0\", \"shape_id\": \"p_1303788\", \"route_id\": \"1881\", \"service_hours\": 1.23, \"trip_first_departure_ts\": 37800, \"trip_last_arrival_ts\": 42240, \"departure_hour\": 10, \"time_of_day\": \"Midday\", \"p25\": 1.18, \"p50\": 1.18, \"p75\": 1.23, \"p50_trip\": 0, \"fastest_trip\": 0, \"car_duration_hours\": 0.9, \"competitive_route\": 1, \"bus_multiplier\": 1.37, \"bus_difference\": 19.8, \"num_trips\": 20, \"num_competitive\": 20, \"pct_trips_competitive\": 1.0, \"bus_difference_spread\": 4.8, \"route_group\": \"medium\", \"max_trip_hrs\": 1.23, \"max_trip_route_group\": 1.25, \"name\": \"Transit Joint Powers Authority for Merced County\", \"caltrans_district\": \"10 - Stockton\", \"drmt_organization_name\": null, \"cutoff2\": 18.75, \"cutoff\": 0}, {\"calitp_itp_id\": 343, \"trip_key\": 8313034551470198749, \"trip_id\": \"t_1963128_b_33141_tn_0\", \"shape_id\": \"p_1303788\", \"route_id\": \"1881\", \"service_hours\": 1.23, \"trip_first_departure_ts\": 54000, \"trip_last_arrival_ts\": 58440, \"departure_hour\": 15, \"time_of_day\": \"Midday\", \"p25\": 1.18, \"p50\": 1.18, \"p75\": 1.23, \"p50_trip\": 0, \"fastest_trip\": 0, \"car_duration_hours\": 0.9, \"competitive_route\": 1, \"bus_multiplier\": 1.37, \"bus_difference\": 19.8, \"num_trips\": 20, \"num_competitive\": 20, \"pct_trips_competitive\": 1.0, \"bus_difference_spread\": 4.8, \"route_group\": \"medium\", \"max_trip_hrs\": 1.23, \"max_trip_route_group\": 1.25, \"name\": \"Transit Joint Powers Authority for Merced County\", \"caltrans_district\": \"10 - Stockton\", \"drmt_organization_name\": null, \"cutoff2\": 18.75, \"cutoff\": 0}, {\"calitp_itp_id\": 343, \"trip_key\": -5484133089713109700, \"trip_id\": \"t_1963132_b_33141_tn_0\", \"shape_id\": \"p_1303788\", \"route_id\": \"1881\", \"service_hours\": 1.23, \"trip_first_departure_ts\": 23400, \"trip_last_arrival_ts\": 27840, \"departure_hour\": 6, \"time_of_day\": \"Owl Service\", \"p25\": 1.18, \"p50\": 1.18, \"p75\": 1.23, \"p50_trip\": 0, \"fastest_trip\": 0, \"car_duration_hours\": 0.9, \"competitive_route\": 1, \"bus_multiplier\": 1.37, \"bus_difference\": 19.8, \"num_trips\": 20, \"num_competitive\": 20, \"pct_trips_competitive\": 1.0, \"bus_difference_spread\": 4.8, \"route_group\": \"medium\", \"max_trip_hrs\": 1.23, \"max_trip_route_group\": 1.25, \"name\": \"Transit Joint Powers Authority for Merced County\", \"caltrans_district\": \"10 - Stockton\", \"drmt_organization_name\": null, \"cutoff2\": 18.75, \"cutoff\": 0}, {\"calitp_itp_id\": 343, \"trip_key\": -8923446581115531070, \"trip_id\": \"t_1963127_b_33141_tn_0\", \"shape_id\": \"p_1303788\", \"route_id\": \"1881\", \"service_hours\": 1.23, \"trip_first_departure_ts\": 43200, \"trip_last_arrival_ts\": 47640, \"departure_hour\": 12, \"time_of_day\": \"Midday\", \"p25\": 1.18, \"p50\": 1.18, \"p75\": 1.23, \"p50_trip\": 0, \"fastest_trip\": 0, \"car_duration_hours\": 0.9, \"competitive_route\": 1, \"bus_multiplier\": 1.37, \"bus_difference\": 19.8, \"num_trips\": 20, \"num_competitive\": 20, \"pct_trips_competitive\": 1.0, \"bus_difference_spread\": 4.8, \"route_group\": \"medium\", \"max_trip_hrs\": 1.23, \"max_trip_route_group\": 1.25, \"name\": \"Transit Joint Powers Authority for Merced County\", \"caltrans_district\": \"10 - Stockton\", \"drmt_organization_name\": null, \"cutoff2\": 18.75, \"cutoff\": 0}]}}, {\"mode\": \"vega-lite\"});\n",
       "</script>"
      ],
      "text/plain": [
       "alt.FacetChart(...)"
      ]
     },
     "metadata": {},
     "output_type": "display_data"
    }
   ],
   "source": [
    "route_group = \"medium\"\n",
    "try:\n",
    "    subset_routes, mult, diff  = setup_charts(df, PCT_COMPETITIVE_THRESHOLD, route_group)\n",
    "    if len(subset_routes) > 0:\n",
    "        display(\n",
    "            Markdown(\n",
    "                f\"{CAPTIONS_DICT[route_group]}\"\n",
    "                \"Within each route group, routes are sorted in descending order \"\n",
    "                \"by % competitive trips and # trips below the additional time cut-off.\"\n",
    "            )\n",
    "        )\n",
    "\n",
    "        display(mult)\n",
    "        display(diff)\n",
    "except:\n",
    "    print(\"No routes meet this criteria.\")"
   ]
  },
  {
   "cell_type": "markdown",
   "id": "124b76d0-886c-4d03-92ac-f1bda3cda182",
   "metadata": {
    "papermill": {
     "duration": 0.014035,
     "end_time": "2022-05-07T17:31:39.029895",
     "exception": false,
     "start_time": "2022-05-07T17:31:39.015860",
     "status": "completed"
    },
    "tags": []
   },
   "source": [
    "### Long Routes (> 1.5 hrs)"
   ]
  },
  {
   "cell_type": "code",
   "execution_count": 14,
   "id": "ddc81b19-4c45-4c81-8b7a-5e0f394aa7a3",
   "metadata": {
    "execution": {
     "iopub.execute_input": "2022-05-07T17:31:39.061698Z",
     "iopub.status.busy": "2022-05-07T17:31:39.060672Z",
     "iopub.status.idle": "2022-05-07T17:31:39.072605Z",
     "shell.execute_reply": "2022-05-07T17:31:39.072027Z"
    },
    "jupyter": {
     "source_hidden": true
    },
    "papermill": {
     "duration": 0.030188,
     "end_time": "2022-05-07T17:31:39.074198",
     "exception": false,
     "start_time": "2022-05-07T17:31:39.044010",
     "status": "completed"
    },
    "tags": [
     "remove_input"
    ]
   },
   "outputs": [
    {
     "name": "stdout",
     "output_type": "stream",
     "text": [
      "No routes meet this criteria.\n"
     ]
    }
   ],
   "source": [
    "route_group = \"long\"\n",
    "try:\n",
    "    subset_routes, mult, diff  = setup_charts(df, PCT_COMPETITIVE_THRESHOLD, route_group)\n",
    "    if len(subset_routes) > 0:\n",
    "        display(\n",
    "            Markdown(\n",
    "                f\"{CAPTIONS_DICT[route_group]}\"\n",
    "                \"Within each route group, routes are sorted in descending order \"\n",
    "                \"by % competitive trips and # trips below the additional time cut-off.\"\n",
    "            )\n",
    "        )\n",
    "\n",
    "        display(mult)\n",
    "        display(diff)\n",
    "except:\n",
    "    print(\"No routes meet this criteria.\")"
   ]
  }
 ],
 "metadata": {
  "kernelspec": {
   "display_name": "Python 3 (ipykernel)",
   "language": "python",
   "name": "python3"
  },
  "language_info": {
   "codemirror_mode": {
    "name": "ipython",
    "version": 3
   },
   "file_extension": ".py",
   "mimetype": "text/x-python",
   "name": "python",
   "nbconvert_exporter": "python",
   "pygments_lexer": "ipython3",
   "version": "3.9.12"
  },
  "papermill": {
   "default_parameters": {},
   "duration": 23.953264,
   "end_time": "2022-05-07T17:31:40.427396",
   "environment_variables": {},
   "exception": null,
   "input_path": "bus_service_increase/stripplot.ipynb",
   "output_path": "portfolio/parallel_corridors/district_10-stockton/stripplot__itp_id_343.ipynb",
   "parameters": {
    "district": "10 - Stockton",
    "itp_id": 343
   },
   "start_time": "2022-05-07T17:31:16.474132",
   "version": "2.3.4"
  }
 },
 "nbformat": 4,
 "nbformat_minor": 5
}