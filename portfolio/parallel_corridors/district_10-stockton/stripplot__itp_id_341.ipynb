{
 "cells": [
  {
   "cell_type": "code",
   "execution_count": 1,
   "id": "95d00857-6a20-4529-a519-2cc7182928a9",
   "metadata": {
    "execution": {
     "iopub.execute_input": "2022-05-07T17:30:54.292937Z",
     "iopub.status.busy": "2022-05-07T17:30:54.292562Z",
     "iopub.status.idle": "2022-05-07T17:31:02.479939Z",
     "shell.execute_reply": "2022-05-07T17:31:02.479147Z"
    },
    "jupyter": {
     "source_hidden": true
    },
    "papermill": {
     "duration": 8.202145,
     "end_time": "2022-05-07T17:31:02.482529",
     "exception": false,
     "start_time": "2022-05-07T17:30:54.280384",
     "status": "completed"
    },
    "tags": [
     "remove_input"
    ]
   },
   "outputs": [],
   "source": [
    "%%capture\n",
    "import warnings\n",
    "warnings.filterwarnings('ignore')\n",
    "\n",
    "import altair as alt\n",
    "import calitp.magics\n",
    "import geopandas as gpd\n",
    "import intake\n",
    "import pandas as pd\n",
    "\n",
    "from IPython.display import display, Markdown, HTML\n",
    "\n",
    "import parallel_corridors_utils\n",
    "from shared_utils import styleguide\n",
    "\n",
    "catalog = intake.open_catalog(\"./*.yml\")\n",
    "alt.renderers.enable(\"html\")"
   ]
  },
  {
   "cell_type": "code",
   "execution_count": 2,
   "id": "8af2a0c1-f3da-408d-9bea-11d9fbf8695d",
   "metadata": {
    "execution": {
     "iopub.execute_input": "2022-05-07T17:31:02.505308Z",
     "iopub.status.busy": "2022-05-07T17:31:02.504599Z",
     "iopub.status.idle": "2022-05-07T17:31:02.510562Z",
     "shell.execute_reply": "2022-05-07T17:31:02.510004Z"
    },
    "jupyter": {
     "source_hidden": true
    },
    "papermill": {
     "duration": 0.018669,
     "end_time": "2022-05-07T17:31:02.512233",
     "exception": false,
     "start_time": "2022-05-07T17:31:02.493564",
     "status": "completed"
    },
    "tags": [
     "parameters",
     "remove_input"
    ]
   },
   "outputs": [],
   "source": [
    "# parameters cell\n",
    "itp_id = 182"
   ]
  },
  {
   "cell_type": "code",
   "execution_count": 3,
   "id": "6475c0dd",
   "metadata": {
    "execution": {
     "iopub.execute_input": "2022-05-07T17:31:02.534452Z",
     "iopub.status.busy": "2022-05-07T17:31:02.533780Z",
     "iopub.status.idle": "2022-05-07T17:31:02.538551Z",
     "shell.execute_reply": "2022-05-07T17:31:02.537976Z"
    },
    "jupyter": {
     "source_hidden": true
    },
    "papermill": {
     "duration": 0.017776,
     "end_time": "2022-05-07T17:31:02.540223",
     "exception": false,
     "start_time": "2022-05-07T17:31:02.522447",
     "status": "completed"
    },
    "tags": [
     "injected-parameters",
     "remove_input"
    ]
   },
   "outputs": [],
   "source": [
    "# Parameters\n",
    "district = \"10 - Stockton\"\n",
    "itp_id = 341\n"
   ]
  },
  {
   "cell_type": "code",
   "execution_count": 4,
   "id": "9582aaf4-79ff-412a-b248-8d8d693ebd4f",
   "metadata": {
    "execution": {
     "iopub.execute_input": "2022-05-07T17:31:02.561781Z",
     "iopub.status.busy": "2022-05-07T17:31:02.560859Z",
     "iopub.status.idle": "2022-05-07T17:31:04.041736Z",
     "shell.execute_reply": "2022-05-07T17:31:04.040875Z"
    },
    "jupyter": {
     "source_hidden": true
    },
    "papermill": {
     "duration": 1.494012,
     "end_time": "2022-05-07T17:31:04.043986",
     "exception": false,
     "start_time": "2022-05-07T17:31:02.549974",
     "status": "completed"
    },
    "tags": [
     "remove_input"
    ]
   },
   "outputs": [],
   "source": [
    "df = catalog.competitive_route_variability.read()\n",
    "\n",
    "df = (df[(df.calitp_itp_id == itp_id) & \n",
    "         (df.route_group.notna())]\n",
    "      .reset_index(drop=True)\n",
    "     )\n",
    "\n",
    "\n",
    "if itp_id == 182:\n",
    "    df = df.assign(\n",
    "        route_id = df.route_id.str.replace('-13153', '').astype(int)\n",
    "    )"
   ]
  },
  {
   "cell_type": "code",
   "execution_count": 5,
   "id": "33ac4b06-f647-4dce-a625-8f2c1b37cc60",
   "metadata": {
    "execution": {
     "iopub.execute_input": "2022-05-07T17:31:04.068121Z",
     "iopub.status.busy": "2022-05-07T17:31:04.067540Z",
     "iopub.status.idle": "2022-05-07T17:31:04.074002Z",
     "shell.execute_reply": "2022-05-07T17:31:04.073458Z"
    },
    "jupyter": {
     "source_hidden": true
    },
    "papermill": {
     "duration": 0.019207,
     "end_time": "2022-05-07T17:31:04.075622",
     "exception": false,
     "start_time": "2022-05-07T17:31:04.056415",
     "status": "completed"
    },
    "tags": [
     "remove_input"
    ]
   },
   "outputs": [],
   "source": [
    "%%capture_parameters\n",
    "operator_name = df.name.iloc[0]\n",
    "\n",
    "itp_id, operator_name"
   ]
  },
  {
   "cell_type": "markdown",
   "id": "65bc6f5c-8348-42ee-b2dd-52057c406852",
   "metadata": {
    "papermill": {
     "duration": 0.009874,
     "end_time": "2022-05-07T17:31:04.096383",
     "exception": false,
     "start_time": "2022-05-07T17:31:04.086509",
     "status": "completed"
    },
    "tags": []
   },
   "source": [
    "# City of Tracy (ITP ID: 341)"
   ]
  },
  {
   "cell_type": "code",
   "execution_count": 6,
   "id": "a689c1ab-2c6c-4831-8d64-897f5986f571",
   "metadata": {
    "execution": {
     "iopub.execute_input": "2022-05-07T17:31:04.120183Z",
     "iopub.status.busy": "2022-05-07T17:31:04.119893Z",
     "iopub.status.idle": "2022-05-07T17:31:04.125680Z",
     "shell.execute_reply": "2022-05-07T17:31:04.124880Z"
    },
    "jupyter": {
     "source_hidden": true
    },
    "papermill": {
     "duration": 0.021958,
     "end_time": "2022-05-07T17:31:04.128981",
     "exception": false,
     "start_time": "2022-05-07T17:31:04.107023",
     "status": "completed"
    },
    "tags": [
     "remove_input"
    ]
   },
   "outputs": [
    {
     "data": {
      "text/html": [
       "<h1>Competitive & Parallel Routes</h1>"
      ],
      "text/plain": [
       "<IPython.core.display.HTML object>"
      ]
     },
     "metadata": {},
     "output_type": "display_data"
    }
   ],
   "source": [
    "display(HTML(\"<h1>Competitive & Parallel Routes</h1>\")) "
   ]
  },
  {
   "cell_type": "code",
   "execution_count": 7,
   "id": "2cb4d8d5-4760-40e4-85b1-cb833d8bb648",
   "metadata": {
    "execution": {
     "iopub.execute_input": "2022-05-07T17:31:04.151171Z",
     "iopub.status.busy": "2022-05-07T17:31:04.150911Z",
     "iopub.status.idle": "2022-05-07T17:31:14.568703Z",
     "shell.execute_reply": "2022-05-07T17:31:14.568059Z"
    },
    "jupyter": {
     "source_hidden": true
    },
    "papermill": {
     "duration": 10.431507,
     "end_time": "2022-05-07T17:31:14.570840",
     "exception": false,
     "start_time": "2022-05-07T17:31:04.139333",
     "status": "completed"
    },
    "tags": [
     "remove_input"
    ]
   },
   "outputs": [],
   "source": [
    "# Grab parameters for narrative text - clean up formatting here \n",
    "district = df.caltrans_district.iloc[0]\n",
    "formatted_date = pd.to_datetime(parallel_corridors_utils.SELECTED_DATE).strftime('%m-%d-%Y')\n",
    "\n",
    "PCT_COMPETITIVE_THRESHOLD = 0.75\n",
    "\n",
    "stats = parallel_corridors_utils.operator_parallel_competitive_stats(\n",
    "    itp_id, PCT_COMPETITIVE_THRESHOLD)\n",
    "\n",
    "pct_parallel = round(stats['parallel_routes'] / stats['num_routes'] * 100,1 )\n",
    "pct_competitive =  round(stats['competitive_routes'] / stats['num_routes'] * 100,1 )"
   ]
  },
  {
   "cell_type": "markdown",
   "id": "ab667928-5274-4490-82d9-4c39293209a4",
   "metadata": {
    "papermill": {
     "duration": 0.012093,
     "end_time": "2022-05-07T17:31:14.593970",
     "exception": false,
     "start_time": "2022-05-07T17:31:14.581877",
     "status": "completed"
    },
    "tags": []
   },
   "source": [
    "## Quick Stats"
   ]
  },
  {
   "cell_type": "code",
   "execution_count": 8,
   "id": "0416509d-dc62-4165-b62e-64f8b26e8b8e",
   "metadata": {
    "execution": {
     "iopub.execute_input": "2022-05-07T17:31:14.617052Z",
     "iopub.status.busy": "2022-05-07T17:31:14.616572Z",
     "iopub.status.idle": "2022-05-07T17:31:14.623309Z",
     "shell.execute_reply": "2022-05-07T17:31:14.622435Z"
    },
    "jupyter": {
     "source_hidden": true
    },
    "papermill": {
     "duration": 0.021439,
     "end_time": "2022-05-07T17:31:14.626130",
     "exception": false,
     "start_time": "2022-05-07T17:31:14.604691",
     "status": "completed"
    },
    "tags": [
     "remove_input"
    ]
   },
   "outputs": [
    {
     "data": {
      "text/markdown": [
       "**Bus routes in service**: 7 <br>**Parallel routes** to State Highway Network (SHN): 3 routes (42.9%)<br>**Competitive routes** against car travel: 2 routes (28.6%)"
      ],
      "text/plain": [
       "<IPython.core.display.Markdown object>"
      ]
     },
     "metadata": {},
     "output_type": "display_data"
    }
   ],
   "source": [
    "display(\n",
    "    Markdown(\n",
    "        f\"**Bus routes in service**: {stats['num_routes']} \"\n",
    "        \"<br>**Parallel routes** to State Highway Network (SHN): \"\n",
    "        f\"{stats['parallel_routes']} routes ({pct_parallel}%)\"\n",
    "        f\"<br>**Competitive routes** against car travel: {stats['competitive_routes']} routes ({pct_competitive}%)\"\n",
    "    )\n",
    ")"
   ]
  },
  {
   "cell_type": "code",
   "execution_count": 9,
   "id": "f9d6ab58-f0ee-460c-b6de-657490e1f386",
   "metadata": {
    "execution": {
     "iopub.execute_input": "2022-05-07T17:31:14.653467Z",
     "iopub.status.busy": "2022-05-07T17:31:14.653206Z",
     "iopub.status.idle": "2022-05-07T17:31:14.663089Z",
     "shell.execute_reply": "2022-05-07T17:31:14.662130Z"
    },
    "jupyter": {
     "source_hidden": true
    },
    "papermill": {
     "duration": 0.024434,
     "end_time": "2022-05-07T17:31:14.665136",
     "exception": false,
     "start_time": "2022-05-07T17:31:14.640702",
     "status": "completed"
    },
    "tags": [
     "remove_input"
    ]
   },
   "outputs": [],
   "source": [
    "def set_yaxis_range(df, y_col):\n",
    "    Y_MIN = df[y_col].min()\n",
    "    Y_MAX = df[y_col].max()\n",
    "    \n",
    "    return Y_MIN, Y_MAX\n",
    "\n",
    "# Rather than set it according to the operator, which can vary,\n",
    "# just use set thresholds for each group\n",
    "diff_cutoffs = {\n",
    "    \"short\": 20,\n",
    "    \"medium\": 30,\n",
    "    \"long\": 40,\n",
    "}\n",
    "\n",
    "PCT_TRIPS_BELOW_CUTOFF = 0.25\n",
    "\n",
    "def top15_routes(df, route_group):\n",
    "    df2 = (df[df.route_group==route_group])\n",
    "    # Set a cut-off to enable sorting, where most of the trips are \n",
    "    # below a certain time difference cut-off, \n",
    "    # grab top 15 routes where majority of trips are below that cut-off \n",
    "\n",
    "    route_cols = [\"calitp_itp_id\", \"route_id\"]\n",
    "\n",
    "    df2 = df2.assign(\n",
    "        below_cutoff = df2.apply(lambda x: 1 if x.bus_difference <= diff_cutoffs[route_group] \n",
    "                                 else 0, axis=1),\n",
    "        num_trips = df2.groupby(route_cols)[\"trip_id\"].transform(\"count\")\n",
    "    )\n",
    "\n",
    "    df2[\"below_cutoff\"] = df2.groupby(route_cols)[\"below_cutoff\"].transform(\"sum\")\n",
    "    df2[\"pct_below_cutoff\"] = df2.below_cutoff.divide(df2.num_trips)\n",
    "\n",
    "    # At least half the trips are below that cut-off\n",
    "    # but show 15 max, otherwise, show less, since these won't be as interesting to operators\n",
    "    df3 = (df2[df2.pct_below_cutoff >= PCT_TRIPS_BELOW_CUTOFF]\n",
    "           .sort_values([\"calitp_itp_id\", \"below_cutoff\", \n",
    "                         \"pct_below_cutoff\", \"route_id\"],\n",
    "                        ascending = [True, False, False, True]\n",
    "                       )\n",
    "           .drop_duplicates(subset=[\"calitp_itp_id\", \"route_id\"])\n",
    "          ).head(15)\n",
    "    \n",
    "    return list(df3.route_id)"
   ]
  },
  {
   "cell_type": "code",
   "execution_count": 10,
   "id": "cf36d559-3349-4144-8086-8ac9ce937a5a",
   "metadata": {
    "execution": {
     "iopub.execute_input": "2022-05-07T17:31:14.689260Z",
     "iopub.status.busy": "2022-05-07T17:31:14.688988Z",
     "iopub.status.idle": "2022-05-07T17:31:14.694898Z",
     "shell.execute_reply": "2022-05-07T17:31:14.694417Z"
    },
    "jupyter": {
     "source_hidden": true
    },
    "papermill": {
     "duration": 0.020246,
     "end_time": "2022-05-07T17:31:14.696561",
     "exception": false,
     "start_time": "2022-05-07T17:31:14.676315",
     "status": "completed"
    },
    "tags": [
     "remove_input"
    ]
   },
   "outputs": [],
   "source": [
    "short_caption = (\n",
    "    f\"<br>These are routes that have at least {int(PCT_TRIPS_BELOW_CUTOFF*100)}% of their trips \"\n",
    "    f\"take no more than an additional {diff_cutoffs['short']} min compared to a car \"\n",
    "    \"(up to 15 routes) are shown.\"\n",
    ")\n",
    "\n",
    "med_caption = (\n",
    "    f\"<br>These are routes that have at least {int(PCT_TRIPS_BELOW_CUTOFF*100)}% of their trips \"\n",
    "    f\"take no more than an additional {diff_cutoffs['medium']} min compared to a car \"\n",
    "    \"(up to 15 routes) are shown.\"\n",
    ")\n",
    "\n",
    "long_caption = (\n",
    "    f\"<br>These are routes that have at least {int(PCT_TRIPS_BELOW_CUTOFF*100)}% of their trips \"\n",
    "    f\"take no more than an additional {diff_cutoffs['long']} min compared to a car \"\n",
    "    \"(up to 15 routes) are shown.\")\n",
    "\n",
    "\n",
    "CAPTIONS_DICT = {\n",
    "    \"short\": short_caption,\n",
    "    \"medium\": med_caption,\n",
    "    \"long\": long_caption,\n",
    "}"
   ]
  },
  {
   "cell_type": "code",
   "execution_count": 11,
   "id": "e4306d58-6944-47e9-afef-5d5b524c751f",
   "metadata": {
    "execution": {
     "iopub.execute_input": "2022-05-07T17:31:14.729257Z",
     "iopub.status.busy": "2022-05-07T17:31:14.728773Z",
     "iopub.status.idle": "2022-05-07T17:31:14.735042Z",
     "shell.execute_reply": "2022-05-07T17:31:14.734589Z"
    },
    "jupyter": {
     "source_hidden": true
    },
    "papermill": {
     "duration": 0.023001,
     "end_time": "2022-05-07T17:31:14.736791",
     "exception": false,
     "start_time": "2022-05-07T17:31:14.713790",
     "status": "completed"
    },
    "tags": [
     "remove_input"
    ]
   },
   "outputs": [],
   "source": [
    "def setup_charts(df, PCT_COMPETITIVE_THRESHOLD, route_group):\n",
    "    # Set up df for charting (cut-off at some threshold to show most competitive routes)\n",
    "    plot_me = (df[df.pct_trips_competitive > PCT_COMPETITIVE_THRESHOLD]\n",
    "           .drop(columns = \"geometry\")\n",
    "    )\n",
    "    \n",
    "    y_col1 = \"bus_multiplier\"\n",
    "    Y_MIN1, Y_MAX1 = set_yaxis_range(plot_me, y_col1)\n",
    "\n",
    "    y_col2 = \"bus_difference\"\n",
    "    Y_MIN2, Y_MAX2 = set_yaxis_range(plot_me, y_col2)\n",
    "     \n",
    "    subset_routes = top15_routes(plot_me, route_group)\n",
    "    \n",
    "    multiplier_chart = parallel_corridors_utils.make_stripplot(\n",
    "        plot_me[plot_me.route_id.isin(subset_routes)], \n",
    "        y_col1, Y_MIN = Y_MIN1, Y_MAX = Y_MAX1\n",
    "    )\n",
    "    \n",
    "    difference_chart = parallel_corridors_utils.make_stripplot(\n",
    "        plot_me[plot_me.route_id.isin(subset_routes)], \n",
    "        y_col2, Y_MIN = Y_MIN2, Y_MAX = Y_MAX2\n",
    "    )\n",
    "    \n",
    "    return subset_routes, multiplier_chart, difference_chart            "
   ]
  },
  {
   "cell_type": "markdown",
   "id": "525f9b38-072b-46d1-96a8-1aa4b038357c",
   "metadata": {
    "papermill": {
     "duration": 0.011817,
     "end_time": "2022-05-07T17:31:14.760338",
     "exception": false,
     "start_time": "2022-05-07T17:31:14.748521",
     "status": "completed"
    },
    "tags": []
   },
   "source": [
    "## Viable Competitive Routes\n",
    "### Short Routes (< 1 hr)"
   ]
  },
  {
   "cell_type": "code",
   "execution_count": 12,
   "id": "57f7084c-2cf7-45c6-ba08-1609e0bd6ca5",
   "metadata": {
    "execution": {
     "iopub.execute_input": "2022-05-07T17:31:14.784701Z",
     "iopub.status.busy": "2022-05-07T17:31:14.784175Z",
     "iopub.status.idle": "2022-05-07T17:31:14.796575Z",
     "shell.execute_reply": "2022-05-07T17:31:14.795920Z"
    },
    "jupyter": {
     "source_hidden": true
    },
    "papermill": {
     "duration": 0.026767,
     "end_time": "2022-05-07T17:31:14.798302",
     "exception": false,
     "start_time": "2022-05-07T17:31:14.771535",
     "status": "completed"
    },
    "tags": [
     "remove_input"
    ]
   },
   "outputs": [
    {
     "name": "stdout",
     "output_type": "stream",
     "text": [
      "No routes meet this criteria.\n"
     ]
    }
   ],
   "source": [
    "# Allow for possibility that operator doesn't have routes that fall into certain route_groups\n",
    "# But, jupyterbook will not like markdown with f-string\n",
    "# separate out route_group and put in each cell, and use try/except + if to display...\n",
    "# but all 3 route groups must be displayed. just add sentence about why no routes were returned at the end\n",
    "route_group = \"short\"\n",
    "try:\n",
    "    subset_routes, mult, diff  = setup_charts(df, PCT_COMPETITIVE_THRESHOLD, route_group)\n",
    "    \n",
    "    if len(subset_routes) > 0:\n",
    "        display(\n",
    "            Markdown(\n",
    "                f\"{CAPTIONS_DICT[route_group]}\"\n",
    "                \"Within each route group, routes are sorted in descending order \"\n",
    "                \"by % competitive trips and # trips below the additional time cut-off.\"\n",
    "            )\n",
    "        )\n",
    "\n",
    "        display(mult)\n",
    "        display(diff)\n",
    "except:\n",
    "    print(\"No routes meet this criteria.\")"
   ]
  },
  {
   "cell_type": "markdown",
   "id": "c2931b6f-034d-4384-9e14-80b925e3b820",
   "metadata": {
    "papermill": {
     "duration": 0.012311,
     "end_time": "2022-05-07T17:31:14.827393",
     "exception": false,
     "start_time": "2022-05-07T17:31:14.815082",
     "status": "completed"
    },
    "tags": []
   },
   "source": [
    "### Medium Routes (1-1.5 hrs)"
   ]
  },
  {
   "cell_type": "code",
   "execution_count": 13,
   "id": "480edddc-4de0-48c2-ae4c-b0ceef8f28b5",
   "metadata": {
    "execution": {
     "iopub.execute_input": "2022-05-07T17:31:14.852610Z",
     "iopub.status.busy": "2022-05-07T17:31:14.851984Z",
     "iopub.status.idle": "2022-05-07T17:31:15.099043Z",
     "shell.execute_reply": "2022-05-07T17:31:15.098289Z"
    },
    "jupyter": {
     "source_hidden": true
    },
    "papermill": {
     "duration": 0.271374,
     "end_time": "2022-05-07T17:31:15.110289",
     "exception": false,
     "start_time": "2022-05-07T17:31:14.838915",
     "status": "completed"
    },
    "tags": [
     "remove_input"
    ]
   },
   "outputs": [
    {
     "data": {
      "text/markdown": [
       "<br>These are routes that have at least 25% of their trips take no more than an additional 30 min compared to a car (up to 15 routes) are shown.Within each route group, routes are sorted in descending order by % competitive trips and # trips below the additional time cut-off."
      ],
      "text/plain": [
       "<IPython.core.display.Markdown object>"
      ]
     },
     "metadata": {},
     "output_type": "display_data"
    },
    {
     "data": {
      "text/html": [
       "\n",
       "<div id=\"altair-viz-e655e2d8894a4ca39fce680dd743fa3a\"></div>\n",
       "<script type=\"text/javascript\">\n",
       "  var VEGA_DEBUG = (typeof VEGA_DEBUG == \"undefined\") ? {} : VEGA_DEBUG;\n",
       "  (function(spec, embedOpt){\n",
       "    let outputDiv = document.currentScript.previousElementSibling;\n",
       "    if (outputDiv.id !== \"altair-viz-e655e2d8894a4ca39fce680dd743fa3a\") {\n",
       "      outputDiv = document.getElementById(\"altair-viz-e655e2d8894a4ca39fce680dd743fa3a\");\n",
       "    }\n",
       "    const paths = {\n",
       "      \"vega\": \"https://cdn.jsdelivr.net/npm//vega@5?noext\",\n",
       "      \"vega-lib\": \"https://cdn.jsdelivr.net/npm//vega-lib?noext\",\n",
       "      \"vega-lite\": \"https://cdn.jsdelivr.net/npm//vega-lite@4.17.0?noext\",\n",
       "      \"vega-embed\": \"https://cdn.jsdelivr.net/npm//vega-embed@6?noext\",\n",
       "    };\n",
       "\n",
       "    function maybeLoadScript(lib, version) {\n",
       "      var key = `${lib.replace(\"-\", \"\")}_version`;\n",
       "      return (VEGA_DEBUG[key] == version) ?\n",
       "        Promise.resolve(paths[lib]) :\n",
       "        new Promise(function(resolve, reject) {\n",
       "          var s = document.createElement('script');\n",
       "          document.getElementsByTagName(\"head\")[0].appendChild(s);\n",
       "          s.async = true;\n",
       "          s.onload = () => {\n",
       "            VEGA_DEBUG[key] = version;\n",
       "            return resolve(paths[lib]);\n",
       "          };\n",
       "          s.onerror = () => reject(`Error loading script: ${paths[lib]}`);\n",
       "          s.src = paths[lib];\n",
       "        });\n",
       "    }\n",
       "\n",
       "    function showError(err) {\n",
       "      outputDiv.innerHTML = `<div class=\"error\" style=\"color:red;\">${err}</div>`;\n",
       "      throw err;\n",
       "    }\n",
       "\n",
       "    function displayChart(vegaEmbed) {\n",
       "      vegaEmbed(outputDiv, spec, embedOpt)\n",
       "        .catch(err => showError(`Javascript Error: ${err.message}<br>This usually means there's a typo in your chart specification. See the javascript console for the full traceback.`));\n",
       "    }\n",
       "\n",
       "    if(typeof define === \"function\" && define.amd) {\n",
       "      requirejs.config({paths});\n",
       "      require([\"vega-embed\"], displayChart, err => showError(`Error loading script: ${err.message}`));\n",
       "    } else {\n",
       "      maybeLoadScript(\"vega\", \"5\")\n",
       "        .then(() => maybeLoadScript(\"vega-lite\", \"4.17.0\"))\n",
       "        .then(() => maybeLoadScript(\"vega-embed\", \"6\"))\n",
       "        .catch(showError)\n",
       "        .then(() => displayChart(vegaEmbed));\n",
       "    }\n",
       "  })({\"config\": {\"view\": {\"continuousWidth\": 400, \"continuousHeight\": 300, \"stroke\": null}, \"facet\": {\"spacing\": 0}}, \"data\": {\"name\": \"data-262d9d636e8463c7def18fe576d4acc8\"}, \"facet\": {\"column\": {\"field\": \"route_id\", \"sort\": [\"13525\", \"13524\"], \"title\": \"Route ID\", \"type\": \"nominal\"}}, \"spec\": {\"layer\": [{\"mark\": {\"type\": \"point\", \"opacity\": 0.65, \"size\": 12, \"strokeWidth\": 1.1}, \"encoding\": {\"color\": {\"field\": \"time_of_day\", \"scale\": {\"range\": [\"#136C97\", \"#E16B26\", \"#F6BF16\", \"#00896B\", \"#7790A3\", \"#5B559C\"]}, \"sort\": [\"AM Peak\", \"Midday\", \"PM Peak\", \"Owl Service\"], \"title\": \"Time of Day\", \"type\": \"nominal\"}, \"tooltip\": [{\"field\": \"route_id\", \"type\": \"nominal\"}, {\"field\": \"trip_id\", \"type\": \"nominal\"}, {\"field\": \"service_hours\", \"type\": \"quantitative\"}, {\"field\": \"car_duration_hours\", \"type\": \"quantitative\"}, {\"field\": \"bus_multiplier\", \"type\": \"quantitative\"}, {\"field\": \"bus_difference\", \"type\": \"quantitative\"}, {\"field\": \"num_trips\", \"type\": \"quantitative\"}, {\"field\": \"num_competitive\", \"type\": \"quantitative\"}, {\"field\": \"pct_trips_competitive\", \"type\": \"quantitative\"}, {\"field\": \"p25\", \"type\": \"quantitative\"}, {\"field\": \"p50\", \"type\": \"quantitative\"}, {\"field\": \"p75\", \"type\": \"quantitative\"}], \"x\": {\"axis\": {\"grid\": false, \"labels\": false, \"ticks\": true, \"values\": [0]}, \"field\": \"jitter\", \"scale\": {}, \"title\": null, \"type\": \"quantitative\"}, \"y\": {\"field\": \"bus_multiplier\", \"scale\": {\"domain\": [-0.25, 2.5]}, \"title\": \"Ratio of Bus to Car Travel Time\", \"type\": \"quantitative\"}}, \"selection\": {\"selector001\": {\"type\": \"interval\", \"bind\": \"scales\", \"encodings\": [\"x\", \"y\"]}}, \"transform\": [{\"calculate\": \"sqrt(-2*log(random()))*cos(2*PI*random())\", \"as\": \"jitter\"}], \"width\": 60}, {\"layer\": [{\"mark\": {\"type\": \"point\", \"opacity\": 0.6, \"size\": 20, \"strokeWidth\": 1.3}, \"encoding\": {\"color\": {\"value\": \"#323434\"}, \"y\": {\"field\": \"bus_multiplier\", \"type\": \"quantitative\"}}, \"transform\": [{\"filter\": \"(datum.p50_trip === 1)\"}]}, {\"mark\": {\"type\": \"rule\", \"strokeDash\": [2, 3]}, \"encoding\": {\"color\": {\"value\": \"#323434\"}, \"y\": {\"field\": \"cutoff\", \"type\": \"quantitative\"}}}, {\"mark\": {\"type\": \"text\", \"align\": \"center\", \"baseline\": \"middle\"}, \"encoding\": {\"color\": {\"value\": \"black\"}, \"text\": {\"field\": \"pct_trips_competitive\", \"format\": \".0%\", \"type\": \"quantitative\"}, \"tooltip\": [{\"field\": \"route_id\", \"type\": \"nominal\"}, {\"field\": \"trip_id\", \"type\": \"nominal\"}, {\"field\": \"service_hours\", \"type\": \"quantitative\"}, {\"field\": \"car_duration_hours\", \"type\": \"quantitative\"}, {\"field\": \"bus_multiplier\", \"type\": \"quantitative\"}, {\"field\": \"bus_difference\", \"type\": \"quantitative\"}, {\"field\": \"num_trips\", \"type\": \"quantitative\"}, {\"field\": \"num_competitive\", \"type\": \"quantitative\"}, {\"field\": \"pct_trips_competitive\", \"type\": \"quantitative\"}, {\"field\": \"p25\", \"type\": \"quantitative\"}, {\"field\": \"p50\", \"type\": \"quantitative\"}, {\"field\": \"p75\", \"type\": \"quantitative\"}], \"x\": {\"value\": 30}, \"y\": {\"value\": 15}}, \"transform\": [{\"calculate\": \"sqrt(-2*log(random()))*cos(2*PI*random())\", \"as\": \"jitter\"}, {\"filter\": \"(datum.fastest_trip === 1)\"}]}]}]}, \"resolve\": {\"scale\": {\"y\": \"shared\"}}, \"title\": \"Ratio of Bus to Car Travel Time\", \"$schema\": \"https://vega.github.io/schema/vega-lite/v4.17.0.json\", \"datasets\": {\"data-262d9d636e8463c7def18fe576d4acc8\": [{\"calitp_itp_id\": 341, \"trip_key\": 3273416138300551864, \"trip_id\": \"t_1582751_b_31241_tn_0\", \"shape_id\": \"p_744870\", \"route_id\": \"13524\", \"service_hours\": 1.17, \"trip_first_departure_ts\": 33300, \"trip_last_arrival_ts\": 37500, \"departure_hour\": 9, \"time_of_day\": \"AM Peak\", \"p25\": 1.17, \"p50\": 1.25, \"p75\": 1.25, \"p50_trip\": 0, \"fastest_trip\": 0, \"car_duration_hours\": 0.68, \"competitive_route\": 1, \"bus_multiplier\": 1.72, \"bus_difference\": 29.4, \"num_trips\": 19, \"num_competitive\": 16, \"pct_trips_competitive\": 0.842, \"bus_difference_spread\": 15.0, \"route_group\": \"medium\", \"max_trip_hrs\": 1.42, \"max_trip_route_group\": 1.42, \"name\": \"City of Tracy\", \"caltrans_district\": \"10 - Stockton\", \"drmt_organization_name\": null, \"cutoff2\": 21.299999999999997, \"cutoff\": 2}, {\"calitp_itp_id\": 341, \"trip_key\": -8424452224539762809, \"trip_id\": \"t_1582743_b_31241_tn_0\", \"shape_id\": \"p_744870\", \"route_id\": \"13524\", \"service_hours\": 1.17, \"trip_first_departure_ts\": 24300, \"trip_last_arrival_ts\": 28500, \"departure_hour\": 6, \"time_of_day\": \"Owl Service\", \"p25\": 1.17, \"p50\": 1.25, \"p75\": 1.25, \"p50_trip\": 0, \"fastest_trip\": 0, \"car_duration_hours\": 0.68, \"competitive_route\": 1, \"bus_multiplier\": 1.72, \"bus_difference\": 29.4, \"num_trips\": 19, \"num_competitive\": 16, \"pct_trips_competitive\": 0.842, \"bus_difference_spread\": 15.0, \"route_group\": \"medium\", \"max_trip_hrs\": 1.42, \"max_trip_route_group\": 1.42, \"name\": \"City of Tracy\", \"caltrans_district\": \"10 - Stockton\", \"drmt_organization_name\": null, \"cutoff2\": 21.299999999999997, \"cutoff\": 2}, {\"calitp_itp_id\": 341, \"trip_key\": 1067918521926375207, \"trip_id\": \"t_1582744_b_31241_tn_0\", \"shape_id\": \"p_744870\", \"route_id\": \"13524\", \"service_hours\": 1.17, \"trip_first_departure_ts\": 28800, \"trip_last_arrival_ts\": 33000, \"departure_hour\": 8, \"time_of_day\": \"AM Peak\", \"p25\": 1.17, \"p50\": 1.25, \"p75\": 1.25, \"p50_trip\": 0, \"fastest_trip\": 0, \"car_duration_hours\": 0.68, \"competitive_route\": 1, \"bus_multiplier\": 1.72, \"bus_difference\": 29.4, \"num_trips\": 19, \"num_competitive\": 16, \"pct_trips_competitive\": 0.842, \"bus_difference_spread\": 15.0, \"route_group\": \"medium\", \"max_trip_hrs\": 1.42, \"max_trip_route_group\": 1.42, \"name\": \"City of Tracy\", \"caltrans_district\": \"10 - Stockton\", \"drmt_organization_name\": null, \"cutoff2\": 21.299999999999997, \"cutoff\": 2}, {\"calitp_itp_id\": 341, \"trip_key\": 4433041068593353937, \"trip_id\": \"t_1582748_b_31241_tn_0\", \"shape_id\": \"p_744870\", \"route_id\": \"13524\", \"service_hours\": 1.17, \"trip_first_departure_ts\": 39600, \"trip_last_arrival_ts\": 43800, \"departure_hour\": 11, \"time_of_day\": \"Midday\", \"p25\": 1.17, \"p50\": 1.25, \"p75\": 1.25, \"p50_trip\": 0, \"fastest_trip\": 0, \"car_duration_hours\": 0.68, \"competitive_route\": 1, \"bus_multiplier\": 1.72, \"bus_difference\": 29.4, \"num_trips\": 19, \"num_competitive\": 16, \"pct_trips_competitive\": 0.842, \"bus_difference_spread\": 15.0, \"route_group\": \"medium\", \"max_trip_hrs\": 1.42, \"max_trip_route_group\": 1.42, \"name\": \"City of Tracy\", \"caltrans_district\": \"10 - Stockton\", \"drmt_organization_name\": null, \"cutoff2\": 21.299999999999997, \"cutoff\": 2}, {\"calitp_itp_id\": 341, \"trip_key\": -2214776912358382331, \"trip_id\": \"t_1582752_b_31241_tn_0\", \"shape_id\": \"p_744870\", \"route_id\": \"13524\", \"service_hours\": 1.17, \"trip_first_departure_ts\": 37800, \"trip_last_arrival_ts\": 42000, \"departure_hour\": 10, \"time_of_day\": \"Midday\", \"p25\": 1.17, \"p50\": 1.25, \"p75\": 1.25, \"p50_trip\": 0, \"fastest_trip\": 0, \"car_duration_hours\": 0.68, \"competitive_route\": 1, \"bus_multiplier\": 1.72, \"bus_difference\": 29.4, \"num_trips\": 19, \"num_competitive\": 16, \"pct_trips_competitive\": 0.842, \"bus_difference_spread\": 15.0, \"route_group\": \"medium\", \"max_trip_hrs\": 1.42, \"max_trip_route_group\": 1.42, \"name\": \"City of Tracy\", \"caltrans_district\": \"10 - Stockton\", \"drmt_organization_name\": null, \"cutoff2\": 21.299999999999997, \"cutoff\": 2}, {\"calitp_itp_id\": 341, \"trip_key\": -7164748691853724673, \"trip_id\": \"t_1582749_b_31241_tn_0\", \"shape_id\": \"p_744870\", \"route_id\": \"13524\", \"service_hours\": 1.17, \"trip_first_departure_ts\": 54900, \"trip_last_arrival_ts\": 59100, \"departure_hour\": 15, \"time_of_day\": \"Midday\", \"p25\": 1.17, \"p50\": 1.25, \"p75\": 1.25, \"p50_trip\": 0, \"fastest_trip\": 1, \"car_duration_hours\": 0.68, \"competitive_route\": 1, \"bus_multiplier\": 1.72, \"bus_difference\": 29.4, \"num_trips\": 19, \"num_competitive\": 16, \"pct_trips_competitive\": 0.842, \"bus_difference_spread\": 15.0, \"route_group\": \"medium\", \"max_trip_hrs\": 1.42, \"max_trip_route_group\": 1.42, \"name\": \"City of Tracy\", \"caltrans_district\": \"10 - Stockton\", \"drmt_organization_name\": null, \"cutoff2\": 21.299999999999997, \"cutoff\": 2}, {\"calitp_itp_id\": 341, \"trip_key\": 830683484434739798, \"trip_id\": \"t_1582745_b_31241_tn_0\", \"shape_id\": \"p_744870\", \"route_id\": \"13524\", \"service_hours\": 1.17, \"trip_first_departure_ts\": 26100, \"trip_last_arrival_ts\": 30300, \"departure_hour\": 7, \"time_of_day\": \"AM Peak\", \"p25\": 1.17, \"p50\": 1.25, \"p75\": 1.25, \"p50_trip\": 0, \"fastest_trip\": 0, \"car_duration_hours\": 0.68, \"competitive_route\": 1, \"bus_multiplier\": 1.72, \"bus_difference\": 29.4, \"num_trips\": 19, \"num_competitive\": 16, \"pct_trips_competitive\": 0.842, \"bus_difference_spread\": 15.0, \"route_group\": \"medium\", \"max_trip_hrs\": 1.42, \"max_trip_route_group\": 1.42, \"name\": \"City of Tracy\", \"caltrans_district\": \"10 - Stockton\", \"drmt_organization_name\": null, \"cutoff2\": 21.299999999999997, \"cutoff\": 2}, {\"calitp_itp_id\": 341, \"trip_key\": 2928371681242192163, \"trip_id\": \"t_1582746_b_31241_tn_0\", \"shape_id\": \"p_744870\", \"route_id\": \"13524\", \"service_hours\": 1.17, \"trip_first_departure_ts\": 30600, \"trip_last_arrival_ts\": 34800, \"departure_hour\": 8, \"time_of_day\": \"AM Peak\", \"p25\": 1.17, \"p50\": 1.25, \"p75\": 1.25, \"p50_trip\": 0, \"fastest_trip\": 0, \"car_duration_hours\": 0.68, \"competitive_route\": 1, \"bus_multiplier\": 1.72, \"bus_difference\": 29.4, \"num_trips\": 19, \"num_competitive\": 16, \"pct_trips_competitive\": 0.842, \"bus_difference_spread\": 15.0, \"route_group\": \"medium\", \"max_trip_hrs\": 1.42, \"max_trip_route_group\": 1.42, \"name\": \"City of Tracy\", \"caltrans_district\": \"10 - Stockton\", \"drmt_organization_name\": null, \"cutoff2\": 21.299999999999997, \"cutoff\": 2}, {\"calitp_itp_id\": 341, \"trip_key\": -1334819812229007553, \"trip_id\": \"t_1582747_b_31241_tn_0\", \"shape_id\": \"p_744870\", \"route_id\": \"13524\", \"service_hours\": 1.17, \"trip_first_departure_ts\": 35100, \"trip_last_arrival_ts\": 39300, \"departure_hour\": 9, \"time_of_day\": \"AM Peak\", \"p25\": 1.17, \"p50\": 1.25, \"p75\": 1.25, \"p50_trip\": 0, \"fastest_trip\": 0, \"car_duration_hours\": 0.68, \"competitive_route\": 1, \"bus_multiplier\": 1.72, \"bus_difference\": 29.4, \"num_trips\": 19, \"num_competitive\": 16, \"pct_trips_competitive\": 0.842, \"bus_difference_spread\": 15.0, \"route_group\": \"medium\", \"max_trip_hrs\": 1.42, \"max_trip_route_group\": 1.42, \"name\": \"City of Tracy\", \"caltrans_district\": \"10 - Stockton\", \"drmt_organization_name\": null, \"cutoff2\": 21.299999999999997, \"cutoff\": 2}, {\"calitp_itp_id\": 341, \"trip_key\": -8260742221272562247, \"trip_id\": \"t_1582742_b_31241_tn_0\", \"shape_id\": \"p_744870\", \"route_id\": \"13524\", \"service_hours\": 1.25, \"trip_first_departure_ts\": 59400, \"trip_last_arrival_ts\": 63900, \"departure_hour\": 16, \"time_of_day\": \"Midday\", \"p25\": 1.17, \"p50\": 1.25, \"p75\": 1.25, \"p50_trip\": 1, \"fastest_trip\": 0, \"car_duration_hours\": 0.68, \"competitive_route\": 1, \"bus_multiplier\": 1.84, \"bus_difference\": 34.2, \"num_trips\": 19, \"num_competitive\": 16, \"pct_trips_competitive\": 0.842, \"bus_difference_spread\": 15.0, \"route_group\": \"medium\", \"max_trip_hrs\": 1.42, \"max_trip_route_group\": 1.42, \"name\": \"City of Tracy\", \"caltrans_district\": \"10 - Stockton\", \"drmt_organization_name\": null, \"cutoff2\": 21.299999999999997, \"cutoff\": 2}, {\"calitp_itp_id\": 341, \"trip_key\": 584514040564428682, \"trip_id\": \"t_1582756_b_31241_tn_0\", \"shape_id\": \"p_744870\", \"route_id\": \"13524\", \"service_hours\": 1.25, \"trip_first_departure_ts\": 57300, \"trip_last_arrival_ts\": 61800, \"departure_hour\": 15, \"time_of_day\": \"Midday\", \"p25\": 1.17, \"p50\": 1.25, \"p75\": 1.25, \"p50_trip\": 1, \"fastest_trip\": 0, \"car_duration_hours\": 0.68, \"competitive_route\": 1, \"bus_multiplier\": 1.84, \"bus_difference\": 34.2, \"num_trips\": 19, \"num_competitive\": 16, \"pct_trips_competitive\": 0.842, \"bus_difference_spread\": 15.0, \"route_group\": \"medium\", \"max_trip_hrs\": 1.42, \"max_trip_route_group\": 1.42, \"name\": \"City of Tracy\", \"caltrans_district\": \"10 - Stockton\", \"drmt_organization_name\": null, \"cutoff2\": 21.299999999999997, \"cutoff\": 2}, {\"calitp_itp_id\": 341, \"trip_key\": -3376692746768093366, \"trip_id\": \"t_1582754_b_31241_tn_0\", \"shape_id\": \"p_744870\", \"route_id\": \"13524\", \"service_hours\": 1.25, \"trip_first_departure_ts\": 47700, \"trip_last_arrival_ts\": 52200, \"departure_hour\": 13, \"time_of_day\": \"Midday\", \"p25\": 1.17, \"p50\": 1.25, \"p75\": 1.25, \"p50_trip\": 1, \"fastest_trip\": 0, \"car_duration_hours\": 0.68, \"competitive_route\": 1, \"bus_multiplier\": 1.84, \"bus_difference\": 34.2, \"num_trips\": 19, \"num_competitive\": 16, \"pct_trips_competitive\": 0.842, \"bus_difference_spread\": 15.0, \"route_group\": \"medium\", \"max_trip_hrs\": 1.42, \"max_trip_route_group\": 1.42, \"name\": \"City of Tracy\", \"caltrans_district\": \"10 - Stockton\", \"drmt_organization_name\": null, \"cutoff2\": 21.299999999999997, \"cutoff\": 2}, {\"calitp_itp_id\": 341, \"trip_key\": -7305182815255252792, \"trip_id\": \"t_1582729_b_31241_tn_0\", \"shape_id\": \"p_744870\", \"route_id\": \"13524\", \"service_hours\": 1.25, \"trip_first_departure_ts\": 66900, \"trip_last_arrival_ts\": 71400, \"departure_hour\": 18, \"time_of_day\": \"PM Peak\", \"p25\": 1.17, \"p50\": 1.25, \"p75\": 1.25, \"p50_trip\": 1, \"fastest_trip\": 0, \"car_duration_hours\": 0.68, \"competitive_route\": 1, \"bus_multiplier\": 1.84, \"bus_difference\": 34.2, \"num_trips\": 19, \"num_competitive\": 16, \"pct_trips_competitive\": 0.842, \"bus_difference_spread\": 15.0, \"route_group\": \"medium\", \"max_trip_hrs\": 1.42, \"max_trip_route_group\": 1.42, \"name\": \"City of Tracy\", \"caltrans_district\": \"10 - Stockton\", \"drmt_organization_name\": null, \"cutoff2\": 21.299999999999997, \"cutoff\": 2}, {\"calitp_itp_id\": 341, \"trip_key\": -8746524917141551110, \"trip_id\": \"t_1582755_b_31241_tn_0\", \"shape_id\": \"p_744870\", \"route_id\": \"13524\", \"service_hours\": 1.25, \"trip_first_departure_ts\": 52500, \"trip_last_arrival_ts\": 57000, \"departure_hour\": 14, \"time_of_day\": \"Midday\", \"p25\": 1.17, \"p50\": 1.25, \"p75\": 1.25, \"p50_trip\": 1, \"fastest_trip\": 0, \"car_duration_hours\": 0.68, \"competitive_route\": 1, \"bus_multiplier\": 1.84, \"bus_difference\": 34.2, \"num_trips\": 19, \"num_competitive\": 16, \"pct_trips_competitive\": 0.842, \"bus_difference_spread\": 15.0, \"route_group\": \"medium\", \"max_trip_hrs\": 1.42, \"max_trip_route_group\": 1.42, \"name\": \"City of Tracy\", \"caltrans_district\": \"10 - Stockton\", \"drmt_organization_name\": null, \"cutoff2\": 21.299999999999997, \"cutoff\": 2}, {\"calitp_itp_id\": 341, \"trip_key\": 6576026122937157907, \"trip_id\": \"t_1582757_b_31241_tn_0\", \"shape_id\": \"p_744870\", \"route_id\": \"13524\", \"service_hours\": 1.25, \"trip_first_departure_ts\": 62100, \"trip_last_arrival_ts\": 66600, \"departure_hour\": 17, \"time_of_day\": \"PM Peak\", \"p25\": 1.17, \"p50\": 1.25, \"p75\": 1.25, \"p50_trip\": 1, \"fastest_trip\": 0, \"car_duration_hours\": 0.68, \"competitive_route\": 1, \"bus_multiplier\": 1.84, \"bus_difference\": 34.2, \"num_trips\": 19, \"num_competitive\": 16, \"pct_trips_competitive\": 0.842, \"bus_difference_spread\": 15.0, \"route_group\": \"medium\", \"max_trip_hrs\": 1.42, \"max_trip_route_group\": 1.42, \"name\": \"City of Tracy\", \"caltrans_district\": \"10 - Stockton\", \"drmt_organization_name\": null, \"cutoff2\": 21.299999999999997, \"cutoff\": 2}, {\"calitp_itp_id\": 341, \"trip_key\": 4108108809527396172, \"trip_id\": \"t_1582750_b_31241_tn_0\", \"shape_id\": \"p_744870\", \"route_id\": \"13524\", \"service_hours\": 1.25, \"trip_first_departure_ts\": 64200, \"trip_last_arrival_ts\": 68700, \"departure_hour\": 17, \"time_of_day\": \"PM Peak\", \"p25\": 1.17, \"p50\": 1.25, \"p75\": 1.25, \"p50_trip\": 1, \"fastest_trip\": 0, \"car_duration_hours\": 0.68, \"competitive_route\": 1, \"bus_multiplier\": 1.84, \"bus_difference\": 34.2, \"num_trips\": 19, \"num_competitive\": 16, \"pct_trips_competitive\": 0.842, \"bus_difference_spread\": 15.0, \"route_group\": \"medium\", \"max_trip_hrs\": 1.42, \"max_trip_route_group\": 1.42, \"name\": \"City of Tracy\", \"caltrans_district\": \"10 - Stockton\", \"drmt_organization_name\": null, \"cutoff2\": 21.299999999999997, \"cutoff\": 2}, {\"calitp_itp_id\": 341, \"trip_key\": -3668030610167856819, \"trip_id\": \"t_1582753_b_31241_tn_0\", \"shape_id\": \"p_744870\", \"route_id\": \"13524\", \"service_hours\": 1.42, \"trip_first_departure_ts\": 42300, \"trip_last_arrival_ts\": 47400, \"departure_hour\": 11, \"time_of_day\": \"Midday\", \"p25\": 1.17, \"p50\": 1.25, \"p75\": 1.25, \"p50_trip\": 0, \"fastest_trip\": 0, \"car_duration_hours\": 0.68, \"competitive_route\": 1, \"bus_multiplier\": 2.09, \"bus_difference\": 44.4, \"num_trips\": 19, \"num_competitive\": 16, \"pct_trips_competitive\": 0.842, \"bus_difference_spread\": 15.0, \"route_group\": \"medium\", \"max_trip_hrs\": 1.42, \"max_trip_route_group\": 1.42, \"name\": \"City of Tracy\", \"caltrans_district\": \"10 - Stockton\", \"drmt_organization_name\": null, \"cutoff2\": 21.299999999999997, \"cutoff\": 2}, {\"calitp_itp_id\": 341, \"trip_key\": 2589776370580046484, \"trip_id\": \"t_1582740_b_31241_tn_0\", \"shape_id\": \"p_744870\", \"route_id\": \"13524\", \"service_hours\": 1.42, \"trip_first_departure_ts\": 44100, \"trip_last_arrival_ts\": 49200, \"departure_hour\": 12, \"time_of_day\": \"Midday\", \"p25\": 1.17, \"p50\": 1.25, \"p75\": 1.25, \"p50_trip\": 0, \"fastest_trip\": 0, \"car_duration_hours\": 0.68, \"competitive_route\": 1, \"bus_multiplier\": 2.09, \"bus_difference\": 44.4, \"num_trips\": 19, \"num_competitive\": 16, \"pct_trips_competitive\": 0.842, \"bus_difference_spread\": 15.0, \"route_group\": \"medium\", \"max_trip_hrs\": 1.42, \"max_trip_route_group\": 1.42, \"name\": \"City of Tracy\", \"caltrans_district\": \"10 - Stockton\", \"drmt_organization_name\": null, \"cutoff2\": 21.299999999999997, \"cutoff\": 2}, {\"calitp_itp_id\": 341, \"trip_key\": 7537216030100030304, \"trip_id\": \"t_1582741_b_31241_tn_0\", \"shape_id\": \"p_744870\", \"route_id\": \"13524\", \"service_hours\": 1.42, \"trip_first_departure_ts\": 49500, \"trip_last_arrival_ts\": 54600, \"departure_hour\": 13, \"time_of_day\": \"Midday\", \"p25\": 1.17, \"p50\": 1.25, \"p75\": 1.25, \"p50_trip\": 0, \"fastest_trip\": 0, \"car_duration_hours\": 0.68, \"competitive_route\": 1, \"bus_multiplier\": 2.09, \"bus_difference\": 44.4, \"num_trips\": 19, \"num_competitive\": 16, \"pct_trips_competitive\": 0.842, \"bus_difference_spread\": 15.0, \"route_group\": \"medium\", \"max_trip_hrs\": 1.42, \"max_trip_route_group\": 1.42, \"name\": \"City of Tracy\", \"caltrans_district\": \"10 - Stockton\", \"drmt_organization_name\": null, \"cutoff2\": 21.299999999999997, \"cutoff\": 2}, {\"calitp_itp_id\": 341, \"trip_key\": -5391431990439876503, \"trip_id\": \"t_1582758_b_31241_tn_0\", \"shape_id\": \"p_744902\", \"route_id\": \"13525\", \"service_hours\": 1.0, \"trip_first_departure_ts\": 25200, \"trip_last_arrival_ts\": 28800, \"departure_hour\": 7, \"time_of_day\": \"AM Peak\", \"p25\": 1.0, \"p50\": 1.17, \"p75\": 1.17, \"p50_trip\": 0, \"fastest_trip\": 0, \"car_duration_hours\": 0.61, \"competitive_route\": 1, \"bus_multiplier\": 1.64, \"bus_difference\": 23.4, \"num_trips\": 20, \"num_competitive\": 18, \"pct_trips_competitive\": 0.9, \"bus_difference_spread\": 25.2, \"route_group\": \"medium\", \"max_trip_hrs\": 1.42, \"max_trip_route_group\": 1.42, \"name\": \"City of Tracy\", \"caltrans_district\": \"10 - Stockton\", \"drmt_organization_name\": null, \"cutoff2\": 21.299999999999997, \"cutoff\": 2}, {\"calitp_itp_id\": 341, \"trip_key\": -8147866072512567284, \"trip_id\": \"t_1582730_b_31241_tn_0\", \"shape_id\": \"p_744902\", \"route_id\": \"13525\", \"service_hours\": 1.0, \"trip_first_departure_ts\": 66900, \"trip_last_arrival_ts\": 70500, \"departure_hour\": 18, \"time_of_day\": \"PM Peak\", \"p25\": 1.0, \"p50\": 1.17, \"p75\": 1.17, \"p50_trip\": 0, \"fastest_trip\": 1, \"car_duration_hours\": 0.61, \"competitive_route\": 1, \"bus_multiplier\": 1.64, \"bus_difference\": 23.4, \"num_trips\": 20, \"num_competitive\": 18, \"pct_trips_competitive\": 0.9, \"bus_difference_spread\": 25.2, \"route_group\": \"medium\", \"max_trip_hrs\": 1.42, \"max_trip_route_group\": 1.42, \"name\": \"City of Tracy\", \"caltrans_district\": \"10 - Stockton\", \"drmt_organization_name\": null, \"cutoff2\": 21.299999999999997, \"cutoff\": 2}, {\"calitp_itp_id\": 341, \"trip_key\": 260284697458458549, \"trip_id\": \"t_1582759_b_31241_tn_0\", \"shape_id\": \"p_744902\", \"route_id\": \"13525\", \"service_hours\": 1.0, \"trip_first_departure_ts\": 29100, \"trip_last_arrival_ts\": 32700, \"departure_hour\": 8, \"time_of_day\": \"AM Peak\", \"p25\": 1.0, \"p50\": 1.17, \"p75\": 1.17, \"p50_trip\": 0, \"fastest_trip\": 0, \"car_duration_hours\": 0.61, \"competitive_route\": 1, \"bus_multiplier\": 1.64, \"bus_difference\": 23.4, \"num_trips\": 20, \"num_competitive\": 18, \"pct_trips_competitive\": 0.9, \"bus_difference_spread\": 25.2, \"route_group\": \"medium\", \"max_trip_hrs\": 1.42, \"max_trip_route_group\": 1.42, \"name\": \"City of Tracy\", \"caltrans_district\": \"10 - Stockton\", \"drmt_organization_name\": null, \"cutoff2\": 21.299999999999997, \"cutoff\": 2}, {\"calitp_itp_id\": 341, \"trip_key\": 5372105835276176057, \"trip_id\": \"t_1582760_b_31241_tn_0\", \"shape_id\": \"p_744902\", \"route_id\": \"13525\", \"service_hours\": 1.0, \"trip_first_departure_ts\": 27000, \"trip_last_arrival_ts\": 30600, \"departure_hour\": 7, \"time_of_day\": \"AM Peak\", \"p25\": 1.0, \"p50\": 1.17, \"p75\": 1.17, \"p50_trip\": 0, \"fastest_trip\": 0, \"car_duration_hours\": 0.61, \"competitive_route\": 1, \"bus_multiplier\": 1.64, \"bus_difference\": 23.4, \"num_trips\": 20, \"num_competitive\": 18, \"pct_trips_competitive\": 0.9, \"bus_difference_spread\": 25.2, \"route_group\": \"medium\", \"max_trip_hrs\": 1.42, \"max_trip_route_group\": 1.42, \"name\": \"City of Tracy\", \"caltrans_district\": \"10 - Stockton\", \"drmt_organization_name\": null, \"cutoff2\": 21.299999999999997, \"cutoff\": 2}, {\"calitp_itp_id\": 341, \"trip_key\": 4311782331808619072, \"trip_id\": \"t_1582774_b_31241_tn_0\", \"shape_id\": \"p_744902\", \"route_id\": \"13525\", \"service_hours\": 1.0, \"trip_first_departure_ts\": 64800, \"trip_last_arrival_ts\": 68400, \"departure_hour\": 18, \"time_of_day\": \"PM Peak\", \"p25\": 1.0, \"p50\": 1.17, \"p75\": 1.17, \"p50_trip\": 0, \"fastest_trip\": 0, \"car_duration_hours\": 0.61, \"competitive_route\": 1, \"bus_multiplier\": 1.64, \"bus_difference\": 23.4, \"num_trips\": 20, \"num_competitive\": 18, \"pct_trips_competitive\": 0.9, \"bus_difference_spread\": 25.2, \"route_group\": \"medium\", \"max_trip_hrs\": 1.42, \"max_trip_route_group\": 1.42, \"name\": \"City of Tracy\", \"caltrans_district\": \"10 - Stockton\", \"drmt_organization_name\": null, \"cutoff2\": 21.299999999999997, \"cutoff\": 2}, {\"calitp_itp_id\": 341, \"trip_key\": -3317800707075710484, \"trip_id\": \"t_1582761_b_31241_tn_0\", \"shape_id\": \"p_744902\", \"route_id\": \"13525\", \"service_hours\": 1.0, \"trip_first_departure_ts\": 30900, \"trip_last_arrival_ts\": 34500, \"departure_hour\": 8, \"time_of_day\": \"AM Peak\", \"p25\": 1.0, \"p50\": 1.17, \"p75\": 1.17, \"p50_trip\": 0, \"fastest_trip\": 0, \"car_duration_hours\": 0.61, \"competitive_route\": 1, \"bus_multiplier\": 1.64, \"bus_difference\": 23.4, \"num_trips\": 20, \"num_competitive\": 18, \"pct_trips_competitive\": 0.9, \"bus_difference_spread\": 25.2, \"route_group\": \"medium\", \"max_trip_hrs\": 1.42, \"max_trip_route_group\": 1.42, \"name\": \"City of Tracy\", \"caltrans_district\": \"10 - Stockton\", \"drmt_organization_name\": null, \"cutoff2\": 21.299999999999997, \"cutoff\": 2}, {\"calitp_itp_id\": 341, \"trip_key\": 5525649063399916120, \"trip_id\": \"t_1582768_b_31241_tn_0\", \"shape_id\": \"p_744902\", \"route_id\": \"13525\", \"service_hours\": 1.08, \"trip_first_departure_ts\": 62400, \"trip_last_arrival_ts\": 66300, \"departure_hour\": 17, \"time_of_day\": \"PM Peak\", \"p25\": 1.0, \"p50\": 1.17, \"p75\": 1.17, \"p50_trip\": 0, \"fastest_trip\": 0, \"car_duration_hours\": 0.61, \"competitive_route\": 1, \"bus_multiplier\": 1.77, \"bus_difference\": 28.2, \"num_trips\": 20, \"num_competitive\": 18, \"pct_trips_competitive\": 0.9, \"bus_difference_spread\": 25.2, \"route_group\": \"medium\", \"max_trip_hrs\": 1.42, \"max_trip_route_group\": 1.42, \"name\": \"City of Tracy\", \"caltrans_district\": \"10 - Stockton\", \"drmt_organization_name\": null, \"cutoff2\": 21.299999999999997, \"cutoff\": 2}, {\"calitp_itp_id\": 341, \"trip_key\": -7621160083869894305, \"trip_id\": \"t_1582765_b_31241_tn_0\", \"shape_id\": \"p_744902\", \"route_id\": \"13525\", \"service_hours\": 1.08, \"trip_first_departure_ts\": 43800, \"trip_last_arrival_ts\": 47700, \"departure_hour\": 12, \"time_of_day\": \"Midday\", \"p25\": 1.0, \"p50\": 1.17, \"p75\": 1.17, \"p50_trip\": 0, \"fastest_trip\": 0, \"car_duration_hours\": 0.61, \"competitive_route\": 1, \"bus_multiplier\": 1.77, \"bus_difference\": 28.2, \"num_trips\": 20, \"num_competitive\": 18, \"pct_trips_competitive\": 0.9, \"bus_difference_spread\": 25.2, \"route_group\": \"medium\", \"max_trip_hrs\": 1.42, \"max_trip_route_group\": 1.42, \"name\": \"City of Tracy\", \"caltrans_district\": \"10 - Stockton\", \"drmt_organization_name\": null, \"cutoff2\": 21.299999999999997, \"cutoff\": 2}, {\"calitp_itp_id\": 341, \"trip_key\": 2591109908603089160, \"trip_id\": \"t_1582763_b_31241_tn_0\", \"shape_id\": \"p_744902\", \"route_id\": \"13525\", \"service_hours\": 1.17, \"trip_first_departure_ts\": 34800, \"trip_last_arrival_ts\": 39000, \"departure_hour\": 9, \"time_of_day\": \"AM Peak\", \"p25\": 1.0, \"p50\": 1.17, \"p75\": 1.17, \"p50_trip\": 1, \"fastest_trip\": 0, \"car_duration_hours\": 0.61, \"competitive_route\": 1, \"bus_multiplier\": 1.92, \"bus_difference\": 33.6, \"num_trips\": 20, \"num_competitive\": 18, \"pct_trips_competitive\": 0.9, \"bus_difference_spread\": 25.2, \"route_group\": \"medium\", \"max_trip_hrs\": 1.42, \"max_trip_route_group\": 1.42, \"name\": \"City of Tracy\", \"caltrans_district\": \"10 - Stockton\", \"drmt_organization_name\": null, \"cutoff2\": 21.299999999999997, \"cutoff\": 2}, {\"calitp_itp_id\": 341, \"trip_key\": -8023373100664779453, \"trip_id\": \"t_1582766_b_31241_tn_0\", \"shape_id\": \"p_744902\", \"route_id\": \"13525\", \"service_hours\": 1.17, \"trip_first_departure_ts\": 48000, \"trip_last_arrival_ts\": 52200, \"departure_hour\": 13, \"time_of_day\": \"Midday\", \"p25\": 1.0, \"p50\": 1.17, \"p75\": 1.17, \"p50_trip\": 1, \"fastest_trip\": 0, \"car_duration_hours\": 0.61, \"competitive_route\": 1, \"bus_multiplier\": 1.92, \"bus_difference\": 33.6, \"num_trips\": 20, \"num_competitive\": 18, \"pct_trips_competitive\": 0.9, \"bus_difference_spread\": 25.2, \"route_group\": \"medium\", \"max_trip_hrs\": 1.42, \"max_trip_route_group\": 1.42, \"name\": \"City of Tracy\", \"caltrans_district\": \"10 - Stockton\", \"drmt_organization_name\": null, \"cutoff2\": 21.299999999999997, \"cutoff\": 2}, {\"calitp_itp_id\": 341, \"trip_key\": 3862904626022008111, \"trip_id\": \"t_1582775_b_31241_tn_0\", \"shape_id\": \"p_744902\", \"route_id\": \"13525\", \"service_hours\": 1.17, \"trip_first_departure_ts\": 55800, \"trip_last_arrival_ts\": 60000, \"departure_hour\": 15, \"time_of_day\": \"Midday\", \"p25\": 1.0, \"p50\": 1.17, \"p75\": 1.17, \"p50_trip\": 1, \"fastest_trip\": 0, \"car_duration_hours\": 0.61, \"competitive_route\": 1, \"bus_multiplier\": 1.92, \"bus_difference\": 33.6, \"num_trips\": 20, \"num_competitive\": 18, \"pct_trips_competitive\": 0.9, \"bus_difference_spread\": 25.2, \"route_group\": \"medium\", \"max_trip_hrs\": 1.42, \"max_trip_route_group\": 1.42, \"name\": \"City of Tracy\", \"caltrans_district\": \"10 - Stockton\", \"drmt_organization_name\": null, \"cutoff2\": 21.299999999999997, \"cutoff\": 2}, {\"calitp_itp_id\": 341, \"trip_key\": 7315210854481212957, \"trip_id\": \"t_1582772_b_31241_tn_0\", \"shape_id\": \"p_744902\", \"route_id\": \"13525\", \"service_hours\": 1.17, \"trip_first_departure_ts\": 42000, \"trip_last_arrival_ts\": 46200, \"departure_hour\": 11, \"time_of_day\": \"Midday\", \"p25\": 1.0, \"p50\": 1.17, \"p75\": 1.17, \"p50_trip\": 1, \"fastest_trip\": 0, \"car_duration_hours\": 0.61, \"competitive_route\": 1, \"bus_multiplier\": 1.92, \"bus_difference\": 33.6, \"num_trips\": 20, \"num_competitive\": 18, \"pct_trips_competitive\": 0.9, \"bus_difference_spread\": 25.2, \"route_group\": \"medium\", \"max_trip_hrs\": 1.42, \"max_trip_route_group\": 1.42, \"name\": \"City of Tracy\", \"caltrans_district\": \"10 - Stockton\", \"drmt_organization_name\": null, \"cutoff2\": 21.299999999999997, \"cutoff\": 2}, {\"calitp_itp_id\": 341, \"trip_key\": -4853870524780812778, \"trip_id\": \"t_1582776_b_31241_tn_0\", \"shape_id\": \"p_744902\", \"route_id\": \"13525\", \"service_hours\": 1.17, \"trip_first_departure_ts\": 60300, \"trip_last_arrival_ts\": 64500, \"departure_hour\": 16, \"time_of_day\": \"Midday\", \"p25\": 1.0, \"p50\": 1.17, \"p75\": 1.17, \"p50_trip\": 1, \"fastest_trip\": 0, \"car_duration_hours\": 0.61, \"competitive_route\": 1, \"bus_multiplier\": 1.92, \"bus_difference\": 33.6, \"num_trips\": 20, \"num_competitive\": 18, \"pct_trips_competitive\": 0.9, \"bus_difference_spread\": 25.2, \"route_group\": \"medium\", \"max_trip_hrs\": 1.42, \"max_trip_route_group\": 1.42, \"name\": \"City of Tracy\", \"caltrans_district\": \"10 - Stockton\", \"drmt_organization_name\": null, \"cutoff2\": 21.299999999999997, \"cutoff\": 2}, {\"calitp_itp_id\": 341, \"trip_key\": -3605698434873398812, \"trip_id\": \"t_1582773_b_31241_tn_0\", \"shape_id\": \"p_744902\", \"route_id\": \"13525\", \"service_hours\": 1.17, \"trip_first_departure_ts\": 46500, \"trip_last_arrival_ts\": 50700, \"departure_hour\": 12, \"time_of_day\": \"Midday\", \"p25\": 1.0, \"p50\": 1.17, \"p75\": 1.17, \"p50_trip\": 1, \"fastest_trip\": 0, \"car_duration_hours\": 0.61, \"competitive_route\": 1, \"bus_multiplier\": 1.92, \"bus_difference\": 33.6, \"num_trips\": 20, \"num_competitive\": 18, \"pct_trips_competitive\": 0.9, \"bus_difference_spread\": 25.2, \"route_group\": \"medium\", \"max_trip_hrs\": 1.42, \"max_trip_route_group\": 1.42, \"name\": \"City of Tracy\", \"caltrans_district\": \"10 - Stockton\", \"drmt_organization_name\": null, \"cutoff2\": 21.299999999999997, \"cutoff\": 2}, {\"calitp_itp_id\": 341, \"trip_key\": -5326287608567369178, \"trip_id\": \"t_1582770_b_31241_tn_0\", \"shape_id\": \"p_744902\", \"route_id\": \"13525\", \"service_hours\": 1.17, \"trip_first_departure_ts\": 33000, \"trip_last_arrival_ts\": 37200, \"departure_hour\": 9, \"time_of_day\": \"AM Peak\", \"p25\": 1.0, \"p50\": 1.17, \"p75\": 1.17, \"p50_trip\": 1, \"fastest_trip\": 0, \"car_duration_hours\": 0.61, \"competitive_route\": 1, \"bus_multiplier\": 1.92, \"bus_difference\": 33.6, \"num_trips\": 20, \"num_competitive\": 18, \"pct_trips_competitive\": 0.9, \"bus_difference_spread\": 25.2, \"route_group\": \"medium\", \"max_trip_hrs\": 1.42, \"max_trip_route_group\": 1.42, \"name\": \"City of Tracy\", \"caltrans_district\": \"10 - Stockton\", \"drmt_organization_name\": null, \"cutoff2\": 21.299999999999997, \"cutoff\": 2}, {\"calitp_itp_id\": 341, \"trip_key\": -633351998048307329, \"trip_id\": \"t_1582771_b_31241_tn_0\", \"shape_id\": \"p_744902\", \"route_id\": \"13525\", \"service_hours\": 1.17, \"trip_first_departure_ts\": 37500, \"trip_last_arrival_ts\": 41700, \"departure_hour\": 10, \"time_of_day\": \"Midday\", \"p25\": 1.0, \"p50\": 1.17, \"p75\": 1.17, \"p50_trip\": 1, \"fastest_trip\": 0, \"car_duration_hours\": 0.61, \"competitive_route\": 1, \"bus_multiplier\": 1.92, \"bus_difference\": 33.6, \"num_trips\": 20, \"num_competitive\": 18, \"pct_trips_competitive\": 0.9, \"bus_difference_spread\": 25.2, \"route_group\": \"medium\", \"max_trip_hrs\": 1.42, \"max_trip_route_group\": 1.42, \"name\": \"City of Tracy\", \"caltrans_district\": \"10 - Stockton\", \"drmt_organization_name\": null, \"cutoff2\": 21.299999999999997, \"cutoff\": 2}, {\"calitp_itp_id\": 341, \"trip_key\": 5232440720755930226, \"trip_id\": \"t_1582764_b_31241_tn_0\", \"shape_id\": \"p_744902\", \"route_id\": \"13525\", \"service_hours\": 1.17, \"trip_first_departure_ts\": 39300, \"trip_last_arrival_ts\": 43500, \"departure_hour\": 10, \"time_of_day\": \"Midday\", \"p25\": 1.0, \"p50\": 1.17, \"p75\": 1.17, \"p50_trip\": 1, \"fastest_trip\": 0, \"car_duration_hours\": 0.61, \"competitive_route\": 1, \"bus_multiplier\": 1.92, \"bus_difference\": 33.6, \"num_trips\": 20, \"num_competitive\": 18, \"pct_trips_competitive\": 0.9, \"bus_difference_spread\": 25.2, \"route_group\": \"medium\", \"max_trip_hrs\": 1.42, \"max_trip_route_group\": 1.42, \"name\": \"City of Tracy\", \"caltrans_district\": \"10 - Stockton\", \"drmt_organization_name\": null, \"cutoff2\": 21.299999999999997, \"cutoff\": 2}, {\"calitp_itp_id\": 341, \"trip_key\": 5130011539184660331, \"trip_id\": \"t_1582767_b_31241_tn_0\", \"shape_id\": \"p_744902\", \"route_id\": \"13525\", \"service_hours\": 1.17, \"trip_first_departure_ts\": 57900, \"trip_last_arrival_ts\": 62100, \"departure_hour\": 16, \"time_of_day\": \"Midday\", \"p25\": 1.0, \"p50\": 1.17, \"p75\": 1.17, \"p50_trip\": 1, \"fastest_trip\": 0, \"car_duration_hours\": 0.61, \"competitive_route\": 1, \"bus_multiplier\": 1.92, \"bus_difference\": 33.6, \"num_trips\": 20, \"num_competitive\": 18, \"pct_trips_competitive\": 0.9, \"bus_difference_spread\": 25.2, \"route_group\": \"medium\", \"max_trip_hrs\": 1.42, \"max_trip_route_group\": 1.42, \"name\": \"City of Tracy\", \"caltrans_district\": \"10 - Stockton\", \"drmt_organization_name\": null, \"cutoff2\": 21.299999999999997, \"cutoff\": 2}, {\"calitp_itp_id\": 341, \"trip_key\": 6782688894397669509, \"trip_id\": \"t_1582769_b_31241_tn_0\", \"shape_id\": \"p_744902\", \"route_id\": \"13525\", \"service_hours\": 1.25, \"trip_first_departure_ts\": 51000, \"trip_last_arrival_ts\": 55500, \"departure_hour\": 14, \"time_of_day\": \"Midday\", \"p25\": 1.0, \"p50\": 1.17, \"p75\": 1.17, \"p50_trip\": 0, \"fastest_trip\": 0, \"car_duration_hours\": 0.61, \"competitive_route\": 1, \"bus_multiplier\": 2.05, \"bus_difference\": 38.4, \"num_trips\": 20, \"num_competitive\": 18, \"pct_trips_competitive\": 0.9, \"bus_difference_spread\": 25.2, \"route_group\": \"medium\", \"max_trip_hrs\": 1.42, \"max_trip_route_group\": 1.42, \"name\": \"City of Tracy\", \"caltrans_district\": \"10 - Stockton\", \"drmt_organization_name\": null, \"cutoff2\": 21.299999999999997, \"cutoff\": 2}, {\"calitp_itp_id\": 341, \"trip_key\": 6817660816795284691, \"trip_id\": \"t_1582762_b_31241_tn_0\", \"shape_id\": \"p_744902\", \"route_id\": \"13525\", \"service_hours\": 1.42, \"trip_first_departure_ts\": 52500, \"trip_last_arrival_ts\": 57600, \"departure_hour\": 14, \"time_of_day\": \"Midday\", \"p25\": 1.0, \"p50\": 1.17, \"p75\": 1.17, \"p50_trip\": 0, \"fastest_trip\": 0, \"car_duration_hours\": 0.61, \"competitive_route\": 1, \"bus_multiplier\": 2.33, \"bus_difference\": 48.6, \"num_trips\": 20, \"num_competitive\": 18, \"pct_trips_competitive\": 0.9, \"bus_difference_spread\": 25.2, \"route_group\": \"medium\", \"max_trip_hrs\": 1.42, \"max_trip_route_group\": 1.42, \"name\": \"City of Tracy\", \"caltrans_district\": \"10 - Stockton\", \"drmt_organization_name\": null, \"cutoff2\": 21.299999999999997, \"cutoff\": 2}]}}, {\"mode\": \"vega-lite\"});\n",
       "</script>"
      ],
      "text/plain": [
       "alt.FacetChart(...)"
      ]
     },
     "metadata": {},
     "output_type": "display_data"
    },
    {
     "data": {
      "text/html": [
       "\n",
       "<div id=\"altair-viz-24df1bc8123c4375ba4480add0f92cc5\"></div>\n",
       "<script type=\"text/javascript\">\n",
       "  var VEGA_DEBUG = (typeof VEGA_DEBUG == \"undefined\") ? {} : VEGA_DEBUG;\n",
       "  (function(spec, embedOpt){\n",
       "    let outputDiv = document.currentScript.previousElementSibling;\n",
       "    if (outputDiv.id !== \"altair-viz-24df1bc8123c4375ba4480add0f92cc5\") {\n",
       "      outputDiv = document.getElementById(\"altair-viz-24df1bc8123c4375ba4480add0f92cc5\");\n",
       "    }\n",
       "    const paths = {\n",
       "      \"vega\": \"https://cdn.jsdelivr.net/npm//vega@5?noext\",\n",
       "      \"vega-lib\": \"https://cdn.jsdelivr.net/npm//vega-lib?noext\",\n",
       "      \"vega-lite\": \"https://cdn.jsdelivr.net/npm//vega-lite@4.17.0?noext\",\n",
       "      \"vega-embed\": \"https://cdn.jsdelivr.net/npm//vega-embed@6?noext\",\n",
       "    };\n",
       "\n",
       "    function maybeLoadScript(lib, version) {\n",
       "      var key = `${lib.replace(\"-\", \"\")}_version`;\n",
       "      return (VEGA_DEBUG[key] == version) ?\n",
       "        Promise.resolve(paths[lib]) :\n",
       "        new Promise(function(resolve, reject) {\n",
       "          var s = document.createElement('script');\n",
       "          document.getElementsByTagName(\"head\")[0].appendChild(s);\n",
       "          s.async = true;\n",
       "          s.onload = () => {\n",
       "            VEGA_DEBUG[key] = version;\n",
       "            return resolve(paths[lib]);\n",
       "          };\n",
       "          s.onerror = () => reject(`Error loading script: ${paths[lib]}`);\n",
       "          s.src = paths[lib];\n",
       "        });\n",
       "    }\n",
       "\n",
       "    function showError(err) {\n",
       "      outputDiv.innerHTML = `<div class=\"error\" style=\"color:red;\">${err}</div>`;\n",
       "      throw err;\n",
       "    }\n",
       "\n",
       "    function displayChart(vegaEmbed) {\n",
       "      vegaEmbed(outputDiv, spec, embedOpt)\n",
       "        .catch(err => showError(`Javascript Error: ${err.message}<br>This usually means there's a typo in your chart specification. See the javascript console for the full traceback.`));\n",
       "    }\n",
       "\n",
       "    if(typeof define === \"function\" && define.amd) {\n",
       "      requirejs.config({paths});\n",
       "      require([\"vega-embed\"], displayChart, err => showError(`Error loading script: ${err.message}`));\n",
       "    } else {\n",
       "      maybeLoadScript(\"vega\", \"5\")\n",
       "        .then(() => maybeLoadScript(\"vega-lite\", \"4.17.0\"))\n",
       "        .then(() => maybeLoadScript(\"vega-embed\", \"6\"))\n",
       "        .catch(showError)\n",
       "        .then(() => displayChart(vegaEmbed));\n",
       "    }\n",
       "  })({\"config\": {\"view\": {\"continuousWidth\": 400, \"continuousHeight\": 300, \"stroke\": null}, \"facet\": {\"spacing\": 0}}, \"data\": {\"name\": \"data-280b8b42045664c5b30423d073251660\"}, \"facet\": {\"column\": {\"field\": \"route_id\", \"sort\": [\"13525\", \"13524\"], \"title\": \"Route ID\", \"type\": \"nominal\"}}, \"spec\": {\"layer\": [{\"mark\": {\"type\": \"point\", \"opacity\": 0.65, \"size\": 12, \"strokeWidth\": 1.1}, \"encoding\": {\"color\": {\"field\": \"time_of_day\", \"scale\": {\"range\": [\"#136C97\", \"#E16B26\", \"#F6BF16\", \"#00896B\", \"#7790A3\", \"#5B559C\"]}, \"sort\": [\"AM Peak\", \"Midday\", \"PM Peak\", \"Owl Service\"], \"title\": \"Time of Day\", \"type\": \"nominal\"}, \"tooltip\": [{\"field\": \"route_id\", \"type\": \"nominal\"}, {\"field\": \"trip_id\", \"type\": \"nominal\"}, {\"field\": \"service_hours\", \"type\": \"quantitative\"}, {\"field\": \"car_duration_hours\", \"type\": \"quantitative\"}, {\"field\": \"bus_multiplier\", \"type\": \"quantitative\"}, {\"field\": \"bus_difference\", \"type\": \"quantitative\"}, {\"field\": \"num_trips\", \"type\": \"quantitative\"}, {\"field\": \"num_competitive\", \"type\": \"quantitative\"}, {\"field\": \"pct_trips_competitive\", \"type\": \"quantitative\"}, {\"field\": \"p25\", \"type\": \"quantitative\"}, {\"field\": \"p50\", \"type\": \"quantitative\"}, {\"field\": \"p75\", \"type\": \"quantitative\"}], \"x\": {\"axis\": {\"grid\": false, \"labels\": false, \"ticks\": true, \"values\": [0]}, \"field\": \"jitter\", \"scale\": {}, \"title\": null, \"type\": \"quantitative\"}, \"y\": {\"field\": \"bus_difference\", \"scale\": {\"domain\": [-5, 48.6]}, \"title\": \"Difference in Bus to Car Travel Time (min)\", \"type\": \"quantitative\"}}, \"selection\": {\"selector002\": {\"type\": \"interval\", \"bind\": \"scales\", \"encodings\": [\"x\", \"y\"]}}, \"transform\": [{\"calculate\": \"sqrt(-2*log(random()))*cos(2*PI*random())\", \"as\": \"jitter\"}], \"width\": 60}, {\"layer\": [{\"mark\": {\"type\": \"point\", \"opacity\": 0.6, \"size\": 20, \"strokeWidth\": 1.3}, \"encoding\": {\"color\": {\"value\": \"#323434\"}, \"y\": {\"field\": \"bus_difference\", \"type\": \"quantitative\"}}, \"transform\": [{\"filter\": \"(datum.p50_trip === 1)\"}]}, {\"mark\": {\"type\": \"rule\", \"strokeDash\": [2, 3]}, \"encoding\": {\"color\": {\"value\": \"#323434\"}, \"y\": {\"field\": \"cutoff\", \"type\": \"quantitative\"}}}, {\"mark\": {\"type\": \"rule\", \"strokeDash\": [2, 3]}, \"encoding\": {\"color\": {\"value\": \"#136C97\"}, \"y\": {\"field\": \"cutoff2\", \"type\": \"quantitative\"}}}, {\"mark\": {\"type\": \"text\", \"align\": \"center\", \"baseline\": \"middle\"}, \"encoding\": {\"color\": {\"value\": \"black\"}, \"text\": {\"field\": \"pct_trips_competitive\", \"format\": \".0%\", \"type\": \"quantitative\"}, \"tooltip\": [{\"field\": \"route_id\", \"type\": \"nominal\"}, {\"field\": \"trip_id\", \"type\": \"nominal\"}, {\"field\": \"service_hours\", \"type\": \"quantitative\"}, {\"field\": \"car_duration_hours\", \"type\": \"quantitative\"}, {\"field\": \"bus_multiplier\", \"type\": \"quantitative\"}, {\"field\": \"bus_difference\", \"type\": \"quantitative\"}, {\"field\": \"num_trips\", \"type\": \"quantitative\"}, {\"field\": \"num_competitive\", \"type\": \"quantitative\"}, {\"field\": \"pct_trips_competitive\", \"type\": \"quantitative\"}, {\"field\": \"p25\", \"type\": \"quantitative\"}, {\"field\": \"p50\", \"type\": \"quantitative\"}, {\"field\": \"p75\", \"type\": \"quantitative\"}], \"x\": {\"value\": 30}, \"y\": {\"value\": 15}}, \"transform\": [{\"calculate\": \"sqrt(-2*log(random()))*cos(2*PI*random())\", \"as\": \"jitter\"}, {\"filter\": \"(datum.fastest_trip === 1)\"}]}]}]}, \"resolve\": {\"scale\": {\"y\": \"shared\"}}, \"title\": \"Difference in Bus to Car Travel Time (min)\", \"$schema\": \"https://vega.github.io/schema/vega-lite/v4.17.0.json\", \"datasets\": {\"data-280b8b42045664c5b30423d073251660\": [{\"calitp_itp_id\": 341, \"trip_key\": 3273416138300551864, \"trip_id\": \"t_1582751_b_31241_tn_0\", \"shape_id\": \"p_744870\", \"route_id\": \"13524\", \"service_hours\": 1.17, \"trip_first_departure_ts\": 33300, \"trip_last_arrival_ts\": 37500, \"departure_hour\": 9, \"time_of_day\": \"AM Peak\", \"p25\": 1.17, \"p50\": 1.25, \"p75\": 1.25, \"p50_trip\": 0, \"fastest_trip\": 0, \"car_duration_hours\": 0.68, \"competitive_route\": 1, \"bus_multiplier\": 1.72, \"bus_difference\": 29.4, \"num_trips\": 19, \"num_competitive\": 16, \"pct_trips_competitive\": 0.842, \"bus_difference_spread\": 15.0, \"route_group\": \"medium\", \"max_trip_hrs\": 1.42, \"max_trip_route_group\": 1.42, \"name\": \"City of Tracy\", \"caltrans_district\": \"10 - Stockton\", \"drmt_organization_name\": null, \"cutoff2\": 21.299999999999997, \"cutoff\": 0}, {\"calitp_itp_id\": 341, \"trip_key\": -8424452224539762809, \"trip_id\": \"t_1582743_b_31241_tn_0\", \"shape_id\": \"p_744870\", \"route_id\": \"13524\", \"service_hours\": 1.17, \"trip_first_departure_ts\": 24300, \"trip_last_arrival_ts\": 28500, \"departure_hour\": 6, \"time_of_day\": \"Owl Service\", \"p25\": 1.17, \"p50\": 1.25, \"p75\": 1.25, \"p50_trip\": 0, \"fastest_trip\": 0, \"car_duration_hours\": 0.68, \"competitive_route\": 1, \"bus_multiplier\": 1.72, \"bus_difference\": 29.4, \"num_trips\": 19, \"num_competitive\": 16, \"pct_trips_competitive\": 0.842, \"bus_difference_spread\": 15.0, \"route_group\": \"medium\", \"max_trip_hrs\": 1.42, \"max_trip_route_group\": 1.42, \"name\": \"City of Tracy\", \"caltrans_district\": \"10 - Stockton\", \"drmt_organization_name\": null, \"cutoff2\": 21.299999999999997, \"cutoff\": 0}, {\"calitp_itp_id\": 341, \"trip_key\": 1067918521926375207, \"trip_id\": \"t_1582744_b_31241_tn_0\", \"shape_id\": \"p_744870\", \"route_id\": \"13524\", \"service_hours\": 1.17, \"trip_first_departure_ts\": 28800, \"trip_last_arrival_ts\": 33000, \"departure_hour\": 8, \"time_of_day\": \"AM Peak\", \"p25\": 1.17, \"p50\": 1.25, \"p75\": 1.25, \"p50_trip\": 0, \"fastest_trip\": 0, \"car_duration_hours\": 0.68, \"competitive_route\": 1, \"bus_multiplier\": 1.72, \"bus_difference\": 29.4, \"num_trips\": 19, \"num_competitive\": 16, \"pct_trips_competitive\": 0.842, \"bus_difference_spread\": 15.0, \"route_group\": \"medium\", \"max_trip_hrs\": 1.42, \"max_trip_route_group\": 1.42, \"name\": \"City of Tracy\", \"caltrans_district\": \"10 - Stockton\", \"drmt_organization_name\": null, \"cutoff2\": 21.299999999999997, \"cutoff\": 0}, {\"calitp_itp_id\": 341, \"trip_key\": 4433041068593353937, \"trip_id\": \"t_1582748_b_31241_tn_0\", \"shape_id\": \"p_744870\", \"route_id\": \"13524\", \"service_hours\": 1.17, \"trip_first_departure_ts\": 39600, \"trip_last_arrival_ts\": 43800, \"departure_hour\": 11, \"time_of_day\": \"Midday\", \"p25\": 1.17, \"p50\": 1.25, \"p75\": 1.25, \"p50_trip\": 0, \"fastest_trip\": 0, \"car_duration_hours\": 0.68, \"competitive_route\": 1, \"bus_multiplier\": 1.72, \"bus_difference\": 29.4, \"num_trips\": 19, \"num_competitive\": 16, \"pct_trips_competitive\": 0.842, \"bus_difference_spread\": 15.0, \"route_group\": \"medium\", \"max_trip_hrs\": 1.42, \"max_trip_route_group\": 1.42, \"name\": \"City of Tracy\", \"caltrans_district\": \"10 - Stockton\", \"drmt_organization_name\": null, \"cutoff2\": 21.299999999999997, \"cutoff\": 0}, {\"calitp_itp_id\": 341, \"trip_key\": -2214776912358382331, \"trip_id\": \"t_1582752_b_31241_tn_0\", \"shape_id\": \"p_744870\", \"route_id\": \"13524\", \"service_hours\": 1.17, \"trip_first_departure_ts\": 37800, \"trip_last_arrival_ts\": 42000, \"departure_hour\": 10, \"time_of_day\": \"Midday\", \"p25\": 1.17, \"p50\": 1.25, \"p75\": 1.25, \"p50_trip\": 0, \"fastest_trip\": 0, \"car_duration_hours\": 0.68, \"competitive_route\": 1, \"bus_multiplier\": 1.72, \"bus_difference\": 29.4, \"num_trips\": 19, \"num_competitive\": 16, \"pct_trips_competitive\": 0.842, \"bus_difference_spread\": 15.0, \"route_group\": \"medium\", \"max_trip_hrs\": 1.42, \"max_trip_route_group\": 1.42, \"name\": \"City of Tracy\", \"caltrans_district\": \"10 - Stockton\", \"drmt_organization_name\": null, \"cutoff2\": 21.299999999999997, \"cutoff\": 0}, {\"calitp_itp_id\": 341, \"trip_key\": -7164748691853724673, \"trip_id\": \"t_1582749_b_31241_tn_0\", \"shape_id\": \"p_744870\", \"route_id\": \"13524\", \"service_hours\": 1.17, \"trip_first_departure_ts\": 54900, \"trip_last_arrival_ts\": 59100, \"departure_hour\": 15, \"time_of_day\": \"Midday\", \"p25\": 1.17, \"p50\": 1.25, \"p75\": 1.25, \"p50_trip\": 0, \"fastest_trip\": 1, \"car_duration_hours\": 0.68, \"competitive_route\": 1, \"bus_multiplier\": 1.72, \"bus_difference\": 29.4, \"num_trips\": 19, \"num_competitive\": 16, \"pct_trips_competitive\": 0.842, \"bus_difference_spread\": 15.0, \"route_group\": \"medium\", \"max_trip_hrs\": 1.42, \"max_trip_route_group\": 1.42, \"name\": \"City of Tracy\", \"caltrans_district\": \"10 - Stockton\", \"drmt_organization_name\": null, \"cutoff2\": 21.299999999999997, \"cutoff\": 0}, {\"calitp_itp_id\": 341, \"trip_key\": 830683484434739798, \"trip_id\": \"t_1582745_b_31241_tn_0\", \"shape_id\": \"p_744870\", \"route_id\": \"13524\", \"service_hours\": 1.17, \"trip_first_departure_ts\": 26100, \"trip_last_arrival_ts\": 30300, \"departure_hour\": 7, \"time_of_day\": \"AM Peak\", \"p25\": 1.17, \"p50\": 1.25, \"p75\": 1.25, \"p50_trip\": 0, \"fastest_trip\": 0, \"car_duration_hours\": 0.68, \"competitive_route\": 1, \"bus_multiplier\": 1.72, \"bus_difference\": 29.4, \"num_trips\": 19, \"num_competitive\": 16, \"pct_trips_competitive\": 0.842, \"bus_difference_spread\": 15.0, \"route_group\": \"medium\", \"max_trip_hrs\": 1.42, \"max_trip_route_group\": 1.42, \"name\": \"City of Tracy\", \"caltrans_district\": \"10 - Stockton\", \"drmt_organization_name\": null, \"cutoff2\": 21.299999999999997, \"cutoff\": 0}, {\"calitp_itp_id\": 341, \"trip_key\": 2928371681242192163, \"trip_id\": \"t_1582746_b_31241_tn_0\", \"shape_id\": \"p_744870\", \"route_id\": \"13524\", \"service_hours\": 1.17, \"trip_first_departure_ts\": 30600, \"trip_last_arrival_ts\": 34800, \"departure_hour\": 8, \"time_of_day\": \"AM Peak\", \"p25\": 1.17, \"p50\": 1.25, \"p75\": 1.25, \"p50_trip\": 0, \"fastest_trip\": 0, \"car_duration_hours\": 0.68, \"competitive_route\": 1, \"bus_multiplier\": 1.72, \"bus_difference\": 29.4, \"num_trips\": 19, \"num_competitive\": 16, \"pct_trips_competitive\": 0.842, \"bus_difference_spread\": 15.0, \"route_group\": \"medium\", \"max_trip_hrs\": 1.42, \"max_trip_route_group\": 1.42, \"name\": \"City of Tracy\", \"caltrans_district\": \"10 - Stockton\", \"drmt_organization_name\": null, \"cutoff2\": 21.299999999999997, \"cutoff\": 0}, {\"calitp_itp_id\": 341, \"trip_key\": -1334819812229007553, \"trip_id\": \"t_1582747_b_31241_tn_0\", \"shape_id\": \"p_744870\", \"route_id\": \"13524\", \"service_hours\": 1.17, \"trip_first_departure_ts\": 35100, \"trip_last_arrival_ts\": 39300, \"departure_hour\": 9, \"time_of_day\": \"AM Peak\", \"p25\": 1.17, \"p50\": 1.25, \"p75\": 1.25, \"p50_trip\": 0, \"fastest_trip\": 0, \"car_duration_hours\": 0.68, \"competitive_route\": 1, \"bus_multiplier\": 1.72, \"bus_difference\": 29.4, \"num_trips\": 19, \"num_competitive\": 16, \"pct_trips_competitive\": 0.842, \"bus_difference_spread\": 15.0, \"route_group\": \"medium\", \"max_trip_hrs\": 1.42, \"max_trip_route_group\": 1.42, \"name\": \"City of Tracy\", \"caltrans_district\": \"10 - Stockton\", \"drmt_organization_name\": null, \"cutoff2\": 21.299999999999997, \"cutoff\": 0}, {\"calitp_itp_id\": 341, \"trip_key\": -8260742221272562247, \"trip_id\": \"t_1582742_b_31241_tn_0\", \"shape_id\": \"p_744870\", \"route_id\": \"13524\", \"service_hours\": 1.25, \"trip_first_departure_ts\": 59400, \"trip_last_arrival_ts\": 63900, \"departure_hour\": 16, \"time_of_day\": \"Midday\", \"p25\": 1.17, \"p50\": 1.25, \"p75\": 1.25, \"p50_trip\": 1, \"fastest_trip\": 0, \"car_duration_hours\": 0.68, \"competitive_route\": 1, \"bus_multiplier\": 1.84, \"bus_difference\": 34.2, \"num_trips\": 19, \"num_competitive\": 16, \"pct_trips_competitive\": 0.842, \"bus_difference_spread\": 15.0, \"route_group\": \"medium\", \"max_trip_hrs\": 1.42, \"max_trip_route_group\": 1.42, \"name\": \"City of Tracy\", \"caltrans_district\": \"10 - Stockton\", \"drmt_organization_name\": null, \"cutoff2\": 21.299999999999997, \"cutoff\": 0}, {\"calitp_itp_id\": 341, \"trip_key\": 584514040564428682, \"trip_id\": \"t_1582756_b_31241_tn_0\", \"shape_id\": \"p_744870\", \"route_id\": \"13524\", \"service_hours\": 1.25, \"trip_first_departure_ts\": 57300, \"trip_last_arrival_ts\": 61800, \"departure_hour\": 15, \"time_of_day\": \"Midday\", \"p25\": 1.17, \"p50\": 1.25, \"p75\": 1.25, \"p50_trip\": 1, \"fastest_trip\": 0, \"car_duration_hours\": 0.68, \"competitive_route\": 1, \"bus_multiplier\": 1.84, \"bus_difference\": 34.2, \"num_trips\": 19, \"num_competitive\": 16, \"pct_trips_competitive\": 0.842, \"bus_difference_spread\": 15.0, \"route_group\": \"medium\", \"max_trip_hrs\": 1.42, \"max_trip_route_group\": 1.42, \"name\": \"City of Tracy\", \"caltrans_district\": \"10 - Stockton\", \"drmt_organization_name\": null, \"cutoff2\": 21.299999999999997, \"cutoff\": 0}, {\"calitp_itp_id\": 341, \"trip_key\": -3376692746768093366, \"trip_id\": \"t_1582754_b_31241_tn_0\", \"shape_id\": \"p_744870\", \"route_id\": \"13524\", \"service_hours\": 1.25, \"trip_first_departure_ts\": 47700, \"trip_last_arrival_ts\": 52200, \"departure_hour\": 13, \"time_of_day\": \"Midday\", \"p25\": 1.17, \"p50\": 1.25, \"p75\": 1.25, \"p50_trip\": 1, \"fastest_trip\": 0, \"car_duration_hours\": 0.68, \"competitive_route\": 1, \"bus_multiplier\": 1.84, \"bus_difference\": 34.2, \"num_trips\": 19, \"num_competitive\": 16, \"pct_trips_competitive\": 0.842, \"bus_difference_spread\": 15.0, \"route_group\": \"medium\", \"max_trip_hrs\": 1.42, \"max_trip_route_group\": 1.42, \"name\": \"City of Tracy\", \"caltrans_district\": \"10 - Stockton\", \"drmt_organization_name\": null, \"cutoff2\": 21.299999999999997, \"cutoff\": 0}, {\"calitp_itp_id\": 341, \"trip_key\": -7305182815255252792, \"trip_id\": \"t_1582729_b_31241_tn_0\", \"shape_id\": \"p_744870\", \"route_id\": \"13524\", \"service_hours\": 1.25, \"trip_first_departure_ts\": 66900, \"trip_last_arrival_ts\": 71400, \"departure_hour\": 18, \"time_of_day\": \"PM Peak\", \"p25\": 1.17, \"p50\": 1.25, \"p75\": 1.25, \"p50_trip\": 1, \"fastest_trip\": 0, \"car_duration_hours\": 0.68, \"competitive_route\": 1, \"bus_multiplier\": 1.84, \"bus_difference\": 34.2, \"num_trips\": 19, \"num_competitive\": 16, \"pct_trips_competitive\": 0.842, \"bus_difference_spread\": 15.0, \"route_group\": \"medium\", \"max_trip_hrs\": 1.42, \"max_trip_route_group\": 1.42, \"name\": \"City of Tracy\", \"caltrans_district\": \"10 - Stockton\", \"drmt_organization_name\": null, \"cutoff2\": 21.299999999999997, \"cutoff\": 0}, {\"calitp_itp_id\": 341, \"trip_key\": -8746524917141551110, \"trip_id\": \"t_1582755_b_31241_tn_0\", \"shape_id\": \"p_744870\", \"route_id\": \"13524\", \"service_hours\": 1.25, \"trip_first_departure_ts\": 52500, \"trip_last_arrival_ts\": 57000, \"departure_hour\": 14, \"time_of_day\": \"Midday\", \"p25\": 1.17, \"p50\": 1.25, \"p75\": 1.25, \"p50_trip\": 1, \"fastest_trip\": 0, \"car_duration_hours\": 0.68, \"competitive_route\": 1, \"bus_multiplier\": 1.84, \"bus_difference\": 34.2, \"num_trips\": 19, \"num_competitive\": 16, \"pct_trips_competitive\": 0.842, \"bus_difference_spread\": 15.0, \"route_group\": \"medium\", \"max_trip_hrs\": 1.42, \"max_trip_route_group\": 1.42, \"name\": \"City of Tracy\", \"caltrans_district\": \"10 - Stockton\", \"drmt_organization_name\": null, \"cutoff2\": 21.299999999999997, \"cutoff\": 0}, {\"calitp_itp_id\": 341, \"trip_key\": 6576026122937157907, \"trip_id\": \"t_1582757_b_31241_tn_0\", \"shape_id\": \"p_744870\", \"route_id\": \"13524\", \"service_hours\": 1.25, \"trip_first_departure_ts\": 62100, \"trip_last_arrival_ts\": 66600, \"departure_hour\": 17, \"time_of_day\": \"PM Peak\", \"p25\": 1.17, \"p50\": 1.25, \"p75\": 1.25, \"p50_trip\": 1, \"fastest_trip\": 0, \"car_duration_hours\": 0.68, \"competitive_route\": 1, \"bus_multiplier\": 1.84, \"bus_difference\": 34.2, \"num_trips\": 19, \"num_competitive\": 16, \"pct_trips_competitive\": 0.842, \"bus_difference_spread\": 15.0, \"route_group\": \"medium\", \"max_trip_hrs\": 1.42, \"max_trip_route_group\": 1.42, \"name\": \"City of Tracy\", \"caltrans_district\": \"10 - Stockton\", \"drmt_organization_name\": null, \"cutoff2\": 21.299999999999997, \"cutoff\": 0}, {\"calitp_itp_id\": 341, \"trip_key\": 4108108809527396172, \"trip_id\": \"t_1582750_b_31241_tn_0\", \"shape_id\": \"p_744870\", \"route_id\": \"13524\", \"service_hours\": 1.25, \"trip_first_departure_ts\": 64200, \"trip_last_arrival_ts\": 68700, \"departure_hour\": 17, \"time_of_day\": \"PM Peak\", \"p25\": 1.17, \"p50\": 1.25, \"p75\": 1.25, \"p50_trip\": 1, \"fastest_trip\": 0, \"car_duration_hours\": 0.68, \"competitive_route\": 1, \"bus_multiplier\": 1.84, \"bus_difference\": 34.2, \"num_trips\": 19, \"num_competitive\": 16, \"pct_trips_competitive\": 0.842, \"bus_difference_spread\": 15.0, \"route_group\": \"medium\", \"max_trip_hrs\": 1.42, \"max_trip_route_group\": 1.42, \"name\": \"City of Tracy\", \"caltrans_district\": \"10 - Stockton\", \"drmt_organization_name\": null, \"cutoff2\": 21.299999999999997, \"cutoff\": 0}, {\"calitp_itp_id\": 341, \"trip_key\": -3668030610167856819, \"trip_id\": \"t_1582753_b_31241_tn_0\", \"shape_id\": \"p_744870\", \"route_id\": \"13524\", \"service_hours\": 1.42, \"trip_first_departure_ts\": 42300, \"trip_last_arrival_ts\": 47400, \"departure_hour\": 11, \"time_of_day\": \"Midday\", \"p25\": 1.17, \"p50\": 1.25, \"p75\": 1.25, \"p50_trip\": 0, \"fastest_trip\": 0, \"car_duration_hours\": 0.68, \"competitive_route\": 1, \"bus_multiplier\": 2.09, \"bus_difference\": 44.4, \"num_trips\": 19, \"num_competitive\": 16, \"pct_trips_competitive\": 0.842, \"bus_difference_spread\": 15.0, \"route_group\": \"medium\", \"max_trip_hrs\": 1.42, \"max_trip_route_group\": 1.42, \"name\": \"City of Tracy\", \"caltrans_district\": \"10 - Stockton\", \"drmt_organization_name\": null, \"cutoff2\": 21.299999999999997, \"cutoff\": 0}, {\"calitp_itp_id\": 341, \"trip_key\": 2589776370580046484, \"trip_id\": \"t_1582740_b_31241_tn_0\", \"shape_id\": \"p_744870\", \"route_id\": \"13524\", \"service_hours\": 1.42, \"trip_first_departure_ts\": 44100, \"trip_last_arrival_ts\": 49200, \"departure_hour\": 12, \"time_of_day\": \"Midday\", \"p25\": 1.17, \"p50\": 1.25, \"p75\": 1.25, \"p50_trip\": 0, \"fastest_trip\": 0, \"car_duration_hours\": 0.68, \"competitive_route\": 1, \"bus_multiplier\": 2.09, \"bus_difference\": 44.4, \"num_trips\": 19, \"num_competitive\": 16, \"pct_trips_competitive\": 0.842, \"bus_difference_spread\": 15.0, \"route_group\": \"medium\", \"max_trip_hrs\": 1.42, \"max_trip_route_group\": 1.42, \"name\": \"City of Tracy\", \"caltrans_district\": \"10 - Stockton\", \"drmt_organization_name\": null, \"cutoff2\": 21.299999999999997, \"cutoff\": 0}, {\"calitp_itp_id\": 341, \"trip_key\": 7537216030100030304, \"trip_id\": \"t_1582741_b_31241_tn_0\", \"shape_id\": \"p_744870\", \"route_id\": \"13524\", \"service_hours\": 1.42, \"trip_first_departure_ts\": 49500, \"trip_last_arrival_ts\": 54600, \"departure_hour\": 13, \"time_of_day\": \"Midday\", \"p25\": 1.17, \"p50\": 1.25, \"p75\": 1.25, \"p50_trip\": 0, \"fastest_trip\": 0, \"car_duration_hours\": 0.68, \"competitive_route\": 1, \"bus_multiplier\": 2.09, \"bus_difference\": 44.4, \"num_trips\": 19, \"num_competitive\": 16, \"pct_trips_competitive\": 0.842, \"bus_difference_spread\": 15.0, \"route_group\": \"medium\", \"max_trip_hrs\": 1.42, \"max_trip_route_group\": 1.42, \"name\": \"City of Tracy\", \"caltrans_district\": \"10 - Stockton\", \"drmt_organization_name\": null, \"cutoff2\": 21.299999999999997, \"cutoff\": 0}, {\"calitp_itp_id\": 341, \"trip_key\": -5391431990439876503, \"trip_id\": \"t_1582758_b_31241_tn_0\", \"shape_id\": \"p_744902\", \"route_id\": \"13525\", \"service_hours\": 1.0, \"trip_first_departure_ts\": 25200, \"trip_last_arrival_ts\": 28800, \"departure_hour\": 7, \"time_of_day\": \"AM Peak\", \"p25\": 1.0, \"p50\": 1.17, \"p75\": 1.17, \"p50_trip\": 0, \"fastest_trip\": 0, \"car_duration_hours\": 0.61, \"competitive_route\": 1, \"bus_multiplier\": 1.64, \"bus_difference\": 23.4, \"num_trips\": 20, \"num_competitive\": 18, \"pct_trips_competitive\": 0.9, \"bus_difference_spread\": 25.2, \"route_group\": \"medium\", \"max_trip_hrs\": 1.42, \"max_trip_route_group\": 1.42, \"name\": \"City of Tracy\", \"caltrans_district\": \"10 - Stockton\", \"drmt_organization_name\": null, \"cutoff2\": 21.299999999999997, \"cutoff\": 0}, {\"calitp_itp_id\": 341, \"trip_key\": -8147866072512567284, \"trip_id\": \"t_1582730_b_31241_tn_0\", \"shape_id\": \"p_744902\", \"route_id\": \"13525\", \"service_hours\": 1.0, \"trip_first_departure_ts\": 66900, \"trip_last_arrival_ts\": 70500, \"departure_hour\": 18, \"time_of_day\": \"PM Peak\", \"p25\": 1.0, \"p50\": 1.17, \"p75\": 1.17, \"p50_trip\": 0, \"fastest_trip\": 1, \"car_duration_hours\": 0.61, \"competitive_route\": 1, \"bus_multiplier\": 1.64, \"bus_difference\": 23.4, \"num_trips\": 20, \"num_competitive\": 18, \"pct_trips_competitive\": 0.9, \"bus_difference_spread\": 25.2, \"route_group\": \"medium\", \"max_trip_hrs\": 1.42, \"max_trip_route_group\": 1.42, \"name\": \"City of Tracy\", \"caltrans_district\": \"10 - Stockton\", \"drmt_organization_name\": null, \"cutoff2\": 21.299999999999997, \"cutoff\": 0}, {\"calitp_itp_id\": 341, \"trip_key\": 260284697458458549, \"trip_id\": \"t_1582759_b_31241_tn_0\", \"shape_id\": \"p_744902\", \"route_id\": \"13525\", \"service_hours\": 1.0, \"trip_first_departure_ts\": 29100, \"trip_last_arrival_ts\": 32700, \"departure_hour\": 8, \"time_of_day\": \"AM Peak\", \"p25\": 1.0, \"p50\": 1.17, \"p75\": 1.17, \"p50_trip\": 0, \"fastest_trip\": 0, \"car_duration_hours\": 0.61, \"competitive_route\": 1, \"bus_multiplier\": 1.64, \"bus_difference\": 23.4, \"num_trips\": 20, \"num_competitive\": 18, \"pct_trips_competitive\": 0.9, \"bus_difference_spread\": 25.2, \"route_group\": \"medium\", \"max_trip_hrs\": 1.42, \"max_trip_route_group\": 1.42, \"name\": \"City of Tracy\", \"caltrans_district\": \"10 - Stockton\", \"drmt_organization_name\": null, \"cutoff2\": 21.299999999999997, \"cutoff\": 0}, {\"calitp_itp_id\": 341, \"trip_key\": 5372105835276176057, \"trip_id\": \"t_1582760_b_31241_tn_0\", \"shape_id\": \"p_744902\", \"route_id\": \"13525\", \"service_hours\": 1.0, \"trip_first_departure_ts\": 27000, \"trip_last_arrival_ts\": 30600, \"departure_hour\": 7, \"time_of_day\": \"AM Peak\", \"p25\": 1.0, \"p50\": 1.17, \"p75\": 1.17, \"p50_trip\": 0, \"fastest_trip\": 0, \"car_duration_hours\": 0.61, \"competitive_route\": 1, \"bus_multiplier\": 1.64, \"bus_difference\": 23.4, \"num_trips\": 20, \"num_competitive\": 18, \"pct_trips_competitive\": 0.9, \"bus_difference_spread\": 25.2, \"route_group\": \"medium\", \"max_trip_hrs\": 1.42, \"max_trip_route_group\": 1.42, \"name\": \"City of Tracy\", \"caltrans_district\": \"10 - Stockton\", \"drmt_organization_name\": null, \"cutoff2\": 21.299999999999997, \"cutoff\": 0}, {\"calitp_itp_id\": 341, \"trip_key\": 4311782331808619072, \"trip_id\": \"t_1582774_b_31241_tn_0\", \"shape_id\": \"p_744902\", \"route_id\": \"13525\", \"service_hours\": 1.0, \"trip_first_departure_ts\": 64800, \"trip_last_arrival_ts\": 68400, \"departure_hour\": 18, \"time_of_day\": \"PM Peak\", \"p25\": 1.0, \"p50\": 1.17, \"p75\": 1.17, \"p50_trip\": 0, \"fastest_trip\": 0, \"car_duration_hours\": 0.61, \"competitive_route\": 1, \"bus_multiplier\": 1.64, \"bus_difference\": 23.4, \"num_trips\": 20, \"num_competitive\": 18, \"pct_trips_competitive\": 0.9, \"bus_difference_spread\": 25.2, \"route_group\": \"medium\", \"max_trip_hrs\": 1.42, \"max_trip_route_group\": 1.42, \"name\": \"City of Tracy\", \"caltrans_district\": \"10 - Stockton\", \"drmt_organization_name\": null, \"cutoff2\": 21.299999999999997, \"cutoff\": 0}, {\"calitp_itp_id\": 341, \"trip_key\": -3317800707075710484, \"trip_id\": \"t_1582761_b_31241_tn_0\", \"shape_id\": \"p_744902\", \"route_id\": \"13525\", \"service_hours\": 1.0, \"trip_first_departure_ts\": 30900, \"trip_last_arrival_ts\": 34500, \"departure_hour\": 8, \"time_of_day\": \"AM Peak\", \"p25\": 1.0, \"p50\": 1.17, \"p75\": 1.17, \"p50_trip\": 0, \"fastest_trip\": 0, \"car_duration_hours\": 0.61, \"competitive_route\": 1, \"bus_multiplier\": 1.64, \"bus_difference\": 23.4, \"num_trips\": 20, \"num_competitive\": 18, \"pct_trips_competitive\": 0.9, \"bus_difference_spread\": 25.2, \"route_group\": \"medium\", \"max_trip_hrs\": 1.42, \"max_trip_route_group\": 1.42, \"name\": \"City of Tracy\", \"caltrans_district\": \"10 - Stockton\", \"drmt_organization_name\": null, \"cutoff2\": 21.299999999999997, \"cutoff\": 0}, {\"calitp_itp_id\": 341, \"trip_key\": 5525649063399916120, \"trip_id\": \"t_1582768_b_31241_tn_0\", \"shape_id\": \"p_744902\", \"route_id\": \"13525\", \"service_hours\": 1.08, \"trip_first_departure_ts\": 62400, \"trip_last_arrival_ts\": 66300, \"departure_hour\": 17, \"time_of_day\": \"PM Peak\", \"p25\": 1.0, \"p50\": 1.17, \"p75\": 1.17, \"p50_trip\": 0, \"fastest_trip\": 0, \"car_duration_hours\": 0.61, \"competitive_route\": 1, \"bus_multiplier\": 1.77, \"bus_difference\": 28.2, \"num_trips\": 20, \"num_competitive\": 18, \"pct_trips_competitive\": 0.9, \"bus_difference_spread\": 25.2, \"route_group\": \"medium\", \"max_trip_hrs\": 1.42, \"max_trip_route_group\": 1.42, \"name\": \"City of Tracy\", \"caltrans_district\": \"10 - Stockton\", \"drmt_organization_name\": null, \"cutoff2\": 21.299999999999997, \"cutoff\": 0}, {\"calitp_itp_id\": 341, \"trip_key\": -7621160083869894305, \"trip_id\": \"t_1582765_b_31241_tn_0\", \"shape_id\": \"p_744902\", \"route_id\": \"13525\", \"service_hours\": 1.08, \"trip_first_departure_ts\": 43800, \"trip_last_arrival_ts\": 47700, \"departure_hour\": 12, \"time_of_day\": \"Midday\", \"p25\": 1.0, \"p50\": 1.17, \"p75\": 1.17, \"p50_trip\": 0, \"fastest_trip\": 0, \"car_duration_hours\": 0.61, \"competitive_route\": 1, \"bus_multiplier\": 1.77, \"bus_difference\": 28.2, \"num_trips\": 20, \"num_competitive\": 18, \"pct_trips_competitive\": 0.9, \"bus_difference_spread\": 25.2, \"route_group\": \"medium\", \"max_trip_hrs\": 1.42, \"max_trip_route_group\": 1.42, \"name\": \"City of Tracy\", \"caltrans_district\": \"10 - Stockton\", \"drmt_organization_name\": null, \"cutoff2\": 21.299999999999997, \"cutoff\": 0}, {\"calitp_itp_id\": 341, \"trip_key\": 2591109908603089160, \"trip_id\": \"t_1582763_b_31241_tn_0\", \"shape_id\": \"p_744902\", \"route_id\": \"13525\", \"service_hours\": 1.17, \"trip_first_departure_ts\": 34800, \"trip_last_arrival_ts\": 39000, \"departure_hour\": 9, \"time_of_day\": \"AM Peak\", \"p25\": 1.0, \"p50\": 1.17, \"p75\": 1.17, \"p50_trip\": 1, \"fastest_trip\": 0, \"car_duration_hours\": 0.61, \"competitive_route\": 1, \"bus_multiplier\": 1.92, \"bus_difference\": 33.6, \"num_trips\": 20, \"num_competitive\": 18, \"pct_trips_competitive\": 0.9, \"bus_difference_spread\": 25.2, \"route_group\": \"medium\", \"max_trip_hrs\": 1.42, \"max_trip_route_group\": 1.42, \"name\": \"City of Tracy\", \"caltrans_district\": \"10 - Stockton\", \"drmt_organization_name\": null, \"cutoff2\": 21.299999999999997, \"cutoff\": 0}, {\"calitp_itp_id\": 341, \"trip_key\": -8023373100664779453, \"trip_id\": \"t_1582766_b_31241_tn_0\", \"shape_id\": \"p_744902\", \"route_id\": \"13525\", \"service_hours\": 1.17, \"trip_first_departure_ts\": 48000, \"trip_last_arrival_ts\": 52200, \"departure_hour\": 13, \"time_of_day\": \"Midday\", \"p25\": 1.0, \"p50\": 1.17, \"p75\": 1.17, \"p50_trip\": 1, \"fastest_trip\": 0, \"car_duration_hours\": 0.61, \"competitive_route\": 1, \"bus_multiplier\": 1.92, \"bus_difference\": 33.6, \"num_trips\": 20, \"num_competitive\": 18, \"pct_trips_competitive\": 0.9, \"bus_difference_spread\": 25.2, \"route_group\": \"medium\", \"max_trip_hrs\": 1.42, \"max_trip_route_group\": 1.42, \"name\": \"City of Tracy\", \"caltrans_district\": \"10 - Stockton\", \"drmt_organization_name\": null, \"cutoff2\": 21.299999999999997, \"cutoff\": 0}, {\"calitp_itp_id\": 341, \"trip_key\": 3862904626022008111, \"trip_id\": \"t_1582775_b_31241_tn_0\", \"shape_id\": \"p_744902\", \"route_id\": \"13525\", \"service_hours\": 1.17, \"trip_first_departure_ts\": 55800, \"trip_last_arrival_ts\": 60000, \"departure_hour\": 15, \"time_of_day\": \"Midday\", \"p25\": 1.0, \"p50\": 1.17, \"p75\": 1.17, \"p50_trip\": 1, \"fastest_trip\": 0, \"car_duration_hours\": 0.61, \"competitive_route\": 1, \"bus_multiplier\": 1.92, \"bus_difference\": 33.6, \"num_trips\": 20, \"num_competitive\": 18, \"pct_trips_competitive\": 0.9, \"bus_difference_spread\": 25.2, \"route_group\": \"medium\", \"max_trip_hrs\": 1.42, \"max_trip_route_group\": 1.42, \"name\": \"City of Tracy\", \"caltrans_district\": \"10 - Stockton\", \"drmt_organization_name\": null, \"cutoff2\": 21.299999999999997, \"cutoff\": 0}, {\"calitp_itp_id\": 341, \"trip_key\": 7315210854481212957, \"trip_id\": \"t_1582772_b_31241_tn_0\", \"shape_id\": \"p_744902\", \"route_id\": \"13525\", \"service_hours\": 1.17, \"trip_first_departure_ts\": 42000, \"trip_last_arrival_ts\": 46200, \"departure_hour\": 11, \"time_of_day\": \"Midday\", \"p25\": 1.0, \"p50\": 1.17, \"p75\": 1.17, \"p50_trip\": 1, \"fastest_trip\": 0, \"car_duration_hours\": 0.61, \"competitive_route\": 1, \"bus_multiplier\": 1.92, \"bus_difference\": 33.6, \"num_trips\": 20, \"num_competitive\": 18, \"pct_trips_competitive\": 0.9, \"bus_difference_spread\": 25.2, \"route_group\": \"medium\", \"max_trip_hrs\": 1.42, \"max_trip_route_group\": 1.42, \"name\": \"City of Tracy\", \"caltrans_district\": \"10 - Stockton\", \"drmt_organization_name\": null, \"cutoff2\": 21.299999999999997, \"cutoff\": 0}, {\"calitp_itp_id\": 341, \"trip_key\": -4853870524780812778, \"trip_id\": \"t_1582776_b_31241_tn_0\", \"shape_id\": \"p_744902\", \"route_id\": \"13525\", \"service_hours\": 1.17, \"trip_first_departure_ts\": 60300, \"trip_last_arrival_ts\": 64500, \"departure_hour\": 16, \"time_of_day\": \"Midday\", \"p25\": 1.0, \"p50\": 1.17, \"p75\": 1.17, \"p50_trip\": 1, \"fastest_trip\": 0, \"car_duration_hours\": 0.61, \"competitive_route\": 1, \"bus_multiplier\": 1.92, \"bus_difference\": 33.6, \"num_trips\": 20, \"num_competitive\": 18, \"pct_trips_competitive\": 0.9, \"bus_difference_spread\": 25.2, \"route_group\": \"medium\", \"max_trip_hrs\": 1.42, \"max_trip_route_group\": 1.42, \"name\": \"City of Tracy\", \"caltrans_district\": \"10 - Stockton\", \"drmt_organization_name\": null, \"cutoff2\": 21.299999999999997, \"cutoff\": 0}, {\"calitp_itp_id\": 341, \"trip_key\": -3605698434873398812, \"trip_id\": \"t_1582773_b_31241_tn_0\", \"shape_id\": \"p_744902\", \"route_id\": \"13525\", \"service_hours\": 1.17, \"trip_first_departure_ts\": 46500, \"trip_last_arrival_ts\": 50700, \"departure_hour\": 12, \"time_of_day\": \"Midday\", \"p25\": 1.0, \"p50\": 1.17, \"p75\": 1.17, \"p50_trip\": 1, \"fastest_trip\": 0, \"car_duration_hours\": 0.61, \"competitive_route\": 1, \"bus_multiplier\": 1.92, \"bus_difference\": 33.6, \"num_trips\": 20, \"num_competitive\": 18, \"pct_trips_competitive\": 0.9, \"bus_difference_spread\": 25.2, \"route_group\": \"medium\", \"max_trip_hrs\": 1.42, \"max_trip_route_group\": 1.42, \"name\": \"City of Tracy\", \"caltrans_district\": \"10 - Stockton\", \"drmt_organization_name\": null, \"cutoff2\": 21.299999999999997, \"cutoff\": 0}, {\"calitp_itp_id\": 341, \"trip_key\": -5326287608567369178, \"trip_id\": \"t_1582770_b_31241_tn_0\", \"shape_id\": \"p_744902\", \"route_id\": \"13525\", \"service_hours\": 1.17, \"trip_first_departure_ts\": 33000, \"trip_last_arrival_ts\": 37200, \"departure_hour\": 9, \"time_of_day\": \"AM Peak\", \"p25\": 1.0, \"p50\": 1.17, \"p75\": 1.17, \"p50_trip\": 1, \"fastest_trip\": 0, \"car_duration_hours\": 0.61, \"competitive_route\": 1, \"bus_multiplier\": 1.92, \"bus_difference\": 33.6, \"num_trips\": 20, \"num_competitive\": 18, \"pct_trips_competitive\": 0.9, \"bus_difference_spread\": 25.2, \"route_group\": \"medium\", \"max_trip_hrs\": 1.42, \"max_trip_route_group\": 1.42, \"name\": \"City of Tracy\", \"caltrans_district\": \"10 - Stockton\", \"drmt_organization_name\": null, \"cutoff2\": 21.299999999999997, \"cutoff\": 0}, {\"calitp_itp_id\": 341, \"trip_key\": -633351998048307329, \"trip_id\": \"t_1582771_b_31241_tn_0\", \"shape_id\": \"p_744902\", \"route_id\": \"13525\", \"service_hours\": 1.17, \"trip_first_departure_ts\": 37500, \"trip_last_arrival_ts\": 41700, \"departure_hour\": 10, \"time_of_day\": \"Midday\", \"p25\": 1.0, \"p50\": 1.17, \"p75\": 1.17, \"p50_trip\": 1, \"fastest_trip\": 0, \"car_duration_hours\": 0.61, \"competitive_route\": 1, \"bus_multiplier\": 1.92, \"bus_difference\": 33.6, \"num_trips\": 20, \"num_competitive\": 18, \"pct_trips_competitive\": 0.9, \"bus_difference_spread\": 25.2, \"route_group\": \"medium\", \"max_trip_hrs\": 1.42, \"max_trip_route_group\": 1.42, \"name\": \"City of Tracy\", \"caltrans_district\": \"10 - Stockton\", \"drmt_organization_name\": null, \"cutoff2\": 21.299999999999997, \"cutoff\": 0}, {\"calitp_itp_id\": 341, \"trip_key\": 5232440720755930226, \"trip_id\": \"t_1582764_b_31241_tn_0\", \"shape_id\": \"p_744902\", \"route_id\": \"13525\", \"service_hours\": 1.17, \"trip_first_departure_ts\": 39300, \"trip_last_arrival_ts\": 43500, \"departure_hour\": 10, \"time_of_day\": \"Midday\", \"p25\": 1.0, \"p50\": 1.17, \"p75\": 1.17, \"p50_trip\": 1, \"fastest_trip\": 0, \"car_duration_hours\": 0.61, \"competitive_route\": 1, \"bus_multiplier\": 1.92, \"bus_difference\": 33.6, \"num_trips\": 20, \"num_competitive\": 18, \"pct_trips_competitive\": 0.9, \"bus_difference_spread\": 25.2, \"route_group\": \"medium\", \"max_trip_hrs\": 1.42, \"max_trip_route_group\": 1.42, \"name\": \"City of Tracy\", \"caltrans_district\": \"10 - Stockton\", \"drmt_organization_name\": null, \"cutoff2\": 21.299999999999997, \"cutoff\": 0}, {\"calitp_itp_id\": 341, \"trip_key\": 5130011539184660331, \"trip_id\": \"t_1582767_b_31241_tn_0\", \"shape_id\": \"p_744902\", \"route_id\": \"13525\", \"service_hours\": 1.17, \"trip_first_departure_ts\": 57900, \"trip_last_arrival_ts\": 62100, \"departure_hour\": 16, \"time_of_day\": \"Midday\", \"p25\": 1.0, \"p50\": 1.17, \"p75\": 1.17, \"p50_trip\": 1, \"fastest_trip\": 0, \"car_duration_hours\": 0.61, \"competitive_route\": 1, \"bus_multiplier\": 1.92, \"bus_difference\": 33.6, \"num_trips\": 20, \"num_competitive\": 18, \"pct_trips_competitive\": 0.9, \"bus_difference_spread\": 25.2, \"route_group\": \"medium\", \"max_trip_hrs\": 1.42, \"max_trip_route_group\": 1.42, \"name\": \"City of Tracy\", \"caltrans_district\": \"10 - Stockton\", \"drmt_organization_name\": null, \"cutoff2\": 21.299999999999997, \"cutoff\": 0}, {\"calitp_itp_id\": 341, \"trip_key\": 6782688894397669509, \"trip_id\": \"t_1582769_b_31241_tn_0\", \"shape_id\": \"p_744902\", \"route_id\": \"13525\", \"service_hours\": 1.25, \"trip_first_departure_ts\": 51000, \"trip_last_arrival_ts\": 55500, \"departure_hour\": 14, \"time_of_day\": \"Midday\", \"p25\": 1.0, \"p50\": 1.17, \"p75\": 1.17, \"p50_trip\": 0, \"fastest_trip\": 0, \"car_duration_hours\": 0.61, \"competitive_route\": 1, \"bus_multiplier\": 2.05, \"bus_difference\": 38.4, \"num_trips\": 20, \"num_competitive\": 18, \"pct_trips_competitive\": 0.9, \"bus_difference_spread\": 25.2, \"route_group\": \"medium\", \"max_trip_hrs\": 1.42, \"max_trip_route_group\": 1.42, \"name\": \"City of Tracy\", \"caltrans_district\": \"10 - Stockton\", \"drmt_organization_name\": null, \"cutoff2\": 21.299999999999997, \"cutoff\": 0}, {\"calitp_itp_id\": 341, \"trip_key\": 6817660816795284691, \"trip_id\": \"t_1582762_b_31241_tn_0\", \"shape_id\": \"p_744902\", \"route_id\": \"13525\", \"service_hours\": 1.42, \"trip_first_departure_ts\": 52500, \"trip_last_arrival_ts\": 57600, \"departure_hour\": 14, \"time_of_day\": \"Midday\", \"p25\": 1.0, \"p50\": 1.17, \"p75\": 1.17, \"p50_trip\": 0, \"fastest_trip\": 0, \"car_duration_hours\": 0.61, \"competitive_route\": 1, \"bus_multiplier\": 2.33, \"bus_difference\": 48.6, \"num_trips\": 20, \"num_competitive\": 18, \"pct_trips_competitive\": 0.9, \"bus_difference_spread\": 25.2, \"route_group\": \"medium\", \"max_trip_hrs\": 1.42, \"max_trip_route_group\": 1.42, \"name\": \"City of Tracy\", \"caltrans_district\": \"10 - Stockton\", \"drmt_organization_name\": null, \"cutoff2\": 21.299999999999997, \"cutoff\": 0}]}}, {\"mode\": \"vega-lite\"});\n",
       "</script>"
      ],
      "text/plain": [
       "alt.FacetChart(...)"
      ]
     },
     "metadata": {},
     "output_type": "display_data"
    }
   ],
   "source": [
    "route_group = \"medium\"\n",
    "try:\n",
    "    subset_routes, mult, diff  = setup_charts(df, PCT_COMPETITIVE_THRESHOLD, route_group)\n",
    "    if len(subset_routes) > 0:\n",
    "        display(\n",
    "            Markdown(\n",
    "                f\"{CAPTIONS_DICT[route_group]}\"\n",
    "                \"Within each route group, routes are sorted in descending order \"\n",
    "                \"by % competitive trips and # trips below the additional time cut-off.\"\n",
    "            )\n",
    "        )\n",
    "\n",
    "        display(mult)\n",
    "        display(diff)\n",
    "except:\n",
    "    print(\"No routes meet this criteria.\")"
   ]
  },
  {
   "cell_type": "markdown",
   "id": "124b76d0-886c-4d03-92ac-f1bda3cda182",
   "metadata": {
    "papermill": {
     "duration": 0.014137,
     "end_time": "2022-05-07T17:31:15.144335",
     "exception": false,
     "start_time": "2022-05-07T17:31:15.130198",
     "status": "completed"
    },
    "tags": []
   },
   "source": [
    "### Long Routes (> 1.5 hrs)"
   ]
  },
  {
   "cell_type": "code",
   "execution_count": 14,
   "id": "ddc81b19-4c45-4c81-8b7a-5e0f394aa7a3",
   "metadata": {
    "execution": {
     "iopub.execute_input": "2022-05-07T17:31:15.175239Z",
     "iopub.status.busy": "2022-05-07T17:31:15.174942Z",
     "iopub.status.idle": "2022-05-07T17:31:15.186949Z",
     "shell.execute_reply": "2022-05-07T17:31:15.186347Z"
    },
    "jupyter": {
     "source_hidden": true
    },
    "papermill": {
     "duration": 0.029307,
     "end_time": "2022-05-07T17:31:15.188662",
     "exception": false,
     "start_time": "2022-05-07T17:31:15.159355",
     "status": "completed"
    },
    "tags": [
     "remove_input"
    ]
   },
   "outputs": [
    {
     "name": "stdout",
     "output_type": "stream",
     "text": [
      "No routes meet this criteria.\n"
     ]
    }
   ],
   "source": [
    "route_group = \"long\"\n",
    "try:\n",
    "    subset_routes, mult, diff  = setup_charts(df, PCT_COMPETITIVE_THRESHOLD, route_group)\n",
    "    if len(subset_routes) > 0:\n",
    "        display(\n",
    "            Markdown(\n",
    "                f\"{CAPTIONS_DICT[route_group]}\"\n",
    "                \"Within each route group, routes are sorted in descending order \"\n",
    "                \"by % competitive trips and # trips below the additional time cut-off.\"\n",
    "            )\n",
    "        )\n",
    "\n",
    "        display(mult)\n",
    "        display(diff)\n",
    "except:\n",
    "    print(\"No routes meet this criteria.\")"
   ]
  }
 ],
 "metadata": {
  "kernelspec": {
   "display_name": "Python 3 (ipykernel)",
   "language": "python",
   "name": "python3"
  },
  "language_info": {
   "codemirror_mode": {
    "name": "ipython",
    "version": 3
   },
   "file_extension": ".py",
   "mimetype": "text/x-python",
   "name": "python",
   "nbconvert_exporter": "python",
   "pygments_lexer": "ipython3",
   "version": "3.9.12"
  },
  "papermill": {
   "default_parameters": {},
   "duration": 23.258925,
   "end_time": "2022-05-07T17:31:16.428319",
   "environment_variables": {},
   "exception": null,
   "input_path": "bus_service_increase/stripplot.ipynb",
   "output_path": "portfolio/parallel_corridors/district_10-stockton/stripplot__itp_id_341.ipynb",
   "parameters": {
    "district": "10 - Stockton",
    "itp_id": 341
   },
   "start_time": "2022-05-07T17:30:53.169394",
   "version": "2.3.4"
  }
 },
 "nbformat": 4,
 "nbformat_minor": 5
}