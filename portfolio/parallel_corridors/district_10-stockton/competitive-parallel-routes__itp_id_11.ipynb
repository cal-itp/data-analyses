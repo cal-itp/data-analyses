{
 "cells": [
  {
   "cell_type": "code",
   "execution_count": 1,
   "id": "95d00857-6a20-4529-a519-2cc7182928a9",
   "metadata": {
    "execution": {
     "iopub.execute_input": "2022-05-09T20:16:18.108199Z",
     "iopub.status.busy": "2022-05-09T20:16:18.107175Z",
     "iopub.status.idle": "2022-05-09T20:16:28.122536Z",
     "shell.execute_reply": "2022-05-09T20:16:28.121610Z"
    },
    "jupyter": {
     "source_hidden": true
    },
    "papermill": {
     "duration": 10.036373,
     "end_time": "2022-05-09T20:16:28.125281",
     "exception": false,
     "start_time": "2022-05-09T20:16:18.088908",
     "status": "completed"
    },
    "tags": [
     "remove_input"
    ]
   },
   "outputs": [],
   "source": [
    "%%capture\n",
    "import warnings\n",
    "warnings.filterwarnings('ignore')\n",
    "\n",
    "import altair as alt\n",
    "import calitp.magics\n",
    "import geopandas as gpd\n",
    "import intake\n",
    "import pandas as pd\n",
    "\n",
    "from IPython.display import display, Markdown, HTML\n",
    "\n",
    "import parallel_corridors_utils\n",
    "from shared_utils import styleguide\n",
    "import deploy_portfolio_yaml\n",
    "\n",
    "catalog = intake.open_catalog(\"./*.yml\")\n",
    "alt.renderers.enable(\"html\")"
   ]
  },
  {
   "cell_type": "code",
   "execution_count": 2,
   "id": "8af2a0c1-f3da-408d-9bea-11d9fbf8695d",
   "metadata": {
    "execution": {
     "iopub.execute_input": "2022-05-09T20:16:28.155052Z",
     "iopub.status.busy": "2022-05-09T20:16:28.153812Z",
     "iopub.status.idle": "2022-05-09T20:16:28.162923Z",
     "shell.execute_reply": "2022-05-09T20:16:28.161788Z"
    },
    "jupyter": {
     "source_hidden": true
    },
    "papermill": {
     "duration": 0.029199,
     "end_time": "2022-05-09T20:16:28.167409",
     "exception": false,
     "start_time": "2022-05-09T20:16:28.138210",
     "status": "completed"
    },
    "tags": [
     "parameters",
     "remove_input"
    ]
   },
   "outputs": [],
   "source": [
    "# parameters cell\n",
    "itp_id = 182"
   ]
  },
  {
   "cell_type": "code",
   "execution_count": 3,
   "id": "a10c6389",
   "metadata": {
    "execution": {
     "iopub.execute_input": "2022-05-09T20:16:28.194449Z",
     "iopub.status.busy": "2022-05-09T20:16:28.194089Z",
     "iopub.status.idle": "2022-05-09T20:16:28.206049Z",
     "shell.execute_reply": "2022-05-09T20:16:28.198054Z"
    },
    "jupyter": {
     "source_hidden": true
    },
    "papermill": {
     "duration": 0.029307,
     "end_time": "2022-05-09T20:16:28.209352",
     "exception": false,
     "start_time": "2022-05-09T20:16:28.180045",
     "status": "completed"
    },
    "tags": [
     "injected-parameters",
     "remove_input"
    ]
   },
   "outputs": [],
   "source": [
    "# Parameters\n",
    "district = \"10 - Stockton\"\n",
    "itp_id = 11\n"
   ]
  },
  {
   "cell_type": "code",
   "execution_count": 4,
   "id": "9582aaf4-79ff-412a-b248-8d8d693ebd4f",
   "metadata": {
    "execution": {
     "iopub.execute_input": "2022-05-09T20:16:28.236826Z",
     "iopub.status.busy": "2022-05-09T20:16:28.235997Z",
     "iopub.status.idle": "2022-05-09T20:16:29.552541Z",
     "shell.execute_reply": "2022-05-09T20:16:29.551409Z"
    },
    "jupyter": {
     "source_hidden": true
    },
    "papermill": {
     "duration": 1.333472,
     "end_time": "2022-05-09T20:16:29.555050",
     "exception": false,
     "start_time": "2022-05-09T20:16:28.221578",
     "status": "completed"
    },
    "tags": [
     "remove_input"
    ]
   },
   "outputs": [],
   "source": [
    "df = catalog.competitive_route_variability.read()\n",
    "\n",
    "df = (df[(df.calitp_itp_id == itp_id) & \n",
    "         (df.route_group.notna())]\n",
    "      .reset_index(drop=True)\n",
    "     )\n",
    "\n",
    "\n",
    "if itp_id == 182:\n",
    "    df = df.assign(\n",
    "        route_id = df.route_id.str.replace('-13153', '').astype(int)\n",
    "    )"
   ]
  },
  {
   "cell_type": "code",
   "execution_count": 5,
   "id": "33ac4b06-f647-4dce-a625-8f2c1b37cc60",
   "metadata": {
    "execution": {
     "iopub.execute_input": "2022-05-09T20:16:29.585574Z",
     "iopub.status.busy": "2022-05-09T20:16:29.585268Z",
     "iopub.status.idle": "2022-05-09T20:16:29.594198Z",
     "shell.execute_reply": "2022-05-09T20:16:29.593177Z"
    },
    "jupyter": {
     "source_hidden": true
    },
    "papermill": {
     "duration": 0.028651,
     "end_time": "2022-05-09T20:16:29.597672",
     "exception": false,
     "start_time": "2022-05-09T20:16:29.569021",
     "status": "completed"
    },
    "tags": [
     "remove_input"
    ]
   },
   "outputs": [],
   "source": [
    "%%capture_parameters\n",
    "operator_name = df.name.iloc[0]\n",
    "district_number = f\"{df.caltrans_district.iloc[0].split('-')[0].strip()}\"\n",
    "district_name = f\"{df.caltrans_district.iloc[0].split('-')[1].strip().lower().replace(' ', '-')}\"\n",
    "\n",
    "itp_id, operator_name, district_number, district_name"
   ]
  },
  {
   "cell_type": "markdown",
   "id": "65bc6f5c-8348-42ee-b2dd-52057c406852",
   "metadata": {
    "papermill": {
     "duration": 0.013217,
     "end_time": "2022-05-09T20:16:29.626126",
     "exception": false,
     "start_time": "2022-05-09T20:16:29.612909",
     "status": "completed"
    },
    "tags": []
   },
   "source": [
    "# Amador Regional Transit System (ITP ID: 11)"
   ]
  },
  {
   "cell_type": "code",
   "execution_count": 6,
   "id": "a689c1ab-2c6c-4831-8d64-897f5986f571",
   "metadata": {
    "execution": {
     "iopub.execute_input": "2022-05-09T20:16:29.652317Z",
     "iopub.status.busy": "2022-05-09T20:16:29.651185Z",
     "iopub.status.idle": "2022-05-09T20:16:29.658252Z",
     "shell.execute_reply": "2022-05-09T20:16:29.657560Z"
    },
    "jupyter": {
     "source_hidden": true
    },
    "papermill": {
     "duration": 0.022121,
     "end_time": "2022-05-09T20:16:29.660008",
     "exception": false,
     "start_time": "2022-05-09T20:16:29.637887",
     "status": "completed"
    },
    "tags": [
     "remove_input"
    ]
   },
   "outputs": [
    {
     "data": {
      "text/html": [
       "<h1>Competitive & Parallel Routes</h1>"
      ],
      "text/plain": [
       "<IPython.core.display.HTML object>"
      ]
     },
     "metadata": {},
     "output_type": "display_data"
    }
   ],
   "source": [
    "display(HTML(\"<h1>Competitive & Parallel Routes</h1>\")) "
   ]
  },
  {
   "cell_type": "code",
   "execution_count": 7,
   "id": "2cb4d8d5-4760-40e4-85b1-cb833d8bb648",
   "metadata": {
    "execution": {
     "iopub.execute_input": "2022-05-09T20:16:29.688530Z",
     "iopub.status.busy": "2022-05-09T20:16:29.686864Z",
     "iopub.status.idle": "2022-05-09T20:16:42.098338Z",
     "shell.execute_reply": "2022-05-09T20:16:42.097186Z"
    },
    "jupyter": {
     "source_hidden": true
    },
    "papermill": {
     "duration": 12.427881,
     "end_time": "2022-05-09T20:16:42.100811",
     "exception": false,
     "start_time": "2022-05-09T20:16:29.672930",
     "status": "completed"
    },
    "tags": [
     "remove_input"
    ]
   },
   "outputs": [],
   "source": [
    "# Grab parameters for narrative text - clean up formatting here \n",
    "district = df.caltrans_district.iloc[0]\n",
    "formatted_date = pd.to_datetime(parallel_corridors_utils.SELECTED_DATE).strftime('%m-%d-%Y')\n",
    "\n",
    "PCT_COMPETITIVE_THRESHOLD = 0.75\n",
    "\n",
    "stats = parallel_corridors_utils.operator_parallel_competitive_stats(\n",
    "    itp_id, PCT_COMPETITIVE_THRESHOLD)\n",
    "\n",
    "pct_parallel = round(stats['parallel_routes'] / stats['num_routes'] * 100,1 )\n",
    "pct_competitive =  round(stats['competitive_routes'] / stats['num_routes'] * 100,1 )"
   ]
  },
  {
   "cell_type": "markdown",
   "id": "ab667928-5274-4490-82d9-4c39293209a4",
   "metadata": {
    "papermill": {
     "duration": 0.012844,
     "end_time": "2022-05-09T20:16:42.126130",
     "exception": false,
     "start_time": "2022-05-09T20:16:42.113286",
     "status": "completed"
    },
    "tags": []
   },
   "source": [
    "## Quick Stats"
   ]
  },
  {
   "cell_type": "code",
   "execution_count": 8,
   "id": "0416509d-dc62-4165-b62e-64f8b26e8b8e",
   "metadata": {
    "execution": {
     "iopub.execute_input": "2022-05-09T20:16:42.154180Z",
     "iopub.status.busy": "2022-05-09T20:16:42.153633Z",
     "iopub.status.idle": "2022-05-09T20:16:42.159716Z",
     "shell.execute_reply": "2022-05-09T20:16:42.159170Z"
    },
    "jupyter": {
     "source_hidden": true
    },
    "papermill": {
     "duration": 0.02206,
     "end_time": "2022-05-09T20:16:42.161534",
     "exception": false,
     "start_time": "2022-05-09T20:16:42.139474",
     "status": "completed"
    },
    "tags": [
     "remove_input"
    ]
   },
   "outputs": [
    {
     "data": {
      "text/markdown": [
       "**Bus routes in service**: 6 <br>**Parallel routes** to State Highway Network (SHN): 6 routes (100.0%)<br>**Competitive routes** against car travel: 3 routes (50.0%)"
      ],
      "text/plain": [
       "<IPython.core.display.Markdown object>"
      ]
     },
     "metadata": {},
     "output_type": "display_data"
    }
   ],
   "source": [
    "display(\n",
    "    Markdown(\n",
    "        f\"**Bus routes in service**: {stats['num_routes']} \"\n",
    "        \"<br>**Parallel routes** to State Highway Network (SHN): \"\n",
    "        f\"{stats['parallel_routes']} routes ({pct_parallel}%)\"\n",
    "        f\"<br>**Competitive routes** against car travel: {stats['competitive_routes']} routes ({pct_competitive}%)\"\n",
    "    )\n",
    ")"
   ]
  },
  {
   "cell_type": "code",
   "execution_count": 9,
   "id": "f9d6ab58-f0ee-460c-b6de-657490e1f386",
   "metadata": {
    "execution": {
     "iopub.execute_input": "2022-05-09T20:16:42.189305Z",
     "iopub.status.busy": "2022-05-09T20:16:42.188789Z",
     "iopub.status.idle": "2022-05-09T20:16:42.197497Z",
     "shell.execute_reply": "2022-05-09T20:16:42.196940Z"
    },
    "jupyter": {
     "source_hidden": true
    },
    "papermill": {
     "duration": 0.031241,
     "end_time": "2022-05-09T20:16:42.205575",
     "exception": false,
     "start_time": "2022-05-09T20:16:42.174334",
     "status": "completed"
    },
    "tags": [
     "remove_input"
    ]
   },
   "outputs": [],
   "source": [
    "def set_yaxis_range(df, y_col):\n",
    "    Y_MIN = df[y_col].min()\n",
    "    Y_MAX = df[y_col].max()\n",
    "    \n",
    "    return Y_MIN, Y_MAX\n",
    "\n",
    "# Rather than set it according to the operator, which can vary,\n",
    "# just use set thresholds for each group\n",
    "diff_cutoffs = parallel_corridors_utils.diff_cutoffs\n",
    "\n",
    "PCT_TRIPS_BELOW_CUTOFF = 0.25\n",
    "\n",
    "def top15_routes(df, route_group):\n",
    "    df2 = (df[df.route_group==route_group])\n",
    "    # Set a cut-off to enable sorting, where most of the trips are \n",
    "    # below a certain time difference cut-off, \n",
    "    # grab top 15 routes where majority of trips are below that cut-off \n",
    "\n",
    "    route_cols = [\"calitp_itp_id\", \"route_id\"]\n",
    "\n",
    "    df2 = df2.assign(\n",
    "        below_cutoff = df2.apply(lambda x: 1 if x.bus_difference <= diff_cutoffs[route_group] \n",
    "                                 else 0, axis=1),\n",
    "        num_trips = df2.groupby(route_cols)[\"trip_id\"].transform(\"count\")\n",
    "    )\n",
    "\n",
    "    df2[\"below_cutoff\"] = df2.groupby(route_cols)[\"below_cutoff\"].transform(\"sum\")\n",
    "    df2[\"pct_below_cutoff\"] = df2.below_cutoff.divide(df2.num_trips)\n",
    "\n",
    "    # At least half the trips are below that cut-off\n",
    "    # but show 15 max, otherwise, show less, since these won't be as interesting to operators\n",
    "    df3 = (df2[df2.pct_below_cutoff >= PCT_TRIPS_BELOW_CUTOFF]\n",
    "           .sort_values([\"calitp_itp_id\", \"below_cutoff\", \n",
    "                         \"pct_below_cutoff\", \"route_id\"],\n",
    "                        ascending = [True, False, False, True]\n",
    "                       )\n",
    "           .drop_duplicates(subset=[\"calitp_itp_id\", \"route_id\"])\n",
    "          ).head(15)\n",
    "    \n",
    "    return list(df3.route_id)"
   ]
  },
  {
   "cell_type": "code",
   "execution_count": 10,
   "id": "cf36d559-3349-4144-8086-8ac9ce937a5a",
   "metadata": {
    "execution": {
     "iopub.execute_input": "2022-05-09T20:16:42.235297Z",
     "iopub.status.busy": "2022-05-09T20:16:42.234762Z",
     "iopub.status.idle": "2022-05-09T20:16:42.240381Z",
     "shell.execute_reply": "2022-05-09T20:16:42.239615Z"
    },
    "jupyter": {
     "source_hidden": true
    },
    "papermill": {
     "duration": 0.023417,
     "end_time": "2022-05-09T20:16:42.242827",
     "exception": false,
     "start_time": "2022-05-09T20:16:42.219410",
     "status": "completed"
    },
    "tags": [
     "remove_input"
    ]
   },
   "outputs": [],
   "source": [
    "def caption_with_cutoff(cutoff):\n",
    "    sentence = (\n",
    "        f\"<br>These are routes that have **at least {int(PCT_TRIPS_BELOW_CUTOFF*100)}% \"\n",
    "        \"of their trips take no more than an \"\n",
    "        f\"additional {cutoff} min** compared to a car \"\n",
    "        \"(up to 15 routes) are shown.\"\n",
    "        \"<br>Within each route group, routes are sorted in descending order \"\n",
    "        \"by % competitive trips and # trips below the additional time cut-off.\"\n",
    "    )\n",
    "    return sentence\n",
    "\n",
    "CAPTIONS_DICT = {\n",
    "    \"short\": caption_with_cutoff(diff_cutoffs['short']),\n",
    "    \"medium\": caption_with_cutoff(diff_cutoffs['medium']),\n",
    "    \"long\": caption_with_cutoff(diff_cutoffs['long']),\n",
    "}"
   ]
  },
  {
   "cell_type": "code",
   "execution_count": 11,
   "id": "e4306d58-6944-47e9-afef-5d5b524c751f",
   "metadata": {
    "execution": {
     "iopub.execute_input": "2022-05-09T20:16:42.271844Z",
     "iopub.status.busy": "2022-05-09T20:16:42.271334Z",
     "iopub.status.idle": "2022-05-09T20:16:42.278495Z",
     "shell.execute_reply": "2022-05-09T20:16:42.277775Z"
    },
    "jupyter": {
     "source_hidden": true
    },
    "papermill": {
     "duration": 0.023884,
     "end_time": "2022-05-09T20:16:42.280426",
     "exception": false,
     "start_time": "2022-05-09T20:16:42.256542",
     "status": "completed"
    },
    "tags": [
     "remove_input"
    ]
   },
   "outputs": [],
   "source": [
    "def setup_charts(df, PCT_COMPETITIVE_THRESHOLD, route_group):\n",
    "    # Set up df for charting (cut-off at some threshold to show most competitive routes)\n",
    "    plot_me = (df[df.pct_trips_competitive > PCT_COMPETITIVE_THRESHOLD]\n",
    "           .drop(columns = \"geometry\")\n",
    "    )\n",
    "    \n",
    "    y_col1 = \"bus_multiplier\"\n",
    "    Y_MIN1, Y_MAX1 = set_yaxis_range(plot_me, y_col1)\n",
    "\n",
    "    y_col2 = \"bus_difference\"\n",
    "    Y_MIN2, Y_MAX2 = set_yaxis_range(plot_me, y_col2)\n",
    "     \n",
    "    subset_routes = top15_routes(plot_me, route_group)\n",
    "    \n",
    "    multiplier_chart = parallel_corridors_utils.make_stripplot(\n",
    "        plot_me[plot_me.route_id.isin(subset_routes)], \n",
    "        y_col1, Y_MIN = Y_MIN1, Y_MAX = Y_MAX1\n",
    "    )\n",
    "    \n",
    "    difference_chart = parallel_corridors_utils.make_stripplot(\n",
    "        plot_me[plot_me.route_id.isin(subset_routes)], \n",
    "        y_col2, Y_MIN = Y_MIN2, Y_MAX = Y_MAX2\n",
    "    )\n",
    "    \n",
    "    return subset_routes, multiplier_chart, difference_chart            "
   ]
  },
  {
   "cell_type": "code",
   "execution_count": 12,
   "id": "33a710e8-504c-4942-aa75-ff69f216956e",
   "metadata": {
    "execution": {
     "iopub.execute_input": "2022-05-09T20:16:42.324939Z",
     "iopub.status.busy": "2022-05-09T20:16:42.324041Z",
     "iopub.status.idle": "2022-05-09T20:16:42.329756Z",
     "shell.execute_reply": "2022-05-09T20:16:42.328873Z"
    },
    "jupyter": {
     "source_hidden": true
    },
    "papermill": {
     "duration": 0.023984,
     "end_time": "2022-05-09T20:16:42.332507",
     "exception": false,
     "start_time": "2022-05-09T20:16:42.308523",
     "status": "completed"
    },
    "tags": [
     "remove_input"
    ]
   },
   "outputs": [],
   "source": [
    "def display_charts_for_route_group(df, route_group):    \n",
    "    subset_routes, mult, diff  = setup_charts(df, PCT_COMPETITIVE_THRESHOLD, route_group)\n",
    "\n",
    "    if len(subset_routes) > 0:\n",
    "        display(Markdown(f\"{CAPTIONS_DICT[route_group]}\"))\n",
    "\n",
    "        display(mult)\n",
    "        display(diff)"
   ]
  },
  {
   "cell_type": "markdown",
   "id": "525f9b38-072b-46d1-96a8-1aa4b038357c",
   "metadata": {
    "papermill": {
     "duration": 0.016053,
     "end_time": "2022-05-09T20:16:42.362186",
     "exception": false,
     "start_time": "2022-05-09T20:16:42.346133",
     "status": "completed"
    },
    "tags": []
   },
   "source": [
    "## Viable Competitive Routes\n",
    "### Short Routes (< 1 hr)"
   ]
  },
  {
   "cell_type": "code",
   "execution_count": 13,
   "id": "57f7084c-2cf7-45c6-ba08-1609e0bd6ca5",
   "metadata": {
    "execution": {
     "iopub.execute_input": "2022-05-09T20:16:42.392561Z",
     "iopub.status.busy": "2022-05-09T20:16:42.392276Z",
     "iopub.status.idle": "2022-05-09T20:16:42.630118Z",
     "shell.execute_reply": "2022-05-09T20:16:42.629333Z"
    },
    "jupyter": {
     "source_hidden": true
    },
    "papermill": {
     "duration": 0.257715,
     "end_time": "2022-05-09T20:16:42.633367",
     "exception": false,
     "start_time": "2022-05-09T20:16:42.375652",
     "status": "completed"
    },
    "tags": [
     "remove_input"
    ]
   },
   "outputs": [
    {
     "data": {
      "text/markdown": [
       "<br>These are routes that have **at least 25% of their trips take no more than an additional 20 min** compared to a car (up to 15 routes) are shown.<br>Within each route group, routes are sorted in descending order by % competitive trips and # trips below the additional time cut-off."
      ],
      "text/plain": [
       "<IPython.core.display.Markdown object>"
      ]
     },
     "metadata": {},
     "output_type": "display_data"
    },
    {
     "data": {
      "text/html": [
       "\n",
       "<div id=\"altair-viz-7b37c30bb1fb44b19a6c66ff97bf7134\"></div>\n",
       "<script type=\"text/javascript\">\n",
       "  var VEGA_DEBUG = (typeof VEGA_DEBUG == \"undefined\") ? {} : VEGA_DEBUG;\n",
       "  (function(spec, embedOpt){\n",
       "    let outputDiv = document.currentScript.previousElementSibling;\n",
       "    if (outputDiv.id !== \"altair-viz-7b37c30bb1fb44b19a6c66ff97bf7134\") {\n",
       "      outputDiv = document.getElementById(\"altair-viz-7b37c30bb1fb44b19a6c66ff97bf7134\");\n",
       "    }\n",
       "    const paths = {\n",
       "      \"vega\": \"https://cdn.jsdelivr.net/npm//vega@5?noext\",\n",
       "      \"vega-lib\": \"https://cdn.jsdelivr.net/npm//vega-lib?noext\",\n",
       "      \"vega-lite\": \"https://cdn.jsdelivr.net/npm//vega-lite@4.17.0?noext\",\n",
       "      \"vega-embed\": \"https://cdn.jsdelivr.net/npm//vega-embed@6?noext\",\n",
       "    };\n",
       "\n",
       "    function maybeLoadScript(lib, version) {\n",
       "      var key = `${lib.replace(\"-\", \"\")}_version`;\n",
       "      return (VEGA_DEBUG[key] == version) ?\n",
       "        Promise.resolve(paths[lib]) :\n",
       "        new Promise(function(resolve, reject) {\n",
       "          var s = document.createElement('script');\n",
       "          document.getElementsByTagName(\"head\")[0].appendChild(s);\n",
       "          s.async = true;\n",
       "          s.onload = () => {\n",
       "            VEGA_DEBUG[key] = version;\n",
       "            return resolve(paths[lib]);\n",
       "          };\n",
       "          s.onerror = () => reject(`Error loading script: ${paths[lib]}`);\n",
       "          s.src = paths[lib];\n",
       "        });\n",
       "    }\n",
       "\n",
       "    function showError(err) {\n",
       "      outputDiv.innerHTML = `<div class=\"error\" style=\"color:red;\">${err}</div>`;\n",
       "      throw err;\n",
       "    }\n",
       "\n",
       "    function displayChart(vegaEmbed) {\n",
       "      vegaEmbed(outputDiv, spec, embedOpt)\n",
       "        .catch(err => showError(`Javascript Error: ${err.message}<br>This usually means there's a typo in your chart specification. See the javascript console for the full traceback.`));\n",
       "    }\n",
       "\n",
       "    if(typeof define === \"function\" && define.amd) {\n",
       "      requirejs.config({paths});\n",
       "      require([\"vega-embed\"], displayChart, err => showError(`Error loading script: ${err.message}`));\n",
       "    } else {\n",
       "      maybeLoadScript(\"vega\", \"5\")\n",
       "        .then(() => maybeLoadScript(\"vega-lite\", \"4.17.0\"))\n",
       "        .then(() => maybeLoadScript(\"vega-embed\", \"6\"))\n",
       "        .catch(showError)\n",
       "        .then(() => displayChart(vegaEmbed));\n",
       "    }\n",
       "  })({\"config\": {\"view\": {\"continuousWidth\": 400, \"continuousHeight\": 300, \"stroke\": null}, \"facet\": {\"spacing\": 0}}, \"data\": {\"name\": \"data-b12d595cb8c9c2a387edb3f332d043f1\"}, \"facet\": {\"column\": {\"field\": \"route_id\", \"sort\": [\"571\"], \"title\": \"Route ID\", \"type\": \"nominal\"}}, \"spec\": {\"layer\": [{\"mark\": \"rule\", \"encoding\": {\"color\": {\"value\": \"black\"}, \"y\": {\"field\": \"cutoff\", \"type\": \"quantitative\"}}, \"selection\": {\"selector001\": {\"type\": \"interval\", \"bind\": \"scales\", \"encodings\": [\"x\", \"y\"]}}}, {\"mark\": {\"type\": \"point\", \"opacity\": 0.65, \"size\": 12, \"strokeWidth\": 1.1}, \"encoding\": {\"color\": {\"field\": \"time_of_day\", \"scale\": {\"range\": [\"#136C97\", \"#E16B26\", \"#F6BF16\", \"#00896B\", \"#7790A3\", \"#5B559C\"]}, \"sort\": [\"AM Peak\", \"Midday\", \"PM Peak\", \"Owl Service\"], \"title\": \"Time of Day\", \"type\": \"nominal\"}, \"tooltip\": [{\"field\": \"route_id\", \"type\": \"nominal\"}, {\"field\": \"trip_id\", \"type\": \"nominal\"}, {\"field\": \"service_hours\", \"type\": \"quantitative\"}, {\"field\": \"car_duration_hours\", \"type\": \"quantitative\"}, {\"field\": \"bus_multiplier\", \"type\": \"quantitative\"}, {\"field\": \"bus_difference\", \"type\": \"quantitative\"}, {\"field\": \"num_trips\", \"type\": \"quantitative\"}, {\"field\": \"num_competitive\", \"type\": \"quantitative\"}, {\"field\": \"pct_trips_competitive\", \"type\": \"quantitative\"}, {\"field\": \"p25\", \"type\": \"quantitative\"}, {\"field\": \"p50\", \"type\": \"quantitative\"}, {\"field\": \"p75\", \"type\": \"quantitative\"}], \"x\": {\"axis\": {\"grid\": false, \"labels\": false, \"ticks\": true, \"values\": [0]}, \"field\": \"jitter\", \"scale\": {}, \"title\": null, \"type\": \"quantitative\"}, \"y\": {\"field\": \"bus_multiplier\", \"scale\": {\"domain\": [-0.25, 2.5]}, \"title\": \"Ratio of Bus to Car Travel Time\", \"type\": \"quantitative\"}}, \"transform\": [{\"calculate\": \"sqrt(-2*log(random()))*cos(2*PI*random())\", \"as\": \"jitter\"}], \"width\": 50}, {\"layer\": [{\"mark\": {\"type\": \"point\", \"opacity\": 0.6, \"size\": 20, \"strokeWidth\": 1.3}, \"encoding\": {\"color\": {\"value\": \"#323434\"}, \"y\": {\"field\": \"bus_multiplier\", \"type\": \"quantitative\"}}, \"transform\": [{\"filter\": \"(datum.p50_trip === 1)\"}]}, {\"mark\": {\"type\": \"text\", \"align\": \"center\", \"baseline\": \"middle\"}, \"encoding\": {\"color\": {\"value\": \"black\"}, \"text\": {\"field\": \"pct_trips_competitive\", \"format\": \".0%\", \"type\": \"quantitative\"}, \"tooltip\": [{\"field\": \"route_id\", \"type\": \"nominal\"}, {\"field\": \"trip_id\", \"type\": \"nominal\"}, {\"field\": \"service_hours\", \"type\": \"quantitative\"}, {\"field\": \"car_duration_hours\", \"type\": \"quantitative\"}, {\"field\": \"bus_multiplier\", \"type\": \"quantitative\"}, {\"field\": \"bus_difference\", \"type\": \"quantitative\"}, {\"field\": \"num_trips\", \"type\": \"quantitative\"}, {\"field\": \"num_competitive\", \"type\": \"quantitative\"}, {\"field\": \"pct_trips_competitive\", \"type\": \"quantitative\"}, {\"field\": \"p25\", \"type\": \"quantitative\"}, {\"field\": \"p50\", \"type\": \"quantitative\"}, {\"field\": \"p75\", \"type\": \"quantitative\"}], \"x\": {\"value\": 30}, \"y\": {\"value\": 15}}, \"transform\": [{\"calculate\": \"sqrt(-2*log(random()))*cos(2*PI*random())\", \"as\": \"jitter\"}, {\"filter\": \"(datum.fastest_trip === 1)\"}]}]}]}, \"resolve\": {\"scale\": {\"y\": \"shared\"}}, \"title\": \"Ratio of Bus to Car Travel Time\", \"$schema\": \"https://vega.github.io/schema/vega-lite/v4.17.0.json\", \"datasets\": {\"data-b12d595cb8c9c2a387edb3f332d043f1\": [{\"calitp_itp_id\": 11, \"trip_key\": -3472073110163871566, \"trip_id\": \"t_27247_b_414_tn_0\", \"shape_id\": \"p_858\", \"route_id\": \"571\", \"service_hours\": 0.8, \"trip_first_departure_ts\": 54600, \"trip_last_arrival_ts\": 57480, \"departure_hour\": 15, \"time_of_day\": \"Midday\", \"p25\": 0.8075, \"p50\": 0.815, \"p75\": 0.8225, \"p50_trip\": 1, \"fastest_trip\": 1, \"car_duration_hours\": 0.62, \"competitive_route\": 1, \"bus_multiplier\": 1.29, \"bus_difference\": 10.8, \"num_trips\": 2, \"num_competitive\": 2, \"pct_trips_competitive\": 1.0, \"bus_difference_spread\": 1.8, \"route_group\": \"short\", \"max_trip_hrs\": 0.83, \"max_trip_route_group\": 0.83, \"name\": \"Amador Regional Transit System\", \"caltrans_district\": \"10 - Stockton\", \"drmt_organization_name\": \"['recGiMlqrcpPxScAH']\", \"cutoff2\": 20, \"cutoff\": 2}, {\"calitp_itp_id\": 11, \"trip_key\": 4361041855970706728, \"trip_id\": \"t_1544_b_414_tn_0\", \"shape_id\": \"p_1304302\", \"route_id\": \"571\", \"service_hours\": 0.83, \"trip_first_departure_ts\": 29700, \"trip_last_arrival_ts\": 32700, \"departure_hour\": 8, \"time_of_day\": \"AM Peak\", \"p25\": 0.8075, \"p50\": 0.815, \"p75\": 0.8225, \"p50_trip\": 0, \"fastest_trip\": 0, \"car_duration_hours\": 0.62, \"competitive_route\": 1, \"bus_multiplier\": 1.34, \"bus_difference\": 12.6, \"num_trips\": 2, \"num_competitive\": 2, \"pct_trips_competitive\": 1.0, \"bus_difference_spread\": 1.8, \"route_group\": \"short\", \"max_trip_hrs\": 0.83, \"max_trip_route_group\": 0.83, \"name\": \"Amador Regional Transit System\", \"caltrans_district\": \"10 - Stockton\", \"drmt_organization_name\": \"['recGiMlqrcpPxScAH']\", \"cutoff2\": 20, \"cutoff\": 2}]}}, {\"mode\": \"vega-lite\"});\n",
       "</script>"
      ],
      "text/plain": [
       "alt.FacetChart(...)"
      ]
     },
     "metadata": {},
     "output_type": "display_data"
    },
    {
     "data": {
      "text/html": [
       "\n",
       "<div id=\"altair-viz-ba71a561b28544999d512072edb73391\"></div>\n",
       "<script type=\"text/javascript\">\n",
       "  var VEGA_DEBUG = (typeof VEGA_DEBUG == \"undefined\") ? {} : VEGA_DEBUG;\n",
       "  (function(spec, embedOpt){\n",
       "    let outputDiv = document.currentScript.previousElementSibling;\n",
       "    if (outputDiv.id !== \"altair-viz-ba71a561b28544999d512072edb73391\") {\n",
       "      outputDiv = document.getElementById(\"altair-viz-ba71a561b28544999d512072edb73391\");\n",
       "    }\n",
       "    const paths = {\n",
       "      \"vega\": \"https://cdn.jsdelivr.net/npm//vega@5?noext\",\n",
       "      \"vega-lib\": \"https://cdn.jsdelivr.net/npm//vega-lib?noext\",\n",
       "      \"vega-lite\": \"https://cdn.jsdelivr.net/npm//vega-lite@4.17.0?noext\",\n",
       "      \"vega-embed\": \"https://cdn.jsdelivr.net/npm//vega-embed@6?noext\",\n",
       "    };\n",
       "\n",
       "    function maybeLoadScript(lib, version) {\n",
       "      var key = `${lib.replace(\"-\", \"\")}_version`;\n",
       "      return (VEGA_DEBUG[key] == version) ?\n",
       "        Promise.resolve(paths[lib]) :\n",
       "        new Promise(function(resolve, reject) {\n",
       "          var s = document.createElement('script');\n",
       "          document.getElementsByTagName(\"head\")[0].appendChild(s);\n",
       "          s.async = true;\n",
       "          s.onload = () => {\n",
       "            VEGA_DEBUG[key] = version;\n",
       "            return resolve(paths[lib]);\n",
       "          };\n",
       "          s.onerror = () => reject(`Error loading script: ${paths[lib]}`);\n",
       "          s.src = paths[lib];\n",
       "        });\n",
       "    }\n",
       "\n",
       "    function showError(err) {\n",
       "      outputDiv.innerHTML = `<div class=\"error\" style=\"color:red;\">${err}</div>`;\n",
       "      throw err;\n",
       "    }\n",
       "\n",
       "    function displayChart(vegaEmbed) {\n",
       "      vegaEmbed(outputDiv, spec, embedOpt)\n",
       "        .catch(err => showError(`Javascript Error: ${err.message}<br>This usually means there's a typo in your chart specification. See the javascript console for the full traceback.`));\n",
       "    }\n",
       "\n",
       "    if(typeof define === \"function\" && define.amd) {\n",
       "      requirejs.config({paths});\n",
       "      require([\"vega-embed\"], displayChart, err => showError(`Error loading script: ${err.message}`));\n",
       "    } else {\n",
       "      maybeLoadScript(\"vega\", \"5\")\n",
       "        .then(() => maybeLoadScript(\"vega-lite\", \"4.17.0\"))\n",
       "        .then(() => maybeLoadScript(\"vega-embed\", \"6\"))\n",
       "        .catch(showError)\n",
       "        .then(() => displayChart(vegaEmbed));\n",
       "    }\n",
       "  })({\"config\": {\"view\": {\"continuousWidth\": 400, \"continuousHeight\": 300, \"stroke\": null}, \"facet\": {\"spacing\": 0}}, \"data\": {\"name\": \"data-26efa628f586abbac7048b43a31c5c25\"}, \"facet\": {\"column\": {\"field\": \"route_id\", \"sort\": [\"571\"], \"title\": \"Route ID\", \"type\": \"nominal\"}}, \"spec\": {\"layer\": [{\"mark\": \"rule\", \"encoding\": {\"color\": {\"value\": \"black\"}, \"y\": {\"field\": \"cutoff\", \"type\": \"quantitative\"}}, \"selection\": {\"selector002\": {\"type\": \"interval\", \"bind\": \"scales\", \"encodings\": [\"x\", \"y\"]}}}, {\"mark\": {\"type\": \"rule\", \"strokeDash\": [3, 3]}, \"encoding\": {\"color\": {\"value\": \"#323434\"}, \"y\": {\"field\": \"cutoff2\", \"type\": \"quantitative\"}}}, {\"mark\": {\"type\": \"point\", \"opacity\": 0.65, \"size\": 12, \"strokeWidth\": 1.1}, \"encoding\": {\"color\": {\"field\": \"time_of_day\", \"scale\": {\"range\": [\"#136C97\", \"#E16B26\", \"#F6BF16\", \"#00896B\", \"#7790A3\", \"#5B559C\"]}, \"sort\": [\"AM Peak\", \"Midday\", \"PM Peak\", \"Owl Service\"], \"title\": \"Time of Day\", \"type\": \"nominal\"}, \"tooltip\": [{\"field\": \"route_id\", \"type\": \"nominal\"}, {\"field\": \"trip_id\", \"type\": \"nominal\"}, {\"field\": \"service_hours\", \"type\": \"quantitative\"}, {\"field\": \"car_duration_hours\", \"type\": \"quantitative\"}, {\"field\": \"bus_multiplier\", \"type\": \"quantitative\"}, {\"field\": \"bus_difference\", \"type\": \"quantitative\"}, {\"field\": \"num_trips\", \"type\": \"quantitative\"}, {\"field\": \"num_competitive\", \"type\": \"quantitative\"}, {\"field\": \"pct_trips_competitive\", \"type\": \"quantitative\"}, {\"field\": \"p25\", \"type\": \"quantitative\"}, {\"field\": \"p50\", \"type\": \"quantitative\"}, {\"field\": \"p75\", \"type\": \"quantitative\"}], \"x\": {\"axis\": {\"grid\": false, \"labels\": false, \"ticks\": true, \"values\": [0]}, \"field\": \"jitter\", \"scale\": {}, \"title\": null, \"type\": \"quantitative\"}, \"y\": {\"field\": \"bus_difference\", \"scale\": {\"domain\": [-5, 42.6]}, \"title\": \"Difference in Bus to Car Travel Time (min)\", \"type\": \"quantitative\"}}, \"transform\": [{\"calculate\": \"sqrt(-2*log(random()))*cos(2*PI*random())\", \"as\": \"jitter\"}], \"width\": 50}, {\"layer\": [{\"mark\": {\"type\": \"point\", \"opacity\": 0.6, \"size\": 20, \"strokeWidth\": 1.3}, \"encoding\": {\"color\": {\"value\": \"#323434\"}, \"y\": {\"field\": \"bus_difference\", \"type\": \"quantitative\"}}, \"transform\": [{\"filter\": \"(datum.p50_trip === 1)\"}]}, {\"mark\": {\"type\": \"text\", \"align\": \"center\", \"baseline\": \"middle\"}, \"encoding\": {\"color\": {\"value\": \"black\"}, \"text\": {\"field\": \"pct_trips_competitive\", \"format\": \".0%\", \"type\": \"quantitative\"}, \"tooltip\": [{\"field\": \"route_id\", \"type\": \"nominal\"}, {\"field\": \"trip_id\", \"type\": \"nominal\"}, {\"field\": \"service_hours\", \"type\": \"quantitative\"}, {\"field\": \"car_duration_hours\", \"type\": \"quantitative\"}, {\"field\": \"bus_multiplier\", \"type\": \"quantitative\"}, {\"field\": \"bus_difference\", \"type\": \"quantitative\"}, {\"field\": \"num_trips\", \"type\": \"quantitative\"}, {\"field\": \"num_competitive\", \"type\": \"quantitative\"}, {\"field\": \"pct_trips_competitive\", \"type\": \"quantitative\"}, {\"field\": \"p25\", \"type\": \"quantitative\"}, {\"field\": \"p50\", \"type\": \"quantitative\"}, {\"field\": \"p75\", \"type\": \"quantitative\"}], \"x\": {\"value\": 30}, \"y\": {\"value\": 15}}, \"transform\": [{\"calculate\": \"sqrt(-2*log(random()))*cos(2*PI*random())\", \"as\": \"jitter\"}, {\"filter\": \"(datum.fastest_trip === 1)\"}]}]}]}, \"resolve\": {\"scale\": {\"y\": \"shared\"}}, \"title\": \"Difference in Bus to Car Travel Time (min)\", \"$schema\": \"https://vega.github.io/schema/vega-lite/v4.17.0.json\", \"datasets\": {\"data-26efa628f586abbac7048b43a31c5c25\": [{\"calitp_itp_id\": 11, \"trip_key\": -3472073110163871566, \"trip_id\": \"t_27247_b_414_tn_0\", \"shape_id\": \"p_858\", \"route_id\": \"571\", \"service_hours\": 0.8, \"trip_first_departure_ts\": 54600, \"trip_last_arrival_ts\": 57480, \"departure_hour\": 15, \"time_of_day\": \"Midday\", \"p25\": 0.8075, \"p50\": 0.815, \"p75\": 0.8225, \"p50_trip\": 1, \"fastest_trip\": 1, \"car_duration_hours\": 0.62, \"competitive_route\": 1, \"bus_multiplier\": 1.29, \"bus_difference\": 10.8, \"num_trips\": 2, \"num_competitive\": 2, \"pct_trips_competitive\": 1.0, \"bus_difference_spread\": 1.8, \"route_group\": \"short\", \"max_trip_hrs\": 0.83, \"max_trip_route_group\": 0.83, \"name\": \"Amador Regional Transit System\", \"caltrans_district\": \"10 - Stockton\", \"drmt_organization_name\": \"['recGiMlqrcpPxScAH']\", \"cutoff2\": 20, \"cutoff\": 0}, {\"calitp_itp_id\": 11, \"trip_key\": 4361041855970706728, \"trip_id\": \"t_1544_b_414_tn_0\", \"shape_id\": \"p_1304302\", \"route_id\": \"571\", \"service_hours\": 0.83, \"trip_first_departure_ts\": 29700, \"trip_last_arrival_ts\": 32700, \"departure_hour\": 8, \"time_of_day\": \"AM Peak\", \"p25\": 0.8075, \"p50\": 0.815, \"p75\": 0.8225, \"p50_trip\": 0, \"fastest_trip\": 0, \"car_duration_hours\": 0.62, \"competitive_route\": 1, \"bus_multiplier\": 1.34, \"bus_difference\": 12.6, \"num_trips\": 2, \"num_competitive\": 2, \"pct_trips_competitive\": 1.0, \"bus_difference_spread\": 1.8, \"route_group\": \"short\", \"max_trip_hrs\": 0.83, \"max_trip_route_group\": 0.83, \"name\": \"Amador Regional Transit System\", \"caltrans_district\": \"10 - Stockton\", \"drmt_organization_name\": \"['recGiMlqrcpPxScAH']\", \"cutoff2\": 20, \"cutoff\": 0}]}}, {\"mode\": \"vega-lite\"});\n",
       "</script>"
      ],
      "text/plain": [
       "alt.FacetChart(...)"
      ]
     },
     "metadata": {},
     "output_type": "display_data"
    }
   ],
   "source": [
    "# Allow for possibility that operator doesn't have routes that fall into certain route_groups\n",
    "# But, jupyterbook will not like markdown with f-string\n",
    "# separate out route_group and put in each cell, and use try/except + if to display...\n",
    "# but all 3 route groups must be displayed. just add sentence about why no routes were returned at the end\n",
    "route_group = \"short\"\n",
    "try:\n",
    "    display_charts_for_route_group(df, route_group)\n",
    "except:\n",
    "    print(\"No routes meet this criteria.\")"
   ]
  },
  {
   "cell_type": "markdown",
   "id": "c2931b6f-034d-4384-9e14-80b925e3b820",
   "metadata": {
    "papermill": {
     "duration": 0.016401,
     "end_time": "2022-05-09T20:16:42.666287",
     "exception": false,
     "start_time": "2022-05-09T20:16:42.649886",
     "status": "completed"
    },
    "tags": []
   },
   "source": [
    "### Medium Routes (1-1.5 hrs)"
   ]
  },
  {
   "cell_type": "code",
   "execution_count": 14,
   "id": "480edddc-4de0-48c2-ae4c-b0ceef8f28b5",
   "metadata": {
    "execution": {
     "iopub.execute_input": "2022-05-09T20:16:42.697908Z",
     "iopub.status.busy": "2022-05-09T20:16:42.697593Z",
     "iopub.status.idle": "2022-05-09T20:16:42.930961Z",
     "shell.execute_reply": "2022-05-09T20:16:42.929935Z"
    },
    "jupyter": {
     "source_hidden": true
    },
    "papermill": {
     "duration": 0.251862,
     "end_time": "2022-05-09T20:16:42.933108",
     "exception": false,
     "start_time": "2022-05-09T20:16:42.681246",
     "status": "completed"
    },
    "tags": [
     "remove_input"
    ]
   },
   "outputs": [
    {
     "data": {
      "text/markdown": [
       "<br>These are routes that have **at least 25% of their trips take no more than an additional 30 min** compared to a car (up to 15 routes) are shown.<br>Within each route group, routes are sorted in descending order by % competitive trips and # trips below the additional time cut-off."
      ],
      "text/plain": [
       "<IPython.core.display.Markdown object>"
      ]
     },
     "metadata": {},
     "output_type": "display_data"
    },
    {
     "data": {
      "text/html": [
       "\n",
       "<div id=\"altair-viz-cbb24b76827948a3ad00dc2f92f239e6\"></div>\n",
       "<script type=\"text/javascript\">\n",
       "  var VEGA_DEBUG = (typeof VEGA_DEBUG == \"undefined\") ? {} : VEGA_DEBUG;\n",
       "  (function(spec, embedOpt){\n",
       "    let outputDiv = document.currentScript.previousElementSibling;\n",
       "    if (outputDiv.id !== \"altair-viz-cbb24b76827948a3ad00dc2f92f239e6\") {\n",
       "      outputDiv = document.getElementById(\"altair-viz-cbb24b76827948a3ad00dc2f92f239e6\");\n",
       "    }\n",
       "    const paths = {\n",
       "      \"vega\": \"https://cdn.jsdelivr.net/npm//vega@5?noext\",\n",
       "      \"vega-lib\": \"https://cdn.jsdelivr.net/npm//vega-lib?noext\",\n",
       "      \"vega-lite\": \"https://cdn.jsdelivr.net/npm//vega-lite@4.17.0?noext\",\n",
       "      \"vega-embed\": \"https://cdn.jsdelivr.net/npm//vega-embed@6?noext\",\n",
       "    };\n",
       "\n",
       "    function maybeLoadScript(lib, version) {\n",
       "      var key = `${lib.replace(\"-\", \"\")}_version`;\n",
       "      return (VEGA_DEBUG[key] == version) ?\n",
       "        Promise.resolve(paths[lib]) :\n",
       "        new Promise(function(resolve, reject) {\n",
       "          var s = document.createElement('script');\n",
       "          document.getElementsByTagName(\"head\")[0].appendChild(s);\n",
       "          s.async = true;\n",
       "          s.onload = () => {\n",
       "            VEGA_DEBUG[key] = version;\n",
       "            return resolve(paths[lib]);\n",
       "          };\n",
       "          s.onerror = () => reject(`Error loading script: ${paths[lib]}`);\n",
       "          s.src = paths[lib];\n",
       "        });\n",
       "    }\n",
       "\n",
       "    function showError(err) {\n",
       "      outputDiv.innerHTML = `<div class=\"error\" style=\"color:red;\">${err}</div>`;\n",
       "      throw err;\n",
       "    }\n",
       "\n",
       "    function displayChart(vegaEmbed) {\n",
       "      vegaEmbed(outputDiv, spec, embedOpt)\n",
       "        .catch(err => showError(`Javascript Error: ${err.message}<br>This usually means there's a typo in your chart specification. See the javascript console for the full traceback.`));\n",
       "    }\n",
       "\n",
       "    if(typeof define === \"function\" && define.amd) {\n",
       "      requirejs.config({paths});\n",
       "      require([\"vega-embed\"], displayChart, err => showError(`Error loading script: ${err.message}`));\n",
       "    } else {\n",
       "      maybeLoadScript(\"vega\", \"5\")\n",
       "        .then(() => maybeLoadScript(\"vega-lite\", \"4.17.0\"))\n",
       "        .then(() => maybeLoadScript(\"vega-embed\", \"6\"))\n",
       "        .catch(showError)\n",
       "        .then(() => displayChart(vegaEmbed));\n",
       "    }\n",
       "  })({\"config\": {\"view\": {\"continuousWidth\": 400, \"continuousHeight\": 300, \"stroke\": null}, \"facet\": {\"spacing\": 0}}, \"data\": {\"name\": \"data-0168d22f09dd8758978dca4a69eaf065\"}, \"facet\": {\"column\": {\"field\": \"route_id\", \"sort\": [\"570\"], \"title\": \"Route ID\", \"type\": \"nominal\"}}, \"spec\": {\"layer\": [{\"mark\": \"rule\", \"encoding\": {\"color\": {\"value\": \"black\"}, \"y\": {\"field\": \"cutoff\", \"type\": \"quantitative\"}}, \"selection\": {\"selector003\": {\"type\": \"interval\", \"bind\": \"scales\", \"encodings\": [\"x\", \"y\"]}}}, {\"mark\": {\"type\": \"point\", \"opacity\": 0.65, \"size\": 12, \"strokeWidth\": 1.1}, \"encoding\": {\"color\": {\"field\": \"time_of_day\", \"scale\": {\"range\": [\"#136C97\", \"#E16B26\", \"#F6BF16\", \"#00896B\", \"#7790A3\", \"#5B559C\"]}, \"sort\": [\"AM Peak\", \"Midday\", \"PM Peak\", \"Owl Service\"], \"title\": \"Time of Day\", \"type\": \"nominal\"}, \"tooltip\": [{\"field\": \"route_id\", \"type\": \"nominal\"}, {\"field\": \"trip_id\", \"type\": \"nominal\"}, {\"field\": \"service_hours\", \"type\": \"quantitative\"}, {\"field\": \"car_duration_hours\", \"type\": \"quantitative\"}, {\"field\": \"bus_multiplier\", \"type\": \"quantitative\"}, {\"field\": \"bus_difference\", \"type\": \"quantitative\"}, {\"field\": \"num_trips\", \"type\": \"quantitative\"}, {\"field\": \"num_competitive\", \"type\": \"quantitative\"}, {\"field\": \"pct_trips_competitive\", \"type\": \"quantitative\"}, {\"field\": \"p25\", \"type\": \"quantitative\"}, {\"field\": \"p50\", \"type\": \"quantitative\"}, {\"field\": \"p75\", \"type\": \"quantitative\"}], \"x\": {\"axis\": {\"grid\": false, \"labels\": false, \"ticks\": true, \"values\": [0]}, \"field\": \"jitter\", \"scale\": {}, \"title\": null, \"type\": \"quantitative\"}, \"y\": {\"field\": \"bus_multiplier\", \"scale\": {\"domain\": [-0.25, 2.5]}, \"title\": \"Ratio of Bus to Car Travel Time\", \"type\": \"quantitative\"}}, \"transform\": [{\"calculate\": \"sqrt(-2*log(random()))*cos(2*PI*random())\", \"as\": \"jitter\"}], \"width\": 50}, {\"layer\": [{\"mark\": {\"type\": \"point\", \"opacity\": 0.6, \"size\": 20, \"strokeWidth\": 1.3}, \"encoding\": {\"color\": {\"value\": \"#323434\"}, \"y\": {\"field\": \"bus_multiplier\", \"type\": \"quantitative\"}}, \"transform\": [{\"filter\": \"(datum.p50_trip === 1)\"}]}, {\"mark\": {\"type\": \"text\", \"align\": \"center\", \"baseline\": \"middle\"}, \"encoding\": {\"color\": {\"value\": \"black\"}, \"text\": {\"field\": \"pct_trips_competitive\", \"format\": \".0%\", \"type\": \"quantitative\"}, \"tooltip\": [{\"field\": \"route_id\", \"type\": \"nominal\"}, {\"field\": \"trip_id\", \"type\": \"nominal\"}, {\"field\": \"service_hours\", \"type\": \"quantitative\"}, {\"field\": \"car_duration_hours\", \"type\": \"quantitative\"}, {\"field\": \"bus_multiplier\", \"type\": \"quantitative\"}, {\"field\": \"bus_difference\", \"type\": \"quantitative\"}, {\"field\": \"num_trips\", \"type\": \"quantitative\"}, {\"field\": \"num_competitive\", \"type\": \"quantitative\"}, {\"field\": \"pct_trips_competitive\", \"type\": \"quantitative\"}, {\"field\": \"p25\", \"type\": \"quantitative\"}, {\"field\": \"p50\", \"type\": \"quantitative\"}, {\"field\": \"p75\", \"type\": \"quantitative\"}], \"x\": {\"value\": 30}, \"y\": {\"value\": 15}}, \"transform\": [{\"calculate\": \"sqrt(-2*log(random()))*cos(2*PI*random())\", \"as\": \"jitter\"}, {\"filter\": \"(datum.fastest_trip === 1)\"}]}]}]}, \"resolve\": {\"scale\": {\"y\": \"shared\"}}, \"title\": \"Ratio of Bus to Car Travel Time\", \"$schema\": \"https://vega.github.io/schema/vega-lite/v4.17.0.json\", \"datasets\": {\"data-0168d22f09dd8758978dca4a69eaf065\": [{\"calitp_itp_id\": 11, \"trip_key\": -166603345440738692, \"trip_id\": \"t_1235349_b_414_tn_0\", \"shape_id\": \"p_900627\", \"route_id\": \"570\", \"service_hours\": 0.67, \"trip_first_departure_ts\": 20700, \"trip_last_arrival_ts\": 23100, \"departure_hour\": 5, \"time_of_day\": \"Owl Service\", \"p25\": 0.91, \"p50\": 1.0, \"p75\": 1.0125, \"p50_trip\": 0, \"fastest_trip\": 1, \"car_duration_hours\": 0.59, \"competitive_route\": 1, \"bus_multiplier\": 1.14, \"bus_difference\": 4.8, \"num_trips\": 8, \"num_competitive\": 8, \"pct_trips_competitive\": 1.0, \"bus_difference_spread\": 25.8, \"route_group\": \"medium\", \"max_trip_hrs\": 1.1, \"max_trip_route_group\": 1.1, \"name\": \"Amador Regional Transit System\", \"caltrans_district\": \"10 - Stockton\", \"drmt_organization_name\": \"['recGiMlqrcpPxScAH']\", \"cutoff2\": 30, \"cutoff\": 2}, {\"calitp_itp_id\": 11, \"trip_key\": -4162627453190228698, \"trip_id\": \"t_1235356_b_414_tn_0\", \"shape_id\": \"p_864\", \"route_id\": \"570\", \"service_hours\": 0.85, \"trip_first_departure_ts\": 63480, \"trip_last_arrival_ts\": 66540, \"departure_hour\": 17, \"time_of_day\": \"PM Peak\", \"p25\": 0.91, \"p50\": 1.0, \"p75\": 1.0125, \"p50_trip\": 0, \"fastest_trip\": 0, \"car_duration_hours\": 0.59, \"competitive_route\": 1, \"bus_multiplier\": 1.44, \"bus_difference\": 15.6, \"num_trips\": 8, \"num_competitive\": 8, \"pct_trips_competitive\": 1.0, \"bus_difference_spread\": 25.8, \"route_group\": \"medium\", \"max_trip_hrs\": 1.1, \"max_trip_route_group\": 1.1, \"name\": \"Amador Regional Transit System\", \"caltrans_district\": \"10 - Stockton\", \"drmt_organization_name\": \"['recGiMlqrcpPxScAH']\", \"cutoff2\": 30, \"cutoff\": 2}, {\"calitp_itp_id\": 11, \"trip_key\": 1587477281743624360, \"trip_id\": \"t_1235350_b_414_tn_0\", \"shape_id\": \"p_850\", \"route_id\": \"570\", \"service_hours\": 0.93, \"trip_first_departure_ts\": 27000, \"trip_last_arrival_ts\": 30360, \"departure_hour\": 7, \"time_of_day\": \"AM Peak\", \"p25\": 0.91, \"p50\": 1.0, \"p75\": 1.0125, \"p50_trip\": 0, \"fastest_trip\": 0, \"car_duration_hours\": 0.59, \"competitive_route\": 1, \"bus_multiplier\": 1.58, \"bus_difference\": 20.4, \"num_trips\": 8, \"num_competitive\": 8, \"pct_trips_competitive\": 1.0, \"bus_difference_spread\": 25.8, \"route_group\": \"medium\", \"max_trip_hrs\": 1.1, \"max_trip_route_group\": 1.1, \"name\": \"Amador Regional Transit System\", \"caltrans_district\": \"10 - Stockton\", \"drmt_organization_name\": \"['recGiMlqrcpPxScAH']\", \"cutoff2\": 30, \"cutoff\": 2}, {\"calitp_itp_id\": 11, \"trip_key\": 2168053819301931957, \"trip_id\": \"t_1235354_b_414_tn_0\", \"shape_id\": \"p_866\", \"route_id\": \"570\", \"service_hours\": 1.0, \"trip_first_departure_ts\": 30480, \"trip_last_arrival_ts\": 34080, \"departure_hour\": 8, \"time_of_day\": \"AM Peak\", \"p25\": 0.91, \"p50\": 1.0, \"p75\": 1.0125, \"p50_trip\": 1, \"fastest_trip\": 0, \"car_duration_hours\": 0.59, \"competitive_route\": 1, \"bus_multiplier\": 1.69, \"bus_difference\": 24.6, \"num_trips\": 8, \"num_competitive\": 8, \"pct_trips_competitive\": 1.0, \"bus_difference_spread\": 25.8, \"route_group\": \"medium\", \"max_trip_hrs\": 1.1, \"max_trip_route_group\": 1.1, \"name\": \"Amador Regional Transit System\", \"caltrans_district\": \"10 - Stockton\", \"drmt_organization_name\": \"['recGiMlqrcpPxScAH']\", \"cutoff2\": 30, \"cutoff\": 2}, {\"calitp_itp_id\": 11, \"trip_key\": 6577890086136531193, \"trip_id\": \"t_1235351_b_414_tn_0\", \"shape_id\": \"p_850\", \"route_id\": \"570\", \"service_hours\": 1.0, \"trip_first_departure_ts\": 43200, \"trip_last_arrival_ts\": 46800, \"departure_hour\": 12, \"time_of_day\": \"Midday\", \"p25\": 0.91, \"p50\": 1.0, \"p75\": 1.0125, \"p50_trip\": 1, \"fastest_trip\": 0, \"car_duration_hours\": 0.59, \"competitive_route\": 1, \"bus_multiplier\": 1.69, \"bus_difference\": 24.6, \"num_trips\": 8, \"num_competitive\": 8, \"pct_trips_competitive\": 1.0, \"bus_difference_spread\": 25.8, \"route_group\": \"medium\", \"max_trip_hrs\": 1.1, \"max_trip_route_group\": 1.1, \"name\": \"Amador Regional Transit System\", \"caltrans_district\": \"10 - Stockton\", \"drmt_organization_name\": \"['recGiMlqrcpPxScAH']\", \"cutoff2\": 30, \"cutoff\": 2}, {\"calitp_itp_id\": 11, \"trip_key\": -8248405168340255919, \"trip_id\": \"t_1235355_b_414_tn_0\", \"shape_id\": \"p_866\", \"route_id\": \"570\", \"service_hours\": 1.0, \"trip_first_departure_ts\": 46920, \"trip_last_arrival_ts\": 50520, \"departure_hour\": 13, \"time_of_day\": \"Midday\", \"p25\": 0.91, \"p50\": 1.0, \"p75\": 1.0125, \"p50_trip\": 1, \"fastest_trip\": 0, \"car_duration_hours\": 0.59, \"competitive_route\": 1, \"bus_multiplier\": 1.69, \"bus_difference\": 24.6, \"num_trips\": 8, \"num_competitive\": 8, \"pct_trips_competitive\": 1.0, \"bus_difference_spread\": 25.8, \"route_group\": \"medium\", \"max_trip_hrs\": 1.1, \"max_trip_route_group\": 1.1, \"name\": \"Amador Regional Transit System\", \"caltrans_district\": \"10 - Stockton\", \"drmt_organization_name\": \"['recGiMlqrcpPxScAH']\", \"cutoff2\": 30, \"cutoff\": 2}, {\"calitp_itp_id\": 11, \"trip_key\": -228461201543392837, \"trip_id\": \"t_1235353_b_414_tn_0\", \"shape_id\": \"p_865\", \"route_id\": \"570\", \"service_hours\": 1.05, \"trip_first_departure_ts\": 23220, \"trip_last_arrival_ts\": 27000, \"departure_hour\": 6, \"time_of_day\": \"Owl Service\", \"p25\": 0.91, \"p50\": 1.0, \"p75\": 1.0125, \"p50_trip\": 0, \"fastest_trip\": 0, \"car_duration_hours\": 0.59, \"competitive_route\": 1, \"bus_multiplier\": 1.78, \"bus_difference\": 27.6, \"num_trips\": 8, \"num_competitive\": 8, \"pct_trips_competitive\": 1.0, \"bus_difference_spread\": 25.8, \"route_group\": \"medium\", \"max_trip_hrs\": 1.1, \"max_trip_route_group\": 1.1, \"name\": \"Amador Regional Transit System\", \"caltrans_district\": \"10 - Stockton\", \"drmt_organization_name\": \"['recGiMlqrcpPxScAH']\", \"cutoff2\": 30, \"cutoff\": 2}, {\"calitp_itp_id\": 11, \"trip_key\": -5585287787072383338, \"trip_id\": \"t_1235352_b_414_tn_0\", \"shape_id\": \"p_849\", \"route_id\": \"570\", \"service_hours\": 1.1, \"trip_first_departure_ts\": 59400, \"trip_last_arrival_ts\": 63360, \"departure_hour\": 16, \"time_of_day\": \"Midday\", \"p25\": 0.91, \"p50\": 1.0, \"p75\": 1.0125, \"p50_trip\": 0, \"fastest_trip\": 0, \"car_duration_hours\": 0.59, \"competitive_route\": 1, \"bus_multiplier\": 1.86, \"bus_difference\": 30.6, \"num_trips\": 8, \"num_competitive\": 8, \"pct_trips_competitive\": 1.0, \"bus_difference_spread\": 25.8, \"route_group\": \"medium\", \"max_trip_hrs\": 1.1, \"max_trip_route_group\": 1.1, \"name\": \"Amador Regional Transit System\", \"caltrans_district\": \"10 - Stockton\", \"drmt_organization_name\": \"['recGiMlqrcpPxScAH']\", \"cutoff2\": 30, \"cutoff\": 2}]}}, {\"mode\": \"vega-lite\"});\n",
       "</script>"
      ],
      "text/plain": [
       "alt.FacetChart(...)"
      ]
     },
     "metadata": {},
     "output_type": "display_data"
    },
    {
     "data": {
      "text/html": [
       "\n",
       "<div id=\"altair-viz-8140ea74e4d34dee800d23f1c2ea5a19\"></div>\n",
       "<script type=\"text/javascript\">\n",
       "  var VEGA_DEBUG = (typeof VEGA_DEBUG == \"undefined\") ? {} : VEGA_DEBUG;\n",
       "  (function(spec, embedOpt){\n",
       "    let outputDiv = document.currentScript.previousElementSibling;\n",
       "    if (outputDiv.id !== \"altair-viz-8140ea74e4d34dee800d23f1c2ea5a19\") {\n",
       "      outputDiv = document.getElementById(\"altair-viz-8140ea74e4d34dee800d23f1c2ea5a19\");\n",
       "    }\n",
       "    const paths = {\n",
       "      \"vega\": \"https://cdn.jsdelivr.net/npm//vega@5?noext\",\n",
       "      \"vega-lib\": \"https://cdn.jsdelivr.net/npm//vega-lib?noext\",\n",
       "      \"vega-lite\": \"https://cdn.jsdelivr.net/npm//vega-lite@4.17.0?noext\",\n",
       "      \"vega-embed\": \"https://cdn.jsdelivr.net/npm//vega-embed@6?noext\",\n",
       "    };\n",
       "\n",
       "    function maybeLoadScript(lib, version) {\n",
       "      var key = `${lib.replace(\"-\", \"\")}_version`;\n",
       "      return (VEGA_DEBUG[key] == version) ?\n",
       "        Promise.resolve(paths[lib]) :\n",
       "        new Promise(function(resolve, reject) {\n",
       "          var s = document.createElement('script');\n",
       "          document.getElementsByTagName(\"head\")[0].appendChild(s);\n",
       "          s.async = true;\n",
       "          s.onload = () => {\n",
       "            VEGA_DEBUG[key] = version;\n",
       "            return resolve(paths[lib]);\n",
       "          };\n",
       "          s.onerror = () => reject(`Error loading script: ${paths[lib]}`);\n",
       "          s.src = paths[lib];\n",
       "        });\n",
       "    }\n",
       "\n",
       "    function showError(err) {\n",
       "      outputDiv.innerHTML = `<div class=\"error\" style=\"color:red;\">${err}</div>`;\n",
       "      throw err;\n",
       "    }\n",
       "\n",
       "    function displayChart(vegaEmbed) {\n",
       "      vegaEmbed(outputDiv, spec, embedOpt)\n",
       "        .catch(err => showError(`Javascript Error: ${err.message}<br>This usually means there's a typo in your chart specification. See the javascript console for the full traceback.`));\n",
       "    }\n",
       "\n",
       "    if(typeof define === \"function\" && define.amd) {\n",
       "      requirejs.config({paths});\n",
       "      require([\"vega-embed\"], displayChart, err => showError(`Error loading script: ${err.message}`));\n",
       "    } else {\n",
       "      maybeLoadScript(\"vega\", \"5\")\n",
       "        .then(() => maybeLoadScript(\"vega-lite\", \"4.17.0\"))\n",
       "        .then(() => maybeLoadScript(\"vega-embed\", \"6\"))\n",
       "        .catch(showError)\n",
       "        .then(() => displayChart(vegaEmbed));\n",
       "    }\n",
       "  })({\"config\": {\"view\": {\"continuousWidth\": 400, \"continuousHeight\": 300, \"stroke\": null}, \"facet\": {\"spacing\": 0}}, \"data\": {\"name\": \"data-de367a26dfc0e3fee6f7775d5fbc44af\"}, \"facet\": {\"column\": {\"field\": \"route_id\", \"sort\": [\"570\"], \"title\": \"Route ID\", \"type\": \"nominal\"}}, \"spec\": {\"layer\": [{\"mark\": \"rule\", \"encoding\": {\"color\": {\"value\": \"black\"}, \"y\": {\"field\": \"cutoff\", \"type\": \"quantitative\"}}, \"selection\": {\"selector004\": {\"type\": \"interval\", \"bind\": \"scales\", \"encodings\": [\"x\", \"y\"]}}}, {\"mark\": {\"type\": \"rule\", \"strokeDash\": [3, 3]}, \"encoding\": {\"color\": {\"value\": \"#323434\"}, \"y\": {\"field\": \"cutoff2\", \"type\": \"quantitative\"}}}, {\"mark\": {\"type\": \"point\", \"opacity\": 0.65, \"size\": 12, \"strokeWidth\": 1.1}, \"encoding\": {\"color\": {\"field\": \"time_of_day\", \"scale\": {\"range\": [\"#136C97\", \"#E16B26\", \"#F6BF16\", \"#00896B\", \"#7790A3\", \"#5B559C\"]}, \"sort\": [\"AM Peak\", \"Midday\", \"PM Peak\", \"Owl Service\"], \"title\": \"Time of Day\", \"type\": \"nominal\"}, \"tooltip\": [{\"field\": \"route_id\", \"type\": \"nominal\"}, {\"field\": \"trip_id\", \"type\": \"nominal\"}, {\"field\": \"service_hours\", \"type\": \"quantitative\"}, {\"field\": \"car_duration_hours\", \"type\": \"quantitative\"}, {\"field\": \"bus_multiplier\", \"type\": \"quantitative\"}, {\"field\": \"bus_difference\", \"type\": \"quantitative\"}, {\"field\": \"num_trips\", \"type\": \"quantitative\"}, {\"field\": \"num_competitive\", \"type\": \"quantitative\"}, {\"field\": \"pct_trips_competitive\", \"type\": \"quantitative\"}, {\"field\": \"p25\", \"type\": \"quantitative\"}, {\"field\": \"p50\", \"type\": \"quantitative\"}, {\"field\": \"p75\", \"type\": \"quantitative\"}], \"x\": {\"axis\": {\"grid\": false, \"labels\": false, \"ticks\": true, \"values\": [0]}, \"field\": \"jitter\", \"scale\": {}, \"title\": null, \"type\": \"quantitative\"}, \"y\": {\"field\": \"bus_difference\", \"scale\": {\"domain\": [-5, 42.6]}, \"title\": \"Difference in Bus to Car Travel Time (min)\", \"type\": \"quantitative\"}}, \"transform\": [{\"calculate\": \"sqrt(-2*log(random()))*cos(2*PI*random())\", \"as\": \"jitter\"}], \"width\": 50}, {\"layer\": [{\"mark\": {\"type\": \"point\", \"opacity\": 0.6, \"size\": 20, \"strokeWidth\": 1.3}, \"encoding\": {\"color\": {\"value\": \"#323434\"}, \"y\": {\"field\": \"bus_difference\", \"type\": \"quantitative\"}}, \"transform\": [{\"filter\": \"(datum.p50_trip === 1)\"}]}, {\"mark\": {\"type\": \"text\", \"align\": \"center\", \"baseline\": \"middle\"}, \"encoding\": {\"color\": {\"value\": \"black\"}, \"text\": {\"field\": \"pct_trips_competitive\", \"format\": \".0%\", \"type\": \"quantitative\"}, \"tooltip\": [{\"field\": \"route_id\", \"type\": \"nominal\"}, {\"field\": \"trip_id\", \"type\": \"nominal\"}, {\"field\": \"service_hours\", \"type\": \"quantitative\"}, {\"field\": \"car_duration_hours\", \"type\": \"quantitative\"}, {\"field\": \"bus_multiplier\", \"type\": \"quantitative\"}, {\"field\": \"bus_difference\", \"type\": \"quantitative\"}, {\"field\": \"num_trips\", \"type\": \"quantitative\"}, {\"field\": \"num_competitive\", \"type\": \"quantitative\"}, {\"field\": \"pct_trips_competitive\", \"type\": \"quantitative\"}, {\"field\": \"p25\", \"type\": \"quantitative\"}, {\"field\": \"p50\", \"type\": \"quantitative\"}, {\"field\": \"p75\", \"type\": \"quantitative\"}], \"x\": {\"value\": 30}, \"y\": {\"value\": 15}}, \"transform\": [{\"calculate\": \"sqrt(-2*log(random()))*cos(2*PI*random())\", \"as\": \"jitter\"}, {\"filter\": \"(datum.fastest_trip === 1)\"}]}]}]}, \"resolve\": {\"scale\": {\"y\": \"shared\"}}, \"title\": \"Difference in Bus to Car Travel Time (min)\", \"$schema\": \"https://vega.github.io/schema/vega-lite/v4.17.0.json\", \"datasets\": {\"data-de367a26dfc0e3fee6f7775d5fbc44af\": [{\"calitp_itp_id\": 11, \"trip_key\": -166603345440738692, \"trip_id\": \"t_1235349_b_414_tn_0\", \"shape_id\": \"p_900627\", \"route_id\": \"570\", \"service_hours\": 0.67, \"trip_first_departure_ts\": 20700, \"trip_last_arrival_ts\": 23100, \"departure_hour\": 5, \"time_of_day\": \"Owl Service\", \"p25\": 0.91, \"p50\": 1.0, \"p75\": 1.0125, \"p50_trip\": 0, \"fastest_trip\": 1, \"car_duration_hours\": 0.59, \"competitive_route\": 1, \"bus_multiplier\": 1.14, \"bus_difference\": 4.8, \"num_trips\": 8, \"num_competitive\": 8, \"pct_trips_competitive\": 1.0, \"bus_difference_spread\": 25.8, \"route_group\": \"medium\", \"max_trip_hrs\": 1.1, \"max_trip_route_group\": 1.1, \"name\": \"Amador Regional Transit System\", \"caltrans_district\": \"10 - Stockton\", \"drmt_organization_name\": \"['recGiMlqrcpPxScAH']\", \"cutoff2\": 30, \"cutoff\": 0}, {\"calitp_itp_id\": 11, \"trip_key\": -4162627453190228698, \"trip_id\": \"t_1235356_b_414_tn_0\", \"shape_id\": \"p_864\", \"route_id\": \"570\", \"service_hours\": 0.85, \"trip_first_departure_ts\": 63480, \"trip_last_arrival_ts\": 66540, \"departure_hour\": 17, \"time_of_day\": \"PM Peak\", \"p25\": 0.91, \"p50\": 1.0, \"p75\": 1.0125, \"p50_trip\": 0, \"fastest_trip\": 0, \"car_duration_hours\": 0.59, \"competitive_route\": 1, \"bus_multiplier\": 1.44, \"bus_difference\": 15.6, \"num_trips\": 8, \"num_competitive\": 8, \"pct_trips_competitive\": 1.0, \"bus_difference_spread\": 25.8, \"route_group\": \"medium\", \"max_trip_hrs\": 1.1, \"max_trip_route_group\": 1.1, \"name\": \"Amador Regional Transit System\", \"caltrans_district\": \"10 - Stockton\", \"drmt_organization_name\": \"['recGiMlqrcpPxScAH']\", \"cutoff2\": 30, \"cutoff\": 0}, {\"calitp_itp_id\": 11, \"trip_key\": 1587477281743624360, \"trip_id\": \"t_1235350_b_414_tn_0\", \"shape_id\": \"p_850\", \"route_id\": \"570\", \"service_hours\": 0.93, \"trip_first_departure_ts\": 27000, \"trip_last_arrival_ts\": 30360, \"departure_hour\": 7, \"time_of_day\": \"AM Peak\", \"p25\": 0.91, \"p50\": 1.0, \"p75\": 1.0125, \"p50_trip\": 0, \"fastest_trip\": 0, \"car_duration_hours\": 0.59, \"competitive_route\": 1, \"bus_multiplier\": 1.58, \"bus_difference\": 20.4, \"num_trips\": 8, \"num_competitive\": 8, \"pct_trips_competitive\": 1.0, \"bus_difference_spread\": 25.8, \"route_group\": \"medium\", \"max_trip_hrs\": 1.1, \"max_trip_route_group\": 1.1, \"name\": \"Amador Regional Transit System\", \"caltrans_district\": \"10 - Stockton\", \"drmt_organization_name\": \"['recGiMlqrcpPxScAH']\", \"cutoff2\": 30, \"cutoff\": 0}, {\"calitp_itp_id\": 11, \"trip_key\": 2168053819301931957, \"trip_id\": \"t_1235354_b_414_tn_0\", \"shape_id\": \"p_866\", \"route_id\": \"570\", \"service_hours\": 1.0, \"trip_first_departure_ts\": 30480, \"trip_last_arrival_ts\": 34080, \"departure_hour\": 8, \"time_of_day\": \"AM Peak\", \"p25\": 0.91, \"p50\": 1.0, \"p75\": 1.0125, \"p50_trip\": 1, \"fastest_trip\": 0, \"car_duration_hours\": 0.59, \"competitive_route\": 1, \"bus_multiplier\": 1.69, \"bus_difference\": 24.6, \"num_trips\": 8, \"num_competitive\": 8, \"pct_trips_competitive\": 1.0, \"bus_difference_spread\": 25.8, \"route_group\": \"medium\", \"max_trip_hrs\": 1.1, \"max_trip_route_group\": 1.1, \"name\": \"Amador Regional Transit System\", \"caltrans_district\": \"10 - Stockton\", \"drmt_organization_name\": \"['recGiMlqrcpPxScAH']\", \"cutoff2\": 30, \"cutoff\": 0}, {\"calitp_itp_id\": 11, \"trip_key\": 6577890086136531193, \"trip_id\": \"t_1235351_b_414_tn_0\", \"shape_id\": \"p_850\", \"route_id\": \"570\", \"service_hours\": 1.0, \"trip_first_departure_ts\": 43200, \"trip_last_arrival_ts\": 46800, \"departure_hour\": 12, \"time_of_day\": \"Midday\", \"p25\": 0.91, \"p50\": 1.0, \"p75\": 1.0125, \"p50_trip\": 1, \"fastest_trip\": 0, \"car_duration_hours\": 0.59, \"competitive_route\": 1, \"bus_multiplier\": 1.69, \"bus_difference\": 24.6, \"num_trips\": 8, \"num_competitive\": 8, \"pct_trips_competitive\": 1.0, \"bus_difference_spread\": 25.8, \"route_group\": \"medium\", \"max_trip_hrs\": 1.1, \"max_trip_route_group\": 1.1, \"name\": \"Amador Regional Transit System\", \"caltrans_district\": \"10 - Stockton\", \"drmt_organization_name\": \"['recGiMlqrcpPxScAH']\", \"cutoff2\": 30, \"cutoff\": 0}, {\"calitp_itp_id\": 11, \"trip_key\": -8248405168340255919, \"trip_id\": \"t_1235355_b_414_tn_0\", \"shape_id\": \"p_866\", \"route_id\": \"570\", \"service_hours\": 1.0, \"trip_first_departure_ts\": 46920, \"trip_last_arrival_ts\": 50520, \"departure_hour\": 13, \"time_of_day\": \"Midday\", \"p25\": 0.91, \"p50\": 1.0, \"p75\": 1.0125, \"p50_trip\": 1, \"fastest_trip\": 0, \"car_duration_hours\": 0.59, \"competitive_route\": 1, \"bus_multiplier\": 1.69, \"bus_difference\": 24.6, \"num_trips\": 8, \"num_competitive\": 8, \"pct_trips_competitive\": 1.0, \"bus_difference_spread\": 25.8, \"route_group\": \"medium\", \"max_trip_hrs\": 1.1, \"max_trip_route_group\": 1.1, \"name\": \"Amador Regional Transit System\", \"caltrans_district\": \"10 - Stockton\", \"drmt_organization_name\": \"['recGiMlqrcpPxScAH']\", \"cutoff2\": 30, \"cutoff\": 0}, {\"calitp_itp_id\": 11, \"trip_key\": -228461201543392837, \"trip_id\": \"t_1235353_b_414_tn_0\", \"shape_id\": \"p_865\", \"route_id\": \"570\", \"service_hours\": 1.05, \"trip_first_departure_ts\": 23220, \"trip_last_arrival_ts\": 27000, \"departure_hour\": 6, \"time_of_day\": \"Owl Service\", \"p25\": 0.91, \"p50\": 1.0, \"p75\": 1.0125, \"p50_trip\": 0, \"fastest_trip\": 0, \"car_duration_hours\": 0.59, \"competitive_route\": 1, \"bus_multiplier\": 1.78, \"bus_difference\": 27.6, \"num_trips\": 8, \"num_competitive\": 8, \"pct_trips_competitive\": 1.0, \"bus_difference_spread\": 25.8, \"route_group\": \"medium\", \"max_trip_hrs\": 1.1, \"max_trip_route_group\": 1.1, \"name\": \"Amador Regional Transit System\", \"caltrans_district\": \"10 - Stockton\", \"drmt_organization_name\": \"['recGiMlqrcpPxScAH']\", \"cutoff2\": 30, \"cutoff\": 0}, {\"calitp_itp_id\": 11, \"trip_key\": -5585287787072383338, \"trip_id\": \"t_1235352_b_414_tn_0\", \"shape_id\": \"p_849\", \"route_id\": \"570\", \"service_hours\": 1.1, \"trip_first_departure_ts\": 59400, \"trip_last_arrival_ts\": 63360, \"departure_hour\": 16, \"time_of_day\": \"Midday\", \"p25\": 0.91, \"p50\": 1.0, \"p75\": 1.0125, \"p50_trip\": 0, \"fastest_trip\": 0, \"car_duration_hours\": 0.59, \"competitive_route\": 1, \"bus_multiplier\": 1.86, \"bus_difference\": 30.6, \"num_trips\": 8, \"num_competitive\": 8, \"pct_trips_competitive\": 1.0, \"bus_difference_spread\": 25.8, \"route_group\": \"medium\", \"max_trip_hrs\": 1.1, \"max_trip_route_group\": 1.1, \"name\": \"Amador Regional Transit System\", \"caltrans_district\": \"10 - Stockton\", \"drmt_organization_name\": \"['recGiMlqrcpPxScAH']\", \"cutoff2\": 30, \"cutoff\": 0}]}}, {\"mode\": \"vega-lite\"});\n",
       "</script>"
      ],
      "text/plain": [
       "alt.FacetChart(...)"
      ]
     },
     "metadata": {},
     "output_type": "display_data"
    }
   ],
   "source": [
    "route_group = \"medium\"\n",
    "try:\n",
    "    display_charts_for_route_group(df, route_group)\n",
    "except:\n",
    "    print(\"No routes meet this criteria.\")"
   ]
  },
  {
   "cell_type": "markdown",
   "id": "124b76d0-886c-4d03-92ac-f1bda3cda182",
   "metadata": {
    "papermill": {
     "duration": 0.018174,
     "end_time": "2022-05-09T20:16:42.970130",
     "exception": false,
     "start_time": "2022-05-09T20:16:42.951956",
     "status": "completed"
    },
    "tags": []
   },
   "source": [
    "### Long Routes (> 1.5 hrs)"
   ]
  },
  {
   "cell_type": "code",
   "execution_count": 15,
   "id": "ddc81b19-4c45-4c81-8b7a-5e0f394aa7a3",
   "metadata": {
    "execution": {
     "iopub.execute_input": "2022-05-09T20:16:43.007107Z",
     "iopub.status.busy": "2022-05-09T20:16:43.006586Z",
     "iopub.status.idle": "2022-05-09T20:16:43.235133Z",
     "shell.execute_reply": "2022-05-09T20:16:43.232678Z"
    },
    "jupyter": {
     "source_hidden": true
    },
    "papermill": {
     "duration": 0.25131,
     "end_time": "2022-05-09T20:16:43.238367",
     "exception": false,
     "start_time": "2022-05-09T20:16:42.987057",
     "status": "completed"
    },
    "tags": [
     "remove_input"
    ]
   },
   "outputs": [
    {
     "data": {
      "text/markdown": [
       "<br>These are routes that have **at least 25% of their trips take no more than an additional 40 min** compared to a car (up to 15 routes) are shown.<br>Within each route group, routes are sorted in descending order by % competitive trips and # trips below the additional time cut-off."
      ],
      "text/plain": [
       "<IPython.core.display.Markdown object>"
      ]
     },
     "metadata": {},
     "output_type": "display_data"
    },
    {
     "data": {
      "text/html": [
       "\n",
       "<div id=\"altair-viz-a3eabe0033f44370a500f3bb350b97b8\"></div>\n",
       "<script type=\"text/javascript\">\n",
       "  var VEGA_DEBUG = (typeof VEGA_DEBUG == \"undefined\") ? {} : VEGA_DEBUG;\n",
       "  (function(spec, embedOpt){\n",
       "    let outputDiv = document.currentScript.previousElementSibling;\n",
       "    if (outputDiv.id !== \"altair-viz-a3eabe0033f44370a500f3bb350b97b8\") {\n",
       "      outputDiv = document.getElementById(\"altair-viz-a3eabe0033f44370a500f3bb350b97b8\");\n",
       "    }\n",
       "    const paths = {\n",
       "      \"vega\": \"https://cdn.jsdelivr.net/npm//vega@5?noext\",\n",
       "      \"vega-lib\": \"https://cdn.jsdelivr.net/npm//vega-lib?noext\",\n",
       "      \"vega-lite\": \"https://cdn.jsdelivr.net/npm//vega-lite@4.17.0?noext\",\n",
       "      \"vega-embed\": \"https://cdn.jsdelivr.net/npm//vega-embed@6?noext\",\n",
       "    };\n",
       "\n",
       "    function maybeLoadScript(lib, version) {\n",
       "      var key = `${lib.replace(\"-\", \"\")}_version`;\n",
       "      return (VEGA_DEBUG[key] == version) ?\n",
       "        Promise.resolve(paths[lib]) :\n",
       "        new Promise(function(resolve, reject) {\n",
       "          var s = document.createElement('script');\n",
       "          document.getElementsByTagName(\"head\")[0].appendChild(s);\n",
       "          s.async = true;\n",
       "          s.onload = () => {\n",
       "            VEGA_DEBUG[key] = version;\n",
       "            return resolve(paths[lib]);\n",
       "          };\n",
       "          s.onerror = () => reject(`Error loading script: ${paths[lib]}`);\n",
       "          s.src = paths[lib];\n",
       "        });\n",
       "    }\n",
       "\n",
       "    function showError(err) {\n",
       "      outputDiv.innerHTML = `<div class=\"error\" style=\"color:red;\">${err}</div>`;\n",
       "      throw err;\n",
       "    }\n",
       "\n",
       "    function displayChart(vegaEmbed) {\n",
       "      vegaEmbed(outputDiv, spec, embedOpt)\n",
       "        .catch(err => showError(`Javascript Error: ${err.message}<br>This usually means there's a typo in your chart specification. See the javascript console for the full traceback.`));\n",
       "    }\n",
       "\n",
       "    if(typeof define === \"function\" && define.amd) {\n",
       "      requirejs.config({paths});\n",
       "      require([\"vega-embed\"], displayChart, err => showError(`Error loading script: ${err.message}`));\n",
       "    } else {\n",
       "      maybeLoadScript(\"vega\", \"5\")\n",
       "        .then(() => maybeLoadScript(\"vega-lite\", \"4.17.0\"))\n",
       "        .then(() => maybeLoadScript(\"vega-embed\", \"6\"))\n",
       "        .catch(showError)\n",
       "        .then(() => displayChart(vegaEmbed));\n",
       "    }\n",
       "  })({\"config\": {\"view\": {\"continuousWidth\": 400, \"continuousHeight\": 300, \"stroke\": null}, \"facet\": {\"spacing\": 0}}, \"data\": {\"name\": \"data-27cd8b42435cd401f2cbdf49f3ecd129\"}, \"facet\": {\"column\": {\"field\": \"route_id\", \"sort\": [\"569\"], \"title\": \"Route ID\", \"type\": \"nominal\"}}, \"spec\": {\"layer\": [{\"mark\": \"rule\", \"encoding\": {\"color\": {\"value\": \"black\"}, \"y\": {\"field\": \"cutoff\", \"type\": \"quantitative\"}}, \"selection\": {\"selector005\": {\"type\": \"interval\", \"bind\": \"scales\", \"encodings\": [\"x\", \"y\"]}}}, {\"mark\": {\"type\": \"point\", \"opacity\": 0.65, \"size\": 12, \"strokeWidth\": 1.1}, \"encoding\": {\"color\": {\"field\": \"time_of_day\", \"scale\": {\"range\": [\"#136C97\", \"#E16B26\", \"#F6BF16\", \"#00896B\", \"#7790A3\", \"#5B559C\"]}, \"sort\": [\"AM Peak\", \"Midday\", \"PM Peak\", \"Owl Service\"], \"title\": \"Time of Day\", \"type\": \"nominal\"}, \"tooltip\": [{\"field\": \"route_id\", \"type\": \"nominal\"}, {\"field\": \"trip_id\", \"type\": \"nominal\"}, {\"field\": \"service_hours\", \"type\": \"quantitative\"}, {\"field\": \"car_duration_hours\", \"type\": \"quantitative\"}, {\"field\": \"bus_multiplier\", \"type\": \"quantitative\"}, {\"field\": \"bus_difference\", \"type\": \"quantitative\"}, {\"field\": \"num_trips\", \"type\": \"quantitative\"}, {\"field\": \"num_competitive\", \"type\": \"quantitative\"}, {\"field\": \"pct_trips_competitive\", \"type\": \"quantitative\"}, {\"field\": \"p25\", \"type\": \"quantitative\"}, {\"field\": \"p50\", \"type\": \"quantitative\"}, {\"field\": \"p75\", \"type\": \"quantitative\"}], \"x\": {\"axis\": {\"grid\": false, \"labels\": false, \"ticks\": true, \"values\": [0]}, \"field\": \"jitter\", \"scale\": {}, \"title\": null, \"type\": \"quantitative\"}, \"y\": {\"field\": \"bus_multiplier\", \"scale\": {\"domain\": [-0.25, 2.5]}, \"title\": \"Ratio of Bus to Car Travel Time\", \"type\": \"quantitative\"}}, \"transform\": [{\"calculate\": \"sqrt(-2*log(random()))*cos(2*PI*random())\", \"as\": \"jitter\"}], \"width\": 50}, {\"layer\": [{\"mark\": {\"type\": \"point\", \"opacity\": 0.6, \"size\": 20, \"strokeWidth\": 1.3}, \"encoding\": {\"color\": {\"value\": \"#323434\"}, \"y\": {\"field\": \"bus_multiplier\", \"type\": \"quantitative\"}}, \"transform\": [{\"filter\": \"(datum.p50_trip === 1)\"}]}, {\"mark\": {\"type\": \"text\", \"align\": \"center\", \"baseline\": \"middle\"}, \"encoding\": {\"color\": {\"value\": \"black\"}, \"text\": {\"field\": \"pct_trips_competitive\", \"format\": \".0%\", \"type\": \"quantitative\"}, \"tooltip\": [{\"field\": \"route_id\", \"type\": \"nominal\"}, {\"field\": \"trip_id\", \"type\": \"nominal\"}, {\"field\": \"service_hours\", \"type\": \"quantitative\"}, {\"field\": \"car_duration_hours\", \"type\": \"quantitative\"}, {\"field\": \"bus_multiplier\", \"type\": \"quantitative\"}, {\"field\": \"bus_difference\", \"type\": \"quantitative\"}, {\"field\": \"num_trips\", \"type\": \"quantitative\"}, {\"field\": \"num_competitive\", \"type\": \"quantitative\"}, {\"field\": \"pct_trips_competitive\", \"type\": \"quantitative\"}, {\"field\": \"p25\", \"type\": \"quantitative\"}, {\"field\": \"p50\", \"type\": \"quantitative\"}, {\"field\": \"p75\", \"type\": \"quantitative\"}], \"x\": {\"value\": 30}, \"y\": {\"value\": 15}}, \"transform\": [{\"calculate\": \"sqrt(-2*log(random()))*cos(2*PI*random())\", \"as\": \"jitter\"}, {\"filter\": \"(datum.fastest_trip === 1)\"}]}]}]}, \"resolve\": {\"scale\": {\"y\": \"shared\"}}, \"title\": \"Ratio of Bus to Car Travel Time\", \"$schema\": \"https://vega.github.io/schema/vega-lite/v4.17.0.json\", \"datasets\": {\"data-27cd8b42435cd401f2cbdf49f3ecd129\": [{\"calitp_itp_id\": 11, \"trip_key\": 593832735237289932, \"trip_id\": \"t_1529_b_414_tn_0\", \"shape_id\": \"p_867\", \"route_id\": \"569\", \"service_hours\": 1.42, \"trip_first_departure_ts\": 27120, \"trip_last_arrival_ts\": 32220, \"departure_hour\": 7, \"time_of_day\": \"AM Peak\", \"p25\": 1.48, \"p50\": 1.5150000000000001, \"p75\": 1.5475, \"p50_trip\": 0, \"fastest_trip\": 1, \"car_duration_hours\": 0.89, \"competitive_route\": 1, \"bus_multiplier\": 1.6, \"bus_difference\": 31.8, \"num_trips\": 4, \"num_competitive\": 4, \"pct_trips_competitive\": 1.0, \"bus_difference_spread\": 10.8, \"route_group\": \"long\", \"max_trip_hrs\": 1.6, \"max_trip_route_group\": 1.93, \"name\": \"Amador Regional Transit System\", \"caltrans_district\": \"10 - Stockton\", \"drmt_organization_name\": \"['recGiMlqrcpPxScAH']\", \"cutoff2\": 40, \"cutoff\": 2}, {\"calitp_itp_id\": 11, \"trip_key\": 2849629540374377473, \"trip_id\": \"t_1530_b_414_tn_0\", \"shape_id\": \"p_867\", \"route_id\": \"569\", \"service_hours\": 1.5, \"trip_first_departure_ts\": 61560, \"trip_last_arrival_ts\": 66960, \"departure_hour\": 17, \"time_of_day\": \"PM Peak\", \"p25\": 1.48, \"p50\": 1.5150000000000001, \"p75\": 1.5475, \"p50_trip\": 0, \"fastest_trip\": 0, \"car_duration_hours\": 0.89, \"competitive_route\": 1, \"bus_multiplier\": 1.69, \"bus_difference\": 36.6, \"num_trips\": 4, \"num_competitive\": 4, \"pct_trips_competitive\": 1.0, \"bus_difference_spread\": 10.8, \"route_group\": \"long\", \"max_trip_hrs\": 1.6, \"max_trip_route_group\": 1.93, \"name\": \"Amador Regional Transit System\", \"caltrans_district\": \"10 - Stockton\", \"drmt_organization_name\": \"['recGiMlqrcpPxScAH']\", \"cutoff2\": 40, \"cutoff\": 2}, {\"calitp_itp_id\": 11, \"trip_key\": -6324348899433350338, \"trip_id\": \"t_1528_b_414_tn_0\", \"shape_id\": \"p_859\", \"route_id\": \"569\", \"service_hours\": 1.53, \"trip_first_departure_ts\": 21600, \"trip_last_arrival_ts\": 27120, \"departure_hour\": 6, \"time_of_day\": \"Owl Service\", \"p25\": 1.48, \"p50\": 1.5150000000000001, \"p75\": 1.5475, \"p50_trip\": 1, \"fastest_trip\": 0, \"car_duration_hours\": 0.89, \"competitive_route\": 1, \"bus_multiplier\": 1.72, \"bus_difference\": 38.4, \"num_trips\": 4, \"num_competitive\": 4, \"pct_trips_competitive\": 1.0, \"bus_difference_spread\": 10.8, \"route_group\": \"long\", \"max_trip_hrs\": 1.6, \"max_trip_route_group\": 1.93, \"name\": \"Amador Regional Transit System\", \"caltrans_district\": \"10 - Stockton\", \"drmt_organization_name\": \"['recGiMlqrcpPxScAH']\", \"cutoff2\": 40, \"cutoff\": 2}, {\"calitp_itp_id\": 11, \"trip_key\": -7066308270664786304, \"trip_id\": \"t_1542_b_414_tn_0\", \"shape_id\": \"p_859\", \"route_id\": \"569\", \"service_hours\": 1.6, \"trip_first_departure_ts\": 55800, \"trip_last_arrival_ts\": 61560, \"departure_hour\": 15, \"time_of_day\": \"Midday\", \"p25\": 1.48, \"p50\": 1.5150000000000001, \"p75\": 1.5475, \"p50_trip\": 0, \"fastest_trip\": 0, \"car_duration_hours\": 0.89, \"competitive_route\": 1, \"bus_multiplier\": 1.8, \"bus_difference\": 42.6, \"num_trips\": 4, \"num_competitive\": 4, \"pct_trips_competitive\": 1.0, \"bus_difference_spread\": 10.8, \"route_group\": \"long\", \"max_trip_hrs\": 1.6, \"max_trip_route_group\": 1.93, \"name\": \"Amador Regional Transit System\", \"caltrans_district\": \"10 - Stockton\", \"drmt_organization_name\": \"['recGiMlqrcpPxScAH']\", \"cutoff2\": 40, \"cutoff\": 2}]}}, {\"mode\": \"vega-lite\"});\n",
       "</script>"
      ],
      "text/plain": [
       "alt.FacetChart(...)"
      ]
     },
     "metadata": {},
     "output_type": "display_data"
    },
    {
     "data": {
      "text/html": [
       "\n",
       "<div id=\"altair-viz-3aff3331e80d4feb86b840518bb8fff2\"></div>\n",
       "<script type=\"text/javascript\">\n",
       "  var VEGA_DEBUG = (typeof VEGA_DEBUG == \"undefined\") ? {} : VEGA_DEBUG;\n",
       "  (function(spec, embedOpt){\n",
       "    let outputDiv = document.currentScript.previousElementSibling;\n",
       "    if (outputDiv.id !== \"altair-viz-3aff3331e80d4feb86b840518bb8fff2\") {\n",
       "      outputDiv = document.getElementById(\"altair-viz-3aff3331e80d4feb86b840518bb8fff2\");\n",
       "    }\n",
       "    const paths = {\n",
       "      \"vega\": \"https://cdn.jsdelivr.net/npm//vega@5?noext\",\n",
       "      \"vega-lib\": \"https://cdn.jsdelivr.net/npm//vega-lib?noext\",\n",
       "      \"vega-lite\": \"https://cdn.jsdelivr.net/npm//vega-lite@4.17.0?noext\",\n",
       "      \"vega-embed\": \"https://cdn.jsdelivr.net/npm//vega-embed@6?noext\",\n",
       "    };\n",
       "\n",
       "    function maybeLoadScript(lib, version) {\n",
       "      var key = `${lib.replace(\"-\", \"\")}_version`;\n",
       "      return (VEGA_DEBUG[key] == version) ?\n",
       "        Promise.resolve(paths[lib]) :\n",
       "        new Promise(function(resolve, reject) {\n",
       "          var s = document.createElement('script');\n",
       "          document.getElementsByTagName(\"head\")[0].appendChild(s);\n",
       "          s.async = true;\n",
       "          s.onload = () => {\n",
       "            VEGA_DEBUG[key] = version;\n",
       "            return resolve(paths[lib]);\n",
       "          };\n",
       "          s.onerror = () => reject(`Error loading script: ${paths[lib]}`);\n",
       "          s.src = paths[lib];\n",
       "        });\n",
       "    }\n",
       "\n",
       "    function showError(err) {\n",
       "      outputDiv.innerHTML = `<div class=\"error\" style=\"color:red;\">${err}</div>`;\n",
       "      throw err;\n",
       "    }\n",
       "\n",
       "    function displayChart(vegaEmbed) {\n",
       "      vegaEmbed(outputDiv, spec, embedOpt)\n",
       "        .catch(err => showError(`Javascript Error: ${err.message}<br>This usually means there's a typo in your chart specification. See the javascript console for the full traceback.`));\n",
       "    }\n",
       "\n",
       "    if(typeof define === \"function\" && define.amd) {\n",
       "      requirejs.config({paths});\n",
       "      require([\"vega-embed\"], displayChart, err => showError(`Error loading script: ${err.message}`));\n",
       "    } else {\n",
       "      maybeLoadScript(\"vega\", \"5\")\n",
       "        .then(() => maybeLoadScript(\"vega-lite\", \"4.17.0\"))\n",
       "        .then(() => maybeLoadScript(\"vega-embed\", \"6\"))\n",
       "        .catch(showError)\n",
       "        .then(() => displayChart(vegaEmbed));\n",
       "    }\n",
       "  })({\"config\": {\"view\": {\"continuousWidth\": 400, \"continuousHeight\": 300, \"stroke\": null}, \"facet\": {\"spacing\": 0}}, \"data\": {\"name\": \"data-405a84b8b856afbc3fc548a190331dbd\"}, \"facet\": {\"column\": {\"field\": \"route_id\", \"sort\": [\"569\"], \"title\": \"Route ID\", \"type\": \"nominal\"}}, \"spec\": {\"layer\": [{\"mark\": \"rule\", \"encoding\": {\"color\": {\"value\": \"black\"}, \"y\": {\"field\": \"cutoff\", \"type\": \"quantitative\"}}, \"selection\": {\"selector006\": {\"type\": \"interval\", \"bind\": \"scales\", \"encodings\": [\"x\", \"y\"]}}}, {\"mark\": {\"type\": \"rule\", \"strokeDash\": [3, 3]}, \"encoding\": {\"color\": {\"value\": \"#323434\"}, \"y\": {\"field\": \"cutoff2\", \"type\": \"quantitative\"}}}, {\"mark\": {\"type\": \"point\", \"opacity\": 0.65, \"size\": 12, \"strokeWidth\": 1.1}, \"encoding\": {\"color\": {\"field\": \"time_of_day\", \"scale\": {\"range\": [\"#136C97\", \"#E16B26\", \"#F6BF16\", \"#00896B\", \"#7790A3\", \"#5B559C\"]}, \"sort\": [\"AM Peak\", \"Midday\", \"PM Peak\", \"Owl Service\"], \"title\": \"Time of Day\", \"type\": \"nominal\"}, \"tooltip\": [{\"field\": \"route_id\", \"type\": \"nominal\"}, {\"field\": \"trip_id\", \"type\": \"nominal\"}, {\"field\": \"service_hours\", \"type\": \"quantitative\"}, {\"field\": \"car_duration_hours\", \"type\": \"quantitative\"}, {\"field\": \"bus_multiplier\", \"type\": \"quantitative\"}, {\"field\": \"bus_difference\", \"type\": \"quantitative\"}, {\"field\": \"num_trips\", \"type\": \"quantitative\"}, {\"field\": \"num_competitive\", \"type\": \"quantitative\"}, {\"field\": \"pct_trips_competitive\", \"type\": \"quantitative\"}, {\"field\": \"p25\", \"type\": \"quantitative\"}, {\"field\": \"p50\", \"type\": \"quantitative\"}, {\"field\": \"p75\", \"type\": \"quantitative\"}], \"x\": {\"axis\": {\"grid\": false, \"labels\": false, \"ticks\": true, \"values\": [0]}, \"field\": \"jitter\", \"scale\": {}, \"title\": null, \"type\": \"quantitative\"}, \"y\": {\"field\": \"bus_difference\", \"scale\": {\"domain\": [-5, 45.0]}, \"title\": \"Difference in Bus to Car Travel Time (min)\", \"type\": \"quantitative\"}}, \"transform\": [{\"calculate\": \"sqrt(-2*log(random()))*cos(2*PI*random())\", \"as\": \"jitter\"}], \"width\": 50}, {\"layer\": [{\"mark\": {\"type\": \"point\", \"opacity\": 0.6, \"size\": 20, \"strokeWidth\": 1.3}, \"encoding\": {\"color\": {\"value\": \"#323434\"}, \"y\": {\"field\": \"bus_difference\", \"type\": \"quantitative\"}}, \"transform\": [{\"filter\": \"(datum.p50_trip === 1)\"}]}, {\"mark\": {\"type\": \"text\", \"align\": \"center\", \"baseline\": \"middle\"}, \"encoding\": {\"color\": {\"value\": \"black\"}, \"text\": {\"field\": \"pct_trips_competitive\", \"format\": \".0%\", \"type\": \"quantitative\"}, \"tooltip\": [{\"field\": \"route_id\", \"type\": \"nominal\"}, {\"field\": \"trip_id\", \"type\": \"nominal\"}, {\"field\": \"service_hours\", \"type\": \"quantitative\"}, {\"field\": \"car_duration_hours\", \"type\": \"quantitative\"}, {\"field\": \"bus_multiplier\", \"type\": \"quantitative\"}, {\"field\": \"bus_difference\", \"type\": \"quantitative\"}, {\"field\": \"num_trips\", \"type\": \"quantitative\"}, {\"field\": \"num_competitive\", \"type\": \"quantitative\"}, {\"field\": \"pct_trips_competitive\", \"type\": \"quantitative\"}, {\"field\": \"p25\", \"type\": \"quantitative\"}, {\"field\": \"p50\", \"type\": \"quantitative\"}, {\"field\": \"p75\", \"type\": \"quantitative\"}], \"x\": {\"value\": 30}, \"y\": {\"value\": 15}}, \"transform\": [{\"calculate\": \"sqrt(-2*log(random()))*cos(2*PI*random())\", \"as\": \"jitter\"}, {\"filter\": \"(datum.fastest_trip === 1)\"}]}]}]}, \"resolve\": {\"scale\": {\"y\": \"shared\"}}, \"title\": \"Difference in Bus to Car Travel Time (min)\", \"$schema\": \"https://vega.github.io/schema/vega-lite/v4.17.0.json\", \"datasets\": {\"data-405a84b8b856afbc3fc548a190331dbd\": [{\"calitp_itp_id\": 11, \"trip_key\": 593832735237289932, \"trip_id\": \"t_1529_b_414_tn_0\", \"shape_id\": \"p_867\", \"route_id\": \"569\", \"service_hours\": 1.42, \"trip_first_departure_ts\": 27120, \"trip_last_arrival_ts\": 32220, \"departure_hour\": 7, \"time_of_day\": \"AM Peak\", \"p25\": 1.48, \"p50\": 1.5150000000000001, \"p75\": 1.5475, \"p50_trip\": 0, \"fastest_trip\": 1, \"car_duration_hours\": 0.89, \"competitive_route\": 1, \"bus_multiplier\": 1.6, \"bus_difference\": 31.8, \"num_trips\": 4, \"num_competitive\": 4, \"pct_trips_competitive\": 1.0, \"bus_difference_spread\": 10.8, \"route_group\": \"long\", \"max_trip_hrs\": 1.6, \"max_trip_route_group\": 1.93, \"name\": \"Amador Regional Transit System\", \"caltrans_district\": \"10 - Stockton\", \"drmt_organization_name\": \"['recGiMlqrcpPxScAH']\", \"cutoff2\": 40, \"cutoff\": 0}, {\"calitp_itp_id\": 11, \"trip_key\": 2849629540374377473, \"trip_id\": \"t_1530_b_414_tn_0\", \"shape_id\": \"p_867\", \"route_id\": \"569\", \"service_hours\": 1.5, \"trip_first_departure_ts\": 61560, \"trip_last_arrival_ts\": 66960, \"departure_hour\": 17, \"time_of_day\": \"PM Peak\", \"p25\": 1.48, \"p50\": 1.5150000000000001, \"p75\": 1.5475, \"p50_trip\": 0, \"fastest_trip\": 0, \"car_duration_hours\": 0.89, \"competitive_route\": 1, \"bus_multiplier\": 1.69, \"bus_difference\": 36.6, \"num_trips\": 4, \"num_competitive\": 4, \"pct_trips_competitive\": 1.0, \"bus_difference_spread\": 10.8, \"route_group\": \"long\", \"max_trip_hrs\": 1.6, \"max_trip_route_group\": 1.93, \"name\": \"Amador Regional Transit System\", \"caltrans_district\": \"10 - Stockton\", \"drmt_organization_name\": \"['recGiMlqrcpPxScAH']\", \"cutoff2\": 40, \"cutoff\": 0}, {\"calitp_itp_id\": 11, \"trip_key\": -6324348899433350338, \"trip_id\": \"t_1528_b_414_tn_0\", \"shape_id\": \"p_859\", \"route_id\": \"569\", \"service_hours\": 1.53, \"trip_first_departure_ts\": 21600, \"trip_last_arrival_ts\": 27120, \"departure_hour\": 6, \"time_of_day\": \"Owl Service\", \"p25\": 1.48, \"p50\": 1.5150000000000001, \"p75\": 1.5475, \"p50_trip\": 1, \"fastest_trip\": 0, \"car_duration_hours\": 0.89, \"competitive_route\": 1, \"bus_multiplier\": 1.72, \"bus_difference\": 38.4, \"num_trips\": 4, \"num_competitive\": 4, \"pct_trips_competitive\": 1.0, \"bus_difference_spread\": 10.8, \"route_group\": \"long\", \"max_trip_hrs\": 1.6, \"max_trip_route_group\": 1.93, \"name\": \"Amador Regional Transit System\", \"caltrans_district\": \"10 - Stockton\", \"drmt_organization_name\": \"['recGiMlqrcpPxScAH']\", \"cutoff2\": 40, \"cutoff\": 0}, {\"calitp_itp_id\": 11, \"trip_key\": -7066308270664786304, \"trip_id\": \"t_1542_b_414_tn_0\", \"shape_id\": \"p_859\", \"route_id\": \"569\", \"service_hours\": 1.6, \"trip_first_departure_ts\": 55800, \"trip_last_arrival_ts\": 61560, \"departure_hour\": 15, \"time_of_day\": \"Midday\", \"p25\": 1.48, \"p50\": 1.5150000000000001, \"p75\": 1.5475, \"p50_trip\": 0, \"fastest_trip\": 0, \"car_duration_hours\": 0.89, \"competitive_route\": 1, \"bus_multiplier\": 1.8, \"bus_difference\": 42.6, \"num_trips\": 4, \"num_competitive\": 4, \"pct_trips_competitive\": 1.0, \"bus_difference_spread\": 10.8, \"route_group\": \"long\", \"max_trip_hrs\": 1.6, \"max_trip_route_group\": 1.93, \"name\": \"Amador Regional Transit System\", \"caltrans_district\": \"10 - Stockton\", \"drmt_organization_name\": \"['recGiMlqrcpPxScAH']\", \"cutoff2\": 40, \"cutoff\": 0}]}}, {\"mode\": \"vega-lite\"});\n",
       "</script>"
      ],
      "text/plain": [
       "alt.FacetChart(...)"
      ]
     },
     "metadata": {},
     "output_type": "display_data"
    }
   ],
   "source": [
    "route_group = \"long\"\n",
    "try:\n",
    "    display_charts_for_route_group(df, route_group)\n",
    "except:\n",
    "    print(\"No routes meet this criteria.\")"
   ]
  },
  {
   "cell_type": "markdown",
   "id": "ace75b5f-0442-4fbe-aebd-6c3a13ae13a7",
   "metadata": {
    "papermill": {
     "duration": 0.018834,
     "end_time": "2022-05-09T20:16:43.278707",
     "exception": false,
     "start_time": "2022-05-09T20:16:43.259873",
     "status": "completed"
    },
    "tags": []
   },
   "source": [
    "### GTFS Real-Time Speedmaps"
   ]
  },
  {
   "cell_type": "code",
   "execution_count": 16,
   "id": "a0a114a1-e975-4027-9daf-50029f5ef59f",
   "metadata": {
    "execution": {
     "iopub.execute_input": "2022-05-09T20:16:43.324099Z",
     "iopub.status.busy": "2022-05-09T20:16:43.323236Z",
     "iopub.status.idle": "2022-05-09T20:16:43.373001Z",
     "shell.execute_reply": "2022-05-09T20:16:43.372133Z"
    },
    "jupyter": {
     "source_hidden": true
    },
    "papermill": {
     "duration": 0.076461,
     "end_time": "2022-05-09T20:16:43.374953",
     "exception": false,
     "start_time": "2022-05-09T20:16:43.298492",
     "status": "completed"
    },
    "tags": [
     "remove_input"
    ]
   },
   "outputs": [
    {
     "data": {
      "text/html": [
       "No GTFS RT data available."
      ],
      "text/plain": [
       "<IPython.core.display.HTML object>"
      ]
     },
     "metadata": {},
     "output_type": "display_data"
    }
   ],
   "source": [
    "PORTFOLIO_SITE_YAML = \"../portfolio/analyses.yml\"\n",
    "\n",
    "# Grab list of ITP IDs with GTFS RT speedmaps\n",
    "rt_itp_id = deploy_portfolio_yaml.check_if_rt_data_available(PORTFOLIO_SITE_YAML)\n",
    "\n",
    "# Construct the URL \n",
    "RT_URL = (\"https://analysis.calitp.org/rt/\"\n",
    "          f\"district_{district_number}-{district_name}/\"\n",
    "          f\"speedmaps__itp_id_{itp_id}.html\"\n",
    "         ) \n",
    "\n",
    "if itp_id in rt_itp_id:\n",
    "    display(HTML(f'''<a href={RT_URL}>GTFS RT speedmaps here.</a>'''))\n",
    "\n",
    "else:\n",
    "    display(HTML(\"No GTFS RT data available.\"))"
   ]
  },
  {
   "cell_type": "code",
   "execution_count": null,
   "id": "5b680565-2230-4f2e-817c-718fad48d64c",
   "metadata": {
    "jupyter": {
     "source_hidden": true
    },
    "papermill": {
     "duration": 0.024564,
     "end_time": "2022-05-09T20:16:43.418462",
     "exception": false,
     "start_time": "2022-05-09T20:16:43.393898",
     "status": "completed"
    },
    "tags": [
     "remove_input"
    ]
   },
   "outputs": [],
   "source": []
  }
 ],
 "metadata": {
  "kernelspec": {
   "display_name": "Python 3 (ipykernel)",
   "language": "python",
   "name": "python3"
  },
  "language_info": {
   "codemirror_mode": {
    "name": "ipython",
    "version": 3
   },
   "file_extension": ".py",
   "mimetype": "text/x-python",
   "name": "python",
   "nbconvert_exporter": "python",
   "pygments_lexer": "ipython3",
   "version": "3.9.12"
  },
  "papermill": {
   "default_parameters": {},
   "duration": 29.129072,
   "end_time": "2022-05-09T20:16:45.921959",
   "environment_variables": {},
   "exception": null,
   "input_path": "bus_service_increase/competitive-parallel-routes.ipynb",
   "output_path": "portfolio/parallel_corridors/district_10-stockton/competitive-parallel-routes__itp_id_11.ipynb",
   "parameters": {
    "district": "10 - Stockton",
    "itp_id": 11
   },
   "start_time": "2022-05-09T20:16:16.792887",
   "version": "2.3.4"
  }
 },
 "nbformat": 4,
 "nbformat_minor": 5
}