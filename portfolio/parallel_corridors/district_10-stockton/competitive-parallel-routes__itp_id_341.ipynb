{
 "cells": [
  {
   "cell_type": "code",
   "execution_count": 1,
   "id": "95d00857-6a20-4529-a519-2cc7182928a9",
   "metadata": {
    "execution": {
     "iopub.execute_input": "2022-05-09T20:18:12.545748Z",
     "iopub.status.busy": "2022-05-09T20:18:12.545033Z",
     "iopub.status.idle": "2022-05-09T20:18:34.855075Z",
     "shell.execute_reply": "2022-05-09T20:18:34.853800Z"
    },
    "jupyter": {
     "source_hidden": true
    },
    "papermill": {
     "duration": 22.330498,
     "end_time": "2022-05-09T20:18:34.858875",
     "exception": false,
     "start_time": "2022-05-09T20:18:12.528377",
     "status": "completed"
    },
    "tags": [
     "remove_input"
    ]
   },
   "outputs": [],
   "source": [
    "%%capture\n",
    "import warnings\n",
    "warnings.filterwarnings('ignore')\n",
    "\n",
    "import altair as alt\n",
    "import calitp.magics\n",
    "import geopandas as gpd\n",
    "import intake\n",
    "import pandas as pd\n",
    "\n",
    "from IPython.display import display, Markdown, HTML\n",
    "\n",
    "import parallel_corridors_utils\n",
    "from shared_utils import styleguide\n",
    "import deploy_portfolio_yaml\n",
    "\n",
    "catalog = intake.open_catalog(\"./*.yml\")\n",
    "alt.renderers.enable(\"html\")"
   ]
  },
  {
   "cell_type": "code",
   "execution_count": 2,
   "id": "8af2a0c1-f3da-408d-9bea-11d9fbf8695d",
   "metadata": {
    "execution": {
     "iopub.execute_input": "2022-05-09T20:18:34.890717Z",
     "iopub.status.busy": "2022-05-09T20:18:34.890325Z",
     "iopub.status.idle": "2022-05-09T20:18:34.895496Z",
     "shell.execute_reply": "2022-05-09T20:18:34.894327Z"
    },
    "jupyter": {
     "source_hidden": true
    },
    "papermill": {
     "duration": 0.025668,
     "end_time": "2022-05-09T20:18:34.898882",
     "exception": false,
     "start_time": "2022-05-09T20:18:34.873214",
     "status": "completed"
    },
    "tags": [
     "parameters",
     "remove_input"
    ]
   },
   "outputs": [],
   "source": [
    "# parameters cell\n",
    "itp_id = 182"
   ]
  },
  {
   "cell_type": "code",
   "execution_count": 3,
   "id": "5ca8930b",
   "metadata": {
    "execution": {
     "iopub.execute_input": "2022-05-09T20:18:34.928207Z",
     "iopub.status.busy": "2022-05-09T20:18:34.927011Z",
     "iopub.status.idle": "2022-05-09T20:18:34.933386Z",
     "shell.execute_reply": "2022-05-09T20:18:34.932052Z"
    },
    "jupyter": {
     "source_hidden": true
    },
    "papermill": {
     "duration": 0.023118,
     "end_time": "2022-05-09T20:18:34.935898",
     "exception": false,
     "start_time": "2022-05-09T20:18:34.912780",
     "status": "completed"
    },
    "tags": [
     "injected-parameters",
     "remove_input"
    ]
   },
   "outputs": [],
   "source": [
    "# Parameters\n",
    "district = \"10 - Stockton\"\n",
    "itp_id = 341\n"
   ]
  },
  {
   "cell_type": "code",
   "execution_count": 4,
   "id": "9582aaf4-79ff-412a-b248-8d8d693ebd4f",
   "metadata": {
    "execution": {
     "iopub.execute_input": "2022-05-09T20:18:34.964833Z",
     "iopub.status.busy": "2022-05-09T20:18:34.964451Z",
     "iopub.status.idle": "2022-05-09T20:18:36.553504Z",
     "shell.execute_reply": "2022-05-09T20:18:36.552214Z"
    },
    "jupyter": {
     "source_hidden": true
    },
    "papermill": {
     "duration": 1.609189,
     "end_time": "2022-05-09T20:18:36.557617",
     "exception": false,
     "start_time": "2022-05-09T20:18:34.948428",
     "status": "completed"
    },
    "tags": [
     "remove_input"
    ]
   },
   "outputs": [],
   "source": [
    "df = catalog.competitive_route_variability.read()\n",
    "\n",
    "df = (df[(df.calitp_itp_id == itp_id) & \n",
    "         (df.route_group.notna())]\n",
    "      .reset_index(drop=True)\n",
    "     )\n",
    "\n",
    "\n",
    "if itp_id == 182:\n",
    "    df = df.assign(\n",
    "        route_id = df.route_id.str.replace('-13153', '').astype(int)\n",
    "    )"
   ]
  },
  {
   "cell_type": "code",
   "execution_count": 5,
   "id": "33ac4b06-f647-4dce-a625-8f2c1b37cc60",
   "metadata": {
    "execution": {
     "iopub.execute_input": "2022-05-09T20:18:36.614364Z",
     "iopub.status.busy": "2022-05-09T20:18:36.612875Z",
     "iopub.status.idle": "2022-05-09T20:18:36.629559Z",
     "shell.execute_reply": "2022-05-09T20:18:36.628332Z"
    },
    "jupyter": {
     "source_hidden": true
    },
    "papermill": {
     "duration": 0.046198,
     "end_time": "2022-05-09T20:18:36.634317",
     "exception": false,
     "start_time": "2022-05-09T20:18:36.588119",
     "status": "completed"
    },
    "tags": [
     "remove_input"
    ]
   },
   "outputs": [],
   "source": [
    "%%capture_parameters\n",
    "operator_name = df.name.iloc[0]\n",
    "district_number = f\"{df.caltrans_district.iloc[0].split('-')[0].strip()}\"\n",
    "district_name = f\"{df.caltrans_district.iloc[0].split('-')[1].strip().lower().replace(' ', '-')}\"\n",
    "\n",
    "itp_id, operator_name, district_number, district_name"
   ]
  },
  {
   "cell_type": "markdown",
   "id": "65bc6f5c-8348-42ee-b2dd-52057c406852",
   "metadata": {
    "papermill": {
     "duration": 0.02089,
     "end_time": "2022-05-09T20:18:36.680941",
     "exception": false,
     "start_time": "2022-05-09T20:18:36.660051",
     "status": "completed"
    },
    "tags": []
   },
   "source": [
    "# City of Tracy (ITP ID: 341)"
   ]
  },
  {
   "cell_type": "code",
   "execution_count": 6,
   "id": "a689c1ab-2c6c-4831-8d64-897f5986f571",
   "metadata": {
    "execution": {
     "iopub.execute_input": "2022-05-09T20:18:36.729760Z",
     "iopub.status.busy": "2022-05-09T20:18:36.728424Z",
     "iopub.status.idle": "2022-05-09T20:18:36.739726Z",
     "shell.execute_reply": "2022-05-09T20:18:36.738620Z"
    },
    "jupyter": {
     "source_hidden": true
    },
    "papermill": {
     "duration": 0.035139,
     "end_time": "2022-05-09T20:18:36.742343",
     "exception": false,
     "start_time": "2022-05-09T20:18:36.707204",
     "status": "completed"
    },
    "tags": [
     "remove_input"
    ]
   },
   "outputs": [
    {
     "data": {
      "text/html": [
       "<h1>Competitive & Parallel Routes</h1>"
      ],
      "text/plain": [
       "<IPython.core.display.HTML object>"
      ]
     },
     "metadata": {},
     "output_type": "display_data"
    }
   ],
   "source": [
    "display(HTML(\"<h1>Competitive & Parallel Routes</h1>\")) "
   ]
  },
  {
   "cell_type": "code",
   "execution_count": 7,
   "id": "2cb4d8d5-4760-40e4-85b1-cb833d8bb648",
   "metadata": {
    "execution": {
     "iopub.execute_input": "2022-05-09T20:18:36.775323Z",
     "iopub.status.busy": "2022-05-09T20:18:36.774580Z",
     "iopub.status.idle": "2022-05-09T20:18:49.188561Z",
     "shell.execute_reply": "2022-05-09T20:18:49.187330Z"
    },
    "jupyter": {
     "source_hidden": true
    },
    "papermill": {
     "duration": 12.434234,
     "end_time": "2022-05-09T20:18:49.191449",
     "exception": false,
     "start_time": "2022-05-09T20:18:36.757215",
     "status": "completed"
    },
    "tags": [
     "remove_input"
    ]
   },
   "outputs": [],
   "source": [
    "# Grab parameters for narrative text - clean up formatting here \n",
    "district = df.caltrans_district.iloc[0]\n",
    "formatted_date = pd.to_datetime(parallel_corridors_utils.SELECTED_DATE).strftime('%m-%d-%Y')\n",
    "\n",
    "PCT_COMPETITIVE_THRESHOLD = 0.75\n",
    "\n",
    "stats = parallel_corridors_utils.operator_parallel_competitive_stats(\n",
    "    itp_id, PCT_COMPETITIVE_THRESHOLD)\n",
    "\n",
    "pct_parallel = round(stats['parallel_routes'] / stats['num_routes'] * 100,1 )\n",
    "pct_competitive =  round(stats['competitive_routes'] / stats['num_routes'] * 100,1 )"
   ]
  },
  {
   "cell_type": "markdown",
   "id": "ab667928-5274-4490-82d9-4c39293209a4",
   "metadata": {
    "papermill": {
     "duration": 0.016187,
     "end_time": "2022-05-09T20:18:49.225295",
     "exception": false,
     "start_time": "2022-05-09T20:18:49.209108",
     "status": "completed"
    },
    "tags": []
   },
   "source": [
    "## Quick Stats"
   ]
  },
  {
   "cell_type": "code",
   "execution_count": 8,
   "id": "0416509d-dc62-4165-b62e-64f8b26e8b8e",
   "metadata": {
    "execution": {
     "iopub.execute_input": "2022-05-09T20:18:49.259983Z",
     "iopub.status.busy": "2022-05-09T20:18:49.259527Z",
     "iopub.status.idle": "2022-05-09T20:18:49.269270Z",
     "shell.execute_reply": "2022-05-09T20:18:49.268228Z"
    },
    "jupyter": {
     "source_hidden": true
    },
    "papermill": {
     "duration": 0.028362,
     "end_time": "2022-05-09T20:18:49.271663",
     "exception": false,
     "start_time": "2022-05-09T20:18:49.243301",
     "status": "completed"
    },
    "tags": [
     "remove_input"
    ]
   },
   "outputs": [
    {
     "data": {
      "text/markdown": [
       "**Bus routes in service**: 7 <br>**Parallel routes** to State Highway Network (SHN): 3 routes (42.9%)<br>**Competitive routes** against car travel: 2 routes (28.6%)"
      ],
      "text/plain": [
       "<IPython.core.display.Markdown object>"
      ]
     },
     "metadata": {},
     "output_type": "display_data"
    }
   ],
   "source": [
    "display(\n",
    "    Markdown(\n",
    "        f\"**Bus routes in service**: {stats['num_routes']} \"\n",
    "        \"<br>**Parallel routes** to State Highway Network (SHN): \"\n",
    "        f\"{stats['parallel_routes']} routes ({pct_parallel}%)\"\n",
    "        f\"<br>**Competitive routes** against car travel: {stats['competitive_routes']} routes ({pct_competitive}%)\"\n",
    "    )\n",
    ")"
   ]
  },
  {
   "cell_type": "code",
   "execution_count": 9,
   "id": "f9d6ab58-f0ee-460c-b6de-657490e1f386",
   "metadata": {
    "execution": {
     "iopub.execute_input": "2022-05-09T20:18:49.309289Z",
     "iopub.status.busy": "2022-05-09T20:18:49.308876Z",
     "iopub.status.idle": "2022-05-09T20:18:49.320171Z",
     "shell.execute_reply": "2022-05-09T20:18:49.318845Z"
    },
    "jupyter": {
     "source_hidden": true
    },
    "papermill": {
     "duration": 0.035378,
     "end_time": "2022-05-09T20:18:49.323042",
     "exception": false,
     "start_time": "2022-05-09T20:18:49.287664",
     "status": "completed"
    },
    "tags": [
     "remove_input"
    ]
   },
   "outputs": [],
   "source": [
    "def set_yaxis_range(df, y_col):\n",
    "    Y_MIN = df[y_col].min()\n",
    "    Y_MAX = df[y_col].max()\n",
    "    \n",
    "    return Y_MIN, Y_MAX\n",
    "\n",
    "# Rather than set it according to the operator, which can vary,\n",
    "# just use set thresholds for each group\n",
    "diff_cutoffs = parallel_corridors_utils.diff_cutoffs\n",
    "\n",
    "PCT_TRIPS_BELOW_CUTOFF = 0.25\n",
    "\n",
    "def top15_routes(df, route_group):\n",
    "    df2 = (df[df.route_group==route_group])\n",
    "    # Set a cut-off to enable sorting, where most of the trips are \n",
    "    # below a certain time difference cut-off, \n",
    "    # grab top 15 routes where majority of trips are below that cut-off \n",
    "\n",
    "    route_cols = [\"calitp_itp_id\", \"route_id\"]\n",
    "\n",
    "    df2 = df2.assign(\n",
    "        below_cutoff = df2.apply(lambda x: 1 if x.bus_difference <= diff_cutoffs[route_group] \n",
    "                                 else 0, axis=1),\n",
    "        num_trips = df2.groupby(route_cols)[\"trip_id\"].transform(\"count\")\n",
    "    )\n",
    "\n",
    "    df2[\"below_cutoff\"] = df2.groupby(route_cols)[\"below_cutoff\"].transform(\"sum\")\n",
    "    df2[\"pct_below_cutoff\"] = df2.below_cutoff.divide(df2.num_trips)\n",
    "\n",
    "    # At least half the trips are below that cut-off\n",
    "    # but show 15 max, otherwise, show less, since these won't be as interesting to operators\n",
    "    df3 = (df2[df2.pct_below_cutoff >= PCT_TRIPS_BELOW_CUTOFF]\n",
    "           .sort_values([\"calitp_itp_id\", \"below_cutoff\", \n",
    "                         \"pct_below_cutoff\", \"route_id\"],\n",
    "                        ascending = [True, False, False, True]\n",
    "                       )\n",
    "           .drop_duplicates(subset=[\"calitp_itp_id\", \"route_id\"])\n",
    "          ).head(15)\n",
    "    \n",
    "    return list(df3.route_id)"
   ]
  },
  {
   "cell_type": "code",
   "execution_count": 10,
   "id": "cf36d559-3349-4144-8086-8ac9ce937a5a",
   "metadata": {
    "execution": {
     "iopub.execute_input": "2022-05-09T20:18:49.362425Z",
     "iopub.status.busy": "2022-05-09T20:18:49.361304Z",
     "iopub.status.idle": "2022-05-09T20:18:49.368329Z",
     "shell.execute_reply": "2022-05-09T20:18:49.367317Z"
    },
    "jupyter": {
     "source_hidden": true
    },
    "papermill": {
     "duration": 0.028063,
     "end_time": "2022-05-09T20:18:49.370556",
     "exception": false,
     "start_time": "2022-05-09T20:18:49.342493",
     "status": "completed"
    },
    "tags": [
     "remove_input"
    ]
   },
   "outputs": [],
   "source": [
    "def caption_with_cutoff(cutoff):\n",
    "    sentence = (\n",
    "        f\"<br>These are routes that have **at least {int(PCT_TRIPS_BELOW_CUTOFF*100)}% \"\n",
    "        \"of their trips take no more than an \"\n",
    "        f\"additional {cutoff} min** compared to a car \"\n",
    "        \"(up to 15 routes) are shown.\"\n",
    "        \"<br>Within each route group, routes are sorted in descending order \"\n",
    "        \"by % competitive trips and # trips below the additional time cut-off.\"\n",
    "    )\n",
    "    return sentence\n",
    "\n",
    "CAPTIONS_DICT = {\n",
    "    \"short\": caption_with_cutoff(diff_cutoffs['short']),\n",
    "    \"medium\": caption_with_cutoff(diff_cutoffs['medium']),\n",
    "    \"long\": caption_with_cutoff(diff_cutoffs['long']),\n",
    "}"
   ]
  },
  {
   "cell_type": "code",
   "execution_count": 11,
   "id": "e4306d58-6944-47e9-afef-5d5b524c751f",
   "metadata": {
    "execution": {
     "iopub.execute_input": "2022-05-09T20:18:49.422011Z",
     "iopub.status.busy": "2022-05-09T20:18:49.421106Z",
     "iopub.status.idle": "2022-05-09T20:18:49.430079Z",
     "shell.execute_reply": "2022-05-09T20:18:49.428915Z"
    },
    "jupyter": {
     "source_hidden": true
    },
    "papermill": {
     "duration": 0.047991,
     "end_time": "2022-05-09T20:18:49.432883",
     "exception": false,
     "start_time": "2022-05-09T20:18:49.384892",
     "status": "completed"
    },
    "tags": [
     "remove_input"
    ]
   },
   "outputs": [],
   "source": [
    "def setup_charts(df, PCT_COMPETITIVE_THRESHOLD, route_group):\n",
    "    # Set up df for charting (cut-off at some threshold to show most competitive routes)\n",
    "    plot_me = (df[df.pct_trips_competitive > PCT_COMPETITIVE_THRESHOLD]\n",
    "           .drop(columns = \"geometry\")\n",
    "    )\n",
    "    \n",
    "    y_col1 = \"bus_multiplier\"\n",
    "    Y_MIN1, Y_MAX1 = set_yaxis_range(plot_me, y_col1)\n",
    "\n",
    "    y_col2 = \"bus_difference\"\n",
    "    Y_MIN2, Y_MAX2 = set_yaxis_range(plot_me, y_col2)\n",
    "     \n",
    "    subset_routes = top15_routes(plot_me, route_group)\n",
    "    \n",
    "    multiplier_chart = parallel_corridors_utils.make_stripplot(\n",
    "        plot_me[plot_me.route_id.isin(subset_routes)], \n",
    "        y_col1, Y_MIN = Y_MIN1, Y_MAX = Y_MAX1\n",
    "    )\n",
    "    \n",
    "    difference_chart = parallel_corridors_utils.make_stripplot(\n",
    "        plot_me[plot_me.route_id.isin(subset_routes)], \n",
    "        y_col2, Y_MIN = Y_MIN2, Y_MAX = Y_MAX2\n",
    "    )\n",
    "    \n",
    "    return subset_routes, multiplier_chart, difference_chart            "
   ]
  },
  {
   "cell_type": "code",
   "execution_count": 12,
   "id": "33a710e8-504c-4942-aa75-ff69f216956e",
   "metadata": {
    "execution": {
     "iopub.execute_input": "2022-05-09T20:18:49.468218Z",
     "iopub.status.busy": "2022-05-09T20:18:49.467035Z",
     "iopub.status.idle": "2022-05-09T20:18:49.473957Z",
     "shell.execute_reply": "2022-05-09T20:18:49.473215Z"
    },
    "jupyter": {
     "source_hidden": true
    },
    "papermill": {
     "duration": 0.027566,
     "end_time": "2022-05-09T20:18:49.476389",
     "exception": false,
     "start_time": "2022-05-09T20:18:49.448823",
     "status": "completed"
    },
    "tags": [
     "remove_input"
    ]
   },
   "outputs": [],
   "source": [
    "def display_charts_for_route_group(df, route_group):    \n",
    "    subset_routes, mult, diff  = setup_charts(df, PCT_COMPETITIVE_THRESHOLD, route_group)\n",
    "\n",
    "    if len(subset_routes) > 0:\n",
    "        display(Markdown(f\"{CAPTIONS_DICT[route_group]}\"))\n",
    "\n",
    "        display(mult)\n",
    "        display(diff)"
   ]
  },
  {
   "cell_type": "markdown",
   "id": "525f9b38-072b-46d1-96a8-1aa4b038357c",
   "metadata": {
    "papermill": {
     "duration": 0.022789,
     "end_time": "2022-05-09T20:18:49.514917",
     "exception": false,
     "start_time": "2022-05-09T20:18:49.492128",
     "status": "completed"
    },
    "tags": []
   },
   "source": [
    "## Viable Competitive Routes\n",
    "### Short Routes (< 1 hr)"
   ]
  },
  {
   "cell_type": "code",
   "execution_count": 13,
   "id": "57f7084c-2cf7-45c6-ba08-1609e0bd6ca5",
   "metadata": {
    "execution": {
     "iopub.execute_input": "2022-05-09T20:18:49.563344Z",
     "iopub.status.busy": "2022-05-09T20:18:49.562536Z",
     "iopub.status.idle": "2022-05-09T20:18:49.581608Z",
     "shell.execute_reply": "2022-05-09T20:18:49.580075Z"
    },
    "jupyter": {
     "source_hidden": true
    },
    "papermill": {
     "duration": 0.045194,
     "end_time": "2022-05-09T20:18:49.584141",
     "exception": false,
     "start_time": "2022-05-09T20:18:49.538947",
     "status": "completed"
    },
    "tags": [
     "remove_input"
    ]
   },
   "outputs": [
    {
     "name": "stdout",
     "output_type": "stream",
     "text": [
      "No routes meet this criteria.\n"
     ]
    }
   ],
   "source": [
    "# Allow for possibility that operator doesn't have routes that fall into certain route_groups\n",
    "# But, jupyterbook will not like markdown with f-string\n",
    "# separate out route_group and put in each cell, and use try/except + if to display...\n",
    "# but all 3 route groups must be displayed. just add sentence about why no routes were returned at the end\n",
    "route_group = \"short\"\n",
    "try:\n",
    "    display_charts_for_route_group(df, route_group)\n",
    "except:\n",
    "    print(\"No routes meet this criteria.\")"
   ]
  },
  {
   "cell_type": "markdown",
   "id": "c2931b6f-034d-4384-9e14-80b925e3b820",
   "metadata": {
    "papermill": {
     "duration": 0.019214,
     "end_time": "2022-05-09T20:18:49.620494",
     "exception": false,
     "start_time": "2022-05-09T20:18:49.601280",
     "status": "completed"
    },
    "tags": []
   },
   "source": [
    "### Medium Routes (1-1.5 hrs)"
   ]
  },
  {
   "cell_type": "code",
   "execution_count": 14,
   "id": "480edddc-4de0-48c2-ae4c-b0ceef8f28b5",
   "metadata": {
    "execution": {
     "iopub.execute_input": "2022-05-09T20:18:49.654952Z",
     "iopub.status.busy": "2022-05-09T20:18:49.654570Z",
     "iopub.status.idle": "2022-05-09T20:18:49.962159Z",
     "shell.execute_reply": "2022-05-09T20:18:49.959299Z"
    },
    "jupyter": {
     "source_hidden": true
    },
    "papermill": {
     "duration": 0.328354,
     "end_time": "2022-05-09T20:18:49.964700",
     "exception": false,
     "start_time": "2022-05-09T20:18:49.636346",
     "status": "completed"
    },
    "tags": [
     "remove_input"
    ]
   },
   "outputs": [
    {
     "data": {
      "text/markdown": [
       "<br>These are routes that have **at least 25% of their trips take no more than an additional 30 min** compared to a car (up to 15 routes) are shown.<br>Within each route group, routes are sorted in descending order by % competitive trips and # trips below the additional time cut-off."
      ],
      "text/plain": [
       "<IPython.core.display.Markdown object>"
      ]
     },
     "metadata": {},
     "output_type": "display_data"
    },
    {
     "data": {
      "text/html": [
       "\n",
       "<div id=\"altair-viz-7c203687594a4ae4960ebd1911dd6f8b\"></div>\n",
       "<script type=\"text/javascript\">\n",
       "  var VEGA_DEBUG = (typeof VEGA_DEBUG == \"undefined\") ? {} : VEGA_DEBUG;\n",
       "  (function(spec, embedOpt){\n",
       "    let outputDiv = document.currentScript.previousElementSibling;\n",
       "    if (outputDiv.id !== \"altair-viz-7c203687594a4ae4960ebd1911dd6f8b\") {\n",
       "      outputDiv = document.getElementById(\"altair-viz-7c203687594a4ae4960ebd1911dd6f8b\");\n",
       "    }\n",
       "    const paths = {\n",
       "      \"vega\": \"https://cdn.jsdelivr.net/npm//vega@5?noext\",\n",
       "      \"vega-lib\": \"https://cdn.jsdelivr.net/npm//vega-lib?noext\",\n",
       "      \"vega-lite\": \"https://cdn.jsdelivr.net/npm//vega-lite@4.17.0?noext\",\n",
       "      \"vega-embed\": \"https://cdn.jsdelivr.net/npm//vega-embed@6?noext\",\n",
       "    };\n",
       "\n",
       "    function maybeLoadScript(lib, version) {\n",
       "      var key = `${lib.replace(\"-\", \"\")}_version`;\n",
       "      return (VEGA_DEBUG[key] == version) ?\n",
       "        Promise.resolve(paths[lib]) :\n",
       "        new Promise(function(resolve, reject) {\n",
       "          var s = document.createElement('script');\n",
       "          document.getElementsByTagName(\"head\")[0].appendChild(s);\n",
       "          s.async = true;\n",
       "          s.onload = () => {\n",
       "            VEGA_DEBUG[key] = version;\n",
       "            return resolve(paths[lib]);\n",
       "          };\n",
       "          s.onerror = () => reject(`Error loading script: ${paths[lib]}`);\n",
       "          s.src = paths[lib];\n",
       "        });\n",
       "    }\n",
       "\n",
       "    function showError(err) {\n",
       "      outputDiv.innerHTML = `<div class=\"error\" style=\"color:red;\">${err}</div>`;\n",
       "      throw err;\n",
       "    }\n",
       "\n",
       "    function displayChart(vegaEmbed) {\n",
       "      vegaEmbed(outputDiv, spec, embedOpt)\n",
       "        .catch(err => showError(`Javascript Error: ${err.message}<br>This usually means there's a typo in your chart specification. See the javascript console for the full traceback.`));\n",
       "    }\n",
       "\n",
       "    if(typeof define === \"function\" && define.amd) {\n",
       "      requirejs.config({paths});\n",
       "      require([\"vega-embed\"], displayChart, err => showError(`Error loading script: ${err.message}`));\n",
       "    } else {\n",
       "      maybeLoadScript(\"vega\", \"5\")\n",
       "        .then(() => maybeLoadScript(\"vega-lite\", \"4.17.0\"))\n",
       "        .then(() => maybeLoadScript(\"vega-embed\", \"6\"))\n",
       "        .catch(showError)\n",
       "        .then(() => displayChart(vegaEmbed));\n",
       "    }\n",
       "  })({\"config\": {\"view\": {\"continuousWidth\": 400, \"continuousHeight\": 300, \"stroke\": null}, \"facet\": {\"spacing\": 0}}, \"data\": {\"name\": \"data-b1466ffe9a1bf7931b4f1a02a863ba32\"}, \"facet\": {\"column\": {\"field\": \"route_id\", \"sort\": [\"13525\", \"13524\"], \"title\": \"Route ID\", \"type\": \"nominal\"}}, \"spec\": {\"layer\": [{\"mark\": \"rule\", \"encoding\": {\"color\": {\"value\": \"black\"}, \"y\": {\"field\": \"cutoff\", \"type\": \"quantitative\"}}, \"selection\": {\"selector001\": {\"type\": \"interval\", \"bind\": \"scales\", \"encodings\": [\"x\", \"y\"]}}}, {\"mark\": {\"type\": \"point\", \"opacity\": 0.65, \"size\": 12, \"strokeWidth\": 1.1}, \"encoding\": {\"color\": {\"field\": \"time_of_day\", \"scale\": {\"range\": [\"#136C97\", \"#E16B26\", \"#F6BF16\", \"#00896B\", \"#7790A3\", \"#5B559C\"]}, \"sort\": [\"AM Peak\", \"Midday\", \"PM Peak\", \"Owl Service\"], \"title\": \"Time of Day\", \"type\": \"nominal\"}, \"tooltip\": [{\"field\": \"route_id\", \"type\": \"nominal\"}, {\"field\": \"trip_id\", \"type\": \"nominal\"}, {\"field\": \"service_hours\", \"type\": \"quantitative\"}, {\"field\": \"car_duration_hours\", \"type\": \"quantitative\"}, {\"field\": \"bus_multiplier\", \"type\": \"quantitative\"}, {\"field\": \"bus_difference\", \"type\": \"quantitative\"}, {\"field\": \"num_trips\", \"type\": \"quantitative\"}, {\"field\": \"num_competitive\", \"type\": \"quantitative\"}, {\"field\": \"pct_trips_competitive\", \"type\": \"quantitative\"}, {\"field\": \"p25\", \"type\": \"quantitative\"}, {\"field\": \"p50\", \"type\": \"quantitative\"}, {\"field\": \"p75\", \"type\": \"quantitative\"}], \"x\": {\"axis\": {\"grid\": false, \"labels\": false, \"ticks\": true, \"values\": [0]}, \"field\": \"jitter\", \"scale\": {}, \"title\": null, \"type\": \"quantitative\"}, \"y\": {\"field\": \"bus_multiplier\", \"scale\": {\"domain\": [-0.25, 2.5]}, \"title\": \"Ratio of Bus to Car Travel Time\", \"type\": \"quantitative\"}}, \"transform\": [{\"calculate\": \"sqrt(-2*log(random()))*cos(2*PI*random())\", \"as\": \"jitter\"}], \"width\": 50}, {\"layer\": [{\"mark\": {\"type\": \"point\", \"opacity\": 0.6, \"size\": 20, \"strokeWidth\": 1.3}, \"encoding\": {\"color\": {\"value\": \"#323434\"}, \"y\": {\"field\": \"bus_multiplier\", \"type\": \"quantitative\"}}, \"transform\": [{\"filter\": \"(datum.p50_trip === 1)\"}]}, {\"mark\": {\"type\": \"text\", \"align\": \"center\", \"baseline\": \"middle\"}, \"encoding\": {\"color\": {\"value\": \"black\"}, \"text\": {\"field\": \"pct_trips_competitive\", \"format\": \".0%\", \"type\": \"quantitative\"}, \"tooltip\": [{\"field\": \"route_id\", \"type\": \"nominal\"}, {\"field\": \"trip_id\", \"type\": \"nominal\"}, {\"field\": \"service_hours\", \"type\": \"quantitative\"}, {\"field\": \"car_duration_hours\", \"type\": \"quantitative\"}, {\"field\": \"bus_multiplier\", \"type\": \"quantitative\"}, {\"field\": \"bus_difference\", \"type\": \"quantitative\"}, {\"field\": \"num_trips\", \"type\": \"quantitative\"}, {\"field\": \"num_competitive\", \"type\": \"quantitative\"}, {\"field\": \"pct_trips_competitive\", \"type\": \"quantitative\"}, {\"field\": \"p25\", \"type\": \"quantitative\"}, {\"field\": \"p50\", \"type\": \"quantitative\"}, {\"field\": \"p75\", \"type\": \"quantitative\"}], \"x\": {\"value\": 30}, \"y\": {\"value\": 15}}, \"transform\": [{\"calculate\": \"sqrt(-2*log(random()))*cos(2*PI*random())\", \"as\": \"jitter\"}, {\"filter\": \"(datum.fastest_trip === 1)\"}]}]}]}, \"resolve\": {\"scale\": {\"y\": \"shared\"}}, \"title\": \"Ratio of Bus to Car Travel Time\", \"$schema\": \"https://vega.github.io/schema/vega-lite/v4.17.0.json\", \"datasets\": {\"data-b1466ffe9a1bf7931b4f1a02a863ba32\": [{\"calitp_itp_id\": 341, \"trip_key\": 3273416138300551864, \"trip_id\": \"t_1582751_b_31241_tn_0\", \"shape_id\": \"p_744870\", \"route_id\": \"13524\", \"service_hours\": 1.17, \"trip_first_departure_ts\": 33300, \"trip_last_arrival_ts\": 37500, \"departure_hour\": 9, \"time_of_day\": \"AM Peak\", \"p25\": 1.17, \"p50\": 1.25, \"p75\": 1.25, \"p50_trip\": 0, \"fastest_trip\": 0, \"car_duration_hours\": 0.68, \"competitive_route\": 1, \"bus_multiplier\": 1.72, \"bus_difference\": 29.4, \"num_trips\": 19, \"num_competitive\": 16, \"pct_trips_competitive\": 0.842, \"bus_difference_spread\": 15.0, \"route_group\": \"medium\", \"max_trip_hrs\": 1.42, \"max_trip_route_group\": 1.42, \"name\": \"City of Tracy\", \"caltrans_district\": \"10 - Stockton\", \"drmt_organization_name\": null, \"cutoff2\": 30, \"cutoff\": 2}, {\"calitp_itp_id\": 341, \"trip_key\": -8424452224539762809, \"trip_id\": \"t_1582743_b_31241_tn_0\", \"shape_id\": \"p_744870\", \"route_id\": \"13524\", \"service_hours\": 1.17, \"trip_first_departure_ts\": 24300, \"trip_last_arrival_ts\": 28500, \"departure_hour\": 6, \"time_of_day\": \"Owl Service\", \"p25\": 1.17, \"p50\": 1.25, \"p75\": 1.25, \"p50_trip\": 0, \"fastest_trip\": 0, \"car_duration_hours\": 0.68, \"competitive_route\": 1, \"bus_multiplier\": 1.72, \"bus_difference\": 29.4, \"num_trips\": 19, \"num_competitive\": 16, \"pct_trips_competitive\": 0.842, \"bus_difference_spread\": 15.0, \"route_group\": \"medium\", \"max_trip_hrs\": 1.42, \"max_trip_route_group\": 1.42, \"name\": \"City of Tracy\", \"caltrans_district\": \"10 - Stockton\", \"drmt_organization_name\": null, \"cutoff2\": 30, \"cutoff\": 2}, {\"calitp_itp_id\": 341, \"trip_key\": 1067918521926375207, \"trip_id\": \"t_1582744_b_31241_tn_0\", \"shape_id\": \"p_744870\", \"route_id\": \"13524\", \"service_hours\": 1.17, \"trip_first_departure_ts\": 28800, \"trip_last_arrival_ts\": 33000, \"departure_hour\": 8, \"time_of_day\": \"AM Peak\", \"p25\": 1.17, \"p50\": 1.25, \"p75\": 1.25, \"p50_trip\": 0, \"fastest_trip\": 0, \"car_duration_hours\": 0.68, \"competitive_route\": 1, \"bus_multiplier\": 1.72, \"bus_difference\": 29.4, \"num_trips\": 19, \"num_competitive\": 16, \"pct_trips_competitive\": 0.842, \"bus_difference_spread\": 15.0, \"route_group\": \"medium\", \"max_trip_hrs\": 1.42, \"max_trip_route_group\": 1.42, \"name\": \"City of Tracy\", \"caltrans_district\": \"10 - Stockton\", \"drmt_organization_name\": null, \"cutoff2\": 30, \"cutoff\": 2}, {\"calitp_itp_id\": 341, \"trip_key\": 4433041068593353937, \"trip_id\": \"t_1582748_b_31241_tn_0\", \"shape_id\": \"p_744870\", \"route_id\": \"13524\", \"service_hours\": 1.17, \"trip_first_departure_ts\": 39600, \"trip_last_arrival_ts\": 43800, \"departure_hour\": 11, \"time_of_day\": \"Midday\", \"p25\": 1.17, \"p50\": 1.25, \"p75\": 1.25, \"p50_trip\": 0, \"fastest_trip\": 0, \"car_duration_hours\": 0.68, \"competitive_route\": 1, \"bus_multiplier\": 1.72, \"bus_difference\": 29.4, \"num_trips\": 19, \"num_competitive\": 16, \"pct_trips_competitive\": 0.842, \"bus_difference_spread\": 15.0, \"route_group\": \"medium\", \"max_trip_hrs\": 1.42, \"max_trip_route_group\": 1.42, \"name\": \"City of Tracy\", \"caltrans_district\": \"10 - Stockton\", \"drmt_organization_name\": null, \"cutoff2\": 30, \"cutoff\": 2}, {\"calitp_itp_id\": 341, \"trip_key\": -2214776912358382331, \"trip_id\": \"t_1582752_b_31241_tn_0\", \"shape_id\": \"p_744870\", \"route_id\": \"13524\", \"service_hours\": 1.17, \"trip_first_departure_ts\": 37800, \"trip_last_arrival_ts\": 42000, \"departure_hour\": 10, \"time_of_day\": \"Midday\", \"p25\": 1.17, \"p50\": 1.25, \"p75\": 1.25, \"p50_trip\": 0, \"fastest_trip\": 0, \"car_duration_hours\": 0.68, \"competitive_route\": 1, \"bus_multiplier\": 1.72, \"bus_difference\": 29.4, \"num_trips\": 19, \"num_competitive\": 16, \"pct_trips_competitive\": 0.842, \"bus_difference_spread\": 15.0, \"route_group\": \"medium\", \"max_trip_hrs\": 1.42, \"max_trip_route_group\": 1.42, \"name\": \"City of Tracy\", \"caltrans_district\": \"10 - Stockton\", \"drmt_organization_name\": null, \"cutoff2\": 30, \"cutoff\": 2}, {\"calitp_itp_id\": 341, \"trip_key\": -7164748691853724673, \"trip_id\": \"t_1582749_b_31241_tn_0\", \"shape_id\": \"p_744870\", \"route_id\": \"13524\", \"service_hours\": 1.17, \"trip_first_departure_ts\": 54900, \"trip_last_arrival_ts\": 59100, \"departure_hour\": 15, \"time_of_day\": \"Midday\", \"p25\": 1.17, \"p50\": 1.25, \"p75\": 1.25, \"p50_trip\": 0, \"fastest_trip\": 1, \"car_duration_hours\": 0.68, \"competitive_route\": 1, \"bus_multiplier\": 1.72, \"bus_difference\": 29.4, \"num_trips\": 19, \"num_competitive\": 16, \"pct_trips_competitive\": 0.842, \"bus_difference_spread\": 15.0, \"route_group\": \"medium\", \"max_trip_hrs\": 1.42, \"max_trip_route_group\": 1.42, \"name\": \"City of Tracy\", \"caltrans_district\": \"10 - Stockton\", \"drmt_organization_name\": null, \"cutoff2\": 30, \"cutoff\": 2}, {\"calitp_itp_id\": 341, \"trip_key\": 830683484434739798, \"trip_id\": \"t_1582745_b_31241_tn_0\", \"shape_id\": \"p_744870\", \"route_id\": \"13524\", \"service_hours\": 1.17, \"trip_first_departure_ts\": 26100, \"trip_last_arrival_ts\": 30300, \"departure_hour\": 7, \"time_of_day\": \"AM Peak\", \"p25\": 1.17, \"p50\": 1.25, \"p75\": 1.25, \"p50_trip\": 0, \"fastest_trip\": 0, \"car_duration_hours\": 0.68, \"competitive_route\": 1, \"bus_multiplier\": 1.72, \"bus_difference\": 29.4, \"num_trips\": 19, \"num_competitive\": 16, \"pct_trips_competitive\": 0.842, \"bus_difference_spread\": 15.0, \"route_group\": \"medium\", \"max_trip_hrs\": 1.42, \"max_trip_route_group\": 1.42, \"name\": \"City of Tracy\", \"caltrans_district\": \"10 - Stockton\", \"drmt_organization_name\": null, \"cutoff2\": 30, \"cutoff\": 2}, {\"calitp_itp_id\": 341, \"trip_key\": 2928371681242192163, \"trip_id\": \"t_1582746_b_31241_tn_0\", \"shape_id\": \"p_744870\", \"route_id\": \"13524\", \"service_hours\": 1.17, \"trip_first_departure_ts\": 30600, \"trip_last_arrival_ts\": 34800, \"departure_hour\": 8, \"time_of_day\": \"AM Peak\", \"p25\": 1.17, \"p50\": 1.25, \"p75\": 1.25, \"p50_trip\": 0, \"fastest_trip\": 0, \"car_duration_hours\": 0.68, \"competitive_route\": 1, \"bus_multiplier\": 1.72, \"bus_difference\": 29.4, \"num_trips\": 19, \"num_competitive\": 16, \"pct_trips_competitive\": 0.842, \"bus_difference_spread\": 15.0, \"route_group\": \"medium\", \"max_trip_hrs\": 1.42, \"max_trip_route_group\": 1.42, \"name\": \"City of Tracy\", \"caltrans_district\": \"10 - Stockton\", \"drmt_organization_name\": null, \"cutoff2\": 30, \"cutoff\": 2}, {\"calitp_itp_id\": 341, \"trip_key\": -1334819812229007553, \"trip_id\": \"t_1582747_b_31241_tn_0\", \"shape_id\": \"p_744870\", \"route_id\": \"13524\", \"service_hours\": 1.17, \"trip_first_departure_ts\": 35100, \"trip_last_arrival_ts\": 39300, \"departure_hour\": 9, \"time_of_day\": \"AM Peak\", \"p25\": 1.17, \"p50\": 1.25, \"p75\": 1.25, \"p50_trip\": 0, \"fastest_trip\": 0, \"car_duration_hours\": 0.68, \"competitive_route\": 1, \"bus_multiplier\": 1.72, \"bus_difference\": 29.4, \"num_trips\": 19, \"num_competitive\": 16, \"pct_trips_competitive\": 0.842, \"bus_difference_spread\": 15.0, \"route_group\": \"medium\", \"max_trip_hrs\": 1.42, \"max_trip_route_group\": 1.42, \"name\": \"City of Tracy\", \"caltrans_district\": \"10 - Stockton\", \"drmt_organization_name\": null, \"cutoff2\": 30, \"cutoff\": 2}, {\"calitp_itp_id\": 341, \"trip_key\": -8260742221272562247, \"trip_id\": \"t_1582742_b_31241_tn_0\", \"shape_id\": \"p_744870\", \"route_id\": \"13524\", \"service_hours\": 1.25, \"trip_first_departure_ts\": 59400, \"trip_last_arrival_ts\": 63900, \"departure_hour\": 16, \"time_of_day\": \"Midday\", \"p25\": 1.17, \"p50\": 1.25, \"p75\": 1.25, \"p50_trip\": 1, \"fastest_trip\": 0, \"car_duration_hours\": 0.68, \"competitive_route\": 1, \"bus_multiplier\": 1.84, \"bus_difference\": 34.2, \"num_trips\": 19, \"num_competitive\": 16, \"pct_trips_competitive\": 0.842, \"bus_difference_spread\": 15.0, \"route_group\": \"medium\", \"max_trip_hrs\": 1.42, \"max_trip_route_group\": 1.42, \"name\": \"City of Tracy\", \"caltrans_district\": \"10 - Stockton\", \"drmt_organization_name\": null, \"cutoff2\": 30, \"cutoff\": 2}, {\"calitp_itp_id\": 341, \"trip_key\": 584514040564428682, \"trip_id\": \"t_1582756_b_31241_tn_0\", \"shape_id\": \"p_744870\", \"route_id\": \"13524\", \"service_hours\": 1.25, \"trip_first_departure_ts\": 57300, \"trip_last_arrival_ts\": 61800, \"departure_hour\": 15, \"time_of_day\": \"Midday\", \"p25\": 1.17, \"p50\": 1.25, \"p75\": 1.25, \"p50_trip\": 1, \"fastest_trip\": 0, \"car_duration_hours\": 0.68, \"competitive_route\": 1, \"bus_multiplier\": 1.84, \"bus_difference\": 34.2, \"num_trips\": 19, \"num_competitive\": 16, \"pct_trips_competitive\": 0.842, \"bus_difference_spread\": 15.0, \"route_group\": \"medium\", \"max_trip_hrs\": 1.42, \"max_trip_route_group\": 1.42, \"name\": \"City of Tracy\", \"caltrans_district\": \"10 - Stockton\", \"drmt_organization_name\": null, \"cutoff2\": 30, \"cutoff\": 2}, {\"calitp_itp_id\": 341, \"trip_key\": -3376692746768093366, \"trip_id\": \"t_1582754_b_31241_tn_0\", \"shape_id\": \"p_744870\", \"route_id\": \"13524\", \"service_hours\": 1.25, \"trip_first_departure_ts\": 47700, \"trip_last_arrival_ts\": 52200, \"departure_hour\": 13, \"time_of_day\": \"Midday\", \"p25\": 1.17, \"p50\": 1.25, \"p75\": 1.25, \"p50_trip\": 1, \"fastest_trip\": 0, \"car_duration_hours\": 0.68, \"competitive_route\": 1, \"bus_multiplier\": 1.84, \"bus_difference\": 34.2, \"num_trips\": 19, \"num_competitive\": 16, \"pct_trips_competitive\": 0.842, \"bus_difference_spread\": 15.0, \"route_group\": \"medium\", \"max_trip_hrs\": 1.42, \"max_trip_route_group\": 1.42, \"name\": \"City of Tracy\", \"caltrans_district\": \"10 - Stockton\", \"drmt_organization_name\": null, \"cutoff2\": 30, \"cutoff\": 2}, {\"calitp_itp_id\": 341, \"trip_key\": -7305182815255252792, \"trip_id\": \"t_1582729_b_31241_tn_0\", \"shape_id\": \"p_744870\", \"route_id\": \"13524\", \"service_hours\": 1.25, \"trip_first_departure_ts\": 66900, \"trip_last_arrival_ts\": 71400, \"departure_hour\": 18, \"time_of_day\": \"PM Peak\", \"p25\": 1.17, \"p50\": 1.25, \"p75\": 1.25, \"p50_trip\": 1, \"fastest_trip\": 0, \"car_duration_hours\": 0.68, \"competitive_route\": 1, \"bus_multiplier\": 1.84, \"bus_difference\": 34.2, \"num_trips\": 19, \"num_competitive\": 16, \"pct_trips_competitive\": 0.842, \"bus_difference_spread\": 15.0, \"route_group\": \"medium\", \"max_trip_hrs\": 1.42, \"max_trip_route_group\": 1.42, \"name\": \"City of Tracy\", \"caltrans_district\": \"10 - Stockton\", \"drmt_organization_name\": null, \"cutoff2\": 30, \"cutoff\": 2}, {\"calitp_itp_id\": 341, \"trip_key\": -8746524917141551110, \"trip_id\": \"t_1582755_b_31241_tn_0\", \"shape_id\": \"p_744870\", \"route_id\": \"13524\", \"service_hours\": 1.25, \"trip_first_departure_ts\": 52500, \"trip_last_arrival_ts\": 57000, \"departure_hour\": 14, \"time_of_day\": \"Midday\", \"p25\": 1.17, \"p50\": 1.25, \"p75\": 1.25, \"p50_trip\": 1, \"fastest_trip\": 0, \"car_duration_hours\": 0.68, \"competitive_route\": 1, \"bus_multiplier\": 1.84, \"bus_difference\": 34.2, \"num_trips\": 19, \"num_competitive\": 16, \"pct_trips_competitive\": 0.842, \"bus_difference_spread\": 15.0, \"route_group\": \"medium\", \"max_trip_hrs\": 1.42, \"max_trip_route_group\": 1.42, \"name\": \"City of Tracy\", \"caltrans_district\": \"10 - Stockton\", \"drmt_organization_name\": null, \"cutoff2\": 30, \"cutoff\": 2}, {\"calitp_itp_id\": 341, \"trip_key\": 6576026122937157907, \"trip_id\": \"t_1582757_b_31241_tn_0\", \"shape_id\": \"p_744870\", \"route_id\": \"13524\", \"service_hours\": 1.25, \"trip_first_departure_ts\": 62100, \"trip_last_arrival_ts\": 66600, \"departure_hour\": 17, \"time_of_day\": \"PM Peak\", \"p25\": 1.17, \"p50\": 1.25, \"p75\": 1.25, \"p50_trip\": 1, \"fastest_trip\": 0, \"car_duration_hours\": 0.68, \"competitive_route\": 1, \"bus_multiplier\": 1.84, \"bus_difference\": 34.2, \"num_trips\": 19, \"num_competitive\": 16, \"pct_trips_competitive\": 0.842, \"bus_difference_spread\": 15.0, \"route_group\": \"medium\", \"max_trip_hrs\": 1.42, \"max_trip_route_group\": 1.42, \"name\": \"City of Tracy\", \"caltrans_district\": \"10 - Stockton\", \"drmt_organization_name\": null, \"cutoff2\": 30, \"cutoff\": 2}, {\"calitp_itp_id\": 341, \"trip_key\": 4108108809527396172, \"trip_id\": \"t_1582750_b_31241_tn_0\", \"shape_id\": \"p_744870\", \"route_id\": \"13524\", \"service_hours\": 1.25, \"trip_first_departure_ts\": 64200, \"trip_last_arrival_ts\": 68700, \"departure_hour\": 17, \"time_of_day\": \"PM Peak\", \"p25\": 1.17, \"p50\": 1.25, \"p75\": 1.25, \"p50_trip\": 1, \"fastest_trip\": 0, \"car_duration_hours\": 0.68, \"competitive_route\": 1, \"bus_multiplier\": 1.84, \"bus_difference\": 34.2, \"num_trips\": 19, \"num_competitive\": 16, \"pct_trips_competitive\": 0.842, \"bus_difference_spread\": 15.0, \"route_group\": \"medium\", \"max_trip_hrs\": 1.42, \"max_trip_route_group\": 1.42, \"name\": \"City of Tracy\", \"caltrans_district\": \"10 - Stockton\", \"drmt_organization_name\": null, \"cutoff2\": 30, \"cutoff\": 2}, {\"calitp_itp_id\": 341, \"trip_key\": -3668030610167856819, \"trip_id\": \"t_1582753_b_31241_tn_0\", \"shape_id\": \"p_744870\", \"route_id\": \"13524\", \"service_hours\": 1.42, \"trip_first_departure_ts\": 42300, \"trip_last_arrival_ts\": 47400, \"departure_hour\": 11, \"time_of_day\": \"Midday\", \"p25\": 1.17, \"p50\": 1.25, \"p75\": 1.25, \"p50_trip\": 0, \"fastest_trip\": 0, \"car_duration_hours\": 0.68, \"competitive_route\": 1, \"bus_multiplier\": 2.09, \"bus_difference\": 44.4, \"num_trips\": 19, \"num_competitive\": 16, \"pct_trips_competitive\": 0.842, \"bus_difference_spread\": 15.0, \"route_group\": \"medium\", \"max_trip_hrs\": 1.42, \"max_trip_route_group\": 1.42, \"name\": \"City of Tracy\", \"caltrans_district\": \"10 - Stockton\", \"drmt_organization_name\": null, \"cutoff2\": 30, \"cutoff\": 2}, {\"calitp_itp_id\": 341, \"trip_key\": 2589776370580046484, \"trip_id\": \"t_1582740_b_31241_tn_0\", \"shape_id\": \"p_744870\", \"route_id\": \"13524\", \"service_hours\": 1.42, \"trip_first_departure_ts\": 44100, \"trip_last_arrival_ts\": 49200, \"departure_hour\": 12, \"time_of_day\": \"Midday\", \"p25\": 1.17, \"p50\": 1.25, \"p75\": 1.25, \"p50_trip\": 0, \"fastest_trip\": 0, \"car_duration_hours\": 0.68, \"competitive_route\": 1, \"bus_multiplier\": 2.09, \"bus_difference\": 44.4, \"num_trips\": 19, \"num_competitive\": 16, \"pct_trips_competitive\": 0.842, \"bus_difference_spread\": 15.0, \"route_group\": \"medium\", \"max_trip_hrs\": 1.42, \"max_trip_route_group\": 1.42, \"name\": \"City of Tracy\", \"caltrans_district\": \"10 - Stockton\", \"drmt_organization_name\": null, \"cutoff2\": 30, \"cutoff\": 2}, {\"calitp_itp_id\": 341, \"trip_key\": 7537216030100030304, \"trip_id\": \"t_1582741_b_31241_tn_0\", \"shape_id\": \"p_744870\", \"route_id\": \"13524\", \"service_hours\": 1.42, \"trip_first_departure_ts\": 49500, \"trip_last_arrival_ts\": 54600, \"departure_hour\": 13, \"time_of_day\": \"Midday\", \"p25\": 1.17, \"p50\": 1.25, \"p75\": 1.25, \"p50_trip\": 0, \"fastest_trip\": 0, \"car_duration_hours\": 0.68, \"competitive_route\": 1, \"bus_multiplier\": 2.09, \"bus_difference\": 44.4, \"num_trips\": 19, \"num_competitive\": 16, \"pct_trips_competitive\": 0.842, \"bus_difference_spread\": 15.0, \"route_group\": \"medium\", \"max_trip_hrs\": 1.42, \"max_trip_route_group\": 1.42, \"name\": \"City of Tracy\", \"caltrans_district\": \"10 - Stockton\", \"drmt_organization_name\": null, \"cutoff2\": 30, \"cutoff\": 2}, {\"calitp_itp_id\": 341, \"trip_key\": -5391431990439876503, \"trip_id\": \"t_1582758_b_31241_tn_0\", \"shape_id\": \"p_744902\", \"route_id\": \"13525\", \"service_hours\": 1.0, \"trip_first_departure_ts\": 25200, \"trip_last_arrival_ts\": 28800, \"departure_hour\": 7, \"time_of_day\": \"AM Peak\", \"p25\": 1.0, \"p50\": 1.17, \"p75\": 1.17, \"p50_trip\": 0, \"fastest_trip\": 0, \"car_duration_hours\": 0.61, \"competitive_route\": 1, \"bus_multiplier\": 1.64, \"bus_difference\": 23.4, \"num_trips\": 20, \"num_competitive\": 18, \"pct_trips_competitive\": 0.9, \"bus_difference_spread\": 25.2, \"route_group\": \"medium\", \"max_trip_hrs\": 1.42, \"max_trip_route_group\": 1.42, \"name\": \"City of Tracy\", \"caltrans_district\": \"10 - Stockton\", \"drmt_organization_name\": null, \"cutoff2\": 30, \"cutoff\": 2}, {\"calitp_itp_id\": 341, \"trip_key\": -8147866072512567284, \"trip_id\": \"t_1582730_b_31241_tn_0\", \"shape_id\": \"p_744902\", \"route_id\": \"13525\", \"service_hours\": 1.0, \"trip_first_departure_ts\": 66900, \"trip_last_arrival_ts\": 70500, \"departure_hour\": 18, \"time_of_day\": \"PM Peak\", \"p25\": 1.0, \"p50\": 1.17, \"p75\": 1.17, \"p50_trip\": 0, \"fastest_trip\": 1, \"car_duration_hours\": 0.61, \"competitive_route\": 1, \"bus_multiplier\": 1.64, \"bus_difference\": 23.4, \"num_trips\": 20, \"num_competitive\": 18, \"pct_trips_competitive\": 0.9, \"bus_difference_spread\": 25.2, \"route_group\": \"medium\", \"max_trip_hrs\": 1.42, \"max_trip_route_group\": 1.42, \"name\": \"City of Tracy\", \"caltrans_district\": \"10 - Stockton\", \"drmt_organization_name\": null, \"cutoff2\": 30, \"cutoff\": 2}, {\"calitp_itp_id\": 341, \"trip_key\": 260284697458458549, \"trip_id\": \"t_1582759_b_31241_tn_0\", \"shape_id\": \"p_744902\", \"route_id\": \"13525\", \"service_hours\": 1.0, \"trip_first_departure_ts\": 29100, \"trip_last_arrival_ts\": 32700, \"departure_hour\": 8, \"time_of_day\": \"AM Peak\", \"p25\": 1.0, \"p50\": 1.17, \"p75\": 1.17, \"p50_trip\": 0, \"fastest_trip\": 0, \"car_duration_hours\": 0.61, \"competitive_route\": 1, \"bus_multiplier\": 1.64, \"bus_difference\": 23.4, \"num_trips\": 20, \"num_competitive\": 18, \"pct_trips_competitive\": 0.9, \"bus_difference_spread\": 25.2, \"route_group\": \"medium\", \"max_trip_hrs\": 1.42, \"max_trip_route_group\": 1.42, \"name\": \"City of Tracy\", \"caltrans_district\": \"10 - Stockton\", \"drmt_organization_name\": null, \"cutoff2\": 30, \"cutoff\": 2}, {\"calitp_itp_id\": 341, \"trip_key\": 5372105835276176057, \"trip_id\": \"t_1582760_b_31241_tn_0\", \"shape_id\": \"p_744902\", \"route_id\": \"13525\", \"service_hours\": 1.0, \"trip_first_departure_ts\": 27000, \"trip_last_arrival_ts\": 30600, \"departure_hour\": 7, \"time_of_day\": \"AM Peak\", \"p25\": 1.0, \"p50\": 1.17, \"p75\": 1.17, \"p50_trip\": 0, \"fastest_trip\": 0, \"car_duration_hours\": 0.61, \"competitive_route\": 1, \"bus_multiplier\": 1.64, \"bus_difference\": 23.4, \"num_trips\": 20, \"num_competitive\": 18, \"pct_trips_competitive\": 0.9, \"bus_difference_spread\": 25.2, \"route_group\": \"medium\", \"max_trip_hrs\": 1.42, \"max_trip_route_group\": 1.42, \"name\": \"City of Tracy\", \"caltrans_district\": \"10 - Stockton\", \"drmt_organization_name\": null, \"cutoff2\": 30, \"cutoff\": 2}, {\"calitp_itp_id\": 341, \"trip_key\": 4311782331808619072, \"trip_id\": \"t_1582774_b_31241_tn_0\", \"shape_id\": \"p_744902\", \"route_id\": \"13525\", \"service_hours\": 1.0, \"trip_first_departure_ts\": 64800, \"trip_last_arrival_ts\": 68400, \"departure_hour\": 18, \"time_of_day\": \"PM Peak\", \"p25\": 1.0, \"p50\": 1.17, \"p75\": 1.17, \"p50_trip\": 0, \"fastest_trip\": 0, \"car_duration_hours\": 0.61, \"competitive_route\": 1, \"bus_multiplier\": 1.64, \"bus_difference\": 23.4, \"num_trips\": 20, \"num_competitive\": 18, \"pct_trips_competitive\": 0.9, \"bus_difference_spread\": 25.2, \"route_group\": \"medium\", \"max_trip_hrs\": 1.42, \"max_trip_route_group\": 1.42, \"name\": \"City of Tracy\", \"caltrans_district\": \"10 - Stockton\", \"drmt_organization_name\": null, \"cutoff2\": 30, \"cutoff\": 2}, {\"calitp_itp_id\": 341, \"trip_key\": -3317800707075710484, \"trip_id\": \"t_1582761_b_31241_tn_0\", \"shape_id\": \"p_744902\", \"route_id\": \"13525\", \"service_hours\": 1.0, \"trip_first_departure_ts\": 30900, \"trip_last_arrival_ts\": 34500, \"departure_hour\": 8, \"time_of_day\": \"AM Peak\", \"p25\": 1.0, \"p50\": 1.17, \"p75\": 1.17, \"p50_trip\": 0, \"fastest_trip\": 0, \"car_duration_hours\": 0.61, \"competitive_route\": 1, \"bus_multiplier\": 1.64, \"bus_difference\": 23.4, \"num_trips\": 20, \"num_competitive\": 18, \"pct_trips_competitive\": 0.9, \"bus_difference_spread\": 25.2, \"route_group\": \"medium\", \"max_trip_hrs\": 1.42, \"max_trip_route_group\": 1.42, \"name\": \"City of Tracy\", \"caltrans_district\": \"10 - Stockton\", \"drmt_organization_name\": null, \"cutoff2\": 30, \"cutoff\": 2}, {\"calitp_itp_id\": 341, \"trip_key\": 5525649063399916120, \"trip_id\": \"t_1582768_b_31241_tn_0\", \"shape_id\": \"p_744902\", \"route_id\": \"13525\", \"service_hours\": 1.08, \"trip_first_departure_ts\": 62400, \"trip_last_arrival_ts\": 66300, \"departure_hour\": 17, \"time_of_day\": \"PM Peak\", \"p25\": 1.0, \"p50\": 1.17, \"p75\": 1.17, \"p50_trip\": 0, \"fastest_trip\": 0, \"car_duration_hours\": 0.61, \"competitive_route\": 1, \"bus_multiplier\": 1.77, \"bus_difference\": 28.2, \"num_trips\": 20, \"num_competitive\": 18, \"pct_trips_competitive\": 0.9, \"bus_difference_spread\": 25.2, \"route_group\": \"medium\", \"max_trip_hrs\": 1.42, \"max_trip_route_group\": 1.42, \"name\": \"City of Tracy\", \"caltrans_district\": \"10 - Stockton\", \"drmt_organization_name\": null, \"cutoff2\": 30, \"cutoff\": 2}, {\"calitp_itp_id\": 341, \"trip_key\": -7621160083869894305, \"trip_id\": \"t_1582765_b_31241_tn_0\", \"shape_id\": \"p_744902\", \"route_id\": \"13525\", \"service_hours\": 1.08, \"trip_first_departure_ts\": 43800, \"trip_last_arrival_ts\": 47700, \"departure_hour\": 12, \"time_of_day\": \"Midday\", \"p25\": 1.0, \"p50\": 1.17, \"p75\": 1.17, \"p50_trip\": 0, \"fastest_trip\": 0, \"car_duration_hours\": 0.61, \"competitive_route\": 1, \"bus_multiplier\": 1.77, \"bus_difference\": 28.2, \"num_trips\": 20, \"num_competitive\": 18, \"pct_trips_competitive\": 0.9, \"bus_difference_spread\": 25.2, \"route_group\": \"medium\", \"max_trip_hrs\": 1.42, \"max_trip_route_group\": 1.42, \"name\": \"City of Tracy\", \"caltrans_district\": \"10 - Stockton\", \"drmt_organization_name\": null, \"cutoff2\": 30, \"cutoff\": 2}, {\"calitp_itp_id\": 341, \"trip_key\": 2591109908603089160, \"trip_id\": \"t_1582763_b_31241_tn_0\", \"shape_id\": \"p_744902\", \"route_id\": \"13525\", \"service_hours\": 1.17, \"trip_first_departure_ts\": 34800, \"trip_last_arrival_ts\": 39000, \"departure_hour\": 9, \"time_of_day\": \"AM Peak\", \"p25\": 1.0, \"p50\": 1.17, \"p75\": 1.17, \"p50_trip\": 1, \"fastest_trip\": 0, \"car_duration_hours\": 0.61, \"competitive_route\": 1, \"bus_multiplier\": 1.92, \"bus_difference\": 33.6, \"num_trips\": 20, \"num_competitive\": 18, \"pct_trips_competitive\": 0.9, \"bus_difference_spread\": 25.2, \"route_group\": \"medium\", \"max_trip_hrs\": 1.42, \"max_trip_route_group\": 1.42, \"name\": \"City of Tracy\", \"caltrans_district\": \"10 - Stockton\", \"drmt_organization_name\": null, \"cutoff2\": 30, \"cutoff\": 2}, {\"calitp_itp_id\": 341, \"trip_key\": -8023373100664779453, \"trip_id\": \"t_1582766_b_31241_tn_0\", \"shape_id\": \"p_744902\", \"route_id\": \"13525\", \"service_hours\": 1.17, \"trip_first_departure_ts\": 48000, \"trip_last_arrival_ts\": 52200, \"departure_hour\": 13, \"time_of_day\": \"Midday\", \"p25\": 1.0, \"p50\": 1.17, \"p75\": 1.17, \"p50_trip\": 1, \"fastest_trip\": 0, \"car_duration_hours\": 0.61, \"competitive_route\": 1, \"bus_multiplier\": 1.92, \"bus_difference\": 33.6, \"num_trips\": 20, \"num_competitive\": 18, \"pct_trips_competitive\": 0.9, \"bus_difference_spread\": 25.2, \"route_group\": \"medium\", \"max_trip_hrs\": 1.42, \"max_trip_route_group\": 1.42, \"name\": \"City of Tracy\", \"caltrans_district\": \"10 - Stockton\", \"drmt_organization_name\": null, \"cutoff2\": 30, \"cutoff\": 2}, {\"calitp_itp_id\": 341, \"trip_key\": 3862904626022008111, \"trip_id\": \"t_1582775_b_31241_tn_0\", \"shape_id\": \"p_744902\", \"route_id\": \"13525\", \"service_hours\": 1.17, \"trip_first_departure_ts\": 55800, \"trip_last_arrival_ts\": 60000, \"departure_hour\": 15, \"time_of_day\": \"Midday\", \"p25\": 1.0, \"p50\": 1.17, \"p75\": 1.17, \"p50_trip\": 1, \"fastest_trip\": 0, \"car_duration_hours\": 0.61, \"competitive_route\": 1, \"bus_multiplier\": 1.92, \"bus_difference\": 33.6, \"num_trips\": 20, \"num_competitive\": 18, \"pct_trips_competitive\": 0.9, \"bus_difference_spread\": 25.2, \"route_group\": \"medium\", \"max_trip_hrs\": 1.42, \"max_trip_route_group\": 1.42, \"name\": \"City of Tracy\", \"caltrans_district\": \"10 - Stockton\", \"drmt_organization_name\": null, \"cutoff2\": 30, \"cutoff\": 2}, {\"calitp_itp_id\": 341, \"trip_key\": 7315210854481212957, \"trip_id\": \"t_1582772_b_31241_tn_0\", \"shape_id\": \"p_744902\", \"route_id\": \"13525\", \"service_hours\": 1.17, \"trip_first_departure_ts\": 42000, \"trip_last_arrival_ts\": 46200, \"departure_hour\": 11, \"time_of_day\": \"Midday\", \"p25\": 1.0, \"p50\": 1.17, \"p75\": 1.17, \"p50_trip\": 1, \"fastest_trip\": 0, \"car_duration_hours\": 0.61, \"competitive_route\": 1, \"bus_multiplier\": 1.92, \"bus_difference\": 33.6, \"num_trips\": 20, \"num_competitive\": 18, \"pct_trips_competitive\": 0.9, \"bus_difference_spread\": 25.2, \"route_group\": \"medium\", \"max_trip_hrs\": 1.42, \"max_trip_route_group\": 1.42, \"name\": \"City of Tracy\", \"caltrans_district\": \"10 - Stockton\", \"drmt_organization_name\": null, \"cutoff2\": 30, \"cutoff\": 2}, {\"calitp_itp_id\": 341, \"trip_key\": -4853870524780812778, \"trip_id\": \"t_1582776_b_31241_tn_0\", \"shape_id\": \"p_744902\", \"route_id\": \"13525\", \"service_hours\": 1.17, \"trip_first_departure_ts\": 60300, \"trip_last_arrival_ts\": 64500, \"departure_hour\": 16, \"time_of_day\": \"Midday\", \"p25\": 1.0, \"p50\": 1.17, \"p75\": 1.17, \"p50_trip\": 1, \"fastest_trip\": 0, \"car_duration_hours\": 0.61, \"competitive_route\": 1, \"bus_multiplier\": 1.92, \"bus_difference\": 33.6, \"num_trips\": 20, \"num_competitive\": 18, \"pct_trips_competitive\": 0.9, \"bus_difference_spread\": 25.2, \"route_group\": \"medium\", \"max_trip_hrs\": 1.42, \"max_trip_route_group\": 1.42, \"name\": \"City of Tracy\", \"caltrans_district\": \"10 - Stockton\", \"drmt_organization_name\": null, \"cutoff2\": 30, \"cutoff\": 2}, {\"calitp_itp_id\": 341, \"trip_key\": -3605698434873398812, \"trip_id\": \"t_1582773_b_31241_tn_0\", \"shape_id\": \"p_744902\", \"route_id\": \"13525\", \"service_hours\": 1.17, \"trip_first_departure_ts\": 46500, \"trip_last_arrival_ts\": 50700, \"departure_hour\": 12, \"time_of_day\": \"Midday\", \"p25\": 1.0, \"p50\": 1.17, \"p75\": 1.17, \"p50_trip\": 1, \"fastest_trip\": 0, \"car_duration_hours\": 0.61, \"competitive_route\": 1, \"bus_multiplier\": 1.92, \"bus_difference\": 33.6, \"num_trips\": 20, \"num_competitive\": 18, \"pct_trips_competitive\": 0.9, \"bus_difference_spread\": 25.2, \"route_group\": \"medium\", \"max_trip_hrs\": 1.42, \"max_trip_route_group\": 1.42, \"name\": \"City of Tracy\", \"caltrans_district\": \"10 - Stockton\", \"drmt_organization_name\": null, \"cutoff2\": 30, \"cutoff\": 2}, {\"calitp_itp_id\": 341, \"trip_key\": -5326287608567369178, \"trip_id\": \"t_1582770_b_31241_tn_0\", \"shape_id\": \"p_744902\", \"route_id\": \"13525\", \"service_hours\": 1.17, \"trip_first_departure_ts\": 33000, \"trip_last_arrival_ts\": 37200, \"departure_hour\": 9, \"time_of_day\": \"AM Peak\", \"p25\": 1.0, \"p50\": 1.17, \"p75\": 1.17, \"p50_trip\": 1, \"fastest_trip\": 0, \"car_duration_hours\": 0.61, \"competitive_route\": 1, \"bus_multiplier\": 1.92, \"bus_difference\": 33.6, \"num_trips\": 20, \"num_competitive\": 18, \"pct_trips_competitive\": 0.9, \"bus_difference_spread\": 25.2, \"route_group\": \"medium\", \"max_trip_hrs\": 1.42, \"max_trip_route_group\": 1.42, \"name\": \"City of Tracy\", \"caltrans_district\": \"10 - Stockton\", \"drmt_organization_name\": null, \"cutoff2\": 30, \"cutoff\": 2}, {\"calitp_itp_id\": 341, \"trip_key\": -633351998048307329, \"trip_id\": \"t_1582771_b_31241_tn_0\", \"shape_id\": \"p_744902\", \"route_id\": \"13525\", \"service_hours\": 1.17, \"trip_first_departure_ts\": 37500, \"trip_last_arrival_ts\": 41700, \"departure_hour\": 10, \"time_of_day\": \"Midday\", \"p25\": 1.0, \"p50\": 1.17, \"p75\": 1.17, \"p50_trip\": 1, \"fastest_trip\": 0, \"car_duration_hours\": 0.61, \"competitive_route\": 1, \"bus_multiplier\": 1.92, \"bus_difference\": 33.6, \"num_trips\": 20, \"num_competitive\": 18, \"pct_trips_competitive\": 0.9, \"bus_difference_spread\": 25.2, \"route_group\": \"medium\", \"max_trip_hrs\": 1.42, \"max_trip_route_group\": 1.42, \"name\": \"City of Tracy\", \"caltrans_district\": \"10 - Stockton\", \"drmt_organization_name\": null, \"cutoff2\": 30, \"cutoff\": 2}, {\"calitp_itp_id\": 341, \"trip_key\": 5232440720755930226, \"trip_id\": \"t_1582764_b_31241_tn_0\", \"shape_id\": \"p_744902\", \"route_id\": \"13525\", \"service_hours\": 1.17, \"trip_first_departure_ts\": 39300, \"trip_last_arrival_ts\": 43500, \"departure_hour\": 10, \"time_of_day\": \"Midday\", \"p25\": 1.0, \"p50\": 1.17, \"p75\": 1.17, \"p50_trip\": 1, \"fastest_trip\": 0, \"car_duration_hours\": 0.61, \"competitive_route\": 1, \"bus_multiplier\": 1.92, \"bus_difference\": 33.6, \"num_trips\": 20, \"num_competitive\": 18, \"pct_trips_competitive\": 0.9, \"bus_difference_spread\": 25.2, \"route_group\": \"medium\", \"max_trip_hrs\": 1.42, \"max_trip_route_group\": 1.42, \"name\": \"City of Tracy\", \"caltrans_district\": \"10 - Stockton\", \"drmt_organization_name\": null, \"cutoff2\": 30, \"cutoff\": 2}, {\"calitp_itp_id\": 341, \"trip_key\": 5130011539184660331, \"trip_id\": \"t_1582767_b_31241_tn_0\", \"shape_id\": \"p_744902\", \"route_id\": \"13525\", \"service_hours\": 1.17, \"trip_first_departure_ts\": 57900, \"trip_last_arrival_ts\": 62100, \"departure_hour\": 16, \"time_of_day\": \"Midday\", \"p25\": 1.0, \"p50\": 1.17, \"p75\": 1.17, \"p50_trip\": 1, \"fastest_trip\": 0, \"car_duration_hours\": 0.61, \"competitive_route\": 1, \"bus_multiplier\": 1.92, \"bus_difference\": 33.6, \"num_trips\": 20, \"num_competitive\": 18, \"pct_trips_competitive\": 0.9, \"bus_difference_spread\": 25.2, \"route_group\": \"medium\", \"max_trip_hrs\": 1.42, \"max_trip_route_group\": 1.42, \"name\": \"City of Tracy\", \"caltrans_district\": \"10 - Stockton\", \"drmt_organization_name\": null, \"cutoff2\": 30, \"cutoff\": 2}, {\"calitp_itp_id\": 341, \"trip_key\": 6782688894397669509, \"trip_id\": \"t_1582769_b_31241_tn_0\", \"shape_id\": \"p_744902\", \"route_id\": \"13525\", \"service_hours\": 1.25, \"trip_first_departure_ts\": 51000, \"trip_last_arrival_ts\": 55500, \"departure_hour\": 14, \"time_of_day\": \"Midday\", \"p25\": 1.0, \"p50\": 1.17, \"p75\": 1.17, \"p50_trip\": 0, \"fastest_trip\": 0, \"car_duration_hours\": 0.61, \"competitive_route\": 1, \"bus_multiplier\": 2.05, \"bus_difference\": 38.4, \"num_trips\": 20, \"num_competitive\": 18, \"pct_trips_competitive\": 0.9, \"bus_difference_spread\": 25.2, \"route_group\": \"medium\", \"max_trip_hrs\": 1.42, \"max_trip_route_group\": 1.42, \"name\": \"City of Tracy\", \"caltrans_district\": \"10 - Stockton\", \"drmt_organization_name\": null, \"cutoff2\": 30, \"cutoff\": 2}, {\"calitp_itp_id\": 341, \"trip_key\": 6817660816795284691, \"trip_id\": \"t_1582762_b_31241_tn_0\", \"shape_id\": \"p_744902\", \"route_id\": \"13525\", \"service_hours\": 1.42, \"trip_first_departure_ts\": 52500, \"trip_last_arrival_ts\": 57600, \"departure_hour\": 14, \"time_of_day\": \"Midday\", \"p25\": 1.0, \"p50\": 1.17, \"p75\": 1.17, \"p50_trip\": 0, \"fastest_trip\": 0, \"car_duration_hours\": 0.61, \"competitive_route\": 1, \"bus_multiplier\": 2.33, \"bus_difference\": 48.6, \"num_trips\": 20, \"num_competitive\": 18, \"pct_trips_competitive\": 0.9, \"bus_difference_spread\": 25.2, \"route_group\": \"medium\", \"max_trip_hrs\": 1.42, \"max_trip_route_group\": 1.42, \"name\": \"City of Tracy\", \"caltrans_district\": \"10 - Stockton\", \"drmt_organization_name\": null, \"cutoff2\": 30, \"cutoff\": 2}]}}, {\"mode\": \"vega-lite\"});\n",
       "</script>"
      ],
      "text/plain": [
       "alt.FacetChart(...)"
      ]
     },
     "metadata": {},
     "output_type": "display_data"
    },
    {
     "data": {
      "text/html": [
       "\n",
       "<div id=\"altair-viz-bda03232343346838a913bde1deca718\"></div>\n",
       "<script type=\"text/javascript\">\n",
       "  var VEGA_DEBUG = (typeof VEGA_DEBUG == \"undefined\") ? {} : VEGA_DEBUG;\n",
       "  (function(spec, embedOpt){\n",
       "    let outputDiv = document.currentScript.previousElementSibling;\n",
       "    if (outputDiv.id !== \"altair-viz-bda03232343346838a913bde1deca718\") {\n",
       "      outputDiv = document.getElementById(\"altair-viz-bda03232343346838a913bde1deca718\");\n",
       "    }\n",
       "    const paths = {\n",
       "      \"vega\": \"https://cdn.jsdelivr.net/npm//vega@5?noext\",\n",
       "      \"vega-lib\": \"https://cdn.jsdelivr.net/npm//vega-lib?noext\",\n",
       "      \"vega-lite\": \"https://cdn.jsdelivr.net/npm//vega-lite@4.17.0?noext\",\n",
       "      \"vega-embed\": \"https://cdn.jsdelivr.net/npm//vega-embed@6?noext\",\n",
       "    };\n",
       "\n",
       "    function maybeLoadScript(lib, version) {\n",
       "      var key = `${lib.replace(\"-\", \"\")}_version`;\n",
       "      return (VEGA_DEBUG[key] == version) ?\n",
       "        Promise.resolve(paths[lib]) :\n",
       "        new Promise(function(resolve, reject) {\n",
       "          var s = document.createElement('script');\n",
       "          document.getElementsByTagName(\"head\")[0].appendChild(s);\n",
       "          s.async = true;\n",
       "          s.onload = () => {\n",
       "            VEGA_DEBUG[key] = version;\n",
       "            return resolve(paths[lib]);\n",
       "          };\n",
       "          s.onerror = () => reject(`Error loading script: ${paths[lib]}`);\n",
       "          s.src = paths[lib];\n",
       "        });\n",
       "    }\n",
       "\n",
       "    function showError(err) {\n",
       "      outputDiv.innerHTML = `<div class=\"error\" style=\"color:red;\">${err}</div>`;\n",
       "      throw err;\n",
       "    }\n",
       "\n",
       "    function displayChart(vegaEmbed) {\n",
       "      vegaEmbed(outputDiv, spec, embedOpt)\n",
       "        .catch(err => showError(`Javascript Error: ${err.message}<br>This usually means there's a typo in your chart specification. See the javascript console for the full traceback.`));\n",
       "    }\n",
       "\n",
       "    if(typeof define === \"function\" && define.amd) {\n",
       "      requirejs.config({paths});\n",
       "      require([\"vega-embed\"], displayChart, err => showError(`Error loading script: ${err.message}`));\n",
       "    } else {\n",
       "      maybeLoadScript(\"vega\", \"5\")\n",
       "        .then(() => maybeLoadScript(\"vega-lite\", \"4.17.0\"))\n",
       "        .then(() => maybeLoadScript(\"vega-embed\", \"6\"))\n",
       "        .catch(showError)\n",
       "        .then(() => displayChart(vegaEmbed));\n",
       "    }\n",
       "  })({\"config\": {\"view\": {\"continuousWidth\": 400, \"continuousHeight\": 300, \"stroke\": null}, \"facet\": {\"spacing\": 0}}, \"data\": {\"name\": \"data-41fdf00847dd23d6f8f7e4febe260b4a\"}, \"facet\": {\"column\": {\"field\": \"route_id\", \"sort\": [\"13525\", \"13524\"], \"title\": \"Route ID\", \"type\": \"nominal\"}}, \"spec\": {\"layer\": [{\"mark\": \"rule\", \"encoding\": {\"color\": {\"value\": \"black\"}, \"y\": {\"field\": \"cutoff\", \"type\": \"quantitative\"}}, \"selection\": {\"selector002\": {\"type\": \"interval\", \"bind\": \"scales\", \"encodings\": [\"x\", \"y\"]}}}, {\"mark\": {\"type\": \"rule\", \"strokeDash\": [3, 3]}, \"encoding\": {\"color\": {\"value\": \"#323434\"}, \"y\": {\"field\": \"cutoff2\", \"type\": \"quantitative\"}}}, {\"mark\": {\"type\": \"point\", \"opacity\": 0.65, \"size\": 12, \"strokeWidth\": 1.1}, \"encoding\": {\"color\": {\"field\": \"time_of_day\", \"scale\": {\"range\": [\"#136C97\", \"#E16B26\", \"#F6BF16\", \"#00896B\", \"#7790A3\", \"#5B559C\"]}, \"sort\": [\"AM Peak\", \"Midday\", \"PM Peak\", \"Owl Service\"], \"title\": \"Time of Day\", \"type\": \"nominal\"}, \"tooltip\": [{\"field\": \"route_id\", \"type\": \"nominal\"}, {\"field\": \"trip_id\", \"type\": \"nominal\"}, {\"field\": \"service_hours\", \"type\": \"quantitative\"}, {\"field\": \"car_duration_hours\", \"type\": \"quantitative\"}, {\"field\": \"bus_multiplier\", \"type\": \"quantitative\"}, {\"field\": \"bus_difference\", \"type\": \"quantitative\"}, {\"field\": \"num_trips\", \"type\": \"quantitative\"}, {\"field\": \"num_competitive\", \"type\": \"quantitative\"}, {\"field\": \"pct_trips_competitive\", \"type\": \"quantitative\"}, {\"field\": \"p25\", \"type\": \"quantitative\"}, {\"field\": \"p50\", \"type\": \"quantitative\"}, {\"field\": \"p75\", \"type\": \"quantitative\"}], \"x\": {\"axis\": {\"grid\": false, \"labels\": false, \"ticks\": true, \"values\": [0]}, \"field\": \"jitter\", \"scale\": {}, \"title\": null, \"type\": \"quantitative\"}, \"y\": {\"field\": \"bus_difference\", \"scale\": {\"domain\": [-5, 48.6]}, \"title\": \"Difference in Bus to Car Travel Time (min)\", \"type\": \"quantitative\"}}, \"transform\": [{\"calculate\": \"sqrt(-2*log(random()))*cos(2*PI*random())\", \"as\": \"jitter\"}], \"width\": 50}, {\"layer\": [{\"mark\": {\"type\": \"point\", \"opacity\": 0.6, \"size\": 20, \"strokeWidth\": 1.3}, \"encoding\": {\"color\": {\"value\": \"#323434\"}, \"y\": {\"field\": \"bus_difference\", \"type\": \"quantitative\"}}, \"transform\": [{\"filter\": \"(datum.p50_trip === 1)\"}]}, {\"mark\": {\"type\": \"text\", \"align\": \"center\", \"baseline\": \"middle\"}, \"encoding\": {\"color\": {\"value\": \"black\"}, \"text\": {\"field\": \"pct_trips_competitive\", \"format\": \".0%\", \"type\": \"quantitative\"}, \"tooltip\": [{\"field\": \"route_id\", \"type\": \"nominal\"}, {\"field\": \"trip_id\", \"type\": \"nominal\"}, {\"field\": \"service_hours\", \"type\": \"quantitative\"}, {\"field\": \"car_duration_hours\", \"type\": \"quantitative\"}, {\"field\": \"bus_multiplier\", \"type\": \"quantitative\"}, {\"field\": \"bus_difference\", \"type\": \"quantitative\"}, {\"field\": \"num_trips\", \"type\": \"quantitative\"}, {\"field\": \"num_competitive\", \"type\": \"quantitative\"}, {\"field\": \"pct_trips_competitive\", \"type\": \"quantitative\"}, {\"field\": \"p25\", \"type\": \"quantitative\"}, {\"field\": \"p50\", \"type\": \"quantitative\"}, {\"field\": \"p75\", \"type\": \"quantitative\"}], \"x\": {\"value\": 30}, \"y\": {\"value\": 15}}, \"transform\": [{\"calculate\": \"sqrt(-2*log(random()))*cos(2*PI*random())\", \"as\": \"jitter\"}, {\"filter\": \"(datum.fastest_trip === 1)\"}]}]}]}, \"resolve\": {\"scale\": {\"y\": \"shared\"}}, \"title\": \"Difference in Bus to Car Travel Time (min)\", \"$schema\": \"https://vega.github.io/schema/vega-lite/v4.17.0.json\", \"datasets\": {\"data-41fdf00847dd23d6f8f7e4febe260b4a\": [{\"calitp_itp_id\": 341, \"trip_key\": 3273416138300551864, \"trip_id\": \"t_1582751_b_31241_tn_0\", \"shape_id\": \"p_744870\", \"route_id\": \"13524\", \"service_hours\": 1.17, \"trip_first_departure_ts\": 33300, \"trip_last_arrival_ts\": 37500, \"departure_hour\": 9, \"time_of_day\": \"AM Peak\", \"p25\": 1.17, \"p50\": 1.25, \"p75\": 1.25, \"p50_trip\": 0, \"fastest_trip\": 0, \"car_duration_hours\": 0.68, \"competitive_route\": 1, \"bus_multiplier\": 1.72, \"bus_difference\": 29.4, \"num_trips\": 19, \"num_competitive\": 16, \"pct_trips_competitive\": 0.842, \"bus_difference_spread\": 15.0, \"route_group\": \"medium\", \"max_trip_hrs\": 1.42, \"max_trip_route_group\": 1.42, \"name\": \"City of Tracy\", \"caltrans_district\": \"10 - Stockton\", \"drmt_organization_name\": null, \"cutoff2\": 30, \"cutoff\": 0}, {\"calitp_itp_id\": 341, \"trip_key\": -8424452224539762809, \"trip_id\": \"t_1582743_b_31241_tn_0\", \"shape_id\": \"p_744870\", \"route_id\": \"13524\", \"service_hours\": 1.17, \"trip_first_departure_ts\": 24300, \"trip_last_arrival_ts\": 28500, \"departure_hour\": 6, \"time_of_day\": \"Owl Service\", \"p25\": 1.17, \"p50\": 1.25, \"p75\": 1.25, \"p50_trip\": 0, \"fastest_trip\": 0, \"car_duration_hours\": 0.68, \"competitive_route\": 1, \"bus_multiplier\": 1.72, \"bus_difference\": 29.4, \"num_trips\": 19, \"num_competitive\": 16, \"pct_trips_competitive\": 0.842, \"bus_difference_spread\": 15.0, \"route_group\": \"medium\", \"max_trip_hrs\": 1.42, \"max_trip_route_group\": 1.42, \"name\": \"City of Tracy\", \"caltrans_district\": \"10 - Stockton\", \"drmt_organization_name\": null, \"cutoff2\": 30, \"cutoff\": 0}, {\"calitp_itp_id\": 341, \"trip_key\": 1067918521926375207, \"trip_id\": \"t_1582744_b_31241_tn_0\", \"shape_id\": \"p_744870\", \"route_id\": \"13524\", \"service_hours\": 1.17, \"trip_first_departure_ts\": 28800, \"trip_last_arrival_ts\": 33000, \"departure_hour\": 8, \"time_of_day\": \"AM Peak\", \"p25\": 1.17, \"p50\": 1.25, \"p75\": 1.25, \"p50_trip\": 0, \"fastest_trip\": 0, \"car_duration_hours\": 0.68, \"competitive_route\": 1, \"bus_multiplier\": 1.72, \"bus_difference\": 29.4, \"num_trips\": 19, \"num_competitive\": 16, \"pct_trips_competitive\": 0.842, \"bus_difference_spread\": 15.0, \"route_group\": \"medium\", \"max_trip_hrs\": 1.42, \"max_trip_route_group\": 1.42, \"name\": \"City of Tracy\", \"caltrans_district\": \"10 - Stockton\", \"drmt_organization_name\": null, \"cutoff2\": 30, \"cutoff\": 0}, {\"calitp_itp_id\": 341, \"trip_key\": 4433041068593353937, \"trip_id\": \"t_1582748_b_31241_tn_0\", \"shape_id\": \"p_744870\", \"route_id\": \"13524\", \"service_hours\": 1.17, \"trip_first_departure_ts\": 39600, \"trip_last_arrival_ts\": 43800, \"departure_hour\": 11, \"time_of_day\": \"Midday\", \"p25\": 1.17, \"p50\": 1.25, \"p75\": 1.25, \"p50_trip\": 0, \"fastest_trip\": 0, \"car_duration_hours\": 0.68, \"competitive_route\": 1, \"bus_multiplier\": 1.72, \"bus_difference\": 29.4, \"num_trips\": 19, \"num_competitive\": 16, \"pct_trips_competitive\": 0.842, \"bus_difference_spread\": 15.0, \"route_group\": \"medium\", \"max_trip_hrs\": 1.42, \"max_trip_route_group\": 1.42, \"name\": \"City of Tracy\", \"caltrans_district\": \"10 - Stockton\", \"drmt_organization_name\": null, \"cutoff2\": 30, \"cutoff\": 0}, {\"calitp_itp_id\": 341, \"trip_key\": -2214776912358382331, \"trip_id\": \"t_1582752_b_31241_tn_0\", \"shape_id\": \"p_744870\", \"route_id\": \"13524\", \"service_hours\": 1.17, \"trip_first_departure_ts\": 37800, \"trip_last_arrival_ts\": 42000, \"departure_hour\": 10, \"time_of_day\": \"Midday\", \"p25\": 1.17, \"p50\": 1.25, \"p75\": 1.25, \"p50_trip\": 0, \"fastest_trip\": 0, \"car_duration_hours\": 0.68, \"competitive_route\": 1, \"bus_multiplier\": 1.72, \"bus_difference\": 29.4, \"num_trips\": 19, \"num_competitive\": 16, \"pct_trips_competitive\": 0.842, \"bus_difference_spread\": 15.0, \"route_group\": \"medium\", \"max_trip_hrs\": 1.42, \"max_trip_route_group\": 1.42, \"name\": \"City of Tracy\", \"caltrans_district\": \"10 - Stockton\", \"drmt_organization_name\": null, \"cutoff2\": 30, \"cutoff\": 0}, {\"calitp_itp_id\": 341, \"trip_key\": -7164748691853724673, \"trip_id\": \"t_1582749_b_31241_tn_0\", \"shape_id\": \"p_744870\", \"route_id\": \"13524\", \"service_hours\": 1.17, \"trip_first_departure_ts\": 54900, \"trip_last_arrival_ts\": 59100, \"departure_hour\": 15, \"time_of_day\": \"Midday\", \"p25\": 1.17, \"p50\": 1.25, \"p75\": 1.25, \"p50_trip\": 0, \"fastest_trip\": 1, \"car_duration_hours\": 0.68, \"competitive_route\": 1, \"bus_multiplier\": 1.72, \"bus_difference\": 29.4, \"num_trips\": 19, \"num_competitive\": 16, \"pct_trips_competitive\": 0.842, \"bus_difference_spread\": 15.0, \"route_group\": \"medium\", \"max_trip_hrs\": 1.42, \"max_trip_route_group\": 1.42, \"name\": \"City of Tracy\", \"caltrans_district\": \"10 - Stockton\", \"drmt_organization_name\": null, \"cutoff2\": 30, \"cutoff\": 0}, {\"calitp_itp_id\": 341, \"trip_key\": 830683484434739798, \"trip_id\": \"t_1582745_b_31241_tn_0\", \"shape_id\": \"p_744870\", \"route_id\": \"13524\", \"service_hours\": 1.17, \"trip_first_departure_ts\": 26100, \"trip_last_arrival_ts\": 30300, \"departure_hour\": 7, \"time_of_day\": \"AM Peak\", \"p25\": 1.17, \"p50\": 1.25, \"p75\": 1.25, \"p50_trip\": 0, \"fastest_trip\": 0, \"car_duration_hours\": 0.68, \"competitive_route\": 1, \"bus_multiplier\": 1.72, \"bus_difference\": 29.4, \"num_trips\": 19, \"num_competitive\": 16, \"pct_trips_competitive\": 0.842, \"bus_difference_spread\": 15.0, \"route_group\": \"medium\", \"max_trip_hrs\": 1.42, \"max_trip_route_group\": 1.42, \"name\": \"City of Tracy\", \"caltrans_district\": \"10 - Stockton\", \"drmt_organization_name\": null, \"cutoff2\": 30, \"cutoff\": 0}, {\"calitp_itp_id\": 341, \"trip_key\": 2928371681242192163, \"trip_id\": \"t_1582746_b_31241_tn_0\", \"shape_id\": \"p_744870\", \"route_id\": \"13524\", \"service_hours\": 1.17, \"trip_first_departure_ts\": 30600, \"trip_last_arrival_ts\": 34800, \"departure_hour\": 8, \"time_of_day\": \"AM Peak\", \"p25\": 1.17, \"p50\": 1.25, \"p75\": 1.25, \"p50_trip\": 0, \"fastest_trip\": 0, \"car_duration_hours\": 0.68, \"competitive_route\": 1, \"bus_multiplier\": 1.72, \"bus_difference\": 29.4, \"num_trips\": 19, \"num_competitive\": 16, \"pct_trips_competitive\": 0.842, \"bus_difference_spread\": 15.0, \"route_group\": \"medium\", \"max_trip_hrs\": 1.42, \"max_trip_route_group\": 1.42, \"name\": \"City of Tracy\", \"caltrans_district\": \"10 - Stockton\", \"drmt_organization_name\": null, \"cutoff2\": 30, \"cutoff\": 0}, {\"calitp_itp_id\": 341, \"trip_key\": -1334819812229007553, \"trip_id\": \"t_1582747_b_31241_tn_0\", \"shape_id\": \"p_744870\", \"route_id\": \"13524\", \"service_hours\": 1.17, \"trip_first_departure_ts\": 35100, \"trip_last_arrival_ts\": 39300, \"departure_hour\": 9, \"time_of_day\": \"AM Peak\", \"p25\": 1.17, \"p50\": 1.25, \"p75\": 1.25, \"p50_trip\": 0, \"fastest_trip\": 0, \"car_duration_hours\": 0.68, \"competitive_route\": 1, \"bus_multiplier\": 1.72, \"bus_difference\": 29.4, \"num_trips\": 19, \"num_competitive\": 16, \"pct_trips_competitive\": 0.842, \"bus_difference_spread\": 15.0, \"route_group\": \"medium\", \"max_trip_hrs\": 1.42, \"max_trip_route_group\": 1.42, \"name\": \"City of Tracy\", \"caltrans_district\": \"10 - Stockton\", \"drmt_organization_name\": null, \"cutoff2\": 30, \"cutoff\": 0}, {\"calitp_itp_id\": 341, \"trip_key\": -8260742221272562247, \"trip_id\": \"t_1582742_b_31241_tn_0\", \"shape_id\": \"p_744870\", \"route_id\": \"13524\", \"service_hours\": 1.25, \"trip_first_departure_ts\": 59400, \"trip_last_arrival_ts\": 63900, \"departure_hour\": 16, \"time_of_day\": \"Midday\", \"p25\": 1.17, \"p50\": 1.25, \"p75\": 1.25, \"p50_trip\": 1, \"fastest_trip\": 0, \"car_duration_hours\": 0.68, \"competitive_route\": 1, \"bus_multiplier\": 1.84, \"bus_difference\": 34.2, \"num_trips\": 19, \"num_competitive\": 16, \"pct_trips_competitive\": 0.842, \"bus_difference_spread\": 15.0, \"route_group\": \"medium\", \"max_trip_hrs\": 1.42, \"max_trip_route_group\": 1.42, \"name\": \"City of Tracy\", \"caltrans_district\": \"10 - Stockton\", \"drmt_organization_name\": null, \"cutoff2\": 30, \"cutoff\": 0}, {\"calitp_itp_id\": 341, \"trip_key\": 584514040564428682, \"trip_id\": \"t_1582756_b_31241_tn_0\", \"shape_id\": \"p_744870\", \"route_id\": \"13524\", \"service_hours\": 1.25, \"trip_first_departure_ts\": 57300, \"trip_last_arrival_ts\": 61800, \"departure_hour\": 15, \"time_of_day\": \"Midday\", \"p25\": 1.17, \"p50\": 1.25, \"p75\": 1.25, \"p50_trip\": 1, \"fastest_trip\": 0, \"car_duration_hours\": 0.68, \"competitive_route\": 1, \"bus_multiplier\": 1.84, \"bus_difference\": 34.2, \"num_trips\": 19, \"num_competitive\": 16, \"pct_trips_competitive\": 0.842, \"bus_difference_spread\": 15.0, \"route_group\": \"medium\", \"max_trip_hrs\": 1.42, \"max_trip_route_group\": 1.42, \"name\": \"City of Tracy\", \"caltrans_district\": \"10 - Stockton\", \"drmt_organization_name\": null, \"cutoff2\": 30, \"cutoff\": 0}, {\"calitp_itp_id\": 341, \"trip_key\": -3376692746768093366, \"trip_id\": \"t_1582754_b_31241_tn_0\", \"shape_id\": \"p_744870\", \"route_id\": \"13524\", \"service_hours\": 1.25, \"trip_first_departure_ts\": 47700, \"trip_last_arrival_ts\": 52200, \"departure_hour\": 13, \"time_of_day\": \"Midday\", \"p25\": 1.17, \"p50\": 1.25, \"p75\": 1.25, \"p50_trip\": 1, \"fastest_trip\": 0, \"car_duration_hours\": 0.68, \"competitive_route\": 1, \"bus_multiplier\": 1.84, \"bus_difference\": 34.2, \"num_trips\": 19, \"num_competitive\": 16, \"pct_trips_competitive\": 0.842, \"bus_difference_spread\": 15.0, \"route_group\": \"medium\", \"max_trip_hrs\": 1.42, \"max_trip_route_group\": 1.42, \"name\": \"City of Tracy\", \"caltrans_district\": \"10 - Stockton\", \"drmt_organization_name\": null, \"cutoff2\": 30, \"cutoff\": 0}, {\"calitp_itp_id\": 341, \"trip_key\": -7305182815255252792, \"trip_id\": \"t_1582729_b_31241_tn_0\", \"shape_id\": \"p_744870\", \"route_id\": \"13524\", \"service_hours\": 1.25, \"trip_first_departure_ts\": 66900, \"trip_last_arrival_ts\": 71400, \"departure_hour\": 18, \"time_of_day\": \"PM Peak\", \"p25\": 1.17, \"p50\": 1.25, \"p75\": 1.25, \"p50_trip\": 1, \"fastest_trip\": 0, \"car_duration_hours\": 0.68, \"competitive_route\": 1, \"bus_multiplier\": 1.84, \"bus_difference\": 34.2, \"num_trips\": 19, \"num_competitive\": 16, \"pct_trips_competitive\": 0.842, \"bus_difference_spread\": 15.0, \"route_group\": \"medium\", \"max_trip_hrs\": 1.42, \"max_trip_route_group\": 1.42, \"name\": \"City of Tracy\", \"caltrans_district\": \"10 - Stockton\", \"drmt_organization_name\": null, \"cutoff2\": 30, \"cutoff\": 0}, {\"calitp_itp_id\": 341, \"trip_key\": -8746524917141551110, \"trip_id\": \"t_1582755_b_31241_tn_0\", \"shape_id\": \"p_744870\", \"route_id\": \"13524\", \"service_hours\": 1.25, \"trip_first_departure_ts\": 52500, \"trip_last_arrival_ts\": 57000, \"departure_hour\": 14, \"time_of_day\": \"Midday\", \"p25\": 1.17, \"p50\": 1.25, \"p75\": 1.25, \"p50_trip\": 1, \"fastest_trip\": 0, \"car_duration_hours\": 0.68, \"competitive_route\": 1, \"bus_multiplier\": 1.84, \"bus_difference\": 34.2, \"num_trips\": 19, \"num_competitive\": 16, \"pct_trips_competitive\": 0.842, \"bus_difference_spread\": 15.0, \"route_group\": \"medium\", \"max_trip_hrs\": 1.42, \"max_trip_route_group\": 1.42, \"name\": \"City of Tracy\", \"caltrans_district\": \"10 - Stockton\", \"drmt_organization_name\": null, \"cutoff2\": 30, \"cutoff\": 0}, {\"calitp_itp_id\": 341, \"trip_key\": 6576026122937157907, \"trip_id\": \"t_1582757_b_31241_tn_0\", \"shape_id\": \"p_744870\", \"route_id\": \"13524\", \"service_hours\": 1.25, \"trip_first_departure_ts\": 62100, \"trip_last_arrival_ts\": 66600, \"departure_hour\": 17, \"time_of_day\": \"PM Peak\", \"p25\": 1.17, \"p50\": 1.25, \"p75\": 1.25, \"p50_trip\": 1, \"fastest_trip\": 0, \"car_duration_hours\": 0.68, \"competitive_route\": 1, \"bus_multiplier\": 1.84, \"bus_difference\": 34.2, \"num_trips\": 19, \"num_competitive\": 16, \"pct_trips_competitive\": 0.842, \"bus_difference_spread\": 15.0, \"route_group\": \"medium\", \"max_trip_hrs\": 1.42, \"max_trip_route_group\": 1.42, \"name\": \"City of Tracy\", \"caltrans_district\": \"10 - Stockton\", \"drmt_organization_name\": null, \"cutoff2\": 30, \"cutoff\": 0}, {\"calitp_itp_id\": 341, \"trip_key\": 4108108809527396172, \"trip_id\": \"t_1582750_b_31241_tn_0\", \"shape_id\": \"p_744870\", \"route_id\": \"13524\", \"service_hours\": 1.25, \"trip_first_departure_ts\": 64200, \"trip_last_arrival_ts\": 68700, \"departure_hour\": 17, \"time_of_day\": \"PM Peak\", \"p25\": 1.17, \"p50\": 1.25, \"p75\": 1.25, \"p50_trip\": 1, \"fastest_trip\": 0, \"car_duration_hours\": 0.68, \"competitive_route\": 1, \"bus_multiplier\": 1.84, \"bus_difference\": 34.2, \"num_trips\": 19, \"num_competitive\": 16, \"pct_trips_competitive\": 0.842, \"bus_difference_spread\": 15.0, \"route_group\": \"medium\", \"max_trip_hrs\": 1.42, \"max_trip_route_group\": 1.42, \"name\": \"City of Tracy\", \"caltrans_district\": \"10 - Stockton\", \"drmt_organization_name\": null, \"cutoff2\": 30, \"cutoff\": 0}, {\"calitp_itp_id\": 341, \"trip_key\": -3668030610167856819, \"trip_id\": \"t_1582753_b_31241_tn_0\", \"shape_id\": \"p_744870\", \"route_id\": \"13524\", \"service_hours\": 1.42, \"trip_first_departure_ts\": 42300, \"trip_last_arrival_ts\": 47400, \"departure_hour\": 11, \"time_of_day\": \"Midday\", \"p25\": 1.17, \"p50\": 1.25, \"p75\": 1.25, \"p50_trip\": 0, \"fastest_trip\": 0, \"car_duration_hours\": 0.68, \"competitive_route\": 1, \"bus_multiplier\": 2.09, \"bus_difference\": 44.4, \"num_trips\": 19, \"num_competitive\": 16, \"pct_trips_competitive\": 0.842, \"bus_difference_spread\": 15.0, \"route_group\": \"medium\", \"max_trip_hrs\": 1.42, \"max_trip_route_group\": 1.42, \"name\": \"City of Tracy\", \"caltrans_district\": \"10 - Stockton\", \"drmt_organization_name\": null, \"cutoff2\": 30, \"cutoff\": 0}, {\"calitp_itp_id\": 341, \"trip_key\": 2589776370580046484, \"trip_id\": \"t_1582740_b_31241_tn_0\", \"shape_id\": \"p_744870\", \"route_id\": \"13524\", \"service_hours\": 1.42, \"trip_first_departure_ts\": 44100, \"trip_last_arrival_ts\": 49200, \"departure_hour\": 12, \"time_of_day\": \"Midday\", \"p25\": 1.17, \"p50\": 1.25, \"p75\": 1.25, \"p50_trip\": 0, \"fastest_trip\": 0, \"car_duration_hours\": 0.68, \"competitive_route\": 1, \"bus_multiplier\": 2.09, \"bus_difference\": 44.4, \"num_trips\": 19, \"num_competitive\": 16, \"pct_trips_competitive\": 0.842, \"bus_difference_spread\": 15.0, \"route_group\": \"medium\", \"max_trip_hrs\": 1.42, \"max_trip_route_group\": 1.42, \"name\": \"City of Tracy\", \"caltrans_district\": \"10 - Stockton\", \"drmt_organization_name\": null, \"cutoff2\": 30, \"cutoff\": 0}, {\"calitp_itp_id\": 341, \"trip_key\": 7537216030100030304, \"trip_id\": \"t_1582741_b_31241_tn_0\", \"shape_id\": \"p_744870\", \"route_id\": \"13524\", \"service_hours\": 1.42, \"trip_first_departure_ts\": 49500, \"trip_last_arrival_ts\": 54600, \"departure_hour\": 13, \"time_of_day\": \"Midday\", \"p25\": 1.17, \"p50\": 1.25, \"p75\": 1.25, \"p50_trip\": 0, \"fastest_trip\": 0, \"car_duration_hours\": 0.68, \"competitive_route\": 1, \"bus_multiplier\": 2.09, \"bus_difference\": 44.4, \"num_trips\": 19, \"num_competitive\": 16, \"pct_trips_competitive\": 0.842, \"bus_difference_spread\": 15.0, \"route_group\": \"medium\", \"max_trip_hrs\": 1.42, \"max_trip_route_group\": 1.42, \"name\": \"City of Tracy\", \"caltrans_district\": \"10 - Stockton\", \"drmt_organization_name\": null, \"cutoff2\": 30, \"cutoff\": 0}, {\"calitp_itp_id\": 341, \"trip_key\": -5391431990439876503, \"trip_id\": \"t_1582758_b_31241_tn_0\", \"shape_id\": \"p_744902\", \"route_id\": \"13525\", \"service_hours\": 1.0, \"trip_first_departure_ts\": 25200, \"trip_last_arrival_ts\": 28800, \"departure_hour\": 7, \"time_of_day\": \"AM Peak\", \"p25\": 1.0, \"p50\": 1.17, \"p75\": 1.17, \"p50_trip\": 0, \"fastest_trip\": 0, \"car_duration_hours\": 0.61, \"competitive_route\": 1, \"bus_multiplier\": 1.64, \"bus_difference\": 23.4, \"num_trips\": 20, \"num_competitive\": 18, \"pct_trips_competitive\": 0.9, \"bus_difference_spread\": 25.2, \"route_group\": \"medium\", \"max_trip_hrs\": 1.42, \"max_trip_route_group\": 1.42, \"name\": \"City of Tracy\", \"caltrans_district\": \"10 - Stockton\", \"drmt_organization_name\": null, \"cutoff2\": 30, \"cutoff\": 0}, {\"calitp_itp_id\": 341, \"trip_key\": -8147866072512567284, \"trip_id\": \"t_1582730_b_31241_tn_0\", \"shape_id\": \"p_744902\", \"route_id\": \"13525\", \"service_hours\": 1.0, \"trip_first_departure_ts\": 66900, \"trip_last_arrival_ts\": 70500, \"departure_hour\": 18, \"time_of_day\": \"PM Peak\", \"p25\": 1.0, \"p50\": 1.17, \"p75\": 1.17, \"p50_trip\": 0, \"fastest_trip\": 1, \"car_duration_hours\": 0.61, \"competitive_route\": 1, \"bus_multiplier\": 1.64, \"bus_difference\": 23.4, \"num_trips\": 20, \"num_competitive\": 18, \"pct_trips_competitive\": 0.9, \"bus_difference_spread\": 25.2, \"route_group\": \"medium\", \"max_trip_hrs\": 1.42, \"max_trip_route_group\": 1.42, \"name\": \"City of Tracy\", \"caltrans_district\": \"10 - Stockton\", \"drmt_organization_name\": null, \"cutoff2\": 30, \"cutoff\": 0}, {\"calitp_itp_id\": 341, \"trip_key\": 260284697458458549, \"trip_id\": \"t_1582759_b_31241_tn_0\", \"shape_id\": \"p_744902\", \"route_id\": \"13525\", \"service_hours\": 1.0, \"trip_first_departure_ts\": 29100, \"trip_last_arrival_ts\": 32700, \"departure_hour\": 8, \"time_of_day\": \"AM Peak\", \"p25\": 1.0, \"p50\": 1.17, \"p75\": 1.17, \"p50_trip\": 0, \"fastest_trip\": 0, \"car_duration_hours\": 0.61, \"competitive_route\": 1, \"bus_multiplier\": 1.64, \"bus_difference\": 23.4, \"num_trips\": 20, \"num_competitive\": 18, \"pct_trips_competitive\": 0.9, \"bus_difference_spread\": 25.2, \"route_group\": \"medium\", \"max_trip_hrs\": 1.42, \"max_trip_route_group\": 1.42, \"name\": \"City of Tracy\", \"caltrans_district\": \"10 - Stockton\", \"drmt_organization_name\": null, \"cutoff2\": 30, \"cutoff\": 0}, {\"calitp_itp_id\": 341, \"trip_key\": 5372105835276176057, \"trip_id\": \"t_1582760_b_31241_tn_0\", \"shape_id\": \"p_744902\", \"route_id\": \"13525\", \"service_hours\": 1.0, \"trip_first_departure_ts\": 27000, \"trip_last_arrival_ts\": 30600, \"departure_hour\": 7, \"time_of_day\": \"AM Peak\", \"p25\": 1.0, \"p50\": 1.17, \"p75\": 1.17, \"p50_trip\": 0, \"fastest_trip\": 0, \"car_duration_hours\": 0.61, \"competitive_route\": 1, \"bus_multiplier\": 1.64, \"bus_difference\": 23.4, \"num_trips\": 20, \"num_competitive\": 18, \"pct_trips_competitive\": 0.9, \"bus_difference_spread\": 25.2, \"route_group\": \"medium\", \"max_trip_hrs\": 1.42, \"max_trip_route_group\": 1.42, \"name\": \"City of Tracy\", \"caltrans_district\": \"10 - Stockton\", \"drmt_organization_name\": null, \"cutoff2\": 30, \"cutoff\": 0}, {\"calitp_itp_id\": 341, \"trip_key\": 4311782331808619072, \"trip_id\": \"t_1582774_b_31241_tn_0\", \"shape_id\": \"p_744902\", \"route_id\": \"13525\", \"service_hours\": 1.0, \"trip_first_departure_ts\": 64800, \"trip_last_arrival_ts\": 68400, \"departure_hour\": 18, \"time_of_day\": \"PM Peak\", \"p25\": 1.0, \"p50\": 1.17, \"p75\": 1.17, \"p50_trip\": 0, \"fastest_trip\": 0, \"car_duration_hours\": 0.61, \"competitive_route\": 1, \"bus_multiplier\": 1.64, \"bus_difference\": 23.4, \"num_trips\": 20, \"num_competitive\": 18, \"pct_trips_competitive\": 0.9, \"bus_difference_spread\": 25.2, \"route_group\": \"medium\", \"max_trip_hrs\": 1.42, \"max_trip_route_group\": 1.42, \"name\": \"City of Tracy\", \"caltrans_district\": \"10 - Stockton\", \"drmt_organization_name\": null, \"cutoff2\": 30, \"cutoff\": 0}, {\"calitp_itp_id\": 341, \"trip_key\": -3317800707075710484, \"trip_id\": \"t_1582761_b_31241_tn_0\", \"shape_id\": \"p_744902\", \"route_id\": \"13525\", \"service_hours\": 1.0, \"trip_first_departure_ts\": 30900, \"trip_last_arrival_ts\": 34500, \"departure_hour\": 8, \"time_of_day\": \"AM Peak\", \"p25\": 1.0, \"p50\": 1.17, \"p75\": 1.17, \"p50_trip\": 0, \"fastest_trip\": 0, \"car_duration_hours\": 0.61, \"competitive_route\": 1, \"bus_multiplier\": 1.64, \"bus_difference\": 23.4, \"num_trips\": 20, \"num_competitive\": 18, \"pct_trips_competitive\": 0.9, \"bus_difference_spread\": 25.2, \"route_group\": \"medium\", \"max_trip_hrs\": 1.42, \"max_trip_route_group\": 1.42, \"name\": \"City of Tracy\", \"caltrans_district\": \"10 - Stockton\", \"drmt_organization_name\": null, \"cutoff2\": 30, \"cutoff\": 0}, {\"calitp_itp_id\": 341, \"trip_key\": 5525649063399916120, \"trip_id\": \"t_1582768_b_31241_tn_0\", \"shape_id\": \"p_744902\", \"route_id\": \"13525\", \"service_hours\": 1.08, \"trip_first_departure_ts\": 62400, \"trip_last_arrival_ts\": 66300, \"departure_hour\": 17, \"time_of_day\": \"PM Peak\", \"p25\": 1.0, \"p50\": 1.17, \"p75\": 1.17, \"p50_trip\": 0, \"fastest_trip\": 0, \"car_duration_hours\": 0.61, \"competitive_route\": 1, \"bus_multiplier\": 1.77, \"bus_difference\": 28.2, \"num_trips\": 20, \"num_competitive\": 18, \"pct_trips_competitive\": 0.9, \"bus_difference_spread\": 25.2, \"route_group\": \"medium\", \"max_trip_hrs\": 1.42, \"max_trip_route_group\": 1.42, \"name\": \"City of Tracy\", \"caltrans_district\": \"10 - Stockton\", \"drmt_organization_name\": null, \"cutoff2\": 30, \"cutoff\": 0}, {\"calitp_itp_id\": 341, \"trip_key\": -7621160083869894305, \"trip_id\": \"t_1582765_b_31241_tn_0\", \"shape_id\": \"p_744902\", \"route_id\": \"13525\", \"service_hours\": 1.08, \"trip_first_departure_ts\": 43800, \"trip_last_arrival_ts\": 47700, \"departure_hour\": 12, \"time_of_day\": \"Midday\", \"p25\": 1.0, \"p50\": 1.17, \"p75\": 1.17, \"p50_trip\": 0, \"fastest_trip\": 0, \"car_duration_hours\": 0.61, \"competitive_route\": 1, \"bus_multiplier\": 1.77, \"bus_difference\": 28.2, \"num_trips\": 20, \"num_competitive\": 18, \"pct_trips_competitive\": 0.9, \"bus_difference_spread\": 25.2, \"route_group\": \"medium\", \"max_trip_hrs\": 1.42, \"max_trip_route_group\": 1.42, \"name\": \"City of Tracy\", \"caltrans_district\": \"10 - Stockton\", \"drmt_organization_name\": null, \"cutoff2\": 30, \"cutoff\": 0}, {\"calitp_itp_id\": 341, \"trip_key\": 2591109908603089160, \"trip_id\": \"t_1582763_b_31241_tn_0\", \"shape_id\": \"p_744902\", \"route_id\": \"13525\", \"service_hours\": 1.17, \"trip_first_departure_ts\": 34800, \"trip_last_arrival_ts\": 39000, \"departure_hour\": 9, \"time_of_day\": \"AM Peak\", \"p25\": 1.0, \"p50\": 1.17, \"p75\": 1.17, \"p50_trip\": 1, \"fastest_trip\": 0, \"car_duration_hours\": 0.61, \"competitive_route\": 1, \"bus_multiplier\": 1.92, \"bus_difference\": 33.6, \"num_trips\": 20, \"num_competitive\": 18, \"pct_trips_competitive\": 0.9, \"bus_difference_spread\": 25.2, \"route_group\": \"medium\", \"max_trip_hrs\": 1.42, \"max_trip_route_group\": 1.42, \"name\": \"City of Tracy\", \"caltrans_district\": \"10 - Stockton\", \"drmt_organization_name\": null, \"cutoff2\": 30, \"cutoff\": 0}, {\"calitp_itp_id\": 341, \"trip_key\": -8023373100664779453, \"trip_id\": \"t_1582766_b_31241_tn_0\", \"shape_id\": \"p_744902\", \"route_id\": \"13525\", \"service_hours\": 1.17, \"trip_first_departure_ts\": 48000, \"trip_last_arrival_ts\": 52200, \"departure_hour\": 13, \"time_of_day\": \"Midday\", \"p25\": 1.0, \"p50\": 1.17, \"p75\": 1.17, \"p50_trip\": 1, \"fastest_trip\": 0, \"car_duration_hours\": 0.61, \"competitive_route\": 1, \"bus_multiplier\": 1.92, \"bus_difference\": 33.6, \"num_trips\": 20, \"num_competitive\": 18, \"pct_trips_competitive\": 0.9, \"bus_difference_spread\": 25.2, \"route_group\": \"medium\", \"max_trip_hrs\": 1.42, \"max_trip_route_group\": 1.42, \"name\": \"City of Tracy\", \"caltrans_district\": \"10 - Stockton\", \"drmt_organization_name\": null, \"cutoff2\": 30, \"cutoff\": 0}, {\"calitp_itp_id\": 341, \"trip_key\": 3862904626022008111, \"trip_id\": \"t_1582775_b_31241_tn_0\", \"shape_id\": \"p_744902\", \"route_id\": \"13525\", \"service_hours\": 1.17, \"trip_first_departure_ts\": 55800, \"trip_last_arrival_ts\": 60000, \"departure_hour\": 15, \"time_of_day\": \"Midday\", \"p25\": 1.0, \"p50\": 1.17, \"p75\": 1.17, \"p50_trip\": 1, \"fastest_trip\": 0, \"car_duration_hours\": 0.61, \"competitive_route\": 1, \"bus_multiplier\": 1.92, \"bus_difference\": 33.6, \"num_trips\": 20, \"num_competitive\": 18, \"pct_trips_competitive\": 0.9, \"bus_difference_spread\": 25.2, \"route_group\": \"medium\", \"max_trip_hrs\": 1.42, \"max_trip_route_group\": 1.42, \"name\": \"City of Tracy\", \"caltrans_district\": \"10 - Stockton\", \"drmt_organization_name\": null, \"cutoff2\": 30, \"cutoff\": 0}, {\"calitp_itp_id\": 341, \"trip_key\": 7315210854481212957, \"trip_id\": \"t_1582772_b_31241_tn_0\", \"shape_id\": \"p_744902\", \"route_id\": \"13525\", \"service_hours\": 1.17, \"trip_first_departure_ts\": 42000, \"trip_last_arrival_ts\": 46200, \"departure_hour\": 11, \"time_of_day\": \"Midday\", \"p25\": 1.0, \"p50\": 1.17, \"p75\": 1.17, \"p50_trip\": 1, \"fastest_trip\": 0, \"car_duration_hours\": 0.61, \"competitive_route\": 1, \"bus_multiplier\": 1.92, \"bus_difference\": 33.6, \"num_trips\": 20, \"num_competitive\": 18, \"pct_trips_competitive\": 0.9, \"bus_difference_spread\": 25.2, \"route_group\": \"medium\", \"max_trip_hrs\": 1.42, \"max_trip_route_group\": 1.42, \"name\": \"City of Tracy\", \"caltrans_district\": \"10 - Stockton\", \"drmt_organization_name\": null, \"cutoff2\": 30, \"cutoff\": 0}, {\"calitp_itp_id\": 341, \"trip_key\": -4853870524780812778, \"trip_id\": \"t_1582776_b_31241_tn_0\", \"shape_id\": \"p_744902\", \"route_id\": \"13525\", \"service_hours\": 1.17, \"trip_first_departure_ts\": 60300, \"trip_last_arrival_ts\": 64500, \"departure_hour\": 16, \"time_of_day\": \"Midday\", \"p25\": 1.0, \"p50\": 1.17, \"p75\": 1.17, \"p50_trip\": 1, \"fastest_trip\": 0, \"car_duration_hours\": 0.61, \"competitive_route\": 1, \"bus_multiplier\": 1.92, \"bus_difference\": 33.6, \"num_trips\": 20, \"num_competitive\": 18, \"pct_trips_competitive\": 0.9, \"bus_difference_spread\": 25.2, \"route_group\": \"medium\", \"max_trip_hrs\": 1.42, \"max_trip_route_group\": 1.42, \"name\": \"City of Tracy\", \"caltrans_district\": \"10 - Stockton\", \"drmt_organization_name\": null, \"cutoff2\": 30, \"cutoff\": 0}, {\"calitp_itp_id\": 341, \"trip_key\": -3605698434873398812, \"trip_id\": \"t_1582773_b_31241_tn_0\", \"shape_id\": \"p_744902\", \"route_id\": \"13525\", \"service_hours\": 1.17, \"trip_first_departure_ts\": 46500, \"trip_last_arrival_ts\": 50700, \"departure_hour\": 12, \"time_of_day\": \"Midday\", \"p25\": 1.0, \"p50\": 1.17, \"p75\": 1.17, \"p50_trip\": 1, \"fastest_trip\": 0, \"car_duration_hours\": 0.61, \"competitive_route\": 1, \"bus_multiplier\": 1.92, \"bus_difference\": 33.6, \"num_trips\": 20, \"num_competitive\": 18, \"pct_trips_competitive\": 0.9, \"bus_difference_spread\": 25.2, \"route_group\": \"medium\", \"max_trip_hrs\": 1.42, \"max_trip_route_group\": 1.42, \"name\": \"City of Tracy\", \"caltrans_district\": \"10 - Stockton\", \"drmt_organization_name\": null, \"cutoff2\": 30, \"cutoff\": 0}, {\"calitp_itp_id\": 341, \"trip_key\": -5326287608567369178, \"trip_id\": \"t_1582770_b_31241_tn_0\", \"shape_id\": \"p_744902\", \"route_id\": \"13525\", \"service_hours\": 1.17, \"trip_first_departure_ts\": 33000, \"trip_last_arrival_ts\": 37200, \"departure_hour\": 9, \"time_of_day\": \"AM Peak\", \"p25\": 1.0, \"p50\": 1.17, \"p75\": 1.17, \"p50_trip\": 1, \"fastest_trip\": 0, \"car_duration_hours\": 0.61, \"competitive_route\": 1, \"bus_multiplier\": 1.92, \"bus_difference\": 33.6, \"num_trips\": 20, \"num_competitive\": 18, \"pct_trips_competitive\": 0.9, \"bus_difference_spread\": 25.2, \"route_group\": \"medium\", \"max_trip_hrs\": 1.42, \"max_trip_route_group\": 1.42, \"name\": \"City of Tracy\", \"caltrans_district\": \"10 - Stockton\", \"drmt_organization_name\": null, \"cutoff2\": 30, \"cutoff\": 0}, {\"calitp_itp_id\": 341, \"trip_key\": -633351998048307329, \"trip_id\": \"t_1582771_b_31241_tn_0\", \"shape_id\": \"p_744902\", \"route_id\": \"13525\", \"service_hours\": 1.17, \"trip_first_departure_ts\": 37500, \"trip_last_arrival_ts\": 41700, \"departure_hour\": 10, \"time_of_day\": \"Midday\", \"p25\": 1.0, \"p50\": 1.17, \"p75\": 1.17, \"p50_trip\": 1, \"fastest_trip\": 0, \"car_duration_hours\": 0.61, \"competitive_route\": 1, \"bus_multiplier\": 1.92, \"bus_difference\": 33.6, \"num_trips\": 20, \"num_competitive\": 18, \"pct_trips_competitive\": 0.9, \"bus_difference_spread\": 25.2, \"route_group\": \"medium\", \"max_trip_hrs\": 1.42, \"max_trip_route_group\": 1.42, \"name\": \"City of Tracy\", \"caltrans_district\": \"10 - Stockton\", \"drmt_organization_name\": null, \"cutoff2\": 30, \"cutoff\": 0}, {\"calitp_itp_id\": 341, \"trip_key\": 5232440720755930226, \"trip_id\": \"t_1582764_b_31241_tn_0\", \"shape_id\": \"p_744902\", \"route_id\": \"13525\", \"service_hours\": 1.17, \"trip_first_departure_ts\": 39300, \"trip_last_arrival_ts\": 43500, \"departure_hour\": 10, \"time_of_day\": \"Midday\", \"p25\": 1.0, \"p50\": 1.17, \"p75\": 1.17, \"p50_trip\": 1, \"fastest_trip\": 0, \"car_duration_hours\": 0.61, \"competitive_route\": 1, \"bus_multiplier\": 1.92, \"bus_difference\": 33.6, \"num_trips\": 20, \"num_competitive\": 18, \"pct_trips_competitive\": 0.9, \"bus_difference_spread\": 25.2, \"route_group\": \"medium\", \"max_trip_hrs\": 1.42, \"max_trip_route_group\": 1.42, \"name\": \"City of Tracy\", \"caltrans_district\": \"10 - Stockton\", \"drmt_organization_name\": null, \"cutoff2\": 30, \"cutoff\": 0}, {\"calitp_itp_id\": 341, \"trip_key\": 5130011539184660331, \"trip_id\": \"t_1582767_b_31241_tn_0\", \"shape_id\": \"p_744902\", \"route_id\": \"13525\", \"service_hours\": 1.17, \"trip_first_departure_ts\": 57900, \"trip_last_arrival_ts\": 62100, \"departure_hour\": 16, \"time_of_day\": \"Midday\", \"p25\": 1.0, \"p50\": 1.17, \"p75\": 1.17, \"p50_trip\": 1, \"fastest_trip\": 0, \"car_duration_hours\": 0.61, \"competitive_route\": 1, \"bus_multiplier\": 1.92, \"bus_difference\": 33.6, \"num_trips\": 20, \"num_competitive\": 18, \"pct_trips_competitive\": 0.9, \"bus_difference_spread\": 25.2, \"route_group\": \"medium\", \"max_trip_hrs\": 1.42, \"max_trip_route_group\": 1.42, \"name\": \"City of Tracy\", \"caltrans_district\": \"10 - Stockton\", \"drmt_organization_name\": null, \"cutoff2\": 30, \"cutoff\": 0}, {\"calitp_itp_id\": 341, \"trip_key\": 6782688894397669509, \"trip_id\": \"t_1582769_b_31241_tn_0\", \"shape_id\": \"p_744902\", \"route_id\": \"13525\", \"service_hours\": 1.25, \"trip_first_departure_ts\": 51000, \"trip_last_arrival_ts\": 55500, \"departure_hour\": 14, \"time_of_day\": \"Midday\", \"p25\": 1.0, \"p50\": 1.17, \"p75\": 1.17, \"p50_trip\": 0, \"fastest_trip\": 0, \"car_duration_hours\": 0.61, \"competitive_route\": 1, \"bus_multiplier\": 2.05, \"bus_difference\": 38.4, \"num_trips\": 20, \"num_competitive\": 18, \"pct_trips_competitive\": 0.9, \"bus_difference_spread\": 25.2, \"route_group\": \"medium\", \"max_trip_hrs\": 1.42, \"max_trip_route_group\": 1.42, \"name\": \"City of Tracy\", \"caltrans_district\": \"10 - Stockton\", \"drmt_organization_name\": null, \"cutoff2\": 30, \"cutoff\": 0}, {\"calitp_itp_id\": 341, \"trip_key\": 6817660816795284691, \"trip_id\": \"t_1582762_b_31241_tn_0\", \"shape_id\": \"p_744902\", \"route_id\": \"13525\", \"service_hours\": 1.42, \"trip_first_departure_ts\": 52500, \"trip_last_arrival_ts\": 57600, \"departure_hour\": 14, \"time_of_day\": \"Midday\", \"p25\": 1.0, \"p50\": 1.17, \"p75\": 1.17, \"p50_trip\": 0, \"fastest_trip\": 0, \"car_duration_hours\": 0.61, \"competitive_route\": 1, \"bus_multiplier\": 2.33, \"bus_difference\": 48.6, \"num_trips\": 20, \"num_competitive\": 18, \"pct_trips_competitive\": 0.9, \"bus_difference_spread\": 25.2, \"route_group\": \"medium\", \"max_trip_hrs\": 1.42, \"max_trip_route_group\": 1.42, \"name\": \"City of Tracy\", \"caltrans_district\": \"10 - Stockton\", \"drmt_organization_name\": null, \"cutoff2\": 30, \"cutoff\": 0}]}}, {\"mode\": \"vega-lite\"});\n",
       "</script>"
      ],
      "text/plain": [
       "alt.FacetChart(...)"
      ]
     },
     "metadata": {},
     "output_type": "display_data"
    }
   ],
   "source": [
    "route_group = \"medium\"\n",
    "try:\n",
    "    display_charts_for_route_group(df, route_group)\n",
    "except:\n",
    "    print(\"No routes meet this criteria.\")"
   ]
  },
  {
   "cell_type": "markdown",
   "id": "124b76d0-886c-4d03-92ac-f1bda3cda182",
   "metadata": {
    "papermill": {
     "duration": 0.02177,
     "end_time": "2022-05-09T20:18:50.007096",
     "exception": false,
     "start_time": "2022-05-09T20:18:49.985326",
     "status": "completed"
    },
    "tags": []
   },
   "source": [
    "### Long Routes (> 1.5 hrs)"
   ]
  },
  {
   "cell_type": "code",
   "execution_count": 15,
   "id": "ddc81b19-4c45-4c81-8b7a-5e0f394aa7a3",
   "metadata": {
    "execution": {
     "iopub.execute_input": "2022-05-09T20:18:50.049218Z",
     "iopub.status.busy": "2022-05-09T20:18:50.048843Z",
     "iopub.status.idle": "2022-05-09T20:18:50.064706Z",
     "shell.execute_reply": "2022-05-09T20:18:50.063664Z"
    },
    "jupyter": {
     "source_hidden": true
    },
    "papermill": {
     "duration": 0.038632,
     "end_time": "2022-05-09T20:18:50.066857",
     "exception": false,
     "start_time": "2022-05-09T20:18:50.028225",
     "status": "completed"
    },
    "tags": [
     "remove_input"
    ]
   },
   "outputs": [
    {
     "name": "stdout",
     "output_type": "stream",
     "text": [
      "No routes meet this criteria.\n"
     ]
    }
   ],
   "source": [
    "route_group = \"long\"\n",
    "try:\n",
    "    display_charts_for_route_group(df, route_group)\n",
    "except:\n",
    "    print(\"No routes meet this criteria.\")"
   ]
  },
  {
   "cell_type": "markdown",
   "id": "ace75b5f-0442-4fbe-aebd-6c3a13ae13a7",
   "metadata": {
    "papermill": {
     "duration": 0.031218,
     "end_time": "2022-05-09T20:18:50.120825",
     "exception": false,
     "start_time": "2022-05-09T20:18:50.089607",
     "status": "completed"
    },
    "tags": []
   },
   "source": [
    "### GTFS Real-Time Speedmaps"
   ]
  },
  {
   "cell_type": "code",
   "execution_count": 16,
   "id": "a0a114a1-e975-4027-9daf-50029f5ef59f",
   "metadata": {
    "execution": {
     "iopub.execute_input": "2022-05-09T20:18:50.164546Z",
     "iopub.status.busy": "2022-05-09T20:18:50.164190Z",
     "iopub.status.idle": "2022-05-09T20:18:50.232353Z",
     "shell.execute_reply": "2022-05-09T20:18:50.231012Z"
    },
    "jupyter": {
     "source_hidden": true
    },
    "papermill": {
     "duration": 0.093317,
     "end_time": "2022-05-09T20:18:50.235349",
     "exception": false,
     "start_time": "2022-05-09T20:18:50.142032",
     "status": "completed"
    },
    "tags": [
     "remove_input"
    ]
   },
   "outputs": [
    {
     "data": {
      "text/html": [
       "No GTFS RT data available."
      ],
      "text/plain": [
       "<IPython.core.display.HTML object>"
      ]
     },
     "metadata": {},
     "output_type": "display_data"
    }
   ],
   "source": [
    "PORTFOLIO_SITE_YAML = \"../portfolio/analyses.yml\"\n",
    "\n",
    "# Grab list of ITP IDs with GTFS RT speedmaps\n",
    "rt_itp_id = deploy_portfolio_yaml.check_if_rt_data_available(PORTFOLIO_SITE_YAML)\n",
    "\n",
    "# Construct the URL \n",
    "RT_URL = (\"https://analysis.calitp.org/rt/\"\n",
    "          f\"district_{district_number}-{district_name}/\"\n",
    "          f\"speedmaps__itp_id_{itp_id}.html\"\n",
    "         ) \n",
    "\n",
    "if itp_id in rt_itp_id:\n",
    "    display(HTML(f'''<a href={RT_URL}>GTFS RT speedmaps here.</a>'''))\n",
    "\n",
    "else:\n",
    "    display(HTML(\"No GTFS RT data available.\"))"
   ]
  },
  {
   "cell_type": "code",
   "execution_count": null,
   "id": "5b680565-2230-4f2e-817c-718fad48d64c",
   "metadata": {
    "jupyter": {
     "source_hidden": true
    },
    "papermill": {
     "duration": 0.018819,
     "end_time": "2022-05-09T20:18:50.273354",
     "exception": false,
     "start_time": "2022-05-09T20:18:50.254535",
     "status": "completed"
    },
    "tags": [
     "remove_input"
    ]
   },
   "outputs": [],
   "source": []
  }
 ],
 "metadata": {
  "kernelspec": {
   "display_name": "Python 3 (ipykernel)",
   "language": "python",
   "name": "python3"
  },
  "language_info": {
   "codemirror_mode": {
    "name": "ipython",
    "version": 3
   },
   "file_extension": ".py",
   "mimetype": "text/x-python",
   "name": "python",
   "nbconvert_exporter": "python",
   "pygments_lexer": "ipython3",
   "version": "3.9.12"
  },
  "papermill": {
   "default_parameters": {},
   "duration": 40.758857,
   "end_time": "2022-05-09T20:18:52.027654",
   "environment_variables": {},
   "exception": null,
   "input_path": "bus_service_increase/competitive-parallel-routes.ipynb",
   "output_path": "portfolio/parallel_corridors/district_10-stockton/competitive-parallel-routes__itp_id_341.ipynb",
   "parameters": {
    "district": "10 - Stockton",
    "itp_id": 341
   },
   "start_time": "2022-05-09T20:18:11.268797",
   "version": "2.3.4"
  }
 },
 "nbformat": 4,
 "nbformat_minor": 5
}