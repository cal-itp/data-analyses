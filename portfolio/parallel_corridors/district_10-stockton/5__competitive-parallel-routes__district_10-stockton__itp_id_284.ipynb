{
 "cells": [
  {
   "cell_type": "code",
   "execution_count": 1,
   "id": "95d00857-6a20-4529-a519-2cc7182928a9",
   "metadata": {
    "execution": {
     "iopub.execute_input": "2022-05-12T19:51:29.410086Z",
     "iopub.status.busy": "2022-05-12T19:51:29.409535Z",
     "iopub.status.idle": "2022-05-12T19:51:38.066868Z",
     "shell.execute_reply": "2022-05-12T19:51:38.066255Z"
    },
    "jupyter": {
     "source_hidden": true
    },
    "papermill": {
     "duration": 8.674654,
     "end_time": "2022-05-12T19:51:38.069257",
     "exception": false,
     "start_time": "2022-05-12T19:51:29.394603",
     "status": "completed"
    },
    "tags": [
     "remove_input"
    ]
   },
   "outputs": [],
   "source": [
    "%%capture\n",
    "import warnings\n",
    "warnings.filterwarnings('ignore')\n",
    "\n",
    "import altair as alt\n",
    "import calitp.magics\n",
    "import geopandas as gpd\n",
    "import intake\n",
    "import pandas as pd\n",
    "\n",
    "from IPython.display import display, Markdown, HTML\n",
    "\n",
    "import parallel_corridors_utils\n",
    "import deploy_portfolio_yaml\n",
    "from shared_utils import styleguide, geography_utils\n",
    "from make_stripplot_data import diff_cutoffs\n",
    "\n",
    "catalog = intake.open_catalog(\"./*.yml\")\n",
    "alt.renderers.enable(\"html\")"
   ]
  },
  {
   "cell_type": "code",
   "execution_count": 2,
   "id": "8af2a0c1-f3da-408d-9bea-11d9fbf8695d",
   "metadata": {
    "execution": {
     "iopub.execute_input": "2022-05-12T19:51:38.096237Z",
     "iopub.status.busy": "2022-05-12T19:51:38.095729Z",
     "iopub.status.idle": "2022-05-12T19:51:38.099534Z",
     "shell.execute_reply": "2022-05-12T19:51:38.098991Z"
    },
    "jupyter": {
     "source_hidden": true
    },
    "papermill": {
     "duration": 0.019069,
     "end_time": "2022-05-12T19:51:38.101115",
     "exception": false,
     "start_time": "2022-05-12T19:51:38.082046",
     "status": "completed"
    },
    "tags": [
     "parameters",
     "remove_input"
    ]
   },
   "outputs": [],
   "source": [
    "# parameters cell\n",
    "itp_id = 182"
   ]
  },
  {
   "cell_type": "code",
   "execution_count": 3,
   "id": "ee57c370",
   "metadata": {
    "execution": {
     "iopub.execute_input": "2022-05-12T19:51:38.126198Z",
     "iopub.status.busy": "2022-05-12T19:51:38.125710Z",
     "iopub.status.idle": "2022-05-12T19:51:38.129593Z",
     "shell.execute_reply": "2022-05-12T19:51:38.129054Z"
    },
    "jupyter": {
     "source_hidden": true
    },
    "papermill": {
     "duration": 0.018341,
     "end_time": "2022-05-12T19:51:38.131192",
     "exception": false,
     "start_time": "2022-05-12T19:51:38.112851",
     "status": "completed"
    },
    "tags": [
     "injected-parameters",
     "remove_input"
    ]
   },
   "outputs": [],
   "source": [
    "# Parameters\n",
    "district = \"10 - Stockton\"\n",
    "itp_id = 284\n"
   ]
  },
  {
   "cell_type": "code",
   "execution_count": 4,
   "id": "9582aaf4-79ff-412a-b248-8d8d693ebd4f",
   "metadata": {
    "execution": {
     "iopub.execute_input": "2022-05-12T19:51:38.157166Z",
     "iopub.status.busy": "2022-05-12T19:51:38.156641Z",
     "iopub.status.idle": "2022-05-12T19:51:39.411931Z",
     "shell.execute_reply": "2022-05-12T19:51:39.410913Z"
    },
    "jupyter": {
     "source_hidden": true
    },
    "papermill": {
     "duration": 1.271697,
     "end_time": "2022-05-12T19:51:39.414558",
     "exception": false,
     "start_time": "2022-05-12T19:51:38.142861",
     "status": "completed"
    },
    "tags": [
     "remove_input"
    ]
   },
   "outputs": [],
   "source": [
    "df = catalog.competitive_route_variability.read()\n",
    "\n",
    "df = (df[(df.calitp_itp_id == itp_id) & \n",
    "         (df.route_group.notna())]\n",
    "      .rename(columns = {\"route_name_used\": \"route_name\"})\n",
    "      .reset_index(drop=True)\n",
    "     )\n",
    "\n",
    "if itp_id == 182:\n",
    "    df = df.assign(\n",
    "        route_id = df.route_id.str.replace('-13153', '').astype(int)\n",
    "    )"
   ]
  },
  {
   "cell_type": "code",
   "execution_count": 5,
   "id": "33ac4b06-f647-4dce-a625-8f2c1b37cc60",
   "metadata": {
    "execution": {
     "iopub.execute_input": "2022-05-12T19:51:39.440524Z",
     "iopub.status.busy": "2022-05-12T19:51:39.440261Z",
     "iopub.status.idle": "2022-05-12T19:51:39.448574Z",
     "shell.execute_reply": "2022-05-12T19:51:39.447774Z"
    },
    "jupyter": {
     "source_hidden": true
    },
    "papermill": {
     "duration": 0.023601,
     "end_time": "2022-05-12T19:51:39.450928",
     "exception": false,
     "start_time": "2022-05-12T19:51:39.427327",
     "status": "completed"
    },
    "tags": [
     "remove_input"
    ]
   },
   "outputs": [],
   "source": [
    "%%capture_parameters\n",
    "operator_name = df.name.iloc[0]\n",
    "district_number = f\"{df.caltrans_district.iloc[0].split('-')[0].strip()}\"\n",
    "district_name = f\"{df.caltrans_district.iloc[0].split('-')[1].strip().lower().replace(' ', '-')}\"\n",
    "\n",
    "itp_id, operator_name, district_number, district_name"
   ]
  },
  {
   "cell_type": "markdown",
   "id": "65bc6f5c-8348-42ee-b2dd-52057c406852",
   "metadata": {
    "papermill": {
     "duration": 0.014386,
     "end_time": "2022-05-12T19:51:39.486922",
     "exception": false,
     "start_time": "2022-05-12T19:51:39.472536",
     "status": "completed"
    },
    "tags": []
   },
   "source": [
    "# San Joaquin Regional Transit District (ITP ID: 284)"
   ]
  },
  {
   "cell_type": "code",
   "execution_count": 6,
   "id": "a689c1ab-2c6c-4831-8d64-897f5986f571",
   "metadata": {
    "execution": {
     "iopub.execute_input": "2022-05-12T19:51:39.518117Z",
     "iopub.status.busy": "2022-05-12T19:51:39.517241Z",
     "iopub.status.idle": "2022-05-12T19:51:39.523583Z",
     "shell.execute_reply": "2022-05-12T19:51:39.523023Z"
    },
    "jupyter": {
     "source_hidden": true
    },
    "papermill": {
     "duration": 0.023496,
     "end_time": "2022-05-12T19:51:39.525402",
     "exception": false,
     "start_time": "2022-05-12T19:51:39.501906",
     "status": "completed"
    },
    "tags": [
     "remove_input"
    ]
   },
   "outputs": [
    {
     "data": {
      "text/html": [
       "<h1>Competitive & Parallel Routes</h1>"
      ],
      "text/plain": [
       "<IPython.core.display.HTML object>"
      ]
     },
     "metadata": {},
     "output_type": "display_data"
    }
   ],
   "source": [
    "display(HTML(\"<h1>Competitive & Parallel Routes</h1>\")) "
   ]
  },
  {
   "cell_type": "code",
   "execution_count": 7,
   "id": "2cb4d8d5-4760-40e4-85b1-cb833d8bb648",
   "metadata": {
    "execution": {
     "iopub.execute_input": "2022-05-12T19:51:39.556973Z",
     "iopub.status.busy": "2022-05-12T19:51:39.556143Z",
     "iopub.status.idle": "2022-05-12T19:51:49.673409Z",
     "shell.execute_reply": "2022-05-12T19:51:49.671369Z"
    },
    "jupyter": {
     "source_hidden": true
    },
    "papermill": {
     "duration": 10.13609,
     "end_time": "2022-05-12T19:51:49.676185",
     "exception": false,
     "start_time": "2022-05-12T19:51:39.540095",
     "status": "completed"
    },
    "tags": [
     "remove_input"
    ]
   },
   "outputs": [],
   "source": [
    "# Grab parameters for narrative text - clean up formatting here \n",
    "district = df.caltrans_district.iloc[0]\n",
    "formatted_date = pd.to_datetime(parallel_corridors_utils.SELECTED_DATE).strftime('%m-%d-%Y')\n",
    "\n",
    "PCT_COMPETITIVE_THRESHOLD = 0.75\n",
    "PCT_TRIPS_BELOW_CUTOFF = 1.0\n",
    "\n",
    "stats = parallel_corridors_utils.operator_parallel_competitive_stats(\n",
    "    itp_id, PCT_COMPETITIVE_THRESHOLD, PCT_TRIPS_BELOW_CUTOFF)\n",
    "\n",
    "pct_parallel = round(stats['parallel_routes'] / stats['num_routes'] * 100, 1 )\n",
    "pct_competitive =  round(stats['competitive_routes'] / stats['num_routes'] * 100, 1 )\n",
    "pct_viable =  round(stats['viable_competitive_routes'] / stats['num_routes'] * 100, 1 )"
   ]
  },
  {
   "cell_type": "code",
   "execution_count": 8,
   "id": "8bf30c8f-6aa5-47bb-82ae-a906732e81fd",
   "metadata": {
    "execution": {
     "iopub.execute_input": "2022-05-12T19:51:49.708616Z",
     "iopub.status.busy": "2022-05-12T19:51:49.708270Z",
     "iopub.status.idle": "2022-05-12T19:51:49.738069Z",
     "shell.execute_reply": "2022-05-12T19:51:49.737281Z"
    },
    "jupyter": {
     "source_hidden": true
    },
    "papermill": {
     "duration": 0.050734,
     "end_time": "2022-05-12T19:51:49.744786",
     "exception": false,
     "start_time": "2022-05-12T19:51:49.694052",
     "status": "completed"
    },
    "tags": [
     "remove_input"
    ]
   },
   "outputs": [],
   "source": [
    "# Display a table of route-level stats for each route_group\n",
    "# Displaying route_name makes chart too crowded\n",
    "\n",
    "# Get route stats (for entire df)\n",
    "route_stats = parallel_corridors_utils.competitive_route_level_stats(df)\n",
    "    \n",
    "def style_route_stats(df, top15_routes):\n",
    "    df = df[df.route_id.isin(top15_routes)]\n",
    "    \n",
    "    # Rename columns for display\n",
    "    rename_cols = {\n",
    "        \"route_id\": \"Route ID\",\n",
    "        \"route_name\": \"Route Name\",\n",
    "        \"route_group\": \"Route Group\",\n",
    "        \"num_trips\": \"# trips\",\n",
    "        \"daily_avg_freq\": \"Daily Avg Freq (trips per hr)\",\n",
    "        \"pm_peak_freq\": \"PM Peak Avg Freq (trips per hr)\",\n",
    "        \"percentiles\": \"25th, 50th, 75th ptile (hrs)\",\n",
    "    }\n",
    "    \n",
    "    # Style it\n",
    "    drop_cols = [\n",
    "        \"calitp_itp_id\", \"below_cutoff\", \"route_group\", \n",
    "        \"pct_trips_competitive\", \"pct_below_cutoff\",\n",
    "        \"p25\", \"p50\", \"p75\",\n",
    "    ]\n",
    "    \n",
    "    # Change alignment for some columns\n",
    "    # https://stackoverflow.com/questions/59453091/left-align-the-first-column-and-center-align-the-other-columns-in-a-pandas-table\n",
    "    df_style = (df.sort_values(\n",
    "        [\"pct_trips_competitive\", \"below_cutoff\", \n",
    "        \"pct_below_cutoff\", \"route_id\"], \n",
    "        ascending=[False, False, False, True])\n",
    "           .drop(columns = drop_cols)\n",
    "           .rename(columns = rename_cols)\n",
    "           .style.format(\n",
    "               subset=['Daily Avg Freq (trips per hr)', \n",
    "                       'PM Peak Avg Freq (trips per hr)'], \n",
    "               **{'formatter': '{:,.3}'})\n",
    "                .set_properties(subset=['Route ID', 'Route Name'], \n",
    "                                **{'text-align': 'left'})\n",
    "                .set_properties(subset=['# trips', 'Daily Avg Freq (trips per hr)', \n",
    "                                       'PM Peak Avg Freq (trips per hr)'], \n",
    "                               **{'text-align': 'center'})\n",
    "                .set_table_styles([dict(selector='th', \n",
    "                                        props=[('text-align', 'center')])\n",
    "                                        ])\n",
    "           .hide(axis=\"index\")\n",
    "           .to_html()\n",
    "          )\n",
    "    \n",
    "    display(HTML(\"<h4>Route Stats</h4>\"))\n",
    "    display(HTML(df_style))"
   ]
  },
  {
   "cell_type": "markdown",
   "id": "ab667928-5274-4490-82d9-4c39293209a4",
   "metadata": {
    "papermill": {
     "duration": 0.012753,
     "end_time": "2022-05-12T19:51:49.780522",
     "exception": false,
     "start_time": "2022-05-12T19:51:49.767769",
     "status": "completed"
    },
    "tags": []
   },
   "source": [
    "## Quick Stats"
   ]
  },
  {
   "cell_type": "code",
   "execution_count": 9,
   "id": "0416509d-dc62-4165-b62e-64f8b26e8b8e",
   "metadata": {
    "execution": {
     "iopub.execute_input": "2022-05-12T19:51:49.816570Z",
     "iopub.status.busy": "2022-05-12T19:51:49.815950Z",
     "iopub.status.idle": "2022-05-12T19:51:49.823086Z",
     "shell.execute_reply": "2022-05-12T19:51:49.822205Z"
    },
    "jupyter": {
     "source_hidden": true
    },
    "papermill": {
     "duration": 0.024512,
     "end_time": "2022-05-12T19:51:49.826054",
     "exception": false,
     "start_time": "2022-05-12T19:51:49.801542",
     "status": "completed"
    },
    "tags": [
     "remove_input"
    ]
   },
   "outputs": [
    {
     "data": {
      "text/markdown": [
       "**Bus routes in service: 40**<br>**Parallel routes** to State Highway Network (SHN): **24 routes (60.0%)**<br>**Competitive routes** against car travel (within 2x car travel time): **10 routes (25.0%)**<br>**Viable competitive routes** against car travel (within 2x car travel time and within 20, 30, or 40 min cut-off): **6 routes (15.0%)**"
      ],
      "text/plain": [
       "<IPython.core.display.Markdown object>"
      ]
     },
     "metadata": {},
     "output_type": "display_data"
    }
   ],
   "source": [
    "display(\n",
    "    Markdown(\n",
    "        f\"**Bus routes in service: {stats['num_routes']}**\"\n",
    "        \"<br>**Parallel routes** to State Highway Network (SHN): \"\n",
    "        f\"**{stats['parallel_routes']} routes ({pct_parallel}%)**\"\n",
    "        \"<br>**Competitive routes** against car travel (within 2x car travel time): \"\n",
    "        f\"**{stats['competitive_routes']} routes ({pct_competitive}%)**\"\n",
    "        \"<br>**Viable competitive routes** against car travel \"\n",
    "        \"(within 2x car travel time and within 20, 30, or 40 min cut-off): \"\n",
    "        f\"**{stats['viable_competitive_routes']} routes ({pct_viable}%)**\"\n",
    "    )\n",
    ")"
   ]
  },
  {
   "cell_type": "code",
   "execution_count": 10,
   "id": "f9d6ab58-f0ee-460c-b6de-657490e1f386",
   "metadata": {
    "execution": {
     "iopub.execute_input": "2022-05-12T19:51:49.855063Z",
     "iopub.status.busy": "2022-05-12T19:51:49.854800Z",
     "iopub.status.idle": "2022-05-12T19:51:49.861721Z",
     "shell.execute_reply": "2022-05-12T19:51:49.861144Z"
    },
    "jupyter": {
     "source_hidden": true
    },
    "papermill": {
     "duration": 0.024226,
     "end_time": "2022-05-12T19:51:49.863445",
     "exception": false,
     "start_time": "2022-05-12T19:51:49.839219",
     "status": "completed"
    },
    "tags": [
     "remove_input"
    ]
   },
   "outputs": [],
   "source": [
    "def set_yaxis_range(df, y_col):\n",
    "    Y_MIN = df[y_col].min()\n",
    "    Y_MAX = df[y_col].max()\n",
    "    \n",
    "    return Y_MIN, Y_MAX\n",
    "\n",
    "# Rather than set it according to the operator, which can vary,\n",
    "# just use set thresholds for each group\n",
    "def top15_routes(df, route_group):\n",
    "    # grab top 15 routes where majority of trips are below that cut-off \n",
    "    # but show 15 max, otherwise, show less, since these won't be as interesting to operators\n",
    "    df2 = (df[(df.route_group==route_group) &\n",
    "              (df.pct_below_cutoff >= PCT_TRIPS_BELOW_CUTOFF)]\n",
    "           .sort_values([\"calitp_itp_id\", \"below_cutoff\", \n",
    "                         \"pct_below_cutoff\", \"route_id\"],\n",
    "                        ascending = [True, False, False, True]\n",
    "                       )\n",
    "           .drop_duplicates(subset=[\"calitp_itp_id\", \"route_id\"])\n",
    "          ).head(15)\n",
    "    \n",
    "    return list(df2.route_id)"
   ]
  },
  {
   "cell_type": "code",
   "execution_count": 11,
   "id": "cf36d559-3349-4144-8086-8ac9ce937a5a",
   "metadata": {
    "execution": {
     "iopub.execute_input": "2022-05-12T19:51:49.899294Z",
     "iopub.status.busy": "2022-05-12T19:51:49.898684Z",
     "iopub.status.idle": "2022-05-12T19:51:49.904470Z",
     "shell.execute_reply": "2022-05-12T19:51:49.903952Z"
    },
    "jupyter": {
     "source_hidden": true
    },
    "papermill": {
     "duration": 0.028241,
     "end_time": "2022-05-12T19:51:49.906070",
     "exception": false,
     "start_time": "2022-05-12T19:51:49.877829",
     "status": "completed"
    },
    "tags": [
     "remove_input"
    ]
   },
   "outputs": [],
   "source": [
    "def caption_with_cutoff(cutoff):\n",
    "    sentence = (\n",
    "        f\"<br>These are routes that have **{int(PCT_TRIPS_BELOW_CUTOFF*100)}% \"\n",
    "        \"of their trips take no more than an \"\n",
    "        f\"additional {cutoff} min** compared to a car \"\n",
    "        \"(up to 15 routes) are shown.\"\n",
    "        \"<br>Within each route group, routes are sorted in descending order \"\n",
    "        \"by % competitive trips and # trips below the additional time cut-off.\"\n",
    "    )\n",
    "    return sentence\n",
    "\n",
    "CAPTIONS_DICT = {\n",
    "    \"short\": caption_with_cutoff(diff_cutoffs['short']),\n",
    "    \"medium\": caption_with_cutoff(diff_cutoffs['medium']),\n",
    "    \"long\": caption_with_cutoff(diff_cutoffs['long']),\n",
    "}"
   ]
  },
  {
   "cell_type": "code",
   "execution_count": 12,
   "id": "e4306d58-6944-47e9-afef-5d5b524c751f",
   "metadata": {
    "execution": {
     "iopub.execute_input": "2022-05-12T19:51:49.934910Z",
     "iopub.status.busy": "2022-05-12T19:51:49.934103Z",
     "iopub.status.idle": "2022-05-12T19:51:49.940982Z",
     "shell.execute_reply": "2022-05-12T19:51:49.940515Z"
    },
    "jupyter": {
     "source_hidden": true
    },
    "papermill": {
     "duration": 0.023513,
     "end_time": "2022-05-12T19:51:49.942813",
     "exception": false,
     "start_time": "2022-05-12T19:51:49.919300",
     "status": "completed"
    },
    "tags": [
     "remove_input"
    ]
   },
   "outputs": [],
   "source": [
    "def setup_charts(df, PCT_COMPETITIVE_THRESHOLD, route_group):\n",
    "    # Set up df for charting (cut-off at some threshold to show most competitive routes)\n",
    "    plot_me = (df[df.pct_trips_competitive > PCT_COMPETITIVE_THRESHOLD]\n",
    "           .drop(columns = \"geometry\")\n",
    "    )\n",
    "    \n",
    "    # Set y-ranges to be the same across route_groups, \n",
    "    # otherwise charts fluctuate too much, even within operator\n",
    "    y_col1 = \"bus_multiplier\"\n",
    "    Y_MIN1, Y_MAX1 = set_yaxis_range(plot_me, y_col1)\n",
    "\n",
    "    y_col2 = \"bus_difference\"\n",
    "    Y_MIN2, Y_MAX2 = set_yaxis_range(plot_me, y_col2)\n",
    "    \n",
    "    # Grab the routes to plot\n",
    "    subset_routes = top15_routes(plot_me, route_group)\n",
    "        \n",
    "    # Display charts\n",
    "    multiplier_chart = parallel_corridors_utils.make_stripplot(\n",
    "        plot_me[plot_me.route_id.isin(subset_routes)], \n",
    "        y_col1, Y_MIN = Y_MIN1, Y_MAX = Y_MAX1\n",
    "    )\n",
    "    \n",
    "    difference_chart = parallel_corridors_utils.make_stripplot(\n",
    "        plot_me[plot_me.route_id.isin(subset_routes)], \n",
    "        y_col2, Y_MIN = Y_MIN2, Y_MAX = Y_MAX2\n",
    "    )\n",
    "    \n",
    "    return subset_routes, multiplier_chart, difference_chart            "
   ]
  },
  {
   "cell_type": "code",
   "execution_count": 13,
   "id": "33a710e8-504c-4942-aa75-ff69f216956e",
   "metadata": {
    "execution": {
     "iopub.execute_input": "2022-05-12T19:51:49.972352Z",
     "iopub.status.busy": "2022-05-12T19:51:49.971672Z",
     "iopub.status.idle": "2022-05-12T19:51:49.990731Z",
     "shell.execute_reply": "2022-05-12T19:51:49.989793Z"
    },
    "jupyter": {
     "source_hidden": true
    },
    "papermill": {
     "duration": 0.036346,
     "end_time": "2022-05-12T19:51:49.992792",
     "exception": false,
     "start_time": "2022-05-12T19:51:49.956446",
     "status": "completed"
    },
    "tags": [
     "remove_input"
    ]
   },
   "outputs": [],
   "source": [
    "def display_charts_for_route_group(df, route_group):    \n",
    "    subset_routes, mult, diff  = setup_charts(df, PCT_COMPETITIVE_THRESHOLD, route_group)\n",
    "\n",
    "    if len(subset_routes) > 0:\n",
    "        display(Markdown(f\"{CAPTIONS_DICT[route_group]}\"))\n",
    "\n",
    "        display(mult)\n",
    "        display(diff)\n",
    "        \n",
    "        # Display route stats for just plotted routes\n",
    "        style_route_stats(route_stats, subset_routes)"
   ]
  },
  {
   "cell_type": "markdown",
   "id": "525f9b38-072b-46d1-96a8-1aa4b038357c",
   "metadata": {
    "papermill": {
     "duration": 0.0143,
     "end_time": "2022-05-12T19:51:50.022821",
     "exception": false,
     "start_time": "2022-05-12T19:51:50.008521",
     "status": "completed"
    },
    "tags": []
   },
   "source": [
    "## Viable Competitive Routes\n",
    "### Short Routes (< 1 hr)"
   ]
  },
  {
   "cell_type": "code",
   "execution_count": 14,
   "id": "57f7084c-2cf7-45c6-ba08-1609e0bd6ca5",
   "metadata": {
    "execution": {
     "iopub.execute_input": "2022-05-12T19:51:50.052261Z",
     "iopub.status.busy": "2022-05-12T19:51:50.051596Z",
     "iopub.status.idle": "2022-05-12T19:51:50.362669Z",
     "shell.execute_reply": "2022-05-12T19:51:50.362133Z"
    },
    "jupyter": {
     "source_hidden": true
    },
    "papermill": {
     "duration": 0.328312,
     "end_time": "2022-05-12T19:51:50.364642",
     "exception": false,
     "start_time": "2022-05-12T19:51:50.036330",
     "status": "completed"
    },
    "tags": [
     "remove_input"
    ]
   },
   "outputs": [
    {
     "data": {
      "text/markdown": [
       "<br>These are routes that have **100% of their trips take no more than an additional 20 min** compared to a car (up to 15 routes) are shown.<br>Within each route group, routes are sorted in descending order by % competitive trips and # trips below the additional time cut-off."
      ],
      "text/plain": [
       "<IPython.core.display.Markdown object>"
      ]
     },
     "metadata": {},
     "output_type": "display_data"
    },
    {
     "data": {
      "text/html": [
       "\n",
       "<div id=\"altair-viz-f6f51223260b4920a9be36a0a1afe754\"></div>\n",
       "<script type=\"text/javascript\">\n",
       "  var VEGA_DEBUG = (typeof VEGA_DEBUG == \"undefined\") ? {} : VEGA_DEBUG;\n",
       "  (function(spec, embedOpt){\n",
       "    let outputDiv = document.currentScript.previousElementSibling;\n",
       "    if (outputDiv.id !== \"altair-viz-f6f51223260b4920a9be36a0a1afe754\") {\n",
       "      outputDiv = document.getElementById(\"altair-viz-f6f51223260b4920a9be36a0a1afe754\");\n",
       "    }\n",
       "    const paths = {\n",
       "      \"vega\": \"https://cdn.jsdelivr.net/npm//vega@5?noext\",\n",
       "      \"vega-lib\": \"https://cdn.jsdelivr.net/npm//vega-lib?noext\",\n",
       "      \"vega-lite\": \"https://cdn.jsdelivr.net/npm//vega-lite@4.17.0?noext\",\n",
       "      \"vega-embed\": \"https://cdn.jsdelivr.net/npm//vega-embed@6?noext\",\n",
       "    };\n",
       "\n",
       "    function maybeLoadScript(lib, version) {\n",
       "      var key = `${lib.replace(\"-\", \"\")}_version`;\n",
       "      return (VEGA_DEBUG[key] == version) ?\n",
       "        Promise.resolve(paths[lib]) :\n",
       "        new Promise(function(resolve, reject) {\n",
       "          var s = document.createElement('script');\n",
       "          document.getElementsByTagName(\"head\")[0].appendChild(s);\n",
       "          s.async = true;\n",
       "          s.onload = () => {\n",
       "            VEGA_DEBUG[key] = version;\n",
       "            return resolve(paths[lib]);\n",
       "          };\n",
       "          s.onerror = () => reject(`Error loading script: ${paths[lib]}`);\n",
       "          s.src = paths[lib];\n",
       "        });\n",
       "    }\n",
       "\n",
       "    function showError(err) {\n",
       "      outputDiv.innerHTML = `<div class=\"error\" style=\"color:red;\">${err}</div>`;\n",
       "      throw err;\n",
       "    }\n",
       "\n",
       "    function displayChart(vegaEmbed) {\n",
       "      vegaEmbed(outputDiv, spec, embedOpt)\n",
       "        .catch(err => showError(`Javascript Error: ${err.message}<br>This usually means there's a typo in your chart specification. See the javascript console for the full traceback.`));\n",
       "    }\n",
       "\n",
       "    if(typeof define === \"function\" && define.amd) {\n",
       "      requirejs.config({paths});\n",
       "      require([\"vega-embed\"], displayChart, err => showError(`Error loading script: ${err.message}`));\n",
       "    } else {\n",
       "      maybeLoadScript(\"vega\", \"5\")\n",
       "        .then(() => maybeLoadScript(\"vega-lite\", \"4.17.0\"))\n",
       "        .then(() => maybeLoadScript(\"vega-embed\", \"6\"))\n",
       "        .catch(showError)\n",
       "        .then(() => displayChart(vegaEmbed));\n",
       "    }\n",
       "  })({\"config\": {\"view\": {\"continuousWidth\": 400, \"continuousHeight\": 300, \"stroke\": null}, \"facet\": {\"spacing\": 0}}, \"data\": {\"name\": \"data-90acabf3c0d73721ccf03a34fc7a7ad4\"}, \"facet\": {\"column\": {\"field\": \"route_id\", \"sort\": [\"510\", \"580\", \"90\", \"380\", \"390\"], \"title\": \"Route ID\", \"type\": \"nominal\"}}, \"spec\": {\"layer\": [{\"mark\": \"rule\", \"encoding\": {\"color\": {\"value\": \"black\"}, \"y\": {\"field\": \"cutoff\", \"type\": \"quantitative\"}}, \"selection\": {\"selector001\": {\"type\": \"interval\", \"bind\": \"scales\", \"encodings\": [\"x\", \"y\"]}}}, {\"mark\": {\"type\": \"point\", \"opacity\": 0.65, \"size\": 12, \"strokeWidth\": 1.1}, \"encoding\": {\"color\": {\"field\": \"time_of_day\", \"scale\": {\"range\": [\"#136C97\", \"#E16B26\", \"#F6BF16\", \"#00896B\", \"#7790A3\", \"#5B559C\"]}, \"sort\": [\"AM Peak\", \"Midday\", \"PM Peak\", \"Owl Service\"], \"title\": \"Time of Day\", \"type\": \"nominal\"}, \"tooltip\": [{\"field\": \"route_id\", \"type\": \"nominal\"}, {\"field\": \"route_name\", \"type\": \"nominal\"}, {\"field\": \"trip_id\", \"type\": \"nominal\"}, {\"field\": \"service_hours\", \"type\": \"quantitative\"}, {\"field\": \"car_duration_hours\", \"type\": \"quantitative\"}, {\"field\": \"bus_multiplier\", \"type\": \"quantitative\"}, {\"field\": \"bus_difference\", \"type\": \"quantitative\"}, {\"field\": \"num_trips\", \"type\": \"quantitative\"}, {\"field\": \"num_competitive\", \"type\": \"quantitative\"}, {\"field\": \"pct_trips_competitive\", \"type\": \"quantitative\"}, {\"field\": \"pct_below_cutoff\", \"type\": \"quantitative\"}, {\"field\": \"p25\", \"type\": \"quantitative\"}, {\"field\": \"p50\", \"type\": \"quantitative\"}, {\"field\": \"p75\", \"type\": \"quantitative\"}], \"x\": {\"axis\": {\"grid\": false, \"labels\": false, \"ticks\": true, \"values\": [0]}, \"field\": \"jitter\", \"scale\": {}, \"title\": null, \"type\": \"quantitative\"}, \"y\": {\"field\": \"bus_multiplier\", \"scale\": {\"domain\": [0, 3.0]}, \"title\": \"Ratio of Bus to Car Travel Time\", \"type\": \"quantitative\"}}, \"transform\": [{\"calculate\": \"sqrt(-2*log(random()))*cos(2*PI*random())\", \"as\": \"jitter\"}], \"width\": 50}, {\"layer\": [{\"mark\": {\"type\": \"point\", \"opacity\": 0.6, \"size\": 20, \"strokeWidth\": 1.3}, \"encoding\": {\"color\": {\"value\": \"#323434\"}, \"y\": {\"field\": \"bus_multiplier\", \"type\": \"quantitative\"}}, \"transform\": [{\"filter\": \"(datum.p50_trip === 1)\"}]}, {\"mark\": {\"type\": \"text\", \"align\": \"center\", \"baseline\": \"middle\"}, \"encoding\": {\"color\": {\"value\": \"black\"}, \"text\": {\"field\": \"pct_trips_competitive\", \"format\": \".0%\", \"type\": \"quantitative\"}, \"tooltip\": [{\"field\": \"route_id\", \"type\": \"nominal\"}, {\"field\": \"route_name\", \"type\": \"nominal\"}, {\"field\": \"trip_id\", \"type\": \"nominal\"}, {\"field\": \"service_hours\", \"type\": \"quantitative\"}, {\"field\": \"car_duration_hours\", \"type\": \"quantitative\"}, {\"field\": \"bus_multiplier\", \"type\": \"quantitative\"}, {\"field\": \"bus_difference\", \"type\": \"quantitative\"}, {\"field\": \"num_trips\", \"type\": \"quantitative\"}, {\"field\": \"num_competitive\", \"type\": \"quantitative\"}, {\"field\": \"pct_trips_competitive\", \"type\": \"quantitative\"}, {\"field\": \"pct_below_cutoff\", \"type\": \"quantitative\"}, {\"field\": \"p25\", \"type\": \"quantitative\"}, {\"field\": \"p50\", \"type\": \"quantitative\"}, {\"field\": \"p75\", \"type\": \"quantitative\"}], \"x\": {\"value\": 30}, \"y\": {\"value\": 15}}, \"transform\": [{\"calculate\": \"sqrt(-2*log(random()))*cos(2*PI*random())\", \"as\": \"jitter\"}, {\"filter\": \"(datum.fastest_trip === 1)\"}]}]}]}, \"resolve\": {\"scale\": {\"y\": \"shared\"}}, \"title\": \"Ratio of Bus to Car Travel Time\", \"$schema\": \"https://vega.github.io/schema/vega-lite/v4.17.0.json\", \"datasets\": {\"data-90acabf3c0d73721ccf03a34fc7a7ad4\": [{\"calitp_itp_id\": 284, \"trip_key\": -5992826917194029100, \"trip_id\": \"254572\", \"shape_id\": \"32017\", \"route_id\": \"380\", \"service_hours\": 0.38, \"trip_first_departure_ts\": 23460, \"trip_last_arrival_ts\": 24840, \"departure_hour\": 6, \"time_of_day\": \"Owl Service\", \"p25\": 0.38, \"p50\": 0.405, \"p75\": 0.43, \"p50_trip\": 0, \"fastest_trip\": 1, \"car_duration_hours\": 0.35, \"competitive_route\": 1, \"bus_multiplier\": 1.09, \"bus_difference\": 1.8, \"num_trips\": 4, \"num_competitive\": 4, \"pct_trips_competitive\": 1.0, \"bus_difference_spread\": 3.0, \"route_group\": \"short\", \"max_trip_hrs\": 0.43, \"max_trip_route_group\": 0.43, \"below_cutoff\": 4, \"pct_below_cutoff\": 1.0, \"name\": \"San Joaquin Regional Transit District\", \"caltrans_district\": \"10 - Stockton\", \"drmt_organization_name\": \"['recBXxWghAGPPIwaR']\", \"route_name\": \"Limited Weekday Crosstown Service\", \"cutoff2\": 20, \"cutoff\": 2}, {\"calitp_itp_id\": 284, \"trip_key\": 6109744276762557972, \"trip_id\": \"254571\", \"shape_id\": \"32017\", \"route_id\": \"380\", \"service_hours\": 0.38, \"trip_first_departure_ts\": 23580, \"trip_last_arrival_ts\": 24960, \"departure_hour\": 6, \"time_of_day\": \"Owl Service\", \"p25\": 0.38, \"p50\": 0.405, \"p75\": 0.43, \"p50_trip\": 0, \"fastest_trip\": 0, \"car_duration_hours\": 0.35, \"competitive_route\": 1, \"bus_multiplier\": 1.09, \"bus_difference\": 1.8, \"num_trips\": 4, \"num_competitive\": 4, \"pct_trips_competitive\": 1.0, \"bus_difference_spread\": 3.0, \"route_group\": \"short\", \"max_trip_hrs\": 0.43, \"max_trip_route_group\": 0.43, \"below_cutoff\": 4, \"pct_below_cutoff\": 1.0, \"name\": \"San Joaquin Regional Transit District\", \"caltrans_district\": \"10 - Stockton\", \"drmt_organization_name\": \"['recBXxWghAGPPIwaR']\", \"route_name\": \"Limited Weekday Crosstown Service\", \"cutoff2\": 20, \"cutoff\": 2}, {\"calitp_itp_id\": 284, \"trip_key\": -4197460441902800956, \"trip_id\": \"254573\", \"shape_id\": \"32018\", \"route_id\": \"380\", \"service_hours\": 0.43, \"trip_first_departure_ts\": 51900, \"trip_last_arrival_ts\": 53460, \"departure_hour\": 14, \"time_of_day\": \"Midday\", \"p25\": 0.38, \"p50\": 0.405, \"p75\": 0.43, \"p50_trip\": 1, \"fastest_trip\": 0, \"car_duration_hours\": 0.35, \"competitive_route\": 1, \"bus_multiplier\": 1.23, \"bus_difference\": 4.8, \"num_trips\": 4, \"num_competitive\": 4, \"pct_trips_competitive\": 1.0, \"bus_difference_spread\": 3.0, \"route_group\": \"short\", \"max_trip_hrs\": 0.43, \"max_trip_route_group\": 0.43, \"below_cutoff\": 4, \"pct_below_cutoff\": 1.0, \"name\": \"San Joaquin Regional Transit District\", \"caltrans_district\": \"10 - Stockton\", \"drmt_organization_name\": \"['recBXxWghAGPPIwaR']\", \"route_name\": \"Limited Weekday Crosstown Service\", \"cutoff2\": 20, \"cutoff\": 2}, {\"calitp_itp_id\": 284, \"trip_key\": -4129610192026572638, \"trip_id\": \"254574\", \"shape_id\": \"32018\", \"route_id\": \"380\", \"service_hours\": 0.43, \"trip_first_departure_ts\": 51840, \"trip_last_arrival_ts\": 53400, \"departure_hour\": 14, \"time_of_day\": \"Midday\", \"p25\": 0.38, \"p50\": 0.405, \"p75\": 0.43, \"p50_trip\": 1, \"fastest_trip\": 0, \"car_duration_hours\": 0.35, \"competitive_route\": 1, \"bus_multiplier\": 1.23, \"bus_difference\": 4.8, \"num_trips\": 4, \"num_competitive\": 4, \"pct_trips_competitive\": 1.0, \"bus_difference_spread\": 3.0, \"route_group\": \"short\", \"max_trip_hrs\": 0.43, \"max_trip_route_group\": 0.43, \"below_cutoff\": 4, \"pct_below_cutoff\": 1.0, \"name\": \"San Joaquin Regional Transit District\", \"caltrans_district\": \"10 - Stockton\", \"drmt_organization_name\": \"['recBXxWghAGPPIwaR']\", \"route_name\": \"Limited Weekday Crosstown Service\", \"cutoff2\": 20, \"cutoff\": 2}, {\"calitp_itp_id\": 284, \"trip_key\": 412418593923932151, \"trip_id\": \"254578\", \"shape_id\": \"32022\", \"route_id\": \"390\", \"service_hours\": 0.62, \"trip_first_departure_ts\": 21660, \"trip_last_arrival_ts\": 23880, \"departure_hour\": 6, \"time_of_day\": \"Owl Service\", \"p25\": 0.665, \"p50\": 0.71, \"p75\": 0.755, \"p50_trip\": 1, \"fastest_trip\": 1, \"car_duration_hours\": 0.52, \"competitive_route\": 1, \"bus_multiplier\": 1.19, \"bus_difference\": 6.0, \"num_trips\": 2, \"num_competitive\": 2, \"pct_trips_competitive\": 1.0, \"bus_difference_spread\": 10.8, \"route_group\": \"short\", \"max_trip_hrs\": 0.8, \"max_trip_route_group\": 0.8, \"below_cutoff\": 2, \"pct_below_cutoff\": 1.0, \"name\": \"San Joaquin Regional Transit District\", \"caltrans_district\": \"10 - Stockton\", \"drmt_organization_name\": \"['recBXxWghAGPPIwaR']\", \"route_name\": \"Limited Weekday Crosstown Service\", \"cutoff2\": 20, \"cutoff\": 2}, {\"calitp_itp_id\": 284, \"trip_key\": -6538334404796881307, \"trip_id\": \"254579\", \"shape_id\": \"32023\", \"route_id\": \"390\", \"service_hours\": 0.8, \"trip_first_departure_ts\": 55200, \"trip_last_arrival_ts\": 58080, \"departure_hour\": 15, \"time_of_day\": \"Midday\", \"p25\": 0.665, \"p50\": 0.71, \"p75\": 0.755, \"p50_trip\": 0, \"fastest_trip\": 0, \"car_duration_hours\": 0.52, \"competitive_route\": 1, \"bus_multiplier\": 1.54, \"bus_difference\": 16.8, \"num_trips\": 2, \"num_competitive\": 2, \"pct_trips_competitive\": 1.0, \"bus_difference_spread\": 10.8, \"route_group\": \"short\", \"max_trip_hrs\": 0.8, \"max_trip_route_group\": 0.8, \"below_cutoff\": 2, \"pct_below_cutoff\": 1.0, \"name\": \"San Joaquin Regional Transit District\", \"caltrans_district\": \"10 - Stockton\", \"drmt_organization_name\": \"['recBXxWghAGPPIwaR']\", \"route_name\": \"Limited Weekday Crosstown Service\", \"cutoff2\": 20, \"cutoff\": 2}, {\"calitp_itp_id\": 284, \"trip_key\": -1089047099376457518, \"trip_id\": \"255334\", \"shape_id\": \"32042\", \"route_id\": \"510\", \"service_hours\": 0.43, \"trip_first_departure_ts\": 63540, \"trip_last_arrival_ts\": 65100, \"departure_hour\": 17, \"time_of_day\": \"PM Peak\", \"p25\": 0.47, \"p50\": 0.47, \"p75\": 0.47, \"p50_trip\": 0, \"fastest_trip\": 0, \"car_duration_hours\": 0.32, \"competitive_route\": 1, \"bus_multiplier\": 1.34, \"bus_difference\": 6.6, \"num_trips\": 33, \"num_competitive\": 33, \"pct_trips_competitive\": 1.0, \"bus_difference_spread\": 4.200000000000001, \"route_group\": \"short\", \"max_trip_hrs\": 0.5, \"max_trip_route_group\": 0.5, \"below_cutoff\": 33, \"pct_below_cutoff\": 1.0, \"name\": \"San Joaquin Regional Transit District\", \"caltrans_district\": \"10 - Stockton\", \"drmt_organization_name\": \"['recBXxWghAGPPIwaR']\", \"route_name\": \"Dtc-San Joaquin-El Dorado\", \"cutoff2\": 20, \"cutoff\": 2}, {\"calitp_itp_id\": 284, \"trip_key\": -7320451584444904174, \"trip_id\": \"255335\", \"shape_id\": \"32042\", \"route_id\": \"510\", \"service_hours\": 0.43, \"trip_first_departure_ts\": 61680, \"trip_last_arrival_ts\": 63240, \"departure_hour\": 17, \"time_of_day\": \"PM Peak\", \"p25\": 0.47, \"p50\": 0.47, \"p75\": 0.47, \"p50_trip\": 0, \"fastest_trip\": 0, \"car_duration_hours\": 0.32, \"competitive_route\": 1, \"bus_multiplier\": 1.34, \"bus_difference\": 6.6, \"num_trips\": 33, \"num_competitive\": 33, \"pct_trips_competitive\": 1.0, \"bus_difference_spread\": 4.200000000000001, \"route_group\": \"short\", \"max_trip_hrs\": 0.5, \"max_trip_route_group\": 0.5, \"below_cutoff\": 33, \"pct_below_cutoff\": 1.0, \"name\": \"San Joaquin Regional Transit District\", \"caltrans_district\": \"10 - Stockton\", \"drmt_organization_name\": \"['recBXxWghAGPPIwaR']\", \"route_name\": \"Dtc-San Joaquin-El Dorado\", \"cutoff2\": 20, \"cutoff\": 2}, {\"calitp_itp_id\": 284, \"trip_key\": -113894542215720961, \"trip_id\": \"255336\", \"shape_id\": \"32042\", \"route_id\": \"510\", \"service_hours\": 0.43, \"trip_first_departure_ts\": 59280, \"trip_last_arrival_ts\": 60840, \"departure_hour\": 16, \"time_of_day\": \"Midday\", \"p25\": 0.47, \"p50\": 0.47, \"p75\": 0.47, \"p50_trip\": 0, \"fastest_trip\": 0, \"car_duration_hours\": 0.32, \"competitive_route\": 1, \"bus_multiplier\": 1.34, \"bus_difference\": 6.6, \"num_trips\": 33, \"num_competitive\": 33, \"pct_trips_competitive\": 1.0, \"bus_difference_spread\": 4.200000000000001, \"route_group\": \"short\", \"max_trip_hrs\": 0.5, \"max_trip_route_group\": 0.5, \"below_cutoff\": 33, \"pct_below_cutoff\": 1.0, \"name\": \"San Joaquin Regional Transit District\", \"caltrans_district\": \"10 - Stockton\", \"drmt_organization_name\": \"['recBXxWghAGPPIwaR']\", \"route_name\": \"Dtc-San Joaquin-El Dorado\", \"cutoff2\": 20, \"cutoff\": 2}, {\"calitp_itp_id\": 284, \"trip_key\": -1712727281100994985, \"trip_id\": \"255338\", \"shape_id\": \"32042\", \"route_id\": \"510\", \"service_hours\": 0.43, \"trip_first_departure_ts\": 54780, \"trip_last_arrival_ts\": 56340, \"departure_hour\": 15, \"time_of_day\": \"Midday\", \"p25\": 0.47, \"p50\": 0.47, \"p75\": 0.47, \"p50_trip\": 0, \"fastest_trip\": 0, \"car_duration_hours\": 0.32, \"competitive_route\": 1, \"bus_multiplier\": 1.34, \"bus_difference\": 6.6, \"num_trips\": 33, \"num_competitive\": 33, \"pct_trips_competitive\": 1.0, \"bus_difference_spread\": 4.200000000000001, \"route_group\": \"short\", \"max_trip_hrs\": 0.5, \"max_trip_route_group\": 0.5, \"below_cutoff\": 33, \"pct_below_cutoff\": 1.0, \"name\": \"San Joaquin Regional Transit District\", \"caltrans_district\": \"10 - Stockton\", \"drmt_organization_name\": \"['recBXxWghAGPPIwaR']\", \"route_name\": \"Dtc-San Joaquin-El Dorado\", \"cutoff2\": 20, \"cutoff\": 2}, {\"calitp_itp_id\": 284, \"trip_key\": 2355080980409153665, \"trip_id\": \"255337\", \"shape_id\": \"32042\", \"route_id\": \"510\", \"service_hours\": 0.43, \"trip_first_departure_ts\": 57480, \"trip_last_arrival_ts\": 59040, \"departure_hour\": 15, \"time_of_day\": \"Midday\", \"p25\": 0.47, \"p50\": 0.47, \"p75\": 0.47, \"p50_trip\": 0, \"fastest_trip\": 0, \"car_duration_hours\": 0.32, \"competitive_route\": 1, \"bus_multiplier\": 1.34, \"bus_difference\": 6.6, \"num_trips\": 33, \"num_competitive\": 33, \"pct_trips_competitive\": 1.0, \"bus_difference_spread\": 4.200000000000001, \"route_group\": \"short\", \"max_trip_hrs\": 0.5, \"max_trip_route_group\": 0.5, \"below_cutoff\": 33, \"pct_below_cutoff\": 1.0, \"name\": \"San Joaquin Regional Transit District\", \"caltrans_district\": \"10 - Stockton\", \"drmt_organization_name\": \"['recBXxWghAGPPIwaR']\", \"route_name\": \"Dtc-San Joaquin-El Dorado\", \"cutoff2\": 20, \"cutoff\": 2}, {\"calitp_itp_id\": 284, \"trip_key\": -4261603275697094433, \"trip_id\": \"255333\", \"shape_id\": \"32042\", \"route_id\": \"510\", \"service_hours\": 0.43, \"trip_first_departure_ts\": 65880, \"trip_last_arrival_ts\": 67440, \"departure_hour\": 18, \"time_of_day\": \"PM Peak\", \"p25\": 0.47, \"p50\": 0.47, \"p75\": 0.47, \"p50_trip\": 0, \"fastest_trip\": 1, \"car_duration_hours\": 0.32, \"competitive_route\": 1, \"bus_multiplier\": 1.34, \"bus_difference\": 6.6, \"num_trips\": 33, \"num_competitive\": 33, \"pct_trips_competitive\": 1.0, \"bus_difference_spread\": 4.200000000000001, \"route_group\": \"short\", \"max_trip_hrs\": 0.5, \"max_trip_route_group\": 0.5, \"below_cutoff\": 33, \"pct_below_cutoff\": 1.0, \"name\": \"San Joaquin Regional Transit District\", \"caltrans_district\": \"10 - Stockton\", \"drmt_organization_name\": \"['recBXxWghAGPPIwaR']\", \"route_name\": \"Dtc-San Joaquin-El Dorado\", \"cutoff2\": 20, \"cutoff\": 2}, {\"calitp_itp_id\": 284, \"trip_key\": 1227420039813147579, \"trip_id\": \"255348\", \"shape_id\": \"32042\", \"route_id\": \"510\", \"service_hours\": 0.45, \"trip_first_departure_ts\": 23760, \"trip_last_arrival_ts\": 25380, \"departure_hour\": 6, \"time_of_day\": \"Owl Service\", \"p25\": 0.47, \"p50\": 0.47, \"p75\": 0.47, \"p50_trip\": 0, \"fastest_trip\": 0, \"car_duration_hours\": 0.32, \"competitive_route\": 1, \"bus_multiplier\": 1.41, \"bus_difference\": 7.8, \"num_trips\": 33, \"num_competitive\": 33, \"pct_trips_competitive\": 1.0, \"bus_difference_spread\": 4.200000000000001, \"route_group\": \"short\", \"max_trip_hrs\": 0.5, \"max_trip_route_group\": 0.5, \"below_cutoff\": 33, \"pct_below_cutoff\": 1.0, \"name\": \"San Joaquin Regional Transit District\", \"caltrans_district\": \"10 - Stockton\", \"drmt_organization_name\": \"['recBXxWghAGPPIwaR']\", \"route_name\": \"Dtc-San Joaquin-El Dorado\", \"cutoff2\": 20, \"cutoff\": 2}, {\"calitp_itp_id\": 284, \"trip_key\": 1613750703174524424, \"trip_id\": \"255346\", \"shape_id\": \"32042\", \"route_id\": \"510\", \"service_hours\": 0.47, \"trip_first_departure_ts\": 31260, \"trip_last_arrival_ts\": 32940, \"departure_hour\": 8, \"time_of_day\": \"AM Peak\", \"p25\": 0.47, \"p50\": 0.47, \"p75\": 0.47, \"p50_trip\": 1, \"fastest_trip\": 0, \"car_duration_hours\": 0.32, \"competitive_route\": 1, \"bus_multiplier\": 1.47, \"bus_difference\": 9.0, \"num_trips\": 33, \"num_competitive\": 33, \"pct_trips_competitive\": 1.0, \"bus_difference_spread\": 4.200000000000001, \"route_group\": \"short\", \"max_trip_hrs\": 0.5, \"max_trip_route_group\": 0.5, \"below_cutoff\": 33, \"pct_below_cutoff\": 1.0, \"name\": \"San Joaquin Regional Transit District\", \"caltrans_district\": \"10 - Stockton\", \"drmt_organization_name\": \"['recBXxWghAGPPIwaR']\", \"route_name\": \"Dtc-San Joaquin-El Dorado\", \"cutoff2\": 20, \"cutoff\": 2}, {\"calitp_itp_id\": 284, \"trip_key\": 7396554801205398788, \"trip_id\": \"255349\", \"shape_id\": \"32042\", \"route_id\": \"510\", \"service_hours\": 0.47, \"trip_first_departure_ts\": 19500, \"trip_last_arrival_ts\": 21180, \"departure_hour\": 5, \"time_of_day\": \"Owl Service\", \"p25\": 0.47, \"p50\": 0.47, \"p75\": 0.47, \"p50_trip\": 1, \"fastest_trip\": 0, \"car_duration_hours\": 0.32, \"competitive_route\": 1, \"bus_multiplier\": 1.47, \"bus_difference\": 9.0, \"num_trips\": 33, \"num_competitive\": 33, \"pct_trips_competitive\": 1.0, \"bus_difference_spread\": 4.200000000000001, \"route_group\": \"short\", \"max_trip_hrs\": 0.5, \"max_trip_route_group\": 0.5, \"below_cutoff\": 33, \"pct_below_cutoff\": 1.0, \"name\": \"San Joaquin Regional Transit District\", \"caltrans_district\": \"10 - Stockton\", \"drmt_organization_name\": \"['recBXxWghAGPPIwaR']\", \"route_name\": \"Dtc-San Joaquin-El Dorado\", \"cutoff2\": 20, \"cutoff\": 2}, {\"calitp_itp_id\": 284, \"trip_key\": -2464531279863090260, \"trip_id\": \"255358\", \"shape_id\": \"32044\", \"route_id\": \"510\", \"service_hours\": 0.47, \"trip_first_departure_ts\": 46500, \"trip_last_arrival_ts\": 48180, \"departure_hour\": 12, \"time_of_day\": \"Midday\", \"p25\": 0.47, \"p50\": 0.47, \"p75\": 0.47, \"p50_trip\": 1, \"fastest_trip\": 0, \"car_duration_hours\": 0.32, \"competitive_route\": 1, \"bus_multiplier\": 1.47, \"bus_difference\": 9.0, \"num_trips\": 33, \"num_competitive\": 33, \"pct_trips_competitive\": 1.0, \"bus_difference_spread\": 4.200000000000001, \"route_group\": \"short\", \"max_trip_hrs\": 0.5, \"max_trip_route_group\": 0.5, \"below_cutoff\": 33, \"pct_below_cutoff\": 1.0, \"name\": \"San Joaquin Regional Transit District\", \"caltrans_district\": \"10 - Stockton\", \"drmt_organization_name\": \"['recBXxWghAGPPIwaR']\", \"route_name\": \"Dtc-San Joaquin-El Dorado\", \"cutoff2\": 20, \"cutoff\": 2}, {\"calitp_itp_id\": 284, \"trip_key\": -6258133635930580822, \"trip_id\": \"255339\", \"shape_id\": \"32042\", \"route_id\": \"510\", \"service_hours\": 0.47, \"trip_first_departure_ts\": 52860, \"trip_last_arrival_ts\": 54540, \"departure_hour\": 14, \"time_of_day\": \"Midday\", \"p25\": 0.47, \"p50\": 0.47, \"p75\": 0.47, \"p50_trip\": 1, \"fastest_trip\": 0, \"car_duration_hours\": 0.32, \"competitive_route\": 1, \"bus_multiplier\": 1.47, \"bus_difference\": 9.0, \"num_trips\": 33, \"num_competitive\": 33, \"pct_trips_competitive\": 1.0, \"bus_difference_spread\": 4.200000000000001, \"route_group\": \"short\", \"max_trip_hrs\": 0.5, \"max_trip_route_group\": 0.5, \"below_cutoff\": 33, \"pct_below_cutoff\": 1.0, \"name\": \"San Joaquin Regional Transit District\", \"caltrans_district\": \"10 - Stockton\", \"drmt_organization_name\": \"['recBXxWghAGPPIwaR']\", \"route_name\": \"Dtc-San Joaquin-El Dorado\", \"cutoff2\": 20, \"cutoff\": 2}, {\"calitp_itp_id\": 284, \"trip_key\": -6306260357627024447, \"trip_id\": \"255359\", \"shape_id\": \"32044\", \"route_id\": \"510\", \"service_hours\": 0.47, \"trip_first_departure_ts\": 44100, \"trip_last_arrival_ts\": 45780, \"departure_hour\": 12, \"time_of_day\": \"Midday\", \"p25\": 0.47, \"p50\": 0.47, \"p75\": 0.47, \"p50_trip\": 1, \"fastest_trip\": 0, \"car_duration_hours\": 0.32, \"competitive_route\": 1, \"bus_multiplier\": 1.47, \"bus_difference\": 9.0, \"num_trips\": 33, \"num_competitive\": 33, \"pct_trips_competitive\": 1.0, \"bus_difference_spread\": 4.200000000000001, \"route_group\": \"short\", \"max_trip_hrs\": 0.5, \"max_trip_route_group\": 0.5, \"below_cutoff\": 33, \"pct_below_cutoff\": 1.0, \"name\": \"San Joaquin Regional Transit District\", \"caltrans_district\": \"10 - Stockton\", \"drmt_organization_name\": \"['recBXxWghAGPPIwaR']\", \"route_name\": \"Dtc-San Joaquin-El Dorado\", \"cutoff2\": 20, \"cutoff\": 2}, {\"calitp_itp_id\": 284, \"trip_key\": 1150714627356260893, \"trip_id\": \"255356\", \"shape_id\": \"32044\", \"route_id\": \"510\", \"service_hours\": 0.47, \"trip_first_departure_ts\": 51000, \"trip_last_arrival_ts\": 52680, \"departure_hour\": 14, \"time_of_day\": \"Midday\", \"p25\": 0.47, \"p50\": 0.47, \"p75\": 0.47, \"p50_trip\": 1, \"fastest_trip\": 0, \"car_duration_hours\": 0.32, \"competitive_route\": 1, \"bus_multiplier\": 1.47, \"bus_difference\": 9.0, \"num_trips\": 33, \"num_competitive\": 33, \"pct_trips_competitive\": 1.0, \"bus_difference_spread\": 4.200000000000001, \"route_group\": \"short\", \"max_trip_hrs\": 0.5, \"max_trip_route_group\": 0.5, \"below_cutoff\": 33, \"pct_below_cutoff\": 1.0, \"name\": \"San Joaquin Regional Transit District\", \"caltrans_district\": \"10 - Stockton\", \"drmt_organization_name\": \"['recBXxWghAGPPIwaR']\", \"route_name\": \"Dtc-San Joaquin-El Dorado\", \"cutoff2\": 20, \"cutoff\": 2}, {\"calitp_itp_id\": 284, \"trip_key\": 4871464895030703541, \"trip_id\": \"255361\", \"shape_id\": \"32044\", \"route_id\": \"510\", \"service_hours\": 0.47, \"trip_first_departure_ts\": 37800, \"trip_last_arrival_ts\": 39480, \"departure_hour\": 10, \"time_of_day\": \"Midday\", \"p25\": 0.47, \"p50\": 0.47, \"p75\": 0.47, \"p50_trip\": 1, \"fastest_trip\": 0, \"car_duration_hours\": 0.32, \"competitive_route\": 1, \"bus_multiplier\": 1.47, \"bus_difference\": 9.0, \"num_trips\": 33, \"num_competitive\": 33, \"pct_trips_competitive\": 1.0, \"bus_difference_spread\": 4.200000000000001, \"route_group\": \"short\", \"max_trip_hrs\": 0.5, \"max_trip_route_group\": 0.5, \"below_cutoff\": 33, \"pct_below_cutoff\": 1.0, \"name\": \"San Joaquin Regional Transit District\", \"caltrans_district\": \"10 - Stockton\", \"drmt_organization_name\": \"['recBXxWghAGPPIwaR']\", \"route_name\": \"Dtc-San Joaquin-El Dorado\", \"cutoff2\": 20, \"cutoff\": 2}, {\"calitp_itp_id\": 284, \"trip_key\": 4293435933338087320, \"trip_id\": \"255347\", \"shape_id\": \"32042\", \"route_id\": \"510\", \"service_hours\": 0.47, \"trip_first_departure_ts\": 27360, \"trip_last_arrival_ts\": 29040, \"departure_hour\": 7, \"time_of_day\": \"AM Peak\", \"p25\": 0.47, \"p50\": 0.47, \"p75\": 0.47, \"p50_trip\": 1, \"fastest_trip\": 0, \"car_duration_hours\": 0.32, \"competitive_route\": 1, \"bus_multiplier\": 1.47, \"bus_difference\": 9.0, \"num_trips\": 33, \"num_competitive\": 33, \"pct_trips_competitive\": 1.0, \"bus_difference_spread\": 4.200000000000001, \"route_group\": \"short\", \"max_trip_hrs\": 0.5, \"max_trip_route_group\": 0.5, \"below_cutoff\": 33, \"pct_below_cutoff\": 1.0, \"name\": \"San Joaquin Regional Transit District\", \"caltrans_district\": \"10 - Stockton\", \"drmt_organization_name\": \"['recBXxWghAGPPIwaR']\", \"route_name\": \"Dtc-San Joaquin-El Dorado\", \"cutoff2\": 20, \"cutoff\": 2}, {\"calitp_itp_id\": 284, \"trip_key\": -4313735702637610410, \"trip_id\": \"255362\", \"shape_id\": \"32044\", \"route_id\": \"510\", \"service_hours\": 0.47, \"trip_first_departure_ts\": 33600, \"trip_last_arrival_ts\": 35280, \"departure_hour\": 9, \"time_of_day\": \"AM Peak\", \"p25\": 0.47, \"p50\": 0.47, \"p75\": 0.47, \"p50_trip\": 1, \"fastest_trip\": 0, \"car_duration_hours\": 0.32, \"competitive_route\": 1, \"bus_multiplier\": 1.47, \"bus_difference\": 9.0, \"num_trips\": 33, \"num_competitive\": 33, \"pct_trips_competitive\": 1.0, \"bus_difference_spread\": 4.200000000000001, \"route_group\": \"short\", \"max_trip_hrs\": 0.5, \"max_trip_route_group\": 0.5, \"below_cutoff\": 33, \"pct_below_cutoff\": 1.0, \"name\": \"San Joaquin Regional Transit District\", \"caltrans_district\": \"10 - Stockton\", \"drmt_organization_name\": \"['recBXxWghAGPPIwaR']\", \"route_name\": \"Dtc-San Joaquin-El Dorado\", \"cutoff2\": 20, \"cutoff\": 2}, {\"calitp_itp_id\": 284, \"trip_key\": -3952646467459008063, \"trip_id\": \"255342\", \"shape_id\": \"32042\", \"route_id\": \"510\", \"service_hours\": 0.47, \"trip_first_departure_ts\": 45960, \"trip_last_arrival_ts\": 47640, \"departure_hour\": 12, \"time_of_day\": \"Midday\", \"p25\": 0.47, \"p50\": 0.47, \"p75\": 0.47, \"p50_trip\": 1, \"fastest_trip\": 0, \"car_duration_hours\": 0.32, \"competitive_route\": 1, \"bus_multiplier\": 1.47, \"bus_difference\": 9.0, \"num_trips\": 33, \"num_competitive\": 33, \"pct_trips_competitive\": 1.0, \"bus_difference_spread\": 4.200000000000001, \"route_group\": \"short\", \"max_trip_hrs\": 0.5, \"max_trip_route_group\": 0.5, \"below_cutoff\": 33, \"pct_below_cutoff\": 1.0, \"name\": \"San Joaquin Regional Transit District\", \"caltrans_district\": \"10 - Stockton\", \"drmt_organization_name\": \"['recBXxWghAGPPIwaR']\", \"route_name\": \"Dtc-San Joaquin-El Dorado\", \"cutoff2\": 20, \"cutoff\": 2}, {\"calitp_itp_id\": 284, \"trip_key\": 5853144813593008150, \"trip_id\": \"255363\", \"shape_id\": \"32044\", \"route_id\": \"510\", \"service_hours\": 0.47, \"trip_first_departure_ts\": 29400, \"trip_last_arrival_ts\": 31080, \"departure_hour\": 8, \"time_of_day\": \"AM Peak\", \"p25\": 0.47, \"p50\": 0.47, \"p75\": 0.47, \"p50_trip\": 1, \"fastest_trip\": 0, \"car_duration_hours\": 0.32, \"competitive_route\": 1, \"bus_multiplier\": 1.47, \"bus_difference\": 9.0, \"num_trips\": 33, \"num_competitive\": 33, \"pct_trips_competitive\": 1.0, \"bus_difference_spread\": 4.200000000000001, \"route_group\": \"short\", \"max_trip_hrs\": 0.5, \"max_trip_route_group\": 0.5, \"below_cutoff\": 33, \"pct_below_cutoff\": 1.0, \"name\": \"San Joaquin Regional Transit District\", \"caltrans_district\": \"10 - Stockton\", \"drmt_organization_name\": \"['recBXxWghAGPPIwaR']\", \"route_name\": \"Dtc-San Joaquin-El Dorado\", \"cutoff2\": 20, \"cutoff\": 2}, {\"calitp_itp_id\": 284, \"trip_key\": 464197860491965689, \"trip_id\": \"255344\", \"shape_id\": \"32042\", \"route_id\": \"510\", \"service_hours\": 0.47, \"trip_first_departure_ts\": 39660, \"trip_last_arrival_ts\": 41340, \"departure_hour\": 11, \"time_of_day\": \"Midday\", \"p25\": 0.47, \"p50\": 0.47, \"p75\": 0.47, \"p50_trip\": 1, \"fastest_trip\": 0, \"car_duration_hours\": 0.32, \"competitive_route\": 1, \"bus_multiplier\": 1.47, \"bus_difference\": 9.0, \"num_trips\": 33, \"num_competitive\": 33, \"pct_trips_competitive\": 1.0, \"bus_difference_spread\": 4.200000000000001, \"route_group\": \"short\", \"max_trip_hrs\": 0.5, \"max_trip_route_group\": 0.5, \"below_cutoff\": 33, \"pct_below_cutoff\": 1.0, \"name\": \"San Joaquin Regional Transit District\", \"caltrans_district\": \"10 - Stockton\", \"drmt_organization_name\": \"['recBXxWghAGPPIwaR']\", \"route_name\": \"Dtc-San Joaquin-El Dorado\", \"cutoff2\": 20, \"cutoff\": 2}, {\"calitp_itp_id\": 284, \"trip_key\": -1528216137901357070, \"trip_id\": \"255360\", \"shape_id\": \"32044\", \"route_id\": \"510\", \"service_hours\": 0.47, \"trip_first_departure_ts\": 42000, \"trip_last_arrival_ts\": 43680, \"departure_hour\": 11, \"time_of_day\": \"Midday\", \"p25\": 0.47, \"p50\": 0.47, \"p75\": 0.47, \"p50_trip\": 1, \"fastest_trip\": 0, \"car_duration_hours\": 0.32, \"competitive_route\": 1, \"bus_multiplier\": 1.47, \"bus_difference\": 9.0, \"num_trips\": 33, \"num_competitive\": 33, \"pct_trips_competitive\": 1.0, \"bus_difference_spread\": 4.200000000000001, \"route_group\": \"short\", \"max_trip_hrs\": 0.5, \"max_trip_route_group\": 0.5, \"below_cutoff\": 33, \"pct_below_cutoff\": 1.0, \"name\": \"San Joaquin Regional Transit District\", \"caltrans_district\": \"10 - Stockton\", \"drmt_organization_name\": \"['recBXxWghAGPPIwaR']\", \"route_name\": \"Dtc-San Joaquin-El Dorado\", \"cutoff2\": 20, \"cutoff\": 2}, {\"calitp_itp_id\": 284, \"trip_key\": 3241443736453856048, \"trip_id\": \"255341\", \"shape_id\": \"32042\", \"route_id\": \"510\", \"service_hours\": 0.47, \"trip_first_departure_ts\": 48360, \"trip_last_arrival_ts\": 50040, \"departure_hour\": 13, \"time_of_day\": \"Midday\", \"p25\": 0.47, \"p50\": 0.47, \"p75\": 0.47, \"p50_trip\": 1, \"fastest_trip\": 0, \"car_duration_hours\": 0.32, \"competitive_route\": 1, \"bus_multiplier\": 1.47, \"bus_difference\": 9.0, \"num_trips\": 33, \"num_competitive\": 33, \"pct_trips_competitive\": 1.0, \"bus_difference_spread\": 4.200000000000001, \"route_group\": \"short\", \"max_trip_hrs\": 0.5, \"max_trip_route_group\": 0.5, \"below_cutoff\": 33, \"pct_below_cutoff\": 1.0, \"name\": \"San Joaquin Regional Transit District\", \"caltrans_district\": \"10 - Stockton\", \"drmt_organization_name\": \"['recBXxWghAGPPIwaR']\", \"route_name\": \"Dtc-San Joaquin-El Dorado\", \"cutoff2\": 20, \"cutoff\": 2}, {\"calitp_itp_id\": 284, \"trip_key\": -7289151848272394041, \"trip_id\": \"255340\", \"shape_id\": \"32042\", \"route_id\": \"510\", \"service_hours\": 0.47, \"trip_first_departure_ts\": 50460, \"trip_last_arrival_ts\": 52140, \"departure_hour\": 14, \"time_of_day\": \"Midday\", \"p25\": 0.47, \"p50\": 0.47, \"p75\": 0.47, \"p50_trip\": 1, \"fastest_trip\": 0, \"car_duration_hours\": 0.32, \"competitive_route\": 1, \"bus_multiplier\": 1.47, \"bus_difference\": 9.0, \"num_trips\": 33, \"num_competitive\": 33, \"pct_trips_competitive\": 1.0, \"bus_difference_spread\": 4.200000000000001, \"route_group\": \"short\", \"max_trip_hrs\": 0.5, \"max_trip_route_group\": 0.5, \"below_cutoff\": 33, \"pct_below_cutoff\": 1.0, \"name\": \"San Joaquin Regional Transit District\", \"caltrans_district\": \"10 - Stockton\", \"drmt_organization_name\": \"['recBXxWghAGPPIwaR']\", \"route_name\": \"Dtc-San Joaquin-El Dorado\", \"cutoff2\": 20, \"cutoff\": 2}, {\"calitp_itp_id\": 284, \"trip_key\": -6080065216769716796, \"trip_id\": \"255343\", \"shape_id\": \"32042\", \"route_id\": \"510\", \"service_hours\": 0.47, \"trip_first_departure_ts\": 43860, \"trip_last_arrival_ts\": 45540, \"departure_hour\": 12, \"time_of_day\": \"Midday\", \"p25\": 0.47, \"p50\": 0.47, \"p75\": 0.47, \"p50_trip\": 1, \"fastest_trip\": 0, \"car_duration_hours\": 0.32, \"competitive_route\": 1, \"bus_multiplier\": 1.47, \"bus_difference\": 9.0, \"num_trips\": 33, \"num_competitive\": 33, \"pct_trips_competitive\": 1.0, \"bus_difference_spread\": 4.200000000000001, \"route_group\": \"short\", \"max_trip_hrs\": 0.5, \"max_trip_route_group\": 0.5, \"below_cutoff\": 33, \"pct_below_cutoff\": 1.0, \"name\": \"San Joaquin Regional Transit District\", \"caltrans_district\": \"10 - Stockton\", \"drmt_organization_name\": \"['recBXxWghAGPPIwaR']\", \"route_name\": \"Dtc-San Joaquin-El Dorado\", \"cutoff2\": 20, \"cutoff\": 2}, {\"calitp_itp_id\": 284, \"trip_key\": 2022363412611018497, \"trip_id\": \"255364\", \"shape_id\": \"32044\", \"route_id\": \"510\", \"service_hours\": 0.47, \"trip_first_departure_ts\": 25500, \"trip_last_arrival_ts\": 27180, \"departure_hour\": 7, \"time_of_day\": \"AM Peak\", \"p25\": 0.47, \"p50\": 0.47, \"p75\": 0.47, \"p50_trip\": 1, \"fastest_trip\": 0, \"car_duration_hours\": 0.32, \"competitive_route\": 1, \"bus_multiplier\": 1.47, \"bus_difference\": 9.0, \"num_trips\": 33, \"num_competitive\": 33, \"pct_trips_competitive\": 1.0, \"bus_difference_spread\": 4.200000000000001, \"route_group\": \"short\", \"max_trip_hrs\": 0.5, \"max_trip_route_group\": 0.5, \"below_cutoff\": 33, \"pct_below_cutoff\": 1.0, \"name\": \"San Joaquin Regional Transit District\", \"caltrans_district\": \"10 - Stockton\", \"drmt_organization_name\": \"['recBXxWghAGPPIwaR']\", \"route_name\": \"Dtc-San Joaquin-El Dorado\", \"cutoff2\": 20, \"cutoff\": 2}, {\"calitp_itp_id\": 284, \"trip_key\": -4987639572419114330, \"trip_id\": \"255365\", \"shape_id\": \"32044\", \"route_id\": \"510\", \"service_hours\": 0.47, \"trip_first_departure_ts\": 22020, \"trip_last_arrival_ts\": 23700, \"departure_hour\": 6, \"time_of_day\": \"Owl Service\", \"p25\": 0.47, \"p50\": 0.47, \"p75\": 0.47, \"p50_trip\": 1, \"fastest_trip\": 0, \"car_duration_hours\": 0.32, \"competitive_route\": 1, \"bus_multiplier\": 1.47, \"bus_difference\": 9.0, \"num_trips\": 33, \"num_competitive\": 33, \"pct_trips_competitive\": 1.0, \"bus_difference_spread\": 4.200000000000001, \"route_group\": \"short\", \"max_trip_hrs\": 0.5, \"max_trip_route_group\": 0.5, \"below_cutoff\": 33, \"pct_below_cutoff\": 1.0, \"name\": \"San Joaquin Regional Transit District\", \"caltrans_district\": \"10 - Stockton\", \"drmt_organization_name\": \"['recBXxWghAGPPIwaR']\", \"route_name\": \"Dtc-San Joaquin-El Dorado\", \"cutoff2\": 20, \"cutoff\": 2}, {\"calitp_itp_id\": 284, \"trip_key\": -3946480362531885004, \"trip_id\": \"255345\", \"shape_id\": \"32042\", \"route_id\": \"510\", \"service_hours\": 0.47, \"trip_first_departure_ts\": 35460, \"trip_last_arrival_ts\": 37140, \"departure_hour\": 9, \"time_of_day\": \"AM Peak\", \"p25\": 0.47, \"p50\": 0.47, \"p75\": 0.47, \"p50_trip\": 1, \"fastest_trip\": 0, \"car_duration_hours\": 0.32, \"competitive_route\": 1, \"bus_multiplier\": 1.47, \"bus_difference\": 9.0, \"num_trips\": 33, \"num_competitive\": 33, \"pct_trips_competitive\": 1.0, \"bus_difference_spread\": 4.200000000000001, \"route_group\": \"short\", \"max_trip_hrs\": 0.5, \"max_trip_route_group\": 0.5, \"below_cutoff\": 33, \"pct_below_cutoff\": 1.0, \"name\": \"San Joaquin Regional Transit District\", \"caltrans_district\": \"10 - Stockton\", \"drmt_organization_name\": \"['recBXxWghAGPPIwaR']\", \"route_name\": \"Dtc-San Joaquin-El Dorado\", \"cutoff2\": 20, \"cutoff\": 2}, {\"calitp_itp_id\": 284, \"trip_key\": 3671182801229077623, \"trip_id\": \"255357\", \"shape_id\": \"32044\", \"route_id\": \"510\", \"service_hours\": 0.47, \"trip_first_departure_ts\": 48600, \"trip_last_arrival_ts\": 50280, \"departure_hour\": 13, \"time_of_day\": \"Midday\", \"p25\": 0.47, \"p50\": 0.47, \"p75\": 0.47, \"p50_trip\": 1, \"fastest_trip\": 0, \"car_duration_hours\": 0.32, \"competitive_route\": 1, \"bus_multiplier\": 1.47, \"bus_difference\": 9.0, \"num_trips\": 33, \"num_competitive\": 33, \"pct_trips_competitive\": 1.0, \"bus_difference_spread\": 4.200000000000001, \"route_group\": \"short\", \"max_trip_hrs\": 0.5, \"max_trip_route_group\": 0.5, \"below_cutoff\": 33, \"pct_below_cutoff\": 1.0, \"name\": \"San Joaquin Regional Transit District\", \"caltrans_district\": \"10 - Stockton\", \"drmt_organization_name\": \"['recBXxWghAGPPIwaR']\", \"route_name\": \"Dtc-San Joaquin-El Dorado\", \"cutoff2\": 20, \"cutoff\": 2}, {\"calitp_itp_id\": 284, \"trip_key\": -2291253630317899570, \"trip_id\": \"255350\", \"shape_id\": \"32044\", \"route_id\": \"510\", \"service_hours\": 0.5, \"trip_first_departure_ts\": 63900, \"trip_last_arrival_ts\": 65700, \"departure_hour\": 17, \"time_of_day\": \"PM Peak\", \"p25\": 0.47, \"p50\": 0.47, \"p75\": 0.47, \"p50_trip\": 0, \"fastest_trip\": 0, \"car_duration_hours\": 0.32, \"competitive_route\": 1, \"bus_multiplier\": 1.56, \"bus_difference\": 10.8, \"num_trips\": 33, \"num_competitive\": 33, \"pct_trips_competitive\": 1.0, \"bus_difference_spread\": 4.200000000000001, \"route_group\": \"short\", \"max_trip_hrs\": 0.5, \"max_trip_route_group\": 0.5, \"below_cutoff\": 33, \"pct_below_cutoff\": 1.0, \"name\": \"San Joaquin Regional Transit District\", \"caltrans_district\": \"10 - Stockton\", \"drmt_organization_name\": \"['recBXxWghAGPPIwaR']\", \"route_name\": \"Dtc-San Joaquin-El Dorado\", \"cutoff2\": 20, \"cutoff\": 2}, {\"calitp_itp_id\": 284, \"trip_key\": -2773817548416385100, \"trip_id\": \"255352\", \"shape_id\": \"32044\", \"route_id\": \"510\", \"service_hours\": 0.5, \"trip_first_departure_ts\": 59700, \"trip_last_arrival_ts\": 61500, \"departure_hour\": 16, \"time_of_day\": \"Midday\", \"p25\": 0.47, \"p50\": 0.47, \"p75\": 0.47, \"p50_trip\": 0, \"fastest_trip\": 0, \"car_duration_hours\": 0.32, \"competitive_route\": 1, \"bus_multiplier\": 1.56, \"bus_difference\": 10.8, \"num_trips\": 33, \"num_competitive\": 33, \"pct_trips_competitive\": 1.0, \"bus_difference_spread\": 4.200000000000001, \"route_group\": \"short\", \"max_trip_hrs\": 0.5, \"max_trip_route_group\": 0.5, \"below_cutoff\": 33, \"pct_below_cutoff\": 1.0, \"name\": \"San Joaquin Regional Transit District\", \"caltrans_district\": \"10 - Stockton\", \"drmt_organization_name\": \"['recBXxWghAGPPIwaR']\", \"route_name\": \"Dtc-San Joaquin-El Dorado\", \"cutoff2\": 20, \"cutoff\": 2}, {\"calitp_itp_id\": 284, \"trip_key\": 4786568471148018402, \"trip_id\": \"255353\", \"shape_id\": \"32044\", \"route_id\": \"510\", \"service_hours\": 0.5, \"trip_first_departure_ts\": 57300, \"trip_last_arrival_ts\": 59100, \"departure_hour\": 15, \"time_of_day\": \"Midday\", \"p25\": 0.47, \"p50\": 0.47, \"p75\": 0.47, \"p50_trip\": 0, \"fastest_trip\": 0, \"car_duration_hours\": 0.32, \"competitive_route\": 1, \"bus_multiplier\": 1.56, \"bus_difference\": 10.8, \"num_trips\": 33, \"num_competitive\": 33, \"pct_trips_competitive\": 1.0, \"bus_difference_spread\": 4.200000000000001, \"route_group\": \"short\", \"max_trip_hrs\": 0.5, \"max_trip_route_group\": 0.5, \"below_cutoff\": 33, \"pct_below_cutoff\": 1.0, \"name\": \"San Joaquin Regional Transit District\", \"caltrans_district\": \"10 - Stockton\", \"drmt_organization_name\": \"['recBXxWghAGPPIwaR']\", \"route_name\": \"Dtc-San Joaquin-El Dorado\", \"cutoff2\": 20, \"cutoff\": 2}, {\"calitp_itp_id\": 284, \"trip_key\": 6786212306146191488, \"trip_id\": \"255355\", \"shape_id\": \"32044\", \"route_id\": \"510\", \"service_hours\": 0.5, \"trip_first_departure_ts\": 52800, \"trip_last_arrival_ts\": 54600, \"departure_hour\": 14, \"time_of_day\": \"Midday\", \"p25\": 0.47, \"p50\": 0.47, \"p75\": 0.47, \"p50_trip\": 0, \"fastest_trip\": 0, \"car_duration_hours\": 0.32, \"competitive_route\": 1, \"bus_multiplier\": 1.56, \"bus_difference\": 10.8, \"num_trips\": 33, \"num_competitive\": 33, \"pct_trips_competitive\": 1.0, \"bus_difference_spread\": 4.200000000000001, \"route_group\": \"short\", \"max_trip_hrs\": 0.5, \"max_trip_route_group\": 0.5, \"below_cutoff\": 33, \"pct_below_cutoff\": 1.0, \"name\": \"San Joaquin Regional Transit District\", \"caltrans_district\": \"10 - Stockton\", \"drmt_organization_name\": \"['recBXxWghAGPPIwaR']\", \"route_name\": \"Dtc-San Joaquin-El Dorado\", \"cutoff2\": 20, \"cutoff\": 2}, {\"calitp_itp_id\": 284, \"trip_key\": 4098435667974702220, \"trip_id\": \"255351\", \"shape_id\": \"32044\", \"route_id\": \"510\", \"service_hours\": 0.5, \"trip_first_departure_ts\": 61680, \"trip_last_arrival_ts\": 63480, \"departure_hour\": 17, \"time_of_day\": \"PM Peak\", \"p25\": 0.47, \"p50\": 0.47, \"p75\": 0.47, \"p50_trip\": 0, \"fastest_trip\": 0, \"car_duration_hours\": 0.32, \"competitive_route\": 1, \"bus_multiplier\": 1.56, \"bus_difference\": 10.8, \"num_trips\": 33, \"num_competitive\": 33, \"pct_trips_competitive\": 1.0, \"bus_difference_spread\": 4.200000000000001, \"route_group\": \"short\", \"max_trip_hrs\": 0.5, \"max_trip_route_group\": 0.5, \"below_cutoff\": 33, \"pct_below_cutoff\": 1.0, \"name\": \"San Joaquin Regional Transit District\", \"caltrans_district\": \"10 - Stockton\", \"drmt_organization_name\": \"['recBXxWghAGPPIwaR']\", \"route_name\": \"Dtc-San Joaquin-El Dorado\", \"cutoff2\": 20, \"cutoff\": 2}, {\"calitp_itp_id\": 284, \"trip_key\": 6981067193716356275, \"trip_id\": \"255354\", \"shape_id\": \"32044\", \"route_id\": \"510\", \"service_hours\": 0.5, \"trip_first_departure_ts\": 55500, \"trip_last_arrival_ts\": 57300, \"departure_hour\": 15, \"time_of_day\": \"Midday\", \"p25\": 0.47, \"p50\": 0.47, \"p75\": 0.47, \"p50_trip\": 0, \"fastest_trip\": 0, \"car_duration_hours\": 0.32, \"competitive_route\": 1, \"bus_multiplier\": 1.56, \"bus_difference\": 10.8, \"num_trips\": 33, \"num_competitive\": 33, \"pct_trips_competitive\": 1.0, \"bus_difference_spread\": 4.200000000000001, \"route_group\": \"short\", \"max_trip_hrs\": 0.5, \"max_trip_route_group\": 0.5, \"below_cutoff\": 33, \"pct_below_cutoff\": 1.0, \"name\": \"San Joaquin Regional Transit District\", \"caltrans_district\": \"10 - Stockton\", \"drmt_organization_name\": \"['recBXxWghAGPPIwaR']\", \"route_name\": \"Dtc-San Joaquin-El Dorado\", \"cutoff2\": 20, \"cutoff\": 2}, {\"calitp_itp_id\": 284, \"trip_key\": -2349674422686892996, \"trip_id\": \"255544\", \"shape_id\": \"32069\", \"route_id\": \"580\", \"service_hours\": 0.35, \"trip_first_departure_ts\": 37920, \"trip_last_arrival_ts\": 39180, \"departure_hour\": 10, \"time_of_day\": \"Midday\", \"p25\": 0.35, \"p50\": 0.36, \"p75\": 0.37, \"p50_trip\": 1, \"fastest_trip\": 0, \"car_duration_hours\": 0.3, \"competitive_route\": 1, \"bus_multiplier\": 1.17, \"bus_difference\": 3.0, \"num_trips\": 24, \"num_competitive\": 24, \"pct_trips_competitive\": 1.0, \"bus_difference_spread\": 1.2000000000000002, \"route_group\": \"short\", \"max_trip_hrs\": 0.37, \"max_trip_route_group\": 0.37, \"below_cutoff\": 24, \"pct_below_cutoff\": 1.0, \"name\": \"San Joaquin Regional Transit District\", \"caltrans_district\": \"10 - Stockton\", \"drmt_organization_name\": \"['recBXxWghAGPPIwaR']\", \"route_name\": \"Dtc - Section/Oro\", \"cutoff2\": 20, \"cutoff\": 2}, {\"calitp_itp_id\": 284, \"trip_key\": -4173394857294369160, \"trip_id\": \"255543\", \"shape_id\": \"32069\", \"route_id\": \"580\", \"service_hours\": 0.35, \"trip_first_departure_ts\": 42000, \"trip_last_arrival_ts\": 43260, \"departure_hour\": 11, \"time_of_day\": \"Midday\", \"p25\": 0.35, \"p50\": 0.36, \"p75\": 0.37, \"p50_trip\": 1, \"fastest_trip\": 0, \"car_duration_hours\": 0.3, \"competitive_route\": 1, \"bus_multiplier\": 1.17, \"bus_difference\": 3.0, \"num_trips\": 24, \"num_competitive\": 24, \"pct_trips_competitive\": 1.0, \"bus_difference_spread\": 1.2000000000000002, \"route_group\": \"short\", \"max_trip_hrs\": 0.37, \"max_trip_route_group\": 0.37, \"below_cutoff\": 24, \"pct_below_cutoff\": 1.0, \"name\": \"San Joaquin Regional Transit District\", \"caltrans_district\": \"10 - Stockton\", \"drmt_organization_name\": \"['recBXxWghAGPPIwaR']\", \"route_name\": \"Dtc - Section/Oro\", \"cutoff2\": 20, \"cutoff\": 2}, {\"calitp_itp_id\": 284, \"trip_key\": -2559327917755630701, \"trip_id\": \"255540\", \"shape_id\": \"32069\", \"route_id\": \"580\", \"service_hours\": 0.35, \"trip_first_departure_ts\": 52500, \"trip_last_arrival_ts\": 53760, \"departure_hour\": 14, \"time_of_day\": \"Midday\", \"p25\": 0.35, \"p50\": 0.36, \"p75\": 0.37, \"p50_trip\": 1, \"fastest_trip\": 0, \"car_duration_hours\": 0.3, \"competitive_route\": 1, \"bus_multiplier\": 1.17, \"bus_difference\": 3.0, \"num_trips\": 24, \"num_competitive\": 24, \"pct_trips_competitive\": 1.0, \"bus_difference_spread\": 1.2000000000000002, \"route_group\": \"short\", \"max_trip_hrs\": 0.37, \"max_trip_route_group\": 0.37, \"below_cutoff\": 24, \"pct_below_cutoff\": 1.0, \"name\": \"San Joaquin Regional Transit District\", \"caltrans_district\": \"10 - Stockton\", \"drmt_organization_name\": \"['recBXxWghAGPPIwaR']\", \"route_name\": \"Dtc - Section/Oro\", \"cutoff2\": 20, \"cutoff\": 2}, {\"calitp_itp_id\": 284, \"trip_key\": 5351583994182427036, \"trip_id\": \"255545\", \"shape_id\": \"32069\", \"route_id\": \"580\", \"service_hours\": 0.35, \"trip_first_departure_ts\": 34500, \"trip_last_arrival_ts\": 35760, \"departure_hour\": 9, \"time_of_day\": \"AM Peak\", \"p25\": 0.35, \"p50\": 0.36, \"p75\": 0.37, \"p50_trip\": 1, \"fastest_trip\": 0, \"car_duration_hours\": 0.3, \"competitive_route\": 1, \"bus_multiplier\": 1.17, \"bus_difference\": 3.0, \"num_trips\": 24, \"num_competitive\": 24, \"pct_trips_competitive\": 1.0, \"bus_difference_spread\": 1.2000000000000002, \"route_group\": \"short\", \"max_trip_hrs\": 0.37, \"max_trip_route_group\": 0.37, \"below_cutoff\": 24, \"pct_below_cutoff\": 1.0, \"name\": \"San Joaquin Regional Transit District\", \"caltrans_district\": \"10 - Stockton\", \"drmt_organization_name\": \"['recBXxWghAGPPIwaR']\", \"route_name\": \"Dtc - Section/Oro\", \"cutoff2\": 20, \"cutoff\": 2}, {\"calitp_itp_id\": 284, \"trip_key\": -2881509246591390993, \"trip_id\": \"255538\", \"shape_id\": \"32069\", \"route_id\": \"580\", \"service_hours\": 0.35, \"trip_first_departure_ts\": 59400, \"trip_last_arrival_ts\": 60660, \"departure_hour\": 16, \"time_of_day\": \"Midday\", \"p25\": 0.35, \"p50\": 0.36, \"p75\": 0.37, \"p50_trip\": 1, \"fastest_trip\": 0, \"car_duration_hours\": 0.3, \"competitive_route\": 1, \"bus_multiplier\": 1.17, \"bus_difference\": 3.0, \"num_trips\": 24, \"num_competitive\": 24, \"pct_trips_competitive\": 1.0, \"bus_difference_spread\": 1.2000000000000002, \"route_group\": \"short\", \"max_trip_hrs\": 0.37, \"max_trip_route_group\": 0.37, \"below_cutoff\": 24, \"pct_below_cutoff\": 1.0, \"name\": \"San Joaquin Regional Transit District\", \"caltrans_district\": \"10 - Stockton\", \"drmt_organization_name\": \"['recBXxWghAGPPIwaR']\", \"route_name\": \"Dtc - Section/Oro\", \"cutoff2\": 20, \"cutoff\": 2}, {\"calitp_itp_id\": 284, \"trip_key\": -3008873949738454406, \"trip_id\": \"255548\", \"shape_id\": \"32069\", \"route_id\": \"580\", \"service_hours\": 0.35, \"trip_first_departure_ts\": 23160, \"trip_last_arrival_ts\": 24420, \"departure_hour\": 6, \"time_of_day\": \"Owl Service\", \"p25\": 0.35, \"p50\": 0.36, \"p75\": 0.37, \"p50_trip\": 1, \"fastest_trip\": 0, \"car_duration_hours\": 0.3, \"competitive_route\": 1, \"bus_multiplier\": 1.17, \"bus_difference\": 3.0, \"num_trips\": 24, \"num_competitive\": 24, \"pct_trips_competitive\": 1.0, \"bus_difference_spread\": 1.2000000000000002, \"route_group\": \"short\", \"max_trip_hrs\": 0.37, \"max_trip_route_group\": 0.37, \"below_cutoff\": 24, \"pct_below_cutoff\": 1.0, \"name\": \"San Joaquin Regional Transit District\", \"caltrans_district\": \"10 - Stockton\", \"drmt_organization_name\": \"['recBXxWghAGPPIwaR']\", \"route_name\": \"Dtc - Section/Oro\", \"cutoff2\": 20, \"cutoff\": 2}, {\"calitp_itp_id\": 284, \"trip_key\": -8208015971813012569, \"trip_id\": \"255547\", \"shape_id\": \"32069\", \"route_id\": \"580\", \"service_hours\": 0.35, \"trip_first_departure_ts\": 26760, \"trip_last_arrival_ts\": 28020, \"departure_hour\": 7, \"time_of_day\": \"AM Peak\", \"p25\": 0.35, \"p50\": 0.36, \"p75\": 0.37, \"p50_trip\": 1, \"fastest_trip\": 0, \"car_duration_hours\": 0.3, \"competitive_route\": 1, \"bus_multiplier\": 1.17, \"bus_difference\": 3.0, \"num_trips\": 24, \"num_competitive\": 24, \"pct_trips_competitive\": 1.0, \"bus_difference_spread\": 1.2000000000000002, \"route_group\": \"short\", \"max_trip_hrs\": 0.37, \"max_trip_route_group\": 0.37, \"below_cutoff\": 24, \"pct_below_cutoff\": 1.0, \"name\": \"San Joaquin Regional Transit District\", \"caltrans_district\": \"10 - Stockton\", \"drmt_organization_name\": \"['recBXxWghAGPPIwaR']\", \"route_name\": \"Dtc - Section/Oro\", \"cutoff2\": 20, \"cutoff\": 2}, {\"calitp_itp_id\": 284, \"trip_key\": 370341854047565449, \"trip_id\": \"255537\", \"shape_id\": \"32069\", \"route_id\": \"580\", \"service_hours\": 0.35, \"trip_first_departure_ts\": 63300, \"trip_last_arrival_ts\": 64560, \"departure_hour\": 17, \"time_of_day\": \"PM Peak\", \"p25\": 0.35, \"p50\": 0.36, \"p75\": 0.37, \"p50_trip\": 1, \"fastest_trip\": 1, \"car_duration_hours\": 0.3, \"competitive_route\": 1, \"bus_multiplier\": 1.17, \"bus_difference\": 3.0, \"num_trips\": 24, \"num_competitive\": 24, \"pct_trips_competitive\": 1.0, \"bus_difference_spread\": 1.2000000000000002, \"route_group\": \"short\", \"max_trip_hrs\": 0.37, \"max_trip_route_group\": 0.37, \"below_cutoff\": 24, \"pct_below_cutoff\": 1.0, \"name\": \"San Joaquin Regional Transit District\", \"caltrans_district\": \"10 - Stockton\", \"drmt_organization_name\": \"['recBXxWghAGPPIwaR']\", \"route_name\": \"Dtc - Section/Oro\", \"cutoff2\": 20, \"cutoff\": 2}, {\"calitp_itp_id\": 284, \"trip_key\": 6747995024463256993, \"trip_id\": \"255541\", \"shape_id\": \"32069\", \"route_id\": \"580\", \"service_hours\": 0.35, \"trip_first_departure_ts\": 48900, \"trip_last_arrival_ts\": 50160, \"departure_hour\": 13, \"time_of_day\": \"Midday\", \"p25\": 0.35, \"p50\": 0.36, \"p75\": 0.37, \"p50_trip\": 1, \"fastest_trip\": 0, \"car_duration_hours\": 0.3, \"competitive_route\": 1, \"bus_multiplier\": 1.17, \"bus_difference\": 3.0, \"num_trips\": 24, \"num_competitive\": 24, \"pct_trips_competitive\": 1.0, \"bus_difference_spread\": 1.2000000000000002, \"route_group\": \"short\", \"max_trip_hrs\": 0.37, \"max_trip_route_group\": 0.37, \"below_cutoff\": 24, \"pct_below_cutoff\": 1.0, \"name\": \"San Joaquin Regional Transit District\", \"caltrans_district\": \"10 - Stockton\", \"drmt_organization_name\": \"['recBXxWghAGPPIwaR']\", \"route_name\": \"Dtc - Section/Oro\", \"cutoff2\": 20, \"cutoff\": 2}, {\"calitp_itp_id\": 284, \"trip_key\": 2651627074745441198, \"trip_id\": \"255546\", \"shape_id\": \"32069\", \"route_id\": \"580\", \"service_hours\": 0.35, \"trip_first_departure_ts\": 30720, \"trip_last_arrival_ts\": 31980, \"departure_hour\": 8, \"time_of_day\": \"AM Peak\", \"p25\": 0.35, \"p50\": 0.36, \"p75\": 0.37, \"p50_trip\": 1, \"fastest_trip\": 0, \"car_duration_hours\": 0.3, \"competitive_route\": 1, \"bus_multiplier\": 1.17, \"bus_difference\": 3.0, \"num_trips\": 24, \"num_competitive\": 24, \"pct_trips_competitive\": 1.0, \"bus_difference_spread\": 1.2000000000000002, \"route_group\": \"short\", \"max_trip_hrs\": 0.37, \"max_trip_route_group\": 0.37, \"below_cutoff\": 24, \"pct_below_cutoff\": 1.0, \"name\": \"San Joaquin Regional Transit District\", \"caltrans_district\": \"10 - Stockton\", \"drmt_organization_name\": \"['recBXxWghAGPPIwaR']\", \"route_name\": \"Dtc - Section/Oro\", \"cutoff2\": 20, \"cutoff\": 2}, {\"calitp_itp_id\": 284, \"trip_key\": 7131073052552387620, \"trip_id\": \"255539\", \"shape_id\": \"32069\", \"route_id\": \"580\", \"service_hours\": 0.35, \"trip_first_departure_ts\": 55800, \"trip_last_arrival_ts\": 57060, \"departure_hour\": 15, \"time_of_day\": \"Midday\", \"p25\": 0.35, \"p50\": 0.36, \"p75\": 0.37, \"p50_trip\": 1, \"fastest_trip\": 0, \"car_duration_hours\": 0.3, \"competitive_route\": 1, \"bus_multiplier\": 1.17, \"bus_difference\": 3.0, \"num_trips\": 24, \"num_competitive\": 24, \"pct_trips_competitive\": 1.0, \"bus_difference_spread\": 1.2000000000000002, \"route_group\": \"short\", \"max_trip_hrs\": 0.37, \"max_trip_route_group\": 0.37, \"below_cutoff\": 24, \"pct_below_cutoff\": 1.0, \"name\": \"San Joaquin Regional Transit District\", \"caltrans_district\": \"10 - Stockton\", \"drmt_organization_name\": \"['recBXxWghAGPPIwaR']\", \"route_name\": \"Dtc - Section/Oro\", \"cutoff2\": 20, \"cutoff\": 2}, {\"calitp_itp_id\": 284, \"trip_key\": 7684547386889704423, \"trip_id\": \"255542\", \"shape_id\": \"32069\", \"route_id\": \"580\", \"service_hours\": 0.35, \"trip_first_departure_ts\": 45600, \"trip_last_arrival_ts\": 46860, \"departure_hour\": 12, \"time_of_day\": \"Midday\", \"p25\": 0.35, \"p50\": 0.36, \"p75\": 0.37, \"p50_trip\": 1, \"fastest_trip\": 0, \"car_duration_hours\": 0.3, \"competitive_route\": 1, \"bus_multiplier\": 1.17, \"bus_difference\": 3.0, \"num_trips\": 24, \"num_competitive\": 24, \"pct_trips_competitive\": 1.0, \"bus_difference_spread\": 1.2000000000000002, \"route_group\": \"short\", \"max_trip_hrs\": 0.37, \"max_trip_route_group\": 0.37, \"below_cutoff\": 24, \"pct_below_cutoff\": 1.0, \"name\": \"San Joaquin Regional Transit District\", \"caltrans_district\": \"10 - Stockton\", \"drmt_organization_name\": \"['recBXxWghAGPPIwaR']\", \"route_name\": \"Dtc - Section/Oro\", \"cutoff2\": 20, \"cutoff\": 2}, {\"calitp_itp_id\": 284, \"trip_key\": 2765632940046593387, \"trip_id\": \"255552\", \"shape_id\": \"32070\", \"route_id\": \"580\", \"service_hours\": 0.37, \"trip_first_departure_ts\": 54300, \"trip_last_arrival_ts\": 55620, \"departure_hour\": 15, \"time_of_day\": \"Midday\", \"p25\": 0.35, \"p50\": 0.36, \"p75\": 0.37, \"p50_trip\": 1, \"fastest_trip\": 0, \"car_duration_hours\": 0.3, \"competitive_route\": 1, \"bus_multiplier\": 1.23, \"bus_difference\": 4.2, \"num_trips\": 24, \"num_competitive\": 24, \"pct_trips_competitive\": 1.0, \"bus_difference_spread\": 1.2000000000000002, \"route_group\": \"short\", \"max_trip_hrs\": 0.37, \"max_trip_route_group\": 0.37, \"below_cutoff\": 24, \"pct_below_cutoff\": 1.0, \"name\": \"San Joaquin Regional Transit District\", \"caltrans_district\": \"10 - Stockton\", \"drmt_organization_name\": \"['recBXxWghAGPPIwaR']\", \"route_name\": \"Dtc - Section/Oro\", \"cutoff2\": 20, \"cutoff\": 2}, {\"calitp_itp_id\": 284, \"trip_key\": 4674744111220364805, \"trip_id\": \"255558\", \"shape_id\": \"32070\", \"route_id\": \"580\", \"service_hours\": 0.37, \"trip_first_departure_ts\": 33000, \"trip_last_arrival_ts\": 34320, \"departure_hour\": 9, \"time_of_day\": \"AM Peak\", \"p25\": 0.35, \"p50\": 0.36, \"p75\": 0.37, \"p50_trip\": 1, \"fastest_trip\": 0, \"car_duration_hours\": 0.3, \"competitive_route\": 1, \"bus_multiplier\": 1.23, \"bus_difference\": 4.2, \"num_trips\": 24, \"num_competitive\": 24, \"pct_trips_competitive\": 1.0, \"bus_difference_spread\": 1.2000000000000002, \"route_group\": \"short\", \"max_trip_hrs\": 0.37, \"max_trip_route_group\": 0.37, \"below_cutoff\": 24, \"pct_below_cutoff\": 1.0, \"name\": \"San Joaquin Regional Transit District\", \"caltrans_district\": \"10 - Stockton\", \"drmt_organization_name\": \"['recBXxWghAGPPIwaR']\", \"route_name\": \"Dtc - Section/Oro\", \"cutoff2\": 20, \"cutoff\": 2}, {\"calitp_itp_id\": 284, \"trip_key\": -6864295098723302170, \"trip_id\": \"255550\", \"shape_id\": \"32070\", \"route_id\": \"580\", \"service_hours\": 0.37, \"trip_first_departure_ts\": 61800, \"trip_last_arrival_ts\": 63120, \"departure_hour\": 17, \"time_of_day\": \"PM Peak\", \"p25\": 0.35, \"p50\": 0.36, \"p75\": 0.37, \"p50_trip\": 1, \"fastest_trip\": 0, \"car_duration_hours\": 0.3, \"competitive_route\": 1, \"bus_multiplier\": 1.23, \"bus_difference\": 4.2, \"num_trips\": 24, \"num_competitive\": 24, \"pct_trips_competitive\": 1.0, \"bus_difference_spread\": 1.2000000000000002, \"route_group\": \"short\", \"max_trip_hrs\": 0.37, \"max_trip_route_group\": 0.37, \"below_cutoff\": 24, \"pct_below_cutoff\": 1.0, \"name\": \"San Joaquin Regional Transit District\", \"caltrans_district\": \"10 - Stockton\", \"drmt_organization_name\": \"['recBXxWghAGPPIwaR']\", \"route_name\": \"Dtc - Section/Oro\", \"cutoff2\": 20, \"cutoff\": 2}, {\"calitp_itp_id\": 284, \"trip_key\": -3941545691007755393, \"trip_id\": \"255551\", \"shape_id\": \"32070\", \"route_id\": \"580\", \"service_hours\": 0.37, \"trip_first_departure_ts\": 57900, \"trip_last_arrival_ts\": 59220, \"departure_hour\": 16, \"time_of_day\": \"Midday\", \"p25\": 0.35, \"p50\": 0.36, \"p75\": 0.37, \"p50_trip\": 1, \"fastest_trip\": 0, \"car_duration_hours\": 0.3, \"competitive_route\": 1, \"bus_multiplier\": 1.23, \"bus_difference\": 4.2, \"num_trips\": 24, \"num_competitive\": 24, \"pct_trips_competitive\": 1.0, \"bus_difference_spread\": 1.2000000000000002, \"route_group\": \"short\", \"max_trip_hrs\": 0.37, \"max_trip_route_group\": 0.37, \"below_cutoff\": 24, \"pct_below_cutoff\": 1.0, \"name\": \"San Joaquin Regional Transit District\", \"caltrans_district\": \"10 - Stockton\", \"drmt_organization_name\": \"['recBXxWghAGPPIwaR']\", \"route_name\": \"Dtc - Section/Oro\", \"cutoff2\": 20, \"cutoff\": 2}, {\"calitp_itp_id\": 284, \"trip_key\": -2110433851783455111, \"trip_id\": \"255553\", \"shape_id\": \"32070\", \"route_id\": \"580\", \"service_hours\": 0.37, \"trip_first_departure_ts\": 50700, \"trip_last_arrival_ts\": 52020, \"departure_hour\": 14, \"time_of_day\": \"Midday\", \"p25\": 0.35, \"p50\": 0.36, \"p75\": 0.37, \"p50_trip\": 1, \"fastest_trip\": 0, \"car_duration_hours\": 0.3, \"competitive_route\": 1, \"bus_multiplier\": 1.23, \"bus_difference\": 4.2, \"num_trips\": 24, \"num_competitive\": 24, \"pct_trips_competitive\": 1.0, \"bus_difference_spread\": 1.2000000000000002, \"route_group\": \"short\", \"max_trip_hrs\": 0.37, \"max_trip_route_group\": 0.37, \"below_cutoff\": 24, \"pct_below_cutoff\": 1.0, \"name\": \"San Joaquin Regional Transit District\", \"caltrans_district\": \"10 - Stockton\", \"drmt_organization_name\": \"['recBXxWghAGPPIwaR']\", \"route_name\": \"Dtc - Section/Oro\", \"cutoff2\": 20, \"cutoff\": 2}, {\"calitp_itp_id\": 284, \"trip_key\": -7040453116582023967, \"trip_id\": \"255554\", \"shape_id\": \"32070\", \"route_id\": \"580\", \"service_hours\": 0.37, \"trip_first_departure_ts\": 47400, \"trip_last_arrival_ts\": 48720, \"departure_hour\": 13, \"time_of_day\": \"Midday\", \"p25\": 0.35, \"p50\": 0.36, \"p75\": 0.37, \"p50_trip\": 1, \"fastest_trip\": 0, \"car_duration_hours\": 0.3, \"competitive_route\": 1, \"bus_multiplier\": 1.23, \"bus_difference\": 4.2, \"num_trips\": 24, \"num_competitive\": 24, \"pct_trips_competitive\": 1.0, \"bus_difference_spread\": 1.2000000000000002, \"route_group\": \"short\", \"max_trip_hrs\": 0.37, \"max_trip_route_group\": 0.37, \"below_cutoff\": 24, \"pct_below_cutoff\": 1.0, \"name\": \"San Joaquin Regional Transit District\", \"caltrans_district\": \"10 - Stockton\", \"drmt_organization_name\": \"['recBXxWghAGPPIwaR']\", \"route_name\": \"Dtc - Section/Oro\", \"cutoff2\": 20, \"cutoff\": 2}, {\"calitp_itp_id\": 284, \"trip_key\": -2253273466333654021, \"trip_id\": \"255555\", \"shape_id\": \"32070\", \"route_id\": \"580\", \"service_hours\": 0.37, \"trip_first_departure_ts\": 43800, \"trip_last_arrival_ts\": 45120, \"departure_hour\": 12, \"time_of_day\": \"Midday\", \"p25\": 0.35, \"p50\": 0.36, \"p75\": 0.37, \"p50_trip\": 1, \"fastest_trip\": 0, \"car_duration_hours\": 0.3, \"competitive_route\": 1, \"bus_multiplier\": 1.23, \"bus_difference\": 4.2, \"num_trips\": 24, \"num_competitive\": 24, \"pct_trips_competitive\": 1.0, \"bus_difference_spread\": 1.2000000000000002, \"route_group\": \"short\", \"max_trip_hrs\": 0.37, \"max_trip_route_group\": 0.37, \"below_cutoff\": 24, \"pct_below_cutoff\": 1.0, \"name\": \"San Joaquin Regional Transit District\", \"caltrans_district\": \"10 - Stockton\", \"drmt_organization_name\": \"['recBXxWghAGPPIwaR']\", \"route_name\": \"Dtc - Section/Oro\", \"cutoff2\": 20, \"cutoff\": 2}, {\"calitp_itp_id\": 284, \"trip_key\": 4984687498635716569, \"trip_id\": \"255549\", \"shape_id\": \"32070\", \"route_id\": \"580\", \"service_hours\": 0.37, \"trip_first_departure_ts\": 68700, \"trip_last_arrival_ts\": 70020, \"departure_hour\": 19, \"time_of_day\": \"PM Peak\", \"p25\": 0.35, \"p50\": 0.36, \"p75\": 0.37, \"p50_trip\": 1, \"fastest_trip\": 0, \"car_duration_hours\": 0.3, \"competitive_route\": 1, \"bus_multiplier\": 1.23, \"bus_difference\": 4.2, \"num_trips\": 24, \"num_competitive\": 24, \"pct_trips_competitive\": 1.0, \"bus_difference_spread\": 1.2000000000000002, \"route_group\": \"short\", \"max_trip_hrs\": 0.37, \"max_trip_route_group\": 0.37, \"below_cutoff\": 24, \"pct_below_cutoff\": 1.0, \"name\": \"San Joaquin Regional Transit District\", \"caltrans_district\": \"10 - Stockton\", \"drmt_organization_name\": \"['recBXxWghAGPPIwaR']\", \"route_name\": \"Dtc - Section/Oro\", \"cutoff2\": 20, \"cutoff\": 2}, {\"calitp_itp_id\": 284, \"trip_key\": -2685864265001034977, \"trip_id\": \"255557\", \"shape_id\": \"32070\", \"route_id\": \"580\", \"service_hours\": 0.37, \"trip_first_departure_ts\": 36300, \"trip_last_arrival_ts\": 37620, \"departure_hour\": 10, \"time_of_day\": \"Midday\", \"p25\": 0.35, \"p50\": 0.36, \"p75\": 0.37, \"p50_trip\": 1, \"fastest_trip\": 0, \"car_duration_hours\": 0.3, \"competitive_route\": 1, \"bus_multiplier\": 1.23, \"bus_difference\": 4.2, \"num_trips\": 24, \"num_competitive\": 24, \"pct_trips_competitive\": 1.0, \"bus_difference_spread\": 1.2000000000000002, \"route_group\": \"short\", \"max_trip_hrs\": 0.37, \"max_trip_route_group\": 0.37, \"below_cutoff\": 24, \"pct_below_cutoff\": 1.0, \"name\": \"San Joaquin Regional Transit District\", \"caltrans_district\": \"10 - Stockton\", \"drmt_organization_name\": \"['recBXxWghAGPPIwaR']\", \"route_name\": \"Dtc - Section/Oro\", \"cutoff2\": 20, \"cutoff\": 2}, {\"calitp_itp_id\": 284, \"trip_key\": 6884552739124493746, \"trip_id\": \"255560\", \"shape_id\": \"32070\", \"route_id\": \"580\", \"service_hours\": 0.37, \"trip_first_departure_ts\": 24900, \"trip_last_arrival_ts\": 26220, \"departure_hour\": 6, \"time_of_day\": \"Owl Service\", \"p25\": 0.35, \"p50\": 0.36, \"p75\": 0.37, \"p50_trip\": 1, \"fastest_trip\": 0, \"car_duration_hours\": 0.3, \"competitive_route\": 1, \"bus_multiplier\": 1.23, \"bus_difference\": 4.2, \"num_trips\": 24, \"num_competitive\": 24, \"pct_trips_competitive\": 1.0, \"bus_difference_spread\": 1.2000000000000002, \"route_group\": \"short\", \"max_trip_hrs\": 0.37, \"max_trip_route_group\": 0.37, \"below_cutoff\": 24, \"pct_below_cutoff\": 1.0, \"name\": \"San Joaquin Regional Transit District\", \"caltrans_district\": \"10 - Stockton\", \"drmt_organization_name\": \"['recBXxWghAGPPIwaR']\", \"route_name\": \"Dtc - Section/Oro\", \"cutoff2\": 20, \"cutoff\": 2}, {\"calitp_itp_id\": 284, \"trip_key\": -7600760132767218322, \"trip_id\": \"255559\", \"shape_id\": \"32070\", \"route_id\": \"580\", \"service_hours\": 0.37, \"trip_first_departure_ts\": 29100, \"trip_last_arrival_ts\": 30420, \"departure_hour\": 8, \"time_of_day\": \"AM Peak\", \"p25\": 0.35, \"p50\": 0.36, \"p75\": 0.37, \"p50_trip\": 1, \"fastest_trip\": 0, \"car_duration_hours\": 0.3, \"competitive_route\": 1, \"bus_multiplier\": 1.23, \"bus_difference\": 4.2, \"num_trips\": 24, \"num_competitive\": 24, \"pct_trips_competitive\": 1.0, \"bus_difference_spread\": 1.2000000000000002, \"route_group\": \"short\", \"max_trip_hrs\": 0.37, \"max_trip_route_group\": 0.37, \"below_cutoff\": 24, \"pct_below_cutoff\": 1.0, \"name\": \"San Joaquin Regional Transit District\", \"caltrans_district\": \"10 - Stockton\", \"drmt_organization_name\": \"['recBXxWghAGPPIwaR']\", \"route_name\": \"Dtc - Section/Oro\", \"cutoff2\": 20, \"cutoff\": 2}, {\"calitp_itp_id\": 284, \"trip_key\": 2560341403587721133, \"trip_id\": \"255556\", \"shape_id\": \"32070\", \"route_id\": \"580\", \"service_hours\": 0.37, \"trip_first_departure_ts\": 40200, \"trip_last_arrival_ts\": 41520, \"departure_hour\": 11, \"time_of_day\": \"Midday\", \"p25\": 0.35, \"p50\": 0.36, \"p75\": 0.37, \"p50_trip\": 1, \"fastest_trip\": 0, \"car_duration_hours\": 0.3, \"competitive_route\": 1, \"bus_multiplier\": 1.23, \"bus_difference\": 4.2, \"num_trips\": 24, \"num_competitive\": 24, \"pct_trips_competitive\": 1.0, \"bus_difference_spread\": 1.2000000000000002, \"route_group\": \"short\", \"max_trip_hrs\": 0.37, \"max_trip_route_group\": 0.37, \"below_cutoff\": 24, \"pct_below_cutoff\": 1.0, \"name\": \"San Joaquin Regional Transit District\", \"caltrans_district\": \"10 - Stockton\", \"drmt_organization_name\": \"['recBXxWghAGPPIwaR']\", \"route_name\": \"Dtc - Section/Oro\", \"cutoff2\": 20, \"cutoff\": 2}, {\"calitp_itp_id\": 284, \"trip_key\": -6400302821240540934, \"trip_id\": \"255720\", \"shape_id\": \"32083\", \"route_id\": \"90\", \"service_hours\": 0.82, \"trip_first_departure_ts\": 62520, \"trip_last_arrival_ts\": 65460, \"departure_hour\": 17, \"time_of_day\": \"PM Peak\", \"p25\": 0.82, \"p50\": 0.885, \"p75\": 0.95, \"p50_trip\": 0, \"fastest_trip\": 0, \"car_duration_hours\": 0.74, \"competitive_route\": 1, \"bus_multiplier\": 1.11, \"bus_difference\": 4.8, \"num_trips\": 14, \"num_competitive\": 14, \"pct_trips_competitive\": 1.0, \"bus_difference_spread\": 9.0, \"route_group\": \"short\", \"max_trip_hrs\": 0.97, \"max_trip_route_group\": 0.97, \"below_cutoff\": 14, \"pct_below_cutoff\": 1.0, \"name\": \"San Joaquin Regional Transit District\", \"caltrans_district\": \"10 - Stockton\", \"drmt_organization_name\": \"['recBXxWghAGPPIwaR']\", \"route_name\": \"Stockton-Lathrop-Tracy\", \"cutoff2\": 20, \"cutoff\": 2}, {\"calitp_itp_id\": 284, \"trip_key\": -8062396033883143814, \"trip_id\": \"255723\", \"shape_id\": \"32082\", \"route_id\": \"90\", \"service_hours\": 0.82, \"trip_first_departure_ts\": 37620, \"trip_last_arrival_ts\": 40560, \"departure_hour\": 10, \"time_of_day\": \"Midday\", \"p25\": 0.82, \"p50\": 0.885, \"p75\": 0.95, \"p50_trip\": 0, \"fastest_trip\": 0, \"car_duration_hours\": 0.74, \"competitive_route\": 1, \"bus_multiplier\": 1.11, \"bus_difference\": 4.8, \"num_trips\": 14, \"num_competitive\": 14, \"pct_trips_competitive\": 1.0, \"bus_difference_spread\": 9.0, \"route_group\": \"short\", \"max_trip_hrs\": 0.97, \"max_trip_route_group\": 0.97, \"below_cutoff\": 14, \"pct_below_cutoff\": 1.0, \"name\": \"San Joaquin Regional Transit District\", \"caltrans_district\": \"10 - Stockton\", \"drmt_organization_name\": \"['recBXxWghAGPPIwaR']\", \"route_name\": \"Stockton-Lathrop-Tracy\", \"cutoff2\": 20, \"cutoff\": 2}, {\"calitp_itp_id\": 284, \"trip_key\": 4590370288111958812, \"trip_id\": \"255725\", \"shape_id\": \"32082\", \"route_id\": \"90\", \"service_hours\": 0.82, \"trip_first_departure_ts\": 24900, \"trip_last_arrival_ts\": 27840, \"departure_hour\": 6, \"time_of_day\": \"Owl Service\", \"p25\": 0.82, \"p50\": 0.885, \"p75\": 0.95, \"p50_trip\": 0, \"fastest_trip\": 0, \"car_duration_hours\": 0.74, \"competitive_route\": 1, \"bus_multiplier\": 1.11, \"bus_difference\": 4.8, \"num_trips\": 14, \"num_competitive\": 14, \"pct_trips_competitive\": 1.0, \"bus_difference_spread\": 9.0, \"route_group\": \"short\", \"max_trip_hrs\": 0.97, \"max_trip_route_group\": 0.97, \"below_cutoff\": 14, \"pct_below_cutoff\": 1.0, \"name\": \"San Joaquin Regional Transit District\", \"caltrans_district\": \"10 - Stockton\", \"drmt_organization_name\": \"['recBXxWghAGPPIwaR']\", \"route_name\": \"Stockton-Lathrop-Tracy\", \"cutoff2\": 20, \"cutoff\": 2}, {\"calitp_itp_id\": 284, \"trip_key\": 3975960701692484944, \"trip_id\": \"255724\", \"shape_id\": \"32082\", \"route_id\": \"90\", \"service_hours\": 0.82, \"trip_first_departure_ts\": 28320, \"trip_last_arrival_ts\": 31260, \"departure_hour\": 7, \"time_of_day\": \"AM Peak\", \"p25\": 0.82, \"p50\": 0.885, \"p75\": 0.95, \"p50_trip\": 0, \"fastest_trip\": 0, \"car_duration_hours\": 0.74, \"competitive_route\": 1, \"bus_multiplier\": 1.11, \"bus_difference\": 4.8, \"num_trips\": 14, \"num_competitive\": 14, \"pct_trips_competitive\": 1.0, \"bus_difference_spread\": 9.0, \"route_group\": \"short\", \"max_trip_hrs\": 0.97, \"max_trip_route_group\": 0.97, \"below_cutoff\": 14, \"pct_below_cutoff\": 1.0, \"name\": \"San Joaquin Regional Transit District\", \"caltrans_district\": \"10 - Stockton\", \"drmt_organization_name\": \"['recBXxWghAGPPIwaR']\", \"route_name\": \"Stockton-Lathrop-Tracy\", \"cutoff2\": 20, \"cutoff\": 2}, {\"calitp_itp_id\": 284, \"trip_key\": 8829867302554588318, \"trip_id\": \"255721\", \"shape_id\": \"32083\", \"route_id\": \"90\", \"service_hours\": 0.82, \"trip_first_departure_ts\": 58920, \"trip_last_arrival_ts\": 61860, \"departure_hour\": 16, \"time_of_day\": \"Midday\", \"p25\": 0.82, \"p50\": 0.885, \"p75\": 0.95, \"p50_trip\": 0, \"fastest_trip\": 0, \"car_duration_hours\": 0.74, \"competitive_route\": 1, \"bus_multiplier\": 1.11, \"bus_difference\": 4.8, \"num_trips\": 14, \"num_competitive\": 14, \"pct_trips_competitive\": 1.0, \"bus_difference_spread\": 9.0, \"route_group\": \"short\", \"max_trip_hrs\": 0.97, \"max_trip_route_group\": 0.97, \"below_cutoff\": 14, \"pct_below_cutoff\": 1.0, \"name\": \"San Joaquin Regional Transit District\", \"caltrans_district\": \"10 - Stockton\", \"drmt_organization_name\": \"['recBXxWghAGPPIwaR']\", \"route_name\": \"Stockton-Lathrop-Tracy\", \"cutoff2\": 20, \"cutoff\": 2}, {\"calitp_itp_id\": 284, \"trip_key\": 8108330916791639717, \"trip_id\": \"255719\", \"shape_id\": \"32083\", \"route_id\": \"90\", \"service_hours\": 0.82, \"trip_first_departure_ts\": 70320, \"trip_last_arrival_ts\": 73260, \"departure_hour\": 19, \"time_of_day\": \"PM Peak\", \"p25\": 0.82, \"p50\": 0.885, \"p75\": 0.95, \"p50_trip\": 0, \"fastest_trip\": 1, \"car_duration_hours\": 0.74, \"competitive_route\": 1, \"bus_multiplier\": 1.11, \"bus_difference\": 4.8, \"num_trips\": 14, \"num_competitive\": 14, \"pct_trips_competitive\": 1.0, \"bus_difference_spread\": 9.0, \"route_group\": \"short\", \"max_trip_hrs\": 0.97, \"max_trip_route_group\": 0.97, \"below_cutoff\": 14, \"pct_below_cutoff\": 1.0, \"name\": \"San Joaquin Regional Transit District\", \"caltrans_district\": \"10 - Stockton\", \"drmt_organization_name\": \"['recBXxWghAGPPIwaR']\", \"route_name\": \"Stockton-Lathrop-Tracy\", \"cutoff2\": 20, \"cutoff\": 2}, {\"calitp_itp_id\": 284, \"trip_key\": -2526477061646687764, \"trip_id\": \"255722\", \"shape_id\": \"32082\", \"route_id\": \"90\", \"service_hours\": 0.82, \"trip_first_departure_ts\": 46320, \"trip_last_arrival_ts\": 49260, \"departure_hour\": 12, \"time_of_day\": \"Midday\", \"p25\": 0.82, \"p50\": 0.885, \"p75\": 0.95, \"p50_trip\": 0, \"fastest_trip\": 0, \"car_duration_hours\": 0.74, \"competitive_route\": 1, \"bus_multiplier\": 1.11, \"bus_difference\": 4.8, \"num_trips\": 14, \"num_competitive\": 14, \"pct_trips_competitive\": 1.0, \"bus_difference_spread\": 9.0, \"route_group\": \"short\", \"max_trip_hrs\": 0.97, \"max_trip_route_group\": 0.97, \"below_cutoff\": 14, \"pct_below_cutoff\": 1.0, \"name\": \"San Joaquin Regional Transit District\", \"caltrans_district\": \"10 - Stockton\", \"drmt_organization_name\": \"['recBXxWghAGPPIwaR']\", \"route_name\": \"Stockton-Lathrop-Tracy\", \"cutoff2\": 20, \"cutoff\": 2}, {\"calitp_itp_id\": 284, \"trip_key\": -8613905044122310600, \"trip_id\": \"255731\", \"shape_id\": \"32084\", \"route_id\": \"90\", \"service_hours\": 0.95, \"trip_first_departure_ts\": 33600, \"trip_last_arrival_ts\": 37020, \"departure_hour\": 9, \"time_of_day\": \"AM Peak\", \"p25\": 0.82, \"p50\": 0.885, \"p75\": 0.95, \"p50_trip\": 1, \"fastest_trip\": 0, \"car_duration_hours\": 0.74, \"competitive_route\": 1, \"bus_multiplier\": 1.28, \"bus_difference\": 12.6, \"num_trips\": 14, \"num_competitive\": 14, \"pct_trips_competitive\": 1.0, \"bus_difference_spread\": 9.0, \"route_group\": \"short\", \"max_trip_hrs\": 0.97, \"max_trip_route_group\": 0.97, \"below_cutoff\": 14, \"pct_below_cutoff\": 1.0, \"name\": \"San Joaquin Regional Transit District\", \"caltrans_district\": \"10 - Stockton\", \"drmt_organization_name\": \"['recBXxWghAGPPIwaR']\", \"route_name\": \"Stockton-Lathrop-Tracy\", \"cutoff2\": 20, \"cutoff\": 2}, {\"calitp_itp_id\": 284, \"trip_key\": -1236131323005854608, \"trip_id\": \"255728\", \"shape_id\": \"32084\", \"route_id\": \"90\", \"service_hours\": 0.95, \"trip_first_departure_ts\": 58500, \"trip_last_arrival_ts\": 61920, \"departure_hour\": 16, \"time_of_day\": \"Midday\", \"p25\": 0.82, \"p50\": 0.885, \"p75\": 0.95, \"p50_trip\": 1, \"fastest_trip\": 0, \"car_duration_hours\": 0.74, \"competitive_route\": 1, \"bus_multiplier\": 1.28, \"bus_difference\": 12.6, \"num_trips\": 14, \"num_competitive\": 14, \"pct_trips_competitive\": 1.0, \"bus_difference_spread\": 9.0, \"route_group\": \"short\", \"max_trip_hrs\": 0.97, \"max_trip_route_group\": 0.97, \"below_cutoff\": 14, \"pct_below_cutoff\": 1.0, \"name\": \"San Joaquin Regional Transit District\", \"caltrans_district\": \"10 - Stockton\", \"drmt_organization_name\": \"['recBXxWghAGPPIwaR']\", \"route_name\": \"Stockton-Lathrop-Tracy\", \"cutoff2\": 20, \"cutoff\": 2}, {\"calitp_itp_id\": 284, \"trip_key\": 5281707622576093818, \"trip_id\": \"255729\", \"shape_id\": \"32084\", \"route_id\": \"90\", \"service_hours\": 0.95, \"trip_first_departure_ts\": 54900, \"trip_last_arrival_ts\": 58320, \"departure_hour\": 15, \"time_of_day\": \"Midday\", \"p25\": 0.82, \"p50\": 0.885, \"p75\": 0.95, \"p50_trip\": 1, \"fastest_trip\": 0, \"car_duration_hours\": 0.74, \"competitive_route\": 1, \"bus_multiplier\": 1.28, \"bus_difference\": 12.6, \"num_trips\": 14, \"num_competitive\": 14, \"pct_trips_competitive\": 1.0, \"bus_difference_spread\": 9.0, \"route_group\": \"short\", \"max_trip_hrs\": 0.97, \"max_trip_route_group\": 0.97, \"below_cutoff\": 14, \"pct_below_cutoff\": 1.0, \"name\": \"San Joaquin Regional Transit District\", \"caltrans_district\": \"10 - Stockton\", \"drmt_organization_name\": \"['recBXxWghAGPPIwaR']\", \"route_name\": \"Stockton-Lathrop-Tracy\", \"cutoff2\": 20, \"cutoff\": 2}, {\"calitp_itp_id\": 284, \"trip_key\": -2935375050621574103, \"trip_id\": \"255732\", \"shape_id\": \"32084\", \"route_id\": \"90\", \"service_hours\": 0.95, \"trip_first_departure_ts\": 24300, \"trip_last_arrival_ts\": 27720, \"departure_hour\": 6, \"time_of_day\": \"Owl Service\", \"p25\": 0.82, \"p50\": 0.885, \"p75\": 0.95, \"p50_trip\": 1, \"fastest_trip\": 0, \"car_duration_hours\": 0.74, \"competitive_route\": 1, \"bus_multiplier\": 1.28, \"bus_difference\": 12.6, \"num_trips\": 14, \"num_competitive\": 14, \"pct_trips_competitive\": 1.0, \"bus_difference_spread\": 9.0, \"route_group\": \"short\", \"max_trip_hrs\": 0.97, \"max_trip_route_group\": 0.97, \"below_cutoff\": 14, \"pct_below_cutoff\": 1.0, \"name\": \"San Joaquin Regional Transit District\", \"caltrans_district\": \"10 - Stockton\", \"drmt_organization_name\": \"['recBXxWghAGPPIwaR']\", \"route_name\": \"Stockton-Lathrop-Tracy\", \"cutoff2\": 20, \"cutoff\": 2}, {\"calitp_itp_id\": 284, \"trip_key\": -7017080042701469583, \"trip_id\": \"255727\", \"shape_id\": \"32085\", \"route_id\": \"90\", \"service_hours\": 0.95, \"trip_first_departure_ts\": 66300, \"trip_last_arrival_ts\": 69720, \"departure_hour\": 18, \"time_of_day\": \"PM Peak\", \"p25\": 0.82, \"p50\": 0.885, \"p75\": 0.95, \"p50_trip\": 1, \"fastest_trip\": 0, \"car_duration_hours\": 0.74, \"competitive_route\": 1, \"bus_multiplier\": 1.28, \"bus_difference\": 12.6, \"num_trips\": 14, \"num_competitive\": 14, \"pct_trips_competitive\": 1.0, \"bus_difference_spread\": 9.0, \"route_group\": \"short\", \"max_trip_hrs\": 0.97, \"max_trip_route_group\": 0.97, \"below_cutoff\": 14, \"pct_below_cutoff\": 1.0, \"name\": \"San Joaquin Regional Transit District\", \"caltrans_district\": \"10 - Stockton\", \"drmt_organization_name\": \"['recBXxWghAGPPIwaR']\", \"route_name\": \"Stockton-Lathrop-Tracy\", \"cutoff2\": 20, \"cutoff\": 2}, {\"calitp_itp_id\": 284, \"trip_key\": 2749252935436184291, \"trip_id\": \"255730\", \"shape_id\": \"32084\", \"route_id\": \"90\", \"service_hours\": 0.95, \"trip_first_departure_ts\": 42300, \"trip_last_arrival_ts\": 45720, \"departure_hour\": 11, \"time_of_day\": \"Midday\", \"p25\": 0.82, \"p50\": 0.885, \"p75\": 0.95, \"p50_trip\": 1, \"fastest_trip\": 0, \"car_duration_hours\": 0.74, \"competitive_route\": 1, \"bus_multiplier\": 1.28, \"bus_difference\": 12.6, \"num_trips\": 14, \"num_competitive\": 14, \"pct_trips_competitive\": 1.0, \"bus_difference_spread\": 9.0, \"route_group\": \"short\", \"max_trip_hrs\": 0.97, \"max_trip_route_group\": 0.97, \"below_cutoff\": 14, \"pct_below_cutoff\": 1.0, \"name\": \"San Joaquin Regional Transit District\", \"caltrans_district\": \"10 - Stockton\", \"drmt_organization_name\": \"['recBXxWghAGPPIwaR']\", \"route_name\": \"Stockton-Lathrop-Tracy\", \"cutoff2\": 20, \"cutoff\": 2}, {\"calitp_itp_id\": 284, \"trip_key\": -912936521474187572, \"trip_id\": \"255726\", \"shape_id\": \"32082\", \"route_id\": \"90\", \"service_hours\": 0.97, \"trip_first_departure_ts\": 20220, \"trip_last_arrival_ts\": 23700, \"departure_hour\": 5, \"time_of_day\": \"Owl Service\", \"p25\": 0.82, \"p50\": 0.885, \"p75\": 0.95, \"p50_trip\": 0, \"fastest_trip\": 0, \"car_duration_hours\": 0.74, \"competitive_route\": 1, \"bus_multiplier\": 1.31, \"bus_difference\": 13.8, \"num_trips\": 14, \"num_competitive\": 14, \"pct_trips_competitive\": 1.0, \"bus_difference_spread\": 9.0, \"route_group\": \"short\", \"max_trip_hrs\": 0.97, \"max_trip_route_group\": 0.97, \"below_cutoff\": 14, \"pct_below_cutoff\": 1.0, \"name\": \"San Joaquin Regional Transit District\", \"caltrans_district\": \"10 - Stockton\", \"drmt_organization_name\": \"['recBXxWghAGPPIwaR']\", \"route_name\": \"Stockton-Lathrop-Tracy\", \"cutoff2\": 20, \"cutoff\": 2}]}}, {\"mode\": \"vega-lite\"});\n",
       "</script>"
      ],
      "text/plain": [
       "alt.FacetChart(...)"
      ]
     },
     "metadata": {},
     "output_type": "display_data"
    },
    {
     "data": {
      "text/html": [
       "\n",
       "<div id=\"altair-viz-5e2d8dad9d2c47eea5d591f1cef1466f\"></div>\n",
       "<script type=\"text/javascript\">\n",
       "  var VEGA_DEBUG = (typeof VEGA_DEBUG == \"undefined\") ? {} : VEGA_DEBUG;\n",
       "  (function(spec, embedOpt){\n",
       "    let outputDiv = document.currentScript.previousElementSibling;\n",
       "    if (outputDiv.id !== \"altair-viz-5e2d8dad9d2c47eea5d591f1cef1466f\") {\n",
       "      outputDiv = document.getElementById(\"altair-viz-5e2d8dad9d2c47eea5d591f1cef1466f\");\n",
       "    }\n",
       "    const paths = {\n",
       "      \"vega\": \"https://cdn.jsdelivr.net/npm//vega@5?noext\",\n",
       "      \"vega-lib\": \"https://cdn.jsdelivr.net/npm//vega-lib?noext\",\n",
       "      \"vega-lite\": \"https://cdn.jsdelivr.net/npm//vega-lite@4.17.0?noext\",\n",
       "      \"vega-embed\": \"https://cdn.jsdelivr.net/npm//vega-embed@6?noext\",\n",
       "    };\n",
       "\n",
       "    function maybeLoadScript(lib, version) {\n",
       "      var key = `${lib.replace(\"-\", \"\")}_version`;\n",
       "      return (VEGA_DEBUG[key] == version) ?\n",
       "        Promise.resolve(paths[lib]) :\n",
       "        new Promise(function(resolve, reject) {\n",
       "          var s = document.createElement('script');\n",
       "          document.getElementsByTagName(\"head\")[0].appendChild(s);\n",
       "          s.async = true;\n",
       "          s.onload = () => {\n",
       "            VEGA_DEBUG[key] = version;\n",
       "            return resolve(paths[lib]);\n",
       "          };\n",
       "          s.onerror = () => reject(`Error loading script: ${paths[lib]}`);\n",
       "          s.src = paths[lib];\n",
       "        });\n",
       "    }\n",
       "\n",
       "    function showError(err) {\n",
       "      outputDiv.innerHTML = `<div class=\"error\" style=\"color:red;\">${err}</div>`;\n",
       "      throw err;\n",
       "    }\n",
       "\n",
       "    function displayChart(vegaEmbed) {\n",
       "      vegaEmbed(outputDiv, spec, embedOpt)\n",
       "        .catch(err => showError(`Javascript Error: ${err.message}<br>This usually means there's a typo in your chart specification. See the javascript console for the full traceback.`));\n",
       "    }\n",
       "\n",
       "    if(typeof define === \"function\" && define.amd) {\n",
       "      requirejs.config({paths});\n",
       "      require([\"vega-embed\"], displayChart, err => showError(`Error loading script: ${err.message}`));\n",
       "    } else {\n",
       "      maybeLoadScript(\"vega\", \"5\")\n",
       "        .then(() => maybeLoadScript(\"vega-lite\", \"4.17.0\"))\n",
       "        .then(() => maybeLoadScript(\"vega-embed\", \"6\"))\n",
       "        .catch(showError)\n",
       "        .then(() => displayChart(vegaEmbed));\n",
       "    }\n",
       "  })({\"config\": {\"view\": {\"continuousWidth\": 400, \"continuousHeight\": 300, \"stroke\": null}, \"facet\": {\"spacing\": 0}}, \"data\": {\"name\": \"data-b799c58d9ac68761a699a480fff03a15\"}, \"facet\": {\"column\": {\"field\": \"route_id\", \"sort\": [\"510\", \"580\", \"90\", \"380\", \"390\"], \"title\": \"Route ID\", \"type\": \"nominal\"}}, \"spec\": {\"layer\": [{\"mark\": \"rule\", \"encoding\": {\"color\": {\"value\": \"black\"}, \"y\": {\"field\": \"cutoff\", \"type\": \"quantitative\"}}, \"selection\": {\"selector002\": {\"type\": \"interval\", \"bind\": \"scales\", \"encodings\": [\"x\", \"y\"]}}}, {\"mark\": {\"type\": \"rule\", \"strokeDash\": [3, 3]}, \"encoding\": {\"color\": {\"value\": \"#323434\"}, \"y\": {\"field\": \"cutoff2\", \"type\": \"quantitative\"}}}, {\"mark\": {\"type\": \"point\", \"opacity\": 0.65, \"size\": 12, \"strokeWidth\": 1.1}, \"encoding\": {\"color\": {\"field\": \"time_of_day\", \"scale\": {\"range\": [\"#136C97\", \"#E16B26\", \"#F6BF16\", \"#00896B\", \"#7790A3\", \"#5B559C\"]}, \"sort\": [\"AM Peak\", \"Midday\", \"PM Peak\", \"Owl Service\"], \"title\": \"Time of Day\", \"type\": \"nominal\"}, \"tooltip\": [{\"field\": \"route_id\", \"type\": \"nominal\"}, {\"field\": \"route_name\", \"type\": \"nominal\"}, {\"field\": \"trip_id\", \"type\": \"nominal\"}, {\"field\": \"service_hours\", \"type\": \"quantitative\"}, {\"field\": \"car_duration_hours\", \"type\": \"quantitative\"}, {\"field\": \"bus_multiplier\", \"type\": \"quantitative\"}, {\"field\": \"bus_difference\", \"type\": \"quantitative\"}, {\"field\": \"num_trips\", \"type\": \"quantitative\"}, {\"field\": \"num_competitive\", \"type\": \"quantitative\"}, {\"field\": \"pct_trips_competitive\", \"type\": \"quantitative\"}, {\"field\": \"pct_below_cutoff\", \"type\": \"quantitative\"}, {\"field\": \"p25\", \"type\": \"quantitative\"}, {\"field\": \"p50\", \"type\": \"quantitative\"}, {\"field\": \"p75\", \"type\": \"quantitative\"}], \"x\": {\"axis\": {\"grid\": false, \"labels\": false, \"ticks\": true, \"values\": [0]}, \"field\": \"jitter\", \"scale\": {}, \"title\": null, \"type\": \"quantitative\"}, \"y\": {\"field\": \"bus_difference\", \"scale\": {\"domain\": [-5, 46.2]}, \"title\": \"Difference in Bus to Car Travel Time (min)\", \"type\": \"quantitative\"}}, \"transform\": [{\"calculate\": \"sqrt(-2*log(random()))*cos(2*PI*random())\", \"as\": \"jitter\"}], \"width\": 50}, {\"layer\": [{\"mark\": {\"type\": \"point\", \"opacity\": 0.6, \"size\": 20, \"strokeWidth\": 1.3}, \"encoding\": {\"color\": {\"value\": \"#323434\"}, \"y\": {\"field\": \"bus_difference\", \"type\": \"quantitative\"}}, \"transform\": [{\"filter\": \"(datum.p50_trip === 1)\"}]}, {\"mark\": {\"type\": \"text\", \"align\": \"center\", \"baseline\": \"middle\"}, \"encoding\": {\"color\": {\"value\": \"black\"}, \"text\": {\"field\": \"pct_trips_competitive\", \"format\": \".0%\", \"type\": \"quantitative\"}, \"tooltip\": [{\"field\": \"route_id\", \"type\": \"nominal\"}, {\"field\": \"route_name\", \"type\": \"nominal\"}, {\"field\": \"trip_id\", \"type\": \"nominal\"}, {\"field\": \"service_hours\", \"type\": \"quantitative\"}, {\"field\": \"car_duration_hours\", \"type\": \"quantitative\"}, {\"field\": \"bus_multiplier\", \"type\": \"quantitative\"}, {\"field\": \"bus_difference\", \"type\": \"quantitative\"}, {\"field\": \"num_trips\", \"type\": \"quantitative\"}, {\"field\": \"num_competitive\", \"type\": \"quantitative\"}, {\"field\": \"pct_trips_competitive\", \"type\": \"quantitative\"}, {\"field\": \"pct_below_cutoff\", \"type\": \"quantitative\"}, {\"field\": \"p25\", \"type\": \"quantitative\"}, {\"field\": \"p50\", \"type\": \"quantitative\"}, {\"field\": \"p75\", \"type\": \"quantitative\"}], \"x\": {\"value\": 30}, \"y\": {\"value\": 15}}, \"transform\": [{\"calculate\": \"sqrt(-2*log(random()))*cos(2*PI*random())\", \"as\": \"jitter\"}, {\"filter\": \"(datum.fastest_trip === 1)\"}]}]}]}, \"resolve\": {\"scale\": {\"y\": \"shared\"}}, \"title\": \"Difference in Bus to Car Travel Time (min)\", \"$schema\": \"https://vega.github.io/schema/vega-lite/v4.17.0.json\", \"datasets\": {\"data-b799c58d9ac68761a699a480fff03a15\": [{\"calitp_itp_id\": 284, \"trip_key\": -5992826917194029100, \"trip_id\": \"254572\", \"shape_id\": \"32017\", \"route_id\": \"380\", \"service_hours\": 0.38, \"trip_first_departure_ts\": 23460, \"trip_last_arrival_ts\": 24840, \"departure_hour\": 6, \"time_of_day\": \"Owl Service\", \"p25\": 0.38, \"p50\": 0.405, \"p75\": 0.43, \"p50_trip\": 0, \"fastest_trip\": 1, \"car_duration_hours\": 0.35, \"competitive_route\": 1, \"bus_multiplier\": 1.09, \"bus_difference\": 1.8, \"num_trips\": 4, \"num_competitive\": 4, \"pct_trips_competitive\": 1.0, \"bus_difference_spread\": 3.0, \"route_group\": \"short\", \"max_trip_hrs\": 0.43, \"max_trip_route_group\": 0.43, \"below_cutoff\": 4, \"pct_below_cutoff\": 1.0, \"name\": \"San Joaquin Regional Transit District\", \"caltrans_district\": \"10 - Stockton\", \"drmt_organization_name\": \"['recBXxWghAGPPIwaR']\", \"route_name\": \"Limited Weekday Crosstown Service\", \"cutoff2\": 20, \"cutoff\": 0}, {\"calitp_itp_id\": 284, \"trip_key\": 6109744276762557972, \"trip_id\": \"254571\", \"shape_id\": \"32017\", \"route_id\": \"380\", \"service_hours\": 0.38, \"trip_first_departure_ts\": 23580, \"trip_last_arrival_ts\": 24960, \"departure_hour\": 6, \"time_of_day\": \"Owl Service\", \"p25\": 0.38, \"p50\": 0.405, \"p75\": 0.43, \"p50_trip\": 0, \"fastest_trip\": 0, \"car_duration_hours\": 0.35, \"competitive_route\": 1, \"bus_multiplier\": 1.09, \"bus_difference\": 1.8, \"num_trips\": 4, \"num_competitive\": 4, \"pct_trips_competitive\": 1.0, \"bus_difference_spread\": 3.0, \"route_group\": \"short\", \"max_trip_hrs\": 0.43, \"max_trip_route_group\": 0.43, \"below_cutoff\": 4, \"pct_below_cutoff\": 1.0, \"name\": \"San Joaquin Regional Transit District\", \"caltrans_district\": \"10 - Stockton\", \"drmt_organization_name\": \"['recBXxWghAGPPIwaR']\", \"route_name\": \"Limited Weekday Crosstown Service\", \"cutoff2\": 20, \"cutoff\": 0}, {\"calitp_itp_id\": 284, \"trip_key\": -4197460441902800956, \"trip_id\": \"254573\", \"shape_id\": \"32018\", \"route_id\": \"380\", \"service_hours\": 0.43, \"trip_first_departure_ts\": 51900, \"trip_last_arrival_ts\": 53460, \"departure_hour\": 14, \"time_of_day\": \"Midday\", \"p25\": 0.38, \"p50\": 0.405, \"p75\": 0.43, \"p50_trip\": 1, \"fastest_trip\": 0, \"car_duration_hours\": 0.35, \"competitive_route\": 1, \"bus_multiplier\": 1.23, \"bus_difference\": 4.8, \"num_trips\": 4, \"num_competitive\": 4, \"pct_trips_competitive\": 1.0, \"bus_difference_spread\": 3.0, \"route_group\": \"short\", \"max_trip_hrs\": 0.43, \"max_trip_route_group\": 0.43, \"below_cutoff\": 4, \"pct_below_cutoff\": 1.0, \"name\": \"San Joaquin Regional Transit District\", \"caltrans_district\": \"10 - Stockton\", \"drmt_organization_name\": \"['recBXxWghAGPPIwaR']\", \"route_name\": \"Limited Weekday Crosstown Service\", \"cutoff2\": 20, \"cutoff\": 0}, {\"calitp_itp_id\": 284, \"trip_key\": -4129610192026572638, \"trip_id\": \"254574\", \"shape_id\": \"32018\", \"route_id\": \"380\", \"service_hours\": 0.43, \"trip_first_departure_ts\": 51840, \"trip_last_arrival_ts\": 53400, \"departure_hour\": 14, \"time_of_day\": \"Midday\", \"p25\": 0.38, \"p50\": 0.405, \"p75\": 0.43, \"p50_trip\": 1, \"fastest_trip\": 0, \"car_duration_hours\": 0.35, \"competitive_route\": 1, \"bus_multiplier\": 1.23, \"bus_difference\": 4.8, \"num_trips\": 4, \"num_competitive\": 4, \"pct_trips_competitive\": 1.0, \"bus_difference_spread\": 3.0, \"route_group\": \"short\", \"max_trip_hrs\": 0.43, \"max_trip_route_group\": 0.43, \"below_cutoff\": 4, \"pct_below_cutoff\": 1.0, \"name\": \"San Joaquin Regional Transit District\", \"caltrans_district\": \"10 - Stockton\", \"drmt_organization_name\": \"['recBXxWghAGPPIwaR']\", \"route_name\": \"Limited Weekday Crosstown Service\", \"cutoff2\": 20, \"cutoff\": 0}, {\"calitp_itp_id\": 284, \"trip_key\": 412418593923932151, \"trip_id\": \"254578\", \"shape_id\": \"32022\", \"route_id\": \"390\", \"service_hours\": 0.62, \"trip_first_departure_ts\": 21660, \"trip_last_arrival_ts\": 23880, \"departure_hour\": 6, \"time_of_day\": \"Owl Service\", \"p25\": 0.665, \"p50\": 0.71, \"p75\": 0.755, \"p50_trip\": 1, \"fastest_trip\": 1, \"car_duration_hours\": 0.52, \"competitive_route\": 1, \"bus_multiplier\": 1.19, \"bus_difference\": 6.0, \"num_trips\": 2, \"num_competitive\": 2, \"pct_trips_competitive\": 1.0, \"bus_difference_spread\": 10.8, \"route_group\": \"short\", \"max_trip_hrs\": 0.8, \"max_trip_route_group\": 0.8, \"below_cutoff\": 2, \"pct_below_cutoff\": 1.0, \"name\": \"San Joaquin Regional Transit District\", \"caltrans_district\": \"10 - Stockton\", \"drmt_organization_name\": \"['recBXxWghAGPPIwaR']\", \"route_name\": \"Limited Weekday Crosstown Service\", \"cutoff2\": 20, \"cutoff\": 0}, {\"calitp_itp_id\": 284, \"trip_key\": -6538334404796881307, \"trip_id\": \"254579\", \"shape_id\": \"32023\", \"route_id\": \"390\", \"service_hours\": 0.8, \"trip_first_departure_ts\": 55200, \"trip_last_arrival_ts\": 58080, \"departure_hour\": 15, \"time_of_day\": \"Midday\", \"p25\": 0.665, \"p50\": 0.71, \"p75\": 0.755, \"p50_trip\": 0, \"fastest_trip\": 0, \"car_duration_hours\": 0.52, \"competitive_route\": 1, \"bus_multiplier\": 1.54, \"bus_difference\": 16.8, \"num_trips\": 2, \"num_competitive\": 2, \"pct_trips_competitive\": 1.0, \"bus_difference_spread\": 10.8, \"route_group\": \"short\", \"max_trip_hrs\": 0.8, \"max_trip_route_group\": 0.8, \"below_cutoff\": 2, \"pct_below_cutoff\": 1.0, \"name\": \"San Joaquin Regional Transit District\", \"caltrans_district\": \"10 - Stockton\", \"drmt_organization_name\": \"['recBXxWghAGPPIwaR']\", \"route_name\": \"Limited Weekday Crosstown Service\", \"cutoff2\": 20, \"cutoff\": 0}, {\"calitp_itp_id\": 284, \"trip_key\": -1089047099376457518, \"trip_id\": \"255334\", \"shape_id\": \"32042\", \"route_id\": \"510\", \"service_hours\": 0.43, \"trip_first_departure_ts\": 63540, \"trip_last_arrival_ts\": 65100, \"departure_hour\": 17, \"time_of_day\": \"PM Peak\", \"p25\": 0.47, \"p50\": 0.47, \"p75\": 0.47, \"p50_trip\": 0, \"fastest_trip\": 0, \"car_duration_hours\": 0.32, \"competitive_route\": 1, \"bus_multiplier\": 1.34, \"bus_difference\": 6.6, \"num_trips\": 33, \"num_competitive\": 33, \"pct_trips_competitive\": 1.0, \"bus_difference_spread\": 4.200000000000001, \"route_group\": \"short\", \"max_trip_hrs\": 0.5, \"max_trip_route_group\": 0.5, \"below_cutoff\": 33, \"pct_below_cutoff\": 1.0, \"name\": \"San Joaquin Regional Transit District\", \"caltrans_district\": \"10 - Stockton\", \"drmt_organization_name\": \"['recBXxWghAGPPIwaR']\", \"route_name\": \"Dtc-San Joaquin-El Dorado\", \"cutoff2\": 20, \"cutoff\": 0}, {\"calitp_itp_id\": 284, \"trip_key\": -7320451584444904174, \"trip_id\": \"255335\", \"shape_id\": \"32042\", \"route_id\": \"510\", \"service_hours\": 0.43, \"trip_first_departure_ts\": 61680, \"trip_last_arrival_ts\": 63240, \"departure_hour\": 17, \"time_of_day\": \"PM Peak\", \"p25\": 0.47, \"p50\": 0.47, \"p75\": 0.47, \"p50_trip\": 0, \"fastest_trip\": 0, \"car_duration_hours\": 0.32, \"competitive_route\": 1, \"bus_multiplier\": 1.34, \"bus_difference\": 6.6, \"num_trips\": 33, \"num_competitive\": 33, \"pct_trips_competitive\": 1.0, \"bus_difference_spread\": 4.200000000000001, \"route_group\": \"short\", \"max_trip_hrs\": 0.5, \"max_trip_route_group\": 0.5, \"below_cutoff\": 33, \"pct_below_cutoff\": 1.0, \"name\": \"San Joaquin Regional Transit District\", \"caltrans_district\": \"10 - Stockton\", \"drmt_organization_name\": \"['recBXxWghAGPPIwaR']\", \"route_name\": \"Dtc-San Joaquin-El Dorado\", \"cutoff2\": 20, \"cutoff\": 0}, {\"calitp_itp_id\": 284, \"trip_key\": -113894542215720961, \"trip_id\": \"255336\", \"shape_id\": \"32042\", \"route_id\": \"510\", \"service_hours\": 0.43, \"trip_first_departure_ts\": 59280, \"trip_last_arrival_ts\": 60840, \"departure_hour\": 16, \"time_of_day\": \"Midday\", \"p25\": 0.47, \"p50\": 0.47, \"p75\": 0.47, \"p50_trip\": 0, \"fastest_trip\": 0, \"car_duration_hours\": 0.32, \"competitive_route\": 1, \"bus_multiplier\": 1.34, \"bus_difference\": 6.6, \"num_trips\": 33, \"num_competitive\": 33, \"pct_trips_competitive\": 1.0, \"bus_difference_spread\": 4.200000000000001, \"route_group\": \"short\", \"max_trip_hrs\": 0.5, \"max_trip_route_group\": 0.5, \"below_cutoff\": 33, \"pct_below_cutoff\": 1.0, \"name\": \"San Joaquin Regional Transit District\", \"caltrans_district\": \"10 - Stockton\", \"drmt_organization_name\": \"['recBXxWghAGPPIwaR']\", \"route_name\": \"Dtc-San Joaquin-El Dorado\", \"cutoff2\": 20, \"cutoff\": 0}, {\"calitp_itp_id\": 284, \"trip_key\": -1712727281100994985, \"trip_id\": \"255338\", \"shape_id\": \"32042\", \"route_id\": \"510\", \"service_hours\": 0.43, \"trip_first_departure_ts\": 54780, \"trip_last_arrival_ts\": 56340, \"departure_hour\": 15, \"time_of_day\": \"Midday\", \"p25\": 0.47, \"p50\": 0.47, \"p75\": 0.47, \"p50_trip\": 0, \"fastest_trip\": 0, \"car_duration_hours\": 0.32, \"competitive_route\": 1, \"bus_multiplier\": 1.34, \"bus_difference\": 6.6, \"num_trips\": 33, \"num_competitive\": 33, \"pct_trips_competitive\": 1.0, \"bus_difference_spread\": 4.200000000000001, \"route_group\": \"short\", \"max_trip_hrs\": 0.5, \"max_trip_route_group\": 0.5, \"below_cutoff\": 33, \"pct_below_cutoff\": 1.0, \"name\": \"San Joaquin Regional Transit District\", \"caltrans_district\": \"10 - Stockton\", \"drmt_organization_name\": \"['recBXxWghAGPPIwaR']\", \"route_name\": \"Dtc-San Joaquin-El Dorado\", \"cutoff2\": 20, \"cutoff\": 0}, {\"calitp_itp_id\": 284, \"trip_key\": 2355080980409153665, \"trip_id\": \"255337\", \"shape_id\": \"32042\", \"route_id\": \"510\", \"service_hours\": 0.43, \"trip_first_departure_ts\": 57480, \"trip_last_arrival_ts\": 59040, \"departure_hour\": 15, \"time_of_day\": \"Midday\", \"p25\": 0.47, \"p50\": 0.47, \"p75\": 0.47, \"p50_trip\": 0, \"fastest_trip\": 0, \"car_duration_hours\": 0.32, \"competitive_route\": 1, \"bus_multiplier\": 1.34, \"bus_difference\": 6.6, \"num_trips\": 33, \"num_competitive\": 33, \"pct_trips_competitive\": 1.0, \"bus_difference_spread\": 4.200000000000001, \"route_group\": \"short\", \"max_trip_hrs\": 0.5, \"max_trip_route_group\": 0.5, \"below_cutoff\": 33, \"pct_below_cutoff\": 1.0, \"name\": \"San Joaquin Regional Transit District\", \"caltrans_district\": \"10 - Stockton\", \"drmt_organization_name\": \"['recBXxWghAGPPIwaR']\", \"route_name\": \"Dtc-San Joaquin-El Dorado\", \"cutoff2\": 20, \"cutoff\": 0}, {\"calitp_itp_id\": 284, \"trip_key\": -4261603275697094433, \"trip_id\": \"255333\", \"shape_id\": \"32042\", \"route_id\": \"510\", \"service_hours\": 0.43, \"trip_first_departure_ts\": 65880, \"trip_last_arrival_ts\": 67440, \"departure_hour\": 18, \"time_of_day\": \"PM Peak\", \"p25\": 0.47, \"p50\": 0.47, \"p75\": 0.47, \"p50_trip\": 0, \"fastest_trip\": 1, \"car_duration_hours\": 0.32, \"competitive_route\": 1, \"bus_multiplier\": 1.34, \"bus_difference\": 6.6, \"num_trips\": 33, \"num_competitive\": 33, \"pct_trips_competitive\": 1.0, \"bus_difference_spread\": 4.200000000000001, \"route_group\": \"short\", \"max_trip_hrs\": 0.5, \"max_trip_route_group\": 0.5, \"below_cutoff\": 33, \"pct_below_cutoff\": 1.0, \"name\": \"San Joaquin Regional Transit District\", \"caltrans_district\": \"10 - Stockton\", \"drmt_organization_name\": \"['recBXxWghAGPPIwaR']\", \"route_name\": \"Dtc-San Joaquin-El Dorado\", \"cutoff2\": 20, \"cutoff\": 0}, {\"calitp_itp_id\": 284, \"trip_key\": 1227420039813147579, \"trip_id\": \"255348\", \"shape_id\": \"32042\", \"route_id\": \"510\", \"service_hours\": 0.45, \"trip_first_departure_ts\": 23760, \"trip_last_arrival_ts\": 25380, \"departure_hour\": 6, \"time_of_day\": \"Owl Service\", \"p25\": 0.47, \"p50\": 0.47, \"p75\": 0.47, \"p50_trip\": 0, \"fastest_trip\": 0, \"car_duration_hours\": 0.32, \"competitive_route\": 1, \"bus_multiplier\": 1.41, \"bus_difference\": 7.8, \"num_trips\": 33, \"num_competitive\": 33, \"pct_trips_competitive\": 1.0, \"bus_difference_spread\": 4.200000000000001, \"route_group\": \"short\", \"max_trip_hrs\": 0.5, \"max_trip_route_group\": 0.5, \"below_cutoff\": 33, \"pct_below_cutoff\": 1.0, \"name\": \"San Joaquin Regional Transit District\", \"caltrans_district\": \"10 - Stockton\", \"drmt_organization_name\": \"['recBXxWghAGPPIwaR']\", \"route_name\": \"Dtc-San Joaquin-El Dorado\", \"cutoff2\": 20, \"cutoff\": 0}, {\"calitp_itp_id\": 284, \"trip_key\": 1613750703174524424, \"trip_id\": \"255346\", \"shape_id\": \"32042\", \"route_id\": \"510\", \"service_hours\": 0.47, \"trip_first_departure_ts\": 31260, \"trip_last_arrival_ts\": 32940, \"departure_hour\": 8, \"time_of_day\": \"AM Peak\", \"p25\": 0.47, \"p50\": 0.47, \"p75\": 0.47, \"p50_trip\": 1, \"fastest_trip\": 0, \"car_duration_hours\": 0.32, \"competitive_route\": 1, \"bus_multiplier\": 1.47, \"bus_difference\": 9.0, \"num_trips\": 33, \"num_competitive\": 33, \"pct_trips_competitive\": 1.0, \"bus_difference_spread\": 4.200000000000001, \"route_group\": \"short\", \"max_trip_hrs\": 0.5, \"max_trip_route_group\": 0.5, \"below_cutoff\": 33, \"pct_below_cutoff\": 1.0, \"name\": \"San Joaquin Regional Transit District\", \"caltrans_district\": \"10 - Stockton\", \"drmt_organization_name\": \"['recBXxWghAGPPIwaR']\", \"route_name\": \"Dtc-San Joaquin-El Dorado\", \"cutoff2\": 20, \"cutoff\": 0}, {\"calitp_itp_id\": 284, \"trip_key\": 7396554801205398788, \"trip_id\": \"255349\", \"shape_id\": \"32042\", \"route_id\": \"510\", \"service_hours\": 0.47, \"trip_first_departure_ts\": 19500, \"trip_last_arrival_ts\": 21180, \"departure_hour\": 5, \"time_of_day\": \"Owl Service\", \"p25\": 0.47, \"p50\": 0.47, \"p75\": 0.47, \"p50_trip\": 1, \"fastest_trip\": 0, \"car_duration_hours\": 0.32, \"competitive_route\": 1, \"bus_multiplier\": 1.47, \"bus_difference\": 9.0, \"num_trips\": 33, \"num_competitive\": 33, \"pct_trips_competitive\": 1.0, \"bus_difference_spread\": 4.200000000000001, \"route_group\": \"short\", \"max_trip_hrs\": 0.5, \"max_trip_route_group\": 0.5, \"below_cutoff\": 33, \"pct_below_cutoff\": 1.0, \"name\": \"San Joaquin Regional Transit District\", \"caltrans_district\": \"10 - Stockton\", \"drmt_organization_name\": \"['recBXxWghAGPPIwaR']\", \"route_name\": \"Dtc-San Joaquin-El Dorado\", \"cutoff2\": 20, \"cutoff\": 0}, {\"calitp_itp_id\": 284, \"trip_key\": -2464531279863090260, \"trip_id\": \"255358\", \"shape_id\": \"32044\", \"route_id\": \"510\", \"service_hours\": 0.47, \"trip_first_departure_ts\": 46500, \"trip_last_arrival_ts\": 48180, \"departure_hour\": 12, \"time_of_day\": \"Midday\", \"p25\": 0.47, \"p50\": 0.47, \"p75\": 0.47, \"p50_trip\": 1, \"fastest_trip\": 0, \"car_duration_hours\": 0.32, \"competitive_route\": 1, \"bus_multiplier\": 1.47, \"bus_difference\": 9.0, \"num_trips\": 33, \"num_competitive\": 33, \"pct_trips_competitive\": 1.0, \"bus_difference_spread\": 4.200000000000001, \"route_group\": \"short\", \"max_trip_hrs\": 0.5, \"max_trip_route_group\": 0.5, \"below_cutoff\": 33, \"pct_below_cutoff\": 1.0, \"name\": \"San Joaquin Regional Transit District\", \"caltrans_district\": \"10 - Stockton\", \"drmt_organization_name\": \"['recBXxWghAGPPIwaR']\", \"route_name\": \"Dtc-San Joaquin-El Dorado\", \"cutoff2\": 20, \"cutoff\": 0}, {\"calitp_itp_id\": 284, \"trip_key\": -6258133635930580822, \"trip_id\": \"255339\", \"shape_id\": \"32042\", \"route_id\": \"510\", \"service_hours\": 0.47, \"trip_first_departure_ts\": 52860, \"trip_last_arrival_ts\": 54540, \"departure_hour\": 14, \"time_of_day\": \"Midday\", \"p25\": 0.47, \"p50\": 0.47, \"p75\": 0.47, \"p50_trip\": 1, \"fastest_trip\": 0, \"car_duration_hours\": 0.32, \"competitive_route\": 1, \"bus_multiplier\": 1.47, \"bus_difference\": 9.0, \"num_trips\": 33, \"num_competitive\": 33, \"pct_trips_competitive\": 1.0, \"bus_difference_spread\": 4.200000000000001, \"route_group\": \"short\", \"max_trip_hrs\": 0.5, \"max_trip_route_group\": 0.5, \"below_cutoff\": 33, \"pct_below_cutoff\": 1.0, \"name\": \"San Joaquin Regional Transit District\", \"caltrans_district\": \"10 - Stockton\", \"drmt_organization_name\": \"['recBXxWghAGPPIwaR']\", \"route_name\": \"Dtc-San Joaquin-El Dorado\", \"cutoff2\": 20, \"cutoff\": 0}, {\"calitp_itp_id\": 284, \"trip_key\": -6306260357627024447, \"trip_id\": \"255359\", \"shape_id\": \"32044\", \"route_id\": \"510\", \"service_hours\": 0.47, \"trip_first_departure_ts\": 44100, \"trip_last_arrival_ts\": 45780, \"departure_hour\": 12, \"time_of_day\": \"Midday\", \"p25\": 0.47, \"p50\": 0.47, \"p75\": 0.47, \"p50_trip\": 1, \"fastest_trip\": 0, \"car_duration_hours\": 0.32, \"competitive_route\": 1, \"bus_multiplier\": 1.47, \"bus_difference\": 9.0, \"num_trips\": 33, \"num_competitive\": 33, \"pct_trips_competitive\": 1.0, \"bus_difference_spread\": 4.200000000000001, \"route_group\": \"short\", \"max_trip_hrs\": 0.5, \"max_trip_route_group\": 0.5, \"below_cutoff\": 33, \"pct_below_cutoff\": 1.0, \"name\": \"San Joaquin Regional Transit District\", \"caltrans_district\": \"10 - Stockton\", \"drmt_organization_name\": \"['recBXxWghAGPPIwaR']\", \"route_name\": \"Dtc-San Joaquin-El Dorado\", \"cutoff2\": 20, \"cutoff\": 0}, {\"calitp_itp_id\": 284, \"trip_key\": 1150714627356260893, \"trip_id\": \"255356\", \"shape_id\": \"32044\", \"route_id\": \"510\", \"service_hours\": 0.47, \"trip_first_departure_ts\": 51000, \"trip_last_arrival_ts\": 52680, \"departure_hour\": 14, \"time_of_day\": \"Midday\", \"p25\": 0.47, \"p50\": 0.47, \"p75\": 0.47, \"p50_trip\": 1, \"fastest_trip\": 0, \"car_duration_hours\": 0.32, \"competitive_route\": 1, \"bus_multiplier\": 1.47, \"bus_difference\": 9.0, \"num_trips\": 33, \"num_competitive\": 33, \"pct_trips_competitive\": 1.0, \"bus_difference_spread\": 4.200000000000001, \"route_group\": \"short\", \"max_trip_hrs\": 0.5, \"max_trip_route_group\": 0.5, \"below_cutoff\": 33, \"pct_below_cutoff\": 1.0, \"name\": \"San Joaquin Regional Transit District\", \"caltrans_district\": \"10 - Stockton\", \"drmt_organization_name\": \"['recBXxWghAGPPIwaR']\", \"route_name\": \"Dtc-San Joaquin-El Dorado\", \"cutoff2\": 20, \"cutoff\": 0}, {\"calitp_itp_id\": 284, \"trip_key\": 4871464895030703541, \"trip_id\": \"255361\", \"shape_id\": \"32044\", \"route_id\": \"510\", \"service_hours\": 0.47, \"trip_first_departure_ts\": 37800, \"trip_last_arrival_ts\": 39480, \"departure_hour\": 10, \"time_of_day\": \"Midday\", \"p25\": 0.47, \"p50\": 0.47, \"p75\": 0.47, \"p50_trip\": 1, \"fastest_trip\": 0, \"car_duration_hours\": 0.32, \"competitive_route\": 1, \"bus_multiplier\": 1.47, \"bus_difference\": 9.0, \"num_trips\": 33, \"num_competitive\": 33, \"pct_trips_competitive\": 1.0, \"bus_difference_spread\": 4.200000000000001, \"route_group\": \"short\", \"max_trip_hrs\": 0.5, \"max_trip_route_group\": 0.5, \"below_cutoff\": 33, \"pct_below_cutoff\": 1.0, \"name\": \"San Joaquin Regional Transit District\", \"caltrans_district\": \"10 - Stockton\", \"drmt_organization_name\": \"['recBXxWghAGPPIwaR']\", \"route_name\": \"Dtc-San Joaquin-El Dorado\", \"cutoff2\": 20, \"cutoff\": 0}, {\"calitp_itp_id\": 284, \"trip_key\": 4293435933338087320, \"trip_id\": \"255347\", \"shape_id\": \"32042\", \"route_id\": \"510\", \"service_hours\": 0.47, \"trip_first_departure_ts\": 27360, \"trip_last_arrival_ts\": 29040, \"departure_hour\": 7, \"time_of_day\": \"AM Peak\", \"p25\": 0.47, \"p50\": 0.47, \"p75\": 0.47, \"p50_trip\": 1, \"fastest_trip\": 0, \"car_duration_hours\": 0.32, \"competitive_route\": 1, \"bus_multiplier\": 1.47, \"bus_difference\": 9.0, \"num_trips\": 33, \"num_competitive\": 33, \"pct_trips_competitive\": 1.0, \"bus_difference_spread\": 4.200000000000001, \"route_group\": \"short\", \"max_trip_hrs\": 0.5, \"max_trip_route_group\": 0.5, \"below_cutoff\": 33, \"pct_below_cutoff\": 1.0, \"name\": \"San Joaquin Regional Transit District\", \"caltrans_district\": \"10 - Stockton\", \"drmt_organization_name\": \"['recBXxWghAGPPIwaR']\", \"route_name\": \"Dtc-San Joaquin-El Dorado\", \"cutoff2\": 20, \"cutoff\": 0}, {\"calitp_itp_id\": 284, \"trip_key\": -4313735702637610410, \"trip_id\": \"255362\", \"shape_id\": \"32044\", \"route_id\": \"510\", \"service_hours\": 0.47, \"trip_first_departure_ts\": 33600, \"trip_last_arrival_ts\": 35280, \"departure_hour\": 9, \"time_of_day\": \"AM Peak\", \"p25\": 0.47, \"p50\": 0.47, \"p75\": 0.47, \"p50_trip\": 1, \"fastest_trip\": 0, \"car_duration_hours\": 0.32, \"competitive_route\": 1, \"bus_multiplier\": 1.47, \"bus_difference\": 9.0, \"num_trips\": 33, \"num_competitive\": 33, \"pct_trips_competitive\": 1.0, \"bus_difference_spread\": 4.200000000000001, \"route_group\": \"short\", \"max_trip_hrs\": 0.5, \"max_trip_route_group\": 0.5, \"below_cutoff\": 33, \"pct_below_cutoff\": 1.0, \"name\": \"San Joaquin Regional Transit District\", \"caltrans_district\": \"10 - Stockton\", \"drmt_organization_name\": \"['recBXxWghAGPPIwaR']\", \"route_name\": \"Dtc-San Joaquin-El Dorado\", \"cutoff2\": 20, \"cutoff\": 0}, {\"calitp_itp_id\": 284, \"trip_key\": -3952646467459008063, \"trip_id\": \"255342\", \"shape_id\": \"32042\", \"route_id\": \"510\", \"service_hours\": 0.47, \"trip_first_departure_ts\": 45960, \"trip_last_arrival_ts\": 47640, \"departure_hour\": 12, \"time_of_day\": \"Midday\", \"p25\": 0.47, \"p50\": 0.47, \"p75\": 0.47, \"p50_trip\": 1, \"fastest_trip\": 0, \"car_duration_hours\": 0.32, \"competitive_route\": 1, \"bus_multiplier\": 1.47, \"bus_difference\": 9.0, \"num_trips\": 33, \"num_competitive\": 33, \"pct_trips_competitive\": 1.0, \"bus_difference_spread\": 4.200000000000001, \"route_group\": \"short\", \"max_trip_hrs\": 0.5, \"max_trip_route_group\": 0.5, \"below_cutoff\": 33, \"pct_below_cutoff\": 1.0, \"name\": \"San Joaquin Regional Transit District\", \"caltrans_district\": \"10 - Stockton\", \"drmt_organization_name\": \"['recBXxWghAGPPIwaR']\", \"route_name\": \"Dtc-San Joaquin-El Dorado\", \"cutoff2\": 20, \"cutoff\": 0}, {\"calitp_itp_id\": 284, \"trip_key\": 5853144813593008150, \"trip_id\": \"255363\", \"shape_id\": \"32044\", \"route_id\": \"510\", \"service_hours\": 0.47, \"trip_first_departure_ts\": 29400, \"trip_last_arrival_ts\": 31080, \"departure_hour\": 8, \"time_of_day\": \"AM Peak\", \"p25\": 0.47, \"p50\": 0.47, \"p75\": 0.47, \"p50_trip\": 1, \"fastest_trip\": 0, \"car_duration_hours\": 0.32, \"competitive_route\": 1, \"bus_multiplier\": 1.47, \"bus_difference\": 9.0, \"num_trips\": 33, \"num_competitive\": 33, \"pct_trips_competitive\": 1.0, \"bus_difference_spread\": 4.200000000000001, \"route_group\": \"short\", \"max_trip_hrs\": 0.5, \"max_trip_route_group\": 0.5, \"below_cutoff\": 33, \"pct_below_cutoff\": 1.0, \"name\": \"San Joaquin Regional Transit District\", \"caltrans_district\": \"10 - Stockton\", \"drmt_organization_name\": \"['recBXxWghAGPPIwaR']\", \"route_name\": \"Dtc-San Joaquin-El Dorado\", \"cutoff2\": 20, \"cutoff\": 0}, {\"calitp_itp_id\": 284, \"trip_key\": 464197860491965689, \"trip_id\": \"255344\", \"shape_id\": \"32042\", \"route_id\": \"510\", \"service_hours\": 0.47, \"trip_first_departure_ts\": 39660, \"trip_last_arrival_ts\": 41340, \"departure_hour\": 11, \"time_of_day\": \"Midday\", \"p25\": 0.47, \"p50\": 0.47, \"p75\": 0.47, \"p50_trip\": 1, \"fastest_trip\": 0, \"car_duration_hours\": 0.32, \"competitive_route\": 1, \"bus_multiplier\": 1.47, \"bus_difference\": 9.0, \"num_trips\": 33, \"num_competitive\": 33, \"pct_trips_competitive\": 1.0, \"bus_difference_spread\": 4.200000000000001, \"route_group\": \"short\", \"max_trip_hrs\": 0.5, \"max_trip_route_group\": 0.5, \"below_cutoff\": 33, \"pct_below_cutoff\": 1.0, \"name\": \"San Joaquin Regional Transit District\", \"caltrans_district\": \"10 - Stockton\", \"drmt_organization_name\": \"['recBXxWghAGPPIwaR']\", \"route_name\": \"Dtc-San Joaquin-El Dorado\", \"cutoff2\": 20, \"cutoff\": 0}, {\"calitp_itp_id\": 284, \"trip_key\": -1528216137901357070, \"trip_id\": \"255360\", \"shape_id\": \"32044\", \"route_id\": \"510\", \"service_hours\": 0.47, \"trip_first_departure_ts\": 42000, \"trip_last_arrival_ts\": 43680, \"departure_hour\": 11, \"time_of_day\": \"Midday\", \"p25\": 0.47, \"p50\": 0.47, \"p75\": 0.47, \"p50_trip\": 1, \"fastest_trip\": 0, \"car_duration_hours\": 0.32, \"competitive_route\": 1, \"bus_multiplier\": 1.47, \"bus_difference\": 9.0, \"num_trips\": 33, \"num_competitive\": 33, \"pct_trips_competitive\": 1.0, \"bus_difference_spread\": 4.200000000000001, \"route_group\": \"short\", \"max_trip_hrs\": 0.5, \"max_trip_route_group\": 0.5, \"below_cutoff\": 33, \"pct_below_cutoff\": 1.0, \"name\": \"San Joaquin Regional Transit District\", \"caltrans_district\": \"10 - Stockton\", \"drmt_organization_name\": \"['recBXxWghAGPPIwaR']\", \"route_name\": \"Dtc-San Joaquin-El Dorado\", \"cutoff2\": 20, \"cutoff\": 0}, {\"calitp_itp_id\": 284, \"trip_key\": 3241443736453856048, \"trip_id\": \"255341\", \"shape_id\": \"32042\", \"route_id\": \"510\", \"service_hours\": 0.47, \"trip_first_departure_ts\": 48360, \"trip_last_arrival_ts\": 50040, \"departure_hour\": 13, \"time_of_day\": \"Midday\", \"p25\": 0.47, \"p50\": 0.47, \"p75\": 0.47, \"p50_trip\": 1, \"fastest_trip\": 0, \"car_duration_hours\": 0.32, \"competitive_route\": 1, \"bus_multiplier\": 1.47, \"bus_difference\": 9.0, \"num_trips\": 33, \"num_competitive\": 33, \"pct_trips_competitive\": 1.0, \"bus_difference_spread\": 4.200000000000001, \"route_group\": \"short\", \"max_trip_hrs\": 0.5, \"max_trip_route_group\": 0.5, \"below_cutoff\": 33, \"pct_below_cutoff\": 1.0, \"name\": \"San Joaquin Regional Transit District\", \"caltrans_district\": \"10 - Stockton\", \"drmt_organization_name\": \"['recBXxWghAGPPIwaR']\", \"route_name\": \"Dtc-San Joaquin-El Dorado\", \"cutoff2\": 20, \"cutoff\": 0}, {\"calitp_itp_id\": 284, \"trip_key\": -7289151848272394041, \"trip_id\": \"255340\", \"shape_id\": \"32042\", \"route_id\": \"510\", \"service_hours\": 0.47, \"trip_first_departure_ts\": 50460, \"trip_last_arrival_ts\": 52140, \"departure_hour\": 14, \"time_of_day\": \"Midday\", \"p25\": 0.47, \"p50\": 0.47, \"p75\": 0.47, \"p50_trip\": 1, \"fastest_trip\": 0, \"car_duration_hours\": 0.32, \"competitive_route\": 1, \"bus_multiplier\": 1.47, \"bus_difference\": 9.0, \"num_trips\": 33, \"num_competitive\": 33, \"pct_trips_competitive\": 1.0, \"bus_difference_spread\": 4.200000000000001, \"route_group\": \"short\", \"max_trip_hrs\": 0.5, \"max_trip_route_group\": 0.5, \"below_cutoff\": 33, \"pct_below_cutoff\": 1.0, \"name\": \"San Joaquin Regional Transit District\", \"caltrans_district\": \"10 - Stockton\", \"drmt_organization_name\": \"['recBXxWghAGPPIwaR']\", \"route_name\": \"Dtc-San Joaquin-El Dorado\", \"cutoff2\": 20, \"cutoff\": 0}, {\"calitp_itp_id\": 284, \"trip_key\": -6080065216769716796, \"trip_id\": \"255343\", \"shape_id\": \"32042\", \"route_id\": \"510\", \"service_hours\": 0.47, \"trip_first_departure_ts\": 43860, \"trip_last_arrival_ts\": 45540, \"departure_hour\": 12, \"time_of_day\": \"Midday\", \"p25\": 0.47, \"p50\": 0.47, \"p75\": 0.47, \"p50_trip\": 1, \"fastest_trip\": 0, \"car_duration_hours\": 0.32, \"competitive_route\": 1, \"bus_multiplier\": 1.47, \"bus_difference\": 9.0, \"num_trips\": 33, \"num_competitive\": 33, \"pct_trips_competitive\": 1.0, \"bus_difference_spread\": 4.200000000000001, \"route_group\": \"short\", \"max_trip_hrs\": 0.5, \"max_trip_route_group\": 0.5, \"below_cutoff\": 33, \"pct_below_cutoff\": 1.0, \"name\": \"San Joaquin Regional Transit District\", \"caltrans_district\": \"10 - Stockton\", \"drmt_organization_name\": \"['recBXxWghAGPPIwaR']\", \"route_name\": \"Dtc-San Joaquin-El Dorado\", \"cutoff2\": 20, \"cutoff\": 0}, {\"calitp_itp_id\": 284, \"trip_key\": 2022363412611018497, \"trip_id\": \"255364\", \"shape_id\": \"32044\", \"route_id\": \"510\", \"service_hours\": 0.47, \"trip_first_departure_ts\": 25500, \"trip_last_arrival_ts\": 27180, \"departure_hour\": 7, \"time_of_day\": \"AM Peak\", \"p25\": 0.47, \"p50\": 0.47, \"p75\": 0.47, \"p50_trip\": 1, \"fastest_trip\": 0, \"car_duration_hours\": 0.32, \"competitive_route\": 1, \"bus_multiplier\": 1.47, \"bus_difference\": 9.0, \"num_trips\": 33, \"num_competitive\": 33, \"pct_trips_competitive\": 1.0, \"bus_difference_spread\": 4.200000000000001, \"route_group\": \"short\", \"max_trip_hrs\": 0.5, \"max_trip_route_group\": 0.5, \"below_cutoff\": 33, \"pct_below_cutoff\": 1.0, \"name\": \"San Joaquin Regional Transit District\", \"caltrans_district\": \"10 - Stockton\", \"drmt_organization_name\": \"['recBXxWghAGPPIwaR']\", \"route_name\": \"Dtc-San Joaquin-El Dorado\", \"cutoff2\": 20, \"cutoff\": 0}, {\"calitp_itp_id\": 284, \"trip_key\": -4987639572419114330, \"trip_id\": \"255365\", \"shape_id\": \"32044\", \"route_id\": \"510\", \"service_hours\": 0.47, \"trip_first_departure_ts\": 22020, \"trip_last_arrival_ts\": 23700, \"departure_hour\": 6, \"time_of_day\": \"Owl Service\", \"p25\": 0.47, \"p50\": 0.47, \"p75\": 0.47, \"p50_trip\": 1, \"fastest_trip\": 0, \"car_duration_hours\": 0.32, \"competitive_route\": 1, \"bus_multiplier\": 1.47, \"bus_difference\": 9.0, \"num_trips\": 33, \"num_competitive\": 33, \"pct_trips_competitive\": 1.0, \"bus_difference_spread\": 4.200000000000001, \"route_group\": \"short\", \"max_trip_hrs\": 0.5, \"max_trip_route_group\": 0.5, \"below_cutoff\": 33, \"pct_below_cutoff\": 1.0, \"name\": \"San Joaquin Regional Transit District\", \"caltrans_district\": \"10 - Stockton\", \"drmt_organization_name\": \"['recBXxWghAGPPIwaR']\", \"route_name\": \"Dtc-San Joaquin-El Dorado\", \"cutoff2\": 20, \"cutoff\": 0}, {\"calitp_itp_id\": 284, \"trip_key\": -3946480362531885004, \"trip_id\": \"255345\", \"shape_id\": \"32042\", \"route_id\": \"510\", \"service_hours\": 0.47, \"trip_first_departure_ts\": 35460, \"trip_last_arrival_ts\": 37140, \"departure_hour\": 9, \"time_of_day\": \"AM Peak\", \"p25\": 0.47, \"p50\": 0.47, \"p75\": 0.47, \"p50_trip\": 1, \"fastest_trip\": 0, \"car_duration_hours\": 0.32, \"competitive_route\": 1, \"bus_multiplier\": 1.47, \"bus_difference\": 9.0, \"num_trips\": 33, \"num_competitive\": 33, \"pct_trips_competitive\": 1.0, \"bus_difference_spread\": 4.200000000000001, \"route_group\": \"short\", \"max_trip_hrs\": 0.5, \"max_trip_route_group\": 0.5, \"below_cutoff\": 33, \"pct_below_cutoff\": 1.0, \"name\": \"San Joaquin Regional Transit District\", \"caltrans_district\": \"10 - Stockton\", \"drmt_organization_name\": \"['recBXxWghAGPPIwaR']\", \"route_name\": \"Dtc-San Joaquin-El Dorado\", \"cutoff2\": 20, \"cutoff\": 0}, {\"calitp_itp_id\": 284, \"trip_key\": 3671182801229077623, \"trip_id\": \"255357\", \"shape_id\": \"32044\", \"route_id\": \"510\", \"service_hours\": 0.47, \"trip_first_departure_ts\": 48600, \"trip_last_arrival_ts\": 50280, \"departure_hour\": 13, \"time_of_day\": \"Midday\", \"p25\": 0.47, \"p50\": 0.47, \"p75\": 0.47, \"p50_trip\": 1, \"fastest_trip\": 0, \"car_duration_hours\": 0.32, \"competitive_route\": 1, \"bus_multiplier\": 1.47, \"bus_difference\": 9.0, \"num_trips\": 33, \"num_competitive\": 33, \"pct_trips_competitive\": 1.0, \"bus_difference_spread\": 4.200000000000001, \"route_group\": \"short\", \"max_trip_hrs\": 0.5, \"max_trip_route_group\": 0.5, \"below_cutoff\": 33, \"pct_below_cutoff\": 1.0, \"name\": \"San Joaquin Regional Transit District\", \"caltrans_district\": \"10 - Stockton\", \"drmt_organization_name\": \"['recBXxWghAGPPIwaR']\", \"route_name\": \"Dtc-San Joaquin-El Dorado\", \"cutoff2\": 20, \"cutoff\": 0}, {\"calitp_itp_id\": 284, \"trip_key\": -2291253630317899570, \"trip_id\": \"255350\", \"shape_id\": \"32044\", \"route_id\": \"510\", \"service_hours\": 0.5, \"trip_first_departure_ts\": 63900, \"trip_last_arrival_ts\": 65700, \"departure_hour\": 17, \"time_of_day\": \"PM Peak\", \"p25\": 0.47, \"p50\": 0.47, \"p75\": 0.47, \"p50_trip\": 0, \"fastest_trip\": 0, \"car_duration_hours\": 0.32, \"competitive_route\": 1, \"bus_multiplier\": 1.56, \"bus_difference\": 10.8, \"num_trips\": 33, \"num_competitive\": 33, \"pct_trips_competitive\": 1.0, \"bus_difference_spread\": 4.200000000000001, \"route_group\": \"short\", \"max_trip_hrs\": 0.5, \"max_trip_route_group\": 0.5, \"below_cutoff\": 33, \"pct_below_cutoff\": 1.0, \"name\": \"San Joaquin Regional Transit District\", \"caltrans_district\": \"10 - Stockton\", \"drmt_organization_name\": \"['recBXxWghAGPPIwaR']\", \"route_name\": \"Dtc-San Joaquin-El Dorado\", \"cutoff2\": 20, \"cutoff\": 0}, {\"calitp_itp_id\": 284, \"trip_key\": -2773817548416385100, \"trip_id\": \"255352\", \"shape_id\": \"32044\", \"route_id\": \"510\", \"service_hours\": 0.5, \"trip_first_departure_ts\": 59700, \"trip_last_arrival_ts\": 61500, \"departure_hour\": 16, \"time_of_day\": \"Midday\", \"p25\": 0.47, \"p50\": 0.47, \"p75\": 0.47, \"p50_trip\": 0, \"fastest_trip\": 0, \"car_duration_hours\": 0.32, \"competitive_route\": 1, \"bus_multiplier\": 1.56, \"bus_difference\": 10.8, \"num_trips\": 33, \"num_competitive\": 33, \"pct_trips_competitive\": 1.0, \"bus_difference_spread\": 4.200000000000001, \"route_group\": \"short\", \"max_trip_hrs\": 0.5, \"max_trip_route_group\": 0.5, \"below_cutoff\": 33, \"pct_below_cutoff\": 1.0, \"name\": \"San Joaquin Regional Transit District\", \"caltrans_district\": \"10 - Stockton\", \"drmt_organization_name\": \"['recBXxWghAGPPIwaR']\", \"route_name\": \"Dtc-San Joaquin-El Dorado\", \"cutoff2\": 20, \"cutoff\": 0}, {\"calitp_itp_id\": 284, \"trip_key\": 4786568471148018402, \"trip_id\": \"255353\", \"shape_id\": \"32044\", \"route_id\": \"510\", \"service_hours\": 0.5, \"trip_first_departure_ts\": 57300, \"trip_last_arrival_ts\": 59100, \"departure_hour\": 15, \"time_of_day\": \"Midday\", \"p25\": 0.47, \"p50\": 0.47, \"p75\": 0.47, \"p50_trip\": 0, \"fastest_trip\": 0, \"car_duration_hours\": 0.32, \"competitive_route\": 1, \"bus_multiplier\": 1.56, \"bus_difference\": 10.8, \"num_trips\": 33, \"num_competitive\": 33, \"pct_trips_competitive\": 1.0, \"bus_difference_spread\": 4.200000000000001, \"route_group\": \"short\", \"max_trip_hrs\": 0.5, \"max_trip_route_group\": 0.5, \"below_cutoff\": 33, \"pct_below_cutoff\": 1.0, \"name\": \"San Joaquin Regional Transit District\", \"caltrans_district\": \"10 - Stockton\", \"drmt_organization_name\": \"['recBXxWghAGPPIwaR']\", \"route_name\": \"Dtc-San Joaquin-El Dorado\", \"cutoff2\": 20, \"cutoff\": 0}, {\"calitp_itp_id\": 284, \"trip_key\": 6786212306146191488, \"trip_id\": \"255355\", \"shape_id\": \"32044\", \"route_id\": \"510\", \"service_hours\": 0.5, \"trip_first_departure_ts\": 52800, \"trip_last_arrival_ts\": 54600, \"departure_hour\": 14, \"time_of_day\": \"Midday\", \"p25\": 0.47, \"p50\": 0.47, \"p75\": 0.47, \"p50_trip\": 0, \"fastest_trip\": 0, \"car_duration_hours\": 0.32, \"competitive_route\": 1, \"bus_multiplier\": 1.56, \"bus_difference\": 10.8, \"num_trips\": 33, \"num_competitive\": 33, \"pct_trips_competitive\": 1.0, \"bus_difference_spread\": 4.200000000000001, \"route_group\": \"short\", \"max_trip_hrs\": 0.5, \"max_trip_route_group\": 0.5, \"below_cutoff\": 33, \"pct_below_cutoff\": 1.0, \"name\": \"San Joaquin Regional Transit District\", \"caltrans_district\": \"10 - Stockton\", \"drmt_organization_name\": \"['recBXxWghAGPPIwaR']\", \"route_name\": \"Dtc-San Joaquin-El Dorado\", \"cutoff2\": 20, \"cutoff\": 0}, {\"calitp_itp_id\": 284, \"trip_key\": 4098435667974702220, \"trip_id\": \"255351\", \"shape_id\": \"32044\", \"route_id\": \"510\", \"service_hours\": 0.5, \"trip_first_departure_ts\": 61680, \"trip_last_arrival_ts\": 63480, \"departure_hour\": 17, \"time_of_day\": \"PM Peak\", \"p25\": 0.47, \"p50\": 0.47, \"p75\": 0.47, \"p50_trip\": 0, \"fastest_trip\": 0, \"car_duration_hours\": 0.32, \"competitive_route\": 1, \"bus_multiplier\": 1.56, \"bus_difference\": 10.8, \"num_trips\": 33, \"num_competitive\": 33, \"pct_trips_competitive\": 1.0, \"bus_difference_spread\": 4.200000000000001, \"route_group\": \"short\", \"max_trip_hrs\": 0.5, \"max_trip_route_group\": 0.5, \"below_cutoff\": 33, \"pct_below_cutoff\": 1.0, \"name\": \"San Joaquin Regional Transit District\", \"caltrans_district\": \"10 - Stockton\", \"drmt_organization_name\": \"['recBXxWghAGPPIwaR']\", \"route_name\": \"Dtc-San Joaquin-El Dorado\", \"cutoff2\": 20, \"cutoff\": 0}, {\"calitp_itp_id\": 284, \"trip_key\": 6981067193716356275, \"trip_id\": \"255354\", \"shape_id\": \"32044\", \"route_id\": \"510\", \"service_hours\": 0.5, \"trip_first_departure_ts\": 55500, \"trip_last_arrival_ts\": 57300, \"departure_hour\": 15, \"time_of_day\": \"Midday\", \"p25\": 0.47, \"p50\": 0.47, \"p75\": 0.47, \"p50_trip\": 0, \"fastest_trip\": 0, \"car_duration_hours\": 0.32, \"competitive_route\": 1, \"bus_multiplier\": 1.56, \"bus_difference\": 10.8, \"num_trips\": 33, \"num_competitive\": 33, \"pct_trips_competitive\": 1.0, \"bus_difference_spread\": 4.200000000000001, \"route_group\": \"short\", \"max_trip_hrs\": 0.5, \"max_trip_route_group\": 0.5, \"below_cutoff\": 33, \"pct_below_cutoff\": 1.0, \"name\": \"San Joaquin Regional Transit District\", \"caltrans_district\": \"10 - Stockton\", \"drmt_organization_name\": \"['recBXxWghAGPPIwaR']\", \"route_name\": \"Dtc-San Joaquin-El Dorado\", \"cutoff2\": 20, \"cutoff\": 0}, {\"calitp_itp_id\": 284, \"trip_key\": -2349674422686892996, \"trip_id\": \"255544\", \"shape_id\": \"32069\", \"route_id\": \"580\", \"service_hours\": 0.35, \"trip_first_departure_ts\": 37920, \"trip_last_arrival_ts\": 39180, \"departure_hour\": 10, \"time_of_day\": \"Midday\", \"p25\": 0.35, \"p50\": 0.36, \"p75\": 0.37, \"p50_trip\": 1, \"fastest_trip\": 0, \"car_duration_hours\": 0.3, \"competitive_route\": 1, \"bus_multiplier\": 1.17, \"bus_difference\": 3.0, \"num_trips\": 24, \"num_competitive\": 24, \"pct_trips_competitive\": 1.0, \"bus_difference_spread\": 1.2000000000000002, \"route_group\": \"short\", \"max_trip_hrs\": 0.37, \"max_trip_route_group\": 0.37, \"below_cutoff\": 24, \"pct_below_cutoff\": 1.0, \"name\": \"San Joaquin Regional Transit District\", \"caltrans_district\": \"10 - Stockton\", \"drmt_organization_name\": \"['recBXxWghAGPPIwaR']\", \"route_name\": \"Dtc - Section/Oro\", \"cutoff2\": 20, \"cutoff\": 0}, {\"calitp_itp_id\": 284, \"trip_key\": -4173394857294369160, \"trip_id\": \"255543\", \"shape_id\": \"32069\", \"route_id\": \"580\", \"service_hours\": 0.35, \"trip_first_departure_ts\": 42000, \"trip_last_arrival_ts\": 43260, \"departure_hour\": 11, \"time_of_day\": \"Midday\", \"p25\": 0.35, \"p50\": 0.36, \"p75\": 0.37, \"p50_trip\": 1, \"fastest_trip\": 0, \"car_duration_hours\": 0.3, \"competitive_route\": 1, \"bus_multiplier\": 1.17, \"bus_difference\": 3.0, \"num_trips\": 24, \"num_competitive\": 24, \"pct_trips_competitive\": 1.0, \"bus_difference_spread\": 1.2000000000000002, \"route_group\": \"short\", \"max_trip_hrs\": 0.37, \"max_trip_route_group\": 0.37, \"below_cutoff\": 24, \"pct_below_cutoff\": 1.0, \"name\": \"San Joaquin Regional Transit District\", \"caltrans_district\": \"10 - Stockton\", \"drmt_organization_name\": \"['recBXxWghAGPPIwaR']\", \"route_name\": \"Dtc - Section/Oro\", \"cutoff2\": 20, \"cutoff\": 0}, {\"calitp_itp_id\": 284, \"trip_key\": -2559327917755630701, \"trip_id\": \"255540\", \"shape_id\": \"32069\", \"route_id\": \"580\", \"service_hours\": 0.35, \"trip_first_departure_ts\": 52500, \"trip_last_arrival_ts\": 53760, \"departure_hour\": 14, \"time_of_day\": \"Midday\", \"p25\": 0.35, \"p50\": 0.36, \"p75\": 0.37, \"p50_trip\": 1, \"fastest_trip\": 0, \"car_duration_hours\": 0.3, \"competitive_route\": 1, \"bus_multiplier\": 1.17, \"bus_difference\": 3.0, \"num_trips\": 24, \"num_competitive\": 24, \"pct_trips_competitive\": 1.0, \"bus_difference_spread\": 1.2000000000000002, \"route_group\": \"short\", \"max_trip_hrs\": 0.37, \"max_trip_route_group\": 0.37, \"below_cutoff\": 24, \"pct_below_cutoff\": 1.0, \"name\": \"San Joaquin Regional Transit District\", \"caltrans_district\": \"10 - Stockton\", \"drmt_organization_name\": \"['recBXxWghAGPPIwaR']\", \"route_name\": \"Dtc - Section/Oro\", \"cutoff2\": 20, \"cutoff\": 0}, {\"calitp_itp_id\": 284, \"trip_key\": 5351583994182427036, \"trip_id\": \"255545\", \"shape_id\": \"32069\", \"route_id\": \"580\", \"service_hours\": 0.35, \"trip_first_departure_ts\": 34500, \"trip_last_arrival_ts\": 35760, \"departure_hour\": 9, \"time_of_day\": \"AM Peak\", \"p25\": 0.35, \"p50\": 0.36, \"p75\": 0.37, \"p50_trip\": 1, \"fastest_trip\": 0, \"car_duration_hours\": 0.3, \"competitive_route\": 1, \"bus_multiplier\": 1.17, \"bus_difference\": 3.0, \"num_trips\": 24, \"num_competitive\": 24, \"pct_trips_competitive\": 1.0, \"bus_difference_spread\": 1.2000000000000002, \"route_group\": \"short\", \"max_trip_hrs\": 0.37, \"max_trip_route_group\": 0.37, \"below_cutoff\": 24, \"pct_below_cutoff\": 1.0, \"name\": \"San Joaquin Regional Transit District\", \"caltrans_district\": \"10 - Stockton\", \"drmt_organization_name\": \"['recBXxWghAGPPIwaR']\", \"route_name\": \"Dtc - Section/Oro\", \"cutoff2\": 20, \"cutoff\": 0}, {\"calitp_itp_id\": 284, \"trip_key\": -2881509246591390993, \"trip_id\": \"255538\", \"shape_id\": \"32069\", \"route_id\": \"580\", \"service_hours\": 0.35, \"trip_first_departure_ts\": 59400, \"trip_last_arrival_ts\": 60660, \"departure_hour\": 16, \"time_of_day\": \"Midday\", \"p25\": 0.35, \"p50\": 0.36, \"p75\": 0.37, \"p50_trip\": 1, \"fastest_trip\": 0, \"car_duration_hours\": 0.3, \"competitive_route\": 1, \"bus_multiplier\": 1.17, \"bus_difference\": 3.0, \"num_trips\": 24, \"num_competitive\": 24, \"pct_trips_competitive\": 1.0, \"bus_difference_spread\": 1.2000000000000002, \"route_group\": \"short\", \"max_trip_hrs\": 0.37, \"max_trip_route_group\": 0.37, \"below_cutoff\": 24, \"pct_below_cutoff\": 1.0, \"name\": \"San Joaquin Regional Transit District\", \"caltrans_district\": \"10 - Stockton\", \"drmt_organization_name\": \"['recBXxWghAGPPIwaR']\", \"route_name\": \"Dtc - Section/Oro\", \"cutoff2\": 20, \"cutoff\": 0}, {\"calitp_itp_id\": 284, \"trip_key\": -3008873949738454406, \"trip_id\": \"255548\", \"shape_id\": \"32069\", \"route_id\": \"580\", \"service_hours\": 0.35, \"trip_first_departure_ts\": 23160, \"trip_last_arrival_ts\": 24420, \"departure_hour\": 6, \"time_of_day\": \"Owl Service\", \"p25\": 0.35, \"p50\": 0.36, \"p75\": 0.37, \"p50_trip\": 1, \"fastest_trip\": 0, \"car_duration_hours\": 0.3, \"competitive_route\": 1, \"bus_multiplier\": 1.17, \"bus_difference\": 3.0, \"num_trips\": 24, \"num_competitive\": 24, \"pct_trips_competitive\": 1.0, \"bus_difference_spread\": 1.2000000000000002, \"route_group\": \"short\", \"max_trip_hrs\": 0.37, \"max_trip_route_group\": 0.37, \"below_cutoff\": 24, \"pct_below_cutoff\": 1.0, \"name\": \"San Joaquin Regional Transit District\", \"caltrans_district\": \"10 - Stockton\", \"drmt_organization_name\": \"['recBXxWghAGPPIwaR']\", \"route_name\": \"Dtc - Section/Oro\", \"cutoff2\": 20, \"cutoff\": 0}, {\"calitp_itp_id\": 284, \"trip_key\": -8208015971813012569, \"trip_id\": \"255547\", \"shape_id\": \"32069\", \"route_id\": \"580\", \"service_hours\": 0.35, \"trip_first_departure_ts\": 26760, \"trip_last_arrival_ts\": 28020, \"departure_hour\": 7, \"time_of_day\": \"AM Peak\", \"p25\": 0.35, \"p50\": 0.36, \"p75\": 0.37, \"p50_trip\": 1, \"fastest_trip\": 0, \"car_duration_hours\": 0.3, \"competitive_route\": 1, \"bus_multiplier\": 1.17, \"bus_difference\": 3.0, \"num_trips\": 24, \"num_competitive\": 24, \"pct_trips_competitive\": 1.0, \"bus_difference_spread\": 1.2000000000000002, \"route_group\": \"short\", \"max_trip_hrs\": 0.37, \"max_trip_route_group\": 0.37, \"below_cutoff\": 24, \"pct_below_cutoff\": 1.0, \"name\": \"San Joaquin Regional Transit District\", \"caltrans_district\": \"10 - Stockton\", \"drmt_organization_name\": \"['recBXxWghAGPPIwaR']\", \"route_name\": \"Dtc - Section/Oro\", \"cutoff2\": 20, \"cutoff\": 0}, {\"calitp_itp_id\": 284, \"trip_key\": 370341854047565449, \"trip_id\": \"255537\", \"shape_id\": \"32069\", \"route_id\": \"580\", \"service_hours\": 0.35, \"trip_first_departure_ts\": 63300, \"trip_last_arrival_ts\": 64560, \"departure_hour\": 17, \"time_of_day\": \"PM Peak\", \"p25\": 0.35, \"p50\": 0.36, \"p75\": 0.37, \"p50_trip\": 1, \"fastest_trip\": 1, \"car_duration_hours\": 0.3, \"competitive_route\": 1, \"bus_multiplier\": 1.17, \"bus_difference\": 3.0, \"num_trips\": 24, \"num_competitive\": 24, \"pct_trips_competitive\": 1.0, \"bus_difference_spread\": 1.2000000000000002, \"route_group\": \"short\", \"max_trip_hrs\": 0.37, \"max_trip_route_group\": 0.37, \"below_cutoff\": 24, \"pct_below_cutoff\": 1.0, \"name\": \"San Joaquin Regional Transit District\", \"caltrans_district\": \"10 - Stockton\", \"drmt_organization_name\": \"['recBXxWghAGPPIwaR']\", \"route_name\": \"Dtc - Section/Oro\", \"cutoff2\": 20, \"cutoff\": 0}, {\"calitp_itp_id\": 284, \"trip_key\": 6747995024463256993, \"trip_id\": \"255541\", \"shape_id\": \"32069\", \"route_id\": \"580\", \"service_hours\": 0.35, \"trip_first_departure_ts\": 48900, \"trip_last_arrival_ts\": 50160, \"departure_hour\": 13, \"time_of_day\": \"Midday\", \"p25\": 0.35, \"p50\": 0.36, \"p75\": 0.37, \"p50_trip\": 1, \"fastest_trip\": 0, \"car_duration_hours\": 0.3, \"competitive_route\": 1, \"bus_multiplier\": 1.17, \"bus_difference\": 3.0, \"num_trips\": 24, \"num_competitive\": 24, \"pct_trips_competitive\": 1.0, \"bus_difference_spread\": 1.2000000000000002, \"route_group\": \"short\", \"max_trip_hrs\": 0.37, \"max_trip_route_group\": 0.37, \"below_cutoff\": 24, \"pct_below_cutoff\": 1.0, \"name\": \"San Joaquin Regional Transit District\", \"caltrans_district\": \"10 - Stockton\", \"drmt_organization_name\": \"['recBXxWghAGPPIwaR']\", \"route_name\": \"Dtc - Section/Oro\", \"cutoff2\": 20, \"cutoff\": 0}, {\"calitp_itp_id\": 284, \"trip_key\": 2651627074745441198, \"trip_id\": \"255546\", \"shape_id\": \"32069\", \"route_id\": \"580\", \"service_hours\": 0.35, \"trip_first_departure_ts\": 30720, \"trip_last_arrival_ts\": 31980, \"departure_hour\": 8, \"time_of_day\": \"AM Peak\", \"p25\": 0.35, \"p50\": 0.36, \"p75\": 0.37, \"p50_trip\": 1, \"fastest_trip\": 0, \"car_duration_hours\": 0.3, \"competitive_route\": 1, \"bus_multiplier\": 1.17, \"bus_difference\": 3.0, \"num_trips\": 24, \"num_competitive\": 24, \"pct_trips_competitive\": 1.0, \"bus_difference_spread\": 1.2000000000000002, \"route_group\": \"short\", \"max_trip_hrs\": 0.37, \"max_trip_route_group\": 0.37, \"below_cutoff\": 24, \"pct_below_cutoff\": 1.0, \"name\": \"San Joaquin Regional Transit District\", \"caltrans_district\": \"10 - Stockton\", \"drmt_organization_name\": \"['recBXxWghAGPPIwaR']\", \"route_name\": \"Dtc - Section/Oro\", \"cutoff2\": 20, \"cutoff\": 0}, {\"calitp_itp_id\": 284, \"trip_key\": 7131073052552387620, \"trip_id\": \"255539\", \"shape_id\": \"32069\", \"route_id\": \"580\", \"service_hours\": 0.35, \"trip_first_departure_ts\": 55800, \"trip_last_arrival_ts\": 57060, \"departure_hour\": 15, \"time_of_day\": \"Midday\", \"p25\": 0.35, \"p50\": 0.36, \"p75\": 0.37, \"p50_trip\": 1, \"fastest_trip\": 0, \"car_duration_hours\": 0.3, \"competitive_route\": 1, \"bus_multiplier\": 1.17, \"bus_difference\": 3.0, \"num_trips\": 24, \"num_competitive\": 24, \"pct_trips_competitive\": 1.0, \"bus_difference_spread\": 1.2000000000000002, \"route_group\": \"short\", \"max_trip_hrs\": 0.37, \"max_trip_route_group\": 0.37, \"below_cutoff\": 24, \"pct_below_cutoff\": 1.0, \"name\": \"San Joaquin Regional Transit District\", \"caltrans_district\": \"10 - Stockton\", \"drmt_organization_name\": \"['recBXxWghAGPPIwaR']\", \"route_name\": \"Dtc - Section/Oro\", \"cutoff2\": 20, \"cutoff\": 0}, {\"calitp_itp_id\": 284, \"trip_key\": 7684547386889704423, \"trip_id\": \"255542\", \"shape_id\": \"32069\", \"route_id\": \"580\", \"service_hours\": 0.35, \"trip_first_departure_ts\": 45600, \"trip_last_arrival_ts\": 46860, \"departure_hour\": 12, \"time_of_day\": \"Midday\", \"p25\": 0.35, \"p50\": 0.36, \"p75\": 0.37, \"p50_trip\": 1, \"fastest_trip\": 0, \"car_duration_hours\": 0.3, \"competitive_route\": 1, \"bus_multiplier\": 1.17, \"bus_difference\": 3.0, \"num_trips\": 24, \"num_competitive\": 24, \"pct_trips_competitive\": 1.0, \"bus_difference_spread\": 1.2000000000000002, \"route_group\": \"short\", \"max_trip_hrs\": 0.37, \"max_trip_route_group\": 0.37, \"below_cutoff\": 24, \"pct_below_cutoff\": 1.0, \"name\": \"San Joaquin Regional Transit District\", \"caltrans_district\": \"10 - Stockton\", \"drmt_organization_name\": \"['recBXxWghAGPPIwaR']\", \"route_name\": \"Dtc - Section/Oro\", \"cutoff2\": 20, \"cutoff\": 0}, {\"calitp_itp_id\": 284, \"trip_key\": 2765632940046593387, \"trip_id\": \"255552\", \"shape_id\": \"32070\", \"route_id\": \"580\", \"service_hours\": 0.37, \"trip_first_departure_ts\": 54300, \"trip_last_arrival_ts\": 55620, \"departure_hour\": 15, \"time_of_day\": \"Midday\", \"p25\": 0.35, \"p50\": 0.36, \"p75\": 0.37, \"p50_trip\": 1, \"fastest_trip\": 0, \"car_duration_hours\": 0.3, \"competitive_route\": 1, \"bus_multiplier\": 1.23, \"bus_difference\": 4.2, \"num_trips\": 24, \"num_competitive\": 24, \"pct_trips_competitive\": 1.0, \"bus_difference_spread\": 1.2000000000000002, \"route_group\": \"short\", \"max_trip_hrs\": 0.37, \"max_trip_route_group\": 0.37, \"below_cutoff\": 24, \"pct_below_cutoff\": 1.0, \"name\": \"San Joaquin Regional Transit District\", \"caltrans_district\": \"10 - Stockton\", \"drmt_organization_name\": \"['recBXxWghAGPPIwaR']\", \"route_name\": \"Dtc - Section/Oro\", \"cutoff2\": 20, \"cutoff\": 0}, {\"calitp_itp_id\": 284, \"trip_key\": 4674744111220364805, \"trip_id\": \"255558\", \"shape_id\": \"32070\", \"route_id\": \"580\", \"service_hours\": 0.37, \"trip_first_departure_ts\": 33000, \"trip_last_arrival_ts\": 34320, \"departure_hour\": 9, \"time_of_day\": \"AM Peak\", \"p25\": 0.35, \"p50\": 0.36, \"p75\": 0.37, \"p50_trip\": 1, \"fastest_trip\": 0, \"car_duration_hours\": 0.3, \"competitive_route\": 1, \"bus_multiplier\": 1.23, \"bus_difference\": 4.2, \"num_trips\": 24, \"num_competitive\": 24, \"pct_trips_competitive\": 1.0, \"bus_difference_spread\": 1.2000000000000002, \"route_group\": \"short\", \"max_trip_hrs\": 0.37, \"max_trip_route_group\": 0.37, \"below_cutoff\": 24, \"pct_below_cutoff\": 1.0, \"name\": \"San Joaquin Regional Transit District\", \"caltrans_district\": \"10 - Stockton\", \"drmt_organization_name\": \"['recBXxWghAGPPIwaR']\", \"route_name\": \"Dtc - Section/Oro\", \"cutoff2\": 20, \"cutoff\": 0}, {\"calitp_itp_id\": 284, \"trip_key\": -6864295098723302170, \"trip_id\": \"255550\", \"shape_id\": \"32070\", \"route_id\": \"580\", \"service_hours\": 0.37, \"trip_first_departure_ts\": 61800, \"trip_last_arrival_ts\": 63120, \"departure_hour\": 17, \"time_of_day\": \"PM Peak\", \"p25\": 0.35, \"p50\": 0.36, \"p75\": 0.37, \"p50_trip\": 1, \"fastest_trip\": 0, \"car_duration_hours\": 0.3, \"competitive_route\": 1, \"bus_multiplier\": 1.23, \"bus_difference\": 4.2, \"num_trips\": 24, \"num_competitive\": 24, \"pct_trips_competitive\": 1.0, \"bus_difference_spread\": 1.2000000000000002, \"route_group\": \"short\", \"max_trip_hrs\": 0.37, \"max_trip_route_group\": 0.37, \"below_cutoff\": 24, \"pct_below_cutoff\": 1.0, \"name\": \"San Joaquin Regional Transit District\", \"caltrans_district\": \"10 - Stockton\", \"drmt_organization_name\": \"['recBXxWghAGPPIwaR']\", \"route_name\": \"Dtc - Section/Oro\", \"cutoff2\": 20, \"cutoff\": 0}, {\"calitp_itp_id\": 284, \"trip_key\": -3941545691007755393, \"trip_id\": \"255551\", \"shape_id\": \"32070\", \"route_id\": \"580\", \"service_hours\": 0.37, \"trip_first_departure_ts\": 57900, \"trip_last_arrival_ts\": 59220, \"departure_hour\": 16, \"time_of_day\": \"Midday\", \"p25\": 0.35, \"p50\": 0.36, \"p75\": 0.37, \"p50_trip\": 1, \"fastest_trip\": 0, \"car_duration_hours\": 0.3, \"competitive_route\": 1, \"bus_multiplier\": 1.23, \"bus_difference\": 4.2, \"num_trips\": 24, \"num_competitive\": 24, \"pct_trips_competitive\": 1.0, \"bus_difference_spread\": 1.2000000000000002, \"route_group\": \"short\", \"max_trip_hrs\": 0.37, \"max_trip_route_group\": 0.37, \"below_cutoff\": 24, \"pct_below_cutoff\": 1.0, \"name\": \"San Joaquin Regional Transit District\", \"caltrans_district\": \"10 - Stockton\", \"drmt_organization_name\": \"['recBXxWghAGPPIwaR']\", \"route_name\": \"Dtc - Section/Oro\", \"cutoff2\": 20, \"cutoff\": 0}, {\"calitp_itp_id\": 284, \"trip_key\": -2110433851783455111, \"trip_id\": \"255553\", \"shape_id\": \"32070\", \"route_id\": \"580\", \"service_hours\": 0.37, \"trip_first_departure_ts\": 50700, \"trip_last_arrival_ts\": 52020, \"departure_hour\": 14, \"time_of_day\": \"Midday\", \"p25\": 0.35, \"p50\": 0.36, \"p75\": 0.37, \"p50_trip\": 1, \"fastest_trip\": 0, \"car_duration_hours\": 0.3, \"competitive_route\": 1, \"bus_multiplier\": 1.23, \"bus_difference\": 4.2, \"num_trips\": 24, \"num_competitive\": 24, \"pct_trips_competitive\": 1.0, \"bus_difference_spread\": 1.2000000000000002, \"route_group\": \"short\", \"max_trip_hrs\": 0.37, \"max_trip_route_group\": 0.37, \"below_cutoff\": 24, \"pct_below_cutoff\": 1.0, \"name\": \"San Joaquin Regional Transit District\", \"caltrans_district\": \"10 - Stockton\", \"drmt_organization_name\": \"['recBXxWghAGPPIwaR']\", \"route_name\": \"Dtc - Section/Oro\", \"cutoff2\": 20, \"cutoff\": 0}, {\"calitp_itp_id\": 284, \"trip_key\": -7040453116582023967, \"trip_id\": \"255554\", \"shape_id\": \"32070\", \"route_id\": \"580\", \"service_hours\": 0.37, \"trip_first_departure_ts\": 47400, \"trip_last_arrival_ts\": 48720, \"departure_hour\": 13, \"time_of_day\": \"Midday\", \"p25\": 0.35, \"p50\": 0.36, \"p75\": 0.37, \"p50_trip\": 1, \"fastest_trip\": 0, \"car_duration_hours\": 0.3, \"competitive_route\": 1, \"bus_multiplier\": 1.23, \"bus_difference\": 4.2, \"num_trips\": 24, \"num_competitive\": 24, \"pct_trips_competitive\": 1.0, \"bus_difference_spread\": 1.2000000000000002, \"route_group\": \"short\", \"max_trip_hrs\": 0.37, \"max_trip_route_group\": 0.37, \"below_cutoff\": 24, \"pct_below_cutoff\": 1.0, \"name\": \"San Joaquin Regional Transit District\", \"caltrans_district\": \"10 - Stockton\", \"drmt_organization_name\": \"['recBXxWghAGPPIwaR']\", \"route_name\": \"Dtc - Section/Oro\", \"cutoff2\": 20, \"cutoff\": 0}, {\"calitp_itp_id\": 284, \"trip_key\": -2253273466333654021, \"trip_id\": \"255555\", \"shape_id\": \"32070\", \"route_id\": \"580\", \"service_hours\": 0.37, \"trip_first_departure_ts\": 43800, \"trip_last_arrival_ts\": 45120, \"departure_hour\": 12, \"time_of_day\": \"Midday\", \"p25\": 0.35, \"p50\": 0.36, \"p75\": 0.37, \"p50_trip\": 1, \"fastest_trip\": 0, \"car_duration_hours\": 0.3, \"competitive_route\": 1, \"bus_multiplier\": 1.23, \"bus_difference\": 4.2, \"num_trips\": 24, \"num_competitive\": 24, \"pct_trips_competitive\": 1.0, \"bus_difference_spread\": 1.2000000000000002, \"route_group\": \"short\", \"max_trip_hrs\": 0.37, \"max_trip_route_group\": 0.37, \"below_cutoff\": 24, \"pct_below_cutoff\": 1.0, \"name\": \"San Joaquin Regional Transit District\", \"caltrans_district\": \"10 - Stockton\", \"drmt_organization_name\": \"['recBXxWghAGPPIwaR']\", \"route_name\": \"Dtc - Section/Oro\", \"cutoff2\": 20, \"cutoff\": 0}, {\"calitp_itp_id\": 284, \"trip_key\": 4984687498635716569, \"trip_id\": \"255549\", \"shape_id\": \"32070\", \"route_id\": \"580\", \"service_hours\": 0.37, \"trip_first_departure_ts\": 68700, \"trip_last_arrival_ts\": 70020, \"departure_hour\": 19, \"time_of_day\": \"PM Peak\", \"p25\": 0.35, \"p50\": 0.36, \"p75\": 0.37, \"p50_trip\": 1, \"fastest_trip\": 0, \"car_duration_hours\": 0.3, \"competitive_route\": 1, \"bus_multiplier\": 1.23, \"bus_difference\": 4.2, \"num_trips\": 24, \"num_competitive\": 24, \"pct_trips_competitive\": 1.0, \"bus_difference_spread\": 1.2000000000000002, \"route_group\": \"short\", \"max_trip_hrs\": 0.37, \"max_trip_route_group\": 0.37, \"below_cutoff\": 24, \"pct_below_cutoff\": 1.0, \"name\": \"San Joaquin Regional Transit District\", \"caltrans_district\": \"10 - Stockton\", \"drmt_organization_name\": \"['recBXxWghAGPPIwaR']\", \"route_name\": \"Dtc - Section/Oro\", \"cutoff2\": 20, \"cutoff\": 0}, {\"calitp_itp_id\": 284, \"trip_key\": -2685864265001034977, \"trip_id\": \"255557\", \"shape_id\": \"32070\", \"route_id\": \"580\", \"service_hours\": 0.37, \"trip_first_departure_ts\": 36300, \"trip_last_arrival_ts\": 37620, \"departure_hour\": 10, \"time_of_day\": \"Midday\", \"p25\": 0.35, \"p50\": 0.36, \"p75\": 0.37, \"p50_trip\": 1, \"fastest_trip\": 0, \"car_duration_hours\": 0.3, \"competitive_route\": 1, \"bus_multiplier\": 1.23, \"bus_difference\": 4.2, \"num_trips\": 24, \"num_competitive\": 24, \"pct_trips_competitive\": 1.0, \"bus_difference_spread\": 1.2000000000000002, \"route_group\": \"short\", \"max_trip_hrs\": 0.37, \"max_trip_route_group\": 0.37, \"below_cutoff\": 24, \"pct_below_cutoff\": 1.0, \"name\": \"San Joaquin Regional Transit District\", \"caltrans_district\": \"10 - Stockton\", \"drmt_organization_name\": \"['recBXxWghAGPPIwaR']\", \"route_name\": \"Dtc - Section/Oro\", \"cutoff2\": 20, \"cutoff\": 0}, {\"calitp_itp_id\": 284, \"trip_key\": 6884552739124493746, \"trip_id\": \"255560\", \"shape_id\": \"32070\", \"route_id\": \"580\", \"service_hours\": 0.37, \"trip_first_departure_ts\": 24900, \"trip_last_arrival_ts\": 26220, \"departure_hour\": 6, \"time_of_day\": \"Owl Service\", \"p25\": 0.35, \"p50\": 0.36, \"p75\": 0.37, \"p50_trip\": 1, \"fastest_trip\": 0, \"car_duration_hours\": 0.3, \"competitive_route\": 1, \"bus_multiplier\": 1.23, \"bus_difference\": 4.2, \"num_trips\": 24, \"num_competitive\": 24, \"pct_trips_competitive\": 1.0, \"bus_difference_spread\": 1.2000000000000002, \"route_group\": \"short\", \"max_trip_hrs\": 0.37, \"max_trip_route_group\": 0.37, \"below_cutoff\": 24, \"pct_below_cutoff\": 1.0, \"name\": \"San Joaquin Regional Transit District\", \"caltrans_district\": \"10 - Stockton\", \"drmt_organization_name\": \"['recBXxWghAGPPIwaR']\", \"route_name\": \"Dtc - Section/Oro\", \"cutoff2\": 20, \"cutoff\": 0}, {\"calitp_itp_id\": 284, \"trip_key\": -7600760132767218322, \"trip_id\": \"255559\", \"shape_id\": \"32070\", \"route_id\": \"580\", \"service_hours\": 0.37, \"trip_first_departure_ts\": 29100, \"trip_last_arrival_ts\": 30420, \"departure_hour\": 8, \"time_of_day\": \"AM Peak\", \"p25\": 0.35, \"p50\": 0.36, \"p75\": 0.37, \"p50_trip\": 1, \"fastest_trip\": 0, \"car_duration_hours\": 0.3, \"competitive_route\": 1, \"bus_multiplier\": 1.23, \"bus_difference\": 4.2, \"num_trips\": 24, \"num_competitive\": 24, \"pct_trips_competitive\": 1.0, \"bus_difference_spread\": 1.2000000000000002, \"route_group\": \"short\", \"max_trip_hrs\": 0.37, \"max_trip_route_group\": 0.37, \"below_cutoff\": 24, \"pct_below_cutoff\": 1.0, \"name\": \"San Joaquin Regional Transit District\", \"caltrans_district\": \"10 - Stockton\", \"drmt_organization_name\": \"['recBXxWghAGPPIwaR']\", \"route_name\": \"Dtc - Section/Oro\", \"cutoff2\": 20, \"cutoff\": 0}, {\"calitp_itp_id\": 284, \"trip_key\": 2560341403587721133, \"trip_id\": \"255556\", \"shape_id\": \"32070\", \"route_id\": \"580\", \"service_hours\": 0.37, \"trip_first_departure_ts\": 40200, \"trip_last_arrival_ts\": 41520, \"departure_hour\": 11, \"time_of_day\": \"Midday\", \"p25\": 0.35, \"p50\": 0.36, \"p75\": 0.37, \"p50_trip\": 1, \"fastest_trip\": 0, \"car_duration_hours\": 0.3, \"competitive_route\": 1, \"bus_multiplier\": 1.23, \"bus_difference\": 4.2, \"num_trips\": 24, \"num_competitive\": 24, \"pct_trips_competitive\": 1.0, \"bus_difference_spread\": 1.2000000000000002, \"route_group\": \"short\", \"max_trip_hrs\": 0.37, \"max_trip_route_group\": 0.37, \"below_cutoff\": 24, \"pct_below_cutoff\": 1.0, \"name\": \"San Joaquin Regional Transit District\", \"caltrans_district\": \"10 - Stockton\", \"drmt_organization_name\": \"['recBXxWghAGPPIwaR']\", \"route_name\": \"Dtc - Section/Oro\", \"cutoff2\": 20, \"cutoff\": 0}, {\"calitp_itp_id\": 284, \"trip_key\": -6400302821240540934, \"trip_id\": \"255720\", \"shape_id\": \"32083\", \"route_id\": \"90\", \"service_hours\": 0.82, \"trip_first_departure_ts\": 62520, \"trip_last_arrival_ts\": 65460, \"departure_hour\": 17, \"time_of_day\": \"PM Peak\", \"p25\": 0.82, \"p50\": 0.885, \"p75\": 0.95, \"p50_trip\": 0, \"fastest_trip\": 0, \"car_duration_hours\": 0.74, \"competitive_route\": 1, \"bus_multiplier\": 1.11, \"bus_difference\": 4.8, \"num_trips\": 14, \"num_competitive\": 14, \"pct_trips_competitive\": 1.0, \"bus_difference_spread\": 9.0, \"route_group\": \"short\", \"max_trip_hrs\": 0.97, \"max_trip_route_group\": 0.97, \"below_cutoff\": 14, \"pct_below_cutoff\": 1.0, \"name\": \"San Joaquin Regional Transit District\", \"caltrans_district\": \"10 - Stockton\", \"drmt_organization_name\": \"['recBXxWghAGPPIwaR']\", \"route_name\": \"Stockton-Lathrop-Tracy\", \"cutoff2\": 20, \"cutoff\": 0}, {\"calitp_itp_id\": 284, \"trip_key\": -8062396033883143814, \"trip_id\": \"255723\", \"shape_id\": \"32082\", \"route_id\": \"90\", \"service_hours\": 0.82, \"trip_first_departure_ts\": 37620, \"trip_last_arrival_ts\": 40560, \"departure_hour\": 10, \"time_of_day\": \"Midday\", \"p25\": 0.82, \"p50\": 0.885, \"p75\": 0.95, \"p50_trip\": 0, \"fastest_trip\": 0, \"car_duration_hours\": 0.74, \"competitive_route\": 1, \"bus_multiplier\": 1.11, \"bus_difference\": 4.8, \"num_trips\": 14, \"num_competitive\": 14, \"pct_trips_competitive\": 1.0, \"bus_difference_spread\": 9.0, \"route_group\": \"short\", \"max_trip_hrs\": 0.97, \"max_trip_route_group\": 0.97, \"below_cutoff\": 14, \"pct_below_cutoff\": 1.0, \"name\": \"San Joaquin Regional Transit District\", \"caltrans_district\": \"10 - Stockton\", \"drmt_organization_name\": \"['recBXxWghAGPPIwaR']\", \"route_name\": \"Stockton-Lathrop-Tracy\", \"cutoff2\": 20, \"cutoff\": 0}, {\"calitp_itp_id\": 284, \"trip_key\": 4590370288111958812, \"trip_id\": \"255725\", \"shape_id\": \"32082\", \"route_id\": \"90\", \"service_hours\": 0.82, \"trip_first_departure_ts\": 24900, \"trip_last_arrival_ts\": 27840, \"departure_hour\": 6, \"time_of_day\": \"Owl Service\", \"p25\": 0.82, \"p50\": 0.885, \"p75\": 0.95, \"p50_trip\": 0, \"fastest_trip\": 0, \"car_duration_hours\": 0.74, \"competitive_route\": 1, \"bus_multiplier\": 1.11, \"bus_difference\": 4.8, \"num_trips\": 14, \"num_competitive\": 14, \"pct_trips_competitive\": 1.0, \"bus_difference_spread\": 9.0, \"route_group\": \"short\", \"max_trip_hrs\": 0.97, \"max_trip_route_group\": 0.97, \"below_cutoff\": 14, \"pct_below_cutoff\": 1.0, \"name\": \"San Joaquin Regional Transit District\", \"caltrans_district\": \"10 - Stockton\", \"drmt_organization_name\": \"['recBXxWghAGPPIwaR']\", \"route_name\": \"Stockton-Lathrop-Tracy\", \"cutoff2\": 20, \"cutoff\": 0}, {\"calitp_itp_id\": 284, \"trip_key\": 3975960701692484944, \"trip_id\": \"255724\", \"shape_id\": \"32082\", \"route_id\": \"90\", \"service_hours\": 0.82, \"trip_first_departure_ts\": 28320, \"trip_last_arrival_ts\": 31260, \"departure_hour\": 7, \"time_of_day\": \"AM Peak\", \"p25\": 0.82, \"p50\": 0.885, \"p75\": 0.95, \"p50_trip\": 0, \"fastest_trip\": 0, \"car_duration_hours\": 0.74, \"competitive_route\": 1, \"bus_multiplier\": 1.11, \"bus_difference\": 4.8, \"num_trips\": 14, \"num_competitive\": 14, \"pct_trips_competitive\": 1.0, \"bus_difference_spread\": 9.0, \"route_group\": \"short\", \"max_trip_hrs\": 0.97, \"max_trip_route_group\": 0.97, \"below_cutoff\": 14, \"pct_below_cutoff\": 1.0, \"name\": \"San Joaquin Regional Transit District\", \"caltrans_district\": \"10 - Stockton\", \"drmt_organization_name\": \"['recBXxWghAGPPIwaR']\", \"route_name\": \"Stockton-Lathrop-Tracy\", \"cutoff2\": 20, \"cutoff\": 0}, {\"calitp_itp_id\": 284, \"trip_key\": 8829867302554588318, \"trip_id\": \"255721\", \"shape_id\": \"32083\", \"route_id\": \"90\", \"service_hours\": 0.82, \"trip_first_departure_ts\": 58920, \"trip_last_arrival_ts\": 61860, \"departure_hour\": 16, \"time_of_day\": \"Midday\", \"p25\": 0.82, \"p50\": 0.885, \"p75\": 0.95, \"p50_trip\": 0, \"fastest_trip\": 0, \"car_duration_hours\": 0.74, \"competitive_route\": 1, \"bus_multiplier\": 1.11, \"bus_difference\": 4.8, \"num_trips\": 14, \"num_competitive\": 14, \"pct_trips_competitive\": 1.0, \"bus_difference_spread\": 9.0, \"route_group\": \"short\", \"max_trip_hrs\": 0.97, \"max_trip_route_group\": 0.97, \"below_cutoff\": 14, \"pct_below_cutoff\": 1.0, \"name\": \"San Joaquin Regional Transit District\", \"caltrans_district\": \"10 - Stockton\", \"drmt_organization_name\": \"['recBXxWghAGPPIwaR']\", \"route_name\": \"Stockton-Lathrop-Tracy\", \"cutoff2\": 20, \"cutoff\": 0}, {\"calitp_itp_id\": 284, \"trip_key\": 8108330916791639717, \"trip_id\": \"255719\", \"shape_id\": \"32083\", \"route_id\": \"90\", \"service_hours\": 0.82, \"trip_first_departure_ts\": 70320, \"trip_last_arrival_ts\": 73260, \"departure_hour\": 19, \"time_of_day\": \"PM Peak\", \"p25\": 0.82, \"p50\": 0.885, \"p75\": 0.95, \"p50_trip\": 0, \"fastest_trip\": 1, \"car_duration_hours\": 0.74, \"competitive_route\": 1, \"bus_multiplier\": 1.11, \"bus_difference\": 4.8, \"num_trips\": 14, \"num_competitive\": 14, \"pct_trips_competitive\": 1.0, \"bus_difference_spread\": 9.0, \"route_group\": \"short\", \"max_trip_hrs\": 0.97, \"max_trip_route_group\": 0.97, \"below_cutoff\": 14, \"pct_below_cutoff\": 1.0, \"name\": \"San Joaquin Regional Transit District\", \"caltrans_district\": \"10 - Stockton\", \"drmt_organization_name\": \"['recBXxWghAGPPIwaR']\", \"route_name\": \"Stockton-Lathrop-Tracy\", \"cutoff2\": 20, \"cutoff\": 0}, {\"calitp_itp_id\": 284, \"trip_key\": -2526477061646687764, \"trip_id\": \"255722\", \"shape_id\": \"32082\", \"route_id\": \"90\", \"service_hours\": 0.82, \"trip_first_departure_ts\": 46320, \"trip_last_arrival_ts\": 49260, \"departure_hour\": 12, \"time_of_day\": \"Midday\", \"p25\": 0.82, \"p50\": 0.885, \"p75\": 0.95, \"p50_trip\": 0, \"fastest_trip\": 0, \"car_duration_hours\": 0.74, \"competitive_route\": 1, \"bus_multiplier\": 1.11, \"bus_difference\": 4.8, \"num_trips\": 14, \"num_competitive\": 14, \"pct_trips_competitive\": 1.0, \"bus_difference_spread\": 9.0, \"route_group\": \"short\", \"max_trip_hrs\": 0.97, \"max_trip_route_group\": 0.97, \"below_cutoff\": 14, \"pct_below_cutoff\": 1.0, \"name\": \"San Joaquin Regional Transit District\", \"caltrans_district\": \"10 - Stockton\", \"drmt_organization_name\": \"['recBXxWghAGPPIwaR']\", \"route_name\": \"Stockton-Lathrop-Tracy\", \"cutoff2\": 20, \"cutoff\": 0}, {\"calitp_itp_id\": 284, \"trip_key\": -8613905044122310600, \"trip_id\": \"255731\", \"shape_id\": \"32084\", \"route_id\": \"90\", \"service_hours\": 0.95, \"trip_first_departure_ts\": 33600, \"trip_last_arrival_ts\": 37020, \"departure_hour\": 9, \"time_of_day\": \"AM Peak\", \"p25\": 0.82, \"p50\": 0.885, \"p75\": 0.95, \"p50_trip\": 1, \"fastest_trip\": 0, \"car_duration_hours\": 0.74, \"competitive_route\": 1, \"bus_multiplier\": 1.28, \"bus_difference\": 12.6, \"num_trips\": 14, \"num_competitive\": 14, \"pct_trips_competitive\": 1.0, \"bus_difference_spread\": 9.0, \"route_group\": \"short\", \"max_trip_hrs\": 0.97, \"max_trip_route_group\": 0.97, \"below_cutoff\": 14, \"pct_below_cutoff\": 1.0, \"name\": \"San Joaquin Regional Transit District\", \"caltrans_district\": \"10 - Stockton\", \"drmt_organization_name\": \"['recBXxWghAGPPIwaR']\", \"route_name\": \"Stockton-Lathrop-Tracy\", \"cutoff2\": 20, \"cutoff\": 0}, {\"calitp_itp_id\": 284, \"trip_key\": -1236131323005854608, \"trip_id\": \"255728\", \"shape_id\": \"32084\", \"route_id\": \"90\", \"service_hours\": 0.95, \"trip_first_departure_ts\": 58500, \"trip_last_arrival_ts\": 61920, \"departure_hour\": 16, \"time_of_day\": \"Midday\", \"p25\": 0.82, \"p50\": 0.885, \"p75\": 0.95, \"p50_trip\": 1, \"fastest_trip\": 0, \"car_duration_hours\": 0.74, \"competitive_route\": 1, \"bus_multiplier\": 1.28, \"bus_difference\": 12.6, \"num_trips\": 14, \"num_competitive\": 14, \"pct_trips_competitive\": 1.0, \"bus_difference_spread\": 9.0, \"route_group\": \"short\", \"max_trip_hrs\": 0.97, \"max_trip_route_group\": 0.97, \"below_cutoff\": 14, \"pct_below_cutoff\": 1.0, \"name\": \"San Joaquin Regional Transit District\", \"caltrans_district\": \"10 - Stockton\", \"drmt_organization_name\": \"['recBXxWghAGPPIwaR']\", \"route_name\": \"Stockton-Lathrop-Tracy\", \"cutoff2\": 20, \"cutoff\": 0}, {\"calitp_itp_id\": 284, \"trip_key\": 5281707622576093818, \"trip_id\": \"255729\", \"shape_id\": \"32084\", \"route_id\": \"90\", \"service_hours\": 0.95, \"trip_first_departure_ts\": 54900, \"trip_last_arrival_ts\": 58320, \"departure_hour\": 15, \"time_of_day\": \"Midday\", \"p25\": 0.82, \"p50\": 0.885, \"p75\": 0.95, \"p50_trip\": 1, \"fastest_trip\": 0, \"car_duration_hours\": 0.74, \"competitive_route\": 1, \"bus_multiplier\": 1.28, \"bus_difference\": 12.6, \"num_trips\": 14, \"num_competitive\": 14, \"pct_trips_competitive\": 1.0, \"bus_difference_spread\": 9.0, \"route_group\": \"short\", \"max_trip_hrs\": 0.97, \"max_trip_route_group\": 0.97, \"below_cutoff\": 14, \"pct_below_cutoff\": 1.0, \"name\": \"San Joaquin Regional Transit District\", \"caltrans_district\": \"10 - Stockton\", \"drmt_organization_name\": \"['recBXxWghAGPPIwaR']\", \"route_name\": \"Stockton-Lathrop-Tracy\", \"cutoff2\": 20, \"cutoff\": 0}, {\"calitp_itp_id\": 284, \"trip_key\": -2935375050621574103, \"trip_id\": \"255732\", \"shape_id\": \"32084\", \"route_id\": \"90\", \"service_hours\": 0.95, \"trip_first_departure_ts\": 24300, \"trip_last_arrival_ts\": 27720, \"departure_hour\": 6, \"time_of_day\": \"Owl Service\", \"p25\": 0.82, \"p50\": 0.885, \"p75\": 0.95, \"p50_trip\": 1, \"fastest_trip\": 0, \"car_duration_hours\": 0.74, \"competitive_route\": 1, \"bus_multiplier\": 1.28, \"bus_difference\": 12.6, \"num_trips\": 14, \"num_competitive\": 14, \"pct_trips_competitive\": 1.0, \"bus_difference_spread\": 9.0, \"route_group\": \"short\", \"max_trip_hrs\": 0.97, \"max_trip_route_group\": 0.97, \"below_cutoff\": 14, \"pct_below_cutoff\": 1.0, \"name\": \"San Joaquin Regional Transit District\", \"caltrans_district\": \"10 - Stockton\", \"drmt_organization_name\": \"['recBXxWghAGPPIwaR']\", \"route_name\": \"Stockton-Lathrop-Tracy\", \"cutoff2\": 20, \"cutoff\": 0}, {\"calitp_itp_id\": 284, \"trip_key\": -7017080042701469583, \"trip_id\": \"255727\", \"shape_id\": \"32085\", \"route_id\": \"90\", \"service_hours\": 0.95, \"trip_first_departure_ts\": 66300, \"trip_last_arrival_ts\": 69720, \"departure_hour\": 18, \"time_of_day\": \"PM Peak\", \"p25\": 0.82, \"p50\": 0.885, \"p75\": 0.95, \"p50_trip\": 1, \"fastest_trip\": 0, \"car_duration_hours\": 0.74, \"competitive_route\": 1, \"bus_multiplier\": 1.28, \"bus_difference\": 12.6, \"num_trips\": 14, \"num_competitive\": 14, \"pct_trips_competitive\": 1.0, \"bus_difference_spread\": 9.0, \"route_group\": \"short\", \"max_trip_hrs\": 0.97, \"max_trip_route_group\": 0.97, \"below_cutoff\": 14, \"pct_below_cutoff\": 1.0, \"name\": \"San Joaquin Regional Transit District\", \"caltrans_district\": \"10 - Stockton\", \"drmt_organization_name\": \"['recBXxWghAGPPIwaR']\", \"route_name\": \"Stockton-Lathrop-Tracy\", \"cutoff2\": 20, \"cutoff\": 0}, {\"calitp_itp_id\": 284, \"trip_key\": 2749252935436184291, \"trip_id\": \"255730\", \"shape_id\": \"32084\", \"route_id\": \"90\", \"service_hours\": 0.95, \"trip_first_departure_ts\": 42300, \"trip_last_arrival_ts\": 45720, \"departure_hour\": 11, \"time_of_day\": \"Midday\", \"p25\": 0.82, \"p50\": 0.885, \"p75\": 0.95, \"p50_trip\": 1, \"fastest_trip\": 0, \"car_duration_hours\": 0.74, \"competitive_route\": 1, \"bus_multiplier\": 1.28, \"bus_difference\": 12.6, \"num_trips\": 14, \"num_competitive\": 14, \"pct_trips_competitive\": 1.0, \"bus_difference_spread\": 9.0, \"route_group\": \"short\", \"max_trip_hrs\": 0.97, \"max_trip_route_group\": 0.97, \"below_cutoff\": 14, \"pct_below_cutoff\": 1.0, \"name\": \"San Joaquin Regional Transit District\", \"caltrans_district\": \"10 - Stockton\", \"drmt_organization_name\": \"['recBXxWghAGPPIwaR']\", \"route_name\": \"Stockton-Lathrop-Tracy\", \"cutoff2\": 20, \"cutoff\": 0}, {\"calitp_itp_id\": 284, \"trip_key\": -912936521474187572, \"trip_id\": \"255726\", \"shape_id\": \"32082\", \"route_id\": \"90\", \"service_hours\": 0.97, \"trip_first_departure_ts\": 20220, \"trip_last_arrival_ts\": 23700, \"departure_hour\": 5, \"time_of_day\": \"Owl Service\", \"p25\": 0.82, \"p50\": 0.885, \"p75\": 0.95, \"p50_trip\": 0, \"fastest_trip\": 0, \"car_duration_hours\": 0.74, \"competitive_route\": 1, \"bus_multiplier\": 1.31, \"bus_difference\": 13.8, \"num_trips\": 14, \"num_competitive\": 14, \"pct_trips_competitive\": 1.0, \"bus_difference_spread\": 9.0, \"route_group\": \"short\", \"max_trip_hrs\": 0.97, \"max_trip_route_group\": 0.97, \"below_cutoff\": 14, \"pct_below_cutoff\": 1.0, \"name\": \"San Joaquin Regional Transit District\", \"caltrans_district\": \"10 - Stockton\", \"drmt_organization_name\": \"['recBXxWghAGPPIwaR']\", \"route_name\": \"Stockton-Lathrop-Tracy\", \"cutoff2\": 20, \"cutoff\": 0}]}}, {\"mode\": \"vega-lite\"});\n",
       "</script>"
      ],
      "text/plain": [
       "alt.FacetChart(...)"
      ]
     },
     "metadata": {},
     "output_type": "display_data"
    },
    {
     "data": {
      "text/html": [
       "<h4>Route Stats</h4>"
      ],
      "text/plain": [
       "<IPython.core.display.HTML object>"
      ]
     },
     "metadata": {},
     "output_type": "display_data"
    },
    {
     "data": {
      "text/html": [
       "<style type=\"text/css\">\n",
       "#T_8e714 th {\n",
       "  text-align: center;\n",
       "}\n",
       "#T_8e714_row0_col0, #T_8e714_row0_col1, #T_8e714_row1_col0, #T_8e714_row1_col1, #T_8e714_row2_col0, #T_8e714_row2_col1, #T_8e714_row3_col0, #T_8e714_row3_col1, #T_8e714_row4_col0, #T_8e714_row4_col1 {\n",
       "  text-align: left;\n",
       "}\n",
       "#T_8e714_row0_col2, #T_8e714_row0_col3, #T_8e714_row0_col5, #T_8e714_row1_col2, #T_8e714_row1_col3, #T_8e714_row1_col5, #T_8e714_row2_col2, #T_8e714_row2_col3, #T_8e714_row2_col5, #T_8e714_row3_col2, #T_8e714_row3_col3, #T_8e714_row3_col5, #T_8e714_row4_col2, #T_8e714_row4_col3, #T_8e714_row4_col5 {\n",
       "  text-align: center;\n",
       "}\n",
       "</style>\n",
       "<table id=\"T_8e714\">\n",
       "  <thead>\n",
       "    <tr>\n",
       "      <th id=\"T_8e714_level0_col0\" class=\"col_heading level0 col0\" >Route ID</th>\n",
       "      <th id=\"T_8e714_level0_col1\" class=\"col_heading level0 col1\" >Route Name</th>\n",
       "      <th id=\"T_8e714_level0_col2\" class=\"col_heading level0 col2\" ># trips</th>\n",
       "      <th id=\"T_8e714_level0_col3\" class=\"col_heading level0 col3\" >Daily Avg Freq (trips per hr)</th>\n",
       "      <th id=\"T_8e714_level0_col4\" class=\"col_heading level0 col4\" >25th, 50th, 75th ptile (hrs)</th>\n",
       "      <th id=\"T_8e714_level0_col5\" class=\"col_heading level0 col5\" >PM Peak Avg Freq (trips per hr)</th>\n",
       "    </tr>\n",
       "  </thead>\n",
       "  <tbody>\n",
       "    <tr>\n",
       "      <td id=\"T_8e714_row0_col0\" class=\"data row0 col0\" >510</td>\n",
       "      <td id=\"T_8e714_row0_col1\" class=\"data row0 col1\" >Dtc-San Joaquin-El Dorado</td>\n",
       "      <td id=\"T_8e714_row0_col2\" class=\"data row0 col2\" >33</td>\n",
       "      <td id=\"T_8e714_row0_col3\" class=\"data row0 col3\" >1.38</td>\n",
       "      <td id=\"T_8e714_row0_col4\" class=\"data row0 col4\" >0.47, 0.47, 0.47</td>\n",
       "      <td id=\"T_8e714_row0_col5\" class=\"data row0 col5\" >1.67</td>\n",
       "    </tr>\n",
       "    <tr>\n",
       "      <td id=\"T_8e714_row1_col0\" class=\"data row1 col0\" >580</td>\n",
       "      <td id=\"T_8e714_row1_col1\" class=\"data row1 col1\" >Dtc - Section/Oro</td>\n",
       "      <td id=\"T_8e714_row1_col2\" class=\"data row1 col2\" >24</td>\n",
       "      <td id=\"T_8e714_row1_col3\" class=\"data row1 col3\" >1.0</td>\n",
       "      <td id=\"T_8e714_row1_col4\" class=\"data row1 col4\" >0.35, 0.36, 0.37</td>\n",
       "      <td id=\"T_8e714_row1_col5\" class=\"data row1 col5\" >1.0</td>\n",
       "    </tr>\n",
       "    <tr>\n",
       "      <td id=\"T_8e714_row2_col0\" class=\"data row2 col0\" >90</td>\n",
       "      <td id=\"T_8e714_row2_col1\" class=\"data row2 col1\" >Stockton-Lathrop-Tracy</td>\n",
       "      <td id=\"T_8e714_row2_col2\" class=\"data row2 col2\" >14</td>\n",
       "      <td id=\"T_8e714_row2_col3\" class=\"data row2 col3\" >0.58</td>\n",
       "      <td id=\"T_8e714_row2_col4\" class=\"data row2 col4\" >0.82, 0.88, 0.95</td>\n",
       "      <td id=\"T_8e714_row2_col5\" class=\"data row2 col5\" >1.0</td>\n",
       "    </tr>\n",
       "    <tr>\n",
       "      <td id=\"T_8e714_row3_col0\" class=\"data row3 col0\" >380</td>\n",
       "      <td id=\"T_8e714_row3_col1\" class=\"data row3 col1\" >Limited Weekday Crosstown Service</td>\n",
       "      <td id=\"T_8e714_row3_col2\" class=\"data row3 col2\" >4</td>\n",
       "      <td id=\"T_8e714_row3_col3\" class=\"data row3 col3\" >0.17</td>\n",
       "      <td id=\"T_8e714_row3_col4\" class=\"data row3 col4\" >0.38, 0.4, 0.43</td>\n",
       "      <td id=\"T_8e714_row3_col5\" class=\"data row3 col5\" >nan</td>\n",
       "    </tr>\n",
       "    <tr>\n",
       "      <td id=\"T_8e714_row4_col0\" class=\"data row4 col0\" >390</td>\n",
       "      <td id=\"T_8e714_row4_col1\" class=\"data row4 col1\" >Limited Weekday Crosstown Service</td>\n",
       "      <td id=\"T_8e714_row4_col2\" class=\"data row4 col2\" >2</td>\n",
       "      <td id=\"T_8e714_row4_col3\" class=\"data row4 col3\" >0.08</td>\n",
       "      <td id=\"T_8e714_row4_col4\" class=\"data row4 col4\" >0.66, 0.71, 0.76</td>\n",
       "      <td id=\"T_8e714_row4_col5\" class=\"data row4 col5\" >nan</td>\n",
       "    </tr>\n",
       "  </tbody>\n",
       "</table>\n"
      ],
      "text/plain": [
       "<IPython.core.display.HTML object>"
      ]
     },
     "metadata": {},
     "output_type": "display_data"
    }
   ],
   "source": [
    "# Allow for possibility that operator doesn't have routes that fall into certain route_groups\n",
    "# But, jupyterbook will not like markdown with f-string\n",
    "# separate out route_group and put in each cell, and use try/except + if to display...\n",
    "# but all 3 route groups must be displayed. just add sentence about why no routes were returned at the end\n",
    "route_group = \"short\"\n",
    "try:\n",
    "    display_charts_for_route_group(df, route_group)\n",
    "except:\n",
    "    print(\"No routes meet this criteria.\")"
   ]
  },
  {
   "cell_type": "markdown",
   "id": "c2931b6f-034d-4384-9e14-80b925e3b820",
   "metadata": {
    "papermill": {
     "duration": 0.020098,
     "end_time": "2022-05-12T19:51:50.410674",
     "exception": false,
     "start_time": "2022-05-12T19:51:50.390576",
     "status": "completed"
    },
    "tags": []
   },
   "source": [
    "### Medium Routes (1-1.5 hrs)"
   ]
  },
  {
   "cell_type": "code",
   "execution_count": 15,
   "id": "480edddc-4de0-48c2-ae4c-b0ceef8f28b5",
   "metadata": {
    "execution": {
     "iopub.execute_input": "2022-05-12T19:51:50.450783Z",
     "iopub.status.busy": "2022-05-12T19:51:50.450416Z",
     "iopub.status.idle": "2022-05-12T19:51:50.674930Z",
     "shell.execute_reply": "2022-05-12T19:51:50.674091Z"
    },
    "jupyter": {
     "source_hidden": true
    },
    "papermill": {
     "duration": 0.246678,
     "end_time": "2022-05-12T19:51:50.676971",
     "exception": false,
     "start_time": "2022-05-12T19:51:50.430293",
     "status": "completed"
    },
    "tags": [
     "remove_input"
    ]
   },
   "outputs": [
    {
     "data": {
      "text/markdown": [
       "<br>These are routes that have **100% of their trips take no more than an additional 30 min** compared to a car (up to 15 routes) are shown.<br>Within each route group, routes are sorted in descending order by % competitive trips and # trips below the additional time cut-off."
      ],
      "text/plain": [
       "<IPython.core.display.Markdown object>"
      ]
     },
     "metadata": {},
     "output_type": "display_data"
    },
    {
     "data": {
      "text/html": [
       "\n",
       "<div id=\"altair-viz-c5079c7dbfe24bfe960c5bd3fa952b5f\"></div>\n",
       "<script type=\"text/javascript\">\n",
       "  var VEGA_DEBUG = (typeof VEGA_DEBUG == \"undefined\") ? {} : VEGA_DEBUG;\n",
       "  (function(spec, embedOpt){\n",
       "    let outputDiv = document.currentScript.previousElementSibling;\n",
       "    if (outputDiv.id !== \"altair-viz-c5079c7dbfe24bfe960c5bd3fa952b5f\") {\n",
       "      outputDiv = document.getElementById(\"altair-viz-c5079c7dbfe24bfe960c5bd3fa952b5f\");\n",
       "    }\n",
       "    const paths = {\n",
       "      \"vega\": \"https://cdn.jsdelivr.net/npm//vega@5?noext\",\n",
       "      \"vega-lib\": \"https://cdn.jsdelivr.net/npm//vega-lib?noext\",\n",
       "      \"vega-lite\": \"https://cdn.jsdelivr.net/npm//vega-lite@4.17.0?noext\",\n",
       "      \"vega-embed\": \"https://cdn.jsdelivr.net/npm//vega-embed@6?noext\",\n",
       "    };\n",
       "\n",
       "    function maybeLoadScript(lib, version) {\n",
       "      var key = `${lib.replace(\"-\", \"\")}_version`;\n",
       "      return (VEGA_DEBUG[key] == version) ?\n",
       "        Promise.resolve(paths[lib]) :\n",
       "        new Promise(function(resolve, reject) {\n",
       "          var s = document.createElement('script');\n",
       "          document.getElementsByTagName(\"head\")[0].appendChild(s);\n",
       "          s.async = true;\n",
       "          s.onload = () => {\n",
       "            VEGA_DEBUG[key] = version;\n",
       "            return resolve(paths[lib]);\n",
       "          };\n",
       "          s.onerror = () => reject(`Error loading script: ${paths[lib]}`);\n",
       "          s.src = paths[lib];\n",
       "        });\n",
       "    }\n",
       "\n",
       "    function showError(err) {\n",
       "      outputDiv.innerHTML = `<div class=\"error\" style=\"color:red;\">${err}</div>`;\n",
       "      throw err;\n",
       "    }\n",
       "\n",
       "    function displayChart(vegaEmbed) {\n",
       "      vegaEmbed(outputDiv, spec, embedOpt)\n",
       "        .catch(err => showError(`Javascript Error: ${err.message}<br>This usually means there's a typo in your chart specification. See the javascript console for the full traceback.`));\n",
       "    }\n",
       "\n",
       "    if(typeof define === \"function\" && define.amd) {\n",
       "      requirejs.config({paths});\n",
       "      require([\"vega-embed\"], displayChart, err => showError(`Error loading script: ${err.message}`));\n",
       "    } else {\n",
       "      maybeLoadScript(\"vega\", \"5\")\n",
       "        .then(() => maybeLoadScript(\"vega-lite\", \"4.17.0\"))\n",
       "        .then(() => maybeLoadScript(\"vega-embed\", \"6\"))\n",
       "        .catch(showError)\n",
       "        .then(() => displayChart(vegaEmbed));\n",
       "    }\n",
       "  })({\"config\": {\"view\": {\"continuousWidth\": 400, \"continuousHeight\": 300, \"stroke\": null}, \"facet\": {\"spacing\": 0}}, \"data\": {\"name\": \"data-10f8d4e3ae4633c4ddb57a3ed5e00ba9\"}, \"facet\": {\"column\": {\"field\": \"route_id\", \"sort\": [\"95\"], \"title\": \"Route ID\", \"type\": \"nominal\"}}, \"spec\": {\"layer\": [{\"mark\": \"rule\", \"encoding\": {\"color\": {\"value\": \"black\"}, \"y\": {\"field\": \"cutoff\", \"type\": \"quantitative\"}}, \"selection\": {\"selector003\": {\"type\": \"interval\", \"bind\": \"scales\", \"encodings\": [\"x\", \"y\"]}}}, {\"mark\": {\"type\": \"point\", \"opacity\": 0.65, \"size\": 12, \"strokeWidth\": 1.1}, \"encoding\": {\"color\": {\"field\": \"time_of_day\", \"scale\": {\"range\": [\"#136C97\", \"#E16B26\", \"#F6BF16\", \"#00896B\", \"#7790A3\", \"#5B559C\"]}, \"sort\": [\"AM Peak\", \"Midday\", \"PM Peak\", \"Owl Service\"], \"title\": \"Time of Day\", \"type\": \"nominal\"}, \"tooltip\": [{\"field\": \"route_id\", \"type\": \"nominal\"}, {\"field\": \"route_name\", \"type\": \"nominal\"}, {\"field\": \"trip_id\", \"type\": \"nominal\"}, {\"field\": \"service_hours\", \"type\": \"quantitative\"}, {\"field\": \"car_duration_hours\", \"type\": \"quantitative\"}, {\"field\": \"bus_multiplier\", \"type\": \"quantitative\"}, {\"field\": \"bus_difference\", \"type\": \"quantitative\"}, {\"field\": \"num_trips\", \"type\": \"quantitative\"}, {\"field\": \"num_competitive\", \"type\": \"quantitative\"}, {\"field\": \"pct_trips_competitive\", \"type\": \"quantitative\"}, {\"field\": \"pct_below_cutoff\", \"type\": \"quantitative\"}, {\"field\": \"p25\", \"type\": \"quantitative\"}, {\"field\": \"p50\", \"type\": \"quantitative\"}, {\"field\": \"p75\", \"type\": \"quantitative\"}], \"x\": {\"axis\": {\"grid\": false, \"labels\": false, \"ticks\": true, \"values\": [0]}, \"field\": \"jitter\", \"scale\": {}, \"title\": null, \"type\": \"quantitative\"}, \"y\": {\"field\": \"bus_multiplier\", \"scale\": {\"domain\": [0, 3.0]}, \"title\": \"Ratio of Bus to Car Travel Time\", \"type\": \"quantitative\"}}, \"transform\": [{\"calculate\": \"sqrt(-2*log(random()))*cos(2*PI*random())\", \"as\": \"jitter\"}], \"width\": 50}, {\"layer\": [{\"mark\": {\"type\": \"point\", \"opacity\": 0.6, \"size\": 20, \"strokeWidth\": 1.3}, \"encoding\": {\"color\": {\"value\": \"#323434\"}, \"y\": {\"field\": \"bus_multiplier\", \"type\": \"quantitative\"}}, \"transform\": [{\"filter\": \"(datum.p50_trip === 1)\"}]}, {\"mark\": {\"type\": \"text\", \"align\": \"center\", \"baseline\": \"middle\"}, \"encoding\": {\"color\": {\"value\": \"black\"}, \"text\": {\"field\": \"pct_trips_competitive\", \"format\": \".0%\", \"type\": \"quantitative\"}, \"tooltip\": [{\"field\": \"route_id\", \"type\": \"nominal\"}, {\"field\": \"route_name\", \"type\": \"nominal\"}, {\"field\": \"trip_id\", \"type\": \"nominal\"}, {\"field\": \"service_hours\", \"type\": \"quantitative\"}, {\"field\": \"car_duration_hours\", \"type\": \"quantitative\"}, {\"field\": \"bus_multiplier\", \"type\": \"quantitative\"}, {\"field\": \"bus_difference\", \"type\": \"quantitative\"}, {\"field\": \"num_trips\", \"type\": \"quantitative\"}, {\"field\": \"num_competitive\", \"type\": \"quantitative\"}, {\"field\": \"pct_trips_competitive\", \"type\": \"quantitative\"}, {\"field\": \"pct_below_cutoff\", \"type\": \"quantitative\"}, {\"field\": \"p25\", \"type\": \"quantitative\"}, {\"field\": \"p50\", \"type\": \"quantitative\"}, {\"field\": \"p75\", \"type\": \"quantitative\"}], \"x\": {\"value\": 30}, \"y\": {\"value\": 15}}, \"transform\": [{\"calculate\": \"sqrt(-2*log(random()))*cos(2*PI*random())\", \"as\": \"jitter\"}, {\"filter\": \"(datum.fastest_trip === 1)\"}]}]}]}, \"resolve\": {\"scale\": {\"y\": \"shared\"}}, \"title\": \"Ratio of Bus to Car Travel Time\", \"$schema\": \"https://vega.github.io/schema/vega-lite/v4.17.0.json\", \"datasets\": {\"data-10f8d4e3ae4633c4ddb57a3ed5e00ba9\": [{\"calitp_itp_id\": 284, \"trip_key\": -8319388681772766424, \"trip_id\": \"255760\", \"shape_id\": \"32094\", \"route_id\": \"95\", \"service_hours\": 1.0, \"trip_first_departure_ts\": 58500, \"trip_last_arrival_ts\": 62100, \"departure_hour\": 16, \"time_of_day\": \"Midday\", \"p25\": 1.0, \"p50\": 1.04, \"p75\": 1.08, \"p50_trip\": 1, \"fastest_trip\": 1, \"car_duration_hours\": 0.68, \"competitive_route\": 1, \"bus_multiplier\": 1.47, \"bus_difference\": 19.2, \"num_trips\": 6, \"num_competitive\": 6, \"pct_trips_competitive\": 1.0, \"bus_difference_spread\": 4.800000000000001, \"route_group\": \"medium\", \"max_trip_hrs\": 1.08, \"max_trip_route_group\": 1.08, \"below_cutoff\": 6, \"pct_below_cutoff\": 1.0, \"name\": \"San Joaquin Regional Transit District\", \"caltrans_district\": \"10 - Stockton\", \"drmt_organization_name\": \"['recBXxWghAGPPIwaR']\", \"route_name\": \"Stockton-Manteca-Escalon-Modesto\", \"cutoff2\": 30, \"cutoff\": 2}, {\"calitp_itp_id\": 284, \"trip_key\": 8897370452835123154, \"trip_id\": \"255764\", \"shape_id\": \"32095\", \"route_id\": \"95\", \"service_hours\": 1.0, \"trip_first_departure_ts\": 26100, \"trip_last_arrival_ts\": 29700, \"departure_hour\": 7, \"time_of_day\": \"AM Peak\", \"p25\": 1.0, \"p50\": 1.04, \"p75\": 1.08, \"p50_trip\": 1, \"fastest_trip\": 0, \"car_duration_hours\": 0.68, \"competitive_route\": 1, \"bus_multiplier\": 1.47, \"bus_difference\": 19.2, \"num_trips\": 6, \"num_competitive\": 6, \"pct_trips_competitive\": 1.0, \"bus_difference_spread\": 4.800000000000001, \"route_group\": \"medium\", \"max_trip_hrs\": 1.08, \"max_trip_route_group\": 1.08, \"below_cutoff\": 6, \"pct_below_cutoff\": 1.0, \"name\": \"San Joaquin Regional Transit District\", \"caltrans_district\": \"10 - Stockton\", \"drmt_organization_name\": \"['recBXxWghAGPPIwaR']\", \"route_name\": \"Stockton-Manteca-Escalon-Modesto\", \"cutoff2\": 30, \"cutoff\": 2}, {\"calitp_itp_id\": 284, \"trip_key\": -7971334978225718517, \"trip_id\": \"255761\", \"shape_id\": \"32095\", \"route_id\": \"95\", \"service_hours\": 1.0, \"trip_first_departure_ts\": 54900, \"trip_last_arrival_ts\": 58500, \"departure_hour\": 15, \"time_of_day\": \"Midday\", \"p25\": 1.0, \"p50\": 1.04, \"p75\": 1.08, \"p50_trip\": 1, \"fastest_trip\": 0, \"car_duration_hours\": 0.68, \"competitive_route\": 1, \"bus_multiplier\": 1.47, \"bus_difference\": 19.2, \"num_trips\": 6, \"num_competitive\": 6, \"pct_trips_competitive\": 1.0, \"bus_difference_spread\": 4.800000000000001, \"route_group\": \"medium\", \"max_trip_hrs\": 1.08, \"max_trip_route_group\": 1.08, \"below_cutoff\": 6, \"pct_below_cutoff\": 1.0, \"name\": \"San Joaquin Regional Transit District\", \"caltrans_district\": \"10 - Stockton\", \"drmt_organization_name\": \"['recBXxWghAGPPIwaR']\", \"route_name\": \"Stockton-Manteca-Escalon-Modesto\", \"cutoff2\": 30, \"cutoff\": 2}, {\"calitp_itp_id\": 284, \"trip_key\": 7036053059022292055, \"trip_id\": \"255756\", \"shape_id\": \"32092\", \"route_id\": \"95\", \"service_hours\": 1.08, \"trip_first_departure_ts\": 59100, \"trip_last_arrival_ts\": 63000, \"departure_hour\": 16, \"time_of_day\": \"Midday\", \"p25\": 1.0, \"p50\": 1.04, \"p75\": 1.08, \"p50_trip\": 1, \"fastest_trip\": 0, \"car_duration_hours\": 0.68, \"competitive_route\": 1, \"bus_multiplier\": 1.59, \"bus_difference\": 24.0, \"num_trips\": 6, \"num_competitive\": 6, \"pct_trips_competitive\": 1.0, \"bus_difference_spread\": 4.800000000000001, \"route_group\": \"medium\", \"max_trip_hrs\": 1.08, \"max_trip_route_group\": 1.08, \"below_cutoff\": 6, \"pct_below_cutoff\": 1.0, \"name\": \"San Joaquin Regional Transit District\", \"caltrans_district\": \"10 - Stockton\", \"drmt_organization_name\": \"['recBXxWghAGPPIwaR']\", \"route_name\": \"Stockton-Manteca-Escalon-Modesto\", \"cutoff2\": 30, \"cutoff\": 2}, {\"calitp_itp_id\": 284, \"trip_key\": 4792969033062920049, \"trip_id\": \"255759\", \"shape_id\": \"32093\", \"route_id\": \"95\", \"service_hours\": 1.08, \"trip_first_departure_ts\": 30300, \"trip_last_arrival_ts\": 34200, \"departure_hour\": 8, \"time_of_day\": \"AM Peak\", \"p25\": 1.0, \"p50\": 1.04, \"p75\": 1.08, \"p50_trip\": 1, \"fastest_trip\": 0, \"car_duration_hours\": 0.68, \"competitive_route\": 1, \"bus_multiplier\": 1.59, \"bus_difference\": 24.0, \"num_trips\": 6, \"num_competitive\": 6, \"pct_trips_competitive\": 1.0, \"bus_difference_spread\": 4.800000000000001, \"route_group\": \"medium\", \"max_trip_hrs\": 1.08, \"max_trip_route_group\": 1.08, \"below_cutoff\": 6, \"pct_below_cutoff\": 1.0, \"name\": \"San Joaquin Regional Transit District\", \"caltrans_district\": \"10 - Stockton\", \"drmt_organization_name\": \"['recBXxWghAGPPIwaR']\", \"route_name\": \"Stockton-Manteca-Escalon-Modesto\", \"cutoff2\": 30, \"cutoff\": 2}, {\"calitp_itp_id\": 284, \"trip_key\": -5876280846990251405, \"trip_id\": \"255755\", \"shape_id\": \"32092\", \"route_id\": \"95\", \"service_hours\": 1.08, \"trip_first_departure_ts\": 62700, \"trip_last_arrival_ts\": 66600, \"departure_hour\": 17, \"time_of_day\": \"PM Peak\", \"p25\": 1.0, \"p50\": 1.04, \"p75\": 1.08, \"p50_trip\": 1, \"fastest_trip\": 0, \"car_duration_hours\": 0.68, \"competitive_route\": 1, \"bus_multiplier\": 1.59, \"bus_difference\": 24.0, \"num_trips\": 6, \"num_competitive\": 6, \"pct_trips_competitive\": 1.0, \"bus_difference_spread\": 4.800000000000001, \"route_group\": \"medium\", \"max_trip_hrs\": 1.08, \"max_trip_route_group\": 1.08, \"below_cutoff\": 6, \"pct_below_cutoff\": 1.0, \"name\": \"San Joaquin Regional Transit District\", \"caltrans_district\": \"10 - Stockton\", \"drmt_organization_name\": \"['recBXxWghAGPPIwaR']\", \"route_name\": \"Stockton-Manteca-Escalon-Modesto\", \"cutoff2\": 30, \"cutoff\": 2}]}}, {\"mode\": \"vega-lite\"});\n",
       "</script>"
      ],
      "text/plain": [
       "alt.FacetChart(...)"
      ]
     },
     "metadata": {},
     "output_type": "display_data"
    },
    {
     "data": {
      "text/html": [
       "\n",
       "<div id=\"altair-viz-6b64a0e63f98444fb313f39b4d5f8725\"></div>\n",
       "<script type=\"text/javascript\">\n",
       "  var VEGA_DEBUG = (typeof VEGA_DEBUG == \"undefined\") ? {} : VEGA_DEBUG;\n",
       "  (function(spec, embedOpt){\n",
       "    let outputDiv = document.currentScript.previousElementSibling;\n",
       "    if (outputDiv.id !== \"altair-viz-6b64a0e63f98444fb313f39b4d5f8725\") {\n",
       "      outputDiv = document.getElementById(\"altair-viz-6b64a0e63f98444fb313f39b4d5f8725\");\n",
       "    }\n",
       "    const paths = {\n",
       "      \"vega\": \"https://cdn.jsdelivr.net/npm//vega@5?noext\",\n",
       "      \"vega-lib\": \"https://cdn.jsdelivr.net/npm//vega-lib?noext\",\n",
       "      \"vega-lite\": \"https://cdn.jsdelivr.net/npm//vega-lite@4.17.0?noext\",\n",
       "      \"vega-embed\": \"https://cdn.jsdelivr.net/npm//vega-embed@6?noext\",\n",
       "    };\n",
       "\n",
       "    function maybeLoadScript(lib, version) {\n",
       "      var key = `${lib.replace(\"-\", \"\")}_version`;\n",
       "      return (VEGA_DEBUG[key] == version) ?\n",
       "        Promise.resolve(paths[lib]) :\n",
       "        new Promise(function(resolve, reject) {\n",
       "          var s = document.createElement('script');\n",
       "          document.getElementsByTagName(\"head\")[0].appendChild(s);\n",
       "          s.async = true;\n",
       "          s.onload = () => {\n",
       "            VEGA_DEBUG[key] = version;\n",
       "            return resolve(paths[lib]);\n",
       "          };\n",
       "          s.onerror = () => reject(`Error loading script: ${paths[lib]}`);\n",
       "          s.src = paths[lib];\n",
       "        });\n",
       "    }\n",
       "\n",
       "    function showError(err) {\n",
       "      outputDiv.innerHTML = `<div class=\"error\" style=\"color:red;\">${err}</div>`;\n",
       "      throw err;\n",
       "    }\n",
       "\n",
       "    function displayChart(vegaEmbed) {\n",
       "      vegaEmbed(outputDiv, spec, embedOpt)\n",
       "        .catch(err => showError(`Javascript Error: ${err.message}<br>This usually means there's a typo in your chart specification. See the javascript console for the full traceback.`));\n",
       "    }\n",
       "\n",
       "    if(typeof define === \"function\" && define.amd) {\n",
       "      requirejs.config({paths});\n",
       "      require([\"vega-embed\"], displayChart, err => showError(`Error loading script: ${err.message}`));\n",
       "    } else {\n",
       "      maybeLoadScript(\"vega\", \"5\")\n",
       "        .then(() => maybeLoadScript(\"vega-lite\", \"4.17.0\"))\n",
       "        .then(() => maybeLoadScript(\"vega-embed\", \"6\"))\n",
       "        .catch(showError)\n",
       "        .then(() => displayChart(vegaEmbed));\n",
       "    }\n",
       "  })({\"config\": {\"view\": {\"continuousWidth\": 400, \"continuousHeight\": 300, \"stroke\": null}, \"facet\": {\"spacing\": 0}}, \"data\": {\"name\": \"data-4f3486c535bd6b3928b6f8d86a40b40f\"}, \"facet\": {\"column\": {\"field\": \"route_id\", \"sort\": [\"95\"], \"title\": \"Route ID\", \"type\": \"nominal\"}}, \"spec\": {\"layer\": [{\"mark\": \"rule\", \"encoding\": {\"color\": {\"value\": \"black\"}, \"y\": {\"field\": \"cutoff\", \"type\": \"quantitative\"}}, \"selection\": {\"selector004\": {\"type\": \"interval\", \"bind\": \"scales\", \"encodings\": [\"x\", \"y\"]}}}, {\"mark\": {\"type\": \"rule\", \"strokeDash\": [3, 3]}, \"encoding\": {\"color\": {\"value\": \"#323434\"}, \"y\": {\"field\": \"cutoff2\", \"type\": \"quantitative\"}}}, {\"mark\": {\"type\": \"point\", \"opacity\": 0.65, \"size\": 12, \"strokeWidth\": 1.1}, \"encoding\": {\"color\": {\"field\": \"time_of_day\", \"scale\": {\"range\": [\"#136C97\", \"#E16B26\", \"#F6BF16\", \"#00896B\", \"#7790A3\", \"#5B559C\"]}, \"sort\": [\"AM Peak\", \"Midday\", \"PM Peak\", \"Owl Service\"], \"title\": \"Time of Day\", \"type\": \"nominal\"}, \"tooltip\": [{\"field\": \"route_id\", \"type\": \"nominal\"}, {\"field\": \"route_name\", \"type\": \"nominal\"}, {\"field\": \"trip_id\", \"type\": \"nominal\"}, {\"field\": \"service_hours\", \"type\": \"quantitative\"}, {\"field\": \"car_duration_hours\", \"type\": \"quantitative\"}, {\"field\": \"bus_multiplier\", \"type\": \"quantitative\"}, {\"field\": \"bus_difference\", \"type\": \"quantitative\"}, {\"field\": \"num_trips\", \"type\": \"quantitative\"}, {\"field\": \"num_competitive\", \"type\": \"quantitative\"}, {\"field\": \"pct_trips_competitive\", \"type\": \"quantitative\"}, {\"field\": \"pct_below_cutoff\", \"type\": \"quantitative\"}, {\"field\": \"p25\", \"type\": \"quantitative\"}, {\"field\": \"p50\", \"type\": \"quantitative\"}, {\"field\": \"p75\", \"type\": \"quantitative\"}], \"x\": {\"axis\": {\"grid\": false, \"labels\": false, \"ticks\": true, \"values\": [0]}, \"field\": \"jitter\", \"scale\": {}, \"title\": null, \"type\": \"quantitative\"}, \"y\": {\"field\": \"bus_difference\", \"scale\": {\"domain\": [-5, 46.2]}, \"title\": \"Difference in Bus to Car Travel Time (min)\", \"type\": \"quantitative\"}}, \"transform\": [{\"calculate\": \"sqrt(-2*log(random()))*cos(2*PI*random())\", \"as\": \"jitter\"}], \"width\": 50}, {\"layer\": [{\"mark\": {\"type\": \"point\", \"opacity\": 0.6, \"size\": 20, \"strokeWidth\": 1.3}, \"encoding\": {\"color\": {\"value\": \"#323434\"}, \"y\": {\"field\": \"bus_difference\", \"type\": \"quantitative\"}}, \"transform\": [{\"filter\": \"(datum.p50_trip === 1)\"}]}, {\"mark\": {\"type\": \"text\", \"align\": \"center\", \"baseline\": \"middle\"}, \"encoding\": {\"color\": {\"value\": \"black\"}, \"text\": {\"field\": \"pct_trips_competitive\", \"format\": \".0%\", \"type\": \"quantitative\"}, \"tooltip\": [{\"field\": \"route_id\", \"type\": \"nominal\"}, {\"field\": \"route_name\", \"type\": \"nominal\"}, {\"field\": \"trip_id\", \"type\": \"nominal\"}, {\"field\": \"service_hours\", \"type\": \"quantitative\"}, {\"field\": \"car_duration_hours\", \"type\": \"quantitative\"}, {\"field\": \"bus_multiplier\", \"type\": \"quantitative\"}, {\"field\": \"bus_difference\", \"type\": \"quantitative\"}, {\"field\": \"num_trips\", \"type\": \"quantitative\"}, {\"field\": \"num_competitive\", \"type\": \"quantitative\"}, {\"field\": \"pct_trips_competitive\", \"type\": \"quantitative\"}, {\"field\": \"pct_below_cutoff\", \"type\": \"quantitative\"}, {\"field\": \"p25\", \"type\": \"quantitative\"}, {\"field\": \"p50\", \"type\": \"quantitative\"}, {\"field\": \"p75\", \"type\": \"quantitative\"}], \"x\": {\"value\": 30}, \"y\": {\"value\": 15}}, \"transform\": [{\"calculate\": \"sqrt(-2*log(random()))*cos(2*PI*random())\", \"as\": \"jitter\"}, {\"filter\": \"(datum.fastest_trip === 1)\"}]}]}]}, \"resolve\": {\"scale\": {\"y\": \"shared\"}}, \"title\": \"Difference in Bus to Car Travel Time (min)\", \"$schema\": \"https://vega.github.io/schema/vega-lite/v4.17.0.json\", \"datasets\": {\"data-4f3486c535bd6b3928b6f8d86a40b40f\": [{\"calitp_itp_id\": 284, \"trip_key\": -8319388681772766424, \"trip_id\": \"255760\", \"shape_id\": \"32094\", \"route_id\": \"95\", \"service_hours\": 1.0, \"trip_first_departure_ts\": 58500, \"trip_last_arrival_ts\": 62100, \"departure_hour\": 16, \"time_of_day\": \"Midday\", \"p25\": 1.0, \"p50\": 1.04, \"p75\": 1.08, \"p50_trip\": 1, \"fastest_trip\": 1, \"car_duration_hours\": 0.68, \"competitive_route\": 1, \"bus_multiplier\": 1.47, \"bus_difference\": 19.2, \"num_trips\": 6, \"num_competitive\": 6, \"pct_trips_competitive\": 1.0, \"bus_difference_spread\": 4.800000000000001, \"route_group\": \"medium\", \"max_trip_hrs\": 1.08, \"max_trip_route_group\": 1.08, \"below_cutoff\": 6, \"pct_below_cutoff\": 1.0, \"name\": \"San Joaquin Regional Transit District\", \"caltrans_district\": \"10 - Stockton\", \"drmt_organization_name\": \"['recBXxWghAGPPIwaR']\", \"route_name\": \"Stockton-Manteca-Escalon-Modesto\", \"cutoff2\": 30, \"cutoff\": 0}, {\"calitp_itp_id\": 284, \"trip_key\": 8897370452835123154, \"trip_id\": \"255764\", \"shape_id\": \"32095\", \"route_id\": \"95\", \"service_hours\": 1.0, \"trip_first_departure_ts\": 26100, \"trip_last_arrival_ts\": 29700, \"departure_hour\": 7, \"time_of_day\": \"AM Peak\", \"p25\": 1.0, \"p50\": 1.04, \"p75\": 1.08, \"p50_trip\": 1, \"fastest_trip\": 0, \"car_duration_hours\": 0.68, \"competitive_route\": 1, \"bus_multiplier\": 1.47, \"bus_difference\": 19.2, \"num_trips\": 6, \"num_competitive\": 6, \"pct_trips_competitive\": 1.0, \"bus_difference_spread\": 4.800000000000001, \"route_group\": \"medium\", \"max_trip_hrs\": 1.08, \"max_trip_route_group\": 1.08, \"below_cutoff\": 6, \"pct_below_cutoff\": 1.0, \"name\": \"San Joaquin Regional Transit District\", \"caltrans_district\": \"10 - Stockton\", \"drmt_organization_name\": \"['recBXxWghAGPPIwaR']\", \"route_name\": \"Stockton-Manteca-Escalon-Modesto\", \"cutoff2\": 30, \"cutoff\": 0}, {\"calitp_itp_id\": 284, \"trip_key\": -7971334978225718517, \"trip_id\": \"255761\", \"shape_id\": \"32095\", \"route_id\": \"95\", \"service_hours\": 1.0, \"trip_first_departure_ts\": 54900, \"trip_last_arrival_ts\": 58500, \"departure_hour\": 15, \"time_of_day\": \"Midday\", \"p25\": 1.0, \"p50\": 1.04, \"p75\": 1.08, \"p50_trip\": 1, \"fastest_trip\": 0, \"car_duration_hours\": 0.68, \"competitive_route\": 1, \"bus_multiplier\": 1.47, \"bus_difference\": 19.2, \"num_trips\": 6, \"num_competitive\": 6, \"pct_trips_competitive\": 1.0, \"bus_difference_spread\": 4.800000000000001, \"route_group\": \"medium\", \"max_trip_hrs\": 1.08, \"max_trip_route_group\": 1.08, \"below_cutoff\": 6, \"pct_below_cutoff\": 1.0, \"name\": \"San Joaquin Regional Transit District\", \"caltrans_district\": \"10 - Stockton\", \"drmt_organization_name\": \"['recBXxWghAGPPIwaR']\", \"route_name\": \"Stockton-Manteca-Escalon-Modesto\", \"cutoff2\": 30, \"cutoff\": 0}, {\"calitp_itp_id\": 284, \"trip_key\": 7036053059022292055, \"trip_id\": \"255756\", \"shape_id\": \"32092\", \"route_id\": \"95\", \"service_hours\": 1.08, \"trip_first_departure_ts\": 59100, \"trip_last_arrival_ts\": 63000, \"departure_hour\": 16, \"time_of_day\": \"Midday\", \"p25\": 1.0, \"p50\": 1.04, \"p75\": 1.08, \"p50_trip\": 1, \"fastest_trip\": 0, \"car_duration_hours\": 0.68, \"competitive_route\": 1, \"bus_multiplier\": 1.59, \"bus_difference\": 24.0, \"num_trips\": 6, \"num_competitive\": 6, \"pct_trips_competitive\": 1.0, \"bus_difference_spread\": 4.800000000000001, \"route_group\": \"medium\", \"max_trip_hrs\": 1.08, \"max_trip_route_group\": 1.08, \"below_cutoff\": 6, \"pct_below_cutoff\": 1.0, \"name\": \"San Joaquin Regional Transit District\", \"caltrans_district\": \"10 - Stockton\", \"drmt_organization_name\": \"['recBXxWghAGPPIwaR']\", \"route_name\": \"Stockton-Manteca-Escalon-Modesto\", \"cutoff2\": 30, \"cutoff\": 0}, {\"calitp_itp_id\": 284, \"trip_key\": 4792969033062920049, \"trip_id\": \"255759\", \"shape_id\": \"32093\", \"route_id\": \"95\", \"service_hours\": 1.08, \"trip_first_departure_ts\": 30300, \"trip_last_arrival_ts\": 34200, \"departure_hour\": 8, \"time_of_day\": \"AM Peak\", \"p25\": 1.0, \"p50\": 1.04, \"p75\": 1.08, \"p50_trip\": 1, \"fastest_trip\": 0, \"car_duration_hours\": 0.68, \"competitive_route\": 1, \"bus_multiplier\": 1.59, \"bus_difference\": 24.0, \"num_trips\": 6, \"num_competitive\": 6, \"pct_trips_competitive\": 1.0, \"bus_difference_spread\": 4.800000000000001, \"route_group\": \"medium\", \"max_trip_hrs\": 1.08, \"max_trip_route_group\": 1.08, \"below_cutoff\": 6, \"pct_below_cutoff\": 1.0, \"name\": \"San Joaquin Regional Transit District\", \"caltrans_district\": \"10 - Stockton\", \"drmt_organization_name\": \"['recBXxWghAGPPIwaR']\", \"route_name\": \"Stockton-Manteca-Escalon-Modesto\", \"cutoff2\": 30, \"cutoff\": 0}, {\"calitp_itp_id\": 284, \"trip_key\": -5876280846990251405, \"trip_id\": \"255755\", \"shape_id\": \"32092\", \"route_id\": \"95\", \"service_hours\": 1.08, \"trip_first_departure_ts\": 62700, \"trip_last_arrival_ts\": 66600, \"departure_hour\": 17, \"time_of_day\": \"PM Peak\", \"p25\": 1.0, \"p50\": 1.04, \"p75\": 1.08, \"p50_trip\": 1, \"fastest_trip\": 0, \"car_duration_hours\": 0.68, \"competitive_route\": 1, \"bus_multiplier\": 1.59, \"bus_difference\": 24.0, \"num_trips\": 6, \"num_competitive\": 6, \"pct_trips_competitive\": 1.0, \"bus_difference_spread\": 4.800000000000001, \"route_group\": \"medium\", \"max_trip_hrs\": 1.08, \"max_trip_route_group\": 1.08, \"below_cutoff\": 6, \"pct_below_cutoff\": 1.0, \"name\": \"San Joaquin Regional Transit District\", \"caltrans_district\": \"10 - Stockton\", \"drmt_organization_name\": \"['recBXxWghAGPPIwaR']\", \"route_name\": \"Stockton-Manteca-Escalon-Modesto\", \"cutoff2\": 30, \"cutoff\": 0}]}}, {\"mode\": \"vega-lite\"});\n",
       "</script>"
      ],
      "text/plain": [
       "alt.FacetChart(...)"
      ]
     },
     "metadata": {},
     "output_type": "display_data"
    },
    {
     "data": {
      "text/html": [
       "<h4>Route Stats</h4>"
      ],
      "text/plain": [
       "<IPython.core.display.HTML object>"
      ]
     },
     "metadata": {},
     "output_type": "display_data"
    },
    {
     "data": {
      "text/html": [
       "<style type=\"text/css\">\n",
       "#T_06658 th {\n",
       "  text-align: center;\n",
       "}\n",
       "#T_06658_row0_col0, #T_06658_row0_col1 {\n",
       "  text-align: left;\n",
       "}\n",
       "#T_06658_row0_col2, #T_06658_row0_col3, #T_06658_row0_col5 {\n",
       "  text-align: center;\n",
       "}\n",
       "</style>\n",
       "<table id=\"T_06658\">\n",
       "  <thead>\n",
       "    <tr>\n",
       "      <th id=\"T_06658_level0_col0\" class=\"col_heading level0 col0\" >Route ID</th>\n",
       "      <th id=\"T_06658_level0_col1\" class=\"col_heading level0 col1\" >Route Name</th>\n",
       "      <th id=\"T_06658_level0_col2\" class=\"col_heading level0 col2\" ># trips</th>\n",
       "      <th id=\"T_06658_level0_col3\" class=\"col_heading level0 col3\" >Daily Avg Freq (trips per hr)</th>\n",
       "      <th id=\"T_06658_level0_col4\" class=\"col_heading level0 col4\" >25th, 50th, 75th ptile (hrs)</th>\n",
       "      <th id=\"T_06658_level0_col5\" class=\"col_heading level0 col5\" >PM Peak Avg Freq (trips per hr)</th>\n",
       "    </tr>\n",
       "  </thead>\n",
       "  <tbody>\n",
       "    <tr>\n",
       "      <td id=\"T_06658_row0_col0\" class=\"data row0 col0\" >95</td>\n",
       "      <td id=\"T_06658_row0_col1\" class=\"data row0 col1\" >Stockton-Manteca-Escalon-Modesto</td>\n",
       "      <td id=\"T_06658_row0_col2\" class=\"data row0 col2\" >6</td>\n",
       "      <td id=\"T_06658_row0_col3\" class=\"data row0 col3\" >0.25</td>\n",
       "      <td id=\"T_06658_row0_col4\" class=\"data row0 col4\" >1.0, 1.04, 1.08</td>\n",
       "      <td id=\"T_06658_row0_col5\" class=\"data row0 col5\" >0.33</td>\n",
       "    </tr>\n",
       "  </tbody>\n",
       "</table>\n"
      ],
      "text/plain": [
       "<IPython.core.display.HTML object>"
      ]
     },
     "metadata": {},
     "output_type": "display_data"
    }
   ],
   "source": [
    "route_group = \"medium\"\n",
    "try:\n",
    "    display_charts_for_route_group(df, route_group)\n",
    "except:\n",
    "    print(\"No routes meet this criteria.\")"
   ]
  },
  {
   "cell_type": "markdown",
   "id": "124b76d0-886c-4d03-92ac-f1bda3cda182",
   "metadata": {
    "papermill": {
     "duration": 0.021355,
     "end_time": "2022-05-12T19:51:50.723458",
     "exception": false,
     "start_time": "2022-05-12T19:51:50.702103",
     "status": "completed"
    },
    "tags": []
   },
   "source": [
    "### Long Routes (> 1.5 hrs)"
   ]
  },
  {
   "cell_type": "code",
   "execution_count": 16,
   "id": "ddc81b19-4c45-4c81-8b7a-5e0f394aa7a3",
   "metadata": {
    "execution": {
     "iopub.execute_input": "2022-05-12T19:51:50.769648Z",
     "iopub.status.busy": "2022-05-12T19:51:50.769378Z",
     "iopub.status.idle": "2022-05-12T19:51:50.783549Z",
     "shell.execute_reply": "2022-05-12T19:51:50.782755Z"
    },
    "jupyter": {
     "source_hidden": true
    },
    "papermill": {
     "duration": 0.039848,
     "end_time": "2022-05-12T19:51:50.785343",
     "exception": false,
     "start_time": "2022-05-12T19:51:50.745495",
     "status": "completed"
    },
    "tags": [
     "remove_input"
    ]
   },
   "outputs": [
    {
     "name": "stdout",
     "output_type": "stream",
     "text": [
      "No routes meet this criteria.\n"
     ]
    }
   ],
   "source": [
    "route_group = \"long\"\n",
    "try:\n",
    "    display_charts_for_route_group(df, route_group)\n",
    "except:\n",
    "    print(\"No routes meet this criteria.\")"
   ]
  },
  {
   "cell_type": "markdown",
   "id": "ace75b5f-0442-4fbe-aebd-6c3a13ae13a7",
   "metadata": {
    "papermill": {
     "duration": 0.021697,
     "end_time": "2022-05-12T19:51:50.830516",
     "exception": false,
     "start_time": "2022-05-12T19:51:50.808819",
     "status": "completed"
    },
    "tags": []
   },
   "source": [
    "### GTFS Real-Time Speedmaps"
   ]
  },
  {
   "cell_type": "code",
   "execution_count": 17,
   "id": "a0a114a1-e975-4027-9daf-50029f5ef59f",
   "metadata": {
    "execution": {
     "iopub.execute_input": "2022-05-12T19:51:50.876637Z",
     "iopub.status.busy": "2022-05-12T19:51:50.875908Z",
     "iopub.status.idle": "2022-05-12T19:51:50.902814Z",
     "shell.execute_reply": "2022-05-12T19:51:50.902102Z"
    },
    "jupyter": {
     "source_hidden": true
    },
    "papermill": {
     "duration": 0.052595,
     "end_time": "2022-05-12T19:51:50.904610",
     "exception": false,
     "start_time": "2022-05-12T19:51:50.852015",
     "status": "completed"
    },
    "tags": [
     "remove_input"
    ]
   },
   "outputs": [
    {
     "data": {
      "text/html": [
       "<a href=https://analysis.calitp.org/rt/district_10-stockton/speedmaps__itp_id_284.html>GTFS RT speedmaps here.</a>"
      ],
      "text/plain": [
       "<IPython.core.display.HTML object>"
      ]
     },
     "metadata": {},
     "output_type": "display_data"
    }
   ],
   "source": [
    "RT_SITE_YAML = \"../portfolio/sites/rt.yml\"\n",
    "\n",
    "# Grab list of ITP IDs with GTFS RT speedmaps\n",
    "rt_itp_id = deploy_portfolio_yaml.check_if_rt_data_available(RT_SITE_YAML)\n",
    "\n",
    "# Construct the URL \n",
    "RT_URL = (\"https://analysis.calitp.org/rt/\"\n",
    "          f\"district_{district_number}-{district_name}/\"\n",
    "          f\"speedmaps__itp_id_{itp_id}.html\"\n",
    "         ) \n",
    "\n",
    "# If this ITP ID is found in RT analysis, give URL to that operator in analysis.calitp.org\n",
    "if itp_id in rt_itp_id:\n",
    "    display(HTML(f'''<a href={RT_URL}>GTFS RT speedmaps here.</a>'''))\n",
    "\n",
    "else:\n",
    "    display(HTML(\"No GTFS RT data available.\"))"
   ]
  },
  {
   "cell_type": "code",
   "execution_count": null,
   "id": "5b680565-2230-4f2e-817c-718fad48d64c",
   "metadata": {
    "jupyter": {
     "source_hidden": true
    },
    "papermill": {
     "duration": 0.021803,
     "end_time": "2022-05-12T19:51:50.948584",
     "exception": false,
     "start_time": "2022-05-12T19:51:50.926781",
     "status": "completed"
    },
    "tags": [
     "remove_input"
    ]
   },
   "outputs": [],
   "source": []
  }
 ],
 "metadata": {
  "kernelspec": {
   "display_name": "Python 3 (ipykernel)",
   "language": "python",
   "name": "python3"
  },
  "language_info": {
   "codemirror_mode": {
    "name": "ipython",
    "version": 3
   },
   "file_extension": ".py",
   "mimetype": "text/x-python",
   "name": "python",
   "nbconvert_exporter": "python",
   "pygments_lexer": "ipython3",
   "version": "3.9.12"
  },
  "papermill": {
   "default_parameters": {},
   "duration": 23.811186,
   "end_time": "2022-05-12T19:51:52.095857",
   "environment_variables": {},
   "exception": null,
   "input_path": "bus_service_increase/competitive-parallel-routes.ipynb",
   "output_path": "portfolio/parallel_corridors/district_10-stockton/5__competitive-parallel-routes__district_10-stockton__itp_id_284.ipynb",
   "parameters": {
    "district": "10 - Stockton",
    "itp_id": 284
   },
   "start_time": "2022-05-12T19:51:28.284671",
   "version": "2.3.4"
  }
 },
 "nbformat": 4,
 "nbformat_minor": 5
}