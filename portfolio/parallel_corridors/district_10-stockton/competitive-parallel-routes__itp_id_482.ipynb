{
 "cells": [
  {
   "cell_type": "code",
   "execution_count": 1,
   "id": "95d00857-6a20-4529-a519-2cc7182928a9",
   "metadata": {
    "execution": {
     "iopub.execute_input": "2022-05-09T17:19:00.703915Z",
     "iopub.status.busy": "2022-05-09T17:19:00.703317Z",
     "iopub.status.idle": "2022-05-09T17:19:10.782463Z",
     "shell.execute_reply": "2022-05-09T17:19:10.781457Z"
    },
    "jupyter": {
     "source_hidden": true
    },
    "papermill": {
     "duration": 10.105505,
     "end_time": "2022-05-09T17:19:10.785468",
     "exception": false,
     "start_time": "2022-05-09T17:19:00.679963",
     "status": "completed"
    },
    "tags": [
     "remove_input"
    ]
   },
   "outputs": [],
   "source": [
    "%%capture\n",
    "import warnings\n",
    "warnings.filterwarnings('ignore')\n",
    "\n",
    "import altair as alt\n",
    "import calitp.magics\n",
    "import geopandas as gpd\n",
    "import intake\n",
    "import pandas as pd\n",
    "\n",
    "from IPython.display import display, Markdown, HTML\n",
    "\n",
    "import parallel_corridors_utils\n",
    "from shared_utils import styleguide\n",
    "import deploy_portfolio_yaml\n",
    "\n",
    "catalog = intake.open_catalog(\"./*.yml\")\n",
    "alt.renderers.enable(\"html\")"
   ]
  },
  {
   "cell_type": "code",
   "execution_count": 2,
   "id": "8af2a0c1-f3da-408d-9bea-11d9fbf8695d",
   "metadata": {
    "execution": {
     "iopub.execute_input": "2022-05-09T17:19:10.843927Z",
     "iopub.status.busy": "2022-05-09T17:19:10.843402Z",
     "iopub.status.idle": "2022-05-09T17:19:10.849514Z",
     "shell.execute_reply": "2022-05-09T17:19:10.848501Z"
    },
    "jupyter": {
     "source_hidden": true
    },
    "papermill": {
     "duration": 0.035725,
     "end_time": "2022-05-09T17:19:10.851755",
     "exception": false,
     "start_time": "2022-05-09T17:19:10.816030",
     "status": "completed"
    },
    "tags": [
     "parameters",
     "remove_input"
    ]
   },
   "outputs": [],
   "source": [
    "# parameters cell\n",
    "itp_id = 182"
   ]
  },
  {
   "cell_type": "code",
   "execution_count": 3,
   "id": "87d9a64c",
   "metadata": {
    "execution": {
     "iopub.execute_input": "2022-05-09T17:19:10.887285Z",
     "iopub.status.busy": "2022-05-09T17:19:10.886484Z",
     "iopub.status.idle": "2022-05-09T17:19:10.892476Z",
     "shell.execute_reply": "2022-05-09T17:19:10.891348Z"
    },
    "jupyter": {
     "source_hidden": true
    },
    "papermill": {
     "duration": 0.024591,
     "end_time": "2022-05-09T17:19:10.895571",
     "exception": false,
     "start_time": "2022-05-09T17:19:10.870980",
     "status": "completed"
    },
    "tags": [
     "injected-parameters",
     "remove_input"
    ]
   },
   "outputs": [],
   "source": [
    "# Parameters\n",
    "district = \"10 - Stockton\"\n",
    "itp_id = 482\n"
   ]
  },
  {
   "cell_type": "code",
   "execution_count": 4,
   "id": "9582aaf4-79ff-412a-b248-8d8d693ebd4f",
   "metadata": {
    "execution": {
     "iopub.execute_input": "2022-05-09T17:19:10.926417Z",
     "iopub.status.busy": "2022-05-09T17:19:10.925578Z",
     "iopub.status.idle": "2022-05-09T17:19:12.376250Z",
     "shell.execute_reply": "2022-05-09T17:19:12.375163Z"
    },
    "jupyter": {
     "source_hidden": true
    },
    "papermill": {
     "duration": 1.470624,
     "end_time": "2022-05-09T17:19:12.379693",
     "exception": false,
     "start_time": "2022-05-09T17:19:10.909069",
     "status": "completed"
    },
    "tags": [
     "remove_input"
    ]
   },
   "outputs": [],
   "source": [
    "df = catalog.competitive_route_variability.read()\n",
    "\n",
    "df = (df[(df.calitp_itp_id == itp_id) & \n",
    "         (df.route_group.notna())]\n",
    "      .reset_index(drop=True)\n",
    "     )\n",
    "\n",
    "\n",
    "if itp_id == 182:\n",
    "    df = df.assign(\n",
    "        route_id = df.route_id.str.replace('-13153', '').astype(int)\n",
    "    )"
   ]
  },
  {
   "cell_type": "code",
   "execution_count": 5,
   "id": "33ac4b06-f647-4dce-a625-8f2c1b37cc60",
   "metadata": {
    "execution": {
     "iopub.execute_input": "2022-05-09T17:19:12.409360Z",
     "iopub.status.busy": "2022-05-09T17:19:12.408976Z",
     "iopub.status.idle": "2022-05-09T17:19:12.419781Z",
     "shell.execute_reply": "2022-05-09T17:19:12.418890Z"
    },
    "jupyter": {
     "source_hidden": true
    },
    "papermill": {
     "duration": 0.027217,
     "end_time": "2022-05-09T17:19:12.421774",
     "exception": false,
     "start_time": "2022-05-09T17:19:12.394557",
     "status": "completed"
    },
    "tags": [
     "remove_input"
    ]
   },
   "outputs": [],
   "source": [
    "%%capture_parameters\n",
    "operator_name = df.name.iloc[0]\n",
    "district_number = f\"{df.caltrans_district.iloc[0].split('-')[0].strip()}\"\n",
    "district_name = f\"{df.caltrans_district.iloc[0].split('-')[1].strip().lower().replace(' ', '-')}\"\n",
    "\n",
    "itp_id, operator_name, district_number, district_name"
   ]
  },
  {
   "cell_type": "markdown",
   "id": "65bc6f5c-8348-42ee-b2dd-52057c406852",
   "metadata": {
    "papermill": {
     "duration": 0.014902,
     "end_time": "2022-05-09T17:19:12.451105",
     "exception": false,
     "start_time": "2022-05-09T17:19:12.436203",
     "status": "completed"
    },
    "tags": []
   },
   "source": [
    "# Tuolumne County Transit Agency (ITP ID: 482)"
   ]
  },
  {
   "cell_type": "code",
   "execution_count": 6,
   "id": "a689c1ab-2c6c-4831-8d64-897f5986f571",
   "metadata": {
    "execution": {
     "iopub.execute_input": "2022-05-09T17:19:12.482528Z",
     "iopub.status.busy": "2022-05-09T17:19:12.481913Z",
     "iopub.status.idle": "2022-05-09T17:19:12.489500Z",
     "shell.execute_reply": "2022-05-09T17:19:12.488684Z"
    },
    "jupyter": {
     "source_hidden": true
    },
    "papermill": {
     "duration": 0.025154,
     "end_time": "2022-05-09T17:19:12.491477",
     "exception": false,
     "start_time": "2022-05-09T17:19:12.466323",
     "status": "completed"
    },
    "tags": [
     "remove_input"
    ]
   },
   "outputs": [
    {
     "data": {
      "text/html": [
       "<h1>Competitive & Parallel Routes</h1>"
      ],
      "text/plain": [
       "<IPython.core.display.HTML object>"
      ]
     },
     "metadata": {},
     "output_type": "display_data"
    }
   ],
   "source": [
    "display(HTML(\"<h1>Competitive & Parallel Routes</h1>\")) "
   ]
  },
  {
   "cell_type": "code",
   "execution_count": 7,
   "id": "2cb4d8d5-4760-40e4-85b1-cb833d8bb648",
   "metadata": {
    "execution": {
     "iopub.execute_input": "2022-05-09T17:19:12.532852Z",
     "iopub.status.busy": "2022-05-09T17:19:12.532113Z",
     "iopub.status.idle": "2022-05-09T17:19:24.577725Z",
     "shell.execute_reply": "2022-05-09T17:19:24.576509Z"
    },
    "jupyter": {
     "source_hidden": true
    },
    "papermill": {
     "duration": 12.065343,
     "end_time": "2022-05-09T17:19:24.580790",
     "exception": false,
     "start_time": "2022-05-09T17:19:12.515447",
     "status": "completed"
    },
    "tags": [
     "remove_input"
    ]
   },
   "outputs": [],
   "source": [
    "# Grab parameters for narrative text - clean up formatting here \n",
    "district = df.caltrans_district.iloc[0]\n",
    "formatted_date = pd.to_datetime(parallel_corridors_utils.SELECTED_DATE).strftime('%m-%d-%Y')\n",
    "\n",
    "PCT_COMPETITIVE_THRESHOLD = 0.75\n",
    "\n",
    "stats = parallel_corridors_utils.operator_parallel_competitive_stats(\n",
    "    itp_id, PCT_COMPETITIVE_THRESHOLD)\n",
    "\n",
    "pct_parallel = round(stats['parallel_routes'] / stats['num_routes'] * 100,1 )\n",
    "pct_competitive =  round(stats['competitive_routes'] / stats['num_routes'] * 100,1 )"
   ]
  },
  {
   "cell_type": "markdown",
   "id": "ab667928-5274-4490-82d9-4c39293209a4",
   "metadata": {
    "papermill": {
     "duration": 0.013643,
     "end_time": "2022-05-09T17:19:24.607903",
     "exception": false,
     "start_time": "2022-05-09T17:19:24.594260",
     "status": "completed"
    },
    "tags": []
   },
   "source": [
    "## Quick Stats"
   ]
  },
  {
   "cell_type": "code",
   "execution_count": 8,
   "id": "0416509d-dc62-4165-b62e-64f8b26e8b8e",
   "metadata": {
    "execution": {
     "iopub.execute_input": "2022-05-09T17:19:24.645942Z",
     "iopub.status.busy": "2022-05-09T17:19:24.644993Z",
     "iopub.status.idle": "2022-05-09T17:19:24.654324Z",
     "shell.execute_reply": "2022-05-09T17:19:24.653183Z"
    },
    "jupyter": {
     "source_hidden": true
    },
    "papermill": {
     "duration": 0.030954,
     "end_time": "2022-05-09T17:19:24.657162",
     "exception": false,
     "start_time": "2022-05-09T17:19:24.626208",
     "status": "completed"
    },
    "tags": [
     "remove_input"
    ]
   },
   "outputs": [
    {
     "data": {
      "text/markdown": [
       "**Bus routes in service**: 3 <br>**Parallel routes** to State Highway Network (SHN): 3 routes (100.0%)<br>**Competitive routes** against car travel: 1 routes (33.3%)"
      ],
      "text/plain": [
       "<IPython.core.display.Markdown object>"
      ]
     },
     "metadata": {},
     "output_type": "display_data"
    }
   ],
   "source": [
    "display(\n",
    "    Markdown(\n",
    "        f\"**Bus routes in service**: {stats['num_routes']} \"\n",
    "        \"<br>**Parallel routes** to State Highway Network (SHN): \"\n",
    "        f\"{stats['parallel_routes']} routes ({pct_parallel}%)\"\n",
    "        f\"<br>**Competitive routes** against car travel: {stats['competitive_routes']} routes ({pct_competitive}%)\"\n",
    "    )\n",
    ")"
   ]
  },
  {
   "cell_type": "code",
   "execution_count": 9,
   "id": "f9d6ab58-f0ee-460c-b6de-657490e1f386",
   "metadata": {
    "execution": {
     "iopub.execute_input": "2022-05-09T17:19:24.720442Z",
     "iopub.status.busy": "2022-05-09T17:19:24.720079Z",
     "iopub.status.idle": "2022-05-09T17:19:24.731592Z",
     "shell.execute_reply": "2022-05-09T17:19:24.730482Z"
    },
    "jupyter": {
     "source_hidden": true
    },
    "papermill": {
     "duration": 0.059234,
     "end_time": "2022-05-09T17:19:24.734481",
     "exception": false,
     "start_time": "2022-05-09T17:19:24.675247",
     "status": "completed"
    },
    "tags": [
     "remove_input"
    ]
   },
   "outputs": [],
   "source": [
    "def set_yaxis_range(df, y_col):\n",
    "    Y_MIN = df[y_col].min()\n",
    "    Y_MAX = df[y_col].max()\n",
    "    \n",
    "    return Y_MIN, Y_MAX\n",
    "\n",
    "# Rather than set it according to the operator, which can vary,\n",
    "# just use set thresholds for each group\n",
    "diff_cutoffs = parallel_corridors_utils.diff_cutoffs\n",
    "\n",
    "PCT_TRIPS_BELOW_CUTOFF = 0.25\n",
    "\n",
    "def top15_routes(df, route_group):\n",
    "    df2 = (df[df.route_group==route_group])\n",
    "    # Set a cut-off to enable sorting, where most of the trips are \n",
    "    # below a certain time difference cut-off, \n",
    "    # grab top 15 routes where majority of trips are below that cut-off \n",
    "\n",
    "    route_cols = [\"calitp_itp_id\", \"route_id\"]\n",
    "\n",
    "    df2 = df2.assign(\n",
    "        below_cutoff = df2.apply(lambda x: 1 if x.bus_difference <= diff_cutoffs[route_group] \n",
    "                                 else 0, axis=1),\n",
    "        num_trips = df2.groupby(route_cols)[\"trip_id\"].transform(\"count\")\n",
    "    )\n",
    "\n",
    "    df2[\"below_cutoff\"] = df2.groupby(route_cols)[\"below_cutoff\"].transform(\"sum\")\n",
    "    df2[\"pct_below_cutoff\"] = df2.below_cutoff.divide(df2.num_trips)\n",
    "\n",
    "    # At least half the trips are below that cut-off\n",
    "    # but show 15 max, otherwise, show less, since these won't be as interesting to operators\n",
    "    df3 = (df2[df2.pct_below_cutoff >= PCT_TRIPS_BELOW_CUTOFF]\n",
    "           .sort_values([\"calitp_itp_id\", \"below_cutoff\", \n",
    "                         \"pct_below_cutoff\", \"route_id\"],\n",
    "                        ascending = [True, False, False, True]\n",
    "                       )\n",
    "           .drop_duplicates(subset=[\"calitp_itp_id\", \"route_id\"])\n",
    "          ).head(15)\n",
    "    \n",
    "    return list(df3.route_id)"
   ]
  },
  {
   "cell_type": "code",
   "execution_count": 10,
   "id": "cf36d559-3349-4144-8086-8ac9ce937a5a",
   "metadata": {
    "execution": {
     "iopub.execute_input": "2022-05-09T17:19:24.768659Z",
     "iopub.status.busy": "2022-05-09T17:19:24.767510Z",
     "iopub.status.idle": "2022-05-09T17:19:24.774306Z",
     "shell.execute_reply": "2022-05-09T17:19:24.773333Z"
    },
    "jupyter": {
     "source_hidden": true
    },
    "papermill": {
     "duration": 0.025798,
     "end_time": "2022-05-09T17:19:24.776348",
     "exception": false,
     "start_time": "2022-05-09T17:19:24.750550",
     "status": "completed"
    },
    "tags": [
     "remove_input"
    ]
   },
   "outputs": [],
   "source": [
    "def caption_with_cutoff(cutoff):\n",
    "    sentence = (\n",
    "        f\"<br>These are routes that have **at least {int(PCT_TRIPS_BELOW_CUTOFF*100)}% \"\n",
    "        \"of their trips take no more than an \"\n",
    "        f\"additional {cutoff} min** compared to a car \"\n",
    "        \"(up to 15 routes) are shown.\"\n",
    "        \"<br>Within each route group, routes are sorted in descending order \"\n",
    "        \"by % competitive trips and # trips below the additional time cut-off.\"\n",
    "    )\n",
    "    return sentence\n",
    "\n",
    "CAPTIONS_DICT = {\n",
    "    \"short\": caption_with_cutoff(diff_cutoffs['short']),\n",
    "    \"medium\": caption_with_cutoff(diff_cutoffs['medium']),\n",
    "    \"long\": caption_with_cutoff(diff_cutoffs['long']),\n",
    "}"
   ]
  },
  {
   "cell_type": "code",
   "execution_count": 11,
   "id": "e4306d58-6944-47e9-afef-5d5b524c751f",
   "metadata": {
    "execution": {
     "iopub.execute_input": "2022-05-09T17:19:24.818137Z",
     "iopub.status.busy": "2022-05-09T17:19:24.817130Z",
     "iopub.status.idle": "2022-05-09T17:19:24.825804Z",
     "shell.execute_reply": "2022-05-09T17:19:24.825162Z"
    },
    "jupyter": {
     "source_hidden": true
    },
    "papermill": {
     "duration": 0.037189,
     "end_time": "2022-05-09T17:19:24.827837",
     "exception": false,
     "start_time": "2022-05-09T17:19:24.790648",
     "status": "completed"
    },
    "tags": [
     "remove_input"
    ]
   },
   "outputs": [],
   "source": [
    "def setup_charts(df, PCT_COMPETITIVE_THRESHOLD, route_group):\n",
    "    # Set up df for charting (cut-off at some threshold to show most competitive routes)\n",
    "    plot_me = (df[df.pct_trips_competitive > PCT_COMPETITIVE_THRESHOLD]\n",
    "           .drop(columns = \"geometry\")\n",
    "    )\n",
    "    \n",
    "    y_col1 = \"bus_multiplier\"\n",
    "    Y_MIN1, Y_MAX1 = set_yaxis_range(plot_me, y_col1)\n",
    "\n",
    "    y_col2 = \"bus_difference\"\n",
    "    Y_MIN2, Y_MAX2 = set_yaxis_range(plot_me, y_col2)\n",
    "     \n",
    "    subset_routes = top15_routes(plot_me, route_group)\n",
    "    \n",
    "    multiplier_chart = parallel_corridors_utils.make_stripplot(\n",
    "        plot_me[plot_me.route_id.isin(subset_routes)], \n",
    "        y_col1, Y_MIN = Y_MIN1, Y_MAX = Y_MAX1\n",
    "    )\n",
    "    \n",
    "    difference_chart = parallel_corridors_utils.make_stripplot(\n",
    "        plot_me[plot_me.route_id.isin(subset_routes)], \n",
    "        y_col2, Y_MIN = Y_MIN2, Y_MAX = Y_MAX2\n",
    "    )\n",
    "    \n",
    "    return subset_routes, multiplier_chart, difference_chart            "
   ]
  },
  {
   "cell_type": "code",
   "execution_count": 12,
   "id": "33a710e8-504c-4942-aa75-ff69f216956e",
   "metadata": {
    "execution": {
     "iopub.execute_input": "2022-05-09T17:19:24.859532Z",
     "iopub.status.busy": "2022-05-09T17:19:24.858355Z",
     "iopub.status.idle": "2022-05-09T17:19:24.865345Z",
     "shell.execute_reply": "2022-05-09T17:19:24.864288Z"
    },
    "jupyter": {
     "source_hidden": true
    },
    "papermill": {
     "duration": 0.025916,
     "end_time": "2022-05-09T17:19:24.867966",
     "exception": false,
     "start_time": "2022-05-09T17:19:24.842050",
     "status": "completed"
    },
    "tags": [
     "remove_input"
    ]
   },
   "outputs": [],
   "source": [
    "def display_charts_for_route_group(df, route_group):    \n",
    "    subset_routes, mult, diff  = setup_charts(df, PCT_COMPETITIVE_THRESHOLD, route_group)\n",
    "\n",
    "    if len(subset_routes) > 0:\n",
    "        display(Markdown(f\"{CAPTIONS_DICT[route_group]}\"))\n",
    "\n",
    "        display(mult)\n",
    "        display(diff)"
   ]
  },
  {
   "cell_type": "markdown",
   "id": "525f9b38-072b-46d1-96a8-1aa4b038357c",
   "metadata": {
    "papermill": {
     "duration": 0.01634,
     "end_time": "2022-05-09T17:19:24.899705",
     "exception": false,
     "start_time": "2022-05-09T17:19:24.883365",
     "status": "completed"
    },
    "tags": []
   },
   "source": [
    "## Viable Competitive Routes\n",
    "### Short Routes (< 1 hr)"
   ]
  },
  {
   "cell_type": "code",
   "execution_count": 13,
   "id": "57f7084c-2cf7-45c6-ba08-1609e0bd6ca5",
   "metadata": {
    "execution": {
     "iopub.execute_input": "2022-05-09T17:19:24.940961Z",
     "iopub.status.busy": "2022-05-09T17:19:24.939746Z",
     "iopub.status.idle": "2022-05-09T17:19:24.956782Z",
     "shell.execute_reply": "2022-05-09T17:19:24.955428Z"
    },
    "jupyter": {
     "source_hidden": true
    },
    "papermill": {
     "duration": 0.036209,
     "end_time": "2022-05-09T17:19:24.959100",
     "exception": false,
     "start_time": "2022-05-09T17:19:24.922891",
     "status": "completed"
    },
    "tags": [
     "remove_input"
    ]
   },
   "outputs": [
    {
     "name": "stdout",
     "output_type": "stream",
     "text": [
      "No routes meet this criteria.\n"
     ]
    }
   ],
   "source": [
    "# Allow for possibility that operator doesn't have routes that fall into certain route_groups\n",
    "# But, jupyterbook will not like markdown with f-string\n",
    "# separate out route_group and put in each cell, and use try/except + if to display...\n",
    "# but all 3 route groups must be displayed. just add sentence about why no routes were returned at the end\n",
    "route_group = \"short\"\n",
    "try:\n",
    "    display_charts_for_route_group(df, route_group)\n",
    "except:\n",
    "    print(\"No routes meet this criteria.\")"
   ]
  },
  {
   "cell_type": "markdown",
   "id": "c2931b6f-034d-4384-9e14-80b925e3b820",
   "metadata": {
    "papermill": {
     "duration": 0.016894,
     "end_time": "2022-05-09T17:19:24.992845",
     "exception": false,
     "start_time": "2022-05-09T17:19:24.975951",
     "status": "completed"
    },
    "tags": []
   },
   "source": [
    "### Medium Routes (1-1.5 hrs)"
   ]
  },
  {
   "cell_type": "code",
   "execution_count": 14,
   "id": "480edddc-4de0-48c2-ae4c-b0ceef8f28b5",
   "metadata": {
    "execution": {
     "iopub.execute_input": "2022-05-09T17:19:25.032925Z",
     "iopub.status.busy": "2022-05-09T17:19:25.032238Z",
     "iopub.status.idle": "2022-05-09T17:19:25.045358Z",
     "shell.execute_reply": "2022-05-09T17:19:25.044415Z"
    },
    "jupyter": {
     "source_hidden": true
    },
    "papermill": {
     "duration": 0.032136,
     "end_time": "2022-05-09T17:19:25.047565",
     "exception": false,
     "start_time": "2022-05-09T17:19:25.015429",
     "status": "completed"
    },
    "tags": [
     "remove_input"
    ]
   },
   "outputs": [
    {
     "name": "stdout",
     "output_type": "stream",
     "text": [
      "No routes meet this criteria.\n"
     ]
    }
   ],
   "source": [
    "route_group = \"medium\"\n",
    "try:\n",
    "    display_charts_for_route_group(df, route_group)\n",
    "except:\n",
    "    print(\"No routes meet this criteria.\")"
   ]
  },
  {
   "cell_type": "markdown",
   "id": "124b76d0-886c-4d03-92ac-f1bda3cda182",
   "metadata": {
    "papermill": {
     "duration": 0.015269,
     "end_time": "2022-05-09T17:19:25.077083",
     "exception": false,
     "start_time": "2022-05-09T17:19:25.061814",
     "status": "completed"
    },
    "tags": []
   },
   "source": [
    "### Long Routes (> 1.5 hrs)"
   ]
  },
  {
   "cell_type": "code",
   "execution_count": 15,
   "id": "ddc81b19-4c45-4c81-8b7a-5e0f394aa7a3",
   "metadata": {
    "execution": {
     "iopub.execute_input": "2022-05-09T17:19:25.116899Z",
     "iopub.status.busy": "2022-05-09T17:19:25.116222Z",
     "iopub.status.idle": "2022-05-09T17:19:25.376786Z",
     "shell.execute_reply": "2022-05-09T17:19:25.375883Z"
    },
    "jupyter": {
     "source_hidden": true
    },
    "papermill": {
     "duration": 0.285035,
     "end_time": "2022-05-09T17:19:25.378908",
     "exception": false,
     "start_time": "2022-05-09T17:19:25.093873",
     "status": "completed"
    },
    "tags": [
     "remove_input"
    ]
   },
   "outputs": [
    {
     "data": {
      "text/markdown": [
       "<br>These are routes that have **at least 25% of their trips take no more than an additional 40 min** compared to a car (up to 15 routes) are shown.<br>Within each route group, routes are sorted in descending order by % competitive trips and # trips below the additional time cut-off."
      ],
      "text/plain": [
       "<IPython.core.display.Markdown object>"
      ]
     },
     "metadata": {},
     "output_type": "display_data"
    },
    {
     "data": {
      "text/html": [
       "\n",
       "<div id=\"altair-viz-300fdbe76a29489ab758a996ba885f00\"></div>\n",
       "<script type=\"text/javascript\">\n",
       "  var VEGA_DEBUG = (typeof VEGA_DEBUG == \"undefined\") ? {} : VEGA_DEBUG;\n",
       "  (function(spec, embedOpt){\n",
       "    let outputDiv = document.currentScript.previousElementSibling;\n",
       "    if (outputDiv.id !== \"altair-viz-300fdbe76a29489ab758a996ba885f00\") {\n",
       "      outputDiv = document.getElementById(\"altair-viz-300fdbe76a29489ab758a996ba885f00\");\n",
       "    }\n",
       "    const paths = {\n",
       "      \"vega\": \"https://cdn.jsdelivr.net/npm//vega@5?noext\",\n",
       "      \"vega-lib\": \"https://cdn.jsdelivr.net/npm//vega-lib?noext\",\n",
       "      \"vega-lite\": \"https://cdn.jsdelivr.net/npm//vega-lite@4.17.0?noext\",\n",
       "      \"vega-embed\": \"https://cdn.jsdelivr.net/npm//vega-embed@6?noext\",\n",
       "    };\n",
       "\n",
       "    function maybeLoadScript(lib, version) {\n",
       "      var key = `${lib.replace(\"-\", \"\")}_version`;\n",
       "      return (VEGA_DEBUG[key] == version) ?\n",
       "        Promise.resolve(paths[lib]) :\n",
       "        new Promise(function(resolve, reject) {\n",
       "          var s = document.createElement('script');\n",
       "          document.getElementsByTagName(\"head\")[0].appendChild(s);\n",
       "          s.async = true;\n",
       "          s.onload = () => {\n",
       "            VEGA_DEBUG[key] = version;\n",
       "            return resolve(paths[lib]);\n",
       "          };\n",
       "          s.onerror = () => reject(`Error loading script: ${paths[lib]}`);\n",
       "          s.src = paths[lib];\n",
       "        });\n",
       "    }\n",
       "\n",
       "    function showError(err) {\n",
       "      outputDiv.innerHTML = `<div class=\"error\" style=\"color:red;\">${err}</div>`;\n",
       "      throw err;\n",
       "    }\n",
       "\n",
       "    function displayChart(vegaEmbed) {\n",
       "      vegaEmbed(outputDiv, spec, embedOpt)\n",
       "        .catch(err => showError(`Javascript Error: ${err.message}<br>This usually means there's a typo in your chart specification. See the javascript console for the full traceback.`));\n",
       "    }\n",
       "\n",
       "    if(typeof define === \"function\" && define.amd) {\n",
       "      requirejs.config({paths});\n",
       "      require([\"vega-embed\"], displayChart, err => showError(`Error loading script: ${err.message}`));\n",
       "    } else {\n",
       "      maybeLoadScript(\"vega\", \"5\")\n",
       "        .then(() => maybeLoadScript(\"vega-lite\", \"4.17.0\"))\n",
       "        .then(() => maybeLoadScript(\"vega-embed\", \"6\"))\n",
       "        .catch(showError)\n",
       "        .then(() => displayChart(vegaEmbed));\n",
       "    }\n",
       "  })({\"config\": {\"view\": {\"continuousWidth\": 400, \"continuousHeight\": 300, \"stroke\": null}, \"facet\": {\"spacing\": 0}}, \"data\": {\"name\": \"data-084b90461495daa4679295333c69df07\"}, \"facet\": {\"column\": {\"field\": \"route_id\", \"sort\": [\"16\"], \"title\": \"Route ID\", \"type\": \"nominal\"}}, \"spec\": {\"layer\": [{\"mark\": \"rule\", \"encoding\": {\"color\": {\"value\": \"black\"}, \"y\": {\"field\": \"cutoff\", \"type\": \"quantitative\"}}, \"selection\": {\"selector001\": {\"type\": \"interval\", \"bind\": \"scales\", \"encodings\": [\"x\", \"y\"]}}}, {\"mark\": {\"type\": \"point\", \"opacity\": 0.65, \"size\": 12, \"strokeWidth\": 1.1}, \"encoding\": {\"color\": {\"field\": \"time_of_day\", \"scale\": {\"range\": [\"#136C97\", \"#E16B26\", \"#F6BF16\", \"#00896B\", \"#7790A3\", \"#5B559C\"]}, \"sort\": [\"AM Peak\", \"Midday\", \"PM Peak\", \"Owl Service\"], \"title\": \"Time of Day\", \"type\": \"nominal\"}, \"tooltip\": [{\"field\": \"route_id\", \"type\": \"nominal\"}, {\"field\": \"trip_id\", \"type\": \"nominal\"}, {\"field\": \"service_hours\", \"type\": \"quantitative\"}, {\"field\": \"car_duration_hours\", \"type\": \"quantitative\"}, {\"field\": \"bus_multiplier\", \"type\": \"quantitative\"}, {\"field\": \"bus_difference\", \"type\": \"quantitative\"}, {\"field\": \"num_trips\", \"type\": \"quantitative\"}, {\"field\": \"num_competitive\", \"type\": \"quantitative\"}, {\"field\": \"pct_trips_competitive\", \"type\": \"quantitative\"}, {\"field\": \"p25\", \"type\": \"quantitative\"}, {\"field\": \"p50\", \"type\": \"quantitative\"}, {\"field\": \"p75\", \"type\": \"quantitative\"}], \"x\": {\"axis\": {\"grid\": false, \"labels\": false, \"ticks\": true, \"values\": [0]}, \"field\": \"jitter\", \"scale\": {}, \"title\": null, \"type\": \"quantitative\"}, \"y\": {\"field\": \"bus_multiplier\", \"scale\": {\"domain\": [-0.25, 26.94]}, \"title\": \"Ratio of Bus to Car Travel Time\", \"type\": \"quantitative\"}}, \"transform\": [{\"calculate\": \"sqrt(-2*log(random()))*cos(2*PI*random())\", \"as\": \"jitter\"}], \"width\": 50}, {\"layer\": [{\"mark\": {\"type\": \"point\", \"opacity\": 0.6, \"size\": 20, \"strokeWidth\": 1.3}, \"encoding\": {\"color\": {\"value\": \"#323434\"}, \"y\": {\"field\": \"bus_multiplier\", \"type\": \"quantitative\"}}, \"transform\": [{\"filter\": \"(datum.p50_trip === 1)\"}]}, {\"mark\": {\"type\": \"text\", \"align\": \"center\", \"baseline\": \"middle\"}, \"encoding\": {\"color\": {\"value\": \"black\"}, \"text\": {\"field\": \"pct_trips_competitive\", \"format\": \".0%\", \"type\": \"quantitative\"}, \"tooltip\": [{\"field\": \"route_id\", \"type\": \"nominal\"}, {\"field\": \"trip_id\", \"type\": \"nominal\"}, {\"field\": \"service_hours\", \"type\": \"quantitative\"}, {\"field\": \"car_duration_hours\", \"type\": \"quantitative\"}, {\"field\": \"bus_multiplier\", \"type\": \"quantitative\"}, {\"field\": \"bus_difference\", \"type\": \"quantitative\"}, {\"field\": \"num_trips\", \"type\": \"quantitative\"}, {\"field\": \"num_competitive\", \"type\": \"quantitative\"}, {\"field\": \"pct_trips_competitive\", \"type\": \"quantitative\"}, {\"field\": \"p25\", \"type\": \"quantitative\"}, {\"field\": \"p50\", \"type\": \"quantitative\"}, {\"field\": \"p75\", \"type\": \"quantitative\"}], \"x\": {\"value\": 30}, \"y\": {\"value\": 15}}, \"transform\": [{\"calculate\": \"sqrt(-2*log(random()))*cos(2*PI*random())\", \"as\": \"jitter\"}, {\"filter\": \"(datum.fastest_trip === 1)\"}]}]}]}, \"resolve\": {\"scale\": {\"y\": \"shared\"}}, \"title\": \"Ratio of Bus to Car Travel Time\", \"$schema\": \"https://vega.github.io/schema/vega-lite/v4.17.0.json\", \"datasets\": {\"data-084b90461495daa4679295333c69df07\": [{\"calitp_itp_id\": 482, \"trip_key\": 2145124109685266677, \"trip_id\": \"83\", \"shape_id\": \"16\", \"route_id\": \"16\", \"service_hours\": 0.93, \"trip_first_departure_ts\": 27000, \"trip_last_arrival_ts\": 30360, \"departure_hour\": 7, \"time_of_day\": \"AM Peak\", \"p25\": 0.93, \"p50\": 0.93, \"p75\": 0.93, \"p50_trip\": 1, \"fastest_trip\": 0, \"car_duration_hours\": 0.48, \"competitive_route\": 1, \"bus_multiplier\": 1.94, \"bus_difference\": 27.0, \"num_trips\": 12, \"num_competitive\": 11, \"pct_trips_competitive\": 0.917, \"bus_difference_spread\": 720.0, \"route_group\": \"long\", \"max_trip_hrs\": 12.93, \"max_trip_route_group\": 12.93, \"name\": \"Tuolumne County Transit Agency\", \"caltrans_district\": \"10 - Stockton\", \"drmt_organization_name\": \"['recl7fHqYd2GSTtn3']\", \"cutoff2\": 40, \"cutoff\": 2}, {\"calitp_itp_id\": 482, \"trip_key\": -1666101624449243044, \"trip_id\": \"84\", \"shape_id\": \"16\", \"route_id\": \"16\", \"service_hours\": 0.93, \"trip_first_departure_ts\": 30600, \"trip_last_arrival_ts\": 33960, \"departure_hour\": 8, \"time_of_day\": \"AM Peak\", \"p25\": 0.93, \"p50\": 0.93, \"p75\": 0.93, \"p50_trip\": 1, \"fastest_trip\": 0, \"car_duration_hours\": 0.48, \"competitive_route\": 1, \"bus_multiplier\": 1.94, \"bus_difference\": 27.0, \"num_trips\": 12, \"num_competitive\": 11, \"pct_trips_competitive\": 0.917, \"bus_difference_spread\": 720.0, \"route_group\": \"long\", \"max_trip_hrs\": 12.93, \"max_trip_route_group\": 12.93, \"name\": \"Tuolumne County Transit Agency\", \"caltrans_district\": \"10 - Stockton\", \"drmt_organization_name\": \"['recl7fHqYd2GSTtn3']\", \"cutoff2\": 40, \"cutoff\": 2}, {\"calitp_itp_id\": 482, \"trip_key\": -811955265033482998, \"trip_id\": \"93\", \"shape_id\": \"16\", \"route_id\": \"16\", \"service_hours\": 0.93, \"trip_first_departure_ts\": 106200, \"trip_last_arrival_ts\": 109560, \"departure_hour\": 5, \"time_of_day\": \"Owl Service\", \"p25\": 0.93, \"p50\": 0.93, \"p75\": 0.93, \"p50_trip\": 1, \"fastest_trip\": 0, \"car_duration_hours\": 0.48, \"competitive_route\": 1, \"bus_multiplier\": 1.94, \"bus_difference\": 27.0, \"num_trips\": 12, \"num_competitive\": 11, \"pct_trips_competitive\": 0.917, \"bus_difference_spread\": 720.0, \"route_group\": \"long\", \"max_trip_hrs\": 12.93, \"max_trip_route_group\": 12.93, \"name\": \"Tuolumne County Transit Agency\", \"caltrans_district\": \"10 - Stockton\", \"drmt_organization_name\": \"['recl7fHqYd2GSTtn3']\", \"cutoff2\": 40, \"cutoff\": 2}, {\"calitp_itp_id\": 482, \"trip_key\": -7629486483351359896, \"trip_id\": \"90\", \"shape_id\": \"16\", \"route_id\": \"16\", \"service_hours\": 0.93, \"trip_first_departure_ts\": 95400, \"trip_last_arrival_ts\": 98760, \"departure_hour\": 2, \"time_of_day\": \"Owl Service\", \"p25\": 0.93, \"p50\": 0.93, \"p75\": 0.93, \"p50_trip\": 1, \"fastest_trip\": 0, \"car_duration_hours\": 0.48, \"competitive_route\": 1, \"bus_multiplier\": 1.94, \"bus_difference\": 27.0, \"num_trips\": 12, \"num_competitive\": 11, \"pct_trips_competitive\": 0.917, \"bus_difference_spread\": 720.0, \"route_group\": \"long\", \"max_trip_hrs\": 12.93, \"max_trip_route_group\": 12.93, \"name\": \"Tuolumne County Transit Agency\", \"caltrans_district\": \"10 - Stockton\", \"drmt_organization_name\": \"['recl7fHqYd2GSTtn3']\", \"cutoff2\": 40, \"cutoff\": 2}, {\"calitp_itp_id\": 482, \"trip_key\": -3718860337871589477, \"trip_id\": \"85\", \"shape_id\": \"16\", \"route_id\": \"16\", \"service_hours\": 0.93, \"trip_first_departure_ts\": 34200, \"trip_last_arrival_ts\": 37560, \"departure_hour\": 9, \"time_of_day\": \"AM Peak\", \"p25\": 0.93, \"p50\": 0.93, \"p75\": 0.93, \"p50_trip\": 1, \"fastest_trip\": 0, \"car_duration_hours\": 0.48, \"competitive_route\": 1, \"bus_multiplier\": 1.94, \"bus_difference\": 27.0, \"num_trips\": 12, \"num_competitive\": 11, \"pct_trips_competitive\": 0.917, \"bus_difference_spread\": 720.0, \"route_group\": \"long\", \"max_trip_hrs\": 12.93, \"max_trip_route_group\": 12.93, \"name\": \"Tuolumne County Transit Agency\", \"caltrans_district\": \"10 - Stockton\", \"drmt_organization_name\": \"['recl7fHqYd2GSTtn3']\", \"cutoff2\": 40, \"cutoff\": 2}, {\"calitp_itp_id\": 482, \"trip_key\": 4134191413769255642, \"trip_id\": \"87\", \"shape_id\": \"16\", \"route_id\": \"16\", \"service_hours\": 0.93, \"trip_first_departure_ts\": 41400, \"trip_last_arrival_ts\": 44760, \"departure_hour\": 11, \"time_of_day\": \"Midday\", \"p25\": 0.93, \"p50\": 0.93, \"p75\": 0.93, \"p50_trip\": 1, \"fastest_trip\": 1, \"car_duration_hours\": 0.48, \"competitive_route\": 1, \"bus_multiplier\": 1.94, \"bus_difference\": 27.0, \"num_trips\": 12, \"num_competitive\": 11, \"pct_trips_competitive\": 0.917, \"bus_difference_spread\": 720.0, \"route_group\": \"long\", \"max_trip_hrs\": 12.93, \"max_trip_route_group\": 12.93, \"name\": \"Tuolumne County Transit Agency\", \"caltrans_district\": \"10 - Stockton\", \"drmt_organization_name\": \"['recl7fHqYd2GSTtn3']\", \"cutoff2\": 40, \"cutoff\": 2}, {\"calitp_itp_id\": 482, \"trip_key\": 4010574854795830805, \"trip_id\": \"89\", \"shape_id\": \"16\", \"route_id\": \"16\", \"service_hours\": 0.93, \"trip_first_departure_ts\": 91800, \"trip_last_arrival_ts\": 95160, \"departure_hour\": 1, \"time_of_day\": \"Owl Service\", \"p25\": 0.93, \"p50\": 0.93, \"p75\": 0.93, \"p50_trip\": 1, \"fastest_trip\": 0, \"car_duration_hours\": 0.48, \"competitive_route\": 1, \"bus_multiplier\": 1.94, \"bus_difference\": 27.0, \"num_trips\": 12, \"num_competitive\": 11, \"pct_trips_competitive\": 0.917, \"bus_difference_spread\": 720.0, \"route_group\": \"long\", \"max_trip_hrs\": 12.93, \"max_trip_route_group\": 12.93, \"name\": \"Tuolumne County Transit Agency\", \"caltrans_district\": \"10 - Stockton\", \"drmt_organization_name\": \"['recl7fHqYd2GSTtn3']\", \"cutoff2\": 40, \"cutoff\": 2}, {\"calitp_itp_id\": 482, \"trip_key\": -428294178438464651, \"trip_id\": \"86\", \"shape_id\": \"16\", \"route_id\": \"16\", \"service_hours\": 0.93, \"trip_first_departure_ts\": 37800, \"trip_last_arrival_ts\": 41160, \"departure_hour\": 10, \"time_of_day\": \"Midday\", \"p25\": 0.93, \"p50\": 0.93, \"p75\": 0.93, \"p50_trip\": 1, \"fastest_trip\": 0, \"car_duration_hours\": 0.48, \"competitive_route\": 1, \"bus_multiplier\": 1.94, \"bus_difference\": 27.0, \"num_trips\": 12, \"num_competitive\": 11, \"pct_trips_competitive\": 0.917, \"bus_difference_spread\": 720.0, \"route_group\": \"long\", \"max_trip_hrs\": 12.93, \"max_trip_route_group\": 12.93, \"name\": \"Tuolumne County Transit Agency\", \"caltrans_district\": \"10 - Stockton\", \"drmt_organization_name\": \"['recl7fHqYd2GSTtn3']\", \"cutoff2\": 40, \"cutoff\": 2}, {\"calitp_itp_id\": 482, \"trip_key\": 444715570233316546, \"trip_id\": \"91\", \"shape_id\": \"16\", \"route_id\": \"16\", \"service_hours\": 0.93, \"trip_first_departure_ts\": 99000, \"trip_last_arrival_ts\": 102360, \"departure_hour\": 3, \"time_of_day\": \"Owl Service\", \"p25\": 0.93, \"p50\": 0.93, \"p75\": 0.93, \"p50_trip\": 1, \"fastest_trip\": 0, \"car_duration_hours\": 0.48, \"competitive_route\": 1, \"bus_multiplier\": 1.94, \"bus_difference\": 27.0, \"num_trips\": 12, \"num_competitive\": 11, \"pct_trips_competitive\": 0.917, \"bus_difference_spread\": 720.0, \"route_group\": \"long\", \"max_trip_hrs\": 12.93, \"max_trip_route_group\": 12.93, \"name\": \"Tuolumne County Transit Agency\", \"caltrans_district\": \"10 - Stockton\", \"drmt_organization_name\": \"['recl7fHqYd2GSTtn3']\", \"cutoff2\": 40, \"cutoff\": 2}, {\"calitp_itp_id\": 482, \"trip_key\": -3941352894702572126, \"trip_id\": \"92\", \"shape_id\": \"16\", \"route_id\": \"16\", \"service_hours\": 0.93, \"trip_first_departure_ts\": 102600, \"trip_last_arrival_ts\": 105960, \"departure_hour\": 4, \"time_of_day\": \"Owl Service\", \"p25\": 0.93, \"p50\": 0.93, \"p75\": 0.93, \"p50_trip\": 1, \"fastest_trip\": 0, \"car_duration_hours\": 0.48, \"competitive_route\": 1, \"bus_multiplier\": 1.94, \"bus_difference\": 27.0, \"num_trips\": 12, \"num_competitive\": 11, \"pct_trips_competitive\": 0.917, \"bus_difference_spread\": 720.0, \"route_group\": \"long\", \"max_trip_hrs\": 12.93, \"max_trip_route_group\": 12.93, \"name\": \"Tuolumne County Transit Agency\", \"caltrans_district\": \"10 - Stockton\", \"drmt_organization_name\": \"['recl7fHqYd2GSTtn3']\", \"cutoff2\": 40, \"cutoff\": 2}, {\"calitp_itp_id\": 482, \"trip_key\": 437802656543614001, \"trip_id\": \"94\", \"shape_id\": \"16\", \"route_id\": \"16\", \"service_hours\": 0.93, \"trip_first_departure_ts\": 109800, \"trip_last_arrival_ts\": 113160, \"departure_hour\": 6, \"time_of_day\": \"Owl Service\", \"p25\": 0.93, \"p50\": 0.93, \"p75\": 0.93, \"p50_trip\": 1, \"fastest_trip\": 0, \"car_duration_hours\": 0.48, \"competitive_route\": 1, \"bus_multiplier\": 1.94, \"bus_difference\": 27.0, \"num_trips\": 12, \"num_competitive\": 11, \"pct_trips_competitive\": 0.917, \"bus_difference_spread\": 720.0, \"route_group\": \"long\", \"max_trip_hrs\": 12.93, \"max_trip_route_group\": 12.93, \"name\": \"Tuolumne County Transit Agency\", \"caltrans_district\": \"10 - Stockton\", \"drmt_organization_name\": \"['recl7fHqYd2GSTtn3']\", \"cutoff2\": 40, \"cutoff\": 2}, {\"calitp_itp_id\": 482, \"trip_key\": -4103005086418910727, \"trip_id\": \"88\", \"shape_id\": \"16\", \"route_id\": \"16\", \"service_hours\": 12.93, \"trip_first_departure_ts\": 45000, \"trip_last_arrival_ts\": 91560, \"departure_hour\": 12, \"time_of_day\": \"Midday\", \"p25\": 0.93, \"p50\": 0.93, \"p75\": 0.93, \"p50_trip\": 0, \"fastest_trip\": 0, \"car_duration_hours\": 0.48, \"competitive_route\": 1, \"bus_multiplier\": 26.94, \"bus_difference\": 747.0, \"num_trips\": 12, \"num_competitive\": 11, \"pct_trips_competitive\": 0.917, \"bus_difference_spread\": 720.0, \"route_group\": \"long\", \"max_trip_hrs\": 12.93, \"max_trip_route_group\": 12.93, \"name\": \"Tuolumne County Transit Agency\", \"caltrans_district\": \"10 - Stockton\", \"drmt_organization_name\": \"['recl7fHqYd2GSTtn3']\", \"cutoff2\": 40, \"cutoff\": 2}]}}, {\"mode\": \"vega-lite\"});\n",
       "</script>"
      ],
      "text/plain": [
       "alt.FacetChart(...)"
      ]
     },
     "metadata": {},
     "output_type": "display_data"
    },
    {
     "data": {
      "text/html": [
       "\n",
       "<div id=\"altair-viz-bbe9f2988530459ebedc17114b146955\"></div>\n",
       "<script type=\"text/javascript\">\n",
       "  var VEGA_DEBUG = (typeof VEGA_DEBUG == \"undefined\") ? {} : VEGA_DEBUG;\n",
       "  (function(spec, embedOpt){\n",
       "    let outputDiv = document.currentScript.previousElementSibling;\n",
       "    if (outputDiv.id !== \"altair-viz-bbe9f2988530459ebedc17114b146955\") {\n",
       "      outputDiv = document.getElementById(\"altair-viz-bbe9f2988530459ebedc17114b146955\");\n",
       "    }\n",
       "    const paths = {\n",
       "      \"vega\": \"https://cdn.jsdelivr.net/npm//vega@5?noext\",\n",
       "      \"vega-lib\": \"https://cdn.jsdelivr.net/npm//vega-lib?noext\",\n",
       "      \"vega-lite\": \"https://cdn.jsdelivr.net/npm//vega-lite@4.17.0?noext\",\n",
       "      \"vega-embed\": \"https://cdn.jsdelivr.net/npm//vega-embed@6?noext\",\n",
       "    };\n",
       "\n",
       "    function maybeLoadScript(lib, version) {\n",
       "      var key = `${lib.replace(\"-\", \"\")}_version`;\n",
       "      return (VEGA_DEBUG[key] == version) ?\n",
       "        Promise.resolve(paths[lib]) :\n",
       "        new Promise(function(resolve, reject) {\n",
       "          var s = document.createElement('script');\n",
       "          document.getElementsByTagName(\"head\")[0].appendChild(s);\n",
       "          s.async = true;\n",
       "          s.onload = () => {\n",
       "            VEGA_DEBUG[key] = version;\n",
       "            return resolve(paths[lib]);\n",
       "          };\n",
       "          s.onerror = () => reject(`Error loading script: ${paths[lib]}`);\n",
       "          s.src = paths[lib];\n",
       "        });\n",
       "    }\n",
       "\n",
       "    function showError(err) {\n",
       "      outputDiv.innerHTML = `<div class=\"error\" style=\"color:red;\">${err}</div>`;\n",
       "      throw err;\n",
       "    }\n",
       "\n",
       "    function displayChart(vegaEmbed) {\n",
       "      vegaEmbed(outputDiv, spec, embedOpt)\n",
       "        .catch(err => showError(`Javascript Error: ${err.message}<br>This usually means there's a typo in your chart specification. See the javascript console for the full traceback.`));\n",
       "    }\n",
       "\n",
       "    if(typeof define === \"function\" && define.amd) {\n",
       "      requirejs.config({paths});\n",
       "      require([\"vega-embed\"], displayChart, err => showError(`Error loading script: ${err.message}`));\n",
       "    } else {\n",
       "      maybeLoadScript(\"vega\", \"5\")\n",
       "        .then(() => maybeLoadScript(\"vega-lite\", \"4.17.0\"))\n",
       "        .then(() => maybeLoadScript(\"vega-embed\", \"6\"))\n",
       "        .catch(showError)\n",
       "        .then(() => displayChart(vegaEmbed));\n",
       "    }\n",
       "  })({\"config\": {\"view\": {\"continuousWidth\": 400, \"continuousHeight\": 300, \"stroke\": null}, \"facet\": {\"spacing\": 0}}, \"data\": {\"name\": \"data-14242879212cf3e76f2261abcec78373\"}, \"facet\": {\"column\": {\"field\": \"route_id\", \"sort\": [\"16\"], \"title\": \"Route ID\", \"type\": \"nominal\"}}, \"spec\": {\"layer\": [{\"mark\": \"rule\", \"encoding\": {\"color\": {\"value\": \"black\"}, \"y\": {\"field\": \"cutoff\", \"type\": \"quantitative\"}}, \"selection\": {\"selector002\": {\"type\": \"interval\", \"bind\": \"scales\", \"encodings\": [\"x\", \"y\"]}}}, {\"mark\": {\"type\": \"rule\", \"strokeDash\": [3, 3]}, \"encoding\": {\"color\": {\"value\": \"#323434\"}, \"y\": {\"field\": \"cutoff2\", \"type\": \"quantitative\"}}}, {\"mark\": {\"type\": \"point\", \"opacity\": 0.65, \"size\": 12, \"strokeWidth\": 1.1}, \"encoding\": {\"color\": {\"field\": \"time_of_day\", \"scale\": {\"range\": [\"#136C97\", \"#E16B26\", \"#F6BF16\", \"#00896B\", \"#7790A3\", \"#5B559C\"]}, \"sort\": [\"AM Peak\", \"Midday\", \"PM Peak\", \"Owl Service\"], \"title\": \"Time of Day\", \"type\": \"nominal\"}, \"tooltip\": [{\"field\": \"route_id\", \"type\": \"nominal\"}, {\"field\": \"trip_id\", \"type\": \"nominal\"}, {\"field\": \"service_hours\", \"type\": \"quantitative\"}, {\"field\": \"car_duration_hours\", \"type\": \"quantitative\"}, {\"field\": \"bus_multiplier\", \"type\": \"quantitative\"}, {\"field\": \"bus_difference\", \"type\": \"quantitative\"}, {\"field\": \"num_trips\", \"type\": \"quantitative\"}, {\"field\": \"num_competitive\", \"type\": \"quantitative\"}, {\"field\": \"pct_trips_competitive\", \"type\": \"quantitative\"}, {\"field\": \"p25\", \"type\": \"quantitative\"}, {\"field\": \"p50\", \"type\": \"quantitative\"}, {\"field\": \"p75\", \"type\": \"quantitative\"}], \"x\": {\"axis\": {\"grid\": false, \"labels\": false, \"ticks\": true, \"values\": [0]}, \"field\": \"jitter\", \"scale\": {}, \"title\": null, \"type\": \"quantitative\"}, \"y\": {\"field\": \"bus_difference\", \"scale\": {\"domain\": [-5, 747.0]}, \"title\": \"Difference in Bus to Car Travel Time (min)\", \"type\": \"quantitative\"}}, \"transform\": [{\"calculate\": \"sqrt(-2*log(random()))*cos(2*PI*random())\", \"as\": \"jitter\"}], \"width\": 50}, {\"layer\": [{\"mark\": {\"type\": \"point\", \"opacity\": 0.6, \"size\": 20, \"strokeWidth\": 1.3}, \"encoding\": {\"color\": {\"value\": \"#323434\"}, \"y\": {\"field\": \"bus_difference\", \"type\": \"quantitative\"}}, \"transform\": [{\"filter\": \"(datum.p50_trip === 1)\"}]}, {\"mark\": {\"type\": \"text\", \"align\": \"center\", \"baseline\": \"middle\"}, \"encoding\": {\"color\": {\"value\": \"black\"}, \"text\": {\"field\": \"pct_trips_competitive\", \"format\": \".0%\", \"type\": \"quantitative\"}, \"tooltip\": [{\"field\": \"route_id\", \"type\": \"nominal\"}, {\"field\": \"trip_id\", \"type\": \"nominal\"}, {\"field\": \"service_hours\", \"type\": \"quantitative\"}, {\"field\": \"car_duration_hours\", \"type\": \"quantitative\"}, {\"field\": \"bus_multiplier\", \"type\": \"quantitative\"}, {\"field\": \"bus_difference\", \"type\": \"quantitative\"}, {\"field\": \"num_trips\", \"type\": \"quantitative\"}, {\"field\": \"num_competitive\", \"type\": \"quantitative\"}, {\"field\": \"pct_trips_competitive\", \"type\": \"quantitative\"}, {\"field\": \"p25\", \"type\": \"quantitative\"}, {\"field\": \"p50\", \"type\": \"quantitative\"}, {\"field\": \"p75\", \"type\": \"quantitative\"}], \"x\": {\"value\": 30}, \"y\": {\"value\": 15}}, \"transform\": [{\"calculate\": \"sqrt(-2*log(random()))*cos(2*PI*random())\", \"as\": \"jitter\"}, {\"filter\": \"(datum.fastest_trip === 1)\"}]}]}]}, \"resolve\": {\"scale\": {\"y\": \"shared\"}}, \"title\": \"Difference in Bus to Car Travel Time (min)\", \"$schema\": \"https://vega.github.io/schema/vega-lite/v4.17.0.json\", \"datasets\": {\"data-14242879212cf3e76f2261abcec78373\": [{\"calitp_itp_id\": 482, \"trip_key\": 2145124109685266677, \"trip_id\": \"83\", \"shape_id\": \"16\", \"route_id\": \"16\", \"service_hours\": 0.93, \"trip_first_departure_ts\": 27000, \"trip_last_arrival_ts\": 30360, \"departure_hour\": 7, \"time_of_day\": \"AM Peak\", \"p25\": 0.93, \"p50\": 0.93, \"p75\": 0.93, \"p50_trip\": 1, \"fastest_trip\": 0, \"car_duration_hours\": 0.48, \"competitive_route\": 1, \"bus_multiplier\": 1.94, \"bus_difference\": 27.0, \"num_trips\": 12, \"num_competitive\": 11, \"pct_trips_competitive\": 0.917, \"bus_difference_spread\": 720.0, \"route_group\": \"long\", \"max_trip_hrs\": 12.93, \"max_trip_route_group\": 12.93, \"name\": \"Tuolumne County Transit Agency\", \"caltrans_district\": \"10 - Stockton\", \"drmt_organization_name\": \"['recl7fHqYd2GSTtn3']\", \"cutoff2\": 40, \"cutoff\": 0}, {\"calitp_itp_id\": 482, \"trip_key\": -1666101624449243044, \"trip_id\": \"84\", \"shape_id\": \"16\", \"route_id\": \"16\", \"service_hours\": 0.93, \"trip_first_departure_ts\": 30600, \"trip_last_arrival_ts\": 33960, \"departure_hour\": 8, \"time_of_day\": \"AM Peak\", \"p25\": 0.93, \"p50\": 0.93, \"p75\": 0.93, \"p50_trip\": 1, \"fastest_trip\": 0, \"car_duration_hours\": 0.48, \"competitive_route\": 1, \"bus_multiplier\": 1.94, \"bus_difference\": 27.0, \"num_trips\": 12, \"num_competitive\": 11, \"pct_trips_competitive\": 0.917, \"bus_difference_spread\": 720.0, \"route_group\": \"long\", \"max_trip_hrs\": 12.93, \"max_trip_route_group\": 12.93, \"name\": \"Tuolumne County Transit Agency\", \"caltrans_district\": \"10 - Stockton\", \"drmt_organization_name\": \"['recl7fHqYd2GSTtn3']\", \"cutoff2\": 40, \"cutoff\": 0}, {\"calitp_itp_id\": 482, \"trip_key\": -811955265033482998, \"trip_id\": \"93\", \"shape_id\": \"16\", \"route_id\": \"16\", \"service_hours\": 0.93, \"trip_first_departure_ts\": 106200, \"trip_last_arrival_ts\": 109560, \"departure_hour\": 5, \"time_of_day\": \"Owl Service\", \"p25\": 0.93, \"p50\": 0.93, \"p75\": 0.93, \"p50_trip\": 1, \"fastest_trip\": 0, \"car_duration_hours\": 0.48, \"competitive_route\": 1, \"bus_multiplier\": 1.94, \"bus_difference\": 27.0, \"num_trips\": 12, \"num_competitive\": 11, \"pct_trips_competitive\": 0.917, \"bus_difference_spread\": 720.0, \"route_group\": \"long\", \"max_trip_hrs\": 12.93, \"max_trip_route_group\": 12.93, \"name\": \"Tuolumne County Transit Agency\", \"caltrans_district\": \"10 - Stockton\", \"drmt_organization_name\": \"['recl7fHqYd2GSTtn3']\", \"cutoff2\": 40, \"cutoff\": 0}, {\"calitp_itp_id\": 482, \"trip_key\": -7629486483351359896, \"trip_id\": \"90\", \"shape_id\": \"16\", \"route_id\": \"16\", \"service_hours\": 0.93, \"trip_first_departure_ts\": 95400, \"trip_last_arrival_ts\": 98760, \"departure_hour\": 2, \"time_of_day\": \"Owl Service\", \"p25\": 0.93, \"p50\": 0.93, \"p75\": 0.93, \"p50_trip\": 1, \"fastest_trip\": 0, \"car_duration_hours\": 0.48, \"competitive_route\": 1, \"bus_multiplier\": 1.94, \"bus_difference\": 27.0, \"num_trips\": 12, \"num_competitive\": 11, \"pct_trips_competitive\": 0.917, \"bus_difference_spread\": 720.0, \"route_group\": \"long\", \"max_trip_hrs\": 12.93, \"max_trip_route_group\": 12.93, \"name\": \"Tuolumne County Transit Agency\", \"caltrans_district\": \"10 - Stockton\", \"drmt_organization_name\": \"['recl7fHqYd2GSTtn3']\", \"cutoff2\": 40, \"cutoff\": 0}, {\"calitp_itp_id\": 482, \"trip_key\": -3718860337871589477, \"trip_id\": \"85\", \"shape_id\": \"16\", \"route_id\": \"16\", \"service_hours\": 0.93, \"trip_first_departure_ts\": 34200, \"trip_last_arrival_ts\": 37560, \"departure_hour\": 9, \"time_of_day\": \"AM Peak\", \"p25\": 0.93, \"p50\": 0.93, \"p75\": 0.93, \"p50_trip\": 1, \"fastest_trip\": 0, \"car_duration_hours\": 0.48, \"competitive_route\": 1, \"bus_multiplier\": 1.94, \"bus_difference\": 27.0, \"num_trips\": 12, \"num_competitive\": 11, \"pct_trips_competitive\": 0.917, \"bus_difference_spread\": 720.0, \"route_group\": \"long\", \"max_trip_hrs\": 12.93, \"max_trip_route_group\": 12.93, \"name\": \"Tuolumne County Transit Agency\", \"caltrans_district\": \"10 - Stockton\", \"drmt_organization_name\": \"['recl7fHqYd2GSTtn3']\", \"cutoff2\": 40, \"cutoff\": 0}, {\"calitp_itp_id\": 482, \"trip_key\": 4134191413769255642, \"trip_id\": \"87\", \"shape_id\": \"16\", \"route_id\": \"16\", \"service_hours\": 0.93, \"trip_first_departure_ts\": 41400, \"trip_last_arrival_ts\": 44760, \"departure_hour\": 11, \"time_of_day\": \"Midday\", \"p25\": 0.93, \"p50\": 0.93, \"p75\": 0.93, \"p50_trip\": 1, \"fastest_trip\": 1, \"car_duration_hours\": 0.48, \"competitive_route\": 1, \"bus_multiplier\": 1.94, \"bus_difference\": 27.0, \"num_trips\": 12, \"num_competitive\": 11, \"pct_trips_competitive\": 0.917, \"bus_difference_spread\": 720.0, \"route_group\": \"long\", \"max_trip_hrs\": 12.93, \"max_trip_route_group\": 12.93, \"name\": \"Tuolumne County Transit Agency\", \"caltrans_district\": \"10 - Stockton\", \"drmt_organization_name\": \"['recl7fHqYd2GSTtn3']\", \"cutoff2\": 40, \"cutoff\": 0}, {\"calitp_itp_id\": 482, \"trip_key\": 4010574854795830805, \"trip_id\": \"89\", \"shape_id\": \"16\", \"route_id\": \"16\", \"service_hours\": 0.93, \"trip_first_departure_ts\": 91800, \"trip_last_arrival_ts\": 95160, \"departure_hour\": 1, \"time_of_day\": \"Owl Service\", \"p25\": 0.93, \"p50\": 0.93, \"p75\": 0.93, \"p50_trip\": 1, \"fastest_trip\": 0, \"car_duration_hours\": 0.48, \"competitive_route\": 1, \"bus_multiplier\": 1.94, \"bus_difference\": 27.0, \"num_trips\": 12, \"num_competitive\": 11, \"pct_trips_competitive\": 0.917, \"bus_difference_spread\": 720.0, \"route_group\": \"long\", \"max_trip_hrs\": 12.93, \"max_trip_route_group\": 12.93, \"name\": \"Tuolumne County Transit Agency\", \"caltrans_district\": \"10 - Stockton\", \"drmt_organization_name\": \"['recl7fHqYd2GSTtn3']\", \"cutoff2\": 40, \"cutoff\": 0}, {\"calitp_itp_id\": 482, \"trip_key\": -428294178438464651, \"trip_id\": \"86\", \"shape_id\": \"16\", \"route_id\": \"16\", \"service_hours\": 0.93, \"trip_first_departure_ts\": 37800, \"trip_last_arrival_ts\": 41160, \"departure_hour\": 10, \"time_of_day\": \"Midday\", \"p25\": 0.93, \"p50\": 0.93, \"p75\": 0.93, \"p50_trip\": 1, \"fastest_trip\": 0, \"car_duration_hours\": 0.48, \"competitive_route\": 1, \"bus_multiplier\": 1.94, \"bus_difference\": 27.0, \"num_trips\": 12, \"num_competitive\": 11, \"pct_trips_competitive\": 0.917, \"bus_difference_spread\": 720.0, \"route_group\": \"long\", \"max_trip_hrs\": 12.93, \"max_trip_route_group\": 12.93, \"name\": \"Tuolumne County Transit Agency\", \"caltrans_district\": \"10 - Stockton\", \"drmt_organization_name\": \"['recl7fHqYd2GSTtn3']\", \"cutoff2\": 40, \"cutoff\": 0}, {\"calitp_itp_id\": 482, \"trip_key\": 444715570233316546, \"trip_id\": \"91\", \"shape_id\": \"16\", \"route_id\": \"16\", \"service_hours\": 0.93, \"trip_first_departure_ts\": 99000, \"trip_last_arrival_ts\": 102360, \"departure_hour\": 3, \"time_of_day\": \"Owl Service\", \"p25\": 0.93, \"p50\": 0.93, \"p75\": 0.93, \"p50_trip\": 1, \"fastest_trip\": 0, \"car_duration_hours\": 0.48, \"competitive_route\": 1, \"bus_multiplier\": 1.94, \"bus_difference\": 27.0, \"num_trips\": 12, \"num_competitive\": 11, \"pct_trips_competitive\": 0.917, \"bus_difference_spread\": 720.0, \"route_group\": \"long\", \"max_trip_hrs\": 12.93, \"max_trip_route_group\": 12.93, \"name\": \"Tuolumne County Transit Agency\", \"caltrans_district\": \"10 - Stockton\", \"drmt_organization_name\": \"['recl7fHqYd2GSTtn3']\", \"cutoff2\": 40, \"cutoff\": 0}, {\"calitp_itp_id\": 482, \"trip_key\": -3941352894702572126, \"trip_id\": \"92\", \"shape_id\": \"16\", \"route_id\": \"16\", \"service_hours\": 0.93, \"trip_first_departure_ts\": 102600, \"trip_last_arrival_ts\": 105960, \"departure_hour\": 4, \"time_of_day\": \"Owl Service\", \"p25\": 0.93, \"p50\": 0.93, \"p75\": 0.93, \"p50_trip\": 1, \"fastest_trip\": 0, \"car_duration_hours\": 0.48, \"competitive_route\": 1, \"bus_multiplier\": 1.94, \"bus_difference\": 27.0, \"num_trips\": 12, \"num_competitive\": 11, \"pct_trips_competitive\": 0.917, \"bus_difference_spread\": 720.0, \"route_group\": \"long\", \"max_trip_hrs\": 12.93, \"max_trip_route_group\": 12.93, \"name\": \"Tuolumne County Transit Agency\", \"caltrans_district\": \"10 - Stockton\", \"drmt_organization_name\": \"['recl7fHqYd2GSTtn3']\", \"cutoff2\": 40, \"cutoff\": 0}, {\"calitp_itp_id\": 482, \"trip_key\": 437802656543614001, \"trip_id\": \"94\", \"shape_id\": \"16\", \"route_id\": \"16\", \"service_hours\": 0.93, \"trip_first_departure_ts\": 109800, \"trip_last_arrival_ts\": 113160, \"departure_hour\": 6, \"time_of_day\": \"Owl Service\", \"p25\": 0.93, \"p50\": 0.93, \"p75\": 0.93, \"p50_trip\": 1, \"fastest_trip\": 0, \"car_duration_hours\": 0.48, \"competitive_route\": 1, \"bus_multiplier\": 1.94, \"bus_difference\": 27.0, \"num_trips\": 12, \"num_competitive\": 11, \"pct_trips_competitive\": 0.917, \"bus_difference_spread\": 720.0, \"route_group\": \"long\", \"max_trip_hrs\": 12.93, \"max_trip_route_group\": 12.93, \"name\": \"Tuolumne County Transit Agency\", \"caltrans_district\": \"10 - Stockton\", \"drmt_organization_name\": \"['recl7fHqYd2GSTtn3']\", \"cutoff2\": 40, \"cutoff\": 0}, {\"calitp_itp_id\": 482, \"trip_key\": -4103005086418910727, \"trip_id\": \"88\", \"shape_id\": \"16\", \"route_id\": \"16\", \"service_hours\": 12.93, \"trip_first_departure_ts\": 45000, \"trip_last_arrival_ts\": 91560, \"departure_hour\": 12, \"time_of_day\": \"Midday\", \"p25\": 0.93, \"p50\": 0.93, \"p75\": 0.93, \"p50_trip\": 0, \"fastest_trip\": 0, \"car_duration_hours\": 0.48, \"competitive_route\": 1, \"bus_multiplier\": 26.94, \"bus_difference\": 747.0, \"num_trips\": 12, \"num_competitive\": 11, \"pct_trips_competitive\": 0.917, \"bus_difference_spread\": 720.0, \"route_group\": \"long\", \"max_trip_hrs\": 12.93, \"max_trip_route_group\": 12.93, \"name\": \"Tuolumne County Transit Agency\", \"caltrans_district\": \"10 - Stockton\", \"drmt_organization_name\": \"['recl7fHqYd2GSTtn3']\", \"cutoff2\": 40, \"cutoff\": 0}]}}, {\"mode\": \"vega-lite\"});\n",
       "</script>"
      ],
      "text/plain": [
       "alt.FacetChart(...)"
      ]
     },
     "metadata": {},
     "output_type": "display_data"
    }
   ],
   "source": [
    "route_group = \"long\"\n",
    "try:\n",
    "    display_charts_for_route_group(df, route_group)\n",
    "except:\n",
    "    print(\"No routes meet this criteria.\")"
   ]
  },
  {
   "cell_type": "markdown",
   "id": "ace75b5f-0442-4fbe-aebd-6c3a13ae13a7",
   "metadata": {
    "papermill": {
     "duration": 0.019767,
     "end_time": "2022-05-09T17:19:25.415939",
     "exception": false,
     "start_time": "2022-05-09T17:19:25.396172",
     "status": "completed"
    },
    "tags": []
   },
   "source": [
    "### GTFS Real-Time Speedmaps"
   ]
  },
  {
   "cell_type": "code",
   "execution_count": 16,
   "id": "3f06fdc4-d5a8-41f5-9b72-ed7e8a2dd2fc",
   "metadata": {
    "execution": {
     "iopub.execute_input": "2022-05-09T17:19:25.455238Z",
     "iopub.status.busy": "2022-05-09T17:19:25.454531Z",
     "iopub.status.idle": "2022-05-09T17:19:25.509053Z",
     "shell.execute_reply": "2022-05-09T17:19:25.507987Z"
    },
    "jupyter": {
     "source_hidden": true
    },
    "papermill": {
     "duration": 0.077996,
     "end_time": "2022-05-09T17:19:25.511341",
     "exception": false,
     "start_time": "2022-05-09T17:19:25.433345",
     "status": "completed"
    },
    "tags": [
     "remove_input"
    ]
   },
   "outputs": [
    {
     "data": {
      "text/html": [
       "No GTFS RT data available."
      ],
      "text/plain": [
       "<IPython.core.display.HTML object>"
      ]
     },
     "metadata": {},
     "output_type": "display_data"
    }
   ],
   "source": [
    "PORTFOLIO_SITE_YAML = \"../portfolio/analyses.yml\"\n",
    "\n",
    "# Grab list of ITP IDs with GTFS RT speedmaps\n",
    "rt_itp_id = deploy_portfolio_yaml.check_if_rt_data_available(PORTFOLIO_SITE_YAML)\n",
    "\n",
    "# Construct the URL \n",
    "RT_URL = (\"https://analysis.calitp.org/rt/\"\n",
    "          f\"district_{district_number}-{district_name}/\"\n",
    "          f\"speedmaps__itp_id_{itp_id}.html\"\n",
    "         ) \n",
    "\n",
    "if itp_id in rt_itp_id:\n",
    "    display(HTML('<a href=RT_URL>GTFS RT speedmaps here.</a>'))\n",
    "else:\n",
    "    display(HTML(\"No GTFS RT data available.\"))"
   ]
  },
  {
   "cell_type": "code",
   "execution_count": null,
   "id": "4664fe87-4e5e-4414-9602-a5c9c2a14072",
   "metadata": {
    "jupyter": {
     "source_hidden": true
    },
    "papermill": {
     "duration": 0.017705,
     "end_time": "2022-05-09T17:19:25.554126",
     "exception": false,
     "start_time": "2022-05-09T17:19:25.536421",
     "status": "completed"
    },
    "tags": [
     "remove_input"
    ]
   },
   "outputs": [],
   "source": []
  }
 ],
 "metadata": {
  "kernelspec": {
   "display_name": "Python 3 (ipykernel)",
   "language": "python",
   "name": "python3"
  },
  "language_info": {
   "codemirror_mode": {
    "name": "ipython",
    "version": 3
   },
   "file_extension": ".py",
   "mimetype": "text/x-python",
   "name": "python",
   "nbconvert_exporter": "python",
   "pygments_lexer": "ipython3",
   "version": "3.9.12"
  },
  "papermill": {
   "default_parameters": {},
   "duration": 28.108676,
   "end_time": "2022-05-09T17:19:27.501840",
   "environment_variables": {},
   "exception": null,
   "input_path": "bus_service_increase/competitive-parallel-routes.ipynb",
   "output_path": "portfolio/parallel_corridors/district_10-stockton/competitive-parallel-routes__itp_id_482.ipynb",
   "parameters": {
    "district": "10 - Stockton",
    "itp_id": 482
   },
   "start_time": "2022-05-09T17:18:59.393164",
   "version": "2.3.4"
  }
 },
 "nbformat": 4,
 "nbformat_minor": 5
}