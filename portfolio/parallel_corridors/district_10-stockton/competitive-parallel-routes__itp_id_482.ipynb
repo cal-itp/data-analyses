{
 "cells": [
  {
   "cell_type": "code",
   "execution_count": 1,
   "id": "95d00857-6a20-4529-a519-2cc7182928a9",
   "metadata": {
    "execution": {
     "iopub.execute_input": "2022-05-08T16:19:37.546900Z",
     "iopub.status.busy": "2022-05-08T16:19:37.546561Z",
     "iopub.status.idle": "2022-05-08T16:19:45.569364Z",
     "shell.execute_reply": "2022-05-08T16:19:45.568376Z"
    },
    "jupyter": {
     "source_hidden": true
    },
    "papermill": {
     "duration": 8.03783,
     "end_time": "2022-05-08T16:19:45.572198",
     "exception": false,
     "start_time": "2022-05-08T16:19:37.534368",
     "status": "completed"
    },
    "tags": [
     "remove_input"
    ]
   },
   "outputs": [],
   "source": [
    "%%capture\n",
    "import warnings\n",
    "warnings.filterwarnings('ignore')\n",
    "\n",
    "import altair as alt\n",
    "import calitp.magics\n",
    "import geopandas as gpd\n",
    "import intake\n",
    "import pandas as pd\n",
    "\n",
    "from IPython.display import display, Markdown, HTML\n",
    "\n",
    "import parallel_corridors_utils\n",
    "from shared_utils import styleguide\n",
    "\n",
    "catalog = intake.open_catalog(\"./*.yml\")\n",
    "alt.renderers.enable(\"html\")"
   ]
  },
  {
   "cell_type": "code",
   "execution_count": 2,
   "id": "8af2a0c1-f3da-408d-9bea-11d9fbf8695d",
   "metadata": {
    "execution": {
     "iopub.execute_input": "2022-05-08T16:19:45.594183Z",
     "iopub.status.busy": "2022-05-08T16:19:45.593926Z",
     "iopub.status.idle": "2022-05-08T16:19:45.597861Z",
     "shell.execute_reply": "2022-05-08T16:19:45.596949Z"
    },
    "jupyter": {
     "source_hidden": true
    },
    "papermill": {
     "duration": 0.016956,
     "end_time": "2022-05-08T16:19:45.599839",
     "exception": false,
     "start_time": "2022-05-08T16:19:45.582883",
     "status": "completed"
    },
    "tags": [
     "parameters",
     "remove_input"
    ]
   },
   "outputs": [],
   "source": [
    "# parameters cell\n",
    "itp_id = 182"
   ]
  },
  {
   "cell_type": "code",
   "execution_count": 3,
   "id": "a90a66f1",
   "metadata": {
    "execution": {
     "iopub.execute_input": "2022-05-08T16:19:45.624692Z",
     "iopub.status.busy": "2022-05-08T16:19:45.624054Z",
     "iopub.status.idle": "2022-05-08T16:19:45.628675Z",
     "shell.execute_reply": "2022-05-08T16:19:45.627810Z"
    },
    "jupyter": {
     "source_hidden": true
    },
    "papermill": {
     "duration": 0.017698,
     "end_time": "2022-05-08T16:19:45.630382",
     "exception": false,
     "start_time": "2022-05-08T16:19:45.612684",
     "status": "completed"
    },
    "tags": [
     "injected-parameters",
     "remove_input"
    ]
   },
   "outputs": [],
   "source": [
    "# Parameters\n",
    "district = \"10 - Stockton\"\n",
    "itp_id = 482\n"
   ]
  },
  {
   "cell_type": "code",
   "execution_count": 4,
   "id": "9582aaf4-79ff-412a-b248-8d8d693ebd4f",
   "metadata": {
    "execution": {
     "iopub.execute_input": "2022-05-08T16:19:45.651916Z",
     "iopub.status.busy": "2022-05-08T16:19:45.651125Z",
     "iopub.status.idle": "2022-05-08T16:19:46.827664Z",
     "shell.execute_reply": "2022-05-08T16:19:46.827004Z"
    },
    "jupyter": {
     "source_hidden": true
    },
    "papermill": {
     "duration": 1.189996,
     "end_time": "2022-05-08T16:19:46.829902",
     "exception": false,
     "start_time": "2022-05-08T16:19:45.639906",
     "status": "completed"
    },
    "tags": [
     "remove_input"
    ]
   },
   "outputs": [],
   "source": [
    "df = catalog.competitive_route_variability.read()\n",
    "\n",
    "df = (df[(df.calitp_itp_id == itp_id) & \n",
    "         (df.route_group.notna())]\n",
    "      .reset_index(drop=True)\n",
    "     )\n",
    "\n",
    "\n",
    "if itp_id == 182:\n",
    "    df = df.assign(\n",
    "        route_id = df.route_id.str.replace('-13153', '').astype(int)\n",
    "    )"
   ]
  },
  {
   "cell_type": "code",
   "execution_count": 5,
   "id": "33ac4b06-f647-4dce-a625-8f2c1b37cc60",
   "metadata": {
    "execution": {
     "iopub.execute_input": "2022-05-08T16:19:46.851729Z",
     "iopub.status.busy": "2022-05-08T16:19:46.851242Z",
     "iopub.status.idle": "2022-05-08T16:19:46.856961Z",
     "shell.execute_reply": "2022-05-08T16:19:46.856434Z"
    },
    "jupyter": {
     "source_hidden": true
    },
    "papermill": {
     "duration": 0.018533,
     "end_time": "2022-05-08T16:19:46.858593",
     "exception": false,
     "start_time": "2022-05-08T16:19:46.840060",
     "status": "completed"
    },
    "tags": [
     "remove_input"
    ]
   },
   "outputs": [],
   "source": [
    "%%capture_parameters\n",
    "operator_name = df.name.iloc[0]\n",
    "\n",
    "itp_id, operator_name"
   ]
  },
  {
   "cell_type": "markdown",
   "id": "65bc6f5c-8348-42ee-b2dd-52057c406852",
   "metadata": {
    "papermill": {
     "duration": 0.009861,
     "end_time": "2022-05-08T16:19:46.878520",
     "exception": false,
     "start_time": "2022-05-08T16:19:46.868659",
     "status": "completed"
    },
    "tags": []
   },
   "source": [
    "# Tuolumne County Transit Agency (ITP ID: 482)"
   ]
  },
  {
   "cell_type": "code",
   "execution_count": 6,
   "id": "a689c1ab-2c6c-4831-8d64-897f5986f571",
   "metadata": {
    "execution": {
     "iopub.execute_input": "2022-05-08T16:19:46.900253Z",
     "iopub.status.busy": "2022-05-08T16:19:46.899783Z",
     "iopub.status.idle": "2022-05-08T16:19:46.904758Z",
     "shell.execute_reply": "2022-05-08T16:19:46.904272Z"
    },
    "jupyter": {
     "source_hidden": true
    },
    "papermill": {
     "duration": 0.023175,
     "end_time": "2022-05-08T16:19:46.911603",
     "exception": false,
     "start_time": "2022-05-08T16:19:46.888428",
     "status": "completed"
    },
    "tags": [
     "remove_input"
    ]
   },
   "outputs": [
    {
     "data": {
      "text/html": [
       "<h1>Competitive & Parallel Routes</h1>"
      ],
      "text/plain": [
       "<IPython.core.display.HTML object>"
      ]
     },
     "metadata": {},
     "output_type": "display_data"
    }
   ],
   "source": [
    "display(HTML(\"<h1>Competitive & Parallel Routes</h1>\")) "
   ]
  },
  {
   "cell_type": "code",
   "execution_count": 7,
   "id": "2cb4d8d5-4760-40e4-85b1-cb833d8bb648",
   "metadata": {
    "execution": {
     "iopub.execute_input": "2022-05-08T16:19:46.937897Z",
     "iopub.status.busy": "2022-05-08T16:19:46.937371Z",
     "iopub.status.idle": "2022-05-08T16:19:56.800331Z",
     "shell.execute_reply": "2022-05-08T16:19:56.799419Z"
    },
    "jupyter": {
     "source_hidden": true
    },
    "papermill": {
     "duration": 9.877782,
     "end_time": "2022-05-08T16:19:56.802852",
     "exception": false,
     "start_time": "2022-05-08T16:19:46.925070",
     "status": "completed"
    },
    "tags": [
     "remove_input"
    ]
   },
   "outputs": [],
   "source": [
    "# Grab parameters for narrative text - clean up formatting here \n",
    "district = df.caltrans_district.iloc[0]\n",
    "formatted_date = pd.to_datetime(parallel_corridors_utils.SELECTED_DATE).strftime('%m-%d-%Y')\n",
    "\n",
    "PCT_COMPETITIVE_THRESHOLD = 0.75\n",
    "\n",
    "stats = parallel_corridors_utils.operator_parallel_competitive_stats(\n",
    "    itp_id, PCT_COMPETITIVE_THRESHOLD)\n",
    "\n",
    "pct_parallel = round(stats['parallel_routes'] / stats['num_routes'] * 100,1 )\n",
    "pct_competitive =  round(stats['competitive_routes'] / stats['num_routes'] * 100,1 )"
   ]
  },
  {
   "cell_type": "markdown",
   "id": "ab667928-5274-4490-82d9-4c39293209a4",
   "metadata": {
    "papermill": {
     "duration": 0.010976,
     "end_time": "2022-05-08T16:19:56.827770",
     "exception": false,
     "start_time": "2022-05-08T16:19:56.816794",
     "status": "completed"
    },
    "tags": []
   },
   "source": [
    "## Quick Stats"
   ]
  },
  {
   "cell_type": "code",
   "execution_count": 8,
   "id": "0416509d-dc62-4165-b62e-64f8b26e8b8e",
   "metadata": {
    "execution": {
     "iopub.execute_input": "2022-05-08T16:19:56.851370Z",
     "iopub.status.busy": "2022-05-08T16:19:56.850560Z",
     "iopub.status.idle": "2022-05-08T16:19:56.856886Z",
     "shell.execute_reply": "2022-05-08T16:19:56.856373Z"
    },
    "jupyter": {
     "source_hidden": true
    },
    "papermill": {
     "duration": 0.01959,
     "end_time": "2022-05-08T16:19:56.858443",
     "exception": false,
     "start_time": "2022-05-08T16:19:56.838853",
     "status": "completed"
    },
    "tags": [
     "remove_input"
    ]
   },
   "outputs": [
    {
     "data": {
      "text/markdown": [
       "**Bus routes in service**: 3 <br>**Parallel routes** to State Highway Network (SHN): 3 routes (100.0%)<br>**Competitive routes** against car travel: 1 routes (33.3%)"
      ],
      "text/plain": [
       "<IPython.core.display.Markdown object>"
      ]
     },
     "metadata": {},
     "output_type": "display_data"
    }
   ],
   "source": [
    "display(\n",
    "    Markdown(\n",
    "        f\"**Bus routes in service**: {stats['num_routes']} \"\n",
    "        \"<br>**Parallel routes** to State Highway Network (SHN): \"\n",
    "        f\"{stats['parallel_routes']} routes ({pct_parallel}%)\"\n",
    "        f\"<br>**Competitive routes** against car travel: {stats['competitive_routes']} routes ({pct_competitive}%)\"\n",
    "    )\n",
    ")"
   ]
  },
  {
   "cell_type": "code",
   "execution_count": 9,
   "id": "f9d6ab58-f0ee-460c-b6de-657490e1f386",
   "metadata": {
    "execution": {
     "iopub.execute_input": "2022-05-08T16:19:56.882092Z",
     "iopub.status.busy": "2022-05-08T16:19:56.881553Z",
     "iopub.status.idle": "2022-05-08T16:19:56.891337Z",
     "shell.execute_reply": "2022-05-08T16:19:56.890831Z"
    },
    "jupyter": {
     "source_hidden": true
    },
    "papermill": {
     "duration": 0.023345,
     "end_time": "2022-05-08T16:19:56.893070",
     "exception": false,
     "start_time": "2022-05-08T16:19:56.869725",
     "status": "completed"
    },
    "tags": [
     "remove_input"
    ]
   },
   "outputs": [],
   "source": [
    "def set_yaxis_range(df, y_col):\n",
    "    Y_MIN = df[y_col].min()\n",
    "    Y_MAX = df[y_col].max()\n",
    "    \n",
    "    return Y_MIN, Y_MAX\n",
    "\n",
    "# Rather than set it according to the operator, which can vary,\n",
    "# just use set thresholds for each group\n",
    "diff_cutoffs = parallel_corridors_utils.diff_cutoffs\n",
    "\n",
    "PCT_TRIPS_BELOW_CUTOFF = 0.25\n",
    "\n",
    "def top15_routes(df, route_group):\n",
    "    df2 = (df[df.route_group==route_group])\n",
    "    # Set a cut-off to enable sorting, where most of the trips are \n",
    "    # below a certain time difference cut-off, \n",
    "    # grab top 15 routes where majority of trips are below that cut-off \n",
    "\n",
    "    route_cols = [\"calitp_itp_id\", \"route_id\"]\n",
    "\n",
    "    df2 = df2.assign(\n",
    "        below_cutoff = df2.apply(lambda x: 1 if x.bus_difference <= diff_cutoffs[route_group] \n",
    "                                 else 0, axis=1),\n",
    "        num_trips = df2.groupby(route_cols)[\"trip_id\"].transform(\"count\")\n",
    "    )\n",
    "\n",
    "    df2[\"below_cutoff\"] = df2.groupby(route_cols)[\"below_cutoff\"].transform(\"sum\")\n",
    "    df2[\"pct_below_cutoff\"] = df2.below_cutoff.divide(df2.num_trips)\n",
    "\n",
    "    # At least half the trips are below that cut-off\n",
    "    # but show 15 max, otherwise, show less, since these won't be as interesting to operators\n",
    "    df3 = (df2[df2.pct_below_cutoff >= PCT_TRIPS_BELOW_CUTOFF]\n",
    "           .sort_values([\"calitp_itp_id\", \"below_cutoff\", \n",
    "                         \"pct_below_cutoff\", \"route_id\"],\n",
    "                        ascending = [True, False, False, True]\n",
    "                       )\n",
    "           .drop_duplicates(subset=[\"calitp_itp_id\", \"route_id\"])\n",
    "          ).head(15)\n",
    "    \n",
    "    return list(df3.route_id)"
   ]
  },
  {
   "cell_type": "code",
   "execution_count": 10,
   "id": "cf36d559-3349-4144-8086-8ac9ce937a5a",
   "metadata": {
    "execution": {
     "iopub.execute_input": "2022-05-08T16:19:56.926076Z",
     "iopub.status.busy": "2022-05-08T16:19:56.925221Z",
     "iopub.status.idle": "2022-05-08T16:19:56.930768Z",
     "shell.execute_reply": "2022-05-08T16:19:56.930251Z"
    },
    "jupyter": {
     "source_hidden": true
    },
    "papermill": {
     "duration": 0.023456,
     "end_time": "2022-05-08T16:19:56.932544",
     "exception": false,
     "start_time": "2022-05-08T16:19:56.909088",
     "status": "completed"
    },
    "tags": [
     "remove_input"
    ]
   },
   "outputs": [],
   "source": [
    "short_caption = (\n",
    "    f\"<br>These are routes that have at least {int(PCT_TRIPS_BELOW_CUTOFF*100)}% of their trips \"\n",
    "    f\"take no more than an additional {diff_cutoffs['short']} min compared to a car \"\n",
    "    \"(up to 15 routes) are shown.\"\n",
    ")\n",
    "\n",
    "med_caption = (\n",
    "    f\"<br>These are routes that have at least {int(PCT_TRIPS_BELOW_CUTOFF*100)}% of their trips \"\n",
    "    f\"take no more than an additional {diff_cutoffs['medium']} min compared to a car \"\n",
    "    \"(up to 15 routes) are shown.\"\n",
    ")\n",
    "\n",
    "long_caption = (\n",
    "    f\"<br>These are routes that have at least {int(PCT_TRIPS_BELOW_CUTOFF*100)}% of their trips \"\n",
    "    f\"take no more than an additional {diff_cutoffs['long']} min compared to a car \"\n",
    "    \"(up to 15 routes) are shown.\")\n",
    "\n",
    "\n",
    "CAPTIONS_DICT = {\n",
    "    \"short\": short_caption,\n",
    "    \"medium\": med_caption,\n",
    "    \"long\": long_caption,\n",
    "}"
   ]
  },
  {
   "cell_type": "code",
   "execution_count": 11,
   "id": "e4306d58-6944-47e9-afef-5d5b524c751f",
   "metadata": {
    "execution": {
     "iopub.execute_input": "2022-05-08T16:19:56.957143Z",
     "iopub.status.busy": "2022-05-08T16:19:56.956613Z",
     "iopub.status.idle": "2022-05-08T16:19:56.963851Z",
     "shell.execute_reply": "2022-05-08T16:19:56.963346Z"
    },
    "jupyter": {
     "source_hidden": true
    },
    "papermill": {
     "duration": 0.021252,
     "end_time": "2022-05-08T16:19:56.965420",
     "exception": false,
     "start_time": "2022-05-08T16:19:56.944168",
     "status": "completed"
    },
    "tags": [
     "remove_input"
    ]
   },
   "outputs": [],
   "source": [
    "def setup_charts(df, PCT_COMPETITIVE_THRESHOLD, route_group):\n",
    "    # Set up df for charting (cut-off at some threshold to show most competitive routes)\n",
    "    plot_me = (df[df.pct_trips_competitive > PCT_COMPETITIVE_THRESHOLD]\n",
    "           .drop(columns = \"geometry\")\n",
    "    )\n",
    "    \n",
    "    y_col1 = \"bus_multiplier\"\n",
    "    Y_MIN1, Y_MAX1 = set_yaxis_range(plot_me, y_col1)\n",
    "\n",
    "    y_col2 = \"bus_difference\"\n",
    "    Y_MIN2, Y_MAX2 = set_yaxis_range(plot_me, y_col2)\n",
    "     \n",
    "    subset_routes = top15_routes(plot_me, route_group)\n",
    "    \n",
    "    multiplier_chart = parallel_corridors_utils.make_stripplot(\n",
    "        plot_me[plot_me.route_id.isin(subset_routes)], \n",
    "        y_col1, Y_MIN = Y_MIN1, Y_MAX = Y_MAX1\n",
    "    )\n",
    "    \n",
    "    difference_chart = parallel_corridors_utils.make_stripplot(\n",
    "        plot_me[plot_me.route_id.isin(subset_routes)], \n",
    "        y_col2, Y_MIN = Y_MIN2, Y_MAX = Y_MAX2\n",
    "    )\n",
    "    \n",
    "    return subset_routes, multiplier_chart, difference_chart            "
   ]
  },
  {
   "cell_type": "markdown",
   "id": "525f9b38-072b-46d1-96a8-1aa4b038357c",
   "metadata": {
    "papermill": {
     "duration": 0.010851,
     "end_time": "2022-05-08T16:19:56.987041",
     "exception": false,
     "start_time": "2022-05-08T16:19:56.976190",
     "status": "completed"
    },
    "tags": []
   },
   "source": [
    "## Viable Competitive Routes\n",
    "### Short Routes (< 1 hr)"
   ]
  },
  {
   "cell_type": "code",
   "execution_count": 12,
   "id": "57f7084c-2cf7-45c6-ba08-1609e0bd6ca5",
   "metadata": {
    "execution": {
     "iopub.execute_input": "2022-05-08T16:19:57.015563Z",
     "iopub.status.busy": "2022-05-08T16:19:57.014780Z",
     "iopub.status.idle": "2022-05-08T16:19:57.027614Z",
     "shell.execute_reply": "2022-05-08T16:19:57.027076Z"
    },
    "jupyter": {
     "source_hidden": true
    },
    "papermill": {
     "duration": 0.031153,
     "end_time": "2022-05-08T16:19:57.029316",
     "exception": false,
     "start_time": "2022-05-08T16:19:56.998163",
     "status": "completed"
    },
    "tags": [
     "remove_input"
    ]
   },
   "outputs": [
    {
     "name": "stdout",
     "output_type": "stream",
     "text": [
      "No routes meet this criteria.\n"
     ]
    }
   ],
   "source": [
    "# Allow for possibility that operator doesn't have routes that fall into certain route_groups\n",
    "# But, jupyterbook will not like markdown with f-string\n",
    "# separate out route_group and put in each cell, and use try/except + if to display...\n",
    "# but all 3 route groups must be displayed. just add sentence about why no routes were returned at the end\n",
    "route_group = \"short\"\n",
    "try:\n",
    "    subset_routes, mult, diff  = setup_charts(df, PCT_COMPETITIVE_THRESHOLD, route_group)\n",
    "    \n",
    "    if len(subset_routes) > 0:\n",
    "        display(\n",
    "            Markdown(\n",
    "                f\"{CAPTIONS_DICT[route_group]}\"\n",
    "                \"Within each route group, routes are sorted in descending order \"\n",
    "                \"by % competitive trips and # trips below the additional time cut-off.\"\n",
    "            )\n",
    "        )\n",
    "\n",
    "        display(mult)\n",
    "        display(diff)\n",
    "except:\n",
    "    print(\"No routes meet this criteria.\")"
   ]
  },
  {
   "cell_type": "markdown",
   "id": "c2931b6f-034d-4384-9e14-80b925e3b820",
   "metadata": {
    "papermill": {
     "duration": 0.011725,
     "end_time": "2022-05-08T16:19:57.052393",
     "exception": false,
     "start_time": "2022-05-08T16:19:57.040668",
     "status": "completed"
    },
    "tags": []
   },
   "source": [
    "### Medium Routes (1-1.5 hrs)"
   ]
  },
  {
   "cell_type": "code",
   "execution_count": 13,
   "id": "480edddc-4de0-48c2-ae4c-b0ceef8f28b5",
   "metadata": {
    "execution": {
     "iopub.execute_input": "2022-05-08T16:19:57.079360Z",
     "iopub.status.busy": "2022-05-08T16:19:57.078353Z",
     "iopub.status.idle": "2022-05-08T16:19:57.089984Z",
     "shell.execute_reply": "2022-05-08T16:19:57.089379Z"
    },
    "jupyter": {
     "source_hidden": true
    },
    "papermill": {
     "duration": 0.026475,
     "end_time": "2022-05-08T16:19:57.091942",
     "exception": false,
     "start_time": "2022-05-08T16:19:57.065467",
     "status": "completed"
    },
    "tags": [
     "remove_input"
    ]
   },
   "outputs": [
    {
     "name": "stdout",
     "output_type": "stream",
     "text": [
      "No routes meet this criteria.\n"
     ]
    }
   ],
   "source": [
    "route_group = \"medium\"\n",
    "try:\n",
    "    subset_routes, mult, diff  = setup_charts(df, PCT_COMPETITIVE_THRESHOLD, route_group)\n",
    "    if len(subset_routes) > 0:\n",
    "        display(\n",
    "            Markdown(\n",
    "                f\"{CAPTIONS_DICT[route_group]}\"\n",
    "                \"Within each route group, routes are sorted in descending order \"\n",
    "                \"by % competitive trips and # trips below the additional time cut-off.\"\n",
    "            )\n",
    "        )\n",
    "\n",
    "        display(mult)\n",
    "        display(diff)\n",
    "except:\n",
    "    print(\"No routes meet this criteria.\")"
   ]
  },
  {
   "cell_type": "markdown",
   "id": "124b76d0-886c-4d03-92ac-f1bda3cda182",
   "metadata": {
    "papermill": {
     "duration": 0.011984,
     "end_time": "2022-05-08T16:19:57.123276",
     "exception": false,
     "start_time": "2022-05-08T16:19:57.111292",
     "status": "completed"
    },
    "tags": []
   },
   "source": [
    "### Long Routes (> 1.5 hrs)"
   ]
  },
  {
   "cell_type": "code",
   "execution_count": 14,
   "id": "ddc81b19-4c45-4c81-8b7a-5e0f394aa7a3",
   "metadata": {
    "execution": {
     "iopub.execute_input": "2022-05-08T16:19:57.149674Z",
     "iopub.status.busy": "2022-05-08T16:19:57.148687Z",
     "iopub.status.idle": "2022-05-08T16:19:57.354580Z",
     "shell.execute_reply": "2022-05-08T16:19:57.353789Z"
    },
    "jupyter": {
     "source_hidden": true
    },
    "papermill": {
     "duration": 0.221283,
     "end_time": "2022-05-08T16:19:57.356349",
     "exception": false,
     "start_time": "2022-05-08T16:19:57.135066",
     "status": "completed"
    },
    "tags": [
     "remove_input"
    ]
   },
   "outputs": [
    {
     "data": {
      "text/markdown": [
       "<br>These are routes that have at least 25% of their trips take no more than an additional 40 min compared to a car (up to 15 routes) are shown.Within each route group, routes are sorted in descending order by % competitive trips and # trips below the additional time cut-off."
      ],
      "text/plain": [
       "<IPython.core.display.Markdown object>"
      ]
     },
     "metadata": {},
     "output_type": "display_data"
    },
    {
     "data": {
      "text/html": [
       "\n",
       "<div id=\"altair-viz-9ebc39a6c5a24a6f9d87d805a739f5a6\"></div>\n",
       "<script type=\"text/javascript\">\n",
       "  var VEGA_DEBUG = (typeof VEGA_DEBUG == \"undefined\") ? {} : VEGA_DEBUG;\n",
       "  (function(spec, embedOpt){\n",
       "    let outputDiv = document.currentScript.previousElementSibling;\n",
       "    if (outputDiv.id !== \"altair-viz-9ebc39a6c5a24a6f9d87d805a739f5a6\") {\n",
       "      outputDiv = document.getElementById(\"altair-viz-9ebc39a6c5a24a6f9d87d805a739f5a6\");\n",
       "    }\n",
       "    const paths = {\n",
       "      \"vega\": \"https://cdn.jsdelivr.net/npm//vega@5?noext\",\n",
       "      \"vega-lib\": \"https://cdn.jsdelivr.net/npm//vega-lib?noext\",\n",
       "      \"vega-lite\": \"https://cdn.jsdelivr.net/npm//vega-lite@4.17.0?noext\",\n",
       "      \"vega-embed\": \"https://cdn.jsdelivr.net/npm//vega-embed@6?noext\",\n",
       "    };\n",
       "\n",
       "    function maybeLoadScript(lib, version) {\n",
       "      var key = `${lib.replace(\"-\", \"\")}_version`;\n",
       "      return (VEGA_DEBUG[key] == version) ?\n",
       "        Promise.resolve(paths[lib]) :\n",
       "        new Promise(function(resolve, reject) {\n",
       "          var s = document.createElement('script');\n",
       "          document.getElementsByTagName(\"head\")[0].appendChild(s);\n",
       "          s.async = true;\n",
       "          s.onload = () => {\n",
       "            VEGA_DEBUG[key] = version;\n",
       "            return resolve(paths[lib]);\n",
       "          };\n",
       "          s.onerror = () => reject(`Error loading script: ${paths[lib]}`);\n",
       "          s.src = paths[lib];\n",
       "        });\n",
       "    }\n",
       "\n",
       "    function showError(err) {\n",
       "      outputDiv.innerHTML = `<div class=\"error\" style=\"color:red;\">${err}</div>`;\n",
       "      throw err;\n",
       "    }\n",
       "\n",
       "    function displayChart(vegaEmbed) {\n",
       "      vegaEmbed(outputDiv, spec, embedOpt)\n",
       "        .catch(err => showError(`Javascript Error: ${err.message}<br>This usually means there's a typo in your chart specification. See the javascript console for the full traceback.`));\n",
       "    }\n",
       "\n",
       "    if(typeof define === \"function\" && define.amd) {\n",
       "      requirejs.config({paths});\n",
       "      require([\"vega-embed\"], displayChart, err => showError(`Error loading script: ${err.message}`));\n",
       "    } else {\n",
       "      maybeLoadScript(\"vega\", \"5\")\n",
       "        .then(() => maybeLoadScript(\"vega-lite\", \"4.17.0\"))\n",
       "        .then(() => maybeLoadScript(\"vega-embed\", \"6\"))\n",
       "        .catch(showError)\n",
       "        .then(() => displayChart(vegaEmbed));\n",
       "    }\n",
       "  })({\"config\": {\"view\": {\"continuousWidth\": 400, \"continuousHeight\": 300, \"stroke\": null}, \"facet\": {\"spacing\": 0}}, \"data\": {\"name\": \"data-084b90461495daa4679295333c69df07\"}, \"facet\": {\"column\": {\"field\": \"route_id\", \"sort\": [\"16\"], \"title\": \"Route ID\", \"type\": \"nominal\"}}, \"spec\": {\"layer\": [{\"mark\": {\"type\": \"point\", \"opacity\": 0.65, \"size\": 12, \"strokeWidth\": 1.1}, \"encoding\": {\"color\": {\"field\": \"time_of_day\", \"scale\": {\"range\": [\"#136C97\", \"#E16B26\", \"#F6BF16\", \"#00896B\", \"#7790A3\", \"#5B559C\"]}, \"sort\": [\"AM Peak\", \"Midday\", \"PM Peak\", \"Owl Service\"], \"title\": \"Time of Day\", \"type\": \"nominal\"}, \"tooltip\": [{\"field\": \"route_id\", \"type\": \"nominal\"}, {\"field\": \"trip_id\", \"type\": \"nominal\"}, {\"field\": \"service_hours\", \"type\": \"quantitative\"}, {\"field\": \"car_duration_hours\", \"type\": \"quantitative\"}, {\"field\": \"bus_multiplier\", \"type\": \"quantitative\"}, {\"field\": \"bus_difference\", \"type\": \"quantitative\"}, {\"field\": \"num_trips\", \"type\": \"quantitative\"}, {\"field\": \"num_competitive\", \"type\": \"quantitative\"}, {\"field\": \"pct_trips_competitive\", \"type\": \"quantitative\"}, {\"field\": \"p25\", \"type\": \"quantitative\"}, {\"field\": \"p50\", \"type\": \"quantitative\"}, {\"field\": \"p75\", \"type\": \"quantitative\"}], \"x\": {\"axis\": {\"grid\": false, \"labels\": false, \"ticks\": true, \"values\": [0]}, \"field\": \"jitter\", \"scale\": {}, \"title\": null, \"type\": \"quantitative\"}, \"y\": {\"field\": \"bus_multiplier\", \"scale\": {\"domain\": [-0.25, 26.94]}, \"title\": \"Ratio of Bus to Car Travel Time\", \"type\": \"quantitative\"}}, \"selection\": {\"selector001\": {\"type\": \"interval\", \"bind\": \"scales\", \"encodings\": [\"x\", \"y\"]}}, \"transform\": [{\"calculate\": \"sqrt(-2*log(random()))*cos(2*PI*random())\", \"as\": \"jitter\"}], \"width\": 60}, {\"layer\": [{\"mark\": {\"type\": \"point\", \"opacity\": 0.6, \"size\": 20, \"strokeWidth\": 1.3}, \"encoding\": {\"color\": {\"value\": \"#323434\"}, \"y\": {\"field\": \"bus_multiplier\", \"type\": \"quantitative\"}}, \"transform\": [{\"filter\": \"(datum.p50_trip === 1)\"}]}, {\"mark\": {\"type\": \"rule\", \"strokeDash\": [2, 3]}, \"encoding\": {\"color\": {\"value\": \"#323434\"}, \"y\": {\"field\": \"cutoff\", \"type\": \"quantitative\"}}}, {\"mark\": {\"type\": \"text\", \"align\": \"center\", \"baseline\": \"middle\"}, \"encoding\": {\"color\": {\"value\": \"black\"}, \"text\": {\"field\": \"pct_trips_competitive\", \"format\": \".0%\", \"type\": \"quantitative\"}, \"tooltip\": [{\"field\": \"route_id\", \"type\": \"nominal\"}, {\"field\": \"trip_id\", \"type\": \"nominal\"}, {\"field\": \"service_hours\", \"type\": \"quantitative\"}, {\"field\": \"car_duration_hours\", \"type\": \"quantitative\"}, {\"field\": \"bus_multiplier\", \"type\": \"quantitative\"}, {\"field\": \"bus_difference\", \"type\": \"quantitative\"}, {\"field\": \"num_trips\", \"type\": \"quantitative\"}, {\"field\": \"num_competitive\", \"type\": \"quantitative\"}, {\"field\": \"pct_trips_competitive\", \"type\": \"quantitative\"}, {\"field\": \"p25\", \"type\": \"quantitative\"}, {\"field\": \"p50\", \"type\": \"quantitative\"}, {\"field\": \"p75\", \"type\": \"quantitative\"}], \"x\": {\"value\": 30}, \"y\": {\"value\": 15}}, \"transform\": [{\"calculate\": \"sqrt(-2*log(random()))*cos(2*PI*random())\", \"as\": \"jitter\"}, {\"filter\": \"(datum.fastest_trip === 1)\"}]}]}]}, \"resolve\": {\"scale\": {\"y\": \"shared\"}}, \"title\": \"Ratio of Bus to Car Travel Time\", \"$schema\": \"https://vega.github.io/schema/vega-lite/v4.17.0.json\", \"datasets\": {\"data-084b90461495daa4679295333c69df07\": [{\"calitp_itp_id\": 482, \"trip_key\": 2145124109685266677, \"trip_id\": \"83\", \"shape_id\": \"16\", \"route_id\": \"16\", \"service_hours\": 0.93, \"trip_first_departure_ts\": 27000, \"trip_last_arrival_ts\": 30360, \"departure_hour\": 7, \"time_of_day\": \"AM Peak\", \"p25\": 0.93, \"p50\": 0.93, \"p75\": 0.93, \"p50_trip\": 1, \"fastest_trip\": 0, \"car_duration_hours\": 0.48, \"competitive_route\": 1, \"bus_multiplier\": 1.94, \"bus_difference\": 27.0, \"num_trips\": 12, \"num_competitive\": 11, \"pct_trips_competitive\": 0.917, \"bus_difference_spread\": 720.0, \"route_group\": \"long\", \"max_trip_hrs\": 12.93, \"max_trip_route_group\": 12.93, \"name\": \"Tuolumne County Transit Agency\", \"caltrans_district\": \"10 - Stockton\", \"drmt_organization_name\": \"['recl7fHqYd2GSTtn3']\", \"cutoff2\": 40, \"cutoff\": 2}, {\"calitp_itp_id\": 482, \"trip_key\": -1666101624449243044, \"trip_id\": \"84\", \"shape_id\": \"16\", \"route_id\": \"16\", \"service_hours\": 0.93, \"trip_first_departure_ts\": 30600, \"trip_last_arrival_ts\": 33960, \"departure_hour\": 8, \"time_of_day\": \"AM Peak\", \"p25\": 0.93, \"p50\": 0.93, \"p75\": 0.93, \"p50_trip\": 1, \"fastest_trip\": 0, \"car_duration_hours\": 0.48, \"competitive_route\": 1, \"bus_multiplier\": 1.94, \"bus_difference\": 27.0, \"num_trips\": 12, \"num_competitive\": 11, \"pct_trips_competitive\": 0.917, \"bus_difference_spread\": 720.0, \"route_group\": \"long\", \"max_trip_hrs\": 12.93, \"max_trip_route_group\": 12.93, \"name\": \"Tuolumne County Transit Agency\", \"caltrans_district\": \"10 - Stockton\", \"drmt_organization_name\": \"['recl7fHqYd2GSTtn3']\", \"cutoff2\": 40, \"cutoff\": 2}, {\"calitp_itp_id\": 482, \"trip_key\": -811955265033482998, \"trip_id\": \"93\", \"shape_id\": \"16\", \"route_id\": \"16\", \"service_hours\": 0.93, \"trip_first_departure_ts\": 106200, \"trip_last_arrival_ts\": 109560, \"departure_hour\": 5, \"time_of_day\": \"Owl Service\", \"p25\": 0.93, \"p50\": 0.93, \"p75\": 0.93, \"p50_trip\": 1, \"fastest_trip\": 0, \"car_duration_hours\": 0.48, \"competitive_route\": 1, \"bus_multiplier\": 1.94, \"bus_difference\": 27.0, \"num_trips\": 12, \"num_competitive\": 11, \"pct_trips_competitive\": 0.917, \"bus_difference_spread\": 720.0, \"route_group\": \"long\", \"max_trip_hrs\": 12.93, \"max_trip_route_group\": 12.93, \"name\": \"Tuolumne County Transit Agency\", \"caltrans_district\": \"10 - Stockton\", \"drmt_organization_name\": \"['recl7fHqYd2GSTtn3']\", \"cutoff2\": 40, \"cutoff\": 2}, {\"calitp_itp_id\": 482, \"trip_key\": -7629486483351359896, \"trip_id\": \"90\", \"shape_id\": \"16\", \"route_id\": \"16\", \"service_hours\": 0.93, \"trip_first_departure_ts\": 95400, \"trip_last_arrival_ts\": 98760, \"departure_hour\": 2, \"time_of_day\": \"Owl Service\", \"p25\": 0.93, \"p50\": 0.93, \"p75\": 0.93, \"p50_trip\": 1, \"fastest_trip\": 0, \"car_duration_hours\": 0.48, \"competitive_route\": 1, \"bus_multiplier\": 1.94, \"bus_difference\": 27.0, \"num_trips\": 12, \"num_competitive\": 11, \"pct_trips_competitive\": 0.917, \"bus_difference_spread\": 720.0, \"route_group\": \"long\", \"max_trip_hrs\": 12.93, \"max_trip_route_group\": 12.93, \"name\": \"Tuolumne County Transit Agency\", \"caltrans_district\": \"10 - Stockton\", \"drmt_organization_name\": \"['recl7fHqYd2GSTtn3']\", \"cutoff2\": 40, \"cutoff\": 2}, {\"calitp_itp_id\": 482, \"trip_key\": -3718860337871589477, \"trip_id\": \"85\", \"shape_id\": \"16\", \"route_id\": \"16\", \"service_hours\": 0.93, \"trip_first_departure_ts\": 34200, \"trip_last_arrival_ts\": 37560, \"departure_hour\": 9, \"time_of_day\": \"AM Peak\", \"p25\": 0.93, \"p50\": 0.93, \"p75\": 0.93, \"p50_trip\": 1, \"fastest_trip\": 0, \"car_duration_hours\": 0.48, \"competitive_route\": 1, \"bus_multiplier\": 1.94, \"bus_difference\": 27.0, \"num_trips\": 12, \"num_competitive\": 11, \"pct_trips_competitive\": 0.917, \"bus_difference_spread\": 720.0, \"route_group\": \"long\", \"max_trip_hrs\": 12.93, \"max_trip_route_group\": 12.93, \"name\": \"Tuolumne County Transit Agency\", \"caltrans_district\": \"10 - Stockton\", \"drmt_organization_name\": \"['recl7fHqYd2GSTtn3']\", \"cutoff2\": 40, \"cutoff\": 2}, {\"calitp_itp_id\": 482, \"trip_key\": 4134191413769255642, \"trip_id\": \"87\", \"shape_id\": \"16\", \"route_id\": \"16\", \"service_hours\": 0.93, \"trip_first_departure_ts\": 41400, \"trip_last_arrival_ts\": 44760, \"departure_hour\": 11, \"time_of_day\": \"Midday\", \"p25\": 0.93, \"p50\": 0.93, \"p75\": 0.93, \"p50_trip\": 1, \"fastest_trip\": 1, \"car_duration_hours\": 0.48, \"competitive_route\": 1, \"bus_multiplier\": 1.94, \"bus_difference\": 27.0, \"num_trips\": 12, \"num_competitive\": 11, \"pct_trips_competitive\": 0.917, \"bus_difference_spread\": 720.0, \"route_group\": \"long\", \"max_trip_hrs\": 12.93, \"max_trip_route_group\": 12.93, \"name\": \"Tuolumne County Transit Agency\", \"caltrans_district\": \"10 - Stockton\", \"drmt_organization_name\": \"['recl7fHqYd2GSTtn3']\", \"cutoff2\": 40, \"cutoff\": 2}, {\"calitp_itp_id\": 482, \"trip_key\": 4010574854795830805, \"trip_id\": \"89\", \"shape_id\": \"16\", \"route_id\": \"16\", \"service_hours\": 0.93, \"trip_first_departure_ts\": 91800, \"trip_last_arrival_ts\": 95160, \"departure_hour\": 1, \"time_of_day\": \"Owl Service\", \"p25\": 0.93, \"p50\": 0.93, \"p75\": 0.93, \"p50_trip\": 1, \"fastest_trip\": 0, \"car_duration_hours\": 0.48, \"competitive_route\": 1, \"bus_multiplier\": 1.94, \"bus_difference\": 27.0, \"num_trips\": 12, \"num_competitive\": 11, \"pct_trips_competitive\": 0.917, \"bus_difference_spread\": 720.0, \"route_group\": \"long\", \"max_trip_hrs\": 12.93, \"max_trip_route_group\": 12.93, \"name\": \"Tuolumne County Transit Agency\", \"caltrans_district\": \"10 - Stockton\", \"drmt_organization_name\": \"['recl7fHqYd2GSTtn3']\", \"cutoff2\": 40, \"cutoff\": 2}, {\"calitp_itp_id\": 482, \"trip_key\": -428294178438464651, \"trip_id\": \"86\", \"shape_id\": \"16\", \"route_id\": \"16\", \"service_hours\": 0.93, \"trip_first_departure_ts\": 37800, \"trip_last_arrival_ts\": 41160, \"departure_hour\": 10, \"time_of_day\": \"Midday\", \"p25\": 0.93, \"p50\": 0.93, \"p75\": 0.93, \"p50_trip\": 1, \"fastest_trip\": 0, \"car_duration_hours\": 0.48, \"competitive_route\": 1, \"bus_multiplier\": 1.94, \"bus_difference\": 27.0, \"num_trips\": 12, \"num_competitive\": 11, \"pct_trips_competitive\": 0.917, \"bus_difference_spread\": 720.0, \"route_group\": \"long\", \"max_trip_hrs\": 12.93, \"max_trip_route_group\": 12.93, \"name\": \"Tuolumne County Transit Agency\", \"caltrans_district\": \"10 - Stockton\", \"drmt_organization_name\": \"['recl7fHqYd2GSTtn3']\", \"cutoff2\": 40, \"cutoff\": 2}, {\"calitp_itp_id\": 482, \"trip_key\": 444715570233316546, \"trip_id\": \"91\", \"shape_id\": \"16\", \"route_id\": \"16\", \"service_hours\": 0.93, \"trip_first_departure_ts\": 99000, \"trip_last_arrival_ts\": 102360, \"departure_hour\": 3, \"time_of_day\": \"Owl Service\", \"p25\": 0.93, \"p50\": 0.93, \"p75\": 0.93, \"p50_trip\": 1, \"fastest_trip\": 0, \"car_duration_hours\": 0.48, \"competitive_route\": 1, \"bus_multiplier\": 1.94, \"bus_difference\": 27.0, \"num_trips\": 12, \"num_competitive\": 11, \"pct_trips_competitive\": 0.917, \"bus_difference_spread\": 720.0, \"route_group\": \"long\", \"max_trip_hrs\": 12.93, \"max_trip_route_group\": 12.93, \"name\": \"Tuolumne County Transit Agency\", \"caltrans_district\": \"10 - Stockton\", \"drmt_organization_name\": \"['recl7fHqYd2GSTtn3']\", \"cutoff2\": 40, \"cutoff\": 2}, {\"calitp_itp_id\": 482, \"trip_key\": -3941352894702572126, \"trip_id\": \"92\", \"shape_id\": \"16\", \"route_id\": \"16\", \"service_hours\": 0.93, \"trip_first_departure_ts\": 102600, \"trip_last_arrival_ts\": 105960, \"departure_hour\": 4, \"time_of_day\": \"Owl Service\", \"p25\": 0.93, \"p50\": 0.93, \"p75\": 0.93, \"p50_trip\": 1, \"fastest_trip\": 0, \"car_duration_hours\": 0.48, \"competitive_route\": 1, \"bus_multiplier\": 1.94, \"bus_difference\": 27.0, \"num_trips\": 12, \"num_competitive\": 11, \"pct_trips_competitive\": 0.917, \"bus_difference_spread\": 720.0, \"route_group\": \"long\", \"max_trip_hrs\": 12.93, \"max_trip_route_group\": 12.93, \"name\": \"Tuolumne County Transit Agency\", \"caltrans_district\": \"10 - Stockton\", \"drmt_organization_name\": \"['recl7fHqYd2GSTtn3']\", \"cutoff2\": 40, \"cutoff\": 2}, {\"calitp_itp_id\": 482, \"trip_key\": 437802656543614001, \"trip_id\": \"94\", \"shape_id\": \"16\", \"route_id\": \"16\", \"service_hours\": 0.93, \"trip_first_departure_ts\": 109800, \"trip_last_arrival_ts\": 113160, \"departure_hour\": 6, \"time_of_day\": \"Owl Service\", \"p25\": 0.93, \"p50\": 0.93, \"p75\": 0.93, \"p50_trip\": 1, \"fastest_trip\": 0, \"car_duration_hours\": 0.48, \"competitive_route\": 1, \"bus_multiplier\": 1.94, \"bus_difference\": 27.0, \"num_trips\": 12, \"num_competitive\": 11, \"pct_trips_competitive\": 0.917, \"bus_difference_spread\": 720.0, \"route_group\": \"long\", \"max_trip_hrs\": 12.93, \"max_trip_route_group\": 12.93, \"name\": \"Tuolumne County Transit Agency\", \"caltrans_district\": \"10 - Stockton\", \"drmt_organization_name\": \"['recl7fHqYd2GSTtn3']\", \"cutoff2\": 40, \"cutoff\": 2}, {\"calitp_itp_id\": 482, \"trip_key\": -4103005086418910727, \"trip_id\": \"88\", \"shape_id\": \"16\", \"route_id\": \"16\", \"service_hours\": 12.93, \"trip_first_departure_ts\": 45000, \"trip_last_arrival_ts\": 91560, \"departure_hour\": 12, \"time_of_day\": \"Midday\", \"p25\": 0.93, \"p50\": 0.93, \"p75\": 0.93, \"p50_trip\": 0, \"fastest_trip\": 0, \"car_duration_hours\": 0.48, \"competitive_route\": 1, \"bus_multiplier\": 26.94, \"bus_difference\": 747.0, \"num_trips\": 12, \"num_competitive\": 11, \"pct_trips_competitive\": 0.917, \"bus_difference_spread\": 720.0, \"route_group\": \"long\", \"max_trip_hrs\": 12.93, \"max_trip_route_group\": 12.93, \"name\": \"Tuolumne County Transit Agency\", \"caltrans_district\": \"10 - Stockton\", \"drmt_organization_name\": \"['recl7fHqYd2GSTtn3']\", \"cutoff2\": 40, \"cutoff\": 2}]}}, {\"mode\": \"vega-lite\"});\n",
       "</script>"
      ],
      "text/plain": [
       "alt.FacetChart(...)"
      ]
     },
     "metadata": {},
     "output_type": "display_data"
    },
    {
     "data": {
      "text/html": [
       "\n",
       "<div id=\"altair-viz-186697878c534a9f82af7f49cfa448dd\"></div>\n",
       "<script type=\"text/javascript\">\n",
       "  var VEGA_DEBUG = (typeof VEGA_DEBUG == \"undefined\") ? {} : VEGA_DEBUG;\n",
       "  (function(spec, embedOpt){\n",
       "    let outputDiv = document.currentScript.previousElementSibling;\n",
       "    if (outputDiv.id !== \"altair-viz-186697878c534a9f82af7f49cfa448dd\") {\n",
       "      outputDiv = document.getElementById(\"altair-viz-186697878c534a9f82af7f49cfa448dd\");\n",
       "    }\n",
       "    const paths = {\n",
       "      \"vega\": \"https://cdn.jsdelivr.net/npm//vega@5?noext\",\n",
       "      \"vega-lib\": \"https://cdn.jsdelivr.net/npm//vega-lib?noext\",\n",
       "      \"vega-lite\": \"https://cdn.jsdelivr.net/npm//vega-lite@4.17.0?noext\",\n",
       "      \"vega-embed\": \"https://cdn.jsdelivr.net/npm//vega-embed@6?noext\",\n",
       "    };\n",
       "\n",
       "    function maybeLoadScript(lib, version) {\n",
       "      var key = `${lib.replace(\"-\", \"\")}_version`;\n",
       "      return (VEGA_DEBUG[key] == version) ?\n",
       "        Promise.resolve(paths[lib]) :\n",
       "        new Promise(function(resolve, reject) {\n",
       "          var s = document.createElement('script');\n",
       "          document.getElementsByTagName(\"head\")[0].appendChild(s);\n",
       "          s.async = true;\n",
       "          s.onload = () => {\n",
       "            VEGA_DEBUG[key] = version;\n",
       "            return resolve(paths[lib]);\n",
       "          };\n",
       "          s.onerror = () => reject(`Error loading script: ${paths[lib]}`);\n",
       "          s.src = paths[lib];\n",
       "        });\n",
       "    }\n",
       "\n",
       "    function showError(err) {\n",
       "      outputDiv.innerHTML = `<div class=\"error\" style=\"color:red;\">${err}</div>`;\n",
       "      throw err;\n",
       "    }\n",
       "\n",
       "    function displayChart(vegaEmbed) {\n",
       "      vegaEmbed(outputDiv, spec, embedOpt)\n",
       "        .catch(err => showError(`Javascript Error: ${err.message}<br>This usually means there's a typo in your chart specification. See the javascript console for the full traceback.`));\n",
       "    }\n",
       "\n",
       "    if(typeof define === \"function\" && define.amd) {\n",
       "      requirejs.config({paths});\n",
       "      require([\"vega-embed\"], displayChart, err => showError(`Error loading script: ${err.message}`));\n",
       "    } else {\n",
       "      maybeLoadScript(\"vega\", \"5\")\n",
       "        .then(() => maybeLoadScript(\"vega-lite\", \"4.17.0\"))\n",
       "        .then(() => maybeLoadScript(\"vega-embed\", \"6\"))\n",
       "        .catch(showError)\n",
       "        .then(() => displayChart(vegaEmbed));\n",
       "    }\n",
       "  })({\"config\": {\"view\": {\"continuousWidth\": 400, \"continuousHeight\": 300, \"stroke\": null}, \"facet\": {\"spacing\": 0}}, \"data\": {\"name\": \"data-14242879212cf3e76f2261abcec78373\"}, \"facet\": {\"column\": {\"field\": \"route_id\", \"sort\": [\"16\"], \"title\": \"Route ID\", \"type\": \"nominal\"}}, \"spec\": {\"layer\": [{\"mark\": {\"type\": \"point\", \"opacity\": 0.65, \"size\": 12, \"strokeWidth\": 1.1}, \"encoding\": {\"color\": {\"field\": \"time_of_day\", \"scale\": {\"range\": [\"#136C97\", \"#E16B26\", \"#F6BF16\", \"#00896B\", \"#7790A3\", \"#5B559C\"]}, \"sort\": [\"AM Peak\", \"Midday\", \"PM Peak\", \"Owl Service\"], \"title\": \"Time of Day\", \"type\": \"nominal\"}, \"tooltip\": [{\"field\": \"route_id\", \"type\": \"nominal\"}, {\"field\": \"trip_id\", \"type\": \"nominal\"}, {\"field\": \"service_hours\", \"type\": \"quantitative\"}, {\"field\": \"car_duration_hours\", \"type\": \"quantitative\"}, {\"field\": \"bus_multiplier\", \"type\": \"quantitative\"}, {\"field\": \"bus_difference\", \"type\": \"quantitative\"}, {\"field\": \"num_trips\", \"type\": \"quantitative\"}, {\"field\": \"num_competitive\", \"type\": \"quantitative\"}, {\"field\": \"pct_trips_competitive\", \"type\": \"quantitative\"}, {\"field\": \"p25\", \"type\": \"quantitative\"}, {\"field\": \"p50\", \"type\": \"quantitative\"}, {\"field\": \"p75\", \"type\": \"quantitative\"}], \"x\": {\"axis\": {\"grid\": false, \"labels\": false, \"ticks\": true, \"values\": [0]}, \"field\": \"jitter\", \"scale\": {}, \"title\": null, \"type\": \"quantitative\"}, \"y\": {\"field\": \"bus_difference\", \"scale\": {\"domain\": [-5, 747.0]}, \"title\": \"Difference in Bus to Car Travel Time (min)\", \"type\": \"quantitative\"}}, \"selection\": {\"selector002\": {\"type\": \"interval\", \"bind\": \"scales\", \"encodings\": [\"x\", \"y\"]}}, \"transform\": [{\"calculate\": \"sqrt(-2*log(random()))*cos(2*PI*random())\", \"as\": \"jitter\"}], \"width\": 60}, {\"layer\": [{\"mark\": {\"type\": \"point\", \"opacity\": 0.6, \"size\": 20, \"strokeWidth\": 1.3}, \"encoding\": {\"color\": {\"value\": \"#323434\"}, \"y\": {\"field\": \"bus_difference\", \"type\": \"quantitative\"}}, \"transform\": [{\"filter\": \"(datum.p50_trip === 1)\"}]}, {\"mark\": {\"type\": \"rule\", \"strokeDash\": [2, 3]}, \"encoding\": {\"color\": {\"value\": \"#323434\"}, \"y\": {\"field\": \"cutoff\", \"type\": \"quantitative\"}}}, {\"mark\": {\"type\": \"rule\", \"strokeDash\": [2, 3]}, \"encoding\": {\"color\": {\"value\": \"#136C97\"}, \"y\": {\"field\": \"cutoff2\", \"type\": \"quantitative\"}}}, {\"mark\": {\"type\": \"text\", \"align\": \"center\", \"baseline\": \"middle\"}, \"encoding\": {\"color\": {\"value\": \"black\"}, \"text\": {\"field\": \"pct_trips_competitive\", \"format\": \".0%\", \"type\": \"quantitative\"}, \"tooltip\": [{\"field\": \"route_id\", \"type\": \"nominal\"}, {\"field\": \"trip_id\", \"type\": \"nominal\"}, {\"field\": \"service_hours\", \"type\": \"quantitative\"}, {\"field\": \"car_duration_hours\", \"type\": \"quantitative\"}, {\"field\": \"bus_multiplier\", \"type\": \"quantitative\"}, {\"field\": \"bus_difference\", \"type\": \"quantitative\"}, {\"field\": \"num_trips\", \"type\": \"quantitative\"}, {\"field\": \"num_competitive\", \"type\": \"quantitative\"}, {\"field\": \"pct_trips_competitive\", \"type\": \"quantitative\"}, {\"field\": \"p25\", \"type\": \"quantitative\"}, {\"field\": \"p50\", \"type\": \"quantitative\"}, {\"field\": \"p75\", \"type\": \"quantitative\"}], \"x\": {\"value\": 30}, \"y\": {\"value\": 15}}, \"transform\": [{\"calculate\": \"sqrt(-2*log(random()))*cos(2*PI*random())\", \"as\": \"jitter\"}, {\"filter\": \"(datum.fastest_trip === 1)\"}]}]}]}, \"resolve\": {\"scale\": {\"y\": \"shared\"}}, \"title\": \"Difference in Bus to Car Travel Time (min)\", \"$schema\": \"https://vega.github.io/schema/vega-lite/v4.17.0.json\", \"datasets\": {\"data-14242879212cf3e76f2261abcec78373\": [{\"calitp_itp_id\": 482, \"trip_key\": 2145124109685266677, \"trip_id\": \"83\", \"shape_id\": \"16\", \"route_id\": \"16\", \"service_hours\": 0.93, \"trip_first_departure_ts\": 27000, \"trip_last_arrival_ts\": 30360, \"departure_hour\": 7, \"time_of_day\": \"AM Peak\", \"p25\": 0.93, \"p50\": 0.93, \"p75\": 0.93, \"p50_trip\": 1, \"fastest_trip\": 0, \"car_duration_hours\": 0.48, \"competitive_route\": 1, \"bus_multiplier\": 1.94, \"bus_difference\": 27.0, \"num_trips\": 12, \"num_competitive\": 11, \"pct_trips_competitive\": 0.917, \"bus_difference_spread\": 720.0, \"route_group\": \"long\", \"max_trip_hrs\": 12.93, \"max_trip_route_group\": 12.93, \"name\": \"Tuolumne County Transit Agency\", \"caltrans_district\": \"10 - Stockton\", \"drmt_organization_name\": \"['recl7fHqYd2GSTtn3']\", \"cutoff2\": 40, \"cutoff\": 0}, {\"calitp_itp_id\": 482, \"trip_key\": -1666101624449243044, \"trip_id\": \"84\", \"shape_id\": \"16\", \"route_id\": \"16\", \"service_hours\": 0.93, \"trip_first_departure_ts\": 30600, \"trip_last_arrival_ts\": 33960, \"departure_hour\": 8, \"time_of_day\": \"AM Peak\", \"p25\": 0.93, \"p50\": 0.93, \"p75\": 0.93, \"p50_trip\": 1, \"fastest_trip\": 0, \"car_duration_hours\": 0.48, \"competitive_route\": 1, \"bus_multiplier\": 1.94, \"bus_difference\": 27.0, \"num_trips\": 12, \"num_competitive\": 11, \"pct_trips_competitive\": 0.917, \"bus_difference_spread\": 720.0, \"route_group\": \"long\", \"max_trip_hrs\": 12.93, \"max_trip_route_group\": 12.93, \"name\": \"Tuolumne County Transit Agency\", \"caltrans_district\": \"10 - Stockton\", \"drmt_organization_name\": \"['recl7fHqYd2GSTtn3']\", \"cutoff2\": 40, \"cutoff\": 0}, {\"calitp_itp_id\": 482, \"trip_key\": -811955265033482998, \"trip_id\": \"93\", \"shape_id\": \"16\", \"route_id\": \"16\", \"service_hours\": 0.93, \"trip_first_departure_ts\": 106200, \"trip_last_arrival_ts\": 109560, \"departure_hour\": 5, \"time_of_day\": \"Owl Service\", \"p25\": 0.93, \"p50\": 0.93, \"p75\": 0.93, \"p50_trip\": 1, \"fastest_trip\": 0, \"car_duration_hours\": 0.48, \"competitive_route\": 1, \"bus_multiplier\": 1.94, \"bus_difference\": 27.0, \"num_trips\": 12, \"num_competitive\": 11, \"pct_trips_competitive\": 0.917, \"bus_difference_spread\": 720.0, \"route_group\": \"long\", \"max_trip_hrs\": 12.93, \"max_trip_route_group\": 12.93, \"name\": \"Tuolumne County Transit Agency\", \"caltrans_district\": \"10 - Stockton\", \"drmt_organization_name\": \"['recl7fHqYd2GSTtn3']\", \"cutoff2\": 40, \"cutoff\": 0}, {\"calitp_itp_id\": 482, \"trip_key\": -7629486483351359896, \"trip_id\": \"90\", \"shape_id\": \"16\", \"route_id\": \"16\", \"service_hours\": 0.93, \"trip_first_departure_ts\": 95400, \"trip_last_arrival_ts\": 98760, \"departure_hour\": 2, \"time_of_day\": \"Owl Service\", \"p25\": 0.93, \"p50\": 0.93, \"p75\": 0.93, \"p50_trip\": 1, \"fastest_trip\": 0, \"car_duration_hours\": 0.48, \"competitive_route\": 1, \"bus_multiplier\": 1.94, \"bus_difference\": 27.0, \"num_trips\": 12, \"num_competitive\": 11, \"pct_trips_competitive\": 0.917, \"bus_difference_spread\": 720.0, \"route_group\": \"long\", \"max_trip_hrs\": 12.93, \"max_trip_route_group\": 12.93, \"name\": \"Tuolumne County Transit Agency\", \"caltrans_district\": \"10 - Stockton\", \"drmt_organization_name\": \"['recl7fHqYd2GSTtn3']\", \"cutoff2\": 40, \"cutoff\": 0}, {\"calitp_itp_id\": 482, \"trip_key\": -3718860337871589477, \"trip_id\": \"85\", \"shape_id\": \"16\", \"route_id\": \"16\", \"service_hours\": 0.93, \"trip_first_departure_ts\": 34200, \"trip_last_arrival_ts\": 37560, \"departure_hour\": 9, \"time_of_day\": \"AM Peak\", \"p25\": 0.93, \"p50\": 0.93, \"p75\": 0.93, \"p50_trip\": 1, \"fastest_trip\": 0, \"car_duration_hours\": 0.48, \"competitive_route\": 1, \"bus_multiplier\": 1.94, \"bus_difference\": 27.0, \"num_trips\": 12, \"num_competitive\": 11, \"pct_trips_competitive\": 0.917, \"bus_difference_spread\": 720.0, \"route_group\": \"long\", \"max_trip_hrs\": 12.93, \"max_trip_route_group\": 12.93, \"name\": \"Tuolumne County Transit Agency\", \"caltrans_district\": \"10 - Stockton\", \"drmt_organization_name\": \"['recl7fHqYd2GSTtn3']\", \"cutoff2\": 40, \"cutoff\": 0}, {\"calitp_itp_id\": 482, \"trip_key\": 4134191413769255642, \"trip_id\": \"87\", \"shape_id\": \"16\", \"route_id\": \"16\", \"service_hours\": 0.93, \"trip_first_departure_ts\": 41400, \"trip_last_arrival_ts\": 44760, \"departure_hour\": 11, \"time_of_day\": \"Midday\", \"p25\": 0.93, \"p50\": 0.93, \"p75\": 0.93, \"p50_trip\": 1, \"fastest_trip\": 1, \"car_duration_hours\": 0.48, \"competitive_route\": 1, \"bus_multiplier\": 1.94, \"bus_difference\": 27.0, \"num_trips\": 12, \"num_competitive\": 11, \"pct_trips_competitive\": 0.917, \"bus_difference_spread\": 720.0, \"route_group\": \"long\", \"max_trip_hrs\": 12.93, \"max_trip_route_group\": 12.93, \"name\": \"Tuolumne County Transit Agency\", \"caltrans_district\": \"10 - Stockton\", \"drmt_organization_name\": \"['recl7fHqYd2GSTtn3']\", \"cutoff2\": 40, \"cutoff\": 0}, {\"calitp_itp_id\": 482, \"trip_key\": 4010574854795830805, \"trip_id\": \"89\", \"shape_id\": \"16\", \"route_id\": \"16\", \"service_hours\": 0.93, \"trip_first_departure_ts\": 91800, \"trip_last_arrival_ts\": 95160, \"departure_hour\": 1, \"time_of_day\": \"Owl Service\", \"p25\": 0.93, \"p50\": 0.93, \"p75\": 0.93, \"p50_trip\": 1, \"fastest_trip\": 0, \"car_duration_hours\": 0.48, \"competitive_route\": 1, \"bus_multiplier\": 1.94, \"bus_difference\": 27.0, \"num_trips\": 12, \"num_competitive\": 11, \"pct_trips_competitive\": 0.917, \"bus_difference_spread\": 720.0, \"route_group\": \"long\", \"max_trip_hrs\": 12.93, \"max_trip_route_group\": 12.93, \"name\": \"Tuolumne County Transit Agency\", \"caltrans_district\": \"10 - Stockton\", \"drmt_organization_name\": \"['recl7fHqYd2GSTtn3']\", \"cutoff2\": 40, \"cutoff\": 0}, {\"calitp_itp_id\": 482, \"trip_key\": -428294178438464651, \"trip_id\": \"86\", \"shape_id\": \"16\", \"route_id\": \"16\", \"service_hours\": 0.93, \"trip_first_departure_ts\": 37800, \"trip_last_arrival_ts\": 41160, \"departure_hour\": 10, \"time_of_day\": \"Midday\", \"p25\": 0.93, \"p50\": 0.93, \"p75\": 0.93, \"p50_trip\": 1, \"fastest_trip\": 0, \"car_duration_hours\": 0.48, \"competitive_route\": 1, \"bus_multiplier\": 1.94, \"bus_difference\": 27.0, \"num_trips\": 12, \"num_competitive\": 11, \"pct_trips_competitive\": 0.917, \"bus_difference_spread\": 720.0, \"route_group\": \"long\", \"max_trip_hrs\": 12.93, \"max_trip_route_group\": 12.93, \"name\": \"Tuolumne County Transit Agency\", \"caltrans_district\": \"10 - Stockton\", \"drmt_organization_name\": \"['recl7fHqYd2GSTtn3']\", \"cutoff2\": 40, \"cutoff\": 0}, {\"calitp_itp_id\": 482, \"trip_key\": 444715570233316546, \"trip_id\": \"91\", \"shape_id\": \"16\", \"route_id\": \"16\", \"service_hours\": 0.93, \"trip_first_departure_ts\": 99000, \"trip_last_arrival_ts\": 102360, \"departure_hour\": 3, \"time_of_day\": \"Owl Service\", \"p25\": 0.93, \"p50\": 0.93, \"p75\": 0.93, \"p50_trip\": 1, \"fastest_trip\": 0, \"car_duration_hours\": 0.48, \"competitive_route\": 1, \"bus_multiplier\": 1.94, \"bus_difference\": 27.0, \"num_trips\": 12, \"num_competitive\": 11, \"pct_trips_competitive\": 0.917, \"bus_difference_spread\": 720.0, \"route_group\": \"long\", \"max_trip_hrs\": 12.93, \"max_trip_route_group\": 12.93, \"name\": \"Tuolumne County Transit Agency\", \"caltrans_district\": \"10 - Stockton\", \"drmt_organization_name\": \"['recl7fHqYd2GSTtn3']\", \"cutoff2\": 40, \"cutoff\": 0}, {\"calitp_itp_id\": 482, \"trip_key\": -3941352894702572126, \"trip_id\": \"92\", \"shape_id\": \"16\", \"route_id\": \"16\", \"service_hours\": 0.93, \"trip_first_departure_ts\": 102600, \"trip_last_arrival_ts\": 105960, \"departure_hour\": 4, \"time_of_day\": \"Owl Service\", \"p25\": 0.93, \"p50\": 0.93, \"p75\": 0.93, \"p50_trip\": 1, \"fastest_trip\": 0, \"car_duration_hours\": 0.48, \"competitive_route\": 1, \"bus_multiplier\": 1.94, \"bus_difference\": 27.0, \"num_trips\": 12, \"num_competitive\": 11, \"pct_trips_competitive\": 0.917, \"bus_difference_spread\": 720.0, \"route_group\": \"long\", \"max_trip_hrs\": 12.93, \"max_trip_route_group\": 12.93, \"name\": \"Tuolumne County Transit Agency\", \"caltrans_district\": \"10 - Stockton\", \"drmt_organization_name\": \"['recl7fHqYd2GSTtn3']\", \"cutoff2\": 40, \"cutoff\": 0}, {\"calitp_itp_id\": 482, \"trip_key\": 437802656543614001, \"trip_id\": \"94\", \"shape_id\": \"16\", \"route_id\": \"16\", \"service_hours\": 0.93, \"trip_first_departure_ts\": 109800, \"trip_last_arrival_ts\": 113160, \"departure_hour\": 6, \"time_of_day\": \"Owl Service\", \"p25\": 0.93, \"p50\": 0.93, \"p75\": 0.93, \"p50_trip\": 1, \"fastest_trip\": 0, \"car_duration_hours\": 0.48, \"competitive_route\": 1, \"bus_multiplier\": 1.94, \"bus_difference\": 27.0, \"num_trips\": 12, \"num_competitive\": 11, \"pct_trips_competitive\": 0.917, \"bus_difference_spread\": 720.0, \"route_group\": \"long\", \"max_trip_hrs\": 12.93, \"max_trip_route_group\": 12.93, \"name\": \"Tuolumne County Transit Agency\", \"caltrans_district\": \"10 - Stockton\", \"drmt_organization_name\": \"['recl7fHqYd2GSTtn3']\", \"cutoff2\": 40, \"cutoff\": 0}, {\"calitp_itp_id\": 482, \"trip_key\": -4103005086418910727, \"trip_id\": \"88\", \"shape_id\": \"16\", \"route_id\": \"16\", \"service_hours\": 12.93, \"trip_first_departure_ts\": 45000, \"trip_last_arrival_ts\": 91560, \"departure_hour\": 12, \"time_of_day\": \"Midday\", \"p25\": 0.93, \"p50\": 0.93, \"p75\": 0.93, \"p50_trip\": 0, \"fastest_trip\": 0, \"car_duration_hours\": 0.48, \"competitive_route\": 1, \"bus_multiplier\": 26.94, \"bus_difference\": 747.0, \"num_trips\": 12, \"num_competitive\": 11, \"pct_trips_competitive\": 0.917, \"bus_difference_spread\": 720.0, \"route_group\": \"long\", \"max_trip_hrs\": 12.93, \"max_trip_route_group\": 12.93, \"name\": \"Tuolumne County Transit Agency\", \"caltrans_district\": \"10 - Stockton\", \"drmt_organization_name\": \"['recl7fHqYd2GSTtn3']\", \"cutoff2\": 40, \"cutoff\": 0}]}}, {\"mode\": \"vega-lite\"});\n",
       "</script>"
      ],
      "text/plain": [
       "alt.FacetChart(...)"
      ]
     },
     "metadata": {},
     "output_type": "display_data"
    }
   ],
   "source": [
    "route_group = \"long\"\n",
    "try:\n",
    "    subset_routes, mult, diff  = setup_charts(df, PCT_COMPETITIVE_THRESHOLD, route_group)\n",
    "    if len(subset_routes) > 0:\n",
    "        display(\n",
    "            Markdown(\n",
    "                f\"{CAPTIONS_DICT[route_group]}\"\n",
    "                \"Within each route group, routes are sorted in descending order \"\n",
    "                \"by % competitive trips and # trips below the additional time cut-off.\"\n",
    "            )\n",
    "        )\n",
    "\n",
    "        display(mult)\n",
    "        display(diff)\n",
    "except:\n",
    "    print(\"No routes meet this criteria.\")"
   ]
  }
 ],
 "metadata": {
  "kernelspec": {
   "display_name": "Python 3 (ipykernel)",
   "language": "python",
   "name": "python3"
  },
  "language_info": {
   "codemirror_mode": {
    "name": "ipython",
    "version": 3
   },
   "file_extension": ".py",
   "mimetype": "text/x-python",
   "name": "python",
   "nbconvert_exporter": "python",
   "pygments_lexer": "ipython3",
   "version": "3.9.12"
  },
  "papermill": {
   "default_parameters": {},
   "duration": 21.941705,
   "end_time": "2022-05-08T16:19:58.394836",
   "environment_variables": {},
   "exception": null,
   "input_path": "bus_service_increase/competitive-parallel-routes.ipynb",
   "output_path": "portfolio/parallel_corridors/district_10-stockton/competitive-parallel-routes__itp_id_482.ipynb",
   "parameters": {
    "district": "10 - Stockton",
    "itp_id": 482
   },
   "start_time": "2022-05-08T16:19:36.453131",
   "version": "2.3.4"
  }
 },
 "nbformat": 4,
 "nbformat_minor": 5
}