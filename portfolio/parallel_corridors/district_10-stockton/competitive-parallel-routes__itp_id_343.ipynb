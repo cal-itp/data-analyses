{
 "cells": [
  {
   "cell_type": "code",
   "execution_count": 1,
   "id": "95d00857-6a20-4529-a519-2cc7182928a9",
   "metadata": {
    "execution": {
     "iopub.execute_input": "2022-05-09T17:17:35.991439Z",
     "iopub.status.busy": "2022-05-09T17:17:35.990464Z",
     "iopub.status.idle": "2022-05-09T17:17:45.539045Z",
     "shell.execute_reply": "2022-05-09T17:17:45.537464Z"
    },
    "jupyter": {
     "source_hidden": true
    },
    "papermill": {
     "duration": 9.56916,
     "end_time": "2022-05-09T17:17:45.542381",
     "exception": false,
     "start_time": "2022-05-09T17:17:35.973221",
     "status": "completed"
    },
    "tags": [
     "remove_input"
    ]
   },
   "outputs": [],
   "source": [
    "%%capture\n",
    "import warnings\n",
    "warnings.filterwarnings('ignore')\n",
    "\n",
    "import altair as alt\n",
    "import calitp.magics\n",
    "import geopandas as gpd\n",
    "import intake\n",
    "import pandas as pd\n",
    "\n",
    "from IPython.display import display, Markdown, HTML\n",
    "\n",
    "import parallel_corridors_utils\n",
    "from shared_utils import styleguide\n",
    "import deploy_portfolio_yaml\n",
    "\n",
    "catalog = intake.open_catalog(\"./*.yml\")\n",
    "alt.renderers.enable(\"html\")"
   ]
  },
  {
   "cell_type": "code",
   "execution_count": 2,
   "id": "8af2a0c1-f3da-408d-9bea-11d9fbf8695d",
   "metadata": {
    "execution": {
     "iopub.execute_input": "2022-05-09T17:17:45.572975Z",
     "iopub.status.busy": "2022-05-09T17:17:45.572277Z",
     "iopub.status.idle": "2022-05-09T17:17:45.578274Z",
     "shell.execute_reply": "2022-05-09T17:17:45.577253Z"
    },
    "jupyter": {
     "source_hidden": true
    },
    "papermill": {
     "duration": 0.024735,
     "end_time": "2022-05-09T17:17:45.580647",
     "exception": false,
     "start_time": "2022-05-09T17:17:45.555912",
     "status": "completed"
    },
    "tags": [
     "parameters",
     "remove_input"
    ]
   },
   "outputs": [],
   "source": [
    "# parameters cell\n",
    "itp_id = 182"
   ]
  },
  {
   "cell_type": "code",
   "execution_count": 3,
   "id": "aa9a95e2",
   "metadata": {
    "execution": {
     "iopub.execute_input": "2022-05-09T17:17:45.608552Z",
     "iopub.status.busy": "2022-05-09T17:17:45.608200Z",
     "iopub.status.idle": "2022-05-09T17:17:45.613177Z",
     "shell.execute_reply": "2022-05-09T17:17:45.612198Z"
    },
    "jupyter": {
     "source_hidden": true
    },
    "papermill": {
     "duration": 0.023816,
     "end_time": "2022-05-09T17:17:45.616427",
     "exception": false,
     "start_time": "2022-05-09T17:17:45.592611",
     "status": "completed"
    },
    "tags": [
     "injected-parameters",
     "remove_input"
    ]
   },
   "outputs": [],
   "source": [
    "# Parameters\n",
    "district = \"10 - Stockton\"\n",
    "itp_id = 343\n"
   ]
  },
  {
   "cell_type": "code",
   "execution_count": 4,
   "id": "9582aaf4-79ff-412a-b248-8d8d693ebd4f",
   "metadata": {
    "execution": {
     "iopub.execute_input": "2022-05-09T17:17:45.645049Z",
     "iopub.status.busy": "2022-05-09T17:17:45.643947Z",
     "iopub.status.idle": "2022-05-09T17:17:46.963896Z",
     "shell.execute_reply": "2022-05-09T17:17:46.962630Z"
    },
    "jupyter": {
     "source_hidden": true
    },
    "papermill": {
     "duration": 1.337262,
     "end_time": "2022-05-09T17:17:46.966787",
     "exception": false,
     "start_time": "2022-05-09T17:17:45.629525",
     "status": "completed"
    },
    "tags": [
     "remove_input"
    ]
   },
   "outputs": [],
   "source": [
    "df = catalog.competitive_route_variability.read()\n",
    "\n",
    "df = (df[(df.calitp_itp_id == itp_id) & \n",
    "         (df.route_group.notna())]\n",
    "      .reset_index(drop=True)\n",
    "     )\n",
    "\n",
    "\n",
    "if itp_id == 182:\n",
    "    df = df.assign(\n",
    "        route_id = df.route_id.str.replace('-13153', '').astype(int)\n",
    "    )"
   ]
  },
  {
   "cell_type": "code",
   "execution_count": 5,
   "id": "33ac4b06-f647-4dce-a625-8f2c1b37cc60",
   "metadata": {
    "execution": {
     "iopub.execute_input": "2022-05-09T17:17:46.999214Z",
     "iopub.status.busy": "2022-05-09T17:17:46.998383Z",
     "iopub.status.idle": "2022-05-09T17:17:47.009443Z",
     "shell.execute_reply": "2022-05-09T17:17:47.008284Z"
    },
    "jupyter": {
     "source_hidden": true
    },
    "papermill": {
     "duration": 0.030867,
     "end_time": "2022-05-09T17:17:47.012969",
     "exception": false,
     "start_time": "2022-05-09T17:17:46.982102",
     "status": "completed"
    },
    "tags": [
     "remove_input"
    ]
   },
   "outputs": [],
   "source": [
    "%%capture_parameters\n",
    "operator_name = df.name.iloc[0]\n",
    "district_number = f\"{df.caltrans_district.iloc[0].split('-')[0].strip()}\"\n",
    "district_name = f\"{df.caltrans_district.iloc[0].split('-')[1].strip().lower().replace(' ', '-')}\"\n",
    "\n",
    "itp_id, operator_name, district_number, district_name"
   ]
  },
  {
   "cell_type": "markdown",
   "id": "65bc6f5c-8348-42ee-b2dd-52057c406852",
   "metadata": {
    "papermill": {
     "duration": 0.013315,
     "end_time": "2022-05-09T17:17:47.039190",
     "exception": false,
     "start_time": "2022-05-09T17:17:47.025875",
     "status": "completed"
    },
    "tags": []
   },
   "source": [
    "# Transit Joint Powers Authority for Merced County (ITP ID: 343)"
   ]
  },
  {
   "cell_type": "code",
   "execution_count": 6,
   "id": "a689c1ab-2c6c-4831-8d64-897f5986f571",
   "metadata": {
    "execution": {
     "iopub.execute_input": "2022-05-09T17:17:47.070174Z",
     "iopub.status.busy": "2022-05-09T17:17:47.069077Z",
     "iopub.status.idle": "2022-05-09T17:17:47.076619Z",
     "shell.execute_reply": "2022-05-09T17:17:47.075629Z"
    },
    "jupyter": {
     "source_hidden": true
    },
    "papermill": {
     "duration": 0.025946,
     "end_time": "2022-05-09T17:17:47.078930",
     "exception": false,
     "start_time": "2022-05-09T17:17:47.052984",
     "status": "completed"
    },
    "tags": [
     "remove_input"
    ]
   },
   "outputs": [
    {
     "data": {
      "text/html": [
       "<h1>Competitive & Parallel Routes</h1>"
      ],
      "text/plain": [
       "<IPython.core.display.HTML object>"
      ]
     },
     "metadata": {},
     "output_type": "display_data"
    }
   ],
   "source": [
    "display(HTML(\"<h1>Competitive & Parallel Routes</h1>\")) "
   ]
  },
  {
   "cell_type": "code",
   "execution_count": 7,
   "id": "2cb4d8d5-4760-40e4-85b1-cb833d8bb648",
   "metadata": {
    "execution": {
     "iopub.execute_input": "2022-05-09T17:17:47.115830Z",
     "iopub.status.busy": "2022-05-09T17:17:47.114833Z",
     "iopub.status.idle": "2022-05-09T17:17:59.316442Z",
     "shell.execute_reply": "2022-05-09T17:17:59.315683Z"
    },
    "jupyter": {
     "source_hidden": true
    },
    "papermill": {
     "duration": 12.22555,
     "end_time": "2022-05-09T17:17:59.318915",
     "exception": false,
     "start_time": "2022-05-09T17:17:47.093365",
     "status": "completed"
    },
    "tags": [
     "remove_input"
    ]
   },
   "outputs": [],
   "source": [
    "# Grab parameters for narrative text - clean up formatting here \n",
    "district = df.caltrans_district.iloc[0]\n",
    "formatted_date = pd.to_datetime(parallel_corridors_utils.SELECTED_DATE).strftime('%m-%d-%Y')\n",
    "\n",
    "PCT_COMPETITIVE_THRESHOLD = 0.75\n",
    "\n",
    "stats = parallel_corridors_utils.operator_parallel_competitive_stats(\n",
    "    itp_id, PCT_COMPETITIVE_THRESHOLD)\n",
    "\n",
    "pct_parallel = round(stats['parallel_routes'] / stats['num_routes'] * 100,1 )\n",
    "pct_competitive =  round(stats['competitive_routes'] / stats['num_routes'] * 100,1 )"
   ]
  },
  {
   "cell_type": "markdown",
   "id": "ab667928-5274-4490-82d9-4c39293209a4",
   "metadata": {
    "papermill": {
     "duration": 0.01449,
     "end_time": "2022-05-09T17:17:59.347736",
     "exception": false,
     "start_time": "2022-05-09T17:17:59.333246",
     "status": "completed"
    },
    "tags": []
   },
   "source": [
    "## Quick Stats"
   ]
  },
  {
   "cell_type": "code",
   "execution_count": 8,
   "id": "0416509d-dc62-4165-b62e-64f8b26e8b8e",
   "metadata": {
    "execution": {
     "iopub.execute_input": "2022-05-09T17:17:59.376546Z",
     "iopub.status.busy": "2022-05-09T17:17:59.375850Z",
     "iopub.status.idle": "2022-05-09T17:17:59.382900Z",
     "shell.execute_reply": "2022-05-09T17:17:59.382029Z"
    },
    "jupyter": {
     "source_hidden": true
    },
    "papermill": {
     "duration": 0.023921,
     "end_time": "2022-05-09T17:17:59.385060",
     "exception": false,
     "start_time": "2022-05-09T17:17:59.361139",
     "status": "completed"
    },
    "tags": [
     "remove_input"
    ]
   },
   "outputs": [
    {
     "data": {
      "text/markdown": [
       "**Bus routes in service**: 15 <br>**Parallel routes** to State Highway Network (SHN): 13 routes (86.7%)<br>**Competitive routes** against car travel: 2 routes (13.3%)"
      ],
      "text/plain": [
       "<IPython.core.display.Markdown object>"
      ]
     },
     "metadata": {},
     "output_type": "display_data"
    }
   ],
   "source": [
    "display(\n",
    "    Markdown(\n",
    "        f\"**Bus routes in service**: {stats['num_routes']} \"\n",
    "        \"<br>**Parallel routes** to State Highway Network (SHN): \"\n",
    "        f\"{stats['parallel_routes']} routes ({pct_parallel}%)\"\n",
    "        f\"<br>**Competitive routes** against car travel: {stats['competitive_routes']} routes ({pct_competitive}%)\"\n",
    "    )\n",
    ")"
   ]
  },
  {
   "cell_type": "code",
   "execution_count": 9,
   "id": "f9d6ab58-f0ee-460c-b6de-657490e1f386",
   "metadata": {
    "execution": {
     "iopub.execute_input": "2022-05-09T17:17:59.419910Z",
     "iopub.status.busy": "2022-05-09T17:17:59.418968Z",
     "iopub.status.idle": "2022-05-09T17:17:59.429334Z",
     "shell.execute_reply": "2022-05-09T17:17:59.428596Z"
    },
    "jupyter": {
     "source_hidden": true
    },
    "papermill": {
     "duration": 0.032968,
     "end_time": "2022-05-09T17:17:59.431076",
     "exception": false,
     "start_time": "2022-05-09T17:17:59.398108",
     "status": "completed"
    },
    "tags": [
     "remove_input"
    ]
   },
   "outputs": [],
   "source": [
    "def set_yaxis_range(df, y_col):\n",
    "    Y_MIN = df[y_col].min()\n",
    "    Y_MAX = df[y_col].max()\n",
    "    \n",
    "    return Y_MIN, Y_MAX\n",
    "\n",
    "# Rather than set it according to the operator, which can vary,\n",
    "# just use set thresholds for each group\n",
    "diff_cutoffs = parallel_corridors_utils.diff_cutoffs\n",
    "\n",
    "PCT_TRIPS_BELOW_CUTOFF = 0.25\n",
    "\n",
    "def top15_routes(df, route_group):\n",
    "    df2 = (df[df.route_group==route_group])\n",
    "    # Set a cut-off to enable sorting, where most of the trips are \n",
    "    # below a certain time difference cut-off, \n",
    "    # grab top 15 routes where majority of trips are below that cut-off \n",
    "\n",
    "    route_cols = [\"calitp_itp_id\", \"route_id\"]\n",
    "\n",
    "    df2 = df2.assign(\n",
    "        below_cutoff = df2.apply(lambda x: 1 if x.bus_difference <= diff_cutoffs[route_group] \n",
    "                                 else 0, axis=1),\n",
    "        num_trips = df2.groupby(route_cols)[\"trip_id\"].transform(\"count\")\n",
    "    )\n",
    "\n",
    "    df2[\"below_cutoff\"] = df2.groupby(route_cols)[\"below_cutoff\"].transform(\"sum\")\n",
    "    df2[\"pct_below_cutoff\"] = df2.below_cutoff.divide(df2.num_trips)\n",
    "\n",
    "    # At least half the trips are below that cut-off\n",
    "    # but show 15 max, otherwise, show less, since these won't be as interesting to operators\n",
    "    df3 = (df2[df2.pct_below_cutoff >= PCT_TRIPS_BELOW_CUTOFF]\n",
    "           .sort_values([\"calitp_itp_id\", \"below_cutoff\", \n",
    "                         \"pct_below_cutoff\", \"route_id\"],\n",
    "                        ascending = [True, False, False, True]\n",
    "                       )\n",
    "           .drop_duplicates(subset=[\"calitp_itp_id\", \"route_id\"])\n",
    "          ).head(15)\n",
    "    \n",
    "    return list(df3.route_id)"
   ]
  },
  {
   "cell_type": "code",
   "execution_count": 10,
   "id": "cf36d559-3349-4144-8086-8ac9ce937a5a",
   "metadata": {
    "execution": {
     "iopub.execute_input": "2022-05-09T17:17:59.459956Z",
     "iopub.status.busy": "2022-05-09T17:17:59.458949Z",
     "iopub.status.idle": "2022-05-09T17:17:59.464905Z",
     "shell.execute_reply": "2022-05-09T17:17:59.464332Z"
    },
    "jupyter": {
     "source_hidden": true
    },
    "papermill": {
     "duration": 0.022757,
     "end_time": "2022-05-09T17:17:59.466754",
     "exception": false,
     "start_time": "2022-05-09T17:17:59.443997",
     "status": "completed"
    },
    "tags": [
     "remove_input"
    ]
   },
   "outputs": [],
   "source": [
    "def caption_with_cutoff(cutoff):\n",
    "    sentence = (\n",
    "        f\"<br>These are routes that have **at least {int(PCT_TRIPS_BELOW_CUTOFF*100)}% \"\n",
    "        \"of their trips take no more than an \"\n",
    "        f\"additional {cutoff} min** compared to a car \"\n",
    "        \"(up to 15 routes) are shown.\"\n",
    "        \"<br>Within each route group, routes are sorted in descending order \"\n",
    "        \"by % competitive trips and # trips below the additional time cut-off.\"\n",
    "    )\n",
    "    return sentence\n",
    "\n",
    "CAPTIONS_DICT = {\n",
    "    \"short\": caption_with_cutoff(diff_cutoffs['short']),\n",
    "    \"medium\": caption_with_cutoff(diff_cutoffs['medium']),\n",
    "    \"long\": caption_with_cutoff(diff_cutoffs['long']),\n",
    "}"
   ]
  },
  {
   "cell_type": "code",
   "execution_count": 11,
   "id": "e4306d58-6944-47e9-afef-5d5b524c751f",
   "metadata": {
    "execution": {
     "iopub.execute_input": "2022-05-09T17:17:59.496543Z",
     "iopub.status.busy": "2022-05-09T17:17:59.495819Z",
     "iopub.status.idle": "2022-05-09T17:17:59.508874Z",
     "shell.execute_reply": "2022-05-09T17:17:59.508053Z"
    },
    "jupyter": {
     "source_hidden": true
    },
    "papermill": {
     "duration": 0.029688,
     "end_time": "2022-05-09T17:17:59.510971",
     "exception": false,
     "start_time": "2022-05-09T17:17:59.481283",
     "status": "completed"
    },
    "tags": [
     "remove_input"
    ]
   },
   "outputs": [],
   "source": [
    "def setup_charts(df, PCT_COMPETITIVE_THRESHOLD, route_group):\n",
    "    # Set up df for charting (cut-off at some threshold to show most competitive routes)\n",
    "    plot_me = (df[df.pct_trips_competitive > PCT_COMPETITIVE_THRESHOLD]\n",
    "           .drop(columns = \"geometry\")\n",
    "    )\n",
    "    \n",
    "    y_col1 = \"bus_multiplier\"\n",
    "    Y_MIN1, Y_MAX1 = set_yaxis_range(plot_me, y_col1)\n",
    "\n",
    "    y_col2 = \"bus_difference\"\n",
    "    Y_MIN2, Y_MAX2 = set_yaxis_range(plot_me, y_col2)\n",
    "     \n",
    "    subset_routes = top15_routes(plot_me, route_group)\n",
    "    \n",
    "    multiplier_chart = parallel_corridors_utils.make_stripplot(\n",
    "        plot_me[plot_me.route_id.isin(subset_routes)], \n",
    "        y_col1, Y_MIN = Y_MIN1, Y_MAX = Y_MAX1\n",
    "    )\n",
    "    \n",
    "    difference_chart = parallel_corridors_utils.make_stripplot(\n",
    "        plot_me[plot_me.route_id.isin(subset_routes)], \n",
    "        y_col2, Y_MIN = Y_MIN2, Y_MAX = Y_MAX2\n",
    "    )\n",
    "    \n",
    "    return subset_routes, multiplier_chart, difference_chart            "
   ]
  },
  {
   "cell_type": "code",
   "execution_count": 12,
   "id": "33a710e8-504c-4942-aa75-ff69f216956e",
   "metadata": {
    "execution": {
     "iopub.execute_input": "2022-05-09T17:17:59.547226Z",
     "iopub.status.busy": "2022-05-09T17:17:59.546906Z",
     "iopub.status.idle": "2022-05-09T17:17:59.552128Z",
     "shell.execute_reply": "2022-05-09T17:17:59.551348Z"
    },
    "jupyter": {
     "source_hidden": true
    },
    "papermill": {
     "duration": 0.023996,
     "end_time": "2022-05-09T17:17:59.554379",
     "exception": false,
     "start_time": "2022-05-09T17:17:59.530383",
     "status": "completed"
    },
    "tags": [
     "remove_input"
    ]
   },
   "outputs": [],
   "source": [
    "def display_charts_for_route_group(df, route_group):    \n",
    "    subset_routes, mult, diff  = setup_charts(df, PCT_COMPETITIVE_THRESHOLD, route_group)\n",
    "\n",
    "    if len(subset_routes) > 0:\n",
    "        display(Markdown(f\"{CAPTIONS_DICT[route_group]}\"))\n",
    "\n",
    "        display(mult)\n",
    "        display(diff)"
   ]
  },
  {
   "cell_type": "markdown",
   "id": "525f9b38-072b-46d1-96a8-1aa4b038357c",
   "metadata": {
    "papermill": {
     "duration": 0.015022,
     "end_time": "2022-05-09T17:17:59.584819",
     "exception": false,
     "start_time": "2022-05-09T17:17:59.569797",
     "status": "completed"
    },
    "tags": []
   },
   "source": [
    "## Viable Competitive Routes\n",
    "### Short Routes (< 1 hr)"
   ]
  },
  {
   "cell_type": "code",
   "execution_count": 13,
   "id": "57f7084c-2cf7-45c6-ba08-1609e0bd6ca5",
   "metadata": {
    "execution": {
     "iopub.execute_input": "2022-05-09T17:17:59.619187Z",
     "iopub.status.busy": "2022-05-09T17:17:59.618318Z",
     "iopub.status.idle": "2022-05-09T17:17:59.637186Z",
     "shell.execute_reply": "2022-05-09T17:17:59.636437Z"
    },
    "jupyter": {
     "source_hidden": true
    },
    "papermill": {
     "duration": 0.040328,
     "end_time": "2022-05-09T17:17:59.639073",
     "exception": false,
     "start_time": "2022-05-09T17:17:59.598745",
     "status": "completed"
    },
    "tags": [
     "remove_input"
    ]
   },
   "outputs": [
    {
     "name": "stdout",
     "output_type": "stream",
     "text": [
      "No routes meet this criteria.\n"
     ]
    }
   ],
   "source": [
    "# Allow for possibility that operator doesn't have routes that fall into certain route_groups\n",
    "# But, jupyterbook will not like markdown with f-string\n",
    "# separate out route_group and put in each cell, and use try/except + if to display...\n",
    "# but all 3 route groups must be displayed. just add sentence about why no routes were returned at the end\n",
    "route_group = \"short\"\n",
    "try:\n",
    "    display_charts_for_route_group(df, route_group)\n",
    "except:\n",
    "    print(\"No routes meet this criteria.\")"
   ]
  },
  {
   "cell_type": "markdown",
   "id": "c2931b6f-034d-4384-9e14-80b925e3b820",
   "metadata": {
    "papermill": {
     "duration": 0.014114,
     "end_time": "2022-05-09T17:17:59.666829",
     "exception": false,
     "start_time": "2022-05-09T17:17:59.652715",
     "status": "completed"
    },
    "tags": []
   },
   "source": [
    "### Medium Routes (1-1.5 hrs)"
   ]
  },
  {
   "cell_type": "code",
   "execution_count": 14,
   "id": "480edddc-4de0-48c2-ae4c-b0ceef8f28b5",
   "metadata": {
    "execution": {
     "iopub.execute_input": "2022-05-09T17:17:59.698057Z",
     "iopub.status.busy": "2022-05-09T17:17:59.697425Z",
     "iopub.status.idle": "2022-05-09T17:17:59.952900Z",
     "shell.execute_reply": "2022-05-09T17:17:59.952141Z"
    },
    "jupyter": {
     "source_hidden": true
    },
    "papermill": {
     "duration": 0.273409,
     "end_time": "2022-05-09T17:17:59.954784",
     "exception": false,
     "start_time": "2022-05-09T17:17:59.681375",
     "status": "completed"
    },
    "tags": [
     "remove_input"
    ]
   },
   "outputs": [
    {
     "data": {
      "text/markdown": [
       "<br>These are routes that have **at least 25% of their trips take no more than an additional 30 min** compared to a car (up to 15 routes) are shown.<br>Within each route group, routes are sorted in descending order by % competitive trips and # trips below the additional time cut-off."
      ],
      "text/plain": [
       "<IPython.core.display.Markdown object>"
      ]
     },
     "metadata": {},
     "output_type": "display_data"
    },
    {
     "data": {
      "text/html": [
       "\n",
       "<div id=\"altair-viz-ca8ed462880b49309d8f379d373bb02c\"></div>\n",
       "<script type=\"text/javascript\">\n",
       "  var VEGA_DEBUG = (typeof VEGA_DEBUG == \"undefined\") ? {} : VEGA_DEBUG;\n",
       "  (function(spec, embedOpt){\n",
       "    let outputDiv = document.currentScript.previousElementSibling;\n",
       "    if (outputDiv.id !== \"altair-viz-ca8ed462880b49309d8f379d373bb02c\") {\n",
       "      outputDiv = document.getElementById(\"altair-viz-ca8ed462880b49309d8f379d373bb02c\");\n",
       "    }\n",
       "    const paths = {\n",
       "      \"vega\": \"https://cdn.jsdelivr.net/npm//vega@5?noext\",\n",
       "      \"vega-lib\": \"https://cdn.jsdelivr.net/npm//vega-lib?noext\",\n",
       "      \"vega-lite\": \"https://cdn.jsdelivr.net/npm//vega-lite@4.17.0?noext\",\n",
       "      \"vega-embed\": \"https://cdn.jsdelivr.net/npm//vega-embed@6?noext\",\n",
       "    };\n",
       "\n",
       "    function maybeLoadScript(lib, version) {\n",
       "      var key = `${lib.replace(\"-\", \"\")}_version`;\n",
       "      return (VEGA_DEBUG[key] == version) ?\n",
       "        Promise.resolve(paths[lib]) :\n",
       "        new Promise(function(resolve, reject) {\n",
       "          var s = document.createElement('script');\n",
       "          document.getElementsByTagName(\"head\")[0].appendChild(s);\n",
       "          s.async = true;\n",
       "          s.onload = () => {\n",
       "            VEGA_DEBUG[key] = version;\n",
       "            return resolve(paths[lib]);\n",
       "          };\n",
       "          s.onerror = () => reject(`Error loading script: ${paths[lib]}`);\n",
       "          s.src = paths[lib];\n",
       "        });\n",
       "    }\n",
       "\n",
       "    function showError(err) {\n",
       "      outputDiv.innerHTML = `<div class=\"error\" style=\"color:red;\">${err}</div>`;\n",
       "      throw err;\n",
       "    }\n",
       "\n",
       "    function displayChart(vegaEmbed) {\n",
       "      vegaEmbed(outputDiv, spec, embedOpt)\n",
       "        .catch(err => showError(`Javascript Error: ${err.message}<br>This usually means there's a typo in your chart specification. See the javascript console for the full traceback.`));\n",
       "    }\n",
       "\n",
       "    if(typeof define === \"function\" && define.amd) {\n",
       "      requirejs.config({paths});\n",
       "      require([\"vega-embed\"], displayChart, err => showError(`Error loading script: ${err.message}`));\n",
       "    } else {\n",
       "      maybeLoadScript(\"vega\", \"5\")\n",
       "        .then(() => maybeLoadScript(\"vega-lite\", \"4.17.0\"))\n",
       "        .then(() => maybeLoadScript(\"vega-embed\", \"6\"))\n",
       "        .catch(showError)\n",
       "        .then(() => displayChart(vegaEmbed));\n",
       "    }\n",
       "  })({\"config\": {\"view\": {\"continuousWidth\": 400, \"continuousHeight\": 300, \"stroke\": null}, \"facet\": {\"spacing\": 0}}, \"data\": {\"name\": \"data-cc1e986a2fa55347c749879d06a5e259\"}, \"facet\": {\"column\": {\"field\": \"route_id\", \"sort\": [\"1881\"], \"title\": \"Route ID\", \"type\": \"nominal\"}}, \"spec\": {\"layer\": [{\"mark\": \"rule\", \"encoding\": {\"color\": {\"value\": \"black\"}, \"y\": {\"field\": \"cutoff\", \"type\": \"quantitative\"}}, \"selection\": {\"selector001\": {\"type\": \"interval\", \"bind\": \"scales\", \"encodings\": [\"x\", \"y\"]}}}, {\"mark\": {\"type\": \"point\", \"opacity\": 0.65, \"size\": 12, \"strokeWidth\": 1.1}, \"encoding\": {\"color\": {\"field\": \"time_of_day\", \"scale\": {\"range\": [\"#136C97\", \"#E16B26\", \"#F6BF16\", \"#00896B\", \"#7790A3\", \"#5B559C\"]}, \"sort\": [\"AM Peak\", \"Midday\", \"PM Peak\", \"Owl Service\"], \"title\": \"Time of Day\", \"type\": \"nominal\"}, \"tooltip\": [{\"field\": \"route_id\", \"type\": \"nominal\"}, {\"field\": \"trip_id\", \"type\": \"nominal\"}, {\"field\": \"service_hours\", \"type\": \"quantitative\"}, {\"field\": \"car_duration_hours\", \"type\": \"quantitative\"}, {\"field\": \"bus_multiplier\", \"type\": \"quantitative\"}, {\"field\": \"bus_difference\", \"type\": \"quantitative\"}, {\"field\": \"num_trips\", \"type\": \"quantitative\"}, {\"field\": \"num_competitive\", \"type\": \"quantitative\"}, {\"field\": \"pct_trips_competitive\", \"type\": \"quantitative\"}, {\"field\": \"p25\", \"type\": \"quantitative\"}, {\"field\": \"p50\", \"type\": \"quantitative\"}, {\"field\": \"p75\", \"type\": \"quantitative\"}], \"x\": {\"axis\": {\"grid\": false, \"labels\": false, \"ticks\": true, \"values\": [0]}, \"field\": \"jitter\", \"scale\": {}, \"title\": null, \"type\": \"quantitative\"}, \"y\": {\"field\": \"bus_multiplier\", \"scale\": {\"domain\": [-0.25, 2.5]}, \"title\": \"Ratio of Bus to Car Travel Time\", \"type\": \"quantitative\"}}, \"transform\": [{\"calculate\": \"sqrt(-2*log(random()))*cos(2*PI*random())\", \"as\": \"jitter\"}], \"width\": 50}, {\"layer\": [{\"mark\": {\"type\": \"point\", \"opacity\": 0.6, \"size\": 20, \"strokeWidth\": 1.3}, \"encoding\": {\"color\": {\"value\": \"#323434\"}, \"y\": {\"field\": \"bus_multiplier\", \"type\": \"quantitative\"}}, \"transform\": [{\"filter\": \"(datum.p50_trip === 1)\"}]}, {\"mark\": {\"type\": \"text\", \"align\": \"center\", \"baseline\": \"middle\"}, \"encoding\": {\"color\": {\"value\": \"black\"}, \"text\": {\"field\": \"pct_trips_competitive\", \"format\": \".0%\", \"type\": \"quantitative\"}, \"tooltip\": [{\"field\": \"route_id\", \"type\": \"nominal\"}, {\"field\": \"trip_id\", \"type\": \"nominal\"}, {\"field\": \"service_hours\", \"type\": \"quantitative\"}, {\"field\": \"car_duration_hours\", \"type\": \"quantitative\"}, {\"field\": \"bus_multiplier\", \"type\": \"quantitative\"}, {\"field\": \"bus_difference\", \"type\": \"quantitative\"}, {\"field\": \"num_trips\", \"type\": \"quantitative\"}, {\"field\": \"num_competitive\", \"type\": \"quantitative\"}, {\"field\": \"pct_trips_competitive\", \"type\": \"quantitative\"}, {\"field\": \"p25\", \"type\": \"quantitative\"}, {\"field\": \"p50\", \"type\": \"quantitative\"}, {\"field\": \"p75\", \"type\": \"quantitative\"}], \"x\": {\"value\": 30}, \"y\": {\"value\": 15}}, \"transform\": [{\"calculate\": \"sqrt(-2*log(random()))*cos(2*PI*random())\", \"as\": \"jitter\"}, {\"filter\": \"(datum.fastest_trip === 1)\"}]}]}]}, \"resolve\": {\"scale\": {\"y\": \"shared\"}}, \"title\": \"Ratio of Bus to Car Travel Time\", \"$schema\": \"https://vega.github.io/schema/vega-lite/v4.17.0.json\", \"datasets\": {\"data-cc1e986a2fa55347c749879d06a5e259\": [{\"calitp_itp_id\": 343, \"trip_key\": 7516215431355909309, \"trip_id\": \"t_1963129_b_33141_tn_0\", \"shape_id\": \"p_1303793\", \"route_id\": \"1881\", \"service_hours\": 1.15, \"trip_first_departure_ts\": 63900, \"trip_last_arrival_ts\": 68040, \"departure_hour\": 17, \"time_of_day\": \"PM Peak\", \"p25\": 1.18, \"p50\": 1.18, \"p75\": 1.23, \"p50_trip\": 0, \"fastest_trip\": 0, \"car_duration_hours\": 0.9, \"competitive_route\": 1, \"bus_multiplier\": 1.28, \"bus_difference\": 15.0, \"num_trips\": 20, \"num_competitive\": 20, \"pct_trips_competitive\": 1.0, \"bus_difference_spread\": 4.8, \"route_group\": \"medium\", \"max_trip_hrs\": 1.23, \"max_trip_route_group\": 1.25, \"name\": \"Transit Joint Powers Authority for Merced County\", \"caltrans_district\": \"10 - Stockton\", \"drmt_organization_name\": null, \"cutoff2\": 30, \"cutoff\": 2}, {\"calitp_itp_id\": 343, \"trip_key\": -9179148727592923166, \"trip_id\": \"t_1963130_b_33141_tn_0\", \"shape_id\": \"p_1303793\", \"route_id\": \"1881\", \"service_hours\": 1.15, \"trip_first_departure_ts\": 70200, \"trip_last_arrival_ts\": 74340, \"departure_hour\": 19, \"time_of_day\": \"PM Peak\", \"p25\": 1.18, \"p50\": 1.18, \"p75\": 1.23, \"p50_trip\": 0, \"fastest_trip\": 1, \"car_duration_hours\": 0.9, \"competitive_route\": 1, \"bus_multiplier\": 1.28, \"bus_difference\": 15.0, \"num_trips\": 20, \"num_competitive\": 20, \"pct_trips_competitive\": 1.0, \"bus_difference_spread\": 4.8, \"route_group\": \"medium\", \"max_trip_hrs\": 1.23, \"max_trip_route_group\": 1.25, \"name\": \"Transit Joint Powers Authority for Merced County\", \"caltrans_district\": \"10 - Stockton\", \"drmt_organization_name\": null, \"cutoff2\": 30, \"cutoff\": 2}, {\"calitp_itp_id\": 343, \"trip_key\": 5381214985750226954, \"trip_id\": \"t_1963141_b_33141_tn_0\", \"shape_id\": \"p_1303791\", \"route_id\": \"1881\", \"service_hours\": 1.18, \"trip_first_departure_ts\": 65040, \"trip_last_arrival_ts\": 69300, \"departure_hour\": 18, \"time_of_day\": \"PM Peak\", \"p25\": 1.18, \"p50\": 1.18, \"p75\": 1.23, \"p50_trip\": 1, \"fastest_trip\": 0, \"car_duration_hours\": 0.9, \"competitive_route\": 1, \"bus_multiplier\": 1.31, \"bus_difference\": 16.8, \"num_trips\": 20, \"num_competitive\": 20, \"pct_trips_competitive\": 1.0, \"bus_difference_spread\": 4.8, \"route_group\": \"medium\", \"max_trip_hrs\": 1.23, \"max_trip_route_group\": 1.25, \"name\": \"Transit Joint Powers Authority for Merced County\", \"caltrans_district\": \"10 - Stockton\", \"drmt_organization_name\": null, \"cutoff2\": 30, \"cutoff\": 2}, {\"calitp_itp_id\": 343, \"trip_key\": 5286043343502123648, \"trip_id\": \"t_1963133_b_33141_tn_0\", \"shape_id\": \"p_1303791\", \"route_id\": \"1881\", \"service_hours\": 1.18, \"trip_first_departure_ts\": 21840, \"trip_last_arrival_ts\": 26100, \"departure_hour\": 6, \"time_of_day\": \"Owl Service\", \"p25\": 1.18, \"p50\": 1.18, \"p75\": 1.23, \"p50_trip\": 1, \"fastest_trip\": 0, \"car_duration_hours\": 0.9, \"competitive_route\": 1, \"bus_multiplier\": 1.31, \"bus_difference\": 16.8, \"num_trips\": 20, \"num_competitive\": 20, \"pct_trips_competitive\": 1.0, \"bus_difference_spread\": 4.8, \"route_group\": \"medium\", \"max_trip_hrs\": 1.23, \"max_trip_route_group\": 1.25, \"name\": \"Transit Joint Powers Authority for Merced County\", \"caltrans_district\": \"10 - Stockton\", \"drmt_organization_name\": null, \"cutoff2\": 30, \"cutoff\": 2}, {\"calitp_itp_id\": 343, \"trip_key\": -3118253142166864359, \"trip_id\": \"t_1963139_b_33141_tn_0\", \"shape_id\": \"p_1303791\", \"route_id\": \"1881\", \"service_hours\": 1.18, \"trip_first_departure_ts\": 54240, \"trip_last_arrival_ts\": 58500, \"departure_hour\": 15, \"time_of_day\": \"Midday\", \"p25\": 1.18, \"p50\": 1.18, \"p75\": 1.23, \"p50_trip\": 1, \"fastest_trip\": 0, \"car_duration_hours\": 0.9, \"competitive_route\": 1, \"bus_multiplier\": 1.31, \"bus_difference\": 16.8, \"num_trips\": 20, \"num_competitive\": 20, \"pct_trips_competitive\": 1.0, \"bus_difference_spread\": 4.8, \"route_group\": \"medium\", \"max_trip_hrs\": 1.23, \"max_trip_route_group\": 1.25, \"name\": \"Transit Joint Powers Authority for Merced County\", \"caltrans_district\": \"10 - Stockton\", \"drmt_organization_name\": null, \"cutoff2\": 30, \"cutoff\": 2}, {\"calitp_itp_id\": 343, \"trip_key\": -6539832337695123663, \"trip_id\": \"t_1963134_b_33141_tn_0\", \"shape_id\": \"p_1303791\", \"route_id\": \"1881\", \"service_hours\": 1.18, \"trip_first_departure_ts\": 38940, \"trip_last_arrival_ts\": 43200, \"departure_hour\": 10, \"time_of_day\": \"Midday\", \"p25\": 1.18, \"p50\": 1.18, \"p75\": 1.23, \"p50_trip\": 1, \"fastest_trip\": 0, \"car_duration_hours\": 0.9, \"competitive_route\": 1, \"bus_multiplier\": 1.31, \"bus_difference\": 16.8, \"num_trips\": 20, \"num_competitive\": 20, \"pct_trips_competitive\": 1.0, \"bus_difference_spread\": 4.8, \"route_group\": \"medium\", \"max_trip_hrs\": 1.23, \"max_trip_route_group\": 1.25, \"name\": \"Transit Joint Powers Authority for Merced County\", \"caltrans_district\": \"10 - Stockton\", \"drmt_organization_name\": null, \"cutoff2\": 30, \"cutoff\": 2}, {\"calitp_itp_id\": 343, \"trip_key\": 6122250569749720475, \"trip_id\": \"t_1963142_b_33141_tn_0\", \"shape_id\": \"p_1303791\", \"route_id\": \"1881\", \"service_hours\": 1.18, \"trip_first_departure_ts\": 68580, \"trip_last_arrival_ts\": 72840, \"departure_hour\": 19, \"time_of_day\": \"PM Peak\", \"p25\": 1.18, \"p50\": 1.18, \"p75\": 1.23, \"p50_trip\": 1, \"fastest_trip\": 0, \"car_duration_hours\": 0.9, \"competitive_route\": 1, \"bus_multiplier\": 1.31, \"bus_difference\": 16.8, \"num_trips\": 20, \"num_competitive\": 20, \"pct_trips_competitive\": 1.0, \"bus_difference_spread\": 4.8, \"route_group\": \"medium\", \"max_trip_hrs\": 1.23, \"max_trip_route_group\": 1.25, \"name\": \"Transit Joint Powers Authority for Merced County\", \"caltrans_district\": \"10 - Stockton\", \"drmt_organization_name\": null, \"cutoff2\": 30, \"cutoff\": 2}, {\"calitp_itp_id\": 343, \"trip_key\": 2683520550618393728, \"trip_id\": \"t_1963138_b_33141_tn_0\", \"shape_id\": \"p_1303791\", \"route_id\": \"1881\", \"service_hours\": 1.18, \"trip_first_departure_ts\": 48840, \"trip_last_arrival_ts\": 53100, \"departure_hour\": 13, \"time_of_day\": \"Midday\", \"p25\": 1.18, \"p50\": 1.18, \"p75\": 1.23, \"p50_trip\": 1, \"fastest_trip\": 0, \"car_duration_hours\": 0.9, \"competitive_route\": 1, \"bus_multiplier\": 1.31, \"bus_difference\": 16.8, \"num_trips\": 20, \"num_competitive\": 20, \"pct_trips_competitive\": 1.0, \"bus_difference_spread\": 4.8, \"route_group\": \"medium\", \"max_trip_hrs\": 1.23, \"max_trip_route_group\": 1.25, \"name\": \"Transit Joint Powers Authority for Merced County\", \"caltrans_district\": \"10 - Stockton\", \"drmt_organization_name\": null, \"cutoff2\": 30, \"cutoff\": 2}, {\"calitp_itp_id\": 343, \"trip_key\": 3284257985366143338, \"trip_id\": \"t_1963136_b_33141_tn_0\", \"shape_id\": \"p_1303791\", \"route_id\": \"1881\", \"service_hours\": 1.18, \"trip_first_departure_ts\": 32640, \"trip_last_arrival_ts\": 36900, \"departure_hour\": 9, \"time_of_day\": \"AM Peak\", \"p25\": 1.18, \"p50\": 1.18, \"p75\": 1.23, \"p50_trip\": 1, \"fastest_trip\": 0, \"car_duration_hours\": 0.9, \"competitive_route\": 1, \"bus_multiplier\": 1.31, \"bus_difference\": 16.8, \"num_trips\": 20, \"num_competitive\": 20, \"pct_trips_competitive\": 1.0, \"bus_difference_spread\": 4.8, \"route_group\": \"medium\", \"max_trip_hrs\": 1.23, \"max_trip_route_group\": 1.25, \"name\": \"Transit Joint Powers Authority for Merced County\", \"caltrans_district\": \"10 - Stockton\", \"drmt_organization_name\": null, \"cutoff2\": 30, \"cutoff\": 2}, {\"calitp_itp_id\": 343, \"trip_key\": -6607512870610324607, \"trip_id\": \"t_1963140_b_33141_tn_0\", \"shape_id\": \"p_1303791\", \"route_id\": \"1881\", \"service_hours\": 1.18, \"trip_first_departure_ts\": 59640, \"trip_last_arrival_ts\": 63900, \"departure_hour\": 16, \"time_of_day\": \"Midday\", \"p25\": 1.18, \"p50\": 1.18, \"p75\": 1.23, \"p50_trip\": 1, \"fastest_trip\": 0, \"car_duration_hours\": 0.9, \"competitive_route\": 1, \"bus_multiplier\": 1.31, \"bus_difference\": 16.8, \"num_trips\": 20, \"num_competitive\": 20, \"pct_trips_competitive\": 1.0, \"bus_difference_spread\": 4.8, \"route_group\": \"medium\", \"max_trip_hrs\": 1.23, \"max_trip_route_group\": 1.25, \"name\": \"Transit Joint Powers Authority for Merced County\", \"caltrans_district\": \"10 - Stockton\", \"drmt_organization_name\": null, \"cutoff2\": 30, \"cutoff\": 2}, {\"calitp_itp_id\": 343, \"trip_key\": 7077916178314187876, \"trip_id\": \"t_1963135_b_33141_tn_0\", \"shape_id\": \"p_1303791\", \"route_id\": \"1881\", \"service_hours\": 1.18, \"trip_first_departure_ts\": 29040, \"trip_last_arrival_ts\": 33300, \"departure_hour\": 8, \"time_of_day\": \"AM Peak\", \"p25\": 1.18, \"p50\": 1.18, \"p75\": 1.23, \"p50_trip\": 1, \"fastest_trip\": 0, \"car_duration_hours\": 0.9, \"competitive_route\": 1, \"bus_multiplier\": 1.31, \"bus_difference\": 16.8, \"num_trips\": 20, \"num_competitive\": 20, \"pct_trips_competitive\": 1.0, \"bus_difference_spread\": 4.8, \"route_group\": \"medium\", \"max_trip_hrs\": 1.23, \"max_trip_route_group\": 1.25, \"name\": \"Transit Joint Powers Authority for Merced County\", \"caltrans_district\": \"10 - Stockton\", \"drmt_organization_name\": null, \"cutoff2\": 30, \"cutoff\": 2}, {\"calitp_itp_id\": 343, \"trip_key\": 1642406009089055462, \"trip_id\": \"t_1963137_b_33141_tn_0\", \"shape_id\": \"p_1303791\", \"route_id\": \"1881\", \"service_hours\": 1.18, \"trip_first_departure_ts\": 43440, \"trip_last_arrival_ts\": 47700, \"departure_hour\": 12, \"time_of_day\": \"Midday\", \"p25\": 1.18, \"p50\": 1.18, \"p75\": 1.23, \"p50_trip\": 1, \"fastest_trip\": 0, \"car_duration_hours\": 0.9, \"competitive_route\": 1, \"bus_multiplier\": 1.31, \"bus_difference\": 16.8, \"num_trips\": 20, \"num_competitive\": 20, \"pct_trips_competitive\": 1.0, \"bus_difference_spread\": 4.8, \"route_group\": \"medium\", \"max_trip_hrs\": 1.23, \"max_trip_route_group\": 1.25, \"name\": \"Transit Joint Powers Authority for Merced County\", \"caltrans_district\": \"10 - Stockton\", \"drmt_organization_name\": null, \"cutoff2\": 30, \"cutoff\": 2}, {\"calitp_itp_id\": 343, \"trip_key\": -4440352420161409541, \"trip_id\": \"t_1963126_b_33141_tn_0\", \"shape_id\": \"p_1303788\", \"route_id\": \"1881\", \"service_hours\": 1.23, \"trip_first_departure_ts\": 33300, \"trip_last_arrival_ts\": 37740, \"departure_hour\": 9, \"time_of_day\": \"AM Peak\", \"p25\": 1.18, \"p50\": 1.18, \"p75\": 1.23, \"p50_trip\": 0, \"fastest_trip\": 0, \"car_duration_hours\": 0.9, \"competitive_route\": 1, \"bus_multiplier\": 1.37, \"bus_difference\": 19.8, \"num_trips\": 20, \"num_competitive\": 20, \"pct_trips_competitive\": 1.0, \"bus_difference_spread\": 4.8, \"route_group\": \"medium\", \"max_trip_hrs\": 1.23, \"max_trip_route_group\": 1.25, \"name\": \"Transit Joint Powers Authority for Merced County\", \"caltrans_district\": \"10 - Stockton\", \"drmt_organization_name\": null, \"cutoff2\": 30, \"cutoff\": 2}, {\"calitp_itp_id\": 343, \"trip_key\": 4330130170498142458, \"trip_id\": \"t_1963124_b_33141_tn_0\", \"shape_id\": \"p_1303788\", \"route_id\": \"1881\", \"service_hours\": 1.23, \"trip_first_departure_ts\": 48600, \"trip_last_arrival_ts\": 53040, \"departure_hour\": 13, \"time_of_day\": \"Midday\", \"p25\": 1.18, \"p50\": 1.18, \"p75\": 1.23, \"p50_trip\": 0, \"fastest_trip\": 0, \"car_duration_hours\": 0.9, \"competitive_route\": 1, \"bus_multiplier\": 1.37, \"bus_difference\": 19.8, \"num_trips\": 20, \"num_competitive\": 20, \"pct_trips_competitive\": 1.0, \"bus_difference_spread\": 4.8, \"route_group\": \"medium\", \"max_trip_hrs\": 1.23, \"max_trip_route_group\": 1.25, \"name\": \"Transit Joint Powers Authority for Merced County\", \"caltrans_district\": \"10 - Stockton\", \"drmt_organization_name\": null, \"cutoff2\": 30, \"cutoff\": 2}, {\"calitp_itp_id\": 343, \"trip_key\": -1448756516359851733, \"trip_id\": \"t_1963131_b_33141_tn_0\", \"shape_id\": \"p_1303788\", \"route_id\": \"1881\", \"service_hours\": 1.23, \"trip_first_departure_ts\": 27000, \"trip_last_arrival_ts\": 31440, \"departure_hour\": 7, \"time_of_day\": \"AM Peak\", \"p25\": 1.18, \"p50\": 1.18, \"p75\": 1.23, \"p50_trip\": 0, \"fastest_trip\": 0, \"car_duration_hours\": 0.9, \"competitive_route\": 1, \"bus_multiplier\": 1.37, \"bus_difference\": 19.8, \"num_trips\": 20, \"num_competitive\": 20, \"pct_trips_competitive\": 1.0, \"bus_difference_spread\": 4.8, \"route_group\": \"medium\", \"max_trip_hrs\": 1.23, \"max_trip_route_group\": 1.25, \"name\": \"Transit Joint Powers Authority for Merced County\", \"caltrans_district\": \"10 - Stockton\", \"drmt_organization_name\": null, \"cutoff2\": 30, \"cutoff\": 2}, {\"calitp_itp_id\": 343, \"trip_key\": 2839669944368947609, \"trip_id\": \"t_1963125_b_33141_tn_0\", \"shape_id\": \"p_1303788\", \"route_id\": \"1881\", \"service_hours\": 1.23, \"trip_first_departure_ts\": 59400, \"trip_last_arrival_ts\": 63840, \"departure_hour\": 16, \"time_of_day\": \"Midday\", \"p25\": 1.18, \"p50\": 1.18, \"p75\": 1.23, \"p50_trip\": 0, \"fastest_trip\": 0, \"car_duration_hours\": 0.9, \"competitive_route\": 1, \"bus_multiplier\": 1.37, \"bus_difference\": 19.8, \"num_trips\": 20, \"num_competitive\": 20, \"pct_trips_competitive\": 1.0, \"bus_difference_spread\": 4.8, \"route_group\": \"medium\", \"max_trip_hrs\": 1.23, \"max_trip_route_group\": 1.25, \"name\": \"Transit Joint Powers Authority for Merced County\", \"caltrans_district\": \"10 - Stockton\", \"drmt_organization_name\": null, \"cutoff2\": 30, \"cutoff\": 2}, {\"calitp_itp_id\": 343, \"trip_key\": -2346356644846226611, \"trip_id\": \"t_1963123_b_33141_tn_0\", \"shape_id\": \"p_1303788\", \"route_id\": \"1881\", \"service_hours\": 1.23, \"trip_first_departure_ts\": 37800, \"trip_last_arrival_ts\": 42240, \"departure_hour\": 10, \"time_of_day\": \"Midday\", \"p25\": 1.18, \"p50\": 1.18, \"p75\": 1.23, \"p50_trip\": 0, \"fastest_trip\": 0, \"car_duration_hours\": 0.9, \"competitive_route\": 1, \"bus_multiplier\": 1.37, \"bus_difference\": 19.8, \"num_trips\": 20, \"num_competitive\": 20, \"pct_trips_competitive\": 1.0, \"bus_difference_spread\": 4.8, \"route_group\": \"medium\", \"max_trip_hrs\": 1.23, \"max_trip_route_group\": 1.25, \"name\": \"Transit Joint Powers Authority for Merced County\", \"caltrans_district\": \"10 - Stockton\", \"drmt_organization_name\": null, \"cutoff2\": 30, \"cutoff\": 2}, {\"calitp_itp_id\": 343, \"trip_key\": 8313034551470198749, \"trip_id\": \"t_1963128_b_33141_tn_0\", \"shape_id\": \"p_1303788\", \"route_id\": \"1881\", \"service_hours\": 1.23, \"trip_first_departure_ts\": 54000, \"trip_last_arrival_ts\": 58440, \"departure_hour\": 15, \"time_of_day\": \"Midday\", \"p25\": 1.18, \"p50\": 1.18, \"p75\": 1.23, \"p50_trip\": 0, \"fastest_trip\": 0, \"car_duration_hours\": 0.9, \"competitive_route\": 1, \"bus_multiplier\": 1.37, \"bus_difference\": 19.8, \"num_trips\": 20, \"num_competitive\": 20, \"pct_trips_competitive\": 1.0, \"bus_difference_spread\": 4.8, \"route_group\": \"medium\", \"max_trip_hrs\": 1.23, \"max_trip_route_group\": 1.25, \"name\": \"Transit Joint Powers Authority for Merced County\", \"caltrans_district\": \"10 - Stockton\", \"drmt_organization_name\": null, \"cutoff2\": 30, \"cutoff\": 2}, {\"calitp_itp_id\": 343, \"trip_key\": -5484133089713109700, \"trip_id\": \"t_1963132_b_33141_tn_0\", \"shape_id\": \"p_1303788\", \"route_id\": \"1881\", \"service_hours\": 1.23, \"trip_first_departure_ts\": 23400, \"trip_last_arrival_ts\": 27840, \"departure_hour\": 6, \"time_of_day\": \"Owl Service\", \"p25\": 1.18, \"p50\": 1.18, \"p75\": 1.23, \"p50_trip\": 0, \"fastest_trip\": 0, \"car_duration_hours\": 0.9, \"competitive_route\": 1, \"bus_multiplier\": 1.37, \"bus_difference\": 19.8, \"num_trips\": 20, \"num_competitive\": 20, \"pct_trips_competitive\": 1.0, \"bus_difference_spread\": 4.8, \"route_group\": \"medium\", \"max_trip_hrs\": 1.23, \"max_trip_route_group\": 1.25, \"name\": \"Transit Joint Powers Authority for Merced County\", \"caltrans_district\": \"10 - Stockton\", \"drmt_organization_name\": null, \"cutoff2\": 30, \"cutoff\": 2}, {\"calitp_itp_id\": 343, \"trip_key\": -8923446581115531070, \"trip_id\": \"t_1963127_b_33141_tn_0\", \"shape_id\": \"p_1303788\", \"route_id\": \"1881\", \"service_hours\": 1.23, \"trip_first_departure_ts\": 43200, \"trip_last_arrival_ts\": 47640, \"departure_hour\": 12, \"time_of_day\": \"Midday\", \"p25\": 1.18, \"p50\": 1.18, \"p75\": 1.23, \"p50_trip\": 0, \"fastest_trip\": 0, \"car_duration_hours\": 0.9, \"competitive_route\": 1, \"bus_multiplier\": 1.37, \"bus_difference\": 19.8, \"num_trips\": 20, \"num_competitive\": 20, \"pct_trips_competitive\": 1.0, \"bus_difference_spread\": 4.8, \"route_group\": \"medium\", \"max_trip_hrs\": 1.23, \"max_trip_route_group\": 1.25, \"name\": \"Transit Joint Powers Authority for Merced County\", \"caltrans_district\": \"10 - Stockton\", \"drmt_organization_name\": null, \"cutoff2\": 30, \"cutoff\": 2}]}}, {\"mode\": \"vega-lite\"});\n",
       "</script>"
      ],
      "text/plain": [
       "alt.FacetChart(...)"
      ]
     },
     "metadata": {},
     "output_type": "display_data"
    },
    {
     "data": {
      "text/html": [
       "\n",
       "<div id=\"altair-viz-b66a03f53c184baeb57e91dd166d18f7\"></div>\n",
       "<script type=\"text/javascript\">\n",
       "  var VEGA_DEBUG = (typeof VEGA_DEBUG == \"undefined\") ? {} : VEGA_DEBUG;\n",
       "  (function(spec, embedOpt){\n",
       "    let outputDiv = document.currentScript.previousElementSibling;\n",
       "    if (outputDiv.id !== \"altair-viz-b66a03f53c184baeb57e91dd166d18f7\") {\n",
       "      outputDiv = document.getElementById(\"altair-viz-b66a03f53c184baeb57e91dd166d18f7\");\n",
       "    }\n",
       "    const paths = {\n",
       "      \"vega\": \"https://cdn.jsdelivr.net/npm//vega@5?noext\",\n",
       "      \"vega-lib\": \"https://cdn.jsdelivr.net/npm//vega-lib?noext\",\n",
       "      \"vega-lite\": \"https://cdn.jsdelivr.net/npm//vega-lite@4.17.0?noext\",\n",
       "      \"vega-embed\": \"https://cdn.jsdelivr.net/npm//vega-embed@6?noext\",\n",
       "    };\n",
       "\n",
       "    function maybeLoadScript(lib, version) {\n",
       "      var key = `${lib.replace(\"-\", \"\")}_version`;\n",
       "      return (VEGA_DEBUG[key] == version) ?\n",
       "        Promise.resolve(paths[lib]) :\n",
       "        new Promise(function(resolve, reject) {\n",
       "          var s = document.createElement('script');\n",
       "          document.getElementsByTagName(\"head\")[0].appendChild(s);\n",
       "          s.async = true;\n",
       "          s.onload = () => {\n",
       "            VEGA_DEBUG[key] = version;\n",
       "            return resolve(paths[lib]);\n",
       "          };\n",
       "          s.onerror = () => reject(`Error loading script: ${paths[lib]}`);\n",
       "          s.src = paths[lib];\n",
       "        });\n",
       "    }\n",
       "\n",
       "    function showError(err) {\n",
       "      outputDiv.innerHTML = `<div class=\"error\" style=\"color:red;\">${err}</div>`;\n",
       "      throw err;\n",
       "    }\n",
       "\n",
       "    function displayChart(vegaEmbed) {\n",
       "      vegaEmbed(outputDiv, spec, embedOpt)\n",
       "        .catch(err => showError(`Javascript Error: ${err.message}<br>This usually means there's a typo in your chart specification. See the javascript console for the full traceback.`));\n",
       "    }\n",
       "\n",
       "    if(typeof define === \"function\" && define.amd) {\n",
       "      requirejs.config({paths});\n",
       "      require([\"vega-embed\"], displayChart, err => showError(`Error loading script: ${err.message}`));\n",
       "    } else {\n",
       "      maybeLoadScript(\"vega\", \"5\")\n",
       "        .then(() => maybeLoadScript(\"vega-lite\", \"4.17.0\"))\n",
       "        .then(() => maybeLoadScript(\"vega-embed\", \"6\"))\n",
       "        .catch(showError)\n",
       "        .then(() => displayChart(vegaEmbed));\n",
       "    }\n",
       "  })({\"config\": {\"view\": {\"continuousWidth\": 400, \"continuousHeight\": 300, \"stroke\": null}, \"facet\": {\"spacing\": 0}}, \"data\": {\"name\": \"data-f8d88f8abe6cd7e281fe68130595a367\"}, \"facet\": {\"column\": {\"field\": \"route_id\", \"sort\": [\"1881\"], \"title\": \"Route ID\", \"type\": \"nominal\"}}, \"spec\": {\"layer\": [{\"mark\": \"rule\", \"encoding\": {\"color\": {\"value\": \"black\"}, \"y\": {\"field\": \"cutoff\", \"type\": \"quantitative\"}}, \"selection\": {\"selector002\": {\"type\": \"interval\", \"bind\": \"scales\", \"encodings\": [\"x\", \"y\"]}}}, {\"mark\": {\"type\": \"rule\", \"strokeDash\": [3, 3]}, \"encoding\": {\"color\": {\"value\": \"#323434\"}, \"y\": {\"field\": \"cutoff2\", \"type\": \"quantitative\"}}}, {\"mark\": {\"type\": \"point\", \"opacity\": 0.65, \"size\": 12, \"strokeWidth\": 1.1}, \"encoding\": {\"color\": {\"field\": \"time_of_day\", \"scale\": {\"range\": [\"#136C97\", \"#E16B26\", \"#F6BF16\", \"#00896B\", \"#7790A3\", \"#5B559C\"]}, \"sort\": [\"AM Peak\", \"Midday\", \"PM Peak\", \"Owl Service\"], \"title\": \"Time of Day\", \"type\": \"nominal\"}, \"tooltip\": [{\"field\": \"route_id\", \"type\": \"nominal\"}, {\"field\": \"trip_id\", \"type\": \"nominal\"}, {\"field\": \"service_hours\", \"type\": \"quantitative\"}, {\"field\": \"car_duration_hours\", \"type\": \"quantitative\"}, {\"field\": \"bus_multiplier\", \"type\": \"quantitative\"}, {\"field\": \"bus_difference\", \"type\": \"quantitative\"}, {\"field\": \"num_trips\", \"type\": \"quantitative\"}, {\"field\": \"num_competitive\", \"type\": \"quantitative\"}, {\"field\": \"pct_trips_competitive\", \"type\": \"quantitative\"}, {\"field\": \"p25\", \"type\": \"quantitative\"}, {\"field\": \"p50\", \"type\": \"quantitative\"}, {\"field\": \"p75\", \"type\": \"quantitative\"}], \"x\": {\"axis\": {\"grid\": false, \"labels\": false, \"ticks\": true, \"values\": [0]}, \"field\": \"jitter\", \"scale\": {}, \"title\": null, \"type\": \"quantitative\"}, \"y\": {\"field\": \"bus_difference\", \"scale\": {\"domain\": [-5, 35.0]}, \"title\": \"Difference in Bus to Car Travel Time (min)\", \"type\": \"quantitative\"}}, \"transform\": [{\"calculate\": \"sqrt(-2*log(random()))*cos(2*PI*random())\", \"as\": \"jitter\"}], \"width\": 50}, {\"layer\": [{\"mark\": {\"type\": \"point\", \"opacity\": 0.6, \"size\": 20, \"strokeWidth\": 1.3}, \"encoding\": {\"color\": {\"value\": \"#323434\"}, \"y\": {\"field\": \"bus_difference\", \"type\": \"quantitative\"}}, \"transform\": [{\"filter\": \"(datum.p50_trip === 1)\"}]}, {\"mark\": {\"type\": \"text\", \"align\": \"center\", \"baseline\": \"middle\"}, \"encoding\": {\"color\": {\"value\": \"black\"}, \"text\": {\"field\": \"pct_trips_competitive\", \"format\": \".0%\", \"type\": \"quantitative\"}, \"tooltip\": [{\"field\": \"route_id\", \"type\": \"nominal\"}, {\"field\": \"trip_id\", \"type\": \"nominal\"}, {\"field\": \"service_hours\", \"type\": \"quantitative\"}, {\"field\": \"car_duration_hours\", \"type\": \"quantitative\"}, {\"field\": \"bus_multiplier\", \"type\": \"quantitative\"}, {\"field\": \"bus_difference\", \"type\": \"quantitative\"}, {\"field\": \"num_trips\", \"type\": \"quantitative\"}, {\"field\": \"num_competitive\", \"type\": \"quantitative\"}, {\"field\": \"pct_trips_competitive\", \"type\": \"quantitative\"}, {\"field\": \"p25\", \"type\": \"quantitative\"}, {\"field\": \"p50\", \"type\": \"quantitative\"}, {\"field\": \"p75\", \"type\": \"quantitative\"}], \"x\": {\"value\": 30}, \"y\": {\"value\": 15}}, \"transform\": [{\"calculate\": \"sqrt(-2*log(random()))*cos(2*PI*random())\", \"as\": \"jitter\"}, {\"filter\": \"(datum.fastest_trip === 1)\"}]}]}]}, \"resolve\": {\"scale\": {\"y\": \"shared\"}}, \"title\": \"Difference in Bus to Car Travel Time (min)\", \"$schema\": \"https://vega.github.io/schema/vega-lite/v4.17.0.json\", \"datasets\": {\"data-f8d88f8abe6cd7e281fe68130595a367\": [{\"calitp_itp_id\": 343, \"trip_key\": 7516215431355909309, \"trip_id\": \"t_1963129_b_33141_tn_0\", \"shape_id\": \"p_1303793\", \"route_id\": \"1881\", \"service_hours\": 1.15, \"trip_first_departure_ts\": 63900, \"trip_last_arrival_ts\": 68040, \"departure_hour\": 17, \"time_of_day\": \"PM Peak\", \"p25\": 1.18, \"p50\": 1.18, \"p75\": 1.23, \"p50_trip\": 0, \"fastest_trip\": 0, \"car_duration_hours\": 0.9, \"competitive_route\": 1, \"bus_multiplier\": 1.28, \"bus_difference\": 15.0, \"num_trips\": 20, \"num_competitive\": 20, \"pct_trips_competitive\": 1.0, \"bus_difference_spread\": 4.8, \"route_group\": \"medium\", \"max_trip_hrs\": 1.23, \"max_trip_route_group\": 1.25, \"name\": \"Transit Joint Powers Authority for Merced County\", \"caltrans_district\": \"10 - Stockton\", \"drmt_organization_name\": null, \"cutoff2\": 30, \"cutoff\": 0}, {\"calitp_itp_id\": 343, \"trip_key\": -9179148727592923166, \"trip_id\": \"t_1963130_b_33141_tn_0\", \"shape_id\": \"p_1303793\", \"route_id\": \"1881\", \"service_hours\": 1.15, \"trip_first_departure_ts\": 70200, \"trip_last_arrival_ts\": 74340, \"departure_hour\": 19, \"time_of_day\": \"PM Peak\", \"p25\": 1.18, \"p50\": 1.18, \"p75\": 1.23, \"p50_trip\": 0, \"fastest_trip\": 1, \"car_duration_hours\": 0.9, \"competitive_route\": 1, \"bus_multiplier\": 1.28, \"bus_difference\": 15.0, \"num_trips\": 20, \"num_competitive\": 20, \"pct_trips_competitive\": 1.0, \"bus_difference_spread\": 4.8, \"route_group\": \"medium\", \"max_trip_hrs\": 1.23, \"max_trip_route_group\": 1.25, \"name\": \"Transit Joint Powers Authority for Merced County\", \"caltrans_district\": \"10 - Stockton\", \"drmt_organization_name\": null, \"cutoff2\": 30, \"cutoff\": 0}, {\"calitp_itp_id\": 343, \"trip_key\": 5381214985750226954, \"trip_id\": \"t_1963141_b_33141_tn_0\", \"shape_id\": \"p_1303791\", \"route_id\": \"1881\", \"service_hours\": 1.18, \"trip_first_departure_ts\": 65040, \"trip_last_arrival_ts\": 69300, \"departure_hour\": 18, \"time_of_day\": \"PM Peak\", \"p25\": 1.18, \"p50\": 1.18, \"p75\": 1.23, \"p50_trip\": 1, \"fastest_trip\": 0, \"car_duration_hours\": 0.9, \"competitive_route\": 1, \"bus_multiplier\": 1.31, \"bus_difference\": 16.8, \"num_trips\": 20, \"num_competitive\": 20, \"pct_trips_competitive\": 1.0, \"bus_difference_spread\": 4.8, \"route_group\": \"medium\", \"max_trip_hrs\": 1.23, \"max_trip_route_group\": 1.25, \"name\": \"Transit Joint Powers Authority for Merced County\", \"caltrans_district\": \"10 - Stockton\", \"drmt_organization_name\": null, \"cutoff2\": 30, \"cutoff\": 0}, {\"calitp_itp_id\": 343, \"trip_key\": 5286043343502123648, \"trip_id\": \"t_1963133_b_33141_tn_0\", \"shape_id\": \"p_1303791\", \"route_id\": \"1881\", \"service_hours\": 1.18, \"trip_first_departure_ts\": 21840, \"trip_last_arrival_ts\": 26100, \"departure_hour\": 6, \"time_of_day\": \"Owl Service\", \"p25\": 1.18, \"p50\": 1.18, \"p75\": 1.23, \"p50_trip\": 1, \"fastest_trip\": 0, \"car_duration_hours\": 0.9, \"competitive_route\": 1, \"bus_multiplier\": 1.31, \"bus_difference\": 16.8, \"num_trips\": 20, \"num_competitive\": 20, \"pct_trips_competitive\": 1.0, \"bus_difference_spread\": 4.8, \"route_group\": \"medium\", \"max_trip_hrs\": 1.23, \"max_trip_route_group\": 1.25, \"name\": \"Transit Joint Powers Authority for Merced County\", \"caltrans_district\": \"10 - Stockton\", \"drmt_organization_name\": null, \"cutoff2\": 30, \"cutoff\": 0}, {\"calitp_itp_id\": 343, \"trip_key\": -3118253142166864359, \"trip_id\": \"t_1963139_b_33141_tn_0\", \"shape_id\": \"p_1303791\", \"route_id\": \"1881\", \"service_hours\": 1.18, \"trip_first_departure_ts\": 54240, \"trip_last_arrival_ts\": 58500, \"departure_hour\": 15, \"time_of_day\": \"Midday\", \"p25\": 1.18, \"p50\": 1.18, \"p75\": 1.23, \"p50_trip\": 1, \"fastest_trip\": 0, \"car_duration_hours\": 0.9, \"competitive_route\": 1, \"bus_multiplier\": 1.31, \"bus_difference\": 16.8, \"num_trips\": 20, \"num_competitive\": 20, \"pct_trips_competitive\": 1.0, \"bus_difference_spread\": 4.8, \"route_group\": \"medium\", \"max_trip_hrs\": 1.23, \"max_trip_route_group\": 1.25, \"name\": \"Transit Joint Powers Authority for Merced County\", \"caltrans_district\": \"10 - Stockton\", \"drmt_organization_name\": null, \"cutoff2\": 30, \"cutoff\": 0}, {\"calitp_itp_id\": 343, \"trip_key\": -6539832337695123663, \"trip_id\": \"t_1963134_b_33141_tn_0\", \"shape_id\": \"p_1303791\", \"route_id\": \"1881\", \"service_hours\": 1.18, \"trip_first_departure_ts\": 38940, \"trip_last_arrival_ts\": 43200, \"departure_hour\": 10, \"time_of_day\": \"Midday\", \"p25\": 1.18, \"p50\": 1.18, \"p75\": 1.23, \"p50_trip\": 1, \"fastest_trip\": 0, \"car_duration_hours\": 0.9, \"competitive_route\": 1, \"bus_multiplier\": 1.31, \"bus_difference\": 16.8, \"num_trips\": 20, \"num_competitive\": 20, \"pct_trips_competitive\": 1.0, \"bus_difference_spread\": 4.8, \"route_group\": \"medium\", \"max_trip_hrs\": 1.23, \"max_trip_route_group\": 1.25, \"name\": \"Transit Joint Powers Authority for Merced County\", \"caltrans_district\": \"10 - Stockton\", \"drmt_organization_name\": null, \"cutoff2\": 30, \"cutoff\": 0}, {\"calitp_itp_id\": 343, \"trip_key\": 6122250569749720475, \"trip_id\": \"t_1963142_b_33141_tn_0\", \"shape_id\": \"p_1303791\", \"route_id\": \"1881\", \"service_hours\": 1.18, \"trip_first_departure_ts\": 68580, \"trip_last_arrival_ts\": 72840, \"departure_hour\": 19, \"time_of_day\": \"PM Peak\", \"p25\": 1.18, \"p50\": 1.18, \"p75\": 1.23, \"p50_trip\": 1, \"fastest_trip\": 0, \"car_duration_hours\": 0.9, \"competitive_route\": 1, \"bus_multiplier\": 1.31, \"bus_difference\": 16.8, \"num_trips\": 20, \"num_competitive\": 20, \"pct_trips_competitive\": 1.0, \"bus_difference_spread\": 4.8, \"route_group\": \"medium\", \"max_trip_hrs\": 1.23, \"max_trip_route_group\": 1.25, \"name\": \"Transit Joint Powers Authority for Merced County\", \"caltrans_district\": \"10 - Stockton\", \"drmt_organization_name\": null, \"cutoff2\": 30, \"cutoff\": 0}, {\"calitp_itp_id\": 343, \"trip_key\": 2683520550618393728, \"trip_id\": \"t_1963138_b_33141_tn_0\", \"shape_id\": \"p_1303791\", \"route_id\": \"1881\", \"service_hours\": 1.18, \"trip_first_departure_ts\": 48840, \"trip_last_arrival_ts\": 53100, \"departure_hour\": 13, \"time_of_day\": \"Midday\", \"p25\": 1.18, \"p50\": 1.18, \"p75\": 1.23, \"p50_trip\": 1, \"fastest_trip\": 0, \"car_duration_hours\": 0.9, \"competitive_route\": 1, \"bus_multiplier\": 1.31, \"bus_difference\": 16.8, \"num_trips\": 20, \"num_competitive\": 20, \"pct_trips_competitive\": 1.0, \"bus_difference_spread\": 4.8, \"route_group\": \"medium\", \"max_trip_hrs\": 1.23, \"max_trip_route_group\": 1.25, \"name\": \"Transit Joint Powers Authority for Merced County\", \"caltrans_district\": \"10 - Stockton\", \"drmt_organization_name\": null, \"cutoff2\": 30, \"cutoff\": 0}, {\"calitp_itp_id\": 343, \"trip_key\": 3284257985366143338, \"trip_id\": \"t_1963136_b_33141_tn_0\", \"shape_id\": \"p_1303791\", \"route_id\": \"1881\", \"service_hours\": 1.18, \"trip_first_departure_ts\": 32640, \"trip_last_arrival_ts\": 36900, \"departure_hour\": 9, \"time_of_day\": \"AM Peak\", \"p25\": 1.18, \"p50\": 1.18, \"p75\": 1.23, \"p50_trip\": 1, \"fastest_trip\": 0, \"car_duration_hours\": 0.9, \"competitive_route\": 1, \"bus_multiplier\": 1.31, \"bus_difference\": 16.8, \"num_trips\": 20, \"num_competitive\": 20, \"pct_trips_competitive\": 1.0, \"bus_difference_spread\": 4.8, \"route_group\": \"medium\", \"max_trip_hrs\": 1.23, \"max_trip_route_group\": 1.25, \"name\": \"Transit Joint Powers Authority for Merced County\", \"caltrans_district\": \"10 - Stockton\", \"drmt_organization_name\": null, \"cutoff2\": 30, \"cutoff\": 0}, {\"calitp_itp_id\": 343, \"trip_key\": -6607512870610324607, \"trip_id\": \"t_1963140_b_33141_tn_0\", \"shape_id\": \"p_1303791\", \"route_id\": \"1881\", \"service_hours\": 1.18, \"trip_first_departure_ts\": 59640, \"trip_last_arrival_ts\": 63900, \"departure_hour\": 16, \"time_of_day\": \"Midday\", \"p25\": 1.18, \"p50\": 1.18, \"p75\": 1.23, \"p50_trip\": 1, \"fastest_trip\": 0, \"car_duration_hours\": 0.9, \"competitive_route\": 1, \"bus_multiplier\": 1.31, \"bus_difference\": 16.8, \"num_trips\": 20, \"num_competitive\": 20, \"pct_trips_competitive\": 1.0, \"bus_difference_spread\": 4.8, \"route_group\": \"medium\", \"max_trip_hrs\": 1.23, \"max_trip_route_group\": 1.25, \"name\": \"Transit Joint Powers Authority for Merced County\", \"caltrans_district\": \"10 - Stockton\", \"drmt_organization_name\": null, \"cutoff2\": 30, \"cutoff\": 0}, {\"calitp_itp_id\": 343, \"trip_key\": 7077916178314187876, \"trip_id\": \"t_1963135_b_33141_tn_0\", \"shape_id\": \"p_1303791\", \"route_id\": \"1881\", \"service_hours\": 1.18, \"trip_first_departure_ts\": 29040, \"trip_last_arrival_ts\": 33300, \"departure_hour\": 8, \"time_of_day\": \"AM Peak\", \"p25\": 1.18, \"p50\": 1.18, \"p75\": 1.23, \"p50_trip\": 1, \"fastest_trip\": 0, \"car_duration_hours\": 0.9, \"competitive_route\": 1, \"bus_multiplier\": 1.31, \"bus_difference\": 16.8, \"num_trips\": 20, \"num_competitive\": 20, \"pct_trips_competitive\": 1.0, \"bus_difference_spread\": 4.8, \"route_group\": \"medium\", \"max_trip_hrs\": 1.23, \"max_trip_route_group\": 1.25, \"name\": \"Transit Joint Powers Authority for Merced County\", \"caltrans_district\": \"10 - Stockton\", \"drmt_organization_name\": null, \"cutoff2\": 30, \"cutoff\": 0}, {\"calitp_itp_id\": 343, \"trip_key\": 1642406009089055462, \"trip_id\": \"t_1963137_b_33141_tn_0\", \"shape_id\": \"p_1303791\", \"route_id\": \"1881\", \"service_hours\": 1.18, \"trip_first_departure_ts\": 43440, \"trip_last_arrival_ts\": 47700, \"departure_hour\": 12, \"time_of_day\": \"Midday\", \"p25\": 1.18, \"p50\": 1.18, \"p75\": 1.23, \"p50_trip\": 1, \"fastest_trip\": 0, \"car_duration_hours\": 0.9, \"competitive_route\": 1, \"bus_multiplier\": 1.31, \"bus_difference\": 16.8, \"num_trips\": 20, \"num_competitive\": 20, \"pct_trips_competitive\": 1.0, \"bus_difference_spread\": 4.8, \"route_group\": \"medium\", \"max_trip_hrs\": 1.23, \"max_trip_route_group\": 1.25, \"name\": \"Transit Joint Powers Authority for Merced County\", \"caltrans_district\": \"10 - Stockton\", \"drmt_organization_name\": null, \"cutoff2\": 30, \"cutoff\": 0}, {\"calitp_itp_id\": 343, \"trip_key\": -4440352420161409541, \"trip_id\": \"t_1963126_b_33141_tn_0\", \"shape_id\": \"p_1303788\", \"route_id\": \"1881\", \"service_hours\": 1.23, \"trip_first_departure_ts\": 33300, \"trip_last_arrival_ts\": 37740, \"departure_hour\": 9, \"time_of_day\": \"AM Peak\", \"p25\": 1.18, \"p50\": 1.18, \"p75\": 1.23, \"p50_trip\": 0, \"fastest_trip\": 0, \"car_duration_hours\": 0.9, \"competitive_route\": 1, \"bus_multiplier\": 1.37, \"bus_difference\": 19.8, \"num_trips\": 20, \"num_competitive\": 20, \"pct_trips_competitive\": 1.0, \"bus_difference_spread\": 4.8, \"route_group\": \"medium\", \"max_trip_hrs\": 1.23, \"max_trip_route_group\": 1.25, \"name\": \"Transit Joint Powers Authority for Merced County\", \"caltrans_district\": \"10 - Stockton\", \"drmt_organization_name\": null, \"cutoff2\": 30, \"cutoff\": 0}, {\"calitp_itp_id\": 343, \"trip_key\": 4330130170498142458, \"trip_id\": \"t_1963124_b_33141_tn_0\", \"shape_id\": \"p_1303788\", \"route_id\": \"1881\", \"service_hours\": 1.23, \"trip_first_departure_ts\": 48600, \"trip_last_arrival_ts\": 53040, \"departure_hour\": 13, \"time_of_day\": \"Midday\", \"p25\": 1.18, \"p50\": 1.18, \"p75\": 1.23, \"p50_trip\": 0, \"fastest_trip\": 0, \"car_duration_hours\": 0.9, \"competitive_route\": 1, \"bus_multiplier\": 1.37, \"bus_difference\": 19.8, \"num_trips\": 20, \"num_competitive\": 20, \"pct_trips_competitive\": 1.0, \"bus_difference_spread\": 4.8, \"route_group\": \"medium\", \"max_trip_hrs\": 1.23, \"max_trip_route_group\": 1.25, \"name\": \"Transit Joint Powers Authority for Merced County\", \"caltrans_district\": \"10 - Stockton\", \"drmt_organization_name\": null, \"cutoff2\": 30, \"cutoff\": 0}, {\"calitp_itp_id\": 343, \"trip_key\": -1448756516359851733, \"trip_id\": \"t_1963131_b_33141_tn_0\", \"shape_id\": \"p_1303788\", \"route_id\": \"1881\", \"service_hours\": 1.23, \"trip_first_departure_ts\": 27000, \"trip_last_arrival_ts\": 31440, \"departure_hour\": 7, \"time_of_day\": \"AM Peak\", \"p25\": 1.18, \"p50\": 1.18, \"p75\": 1.23, \"p50_trip\": 0, \"fastest_trip\": 0, \"car_duration_hours\": 0.9, \"competitive_route\": 1, \"bus_multiplier\": 1.37, \"bus_difference\": 19.8, \"num_trips\": 20, \"num_competitive\": 20, \"pct_trips_competitive\": 1.0, \"bus_difference_spread\": 4.8, \"route_group\": \"medium\", \"max_trip_hrs\": 1.23, \"max_trip_route_group\": 1.25, \"name\": \"Transit Joint Powers Authority for Merced County\", \"caltrans_district\": \"10 - Stockton\", \"drmt_organization_name\": null, \"cutoff2\": 30, \"cutoff\": 0}, {\"calitp_itp_id\": 343, \"trip_key\": 2839669944368947609, \"trip_id\": \"t_1963125_b_33141_tn_0\", \"shape_id\": \"p_1303788\", \"route_id\": \"1881\", \"service_hours\": 1.23, \"trip_first_departure_ts\": 59400, \"trip_last_arrival_ts\": 63840, \"departure_hour\": 16, \"time_of_day\": \"Midday\", \"p25\": 1.18, \"p50\": 1.18, \"p75\": 1.23, \"p50_trip\": 0, \"fastest_trip\": 0, \"car_duration_hours\": 0.9, \"competitive_route\": 1, \"bus_multiplier\": 1.37, \"bus_difference\": 19.8, \"num_trips\": 20, \"num_competitive\": 20, \"pct_trips_competitive\": 1.0, \"bus_difference_spread\": 4.8, \"route_group\": \"medium\", \"max_trip_hrs\": 1.23, \"max_trip_route_group\": 1.25, \"name\": \"Transit Joint Powers Authority for Merced County\", \"caltrans_district\": \"10 - Stockton\", \"drmt_organization_name\": null, \"cutoff2\": 30, \"cutoff\": 0}, {\"calitp_itp_id\": 343, \"trip_key\": -2346356644846226611, \"trip_id\": \"t_1963123_b_33141_tn_0\", \"shape_id\": \"p_1303788\", \"route_id\": \"1881\", \"service_hours\": 1.23, \"trip_first_departure_ts\": 37800, \"trip_last_arrival_ts\": 42240, \"departure_hour\": 10, \"time_of_day\": \"Midday\", \"p25\": 1.18, \"p50\": 1.18, \"p75\": 1.23, \"p50_trip\": 0, \"fastest_trip\": 0, \"car_duration_hours\": 0.9, \"competitive_route\": 1, \"bus_multiplier\": 1.37, \"bus_difference\": 19.8, \"num_trips\": 20, \"num_competitive\": 20, \"pct_trips_competitive\": 1.0, \"bus_difference_spread\": 4.8, \"route_group\": \"medium\", \"max_trip_hrs\": 1.23, \"max_trip_route_group\": 1.25, \"name\": \"Transit Joint Powers Authority for Merced County\", \"caltrans_district\": \"10 - Stockton\", \"drmt_organization_name\": null, \"cutoff2\": 30, \"cutoff\": 0}, {\"calitp_itp_id\": 343, \"trip_key\": 8313034551470198749, \"trip_id\": \"t_1963128_b_33141_tn_0\", \"shape_id\": \"p_1303788\", \"route_id\": \"1881\", \"service_hours\": 1.23, \"trip_first_departure_ts\": 54000, \"trip_last_arrival_ts\": 58440, \"departure_hour\": 15, \"time_of_day\": \"Midday\", \"p25\": 1.18, \"p50\": 1.18, \"p75\": 1.23, \"p50_trip\": 0, \"fastest_trip\": 0, \"car_duration_hours\": 0.9, \"competitive_route\": 1, \"bus_multiplier\": 1.37, \"bus_difference\": 19.8, \"num_trips\": 20, \"num_competitive\": 20, \"pct_trips_competitive\": 1.0, \"bus_difference_spread\": 4.8, \"route_group\": \"medium\", \"max_trip_hrs\": 1.23, \"max_trip_route_group\": 1.25, \"name\": \"Transit Joint Powers Authority for Merced County\", \"caltrans_district\": \"10 - Stockton\", \"drmt_organization_name\": null, \"cutoff2\": 30, \"cutoff\": 0}, {\"calitp_itp_id\": 343, \"trip_key\": -5484133089713109700, \"trip_id\": \"t_1963132_b_33141_tn_0\", \"shape_id\": \"p_1303788\", \"route_id\": \"1881\", \"service_hours\": 1.23, \"trip_first_departure_ts\": 23400, \"trip_last_arrival_ts\": 27840, \"departure_hour\": 6, \"time_of_day\": \"Owl Service\", \"p25\": 1.18, \"p50\": 1.18, \"p75\": 1.23, \"p50_trip\": 0, \"fastest_trip\": 0, \"car_duration_hours\": 0.9, \"competitive_route\": 1, \"bus_multiplier\": 1.37, \"bus_difference\": 19.8, \"num_trips\": 20, \"num_competitive\": 20, \"pct_trips_competitive\": 1.0, \"bus_difference_spread\": 4.8, \"route_group\": \"medium\", \"max_trip_hrs\": 1.23, \"max_trip_route_group\": 1.25, \"name\": \"Transit Joint Powers Authority for Merced County\", \"caltrans_district\": \"10 - Stockton\", \"drmt_organization_name\": null, \"cutoff2\": 30, \"cutoff\": 0}, {\"calitp_itp_id\": 343, \"trip_key\": -8923446581115531070, \"trip_id\": \"t_1963127_b_33141_tn_0\", \"shape_id\": \"p_1303788\", \"route_id\": \"1881\", \"service_hours\": 1.23, \"trip_first_departure_ts\": 43200, \"trip_last_arrival_ts\": 47640, \"departure_hour\": 12, \"time_of_day\": \"Midday\", \"p25\": 1.18, \"p50\": 1.18, \"p75\": 1.23, \"p50_trip\": 0, \"fastest_trip\": 0, \"car_duration_hours\": 0.9, \"competitive_route\": 1, \"bus_multiplier\": 1.37, \"bus_difference\": 19.8, \"num_trips\": 20, \"num_competitive\": 20, \"pct_trips_competitive\": 1.0, \"bus_difference_spread\": 4.8, \"route_group\": \"medium\", \"max_trip_hrs\": 1.23, \"max_trip_route_group\": 1.25, \"name\": \"Transit Joint Powers Authority for Merced County\", \"caltrans_district\": \"10 - Stockton\", \"drmt_organization_name\": null, \"cutoff2\": 30, \"cutoff\": 0}]}}, {\"mode\": \"vega-lite\"});\n",
       "</script>"
      ],
      "text/plain": [
       "alt.FacetChart(...)"
      ]
     },
     "metadata": {},
     "output_type": "display_data"
    }
   ],
   "source": [
    "route_group = \"medium\"\n",
    "try:\n",
    "    display_charts_for_route_group(df, route_group)\n",
    "except:\n",
    "    print(\"No routes meet this criteria.\")"
   ]
  },
  {
   "cell_type": "markdown",
   "id": "124b76d0-886c-4d03-92ac-f1bda3cda182",
   "metadata": {
    "papermill": {
     "duration": 0.017036,
     "end_time": "2022-05-09T17:17:59.988782",
     "exception": false,
     "start_time": "2022-05-09T17:17:59.971746",
     "status": "completed"
    },
    "tags": []
   },
   "source": [
    "### Long Routes (> 1.5 hrs)"
   ]
  },
  {
   "cell_type": "code",
   "execution_count": 15,
   "id": "ddc81b19-4c45-4c81-8b7a-5e0f394aa7a3",
   "metadata": {
    "execution": {
     "iopub.execute_input": "2022-05-09T17:18:00.043404Z",
     "iopub.status.busy": "2022-05-09T17:18:00.042715Z",
     "iopub.status.idle": "2022-05-09T17:18:00.061494Z",
     "shell.execute_reply": "2022-05-09T17:18:00.059680Z"
    },
    "jupyter": {
     "source_hidden": true
    },
    "papermill": {
     "duration": 0.044682,
     "end_time": "2022-05-09T17:18:00.065228",
     "exception": false,
     "start_time": "2022-05-09T17:18:00.020546",
     "status": "completed"
    },
    "tags": [
     "remove_input"
    ]
   },
   "outputs": [
    {
     "name": "stdout",
     "output_type": "stream",
     "text": [
      "No routes meet this criteria.\n"
     ]
    }
   ],
   "source": [
    "route_group = \"long\"\n",
    "try:\n",
    "    display_charts_for_route_group(df, route_group)\n",
    "except:\n",
    "    print(\"No routes meet this criteria.\")"
   ]
  },
  {
   "cell_type": "markdown",
   "id": "ace75b5f-0442-4fbe-aebd-6c3a13ae13a7",
   "metadata": {
    "papermill": {
     "duration": 0.024538,
     "end_time": "2022-05-09T17:18:00.112535",
     "exception": false,
     "start_time": "2022-05-09T17:18:00.087997",
     "status": "completed"
    },
    "tags": []
   },
   "source": [
    "### GTFS Real-Time Speedmaps"
   ]
  },
  {
   "cell_type": "code",
   "execution_count": 16,
   "id": "3f06fdc4-d5a8-41f5-9b72-ed7e8a2dd2fc",
   "metadata": {
    "execution": {
     "iopub.execute_input": "2022-05-09T17:18:00.154778Z",
     "iopub.status.busy": "2022-05-09T17:18:00.153775Z",
     "iopub.status.idle": "2022-05-09T17:18:00.210091Z",
     "shell.execute_reply": "2022-05-09T17:18:00.209272Z"
    },
    "jupyter": {
     "source_hidden": true
    },
    "papermill": {
     "duration": 0.080614,
     "end_time": "2022-05-09T17:18:00.212513",
     "exception": false,
     "start_time": "2022-05-09T17:18:00.131899",
     "status": "completed"
    },
    "tags": [
     "remove_input"
    ]
   },
   "outputs": [
    {
     "data": {
      "text/html": [
       "No GTFS RT data available."
      ],
      "text/plain": [
       "<IPython.core.display.HTML object>"
      ]
     },
     "metadata": {},
     "output_type": "display_data"
    }
   ],
   "source": [
    "PORTFOLIO_SITE_YAML = \"../portfolio/analyses.yml\"\n",
    "\n",
    "# Grab list of ITP IDs with GTFS RT speedmaps\n",
    "rt_itp_id = deploy_portfolio_yaml.check_if_rt_data_available(PORTFOLIO_SITE_YAML)\n",
    "\n",
    "# Construct the URL \n",
    "RT_URL = (\"https://analysis.calitp.org/rt/\"\n",
    "          f\"district_{district_number}-{district_name}/\"\n",
    "          f\"speedmaps__itp_id_{itp_id}.html\"\n",
    "         ) \n",
    "\n",
    "if itp_id in rt_itp_id:\n",
    "    display(HTML('<a href=RT_URL>GTFS RT speedmaps here.</a>'))\n",
    "else:\n",
    "    display(HTML(\"No GTFS RT data available.\"))"
   ]
  },
  {
   "cell_type": "code",
   "execution_count": null,
   "id": "4664fe87-4e5e-4414-9602-a5c9c2a14072",
   "metadata": {
    "jupyter": {
     "source_hidden": true
    },
    "papermill": {
     "duration": 0.03569,
     "end_time": "2022-05-09T17:18:00.285598",
     "exception": false,
     "start_time": "2022-05-09T17:18:00.249908",
     "status": "completed"
    },
    "tags": [
     "remove_input"
    ]
   },
   "outputs": [],
   "source": []
  }
 ],
 "metadata": {
  "kernelspec": {
   "display_name": "Python 3 (ipykernel)",
   "language": "python",
   "name": "python3"
  },
  "language_info": {
   "codemirror_mode": {
    "name": "ipython",
    "version": 3
   },
   "file_extension": ".py",
   "mimetype": "text/x-python",
   "name": "python",
   "nbconvert_exporter": "python",
   "pygments_lexer": "ipython3",
   "version": "3.9.12"
  },
  "papermill": {
   "default_parameters": {},
   "duration": 28.074778,
   "end_time": "2022-05-09T17:18:02.744203",
   "environment_variables": {},
   "exception": null,
   "input_path": "bus_service_increase/competitive-parallel-routes.ipynb",
   "output_path": "portfolio/parallel_corridors/district_10-stockton/competitive-parallel-routes__itp_id_343.ipynb",
   "parameters": {
    "district": "10 - Stockton",
    "itp_id": 343
   },
   "start_time": "2022-05-09T17:17:34.669425",
   "version": "2.3.4"
  }
 },
 "nbformat": 4,
 "nbformat_minor": 5
}