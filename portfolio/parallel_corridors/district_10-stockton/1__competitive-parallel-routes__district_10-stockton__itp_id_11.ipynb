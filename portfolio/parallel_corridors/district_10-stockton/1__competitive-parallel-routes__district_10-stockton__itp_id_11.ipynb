{
 "cells": [
  {
   "cell_type": "code",
   "execution_count": 1,
   "id": "95d00857-6a20-4529-a519-2cc7182928a9",
   "metadata": {
    "execution": {
     "iopub.execute_input": "2022-05-12T02:39:25.765516Z",
     "iopub.status.busy": "2022-05-12T02:39:25.764615Z",
     "iopub.status.idle": "2022-05-12T02:39:34.048638Z",
     "shell.execute_reply": "2022-05-12T02:39:34.047705Z"
    },
    "jupyter": {
     "source_hidden": true
    },
    "papermill": {
     "duration": 8.300514,
     "end_time": "2022-05-12T02:39:34.051158",
     "exception": false,
     "start_time": "2022-05-12T02:39:25.750644",
     "status": "completed"
    },
    "tags": [
     "remove_input"
    ]
   },
   "outputs": [],
   "source": [
    "%%capture\n",
    "import warnings\n",
    "warnings.filterwarnings('ignore')\n",
    "\n",
    "import altair as alt\n",
    "import calitp.magics\n",
    "import geopandas as gpd\n",
    "import intake\n",
    "import pandas as pd\n",
    "\n",
    "from IPython.display import display, Markdown, HTML\n",
    "\n",
    "import parallel_corridors_utils\n",
    "import deploy_portfolio_yaml\n",
    "from shared_utils import styleguide, geography_utils\n",
    "from make_stripplot_data import diff_cutoffs\n",
    "\n",
    "catalog = intake.open_catalog(\"./*.yml\")\n",
    "alt.renderers.enable(\"html\")"
   ]
  },
  {
   "cell_type": "code",
   "execution_count": 2,
   "id": "8af2a0c1-f3da-408d-9bea-11d9fbf8695d",
   "metadata": {
    "execution": {
     "iopub.execute_input": "2022-05-12T02:39:34.078878Z",
     "iopub.status.busy": "2022-05-12T02:39:34.077992Z",
     "iopub.status.idle": "2022-05-12T02:39:34.082056Z",
     "shell.execute_reply": "2022-05-12T02:39:34.081588Z"
    },
    "jupyter": {
     "source_hidden": true
    },
    "papermill": {
     "duration": 0.019199,
     "end_time": "2022-05-12T02:39:34.083704",
     "exception": false,
     "start_time": "2022-05-12T02:39:34.064505",
     "status": "completed"
    },
    "tags": [
     "parameters",
     "remove_input"
    ]
   },
   "outputs": [],
   "source": [
    "# parameters cell\n",
    "itp_id = 182"
   ]
  },
  {
   "cell_type": "code",
   "execution_count": 3,
   "id": "57b4a1f5",
   "metadata": {
    "execution": {
     "iopub.execute_input": "2022-05-12T02:39:34.112031Z",
     "iopub.status.busy": "2022-05-12T02:39:34.111330Z",
     "iopub.status.idle": "2022-05-12T02:39:34.115534Z",
     "shell.execute_reply": "2022-05-12T02:39:34.114694Z"
    },
    "jupyter": {
     "source_hidden": true
    },
    "papermill": {
     "duration": 0.018739,
     "end_time": "2022-05-12T02:39:34.117162",
     "exception": false,
     "start_time": "2022-05-12T02:39:34.098423",
     "status": "completed"
    },
    "tags": [
     "injected-parameters",
     "remove_input"
    ]
   },
   "outputs": [],
   "source": [
    "# Parameters\n",
    "district = \"10 - Stockton\"\n",
    "itp_id = 11\n"
   ]
  },
  {
   "cell_type": "code",
   "execution_count": 4,
   "id": "9582aaf4-79ff-412a-b248-8d8d693ebd4f",
   "metadata": {
    "execution": {
     "iopub.execute_input": "2022-05-12T02:39:34.142364Z",
     "iopub.status.busy": "2022-05-12T02:39:34.141782Z",
     "iopub.status.idle": "2022-05-12T02:39:35.434164Z",
     "shell.execute_reply": "2022-05-12T02:39:35.433586Z"
    },
    "jupyter": {
     "source_hidden": true
    },
    "papermill": {
     "duration": 1.307838,
     "end_time": "2022-05-12T02:39:35.436490",
     "exception": false,
     "start_time": "2022-05-12T02:39:34.128652",
     "status": "completed"
    },
    "tags": [
     "remove_input"
    ]
   },
   "outputs": [],
   "source": [
    "df = catalog.competitive_route_variability.read()\n",
    "\n",
    "df = (df[(df.calitp_itp_id == itp_id) & \n",
    "         (df.route_group.notna())]\n",
    "      .rename(columns = {\"route_name_used\": \"route_name\"})\n",
    "      .reset_index(drop=True)\n",
    "     )\n",
    "\n",
    "if itp_id == 182:\n",
    "    df = df.assign(\n",
    "        route_id = df.route_id.str.replace('-13153', '').astype(int)\n",
    "    )"
   ]
  },
  {
   "cell_type": "code",
   "execution_count": 5,
   "id": "33ac4b06-f647-4dce-a625-8f2c1b37cc60",
   "metadata": {
    "execution": {
     "iopub.execute_input": "2022-05-12T02:39:35.463100Z",
     "iopub.status.busy": "2022-05-12T02:39:35.462480Z",
     "iopub.status.idle": "2022-05-12T02:39:35.470397Z",
     "shell.execute_reply": "2022-05-12T02:39:35.469660Z"
    },
    "jupyter": {
     "source_hidden": true
    },
    "papermill": {
     "duration": 0.023257,
     "end_time": "2022-05-12T02:39:35.472328",
     "exception": false,
     "start_time": "2022-05-12T02:39:35.449071",
     "status": "completed"
    },
    "tags": [
     "remove_input"
    ]
   },
   "outputs": [],
   "source": [
    "%%capture_parameters\n",
    "operator_name = df.name.iloc[0]\n",
    "district_number = f\"{df.caltrans_district.iloc[0].split('-')[0].strip()}\"\n",
    "district_name = f\"{df.caltrans_district.iloc[0].split('-')[1].strip().lower().replace(' ', '-')}\"\n",
    "\n",
    "itp_id, operator_name, district_number, district_name"
   ]
  },
  {
   "cell_type": "markdown",
   "id": "65bc6f5c-8348-42ee-b2dd-52057c406852",
   "metadata": {
    "papermill": {
     "duration": 0.013592,
     "end_time": "2022-05-12T02:39:35.498895",
     "exception": false,
     "start_time": "2022-05-12T02:39:35.485303",
     "status": "completed"
    },
    "tags": []
   },
   "source": [
    "# Amador Regional Transit System (ITP ID: 11)"
   ]
  },
  {
   "cell_type": "code",
   "execution_count": 6,
   "id": "a689c1ab-2c6c-4831-8d64-897f5986f571",
   "metadata": {
    "execution": {
     "iopub.execute_input": "2022-05-12T02:39:35.525563Z",
     "iopub.status.busy": "2022-05-12T02:39:35.524970Z",
     "iopub.status.idle": "2022-05-12T02:39:35.531056Z",
     "shell.execute_reply": "2022-05-12T02:39:35.530294Z"
    },
    "jupyter": {
     "source_hidden": true
    },
    "papermill": {
     "duration": 0.021848,
     "end_time": "2022-05-12T02:39:35.533021",
     "exception": false,
     "start_time": "2022-05-12T02:39:35.511173",
     "status": "completed"
    },
    "tags": [
     "remove_input"
    ]
   },
   "outputs": [
    {
     "data": {
      "text/html": [
       "<h1>Competitive & Parallel Routes</h1>"
      ],
      "text/plain": [
       "<IPython.core.display.HTML object>"
      ]
     },
     "metadata": {},
     "output_type": "display_data"
    }
   ],
   "source": [
    "display(HTML(\"<h1>Competitive & Parallel Routes</h1>\")) "
   ]
  },
  {
   "cell_type": "code",
   "execution_count": 7,
   "id": "2cb4d8d5-4760-40e4-85b1-cb833d8bb648",
   "metadata": {
    "execution": {
     "iopub.execute_input": "2022-05-12T02:39:35.562698Z",
     "iopub.status.busy": "2022-05-12T02:39:35.562159Z",
     "iopub.status.idle": "2022-05-12T02:39:45.528239Z",
     "shell.execute_reply": "2022-05-12T02:39:45.527427Z"
    },
    "jupyter": {
     "source_hidden": true
    },
    "papermill": {
     "duration": 9.983965,
     "end_time": "2022-05-12T02:39:45.530716",
     "exception": false,
     "start_time": "2022-05-12T02:39:35.546751",
     "status": "completed"
    },
    "tags": [
     "remove_input"
    ]
   },
   "outputs": [],
   "source": [
    "# Grab parameters for narrative text - clean up formatting here \n",
    "district = df.caltrans_district.iloc[0]\n",
    "formatted_date = pd.to_datetime(parallel_corridors_utils.SELECTED_DATE).strftime('%m-%d-%Y')\n",
    "\n",
    "PCT_COMPETITIVE_THRESHOLD = 0.75\n",
    "PCT_TRIPS_BELOW_CUTOFF = 0.50\n",
    "\n",
    "stats = parallel_corridors_utils.operator_parallel_competitive_stats(\n",
    "    itp_id, PCT_COMPETITIVE_THRESHOLD, PCT_TRIPS_BELOW_CUTOFF)\n",
    "\n",
    "pct_parallel = round(stats['parallel_routes'] / stats['num_routes'] * 100, 1 )\n",
    "pct_competitive =  round(stats['competitive_routes'] / stats['num_routes'] * 100, 1 )\n",
    "pct_viable =  round(stats['viable_competitive_routes'] / stats['num_routes'] * 100, 1 )"
   ]
  },
  {
   "cell_type": "code",
   "execution_count": 8,
   "id": "8bf30c8f-6aa5-47bb-82ae-a906732e81fd",
   "metadata": {
    "execution": {
     "iopub.execute_input": "2022-05-12T02:39:45.561445Z",
     "iopub.status.busy": "2022-05-12T02:39:45.561173Z",
     "iopub.status.idle": "2022-05-12T02:39:45.597462Z",
     "shell.execute_reply": "2022-05-12T02:39:45.596708Z"
    },
    "jupyter": {
     "source_hidden": true
    },
    "papermill": {
     "duration": 0.053251,
     "end_time": "2022-05-12T02:39:45.599247",
     "exception": false,
     "start_time": "2022-05-12T02:39:45.545996",
     "status": "completed"
    },
    "tags": [
     "remove_input"
    ]
   },
   "outputs": [],
   "source": [
    "# Display a table of route-level stats for each route_group\n",
    "# Displaying route_name makes chart too crowded\n",
    "\n",
    "# Get route stats (for entire df)\n",
    "route_stats = parallel_corridors_utils.competitive_route_level_stats(df)\n",
    "    \n",
    "def style_route_stats(df, top15_routes):\n",
    "    df = df[df.route_id.isin(top15_routes)]\n",
    "    \n",
    "    # Rename columns for display\n",
    "    rename_cols = {\n",
    "        \"route_id\": \"Route ID\",\n",
    "        \"route_name\": \"Route Name\",\n",
    "        \"route_group\": \"Route Group\",\n",
    "        \"num_trips\": \"# trips\",\n",
    "        \"daily_avg_freq\": \"Daily Avg Freq (trips per hr)\",\n",
    "        \"pm_peak_freq\": \"PM Peak Avg Freq (trips per hr)\",\n",
    "        \"percentiles\": \"25th, 50th, 75th ptile (hrs)\",\n",
    "    }\n",
    "    \n",
    "    # Style it\n",
    "    drop_cols = [\n",
    "        \"calitp_itp_id\", \"below_cutoff\", \"route_group\", \n",
    "        \"pct_trips_competitive\", \"pct_below_cutoff\",\n",
    "        \"p25\", \"p50\", \"p75\",\n",
    "    ]\n",
    "    \n",
    "    # Change alignment for some columns\n",
    "    # https://stackoverflow.com/questions/59453091/left-align-the-first-column-and-center-align-the-other-columns-in-a-pandas-table\n",
    "    df_style = (df.sort_values(\n",
    "        [\"pct_trips_competitive\", \"below_cutoff\", \n",
    "        \"pct_below_cutoff\", \"route_id\"], \n",
    "        ascending=[False, False, False, True])\n",
    "           .drop(columns = drop_cols)\n",
    "           .rename(columns = rename_cols)\n",
    "           .style.format(\n",
    "               subset=['Daily Avg Freq (trips per hr)', \n",
    "                       'PM Peak Avg Freq (trips per hr)'], \n",
    "               **{'formatter': '{:,.3}'})\n",
    "                .set_properties(subset=['Route ID', 'Route Name'], \n",
    "                                **{'text-align': 'left'})\n",
    "                .set_properties(subset=['# trips', 'Daily Avg Freq (trips per hr)', \n",
    "                                       'PM Peak Avg Freq (trips per hr)'], \n",
    "                               **{'text-align': 'center'})\n",
    "                .set_table_styles([dict(selector='th', \n",
    "                                        props=[('text-align', 'center')])\n",
    "                                        ])\n",
    "           .hide(axis=\"index\")\n",
    "           .to_html()\n",
    "          )\n",
    "    \n",
    "    display(HTML(\"<h4>Route Stats</h4>\"))\n",
    "    display(HTML(df_style))"
   ]
  },
  {
   "cell_type": "markdown",
   "id": "ab667928-5274-4490-82d9-4c39293209a4",
   "metadata": {
    "papermill": {
     "duration": 0.012874,
     "end_time": "2022-05-12T02:39:45.625456",
     "exception": false,
     "start_time": "2022-05-12T02:39:45.612582",
     "status": "completed"
    },
    "tags": []
   },
   "source": [
    "## Quick Stats"
   ]
  },
  {
   "cell_type": "code",
   "execution_count": 9,
   "id": "0416509d-dc62-4165-b62e-64f8b26e8b8e",
   "metadata": {
    "execution": {
     "iopub.execute_input": "2022-05-12T02:39:45.653272Z",
     "iopub.status.busy": "2022-05-12T02:39:45.652451Z",
     "iopub.status.idle": "2022-05-12T02:39:45.659764Z",
     "shell.execute_reply": "2022-05-12T02:39:45.659219Z"
    },
    "jupyter": {
     "source_hidden": true
    },
    "papermill": {
     "duration": 0.023166,
     "end_time": "2022-05-12T02:39:45.661414",
     "exception": false,
     "start_time": "2022-05-12T02:39:45.638248",
     "status": "completed"
    },
    "tags": [
     "remove_input"
    ]
   },
   "outputs": [
    {
     "data": {
      "text/markdown": [
       "**Bus routes in service: 6**<br>**Parallel routes** to State Highway Network (SHN): **6 routes (100.0%)**<br>**Competitive routes** against car travel (within 2x car travel time): **3 routes (50.0%)**<br>**Viable competitive routes** against car travel (within 2x car travel time and within 20, 30, or 40 min cut-off): **3 routes (50.0%)**"
      ],
      "text/plain": [
       "<IPython.core.display.Markdown object>"
      ]
     },
     "metadata": {},
     "output_type": "display_data"
    }
   ],
   "source": [
    "display(\n",
    "    Markdown(\n",
    "        f\"**Bus routes in service: {stats['num_routes']}**\"\n",
    "        \"<br>**Parallel routes** to State Highway Network (SHN): \"\n",
    "        f\"**{stats['parallel_routes']} routes ({pct_parallel}%)**\"\n",
    "        \"<br>**Competitive routes** against car travel (within 2x car travel time): \"\n",
    "        f\"**{stats['competitive_routes']} routes ({pct_competitive}%)**\"\n",
    "        \"<br>**Viable competitive routes** against car travel \"\n",
    "        \"(within 2x car travel time and within 20, 30, or 40 min cut-off): \"\n",
    "        f\"**{stats['viable_competitive_routes']} routes ({pct_viable}%)**\"\n",
    "    )\n",
    ")"
   ]
  },
  {
   "cell_type": "code",
   "execution_count": 10,
   "id": "f9d6ab58-f0ee-460c-b6de-657490e1f386",
   "metadata": {
    "execution": {
     "iopub.execute_input": "2022-05-12T02:39:45.697459Z",
     "iopub.status.busy": "2022-05-12T02:39:45.696576Z",
     "iopub.status.idle": "2022-05-12T02:39:45.703080Z",
     "shell.execute_reply": "2022-05-12T02:39:45.702566Z"
    },
    "jupyter": {
     "source_hidden": true
    },
    "papermill": {
     "duration": 0.02969,
     "end_time": "2022-05-12T02:39:45.704796",
     "exception": false,
     "start_time": "2022-05-12T02:39:45.675106",
     "status": "completed"
    },
    "tags": [
     "remove_input"
    ]
   },
   "outputs": [],
   "source": [
    "def set_yaxis_range(df, y_col):\n",
    "    Y_MIN = df[y_col].min()\n",
    "    Y_MAX = df[y_col].max()\n",
    "    \n",
    "    return Y_MIN, Y_MAX\n",
    "\n",
    "# Rather than set it according to the operator, which can vary,\n",
    "# just use set thresholds for each group\n",
    "def top15_routes(df, route_group):\n",
    "    # grab top 15 routes where majority of trips are below that cut-off \n",
    "    # but show 15 max, otherwise, show less, since these won't be as interesting to operators\n",
    "    df2 = (df[(df.route_group==route_group) &\n",
    "              (df.pct_below_cutoff >= PCT_TRIPS_BELOW_CUTOFF)]\n",
    "           .sort_values([\"calitp_itp_id\", \"below_cutoff\", \n",
    "                         \"pct_below_cutoff\", \"route_id\"],\n",
    "                        ascending = [True, False, False, True]\n",
    "                       )\n",
    "           .drop_duplicates(subset=[\"calitp_itp_id\", \"route_id\"])\n",
    "          ).head(15)\n",
    "    \n",
    "    return list(df2.route_id)"
   ]
  },
  {
   "cell_type": "code",
   "execution_count": 11,
   "id": "cf36d559-3349-4144-8086-8ac9ce937a5a",
   "metadata": {
    "execution": {
     "iopub.execute_input": "2022-05-12T02:39:45.733651Z",
     "iopub.status.busy": "2022-05-12T02:39:45.732903Z",
     "iopub.status.idle": "2022-05-12T02:39:45.739614Z",
     "shell.execute_reply": "2022-05-12T02:39:45.739084Z"
    },
    "jupyter": {
     "source_hidden": true
    },
    "papermill": {
     "duration": 0.023369,
     "end_time": "2022-05-12T02:39:45.741252",
     "exception": false,
     "start_time": "2022-05-12T02:39:45.717883",
     "status": "completed"
    },
    "tags": [
     "remove_input"
    ]
   },
   "outputs": [],
   "source": [
    "def caption_with_cutoff(cutoff):\n",
    "    sentence = (\n",
    "        f\"<br>These are routes that have **at least {int(PCT_TRIPS_BELOW_CUTOFF*100)}% \"\n",
    "        \"of their trips take no more than an \"\n",
    "        f\"additional {cutoff} min** compared to a car \"\n",
    "        \"(up to 15 routes) are shown.\"\n",
    "        \"<br>Within each route group, routes are sorted in descending order \"\n",
    "        \"by % competitive trips and # trips below the additional time cut-off.\"\n",
    "    )\n",
    "    return sentence\n",
    "\n",
    "CAPTIONS_DICT = {\n",
    "    \"short\": caption_with_cutoff(diff_cutoffs['short']),\n",
    "    \"medium\": caption_with_cutoff(diff_cutoffs['medium']),\n",
    "    \"long\": caption_with_cutoff(diff_cutoffs['long']),\n",
    "}"
   ]
  },
  {
   "cell_type": "code",
   "execution_count": 12,
   "id": "e4306d58-6944-47e9-afef-5d5b524c751f",
   "metadata": {
    "execution": {
     "iopub.execute_input": "2022-05-12T02:39:45.773727Z",
     "iopub.status.busy": "2022-05-12T02:39:45.772820Z",
     "iopub.status.idle": "2022-05-12T02:39:45.780408Z",
     "shell.execute_reply": "2022-05-12T02:39:45.779830Z"
    },
    "jupyter": {
     "source_hidden": true
    },
    "papermill": {
     "duration": 0.025466,
     "end_time": "2022-05-12T02:39:45.782113",
     "exception": false,
     "start_time": "2022-05-12T02:39:45.756647",
     "status": "completed"
    },
    "tags": [
     "remove_input"
    ]
   },
   "outputs": [],
   "source": [
    "def setup_charts(df, PCT_COMPETITIVE_THRESHOLD, route_group):\n",
    "    # Set up df for charting (cut-off at some threshold to show most competitive routes)\n",
    "    plot_me = (df[df.pct_trips_competitive > PCT_COMPETITIVE_THRESHOLD]\n",
    "           .drop(columns = \"geometry\")\n",
    "    )\n",
    "    \n",
    "    # Set y-ranges to be the same across route_groups, \n",
    "    # otherwise charts fluctuate too much, even within operator\n",
    "    y_col1 = \"bus_multiplier\"\n",
    "    Y_MIN1, Y_MAX1 = set_yaxis_range(plot_me, y_col1)\n",
    "\n",
    "    y_col2 = \"bus_difference\"\n",
    "    Y_MIN2, Y_MAX2 = set_yaxis_range(plot_me, y_col2)\n",
    "    \n",
    "    # Grab the routes to plot\n",
    "    subset_routes = top15_routes(plot_me, route_group)\n",
    "        \n",
    "    # Display charts\n",
    "    multiplier_chart = parallel_corridors_utils.make_stripplot(\n",
    "        plot_me[plot_me.route_id.isin(subset_routes)], \n",
    "        y_col1, Y_MIN = Y_MIN1, Y_MAX = Y_MAX1\n",
    "    )\n",
    "    \n",
    "    difference_chart = parallel_corridors_utils.make_stripplot(\n",
    "        plot_me[plot_me.route_id.isin(subset_routes)], \n",
    "        y_col2, Y_MIN = Y_MIN2, Y_MAX = Y_MAX2\n",
    "    )\n",
    "    \n",
    "    return subset_routes, multiplier_chart, difference_chart            "
   ]
  },
  {
   "cell_type": "code",
   "execution_count": 13,
   "id": "33a710e8-504c-4942-aa75-ff69f216956e",
   "metadata": {
    "execution": {
     "iopub.execute_input": "2022-05-12T02:39:45.818758Z",
     "iopub.status.busy": "2022-05-12T02:39:45.817231Z",
     "iopub.status.idle": "2022-05-12T02:39:45.823181Z",
     "shell.execute_reply": "2022-05-12T02:39:45.822656Z"
    },
    "jupyter": {
     "source_hidden": true
    },
    "papermill": {
     "duration": 0.023365,
     "end_time": "2022-05-12T02:39:45.824861",
     "exception": false,
     "start_time": "2022-05-12T02:39:45.801496",
     "status": "completed"
    },
    "tags": [
     "remove_input"
    ]
   },
   "outputs": [],
   "source": [
    "def display_charts_for_route_group(df, route_group):    \n",
    "    subset_routes, mult, diff  = setup_charts(df, PCT_COMPETITIVE_THRESHOLD, route_group)\n",
    "\n",
    "    if len(subset_routes) > 0:\n",
    "        display(Markdown(f\"{CAPTIONS_DICT[route_group]}\"))\n",
    "\n",
    "        display(mult)\n",
    "        display(diff)\n",
    "        \n",
    "        # Display route stats for just plotted routes\n",
    "        style_route_stats(route_stats, subset_routes)"
   ]
  },
  {
   "cell_type": "markdown",
   "id": "525f9b38-072b-46d1-96a8-1aa4b038357c",
   "metadata": {
    "papermill": {
     "duration": 0.013961,
     "end_time": "2022-05-12T02:39:45.852246",
     "exception": false,
     "start_time": "2022-05-12T02:39:45.838285",
     "status": "completed"
    },
    "tags": []
   },
   "source": [
    "## Viable Competitive Routes\n",
    "### Short Routes (< 1 hr)"
   ]
  },
  {
   "cell_type": "code",
   "execution_count": 14,
   "id": "57f7084c-2cf7-45c6-ba08-1609e0bd6ca5",
   "metadata": {
    "execution": {
     "iopub.execute_input": "2022-05-12T02:39:45.908102Z",
     "iopub.status.busy": "2022-05-12T02:39:45.907555Z",
     "iopub.status.idle": "2022-05-12T02:39:46.289797Z",
     "shell.execute_reply": "2022-05-12T02:39:46.289030Z"
    },
    "jupyter": {
     "source_hidden": true
    },
    "papermill": {
     "duration": 0.412605,
     "end_time": "2022-05-12T02:39:46.291611",
     "exception": false,
     "start_time": "2022-05-12T02:39:45.879006",
     "status": "completed"
    },
    "tags": [
     "remove_input"
    ]
   },
   "outputs": [
    {
     "data": {
      "text/markdown": [
       "<br>These are routes that have **at least 50% of their trips take no more than an additional 20 min** compared to a car (up to 15 routes) are shown.<br>Within each route group, routes are sorted in descending order by % competitive trips and # trips below the additional time cut-off."
      ],
      "text/plain": [
       "<IPython.core.display.Markdown object>"
      ]
     },
     "metadata": {},
     "output_type": "display_data"
    },
    {
     "data": {
      "text/html": [
       "\n",
       "<div id=\"altair-viz-98ac8ee3f8d944f2910c17aca2e1aafb\"></div>\n",
       "<script type=\"text/javascript\">\n",
       "  var VEGA_DEBUG = (typeof VEGA_DEBUG == \"undefined\") ? {} : VEGA_DEBUG;\n",
       "  (function(spec, embedOpt){\n",
       "    let outputDiv = document.currentScript.previousElementSibling;\n",
       "    if (outputDiv.id !== \"altair-viz-98ac8ee3f8d944f2910c17aca2e1aafb\") {\n",
       "      outputDiv = document.getElementById(\"altair-viz-98ac8ee3f8d944f2910c17aca2e1aafb\");\n",
       "    }\n",
       "    const paths = {\n",
       "      \"vega\": \"https://cdn.jsdelivr.net/npm//vega@5?noext\",\n",
       "      \"vega-lib\": \"https://cdn.jsdelivr.net/npm//vega-lib?noext\",\n",
       "      \"vega-lite\": \"https://cdn.jsdelivr.net/npm//vega-lite@4.17.0?noext\",\n",
       "      \"vega-embed\": \"https://cdn.jsdelivr.net/npm//vega-embed@6?noext\",\n",
       "    };\n",
       "\n",
       "    function maybeLoadScript(lib, version) {\n",
       "      var key = `${lib.replace(\"-\", \"\")}_version`;\n",
       "      return (VEGA_DEBUG[key] == version) ?\n",
       "        Promise.resolve(paths[lib]) :\n",
       "        new Promise(function(resolve, reject) {\n",
       "          var s = document.createElement('script');\n",
       "          document.getElementsByTagName(\"head\")[0].appendChild(s);\n",
       "          s.async = true;\n",
       "          s.onload = () => {\n",
       "            VEGA_DEBUG[key] = version;\n",
       "            return resolve(paths[lib]);\n",
       "          };\n",
       "          s.onerror = () => reject(`Error loading script: ${paths[lib]}`);\n",
       "          s.src = paths[lib];\n",
       "        });\n",
       "    }\n",
       "\n",
       "    function showError(err) {\n",
       "      outputDiv.innerHTML = `<div class=\"error\" style=\"color:red;\">${err}</div>`;\n",
       "      throw err;\n",
       "    }\n",
       "\n",
       "    function displayChart(vegaEmbed) {\n",
       "      vegaEmbed(outputDiv, spec, embedOpt)\n",
       "        .catch(err => showError(`Javascript Error: ${err.message}<br>This usually means there's a typo in your chart specification. See the javascript console for the full traceback.`));\n",
       "    }\n",
       "\n",
       "    if(typeof define === \"function\" && define.amd) {\n",
       "      requirejs.config({paths});\n",
       "      require([\"vega-embed\"], displayChart, err => showError(`Error loading script: ${err.message}`));\n",
       "    } else {\n",
       "      maybeLoadScript(\"vega\", \"5\")\n",
       "        .then(() => maybeLoadScript(\"vega-lite\", \"4.17.0\"))\n",
       "        .then(() => maybeLoadScript(\"vega-embed\", \"6\"))\n",
       "        .catch(showError)\n",
       "        .then(() => displayChart(vegaEmbed));\n",
       "    }\n",
       "  })({\"config\": {\"view\": {\"continuousWidth\": 400, \"continuousHeight\": 300, \"stroke\": null}, \"facet\": {\"spacing\": 0}}, \"data\": {\"name\": \"data-16dd25c11b1972aa2156d43dfdb670e8\"}, \"facet\": {\"column\": {\"field\": \"route_id\", \"sort\": [\"571\"], \"title\": \"Route ID\", \"type\": \"nominal\"}}, \"spec\": {\"layer\": [{\"mark\": \"rule\", \"encoding\": {\"color\": {\"value\": \"black\"}, \"y\": {\"field\": \"cutoff\", \"type\": \"quantitative\"}}, \"selection\": {\"selector001\": {\"type\": \"interval\", \"bind\": \"scales\", \"encodings\": [\"x\", \"y\"]}}}, {\"mark\": {\"type\": \"point\", \"opacity\": 0.65, \"size\": 12, \"strokeWidth\": 1.1}, \"encoding\": {\"color\": {\"field\": \"time_of_day\", \"scale\": {\"range\": [\"#136C97\", \"#E16B26\", \"#F6BF16\", \"#00896B\", \"#7790A3\", \"#5B559C\"]}, \"sort\": [\"AM Peak\", \"Midday\", \"PM Peak\", \"Owl Service\"], \"title\": \"Time of Day\", \"type\": \"nominal\"}, \"tooltip\": [{\"field\": \"route_id\", \"type\": \"nominal\"}, {\"field\": \"route_name\", \"type\": \"nominal\"}, {\"field\": \"trip_id\", \"type\": \"nominal\"}, {\"field\": \"service_hours\", \"type\": \"quantitative\"}, {\"field\": \"car_duration_hours\", \"type\": \"quantitative\"}, {\"field\": \"bus_multiplier\", \"type\": \"quantitative\"}, {\"field\": \"bus_difference\", \"type\": \"quantitative\"}, {\"field\": \"num_trips\", \"type\": \"quantitative\"}, {\"field\": \"num_competitive\", \"type\": \"quantitative\"}, {\"field\": \"pct_trips_competitive\", \"type\": \"quantitative\"}, {\"field\": \"p25\", \"type\": \"quantitative\"}, {\"field\": \"p50\", \"type\": \"quantitative\"}, {\"field\": \"p75\", \"type\": \"quantitative\"}], \"x\": {\"axis\": {\"grid\": false, \"labels\": false, \"ticks\": true, \"values\": [0]}, \"field\": \"jitter\", \"scale\": {}, \"title\": null, \"type\": \"quantitative\"}, \"y\": {\"field\": \"bus_multiplier\", \"scale\": {\"domain\": [-0.25, 3.0]}, \"title\": \"Ratio of Bus to Car Travel Time\", \"type\": \"quantitative\"}}, \"transform\": [{\"calculate\": \"sqrt(-2*log(random()))*cos(2*PI*random())\", \"as\": \"jitter\"}], \"width\": 50}, {\"layer\": [{\"mark\": {\"type\": \"point\", \"opacity\": 0.6, \"size\": 20, \"strokeWidth\": 1.3}, \"encoding\": {\"color\": {\"value\": \"#323434\"}, \"y\": {\"field\": \"bus_multiplier\", \"type\": \"quantitative\"}}, \"transform\": [{\"filter\": \"(datum.p50_trip === 1)\"}]}, {\"mark\": {\"type\": \"text\", \"align\": \"center\", \"baseline\": \"middle\"}, \"encoding\": {\"color\": {\"value\": \"black\"}, \"text\": {\"field\": \"pct_trips_competitive\", \"format\": \".0%\", \"type\": \"quantitative\"}, \"tooltip\": [{\"field\": \"route_id\", \"type\": \"nominal\"}, {\"field\": \"route_name\", \"type\": \"nominal\"}, {\"field\": \"trip_id\", \"type\": \"nominal\"}, {\"field\": \"service_hours\", \"type\": \"quantitative\"}, {\"field\": \"car_duration_hours\", \"type\": \"quantitative\"}, {\"field\": \"bus_multiplier\", \"type\": \"quantitative\"}, {\"field\": \"bus_difference\", \"type\": \"quantitative\"}, {\"field\": \"num_trips\", \"type\": \"quantitative\"}, {\"field\": \"num_competitive\", \"type\": \"quantitative\"}, {\"field\": \"pct_trips_competitive\", \"type\": \"quantitative\"}, {\"field\": \"p25\", \"type\": \"quantitative\"}, {\"field\": \"p50\", \"type\": \"quantitative\"}, {\"field\": \"p75\", \"type\": \"quantitative\"}], \"x\": {\"value\": 30}, \"y\": {\"value\": 15}}, \"transform\": [{\"calculate\": \"sqrt(-2*log(random()))*cos(2*PI*random())\", \"as\": \"jitter\"}, {\"filter\": \"(datum.fastest_trip === 1)\"}]}]}]}, \"resolve\": {\"scale\": {\"y\": \"shared\"}}, \"title\": \"Ratio of Bus to Car Travel Time\", \"$schema\": \"https://vega.github.io/schema/vega-lite/v4.17.0.json\", \"datasets\": {\"data-16dd25c11b1972aa2156d43dfdb670e8\": [{\"calitp_itp_id\": 11, \"trip_key\": -3472073110163871566, \"trip_id\": \"t_27247_b_414_tn_0\", \"shape_id\": \"p_858\", \"route_id\": \"571\", \"service_hours\": 0.8, \"trip_first_departure_ts\": 54600, \"trip_last_arrival_ts\": 57480, \"departure_hour\": 15, \"time_of_day\": \"Midday\", \"p25\": 0.8075, \"p50\": 0.815, \"p75\": 0.8225, \"p50_trip\": 1, \"fastest_trip\": 1, \"car_duration_hours\": 0.62, \"competitive_route\": 1, \"bus_multiplier\": 1.29, \"bus_difference\": 10.8, \"num_trips\": 2, \"num_competitive\": 2, \"pct_trips_competitive\": 1.0, \"bus_difference_spread\": 1.799999999999999, \"route_group\": \"short\", \"max_trip_hrs\": 0.83, \"max_trip_route_group\": 0.83, \"below_cutoff\": 2, \"pct_below_cutoff\": 1.0, \"name\": \"Amador Regional Transit System\", \"caltrans_district\": \"10 - Stockton\", \"drmt_organization_name\": \"['recGiMlqrcpPxScAH']\", \"route_name\": \"Plymouth\", \"cutoff2\": 20, \"cutoff\": 2}, {\"calitp_itp_id\": 11, \"trip_key\": 4361041855970706728, \"trip_id\": \"t_1544_b_414_tn_0\", \"shape_id\": \"p_1304302\", \"route_id\": \"571\", \"service_hours\": 0.83, \"trip_first_departure_ts\": 29700, \"trip_last_arrival_ts\": 32700, \"departure_hour\": 8, \"time_of_day\": \"AM Peak\", \"p25\": 0.8075, \"p50\": 0.815, \"p75\": 0.8225, \"p50_trip\": 0, \"fastest_trip\": 0, \"car_duration_hours\": 0.62, \"competitive_route\": 1, \"bus_multiplier\": 1.34, \"bus_difference\": 12.6, \"num_trips\": 2, \"num_competitive\": 2, \"pct_trips_competitive\": 1.0, \"bus_difference_spread\": 1.799999999999999, \"route_group\": \"short\", \"max_trip_hrs\": 0.83, \"max_trip_route_group\": 0.83, \"below_cutoff\": 2, \"pct_below_cutoff\": 1.0, \"name\": \"Amador Regional Transit System\", \"caltrans_district\": \"10 - Stockton\", \"drmt_organization_name\": \"['recGiMlqrcpPxScAH']\", \"route_name\": \"Plymouth\", \"cutoff2\": 20, \"cutoff\": 2}]}}, {\"mode\": \"vega-lite\"});\n",
       "</script>"
      ],
      "text/plain": [
       "alt.FacetChart(...)"
      ]
     },
     "metadata": {},
     "output_type": "display_data"
    },
    {
     "data": {
      "text/html": [
       "\n",
       "<div id=\"altair-viz-48a12ecda1904085873f003558cf3523\"></div>\n",
       "<script type=\"text/javascript\">\n",
       "  var VEGA_DEBUG = (typeof VEGA_DEBUG == \"undefined\") ? {} : VEGA_DEBUG;\n",
       "  (function(spec, embedOpt){\n",
       "    let outputDiv = document.currentScript.previousElementSibling;\n",
       "    if (outputDiv.id !== \"altair-viz-48a12ecda1904085873f003558cf3523\") {\n",
       "      outputDiv = document.getElementById(\"altair-viz-48a12ecda1904085873f003558cf3523\");\n",
       "    }\n",
       "    const paths = {\n",
       "      \"vega\": \"https://cdn.jsdelivr.net/npm//vega@5?noext\",\n",
       "      \"vega-lib\": \"https://cdn.jsdelivr.net/npm//vega-lib?noext\",\n",
       "      \"vega-lite\": \"https://cdn.jsdelivr.net/npm//vega-lite@4.17.0?noext\",\n",
       "      \"vega-embed\": \"https://cdn.jsdelivr.net/npm//vega-embed@6?noext\",\n",
       "    };\n",
       "\n",
       "    function maybeLoadScript(lib, version) {\n",
       "      var key = `${lib.replace(\"-\", \"\")}_version`;\n",
       "      return (VEGA_DEBUG[key] == version) ?\n",
       "        Promise.resolve(paths[lib]) :\n",
       "        new Promise(function(resolve, reject) {\n",
       "          var s = document.createElement('script');\n",
       "          document.getElementsByTagName(\"head\")[0].appendChild(s);\n",
       "          s.async = true;\n",
       "          s.onload = () => {\n",
       "            VEGA_DEBUG[key] = version;\n",
       "            return resolve(paths[lib]);\n",
       "          };\n",
       "          s.onerror = () => reject(`Error loading script: ${paths[lib]}`);\n",
       "          s.src = paths[lib];\n",
       "        });\n",
       "    }\n",
       "\n",
       "    function showError(err) {\n",
       "      outputDiv.innerHTML = `<div class=\"error\" style=\"color:red;\">${err}</div>`;\n",
       "      throw err;\n",
       "    }\n",
       "\n",
       "    function displayChart(vegaEmbed) {\n",
       "      vegaEmbed(outputDiv, spec, embedOpt)\n",
       "        .catch(err => showError(`Javascript Error: ${err.message}<br>This usually means there's a typo in your chart specification. See the javascript console for the full traceback.`));\n",
       "    }\n",
       "\n",
       "    if(typeof define === \"function\" && define.amd) {\n",
       "      requirejs.config({paths});\n",
       "      require([\"vega-embed\"], displayChart, err => showError(`Error loading script: ${err.message}`));\n",
       "    } else {\n",
       "      maybeLoadScript(\"vega\", \"5\")\n",
       "        .then(() => maybeLoadScript(\"vega-lite\", \"4.17.0\"))\n",
       "        .then(() => maybeLoadScript(\"vega-embed\", \"6\"))\n",
       "        .catch(showError)\n",
       "        .then(() => displayChart(vegaEmbed));\n",
       "    }\n",
       "  })({\"config\": {\"view\": {\"continuousWidth\": 400, \"continuousHeight\": 300, \"stroke\": null}, \"facet\": {\"spacing\": 0}}, \"data\": {\"name\": \"data-da5b2a4d9d8803df3b5cf4049ecc9aea\"}, \"facet\": {\"column\": {\"field\": \"route_id\", \"sort\": [\"571\"], \"title\": \"Route ID\", \"type\": \"nominal\"}}, \"spec\": {\"layer\": [{\"mark\": \"rule\", \"encoding\": {\"color\": {\"value\": \"black\"}, \"y\": {\"field\": \"cutoff\", \"type\": \"quantitative\"}}, \"selection\": {\"selector002\": {\"type\": \"interval\", \"bind\": \"scales\", \"encodings\": [\"x\", \"y\"]}}}, {\"mark\": {\"type\": \"rule\", \"strokeDash\": [3, 3]}, \"encoding\": {\"color\": {\"value\": \"#323434\"}, \"y\": {\"field\": \"cutoff2\", \"type\": \"quantitative\"}}}, {\"mark\": {\"type\": \"point\", \"opacity\": 0.65, \"size\": 12, \"strokeWidth\": 1.1}, \"encoding\": {\"color\": {\"field\": \"time_of_day\", \"scale\": {\"range\": [\"#136C97\", \"#E16B26\", \"#F6BF16\", \"#00896B\", \"#7790A3\", \"#5B559C\"]}, \"sort\": [\"AM Peak\", \"Midday\", \"PM Peak\", \"Owl Service\"], \"title\": \"Time of Day\", \"type\": \"nominal\"}, \"tooltip\": [{\"field\": \"route_id\", \"type\": \"nominal\"}, {\"field\": \"route_name\", \"type\": \"nominal\"}, {\"field\": \"trip_id\", \"type\": \"nominal\"}, {\"field\": \"service_hours\", \"type\": \"quantitative\"}, {\"field\": \"car_duration_hours\", \"type\": \"quantitative\"}, {\"field\": \"bus_multiplier\", \"type\": \"quantitative\"}, {\"field\": \"bus_difference\", \"type\": \"quantitative\"}, {\"field\": \"num_trips\", \"type\": \"quantitative\"}, {\"field\": \"num_competitive\", \"type\": \"quantitative\"}, {\"field\": \"pct_trips_competitive\", \"type\": \"quantitative\"}, {\"field\": \"p25\", \"type\": \"quantitative\"}, {\"field\": \"p50\", \"type\": \"quantitative\"}, {\"field\": \"p75\", \"type\": \"quantitative\"}], \"x\": {\"axis\": {\"grid\": false, \"labels\": false, \"ticks\": true, \"values\": [0]}, \"field\": \"jitter\", \"scale\": {}, \"title\": null, \"type\": \"quantitative\"}, \"y\": {\"field\": \"bus_difference\", \"scale\": {\"domain\": [-5, 42.6]}, \"title\": \"Difference in Bus to Car Travel Time (min)\", \"type\": \"quantitative\"}}, \"transform\": [{\"calculate\": \"sqrt(-2*log(random()))*cos(2*PI*random())\", \"as\": \"jitter\"}], \"width\": 50}, {\"layer\": [{\"mark\": {\"type\": \"point\", \"opacity\": 0.6, \"size\": 20, \"strokeWidth\": 1.3}, \"encoding\": {\"color\": {\"value\": \"#323434\"}, \"y\": {\"field\": \"bus_difference\", \"type\": \"quantitative\"}}, \"transform\": [{\"filter\": \"(datum.p50_trip === 1)\"}]}, {\"mark\": {\"type\": \"text\", \"align\": \"center\", \"baseline\": \"middle\"}, \"encoding\": {\"color\": {\"value\": \"black\"}, \"text\": {\"field\": \"pct_trips_competitive\", \"format\": \".0%\", \"type\": \"quantitative\"}, \"tooltip\": [{\"field\": \"route_id\", \"type\": \"nominal\"}, {\"field\": \"route_name\", \"type\": \"nominal\"}, {\"field\": \"trip_id\", \"type\": \"nominal\"}, {\"field\": \"service_hours\", \"type\": \"quantitative\"}, {\"field\": \"car_duration_hours\", \"type\": \"quantitative\"}, {\"field\": \"bus_multiplier\", \"type\": \"quantitative\"}, {\"field\": \"bus_difference\", \"type\": \"quantitative\"}, {\"field\": \"num_trips\", \"type\": \"quantitative\"}, {\"field\": \"num_competitive\", \"type\": \"quantitative\"}, {\"field\": \"pct_trips_competitive\", \"type\": \"quantitative\"}, {\"field\": \"p25\", \"type\": \"quantitative\"}, {\"field\": \"p50\", \"type\": \"quantitative\"}, {\"field\": \"p75\", \"type\": \"quantitative\"}], \"x\": {\"value\": 30}, \"y\": {\"value\": 15}}, \"transform\": [{\"calculate\": \"sqrt(-2*log(random()))*cos(2*PI*random())\", \"as\": \"jitter\"}, {\"filter\": \"(datum.fastest_trip === 1)\"}]}]}]}, \"resolve\": {\"scale\": {\"y\": \"shared\"}}, \"title\": \"Difference in Bus to Car Travel Time (min)\", \"$schema\": \"https://vega.github.io/schema/vega-lite/v4.17.0.json\", \"datasets\": {\"data-da5b2a4d9d8803df3b5cf4049ecc9aea\": [{\"calitp_itp_id\": 11, \"trip_key\": -3472073110163871566, \"trip_id\": \"t_27247_b_414_tn_0\", \"shape_id\": \"p_858\", \"route_id\": \"571\", \"service_hours\": 0.8, \"trip_first_departure_ts\": 54600, \"trip_last_arrival_ts\": 57480, \"departure_hour\": 15, \"time_of_day\": \"Midday\", \"p25\": 0.8075, \"p50\": 0.815, \"p75\": 0.8225, \"p50_trip\": 1, \"fastest_trip\": 1, \"car_duration_hours\": 0.62, \"competitive_route\": 1, \"bus_multiplier\": 1.29, \"bus_difference\": 10.8, \"num_trips\": 2, \"num_competitive\": 2, \"pct_trips_competitive\": 1.0, \"bus_difference_spread\": 1.799999999999999, \"route_group\": \"short\", \"max_trip_hrs\": 0.83, \"max_trip_route_group\": 0.83, \"below_cutoff\": 2, \"pct_below_cutoff\": 1.0, \"name\": \"Amador Regional Transit System\", \"caltrans_district\": \"10 - Stockton\", \"drmt_organization_name\": \"['recGiMlqrcpPxScAH']\", \"route_name\": \"Plymouth\", \"cutoff2\": 20, \"cutoff\": 0}, {\"calitp_itp_id\": 11, \"trip_key\": 4361041855970706728, \"trip_id\": \"t_1544_b_414_tn_0\", \"shape_id\": \"p_1304302\", \"route_id\": \"571\", \"service_hours\": 0.83, \"trip_first_departure_ts\": 29700, \"trip_last_arrival_ts\": 32700, \"departure_hour\": 8, \"time_of_day\": \"AM Peak\", \"p25\": 0.8075, \"p50\": 0.815, \"p75\": 0.8225, \"p50_trip\": 0, \"fastest_trip\": 0, \"car_duration_hours\": 0.62, \"competitive_route\": 1, \"bus_multiplier\": 1.34, \"bus_difference\": 12.6, \"num_trips\": 2, \"num_competitive\": 2, \"pct_trips_competitive\": 1.0, \"bus_difference_spread\": 1.799999999999999, \"route_group\": \"short\", \"max_trip_hrs\": 0.83, \"max_trip_route_group\": 0.83, \"below_cutoff\": 2, \"pct_below_cutoff\": 1.0, \"name\": \"Amador Regional Transit System\", \"caltrans_district\": \"10 - Stockton\", \"drmt_organization_name\": \"['recGiMlqrcpPxScAH']\", \"route_name\": \"Plymouth\", \"cutoff2\": 20, \"cutoff\": 0}]}}, {\"mode\": \"vega-lite\"});\n",
       "</script>"
      ],
      "text/plain": [
       "alt.FacetChart(...)"
      ]
     },
     "metadata": {},
     "output_type": "display_data"
    },
    {
     "data": {
      "text/html": [
       "<h4>Route Stats</h4>"
      ],
      "text/plain": [
       "<IPython.core.display.HTML object>"
      ]
     },
     "metadata": {},
     "output_type": "display_data"
    },
    {
     "data": {
      "text/html": [
       "<style type=\"text/css\">\n",
       "#T_7962e th {\n",
       "  text-align: center;\n",
       "}\n",
       "#T_7962e_row0_col0, #T_7962e_row0_col1 {\n",
       "  text-align: left;\n",
       "}\n",
       "#T_7962e_row0_col2, #T_7962e_row0_col3, #T_7962e_row0_col5 {\n",
       "  text-align: center;\n",
       "}\n",
       "</style>\n",
       "<table id=\"T_7962e\">\n",
       "  <thead>\n",
       "    <tr>\n",
       "      <th id=\"T_7962e_level0_col0\" class=\"col_heading level0 col0\" >Route ID</th>\n",
       "      <th id=\"T_7962e_level0_col1\" class=\"col_heading level0 col1\" >Route Name</th>\n",
       "      <th id=\"T_7962e_level0_col2\" class=\"col_heading level0 col2\" ># trips</th>\n",
       "      <th id=\"T_7962e_level0_col3\" class=\"col_heading level0 col3\" >Daily Avg Freq (trips per hr)</th>\n",
       "      <th id=\"T_7962e_level0_col4\" class=\"col_heading level0 col4\" >25th, 50th, 75th ptile (hrs)</th>\n",
       "      <th id=\"T_7962e_level0_col5\" class=\"col_heading level0 col5\" >PM Peak Avg Freq (trips per hr)</th>\n",
       "    </tr>\n",
       "  </thead>\n",
       "  <tbody>\n",
       "    <tr>\n",
       "      <td id=\"T_7962e_row0_col0\" class=\"data row0 col0\" >571</td>\n",
       "      <td id=\"T_7962e_row0_col1\" class=\"data row0 col1\" >Plymouth</td>\n",
       "      <td id=\"T_7962e_row0_col2\" class=\"data row0 col2\" >2</td>\n",
       "      <td id=\"T_7962e_row0_col3\" class=\"data row0 col3\" >0.08</td>\n",
       "      <td id=\"T_7962e_row0_col4\" class=\"data row0 col4\" >0.81, 0.82, 0.82</td>\n",
       "      <td id=\"T_7962e_row0_col5\" class=\"data row0 col5\" >nan</td>\n",
       "    </tr>\n",
       "  </tbody>\n",
       "</table>\n"
      ],
      "text/plain": [
       "<IPython.core.display.HTML object>"
      ]
     },
     "metadata": {},
     "output_type": "display_data"
    }
   ],
   "source": [
    "# Allow for possibility that operator doesn't have routes that fall into certain route_groups\n",
    "# But, jupyterbook will not like markdown with f-string\n",
    "# separate out route_group and put in each cell, and use try/except + if to display...\n",
    "# but all 3 route groups must be displayed. just add sentence about why no routes were returned at the end\n",
    "route_group = \"short\"\n",
    "try:\n",
    "    display_charts_for_route_group(df, route_group)\n",
    "except:\n",
    "    print(\"No routes meet this criteria.\")"
   ]
  },
  {
   "cell_type": "markdown",
   "id": "c2931b6f-034d-4384-9e14-80b925e3b820",
   "metadata": {
    "papermill": {
     "duration": 0.015985,
     "end_time": "2022-05-12T02:39:46.324697",
     "exception": false,
     "start_time": "2022-05-12T02:39:46.308712",
     "status": "completed"
    },
    "tags": []
   },
   "source": [
    "### Medium Routes (1-1.5 hrs)"
   ]
  },
  {
   "cell_type": "code",
   "execution_count": 15,
   "id": "480edddc-4de0-48c2-ae4c-b0ceef8f28b5",
   "metadata": {
    "execution": {
     "iopub.execute_input": "2022-05-12T02:39:46.359094Z",
     "iopub.status.busy": "2022-05-12T02:39:46.358219Z",
     "iopub.status.idle": "2022-05-12T02:39:46.598172Z",
     "shell.execute_reply": "2022-05-12T02:39:46.597427Z"
    },
    "jupyter": {
     "source_hidden": true
    },
    "papermill": {
     "duration": 0.259612,
     "end_time": "2022-05-12T02:39:46.600082",
     "exception": false,
     "start_time": "2022-05-12T02:39:46.340470",
     "status": "completed"
    },
    "tags": [
     "remove_input"
    ]
   },
   "outputs": [
    {
     "data": {
      "text/markdown": [
       "<br>These are routes that have **at least 50% of their trips take no more than an additional 30 min** compared to a car (up to 15 routes) are shown.<br>Within each route group, routes are sorted in descending order by % competitive trips and # trips below the additional time cut-off."
      ],
      "text/plain": [
       "<IPython.core.display.Markdown object>"
      ]
     },
     "metadata": {},
     "output_type": "display_data"
    },
    {
     "data": {
      "text/html": [
       "\n",
       "<div id=\"altair-viz-3c67b0ade1044bfea6e50b1f449b4708\"></div>\n",
       "<script type=\"text/javascript\">\n",
       "  var VEGA_DEBUG = (typeof VEGA_DEBUG == \"undefined\") ? {} : VEGA_DEBUG;\n",
       "  (function(spec, embedOpt){\n",
       "    let outputDiv = document.currentScript.previousElementSibling;\n",
       "    if (outputDiv.id !== \"altair-viz-3c67b0ade1044bfea6e50b1f449b4708\") {\n",
       "      outputDiv = document.getElementById(\"altair-viz-3c67b0ade1044bfea6e50b1f449b4708\");\n",
       "    }\n",
       "    const paths = {\n",
       "      \"vega\": \"https://cdn.jsdelivr.net/npm//vega@5?noext\",\n",
       "      \"vega-lib\": \"https://cdn.jsdelivr.net/npm//vega-lib?noext\",\n",
       "      \"vega-lite\": \"https://cdn.jsdelivr.net/npm//vega-lite@4.17.0?noext\",\n",
       "      \"vega-embed\": \"https://cdn.jsdelivr.net/npm//vega-embed@6?noext\",\n",
       "    };\n",
       "\n",
       "    function maybeLoadScript(lib, version) {\n",
       "      var key = `${lib.replace(\"-\", \"\")}_version`;\n",
       "      return (VEGA_DEBUG[key] == version) ?\n",
       "        Promise.resolve(paths[lib]) :\n",
       "        new Promise(function(resolve, reject) {\n",
       "          var s = document.createElement('script');\n",
       "          document.getElementsByTagName(\"head\")[0].appendChild(s);\n",
       "          s.async = true;\n",
       "          s.onload = () => {\n",
       "            VEGA_DEBUG[key] = version;\n",
       "            return resolve(paths[lib]);\n",
       "          };\n",
       "          s.onerror = () => reject(`Error loading script: ${paths[lib]}`);\n",
       "          s.src = paths[lib];\n",
       "        });\n",
       "    }\n",
       "\n",
       "    function showError(err) {\n",
       "      outputDiv.innerHTML = `<div class=\"error\" style=\"color:red;\">${err}</div>`;\n",
       "      throw err;\n",
       "    }\n",
       "\n",
       "    function displayChart(vegaEmbed) {\n",
       "      vegaEmbed(outputDiv, spec, embedOpt)\n",
       "        .catch(err => showError(`Javascript Error: ${err.message}<br>This usually means there's a typo in your chart specification. See the javascript console for the full traceback.`));\n",
       "    }\n",
       "\n",
       "    if(typeof define === \"function\" && define.amd) {\n",
       "      requirejs.config({paths});\n",
       "      require([\"vega-embed\"], displayChart, err => showError(`Error loading script: ${err.message}`));\n",
       "    } else {\n",
       "      maybeLoadScript(\"vega\", \"5\")\n",
       "        .then(() => maybeLoadScript(\"vega-lite\", \"4.17.0\"))\n",
       "        .then(() => maybeLoadScript(\"vega-embed\", \"6\"))\n",
       "        .catch(showError)\n",
       "        .then(() => displayChart(vegaEmbed));\n",
       "    }\n",
       "  })({\"config\": {\"view\": {\"continuousWidth\": 400, \"continuousHeight\": 300, \"stroke\": null}, \"facet\": {\"spacing\": 0}}, \"data\": {\"name\": \"data-a38ca362b2503a0be2d05dd86f98e643\"}, \"facet\": {\"column\": {\"field\": \"route_id\", \"sort\": [\"570\"], \"title\": \"Route ID\", \"type\": \"nominal\"}}, \"spec\": {\"layer\": [{\"mark\": \"rule\", \"encoding\": {\"color\": {\"value\": \"black\"}, \"y\": {\"field\": \"cutoff\", \"type\": \"quantitative\"}}, \"selection\": {\"selector003\": {\"type\": \"interval\", \"bind\": \"scales\", \"encodings\": [\"x\", \"y\"]}}}, {\"mark\": {\"type\": \"point\", \"opacity\": 0.65, \"size\": 12, \"strokeWidth\": 1.1}, \"encoding\": {\"color\": {\"field\": \"time_of_day\", \"scale\": {\"range\": [\"#136C97\", \"#E16B26\", \"#F6BF16\", \"#00896B\", \"#7790A3\", \"#5B559C\"]}, \"sort\": [\"AM Peak\", \"Midday\", \"PM Peak\", \"Owl Service\"], \"title\": \"Time of Day\", \"type\": \"nominal\"}, \"tooltip\": [{\"field\": \"route_id\", \"type\": \"nominal\"}, {\"field\": \"route_name\", \"type\": \"nominal\"}, {\"field\": \"trip_id\", \"type\": \"nominal\"}, {\"field\": \"service_hours\", \"type\": \"quantitative\"}, {\"field\": \"car_duration_hours\", \"type\": \"quantitative\"}, {\"field\": \"bus_multiplier\", \"type\": \"quantitative\"}, {\"field\": \"bus_difference\", \"type\": \"quantitative\"}, {\"field\": \"num_trips\", \"type\": \"quantitative\"}, {\"field\": \"num_competitive\", \"type\": \"quantitative\"}, {\"field\": \"pct_trips_competitive\", \"type\": \"quantitative\"}, {\"field\": \"p25\", \"type\": \"quantitative\"}, {\"field\": \"p50\", \"type\": \"quantitative\"}, {\"field\": \"p75\", \"type\": \"quantitative\"}], \"x\": {\"axis\": {\"grid\": false, \"labels\": false, \"ticks\": true, \"values\": [0]}, \"field\": \"jitter\", \"scale\": {}, \"title\": null, \"type\": \"quantitative\"}, \"y\": {\"field\": \"bus_multiplier\", \"scale\": {\"domain\": [-0.25, 3.0]}, \"title\": \"Ratio of Bus to Car Travel Time\", \"type\": \"quantitative\"}}, \"transform\": [{\"calculate\": \"sqrt(-2*log(random()))*cos(2*PI*random())\", \"as\": \"jitter\"}], \"width\": 50}, {\"layer\": [{\"mark\": {\"type\": \"point\", \"opacity\": 0.6, \"size\": 20, \"strokeWidth\": 1.3}, \"encoding\": {\"color\": {\"value\": \"#323434\"}, \"y\": {\"field\": \"bus_multiplier\", \"type\": \"quantitative\"}}, \"transform\": [{\"filter\": \"(datum.p50_trip === 1)\"}]}, {\"mark\": {\"type\": \"text\", \"align\": \"center\", \"baseline\": \"middle\"}, \"encoding\": {\"color\": {\"value\": \"black\"}, \"text\": {\"field\": \"pct_trips_competitive\", \"format\": \".0%\", \"type\": \"quantitative\"}, \"tooltip\": [{\"field\": \"route_id\", \"type\": \"nominal\"}, {\"field\": \"route_name\", \"type\": \"nominal\"}, {\"field\": \"trip_id\", \"type\": \"nominal\"}, {\"field\": \"service_hours\", \"type\": \"quantitative\"}, {\"field\": \"car_duration_hours\", \"type\": \"quantitative\"}, {\"field\": \"bus_multiplier\", \"type\": \"quantitative\"}, {\"field\": \"bus_difference\", \"type\": \"quantitative\"}, {\"field\": \"num_trips\", \"type\": \"quantitative\"}, {\"field\": \"num_competitive\", \"type\": \"quantitative\"}, {\"field\": \"pct_trips_competitive\", \"type\": \"quantitative\"}, {\"field\": \"p25\", \"type\": \"quantitative\"}, {\"field\": \"p50\", \"type\": \"quantitative\"}, {\"field\": \"p75\", \"type\": \"quantitative\"}], \"x\": {\"value\": 30}, \"y\": {\"value\": 15}}, \"transform\": [{\"calculate\": \"sqrt(-2*log(random()))*cos(2*PI*random())\", \"as\": \"jitter\"}, {\"filter\": \"(datum.fastest_trip === 1)\"}]}]}]}, \"resolve\": {\"scale\": {\"y\": \"shared\"}}, \"title\": \"Ratio of Bus to Car Travel Time\", \"$schema\": \"https://vega.github.io/schema/vega-lite/v4.17.0.json\", \"datasets\": {\"data-a38ca362b2503a0be2d05dd86f98e643\": [{\"calitp_itp_id\": 11, \"trip_key\": -166603345440738692, \"trip_id\": \"t_1235349_b_414_tn_0\", \"shape_id\": \"p_900627\", \"route_id\": \"570\", \"service_hours\": 0.67, \"trip_first_departure_ts\": 20700, \"trip_last_arrival_ts\": 23100, \"departure_hour\": 5, \"time_of_day\": \"Owl Service\", \"p25\": 0.91, \"p50\": 1.0, \"p75\": 1.0125, \"p50_trip\": 0, \"fastest_trip\": 1, \"car_duration_hours\": 0.59, \"competitive_route\": 1, \"bus_multiplier\": 1.14, \"bus_difference\": 4.8, \"num_trips\": 8, \"num_competitive\": 8, \"pct_trips_competitive\": 1.0, \"bus_difference_spread\": 25.8, \"route_group\": \"medium\", \"max_trip_hrs\": 1.1, \"max_trip_route_group\": 1.1, \"below_cutoff\": 7, \"pct_below_cutoff\": 0.875, \"name\": \"Amador Regional Transit System\", \"caltrans_district\": \"10 - Stockton\", \"drmt_organization_name\": \"['recGiMlqrcpPxScAH']\", \"route_name\": \"Upcountry\", \"cutoff2\": 30, \"cutoff\": 2}, {\"calitp_itp_id\": 11, \"trip_key\": -4162627453190228698, \"trip_id\": \"t_1235356_b_414_tn_0\", \"shape_id\": \"p_864\", \"route_id\": \"570\", \"service_hours\": 0.85, \"trip_first_departure_ts\": 63480, \"trip_last_arrival_ts\": 66540, \"departure_hour\": 17, \"time_of_day\": \"PM Peak\", \"p25\": 0.91, \"p50\": 1.0, \"p75\": 1.0125, \"p50_trip\": 0, \"fastest_trip\": 0, \"car_duration_hours\": 0.59, \"competitive_route\": 1, \"bus_multiplier\": 1.44, \"bus_difference\": 15.6, \"num_trips\": 8, \"num_competitive\": 8, \"pct_trips_competitive\": 1.0, \"bus_difference_spread\": 25.8, \"route_group\": \"medium\", \"max_trip_hrs\": 1.1, \"max_trip_route_group\": 1.1, \"below_cutoff\": 7, \"pct_below_cutoff\": 0.875, \"name\": \"Amador Regional Transit System\", \"caltrans_district\": \"10 - Stockton\", \"drmt_organization_name\": \"['recGiMlqrcpPxScAH']\", \"route_name\": \"Upcountry\", \"cutoff2\": 30, \"cutoff\": 2}, {\"calitp_itp_id\": 11, \"trip_key\": 1587477281743624360, \"trip_id\": \"t_1235350_b_414_tn_0\", \"shape_id\": \"p_850\", \"route_id\": \"570\", \"service_hours\": 0.93, \"trip_first_departure_ts\": 27000, \"trip_last_arrival_ts\": 30360, \"departure_hour\": 7, \"time_of_day\": \"AM Peak\", \"p25\": 0.91, \"p50\": 1.0, \"p75\": 1.0125, \"p50_trip\": 0, \"fastest_trip\": 0, \"car_duration_hours\": 0.59, \"competitive_route\": 1, \"bus_multiplier\": 1.58, \"bus_difference\": 20.4, \"num_trips\": 8, \"num_competitive\": 8, \"pct_trips_competitive\": 1.0, \"bus_difference_spread\": 25.8, \"route_group\": \"medium\", \"max_trip_hrs\": 1.1, \"max_trip_route_group\": 1.1, \"below_cutoff\": 7, \"pct_below_cutoff\": 0.875, \"name\": \"Amador Regional Transit System\", \"caltrans_district\": \"10 - Stockton\", \"drmt_organization_name\": \"['recGiMlqrcpPxScAH']\", \"route_name\": \"Upcountry\", \"cutoff2\": 30, \"cutoff\": 2}, {\"calitp_itp_id\": 11, \"trip_key\": 2168053819301931957, \"trip_id\": \"t_1235354_b_414_tn_0\", \"shape_id\": \"p_866\", \"route_id\": \"570\", \"service_hours\": 1.0, \"trip_first_departure_ts\": 30480, \"trip_last_arrival_ts\": 34080, \"departure_hour\": 8, \"time_of_day\": \"AM Peak\", \"p25\": 0.91, \"p50\": 1.0, \"p75\": 1.0125, \"p50_trip\": 1, \"fastest_trip\": 0, \"car_duration_hours\": 0.59, \"competitive_route\": 1, \"bus_multiplier\": 1.69, \"bus_difference\": 24.6, \"num_trips\": 8, \"num_competitive\": 8, \"pct_trips_competitive\": 1.0, \"bus_difference_spread\": 25.8, \"route_group\": \"medium\", \"max_trip_hrs\": 1.1, \"max_trip_route_group\": 1.1, \"below_cutoff\": 7, \"pct_below_cutoff\": 0.875, \"name\": \"Amador Regional Transit System\", \"caltrans_district\": \"10 - Stockton\", \"drmt_organization_name\": \"['recGiMlqrcpPxScAH']\", \"route_name\": \"Upcountry\", \"cutoff2\": 30, \"cutoff\": 2}, {\"calitp_itp_id\": 11, \"trip_key\": 6577890086136531193, \"trip_id\": \"t_1235351_b_414_tn_0\", \"shape_id\": \"p_850\", \"route_id\": \"570\", \"service_hours\": 1.0, \"trip_first_departure_ts\": 43200, \"trip_last_arrival_ts\": 46800, \"departure_hour\": 12, \"time_of_day\": \"Midday\", \"p25\": 0.91, \"p50\": 1.0, \"p75\": 1.0125, \"p50_trip\": 1, \"fastest_trip\": 0, \"car_duration_hours\": 0.59, \"competitive_route\": 1, \"bus_multiplier\": 1.69, \"bus_difference\": 24.6, \"num_trips\": 8, \"num_competitive\": 8, \"pct_trips_competitive\": 1.0, \"bus_difference_spread\": 25.8, \"route_group\": \"medium\", \"max_trip_hrs\": 1.1, \"max_trip_route_group\": 1.1, \"below_cutoff\": 7, \"pct_below_cutoff\": 0.875, \"name\": \"Amador Regional Transit System\", \"caltrans_district\": \"10 - Stockton\", \"drmt_organization_name\": \"['recGiMlqrcpPxScAH']\", \"route_name\": \"Upcountry\", \"cutoff2\": 30, \"cutoff\": 2}, {\"calitp_itp_id\": 11, \"trip_key\": -8248405168340255919, \"trip_id\": \"t_1235355_b_414_tn_0\", \"shape_id\": \"p_866\", \"route_id\": \"570\", \"service_hours\": 1.0, \"trip_first_departure_ts\": 46920, \"trip_last_arrival_ts\": 50520, \"departure_hour\": 13, \"time_of_day\": \"Midday\", \"p25\": 0.91, \"p50\": 1.0, \"p75\": 1.0125, \"p50_trip\": 1, \"fastest_trip\": 0, \"car_duration_hours\": 0.59, \"competitive_route\": 1, \"bus_multiplier\": 1.69, \"bus_difference\": 24.6, \"num_trips\": 8, \"num_competitive\": 8, \"pct_trips_competitive\": 1.0, \"bus_difference_spread\": 25.8, \"route_group\": \"medium\", \"max_trip_hrs\": 1.1, \"max_trip_route_group\": 1.1, \"below_cutoff\": 7, \"pct_below_cutoff\": 0.875, \"name\": \"Amador Regional Transit System\", \"caltrans_district\": \"10 - Stockton\", \"drmt_organization_name\": \"['recGiMlqrcpPxScAH']\", \"route_name\": \"Upcountry\", \"cutoff2\": 30, \"cutoff\": 2}, {\"calitp_itp_id\": 11, \"trip_key\": -228461201543392837, \"trip_id\": \"t_1235353_b_414_tn_0\", \"shape_id\": \"p_865\", \"route_id\": \"570\", \"service_hours\": 1.05, \"trip_first_departure_ts\": 23220, \"trip_last_arrival_ts\": 27000, \"departure_hour\": 6, \"time_of_day\": \"Owl Service\", \"p25\": 0.91, \"p50\": 1.0, \"p75\": 1.0125, \"p50_trip\": 0, \"fastest_trip\": 0, \"car_duration_hours\": 0.59, \"competitive_route\": 1, \"bus_multiplier\": 1.78, \"bus_difference\": 27.6, \"num_trips\": 8, \"num_competitive\": 8, \"pct_trips_competitive\": 1.0, \"bus_difference_spread\": 25.8, \"route_group\": \"medium\", \"max_trip_hrs\": 1.1, \"max_trip_route_group\": 1.1, \"below_cutoff\": 7, \"pct_below_cutoff\": 0.875, \"name\": \"Amador Regional Transit System\", \"caltrans_district\": \"10 - Stockton\", \"drmt_organization_name\": \"['recGiMlqrcpPxScAH']\", \"route_name\": \"Upcountry\", \"cutoff2\": 30, \"cutoff\": 2}, {\"calitp_itp_id\": 11, \"trip_key\": -5585287787072383338, \"trip_id\": \"t_1235352_b_414_tn_0\", \"shape_id\": \"p_849\", \"route_id\": \"570\", \"service_hours\": 1.1, \"trip_first_departure_ts\": 59400, \"trip_last_arrival_ts\": 63360, \"departure_hour\": 16, \"time_of_day\": \"Midday\", \"p25\": 0.91, \"p50\": 1.0, \"p75\": 1.0125, \"p50_trip\": 0, \"fastest_trip\": 0, \"car_duration_hours\": 0.59, \"competitive_route\": 1, \"bus_multiplier\": 1.86, \"bus_difference\": 30.6, \"num_trips\": 8, \"num_competitive\": 8, \"pct_trips_competitive\": 1.0, \"bus_difference_spread\": 25.8, \"route_group\": \"medium\", \"max_trip_hrs\": 1.1, \"max_trip_route_group\": 1.1, \"below_cutoff\": 7, \"pct_below_cutoff\": 0.875, \"name\": \"Amador Regional Transit System\", \"caltrans_district\": \"10 - Stockton\", \"drmt_organization_name\": \"['recGiMlqrcpPxScAH']\", \"route_name\": \"Upcountry\", \"cutoff2\": 30, \"cutoff\": 2}]}}, {\"mode\": \"vega-lite\"});\n",
       "</script>"
      ],
      "text/plain": [
       "alt.FacetChart(...)"
      ]
     },
     "metadata": {},
     "output_type": "display_data"
    },
    {
     "data": {
      "text/html": [
       "\n",
       "<div id=\"altair-viz-4338c9473cfb48478b4813e084327868\"></div>\n",
       "<script type=\"text/javascript\">\n",
       "  var VEGA_DEBUG = (typeof VEGA_DEBUG == \"undefined\") ? {} : VEGA_DEBUG;\n",
       "  (function(spec, embedOpt){\n",
       "    let outputDiv = document.currentScript.previousElementSibling;\n",
       "    if (outputDiv.id !== \"altair-viz-4338c9473cfb48478b4813e084327868\") {\n",
       "      outputDiv = document.getElementById(\"altair-viz-4338c9473cfb48478b4813e084327868\");\n",
       "    }\n",
       "    const paths = {\n",
       "      \"vega\": \"https://cdn.jsdelivr.net/npm//vega@5?noext\",\n",
       "      \"vega-lib\": \"https://cdn.jsdelivr.net/npm//vega-lib?noext\",\n",
       "      \"vega-lite\": \"https://cdn.jsdelivr.net/npm//vega-lite@4.17.0?noext\",\n",
       "      \"vega-embed\": \"https://cdn.jsdelivr.net/npm//vega-embed@6?noext\",\n",
       "    };\n",
       "\n",
       "    function maybeLoadScript(lib, version) {\n",
       "      var key = `${lib.replace(\"-\", \"\")}_version`;\n",
       "      return (VEGA_DEBUG[key] == version) ?\n",
       "        Promise.resolve(paths[lib]) :\n",
       "        new Promise(function(resolve, reject) {\n",
       "          var s = document.createElement('script');\n",
       "          document.getElementsByTagName(\"head\")[0].appendChild(s);\n",
       "          s.async = true;\n",
       "          s.onload = () => {\n",
       "            VEGA_DEBUG[key] = version;\n",
       "            return resolve(paths[lib]);\n",
       "          };\n",
       "          s.onerror = () => reject(`Error loading script: ${paths[lib]}`);\n",
       "          s.src = paths[lib];\n",
       "        });\n",
       "    }\n",
       "\n",
       "    function showError(err) {\n",
       "      outputDiv.innerHTML = `<div class=\"error\" style=\"color:red;\">${err}</div>`;\n",
       "      throw err;\n",
       "    }\n",
       "\n",
       "    function displayChart(vegaEmbed) {\n",
       "      vegaEmbed(outputDiv, spec, embedOpt)\n",
       "        .catch(err => showError(`Javascript Error: ${err.message}<br>This usually means there's a typo in your chart specification. See the javascript console for the full traceback.`));\n",
       "    }\n",
       "\n",
       "    if(typeof define === \"function\" && define.amd) {\n",
       "      requirejs.config({paths});\n",
       "      require([\"vega-embed\"], displayChart, err => showError(`Error loading script: ${err.message}`));\n",
       "    } else {\n",
       "      maybeLoadScript(\"vega\", \"5\")\n",
       "        .then(() => maybeLoadScript(\"vega-lite\", \"4.17.0\"))\n",
       "        .then(() => maybeLoadScript(\"vega-embed\", \"6\"))\n",
       "        .catch(showError)\n",
       "        .then(() => displayChart(vegaEmbed));\n",
       "    }\n",
       "  })({\"config\": {\"view\": {\"continuousWidth\": 400, \"continuousHeight\": 300, \"stroke\": null}, \"facet\": {\"spacing\": 0}}, \"data\": {\"name\": \"data-2ca220ebdcb708eeb501597615f914ee\"}, \"facet\": {\"column\": {\"field\": \"route_id\", \"sort\": [\"570\"], \"title\": \"Route ID\", \"type\": \"nominal\"}}, \"spec\": {\"layer\": [{\"mark\": \"rule\", \"encoding\": {\"color\": {\"value\": \"black\"}, \"y\": {\"field\": \"cutoff\", \"type\": \"quantitative\"}}, \"selection\": {\"selector004\": {\"type\": \"interval\", \"bind\": \"scales\", \"encodings\": [\"x\", \"y\"]}}}, {\"mark\": {\"type\": \"rule\", \"strokeDash\": [3, 3]}, \"encoding\": {\"color\": {\"value\": \"#323434\"}, \"y\": {\"field\": \"cutoff2\", \"type\": \"quantitative\"}}}, {\"mark\": {\"type\": \"point\", \"opacity\": 0.65, \"size\": 12, \"strokeWidth\": 1.1}, \"encoding\": {\"color\": {\"field\": \"time_of_day\", \"scale\": {\"range\": [\"#136C97\", \"#E16B26\", \"#F6BF16\", \"#00896B\", \"#7790A3\", \"#5B559C\"]}, \"sort\": [\"AM Peak\", \"Midday\", \"PM Peak\", \"Owl Service\"], \"title\": \"Time of Day\", \"type\": \"nominal\"}, \"tooltip\": [{\"field\": \"route_id\", \"type\": \"nominal\"}, {\"field\": \"route_name\", \"type\": \"nominal\"}, {\"field\": \"trip_id\", \"type\": \"nominal\"}, {\"field\": \"service_hours\", \"type\": \"quantitative\"}, {\"field\": \"car_duration_hours\", \"type\": \"quantitative\"}, {\"field\": \"bus_multiplier\", \"type\": \"quantitative\"}, {\"field\": \"bus_difference\", \"type\": \"quantitative\"}, {\"field\": \"num_trips\", \"type\": \"quantitative\"}, {\"field\": \"num_competitive\", \"type\": \"quantitative\"}, {\"field\": \"pct_trips_competitive\", \"type\": \"quantitative\"}, {\"field\": \"p25\", \"type\": \"quantitative\"}, {\"field\": \"p50\", \"type\": \"quantitative\"}, {\"field\": \"p75\", \"type\": \"quantitative\"}], \"x\": {\"axis\": {\"grid\": false, \"labels\": false, \"ticks\": true, \"values\": [0]}, \"field\": \"jitter\", \"scale\": {}, \"title\": null, \"type\": \"quantitative\"}, \"y\": {\"field\": \"bus_difference\", \"scale\": {\"domain\": [-5, 42.6]}, \"title\": \"Difference in Bus to Car Travel Time (min)\", \"type\": \"quantitative\"}}, \"transform\": [{\"calculate\": \"sqrt(-2*log(random()))*cos(2*PI*random())\", \"as\": \"jitter\"}], \"width\": 50}, {\"layer\": [{\"mark\": {\"type\": \"point\", \"opacity\": 0.6, \"size\": 20, \"strokeWidth\": 1.3}, \"encoding\": {\"color\": {\"value\": \"#323434\"}, \"y\": {\"field\": \"bus_difference\", \"type\": \"quantitative\"}}, \"transform\": [{\"filter\": \"(datum.p50_trip === 1)\"}]}, {\"mark\": {\"type\": \"text\", \"align\": \"center\", \"baseline\": \"middle\"}, \"encoding\": {\"color\": {\"value\": \"black\"}, \"text\": {\"field\": \"pct_trips_competitive\", \"format\": \".0%\", \"type\": \"quantitative\"}, \"tooltip\": [{\"field\": \"route_id\", \"type\": \"nominal\"}, {\"field\": \"route_name\", \"type\": \"nominal\"}, {\"field\": \"trip_id\", \"type\": \"nominal\"}, {\"field\": \"service_hours\", \"type\": \"quantitative\"}, {\"field\": \"car_duration_hours\", \"type\": \"quantitative\"}, {\"field\": \"bus_multiplier\", \"type\": \"quantitative\"}, {\"field\": \"bus_difference\", \"type\": \"quantitative\"}, {\"field\": \"num_trips\", \"type\": \"quantitative\"}, {\"field\": \"num_competitive\", \"type\": \"quantitative\"}, {\"field\": \"pct_trips_competitive\", \"type\": \"quantitative\"}, {\"field\": \"p25\", \"type\": \"quantitative\"}, {\"field\": \"p50\", \"type\": \"quantitative\"}, {\"field\": \"p75\", \"type\": \"quantitative\"}], \"x\": {\"value\": 30}, \"y\": {\"value\": 15}}, \"transform\": [{\"calculate\": \"sqrt(-2*log(random()))*cos(2*PI*random())\", \"as\": \"jitter\"}, {\"filter\": \"(datum.fastest_trip === 1)\"}]}]}]}, \"resolve\": {\"scale\": {\"y\": \"shared\"}}, \"title\": \"Difference in Bus to Car Travel Time (min)\", \"$schema\": \"https://vega.github.io/schema/vega-lite/v4.17.0.json\", \"datasets\": {\"data-2ca220ebdcb708eeb501597615f914ee\": [{\"calitp_itp_id\": 11, \"trip_key\": -166603345440738692, \"trip_id\": \"t_1235349_b_414_tn_0\", \"shape_id\": \"p_900627\", \"route_id\": \"570\", \"service_hours\": 0.67, \"trip_first_departure_ts\": 20700, \"trip_last_arrival_ts\": 23100, \"departure_hour\": 5, \"time_of_day\": \"Owl Service\", \"p25\": 0.91, \"p50\": 1.0, \"p75\": 1.0125, \"p50_trip\": 0, \"fastest_trip\": 1, \"car_duration_hours\": 0.59, \"competitive_route\": 1, \"bus_multiplier\": 1.14, \"bus_difference\": 4.8, \"num_trips\": 8, \"num_competitive\": 8, \"pct_trips_competitive\": 1.0, \"bus_difference_spread\": 25.8, \"route_group\": \"medium\", \"max_trip_hrs\": 1.1, \"max_trip_route_group\": 1.1, \"below_cutoff\": 7, \"pct_below_cutoff\": 0.875, \"name\": \"Amador Regional Transit System\", \"caltrans_district\": \"10 - Stockton\", \"drmt_organization_name\": \"['recGiMlqrcpPxScAH']\", \"route_name\": \"Upcountry\", \"cutoff2\": 30, \"cutoff\": 0}, {\"calitp_itp_id\": 11, \"trip_key\": -4162627453190228698, \"trip_id\": \"t_1235356_b_414_tn_0\", \"shape_id\": \"p_864\", \"route_id\": \"570\", \"service_hours\": 0.85, \"trip_first_departure_ts\": 63480, \"trip_last_arrival_ts\": 66540, \"departure_hour\": 17, \"time_of_day\": \"PM Peak\", \"p25\": 0.91, \"p50\": 1.0, \"p75\": 1.0125, \"p50_trip\": 0, \"fastest_trip\": 0, \"car_duration_hours\": 0.59, \"competitive_route\": 1, \"bus_multiplier\": 1.44, \"bus_difference\": 15.6, \"num_trips\": 8, \"num_competitive\": 8, \"pct_trips_competitive\": 1.0, \"bus_difference_spread\": 25.8, \"route_group\": \"medium\", \"max_trip_hrs\": 1.1, \"max_trip_route_group\": 1.1, \"below_cutoff\": 7, \"pct_below_cutoff\": 0.875, \"name\": \"Amador Regional Transit System\", \"caltrans_district\": \"10 - Stockton\", \"drmt_organization_name\": \"['recGiMlqrcpPxScAH']\", \"route_name\": \"Upcountry\", \"cutoff2\": 30, \"cutoff\": 0}, {\"calitp_itp_id\": 11, \"trip_key\": 1587477281743624360, \"trip_id\": \"t_1235350_b_414_tn_0\", \"shape_id\": \"p_850\", \"route_id\": \"570\", \"service_hours\": 0.93, \"trip_first_departure_ts\": 27000, \"trip_last_arrival_ts\": 30360, \"departure_hour\": 7, \"time_of_day\": \"AM Peak\", \"p25\": 0.91, \"p50\": 1.0, \"p75\": 1.0125, \"p50_trip\": 0, \"fastest_trip\": 0, \"car_duration_hours\": 0.59, \"competitive_route\": 1, \"bus_multiplier\": 1.58, \"bus_difference\": 20.4, \"num_trips\": 8, \"num_competitive\": 8, \"pct_trips_competitive\": 1.0, \"bus_difference_spread\": 25.8, \"route_group\": \"medium\", \"max_trip_hrs\": 1.1, \"max_trip_route_group\": 1.1, \"below_cutoff\": 7, \"pct_below_cutoff\": 0.875, \"name\": \"Amador Regional Transit System\", \"caltrans_district\": \"10 - Stockton\", \"drmt_organization_name\": \"['recGiMlqrcpPxScAH']\", \"route_name\": \"Upcountry\", \"cutoff2\": 30, \"cutoff\": 0}, {\"calitp_itp_id\": 11, \"trip_key\": 2168053819301931957, \"trip_id\": \"t_1235354_b_414_tn_0\", \"shape_id\": \"p_866\", \"route_id\": \"570\", \"service_hours\": 1.0, \"trip_first_departure_ts\": 30480, \"trip_last_arrival_ts\": 34080, \"departure_hour\": 8, \"time_of_day\": \"AM Peak\", \"p25\": 0.91, \"p50\": 1.0, \"p75\": 1.0125, \"p50_trip\": 1, \"fastest_trip\": 0, \"car_duration_hours\": 0.59, \"competitive_route\": 1, \"bus_multiplier\": 1.69, \"bus_difference\": 24.6, \"num_trips\": 8, \"num_competitive\": 8, \"pct_trips_competitive\": 1.0, \"bus_difference_spread\": 25.8, \"route_group\": \"medium\", \"max_trip_hrs\": 1.1, \"max_trip_route_group\": 1.1, \"below_cutoff\": 7, \"pct_below_cutoff\": 0.875, \"name\": \"Amador Regional Transit System\", \"caltrans_district\": \"10 - Stockton\", \"drmt_organization_name\": \"['recGiMlqrcpPxScAH']\", \"route_name\": \"Upcountry\", \"cutoff2\": 30, \"cutoff\": 0}, {\"calitp_itp_id\": 11, \"trip_key\": 6577890086136531193, \"trip_id\": \"t_1235351_b_414_tn_0\", \"shape_id\": \"p_850\", \"route_id\": \"570\", \"service_hours\": 1.0, \"trip_first_departure_ts\": 43200, \"trip_last_arrival_ts\": 46800, \"departure_hour\": 12, \"time_of_day\": \"Midday\", \"p25\": 0.91, \"p50\": 1.0, \"p75\": 1.0125, \"p50_trip\": 1, \"fastest_trip\": 0, \"car_duration_hours\": 0.59, \"competitive_route\": 1, \"bus_multiplier\": 1.69, \"bus_difference\": 24.6, \"num_trips\": 8, \"num_competitive\": 8, \"pct_trips_competitive\": 1.0, \"bus_difference_spread\": 25.8, \"route_group\": \"medium\", \"max_trip_hrs\": 1.1, \"max_trip_route_group\": 1.1, \"below_cutoff\": 7, \"pct_below_cutoff\": 0.875, \"name\": \"Amador Regional Transit System\", \"caltrans_district\": \"10 - Stockton\", \"drmt_organization_name\": \"['recGiMlqrcpPxScAH']\", \"route_name\": \"Upcountry\", \"cutoff2\": 30, \"cutoff\": 0}, {\"calitp_itp_id\": 11, \"trip_key\": -8248405168340255919, \"trip_id\": \"t_1235355_b_414_tn_0\", \"shape_id\": \"p_866\", \"route_id\": \"570\", \"service_hours\": 1.0, \"trip_first_departure_ts\": 46920, \"trip_last_arrival_ts\": 50520, \"departure_hour\": 13, \"time_of_day\": \"Midday\", \"p25\": 0.91, \"p50\": 1.0, \"p75\": 1.0125, \"p50_trip\": 1, \"fastest_trip\": 0, \"car_duration_hours\": 0.59, \"competitive_route\": 1, \"bus_multiplier\": 1.69, \"bus_difference\": 24.6, \"num_trips\": 8, \"num_competitive\": 8, \"pct_trips_competitive\": 1.0, \"bus_difference_spread\": 25.8, \"route_group\": \"medium\", \"max_trip_hrs\": 1.1, \"max_trip_route_group\": 1.1, \"below_cutoff\": 7, \"pct_below_cutoff\": 0.875, \"name\": \"Amador Regional Transit System\", \"caltrans_district\": \"10 - Stockton\", \"drmt_organization_name\": \"['recGiMlqrcpPxScAH']\", \"route_name\": \"Upcountry\", \"cutoff2\": 30, \"cutoff\": 0}, {\"calitp_itp_id\": 11, \"trip_key\": -228461201543392837, \"trip_id\": \"t_1235353_b_414_tn_0\", \"shape_id\": \"p_865\", \"route_id\": \"570\", \"service_hours\": 1.05, \"trip_first_departure_ts\": 23220, \"trip_last_arrival_ts\": 27000, \"departure_hour\": 6, \"time_of_day\": \"Owl Service\", \"p25\": 0.91, \"p50\": 1.0, \"p75\": 1.0125, \"p50_trip\": 0, \"fastest_trip\": 0, \"car_duration_hours\": 0.59, \"competitive_route\": 1, \"bus_multiplier\": 1.78, \"bus_difference\": 27.6, \"num_trips\": 8, \"num_competitive\": 8, \"pct_trips_competitive\": 1.0, \"bus_difference_spread\": 25.8, \"route_group\": \"medium\", \"max_trip_hrs\": 1.1, \"max_trip_route_group\": 1.1, \"below_cutoff\": 7, \"pct_below_cutoff\": 0.875, \"name\": \"Amador Regional Transit System\", \"caltrans_district\": \"10 - Stockton\", \"drmt_organization_name\": \"['recGiMlqrcpPxScAH']\", \"route_name\": \"Upcountry\", \"cutoff2\": 30, \"cutoff\": 0}, {\"calitp_itp_id\": 11, \"trip_key\": -5585287787072383338, \"trip_id\": \"t_1235352_b_414_tn_0\", \"shape_id\": \"p_849\", \"route_id\": \"570\", \"service_hours\": 1.1, \"trip_first_departure_ts\": 59400, \"trip_last_arrival_ts\": 63360, \"departure_hour\": 16, \"time_of_day\": \"Midday\", \"p25\": 0.91, \"p50\": 1.0, \"p75\": 1.0125, \"p50_trip\": 0, \"fastest_trip\": 0, \"car_duration_hours\": 0.59, \"competitive_route\": 1, \"bus_multiplier\": 1.86, \"bus_difference\": 30.6, \"num_trips\": 8, \"num_competitive\": 8, \"pct_trips_competitive\": 1.0, \"bus_difference_spread\": 25.8, \"route_group\": \"medium\", \"max_trip_hrs\": 1.1, \"max_trip_route_group\": 1.1, \"below_cutoff\": 7, \"pct_below_cutoff\": 0.875, \"name\": \"Amador Regional Transit System\", \"caltrans_district\": \"10 - Stockton\", \"drmt_organization_name\": \"['recGiMlqrcpPxScAH']\", \"route_name\": \"Upcountry\", \"cutoff2\": 30, \"cutoff\": 0}]}}, {\"mode\": \"vega-lite\"});\n",
       "</script>"
      ],
      "text/plain": [
       "alt.FacetChart(...)"
      ]
     },
     "metadata": {},
     "output_type": "display_data"
    },
    {
     "data": {
      "text/html": [
       "<h4>Route Stats</h4>"
      ],
      "text/plain": [
       "<IPython.core.display.HTML object>"
      ]
     },
     "metadata": {},
     "output_type": "display_data"
    },
    {
     "data": {
      "text/html": [
       "<style type=\"text/css\">\n",
       "#T_a6318 th {\n",
       "  text-align: center;\n",
       "}\n",
       "#T_a6318_row0_col0, #T_a6318_row0_col1 {\n",
       "  text-align: left;\n",
       "}\n",
       "#T_a6318_row0_col2, #T_a6318_row0_col3, #T_a6318_row0_col5 {\n",
       "  text-align: center;\n",
       "}\n",
       "</style>\n",
       "<table id=\"T_a6318\">\n",
       "  <thead>\n",
       "    <tr>\n",
       "      <th id=\"T_a6318_level0_col0\" class=\"col_heading level0 col0\" >Route ID</th>\n",
       "      <th id=\"T_a6318_level0_col1\" class=\"col_heading level0 col1\" >Route Name</th>\n",
       "      <th id=\"T_a6318_level0_col2\" class=\"col_heading level0 col2\" ># trips</th>\n",
       "      <th id=\"T_a6318_level0_col3\" class=\"col_heading level0 col3\" >Daily Avg Freq (trips per hr)</th>\n",
       "      <th id=\"T_a6318_level0_col4\" class=\"col_heading level0 col4\" >25th, 50th, 75th ptile (hrs)</th>\n",
       "      <th id=\"T_a6318_level0_col5\" class=\"col_heading level0 col5\" >PM Peak Avg Freq (trips per hr)</th>\n",
       "    </tr>\n",
       "  </thead>\n",
       "  <tbody>\n",
       "    <tr>\n",
       "      <td id=\"T_a6318_row0_col0\" class=\"data row0 col0\" >570</td>\n",
       "      <td id=\"T_a6318_row0_col1\" class=\"data row0 col1\" >Upcountry</td>\n",
       "      <td id=\"T_a6318_row0_col2\" class=\"data row0 col2\" >8</td>\n",
       "      <td id=\"T_a6318_row0_col3\" class=\"data row0 col3\" >0.33</td>\n",
       "      <td id=\"T_a6318_row0_col4\" class=\"data row0 col4\" >0.91, 1.0, 1.01</td>\n",
       "      <td id=\"T_a6318_row0_col5\" class=\"data row0 col5\" >0.33</td>\n",
       "    </tr>\n",
       "  </tbody>\n",
       "</table>\n"
      ],
      "text/plain": [
       "<IPython.core.display.HTML object>"
      ]
     },
     "metadata": {},
     "output_type": "display_data"
    }
   ],
   "source": [
    "route_group = \"medium\"\n",
    "try:\n",
    "    display_charts_for_route_group(df, route_group)\n",
    "except:\n",
    "    print(\"No routes meet this criteria.\")"
   ]
  },
  {
   "cell_type": "markdown",
   "id": "124b76d0-886c-4d03-92ac-f1bda3cda182",
   "metadata": {
    "papermill": {
     "duration": 0.018533,
     "end_time": "2022-05-12T02:39:46.638263",
     "exception": false,
     "start_time": "2022-05-12T02:39:46.619730",
     "status": "completed"
    },
    "tags": []
   },
   "source": [
    "### Long Routes (> 1.5 hrs)"
   ]
  },
  {
   "cell_type": "code",
   "execution_count": 16,
   "id": "ddc81b19-4c45-4c81-8b7a-5e0f394aa7a3",
   "metadata": {
    "execution": {
     "iopub.execute_input": "2022-05-12T02:39:46.696322Z",
     "iopub.status.busy": "2022-05-12T02:39:46.695813Z",
     "iopub.status.idle": "2022-05-12T02:39:46.915255Z",
     "shell.execute_reply": "2022-05-12T02:39:46.914389Z"
    },
    "jupyter": {
     "source_hidden": true
    },
    "papermill": {
     "duration": 0.259381,
     "end_time": "2022-05-12T02:39:46.917527",
     "exception": false,
     "start_time": "2022-05-12T02:39:46.658146",
     "status": "completed"
    },
    "tags": [
     "remove_input"
    ]
   },
   "outputs": [
    {
     "data": {
      "text/markdown": [
       "<br>These are routes that have **at least 50% of their trips take no more than an additional 40 min** compared to a car (up to 15 routes) are shown.<br>Within each route group, routes are sorted in descending order by % competitive trips and # trips below the additional time cut-off."
      ],
      "text/plain": [
       "<IPython.core.display.Markdown object>"
      ]
     },
     "metadata": {},
     "output_type": "display_data"
    },
    {
     "data": {
      "text/html": [
       "\n",
       "<div id=\"altair-viz-6daec89b581d49ccb0d2633801d78bd6\"></div>\n",
       "<script type=\"text/javascript\">\n",
       "  var VEGA_DEBUG = (typeof VEGA_DEBUG == \"undefined\") ? {} : VEGA_DEBUG;\n",
       "  (function(spec, embedOpt){\n",
       "    let outputDiv = document.currentScript.previousElementSibling;\n",
       "    if (outputDiv.id !== \"altair-viz-6daec89b581d49ccb0d2633801d78bd6\") {\n",
       "      outputDiv = document.getElementById(\"altair-viz-6daec89b581d49ccb0d2633801d78bd6\");\n",
       "    }\n",
       "    const paths = {\n",
       "      \"vega\": \"https://cdn.jsdelivr.net/npm//vega@5?noext\",\n",
       "      \"vega-lib\": \"https://cdn.jsdelivr.net/npm//vega-lib?noext\",\n",
       "      \"vega-lite\": \"https://cdn.jsdelivr.net/npm//vega-lite@4.17.0?noext\",\n",
       "      \"vega-embed\": \"https://cdn.jsdelivr.net/npm//vega-embed@6?noext\",\n",
       "    };\n",
       "\n",
       "    function maybeLoadScript(lib, version) {\n",
       "      var key = `${lib.replace(\"-\", \"\")}_version`;\n",
       "      return (VEGA_DEBUG[key] == version) ?\n",
       "        Promise.resolve(paths[lib]) :\n",
       "        new Promise(function(resolve, reject) {\n",
       "          var s = document.createElement('script');\n",
       "          document.getElementsByTagName(\"head\")[0].appendChild(s);\n",
       "          s.async = true;\n",
       "          s.onload = () => {\n",
       "            VEGA_DEBUG[key] = version;\n",
       "            return resolve(paths[lib]);\n",
       "          };\n",
       "          s.onerror = () => reject(`Error loading script: ${paths[lib]}`);\n",
       "          s.src = paths[lib];\n",
       "        });\n",
       "    }\n",
       "\n",
       "    function showError(err) {\n",
       "      outputDiv.innerHTML = `<div class=\"error\" style=\"color:red;\">${err}</div>`;\n",
       "      throw err;\n",
       "    }\n",
       "\n",
       "    function displayChart(vegaEmbed) {\n",
       "      vegaEmbed(outputDiv, spec, embedOpt)\n",
       "        .catch(err => showError(`Javascript Error: ${err.message}<br>This usually means there's a typo in your chart specification. See the javascript console for the full traceback.`));\n",
       "    }\n",
       "\n",
       "    if(typeof define === \"function\" && define.amd) {\n",
       "      requirejs.config({paths});\n",
       "      require([\"vega-embed\"], displayChart, err => showError(`Error loading script: ${err.message}`));\n",
       "    } else {\n",
       "      maybeLoadScript(\"vega\", \"5\")\n",
       "        .then(() => maybeLoadScript(\"vega-lite\", \"4.17.0\"))\n",
       "        .then(() => maybeLoadScript(\"vega-embed\", \"6\"))\n",
       "        .catch(showError)\n",
       "        .then(() => displayChart(vegaEmbed));\n",
       "    }\n",
       "  })({\"config\": {\"view\": {\"continuousWidth\": 400, \"continuousHeight\": 300, \"stroke\": null}, \"facet\": {\"spacing\": 0}}, \"data\": {\"name\": \"data-7589708cd09d8651430c97ec053f426c\"}, \"facet\": {\"column\": {\"field\": \"route_id\", \"sort\": [\"569\"], \"title\": \"Route ID\", \"type\": \"nominal\"}}, \"spec\": {\"layer\": [{\"mark\": \"rule\", \"encoding\": {\"color\": {\"value\": \"black\"}, \"y\": {\"field\": \"cutoff\", \"type\": \"quantitative\"}}, \"selection\": {\"selector005\": {\"type\": \"interval\", \"bind\": \"scales\", \"encodings\": [\"x\", \"y\"]}}}, {\"mark\": {\"type\": \"point\", \"opacity\": 0.65, \"size\": 12, \"strokeWidth\": 1.1}, \"encoding\": {\"color\": {\"field\": \"time_of_day\", \"scale\": {\"range\": [\"#136C97\", \"#E16B26\", \"#F6BF16\", \"#00896B\", \"#7790A3\", \"#5B559C\"]}, \"sort\": [\"AM Peak\", \"Midday\", \"PM Peak\", \"Owl Service\"], \"title\": \"Time of Day\", \"type\": \"nominal\"}, \"tooltip\": [{\"field\": \"route_id\", \"type\": \"nominal\"}, {\"field\": \"route_name\", \"type\": \"nominal\"}, {\"field\": \"trip_id\", \"type\": \"nominal\"}, {\"field\": \"service_hours\", \"type\": \"quantitative\"}, {\"field\": \"car_duration_hours\", \"type\": \"quantitative\"}, {\"field\": \"bus_multiplier\", \"type\": \"quantitative\"}, {\"field\": \"bus_difference\", \"type\": \"quantitative\"}, {\"field\": \"num_trips\", \"type\": \"quantitative\"}, {\"field\": \"num_competitive\", \"type\": \"quantitative\"}, {\"field\": \"pct_trips_competitive\", \"type\": \"quantitative\"}, {\"field\": \"p25\", \"type\": \"quantitative\"}, {\"field\": \"p50\", \"type\": \"quantitative\"}, {\"field\": \"p75\", \"type\": \"quantitative\"}], \"x\": {\"axis\": {\"grid\": false, \"labels\": false, \"ticks\": true, \"values\": [0]}, \"field\": \"jitter\", \"scale\": {}, \"title\": null, \"type\": \"quantitative\"}, \"y\": {\"field\": \"bus_multiplier\", \"scale\": {\"domain\": [-0.25, 3.0]}, \"title\": \"Ratio of Bus to Car Travel Time\", \"type\": \"quantitative\"}}, \"transform\": [{\"calculate\": \"sqrt(-2*log(random()))*cos(2*PI*random())\", \"as\": \"jitter\"}], \"width\": 50}, {\"layer\": [{\"mark\": {\"type\": \"point\", \"opacity\": 0.6, \"size\": 20, \"strokeWidth\": 1.3}, \"encoding\": {\"color\": {\"value\": \"#323434\"}, \"y\": {\"field\": \"bus_multiplier\", \"type\": \"quantitative\"}}, \"transform\": [{\"filter\": \"(datum.p50_trip === 1)\"}]}, {\"mark\": {\"type\": \"text\", \"align\": \"center\", \"baseline\": \"middle\"}, \"encoding\": {\"color\": {\"value\": \"black\"}, \"text\": {\"field\": \"pct_trips_competitive\", \"format\": \".0%\", \"type\": \"quantitative\"}, \"tooltip\": [{\"field\": \"route_id\", \"type\": \"nominal\"}, {\"field\": \"route_name\", \"type\": \"nominal\"}, {\"field\": \"trip_id\", \"type\": \"nominal\"}, {\"field\": \"service_hours\", \"type\": \"quantitative\"}, {\"field\": \"car_duration_hours\", \"type\": \"quantitative\"}, {\"field\": \"bus_multiplier\", \"type\": \"quantitative\"}, {\"field\": \"bus_difference\", \"type\": \"quantitative\"}, {\"field\": \"num_trips\", \"type\": \"quantitative\"}, {\"field\": \"num_competitive\", \"type\": \"quantitative\"}, {\"field\": \"pct_trips_competitive\", \"type\": \"quantitative\"}, {\"field\": \"p25\", \"type\": \"quantitative\"}, {\"field\": \"p50\", \"type\": \"quantitative\"}, {\"field\": \"p75\", \"type\": \"quantitative\"}], \"x\": {\"value\": 30}, \"y\": {\"value\": 15}}, \"transform\": [{\"calculate\": \"sqrt(-2*log(random()))*cos(2*PI*random())\", \"as\": \"jitter\"}, {\"filter\": \"(datum.fastest_trip === 1)\"}]}]}]}, \"resolve\": {\"scale\": {\"y\": \"shared\"}}, \"title\": \"Ratio of Bus to Car Travel Time\", \"$schema\": \"https://vega.github.io/schema/vega-lite/v4.17.0.json\", \"datasets\": {\"data-7589708cd09d8651430c97ec053f426c\": [{\"calitp_itp_id\": 11, \"trip_key\": 593832735237289932, \"trip_id\": \"t_1529_b_414_tn_0\", \"shape_id\": \"p_867\", \"route_id\": \"569\", \"service_hours\": 1.42, \"trip_first_departure_ts\": 27120, \"trip_last_arrival_ts\": 32220, \"departure_hour\": 7, \"time_of_day\": \"AM Peak\", \"p25\": 1.48, \"p50\": 1.5150000000000001, \"p75\": 1.5475, \"p50_trip\": 0, \"fastest_trip\": 1, \"car_duration_hours\": 0.89, \"competitive_route\": 1, \"bus_multiplier\": 1.6, \"bus_difference\": 31.8, \"num_trips\": 4, \"num_competitive\": 4, \"pct_trips_competitive\": 1.0, \"bus_difference_spread\": 10.8, \"route_group\": \"long\", \"max_trip_hrs\": 1.6, \"max_trip_route_group\": 1.6, \"below_cutoff\": 3, \"pct_below_cutoff\": 0.75, \"name\": \"Amador Regional Transit System\", \"caltrans_district\": \"10 - Stockton\", \"drmt_organization_name\": \"['recGiMlqrcpPxScAH']\", \"route_name\": \"Sacramento\", \"cutoff2\": 40, \"cutoff\": 2}, {\"calitp_itp_id\": 11, \"trip_key\": 2849629540374377473, \"trip_id\": \"t_1530_b_414_tn_0\", \"shape_id\": \"p_867\", \"route_id\": \"569\", \"service_hours\": 1.5, \"trip_first_departure_ts\": 61560, \"trip_last_arrival_ts\": 66960, \"departure_hour\": 17, \"time_of_day\": \"PM Peak\", \"p25\": 1.48, \"p50\": 1.5150000000000001, \"p75\": 1.5475, \"p50_trip\": 0, \"fastest_trip\": 0, \"car_duration_hours\": 0.89, \"competitive_route\": 1, \"bus_multiplier\": 1.69, \"bus_difference\": 36.6, \"num_trips\": 4, \"num_competitive\": 4, \"pct_trips_competitive\": 1.0, \"bus_difference_spread\": 10.8, \"route_group\": \"long\", \"max_trip_hrs\": 1.6, \"max_trip_route_group\": 1.6, \"below_cutoff\": 3, \"pct_below_cutoff\": 0.75, \"name\": \"Amador Regional Transit System\", \"caltrans_district\": \"10 - Stockton\", \"drmt_organization_name\": \"['recGiMlqrcpPxScAH']\", \"route_name\": \"Sacramento\", \"cutoff2\": 40, \"cutoff\": 2}, {\"calitp_itp_id\": 11, \"trip_key\": -6324348899433350338, \"trip_id\": \"t_1528_b_414_tn_0\", \"shape_id\": \"p_859\", \"route_id\": \"569\", \"service_hours\": 1.53, \"trip_first_departure_ts\": 21600, \"trip_last_arrival_ts\": 27120, \"departure_hour\": 6, \"time_of_day\": \"Owl Service\", \"p25\": 1.48, \"p50\": 1.5150000000000001, \"p75\": 1.5475, \"p50_trip\": 1, \"fastest_trip\": 0, \"car_duration_hours\": 0.89, \"competitive_route\": 1, \"bus_multiplier\": 1.72, \"bus_difference\": 38.4, \"num_trips\": 4, \"num_competitive\": 4, \"pct_trips_competitive\": 1.0, \"bus_difference_spread\": 10.8, \"route_group\": \"long\", \"max_trip_hrs\": 1.6, \"max_trip_route_group\": 1.6, \"below_cutoff\": 3, \"pct_below_cutoff\": 0.75, \"name\": \"Amador Regional Transit System\", \"caltrans_district\": \"10 - Stockton\", \"drmt_organization_name\": \"['recGiMlqrcpPxScAH']\", \"route_name\": \"Sacramento\", \"cutoff2\": 40, \"cutoff\": 2}, {\"calitp_itp_id\": 11, \"trip_key\": -7066308270664786304, \"trip_id\": \"t_1542_b_414_tn_0\", \"shape_id\": \"p_859\", \"route_id\": \"569\", \"service_hours\": 1.6, \"trip_first_departure_ts\": 55800, \"trip_last_arrival_ts\": 61560, \"departure_hour\": 15, \"time_of_day\": \"Midday\", \"p25\": 1.48, \"p50\": 1.5150000000000001, \"p75\": 1.5475, \"p50_trip\": 0, \"fastest_trip\": 0, \"car_duration_hours\": 0.89, \"competitive_route\": 1, \"bus_multiplier\": 1.8, \"bus_difference\": 42.6, \"num_trips\": 4, \"num_competitive\": 4, \"pct_trips_competitive\": 1.0, \"bus_difference_spread\": 10.8, \"route_group\": \"long\", \"max_trip_hrs\": 1.6, \"max_trip_route_group\": 1.6, \"below_cutoff\": 3, \"pct_below_cutoff\": 0.75, \"name\": \"Amador Regional Transit System\", \"caltrans_district\": \"10 - Stockton\", \"drmt_organization_name\": \"['recGiMlqrcpPxScAH']\", \"route_name\": \"Sacramento\", \"cutoff2\": 40, \"cutoff\": 2}]}}, {\"mode\": \"vega-lite\"});\n",
       "</script>"
      ],
      "text/plain": [
       "alt.FacetChart(...)"
      ]
     },
     "metadata": {},
     "output_type": "display_data"
    },
    {
     "data": {
      "text/html": [
       "\n",
       "<div id=\"altair-viz-ec5def6d00504ee693fb631af702d7cb\"></div>\n",
       "<script type=\"text/javascript\">\n",
       "  var VEGA_DEBUG = (typeof VEGA_DEBUG == \"undefined\") ? {} : VEGA_DEBUG;\n",
       "  (function(spec, embedOpt){\n",
       "    let outputDiv = document.currentScript.previousElementSibling;\n",
       "    if (outputDiv.id !== \"altair-viz-ec5def6d00504ee693fb631af702d7cb\") {\n",
       "      outputDiv = document.getElementById(\"altair-viz-ec5def6d00504ee693fb631af702d7cb\");\n",
       "    }\n",
       "    const paths = {\n",
       "      \"vega\": \"https://cdn.jsdelivr.net/npm//vega@5?noext\",\n",
       "      \"vega-lib\": \"https://cdn.jsdelivr.net/npm//vega-lib?noext\",\n",
       "      \"vega-lite\": \"https://cdn.jsdelivr.net/npm//vega-lite@4.17.0?noext\",\n",
       "      \"vega-embed\": \"https://cdn.jsdelivr.net/npm//vega-embed@6?noext\",\n",
       "    };\n",
       "\n",
       "    function maybeLoadScript(lib, version) {\n",
       "      var key = `${lib.replace(\"-\", \"\")}_version`;\n",
       "      return (VEGA_DEBUG[key] == version) ?\n",
       "        Promise.resolve(paths[lib]) :\n",
       "        new Promise(function(resolve, reject) {\n",
       "          var s = document.createElement('script');\n",
       "          document.getElementsByTagName(\"head\")[0].appendChild(s);\n",
       "          s.async = true;\n",
       "          s.onload = () => {\n",
       "            VEGA_DEBUG[key] = version;\n",
       "            return resolve(paths[lib]);\n",
       "          };\n",
       "          s.onerror = () => reject(`Error loading script: ${paths[lib]}`);\n",
       "          s.src = paths[lib];\n",
       "        });\n",
       "    }\n",
       "\n",
       "    function showError(err) {\n",
       "      outputDiv.innerHTML = `<div class=\"error\" style=\"color:red;\">${err}</div>`;\n",
       "      throw err;\n",
       "    }\n",
       "\n",
       "    function displayChart(vegaEmbed) {\n",
       "      vegaEmbed(outputDiv, spec, embedOpt)\n",
       "        .catch(err => showError(`Javascript Error: ${err.message}<br>This usually means there's a typo in your chart specification. See the javascript console for the full traceback.`));\n",
       "    }\n",
       "\n",
       "    if(typeof define === \"function\" && define.amd) {\n",
       "      requirejs.config({paths});\n",
       "      require([\"vega-embed\"], displayChart, err => showError(`Error loading script: ${err.message}`));\n",
       "    } else {\n",
       "      maybeLoadScript(\"vega\", \"5\")\n",
       "        .then(() => maybeLoadScript(\"vega-lite\", \"4.17.0\"))\n",
       "        .then(() => maybeLoadScript(\"vega-embed\", \"6\"))\n",
       "        .catch(showError)\n",
       "        .then(() => displayChart(vegaEmbed));\n",
       "    }\n",
       "  })({\"config\": {\"view\": {\"continuousWidth\": 400, \"continuousHeight\": 300, \"stroke\": null}, \"facet\": {\"spacing\": 0}}, \"data\": {\"name\": \"data-f1e1ef16d77badfbcd3abde924c380b7\"}, \"facet\": {\"column\": {\"field\": \"route_id\", \"sort\": [\"569\"], \"title\": \"Route ID\", \"type\": \"nominal\"}}, \"spec\": {\"layer\": [{\"mark\": \"rule\", \"encoding\": {\"color\": {\"value\": \"black\"}, \"y\": {\"field\": \"cutoff\", \"type\": \"quantitative\"}}, \"selection\": {\"selector006\": {\"type\": \"interval\", \"bind\": \"scales\", \"encodings\": [\"x\", \"y\"]}}}, {\"mark\": {\"type\": \"rule\", \"strokeDash\": [3, 3]}, \"encoding\": {\"color\": {\"value\": \"#323434\"}, \"y\": {\"field\": \"cutoff2\", \"type\": \"quantitative\"}}}, {\"mark\": {\"type\": \"point\", \"opacity\": 0.65, \"size\": 12, \"strokeWidth\": 1.1}, \"encoding\": {\"color\": {\"field\": \"time_of_day\", \"scale\": {\"range\": [\"#136C97\", \"#E16B26\", \"#F6BF16\", \"#00896B\", \"#7790A3\", \"#5B559C\"]}, \"sort\": [\"AM Peak\", \"Midday\", \"PM Peak\", \"Owl Service\"], \"title\": \"Time of Day\", \"type\": \"nominal\"}, \"tooltip\": [{\"field\": \"route_id\", \"type\": \"nominal\"}, {\"field\": \"route_name\", \"type\": \"nominal\"}, {\"field\": \"trip_id\", \"type\": \"nominal\"}, {\"field\": \"service_hours\", \"type\": \"quantitative\"}, {\"field\": \"car_duration_hours\", \"type\": \"quantitative\"}, {\"field\": \"bus_multiplier\", \"type\": \"quantitative\"}, {\"field\": \"bus_difference\", \"type\": \"quantitative\"}, {\"field\": \"num_trips\", \"type\": \"quantitative\"}, {\"field\": \"num_competitive\", \"type\": \"quantitative\"}, {\"field\": \"pct_trips_competitive\", \"type\": \"quantitative\"}, {\"field\": \"p25\", \"type\": \"quantitative\"}, {\"field\": \"p50\", \"type\": \"quantitative\"}, {\"field\": \"p75\", \"type\": \"quantitative\"}], \"x\": {\"axis\": {\"grid\": false, \"labels\": false, \"ticks\": true, \"values\": [0]}, \"field\": \"jitter\", \"scale\": {}, \"title\": null, \"type\": \"quantitative\"}, \"y\": {\"field\": \"bus_difference\", \"scale\": {\"domain\": [-5, 45.0]}, \"title\": \"Difference in Bus to Car Travel Time (min)\", \"type\": \"quantitative\"}}, \"transform\": [{\"calculate\": \"sqrt(-2*log(random()))*cos(2*PI*random())\", \"as\": \"jitter\"}], \"width\": 50}, {\"layer\": [{\"mark\": {\"type\": \"point\", \"opacity\": 0.6, \"size\": 20, \"strokeWidth\": 1.3}, \"encoding\": {\"color\": {\"value\": \"#323434\"}, \"y\": {\"field\": \"bus_difference\", \"type\": \"quantitative\"}}, \"transform\": [{\"filter\": \"(datum.p50_trip === 1)\"}]}, {\"mark\": {\"type\": \"text\", \"align\": \"center\", \"baseline\": \"middle\"}, \"encoding\": {\"color\": {\"value\": \"black\"}, \"text\": {\"field\": \"pct_trips_competitive\", \"format\": \".0%\", \"type\": \"quantitative\"}, \"tooltip\": [{\"field\": \"route_id\", \"type\": \"nominal\"}, {\"field\": \"route_name\", \"type\": \"nominal\"}, {\"field\": \"trip_id\", \"type\": \"nominal\"}, {\"field\": \"service_hours\", \"type\": \"quantitative\"}, {\"field\": \"car_duration_hours\", \"type\": \"quantitative\"}, {\"field\": \"bus_multiplier\", \"type\": \"quantitative\"}, {\"field\": \"bus_difference\", \"type\": \"quantitative\"}, {\"field\": \"num_trips\", \"type\": \"quantitative\"}, {\"field\": \"num_competitive\", \"type\": \"quantitative\"}, {\"field\": \"pct_trips_competitive\", \"type\": \"quantitative\"}, {\"field\": \"p25\", \"type\": \"quantitative\"}, {\"field\": \"p50\", \"type\": \"quantitative\"}, {\"field\": \"p75\", \"type\": \"quantitative\"}], \"x\": {\"value\": 30}, \"y\": {\"value\": 15}}, \"transform\": [{\"calculate\": \"sqrt(-2*log(random()))*cos(2*PI*random())\", \"as\": \"jitter\"}, {\"filter\": \"(datum.fastest_trip === 1)\"}]}]}]}, \"resolve\": {\"scale\": {\"y\": \"shared\"}}, \"title\": \"Difference in Bus to Car Travel Time (min)\", \"$schema\": \"https://vega.github.io/schema/vega-lite/v4.17.0.json\", \"datasets\": {\"data-f1e1ef16d77badfbcd3abde924c380b7\": [{\"calitp_itp_id\": 11, \"trip_key\": 593832735237289932, \"trip_id\": \"t_1529_b_414_tn_0\", \"shape_id\": \"p_867\", \"route_id\": \"569\", \"service_hours\": 1.42, \"trip_first_departure_ts\": 27120, \"trip_last_arrival_ts\": 32220, \"departure_hour\": 7, \"time_of_day\": \"AM Peak\", \"p25\": 1.48, \"p50\": 1.5150000000000001, \"p75\": 1.5475, \"p50_trip\": 0, \"fastest_trip\": 1, \"car_duration_hours\": 0.89, \"competitive_route\": 1, \"bus_multiplier\": 1.6, \"bus_difference\": 31.8, \"num_trips\": 4, \"num_competitive\": 4, \"pct_trips_competitive\": 1.0, \"bus_difference_spread\": 10.8, \"route_group\": \"long\", \"max_trip_hrs\": 1.6, \"max_trip_route_group\": 1.6, \"below_cutoff\": 3, \"pct_below_cutoff\": 0.75, \"name\": \"Amador Regional Transit System\", \"caltrans_district\": \"10 - Stockton\", \"drmt_organization_name\": \"['recGiMlqrcpPxScAH']\", \"route_name\": \"Sacramento\", \"cutoff2\": 40, \"cutoff\": 0}, {\"calitp_itp_id\": 11, \"trip_key\": 2849629540374377473, \"trip_id\": \"t_1530_b_414_tn_0\", \"shape_id\": \"p_867\", \"route_id\": \"569\", \"service_hours\": 1.5, \"trip_first_departure_ts\": 61560, \"trip_last_arrival_ts\": 66960, \"departure_hour\": 17, \"time_of_day\": \"PM Peak\", \"p25\": 1.48, \"p50\": 1.5150000000000001, \"p75\": 1.5475, \"p50_trip\": 0, \"fastest_trip\": 0, \"car_duration_hours\": 0.89, \"competitive_route\": 1, \"bus_multiplier\": 1.69, \"bus_difference\": 36.6, \"num_trips\": 4, \"num_competitive\": 4, \"pct_trips_competitive\": 1.0, \"bus_difference_spread\": 10.8, \"route_group\": \"long\", \"max_trip_hrs\": 1.6, \"max_trip_route_group\": 1.6, \"below_cutoff\": 3, \"pct_below_cutoff\": 0.75, \"name\": \"Amador Regional Transit System\", \"caltrans_district\": \"10 - Stockton\", \"drmt_organization_name\": \"['recGiMlqrcpPxScAH']\", \"route_name\": \"Sacramento\", \"cutoff2\": 40, \"cutoff\": 0}, {\"calitp_itp_id\": 11, \"trip_key\": -6324348899433350338, \"trip_id\": \"t_1528_b_414_tn_0\", \"shape_id\": \"p_859\", \"route_id\": \"569\", \"service_hours\": 1.53, \"trip_first_departure_ts\": 21600, \"trip_last_arrival_ts\": 27120, \"departure_hour\": 6, \"time_of_day\": \"Owl Service\", \"p25\": 1.48, \"p50\": 1.5150000000000001, \"p75\": 1.5475, \"p50_trip\": 1, \"fastest_trip\": 0, \"car_duration_hours\": 0.89, \"competitive_route\": 1, \"bus_multiplier\": 1.72, \"bus_difference\": 38.4, \"num_trips\": 4, \"num_competitive\": 4, \"pct_trips_competitive\": 1.0, \"bus_difference_spread\": 10.8, \"route_group\": \"long\", \"max_trip_hrs\": 1.6, \"max_trip_route_group\": 1.6, \"below_cutoff\": 3, \"pct_below_cutoff\": 0.75, \"name\": \"Amador Regional Transit System\", \"caltrans_district\": \"10 - Stockton\", \"drmt_organization_name\": \"['recGiMlqrcpPxScAH']\", \"route_name\": \"Sacramento\", \"cutoff2\": 40, \"cutoff\": 0}, {\"calitp_itp_id\": 11, \"trip_key\": -7066308270664786304, \"trip_id\": \"t_1542_b_414_tn_0\", \"shape_id\": \"p_859\", \"route_id\": \"569\", \"service_hours\": 1.6, \"trip_first_departure_ts\": 55800, \"trip_last_arrival_ts\": 61560, \"departure_hour\": 15, \"time_of_day\": \"Midday\", \"p25\": 1.48, \"p50\": 1.5150000000000001, \"p75\": 1.5475, \"p50_trip\": 0, \"fastest_trip\": 0, \"car_duration_hours\": 0.89, \"competitive_route\": 1, \"bus_multiplier\": 1.8, \"bus_difference\": 42.6, \"num_trips\": 4, \"num_competitive\": 4, \"pct_trips_competitive\": 1.0, \"bus_difference_spread\": 10.8, \"route_group\": \"long\", \"max_trip_hrs\": 1.6, \"max_trip_route_group\": 1.6, \"below_cutoff\": 3, \"pct_below_cutoff\": 0.75, \"name\": \"Amador Regional Transit System\", \"caltrans_district\": \"10 - Stockton\", \"drmt_organization_name\": \"['recGiMlqrcpPxScAH']\", \"route_name\": \"Sacramento\", \"cutoff2\": 40, \"cutoff\": 0}]}}, {\"mode\": \"vega-lite\"});\n",
       "</script>"
      ],
      "text/plain": [
       "alt.FacetChart(...)"
      ]
     },
     "metadata": {},
     "output_type": "display_data"
    },
    {
     "data": {
      "text/html": [
       "<h4>Route Stats</h4>"
      ],
      "text/plain": [
       "<IPython.core.display.HTML object>"
      ]
     },
     "metadata": {},
     "output_type": "display_data"
    },
    {
     "data": {
      "text/html": [
       "<style type=\"text/css\">\n",
       "#T_37865 th {\n",
       "  text-align: center;\n",
       "}\n",
       "#T_37865_row0_col0, #T_37865_row0_col1 {\n",
       "  text-align: left;\n",
       "}\n",
       "#T_37865_row0_col2, #T_37865_row0_col3, #T_37865_row0_col5 {\n",
       "  text-align: center;\n",
       "}\n",
       "</style>\n",
       "<table id=\"T_37865\">\n",
       "  <thead>\n",
       "    <tr>\n",
       "      <th id=\"T_37865_level0_col0\" class=\"col_heading level0 col0\" >Route ID</th>\n",
       "      <th id=\"T_37865_level0_col1\" class=\"col_heading level0 col1\" >Route Name</th>\n",
       "      <th id=\"T_37865_level0_col2\" class=\"col_heading level0 col2\" ># trips</th>\n",
       "      <th id=\"T_37865_level0_col3\" class=\"col_heading level0 col3\" >Daily Avg Freq (trips per hr)</th>\n",
       "      <th id=\"T_37865_level0_col4\" class=\"col_heading level0 col4\" >25th, 50th, 75th ptile (hrs)</th>\n",
       "      <th id=\"T_37865_level0_col5\" class=\"col_heading level0 col5\" >PM Peak Avg Freq (trips per hr)</th>\n",
       "    </tr>\n",
       "  </thead>\n",
       "  <tbody>\n",
       "    <tr>\n",
       "      <td id=\"T_37865_row0_col0\" class=\"data row0 col0\" >569</td>\n",
       "      <td id=\"T_37865_row0_col1\" class=\"data row0 col1\" >Sacramento</td>\n",
       "      <td id=\"T_37865_row0_col2\" class=\"data row0 col2\" >4</td>\n",
       "      <td id=\"T_37865_row0_col3\" class=\"data row0 col3\" >0.17</td>\n",
       "      <td id=\"T_37865_row0_col4\" class=\"data row0 col4\" >1.48, 1.52, 1.55</td>\n",
       "      <td id=\"T_37865_row0_col5\" class=\"data row0 col5\" >0.33</td>\n",
       "    </tr>\n",
       "  </tbody>\n",
       "</table>\n"
      ],
      "text/plain": [
       "<IPython.core.display.HTML object>"
      ]
     },
     "metadata": {},
     "output_type": "display_data"
    }
   ],
   "source": [
    "route_group = \"long\"\n",
    "try:\n",
    "    display_charts_for_route_group(df, route_group)\n",
    "except:\n",
    "    print(\"No routes meet this criteria.\")"
   ]
  },
  {
   "cell_type": "markdown",
   "id": "ace75b5f-0442-4fbe-aebd-6c3a13ae13a7",
   "metadata": {
    "papermill": {
     "duration": 0.021189,
     "end_time": "2022-05-12T02:39:46.959917",
     "exception": false,
     "start_time": "2022-05-12T02:39:46.938728",
     "status": "completed"
    },
    "tags": []
   },
   "source": [
    "### GTFS Real-Time Speedmaps"
   ]
  },
  {
   "cell_type": "code",
   "execution_count": 17,
   "id": "a0a114a1-e975-4027-9daf-50029f5ef59f",
   "metadata": {
    "execution": {
     "iopub.execute_input": "2022-05-12T02:39:47.021960Z",
     "iopub.status.busy": "2022-05-12T02:39:47.021628Z",
     "iopub.status.idle": "2022-05-12T02:39:47.047667Z",
     "shell.execute_reply": "2022-05-12T02:39:47.046803Z"
    },
    "jupyter": {
     "source_hidden": true
    },
    "papermill": {
     "duration": 0.067725,
     "end_time": "2022-05-12T02:39:47.049710",
     "exception": false,
     "start_time": "2022-05-12T02:39:46.981985",
     "status": "completed"
    },
    "tags": [
     "remove_input"
    ]
   },
   "outputs": [
    {
     "data": {
      "text/html": [
       "No GTFS RT data available."
      ],
      "text/plain": [
       "<IPython.core.display.HTML object>"
      ]
     },
     "metadata": {},
     "output_type": "display_data"
    }
   ],
   "source": [
    "RT_SITE_YAML = \"../portfolio/sites/rt.yml\"\n",
    "\n",
    "# Grab list of ITP IDs with GTFS RT speedmaps\n",
    "rt_itp_id = deploy_portfolio_yaml.check_if_rt_data_available(RT_SITE_YAML)\n",
    "\n",
    "# Construct the URL \n",
    "RT_URL = (\"https://analysis.calitp.org/rt/\"\n",
    "          f\"district_{district_number}-{district_name}/\"\n",
    "          f\"speedmaps__itp_id_{itp_id}.html\"\n",
    "         ) \n",
    "\n",
    "# If this ITP ID is found in RT analysis, give URL to that operator in analysis.calitp.org\n",
    "if itp_id in rt_itp_id:\n",
    "    display(HTML(f'''<a href={RT_URL}>GTFS RT speedmaps here.</a>'''))\n",
    "\n",
    "else:\n",
    "    display(HTML(\"No GTFS RT data available.\"))"
   ]
  },
  {
   "cell_type": "code",
   "execution_count": null,
   "id": "5b680565-2230-4f2e-817c-718fad48d64c",
   "metadata": {
    "jupyter": {
     "source_hidden": true
    },
    "papermill": {
     "duration": 0.021741,
     "end_time": "2022-05-12T02:39:47.094959",
     "exception": false,
     "start_time": "2022-05-12T02:39:47.073218",
     "status": "completed"
    },
    "tags": [
     "remove_input"
    ]
   },
   "outputs": [],
   "source": []
  }
 ],
 "metadata": {
  "kernelspec": {
   "display_name": "Python 3 (ipykernel)",
   "language": "python",
   "name": "python3"
  },
  "language_info": {
   "codemirror_mode": {
    "name": "ipython",
    "version": 3
   },
   "file_extension": ".py",
   "mimetype": "text/x-python",
   "name": "python",
   "nbconvert_exporter": "python",
   "pygments_lexer": "ipython3",
   "version": "3.9.12"
  },
  "papermill": {
   "default_parameters": {},
   "duration": 23.799782,
   "end_time": "2022-05-12T02:39:48.340029",
   "environment_variables": {},
   "exception": null,
   "input_path": "bus_service_increase/competitive-parallel-routes.ipynb",
   "output_path": "portfolio/parallel_corridors/district_10-stockton/1__competitive-parallel-routes__district_10-stockton__itp_id_11.ipynb",
   "parameters": {
    "district": "10 - Stockton",
    "itp_id": 11
   },
   "start_time": "2022-05-12T02:39:24.540247",
   "version": "2.3.4"
  }
 },
 "nbformat": 4,
 "nbformat_minor": 5
}