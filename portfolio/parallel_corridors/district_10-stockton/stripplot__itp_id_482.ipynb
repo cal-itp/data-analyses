{
 "cells": [
  {
   "cell_type": "code",
   "execution_count": 1,
   "id": "95d00857-6a20-4529-a519-2cc7182928a9",
   "metadata": {
    "execution": {
     "iopub.execute_input": "2022-05-07T17:32:26.455445Z",
     "iopub.status.busy": "2022-05-07T17:32:26.454742Z",
     "iopub.status.idle": "2022-05-07T17:32:34.550672Z",
     "shell.execute_reply": "2022-05-07T17:32:34.549998Z"
    },
    "jupyter": {
     "source_hidden": true
    },
    "papermill": {
     "duration": 8.114917,
     "end_time": "2022-05-07T17:32:34.552936",
     "exception": false,
     "start_time": "2022-05-07T17:32:26.438019",
     "status": "completed"
    },
    "tags": [
     "remove_input"
    ]
   },
   "outputs": [],
   "source": [
    "%%capture\n",
    "import warnings\n",
    "warnings.filterwarnings('ignore')\n",
    "\n",
    "import altair as alt\n",
    "import calitp.magics\n",
    "import geopandas as gpd\n",
    "import intake\n",
    "import pandas as pd\n",
    "\n",
    "from IPython.display import display, Markdown, HTML\n",
    "\n",
    "import parallel_corridors_utils\n",
    "from shared_utils import styleguide\n",
    "\n",
    "catalog = intake.open_catalog(\"./*.yml\")\n",
    "alt.renderers.enable(\"html\")"
   ]
  },
  {
   "cell_type": "code",
   "execution_count": 2,
   "id": "8af2a0c1-f3da-408d-9bea-11d9fbf8695d",
   "metadata": {
    "execution": {
     "iopub.execute_input": "2022-05-07T17:32:34.575377Z",
     "iopub.status.busy": "2022-05-07T17:32:34.574889Z",
     "iopub.status.idle": "2022-05-07T17:32:34.579103Z",
     "shell.execute_reply": "2022-05-07T17:32:34.578270Z"
    },
    "jupyter": {
     "source_hidden": true
    },
    "papermill": {
     "duration": 0.017714,
     "end_time": "2022-05-07T17:32:34.580865",
     "exception": false,
     "start_time": "2022-05-07T17:32:34.563151",
     "status": "completed"
    },
    "tags": [
     "parameters",
     "remove_input"
    ]
   },
   "outputs": [],
   "source": [
    "# parameters cell\n",
    "itp_id = 182"
   ]
  },
  {
   "cell_type": "code",
   "execution_count": 3,
   "id": "3fdad542",
   "metadata": {
    "execution": {
     "iopub.execute_input": "2022-05-07T17:32:34.602400Z",
     "iopub.status.busy": "2022-05-07T17:32:34.602133Z",
     "iopub.status.idle": "2022-05-07T17:32:34.610884Z",
     "shell.execute_reply": "2022-05-07T17:32:34.610039Z"
    },
    "jupyter": {
     "source_hidden": true
    },
    "papermill": {
     "duration": 0.021999,
     "end_time": "2022-05-07T17:32:34.612577",
     "exception": false,
     "start_time": "2022-05-07T17:32:34.590578",
     "status": "completed"
    },
    "tags": [
     "injected-parameters",
     "remove_input"
    ]
   },
   "outputs": [],
   "source": [
    "# Parameters\n",
    "district = \"10 - Stockton\"\n",
    "itp_id = 482\n"
   ]
  },
  {
   "cell_type": "code",
   "execution_count": 4,
   "id": "9582aaf4-79ff-412a-b248-8d8d693ebd4f",
   "metadata": {
    "execution": {
     "iopub.execute_input": "2022-05-07T17:32:34.641264Z",
     "iopub.status.busy": "2022-05-07T17:32:34.640732Z",
     "iopub.status.idle": "2022-05-07T17:32:35.834172Z",
     "shell.execute_reply": "2022-05-07T17:32:35.833549Z"
    },
    "jupyter": {
     "source_hidden": true
    },
    "papermill": {
     "duration": 1.20773,
     "end_time": "2022-05-07T17:32:35.836255",
     "exception": false,
     "start_time": "2022-05-07T17:32:34.628525",
     "status": "completed"
    },
    "tags": [
     "remove_input"
    ]
   },
   "outputs": [],
   "source": [
    "df = catalog.competitive_route_variability.read()\n",
    "\n",
    "df = (df[(df.calitp_itp_id == itp_id) & \n",
    "         (df.route_group.notna())]\n",
    "      .reset_index(drop=True)\n",
    "     )\n",
    "\n",
    "\n",
    "if itp_id == 182:\n",
    "    df = df.assign(\n",
    "        route_id = df.route_id.str.replace('-13153', '').astype(int)\n",
    "    )"
   ]
  },
  {
   "cell_type": "code",
   "execution_count": 5,
   "id": "33ac4b06-f647-4dce-a625-8f2c1b37cc60",
   "metadata": {
    "execution": {
     "iopub.execute_input": "2022-05-07T17:32:35.860427Z",
     "iopub.status.busy": "2022-05-07T17:32:35.859165Z",
     "iopub.status.idle": "2022-05-07T17:32:35.865938Z",
     "shell.execute_reply": "2022-05-07T17:32:35.865430Z"
    },
    "jupyter": {
     "source_hidden": true
    },
    "papermill": {
     "duration": 0.020738,
     "end_time": "2022-05-07T17:32:35.867524",
     "exception": false,
     "start_time": "2022-05-07T17:32:35.846786",
     "status": "completed"
    },
    "tags": [
     "remove_input"
    ]
   },
   "outputs": [],
   "source": [
    "%%capture_parameters\n",
    "operator_name = df.name.iloc[0]\n",
    "\n",
    "itp_id, operator_name"
   ]
  },
  {
   "cell_type": "markdown",
   "id": "65bc6f5c-8348-42ee-b2dd-52057c406852",
   "metadata": {
    "papermill": {
     "duration": 0.010299,
     "end_time": "2022-05-07T17:32:35.887590",
     "exception": false,
     "start_time": "2022-05-07T17:32:35.877291",
     "status": "completed"
    },
    "tags": []
   },
   "source": [
    "# Tuolumne County Transit Agency (ITP ID: 482)"
   ]
  },
  {
   "cell_type": "code",
   "execution_count": 6,
   "id": "a689c1ab-2c6c-4831-8d64-897f5986f571",
   "metadata": {
    "execution": {
     "iopub.execute_input": "2022-05-07T17:32:35.910376Z",
     "iopub.status.busy": "2022-05-07T17:32:35.909865Z",
     "iopub.status.idle": "2022-05-07T17:32:35.915387Z",
     "shell.execute_reply": "2022-05-07T17:32:35.914891Z"
    },
    "jupyter": {
     "source_hidden": true
    },
    "papermill": {
     "duration": 0.019306,
     "end_time": "2022-05-07T17:32:35.916937",
     "exception": false,
     "start_time": "2022-05-07T17:32:35.897631",
     "status": "completed"
    },
    "tags": [
     "remove_input"
    ]
   },
   "outputs": [
    {
     "data": {
      "text/html": [
       "<h1>Competitive & Parallel Routes</h1>"
      ],
      "text/plain": [
       "<IPython.core.display.HTML object>"
      ]
     },
     "metadata": {},
     "output_type": "display_data"
    }
   ],
   "source": [
    "display(HTML(\"<h1>Competitive & Parallel Routes</h1>\")) "
   ]
  },
  {
   "cell_type": "code",
   "execution_count": 7,
   "id": "2cb4d8d5-4760-40e4-85b1-cb833d8bb648",
   "metadata": {
    "execution": {
     "iopub.execute_input": "2022-05-07T17:32:35.940761Z",
     "iopub.status.busy": "2022-05-07T17:32:35.940282Z",
     "iopub.status.idle": "2022-05-07T17:32:46.300344Z",
     "shell.execute_reply": "2022-05-07T17:32:46.299392Z"
    },
    "jupyter": {
     "source_hidden": true
    },
    "papermill": {
     "duration": 10.374535,
     "end_time": "2022-05-07T17:32:46.302924",
     "exception": false,
     "start_time": "2022-05-07T17:32:35.928389",
     "status": "completed"
    },
    "tags": [
     "remove_input"
    ]
   },
   "outputs": [],
   "source": [
    "# Grab parameters for narrative text - clean up formatting here \n",
    "district = df.caltrans_district.iloc[0]\n",
    "formatted_date = pd.to_datetime(parallel_corridors_utils.SELECTED_DATE).strftime('%m-%d-%Y')\n",
    "\n",
    "PCT_COMPETITIVE_THRESHOLD = 0.75\n",
    "\n",
    "stats = parallel_corridors_utils.operator_parallel_competitive_stats(\n",
    "    itp_id, PCT_COMPETITIVE_THRESHOLD)\n",
    "\n",
    "pct_parallel = round(stats['parallel_routes'] / stats['num_routes'] * 100,1 )\n",
    "pct_competitive =  round(stats['competitive_routes'] / stats['num_routes'] * 100,1 )"
   ]
  },
  {
   "cell_type": "markdown",
   "id": "ab667928-5274-4490-82d9-4c39293209a4",
   "metadata": {
    "papermill": {
     "duration": 0.010983,
     "end_time": "2022-05-07T17:32:46.325106",
     "exception": false,
     "start_time": "2022-05-07T17:32:46.314123",
     "status": "completed"
    },
    "tags": []
   },
   "source": [
    "## Quick Stats"
   ]
  },
  {
   "cell_type": "code",
   "execution_count": 8,
   "id": "0416509d-dc62-4165-b62e-64f8b26e8b8e",
   "metadata": {
    "execution": {
     "iopub.execute_input": "2022-05-07T17:32:46.350012Z",
     "iopub.status.busy": "2022-05-07T17:32:46.349519Z",
     "iopub.status.idle": "2022-05-07T17:32:46.363203Z",
     "shell.execute_reply": "2022-05-07T17:32:46.362288Z"
    },
    "jupyter": {
     "source_hidden": true
    },
    "papermill": {
     "duration": 0.030194,
     "end_time": "2022-05-07T17:32:46.365694",
     "exception": false,
     "start_time": "2022-05-07T17:32:46.335500",
     "status": "completed"
    },
    "tags": [
     "remove_input"
    ]
   },
   "outputs": [
    {
     "data": {
      "text/markdown": [
       "**Bus routes in service**: 3 <br>**Parallel routes** to State Highway Network (SHN): 3 routes (100.0%)<br>**Competitive routes** against car travel: 1 routes (33.3%)"
      ],
      "text/plain": [
       "<IPython.core.display.Markdown object>"
      ]
     },
     "metadata": {},
     "output_type": "display_data"
    }
   ],
   "source": [
    "display(\n",
    "    Markdown(\n",
    "        f\"**Bus routes in service**: {stats['num_routes']} \"\n",
    "        \"<br>**Parallel routes** to State Highway Network (SHN): \"\n",
    "        f\"{stats['parallel_routes']} routes ({pct_parallel}%)\"\n",
    "        f\"<br>**Competitive routes** against car travel: {stats['competitive_routes']} routes ({pct_competitive}%)\"\n",
    "    )\n",
    ")"
   ]
  },
  {
   "cell_type": "code",
   "execution_count": 9,
   "id": "f9d6ab58-f0ee-460c-b6de-657490e1f386",
   "metadata": {
    "execution": {
     "iopub.execute_input": "2022-05-07T17:32:46.416883Z",
     "iopub.status.busy": "2022-05-07T17:32:46.416513Z",
     "iopub.status.idle": "2022-05-07T17:32:46.432200Z",
     "shell.execute_reply": "2022-05-07T17:32:46.431404Z"
    },
    "jupyter": {
     "source_hidden": true
    },
    "papermill": {
     "duration": 0.055413,
     "end_time": "2022-05-07T17:32:46.434951",
     "exception": false,
     "start_time": "2022-05-07T17:32:46.379538",
     "status": "completed"
    },
    "tags": [
     "remove_input"
    ]
   },
   "outputs": [],
   "source": [
    "def set_yaxis_range(df, y_col):\n",
    "    Y_MIN = df[y_col].min()\n",
    "    Y_MAX = df[y_col].max()\n",
    "    \n",
    "    return Y_MIN, Y_MAX\n",
    "\n",
    "# Rather than set it according to the operator, which can vary,\n",
    "# just use set thresholds for each group\n",
    "diff_cutoffs = {\n",
    "    \"short\": 20,\n",
    "    \"medium\": 30,\n",
    "    \"long\": 40,\n",
    "}\n",
    "\n",
    "PCT_TRIPS_BELOW_CUTOFF = 0.25\n",
    "\n",
    "def top15_routes(df, route_group):\n",
    "    df2 = (df[df.route_group==route_group])\n",
    "    # Set a cut-off to enable sorting, where most of the trips are \n",
    "    # below a certain time difference cut-off, \n",
    "    # grab top 15 routes where majority of trips are below that cut-off \n",
    "\n",
    "    route_cols = [\"calitp_itp_id\", \"route_id\"]\n",
    "\n",
    "    df2 = df2.assign(\n",
    "        below_cutoff = df2.apply(lambda x: 1 if x.bus_difference <= diff_cutoffs[route_group] \n",
    "                                 else 0, axis=1),\n",
    "        num_trips = df2.groupby(route_cols)[\"trip_id\"].transform(\"count\")\n",
    "    )\n",
    "\n",
    "    df2[\"below_cutoff\"] = df2.groupby(route_cols)[\"below_cutoff\"].transform(\"sum\")\n",
    "    df2[\"pct_below_cutoff\"] = df2.below_cutoff.divide(df2.num_trips)\n",
    "\n",
    "    # At least half the trips are below that cut-off\n",
    "    # but show 15 max, otherwise, show less, since these won't be as interesting to operators\n",
    "    df3 = (df2[df2.pct_below_cutoff >= PCT_TRIPS_BELOW_CUTOFF]\n",
    "           .sort_values([\"calitp_itp_id\", \"below_cutoff\", \n",
    "                         \"pct_below_cutoff\", \"route_id\"],\n",
    "                        ascending = [True, False, False, True]\n",
    "                       )\n",
    "           .drop_duplicates(subset=[\"calitp_itp_id\", \"route_id\"])\n",
    "          ).head(15)\n",
    "    \n",
    "    return list(df3.route_id)"
   ]
  },
  {
   "cell_type": "code",
   "execution_count": 10,
   "id": "cf36d559-3349-4144-8086-8ac9ce937a5a",
   "metadata": {
    "execution": {
     "iopub.execute_input": "2022-05-07T17:32:46.478015Z",
     "iopub.status.busy": "2022-05-07T17:32:46.477682Z",
     "iopub.status.idle": "2022-05-07T17:32:46.485611Z",
     "shell.execute_reply": "2022-05-07T17:32:46.484845Z"
    },
    "jupyter": {
     "source_hidden": true
    },
    "papermill": {
     "duration": 0.031691,
     "end_time": "2022-05-07T17:32:46.487963",
     "exception": false,
     "start_time": "2022-05-07T17:32:46.456272",
     "status": "completed"
    },
    "tags": [
     "remove_input"
    ]
   },
   "outputs": [],
   "source": [
    "short_caption = (\n",
    "    f\"<br>These are routes that have at least {int(PCT_TRIPS_BELOW_CUTOFF*100)}% of their trips \"\n",
    "    f\"take no more than an additional {diff_cutoffs['short']} min compared to a car \"\n",
    "    \"(up to 15 routes) are shown.\"\n",
    ")\n",
    "\n",
    "med_caption = (\n",
    "    f\"<br>These are routes that have at least {int(PCT_TRIPS_BELOW_CUTOFF*100)}% of their trips \"\n",
    "    f\"take no more than an additional {diff_cutoffs['medium']} min compared to a car \"\n",
    "    \"(up to 15 routes) are shown.\"\n",
    ")\n",
    "\n",
    "long_caption = (\n",
    "    f\"<br>These are routes that have at least {int(PCT_TRIPS_BELOW_CUTOFF*100)}% of their trips \"\n",
    "    f\"take no more than an additional {diff_cutoffs['long']} min compared to a car \"\n",
    "    \"(up to 15 routes) are shown.\")\n",
    "\n",
    "\n",
    "CAPTIONS_DICT = {\n",
    "    \"short\": short_caption,\n",
    "    \"medium\": med_caption,\n",
    "    \"long\": long_caption,\n",
    "}"
   ]
  },
  {
   "cell_type": "code",
   "execution_count": 11,
   "id": "e4306d58-6944-47e9-afef-5d5b524c751f",
   "metadata": {
    "execution": {
     "iopub.execute_input": "2022-05-07T17:32:46.520962Z",
     "iopub.status.busy": "2022-05-07T17:32:46.520659Z",
     "iopub.status.idle": "2022-05-07T17:32:46.527381Z",
     "shell.execute_reply": "2022-05-07T17:32:46.526614Z"
    },
    "jupyter": {
     "source_hidden": true
    },
    "papermill": {
     "duration": 0.023759,
     "end_time": "2022-05-07T17:32:46.529732",
     "exception": false,
     "start_time": "2022-05-07T17:32:46.505973",
     "status": "completed"
    },
    "tags": [
     "remove_input"
    ]
   },
   "outputs": [],
   "source": [
    "def setup_charts(df, PCT_COMPETITIVE_THRESHOLD, route_group):\n",
    "    # Set up df for charting (cut-off at some threshold to show most competitive routes)\n",
    "    plot_me = (df[df.pct_trips_competitive > PCT_COMPETITIVE_THRESHOLD]\n",
    "           .drop(columns = \"geometry\")\n",
    "    )\n",
    "    \n",
    "    y_col1 = \"bus_multiplier\"\n",
    "    Y_MIN1, Y_MAX1 = set_yaxis_range(plot_me, y_col1)\n",
    "\n",
    "    y_col2 = \"bus_difference\"\n",
    "    Y_MIN2, Y_MAX2 = set_yaxis_range(plot_me, y_col2)\n",
    "     \n",
    "    subset_routes = top15_routes(plot_me, route_group)\n",
    "    \n",
    "    multiplier_chart = parallel_corridors_utils.make_stripplot(\n",
    "        plot_me[plot_me.route_id.isin(subset_routes)], \n",
    "        y_col1, Y_MIN = Y_MIN1, Y_MAX = Y_MAX1\n",
    "    )\n",
    "    \n",
    "    difference_chart = parallel_corridors_utils.make_stripplot(\n",
    "        plot_me[plot_me.route_id.isin(subset_routes)], \n",
    "        y_col2, Y_MIN = Y_MIN2, Y_MAX = Y_MAX2\n",
    "    )\n",
    "    \n",
    "    return subset_routes, multiplier_chart, difference_chart            "
   ]
  },
  {
   "cell_type": "markdown",
   "id": "525f9b38-072b-46d1-96a8-1aa4b038357c",
   "metadata": {
    "papermill": {
     "duration": 0.011653,
     "end_time": "2022-05-07T17:32:46.552969",
     "exception": false,
     "start_time": "2022-05-07T17:32:46.541316",
     "status": "completed"
    },
    "tags": []
   },
   "source": [
    "## Viable Competitive Routes\n",
    "### Short Routes (< 1 hr)"
   ]
  },
  {
   "cell_type": "code",
   "execution_count": 12,
   "id": "57f7084c-2cf7-45c6-ba08-1609e0bd6ca5",
   "metadata": {
    "execution": {
     "iopub.execute_input": "2022-05-07T17:32:46.577797Z",
     "iopub.status.busy": "2022-05-07T17:32:46.577435Z",
     "iopub.status.idle": "2022-05-07T17:32:46.591856Z",
     "shell.execute_reply": "2022-05-07T17:32:46.591090Z"
    },
    "jupyter": {
     "source_hidden": true
    },
    "papermill": {
     "duration": 0.029629,
     "end_time": "2022-05-07T17:32:46.593745",
     "exception": false,
     "start_time": "2022-05-07T17:32:46.564116",
     "status": "completed"
    },
    "tags": [
     "remove_input"
    ]
   },
   "outputs": [
    {
     "name": "stdout",
     "output_type": "stream",
     "text": [
      "No routes meet this criteria.\n"
     ]
    }
   ],
   "source": [
    "# Allow for possibility that operator doesn't have routes that fall into certain route_groups\n",
    "# But, jupyterbook will not like markdown with f-string\n",
    "# separate out route_group and put in each cell, and use try/except + if to display...\n",
    "# but all 3 route groups must be displayed. just add sentence about why no routes were returned at the end\n",
    "route_group = \"short\"\n",
    "try:\n",
    "    subset_routes, mult, diff  = setup_charts(df, PCT_COMPETITIVE_THRESHOLD, route_group)\n",
    "    \n",
    "    if len(subset_routes) > 0:\n",
    "        display(\n",
    "            Markdown(\n",
    "                f\"{CAPTIONS_DICT[route_group]}\"\n",
    "                \"Within each route group, routes are sorted in descending order \"\n",
    "                \"by % competitive trips and # trips below the additional time cut-off.\"\n",
    "            )\n",
    "        )\n",
    "\n",
    "        display(mult)\n",
    "        display(diff)\n",
    "except:\n",
    "    print(\"No routes meet this criteria.\")"
   ]
  },
  {
   "cell_type": "markdown",
   "id": "c2931b6f-034d-4384-9e14-80b925e3b820",
   "metadata": {
    "papermill": {
     "duration": 0.014275,
     "end_time": "2022-05-07T17:32:46.619734",
     "exception": false,
     "start_time": "2022-05-07T17:32:46.605459",
     "status": "completed"
    },
    "tags": []
   },
   "source": [
    "### Medium Routes (1-1.5 hrs)"
   ]
  },
  {
   "cell_type": "code",
   "execution_count": 13,
   "id": "480edddc-4de0-48c2-ae4c-b0ceef8f28b5",
   "metadata": {
    "execution": {
     "iopub.execute_input": "2022-05-07T17:32:46.649103Z",
     "iopub.status.busy": "2022-05-07T17:32:46.648732Z",
     "iopub.status.idle": "2022-05-07T17:32:46.660869Z",
     "shell.execute_reply": "2022-05-07T17:32:46.659970Z"
    },
    "jupyter": {
     "source_hidden": true
    },
    "papermill": {
     "duration": 0.028546,
     "end_time": "2022-05-07T17:32:46.664094",
     "exception": false,
     "start_time": "2022-05-07T17:32:46.635548",
     "status": "completed"
    },
    "tags": [
     "remove_input"
    ]
   },
   "outputs": [
    {
     "name": "stdout",
     "output_type": "stream",
     "text": [
      "No routes meet this criteria.\n"
     ]
    }
   ],
   "source": [
    "route_group = \"medium\"\n",
    "try:\n",
    "    subset_routes, mult, diff  = setup_charts(df, PCT_COMPETITIVE_THRESHOLD, route_group)\n",
    "    if len(subset_routes) > 0:\n",
    "        display(\n",
    "            Markdown(\n",
    "                f\"{CAPTIONS_DICT[route_group]}\"\n",
    "                \"Within each route group, routes are sorted in descending order \"\n",
    "                \"by % competitive trips and # trips below the additional time cut-off.\"\n",
    "            )\n",
    "        )\n",
    "\n",
    "        display(mult)\n",
    "        display(diff)\n",
    "except:\n",
    "    print(\"No routes meet this criteria.\")"
   ]
  },
  {
   "cell_type": "markdown",
   "id": "124b76d0-886c-4d03-92ac-f1bda3cda182",
   "metadata": {
    "papermill": {
     "duration": 0.012784,
     "end_time": "2022-05-07T17:32:46.689654",
     "exception": false,
     "start_time": "2022-05-07T17:32:46.676870",
     "status": "completed"
    },
    "tags": []
   },
   "source": [
    "### Long Routes (> 1.5 hrs)"
   ]
  },
  {
   "cell_type": "code",
   "execution_count": 14,
   "id": "ddc81b19-4c45-4c81-8b7a-5e0f394aa7a3",
   "metadata": {
    "execution": {
     "iopub.execute_input": "2022-05-07T17:32:46.726528Z",
     "iopub.status.busy": "2022-05-07T17:32:46.726242Z",
     "iopub.status.idle": "2022-05-07T17:32:46.980060Z",
     "shell.execute_reply": "2022-05-07T17:32:46.979124Z"
    },
    "jupyter": {
     "source_hidden": true
    },
    "papermill": {
     "duration": 0.271011,
     "end_time": "2022-05-07T17:32:46.981944",
     "exception": false,
     "start_time": "2022-05-07T17:32:46.710933",
     "status": "completed"
    },
    "tags": [
     "remove_input"
    ]
   },
   "outputs": [
    {
     "data": {
      "text/markdown": [
       "<br>These are routes that have at least 25% of their trips take no more than an additional 40 min compared to a car (up to 15 routes) are shown.Within each route group, routes are sorted in descending order by % competitive trips and # trips below the additional time cut-off."
      ],
      "text/plain": [
       "<IPython.core.display.Markdown object>"
      ]
     },
     "metadata": {},
     "output_type": "display_data"
    },
    {
     "data": {
      "text/html": [
       "\n",
       "<div id=\"altair-viz-91ec4228e05b4943b76f2f845f799849\"></div>\n",
       "<script type=\"text/javascript\">\n",
       "  var VEGA_DEBUG = (typeof VEGA_DEBUG == \"undefined\") ? {} : VEGA_DEBUG;\n",
       "  (function(spec, embedOpt){\n",
       "    let outputDiv = document.currentScript.previousElementSibling;\n",
       "    if (outputDiv.id !== \"altair-viz-91ec4228e05b4943b76f2f845f799849\") {\n",
       "      outputDiv = document.getElementById(\"altair-viz-91ec4228e05b4943b76f2f845f799849\");\n",
       "    }\n",
       "    const paths = {\n",
       "      \"vega\": \"https://cdn.jsdelivr.net/npm//vega@5?noext\",\n",
       "      \"vega-lib\": \"https://cdn.jsdelivr.net/npm//vega-lib?noext\",\n",
       "      \"vega-lite\": \"https://cdn.jsdelivr.net/npm//vega-lite@4.17.0?noext\",\n",
       "      \"vega-embed\": \"https://cdn.jsdelivr.net/npm//vega-embed@6?noext\",\n",
       "    };\n",
       "\n",
       "    function maybeLoadScript(lib, version) {\n",
       "      var key = `${lib.replace(\"-\", \"\")}_version`;\n",
       "      return (VEGA_DEBUG[key] == version) ?\n",
       "        Promise.resolve(paths[lib]) :\n",
       "        new Promise(function(resolve, reject) {\n",
       "          var s = document.createElement('script');\n",
       "          document.getElementsByTagName(\"head\")[0].appendChild(s);\n",
       "          s.async = true;\n",
       "          s.onload = () => {\n",
       "            VEGA_DEBUG[key] = version;\n",
       "            return resolve(paths[lib]);\n",
       "          };\n",
       "          s.onerror = () => reject(`Error loading script: ${paths[lib]}`);\n",
       "          s.src = paths[lib];\n",
       "        });\n",
       "    }\n",
       "\n",
       "    function showError(err) {\n",
       "      outputDiv.innerHTML = `<div class=\"error\" style=\"color:red;\">${err}</div>`;\n",
       "      throw err;\n",
       "    }\n",
       "\n",
       "    function displayChart(vegaEmbed) {\n",
       "      vegaEmbed(outputDiv, spec, embedOpt)\n",
       "        .catch(err => showError(`Javascript Error: ${err.message}<br>This usually means there's a typo in your chart specification. See the javascript console for the full traceback.`));\n",
       "    }\n",
       "\n",
       "    if(typeof define === \"function\" && define.amd) {\n",
       "      requirejs.config({paths});\n",
       "      require([\"vega-embed\"], displayChart, err => showError(`Error loading script: ${err.message}`));\n",
       "    } else {\n",
       "      maybeLoadScript(\"vega\", \"5\")\n",
       "        .then(() => maybeLoadScript(\"vega-lite\", \"4.17.0\"))\n",
       "        .then(() => maybeLoadScript(\"vega-embed\", \"6\"))\n",
       "        .catch(showError)\n",
       "        .then(() => displayChart(vegaEmbed));\n",
       "    }\n",
       "  })({\"config\": {\"view\": {\"continuousWidth\": 400, \"continuousHeight\": 300, \"stroke\": null}, \"facet\": {\"spacing\": 0}}, \"data\": {\"name\": \"data-260720b9e53d9682d8d4e349b164e0b2\"}, \"facet\": {\"column\": {\"field\": \"route_id\", \"sort\": [\"16\"], \"title\": \"Route ID\", \"type\": \"nominal\"}}, \"spec\": {\"layer\": [{\"mark\": {\"type\": \"point\", \"opacity\": 0.65, \"size\": 12, \"strokeWidth\": 1.1}, \"encoding\": {\"color\": {\"field\": \"time_of_day\", \"scale\": {\"range\": [\"#136C97\", \"#E16B26\", \"#F6BF16\", \"#00896B\", \"#7790A3\", \"#5B559C\"]}, \"sort\": [\"AM Peak\", \"Midday\", \"PM Peak\", \"Owl Service\"], \"title\": \"Time of Day\", \"type\": \"nominal\"}, \"tooltip\": [{\"field\": \"route_id\", \"type\": \"nominal\"}, {\"field\": \"trip_id\", \"type\": \"nominal\"}, {\"field\": \"service_hours\", \"type\": \"quantitative\"}, {\"field\": \"car_duration_hours\", \"type\": \"quantitative\"}, {\"field\": \"bus_multiplier\", \"type\": \"quantitative\"}, {\"field\": \"bus_difference\", \"type\": \"quantitative\"}, {\"field\": \"num_trips\", \"type\": \"quantitative\"}, {\"field\": \"num_competitive\", \"type\": \"quantitative\"}, {\"field\": \"pct_trips_competitive\", \"type\": \"quantitative\"}, {\"field\": \"p25\", \"type\": \"quantitative\"}, {\"field\": \"p50\", \"type\": \"quantitative\"}, {\"field\": \"p75\", \"type\": \"quantitative\"}], \"x\": {\"axis\": {\"grid\": false, \"labels\": false, \"ticks\": true, \"values\": [0]}, \"field\": \"jitter\", \"scale\": {}, \"title\": null, \"type\": \"quantitative\"}, \"y\": {\"field\": \"bus_multiplier\", \"scale\": {\"domain\": [-0.25, 26.94]}, \"title\": \"Ratio of Bus to Car Travel Time\", \"type\": \"quantitative\"}}, \"selection\": {\"selector001\": {\"type\": \"interval\", \"bind\": \"scales\", \"encodings\": [\"x\", \"y\"]}}, \"transform\": [{\"calculate\": \"sqrt(-2*log(random()))*cos(2*PI*random())\", \"as\": \"jitter\"}], \"width\": 60}, {\"layer\": [{\"mark\": {\"type\": \"point\", \"opacity\": 0.6, \"size\": 20, \"strokeWidth\": 1.3}, \"encoding\": {\"color\": {\"value\": \"#323434\"}, \"y\": {\"field\": \"bus_multiplier\", \"type\": \"quantitative\"}}, \"transform\": [{\"filter\": \"(datum.p50_trip === 1)\"}]}, {\"mark\": {\"type\": \"rule\", \"strokeDash\": [2, 3]}, \"encoding\": {\"color\": {\"value\": \"#323434\"}, \"y\": {\"field\": \"cutoff\", \"type\": \"quantitative\"}}}, {\"mark\": {\"type\": \"text\", \"align\": \"center\", \"baseline\": \"middle\"}, \"encoding\": {\"color\": {\"value\": \"black\"}, \"text\": {\"field\": \"pct_trips_competitive\", \"format\": \".0%\", \"type\": \"quantitative\"}, \"tooltip\": [{\"field\": \"route_id\", \"type\": \"nominal\"}, {\"field\": \"trip_id\", \"type\": \"nominal\"}, {\"field\": \"service_hours\", \"type\": \"quantitative\"}, {\"field\": \"car_duration_hours\", \"type\": \"quantitative\"}, {\"field\": \"bus_multiplier\", \"type\": \"quantitative\"}, {\"field\": \"bus_difference\", \"type\": \"quantitative\"}, {\"field\": \"num_trips\", \"type\": \"quantitative\"}, {\"field\": \"num_competitive\", \"type\": \"quantitative\"}, {\"field\": \"pct_trips_competitive\", \"type\": \"quantitative\"}, {\"field\": \"p25\", \"type\": \"quantitative\"}, {\"field\": \"p50\", \"type\": \"quantitative\"}, {\"field\": \"p75\", \"type\": \"quantitative\"}], \"x\": {\"value\": 30}, \"y\": {\"value\": 15}}, \"transform\": [{\"calculate\": \"sqrt(-2*log(random()))*cos(2*PI*random())\", \"as\": \"jitter\"}, {\"filter\": \"(datum.fastest_trip === 1)\"}]}]}]}, \"resolve\": {\"scale\": {\"y\": \"shared\"}}, \"title\": \"Ratio of Bus to Car Travel Time\", \"$schema\": \"https://vega.github.io/schema/vega-lite/v4.17.0.json\", \"datasets\": {\"data-260720b9e53d9682d8d4e349b164e0b2\": [{\"calitp_itp_id\": 482, \"trip_key\": 2145124109685266677, \"trip_id\": \"83\", \"shape_id\": \"16\", \"route_id\": \"16\", \"service_hours\": 0.93, \"trip_first_departure_ts\": 27000, \"trip_last_arrival_ts\": 30360, \"departure_hour\": 7, \"time_of_day\": \"AM Peak\", \"p25\": 0.93, \"p50\": 0.93, \"p75\": 0.93, \"p50_trip\": 1, \"fastest_trip\": 0, \"car_duration_hours\": 0.48, \"competitive_route\": 1, \"bus_multiplier\": 1.94, \"bus_difference\": 27.0, \"num_trips\": 12, \"num_competitive\": 11, \"pct_trips_competitive\": 0.917, \"bus_difference_spread\": 720.0, \"route_group\": \"long\", \"max_trip_hrs\": 12.93, \"max_trip_route_group\": 12.93, \"name\": \"Tuolumne County Transit Agency\", \"caltrans_district\": \"10 - Stockton\", \"drmt_organization_name\": \"['recl7fHqYd2GSTtn3']\", \"cutoff2\": 193.95, \"cutoff\": 2}, {\"calitp_itp_id\": 482, \"trip_key\": -1666101624449243044, \"trip_id\": \"84\", \"shape_id\": \"16\", \"route_id\": \"16\", \"service_hours\": 0.93, \"trip_first_departure_ts\": 30600, \"trip_last_arrival_ts\": 33960, \"departure_hour\": 8, \"time_of_day\": \"AM Peak\", \"p25\": 0.93, \"p50\": 0.93, \"p75\": 0.93, \"p50_trip\": 1, \"fastest_trip\": 0, \"car_duration_hours\": 0.48, \"competitive_route\": 1, \"bus_multiplier\": 1.94, \"bus_difference\": 27.0, \"num_trips\": 12, \"num_competitive\": 11, \"pct_trips_competitive\": 0.917, \"bus_difference_spread\": 720.0, \"route_group\": \"long\", \"max_trip_hrs\": 12.93, \"max_trip_route_group\": 12.93, \"name\": \"Tuolumne County Transit Agency\", \"caltrans_district\": \"10 - Stockton\", \"drmt_organization_name\": \"['recl7fHqYd2GSTtn3']\", \"cutoff2\": 193.95, \"cutoff\": 2}, {\"calitp_itp_id\": 482, \"trip_key\": -811955265033482998, \"trip_id\": \"93\", \"shape_id\": \"16\", \"route_id\": \"16\", \"service_hours\": 0.93, \"trip_first_departure_ts\": 106200, \"trip_last_arrival_ts\": 109560, \"departure_hour\": 5, \"time_of_day\": \"Owl Service\", \"p25\": 0.93, \"p50\": 0.93, \"p75\": 0.93, \"p50_trip\": 1, \"fastest_trip\": 0, \"car_duration_hours\": 0.48, \"competitive_route\": 1, \"bus_multiplier\": 1.94, \"bus_difference\": 27.0, \"num_trips\": 12, \"num_competitive\": 11, \"pct_trips_competitive\": 0.917, \"bus_difference_spread\": 720.0, \"route_group\": \"long\", \"max_trip_hrs\": 12.93, \"max_trip_route_group\": 12.93, \"name\": \"Tuolumne County Transit Agency\", \"caltrans_district\": \"10 - Stockton\", \"drmt_organization_name\": \"['recl7fHqYd2GSTtn3']\", \"cutoff2\": 193.95, \"cutoff\": 2}, {\"calitp_itp_id\": 482, \"trip_key\": -7629486483351359896, \"trip_id\": \"90\", \"shape_id\": \"16\", \"route_id\": \"16\", \"service_hours\": 0.93, \"trip_first_departure_ts\": 95400, \"trip_last_arrival_ts\": 98760, \"departure_hour\": 2, \"time_of_day\": \"Owl Service\", \"p25\": 0.93, \"p50\": 0.93, \"p75\": 0.93, \"p50_trip\": 1, \"fastest_trip\": 0, \"car_duration_hours\": 0.48, \"competitive_route\": 1, \"bus_multiplier\": 1.94, \"bus_difference\": 27.0, \"num_trips\": 12, \"num_competitive\": 11, \"pct_trips_competitive\": 0.917, \"bus_difference_spread\": 720.0, \"route_group\": \"long\", \"max_trip_hrs\": 12.93, \"max_trip_route_group\": 12.93, \"name\": \"Tuolumne County Transit Agency\", \"caltrans_district\": \"10 - Stockton\", \"drmt_organization_name\": \"['recl7fHqYd2GSTtn3']\", \"cutoff2\": 193.95, \"cutoff\": 2}, {\"calitp_itp_id\": 482, \"trip_key\": -3718860337871589477, \"trip_id\": \"85\", \"shape_id\": \"16\", \"route_id\": \"16\", \"service_hours\": 0.93, \"trip_first_departure_ts\": 34200, \"trip_last_arrival_ts\": 37560, \"departure_hour\": 9, \"time_of_day\": \"AM Peak\", \"p25\": 0.93, \"p50\": 0.93, \"p75\": 0.93, \"p50_trip\": 1, \"fastest_trip\": 0, \"car_duration_hours\": 0.48, \"competitive_route\": 1, \"bus_multiplier\": 1.94, \"bus_difference\": 27.0, \"num_trips\": 12, \"num_competitive\": 11, \"pct_trips_competitive\": 0.917, \"bus_difference_spread\": 720.0, \"route_group\": \"long\", \"max_trip_hrs\": 12.93, \"max_trip_route_group\": 12.93, \"name\": \"Tuolumne County Transit Agency\", \"caltrans_district\": \"10 - Stockton\", \"drmt_organization_name\": \"['recl7fHqYd2GSTtn3']\", \"cutoff2\": 193.95, \"cutoff\": 2}, {\"calitp_itp_id\": 482, \"trip_key\": 4134191413769255642, \"trip_id\": \"87\", \"shape_id\": \"16\", \"route_id\": \"16\", \"service_hours\": 0.93, \"trip_first_departure_ts\": 41400, \"trip_last_arrival_ts\": 44760, \"departure_hour\": 11, \"time_of_day\": \"Midday\", \"p25\": 0.93, \"p50\": 0.93, \"p75\": 0.93, \"p50_trip\": 1, \"fastest_trip\": 1, \"car_duration_hours\": 0.48, \"competitive_route\": 1, \"bus_multiplier\": 1.94, \"bus_difference\": 27.0, \"num_trips\": 12, \"num_competitive\": 11, \"pct_trips_competitive\": 0.917, \"bus_difference_spread\": 720.0, \"route_group\": \"long\", \"max_trip_hrs\": 12.93, \"max_trip_route_group\": 12.93, \"name\": \"Tuolumne County Transit Agency\", \"caltrans_district\": \"10 - Stockton\", \"drmt_organization_name\": \"['recl7fHqYd2GSTtn3']\", \"cutoff2\": 193.95, \"cutoff\": 2}, {\"calitp_itp_id\": 482, \"trip_key\": 4010574854795830805, \"trip_id\": \"89\", \"shape_id\": \"16\", \"route_id\": \"16\", \"service_hours\": 0.93, \"trip_first_departure_ts\": 91800, \"trip_last_arrival_ts\": 95160, \"departure_hour\": 1, \"time_of_day\": \"Owl Service\", \"p25\": 0.93, \"p50\": 0.93, \"p75\": 0.93, \"p50_trip\": 1, \"fastest_trip\": 0, \"car_duration_hours\": 0.48, \"competitive_route\": 1, \"bus_multiplier\": 1.94, \"bus_difference\": 27.0, \"num_trips\": 12, \"num_competitive\": 11, \"pct_trips_competitive\": 0.917, \"bus_difference_spread\": 720.0, \"route_group\": \"long\", \"max_trip_hrs\": 12.93, \"max_trip_route_group\": 12.93, \"name\": \"Tuolumne County Transit Agency\", \"caltrans_district\": \"10 - Stockton\", \"drmt_organization_name\": \"['recl7fHqYd2GSTtn3']\", \"cutoff2\": 193.95, \"cutoff\": 2}, {\"calitp_itp_id\": 482, \"trip_key\": -428294178438464651, \"trip_id\": \"86\", \"shape_id\": \"16\", \"route_id\": \"16\", \"service_hours\": 0.93, \"trip_first_departure_ts\": 37800, \"trip_last_arrival_ts\": 41160, \"departure_hour\": 10, \"time_of_day\": \"Midday\", \"p25\": 0.93, \"p50\": 0.93, \"p75\": 0.93, \"p50_trip\": 1, \"fastest_trip\": 0, \"car_duration_hours\": 0.48, \"competitive_route\": 1, \"bus_multiplier\": 1.94, \"bus_difference\": 27.0, \"num_trips\": 12, \"num_competitive\": 11, \"pct_trips_competitive\": 0.917, \"bus_difference_spread\": 720.0, \"route_group\": \"long\", \"max_trip_hrs\": 12.93, \"max_trip_route_group\": 12.93, \"name\": \"Tuolumne County Transit Agency\", \"caltrans_district\": \"10 - Stockton\", \"drmt_organization_name\": \"['recl7fHqYd2GSTtn3']\", \"cutoff2\": 193.95, \"cutoff\": 2}, {\"calitp_itp_id\": 482, \"trip_key\": 444715570233316546, \"trip_id\": \"91\", \"shape_id\": \"16\", \"route_id\": \"16\", \"service_hours\": 0.93, \"trip_first_departure_ts\": 99000, \"trip_last_arrival_ts\": 102360, \"departure_hour\": 3, \"time_of_day\": \"Owl Service\", \"p25\": 0.93, \"p50\": 0.93, \"p75\": 0.93, \"p50_trip\": 1, \"fastest_trip\": 0, \"car_duration_hours\": 0.48, \"competitive_route\": 1, \"bus_multiplier\": 1.94, \"bus_difference\": 27.0, \"num_trips\": 12, \"num_competitive\": 11, \"pct_trips_competitive\": 0.917, \"bus_difference_spread\": 720.0, \"route_group\": \"long\", \"max_trip_hrs\": 12.93, \"max_trip_route_group\": 12.93, \"name\": \"Tuolumne County Transit Agency\", \"caltrans_district\": \"10 - Stockton\", \"drmt_organization_name\": \"['recl7fHqYd2GSTtn3']\", \"cutoff2\": 193.95, \"cutoff\": 2}, {\"calitp_itp_id\": 482, \"trip_key\": -3941352894702572126, \"trip_id\": \"92\", \"shape_id\": \"16\", \"route_id\": \"16\", \"service_hours\": 0.93, \"trip_first_departure_ts\": 102600, \"trip_last_arrival_ts\": 105960, \"departure_hour\": 4, \"time_of_day\": \"Owl Service\", \"p25\": 0.93, \"p50\": 0.93, \"p75\": 0.93, \"p50_trip\": 1, \"fastest_trip\": 0, \"car_duration_hours\": 0.48, \"competitive_route\": 1, \"bus_multiplier\": 1.94, \"bus_difference\": 27.0, \"num_trips\": 12, \"num_competitive\": 11, \"pct_trips_competitive\": 0.917, \"bus_difference_spread\": 720.0, \"route_group\": \"long\", \"max_trip_hrs\": 12.93, \"max_trip_route_group\": 12.93, \"name\": \"Tuolumne County Transit Agency\", \"caltrans_district\": \"10 - Stockton\", \"drmt_organization_name\": \"['recl7fHqYd2GSTtn3']\", \"cutoff2\": 193.95, \"cutoff\": 2}, {\"calitp_itp_id\": 482, \"trip_key\": 437802656543614001, \"trip_id\": \"94\", \"shape_id\": \"16\", \"route_id\": \"16\", \"service_hours\": 0.93, \"trip_first_departure_ts\": 109800, \"trip_last_arrival_ts\": 113160, \"departure_hour\": 6, \"time_of_day\": \"Owl Service\", \"p25\": 0.93, \"p50\": 0.93, \"p75\": 0.93, \"p50_trip\": 1, \"fastest_trip\": 0, \"car_duration_hours\": 0.48, \"competitive_route\": 1, \"bus_multiplier\": 1.94, \"bus_difference\": 27.0, \"num_trips\": 12, \"num_competitive\": 11, \"pct_trips_competitive\": 0.917, \"bus_difference_spread\": 720.0, \"route_group\": \"long\", \"max_trip_hrs\": 12.93, \"max_trip_route_group\": 12.93, \"name\": \"Tuolumne County Transit Agency\", \"caltrans_district\": \"10 - Stockton\", \"drmt_organization_name\": \"['recl7fHqYd2GSTtn3']\", \"cutoff2\": 193.95, \"cutoff\": 2}, {\"calitp_itp_id\": 482, \"trip_key\": -4103005086418910727, \"trip_id\": \"88\", \"shape_id\": \"16\", \"route_id\": \"16\", \"service_hours\": 12.93, \"trip_first_departure_ts\": 45000, \"trip_last_arrival_ts\": 91560, \"departure_hour\": 12, \"time_of_day\": \"Midday\", \"p25\": 0.93, \"p50\": 0.93, \"p75\": 0.93, \"p50_trip\": 0, \"fastest_trip\": 0, \"car_duration_hours\": 0.48, \"competitive_route\": 1, \"bus_multiplier\": 26.94, \"bus_difference\": 747.0, \"num_trips\": 12, \"num_competitive\": 11, \"pct_trips_competitive\": 0.917, \"bus_difference_spread\": 720.0, \"route_group\": \"long\", \"max_trip_hrs\": 12.93, \"max_trip_route_group\": 12.93, \"name\": \"Tuolumne County Transit Agency\", \"caltrans_district\": \"10 - Stockton\", \"drmt_organization_name\": \"['recl7fHqYd2GSTtn3']\", \"cutoff2\": 193.95, \"cutoff\": 2}]}}, {\"mode\": \"vega-lite\"});\n",
       "</script>"
      ],
      "text/plain": [
       "alt.FacetChart(...)"
      ]
     },
     "metadata": {},
     "output_type": "display_data"
    },
    {
     "data": {
      "text/html": [
       "\n",
       "<div id=\"altair-viz-d90372344aaa42d7a49c4a9234c391c3\"></div>\n",
       "<script type=\"text/javascript\">\n",
       "  var VEGA_DEBUG = (typeof VEGA_DEBUG == \"undefined\") ? {} : VEGA_DEBUG;\n",
       "  (function(spec, embedOpt){\n",
       "    let outputDiv = document.currentScript.previousElementSibling;\n",
       "    if (outputDiv.id !== \"altair-viz-d90372344aaa42d7a49c4a9234c391c3\") {\n",
       "      outputDiv = document.getElementById(\"altair-viz-d90372344aaa42d7a49c4a9234c391c3\");\n",
       "    }\n",
       "    const paths = {\n",
       "      \"vega\": \"https://cdn.jsdelivr.net/npm//vega@5?noext\",\n",
       "      \"vega-lib\": \"https://cdn.jsdelivr.net/npm//vega-lib?noext\",\n",
       "      \"vega-lite\": \"https://cdn.jsdelivr.net/npm//vega-lite@4.17.0?noext\",\n",
       "      \"vega-embed\": \"https://cdn.jsdelivr.net/npm//vega-embed@6?noext\",\n",
       "    };\n",
       "\n",
       "    function maybeLoadScript(lib, version) {\n",
       "      var key = `${lib.replace(\"-\", \"\")}_version`;\n",
       "      return (VEGA_DEBUG[key] == version) ?\n",
       "        Promise.resolve(paths[lib]) :\n",
       "        new Promise(function(resolve, reject) {\n",
       "          var s = document.createElement('script');\n",
       "          document.getElementsByTagName(\"head\")[0].appendChild(s);\n",
       "          s.async = true;\n",
       "          s.onload = () => {\n",
       "            VEGA_DEBUG[key] = version;\n",
       "            return resolve(paths[lib]);\n",
       "          };\n",
       "          s.onerror = () => reject(`Error loading script: ${paths[lib]}`);\n",
       "          s.src = paths[lib];\n",
       "        });\n",
       "    }\n",
       "\n",
       "    function showError(err) {\n",
       "      outputDiv.innerHTML = `<div class=\"error\" style=\"color:red;\">${err}</div>`;\n",
       "      throw err;\n",
       "    }\n",
       "\n",
       "    function displayChart(vegaEmbed) {\n",
       "      vegaEmbed(outputDiv, spec, embedOpt)\n",
       "        .catch(err => showError(`Javascript Error: ${err.message}<br>This usually means there's a typo in your chart specification. See the javascript console for the full traceback.`));\n",
       "    }\n",
       "\n",
       "    if(typeof define === \"function\" && define.amd) {\n",
       "      requirejs.config({paths});\n",
       "      require([\"vega-embed\"], displayChart, err => showError(`Error loading script: ${err.message}`));\n",
       "    } else {\n",
       "      maybeLoadScript(\"vega\", \"5\")\n",
       "        .then(() => maybeLoadScript(\"vega-lite\", \"4.17.0\"))\n",
       "        .then(() => maybeLoadScript(\"vega-embed\", \"6\"))\n",
       "        .catch(showError)\n",
       "        .then(() => displayChart(vegaEmbed));\n",
       "    }\n",
       "  })({\"config\": {\"view\": {\"continuousWidth\": 400, \"continuousHeight\": 300, \"stroke\": null}, \"facet\": {\"spacing\": 0}}, \"data\": {\"name\": \"data-b233897b1b44f90f4ed5b1ae9465feed\"}, \"facet\": {\"column\": {\"field\": \"route_id\", \"sort\": [\"16\"], \"title\": \"Route ID\", \"type\": \"nominal\"}}, \"spec\": {\"layer\": [{\"mark\": {\"type\": \"point\", \"opacity\": 0.65, \"size\": 12, \"strokeWidth\": 1.1}, \"encoding\": {\"color\": {\"field\": \"time_of_day\", \"scale\": {\"range\": [\"#136C97\", \"#E16B26\", \"#F6BF16\", \"#00896B\", \"#7790A3\", \"#5B559C\"]}, \"sort\": [\"AM Peak\", \"Midday\", \"PM Peak\", \"Owl Service\"], \"title\": \"Time of Day\", \"type\": \"nominal\"}, \"tooltip\": [{\"field\": \"route_id\", \"type\": \"nominal\"}, {\"field\": \"trip_id\", \"type\": \"nominal\"}, {\"field\": \"service_hours\", \"type\": \"quantitative\"}, {\"field\": \"car_duration_hours\", \"type\": \"quantitative\"}, {\"field\": \"bus_multiplier\", \"type\": \"quantitative\"}, {\"field\": \"bus_difference\", \"type\": \"quantitative\"}, {\"field\": \"num_trips\", \"type\": \"quantitative\"}, {\"field\": \"num_competitive\", \"type\": \"quantitative\"}, {\"field\": \"pct_trips_competitive\", \"type\": \"quantitative\"}, {\"field\": \"p25\", \"type\": \"quantitative\"}, {\"field\": \"p50\", \"type\": \"quantitative\"}, {\"field\": \"p75\", \"type\": \"quantitative\"}], \"x\": {\"axis\": {\"grid\": false, \"labels\": false, \"ticks\": true, \"values\": [0]}, \"field\": \"jitter\", \"scale\": {}, \"title\": null, \"type\": \"quantitative\"}, \"y\": {\"field\": \"bus_difference\", \"scale\": {\"domain\": [-5, 747.0]}, \"title\": \"Difference in Bus to Car Travel Time (min)\", \"type\": \"quantitative\"}}, \"selection\": {\"selector002\": {\"type\": \"interval\", \"bind\": \"scales\", \"encodings\": [\"x\", \"y\"]}}, \"transform\": [{\"calculate\": \"sqrt(-2*log(random()))*cos(2*PI*random())\", \"as\": \"jitter\"}], \"width\": 60}, {\"layer\": [{\"mark\": {\"type\": \"point\", \"opacity\": 0.6, \"size\": 20, \"strokeWidth\": 1.3}, \"encoding\": {\"color\": {\"value\": \"#323434\"}, \"y\": {\"field\": \"bus_difference\", \"type\": \"quantitative\"}}, \"transform\": [{\"filter\": \"(datum.p50_trip === 1)\"}]}, {\"mark\": {\"type\": \"rule\", \"strokeDash\": [2, 3]}, \"encoding\": {\"color\": {\"value\": \"#323434\"}, \"y\": {\"field\": \"cutoff\", \"type\": \"quantitative\"}}}, {\"mark\": {\"type\": \"rule\", \"strokeDash\": [2, 3]}, \"encoding\": {\"color\": {\"value\": \"#136C97\"}, \"y\": {\"field\": \"cutoff2\", \"type\": \"quantitative\"}}}, {\"mark\": {\"type\": \"text\", \"align\": \"center\", \"baseline\": \"middle\"}, \"encoding\": {\"color\": {\"value\": \"black\"}, \"text\": {\"field\": \"pct_trips_competitive\", \"format\": \".0%\", \"type\": \"quantitative\"}, \"tooltip\": [{\"field\": \"route_id\", \"type\": \"nominal\"}, {\"field\": \"trip_id\", \"type\": \"nominal\"}, {\"field\": \"service_hours\", \"type\": \"quantitative\"}, {\"field\": \"car_duration_hours\", \"type\": \"quantitative\"}, {\"field\": \"bus_multiplier\", \"type\": \"quantitative\"}, {\"field\": \"bus_difference\", \"type\": \"quantitative\"}, {\"field\": \"num_trips\", \"type\": \"quantitative\"}, {\"field\": \"num_competitive\", \"type\": \"quantitative\"}, {\"field\": \"pct_trips_competitive\", \"type\": \"quantitative\"}, {\"field\": \"p25\", \"type\": \"quantitative\"}, {\"field\": \"p50\", \"type\": \"quantitative\"}, {\"field\": \"p75\", \"type\": \"quantitative\"}], \"x\": {\"value\": 30}, \"y\": {\"value\": 15}}, \"transform\": [{\"calculate\": \"sqrt(-2*log(random()))*cos(2*PI*random())\", \"as\": \"jitter\"}, {\"filter\": \"(datum.fastest_trip === 1)\"}]}]}]}, \"resolve\": {\"scale\": {\"y\": \"shared\"}}, \"title\": \"Difference in Bus to Car Travel Time (min)\", \"$schema\": \"https://vega.github.io/schema/vega-lite/v4.17.0.json\", \"datasets\": {\"data-b233897b1b44f90f4ed5b1ae9465feed\": [{\"calitp_itp_id\": 482, \"trip_key\": 2145124109685266677, \"trip_id\": \"83\", \"shape_id\": \"16\", \"route_id\": \"16\", \"service_hours\": 0.93, \"trip_first_departure_ts\": 27000, \"trip_last_arrival_ts\": 30360, \"departure_hour\": 7, \"time_of_day\": \"AM Peak\", \"p25\": 0.93, \"p50\": 0.93, \"p75\": 0.93, \"p50_trip\": 1, \"fastest_trip\": 0, \"car_duration_hours\": 0.48, \"competitive_route\": 1, \"bus_multiplier\": 1.94, \"bus_difference\": 27.0, \"num_trips\": 12, \"num_competitive\": 11, \"pct_trips_competitive\": 0.917, \"bus_difference_spread\": 720.0, \"route_group\": \"long\", \"max_trip_hrs\": 12.93, \"max_trip_route_group\": 12.93, \"name\": \"Tuolumne County Transit Agency\", \"caltrans_district\": \"10 - Stockton\", \"drmt_organization_name\": \"['recl7fHqYd2GSTtn3']\", \"cutoff2\": 193.95, \"cutoff\": 0}, {\"calitp_itp_id\": 482, \"trip_key\": -1666101624449243044, \"trip_id\": \"84\", \"shape_id\": \"16\", \"route_id\": \"16\", \"service_hours\": 0.93, \"trip_first_departure_ts\": 30600, \"trip_last_arrival_ts\": 33960, \"departure_hour\": 8, \"time_of_day\": \"AM Peak\", \"p25\": 0.93, \"p50\": 0.93, \"p75\": 0.93, \"p50_trip\": 1, \"fastest_trip\": 0, \"car_duration_hours\": 0.48, \"competitive_route\": 1, \"bus_multiplier\": 1.94, \"bus_difference\": 27.0, \"num_trips\": 12, \"num_competitive\": 11, \"pct_trips_competitive\": 0.917, \"bus_difference_spread\": 720.0, \"route_group\": \"long\", \"max_trip_hrs\": 12.93, \"max_trip_route_group\": 12.93, \"name\": \"Tuolumne County Transit Agency\", \"caltrans_district\": \"10 - Stockton\", \"drmt_organization_name\": \"['recl7fHqYd2GSTtn3']\", \"cutoff2\": 193.95, \"cutoff\": 0}, {\"calitp_itp_id\": 482, \"trip_key\": -811955265033482998, \"trip_id\": \"93\", \"shape_id\": \"16\", \"route_id\": \"16\", \"service_hours\": 0.93, \"trip_first_departure_ts\": 106200, \"trip_last_arrival_ts\": 109560, \"departure_hour\": 5, \"time_of_day\": \"Owl Service\", \"p25\": 0.93, \"p50\": 0.93, \"p75\": 0.93, \"p50_trip\": 1, \"fastest_trip\": 0, \"car_duration_hours\": 0.48, \"competitive_route\": 1, \"bus_multiplier\": 1.94, \"bus_difference\": 27.0, \"num_trips\": 12, \"num_competitive\": 11, \"pct_trips_competitive\": 0.917, \"bus_difference_spread\": 720.0, \"route_group\": \"long\", \"max_trip_hrs\": 12.93, \"max_trip_route_group\": 12.93, \"name\": \"Tuolumne County Transit Agency\", \"caltrans_district\": \"10 - Stockton\", \"drmt_organization_name\": \"['recl7fHqYd2GSTtn3']\", \"cutoff2\": 193.95, \"cutoff\": 0}, {\"calitp_itp_id\": 482, \"trip_key\": -7629486483351359896, \"trip_id\": \"90\", \"shape_id\": \"16\", \"route_id\": \"16\", \"service_hours\": 0.93, \"trip_first_departure_ts\": 95400, \"trip_last_arrival_ts\": 98760, \"departure_hour\": 2, \"time_of_day\": \"Owl Service\", \"p25\": 0.93, \"p50\": 0.93, \"p75\": 0.93, \"p50_trip\": 1, \"fastest_trip\": 0, \"car_duration_hours\": 0.48, \"competitive_route\": 1, \"bus_multiplier\": 1.94, \"bus_difference\": 27.0, \"num_trips\": 12, \"num_competitive\": 11, \"pct_trips_competitive\": 0.917, \"bus_difference_spread\": 720.0, \"route_group\": \"long\", \"max_trip_hrs\": 12.93, \"max_trip_route_group\": 12.93, \"name\": \"Tuolumne County Transit Agency\", \"caltrans_district\": \"10 - Stockton\", \"drmt_organization_name\": \"['recl7fHqYd2GSTtn3']\", \"cutoff2\": 193.95, \"cutoff\": 0}, {\"calitp_itp_id\": 482, \"trip_key\": -3718860337871589477, \"trip_id\": \"85\", \"shape_id\": \"16\", \"route_id\": \"16\", \"service_hours\": 0.93, \"trip_first_departure_ts\": 34200, \"trip_last_arrival_ts\": 37560, \"departure_hour\": 9, \"time_of_day\": \"AM Peak\", \"p25\": 0.93, \"p50\": 0.93, \"p75\": 0.93, \"p50_trip\": 1, \"fastest_trip\": 0, \"car_duration_hours\": 0.48, \"competitive_route\": 1, \"bus_multiplier\": 1.94, \"bus_difference\": 27.0, \"num_trips\": 12, \"num_competitive\": 11, \"pct_trips_competitive\": 0.917, \"bus_difference_spread\": 720.0, \"route_group\": \"long\", \"max_trip_hrs\": 12.93, \"max_trip_route_group\": 12.93, \"name\": \"Tuolumne County Transit Agency\", \"caltrans_district\": \"10 - Stockton\", \"drmt_organization_name\": \"['recl7fHqYd2GSTtn3']\", \"cutoff2\": 193.95, \"cutoff\": 0}, {\"calitp_itp_id\": 482, \"trip_key\": 4134191413769255642, \"trip_id\": \"87\", \"shape_id\": \"16\", \"route_id\": \"16\", \"service_hours\": 0.93, \"trip_first_departure_ts\": 41400, \"trip_last_arrival_ts\": 44760, \"departure_hour\": 11, \"time_of_day\": \"Midday\", \"p25\": 0.93, \"p50\": 0.93, \"p75\": 0.93, \"p50_trip\": 1, \"fastest_trip\": 1, \"car_duration_hours\": 0.48, \"competitive_route\": 1, \"bus_multiplier\": 1.94, \"bus_difference\": 27.0, \"num_trips\": 12, \"num_competitive\": 11, \"pct_trips_competitive\": 0.917, \"bus_difference_spread\": 720.0, \"route_group\": \"long\", \"max_trip_hrs\": 12.93, \"max_trip_route_group\": 12.93, \"name\": \"Tuolumne County Transit Agency\", \"caltrans_district\": \"10 - Stockton\", \"drmt_organization_name\": \"['recl7fHqYd2GSTtn3']\", \"cutoff2\": 193.95, \"cutoff\": 0}, {\"calitp_itp_id\": 482, \"trip_key\": 4010574854795830805, \"trip_id\": \"89\", \"shape_id\": \"16\", \"route_id\": \"16\", \"service_hours\": 0.93, \"trip_first_departure_ts\": 91800, \"trip_last_arrival_ts\": 95160, \"departure_hour\": 1, \"time_of_day\": \"Owl Service\", \"p25\": 0.93, \"p50\": 0.93, \"p75\": 0.93, \"p50_trip\": 1, \"fastest_trip\": 0, \"car_duration_hours\": 0.48, \"competitive_route\": 1, \"bus_multiplier\": 1.94, \"bus_difference\": 27.0, \"num_trips\": 12, \"num_competitive\": 11, \"pct_trips_competitive\": 0.917, \"bus_difference_spread\": 720.0, \"route_group\": \"long\", \"max_trip_hrs\": 12.93, \"max_trip_route_group\": 12.93, \"name\": \"Tuolumne County Transit Agency\", \"caltrans_district\": \"10 - Stockton\", \"drmt_organization_name\": \"['recl7fHqYd2GSTtn3']\", \"cutoff2\": 193.95, \"cutoff\": 0}, {\"calitp_itp_id\": 482, \"trip_key\": -428294178438464651, \"trip_id\": \"86\", \"shape_id\": \"16\", \"route_id\": \"16\", \"service_hours\": 0.93, \"trip_first_departure_ts\": 37800, \"trip_last_arrival_ts\": 41160, \"departure_hour\": 10, \"time_of_day\": \"Midday\", \"p25\": 0.93, \"p50\": 0.93, \"p75\": 0.93, \"p50_trip\": 1, \"fastest_trip\": 0, \"car_duration_hours\": 0.48, \"competitive_route\": 1, \"bus_multiplier\": 1.94, \"bus_difference\": 27.0, \"num_trips\": 12, \"num_competitive\": 11, \"pct_trips_competitive\": 0.917, \"bus_difference_spread\": 720.0, \"route_group\": \"long\", \"max_trip_hrs\": 12.93, \"max_trip_route_group\": 12.93, \"name\": \"Tuolumne County Transit Agency\", \"caltrans_district\": \"10 - Stockton\", \"drmt_organization_name\": \"['recl7fHqYd2GSTtn3']\", \"cutoff2\": 193.95, \"cutoff\": 0}, {\"calitp_itp_id\": 482, \"trip_key\": 444715570233316546, \"trip_id\": \"91\", \"shape_id\": \"16\", \"route_id\": \"16\", \"service_hours\": 0.93, \"trip_first_departure_ts\": 99000, \"trip_last_arrival_ts\": 102360, \"departure_hour\": 3, \"time_of_day\": \"Owl Service\", \"p25\": 0.93, \"p50\": 0.93, \"p75\": 0.93, \"p50_trip\": 1, \"fastest_trip\": 0, \"car_duration_hours\": 0.48, \"competitive_route\": 1, \"bus_multiplier\": 1.94, \"bus_difference\": 27.0, \"num_trips\": 12, \"num_competitive\": 11, \"pct_trips_competitive\": 0.917, \"bus_difference_spread\": 720.0, \"route_group\": \"long\", \"max_trip_hrs\": 12.93, \"max_trip_route_group\": 12.93, \"name\": \"Tuolumne County Transit Agency\", \"caltrans_district\": \"10 - Stockton\", \"drmt_organization_name\": \"['recl7fHqYd2GSTtn3']\", \"cutoff2\": 193.95, \"cutoff\": 0}, {\"calitp_itp_id\": 482, \"trip_key\": -3941352894702572126, \"trip_id\": \"92\", \"shape_id\": \"16\", \"route_id\": \"16\", \"service_hours\": 0.93, \"trip_first_departure_ts\": 102600, \"trip_last_arrival_ts\": 105960, \"departure_hour\": 4, \"time_of_day\": \"Owl Service\", \"p25\": 0.93, \"p50\": 0.93, \"p75\": 0.93, \"p50_trip\": 1, \"fastest_trip\": 0, \"car_duration_hours\": 0.48, \"competitive_route\": 1, \"bus_multiplier\": 1.94, \"bus_difference\": 27.0, \"num_trips\": 12, \"num_competitive\": 11, \"pct_trips_competitive\": 0.917, \"bus_difference_spread\": 720.0, \"route_group\": \"long\", \"max_trip_hrs\": 12.93, \"max_trip_route_group\": 12.93, \"name\": \"Tuolumne County Transit Agency\", \"caltrans_district\": \"10 - Stockton\", \"drmt_organization_name\": \"['recl7fHqYd2GSTtn3']\", \"cutoff2\": 193.95, \"cutoff\": 0}, {\"calitp_itp_id\": 482, \"trip_key\": 437802656543614001, \"trip_id\": \"94\", \"shape_id\": \"16\", \"route_id\": \"16\", \"service_hours\": 0.93, \"trip_first_departure_ts\": 109800, \"trip_last_arrival_ts\": 113160, \"departure_hour\": 6, \"time_of_day\": \"Owl Service\", \"p25\": 0.93, \"p50\": 0.93, \"p75\": 0.93, \"p50_trip\": 1, \"fastest_trip\": 0, \"car_duration_hours\": 0.48, \"competitive_route\": 1, \"bus_multiplier\": 1.94, \"bus_difference\": 27.0, \"num_trips\": 12, \"num_competitive\": 11, \"pct_trips_competitive\": 0.917, \"bus_difference_spread\": 720.0, \"route_group\": \"long\", \"max_trip_hrs\": 12.93, \"max_trip_route_group\": 12.93, \"name\": \"Tuolumne County Transit Agency\", \"caltrans_district\": \"10 - Stockton\", \"drmt_organization_name\": \"['recl7fHqYd2GSTtn3']\", \"cutoff2\": 193.95, \"cutoff\": 0}, {\"calitp_itp_id\": 482, \"trip_key\": -4103005086418910727, \"trip_id\": \"88\", \"shape_id\": \"16\", \"route_id\": \"16\", \"service_hours\": 12.93, \"trip_first_departure_ts\": 45000, \"trip_last_arrival_ts\": 91560, \"departure_hour\": 12, \"time_of_day\": \"Midday\", \"p25\": 0.93, \"p50\": 0.93, \"p75\": 0.93, \"p50_trip\": 0, \"fastest_trip\": 0, \"car_duration_hours\": 0.48, \"competitive_route\": 1, \"bus_multiplier\": 26.94, \"bus_difference\": 747.0, \"num_trips\": 12, \"num_competitive\": 11, \"pct_trips_competitive\": 0.917, \"bus_difference_spread\": 720.0, \"route_group\": \"long\", \"max_trip_hrs\": 12.93, \"max_trip_route_group\": 12.93, \"name\": \"Tuolumne County Transit Agency\", \"caltrans_district\": \"10 - Stockton\", \"drmt_organization_name\": \"['recl7fHqYd2GSTtn3']\", \"cutoff2\": 193.95, \"cutoff\": 0}]}}, {\"mode\": \"vega-lite\"});\n",
       "</script>"
      ],
      "text/plain": [
       "alt.FacetChart(...)"
      ]
     },
     "metadata": {},
     "output_type": "display_data"
    }
   ],
   "source": [
    "route_group = \"long\"\n",
    "try:\n",
    "    subset_routes, mult, diff  = setup_charts(df, PCT_COMPETITIVE_THRESHOLD, route_group)\n",
    "    if len(subset_routes) > 0:\n",
    "        display(\n",
    "            Markdown(\n",
    "                f\"{CAPTIONS_DICT[route_group]}\"\n",
    "                \"Within each route group, routes are sorted in descending order \"\n",
    "                \"by % competitive trips and # trips below the additional time cut-off.\"\n",
    "            )\n",
    "        )\n",
    "\n",
    "        display(mult)\n",
    "        display(diff)\n",
    "except:\n",
    "    print(\"No routes meet this criteria.\")"
   ]
  }
 ],
 "metadata": {
  "kernelspec": {
   "display_name": "Python 3 (ipykernel)",
   "language": "python",
   "name": "python3"
  },
  "language_info": {
   "codemirror_mode": {
    "name": "ipython",
    "version": 3
   },
   "file_extension": ".py",
   "mimetype": "text/x-python",
   "name": "python",
   "nbconvert_exporter": "python",
   "pygments_lexer": "ipython3",
   "version": "3.9.12"
  },
  "papermill": {
   "default_parameters": {},
   "duration": 22.89778,
   "end_time": "2022-05-07T17:32:48.130023",
   "environment_variables": {},
   "exception": null,
   "input_path": "bus_service_increase/stripplot.ipynb",
   "output_path": "portfolio/parallel_corridors/district_10-stockton/stripplot__itp_id_482.ipynb",
   "parameters": {
    "district": "10 - Stockton",
    "itp_id": 482
   },
   "start_time": "2022-05-07T17:32:25.232243",
   "version": "2.3.4"
  }
 },
 "nbformat": 4,
 "nbformat_minor": 5
}