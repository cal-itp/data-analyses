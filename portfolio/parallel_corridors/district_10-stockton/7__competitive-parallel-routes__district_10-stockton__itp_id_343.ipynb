{
 "cells": [
  {
   "cell_type": "code",
   "execution_count": 1,
   "id": "95d00857-6a20-4529-a519-2cc7182928a9",
   "metadata": {
    "execution": {
     "iopub.execute_input": "2022-05-11T22:39:14.363463Z",
     "iopub.status.busy": "2022-05-11T22:39:14.362912Z",
     "iopub.status.idle": "2022-05-11T22:39:22.769823Z",
     "shell.execute_reply": "2022-05-11T22:39:22.769186Z"
    },
    "jupyter": {
     "source_hidden": true
    },
    "papermill": {
     "duration": 8.424192,
     "end_time": "2022-05-11T22:39:22.772106",
     "exception": false,
     "start_time": "2022-05-11T22:39:14.347914",
     "status": "completed"
    },
    "tags": [
     "remove_input"
    ]
   },
   "outputs": [],
   "source": [
    "%%capture\n",
    "import warnings\n",
    "warnings.filterwarnings('ignore')\n",
    "\n",
    "import altair as alt\n",
    "import calitp.magics\n",
    "import geopandas as gpd\n",
    "import intake\n",
    "import pandas as pd\n",
    "\n",
    "from IPython.display import display, Markdown, HTML\n",
    "\n",
    "import parallel_corridors_utils\n",
    "import deploy_portfolio_yaml\n",
    "from shared_utils import styleguide, geography_utils\n",
    "from make_stripplot_data import diff_cutoffs\n",
    "\n",
    "catalog = intake.open_catalog(\"./*.yml\")\n",
    "alt.renderers.enable(\"html\")"
   ]
  },
  {
   "cell_type": "code",
   "execution_count": 2,
   "id": "8af2a0c1-f3da-408d-9bea-11d9fbf8695d",
   "metadata": {
    "execution": {
     "iopub.execute_input": "2022-05-11T22:39:22.799614Z",
     "iopub.status.busy": "2022-05-11T22:39:22.799079Z",
     "iopub.status.idle": "2022-05-11T22:39:22.802918Z",
     "shell.execute_reply": "2022-05-11T22:39:22.802403Z"
    },
    "jupyter": {
     "source_hidden": true
    },
    "papermill": {
     "duration": 0.018608,
     "end_time": "2022-05-11T22:39:22.804505",
     "exception": false,
     "start_time": "2022-05-11T22:39:22.785897",
     "status": "completed"
    },
    "tags": [
     "parameters",
     "remove_input"
    ]
   },
   "outputs": [],
   "source": [
    "# parameters cell\n",
    "itp_id = 182"
   ]
  },
  {
   "cell_type": "code",
   "execution_count": 3,
   "id": "aa04d740",
   "metadata": {
    "execution": {
     "iopub.execute_input": "2022-05-11T22:39:22.829893Z",
     "iopub.status.busy": "2022-05-11T22:39:22.829431Z",
     "iopub.status.idle": "2022-05-11T22:39:22.833368Z",
     "shell.execute_reply": "2022-05-11T22:39:22.832818Z"
    },
    "jupyter": {
     "source_hidden": true
    },
    "papermill": {
     "duration": 0.01884,
     "end_time": "2022-05-11T22:39:22.834955",
     "exception": false,
     "start_time": "2022-05-11T22:39:22.816115",
     "status": "completed"
    },
    "tags": [
     "injected-parameters",
     "remove_input"
    ]
   },
   "outputs": [],
   "source": [
    "# Parameters\n",
    "district = \"10 - Stockton\"\n",
    "itp_id = 343\n"
   ]
  },
  {
   "cell_type": "code",
   "execution_count": 4,
   "id": "9582aaf4-79ff-412a-b248-8d8d693ebd4f",
   "metadata": {
    "execution": {
     "iopub.execute_input": "2022-05-11T22:39:22.860671Z",
     "iopub.status.busy": "2022-05-11T22:39:22.860198Z",
     "iopub.status.idle": "2022-05-11T22:39:24.376927Z",
     "shell.execute_reply": "2022-05-11T22:39:24.375993Z"
    },
    "jupyter": {
     "source_hidden": true
    },
    "papermill": {
     "duration": 1.53312,
     "end_time": "2022-05-11T22:39:24.380027",
     "exception": false,
     "start_time": "2022-05-11T22:39:22.846907",
     "status": "completed"
    },
    "tags": [
     "remove_input"
    ]
   },
   "outputs": [],
   "source": [
    "df = catalog.competitive_route_variability.read()\n",
    "\n",
    "df = (df[(df.calitp_itp_id == itp_id) & \n",
    "         (df.route_group.notna())]\n",
    "      .rename(columns = {\"route_name_used\": \"route_name\"})\n",
    "      .reset_index(drop=True)\n",
    "     )\n",
    "\n",
    "if itp_id == 182:\n",
    "    df = df.assign(\n",
    "        route_id = df.route_id.str.replace('-13153', '').astype(int)\n",
    "    )"
   ]
  },
  {
   "cell_type": "code",
   "execution_count": 5,
   "id": "33ac4b06-f647-4dce-a625-8f2c1b37cc60",
   "metadata": {
    "execution": {
     "iopub.execute_input": "2022-05-11T22:39:24.428678Z",
     "iopub.status.busy": "2022-05-11T22:39:24.428253Z",
     "iopub.status.idle": "2022-05-11T22:39:24.443292Z",
     "shell.execute_reply": "2022-05-11T22:39:24.442351Z"
    },
    "jupyter": {
     "source_hidden": true
    },
    "papermill": {
     "duration": 0.043025,
     "end_time": "2022-05-11T22:39:24.445851",
     "exception": false,
     "start_time": "2022-05-11T22:39:24.402826",
     "status": "completed"
    },
    "tags": [
     "remove_input"
    ]
   },
   "outputs": [],
   "source": [
    "%%capture_parameters\n",
    "operator_name = df.name.iloc[0]\n",
    "district_number = f\"{df.caltrans_district.iloc[0].split('-')[0].strip()}\"\n",
    "district_name = f\"{df.caltrans_district.iloc[0].split('-')[1].strip().lower().replace(' ', '-')}\"\n",
    "\n",
    "itp_id, operator_name, district_number, district_name"
   ]
  },
  {
   "cell_type": "markdown",
   "id": "65bc6f5c-8348-42ee-b2dd-52057c406852",
   "metadata": {
    "papermill": {
     "duration": 0.022225,
     "end_time": "2022-05-11T22:39:24.490402",
     "exception": false,
     "start_time": "2022-05-11T22:39:24.468177",
     "status": "completed"
    },
    "tags": []
   },
   "source": [
    "# Transit Joint Powers Authority for Merced County (ITP ID: 343)"
   ]
  },
  {
   "cell_type": "code",
   "execution_count": 6,
   "id": "a689c1ab-2c6c-4831-8d64-897f5986f571",
   "metadata": {
    "execution": {
     "iopub.execute_input": "2022-05-11T22:39:24.537418Z",
     "iopub.status.busy": "2022-05-11T22:39:24.537042Z",
     "iopub.status.idle": "2022-05-11T22:39:24.549008Z",
     "shell.execute_reply": "2022-05-11T22:39:24.548208Z"
    },
    "jupyter": {
     "source_hidden": true
    },
    "papermill": {
     "duration": 0.039893,
     "end_time": "2022-05-11T22:39:24.553065",
     "exception": false,
     "start_time": "2022-05-11T22:39:24.513172",
     "status": "completed"
    },
    "tags": [
     "remove_input"
    ]
   },
   "outputs": [
    {
     "data": {
      "text/html": [
       "<h1>Competitive & Parallel Routes</h1>"
      ],
      "text/plain": [
       "<IPython.core.display.HTML object>"
      ]
     },
     "metadata": {},
     "output_type": "display_data"
    }
   ],
   "source": [
    "display(HTML(\"<h1>Competitive & Parallel Routes</h1>\")) "
   ]
  },
  {
   "cell_type": "code",
   "execution_count": 7,
   "id": "2cb4d8d5-4760-40e4-85b1-cb833d8bb648",
   "metadata": {
    "execution": {
     "iopub.execute_input": "2022-05-11T22:39:24.605850Z",
     "iopub.status.busy": "2022-05-11T22:39:24.605486Z",
     "iopub.status.idle": "2022-05-11T22:39:35.165465Z",
     "shell.execute_reply": "2022-05-11T22:39:35.164589Z"
    },
    "jupyter": {
     "source_hidden": true
    },
    "papermill": {
     "duration": 10.59258,
     "end_time": "2022-05-11T22:39:35.169188",
     "exception": false,
     "start_time": "2022-05-11T22:39:24.576608",
     "status": "completed"
    },
    "tags": [
     "remove_input"
    ]
   },
   "outputs": [],
   "source": [
    "# Grab parameters for narrative text - clean up formatting here \n",
    "district = df.caltrans_district.iloc[0]\n",
    "formatted_date = pd.to_datetime(parallel_corridors_utils.SELECTED_DATE).strftime('%m-%d-%Y')\n",
    "\n",
    "PCT_COMPETITIVE_THRESHOLD = 0.75\n",
    "PCT_TRIPS_BELOW_CUTOFF = 0.50\n",
    "\n",
    "stats = parallel_corridors_utils.operator_parallel_competitive_stats(\n",
    "    itp_id, PCT_COMPETITIVE_THRESHOLD, PCT_TRIPS_BELOW_CUTOFF)\n",
    "\n",
    "pct_parallel = round(stats['parallel_routes'] / stats['num_routes'] * 100, 1 )\n",
    "pct_competitive =  round(stats['competitive_routes'] / stats['num_routes'] * 100, 1 )\n",
    "pct_viable =  round(stats['viable_competitive_routes'] / stats['num_routes'] * 100, 1 )"
   ]
  },
  {
   "cell_type": "code",
   "execution_count": 8,
   "id": "8bf30c8f-6aa5-47bb-82ae-a906732e81fd",
   "metadata": {
    "execution": {
     "iopub.execute_input": "2022-05-11T22:39:35.222771Z",
     "iopub.status.busy": "2022-05-11T22:39:35.222371Z",
     "iopub.status.idle": "2022-05-11T22:39:35.268837Z",
     "shell.execute_reply": "2022-05-11T22:39:35.267887Z"
    },
    "jupyter": {
     "source_hidden": true
    },
    "papermill": {
     "duration": 0.076509,
     "end_time": "2022-05-11T22:39:35.272385",
     "exception": false,
     "start_time": "2022-05-11T22:39:35.195876",
     "status": "completed"
    },
    "tags": [
     "remove_input"
    ]
   },
   "outputs": [],
   "source": [
    "# Display a table of route-level stats for each route_group\n",
    "# Displaying route_name makes chart too crowded\n",
    "\n",
    "# Get route stats (for entire df)\n",
    "route_stats = parallel_corridors_utils.competitive_route_level_stats(df)\n",
    "    \n",
    "def style_route_stats(df, top15_routes):\n",
    "    df = df[df.route_id.isin(top15_routes)]\n",
    "    \n",
    "    # Rename columns for display\n",
    "    rename_cols = {\n",
    "        \"route_id\": \"Route ID\",\n",
    "        \"route_name\": \"Route Name\",\n",
    "        \"route_group\": \"Route Group\",\n",
    "        \"num_trips\": \"# trips\",\n",
    "        \"daily_avg_freq\": \"Daily Avg Frequency (trips per hr)\",\n",
    "        \"pm_peak_freq\": \"PM Peak Avg Frequency (trips per hr)\",\n",
    "        \"percentiles\": \"25th, 50th, 75th ptile (hrs)\",\n",
    "    }\n",
    "    \n",
    "    # Style it\n",
    "    drop_cols = [\n",
    "        \"calitp_itp_id\", \"below_cutoff\", \"route_group\", \n",
    "        \"pct_trips_competitive\", \"pct_below_cutoff\",\n",
    "        \"p25\", \"p50\", \"p75\",\n",
    "    ]\n",
    "    \n",
    "    df_style = (df.sort_values(\n",
    "        [\"pct_trips_competitive\", \"below_cutoff\", \n",
    "        \"pct_below_cutoff\", \"route_id\"], \n",
    "        ascending=[False, False, False, True])\n",
    "           .drop(columns = drop_cols)\n",
    "           .rename(columns = rename_cols)\n",
    "           .style.format({\n",
    "               #'% trips within 2x car travel': '{:,.1%}', \n",
    "               'Daily Avg Frequency (trips per hr)': '{:,.3}',\n",
    "               'PM Peak Avg Frequency (trips per hr)': '{:,.3}',\n",
    "           })\n",
    "           .hide(axis=\"index\")\n",
    "           .to_html()\n",
    "          )\n",
    "    \n",
    "    display(HTML(\"<h4>Route Stats</h4>\"))\n",
    "    display(HTML(df_style))"
   ]
  },
  {
   "cell_type": "markdown",
   "id": "ab667928-5274-4490-82d9-4c39293209a4",
   "metadata": {
    "papermill": {
     "duration": 0.026963,
     "end_time": "2022-05-11T22:39:35.327197",
     "exception": false,
     "start_time": "2022-05-11T22:39:35.300234",
     "status": "completed"
    },
    "tags": []
   },
   "source": [
    "## Quick Stats"
   ]
  },
  {
   "cell_type": "code",
   "execution_count": 9,
   "id": "0416509d-dc62-4165-b62e-64f8b26e8b8e",
   "metadata": {
    "execution": {
     "iopub.execute_input": "2022-05-11T22:39:35.389895Z",
     "iopub.status.busy": "2022-05-11T22:39:35.389534Z",
     "iopub.status.idle": "2022-05-11T22:39:35.397952Z",
     "shell.execute_reply": "2022-05-11T22:39:35.397263Z"
    },
    "jupyter": {
     "source_hidden": true
    },
    "papermill": {
     "duration": 0.047488,
     "end_time": "2022-05-11T22:39:35.402943",
     "exception": false,
     "start_time": "2022-05-11T22:39:35.355455",
     "status": "completed"
    },
    "tags": [
     "remove_input"
    ]
   },
   "outputs": [
    {
     "data": {
      "text/markdown": [
       "**Bus routes in service: 15**<br>**Parallel routes** to State Highway Network (SHN): **13 routes (86.7%)**<br>**Competitive routes** against car travel (within 2x car travel time): **2 routes (13.3%)**<br>**Viable competitive routes** against car travel (within 2x car travel time and within 20, 30, or 40 min cut-off): **1 routes (6.7%)**"
      ],
      "text/plain": [
       "<IPython.core.display.Markdown object>"
      ]
     },
     "metadata": {},
     "output_type": "display_data"
    }
   ],
   "source": [
    "display(\n",
    "    Markdown(\n",
    "        f\"**Bus routes in service: {stats['num_routes']}**\"\n",
    "        \"<br>**Parallel routes** to State Highway Network (SHN): \"\n",
    "        f\"**{stats['parallel_routes']} routes ({pct_parallel}%)**\"\n",
    "        \"<br>**Competitive routes** against car travel (within 2x car travel time): \"\n",
    "        f\"**{stats['competitive_routes']} routes ({pct_competitive}%)**\"\n",
    "        \"<br>**Viable competitive routes** against car travel \"\n",
    "        \"(within 2x car travel time and within 20, 30, or 40 min cut-off): \"\n",
    "        f\"**{stats['viable_competitive_routes']} routes ({pct_viable}%)**\"\n",
    "    )\n",
    ")"
   ]
  },
  {
   "cell_type": "code",
   "execution_count": 10,
   "id": "f9d6ab58-f0ee-460c-b6de-657490e1f386",
   "metadata": {
    "execution": {
     "iopub.execute_input": "2022-05-11T22:39:35.454903Z",
     "iopub.status.busy": "2022-05-11T22:39:35.454551Z",
     "iopub.status.idle": "2022-05-11T22:39:35.464467Z",
     "shell.execute_reply": "2022-05-11T22:39:35.463636Z"
    },
    "jupyter": {
     "source_hidden": true
    },
    "papermill": {
     "duration": 0.040624,
     "end_time": "2022-05-11T22:39:35.468013",
     "exception": false,
     "start_time": "2022-05-11T22:39:35.427389",
     "status": "completed"
    },
    "tags": [
     "remove_input"
    ]
   },
   "outputs": [],
   "source": [
    "def set_yaxis_range(df, y_col):\n",
    "    Y_MIN = df[y_col].min()\n",
    "    Y_MAX = df[y_col].max()\n",
    "    \n",
    "    return Y_MIN, Y_MAX\n",
    "\n",
    "# Rather than set it according to the operator, which can vary,\n",
    "# just use set thresholds for each group\n",
    "def top15_routes(df, route_group):\n",
    "    # grab top 15 routes where majority of trips are below that cut-off \n",
    "    # but show 15 max, otherwise, show less, since these won't be as interesting to operators\n",
    "    df2 = (df[(df.route_group==route_group) &\n",
    "              (df.pct_below_cutoff >= PCT_TRIPS_BELOW_CUTOFF)]\n",
    "           .sort_values([\"calitp_itp_id\", \"below_cutoff\", \n",
    "                         \"pct_below_cutoff\", \"route_id\"],\n",
    "                        ascending = [True, False, False, True]\n",
    "                       )\n",
    "           .drop_duplicates(subset=[\"calitp_itp_id\", \"route_id\"])\n",
    "          ).head(15)\n",
    "    \n",
    "    return list(df2.route_id)"
   ]
  },
  {
   "cell_type": "code",
   "execution_count": 11,
   "id": "cf36d559-3349-4144-8086-8ac9ce937a5a",
   "metadata": {
    "execution": {
     "iopub.execute_input": "2022-05-11T22:39:35.519115Z",
     "iopub.status.busy": "2022-05-11T22:39:35.518759Z",
     "iopub.status.idle": "2022-05-11T22:39:35.528486Z",
     "shell.execute_reply": "2022-05-11T22:39:35.527619Z"
    },
    "jupyter": {
     "source_hidden": true
    },
    "papermill": {
     "duration": 0.038283,
     "end_time": "2022-05-11T22:39:35.531199",
     "exception": false,
     "start_time": "2022-05-11T22:39:35.492916",
     "status": "completed"
    },
    "tags": [
     "remove_input"
    ]
   },
   "outputs": [],
   "source": [
    "def caption_with_cutoff(cutoff):\n",
    "    sentence = (\n",
    "        f\"<br>These are routes that have **at least {int(PCT_TRIPS_BELOW_CUTOFF*100)}% \"\n",
    "        \"of their trips take no more than an \"\n",
    "        f\"additional {cutoff} min** compared to a car \"\n",
    "        \"(up to 15 routes) are shown.\"\n",
    "        \"<br>Within each route group, routes are sorted in descending order \"\n",
    "        \"by % competitive trips and # trips below the additional time cut-off.\"\n",
    "    )\n",
    "    return sentence\n",
    "\n",
    "CAPTIONS_DICT = {\n",
    "    \"short\": caption_with_cutoff(diff_cutoffs['short']),\n",
    "    \"medium\": caption_with_cutoff(diff_cutoffs['medium']),\n",
    "    \"long\": caption_with_cutoff(diff_cutoffs['long']),\n",
    "}"
   ]
  },
  {
   "cell_type": "code",
   "execution_count": 12,
   "id": "e4306d58-6944-47e9-afef-5d5b524c751f",
   "metadata": {
    "execution": {
     "iopub.execute_input": "2022-05-11T22:39:35.588023Z",
     "iopub.status.busy": "2022-05-11T22:39:35.587658Z",
     "iopub.status.idle": "2022-05-11T22:39:35.607763Z",
     "shell.execute_reply": "2022-05-11T22:39:35.602474Z"
    },
    "jupyter": {
     "source_hidden": true
    },
    "papermill": {
     "duration": 0.05279,
     "end_time": "2022-05-11T22:39:35.610981",
     "exception": false,
     "start_time": "2022-05-11T22:39:35.558191",
     "status": "completed"
    },
    "tags": [
     "remove_input"
    ]
   },
   "outputs": [],
   "source": [
    "def setup_charts(df, PCT_COMPETITIVE_THRESHOLD, route_group):\n",
    "    # Set up df for charting (cut-off at some threshold to show most competitive routes)\n",
    "    plot_me = (df[df.pct_trips_competitive > PCT_COMPETITIVE_THRESHOLD]\n",
    "           .drop(columns = \"geometry\")\n",
    "    )\n",
    "    \n",
    "    # Set y-ranges to be the same across route_groups, \n",
    "    # otherwise charts fluctuate too much, even within operator\n",
    "    y_col1 = \"bus_multiplier\"\n",
    "    Y_MIN1, Y_MAX1 = set_yaxis_range(plot_me, y_col1)\n",
    "\n",
    "    y_col2 = \"bus_difference\"\n",
    "    Y_MIN2, Y_MAX2 = set_yaxis_range(plot_me, y_col2)\n",
    "    \n",
    "    # Grab the routes to plot\n",
    "    subset_routes = top15_routes(plot_me, route_group)\n",
    "        \n",
    "    # Display charts\n",
    "    multiplier_chart = parallel_corridors_utils.make_stripplot(\n",
    "        plot_me[plot_me.route_id.isin(subset_routes)], \n",
    "        y_col1, Y_MIN = Y_MIN1, Y_MAX = Y_MAX1\n",
    "    )\n",
    "    \n",
    "    difference_chart = parallel_corridors_utils.make_stripplot(\n",
    "        plot_me[plot_me.route_id.isin(subset_routes)], \n",
    "        y_col2, Y_MIN = Y_MIN2, Y_MAX = Y_MAX2\n",
    "    )\n",
    "    \n",
    "    return subset_routes, multiplier_chart, difference_chart            "
   ]
  },
  {
   "cell_type": "code",
   "execution_count": 13,
   "id": "33a710e8-504c-4942-aa75-ff69f216956e",
   "metadata": {
    "execution": {
     "iopub.execute_input": "2022-05-11T22:39:35.667942Z",
     "iopub.status.busy": "2022-05-11T22:39:35.666875Z",
     "iopub.status.idle": "2022-05-11T22:39:35.676050Z",
     "shell.execute_reply": "2022-05-11T22:39:35.675207Z"
    },
    "jupyter": {
     "source_hidden": true
    },
    "papermill": {
     "duration": 0.040142,
     "end_time": "2022-05-11T22:39:35.679399",
     "exception": false,
     "start_time": "2022-05-11T22:39:35.639257",
     "status": "completed"
    },
    "tags": [
     "remove_input"
    ]
   },
   "outputs": [],
   "source": [
    "def display_charts_for_route_group(df, route_group):    \n",
    "    subset_routes, mult, diff  = setup_charts(df, PCT_COMPETITIVE_THRESHOLD, route_group)\n",
    "\n",
    "    if len(subset_routes) > 0:\n",
    "        display(Markdown(f\"{CAPTIONS_DICT[route_group]}\"))\n",
    "\n",
    "        display(mult)\n",
    "        display(diff)\n",
    "        \n",
    "        # Display route stats for just plotted routes\n",
    "        style_route_stats(route_stats, subset_routes)"
   ]
  },
  {
   "cell_type": "markdown",
   "id": "525f9b38-072b-46d1-96a8-1aa4b038357c",
   "metadata": {
    "papermill": {
     "duration": 0.028171,
     "end_time": "2022-05-11T22:39:35.732985",
     "exception": false,
     "start_time": "2022-05-11T22:39:35.704814",
     "status": "completed"
    },
    "tags": []
   },
   "source": [
    "## Viable Competitive Routes\n",
    "### Short Routes (< 1 hr)"
   ]
  },
  {
   "cell_type": "code",
   "execution_count": 14,
   "id": "57f7084c-2cf7-45c6-ba08-1609e0bd6ca5",
   "metadata": {
    "execution": {
     "iopub.execute_input": "2022-05-11T22:39:35.784862Z",
     "iopub.status.busy": "2022-05-11T22:39:35.784512Z",
     "iopub.status.idle": "2022-05-11T22:39:35.808273Z",
     "shell.execute_reply": "2022-05-11T22:39:35.807341Z"
    },
    "jupyter": {
     "source_hidden": true
    },
    "papermill": {
     "duration": 0.053249,
     "end_time": "2022-05-11T22:39:35.811070",
     "exception": false,
     "start_time": "2022-05-11T22:39:35.757821",
     "status": "completed"
    },
    "tags": [
     "remove_input"
    ]
   },
   "outputs": [
    {
     "name": "stdout",
     "output_type": "stream",
     "text": [
      "No routes meet this criteria.\n"
     ]
    }
   ],
   "source": [
    "# Allow for possibility that operator doesn't have routes that fall into certain route_groups\n",
    "# But, jupyterbook will not like markdown with f-string\n",
    "# separate out route_group and put in each cell, and use try/except + if to display...\n",
    "# but all 3 route groups must be displayed. just add sentence about why no routes were returned at the end\n",
    "route_group = \"short\"\n",
    "try:\n",
    "    display_charts_for_route_group(df, route_group)\n",
    "except:\n",
    "    print(\"No routes meet this criteria.\")"
   ]
  },
  {
   "cell_type": "markdown",
   "id": "c2931b6f-034d-4384-9e14-80b925e3b820",
   "metadata": {
    "papermill": {
     "duration": 0.048587,
     "end_time": "2022-05-11T22:39:35.891683",
     "exception": false,
     "start_time": "2022-05-11T22:39:35.843096",
     "status": "completed"
    },
    "tags": []
   },
   "source": [
    "### Medium Routes (1-1.5 hrs)"
   ]
  },
  {
   "cell_type": "code",
   "execution_count": 15,
   "id": "480edddc-4de0-48c2-ae4c-b0ceef8f28b5",
   "metadata": {
    "execution": {
     "iopub.execute_input": "2022-05-11T22:39:35.948186Z",
     "iopub.status.busy": "2022-05-11T22:39:35.947817Z",
     "iopub.status.idle": "2022-05-11T22:39:36.440203Z",
     "shell.execute_reply": "2022-05-11T22:39:36.439327Z"
    },
    "jupyter": {
     "source_hidden": true
    },
    "papermill": {
     "duration": 0.522241,
     "end_time": "2022-05-11T22:39:36.443104",
     "exception": false,
     "start_time": "2022-05-11T22:39:35.920863",
     "status": "completed"
    },
    "tags": [
     "remove_input"
    ]
   },
   "outputs": [
    {
     "data": {
      "text/markdown": [
       "<br>These are routes that have **at least 50% of their trips take no more than an additional 30 min** compared to a car (up to 15 routes) are shown.<br>Within each route group, routes are sorted in descending order by % competitive trips and # trips below the additional time cut-off."
      ],
      "text/plain": [
       "<IPython.core.display.Markdown object>"
      ]
     },
     "metadata": {},
     "output_type": "display_data"
    },
    {
     "data": {
      "text/html": [
       "\n",
       "<div id=\"altair-viz-b53fdc3750144a25a8e607d33f3347df\"></div>\n",
       "<script type=\"text/javascript\">\n",
       "  var VEGA_DEBUG = (typeof VEGA_DEBUG == \"undefined\") ? {} : VEGA_DEBUG;\n",
       "  (function(spec, embedOpt){\n",
       "    let outputDiv = document.currentScript.previousElementSibling;\n",
       "    if (outputDiv.id !== \"altair-viz-b53fdc3750144a25a8e607d33f3347df\") {\n",
       "      outputDiv = document.getElementById(\"altair-viz-b53fdc3750144a25a8e607d33f3347df\");\n",
       "    }\n",
       "    const paths = {\n",
       "      \"vega\": \"https://cdn.jsdelivr.net/npm//vega@5?noext\",\n",
       "      \"vega-lib\": \"https://cdn.jsdelivr.net/npm//vega-lib?noext\",\n",
       "      \"vega-lite\": \"https://cdn.jsdelivr.net/npm//vega-lite@4.17.0?noext\",\n",
       "      \"vega-embed\": \"https://cdn.jsdelivr.net/npm//vega-embed@6?noext\",\n",
       "    };\n",
       "\n",
       "    function maybeLoadScript(lib, version) {\n",
       "      var key = `${lib.replace(\"-\", \"\")}_version`;\n",
       "      return (VEGA_DEBUG[key] == version) ?\n",
       "        Promise.resolve(paths[lib]) :\n",
       "        new Promise(function(resolve, reject) {\n",
       "          var s = document.createElement('script');\n",
       "          document.getElementsByTagName(\"head\")[0].appendChild(s);\n",
       "          s.async = true;\n",
       "          s.onload = () => {\n",
       "            VEGA_DEBUG[key] = version;\n",
       "            return resolve(paths[lib]);\n",
       "          };\n",
       "          s.onerror = () => reject(`Error loading script: ${paths[lib]}`);\n",
       "          s.src = paths[lib];\n",
       "        });\n",
       "    }\n",
       "\n",
       "    function showError(err) {\n",
       "      outputDiv.innerHTML = `<div class=\"error\" style=\"color:red;\">${err}</div>`;\n",
       "      throw err;\n",
       "    }\n",
       "\n",
       "    function displayChart(vegaEmbed) {\n",
       "      vegaEmbed(outputDiv, spec, embedOpt)\n",
       "        .catch(err => showError(`Javascript Error: ${err.message}<br>This usually means there's a typo in your chart specification. See the javascript console for the full traceback.`));\n",
       "    }\n",
       "\n",
       "    if(typeof define === \"function\" && define.amd) {\n",
       "      requirejs.config({paths});\n",
       "      require([\"vega-embed\"], displayChart, err => showError(`Error loading script: ${err.message}`));\n",
       "    } else {\n",
       "      maybeLoadScript(\"vega\", \"5\")\n",
       "        .then(() => maybeLoadScript(\"vega-lite\", \"4.17.0\"))\n",
       "        .then(() => maybeLoadScript(\"vega-embed\", \"6\"))\n",
       "        .catch(showError)\n",
       "        .then(() => displayChart(vegaEmbed));\n",
       "    }\n",
       "  })({\"config\": {\"view\": {\"continuousWidth\": 400, \"continuousHeight\": 300, \"stroke\": null}, \"facet\": {\"spacing\": 0}}, \"data\": {\"name\": \"data-5130d2e45988d37adfd5dbeb211ebb84\"}, \"facet\": {\"column\": {\"field\": \"route_id\", \"sort\": [\"1881\"], \"title\": \"Route ID\", \"type\": \"nominal\"}}, \"spec\": {\"layer\": [{\"mark\": \"rule\", \"encoding\": {\"color\": {\"value\": \"black\"}, \"y\": {\"field\": \"cutoff\", \"type\": \"quantitative\"}}, \"selection\": {\"selector001\": {\"type\": \"interval\", \"bind\": \"scales\", \"encodings\": [\"x\", \"y\"]}}}, {\"mark\": {\"type\": \"point\", \"opacity\": 0.65, \"size\": 12, \"strokeWidth\": 1.1}, \"encoding\": {\"color\": {\"field\": \"time_of_day\", \"scale\": {\"range\": [\"#136C97\", \"#E16B26\", \"#F6BF16\", \"#00896B\", \"#7790A3\", \"#5B559C\"]}, \"sort\": [\"AM Peak\", \"Midday\", \"PM Peak\", \"Owl Service\"], \"title\": \"Time of Day\", \"type\": \"nominal\"}, \"tooltip\": [{\"field\": \"route_id\", \"type\": \"nominal\"}, {\"field\": \"route_name\", \"type\": \"nominal\"}, {\"field\": \"trip_id\", \"type\": \"nominal\"}, {\"field\": \"service_hours\", \"type\": \"quantitative\"}, {\"field\": \"car_duration_hours\", \"type\": \"quantitative\"}, {\"field\": \"bus_multiplier\", \"type\": \"quantitative\"}, {\"field\": \"bus_difference\", \"type\": \"quantitative\"}, {\"field\": \"num_trips\", \"type\": \"quantitative\"}, {\"field\": \"num_competitive\", \"type\": \"quantitative\"}, {\"field\": \"pct_trips_competitive\", \"type\": \"quantitative\"}, {\"field\": \"p25\", \"type\": \"quantitative\"}, {\"field\": \"p50\", \"type\": \"quantitative\"}, {\"field\": \"p75\", \"type\": \"quantitative\"}], \"x\": {\"axis\": {\"grid\": false, \"labels\": false, \"ticks\": true, \"values\": [0]}, \"field\": \"jitter\", \"scale\": {}, \"title\": null, \"type\": \"quantitative\"}, \"y\": {\"field\": \"bus_multiplier\", \"scale\": {\"domain\": [-0.25, 3.0]}, \"title\": \"Ratio of Bus to Car Travel Time\", \"type\": \"quantitative\"}}, \"transform\": [{\"calculate\": \"sqrt(-2*log(random()))*cos(2*PI*random())\", \"as\": \"jitter\"}], \"width\": 50}, {\"layer\": [{\"mark\": {\"type\": \"point\", \"opacity\": 0.6, \"size\": 20, \"strokeWidth\": 1.3}, \"encoding\": {\"color\": {\"value\": \"#323434\"}, \"y\": {\"field\": \"bus_multiplier\", \"type\": \"quantitative\"}}, \"transform\": [{\"filter\": \"(datum.p50_trip === 1)\"}]}, {\"mark\": {\"type\": \"text\", \"align\": \"center\", \"baseline\": \"middle\"}, \"encoding\": {\"color\": {\"value\": \"black\"}, \"text\": {\"field\": \"pct_trips_competitive\", \"format\": \".0%\", \"type\": \"quantitative\"}, \"tooltip\": [{\"field\": \"route_id\", \"type\": \"nominal\"}, {\"field\": \"route_name\", \"type\": \"nominal\"}, {\"field\": \"trip_id\", \"type\": \"nominal\"}, {\"field\": \"service_hours\", \"type\": \"quantitative\"}, {\"field\": \"car_duration_hours\", \"type\": \"quantitative\"}, {\"field\": \"bus_multiplier\", \"type\": \"quantitative\"}, {\"field\": \"bus_difference\", \"type\": \"quantitative\"}, {\"field\": \"num_trips\", \"type\": \"quantitative\"}, {\"field\": \"num_competitive\", \"type\": \"quantitative\"}, {\"field\": \"pct_trips_competitive\", \"type\": \"quantitative\"}, {\"field\": \"p25\", \"type\": \"quantitative\"}, {\"field\": \"p50\", \"type\": \"quantitative\"}, {\"field\": \"p75\", \"type\": \"quantitative\"}], \"x\": {\"value\": 30}, \"y\": {\"value\": 15}}, \"transform\": [{\"calculate\": \"sqrt(-2*log(random()))*cos(2*PI*random())\", \"as\": \"jitter\"}, {\"filter\": \"(datum.fastest_trip === 1)\"}]}]}]}, \"resolve\": {\"scale\": {\"y\": \"shared\"}}, \"title\": \"Ratio of Bus to Car Travel Time\", \"$schema\": \"https://vega.github.io/schema/vega-lite/v4.17.0.json\", \"datasets\": {\"data-5130d2e45988d37adfd5dbeb211ebb84\": [{\"calitp_itp_id\": 343, \"trip_key\": 7516215431355909309, \"trip_id\": \"t_1963129_b_33141_tn_0\", \"shape_id\": \"p_1303793\", \"route_id\": \"1881\", \"service_hours\": 1.15, \"trip_first_departure_ts\": 63900, \"trip_last_arrival_ts\": 68040, \"departure_hour\": 17, \"time_of_day\": \"PM Peak\", \"p25\": 1.18, \"p50\": 1.18, \"p75\": 1.23, \"p50_trip\": 0, \"fastest_trip\": 0, \"car_duration_hours\": 0.9, \"competitive_route\": 1, \"bus_multiplier\": 1.28, \"bus_difference\": 15.0, \"num_trips\": 20, \"num_competitive\": 20, \"pct_trips_competitive\": 1.0, \"bus_difference_spread\": 4.800000000000001, \"route_group\": \"medium\", \"max_trip_hrs\": 1.23, \"max_trip_route_group\": 1.23, \"below_cutoff\": 20, \"pct_below_cutoff\": 1.0, \"name\": \"Transit Joint Powers Authority for Merced County\", \"caltrans_district\": \"10 - Stockton\", \"drmt_organization_name\": null, \"route_name\": \"Los Banos Commuter\", \"cutoff2\": 30, \"cutoff\": 2}, {\"calitp_itp_id\": 343, \"trip_key\": -9179148727592923166, \"trip_id\": \"t_1963130_b_33141_tn_0\", \"shape_id\": \"p_1303793\", \"route_id\": \"1881\", \"service_hours\": 1.15, \"trip_first_departure_ts\": 70200, \"trip_last_arrival_ts\": 74340, \"departure_hour\": 19, \"time_of_day\": \"PM Peak\", \"p25\": 1.18, \"p50\": 1.18, \"p75\": 1.23, \"p50_trip\": 0, \"fastest_trip\": 1, \"car_duration_hours\": 0.9, \"competitive_route\": 1, \"bus_multiplier\": 1.28, \"bus_difference\": 15.0, \"num_trips\": 20, \"num_competitive\": 20, \"pct_trips_competitive\": 1.0, \"bus_difference_spread\": 4.800000000000001, \"route_group\": \"medium\", \"max_trip_hrs\": 1.23, \"max_trip_route_group\": 1.23, \"below_cutoff\": 20, \"pct_below_cutoff\": 1.0, \"name\": \"Transit Joint Powers Authority for Merced County\", \"caltrans_district\": \"10 - Stockton\", \"drmt_organization_name\": null, \"route_name\": \"Los Banos Commuter\", \"cutoff2\": 30, \"cutoff\": 2}, {\"calitp_itp_id\": 343, \"trip_key\": 5381214985750226954, \"trip_id\": \"t_1963141_b_33141_tn_0\", \"shape_id\": \"p_1303791\", \"route_id\": \"1881\", \"service_hours\": 1.18, \"trip_first_departure_ts\": 65040, \"trip_last_arrival_ts\": 69300, \"departure_hour\": 18, \"time_of_day\": \"PM Peak\", \"p25\": 1.18, \"p50\": 1.18, \"p75\": 1.23, \"p50_trip\": 1, \"fastest_trip\": 0, \"car_duration_hours\": 0.9, \"competitive_route\": 1, \"bus_multiplier\": 1.31, \"bus_difference\": 16.8, \"num_trips\": 20, \"num_competitive\": 20, \"pct_trips_competitive\": 1.0, \"bus_difference_spread\": 4.800000000000001, \"route_group\": \"medium\", \"max_trip_hrs\": 1.23, \"max_trip_route_group\": 1.23, \"below_cutoff\": 20, \"pct_below_cutoff\": 1.0, \"name\": \"Transit Joint Powers Authority for Merced County\", \"caltrans_district\": \"10 - Stockton\", \"drmt_organization_name\": null, \"route_name\": \"Los Banos Commuter\", \"cutoff2\": 30, \"cutoff\": 2}, {\"calitp_itp_id\": 343, \"trip_key\": 5286043343502123648, \"trip_id\": \"t_1963133_b_33141_tn_0\", \"shape_id\": \"p_1303791\", \"route_id\": \"1881\", \"service_hours\": 1.18, \"trip_first_departure_ts\": 21840, \"trip_last_arrival_ts\": 26100, \"departure_hour\": 6, \"time_of_day\": \"Owl Service\", \"p25\": 1.18, \"p50\": 1.18, \"p75\": 1.23, \"p50_trip\": 1, \"fastest_trip\": 0, \"car_duration_hours\": 0.9, \"competitive_route\": 1, \"bus_multiplier\": 1.31, \"bus_difference\": 16.8, \"num_trips\": 20, \"num_competitive\": 20, \"pct_trips_competitive\": 1.0, \"bus_difference_spread\": 4.800000000000001, \"route_group\": \"medium\", \"max_trip_hrs\": 1.23, \"max_trip_route_group\": 1.23, \"below_cutoff\": 20, \"pct_below_cutoff\": 1.0, \"name\": \"Transit Joint Powers Authority for Merced County\", \"caltrans_district\": \"10 - Stockton\", \"drmt_organization_name\": null, \"route_name\": \"Los Banos Commuter\", \"cutoff2\": 30, \"cutoff\": 2}, {\"calitp_itp_id\": 343, \"trip_key\": -3118253142166864359, \"trip_id\": \"t_1963139_b_33141_tn_0\", \"shape_id\": \"p_1303791\", \"route_id\": \"1881\", \"service_hours\": 1.18, \"trip_first_departure_ts\": 54240, \"trip_last_arrival_ts\": 58500, \"departure_hour\": 15, \"time_of_day\": \"Midday\", \"p25\": 1.18, \"p50\": 1.18, \"p75\": 1.23, \"p50_trip\": 1, \"fastest_trip\": 0, \"car_duration_hours\": 0.9, \"competitive_route\": 1, \"bus_multiplier\": 1.31, \"bus_difference\": 16.8, \"num_trips\": 20, \"num_competitive\": 20, \"pct_trips_competitive\": 1.0, \"bus_difference_spread\": 4.800000000000001, \"route_group\": \"medium\", \"max_trip_hrs\": 1.23, \"max_trip_route_group\": 1.23, \"below_cutoff\": 20, \"pct_below_cutoff\": 1.0, \"name\": \"Transit Joint Powers Authority for Merced County\", \"caltrans_district\": \"10 - Stockton\", \"drmt_organization_name\": null, \"route_name\": \"Los Banos Commuter\", \"cutoff2\": 30, \"cutoff\": 2}, {\"calitp_itp_id\": 343, \"trip_key\": -6539832337695123663, \"trip_id\": \"t_1963134_b_33141_tn_0\", \"shape_id\": \"p_1303791\", \"route_id\": \"1881\", \"service_hours\": 1.18, \"trip_first_departure_ts\": 38940, \"trip_last_arrival_ts\": 43200, \"departure_hour\": 10, \"time_of_day\": \"Midday\", \"p25\": 1.18, \"p50\": 1.18, \"p75\": 1.23, \"p50_trip\": 1, \"fastest_trip\": 0, \"car_duration_hours\": 0.9, \"competitive_route\": 1, \"bus_multiplier\": 1.31, \"bus_difference\": 16.8, \"num_trips\": 20, \"num_competitive\": 20, \"pct_trips_competitive\": 1.0, \"bus_difference_spread\": 4.800000000000001, \"route_group\": \"medium\", \"max_trip_hrs\": 1.23, \"max_trip_route_group\": 1.23, \"below_cutoff\": 20, \"pct_below_cutoff\": 1.0, \"name\": \"Transit Joint Powers Authority for Merced County\", \"caltrans_district\": \"10 - Stockton\", \"drmt_organization_name\": null, \"route_name\": \"Los Banos Commuter\", \"cutoff2\": 30, \"cutoff\": 2}, {\"calitp_itp_id\": 343, \"trip_key\": 6122250569749720475, \"trip_id\": \"t_1963142_b_33141_tn_0\", \"shape_id\": \"p_1303791\", \"route_id\": \"1881\", \"service_hours\": 1.18, \"trip_first_departure_ts\": 68580, \"trip_last_arrival_ts\": 72840, \"departure_hour\": 19, \"time_of_day\": \"PM Peak\", \"p25\": 1.18, \"p50\": 1.18, \"p75\": 1.23, \"p50_trip\": 1, \"fastest_trip\": 0, \"car_duration_hours\": 0.9, \"competitive_route\": 1, \"bus_multiplier\": 1.31, \"bus_difference\": 16.8, \"num_trips\": 20, \"num_competitive\": 20, \"pct_trips_competitive\": 1.0, \"bus_difference_spread\": 4.800000000000001, \"route_group\": \"medium\", \"max_trip_hrs\": 1.23, \"max_trip_route_group\": 1.23, \"below_cutoff\": 20, \"pct_below_cutoff\": 1.0, \"name\": \"Transit Joint Powers Authority for Merced County\", \"caltrans_district\": \"10 - Stockton\", \"drmt_organization_name\": null, \"route_name\": \"Los Banos Commuter\", \"cutoff2\": 30, \"cutoff\": 2}, {\"calitp_itp_id\": 343, \"trip_key\": 2683520550618393728, \"trip_id\": \"t_1963138_b_33141_tn_0\", \"shape_id\": \"p_1303791\", \"route_id\": \"1881\", \"service_hours\": 1.18, \"trip_first_departure_ts\": 48840, \"trip_last_arrival_ts\": 53100, \"departure_hour\": 13, \"time_of_day\": \"Midday\", \"p25\": 1.18, \"p50\": 1.18, \"p75\": 1.23, \"p50_trip\": 1, \"fastest_trip\": 0, \"car_duration_hours\": 0.9, \"competitive_route\": 1, \"bus_multiplier\": 1.31, \"bus_difference\": 16.8, \"num_trips\": 20, \"num_competitive\": 20, \"pct_trips_competitive\": 1.0, \"bus_difference_spread\": 4.800000000000001, \"route_group\": \"medium\", \"max_trip_hrs\": 1.23, \"max_trip_route_group\": 1.23, \"below_cutoff\": 20, \"pct_below_cutoff\": 1.0, \"name\": \"Transit Joint Powers Authority for Merced County\", \"caltrans_district\": \"10 - Stockton\", \"drmt_organization_name\": null, \"route_name\": \"Los Banos Commuter\", \"cutoff2\": 30, \"cutoff\": 2}, {\"calitp_itp_id\": 343, \"trip_key\": 3284257985366143338, \"trip_id\": \"t_1963136_b_33141_tn_0\", \"shape_id\": \"p_1303791\", \"route_id\": \"1881\", \"service_hours\": 1.18, \"trip_first_departure_ts\": 32640, \"trip_last_arrival_ts\": 36900, \"departure_hour\": 9, \"time_of_day\": \"AM Peak\", \"p25\": 1.18, \"p50\": 1.18, \"p75\": 1.23, \"p50_trip\": 1, \"fastest_trip\": 0, \"car_duration_hours\": 0.9, \"competitive_route\": 1, \"bus_multiplier\": 1.31, \"bus_difference\": 16.8, \"num_trips\": 20, \"num_competitive\": 20, \"pct_trips_competitive\": 1.0, \"bus_difference_spread\": 4.800000000000001, \"route_group\": \"medium\", \"max_trip_hrs\": 1.23, \"max_trip_route_group\": 1.23, \"below_cutoff\": 20, \"pct_below_cutoff\": 1.0, \"name\": \"Transit Joint Powers Authority for Merced County\", \"caltrans_district\": \"10 - Stockton\", \"drmt_organization_name\": null, \"route_name\": \"Los Banos Commuter\", \"cutoff2\": 30, \"cutoff\": 2}, {\"calitp_itp_id\": 343, \"trip_key\": -6607512870610324607, \"trip_id\": \"t_1963140_b_33141_tn_0\", \"shape_id\": \"p_1303791\", \"route_id\": \"1881\", \"service_hours\": 1.18, \"trip_first_departure_ts\": 59640, \"trip_last_arrival_ts\": 63900, \"departure_hour\": 16, \"time_of_day\": \"Midday\", \"p25\": 1.18, \"p50\": 1.18, \"p75\": 1.23, \"p50_trip\": 1, \"fastest_trip\": 0, \"car_duration_hours\": 0.9, \"competitive_route\": 1, \"bus_multiplier\": 1.31, \"bus_difference\": 16.8, \"num_trips\": 20, \"num_competitive\": 20, \"pct_trips_competitive\": 1.0, \"bus_difference_spread\": 4.800000000000001, \"route_group\": \"medium\", \"max_trip_hrs\": 1.23, \"max_trip_route_group\": 1.23, \"below_cutoff\": 20, \"pct_below_cutoff\": 1.0, \"name\": \"Transit Joint Powers Authority for Merced County\", \"caltrans_district\": \"10 - Stockton\", \"drmt_organization_name\": null, \"route_name\": \"Los Banos Commuter\", \"cutoff2\": 30, \"cutoff\": 2}, {\"calitp_itp_id\": 343, \"trip_key\": 7077916178314187876, \"trip_id\": \"t_1963135_b_33141_tn_0\", \"shape_id\": \"p_1303791\", \"route_id\": \"1881\", \"service_hours\": 1.18, \"trip_first_departure_ts\": 29040, \"trip_last_arrival_ts\": 33300, \"departure_hour\": 8, \"time_of_day\": \"AM Peak\", \"p25\": 1.18, \"p50\": 1.18, \"p75\": 1.23, \"p50_trip\": 1, \"fastest_trip\": 0, \"car_duration_hours\": 0.9, \"competitive_route\": 1, \"bus_multiplier\": 1.31, \"bus_difference\": 16.8, \"num_trips\": 20, \"num_competitive\": 20, \"pct_trips_competitive\": 1.0, \"bus_difference_spread\": 4.800000000000001, \"route_group\": \"medium\", \"max_trip_hrs\": 1.23, \"max_trip_route_group\": 1.23, \"below_cutoff\": 20, \"pct_below_cutoff\": 1.0, \"name\": \"Transit Joint Powers Authority for Merced County\", \"caltrans_district\": \"10 - Stockton\", \"drmt_organization_name\": null, \"route_name\": \"Los Banos Commuter\", \"cutoff2\": 30, \"cutoff\": 2}, {\"calitp_itp_id\": 343, \"trip_key\": 1642406009089055462, \"trip_id\": \"t_1963137_b_33141_tn_0\", \"shape_id\": \"p_1303791\", \"route_id\": \"1881\", \"service_hours\": 1.18, \"trip_first_departure_ts\": 43440, \"trip_last_arrival_ts\": 47700, \"departure_hour\": 12, \"time_of_day\": \"Midday\", \"p25\": 1.18, \"p50\": 1.18, \"p75\": 1.23, \"p50_trip\": 1, \"fastest_trip\": 0, \"car_duration_hours\": 0.9, \"competitive_route\": 1, \"bus_multiplier\": 1.31, \"bus_difference\": 16.8, \"num_trips\": 20, \"num_competitive\": 20, \"pct_trips_competitive\": 1.0, \"bus_difference_spread\": 4.800000000000001, \"route_group\": \"medium\", \"max_trip_hrs\": 1.23, \"max_trip_route_group\": 1.23, \"below_cutoff\": 20, \"pct_below_cutoff\": 1.0, \"name\": \"Transit Joint Powers Authority for Merced County\", \"caltrans_district\": \"10 - Stockton\", \"drmt_organization_name\": null, \"route_name\": \"Los Banos Commuter\", \"cutoff2\": 30, \"cutoff\": 2}, {\"calitp_itp_id\": 343, \"trip_key\": -4440352420161409541, \"trip_id\": \"t_1963126_b_33141_tn_0\", \"shape_id\": \"p_1303788\", \"route_id\": \"1881\", \"service_hours\": 1.23, \"trip_first_departure_ts\": 33300, \"trip_last_arrival_ts\": 37740, \"departure_hour\": 9, \"time_of_day\": \"AM Peak\", \"p25\": 1.18, \"p50\": 1.18, \"p75\": 1.23, \"p50_trip\": 0, \"fastest_trip\": 0, \"car_duration_hours\": 0.9, \"competitive_route\": 1, \"bus_multiplier\": 1.37, \"bus_difference\": 19.8, \"num_trips\": 20, \"num_competitive\": 20, \"pct_trips_competitive\": 1.0, \"bus_difference_spread\": 4.800000000000001, \"route_group\": \"medium\", \"max_trip_hrs\": 1.23, \"max_trip_route_group\": 1.23, \"below_cutoff\": 20, \"pct_below_cutoff\": 1.0, \"name\": \"Transit Joint Powers Authority for Merced County\", \"caltrans_district\": \"10 - Stockton\", \"drmt_organization_name\": null, \"route_name\": \"Los Banos Commuter\", \"cutoff2\": 30, \"cutoff\": 2}, {\"calitp_itp_id\": 343, \"trip_key\": 4330130170498142458, \"trip_id\": \"t_1963124_b_33141_tn_0\", \"shape_id\": \"p_1303788\", \"route_id\": \"1881\", \"service_hours\": 1.23, \"trip_first_departure_ts\": 48600, \"trip_last_arrival_ts\": 53040, \"departure_hour\": 13, \"time_of_day\": \"Midday\", \"p25\": 1.18, \"p50\": 1.18, \"p75\": 1.23, \"p50_trip\": 0, \"fastest_trip\": 0, \"car_duration_hours\": 0.9, \"competitive_route\": 1, \"bus_multiplier\": 1.37, \"bus_difference\": 19.8, \"num_trips\": 20, \"num_competitive\": 20, \"pct_trips_competitive\": 1.0, \"bus_difference_spread\": 4.800000000000001, \"route_group\": \"medium\", \"max_trip_hrs\": 1.23, \"max_trip_route_group\": 1.23, \"below_cutoff\": 20, \"pct_below_cutoff\": 1.0, \"name\": \"Transit Joint Powers Authority for Merced County\", \"caltrans_district\": \"10 - Stockton\", \"drmt_organization_name\": null, \"route_name\": \"Los Banos Commuter\", \"cutoff2\": 30, \"cutoff\": 2}, {\"calitp_itp_id\": 343, \"trip_key\": -1448756516359851733, \"trip_id\": \"t_1963131_b_33141_tn_0\", \"shape_id\": \"p_1303788\", \"route_id\": \"1881\", \"service_hours\": 1.23, \"trip_first_departure_ts\": 27000, \"trip_last_arrival_ts\": 31440, \"departure_hour\": 7, \"time_of_day\": \"AM Peak\", \"p25\": 1.18, \"p50\": 1.18, \"p75\": 1.23, \"p50_trip\": 0, \"fastest_trip\": 0, \"car_duration_hours\": 0.9, \"competitive_route\": 1, \"bus_multiplier\": 1.37, \"bus_difference\": 19.8, \"num_trips\": 20, \"num_competitive\": 20, \"pct_trips_competitive\": 1.0, \"bus_difference_spread\": 4.800000000000001, \"route_group\": \"medium\", \"max_trip_hrs\": 1.23, \"max_trip_route_group\": 1.23, \"below_cutoff\": 20, \"pct_below_cutoff\": 1.0, \"name\": \"Transit Joint Powers Authority for Merced County\", \"caltrans_district\": \"10 - Stockton\", \"drmt_organization_name\": null, \"route_name\": \"Los Banos Commuter\", \"cutoff2\": 30, \"cutoff\": 2}, {\"calitp_itp_id\": 343, \"trip_key\": 2839669944368947609, \"trip_id\": \"t_1963125_b_33141_tn_0\", \"shape_id\": \"p_1303788\", \"route_id\": \"1881\", \"service_hours\": 1.23, \"trip_first_departure_ts\": 59400, \"trip_last_arrival_ts\": 63840, \"departure_hour\": 16, \"time_of_day\": \"Midday\", \"p25\": 1.18, \"p50\": 1.18, \"p75\": 1.23, \"p50_trip\": 0, \"fastest_trip\": 0, \"car_duration_hours\": 0.9, \"competitive_route\": 1, \"bus_multiplier\": 1.37, \"bus_difference\": 19.8, \"num_trips\": 20, \"num_competitive\": 20, \"pct_trips_competitive\": 1.0, \"bus_difference_spread\": 4.800000000000001, \"route_group\": \"medium\", \"max_trip_hrs\": 1.23, \"max_trip_route_group\": 1.23, \"below_cutoff\": 20, \"pct_below_cutoff\": 1.0, \"name\": \"Transit Joint Powers Authority for Merced County\", \"caltrans_district\": \"10 - Stockton\", \"drmt_organization_name\": null, \"route_name\": \"Los Banos Commuter\", \"cutoff2\": 30, \"cutoff\": 2}, {\"calitp_itp_id\": 343, \"trip_key\": -2346356644846226611, \"trip_id\": \"t_1963123_b_33141_tn_0\", \"shape_id\": \"p_1303788\", \"route_id\": \"1881\", \"service_hours\": 1.23, \"trip_first_departure_ts\": 37800, \"trip_last_arrival_ts\": 42240, \"departure_hour\": 10, \"time_of_day\": \"Midday\", \"p25\": 1.18, \"p50\": 1.18, \"p75\": 1.23, \"p50_trip\": 0, \"fastest_trip\": 0, \"car_duration_hours\": 0.9, \"competitive_route\": 1, \"bus_multiplier\": 1.37, \"bus_difference\": 19.8, \"num_trips\": 20, \"num_competitive\": 20, \"pct_trips_competitive\": 1.0, \"bus_difference_spread\": 4.800000000000001, \"route_group\": \"medium\", \"max_trip_hrs\": 1.23, \"max_trip_route_group\": 1.23, \"below_cutoff\": 20, \"pct_below_cutoff\": 1.0, \"name\": \"Transit Joint Powers Authority for Merced County\", \"caltrans_district\": \"10 - Stockton\", \"drmt_organization_name\": null, \"route_name\": \"Los Banos Commuter\", \"cutoff2\": 30, \"cutoff\": 2}, {\"calitp_itp_id\": 343, \"trip_key\": 8313034551470198749, \"trip_id\": \"t_1963128_b_33141_tn_0\", \"shape_id\": \"p_1303788\", \"route_id\": \"1881\", \"service_hours\": 1.23, \"trip_first_departure_ts\": 54000, \"trip_last_arrival_ts\": 58440, \"departure_hour\": 15, \"time_of_day\": \"Midday\", \"p25\": 1.18, \"p50\": 1.18, \"p75\": 1.23, \"p50_trip\": 0, \"fastest_trip\": 0, \"car_duration_hours\": 0.9, \"competitive_route\": 1, \"bus_multiplier\": 1.37, \"bus_difference\": 19.8, \"num_trips\": 20, \"num_competitive\": 20, \"pct_trips_competitive\": 1.0, \"bus_difference_spread\": 4.800000000000001, \"route_group\": \"medium\", \"max_trip_hrs\": 1.23, \"max_trip_route_group\": 1.23, \"below_cutoff\": 20, \"pct_below_cutoff\": 1.0, \"name\": \"Transit Joint Powers Authority for Merced County\", \"caltrans_district\": \"10 - Stockton\", \"drmt_organization_name\": null, \"route_name\": \"Los Banos Commuter\", \"cutoff2\": 30, \"cutoff\": 2}, {\"calitp_itp_id\": 343, \"trip_key\": -5484133089713109700, \"trip_id\": \"t_1963132_b_33141_tn_0\", \"shape_id\": \"p_1303788\", \"route_id\": \"1881\", \"service_hours\": 1.23, \"trip_first_departure_ts\": 23400, \"trip_last_arrival_ts\": 27840, \"departure_hour\": 6, \"time_of_day\": \"Owl Service\", \"p25\": 1.18, \"p50\": 1.18, \"p75\": 1.23, \"p50_trip\": 0, \"fastest_trip\": 0, \"car_duration_hours\": 0.9, \"competitive_route\": 1, \"bus_multiplier\": 1.37, \"bus_difference\": 19.8, \"num_trips\": 20, \"num_competitive\": 20, \"pct_trips_competitive\": 1.0, \"bus_difference_spread\": 4.800000000000001, \"route_group\": \"medium\", \"max_trip_hrs\": 1.23, \"max_trip_route_group\": 1.23, \"below_cutoff\": 20, \"pct_below_cutoff\": 1.0, \"name\": \"Transit Joint Powers Authority for Merced County\", \"caltrans_district\": \"10 - Stockton\", \"drmt_organization_name\": null, \"route_name\": \"Los Banos Commuter\", \"cutoff2\": 30, \"cutoff\": 2}, {\"calitp_itp_id\": 343, \"trip_key\": -8923446581115531070, \"trip_id\": \"t_1963127_b_33141_tn_0\", \"shape_id\": \"p_1303788\", \"route_id\": \"1881\", \"service_hours\": 1.23, \"trip_first_departure_ts\": 43200, \"trip_last_arrival_ts\": 47640, \"departure_hour\": 12, \"time_of_day\": \"Midday\", \"p25\": 1.18, \"p50\": 1.18, \"p75\": 1.23, \"p50_trip\": 0, \"fastest_trip\": 0, \"car_duration_hours\": 0.9, \"competitive_route\": 1, \"bus_multiplier\": 1.37, \"bus_difference\": 19.8, \"num_trips\": 20, \"num_competitive\": 20, \"pct_trips_competitive\": 1.0, \"bus_difference_spread\": 4.800000000000001, \"route_group\": \"medium\", \"max_trip_hrs\": 1.23, \"max_trip_route_group\": 1.23, \"below_cutoff\": 20, \"pct_below_cutoff\": 1.0, \"name\": \"Transit Joint Powers Authority for Merced County\", \"caltrans_district\": \"10 - Stockton\", \"drmt_organization_name\": null, \"route_name\": \"Los Banos Commuter\", \"cutoff2\": 30, \"cutoff\": 2}]}}, {\"mode\": \"vega-lite\"});\n",
       "</script>"
      ],
      "text/plain": [
       "alt.FacetChart(...)"
      ]
     },
     "metadata": {},
     "output_type": "display_data"
    },
    {
     "data": {
      "text/html": [
       "\n",
       "<div id=\"altair-viz-05d8ca18ea314e58b3787e50b047bd3e\"></div>\n",
       "<script type=\"text/javascript\">\n",
       "  var VEGA_DEBUG = (typeof VEGA_DEBUG == \"undefined\") ? {} : VEGA_DEBUG;\n",
       "  (function(spec, embedOpt){\n",
       "    let outputDiv = document.currentScript.previousElementSibling;\n",
       "    if (outputDiv.id !== \"altair-viz-05d8ca18ea314e58b3787e50b047bd3e\") {\n",
       "      outputDiv = document.getElementById(\"altair-viz-05d8ca18ea314e58b3787e50b047bd3e\");\n",
       "    }\n",
       "    const paths = {\n",
       "      \"vega\": \"https://cdn.jsdelivr.net/npm//vega@5?noext\",\n",
       "      \"vega-lib\": \"https://cdn.jsdelivr.net/npm//vega-lib?noext\",\n",
       "      \"vega-lite\": \"https://cdn.jsdelivr.net/npm//vega-lite@4.17.0?noext\",\n",
       "      \"vega-embed\": \"https://cdn.jsdelivr.net/npm//vega-embed@6?noext\",\n",
       "    };\n",
       "\n",
       "    function maybeLoadScript(lib, version) {\n",
       "      var key = `${lib.replace(\"-\", \"\")}_version`;\n",
       "      return (VEGA_DEBUG[key] == version) ?\n",
       "        Promise.resolve(paths[lib]) :\n",
       "        new Promise(function(resolve, reject) {\n",
       "          var s = document.createElement('script');\n",
       "          document.getElementsByTagName(\"head\")[0].appendChild(s);\n",
       "          s.async = true;\n",
       "          s.onload = () => {\n",
       "            VEGA_DEBUG[key] = version;\n",
       "            return resolve(paths[lib]);\n",
       "          };\n",
       "          s.onerror = () => reject(`Error loading script: ${paths[lib]}`);\n",
       "          s.src = paths[lib];\n",
       "        });\n",
       "    }\n",
       "\n",
       "    function showError(err) {\n",
       "      outputDiv.innerHTML = `<div class=\"error\" style=\"color:red;\">${err}</div>`;\n",
       "      throw err;\n",
       "    }\n",
       "\n",
       "    function displayChart(vegaEmbed) {\n",
       "      vegaEmbed(outputDiv, spec, embedOpt)\n",
       "        .catch(err => showError(`Javascript Error: ${err.message}<br>This usually means there's a typo in your chart specification. See the javascript console for the full traceback.`));\n",
       "    }\n",
       "\n",
       "    if(typeof define === \"function\" && define.amd) {\n",
       "      requirejs.config({paths});\n",
       "      require([\"vega-embed\"], displayChart, err => showError(`Error loading script: ${err.message}`));\n",
       "    } else {\n",
       "      maybeLoadScript(\"vega\", \"5\")\n",
       "        .then(() => maybeLoadScript(\"vega-lite\", \"4.17.0\"))\n",
       "        .then(() => maybeLoadScript(\"vega-embed\", \"6\"))\n",
       "        .catch(showError)\n",
       "        .then(() => displayChart(vegaEmbed));\n",
       "    }\n",
       "  })({\"config\": {\"view\": {\"continuousWidth\": 400, \"continuousHeight\": 300, \"stroke\": null}, \"facet\": {\"spacing\": 0}}, \"data\": {\"name\": \"data-f681d115d81ef82765ac3ac03ec9ceb3\"}, \"facet\": {\"column\": {\"field\": \"route_id\", \"sort\": [\"1881\"], \"title\": \"Route ID\", \"type\": \"nominal\"}}, \"spec\": {\"layer\": [{\"mark\": \"rule\", \"encoding\": {\"color\": {\"value\": \"black\"}, \"y\": {\"field\": \"cutoff\", \"type\": \"quantitative\"}}, \"selection\": {\"selector002\": {\"type\": \"interval\", \"bind\": \"scales\", \"encodings\": [\"x\", \"y\"]}}}, {\"mark\": {\"type\": \"rule\", \"strokeDash\": [3, 3]}, \"encoding\": {\"color\": {\"value\": \"#323434\"}, \"y\": {\"field\": \"cutoff2\", \"type\": \"quantitative\"}}}, {\"mark\": {\"type\": \"point\", \"opacity\": 0.65, \"size\": 12, \"strokeWidth\": 1.1}, \"encoding\": {\"color\": {\"field\": \"time_of_day\", \"scale\": {\"range\": [\"#136C97\", \"#E16B26\", \"#F6BF16\", \"#00896B\", \"#7790A3\", \"#5B559C\"]}, \"sort\": [\"AM Peak\", \"Midday\", \"PM Peak\", \"Owl Service\"], \"title\": \"Time of Day\", \"type\": \"nominal\"}, \"tooltip\": [{\"field\": \"route_id\", \"type\": \"nominal\"}, {\"field\": \"route_name\", \"type\": \"nominal\"}, {\"field\": \"trip_id\", \"type\": \"nominal\"}, {\"field\": \"service_hours\", \"type\": \"quantitative\"}, {\"field\": \"car_duration_hours\", \"type\": \"quantitative\"}, {\"field\": \"bus_multiplier\", \"type\": \"quantitative\"}, {\"field\": \"bus_difference\", \"type\": \"quantitative\"}, {\"field\": \"num_trips\", \"type\": \"quantitative\"}, {\"field\": \"num_competitive\", \"type\": \"quantitative\"}, {\"field\": \"pct_trips_competitive\", \"type\": \"quantitative\"}, {\"field\": \"p25\", \"type\": \"quantitative\"}, {\"field\": \"p50\", \"type\": \"quantitative\"}, {\"field\": \"p75\", \"type\": \"quantitative\"}], \"x\": {\"axis\": {\"grid\": false, \"labels\": false, \"ticks\": true, \"values\": [0]}, \"field\": \"jitter\", \"scale\": {}, \"title\": null, \"type\": \"quantitative\"}, \"y\": {\"field\": \"bus_difference\", \"scale\": {\"domain\": [-5, 35.0]}, \"title\": \"Difference in Bus to Car Travel Time (min)\", \"type\": \"quantitative\"}}, \"transform\": [{\"calculate\": \"sqrt(-2*log(random()))*cos(2*PI*random())\", \"as\": \"jitter\"}], \"width\": 50}, {\"layer\": [{\"mark\": {\"type\": \"point\", \"opacity\": 0.6, \"size\": 20, \"strokeWidth\": 1.3}, \"encoding\": {\"color\": {\"value\": \"#323434\"}, \"y\": {\"field\": \"bus_difference\", \"type\": \"quantitative\"}}, \"transform\": [{\"filter\": \"(datum.p50_trip === 1)\"}]}, {\"mark\": {\"type\": \"text\", \"align\": \"center\", \"baseline\": \"middle\"}, \"encoding\": {\"color\": {\"value\": \"black\"}, \"text\": {\"field\": \"pct_trips_competitive\", \"format\": \".0%\", \"type\": \"quantitative\"}, \"tooltip\": [{\"field\": \"route_id\", \"type\": \"nominal\"}, {\"field\": \"route_name\", \"type\": \"nominal\"}, {\"field\": \"trip_id\", \"type\": \"nominal\"}, {\"field\": \"service_hours\", \"type\": \"quantitative\"}, {\"field\": \"car_duration_hours\", \"type\": \"quantitative\"}, {\"field\": \"bus_multiplier\", \"type\": \"quantitative\"}, {\"field\": \"bus_difference\", \"type\": \"quantitative\"}, {\"field\": \"num_trips\", \"type\": \"quantitative\"}, {\"field\": \"num_competitive\", \"type\": \"quantitative\"}, {\"field\": \"pct_trips_competitive\", \"type\": \"quantitative\"}, {\"field\": \"p25\", \"type\": \"quantitative\"}, {\"field\": \"p50\", \"type\": \"quantitative\"}, {\"field\": \"p75\", \"type\": \"quantitative\"}], \"x\": {\"value\": 30}, \"y\": {\"value\": 15}}, \"transform\": [{\"calculate\": \"sqrt(-2*log(random()))*cos(2*PI*random())\", \"as\": \"jitter\"}, {\"filter\": \"(datum.fastest_trip === 1)\"}]}]}]}, \"resolve\": {\"scale\": {\"y\": \"shared\"}}, \"title\": \"Difference in Bus to Car Travel Time (min)\", \"$schema\": \"https://vega.github.io/schema/vega-lite/v4.17.0.json\", \"datasets\": {\"data-f681d115d81ef82765ac3ac03ec9ceb3\": [{\"calitp_itp_id\": 343, \"trip_key\": 7516215431355909309, \"trip_id\": \"t_1963129_b_33141_tn_0\", \"shape_id\": \"p_1303793\", \"route_id\": \"1881\", \"service_hours\": 1.15, \"trip_first_departure_ts\": 63900, \"trip_last_arrival_ts\": 68040, \"departure_hour\": 17, \"time_of_day\": \"PM Peak\", \"p25\": 1.18, \"p50\": 1.18, \"p75\": 1.23, \"p50_trip\": 0, \"fastest_trip\": 0, \"car_duration_hours\": 0.9, \"competitive_route\": 1, \"bus_multiplier\": 1.28, \"bus_difference\": 15.0, \"num_trips\": 20, \"num_competitive\": 20, \"pct_trips_competitive\": 1.0, \"bus_difference_spread\": 4.800000000000001, \"route_group\": \"medium\", \"max_trip_hrs\": 1.23, \"max_trip_route_group\": 1.23, \"below_cutoff\": 20, \"pct_below_cutoff\": 1.0, \"name\": \"Transit Joint Powers Authority for Merced County\", \"caltrans_district\": \"10 - Stockton\", \"drmt_organization_name\": null, \"route_name\": \"Los Banos Commuter\", \"cutoff2\": 30, \"cutoff\": 0}, {\"calitp_itp_id\": 343, \"trip_key\": -9179148727592923166, \"trip_id\": \"t_1963130_b_33141_tn_0\", \"shape_id\": \"p_1303793\", \"route_id\": \"1881\", \"service_hours\": 1.15, \"trip_first_departure_ts\": 70200, \"trip_last_arrival_ts\": 74340, \"departure_hour\": 19, \"time_of_day\": \"PM Peak\", \"p25\": 1.18, \"p50\": 1.18, \"p75\": 1.23, \"p50_trip\": 0, \"fastest_trip\": 1, \"car_duration_hours\": 0.9, \"competitive_route\": 1, \"bus_multiplier\": 1.28, \"bus_difference\": 15.0, \"num_trips\": 20, \"num_competitive\": 20, \"pct_trips_competitive\": 1.0, \"bus_difference_spread\": 4.800000000000001, \"route_group\": \"medium\", \"max_trip_hrs\": 1.23, \"max_trip_route_group\": 1.23, \"below_cutoff\": 20, \"pct_below_cutoff\": 1.0, \"name\": \"Transit Joint Powers Authority for Merced County\", \"caltrans_district\": \"10 - Stockton\", \"drmt_organization_name\": null, \"route_name\": \"Los Banos Commuter\", \"cutoff2\": 30, \"cutoff\": 0}, {\"calitp_itp_id\": 343, \"trip_key\": 5381214985750226954, \"trip_id\": \"t_1963141_b_33141_tn_0\", \"shape_id\": \"p_1303791\", \"route_id\": \"1881\", \"service_hours\": 1.18, \"trip_first_departure_ts\": 65040, \"trip_last_arrival_ts\": 69300, \"departure_hour\": 18, \"time_of_day\": \"PM Peak\", \"p25\": 1.18, \"p50\": 1.18, \"p75\": 1.23, \"p50_trip\": 1, \"fastest_trip\": 0, \"car_duration_hours\": 0.9, \"competitive_route\": 1, \"bus_multiplier\": 1.31, \"bus_difference\": 16.8, \"num_trips\": 20, \"num_competitive\": 20, \"pct_trips_competitive\": 1.0, \"bus_difference_spread\": 4.800000000000001, \"route_group\": \"medium\", \"max_trip_hrs\": 1.23, \"max_trip_route_group\": 1.23, \"below_cutoff\": 20, \"pct_below_cutoff\": 1.0, \"name\": \"Transit Joint Powers Authority for Merced County\", \"caltrans_district\": \"10 - Stockton\", \"drmt_organization_name\": null, \"route_name\": \"Los Banos Commuter\", \"cutoff2\": 30, \"cutoff\": 0}, {\"calitp_itp_id\": 343, \"trip_key\": 5286043343502123648, \"trip_id\": \"t_1963133_b_33141_tn_0\", \"shape_id\": \"p_1303791\", \"route_id\": \"1881\", \"service_hours\": 1.18, \"trip_first_departure_ts\": 21840, \"trip_last_arrival_ts\": 26100, \"departure_hour\": 6, \"time_of_day\": \"Owl Service\", \"p25\": 1.18, \"p50\": 1.18, \"p75\": 1.23, \"p50_trip\": 1, \"fastest_trip\": 0, \"car_duration_hours\": 0.9, \"competitive_route\": 1, \"bus_multiplier\": 1.31, \"bus_difference\": 16.8, \"num_trips\": 20, \"num_competitive\": 20, \"pct_trips_competitive\": 1.0, \"bus_difference_spread\": 4.800000000000001, \"route_group\": \"medium\", \"max_trip_hrs\": 1.23, \"max_trip_route_group\": 1.23, \"below_cutoff\": 20, \"pct_below_cutoff\": 1.0, \"name\": \"Transit Joint Powers Authority for Merced County\", \"caltrans_district\": \"10 - Stockton\", \"drmt_organization_name\": null, \"route_name\": \"Los Banos Commuter\", \"cutoff2\": 30, \"cutoff\": 0}, {\"calitp_itp_id\": 343, \"trip_key\": -3118253142166864359, \"trip_id\": \"t_1963139_b_33141_tn_0\", \"shape_id\": \"p_1303791\", \"route_id\": \"1881\", \"service_hours\": 1.18, \"trip_first_departure_ts\": 54240, \"trip_last_arrival_ts\": 58500, \"departure_hour\": 15, \"time_of_day\": \"Midday\", \"p25\": 1.18, \"p50\": 1.18, \"p75\": 1.23, \"p50_trip\": 1, \"fastest_trip\": 0, \"car_duration_hours\": 0.9, \"competitive_route\": 1, \"bus_multiplier\": 1.31, \"bus_difference\": 16.8, \"num_trips\": 20, \"num_competitive\": 20, \"pct_trips_competitive\": 1.0, \"bus_difference_spread\": 4.800000000000001, \"route_group\": \"medium\", \"max_trip_hrs\": 1.23, \"max_trip_route_group\": 1.23, \"below_cutoff\": 20, \"pct_below_cutoff\": 1.0, \"name\": \"Transit Joint Powers Authority for Merced County\", \"caltrans_district\": \"10 - Stockton\", \"drmt_organization_name\": null, \"route_name\": \"Los Banos Commuter\", \"cutoff2\": 30, \"cutoff\": 0}, {\"calitp_itp_id\": 343, \"trip_key\": -6539832337695123663, \"trip_id\": \"t_1963134_b_33141_tn_0\", \"shape_id\": \"p_1303791\", \"route_id\": \"1881\", \"service_hours\": 1.18, \"trip_first_departure_ts\": 38940, \"trip_last_arrival_ts\": 43200, \"departure_hour\": 10, \"time_of_day\": \"Midday\", \"p25\": 1.18, \"p50\": 1.18, \"p75\": 1.23, \"p50_trip\": 1, \"fastest_trip\": 0, \"car_duration_hours\": 0.9, \"competitive_route\": 1, \"bus_multiplier\": 1.31, \"bus_difference\": 16.8, \"num_trips\": 20, \"num_competitive\": 20, \"pct_trips_competitive\": 1.0, \"bus_difference_spread\": 4.800000000000001, \"route_group\": \"medium\", \"max_trip_hrs\": 1.23, \"max_trip_route_group\": 1.23, \"below_cutoff\": 20, \"pct_below_cutoff\": 1.0, \"name\": \"Transit Joint Powers Authority for Merced County\", \"caltrans_district\": \"10 - Stockton\", \"drmt_organization_name\": null, \"route_name\": \"Los Banos Commuter\", \"cutoff2\": 30, \"cutoff\": 0}, {\"calitp_itp_id\": 343, \"trip_key\": 6122250569749720475, \"trip_id\": \"t_1963142_b_33141_tn_0\", \"shape_id\": \"p_1303791\", \"route_id\": \"1881\", \"service_hours\": 1.18, \"trip_first_departure_ts\": 68580, \"trip_last_arrival_ts\": 72840, \"departure_hour\": 19, \"time_of_day\": \"PM Peak\", \"p25\": 1.18, \"p50\": 1.18, \"p75\": 1.23, \"p50_trip\": 1, \"fastest_trip\": 0, \"car_duration_hours\": 0.9, \"competitive_route\": 1, \"bus_multiplier\": 1.31, \"bus_difference\": 16.8, \"num_trips\": 20, \"num_competitive\": 20, \"pct_trips_competitive\": 1.0, \"bus_difference_spread\": 4.800000000000001, \"route_group\": \"medium\", \"max_trip_hrs\": 1.23, \"max_trip_route_group\": 1.23, \"below_cutoff\": 20, \"pct_below_cutoff\": 1.0, \"name\": \"Transit Joint Powers Authority for Merced County\", \"caltrans_district\": \"10 - Stockton\", \"drmt_organization_name\": null, \"route_name\": \"Los Banos Commuter\", \"cutoff2\": 30, \"cutoff\": 0}, {\"calitp_itp_id\": 343, \"trip_key\": 2683520550618393728, \"trip_id\": \"t_1963138_b_33141_tn_0\", \"shape_id\": \"p_1303791\", \"route_id\": \"1881\", \"service_hours\": 1.18, \"trip_first_departure_ts\": 48840, \"trip_last_arrival_ts\": 53100, \"departure_hour\": 13, \"time_of_day\": \"Midday\", \"p25\": 1.18, \"p50\": 1.18, \"p75\": 1.23, \"p50_trip\": 1, \"fastest_trip\": 0, \"car_duration_hours\": 0.9, \"competitive_route\": 1, \"bus_multiplier\": 1.31, \"bus_difference\": 16.8, \"num_trips\": 20, \"num_competitive\": 20, \"pct_trips_competitive\": 1.0, \"bus_difference_spread\": 4.800000000000001, \"route_group\": \"medium\", \"max_trip_hrs\": 1.23, \"max_trip_route_group\": 1.23, \"below_cutoff\": 20, \"pct_below_cutoff\": 1.0, \"name\": \"Transit Joint Powers Authority for Merced County\", \"caltrans_district\": \"10 - Stockton\", \"drmt_organization_name\": null, \"route_name\": \"Los Banos Commuter\", \"cutoff2\": 30, \"cutoff\": 0}, {\"calitp_itp_id\": 343, \"trip_key\": 3284257985366143338, \"trip_id\": \"t_1963136_b_33141_tn_0\", \"shape_id\": \"p_1303791\", \"route_id\": \"1881\", \"service_hours\": 1.18, \"trip_first_departure_ts\": 32640, \"trip_last_arrival_ts\": 36900, \"departure_hour\": 9, \"time_of_day\": \"AM Peak\", \"p25\": 1.18, \"p50\": 1.18, \"p75\": 1.23, \"p50_trip\": 1, \"fastest_trip\": 0, \"car_duration_hours\": 0.9, \"competitive_route\": 1, \"bus_multiplier\": 1.31, \"bus_difference\": 16.8, \"num_trips\": 20, \"num_competitive\": 20, \"pct_trips_competitive\": 1.0, \"bus_difference_spread\": 4.800000000000001, \"route_group\": \"medium\", \"max_trip_hrs\": 1.23, \"max_trip_route_group\": 1.23, \"below_cutoff\": 20, \"pct_below_cutoff\": 1.0, \"name\": \"Transit Joint Powers Authority for Merced County\", \"caltrans_district\": \"10 - Stockton\", \"drmt_organization_name\": null, \"route_name\": \"Los Banos Commuter\", \"cutoff2\": 30, \"cutoff\": 0}, {\"calitp_itp_id\": 343, \"trip_key\": -6607512870610324607, \"trip_id\": \"t_1963140_b_33141_tn_0\", \"shape_id\": \"p_1303791\", \"route_id\": \"1881\", \"service_hours\": 1.18, \"trip_first_departure_ts\": 59640, \"trip_last_arrival_ts\": 63900, \"departure_hour\": 16, \"time_of_day\": \"Midday\", \"p25\": 1.18, \"p50\": 1.18, \"p75\": 1.23, \"p50_trip\": 1, \"fastest_trip\": 0, \"car_duration_hours\": 0.9, \"competitive_route\": 1, \"bus_multiplier\": 1.31, \"bus_difference\": 16.8, \"num_trips\": 20, \"num_competitive\": 20, \"pct_trips_competitive\": 1.0, \"bus_difference_spread\": 4.800000000000001, \"route_group\": \"medium\", \"max_trip_hrs\": 1.23, \"max_trip_route_group\": 1.23, \"below_cutoff\": 20, \"pct_below_cutoff\": 1.0, \"name\": \"Transit Joint Powers Authority for Merced County\", \"caltrans_district\": \"10 - Stockton\", \"drmt_organization_name\": null, \"route_name\": \"Los Banos Commuter\", \"cutoff2\": 30, \"cutoff\": 0}, {\"calitp_itp_id\": 343, \"trip_key\": 7077916178314187876, \"trip_id\": \"t_1963135_b_33141_tn_0\", \"shape_id\": \"p_1303791\", \"route_id\": \"1881\", \"service_hours\": 1.18, \"trip_first_departure_ts\": 29040, \"trip_last_arrival_ts\": 33300, \"departure_hour\": 8, \"time_of_day\": \"AM Peak\", \"p25\": 1.18, \"p50\": 1.18, \"p75\": 1.23, \"p50_trip\": 1, \"fastest_trip\": 0, \"car_duration_hours\": 0.9, \"competitive_route\": 1, \"bus_multiplier\": 1.31, \"bus_difference\": 16.8, \"num_trips\": 20, \"num_competitive\": 20, \"pct_trips_competitive\": 1.0, \"bus_difference_spread\": 4.800000000000001, \"route_group\": \"medium\", \"max_trip_hrs\": 1.23, \"max_trip_route_group\": 1.23, \"below_cutoff\": 20, \"pct_below_cutoff\": 1.0, \"name\": \"Transit Joint Powers Authority for Merced County\", \"caltrans_district\": \"10 - Stockton\", \"drmt_organization_name\": null, \"route_name\": \"Los Banos Commuter\", \"cutoff2\": 30, \"cutoff\": 0}, {\"calitp_itp_id\": 343, \"trip_key\": 1642406009089055462, \"trip_id\": \"t_1963137_b_33141_tn_0\", \"shape_id\": \"p_1303791\", \"route_id\": \"1881\", \"service_hours\": 1.18, \"trip_first_departure_ts\": 43440, \"trip_last_arrival_ts\": 47700, \"departure_hour\": 12, \"time_of_day\": \"Midday\", \"p25\": 1.18, \"p50\": 1.18, \"p75\": 1.23, \"p50_trip\": 1, \"fastest_trip\": 0, \"car_duration_hours\": 0.9, \"competitive_route\": 1, \"bus_multiplier\": 1.31, \"bus_difference\": 16.8, \"num_trips\": 20, \"num_competitive\": 20, \"pct_trips_competitive\": 1.0, \"bus_difference_spread\": 4.800000000000001, \"route_group\": \"medium\", \"max_trip_hrs\": 1.23, \"max_trip_route_group\": 1.23, \"below_cutoff\": 20, \"pct_below_cutoff\": 1.0, \"name\": \"Transit Joint Powers Authority for Merced County\", \"caltrans_district\": \"10 - Stockton\", \"drmt_organization_name\": null, \"route_name\": \"Los Banos Commuter\", \"cutoff2\": 30, \"cutoff\": 0}, {\"calitp_itp_id\": 343, \"trip_key\": -4440352420161409541, \"trip_id\": \"t_1963126_b_33141_tn_0\", \"shape_id\": \"p_1303788\", \"route_id\": \"1881\", \"service_hours\": 1.23, \"trip_first_departure_ts\": 33300, \"trip_last_arrival_ts\": 37740, \"departure_hour\": 9, \"time_of_day\": \"AM Peak\", \"p25\": 1.18, \"p50\": 1.18, \"p75\": 1.23, \"p50_trip\": 0, \"fastest_trip\": 0, \"car_duration_hours\": 0.9, \"competitive_route\": 1, \"bus_multiplier\": 1.37, \"bus_difference\": 19.8, \"num_trips\": 20, \"num_competitive\": 20, \"pct_trips_competitive\": 1.0, \"bus_difference_spread\": 4.800000000000001, \"route_group\": \"medium\", \"max_trip_hrs\": 1.23, \"max_trip_route_group\": 1.23, \"below_cutoff\": 20, \"pct_below_cutoff\": 1.0, \"name\": \"Transit Joint Powers Authority for Merced County\", \"caltrans_district\": \"10 - Stockton\", \"drmt_organization_name\": null, \"route_name\": \"Los Banos Commuter\", \"cutoff2\": 30, \"cutoff\": 0}, {\"calitp_itp_id\": 343, \"trip_key\": 4330130170498142458, \"trip_id\": \"t_1963124_b_33141_tn_0\", \"shape_id\": \"p_1303788\", \"route_id\": \"1881\", \"service_hours\": 1.23, \"trip_first_departure_ts\": 48600, \"trip_last_arrival_ts\": 53040, \"departure_hour\": 13, \"time_of_day\": \"Midday\", \"p25\": 1.18, \"p50\": 1.18, \"p75\": 1.23, \"p50_trip\": 0, \"fastest_trip\": 0, \"car_duration_hours\": 0.9, \"competitive_route\": 1, \"bus_multiplier\": 1.37, \"bus_difference\": 19.8, \"num_trips\": 20, \"num_competitive\": 20, \"pct_trips_competitive\": 1.0, \"bus_difference_spread\": 4.800000000000001, \"route_group\": \"medium\", \"max_trip_hrs\": 1.23, \"max_trip_route_group\": 1.23, \"below_cutoff\": 20, \"pct_below_cutoff\": 1.0, \"name\": \"Transit Joint Powers Authority for Merced County\", \"caltrans_district\": \"10 - Stockton\", \"drmt_organization_name\": null, \"route_name\": \"Los Banos Commuter\", \"cutoff2\": 30, \"cutoff\": 0}, {\"calitp_itp_id\": 343, \"trip_key\": -1448756516359851733, \"trip_id\": \"t_1963131_b_33141_tn_0\", \"shape_id\": \"p_1303788\", \"route_id\": \"1881\", \"service_hours\": 1.23, \"trip_first_departure_ts\": 27000, \"trip_last_arrival_ts\": 31440, \"departure_hour\": 7, \"time_of_day\": \"AM Peak\", \"p25\": 1.18, \"p50\": 1.18, \"p75\": 1.23, \"p50_trip\": 0, \"fastest_trip\": 0, \"car_duration_hours\": 0.9, \"competitive_route\": 1, \"bus_multiplier\": 1.37, \"bus_difference\": 19.8, \"num_trips\": 20, \"num_competitive\": 20, \"pct_trips_competitive\": 1.0, \"bus_difference_spread\": 4.800000000000001, \"route_group\": \"medium\", \"max_trip_hrs\": 1.23, \"max_trip_route_group\": 1.23, \"below_cutoff\": 20, \"pct_below_cutoff\": 1.0, \"name\": \"Transit Joint Powers Authority for Merced County\", \"caltrans_district\": \"10 - Stockton\", \"drmt_organization_name\": null, \"route_name\": \"Los Banos Commuter\", \"cutoff2\": 30, \"cutoff\": 0}, {\"calitp_itp_id\": 343, \"trip_key\": 2839669944368947609, \"trip_id\": \"t_1963125_b_33141_tn_0\", \"shape_id\": \"p_1303788\", \"route_id\": \"1881\", \"service_hours\": 1.23, \"trip_first_departure_ts\": 59400, \"trip_last_arrival_ts\": 63840, \"departure_hour\": 16, \"time_of_day\": \"Midday\", \"p25\": 1.18, \"p50\": 1.18, \"p75\": 1.23, \"p50_trip\": 0, \"fastest_trip\": 0, \"car_duration_hours\": 0.9, \"competitive_route\": 1, \"bus_multiplier\": 1.37, \"bus_difference\": 19.8, \"num_trips\": 20, \"num_competitive\": 20, \"pct_trips_competitive\": 1.0, \"bus_difference_spread\": 4.800000000000001, \"route_group\": \"medium\", \"max_trip_hrs\": 1.23, \"max_trip_route_group\": 1.23, \"below_cutoff\": 20, \"pct_below_cutoff\": 1.0, \"name\": \"Transit Joint Powers Authority for Merced County\", \"caltrans_district\": \"10 - Stockton\", \"drmt_organization_name\": null, \"route_name\": \"Los Banos Commuter\", \"cutoff2\": 30, \"cutoff\": 0}, {\"calitp_itp_id\": 343, \"trip_key\": -2346356644846226611, \"trip_id\": \"t_1963123_b_33141_tn_0\", \"shape_id\": \"p_1303788\", \"route_id\": \"1881\", \"service_hours\": 1.23, \"trip_first_departure_ts\": 37800, \"trip_last_arrival_ts\": 42240, \"departure_hour\": 10, \"time_of_day\": \"Midday\", \"p25\": 1.18, \"p50\": 1.18, \"p75\": 1.23, \"p50_trip\": 0, \"fastest_trip\": 0, \"car_duration_hours\": 0.9, \"competitive_route\": 1, \"bus_multiplier\": 1.37, \"bus_difference\": 19.8, \"num_trips\": 20, \"num_competitive\": 20, \"pct_trips_competitive\": 1.0, \"bus_difference_spread\": 4.800000000000001, \"route_group\": \"medium\", \"max_trip_hrs\": 1.23, \"max_trip_route_group\": 1.23, \"below_cutoff\": 20, \"pct_below_cutoff\": 1.0, \"name\": \"Transit Joint Powers Authority for Merced County\", \"caltrans_district\": \"10 - Stockton\", \"drmt_organization_name\": null, \"route_name\": \"Los Banos Commuter\", \"cutoff2\": 30, \"cutoff\": 0}, {\"calitp_itp_id\": 343, \"trip_key\": 8313034551470198749, \"trip_id\": \"t_1963128_b_33141_tn_0\", \"shape_id\": \"p_1303788\", \"route_id\": \"1881\", \"service_hours\": 1.23, \"trip_first_departure_ts\": 54000, \"trip_last_arrival_ts\": 58440, \"departure_hour\": 15, \"time_of_day\": \"Midday\", \"p25\": 1.18, \"p50\": 1.18, \"p75\": 1.23, \"p50_trip\": 0, \"fastest_trip\": 0, \"car_duration_hours\": 0.9, \"competitive_route\": 1, \"bus_multiplier\": 1.37, \"bus_difference\": 19.8, \"num_trips\": 20, \"num_competitive\": 20, \"pct_trips_competitive\": 1.0, \"bus_difference_spread\": 4.800000000000001, \"route_group\": \"medium\", \"max_trip_hrs\": 1.23, \"max_trip_route_group\": 1.23, \"below_cutoff\": 20, \"pct_below_cutoff\": 1.0, \"name\": \"Transit Joint Powers Authority for Merced County\", \"caltrans_district\": \"10 - Stockton\", \"drmt_organization_name\": null, \"route_name\": \"Los Banos Commuter\", \"cutoff2\": 30, \"cutoff\": 0}, {\"calitp_itp_id\": 343, \"trip_key\": -5484133089713109700, \"trip_id\": \"t_1963132_b_33141_tn_0\", \"shape_id\": \"p_1303788\", \"route_id\": \"1881\", \"service_hours\": 1.23, \"trip_first_departure_ts\": 23400, \"trip_last_arrival_ts\": 27840, \"departure_hour\": 6, \"time_of_day\": \"Owl Service\", \"p25\": 1.18, \"p50\": 1.18, \"p75\": 1.23, \"p50_trip\": 0, \"fastest_trip\": 0, \"car_duration_hours\": 0.9, \"competitive_route\": 1, \"bus_multiplier\": 1.37, \"bus_difference\": 19.8, \"num_trips\": 20, \"num_competitive\": 20, \"pct_trips_competitive\": 1.0, \"bus_difference_spread\": 4.800000000000001, \"route_group\": \"medium\", \"max_trip_hrs\": 1.23, \"max_trip_route_group\": 1.23, \"below_cutoff\": 20, \"pct_below_cutoff\": 1.0, \"name\": \"Transit Joint Powers Authority for Merced County\", \"caltrans_district\": \"10 - Stockton\", \"drmt_organization_name\": null, \"route_name\": \"Los Banos Commuter\", \"cutoff2\": 30, \"cutoff\": 0}, {\"calitp_itp_id\": 343, \"trip_key\": -8923446581115531070, \"trip_id\": \"t_1963127_b_33141_tn_0\", \"shape_id\": \"p_1303788\", \"route_id\": \"1881\", \"service_hours\": 1.23, \"trip_first_departure_ts\": 43200, \"trip_last_arrival_ts\": 47640, \"departure_hour\": 12, \"time_of_day\": \"Midday\", \"p25\": 1.18, \"p50\": 1.18, \"p75\": 1.23, \"p50_trip\": 0, \"fastest_trip\": 0, \"car_duration_hours\": 0.9, \"competitive_route\": 1, \"bus_multiplier\": 1.37, \"bus_difference\": 19.8, \"num_trips\": 20, \"num_competitive\": 20, \"pct_trips_competitive\": 1.0, \"bus_difference_spread\": 4.800000000000001, \"route_group\": \"medium\", \"max_trip_hrs\": 1.23, \"max_trip_route_group\": 1.23, \"below_cutoff\": 20, \"pct_below_cutoff\": 1.0, \"name\": \"Transit Joint Powers Authority for Merced County\", \"caltrans_district\": \"10 - Stockton\", \"drmt_organization_name\": null, \"route_name\": \"Los Banos Commuter\", \"cutoff2\": 30, \"cutoff\": 0}]}}, {\"mode\": \"vega-lite\"});\n",
       "</script>"
      ],
      "text/plain": [
       "alt.FacetChart(...)"
      ]
     },
     "metadata": {},
     "output_type": "display_data"
    },
    {
     "data": {
      "text/html": [
       "<h4>Route Stats</h4>"
      ],
      "text/plain": [
       "<IPython.core.display.HTML object>"
      ]
     },
     "metadata": {},
     "output_type": "display_data"
    },
    {
     "data": {
      "text/html": [
       "<style type=\"text/css\">\n",
       "</style>\n",
       "<table id=\"T_38fe7\">\n",
       "  <thead>\n",
       "    <tr>\n",
       "      <th id=\"T_38fe7_level0_col0\" class=\"col_heading level0 col0\" >Route ID</th>\n",
       "      <th id=\"T_38fe7_level0_col1\" class=\"col_heading level0 col1\" >Route Name</th>\n",
       "      <th id=\"T_38fe7_level0_col2\" class=\"col_heading level0 col2\" ># trips</th>\n",
       "      <th id=\"T_38fe7_level0_col3\" class=\"col_heading level0 col3\" >Daily Avg Frequency (trips per hr)</th>\n",
       "      <th id=\"T_38fe7_level0_col4\" class=\"col_heading level0 col4\" >25th, 50th, 75th ptile (hrs)</th>\n",
       "      <th id=\"T_38fe7_level0_col5\" class=\"col_heading level0 col5\" >PM Peak Avg Frequency (trips per hr)</th>\n",
       "    </tr>\n",
       "  </thead>\n",
       "  <tbody>\n",
       "    <tr>\n",
       "      <td id=\"T_38fe7_row0_col0\" class=\"data row0 col0\" >1881</td>\n",
       "      <td id=\"T_38fe7_row0_col1\" class=\"data row0 col1\" >Los Banos Commuter</td>\n",
       "      <td id=\"T_38fe7_row0_col2\" class=\"data row0 col2\" >20</td>\n",
       "      <td id=\"T_38fe7_row0_col3\" class=\"data row0 col3\" >0.83</td>\n",
       "      <td id=\"T_38fe7_row0_col4\" class=\"data row0 col4\" >1.18, 1.18, 1.23</td>\n",
       "      <td id=\"T_38fe7_row0_col5\" class=\"data row0 col5\" >1.33</td>\n",
       "    </tr>\n",
       "  </tbody>\n",
       "</table>\n"
      ],
      "text/plain": [
       "<IPython.core.display.HTML object>"
      ]
     },
     "metadata": {},
     "output_type": "display_data"
    }
   ],
   "source": [
    "route_group = \"medium\"\n",
    "try:\n",
    "    display_charts_for_route_group(df, route_group)\n",
    "except:\n",
    "    print(\"No routes meet this criteria.\")"
   ]
  },
  {
   "cell_type": "markdown",
   "id": "124b76d0-886c-4d03-92ac-f1bda3cda182",
   "metadata": {
    "papermill": {
     "duration": 0.029956,
     "end_time": "2022-05-11T22:39:36.502528",
     "exception": false,
     "start_time": "2022-05-11T22:39:36.472572",
     "status": "completed"
    },
    "tags": []
   },
   "source": [
    "### Long Routes (> 1.5 hrs)"
   ]
  },
  {
   "cell_type": "code",
   "execution_count": 16,
   "id": "ddc81b19-4c45-4c81-8b7a-5e0f394aa7a3",
   "metadata": {
    "execution": {
     "iopub.execute_input": "2022-05-11T22:39:36.563372Z",
     "iopub.status.busy": "2022-05-11T22:39:36.563027Z",
     "iopub.status.idle": "2022-05-11T22:39:36.584926Z",
     "shell.execute_reply": "2022-05-11T22:39:36.580891Z"
    },
    "jupyter": {
     "source_hidden": true
    },
    "papermill": {
     "duration": 0.057225,
     "end_time": "2022-05-11T22:39:36.588076",
     "exception": false,
     "start_time": "2022-05-11T22:39:36.530851",
     "status": "completed"
    },
    "tags": [
     "remove_input"
    ]
   },
   "outputs": [
    {
     "name": "stdout",
     "output_type": "stream",
     "text": [
      "No routes meet this criteria.\n"
     ]
    }
   ],
   "source": [
    "route_group = \"long\"\n",
    "try:\n",
    "    display_charts_for_route_group(df, route_group)\n",
    "except:\n",
    "    print(\"No routes meet this criteria.\")"
   ]
  },
  {
   "cell_type": "markdown",
   "id": "ace75b5f-0442-4fbe-aebd-6c3a13ae13a7",
   "metadata": {
    "papermill": {
     "duration": 0.028492,
     "end_time": "2022-05-11T22:39:36.647846",
     "exception": false,
     "start_time": "2022-05-11T22:39:36.619354",
     "status": "completed"
    },
    "tags": []
   },
   "source": [
    "### GTFS Real-Time Speedmaps"
   ]
  },
  {
   "cell_type": "code",
   "execution_count": 17,
   "id": "a0a114a1-e975-4027-9daf-50029f5ef59f",
   "metadata": {
    "execution": {
     "iopub.execute_input": "2022-05-11T22:39:36.710067Z",
     "iopub.status.busy": "2022-05-11T22:39:36.709687Z",
     "iopub.status.idle": "2022-05-11T22:39:36.748557Z",
     "shell.execute_reply": "2022-05-11T22:39:36.747745Z"
    },
    "jupyter": {
     "source_hidden": true
    },
    "papermill": {
     "duration": 0.072274,
     "end_time": "2022-05-11T22:39:36.750592",
     "exception": false,
     "start_time": "2022-05-11T22:39:36.678318",
     "status": "completed"
    },
    "tags": [
     "remove_input"
    ]
   },
   "outputs": [
    {
     "data": {
      "text/html": [
       "No GTFS RT data available."
      ],
      "text/plain": [
       "<IPython.core.display.HTML object>"
      ]
     },
     "metadata": {},
     "output_type": "display_data"
    }
   ],
   "source": [
    "RT_SITE_YAML = \"../portfolio/sites/rt.yml\"\n",
    "\n",
    "# Grab list of ITP IDs with GTFS RT speedmaps\n",
    "rt_itp_id = deploy_portfolio_yaml.check_if_rt_data_available(RT_SITE_YAML)\n",
    "\n",
    "# Construct the URL \n",
    "RT_URL = (\"https://analysis.calitp.org/rt/\"\n",
    "          f\"district_{district_number}-{district_name}/\"\n",
    "          f\"speedmaps__itp_id_{itp_id}.html\"\n",
    "         ) \n",
    "\n",
    "# If this ITP ID is found in RT analysis, give URL to that operator in analysis.calitp.org\n",
    "if itp_id in rt_itp_id:\n",
    "    display(HTML(f'''<a href={RT_URL}>GTFS RT speedmaps here.</a>'''))\n",
    "\n",
    "else:\n",
    "    display(HTML(\"No GTFS RT data available.\"))"
   ]
  },
  {
   "cell_type": "code",
   "execution_count": null,
   "id": "5b680565-2230-4f2e-817c-718fad48d64c",
   "metadata": {
    "jupyter": {
     "source_hidden": true
    },
    "papermill": {
     "duration": 0.021174,
     "end_time": "2022-05-11T22:39:36.789876",
     "exception": false,
     "start_time": "2022-05-11T22:39:36.768702",
     "status": "completed"
    },
    "tags": [
     "remove_input"
    ]
   },
   "outputs": [],
   "source": []
  }
 ],
 "metadata": {
  "kernelspec": {
   "display_name": "Python 3 (ipykernel)",
   "language": "python",
   "name": "python3"
  },
  "language_info": {
   "codemirror_mode": {
    "name": "ipython",
    "version": 3
   },
   "file_extension": ".py",
   "mimetype": "text/x-python",
   "name": "python",
   "nbconvert_exporter": "python",
   "pygments_lexer": "ipython3",
   "version": "3.9.12"
  },
  "papermill": {
   "default_parameters": {},
   "duration": 24.91985,
   "end_time": "2022-05-11T22:39:38.035709",
   "environment_variables": {},
   "exception": null,
   "input_path": "bus_service_increase/competitive-parallel-routes.ipynb",
   "output_path": "portfolio/parallel_corridors/district_10-stockton/7__competitive-parallel-routes__district_10-stockton__itp_id_343.ipynb",
   "parameters": {
    "district": "10 - Stockton",
    "itp_id": 343
   },
   "start_time": "2022-05-11T22:39:13.115859",
   "version": "2.3.4"
  }
 },
 "nbformat": 4,
 "nbformat_minor": 5
}