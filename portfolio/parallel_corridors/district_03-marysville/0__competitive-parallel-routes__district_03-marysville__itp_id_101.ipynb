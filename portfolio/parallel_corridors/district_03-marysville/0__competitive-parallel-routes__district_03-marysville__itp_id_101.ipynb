{
 "cells": [
  {
   "cell_type": "code",
   "execution_count": 1,
   "id": "95d00857-6a20-4529-a519-2cc7182928a9",
   "metadata": {
    "execution": {
     "iopub.execute_input": "2022-06-03T21:46:37.168663Z",
     "iopub.status.busy": "2022-06-03T21:46:37.167750Z",
     "iopub.status.idle": "2022-06-03T21:46:46.264503Z",
     "shell.execute_reply": "2022-06-03T21:46:46.263500Z"
    },
    "jupyter": {
     "source_hidden": true
    },
    "papermill": {
     "duration": 9.11445,
     "end_time": "2022-06-03T21:46:46.266997",
     "exception": false,
     "start_time": "2022-06-03T21:46:37.152547",
     "status": "completed"
    },
    "tags": [
     "remove_input"
    ]
   },
   "outputs": [],
   "source": [
    "%%capture\n",
    "import warnings\n",
    "warnings.filterwarnings('ignore')\n",
    "\n",
    "import altair as alt\n",
    "import calitp.magics\n",
    "import geopandas as gpd\n",
    "import intake\n",
    "import pandas as pd\n",
    "\n",
    "from IPython.display import display, Markdown, HTML\n",
    "\n",
    "import parallel_corridors_utils\n",
    "import deploy_portfolio_yaml\n",
    "from shared_utils import styleguide, geography_utils\n",
    "from E5_make_stripplot_data import diff_cutoffs\n",
    "\n",
    "catalog = intake.open_catalog(\"./*.yml\")\n",
    "alt.renderers.enable(\"html\")"
   ]
  },
  {
   "cell_type": "code",
   "execution_count": 2,
   "id": "8af2a0c1-f3da-408d-9bea-11d9fbf8695d",
   "metadata": {
    "execution": {
     "iopub.execute_input": "2022-06-03T21:46:46.295699Z",
     "iopub.status.busy": "2022-06-03T21:46:46.295416Z",
     "iopub.status.idle": "2022-06-03T21:46:46.300947Z",
     "shell.execute_reply": "2022-06-03T21:46:46.300096Z"
    },
    "jupyter": {
     "source_hidden": true
    },
    "papermill": {
     "duration": 0.02188,
     "end_time": "2022-06-03T21:46:46.303136",
     "exception": false,
     "start_time": "2022-06-03T21:46:46.281256",
     "status": "completed"
    },
    "tags": [
     "parameters",
     "remove_input"
    ]
   },
   "outputs": [],
   "source": [
    "# parameters cell\n",
    "itp_id = 182"
   ]
  },
  {
   "cell_type": "code",
   "execution_count": 3,
   "id": "47e00eac",
   "metadata": {
    "execution": {
     "iopub.execute_input": "2022-06-03T21:46:46.331340Z",
     "iopub.status.busy": "2022-06-03T21:46:46.330375Z",
     "iopub.status.idle": "2022-06-03T21:46:46.335718Z",
     "shell.execute_reply": "2022-06-03T21:46:46.334387Z"
    },
    "jupyter": {
     "source_hidden": true
    },
    "papermill": {
     "duration": 0.026753,
     "end_time": "2022-06-03T21:46:46.343217",
     "exception": false,
     "start_time": "2022-06-03T21:46:46.316464",
     "status": "completed"
    },
    "tags": [
     "injected-parameters",
     "remove_input"
    ]
   },
   "outputs": [],
   "source": [
    "# Parameters\n",
    "district = \"03 - Marysville\"\n",
    "itp_id = 101\n"
   ]
  },
  {
   "cell_type": "code",
   "execution_count": 4,
   "id": "9582aaf4-79ff-412a-b248-8d8d693ebd4f",
   "metadata": {
    "execution": {
     "iopub.execute_input": "2022-06-03T21:46:46.370620Z",
     "iopub.status.busy": "2022-06-03T21:46:46.370315Z",
     "iopub.status.idle": "2022-06-03T21:46:47.707796Z",
     "shell.execute_reply": "2022-06-03T21:46:47.706561Z"
    },
    "jupyter": {
     "source_hidden": true
    },
    "papermill": {
     "duration": 1.35433,
     "end_time": "2022-06-03T21:46:47.710447",
     "exception": false,
     "start_time": "2022-06-03T21:46:46.356117",
     "status": "completed"
    },
    "tags": [
     "remove_input"
    ]
   },
   "outputs": [],
   "source": [
    "df = catalog.competitive_route_variability.read()\n",
    "\n",
    "df = (df[(df.calitp_itp_id == itp_id) & \n",
    "         (df.route_group.notna())]\n",
    "      .rename(columns = {\"route_name_used\": \"route_name\"})\n",
    "      .reset_index(drop=True)\n",
    "     )\n",
    "\n",
    "\n",
    "if itp_id == 182:\n",
    "    df = df.assign(\n",
    "        route_id = df.route_id.str.replace('-13153', '')\n",
    "    )\n",
    "\n",
    "# Use route_short_name instead\n",
    "# But where route_short_name is missing, use route_id\n",
    "df = df.assign(\n",
    "    route_id2 = df.apply(lambda x: x.route_short_name if x.route_short_name is not None\n",
    "                        else x.route_id, axis=1),\n",
    ")"
   ]
  },
  {
   "cell_type": "code",
   "execution_count": 5,
   "id": "33ac4b06-f647-4dce-a625-8f2c1b37cc60",
   "metadata": {
    "execution": {
     "iopub.execute_input": "2022-06-03T21:46:47.740975Z",
     "iopub.status.busy": "2022-06-03T21:46:47.740254Z",
     "iopub.status.idle": "2022-06-03T21:46:47.747828Z",
     "shell.execute_reply": "2022-06-03T21:46:47.747027Z"
    },
    "jupyter": {
     "source_hidden": true
    },
    "papermill": {
     "duration": 0.024719,
     "end_time": "2022-06-03T21:46:47.749657",
     "exception": false,
     "start_time": "2022-06-03T21:46:47.724938",
     "status": "completed"
    },
    "tags": [
     "remove_input"
    ]
   },
   "outputs": [],
   "source": [
    "%%capture_parameters\n",
    "operator_name = df.calitp_agency_name.iloc[0]\n",
    "district_number = f\"{df.caltrans_district.iloc[0].split('-')[0].strip()}\"\n",
    "district_name = f\"{df.caltrans_district.iloc[0].split('-')[1].strip().lower().replace(' ', '-')}\"\n",
    "\n",
    "itp_id, operator_name, district_number, district_name"
   ]
  },
  {
   "cell_type": "markdown",
   "id": "65bc6f5c-8348-42ee-b2dd-52057c406852",
   "metadata": {
    "papermill": {
     "duration": 0.012708,
     "end_time": "2022-06-03T21:46:47.775563",
     "exception": false,
     "start_time": "2022-06-03T21:46:47.762855",
     "status": "completed"
    },
    "tags": []
   },
   "source": [
    "# El Dorado Transit"
   ]
  },
  {
   "cell_type": "code",
   "execution_count": 6,
   "id": "a689c1ab-2c6c-4831-8d64-897f5986f571",
   "metadata": {
    "execution": {
     "iopub.execute_input": "2022-06-03T21:46:47.804186Z",
     "iopub.status.busy": "2022-06-03T21:46:47.803216Z",
     "iopub.status.idle": "2022-06-03T21:46:47.810057Z",
     "shell.execute_reply": "2022-06-03T21:46:47.809425Z"
    },
    "jupyter": {
     "source_hidden": true
    },
    "papermill": {
     "duration": 0.023614,
     "end_time": "2022-06-03T21:46:47.811981",
     "exception": false,
     "start_time": "2022-06-03T21:46:47.788367",
     "status": "completed"
    },
    "tags": [
     "remove_input"
    ]
   },
   "outputs": [
    {
     "data": {
      "text/html": [
       "<h1>Competitive & Parallel Routes</h1>"
      ],
      "text/plain": [
       "<IPython.core.display.HTML object>"
      ]
     },
     "metadata": {},
     "output_type": "display_data"
    }
   ],
   "source": [
    "display(HTML(\"<h1>Competitive & Parallel Routes</h1>\")) "
   ]
  },
  {
   "cell_type": "code",
   "execution_count": 7,
   "id": "2cb4d8d5-4760-40e4-85b1-cb833d8bb648",
   "metadata": {
    "execution": {
     "iopub.execute_input": "2022-06-03T21:46:47.853731Z",
     "iopub.status.busy": "2022-06-03T21:46:47.852759Z",
     "iopub.status.idle": "2022-06-03T21:46:58.881385Z",
     "shell.execute_reply": "2022-06-03T21:46:58.880457Z"
    },
    "jupyter": {
     "source_hidden": true
    },
    "papermill": {
     "duration": 11.05784,
     "end_time": "2022-06-03T21:46:58.884037",
     "exception": false,
     "start_time": "2022-06-03T21:46:47.826197",
     "status": "completed"
    },
    "tags": [
     "remove_input"
    ]
   },
   "outputs": [],
   "source": [
    "# Grab parameters for narrative text - clean up formatting here \n",
    "district = df.caltrans_district.iloc[0]\n",
    "formatted_date = pd.to_datetime(parallel_corridors_utils.SELECTED_DATE).strftime('%m-%d-%Y')\n",
    "\n",
    "PCT_COMPETITIVE_THRESHOLD = parallel_corridors_utils.PCT_COMPETITIVE_THRESHOLD\n",
    "PCT_TRIPS_BELOW_CUTOFF = parallel_corridors_utils.PCT_TRIPS_BELOW_CUTOFF\n",
    "\n",
    "stats = parallel_corridors_utils.operator_parallel_competitive_stats(\n",
    "    itp_id, PCT_COMPETITIVE_THRESHOLD, PCT_TRIPS_BELOW_CUTOFF)\n",
    "\n",
    "pct_parallel = round(stats['parallel_routes'] / stats['num_routes'] * 100, 1 )\n",
    "pct_competitive =  round(stats['competitive_routes'] / stats['num_routes'] * 100, 1 )\n",
    "pct_viable =  round(stats['viable_competitive_routes'] / stats['num_routes'] * 100, 1 )"
   ]
  },
  {
   "cell_type": "code",
   "execution_count": 8,
   "id": "8bf30c8f-6aa5-47bb-82ae-a906732e81fd",
   "metadata": {
    "execution": {
     "iopub.execute_input": "2022-06-03T21:46:58.917209Z",
     "iopub.status.busy": "2022-06-03T21:46:58.916897Z",
     "iopub.status.idle": "2022-06-03T21:46:58.963566Z",
     "shell.execute_reply": "2022-06-03T21:46:58.962652Z"
    },
    "jupyter": {
     "source_hidden": true
    },
    "papermill": {
     "duration": 0.068476,
     "end_time": "2022-06-03T21:46:58.966700",
     "exception": false,
     "start_time": "2022-06-03T21:46:58.898224",
     "status": "completed"
    },
    "tags": [
     "remove_input"
    ]
   },
   "outputs": [],
   "source": [
    "# Display a table of route-level stats for each route_group\n",
    "# Displaying route_name makes chart too crowded\n",
    "\n",
    "# Get route stats (for entire df)\n",
    "route_stats = parallel_corridors_utils.competitive_route_level_stats(df)\n",
    "    \n",
    "def style_route_stats(df, top15_routes):\n",
    "    df = df[df.route_id.isin(top15_routes)]\n",
    "    \n",
    "    # Rename columns for display\n",
    "    rename_cols = {\n",
    "        \"route_id2\": \"Route ID\",\n",
    "        \"route_name\": \"Route Name\",\n",
    "        \"route_group\": \"Route Group\",\n",
    "        \"num_trips\": \"# trips\",\n",
    "        \"daily_avg_freq\": \"Daily Avg Freq (trips per hr)\",\n",
    "        \"pm_peak_freq\": \"PM Peak Avg Freq (trips per hr)\",\n",
    "        \"percentiles\": \"25th, 50th, 75th ptile (hrs)\",\n",
    "    }\n",
    "    \n",
    "    # Style it\n",
    "    drop_cols = [\n",
    "        \"calitp_itp_id\", \"route_id\", \"below_cutoff\", \"route_group\", \n",
    "        \"pct_trips_competitive\", \"pct_below_cutoff\",\n",
    "        \"p25\", \"p50\", \"p75\",\n",
    "    ]\n",
    "    \n",
    "    # Change alignment for some columns\n",
    "    # https://stackoverflow.com/questions/59453091/left-align-the-first-column-and-center-align-the-other-columns-in-a-pandas-table\n",
    "    df_style = (df.sort_values(\n",
    "        [\"pct_trips_competitive\", \"below_cutoff\", \n",
    "        \"pct_below_cutoff\", \"route_id2\"], \n",
    "        ascending=[False, False, False, True])\n",
    "           .drop(columns = drop_cols)\n",
    "           .rename(columns = rename_cols)\n",
    "           .style.format(\n",
    "               subset=['Daily Avg Freq (trips per hr)', \n",
    "                       'PM Peak Avg Freq (trips per hr)'], \n",
    "               **{'formatter': '{:,.3}'})\n",
    "                .set_properties(subset=['Route ID', 'Route Name'], \n",
    "                                **{'text-align': 'left'})\n",
    "                .set_properties(subset=['# trips', 'Daily Avg Freq (trips per hr)', \n",
    "                                       'PM Peak Avg Freq (trips per hr)'], \n",
    "                               **{'text-align': 'center'})\n",
    "                .set_table_styles([dict(selector='th', \n",
    "                                        props=[('text-align', 'center')])\n",
    "                                        ])\n",
    "           .hide(axis=\"index\")\n",
    "           .to_html()\n",
    "          )\n",
    "    \n",
    "    display(HTML(\"<h4>Route Stats</h4>\"))\n",
    "    display(HTML(df_style))"
   ]
  },
  {
   "cell_type": "markdown",
   "id": "ab667928-5274-4490-82d9-4c39293209a4",
   "metadata": {
    "papermill": {
     "duration": 0.014219,
     "end_time": "2022-06-03T21:46:58.994623",
     "exception": false,
     "start_time": "2022-06-03T21:46:58.980404",
     "status": "completed"
    },
    "tags": []
   },
   "source": [
    "## Quick Stats"
   ]
  },
  {
   "cell_type": "code",
   "execution_count": 9,
   "id": "0416509d-dc62-4165-b62e-64f8b26e8b8e",
   "metadata": {
    "execution": {
     "iopub.execute_input": "2022-06-03T21:46:59.051376Z",
     "iopub.status.busy": "2022-06-03T21:46:59.051061Z",
     "iopub.status.idle": "2022-06-03T21:46:59.057729Z",
     "shell.execute_reply": "2022-06-03T21:46:59.056767Z"
    },
    "jupyter": {
     "source_hidden": true
    },
    "papermill": {
     "duration": 0.053678,
     "end_time": "2022-06-03T21:46:59.061359",
     "exception": false,
     "start_time": "2022-06-03T21:46:59.007681",
     "status": "completed"
    },
    "tags": [
     "remove_input"
    ]
   },
   "outputs": [
    {
     "data": {
      "text/markdown": [
       "**Bus routes in service: 7**<br>**Parallel routes** to State Highway Network (SHN): **7 routes (100.0%)**<br>**Competitive routes** against car travel (within 2x car travel time): **6 routes (85.7%)**<br>**Viable competitive routes** against car travel (within 2x car travel time and within 20, 30, or 40 min cut-off): **4 routes (57.1%)**"
      ],
      "text/plain": [
       "<IPython.core.display.Markdown object>"
      ]
     },
     "metadata": {},
     "output_type": "display_data"
    }
   ],
   "source": [
    "display(\n",
    "    Markdown(\n",
    "        f\"**Bus routes in service: {stats['num_routes']}**\"\n",
    "        \"<br>**Parallel routes** to State Highway Network (SHN): \"\n",
    "        f\"**{stats['parallel_routes']} routes ({pct_parallel}%)**\"\n",
    "        \"<br>**Competitive routes** against car travel (within 2x car travel time): \"\n",
    "        f\"**{stats['competitive_routes']} routes ({pct_competitive}%)**\"\n",
    "        \"<br>**Viable competitive routes** against car travel \"\n",
    "        \"(within 2x car travel time and within 20, 30, or 40 min cut-off): \"\n",
    "        f\"**{stats['viable_competitive_routes']} routes ({pct_viable}%)**\"\n",
    "    )\n",
    ")"
   ]
  },
  {
   "cell_type": "code",
   "execution_count": 10,
   "id": "f9d6ab58-f0ee-460c-b6de-657490e1f386",
   "metadata": {
    "execution": {
     "iopub.execute_input": "2022-06-03T21:46:59.092003Z",
     "iopub.status.busy": "2022-06-03T21:46:59.091481Z",
     "iopub.status.idle": "2022-06-03T21:46:59.098065Z",
     "shell.execute_reply": "2022-06-03T21:46:59.097408Z"
    },
    "jupyter": {
     "source_hidden": true
    },
    "papermill": {
     "duration": 0.025171,
     "end_time": "2022-06-03T21:46:59.100191",
     "exception": false,
     "start_time": "2022-06-03T21:46:59.075020",
     "status": "completed"
    },
    "tags": [
     "remove_input"
    ]
   },
   "outputs": [],
   "source": [
    "def set_yaxis_range(df, y_col):\n",
    "    Y_MIN = df[y_col].min()\n",
    "    Y_MAX = df[y_col].max()\n",
    "    \n",
    "    return Y_MIN, Y_MAX\n",
    "\n",
    "# Rather than set it according to the operator, which can vary,\n",
    "# just use set thresholds for each group\n",
    "def top15_routes(df, route_group):\n",
    "    # grab top 15 routes where majority of trips are below that cut-off \n",
    "    # but show 15 max, otherwise, show less, since these won't be as interesting to operators\n",
    "    df2 = (df[(df.route_group==route_group) &\n",
    "              (df.pct_below_cutoff >= PCT_TRIPS_BELOW_CUTOFF)]\n",
    "           .sort_values([\"calitp_itp_id\", \"below_cutoff\", \n",
    "                         \"pct_below_cutoff\", \"route_id\"],\n",
    "                        ascending = [True, False, False, True]\n",
    "                       )\n",
    "           .drop_duplicates(subset=[\"calitp_itp_id\", \"route_id\"])\n",
    "          ).head(15)\n",
    "    \n",
    "    if len(df2) > 1:\n",
    "        return list(df2.route_id)"
   ]
  },
  {
   "cell_type": "code",
   "execution_count": 11,
   "id": "cf36d559-3349-4144-8086-8ac9ce937a5a",
   "metadata": {
    "execution": {
     "iopub.execute_input": "2022-06-03T21:46:59.146575Z",
     "iopub.status.busy": "2022-06-03T21:46:59.145952Z",
     "iopub.status.idle": "2022-06-03T21:46:59.153846Z",
     "shell.execute_reply": "2022-06-03T21:46:59.152322Z"
    },
    "jupyter": {
     "source_hidden": true
    },
    "papermill": {
     "duration": 0.043136,
     "end_time": "2022-06-03T21:46:59.157918",
     "exception": false,
     "start_time": "2022-06-03T21:46:59.114782",
     "status": "completed"
    },
    "tags": [
     "remove_input"
    ]
   },
   "outputs": [],
   "source": [
    "def caption_with_cutoff(cutoff):\n",
    "    sentence = (\n",
    "        f\"<br>These are routes that have **{int(PCT_TRIPS_BELOW_CUTOFF*100)}% \"\n",
    "        \"of their trips take no more than an \"\n",
    "        f\"additional {cutoff} min** compared to a car \"\n",
    "        \"(up to 15 routes) are shown.\"\n",
    "        \"<br>Within each route group, routes are sorted in descending order \"\n",
    "        \"by % competitive trips and # trips below the additional time cut-off.\"\n",
    "    )\n",
    "    return sentence\n",
    "\n",
    "CAPTIONS_DICT = {\n",
    "    \"short\": caption_with_cutoff(diff_cutoffs['short']),\n",
    "    \"medium\": caption_with_cutoff(diff_cutoffs['medium']),\n",
    "    \"long\": caption_with_cutoff(diff_cutoffs['long']),\n",
    "}"
   ]
  },
  {
   "cell_type": "code",
   "execution_count": 12,
   "id": "e4306d58-6944-47e9-afef-5d5b524c751f",
   "metadata": {
    "execution": {
     "iopub.execute_input": "2022-06-03T21:46:59.190826Z",
     "iopub.status.busy": "2022-06-03T21:46:59.189958Z",
     "iopub.status.idle": "2022-06-03T21:46:59.197227Z",
     "shell.execute_reply": "2022-06-03T21:46:59.196304Z"
    },
    "jupyter": {
     "source_hidden": true
    },
    "papermill": {
     "duration": 0.024761,
     "end_time": "2022-06-03T21:46:59.199042",
     "exception": false,
     "start_time": "2022-06-03T21:46:59.174281",
     "status": "completed"
    },
    "tags": [
     "remove_input"
    ]
   },
   "outputs": [],
   "source": [
    "def setup_charts(df, PCT_COMPETITIVE_THRESHOLD, route_group):\n",
    "    # Set up df for charting (cut-off at some threshold to show most competitive routes)\n",
    "    plot_me = (df[df.pct_trips_competitive > PCT_COMPETITIVE_THRESHOLD]\n",
    "           .drop(columns = \"geometry\")\n",
    "    )\n",
    "    \n",
    "    # Set y-ranges to be the same across route_groups, \n",
    "    # otherwise charts fluctuate too much, even within operator\n",
    "    y_col1 = \"bus_multiplier\"\n",
    "    Y_MIN1, Y_MAX1 = set_yaxis_range(plot_me, y_col1)\n",
    "\n",
    "    y_col2 = \"bus_difference\"\n",
    "    Y_MIN2, Y_MAX2 = set_yaxis_range(plot_me, y_col2)\n",
    "    \n",
    "    # Grab the routes to plot\n",
    "    subset_routes = top15_routes(plot_me, route_group)\n",
    "        \n",
    "    # Display charts\n",
    "    multiplier_chart = parallel_corridors_utils.make_stripplot(\n",
    "        plot_me[plot_me.route_id.isin(subset_routes)], \n",
    "        y_col1, Y_MIN = Y_MIN1, Y_MAX = Y_MAX1\n",
    "    )\n",
    "    \n",
    "    difference_chart = parallel_corridors_utils.make_stripplot(\n",
    "        plot_me[plot_me.route_id.isin(subset_routes)], \n",
    "        y_col2, Y_MIN = Y_MIN2, Y_MAX = Y_MAX2\n",
    "    )\n",
    "    \n",
    "    return subset_routes, multiplier_chart, difference_chart            "
   ]
  },
  {
   "cell_type": "code",
   "execution_count": 13,
   "id": "33a710e8-504c-4942-aa75-ff69f216956e",
   "metadata": {
    "execution": {
     "iopub.execute_input": "2022-06-03T21:46:59.231584Z",
     "iopub.status.busy": "2022-06-03T21:46:59.229574Z",
     "iopub.status.idle": "2022-06-03T21:46:59.240782Z",
     "shell.execute_reply": "2022-06-03T21:46:59.236966Z"
    },
    "jupyter": {
     "source_hidden": true
    },
    "papermill": {
     "duration": 0.030891,
     "end_time": "2022-06-03T21:46:59.243828",
     "exception": false,
     "start_time": "2022-06-03T21:46:59.212937",
     "status": "completed"
    },
    "tags": [
     "remove_input"
    ]
   },
   "outputs": [],
   "source": [
    "# Allow for possibility that operator doesn't have routes that fall into certain route_groups\n",
    "# But, jupyterbook will not like markdown with f-string\n",
    "# separate out route_group and put in each cell, and use try/except + if to display...\n",
    "# but all 3 route groups must be displayed. \n",
    "# just add sentence about why no routes were returned at the end\n",
    "# Change to fewer than 2 routes, instead of no routes, because we don't want to show just 1 route\n",
    "\n",
    "def display_charts_for_route_group(df, route_group):\n",
    "    try:\n",
    "        subset_routes, mult, diff  = setup_charts(df, PCT_COMPETITIVE_THRESHOLD, route_group)\n",
    "    \n",
    "        if len(subset_routes) > 1:\n",
    "            display(Markdown(f\"{CAPTIONS_DICT[route_group]}\"))\n",
    "\n",
    "            display(mult)\n",
    "            display(diff)\n",
    "\n",
    "            # Display route stats for just plotted routes\n",
    "            style_route_stats(route_stats, subset_routes)\n",
    "        else: \n",
    "            print(\"Fewer than 2 routes meet this criteria.\")\n",
    "    except:\n",
    "        print(\"No routes meet this criteria.\")"
   ]
  },
  {
   "cell_type": "markdown",
   "id": "525f9b38-072b-46d1-96a8-1aa4b038357c",
   "metadata": {
    "papermill": {
     "duration": 0.015482,
     "end_time": "2022-06-03T21:46:59.275000",
     "exception": false,
     "start_time": "2022-06-03T21:46:59.259518",
     "status": "completed"
    },
    "tags": []
   },
   "source": [
    "## Viable Competitive Routes\n",
    "### Short Routes (< 1 hr)"
   ]
  },
  {
   "cell_type": "code",
   "execution_count": 14,
   "id": "57f7084c-2cf7-45c6-ba08-1609e0bd6ca5",
   "metadata": {
    "execution": {
     "iopub.execute_input": "2022-06-03T21:46:59.308057Z",
     "iopub.status.busy": "2022-06-03T21:46:59.307707Z",
     "iopub.status.idle": "2022-06-03T21:46:59.759108Z",
     "shell.execute_reply": "2022-06-03T21:46:59.758121Z"
    },
    "jupyter": {
     "source_hidden": true
    },
    "papermill": {
     "duration": 0.470663,
     "end_time": "2022-06-03T21:46:59.762041",
     "exception": false,
     "start_time": "2022-06-03T21:46:59.291378",
     "status": "completed"
    },
    "tags": [
     "remove_input"
    ]
   },
   "outputs": [
    {
     "data": {
      "text/markdown": [
       "<br>These are routes that have **100% of their trips take no more than an additional 20 min** compared to a car (up to 15 routes) are shown.<br>Within each route group, routes are sorted in descending order by % competitive trips and # trips below the additional time cut-off."
      ],
      "text/plain": [
       "<IPython.core.display.Markdown object>"
      ]
     },
     "metadata": {},
     "output_type": "display_data"
    },
    {
     "data": {
      "text/html": [
       "\n",
       "<div id=\"altair-viz-2082f52ba0524ca080e6bfc4b7c47684\"></div>\n",
       "<script type=\"text/javascript\">\n",
       "  var VEGA_DEBUG = (typeof VEGA_DEBUG == \"undefined\") ? {} : VEGA_DEBUG;\n",
       "  (function(spec, embedOpt){\n",
       "    let outputDiv = document.currentScript.previousElementSibling;\n",
       "    if (outputDiv.id !== \"altair-viz-2082f52ba0524ca080e6bfc4b7c47684\") {\n",
       "      outputDiv = document.getElementById(\"altair-viz-2082f52ba0524ca080e6bfc4b7c47684\");\n",
       "    }\n",
       "    const paths = {\n",
       "      \"vega\": \"https://cdn.jsdelivr.net/npm//vega@5?noext\",\n",
       "      \"vega-lib\": \"https://cdn.jsdelivr.net/npm//vega-lib?noext\",\n",
       "      \"vega-lite\": \"https://cdn.jsdelivr.net/npm//vega-lite@4.17.0?noext\",\n",
       "      \"vega-embed\": \"https://cdn.jsdelivr.net/npm//vega-embed@6?noext\",\n",
       "    };\n",
       "\n",
       "    function maybeLoadScript(lib, version) {\n",
       "      var key = `${lib.replace(\"-\", \"\")}_version`;\n",
       "      return (VEGA_DEBUG[key] == version) ?\n",
       "        Promise.resolve(paths[lib]) :\n",
       "        new Promise(function(resolve, reject) {\n",
       "          var s = document.createElement('script');\n",
       "          document.getElementsByTagName(\"head\")[0].appendChild(s);\n",
       "          s.async = true;\n",
       "          s.onload = () => {\n",
       "            VEGA_DEBUG[key] = version;\n",
       "            return resolve(paths[lib]);\n",
       "          };\n",
       "          s.onerror = () => reject(`Error loading script: ${paths[lib]}`);\n",
       "          s.src = paths[lib];\n",
       "        });\n",
       "    }\n",
       "\n",
       "    function showError(err) {\n",
       "      outputDiv.innerHTML = `<div class=\"error\" style=\"color:red;\">${err}</div>`;\n",
       "      throw err;\n",
       "    }\n",
       "\n",
       "    function displayChart(vegaEmbed) {\n",
       "      vegaEmbed(outputDiv, spec, embedOpt)\n",
       "        .catch(err => showError(`Javascript Error: ${err.message}<br>This usually means there's a typo in your chart specification. See the javascript console for the full traceback.`));\n",
       "    }\n",
       "\n",
       "    if(typeof define === \"function\" && define.amd) {\n",
       "      requirejs.config({paths});\n",
       "      require([\"vega-embed\"], displayChart, err => showError(`Error loading script: ${err.message}`));\n",
       "    } else {\n",
       "      maybeLoadScript(\"vega\", \"5\")\n",
       "        .then(() => maybeLoadScript(\"vega-lite\", \"4.17.0\"))\n",
       "        .then(() => maybeLoadScript(\"vega-embed\", \"6\"))\n",
       "        .catch(showError)\n",
       "        .then(() => displayChart(vegaEmbed));\n",
       "    }\n",
       "  })({\"config\": {\"view\": {\"continuousWidth\": 400, \"continuousHeight\": 300, \"stroke\": null}, \"facet\": {\"spacing\": 0}}, \"data\": {\"name\": \"data-275f70a362dba761a4cfc3fee3894895\"}, \"facet\": {\"column\": {\"field\": \"route_id2\", \"sort\": [\"60\", \"40\", \"20\", \"30\"], \"title\": \"Route ID\", \"type\": \"nominal\"}}, \"spec\": {\"layer\": [{\"mark\": \"rule\", \"encoding\": {\"color\": {\"value\": \"black\"}, \"y\": {\"field\": \"cutoff\", \"type\": \"quantitative\"}}, \"selection\": {\"selector001\": {\"type\": \"interval\", \"bind\": \"scales\", \"encodings\": [\"x\", \"y\"]}}}, {\"mark\": {\"type\": \"point\", \"opacity\": 0.65, \"size\": 20, \"strokeWidth\": 1.1}, \"encoding\": {\"color\": {\"field\": \"time_of_day\", \"scale\": {\"range\": [\"#136C97\", \"#E16B26\", \"#F6BF16\", \"#00896B\", \"#7790A3\", \"#5B559C\"]}, \"sort\": [\"AM Peak\", \"Midday\", \"PM Peak\", \"Owl Service\"], \"title\": \"Time of Day\", \"type\": \"nominal\"}, \"tooltip\": [{\"field\": \"route_id2\", \"title\": \"route_id\", \"type\": \"nominal\"}, {\"field\": \"route_name\", \"type\": \"nominal\"}, {\"field\": \"trip_id\", \"type\": \"nominal\"}, {\"field\": \"service_hours\", \"type\": \"quantitative\"}, {\"field\": \"car_duration_hours\", \"type\": \"quantitative\"}, {\"field\": \"bus_multiplier\", \"type\": \"quantitative\"}, {\"field\": \"bus_difference\", \"type\": \"quantitative\"}, {\"field\": \"num_trips\", \"type\": \"quantitative\"}, {\"field\": \"num_competitive\", \"type\": \"quantitative\"}, {\"field\": \"pct_trips_competitive\", \"type\": \"quantitative\"}, {\"field\": \"pct_below_cutoff\", \"type\": \"quantitative\"}, {\"field\": \"p25\", \"type\": \"quantitative\"}, {\"field\": \"p50\", \"type\": \"quantitative\"}, {\"field\": \"p75\", \"type\": \"quantitative\"}], \"x\": {\"axis\": {\"grid\": false, \"labels\": false, \"ticks\": true, \"values\": [0]}, \"field\": \"jitter\", \"scale\": {}, \"title\": null, \"type\": \"quantitative\"}, \"y\": {\"field\": \"bus_multiplier\", \"scale\": {\"domain\": [0, 3.0]}, \"title\": \"Ratio of Bus to Car Travel Time\", \"type\": \"quantitative\"}}, \"transform\": [{\"calculate\": \"sqrt(-2*log(random()))*cos(2*PI*random())\", \"as\": \"jitter\"}], \"width\": 50}, {\"layer\": [{\"mark\": {\"type\": \"point\", \"opacity\": 0.6, \"size\": 20, \"strokeWidth\": 1.3}, \"encoding\": {\"color\": {\"value\": \"#323434\"}, \"y\": {\"field\": \"bus_multiplier\", \"type\": \"quantitative\"}}, \"transform\": [{\"filter\": \"(datum.p50_trip === 1)\"}]}, {\"mark\": {\"type\": \"text\", \"align\": \"center\", \"baseline\": \"middle\"}, \"encoding\": {\"color\": {\"value\": \"black\"}, \"text\": {\"field\": \"pct_trips_competitive\", \"format\": \".0%\", \"type\": \"quantitative\"}, \"tooltip\": [{\"field\": \"route_id2\", \"title\": \"route_id\", \"type\": \"nominal\"}, {\"field\": \"route_name\", \"type\": \"nominal\"}, {\"field\": \"trip_id\", \"type\": \"nominal\"}, {\"field\": \"service_hours\", \"type\": \"quantitative\"}, {\"field\": \"car_duration_hours\", \"type\": \"quantitative\"}, {\"field\": \"bus_multiplier\", \"type\": \"quantitative\"}, {\"field\": \"bus_difference\", \"type\": \"quantitative\"}, {\"field\": \"num_trips\", \"type\": \"quantitative\"}, {\"field\": \"num_competitive\", \"type\": \"quantitative\"}, {\"field\": \"pct_trips_competitive\", \"type\": \"quantitative\"}, {\"field\": \"pct_below_cutoff\", \"type\": \"quantitative\"}, {\"field\": \"p25\", \"type\": \"quantitative\"}, {\"field\": \"p50\", \"type\": \"quantitative\"}, {\"field\": \"p75\", \"type\": \"quantitative\"}], \"x\": {\"value\": 30}, \"y\": {\"value\": 15}}, \"transform\": [{\"calculate\": \"sqrt(-2*log(random()))*cos(2*PI*random())\", \"as\": \"jitter\"}, {\"filter\": \"(datum.fastest_trip === 1)\"}]}]}]}, \"resolve\": {\"scale\": {\"y\": \"shared\"}}, \"title\": \"Ratio of Bus to Car Travel Time\", \"$schema\": \"https://vega.github.io/schema/vega-lite/v4.17.0.json\", \"datasets\": {\"data-275f70a362dba761a4cfc3fee3894895\": [{\"calitp_itp_id\": 101, \"trip_key\": 1958547728589445875, \"trip_id\": \"t_1949372_b_33026_tn_7\", \"shape_id\": \"p_1303403\", \"route_id\": \"1961\", \"service_hours\": 0.42, \"trip_first_departure_ts\": 46800, \"trip_last_arrival_ts\": 48300, \"departure_hour\": 13, \"time_of_day\": \"Midday\", \"p25\": 0.42, \"p50\": 0.42, \"p75\": 0.42, \"p50_trip\": 1, \"fastest_trip\": 0, \"car_duration_hours\": 0.35, \"competitive_route\": 1, \"bus_multiplier\": 1.2, \"bus_difference\": 4.2, \"num_trips\": 24, \"num_competitive\": 24, \"pct_trips_competitive\": 1.0, \"bus_difference_spread\": 0.0, \"route_group\": \"short\", \"max_trip_hrs\": 0.42, \"max_trip_route_group\": 0.42, \"below_cutoff\": 24, \"pct_below_cutoff\": 1.0, \"calitp_agency_name\": \"El Dorado Transit\", \"caltrans_district\": \"03 - Marysville\", \"route_name\": \"The Pollock Pines Route Provides Service From The Placerville Station Transfer Center To The Safeway Plaza In Pollock Pines Every Hour From 7:00 Am To 6:55 Pm Monday Through Friday. Service Includes Stops Along The Pony Express Trail.\", \"route_short_name\": \"60\", \"route_id2\": \"60\", \"cutoff2\": 20, \"cutoff\": 2}, {\"calitp_itp_id\": 101, \"trip_key\": 4764740372613472596, \"trip_id\": \"t_1949373_b_33026_tn_11\", \"shape_id\": \"p_900222\", \"route_id\": \"1961\", \"service_hours\": 0.42, \"trip_first_departure_ts\": 63000, \"trip_last_arrival_ts\": 64500, \"departure_hour\": 17, \"time_of_day\": \"PM Peak\", \"p25\": 0.42, \"p50\": 0.42, \"p75\": 0.42, \"p50_trip\": 1, \"fastest_trip\": 0, \"car_duration_hours\": 0.35, \"competitive_route\": 1, \"bus_multiplier\": 1.2, \"bus_difference\": 4.2, \"num_trips\": 24, \"num_competitive\": 24, \"pct_trips_competitive\": 1.0, \"bus_difference_spread\": 0.0, \"route_group\": \"short\", \"max_trip_hrs\": 0.42, \"max_trip_route_group\": 0.42, \"below_cutoff\": 24, \"pct_below_cutoff\": 1.0, \"calitp_agency_name\": \"El Dorado Transit\", \"caltrans_district\": \"03 - Marysville\", \"route_name\": \"The Pollock Pines Route Provides Service From The Placerville Station Transfer Center To The Safeway Plaza In Pollock Pines Every Hour From 7:00 Am To 6:55 Pm Monday Through Friday. Service Includes Stops Along The Pony Express Trail.\", \"route_short_name\": \"60\", \"route_id2\": \"60\", \"cutoff2\": 20, \"cutoff\": 2}, {\"calitp_itp_id\": 101, \"trip_key\": 4171001270608495186, \"trip_id\": \"t_1949372_b_33026_tn_5\", \"shape_id\": \"p_1303403\", \"route_id\": \"1961\", \"service_hours\": 0.42, \"trip_first_departure_ts\": 39600, \"trip_last_arrival_ts\": 41100, \"departure_hour\": 11, \"time_of_day\": \"Midday\", \"p25\": 0.42, \"p50\": 0.42, \"p75\": 0.42, \"p50_trip\": 1, \"fastest_trip\": 0, \"car_duration_hours\": 0.35, \"competitive_route\": 1, \"bus_multiplier\": 1.2, \"bus_difference\": 4.2, \"num_trips\": 24, \"num_competitive\": 24, \"pct_trips_competitive\": 1.0, \"bus_difference_spread\": 0.0, \"route_group\": \"short\", \"max_trip_hrs\": 0.42, \"max_trip_route_group\": 0.42, \"below_cutoff\": 24, \"pct_below_cutoff\": 1.0, \"calitp_agency_name\": \"El Dorado Transit\", \"caltrans_district\": \"03 - Marysville\", \"route_name\": \"The Pollock Pines Route Provides Service From The Placerville Station Transfer Center To The Safeway Plaza In Pollock Pines Every Hour From 7:00 Am To 6:55 Pm Monday Through Friday. Service Includes Stops Along The Pony Express Trail.\", \"route_short_name\": \"60\", \"route_id2\": \"60\", \"cutoff2\": 20, \"cutoff\": 2}, {\"calitp_itp_id\": 101, \"trip_key\": 3044271532064323456, \"trip_id\": \"t_1949372_b_33026_tn_6\", \"shape_id\": \"p_1303403\", \"route_id\": \"1961\", \"service_hours\": 0.42, \"trip_first_departure_ts\": 43200, \"trip_last_arrival_ts\": 44700, \"departure_hour\": 12, \"time_of_day\": \"Midday\", \"p25\": 0.42, \"p50\": 0.42, \"p75\": 0.42, \"p50_trip\": 1, \"fastest_trip\": 0, \"car_duration_hours\": 0.35, \"competitive_route\": 1, \"bus_multiplier\": 1.2, \"bus_difference\": 4.2, \"num_trips\": 24, \"num_competitive\": 24, \"pct_trips_competitive\": 1.0, \"bus_difference_spread\": 0.0, \"route_group\": \"short\", \"max_trip_hrs\": 0.42, \"max_trip_route_group\": 0.42, \"below_cutoff\": 24, \"pct_below_cutoff\": 1.0, \"calitp_agency_name\": \"El Dorado Transit\", \"caltrans_district\": \"03 - Marysville\", \"route_name\": \"The Pollock Pines Route Provides Service From The Placerville Station Transfer Center To The Safeway Plaza In Pollock Pines Every Hour From 7:00 Am To 6:55 Pm Monday Through Friday. Service Includes Stops Along The Pony Express Trail.\", \"route_short_name\": \"60\", \"route_id2\": \"60\", \"cutoff2\": 20, \"cutoff\": 2}, {\"calitp_itp_id\": 101, \"trip_key\": 2914921891978223802, \"trip_id\": \"t_1949373_b_33026_tn_9\", \"shape_id\": \"p_900222\", \"route_id\": \"1961\", \"service_hours\": 0.42, \"trip_first_departure_ts\": 55800, \"trip_last_arrival_ts\": 57300, \"departure_hour\": 15, \"time_of_day\": \"Midday\", \"p25\": 0.42, \"p50\": 0.42, \"p75\": 0.42, \"p50_trip\": 1, \"fastest_trip\": 0, \"car_duration_hours\": 0.35, \"competitive_route\": 1, \"bus_multiplier\": 1.2, \"bus_difference\": 4.2, \"num_trips\": 24, \"num_competitive\": 24, \"pct_trips_competitive\": 1.0, \"bus_difference_spread\": 0.0, \"route_group\": \"short\", \"max_trip_hrs\": 0.42, \"max_trip_route_group\": 0.42, \"below_cutoff\": 24, \"pct_below_cutoff\": 1.0, \"calitp_agency_name\": \"El Dorado Transit\", \"caltrans_district\": \"03 - Marysville\", \"route_name\": \"The Pollock Pines Route Provides Service From The Placerville Station Transfer Center To The Safeway Plaza In Pollock Pines Every Hour From 7:00 Am To 6:55 Pm Monday Through Friday. Service Includes Stops Along The Pony Express Trail.\", \"route_short_name\": \"60\", \"route_id2\": \"60\", \"cutoff2\": 20, \"cutoff\": 2}, {\"calitp_itp_id\": 101, \"trip_key\": -3408786240836241640, \"trip_id\": \"t_1949373_b_33026_tn_7\", \"shape_id\": \"p_900222\", \"route_id\": \"1961\", \"service_hours\": 0.42, \"trip_first_departure_ts\": 48600, \"trip_last_arrival_ts\": 50100, \"departure_hour\": 13, \"time_of_day\": \"Midday\", \"p25\": 0.42, \"p50\": 0.42, \"p75\": 0.42, \"p50_trip\": 1, \"fastest_trip\": 0, \"car_duration_hours\": 0.35, \"competitive_route\": 1, \"bus_multiplier\": 1.2, \"bus_difference\": 4.2, \"num_trips\": 24, \"num_competitive\": 24, \"pct_trips_competitive\": 1.0, \"bus_difference_spread\": 0.0, \"route_group\": \"short\", \"max_trip_hrs\": 0.42, \"max_trip_route_group\": 0.42, \"below_cutoff\": 24, \"pct_below_cutoff\": 1.0, \"calitp_agency_name\": \"El Dorado Transit\", \"caltrans_district\": \"03 - Marysville\", \"route_name\": \"The Pollock Pines Route Provides Service From The Placerville Station Transfer Center To The Safeway Plaza In Pollock Pines Every Hour From 7:00 Am To 6:55 Pm Monday Through Friday. Service Includes Stops Along The Pony Express Trail.\", \"route_short_name\": \"60\", \"route_id2\": \"60\", \"cutoff2\": 20, \"cutoff\": 2}, {\"calitp_itp_id\": 101, \"trip_key\": 861367680563278324, \"trip_id\": \"t_1949372_b_33026_tn_8\", \"shape_id\": \"p_1303403\", \"route_id\": \"1961\", \"service_hours\": 0.42, \"trip_first_departure_ts\": 50400, \"trip_last_arrival_ts\": 51900, \"departure_hour\": 14, \"time_of_day\": \"Midday\", \"p25\": 0.42, \"p50\": 0.42, \"p75\": 0.42, \"p50_trip\": 1, \"fastest_trip\": 0, \"car_duration_hours\": 0.35, \"competitive_route\": 1, \"bus_multiplier\": 1.2, \"bus_difference\": 4.2, \"num_trips\": 24, \"num_competitive\": 24, \"pct_trips_competitive\": 1.0, \"bus_difference_spread\": 0.0, \"route_group\": \"short\", \"max_trip_hrs\": 0.42, \"max_trip_route_group\": 0.42, \"below_cutoff\": 24, \"pct_below_cutoff\": 1.0, \"calitp_agency_name\": \"El Dorado Transit\", \"caltrans_district\": \"03 - Marysville\", \"route_name\": \"The Pollock Pines Route Provides Service From The Placerville Station Transfer Center To The Safeway Plaza In Pollock Pines Every Hour From 7:00 Am To 6:55 Pm Monday Through Friday. Service Includes Stops Along The Pony Express Trail.\", \"route_short_name\": \"60\", \"route_id2\": \"60\", \"cutoff2\": 20, \"cutoff\": 2}, {\"calitp_itp_id\": 101, \"trip_key\": 2748798956219882321, \"trip_id\": \"t_1949372_b_33026_tn_12\", \"shape_id\": \"p_1303403\", \"route_id\": \"1961\", \"service_hours\": 0.42, \"trip_first_departure_ts\": 64800, \"trip_last_arrival_ts\": 66300, \"departure_hour\": 18, \"time_of_day\": \"PM Peak\", \"p25\": 0.42, \"p50\": 0.42, \"p75\": 0.42, \"p50_trip\": 1, \"fastest_trip\": 1, \"car_duration_hours\": 0.35, \"competitive_route\": 1, \"bus_multiplier\": 1.2, \"bus_difference\": 4.2, \"num_trips\": 24, \"num_competitive\": 24, \"pct_trips_competitive\": 1.0, \"bus_difference_spread\": 0.0, \"route_group\": \"short\", \"max_trip_hrs\": 0.42, \"max_trip_route_group\": 0.42, \"below_cutoff\": 24, \"pct_below_cutoff\": 1.0, \"calitp_agency_name\": \"El Dorado Transit\", \"caltrans_district\": \"03 - Marysville\", \"route_name\": \"The Pollock Pines Route Provides Service From The Placerville Station Transfer Center To The Safeway Plaza In Pollock Pines Every Hour From 7:00 Am To 6:55 Pm Monday Through Friday. Service Includes Stops Along The Pony Express Trail.\", \"route_short_name\": \"60\", \"route_id2\": \"60\", \"cutoff2\": 20, \"cutoff\": 2}, {\"calitp_itp_id\": 101, \"trip_key\": 7116207130400066119, \"trip_id\": \"t_1949372_b_33026_tn_4\", \"shape_id\": \"p_1303403\", \"route_id\": \"1961\", \"service_hours\": 0.42, \"trip_first_departure_ts\": 36000, \"trip_last_arrival_ts\": 37500, \"departure_hour\": 10, \"time_of_day\": \"Midday\", \"p25\": 0.42, \"p50\": 0.42, \"p75\": 0.42, \"p50_trip\": 1, \"fastest_trip\": 0, \"car_duration_hours\": 0.35, \"competitive_route\": 1, \"bus_multiplier\": 1.2, \"bus_difference\": 4.2, \"num_trips\": 24, \"num_competitive\": 24, \"pct_trips_competitive\": 1.0, \"bus_difference_spread\": 0.0, \"route_group\": \"short\", \"max_trip_hrs\": 0.42, \"max_trip_route_group\": 0.42, \"below_cutoff\": 24, \"pct_below_cutoff\": 1.0, \"calitp_agency_name\": \"El Dorado Transit\", \"caltrans_district\": \"03 - Marysville\", \"route_name\": \"The Pollock Pines Route Provides Service From The Placerville Station Transfer Center To The Safeway Plaza In Pollock Pines Every Hour From 7:00 Am To 6:55 Pm Monday Through Friday. Service Includes Stops Along The Pony Express Trail.\", \"route_short_name\": \"60\", \"route_id2\": \"60\", \"cutoff2\": 20, \"cutoff\": 2}, {\"calitp_itp_id\": 101, \"trip_key\": -5856414854060505282, \"trip_id\": \"t_1949373_b_33026_tn_4\", \"shape_id\": \"p_900222\", \"route_id\": \"1961\", \"service_hours\": 0.42, \"trip_first_departure_ts\": 37800, \"trip_last_arrival_ts\": 39300, \"departure_hour\": 10, \"time_of_day\": \"Midday\", \"p25\": 0.42, \"p50\": 0.42, \"p75\": 0.42, \"p50_trip\": 1, \"fastest_trip\": 0, \"car_duration_hours\": 0.35, \"competitive_route\": 1, \"bus_multiplier\": 1.2, \"bus_difference\": 4.2, \"num_trips\": 24, \"num_competitive\": 24, \"pct_trips_competitive\": 1.0, \"bus_difference_spread\": 0.0, \"route_group\": \"short\", \"max_trip_hrs\": 0.42, \"max_trip_route_group\": 0.42, \"below_cutoff\": 24, \"pct_below_cutoff\": 1.0, \"calitp_agency_name\": \"El Dorado Transit\", \"caltrans_district\": \"03 - Marysville\", \"route_name\": \"The Pollock Pines Route Provides Service From The Placerville Station Transfer Center To The Safeway Plaza In Pollock Pines Every Hour From 7:00 Am To 6:55 Pm Monday Through Friday. Service Includes Stops Along The Pony Express Trail.\", \"route_short_name\": \"60\", \"route_id2\": \"60\", \"cutoff2\": 20, \"cutoff\": 2}, {\"calitp_itp_id\": 101, \"trip_key\": 4778667528519115190, \"trip_id\": \"t_1949372_b_33026_tn_3\", \"shape_id\": \"p_1303403\", \"route_id\": \"1961\", \"service_hours\": 0.42, \"trip_first_departure_ts\": 32400, \"trip_last_arrival_ts\": 33900, \"departure_hour\": 9, \"time_of_day\": \"AM Peak\", \"p25\": 0.42, \"p50\": 0.42, \"p75\": 0.42, \"p50_trip\": 1, \"fastest_trip\": 0, \"car_duration_hours\": 0.35, \"competitive_route\": 1, \"bus_multiplier\": 1.2, \"bus_difference\": 4.2, \"num_trips\": 24, \"num_competitive\": 24, \"pct_trips_competitive\": 1.0, \"bus_difference_spread\": 0.0, \"route_group\": \"short\", \"max_trip_hrs\": 0.42, \"max_trip_route_group\": 0.42, \"below_cutoff\": 24, \"pct_below_cutoff\": 1.0, \"calitp_agency_name\": \"El Dorado Transit\", \"caltrans_district\": \"03 - Marysville\", \"route_name\": \"The Pollock Pines Route Provides Service From The Placerville Station Transfer Center To The Safeway Plaza In Pollock Pines Every Hour From 7:00 Am To 6:55 Pm Monday Through Friday. Service Includes Stops Along The Pony Express Trail.\", \"route_short_name\": \"60\", \"route_id2\": \"60\", \"cutoff2\": 20, \"cutoff\": 2}, {\"calitp_itp_id\": 101, \"trip_key\": 6379533834490819194, \"trip_id\": \"t_1949372_b_33026_tn_11\", \"shape_id\": \"p_1303403\", \"route_id\": \"1961\", \"service_hours\": 0.42, \"trip_first_departure_ts\": 61200, \"trip_last_arrival_ts\": 62700, \"departure_hour\": 17, \"time_of_day\": \"PM Peak\", \"p25\": 0.42, \"p50\": 0.42, \"p75\": 0.42, \"p50_trip\": 1, \"fastest_trip\": 0, \"car_duration_hours\": 0.35, \"competitive_route\": 1, \"bus_multiplier\": 1.2, \"bus_difference\": 4.2, \"num_trips\": 24, \"num_competitive\": 24, \"pct_trips_competitive\": 1.0, \"bus_difference_spread\": 0.0, \"route_group\": \"short\", \"max_trip_hrs\": 0.42, \"max_trip_route_group\": 0.42, \"below_cutoff\": 24, \"pct_below_cutoff\": 1.0, \"calitp_agency_name\": \"El Dorado Transit\", \"caltrans_district\": \"03 - Marysville\", \"route_name\": \"The Pollock Pines Route Provides Service From The Placerville Station Transfer Center To The Safeway Plaza In Pollock Pines Every Hour From 7:00 Am To 6:55 Pm Monday Through Friday. Service Includes Stops Along The Pony Express Trail.\", \"route_short_name\": \"60\", \"route_id2\": \"60\", \"cutoff2\": 20, \"cutoff\": 2}, {\"calitp_itp_id\": 101, \"trip_key\": -1618321419695520022, \"trip_id\": \"t_1949372_b_33026_tn_10\", \"shape_id\": \"p_1303403\", \"route_id\": \"1961\", \"service_hours\": 0.42, \"trip_first_departure_ts\": 57600, \"trip_last_arrival_ts\": 59100, \"departure_hour\": 16, \"time_of_day\": \"Midday\", \"p25\": 0.42, \"p50\": 0.42, \"p75\": 0.42, \"p50_trip\": 1, \"fastest_trip\": 0, \"car_duration_hours\": 0.35, \"competitive_route\": 1, \"bus_multiplier\": 1.2, \"bus_difference\": 4.2, \"num_trips\": 24, \"num_competitive\": 24, \"pct_trips_competitive\": 1.0, \"bus_difference_spread\": 0.0, \"route_group\": \"short\", \"max_trip_hrs\": 0.42, \"max_trip_route_group\": 0.42, \"below_cutoff\": 24, \"pct_below_cutoff\": 1.0, \"calitp_agency_name\": \"El Dorado Transit\", \"caltrans_district\": \"03 - Marysville\", \"route_name\": \"The Pollock Pines Route Provides Service From The Placerville Station Transfer Center To The Safeway Plaza In Pollock Pines Every Hour From 7:00 Am To 6:55 Pm Monday Through Friday. Service Includes Stops Along The Pony Express Trail.\", \"route_short_name\": \"60\", \"route_id2\": \"60\", \"cutoff2\": 20, \"cutoff\": 2}, {\"calitp_itp_id\": 101, \"trip_key\": 7887906362709813982, \"trip_id\": \"t_1949372_b_33026_tn_1\", \"shape_id\": \"p_1303403\", \"route_id\": \"1961\", \"service_hours\": 0.42, \"trip_first_departure_ts\": 25200, \"trip_last_arrival_ts\": 26700, \"departure_hour\": 7, \"time_of_day\": \"AM Peak\", \"p25\": 0.42, \"p50\": 0.42, \"p75\": 0.42, \"p50_trip\": 1, \"fastest_trip\": 0, \"car_duration_hours\": 0.35, \"competitive_route\": 1, \"bus_multiplier\": 1.2, \"bus_difference\": 4.2, \"num_trips\": 24, \"num_competitive\": 24, \"pct_trips_competitive\": 1.0, \"bus_difference_spread\": 0.0, \"route_group\": \"short\", \"max_trip_hrs\": 0.42, \"max_trip_route_group\": 0.42, \"below_cutoff\": 24, \"pct_below_cutoff\": 1.0, \"calitp_agency_name\": \"El Dorado Transit\", \"caltrans_district\": \"03 - Marysville\", \"route_name\": \"The Pollock Pines Route Provides Service From The Placerville Station Transfer Center To The Safeway Plaza In Pollock Pines Every Hour From 7:00 Am To 6:55 Pm Monday Through Friday. Service Includes Stops Along The Pony Express Trail.\", \"route_short_name\": \"60\", \"route_id2\": \"60\", \"cutoff2\": 20, \"cutoff\": 2}, {\"calitp_itp_id\": 101, \"trip_key\": -1409051975805334226, \"trip_id\": \"t_1949374_b_33026_tn_0\", \"shape_id\": \"p_900222\", \"route_id\": \"1961\", \"service_hours\": 0.42, \"trip_first_departure_ts\": 66600, \"trip_last_arrival_ts\": 68100, \"departure_hour\": 18, \"time_of_day\": \"PM Peak\", \"p25\": 0.42, \"p50\": 0.42, \"p75\": 0.42, \"p50_trip\": 1, \"fastest_trip\": 0, \"car_duration_hours\": 0.35, \"competitive_route\": 1, \"bus_multiplier\": 1.2, \"bus_difference\": 4.2, \"num_trips\": 24, \"num_competitive\": 24, \"pct_trips_competitive\": 1.0, \"bus_difference_spread\": 0.0, \"route_group\": \"short\", \"max_trip_hrs\": 0.42, \"max_trip_route_group\": 0.42, \"below_cutoff\": 24, \"pct_below_cutoff\": 1.0, \"calitp_agency_name\": \"El Dorado Transit\", \"caltrans_district\": \"03 - Marysville\", \"route_name\": \"The Pollock Pines Route Provides Service From The Placerville Station Transfer Center To The Safeway Plaza In Pollock Pines Every Hour From 7:00 Am To 6:55 Pm Monday Through Friday. Service Includes Stops Along The Pony Express Trail.\", \"route_short_name\": \"60\", \"route_id2\": \"60\", \"cutoff2\": 20, \"cutoff\": 2}, {\"calitp_itp_id\": 101, \"trip_key\": 7228101435852995961, \"trip_id\": \"t_1949373_b_33026_tn_6\", \"shape_id\": \"p_900222\", \"route_id\": \"1961\", \"service_hours\": 0.42, \"trip_first_departure_ts\": 45000, \"trip_last_arrival_ts\": 46500, \"departure_hour\": 12, \"time_of_day\": \"Midday\", \"p25\": 0.42, \"p50\": 0.42, \"p75\": 0.42, \"p50_trip\": 1, \"fastest_trip\": 0, \"car_duration_hours\": 0.35, \"competitive_route\": 1, \"bus_multiplier\": 1.2, \"bus_difference\": 4.2, \"num_trips\": 24, \"num_competitive\": 24, \"pct_trips_competitive\": 1.0, \"bus_difference_spread\": 0.0, \"route_group\": \"short\", \"max_trip_hrs\": 0.42, \"max_trip_route_group\": 0.42, \"below_cutoff\": 24, \"pct_below_cutoff\": 1.0, \"calitp_agency_name\": \"El Dorado Transit\", \"caltrans_district\": \"03 - Marysville\", \"route_name\": \"The Pollock Pines Route Provides Service From The Placerville Station Transfer Center To The Safeway Plaza In Pollock Pines Every Hour From 7:00 Am To 6:55 Pm Monday Through Friday. Service Includes Stops Along The Pony Express Trail.\", \"route_short_name\": \"60\", \"route_id2\": \"60\", \"cutoff2\": 20, \"cutoff\": 2}, {\"calitp_itp_id\": 101, \"trip_key\": 4868205917230158940, \"trip_id\": \"t_1949373_b_33026_tn_1\", \"shape_id\": \"p_900222\", \"route_id\": \"1961\", \"service_hours\": 0.42, \"trip_first_departure_ts\": 27000, \"trip_last_arrival_ts\": 28500, \"departure_hour\": 7, \"time_of_day\": \"AM Peak\", \"p25\": 0.42, \"p50\": 0.42, \"p75\": 0.42, \"p50_trip\": 1, \"fastest_trip\": 0, \"car_duration_hours\": 0.35, \"competitive_route\": 1, \"bus_multiplier\": 1.2, \"bus_difference\": 4.2, \"num_trips\": 24, \"num_competitive\": 24, \"pct_trips_competitive\": 1.0, \"bus_difference_spread\": 0.0, \"route_group\": \"short\", \"max_trip_hrs\": 0.42, \"max_trip_route_group\": 0.42, \"below_cutoff\": 24, \"pct_below_cutoff\": 1.0, \"calitp_agency_name\": \"El Dorado Transit\", \"caltrans_district\": \"03 - Marysville\", \"route_name\": \"The Pollock Pines Route Provides Service From The Placerville Station Transfer Center To The Safeway Plaza In Pollock Pines Every Hour From 7:00 Am To 6:55 Pm Monday Through Friday. Service Includes Stops Along The Pony Express Trail.\", \"route_short_name\": \"60\", \"route_id2\": \"60\", \"cutoff2\": 20, \"cutoff\": 2}, {\"calitp_itp_id\": 101, \"trip_key\": 8541314170185095319, \"trip_id\": \"t_1949373_b_33026_tn_8\", \"shape_id\": \"p_900222\", \"route_id\": \"1961\", \"service_hours\": 0.42, \"trip_first_departure_ts\": 52200, \"trip_last_arrival_ts\": 53700, \"departure_hour\": 14, \"time_of_day\": \"Midday\", \"p25\": 0.42, \"p50\": 0.42, \"p75\": 0.42, \"p50_trip\": 1, \"fastest_trip\": 0, \"car_duration_hours\": 0.35, \"competitive_route\": 1, \"bus_multiplier\": 1.2, \"bus_difference\": 4.2, \"num_trips\": 24, \"num_competitive\": 24, \"pct_trips_competitive\": 1.0, \"bus_difference_spread\": 0.0, \"route_group\": \"short\", \"max_trip_hrs\": 0.42, \"max_trip_route_group\": 0.42, \"below_cutoff\": 24, \"pct_below_cutoff\": 1.0, \"calitp_agency_name\": \"El Dorado Transit\", \"caltrans_district\": \"03 - Marysville\", \"route_name\": \"The Pollock Pines Route Provides Service From The Placerville Station Transfer Center To The Safeway Plaza In Pollock Pines Every Hour From 7:00 Am To 6:55 Pm Monday Through Friday. Service Includes Stops Along The Pony Express Trail.\", \"route_short_name\": \"60\", \"route_id2\": \"60\", \"cutoff2\": 20, \"cutoff\": 2}, {\"calitp_itp_id\": 101, \"trip_key\": 9040718852308461373, \"trip_id\": \"t_1949373_b_33026_tn_2\", \"shape_id\": \"p_900222\", \"route_id\": \"1961\", \"service_hours\": 0.42, \"trip_first_departure_ts\": 30600, \"trip_last_arrival_ts\": 32100, \"departure_hour\": 8, \"time_of_day\": \"AM Peak\", \"p25\": 0.42, \"p50\": 0.42, \"p75\": 0.42, \"p50_trip\": 1, \"fastest_trip\": 0, \"car_duration_hours\": 0.35, \"competitive_route\": 1, \"bus_multiplier\": 1.2, \"bus_difference\": 4.2, \"num_trips\": 24, \"num_competitive\": 24, \"pct_trips_competitive\": 1.0, \"bus_difference_spread\": 0.0, \"route_group\": \"short\", \"max_trip_hrs\": 0.42, \"max_trip_route_group\": 0.42, \"below_cutoff\": 24, \"pct_below_cutoff\": 1.0, \"calitp_agency_name\": \"El Dorado Transit\", \"caltrans_district\": \"03 - Marysville\", \"route_name\": \"The Pollock Pines Route Provides Service From The Placerville Station Transfer Center To The Safeway Plaza In Pollock Pines Every Hour From 7:00 Am To 6:55 Pm Monday Through Friday. Service Includes Stops Along The Pony Express Trail.\", \"route_short_name\": \"60\", \"route_id2\": \"60\", \"cutoff2\": 20, \"cutoff\": 2}, {\"calitp_itp_id\": 101, \"trip_key\": -3856049903429987053, \"trip_id\": \"t_1949373_b_33026_tn_5\", \"shape_id\": \"p_900222\", \"route_id\": \"1961\", \"service_hours\": 0.42, \"trip_first_departure_ts\": 41400, \"trip_last_arrival_ts\": 42900, \"departure_hour\": 11, \"time_of_day\": \"Midday\", \"p25\": 0.42, \"p50\": 0.42, \"p75\": 0.42, \"p50_trip\": 1, \"fastest_trip\": 0, \"car_duration_hours\": 0.35, \"competitive_route\": 1, \"bus_multiplier\": 1.2, \"bus_difference\": 4.2, \"num_trips\": 24, \"num_competitive\": 24, \"pct_trips_competitive\": 1.0, \"bus_difference_spread\": 0.0, \"route_group\": \"short\", \"max_trip_hrs\": 0.42, \"max_trip_route_group\": 0.42, \"below_cutoff\": 24, \"pct_below_cutoff\": 1.0, \"calitp_agency_name\": \"El Dorado Transit\", \"caltrans_district\": \"03 - Marysville\", \"route_name\": \"The Pollock Pines Route Provides Service From The Placerville Station Transfer Center To The Safeway Plaza In Pollock Pines Every Hour From 7:00 Am To 6:55 Pm Monday Through Friday. Service Includes Stops Along The Pony Express Trail.\", \"route_short_name\": \"60\", \"route_id2\": \"60\", \"cutoff2\": 20, \"cutoff\": 2}, {\"calitp_itp_id\": 101, \"trip_key\": -1541101884368462115, \"trip_id\": \"t_1949373_b_33026_tn_10\", \"shape_id\": \"p_900222\", \"route_id\": \"1961\", \"service_hours\": 0.42, \"trip_first_departure_ts\": 59400, \"trip_last_arrival_ts\": 60900, \"departure_hour\": 16, \"time_of_day\": \"Midday\", \"p25\": 0.42, \"p50\": 0.42, \"p75\": 0.42, \"p50_trip\": 1, \"fastest_trip\": 0, \"car_duration_hours\": 0.35, \"competitive_route\": 1, \"bus_multiplier\": 1.2, \"bus_difference\": 4.2, \"num_trips\": 24, \"num_competitive\": 24, \"pct_trips_competitive\": 1.0, \"bus_difference_spread\": 0.0, \"route_group\": \"short\", \"max_trip_hrs\": 0.42, \"max_trip_route_group\": 0.42, \"below_cutoff\": 24, \"pct_below_cutoff\": 1.0, \"calitp_agency_name\": \"El Dorado Transit\", \"caltrans_district\": \"03 - Marysville\", \"route_name\": \"The Pollock Pines Route Provides Service From The Placerville Station Transfer Center To The Safeway Plaza In Pollock Pines Every Hour From 7:00 Am To 6:55 Pm Monday Through Friday. Service Includes Stops Along The Pony Express Trail.\", \"route_short_name\": \"60\", \"route_id2\": \"60\", \"cutoff2\": 20, \"cutoff\": 2}, {\"calitp_itp_id\": 101, \"trip_key\": -1792466778569247518, \"trip_id\": \"t_1949372_b_33026_tn_2\", \"shape_id\": \"p_1303403\", \"route_id\": \"1961\", \"service_hours\": 0.42, \"trip_first_departure_ts\": 28800, \"trip_last_arrival_ts\": 30300, \"departure_hour\": 8, \"time_of_day\": \"AM Peak\", \"p25\": 0.42, \"p50\": 0.42, \"p75\": 0.42, \"p50_trip\": 1, \"fastest_trip\": 0, \"car_duration_hours\": 0.35, \"competitive_route\": 1, \"bus_multiplier\": 1.2, \"bus_difference\": 4.2, \"num_trips\": 24, \"num_competitive\": 24, \"pct_trips_competitive\": 1.0, \"bus_difference_spread\": 0.0, \"route_group\": \"short\", \"max_trip_hrs\": 0.42, \"max_trip_route_group\": 0.42, \"below_cutoff\": 24, \"pct_below_cutoff\": 1.0, \"calitp_agency_name\": \"El Dorado Transit\", \"caltrans_district\": \"03 - Marysville\", \"route_name\": \"The Pollock Pines Route Provides Service From The Placerville Station Transfer Center To The Safeway Plaza In Pollock Pines Every Hour From 7:00 Am To 6:55 Pm Monday Through Friday. Service Includes Stops Along The Pony Express Trail.\", \"route_short_name\": \"60\", \"route_id2\": \"60\", \"cutoff2\": 20, \"cutoff\": 2}, {\"calitp_itp_id\": 101, \"trip_key\": -5520747728026092045, \"trip_id\": \"t_1949373_b_33026_tn_3\", \"shape_id\": \"p_900222\", \"route_id\": \"1961\", \"service_hours\": 0.42, \"trip_first_departure_ts\": 34200, \"trip_last_arrival_ts\": 35700, \"departure_hour\": 9, \"time_of_day\": \"AM Peak\", \"p25\": 0.42, \"p50\": 0.42, \"p75\": 0.42, \"p50_trip\": 1, \"fastest_trip\": 0, \"car_duration_hours\": 0.35, \"competitive_route\": 1, \"bus_multiplier\": 1.2, \"bus_difference\": 4.2, \"num_trips\": 24, \"num_competitive\": 24, \"pct_trips_competitive\": 1.0, \"bus_difference_spread\": 0.0, \"route_group\": \"short\", \"max_trip_hrs\": 0.42, \"max_trip_route_group\": 0.42, \"below_cutoff\": 24, \"pct_below_cutoff\": 1.0, \"calitp_agency_name\": \"El Dorado Transit\", \"caltrans_district\": \"03 - Marysville\", \"route_name\": \"The Pollock Pines Route Provides Service From The Placerville Station Transfer Center To The Safeway Plaza In Pollock Pines Every Hour From 7:00 Am To 6:55 Pm Monday Through Friday. Service Includes Stops Along The Pony Express Trail.\", \"route_short_name\": \"60\", \"route_id2\": \"60\", \"cutoff2\": 20, \"cutoff\": 2}, {\"calitp_itp_id\": 101, \"trip_key\": -6057104583329695432, \"trip_id\": \"t_1949372_b_33026_tn_9\", \"shape_id\": \"p_1303403\", \"route_id\": \"1961\", \"service_hours\": 0.42, \"trip_first_departure_ts\": 54000, \"trip_last_arrival_ts\": 55500, \"departure_hour\": 15, \"time_of_day\": \"Midday\", \"p25\": 0.42, \"p50\": 0.42, \"p75\": 0.42, \"p50_trip\": 1, \"fastest_trip\": 0, \"car_duration_hours\": 0.35, \"competitive_route\": 1, \"bus_multiplier\": 1.2, \"bus_difference\": 4.2, \"num_trips\": 24, \"num_competitive\": 24, \"pct_trips_competitive\": 1.0, \"bus_difference_spread\": 0.0, \"route_group\": \"short\", \"max_trip_hrs\": 0.42, \"max_trip_route_group\": 0.42, \"below_cutoff\": 24, \"pct_below_cutoff\": 1.0, \"calitp_agency_name\": \"El Dorado Transit\", \"caltrans_district\": \"03 - Marysville\", \"route_name\": \"The Pollock Pines Route Provides Service From The Placerville Station Transfer Center To The Safeway Plaza In Pollock Pines Every Hour From 7:00 Am To 6:55 Pm Monday Through Friday. Service Includes Stops Along The Pony Express Trail.\", \"route_short_name\": \"60\", \"route_id2\": \"60\", \"cutoff2\": 20, \"cutoff\": 2}, {\"calitp_itp_id\": 101, \"trip_key\": -4795671958504411580, \"trip_id\": \"t_1949349_b_33026_tn_0\", \"shape_id\": \"p_1303386\", \"route_id\": \"1962\", \"service_hours\": 0.92, \"trip_first_departure_ts\": 34200, \"trip_last_arrival_ts\": 37500, \"departure_hour\": 9, \"time_of_day\": \"AM Peak\", \"p25\": 0.92, \"p50\": 0.92, \"p75\": 0.92, \"p50_trip\": 1, \"fastest_trip\": 0, \"car_duration_hours\": 0.64, \"competitive_route\": 1, \"bus_multiplier\": 1.44, \"bus_difference\": 16.8, \"num_trips\": 13, \"num_competitive\": 13, \"pct_trips_competitive\": 1.0, \"bus_difference_spread\": 0.0, \"route_group\": \"short\", \"max_trip_hrs\": 0.92, \"max_trip_route_group\": 0.92, \"below_cutoff\": 13, \"pct_below_cutoff\": 1.0, \"calitp_agency_name\": \"El Dorado Transit\", \"caltrans_district\": \"03 - Marysville\", \"route_name\": \"The Placerville Route Provides Local Service Around The Town Of Placerville From 6:30 Am To 7:25 Pm Monday Through Friday, And Connections To Other El Dorado Transit Routes At The Placerville Station Transfer Center.\", \"route_short_name\": \"20\", \"route_id2\": \"20\", \"cutoff2\": 20, \"cutoff\": 2}, {\"calitp_itp_id\": 101, \"trip_key\": 175229237473283604, \"trip_id\": \"t_1949354_b_33026_tn_0\", \"shape_id\": \"p_1303386\", \"route_id\": \"1962\", \"service_hours\": 0.92, \"trip_first_departure_ts\": 52200, \"trip_last_arrival_ts\": 55500, \"departure_hour\": 14, \"time_of_day\": \"Midday\", \"p25\": 0.92, \"p50\": 0.92, \"p75\": 0.92, \"p50_trip\": 1, \"fastest_trip\": 0, \"car_duration_hours\": 0.64, \"competitive_route\": 1, \"bus_multiplier\": 1.44, \"bus_difference\": 16.8, \"num_trips\": 13, \"num_competitive\": 13, \"pct_trips_competitive\": 1.0, \"bus_difference_spread\": 0.0, \"route_group\": \"short\", \"max_trip_hrs\": 0.92, \"max_trip_route_group\": 0.92, \"below_cutoff\": 13, \"pct_below_cutoff\": 1.0, \"calitp_agency_name\": \"El Dorado Transit\", \"caltrans_district\": \"03 - Marysville\", \"route_name\": \"The Placerville Route Provides Local Service Around The Town Of Placerville From 6:30 Am To 7:25 Pm Monday Through Friday, And Connections To Other El Dorado Transit Routes At The Placerville Station Transfer Center.\", \"route_short_name\": \"20\", \"route_id2\": \"20\", \"cutoff2\": 20, \"cutoff\": 2}, {\"calitp_itp_id\": 101, \"trip_key\": 3168830657341423803, \"trip_id\": \"t_1949358_b_33026_tn_0\", \"shape_id\": \"p_1303386\", \"route_id\": \"1962\", \"service_hours\": 0.92, \"trip_first_departure_ts\": 66600, \"trip_last_arrival_ts\": 69900, \"departure_hour\": 18, \"time_of_day\": \"PM Peak\", \"p25\": 0.92, \"p50\": 0.92, \"p75\": 0.92, \"p50_trip\": 1, \"fastest_trip\": 1, \"car_duration_hours\": 0.64, \"competitive_route\": 1, \"bus_multiplier\": 1.44, \"bus_difference\": 16.8, \"num_trips\": 13, \"num_competitive\": 13, \"pct_trips_competitive\": 1.0, \"bus_difference_spread\": 0.0, \"route_group\": \"short\", \"max_trip_hrs\": 0.92, \"max_trip_route_group\": 0.92, \"below_cutoff\": 13, \"pct_below_cutoff\": 1.0, \"calitp_agency_name\": \"El Dorado Transit\", \"caltrans_district\": \"03 - Marysville\", \"route_name\": \"The Placerville Route Provides Local Service Around The Town Of Placerville From 6:30 Am To 7:25 Pm Monday Through Friday, And Connections To Other El Dorado Transit Routes At The Placerville Station Transfer Center.\", \"route_short_name\": \"20\", \"route_id2\": \"20\", \"cutoff2\": 20, \"cutoff\": 2}, {\"calitp_itp_id\": 101, \"trip_key\": 4955880252761445614, \"trip_id\": \"t_1949357_b_33026_tn_0\", \"shape_id\": \"p_1303386\", \"route_id\": \"1962\", \"service_hours\": 0.92, \"trip_first_departure_ts\": 63000, \"trip_last_arrival_ts\": 66300, \"departure_hour\": 17, \"time_of_day\": \"PM Peak\", \"p25\": 0.92, \"p50\": 0.92, \"p75\": 0.92, \"p50_trip\": 1, \"fastest_trip\": 0, \"car_duration_hours\": 0.64, \"competitive_route\": 1, \"bus_multiplier\": 1.44, \"bus_difference\": 16.8, \"num_trips\": 13, \"num_competitive\": 13, \"pct_trips_competitive\": 1.0, \"bus_difference_spread\": 0.0, \"route_group\": \"short\", \"max_trip_hrs\": 0.92, \"max_trip_route_group\": 0.92, \"below_cutoff\": 13, \"pct_below_cutoff\": 1.0, \"calitp_agency_name\": \"El Dorado Transit\", \"caltrans_district\": \"03 - Marysville\", \"route_name\": \"The Placerville Route Provides Local Service Around The Town Of Placerville From 6:30 Am To 7:25 Pm Monday Through Friday, And Connections To Other El Dorado Transit Routes At The Placerville Station Transfer Center.\", \"route_short_name\": \"20\", \"route_id2\": \"20\", \"cutoff2\": 20, \"cutoff\": 2}, {\"calitp_itp_id\": 101, \"trip_key\": 5823397159290794201, \"trip_id\": \"t_1949356_b_33026_tn_0\", \"shape_id\": \"p_1303386\", \"route_id\": \"1962\", \"service_hours\": 0.92, \"trip_first_departure_ts\": 59400, \"trip_last_arrival_ts\": 62700, \"departure_hour\": 16, \"time_of_day\": \"Midday\", \"p25\": 0.92, \"p50\": 0.92, \"p75\": 0.92, \"p50_trip\": 1, \"fastest_trip\": 0, \"car_duration_hours\": 0.64, \"competitive_route\": 1, \"bus_multiplier\": 1.44, \"bus_difference\": 16.8, \"num_trips\": 13, \"num_competitive\": 13, \"pct_trips_competitive\": 1.0, \"bus_difference_spread\": 0.0, \"route_group\": \"short\", \"max_trip_hrs\": 0.92, \"max_trip_route_group\": 0.92, \"below_cutoff\": 13, \"pct_below_cutoff\": 1.0, \"calitp_agency_name\": \"El Dorado Transit\", \"caltrans_district\": \"03 - Marysville\", \"route_name\": \"The Placerville Route Provides Local Service Around The Town Of Placerville From 6:30 Am To 7:25 Pm Monday Through Friday, And Connections To Other El Dorado Transit Routes At The Placerville Station Transfer Center.\", \"route_short_name\": \"20\", \"route_id2\": \"20\", \"cutoff2\": 20, \"cutoff\": 2}, {\"calitp_itp_id\": 101, \"trip_key\": -4189130415684690174, \"trip_id\": \"t_1949351_b_33026_tn_0\", \"shape_id\": \"p_1303386\", \"route_id\": \"1962\", \"service_hours\": 0.92, \"trip_first_departure_ts\": 41400, \"trip_last_arrival_ts\": 44700, \"departure_hour\": 11, \"time_of_day\": \"Midday\", \"p25\": 0.92, \"p50\": 0.92, \"p75\": 0.92, \"p50_trip\": 1, \"fastest_trip\": 0, \"car_duration_hours\": 0.64, \"competitive_route\": 1, \"bus_multiplier\": 1.44, \"bus_difference\": 16.8, \"num_trips\": 13, \"num_competitive\": 13, \"pct_trips_competitive\": 1.0, \"bus_difference_spread\": 0.0, \"route_group\": \"short\", \"max_trip_hrs\": 0.92, \"max_trip_route_group\": 0.92, \"below_cutoff\": 13, \"pct_below_cutoff\": 1.0, \"calitp_agency_name\": \"El Dorado Transit\", \"caltrans_district\": \"03 - Marysville\", \"route_name\": \"The Placerville Route Provides Local Service Around The Town Of Placerville From 6:30 Am To 7:25 Pm Monday Through Friday, And Connections To Other El Dorado Transit Routes At The Placerville Station Transfer Center.\", \"route_short_name\": \"20\", \"route_id2\": \"20\", \"cutoff2\": 20, \"cutoff\": 2}, {\"calitp_itp_id\": 101, \"trip_key\": -9031241007927192200, \"trip_id\": \"t_1949352_b_33026_tn_0\", \"shape_id\": \"p_1303386\", \"route_id\": \"1962\", \"service_hours\": 0.92, \"trip_first_departure_ts\": 45000, \"trip_last_arrival_ts\": 48300, \"departure_hour\": 12, \"time_of_day\": \"Midday\", \"p25\": 0.92, \"p50\": 0.92, \"p75\": 0.92, \"p50_trip\": 1, \"fastest_trip\": 0, \"car_duration_hours\": 0.64, \"competitive_route\": 1, \"bus_multiplier\": 1.44, \"bus_difference\": 16.8, \"num_trips\": 13, \"num_competitive\": 13, \"pct_trips_competitive\": 1.0, \"bus_difference_spread\": 0.0, \"route_group\": \"short\", \"max_trip_hrs\": 0.92, \"max_trip_route_group\": 0.92, \"below_cutoff\": 13, \"pct_below_cutoff\": 1.0, \"calitp_agency_name\": \"El Dorado Transit\", \"caltrans_district\": \"03 - Marysville\", \"route_name\": \"The Placerville Route Provides Local Service Around The Town Of Placerville From 6:30 Am To 7:25 Pm Monday Through Friday, And Connections To Other El Dorado Transit Routes At The Placerville Station Transfer Center.\", \"route_short_name\": \"20\", \"route_id2\": \"20\", \"cutoff2\": 20, \"cutoff\": 2}, {\"calitp_itp_id\": 101, \"trip_key\": -4757037379164419797, \"trip_id\": \"t_1949355_b_33026_tn_0\", \"shape_id\": \"p_1303386\", \"route_id\": \"1962\", \"service_hours\": 0.92, \"trip_first_departure_ts\": 55800, \"trip_last_arrival_ts\": 59100, \"departure_hour\": 15, \"time_of_day\": \"Midday\", \"p25\": 0.92, \"p50\": 0.92, \"p75\": 0.92, \"p50_trip\": 1, \"fastest_trip\": 0, \"car_duration_hours\": 0.64, \"competitive_route\": 1, \"bus_multiplier\": 1.44, \"bus_difference\": 16.8, \"num_trips\": 13, \"num_competitive\": 13, \"pct_trips_competitive\": 1.0, \"bus_difference_spread\": 0.0, \"route_group\": \"short\", \"max_trip_hrs\": 0.92, \"max_trip_route_group\": 0.92, \"below_cutoff\": 13, \"pct_below_cutoff\": 1.0, \"calitp_agency_name\": \"El Dorado Transit\", \"caltrans_district\": \"03 - Marysville\", \"route_name\": \"The Placerville Route Provides Local Service Around The Town Of Placerville From 6:30 Am To 7:25 Pm Monday Through Friday, And Connections To Other El Dorado Transit Routes At The Placerville Station Transfer Center.\", \"route_short_name\": \"20\", \"route_id2\": \"20\", \"cutoff2\": 20, \"cutoff\": 2}, {\"calitp_itp_id\": 101, \"trip_key\": 4097624377465641738, \"trip_id\": \"t_1949346_b_33026_tn_0\", \"shape_id\": \"p_1303386\", \"route_id\": \"1962\", \"service_hours\": 0.92, \"trip_first_departure_ts\": 23400, \"trip_last_arrival_ts\": 26700, \"departure_hour\": 6, \"time_of_day\": \"Owl Service\", \"p25\": 0.92, \"p50\": 0.92, \"p75\": 0.92, \"p50_trip\": 1, \"fastest_trip\": 0, \"car_duration_hours\": 0.64, \"competitive_route\": 1, \"bus_multiplier\": 1.44, \"bus_difference\": 16.8, \"num_trips\": 13, \"num_competitive\": 13, \"pct_trips_competitive\": 1.0, \"bus_difference_spread\": 0.0, \"route_group\": \"short\", \"max_trip_hrs\": 0.92, \"max_trip_route_group\": 0.92, \"below_cutoff\": 13, \"pct_below_cutoff\": 1.0, \"calitp_agency_name\": \"El Dorado Transit\", \"caltrans_district\": \"03 - Marysville\", \"route_name\": \"The Placerville Route Provides Local Service Around The Town Of Placerville From 6:30 Am To 7:25 Pm Monday Through Friday, And Connections To Other El Dorado Transit Routes At The Placerville Station Transfer Center.\", \"route_short_name\": \"20\", \"route_id2\": \"20\", \"cutoff2\": 20, \"cutoff\": 2}, {\"calitp_itp_id\": 101, \"trip_key\": 800944902697937777, \"trip_id\": \"t_1949347_b_33026_tn_0\", \"shape_id\": \"p_1303386\", \"route_id\": \"1962\", \"service_hours\": 0.92, \"trip_first_departure_ts\": 27000, \"trip_last_arrival_ts\": 30300, \"departure_hour\": 7, \"time_of_day\": \"AM Peak\", \"p25\": 0.92, \"p50\": 0.92, \"p75\": 0.92, \"p50_trip\": 1, \"fastest_trip\": 0, \"car_duration_hours\": 0.64, \"competitive_route\": 1, \"bus_multiplier\": 1.44, \"bus_difference\": 16.8, \"num_trips\": 13, \"num_competitive\": 13, \"pct_trips_competitive\": 1.0, \"bus_difference_spread\": 0.0, \"route_group\": \"short\", \"max_trip_hrs\": 0.92, \"max_trip_route_group\": 0.92, \"below_cutoff\": 13, \"pct_below_cutoff\": 1.0, \"calitp_agency_name\": \"El Dorado Transit\", \"caltrans_district\": \"03 - Marysville\", \"route_name\": \"The Placerville Route Provides Local Service Around The Town Of Placerville From 6:30 Am To 7:25 Pm Monday Through Friday, And Connections To Other El Dorado Transit Routes At The Placerville Station Transfer Center.\", \"route_short_name\": \"20\", \"route_id2\": \"20\", \"cutoff2\": 20, \"cutoff\": 2}, {\"calitp_itp_id\": 101, \"trip_key\": -9113824973606912872, \"trip_id\": \"t_1949350_b_33026_tn_0\", \"shape_id\": \"p_1303386\", \"route_id\": \"1962\", \"service_hours\": 0.92, \"trip_first_departure_ts\": 37800, \"trip_last_arrival_ts\": 41100, \"departure_hour\": 10, \"time_of_day\": \"Midday\", \"p25\": 0.92, \"p50\": 0.92, \"p75\": 0.92, \"p50_trip\": 1, \"fastest_trip\": 0, \"car_duration_hours\": 0.64, \"competitive_route\": 1, \"bus_multiplier\": 1.44, \"bus_difference\": 16.8, \"num_trips\": 13, \"num_competitive\": 13, \"pct_trips_competitive\": 1.0, \"bus_difference_spread\": 0.0, \"route_group\": \"short\", \"max_trip_hrs\": 0.92, \"max_trip_route_group\": 0.92, \"below_cutoff\": 13, \"pct_below_cutoff\": 1.0, \"calitp_agency_name\": \"El Dorado Transit\", \"caltrans_district\": \"03 - Marysville\", \"route_name\": \"The Placerville Route Provides Local Service Around The Town Of Placerville From 6:30 Am To 7:25 Pm Monday Through Friday, And Connections To Other El Dorado Transit Routes At The Placerville Station Transfer Center.\", \"route_short_name\": \"20\", \"route_id2\": \"20\", \"cutoff2\": 20, \"cutoff\": 2}, {\"calitp_itp_id\": 101, \"trip_key\": -505676108246714535, \"trip_id\": \"t_1949348_b_33026_tn_0\", \"shape_id\": \"p_1303386\", \"route_id\": \"1962\", \"service_hours\": 0.92, \"trip_first_departure_ts\": 30600, \"trip_last_arrival_ts\": 33900, \"departure_hour\": 8, \"time_of_day\": \"AM Peak\", \"p25\": 0.92, \"p50\": 0.92, \"p75\": 0.92, \"p50_trip\": 1, \"fastest_trip\": 0, \"car_duration_hours\": 0.64, \"competitive_route\": 1, \"bus_multiplier\": 1.44, \"bus_difference\": 16.8, \"num_trips\": 13, \"num_competitive\": 13, \"pct_trips_competitive\": 1.0, \"bus_difference_spread\": 0.0, \"route_group\": \"short\", \"max_trip_hrs\": 0.92, \"max_trip_route_group\": 0.92, \"below_cutoff\": 13, \"pct_below_cutoff\": 1.0, \"calitp_agency_name\": \"El Dorado Transit\", \"caltrans_district\": \"03 - Marysville\", \"route_name\": \"The Placerville Route Provides Local Service Around The Town Of Placerville From 6:30 Am To 7:25 Pm Monday Through Friday, And Connections To Other El Dorado Transit Routes At The Placerville Station Transfer Center.\", \"route_short_name\": \"20\", \"route_id2\": \"20\", \"cutoff2\": 20, \"cutoff\": 2}, {\"calitp_itp_id\": 101, \"trip_key\": 2240258527051437040, \"trip_id\": \"t_1949353_b_33026_tn_0\", \"shape_id\": \"p_1303386\", \"route_id\": \"1962\", \"service_hours\": 0.92, \"trip_first_departure_ts\": 48600, \"trip_last_arrival_ts\": 51900, \"departure_hour\": 13, \"time_of_day\": \"Midday\", \"p25\": 0.92, \"p50\": 0.92, \"p75\": 0.92, \"p50_trip\": 1, \"fastest_trip\": 0, \"car_duration_hours\": 0.64, \"competitive_route\": 1, \"bus_multiplier\": 1.44, \"bus_difference\": 16.8, \"num_trips\": 13, \"num_competitive\": 13, \"pct_trips_competitive\": 1.0, \"bus_difference_spread\": 0.0, \"route_group\": \"short\", \"max_trip_hrs\": 0.92, \"max_trip_route_group\": 0.92, \"below_cutoff\": 13, \"pct_below_cutoff\": 1.0, \"calitp_agency_name\": \"El Dorado Transit\", \"caltrans_district\": \"03 - Marysville\", \"route_name\": \"The Placerville Route Provides Local Service Around The Town Of Placerville From 6:30 Am To 7:25 Pm Monday Through Friday, And Connections To Other El Dorado Transit Routes At The Placerville Station Transfer Center.\", \"route_short_name\": \"20\", \"route_id2\": \"20\", \"cutoff2\": 20, \"cutoff\": 2}, {\"calitp_itp_id\": 101, \"trip_key\": 6464769253391233615, \"trip_id\": \"t_1949367_b_33026_tn_0\", \"shape_id\": \"p_900109\", \"route_id\": \"1963\", \"service_hours\": 0.92, \"trip_first_departure_ts\": 54000, \"trip_last_arrival_ts\": 57300, \"departure_hour\": 15, \"time_of_day\": \"Midday\", \"p25\": 0.92, \"p50\": 0.92, \"p75\": 0.92, \"p50_trip\": 1, \"fastest_trip\": 0, \"car_duration_hours\": 0.6, \"competitive_route\": 1, \"bus_multiplier\": 1.53, \"bus_difference\": 19.2, \"num_trips\": 12, \"num_competitive\": 12, \"pct_trips_competitive\": 1.0, \"bus_difference_spread\": 0.0, \"route_group\": \"short\", \"max_trip_hrs\": 0.92, \"max_trip_route_group\": 0.92, \"below_cutoff\": 12, \"pct_below_cutoff\": 1.0, \"calitp_agency_name\": \"El Dorado Transit\", \"caltrans_district\": \"03 - Marysville\", \"route_name\": \"The Diamond Springs Route Loops Around Diamond Springs, Including Service To The El Dorado Campus Of Folsom Lake College, Hourly Monday Through Friday From 7:00 Am To 7:00 Pm.\", \"route_short_name\": \"30\", \"route_id2\": \"30\", \"cutoff2\": 20, \"cutoff\": 2}, {\"calitp_itp_id\": 101, \"trip_key\": 839806181480533718, \"trip_id\": \"t_1949364_b_33026_tn_0\", \"shape_id\": \"p_900109\", \"route_id\": \"1963\", \"service_hours\": 0.92, \"trip_first_departure_ts\": 43200, \"trip_last_arrival_ts\": 46500, \"departure_hour\": 12, \"time_of_day\": \"Midday\", \"p25\": 0.92, \"p50\": 0.92, \"p75\": 0.92, \"p50_trip\": 1, \"fastest_trip\": 0, \"car_duration_hours\": 0.6, \"competitive_route\": 1, \"bus_multiplier\": 1.53, \"bus_difference\": 19.2, \"num_trips\": 12, \"num_competitive\": 12, \"pct_trips_competitive\": 1.0, \"bus_difference_spread\": 0.0, \"route_group\": \"short\", \"max_trip_hrs\": 0.92, \"max_trip_route_group\": 0.92, \"below_cutoff\": 12, \"pct_below_cutoff\": 1.0, \"calitp_agency_name\": \"El Dorado Transit\", \"caltrans_district\": \"03 - Marysville\", \"route_name\": \"The Diamond Springs Route Loops Around Diamond Springs, Including Service To The El Dorado Campus Of Folsom Lake College, Hourly Monday Through Friday From 7:00 Am To 7:00 Pm.\", \"route_short_name\": \"30\", \"route_id2\": \"30\", \"cutoff2\": 20, \"cutoff\": 2}, {\"calitp_itp_id\": 101, \"trip_key\": 1798264035522025816, \"trip_id\": \"t_1949370_b_33026_tn_0\", \"shape_id\": \"p_900109\", \"route_id\": \"1963\", \"service_hours\": 0.92, \"trip_first_departure_ts\": 64800, \"trip_last_arrival_ts\": 68100, \"departure_hour\": 18, \"time_of_day\": \"PM Peak\", \"p25\": 0.92, \"p50\": 0.92, \"p75\": 0.92, \"p50_trip\": 1, \"fastest_trip\": 1, \"car_duration_hours\": 0.6, \"competitive_route\": 1, \"bus_multiplier\": 1.53, \"bus_difference\": 19.2, \"num_trips\": 12, \"num_competitive\": 12, \"pct_trips_competitive\": 1.0, \"bus_difference_spread\": 0.0, \"route_group\": \"short\", \"max_trip_hrs\": 0.92, \"max_trip_route_group\": 0.92, \"below_cutoff\": 12, \"pct_below_cutoff\": 1.0, \"calitp_agency_name\": \"El Dorado Transit\", \"caltrans_district\": \"03 - Marysville\", \"route_name\": \"The Diamond Springs Route Loops Around Diamond Springs, Including Service To The El Dorado Campus Of Folsom Lake College, Hourly Monday Through Friday From 7:00 Am To 7:00 Pm.\", \"route_short_name\": \"30\", \"route_id2\": \"30\", \"cutoff2\": 20, \"cutoff\": 2}, {\"calitp_itp_id\": 101, \"trip_key\": 2635167073713382704, \"trip_id\": \"t_1949366_b_33026_tn_0\", \"shape_id\": \"p_900109\", \"route_id\": \"1963\", \"service_hours\": 0.92, \"trip_first_departure_ts\": 50400, \"trip_last_arrival_ts\": 53700, \"departure_hour\": 14, \"time_of_day\": \"Midday\", \"p25\": 0.92, \"p50\": 0.92, \"p75\": 0.92, \"p50_trip\": 1, \"fastest_trip\": 0, \"car_duration_hours\": 0.6, \"competitive_route\": 1, \"bus_multiplier\": 1.53, \"bus_difference\": 19.2, \"num_trips\": 12, \"num_competitive\": 12, \"pct_trips_competitive\": 1.0, \"bus_difference_spread\": 0.0, \"route_group\": \"short\", \"max_trip_hrs\": 0.92, \"max_trip_route_group\": 0.92, \"below_cutoff\": 12, \"pct_below_cutoff\": 1.0, \"calitp_agency_name\": \"El Dorado Transit\", \"caltrans_district\": \"03 - Marysville\", \"route_name\": \"The Diamond Springs Route Loops Around Diamond Springs, Including Service To The El Dorado Campus Of Folsom Lake College, Hourly Monday Through Friday From 7:00 Am To 7:00 Pm.\", \"route_short_name\": \"30\", \"route_id2\": \"30\", \"cutoff2\": 20, \"cutoff\": 2}, {\"calitp_itp_id\": 101, \"trip_key\": 9172049255811633093, \"trip_id\": \"t_1949362_b_33026_tn_0\", \"shape_id\": \"p_900109\", \"route_id\": \"1963\", \"service_hours\": 0.92, \"trip_first_departure_ts\": 36000, \"trip_last_arrival_ts\": 39300, \"departure_hour\": 10, \"time_of_day\": \"Midday\", \"p25\": 0.92, \"p50\": 0.92, \"p75\": 0.92, \"p50_trip\": 1, \"fastest_trip\": 0, \"car_duration_hours\": 0.6, \"competitive_route\": 1, \"bus_multiplier\": 1.53, \"bus_difference\": 19.2, \"num_trips\": 12, \"num_competitive\": 12, \"pct_trips_competitive\": 1.0, \"bus_difference_spread\": 0.0, \"route_group\": \"short\", \"max_trip_hrs\": 0.92, \"max_trip_route_group\": 0.92, \"below_cutoff\": 12, \"pct_below_cutoff\": 1.0, \"calitp_agency_name\": \"El Dorado Transit\", \"caltrans_district\": \"03 - Marysville\", \"route_name\": \"The Diamond Springs Route Loops Around Diamond Springs, Including Service To The El Dorado Campus Of Folsom Lake College, Hourly Monday Through Friday From 7:00 Am To 7:00 Pm.\", \"route_short_name\": \"30\", \"route_id2\": \"30\", \"cutoff2\": 20, \"cutoff\": 2}, {\"calitp_itp_id\": 101, \"trip_key\": 1388087084170388007, \"trip_id\": \"t_1949361_b_33026_tn_0\", \"shape_id\": \"p_900109\", \"route_id\": \"1963\", \"service_hours\": 0.92, \"trip_first_departure_ts\": 32400, \"trip_last_arrival_ts\": 35700, \"departure_hour\": 9, \"time_of_day\": \"AM Peak\", \"p25\": 0.92, \"p50\": 0.92, \"p75\": 0.92, \"p50_trip\": 1, \"fastest_trip\": 0, \"car_duration_hours\": 0.6, \"competitive_route\": 1, \"bus_multiplier\": 1.53, \"bus_difference\": 19.2, \"num_trips\": 12, \"num_competitive\": 12, \"pct_trips_competitive\": 1.0, \"bus_difference_spread\": 0.0, \"route_group\": \"short\", \"max_trip_hrs\": 0.92, \"max_trip_route_group\": 0.92, \"below_cutoff\": 12, \"pct_below_cutoff\": 1.0, \"calitp_agency_name\": \"El Dorado Transit\", \"caltrans_district\": \"03 - Marysville\", \"route_name\": \"The Diamond Springs Route Loops Around Diamond Springs, Including Service To The El Dorado Campus Of Folsom Lake College, Hourly Monday Through Friday From 7:00 Am To 7:00 Pm.\", \"route_short_name\": \"30\", \"route_id2\": \"30\", \"cutoff2\": 20, \"cutoff\": 2}, {\"calitp_itp_id\": 101, \"trip_key\": -5113333089663286626, \"trip_id\": \"t_1949368_b_33026_tn_0\", \"shape_id\": \"p_900109\", \"route_id\": \"1963\", \"service_hours\": 0.92, \"trip_first_departure_ts\": 57600, \"trip_last_arrival_ts\": 60900, \"departure_hour\": 16, \"time_of_day\": \"Midday\", \"p25\": 0.92, \"p50\": 0.92, \"p75\": 0.92, \"p50_trip\": 1, \"fastest_trip\": 0, \"car_duration_hours\": 0.6, \"competitive_route\": 1, \"bus_multiplier\": 1.53, \"bus_difference\": 19.2, \"num_trips\": 12, \"num_competitive\": 12, \"pct_trips_competitive\": 1.0, \"bus_difference_spread\": 0.0, \"route_group\": \"short\", \"max_trip_hrs\": 0.92, \"max_trip_route_group\": 0.92, \"below_cutoff\": 12, \"pct_below_cutoff\": 1.0, \"calitp_agency_name\": \"El Dorado Transit\", \"caltrans_district\": \"03 - Marysville\", \"route_name\": \"The Diamond Springs Route Loops Around Diamond Springs, Including Service To The El Dorado Campus Of Folsom Lake College, Hourly Monday Through Friday From 7:00 Am To 7:00 Pm.\", \"route_short_name\": \"30\", \"route_id2\": \"30\", \"cutoff2\": 20, \"cutoff\": 2}, {\"calitp_itp_id\": 101, \"trip_key\": -5627164831897303455, \"trip_id\": \"t_1949365_b_33026_tn_0\", \"shape_id\": \"p_900109\", \"route_id\": \"1963\", \"service_hours\": 0.92, \"trip_first_departure_ts\": 46800, \"trip_last_arrival_ts\": 50100, \"departure_hour\": 13, \"time_of_day\": \"Midday\", \"p25\": 0.92, \"p50\": 0.92, \"p75\": 0.92, \"p50_trip\": 1, \"fastest_trip\": 0, \"car_duration_hours\": 0.6, \"competitive_route\": 1, \"bus_multiplier\": 1.53, \"bus_difference\": 19.2, \"num_trips\": 12, \"num_competitive\": 12, \"pct_trips_competitive\": 1.0, \"bus_difference_spread\": 0.0, \"route_group\": \"short\", \"max_trip_hrs\": 0.92, \"max_trip_route_group\": 0.92, \"below_cutoff\": 12, \"pct_below_cutoff\": 1.0, \"calitp_agency_name\": \"El Dorado Transit\", \"caltrans_district\": \"03 - Marysville\", \"route_name\": \"The Diamond Springs Route Loops Around Diamond Springs, Including Service To The El Dorado Campus Of Folsom Lake College, Hourly Monday Through Friday From 7:00 Am To 7:00 Pm.\", \"route_short_name\": \"30\", \"route_id2\": \"30\", \"cutoff2\": 20, \"cutoff\": 2}, {\"calitp_itp_id\": 101, \"trip_key\": -7781342902892207058, \"trip_id\": \"t_1949369_b_33026_tn_0\", \"shape_id\": \"p_900109\", \"route_id\": \"1963\", \"service_hours\": 0.92, \"trip_first_departure_ts\": 61200, \"trip_last_arrival_ts\": 64500, \"departure_hour\": 17, \"time_of_day\": \"PM Peak\", \"p25\": 0.92, \"p50\": 0.92, \"p75\": 0.92, \"p50_trip\": 1, \"fastest_trip\": 0, \"car_duration_hours\": 0.6, \"competitive_route\": 1, \"bus_multiplier\": 1.53, \"bus_difference\": 19.2, \"num_trips\": 12, \"num_competitive\": 12, \"pct_trips_competitive\": 1.0, \"bus_difference_spread\": 0.0, \"route_group\": \"short\", \"max_trip_hrs\": 0.92, \"max_trip_route_group\": 0.92, \"below_cutoff\": 12, \"pct_below_cutoff\": 1.0, \"calitp_agency_name\": \"El Dorado Transit\", \"caltrans_district\": \"03 - Marysville\", \"route_name\": \"The Diamond Springs Route Loops Around Diamond Springs, Including Service To The El Dorado Campus Of Folsom Lake College, Hourly Monday Through Friday From 7:00 Am To 7:00 Pm.\", \"route_short_name\": \"30\", \"route_id2\": \"30\", \"cutoff2\": 20, \"cutoff\": 2}, {\"calitp_itp_id\": 101, \"trip_key\": 4633635362667700056, \"trip_id\": \"t_1949359_b_33026_tn_0\", \"shape_id\": \"p_900109\", \"route_id\": \"1963\", \"service_hours\": 0.92, \"trip_first_departure_ts\": 25200, \"trip_last_arrival_ts\": 28500, \"departure_hour\": 7, \"time_of_day\": \"AM Peak\", \"p25\": 0.92, \"p50\": 0.92, \"p75\": 0.92, \"p50_trip\": 1, \"fastest_trip\": 0, \"car_duration_hours\": 0.6, \"competitive_route\": 1, \"bus_multiplier\": 1.53, \"bus_difference\": 19.2, \"num_trips\": 12, \"num_competitive\": 12, \"pct_trips_competitive\": 1.0, \"bus_difference_spread\": 0.0, \"route_group\": \"short\", \"max_trip_hrs\": 0.92, \"max_trip_route_group\": 0.92, \"below_cutoff\": 12, \"pct_below_cutoff\": 1.0, \"calitp_agency_name\": \"El Dorado Transit\", \"caltrans_district\": \"03 - Marysville\", \"route_name\": \"The Diamond Springs Route Loops Around Diamond Springs, Including Service To The El Dorado Campus Of Folsom Lake College, Hourly Monday Through Friday From 7:00 Am To 7:00 Pm.\", \"route_short_name\": \"30\", \"route_id2\": \"30\", \"cutoff2\": 20, \"cutoff\": 2}, {\"calitp_itp_id\": 101, \"trip_key\": -1221787305070327543, \"trip_id\": \"t_1949360_b_33026_tn_0\", \"shape_id\": \"p_900109\", \"route_id\": \"1963\", \"service_hours\": 0.92, \"trip_first_departure_ts\": 28800, \"trip_last_arrival_ts\": 32100, \"departure_hour\": 8, \"time_of_day\": \"AM Peak\", \"p25\": 0.92, \"p50\": 0.92, \"p75\": 0.92, \"p50_trip\": 1, \"fastest_trip\": 0, \"car_duration_hours\": 0.6, \"competitive_route\": 1, \"bus_multiplier\": 1.53, \"bus_difference\": 19.2, \"num_trips\": 12, \"num_competitive\": 12, \"pct_trips_competitive\": 1.0, \"bus_difference_spread\": 0.0, \"route_group\": \"short\", \"max_trip_hrs\": 0.92, \"max_trip_route_group\": 0.92, \"below_cutoff\": 12, \"pct_below_cutoff\": 1.0, \"calitp_agency_name\": \"El Dorado Transit\", \"caltrans_district\": \"03 - Marysville\", \"route_name\": \"The Diamond Springs Route Loops Around Diamond Springs, Including Service To The El Dorado Campus Of Folsom Lake College, Hourly Monday Through Friday From 7:00 Am To 7:00 Pm.\", \"route_short_name\": \"30\", \"route_id2\": \"30\", \"cutoff2\": 20, \"cutoff\": 2}, {\"calitp_itp_id\": 101, \"trip_key\": 1062918106954598799, \"trip_id\": \"t_1949363_b_33026_tn_0\", \"shape_id\": \"p_900109\", \"route_id\": \"1963\", \"service_hours\": 0.92, \"trip_first_departure_ts\": 39600, \"trip_last_arrival_ts\": 42900, \"departure_hour\": 11, \"time_of_day\": \"Midday\", \"p25\": 0.92, \"p50\": 0.92, \"p75\": 0.92, \"p50_trip\": 1, \"fastest_trip\": 0, \"car_duration_hours\": 0.6, \"competitive_route\": 1, \"bus_multiplier\": 1.53, \"bus_difference\": 19.2, \"num_trips\": 12, \"num_competitive\": 12, \"pct_trips_competitive\": 1.0, \"bus_difference_spread\": 0.0, \"route_group\": \"short\", \"max_trip_hrs\": 0.92, \"max_trip_route_group\": 0.92, \"below_cutoff\": 12, \"pct_below_cutoff\": 1.0, \"calitp_agency_name\": \"El Dorado Transit\", \"caltrans_district\": \"03 - Marysville\", \"route_name\": \"The Diamond Springs Route Loops Around Diamond Springs, Including Service To The El Dorado Campus Of Folsom Lake College, Hourly Monday Through Friday From 7:00 Am To 7:00 Pm.\", \"route_short_name\": \"30\", \"route_id2\": \"30\", \"cutoff2\": 20, \"cutoff\": 2}, {\"calitp_itp_id\": 101, \"trip_key\": 8064911308903813948, \"trip_id\": \"t_1949345_b_33026_tn_12\", \"shape_id\": \"p_900110\", \"route_id\": \"1964\", \"service_hours\": 0.83, \"trip_first_departure_ts\": 63000, \"trip_last_arrival_ts\": 66000, \"departure_hour\": 17, \"time_of_day\": \"PM Peak\", \"p25\": 0.83, \"p50\": 0.83, \"p75\": 0.83, \"p50_trip\": 1, \"fastest_trip\": 0, \"car_duration_hours\": 0.67, \"competitive_route\": 1, \"bus_multiplier\": 1.24, \"bus_difference\": 9.6, \"num_trips\": 13, \"num_competitive\": 13, \"pct_trips_competitive\": 1.0, \"bus_difference_spread\": 0.0, \"route_group\": \"short\", \"max_trip_hrs\": 0.83, \"max_trip_route_group\": 0.83, \"below_cutoff\": 13, \"pct_below_cutoff\": 1.0, \"calitp_agency_name\": \"El Dorado Transit\", \"caltrans_district\": \"03 - Marysville\", \"route_name\": \"The Cameron Park/Shingle Springs Route Loops Around Cameron Park And Shingle Springs Every Hour From 6:30 Am To 7:20 Pm Monday Through Friday, Providing Transfers To The 50 Express And Sacramento Commuter At Cambridge Road Park & Ride.\", \"route_short_name\": \"40\", \"route_id2\": \"40\", \"cutoff2\": 20, \"cutoff\": 2}, {\"calitp_itp_id\": 101, \"trip_key\": -512565783284181250, \"trip_id\": \"t_1949345_b_33026_tn_9\", \"shape_id\": \"p_900110\", \"route_id\": \"1964\", \"service_hours\": 0.83, \"trip_first_departure_ts\": 52200, \"trip_last_arrival_ts\": 55200, \"departure_hour\": 14, \"time_of_day\": \"Midday\", \"p25\": 0.83, \"p50\": 0.83, \"p75\": 0.83, \"p50_trip\": 1, \"fastest_trip\": 0, \"car_duration_hours\": 0.67, \"competitive_route\": 1, \"bus_multiplier\": 1.24, \"bus_difference\": 9.6, \"num_trips\": 13, \"num_competitive\": 13, \"pct_trips_competitive\": 1.0, \"bus_difference_spread\": 0.0, \"route_group\": \"short\", \"max_trip_hrs\": 0.83, \"max_trip_route_group\": 0.83, \"below_cutoff\": 13, \"pct_below_cutoff\": 1.0, \"calitp_agency_name\": \"El Dorado Transit\", \"caltrans_district\": \"03 - Marysville\", \"route_name\": \"The Cameron Park/Shingle Springs Route Loops Around Cameron Park And Shingle Springs Every Hour From 6:30 Am To 7:20 Pm Monday Through Friday, Providing Transfers To The 50 Express And Sacramento Commuter At Cambridge Road Park & Ride.\", \"route_short_name\": \"40\", \"route_id2\": \"40\", \"cutoff2\": 20, \"cutoff\": 2}, {\"calitp_itp_id\": 101, \"trip_key\": 8284867086961112242, \"trip_id\": \"t_1949345_b_33026_tn_8\", \"shape_id\": \"p_900110\", \"route_id\": \"1964\", \"service_hours\": 0.83, \"trip_first_departure_ts\": 48600, \"trip_last_arrival_ts\": 51600, \"departure_hour\": 13, \"time_of_day\": \"Midday\", \"p25\": 0.83, \"p50\": 0.83, \"p75\": 0.83, \"p50_trip\": 1, \"fastest_trip\": 0, \"car_duration_hours\": 0.67, \"competitive_route\": 1, \"bus_multiplier\": 1.24, \"bus_difference\": 9.6, \"num_trips\": 13, \"num_competitive\": 13, \"pct_trips_competitive\": 1.0, \"bus_difference_spread\": 0.0, \"route_group\": \"short\", \"max_trip_hrs\": 0.83, \"max_trip_route_group\": 0.83, \"below_cutoff\": 13, \"pct_below_cutoff\": 1.0, \"calitp_agency_name\": \"El Dorado Transit\", \"caltrans_district\": \"03 - Marysville\", \"route_name\": \"The Cameron Park/Shingle Springs Route Loops Around Cameron Park And Shingle Springs Every Hour From 6:30 Am To 7:20 Pm Monday Through Friday, Providing Transfers To The 50 Express And Sacramento Commuter At Cambridge Road Park & Ride.\", \"route_short_name\": \"40\", \"route_id2\": \"40\", \"cutoff2\": 20, \"cutoff\": 2}, {\"calitp_itp_id\": 101, \"trip_key\": 8628169673849743490, \"trip_id\": \"t_1949345_b_33026_tn_1\", \"shape_id\": \"p_900110\", \"route_id\": \"1964\", \"service_hours\": 0.83, \"trip_first_departure_ts\": 23400, \"trip_last_arrival_ts\": 26400, \"departure_hour\": 6, \"time_of_day\": \"Owl Service\", \"p25\": 0.83, \"p50\": 0.83, \"p75\": 0.83, \"p50_trip\": 1, \"fastest_trip\": 0, \"car_duration_hours\": 0.67, \"competitive_route\": 1, \"bus_multiplier\": 1.24, \"bus_difference\": 9.6, \"num_trips\": 13, \"num_competitive\": 13, \"pct_trips_competitive\": 1.0, \"bus_difference_spread\": 0.0, \"route_group\": \"short\", \"max_trip_hrs\": 0.83, \"max_trip_route_group\": 0.83, \"below_cutoff\": 13, \"pct_below_cutoff\": 1.0, \"calitp_agency_name\": \"El Dorado Transit\", \"caltrans_district\": \"03 - Marysville\", \"route_name\": \"The Cameron Park/Shingle Springs Route Loops Around Cameron Park And Shingle Springs Every Hour From 6:30 Am To 7:20 Pm Monday Through Friday, Providing Transfers To The 50 Express And Sacramento Commuter At Cambridge Road Park & Ride.\", \"route_short_name\": \"40\", \"route_id2\": \"40\", \"cutoff2\": 20, \"cutoff\": 2}, {\"calitp_itp_id\": 101, \"trip_key\": 9059663799259391970, \"trip_id\": \"t_1949345_b_33026_tn_11\", \"shape_id\": \"p_900110\", \"route_id\": \"1964\", \"service_hours\": 0.83, \"trip_first_departure_ts\": 59400, \"trip_last_arrival_ts\": 62400, \"departure_hour\": 16, \"time_of_day\": \"Midday\", \"p25\": 0.83, \"p50\": 0.83, \"p75\": 0.83, \"p50_trip\": 1, \"fastest_trip\": 0, \"car_duration_hours\": 0.67, \"competitive_route\": 1, \"bus_multiplier\": 1.24, \"bus_difference\": 9.6, \"num_trips\": 13, \"num_competitive\": 13, \"pct_trips_competitive\": 1.0, \"bus_difference_spread\": 0.0, \"route_group\": \"short\", \"max_trip_hrs\": 0.83, \"max_trip_route_group\": 0.83, \"below_cutoff\": 13, \"pct_below_cutoff\": 1.0, \"calitp_agency_name\": \"El Dorado Transit\", \"caltrans_district\": \"03 - Marysville\", \"route_name\": \"The Cameron Park/Shingle Springs Route Loops Around Cameron Park And Shingle Springs Every Hour From 6:30 Am To 7:20 Pm Monday Through Friday, Providing Transfers To The 50 Express And Sacramento Commuter At Cambridge Road Park & Ride.\", \"route_short_name\": \"40\", \"route_id2\": \"40\", \"cutoff2\": 20, \"cutoff\": 2}, {\"calitp_itp_id\": 101, \"trip_key\": -8730324538941679002, \"trip_id\": \"t_1949345_b_33026_tn_7\", \"shape_id\": \"p_900110\", \"route_id\": \"1964\", \"service_hours\": 0.83, \"trip_first_departure_ts\": 45000, \"trip_last_arrival_ts\": 48000, \"departure_hour\": 12, \"time_of_day\": \"Midday\", \"p25\": 0.83, \"p50\": 0.83, \"p75\": 0.83, \"p50_trip\": 1, \"fastest_trip\": 0, \"car_duration_hours\": 0.67, \"competitive_route\": 1, \"bus_multiplier\": 1.24, \"bus_difference\": 9.6, \"num_trips\": 13, \"num_competitive\": 13, \"pct_trips_competitive\": 1.0, \"bus_difference_spread\": 0.0, \"route_group\": \"short\", \"max_trip_hrs\": 0.83, \"max_trip_route_group\": 0.83, \"below_cutoff\": 13, \"pct_below_cutoff\": 1.0, \"calitp_agency_name\": \"El Dorado Transit\", \"caltrans_district\": \"03 - Marysville\", \"route_name\": \"The Cameron Park/Shingle Springs Route Loops Around Cameron Park And Shingle Springs Every Hour From 6:30 Am To 7:20 Pm Monday Through Friday, Providing Transfers To The 50 Express And Sacramento Commuter At Cambridge Road Park & Ride.\", \"route_short_name\": \"40\", \"route_id2\": \"40\", \"cutoff2\": 20, \"cutoff\": 2}, {\"calitp_itp_id\": 101, \"trip_key\": -6245991094429242628, \"trip_id\": \"t_1949345_b_33026_tn_4\", \"shape_id\": \"p_900110\", \"route_id\": \"1964\", \"service_hours\": 0.83, \"trip_first_departure_ts\": 34200, \"trip_last_arrival_ts\": 37200, \"departure_hour\": 9, \"time_of_day\": \"AM Peak\", \"p25\": 0.83, \"p50\": 0.83, \"p75\": 0.83, \"p50_trip\": 1, \"fastest_trip\": 0, \"car_duration_hours\": 0.67, \"competitive_route\": 1, \"bus_multiplier\": 1.24, \"bus_difference\": 9.6, \"num_trips\": 13, \"num_competitive\": 13, \"pct_trips_competitive\": 1.0, \"bus_difference_spread\": 0.0, \"route_group\": \"short\", \"max_trip_hrs\": 0.83, \"max_trip_route_group\": 0.83, \"below_cutoff\": 13, \"pct_below_cutoff\": 1.0, \"calitp_agency_name\": \"El Dorado Transit\", \"caltrans_district\": \"03 - Marysville\", \"route_name\": \"The Cameron Park/Shingle Springs Route Loops Around Cameron Park And Shingle Springs Every Hour From 6:30 Am To 7:20 Pm Monday Through Friday, Providing Transfers To The 50 Express And Sacramento Commuter At Cambridge Road Park & Ride.\", \"route_short_name\": \"40\", \"route_id2\": \"40\", \"cutoff2\": 20, \"cutoff\": 2}, {\"calitp_itp_id\": 101, \"trip_key\": -7527511487602000932, \"trip_id\": \"t_1949345_b_33026_tn_2\", \"shape_id\": \"p_900110\", \"route_id\": \"1964\", \"service_hours\": 0.83, \"trip_first_departure_ts\": 27000, \"trip_last_arrival_ts\": 30000, \"departure_hour\": 7, \"time_of_day\": \"AM Peak\", \"p25\": 0.83, \"p50\": 0.83, \"p75\": 0.83, \"p50_trip\": 1, \"fastest_trip\": 0, \"car_duration_hours\": 0.67, \"competitive_route\": 1, \"bus_multiplier\": 1.24, \"bus_difference\": 9.6, \"num_trips\": 13, \"num_competitive\": 13, \"pct_trips_competitive\": 1.0, \"bus_difference_spread\": 0.0, \"route_group\": \"short\", \"max_trip_hrs\": 0.83, \"max_trip_route_group\": 0.83, \"below_cutoff\": 13, \"pct_below_cutoff\": 1.0, \"calitp_agency_name\": \"El Dorado Transit\", \"caltrans_district\": \"03 - Marysville\", \"route_name\": \"The Cameron Park/Shingle Springs Route Loops Around Cameron Park And Shingle Springs Every Hour From 6:30 Am To 7:20 Pm Monday Through Friday, Providing Transfers To The 50 Express And Sacramento Commuter At Cambridge Road Park & Ride.\", \"route_short_name\": \"40\", \"route_id2\": \"40\", \"cutoff2\": 20, \"cutoff\": 2}, {\"calitp_itp_id\": 101, \"trip_key\": 1089663269691573578, \"trip_id\": \"t_1949345_b_33026_tn_3\", \"shape_id\": \"p_900110\", \"route_id\": \"1964\", \"service_hours\": 0.83, \"trip_first_departure_ts\": 30600, \"trip_last_arrival_ts\": 33600, \"departure_hour\": 8, \"time_of_day\": \"AM Peak\", \"p25\": 0.83, \"p50\": 0.83, \"p75\": 0.83, \"p50_trip\": 1, \"fastest_trip\": 0, \"car_duration_hours\": 0.67, \"competitive_route\": 1, \"bus_multiplier\": 1.24, \"bus_difference\": 9.6, \"num_trips\": 13, \"num_competitive\": 13, \"pct_trips_competitive\": 1.0, \"bus_difference_spread\": 0.0, \"route_group\": \"short\", \"max_trip_hrs\": 0.83, \"max_trip_route_group\": 0.83, \"below_cutoff\": 13, \"pct_below_cutoff\": 1.0, \"calitp_agency_name\": \"El Dorado Transit\", \"caltrans_district\": \"03 - Marysville\", \"route_name\": \"The Cameron Park/Shingle Springs Route Loops Around Cameron Park And Shingle Springs Every Hour From 6:30 Am To 7:20 Pm Monday Through Friday, Providing Transfers To The 50 Express And Sacramento Commuter At Cambridge Road Park & Ride.\", \"route_short_name\": \"40\", \"route_id2\": \"40\", \"cutoff2\": 20, \"cutoff\": 2}, {\"calitp_itp_id\": 101, \"trip_key\": -3312056840168873462, \"trip_id\": \"t_1949371_b_33026_tn_0\", \"shape_id\": \"p_900110\", \"route_id\": \"1964\", \"service_hours\": 0.83, \"trip_first_departure_ts\": 66600, \"trip_last_arrival_ts\": 69600, \"departure_hour\": 18, \"time_of_day\": \"PM Peak\", \"p25\": 0.83, \"p50\": 0.83, \"p75\": 0.83, \"p50_trip\": 1, \"fastest_trip\": 1, \"car_duration_hours\": 0.67, \"competitive_route\": 1, \"bus_multiplier\": 1.24, \"bus_difference\": 9.6, \"num_trips\": 13, \"num_competitive\": 13, \"pct_trips_competitive\": 1.0, \"bus_difference_spread\": 0.0, \"route_group\": \"short\", \"max_trip_hrs\": 0.83, \"max_trip_route_group\": 0.83, \"below_cutoff\": 13, \"pct_below_cutoff\": 1.0, \"calitp_agency_name\": \"El Dorado Transit\", \"caltrans_district\": \"03 - Marysville\", \"route_name\": \"The Cameron Park/Shingle Springs Route Loops Around Cameron Park And Shingle Springs Every Hour From 6:30 Am To 7:20 Pm Monday Through Friday, Providing Transfers To The 50 Express And Sacramento Commuter At Cambridge Road Park & Ride.\", \"route_short_name\": \"40\", \"route_id2\": \"40\", \"cutoff2\": 20, \"cutoff\": 2}, {\"calitp_itp_id\": 101, \"trip_key\": -2078287682764917090, \"trip_id\": \"t_1949345_b_33026_tn_5\", \"shape_id\": \"p_900110\", \"route_id\": \"1964\", \"service_hours\": 0.83, \"trip_first_departure_ts\": 37800, \"trip_last_arrival_ts\": 40800, \"departure_hour\": 10, \"time_of_day\": \"Midday\", \"p25\": 0.83, \"p50\": 0.83, \"p75\": 0.83, \"p50_trip\": 1, \"fastest_trip\": 0, \"car_duration_hours\": 0.67, \"competitive_route\": 1, \"bus_multiplier\": 1.24, \"bus_difference\": 9.6, \"num_trips\": 13, \"num_competitive\": 13, \"pct_trips_competitive\": 1.0, \"bus_difference_spread\": 0.0, \"route_group\": \"short\", \"max_trip_hrs\": 0.83, \"max_trip_route_group\": 0.83, \"below_cutoff\": 13, \"pct_below_cutoff\": 1.0, \"calitp_agency_name\": \"El Dorado Transit\", \"caltrans_district\": \"03 - Marysville\", \"route_name\": \"The Cameron Park/Shingle Springs Route Loops Around Cameron Park And Shingle Springs Every Hour From 6:30 Am To 7:20 Pm Monday Through Friday, Providing Transfers To The 50 Express And Sacramento Commuter At Cambridge Road Park & Ride.\", \"route_short_name\": \"40\", \"route_id2\": \"40\", \"cutoff2\": 20, \"cutoff\": 2}, {\"calitp_itp_id\": 101, \"trip_key\": -7912371547199080727, \"trip_id\": \"t_1949345_b_33026_tn_10\", \"shape_id\": \"p_900110\", \"route_id\": \"1964\", \"service_hours\": 0.83, \"trip_first_departure_ts\": 55800, \"trip_last_arrival_ts\": 58800, \"departure_hour\": 15, \"time_of_day\": \"Midday\", \"p25\": 0.83, \"p50\": 0.83, \"p75\": 0.83, \"p50_trip\": 1, \"fastest_trip\": 0, \"car_duration_hours\": 0.67, \"competitive_route\": 1, \"bus_multiplier\": 1.24, \"bus_difference\": 9.6, \"num_trips\": 13, \"num_competitive\": 13, \"pct_trips_competitive\": 1.0, \"bus_difference_spread\": 0.0, \"route_group\": \"short\", \"max_trip_hrs\": 0.83, \"max_trip_route_group\": 0.83, \"below_cutoff\": 13, \"pct_below_cutoff\": 1.0, \"calitp_agency_name\": \"El Dorado Transit\", \"caltrans_district\": \"03 - Marysville\", \"route_name\": \"The Cameron Park/Shingle Springs Route Loops Around Cameron Park And Shingle Springs Every Hour From 6:30 Am To 7:20 Pm Monday Through Friday, Providing Transfers To The 50 Express And Sacramento Commuter At Cambridge Road Park & Ride.\", \"route_short_name\": \"40\", \"route_id2\": \"40\", \"cutoff2\": 20, \"cutoff\": 2}, {\"calitp_itp_id\": 101, \"trip_key\": -7333578826763889771, \"trip_id\": \"t_1949345_b_33026_tn_6\", \"shape_id\": \"p_900110\", \"route_id\": \"1964\", \"service_hours\": 0.83, \"trip_first_departure_ts\": 41400, \"trip_last_arrival_ts\": 44400, \"departure_hour\": 11, \"time_of_day\": \"Midday\", \"p25\": 0.83, \"p50\": 0.83, \"p75\": 0.83, \"p50_trip\": 1, \"fastest_trip\": 0, \"car_duration_hours\": 0.67, \"competitive_route\": 1, \"bus_multiplier\": 1.24, \"bus_difference\": 9.6, \"num_trips\": 13, \"num_competitive\": 13, \"pct_trips_competitive\": 1.0, \"bus_difference_spread\": 0.0, \"route_group\": \"short\", \"max_trip_hrs\": 0.83, \"max_trip_route_group\": 0.83, \"below_cutoff\": 13, \"pct_below_cutoff\": 1.0, \"calitp_agency_name\": \"El Dorado Transit\", \"caltrans_district\": \"03 - Marysville\", \"route_name\": \"The Cameron Park/Shingle Springs Route Loops Around Cameron Park And Shingle Springs Every Hour From 6:30 Am To 7:20 Pm Monday Through Friday, Providing Transfers To The 50 Express And Sacramento Commuter At Cambridge Road Park & Ride.\", \"route_short_name\": \"40\", \"route_id2\": \"40\", \"cutoff2\": 20, \"cutoff\": 2}]}}, {\"mode\": \"vega-lite\"});\n",
       "</script>"
      ],
      "text/plain": [
       "alt.FacetChart(...)"
      ]
     },
     "metadata": {},
     "output_type": "display_data"
    },
    {
     "data": {
      "text/html": [
       "\n",
       "<div id=\"altair-viz-05560bf818ec4d359f3b24b7fb0d595b\"></div>\n",
       "<script type=\"text/javascript\">\n",
       "  var VEGA_DEBUG = (typeof VEGA_DEBUG == \"undefined\") ? {} : VEGA_DEBUG;\n",
       "  (function(spec, embedOpt){\n",
       "    let outputDiv = document.currentScript.previousElementSibling;\n",
       "    if (outputDiv.id !== \"altair-viz-05560bf818ec4d359f3b24b7fb0d595b\") {\n",
       "      outputDiv = document.getElementById(\"altair-viz-05560bf818ec4d359f3b24b7fb0d595b\");\n",
       "    }\n",
       "    const paths = {\n",
       "      \"vega\": \"https://cdn.jsdelivr.net/npm//vega@5?noext\",\n",
       "      \"vega-lib\": \"https://cdn.jsdelivr.net/npm//vega-lib?noext\",\n",
       "      \"vega-lite\": \"https://cdn.jsdelivr.net/npm//vega-lite@4.17.0?noext\",\n",
       "      \"vega-embed\": \"https://cdn.jsdelivr.net/npm//vega-embed@6?noext\",\n",
       "    };\n",
       "\n",
       "    function maybeLoadScript(lib, version) {\n",
       "      var key = `${lib.replace(\"-\", \"\")}_version`;\n",
       "      return (VEGA_DEBUG[key] == version) ?\n",
       "        Promise.resolve(paths[lib]) :\n",
       "        new Promise(function(resolve, reject) {\n",
       "          var s = document.createElement('script');\n",
       "          document.getElementsByTagName(\"head\")[0].appendChild(s);\n",
       "          s.async = true;\n",
       "          s.onload = () => {\n",
       "            VEGA_DEBUG[key] = version;\n",
       "            return resolve(paths[lib]);\n",
       "          };\n",
       "          s.onerror = () => reject(`Error loading script: ${paths[lib]}`);\n",
       "          s.src = paths[lib];\n",
       "        });\n",
       "    }\n",
       "\n",
       "    function showError(err) {\n",
       "      outputDiv.innerHTML = `<div class=\"error\" style=\"color:red;\">${err}</div>`;\n",
       "      throw err;\n",
       "    }\n",
       "\n",
       "    function displayChart(vegaEmbed) {\n",
       "      vegaEmbed(outputDiv, spec, embedOpt)\n",
       "        .catch(err => showError(`Javascript Error: ${err.message}<br>This usually means there's a typo in your chart specification. See the javascript console for the full traceback.`));\n",
       "    }\n",
       "\n",
       "    if(typeof define === \"function\" && define.amd) {\n",
       "      requirejs.config({paths});\n",
       "      require([\"vega-embed\"], displayChart, err => showError(`Error loading script: ${err.message}`));\n",
       "    } else {\n",
       "      maybeLoadScript(\"vega\", \"5\")\n",
       "        .then(() => maybeLoadScript(\"vega-lite\", \"4.17.0\"))\n",
       "        .then(() => maybeLoadScript(\"vega-embed\", \"6\"))\n",
       "        .catch(showError)\n",
       "        .then(() => displayChart(vegaEmbed));\n",
       "    }\n",
       "  })({\"config\": {\"view\": {\"continuousWidth\": 400, \"continuousHeight\": 300, \"stroke\": null}, \"facet\": {\"spacing\": 0}}, \"data\": {\"name\": \"data-48b4261aca4ac205637b1876c6d02cb6\"}, \"facet\": {\"column\": {\"field\": \"route_id2\", \"sort\": [\"60\", \"40\", \"20\", \"30\"], \"title\": \"Route ID\", \"type\": \"nominal\"}}, \"spec\": {\"layer\": [{\"mark\": \"rule\", \"encoding\": {\"color\": {\"value\": \"black\"}, \"y\": {\"field\": \"cutoff\", \"type\": \"quantitative\"}}, \"selection\": {\"selector002\": {\"type\": \"interval\", \"bind\": \"scales\", \"encodings\": [\"x\", \"y\"]}}}, {\"mark\": {\"type\": \"rule\", \"strokeDash\": [3, 3]}, \"encoding\": {\"color\": {\"value\": \"#323434\"}, \"y\": {\"field\": \"cutoff2\", \"type\": \"quantitative\"}}}, {\"mark\": {\"type\": \"point\", \"opacity\": 0.65, \"size\": 20, \"strokeWidth\": 1.1}, \"encoding\": {\"color\": {\"field\": \"time_of_day\", \"scale\": {\"range\": [\"#136C97\", \"#E16B26\", \"#F6BF16\", \"#00896B\", \"#7790A3\", \"#5B559C\"]}, \"sort\": [\"AM Peak\", \"Midday\", \"PM Peak\", \"Owl Service\"], \"title\": \"Time of Day\", \"type\": \"nominal\"}, \"tooltip\": [{\"field\": \"route_id2\", \"title\": \"route_id\", \"type\": \"nominal\"}, {\"field\": \"route_name\", \"type\": \"nominal\"}, {\"field\": \"trip_id\", \"type\": \"nominal\"}, {\"field\": \"service_hours\", \"type\": \"quantitative\"}, {\"field\": \"car_duration_hours\", \"type\": \"quantitative\"}, {\"field\": \"bus_multiplier\", \"type\": \"quantitative\"}, {\"field\": \"bus_difference\", \"type\": \"quantitative\"}, {\"field\": \"num_trips\", \"type\": \"quantitative\"}, {\"field\": \"num_competitive\", \"type\": \"quantitative\"}, {\"field\": \"pct_trips_competitive\", \"type\": \"quantitative\"}, {\"field\": \"pct_below_cutoff\", \"type\": \"quantitative\"}, {\"field\": \"p25\", \"type\": \"quantitative\"}, {\"field\": \"p50\", \"type\": \"quantitative\"}, {\"field\": \"p75\", \"type\": \"quantitative\"}], \"x\": {\"axis\": {\"grid\": false, \"labels\": false, \"ticks\": true, \"values\": [0]}, \"field\": \"jitter\", \"scale\": {}, \"title\": null, \"type\": \"quantitative\"}, \"y\": {\"field\": \"bus_difference\", \"scale\": {\"domain\": [-5, 45.6]}, \"title\": \"Difference in Bus to Car Travel Time (min)\", \"type\": \"quantitative\"}}, \"transform\": [{\"calculate\": \"sqrt(-2*log(random()))*cos(2*PI*random())\", \"as\": \"jitter\"}], \"width\": 50}, {\"layer\": [{\"mark\": {\"type\": \"point\", \"opacity\": 0.6, \"size\": 20, \"strokeWidth\": 1.3}, \"encoding\": {\"color\": {\"value\": \"#323434\"}, \"y\": {\"field\": \"bus_difference\", \"type\": \"quantitative\"}}, \"transform\": [{\"filter\": \"(datum.p50_trip === 1)\"}]}, {\"mark\": {\"type\": \"text\", \"align\": \"center\", \"baseline\": \"middle\"}, \"encoding\": {\"color\": {\"value\": \"black\"}, \"text\": {\"field\": \"pct_trips_competitive\", \"format\": \".0%\", \"type\": \"quantitative\"}, \"tooltip\": [{\"field\": \"route_id2\", \"title\": \"route_id\", \"type\": \"nominal\"}, {\"field\": \"route_name\", \"type\": \"nominal\"}, {\"field\": \"trip_id\", \"type\": \"nominal\"}, {\"field\": \"service_hours\", \"type\": \"quantitative\"}, {\"field\": \"car_duration_hours\", \"type\": \"quantitative\"}, {\"field\": \"bus_multiplier\", \"type\": \"quantitative\"}, {\"field\": \"bus_difference\", \"type\": \"quantitative\"}, {\"field\": \"num_trips\", \"type\": \"quantitative\"}, {\"field\": \"num_competitive\", \"type\": \"quantitative\"}, {\"field\": \"pct_trips_competitive\", \"type\": \"quantitative\"}, {\"field\": \"pct_below_cutoff\", \"type\": \"quantitative\"}, {\"field\": \"p25\", \"type\": \"quantitative\"}, {\"field\": \"p50\", \"type\": \"quantitative\"}, {\"field\": \"p75\", \"type\": \"quantitative\"}], \"x\": {\"value\": 30}, \"y\": {\"value\": 15}}, \"transform\": [{\"calculate\": \"sqrt(-2*log(random()))*cos(2*PI*random())\", \"as\": \"jitter\"}, {\"filter\": \"(datum.fastest_trip === 1)\"}]}]}]}, \"resolve\": {\"scale\": {\"y\": \"shared\"}}, \"title\": \"Difference in Bus to Car Travel Time (min)\", \"$schema\": \"https://vega.github.io/schema/vega-lite/v4.17.0.json\", \"datasets\": {\"data-48b4261aca4ac205637b1876c6d02cb6\": [{\"calitp_itp_id\": 101, \"trip_key\": 1958547728589445875, \"trip_id\": \"t_1949372_b_33026_tn_7\", \"shape_id\": \"p_1303403\", \"route_id\": \"1961\", \"service_hours\": 0.42, \"trip_first_departure_ts\": 46800, \"trip_last_arrival_ts\": 48300, \"departure_hour\": 13, \"time_of_day\": \"Midday\", \"p25\": 0.42, \"p50\": 0.42, \"p75\": 0.42, \"p50_trip\": 1, \"fastest_trip\": 0, \"car_duration_hours\": 0.35, \"competitive_route\": 1, \"bus_multiplier\": 1.2, \"bus_difference\": 4.2, \"num_trips\": 24, \"num_competitive\": 24, \"pct_trips_competitive\": 1.0, \"bus_difference_spread\": 0.0, \"route_group\": \"short\", \"max_trip_hrs\": 0.42, \"max_trip_route_group\": 0.42, \"below_cutoff\": 24, \"pct_below_cutoff\": 1.0, \"calitp_agency_name\": \"El Dorado Transit\", \"caltrans_district\": \"03 - Marysville\", \"route_name\": \"The Pollock Pines Route Provides Service From The Placerville Station Transfer Center To The Safeway Plaza In Pollock Pines Every Hour From 7:00 Am To 6:55 Pm Monday Through Friday. Service Includes Stops Along The Pony Express Trail.\", \"route_short_name\": \"60\", \"route_id2\": \"60\", \"cutoff2\": 20, \"cutoff\": 0}, {\"calitp_itp_id\": 101, \"trip_key\": 4764740372613472596, \"trip_id\": \"t_1949373_b_33026_tn_11\", \"shape_id\": \"p_900222\", \"route_id\": \"1961\", \"service_hours\": 0.42, \"trip_first_departure_ts\": 63000, \"trip_last_arrival_ts\": 64500, \"departure_hour\": 17, \"time_of_day\": \"PM Peak\", \"p25\": 0.42, \"p50\": 0.42, \"p75\": 0.42, \"p50_trip\": 1, \"fastest_trip\": 0, \"car_duration_hours\": 0.35, \"competitive_route\": 1, \"bus_multiplier\": 1.2, \"bus_difference\": 4.2, \"num_trips\": 24, \"num_competitive\": 24, \"pct_trips_competitive\": 1.0, \"bus_difference_spread\": 0.0, \"route_group\": \"short\", \"max_trip_hrs\": 0.42, \"max_trip_route_group\": 0.42, \"below_cutoff\": 24, \"pct_below_cutoff\": 1.0, \"calitp_agency_name\": \"El Dorado Transit\", \"caltrans_district\": \"03 - Marysville\", \"route_name\": \"The Pollock Pines Route Provides Service From The Placerville Station Transfer Center To The Safeway Plaza In Pollock Pines Every Hour From 7:00 Am To 6:55 Pm Monday Through Friday. Service Includes Stops Along The Pony Express Trail.\", \"route_short_name\": \"60\", \"route_id2\": \"60\", \"cutoff2\": 20, \"cutoff\": 0}, {\"calitp_itp_id\": 101, \"trip_key\": 4171001270608495186, \"trip_id\": \"t_1949372_b_33026_tn_5\", \"shape_id\": \"p_1303403\", \"route_id\": \"1961\", \"service_hours\": 0.42, \"trip_first_departure_ts\": 39600, \"trip_last_arrival_ts\": 41100, \"departure_hour\": 11, \"time_of_day\": \"Midday\", \"p25\": 0.42, \"p50\": 0.42, \"p75\": 0.42, \"p50_trip\": 1, \"fastest_trip\": 0, \"car_duration_hours\": 0.35, \"competitive_route\": 1, \"bus_multiplier\": 1.2, \"bus_difference\": 4.2, \"num_trips\": 24, \"num_competitive\": 24, \"pct_trips_competitive\": 1.0, \"bus_difference_spread\": 0.0, \"route_group\": \"short\", \"max_trip_hrs\": 0.42, \"max_trip_route_group\": 0.42, \"below_cutoff\": 24, \"pct_below_cutoff\": 1.0, \"calitp_agency_name\": \"El Dorado Transit\", \"caltrans_district\": \"03 - Marysville\", \"route_name\": \"The Pollock Pines Route Provides Service From The Placerville Station Transfer Center To The Safeway Plaza In Pollock Pines Every Hour From 7:00 Am To 6:55 Pm Monday Through Friday. Service Includes Stops Along The Pony Express Trail.\", \"route_short_name\": \"60\", \"route_id2\": \"60\", \"cutoff2\": 20, \"cutoff\": 0}, {\"calitp_itp_id\": 101, \"trip_key\": 3044271532064323456, \"trip_id\": \"t_1949372_b_33026_tn_6\", \"shape_id\": \"p_1303403\", \"route_id\": \"1961\", \"service_hours\": 0.42, \"trip_first_departure_ts\": 43200, \"trip_last_arrival_ts\": 44700, \"departure_hour\": 12, \"time_of_day\": \"Midday\", \"p25\": 0.42, \"p50\": 0.42, \"p75\": 0.42, \"p50_trip\": 1, \"fastest_trip\": 0, \"car_duration_hours\": 0.35, \"competitive_route\": 1, \"bus_multiplier\": 1.2, \"bus_difference\": 4.2, \"num_trips\": 24, \"num_competitive\": 24, \"pct_trips_competitive\": 1.0, \"bus_difference_spread\": 0.0, \"route_group\": \"short\", \"max_trip_hrs\": 0.42, \"max_trip_route_group\": 0.42, \"below_cutoff\": 24, \"pct_below_cutoff\": 1.0, \"calitp_agency_name\": \"El Dorado Transit\", \"caltrans_district\": \"03 - Marysville\", \"route_name\": \"The Pollock Pines Route Provides Service From The Placerville Station Transfer Center To The Safeway Plaza In Pollock Pines Every Hour From 7:00 Am To 6:55 Pm Monday Through Friday. Service Includes Stops Along The Pony Express Trail.\", \"route_short_name\": \"60\", \"route_id2\": \"60\", \"cutoff2\": 20, \"cutoff\": 0}, {\"calitp_itp_id\": 101, \"trip_key\": 2914921891978223802, \"trip_id\": \"t_1949373_b_33026_tn_9\", \"shape_id\": \"p_900222\", \"route_id\": \"1961\", \"service_hours\": 0.42, \"trip_first_departure_ts\": 55800, \"trip_last_arrival_ts\": 57300, \"departure_hour\": 15, \"time_of_day\": \"Midday\", \"p25\": 0.42, \"p50\": 0.42, \"p75\": 0.42, \"p50_trip\": 1, \"fastest_trip\": 0, \"car_duration_hours\": 0.35, \"competitive_route\": 1, \"bus_multiplier\": 1.2, \"bus_difference\": 4.2, \"num_trips\": 24, \"num_competitive\": 24, \"pct_trips_competitive\": 1.0, \"bus_difference_spread\": 0.0, \"route_group\": \"short\", \"max_trip_hrs\": 0.42, \"max_trip_route_group\": 0.42, \"below_cutoff\": 24, \"pct_below_cutoff\": 1.0, \"calitp_agency_name\": \"El Dorado Transit\", \"caltrans_district\": \"03 - Marysville\", \"route_name\": \"The Pollock Pines Route Provides Service From The Placerville Station Transfer Center To The Safeway Plaza In Pollock Pines Every Hour From 7:00 Am To 6:55 Pm Monday Through Friday. Service Includes Stops Along The Pony Express Trail.\", \"route_short_name\": \"60\", \"route_id2\": \"60\", \"cutoff2\": 20, \"cutoff\": 0}, {\"calitp_itp_id\": 101, \"trip_key\": -3408786240836241640, \"trip_id\": \"t_1949373_b_33026_tn_7\", \"shape_id\": \"p_900222\", \"route_id\": \"1961\", \"service_hours\": 0.42, \"trip_first_departure_ts\": 48600, \"trip_last_arrival_ts\": 50100, \"departure_hour\": 13, \"time_of_day\": \"Midday\", \"p25\": 0.42, \"p50\": 0.42, \"p75\": 0.42, \"p50_trip\": 1, \"fastest_trip\": 0, \"car_duration_hours\": 0.35, \"competitive_route\": 1, \"bus_multiplier\": 1.2, \"bus_difference\": 4.2, \"num_trips\": 24, \"num_competitive\": 24, \"pct_trips_competitive\": 1.0, \"bus_difference_spread\": 0.0, \"route_group\": \"short\", \"max_trip_hrs\": 0.42, \"max_trip_route_group\": 0.42, \"below_cutoff\": 24, \"pct_below_cutoff\": 1.0, \"calitp_agency_name\": \"El Dorado Transit\", \"caltrans_district\": \"03 - Marysville\", \"route_name\": \"The Pollock Pines Route Provides Service From The Placerville Station Transfer Center To The Safeway Plaza In Pollock Pines Every Hour From 7:00 Am To 6:55 Pm Monday Through Friday. Service Includes Stops Along The Pony Express Trail.\", \"route_short_name\": \"60\", \"route_id2\": \"60\", \"cutoff2\": 20, \"cutoff\": 0}, {\"calitp_itp_id\": 101, \"trip_key\": 861367680563278324, \"trip_id\": \"t_1949372_b_33026_tn_8\", \"shape_id\": \"p_1303403\", \"route_id\": \"1961\", \"service_hours\": 0.42, \"trip_first_departure_ts\": 50400, \"trip_last_arrival_ts\": 51900, \"departure_hour\": 14, \"time_of_day\": \"Midday\", \"p25\": 0.42, \"p50\": 0.42, \"p75\": 0.42, \"p50_trip\": 1, \"fastest_trip\": 0, \"car_duration_hours\": 0.35, \"competitive_route\": 1, \"bus_multiplier\": 1.2, \"bus_difference\": 4.2, \"num_trips\": 24, \"num_competitive\": 24, \"pct_trips_competitive\": 1.0, \"bus_difference_spread\": 0.0, \"route_group\": \"short\", \"max_trip_hrs\": 0.42, \"max_trip_route_group\": 0.42, \"below_cutoff\": 24, \"pct_below_cutoff\": 1.0, \"calitp_agency_name\": \"El Dorado Transit\", \"caltrans_district\": \"03 - Marysville\", \"route_name\": \"The Pollock Pines Route Provides Service From The Placerville Station Transfer Center To The Safeway Plaza In Pollock Pines Every Hour From 7:00 Am To 6:55 Pm Monday Through Friday. Service Includes Stops Along The Pony Express Trail.\", \"route_short_name\": \"60\", \"route_id2\": \"60\", \"cutoff2\": 20, \"cutoff\": 0}, {\"calitp_itp_id\": 101, \"trip_key\": 2748798956219882321, \"trip_id\": \"t_1949372_b_33026_tn_12\", \"shape_id\": \"p_1303403\", \"route_id\": \"1961\", \"service_hours\": 0.42, \"trip_first_departure_ts\": 64800, \"trip_last_arrival_ts\": 66300, \"departure_hour\": 18, \"time_of_day\": \"PM Peak\", \"p25\": 0.42, \"p50\": 0.42, \"p75\": 0.42, \"p50_trip\": 1, \"fastest_trip\": 1, \"car_duration_hours\": 0.35, \"competitive_route\": 1, \"bus_multiplier\": 1.2, \"bus_difference\": 4.2, \"num_trips\": 24, \"num_competitive\": 24, \"pct_trips_competitive\": 1.0, \"bus_difference_spread\": 0.0, \"route_group\": \"short\", \"max_trip_hrs\": 0.42, \"max_trip_route_group\": 0.42, \"below_cutoff\": 24, \"pct_below_cutoff\": 1.0, \"calitp_agency_name\": \"El Dorado Transit\", \"caltrans_district\": \"03 - Marysville\", \"route_name\": \"The Pollock Pines Route Provides Service From The Placerville Station Transfer Center To The Safeway Plaza In Pollock Pines Every Hour From 7:00 Am To 6:55 Pm Monday Through Friday. Service Includes Stops Along The Pony Express Trail.\", \"route_short_name\": \"60\", \"route_id2\": \"60\", \"cutoff2\": 20, \"cutoff\": 0}, {\"calitp_itp_id\": 101, \"trip_key\": 7116207130400066119, \"trip_id\": \"t_1949372_b_33026_tn_4\", \"shape_id\": \"p_1303403\", \"route_id\": \"1961\", \"service_hours\": 0.42, \"trip_first_departure_ts\": 36000, \"trip_last_arrival_ts\": 37500, \"departure_hour\": 10, \"time_of_day\": \"Midday\", \"p25\": 0.42, \"p50\": 0.42, \"p75\": 0.42, \"p50_trip\": 1, \"fastest_trip\": 0, \"car_duration_hours\": 0.35, \"competitive_route\": 1, \"bus_multiplier\": 1.2, \"bus_difference\": 4.2, \"num_trips\": 24, \"num_competitive\": 24, \"pct_trips_competitive\": 1.0, \"bus_difference_spread\": 0.0, \"route_group\": \"short\", \"max_trip_hrs\": 0.42, \"max_trip_route_group\": 0.42, \"below_cutoff\": 24, \"pct_below_cutoff\": 1.0, \"calitp_agency_name\": \"El Dorado Transit\", \"caltrans_district\": \"03 - Marysville\", \"route_name\": \"The Pollock Pines Route Provides Service From The Placerville Station Transfer Center To The Safeway Plaza In Pollock Pines Every Hour From 7:00 Am To 6:55 Pm Monday Through Friday. Service Includes Stops Along The Pony Express Trail.\", \"route_short_name\": \"60\", \"route_id2\": \"60\", \"cutoff2\": 20, \"cutoff\": 0}, {\"calitp_itp_id\": 101, \"trip_key\": -5856414854060505282, \"trip_id\": \"t_1949373_b_33026_tn_4\", \"shape_id\": \"p_900222\", \"route_id\": \"1961\", \"service_hours\": 0.42, \"trip_first_departure_ts\": 37800, \"trip_last_arrival_ts\": 39300, \"departure_hour\": 10, \"time_of_day\": \"Midday\", \"p25\": 0.42, \"p50\": 0.42, \"p75\": 0.42, \"p50_trip\": 1, \"fastest_trip\": 0, \"car_duration_hours\": 0.35, \"competitive_route\": 1, \"bus_multiplier\": 1.2, \"bus_difference\": 4.2, \"num_trips\": 24, \"num_competitive\": 24, \"pct_trips_competitive\": 1.0, \"bus_difference_spread\": 0.0, \"route_group\": \"short\", \"max_trip_hrs\": 0.42, \"max_trip_route_group\": 0.42, \"below_cutoff\": 24, \"pct_below_cutoff\": 1.0, \"calitp_agency_name\": \"El Dorado Transit\", \"caltrans_district\": \"03 - Marysville\", \"route_name\": \"The Pollock Pines Route Provides Service From The Placerville Station Transfer Center To The Safeway Plaza In Pollock Pines Every Hour From 7:00 Am To 6:55 Pm Monday Through Friday. Service Includes Stops Along The Pony Express Trail.\", \"route_short_name\": \"60\", \"route_id2\": \"60\", \"cutoff2\": 20, \"cutoff\": 0}, {\"calitp_itp_id\": 101, \"trip_key\": 4778667528519115190, \"trip_id\": \"t_1949372_b_33026_tn_3\", \"shape_id\": \"p_1303403\", \"route_id\": \"1961\", \"service_hours\": 0.42, \"trip_first_departure_ts\": 32400, \"trip_last_arrival_ts\": 33900, \"departure_hour\": 9, \"time_of_day\": \"AM Peak\", \"p25\": 0.42, \"p50\": 0.42, \"p75\": 0.42, \"p50_trip\": 1, \"fastest_trip\": 0, \"car_duration_hours\": 0.35, \"competitive_route\": 1, \"bus_multiplier\": 1.2, \"bus_difference\": 4.2, \"num_trips\": 24, \"num_competitive\": 24, \"pct_trips_competitive\": 1.0, \"bus_difference_spread\": 0.0, \"route_group\": \"short\", \"max_trip_hrs\": 0.42, \"max_trip_route_group\": 0.42, \"below_cutoff\": 24, \"pct_below_cutoff\": 1.0, \"calitp_agency_name\": \"El Dorado Transit\", \"caltrans_district\": \"03 - Marysville\", \"route_name\": \"The Pollock Pines Route Provides Service From The Placerville Station Transfer Center To The Safeway Plaza In Pollock Pines Every Hour From 7:00 Am To 6:55 Pm Monday Through Friday. Service Includes Stops Along The Pony Express Trail.\", \"route_short_name\": \"60\", \"route_id2\": \"60\", \"cutoff2\": 20, \"cutoff\": 0}, {\"calitp_itp_id\": 101, \"trip_key\": 6379533834490819194, \"trip_id\": \"t_1949372_b_33026_tn_11\", \"shape_id\": \"p_1303403\", \"route_id\": \"1961\", \"service_hours\": 0.42, \"trip_first_departure_ts\": 61200, \"trip_last_arrival_ts\": 62700, \"departure_hour\": 17, \"time_of_day\": \"PM Peak\", \"p25\": 0.42, \"p50\": 0.42, \"p75\": 0.42, \"p50_trip\": 1, \"fastest_trip\": 0, \"car_duration_hours\": 0.35, \"competitive_route\": 1, \"bus_multiplier\": 1.2, \"bus_difference\": 4.2, \"num_trips\": 24, \"num_competitive\": 24, \"pct_trips_competitive\": 1.0, \"bus_difference_spread\": 0.0, \"route_group\": \"short\", \"max_trip_hrs\": 0.42, \"max_trip_route_group\": 0.42, \"below_cutoff\": 24, \"pct_below_cutoff\": 1.0, \"calitp_agency_name\": \"El Dorado Transit\", \"caltrans_district\": \"03 - Marysville\", \"route_name\": \"The Pollock Pines Route Provides Service From The Placerville Station Transfer Center To The Safeway Plaza In Pollock Pines Every Hour From 7:00 Am To 6:55 Pm Monday Through Friday. Service Includes Stops Along The Pony Express Trail.\", \"route_short_name\": \"60\", \"route_id2\": \"60\", \"cutoff2\": 20, \"cutoff\": 0}, {\"calitp_itp_id\": 101, \"trip_key\": -1618321419695520022, \"trip_id\": \"t_1949372_b_33026_tn_10\", \"shape_id\": \"p_1303403\", \"route_id\": \"1961\", \"service_hours\": 0.42, \"trip_first_departure_ts\": 57600, \"trip_last_arrival_ts\": 59100, \"departure_hour\": 16, \"time_of_day\": \"Midday\", \"p25\": 0.42, \"p50\": 0.42, \"p75\": 0.42, \"p50_trip\": 1, \"fastest_trip\": 0, \"car_duration_hours\": 0.35, \"competitive_route\": 1, \"bus_multiplier\": 1.2, \"bus_difference\": 4.2, \"num_trips\": 24, \"num_competitive\": 24, \"pct_trips_competitive\": 1.0, \"bus_difference_spread\": 0.0, \"route_group\": \"short\", \"max_trip_hrs\": 0.42, \"max_trip_route_group\": 0.42, \"below_cutoff\": 24, \"pct_below_cutoff\": 1.0, \"calitp_agency_name\": \"El Dorado Transit\", \"caltrans_district\": \"03 - Marysville\", \"route_name\": \"The Pollock Pines Route Provides Service From The Placerville Station Transfer Center To The Safeway Plaza In Pollock Pines Every Hour From 7:00 Am To 6:55 Pm Monday Through Friday. Service Includes Stops Along The Pony Express Trail.\", \"route_short_name\": \"60\", \"route_id2\": \"60\", \"cutoff2\": 20, \"cutoff\": 0}, {\"calitp_itp_id\": 101, \"trip_key\": 7887906362709813982, \"trip_id\": \"t_1949372_b_33026_tn_1\", \"shape_id\": \"p_1303403\", \"route_id\": \"1961\", \"service_hours\": 0.42, \"trip_first_departure_ts\": 25200, \"trip_last_arrival_ts\": 26700, \"departure_hour\": 7, \"time_of_day\": \"AM Peak\", \"p25\": 0.42, \"p50\": 0.42, \"p75\": 0.42, \"p50_trip\": 1, \"fastest_trip\": 0, \"car_duration_hours\": 0.35, \"competitive_route\": 1, \"bus_multiplier\": 1.2, \"bus_difference\": 4.2, \"num_trips\": 24, \"num_competitive\": 24, \"pct_trips_competitive\": 1.0, \"bus_difference_spread\": 0.0, \"route_group\": \"short\", \"max_trip_hrs\": 0.42, \"max_trip_route_group\": 0.42, \"below_cutoff\": 24, \"pct_below_cutoff\": 1.0, \"calitp_agency_name\": \"El Dorado Transit\", \"caltrans_district\": \"03 - Marysville\", \"route_name\": \"The Pollock Pines Route Provides Service From The Placerville Station Transfer Center To The Safeway Plaza In Pollock Pines Every Hour From 7:00 Am To 6:55 Pm Monday Through Friday. Service Includes Stops Along The Pony Express Trail.\", \"route_short_name\": \"60\", \"route_id2\": \"60\", \"cutoff2\": 20, \"cutoff\": 0}, {\"calitp_itp_id\": 101, \"trip_key\": -1409051975805334226, \"trip_id\": \"t_1949374_b_33026_tn_0\", \"shape_id\": \"p_900222\", \"route_id\": \"1961\", \"service_hours\": 0.42, \"trip_first_departure_ts\": 66600, \"trip_last_arrival_ts\": 68100, \"departure_hour\": 18, \"time_of_day\": \"PM Peak\", \"p25\": 0.42, \"p50\": 0.42, \"p75\": 0.42, \"p50_trip\": 1, \"fastest_trip\": 0, \"car_duration_hours\": 0.35, \"competitive_route\": 1, \"bus_multiplier\": 1.2, \"bus_difference\": 4.2, \"num_trips\": 24, \"num_competitive\": 24, \"pct_trips_competitive\": 1.0, \"bus_difference_spread\": 0.0, \"route_group\": \"short\", \"max_trip_hrs\": 0.42, \"max_trip_route_group\": 0.42, \"below_cutoff\": 24, \"pct_below_cutoff\": 1.0, \"calitp_agency_name\": \"El Dorado Transit\", \"caltrans_district\": \"03 - Marysville\", \"route_name\": \"The Pollock Pines Route Provides Service From The Placerville Station Transfer Center To The Safeway Plaza In Pollock Pines Every Hour From 7:00 Am To 6:55 Pm Monday Through Friday. Service Includes Stops Along The Pony Express Trail.\", \"route_short_name\": \"60\", \"route_id2\": \"60\", \"cutoff2\": 20, \"cutoff\": 0}, {\"calitp_itp_id\": 101, \"trip_key\": 7228101435852995961, \"trip_id\": \"t_1949373_b_33026_tn_6\", \"shape_id\": \"p_900222\", \"route_id\": \"1961\", \"service_hours\": 0.42, \"trip_first_departure_ts\": 45000, \"trip_last_arrival_ts\": 46500, \"departure_hour\": 12, \"time_of_day\": \"Midday\", \"p25\": 0.42, \"p50\": 0.42, \"p75\": 0.42, \"p50_trip\": 1, \"fastest_trip\": 0, \"car_duration_hours\": 0.35, \"competitive_route\": 1, \"bus_multiplier\": 1.2, \"bus_difference\": 4.2, \"num_trips\": 24, \"num_competitive\": 24, \"pct_trips_competitive\": 1.0, \"bus_difference_spread\": 0.0, \"route_group\": \"short\", \"max_trip_hrs\": 0.42, \"max_trip_route_group\": 0.42, \"below_cutoff\": 24, \"pct_below_cutoff\": 1.0, \"calitp_agency_name\": \"El Dorado Transit\", \"caltrans_district\": \"03 - Marysville\", \"route_name\": \"The Pollock Pines Route Provides Service From The Placerville Station Transfer Center To The Safeway Plaza In Pollock Pines Every Hour From 7:00 Am To 6:55 Pm Monday Through Friday. Service Includes Stops Along The Pony Express Trail.\", \"route_short_name\": \"60\", \"route_id2\": \"60\", \"cutoff2\": 20, \"cutoff\": 0}, {\"calitp_itp_id\": 101, \"trip_key\": 4868205917230158940, \"trip_id\": \"t_1949373_b_33026_tn_1\", \"shape_id\": \"p_900222\", \"route_id\": \"1961\", \"service_hours\": 0.42, \"trip_first_departure_ts\": 27000, \"trip_last_arrival_ts\": 28500, \"departure_hour\": 7, \"time_of_day\": \"AM Peak\", \"p25\": 0.42, \"p50\": 0.42, \"p75\": 0.42, \"p50_trip\": 1, \"fastest_trip\": 0, \"car_duration_hours\": 0.35, \"competitive_route\": 1, \"bus_multiplier\": 1.2, \"bus_difference\": 4.2, \"num_trips\": 24, \"num_competitive\": 24, \"pct_trips_competitive\": 1.0, \"bus_difference_spread\": 0.0, \"route_group\": \"short\", \"max_trip_hrs\": 0.42, \"max_trip_route_group\": 0.42, \"below_cutoff\": 24, \"pct_below_cutoff\": 1.0, \"calitp_agency_name\": \"El Dorado Transit\", \"caltrans_district\": \"03 - Marysville\", \"route_name\": \"The Pollock Pines Route Provides Service From The Placerville Station Transfer Center To The Safeway Plaza In Pollock Pines Every Hour From 7:00 Am To 6:55 Pm Monday Through Friday. Service Includes Stops Along The Pony Express Trail.\", \"route_short_name\": \"60\", \"route_id2\": \"60\", \"cutoff2\": 20, \"cutoff\": 0}, {\"calitp_itp_id\": 101, \"trip_key\": 8541314170185095319, \"trip_id\": \"t_1949373_b_33026_tn_8\", \"shape_id\": \"p_900222\", \"route_id\": \"1961\", \"service_hours\": 0.42, \"trip_first_departure_ts\": 52200, \"trip_last_arrival_ts\": 53700, \"departure_hour\": 14, \"time_of_day\": \"Midday\", \"p25\": 0.42, \"p50\": 0.42, \"p75\": 0.42, \"p50_trip\": 1, \"fastest_trip\": 0, \"car_duration_hours\": 0.35, \"competitive_route\": 1, \"bus_multiplier\": 1.2, \"bus_difference\": 4.2, \"num_trips\": 24, \"num_competitive\": 24, \"pct_trips_competitive\": 1.0, \"bus_difference_spread\": 0.0, \"route_group\": \"short\", \"max_trip_hrs\": 0.42, \"max_trip_route_group\": 0.42, \"below_cutoff\": 24, \"pct_below_cutoff\": 1.0, \"calitp_agency_name\": \"El Dorado Transit\", \"caltrans_district\": \"03 - Marysville\", \"route_name\": \"The Pollock Pines Route Provides Service From The Placerville Station Transfer Center To The Safeway Plaza In Pollock Pines Every Hour From 7:00 Am To 6:55 Pm Monday Through Friday. Service Includes Stops Along The Pony Express Trail.\", \"route_short_name\": \"60\", \"route_id2\": \"60\", \"cutoff2\": 20, \"cutoff\": 0}, {\"calitp_itp_id\": 101, \"trip_key\": 9040718852308461373, \"trip_id\": \"t_1949373_b_33026_tn_2\", \"shape_id\": \"p_900222\", \"route_id\": \"1961\", \"service_hours\": 0.42, \"trip_first_departure_ts\": 30600, \"trip_last_arrival_ts\": 32100, \"departure_hour\": 8, \"time_of_day\": \"AM Peak\", \"p25\": 0.42, \"p50\": 0.42, \"p75\": 0.42, \"p50_trip\": 1, \"fastest_trip\": 0, \"car_duration_hours\": 0.35, \"competitive_route\": 1, \"bus_multiplier\": 1.2, \"bus_difference\": 4.2, \"num_trips\": 24, \"num_competitive\": 24, \"pct_trips_competitive\": 1.0, \"bus_difference_spread\": 0.0, \"route_group\": \"short\", \"max_trip_hrs\": 0.42, \"max_trip_route_group\": 0.42, \"below_cutoff\": 24, \"pct_below_cutoff\": 1.0, \"calitp_agency_name\": \"El Dorado Transit\", \"caltrans_district\": \"03 - Marysville\", \"route_name\": \"The Pollock Pines Route Provides Service From The Placerville Station Transfer Center To The Safeway Plaza In Pollock Pines Every Hour From 7:00 Am To 6:55 Pm Monday Through Friday. Service Includes Stops Along The Pony Express Trail.\", \"route_short_name\": \"60\", \"route_id2\": \"60\", \"cutoff2\": 20, \"cutoff\": 0}, {\"calitp_itp_id\": 101, \"trip_key\": -3856049903429987053, \"trip_id\": \"t_1949373_b_33026_tn_5\", \"shape_id\": \"p_900222\", \"route_id\": \"1961\", \"service_hours\": 0.42, \"trip_first_departure_ts\": 41400, \"trip_last_arrival_ts\": 42900, \"departure_hour\": 11, \"time_of_day\": \"Midday\", \"p25\": 0.42, \"p50\": 0.42, \"p75\": 0.42, \"p50_trip\": 1, \"fastest_trip\": 0, \"car_duration_hours\": 0.35, \"competitive_route\": 1, \"bus_multiplier\": 1.2, \"bus_difference\": 4.2, \"num_trips\": 24, \"num_competitive\": 24, \"pct_trips_competitive\": 1.0, \"bus_difference_spread\": 0.0, \"route_group\": \"short\", \"max_trip_hrs\": 0.42, \"max_trip_route_group\": 0.42, \"below_cutoff\": 24, \"pct_below_cutoff\": 1.0, \"calitp_agency_name\": \"El Dorado Transit\", \"caltrans_district\": \"03 - Marysville\", \"route_name\": \"The Pollock Pines Route Provides Service From The Placerville Station Transfer Center To The Safeway Plaza In Pollock Pines Every Hour From 7:00 Am To 6:55 Pm Monday Through Friday. Service Includes Stops Along The Pony Express Trail.\", \"route_short_name\": \"60\", \"route_id2\": \"60\", \"cutoff2\": 20, \"cutoff\": 0}, {\"calitp_itp_id\": 101, \"trip_key\": -1541101884368462115, \"trip_id\": \"t_1949373_b_33026_tn_10\", \"shape_id\": \"p_900222\", \"route_id\": \"1961\", \"service_hours\": 0.42, \"trip_first_departure_ts\": 59400, \"trip_last_arrival_ts\": 60900, \"departure_hour\": 16, \"time_of_day\": \"Midday\", \"p25\": 0.42, \"p50\": 0.42, \"p75\": 0.42, \"p50_trip\": 1, \"fastest_trip\": 0, \"car_duration_hours\": 0.35, \"competitive_route\": 1, \"bus_multiplier\": 1.2, \"bus_difference\": 4.2, \"num_trips\": 24, \"num_competitive\": 24, \"pct_trips_competitive\": 1.0, \"bus_difference_spread\": 0.0, \"route_group\": \"short\", \"max_trip_hrs\": 0.42, \"max_trip_route_group\": 0.42, \"below_cutoff\": 24, \"pct_below_cutoff\": 1.0, \"calitp_agency_name\": \"El Dorado Transit\", \"caltrans_district\": \"03 - Marysville\", \"route_name\": \"The Pollock Pines Route Provides Service From The Placerville Station Transfer Center To The Safeway Plaza In Pollock Pines Every Hour From 7:00 Am To 6:55 Pm Monday Through Friday. Service Includes Stops Along The Pony Express Trail.\", \"route_short_name\": \"60\", \"route_id2\": \"60\", \"cutoff2\": 20, \"cutoff\": 0}, {\"calitp_itp_id\": 101, \"trip_key\": -1792466778569247518, \"trip_id\": \"t_1949372_b_33026_tn_2\", \"shape_id\": \"p_1303403\", \"route_id\": \"1961\", \"service_hours\": 0.42, \"trip_first_departure_ts\": 28800, \"trip_last_arrival_ts\": 30300, \"departure_hour\": 8, \"time_of_day\": \"AM Peak\", \"p25\": 0.42, \"p50\": 0.42, \"p75\": 0.42, \"p50_trip\": 1, \"fastest_trip\": 0, \"car_duration_hours\": 0.35, \"competitive_route\": 1, \"bus_multiplier\": 1.2, \"bus_difference\": 4.2, \"num_trips\": 24, \"num_competitive\": 24, \"pct_trips_competitive\": 1.0, \"bus_difference_spread\": 0.0, \"route_group\": \"short\", \"max_trip_hrs\": 0.42, \"max_trip_route_group\": 0.42, \"below_cutoff\": 24, \"pct_below_cutoff\": 1.0, \"calitp_agency_name\": \"El Dorado Transit\", \"caltrans_district\": \"03 - Marysville\", \"route_name\": \"The Pollock Pines Route Provides Service From The Placerville Station Transfer Center To The Safeway Plaza In Pollock Pines Every Hour From 7:00 Am To 6:55 Pm Monday Through Friday. Service Includes Stops Along The Pony Express Trail.\", \"route_short_name\": \"60\", \"route_id2\": \"60\", \"cutoff2\": 20, \"cutoff\": 0}, {\"calitp_itp_id\": 101, \"trip_key\": -5520747728026092045, \"trip_id\": \"t_1949373_b_33026_tn_3\", \"shape_id\": \"p_900222\", \"route_id\": \"1961\", \"service_hours\": 0.42, \"trip_first_departure_ts\": 34200, \"trip_last_arrival_ts\": 35700, \"departure_hour\": 9, \"time_of_day\": \"AM Peak\", \"p25\": 0.42, \"p50\": 0.42, \"p75\": 0.42, \"p50_trip\": 1, \"fastest_trip\": 0, \"car_duration_hours\": 0.35, \"competitive_route\": 1, \"bus_multiplier\": 1.2, \"bus_difference\": 4.2, \"num_trips\": 24, \"num_competitive\": 24, \"pct_trips_competitive\": 1.0, \"bus_difference_spread\": 0.0, \"route_group\": \"short\", \"max_trip_hrs\": 0.42, \"max_trip_route_group\": 0.42, \"below_cutoff\": 24, \"pct_below_cutoff\": 1.0, \"calitp_agency_name\": \"El Dorado Transit\", \"caltrans_district\": \"03 - Marysville\", \"route_name\": \"The Pollock Pines Route Provides Service From The Placerville Station Transfer Center To The Safeway Plaza In Pollock Pines Every Hour From 7:00 Am To 6:55 Pm Monday Through Friday. Service Includes Stops Along The Pony Express Trail.\", \"route_short_name\": \"60\", \"route_id2\": \"60\", \"cutoff2\": 20, \"cutoff\": 0}, {\"calitp_itp_id\": 101, \"trip_key\": -6057104583329695432, \"trip_id\": \"t_1949372_b_33026_tn_9\", \"shape_id\": \"p_1303403\", \"route_id\": \"1961\", \"service_hours\": 0.42, \"trip_first_departure_ts\": 54000, \"trip_last_arrival_ts\": 55500, \"departure_hour\": 15, \"time_of_day\": \"Midday\", \"p25\": 0.42, \"p50\": 0.42, \"p75\": 0.42, \"p50_trip\": 1, \"fastest_trip\": 0, \"car_duration_hours\": 0.35, \"competitive_route\": 1, \"bus_multiplier\": 1.2, \"bus_difference\": 4.2, \"num_trips\": 24, \"num_competitive\": 24, \"pct_trips_competitive\": 1.0, \"bus_difference_spread\": 0.0, \"route_group\": \"short\", \"max_trip_hrs\": 0.42, \"max_trip_route_group\": 0.42, \"below_cutoff\": 24, \"pct_below_cutoff\": 1.0, \"calitp_agency_name\": \"El Dorado Transit\", \"caltrans_district\": \"03 - Marysville\", \"route_name\": \"The Pollock Pines Route Provides Service From The Placerville Station Transfer Center To The Safeway Plaza In Pollock Pines Every Hour From 7:00 Am To 6:55 Pm Monday Through Friday. Service Includes Stops Along The Pony Express Trail.\", \"route_short_name\": \"60\", \"route_id2\": \"60\", \"cutoff2\": 20, \"cutoff\": 0}, {\"calitp_itp_id\": 101, \"trip_key\": -4795671958504411580, \"trip_id\": \"t_1949349_b_33026_tn_0\", \"shape_id\": \"p_1303386\", \"route_id\": \"1962\", \"service_hours\": 0.92, \"trip_first_departure_ts\": 34200, \"trip_last_arrival_ts\": 37500, \"departure_hour\": 9, \"time_of_day\": \"AM Peak\", \"p25\": 0.92, \"p50\": 0.92, \"p75\": 0.92, \"p50_trip\": 1, \"fastest_trip\": 0, \"car_duration_hours\": 0.64, \"competitive_route\": 1, \"bus_multiplier\": 1.44, \"bus_difference\": 16.8, \"num_trips\": 13, \"num_competitive\": 13, \"pct_trips_competitive\": 1.0, \"bus_difference_spread\": 0.0, \"route_group\": \"short\", \"max_trip_hrs\": 0.92, \"max_trip_route_group\": 0.92, \"below_cutoff\": 13, \"pct_below_cutoff\": 1.0, \"calitp_agency_name\": \"El Dorado Transit\", \"caltrans_district\": \"03 - Marysville\", \"route_name\": \"The Placerville Route Provides Local Service Around The Town Of Placerville From 6:30 Am To 7:25 Pm Monday Through Friday, And Connections To Other El Dorado Transit Routes At The Placerville Station Transfer Center.\", \"route_short_name\": \"20\", \"route_id2\": \"20\", \"cutoff2\": 20, \"cutoff\": 0}, {\"calitp_itp_id\": 101, \"trip_key\": 175229237473283604, \"trip_id\": \"t_1949354_b_33026_tn_0\", \"shape_id\": \"p_1303386\", \"route_id\": \"1962\", \"service_hours\": 0.92, \"trip_first_departure_ts\": 52200, \"trip_last_arrival_ts\": 55500, \"departure_hour\": 14, \"time_of_day\": \"Midday\", \"p25\": 0.92, \"p50\": 0.92, \"p75\": 0.92, \"p50_trip\": 1, \"fastest_trip\": 0, \"car_duration_hours\": 0.64, \"competitive_route\": 1, \"bus_multiplier\": 1.44, \"bus_difference\": 16.8, \"num_trips\": 13, \"num_competitive\": 13, \"pct_trips_competitive\": 1.0, \"bus_difference_spread\": 0.0, \"route_group\": \"short\", \"max_trip_hrs\": 0.92, \"max_trip_route_group\": 0.92, \"below_cutoff\": 13, \"pct_below_cutoff\": 1.0, \"calitp_agency_name\": \"El Dorado Transit\", \"caltrans_district\": \"03 - Marysville\", \"route_name\": \"The Placerville Route Provides Local Service Around The Town Of Placerville From 6:30 Am To 7:25 Pm Monday Through Friday, And Connections To Other El Dorado Transit Routes At The Placerville Station Transfer Center.\", \"route_short_name\": \"20\", \"route_id2\": \"20\", \"cutoff2\": 20, \"cutoff\": 0}, {\"calitp_itp_id\": 101, \"trip_key\": 3168830657341423803, \"trip_id\": \"t_1949358_b_33026_tn_0\", \"shape_id\": \"p_1303386\", \"route_id\": \"1962\", \"service_hours\": 0.92, \"trip_first_departure_ts\": 66600, \"trip_last_arrival_ts\": 69900, \"departure_hour\": 18, \"time_of_day\": \"PM Peak\", \"p25\": 0.92, \"p50\": 0.92, \"p75\": 0.92, \"p50_trip\": 1, \"fastest_trip\": 1, \"car_duration_hours\": 0.64, \"competitive_route\": 1, \"bus_multiplier\": 1.44, \"bus_difference\": 16.8, \"num_trips\": 13, \"num_competitive\": 13, \"pct_trips_competitive\": 1.0, \"bus_difference_spread\": 0.0, \"route_group\": \"short\", \"max_trip_hrs\": 0.92, \"max_trip_route_group\": 0.92, \"below_cutoff\": 13, \"pct_below_cutoff\": 1.0, \"calitp_agency_name\": \"El Dorado Transit\", \"caltrans_district\": \"03 - Marysville\", \"route_name\": \"The Placerville Route Provides Local Service Around The Town Of Placerville From 6:30 Am To 7:25 Pm Monday Through Friday, And Connections To Other El Dorado Transit Routes At The Placerville Station Transfer Center.\", \"route_short_name\": \"20\", \"route_id2\": \"20\", \"cutoff2\": 20, \"cutoff\": 0}, {\"calitp_itp_id\": 101, \"trip_key\": 4955880252761445614, \"trip_id\": \"t_1949357_b_33026_tn_0\", \"shape_id\": \"p_1303386\", \"route_id\": \"1962\", \"service_hours\": 0.92, \"trip_first_departure_ts\": 63000, \"trip_last_arrival_ts\": 66300, \"departure_hour\": 17, \"time_of_day\": \"PM Peak\", \"p25\": 0.92, \"p50\": 0.92, \"p75\": 0.92, \"p50_trip\": 1, \"fastest_trip\": 0, \"car_duration_hours\": 0.64, \"competitive_route\": 1, \"bus_multiplier\": 1.44, \"bus_difference\": 16.8, \"num_trips\": 13, \"num_competitive\": 13, \"pct_trips_competitive\": 1.0, \"bus_difference_spread\": 0.0, \"route_group\": \"short\", \"max_trip_hrs\": 0.92, \"max_trip_route_group\": 0.92, \"below_cutoff\": 13, \"pct_below_cutoff\": 1.0, \"calitp_agency_name\": \"El Dorado Transit\", \"caltrans_district\": \"03 - Marysville\", \"route_name\": \"The Placerville Route Provides Local Service Around The Town Of Placerville From 6:30 Am To 7:25 Pm Monday Through Friday, And Connections To Other El Dorado Transit Routes At The Placerville Station Transfer Center.\", \"route_short_name\": \"20\", \"route_id2\": \"20\", \"cutoff2\": 20, \"cutoff\": 0}, {\"calitp_itp_id\": 101, \"trip_key\": 5823397159290794201, \"trip_id\": \"t_1949356_b_33026_tn_0\", \"shape_id\": \"p_1303386\", \"route_id\": \"1962\", \"service_hours\": 0.92, \"trip_first_departure_ts\": 59400, \"trip_last_arrival_ts\": 62700, \"departure_hour\": 16, \"time_of_day\": \"Midday\", \"p25\": 0.92, \"p50\": 0.92, \"p75\": 0.92, \"p50_trip\": 1, \"fastest_trip\": 0, \"car_duration_hours\": 0.64, \"competitive_route\": 1, \"bus_multiplier\": 1.44, \"bus_difference\": 16.8, \"num_trips\": 13, \"num_competitive\": 13, \"pct_trips_competitive\": 1.0, \"bus_difference_spread\": 0.0, \"route_group\": \"short\", \"max_trip_hrs\": 0.92, \"max_trip_route_group\": 0.92, \"below_cutoff\": 13, \"pct_below_cutoff\": 1.0, \"calitp_agency_name\": \"El Dorado Transit\", \"caltrans_district\": \"03 - Marysville\", \"route_name\": \"The Placerville Route Provides Local Service Around The Town Of Placerville From 6:30 Am To 7:25 Pm Monday Through Friday, And Connections To Other El Dorado Transit Routes At The Placerville Station Transfer Center.\", \"route_short_name\": \"20\", \"route_id2\": \"20\", \"cutoff2\": 20, \"cutoff\": 0}, {\"calitp_itp_id\": 101, \"trip_key\": -4189130415684690174, \"trip_id\": \"t_1949351_b_33026_tn_0\", \"shape_id\": \"p_1303386\", \"route_id\": \"1962\", \"service_hours\": 0.92, \"trip_first_departure_ts\": 41400, \"trip_last_arrival_ts\": 44700, \"departure_hour\": 11, \"time_of_day\": \"Midday\", \"p25\": 0.92, \"p50\": 0.92, \"p75\": 0.92, \"p50_trip\": 1, \"fastest_trip\": 0, \"car_duration_hours\": 0.64, \"competitive_route\": 1, \"bus_multiplier\": 1.44, \"bus_difference\": 16.8, \"num_trips\": 13, \"num_competitive\": 13, \"pct_trips_competitive\": 1.0, \"bus_difference_spread\": 0.0, \"route_group\": \"short\", \"max_trip_hrs\": 0.92, \"max_trip_route_group\": 0.92, \"below_cutoff\": 13, \"pct_below_cutoff\": 1.0, \"calitp_agency_name\": \"El Dorado Transit\", \"caltrans_district\": \"03 - Marysville\", \"route_name\": \"The Placerville Route Provides Local Service Around The Town Of Placerville From 6:30 Am To 7:25 Pm Monday Through Friday, And Connections To Other El Dorado Transit Routes At The Placerville Station Transfer Center.\", \"route_short_name\": \"20\", \"route_id2\": \"20\", \"cutoff2\": 20, \"cutoff\": 0}, {\"calitp_itp_id\": 101, \"trip_key\": -9031241007927192200, \"trip_id\": \"t_1949352_b_33026_tn_0\", \"shape_id\": \"p_1303386\", \"route_id\": \"1962\", \"service_hours\": 0.92, \"trip_first_departure_ts\": 45000, \"trip_last_arrival_ts\": 48300, \"departure_hour\": 12, \"time_of_day\": \"Midday\", \"p25\": 0.92, \"p50\": 0.92, \"p75\": 0.92, \"p50_trip\": 1, \"fastest_trip\": 0, \"car_duration_hours\": 0.64, \"competitive_route\": 1, \"bus_multiplier\": 1.44, \"bus_difference\": 16.8, \"num_trips\": 13, \"num_competitive\": 13, \"pct_trips_competitive\": 1.0, \"bus_difference_spread\": 0.0, \"route_group\": \"short\", \"max_trip_hrs\": 0.92, \"max_trip_route_group\": 0.92, \"below_cutoff\": 13, \"pct_below_cutoff\": 1.0, \"calitp_agency_name\": \"El Dorado Transit\", \"caltrans_district\": \"03 - Marysville\", \"route_name\": \"The Placerville Route Provides Local Service Around The Town Of Placerville From 6:30 Am To 7:25 Pm Monday Through Friday, And Connections To Other El Dorado Transit Routes At The Placerville Station Transfer Center.\", \"route_short_name\": \"20\", \"route_id2\": \"20\", \"cutoff2\": 20, \"cutoff\": 0}, {\"calitp_itp_id\": 101, \"trip_key\": -4757037379164419797, \"trip_id\": \"t_1949355_b_33026_tn_0\", \"shape_id\": \"p_1303386\", \"route_id\": \"1962\", \"service_hours\": 0.92, \"trip_first_departure_ts\": 55800, \"trip_last_arrival_ts\": 59100, \"departure_hour\": 15, \"time_of_day\": \"Midday\", \"p25\": 0.92, \"p50\": 0.92, \"p75\": 0.92, \"p50_trip\": 1, \"fastest_trip\": 0, \"car_duration_hours\": 0.64, \"competitive_route\": 1, \"bus_multiplier\": 1.44, \"bus_difference\": 16.8, \"num_trips\": 13, \"num_competitive\": 13, \"pct_trips_competitive\": 1.0, \"bus_difference_spread\": 0.0, \"route_group\": \"short\", \"max_trip_hrs\": 0.92, \"max_trip_route_group\": 0.92, \"below_cutoff\": 13, \"pct_below_cutoff\": 1.0, \"calitp_agency_name\": \"El Dorado Transit\", \"caltrans_district\": \"03 - Marysville\", \"route_name\": \"The Placerville Route Provides Local Service Around The Town Of Placerville From 6:30 Am To 7:25 Pm Monday Through Friday, And Connections To Other El Dorado Transit Routes At The Placerville Station Transfer Center.\", \"route_short_name\": \"20\", \"route_id2\": \"20\", \"cutoff2\": 20, \"cutoff\": 0}, {\"calitp_itp_id\": 101, \"trip_key\": 4097624377465641738, \"trip_id\": \"t_1949346_b_33026_tn_0\", \"shape_id\": \"p_1303386\", \"route_id\": \"1962\", \"service_hours\": 0.92, \"trip_first_departure_ts\": 23400, \"trip_last_arrival_ts\": 26700, \"departure_hour\": 6, \"time_of_day\": \"Owl Service\", \"p25\": 0.92, \"p50\": 0.92, \"p75\": 0.92, \"p50_trip\": 1, \"fastest_trip\": 0, \"car_duration_hours\": 0.64, \"competitive_route\": 1, \"bus_multiplier\": 1.44, \"bus_difference\": 16.8, \"num_trips\": 13, \"num_competitive\": 13, \"pct_trips_competitive\": 1.0, \"bus_difference_spread\": 0.0, \"route_group\": \"short\", \"max_trip_hrs\": 0.92, \"max_trip_route_group\": 0.92, \"below_cutoff\": 13, \"pct_below_cutoff\": 1.0, \"calitp_agency_name\": \"El Dorado Transit\", \"caltrans_district\": \"03 - Marysville\", \"route_name\": \"The Placerville Route Provides Local Service Around The Town Of Placerville From 6:30 Am To 7:25 Pm Monday Through Friday, And Connections To Other El Dorado Transit Routes At The Placerville Station Transfer Center.\", \"route_short_name\": \"20\", \"route_id2\": \"20\", \"cutoff2\": 20, \"cutoff\": 0}, {\"calitp_itp_id\": 101, \"trip_key\": 800944902697937777, \"trip_id\": \"t_1949347_b_33026_tn_0\", \"shape_id\": \"p_1303386\", \"route_id\": \"1962\", \"service_hours\": 0.92, \"trip_first_departure_ts\": 27000, \"trip_last_arrival_ts\": 30300, \"departure_hour\": 7, \"time_of_day\": \"AM Peak\", \"p25\": 0.92, \"p50\": 0.92, \"p75\": 0.92, \"p50_trip\": 1, \"fastest_trip\": 0, \"car_duration_hours\": 0.64, \"competitive_route\": 1, \"bus_multiplier\": 1.44, \"bus_difference\": 16.8, \"num_trips\": 13, \"num_competitive\": 13, \"pct_trips_competitive\": 1.0, \"bus_difference_spread\": 0.0, \"route_group\": \"short\", \"max_trip_hrs\": 0.92, \"max_trip_route_group\": 0.92, \"below_cutoff\": 13, \"pct_below_cutoff\": 1.0, \"calitp_agency_name\": \"El Dorado Transit\", \"caltrans_district\": \"03 - Marysville\", \"route_name\": \"The Placerville Route Provides Local Service Around The Town Of Placerville From 6:30 Am To 7:25 Pm Monday Through Friday, And Connections To Other El Dorado Transit Routes At The Placerville Station Transfer Center.\", \"route_short_name\": \"20\", \"route_id2\": \"20\", \"cutoff2\": 20, \"cutoff\": 0}, {\"calitp_itp_id\": 101, \"trip_key\": -9113824973606912872, \"trip_id\": \"t_1949350_b_33026_tn_0\", \"shape_id\": \"p_1303386\", \"route_id\": \"1962\", \"service_hours\": 0.92, \"trip_first_departure_ts\": 37800, \"trip_last_arrival_ts\": 41100, \"departure_hour\": 10, \"time_of_day\": \"Midday\", \"p25\": 0.92, \"p50\": 0.92, \"p75\": 0.92, \"p50_trip\": 1, \"fastest_trip\": 0, \"car_duration_hours\": 0.64, \"competitive_route\": 1, \"bus_multiplier\": 1.44, \"bus_difference\": 16.8, \"num_trips\": 13, \"num_competitive\": 13, \"pct_trips_competitive\": 1.0, \"bus_difference_spread\": 0.0, \"route_group\": \"short\", \"max_trip_hrs\": 0.92, \"max_trip_route_group\": 0.92, \"below_cutoff\": 13, \"pct_below_cutoff\": 1.0, \"calitp_agency_name\": \"El Dorado Transit\", \"caltrans_district\": \"03 - Marysville\", \"route_name\": \"The Placerville Route Provides Local Service Around The Town Of Placerville From 6:30 Am To 7:25 Pm Monday Through Friday, And Connections To Other El Dorado Transit Routes At The Placerville Station Transfer Center.\", \"route_short_name\": \"20\", \"route_id2\": \"20\", \"cutoff2\": 20, \"cutoff\": 0}, {\"calitp_itp_id\": 101, \"trip_key\": -505676108246714535, \"trip_id\": \"t_1949348_b_33026_tn_0\", \"shape_id\": \"p_1303386\", \"route_id\": \"1962\", \"service_hours\": 0.92, \"trip_first_departure_ts\": 30600, \"trip_last_arrival_ts\": 33900, \"departure_hour\": 8, \"time_of_day\": \"AM Peak\", \"p25\": 0.92, \"p50\": 0.92, \"p75\": 0.92, \"p50_trip\": 1, \"fastest_trip\": 0, \"car_duration_hours\": 0.64, \"competitive_route\": 1, \"bus_multiplier\": 1.44, \"bus_difference\": 16.8, \"num_trips\": 13, \"num_competitive\": 13, \"pct_trips_competitive\": 1.0, \"bus_difference_spread\": 0.0, \"route_group\": \"short\", \"max_trip_hrs\": 0.92, \"max_trip_route_group\": 0.92, \"below_cutoff\": 13, \"pct_below_cutoff\": 1.0, \"calitp_agency_name\": \"El Dorado Transit\", \"caltrans_district\": \"03 - Marysville\", \"route_name\": \"The Placerville Route Provides Local Service Around The Town Of Placerville From 6:30 Am To 7:25 Pm Monday Through Friday, And Connections To Other El Dorado Transit Routes At The Placerville Station Transfer Center.\", \"route_short_name\": \"20\", \"route_id2\": \"20\", \"cutoff2\": 20, \"cutoff\": 0}, {\"calitp_itp_id\": 101, \"trip_key\": 2240258527051437040, \"trip_id\": \"t_1949353_b_33026_tn_0\", \"shape_id\": \"p_1303386\", \"route_id\": \"1962\", \"service_hours\": 0.92, \"trip_first_departure_ts\": 48600, \"trip_last_arrival_ts\": 51900, \"departure_hour\": 13, \"time_of_day\": \"Midday\", \"p25\": 0.92, \"p50\": 0.92, \"p75\": 0.92, \"p50_trip\": 1, \"fastest_trip\": 0, \"car_duration_hours\": 0.64, \"competitive_route\": 1, \"bus_multiplier\": 1.44, \"bus_difference\": 16.8, \"num_trips\": 13, \"num_competitive\": 13, \"pct_trips_competitive\": 1.0, \"bus_difference_spread\": 0.0, \"route_group\": \"short\", \"max_trip_hrs\": 0.92, \"max_trip_route_group\": 0.92, \"below_cutoff\": 13, \"pct_below_cutoff\": 1.0, \"calitp_agency_name\": \"El Dorado Transit\", \"caltrans_district\": \"03 - Marysville\", \"route_name\": \"The Placerville Route Provides Local Service Around The Town Of Placerville From 6:30 Am To 7:25 Pm Monday Through Friday, And Connections To Other El Dorado Transit Routes At The Placerville Station Transfer Center.\", \"route_short_name\": \"20\", \"route_id2\": \"20\", \"cutoff2\": 20, \"cutoff\": 0}, {\"calitp_itp_id\": 101, \"trip_key\": 6464769253391233615, \"trip_id\": \"t_1949367_b_33026_tn_0\", \"shape_id\": \"p_900109\", \"route_id\": \"1963\", \"service_hours\": 0.92, \"trip_first_departure_ts\": 54000, \"trip_last_arrival_ts\": 57300, \"departure_hour\": 15, \"time_of_day\": \"Midday\", \"p25\": 0.92, \"p50\": 0.92, \"p75\": 0.92, \"p50_trip\": 1, \"fastest_trip\": 0, \"car_duration_hours\": 0.6, \"competitive_route\": 1, \"bus_multiplier\": 1.53, \"bus_difference\": 19.2, \"num_trips\": 12, \"num_competitive\": 12, \"pct_trips_competitive\": 1.0, \"bus_difference_spread\": 0.0, \"route_group\": \"short\", \"max_trip_hrs\": 0.92, \"max_trip_route_group\": 0.92, \"below_cutoff\": 12, \"pct_below_cutoff\": 1.0, \"calitp_agency_name\": \"El Dorado Transit\", \"caltrans_district\": \"03 - Marysville\", \"route_name\": \"The Diamond Springs Route Loops Around Diamond Springs, Including Service To The El Dorado Campus Of Folsom Lake College, Hourly Monday Through Friday From 7:00 Am To 7:00 Pm.\", \"route_short_name\": \"30\", \"route_id2\": \"30\", \"cutoff2\": 20, \"cutoff\": 0}, {\"calitp_itp_id\": 101, \"trip_key\": 839806181480533718, \"trip_id\": \"t_1949364_b_33026_tn_0\", \"shape_id\": \"p_900109\", \"route_id\": \"1963\", \"service_hours\": 0.92, \"trip_first_departure_ts\": 43200, \"trip_last_arrival_ts\": 46500, \"departure_hour\": 12, \"time_of_day\": \"Midday\", \"p25\": 0.92, \"p50\": 0.92, \"p75\": 0.92, \"p50_trip\": 1, \"fastest_trip\": 0, \"car_duration_hours\": 0.6, \"competitive_route\": 1, \"bus_multiplier\": 1.53, \"bus_difference\": 19.2, \"num_trips\": 12, \"num_competitive\": 12, \"pct_trips_competitive\": 1.0, \"bus_difference_spread\": 0.0, \"route_group\": \"short\", \"max_trip_hrs\": 0.92, \"max_trip_route_group\": 0.92, \"below_cutoff\": 12, \"pct_below_cutoff\": 1.0, \"calitp_agency_name\": \"El Dorado Transit\", \"caltrans_district\": \"03 - Marysville\", \"route_name\": \"The Diamond Springs Route Loops Around Diamond Springs, Including Service To The El Dorado Campus Of Folsom Lake College, Hourly Monday Through Friday From 7:00 Am To 7:00 Pm.\", \"route_short_name\": \"30\", \"route_id2\": \"30\", \"cutoff2\": 20, \"cutoff\": 0}, {\"calitp_itp_id\": 101, \"trip_key\": 1798264035522025816, \"trip_id\": \"t_1949370_b_33026_tn_0\", \"shape_id\": \"p_900109\", \"route_id\": \"1963\", \"service_hours\": 0.92, \"trip_first_departure_ts\": 64800, \"trip_last_arrival_ts\": 68100, \"departure_hour\": 18, \"time_of_day\": \"PM Peak\", \"p25\": 0.92, \"p50\": 0.92, \"p75\": 0.92, \"p50_trip\": 1, \"fastest_trip\": 1, \"car_duration_hours\": 0.6, \"competitive_route\": 1, \"bus_multiplier\": 1.53, \"bus_difference\": 19.2, \"num_trips\": 12, \"num_competitive\": 12, \"pct_trips_competitive\": 1.0, \"bus_difference_spread\": 0.0, \"route_group\": \"short\", \"max_trip_hrs\": 0.92, \"max_trip_route_group\": 0.92, \"below_cutoff\": 12, \"pct_below_cutoff\": 1.0, \"calitp_agency_name\": \"El Dorado Transit\", \"caltrans_district\": \"03 - Marysville\", \"route_name\": \"The Diamond Springs Route Loops Around Diamond Springs, Including Service To The El Dorado Campus Of Folsom Lake College, Hourly Monday Through Friday From 7:00 Am To 7:00 Pm.\", \"route_short_name\": \"30\", \"route_id2\": \"30\", \"cutoff2\": 20, \"cutoff\": 0}, {\"calitp_itp_id\": 101, \"trip_key\": 2635167073713382704, \"trip_id\": \"t_1949366_b_33026_tn_0\", \"shape_id\": \"p_900109\", \"route_id\": \"1963\", \"service_hours\": 0.92, \"trip_first_departure_ts\": 50400, \"trip_last_arrival_ts\": 53700, \"departure_hour\": 14, \"time_of_day\": \"Midday\", \"p25\": 0.92, \"p50\": 0.92, \"p75\": 0.92, \"p50_trip\": 1, \"fastest_trip\": 0, \"car_duration_hours\": 0.6, \"competitive_route\": 1, \"bus_multiplier\": 1.53, \"bus_difference\": 19.2, \"num_trips\": 12, \"num_competitive\": 12, \"pct_trips_competitive\": 1.0, \"bus_difference_spread\": 0.0, \"route_group\": \"short\", \"max_trip_hrs\": 0.92, \"max_trip_route_group\": 0.92, \"below_cutoff\": 12, \"pct_below_cutoff\": 1.0, \"calitp_agency_name\": \"El Dorado Transit\", \"caltrans_district\": \"03 - Marysville\", \"route_name\": \"The Diamond Springs Route Loops Around Diamond Springs, Including Service To The El Dorado Campus Of Folsom Lake College, Hourly Monday Through Friday From 7:00 Am To 7:00 Pm.\", \"route_short_name\": \"30\", \"route_id2\": \"30\", \"cutoff2\": 20, \"cutoff\": 0}, {\"calitp_itp_id\": 101, \"trip_key\": 9172049255811633093, \"trip_id\": \"t_1949362_b_33026_tn_0\", \"shape_id\": \"p_900109\", \"route_id\": \"1963\", \"service_hours\": 0.92, \"trip_first_departure_ts\": 36000, \"trip_last_arrival_ts\": 39300, \"departure_hour\": 10, \"time_of_day\": \"Midday\", \"p25\": 0.92, \"p50\": 0.92, \"p75\": 0.92, \"p50_trip\": 1, \"fastest_trip\": 0, \"car_duration_hours\": 0.6, \"competitive_route\": 1, \"bus_multiplier\": 1.53, \"bus_difference\": 19.2, \"num_trips\": 12, \"num_competitive\": 12, \"pct_trips_competitive\": 1.0, \"bus_difference_spread\": 0.0, \"route_group\": \"short\", \"max_trip_hrs\": 0.92, \"max_trip_route_group\": 0.92, \"below_cutoff\": 12, \"pct_below_cutoff\": 1.0, \"calitp_agency_name\": \"El Dorado Transit\", \"caltrans_district\": \"03 - Marysville\", \"route_name\": \"The Diamond Springs Route Loops Around Diamond Springs, Including Service To The El Dorado Campus Of Folsom Lake College, Hourly Monday Through Friday From 7:00 Am To 7:00 Pm.\", \"route_short_name\": \"30\", \"route_id2\": \"30\", \"cutoff2\": 20, \"cutoff\": 0}, {\"calitp_itp_id\": 101, \"trip_key\": 1388087084170388007, \"trip_id\": \"t_1949361_b_33026_tn_0\", \"shape_id\": \"p_900109\", \"route_id\": \"1963\", \"service_hours\": 0.92, \"trip_first_departure_ts\": 32400, \"trip_last_arrival_ts\": 35700, \"departure_hour\": 9, \"time_of_day\": \"AM Peak\", \"p25\": 0.92, \"p50\": 0.92, \"p75\": 0.92, \"p50_trip\": 1, \"fastest_trip\": 0, \"car_duration_hours\": 0.6, \"competitive_route\": 1, \"bus_multiplier\": 1.53, \"bus_difference\": 19.2, \"num_trips\": 12, \"num_competitive\": 12, \"pct_trips_competitive\": 1.0, \"bus_difference_spread\": 0.0, \"route_group\": \"short\", \"max_trip_hrs\": 0.92, \"max_trip_route_group\": 0.92, \"below_cutoff\": 12, \"pct_below_cutoff\": 1.0, \"calitp_agency_name\": \"El Dorado Transit\", \"caltrans_district\": \"03 - Marysville\", \"route_name\": \"The Diamond Springs Route Loops Around Diamond Springs, Including Service To The El Dorado Campus Of Folsom Lake College, Hourly Monday Through Friday From 7:00 Am To 7:00 Pm.\", \"route_short_name\": \"30\", \"route_id2\": \"30\", \"cutoff2\": 20, \"cutoff\": 0}, {\"calitp_itp_id\": 101, \"trip_key\": -5113333089663286626, \"trip_id\": \"t_1949368_b_33026_tn_0\", \"shape_id\": \"p_900109\", \"route_id\": \"1963\", \"service_hours\": 0.92, \"trip_first_departure_ts\": 57600, \"trip_last_arrival_ts\": 60900, \"departure_hour\": 16, \"time_of_day\": \"Midday\", \"p25\": 0.92, \"p50\": 0.92, \"p75\": 0.92, \"p50_trip\": 1, \"fastest_trip\": 0, \"car_duration_hours\": 0.6, \"competitive_route\": 1, \"bus_multiplier\": 1.53, \"bus_difference\": 19.2, \"num_trips\": 12, \"num_competitive\": 12, \"pct_trips_competitive\": 1.0, \"bus_difference_spread\": 0.0, \"route_group\": \"short\", \"max_trip_hrs\": 0.92, \"max_trip_route_group\": 0.92, \"below_cutoff\": 12, \"pct_below_cutoff\": 1.0, \"calitp_agency_name\": \"El Dorado Transit\", \"caltrans_district\": \"03 - Marysville\", \"route_name\": \"The Diamond Springs Route Loops Around Diamond Springs, Including Service To The El Dorado Campus Of Folsom Lake College, Hourly Monday Through Friday From 7:00 Am To 7:00 Pm.\", \"route_short_name\": \"30\", \"route_id2\": \"30\", \"cutoff2\": 20, \"cutoff\": 0}, {\"calitp_itp_id\": 101, \"trip_key\": -5627164831897303455, \"trip_id\": \"t_1949365_b_33026_tn_0\", \"shape_id\": \"p_900109\", \"route_id\": \"1963\", \"service_hours\": 0.92, \"trip_first_departure_ts\": 46800, \"trip_last_arrival_ts\": 50100, \"departure_hour\": 13, \"time_of_day\": \"Midday\", \"p25\": 0.92, \"p50\": 0.92, \"p75\": 0.92, \"p50_trip\": 1, \"fastest_trip\": 0, \"car_duration_hours\": 0.6, \"competitive_route\": 1, \"bus_multiplier\": 1.53, \"bus_difference\": 19.2, \"num_trips\": 12, \"num_competitive\": 12, \"pct_trips_competitive\": 1.0, \"bus_difference_spread\": 0.0, \"route_group\": \"short\", \"max_trip_hrs\": 0.92, \"max_trip_route_group\": 0.92, \"below_cutoff\": 12, \"pct_below_cutoff\": 1.0, \"calitp_agency_name\": \"El Dorado Transit\", \"caltrans_district\": \"03 - Marysville\", \"route_name\": \"The Diamond Springs Route Loops Around Diamond Springs, Including Service To The El Dorado Campus Of Folsom Lake College, Hourly Monday Through Friday From 7:00 Am To 7:00 Pm.\", \"route_short_name\": \"30\", \"route_id2\": \"30\", \"cutoff2\": 20, \"cutoff\": 0}, {\"calitp_itp_id\": 101, \"trip_key\": -7781342902892207058, \"trip_id\": \"t_1949369_b_33026_tn_0\", \"shape_id\": \"p_900109\", \"route_id\": \"1963\", \"service_hours\": 0.92, \"trip_first_departure_ts\": 61200, \"trip_last_arrival_ts\": 64500, \"departure_hour\": 17, \"time_of_day\": \"PM Peak\", \"p25\": 0.92, \"p50\": 0.92, \"p75\": 0.92, \"p50_trip\": 1, \"fastest_trip\": 0, \"car_duration_hours\": 0.6, \"competitive_route\": 1, \"bus_multiplier\": 1.53, \"bus_difference\": 19.2, \"num_trips\": 12, \"num_competitive\": 12, \"pct_trips_competitive\": 1.0, \"bus_difference_spread\": 0.0, \"route_group\": \"short\", \"max_trip_hrs\": 0.92, \"max_trip_route_group\": 0.92, \"below_cutoff\": 12, \"pct_below_cutoff\": 1.0, \"calitp_agency_name\": \"El Dorado Transit\", \"caltrans_district\": \"03 - Marysville\", \"route_name\": \"The Diamond Springs Route Loops Around Diamond Springs, Including Service To The El Dorado Campus Of Folsom Lake College, Hourly Monday Through Friday From 7:00 Am To 7:00 Pm.\", \"route_short_name\": \"30\", \"route_id2\": \"30\", \"cutoff2\": 20, \"cutoff\": 0}, {\"calitp_itp_id\": 101, \"trip_key\": 4633635362667700056, \"trip_id\": \"t_1949359_b_33026_tn_0\", \"shape_id\": \"p_900109\", \"route_id\": \"1963\", \"service_hours\": 0.92, \"trip_first_departure_ts\": 25200, \"trip_last_arrival_ts\": 28500, \"departure_hour\": 7, \"time_of_day\": \"AM Peak\", \"p25\": 0.92, \"p50\": 0.92, \"p75\": 0.92, \"p50_trip\": 1, \"fastest_trip\": 0, \"car_duration_hours\": 0.6, \"competitive_route\": 1, \"bus_multiplier\": 1.53, \"bus_difference\": 19.2, \"num_trips\": 12, \"num_competitive\": 12, \"pct_trips_competitive\": 1.0, \"bus_difference_spread\": 0.0, \"route_group\": \"short\", \"max_trip_hrs\": 0.92, \"max_trip_route_group\": 0.92, \"below_cutoff\": 12, \"pct_below_cutoff\": 1.0, \"calitp_agency_name\": \"El Dorado Transit\", \"caltrans_district\": \"03 - Marysville\", \"route_name\": \"The Diamond Springs Route Loops Around Diamond Springs, Including Service To The El Dorado Campus Of Folsom Lake College, Hourly Monday Through Friday From 7:00 Am To 7:00 Pm.\", \"route_short_name\": \"30\", \"route_id2\": \"30\", \"cutoff2\": 20, \"cutoff\": 0}, {\"calitp_itp_id\": 101, \"trip_key\": -1221787305070327543, \"trip_id\": \"t_1949360_b_33026_tn_0\", \"shape_id\": \"p_900109\", \"route_id\": \"1963\", \"service_hours\": 0.92, \"trip_first_departure_ts\": 28800, \"trip_last_arrival_ts\": 32100, \"departure_hour\": 8, \"time_of_day\": \"AM Peak\", \"p25\": 0.92, \"p50\": 0.92, \"p75\": 0.92, \"p50_trip\": 1, \"fastest_trip\": 0, \"car_duration_hours\": 0.6, \"competitive_route\": 1, \"bus_multiplier\": 1.53, \"bus_difference\": 19.2, \"num_trips\": 12, \"num_competitive\": 12, \"pct_trips_competitive\": 1.0, \"bus_difference_spread\": 0.0, \"route_group\": \"short\", \"max_trip_hrs\": 0.92, \"max_trip_route_group\": 0.92, \"below_cutoff\": 12, \"pct_below_cutoff\": 1.0, \"calitp_agency_name\": \"El Dorado Transit\", \"caltrans_district\": \"03 - Marysville\", \"route_name\": \"The Diamond Springs Route Loops Around Diamond Springs, Including Service To The El Dorado Campus Of Folsom Lake College, Hourly Monday Through Friday From 7:00 Am To 7:00 Pm.\", \"route_short_name\": \"30\", \"route_id2\": \"30\", \"cutoff2\": 20, \"cutoff\": 0}, {\"calitp_itp_id\": 101, \"trip_key\": 1062918106954598799, \"trip_id\": \"t_1949363_b_33026_tn_0\", \"shape_id\": \"p_900109\", \"route_id\": \"1963\", \"service_hours\": 0.92, \"trip_first_departure_ts\": 39600, \"trip_last_arrival_ts\": 42900, \"departure_hour\": 11, \"time_of_day\": \"Midday\", \"p25\": 0.92, \"p50\": 0.92, \"p75\": 0.92, \"p50_trip\": 1, \"fastest_trip\": 0, \"car_duration_hours\": 0.6, \"competitive_route\": 1, \"bus_multiplier\": 1.53, \"bus_difference\": 19.2, \"num_trips\": 12, \"num_competitive\": 12, \"pct_trips_competitive\": 1.0, \"bus_difference_spread\": 0.0, \"route_group\": \"short\", \"max_trip_hrs\": 0.92, \"max_trip_route_group\": 0.92, \"below_cutoff\": 12, \"pct_below_cutoff\": 1.0, \"calitp_agency_name\": \"El Dorado Transit\", \"caltrans_district\": \"03 - Marysville\", \"route_name\": \"The Diamond Springs Route Loops Around Diamond Springs, Including Service To The El Dorado Campus Of Folsom Lake College, Hourly Monday Through Friday From 7:00 Am To 7:00 Pm.\", \"route_short_name\": \"30\", \"route_id2\": \"30\", \"cutoff2\": 20, \"cutoff\": 0}, {\"calitp_itp_id\": 101, \"trip_key\": 8064911308903813948, \"trip_id\": \"t_1949345_b_33026_tn_12\", \"shape_id\": \"p_900110\", \"route_id\": \"1964\", \"service_hours\": 0.83, \"trip_first_departure_ts\": 63000, \"trip_last_arrival_ts\": 66000, \"departure_hour\": 17, \"time_of_day\": \"PM Peak\", \"p25\": 0.83, \"p50\": 0.83, \"p75\": 0.83, \"p50_trip\": 1, \"fastest_trip\": 0, \"car_duration_hours\": 0.67, \"competitive_route\": 1, \"bus_multiplier\": 1.24, \"bus_difference\": 9.6, \"num_trips\": 13, \"num_competitive\": 13, \"pct_trips_competitive\": 1.0, \"bus_difference_spread\": 0.0, \"route_group\": \"short\", \"max_trip_hrs\": 0.83, \"max_trip_route_group\": 0.83, \"below_cutoff\": 13, \"pct_below_cutoff\": 1.0, \"calitp_agency_name\": \"El Dorado Transit\", \"caltrans_district\": \"03 - Marysville\", \"route_name\": \"The Cameron Park/Shingle Springs Route Loops Around Cameron Park And Shingle Springs Every Hour From 6:30 Am To 7:20 Pm Monday Through Friday, Providing Transfers To The 50 Express And Sacramento Commuter At Cambridge Road Park & Ride.\", \"route_short_name\": \"40\", \"route_id2\": \"40\", \"cutoff2\": 20, \"cutoff\": 0}, {\"calitp_itp_id\": 101, \"trip_key\": -512565783284181250, \"trip_id\": \"t_1949345_b_33026_tn_9\", \"shape_id\": \"p_900110\", \"route_id\": \"1964\", \"service_hours\": 0.83, \"trip_first_departure_ts\": 52200, \"trip_last_arrival_ts\": 55200, \"departure_hour\": 14, \"time_of_day\": \"Midday\", \"p25\": 0.83, \"p50\": 0.83, \"p75\": 0.83, \"p50_trip\": 1, \"fastest_trip\": 0, \"car_duration_hours\": 0.67, \"competitive_route\": 1, \"bus_multiplier\": 1.24, \"bus_difference\": 9.6, \"num_trips\": 13, \"num_competitive\": 13, \"pct_trips_competitive\": 1.0, \"bus_difference_spread\": 0.0, \"route_group\": \"short\", \"max_trip_hrs\": 0.83, \"max_trip_route_group\": 0.83, \"below_cutoff\": 13, \"pct_below_cutoff\": 1.0, \"calitp_agency_name\": \"El Dorado Transit\", \"caltrans_district\": \"03 - Marysville\", \"route_name\": \"The Cameron Park/Shingle Springs Route Loops Around Cameron Park And Shingle Springs Every Hour From 6:30 Am To 7:20 Pm Monday Through Friday, Providing Transfers To The 50 Express And Sacramento Commuter At Cambridge Road Park & Ride.\", \"route_short_name\": \"40\", \"route_id2\": \"40\", \"cutoff2\": 20, \"cutoff\": 0}, {\"calitp_itp_id\": 101, \"trip_key\": 8284867086961112242, \"trip_id\": \"t_1949345_b_33026_tn_8\", \"shape_id\": \"p_900110\", \"route_id\": \"1964\", \"service_hours\": 0.83, \"trip_first_departure_ts\": 48600, \"trip_last_arrival_ts\": 51600, \"departure_hour\": 13, \"time_of_day\": \"Midday\", \"p25\": 0.83, \"p50\": 0.83, \"p75\": 0.83, \"p50_trip\": 1, \"fastest_trip\": 0, \"car_duration_hours\": 0.67, \"competitive_route\": 1, \"bus_multiplier\": 1.24, \"bus_difference\": 9.6, \"num_trips\": 13, \"num_competitive\": 13, \"pct_trips_competitive\": 1.0, \"bus_difference_spread\": 0.0, \"route_group\": \"short\", \"max_trip_hrs\": 0.83, \"max_trip_route_group\": 0.83, \"below_cutoff\": 13, \"pct_below_cutoff\": 1.0, \"calitp_agency_name\": \"El Dorado Transit\", \"caltrans_district\": \"03 - Marysville\", \"route_name\": \"The Cameron Park/Shingle Springs Route Loops Around Cameron Park And Shingle Springs Every Hour From 6:30 Am To 7:20 Pm Monday Through Friday, Providing Transfers To The 50 Express And Sacramento Commuter At Cambridge Road Park & Ride.\", \"route_short_name\": \"40\", \"route_id2\": \"40\", \"cutoff2\": 20, \"cutoff\": 0}, {\"calitp_itp_id\": 101, \"trip_key\": 8628169673849743490, \"trip_id\": \"t_1949345_b_33026_tn_1\", \"shape_id\": \"p_900110\", \"route_id\": \"1964\", \"service_hours\": 0.83, \"trip_first_departure_ts\": 23400, \"trip_last_arrival_ts\": 26400, \"departure_hour\": 6, \"time_of_day\": \"Owl Service\", \"p25\": 0.83, \"p50\": 0.83, \"p75\": 0.83, \"p50_trip\": 1, \"fastest_trip\": 0, \"car_duration_hours\": 0.67, \"competitive_route\": 1, \"bus_multiplier\": 1.24, \"bus_difference\": 9.6, \"num_trips\": 13, \"num_competitive\": 13, \"pct_trips_competitive\": 1.0, \"bus_difference_spread\": 0.0, \"route_group\": \"short\", \"max_trip_hrs\": 0.83, \"max_trip_route_group\": 0.83, \"below_cutoff\": 13, \"pct_below_cutoff\": 1.0, \"calitp_agency_name\": \"El Dorado Transit\", \"caltrans_district\": \"03 - Marysville\", \"route_name\": \"The Cameron Park/Shingle Springs Route Loops Around Cameron Park And Shingle Springs Every Hour From 6:30 Am To 7:20 Pm Monday Through Friday, Providing Transfers To The 50 Express And Sacramento Commuter At Cambridge Road Park & Ride.\", \"route_short_name\": \"40\", \"route_id2\": \"40\", \"cutoff2\": 20, \"cutoff\": 0}, {\"calitp_itp_id\": 101, \"trip_key\": 9059663799259391970, \"trip_id\": \"t_1949345_b_33026_tn_11\", \"shape_id\": \"p_900110\", \"route_id\": \"1964\", \"service_hours\": 0.83, \"trip_first_departure_ts\": 59400, \"trip_last_arrival_ts\": 62400, \"departure_hour\": 16, \"time_of_day\": \"Midday\", \"p25\": 0.83, \"p50\": 0.83, \"p75\": 0.83, \"p50_trip\": 1, \"fastest_trip\": 0, \"car_duration_hours\": 0.67, \"competitive_route\": 1, \"bus_multiplier\": 1.24, \"bus_difference\": 9.6, \"num_trips\": 13, \"num_competitive\": 13, \"pct_trips_competitive\": 1.0, \"bus_difference_spread\": 0.0, \"route_group\": \"short\", \"max_trip_hrs\": 0.83, \"max_trip_route_group\": 0.83, \"below_cutoff\": 13, \"pct_below_cutoff\": 1.0, \"calitp_agency_name\": \"El Dorado Transit\", \"caltrans_district\": \"03 - Marysville\", \"route_name\": \"The Cameron Park/Shingle Springs Route Loops Around Cameron Park And Shingle Springs Every Hour From 6:30 Am To 7:20 Pm Monday Through Friday, Providing Transfers To The 50 Express And Sacramento Commuter At Cambridge Road Park & Ride.\", \"route_short_name\": \"40\", \"route_id2\": \"40\", \"cutoff2\": 20, \"cutoff\": 0}, {\"calitp_itp_id\": 101, \"trip_key\": -8730324538941679002, \"trip_id\": \"t_1949345_b_33026_tn_7\", \"shape_id\": \"p_900110\", \"route_id\": \"1964\", \"service_hours\": 0.83, \"trip_first_departure_ts\": 45000, \"trip_last_arrival_ts\": 48000, \"departure_hour\": 12, \"time_of_day\": \"Midday\", \"p25\": 0.83, \"p50\": 0.83, \"p75\": 0.83, \"p50_trip\": 1, \"fastest_trip\": 0, \"car_duration_hours\": 0.67, \"competitive_route\": 1, \"bus_multiplier\": 1.24, \"bus_difference\": 9.6, \"num_trips\": 13, \"num_competitive\": 13, \"pct_trips_competitive\": 1.0, \"bus_difference_spread\": 0.0, \"route_group\": \"short\", \"max_trip_hrs\": 0.83, \"max_trip_route_group\": 0.83, \"below_cutoff\": 13, \"pct_below_cutoff\": 1.0, \"calitp_agency_name\": \"El Dorado Transit\", \"caltrans_district\": \"03 - Marysville\", \"route_name\": \"The Cameron Park/Shingle Springs Route Loops Around Cameron Park And Shingle Springs Every Hour From 6:30 Am To 7:20 Pm Monday Through Friday, Providing Transfers To The 50 Express And Sacramento Commuter At Cambridge Road Park & Ride.\", \"route_short_name\": \"40\", \"route_id2\": \"40\", \"cutoff2\": 20, \"cutoff\": 0}, {\"calitp_itp_id\": 101, \"trip_key\": -6245991094429242628, \"trip_id\": \"t_1949345_b_33026_tn_4\", \"shape_id\": \"p_900110\", \"route_id\": \"1964\", \"service_hours\": 0.83, \"trip_first_departure_ts\": 34200, \"trip_last_arrival_ts\": 37200, \"departure_hour\": 9, \"time_of_day\": \"AM Peak\", \"p25\": 0.83, \"p50\": 0.83, \"p75\": 0.83, \"p50_trip\": 1, \"fastest_trip\": 0, \"car_duration_hours\": 0.67, \"competitive_route\": 1, \"bus_multiplier\": 1.24, \"bus_difference\": 9.6, \"num_trips\": 13, \"num_competitive\": 13, \"pct_trips_competitive\": 1.0, \"bus_difference_spread\": 0.0, \"route_group\": \"short\", \"max_trip_hrs\": 0.83, \"max_trip_route_group\": 0.83, \"below_cutoff\": 13, \"pct_below_cutoff\": 1.0, \"calitp_agency_name\": \"El Dorado Transit\", \"caltrans_district\": \"03 - Marysville\", \"route_name\": \"The Cameron Park/Shingle Springs Route Loops Around Cameron Park And Shingle Springs Every Hour From 6:30 Am To 7:20 Pm Monday Through Friday, Providing Transfers To The 50 Express And Sacramento Commuter At Cambridge Road Park & Ride.\", \"route_short_name\": \"40\", \"route_id2\": \"40\", \"cutoff2\": 20, \"cutoff\": 0}, {\"calitp_itp_id\": 101, \"trip_key\": -7527511487602000932, \"trip_id\": \"t_1949345_b_33026_tn_2\", \"shape_id\": \"p_900110\", \"route_id\": \"1964\", \"service_hours\": 0.83, \"trip_first_departure_ts\": 27000, \"trip_last_arrival_ts\": 30000, \"departure_hour\": 7, \"time_of_day\": \"AM Peak\", \"p25\": 0.83, \"p50\": 0.83, \"p75\": 0.83, \"p50_trip\": 1, \"fastest_trip\": 0, \"car_duration_hours\": 0.67, \"competitive_route\": 1, \"bus_multiplier\": 1.24, \"bus_difference\": 9.6, \"num_trips\": 13, \"num_competitive\": 13, \"pct_trips_competitive\": 1.0, \"bus_difference_spread\": 0.0, \"route_group\": \"short\", \"max_trip_hrs\": 0.83, \"max_trip_route_group\": 0.83, \"below_cutoff\": 13, \"pct_below_cutoff\": 1.0, \"calitp_agency_name\": \"El Dorado Transit\", \"caltrans_district\": \"03 - Marysville\", \"route_name\": \"The Cameron Park/Shingle Springs Route Loops Around Cameron Park And Shingle Springs Every Hour From 6:30 Am To 7:20 Pm Monday Through Friday, Providing Transfers To The 50 Express And Sacramento Commuter At Cambridge Road Park & Ride.\", \"route_short_name\": \"40\", \"route_id2\": \"40\", \"cutoff2\": 20, \"cutoff\": 0}, {\"calitp_itp_id\": 101, \"trip_key\": 1089663269691573578, \"trip_id\": \"t_1949345_b_33026_tn_3\", \"shape_id\": \"p_900110\", \"route_id\": \"1964\", \"service_hours\": 0.83, \"trip_first_departure_ts\": 30600, \"trip_last_arrival_ts\": 33600, \"departure_hour\": 8, \"time_of_day\": \"AM Peak\", \"p25\": 0.83, \"p50\": 0.83, \"p75\": 0.83, \"p50_trip\": 1, \"fastest_trip\": 0, \"car_duration_hours\": 0.67, \"competitive_route\": 1, \"bus_multiplier\": 1.24, \"bus_difference\": 9.6, \"num_trips\": 13, \"num_competitive\": 13, \"pct_trips_competitive\": 1.0, \"bus_difference_spread\": 0.0, \"route_group\": \"short\", \"max_trip_hrs\": 0.83, \"max_trip_route_group\": 0.83, \"below_cutoff\": 13, \"pct_below_cutoff\": 1.0, \"calitp_agency_name\": \"El Dorado Transit\", \"caltrans_district\": \"03 - Marysville\", \"route_name\": \"The Cameron Park/Shingle Springs Route Loops Around Cameron Park And Shingle Springs Every Hour From 6:30 Am To 7:20 Pm Monday Through Friday, Providing Transfers To The 50 Express And Sacramento Commuter At Cambridge Road Park & Ride.\", \"route_short_name\": \"40\", \"route_id2\": \"40\", \"cutoff2\": 20, \"cutoff\": 0}, {\"calitp_itp_id\": 101, \"trip_key\": -3312056840168873462, \"trip_id\": \"t_1949371_b_33026_tn_0\", \"shape_id\": \"p_900110\", \"route_id\": \"1964\", \"service_hours\": 0.83, \"trip_first_departure_ts\": 66600, \"trip_last_arrival_ts\": 69600, \"departure_hour\": 18, \"time_of_day\": \"PM Peak\", \"p25\": 0.83, \"p50\": 0.83, \"p75\": 0.83, \"p50_trip\": 1, \"fastest_trip\": 1, \"car_duration_hours\": 0.67, \"competitive_route\": 1, \"bus_multiplier\": 1.24, \"bus_difference\": 9.6, \"num_trips\": 13, \"num_competitive\": 13, \"pct_trips_competitive\": 1.0, \"bus_difference_spread\": 0.0, \"route_group\": \"short\", \"max_trip_hrs\": 0.83, \"max_trip_route_group\": 0.83, \"below_cutoff\": 13, \"pct_below_cutoff\": 1.0, \"calitp_agency_name\": \"El Dorado Transit\", \"caltrans_district\": \"03 - Marysville\", \"route_name\": \"The Cameron Park/Shingle Springs Route Loops Around Cameron Park And Shingle Springs Every Hour From 6:30 Am To 7:20 Pm Monday Through Friday, Providing Transfers To The 50 Express And Sacramento Commuter At Cambridge Road Park & Ride.\", \"route_short_name\": \"40\", \"route_id2\": \"40\", \"cutoff2\": 20, \"cutoff\": 0}, {\"calitp_itp_id\": 101, \"trip_key\": -2078287682764917090, \"trip_id\": \"t_1949345_b_33026_tn_5\", \"shape_id\": \"p_900110\", \"route_id\": \"1964\", \"service_hours\": 0.83, \"trip_first_departure_ts\": 37800, \"trip_last_arrival_ts\": 40800, \"departure_hour\": 10, \"time_of_day\": \"Midday\", \"p25\": 0.83, \"p50\": 0.83, \"p75\": 0.83, \"p50_trip\": 1, \"fastest_trip\": 0, \"car_duration_hours\": 0.67, \"competitive_route\": 1, \"bus_multiplier\": 1.24, \"bus_difference\": 9.6, \"num_trips\": 13, \"num_competitive\": 13, \"pct_trips_competitive\": 1.0, \"bus_difference_spread\": 0.0, \"route_group\": \"short\", \"max_trip_hrs\": 0.83, \"max_trip_route_group\": 0.83, \"below_cutoff\": 13, \"pct_below_cutoff\": 1.0, \"calitp_agency_name\": \"El Dorado Transit\", \"caltrans_district\": \"03 - Marysville\", \"route_name\": \"The Cameron Park/Shingle Springs Route Loops Around Cameron Park And Shingle Springs Every Hour From 6:30 Am To 7:20 Pm Monday Through Friday, Providing Transfers To The 50 Express And Sacramento Commuter At Cambridge Road Park & Ride.\", \"route_short_name\": \"40\", \"route_id2\": \"40\", \"cutoff2\": 20, \"cutoff\": 0}, {\"calitp_itp_id\": 101, \"trip_key\": -7912371547199080727, \"trip_id\": \"t_1949345_b_33026_tn_10\", \"shape_id\": \"p_900110\", \"route_id\": \"1964\", \"service_hours\": 0.83, \"trip_first_departure_ts\": 55800, \"trip_last_arrival_ts\": 58800, \"departure_hour\": 15, \"time_of_day\": \"Midday\", \"p25\": 0.83, \"p50\": 0.83, \"p75\": 0.83, \"p50_trip\": 1, \"fastest_trip\": 0, \"car_duration_hours\": 0.67, \"competitive_route\": 1, \"bus_multiplier\": 1.24, \"bus_difference\": 9.6, \"num_trips\": 13, \"num_competitive\": 13, \"pct_trips_competitive\": 1.0, \"bus_difference_spread\": 0.0, \"route_group\": \"short\", \"max_trip_hrs\": 0.83, \"max_trip_route_group\": 0.83, \"below_cutoff\": 13, \"pct_below_cutoff\": 1.0, \"calitp_agency_name\": \"El Dorado Transit\", \"caltrans_district\": \"03 - Marysville\", \"route_name\": \"The Cameron Park/Shingle Springs Route Loops Around Cameron Park And Shingle Springs Every Hour From 6:30 Am To 7:20 Pm Monday Through Friday, Providing Transfers To The 50 Express And Sacramento Commuter At Cambridge Road Park & Ride.\", \"route_short_name\": \"40\", \"route_id2\": \"40\", \"cutoff2\": 20, \"cutoff\": 0}, {\"calitp_itp_id\": 101, \"trip_key\": -7333578826763889771, \"trip_id\": \"t_1949345_b_33026_tn_6\", \"shape_id\": \"p_900110\", \"route_id\": \"1964\", \"service_hours\": 0.83, \"trip_first_departure_ts\": 41400, \"trip_last_arrival_ts\": 44400, \"departure_hour\": 11, \"time_of_day\": \"Midday\", \"p25\": 0.83, \"p50\": 0.83, \"p75\": 0.83, \"p50_trip\": 1, \"fastest_trip\": 0, \"car_duration_hours\": 0.67, \"competitive_route\": 1, \"bus_multiplier\": 1.24, \"bus_difference\": 9.6, \"num_trips\": 13, \"num_competitive\": 13, \"pct_trips_competitive\": 1.0, \"bus_difference_spread\": 0.0, \"route_group\": \"short\", \"max_trip_hrs\": 0.83, \"max_trip_route_group\": 0.83, \"below_cutoff\": 13, \"pct_below_cutoff\": 1.0, \"calitp_agency_name\": \"El Dorado Transit\", \"caltrans_district\": \"03 - Marysville\", \"route_name\": \"The Cameron Park/Shingle Springs Route Loops Around Cameron Park And Shingle Springs Every Hour From 6:30 Am To 7:20 Pm Monday Through Friday, Providing Transfers To The 50 Express And Sacramento Commuter At Cambridge Road Park & Ride.\", \"route_short_name\": \"40\", \"route_id2\": \"40\", \"cutoff2\": 20, \"cutoff\": 0}]}}, {\"mode\": \"vega-lite\"});\n",
       "</script>"
      ],
      "text/plain": [
       "alt.FacetChart(...)"
      ]
     },
     "metadata": {},
     "output_type": "display_data"
    },
    {
     "data": {
      "text/html": [
       "<h4>Route Stats</h4>"
      ],
      "text/plain": [
       "<IPython.core.display.HTML object>"
      ]
     },
     "metadata": {},
     "output_type": "display_data"
    },
    {
     "data": {
      "text/html": [
       "<style type=\"text/css\">\n",
       "#T_1b477 th {\n",
       "  text-align: center;\n",
       "}\n",
       "#T_1b477_row0_col0, #T_1b477_row0_col1, #T_1b477_row1_col0, #T_1b477_row1_col1, #T_1b477_row2_col0, #T_1b477_row2_col1, #T_1b477_row3_col0, #T_1b477_row3_col1 {\n",
       "  text-align: left;\n",
       "}\n",
       "#T_1b477_row0_col2, #T_1b477_row0_col3, #T_1b477_row0_col5, #T_1b477_row1_col2, #T_1b477_row1_col3, #T_1b477_row1_col5, #T_1b477_row2_col2, #T_1b477_row2_col3, #T_1b477_row2_col5, #T_1b477_row3_col2, #T_1b477_row3_col3, #T_1b477_row3_col5 {\n",
       "  text-align: center;\n",
       "}\n",
       "</style>\n",
       "<table id=\"T_1b477\">\n",
       "  <thead>\n",
       "    <tr>\n",
       "      <th id=\"T_1b477_level0_col0\" class=\"col_heading level0 col0\" >Route ID</th>\n",
       "      <th id=\"T_1b477_level0_col1\" class=\"col_heading level0 col1\" >Route Name</th>\n",
       "      <th id=\"T_1b477_level0_col2\" class=\"col_heading level0 col2\" ># trips</th>\n",
       "      <th id=\"T_1b477_level0_col3\" class=\"col_heading level0 col3\" >Daily Avg Freq (trips per hr)</th>\n",
       "      <th id=\"T_1b477_level0_col4\" class=\"col_heading level0 col4\" >25th, 50th, 75th ptile (hrs)</th>\n",
       "      <th id=\"T_1b477_level0_col5\" class=\"col_heading level0 col5\" >PM Peak Avg Freq (trips per hr)</th>\n",
       "    </tr>\n",
       "  </thead>\n",
       "  <tbody>\n",
       "    <tr>\n",
       "      <td id=\"T_1b477_row0_col0\" class=\"data row0 col0\" >60</td>\n",
       "      <td id=\"T_1b477_row0_col1\" class=\"data row0 col1\" >The Pollock Pines Route Provides Service From The Placerville Station Transfer Center To The Safeway Plaza In Pollock Pines Every Hour From 7:00 Am To 6:55 Pm Monday Through Friday. Service Includes Stops Along The Pony Express Trail.</td>\n",
       "      <td id=\"T_1b477_row0_col2\" class=\"data row0 col2\" >24</td>\n",
       "      <td id=\"T_1b477_row0_col3\" class=\"data row0 col3\" >1.0</td>\n",
       "      <td id=\"T_1b477_row0_col4\" class=\"data row0 col4\" >0.42, 0.42, 0.42</td>\n",
       "      <td id=\"T_1b477_row0_col5\" class=\"data row0 col5\" >1.33</td>\n",
       "    </tr>\n",
       "    <tr>\n",
       "      <td id=\"T_1b477_row1_col0\" class=\"data row1 col0\" >20</td>\n",
       "      <td id=\"T_1b477_row1_col1\" class=\"data row1 col1\" >The Placerville Route Provides Local Service Around The Town Of Placerville From 6:30 Am To 7:25 Pm Monday Through Friday, And Connections To Other El Dorado Transit Routes At The Placerville Station Transfer Center.</td>\n",
       "      <td id=\"T_1b477_row1_col2\" class=\"data row1 col2\" >13</td>\n",
       "      <td id=\"T_1b477_row1_col3\" class=\"data row1 col3\" >0.54</td>\n",
       "      <td id=\"T_1b477_row1_col4\" class=\"data row1 col4\" >0.92, 0.92, 0.92</td>\n",
       "      <td id=\"T_1b477_row1_col5\" class=\"data row1 col5\" >0.67</td>\n",
       "    </tr>\n",
       "    <tr>\n",
       "      <td id=\"T_1b477_row2_col0\" class=\"data row2 col0\" >40</td>\n",
       "      <td id=\"T_1b477_row2_col1\" class=\"data row2 col1\" >The Cameron Park/Shingle Springs Route Loops Around Cameron Park And Shingle Springs Every Hour From 6:30 Am To 7:20 Pm Monday Through Friday, Providing Transfers To The 50 Express And Sacramento Commuter At Cambridge Road Park & Ride.</td>\n",
       "      <td id=\"T_1b477_row2_col2\" class=\"data row2 col2\" >13</td>\n",
       "      <td id=\"T_1b477_row2_col3\" class=\"data row2 col3\" >0.54</td>\n",
       "      <td id=\"T_1b477_row2_col4\" class=\"data row2 col4\" >0.83, 0.83, 0.83</td>\n",
       "      <td id=\"T_1b477_row2_col5\" class=\"data row2 col5\" >0.67</td>\n",
       "    </tr>\n",
       "    <tr>\n",
       "      <td id=\"T_1b477_row3_col0\" class=\"data row3 col0\" >30</td>\n",
       "      <td id=\"T_1b477_row3_col1\" class=\"data row3 col1\" >The Diamond Springs Route Loops Around Diamond Springs, Including Service To The El Dorado Campus Of Folsom Lake College, Hourly Monday Through Friday From 7:00 Am To 7:00 Pm.</td>\n",
       "      <td id=\"T_1b477_row3_col2\" class=\"data row3 col2\" >12</td>\n",
       "      <td id=\"T_1b477_row3_col3\" class=\"data row3 col3\" >0.5</td>\n",
       "      <td id=\"T_1b477_row3_col4\" class=\"data row3 col4\" >0.92, 0.92, 0.92</td>\n",
       "      <td id=\"T_1b477_row3_col5\" class=\"data row3 col5\" >0.67</td>\n",
       "    </tr>\n",
       "  </tbody>\n",
       "</table>\n"
      ],
      "text/plain": [
       "<IPython.core.display.HTML object>"
      ]
     },
     "metadata": {},
     "output_type": "display_data"
    }
   ],
   "source": [
    "route_group = \"short\"\n",
    "display_charts_for_route_group(df, route_group)"
   ]
  },
  {
   "cell_type": "markdown",
   "id": "c2931b6f-034d-4384-9e14-80b925e3b820",
   "metadata": {
    "papermill": {
     "duration": 0.020599,
     "end_time": "2022-06-03T21:46:59.802326",
     "exception": false,
     "start_time": "2022-06-03T21:46:59.781727",
     "status": "completed"
    },
    "tags": []
   },
   "source": [
    "### Medium Routes (1-1.5 hrs)"
   ]
  },
  {
   "cell_type": "code",
   "execution_count": 15,
   "id": "480edddc-4de0-48c2-ae4c-b0ceef8f28b5",
   "metadata": {
    "execution": {
     "iopub.execute_input": "2022-06-03T21:46:59.850656Z",
     "iopub.status.busy": "2022-06-03T21:46:59.850340Z",
     "iopub.status.idle": "2022-06-03T21:46:59.863470Z",
     "shell.execute_reply": "2022-06-03T21:46:59.862603Z"
    },
    "jupyter": {
     "source_hidden": true
    },
    "papermill": {
     "duration": 0.041867,
     "end_time": "2022-06-03T21:46:59.865885",
     "exception": false,
     "start_time": "2022-06-03T21:46:59.824018",
     "status": "completed"
    },
    "tags": [
     "remove_input"
    ]
   },
   "outputs": [
    {
     "name": "stdout",
     "output_type": "stream",
     "text": [
      "No routes meet this criteria.\n"
     ]
    }
   ],
   "source": [
    "route_group = \"medium\"\n",
    "display_charts_for_route_group(df, route_group)"
   ]
  },
  {
   "cell_type": "markdown",
   "id": "124b76d0-886c-4d03-92ac-f1bda3cda182",
   "metadata": {
    "papermill": {
     "duration": 0.02028,
     "end_time": "2022-06-03T21:46:59.906057",
     "exception": false,
     "start_time": "2022-06-03T21:46:59.885777",
     "status": "completed"
    },
    "tags": []
   },
   "source": [
    "### Long Routes (> 1.5 hrs)"
   ]
  },
  {
   "cell_type": "code",
   "execution_count": 16,
   "id": "ddc81b19-4c45-4c81-8b7a-5e0f394aa7a3",
   "metadata": {
    "execution": {
     "iopub.execute_input": "2022-06-03T21:46:59.955266Z",
     "iopub.status.busy": "2022-06-03T21:46:59.954601Z",
     "iopub.status.idle": "2022-06-03T21:46:59.967283Z",
     "shell.execute_reply": "2022-06-03T21:46:59.966482Z"
    },
    "jupyter": {
     "source_hidden": true
    },
    "papermill": {
     "duration": 0.042343,
     "end_time": "2022-06-03T21:46:59.969318",
     "exception": false,
     "start_time": "2022-06-03T21:46:59.926975",
     "status": "completed"
    },
    "tags": [
     "remove_input"
    ]
   },
   "outputs": [
    {
     "name": "stdout",
     "output_type": "stream",
     "text": [
      "No routes meet this criteria.\n"
     ]
    }
   ],
   "source": [
    "route_group = \"long\"\n",
    "display_charts_for_route_group(df, route_group)"
   ]
  },
  {
   "cell_type": "markdown",
   "id": "ace75b5f-0442-4fbe-aebd-6c3a13ae13a7",
   "metadata": {
    "papermill": {
     "duration": 0.01983,
     "end_time": "2022-06-03T21:47:00.011952",
     "exception": false,
     "start_time": "2022-06-03T21:46:59.992122",
     "status": "completed"
    },
    "tags": []
   },
   "source": [
    "### GTFS Real-Time Speedmaps"
   ]
  },
  {
   "cell_type": "code",
   "execution_count": 17,
   "id": "a0a114a1-e975-4027-9daf-50029f5ef59f",
   "metadata": {
    "execution": {
     "iopub.execute_input": "2022-06-03T21:47:00.062516Z",
     "iopub.status.busy": "2022-06-03T21:47:00.061729Z",
     "iopub.status.idle": "2022-06-03T21:47:00.085708Z",
     "shell.execute_reply": "2022-06-03T21:47:00.084675Z"
    },
    "jupyter": {
     "source_hidden": true
    },
    "papermill": {
     "duration": 0.054913,
     "end_time": "2022-06-03T21:47:00.088125",
     "exception": false,
     "start_time": "2022-06-03T21:47:00.033212",
     "status": "completed"
    },
    "tags": [
     "remove_input"
    ]
   },
   "outputs": [
    {
     "data": {
      "text/html": [
       "No GTFS RT data available."
      ],
      "text/plain": [
       "<IPython.core.display.HTML object>"
      ]
     },
     "metadata": {},
     "output_type": "display_data"
    }
   ],
   "source": [
    "RT_SITE_YAML = \"../portfolio/sites/rt.yml\"\n",
    "\n",
    "# Grab list of ITP IDs with GTFS RT speedmaps\n",
    "rt_itp_id = deploy_portfolio_yaml.check_if_rt_data_available(RT_SITE_YAML)\n",
    "\n",
    "# Construct the URL \n",
    "RT_URL = (\"https://analysis.calitp.org/rt/\"\n",
    "          f\"district_{district_number}-{district_name}/\"\n",
    "          f\"speedmaps__itp_id_{itp_id}.html\"\n",
    "         ) \n",
    "\n",
    "# If this ITP ID is found in RT analysis, give URL to that operator in analysis.calitp.org\n",
    "if itp_id in rt_itp_id:\n",
    "    display(HTML(f'''<a href={RT_URL}>GTFS RT speedmaps here.</a>'''))\n",
    "\n",
    "else:\n",
    "    display(HTML(\"No GTFS RT data available.\"))"
   ]
  },
  {
   "cell_type": "code",
   "execution_count": null,
   "id": "5b680565-2230-4f2e-817c-718fad48d64c",
   "metadata": {
    "jupyter": {
     "source_hidden": true
    },
    "papermill": {
     "duration": 0.028866,
     "end_time": "2022-06-03T21:47:00.140337",
     "exception": false,
     "start_time": "2022-06-03T21:47:00.111471",
     "status": "completed"
    },
    "tags": [
     "remove_input"
    ]
   },
   "outputs": [],
   "source": []
  }
 ],
 "metadata": {
  "kernelspec": {
   "display_name": "Python 3 (ipykernel)",
   "language": "python",
   "name": "python3"
  },
  "language_info": {
   "codemirror_mode": {
    "name": "ipython",
    "version": 3
   },
   "file_extension": ".py",
   "mimetype": "text/x-python",
   "name": "python",
   "nbconvert_exporter": "python",
   "pygments_lexer": "ipython3",
   "version": "3.9.12"
  },
  "papermill": {
   "default_parameters": {},
   "duration": 25.650941,
   "end_time": "2022-06-03T21:47:01.495310",
   "environment_variables": {},
   "exception": null,
   "input_path": "bus_service_increase/competitive-parallel-routes.ipynb",
   "output_path": "portfolio/parallel_corridors/district_03-marysville/0__competitive-parallel-routes__district_03-marysville__itp_id_101.ipynb",
   "parameters": {
    "district": "03 - Marysville",
    "itp_id": 101
   },
   "start_time": "2022-06-03T21:46:35.844369",
   "version": "2.3.4"
  }
 },
 "nbformat": 4,
 "nbformat_minor": 5
}