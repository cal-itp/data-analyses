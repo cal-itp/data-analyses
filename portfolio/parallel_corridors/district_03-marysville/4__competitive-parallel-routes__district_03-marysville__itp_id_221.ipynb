{
 "cells": [
  {
   "cell_type": "code",
   "execution_count": 1,
   "id": "95d00857-6a20-4529-a519-2cc7182928a9",
   "metadata": {
    "execution": {
     "iopub.execute_input": "2022-05-12T19:05:40.885592Z",
     "iopub.status.busy": "2022-05-12T19:05:40.885006Z",
     "iopub.status.idle": "2022-05-12T19:05:49.364143Z",
     "shell.execute_reply": "2022-05-12T19:05:49.358995Z"
    },
    "jupyter": {
     "source_hidden": true
    },
    "papermill": {
     "duration": 8.497127,
     "end_time": "2022-05-12T19:05:49.366783",
     "exception": false,
     "start_time": "2022-05-12T19:05:40.869656",
     "status": "completed"
    },
    "tags": [
     "remove_input"
    ]
   },
   "outputs": [],
   "source": [
    "%%capture\n",
    "import warnings\n",
    "warnings.filterwarnings('ignore')\n",
    "\n",
    "import altair as alt\n",
    "import calitp.magics\n",
    "import geopandas as gpd\n",
    "import intake\n",
    "import pandas as pd\n",
    "\n",
    "from IPython.display import display, Markdown, HTML\n",
    "\n",
    "import parallel_corridors_utils\n",
    "import deploy_portfolio_yaml\n",
    "from shared_utils import styleguide, geography_utils\n",
    "from make_stripplot_data import diff_cutoffs\n",
    "\n",
    "catalog = intake.open_catalog(\"./*.yml\")\n",
    "alt.renderers.enable(\"html\")"
   ]
  },
  {
   "cell_type": "code",
   "execution_count": 2,
   "id": "8af2a0c1-f3da-408d-9bea-11d9fbf8695d",
   "metadata": {
    "execution": {
     "iopub.execute_input": "2022-05-12T19:05:49.392969Z",
     "iopub.status.busy": "2022-05-12T19:05:49.392141Z",
     "iopub.status.idle": "2022-05-12T19:05:49.396426Z",
     "shell.execute_reply": "2022-05-12T19:05:49.395575Z"
    },
    "jupyter": {
     "source_hidden": true
    },
    "papermill": {
     "duration": 0.019673,
     "end_time": "2022-05-12T19:05:49.398598",
     "exception": false,
     "start_time": "2022-05-12T19:05:49.378925",
     "status": "completed"
    },
    "tags": [
     "parameters",
     "remove_input"
    ]
   },
   "outputs": [],
   "source": [
    "# parameters cell\n",
    "itp_id = 182"
   ]
  },
  {
   "cell_type": "code",
   "execution_count": 3,
   "id": "399324bf",
   "metadata": {
    "execution": {
     "iopub.execute_input": "2022-05-12T19:05:49.425952Z",
     "iopub.status.busy": "2022-05-12T19:05:49.425086Z",
     "iopub.status.idle": "2022-05-12T19:05:49.429688Z",
     "shell.execute_reply": "2022-05-12T19:05:49.428913Z"
    },
    "jupyter": {
     "source_hidden": true
    },
    "papermill": {
     "duration": 0.020236,
     "end_time": "2022-05-12T19:05:49.431448",
     "exception": false,
     "start_time": "2022-05-12T19:05:49.411212",
     "status": "completed"
    },
    "tags": [
     "injected-parameters",
     "remove_input"
    ]
   },
   "outputs": [],
   "source": [
    "# Parameters\n",
    "district = \"03 - Marysville\"\n",
    "itp_id = 221\n"
   ]
  },
  {
   "cell_type": "code",
   "execution_count": 4,
   "id": "9582aaf4-79ff-412a-b248-8d8d693ebd4f",
   "metadata": {
    "execution": {
     "iopub.execute_input": "2022-05-12T19:05:49.457384Z",
     "iopub.status.busy": "2022-05-12T19:05:49.457016Z",
     "iopub.status.idle": "2022-05-12T19:05:50.695966Z",
     "shell.execute_reply": "2022-05-12T19:05:50.695171Z"
    },
    "jupyter": {
     "source_hidden": true
    },
    "papermill": {
     "duration": 1.254624,
     "end_time": "2022-05-12T19:05:50.698305",
     "exception": false,
     "start_time": "2022-05-12T19:05:49.443681",
     "status": "completed"
    },
    "tags": [
     "remove_input"
    ]
   },
   "outputs": [],
   "source": [
    "df = catalog.competitive_route_variability.read()\n",
    "\n",
    "df = (df[(df.calitp_itp_id == itp_id) & \n",
    "         (df.route_group.notna())]\n",
    "      .rename(columns = {\"route_name_used\": \"route_name\"})\n",
    "      .reset_index(drop=True)\n",
    "     )\n",
    "\n",
    "if itp_id == 182:\n",
    "    df = df.assign(\n",
    "        route_id = df.route_id.str.replace('-13153', '').astype(int)\n",
    "    )"
   ]
  },
  {
   "cell_type": "code",
   "execution_count": 5,
   "id": "33ac4b06-f647-4dce-a625-8f2c1b37cc60",
   "metadata": {
    "execution": {
     "iopub.execute_input": "2022-05-12T19:05:50.724843Z",
     "iopub.status.busy": "2022-05-12T19:05:50.724564Z",
     "iopub.status.idle": "2022-05-12T19:05:50.732053Z",
     "shell.execute_reply": "2022-05-12T19:05:50.731439Z"
    },
    "jupyter": {
     "source_hidden": true
    },
    "papermill": {
     "duration": 0.02328,
     "end_time": "2022-05-12T19:05:50.733903",
     "exception": false,
     "start_time": "2022-05-12T19:05:50.710623",
     "status": "completed"
    },
    "tags": [
     "remove_input"
    ]
   },
   "outputs": [],
   "source": [
    "%%capture_parameters\n",
    "operator_name = df.name.iloc[0]\n",
    "district_number = f\"{df.caltrans_district.iloc[0].split('-')[0].strip()}\"\n",
    "district_name = f\"{df.caltrans_district.iloc[0].split('-')[1].strip().lower().replace(' ', '-')}\"\n",
    "\n",
    "itp_id, operator_name, district_number, district_name"
   ]
  },
  {
   "cell_type": "markdown",
   "id": "65bc6f5c-8348-42ee-b2dd-52057c406852",
   "metadata": {
    "papermill": {
     "duration": 0.0121,
     "end_time": "2022-05-12T19:05:50.758316",
     "exception": false,
     "start_time": "2022-05-12T19:05:50.746216",
     "status": "completed"
    },
    "tags": []
   },
   "source": [
    "# Nevada County (ITP ID: 221)"
   ]
  },
  {
   "cell_type": "code",
   "execution_count": 6,
   "id": "a689c1ab-2c6c-4831-8d64-897f5986f571",
   "metadata": {
    "execution": {
     "iopub.execute_input": "2022-05-12T19:05:50.784328Z",
     "iopub.status.busy": "2022-05-12T19:05:50.783973Z",
     "iopub.status.idle": "2022-05-12T19:05:50.791770Z",
     "shell.execute_reply": "2022-05-12T19:05:50.791044Z"
    },
    "jupyter": {
     "source_hidden": true
    },
    "papermill": {
     "duration": 0.023382,
     "end_time": "2022-05-12T19:05:50.793680",
     "exception": false,
     "start_time": "2022-05-12T19:05:50.770298",
     "status": "completed"
    },
    "tags": [
     "remove_input"
    ]
   },
   "outputs": [
    {
     "data": {
      "text/html": [
       "<h1>Competitive & Parallel Routes</h1>"
      ],
      "text/plain": [
       "<IPython.core.display.HTML object>"
      ]
     },
     "metadata": {},
     "output_type": "display_data"
    }
   ],
   "source": [
    "display(HTML(\"<h1>Competitive & Parallel Routes</h1>\")) "
   ]
  },
  {
   "cell_type": "code",
   "execution_count": 7,
   "id": "2cb4d8d5-4760-40e4-85b1-cb833d8bb648",
   "metadata": {
    "execution": {
     "iopub.execute_input": "2022-05-12T19:05:50.822435Z",
     "iopub.status.busy": "2022-05-12T19:05:50.822112Z",
     "iopub.status.idle": "2022-05-12T19:06:00.990629Z",
     "shell.execute_reply": "2022-05-12T19:06:00.989818Z"
    },
    "jupyter": {
     "source_hidden": true
    },
    "papermill": {
     "duration": 10.185646,
     "end_time": "2022-05-12T19:06:00.992837",
     "exception": false,
     "start_time": "2022-05-12T19:05:50.807191",
     "status": "completed"
    },
    "tags": [
     "remove_input"
    ]
   },
   "outputs": [],
   "source": [
    "# Grab parameters for narrative text - clean up formatting here \n",
    "district = df.caltrans_district.iloc[0]\n",
    "formatted_date = pd.to_datetime(parallel_corridors_utils.SELECTED_DATE).strftime('%m-%d-%Y')\n",
    "\n",
    "PCT_COMPETITIVE_THRESHOLD = 0.75\n",
    "PCT_TRIPS_BELOW_CUTOFF = 1.0\n",
    "\n",
    "stats = parallel_corridors_utils.operator_parallel_competitive_stats(\n",
    "    itp_id, PCT_COMPETITIVE_THRESHOLD, PCT_TRIPS_BELOW_CUTOFF)\n",
    "\n",
    "pct_parallel = round(stats['parallel_routes'] / stats['num_routes'] * 100, 1 )\n",
    "pct_competitive =  round(stats['competitive_routes'] / stats['num_routes'] * 100, 1 )\n",
    "pct_viable =  round(stats['viable_competitive_routes'] / stats['num_routes'] * 100, 1 )"
   ]
  },
  {
   "cell_type": "code",
   "execution_count": 8,
   "id": "8bf30c8f-6aa5-47bb-82ae-a906732e81fd",
   "metadata": {
    "execution": {
     "iopub.execute_input": "2022-05-12T19:06:01.023716Z",
     "iopub.status.busy": "2022-05-12T19:06:01.023445Z",
     "iopub.status.idle": "2022-05-12T19:06:01.053648Z",
     "shell.execute_reply": "2022-05-12T19:06:01.052751Z"
    },
    "jupyter": {
     "source_hidden": true
    },
    "papermill": {
     "duration": 0.048687,
     "end_time": "2022-05-12T19:06:01.055675",
     "exception": false,
     "start_time": "2022-05-12T19:06:01.006988",
     "status": "completed"
    },
    "tags": [
     "remove_input"
    ]
   },
   "outputs": [],
   "source": [
    "# Display a table of route-level stats for each route_group\n",
    "# Displaying route_name makes chart too crowded\n",
    "\n",
    "# Get route stats (for entire df)\n",
    "route_stats = parallel_corridors_utils.competitive_route_level_stats(df)\n",
    "    \n",
    "def style_route_stats(df, top15_routes):\n",
    "    df = df[df.route_id.isin(top15_routes)]\n",
    "    \n",
    "    # Rename columns for display\n",
    "    rename_cols = {\n",
    "        \"route_id\": \"Route ID\",\n",
    "        \"route_name\": \"Route Name\",\n",
    "        \"route_group\": \"Route Group\",\n",
    "        \"num_trips\": \"# trips\",\n",
    "        \"daily_avg_freq\": \"Daily Avg Freq (trips per hr)\",\n",
    "        \"pm_peak_freq\": \"PM Peak Avg Freq (trips per hr)\",\n",
    "        \"percentiles\": \"25th, 50th, 75th ptile (hrs)\",\n",
    "    }\n",
    "    \n",
    "    # Style it\n",
    "    drop_cols = [\n",
    "        \"calitp_itp_id\", \"below_cutoff\", \"route_group\", \n",
    "        \"pct_trips_competitive\", \"pct_below_cutoff\",\n",
    "        \"p25\", \"p50\", \"p75\",\n",
    "    ]\n",
    "    \n",
    "    # Change alignment for some columns\n",
    "    # https://stackoverflow.com/questions/59453091/left-align-the-first-column-and-center-align-the-other-columns-in-a-pandas-table\n",
    "    df_style = (df.sort_values(\n",
    "        [\"pct_trips_competitive\", \"below_cutoff\", \n",
    "        \"pct_below_cutoff\", \"route_id\"], \n",
    "        ascending=[False, False, False, True])\n",
    "           .drop(columns = drop_cols)\n",
    "           .rename(columns = rename_cols)\n",
    "           .style.format(\n",
    "               subset=['Daily Avg Freq (trips per hr)', \n",
    "                       'PM Peak Avg Freq (trips per hr)'], \n",
    "               **{'formatter': '{:,.3}'})\n",
    "                .set_properties(subset=['Route ID', 'Route Name'], \n",
    "                                **{'text-align': 'left'})\n",
    "                .set_properties(subset=['# trips', 'Daily Avg Freq (trips per hr)', \n",
    "                                       'PM Peak Avg Freq (trips per hr)'], \n",
    "                               **{'text-align': 'center'})\n",
    "                .set_table_styles([dict(selector='th', \n",
    "                                        props=[('text-align', 'center')])\n",
    "                                        ])\n",
    "           .hide(axis=\"index\")\n",
    "           .to_html()\n",
    "          )\n",
    "    \n",
    "    display(HTML(\"<h4>Route Stats</h4>\"))\n",
    "    display(HTML(df_style))"
   ]
  },
  {
   "cell_type": "markdown",
   "id": "ab667928-5274-4490-82d9-4c39293209a4",
   "metadata": {
    "papermill": {
     "duration": 0.013147,
     "end_time": "2022-05-12T19:06:01.082827",
     "exception": false,
     "start_time": "2022-05-12T19:06:01.069680",
     "status": "completed"
    },
    "tags": []
   },
   "source": [
    "## Quick Stats"
   ]
  },
  {
   "cell_type": "code",
   "execution_count": 9,
   "id": "0416509d-dc62-4165-b62e-64f8b26e8b8e",
   "metadata": {
    "execution": {
     "iopub.execute_input": "2022-05-12T19:06:01.115516Z",
     "iopub.status.busy": "2022-05-12T19:06:01.115171Z",
     "iopub.status.idle": "2022-05-12T19:06:01.121307Z",
     "shell.execute_reply": "2022-05-12T19:06:01.120537Z"
    },
    "jupyter": {
     "source_hidden": true
    },
    "papermill": {
     "duration": 0.022565,
     "end_time": "2022-05-12T19:06:01.123032",
     "exception": false,
     "start_time": "2022-05-12T19:06:01.100467",
     "status": "completed"
    },
    "tags": [
     "remove_input"
    ]
   },
   "outputs": [
    {
     "data": {
      "text/markdown": [
       "**Bus routes in service: 7**<br>**Parallel routes** to State Highway Network (SHN): **7 routes (100.0%)**<br>**Competitive routes** against car travel (within 2x car travel time): **5 routes (71.4%)**<br>**Viable competitive routes** against car travel (within 2x car travel time and within 20, 30, or 40 min cut-off): **3 routes (42.9%)**"
      ],
      "text/plain": [
       "<IPython.core.display.Markdown object>"
      ]
     },
     "metadata": {},
     "output_type": "display_data"
    }
   ],
   "source": [
    "display(\n",
    "    Markdown(\n",
    "        f\"**Bus routes in service: {stats['num_routes']}**\"\n",
    "        \"<br>**Parallel routes** to State Highway Network (SHN): \"\n",
    "        f\"**{stats['parallel_routes']} routes ({pct_parallel}%)**\"\n",
    "        \"<br>**Competitive routes** against car travel (within 2x car travel time): \"\n",
    "        f\"**{stats['competitive_routes']} routes ({pct_competitive}%)**\"\n",
    "        \"<br>**Viable competitive routes** against car travel \"\n",
    "        \"(within 2x car travel time and within 20, 30, or 40 min cut-off): \"\n",
    "        f\"**{stats['viable_competitive_routes']} routes ({pct_viable}%)**\"\n",
    "    )\n",
    ")"
   ]
  },
  {
   "cell_type": "code",
   "execution_count": 10,
   "id": "f9d6ab58-f0ee-460c-b6de-657490e1f386",
   "metadata": {
    "execution": {
     "iopub.execute_input": "2022-05-12T19:06:01.151212Z",
     "iopub.status.busy": "2022-05-12T19:06:01.150701Z",
     "iopub.status.idle": "2022-05-12T19:06:01.156908Z",
     "shell.execute_reply": "2022-05-12T19:06:01.156361Z"
    },
    "jupyter": {
     "source_hidden": true
    },
    "papermill": {
     "duration": 0.022595,
     "end_time": "2022-05-12T19:06:01.158640",
     "exception": false,
     "start_time": "2022-05-12T19:06:01.136045",
     "status": "completed"
    },
    "tags": [
     "remove_input"
    ]
   },
   "outputs": [],
   "source": [
    "def set_yaxis_range(df, y_col):\n",
    "    Y_MIN = df[y_col].min()\n",
    "    Y_MAX = df[y_col].max()\n",
    "    \n",
    "    return Y_MIN, Y_MAX\n",
    "\n",
    "# Rather than set it according to the operator, which can vary,\n",
    "# just use set thresholds for each group\n",
    "def top15_routes(df, route_group):\n",
    "    # grab top 15 routes where majority of trips are below that cut-off \n",
    "    # but show 15 max, otherwise, show less, since these won't be as interesting to operators\n",
    "    df2 = (df[(df.route_group==route_group) &\n",
    "              (df.pct_below_cutoff >= PCT_TRIPS_BELOW_CUTOFF)]\n",
    "           .sort_values([\"calitp_itp_id\", \"below_cutoff\", \n",
    "                         \"pct_below_cutoff\", \"route_id\"],\n",
    "                        ascending = [True, False, False, True]\n",
    "                       )\n",
    "           .drop_duplicates(subset=[\"calitp_itp_id\", \"route_id\"])\n",
    "          ).head(15)\n",
    "    \n",
    "    return list(df2.route_id)"
   ]
  },
  {
   "cell_type": "code",
   "execution_count": 11,
   "id": "cf36d559-3349-4144-8086-8ac9ce937a5a",
   "metadata": {
    "execution": {
     "iopub.execute_input": "2022-05-12T19:06:01.193827Z",
     "iopub.status.busy": "2022-05-12T19:06:01.193323Z",
     "iopub.status.idle": "2022-05-12T19:06:01.198675Z",
     "shell.execute_reply": "2022-05-12T19:06:01.198171Z"
    },
    "jupyter": {
     "source_hidden": true
    },
    "papermill": {
     "duration": 0.028491,
     "end_time": "2022-05-12T19:06:01.200393",
     "exception": false,
     "start_time": "2022-05-12T19:06:01.171902",
     "status": "completed"
    },
    "tags": [
     "remove_input"
    ]
   },
   "outputs": [],
   "source": [
    "def caption_with_cutoff(cutoff):\n",
    "    sentence = (\n",
    "        f\"<br>These are routes that have **{int(PCT_TRIPS_BELOW_CUTOFF*100)}% \"\n",
    "        \"of their trips take no more than an \"\n",
    "        f\"additional {cutoff} min** compared to a car \"\n",
    "        \"(up to 15 routes) are shown.\"\n",
    "        \"<br>Within each route group, routes are sorted in descending order \"\n",
    "        \"by % competitive trips and # trips below the additional time cut-off.\"\n",
    "    )\n",
    "    return sentence\n",
    "\n",
    "CAPTIONS_DICT = {\n",
    "    \"short\": caption_with_cutoff(diff_cutoffs['short']),\n",
    "    \"medium\": caption_with_cutoff(diff_cutoffs['medium']),\n",
    "    \"long\": caption_with_cutoff(diff_cutoffs['long']),\n",
    "}"
   ]
  },
  {
   "cell_type": "code",
   "execution_count": 12,
   "id": "e4306d58-6944-47e9-afef-5d5b524c751f",
   "metadata": {
    "execution": {
     "iopub.execute_input": "2022-05-12T19:06:01.230693Z",
     "iopub.status.busy": "2022-05-12T19:06:01.230180Z",
     "iopub.status.idle": "2022-05-12T19:06:01.236831Z",
     "shell.execute_reply": "2022-05-12T19:06:01.236355Z"
    },
    "jupyter": {
     "source_hidden": true
    },
    "papermill": {
     "duration": 0.023363,
     "end_time": "2022-05-12T19:06:01.238520",
     "exception": false,
     "start_time": "2022-05-12T19:06:01.215157",
     "status": "completed"
    },
    "tags": [
     "remove_input"
    ]
   },
   "outputs": [],
   "source": [
    "def setup_charts(df, PCT_COMPETITIVE_THRESHOLD, route_group):\n",
    "    # Set up df for charting (cut-off at some threshold to show most competitive routes)\n",
    "    plot_me = (df[df.pct_trips_competitive > PCT_COMPETITIVE_THRESHOLD]\n",
    "           .drop(columns = \"geometry\")\n",
    "    )\n",
    "    \n",
    "    # Set y-ranges to be the same across route_groups, \n",
    "    # otherwise charts fluctuate too much, even within operator\n",
    "    y_col1 = \"bus_multiplier\"\n",
    "    Y_MIN1, Y_MAX1 = set_yaxis_range(plot_me, y_col1)\n",
    "\n",
    "    y_col2 = \"bus_difference\"\n",
    "    Y_MIN2, Y_MAX2 = set_yaxis_range(plot_me, y_col2)\n",
    "    \n",
    "    # Grab the routes to plot\n",
    "    subset_routes = top15_routes(plot_me, route_group)\n",
    "        \n",
    "    # Display charts\n",
    "    multiplier_chart = parallel_corridors_utils.make_stripplot(\n",
    "        plot_me[plot_me.route_id.isin(subset_routes)], \n",
    "        y_col1, Y_MIN = Y_MIN1, Y_MAX = Y_MAX1\n",
    "    )\n",
    "    \n",
    "    difference_chart = parallel_corridors_utils.make_stripplot(\n",
    "        plot_me[plot_me.route_id.isin(subset_routes)], \n",
    "        y_col2, Y_MIN = Y_MIN2, Y_MAX = Y_MAX2\n",
    "    )\n",
    "    \n",
    "    return subset_routes, multiplier_chart, difference_chart            "
   ]
  },
  {
   "cell_type": "code",
   "execution_count": 13,
   "id": "33a710e8-504c-4942-aa75-ff69f216956e",
   "metadata": {
    "execution": {
     "iopub.execute_input": "2022-05-12T19:06:01.267798Z",
     "iopub.status.busy": "2022-05-12T19:06:01.267271Z",
     "iopub.status.idle": "2022-05-12T19:06:01.272468Z",
     "shell.execute_reply": "2022-05-12T19:06:01.271919Z"
    },
    "jupyter": {
     "source_hidden": true
    },
    "papermill": {
     "duration": 0.022298,
     "end_time": "2022-05-12T19:06:01.274190",
     "exception": false,
     "start_time": "2022-05-12T19:06:01.251892",
     "status": "completed"
    },
    "tags": [
     "remove_input"
    ]
   },
   "outputs": [],
   "source": [
    "def display_charts_for_route_group(df, route_group):    \n",
    "    subset_routes, mult, diff  = setup_charts(df, PCT_COMPETITIVE_THRESHOLD, route_group)\n",
    "\n",
    "    if len(subset_routes) > 0:\n",
    "        display(Markdown(f\"{CAPTIONS_DICT[route_group]}\"))\n",
    "\n",
    "        display(mult)\n",
    "        display(diff)\n",
    "        \n",
    "        # Display route stats for just plotted routes\n",
    "        style_route_stats(route_stats, subset_routes)"
   ]
  },
  {
   "cell_type": "markdown",
   "id": "525f9b38-072b-46d1-96a8-1aa4b038357c",
   "metadata": {
    "papermill": {
     "duration": 0.014769,
     "end_time": "2022-05-12T19:06:01.312684",
     "exception": false,
     "start_time": "2022-05-12T19:06:01.297915",
     "status": "completed"
    },
    "tags": []
   },
   "source": [
    "## Viable Competitive Routes\n",
    "### Short Routes (< 1 hr)"
   ]
  },
  {
   "cell_type": "code",
   "execution_count": 14,
   "id": "57f7084c-2cf7-45c6-ba08-1609e0bd6ca5",
   "metadata": {
    "execution": {
     "iopub.execute_input": "2022-05-12T19:06:01.344891Z",
     "iopub.status.busy": "2022-05-12T19:06:01.344646Z",
     "iopub.status.idle": "2022-05-12T19:06:01.641402Z",
     "shell.execute_reply": "2022-05-12T19:06:01.640808Z"
    },
    "jupyter": {
     "source_hidden": true
    },
    "papermill": {
     "duration": 0.313614,
     "end_time": "2022-05-12T19:06:01.643185",
     "exception": false,
     "start_time": "2022-05-12T19:06:01.329571",
     "status": "completed"
    },
    "tags": [
     "remove_input"
    ]
   },
   "outputs": [
    {
     "data": {
      "text/markdown": [
       "<br>These are routes that have **100% of their trips take no more than an additional 20 min** compared to a car (up to 15 routes) are shown.<br>Within each route group, routes are sorted in descending order by % competitive trips and # trips below the additional time cut-off."
      ],
      "text/plain": [
       "<IPython.core.display.Markdown object>"
      ]
     },
     "metadata": {},
     "output_type": "display_data"
    },
    {
     "data": {
      "text/html": [
       "\n",
       "<div id=\"altair-viz-20f4eb2b0d67491e895ac26e847961da\"></div>\n",
       "<script type=\"text/javascript\">\n",
       "  var VEGA_DEBUG = (typeof VEGA_DEBUG == \"undefined\") ? {} : VEGA_DEBUG;\n",
       "  (function(spec, embedOpt){\n",
       "    let outputDiv = document.currentScript.previousElementSibling;\n",
       "    if (outputDiv.id !== \"altair-viz-20f4eb2b0d67491e895ac26e847961da\") {\n",
       "      outputDiv = document.getElementById(\"altair-viz-20f4eb2b0d67491e895ac26e847961da\");\n",
       "    }\n",
       "    const paths = {\n",
       "      \"vega\": \"https://cdn.jsdelivr.net/npm//vega@5?noext\",\n",
       "      \"vega-lib\": \"https://cdn.jsdelivr.net/npm//vega-lib?noext\",\n",
       "      \"vega-lite\": \"https://cdn.jsdelivr.net/npm//vega-lite@4.17.0?noext\",\n",
       "      \"vega-embed\": \"https://cdn.jsdelivr.net/npm//vega-embed@6?noext\",\n",
       "    };\n",
       "\n",
       "    function maybeLoadScript(lib, version) {\n",
       "      var key = `${lib.replace(\"-\", \"\")}_version`;\n",
       "      return (VEGA_DEBUG[key] == version) ?\n",
       "        Promise.resolve(paths[lib]) :\n",
       "        new Promise(function(resolve, reject) {\n",
       "          var s = document.createElement('script');\n",
       "          document.getElementsByTagName(\"head\")[0].appendChild(s);\n",
       "          s.async = true;\n",
       "          s.onload = () => {\n",
       "            VEGA_DEBUG[key] = version;\n",
       "            return resolve(paths[lib]);\n",
       "          };\n",
       "          s.onerror = () => reject(`Error loading script: ${paths[lib]}`);\n",
       "          s.src = paths[lib];\n",
       "        });\n",
       "    }\n",
       "\n",
       "    function showError(err) {\n",
       "      outputDiv.innerHTML = `<div class=\"error\" style=\"color:red;\">${err}</div>`;\n",
       "      throw err;\n",
       "    }\n",
       "\n",
       "    function displayChart(vegaEmbed) {\n",
       "      vegaEmbed(outputDiv, spec, embedOpt)\n",
       "        .catch(err => showError(`Javascript Error: ${err.message}<br>This usually means there's a typo in your chart specification. See the javascript console for the full traceback.`));\n",
       "    }\n",
       "\n",
       "    if(typeof define === \"function\" && define.amd) {\n",
       "      requirejs.config({paths});\n",
       "      require([\"vega-embed\"], displayChart, err => showError(`Error loading script: ${err.message}`));\n",
       "    } else {\n",
       "      maybeLoadScript(\"vega\", \"5\")\n",
       "        .then(() => maybeLoadScript(\"vega-lite\", \"4.17.0\"))\n",
       "        .then(() => maybeLoadScript(\"vega-embed\", \"6\"))\n",
       "        .catch(showError)\n",
       "        .then(() => displayChart(vegaEmbed));\n",
       "    }\n",
       "  })({\"config\": {\"view\": {\"continuousWidth\": 400, \"continuousHeight\": 300, \"stroke\": null}, \"facet\": {\"spacing\": 0}}, \"data\": {\"name\": \"data-a8baf96780050304c5f81feb67a76177\"}, \"facet\": {\"column\": {\"field\": \"route_id\", \"sort\": [\"14213\", \"14214\", \"14215\"], \"title\": \"Route ID\", \"type\": \"nominal\"}}, \"spec\": {\"layer\": [{\"mark\": \"rule\", \"encoding\": {\"color\": {\"value\": \"black\"}, \"y\": {\"field\": \"cutoff\", \"type\": \"quantitative\"}}, \"selection\": {\"selector001\": {\"type\": \"interval\", \"bind\": \"scales\", \"encodings\": [\"x\", \"y\"]}}}, {\"mark\": {\"type\": \"point\", \"opacity\": 0.65, \"size\": 12, \"strokeWidth\": 1.1}, \"encoding\": {\"color\": {\"field\": \"time_of_day\", \"scale\": {\"range\": [\"#136C97\", \"#E16B26\", \"#F6BF16\", \"#00896B\", \"#7790A3\", \"#5B559C\"]}, \"sort\": [\"AM Peak\", \"Midday\", \"PM Peak\", \"Owl Service\"], \"title\": \"Time of Day\", \"type\": \"nominal\"}, \"tooltip\": [{\"field\": \"route_id\", \"type\": \"nominal\"}, {\"field\": \"route_name\", \"type\": \"nominal\"}, {\"field\": \"trip_id\", \"type\": \"nominal\"}, {\"field\": \"service_hours\", \"type\": \"quantitative\"}, {\"field\": \"car_duration_hours\", \"type\": \"quantitative\"}, {\"field\": \"bus_multiplier\", \"type\": \"quantitative\"}, {\"field\": \"bus_difference\", \"type\": \"quantitative\"}, {\"field\": \"num_trips\", \"type\": \"quantitative\"}, {\"field\": \"num_competitive\", \"type\": \"quantitative\"}, {\"field\": \"pct_trips_competitive\", \"type\": \"quantitative\"}, {\"field\": \"pct_below_cutoff\", \"type\": \"quantitative\"}, {\"field\": \"p25\", \"type\": \"quantitative\"}, {\"field\": \"p50\", \"type\": \"quantitative\"}, {\"field\": \"p75\", \"type\": \"quantitative\"}], \"x\": {\"axis\": {\"grid\": false, \"labels\": false, \"ticks\": true, \"values\": [0]}, \"field\": \"jitter\", \"scale\": {}, \"title\": null, \"type\": \"quantitative\"}, \"y\": {\"field\": \"bus_multiplier\", \"scale\": {\"domain\": [0, 3.0]}, \"title\": \"Ratio of Bus to Car Travel Time\", \"type\": \"quantitative\"}}, \"transform\": [{\"calculate\": \"sqrt(-2*log(random()))*cos(2*PI*random())\", \"as\": \"jitter\"}], \"width\": 50}, {\"layer\": [{\"mark\": {\"type\": \"point\", \"opacity\": 0.6, \"size\": 20, \"strokeWidth\": 1.3}, \"encoding\": {\"color\": {\"value\": \"#323434\"}, \"y\": {\"field\": \"bus_multiplier\", \"type\": \"quantitative\"}}, \"transform\": [{\"filter\": \"(datum.p50_trip === 1)\"}]}, {\"mark\": {\"type\": \"text\", \"align\": \"center\", \"baseline\": \"middle\"}, \"encoding\": {\"color\": {\"value\": \"black\"}, \"text\": {\"field\": \"pct_trips_competitive\", \"format\": \".0%\", \"type\": \"quantitative\"}, \"tooltip\": [{\"field\": \"route_id\", \"type\": \"nominal\"}, {\"field\": \"route_name\", \"type\": \"nominal\"}, {\"field\": \"trip_id\", \"type\": \"nominal\"}, {\"field\": \"service_hours\", \"type\": \"quantitative\"}, {\"field\": \"car_duration_hours\", \"type\": \"quantitative\"}, {\"field\": \"bus_multiplier\", \"type\": \"quantitative\"}, {\"field\": \"bus_difference\", \"type\": \"quantitative\"}, {\"field\": \"num_trips\", \"type\": \"quantitative\"}, {\"field\": \"num_competitive\", \"type\": \"quantitative\"}, {\"field\": \"pct_trips_competitive\", \"type\": \"quantitative\"}, {\"field\": \"pct_below_cutoff\", \"type\": \"quantitative\"}, {\"field\": \"p25\", \"type\": \"quantitative\"}, {\"field\": \"p50\", \"type\": \"quantitative\"}, {\"field\": \"p75\", \"type\": \"quantitative\"}], \"x\": {\"value\": 30}, \"y\": {\"value\": 15}}, \"transform\": [{\"calculate\": \"sqrt(-2*log(random()))*cos(2*PI*random())\", \"as\": \"jitter\"}, {\"filter\": \"(datum.fastest_trip === 1)\"}]}]}]}, \"resolve\": {\"scale\": {\"y\": \"shared\"}}, \"title\": \"Ratio of Bus to Car Travel Time\", \"$schema\": \"https://vega.github.io/schema/vega-lite/v4.17.0.json\", \"datasets\": {\"data-a8baf96780050304c5f81feb67a76177\": [{\"calitp_itp_id\": 221, \"trip_key\": -776577417486649908, \"trip_id\": \"t_1523702_b_30719_tn_0\", \"shape_id\": \"p_1277365\", \"route_id\": \"14213\", \"service_hours\": 0.3, \"trip_first_departure_ts\": 32760, \"trip_last_arrival_ts\": 33840, \"departure_hour\": 9, \"time_of_day\": \"AM Peak\", \"p25\": 0.3, \"p50\": 0.53, \"p75\": 0.53, \"p50_trip\": 0, \"fastest_trip\": 0, \"car_duration_hours\": 0.29, \"competitive_route\": 1, \"bus_multiplier\": 1.03, \"bus_difference\": 0.6, \"num_trips\": 25, \"num_competitive\": 25, \"pct_trips_competitive\": 1.0, \"bus_difference_spread\": 13.8, \"route_group\": \"short\", \"max_trip_hrs\": 0.53, \"max_trip_route_group\": 0.53, \"below_cutoff\": 25, \"pct_below_cutoff\": 1.0, \"name\": \"Nevada County\", \"caltrans_district\": \"03 - Marysville\", \"drmt_organization_name\": null, \"route_name\": \"Grass Valley Downtown - Brunswick Basin\", \"cutoff2\": 20, \"cutoff\": 2}, {\"calitp_itp_id\": 221, \"trip_key\": -4402755691279351913, \"trip_id\": \"t_1523705_b_30719_tn_0\", \"shape_id\": \"p_1277365\", \"route_id\": \"14213\", \"service_hours\": 0.3, \"trip_first_departure_ts\": 43560, \"trip_last_arrival_ts\": 44640, \"departure_hour\": 12, \"time_of_day\": \"Midday\", \"p25\": 0.3, \"p50\": 0.53, \"p75\": 0.53, \"p50_trip\": 0, \"fastest_trip\": 0, \"car_duration_hours\": 0.29, \"competitive_route\": 1, \"bus_multiplier\": 1.03, \"bus_difference\": 0.6, \"num_trips\": 25, \"num_competitive\": 25, \"pct_trips_competitive\": 1.0, \"bus_difference_spread\": 13.8, \"route_group\": \"short\", \"max_trip_hrs\": 0.53, \"max_trip_route_group\": 0.53, \"below_cutoff\": 25, \"pct_below_cutoff\": 1.0, \"name\": \"Nevada County\", \"caltrans_district\": \"03 - Marysville\", \"drmt_organization_name\": null, \"route_name\": \"Grass Valley Downtown - Brunswick Basin\", \"cutoff2\": 20, \"cutoff\": 2}, {\"calitp_itp_id\": 221, \"trip_key\": -2411665841726982938, \"trip_id\": \"t_1523703_b_30719_tn_0\", \"shape_id\": \"p_1277365\", \"route_id\": \"14213\", \"service_hours\": 0.3, \"trip_first_departure_ts\": 36360, \"trip_last_arrival_ts\": 37440, \"departure_hour\": 10, \"time_of_day\": \"Midday\", \"p25\": 0.3, \"p50\": 0.53, \"p75\": 0.53, \"p50_trip\": 0, \"fastest_trip\": 0, \"car_duration_hours\": 0.29, \"competitive_route\": 1, \"bus_multiplier\": 1.03, \"bus_difference\": 0.6, \"num_trips\": 25, \"num_competitive\": 25, \"pct_trips_competitive\": 1.0, \"bus_difference_spread\": 13.8, \"route_group\": \"short\", \"max_trip_hrs\": 0.53, \"max_trip_route_group\": 0.53, \"below_cutoff\": 25, \"pct_below_cutoff\": 1.0, \"name\": \"Nevada County\", \"caltrans_district\": \"03 - Marysville\", \"drmt_organization_name\": null, \"route_name\": \"Grass Valley Downtown - Brunswick Basin\", \"cutoff2\": 20, \"cutoff\": 2}, {\"calitp_itp_id\": 221, \"trip_key\": 8521167032569293107, \"trip_id\": \"t_1523708_b_30719_tn_0\", \"shape_id\": \"p_1277365\", \"route_id\": \"14213\", \"service_hours\": 0.3, \"trip_first_departure_ts\": 54360, \"trip_last_arrival_ts\": 55440, \"departure_hour\": 15, \"time_of_day\": \"Midday\", \"p25\": 0.3, \"p50\": 0.53, \"p75\": 0.53, \"p50_trip\": 0, \"fastest_trip\": 0, \"car_duration_hours\": 0.29, \"competitive_route\": 1, \"bus_multiplier\": 1.03, \"bus_difference\": 0.6, \"num_trips\": 25, \"num_competitive\": 25, \"pct_trips_competitive\": 1.0, \"bus_difference_spread\": 13.8, \"route_group\": \"short\", \"max_trip_hrs\": 0.53, \"max_trip_route_group\": 0.53, \"below_cutoff\": 25, \"pct_below_cutoff\": 1.0, \"name\": \"Nevada County\", \"caltrans_district\": \"03 - Marysville\", \"drmt_organization_name\": null, \"route_name\": \"Grass Valley Downtown - Brunswick Basin\", \"cutoff2\": 20, \"cutoff\": 2}, {\"calitp_itp_id\": 221, \"trip_key\": 2335938942291766947, \"trip_id\": \"t_1523709_b_30719_tn_0\", \"shape_id\": \"p_1277365\", \"route_id\": \"14213\", \"service_hours\": 0.3, \"trip_first_departure_ts\": 57960, \"trip_last_arrival_ts\": 59040, \"departure_hour\": 16, \"time_of_day\": \"Midday\", \"p25\": 0.3, \"p50\": 0.53, \"p75\": 0.53, \"p50_trip\": 0, \"fastest_trip\": 0, \"car_duration_hours\": 0.29, \"competitive_route\": 1, \"bus_multiplier\": 1.03, \"bus_difference\": 0.6, \"num_trips\": 25, \"num_competitive\": 25, \"pct_trips_competitive\": 1.0, \"bus_difference_spread\": 13.8, \"route_group\": \"short\", \"max_trip_hrs\": 0.53, \"max_trip_route_group\": 0.53, \"below_cutoff\": 25, \"pct_below_cutoff\": 1.0, \"name\": \"Nevada County\", \"caltrans_district\": \"03 - Marysville\", \"drmt_organization_name\": null, \"route_name\": \"Grass Valley Downtown - Brunswick Basin\", \"cutoff2\": 20, \"cutoff\": 2}, {\"calitp_itp_id\": 221, \"trip_key\": -6599830263524833773, \"trip_id\": \"t_1523707_b_30719_tn_0\", \"shape_id\": \"p_1277365\", \"route_id\": \"14213\", \"service_hours\": 0.3, \"trip_first_departure_ts\": 50760, \"trip_last_arrival_ts\": 51840, \"departure_hour\": 14, \"time_of_day\": \"Midday\", \"p25\": 0.3, \"p50\": 0.53, \"p75\": 0.53, \"p50_trip\": 0, \"fastest_trip\": 0, \"car_duration_hours\": 0.29, \"competitive_route\": 1, \"bus_multiplier\": 1.03, \"bus_difference\": 0.6, \"num_trips\": 25, \"num_competitive\": 25, \"pct_trips_competitive\": 1.0, \"bus_difference_spread\": 13.8, \"route_group\": \"short\", \"max_trip_hrs\": 0.53, \"max_trip_route_group\": 0.53, \"below_cutoff\": 25, \"pct_below_cutoff\": 1.0, \"name\": \"Nevada County\", \"caltrans_district\": \"03 - Marysville\", \"drmt_organization_name\": null, \"route_name\": \"Grass Valley Downtown - Brunswick Basin\", \"cutoff2\": 20, \"cutoff\": 2}, {\"calitp_itp_id\": 221, \"trip_key\": -1792138766408127314, \"trip_id\": \"t_1524377_b_30719_tn_3\", \"shape_id\": \"p_1277365\", \"route_id\": \"14213\", \"service_hours\": 0.3, \"trip_first_departure_ts\": 68760, \"trip_last_arrival_ts\": 69840, \"departure_hour\": 19, \"time_of_day\": \"PM Peak\", \"p25\": 0.3, \"p50\": 0.53, \"p75\": 0.53, \"p50_trip\": 0, \"fastest_trip\": 1, \"car_duration_hours\": 0.29, \"competitive_route\": 1, \"bus_multiplier\": 1.03, \"bus_difference\": 0.6, \"num_trips\": 25, \"num_competitive\": 25, \"pct_trips_competitive\": 1.0, \"bus_difference_spread\": 13.8, \"route_group\": \"short\", \"max_trip_hrs\": 0.53, \"max_trip_route_group\": 0.53, \"below_cutoff\": 25, \"pct_below_cutoff\": 1.0, \"name\": \"Nevada County\", \"caltrans_district\": \"03 - Marysville\", \"drmt_organization_name\": null, \"route_name\": \"Grass Valley Downtown - Brunswick Basin\", \"cutoff2\": 20, \"cutoff\": 2}, {\"calitp_itp_id\": 221, \"trip_key\": 5545502996058682558, \"trip_id\": \"t_1523706_b_30719_tn_0\", \"shape_id\": \"p_1277365\", \"route_id\": \"14213\", \"service_hours\": 0.3, \"trip_first_departure_ts\": 47160, \"trip_last_arrival_ts\": 48240, \"departure_hour\": 13, \"time_of_day\": \"Midday\", \"p25\": 0.3, \"p50\": 0.53, \"p75\": 0.53, \"p50_trip\": 0, \"fastest_trip\": 0, \"car_duration_hours\": 0.29, \"competitive_route\": 1, \"bus_multiplier\": 1.03, \"bus_difference\": 0.6, \"num_trips\": 25, \"num_competitive\": 25, \"pct_trips_competitive\": 1.0, \"bus_difference_spread\": 13.8, \"route_group\": \"short\", \"max_trip_hrs\": 0.53, \"max_trip_route_group\": 0.53, \"below_cutoff\": 25, \"pct_below_cutoff\": 1.0, \"name\": \"Nevada County\", \"caltrans_district\": \"03 - Marysville\", \"drmt_organization_name\": null, \"route_name\": \"Grass Valley Downtown - Brunswick Basin\", \"cutoff2\": 20, \"cutoff\": 2}, {\"calitp_itp_id\": 221, \"trip_key\": -2946560557554459726, \"trip_id\": \"t_1524377_b_30719_tn_2\", \"shape_id\": \"p_1277365\", \"route_id\": \"14213\", \"service_hours\": 0.3, \"trip_first_departure_ts\": 65160, \"trip_last_arrival_ts\": 66240, \"departure_hour\": 18, \"time_of_day\": \"PM Peak\", \"p25\": 0.3, \"p50\": 0.53, \"p75\": 0.53, \"p50_trip\": 0, \"fastest_trip\": 0, \"car_duration_hours\": 0.29, \"competitive_route\": 1, \"bus_multiplier\": 1.03, \"bus_difference\": 0.6, \"num_trips\": 25, \"num_competitive\": 25, \"pct_trips_competitive\": 1.0, \"bus_difference_spread\": 13.8, \"route_group\": \"short\", \"max_trip_hrs\": 0.53, \"max_trip_route_group\": 0.53, \"below_cutoff\": 25, \"pct_below_cutoff\": 1.0, \"name\": \"Nevada County\", \"caltrans_district\": \"03 - Marysville\", \"drmt_organization_name\": null, \"route_name\": \"Grass Valley Downtown - Brunswick Basin\", \"cutoff2\": 20, \"cutoff\": 2}, {\"calitp_itp_id\": 221, \"trip_key\": -5601550539585256135, \"trip_id\": \"t_1523704_b_30719_tn_0\", \"shape_id\": \"p_1277365\", \"route_id\": \"14213\", \"service_hours\": 0.3, \"trip_first_departure_ts\": 39960, \"trip_last_arrival_ts\": 41040, \"departure_hour\": 11, \"time_of_day\": \"Midday\", \"p25\": 0.3, \"p50\": 0.53, \"p75\": 0.53, \"p50_trip\": 0, \"fastest_trip\": 0, \"car_duration_hours\": 0.29, \"competitive_route\": 1, \"bus_multiplier\": 1.03, \"bus_difference\": 0.6, \"num_trips\": 25, \"num_competitive\": 25, \"pct_trips_competitive\": 1.0, \"bus_difference_spread\": 13.8, \"route_group\": \"short\", \"max_trip_hrs\": 0.53, \"max_trip_route_group\": 0.53, \"below_cutoff\": 25, \"pct_below_cutoff\": 1.0, \"name\": \"Nevada County\", \"caltrans_district\": \"03 - Marysville\", \"drmt_organization_name\": null, \"route_name\": \"Grass Valley Downtown - Brunswick Basin\", \"cutoff2\": 20, \"cutoff\": 2}, {\"calitp_itp_id\": 221, \"trip_key\": 8457037490932722398, \"trip_id\": \"t_1524377_b_30719_tn_1\", \"shape_id\": \"p_1277365\", \"route_id\": \"14213\", \"service_hours\": 0.3, \"trip_first_departure_ts\": 61560, \"trip_last_arrival_ts\": 62640, \"departure_hour\": 17, \"time_of_day\": \"PM Peak\", \"p25\": 0.3, \"p50\": 0.53, \"p75\": 0.53, \"p50_trip\": 0, \"fastest_trip\": 0, \"car_duration_hours\": 0.29, \"competitive_route\": 1, \"bus_multiplier\": 1.03, \"bus_difference\": 0.6, \"num_trips\": 25, \"num_competitive\": 25, \"pct_trips_competitive\": 1.0, \"bus_difference_spread\": 13.8, \"route_group\": \"short\", \"max_trip_hrs\": 0.53, \"max_trip_route_group\": 0.53, \"below_cutoff\": 25, \"pct_below_cutoff\": 1.0, \"name\": \"Nevada County\", \"caltrans_district\": \"03 - Marysville\", \"drmt_organization_name\": null, \"route_name\": \"Grass Valley Downtown - Brunswick Basin\", \"cutoff2\": 20, \"cutoff\": 2}, {\"calitp_itp_id\": 221, \"trip_key\": -18513496323167033, \"trip_id\": \"t_1523701_b_30719_tn_0\", \"shape_id\": \"p_1277365\", \"route_id\": \"14213\", \"service_hours\": 0.3, \"trip_first_departure_ts\": 29160, \"trip_last_arrival_ts\": 30240, \"departure_hour\": 8, \"time_of_day\": \"AM Peak\", \"p25\": 0.3, \"p50\": 0.53, \"p75\": 0.53, \"p50_trip\": 0, \"fastest_trip\": 0, \"car_duration_hours\": 0.29, \"competitive_route\": 1, \"bus_multiplier\": 1.03, \"bus_difference\": 0.6, \"num_trips\": 25, \"num_competitive\": 25, \"pct_trips_competitive\": 1.0, \"bus_difference_spread\": 13.8, \"route_group\": \"short\", \"max_trip_hrs\": 0.53, \"max_trip_route_group\": 0.53, \"below_cutoff\": 25, \"pct_below_cutoff\": 1.0, \"name\": \"Nevada County\", \"caltrans_district\": \"03 - Marysville\", \"drmt_organization_name\": null, \"route_name\": \"Grass Valley Downtown - Brunswick Basin\", \"cutoff2\": 20, \"cutoff\": 2}, {\"calitp_itp_id\": 221, \"trip_key\": -751622146585304013, \"trip_id\": \"t_1523699_b_30719_tn_0\", \"shape_id\": \"p_1277406\", \"route_id\": \"14213\", \"service_hours\": 0.53, \"trip_first_departure_ts\": 37800, \"trip_last_arrival_ts\": 39720, \"departure_hour\": 10, \"time_of_day\": \"Midday\", \"p25\": 0.3, \"p50\": 0.53, \"p75\": 0.53, \"p50_trip\": 1, \"fastest_trip\": 0, \"car_duration_hours\": 0.29, \"competitive_route\": 1, \"bus_multiplier\": 1.83, \"bus_difference\": 14.4, \"num_trips\": 25, \"num_competitive\": 25, \"pct_trips_competitive\": 1.0, \"bus_difference_spread\": 13.8, \"route_group\": \"short\", \"max_trip_hrs\": 0.53, \"max_trip_route_group\": 0.53, \"below_cutoff\": 25, \"pct_below_cutoff\": 1.0, \"name\": \"Nevada County\", \"caltrans_district\": \"03 - Marysville\", \"drmt_organization_name\": null, \"route_name\": \"Grass Valley Downtown - Brunswick Basin\", \"cutoff2\": 20, \"cutoff\": 2}, {\"calitp_itp_id\": 221, \"trip_key\": 5958656306653386538, \"trip_id\": \"t_1523700_b_30719_tn_0\", \"shape_id\": \"p_1277406\", \"route_id\": \"14213\", \"service_hours\": 0.53, \"trip_first_departure_ts\": 41400, \"trip_last_arrival_ts\": 43320, \"departure_hour\": 11, \"time_of_day\": \"Midday\", \"p25\": 0.3, \"p50\": 0.53, \"p75\": 0.53, \"p50_trip\": 1, \"fastest_trip\": 0, \"car_duration_hours\": 0.29, \"competitive_route\": 1, \"bus_multiplier\": 1.83, \"bus_difference\": 14.4, \"num_trips\": 25, \"num_competitive\": 25, \"pct_trips_competitive\": 1.0, \"bus_difference_spread\": 13.8, \"route_group\": \"short\", \"max_trip_hrs\": 0.53, \"max_trip_route_group\": 0.53, \"below_cutoff\": 25, \"pct_below_cutoff\": 1.0, \"name\": \"Nevada County\", \"caltrans_district\": \"03 - Marysville\", \"drmt_organization_name\": null, \"route_name\": \"Grass Valley Downtown - Brunswick Basin\", \"cutoff2\": 20, \"cutoff\": 2}, {\"calitp_itp_id\": 221, \"trip_key\": -2930613919531841270, \"trip_id\": \"t_1523714_b_30719_tn_0\", \"shape_id\": \"p_1277406\", \"route_id\": \"14213\", \"service_hours\": 0.53, \"trip_first_departure_ts\": 23400, \"trip_last_arrival_ts\": 25320, \"departure_hour\": 6, \"time_of_day\": \"Owl Service\", \"p25\": 0.3, \"p50\": 0.53, \"p75\": 0.53, \"p50_trip\": 1, \"fastest_trip\": 0, \"car_duration_hours\": 0.29, \"competitive_route\": 1, \"bus_multiplier\": 1.83, \"bus_difference\": 14.4, \"num_trips\": 25, \"num_competitive\": 25, \"pct_trips_competitive\": 1.0, \"bus_difference_spread\": 13.8, \"route_group\": \"short\", \"max_trip_hrs\": 0.53, \"max_trip_route_group\": 0.53, \"below_cutoff\": 25, \"pct_below_cutoff\": 1.0, \"name\": \"Nevada County\", \"caltrans_district\": \"03 - Marysville\", \"drmt_organization_name\": null, \"route_name\": \"Grass Valley Downtown - Brunswick Basin\", \"cutoff2\": 20, \"cutoff\": 2}, {\"calitp_itp_id\": 221, \"trip_key\": -7943430864300439059, \"trip_id\": \"t_1523697_b_30719_tn_0\", \"shape_id\": \"p_1277406\", \"route_id\": \"14213\", \"service_hours\": 0.53, \"trip_first_departure_ts\": 45000, \"trip_last_arrival_ts\": 46920, \"departure_hour\": 12, \"time_of_day\": \"Midday\", \"p25\": 0.3, \"p50\": 0.53, \"p75\": 0.53, \"p50_trip\": 1, \"fastest_trip\": 0, \"car_duration_hours\": 0.29, \"competitive_route\": 1, \"bus_multiplier\": 1.83, \"bus_difference\": 14.4, \"num_trips\": 25, \"num_competitive\": 25, \"pct_trips_competitive\": 1.0, \"bus_difference_spread\": 13.8, \"route_group\": \"short\", \"max_trip_hrs\": 0.53, \"max_trip_route_group\": 0.53, \"below_cutoff\": 25, \"pct_below_cutoff\": 1.0, \"name\": \"Nevada County\", \"caltrans_district\": \"03 - Marysville\", \"drmt_organization_name\": null, \"route_name\": \"Grass Valley Downtown - Brunswick Basin\", \"cutoff2\": 20, \"cutoff\": 2}, {\"calitp_itp_id\": 221, \"trip_key\": -2717591988354409515, \"trip_id\": \"t_1523715_b_30719_tn_2\", \"shape_id\": \"p_1277406\", \"route_id\": \"14213\", \"service_hours\": 0.53, \"trip_first_departure_ts\": 63000, \"trip_last_arrival_ts\": 64920, \"departure_hour\": 17, \"time_of_day\": \"PM Peak\", \"p25\": 0.3, \"p50\": 0.53, \"p75\": 0.53, \"p50_trip\": 1, \"fastest_trip\": 0, \"car_duration_hours\": 0.29, \"competitive_route\": 1, \"bus_multiplier\": 1.83, \"bus_difference\": 14.4, \"num_trips\": 25, \"num_competitive\": 25, \"pct_trips_competitive\": 1.0, \"bus_difference_spread\": 13.8, \"route_group\": \"short\", \"max_trip_hrs\": 0.53, \"max_trip_route_group\": 0.53, \"below_cutoff\": 25, \"pct_below_cutoff\": 1.0, \"name\": \"Nevada County\", \"caltrans_district\": \"03 - Marysville\", \"drmt_organization_name\": null, \"route_name\": \"Grass Valley Downtown - Brunswick Basin\", \"cutoff2\": 20, \"cutoff\": 2}, {\"calitp_itp_id\": 221, \"trip_key\": -1297581207849023466, \"trip_id\": \"t_1523698_b_30719_tn_0\", \"shape_id\": \"p_1277406\", \"route_id\": \"14213\", \"service_hours\": 0.53, \"trip_first_departure_ts\": 34200, \"trip_last_arrival_ts\": 36120, \"departure_hour\": 9, \"time_of_day\": \"AM Peak\", \"p25\": 0.3, \"p50\": 0.53, \"p75\": 0.53, \"p50_trip\": 1, \"fastest_trip\": 0, \"car_duration_hours\": 0.29, \"competitive_route\": 1, \"bus_multiplier\": 1.83, \"bus_difference\": 14.4, \"num_trips\": 25, \"num_competitive\": 25, \"pct_trips_competitive\": 1.0, \"bus_difference_spread\": 13.8, \"route_group\": \"short\", \"max_trip_hrs\": 0.53, \"max_trip_route_group\": 0.53, \"below_cutoff\": 25, \"pct_below_cutoff\": 1.0, \"name\": \"Nevada County\", \"caltrans_district\": \"03 - Marysville\", \"drmt_organization_name\": null, \"route_name\": \"Grass Valley Downtown - Brunswick Basin\", \"cutoff2\": 20, \"cutoff\": 2}, {\"calitp_itp_id\": 221, \"trip_key\": -8254111083152176925, \"trip_id\": \"t_1523715_b_30719_tn_3\", \"shape_id\": \"p_1277406\", \"route_id\": \"14213\", \"service_hours\": 0.53, \"trip_first_departure_ts\": 66600, \"trip_last_arrival_ts\": 68520, \"departure_hour\": 18, \"time_of_day\": \"PM Peak\", \"p25\": 0.3, \"p50\": 0.53, \"p75\": 0.53, \"p50_trip\": 1, \"fastest_trip\": 0, \"car_duration_hours\": 0.29, \"competitive_route\": 1, \"bus_multiplier\": 1.83, \"bus_difference\": 14.4, \"num_trips\": 25, \"num_competitive\": 25, \"pct_trips_competitive\": 1.0, \"bus_difference_spread\": 13.8, \"route_group\": \"short\", \"max_trip_hrs\": 0.53, \"max_trip_route_group\": 0.53, \"below_cutoff\": 25, \"pct_below_cutoff\": 1.0, \"name\": \"Nevada County\", \"caltrans_district\": \"03 - Marysville\", \"drmt_organization_name\": null, \"route_name\": \"Grass Valley Downtown - Brunswick Basin\", \"cutoff2\": 20, \"cutoff\": 2}, {\"calitp_itp_id\": 221, \"trip_key\": -1110075500676453112, \"trip_id\": \"t_1523710_b_30719_tn_0\", \"shape_id\": \"p_1277407\", \"route_id\": \"14213\", \"service_hours\": 0.53, \"trip_first_departure_ts\": 48600, \"trip_last_arrival_ts\": 50520, \"departure_hour\": 13, \"time_of_day\": \"Midday\", \"p25\": 0.3, \"p50\": 0.53, \"p75\": 0.53, \"p50_trip\": 1, \"fastest_trip\": 0, \"car_duration_hours\": 0.29, \"competitive_route\": 1, \"bus_multiplier\": 1.83, \"bus_difference\": 14.4, \"num_trips\": 25, \"num_competitive\": 25, \"pct_trips_competitive\": 1.0, \"bus_difference_spread\": 13.8, \"route_group\": \"short\", \"max_trip_hrs\": 0.53, \"max_trip_route_group\": 0.53, \"below_cutoff\": 25, \"pct_below_cutoff\": 1.0, \"name\": \"Nevada County\", \"caltrans_district\": \"03 - Marysville\", \"drmt_organization_name\": null, \"route_name\": \"Grass Valley Downtown - Brunswick Basin\", \"cutoff2\": 20, \"cutoff\": 2}, {\"calitp_itp_id\": 221, \"trip_key\": 3115021959998586160, \"trip_id\": \"t_1523696_b_30719_tn_0\", \"shape_id\": \"p_1277407\", \"route_id\": \"14213\", \"service_hours\": 0.53, \"trip_first_departure_ts\": 55800, \"trip_last_arrival_ts\": 57720, \"departure_hour\": 15, \"time_of_day\": \"Midday\", \"p25\": 0.3, \"p50\": 0.53, \"p75\": 0.53, \"p50_trip\": 1, \"fastest_trip\": 0, \"car_duration_hours\": 0.29, \"competitive_route\": 1, \"bus_multiplier\": 1.83, \"bus_difference\": 14.4, \"num_trips\": 25, \"num_competitive\": 25, \"pct_trips_competitive\": 1.0, \"bus_difference_spread\": 13.8, \"route_group\": \"short\", \"max_trip_hrs\": 0.53, \"max_trip_route_group\": 0.53, \"below_cutoff\": 25, \"pct_below_cutoff\": 1.0, \"name\": \"Nevada County\", \"caltrans_district\": \"03 - Marysville\", \"drmt_organization_name\": null, \"route_name\": \"Grass Valley Downtown - Brunswick Basin\", \"cutoff2\": 20, \"cutoff\": 2}, {\"calitp_itp_id\": 221, \"trip_key\": -175118521519977161, \"trip_id\": \"t_1523711_b_30719_tn_0\", \"shape_id\": \"p_1277406\", \"route_id\": \"14213\", \"service_hours\": 0.53, \"trip_first_departure_ts\": 52200, \"trip_last_arrival_ts\": 54120, \"departure_hour\": 14, \"time_of_day\": \"Midday\", \"p25\": 0.3, \"p50\": 0.53, \"p75\": 0.53, \"p50_trip\": 1, \"fastest_trip\": 0, \"car_duration_hours\": 0.29, \"competitive_route\": 1, \"bus_multiplier\": 1.83, \"bus_difference\": 14.4, \"num_trips\": 25, \"num_competitive\": 25, \"pct_trips_competitive\": 1.0, \"bus_difference_spread\": 13.8, \"route_group\": \"short\", \"max_trip_hrs\": 0.53, \"max_trip_route_group\": 0.53, \"below_cutoff\": 25, \"pct_below_cutoff\": 1.0, \"name\": \"Nevada County\", \"caltrans_district\": \"03 - Marysville\", \"drmt_organization_name\": null, \"route_name\": \"Grass Valley Downtown - Brunswick Basin\", \"cutoff2\": 20, \"cutoff\": 2}, {\"calitp_itp_id\": 221, \"trip_key\": -88652139511230805, \"trip_id\": \"t_1523715_b_30719_tn_1\", \"shape_id\": \"p_1277406\", \"route_id\": \"14213\", \"service_hours\": 0.53, \"trip_first_departure_ts\": 59400, \"trip_last_arrival_ts\": 61320, \"departure_hour\": 16, \"time_of_day\": \"Midday\", \"p25\": 0.3, \"p50\": 0.53, \"p75\": 0.53, \"p50_trip\": 1, \"fastest_trip\": 0, \"car_duration_hours\": 0.29, \"competitive_route\": 1, \"bus_multiplier\": 1.83, \"bus_difference\": 14.4, \"num_trips\": 25, \"num_competitive\": 25, \"pct_trips_competitive\": 1.0, \"bus_difference_spread\": 13.8, \"route_group\": \"short\", \"max_trip_hrs\": 0.53, \"max_trip_route_group\": 0.53, \"below_cutoff\": 25, \"pct_below_cutoff\": 1.0, \"name\": \"Nevada County\", \"caltrans_district\": \"03 - Marysville\", \"drmt_organization_name\": null, \"route_name\": \"Grass Valley Downtown - Brunswick Basin\", \"cutoff2\": 20, \"cutoff\": 2}, {\"calitp_itp_id\": 221, \"trip_key\": -4063602956833190453, \"trip_id\": \"t_1523713_b_30719_tn_0\", \"shape_id\": \"p_1277406\", \"route_id\": \"14213\", \"service_hours\": 0.53, \"trip_first_departure_ts\": 30600, \"trip_last_arrival_ts\": 32520, \"departure_hour\": 8, \"time_of_day\": \"AM Peak\", \"p25\": 0.3, \"p50\": 0.53, \"p75\": 0.53, \"p50_trip\": 1, \"fastest_trip\": 0, \"car_duration_hours\": 0.29, \"competitive_route\": 1, \"bus_multiplier\": 1.83, \"bus_difference\": 14.4, \"num_trips\": 25, \"num_competitive\": 25, \"pct_trips_competitive\": 1.0, \"bus_difference_spread\": 13.8, \"route_group\": \"short\", \"max_trip_hrs\": 0.53, \"max_trip_route_group\": 0.53, \"below_cutoff\": 25, \"pct_below_cutoff\": 1.0, \"name\": \"Nevada County\", \"caltrans_district\": \"03 - Marysville\", \"drmt_organization_name\": null, \"route_name\": \"Grass Valley Downtown - Brunswick Basin\", \"cutoff2\": 20, \"cutoff\": 2}, {\"calitp_itp_id\": 221, \"trip_key\": -5205501695277092205, \"trip_id\": \"t_1523712_b_30719_tn_0\", \"shape_id\": \"p_1277406\", \"route_id\": \"14213\", \"service_hours\": 0.53, \"trip_first_departure_ts\": 27000, \"trip_last_arrival_ts\": 28920, \"departure_hour\": 7, \"time_of_day\": \"AM Peak\", \"p25\": 0.3, \"p50\": 0.53, \"p75\": 0.53, \"p50_trip\": 1, \"fastest_trip\": 0, \"car_duration_hours\": 0.29, \"competitive_route\": 1, \"bus_multiplier\": 1.83, \"bus_difference\": 14.4, \"num_trips\": 25, \"num_competitive\": 25, \"pct_trips_competitive\": 1.0, \"bus_difference_spread\": 13.8, \"route_group\": \"short\", \"max_trip_hrs\": 0.53, \"max_trip_route_group\": 0.53, \"below_cutoff\": 25, \"pct_below_cutoff\": 1.0, \"name\": \"Nevada County\", \"caltrans_district\": \"03 - Marysville\", \"drmt_organization_name\": null, \"route_name\": \"Grass Valley Downtown - Brunswick Basin\", \"cutoff2\": 20, \"cutoff\": 2}, {\"calitp_itp_id\": 221, \"trip_key\": -5954322907603516198, \"trip_id\": \"t_1523690_b_30719_tn_1\", \"shape_id\": \"p_1277402\", \"route_id\": \"14214\", \"service_hours\": 0.37, \"trip_first_departure_ts\": 48600, \"trip_last_arrival_ts\": 49920, \"departure_hour\": 13, \"time_of_day\": \"Midday\", \"p25\": 0.385, \"p50\": 0.43, \"p75\": 0.43, \"p50_trip\": 0, \"fastest_trip\": 0, \"car_duration_hours\": 0.23, \"competitive_route\": 1, \"bus_multiplier\": 1.61, \"bus_difference\": 8.4, \"num_trips\": 18, \"num_competitive\": 18, \"pct_trips_competitive\": 1.0, \"bus_difference_spread\": 3.5999999999999996, \"route_group\": \"short\", \"max_trip_hrs\": 0.43, \"max_trip_route_group\": 0.43, \"below_cutoff\": 18, \"pct_below_cutoff\": 1.0, \"name\": \"Nevada County\", \"caltrans_district\": \"03 - Marysville\", \"drmt_organization_name\": null, \"route_name\": \"Route 3 Continues Onto Route 2 At The Tinloy St Transit Center On Selected Runs.  Route 3 Continues To Loma Rica On Selected Runs On Weekdays Only.\", \"cutoff2\": 20, \"cutoff\": 2}, {\"calitp_itp_id\": 221, \"trip_key\": -4353753918843046734, \"trip_id\": \"t_1523689_b_30719_tn_1\", \"shape_id\": \"p_1277402\", \"route_id\": \"14214\", \"service_hours\": 0.37, \"trip_first_departure_ts\": 30600, \"trip_last_arrival_ts\": 31920, \"departure_hour\": 8, \"time_of_day\": \"AM Peak\", \"p25\": 0.385, \"p50\": 0.43, \"p75\": 0.43, \"p50_trip\": 0, \"fastest_trip\": 0, \"car_duration_hours\": 0.23, \"competitive_route\": 1, \"bus_multiplier\": 1.61, \"bus_difference\": 8.4, \"num_trips\": 18, \"num_competitive\": 18, \"pct_trips_competitive\": 1.0, \"bus_difference_spread\": 3.5999999999999996, \"route_group\": \"short\", \"max_trip_hrs\": 0.43, \"max_trip_route_group\": 0.43, \"below_cutoff\": 18, \"pct_below_cutoff\": 1.0, \"name\": \"Nevada County\", \"caltrans_district\": \"03 - Marysville\", \"drmt_organization_name\": null, \"route_name\": \"Route 3 Continues Onto Route 2 At The Tinloy St Transit Center On Selected Runs.  Route 3 Continues To Loma Rica On Selected Runs On Weekdays Only.\", \"cutoff2\": 20, \"cutoff\": 2}, {\"calitp_itp_id\": 221, \"trip_key\": -4139071017515178389, \"trip_id\": \"t_1523689_b_30719_tn_3\", \"shape_id\": \"p_1277402\", \"route_id\": \"14214\", \"service_hours\": 0.37, \"trip_first_departure_ts\": 45000, \"trip_last_arrival_ts\": 46320, \"departure_hour\": 12, \"time_of_day\": \"Midday\", \"p25\": 0.385, \"p50\": 0.43, \"p75\": 0.43, \"p50_trip\": 0, \"fastest_trip\": 0, \"car_duration_hours\": 0.23, \"competitive_route\": 1, \"bus_multiplier\": 1.61, \"bus_difference\": 8.4, \"num_trips\": 18, \"num_competitive\": 18, \"pct_trips_competitive\": 1.0, \"bus_difference_spread\": 3.5999999999999996, \"route_group\": \"short\", \"max_trip_hrs\": 0.43, \"max_trip_route_group\": 0.43, \"below_cutoff\": 18, \"pct_below_cutoff\": 1.0, \"name\": \"Nevada County\", \"caltrans_district\": \"03 - Marysville\", \"drmt_organization_name\": null, \"route_name\": \"Route 3 Continues Onto Route 2 At The Tinloy St Transit Center On Selected Runs.  Route 3 Continues To Loma Rica On Selected Runs On Weekdays Only.\", \"cutoff2\": 20, \"cutoff\": 2}, {\"calitp_itp_id\": 221, \"trip_key\": -5628983764226905833, \"trip_id\": \"t_1523690_b_30719_tn_2\", \"shape_id\": \"p_1277402\", \"route_id\": \"14214\", \"service_hours\": 0.37, \"trip_first_departure_ts\": 55800, \"trip_last_arrival_ts\": 57120, \"departure_hour\": 15, \"time_of_day\": \"Midday\", \"p25\": 0.385, \"p50\": 0.43, \"p75\": 0.43, \"p50_trip\": 0, \"fastest_trip\": 1, \"car_duration_hours\": 0.23, \"competitive_route\": 1, \"bus_multiplier\": 1.61, \"bus_difference\": 8.4, \"num_trips\": 18, \"num_competitive\": 18, \"pct_trips_competitive\": 1.0, \"bus_difference_spread\": 3.5999999999999996, \"route_group\": \"short\", \"max_trip_hrs\": 0.43, \"max_trip_route_group\": 0.43, \"below_cutoff\": 18, \"pct_below_cutoff\": 1.0, \"name\": \"Nevada County\", \"caltrans_district\": \"03 - Marysville\", \"drmt_organization_name\": null, \"route_name\": \"Route 3 Continues Onto Route 2 At The Tinloy St Transit Center On Selected Runs.  Route 3 Continues To Loma Rica On Selected Runs On Weekdays Only.\", \"cutoff2\": 20, \"cutoff\": 2}, {\"calitp_itp_id\": 221, \"trip_key\": 6004687622847397905, \"trip_id\": \"t_1523689_b_30719_tn_2\", \"shape_id\": \"p_1277402\", \"route_id\": \"14214\", \"service_hours\": 0.37, \"trip_first_departure_ts\": 37800, \"trip_last_arrival_ts\": 39120, \"departure_hour\": 10, \"time_of_day\": \"Midday\", \"p25\": 0.385, \"p50\": 0.43, \"p75\": 0.43, \"p50_trip\": 0, \"fastest_trip\": 0, \"car_duration_hours\": 0.23, \"competitive_route\": 1, \"bus_multiplier\": 1.61, \"bus_difference\": 8.4, \"num_trips\": 18, \"num_competitive\": 18, \"pct_trips_competitive\": 1.0, \"bus_difference_spread\": 3.5999999999999996, \"route_group\": \"short\", \"max_trip_hrs\": 0.43, \"max_trip_route_group\": 0.43, \"below_cutoff\": 18, \"pct_below_cutoff\": 1.0, \"name\": \"Nevada County\", \"caltrans_district\": \"03 - Marysville\", \"drmt_organization_name\": null, \"route_name\": \"Route 3 Continues Onto Route 2 At The Tinloy St Transit Center On Selected Runs.  Route 3 Continues To Loma Rica On Selected Runs On Weekdays Only.\", \"cutoff2\": 20, \"cutoff\": 2}, {\"calitp_itp_id\": 221, \"trip_key\": 2673187237687141665, \"trip_id\": \"t_1521674_b_30719_tn_3\", \"shape_id\": \"p_1277435\", \"route_id\": \"14214\", \"service_hours\": 0.43, \"trip_first_departure_ts\": 68400, \"trip_last_arrival_ts\": 69960, \"departure_hour\": 19, \"time_of_day\": \"PM Peak\", \"p25\": 0.385, \"p50\": 0.43, \"p75\": 0.43, \"p50_trip\": 1, \"fastest_trip\": 0, \"car_duration_hours\": 0.23, \"competitive_route\": 1, \"bus_multiplier\": 1.87, \"bus_difference\": 12.0, \"num_trips\": 18, \"num_competitive\": 18, \"pct_trips_competitive\": 1.0, \"bus_difference_spread\": 3.5999999999999996, \"route_group\": \"short\", \"max_trip_hrs\": 0.43, \"max_trip_route_group\": 0.43, \"below_cutoff\": 18, \"pct_below_cutoff\": 1.0, \"name\": \"Nevada County\", \"caltrans_district\": \"03 - Marysville\", \"drmt_organization_name\": null, \"route_name\": \"Route 3 Continues Onto Route 2 At The Tinloy St Transit Center On Selected Runs.  Route 3 Continues To Loma Rica On Selected Runs On Weekdays Only.\", \"cutoff2\": 20, \"cutoff\": 2}, {\"calitp_itp_id\": 221, \"trip_key\": 7392758430088075601, \"trip_id\": \"t_1521657_b_30719_tn_0\", \"shape_id\": \"p_1277436\", \"route_id\": \"14214\", \"service_hours\": 0.43, \"trip_first_departure_ts\": 57600, \"trip_last_arrival_ts\": 59160, \"departure_hour\": 16, \"time_of_day\": \"Midday\", \"p25\": 0.385, \"p50\": 0.43, \"p75\": 0.43, \"p50_trip\": 1, \"fastest_trip\": 0, \"car_duration_hours\": 0.23, \"competitive_route\": 1, \"bus_multiplier\": 1.87, \"bus_difference\": 12.0, \"num_trips\": 18, \"num_competitive\": 18, \"pct_trips_competitive\": 1.0, \"bus_difference_spread\": 3.5999999999999996, \"route_group\": \"short\", \"max_trip_hrs\": 0.43, \"max_trip_route_group\": 0.43, \"below_cutoff\": 18, \"pct_below_cutoff\": 1.0, \"name\": \"Nevada County\", \"caltrans_district\": \"03 - Marysville\", \"drmt_organization_name\": null, \"route_name\": \"Route 3 Continues Onto Route 2 At The Tinloy St Transit Center On Selected Runs.  Route 3 Continues To Loma Rica On Selected Runs On Weekdays Only.\", \"cutoff2\": 20, \"cutoff\": 2}, {\"calitp_itp_id\": 221, \"trip_key\": 7196272006054014586, \"trip_id\": \"t_1521655_b_30719_tn_0\", \"shape_id\": \"p_1277436\", \"route_id\": \"14214\", \"service_hours\": 0.43, \"trip_first_departure_ts\": 39600, \"trip_last_arrival_ts\": 41160, \"departure_hour\": 11, \"time_of_day\": \"Midday\", \"p25\": 0.385, \"p50\": 0.43, \"p75\": 0.43, \"p50_trip\": 1, \"fastest_trip\": 0, \"car_duration_hours\": 0.23, \"competitive_route\": 1, \"bus_multiplier\": 1.87, \"bus_difference\": 12.0, \"num_trips\": 18, \"num_competitive\": 18, \"pct_trips_competitive\": 1.0, \"bus_difference_spread\": 3.5999999999999996, \"route_group\": \"short\", \"max_trip_hrs\": 0.43, \"max_trip_route_group\": 0.43, \"below_cutoff\": 18, \"pct_below_cutoff\": 1.0, \"name\": \"Nevada County\", \"caltrans_district\": \"03 - Marysville\", \"drmt_organization_name\": null, \"route_name\": \"Route 3 Continues Onto Route 2 At The Tinloy St Transit Center On Selected Runs.  Route 3 Continues To Loma Rica On Selected Runs On Weekdays Only.\", \"cutoff2\": 20, \"cutoff\": 2}, {\"calitp_itp_id\": 221, \"trip_key\": 3105874488608409094, \"trip_id\": \"t_1521653_b_30719_tn_0\", \"shape_id\": \"p_1277435\", \"route_id\": \"14214\", \"service_hours\": 0.43, \"trip_first_departure_ts\": 43200, \"trip_last_arrival_ts\": 44760, \"departure_hour\": 12, \"time_of_day\": \"Midday\", \"p25\": 0.385, \"p50\": 0.43, \"p75\": 0.43, \"p50_trip\": 1, \"fastest_trip\": 0, \"car_duration_hours\": 0.23, \"competitive_route\": 1, \"bus_multiplier\": 1.87, \"bus_difference\": 12.0, \"num_trips\": 18, \"num_competitive\": 18, \"pct_trips_competitive\": 1.0, \"bus_difference_spread\": 3.5999999999999996, \"route_group\": \"short\", \"max_trip_hrs\": 0.43, \"max_trip_route_group\": 0.43, \"below_cutoff\": 18, \"pct_below_cutoff\": 1.0, \"name\": \"Nevada County\", \"caltrans_district\": \"03 - Marysville\", \"drmt_organization_name\": null, \"route_name\": \"Route 3 Continues Onto Route 2 At The Tinloy St Transit Center On Selected Runs.  Route 3 Continues To Loma Rica On Selected Runs On Weekdays Only.\", \"cutoff2\": 20, \"cutoff\": 2}, {\"calitp_itp_id\": 221, \"trip_key\": -4889250977737711844, \"trip_id\": \"t_1521672_b_30719_tn_0\", \"shape_id\": \"p_1277436\", \"route_id\": \"14214\", \"service_hours\": 0.43, \"trip_first_departure_ts\": 25200, \"trip_last_arrival_ts\": 26760, \"departure_hour\": 7, \"time_of_day\": \"AM Peak\", \"p25\": 0.385, \"p50\": 0.43, \"p75\": 0.43, \"p50_trip\": 1, \"fastest_trip\": 0, \"car_duration_hours\": 0.23, \"competitive_route\": 1, \"bus_multiplier\": 1.87, \"bus_difference\": 12.0, \"num_trips\": 18, \"num_competitive\": 18, \"pct_trips_competitive\": 1.0, \"bus_difference_spread\": 3.5999999999999996, \"route_group\": \"short\", \"max_trip_hrs\": 0.43, \"max_trip_route_group\": 0.43, \"below_cutoff\": 18, \"pct_below_cutoff\": 1.0, \"name\": \"Nevada County\", \"caltrans_district\": \"03 - Marysville\", \"drmt_organization_name\": null, \"route_name\": \"Route 3 Continues Onto Route 2 At The Tinloy St Transit Center On Selected Runs.  Route 3 Continues To Loma Rica On Selected Runs On Weekdays Only.\", \"cutoff2\": 20, \"cutoff\": 2}, {\"calitp_itp_id\": 221, \"trip_key\": -8236644717398761490, \"trip_id\": \"t_1521674_b_30719_tn_1\", \"shape_id\": \"p_1277435\", \"route_id\": \"14214\", \"service_hours\": 0.43, \"trip_first_departure_ts\": 61200, \"trip_last_arrival_ts\": 62760, \"departure_hour\": 17, \"time_of_day\": \"PM Peak\", \"p25\": 0.385, \"p50\": 0.43, \"p75\": 0.43, \"p50_trip\": 1, \"fastest_trip\": 0, \"car_duration_hours\": 0.23, \"competitive_route\": 1, \"bus_multiplier\": 1.87, \"bus_difference\": 12.0, \"num_trips\": 18, \"num_competitive\": 18, \"pct_trips_competitive\": 1.0, \"bus_difference_spread\": 3.5999999999999996, \"route_group\": \"short\", \"max_trip_hrs\": 0.43, \"max_trip_route_group\": 0.43, \"below_cutoff\": 18, \"pct_below_cutoff\": 1.0, \"name\": \"Nevada County\", \"caltrans_district\": \"03 - Marysville\", \"drmt_organization_name\": null, \"route_name\": \"Route 3 Continues Onto Route 2 At The Tinloy St Transit Center On Selected Runs.  Route 3 Continues To Loma Rica On Selected Runs On Weekdays Only.\", \"cutoff2\": 20, \"cutoff\": 2}, {\"calitp_itp_id\": 221, \"trip_key\": 1289260090651955908, \"trip_id\": \"t_1521652_b_30719_tn_0\", \"shape_id\": \"p_1277435\", \"route_id\": \"14214\", \"service_hours\": 0.43, \"trip_first_departure_ts\": 36000, \"trip_last_arrival_ts\": 37560, \"departure_hour\": 10, \"time_of_day\": \"Midday\", \"p25\": 0.385, \"p50\": 0.43, \"p75\": 0.43, \"p50_trip\": 1, \"fastest_trip\": 0, \"car_duration_hours\": 0.23, \"competitive_route\": 1, \"bus_multiplier\": 1.87, \"bus_difference\": 12.0, \"num_trips\": 18, \"num_competitive\": 18, \"pct_trips_competitive\": 1.0, \"bus_difference_spread\": 3.5999999999999996, \"route_group\": \"short\", \"max_trip_hrs\": 0.43, \"max_trip_route_group\": 0.43, \"below_cutoff\": 18, \"pct_below_cutoff\": 1.0, \"name\": \"Nevada County\", \"caltrans_district\": \"03 - Marysville\", \"drmt_organization_name\": null, \"route_name\": \"Route 3 Continues Onto Route 2 At The Tinloy St Transit Center On Selected Runs.  Route 3 Continues To Loma Rica On Selected Runs On Weekdays Only.\", \"cutoff2\": 20, \"cutoff\": 2}, {\"calitp_itp_id\": 221, \"trip_key\": 2683565576891295944, \"trip_id\": \"t_1521654_b_30719_tn_0\", \"shape_id\": \"p_1277435\", \"route_id\": \"14214\", \"service_hours\": 0.43, \"trip_first_departure_ts\": 46800, \"trip_last_arrival_ts\": 48360, \"departure_hour\": 13, \"time_of_day\": \"Midday\", \"p25\": 0.385, \"p50\": 0.43, \"p75\": 0.43, \"p50_trip\": 1, \"fastest_trip\": 0, \"car_duration_hours\": 0.23, \"competitive_route\": 1, \"bus_multiplier\": 1.87, \"bus_difference\": 12.0, \"num_trips\": 18, \"num_competitive\": 18, \"pct_trips_competitive\": 1.0, \"bus_difference_spread\": 3.5999999999999996, \"route_group\": \"short\", \"max_trip_hrs\": 0.43, \"max_trip_route_group\": 0.43, \"below_cutoff\": 18, \"pct_below_cutoff\": 1.0, \"name\": \"Nevada County\", \"caltrans_district\": \"03 - Marysville\", \"drmt_organization_name\": null, \"route_name\": \"Route 3 Continues Onto Route 2 At The Tinloy St Transit Center On Selected Runs.  Route 3 Continues To Loma Rica On Selected Runs On Weekdays Only.\", \"cutoff2\": 20, \"cutoff\": 2}, {\"calitp_itp_id\": 221, \"trip_key\": -4249970615052157051, \"trip_id\": \"t_1521658_b_30719_tn_0\", \"shape_id\": \"p_1277435\", \"route_id\": \"14214\", \"service_hours\": 0.43, \"trip_first_departure_ts\": 54000, \"trip_last_arrival_ts\": 55560, \"departure_hour\": 15, \"time_of_day\": \"Midday\", \"p25\": 0.385, \"p50\": 0.43, \"p75\": 0.43, \"p50_trip\": 1, \"fastest_trip\": 0, \"car_duration_hours\": 0.23, \"competitive_route\": 1, \"bus_multiplier\": 1.87, \"bus_difference\": 12.0, \"num_trips\": 18, \"num_competitive\": 18, \"pct_trips_competitive\": 1.0, \"bus_difference_spread\": 3.5999999999999996, \"route_group\": \"short\", \"max_trip_hrs\": 0.43, \"max_trip_route_group\": 0.43, \"below_cutoff\": 18, \"pct_below_cutoff\": 1.0, \"name\": \"Nevada County\", \"caltrans_district\": \"03 - Marysville\", \"drmt_organization_name\": null, \"route_name\": \"Route 3 Continues Onto Route 2 At The Tinloy St Transit Center On Selected Runs.  Route 3 Continues To Loma Rica On Selected Runs On Weekdays Only.\", \"cutoff2\": 20, \"cutoff\": 2}, {\"calitp_itp_id\": 221, \"trip_key\": 6571909576953306131, \"trip_id\": \"t_1521656_b_30719_tn_0\", \"shape_id\": \"p_1277437\", \"route_id\": \"14214\", \"service_hours\": 0.43, \"trip_first_departure_ts\": 28800, \"trip_last_arrival_ts\": 30360, \"departure_hour\": 8, \"time_of_day\": \"AM Peak\", \"p25\": 0.385, \"p50\": 0.43, \"p75\": 0.43, \"p50_trip\": 1, \"fastest_trip\": 0, \"car_duration_hours\": 0.23, \"competitive_route\": 1, \"bus_multiplier\": 1.87, \"bus_difference\": 12.0, \"num_trips\": 18, \"num_competitive\": 18, \"pct_trips_competitive\": 1.0, \"bus_difference_spread\": 3.5999999999999996, \"route_group\": \"short\", \"max_trip_hrs\": 0.43, \"max_trip_route_group\": 0.43, \"below_cutoff\": 18, \"pct_below_cutoff\": 1.0, \"name\": \"Nevada County\", \"caltrans_district\": \"03 - Marysville\", \"drmt_organization_name\": null, \"route_name\": \"Route 3 Continues Onto Route 2 At The Tinloy St Transit Center On Selected Runs.  Route 3 Continues To Loma Rica On Selected Runs On Weekdays Only.\", \"cutoff2\": 20, \"cutoff\": 2}, {\"calitp_itp_id\": 221, \"trip_key\": 4198800275083607627, \"trip_id\": \"t_1521659_b_30719_tn_0\", \"shape_id\": \"p_1277436\", \"route_id\": \"14214\", \"service_hours\": 0.43, \"trip_first_departure_ts\": 50400, \"trip_last_arrival_ts\": 51960, \"departure_hour\": 14, \"time_of_day\": \"Midday\", \"p25\": 0.385, \"p50\": 0.43, \"p75\": 0.43, \"p50_trip\": 1, \"fastest_trip\": 0, \"car_duration_hours\": 0.23, \"competitive_route\": 1, \"bus_multiplier\": 1.87, \"bus_difference\": 12.0, \"num_trips\": 18, \"num_competitive\": 18, \"pct_trips_competitive\": 1.0, \"bus_difference_spread\": 3.5999999999999996, \"route_group\": \"short\", \"max_trip_hrs\": 0.43, \"max_trip_route_group\": 0.43, \"below_cutoff\": 18, \"pct_below_cutoff\": 1.0, \"name\": \"Nevada County\", \"caltrans_district\": \"03 - Marysville\", \"drmt_organization_name\": null, \"route_name\": \"Route 3 Continues Onto Route 2 At The Tinloy St Transit Center On Selected Runs.  Route 3 Continues To Loma Rica On Selected Runs On Weekdays Only.\", \"cutoff2\": 20, \"cutoff\": 2}, {\"calitp_itp_id\": 221, \"trip_key\": 1070155966066233422, \"trip_id\": \"t_1521674_b_30719_tn_2\", \"shape_id\": \"p_1277435\", \"route_id\": \"14214\", \"service_hours\": 0.43, \"trip_first_departure_ts\": 64800, \"trip_last_arrival_ts\": 66360, \"departure_hour\": 18, \"time_of_day\": \"PM Peak\", \"p25\": 0.385, \"p50\": 0.43, \"p75\": 0.43, \"p50_trip\": 1, \"fastest_trip\": 0, \"car_duration_hours\": 0.23, \"competitive_route\": 1, \"bus_multiplier\": 1.87, \"bus_difference\": 12.0, \"num_trips\": 18, \"num_competitive\": 18, \"pct_trips_competitive\": 1.0, \"bus_difference_spread\": 3.5999999999999996, \"route_group\": \"short\", \"max_trip_hrs\": 0.43, \"max_trip_route_group\": 0.43, \"below_cutoff\": 18, \"pct_below_cutoff\": 1.0, \"name\": \"Nevada County\", \"caltrans_district\": \"03 - Marysville\", \"drmt_organization_name\": null, \"route_name\": \"Route 3 Continues Onto Route 2 At The Tinloy St Transit Center On Selected Runs.  Route 3 Continues To Loma Rica On Selected Runs On Weekdays Only.\", \"cutoff2\": 20, \"cutoff\": 2}, {\"calitp_itp_id\": 221, \"trip_key\": 4380884507637476115, \"trip_id\": \"t_1521651_b_30719_tn_0\", \"shape_id\": \"p_1277436\", \"route_id\": \"14214\", \"service_hours\": 0.43, \"trip_first_departure_ts\": 32400, \"trip_last_arrival_ts\": 33960, \"departure_hour\": 9, \"time_of_day\": \"AM Peak\", \"p25\": 0.385, \"p50\": 0.43, \"p75\": 0.43, \"p50_trip\": 1, \"fastest_trip\": 0, \"car_duration_hours\": 0.23, \"competitive_route\": 1, \"bus_multiplier\": 1.87, \"bus_difference\": 12.0, \"num_trips\": 18, \"num_competitive\": 18, \"pct_trips_competitive\": 1.0, \"bus_difference_spread\": 3.5999999999999996, \"route_group\": \"short\", \"max_trip_hrs\": 0.43, \"max_trip_route_group\": 0.43, \"below_cutoff\": 18, \"pct_below_cutoff\": 1.0, \"name\": \"Nevada County\", \"caltrans_district\": \"03 - Marysville\", \"drmt_organization_name\": null, \"route_name\": \"Route 3 Continues Onto Route 2 At The Tinloy St Transit Center On Selected Runs.  Route 3 Continues To Loma Rica On Selected Runs On Weekdays Only.\", \"cutoff2\": 20, \"cutoff\": 2}, {\"calitp_itp_id\": 221, \"trip_key\": 407261656655488401, \"trip_id\": \"t_1523669_b_30719_tn_0\", \"shape_id\": \"p_857973\", \"route_id\": \"14215\", \"service_hours\": 0.42, \"trip_first_departure_ts\": 27000, \"trip_last_arrival_ts\": 28500, \"departure_hour\": 7, \"time_of_day\": \"AM Peak\", \"p25\": 0.42, \"p50\": 0.42, \"p75\": 0.42, \"p50_trip\": 1, \"fastest_trip\": 0, \"car_duration_hours\": 0.32, \"competitive_route\": 1, \"bus_multiplier\": 1.31, \"bus_difference\": 6.0, \"num_trips\": 6, \"num_competitive\": 6, \"pct_trips_competitive\": 1.0, \"bus_difference_spread\": 0.0, \"route_group\": \"short\", \"max_trip_hrs\": 0.42, \"max_trip_route_group\": 0.42, \"below_cutoff\": 6, \"pct_below_cutoff\": 1.0, \"name\": \"Nevada County\", \"caltrans_district\": \"03 - Marysville\", \"drmt_organization_name\": null, \"route_name\": \"Route 2 Continues Onto Route 3 At The Tinloy St Transit Center\", \"cutoff2\": 20, \"cutoff\": 2}, {\"calitp_itp_id\": 221, \"trip_key\": 3286443703549619678, \"trip_id\": \"t_1523671_b_30719_tn_0\", \"shape_id\": \"p_857973\", \"route_id\": \"14215\", \"service_hours\": 0.42, \"trip_first_departure_ts\": 41400, \"trip_last_arrival_ts\": 42900, \"departure_hour\": 11, \"time_of_day\": \"Midday\", \"p25\": 0.42, \"p50\": 0.42, \"p75\": 0.42, \"p50_trip\": 1, \"fastest_trip\": 0, \"car_duration_hours\": 0.32, \"competitive_route\": 1, \"bus_multiplier\": 1.31, \"bus_difference\": 6.0, \"num_trips\": 6, \"num_competitive\": 6, \"pct_trips_competitive\": 1.0, \"bus_difference_spread\": 0.0, \"route_group\": \"short\", \"max_trip_hrs\": 0.42, \"max_trip_route_group\": 0.42, \"below_cutoff\": 6, \"pct_below_cutoff\": 1.0, \"name\": \"Nevada County\", \"caltrans_district\": \"03 - Marysville\", \"drmt_organization_name\": null, \"route_name\": \"Route 2 Continues Onto Route 3 At The Tinloy St Transit Center\", \"cutoff2\": 20, \"cutoff\": 2}, {\"calitp_itp_id\": 221, \"trip_key\": -8169556226085732511, \"trip_id\": \"t_1523672_b_30719_tn_1\", \"shape_id\": \"p_857973\", \"route_id\": \"14215\", \"service_hours\": 0.42, \"trip_first_departure_ts\": 52200, \"trip_last_arrival_ts\": 53700, \"departure_hour\": 14, \"time_of_day\": \"Midday\", \"p25\": 0.42, \"p50\": 0.42, \"p75\": 0.42, \"p50_trip\": 1, \"fastest_trip\": 0, \"car_duration_hours\": 0.32, \"competitive_route\": 1, \"bus_multiplier\": 1.31, \"bus_difference\": 6.0, \"num_trips\": 6, \"num_competitive\": 6, \"pct_trips_competitive\": 1.0, \"bus_difference_spread\": 0.0, \"route_group\": \"short\", \"max_trip_hrs\": 0.42, \"max_trip_route_group\": 0.42, \"below_cutoff\": 6, \"pct_below_cutoff\": 1.0, \"name\": \"Nevada County\", \"caltrans_district\": \"03 - Marysville\", \"drmt_organization_name\": null, \"route_name\": \"Route 2 Continues Onto Route 3 At The Tinloy St Transit Center\", \"cutoff2\": 20, \"cutoff\": 2}, {\"calitp_itp_id\": 221, \"trip_key\": -4864542285598291536, \"trip_id\": \"t_1523672_b_30719_tn_3\", \"shape_id\": \"p_857973\", \"route_id\": \"14215\", \"service_hours\": 0.42, \"trip_first_departure_ts\": 66600, \"trip_last_arrival_ts\": 68100, \"departure_hour\": 18, \"time_of_day\": \"PM Peak\", \"p25\": 0.42, \"p50\": 0.42, \"p75\": 0.42, \"p50_trip\": 1, \"fastest_trip\": 1, \"car_duration_hours\": 0.32, \"competitive_route\": 1, \"bus_multiplier\": 1.31, \"bus_difference\": 6.0, \"num_trips\": 6, \"num_competitive\": 6, \"pct_trips_competitive\": 1.0, \"bus_difference_spread\": 0.0, \"route_group\": \"short\", \"max_trip_hrs\": 0.42, \"max_trip_route_group\": 0.42, \"below_cutoff\": 6, \"pct_below_cutoff\": 1.0, \"name\": \"Nevada County\", \"caltrans_district\": \"03 - Marysville\", \"drmt_organization_name\": null, \"route_name\": \"Route 2 Continues Onto Route 3 At The Tinloy St Transit Center\", \"cutoff2\": 20, \"cutoff\": 2}, {\"calitp_itp_id\": 221, \"trip_key\": -2618845921194408363, \"trip_id\": \"t_1523670_b_30719_tn_0\", \"shape_id\": \"p_857973\", \"route_id\": \"14215\", \"service_hours\": 0.42, \"trip_first_departure_ts\": 34200, \"trip_last_arrival_ts\": 35700, \"departure_hour\": 9, \"time_of_day\": \"AM Peak\", \"p25\": 0.42, \"p50\": 0.42, \"p75\": 0.42, \"p50_trip\": 1, \"fastest_trip\": 0, \"car_duration_hours\": 0.32, \"competitive_route\": 1, \"bus_multiplier\": 1.31, \"bus_difference\": 6.0, \"num_trips\": 6, \"num_competitive\": 6, \"pct_trips_competitive\": 1.0, \"bus_difference_spread\": 0.0, \"route_group\": \"short\", \"max_trip_hrs\": 0.42, \"max_trip_route_group\": 0.42, \"below_cutoff\": 6, \"pct_below_cutoff\": 1.0, \"name\": \"Nevada County\", \"caltrans_district\": \"03 - Marysville\", \"drmt_organization_name\": null, \"route_name\": \"Route 2 Continues Onto Route 3 At The Tinloy St Transit Center\", \"cutoff2\": 20, \"cutoff\": 2}, {\"calitp_itp_id\": 221, \"trip_key\": -3879403642870221768, \"trip_id\": \"t_1523672_b_30719_tn_2\", \"shape_id\": \"p_857973\", \"route_id\": \"14215\", \"service_hours\": 0.42, \"trip_first_departure_ts\": 59400, \"trip_last_arrival_ts\": 60900, \"departure_hour\": 16, \"time_of_day\": \"Midday\", \"p25\": 0.42, \"p50\": 0.42, \"p75\": 0.42, \"p50_trip\": 1, \"fastest_trip\": 0, \"car_duration_hours\": 0.32, \"competitive_route\": 1, \"bus_multiplier\": 1.31, \"bus_difference\": 6.0, \"num_trips\": 6, \"num_competitive\": 6, \"pct_trips_competitive\": 1.0, \"bus_difference_spread\": 0.0, \"route_group\": \"short\", \"max_trip_hrs\": 0.42, \"max_trip_route_group\": 0.42, \"below_cutoff\": 6, \"pct_below_cutoff\": 1.0, \"name\": \"Nevada County\", \"caltrans_district\": \"03 - Marysville\", \"drmt_organization_name\": null, \"route_name\": \"Route 2 Continues Onto Route 3 At The Tinloy St Transit Center\", \"cutoff2\": 20, \"cutoff\": 2}]}}, {\"mode\": \"vega-lite\"});\n",
       "</script>"
      ],
      "text/plain": [
       "alt.FacetChart(...)"
      ]
     },
     "metadata": {},
     "output_type": "display_data"
    },
    {
     "data": {
      "text/html": [
       "\n",
       "<div id=\"altair-viz-55a43552b2e14f478aee79f0c3e72b41\"></div>\n",
       "<script type=\"text/javascript\">\n",
       "  var VEGA_DEBUG = (typeof VEGA_DEBUG == \"undefined\") ? {} : VEGA_DEBUG;\n",
       "  (function(spec, embedOpt){\n",
       "    let outputDiv = document.currentScript.previousElementSibling;\n",
       "    if (outputDiv.id !== \"altair-viz-55a43552b2e14f478aee79f0c3e72b41\") {\n",
       "      outputDiv = document.getElementById(\"altair-viz-55a43552b2e14f478aee79f0c3e72b41\");\n",
       "    }\n",
       "    const paths = {\n",
       "      \"vega\": \"https://cdn.jsdelivr.net/npm//vega@5?noext\",\n",
       "      \"vega-lib\": \"https://cdn.jsdelivr.net/npm//vega-lib?noext\",\n",
       "      \"vega-lite\": \"https://cdn.jsdelivr.net/npm//vega-lite@4.17.0?noext\",\n",
       "      \"vega-embed\": \"https://cdn.jsdelivr.net/npm//vega-embed@6?noext\",\n",
       "    };\n",
       "\n",
       "    function maybeLoadScript(lib, version) {\n",
       "      var key = `${lib.replace(\"-\", \"\")}_version`;\n",
       "      return (VEGA_DEBUG[key] == version) ?\n",
       "        Promise.resolve(paths[lib]) :\n",
       "        new Promise(function(resolve, reject) {\n",
       "          var s = document.createElement('script');\n",
       "          document.getElementsByTagName(\"head\")[0].appendChild(s);\n",
       "          s.async = true;\n",
       "          s.onload = () => {\n",
       "            VEGA_DEBUG[key] = version;\n",
       "            return resolve(paths[lib]);\n",
       "          };\n",
       "          s.onerror = () => reject(`Error loading script: ${paths[lib]}`);\n",
       "          s.src = paths[lib];\n",
       "        });\n",
       "    }\n",
       "\n",
       "    function showError(err) {\n",
       "      outputDiv.innerHTML = `<div class=\"error\" style=\"color:red;\">${err}</div>`;\n",
       "      throw err;\n",
       "    }\n",
       "\n",
       "    function displayChart(vegaEmbed) {\n",
       "      vegaEmbed(outputDiv, spec, embedOpt)\n",
       "        .catch(err => showError(`Javascript Error: ${err.message}<br>This usually means there's a typo in your chart specification. See the javascript console for the full traceback.`));\n",
       "    }\n",
       "\n",
       "    if(typeof define === \"function\" && define.amd) {\n",
       "      requirejs.config({paths});\n",
       "      require([\"vega-embed\"], displayChart, err => showError(`Error loading script: ${err.message}`));\n",
       "    } else {\n",
       "      maybeLoadScript(\"vega\", \"5\")\n",
       "        .then(() => maybeLoadScript(\"vega-lite\", \"4.17.0\"))\n",
       "        .then(() => maybeLoadScript(\"vega-embed\", \"6\"))\n",
       "        .catch(showError)\n",
       "        .then(() => displayChart(vegaEmbed));\n",
       "    }\n",
       "  })({\"config\": {\"view\": {\"continuousWidth\": 400, \"continuousHeight\": 300, \"stroke\": null}, \"facet\": {\"spacing\": 0}}, \"data\": {\"name\": \"data-9713821f7e34eb30113fd229c45df4d4\"}, \"facet\": {\"column\": {\"field\": \"route_id\", \"sort\": [\"14213\", \"14214\", \"14215\"], \"title\": \"Route ID\", \"type\": \"nominal\"}}, \"spec\": {\"layer\": [{\"mark\": \"rule\", \"encoding\": {\"color\": {\"value\": \"black\"}, \"y\": {\"field\": \"cutoff\", \"type\": \"quantitative\"}}, \"selection\": {\"selector002\": {\"type\": \"interval\", \"bind\": \"scales\", \"encodings\": [\"x\", \"y\"]}}}, {\"mark\": {\"type\": \"rule\", \"strokeDash\": [3, 3]}, \"encoding\": {\"color\": {\"value\": \"#323434\"}, \"y\": {\"field\": \"cutoff2\", \"type\": \"quantitative\"}}}, {\"mark\": {\"type\": \"point\", \"opacity\": 0.65, \"size\": 12, \"strokeWidth\": 1.1}, \"encoding\": {\"color\": {\"field\": \"time_of_day\", \"scale\": {\"range\": [\"#136C97\", \"#E16B26\", \"#F6BF16\", \"#00896B\", \"#7790A3\", \"#5B559C\"]}, \"sort\": [\"AM Peak\", \"Midday\", \"PM Peak\", \"Owl Service\"], \"title\": \"Time of Day\", \"type\": \"nominal\"}, \"tooltip\": [{\"field\": \"route_id\", \"type\": \"nominal\"}, {\"field\": \"route_name\", \"type\": \"nominal\"}, {\"field\": \"trip_id\", \"type\": \"nominal\"}, {\"field\": \"service_hours\", \"type\": \"quantitative\"}, {\"field\": \"car_duration_hours\", \"type\": \"quantitative\"}, {\"field\": \"bus_multiplier\", \"type\": \"quantitative\"}, {\"field\": \"bus_difference\", \"type\": \"quantitative\"}, {\"field\": \"num_trips\", \"type\": \"quantitative\"}, {\"field\": \"num_competitive\", \"type\": \"quantitative\"}, {\"field\": \"pct_trips_competitive\", \"type\": \"quantitative\"}, {\"field\": \"pct_below_cutoff\", \"type\": \"quantitative\"}, {\"field\": \"p25\", \"type\": \"quantitative\"}, {\"field\": \"p50\", \"type\": \"quantitative\"}, {\"field\": \"p75\", \"type\": \"quantitative\"}], \"x\": {\"axis\": {\"grid\": false, \"labels\": false, \"ticks\": true, \"values\": [0]}, \"field\": \"jitter\", \"scale\": {}, \"title\": null, \"type\": \"quantitative\"}, \"y\": {\"field\": \"bus_difference\", \"scale\": {\"domain\": [-5, 46.2]}, \"title\": \"Difference in Bus to Car Travel Time (min)\", \"type\": \"quantitative\"}}, \"transform\": [{\"calculate\": \"sqrt(-2*log(random()))*cos(2*PI*random())\", \"as\": \"jitter\"}], \"width\": 50}, {\"layer\": [{\"mark\": {\"type\": \"point\", \"opacity\": 0.6, \"size\": 20, \"strokeWidth\": 1.3}, \"encoding\": {\"color\": {\"value\": \"#323434\"}, \"y\": {\"field\": \"bus_difference\", \"type\": \"quantitative\"}}, \"transform\": [{\"filter\": \"(datum.p50_trip === 1)\"}]}, {\"mark\": {\"type\": \"text\", \"align\": \"center\", \"baseline\": \"middle\"}, \"encoding\": {\"color\": {\"value\": \"black\"}, \"text\": {\"field\": \"pct_trips_competitive\", \"format\": \".0%\", \"type\": \"quantitative\"}, \"tooltip\": [{\"field\": \"route_id\", \"type\": \"nominal\"}, {\"field\": \"route_name\", \"type\": \"nominal\"}, {\"field\": \"trip_id\", \"type\": \"nominal\"}, {\"field\": \"service_hours\", \"type\": \"quantitative\"}, {\"field\": \"car_duration_hours\", \"type\": \"quantitative\"}, {\"field\": \"bus_multiplier\", \"type\": \"quantitative\"}, {\"field\": \"bus_difference\", \"type\": \"quantitative\"}, {\"field\": \"num_trips\", \"type\": \"quantitative\"}, {\"field\": \"num_competitive\", \"type\": \"quantitative\"}, {\"field\": \"pct_trips_competitive\", \"type\": \"quantitative\"}, {\"field\": \"pct_below_cutoff\", \"type\": \"quantitative\"}, {\"field\": \"p25\", \"type\": \"quantitative\"}, {\"field\": \"p50\", \"type\": \"quantitative\"}, {\"field\": \"p75\", \"type\": \"quantitative\"}], \"x\": {\"value\": 30}, \"y\": {\"value\": 15}}, \"transform\": [{\"calculate\": \"sqrt(-2*log(random()))*cos(2*PI*random())\", \"as\": \"jitter\"}, {\"filter\": \"(datum.fastest_trip === 1)\"}]}]}]}, \"resolve\": {\"scale\": {\"y\": \"shared\"}}, \"title\": \"Difference in Bus to Car Travel Time (min)\", \"$schema\": \"https://vega.github.io/schema/vega-lite/v4.17.0.json\", \"datasets\": {\"data-9713821f7e34eb30113fd229c45df4d4\": [{\"calitp_itp_id\": 221, \"trip_key\": -776577417486649908, \"trip_id\": \"t_1523702_b_30719_tn_0\", \"shape_id\": \"p_1277365\", \"route_id\": \"14213\", \"service_hours\": 0.3, \"trip_first_departure_ts\": 32760, \"trip_last_arrival_ts\": 33840, \"departure_hour\": 9, \"time_of_day\": \"AM Peak\", \"p25\": 0.3, \"p50\": 0.53, \"p75\": 0.53, \"p50_trip\": 0, \"fastest_trip\": 0, \"car_duration_hours\": 0.29, \"competitive_route\": 1, \"bus_multiplier\": 1.03, \"bus_difference\": 0.6, \"num_trips\": 25, \"num_competitive\": 25, \"pct_trips_competitive\": 1.0, \"bus_difference_spread\": 13.8, \"route_group\": \"short\", \"max_trip_hrs\": 0.53, \"max_trip_route_group\": 0.53, \"below_cutoff\": 25, \"pct_below_cutoff\": 1.0, \"name\": \"Nevada County\", \"caltrans_district\": \"03 - Marysville\", \"drmt_organization_name\": null, \"route_name\": \"Grass Valley Downtown - Brunswick Basin\", \"cutoff2\": 20, \"cutoff\": 0}, {\"calitp_itp_id\": 221, \"trip_key\": -4402755691279351913, \"trip_id\": \"t_1523705_b_30719_tn_0\", \"shape_id\": \"p_1277365\", \"route_id\": \"14213\", \"service_hours\": 0.3, \"trip_first_departure_ts\": 43560, \"trip_last_arrival_ts\": 44640, \"departure_hour\": 12, \"time_of_day\": \"Midday\", \"p25\": 0.3, \"p50\": 0.53, \"p75\": 0.53, \"p50_trip\": 0, \"fastest_trip\": 0, \"car_duration_hours\": 0.29, \"competitive_route\": 1, \"bus_multiplier\": 1.03, \"bus_difference\": 0.6, \"num_trips\": 25, \"num_competitive\": 25, \"pct_trips_competitive\": 1.0, \"bus_difference_spread\": 13.8, \"route_group\": \"short\", \"max_trip_hrs\": 0.53, \"max_trip_route_group\": 0.53, \"below_cutoff\": 25, \"pct_below_cutoff\": 1.0, \"name\": \"Nevada County\", \"caltrans_district\": \"03 - Marysville\", \"drmt_organization_name\": null, \"route_name\": \"Grass Valley Downtown - Brunswick Basin\", \"cutoff2\": 20, \"cutoff\": 0}, {\"calitp_itp_id\": 221, \"trip_key\": -2411665841726982938, \"trip_id\": \"t_1523703_b_30719_tn_0\", \"shape_id\": \"p_1277365\", \"route_id\": \"14213\", \"service_hours\": 0.3, \"trip_first_departure_ts\": 36360, \"trip_last_arrival_ts\": 37440, \"departure_hour\": 10, \"time_of_day\": \"Midday\", \"p25\": 0.3, \"p50\": 0.53, \"p75\": 0.53, \"p50_trip\": 0, \"fastest_trip\": 0, \"car_duration_hours\": 0.29, \"competitive_route\": 1, \"bus_multiplier\": 1.03, \"bus_difference\": 0.6, \"num_trips\": 25, \"num_competitive\": 25, \"pct_trips_competitive\": 1.0, \"bus_difference_spread\": 13.8, \"route_group\": \"short\", \"max_trip_hrs\": 0.53, \"max_trip_route_group\": 0.53, \"below_cutoff\": 25, \"pct_below_cutoff\": 1.0, \"name\": \"Nevada County\", \"caltrans_district\": \"03 - Marysville\", \"drmt_organization_name\": null, \"route_name\": \"Grass Valley Downtown - Brunswick Basin\", \"cutoff2\": 20, \"cutoff\": 0}, {\"calitp_itp_id\": 221, \"trip_key\": 8521167032569293107, \"trip_id\": \"t_1523708_b_30719_tn_0\", \"shape_id\": \"p_1277365\", \"route_id\": \"14213\", \"service_hours\": 0.3, \"trip_first_departure_ts\": 54360, \"trip_last_arrival_ts\": 55440, \"departure_hour\": 15, \"time_of_day\": \"Midday\", \"p25\": 0.3, \"p50\": 0.53, \"p75\": 0.53, \"p50_trip\": 0, \"fastest_trip\": 0, \"car_duration_hours\": 0.29, \"competitive_route\": 1, \"bus_multiplier\": 1.03, \"bus_difference\": 0.6, \"num_trips\": 25, \"num_competitive\": 25, \"pct_trips_competitive\": 1.0, \"bus_difference_spread\": 13.8, \"route_group\": \"short\", \"max_trip_hrs\": 0.53, \"max_trip_route_group\": 0.53, \"below_cutoff\": 25, \"pct_below_cutoff\": 1.0, \"name\": \"Nevada County\", \"caltrans_district\": \"03 - Marysville\", \"drmt_organization_name\": null, \"route_name\": \"Grass Valley Downtown - Brunswick Basin\", \"cutoff2\": 20, \"cutoff\": 0}, {\"calitp_itp_id\": 221, \"trip_key\": 2335938942291766947, \"trip_id\": \"t_1523709_b_30719_tn_0\", \"shape_id\": \"p_1277365\", \"route_id\": \"14213\", \"service_hours\": 0.3, \"trip_first_departure_ts\": 57960, \"trip_last_arrival_ts\": 59040, \"departure_hour\": 16, \"time_of_day\": \"Midday\", \"p25\": 0.3, \"p50\": 0.53, \"p75\": 0.53, \"p50_trip\": 0, \"fastest_trip\": 0, \"car_duration_hours\": 0.29, \"competitive_route\": 1, \"bus_multiplier\": 1.03, \"bus_difference\": 0.6, \"num_trips\": 25, \"num_competitive\": 25, \"pct_trips_competitive\": 1.0, \"bus_difference_spread\": 13.8, \"route_group\": \"short\", \"max_trip_hrs\": 0.53, \"max_trip_route_group\": 0.53, \"below_cutoff\": 25, \"pct_below_cutoff\": 1.0, \"name\": \"Nevada County\", \"caltrans_district\": \"03 - Marysville\", \"drmt_organization_name\": null, \"route_name\": \"Grass Valley Downtown - Brunswick Basin\", \"cutoff2\": 20, \"cutoff\": 0}, {\"calitp_itp_id\": 221, \"trip_key\": -6599830263524833773, \"trip_id\": \"t_1523707_b_30719_tn_0\", \"shape_id\": \"p_1277365\", \"route_id\": \"14213\", \"service_hours\": 0.3, \"trip_first_departure_ts\": 50760, \"trip_last_arrival_ts\": 51840, \"departure_hour\": 14, \"time_of_day\": \"Midday\", \"p25\": 0.3, \"p50\": 0.53, \"p75\": 0.53, \"p50_trip\": 0, \"fastest_trip\": 0, \"car_duration_hours\": 0.29, \"competitive_route\": 1, \"bus_multiplier\": 1.03, \"bus_difference\": 0.6, \"num_trips\": 25, \"num_competitive\": 25, \"pct_trips_competitive\": 1.0, \"bus_difference_spread\": 13.8, \"route_group\": \"short\", \"max_trip_hrs\": 0.53, \"max_trip_route_group\": 0.53, \"below_cutoff\": 25, \"pct_below_cutoff\": 1.0, \"name\": \"Nevada County\", \"caltrans_district\": \"03 - Marysville\", \"drmt_organization_name\": null, \"route_name\": \"Grass Valley Downtown - Brunswick Basin\", \"cutoff2\": 20, \"cutoff\": 0}, {\"calitp_itp_id\": 221, \"trip_key\": -1792138766408127314, \"trip_id\": \"t_1524377_b_30719_tn_3\", \"shape_id\": \"p_1277365\", \"route_id\": \"14213\", \"service_hours\": 0.3, \"trip_first_departure_ts\": 68760, \"trip_last_arrival_ts\": 69840, \"departure_hour\": 19, \"time_of_day\": \"PM Peak\", \"p25\": 0.3, \"p50\": 0.53, \"p75\": 0.53, \"p50_trip\": 0, \"fastest_trip\": 1, \"car_duration_hours\": 0.29, \"competitive_route\": 1, \"bus_multiplier\": 1.03, \"bus_difference\": 0.6, \"num_trips\": 25, \"num_competitive\": 25, \"pct_trips_competitive\": 1.0, \"bus_difference_spread\": 13.8, \"route_group\": \"short\", \"max_trip_hrs\": 0.53, \"max_trip_route_group\": 0.53, \"below_cutoff\": 25, \"pct_below_cutoff\": 1.0, \"name\": \"Nevada County\", \"caltrans_district\": \"03 - Marysville\", \"drmt_organization_name\": null, \"route_name\": \"Grass Valley Downtown - Brunswick Basin\", \"cutoff2\": 20, \"cutoff\": 0}, {\"calitp_itp_id\": 221, \"trip_key\": 5545502996058682558, \"trip_id\": \"t_1523706_b_30719_tn_0\", \"shape_id\": \"p_1277365\", \"route_id\": \"14213\", \"service_hours\": 0.3, \"trip_first_departure_ts\": 47160, \"trip_last_arrival_ts\": 48240, \"departure_hour\": 13, \"time_of_day\": \"Midday\", \"p25\": 0.3, \"p50\": 0.53, \"p75\": 0.53, \"p50_trip\": 0, \"fastest_trip\": 0, \"car_duration_hours\": 0.29, \"competitive_route\": 1, \"bus_multiplier\": 1.03, \"bus_difference\": 0.6, \"num_trips\": 25, \"num_competitive\": 25, \"pct_trips_competitive\": 1.0, \"bus_difference_spread\": 13.8, \"route_group\": \"short\", \"max_trip_hrs\": 0.53, \"max_trip_route_group\": 0.53, \"below_cutoff\": 25, \"pct_below_cutoff\": 1.0, \"name\": \"Nevada County\", \"caltrans_district\": \"03 - Marysville\", \"drmt_organization_name\": null, \"route_name\": \"Grass Valley Downtown - Brunswick Basin\", \"cutoff2\": 20, \"cutoff\": 0}, {\"calitp_itp_id\": 221, \"trip_key\": -2946560557554459726, \"trip_id\": \"t_1524377_b_30719_tn_2\", \"shape_id\": \"p_1277365\", \"route_id\": \"14213\", \"service_hours\": 0.3, \"trip_first_departure_ts\": 65160, \"trip_last_arrival_ts\": 66240, \"departure_hour\": 18, \"time_of_day\": \"PM Peak\", \"p25\": 0.3, \"p50\": 0.53, \"p75\": 0.53, \"p50_trip\": 0, \"fastest_trip\": 0, \"car_duration_hours\": 0.29, \"competitive_route\": 1, \"bus_multiplier\": 1.03, \"bus_difference\": 0.6, \"num_trips\": 25, \"num_competitive\": 25, \"pct_trips_competitive\": 1.0, \"bus_difference_spread\": 13.8, \"route_group\": \"short\", \"max_trip_hrs\": 0.53, \"max_trip_route_group\": 0.53, \"below_cutoff\": 25, \"pct_below_cutoff\": 1.0, \"name\": \"Nevada County\", \"caltrans_district\": \"03 - Marysville\", \"drmt_organization_name\": null, \"route_name\": \"Grass Valley Downtown - Brunswick Basin\", \"cutoff2\": 20, \"cutoff\": 0}, {\"calitp_itp_id\": 221, \"trip_key\": -5601550539585256135, \"trip_id\": \"t_1523704_b_30719_tn_0\", \"shape_id\": \"p_1277365\", \"route_id\": \"14213\", \"service_hours\": 0.3, \"trip_first_departure_ts\": 39960, \"trip_last_arrival_ts\": 41040, \"departure_hour\": 11, \"time_of_day\": \"Midday\", \"p25\": 0.3, \"p50\": 0.53, \"p75\": 0.53, \"p50_trip\": 0, \"fastest_trip\": 0, \"car_duration_hours\": 0.29, \"competitive_route\": 1, \"bus_multiplier\": 1.03, \"bus_difference\": 0.6, \"num_trips\": 25, \"num_competitive\": 25, \"pct_trips_competitive\": 1.0, \"bus_difference_spread\": 13.8, \"route_group\": \"short\", \"max_trip_hrs\": 0.53, \"max_trip_route_group\": 0.53, \"below_cutoff\": 25, \"pct_below_cutoff\": 1.0, \"name\": \"Nevada County\", \"caltrans_district\": \"03 - Marysville\", \"drmt_organization_name\": null, \"route_name\": \"Grass Valley Downtown - Brunswick Basin\", \"cutoff2\": 20, \"cutoff\": 0}, {\"calitp_itp_id\": 221, \"trip_key\": 8457037490932722398, \"trip_id\": \"t_1524377_b_30719_tn_1\", \"shape_id\": \"p_1277365\", \"route_id\": \"14213\", \"service_hours\": 0.3, \"trip_first_departure_ts\": 61560, \"trip_last_arrival_ts\": 62640, \"departure_hour\": 17, \"time_of_day\": \"PM Peak\", \"p25\": 0.3, \"p50\": 0.53, \"p75\": 0.53, \"p50_trip\": 0, \"fastest_trip\": 0, \"car_duration_hours\": 0.29, \"competitive_route\": 1, \"bus_multiplier\": 1.03, \"bus_difference\": 0.6, \"num_trips\": 25, \"num_competitive\": 25, \"pct_trips_competitive\": 1.0, \"bus_difference_spread\": 13.8, \"route_group\": \"short\", \"max_trip_hrs\": 0.53, \"max_trip_route_group\": 0.53, \"below_cutoff\": 25, \"pct_below_cutoff\": 1.0, \"name\": \"Nevada County\", \"caltrans_district\": \"03 - Marysville\", \"drmt_organization_name\": null, \"route_name\": \"Grass Valley Downtown - Brunswick Basin\", \"cutoff2\": 20, \"cutoff\": 0}, {\"calitp_itp_id\": 221, \"trip_key\": -18513496323167033, \"trip_id\": \"t_1523701_b_30719_tn_0\", \"shape_id\": \"p_1277365\", \"route_id\": \"14213\", \"service_hours\": 0.3, \"trip_first_departure_ts\": 29160, \"trip_last_arrival_ts\": 30240, \"departure_hour\": 8, \"time_of_day\": \"AM Peak\", \"p25\": 0.3, \"p50\": 0.53, \"p75\": 0.53, \"p50_trip\": 0, \"fastest_trip\": 0, \"car_duration_hours\": 0.29, \"competitive_route\": 1, \"bus_multiplier\": 1.03, \"bus_difference\": 0.6, \"num_trips\": 25, \"num_competitive\": 25, \"pct_trips_competitive\": 1.0, \"bus_difference_spread\": 13.8, \"route_group\": \"short\", \"max_trip_hrs\": 0.53, \"max_trip_route_group\": 0.53, \"below_cutoff\": 25, \"pct_below_cutoff\": 1.0, \"name\": \"Nevada County\", \"caltrans_district\": \"03 - Marysville\", \"drmt_organization_name\": null, \"route_name\": \"Grass Valley Downtown - Brunswick Basin\", \"cutoff2\": 20, \"cutoff\": 0}, {\"calitp_itp_id\": 221, \"trip_key\": -751622146585304013, \"trip_id\": \"t_1523699_b_30719_tn_0\", \"shape_id\": \"p_1277406\", \"route_id\": \"14213\", \"service_hours\": 0.53, \"trip_first_departure_ts\": 37800, \"trip_last_arrival_ts\": 39720, \"departure_hour\": 10, \"time_of_day\": \"Midday\", \"p25\": 0.3, \"p50\": 0.53, \"p75\": 0.53, \"p50_trip\": 1, \"fastest_trip\": 0, \"car_duration_hours\": 0.29, \"competitive_route\": 1, \"bus_multiplier\": 1.83, \"bus_difference\": 14.4, \"num_trips\": 25, \"num_competitive\": 25, \"pct_trips_competitive\": 1.0, \"bus_difference_spread\": 13.8, \"route_group\": \"short\", \"max_trip_hrs\": 0.53, \"max_trip_route_group\": 0.53, \"below_cutoff\": 25, \"pct_below_cutoff\": 1.0, \"name\": \"Nevada County\", \"caltrans_district\": \"03 - Marysville\", \"drmt_organization_name\": null, \"route_name\": \"Grass Valley Downtown - Brunswick Basin\", \"cutoff2\": 20, \"cutoff\": 0}, {\"calitp_itp_id\": 221, \"trip_key\": 5958656306653386538, \"trip_id\": \"t_1523700_b_30719_tn_0\", \"shape_id\": \"p_1277406\", \"route_id\": \"14213\", \"service_hours\": 0.53, \"trip_first_departure_ts\": 41400, \"trip_last_arrival_ts\": 43320, \"departure_hour\": 11, \"time_of_day\": \"Midday\", \"p25\": 0.3, \"p50\": 0.53, \"p75\": 0.53, \"p50_trip\": 1, \"fastest_trip\": 0, \"car_duration_hours\": 0.29, \"competitive_route\": 1, \"bus_multiplier\": 1.83, \"bus_difference\": 14.4, \"num_trips\": 25, \"num_competitive\": 25, \"pct_trips_competitive\": 1.0, \"bus_difference_spread\": 13.8, \"route_group\": \"short\", \"max_trip_hrs\": 0.53, \"max_trip_route_group\": 0.53, \"below_cutoff\": 25, \"pct_below_cutoff\": 1.0, \"name\": \"Nevada County\", \"caltrans_district\": \"03 - Marysville\", \"drmt_organization_name\": null, \"route_name\": \"Grass Valley Downtown - Brunswick Basin\", \"cutoff2\": 20, \"cutoff\": 0}, {\"calitp_itp_id\": 221, \"trip_key\": -2930613919531841270, \"trip_id\": \"t_1523714_b_30719_tn_0\", \"shape_id\": \"p_1277406\", \"route_id\": \"14213\", \"service_hours\": 0.53, \"trip_first_departure_ts\": 23400, \"trip_last_arrival_ts\": 25320, \"departure_hour\": 6, \"time_of_day\": \"Owl Service\", \"p25\": 0.3, \"p50\": 0.53, \"p75\": 0.53, \"p50_trip\": 1, \"fastest_trip\": 0, \"car_duration_hours\": 0.29, \"competitive_route\": 1, \"bus_multiplier\": 1.83, \"bus_difference\": 14.4, \"num_trips\": 25, \"num_competitive\": 25, \"pct_trips_competitive\": 1.0, \"bus_difference_spread\": 13.8, \"route_group\": \"short\", \"max_trip_hrs\": 0.53, \"max_trip_route_group\": 0.53, \"below_cutoff\": 25, \"pct_below_cutoff\": 1.0, \"name\": \"Nevada County\", \"caltrans_district\": \"03 - Marysville\", \"drmt_organization_name\": null, \"route_name\": \"Grass Valley Downtown - Brunswick Basin\", \"cutoff2\": 20, \"cutoff\": 0}, {\"calitp_itp_id\": 221, \"trip_key\": -7943430864300439059, \"trip_id\": \"t_1523697_b_30719_tn_0\", \"shape_id\": \"p_1277406\", \"route_id\": \"14213\", \"service_hours\": 0.53, \"trip_first_departure_ts\": 45000, \"trip_last_arrival_ts\": 46920, \"departure_hour\": 12, \"time_of_day\": \"Midday\", \"p25\": 0.3, \"p50\": 0.53, \"p75\": 0.53, \"p50_trip\": 1, \"fastest_trip\": 0, \"car_duration_hours\": 0.29, \"competitive_route\": 1, \"bus_multiplier\": 1.83, \"bus_difference\": 14.4, \"num_trips\": 25, \"num_competitive\": 25, \"pct_trips_competitive\": 1.0, \"bus_difference_spread\": 13.8, \"route_group\": \"short\", \"max_trip_hrs\": 0.53, \"max_trip_route_group\": 0.53, \"below_cutoff\": 25, \"pct_below_cutoff\": 1.0, \"name\": \"Nevada County\", \"caltrans_district\": \"03 - Marysville\", \"drmt_organization_name\": null, \"route_name\": \"Grass Valley Downtown - Brunswick Basin\", \"cutoff2\": 20, \"cutoff\": 0}, {\"calitp_itp_id\": 221, \"trip_key\": -2717591988354409515, \"trip_id\": \"t_1523715_b_30719_tn_2\", \"shape_id\": \"p_1277406\", \"route_id\": \"14213\", \"service_hours\": 0.53, \"trip_first_departure_ts\": 63000, \"trip_last_arrival_ts\": 64920, \"departure_hour\": 17, \"time_of_day\": \"PM Peak\", \"p25\": 0.3, \"p50\": 0.53, \"p75\": 0.53, \"p50_trip\": 1, \"fastest_trip\": 0, \"car_duration_hours\": 0.29, \"competitive_route\": 1, \"bus_multiplier\": 1.83, \"bus_difference\": 14.4, \"num_trips\": 25, \"num_competitive\": 25, \"pct_trips_competitive\": 1.0, \"bus_difference_spread\": 13.8, \"route_group\": \"short\", \"max_trip_hrs\": 0.53, \"max_trip_route_group\": 0.53, \"below_cutoff\": 25, \"pct_below_cutoff\": 1.0, \"name\": \"Nevada County\", \"caltrans_district\": \"03 - Marysville\", \"drmt_organization_name\": null, \"route_name\": \"Grass Valley Downtown - Brunswick Basin\", \"cutoff2\": 20, \"cutoff\": 0}, {\"calitp_itp_id\": 221, \"trip_key\": -1297581207849023466, \"trip_id\": \"t_1523698_b_30719_tn_0\", \"shape_id\": \"p_1277406\", \"route_id\": \"14213\", \"service_hours\": 0.53, \"trip_first_departure_ts\": 34200, \"trip_last_arrival_ts\": 36120, \"departure_hour\": 9, \"time_of_day\": \"AM Peak\", \"p25\": 0.3, \"p50\": 0.53, \"p75\": 0.53, \"p50_trip\": 1, \"fastest_trip\": 0, \"car_duration_hours\": 0.29, \"competitive_route\": 1, \"bus_multiplier\": 1.83, \"bus_difference\": 14.4, \"num_trips\": 25, \"num_competitive\": 25, \"pct_trips_competitive\": 1.0, \"bus_difference_spread\": 13.8, \"route_group\": \"short\", \"max_trip_hrs\": 0.53, \"max_trip_route_group\": 0.53, \"below_cutoff\": 25, \"pct_below_cutoff\": 1.0, \"name\": \"Nevada County\", \"caltrans_district\": \"03 - Marysville\", \"drmt_organization_name\": null, \"route_name\": \"Grass Valley Downtown - Brunswick Basin\", \"cutoff2\": 20, \"cutoff\": 0}, {\"calitp_itp_id\": 221, \"trip_key\": -8254111083152176925, \"trip_id\": \"t_1523715_b_30719_tn_3\", \"shape_id\": \"p_1277406\", \"route_id\": \"14213\", \"service_hours\": 0.53, \"trip_first_departure_ts\": 66600, \"trip_last_arrival_ts\": 68520, \"departure_hour\": 18, \"time_of_day\": \"PM Peak\", \"p25\": 0.3, \"p50\": 0.53, \"p75\": 0.53, \"p50_trip\": 1, \"fastest_trip\": 0, \"car_duration_hours\": 0.29, \"competitive_route\": 1, \"bus_multiplier\": 1.83, \"bus_difference\": 14.4, \"num_trips\": 25, \"num_competitive\": 25, \"pct_trips_competitive\": 1.0, \"bus_difference_spread\": 13.8, \"route_group\": \"short\", \"max_trip_hrs\": 0.53, \"max_trip_route_group\": 0.53, \"below_cutoff\": 25, \"pct_below_cutoff\": 1.0, \"name\": \"Nevada County\", \"caltrans_district\": \"03 - Marysville\", \"drmt_organization_name\": null, \"route_name\": \"Grass Valley Downtown - Brunswick Basin\", \"cutoff2\": 20, \"cutoff\": 0}, {\"calitp_itp_id\": 221, \"trip_key\": -1110075500676453112, \"trip_id\": \"t_1523710_b_30719_tn_0\", \"shape_id\": \"p_1277407\", \"route_id\": \"14213\", \"service_hours\": 0.53, \"trip_first_departure_ts\": 48600, \"trip_last_arrival_ts\": 50520, \"departure_hour\": 13, \"time_of_day\": \"Midday\", \"p25\": 0.3, \"p50\": 0.53, \"p75\": 0.53, \"p50_trip\": 1, \"fastest_trip\": 0, \"car_duration_hours\": 0.29, \"competitive_route\": 1, \"bus_multiplier\": 1.83, \"bus_difference\": 14.4, \"num_trips\": 25, \"num_competitive\": 25, \"pct_trips_competitive\": 1.0, \"bus_difference_spread\": 13.8, \"route_group\": \"short\", \"max_trip_hrs\": 0.53, \"max_trip_route_group\": 0.53, \"below_cutoff\": 25, \"pct_below_cutoff\": 1.0, \"name\": \"Nevada County\", \"caltrans_district\": \"03 - Marysville\", \"drmt_organization_name\": null, \"route_name\": \"Grass Valley Downtown - Brunswick Basin\", \"cutoff2\": 20, \"cutoff\": 0}, {\"calitp_itp_id\": 221, \"trip_key\": 3115021959998586160, \"trip_id\": \"t_1523696_b_30719_tn_0\", \"shape_id\": \"p_1277407\", \"route_id\": \"14213\", \"service_hours\": 0.53, \"trip_first_departure_ts\": 55800, \"trip_last_arrival_ts\": 57720, \"departure_hour\": 15, \"time_of_day\": \"Midday\", \"p25\": 0.3, \"p50\": 0.53, \"p75\": 0.53, \"p50_trip\": 1, \"fastest_trip\": 0, \"car_duration_hours\": 0.29, \"competitive_route\": 1, \"bus_multiplier\": 1.83, \"bus_difference\": 14.4, \"num_trips\": 25, \"num_competitive\": 25, \"pct_trips_competitive\": 1.0, \"bus_difference_spread\": 13.8, \"route_group\": \"short\", \"max_trip_hrs\": 0.53, \"max_trip_route_group\": 0.53, \"below_cutoff\": 25, \"pct_below_cutoff\": 1.0, \"name\": \"Nevada County\", \"caltrans_district\": \"03 - Marysville\", \"drmt_organization_name\": null, \"route_name\": \"Grass Valley Downtown - Brunswick Basin\", \"cutoff2\": 20, \"cutoff\": 0}, {\"calitp_itp_id\": 221, \"trip_key\": -175118521519977161, \"trip_id\": \"t_1523711_b_30719_tn_0\", \"shape_id\": \"p_1277406\", \"route_id\": \"14213\", \"service_hours\": 0.53, \"trip_first_departure_ts\": 52200, \"trip_last_arrival_ts\": 54120, \"departure_hour\": 14, \"time_of_day\": \"Midday\", \"p25\": 0.3, \"p50\": 0.53, \"p75\": 0.53, \"p50_trip\": 1, \"fastest_trip\": 0, \"car_duration_hours\": 0.29, \"competitive_route\": 1, \"bus_multiplier\": 1.83, \"bus_difference\": 14.4, \"num_trips\": 25, \"num_competitive\": 25, \"pct_trips_competitive\": 1.0, \"bus_difference_spread\": 13.8, \"route_group\": \"short\", \"max_trip_hrs\": 0.53, \"max_trip_route_group\": 0.53, \"below_cutoff\": 25, \"pct_below_cutoff\": 1.0, \"name\": \"Nevada County\", \"caltrans_district\": \"03 - Marysville\", \"drmt_organization_name\": null, \"route_name\": \"Grass Valley Downtown - Brunswick Basin\", \"cutoff2\": 20, \"cutoff\": 0}, {\"calitp_itp_id\": 221, \"trip_key\": -88652139511230805, \"trip_id\": \"t_1523715_b_30719_tn_1\", \"shape_id\": \"p_1277406\", \"route_id\": \"14213\", \"service_hours\": 0.53, \"trip_first_departure_ts\": 59400, \"trip_last_arrival_ts\": 61320, \"departure_hour\": 16, \"time_of_day\": \"Midday\", \"p25\": 0.3, \"p50\": 0.53, \"p75\": 0.53, \"p50_trip\": 1, \"fastest_trip\": 0, \"car_duration_hours\": 0.29, \"competitive_route\": 1, \"bus_multiplier\": 1.83, \"bus_difference\": 14.4, \"num_trips\": 25, \"num_competitive\": 25, \"pct_trips_competitive\": 1.0, \"bus_difference_spread\": 13.8, \"route_group\": \"short\", \"max_trip_hrs\": 0.53, \"max_trip_route_group\": 0.53, \"below_cutoff\": 25, \"pct_below_cutoff\": 1.0, \"name\": \"Nevada County\", \"caltrans_district\": \"03 - Marysville\", \"drmt_organization_name\": null, \"route_name\": \"Grass Valley Downtown - Brunswick Basin\", \"cutoff2\": 20, \"cutoff\": 0}, {\"calitp_itp_id\": 221, \"trip_key\": -4063602956833190453, \"trip_id\": \"t_1523713_b_30719_tn_0\", \"shape_id\": \"p_1277406\", \"route_id\": \"14213\", \"service_hours\": 0.53, \"trip_first_departure_ts\": 30600, \"trip_last_arrival_ts\": 32520, \"departure_hour\": 8, \"time_of_day\": \"AM Peak\", \"p25\": 0.3, \"p50\": 0.53, \"p75\": 0.53, \"p50_trip\": 1, \"fastest_trip\": 0, \"car_duration_hours\": 0.29, \"competitive_route\": 1, \"bus_multiplier\": 1.83, \"bus_difference\": 14.4, \"num_trips\": 25, \"num_competitive\": 25, \"pct_trips_competitive\": 1.0, \"bus_difference_spread\": 13.8, \"route_group\": \"short\", \"max_trip_hrs\": 0.53, \"max_trip_route_group\": 0.53, \"below_cutoff\": 25, \"pct_below_cutoff\": 1.0, \"name\": \"Nevada County\", \"caltrans_district\": \"03 - Marysville\", \"drmt_organization_name\": null, \"route_name\": \"Grass Valley Downtown - Brunswick Basin\", \"cutoff2\": 20, \"cutoff\": 0}, {\"calitp_itp_id\": 221, \"trip_key\": -5205501695277092205, \"trip_id\": \"t_1523712_b_30719_tn_0\", \"shape_id\": \"p_1277406\", \"route_id\": \"14213\", \"service_hours\": 0.53, \"trip_first_departure_ts\": 27000, \"trip_last_arrival_ts\": 28920, \"departure_hour\": 7, \"time_of_day\": \"AM Peak\", \"p25\": 0.3, \"p50\": 0.53, \"p75\": 0.53, \"p50_trip\": 1, \"fastest_trip\": 0, \"car_duration_hours\": 0.29, \"competitive_route\": 1, \"bus_multiplier\": 1.83, \"bus_difference\": 14.4, \"num_trips\": 25, \"num_competitive\": 25, \"pct_trips_competitive\": 1.0, \"bus_difference_spread\": 13.8, \"route_group\": \"short\", \"max_trip_hrs\": 0.53, \"max_trip_route_group\": 0.53, \"below_cutoff\": 25, \"pct_below_cutoff\": 1.0, \"name\": \"Nevada County\", \"caltrans_district\": \"03 - Marysville\", \"drmt_organization_name\": null, \"route_name\": \"Grass Valley Downtown - Brunswick Basin\", \"cutoff2\": 20, \"cutoff\": 0}, {\"calitp_itp_id\": 221, \"trip_key\": -5954322907603516198, \"trip_id\": \"t_1523690_b_30719_tn_1\", \"shape_id\": \"p_1277402\", \"route_id\": \"14214\", \"service_hours\": 0.37, \"trip_first_departure_ts\": 48600, \"trip_last_arrival_ts\": 49920, \"departure_hour\": 13, \"time_of_day\": \"Midday\", \"p25\": 0.385, \"p50\": 0.43, \"p75\": 0.43, \"p50_trip\": 0, \"fastest_trip\": 0, \"car_duration_hours\": 0.23, \"competitive_route\": 1, \"bus_multiplier\": 1.61, \"bus_difference\": 8.4, \"num_trips\": 18, \"num_competitive\": 18, \"pct_trips_competitive\": 1.0, \"bus_difference_spread\": 3.5999999999999996, \"route_group\": \"short\", \"max_trip_hrs\": 0.43, \"max_trip_route_group\": 0.43, \"below_cutoff\": 18, \"pct_below_cutoff\": 1.0, \"name\": \"Nevada County\", \"caltrans_district\": \"03 - Marysville\", \"drmt_organization_name\": null, \"route_name\": \"Route 3 Continues Onto Route 2 At The Tinloy St Transit Center On Selected Runs.  Route 3 Continues To Loma Rica On Selected Runs On Weekdays Only.\", \"cutoff2\": 20, \"cutoff\": 0}, {\"calitp_itp_id\": 221, \"trip_key\": -4353753918843046734, \"trip_id\": \"t_1523689_b_30719_tn_1\", \"shape_id\": \"p_1277402\", \"route_id\": \"14214\", \"service_hours\": 0.37, \"trip_first_departure_ts\": 30600, \"trip_last_arrival_ts\": 31920, \"departure_hour\": 8, \"time_of_day\": \"AM Peak\", \"p25\": 0.385, \"p50\": 0.43, \"p75\": 0.43, \"p50_trip\": 0, \"fastest_trip\": 0, \"car_duration_hours\": 0.23, \"competitive_route\": 1, \"bus_multiplier\": 1.61, \"bus_difference\": 8.4, \"num_trips\": 18, \"num_competitive\": 18, \"pct_trips_competitive\": 1.0, \"bus_difference_spread\": 3.5999999999999996, \"route_group\": \"short\", \"max_trip_hrs\": 0.43, \"max_trip_route_group\": 0.43, \"below_cutoff\": 18, \"pct_below_cutoff\": 1.0, \"name\": \"Nevada County\", \"caltrans_district\": \"03 - Marysville\", \"drmt_organization_name\": null, \"route_name\": \"Route 3 Continues Onto Route 2 At The Tinloy St Transit Center On Selected Runs.  Route 3 Continues To Loma Rica On Selected Runs On Weekdays Only.\", \"cutoff2\": 20, \"cutoff\": 0}, {\"calitp_itp_id\": 221, \"trip_key\": -4139071017515178389, \"trip_id\": \"t_1523689_b_30719_tn_3\", \"shape_id\": \"p_1277402\", \"route_id\": \"14214\", \"service_hours\": 0.37, \"trip_first_departure_ts\": 45000, \"trip_last_arrival_ts\": 46320, \"departure_hour\": 12, \"time_of_day\": \"Midday\", \"p25\": 0.385, \"p50\": 0.43, \"p75\": 0.43, \"p50_trip\": 0, \"fastest_trip\": 0, \"car_duration_hours\": 0.23, \"competitive_route\": 1, \"bus_multiplier\": 1.61, \"bus_difference\": 8.4, \"num_trips\": 18, \"num_competitive\": 18, \"pct_trips_competitive\": 1.0, \"bus_difference_spread\": 3.5999999999999996, \"route_group\": \"short\", \"max_trip_hrs\": 0.43, \"max_trip_route_group\": 0.43, \"below_cutoff\": 18, \"pct_below_cutoff\": 1.0, \"name\": \"Nevada County\", \"caltrans_district\": \"03 - Marysville\", \"drmt_organization_name\": null, \"route_name\": \"Route 3 Continues Onto Route 2 At The Tinloy St Transit Center On Selected Runs.  Route 3 Continues To Loma Rica On Selected Runs On Weekdays Only.\", \"cutoff2\": 20, \"cutoff\": 0}, {\"calitp_itp_id\": 221, \"trip_key\": -5628983764226905833, \"trip_id\": \"t_1523690_b_30719_tn_2\", \"shape_id\": \"p_1277402\", \"route_id\": \"14214\", \"service_hours\": 0.37, \"trip_first_departure_ts\": 55800, \"trip_last_arrival_ts\": 57120, \"departure_hour\": 15, \"time_of_day\": \"Midday\", \"p25\": 0.385, \"p50\": 0.43, \"p75\": 0.43, \"p50_trip\": 0, \"fastest_trip\": 1, \"car_duration_hours\": 0.23, \"competitive_route\": 1, \"bus_multiplier\": 1.61, \"bus_difference\": 8.4, \"num_trips\": 18, \"num_competitive\": 18, \"pct_trips_competitive\": 1.0, \"bus_difference_spread\": 3.5999999999999996, \"route_group\": \"short\", \"max_trip_hrs\": 0.43, \"max_trip_route_group\": 0.43, \"below_cutoff\": 18, \"pct_below_cutoff\": 1.0, \"name\": \"Nevada County\", \"caltrans_district\": \"03 - Marysville\", \"drmt_organization_name\": null, \"route_name\": \"Route 3 Continues Onto Route 2 At The Tinloy St Transit Center On Selected Runs.  Route 3 Continues To Loma Rica On Selected Runs On Weekdays Only.\", \"cutoff2\": 20, \"cutoff\": 0}, {\"calitp_itp_id\": 221, \"trip_key\": 6004687622847397905, \"trip_id\": \"t_1523689_b_30719_tn_2\", \"shape_id\": \"p_1277402\", \"route_id\": \"14214\", \"service_hours\": 0.37, \"trip_first_departure_ts\": 37800, \"trip_last_arrival_ts\": 39120, \"departure_hour\": 10, \"time_of_day\": \"Midday\", \"p25\": 0.385, \"p50\": 0.43, \"p75\": 0.43, \"p50_trip\": 0, \"fastest_trip\": 0, \"car_duration_hours\": 0.23, \"competitive_route\": 1, \"bus_multiplier\": 1.61, \"bus_difference\": 8.4, \"num_trips\": 18, \"num_competitive\": 18, \"pct_trips_competitive\": 1.0, \"bus_difference_spread\": 3.5999999999999996, \"route_group\": \"short\", \"max_trip_hrs\": 0.43, \"max_trip_route_group\": 0.43, \"below_cutoff\": 18, \"pct_below_cutoff\": 1.0, \"name\": \"Nevada County\", \"caltrans_district\": \"03 - Marysville\", \"drmt_organization_name\": null, \"route_name\": \"Route 3 Continues Onto Route 2 At The Tinloy St Transit Center On Selected Runs.  Route 3 Continues To Loma Rica On Selected Runs On Weekdays Only.\", \"cutoff2\": 20, \"cutoff\": 0}, {\"calitp_itp_id\": 221, \"trip_key\": 2673187237687141665, \"trip_id\": \"t_1521674_b_30719_tn_3\", \"shape_id\": \"p_1277435\", \"route_id\": \"14214\", \"service_hours\": 0.43, \"trip_first_departure_ts\": 68400, \"trip_last_arrival_ts\": 69960, \"departure_hour\": 19, \"time_of_day\": \"PM Peak\", \"p25\": 0.385, \"p50\": 0.43, \"p75\": 0.43, \"p50_trip\": 1, \"fastest_trip\": 0, \"car_duration_hours\": 0.23, \"competitive_route\": 1, \"bus_multiplier\": 1.87, \"bus_difference\": 12.0, \"num_trips\": 18, \"num_competitive\": 18, \"pct_trips_competitive\": 1.0, \"bus_difference_spread\": 3.5999999999999996, \"route_group\": \"short\", \"max_trip_hrs\": 0.43, \"max_trip_route_group\": 0.43, \"below_cutoff\": 18, \"pct_below_cutoff\": 1.0, \"name\": \"Nevada County\", \"caltrans_district\": \"03 - Marysville\", \"drmt_organization_name\": null, \"route_name\": \"Route 3 Continues Onto Route 2 At The Tinloy St Transit Center On Selected Runs.  Route 3 Continues To Loma Rica On Selected Runs On Weekdays Only.\", \"cutoff2\": 20, \"cutoff\": 0}, {\"calitp_itp_id\": 221, \"trip_key\": 7392758430088075601, \"trip_id\": \"t_1521657_b_30719_tn_0\", \"shape_id\": \"p_1277436\", \"route_id\": \"14214\", \"service_hours\": 0.43, \"trip_first_departure_ts\": 57600, \"trip_last_arrival_ts\": 59160, \"departure_hour\": 16, \"time_of_day\": \"Midday\", \"p25\": 0.385, \"p50\": 0.43, \"p75\": 0.43, \"p50_trip\": 1, \"fastest_trip\": 0, \"car_duration_hours\": 0.23, \"competitive_route\": 1, \"bus_multiplier\": 1.87, \"bus_difference\": 12.0, \"num_trips\": 18, \"num_competitive\": 18, \"pct_trips_competitive\": 1.0, \"bus_difference_spread\": 3.5999999999999996, \"route_group\": \"short\", \"max_trip_hrs\": 0.43, \"max_trip_route_group\": 0.43, \"below_cutoff\": 18, \"pct_below_cutoff\": 1.0, \"name\": \"Nevada County\", \"caltrans_district\": \"03 - Marysville\", \"drmt_organization_name\": null, \"route_name\": \"Route 3 Continues Onto Route 2 At The Tinloy St Transit Center On Selected Runs.  Route 3 Continues To Loma Rica On Selected Runs On Weekdays Only.\", \"cutoff2\": 20, \"cutoff\": 0}, {\"calitp_itp_id\": 221, \"trip_key\": 7196272006054014586, \"trip_id\": \"t_1521655_b_30719_tn_0\", \"shape_id\": \"p_1277436\", \"route_id\": \"14214\", \"service_hours\": 0.43, \"trip_first_departure_ts\": 39600, \"trip_last_arrival_ts\": 41160, \"departure_hour\": 11, \"time_of_day\": \"Midday\", \"p25\": 0.385, \"p50\": 0.43, \"p75\": 0.43, \"p50_trip\": 1, \"fastest_trip\": 0, \"car_duration_hours\": 0.23, \"competitive_route\": 1, \"bus_multiplier\": 1.87, \"bus_difference\": 12.0, \"num_trips\": 18, \"num_competitive\": 18, \"pct_trips_competitive\": 1.0, \"bus_difference_spread\": 3.5999999999999996, \"route_group\": \"short\", \"max_trip_hrs\": 0.43, \"max_trip_route_group\": 0.43, \"below_cutoff\": 18, \"pct_below_cutoff\": 1.0, \"name\": \"Nevada County\", \"caltrans_district\": \"03 - Marysville\", \"drmt_organization_name\": null, \"route_name\": \"Route 3 Continues Onto Route 2 At The Tinloy St Transit Center On Selected Runs.  Route 3 Continues To Loma Rica On Selected Runs On Weekdays Only.\", \"cutoff2\": 20, \"cutoff\": 0}, {\"calitp_itp_id\": 221, \"trip_key\": 3105874488608409094, \"trip_id\": \"t_1521653_b_30719_tn_0\", \"shape_id\": \"p_1277435\", \"route_id\": \"14214\", \"service_hours\": 0.43, \"trip_first_departure_ts\": 43200, \"trip_last_arrival_ts\": 44760, \"departure_hour\": 12, \"time_of_day\": \"Midday\", \"p25\": 0.385, \"p50\": 0.43, \"p75\": 0.43, \"p50_trip\": 1, \"fastest_trip\": 0, \"car_duration_hours\": 0.23, \"competitive_route\": 1, \"bus_multiplier\": 1.87, \"bus_difference\": 12.0, \"num_trips\": 18, \"num_competitive\": 18, \"pct_trips_competitive\": 1.0, \"bus_difference_spread\": 3.5999999999999996, \"route_group\": \"short\", \"max_trip_hrs\": 0.43, \"max_trip_route_group\": 0.43, \"below_cutoff\": 18, \"pct_below_cutoff\": 1.0, \"name\": \"Nevada County\", \"caltrans_district\": \"03 - Marysville\", \"drmt_organization_name\": null, \"route_name\": \"Route 3 Continues Onto Route 2 At The Tinloy St Transit Center On Selected Runs.  Route 3 Continues To Loma Rica On Selected Runs On Weekdays Only.\", \"cutoff2\": 20, \"cutoff\": 0}, {\"calitp_itp_id\": 221, \"trip_key\": -4889250977737711844, \"trip_id\": \"t_1521672_b_30719_tn_0\", \"shape_id\": \"p_1277436\", \"route_id\": \"14214\", \"service_hours\": 0.43, \"trip_first_departure_ts\": 25200, \"trip_last_arrival_ts\": 26760, \"departure_hour\": 7, \"time_of_day\": \"AM Peak\", \"p25\": 0.385, \"p50\": 0.43, \"p75\": 0.43, \"p50_trip\": 1, \"fastest_trip\": 0, \"car_duration_hours\": 0.23, \"competitive_route\": 1, \"bus_multiplier\": 1.87, \"bus_difference\": 12.0, \"num_trips\": 18, \"num_competitive\": 18, \"pct_trips_competitive\": 1.0, \"bus_difference_spread\": 3.5999999999999996, \"route_group\": \"short\", \"max_trip_hrs\": 0.43, \"max_trip_route_group\": 0.43, \"below_cutoff\": 18, \"pct_below_cutoff\": 1.0, \"name\": \"Nevada County\", \"caltrans_district\": \"03 - Marysville\", \"drmt_organization_name\": null, \"route_name\": \"Route 3 Continues Onto Route 2 At The Tinloy St Transit Center On Selected Runs.  Route 3 Continues To Loma Rica On Selected Runs On Weekdays Only.\", \"cutoff2\": 20, \"cutoff\": 0}, {\"calitp_itp_id\": 221, \"trip_key\": -8236644717398761490, \"trip_id\": \"t_1521674_b_30719_tn_1\", \"shape_id\": \"p_1277435\", \"route_id\": \"14214\", \"service_hours\": 0.43, \"trip_first_departure_ts\": 61200, \"trip_last_arrival_ts\": 62760, \"departure_hour\": 17, \"time_of_day\": \"PM Peak\", \"p25\": 0.385, \"p50\": 0.43, \"p75\": 0.43, \"p50_trip\": 1, \"fastest_trip\": 0, \"car_duration_hours\": 0.23, \"competitive_route\": 1, \"bus_multiplier\": 1.87, \"bus_difference\": 12.0, \"num_trips\": 18, \"num_competitive\": 18, \"pct_trips_competitive\": 1.0, \"bus_difference_spread\": 3.5999999999999996, \"route_group\": \"short\", \"max_trip_hrs\": 0.43, \"max_trip_route_group\": 0.43, \"below_cutoff\": 18, \"pct_below_cutoff\": 1.0, \"name\": \"Nevada County\", \"caltrans_district\": \"03 - Marysville\", \"drmt_organization_name\": null, \"route_name\": \"Route 3 Continues Onto Route 2 At The Tinloy St Transit Center On Selected Runs.  Route 3 Continues To Loma Rica On Selected Runs On Weekdays Only.\", \"cutoff2\": 20, \"cutoff\": 0}, {\"calitp_itp_id\": 221, \"trip_key\": 1289260090651955908, \"trip_id\": \"t_1521652_b_30719_tn_0\", \"shape_id\": \"p_1277435\", \"route_id\": \"14214\", \"service_hours\": 0.43, \"trip_first_departure_ts\": 36000, \"trip_last_arrival_ts\": 37560, \"departure_hour\": 10, \"time_of_day\": \"Midday\", \"p25\": 0.385, \"p50\": 0.43, \"p75\": 0.43, \"p50_trip\": 1, \"fastest_trip\": 0, \"car_duration_hours\": 0.23, \"competitive_route\": 1, \"bus_multiplier\": 1.87, \"bus_difference\": 12.0, \"num_trips\": 18, \"num_competitive\": 18, \"pct_trips_competitive\": 1.0, \"bus_difference_spread\": 3.5999999999999996, \"route_group\": \"short\", \"max_trip_hrs\": 0.43, \"max_trip_route_group\": 0.43, \"below_cutoff\": 18, \"pct_below_cutoff\": 1.0, \"name\": \"Nevada County\", \"caltrans_district\": \"03 - Marysville\", \"drmt_organization_name\": null, \"route_name\": \"Route 3 Continues Onto Route 2 At The Tinloy St Transit Center On Selected Runs.  Route 3 Continues To Loma Rica On Selected Runs On Weekdays Only.\", \"cutoff2\": 20, \"cutoff\": 0}, {\"calitp_itp_id\": 221, \"trip_key\": 2683565576891295944, \"trip_id\": \"t_1521654_b_30719_tn_0\", \"shape_id\": \"p_1277435\", \"route_id\": \"14214\", \"service_hours\": 0.43, \"trip_first_departure_ts\": 46800, \"trip_last_arrival_ts\": 48360, \"departure_hour\": 13, \"time_of_day\": \"Midday\", \"p25\": 0.385, \"p50\": 0.43, \"p75\": 0.43, \"p50_trip\": 1, \"fastest_trip\": 0, \"car_duration_hours\": 0.23, \"competitive_route\": 1, \"bus_multiplier\": 1.87, \"bus_difference\": 12.0, \"num_trips\": 18, \"num_competitive\": 18, \"pct_trips_competitive\": 1.0, \"bus_difference_spread\": 3.5999999999999996, \"route_group\": \"short\", \"max_trip_hrs\": 0.43, \"max_trip_route_group\": 0.43, \"below_cutoff\": 18, \"pct_below_cutoff\": 1.0, \"name\": \"Nevada County\", \"caltrans_district\": \"03 - Marysville\", \"drmt_organization_name\": null, \"route_name\": \"Route 3 Continues Onto Route 2 At The Tinloy St Transit Center On Selected Runs.  Route 3 Continues To Loma Rica On Selected Runs On Weekdays Only.\", \"cutoff2\": 20, \"cutoff\": 0}, {\"calitp_itp_id\": 221, \"trip_key\": -4249970615052157051, \"trip_id\": \"t_1521658_b_30719_tn_0\", \"shape_id\": \"p_1277435\", \"route_id\": \"14214\", \"service_hours\": 0.43, \"trip_first_departure_ts\": 54000, \"trip_last_arrival_ts\": 55560, \"departure_hour\": 15, \"time_of_day\": \"Midday\", \"p25\": 0.385, \"p50\": 0.43, \"p75\": 0.43, \"p50_trip\": 1, \"fastest_trip\": 0, \"car_duration_hours\": 0.23, \"competitive_route\": 1, \"bus_multiplier\": 1.87, \"bus_difference\": 12.0, \"num_trips\": 18, \"num_competitive\": 18, \"pct_trips_competitive\": 1.0, \"bus_difference_spread\": 3.5999999999999996, \"route_group\": \"short\", \"max_trip_hrs\": 0.43, \"max_trip_route_group\": 0.43, \"below_cutoff\": 18, \"pct_below_cutoff\": 1.0, \"name\": \"Nevada County\", \"caltrans_district\": \"03 - Marysville\", \"drmt_organization_name\": null, \"route_name\": \"Route 3 Continues Onto Route 2 At The Tinloy St Transit Center On Selected Runs.  Route 3 Continues To Loma Rica On Selected Runs On Weekdays Only.\", \"cutoff2\": 20, \"cutoff\": 0}, {\"calitp_itp_id\": 221, \"trip_key\": 6571909576953306131, \"trip_id\": \"t_1521656_b_30719_tn_0\", \"shape_id\": \"p_1277437\", \"route_id\": \"14214\", \"service_hours\": 0.43, \"trip_first_departure_ts\": 28800, \"trip_last_arrival_ts\": 30360, \"departure_hour\": 8, \"time_of_day\": \"AM Peak\", \"p25\": 0.385, \"p50\": 0.43, \"p75\": 0.43, \"p50_trip\": 1, \"fastest_trip\": 0, \"car_duration_hours\": 0.23, \"competitive_route\": 1, \"bus_multiplier\": 1.87, \"bus_difference\": 12.0, \"num_trips\": 18, \"num_competitive\": 18, \"pct_trips_competitive\": 1.0, \"bus_difference_spread\": 3.5999999999999996, \"route_group\": \"short\", \"max_trip_hrs\": 0.43, \"max_trip_route_group\": 0.43, \"below_cutoff\": 18, \"pct_below_cutoff\": 1.0, \"name\": \"Nevada County\", \"caltrans_district\": \"03 - Marysville\", \"drmt_organization_name\": null, \"route_name\": \"Route 3 Continues Onto Route 2 At The Tinloy St Transit Center On Selected Runs.  Route 3 Continues To Loma Rica On Selected Runs On Weekdays Only.\", \"cutoff2\": 20, \"cutoff\": 0}, {\"calitp_itp_id\": 221, \"trip_key\": 4198800275083607627, \"trip_id\": \"t_1521659_b_30719_tn_0\", \"shape_id\": \"p_1277436\", \"route_id\": \"14214\", \"service_hours\": 0.43, \"trip_first_departure_ts\": 50400, \"trip_last_arrival_ts\": 51960, \"departure_hour\": 14, \"time_of_day\": \"Midday\", \"p25\": 0.385, \"p50\": 0.43, \"p75\": 0.43, \"p50_trip\": 1, \"fastest_trip\": 0, \"car_duration_hours\": 0.23, \"competitive_route\": 1, \"bus_multiplier\": 1.87, \"bus_difference\": 12.0, \"num_trips\": 18, \"num_competitive\": 18, \"pct_trips_competitive\": 1.0, \"bus_difference_spread\": 3.5999999999999996, \"route_group\": \"short\", \"max_trip_hrs\": 0.43, \"max_trip_route_group\": 0.43, \"below_cutoff\": 18, \"pct_below_cutoff\": 1.0, \"name\": \"Nevada County\", \"caltrans_district\": \"03 - Marysville\", \"drmt_organization_name\": null, \"route_name\": \"Route 3 Continues Onto Route 2 At The Tinloy St Transit Center On Selected Runs.  Route 3 Continues To Loma Rica On Selected Runs On Weekdays Only.\", \"cutoff2\": 20, \"cutoff\": 0}, {\"calitp_itp_id\": 221, \"trip_key\": 1070155966066233422, \"trip_id\": \"t_1521674_b_30719_tn_2\", \"shape_id\": \"p_1277435\", \"route_id\": \"14214\", \"service_hours\": 0.43, \"trip_first_departure_ts\": 64800, \"trip_last_arrival_ts\": 66360, \"departure_hour\": 18, \"time_of_day\": \"PM Peak\", \"p25\": 0.385, \"p50\": 0.43, \"p75\": 0.43, \"p50_trip\": 1, \"fastest_trip\": 0, \"car_duration_hours\": 0.23, \"competitive_route\": 1, \"bus_multiplier\": 1.87, \"bus_difference\": 12.0, \"num_trips\": 18, \"num_competitive\": 18, \"pct_trips_competitive\": 1.0, \"bus_difference_spread\": 3.5999999999999996, \"route_group\": \"short\", \"max_trip_hrs\": 0.43, \"max_trip_route_group\": 0.43, \"below_cutoff\": 18, \"pct_below_cutoff\": 1.0, \"name\": \"Nevada County\", \"caltrans_district\": \"03 - Marysville\", \"drmt_organization_name\": null, \"route_name\": \"Route 3 Continues Onto Route 2 At The Tinloy St Transit Center On Selected Runs.  Route 3 Continues To Loma Rica On Selected Runs On Weekdays Only.\", \"cutoff2\": 20, \"cutoff\": 0}, {\"calitp_itp_id\": 221, \"trip_key\": 4380884507637476115, \"trip_id\": \"t_1521651_b_30719_tn_0\", \"shape_id\": \"p_1277436\", \"route_id\": \"14214\", \"service_hours\": 0.43, \"trip_first_departure_ts\": 32400, \"trip_last_arrival_ts\": 33960, \"departure_hour\": 9, \"time_of_day\": \"AM Peak\", \"p25\": 0.385, \"p50\": 0.43, \"p75\": 0.43, \"p50_trip\": 1, \"fastest_trip\": 0, \"car_duration_hours\": 0.23, \"competitive_route\": 1, \"bus_multiplier\": 1.87, \"bus_difference\": 12.0, \"num_trips\": 18, \"num_competitive\": 18, \"pct_trips_competitive\": 1.0, \"bus_difference_spread\": 3.5999999999999996, \"route_group\": \"short\", \"max_trip_hrs\": 0.43, \"max_trip_route_group\": 0.43, \"below_cutoff\": 18, \"pct_below_cutoff\": 1.0, \"name\": \"Nevada County\", \"caltrans_district\": \"03 - Marysville\", \"drmt_organization_name\": null, \"route_name\": \"Route 3 Continues Onto Route 2 At The Tinloy St Transit Center On Selected Runs.  Route 3 Continues To Loma Rica On Selected Runs On Weekdays Only.\", \"cutoff2\": 20, \"cutoff\": 0}, {\"calitp_itp_id\": 221, \"trip_key\": 407261656655488401, \"trip_id\": \"t_1523669_b_30719_tn_0\", \"shape_id\": \"p_857973\", \"route_id\": \"14215\", \"service_hours\": 0.42, \"trip_first_departure_ts\": 27000, \"trip_last_arrival_ts\": 28500, \"departure_hour\": 7, \"time_of_day\": \"AM Peak\", \"p25\": 0.42, \"p50\": 0.42, \"p75\": 0.42, \"p50_trip\": 1, \"fastest_trip\": 0, \"car_duration_hours\": 0.32, \"competitive_route\": 1, \"bus_multiplier\": 1.31, \"bus_difference\": 6.0, \"num_trips\": 6, \"num_competitive\": 6, \"pct_trips_competitive\": 1.0, \"bus_difference_spread\": 0.0, \"route_group\": \"short\", \"max_trip_hrs\": 0.42, \"max_trip_route_group\": 0.42, \"below_cutoff\": 6, \"pct_below_cutoff\": 1.0, \"name\": \"Nevada County\", \"caltrans_district\": \"03 - Marysville\", \"drmt_organization_name\": null, \"route_name\": \"Route 2 Continues Onto Route 3 At The Tinloy St Transit Center\", \"cutoff2\": 20, \"cutoff\": 0}, {\"calitp_itp_id\": 221, \"trip_key\": 3286443703549619678, \"trip_id\": \"t_1523671_b_30719_tn_0\", \"shape_id\": \"p_857973\", \"route_id\": \"14215\", \"service_hours\": 0.42, \"trip_first_departure_ts\": 41400, \"trip_last_arrival_ts\": 42900, \"departure_hour\": 11, \"time_of_day\": \"Midday\", \"p25\": 0.42, \"p50\": 0.42, \"p75\": 0.42, \"p50_trip\": 1, \"fastest_trip\": 0, \"car_duration_hours\": 0.32, \"competitive_route\": 1, \"bus_multiplier\": 1.31, \"bus_difference\": 6.0, \"num_trips\": 6, \"num_competitive\": 6, \"pct_trips_competitive\": 1.0, \"bus_difference_spread\": 0.0, \"route_group\": \"short\", \"max_trip_hrs\": 0.42, \"max_trip_route_group\": 0.42, \"below_cutoff\": 6, \"pct_below_cutoff\": 1.0, \"name\": \"Nevada County\", \"caltrans_district\": \"03 - Marysville\", \"drmt_organization_name\": null, \"route_name\": \"Route 2 Continues Onto Route 3 At The Tinloy St Transit Center\", \"cutoff2\": 20, \"cutoff\": 0}, {\"calitp_itp_id\": 221, \"trip_key\": -8169556226085732511, \"trip_id\": \"t_1523672_b_30719_tn_1\", \"shape_id\": \"p_857973\", \"route_id\": \"14215\", \"service_hours\": 0.42, \"trip_first_departure_ts\": 52200, \"trip_last_arrival_ts\": 53700, \"departure_hour\": 14, \"time_of_day\": \"Midday\", \"p25\": 0.42, \"p50\": 0.42, \"p75\": 0.42, \"p50_trip\": 1, \"fastest_trip\": 0, \"car_duration_hours\": 0.32, \"competitive_route\": 1, \"bus_multiplier\": 1.31, \"bus_difference\": 6.0, \"num_trips\": 6, \"num_competitive\": 6, \"pct_trips_competitive\": 1.0, \"bus_difference_spread\": 0.0, \"route_group\": \"short\", \"max_trip_hrs\": 0.42, \"max_trip_route_group\": 0.42, \"below_cutoff\": 6, \"pct_below_cutoff\": 1.0, \"name\": \"Nevada County\", \"caltrans_district\": \"03 - Marysville\", \"drmt_organization_name\": null, \"route_name\": \"Route 2 Continues Onto Route 3 At The Tinloy St Transit Center\", \"cutoff2\": 20, \"cutoff\": 0}, {\"calitp_itp_id\": 221, \"trip_key\": -4864542285598291536, \"trip_id\": \"t_1523672_b_30719_tn_3\", \"shape_id\": \"p_857973\", \"route_id\": \"14215\", \"service_hours\": 0.42, \"trip_first_departure_ts\": 66600, \"trip_last_arrival_ts\": 68100, \"departure_hour\": 18, \"time_of_day\": \"PM Peak\", \"p25\": 0.42, \"p50\": 0.42, \"p75\": 0.42, \"p50_trip\": 1, \"fastest_trip\": 1, \"car_duration_hours\": 0.32, \"competitive_route\": 1, \"bus_multiplier\": 1.31, \"bus_difference\": 6.0, \"num_trips\": 6, \"num_competitive\": 6, \"pct_trips_competitive\": 1.0, \"bus_difference_spread\": 0.0, \"route_group\": \"short\", \"max_trip_hrs\": 0.42, \"max_trip_route_group\": 0.42, \"below_cutoff\": 6, \"pct_below_cutoff\": 1.0, \"name\": \"Nevada County\", \"caltrans_district\": \"03 - Marysville\", \"drmt_organization_name\": null, \"route_name\": \"Route 2 Continues Onto Route 3 At The Tinloy St Transit Center\", \"cutoff2\": 20, \"cutoff\": 0}, {\"calitp_itp_id\": 221, \"trip_key\": -2618845921194408363, \"trip_id\": \"t_1523670_b_30719_tn_0\", \"shape_id\": \"p_857973\", \"route_id\": \"14215\", \"service_hours\": 0.42, \"trip_first_departure_ts\": 34200, \"trip_last_arrival_ts\": 35700, \"departure_hour\": 9, \"time_of_day\": \"AM Peak\", \"p25\": 0.42, \"p50\": 0.42, \"p75\": 0.42, \"p50_trip\": 1, \"fastest_trip\": 0, \"car_duration_hours\": 0.32, \"competitive_route\": 1, \"bus_multiplier\": 1.31, \"bus_difference\": 6.0, \"num_trips\": 6, \"num_competitive\": 6, \"pct_trips_competitive\": 1.0, \"bus_difference_spread\": 0.0, \"route_group\": \"short\", \"max_trip_hrs\": 0.42, \"max_trip_route_group\": 0.42, \"below_cutoff\": 6, \"pct_below_cutoff\": 1.0, \"name\": \"Nevada County\", \"caltrans_district\": \"03 - Marysville\", \"drmt_organization_name\": null, \"route_name\": \"Route 2 Continues Onto Route 3 At The Tinloy St Transit Center\", \"cutoff2\": 20, \"cutoff\": 0}, {\"calitp_itp_id\": 221, \"trip_key\": -3879403642870221768, \"trip_id\": \"t_1523672_b_30719_tn_2\", \"shape_id\": \"p_857973\", \"route_id\": \"14215\", \"service_hours\": 0.42, \"trip_first_departure_ts\": 59400, \"trip_last_arrival_ts\": 60900, \"departure_hour\": 16, \"time_of_day\": \"Midday\", \"p25\": 0.42, \"p50\": 0.42, \"p75\": 0.42, \"p50_trip\": 1, \"fastest_trip\": 0, \"car_duration_hours\": 0.32, \"competitive_route\": 1, \"bus_multiplier\": 1.31, \"bus_difference\": 6.0, \"num_trips\": 6, \"num_competitive\": 6, \"pct_trips_competitive\": 1.0, \"bus_difference_spread\": 0.0, \"route_group\": \"short\", \"max_trip_hrs\": 0.42, \"max_trip_route_group\": 0.42, \"below_cutoff\": 6, \"pct_below_cutoff\": 1.0, \"name\": \"Nevada County\", \"caltrans_district\": \"03 - Marysville\", \"drmt_organization_name\": null, \"route_name\": \"Route 2 Continues Onto Route 3 At The Tinloy St Transit Center\", \"cutoff2\": 20, \"cutoff\": 0}]}}, {\"mode\": \"vega-lite\"});\n",
       "</script>"
      ],
      "text/plain": [
       "alt.FacetChart(...)"
      ]
     },
     "metadata": {},
     "output_type": "display_data"
    },
    {
     "data": {
      "text/html": [
       "<h4>Route Stats</h4>"
      ],
      "text/plain": [
       "<IPython.core.display.HTML object>"
      ]
     },
     "metadata": {},
     "output_type": "display_data"
    },
    {
     "data": {
      "text/html": [
       "<style type=\"text/css\">\n",
       "#T_32b6f th {\n",
       "  text-align: center;\n",
       "}\n",
       "#T_32b6f_row0_col0, #T_32b6f_row0_col1, #T_32b6f_row1_col0, #T_32b6f_row1_col1, #T_32b6f_row2_col0, #T_32b6f_row2_col1 {\n",
       "  text-align: left;\n",
       "}\n",
       "#T_32b6f_row0_col2, #T_32b6f_row0_col3, #T_32b6f_row0_col5, #T_32b6f_row1_col2, #T_32b6f_row1_col3, #T_32b6f_row1_col5, #T_32b6f_row2_col2, #T_32b6f_row2_col3, #T_32b6f_row2_col5 {\n",
       "  text-align: center;\n",
       "}\n",
       "</style>\n",
       "<table id=\"T_32b6f\">\n",
       "  <thead>\n",
       "    <tr>\n",
       "      <th id=\"T_32b6f_level0_col0\" class=\"col_heading level0 col0\" >Route ID</th>\n",
       "      <th id=\"T_32b6f_level0_col1\" class=\"col_heading level0 col1\" >Route Name</th>\n",
       "      <th id=\"T_32b6f_level0_col2\" class=\"col_heading level0 col2\" ># trips</th>\n",
       "      <th id=\"T_32b6f_level0_col3\" class=\"col_heading level0 col3\" >Daily Avg Freq (trips per hr)</th>\n",
       "      <th id=\"T_32b6f_level0_col4\" class=\"col_heading level0 col4\" >25th, 50th, 75th ptile (hrs)</th>\n",
       "      <th id=\"T_32b6f_level0_col5\" class=\"col_heading level0 col5\" >PM Peak Avg Freq (trips per hr)</th>\n",
       "    </tr>\n",
       "  </thead>\n",
       "  <tbody>\n",
       "    <tr>\n",
       "      <td id=\"T_32b6f_row0_col0\" class=\"data row0 col0\" >14213</td>\n",
       "      <td id=\"T_32b6f_row0_col1\" class=\"data row0 col1\" >Grass Valley Downtown - Brunswick Basin</td>\n",
       "      <td id=\"T_32b6f_row0_col2\" class=\"data row0 col2\" >25</td>\n",
       "      <td id=\"T_32b6f_row0_col3\" class=\"data row0 col3\" >1.04</td>\n",
       "      <td id=\"T_32b6f_row0_col4\" class=\"data row0 col4\" >0.3, 0.53, 0.53</td>\n",
       "      <td id=\"T_32b6f_row0_col5\" class=\"data row0 col5\" >1.67</td>\n",
       "    </tr>\n",
       "    <tr>\n",
       "      <td id=\"T_32b6f_row1_col0\" class=\"data row1 col0\" >14214</td>\n",
       "      <td id=\"T_32b6f_row1_col1\" class=\"data row1 col1\" >Route 3 Continues Onto Route 2 At The Tinloy St Transit Center On Selected Runs.  Route 3 Continues To Loma Rica On Selected Runs On Weekdays Only.</td>\n",
       "      <td id=\"T_32b6f_row1_col2\" class=\"data row1 col2\" >18</td>\n",
       "      <td id=\"T_32b6f_row1_col3\" class=\"data row1 col3\" >0.75</td>\n",
       "      <td id=\"T_32b6f_row1_col4\" class=\"data row1 col4\" >0.38, 0.43, 0.43</td>\n",
       "      <td id=\"T_32b6f_row1_col5\" class=\"data row1 col5\" >1.0</td>\n",
       "    </tr>\n",
       "    <tr>\n",
       "      <td id=\"T_32b6f_row2_col0\" class=\"data row2 col0\" >14215</td>\n",
       "      <td id=\"T_32b6f_row2_col1\" class=\"data row2 col1\" >Route 2 Continues Onto Route 3 At The Tinloy St Transit Center</td>\n",
       "      <td id=\"T_32b6f_row2_col2\" class=\"data row2 col2\" >6</td>\n",
       "      <td id=\"T_32b6f_row2_col3\" class=\"data row2 col3\" >0.25</td>\n",
       "      <td id=\"T_32b6f_row2_col4\" class=\"data row2 col4\" >0.42, 0.42, 0.42</td>\n",
       "      <td id=\"T_32b6f_row2_col5\" class=\"data row2 col5\" >0.33</td>\n",
       "    </tr>\n",
       "  </tbody>\n",
       "</table>\n"
      ],
      "text/plain": [
       "<IPython.core.display.HTML object>"
      ]
     },
     "metadata": {},
     "output_type": "display_data"
    }
   ],
   "source": [
    "# Allow for possibility that operator doesn't have routes that fall into certain route_groups\n",
    "# But, jupyterbook will not like markdown with f-string\n",
    "# separate out route_group and put in each cell, and use try/except + if to display...\n",
    "# but all 3 route groups must be displayed. just add sentence about why no routes were returned at the end\n",
    "route_group = \"short\"\n",
    "try:\n",
    "    display_charts_for_route_group(df, route_group)\n",
    "except:\n",
    "    print(\"No routes meet this criteria.\")"
   ]
  },
  {
   "cell_type": "markdown",
   "id": "c2931b6f-034d-4384-9e14-80b925e3b820",
   "metadata": {
    "papermill": {
     "duration": 0.027242,
     "end_time": "2022-05-12T19:06:01.688678",
     "exception": false,
     "start_time": "2022-05-12T19:06:01.661436",
     "status": "completed"
    },
    "tags": []
   },
   "source": [
    "### Medium Routes (1-1.5 hrs)"
   ]
  },
  {
   "cell_type": "code",
   "execution_count": 15,
   "id": "480edddc-4de0-48c2-ae4c-b0ceef8f28b5",
   "metadata": {
    "execution": {
     "iopub.execute_input": "2022-05-12T19:06:01.747973Z",
     "iopub.status.busy": "2022-05-12T19:06:01.747654Z",
     "iopub.status.idle": "2022-05-12T19:06:01.760416Z",
     "shell.execute_reply": "2022-05-12T19:06:01.759513Z"
    },
    "jupyter": {
     "source_hidden": true
    },
    "papermill": {
     "duration": 0.056076,
     "end_time": "2022-05-12T19:06:01.763562",
     "exception": false,
     "start_time": "2022-05-12T19:06:01.707486",
     "status": "completed"
    },
    "tags": [
     "remove_input"
    ]
   },
   "outputs": [
    {
     "name": "stdout",
     "output_type": "stream",
     "text": [
      "No routes meet this criteria.\n"
     ]
    }
   ],
   "source": [
    "route_group = \"medium\"\n",
    "try:\n",
    "    display_charts_for_route_group(df, route_group)\n",
    "except:\n",
    "    print(\"No routes meet this criteria.\")"
   ]
  },
  {
   "cell_type": "markdown",
   "id": "124b76d0-886c-4d03-92ac-f1bda3cda182",
   "metadata": {
    "papermill": {
     "duration": 0.022029,
     "end_time": "2022-05-12T19:06:01.803797",
     "exception": false,
     "start_time": "2022-05-12T19:06:01.781768",
     "status": "completed"
    },
    "tags": []
   },
   "source": [
    "### Long Routes (> 1.5 hrs)"
   ]
  },
  {
   "cell_type": "code",
   "execution_count": 16,
   "id": "ddc81b19-4c45-4c81-8b7a-5e0f394aa7a3",
   "metadata": {
    "execution": {
     "iopub.execute_input": "2022-05-12T19:06:01.846059Z",
     "iopub.status.busy": "2022-05-12T19:06:01.845106Z",
     "iopub.status.idle": "2022-05-12T19:06:01.862001Z",
     "shell.execute_reply": "2022-05-12T19:06:01.856523Z"
    },
    "jupyter": {
     "source_hidden": true
    },
    "papermill": {
     "duration": 0.039839,
     "end_time": "2022-05-12T19:06:01.864799",
     "exception": false,
     "start_time": "2022-05-12T19:06:01.824960",
     "status": "completed"
    },
    "tags": [
     "remove_input"
    ]
   },
   "outputs": [
    {
     "name": "stdout",
     "output_type": "stream",
     "text": [
      "No routes meet this criteria.\n"
     ]
    }
   ],
   "source": [
    "route_group = \"long\"\n",
    "try:\n",
    "    display_charts_for_route_group(df, route_group)\n",
    "except:\n",
    "    print(\"No routes meet this criteria.\")"
   ]
  },
  {
   "cell_type": "markdown",
   "id": "ace75b5f-0442-4fbe-aebd-6c3a13ae13a7",
   "metadata": {
    "papermill": {
     "duration": 0.019658,
     "end_time": "2022-05-12T19:06:01.909286",
     "exception": false,
     "start_time": "2022-05-12T19:06:01.889628",
     "status": "completed"
    },
    "tags": []
   },
   "source": [
    "### GTFS Real-Time Speedmaps"
   ]
  },
  {
   "cell_type": "code",
   "execution_count": 17,
   "id": "a0a114a1-e975-4027-9daf-50029f5ef59f",
   "metadata": {
    "execution": {
     "iopub.execute_input": "2022-05-12T19:06:01.949487Z",
     "iopub.status.busy": "2022-05-12T19:06:01.948838Z",
     "iopub.status.idle": "2022-05-12T19:06:01.970869Z",
     "shell.execute_reply": "2022-05-12T19:06:01.970225Z"
    },
    "jupyter": {
     "source_hidden": true
    },
    "papermill": {
     "duration": 0.044865,
     "end_time": "2022-05-12T19:06:01.972777",
     "exception": false,
     "start_time": "2022-05-12T19:06:01.927912",
     "status": "completed"
    },
    "tags": [
     "remove_input"
    ]
   },
   "outputs": [
    {
     "data": {
      "text/html": [
       "<a href=https://analysis.calitp.org/rt/district_03-marysville/speedmaps__itp_id_221.html>GTFS RT speedmaps here.</a>"
      ],
      "text/plain": [
       "<IPython.core.display.HTML object>"
      ]
     },
     "metadata": {},
     "output_type": "display_data"
    }
   ],
   "source": [
    "RT_SITE_YAML = \"../portfolio/sites/rt.yml\"\n",
    "\n",
    "# Grab list of ITP IDs with GTFS RT speedmaps\n",
    "rt_itp_id = deploy_portfolio_yaml.check_if_rt_data_available(RT_SITE_YAML)\n",
    "\n",
    "# Construct the URL \n",
    "RT_URL = (\"https://analysis.calitp.org/rt/\"\n",
    "          f\"district_{district_number}-{district_name}/\"\n",
    "          f\"speedmaps__itp_id_{itp_id}.html\"\n",
    "         ) \n",
    "\n",
    "# If this ITP ID is found in RT analysis, give URL to that operator in analysis.calitp.org\n",
    "if itp_id in rt_itp_id:\n",
    "    display(HTML(f'''<a href={RT_URL}>GTFS RT speedmaps here.</a>'''))\n",
    "\n",
    "else:\n",
    "    display(HTML(\"No GTFS RT data available.\"))"
   ]
  },
  {
   "cell_type": "code",
   "execution_count": null,
   "id": "5b680565-2230-4f2e-817c-718fad48d64c",
   "metadata": {
    "jupyter": {
     "source_hidden": true
    },
    "papermill": {
     "duration": 0.020092,
     "end_time": "2022-05-12T19:06:02.016076",
     "exception": false,
     "start_time": "2022-05-12T19:06:01.995984",
     "status": "completed"
    },
    "tags": [
     "remove_input"
    ]
   },
   "outputs": [],
   "source": []
  }
 ],
 "metadata": {
  "kernelspec": {
   "display_name": "Python 3 (ipykernel)",
   "language": "python",
   "name": "python3"
  },
  "language_info": {
   "codemirror_mode": {
    "name": "ipython",
    "version": 3
   },
   "file_extension": ".py",
   "mimetype": "text/x-python",
   "name": "python",
   "nbconvert_exporter": "python",
   "pygments_lexer": "ipython3",
   "version": "3.9.12"
  },
  "papermill": {
   "default_parameters": {},
   "duration": 23.499561,
   "end_time": "2022-05-12T19:06:03.258859",
   "environment_variables": {},
   "exception": null,
   "input_path": "bus_service_increase/competitive-parallel-routes.ipynb",
   "output_path": "portfolio/parallel_corridors/district_03-marysville/4__competitive-parallel-routes__district_03-marysville__itp_id_221.ipynb",
   "parameters": {
    "district": "03 - Marysville",
    "itp_id": 221
   },
   "start_time": "2022-05-12T19:05:39.759298",
   "version": "2.3.4"
  }
 },
 "nbformat": 4,
 "nbformat_minor": 5
}