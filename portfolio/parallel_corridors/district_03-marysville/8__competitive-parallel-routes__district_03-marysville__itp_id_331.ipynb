{
 "cells": [
  {
   "cell_type": "code",
   "execution_count": 1,
   "id": "95d00857-6a20-4529-a519-2cc7182928a9",
   "metadata": {
    "execution": {
     "iopub.execute_input": "2022-05-12T19:07:18.018680Z",
     "iopub.status.busy": "2022-05-12T19:07:18.017793Z",
     "iopub.status.idle": "2022-05-12T19:07:26.228050Z",
     "shell.execute_reply": "2022-05-12T19:07:26.227054Z"
    },
    "jupyter": {
     "source_hidden": true
    },
    "papermill": {
     "duration": 8.228012,
     "end_time": "2022-05-12T19:07:26.231542",
     "exception": false,
     "start_time": "2022-05-12T19:07:18.003530",
     "status": "completed"
    },
    "tags": [
     "remove_input"
    ]
   },
   "outputs": [],
   "source": [
    "%%capture\n",
    "import warnings\n",
    "warnings.filterwarnings('ignore')\n",
    "\n",
    "import altair as alt\n",
    "import calitp.magics\n",
    "import geopandas as gpd\n",
    "import intake\n",
    "import pandas as pd\n",
    "\n",
    "from IPython.display import display, Markdown, HTML\n",
    "\n",
    "import parallel_corridors_utils\n",
    "import deploy_portfolio_yaml\n",
    "from shared_utils import styleguide, geography_utils\n",
    "from make_stripplot_data import diff_cutoffs\n",
    "\n",
    "catalog = intake.open_catalog(\"./*.yml\")\n",
    "alt.renderers.enable(\"html\")"
   ]
  },
  {
   "cell_type": "code",
   "execution_count": 2,
   "id": "8af2a0c1-f3da-408d-9bea-11d9fbf8695d",
   "metadata": {
    "execution": {
     "iopub.execute_input": "2022-05-12T19:07:26.276576Z",
     "iopub.status.busy": "2022-05-12T19:07:26.275662Z",
     "iopub.status.idle": "2022-05-12T19:07:26.280311Z",
     "shell.execute_reply": "2022-05-12T19:07:26.279531Z"
    },
    "jupyter": {
     "source_hidden": true
    },
    "papermill": {
     "duration": 0.033405,
     "end_time": "2022-05-12T19:07:26.283746",
     "exception": false,
     "start_time": "2022-05-12T19:07:26.250341",
     "status": "completed"
    },
    "tags": [
     "parameters",
     "remove_input"
    ]
   },
   "outputs": [],
   "source": [
    "# parameters cell\n",
    "itp_id = 182"
   ]
  },
  {
   "cell_type": "code",
   "execution_count": 3,
   "id": "ca15cae6",
   "metadata": {
    "execution": {
     "iopub.execute_input": "2022-05-12T19:07:26.324887Z",
     "iopub.status.busy": "2022-05-12T19:07:26.324569Z",
     "iopub.status.idle": "2022-05-12T19:07:26.328881Z",
     "shell.execute_reply": "2022-05-12T19:07:26.328118Z"
    },
    "jupyter": {
     "source_hidden": true
    },
    "papermill": {
     "duration": 0.029753,
     "end_time": "2022-05-12T19:07:26.333815",
     "exception": false,
     "start_time": "2022-05-12T19:07:26.304062",
     "status": "completed"
    },
    "tags": [
     "injected-parameters",
     "remove_input"
    ]
   },
   "outputs": [],
   "source": [
    "# Parameters\n",
    "district = \"03 - Marysville\"\n",
    "itp_id = 331\n"
   ]
  },
  {
   "cell_type": "code",
   "execution_count": 4,
   "id": "9582aaf4-79ff-412a-b248-8d8d693ebd4f",
   "metadata": {
    "execution": {
     "iopub.execute_input": "2022-05-12T19:07:26.385213Z",
     "iopub.status.busy": "2022-05-12T19:07:26.384824Z",
     "iopub.status.idle": "2022-05-12T19:07:27.674049Z",
     "shell.execute_reply": "2022-05-12T19:07:27.672284Z"
    },
    "jupyter": {
     "source_hidden": true
    },
    "papermill": {
     "duration": 1.317321,
     "end_time": "2022-05-12T19:07:27.676556",
     "exception": false,
     "start_time": "2022-05-12T19:07:26.359235",
     "status": "completed"
    },
    "tags": [
     "remove_input"
    ]
   },
   "outputs": [],
   "source": [
    "df = catalog.competitive_route_variability.read()\n",
    "\n",
    "df = (df[(df.calitp_itp_id == itp_id) & \n",
    "         (df.route_group.notna())]\n",
    "      .rename(columns = {\"route_name_used\": \"route_name\"})\n",
    "      .reset_index(drop=True)\n",
    "     )\n",
    "\n",
    "if itp_id == 182:\n",
    "    df = df.assign(\n",
    "        route_id = df.route_id.str.replace('-13153', '').astype(int)\n",
    "    )"
   ]
  },
  {
   "cell_type": "code",
   "execution_count": 5,
   "id": "33ac4b06-f647-4dce-a625-8f2c1b37cc60",
   "metadata": {
    "execution": {
     "iopub.execute_input": "2022-05-12T19:07:27.701927Z",
     "iopub.status.busy": "2022-05-12T19:07:27.701652Z",
     "iopub.status.idle": "2022-05-12T19:07:27.708910Z",
     "shell.execute_reply": "2022-05-12T19:07:27.708139Z"
    },
    "jupyter": {
     "source_hidden": true
    },
    "papermill": {
     "duration": 0.022427,
     "end_time": "2022-05-12T19:07:27.710725",
     "exception": false,
     "start_time": "2022-05-12T19:07:27.688298",
     "status": "completed"
    },
    "tags": [
     "remove_input"
    ]
   },
   "outputs": [],
   "source": [
    "%%capture_parameters\n",
    "operator_name = df.name.iloc[0]\n",
    "district_number = f\"{df.caltrans_district.iloc[0].split('-')[0].strip()}\"\n",
    "district_name = f\"{df.caltrans_district.iloc[0].split('-')[1].strip().lower().replace(' ', '-')}\"\n",
    "\n",
    "itp_id, operator_name, district_number, district_name"
   ]
  },
  {
   "cell_type": "markdown",
   "id": "65bc6f5c-8348-42ee-b2dd-52057c406852",
   "metadata": {
    "papermill": {
     "duration": 0.012213,
     "end_time": "2022-05-12T19:07:27.736082",
     "exception": false,
     "start_time": "2022-05-12T19:07:27.723869",
     "status": "completed"
    },
    "tags": []
   },
   "source": [
    "# Tahoe Transportation District (ITP ID: 331)"
   ]
  },
  {
   "cell_type": "code",
   "execution_count": 6,
   "id": "a689c1ab-2c6c-4831-8d64-897f5986f571",
   "metadata": {
    "execution": {
     "iopub.execute_input": "2022-05-12T19:07:27.762517Z",
     "iopub.status.busy": "2022-05-12T19:07:27.761738Z",
     "iopub.status.idle": "2022-05-12T19:07:27.769374Z",
     "shell.execute_reply": "2022-05-12T19:07:27.768818Z"
    },
    "jupyter": {
     "source_hidden": true
    },
    "papermill": {
     "duration": 0.022866,
     "end_time": "2022-05-12T19:07:27.771078",
     "exception": false,
     "start_time": "2022-05-12T19:07:27.748212",
     "status": "completed"
    },
    "tags": [
     "remove_input"
    ]
   },
   "outputs": [
    {
     "data": {
      "text/html": [
       "<h1>Competitive & Parallel Routes</h1>"
      ],
      "text/plain": [
       "<IPython.core.display.HTML object>"
      ]
     },
     "metadata": {},
     "output_type": "display_data"
    }
   ],
   "source": [
    "display(HTML(\"<h1>Competitive & Parallel Routes</h1>\")) "
   ]
  },
  {
   "cell_type": "code",
   "execution_count": 7,
   "id": "2cb4d8d5-4760-40e4-85b1-cb833d8bb648",
   "metadata": {
    "execution": {
     "iopub.execute_input": "2022-05-12T19:07:27.803152Z",
     "iopub.status.busy": "2022-05-12T19:07:27.802420Z",
     "iopub.status.idle": "2022-05-12T19:07:38.189697Z",
     "shell.execute_reply": "2022-05-12T19:07:38.188828Z"
    },
    "jupyter": {
     "source_hidden": true
    },
    "papermill": {
     "duration": 10.408269,
     "end_time": "2022-05-12T19:07:38.192114",
     "exception": false,
     "start_time": "2022-05-12T19:07:27.783845",
     "status": "completed"
    },
    "tags": [
     "remove_input"
    ]
   },
   "outputs": [],
   "source": [
    "# Grab parameters for narrative text - clean up formatting here \n",
    "district = df.caltrans_district.iloc[0]\n",
    "formatted_date = pd.to_datetime(parallel_corridors_utils.SELECTED_DATE).strftime('%m-%d-%Y')\n",
    "\n",
    "PCT_COMPETITIVE_THRESHOLD = 0.75\n",
    "PCT_TRIPS_BELOW_CUTOFF = 1.0\n",
    "\n",
    "stats = parallel_corridors_utils.operator_parallel_competitive_stats(\n",
    "    itp_id, PCT_COMPETITIVE_THRESHOLD, PCT_TRIPS_BELOW_CUTOFF)\n",
    "\n",
    "pct_parallel = round(stats['parallel_routes'] / stats['num_routes'] * 100, 1 )\n",
    "pct_competitive =  round(stats['competitive_routes'] / stats['num_routes'] * 100, 1 )\n",
    "pct_viable =  round(stats['viable_competitive_routes'] / stats['num_routes'] * 100, 1 )"
   ]
  },
  {
   "cell_type": "code",
   "execution_count": 8,
   "id": "8bf30c8f-6aa5-47bb-82ae-a906732e81fd",
   "metadata": {
    "execution": {
     "iopub.execute_input": "2022-05-12T19:07:38.225952Z",
     "iopub.status.busy": "2022-05-12T19:07:38.225683Z",
     "iopub.status.idle": "2022-05-12T19:07:38.259841Z",
     "shell.execute_reply": "2022-05-12T19:07:38.258992Z"
    },
    "jupyter": {
     "source_hidden": true
    },
    "papermill": {
     "duration": 0.054036,
     "end_time": "2022-05-12T19:07:38.261883",
     "exception": false,
     "start_time": "2022-05-12T19:07:38.207847",
     "status": "completed"
    },
    "tags": [
     "remove_input"
    ]
   },
   "outputs": [],
   "source": [
    "# Display a table of route-level stats for each route_group\n",
    "# Displaying route_name makes chart too crowded\n",
    "\n",
    "# Get route stats (for entire df)\n",
    "route_stats = parallel_corridors_utils.competitive_route_level_stats(df)\n",
    "    \n",
    "def style_route_stats(df, top15_routes):\n",
    "    df = df[df.route_id.isin(top15_routes)]\n",
    "    \n",
    "    # Rename columns for display\n",
    "    rename_cols = {\n",
    "        \"route_id\": \"Route ID\",\n",
    "        \"route_name\": \"Route Name\",\n",
    "        \"route_group\": \"Route Group\",\n",
    "        \"num_trips\": \"# trips\",\n",
    "        \"daily_avg_freq\": \"Daily Avg Freq (trips per hr)\",\n",
    "        \"pm_peak_freq\": \"PM Peak Avg Freq (trips per hr)\",\n",
    "        \"percentiles\": \"25th, 50th, 75th ptile (hrs)\",\n",
    "    }\n",
    "    \n",
    "    # Style it\n",
    "    drop_cols = [\n",
    "        \"calitp_itp_id\", \"below_cutoff\", \"route_group\", \n",
    "        \"pct_trips_competitive\", \"pct_below_cutoff\",\n",
    "        \"p25\", \"p50\", \"p75\",\n",
    "    ]\n",
    "    \n",
    "    # Change alignment for some columns\n",
    "    # https://stackoverflow.com/questions/59453091/left-align-the-first-column-and-center-align-the-other-columns-in-a-pandas-table\n",
    "    df_style = (df.sort_values(\n",
    "        [\"pct_trips_competitive\", \"below_cutoff\", \n",
    "        \"pct_below_cutoff\", \"route_id\"], \n",
    "        ascending=[False, False, False, True])\n",
    "           .drop(columns = drop_cols)\n",
    "           .rename(columns = rename_cols)\n",
    "           .style.format(\n",
    "               subset=['Daily Avg Freq (trips per hr)', \n",
    "                       'PM Peak Avg Freq (trips per hr)'], \n",
    "               **{'formatter': '{:,.3}'})\n",
    "                .set_properties(subset=['Route ID', 'Route Name'], \n",
    "                                **{'text-align': 'left'})\n",
    "                .set_properties(subset=['# trips', 'Daily Avg Freq (trips per hr)', \n",
    "                                       'PM Peak Avg Freq (trips per hr)'], \n",
    "                               **{'text-align': 'center'})\n",
    "                .set_table_styles([dict(selector='th', \n",
    "                                        props=[('text-align', 'center')])\n",
    "                                        ])\n",
    "           .hide(axis=\"index\")\n",
    "           .to_html()\n",
    "          )\n",
    "    \n",
    "    display(HTML(\"<h4>Route Stats</h4>\"))\n",
    "    display(HTML(df_style))"
   ]
  },
  {
   "cell_type": "markdown",
   "id": "ab667928-5274-4490-82d9-4c39293209a4",
   "metadata": {
    "papermill": {
     "duration": 0.022062,
     "end_time": "2022-05-12T19:07:38.296641",
     "exception": false,
     "start_time": "2022-05-12T19:07:38.274579",
     "status": "completed"
    },
    "tags": []
   },
   "source": [
    "## Quick Stats"
   ]
  },
  {
   "cell_type": "code",
   "execution_count": 9,
   "id": "0416509d-dc62-4165-b62e-64f8b26e8b8e",
   "metadata": {
    "execution": {
     "iopub.execute_input": "2022-05-12T19:07:38.327113Z",
     "iopub.status.busy": "2022-05-12T19:07:38.326844Z",
     "iopub.status.idle": "2022-05-12T19:07:38.335110Z",
     "shell.execute_reply": "2022-05-12T19:07:38.334410Z"
    },
    "jupyter": {
     "source_hidden": true
    },
    "papermill": {
     "duration": 0.025697,
     "end_time": "2022-05-12T19:07:38.336866",
     "exception": false,
     "start_time": "2022-05-12T19:07:38.311169",
     "status": "completed"
    },
    "tags": [
     "remove_input"
    ]
   },
   "outputs": [
    {
     "data": {
      "text/markdown": [
       "**Bus routes in service: 9**<br>**Parallel routes** to State Highway Network (SHN): **8 routes (88.9%)**<br>**Competitive routes** against car travel (within 2x car travel time): **4 routes (44.4%)**<br>**Viable competitive routes** against car travel (within 2x car travel time and within 20, 30, or 40 min cut-off): **3 routes (33.3%)**"
      ],
      "text/plain": [
       "<IPython.core.display.Markdown object>"
      ]
     },
     "metadata": {},
     "output_type": "display_data"
    }
   ],
   "source": [
    "display(\n",
    "    Markdown(\n",
    "        f\"**Bus routes in service: {stats['num_routes']}**\"\n",
    "        \"<br>**Parallel routes** to State Highway Network (SHN): \"\n",
    "        f\"**{stats['parallel_routes']} routes ({pct_parallel}%)**\"\n",
    "        \"<br>**Competitive routes** against car travel (within 2x car travel time): \"\n",
    "        f\"**{stats['competitive_routes']} routes ({pct_competitive}%)**\"\n",
    "        \"<br>**Viable competitive routes** against car travel \"\n",
    "        \"(within 2x car travel time and within 20, 30, or 40 min cut-off): \"\n",
    "        f\"**{stats['viable_competitive_routes']} routes ({pct_viable}%)**\"\n",
    "    )\n",
    ")"
   ]
  },
  {
   "cell_type": "code",
   "execution_count": 10,
   "id": "f9d6ab58-f0ee-460c-b6de-657490e1f386",
   "metadata": {
    "execution": {
     "iopub.execute_input": "2022-05-12T19:07:38.365888Z",
     "iopub.status.busy": "2022-05-12T19:07:38.365613Z",
     "iopub.status.idle": "2022-05-12T19:07:38.371726Z",
     "shell.execute_reply": "2022-05-12T19:07:38.370620Z"
    },
    "jupyter": {
     "source_hidden": true
    },
    "papermill": {
     "duration": 0.023025,
     "end_time": "2022-05-12T19:07:38.373868",
     "exception": false,
     "start_time": "2022-05-12T19:07:38.350843",
     "status": "completed"
    },
    "tags": [
     "remove_input"
    ]
   },
   "outputs": [],
   "source": [
    "def set_yaxis_range(df, y_col):\n",
    "    Y_MIN = df[y_col].min()\n",
    "    Y_MAX = df[y_col].max()\n",
    "    \n",
    "    return Y_MIN, Y_MAX\n",
    "\n",
    "# Rather than set it according to the operator, which can vary,\n",
    "# just use set thresholds for each group\n",
    "def top15_routes(df, route_group):\n",
    "    # grab top 15 routes where majority of trips are below that cut-off \n",
    "    # but show 15 max, otherwise, show less, since these won't be as interesting to operators\n",
    "    df2 = (df[(df.route_group==route_group) &\n",
    "              (df.pct_below_cutoff >= PCT_TRIPS_BELOW_CUTOFF)]\n",
    "           .sort_values([\"calitp_itp_id\", \"below_cutoff\", \n",
    "                         \"pct_below_cutoff\", \"route_id\"],\n",
    "                        ascending = [True, False, False, True]\n",
    "                       )\n",
    "           .drop_duplicates(subset=[\"calitp_itp_id\", \"route_id\"])\n",
    "          ).head(15)\n",
    "    \n",
    "    return list(df2.route_id)"
   ]
  },
  {
   "cell_type": "code",
   "execution_count": 11,
   "id": "cf36d559-3349-4144-8086-8ac9ce937a5a",
   "metadata": {
    "execution": {
     "iopub.execute_input": "2022-05-12T19:07:38.404778Z",
     "iopub.status.busy": "2022-05-12T19:07:38.404511Z",
     "iopub.status.idle": "2022-05-12T19:07:38.409442Z",
     "shell.execute_reply": "2022-05-12T19:07:38.408685Z"
    },
    "jupyter": {
     "source_hidden": true
    },
    "papermill": {
     "duration": 0.021703,
     "end_time": "2022-05-12T19:07:38.411109",
     "exception": false,
     "start_time": "2022-05-12T19:07:38.389406",
     "status": "completed"
    },
    "tags": [
     "remove_input"
    ]
   },
   "outputs": [],
   "source": [
    "def caption_with_cutoff(cutoff):\n",
    "    sentence = (\n",
    "        f\"<br>These are routes that have **{int(PCT_TRIPS_BELOW_CUTOFF*100)}% \"\n",
    "        \"of their trips take no more than an \"\n",
    "        f\"additional {cutoff} min** compared to a car \"\n",
    "        \"(up to 15 routes) are shown.\"\n",
    "        \"<br>Within each route group, routes are sorted in descending order \"\n",
    "        \"by % competitive trips and # trips below the additional time cut-off.\"\n",
    "    )\n",
    "    return sentence\n",
    "\n",
    "CAPTIONS_DICT = {\n",
    "    \"short\": caption_with_cutoff(diff_cutoffs['short']),\n",
    "    \"medium\": caption_with_cutoff(diff_cutoffs['medium']),\n",
    "    \"long\": caption_with_cutoff(diff_cutoffs['long']),\n",
    "}"
   ]
  },
  {
   "cell_type": "code",
   "execution_count": 12,
   "id": "e4306d58-6944-47e9-afef-5d5b524c751f",
   "metadata": {
    "execution": {
     "iopub.execute_input": "2022-05-12T19:07:38.440360Z",
     "iopub.status.busy": "2022-05-12T19:07:38.439512Z",
     "iopub.status.idle": "2022-05-12T19:07:38.446555Z",
     "shell.execute_reply": "2022-05-12T19:07:38.446057Z"
    },
    "jupyter": {
     "source_hidden": true
    },
    "papermill": {
     "duration": 0.023941,
     "end_time": "2022-05-12T19:07:38.448203",
     "exception": false,
     "start_time": "2022-05-12T19:07:38.424262",
     "status": "completed"
    },
    "tags": [
     "remove_input"
    ]
   },
   "outputs": [],
   "source": [
    "def setup_charts(df, PCT_COMPETITIVE_THRESHOLD, route_group):\n",
    "    # Set up df for charting (cut-off at some threshold to show most competitive routes)\n",
    "    plot_me = (df[df.pct_trips_competitive > PCT_COMPETITIVE_THRESHOLD]\n",
    "           .drop(columns = \"geometry\")\n",
    "    )\n",
    "    \n",
    "    # Set y-ranges to be the same across route_groups, \n",
    "    # otherwise charts fluctuate too much, even within operator\n",
    "    y_col1 = \"bus_multiplier\"\n",
    "    Y_MIN1, Y_MAX1 = set_yaxis_range(plot_me, y_col1)\n",
    "\n",
    "    y_col2 = \"bus_difference\"\n",
    "    Y_MIN2, Y_MAX2 = set_yaxis_range(plot_me, y_col2)\n",
    "    \n",
    "    # Grab the routes to plot\n",
    "    subset_routes = top15_routes(plot_me, route_group)\n",
    "        \n",
    "    # Display charts\n",
    "    multiplier_chart = parallel_corridors_utils.make_stripplot(\n",
    "        plot_me[plot_me.route_id.isin(subset_routes)], \n",
    "        y_col1, Y_MIN = Y_MIN1, Y_MAX = Y_MAX1\n",
    "    )\n",
    "    \n",
    "    difference_chart = parallel_corridors_utils.make_stripplot(\n",
    "        plot_me[plot_me.route_id.isin(subset_routes)], \n",
    "        y_col2, Y_MIN = Y_MIN2, Y_MAX = Y_MAX2\n",
    "    )\n",
    "    \n",
    "    return subset_routes, multiplier_chart, difference_chart            "
   ]
  },
  {
   "cell_type": "code",
   "execution_count": 13,
   "id": "33a710e8-504c-4942-aa75-ff69f216956e",
   "metadata": {
    "execution": {
     "iopub.execute_input": "2022-05-12T19:07:38.495392Z",
     "iopub.status.busy": "2022-05-12T19:07:38.494673Z",
     "iopub.status.idle": "2022-05-12T19:07:38.502092Z",
     "shell.execute_reply": "2022-05-12T19:07:38.501316Z"
    },
    "jupyter": {
     "source_hidden": true
    },
    "papermill": {
     "duration": 0.037338,
     "end_time": "2022-05-12T19:07:38.503923",
     "exception": false,
     "start_time": "2022-05-12T19:07:38.466585",
     "status": "completed"
    },
    "tags": [
     "remove_input"
    ]
   },
   "outputs": [],
   "source": [
    "def display_charts_for_route_group(df, route_group):    \n",
    "    subset_routes, mult, diff  = setup_charts(df, PCT_COMPETITIVE_THRESHOLD, route_group)\n",
    "\n",
    "    if len(subset_routes) > 0:\n",
    "        display(Markdown(f\"{CAPTIONS_DICT[route_group]}\"))\n",
    "\n",
    "        display(mult)\n",
    "        display(diff)\n",
    "        \n",
    "        # Display route stats for just plotted routes\n",
    "        style_route_stats(route_stats, subset_routes)"
   ]
  },
  {
   "cell_type": "markdown",
   "id": "525f9b38-072b-46d1-96a8-1aa4b038357c",
   "metadata": {
    "papermill": {
     "duration": 0.013135,
     "end_time": "2022-05-12T19:07:38.530118",
     "exception": false,
     "start_time": "2022-05-12T19:07:38.516983",
     "status": "completed"
    },
    "tags": []
   },
   "source": [
    "## Viable Competitive Routes\n",
    "### Short Routes (< 1 hr)"
   ]
  },
  {
   "cell_type": "code",
   "execution_count": 14,
   "id": "57f7084c-2cf7-45c6-ba08-1609e0bd6ca5",
   "metadata": {
    "execution": {
     "iopub.execute_input": "2022-05-12T19:07:38.560505Z",
     "iopub.status.busy": "2022-05-12T19:07:38.559605Z",
     "iopub.status.idle": "2022-05-12T19:07:38.843883Z",
     "shell.execute_reply": "2022-05-12T19:07:38.843077Z"
    },
    "jupyter": {
     "source_hidden": true
    },
    "papermill": {
     "duration": 0.30229,
     "end_time": "2022-05-12T19:07:38.845837",
     "exception": false,
     "start_time": "2022-05-12T19:07:38.543547",
     "status": "completed"
    },
    "tags": [
     "remove_input"
    ]
   },
   "outputs": [
    {
     "data": {
      "text/markdown": [
       "<br>These are routes that have **100% of their trips take no more than an additional 20 min** compared to a car (up to 15 routes) are shown.<br>Within each route group, routes are sorted in descending order by % competitive trips and # trips below the additional time cut-off."
      ],
      "text/plain": [
       "<IPython.core.display.Markdown object>"
      ]
     },
     "metadata": {},
     "output_type": "display_data"
    },
    {
     "data": {
      "text/html": [
       "\n",
       "<div id=\"altair-viz-bf16fff1d1dd47dd868df9c1aa122048\"></div>\n",
       "<script type=\"text/javascript\">\n",
       "  var VEGA_DEBUG = (typeof VEGA_DEBUG == \"undefined\") ? {} : VEGA_DEBUG;\n",
       "  (function(spec, embedOpt){\n",
       "    let outputDiv = document.currentScript.previousElementSibling;\n",
       "    if (outputDiv.id !== \"altair-viz-bf16fff1d1dd47dd868df9c1aa122048\") {\n",
       "      outputDiv = document.getElementById(\"altair-viz-bf16fff1d1dd47dd868df9c1aa122048\");\n",
       "    }\n",
       "    const paths = {\n",
       "      \"vega\": \"https://cdn.jsdelivr.net/npm//vega@5?noext\",\n",
       "      \"vega-lib\": \"https://cdn.jsdelivr.net/npm//vega-lib?noext\",\n",
       "      \"vega-lite\": \"https://cdn.jsdelivr.net/npm//vega-lite@4.17.0?noext\",\n",
       "      \"vega-embed\": \"https://cdn.jsdelivr.net/npm//vega-embed@6?noext\",\n",
       "    };\n",
       "\n",
       "    function maybeLoadScript(lib, version) {\n",
       "      var key = `${lib.replace(\"-\", \"\")}_version`;\n",
       "      return (VEGA_DEBUG[key] == version) ?\n",
       "        Promise.resolve(paths[lib]) :\n",
       "        new Promise(function(resolve, reject) {\n",
       "          var s = document.createElement('script');\n",
       "          document.getElementsByTagName(\"head\")[0].appendChild(s);\n",
       "          s.async = true;\n",
       "          s.onload = () => {\n",
       "            VEGA_DEBUG[key] = version;\n",
       "            return resolve(paths[lib]);\n",
       "          };\n",
       "          s.onerror = () => reject(`Error loading script: ${paths[lib]}`);\n",
       "          s.src = paths[lib];\n",
       "        });\n",
       "    }\n",
       "\n",
       "    function showError(err) {\n",
       "      outputDiv.innerHTML = `<div class=\"error\" style=\"color:red;\">${err}</div>`;\n",
       "      throw err;\n",
       "    }\n",
       "\n",
       "    function displayChart(vegaEmbed) {\n",
       "      vegaEmbed(outputDiv, spec, embedOpt)\n",
       "        .catch(err => showError(`Javascript Error: ${err.message}<br>This usually means there's a typo in your chart specification. See the javascript console for the full traceback.`));\n",
       "    }\n",
       "\n",
       "    if(typeof define === \"function\" && define.amd) {\n",
       "      requirejs.config({paths});\n",
       "      require([\"vega-embed\"], displayChart, err => showError(`Error loading script: ${err.message}`));\n",
       "    } else {\n",
       "      maybeLoadScript(\"vega\", \"5\")\n",
       "        .then(() => maybeLoadScript(\"vega-lite\", \"4.17.0\"))\n",
       "        .then(() => maybeLoadScript(\"vega-embed\", \"6\"))\n",
       "        .catch(showError)\n",
       "        .then(() => displayChart(vegaEmbed));\n",
       "    }\n",
       "  })({\"config\": {\"view\": {\"continuousWidth\": 400, \"continuousHeight\": 300, \"stroke\": null}, \"facet\": {\"spacing\": 0}}, \"data\": {\"name\": \"data-de2eb2c5d08266953847c8dbf7583961\"}, \"facet\": {\"column\": {\"field\": \"route_id\", \"sort\": [\"TLR\", \"NSPM\", \"2595\"], \"title\": \"Route ID\", \"type\": \"nominal\"}}, \"spec\": {\"layer\": [{\"mark\": \"rule\", \"encoding\": {\"color\": {\"value\": \"black\"}, \"y\": {\"field\": \"cutoff\", \"type\": \"quantitative\"}}, \"selection\": {\"selector001\": {\"type\": \"interval\", \"bind\": \"scales\", \"encodings\": [\"x\", \"y\"]}}}, {\"mark\": {\"type\": \"point\", \"opacity\": 0.65, \"size\": 12, \"strokeWidth\": 1.1}, \"encoding\": {\"color\": {\"field\": \"time_of_day\", \"scale\": {\"range\": [\"#136C97\", \"#E16B26\", \"#F6BF16\", \"#00896B\", \"#7790A3\", \"#5B559C\"]}, \"sort\": [\"AM Peak\", \"Midday\", \"PM Peak\", \"Owl Service\"], \"title\": \"Time of Day\", \"type\": \"nominal\"}, \"tooltip\": [{\"field\": \"route_id\", \"type\": \"nominal\"}, {\"field\": \"route_name\", \"type\": \"nominal\"}, {\"field\": \"trip_id\", \"type\": \"nominal\"}, {\"field\": \"service_hours\", \"type\": \"quantitative\"}, {\"field\": \"car_duration_hours\", \"type\": \"quantitative\"}, {\"field\": \"bus_multiplier\", \"type\": \"quantitative\"}, {\"field\": \"bus_difference\", \"type\": \"quantitative\"}, {\"field\": \"num_trips\", \"type\": \"quantitative\"}, {\"field\": \"num_competitive\", \"type\": \"quantitative\"}, {\"field\": \"pct_trips_competitive\", \"type\": \"quantitative\"}, {\"field\": \"pct_below_cutoff\", \"type\": \"quantitative\"}, {\"field\": \"p25\", \"type\": \"quantitative\"}, {\"field\": \"p50\", \"type\": \"quantitative\"}, {\"field\": \"p75\", \"type\": \"quantitative\"}], \"x\": {\"axis\": {\"grid\": false, \"labels\": false, \"ticks\": true, \"values\": [0]}, \"field\": \"jitter\", \"scale\": {}, \"title\": null, \"type\": \"quantitative\"}, \"y\": {\"field\": \"bus_multiplier\", \"scale\": {\"domain\": [0, 3.0]}, \"title\": \"Ratio of Bus to Car Travel Time\", \"type\": \"quantitative\"}}, \"transform\": [{\"calculate\": \"sqrt(-2*log(random()))*cos(2*PI*random())\", \"as\": \"jitter\"}], \"width\": 50}, {\"layer\": [{\"mark\": {\"type\": \"point\", \"opacity\": 0.6, \"size\": 20, \"strokeWidth\": 1.3}, \"encoding\": {\"color\": {\"value\": \"#323434\"}, \"y\": {\"field\": \"bus_multiplier\", \"type\": \"quantitative\"}}, \"transform\": [{\"filter\": \"(datum.p50_trip === 1)\"}]}, {\"mark\": {\"type\": \"text\", \"align\": \"center\", \"baseline\": \"middle\"}, \"encoding\": {\"color\": {\"value\": \"black\"}, \"text\": {\"field\": \"pct_trips_competitive\", \"format\": \".0%\", \"type\": \"quantitative\"}, \"tooltip\": [{\"field\": \"route_id\", \"type\": \"nominal\"}, {\"field\": \"route_name\", \"type\": \"nominal\"}, {\"field\": \"trip_id\", \"type\": \"nominal\"}, {\"field\": \"service_hours\", \"type\": \"quantitative\"}, {\"field\": \"car_duration_hours\", \"type\": \"quantitative\"}, {\"field\": \"bus_multiplier\", \"type\": \"quantitative\"}, {\"field\": \"bus_difference\", \"type\": \"quantitative\"}, {\"field\": \"num_trips\", \"type\": \"quantitative\"}, {\"field\": \"num_competitive\", \"type\": \"quantitative\"}, {\"field\": \"pct_trips_competitive\", \"type\": \"quantitative\"}, {\"field\": \"pct_below_cutoff\", \"type\": \"quantitative\"}, {\"field\": \"p25\", \"type\": \"quantitative\"}, {\"field\": \"p50\", \"type\": \"quantitative\"}, {\"field\": \"p75\", \"type\": \"quantitative\"}], \"x\": {\"value\": 30}, \"y\": {\"value\": 15}}, \"transform\": [{\"calculate\": \"sqrt(-2*log(random()))*cos(2*PI*random())\", \"as\": \"jitter\"}, {\"filter\": \"(datum.fastest_trip === 1)\"}]}]}]}, \"resolve\": {\"scale\": {\"y\": \"shared\"}}, \"title\": \"Ratio of Bus to Car Travel Time\", \"$schema\": \"https://vega.github.io/schema/vega-lite/v4.17.0.json\", \"datasets\": {\"data-de2eb2c5d08266953847c8dbf7583961\": [{\"calitp_itp_id\": 331, \"trip_key\": 8784649576202984942, \"trip_id\": \"t_914865_b_23399_tn_0\", \"shape_id\": \"p_180377\", \"route_id\": \"2595\", \"service_hours\": 1.0, \"trip_first_departure_ts\": 54900, \"trip_last_arrival_ts\": 58500, \"departure_hour\": 15, \"time_of_day\": \"Midday\", \"p25\": 1.0, \"p50\": 1.0, \"p75\": 1.0, \"p50_trip\": 1, \"fastest_trip\": 1, \"car_duration_hours\": 1.06, \"competitive_route\": 1, \"bus_multiplier\": 0.94, \"bus_difference\": -3.6, \"num_trips\": 6, \"num_competitive\": 6, \"pct_trips_competitive\": 1.0, \"bus_difference_spread\": 0.0, \"route_group\": \"short\", \"max_trip_hrs\": 1.0, \"max_trip_route_group\": 1.0, \"below_cutoff\": 6, \"pct_below_cutoff\": 1.0, \"name\": \"Tahoe Transportation District\", \"caltrans_district\": \"03 - Marysville\", \"drmt_organization_name\": null, \"route_name\": \"Truckee, Northstar\", \"cutoff2\": 20, \"cutoff\": 2}, {\"calitp_itp_id\": 331, \"trip_key\": -1675236331378341992, \"trip_id\": \"t_914887_b_23399_tn_0\", \"shape_id\": \"p_898040\", \"route_id\": \"2595\", \"service_hours\": 1.0, \"trip_first_departure_ts\": 51300, \"trip_last_arrival_ts\": 54900, \"departure_hour\": 14, \"time_of_day\": \"Midday\", \"p25\": 1.0, \"p50\": 1.0, \"p75\": 1.0, \"p50_trip\": 1, \"fastest_trip\": 0, \"car_duration_hours\": 1.06, \"competitive_route\": 1, \"bus_multiplier\": 0.94, \"bus_difference\": -3.6, \"num_trips\": 6, \"num_competitive\": 6, \"pct_trips_competitive\": 1.0, \"bus_difference_spread\": 0.0, \"route_group\": \"short\", \"max_trip_hrs\": 1.0, \"max_trip_route_group\": 1.0, \"below_cutoff\": 6, \"pct_below_cutoff\": 1.0, \"name\": \"Tahoe Transportation District\", \"caltrans_district\": \"03 - Marysville\", \"drmt_organization_name\": null, \"route_name\": \"Truckee, Northstar\", \"cutoff2\": 20, \"cutoff\": 2}, {\"calitp_itp_id\": 331, \"trip_key\": -3393943484857250833, \"trip_id\": \"t_914882_b_23399_tn_0\", \"shape_id\": \"p_180377\", \"route_id\": \"2595\", \"service_hours\": 1.0, \"trip_first_departure_ts\": 37800, \"trip_last_arrival_ts\": 41400, \"departure_hour\": 10, \"time_of_day\": \"Midday\", \"p25\": 1.0, \"p50\": 1.0, \"p75\": 1.0, \"p50_trip\": 1, \"fastest_trip\": 0, \"car_duration_hours\": 1.06, \"competitive_route\": 1, \"bus_multiplier\": 0.94, \"bus_difference\": -3.6, \"num_trips\": 6, \"num_competitive\": 6, \"pct_trips_competitive\": 1.0, \"bus_difference_spread\": 0.0, \"route_group\": \"short\", \"max_trip_hrs\": 1.0, \"max_trip_route_group\": 1.0, \"below_cutoff\": 6, \"pct_below_cutoff\": 1.0, \"name\": \"Tahoe Transportation District\", \"caltrans_district\": \"03 - Marysville\", \"drmt_organization_name\": null, \"route_name\": \"Truckee, Northstar\", \"cutoff2\": 20, \"cutoff\": 2}, {\"calitp_itp_id\": 331, \"trip_key\": -5549073839751173756, \"trip_id\": \"t_914864_b_23399_tn_0\", \"shape_id\": \"p_180376\", \"route_id\": \"2595\", \"service_hours\": 1.0, \"trip_first_departure_ts\": 33300, \"trip_last_arrival_ts\": 36900, \"departure_hour\": 9, \"time_of_day\": \"AM Peak\", \"p25\": 1.0, \"p50\": 1.0, \"p75\": 1.0, \"p50_trip\": 1, \"fastest_trip\": 0, \"car_duration_hours\": 1.06, \"competitive_route\": 1, \"bus_multiplier\": 0.94, \"bus_difference\": -3.6, \"num_trips\": 6, \"num_competitive\": 6, \"pct_trips_competitive\": 1.0, \"bus_difference_spread\": 0.0, \"route_group\": \"short\", \"max_trip_hrs\": 1.0, \"max_trip_route_group\": 1.0, \"below_cutoff\": 6, \"pct_below_cutoff\": 1.0, \"name\": \"Tahoe Transportation District\", \"caltrans_district\": \"03 - Marysville\", \"drmt_organization_name\": null, \"route_name\": \"Truckee, Northstar\", \"cutoff2\": 20, \"cutoff\": 2}, {\"calitp_itp_id\": 331, \"trip_key\": -6355227295794759449, \"trip_id\": \"t_914866_b_23399_tn_0\", \"shape_id\": \"p_180377\", \"route_id\": \"2595\", \"service_hours\": 1.0, \"trip_first_departure_ts\": 86400, \"trip_last_arrival_ts\": 90000, \"departure_hour\": 0, \"time_of_day\": \"Owl Service\", \"p25\": 1.0, \"p50\": 1.0, \"p75\": 1.0, \"p50_trip\": 1, \"fastest_trip\": 0, \"car_duration_hours\": 1.06, \"competitive_route\": 1, \"bus_multiplier\": 0.94, \"bus_difference\": -3.6, \"num_trips\": 6, \"num_competitive\": 6, \"pct_trips_competitive\": 1.0, \"bus_difference_spread\": 0.0, \"route_group\": \"short\", \"max_trip_hrs\": 1.0, \"max_trip_route_group\": 1.0, \"below_cutoff\": 6, \"pct_below_cutoff\": 1.0, \"name\": \"Tahoe Transportation District\", \"caltrans_district\": \"03 - Marysville\", \"drmt_organization_name\": null, \"route_name\": \"Truckee, Northstar\", \"cutoff2\": 20, \"cutoff\": 2}, {\"calitp_itp_id\": 331, \"trip_key\": 3931985520374814100, \"trip_id\": \"t_914863_b_23399_tn_0\", \"shape_id\": \"p_180376\", \"route_id\": \"2595\", \"service_hours\": 1.0, \"trip_first_departure_ts\": 21600, \"trip_last_arrival_ts\": 25200, \"departure_hour\": 6, \"time_of_day\": \"Owl Service\", \"p25\": 1.0, \"p50\": 1.0, \"p75\": 1.0, \"p50_trip\": 1, \"fastest_trip\": 0, \"car_duration_hours\": 1.06, \"competitive_route\": 1, \"bus_multiplier\": 0.94, \"bus_difference\": -3.6, \"num_trips\": 6, \"num_competitive\": 6, \"pct_trips_competitive\": 1.0, \"bus_difference_spread\": 0.0, \"route_group\": \"short\", \"max_trip_hrs\": 1.0, \"max_trip_route_group\": 1.0, \"below_cutoff\": 6, \"pct_below_cutoff\": 1.0, \"name\": \"Tahoe Transportation District\", \"caltrans_district\": \"03 - Marysville\", \"drmt_organization_name\": null, \"route_name\": \"Truckee, Northstar\", \"cutoff2\": 20, \"cutoff\": 2}, {\"calitp_itp_id\": 331, \"trip_key\": 5396783997835403443, \"trip_id\": \"t_2004484_b_33429_tn_0\", \"shape_id\": \"p_375052\", \"route_id\": \"NSPM\", \"service_hours\": 0.42, \"trip_first_departure_ts\": 66600, \"trip_last_arrival_ts\": 68100, \"departure_hour\": 18, \"time_of_day\": \"PM Peak\", \"p25\": 0.42, \"p50\": 0.42, \"p75\": 0.42, \"p50_trip\": 1, \"fastest_trip\": 0, \"car_duration_hours\": 0.28, \"competitive_route\": 1, \"bus_multiplier\": 1.5, \"bus_difference\": 8.4, \"num_trips\": 9, \"num_competitive\": 9, \"pct_trips_competitive\": 1.0, \"bus_difference_spread\": 0.0, \"route_group\": \"short\", \"max_trip_hrs\": 0.42, \"max_trip_route_group\": 0.42, \"below_cutoff\": 9, \"pct_below_cutoff\": 1.0, \"name\": \"Tahoe Transportation District\", \"caltrans_district\": \"03 - Marysville\", \"drmt_organization_name\": null, \"route_name\": \"Hwy 267 Pm\", \"cutoff2\": 20, \"cutoff\": 2}, {\"calitp_itp_id\": 331, \"trip_key\": 2802782225990289565, \"trip_id\": \"t_2004487_b_33429_tn_0\", \"shape_id\": \"p_375052\", \"route_id\": \"NSPM\", \"service_hours\": 0.42, \"trip_first_departure_ts\": 77400, \"trip_last_arrival_ts\": 78900, \"departure_hour\": 21, \"time_of_day\": \"Owl Service\", \"p25\": 0.42, \"p50\": 0.42, \"p75\": 0.42, \"p50_trip\": 1, \"fastest_trip\": 0, \"car_duration_hours\": 0.28, \"competitive_route\": 1, \"bus_multiplier\": 1.5, \"bus_difference\": 8.4, \"num_trips\": 9, \"num_competitive\": 9, \"pct_trips_competitive\": 1.0, \"bus_difference_spread\": 0.0, \"route_group\": \"short\", \"max_trip_hrs\": 0.42, \"max_trip_route_group\": 0.42, \"below_cutoff\": 9, \"pct_below_cutoff\": 1.0, \"name\": \"Tahoe Transportation District\", \"caltrans_district\": \"03 - Marysville\", \"drmt_organization_name\": null, \"route_name\": \"Hwy 267 Pm\", \"cutoff2\": 20, \"cutoff\": 2}, {\"calitp_itp_id\": 331, \"trip_key\": 4770400430374252241, \"trip_id\": \"t_2004491_b_33429_tn_0\", \"shape_id\": \"p_375053\", \"route_id\": \"NSPM\", \"service_hours\": 0.42, \"trip_first_departure_ts\": 75600, \"trip_last_arrival_ts\": 77100, \"departure_hour\": 21, \"time_of_day\": \"Owl Service\", \"p25\": 0.42, \"p50\": 0.42, \"p75\": 0.42, \"p50_trip\": 1, \"fastest_trip\": 0, \"car_duration_hours\": 0.28, \"competitive_route\": 1, \"bus_multiplier\": 1.5, \"bus_difference\": 8.4, \"num_trips\": 9, \"num_competitive\": 9, \"pct_trips_competitive\": 1.0, \"bus_difference_spread\": 0.0, \"route_group\": \"short\", \"max_trip_hrs\": 0.42, \"max_trip_route_group\": 0.42, \"below_cutoff\": 9, \"pct_below_cutoff\": 1.0, \"name\": \"Tahoe Transportation District\", \"caltrans_district\": \"03 - Marysville\", \"drmt_organization_name\": null, \"route_name\": \"Hwy 267 Pm\", \"cutoff2\": 20, \"cutoff\": 2}, {\"calitp_itp_id\": 331, \"trip_key\": 1280572316888989604, \"trip_id\": \"t_2004490_b_33429_tn_0\", \"shape_id\": \"p_375053\", \"route_id\": \"NSPM\", \"service_hours\": 0.42, \"trip_first_departure_ts\": 72000, \"trip_last_arrival_ts\": 73500, \"departure_hour\": 20, \"time_of_day\": \"Owl Service\", \"p25\": 0.42, \"p50\": 0.42, \"p75\": 0.42, \"p50_trip\": 1, \"fastest_trip\": 0, \"car_duration_hours\": 0.28, \"competitive_route\": 1, \"bus_multiplier\": 1.5, \"bus_difference\": 8.4, \"num_trips\": 9, \"num_competitive\": 9, \"pct_trips_competitive\": 1.0, \"bus_difference_spread\": 0.0, \"route_group\": \"short\", \"max_trip_hrs\": 0.42, \"max_trip_route_group\": 0.42, \"below_cutoff\": 9, \"pct_below_cutoff\": 1.0, \"name\": \"Tahoe Transportation District\", \"caltrans_district\": \"03 - Marysville\", \"drmt_organization_name\": null, \"route_name\": \"Hwy 267 Pm\", \"cutoff2\": 20, \"cutoff\": 2}, {\"calitp_itp_id\": 331, \"trip_key\": -6542656286821304364, \"trip_id\": \"t_2004488_b_33429_tn_0\", \"shape_id\": \"p_375052\", \"route_id\": \"NSPM\", \"service_hours\": 0.42, \"trip_first_departure_ts\": 81000, \"trip_last_arrival_ts\": 82500, \"departure_hour\": 22, \"time_of_day\": \"Owl Service\", \"p25\": 0.42, \"p50\": 0.42, \"p75\": 0.42, \"p50_trip\": 1, \"fastest_trip\": 1, \"car_duration_hours\": 0.28, \"competitive_route\": 1, \"bus_multiplier\": 1.5, \"bus_difference\": 8.4, \"num_trips\": 9, \"num_competitive\": 9, \"pct_trips_competitive\": 1.0, \"bus_difference_spread\": 0.0, \"route_group\": \"short\", \"max_trip_hrs\": 0.42, \"max_trip_route_group\": 0.42, \"below_cutoff\": 9, \"pct_below_cutoff\": 1.0, \"name\": \"Tahoe Transportation District\", \"caltrans_district\": \"03 - Marysville\", \"drmt_organization_name\": null, \"route_name\": \"Hwy 267 Pm\", \"cutoff2\": 20, \"cutoff\": 2}, {\"calitp_itp_id\": 331, \"trip_key\": 49198910932344251, \"trip_id\": \"t_2004485_b_33429_tn_0\", \"shape_id\": \"p_375052\", \"route_id\": \"NSPM\", \"service_hours\": 0.42, \"trip_first_departure_ts\": 70200, \"trip_last_arrival_ts\": 71700, \"departure_hour\": 19, \"time_of_day\": \"PM Peak\", \"p25\": 0.42, \"p50\": 0.42, \"p75\": 0.42, \"p50_trip\": 1, \"fastest_trip\": 0, \"car_duration_hours\": 0.28, \"competitive_route\": 1, \"bus_multiplier\": 1.5, \"bus_difference\": 8.4, \"num_trips\": 9, \"num_competitive\": 9, \"pct_trips_competitive\": 1.0, \"bus_difference_spread\": 0.0, \"route_group\": \"short\", \"max_trip_hrs\": 0.42, \"max_trip_route_group\": 0.42, \"below_cutoff\": 9, \"pct_below_cutoff\": 1.0, \"name\": \"Tahoe Transportation District\", \"caltrans_district\": \"03 - Marysville\", \"drmt_organization_name\": null, \"route_name\": \"Hwy 267 Pm\", \"cutoff2\": 20, \"cutoff\": 2}, {\"calitp_itp_id\": 331, \"trip_key\": -6107779799344070859, \"trip_id\": \"t_2004486_b_33429_tn_0\", \"shape_id\": \"p_375052\", \"route_id\": \"NSPM\", \"service_hours\": 0.42, \"trip_first_departure_ts\": 73800, \"trip_last_arrival_ts\": 75300, \"departure_hour\": 20, \"time_of_day\": \"Owl Service\", \"p25\": 0.42, \"p50\": 0.42, \"p75\": 0.42, \"p50_trip\": 1, \"fastest_trip\": 0, \"car_duration_hours\": 0.28, \"competitive_route\": 1, \"bus_multiplier\": 1.5, \"bus_difference\": 8.4, \"num_trips\": 9, \"num_competitive\": 9, \"pct_trips_competitive\": 1.0, \"bus_difference_spread\": 0.0, \"route_group\": \"short\", \"max_trip_hrs\": 0.42, \"max_trip_route_group\": 0.42, \"below_cutoff\": 9, \"pct_below_cutoff\": 1.0, \"name\": \"Tahoe Transportation District\", \"caltrans_district\": \"03 - Marysville\", \"drmt_organization_name\": null, \"route_name\": \"Hwy 267 Pm\", \"cutoff2\": 20, \"cutoff\": 2}, {\"calitp_itp_id\": 331, \"trip_key\": -5413539132370670733, \"trip_id\": \"t_2004492_b_33429_tn_0\", \"shape_id\": \"p_375053\", \"route_id\": \"NSPM\", \"service_hours\": 0.42, \"trip_first_departure_ts\": 79200, \"trip_last_arrival_ts\": 80700, \"departure_hour\": 22, \"time_of_day\": \"Owl Service\", \"p25\": 0.42, \"p50\": 0.42, \"p75\": 0.42, \"p50_trip\": 1, \"fastest_trip\": 0, \"car_duration_hours\": 0.28, \"competitive_route\": 1, \"bus_multiplier\": 1.5, \"bus_difference\": 8.4, \"num_trips\": 9, \"num_competitive\": 9, \"pct_trips_competitive\": 1.0, \"bus_difference_spread\": 0.0, \"route_group\": \"short\", \"max_trip_hrs\": 0.42, \"max_trip_route_group\": 0.42, \"below_cutoff\": 9, \"pct_below_cutoff\": 1.0, \"name\": \"Tahoe Transportation District\", \"caltrans_district\": \"03 - Marysville\", \"drmt_organization_name\": null, \"route_name\": \"Hwy 267 Pm\", \"cutoff2\": 20, \"cutoff\": 2}, {\"calitp_itp_id\": 331, \"trip_key\": -6725759630808269819, \"trip_id\": \"t_2004489_b_33429_tn_0\", \"shape_id\": \"p_375053\", \"route_id\": \"NSPM\", \"service_hours\": 0.42, \"trip_first_departure_ts\": 68400, \"trip_last_arrival_ts\": 69900, \"departure_hour\": 19, \"time_of_day\": \"PM Peak\", \"p25\": 0.42, \"p50\": 0.42, \"p75\": 0.42, \"p50_trip\": 1, \"fastest_trip\": 0, \"car_duration_hours\": 0.28, \"competitive_route\": 1, \"bus_multiplier\": 1.5, \"bus_difference\": 8.4, \"num_trips\": 9, \"num_competitive\": 9, \"pct_trips_competitive\": 1.0, \"bus_difference_spread\": 0.0, \"route_group\": \"short\", \"max_trip_hrs\": 0.42, \"max_trip_route_group\": 0.42, \"below_cutoff\": 9, \"pct_below_cutoff\": 1.0, \"name\": \"Tahoe Transportation District\", \"caltrans_district\": \"03 - Marysville\", \"drmt_organization_name\": null, \"route_name\": \"Hwy 267 Pm\", \"cutoff2\": 20, \"cutoff\": 2}, {\"calitp_itp_id\": 331, \"trip_key\": -1002915690832447426, \"trip_id\": \"t_2004503_b_33429_tn_0\", \"shape_id\": \"p_1274591\", \"route_id\": \"TLR\", \"service_hours\": 0.5, \"trip_first_departure_ts\": 45000, \"trip_last_arrival_ts\": 46800, \"departure_hour\": 12, \"time_of_day\": \"Midday\", \"p25\": 0.5, \"p50\": 0.5, \"p75\": 0.5, \"p50_trip\": 1, \"fastest_trip\": 0, \"car_duration_hours\": 0.32, \"competitive_route\": 1, \"bus_multiplier\": 1.56, \"bus_difference\": 10.8, \"num_trips\": 24, \"num_competitive\": 24, \"pct_trips_competitive\": 1.0, \"bus_difference_spread\": 0.0, \"route_group\": \"short\", \"max_trip_hrs\": 0.5, \"max_trip_route_group\": 0.5, \"below_cutoff\": 24, \"pct_below_cutoff\": 1.0, \"name\": \"Tahoe Transportation District\", \"caltrans_district\": \"03 - Marysville\", \"drmt_organization_name\": null, \"route_name\": \"Truckee Local\", \"cutoff2\": 20, \"cutoff\": 2}, {\"calitp_itp_id\": 331, \"trip_key\": 6608519644360398633, \"trip_id\": \"t_2004502_b_33429_tn_0\", \"shape_id\": \"p_1274591\", \"route_id\": \"TLR\", \"service_hours\": 0.5, \"trip_first_departure_ts\": 41400, \"trip_last_arrival_ts\": 43200, \"departure_hour\": 11, \"time_of_day\": \"Midday\", \"p25\": 0.5, \"p50\": 0.5, \"p75\": 0.5, \"p50_trip\": 1, \"fastest_trip\": 0, \"car_duration_hours\": 0.32, \"competitive_route\": 1, \"bus_multiplier\": 1.56, \"bus_difference\": 10.8, \"num_trips\": 24, \"num_competitive\": 24, \"pct_trips_competitive\": 1.0, \"bus_difference_spread\": 0.0, \"route_group\": \"short\", \"max_trip_hrs\": 0.5, \"max_trip_route_group\": 0.5, \"below_cutoff\": 24, \"pct_below_cutoff\": 1.0, \"name\": \"Tahoe Transportation District\", \"caltrans_district\": \"03 - Marysville\", \"drmt_organization_name\": null, \"route_name\": \"Truckee Local\", \"cutoff2\": 20, \"cutoff\": 2}, {\"calitp_itp_id\": 331, \"trip_key\": 4689120928495663419, \"trip_id\": \"t_2004500_b_33429_tn_0\", \"shape_id\": \"p_1274591\", \"route_id\": \"TLR\", \"service_hours\": 0.5, \"trip_first_departure_ts\": 34200, \"trip_last_arrival_ts\": 36000, \"departure_hour\": 9, \"time_of_day\": \"AM Peak\", \"p25\": 0.5, \"p50\": 0.5, \"p75\": 0.5, \"p50_trip\": 1, \"fastest_trip\": 0, \"car_duration_hours\": 0.32, \"competitive_route\": 1, \"bus_multiplier\": 1.56, \"bus_difference\": 10.8, \"num_trips\": 24, \"num_competitive\": 24, \"pct_trips_competitive\": 1.0, \"bus_difference_spread\": 0.0, \"route_group\": \"short\", \"max_trip_hrs\": 0.5, \"max_trip_route_group\": 0.5, \"below_cutoff\": 24, \"pct_below_cutoff\": 1.0, \"name\": \"Tahoe Transportation District\", \"caltrans_district\": \"03 - Marysville\", \"drmt_organization_name\": null, \"route_name\": \"Truckee Local\", \"cutoff2\": 20, \"cutoff\": 2}, {\"calitp_itp_id\": 331, \"trip_key\": -5159082222425072456, \"trip_id\": \"t_2004513_b_33429_tn_0\", \"shape_id\": \"p_1274596\", \"route_id\": \"TLR\", \"service_hours\": 0.5, \"trip_first_departure_ts\": 43200, \"trip_last_arrival_ts\": 45000, \"departure_hour\": 12, \"time_of_day\": \"Midday\", \"p25\": 0.5, \"p50\": 0.5, \"p75\": 0.5, \"p50_trip\": 1, \"fastest_trip\": 0, \"car_duration_hours\": 0.32, \"competitive_route\": 1, \"bus_multiplier\": 1.56, \"bus_difference\": 10.8, \"num_trips\": 24, \"num_competitive\": 24, \"pct_trips_competitive\": 1.0, \"bus_difference_spread\": 0.0, \"route_group\": \"short\", \"max_trip_hrs\": 0.5, \"max_trip_route_group\": 0.5, \"below_cutoff\": 24, \"pct_below_cutoff\": 1.0, \"name\": \"Tahoe Transportation District\", \"caltrans_district\": \"03 - Marysville\", \"drmt_organization_name\": null, \"route_name\": \"Truckee Local\", \"cutoff2\": 20, \"cutoff\": 2}, {\"calitp_itp_id\": 331, \"trip_key\": 874665284572341009, \"trip_id\": \"t_2004497_b_33429_tn_0\", \"shape_id\": \"p_1274591\", \"route_id\": \"TLR\", \"service_hours\": 0.5, \"trip_first_departure_ts\": 59400, \"trip_last_arrival_ts\": 61200, \"departure_hour\": 16, \"time_of_day\": \"Midday\", \"p25\": 0.5, \"p50\": 0.5, \"p75\": 0.5, \"p50_trip\": 1, \"fastest_trip\": 0, \"car_duration_hours\": 0.32, \"competitive_route\": 1, \"bus_multiplier\": 1.56, \"bus_difference\": 10.8, \"num_trips\": 24, \"num_competitive\": 24, \"pct_trips_competitive\": 1.0, \"bus_difference_spread\": 0.0, \"route_group\": \"short\", \"max_trip_hrs\": 0.5, \"max_trip_route_group\": 0.5, \"below_cutoff\": 24, \"pct_below_cutoff\": 1.0, \"name\": \"Tahoe Transportation District\", \"caltrans_district\": \"03 - Marysville\", \"drmt_organization_name\": null, \"route_name\": \"Truckee Local\", \"cutoff2\": 20, \"cutoff\": 2}, {\"calitp_itp_id\": 331, \"trip_key\": 7101380492590396455, \"trip_id\": \"t_2004511_b_33429_tn_0\", \"shape_id\": \"p_1274596\", \"route_id\": \"TLR\", \"service_hours\": 0.5, \"trip_first_departure_ts\": 36000, \"trip_last_arrival_ts\": 37800, \"departure_hour\": 10, \"time_of_day\": \"Midday\", \"p25\": 0.5, \"p50\": 0.5, \"p75\": 0.5, \"p50_trip\": 1, \"fastest_trip\": 0, \"car_duration_hours\": 0.32, \"competitive_route\": 1, \"bus_multiplier\": 1.56, \"bus_difference\": 10.8, \"num_trips\": 24, \"num_competitive\": 24, \"pct_trips_competitive\": 1.0, \"bus_difference_spread\": 0.0, \"route_group\": \"short\", \"max_trip_hrs\": 0.5, \"max_trip_route_group\": 0.5, \"below_cutoff\": 24, \"pct_below_cutoff\": 1.0, \"name\": \"Tahoe Transportation District\", \"caltrans_district\": \"03 - Marysville\", \"drmt_organization_name\": null, \"route_name\": \"Truckee Local\", \"cutoff2\": 20, \"cutoff\": 2}, {\"calitp_itp_id\": 331, \"trip_key\": 7824194498944597190, \"trip_id\": \"t_2004508_b_33429_tn_0\", \"shape_id\": \"p_1274596\", \"route_id\": \"TLR\", \"service_hours\": 0.5, \"trip_first_departure_ts\": 25200, \"trip_last_arrival_ts\": 27000, \"departure_hour\": 7, \"time_of_day\": \"AM Peak\", \"p25\": 0.5, \"p50\": 0.5, \"p75\": 0.5, \"p50_trip\": 1, \"fastest_trip\": 0, \"car_duration_hours\": 0.32, \"competitive_route\": 1, \"bus_multiplier\": 1.56, \"bus_difference\": 10.8, \"num_trips\": 24, \"num_competitive\": 24, \"pct_trips_competitive\": 1.0, \"bus_difference_spread\": 0.0, \"route_group\": \"short\", \"max_trip_hrs\": 0.5, \"max_trip_route_group\": 0.5, \"below_cutoff\": 24, \"pct_below_cutoff\": 1.0, \"name\": \"Tahoe Transportation District\", \"caltrans_district\": \"03 - Marysville\", \"drmt_organization_name\": null, \"route_name\": \"Truckee Local\", \"cutoff2\": 20, \"cutoff\": 2}, {\"calitp_itp_id\": 331, \"trip_key\": -2781577389659475653, \"trip_id\": \"t_2004505_b_33429_tn_0\", \"shape_id\": \"p_1274591\", \"route_id\": \"TLR\", \"service_hours\": 0.5, \"trip_first_departure_ts\": 52200, \"trip_last_arrival_ts\": 54000, \"departure_hour\": 14, \"time_of_day\": \"Midday\", \"p25\": 0.5, \"p50\": 0.5, \"p75\": 0.5, \"p50_trip\": 1, \"fastest_trip\": 0, \"car_duration_hours\": 0.32, \"competitive_route\": 1, \"bus_multiplier\": 1.56, \"bus_difference\": 10.8, \"num_trips\": 24, \"num_competitive\": 24, \"pct_trips_competitive\": 1.0, \"bus_difference_spread\": 0.0, \"route_group\": \"short\", \"max_trip_hrs\": 0.5, \"max_trip_route_group\": 0.5, \"below_cutoff\": 24, \"pct_below_cutoff\": 1.0, \"name\": \"Tahoe Transportation District\", \"caltrans_district\": \"03 - Marysville\", \"drmt_organization_name\": null, \"route_name\": \"Truckee Local\", \"cutoff2\": 20, \"cutoff\": 2}, {\"calitp_itp_id\": 331, \"trip_key\": -7095598647131562557, \"trip_id\": \"t_2004510_b_33429_tn_0\", \"shape_id\": \"p_1274596\", \"route_id\": \"TLR\", \"service_hours\": 0.5, \"trip_first_departure_ts\": 32400, \"trip_last_arrival_ts\": 34200, \"departure_hour\": 9, \"time_of_day\": \"AM Peak\", \"p25\": 0.5, \"p50\": 0.5, \"p75\": 0.5, \"p50_trip\": 1, \"fastest_trip\": 0, \"car_duration_hours\": 0.32, \"competitive_route\": 1, \"bus_multiplier\": 1.56, \"bus_difference\": 10.8, \"num_trips\": 24, \"num_competitive\": 24, \"pct_trips_competitive\": 1.0, \"bus_difference_spread\": 0.0, \"route_group\": \"short\", \"max_trip_hrs\": 0.5, \"max_trip_route_group\": 0.5, \"below_cutoff\": 24, \"pct_below_cutoff\": 1.0, \"name\": \"Tahoe Transportation District\", \"caltrans_district\": \"03 - Marysville\", \"drmt_organization_name\": null, \"route_name\": \"Truckee Local\", \"cutoff2\": 20, \"cutoff\": 2}, {\"calitp_itp_id\": 331, \"trip_key\": 5338715160280664218, \"trip_id\": \"t_2004499_b_33429_tn_0\", \"shape_id\": \"p_1274591\", \"route_id\": \"TLR\", \"service_hours\": 0.5, \"trip_first_departure_ts\": 30600, \"trip_last_arrival_ts\": 32400, \"departure_hour\": 8, \"time_of_day\": \"AM Peak\", \"p25\": 0.5, \"p50\": 0.5, \"p75\": 0.5, \"p50_trip\": 1, \"fastest_trip\": 0, \"car_duration_hours\": 0.32, \"competitive_route\": 1, \"bus_multiplier\": 1.56, \"bus_difference\": 10.8, \"num_trips\": 24, \"num_competitive\": 24, \"pct_trips_competitive\": 1.0, \"bus_difference_spread\": 0.0, \"route_group\": \"short\", \"max_trip_hrs\": 0.5, \"max_trip_route_group\": 0.5, \"below_cutoff\": 24, \"pct_below_cutoff\": 1.0, \"name\": \"Tahoe Transportation District\", \"caltrans_district\": \"03 - Marysville\", \"drmt_organization_name\": null, \"route_name\": \"Truckee Local\", \"cutoff2\": 20, \"cutoff\": 2}, {\"calitp_itp_id\": 331, \"trip_key\": -6457030711264259356, \"trip_id\": \"t_2004504_b_33429_tn_0\", \"shape_id\": \"p_1274591\", \"route_id\": \"TLR\", \"service_hours\": 0.5, \"trip_first_departure_ts\": 48600, \"trip_last_arrival_ts\": 50400, \"departure_hour\": 13, \"time_of_day\": \"Midday\", \"p25\": 0.5, \"p50\": 0.5, \"p75\": 0.5, \"p50_trip\": 1, \"fastest_trip\": 0, \"car_duration_hours\": 0.32, \"competitive_route\": 1, \"bus_multiplier\": 1.56, \"bus_difference\": 10.8, \"num_trips\": 24, \"num_competitive\": 24, \"pct_trips_competitive\": 1.0, \"bus_difference_spread\": 0.0, \"route_group\": \"short\", \"max_trip_hrs\": 0.5, \"max_trip_route_group\": 0.5, \"below_cutoff\": 24, \"pct_below_cutoff\": 1.0, \"name\": \"Tahoe Transportation District\", \"caltrans_district\": \"03 - Marysville\", \"drmt_organization_name\": null, \"route_name\": \"Truckee Local\", \"cutoff2\": 20, \"cutoff\": 2}, {\"calitp_itp_id\": 331, \"trip_key\": 7964284356054720652, \"trip_id\": \"t_2004518_b_33429_tn_0\", \"shape_id\": \"p_1274591\", \"route_id\": \"TLR\", \"service_hours\": 0.5, \"trip_first_departure_ts\": 63000, \"trip_last_arrival_ts\": 64800, \"departure_hour\": 17, \"time_of_day\": \"PM Peak\", \"p25\": 0.5, \"p50\": 0.5, \"p75\": 0.5, \"p50_trip\": 1, \"fastest_trip\": 0, \"car_duration_hours\": 0.32, \"competitive_route\": 1, \"bus_multiplier\": 1.56, \"bus_difference\": 10.8, \"num_trips\": 24, \"num_competitive\": 24, \"pct_trips_competitive\": 1.0, \"bus_difference_spread\": 0.0, \"route_group\": \"short\", \"max_trip_hrs\": 0.5, \"max_trip_route_group\": 0.5, \"below_cutoff\": 24, \"pct_below_cutoff\": 1.0, \"name\": \"Tahoe Transportation District\", \"caltrans_district\": \"03 - Marysville\", \"drmt_organization_name\": null, \"route_name\": \"Truckee Local\", \"cutoff2\": 20, \"cutoff\": 2}, {\"calitp_itp_id\": 331, \"trip_key\": 4135682216224968349, \"trip_id\": \"t_2004498_b_33429_tn_0\", \"shape_id\": \"p_1274591\", \"route_id\": \"TLR\", \"service_hours\": 0.5, \"trip_first_departure_ts\": 27000, \"trip_last_arrival_ts\": 28800, \"departure_hour\": 7, \"time_of_day\": \"AM Peak\", \"p25\": 0.5, \"p50\": 0.5, \"p75\": 0.5, \"p50_trip\": 1, \"fastest_trip\": 0, \"car_duration_hours\": 0.32, \"competitive_route\": 1, \"bus_multiplier\": 1.56, \"bus_difference\": 10.8, \"num_trips\": 24, \"num_competitive\": 24, \"pct_trips_competitive\": 1.0, \"bus_difference_spread\": 0.0, \"route_group\": \"short\", \"max_trip_hrs\": 0.5, \"max_trip_route_group\": 0.5, \"below_cutoff\": 24, \"pct_below_cutoff\": 1.0, \"name\": \"Tahoe Transportation District\", \"caltrans_district\": \"03 - Marysville\", \"drmt_organization_name\": null, \"route_name\": \"Truckee Local\", \"cutoff2\": 20, \"cutoff\": 2}, {\"calitp_itp_id\": 331, \"trip_key\": 8200791930269059843, \"trip_id\": \"t_2004509_b_33429_tn_0\", \"shape_id\": \"p_1274596\", \"route_id\": \"TLR\", \"service_hours\": 0.5, \"trip_first_departure_ts\": 28800, \"trip_last_arrival_ts\": 30600, \"departure_hour\": 8, \"time_of_day\": \"AM Peak\", \"p25\": 0.5, \"p50\": 0.5, \"p75\": 0.5, \"p50_trip\": 1, \"fastest_trip\": 0, \"car_duration_hours\": 0.32, \"competitive_route\": 1, \"bus_multiplier\": 1.56, \"bus_difference\": 10.8, \"num_trips\": 24, \"num_competitive\": 24, \"pct_trips_competitive\": 1.0, \"bus_difference_spread\": 0.0, \"route_group\": \"short\", \"max_trip_hrs\": 0.5, \"max_trip_route_group\": 0.5, \"below_cutoff\": 24, \"pct_below_cutoff\": 1.0, \"name\": \"Tahoe Transportation District\", \"caltrans_district\": \"03 - Marysville\", \"drmt_organization_name\": null, \"route_name\": \"Truckee Local\", \"cutoff2\": 20, \"cutoff\": 2}, {\"calitp_itp_id\": 331, \"trip_key\": 3792647975828051796, \"trip_id\": \"t_2004506_b_33429_tn_0\", \"shape_id\": \"p_1274596\", \"route_id\": \"TLR\", \"service_hours\": 0.5, \"trip_first_departure_ts\": 46800, \"trip_last_arrival_ts\": 48600, \"departure_hour\": 13, \"time_of_day\": \"Midday\", \"p25\": 0.5, \"p50\": 0.5, \"p75\": 0.5, \"p50_trip\": 1, \"fastest_trip\": 0, \"car_duration_hours\": 0.32, \"competitive_route\": 1, \"bus_multiplier\": 1.56, \"bus_difference\": 10.8, \"num_trips\": 24, \"num_competitive\": 24, \"pct_trips_competitive\": 1.0, \"bus_difference_spread\": 0.0, \"route_group\": \"short\", \"max_trip_hrs\": 0.5, \"max_trip_route_group\": 0.5, \"below_cutoff\": 24, \"pct_below_cutoff\": 1.0, \"name\": \"Tahoe Transportation District\", \"caltrans_district\": \"03 - Marysville\", \"drmt_organization_name\": null, \"route_name\": \"Truckee Local\", \"cutoff2\": 20, \"cutoff\": 2}, {\"calitp_itp_id\": 331, \"trip_key\": -2456779645928607345, \"trip_id\": \"t_2004507_b_33429_tn_0\", \"shape_id\": \"p_1274596\", \"route_id\": \"TLR\", \"service_hours\": 0.5, \"trip_first_departure_ts\": 64800, \"trip_last_arrival_ts\": 66600, \"departure_hour\": 18, \"time_of_day\": \"PM Peak\", \"p25\": 0.5, \"p50\": 0.5, \"p75\": 0.5, \"p50_trip\": 1, \"fastest_trip\": 1, \"car_duration_hours\": 0.32, \"competitive_route\": 1, \"bus_multiplier\": 1.56, \"bus_difference\": 10.8, \"num_trips\": 24, \"num_competitive\": 24, \"pct_trips_competitive\": 1.0, \"bus_difference_spread\": 0.0, \"route_group\": \"short\", \"max_trip_hrs\": 0.5, \"max_trip_route_group\": 0.5, \"below_cutoff\": 24, \"pct_below_cutoff\": 1.0, \"name\": \"Tahoe Transportation District\", \"caltrans_district\": \"03 - Marysville\", \"drmt_organization_name\": null, \"route_name\": \"Truckee Local\", \"cutoff2\": 20, \"cutoff\": 2}, {\"calitp_itp_id\": 331, \"trip_key\": 8605383156232306044, \"trip_id\": \"t_2004515_b_33429_tn_0\", \"shape_id\": \"p_1274596\", \"route_id\": \"TLR\", \"service_hours\": 0.5, \"trip_first_departure_ts\": 54000, \"trip_last_arrival_ts\": 55800, \"departure_hour\": 15, \"time_of_day\": \"Midday\", \"p25\": 0.5, \"p50\": 0.5, \"p75\": 0.5, \"p50_trip\": 1, \"fastest_trip\": 0, \"car_duration_hours\": 0.32, \"competitive_route\": 1, \"bus_multiplier\": 1.56, \"bus_difference\": 10.8, \"num_trips\": 24, \"num_competitive\": 24, \"pct_trips_competitive\": 1.0, \"bus_difference_spread\": 0.0, \"route_group\": \"short\", \"max_trip_hrs\": 0.5, \"max_trip_route_group\": 0.5, \"below_cutoff\": 24, \"pct_below_cutoff\": 1.0, \"name\": \"Tahoe Transportation District\", \"caltrans_district\": \"03 - Marysville\", \"drmt_organization_name\": null, \"route_name\": \"Truckee Local\", \"cutoff2\": 20, \"cutoff\": 2}, {\"calitp_itp_id\": 331, \"trip_key\": -161080458889029591, \"trip_id\": \"t_2004501_b_33429_tn_0\", \"shape_id\": \"p_1274591\", \"route_id\": \"TLR\", \"service_hours\": 0.5, \"trip_first_departure_ts\": 37800, \"trip_last_arrival_ts\": 39600, \"departure_hour\": 10, \"time_of_day\": \"Midday\", \"p25\": 0.5, \"p50\": 0.5, \"p75\": 0.5, \"p50_trip\": 1, \"fastest_trip\": 0, \"car_duration_hours\": 0.32, \"competitive_route\": 1, \"bus_multiplier\": 1.56, \"bus_difference\": 10.8, \"num_trips\": 24, \"num_competitive\": 24, \"pct_trips_competitive\": 1.0, \"bus_difference_spread\": 0.0, \"route_group\": \"short\", \"max_trip_hrs\": 0.5, \"max_trip_route_group\": 0.5, \"below_cutoff\": 24, \"pct_below_cutoff\": 1.0, \"name\": \"Tahoe Transportation District\", \"caltrans_district\": \"03 - Marysville\", \"drmt_organization_name\": null, \"route_name\": \"Truckee Local\", \"cutoff2\": 20, \"cutoff\": 2}, {\"calitp_itp_id\": 331, \"trip_key\": 1889163015414220831, \"trip_id\": \"t_2004517_b_33429_tn_0\", \"shape_id\": \"p_1274596\", \"route_id\": \"TLR\", \"service_hours\": 0.5, \"trip_first_departure_ts\": 61200, \"trip_last_arrival_ts\": 63000, \"departure_hour\": 17, \"time_of_day\": \"PM Peak\", \"p25\": 0.5, \"p50\": 0.5, \"p75\": 0.5, \"p50_trip\": 1, \"fastest_trip\": 0, \"car_duration_hours\": 0.32, \"competitive_route\": 1, \"bus_multiplier\": 1.56, \"bus_difference\": 10.8, \"num_trips\": 24, \"num_competitive\": 24, \"pct_trips_competitive\": 1.0, \"bus_difference_spread\": 0.0, \"route_group\": \"short\", \"max_trip_hrs\": 0.5, \"max_trip_route_group\": 0.5, \"below_cutoff\": 24, \"pct_below_cutoff\": 1.0, \"name\": \"Tahoe Transportation District\", \"caltrans_district\": \"03 - Marysville\", \"drmt_organization_name\": null, \"route_name\": \"Truckee Local\", \"cutoff2\": 20, \"cutoff\": 2}, {\"calitp_itp_id\": 331, \"trip_key\": 8724441549001397114, \"trip_id\": \"t_2004496_b_33429_tn_0\", \"shape_id\": \"p_1274591\", \"route_id\": \"TLR\", \"service_hours\": 0.5, \"trip_first_departure_ts\": 55800, \"trip_last_arrival_ts\": 57600, \"departure_hour\": 15, \"time_of_day\": \"Midday\", \"p25\": 0.5, \"p50\": 0.5, \"p75\": 0.5, \"p50_trip\": 1, \"fastest_trip\": 0, \"car_duration_hours\": 0.32, \"competitive_route\": 1, \"bus_multiplier\": 1.56, \"bus_difference\": 10.8, \"num_trips\": 24, \"num_competitive\": 24, \"pct_trips_competitive\": 1.0, \"bus_difference_spread\": 0.0, \"route_group\": \"short\", \"max_trip_hrs\": 0.5, \"max_trip_route_group\": 0.5, \"below_cutoff\": 24, \"pct_below_cutoff\": 1.0, \"name\": \"Tahoe Transportation District\", \"caltrans_district\": \"03 - Marysville\", \"drmt_organization_name\": null, \"route_name\": \"Truckee Local\", \"cutoff2\": 20, \"cutoff\": 2}, {\"calitp_itp_id\": 331, \"trip_key\": -3795521193941126777, \"trip_id\": \"t_2004512_b_33429_tn_0\", \"shape_id\": \"p_1274596\", \"route_id\": \"TLR\", \"service_hours\": 0.5, \"trip_first_departure_ts\": 39600, \"trip_last_arrival_ts\": 41400, \"departure_hour\": 11, \"time_of_day\": \"Midday\", \"p25\": 0.5, \"p50\": 0.5, \"p75\": 0.5, \"p50_trip\": 1, \"fastest_trip\": 0, \"car_duration_hours\": 0.32, \"competitive_route\": 1, \"bus_multiplier\": 1.56, \"bus_difference\": 10.8, \"num_trips\": 24, \"num_competitive\": 24, \"pct_trips_competitive\": 1.0, \"bus_difference_spread\": 0.0, \"route_group\": \"short\", \"max_trip_hrs\": 0.5, \"max_trip_route_group\": 0.5, \"below_cutoff\": 24, \"pct_below_cutoff\": 1.0, \"name\": \"Tahoe Transportation District\", \"caltrans_district\": \"03 - Marysville\", \"drmt_organization_name\": null, \"route_name\": \"Truckee Local\", \"cutoff2\": 20, \"cutoff\": 2}, {\"calitp_itp_id\": 331, \"trip_key\": 6656100432858758232, \"trip_id\": \"t_2004495_b_33429_tn_0\", \"shape_id\": \"p_1274591\", \"route_id\": \"TLR\", \"service_hours\": 0.5, \"trip_first_departure_ts\": 23400, \"trip_last_arrival_ts\": 25200, \"departure_hour\": 6, \"time_of_day\": \"Owl Service\", \"p25\": 0.5, \"p50\": 0.5, \"p75\": 0.5, \"p50_trip\": 1, \"fastest_trip\": 0, \"car_duration_hours\": 0.32, \"competitive_route\": 1, \"bus_multiplier\": 1.56, \"bus_difference\": 10.8, \"num_trips\": 24, \"num_competitive\": 24, \"pct_trips_competitive\": 1.0, \"bus_difference_spread\": 0.0, \"route_group\": \"short\", \"max_trip_hrs\": 0.5, \"max_trip_route_group\": 0.5, \"below_cutoff\": 24, \"pct_below_cutoff\": 1.0, \"name\": \"Tahoe Transportation District\", \"caltrans_district\": \"03 - Marysville\", \"drmt_organization_name\": null, \"route_name\": \"Truckee Local\", \"cutoff2\": 20, \"cutoff\": 2}, {\"calitp_itp_id\": 331, \"trip_key\": -4863038145455105249, \"trip_id\": \"t_2004516_b_33429_tn_0\", \"shape_id\": \"p_1274596\", \"route_id\": \"TLR\", \"service_hours\": 0.5, \"trip_first_departure_ts\": 57600, \"trip_last_arrival_ts\": 59400, \"departure_hour\": 16, \"time_of_day\": \"Midday\", \"p25\": 0.5, \"p50\": 0.5, \"p75\": 0.5, \"p50_trip\": 1, \"fastest_trip\": 0, \"car_duration_hours\": 0.32, \"competitive_route\": 1, \"bus_multiplier\": 1.56, \"bus_difference\": 10.8, \"num_trips\": 24, \"num_competitive\": 24, \"pct_trips_competitive\": 1.0, \"bus_difference_spread\": 0.0, \"route_group\": \"short\", \"max_trip_hrs\": 0.5, \"max_trip_route_group\": 0.5, \"below_cutoff\": 24, \"pct_below_cutoff\": 1.0, \"name\": \"Tahoe Transportation District\", \"caltrans_district\": \"03 - Marysville\", \"drmt_organization_name\": null, \"route_name\": \"Truckee Local\", \"cutoff2\": 20, \"cutoff\": 2}, {\"calitp_itp_id\": 331, \"trip_key\": 6793980449567228139, \"trip_id\": \"t_2004514_b_33429_tn_0\", \"shape_id\": \"p_1274596\", \"route_id\": \"TLR\", \"service_hours\": 0.5, \"trip_first_departure_ts\": 50400, \"trip_last_arrival_ts\": 52200, \"departure_hour\": 14, \"time_of_day\": \"Midday\", \"p25\": 0.5, \"p50\": 0.5, \"p75\": 0.5, \"p50_trip\": 1, \"fastest_trip\": 0, \"car_duration_hours\": 0.32, \"competitive_route\": 1, \"bus_multiplier\": 1.56, \"bus_difference\": 10.8, \"num_trips\": 24, \"num_competitive\": 24, \"pct_trips_competitive\": 1.0, \"bus_difference_spread\": 0.0, \"route_group\": \"short\", \"max_trip_hrs\": 0.5, \"max_trip_route_group\": 0.5, \"below_cutoff\": 24, \"pct_below_cutoff\": 1.0, \"name\": \"Tahoe Transportation District\", \"caltrans_district\": \"03 - Marysville\", \"drmt_organization_name\": null, \"route_name\": \"Truckee Local\", \"cutoff2\": 20, \"cutoff\": 2}]}}, {\"mode\": \"vega-lite\"});\n",
       "</script>"
      ],
      "text/plain": [
       "alt.FacetChart(...)"
      ]
     },
     "metadata": {},
     "output_type": "display_data"
    },
    {
     "data": {
      "text/html": [
       "\n",
       "<div id=\"altair-viz-1d5cea44143948d4bf7466bd6c1c9980\"></div>\n",
       "<script type=\"text/javascript\">\n",
       "  var VEGA_DEBUG = (typeof VEGA_DEBUG == \"undefined\") ? {} : VEGA_DEBUG;\n",
       "  (function(spec, embedOpt){\n",
       "    let outputDiv = document.currentScript.previousElementSibling;\n",
       "    if (outputDiv.id !== \"altair-viz-1d5cea44143948d4bf7466bd6c1c9980\") {\n",
       "      outputDiv = document.getElementById(\"altair-viz-1d5cea44143948d4bf7466bd6c1c9980\");\n",
       "    }\n",
       "    const paths = {\n",
       "      \"vega\": \"https://cdn.jsdelivr.net/npm//vega@5?noext\",\n",
       "      \"vega-lib\": \"https://cdn.jsdelivr.net/npm//vega-lib?noext\",\n",
       "      \"vega-lite\": \"https://cdn.jsdelivr.net/npm//vega-lite@4.17.0?noext\",\n",
       "      \"vega-embed\": \"https://cdn.jsdelivr.net/npm//vega-embed@6?noext\",\n",
       "    };\n",
       "\n",
       "    function maybeLoadScript(lib, version) {\n",
       "      var key = `${lib.replace(\"-\", \"\")}_version`;\n",
       "      return (VEGA_DEBUG[key] == version) ?\n",
       "        Promise.resolve(paths[lib]) :\n",
       "        new Promise(function(resolve, reject) {\n",
       "          var s = document.createElement('script');\n",
       "          document.getElementsByTagName(\"head\")[0].appendChild(s);\n",
       "          s.async = true;\n",
       "          s.onload = () => {\n",
       "            VEGA_DEBUG[key] = version;\n",
       "            return resolve(paths[lib]);\n",
       "          };\n",
       "          s.onerror = () => reject(`Error loading script: ${paths[lib]}`);\n",
       "          s.src = paths[lib];\n",
       "        });\n",
       "    }\n",
       "\n",
       "    function showError(err) {\n",
       "      outputDiv.innerHTML = `<div class=\"error\" style=\"color:red;\">${err}</div>`;\n",
       "      throw err;\n",
       "    }\n",
       "\n",
       "    function displayChart(vegaEmbed) {\n",
       "      vegaEmbed(outputDiv, spec, embedOpt)\n",
       "        .catch(err => showError(`Javascript Error: ${err.message}<br>This usually means there's a typo in your chart specification. See the javascript console for the full traceback.`));\n",
       "    }\n",
       "\n",
       "    if(typeof define === \"function\" && define.amd) {\n",
       "      requirejs.config({paths});\n",
       "      require([\"vega-embed\"], displayChart, err => showError(`Error loading script: ${err.message}`));\n",
       "    } else {\n",
       "      maybeLoadScript(\"vega\", \"5\")\n",
       "        .then(() => maybeLoadScript(\"vega-lite\", \"4.17.0\"))\n",
       "        .then(() => maybeLoadScript(\"vega-embed\", \"6\"))\n",
       "        .catch(showError)\n",
       "        .then(() => displayChart(vegaEmbed));\n",
       "    }\n",
       "  })({\"config\": {\"view\": {\"continuousWidth\": 400, \"continuousHeight\": 300, \"stroke\": null}, \"facet\": {\"spacing\": 0}}, \"data\": {\"name\": \"data-505b2dc41b9b47a1fe493d35a4bfe635\"}, \"facet\": {\"column\": {\"field\": \"route_id\", \"sort\": [\"TLR\", \"NSPM\", \"2595\"], \"title\": \"Route ID\", \"type\": \"nominal\"}}, \"spec\": {\"layer\": [{\"mark\": \"rule\", \"encoding\": {\"color\": {\"value\": \"black\"}, \"y\": {\"field\": \"cutoff\", \"type\": \"quantitative\"}}, \"selection\": {\"selector002\": {\"type\": \"interval\", \"bind\": \"scales\", \"encodings\": [\"x\", \"y\"]}}}, {\"mark\": {\"type\": \"rule\", \"strokeDash\": [3, 3]}, \"encoding\": {\"color\": {\"value\": \"#323434\"}, \"y\": {\"field\": \"cutoff2\", \"type\": \"quantitative\"}}}, {\"mark\": {\"type\": \"point\", \"opacity\": 0.65, \"size\": 12, \"strokeWidth\": 1.1}, \"encoding\": {\"color\": {\"field\": \"time_of_day\", \"scale\": {\"range\": [\"#136C97\", \"#E16B26\", \"#F6BF16\", \"#00896B\", \"#7790A3\", \"#5B559C\"]}, \"sort\": [\"AM Peak\", \"Midday\", \"PM Peak\", \"Owl Service\"], \"title\": \"Time of Day\", \"type\": \"nominal\"}, \"tooltip\": [{\"field\": \"route_id\", \"type\": \"nominal\"}, {\"field\": \"route_name\", \"type\": \"nominal\"}, {\"field\": \"trip_id\", \"type\": \"nominal\"}, {\"field\": \"service_hours\", \"type\": \"quantitative\"}, {\"field\": \"car_duration_hours\", \"type\": \"quantitative\"}, {\"field\": \"bus_multiplier\", \"type\": \"quantitative\"}, {\"field\": \"bus_difference\", \"type\": \"quantitative\"}, {\"field\": \"num_trips\", \"type\": \"quantitative\"}, {\"field\": \"num_competitive\", \"type\": \"quantitative\"}, {\"field\": \"pct_trips_competitive\", \"type\": \"quantitative\"}, {\"field\": \"pct_below_cutoff\", \"type\": \"quantitative\"}, {\"field\": \"p25\", \"type\": \"quantitative\"}, {\"field\": \"p50\", \"type\": \"quantitative\"}, {\"field\": \"p75\", \"type\": \"quantitative\"}], \"x\": {\"axis\": {\"grid\": false, \"labels\": false, \"ticks\": true, \"values\": [0]}, \"field\": \"jitter\", \"scale\": {}, \"title\": null, \"type\": \"quantitative\"}, \"y\": {\"field\": \"bus_difference\", \"scale\": {\"domain\": [-5, 25.0]}, \"title\": \"Difference in Bus to Car Travel Time (min)\", \"type\": \"quantitative\"}}, \"transform\": [{\"calculate\": \"sqrt(-2*log(random()))*cos(2*PI*random())\", \"as\": \"jitter\"}], \"width\": 50}, {\"layer\": [{\"mark\": {\"type\": \"point\", \"opacity\": 0.6, \"size\": 20, \"strokeWidth\": 1.3}, \"encoding\": {\"color\": {\"value\": \"#323434\"}, \"y\": {\"field\": \"bus_difference\", \"type\": \"quantitative\"}}, \"transform\": [{\"filter\": \"(datum.p50_trip === 1)\"}]}, {\"mark\": {\"type\": \"text\", \"align\": \"center\", \"baseline\": \"middle\"}, \"encoding\": {\"color\": {\"value\": \"black\"}, \"text\": {\"field\": \"pct_trips_competitive\", \"format\": \".0%\", \"type\": \"quantitative\"}, \"tooltip\": [{\"field\": \"route_id\", \"type\": \"nominal\"}, {\"field\": \"route_name\", \"type\": \"nominal\"}, {\"field\": \"trip_id\", \"type\": \"nominal\"}, {\"field\": \"service_hours\", \"type\": \"quantitative\"}, {\"field\": \"car_duration_hours\", \"type\": \"quantitative\"}, {\"field\": \"bus_multiplier\", \"type\": \"quantitative\"}, {\"field\": \"bus_difference\", \"type\": \"quantitative\"}, {\"field\": \"num_trips\", \"type\": \"quantitative\"}, {\"field\": \"num_competitive\", \"type\": \"quantitative\"}, {\"field\": \"pct_trips_competitive\", \"type\": \"quantitative\"}, {\"field\": \"pct_below_cutoff\", \"type\": \"quantitative\"}, {\"field\": \"p25\", \"type\": \"quantitative\"}, {\"field\": \"p50\", \"type\": \"quantitative\"}, {\"field\": \"p75\", \"type\": \"quantitative\"}], \"x\": {\"value\": 30}, \"y\": {\"value\": 15}}, \"transform\": [{\"calculate\": \"sqrt(-2*log(random()))*cos(2*PI*random())\", \"as\": \"jitter\"}, {\"filter\": \"(datum.fastest_trip === 1)\"}]}]}]}, \"resolve\": {\"scale\": {\"y\": \"shared\"}}, \"title\": \"Difference in Bus to Car Travel Time (min)\", \"$schema\": \"https://vega.github.io/schema/vega-lite/v4.17.0.json\", \"datasets\": {\"data-505b2dc41b9b47a1fe493d35a4bfe635\": [{\"calitp_itp_id\": 331, \"trip_key\": 8784649576202984942, \"trip_id\": \"t_914865_b_23399_tn_0\", \"shape_id\": \"p_180377\", \"route_id\": \"2595\", \"service_hours\": 1.0, \"trip_first_departure_ts\": 54900, \"trip_last_arrival_ts\": 58500, \"departure_hour\": 15, \"time_of_day\": \"Midday\", \"p25\": 1.0, \"p50\": 1.0, \"p75\": 1.0, \"p50_trip\": 1, \"fastest_trip\": 1, \"car_duration_hours\": 1.06, \"competitive_route\": 1, \"bus_multiplier\": 0.94, \"bus_difference\": -3.6, \"num_trips\": 6, \"num_competitive\": 6, \"pct_trips_competitive\": 1.0, \"bus_difference_spread\": 0.0, \"route_group\": \"short\", \"max_trip_hrs\": 1.0, \"max_trip_route_group\": 1.0, \"below_cutoff\": 6, \"pct_below_cutoff\": 1.0, \"name\": \"Tahoe Transportation District\", \"caltrans_district\": \"03 - Marysville\", \"drmt_organization_name\": null, \"route_name\": \"Truckee, Northstar\", \"cutoff2\": 20, \"cutoff\": 0}, {\"calitp_itp_id\": 331, \"trip_key\": -1675236331378341992, \"trip_id\": \"t_914887_b_23399_tn_0\", \"shape_id\": \"p_898040\", \"route_id\": \"2595\", \"service_hours\": 1.0, \"trip_first_departure_ts\": 51300, \"trip_last_arrival_ts\": 54900, \"departure_hour\": 14, \"time_of_day\": \"Midday\", \"p25\": 1.0, \"p50\": 1.0, \"p75\": 1.0, \"p50_trip\": 1, \"fastest_trip\": 0, \"car_duration_hours\": 1.06, \"competitive_route\": 1, \"bus_multiplier\": 0.94, \"bus_difference\": -3.6, \"num_trips\": 6, \"num_competitive\": 6, \"pct_trips_competitive\": 1.0, \"bus_difference_spread\": 0.0, \"route_group\": \"short\", \"max_trip_hrs\": 1.0, \"max_trip_route_group\": 1.0, \"below_cutoff\": 6, \"pct_below_cutoff\": 1.0, \"name\": \"Tahoe Transportation District\", \"caltrans_district\": \"03 - Marysville\", \"drmt_organization_name\": null, \"route_name\": \"Truckee, Northstar\", \"cutoff2\": 20, \"cutoff\": 0}, {\"calitp_itp_id\": 331, \"trip_key\": -3393943484857250833, \"trip_id\": \"t_914882_b_23399_tn_0\", \"shape_id\": \"p_180377\", \"route_id\": \"2595\", \"service_hours\": 1.0, \"trip_first_departure_ts\": 37800, \"trip_last_arrival_ts\": 41400, \"departure_hour\": 10, \"time_of_day\": \"Midday\", \"p25\": 1.0, \"p50\": 1.0, \"p75\": 1.0, \"p50_trip\": 1, \"fastest_trip\": 0, \"car_duration_hours\": 1.06, \"competitive_route\": 1, \"bus_multiplier\": 0.94, \"bus_difference\": -3.6, \"num_trips\": 6, \"num_competitive\": 6, \"pct_trips_competitive\": 1.0, \"bus_difference_spread\": 0.0, \"route_group\": \"short\", \"max_trip_hrs\": 1.0, \"max_trip_route_group\": 1.0, \"below_cutoff\": 6, \"pct_below_cutoff\": 1.0, \"name\": \"Tahoe Transportation District\", \"caltrans_district\": \"03 - Marysville\", \"drmt_organization_name\": null, \"route_name\": \"Truckee, Northstar\", \"cutoff2\": 20, \"cutoff\": 0}, {\"calitp_itp_id\": 331, \"trip_key\": -5549073839751173756, \"trip_id\": \"t_914864_b_23399_tn_0\", \"shape_id\": \"p_180376\", \"route_id\": \"2595\", \"service_hours\": 1.0, \"trip_first_departure_ts\": 33300, \"trip_last_arrival_ts\": 36900, \"departure_hour\": 9, \"time_of_day\": \"AM Peak\", \"p25\": 1.0, \"p50\": 1.0, \"p75\": 1.0, \"p50_trip\": 1, \"fastest_trip\": 0, \"car_duration_hours\": 1.06, \"competitive_route\": 1, \"bus_multiplier\": 0.94, \"bus_difference\": -3.6, \"num_trips\": 6, \"num_competitive\": 6, \"pct_trips_competitive\": 1.0, \"bus_difference_spread\": 0.0, \"route_group\": \"short\", \"max_trip_hrs\": 1.0, \"max_trip_route_group\": 1.0, \"below_cutoff\": 6, \"pct_below_cutoff\": 1.0, \"name\": \"Tahoe Transportation District\", \"caltrans_district\": \"03 - Marysville\", \"drmt_organization_name\": null, \"route_name\": \"Truckee, Northstar\", \"cutoff2\": 20, \"cutoff\": 0}, {\"calitp_itp_id\": 331, \"trip_key\": -6355227295794759449, \"trip_id\": \"t_914866_b_23399_tn_0\", \"shape_id\": \"p_180377\", \"route_id\": \"2595\", \"service_hours\": 1.0, \"trip_first_departure_ts\": 86400, \"trip_last_arrival_ts\": 90000, \"departure_hour\": 0, \"time_of_day\": \"Owl Service\", \"p25\": 1.0, \"p50\": 1.0, \"p75\": 1.0, \"p50_trip\": 1, \"fastest_trip\": 0, \"car_duration_hours\": 1.06, \"competitive_route\": 1, \"bus_multiplier\": 0.94, \"bus_difference\": -3.6, \"num_trips\": 6, \"num_competitive\": 6, \"pct_trips_competitive\": 1.0, \"bus_difference_spread\": 0.0, \"route_group\": \"short\", \"max_trip_hrs\": 1.0, \"max_trip_route_group\": 1.0, \"below_cutoff\": 6, \"pct_below_cutoff\": 1.0, \"name\": \"Tahoe Transportation District\", \"caltrans_district\": \"03 - Marysville\", \"drmt_organization_name\": null, \"route_name\": \"Truckee, Northstar\", \"cutoff2\": 20, \"cutoff\": 0}, {\"calitp_itp_id\": 331, \"trip_key\": 3931985520374814100, \"trip_id\": \"t_914863_b_23399_tn_0\", \"shape_id\": \"p_180376\", \"route_id\": \"2595\", \"service_hours\": 1.0, \"trip_first_departure_ts\": 21600, \"trip_last_arrival_ts\": 25200, \"departure_hour\": 6, \"time_of_day\": \"Owl Service\", \"p25\": 1.0, \"p50\": 1.0, \"p75\": 1.0, \"p50_trip\": 1, \"fastest_trip\": 0, \"car_duration_hours\": 1.06, \"competitive_route\": 1, \"bus_multiplier\": 0.94, \"bus_difference\": -3.6, \"num_trips\": 6, \"num_competitive\": 6, \"pct_trips_competitive\": 1.0, \"bus_difference_spread\": 0.0, \"route_group\": \"short\", \"max_trip_hrs\": 1.0, \"max_trip_route_group\": 1.0, \"below_cutoff\": 6, \"pct_below_cutoff\": 1.0, \"name\": \"Tahoe Transportation District\", \"caltrans_district\": \"03 - Marysville\", \"drmt_organization_name\": null, \"route_name\": \"Truckee, Northstar\", \"cutoff2\": 20, \"cutoff\": 0}, {\"calitp_itp_id\": 331, \"trip_key\": 5396783997835403443, \"trip_id\": \"t_2004484_b_33429_tn_0\", \"shape_id\": \"p_375052\", \"route_id\": \"NSPM\", \"service_hours\": 0.42, \"trip_first_departure_ts\": 66600, \"trip_last_arrival_ts\": 68100, \"departure_hour\": 18, \"time_of_day\": \"PM Peak\", \"p25\": 0.42, \"p50\": 0.42, \"p75\": 0.42, \"p50_trip\": 1, \"fastest_trip\": 0, \"car_duration_hours\": 0.28, \"competitive_route\": 1, \"bus_multiplier\": 1.5, \"bus_difference\": 8.4, \"num_trips\": 9, \"num_competitive\": 9, \"pct_trips_competitive\": 1.0, \"bus_difference_spread\": 0.0, \"route_group\": \"short\", \"max_trip_hrs\": 0.42, \"max_trip_route_group\": 0.42, \"below_cutoff\": 9, \"pct_below_cutoff\": 1.0, \"name\": \"Tahoe Transportation District\", \"caltrans_district\": \"03 - Marysville\", \"drmt_organization_name\": null, \"route_name\": \"Hwy 267 Pm\", \"cutoff2\": 20, \"cutoff\": 0}, {\"calitp_itp_id\": 331, \"trip_key\": 2802782225990289565, \"trip_id\": \"t_2004487_b_33429_tn_0\", \"shape_id\": \"p_375052\", \"route_id\": \"NSPM\", \"service_hours\": 0.42, \"trip_first_departure_ts\": 77400, \"trip_last_arrival_ts\": 78900, \"departure_hour\": 21, \"time_of_day\": \"Owl Service\", \"p25\": 0.42, \"p50\": 0.42, \"p75\": 0.42, \"p50_trip\": 1, \"fastest_trip\": 0, \"car_duration_hours\": 0.28, \"competitive_route\": 1, \"bus_multiplier\": 1.5, \"bus_difference\": 8.4, \"num_trips\": 9, \"num_competitive\": 9, \"pct_trips_competitive\": 1.0, \"bus_difference_spread\": 0.0, \"route_group\": \"short\", \"max_trip_hrs\": 0.42, \"max_trip_route_group\": 0.42, \"below_cutoff\": 9, \"pct_below_cutoff\": 1.0, \"name\": \"Tahoe Transportation District\", \"caltrans_district\": \"03 - Marysville\", \"drmt_organization_name\": null, \"route_name\": \"Hwy 267 Pm\", \"cutoff2\": 20, \"cutoff\": 0}, {\"calitp_itp_id\": 331, \"trip_key\": 4770400430374252241, \"trip_id\": \"t_2004491_b_33429_tn_0\", \"shape_id\": \"p_375053\", \"route_id\": \"NSPM\", \"service_hours\": 0.42, \"trip_first_departure_ts\": 75600, \"trip_last_arrival_ts\": 77100, \"departure_hour\": 21, \"time_of_day\": \"Owl Service\", \"p25\": 0.42, \"p50\": 0.42, \"p75\": 0.42, \"p50_trip\": 1, \"fastest_trip\": 0, \"car_duration_hours\": 0.28, \"competitive_route\": 1, \"bus_multiplier\": 1.5, \"bus_difference\": 8.4, \"num_trips\": 9, \"num_competitive\": 9, \"pct_trips_competitive\": 1.0, \"bus_difference_spread\": 0.0, \"route_group\": \"short\", \"max_trip_hrs\": 0.42, \"max_trip_route_group\": 0.42, \"below_cutoff\": 9, \"pct_below_cutoff\": 1.0, \"name\": \"Tahoe Transportation District\", \"caltrans_district\": \"03 - Marysville\", \"drmt_organization_name\": null, \"route_name\": \"Hwy 267 Pm\", \"cutoff2\": 20, \"cutoff\": 0}, {\"calitp_itp_id\": 331, \"trip_key\": 1280572316888989604, \"trip_id\": \"t_2004490_b_33429_tn_0\", \"shape_id\": \"p_375053\", \"route_id\": \"NSPM\", \"service_hours\": 0.42, \"trip_first_departure_ts\": 72000, \"trip_last_arrival_ts\": 73500, \"departure_hour\": 20, \"time_of_day\": \"Owl Service\", \"p25\": 0.42, \"p50\": 0.42, \"p75\": 0.42, \"p50_trip\": 1, \"fastest_trip\": 0, \"car_duration_hours\": 0.28, \"competitive_route\": 1, \"bus_multiplier\": 1.5, \"bus_difference\": 8.4, \"num_trips\": 9, \"num_competitive\": 9, \"pct_trips_competitive\": 1.0, \"bus_difference_spread\": 0.0, \"route_group\": \"short\", \"max_trip_hrs\": 0.42, \"max_trip_route_group\": 0.42, \"below_cutoff\": 9, \"pct_below_cutoff\": 1.0, \"name\": \"Tahoe Transportation District\", \"caltrans_district\": \"03 - Marysville\", \"drmt_organization_name\": null, \"route_name\": \"Hwy 267 Pm\", \"cutoff2\": 20, \"cutoff\": 0}, {\"calitp_itp_id\": 331, \"trip_key\": -6542656286821304364, \"trip_id\": \"t_2004488_b_33429_tn_0\", \"shape_id\": \"p_375052\", \"route_id\": \"NSPM\", \"service_hours\": 0.42, \"trip_first_departure_ts\": 81000, \"trip_last_arrival_ts\": 82500, \"departure_hour\": 22, \"time_of_day\": \"Owl Service\", \"p25\": 0.42, \"p50\": 0.42, \"p75\": 0.42, \"p50_trip\": 1, \"fastest_trip\": 1, \"car_duration_hours\": 0.28, \"competitive_route\": 1, \"bus_multiplier\": 1.5, \"bus_difference\": 8.4, \"num_trips\": 9, \"num_competitive\": 9, \"pct_trips_competitive\": 1.0, \"bus_difference_spread\": 0.0, \"route_group\": \"short\", \"max_trip_hrs\": 0.42, \"max_trip_route_group\": 0.42, \"below_cutoff\": 9, \"pct_below_cutoff\": 1.0, \"name\": \"Tahoe Transportation District\", \"caltrans_district\": \"03 - Marysville\", \"drmt_organization_name\": null, \"route_name\": \"Hwy 267 Pm\", \"cutoff2\": 20, \"cutoff\": 0}, {\"calitp_itp_id\": 331, \"trip_key\": 49198910932344251, \"trip_id\": \"t_2004485_b_33429_tn_0\", \"shape_id\": \"p_375052\", \"route_id\": \"NSPM\", \"service_hours\": 0.42, \"trip_first_departure_ts\": 70200, \"trip_last_arrival_ts\": 71700, \"departure_hour\": 19, \"time_of_day\": \"PM Peak\", \"p25\": 0.42, \"p50\": 0.42, \"p75\": 0.42, \"p50_trip\": 1, \"fastest_trip\": 0, \"car_duration_hours\": 0.28, \"competitive_route\": 1, \"bus_multiplier\": 1.5, \"bus_difference\": 8.4, \"num_trips\": 9, \"num_competitive\": 9, \"pct_trips_competitive\": 1.0, \"bus_difference_spread\": 0.0, \"route_group\": \"short\", \"max_trip_hrs\": 0.42, \"max_trip_route_group\": 0.42, \"below_cutoff\": 9, \"pct_below_cutoff\": 1.0, \"name\": \"Tahoe Transportation District\", \"caltrans_district\": \"03 - Marysville\", \"drmt_organization_name\": null, \"route_name\": \"Hwy 267 Pm\", \"cutoff2\": 20, \"cutoff\": 0}, {\"calitp_itp_id\": 331, \"trip_key\": -6107779799344070859, \"trip_id\": \"t_2004486_b_33429_tn_0\", \"shape_id\": \"p_375052\", \"route_id\": \"NSPM\", \"service_hours\": 0.42, \"trip_first_departure_ts\": 73800, \"trip_last_arrival_ts\": 75300, \"departure_hour\": 20, \"time_of_day\": \"Owl Service\", \"p25\": 0.42, \"p50\": 0.42, \"p75\": 0.42, \"p50_trip\": 1, \"fastest_trip\": 0, \"car_duration_hours\": 0.28, \"competitive_route\": 1, \"bus_multiplier\": 1.5, \"bus_difference\": 8.4, \"num_trips\": 9, \"num_competitive\": 9, \"pct_trips_competitive\": 1.0, \"bus_difference_spread\": 0.0, \"route_group\": \"short\", \"max_trip_hrs\": 0.42, \"max_trip_route_group\": 0.42, \"below_cutoff\": 9, \"pct_below_cutoff\": 1.0, \"name\": \"Tahoe Transportation District\", \"caltrans_district\": \"03 - Marysville\", \"drmt_organization_name\": null, \"route_name\": \"Hwy 267 Pm\", \"cutoff2\": 20, \"cutoff\": 0}, {\"calitp_itp_id\": 331, \"trip_key\": -5413539132370670733, \"trip_id\": \"t_2004492_b_33429_tn_0\", \"shape_id\": \"p_375053\", \"route_id\": \"NSPM\", \"service_hours\": 0.42, \"trip_first_departure_ts\": 79200, \"trip_last_arrival_ts\": 80700, \"departure_hour\": 22, \"time_of_day\": \"Owl Service\", \"p25\": 0.42, \"p50\": 0.42, \"p75\": 0.42, \"p50_trip\": 1, \"fastest_trip\": 0, \"car_duration_hours\": 0.28, \"competitive_route\": 1, \"bus_multiplier\": 1.5, \"bus_difference\": 8.4, \"num_trips\": 9, \"num_competitive\": 9, \"pct_trips_competitive\": 1.0, \"bus_difference_spread\": 0.0, \"route_group\": \"short\", \"max_trip_hrs\": 0.42, \"max_trip_route_group\": 0.42, \"below_cutoff\": 9, \"pct_below_cutoff\": 1.0, \"name\": \"Tahoe Transportation District\", \"caltrans_district\": \"03 - Marysville\", \"drmt_organization_name\": null, \"route_name\": \"Hwy 267 Pm\", \"cutoff2\": 20, \"cutoff\": 0}, {\"calitp_itp_id\": 331, \"trip_key\": -6725759630808269819, \"trip_id\": \"t_2004489_b_33429_tn_0\", \"shape_id\": \"p_375053\", \"route_id\": \"NSPM\", \"service_hours\": 0.42, \"trip_first_departure_ts\": 68400, \"trip_last_arrival_ts\": 69900, \"departure_hour\": 19, \"time_of_day\": \"PM Peak\", \"p25\": 0.42, \"p50\": 0.42, \"p75\": 0.42, \"p50_trip\": 1, \"fastest_trip\": 0, \"car_duration_hours\": 0.28, \"competitive_route\": 1, \"bus_multiplier\": 1.5, \"bus_difference\": 8.4, \"num_trips\": 9, \"num_competitive\": 9, \"pct_trips_competitive\": 1.0, \"bus_difference_spread\": 0.0, \"route_group\": \"short\", \"max_trip_hrs\": 0.42, \"max_trip_route_group\": 0.42, \"below_cutoff\": 9, \"pct_below_cutoff\": 1.0, \"name\": \"Tahoe Transportation District\", \"caltrans_district\": \"03 - Marysville\", \"drmt_organization_name\": null, \"route_name\": \"Hwy 267 Pm\", \"cutoff2\": 20, \"cutoff\": 0}, {\"calitp_itp_id\": 331, \"trip_key\": -1002915690832447426, \"trip_id\": \"t_2004503_b_33429_tn_0\", \"shape_id\": \"p_1274591\", \"route_id\": \"TLR\", \"service_hours\": 0.5, \"trip_first_departure_ts\": 45000, \"trip_last_arrival_ts\": 46800, \"departure_hour\": 12, \"time_of_day\": \"Midday\", \"p25\": 0.5, \"p50\": 0.5, \"p75\": 0.5, \"p50_trip\": 1, \"fastest_trip\": 0, \"car_duration_hours\": 0.32, \"competitive_route\": 1, \"bus_multiplier\": 1.56, \"bus_difference\": 10.8, \"num_trips\": 24, \"num_competitive\": 24, \"pct_trips_competitive\": 1.0, \"bus_difference_spread\": 0.0, \"route_group\": \"short\", \"max_trip_hrs\": 0.5, \"max_trip_route_group\": 0.5, \"below_cutoff\": 24, \"pct_below_cutoff\": 1.0, \"name\": \"Tahoe Transportation District\", \"caltrans_district\": \"03 - Marysville\", \"drmt_organization_name\": null, \"route_name\": \"Truckee Local\", \"cutoff2\": 20, \"cutoff\": 0}, {\"calitp_itp_id\": 331, \"trip_key\": 6608519644360398633, \"trip_id\": \"t_2004502_b_33429_tn_0\", \"shape_id\": \"p_1274591\", \"route_id\": \"TLR\", \"service_hours\": 0.5, \"trip_first_departure_ts\": 41400, \"trip_last_arrival_ts\": 43200, \"departure_hour\": 11, \"time_of_day\": \"Midday\", \"p25\": 0.5, \"p50\": 0.5, \"p75\": 0.5, \"p50_trip\": 1, \"fastest_trip\": 0, \"car_duration_hours\": 0.32, \"competitive_route\": 1, \"bus_multiplier\": 1.56, \"bus_difference\": 10.8, \"num_trips\": 24, \"num_competitive\": 24, \"pct_trips_competitive\": 1.0, \"bus_difference_spread\": 0.0, \"route_group\": \"short\", \"max_trip_hrs\": 0.5, \"max_trip_route_group\": 0.5, \"below_cutoff\": 24, \"pct_below_cutoff\": 1.0, \"name\": \"Tahoe Transportation District\", \"caltrans_district\": \"03 - Marysville\", \"drmt_organization_name\": null, \"route_name\": \"Truckee Local\", \"cutoff2\": 20, \"cutoff\": 0}, {\"calitp_itp_id\": 331, \"trip_key\": 4689120928495663419, \"trip_id\": \"t_2004500_b_33429_tn_0\", \"shape_id\": \"p_1274591\", \"route_id\": \"TLR\", \"service_hours\": 0.5, \"trip_first_departure_ts\": 34200, \"trip_last_arrival_ts\": 36000, \"departure_hour\": 9, \"time_of_day\": \"AM Peak\", \"p25\": 0.5, \"p50\": 0.5, \"p75\": 0.5, \"p50_trip\": 1, \"fastest_trip\": 0, \"car_duration_hours\": 0.32, \"competitive_route\": 1, \"bus_multiplier\": 1.56, \"bus_difference\": 10.8, \"num_trips\": 24, \"num_competitive\": 24, \"pct_trips_competitive\": 1.0, \"bus_difference_spread\": 0.0, \"route_group\": \"short\", \"max_trip_hrs\": 0.5, \"max_trip_route_group\": 0.5, \"below_cutoff\": 24, \"pct_below_cutoff\": 1.0, \"name\": \"Tahoe Transportation District\", \"caltrans_district\": \"03 - Marysville\", \"drmt_organization_name\": null, \"route_name\": \"Truckee Local\", \"cutoff2\": 20, \"cutoff\": 0}, {\"calitp_itp_id\": 331, \"trip_key\": -5159082222425072456, \"trip_id\": \"t_2004513_b_33429_tn_0\", \"shape_id\": \"p_1274596\", \"route_id\": \"TLR\", \"service_hours\": 0.5, \"trip_first_departure_ts\": 43200, \"trip_last_arrival_ts\": 45000, \"departure_hour\": 12, \"time_of_day\": \"Midday\", \"p25\": 0.5, \"p50\": 0.5, \"p75\": 0.5, \"p50_trip\": 1, \"fastest_trip\": 0, \"car_duration_hours\": 0.32, \"competitive_route\": 1, \"bus_multiplier\": 1.56, \"bus_difference\": 10.8, \"num_trips\": 24, \"num_competitive\": 24, \"pct_trips_competitive\": 1.0, \"bus_difference_spread\": 0.0, \"route_group\": \"short\", \"max_trip_hrs\": 0.5, \"max_trip_route_group\": 0.5, \"below_cutoff\": 24, \"pct_below_cutoff\": 1.0, \"name\": \"Tahoe Transportation District\", \"caltrans_district\": \"03 - Marysville\", \"drmt_organization_name\": null, \"route_name\": \"Truckee Local\", \"cutoff2\": 20, \"cutoff\": 0}, {\"calitp_itp_id\": 331, \"trip_key\": 874665284572341009, \"trip_id\": \"t_2004497_b_33429_tn_0\", \"shape_id\": \"p_1274591\", \"route_id\": \"TLR\", \"service_hours\": 0.5, \"trip_first_departure_ts\": 59400, \"trip_last_arrival_ts\": 61200, \"departure_hour\": 16, \"time_of_day\": \"Midday\", \"p25\": 0.5, \"p50\": 0.5, \"p75\": 0.5, \"p50_trip\": 1, \"fastest_trip\": 0, \"car_duration_hours\": 0.32, \"competitive_route\": 1, \"bus_multiplier\": 1.56, \"bus_difference\": 10.8, \"num_trips\": 24, \"num_competitive\": 24, \"pct_trips_competitive\": 1.0, \"bus_difference_spread\": 0.0, \"route_group\": \"short\", \"max_trip_hrs\": 0.5, \"max_trip_route_group\": 0.5, \"below_cutoff\": 24, \"pct_below_cutoff\": 1.0, \"name\": \"Tahoe Transportation District\", \"caltrans_district\": \"03 - Marysville\", \"drmt_organization_name\": null, \"route_name\": \"Truckee Local\", \"cutoff2\": 20, \"cutoff\": 0}, {\"calitp_itp_id\": 331, \"trip_key\": 7101380492590396455, \"trip_id\": \"t_2004511_b_33429_tn_0\", \"shape_id\": \"p_1274596\", \"route_id\": \"TLR\", \"service_hours\": 0.5, \"trip_first_departure_ts\": 36000, \"trip_last_arrival_ts\": 37800, \"departure_hour\": 10, \"time_of_day\": \"Midday\", \"p25\": 0.5, \"p50\": 0.5, \"p75\": 0.5, \"p50_trip\": 1, \"fastest_trip\": 0, \"car_duration_hours\": 0.32, \"competitive_route\": 1, \"bus_multiplier\": 1.56, \"bus_difference\": 10.8, \"num_trips\": 24, \"num_competitive\": 24, \"pct_trips_competitive\": 1.0, \"bus_difference_spread\": 0.0, \"route_group\": \"short\", \"max_trip_hrs\": 0.5, \"max_trip_route_group\": 0.5, \"below_cutoff\": 24, \"pct_below_cutoff\": 1.0, \"name\": \"Tahoe Transportation District\", \"caltrans_district\": \"03 - Marysville\", \"drmt_organization_name\": null, \"route_name\": \"Truckee Local\", \"cutoff2\": 20, \"cutoff\": 0}, {\"calitp_itp_id\": 331, \"trip_key\": 7824194498944597190, \"trip_id\": \"t_2004508_b_33429_tn_0\", \"shape_id\": \"p_1274596\", \"route_id\": \"TLR\", \"service_hours\": 0.5, \"trip_first_departure_ts\": 25200, \"trip_last_arrival_ts\": 27000, \"departure_hour\": 7, \"time_of_day\": \"AM Peak\", \"p25\": 0.5, \"p50\": 0.5, \"p75\": 0.5, \"p50_trip\": 1, \"fastest_trip\": 0, \"car_duration_hours\": 0.32, \"competitive_route\": 1, \"bus_multiplier\": 1.56, \"bus_difference\": 10.8, \"num_trips\": 24, \"num_competitive\": 24, \"pct_trips_competitive\": 1.0, \"bus_difference_spread\": 0.0, \"route_group\": \"short\", \"max_trip_hrs\": 0.5, \"max_trip_route_group\": 0.5, \"below_cutoff\": 24, \"pct_below_cutoff\": 1.0, \"name\": \"Tahoe Transportation District\", \"caltrans_district\": \"03 - Marysville\", \"drmt_organization_name\": null, \"route_name\": \"Truckee Local\", \"cutoff2\": 20, \"cutoff\": 0}, {\"calitp_itp_id\": 331, \"trip_key\": -2781577389659475653, \"trip_id\": \"t_2004505_b_33429_tn_0\", \"shape_id\": \"p_1274591\", \"route_id\": \"TLR\", \"service_hours\": 0.5, \"trip_first_departure_ts\": 52200, \"trip_last_arrival_ts\": 54000, \"departure_hour\": 14, \"time_of_day\": \"Midday\", \"p25\": 0.5, \"p50\": 0.5, \"p75\": 0.5, \"p50_trip\": 1, \"fastest_trip\": 0, \"car_duration_hours\": 0.32, \"competitive_route\": 1, \"bus_multiplier\": 1.56, \"bus_difference\": 10.8, \"num_trips\": 24, \"num_competitive\": 24, \"pct_trips_competitive\": 1.0, \"bus_difference_spread\": 0.0, \"route_group\": \"short\", \"max_trip_hrs\": 0.5, \"max_trip_route_group\": 0.5, \"below_cutoff\": 24, \"pct_below_cutoff\": 1.0, \"name\": \"Tahoe Transportation District\", \"caltrans_district\": \"03 - Marysville\", \"drmt_organization_name\": null, \"route_name\": \"Truckee Local\", \"cutoff2\": 20, \"cutoff\": 0}, {\"calitp_itp_id\": 331, \"trip_key\": -7095598647131562557, \"trip_id\": \"t_2004510_b_33429_tn_0\", \"shape_id\": \"p_1274596\", \"route_id\": \"TLR\", \"service_hours\": 0.5, \"trip_first_departure_ts\": 32400, \"trip_last_arrival_ts\": 34200, \"departure_hour\": 9, \"time_of_day\": \"AM Peak\", \"p25\": 0.5, \"p50\": 0.5, \"p75\": 0.5, \"p50_trip\": 1, \"fastest_trip\": 0, \"car_duration_hours\": 0.32, \"competitive_route\": 1, \"bus_multiplier\": 1.56, \"bus_difference\": 10.8, \"num_trips\": 24, \"num_competitive\": 24, \"pct_trips_competitive\": 1.0, \"bus_difference_spread\": 0.0, \"route_group\": \"short\", \"max_trip_hrs\": 0.5, \"max_trip_route_group\": 0.5, \"below_cutoff\": 24, \"pct_below_cutoff\": 1.0, \"name\": \"Tahoe Transportation District\", \"caltrans_district\": \"03 - Marysville\", \"drmt_organization_name\": null, \"route_name\": \"Truckee Local\", \"cutoff2\": 20, \"cutoff\": 0}, {\"calitp_itp_id\": 331, \"trip_key\": 5338715160280664218, \"trip_id\": \"t_2004499_b_33429_tn_0\", \"shape_id\": \"p_1274591\", \"route_id\": \"TLR\", \"service_hours\": 0.5, \"trip_first_departure_ts\": 30600, \"trip_last_arrival_ts\": 32400, \"departure_hour\": 8, \"time_of_day\": \"AM Peak\", \"p25\": 0.5, \"p50\": 0.5, \"p75\": 0.5, \"p50_trip\": 1, \"fastest_trip\": 0, \"car_duration_hours\": 0.32, \"competitive_route\": 1, \"bus_multiplier\": 1.56, \"bus_difference\": 10.8, \"num_trips\": 24, \"num_competitive\": 24, \"pct_trips_competitive\": 1.0, \"bus_difference_spread\": 0.0, \"route_group\": \"short\", \"max_trip_hrs\": 0.5, \"max_trip_route_group\": 0.5, \"below_cutoff\": 24, \"pct_below_cutoff\": 1.0, \"name\": \"Tahoe Transportation District\", \"caltrans_district\": \"03 - Marysville\", \"drmt_organization_name\": null, \"route_name\": \"Truckee Local\", \"cutoff2\": 20, \"cutoff\": 0}, {\"calitp_itp_id\": 331, \"trip_key\": -6457030711264259356, \"trip_id\": \"t_2004504_b_33429_tn_0\", \"shape_id\": \"p_1274591\", \"route_id\": \"TLR\", \"service_hours\": 0.5, \"trip_first_departure_ts\": 48600, \"trip_last_arrival_ts\": 50400, \"departure_hour\": 13, \"time_of_day\": \"Midday\", \"p25\": 0.5, \"p50\": 0.5, \"p75\": 0.5, \"p50_trip\": 1, \"fastest_trip\": 0, \"car_duration_hours\": 0.32, \"competitive_route\": 1, \"bus_multiplier\": 1.56, \"bus_difference\": 10.8, \"num_trips\": 24, \"num_competitive\": 24, \"pct_trips_competitive\": 1.0, \"bus_difference_spread\": 0.0, \"route_group\": \"short\", \"max_trip_hrs\": 0.5, \"max_trip_route_group\": 0.5, \"below_cutoff\": 24, \"pct_below_cutoff\": 1.0, \"name\": \"Tahoe Transportation District\", \"caltrans_district\": \"03 - Marysville\", \"drmt_organization_name\": null, \"route_name\": \"Truckee Local\", \"cutoff2\": 20, \"cutoff\": 0}, {\"calitp_itp_id\": 331, \"trip_key\": 7964284356054720652, \"trip_id\": \"t_2004518_b_33429_tn_0\", \"shape_id\": \"p_1274591\", \"route_id\": \"TLR\", \"service_hours\": 0.5, \"trip_first_departure_ts\": 63000, \"trip_last_arrival_ts\": 64800, \"departure_hour\": 17, \"time_of_day\": \"PM Peak\", \"p25\": 0.5, \"p50\": 0.5, \"p75\": 0.5, \"p50_trip\": 1, \"fastest_trip\": 0, \"car_duration_hours\": 0.32, \"competitive_route\": 1, \"bus_multiplier\": 1.56, \"bus_difference\": 10.8, \"num_trips\": 24, \"num_competitive\": 24, \"pct_trips_competitive\": 1.0, \"bus_difference_spread\": 0.0, \"route_group\": \"short\", \"max_trip_hrs\": 0.5, \"max_trip_route_group\": 0.5, \"below_cutoff\": 24, \"pct_below_cutoff\": 1.0, \"name\": \"Tahoe Transportation District\", \"caltrans_district\": \"03 - Marysville\", \"drmt_organization_name\": null, \"route_name\": \"Truckee Local\", \"cutoff2\": 20, \"cutoff\": 0}, {\"calitp_itp_id\": 331, \"trip_key\": 4135682216224968349, \"trip_id\": \"t_2004498_b_33429_tn_0\", \"shape_id\": \"p_1274591\", \"route_id\": \"TLR\", \"service_hours\": 0.5, \"trip_first_departure_ts\": 27000, \"trip_last_arrival_ts\": 28800, \"departure_hour\": 7, \"time_of_day\": \"AM Peak\", \"p25\": 0.5, \"p50\": 0.5, \"p75\": 0.5, \"p50_trip\": 1, \"fastest_trip\": 0, \"car_duration_hours\": 0.32, \"competitive_route\": 1, \"bus_multiplier\": 1.56, \"bus_difference\": 10.8, \"num_trips\": 24, \"num_competitive\": 24, \"pct_trips_competitive\": 1.0, \"bus_difference_spread\": 0.0, \"route_group\": \"short\", \"max_trip_hrs\": 0.5, \"max_trip_route_group\": 0.5, \"below_cutoff\": 24, \"pct_below_cutoff\": 1.0, \"name\": \"Tahoe Transportation District\", \"caltrans_district\": \"03 - Marysville\", \"drmt_organization_name\": null, \"route_name\": \"Truckee Local\", \"cutoff2\": 20, \"cutoff\": 0}, {\"calitp_itp_id\": 331, \"trip_key\": 8200791930269059843, \"trip_id\": \"t_2004509_b_33429_tn_0\", \"shape_id\": \"p_1274596\", \"route_id\": \"TLR\", \"service_hours\": 0.5, \"trip_first_departure_ts\": 28800, \"trip_last_arrival_ts\": 30600, \"departure_hour\": 8, \"time_of_day\": \"AM Peak\", \"p25\": 0.5, \"p50\": 0.5, \"p75\": 0.5, \"p50_trip\": 1, \"fastest_trip\": 0, \"car_duration_hours\": 0.32, \"competitive_route\": 1, \"bus_multiplier\": 1.56, \"bus_difference\": 10.8, \"num_trips\": 24, \"num_competitive\": 24, \"pct_trips_competitive\": 1.0, \"bus_difference_spread\": 0.0, \"route_group\": \"short\", \"max_trip_hrs\": 0.5, \"max_trip_route_group\": 0.5, \"below_cutoff\": 24, \"pct_below_cutoff\": 1.0, \"name\": \"Tahoe Transportation District\", \"caltrans_district\": \"03 - Marysville\", \"drmt_organization_name\": null, \"route_name\": \"Truckee Local\", \"cutoff2\": 20, \"cutoff\": 0}, {\"calitp_itp_id\": 331, \"trip_key\": 3792647975828051796, \"trip_id\": \"t_2004506_b_33429_tn_0\", \"shape_id\": \"p_1274596\", \"route_id\": \"TLR\", \"service_hours\": 0.5, \"trip_first_departure_ts\": 46800, \"trip_last_arrival_ts\": 48600, \"departure_hour\": 13, \"time_of_day\": \"Midday\", \"p25\": 0.5, \"p50\": 0.5, \"p75\": 0.5, \"p50_trip\": 1, \"fastest_trip\": 0, \"car_duration_hours\": 0.32, \"competitive_route\": 1, \"bus_multiplier\": 1.56, \"bus_difference\": 10.8, \"num_trips\": 24, \"num_competitive\": 24, \"pct_trips_competitive\": 1.0, \"bus_difference_spread\": 0.0, \"route_group\": \"short\", \"max_trip_hrs\": 0.5, \"max_trip_route_group\": 0.5, \"below_cutoff\": 24, \"pct_below_cutoff\": 1.0, \"name\": \"Tahoe Transportation District\", \"caltrans_district\": \"03 - Marysville\", \"drmt_organization_name\": null, \"route_name\": \"Truckee Local\", \"cutoff2\": 20, \"cutoff\": 0}, {\"calitp_itp_id\": 331, \"trip_key\": -2456779645928607345, \"trip_id\": \"t_2004507_b_33429_tn_0\", \"shape_id\": \"p_1274596\", \"route_id\": \"TLR\", \"service_hours\": 0.5, \"trip_first_departure_ts\": 64800, \"trip_last_arrival_ts\": 66600, \"departure_hour\": 18, \"time_of_day\": \"PM Peak\", \"p25\": 0.5, \"p50\": 0.5, \"p75\": 0.5, \"p50_trip\": 1, \"fastest_trip\": 1, \"car_duration_hours\": 0.32, \"competitive_route\": 1, \"bus_multiplier\": 1.56, \"bus_difference\": 10.8, \"num_trips\": 24, \"num_competitive\": 24, \"pct_trips_competitive\": 1.0, \"bus_difference_spread\": 0.0, \"route_group\": \"short\", \"max_trip_hrs\": 0.5, \"max_trip_route_group\": 0.5, \"below_cutoff\": 24, \"pct_below_cutoff\": 1.0, \"name\": \"Tahoe Transportation District\", \"caltrans_district\": \"03 - Marysville\", \"drmt_organization_name\": null, \"route_name\": \"Truckee Local\", \"cutoff2\": 20, \"cutoff\": 0}, {\"calitp_itp_id\": 331, \"trip_key\": 8605383156232306044, \"trip_id\": \"t_2004515_b_33429_tn_0\", \"shape_id\": \"p_1274596\", \"route_id\": \"TLR\", \"service_hours\": 0.5, \"trip_first_departure_ts\": 54000, \"trip_last_arrival_ts\": 55800, \"departure_hour\": 15, \"time_of_day\": \"Midday\", \"p25\": 0.5, \"p50\": 0.5, \"p75\": 0.5, \"p50_trip\": 1, \"fastest_trip\": 0, \"car_duration_hours\": 0.32, \"competitive_route\": 1, \"bus_multiplier\": 1.56, \"bus_difference\": 10.8, \"num_trips\": 24, \"num_competitive\": 24, \"pct_trips_competitive\": 1.0, \"bus_difference_spread\": 0.0, \"route_group\": \"short\", \"max_trip_hrs\": 0.5, \"max_trip_route_group\": 0.5, \"below_cutoff\": 24, \"pct_below_cutoff\": 1.0, \"name\": \"Tahoe Transportation District\", \"caltrans_district\": \"03 - Marysville\", \"drmt_organization_name\": null, \"route_name\": \"Truckee Local\", \"cutoff2\": 20, \"cutoff\": 0}, {\"calitp_itp_id\": 331, \"trip_key\": -161080458889029591, \"trip_id\": \"t_2004501_b_33429_tn_0\", \"shape_id\": \"p_1274591\", \"route_id\": \"TLR\", \"service_hours\": 0.5, \"trip_first_departure_ts\": 37800, \"trip_last_arrival_ts\": 39600, \"departure_hour\": 10, \"time_of_day\": \"Midday\", \"p25\": 0.5, \"p50\": 0.5, \"p75\": 0.5, \"p50_trip\": 1, \"fastest_trip\": 0, \"car_duration_hours\": 0.32, \"competitive_route\": 1, \"bus_multiplier\": 1.56, \"bus_difference\": 10.8, \"num_trips\": 24, \"num_competitive\": 24, \"pct_trips_competitive\": 1.0, \"bus_difference_spread\": 0.0, \"route_group\": \"short\", \"max_trip_hrs\": 0.5, \"max_trip_route_group\": 0.5, \"below_cutoff\": 24, \"pct_below_cutoff\": 1.0, \"name\": \"Tahoe Transportation District\", \"caltrans_district\": \"03 - Marysville\", \"drmt_organization_name\": null, \"route_name\": \"Truckee Local\", \"cutoff2\": 20, \"cutoff\": 0}, {\"calitp_itp_id\": 331, \"trip_key\": 1889163015414220831, \"trip_id\": \"t_2004517_b_33429_tn_0\", \"shape_id\": \"p_1274596\", \"route_id\": \"TLR\", \"service_hours\": 0.5, \"trip_first_departure_ts\": 61200, \"trip_last_arrival_ts\": 63000, \"departure_hour\": 17, \"time_of_day\": \"PM Peak\", \"p25\": 0.5, \"p50\": 0.5, \"p75\": 0.5, \"p50_trip\": 1, \"fastest_trip\": 0, \"car_duration_hours\": 0.32, \"competitive_route\": 1, \"bus_multiplier\": 1.56, \"bus_difference\": 10.8, \"num_trips\": 24, \"num_competitive\": 24, \"pct_trips_competitive\": 1.0, \"bus_difference_spread\": 0.0, \"route_group\": \"short\", \"max_trip_hrs\": 0.5, \"max_trip_route_group\": 0.5, \"below_cutoff\": 24, \"pct_below_cutoff\": 1.0, \"name\": \"Tahoe Transportation District\", \"caltrans_district\": \"03 - Marysville\", \"drmt_organization_name\": null, \"route_name\": \"Truckee Local\", \"cutoff2\": 20, \"cutoff\": 0}, {\"calitp_itp_id\": 331, \"trip_key\": 8724441549001397114, \"trip_id\": \"t_2004496_b_33429_tn_0\", \"shape_id\": \"p_1274591\", \"route_id\": \"TLR\", \"service_hours\": 0.5, \"trip_first_departure_ts\": 55800, \"trip_last_arrival_ts\": 57600, \"departure_hour\": 15, \"time_of_day\": \"Midday\", \"p25\": 0.5, \"p50\": 0.5, \"p75\": 0.5, \"p50_trip\": 1, \"fastest_trip\": 0, \"car_duration_hours\": 0.32, \"competitive_route\": 1, \"bus_multiplier\": 1.56, \"bus_difference\": 10.8, \"num_trips\": 24, \"num_competitive\": 24, \"pct_trips_competitive\": 1.0, \"bus_difference_spread\": 0.0, \"route_group\": \"short\", \"max_trip_hrs\": 0.5, \"max_trip_route_group\": 0.5, \"below_cutoff\": 24, \"pct_below_cutoff\": 1.0, \"name\": \"Tahoe Transportation District\", \"caltrans_district\": \"03 - Marysville\", \"drmt_organization_name\": null, \"route_name\": \"Truckee Local\", \"cutoff2\": 20, \"cutoff\": 0}, {\"calitp_itp_id\": 331, \"trip_key\": -3795521193941126777, \"trip_id\": \"t_2004512_b_33429_tn_0\", \"shape_id\": \"p_1274596\", \"route_id\": \"TLR\", \"service_hours\": 0.5, \"trip_first_departure_ts\": 39600, \"trip_last_arrival_ts\": 41400, \"departure_hour\": 11, \"time_of_day\": \"Midday\", \"p25\": 0.5, \"p50\": 0.5, \"p75\": 0.5, \"p50_trip\": 1, \"fastest_trip\": 0, \"car_duration_hours\": 0.32, \"competitive_route\": 1, \"bus_multiplier\": 1.56, \"bus_difference\": 10.8, \"num_trips\": 24, \"num_competitive\": 24, \"pct_trips_competitive\": 1.0, \"bus_difference_spread\": 0.0, \"route_group\": \"short\", \"max_trip_hrs\": 0.5, \"max_trip_route_group\": 0.5, \"below_cutoff\": 24, \"pct_below_cutoff\": 1.0, \"name\": \"Tahoe Transportation District\", \"caltrans_district\": \"03 - Marysville\", \"drmt_organization_name\": null, \"route_name\": \"Truckee Local\", \"cutoff2\": 20, \"cutoff\": 0}, {\"calitp_itp_id\": 331, \"trip_key\": 6656100432858758232, \"trip_id\": \"t_2004495_b_33429_tn_0\", \"shape_id\": \"p_1274591\", \"route_id\": \"TLR\", \"service_hours\": 0.5, \"trip_first_departure_ts\": 23400, \"trip_last_arrival_ts\": 25200, \"departure_hour\": 6, \"time_of_day\": \"Owl Service\", \"p25\": 0.5, \"p50\": 0.5, \"p75\": 0.5, \"p50_trip\": 1, \"fastest_trip\": 0, \"car_duration_hours\": 0.32, \"competitive_route\": 1, \"bus_multiplier\": 1.56, \"bus_difference\": 10.8, \"num_trips\": 24, \"num_competitive\": 24, \"pct_trips_competitive\": 1.0, \"bus_difference_spread\": 0.0, \"route_group\": \"short\", \"max_trip_hrs\": 0.5, \"max_trip_route_group\": 0.5, \"below_cutoff\": 24, \"pct_below_cutoff\": 1.0, \"name\": \"Tahoe Transportation District\", \"caltrans_district\": \"03 - Marysville\", \"drmt_organization_name\": null, \"route_name\": \"Truckee Local\", \"cutoff2\": 20, \"cutoff\": 0}, {\"calitp_itp_id\": 331, \"trip_key\": -4863038145455105249, \"trip_id\": \"t_2004516_b_33429_tn_0\", \"shape_id\": \"p_1274596\", \"route_id\": \"TLR\", \"service_hours\": 0.5, \"trip_first_departure_ts\": 57600, \"trip_last_arrival_ts\": 59400, \"departure_hour\": 16, \"time_of_day\": \"Midday\", \"p25\": 0.5, \"p50\": 0.5, \"p75\": 0.5, \"p50_trip\": 1, \"fastest_trip\": 0, \"car_duration_hours\": 0.32, \"competitive_route\": 1, \"bus_multiplier\": 1.56, \"bus_difference\": 10.8, \"num_trips\": 24, \"num_competitive\": 24, \"pct_trips_competitive\": 1.0, \"bus_difference_spread\": 0.0, \"route_group\": \"short\", \"max_trip_hrs\": 0.5, \"max_trip_route_group\": 0.5, \"below_cutoff\": 24, \"pct_below_cutoff\": 1.0, \"name\": \"Tahoe Transportation District\", \"caltrans_district\": \"03 - Marysville\", \"drmt_organization_name\": null, \"route_name\": \"Truckee Local\", \"cutoff2\": 20, \"cutoff\": 0}, {\"calitp_itp_id\": 331, \"trip_key\": 6793980449567228139, \"trip_id\": \"t_2004514_b_33429_tn_0\", \"shape_id\": \"p_1274596\", \"route_id\": \"TLR\", \"service_hours\": 0.5, \"trip_first_departure_ts\": 50400, \"trip_last_arrival_ts\": 52200, \"departure_hour\": 14, \"time_of_day\": \"Midday\", \"p25\": 0.5, \"p50\": 0.5, \"p75\": 0.5, \"p50_trip\": 1, \"fastest_trip\": 0, \"car_duration_hours\": 0.32, \"competitive_route\": 1, \"bus_multiplier\": 1.56, \"bus_difference\": 10.8, \"num_trips\": 24, \"num_competitive\": 24, \"pct_trips_competitive\": 1.0, \"bus_difference_spread\": 0.0, \"route_group\": \"short\", \"max_trip_hrs\": 0.5, \"max_trip_route_group\": 0.5, \"below_cutoff\": 24, \"pct_below_cutoff\": 1.0, \"name\": \"Tahoe Transportation District\", \"caltrans_district\": \"03 - Marysville\", \"drmt_organization_name\": null, \"route_name\": \"Truckee Local\", \"cutoff2\": 20, \"cutoff\": 0}]}}, {\"mode\": \"vega-lite\"});\n",
       "</script>"
      ],
      "text/plain": [
       "alt.FacetChart(...)"
      ]
     },
     "metadata": {},
     "output_type": "display_data"
    },
    {
     "data": {
      "text/html": [
       "<h4>Route Stats</h4>"
      ],
      "text/plain": [
       "<IPython.core.display.HTML object>"
      ]
     },
     "metadata": {},
     "output_type": "display_data"
    },
    {
     "data": {
      "text/html": [
       "<style type=\"text/css\">\n",
       "#T_1289e th {\n",
       "  text-align: center;\n",
       "}\n",
       "#T_1289e_row0_col0, #T_1289e_row0_col1, #T_1289e_row1_col0, #T_1289e_row1_col1, #T_1289e_row2_col0, #T_1289e_row2_col1 {\n",
       "  text-align: left;\n",
       "}\n",
       "#T_1289e_row0_col2, #T_1289e_row0_col3, #T_1289e_row0_col5, #T_1289e_row1_col2, #T_1289e_row1_col3, #T_1289e_row1_col5, #T_1289e_row2_col2, #T_1289e_row2_col3, #T_1289e_row2_col5 {\n",
       "  text-align: center;\n",
       "}\n",
       "</style>\n",
       "<table id=\"T_1289e\">\n",
       "  <thead>\n",
       "    <tr>\n",
       "      <th id=\"T_1289e_level0_col0\" class=\"col_heading level0 col0\" >Route ID</th>\n",
       "      <th id=\"T_1289e_level0_col1\" class=\"col_heading level0 col1\" >Route Name</th>\n",
       "      <th id=\"T_1289e_level0_col2\" class=\"col_heading level0 col2\" ># trips</th>\n",
       "      <th id=\"T_1289e_level0_col3\" class=\"col_heading level0 col3\" >Daily Avg Freq (trips per hr)</th>\n",
       "      <th id=\"T_1289e_level0_col4\" class=\"col_heading level0 col4\" >25th, 50th, 75th ptile (hrs)</th>\n",
       "      <th id=\"T_1289e_level0_col5\" class=\"col_heading level0 col5\" >PM Peak Avg Freq (trips per hr)</th>\n",
       "    </tr>\n",
       "  </thead>\n",
       "  <tbody>\n",
       "    <tr>\n",
       "      <td id=\"T_1289e_row0_col0\" class=\"data row0 col0\" >TLR</td>\n",
       "      <td id=\"T_1289e_row0_col1\" class=\"data row0 col1\" >Truckee Local</td>\n",
       "      <td id=\"T_1289e_row0_col2\" class=\"data row0 col2\" >24</td>\n",
       "      <td id=\"T_1289e_row0_col3\" class=\"data row0 col3\" >1.0</td>\n",
       "      <td id=\"T_1289e_row0_col4\" class=\"data row0 col4\" >0.5, 0.5, 0.5</td>\n",
       "      <td id=\"T_1289e_row0_col5\" class=\"data row0 col5\" >1.0</td>\n",
       "    </tr>\n",
       "    <tr>\n",
       "      <td id=\"T_1289e_row1_col0\" class=\"data row1 col0\" >NSPM</td>\n",
       "      <td id=\"T_1289e_row1_col1\" class=\"data row1 col1\" >Hwy 267 Pm</td>\n",
       "      <td id=\"T_1289e_row1_col2\" class=\"data row1 col2\" >9</td>\n",
       "      <td id=\"T_1289e_row1_col3\" class=\"data row1 col3\" >0.38</td>\n",
       "      <td id=\"T_1289e_row1_col4\" class=\"data row1 col4\" >0.42, 0.42, 0.42</td>\n",
       "      <td id=\"T_1289e_row1_col5\" class=\"data row1 col5\" >1.0</td>\n",
       "    </tr>\n",
       "    <tr>\n",
       "      <td id=\"T_1289e_row2_col0\" class=\"data row2 col0\" >2595</td>\n",
       "      <td id=\"T_1289e_row2_col1\" class=\"data row2 col1\" >Truckee, Northstar</td>\n",
       "      <td id=\"T_1289e_row2_col2\" class=\"data row2 col2\" >6</td>\n",
       "      <td id=\"T_1289e_row2_col3\" class=\"data row2 col3\" >0.25</td>\n",
       "      <td id=\"T_1289e_row2_col4\" class=\"data row2 col4\" >1.0, 1.0, 1.0</td>\n",
       "      <td id=\"T_1289e_row2_col5\" class=\"data row2 col5\" >nan</td>\n",
       "    </tr>\n",
       "  </tbody>\n",
       "</table>\n"
      ],
      "text/plain": [
       "<IPython.core.display.HTML object>"
      ]
     },
     "metadata": {},
     "output_type": "display_data"
    }
   ],
   "source": [
    "# Allow for possibility that operator doesn't have routes that fall into certain route_groups\n",
    "# But, jupyterbook will not like markdown with f-string\n",
    "# separate out route_group and put in each cell, and use try/except + if to display...\n",
    "# but all 3 route groups must be displayed. just add sentence about why no routes were returned at the end\n",
    "route_group = \"short\"\n",
    "try:\n",
    "    display_charts_for_route_group(df, route_group)\n",
    "except:\n",
    "    print(\"No routes meet this criteria.\")"
   ]
  },
  {
   "cell_type": "markdown",
   "id": "c2931b6f-034d-4384-9e14-80b925e3b820",
   "metadata": {
    "papermill": {
     "duration": 0.017187,
     "end_time": "2022-05-12T19:07:38.880195",
     "exception": false,
     "start_time": "2022-05-12T19:07:38.863008",
     "status": "completed"
    },
    "tags": []
   },
   "source": [
    "### Medium Routes (1-1.5 hrs)"
   ]
  },
  {
   "cell_type": "code",
   "execution_count": 15,
   "id": "480edddc-4de0-48c2-ae4c-b0ceef8f28b5",
   "metadata": {
    "execution": {
     "iopub.execute_input": "2022-05-12T19:07:38.923847Z",
     "iopub.status.busy": "2022-05-12T19:07:38.922907Z",
     "iopub.status.idle": "2022-05-12T19:07:38.934602Z",
     "shell.execute_reply": "2022-05-12T19:07:38.934007Z"
    },
    "jupyter": {
     "source_hidden": true
    },
    "papermill": {
     "duration": 0.032568,
     "end_time": "2022-05-12T19:07:38.936241",
     "exception": false,
     "start_time": "2022-05-12T19:07:38.903673",
     "status": "completed"
    },
    "tags": [
     "remove_input"
    ]
   },
   "outputs": [
    {
     "name": "stdout",
     "output_type": "stream",
     "text": [
      "No routes meet this criteria.\n"
     ]
    }
   ],
   "source": [
    "route_group = \"medium\"\n",
    "try:\n",
    "    display_charts_for_route_group(df, route_group)\n",
    "except:\n",
    "    print(\"No routes meet this criteria.\")"
   ]
  },
  {
   "cell_type": "markdown",
   "id": "124b76d0-886c-4d03-92ac-f1bda3cda182",
   "metadata": {
    "papermill": {
     "duration": 0.017456,
     "end_time": "2022-05-12T19:07:38.970888",
     "exception": false,
     "start_time": "2022-05-12T19:07:38.953432",
     "status": "completed"
    },
    "tags": []
   },
   "source": [
    "### Long Routes (> 1.5 hrs)"
   ]
  },
  {
   "cell_type": "code",
   "execution_count": 16,
   "id": "ddc81b19-4c45-4c81-8b7a-5e0f394aa7a3",
   "metadata": {
    "execution": {
     "iopub.execute_input": "2022-05-12T19:07:39.013573Z",
     "iopub.status.busy": "2022-05-12T19:07:39.012979Z",
     "iopub.status.idle": "2022-05-12T19:07:39.024730Z",
     "shell.execute_reply": "2022-05-12T19:07:39.023955Z"
    },
    "jupyter": {
     "source_hidden": true
    },
    "papermill": {
     "duration": 0.032954,
     "end_time": "2022-05-12T19:07:39.026468",
     "exception": false,
     "start_time": "2022-05-12T19:07:38.993514",
     "status": "completed"
    },
    "tags": [
     "remove_input"
    ]
   },
   "outputs": [
    {
     "name": "stdout",
     "output_type": "stream",
     "text": [
      "No routes meet this criteria.\n"
     ]
    }
   ],
   "source": [
    "route_group = \"long\"\n",
    "try:\n",
    "    display_charts_for_route_group(df, route_group)\n",
    "except:\n",
    "    print(\"No routes meet this criteria.\")"
   ]
  },
  {
   "cell_type": "markdown",
   "id": "ace75b5f-0442-4fbe-aebd-6c3a13ae13a7",
   "metadata": {
    "papermill": {
     "duration": 0.019361,
     "end_time": "2022-05-12T19:07:39.064005",
     "exception": false,
     "start_time": "2022-05-12T19:07:39.044644",
     "status": "completed"
    },
    "tags": []
   },
   "source": [
    "### GTFS Real-Time Speedmaps"
   ]
  },
  {
   "cell_type": "code",
   "execution_count": 17,
   "id": "a0a114a1-e975-4027-9daf-50029f5ef59f",
   "metadata": {
    "execution": {
     "iopub.execute_input": "2022-05-12T19:07:39.105879Z",
     "iopub.status.busy": "2022-05-12T19:07:39.105037Z",
     "iopub.status.idle": "2022-05-12T19:07:39.127790Z",
     "shell.execute_reply": "2022-05-12T19:07:39.127014Z"
    },
    "jupyter": {
     "source_hidden": true
    },
    "papermill": {
     "duration": 0.048,
     "end_time": "2022-05-12T19:07:39.129700",
     "exception": false,
     "start_time": "2022-05-12T19:07:39.081700",
     "status": "completed"
    },
    "tags": [
     "remove_input"
    ]
   },
   "outputs": [
    {
     "data": {
      "text/html": [
       "No GTFS RT data available."
      ],
      "text/plain": [
       "<IPython.core.display.HTML object>"
      ]
     },
     "metadata": {},
     "output_type": "display_data"
    }
   ],
   "source": [
    "RT_SITE_YAML = \"../portfolio/sites/rt.yml\"\n",
    "\n",
    "# Grab list of ITP IDs with GTFS RT speedmaps\n",
    "rt_itp_id = deploy_portfolio_yaml.check_if_rt_data_available(RT_SITE_YAML)\n",
    "\n",
    "# Construct the URL \n",
    "RT_URL = (\"https://analysis.calitp.org/rt/\"\n",
    "          f\"district_{district_number}-{district_name}/\"\n",
    "          f\"speedmaps__itp_id_{itp_id}.html\"\n",
    "         ) \n",
    "\n",
    "# If this ITP ID is found in RT analysis, give URL to that operator in analysis.calitp.org\n",
    "if itp_id in rt_itp_id:\n",
    "    display(HTML(f'''<a href={RT_URL}>GTFS RT speedmaps here.</a>'''))\n",
    "\n",
    "else:\n",
    "    display(HTML(\"No GTFS RT data available.\"))"
   ]
  },
  {
   "cell_type": "code",
   "execution_count": null,
   "id": "5b680565-2230-4f2e-817c-718fad48d64c",
   "metadata": {
    "jupyter": {
     "source_hidden": true
    },
    "papermill": {
     "duration": 0.018313,
     "end_time": "2022-05-12T19:07:39.167209",
     "exception": false,
     "start_time": "2022-05-12T19:07:39.148896",
     "status": "completed"
    },
    "tags": [
     "remove_input"
    ]
   },
   "outputs": [],
   "source": []
  }
 ],
 "metadata": {
  "kernelspec": {
   "display_name": "Python 3 (ipykernel)",
   "language": "python",
   "name": "python3"
  },
  "language_info": {
   "codemirror_mode": {
    "name": "ipython",
    "version": 3
   },
   "file_extension": ".py",
   "mimetype": "text/x-python",
   "name": "python",
   "nbconvert_exporter": "python",
   "pygments_lexer": "ipython3",
   "version": "3.9.12"
  },
  "papermill": {
   "default_parameters": {},
   "duration": 23.54479,
   "end_time": "2022-05-12T19:07:40.414765",
   "environment_variables": {},
   "exception": null,
   "input_path": "bus_service_increase/competitive-parallel-routes.ipynb",
   "output_path": "portfolio/parallel_corridors/district_03-marysville/8__competitive-parallel-routes__district_03-marysville__itp_id_331.ipynb",
   "parameters": {
    "district": "03 - Marysville",
    "itp_id": 331
   },
   "start_time": "2022-05-12T19:07:16.869975",
   "version": "2.3.4"
  }
 },
 "nbformat": 4,
 "nbformat_minor": 5
}