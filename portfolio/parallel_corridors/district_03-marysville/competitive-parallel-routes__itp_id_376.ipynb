{
 "cells": [
  {
   "cell_type": "code",
   "execution_count": 1,
   "id": "95d00857-6a20-4529-a519-2cc7182928a9",
   "metadata": {
    "execution": {
     "iopub.execute_input": "2022-05-09T19:37:38.070417Z",
     "iopub.status.busy": "2022-05-09T19:37:38.069246Z",
     "iopub.status.idle": "2022-05-09T19:37:48.177244Z",
     "shell.execute_reply": "2022-05-09T19:37:48.175880Z"
    },
    "jupyter": {
     "source_hidden": true
    },
    "papermill": {
     "duration": 10.133496,
     "end_time": "2022-05-09T19:37:48.182430",
     "exception": false,
     "start_time": "2022-05-09T19:37:38.048934",
     "status": "completed"
    },
    "tags": [
     "remove_input"
    ]
   },
   "outputs": [],
   "source": [
    "%%capture\n",
    "import warnings\n",
    "warnings.filterwarnings('ignore')\n",
    "\n",
    "import altair as alt\n",
    "import calitp.magics\n",
    "import geopandas as gpd\n",
    "import intake\n",
    "import pandas as pd\n",
    "\n",
    "from IPython.display import display, Markdown, HTML\n",
    "\n",
    "import parallel_corridors_utils\n",
    "from shared_utils import styleguide\n",
    "import deploy_portfolio_yaml\n",
    "\n",
    "catalog = intake.open_catalog(\"./*.yml\")\n",
    "alt.renderers.enable(\"html\")"
   ]
  },
  {
   "cell_type": "code",
   "execution_count": 2,
   "id": "8af2a0c1-f3da-408d-9bea-11d9fbf8695d",
   "metadata": {
    "execution": {
     "iopub.execute_input": "2022-05-09T19:37:48.222634Z",
     "iopub.status.busy": "2022-05-09T19:37:48.222309Z",
     "iopub.status.idle": "2022-05-09T19:37:48.227163Z",
     "shell.execute_reply": "2022-05-09T19:37:48.226168Z"
    },
    "jupyter": {
     "source_hidden": true
    },
    "papermill": {
     "duration": 0.025801,
     "end_time": "2022-05-09T19:37:48.230756",
     "exception": false,
     "start_time": "2022-05-09T19:37:48.204955",
     "status": "completed"
    },
    "tags": [
     "parameters",
     "remove_input"
    ]
   },
   "outputs": [],
   "source": [
    "# parameters cell\n",
    "itp_id = 182"
   ]
  },
  {
   "cell_type": "code",
   "execution_count": 3,
   "id": "bda89897",
   "metadata": {
    "execution": {
     "iopub.execute_input": "2022-05-09T19:37:48.259129Z",
     "iopub.status.busy": "2022-05-09T19:37:48.258009Z",
     "iopub.status.idle": "2022-05-09T19:37:48.263332Z",
     "shell.execute_reply": "2022-05-09T19:37:48.262513Z"
    },
    "jupyter": {
     "source_hidden": true
    },
    "papermill": {
     "duration": 0.021779,
     "end_time": "2022-05-09T19:37:48.265358",
     "exception": false,
     "start_time": "2022-05-09T19:37:48.243579",
     "status": "completed"
    },
    "tags": [
     "injected-parameters",
     "remove_input"
    ]
   },
   "outputs": [],
   "source": [
    "# Parameters\n",
    "district = \"03 - Marysville\"\n",
    "itp_id = 376\n"
   ]
  },
  {
   "cell_type": "code",
   "execution_count": 4,
   "id": "9582aaf4-79ff-412a-b248-8d8d693ebd4f",
   "metadata": {
    "execution": {
     "iopub.execute_input": "2022-05-09T19:37:48.292706Z",
     "iopub.status.busy": "2022-05-09T19:37:48.291486Z",
     "iopub.status.idle": "2022-05-09T19:37:49.662903Z",
     "shell.execute_reply": "2022-05-09T19:37:49.661923Z"
    },
    "jupyter": {
     "source_hidden": true
    },
    "papermill": {
     "duration": 1.388534,
     "end_time": "2022-05-09T19:37:49.666220",
     "exception": false,
     "start_time": "2022-05-09T19:37:48.277686",
     "status": "completed"
    },
    "tags": [
     "remove_input"
    ]
   },
   "outputs": [],
   "source": [
    "df = catalog.competitive_route_variability.read()\n",
    "\n",
    "df = (df[(df.calitp_itp_id == itp_id) & \n",
    "         (df.route_group.notna())]\n",
    "      .reset_index(drop=True)\n",
    "     )\n",
    "\n",
    "\n",
    "if itp_id == 182:\n",
    "    df = df.assign(\n",
    "        route_id = df.route_id.str.replace('-13153', '').astype(int)\n",
    "    )"
   ]
  },
  {
   "cell_type": "code",
   "execution_count": 5,
   "id": "33ac4b06-f647-4dce-a625-8f2c1b37cc60",
   "metadata": {
    "execution": {
     "iopub.execute_input": "2022-05-09T19:37:49.696269Z",
     "iopub.status.busy": "2022-05-09T19:37:49.695906Z",
     "iopub.status.idle": "2022-05-09T19:37:49.712323Z",
     "shell.execute_reply": "2022-05-09T19:37:49.710280Z"
    },
    "jupyter": {
     "source_hidden": true
    },
    "papermill": {
     "duration": 0.03458,
     "end_time": "2022-05-09T19:37:49.715061",
     "exception": false,
     "start_time": "2022-05-09T19:37:49.680481",
     "status": "completed"
    },
    "tags": [
     "remove_input"
    ]
   },
   "outputs": [],
   "source": [
    "%%capture_parameters\n",
    "operator_name = df.name.iloc[0]\n",
    "district_number = f\"{df.caltrans_district.iloc[0].split('-')[0].strip()}\"\n",
    "district_name = f\"{df.caltrans_district.iloc[0].split('-')[1].strip().lower().replace(' ', '-')}\"\n",
    "\n",
    "itp_id, operator_name, district_number, district_name"
   ]
  },
  {
   "cell_type": "markdown",
   "id": "65bc6f5c-8348-42ee-b2dd-52057c406852",
   "metadata": {
    "papermill": {
     "duration": 0.014842,
     "end_time": "2022-05-09T19:37:49.742769",
     "exception": false,
     "start_time": "2022-05-09T19:37:49.727927",
     "status": "completed"
    },
    "tags": []
   },
   "source": [
    "# Yuba-Sutter Transit Authority (ITP ID: 376)"
   ]
  },
  {
   "cell_type": "code",
   "execution_count": 6,
   "id": "a689c1ab-2c6c-4831-8d64-897f5986f571",
   "metadata": {
    "execution": {
     "iopub.execute_input": "2022-05-09T19:37:49.771352Z",
     "iopub.status.busy": "2022-05-09T19:37:49.770868Z",
     "iopub.status.idle": "2022-05-09T19:37:49.778947Z",
     "shell.execute_reply": "2022-05-09T19:37:49.778218Z"
    },
    "jupyter": {
     "source_hidden": true
    },
    "papermill": {
     "duration": 0.025117,
     "end_time": "2022-05-09T19:37:49.780910",
     "exception": false,
     "start_time": "2022-05-09T19:37:49.755793",
     "status": "completed"
    },
    "tags": [
     "remove_input"
    ]
   },
   "outputs": [
    {
     "data": {
      "text/html": [
       "<h1>Competitive & Parallel Routes</h1>"
      ],
      "text/plain": [
       "<IPython.core.display.HTML object>"
      ]
     },
     "metadata": {},
     "output_type": "display_data"
    }
   ],
   "source": [
    "display(HTML(\"<h1>Competitive & Parallel Routes</h1>\")) "
   ]
  },
  {
   "cell_type": "code",
   "execution_count": 7,
   "id": "2cb4d8d5-4760-40e4-85b1-cb833d8bb648",
   "metadata": {
    "execution": {
     "iopub.execute_input": "2022-05-09T19:37:49.822336Z",
     "iopub.status.busy": "2022-05-09T19:37:49.821954Z",
     "iopub.status.idle": "2022-05-09T19:38:02.065469Z",
     "shell.execute_reply": "2022-05-09T19:38:02.064180Z"
    },
    "jupyter": {
     "source_hidden": true
    },
    "papermill": {
     "duration": 12.26311,
     "end_time": "2022-05-09T19:38:02.069390",
     "exception": false,
     "start_time": "2022-05-09T19:37:49.806280",
     "status": "completed"
    },
    "tags": [
     "remove_input"
    ]
   },
   "outputs": [],
   "source": [
    "# Grab parameters for narrative text - clean up formatting here \n",
    "district = df.caltrans_district.iloc[0]\n",
    "formatted_date = pd.to_datetime(parallel_corridors_utils.SELECTED_DATE).strftime('%m-%d-%Y')\n",
    "\n",
    "PCT_COMPETITIVE_THRESHOLD = 0.75\n",
    "\n",
    "stats = parallel_corridors_utils.operator_parallel_competitive_stats(\n",
    "    itp_id, PCT_COMPETITIVE_THRESHOLD)\n",
    "\n",
    "pct_parallel = round(stats['parallel_routes'] / stats['num_routes'] * 100,1 )\n",
    "pct_competitive =  round(stats['competitive_routes'] / stats['num_routes'] * 100,1 )"
   ]
  },
  {
   "cell_type": "markdown",
   "id": "ab667928-5274-4490-82d9-4c39293209a4",
   "metadata": {
    "papermill": {
     "duration": 0.013853,
     "end_time": "2022-05-09T19:38:02.098908",
     "exception": false,
     "start_time": "2022-05-09T19:38:02.085055",
     "status": "completed"
    },
    "tags": []
   },
   "source": [
    "## Quick Stats"
   ]
  },
  {
   "cell_type": "code",
   "execution_count": 8,
   "id": "0416509d-dc62-4165-b62e-64f8b26e8b8e",
   "metadata": {
    "execution": {
     "iopub.execute_input": "2022-05-09T19:38:02.131751Z",
     "iopub.status.busy": "2022-05-09T19:38:02.130824Z",
     "iopub.status.idle": "2022-05-09T19:38:02.139237Z",
     "shell.execute_reply": "2022-05-09T19:38:02.138413Z"
    },
    "jupyter": {
     "source_hidden": true
    },
    "papermill": {
     "duration": 0.026796,
     "end_time": "2022-05-09T19:38:02.141268",
     "exception": false,
     "start_time": "2022-05-09T19:38:02.114472",
     "status": "completed"
    },
    "tags": [
     "remove_input"
    ]
   },
   "outputs": [
    {
     "data": {
      "text/markdown": [
       "**Bus routes in service**: 14 <br>**Parallel routes** to State Highway Network (SHN): 13 routes (92.9%)<br>**Competitive routes** against car travel: 3 routes (21.4%)"
      ],
      "text/plain": [
       "<IPython.core.display.Markdown object>"
      ]
     },
     "metadata": {},
     "output_type": "display_data"
    }
   ],
   "source": [
    "display(\n",
    "    Markdown(\n",
    "        f\"**Bus routes in service**: {stats['num_routes']} \"\n",
    "        \"<br>**Parallel routes** to State Highway Network (SHN): \"\n",
    "        f\"{stats['parallel_routes']} routes ({pct_parallel}%)\"\n",
    "        f\"<br>**Competitive routes** against car travel: {stats['competitive_routes']} routes ({pct_competitive}%)\"\n",
    "    )\n",
    ")"
   ]
  },
  {
   "cell_type": "code",
   "execution_count": 9,
   "id": "f9d6ab58-f0ee-460c-b6de-657490e1f386",
   "metadata": {
    "execution": {
     "iopub.execute_input": "2022-05-09T19:38:02.172167Z",
     "iopub.status.busy": "2022-05-09T19:38:02.171360Z",
     "iopub.status.idle": "2022-05-09T19:38:02.182130Z",
     "shell.execute_reply": "2022-05-09T19:38:02.181341Z"
    },
    "jupyter": {
     "source_hidden": true
    },
    "papermill": {
     "duration": 0.029555,
     "end_time": "2022-05-09T19:38:02.184676",
     "exception": false,
     "start_time": "2022-05-09T19:38:02.155121",
     "status": "completed"
    },
    "tags": [
     "remove_input"
    ]
   },
   "outputs": [],
   "source": [
    "def set_yaxis_range(df, y_col):\n",
    "    Y_MIN = df[y_col].min()\n",
    "    Y_MAX = df[y_col].max()\n",
    "    \n",
    "    return Y_MIN, Y_MAX\n",
    "\n",
    "# Rather than set it according to the operator, which can vary,\n",
    "# just use set thresholds for each group\n",
    "diff_cutoffs = parallel_corridors_utils.diff_cutoffs\n",
    "\n",
    "PCT_TRIPS_BELOW_CUTOFF = 0.25\n",
    "\n",
    "def top15_routes(df, route_group):\n",
    "    df2 = (df[df.route_group==route_group])\n",
    "    # Set a cut-off to enable sorting, where most of the trips are \n",
    "    # below a certain time difference cut-off, \n",
    "    # grab top 15 routes where majority of trips are below that cut-off \n",
    "\n",
    "    route_cols = [\"calitp_itp_id\", \"route_id\"]\n",
    "\n",
    "    df2 = df2.assign(\n",
    "        below_cutoff = df2.apply(lambda x: 1 if x.bus_difference <= diff_cutoffs[route_group] \n",
    "                                 else 0, axis=1),\n",
    "        num_trips = df2.groupby(route_cols)[\"trip_id\"].transform(\"count\")\n",
    "    )\n",
    "\n",
    "    df2[\"below_cutoff\"] = df2.groupby(route_cols)[\"below_cutoff\"].transform(\"sum\")\n",
    "    df2[\"pct_below_cutoff\"] = df2.below_cutoff.divide(df2.num_trips)\n",
    "\n",
    "    # At least half the trips are below that cut-off\n",
    "    # but show 15 max, otherwise, show less, since these won't be as interesting to operators\n",
    "    df3 = (df2[df2.pct_below_cutoff >= PCT_TRIPS_BELOW_CUTOFF]\n",
    "           .sort_values([\"calitp_itp_id\", \"below_cutoff\", \n",
    "                         \"pct_below_cutoff\", \"route_id\"],\n",
    "                        ascending = [True, False, False, True]\n",
    "                       )\n",
    "           .drop_duplicates(subset=[\"calitp_itp_id\", \"route_id\"])\n",
    "          ).head(15)\n",
    "    \n",
    "    return list(df3.route_id)"
   ]
  },
  {
   "cell_type": "code",
   "execution_count": 10,
   "id": "cf36d559-3349-4144-8086-8ac9ce937a5a",
   "metadata": {
    "execution": {
     "iopub.execute_input": "2022-05-09T19:38:02.225911Z",
     "iopub.status.busy": "2022-05-09T19:38:02.225247Z",
     "iopub.status.idle": "2022-05-09T19:38:02.232869Z",
     "shell.execute_reply": "2022-05-09T19:38:02.231782Z"
    },
    "jupyter": {
     "source_hidden": true
    },
    "papermill": {
     "duration": 0.026438,
     "end_time": "2022-05-09T19:38:02.234997",
     "exception": false,
     "start_time": "2022-05-09T19:38:02.208559",
     "status": "completed"
    },
    "tags": [
     "remove_input"
    ]
   },
   "outputs": [],
   "source": [
    "def caption_with_cutoff(cutoff):\n",
    "    sentence = (\n",
    "        f\"<br>These are routes that have **at least {int(PCT_TRIPS_BELOW_CUTOFF*100)}% \"\n",
    "        \"of their trips take no more than an \"\n",
    "        f\"additional {cutoff} min** compared to a car \"\n",
    "        \"(up to 15 routes) are shown.\"\n",
    "        \"<br>Within each route group, routes are sorted in descending order \"\n",
    "        \"by % competitive trips and # trips below the additional time cut-off.\"\n",
    "    )\n",
    "    return sentence\n",
    "\n",
    "CAPTIONS_DICT = {\n",
    "    \"short\": caption_with_cutoff(diff_cutoffs['short']),\n",
    "    \"medium\": caption_with_cutoff(diff_cutoffs['medium']),\n",
    "    \"long\": caption_with_cutoff(diff_cutoffs['long']),\n",
    "}"
   ]
  },
  {
   "cell_type": "code",
   "execution_count": 11,
   "id": "e4306d58-6944-47e9-afef-5d5b524c751f",
   "metadata": {
    "execution": {
     "iopub.execute_input": "2022-05-09T19:38:02.267040Z",
     "iopub.status.busy": "2022-05-09T19:38:02.266068Z",
     "iopub.status.idle": "2022-05-09T19:38:02.274830Z",
     "shell.execute_reply": "2022-05-09T19:38:02.273994Z"
    },
    "jupyter": {
     "source_hidden": true
    },
    "papermill": {
     "duration": 0.028466,
     "end_time": "2022-05-09T19:38:02.277373",
     "exception": false,
     "start_time": "2022-05-09T19:38:02.248907",
     "status": "completed"
    },
    "tags": [
     "remove_input"
    ]
   },
   "outputs": [],
   "source": [
    "def setup_charts(df, PCT_COMPETITIVE_THRESHOLD, route_group):\n",
    "    # Set up df for charting (cut-off at some threshold to show most competitive routes)\n",
    "    plot_me = (df[df.pct_trips_competitive > PCT_COMPETITIVE_THRESHOLD]\n",
    "           .drop(columns = \"geometry\")\n",
    "    )\n",
    "    \n",
    "    y_col1 = \"bus_multiplier\"\n",
    "    Y_MIN1, Y_MAX1 = set_yaxis_range(plot_me, y_col1)\n",
    "\n",
    "    y_col2 = \"bus_difference\"\n",
    "    Y_MIN2, Y_MAX2 = set_yaxis_range(plot_me, y_col2)\n",
    "     \n",
    "    subset_routes = top15_routes(plot_me, route_group)\n",
    "    \n",
    "    multiplier_chart = parallel_corridors_utils.make_stripplot(\n",
    "        plot_me[plot_me.route_id.isin(subset_routes)], \n",
    "        y_col1, Y_MIN = Y_MIN1, Y_MAX = Y_MAX1\n",
    "    )\n",
    "    \n",
    "    difference_chart = parallel_corridors_utils.make_stripplot(\n",
    "        plot_me[plot_me.route_id.isin(subset_routes)], \n",
    "        y_col2, Y_MIN = Y_MIN2, Y_MAX = Y_MAX2\n",
    "    )\n",
    "    \n",
    "    return subset_routes, multiplier_chart, difference_chart            "
   ]
  },
  {
   "cell_type": "code",
   "execution_count": 12,
   "id": "33a710e8-504c-4942-aa75-ff69f216956e",
   "metadata": {
    "execution": {
     "iopub.execute_input": "2022-05-09T19:38:02.322396Z",
     "iopub.status.busy": "2022-05-09T19:38:02.321447Z",
     "iopub.status.idle": "2022-05-09T19:38:02.328328Z",
     "shell.execute_reply": "2022-05-09T19:38:02.327435Z"
    },
    "jupyter": {
     "source_hidden": true
    },
    "papermill": {
     "duration": 0.038591,
     "end_time": "2022-05-09T19:38:02.331085",
     "exception": false,
     "start_time": "2022-05-09T19:38:02.292494",
     "status": "completed"
    },
    "tags": [
     "remove_input"
    ]
   },
   "outputs": [],
   "source": [
    "def display_charts_for_route_group(df, route_group):    \n",
    "    subset_routes, mult, diff  = setup_charts(df, PCT_COMPETITIVE_THRESHOLD, route_group)\n",
    "\n",
    "    if len(subset_routes) > 0:\n",
    "        display(Markdown(f\"{CAPTIONS_DICT[route_group]}\"))\n",
    "\n",
    "        display(mult)\n",
    "        display(diff)"
   ]
  },
  {
   "cell_type": "markdown",
   "id": "525f9b38-072b-46d1-96a8-1aa4b038357c",
   "metadata": {
    "papermill": {
     "duration": 0.015577,
     "end_time": "2022-05-09T19:38:02.362001",
     "exception": false,
     "start_time": "2022-05-09T19:38:02.346424",
     "status": "completed"
    },
    "tags": []
   },
   "source": [
    "## Viable Competitive Routes\n",
    "### Short Routes (< 1 hr)"
   ]
  },
  {
   "cell_type": "code",
   "execution_count": 13,
   "id": "57f7084c-2cf7-45c6-ba08-1609e0bd6ca5",
   "metadata": {
    "execution": {
     "iopub.execute_input": "2022-05-09T19:38:02.398999Z",
     "iopub.status.busy": "2022-05-09T19:38:02.397958Z",
     "iopub.status.idle": "2022-05-09T19:38:02.707783Z",
     "shell.execute_reply": "2022-05-09T19:38:02.705389Z"
    },
    "jupyter": {
     "source_hidden": true
    },
    "papermill": {
     "duration": 0.329339,
     "end_time": "2022-05-09T19:38:02.710749",
     "exception": false,
     "start_time": "2022-05-09T19:38:02.381410",
     "status": "completed"
    },
    "tags": [
     "remove_input"
    ]
   },
   "outputs": [
    {
     "data": {
      "text/markdown": [
       "<br>These are routes that have **at least 25% of their trips take no more than an additional 20 min** compared to a car (up to 15 routes) are shown.<br>Within each route group, routes are sorted in descending order by % competitive trips and # trips below the additional time cut-off."
      ],
      "text/plain": [
       "<IPython.core.display.Markdown object>"
      ]
     },
     "metadata": {},
     "output_type": "display_data"
    },
    {
     "data": {
      "text/html": [
       "\n",
       "<div id=\"altair-viz-622ce5cafb814cc7886407dd1db3fcbc\"></div>\n",
       "<script type=\"text/javascript\">\n",
       "  var VEGA_DEBUG = (typeof VEGA_DEBUG == \"undefined\") ? {} : VEGA_DEBUG;\n",
       "  (function(spec, embedOpt){\n",
       "    let outputDiv = document.currentScript.previousElementSibling;\n",
       "    if (outputDiv.id !== \"altair-viz-622ce5cafb814cc7886407dd1db3fcbc\") {\n",
       "      outputDiv = document.getElementById(\"altair-viz-622ce5cafb814cc7886407dd1db3fcbc\");\n",
       "    }\n",
       "    const paths = {\n",
       "      \"vega\": \"https://cdn.jsdelivr.net/npm//vega@5?noext\",\n",
       "      \"vega-lib\": \"https://cdn.jsdelivr.net/npm//vega-lib?noext\",\n",
       "      \"vega-lite\": \"https://cdn.jsdelivr.net/npm//vega-lite@4.17.0?noext\",\n",
       "      \"vega-embed\": \"https://cdn.jsdelivr.net/npm//vega-embed@6?noext\",\n",
       "    };\n",
       "\n",
       "    function maybeLoadScript(lib, version) {\n",
       "      var key = `${lib.replace(\"-\", \"\")}_version`;\n",
       "      return (VEGA_DEBUG[key] == version) ?\n",
       "        Promise.resolve(paths[lib]) :\n",
       "        new Promise(function(resolve, reject) {\n",
       "          var s = document.createElement('script');\n",
       "          document.getElementsByTagName(\"head\")[0].appendChild(s);\n",
       "          s.async = true;\n",
       "          s.onload = () => {\n",
       "            VEGA_DEBUG[key] = version;\n",
       "            return resolve(paths[lib]);\n",
       "          };\n",
       "          s.onerror = () => reject(`Error loading script: ${paths[lib]}`);\n",
       "          s.src = paths[lib];\n",
       "        });\n",
       "    }\n",
       "\n",
       "    function showError(err) {\n",
       "      outputDiv.innerHTML = `<div class=\"error\" style=\"color:red;\">${err}</div>`;\n",
       "      throw err;\n",
       "    }\n",
       "\n",
       "    function displayChart(vegaEmbed) {\n",
       "      vegaEmbed(outputDiv, spec, embedOpt)\n",
       "        .catch(err => showError(`Javascript Error: ${err.message}<br>This usually means there's a typo in your chart specification. See the javascript console for the full traceback.`));\n",
       "    }\n",
       "\n",
       "    if(typeof define === \"function\" && define.amd) {\n",
       "      requirejs.config({paths});\n",
       "      require([\"vega-embed\"], displayChart, err => showError(`Error loading script: ${err.message}`));\n",
       "    } else {\n",
       "      maybeLoadScript(\"vega\", \"5\")\n",
       "        .then(() => maybeLoadScript(\"vega-lite\", \"4.17.0\"))\n",
       "        .then(() => maybeLoadScript(\"vega-embed\", \"6\"))\n",
       "        .catch(showError)\n",
       "        .then(() => displayChart(vegaEmbed));\n",
       "    }\n",
       "  })({\"config\": {\"view\": {\"continuousWidth\": 400, \"continuousHeight\": 300, \"stroke\": null}, \"facet\": {\"spacing\": 0}}, \"data\": {\"name\": \"data-99eebd5d73233bc26b5c66caa47bd57f\"}, \"facet\": {\"column\": {\"field\": \"route_id\", \"sort\": [\"364\"], \"title\": \"Route ID\", \"type\": \"nominal\"}}, \"spec\": {\"layer\": [{\"mark\": \"rule\", \"encoding\": {\"color\": {\"value\": \"black\"}, \"y\": {\"field\": \"cutoff\", \"type\": \"quantitative\"}}, \"selection\": {\"selector001\": {\"type\": \"interval\", \"bind\": \"scales\", \"encodings\": [\"x\", \"y\"]}}}, {\"mark\": {\"type\": \"point\", \"opacity\": 0.65, \"size\": 12, \"strokeWidth\": 1.1}, \"encoding\": {\"color\": {\"field\": \"time_of_day\", \"scale\": {\"range\": [\"#136C97\", \"#E16B26\", \"#F6BF16\", \"#00896B\", \"#7790A3\", \"#5B559C\"]}, \"sort\": [\"AM Peak\", \"Midday\", \"PM Peak\", \"Owl Service\"], \"title\": \"Time of Day\", \"type\": \"nominal\"}, \"tooltip\": [{\"field\": \"route_id\", \"type\": \"nominal\"}, {\"field\": \"trip_id\", \"type\": \"nominal\"}, {\"field\": \"service_hours\", \"type\": \"quantitative\"}, {\"field\": \"car_duration_hours\", \"type\": \"quantitative\"}, {\"field\": \"bus_multiplier\", \"type\": \"quantitative\"}, {\"field\": \"bus_difference\", \"type\": \"quantitative\"}, {\"field\": \"num_trips\", \"type\": \"quantitative\"}, {\"field\": \"num_competitive\", \"type\": \"quantitative\"}, {\"field\": \"pct_trips_competitive\", \"type\": \"quantitative\"}, {\"field\": \"p25\", \"type\": \"quantitative\"}, {\"field\": \"p50\", \"type\": \"quantitative\"}, {\"field\": \"p75\", \"type\": \"quantitative\"}], \"x\": {\"axis\": {\"grid\": false, \"labels\": false, \"ticks\": true, \"values\": [0]}, \"field\": \"jitter\", \"scale\": {}, \"title\": null, \"type\": \"quantitative\"}, \"y\": {\"field\": \"bus_multiplier\", \"scale\": {\"domain\": [-0.25, 2.5]}, \"title\": \"Ratio of Bus to Car Travel Time\", \"type\": \"quantitative\"}}, \"transform\": [{\"calculate\": \"sqrt(-2*log(random()))*cos(2*PI*random())\", \"as\": \"jitter\"}], \"width\": 50}, {\"layer\": [{\"mark\": {\"type\": \"point\", \"opacity\": 0.6, \"size\": 20, \"strokeWidth\": 1.3}, \"encoding\": {\"color\": {\"value\": \"#323434\"}, \"y\": {\"field\": \"bus_multiplier\", \"type\": \"quantitative\"}}, \"transform\": [{\"filter\": \"(datum.p50_trip === 1)\"}]}, {\"mark\": {\"type\": \"text\", \"align\": \"center\", \"baseline\": \"middle\"}, \"encoding\": {\"color\": {\"value\": \"black\"}, \"text\": {\"field\": \"pct_trips_competitive\", \"format\": \".0%\", \"type\": \"quantitative\"}, \"tooltip\": [{\"field\": \"route_id\", \"type\": \"nominal\"}, {\"field\": \"trip_id\", \"type\": \"nominal\"}, {\"field\": \"service_hours\", \"type\": \"quantitative\"}, {\"field\": \"car_duration_hours\", \"type\": \"quantitative\"}, {\"field\": \"bus_multiplier\", \"type\": \"quantitative\"}, {\"field\": \"bus_difference\", \"type\": \"quantitative\"}, {\"field\": \"num_trips\", \"type\": \"quantitative\"}, {\"field\": \"num_competitive\", \"type\": \"quantitative\"}, {\"field\": \"pct_trips_competitive\", \"type\": \"quantitative\"}, {\"field\": \"p25\", \"type\": \"quantitative\"}, {\"field\": \"p50\", \"type\": \"quantitative\"}, {\"field\": \"p75\", \"type\": \"quantitative\"}], \"x\": {\"value\": 30}, \"y\": {\"value\": 15}}, \"transform\": [{\"calculate\": \"sqrt(-2*log(random()))*cos(2*PI*random())\", \"as\": \"jitter\"}, {\"filter\": \"(datum.fastest_trip === 1)\"}]}]}]}, \"resolve\": {\"scale\": {\"y\": \"shared\"}}, \"title\": \"Ratio of Bus to Car Travel Time\", \"$schema\": \"https://vega.github.io/schema/vega-lite/v4.17.0.json\", \"datasets\": {\"data-99eebd5d73233bc26b5c66caa47bd57f\": [{\"calitp_itp_id\": 376, \"trip_key\": -2107148796462475967, \"trip_id\": \"t_1083252_b_26274_tn_11\", \"shape_id\": \"p_322\", \"route_id\": \"364\", \"service_hours\": 0.4, \"trip_first_departure_ts\": 42300, \"trip_last_arrival_ts\": 43740, \"departure_hour\": 11, \"time_of_day\": \"Midday\", \"p25\": 0.4, \"p50\": 0.41500000000000004, \"p75\": 0.43, \"p50_trip\": 0, \"fastest_trip\": 0, \"car_duration_hours\": 0.36, \"competitive_route\": 1, \"bus_multiplier\": 1.11, \"bus_difference\": 2.4, \"num_trips\": 48, \"num_competitive\": 48, \"pct_trips_competitive\": 1.0, \"bus_difference_spread\": 1.8, \"route_group\": \"short\", \"max_trip_hrs\": 0.43, \"max_trip_route_group\": 0.92, \"name\": \"Yuba-Sutter Transit Authority\", \"caltrans_district\": \"03 - Marysville\", \"drmt_organization_name\": null, \"cutoff2\": 20, \"cutoff\": 2}, {\"calitp_itp_id\": 376, \"trip_key\": -48558141466476082, \"trip_id\": \"t_1083252_b_26274_tn_2\", \"shape_id\": \"p_322\", \"route_id\": \"364\", \"service_hours\": 0.4, \"trip_first_departure_ts\": 26100, \"trip_last_arrival_ts\": 27540, \"departure_hour\": 7, \"time_of_day\": \"AM Peak\", \"p25\": 0.4, \"p50\": 0.41500000000000004, \"p75\": 0.43, \"p50_trip\": 0, \"fastest_trip\": 0, \"car_duration_hours\": 0.36, \"competitive_route\": 1, \"bus_multiplier\": 1.11, \"bus_difference\": 2.4, \"num_trips\": 48, \"num_competitive\": 48, \"pct_trips_competitive\": 1.0, \"bus_difference_spread\": 1.8, \"route_group\": \"short\", \"max_trip_hrs\": 0.43, \"max_trip_route_group\": 0.92, \"name\": \"Yuba-Sutter Transit Authority\", \"caltrans_district\": \"03 - Marysville\", \"drmt_organization_name\": null, \"cutoff2\": 20, \"cutoff\": 2}, {\"calitp_itp_id\": 376, \"trip_key\": -8729760701135036540, \"trip_id\": \"t_1083252_b_26274_tn_4\", \"shape_id\": \"p_322\", \"route_id\": \"364\", \"service_hours\": 0.4, \"trip_first_departure_ts\": 29700, \"trip_last_arrival_ts\": 31140, \"departure_hour\": 8, \"time_of_day\": \"AM Peak\", \"p25\": 0.4, \"p50\": 0.41500000000000004, \"p75\": 0.43, \"p50_trip\": 0, \"fastest_trip\": 0, \"car_duration_hours\": 0.36, \"competitive_route\": 1, \"bus_multiplier\": 1.11, \"bus_difference\": 2.4, \"num_trips\": 48, \"num_competitive\": 48, \"pct_trips_competitive\": 1.0, \"bus_difference_spread\": 1.8, \"route_group\": \"short\", \"max_trip_hrs\": 0.43, \"max_trip_route_group\": 0.92, \"name\": \"Yuba-Sutter Transit Authority\", \"caltrans_district\": \"03 - Marysville\", \"drmt_organization_name\": null, \"cutoff2\": 20, \"cutoff\": 2}, {\"calitp_itp_id\": 376, \"trip_key\": -868977418467878594, \"trip_id\": \"t_1083252_b_26274_tn_15\", \"shape_id\": \"p_322\", \"route_id\": \"364\", \"service_hours\": 0.4, \"trip_first_departure_ts\": 49500, \"trip_last_arrival_ts\": 50940, \"departure_hour\": 13, \"time_of_day\": \"Midday\", \"p25\": 0.4, \"p50\": 0.41500000000000004, \"p75\": 0.43, \"p50_trip\": 0, \"fastest_trip\": 0, \"car_duration_hours\": 0.36, \"competitive_route\": 1, \"bus_multiplier\": 1.11, \"bus_difference\": 2.4, \"num_trips\": 48, \"num_competitive\": 48, \"pct_trips_competitive\": 1.0, \"bus_difference_spread\": 1.8, \"route_group\": \"short\", \"max_trip_hrs\": 0.43, \"max_trip_route_group\": 0.92, \"name\": \"Yuba-Sutter Transit Authority\", \"caltrans_district\": \"03 - Marysville\", \"drmt_organization_name\": null, \"cutoff2\": 20, \"cutoff\": 2}, {\"calitp_itp_id\": 376, \"trip_key\": 7197936461474064770, \"trip_id\": \"t_1083252_b_26274_tn_13\", \"shape_id\": \"p_322\", \"route_id\": \"364\", \"service_hours\": 0.4, \"trip_first_departure_ts\": 45900, \"trip_last_arrival_ts\": 47340, \"departure_hour\": 12, \"time_of_day\": \"Midday\", \"p25\": 0.4, \"p50\": 0.41500000000000004, \"p75\": 0.43, \"p50_trip\": 0, \"fastest_trip\": 0, \"car_duration_hours\": 0.36, \"competitive_route\": 1, \"bus_multiplier\": 1.11, \"bus_difference\": 2.4, \"num_trips\": 48, \"num_competitive\": 48, \"pct_trips_competitive\": 1.0, \"bus_difference_spread\": 1.8, \"route_group\": \"short\", \"max_trip_hrs\": 0.43, \"max_trip_route_group\": 0.92, \"name\": \"Yuba-Sutter Transit Authority\", \"caltrans_district\": \"03 - Marysville\", \"drmt_organization_name\": null, \"cutoff2\": 20, \"cutoff\": 2}, {\"calitp_itp_id\": 376, \"trip_key\": 5710050260551900879, \"trip_id\": \"t_1083252_b_26274_tn_3\", \"shape_id\": \"p_322\", \"route_id\": \"364\", \"service_hours\": 0.4, \"trip_first_departure_ts\": 27900, \"trip_last_arrival_ts\": 29340, \"departure_hour\": 7, \"time_of_day\": \"AM Peak\", \"p25\": 0.4, \"p50\": 0.41500000000000004, \"p75\": 0.43, \"p50_trip\": 0, \"fastest_trip\": 0, \"car_duration_hours\": 0.36, \"competitive_route\": 1, \"bus_multiplier\": 1.11, \"bus_difference\": 2.4, \"num_trips\": 48, \"num_competitive\": 48, \"pct_trips_competitive\": 1.0, \"bus_difference_spread\": 1.8, \"route_group\": \"short\", \"max_trip_hrs\": 0.43, \"max_trip_route_group\": 0.92, \"name\": \"Yuba-Sutter Transit Authority\", \"caltrans_district\": \"03 - Marysville\", \"drmt_organization_name\": null, \"cutoff2\": 20, \"cutoff\": 2}, {\"calitp_itp_id\": 376, \"trip_key\": 8332005515460261964, \"trip_id\": \"t_1083252_b_26274_tn_24\", \"shape_id\": \"p_322\", \"route_id\": \"364\", \"service_hours\": 0.4, \"trip_first_departure_ts\": 65700, \"trip_last_arrival_ts\": 67140, \"departure_hour\": 18, \"time_of_day\": \"PM Peak\", \"p25\": 0.4, \"p50\": 0.41500000000000004, \"p75\": 0.43, \"p50_trip\": 0, \"fastest_trip\": 1, \"car_duration_hours\": 0.36, \"competitive_route\": 1, \"bus_multiplier\": 1.11, \"bus_difference\": 2.4, \"num_trips\": 48, \"num_competitive\": 48, \"pct_trips_competitive\": 1.0, \"bus_difference_spread\": 1.8, \"route_group\": \"short\", \"max_trip_hrs\": 0.43, \"max_trip_route_group\": 0.92, \"name\": \"Yuba-Sutter Transit Authority\", \"caltrans_district\": \"03 - Marysville\", \"drmt_organization_name\": null, \"cutoff2\": 20, \"cutoff\": 2}, {\"calitp_itp_id\": 376, \"trip_key\": -5997556363842654135, \"trip_id\": \"t_1083252_b_26274_tn_5\", \"shape_id\": \"p_322\", \"route_id\": \"364\", \"service_hours\": 0.4, \"trip_first_departure_ts\": 31500, \"trip_last_arrival_ts\": 32940, \"departure_hour\": 8, \"time_of_day\": \"AM Peak\", \"p25\": 0.4, \"p50\": 0.41500000000000004, \"p75\": 0.43, \"p50_trip\": 0, \"fastest_trip\": 0, \"car_duration_hours\": 0.36, \"competitive_route\": 1, \"bus_multiplier\": 1.11, \"bus_difference\": 2.4, \"num_trips\": 48, \"num_competitive\": 48, \"pct_trips_competitive\": 1.0, \"bus_difference_spread\": 1.8, \"route_group\": \"short\", \"max_trip_hrs\": 0.43, \"max_trip_route_group\": 0.92, \"name\": \"Yuba-Sutter Transit Authority\", \"caltrans_district\": \"03 - Marysville\", \"drmt_organization_name\": null, \"cutoff2\": 20, \"cutoff\": 2}, {\"calitp_itp_id\": 376, \"trip_key\": -1921299909533956801, \"trip_id\": \"t_1083252_b_26274_tn_7\", \"shape_id\": \"p_322\", \"route_id\": \"364\", \"service_hours\": 0.4, \"trip_first_departure_ts\": 35100, \"trip_last_arrival_ts\": 36540, \"departure_hour\": 9, \"time_of_day\": \"AM Peak\", \"p25\": 0.4, \"p50\": 0.41500000000000004, \"p75\": 0.43, \"p50_trip\": 0, \"fastest_trip\": 0, \"car_duration_hours\": 0.36, \"competitive_route\": 1, \"bus_multiplier\": 1.11, \"bus_difference\": 2.4, \"num_trips\": 48, \"num_competitive\": 48, \"pct_trips_competitive\": 1.0, \"bus_difference_spread\": 1.8, \"route_group\": \"short\", \"max_trip_hrs\": 0.43, \"max_trip_route_group\": 0.92, \"name\": \"Yuba-Sutter Transit Authority\", \"caltrans_district\": \"03 - Marysville\", \"drmt_organization_name\": null, \"cutoff2\": 20, \"cutoff\": 2}, {\"calitp_itp_id\": 376, \"trip_key\": 7457131460169109350, \"trip_id\": \"t_1083252_b_26274_tn_1\", \"shape_id\": \"p_322\", \"route_id\": \"364\", \"service_hours\": 0.4, \"trip_first_departure_ts\": 24300, \"trip_last_arrival_ts\": 25740, \"departure_hour\": 6, \"time_of_day\": \"Owl Service\", \"p25\": 0.4, \"p50\": 0.41500000000000004, \"p75\": 0.43, \"p50_trip\": 0, \"fastest_trip\": 0, \"car_duration_hours\": 0.36, \"competitive_route\": 1, \"bus_multiplier\": 1.11, \"bus_difference\": 2.4, \"num_trips\": 48, \"num_competitive\": 48, \"pct_trips_competitive\": 1.0, \"bus_difference_spread\": 1.8, \"route_group\": \"short\", \"max_trip_hrs\": 0.43, \"max_trip_route_group\": 0.92, \"name\": \"Yuba-Sutter Transit Authority\", \"caltrans_district\": \"03 - Marysville\", \"drmt_organization_name\": null, \"cutoff2\": 20, \"cutoff\": 2}, {\"calitp_itp_id\": 376, \"trip_key\": 7992874538027682455, \"trip_id\": \"t_1083252_b_26274_tn_17\", \"shape_id\": \"p_322\", \"route_id\": \"364\", \"service_hours\": 0.4, \"trip_first_departure_ts\": 53100, \"trip_last_arrival_ts\": 54540, \"departure_hour\": 14, \"time_of_day\": \"Midday\", \"p25\": 0.4, \"p50\": 0.41500000000000004, \"p75\": 0.43, \"p50_trip\": 0, \"fastest_trip\": 0, \"car_duration_hours\": 0.36, \"competitive_route\": 1, \"bus_multiplier\": 1.11, \"bus_difference\": 2.4, \"num_trips\": 48, \"num_competitive\": 48, \"pct_trips_competitive\": 1.0, \"bus_difference_spread\": 1.8, \"route_group\": \"short\", \"max_trip_hrs\": 0.43, \"max_trip_route_group\": 0.92, \"name\": \"Yuba-Sutter Transit Authority\", \"caltrans_district\": \"03 - Marysville\", \"drmt_organization_name\": null, \"cutoff2\": 20, \"cutoff\": 2}, {\"calitp_itp_id\": 376, \"trip_key\": -1223562494300379121, \"trip_id\": \"t_1083252_b_26274_tn_18\", \"shape_id\": \"p_322\", \"route_id\": \"364\", \"service_hours\": 0.4, \"trip_first_departure_ts\": 54900, \"trip_last_arrival_ts\": 56340, \"departure_hour\": 15, \"time_of_day\": \"Midday\", \"p25\": 0.4, \"p50\": 0.41500000000000004, \"p75\": 0.43, \"p50_trip\": 0, \"fastest_trip\": 0, \"car_duration_hours\": 0.36, \"competitive_route\": 1, \"bus_multiplier\": 1.11, \"bus_difference\": 2.4, \"num_trips\": 48, \"num_competitive\": 48, \"pct_trips_competitive\": 1.0, \"bus_difference_spread\": 1.8, \"route_group\": \"short\", \"max_trip_hrs\": 0.43, \"max_trip_route_group\": 0.92, \"name\": \"Yuba-Sutter Transit Authority\", \"caltrans_district\": \"03 - Marysville\", \"drmt_organization_name\": null, \"cutoff2\": 20, \"cutoff\": 2}, {\"calitp_itp_id\": 376, \"trip_key\": 2118425058260583978, \"trip_id\": \"t_1083252_b_26274_tn_16\", \"shape_id\": \"p_322\", \"route_id\": \"364\", \"service_hours\": 0.4, \"trip_first_departure_ts\": 51300, \"trip_last_arrival_ts\": 52740, \"departure_hour\": 14, \"time_of_day\": \"Midday\", \"p25\": 0.4, \"p50\": 0.41500000000000004, \"p75\": 0.43, \"p50_trip\": 0, \"fastest_trip\": 0, \"car_duration_hours\": 0.36, \"competitive_route\": 1, \"bus_multiplier\": 1.11, \"bus_difference\": 2.4, \"num_trips\": 48, \"num_competitive\": 48, \"pct_trips_competitive\": 1.0, \"bus_difference_spread\": 1.8, \"route_group\": \"short\", \"max_trip_hrs\": 0.43, \"max_trip_route_group\": 0.92, \"name\": \"Yuba-Sutter Transit Authority\", \"caltrans_district\": \"03 - Marysville\", \"drmt_organization_name\": null, \"cutoff2\": 20, \"cutoff\": 2}, {\"calitp_itp_id\": 376, \"trip_key\": -6601336790477031015, \"trip_id\": \"t_1083252_b_26274_tn_22\", \"shape_id\": \"p_322\", \"route_id\": \"364\", \"service_hours\": 0.4, \"trip_first_departure_ts\": 62100, \"trip_last_arrival_ts\": 63540, \"departure_hour\": 17, \"time_of_day\": \"PM Peak\", \"p25\": 0.4, \"p50\": 0.41500000000000004, \"p75\": 0.43, \"p50_trip\": 0, \"fastest_trip\": 0, \"car_duration_hours\": 0.36, \"competitive_route\": 1, \"bus_multiplier\": 1.11, \"bus_difference\": 2.4, \"num_trips\": 48, \"num_competitive\": 48, \"pct_trips_competitive\": 1.0, \"bus_difference_spread\": 1.8, \"route_group\": \"short\", \"max_trip_hrs\": 0.43, \"max_trip_route_group\": 0.92, \"name\": \"Yuba-Sutter Transit Authority\", \"caltrans_district\": \"03 - Marysville\", \"drmt_organization_name\": null, \"cutoff2\": 20, \"cutoff\": 2}, {\"calitp_itp_id\": 376, \"trip_key\": 1084805059173466666, \"trip_id\": \"t_1083252_b_26274_tn_9\", \"shape_id\": \"p_322\", \"route_id\": \"364\", \"service_hours\": 0.4, \"trip_first_departure_ts\": 38700, \"trip_last_arrival_ts\": 40140, \"departure_hour\": 10, \"time_of_day\": \"Midday\", \"p25\": 0.4, \"p50\": 0.41500000000000004, \"p75\": 0.43, \"p50_trip\": 0, \"fastest_trip\": 0, \"car_duration_hours\": 0.36, \"competitive_route\": 1, \"bus_multiplier\": 1.11, \"bus_difference\": 2.4, \"num_trips\": 48, \"num_competitive\": 48, \"pct_trips_competitive\": 1.0, \"bus_difference_spread\": 1.8, \"route_group\": \"short\", \"max_trip_hrs\": 0.43, \"max_trip_route_group\": 0.92, \"name\": \"Yuba-Sutter Transit Authority\", \"caltrans_district\": \"03 - Marysville\", \"drmt_organization_name\": null, \"cutoff2\": 20, \"cutoff\": 2}, {\"calitp_itp_id\": 376, \"trip_key\": 8649530108167023433, \"trip_id\": \"t_1083252_b_26274_tn_21\", \"shape_id\": \"p_322\", \"route_id\": \"364\", \"service_hours\": 0.4, \"trip_first_departure_ts\": 60300, \"trip_last_arrival_ts\": 61740, \"departure_hour\": 16, \"time_of_day\": \"Midday\", \"p25\": 0.4, \"p50\": 0.41500000000000004, \"p75\": 0.43, \"p50_trip\": 0, \"fastest_trip\": 0, \"car_duration_hours\": 0.36, \"competitive_route\": 1, \"bus_multiplier\": 1.11, \"bus_difference\": 2.4, \"num_trips\": 48, \"num_competitive\": 48, \"pct_trips_competitive\": 1.0, \"bus_difference_spread\": 1.8, \"route_group\": \"short\", \"max_trip_hrs\": 0.43, \"max_trip_route_group\": 0.92, \"name\": \"Yuba-Sutter Transit Authority\", \"caltrans_district\": \"03 - Marysville\", \"drmt_organization_name\": null, \"cutoff2\": 20, \"cutoff\": 2}, {\"calitp_itp_id\": 376, \"trip_key\": 3847087371010932803, \"trip_id\": \"t_1083252_b_26274_tn_19\", \"shape_id\": \"p_322\", \"route_id\": \"364\", \"service_hours\": 0.4, \"trip_first_departure_ts\": 56700, \"trip_last_arrival_ts\": 58140, \"departure_hour\": 15, \"time_of_day\": \"Midday\", \"p25\": 0.4, \"p50\": 0.41500000000000004, \"p75\": 0.43, \"p50_trip\": 0, \"fastest_trip\": 0, \"car_duration_hours\": 0.36, \"competitive_route\": 1, \"bus_multiplier\": 1.11, \"bus_difference\": 2.4, \"num_trips\": 48, \"num_competitive\": 48, \"pct_trips_competitive\": 1.0, \"bus_difference_spread\": 1.8, \"route_group\": \"short\", \"max_trip_hrs\": 0.43, \"max_trip_route_group\": 0.92, \"name\": \"Yuba-Sutter Transit Authority\", \"caltrans_district\": \"03 - Marysville\", \"drmt_organization_name\": null, \"cutoff2\": 20, \"cutoff\": 2}, {\"calitp_itp_id\": 376, \"trip_key\": -8703717727965134118, \"trip_id\": \"t_1083252_b_26274_tn_6\", \"shape_id\": \"p_322\", \"route_id\": \"364\", \"service_hours\": 0.4, \"trip_first_departure_ts\": 33300, \"trip_last_arrival_ts\": 34740, \"departure_hour\": 9, \"time_of_day\": \"AM Peak\", \"p25\": 0.4, \"p50\": 0.41500000000000004, \"p75\": 0.43, \"p50_trip\": 0, \"fastest_trip\": 0, \"car_duration_hours\": 0.36, \"competitive_route\": 1, \"bus_multiplier\": 1.11, \"bus_difference\": 2.4, \"num_trips\": 48, \"num_competitive\": 48, \"pct_trips_competitive\": 1.0, \"bus_difference_spread\": 1.8, \"route_group\": \"short\", \"max_trip_hrs\": 0.43, \"max_trip_route_group\": 0.92, \"name\": \"Yuba-Sutter Transit Authority\", \"caltrans_district\": \"03 - Marysville\", \"drmt_organization_name\": null, \"cutoff2\": 20, \"cutoff\": 2}, {\"calitp_itp_id\": 376, \"trip_key\": 2372007060291924837, \"trip_id\": \"t_1083252_b_26274_tn_8\", \"shape_id\": \"p_322\", \"route_id\": \"364\", \"service_hours\": 0.4, \"trip_first_departure_ts\": 36900, \"trip_last_arrival_ts\": 38340, \"departure_hour\": 10, \"time_of_day\": \"Midday\", \"p25\": 0.4, \"p50\": 0.41500000000000004, \"p75\": 0.43, \"p50_trip\": 0, \"fastest_trip\": 0, \"car_duration_hours\": 0.36, \"competitive_route\": 1, \"bus_multiplier\": 1.11, \"bus_difference\": 2.4, \"num_trips\": 48, \"num_competitive\": 48, \"pct_trips_competitive\": 1.0, \"bus_difference_spread\": 1.8, \"route_group\": \"short\", \"max_trip_hrs\": 0.43, \"max_trip_route_group\": 0.92, \"name\": \"Yuba-Sutter Transit Authority\", \"caltrans_district\": \"03 - Marysville\", \"drmt_organization_name\": null, \"cutoff2\": 20, \"cutoff\": 2}, {\"calitp_itp_id\": 376, \"trip_key\": 6885216730504000170, \"trip_id\": \"t_1083252_b_26274_tn_14\", \"shape_id\": \"p_322\", \"route_id\": \"364\", \"service_hours\": 0.4, \"trip_first_departure_ts\": 47700, \"trip_last_arrival_ts\": 49140, \"departure_hour\": 13, \"time_of_day\": \"Midday\", \"p25\": 0.4, \"p50\": 0.41500000000000004, \"p75\": 0.43, \"p50_trip\": 0, \"fastest_trip\": 0, \"car_duration_hours\": 0.36, \"competitive_route\": 1, \"bus_multiplier\": 1.11, \"bus_difference\": 2.4, \"num_trips\": 48, \"num_competitive\": 48, \"pct_trips_competitive\": 1.0, \"bus_difference_spread\": 1.8, \"route_group\": \"short\", \"max_trip_hrs\": 0.43, \"max_trip_route_group\": 0.92, \"name\": \"Yuba-Sutter Transit Authority\", \"caltrans_district\": \"03 - Marysville\", \"drmt_organization_name\": null, \"cutoff2\": 20, \"cutoff\": 2}, {\"calitp_itp_id\": 376, \"trip_key\": -6960913062484974351, \"trip_id\": \"t_1083252_b_26274_tn_10\", \"shape_id\": \"p_322\", \"route_id\": \"364\", \"service_hours\": 0.4, \"trip_first_departure_ts\": 40500, \"trip_last_arrival_ts\": 41940, \"departure_hour\": 11, \"time_of_day\": \"Midday\", \"p25\": 0.4, \"p50\": 0.41500000000000004, \"p75\": 0.43, \"p50_trip\": 0, \"fastest_trip\": 0, \"car_duration_hours\": 0.36, \"competitive_route\": 1, \"bus_multiplier\": 1.11, \"bus_difference\": 2.4, \"num_trips\": 48, \"num_competitive\": 48, \"pct_trips_competitive\": 1.0, \"bus_difference_spread\": 1.8, \"route_group\": \"short\", \"max_trip_hrs\": 0.43, \"max_trip_route_group\": 0.92, \"name\": \"Yuba-Sutter Transit Authority\", \"caltrans_district\": \"03 - Marysville\", \"drmt_organization_name\": null, \"cutoff2\": 20, \"cutoff\": 2}, {\"calitp_itp_id\": 376, \"trip_key\": 213142810520906809, \"trip_id\": \"t_1083252_b_26274_tn_23\", \"shape_id\": \"p_322\", \"route_id\": \"364\", \"service_hours\": 0.4, \"trip_first_departure_ts\": 63900, \"trip_last_arrival_ts\": 65340, \"departure_hour\": 17, \"time_of_day\": \"PM Peak\", \"p25\": 0.4, \"p50\": 0.41500000000000004, \"p75\": 0.43, \"p50_trip\": 0, \"fastest_trip\": 0, \"car_duration_hours\": 0.36, \"competitive_route\": 1, \"bus_multiplier\": 1.11, \"bus_difference\": 2.4, \"num_trips\": 48, \"num_competitive\": 48, \"pct_trips_competitive\": 1.0, \"bus_difference_spread\": 1.8, \"route_group\": \"short\", \"max_trip_hrs\": 0.43, \"max_trip_route_group\": 0.92, \"name\": \"Yuba-Sutter Transit Authority\", \"caltrans_district\": \"03 - Marysville\", \"drmt_organization_name\": null, \"cutoff2\": 20, \"cutoff\": 2}, {\"calitp_itp_id\": 376, \"trip_key\": 4493334390392867068, \"trip_id\": \"t_1083252_b_26274_tn_20\", \"shape_id\": \"p_322\", \"route_id\": \"364\", \"service_hours\": 0.4, \"trip_first_departure_ts\": 58500, \"trip_last_arrival_ts\": 59940, \"departure_hour\": 16, \"time_of_day\": \"Midday\", \"p25\": 0.4, \"p50\": 0.41500000000000004, \"p75\": 0.43, \"p50_trip\": 0, \"fastest_trip\": 0, \"car_duration_hours\": 0.36, \"competitive_route\": 1, \"bus_multiplier\": 1.11, \"bus_difference\": 2.4, \"num_trips\": 48, \"num_competitive\": 48, \"pct_trips_competitive\": 1.0, \"bus_difference_spread\": 1.8, \"route_group\": \"short\", \"max_trip_hrs\": 0.43, \"max_trip_route_group\": 0.92, \"name\": \"Yuba-Sutter Transit Authority\", \"caltrans_district\": \"03 - Marysville\", \"drmt_organization_name\": null, \"cutoff2\": 20, \"cutoff\": 2}, {\"calitp_itp_id\": 376, \"trip_key\": -917205350893781601, \"trip_id\": \"t_1083252_b_26274_tn_12\", \"shape_id\": \"p_322\", \"route_id\": \"364\", \"service_hours\": 0.4, \"trip_first_departure_ts\": 44100, \"trip_last_arrival_ts\": 45540, \"departure_hour\": 12, \"time_of_day\": \"Midday\", \"p25\": 0.4, \"p50\": 0.41500000000000004, \"p75\": 0.43, \"p50_trip\": 0, \"fastest_trip\": 0, \"car_duration_hours\": 0.36, \"competitive_route\": 1, \"bus_multiplier\": 1.11, \"bus_difference\": 2.4, \"num_trips\": 48, \"num_competitive\": 48, \"pct_trips_competitive\": 1.0, \"bus_difference_spread\": 1.8, \"route_group\": \"short\", \"max_trip_hrs\": 0.43, \"max_trip_route_group\": 0.92, \"name\": \"Yuba-Sutter Transit Authority\", \"caltrans_district\": \"03 - Marysville\", \"drmt_organization_name\": null, \"cutoff2\": 20, \"cutoff\": 2}, {\"calitp_itp_id\": 376, \"trip_key\": -6749187564821018335, \"trip_id\": \"t_1083248_b_26274_tn_16\", \"shape_id\": \"p_2911\", \"route_id\": \"364\", \"service_hours\": 0.43, \"trip_first_departure_ts\": 49140, \"trip_last_arrival_ts\": 50700, \"departure_hour\": 13, \"time_of_day\": \"Midday\", \"p25\": 0.4, \"p50\": 0.41500000000000004, \"p75\": 0.43, \"p50_trip\": 1, \"fastest_trip\": 0, \"car_duration_hours\": 0.36, \"competitive_route\": 1, \"bus_multiplier\": 1.19, \"bus_difference\": 4.2, \"num_trips\": 48, \"num_competitive\": 48, \"pct_trips_competitive\": 1.0, \"bus_difference_spread\": 1.8, \"route_group\": \"short\", \"max_trip_hrs\": 0.43, \"max_trip_route_group\": 0.92, \"name\": \"Yuba-Sutter Transit Authority\", \"caltrans_district\": \"03 - Marysville\", \"drmt_organization_name\": null, \"cutoff2\": 20, \"cutoff\": 2}, {\"calitp_itp_id\": 376, \"trip_key\": -7450415130204694526, \"trip_id\": \"t_1083248_b_26274_tn_6\", \"shape_id\": \"p_2911\", \"route_id\": \"364\", \"service_hours\": 0.43, \"trip_first_departure_ts\": 31140, \"trip_last_arrival_ts\": 32700, \"departure_hour\": 8, \"time_of_day\": \"AM Peak\", \"p25\": 0.4, \"p50\": 0.41500000000000004, \"p75\": 0.43, \"p50_trip\": 1, \"fastest_trip\": 0, \"car_duration_hours\": 0.36, \"competitive_route\": 1, \"bus_multiplier\": 1.19, \"bus_difference\": 4.2, \"num_trips\": 48, \"num_competitive\": 48, \"pct_trips_competitive\": 1.0, \"bus_difference_spread\": 1.8, \"route_group\": \"short\", \"max_trip_hrs\": 0.43, \"max_trip_route_group\": 0.92, \"name\": \"Yuba-Sutter Transit Authority\", \"caltrans_district\": \"03 - Marysville\", \"drmt_organization_name\": null, \"cutoff2\": 20, \"cutoff\": 2}, {\"calitp_itp_id\": 376, \"trip_key\": -8500306905025241966, \"trip_id\": \"t_1083248_b_26274_tn_21\", \"shape_id\": \"p_2911\", \"route_id\": \"364\", \"service_hours\": 0.43, \"trip_first_departure_ts\": 58140, \"trip_last_arrival_ts\": 59700, \"departure_hour\": 16, \"time_of_day\": \"Midday\", \"p25\": 0.4, \"p50\": 0.41500000000000004, \"p75\": 0.43, \"p50_trip\": 1, \"fastest_trip\": 0, \"car_duration_hours\": 0.36, \"competitive_route\": 1, \"bus_multiplier\": 1.19, \"bus_difference\": 4.2, \"num_trips\": 48, \"num_competitive\": 48, \"pct_trips_competitive\": 1.0, \"bus_difference_spread\": 1.8, \"route_group\": \"short\", \"max_trip_hrs\": 0.43, \"max_trip_route_group\": 0.92, \"name\": \"Yuba-Sutter Transit Authority\", \"caltrans_district\": \"03 - Marysville\", \"drmt_organization_name\": null, \"cutoff2\": 20, \"cutoff\": 2}, {\"calitp_itp_id\": 376, \"trip_key\": -4580617847621287517, \"trip_id\": \"t_1083248_b_26274_tn_7\", \"shape_id\": \"p_2911\", \"route_id\": \"364\", \"service_hours\": 0.43, \"trip_first_departure_ts\": 32940, \"trip_last_arrival_ts\": 34500, \"departure_hour\": 9, \"time_of_day\": \"AM Peak\", \"p25\": 0.4, \"p50\": 0.41500000000000004, \"p75\": 0.43, \"p50_trip\": 1, \"fastest_trip\": 0, \"car_duration_hours\": 0.36, \"competitive_route\": 1, \"bus_multiplier\": 1.19, \"bus_difference\": 4.2, \"num_trips\": 48, \"num_competitive\": 48, \"pct_trips_competitive\": 1.0, \"bus_difference_spread\": 1.8, \"route_group\": \"short\", \"max_trip_hrs\": 0.43, \"max_trip_route_group\": 0.92, \"name\": \"Yuba-Sutter Transit Authority\", \"caltrans_district\": \"03 - Marysville\", \"drmt_organization_name\": null, \"cutoff2\": 20, \"cutoff\": 2}, {\"calitp_itp_id\": 376, \"trip_key\": 1232306488662524286, \"trip_id\": \"t_1083248_b_26274_tn_9\", \"shape_id\": \"p_2911\", \"route_id\": \"364\", \"service_hours\": 0.43, \"trip_first_departure_ts\": 36540, \"trip_last_arrival_ts\": 38100, \"departure_hour\": 10, \"time_of_day\": \"Midday\", \"p25\": 0.4, \"p50\": 0.41500000000000004, \"p75\": 0.43, \"p50_trip\": 1, \"fastest_trip\": 0, \"car_duration_hours\": 0.36, \"competitive_route\": 1, \"bus_multiplier\": 1.19, \"bus_difference\": 4.2, \"num_trips\": 48, \"num_competitive\": 48, \"pct_trips_competitive\": 1.0, \"bus_difference_spread\": 1.8, \"route_group\": \"short\", \"max_trip_hrs\": 0.43, \"max_trip_route_group\": 0.92, \"name\": \"Yuba-Sutter Transit Authority\", \"caltrans_district\": \"03 - Marysville\", \"drmt_organization_name\": null, \"cutoff2\": 20, \"cutoff\": 2}, {\"calitp_itp_id\": 376, \"trip_key\": -7768367124350112451, \"trip_id\": \"t_1083248_b_26274_tn_8\", \"shape_id\": \"p_2911\", \"route_id\": \"364\", \"service_hours\": 0.43, \"trip_first_departure_ts\": 34740, \"trip_last_arrival_ts\": 36300, \"departure_hour\": 9, \"time_of_day\": \"AM Peak\", \"p25\": 0.4, \"p50\": 0.41500000000000004, \"p75\": 0.43, \"p50_trip\": 1, \"fastest_trip\": 0, \"car_duration_hours\": 0.36, \"competitive_route\": 1, \"bus_multiplier\": 1.19, \"bus_difference\": 4.2, \"num_trips\": 48, \"num_competitive\": 48, \"pct_trips_competitive\": 1.0, \"bus_difference_spread\": 1.8, \"route_group\": \"short\", \"max_trip_hrs\": 0.43, \"max_trip_route_group\": 0.92, \"name\": \"Yuba-Sutter Transit Authority\", \"caltrans_district\": \"03 - Marysville\", \"drmt_organization_name\": null, \"cutoff2\": 20, \"cutoff\": 2}, {\"calitp_itp_id\": 376, \"trip_key\": -1715236440476248176, \"trip_id\": \"t_1083248_b_26274_tn_13\", \"shape_id\": \"p_2911\", \"route_id\": \"364\", \"service_hours\": 0.43, \"trip_first_departure_ts\": 43740, \"trip_last_arrival_ts\": 45300, \"departure_hour\": 12, \"time_of_day\": \"Midday\", \"p25\": 0.4, \"p50\": 0.41500000000000004, \"p75\": 0.43, \"p50_trip\": 1, \"fastest_trip\": 0, \"car_duration_hours\": 0.36, \"competitive_route\": 1, \"bus_multiplier\": 1.19, \"bus_difference\": 4.2, \"num_trips\": 48, \"num_competitive\": 48, \"pct_trips_competitive\": 1.0, \"bus_difference_spread\": 1.8, \"route_group\": \"short\", \"max_trip_hrs\": 0.43, \"max_trip_route_group\": 0.92, \"name\": \"Yuba-Sutter Transit Authority\", \"caltrans_district\": \"03 - Marysville\", \"drmt_organization_name\": null, \"cutoff2\": 20, \"cutoff\": 2}, {\"calitp_itp_id\": 376, \"trip_key\": -2096212256912014655, \"trip_id\": \"t_1083248_b_26274_tn_3\", \"shape_id\": \"p_2911\", \"route_id\": \"364\", \"service_hours\": 0.43, \"trip_first_departure_ts\": 25740, \"trip_last_arrival_ts\": 27300, \"departure_hour\": 7, \"time_of_day\": \"AM Peak\", \"p25\": 0.4, \"p50\": 0.41500000000000004, \"p75\": 0.43, \"p50_trip\": 1, \"fastest_trip\": 0, \"car_duration_hours\": 0.36, \"competitive_route\": 1, \"bus_multiplier\": 1.19, \"bus_difference\": 4.2, \"num_trips\": 48, \"num_competitive\": 48, \"pct_trips_competitive\": 1.0, \"bus_difference_spread\": 1.8, \"route_group\": \"short\", \"max_trip_hrs\": 0.43, \"max_trip_route_group\": 0.92, \"name\": \"Yuba-Sutter Transit Authority\", \"caltrans_district\": \"03 - Marysville\", \"drmt_organization_name\": null, \"cutoff2\": 20, \"cutoff\": 2}, {\"calitp_itp_id\": 376, \"trip_key\": -1760686435649621079, \"trip_id\": \"t_1083248_b_26274_tn_20\", \"shape_id\": \"p_2911\", \"route_id\": \"364\", \"service_hours\": 0.43, \"trip_first_departure_ts\": 56340, \"trip_last_arrival_ts\": 57900, \"departure_hour\": 15, \"time_of_day\": \"Midday\", \"p25\": 0.4, \"p50\": 0.41500000000000004, \"p75\": 0.43, \"p50_trip\": 1, \"fastest_trip\": 0, \"car_duration_hours\": 0.36, \"competitive_route\": 1, \"bus_multiplier\": 1.19, \"bus_difference\": 4.2, \"num_trips\": 48, \"num_competitive\": 48, \"pct_trips_competitive\": 1.0, \"bus_difference_spread\": 1.8, \"route_group\": \"short\", \"max_trip_hrs\": 0.43, \"max_trip_route_group\": 0.92, \"name\": \"Yuba-Sutter Transit Authority\", \"caltrans_district\": \"03 - Marysville\", \"drmt_organization_name\": null, \"cutoff2\": 20, \"cutoff\": 2}, {\"calitp_itp_id\": 376, \"trip_key\": 8147948563950561808, \"trip_id\": \"t_1083248_b_26274_tn_22\", \"shape_id\": \"p_2911\", \"route_id\": \"364\", \"service_hours\": 0.43, \"trip_first_departure_ts\": 59940, \"trip_last_arrival_ts\": 61500, \"departure_hour\": 16, \"time_of_day\": \"Midday\", \"p25\": 0.4, \"p50\": 0.41500000000000004, \"p75\": 0.43, \"p50_trip\": 1, \"fastest_trip\": 0, \"car_duration_hours\": 0.36, \"competitive_route\": 1, \"bus_multiplier\": 1.19, \"bus_difference\": 4.2, \"num_trips\": 48, \"num_competitive\": 48, \"pct_trips_competitive\": 1.0, \"bus_difference_spread\": 1.8, \"route_group\": \"short\", \"max_trip_hrs\": 0.43, \"max_trip_route_group\": 0.92, \"name\": \"Yuba-Sutter Transit Authority\", \"caltrans_district\": \"03 - Marysville\", \"drmt_organization_name\": null, \"cutoff2\": 20, \"cutoff\": 2}, {\"calitp_itp_id\": 376, \"trip_key\": 4616253033031700469, \"trip_id\": \"t_1083248_b_26274_tn_17\", \"shape_id\": \"p_2911\", \"route_id\": \"364\", \"service_hours\": 0.43, \"trip_first_departure_ts\": 50940, \"trip_last_arrival_ts\": 52500, \"departure_hour\": 14, \"time_of_day\": \"Midday\", \"p25\": 0.4, \"p50\": 0.41500000000000004, \"p75\": 0.43, \"p50_trip\": 1, \"fastest_trip\": 0, \"car_duration_hours\": 0.36, \"competitive_route\": 1, \"bus_multiplier\": 1.19, \"bus_difference\": 4.2, \"num_trips\": 48, \"num_competitive\": 48, \"pct_trips_competitive\": 1.0, \"bus_difference_spread\": 1.8, \"route_group\": \"short\", \"max_trip_hrs\": 0.43, \"max_trip_route_group\": 0.92, \"name\": \"Yuba-Sutter Transit Authority\", \"caltrans_district\": \"03 - Marysville\", \"drmt_organization_name\": null, \"cutoff2\": 20, \"cutoff\": 2}, {\"calitp_itp_id\": 376, \"trip_key\": 5620099728374676621, \"trip_id\": \"t_1083248_b_26274_tn_18\", \"shape_id\": \"p_2911\", \"route_id\": \"364\", \"service_hours\": 0.43, \"trip_first_departure_ts\": 52740, \"trip_last_arrival_ts\": 54300, \"departure_hour\": 14, \"time_of_day\": \"Midday\", \"p25\": 0.4, \"p50\": 0.41500000000000004, \"p75\": 0.43, \"p50_trip\": 1, \"fastest_trip\": 0, \"car_duration_hours\": 0.36, \"competitive_route\": 1, \"bus_multiplier\": 1.19, \"bus_difference\": 4.2, \"num_trips\": 48, \"num_competitive\": 48, \"pct_trips_competitive\": 1.0, \"bus_difference_spread\": 1.8, \"route_group\": \"short\", \"max_trip_hrs\": 0.43, \"max_trip_route_group\": 0.92, \"name\": \"Yuba-Sutter Transit Authority\", \"caltrans_district\": \"03 - Marysville\", \"drmt_organization_name\": null, \"cutoff2\": 20, \"cutoff\": 2}, {\"calitp_itp_id\": 376, \"trip_key\": 3006468318510575202, \"trip_id\": \"t_1083248_b_26274_tn_24\", \"shape_id\": \"p_2911\", \"route_id\": \"364\", \"service_hours\": 0.43, \"trip_first_departure_ts\": 63540, \"trip_last_arrival_ts\": 65100, \"departure_hour\": 17, \"time_of_day\": \"PM Peak\", \"p25\": 0.4, \"p50\": 0.41500000000000004, \"p75\": 0.43, \"p50_trip\": 1, \"fastest_trip\": 0, \"car_duration_hours\": 0.36, \"competitive_route\": 1, \"bus_multiplier\": 1.19, \"bus_difference\": 4.2, \"num_trips\": 48, \"num_competitive\": 48, \"pct_trips_competitive\": 1.0, \"bus_difference_spread\": 1.8, \"route_group\": \"short\", \"max_trip_hrs\": 0.43, \"max_trip_route_group\": 0.92, \"name\": \"Yuba-Sutter Transit Authority\", \"caltrans_district\": \"03 - Marysville\", \"drmt_organization_name\": null, \"cutoff2\": 20, \"cutoff\": 2}, {\"calitp_itp_id\": 376, \"trip_key\": 7704456181985850099, \"trip_id\": \"t_1083248_b_26274_tn_23\", \"shape_id\": \"p_2911\", \"route_id\": \"364\", \"service_hours\": 0.43, \"trip_first_departure_ts\": 61740, \"trip_last_arrival_ts\": 63300, \"departure_hour\": 17, \"time_of_day\": \"PM Peak\", \"p25\": 0.4, \"p50\": 0.41500000000000004, \"p75\": 0.43, \"p50_trip\": 1, \"fastest_trip\": 0, \"car_duration_hours\": 0.36, \"competitive_route\": 1, \"bus_multiplier\": 1.19, \"bus_difference\": 4.2, \"num_trips\": 48, \"num_competitive\": 48, \"pct_trips_competitive\": 1.0, \"bus_difference_spread\": 1.8, \"route_group\": \"short\", \"max_trip_hrs\": 0.43, \"max_trip_route_group\": 0.92, \"name\": \"Yuba-Sutter Transit Authority\", \"caltrans_district\": \"03 - Marysville\", \"drmt_organization_name\": null, \"cutoff2\": 20, \"cutoff\": 2}, {\"calitp_itp_id\": 376, \"trip_key\": 2921135745020244912, \"trip_id\": \"t_1083248_b_26274_tn_4\", \"shape_id\": \"p_2911\", \"route_id\": \"364\", \"service_hours\": 0.43, \"trip_first_departure_ts\": 27540, \"trip_last_arrival_ts\": 29100, \"departure_hour\": 7, \"time_of_day\": \"AM Peak\", \"p25\": 0.4, \"p50\": 0.41500000000000004, \"p75\": 0.43, \"p50_trip\": 1, \"fastest_trip\": 0, \"car_duration_hours\": 0.36, \"competitive_route\": 1, \"bus_multiplier\": 1.19, \"bus_difference\": 4.2, \"num_trips\": 48, \"num_competitive\": 48, \"pct_trips_competitive\": 1.0, \"bus_difference_spread\": 1.8, \"route_group\": \"short\", \"max_trip_hrs\": 0.43, \"max_trip_route_group\": 0.92, \"name\": \"Yuba-Sutter Transit Authority\", \"caltrans_district\": \"03 - Marysville\", \"drmt_organization_name\": null, \"cutoff2\": 20, \"cutoff\": 2}, {\"calitp_itp_id\": 376, \"trip_key\": 3324030221842909610, \"trip_id\": \"t_1083248_b_26274_tn_5\", \"shape_id\": \"p_2911\", \"route_id\": \"364\", \"service_hours\": 0.43, \"trip_first_departure_ts\": 29340, \"trip_last_arrival_ts\": 30900, \"departure_hour\": 8, \"time_of_day\": \"AM Peak\", \"p25\": 0.4, \"p50\": 0.41500000000000004, \"p75\": 0.43, \"p50_trip\": 1, \"fastest_trip\": 0, \"car_duration_hours\": 0.36, \"competitive_route\": 1, \"bus_multiplier\": 1.19, \"bus_difference\": 4.2, \"num_trips\": 48, \"num_competitive\": 48, \"pct_trips_competitive\": 1.0, \"bus_difference_spread\": 1.8, \"route_group\": \"short\", \"max_trip_hrs\": 0.43, \"max_trip_route_group\": 0.92, \"name\": \"Yuba-Sutter Transit Authority\", \"caltrans_district\": \"03 - Marysville\", \"drmt_organization_name\": null, \"cutoff2\": 20, \"cutoff\": 2}, {\"calitp_itp_id\": 376, \"trip_key\": -5614381154266609777, \"trip_id\": \"t_1083248_b_26274_tn_15\", \"shape_id\": \"p_2911\", \"route_id\": \"364\", \"service_hours\": 0.43, \"trip_first_departure_ts\": 47340, \"trip_last_arrival_ts\": 48900, \"departure_hour\": 13, \"time_of_day\": \"Midday\", \"p25\": 0.4, \"p50\": 0.41500000000000004, \"p75\": 0.43, \"p50_trip\": 1, \"fastest_trip\": 0, \"car_duration_hours\": 0.36, \"competitive_route\": 1, \"bus_multiplier\": 1.19, \"bus_difference\": 4.2, \"num_trips\": 48, \"num_competitive\": 48, \"pct_trips_competitive\": 1.0, \"bus_difference_spread\": 1.8, \"route_group\": \"short\", \"max_trip_hrs\": 0.43, \"max_trip_route_group\": 0.92, \"name\": \"Yuba-Sutter Transit Authority\", \"caltrans_district\": \"03 - Marysville\", \"drmt_organization_name\": null, \"cutoff2\": 20, \"cutoff\": 2}, {\"calitp_itp_id\": 376, \"trip_key\": -8204291599214900364, \"trip_id\": \"t_1083248_b_26274_tn_14\", \"shape_id\": \"p_2911\", \"route_id\": \"364\", \"service_hours\": 0.43, \"trip_first_departure_ts\": 45540, \"trip_last_arrival_ts\": 47100, \"departure_hour\": 12, \"time_of_day\": \"Midday\", \"p25\": 0.4, \"p50\": 0.41500000000000004, \"p75\": 0.43, \"p50_trip\": 1, \"fastest_trip\": 0, \"car_duration_hours\": 0.36, \"competitive_route\": 1, \"bus_multiplier\": 1.19, \"bus_difference\": 4.2, \"num_trips\": 48, \"num_competitive\": 48, \"pct_trips_competitive\": 1.0, \"bus_difference_spread\": 1.8, \"route_group\": \"short\", \"max_trip_hrs\": 0.43, \"max_trip_route_group\": 0.92, \"name\": \"Yuba-Sutter Transit Authority\", \"caltrans_district\": \"03 - Marysville\", \"drmt_organization_name\": null, \"cutoff2\": 20, \"cutoff\": 2}, {\"calitp_itp_id\": 376, \"trip_key\": 4114440688700775337, \"trip_id\": \"t_1083248_b_26274_tn_19\", \"shape_id\": \"p_2911\", \"route_id\": \"364\", \"service_hours\": 0.43, \"trip_first_departure_ts\": 54540, \"trip_last_arrival_ts\": 56100, \"departure_hour\": 15, \"time_of_day\": \"Midday\", \"p25\": 0.4, \"p50\": 0.41500000000000004, \"p75\": 0.43, \"p50_trip\": 1, \"fastest_trip\": 0, \"car_duration_hours\": 0.36, \"competitive_route\": 1, \"bus_multiplier\": 1.19, \"bus_difference\": 4.2, \"num_trips\": 48, \"num_competitive\": 48, \"pct_trips_competitive\": 1.0, \"bus_difference_spread\": 1.8, \"route_group\": \"short\", \"max_trip_hrs\": 0.43, \"max_trip_route_group\": 0.92, \"name\": \"Yuba-Sutter Transit Authority\", \"caltrans_district\": \"03 - Marysville\", \"drmt_organization_name\": null, \"cutoff2\": 20, \"cutoff\": 2}, {\"calitp_itp_id\": 376, \"trip_key\": -6765415681674289640, \"trip_id\": \"t_1083248_b_26274_tn_2\", \"shape_id\": \"p_2911\", \"route_id\": \"364\", \"service_hours\": 0.43, \"trip_first_departure_ts\": 23940, \"trip_last_arrival_ts\": 25500, \"departure_hour\": 6, \"time_of_day\": \"Owl Service\", \"p25\": 0.4, \"p50\": 0.41500000000000004, \"p75\": 0.43, \"p50_trip\": 1, \"fastest_trip\": 0, \"car_duration_hours\": 0.36, \"competitive_route\": 1, \"bus_multiplier\": 1.19, \"bus_difference\": 4.2, \"num_trips\": 48, \"num_competitive\": 48, \"pct_trips_competitive\": 1.0, \"bus_difference_spread\": 1.8, \"route_group\": \"short\", \"max_trip_hrs\": 0.43, \"max_trip_route_group\": 0.92, \"name\": \"Yuba-Sutter Transit Authority\", \"caltrans_district\": \"03 - Marysville\", \"drmt_organization_name\": null, \"cutoff2\": 20, \"cutoff\": 2}, {\"calitp_itp_id\": 376, \"trip_key\": 8211254135459476857, \"trip_id\": \"t_1083248_b_26274_tn_10\", \"shape_id\": \"p_2911\", \"route_id\": \"364\", \"service_hours\": 0.43, \"trip_first_departure_ts\": 38340, \"trip_last_arrival_ts\": 39900, \"departure_hour\": 10, \"time_of_day\": \"Midday\", \"p25\": 0.4, \"p50\": 0.41500000000000004, \"p75\": 0.43, \"p50_trip\": 1, \"fastest_trip\": 0, \"car_duration_hours\": 0.36, \"competitive_route\": 1, \"bus_multiplier\": 1.19, \"bus_difference\": 4.2, \"num_trips\": 48, \"num_competitive\": 48, \"pct_trips_competitive\": 1.0, \"bus_difference_spread\": 1.8, \"route_group\": \"short\", \"max_trip_hrs\": 0.43, \"max_trip_route_group\": 0.92, \"name\": \"Yuba-Sutter Transit Authority\", \"caltrans_district\": \"03 - Marysville\", \"drmt_organization_name\": null, \"cutoff2\": 20, \"cutoff\": 2}, {\"calitp_itp_id\": 376, \"trip_key\": -2873940429114937546, \"trip_id\": \"t_1083248_b_26274_tn_1\", \"shape_id\": \"p_2911\", \"route_id\": \"364\", \"service_hours\": 0.43, \"trip_first_departure_ts\": 22140, \"trip_last_arrival_ts\": 23700, \"departure_hour\": 6, \"time_of_day\": \"Owl Service\", \"p25\": 0.4, \"p50\": 0.41500000000000004, \"p75\": 0.43, \"p50_trip\": 1, \"fastest_trip\": 0, \"car_duration_hours\": 0.36, \"competitive_route\": 1, \"bus_multiplier\": 1.19, \"bus_difference\": 4.2, \"num_trips\": 48, \"num_competitive\": 48, \"pct_trips_competitive\": 1.0, \"bus_difference_spread\": 1.8, \"route_group\": \"short\", \"max_trip_hrs\": 0.43, \"max_trip_route_group\": 0.92, \"name\": \"Yuba-Sutter Transit Authority\", \"caltrans_district\": \"03 - Marysville\", \"drmt_organization_name\": null, \"cutoff2\": 20, \"cutoff\": 2}, {\"calitp_itp_id\": 376, \"trip_key\": 263775932666569757, \"trip_id\": \"t_1083248_b_26274_tn_12\", \"shape_id\": \"p_2911\", \"route_id\": \"364\", \"service_hours\": 0.43, \"trip_first_departure_ts\": 41940, \"trip_last_arrival_ts\": 43500, \"departure_hour\": 11, \"time_of_day\": \"Midday\", \"p25\": 0.4, \"p50\": 0.41500000000000004, \"p75\": 0.43, \"p50_trip\": 1, \"fastest_trip\": 0, \"car_duration_hours\": 0.36, \"competitive_route\": 1, \"bus_multiplier\": 1.19, \"bus_difference\": 4.2, \"num_trips\": 48, \"num_competitive\": 48, \"pct_trips_competitive\": 1.0, \"bus_difference_spread\": 1.8, \"route_group\": \"short\", \"max_trip_hrs\": 0.43, \"max_trip_route_group\": 0.92, \"name\": \"Yuba-Sutter Transit Authority\", \"caltrans_district\": \"03 - Marysville\", \"drmt_organization_name\": null, \"cutoff2\": 20, \"cutoff\": 2}, {\"calitp_itp_id\": 376, \"trip_key\": -4378583601607720580, \"trip_id\": \"t_1083248_b_26274_tn_11\", \"shape_id\": \"p_2911\", \"route_id\": \"364\", \"service_hours\": 0.43, \"trip_first_departure_ts\": 40140, \"trip_last_arrival_ts\": 41700, \"departure_hour\": 11, \"time_of_day\": \"Midday\", \"p25\": 0.4, \"p50\": 0.41500000000000004, \"p75\": 0.43, \"p50_trip\": 1, \"fastest_trip\": 0, \"car_duration_hours\": 0.36, \"competitive_route\": 1, \"bus_multiplier\": 1.19, \"bus_difference\": 4.2, \"num_trips\": 48, \"num_competitive\": 48, \"pct_trips_competitive\": 1.0, \"bus_difference_spread\": 1.8, \"route_group\": \"short\", \"max_trip_hrs\": 0.43, \"max_trip_route_group\": 0.92, \"name\": \"Yuba-Sutter Transit Authority\", \"caltrans_district\": \"03 - Marysville\", \"drmt_organization_name\": null, \"cutoff2\": 20, \"cutoff\": 2}]}}, {\"mode\": \"vega-lite\"});\n",
       "</script>"
      ],
      "text/plain": [
       "alt.FacetChart(...)"
      ]
     },
     "metadata": {},
     "output_type": "display_data"
    },
    {
     "data": {
      "text/html": [
       "\n",
       "<div id=\"altair-viz-9b223f5bf7e440e882b718558ce10693\"></div>\n",
       "<script type=\"text/javascript\">\n",
       "  var VEGA_DEBUG = (typeof VEGA_DEBUG == \"undefined\") ? {} : VEGA_DEBUG;\n",
       "  (function(spec, embedOpt){\n",
       "    let outputDiv = document.currentScript.previousElementSibling;\n",
       "    if (outputDiv.id !== \"altair-viz-9b223f5bf7e440e882b718558ce10693\") {\n",
       "      outputDiv = document.getElementById(\"altair-viz-9b223f5bf7e440e882b718558ce10693\");\n",
       "    }\n",
       "    const paths = {\n",
       "      \"vega\": \"https://cdn.jsdelivr.net/npm//vega@5?noext\",\n",
       "      \"vega-lib\": \"https://cdn.jsdelivr.net/npm//vega-lib?noext\",\n",
       "      \"vega-lite\": \"https://cdn.jsdelivr.net/npm//vega-lite@4.17.0?noext\",\n",
       "      \"vega-embed\": \"https://cdn.jsdelivr.net/npm//vega-embed@6?noext\",\n",
       "    };\n",
       "\n",
       "    function maybeLoadScript(lib, version) {\n",
       "      var key = `${lib.replace(\"-\", \"\")}_version`;\n",
       "      return (VEGA_DEBUG[key] == version) ?\n",
       "        Promise.resolve(paths[lib]) :\n",
       "        new Promise(function(resolve, reject) {\n",
       "          var s = document.createElement('script');\n",
       "          document.getElementsByTagName(\"head\")[0].appendChild(s);\n",
       "          s.async = true;\n",
       "          s.onload = () => {\n",
       "            VEGA_DEBUG[key] = version;\n",
       "            return resolve(paths[lib]);\n",
       "          };\n",
       "          s.onerror = () => reject(`Error loading script: ${paths[lib]}`);\n",
       "          s.src = paths[lib];\n",
       "        });\n",
       "    }\n",
       "\n",
       "    function showError(err) {\n",
       "      outputDiv.innerHTML = `<div class=\"error\" style=\"color:red;\">${err}</div>`;\n",
       "      throw err;\n",
       "    }\n",
       "\n",
       "    function displayChart(vegaEmbed) {\n",
       "      vegaEmbed(outputDiv, spec, embedOpt)\n",
       "        .catch(err => showError(`Javascript Error: ${err.message}<br>This usually means there's a typo in your chart specification. See the javascript console for the full traceback.`));\n",
       "    }\n",
       "\n",
       "    if(typeof define === \"function\" && define.amd) {\n",
       "      requirejs.config({paths});\n",
       "      require([\"vega-embed\"], displayChart, err => showError(`Error loading script: ${err.message}`));\n",
       "    } else {\n",
       "      maybeLoadScript(\"vega\", \"5\")\n",
       "        .then(() => maybeLoadScript(\"vega-lite\", \"4.17.0\"))\n",
       "        .then(() => maybeLoadScript(\"vega-embed\", \"6\"))\n",
       "        .catch(showError)\n",
       "        .then(() => displayChart(vegaEmbed));\n",
       "    }\n",
       "  })({\"config\": {\"view\": {\"continuousWidth\": 400, \"continuousHeight\": 300, \"stroke\": null}, \"facet\": {\"spacing\": 0}}, \"data\": {\"name\": \"data-7baeda231bf8b8ea08dba95c3ff505dd\"}, \"facet\": {\"column\": {\"field\": \"route_id\", \"sort\": [\"364\"], \"title\": \"Route ID\", \"type\": \"nominal\"}}, \"spec\": {\"layer\": [{\"mark\": \"rule\", \"encoding\": {\"color\": {\"value\": \"black\"}, \"y\": {\"field\": \"cutoff\", \"type\": \"quantitative\"}}, \"selection\": {\"selector002\": {\"type\": \"interval\", \"bind\": \"scales\", \"encodings\": [\"x\", \"y\"]}}}, {\"mark\": {\"type\": \"rule\", \"strokeDash\": [3, 3]}, \"encoding\": {\"color\": {\"value\": \"#323434\"}, \"y\": {\"field\": \"cutoff2\", \"type\": \"quantitative\"}}}, {\"mark\": {\"type\": \"point\", \"opacity\": 0.65, \"size\": 12, \"strokeWidth\": 1.1}, \"encoding\": {\"color\": {\"field\": \"time_of_day\", \"scale\": {\"range\": [\"#136C97\", \"#E16B26\", \"#F6BF16\", \"#00896B\", \"#7790A3\", \"#5B559C\"]}, \"sort\": [\"AM Peak\", \"Midday\", \"PM Peak\", \"Owl Service\"], \"title\": \"Time of Day\", \"type\": \"nominal\"}, \"tooltip\": [{\"field\": \"route_id\", \"type\": \"nominal\"}, {\"field\": \"trip_id\", \"type\": \"nominal\"}, {\"field\": \"service_hours\", \"type\": \"quantitative\"}, {\"field\": \"car_duration_hours\", \"type\": \"quantitative\"}, {\"field\": \"bus_multiplier\", \"type\": \"quantitative\"}, {\"field\": \"bus_difference\", \"type\": \"quantitative\"}, {\"field\": \"num_trips\", \"type\": \"quantitative\"}, {\"field\": \"num_competitive\", \"type\": \"quantitative\"}, {\"field\": \"pct_trips_competitive\", \"type\": \"quantitative\"}, {\"field\": \"p25\", \"type\": \"quantitative\"}, {\"field\": \"p50\", \"type\": \"quantitative\"}, {\"field\": \"p75\", \"type\": \"quantitative\"}], \"x\": {\"axis\": {\"grid\": false, \"labels\": false, \"ticks\": true, \"values\": [0]}, \"field\": \"jitter\", \"scale\": {}, \"title\": null, \"type\": \"quantitative\"}, \"y\": {\"field\": \"bus_difference\", \"scale\": {\"domain\": [-5, 49.2]}, \"title\": \"Difference in Bus to Car Travel Time (min)\", \"type\": \"quantitative\"}}, \"transform\": [{\"calculate\": \"sqrt(-2*log(random()))*cos(2*PI*random())\", \"as\": \"jitter\"}], \"width\": 50}, {\"layer\": [{\"mark\": {\"type\": \"point\", \"opacity\": 0.6, \"size\": 20, \"strokeWidth\": 1.3}, \"encoding\": {\"color\": {\"value\": \"#323434\"}, \"y\": {\"field\": \"bus_difference\", \"type\": \"quantitative\"}}, \"transform\": [{\"filter\": \"(datum.p50_trip === 1)\"}]}, {\"mark\": {\"type\": \"text\", \"align\": \"center\", \"baseline\": \"middle\"}, \"encoding\": {\"color\": {\"value\": \"black\"}, \"text\": {\"field\": \"pct_trips_competitive\", \"format\": \".0%\", \"type\": \"quantitative\"}, \"tooltip\": [{\"field\": \"route_id\", \"type\": \"nominal\"}, {\"field\": \"trip_id\", \"type\": \"nominal\"}, {\"field\": \"service_hours\", \"type\": \"quantitative\"}, {\"field\": \"car_duration_hours\", \"type\": \"quantitative\"}, {\"field\": \"bus_multiplier\", \"type\": \"quantitative\"}, {\"field\": \"bus_difference\", \"type\": \"quantitative\"}, {\"field\": \"num_trips\", \"type\": \"quantitative\"}, {\"field\": \"num_competitive\", \"type\": \"quantitative\"}, {\"field\": \"pct_trips_competitive\", \"type\": \"quantitative\"}, {\"field\": \"p25\", \"type\": \"quantitative\"}, {\"field\": \"p50\", \"type\": \"quantitative\"}, {\"field\": \"p75\", \"type\": \"quantitative\"}], \"x\": {\"value\": 30}, \"y\": {\"value\": 15}}, \"transform\": [{\"calculate\": \"sqrt(-2*log(random()))*cos(2*PI*random())\", \"as\": \"jitter\"}, {\"filter\": \"(datum.fastest_trip === 1)\"}]}]}]}, \"resolve\": {\"scale\": {\"y\": \"shared\"}}, \"title\": \"Difference in Bus to Car Travel Time (min)\", \"$schema\": \"https://vega.github.io/schema/vega-lite/v4.17.0.json\", \"datasets\": {\"data-7baeda231bf8b8ea08dba95c3ff505dd\": [{\"calitp_itp_id\": 376, \"trip_key\": -2107148796462475967, \"trip_id\": \"t_1083252_b_26274_tn_11\", \"shape_id\": \"p_322\", \"route_id\": \"364\", \"service_hours\": 0.4, \"trip_first_departure_ts\": 42300, \"trip_last_arrival_ts\": 43740, \"departure_hour\": 11, \"time_of_day\": \"Midday\", \"p25\": 0.4, \"p50\": 0.41500000000000004, \"p75\": 0.43, \"p50_trip\": 0, \"fastest_trip\": 0, \"car_duration_hours\": 0.36, \"competitive_route\": 1, \"bus_multiplier\": 1.11, \"bus_difference\": 2.4, \"num_trips\": 48, \"num_competitive\": 48, \"pct_trips_competitive\": 1.0, \"bus_difference_spread\": 1.8, \"route_group\": \"short\", \"max_trip_hrs\": 0.43, \"max_trip_route_group\": 0.92, \"name\": \"Yuba-Sutter Transit Authority\", \"caltrans_district\": \"03 - Marysville\", \"drmt_organization_name\": null, \"cutoff2\": 20, \"cutoff\": 0}, {\"calitp_itp_id\": 376, \"trip_key\": -48558141466476082, \"trip_id\": \"t_1083252_b_26274_tn_2\", \"shape_id\": \"p_322\", \"route_id\": \"364\", \"service_hours\": 0.4, \"trip_first_departure_ts\": 26100, \"trip_last_arrival_ts\": 27540, \"departure_hour\": 7, \"time_of_day\": \"AM Peak\", \"p25\": 0.4, \"p50\": 0.41500000000000004, \"p75\": 0.43, \"p50_trip\": 0, \"fastest_trip\": 0, \"car_duration_hours\": 0.36, \"competitive_route\": 1, \"bus_multiplier\": 1.11, \"bus_difference\": 2.4, \"num_trips\": 48, \"num_competitive\": 48, \"pct_trips_competitive\": 1.0, \"bus_difference_spread\": 1.8, \"route_group\": \"short\", \"max_trip_hrs\": 0.43, \"max_trip_route_group\": 0.92, \"name\": \"Yuba-Sutter Transit Authority\", \"caltrans_district\": \"03 - Marysville\", \"drmt_organization_name\": null, \"cutoff2\": 20, \"cutoff\": 0}, {\"calitp_itp_id\": 376, \"trip_key\": -8729760701135036540, \"trip_id\": \"t_1083252_b_26274_tn_4\", \"shape_id\": \"p_322\", \"route_id\": \"364\", \"service_hours\": 0.4, \"trip_first_departure_ts\": 29700, \"trip_last_arrival_ts\": 31140, \"departure_hour\": 8, \"time_of_day\": \"AM Peak\", \"p25\": 0.4, \"p50\": 0.41500000000000004, \"p75\": 0.43, \"p50_trip\": 0, \"fastest_trip\": 0, \"car_duration_hours\": 0.36, \"competitive_route\": 1, \"bus_multiplier\": 1.11, \"bus_difference\": 2.4, \"num_trips\": 48, \"num_competitive\": 48, \"pct_trips_competitive\": 1.0, \"bus_difference_spread\": 1.8, \"route_group\": \"short\", \"max_trip_hrs\": 0.43, \"max_trip_route_group\": 0.92, \"name\": \"Yuba-Sutter Transit Authority\", \"caltrans_district\": \"03 - Marysville\", \"drmt_organization_name\": null, \"cutoff2\": 20, \"cutoff\": 0}, {\"calitp_itp_id\": 376, \"trip_key\": -868977418467878594, \"trip_id\": \"t_1083252_b_26274_tn_15\", \"shape_id\": \"p_322\", \"route_id\": \"364\", \"service_hours\": 0.4, \"trip_first_departure_ts\": 49500, \"trip_last_arrival_ts\": 50940, \"departure_hour\": 13, \"time_of_day\": \"Midday\", \"p25\": 0.4, \"p50\": 0.41500000000000004, \"p75\": 0.43, \"p50_trip\": 0, \"fastest_trip\": 0, \"car_duration_hours\": 0.36, \"competitive_route\": 1, \"bus_multiplier\": 1.11, \"bus_difference\": 2.4, \"num_trips\": 48, \"num_competitive\": 48, \"pct_trips_competitive\": 1.0, \"bus_difference_spread\": 1.8, \"route_group\": \"short\", \"max_trip_hrs\": 0.43, \"max_trip_route_group\": 0.92, \"name\": \"Yuba-Sutter Transit Authority\", \"caltrans_district\": \"03 - Marysville\", \"drmt_organization_name\": null, \"cutoff2\": 20, \"cutoff\": 0}, {\"calitp_itp_id\": 376, \"trip_key\": 7197936461474064770, \"trip_id\": \"t_1083252_b_26274_tn_13\", \"shape_id\": \"p_322\", \"route_id\": \"364\", \"service_hours\": 0.4, \"trip_first_departure_ts\": 45900, \"trip_last_arrival_ts\": 47340, \"departure_hour\": 12, \"time_of_day\": \"Midday\", \"p25\": 0.4, \"p50\": 0.41500000000000004, \"p75\": 0.43, \"p50_trip\": 0, \"fastest_trip\": 0, \"car_duration_hours\": 0.36, \"competitive_route\": 1, \"bus_multiplier\": 1.11, \"bus_difference\": 2.4, \"num_trips\": 48, \"num_competitive\": 48, \"pct_trips_competitive\": 1.0, \"bus_difference_spread\": 1.8, \"route_group\": \"short\", \"max_trip_hrs\": 0.43, \"max_trip_route_group\": 0.92, \"name\": \"Yuba-Sutter Transit Authority\", \"caltrans_district\": \"03 - Marysville\", \"drmt_organization_name\": null, \"cutoff2\": 20, \"cutoff\": 0}, {\"calitp_itp_id\": 376, \"trip_key\": 5710050260551900879, \"trip_id\": \"t_1083252_b_26274_tn_3\", \"shape_id\": \"p_322\", \"route_id\": \"364\", \"service_hours\": 0.4, \"trip_first_departure_ts\": 27900, \"trip_last_arrival_ts\": 29340, \"departure_hour\": 7, \"time_of_day\": \"AM Peak\", \"p25\": 0.4, \"p50\": 0.41500000000000004, \"p75\": 0.43, \"p50_trip\": 0, \"fastest_trip\": 0, \"car_duration_hours\": 0.36, \"competitive_route\": 1, \"bus_multiplier\": 1.11, \"bus_difference\": 2.4, \"num_trips\": 48, \"num_competitive\": 48, \"pct_trips_competitive\": 1.0, \"bus_difference_spread\": 1.8, \"route_group\": \"short\", \"max_trip_hrs\": 0.43, \"max_trip_route_group\": 0.92, \"name\": \"Yuba-Sutter Transit Authority\", \"caltrans_district\": \"03 - Marysville\", \"drmt_organization_name\": null, \"cutoff2\": 20, \"cutoff\": 0}, {\"calitp_itp_id\": 376, \"trip_key\": 8332005515460261964, \"trip_id\": \"t_1083252_b_26274_tn_24\", \"shape_id\": \"p_322\", \"route_id\": \"364\", \"service_hours\": 0.4, \"trip_first_departure_ts\": 65700, \"trip_last_arrival_ts\": 67140, \"departure_hour\": 18, \"time_of_day\": \"PM Peak\", \"p25\": 0.4, \"p50\": 0.41500000000000004, \"p75\": 0.43, \"p50_trip\": 0, \"fastest_trip\": 1, \"car_duration_hours\": 0.36, \"competitive_route\": 1, \"bus_multiplier\": 1.11, \"bus_difference\": 2.4, \"num_trips\": 48, \"num_competitive\": 48, \"pct_trips_competitive\": 1.0, \"bus_difference_spread\": 1.8, \"route_group\": \"short\", \"max_trip_hrs\": 0.43, \"max_trip_route_group\": 0.92, \"name\": \"Yuba-Sutter Transit Authority\", \"caltrans_district\": \"03 - Marysville\", \"drmt_organization_name\": null, \"cutoff2\": 20, \"cutoff\": 0}, {\"calitp_itp_id\": 376, \"trip_key\": -5997556363842654135, \"trip_id\": \"t_1083252_b_26274_tn_5\", \"shape_id\": \"p_322\", \"route_id\": \"364\", \"service_hours\": 0.4, \"trip_first_departure_ts\": 31500, \"trip_last_arrival_ts\": 32940, \"departure_hour\": 8, \"time_of_day\": \"AM Peak\", \"p25\": 0.4, \"p50\": 0.41500000000000004, \"p75\": 0.43, \"p50_trip\": 0, \"fastest_trip\": 0, \"car_duration_hours\": 0.36, \"competitive_route\": 1, \"bus_multiplier\": 1.11, \"bus_difference\": 2.4, \"num_trips\": 48, \"num_competitive\": 48, \"pct_trips_competitive\": 1.0, \"bus_difference_spread\": 1.8, \"route_group\": \"short\", \"max_trip_hrs\": 0.43, \"max_trip_route_group\": 0.92, \"name\": \"Yuba-Sutter Transit Authority\", \"caltrans_district\": \"03 - Marysville\", \"drmt_organization_name\": null, \"cutoff2\": 20, \"cutoff\": 0}, {\"calitp_itp_id\": 376, \"trip_key\": -1921299909533956801, \"trip_id\": \"t_1083252_b_26274_tn_7\", \"shape_id\": \"p_322\", \"route_id\": \"364\", \"service_hours\": 0.4, \"trip_first_departure_ts\": 35100, \"trip_last_arrival_ts\": 36540, \"departure_hour\": 9, \"time_of_day\": \"AM Peak\", \"p25\": 0.4, \"p50\": 0.41500000000000004, \"p75\": 0.43, \"p50_trip\": 0, \"fastest_trip\": 0, \"car_duration_hours\": 0.36, \"competitive_route\": 1, \"bus_multiplier\": 1.11, \"bus_difference\": 2.4, \"num_trips\": 48, \"num_competitive\": 48, \"pct_trips_competitive\": 1.0, \"bus_difference_spread\": 1.8, \"route_group\": \"short\", \"max_trip_hrs\": 0.43, \"max_trip_route_group\": 0.92, \"name\": \"Yuba-Sutter Transit Authority\", \"caltrans_district\": \"03 - Marysville\", \"drmt_organization_name\": null, \"cutoff2\": 20, \"cutoff\": 0}, {\"calitp_itp_id\": 376, \"trip_key\": 7457131460169109350, \"trip_id\": \"t_1083252_b_26274_tn_1\", \"shape_id\": \"p_322\", \"route_id\": \"364\", \"service_hours\": 0.4, \"trip_first_departure_ts\": 24300, \"trip_last_arrival_ts\": 25740, \"departure_hour\": 6, \"time_of_day\": \"Owl Service\", \"p25\": 0.4, \"p50\": 0.41500000000000004, \"p75\": 0.43, \"p50_trip\": 0, \"fastest_trip\": 0, \"car_duration_hours\": 0.36, \"competitive_route\": 1, \"bus_multiplier\": 1.11, \"bus_difference\": 2.4, \"num_trips\": 48, \"num_competitive\": 48, \"pct_trips_competitive\": 1.0, \"bus_difference_spread\": 1.8, \"route_group\": \"short\", \"max_trip_hrs\": 0.43, \"max_trip_route_group\": 0.92, \"name\": \"Yuba-Sutter Transit Authority\", \"caltrans_district\": \"03 - Marysville\", \"drmt_organization_name\": null, \"cutoff2\": 20, \"cutoff\": 0}, {\"calitp_itp_id\": 376, \"trip_key\": 7992874538027682455, \"trip_id\": \"t_1083252_b_26274_tn_17\", \"shape_id\": \"p_322\", \"route_id\": \"364\", \"service_hours\": 0.4, \"trip_first_departure_ts\": 53100, \"trip_last_arrival_ts\": 54540, \"departure_hour\": 14, \"time_of_day\": \"Midday\", \"p25\": 0.4, \"p50\": 0.41500000000000004, \"p75\": 0.43, \"p50_trip\": 0, \"fastest_trip\": 0, \"car_duration_hours\": 0.36, \"competitive_route\": 1, \"bus_multiplier\": 1.11, \"bus_difference\": 2.4, \"num_trips\": 48, \"num_competitive\": 48, \"pct_trips_competitive\": 1.0, \"bus_difference_spread\": 1.8, \"route_group\": \"short\", \"max_trip_hrs\": 0.43, \"max_trip_route_group\": 0.92, \"name\": \"Yuba-Sutter Transit Authority\", \"caltrans_district\": \"03 - Marysville\", \"drmt_organization_name\": null, \"cutoff2\": 20, \"cutoff\": 0}, {\"calitp_itp_id\": 376, \"trip_key\": -1223562494300379121, \"trip_id\": \"t_1083252_b_26274_tn_18\", \"shape_id\": \"p_322\", \"route_id\": \"364\", \"service_hours\": 0.4, \"trip_first_departure_ts\": 54900, \"trip_last_arrival_ts\": 56340, \"departure_hour\": 15, \"time_of_day\": \"Midday\", \"p25\": 0.4, \"p50\": 0.41500000000000004, \"p75\": 0.43, \"p50_trip\": 0, \"fastest_trip\": 0, \"car_duration_hours\": 0.36, \"competitive_route\": 1, \"bus_multiplier\": 1.11, \"bus_difference\": 2.4, \"num_trips\": 48, \"num_competitive\": 48, \"pct_trips_competitive\": 1.0, \"bus_difference_spread\": 1.8, \"route_group\": \"short\", \"max_trip_hrs\": 0.43, \"max_trip_route_group\": 0.92, \"name\": \"Yuba-Sutter Transit Authority\", \"caltrans_district\": \"03 - Marysville\", \"drmt_organization_name\": null, \"cutoff2\": 20, \"cutoff\": 0}, {\"calitp_itp_id\": 376, \"trip_key\": 2118425058260583978, \"trip_id\": \"t_1083252_b_26274_tn_16\", \"shape_id\": \"p_322\", \"route_id\": \"364\", \"service_hours\": 0.4, \"trip_first_departure_ts\": 51300, \"trip_last_arrival_ts\": 52740, \"departure_hour\": 14, \"time_of_day\": \"Midday\", \"p25\": 0.4, \"p50\": 0.41500000000000004, \"p75\": 0.43, \"p50_trip\": 0, \"fastest_trip\": 0, \"car_duration_hours\": 0.36, \"competitive_route\": 1, \"bus_multiplier\": 1.11, \"bus_difference\": 2.4, \"num_trips\": 48, \"num_competitive\": 48, \"pct_trips_competitive\": 1.0, \"bus_difference_spread\": 1.8, \"route_group\": \"short\", \"max_trip_hrs\": 0.43, \"max_trip_route_group\": 0.92, \"name\": \"Yuba-Sutter Transit Authority\", \"caltrans_district\": \"03 - Marysville\", \"drmt_organization_name\": null, \"cutoff2\": 20, \"cutoff\": 0}, {\"calitp_itp_id\": 376, \"trip_key\": -6601336790477031015, \"trip_id\": \"t_1083252_b_26274_tn_22\", \"shape_id\": \"p_322\", \"route_id\": \"364\", \"service_hours\": 0.4, \"trip_first_departure_ts\": 62100, \"trip_last_arrival_ts\": 63540, \"departure_hour\": 17, \"time_of_day\": \"PM Peak\", \"p25\": 0.4, \"p50\": 0.41500000000000004, \"p75\": 0.43, \"p50_trip\": 0, \"fastest_trip\": 0, \"car_duration_hours\": 0.36, \"competitive_route\": 1, \"bus_multiplier\": 1.11, \"bus_difference\": 2.4, \"num_trips\": 48, \"num_competitive\": 48, \"pct_trips_competitive\": 1.0, \"bus_difference_spread\": 1.8, \"route_group\": \"short\", \"max_trip_hrs\": 0.43, \"max_trip_route_group\": 0.92, \"name\": \"Yuba-Sutter Transit Authority\", \"caltrans_district\": \"03 - Marysville\", \"drmt_organization_name\": null, \"cutoff2\": 20, \"cutoff\": 0}, {\"calitp_itp_id\": 376, \"trip_key\": 1084805059173466666, \"trip_id\": \"t_1083252_b_26274_tn_9\", \"shape_id\": \"p_322\", \"route_id\": \"364\", \"service_hours\": 0.4, \"trip_first_departure_ts\": 38700, \"trip_last_arrival_ts\": 40140, \"departure_hour\": 10, \"time_of_day\": \"Midday\", \"p25\": 0.4, \"p50\": 0.41500000000000004, \"p75\": 0.43, \"p50_trip\": 0, \"fastest_trip\": 0, \"car_duration_hours\": 0.36, \"competitive_route\": 1, \"bus_multiplier\": 1.11, \"bus_difference\": 2.4, \"num_trips\": 48, \"num_competitive\": 48, \"pct_trips_competitive\": 1.0, \"bus_difference_spread\": 1.8, \"route_group\": \"short\", \"max_trip_hrs\": 0.43, \"max_trip_route_group\": 0.92, \"name\": \"Yuba-Sutter Transit Authority\", \"caltrans_district\": \"03 - Marysville\", \"drmt_organization_name\": null, \"cutoff2\": 20, \"cutoff\": 0}, {\"calitp_itp_id\": 376, \"trip_key\": 8649530108167023433, \"trip_id\": \"t_1083252_b_26274_tn_21\", \"shape_id\": \"p_322\", \"route_id\": \"364\", \"service_hours\": 0.4, \"trip_first_departure_ts\": 60300, \"trip_last_arrival_ts\": 61740, \"departure_hour\": 16, \"time_of_day\": \"Midday\", \"p25\": 0.4, \"p50\": 0.41500000000000004, \"p75\": 0.43, \"p50_trip\": 0, \"fastest_trip\": 0, \"car_duration_hours\": 0.36, \"competitive_route\": 1, \"bus_multiplier\": 1.11, \"bus_difference\": 2.4, \"num_trips\": 48, \"num_competitive\": 48, \"pct_trips_competitive\": 1.0, \"bus_difference_spread\": 1.8, \"route_group\": \"short\", \"max_trip_hrs\": 0.43, \"max_trip_route_group\": 0.92, \"name\": \"Yuba-Sutter Transit Authority\", \"caltrans_district\": \"03 - Marysville\", \"drmt_organization_name\": null, \"cutoff2\": 20, \"cutoff\": 0}, {\"calitp_itp_id\": 376, \"trip_key\": 3847087371010932803, \"trip_id\": \"t_1083252_b_26274_tn_19\", \"shape_id\": \"p_322\", \"route_id\": \"364\", \"service_hours\": 0.4, \"trip_first_departure_ts\": 56700, \"trip_last_arrival_ts\": 58140, \"departure_hour\": 15, \"time_of_day\": \"Midday\", \"p25\": 0.4, \"p50\": 0.41500000000000004, \"p75\": 0.43, \"p50_trip\": 0, \"fastest_trip\": 0, \"car_duration_hours\": 0.36, \"competitive_route\": 1, \"bus_multiplier\": 1.11, \"bus_difference\": 2.4, \"num_trips\": 48, \"num_competitive\": 48, \"pct_trips_competitive\": 1.0, \"bus_difference_spread\": 1.8, \"route_group\": \"short\", \"max_trip_hrs\": 0.43, \"max_trip_route_group\": 0.92, \"name\": \"Yuba-Sutter Transit Authority\", \"caltrans_district\": \"03 - Marysville\", \"drmt_organization_name\": null, \"cutoff2\": 20, \"cutoff\": 0}, {\"calitp_itp_id\": 376, \"trip_key\": -8703717727965134118, \"trip_id\": \"t_1083252_b_26274_tn_6\", \"shape_id\": \"p_322\", \"route_id\": \"364\", \"service_hours\": 0.4, \"trip_first_departure_ts\": 33300, \"trip_last_arrival_ts\": 34740, \"departure_hour\": 9, \"time_of_day\": \"AM Peak\", \"p25\": 0.4, \"p50\": 0.41500000000000004, \"p75\": 0.43, \"p50_trip\": 0, \"fastest_trip\": 0, \"car_duration_hours\": 0.36, \"competitive_route\": 1, \"bus_multiplier\": 1.11, \"bus_difference\": 2.4, \"num_trips\": 48, \"num_competitive\": 48, \"pct_trips_competitive\": 1.0, \"bus_difference_spread\": 1.8, \"route_group\": \"short\", \"max_trip_hrs\": 0.43, \"max_trip_route_group\": 0.92, \"name\": \"Yuba-Sutter Transit Authority\", \"caltrans_district\": \"03 - Marysville\", \"drmt_organization_name\": null, \"cutoff2\": 20, \"cutoff\": 0}, {\"calitp_itp_id\": 376, \"trip_key\": 2372007060291924837, \"trip_id\": \"t_1083252_b_26274_tn_8\", \"shape_id\": \"p_322\", \"route_id\": \"364\", \"service_hours\": 0.4, \"trip_first_departure_ts\": 36900, \"trip_last_arrival_ts\": 38340, \"departure_hour\": 10, \"time_of_day\": \"Midday\", \"p25\": 0.4, \"p50\": 0.41500000000000004, \"p75\": 0.43, \"p50_trip\": 0, \"fastest_trip\": 0, \"car_duration_hours\": 0.36, \"competitive_route\": 1, \"bus_multiplier\": 1.11, \"bus_difference\": 2.4, \"num_trips\": 48, \"num_competitive\": 48, \"pct_trips_competitive\": 1.0, \"bus_difference_spread\": 1.8, \"route_group\": \"short\", \"max_trip_hrs\": 0.43, \"max_trip_route_group\": 0.92, \"name\": \"Yuba-Sutter Transit Authority\", \"caltrans_district\": \"03 - Marysville\", \"drmt_organization_name\": null, \"cutoff2\": 20, \"cutoff\": 0}, {\"calitp_itp_id\": 376, \"trip_key\": 6885216730504000170, \"trip_id\": \"t_1083252_b_26274_tn_14\", \"shape_id\": \"p_322\", \"route_id\": \"364\", \"service_hours\": 0.4, \"trip_first_departure_ts\": 47700, \"trip_last_arrival_ts\": 49140, \"departure_hour\": 13, \"time_of_day\": \"Midday\", \"p25\": 0.4, \"p50\": 0.41500000000000004, \"p75\": 0.43, \"p50_trip\": 0, \"fastest_trip\": 0, \"car_duration_hours\": 0.36, \"competitive_route\": 1, \"bus_multiplier\": 1.11, \"bus_difference\": 2.4, \"num_trips\": 48, \"num_competitive\": 48, \"pct_trips_competitive\": 1.0, \"bus_difference_spread\": 1.8, \"route_group\": \"short\", \"max_trip_hrs\": 0.43, \"max_trip_route_group\": 0.92, \"name\": \"Yuba-Sutter Transit Authority\", \"caltrans_district\": \"03 - Marysville\", \"drmt_organization_name\": null, \"cutoff2\": 20, \"cutoff\": 0}, {\"calitp_itp_id\": 376, \"trip_key\": -6960913062484974351, \"trip_id\": \"t_1083252_b_26274_tn_10\", \"shape_id\": \"p_322\", \"route_id\": \"364\", \"service_hours\": 0.4, \"trip_first_departure_ts\": 40500, \"trip_last_arrival_ts\": 41940, \"departure_hour\": 11, \"time_of_day\": \"Midday\", \"p25\": 0.4, \"p50\": 0.41500000000000004, \"p75\": 0.43, \"p50_trip\": 0, \"fastest_trip\": 0, \"car_duration_hours\": 0.36, \"competitive_route\": 1, \"bus_multiplier\": 1.11, \"bus_difference\": 2.4, \"num_trips\": 48, \"num_competitive\": 48, \"pct_trips_competitive\": 1.0, \"bus_difference_spread\": 1.8, \"route_group\": \"short\", \"max_trip_hrs\": 0.43, \"max_trip_route_group\": 0.92, \"name\": \"Yuba-Sutter Transit Authority\", \"caltrans_district\": \"03 - Marysville\", \"drmt_organization_name\": null, \"cutoff2\": 20, \"cutoff\": 0}, {\"calitp_itp_id\": 376, \"trip_key\": 213142810520906809, \"trip_id\": \"t_1083252_b_26274_tn_23\", \"shape_id\": \"p_322\", \"route_id\": \"364\", \"service_hours\": 0.4, \"trip_first_departure_ts\": 63900, \"trip_last_arrival_ts\": 65340, \"departure_hour\": 17, \"time_of_day\": \"PM Peak\", \"p25\": 0.4, \"p50\": 0.41500000000000004, \"p75\": 0.43, \"p50_trip\": 0, \"fastest_trip\": 0, \"car_duration_hours\": 0.36, \"competitive_route\": 1, \"bus_multiplier\": 1.11, \"bus_difference\": 2.4, \"num_trips\": 48, \"num_competitive\": 48, \"pct_trips_competitive\": 1.0, \"bus_difference_spread\": 1.8, \"route_group\": \"short\", \"max_trip_hrs\": 0.43, \"max_trip_route_group\": 0.92, \"name\": \"Yuba-Sutter Transit Authority\", \"caltrans_district\": \"03 - Marysville\", \"drmt_organization_name\": null, \"cutoff2\": 20, \"cutoff\": 0}, {\"calitp_itp_id\": 376, \"trip_key\": 4493334390392867068, \"trip_id\": \"t_1083252_b_26274_tn_20\", \"shape_id\": \"p_322\", \"route_id\": \"364\", \"service_hours\": 0.4, \"trip_first_departure_ts\": 58500, \"trip_last_arrival_ts\": 59940, \"departure_hour\": 16, \"time_of_day\": \"Midday\", \"p25\": 0.4, \"p50\": 0.41500000000000004, \"p75\": 0.43, \"p50_trip\": 0, \"fastest_trip\": 0, \"car_duration_hours\": 0.36, \"competitive_route\": 1, \"bus_multiplier\": 1.11, \"bus_difference\": 2.4, \"num_trips\": 48, \"num_competitive\": 48, \"pct_trips_competitive\": 1.0, \"bus_difference_spread\": 1.8, \"route_group\": \"short\", \"max_trip_hrs\": 0.43, \"max_trip_route_group\": 0.92, \"name\": \"Yuba-Sutter Transit Authority\", \"caltrans_district\": \"03 - Marysville\", \"drmt_organization_name\": null, \"cutoff2\": 20, \"cutoff\": 0}, {\"calitp_itp_id\": 376, \"trip_key\": -917205350893781601, \"trip_id\": \"t_1083252_b_26274_tn_12\", \"shape_id\": \"p_322\", \"route_id\": \"364\", \"service_hours\": 0.4, \"trip_first_departure_ts\": 44100, \"trip_last_arrival_ts\": 45540, \"departure_hour\": 12, \"time_of_day\": \"Midday\", \"p25\": 0.4, \"p50\": 0.41500000000000004, \"p75\": 0.43, \"p50_trip\": 0, \"fastest_trip\": 0, \"car_duration_hours\": 0.36, \"competitive_route\": 1, \"bus_multiplier\": 1.11, \"bus_difference\": 2.4, \"num_trips\": 48, \"num_competitive\": 48, \"pct_trips_competitive\": 1.0, \"bus_difference_spread\": 1.8, \"route_group\": \"short\", \"max_trip_hrs\": 0.43, \"max_trip_route_group\": 0.92, \"name\": \"Yuba-Sutter Transit Authority\", \"caltrans_district\": \"03 - Marysville\", \"drmt_organization_name\": null, \"cutoff2\": 20, \"cutoff\": 0}, {\"calitp_itp_id\": 376, \"trip_key\": -6749187564821018335, \"trip_id\": \"t_1083248_b_26274_tn_16\", \"shape_id\": \"p_2911\", \"route_id\": \"364\", \"service_hours\": 0.43, \"trip_first_departure_ts\": 49140, \"trip_last_arrival_ts\": 50700, \"departure_hour\": 13, \"time_of_day\": \"Midday\", \"p25\": 0.4, \"p50\": 0.41500000000000004, \"p75\": 0.43, \"p50_trip\": 1, \"fastest_trip\": 0, \"car_duration_hours\": 0.36, \"competitive_route\": 1, \"bus_multiplier\": 1.19, \"bus_difference\": 4.2, \"num_trips\": 48, \"num_competitive\": 48, \"pct_trips_competitive\": 1.0, \"bus_difference_spread\": 1.8, \"route_group\": \"short\", \"max_trip_hrs\": 0.43, \"max_trip_route_group\": 0.92, \"name\": \"Yuba-Sutter Transit Authority\", \"caltrans_district\": \"03 - Marysville\", \"drmt_organization_name\": null, \"cutoff2\": 20, \"cutoff\": 0}, {\"calitp_itp_id\": 376, \"trip_key\": -7450415130204694526, \"trip_id\": \"t_1083248_b_26274_tn_6\", \"shape_id\": \"p_2911\", \"route_id\": \"364\", \"service_hours\": 0.43, \"trip_first_departure_ts\": 31140, \"trip_last_arrival_ts\": 32700, \"departure_hour\": 8, \"time_of_day\": \"AM Peak\", \"p25\": 0.4, \"p50\": 0.41500000000000004, \"p75\": 0.43, \"p50_trip\": 1, \"fastest_trip\": 0, \"car_duration_hours\": 0.36, \"competitive_route\": 1, \"bus_multiplier\": 1.19, \"bus_difference\": 4.2, \"num_trips\": 48, \"num_competitive\": 48, \"pct_trips_competitive\": 1.0, \"bus_difference_spread\": 1.8, \"route_group\": \"short\", \"max_trip_hrs\": 0.43, \"max_trip_route_group\": 0.92, \"name\": \"Yuba-Sutter Transit Authority\", \"caltrans_district\": \"03 - Marysville\", \"drmt_organization_name\": null, \"cutoff2\": 20, \"cutoff\": 0}, {\"calitp_itp_id\": 376, \"trip_key\": -8500306905025241966, \"trip_id\": \"t_1083248_b_26274_tn_21\", \"shape_id\": \"p_2911\", \"route_id\": \"364\", \"service_hours\": 0.43, \"trip_first_departure_ts\": 58140, \"trip_last_arrival_ts\": 59700, \"departure_hour\": 16, \"time_of_day\": \"Midday\", \"p25\": 0.4, \"p50\": 0.41500000000000004, \"p75\": 0.43, \"p50_trip\": 1, \"fastest_trip\": 0, \"car_duration_hours\": 0.36, \"competitive_route\": 1, \"bus_multiplier\": 1.19, \"bus_difference\": 4.2, \"num_trips\": 48, \"num_competitive\": 48, \"pct_trips_competitive\": 1.0, \"bus_difference_spread\": 1.8, \"route_group\": \"short\", \"max_trip_hrs\": 0.43, \"max_trip_route_group\": 0.92, \"name\": \"Yuba-Sutter Transit Authority\", \"caltrans_district\": \"03 - Marysville\", \"drmt_organization_name\": null, \"cutoff2\": 20, \"cutoff\": 0}, {\"calitp_itp_id\": 376, \"trip_key\": -4580617847621287517, \"trip_id\": \"t_1083248_b_26274_tn_7\", \"shape_id\": \"p_2911\", \"route_id\": \"364\", \"service_hours\": 0.43, \"trip_first_departure_ts\": 32940, \"trip_last_arrival_ts\": 34500, \"departure_hour\": 9, \"time_of_day\": \"AM Peak\", \"p25\": 0.4, \"p50\": 0.41500000000000004, \"p75\": 0.43, \"p50_trip\": 1, \"fastest_trip\": 0, \"car_duration_hours\": 0.36, \"competitive_route\": 1, \"bus_multiplier\": 1.19, \"bus_difference\": 4.2, \"num_trips\": 48, \"num_competitive\": 48, \"pct_trips_competitive\": 1.0, \"bus_difference_spread\": 1.8, \"route_group\": \"short\", \"max_trip_hrs\": 0.43, \"max_trip_route_group\": 0.92, \"name\": \"Yuba-Sutter Transit Authority\", \"caltrans_district\": \"03 - Marysville\", \"drmt_organization_name\": null, \"cutoff2\": 20, \"cutoff\": 0}, {\"calitp_itp_id\": 376, \"trip_key\": 1232306488662524286, \"trip_id\": \"t_1083248_b_26274_tn_9\", \"shape_id\": \"p_2911\", \"route_id\": \"364\", \"service_hours\": 0.43, \"trip_first_departure_ts\": 36540, \"trip_last_arrival_ts\": 38100, \"departure_hour\": 10, \"time_of_day\": \"Midday\", \"p25\": 0.4, \"p50\": 0.41500000000000004, \"p75\": 0.43, \"p50_trip\": 1, \"fastest_trip\": 0, \"car_duration_hours\": 0.36, \"competitive_route\": 1, \"bus_multiplier\": 1.19, \"bus_difference\": 4.2, \"num_trips\": 48, \"num_competitive\": 48, \"pct_trips_competitive\": 1.0, \"bus_difference_spread\": 1.8, \"route_group\": \"short\", \"max_trip_hrs\": 0.43, \"max_trip_route_group\": 0.92, \"name\": \"Yuba-Sutter Transit Authority\", \"caltrans_district\": \"03 - Marysville\", \"drmt_organization_name\": null, \"cutoff2\": 20, \"cutoff\": 0}, {\"calitp_itp_id\": 376, \"trip_key\": -7768367124350112451, \"trip_id\": \"t_1083248_b_26274_tn_8\", \"shape_id\": \"p_2911\", \"route_id\": \"364\", \"service_hours\": 0.43, \"trip_first_departure_ts\": 34740, \"trip_last_arrival_ts\": 36300, \"departure_hour\": 9, \"time_of_day\": \"AM Peak\", \"p25\": 0.4, \"p50\": 0.41500000000000004, \"p75\": 0.43, \"p50_trip\": 1, \"fastest_trip\": 0, \"car_duration_hours\": 0.36, \"competitive_route\": 1, \"bus_multiplier\": 1.19, \"bus_difference\": 4.2, \"num_trips\": 48, \"num_competitive\": 48, \"pct_trips_competitive\": 1.0, \"bus_difference_spread\": 1.8, \"route_group\": \"short\", \"max_trip_hrs\": 0.43, \"max_trip_route_group\": 0.92, \"name\": \"Yuba-Sutter Transit Authority\", \"caltrans_district\": \"03 - Marysville\", \"drmt_organization_name\": null, \"cutoff2\": 20, \"cutoff\": 0}, {\"calitp_itp_id\": 376, \"trip_key\": -1715236440476248176, \"trip_id\": \"t_1083248_b_26274_tn_13\", \"shape_id\": \"p_2911\", \"route_id\": \"364\", \"service_hours\": 0.43, \"trip_first_departure_ts\": 43740, \"trip_last_arrival_ts\": 45300, \"departure_hour\": 12, \"time_of_day\": \"Midday\", \"p25\": 0.4, \"p50\": 0.41500000000000004, \"p75\": 0.43, \"p50_trip\": 1, \"fastest_trip\": 0, \"car_duration_hours\": 0.36, \"competitive_route\": 1, \"bus_multiplier\": 1.19, \"bus_difference\": 4.2, \"num_trips\": 48, \"num_competitive\": 48, \"pct_trips_competitive\": 1.0, \"bus_difference_spread\": 1.8, \"route_group\": \"short\", \"max_trip_hrs\": 0.43, \"max_trip_route_group\": 0.92, \"name\": \"Yuba-Sutter Transit Authority\", \"caltrans_district\": \"03 - Marysville\", \"drmt_organization_name\": null, \"cutoff2\": 20, \"cutoff\": 0}, {\"calitp_itp_id\": 376, \"trip_key\": -2096212256912014655, \"trip_id\": \"t_1083248_b_26274_tn_3\", \"shape_id\": \"p_2911\", \"route_id\": \"364\", \"service_hours\": 0.43, \"trip_first_departure_ts\": 25740, \"trip_last_arrival_ts\": 27300, \"departure_hour\": 7, \"time_of_day\": \"AM Peak\", \"p25\": 0.4, \"p50\": 0.41500000000000004, \"p75\": 0.43, \"p50_trip\": 1, \"fastest_trip\": 0, \"car_duration_hours\": 0.36, \"competitive_route\": 1, \"bus_multiplier\": 1.19, \"bus_difference\": 4.2, \"num_trips\": 48, \"num_competitive\": 48, \"pct_trips_competitive\": 1.0, \"bus_difference_spread\": 1.8, \"route_group\": \"short\", \"max_trip_hrs\": 0.43, \"max_trip_route_group\": 0.92, \"name\": \"Yuba-Sutter Transit Authority\", \"caltrans_district\": \"03 - Marysville\", \"drmt_organization_name\": null, \"cutoff2\": 20, \"cutoff\": 0}, {\"calitp_itp_id\": 376, \"trip_key\": -1760686435649621079, \"trip_id\": \"t_1083248_b_26274_tn_20\", \"shape_id\": \"p_2911\", \"route_id\": \"364\", \"service_hours\": 0.43, \"trip_first_departure_ts\": 56340, \"trip_last_arrival_ts\": 57900, \"departure_hour\": 15, \"time_of_day\": \"Midday\", \"p25\": 0.4, \"p50\": 0.41500000000000004, \"p75\": 0.43, \"p50_trip\": 1, \"fastest_trip\": 0, \"car_duration_hours\": 0.36, \"competitive_route\": 1, \"bus_multiplier\": 1.19, \"bus_difference\": 4.2, \"num_trips\": 48, \"num_competitive\": 48, \"pct_trips_competitive\": 1.0, \"bus_difference_spread\": 1.8, \"route_group\": \"short\", \"max_trip_hrs\": 0.43, \"max_trip_route_group\": 0.92, \"name\": \"Yuba-Sutter Transit Authority\", \"caltrans_district\": \"03 - Marysville\", \"drmt_organization_name\": null, \"cutoff2\": 20, \"cutoff\": 0}, {\"calitp_itp_id\": 376, \"trip_key\": 8147948563950561808, \"trip_id\": \"t_1083248_b_26274_tn_22\", \"shape_id\": \"p_2911\", \"route_id\": \"364\", \"service_hours\": 0.43, \"trip_first_departure_ts\": 59940, \"trip_last_arrival_ts\": 61500, \"departure_hour\": 16, \"time_of_day\": \"Midday\", \"p25\": 0.4, \"p50\": 0.41500000000000004, \"p75\": 0.43, \"p50_trip\": 1, \"fastest_trip\": 0, \"car_duration_hours\": 0.36, \"competitive_route\": 1, \"bus_multiplier\": 1.19, \"bus_difference\": 4.2, \"num_trips\": 48, \"num_competitive\": 48, \"pct_trips_competitive\": 1.0, \"bus_difference_spread\": 1.8, \"route_group\": \"short\", \"max_trip_hrs\": 0.43, \"max_trip_route_group\": 0.92, \"name\": \"Yuba-Sutter Transit Authority\", \"caltrans_district\": \"03 - Marysville\", \"drmt_organization_name\": null, \"cutoff2\": 20, \"cutoff\": 0}, {\"calitp_itp_id\": 376, \"trip_key\": 4616253033031700469, \"trip_id\": \"t_1083248_b_26274_tn_17\", \"shape_id\": \"p_2911\", \"route_id\": \"364\", \"service_hours\": 0.43, \"trip_first_departure_ts\": 50940, \"trip_last_arrival_ts\": 52500, \"departure_hour\": 14, \"time_of_day\": \"Midday\", \"p25\": 0.4, \"p50\": 0.41500000000000004, \"p75\": 0.43, \"p50_trip\": 1, \"fastest_trip\": 0, \"car_duration_hours\": 0.36, \"competitive_route\": 1, \"bus_multiplier\": 1.19, \"bus_difference\": 4.2, \"num_trips\": 48, \"num_competitive\": 48, \"pct_trips_competitive\": 1.0, \"bus_difference_spread\": 1.8, \"route_group\": \"short\", \"max_trip_hrs\": 0.43, \"max_trip_route_group\": 0.92, \"name\": \"Yuba-Sutter Transit Authority\", \"caltrans_district\": \"03 - Marysville\", \"drmt_organization_name\": null, \"cutoff2\": 20, \"cutoff\": 0}, {\"calitp_itp_id\": 376, \"trip_key\": 5620099728374676621, \"trip_id\": \"t_1083248_b_26274_tn_18\", \"shape_id\": \"p_2911\", \"route_id\": \"364\", \"service_hours\": 0.43, \"trip_first_departure_ts\": 52740, \"trip_last_arrival_ts\": 54300, \"departure_hour\": 14, \"time_of_day\": \"Midday\", \"p25\": 0.4, \"p50\": 0.41500000000000004, \"p75\": 0.43, \"p50_trip\": 1, \"fastest_trip\": 0, \"car_duration_hours\": 0.36, \"competitive_route\": 1, \"bus_multiplier\": 1.19, \"bus_difference\": 4.2, \"num_trips\": 48, \"num_competitive\": 48, \"pct_trips_competitive\": 1.0, \"bus_difference_spread\": 1.8, \"route_group\": \"short\", \"max_trip_hrs\": 0.43, \"max_trip_route_group\": 0.92, \"name\": \"Yuba-Sutter Transit Authority\", \"caltrans_district\": \"03 - Marysville\", \"drmt_organization_name\": null, \"cutoff2\": 20, \"cutoff\": 0}, {\"calitp_itp_id\": 376, \"trip_key\": 3006468318510575202, \"trip_id\": \"t_1083248_b_26274_tn_24\", \"shape_id\": \"p_2911\", \"route_id\": \"364\", \"service_hours\": 0.43, \"trip_first_departure_ts\": 63540, \"trip_last_arrival_ts\": 65100, \"departure_hour\": 17, \"time_of_day\": \"PM Peak\", \"p25\": 0.4, \"p50\": 0.41500000000000004, \"p75\": 0.43, \"p50_trip\": 1, \"fastest_trip\": 0, \"car_duration_hours\": 0.36, \"competitive_route\": 1, \"bus_multiplier\": 1.19, \"bus_difference\": 4.2, \"num_trips\": 48, \"num_competitive\": 48, \"pct_trips_competitive\": 1.0, \"bus_difference_spread\": 1.8, \"route_group\": \"short\", \"max_trip_hrs\": 0.43, \"max_trip_route_group\": 0.92, \"name\": \"Yuba-Sutter Transit Authority\", \"caltrans_district\": \"03 - Marysville\", \"drmt_organization_name\": null, \"cutoff2\": 20, \"cutoff\": 0}, {\"calitp_itp_id\": 376, \"trip_key\": 7704456181985850099, \"trip_id\": \"t_1083248_b_26274_tn_23\", \"shape_id\": \"p_2911\", \"route_id\": \"364\", \"service_hours\": 0.43, \"trip_first_departure_ts\": 61740, \"trip_last_arrival_ts\": 63300, \"departure_hour\": 17, \"time_of_day\": \"PM Peak\", \"p25\": 0.4, \"p50\": 0.41500000000000004, \"p75\": 0.43, \"p50_trip\": 1, \"fastest_trip\": 0, \"car_duration_hours\": 0.36, \"competitive_route\": 1, \"bus_multiplier\": 1.19, \"bus_difference\": 4.2, \"num_trips\": 48, \"num_competitive\": 48, \"pct_trips_competitive\": 1.0, \"bus_difference_spread\": 1.8, \"route_group\": \"short\", \"max_trip_hrs\": 0.43, \"max_trip_route_group\": 0.92, \"name\": \"Yuba-Sutter Transit Authority\", \"caltrans_district\": \"03 - Marysville\", \"drmt_organization_name\": null, \"cutoff2\": 20, \"cutoff\": 0}, {\"calitp_itp_id\": 376, \"trip_key\": 2921135745020244912, \"trip_id\": \"t_1083248_b_26274_tn_4\", \"shape_id\": \"p_2911\", \"route_id\": \"364\", \"service_hours\": 0.43, \"trip_first_departure_ts\": 27540, \"trip_last_arrival_ts\": 29100, \"departure_hour\": 7, \"time_of_day\": \"AM Peak\", \"p25\": 0.4, \"p50\": 0.41500000000000004, \"p75\": 0.43, \"p50_trip\": 1, \"fastest_trip\": 0, \"car_duration_hours\": 0.36, \"competitive_route\": 1, \"bus_multiplier\": 1.19, \"bus_difference\": 4.2, \"num_trips\": 48, \"num_competitive\": 48, \"pct_trips_competitive\": 1.0, \"bus_difference_spread\": 1.8, \"route_group\": \"short\", \"max_trip_hrs\": 0.43, \"max_trip_route_group\": 0.92, \"name\": \"Yuba-Sutter Transit Authority\", \"caltrans_district\": \"03 - Marysville\", \"drmt_organization_name\": null, \"cutoff2\": 20, \"cutoff\": 0}, {\"calitp_itp_id\": 376, \"trip_key\": 3324030221842909610, \"trip_id\": \"t_1083248_b_26274_tn_5\", \"shape_id\": \"p_2911\", \"route_id\": \"364\", \"service_hours\": 0.43, \"trip_first_departure_ts\": 29340, \"trip_last_arrival_ts\": 30900, \"departure_hour\": 8, \"time_of_day\": \"AM Peak\", \"p25\": 0.4, \"p50\": 0.41500000000000004, \"p75\": 0.43, \"p50_trip\": 1, \"fastest_trip\": 0, \"car_duration_hours\": 0.36, \"competitive_route\": 1, \"bus_multiplier\": 1.19, \"bus_difference\": 4.2, \"num_trips\": 48, \"num_competitive\": 48, \"pct_trips_competitive\": 1.0, \"bus_difference_spread\": 1.8, \"route_group\": \"short\", \"max_trip_hrs\": 0.43, \"max_trip_route_group\": 0.92, \"name\": \"Yuba-Sutter Transit Authority\", \"caltrans_district\": \"03 - Marysville\", \"drmt_organization_name\": null, \"cutoff2\": 20, \"cutoff\": 0}, {\"calitp_itp_id\": 376, \"trip_key\": -5614381154266609777, \"trip_id\": \"t_1083248_b_26274_tn_15\", \"shape_id\": \"p_2911\", \"route_id\": \"364\", \"service_hours\": 0.43, \"trip_first_departure_ts\": 47340, \"trip_last_arrival_ts\": 48900, \"departure_hour\": 13, \"time_of_day\": \"Midday\", \"p25\": 0.4, \"p50\": 0.41500000000000004, \"p75\": 0.43, \"p50_trip\": 1, \"fastest_trip\": 0, \"car_duration_hours\": 0.36, \"competitive_route\": 1, \"bus_multiplier\": 1.19, \"bus_difference\": 4.2, \"num_trips\": 48, \"num_competitive\": 48, \"pct_trips_competitive\": 1.0, \"bus_difference_spread\": 1.8, \"route_group\": \"short\", \"max_trip_hrs\": 0.43, \"max_trip_route_group\": 0.92, \"name\": \"Yuba-Sutter Transit Authority\", \"caltrans_district\": \"03 - Marysville\", \"drmt_organization_name\": null, \"cutoff2\": 20, \"cutoff\": 0}, {\"calitp_itp_id\": 376, \"trip_key\": -8204291599214900364, \"trip_id\": \"t_1083248_b_26274_tn_14\", \"shape_id\": \"p_2911\", \"route_id\": \"364\", \"service_hours\": 0.43, \"trip_first_departure_ts\": 45540, \"trip_last_arrival_ts\": 47100, \"departure_hour\": 12, \"time_of_day\": \"Midday\", \"p25\": 0.4, \"p50\": 0.41500000000000004, \"p75\": 0.43, \"p50_trip\": 1, \"fastest_trip\": 0, \"car_duration_hours\": 0.36, \"competitive_route\": 1, \"bus_multiplier\": 1.19, \"bus_difference\": 4.2, \"num_trips\": 48, \"num_competitive\": 48, \"pct_trips_competitive\": 1.0, \"bus_difference_spread\": 1.8, \"route_group\": \"short\", \"max_trip_hrs\": 0.43, \"max_trip_route_group\": 0.92, \"name\": \"Yuba-Sutter Transit Authority\", \"caltrans_district\": \"03 - Marysville\", \"drmt_organization_name\": null, \"cutoff2\": 20, \"cutoff\": 0}, {\"calitp_itp_id\": 376, \"trip_key\": 4114440688700775337, \"trip_id\": \"t_1083248_b_26274_tn_19\", \"shape_id\": \"p_2911\", \"route_id\": \"364\", \"service_hours\": 0.43, \"trip_first_departure_ts\": 54540, \"trip_last_arrival_ts\": 56100, \"departure_hour\": 15, \"time_of_day\": \"Midday\", \"p25\": 0.4, \"p50\": 0.41500000000000004, \"p75\": 0.43, \"p50_trip\": 1, \"fastest_trip\": 0, \"car_duration_hours\": 0.36, \"competitive_route\": 1, \"bus_multiplier\": 1.19, \"bus_difference\": 4.2, \"num_trips\": 48, \"num_competitive\": 48, \"pct_trips_competitive\": 1.0, \"bus_difference_spread\": 1.8, \"route_group\": \"short\", \"max_trip_hrs\": 0.43, \"max_trip_route_group\": 0.92, \"name\": \"Yuba-Sutter Transit Authority\", \"caltrans_district\": \"03 - Marysville\", \"drmt_organization_name\": null, \"cutoff2\": 20, \"cutoff\": 0}, {\"calitp_itp_id\": 376, \"trip_key\": -6765415681674289640, \"trip_id\": \"t_1083248_b_26274_tn_2\", \"shape_id\": \"p_2911\", \"route_id\": \"364\", \"service_hours\": 0.43, \"trip_first_departure_ts\": 23940, \"trip_last_arrival_ts\": 25500, \"departure_hour\": 6, \"time_of_day\": \"Owl Service\", \"p25\": 0.4, \"p50\": 0.41500000000000004, \"p75\": 0.43, \"p50_trip\": 1, \"fastest_trip\": 0, \"car_duration_hours\": 0.36, \"competitive_route\": 1, \"bus_multiplier\": 1.19, \"bus_difference\": 4.2, \"num_trips\": 48, \"num_competitive\": 48, \"pct_trips_competitive\": 1.0, \"bus_difference_spread\": 1.8, \"route_group\": \"short\", \"max_trip_hrs\": 0.43, \"max_trip_route_group\": 0.92, \"name\": \"Yuba-Sutter Transit Authority\", \"caltrans_district\": \"03 - Marysville\", \"drmt_organization_name\": null, \"cutoff2\": 20, \"cutoff\": 0}, {\"calitp_itp_id\": 376, \"trip_key\": 8211254135459476857, \"trip_id\": \"t_1083248_b_26274_tn_10\", \"shape_id\": \"p_2911\", \"route_id\": \"364\", \"service_hours\": 0.43, \"trip_first_departure_ts\": 38340, \"trip_last_arrival_ts\": 39900, \"departure_hour\": 10, \"time_of_day\": \"Midday\", \"p25\": 0.4, \"p50\": 0.41500000000000004, \"p75\": 0.43, \"p50_trip\": 1, \"fastest_trip\": 0, \"car_duration_hours\": 0.36, \"competitive_route\": 1, \"bus_multiplier\": 1.19, \"bus_difference\": 4.2, \"num_trips\": 48, \"num_competitive\": 48, \"pct_trips_competitive\": 1.0, \"bus_difference_spread\": 1.8, \"route_group\": \"short\", \"max_trip_hrs\": 0.43, \"max_trip_route_group\": 0.92, \"name\": \"Yuba-Sutter Transit Authority\", \"caltrans_district\": \"03 - Marysville\", \"drmt_organization_name\": null, \"cutoff2\": 20, \"cutoff\": 0}, {\"calitp_itp_id\": 376, \"trip_key\": -2873940429114937546, \"trip_id\": \"t_1083248_b_26274_tn_1\", \"shape_id\": \"p_2911\", \"route_id\": \"364\", \"service_hours\": 0.43, \"trip_first_departure_ts\": 22140, \"trip_last_arrival_ts\": 23700, \"departure_hour\": 6, \"time_of_day\": \"Owl Service\", \"p25\": 0.4, \"p50\": 0.41500000000000004, \"p75\": 0.43, \"p50_trip\": 1, \"fastest_trip\": 0, \"car_duration_hours\": 0.36, \"competitive_route\": 1, \"bus_multiplier\": 1.19, \"bus_difference\": 4.2, \"num_trips\": 48, \"num_competitive\": 48, \"pct_trips_competitive\": 1.0, \"bus_difference_spread\": 1.8, \"route_group\": \"short\", \"max_trip_hrs\": 0.43, \"max_trip_route_group\": 0.92, \"name\": \"Yuba-Sutter Transit Authority\", \"caltrans_district\": \"03 - Marysville\", \"drmt_organization_name\": null, \"cutoff2\": 20, \"cutoff\": 0}, {\"calitp_itp_id\": 376, \"trip_key\": 263775932666569757, \"trip_id\": \"t_1083248_b_26274_tn_12\", \"shape_id\": \"p_2911\", \"route_id\": \"364\", \"service_hours\": 0.43, \"trip_first_departure_ts\": 41940, \"trip_last_arrival_ts\": 43500, \"departure_hour\": 11, \"time_of_day\": \"Midday\", \"p25\": 0.4, \"p50\": 0.41500000000000004, \"p75\": 0.43, \"p50_trip\": 1, \"fastest_trip\": 0, \"car_duration_hours\": 0.36, \"competitive_route\": 1, \"bus_multiplier\": 1.19, \"bus_difference\": 4.2, \"num_trips\": 48, \"num_competitive\": 48, \"pct_trips_competitive\": 1.0, \"bus_difference_spread\": 1.8, \"route_group\": \"short\", \"max_trip_hrs\": 0.43, \"max_trip_route_group\": 0.92, \"name\": \"Yuba-Sutter Transit Authority\", \"caltrans_district\": \"03 - Marysville\", \"drmt_organization_name\": null, \"cutoff2\": 20, \"cutoff\": 0}, {\"calitp_itp_id\": 376, \"trip_key\": -4378583601607720580, \"trip_id\": \"t_1083248_b_26274_tn_11\", \"shape_id\": \"p_2911\", \"route_id\": \"364\", \"service_hours\": 0.43, \"trip_first_departure_ts\": 40140, \"trip_last_arrival_ts\": 41700, \"departure_hour\": 11, \"time_of_day\": \"Midday\", \"p25\": 0.4, \"p50\": 0.41500000000000004, \"p75\": 0.43, \"p50_trip\": 1, \"fastest_trip\": 0, \"car_duration_hours\": 0.36, \"competitive_route\": 1, \"bus_multiplier\": 1.19, \"bus_difference\": 4.2, \"num_trips\": 48, \"num_competitive\": 48, \"pct_trips_competitive\": 1.0, \"bus_difference_spread\": 1.8, \"route_group\": \"short\", \"max_trip_hrs\": 0.43, \"max_trip_route_group\": 0.92, \"name\": \"Yuba-Sutter Transit Authority\", \"caltrans_district\": \"03 - Marysville\", \"drmt_organization_name\": null, \"cutoff2\": 20, \"cutoff\": 0}]}}, {\"mode\": \"vega-lite\"});\n",
       "</script>"
      ],
      "text/plain": [
       "alt.FacetChart(...)"
      ]
     },
     "metadata": {},
     "output_type": "display_data"
    }
   ],
   "source": [
    "# Allow for possibility that operator doesn't have routes that fall into certain route_groups\n",
    "# But, jupyterbook will not like markdown with f-string\n",
    "# separate out route_group and put in each cell, and use try/except + if to display...\n",
    "# but all 3 route groups must be displayed. just add sentence about why no routes were returned at the end\n",
    "route_group = \"short\"\n",
    "try:\n",
    "    display_charts_for_route_group(df, route_group)\n",
    "except:\n",
    "    print(\"No routes meet this criteria.\")"
   ]
  },
  {
   "cell_type": "markdown",
   "id": "c2931b6f-034d-4384-9e14-80b925e3b820",
   "metadata": {
    "papermill": {
     "duration": 0.017561,
     "end_time": "2022-05-09T19:38:02.748567",
     "exception": false,
     "start_time": "2022-05-09T19:38:02.731006",
     "status": "completed"
    },
    "tags": []
   },
   "source": [
    "### Medium Routes (1-1.5 hrs)"
   ]
  },
  {
   "cell_type": "code",
   "execution_count": 14,
   "id": "480edddc-4de0-48c2-ae4c-b0ceef8f28b5",
   "metadata": {
    "execution": {
     "iopub.execute_input": "2022-05-09T19:38:02.790247Z",
     "iopub.status.busy": "2022-05-09T19:38:02.789053Z",
     "iopub.status.idle": "2022-05-09T19:38:02.809487Z",
     "shell.execute_reply": "2022-05-09T19:38:02.808482Z"
    },
    "jupyter": {
     "source_hidden": true
    },
    "papermill": {
     "duration": 0.042948,
     "end_time": "2022-05-09T19:38:02.811637",
     "exception": false,
     "start_time": "2022-05-09T19:38:02.768689",
     "status": "completed"
    },
    "tags": [
     "remove_input"
    ]
   },
   "outputs": [
    {
     "name": "stdout",
     "output_type": "stream",
     "text": [
      "No routes meet this criteria.\n"
     ]
    }
   ],
   "source": [
    "route_group = \"medium\"\n",
    "try:\n",
    "    display_charts_for_route_group(df, route_group)\n",
    "except:\n",
    "    print(\"No routes meet this criteria.\")"
   ]
  },
  {
   "cell_type": "markdown",
   "id": "124b76d0-886c-4d03-92ac-f1bda3cda182",
   "metadata": {
    "papermill": {
     "duration": 0.01809,
     "end_time": "2022-05-09T19:38:02.849692",
     "exception": false,
     "start_time": "2022-05-09T19:38:02.831602",
     "status": "completed"
    },
    "tags": []
   },
   "source": [
    "### Long Routes (> 1.5 hrs)"
   ]
  },
  {
   "cell_type": "code",
   "execution_count": 15,
   "id": "ddc81b19-4c45-4c81-8b7a-5e0f394aa7a3",
   "metadata": {
    "execution": {
     "iopub.execute_input": "2022-05-09T19:38:02.895954Z",
     "iopub.status.busy": "2022-05-09T19:38:02.894336Z",
     "iopub.status.idle": "2022-05-09T19:38:03.153303Z",
     "shell.execute_reply": "2022-05-09T19:38:03.152225Z"
    },
    "jupyter": {
     "source_hidden": true
    },
    "papermill": {
     "duration": 0.284123,
     "end_time": "2022-05-09T19:38:03.155642",
     "exception": false,
     "start_time": "2022-05-09T19:38:02.871519",
     "status": "completed"
    },
    "tags": [
     "remove_input"
    ]
   },
   "outputs": [
    {
     "data": {
      "text/markdown": [
       "<br>These are routes that have **at least 25% of their trips take no more than an additional 40 min** compared to a car (up to 15 routes) are shown.<br>Within each route group, routes are sorted in descending order by % competitive trips and # trips below the additional time cut-off."
      ],
      "text/plain": [
       "<IPython.core.display.Markdown object>"
      ]
     },
     "metadata": {},
     "output_type": "display_data"
    },
    {
     "data": {
      "text/html": [
       "\n",
       "<div id=\"altair-viz-a057eec6994f405a88344df2cdc54c1d\"></div>\n",
       "<script type=\"text/javascript\">\n",
       "  var VEGA_DEBUG = (typeof VEGA_DEBUG == \"undefined\") ? {} : VEGA_DEBUG;\n",
       "  (function(spec, embedOpt){\n",
       "    let outputDiv = document.currentScript.previousElementSibling;\n",
       "    if (outputDiv.id !== \"altair-viz-a057eec6994f405a88344df2cdc54c1d\") {\n",
       "      outputDiv = document.getElementById(\"altair-viz-a057eec6994f405a88344df2cdc54c1d\");\n",
       "    }\n",
       "    const paths = {\n",
       "      \"vega\": \"https://cdn.jsdelivr.net/npm//vega@5?noext\",\n",
       "      \"vega-lib\": \"https://cdn.jsdelivr.net/npm//vega-lib?noext\",\n",
       "      \"vega-lite\": \"https://cdn.jsdelivr.net/npm//vega-lite@4.17.0?noext\",\n",
       "      \"vega-embed\": \"https://cdn.jsdelivr.net/npm//vega-embed@6?noext\",\n",
       "    };\n",
       "\n",
       "    function maybeLoadScript(lib, version) {\n",
       "      var key = `${lib.replace(\"-\", \"\")}_version`;\n",
       "      return (VEGA_DEBUG[key] == version) ?\n",
       "        Promise.resolve(paths[lib]) :\n",
       "        new Promise(function(resolve, reject) {\n",
       "          var s = document.createElement('script');\n",
       "          document.getElementsByTagName(\"head\")[0].appendChild(s);\n",
       "          s.async = true;\n",
       "          s.onload = () => {\n",
       "            VEGA_DEBUG[key] = version;\n",
       "            return resolve(paths[lib]);\n",
       "          };\n",
       "          s.onerror = () => reject(`Error loading script: ${paths[lib]}`);\n",
       "          s.src = paths[lib];\n",
       "        });\n",
       "    }\n",
       "\n",
       "    function showError(err) {\n",
       "      outputDiv.innerHTML = `<div class=\"error\" style=\"color:red;\">${err}</div>`;\n",
       "      throw err;\n",
       "    }\n",
       "\n",
       "    function displayChart(vegaEmbed) {\n",
       "      vegaEmbed(outputDiv, spec, embedOpt)\n",
       "        .catch(err => showError(`Javascript Error: ${err.message}<br>This usually means there's a typo in your chart specification. See the javascript console for the full traceback.`));\n",
       "    }\n",
       "\n",
       "    if(typeof define === \"function\" && define.amd) {\n",
       "      requirejs.config({paths});\n",
       "      require([\"vega-embed\"], displayChart, err => showError(`Error loading script: ${err.message}`));\n",
       "    } else {\n",
       "      maybeLoadScript(\"vega\", \"5\")\n",
       "        .then(() => maybeLoadScript(\"vega-lite\", \"4.17.0\"))\n",
       "        .then(() => maybeLoadScript(\"vega-embed\", \"6\"))\n",
       "        .catch(showError)\n",
       "        .then(() => displayChart(vegaEmbed));\n",
       "    }\n",
       "  })({\"config\": {\"view\": {\"continuousWidth\": 400, \"continuousHeight\": 300, \"stroke\": null}, \"facet\": {\"spacing\": 0}}, \"data\": {\"name\": \"data-14bdd8a44fa80a6836c0c08025f1a6a8\"}, \"facet\": {\"column\": {\"field\": \"route_id\", \"sort\": [\"473\"], \"title\": \"Route ID\", \"type\": \"nominal\"}}, \"spec\": {\"layer\": [{\"mark\": \"rule\", \"encoding\": {\"color\": {\"value\": \"black\"}, \"y\": {\"field\": \"cutoff\", \"type\": \"quantitative\"}}, \"selection\": {\"selector003\": {\"type\": \"interval\", \"bind\": \"scales\", \"encodings\": [\"x\", \"y\"]}}}, {\"mark\": {\"type\": \"point\", \"opacity\": 0.65, \"size\": 12, \"strokeWidth\": 1.1}, \"encoding\": {\"color\": {\"field\": \"time_of_day\", \"scale\": {\"range\": [\"#136C97\", \"#E16B26\", \"#F6BF16\", \"#00896B\", \"#7790A3\", \"#5B559C\"]}, \"sort\": [\"AM Peak\", \"Midday\", \"PM Peak\", \"Owl Service\"], \"title\": \"Time of Day\", \"type\": \"nominal\"}, \"tooltip\": [{\"field\": \"route_id\", \"type\": \"nominal\"}, {\"field\": \"trip_id\", \"type\": \"nominal\"}, {\"field\": \"service_hours\", \"type\": \"quantitative\"}, {\"field\": \"car_duration_hours\", \"type\": \"quantitative\"}, {\"field\": \"bus_multiplier\", \"type\": \"quantitative\"}, {\"field\": \"bus_difference\", \"type\": \"quantitative\"}, {\"field\": \"num_trips\", \"type\": \"quantitative\"}, {\"field\": \"num_competitive\", \"type\": \"quantitative\"}, {\"field\": \"pct_trips_competitive\", \"type\": \"quantitative\"}, {\"field\": \"p25\", \"type\": \"quantitative\"}, {\"field\": \"p50\", \"type\": \"quantitative\"}, {\"field\": \"p75\", \"type\": \"quantitative\"}], \"x\": {\"axis\": {\"grid\": false, \"labels\": false, \"ticks\": true, \"values\": [0]}, \"field\": \"jitter\", \"scale\": {}, \"title\": null, \"type\": \"quantitative\"}, \"y\": {\"field\": \"bus_multiplier\", \"scale\": {\"domain\": [-0.25, 2.5]}, \"title\": \"Ratio of Bus to Car Travel Time\", \"type\": \"quantitative\"}}, \"transform\": [{\"calculate\": \"sqrt(-2*log(random()))*cos(2*PI*random())\", \"as\": \"jitter\"}], \"width\": 50}, {\"layer\": [{\"mark\": {\"type\": \"point\", \"opacity\": 0.6, \"size\": 20, \"strokeWidth\": 1.3}, \"encoding\": {\"color\": {\"value\": \"#323434\"}, \"y\": {\"field\": \"bus_multiplier\", \"type\": \"quantitative\"}}, \"transform\": [{\"filter\": \"(datum.p50_trip === 1)\"}]}, {\"mark\": {\"type\": \"text\", \"align\": \"center\", \"baseline\": \"middle\"}, \"encoding\": {\"color\": {\"value\": \"black\"}, \"text\": {\"field\": \"pct_trips_competitive\", \"format\": \".0%\", \"type\": \"quantitative\"}, \"tooltip\": [{\"field\": \"route_id\", \"type\": \"nominal\"}, {\"field\": \"trip_id\", \"type\": \"nominal\"}, {\"field\": \"service_hours\", \"type\": \"quantitative\"}, {\"field\": \"car_duration_hours\", \"type\": \"quantitative\"}, {\"field\": \"bus_multiplier\", \"type\": \"quantitative\"}, {\"field\": \"bus_difference\", \"type\": \"quantitative\"}, {\"field\": \"num_trips\", \"type\": \"quantitative\"}, {\"field\": \"num_competitive\", \"type\": \"quantitative\"}, {\"field\": \"pct_trips_competitive\", \"type\": \"quantitative\"}, {\"field\": \"p25\", \"type\": \"quantitative\"}, {\"field\": \"p50\", \"type\": \"quantitative\"}, {\"field\": \"p75\", \"type\": \"quantitative\"}], \"x\": {\"value\": 30}, \"y\": {\"value\": 15}}, \"transform\": [{\"calculate\": \"sqrt(-2*log(random()))*cos(2*PI*random())\", \"as\": \"jitter\"}, {\"filter\": \"(datum.fastest_trip === 1)\"}]}]}]}, \"resolve\": {\"scale\": {\"y\": \"shared\"}}, \"title\": \"Ratio of Bus to Car Travel Time\", \"$schema\": \"https://vega.github.io/schema/vega-lite/v4.17.0.json\", \"datasets\": {\"data-14bdd8a44fa80a6836c0c08025f1a6a8\": [{\"calitp_itp_id\": 376, \"trip_key\": 8472446297226699308, \"trip_id\": \"t_1083288_b_26274_tn_0\", \"shape_id\": \"p_682\", \"route_id\": \"473\", \"service_hours\": 1.0, \"trip_first_departure_ts\": 52800, \"trip_last_arrival_ts\": 56400, \"departure_hour\": 14, \"time_of_day\": \"Midday\", \"p25\": 1.17, \"p50\": 1.21, \"p75\": 1.3775, \"p50_trip\": 0, \"fastest_trip\": 1, \"car_duration_hours\": 0.76, \"competitive_route\": 1, \"bus_multiplier\": 1.32, \"bus_difference\": 14.4, \"num_trips\": 10, \"num_competitive\": 9, \"pct_trips_competitive\": 0.9, \"bus_difference_spread\": 34.8, \"route_group\": \"long\", \"max_trip_hrs\": 1.58, \"max_trip_route_group\": 2.5, \"name\": \"Yuba-Sutter Transit Authority\", \"caltrans_district\": \"03 - Marysville\", \"drmt_organization_name\": null, \"cutoff2\": 40, \"cutoff\": 2}, {\"calitp_itp_id\": 376, \"trip_key\": -8435216084765777762, \"trip_id\": \"t_1083290_b_26274_tn_0\", \"shape_id\": \"p_683\", \"route_id\": \"473\", \"service_hours\": 1.08, \"trip_first_departure_ts\": 19500, \"trip_last_arrival_ts\": 23400, \"departure_hour\": 5, \"time_of_day\": \"Owl Service\", \"p25\": 1.17, \"p50\": 1.21, \"p75\": 1.3775, \"p50_trip\": 0, \"fastest_trip\": 0, \"car_duration_hours\": 0.76, \"competitive_route\": 1, \"bus_multiplier\": 1.42, \"bus_difference\": 19.2, \"num_trips\": 10, \"num_competitive\": 9, \"pct_trips_competitive\": 0.9, \"bus_difference_spread\": 34.8, \"route_group\": \"long\", \"max_trip_hrs\": 1.58, \"max_trip_route_group\": 2.5, \"name\": \"Yuba-Sutter Transit Authority\", \"caltrans_district\": \"03 - Marysville\", \"drmt_organization_name\": null, \"cutoff2\": 40, \"cutoff\": 2}, {\"calitp_itp_id\": 376, \"trip_key\": 6516244206308814738, \"trip_id\": \"t_1083293_b_26274_tn_0\", \"shape_id\": \"p_682\", \"route_id\": \"473\", \"service_hours\": 1.17, \"trip_first_departure_ts\": 58500, \"trip_last_arrival_ts\": 62700, \"departure_hour\": 16, \"time_of_day\": \"Midday\", \"p25\": 1.17, \"p50\": 1.21, \"p75\": 1.3775, \"p50_trip\": 1, \"fastest_trip\": 0, \"car_duration_hours\": 0.76, \"competitive_route\": 1, \"bus_multiplier\": 1.54, \"bus_difference\": 24.6, \"num_trips\": 10, \"num_competitive\": 9, \"pct_trips_competitive\": 0.9, \"bus_difference_spread\": 34.8, \"route_group\": \"long\", \"max_trip_hrs\": 1.58, \"max_trip_route_group\": 2.5, \"name\": \"Yuba-Sutter Transit Authority\", \"caltrans_district\": \"03 - Marysville\", \"drmt_organization_name\": null, \"cutoff2\": 40, \"cutoff\": 2}, {\"calitp_itp_id\": 376, \"trip_key\": -3145666755083596760, \"trip_id\": \"t_1287004_b_26274_tn_0\", \"shape_id\": \"p_902176\", \"route_id\": \"473\", \"service_hours\": 1.17, \"trip_first_departure_ts\": 56400, \"trip_last_arrival_ts\": 60600, \"departure_hour\": 15, \"time_of_day\": \"Midday\", \"p25\": 1.17, \"p50\": 1.21, \"p75\": 1.3775, \"p50_trip\": 1, \"fastest_trip\": 0, \"car_duration_hours\": 0.76, \"competitive_route\": 1, \"bus_multiplier\": 1.54, \"bus_difference\": 24.6, \"num_trips\": 10, \"num_competitive\": 9, \"pct_trips_competitive\": 0.9, \"bus_difference_spread\": 34.8, \"route_group\": \"long\", \"max_trip_hrs\": 1.58, \"max_trip_route_group\": 2.5, \"name\": \"Yuba-Sutter Transit Authority\", \"caltrans_district\": \"03 - Marysville\", \"drmt_organization_name\": null, \"cutoff2\": 40, \"cutoff\": 2}, {\"calitp_itp_id\": 376, \"trip_key\": -6541386274374931803, \"trip_id\": \"t_1083294_b_26274_tn_0\", \"shape_id\": \"p_683\", \"route_id\": \"473\", \"service_hours\": 1.17, \"trip_first_departure_ts\": 24000, \"trip_last_arrival_ts\": 28200, \"departure_hour\": 6, \"time_of_day\": \"Owl Service\", \"p25\": 1.17, \"p50\": 1.21, \"p75\": 1.3775, \"p50_trip\": 1, \"fastest_trip\": 0, \"car_duration_hours\": 0.76, \"competitive_route\": 1, \"bus_multiplier\": 1.54, \"bus_difference\": 24.6, \"num_trips\": 10, \"num_competitive\": 9, \"pct_trips_competitive\": 0.9, \"bus_difference_spread\": 34.8, \"route_group\": \"long\", \"max_trip_hrs\": 1.58, \"max_trip_route_group\": 2.5, \"name\": \"Yuba-Sutter Transit Authority\", \"caltrans_district\": \"03 - Marysville\", \"drmt_organization_name\": null, \"cutoff2\": 40, \"cutoff\": 2}, {\"calitp_itp_id\": 376, \"trip_key\": 4977650576886127910, \"trip_id\": \"t_1083287_b_26274_tn_0\", \"shape_id\": \"p_677\", \"route_id\": \"473\", \"service_hours\": 1.25, \"trip_first_departure_ts\": 20100, \"trip_last_arrival_ts\": 24600, \"departure_hour\": 5, \"time_of_day\": \"Owl Service\", \"p25\": 1.17, \"p50\": 1.21, \"p75\": 1.3775, \"p50_trip\": 1, \"fastest_trip\": 0, \"car_duration_hours\": 0.76, \"competitive_route\": 1, \"bus_multiplier\": 1.64, \"bus_difference\": 29.4, \"num_trips\": 10, \"num_competitive\": 9, \"pct_trips_competitive\": 0.9, \"bus_difference_spread\": 34.8, \"route_group\": \"long\", \"max_trip_hrs\": 1.58, \"max_trip_route_group\": 2.5, \"name\": \"Yuba-Sutter Transit Authority\", \"caltrans_district\": \"03 - Marysville\", \"drmt_organization_name\": null, \"cutoff2\": 40, \"cutoff\": 2}, {\"calitp_itp_id\": 376, \"trip_key\": 73036594332883039, \"trip_id\": \"t_1083289_b_26274_tn_0\", \"shape_id\": \"p_677\", \"route_id\": \"473\", \"service_hours\": 1.25, \"trip_first_departure_ts\": 21900, \"trip_last_arrival_ts\": 26400, \"departure_hour\": 6, \"time_of_day\": \"Owl Service\", \"p25\": 1.17, \"p50\": 1.21, \"p75\": 1.3775, \"p50_trip\": 1, \"fastest_trip\": 0, \"car_duration_hours\": 0.76, \"competitive_route\": 1, \"bus_multiplier\": 1.64, \"bus_difference\": 29.4, \"num_trips\": 10, \"num_competitive\": 9, \"pct_trips_competitive\": 0.9, \"bus_difference_spread\": 34.8, \"route_group\": \"long\", \"max_trip_hrs\": 1.58, \"max_trip_route_group\": 2.5, \"name\": \"Yuba-Sutter Transit Authority\", \"caltrans_district\": \"03 - Marysville\", \"drmt_organization_name\": null, \"cutoff2\": 40, \"cutoff\": 2}, {\"calitp_itp_id\": 376, \"trip_key\": 1216137359861551197, \"trip_id\": \"t_1083291_b_26274_tn_0\", \"shape_id\": \"p_689\", \"route_id\": \"473\", \"service_hours\": 1.42, \"trip_first_departure_ts\": 58200, \"trip_last_arrival_ts\": 63300, \"departure_hour\": 16, \"time_of_day\": \"Midday\", \"p25\": 1.17, \"p50\": 1.21, \"p75\": 1.3775, \"p50_trip\": 0, \"fastest_trip\": 0, \"car_duration_hours\": 0.76, \"competitive_route\": 1, \"bus_multiplier\": 1.87, \"bus_difference\": 39.6, \"num_trips\": 10, \"num_competitive\": 9, \"pct_trips_competitive\": 0.9, \"bus_difference_spread\": 34.8, \"route_group\": \"long\", \"max_trip_hrs\": 1.58, \"max_trip_route_group\": 2.5, \"name\": \"Yuba-Sutter Transit Authority\", \"caltrans_district\": \"03 - Marysville\", \"drmt_organization_name\": null, \"cutoff2\": 40, \"cutoff\": 2}, {\"calitp_itp_id\": 376, \"trip_key\": 4153866782106947609, \"trip_id\": \"t_1287005_b_26274_tn_0\", \"shape_id\": \"p_902176\", \"route_id\": \"473\", \"service_hours\": 1.42, \"trip_first_departure_ts\": 62700, \"trip_last_arrival_ts\": 67800, \"departure_hour\": 17, \"time_of_day\": \"PM Peak\", \"p25\": 1.17, \"p50\": 1.21, \"p75\": 1.3775, \"p50_trip\": 0, \"fastest_trip\": 0, \"car_duration_hours\": 0.76, \"competitive_route\": 1, \"bus_multiplier\": 1.87, \"bus_difference\": 39.6, \"num_trips\": 10, \"num_competitive\": 9, \"pct_trips_competitive\": 0.9, \"bus_difference_spread\": 34.8, \"route_group\": \"long\", \"max_trip_hrs\": 1.58, \"max_trip_route_group\": 2.5, \"name\": \"Yuba-Sutter Transit Authority\", \"caltrans_district\": \"03 - Marysville\", \"drmt_organization_name\": null, \"cutoff2\": 40, \"cutoff\": 2}, {\"calitp_itp_id\": 376, \"trip_key\": 843407151134286902, \"trip_id\": \"t_1083292_b_26274_tn_0\", \"shape_id\": \"p_343\", \"route_id\": \"473\", \"service_hours\": 1.58, \"trip_first_departure_ts\": 59400, \"trip_last_arrival_ts\": 65100, \"departure_hour\": 16, \"time_of_day\": \"Midday\", \"p25\": 1.17, \"p50\": 1.21, \"p75\": 1.3775, \"p50_trip\": 0, \"fastest_trip\": 0, \"car_duration_hours\": 0.76, \"competitive_route\": 1, \"bus_multiplier\": 2.08, \"bus_difference\": 49.2, \"num_trips\": 10, \"num_competitive\": 9, \"pct_trips_competitive\": 0.9, \"bus_difference_spread\": 34.8, \"route_group\": \"long\", \"max_trip_hrs\": 1.58, \"max_trip_route_group\": 2.5, \"name\": \"Yuba-Sutter Transit Authority\", \"caltrans_district\": \"03 - Marysville\", \"drmt_organization_name\": null, \"cutoff2\": 40, \"cutoff\": 2}]}}, {\"mode\": \"vega-lite\"});\n",
       "</script>"
      ],
      "text/plain": [
       "alt.FacetChart(...)"
      ]
     },
     "metadata": {},
     "output_type": "display_data"
    },
    {
     "data": {
      "text/html": [
       "\n",
       "<div id=\"altair-viz-b2ac9184dbe04f74a370973d082fe927\"></div>\n",
       "<script type=\"text/javascript\">\n",
       "  var VEGA_DEBUG = (typeof VEGA_DEBUG == \"undefined\") ? {} : VEGA_DEBUG;\n",
       "  (function(spec, embedOpt){\n",
       "    let outputDiv = document.currentScript.previousElementSibling;\n",
       "    if (outputDiv.id !== \"altair-viz-b2ac9184dbe04f74a370973d082fe927\") {\n",
       "      outputDiv = document.getElementById(\"altair-viz-b2ac9184dbe04f74a370973d082fe927\");\n",
       "    }\n",
       "    const paths = {\n",
       "      \"vega\": \"https://cdn.jsdelivr.net/npm//vega@5?noext\",\n",
       "      \"vega-lib\": \"https://cdn.jsdelivr.net/npm//vega-lib?noext\",\n",
       "      \"vega-lite\": \"https://cdn.jsdelivr.net/npm//vega-lite@4.17.0?noext\",\n",
       "      \"vega-embed\": \"https://cdn.jsdelivr.net/npm//vega-embed@6?noext\",\n",
       "    };\n",
       "\n",
       "    function maybeLoadScript(lib, version) {\n",
       "      var key = `${lib.replace(\"-\", \"\")}_version`;\n",
       "      return (VEGA_DEBUG[key] == version) ?\n",
       "        Promise.resolve(paths[lib]) :\n",
       "        new Promise(function(resolve, reject) {\n",
       "          var s = document.createElement('script');\n",
       "          document.getElementsByTagName(\"head\")[0].appendChild(s);\n",
       "          s.async = true;\n",
       "          s.onload = () => {\n",
       "            VEGA_DEBUG[key] = version;\n",
       "            return resolve(paths[lib]);\n",
       "          };\n",
       "          s.onerror = () => reject(`Error loading script: ${paths[lib]}`);\n",
       "          s.src = paths[lib];\n",
       "        });\n",
       "    }\n",
       "\n",
       "    function showError(err) {\n",
       "      outputDiv.innerHTML = `<div class=\"error\" style=\"color:red;\">${err}</div>`;\n",
       "      throw err;\n",
       "    }\n",
       "\n",
       "    function displayChart(vegaEmbed) {\n",
       "      vegaEmbed(outputDiv, spec, embedOpt)\n",
       "        .catch(err => showError(`Javascript Error: ${err.message}<br>This usually means there's a typo in your chart specification. See the javascript console for the full traceback.`));\n",
       "    }\n",
       "\n",
       "    if(typeof define === \"function\" && define.amd) {\n",
       "      requirejs.config({paths});\n",
       "      require([\"vega-embed\"], displayChart, err => showError(`Error loading script: ${err.message}`));\n",
       "    } else {\n",
       "      maybeLoadScript(\"vega\", \"5\")\n",
       "        .then(() => maybeLoadScript(\"vega-lite\", \"4.17.0\"))\n",
       "        .then(() => maybeLoadScript(\"vega-embed\", \"6\"))\n",
       "        .catch(showError)\n",
       "        .then(() => displayChart(vegaEmbed));\n",
       "    }\n",
       "  })({\"config\": {\"view\": {\"continuousWidth\": 400, \"continuousHeight\": 300, \"stroke\": null}, \"facet\": {\"spacing\": 0}}, \"data\": {\"name\": \"data-44fc977a546ded8ef14000bfc1838bc2\"}, \"facet\": {\"column\": {\"field\": \"route_id\", \"sort\": [\"473\"], \"title\": \"Route ID\", \"type\": \"nominal\"}}, \"spec\": {\"layer\": [{\"mark\": \"rule\", \"encoding\": {\"color\": {\"value\": \"black\"}, \"y\": {\"field\": \"cutoff\", \"type\": \"quantitative\"}}, \"selection\": {\"selector004\": {\"type\": \"interval\", \"bind\": \"scales\", \"encodings\": [\"x\", \"y\"]}}}, {\"mark\": {\"type\": \"rule\", \"strokeDash\": [3, 3]}, \"encoding\": {\"color\": {\"value\": \"#323434\"}, \"y\": {\"field\": \"cutoff2\", \"type\": \"quantitative\"}}}, {\"mark\": {\"type\": \"point\", \"opacity\": 0.65, \"size\": 12, \"strokeWidth\": 1.1}, \"encoding\": {\"color\": {\"field\": \"time_of_day\", \"scale\": {\"range\": [\"#136C97\", \"#E16B26\", \"#F6BF16\", \"#00896B\", \"#7790A3\", \"#5B559C\"]}, \"sort\": [\"AM Peak\", \"Midday\", \"PM Peak\", \"Owl Service\"], \"title\": \"Time of Day\", \"type\": \"nominal\"}, \"tooltip\": [{\"field\": \"route_id\", \"type\": \"nominal\"}, {\"field\": \"trip_id\", \"type\": \"nominal\"}, {\"field\": \"service_hours\", \"type\": \"quantitative\"}, {\"field\": \"car_duration_hours\", \"type\": \"quantitative\"}, {\"field\": \"bus_multiplier\", \"type\": \"quantitative\"}, {\"field\": \"bus_difference\", \"type\": \"quantitative\"}, {\"field\": \"num_trips\", \"type\": \"quantitative\"}, {\"field\": \"num_competitive\", \"type\": \"quantitative\"}, {\"field\": \"pct_trips_competitive\", \"type\": \"quantitative\"}, {\"field\": \"p25\", \"type\": \"quantitative\"}, {\"field\": \"p50\", \"type\": \"quantitative\"}, {\"field\": \"p75\", \"type\": \"quantitative\"}], \"x\": {\"axis\": {\"grid\": false, \"labels\": false, \"ticks\": true, \"values\": [0]}, \"field\": \"jitter\", \"scale\": {}, \"title\": null, \"type\": \"quantitative\"}, \"y\": {\"field\": \"bus_difference\", \"scale\": {\"domain\": [-5, 49.2]}, \"title\": \"Difference in Bus to Car Travel Time (min)\", \"type\": \"quantitative\"}}, \"transform\": [{\"calculate\": \"sqrt(-2*log(random()))*cos(2*PI*random())\", \"as\": \"jitter\"}], \"width\": 50}, {\"layer\": [{\"mark\": {\"type\": \"point\", \"opacity\": 0.6, \"size\": 20, \"strokeWidth\": 1.3}, \"encoding\": {\"color\": {\"value\": \"#323434\"}, \"y\": {\"field\": \"bus_difference\", \"type\": \"quantitative\"}}, \"transform\": [{\"filter\": \"(datum.p50_trip === 1)\"}]}, {\"mark\": {\"type\": \"text\", \"align\": \"center\", \"baseline\": \"middle\"}, \"encoding\": {\"color\": {\"value\": \"black\"}, \"text\": {\"field\": \"pct_trips_competitive\", \"format\": \".0%\", \"type\": \"quantitative\"}, \"tooltip\": [{\"field\": \"route_id\", \"type\": \"nominal\"}, {\"field\": \"trip_id\", \"type\": \"nominal\"}, {\"field\": \"service_hours\", \"type\": \"quantitative\"}, {\"field\": \"car_duration_hours\", \"type\": \"quantitative\"}, {\"field\": \"bus_multiplier\", \"type\": \"quantitative\"}, {\"field\": \"bus_difference\", \"type\": \"quantitative\"}, {\"field\": \"num_trips\", \"type\": \"quantitative\"}, {\"field\": \"num_competitive\", \"type\": \"quantitative\"}, {\"field\": \"pct_trips_competitive\", \"type\": \"quantitative\"}, {\"field\": \"p25\", \"type\": \"quantitative\"}, {\"field\": \"p50\", \"type\": \"quantitative\"}, {\"field\": \"p75\", \"type\": \"quantitative\"}], \"x\": {\"value\": 30}, \"y\": {\"value\": 15}}, \"transform\": [{\"calculate\": \"sqrt(-2*log(random()))*cos(2*PI*random())\", \"as\": \"jitter\"}, {\"filter\": \"(datum.fastest_trip === 1)\"}]}]}]}, \"resolve\": {\"scale\": {\"y\": \"shared\"}}, \"title\": \"Difference in Bus to Car Travel Time (min)\", \"$schema\": \"https://vega.github.io/schema/vega-lite/v4.17.0.json\", \"datasets\": {\"data-44fc977a546ded8ef14000bfc1838bc2\": [{\"calitp_itp_id\": 376, \"trip_key\": 8472446297226699308, \"trip_id\": \"t_1083288_b_26274_tn_0\", \"shape_id\": \"p_682\", \"route_id\": \"473\", \"service_hours\": 1.0, \"trip_first_departure_ts\": 52800, \"trip_last_arrival_ts\": 56400, \"departure_hour\": 14, \"time_of_day\": \"Midday\", \"p25\": 1.17, \"p50\": 1.21, \"p75\": 1.3775, \"p50_trip\": 0, \"fastest_trip\": 1, \"car_duration_hours\": 0.76, \"competitive_route\": 1, \"bus_multiplier\": 1.32, \"bus_difference\": 14.4, \"num_trips\": 10, \"num_competitive\": 9, \"pct_trips_competitive\": 0.9, \"bus_difference_spread\": 34.8, \"route_group\": \"long\", \"max_trip_hrs\": 1.58, \"max_trip_route_group\": 2.5, \"name\": \"Yuba-Sutter Transit Authority\", \"caltrans_district\": \"03 - Marysville\", \"drmt_organization_name\": null, \"cutoff2\": 40, \"cutoff\": 0}, {\"calitp_itp_id\": 376, \"trip_key\": -8435216084765777762, \"trip_id\": \"t_1083290_b_26274_tn_0\", \"shape_id\": \"p_683\", \"route_id\": \"473\", \"service_hours\": 1.08, \"trip_first_departure_ts\": 19500, \"trip_last_arrival_ts\": 23400, \"departure_hour\": 5, \"time_of_day\": \"Owl Service\", \"p25\": 1.17, \"p50\": 1.21, \"p75\": 1.3775, \"p50_trip\": 0, \"fastest_trip\": 0, \"car_duration_hours\": 0.76, \"competitive_route\": 1, \"bus_multiplier\": 1.42, \"bus_difference\": 19.2, \"num_trips\": 10, \"num_competitive\": 9, \"pct_trips_competitive\": 0.9, \"bus_difference_spread\": 34.8, \"route_group\": \"long\", \"max_trip_hrs\": 1.58, \"max_trip_route_group\": 2.5, \"name\": \"Yuba-Sutter Transit Authority\", \"caltrans_district\": \"03 - Marysville\", \"drmt_organization_name\": null, \"cutoff2\": 40, \"cutoff\": 0}, {\"calitp_itp_id\": 376, \"trip_key\": 6516244206308814738, \"trip_id\": \"t_1083293_b_26274_tn_0\", \"shape_id\": \"p_682\", \"route_id\": \"473\", \"service_hours\": 1.17, \"trip_first_departure_ts\": 58500, \"trip_last_arrival_ts\": 62700, \"departure_hour\": 16, \"time_of_day\": \"Midday\", \"p25\": 1.17, \"p50\": 1.21, \"p75\": 1.3775, \"p50_trip\": 1, \"fastest_trip\": 0, \"car_duration_hours\": 0.76, \"competitive_route\": 1, \"bus_multiplier\": 1.54, \"bus_difference\": 24.6, \"num_trips\": 10, \"num_competitive\": 9, \"pct_trips_competitive\": 0.9, \"bus_difference_spread\": 34.8, \"route_group\": \"long\", \"max_trip_hrs\": 1.58, \"max_trip_route_group\": 2.5, \"name\": \"Yuba-Sutter Transit Authority\", \"caltrans_district\": \"03 - Marysville\", \"drmt_organization_name\": null, \"cutoff2\": 40, \"cutoff\": 0}, {\"calitp_itp_id\": 376, \"trip_key\": -3145666755083596760, \"trip_id\": \"t_1287004_b_26274_tn_0\", \"shape_id\": \"p_902176\", \"route_id\": \"473\", \"service_hours\": 1.17, \"trip_first_departure_ts\": 56400, \"trip_last_arrival_ts\": 60600, \"departure_hour\": 15, \"time_of_day\": \"Midday\", \"p25\": 1.17, \"p50\": 1.21, \"p75\": 1.3775, \"p50_trip\": 1, \"fastest_trip\": 0, \"car_duration_hours\": 0.76, \"competitive_route\": 1, \"bus_multiplier\": 1.54, \"bus_difference\": 24.6, \"num_trips\": 10, \"num_competitive\": 9, \"pct_trips_competitive\": 0.9, \"bus_difference_spread\": 34.8, \"route_group\": \"long\", \"max_trip_hrs\": 1.58, \"max_trip_route_group\": 2.5, \"name\": \"Yuba-Sutter Transit Authority\", \"caltrans_district\": \"03 - Marysville\", \"drmt_organization_name\": null, \"cutoff2\": 40, \"cutoff\": 0}, {\"calitp_itp_id\": 376, \"trip_key\": -6541386274374931803, \"trip_id\": \"t_1083294_b_26274_tn_0\", \"shape_id\": \"p_683\", \"route_id\": \"473\", \"service_hours\": 1.17, \"trip_first_departure_ts\": 24000, \"trip_last_arrival_ts\": 28200, \"departure_hour\": 6, \"time_of_day\": \"Owl Service\", \"p25\": 1.17, \"p50\": 1.21, \"p75\": 1.3775, \"p50_trip\": 1, \"fastest_trip\": 0, \"car_duration_hours\": 0.76, \"competitive_route\": 1, \"bus_multiplier\": 1.54, \"bus_difference\": 24.6, \"num_trips\": 10, \"num_competitive\": 9, \"pct_trips_competitive\": 0.9, \"bus_difference_spread\": 34.8, \"route_group\": \"long\", \"max_trip_hrs\": 1.58, \"max_trip_route_group\": 2.5, \"name\": \"Yuba-Sutter Transit Authority\", \"caltrans_district\": \"03 - Marysville\", \"drmt_organization_name\": null, \"cutoff2\": 40, \"cutoff\": 0}, {\"calitp_itp_id\": 376, \"trip_key\": 4977650576886127910, \"trip_id\": \"t_1083287_b_26274_tn_0\", \"shape_id\": \"p_677\", \"route_id\": \"473\", \"service_hours\": 1.25, \"trip_first_departure_ts\": 20100, \"trip_last_arrival_ts\": 24600, \"departure_hour\": 5, \"time_of_day\": \"Owl Service\", \"p25\": 1.17, \"p50\": 1.21, \"p75\": 1.3775, \"p50_trip\": 1, \"fastest_trip\": 0, \"car_duration_hours\": 0.76, \"competitive_route\": 1, \"bus_multiplier\": 1.64, \"bus_difference\": 29.4, \"num_trips\": 10, \"num_competitive\": 9, \"pct_trips_competitive\": 0.9, \"bus_difference_spread\": 34.8, \"route_group\": \"long\", \"max_trip_hrs\": 1.58, \"max_trip_route_group\": 2.5, \"name\": \"Yuba-Sutter Transit Authority\", \"caltrans_district\": \"03 - Marysville\", \"drmt_organization_name\": null, \"cutoff2\": 40, \"cutoff\": 0}, {\"calitp_itp_id\": 376, \"trip_key\": 73036594332883039, \"trip_id\": \"t_1083289_b_26274_tn_0\", \"shape_id\": \"p_677\", \"route_id\": \"473\", \"service_hours\": 1.25, \"trip_first_departure_ts\": 21900, \"trip_last_arrival_ts\": 26400, \"departure_hour\": 6, \"time_of_day\": \"Owl Service\", \"p25\": 1.17, \"p50\": 1.21, \"p75\": 1.3775, \"p50_trip\": 1, \"fastest_trip\": 0, \"car_duration_hours\": 0.76, \"competitive_route\": 1, \"bus_multiplier\": 1.64, \"bus_difference\": 29.4, \"num_trips\": 10, \"num_competitive\": 9, \"pct_trips_competitive\": 0.9, \"bus_difference_spread\": 34.8, \"route_group\": \"long\", \"max_trip_hrs\": 1.58, \"max_trip_route_group\": 2.5, \"name\": \"Yuba-Sutter Transit Authority\", \"caltrans_district\": \"03 - Marysville\", \"drmt_organization_name\": null, \"cutoff2\": 40, \"cutoff\": 0}, {\"calitp_itp_id\": 376, \"trip_key\": 1216137359861551197, \"trip_id\": \"t_1083291_b_26274_tn_0\", \"shape_id\": \"p_689\", \"route_id\": \"473\", \"service_hours\": 1.42, \"trip_first_departure_ts\": 58200, \"trip_last_arrival_ts\": 63300, \"departure_hour\": 16, \"time_of_day\": \"Midday\", \"p25\": 1.17, \"p50\": 1.21, \"p75\": 1.3775, \"p50_trip\": 0, \"fastest_trip\": 0, \"car_duration_hours\": 0.76, \"competitive_route\": 1, \"bus_multiplier\": 1.87, \"bus_difference\": 39.6, \"num_trips\": 10, \"num_competitive\": 9, \"pct_trips_competitive\": 0.9, \"bus_difference_spread\": 34.8, \"route_group\": \"long\", \"max_trip_hrs\": 1.58, \"max_trip_route_group\": 2.5, \"name\": \"Yuba-Sutter Transit Authority\", \"caltrans_district\": \"03 - Marysville\", \"drmt_organization_name\": null, \"cutoff2\": 40, \"cutoff\": 0}, {\"calitp_itp_id\": 376, \"trip_key\": 4153866782106947609, \"trip_id\": \"t_1287005_b_26274_tn_0\", \"shape_id\": \"p_902176\", \"route_id\": \"473\", \"service_hours\": 1.42, \"trip_first_departure_ts\": 62700, \"trip_last_arrival_ts\": 67800, \"departure_hour\": 17, \"time_of_day\": \"PM Peak\", \"p25\": 1.17, \"p50\": 1.21, \"p75\": 1.3775, \"p50_trip\": 0, \"fastest_trip\": 0, \"car_duration_hours\": 0.76, \"competitive_route\": 1, \"bus_multiplier\": 1.87, \"bus_difference\": 39.6, \"num_trips\": 10, \"num_competitive\": 9, \"pct_trips_competitive\": 0.9, \"bus_difference_spread\": 34.8, \"route_group\": \"long\", \"max_trip_hrs\": 1.58, \"max_trip_route_group\": 2.5, \"name\": \"Yuba-Sutter Transit Authority\", \"caltrans_district\": \"03 - Marysville\", \"drmt_organization_name\": null, \"cutoff2\": 40, \"cutoff\": 0}, {\"calitp_itp_id\": 376, \"trip_key\": 843407151134286902, \"trip_id\": \"t_1083292_b_26274_tn_0\", \"shape_id\": \"p_343\", \"route_id\": \"473\", \"service_hours\": 1.58, \"trip_first_departure_ts\": 59400, \"trip_last_arrival_ts\": 65100, \"departure_hour\": 16, \"time_of_day\": \"Midday\", \"p25\": 1.17, \"p50\": 1.21, \"p75\": 1.3775, \"p50_trip\": 0, \"fastest_trip\": 0, \"car_duration_hours\": 0.76, \"competitive_route\": 1, \"bus_multiplier\": 2.08, \"bus_difference\": 49.2, \"num_trips\": 10, \"num_competitive\": 9, \"pct_trips_competitive\": 0.9, \"bus_difference_spread\": 34.8, \"route_group\": \"long\", \"max_trip_hrs\": 1.58, \"max_trip_route_group\": 2.5, \"name\": \"Yuba-Sutter Transit Authority\", \"caltrans_district\": \"03 - Marysville\", \"drmt_organization_name\": null, \"cutoff2\": 40, \"cutoff\": 0}]}}, {\"mode\": \"vega-lite\"});\n",
       "</script>"
      ],
      "text/plain": [
       "alt.FacetChart(...)"
      ]
     },
     "metadata": {},
     "output_type": "display_data"
    }
   ],
   "source": [
    "route_group = \"long\"\n",
    "try:\n",
    "    display_charts_for_route_group(df, route_group)\n",
    "except:\n",
    "    print(\"No routes meet this criteria.\")"
   ]
  },
  {
   "cell_type": "markdown",
   "id": "ace75b5f-0442-4fbe-aebd-6c3a13ae13a7",
   "metadata": {
    "papermill": {
     "duration": 0.042167,
     "end_time": "2022-05-09T19:38:03.218626",
     "exception": false,
     "start_time": "2022-05-09T19:38:03.176459",
     "status": "completed"
    },
    "tags": []
   },
   "source": [
    "### GTFS Real-Time Speedmaps"
   ]
  },
  {
   "cell_type": "code",
   "execution_count": 16,
   "id": "a0a114a1-e975-4027-9daf-50029f5ef59f",
   "metadata": {
    "execution": {
     "iopub.execute_input": "2022-05-09T19:38:03.296190Z",
     "iopub.status.busy": "2022-05-09T19:38:03.294670Z",
     "iopub.status.idle": "2022-05-09T19:38:03.364473Z",
     "shell.execute_reply": "2022-05-09T19:38:03.363191Z"
    },
    "jupyter": {
     "source_hidden": true
    },
    "papermill": {
     "duration": 0.106005,
     "end_time": "2022-05-09T19:38:03.368071",
     "exception": false,
     "start_time": "2022-05-09T19:38:03.262066",
     "status": "completed"
    },
    "tags": [
     "remove_input"
    ]
   },
   "outputs": [
    {
     "data": {
      "text/html": [
       "No GTFS RT data available."
      ],
      "text/plain": [
       "<IPython.core.display.HTML object>"
      ]
     },
     "metadata": {},
     "output_type": "display_data"
    }
   ],
   "source": [
    "PORTFOLIO_SITE_YAML = \"../portfolio/analyses.yml\"\n",
    "\n",
    "# Grab list of ITP IDs with GTFS RT speedmaps\n",
    "rt_itp_id = deploy_portfolio_yaml.check_if_rt_data_available(PORTFOLIO_SITE_YAML)\n",
    "\n",
    "# Construct the URL \n",
    "RT_URL = (\"https://analysis.calitp.org/rt/\"\n",
    "          f\"district_{district_number}-{district_name}/\"\n",
    "          f\"speedmaps__itp_id_{itp_id}.html\"\n",
    "         ) \n",
    "\n",
    "if itp_id in rt_itp_id:\n",
    "    display(HTML(f'''<a href={RT_URL}>GTFS RT speedmaps here.</a>'''))\n",
    "\n",
    "else:\n",
    "    display(HTML(\"No GTFS RT data available.\"))"
   ]
  },
  {
   "cell_type": "code",
   "execution_count": null,
   "id": "5b680565-2230-4f2e-817c-718fad48d64c",
   "metadata": {
    "jupyter": {
     "source_hidden": true
    },
    "papermill": {
     "duration": 0.020265,
     "end_time": "2022-05-09T19:38:03.415204",
     "exception": false,
     "start_time": "2022-05-09T19:38:03.394939",
     "status": "completed"
    },
    "tags": [
     "remove_input"
    ]
   },
   "outputs": [],
   "source": []
  }
 ],
 "metadata": {
  "kernelspec": {
   "display_name": "Python 3 (ipykernel)",
   "language": "python",
   "name": "python3"
  },
  "language_info": {
   "codemirror_mode": {
    "name": "ipython",
    "version": 3
   },
   "file_extension": ".py",
   "mimetype": "text/x-python",
   "name": "python",
   "nbconvert_exporter": "python",
   "pygments_lexer": "ipython3",
   "version": "3.9.12"
  },
  "papermill": {
   "default_parameters": {},
   "duration": 29.083185,
   "end_time": "2022-05-09T19:38:05.758895",
   "environment_variables": {},
   "exception": null,
   "input_path": "bus_service_increase/competitive-parallel-routes.ipynb",
   "output_path": "portfolio/parallel_corridors/district_03-marysville/competitive-parallel-routes__itp_id_376.ipynb",
   "parameters": {
    "district": "03 - Marysville",
    "itp_id": 376
   },
   "start_time": "2022-05-09T19:37:36.675710",
   "version": "2.3.4"
  }
 },
 "nbformat": 4,
 "nbformat_minor": 5
}