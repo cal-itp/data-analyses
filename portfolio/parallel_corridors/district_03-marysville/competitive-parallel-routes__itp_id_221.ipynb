{
 "cells": [
  {
   "cell_type": "code",
   "execution_count": 1,
   "id": "95d00857-6a20-4529-a519-2cc7182928a9",
   "metadata": {
    "execution": {
     "iopub.execute_input": "2022-05-09T16:33:44.241874Z",
     "iopub.status.busy": "2022-05-09T16:33:44.241549Z",
     "iopub.status.idle": "2022-05-09T16:33:53.659561Z",
     "shell.execute_reply": "2022-05-09T16:33:53.658474Z"
    },
    "jupyter": {
     "source_hidden": true
    },
    "papermill": {
     "duration": 9.435049,
     "end_time": "2022-05-09T16:33:53.662543",
     "exception": false,
     "start_time": "2022-05-09T16:33:44.227494",
     "status": "completed"
    },
    "tags": [
     "remove_input"
    ]
   },
   "outputs": [],
   "source": [
    "%%capture\n",
    "import warnings\n",
    "warnings.filterwarnings('ignore')\n",
    "\n",
    "import altair as alt\n",
    "import calitp.magics\n",
    "import geopandas as gpd\n",
    "import intake\n",
    "import pandas as pd\n",
    "\n",
    "from IPython.display import display, Markdown, HTML\n",
    "\n",
    "import parallel_corridors_utils\n",
    "from shared_utils import styleguide\n",
    "import deploy_portfolio_yaml\n",
    "\n",
    "catalog = intake.open_catalog(\"./*.yml\")\n",
    "alt.renderers.enable(\"html\")"
   ]
  },
  {
   "cell_type": "code",
   "execution_count": 2,
   "id": "8af2a0c1-f3da-408d-9bea-11d9fbf8695d",
   "metadata": {
    "execution": {
     "iopub.execute_input": "2022-05-09T16:33:53.691074Z",
     "iopub.status.busy": "2022-05-09T16:33:53.690727Z",
     "iopub.status.idle": "2022-05-09T16:33:53.695302Z",
     "shell.execute_reply": "2022-05-09T16:33:53.694341Z"
    },
    "jupyter": {
     "source_hidden": true
    },
    "papermill": {
     "duration": 0.021655,
     "end_time": "2022-05-09T16:33:53.697336",
     "exception": false,
     "start_time": "2022-05-09T16:33:53.675681",
     "status": "completed"
    },
    "tags": [
     "parameters",
     "remove_input"
    ]
   },
   "outputs": [],
   "source": [
    "# parameters cell\n",
    "itp_id = 182"
   ]
  },
  {
   "cell_type": "code",
   "execution_count": 3,
   "id": "3f0748cf",
   "metadata": {
    "execution": {
     "iopub.execute_input": "2022-05-09T16:33:53.731942Z",
     "iopub.status.busy": "2022-05-09T16:33:53.731588Z",
     "iopub.status.idle": "2022-05-09T16:33:53.736843Z",
     "shell.execute_reply": "2022-05-09T16:33:53.735647Z"
    },
    "jupyter": {
     "source_hidden": true
    },
    "papermill": {
     "duration": 0.022229,
     "end_time": "2022-05-09T16:33:53.739483",
     "exception": false,
     "start_time": "2022-05-09T16:33:53.717254",
     "status": "completed"
    },
    "tags": [
     "injected-parameters",
     "remove_input"
    ]
   },
   "outputs": [],
   "source": [
    "# Parameters\n",
    "district = \"03 - Marysville\"\n",
    "itp_id = 221\n"
   ]
  },
  {
   "cell_type": "code",
   "execution_count": 4,
   "id": "9582aaf4-79ff-412a-b248-8d8d693ebd4f",
   "metadata": {
    "execution": {
     "iopub.execute_input": "2022-05-09T16:33:53.767803Z",
     "iopub.status.busy": "2022-05-09T16:33:53.767084Z",
     "iopub.status.idle": "2022-05-09T16:33:55.185075Z",
     "shell.execute_reply": "2022-05-09T16:33:55.184182Z"
    },
    "jupyter": {
     "source_hidden": true
    },
    "papermill": {
     "duration": 1.435264,
     "end_time": "2022-05-09T16:33:55.187695",
     "exception": false,
     "start_time": "2022-05-09T16:33:53.752431",
     "status": "completed"
    },
    "tags": [
     "remove_input"
    ]
   },
   "outputs": [],
   "source": [
    "df = catalog.competitive_route_variability.read()\n",
    "\n",
    "df = (df[(df.calitp_itp_id == itp_id) & \n",
    "         (df.route_group.notna())]\n",
    "      .reset_index(drop=True)\n",
    "     )\n",
    "\n",
    "\n",
    "if itp_id == 182:\n",
    "    df = df.assign(\n",
    "        route_id = df.route_id.str.replace('-13153', '').astype(int)\n",
    "    )"
   ]
  },
  {
   "cell_type": "code",
   "execution_count": 5,
   "id": "33ac4b06-f647-4dce-a625-8f2c1b37cc60",
   "metadata": {
    "execution": {
     "iopub.execute_input": "2022-05-09T16:33:55.216386Z",
     "iopub.status.busy": "2022-05-09T16:33:55.216034Z",
     "iopub.status.idle": "2022-05-09T16:33:55.226133Z",
     "shell.execute_reply": "2022-05-09T16:33:55.225218Z"
    },
    "jupyter": {
     "source_hidden": true
    },
    "papermill": {
     "duration": 0.026048,
     "end_time": "2022-05-09T16:33:55.228008",
     "exception": false,
     "start_time": "2022-05-09T16:33:55.201960",
     "status": "completed"
    },
    "tags": [
     "remove_input"
    ]
   },
   "outputs": [],
   "source": [
    "%%capture_parameters\n",
    "operator_name = df.name.iloc[0]\n",
    "district_number = f\"{df.caltrans_district.iloc[0].split('-')[0].strip()}\"\n",
    "district_name = f\"{df.caltrans_district.iloc[0].split('-')[1].strip().lower().replace(' ', '-')}\"\n",
    "\n",
    "itp_id, operator_name, district_number, district_name"
   ]
  },
  {
   "cell_type": "markdown",
   "id": "65bc6f5c-8348-42ee-b2dd-52057c406852",
   "metadata": {
    "papermill": {
     "duration": 0.012718,
     "end_time": "2022-05-09T16:33:55.253601",
     "exception": false,
     "start_time": "2022-05-09T16:33:55.240883",
     "status": "completed"
    },
    "tags": []
   },
   "source": [
    "# Nevada County (ITP ID: 221)"
   ]
  },
  {
   "cell_type": "code",
   "execution_count": 6,
   "id": "a689c1ab-2c6c-4831-8d64-897f5986f571",
   "metadata": {
    "execution": {
     "iopub.execute_input": "2022-05-09T16:33:55.283209Z",
     "iopub.status.busy": "2022-05-09T16:33:55.282825Z",
     "iopub.status.idle": "2022-05-09T16:33:55.291874Z",
     "shell.execute_reply": "2022-05-09T16:33:55.290779Z"
    },
    "jupyter": {
     "source_hidden": true
    },
    "papermill": {
     "duration": 0.025949,
     "end_time": "2022-05-09T16:33:55.293758",
     "exception": false,
     "start_time": "2022-05-09T16:33:55.267809",
     "status": "completed"
    },
    "tags": [
     "remove_input"
    ]
   },
   "outputs": [
    {
     "data": {
      "text/html": [
       "<h1>Competitive & Parallel Routes</h1>"
      ],
      "text/plain": [
       "<IPython.core.display.HTML object>"
      ]
     },
     "metadata": {},
     "output_type": "display_data"
    }
   ],
   "source": [
    "display(HTML(\"<h1>Competitive & Parallel Routes</h1>\")) "
   ]
  },
  {
   "cell_type": "code",
   "execution_count": 7,
   "id": "2cb4d8d5-4760-40e4-85b1-cb833d8bb648",
   "metadata": {
    "execution": {
     "iopub.execute_input": "2022-05-09T16:33:55.331169Z",
     "iopub.status.busy": "2022-05-09T16:33:55.330549Z",
     "iopub.status.idle": "2022-05-09T16:34:08.647083Z",
     "shell.execute_reply": "2022-05-09T16:34:08.646349Z"
    },
    "jupyter": {
     "source_hidden": true
    },
    "papermill": {
     "duration": 13.336518,
     "end_time": "2022-05-09T16:34:08.649911",
     "exception": false,
     "start_time": "2022-05-09T16:33:55.313393",
     "status": "completed"
    },
    "tags": [
     "remove_input"
    ]
   },
   "outputs": [],
   "source": [
    "# Grab parameters for narrative text - clean up formatting here \n",
    "district = df.caltrans_district.iloc[0]\n",
    "formatted_date = pd.to_datetime(parallel_corridors_utils.SELECTED_DATE).strftime('%m-%d-%Y')\n",
    "\n",
    "PCT_COMPETITIVE_THRESHOLD = 0.75\n",
    "\n",
    "stats = parallel_corridors_utils.operator_parallel_competitive_stats(\n",
    "    itp_id, PCT_COMPETITIVE_THRESHOLD)\n",
    "\n",
    "pct_parallel = round(stats['parallel_routes'] / stats['num_routes'] * 100,1 )\n",
    "pct_competitive =  round(stats['competitive_routes'] / stats['num_routes'] * 100,1 )"
   ]
  },
  {
   "cell_type": "markdown",
   "id": "ab667928-5274-4490-82d9-4c39293209a4",
   "metadata": {
    "papermill": {
     "duration": 0.013052,
     "end_time": "2022-05-09T16:34:08.676769",
     "exception": false,
     "start_time": "2022-05-09T16:34:08.663717",
     "status": "completed"
    },
    "tags": []
   },
   "source": [
    "## Quick Stats"
   ]
  },
  {
   "cell_type": "code",
   "execution_count": 8,
   "id": "0416509d-dc62-4165-b62e-64f8b26e8b8e",
   "metadata": {
    "execution": {
     "iopub.execute_input": "2022-05-09T16:34:08.710295Z",
     "iopub.status.busy": "2022-05-09T16:34:08.709649Z",
     "iopub.status.idle": "2022-05-09T16:34:08.717488Z",
     "shell.execute_reply": "2022-05-09T16:34:08.716563Z"
    },
    "jupyter": {
     "source_hidden": true
    },
    "papermill": {
     "duration": 0.030687,
     "end_time": "2022-05-09T16:34:08.719680",
     "exception": false,
     "start_time": "2022-05-09T16:34:08.688993",
     "status": "completed"
    },
    "tags": [
     "remove_input"
    ]
   },
   "outputs": [
    {
     "data": {
      "text/markdown": [
       "**Bus routes in service**: 7 <br>**Parallel routes** to State Highway Network (SHN): 7 routes (100.0%)<br>**Competitive routes** against car travel: 5 routes (71.4%)"
      ],
      "text/plain": [
       "<IPython.core.display.Markdown object>"
      ]
     },
     "metadata": {},
     "output_type": "display_data"
    }
   ],
   "source": [
    "display(\n",
    "    Markdown(\n",
    "        f\"**Bus routes in service**: {stats['num_routes']} \"\n",
    "        \"<br>**Parallel routes** to State Highway Network (SHN): \"\n",
    "        f\"{stats['parallel_routes']} routes ({pct_parallel}%)\"\n",
    "        f\"<br>**Competitive routes** against car travel: {stats['competitive_routes']} routes ({pct_competitive}%)\"\n",
    "    )\n",
    ")"
   ]
  },
  {
   "cell_type": "code",
   "execution_count": 9,
   "id": "f9d6ab58-f0ee-460c-b6de-657490e1f386",
   "metadata": {
    "execution": {
     "iopub.execute_input": "2022-05-09T16:34:08.750891Z",
     "iopub.status.busy": "2022-05-09T16:34:08.750582Z",
     "iopub.status.idle": "2022-05-09T16:34:08.761134Z",
     "shell.execute_reply": "2022-05-09T16:34:08.760071Z"
    },
    "jupyter": {
     "source_hidden": true
    },
    "papermill": {
     "duration": 0.029907,
     "end_time": "2022-05-09T16:34:08.763981",
     "exception": false,
     "start_time": "2022-05-09T16:34:08.734074",
     "status": "completed"
    },
    "tags": [
     "remove_input"
    ]
   },
   "outputs": [],
   "source": [
    "def set_yaxis_range(df, y_col):\n",
    "    Y_MIN = df[y_col].min()\n",
    "    Y_MAX = df[y_col].max()\n",
    "    \n",
    "    return Y_MIN, Y_MAX\n",
    "\n",
    "# Rather than set it according to the operator, which can vary,\n",
    "# just use set thresholds for each group\n",
    "diff_cutoffs = parallel_corridors_utils.diff_cutoffs\n",
    "\n",
    "PCT_TRIPS_BELOW_CUTOFF = 0.25\n",
    "\n",
    "def top15_routes(df, route_group):\n",
    "    df2 = (df[df.route_group==route_group])\n",
    "    # Set a cut-off to enable sorting, where most of the trips are \n",
    "    # below a certain time difference cut-off, \n",
    "    # grab top 15 routes where majority of trips are below that cut-off \n",
    "\n",
    "    route_cols = [\"calitp_itp_id\", \"route_id\"]\n",
    "\n",
    "    df2 = df2.assign(\n",
    "        below_cutoff = df2.apply(lambda x: 1 if x.bus_difference <= diff_cutoffs[route_group] \n",
    "                                 else 0, axis=1),\n",
    "        num_trips = df2.groupby(route_cols)[\"trip_id\"].transform(\"count\")\n",
    "    )\n",
    "\n",
    "    df2[\"below_cutoff\"] = df2.groupby(route_cols)[\"below_cutoff\"].transform(\"sum\")\n",
    "    df2[\"pct_below_cutoff\"] = df2.below_cutoff.divide(df2.num_trips)\n",
    "\n",
    "    # At least half the trips are below that cut-off\n",
    "    # but show 15 max, otherwise, show less, since these won't be as interesting to operators\n",
    "    df3 = (df2[df2.pct_below_cutoff >= PCT_TRIPS_BELOW_CUTOFF]\n",
    "           .sort_values([\"calitp_itp_id\", \"below_cutoff\", \n",
    "                         \"pct_below_cutoff\", \"route_id\"],\n",
    "                        ascending = [True, False, False, True]\n",
    "                       )\n",
    "           .drop_duplicates(subset=[\"calitp_itp_id\", \"route_id\"])\n",
    "          ).head(15)\n",
    "    \n",
    "    return list(df3.route_id)"
   ]
  },
  {
   "cell_type": "code",
   "execution_count": 10,
   "id": "cf36d559-3349-4144-8086-8ac9ce937a5a",
   "metadata": {
    "execution": {
     "iopub.execute_input": "2022-05-09T16:34:08.793710Z",
     "iopub.status.busy": "2022-05-09T16:34:08.793395Z",
     "iopub.status.idle": "2022-05-09T16:34:08.807340Z",
     "shell.execute_reply": "2022-05-09T16:34:08.806047Z"
    },
    "jupyter": {
     "source_hidden": true
    },
    "papermill": {
     "duration": 0.031804,
     "end_time": "2022-05-09T16:34:08.809922",
     "exception": false,
     "start_time": "2022-05-09T16:34:08.778118",
     "status": "completed"
    },
    "tags": [
     "remove_input"
    ]
   },
   "outputs": [],
   "source": [
    "def caption_with_cutoff(cutoff):\n",
    "    sentence = (\n",
    "        f\"<br>These are routes that have **at least {int(PCT_TRIPS_BELOW_CUTOFF*100)}% \"\n",
    "        \"of their trips take no more than an \"\n",
    "        f\"additional {cutoff} min** compared to a car \"\n",
    "        \"(up to 15 routes) are shown.\"\n",
    "        \"<br>Within each route group, routes are sorted in descending order \"\n",
    "        \"by % competitive trips and # trips below the additional time cut-off.\"\n",
    "    )\n",
    "    return sentence\n",
    "\n",
    "CAPTIONS_DICT = {\n",
    "    \"short\": caption_with_cutoff(diff_cutoffs['short']),\n",
    "    \"medium\": caption_with_cutoff(diff_cutoffs['medium']),\n",
    "    \"long\": caption_with_cutoff(diff_cutoffs['long']),\n",
    "}"
   ]
  },
  {
   "cell_type": "code",
   "execution_count": 11,
   "id": "e4306d58-6944-47e9-afef-5d5b524c751f",
   "metadata": {
    "execution": {
     "iopub.execute_input": "2022-05-09T16:34:08.839327Z",
     "iopub.status.busy": "2022-05-09T16:34:08.839013Z",
     "iopub.status.idle": "2022-05-09T16:34:08.845775Z",
     "shell.execute_reply": "2022-05-09T16:34:08.844757Z"
    },
    "jupyter": {
     "source_hidden": true
    },
    "papermill": {
     "duration": 0.024622,
     "end_time": "2022-05-09T16:34:08.848325",
     "exception": false,
     "start_time": "2022-05-09T16:34:08.823703",
     "status": "completed"
    },
    "tags": [
     "remove_input"
    ]
   },
   "outputs": [],
   "source": [
    "def setup_charts(df, PCT_COMPETITIVE_THRESHOLD, route_group):\n",
    "    # Set up df for charting (cut-off at some threshold to show most competitive routes)\n",
    "    plot_me = (df[df.pct_trips_competitive > PCT_COMPETITIVE_THRESHOLD]\n",
    "           .drop(columns = \"geometry\")\n",
    "    )\n",
    "    \n",
    "    y_col1 = \"bus_multiplier\"\n",
    "    Y_MIN1, Y_MAX1 = set_yaxis_range(plot_me, y_col1)\n",
    "\n",
    "    y_col2 = \"bus_difference\"\n",
    "    Y_MIN2, Y_MAX2 = set_yaxis_range(plot_me, y_col2)\n",
    "     \n",
    "    subset_routes = top15_routes(plot_me, route_group)\n",
    "    \n",
    "    multiplier_chart = parallel_corridors_utils.make_stripplot(\n",
    "        plot_me[plot_me.route_id.isin(subset_routes)], \n",
    "        y_col1, Y_MIN = Y_MIN1, Y_MAX = Y_MAX1\n",
    "    )\n",
    "    \n",
    "    difference_chart = parallel_corridors_utils.make_stripplot(\n",
    "        plot_me[plot_me.route_id.isin(subset_routes)], \n",
    "        y_col2, Y_MIN = Y_MIN2, Y_MAX = Y_MAX2\n",
    "    )\n",
    "    \n",
    "    return subset_routes, multiplier_chart, difference_chart            "
   ]
  },
  {
   "cell_type": "code",
   "execution_count": 12,
   "id": "33a710e8-504c-4942-aa75-ff69f216956e",
   "metadata": {
    "execution": {
     "iopub.execute_input": "2022-05-09T16:34:08.879885Z",
     "iopub.status.busy": "2022-05-09T16:34:08.879527Z",
     "iopub.status.idle": "2022-05-09T16:34:08.885696Z",
     "shell.execute_reply": "2022-05-09T16:34:08.884997Z"
    },
    "jupyter": {
     "source_hidden": true
    },
    "papermill": {
     "duration": 0.025778,
     "end_time": "2022-05-09T16:34:08.887494",
     "exception": false,
     "start_time": "2022-05-09T16:34:08.861716",
     "status": "completed"
    },
    "tags": [
     "remove_input"
    ]
   },
   "outputs": [],
   "source": [
    "def display_charts_for_route_group(df, route_group):    \n",
    "    subset_routes, mult, diff  = setup_charts(df, PCT_COMPETITIVE_THRESHOLD, route_group)\n",
    "\n",
    "    if len(subset_routes) > 0:\n",
    "        display(Markdown(f\"{CAPTIONS_DICT[route_group]}\"))\n",
    "\n",
    "        display(mult)\n",
    "        display(diff)"
   ]
  },
  {
   "cell_type": "markdown",
   "id": "525f9b38-072b-46d1-96a8-1aa4b038357c",
   "metadata": {
    "papermill": {
     "duration": 0.014102,
     "end_time": "2022-05-09T16:34:08.922831",
     "exception": false,
     "start_time": "2022-05-09T16:34:08.908729",
     "status": "completed"
    },
    "tags": []
   },
   "source": [
    "## Viable Competitive Routes\n",
    "### Short Routes (< 1 hr)"
   ]
  },
  {
   "cell_type": "code",
   "execution_count": 13,
   "id": "57f7084c-2cf7-45c6-ba08-1609e0bd6ca5",
   "metadata": {
    "execution": {
     "iopub.execute_input": "2022-05-09T16:34:08.953302Z",
     "iopub.status.busy": "2022-05-09T16:34:08.952978Z",
     "iopub.status.idle": "2022-05-09T16:34:09.228357Z",
     "shell.execute_reply": "2022-05-09T16:34:09.227518Z"
    },
    "jupyter": {
     "source_hidden": true
    },
    "papermill": {
     "duration": 0.293305,
     "end_time": "2022-05-09T16:34:09.230684",
     "exception": false,
     "start_time": "2022-05-09T16:34:08.937379",
     "status": "completed"
    },
    "tags": [
     "remove_input"
    ]
   },
   "outputs": [
    {
     "data": {
      "text/markdown": [
       "<br>These are routes that have **at least 25% of their trips take no more than an additional 20 min** compared to a car (up to 15 routes) are shown.<br>Within each route group, routes are sorted in descending order by % competitive trips and # trips below the additional time cut-off."
      ],
      "text/plain": [
       "<IPython.core.display.Markdown object>"
      ]
     },
     "metadata": {},
     "output_type": "display_data"
    },
    {
     "data": {
      "text/html": [
       "\n",
       "<div id=\"altair-viz-b5106890310b441681e7dbf079460796\"></div>\n",
       "<script type=\"text/javascript\">\n",
       "  var VEGA_DEBUG = (typeof VEGA_DEBUG == \"undefined\") ? {} : VEGA_DEBUG;\n",
       "  (function(spec, embedOpt){\n",
       "    let outputDiv = document.currentScript.previousElementSibling;\n",
       "    if (outputDiv.id !== \"altair-viz-b5106890310b441681e7dbf079460796\") {\n",
       "      outputDiv = document.getElementById(\"altair-viz-b5106890310b441681e7dbf079460796\");\n",
       "    }\n",
       "    const paths = {\n",
       "      \"vega\": \"https://cdn.jsdelivr.net/npm//vega@5?noext\",\n",
       "      \"vega-lib\": \"https://cdn.jsdelivr.net/npm//vega-lib?noext\",\n",
       "      \"vega-lite\": \"https://cdn.jsdelivr.net/npm//vega-lite@4.17.0?noext\",\n",
       "      \"vega-embed\": \"https://cdn.jsdelivr.net/npm//vega-embed@6?noext\",\n",
       "    };\n",
       "\n",
       "    function maybeLoadScript(lib, version) {\n",
       "      var key = `${lib.replace(\"-\", \"\")}_version`;\n",
       "      return (VEGA_DEBUG[key] == version) ?\n",
       "        Promise.resolve(paths[lib]) :\n",
       "        new Promise(function(resolve, reject) {\n",
       "          var s = document.createElement('script');\n",
       "          document.getElementsByTagName(\"head\")[0].appendChild(s);\n",
       "          s.async = true;\n",
       "          s.onload = () => {\n",
       "            VEGA_DEBUG[key] = version;\n",
       "            return resolve(paths[lib]);\n",
       "          };\n",
       "          s.onerror = () => reject(`Error loading script: ${paths[lib]}`);\n",
       "          s.src = paths[lib];\n",
       "        });\n",
       "    }\n",
       "\n",
       "    function showError(err) {\n",
       "      outputDiv.innerHTML = `<div class=\"error\" style=\"color:red;\">${err}</div>`;\n",
       "      throw err;\n",
       "    }\n",
       "\n",
       "    function displayChart(vegaEmbed) {\n",
       "      vegaEmbed(outputDiv, spec, embedOpt)\n",
       "        .catch(err => showError(`Javascript Error: ${err.message}<br>This usually means there's a typo in your chart specification. See the javascript console for the full traceback.`));\n",
       "    }\n",
       "\n",
       "    if(typeof define === \"function\" && define.amd) {\n",
       "      requirejs.config({paths});\n",
       "      require([\"vega-embed\"], displayChart, err => showError(`Error loading script: ${err.message}`));\n",
       "    } else {\n",
       "      maybeLoadScript(\"vega\", \"5\")\n",
       "        .then(() => maybeLoadScript(\"vega-lite\", \"4.17.0\"))\n",
       "        .then(() => maybeLoadScript(\"vega-embed\", \"6\"))\n",
       "        .catch(showError)\n",
       "        .then(() => displayChart(vegaEmbed));\n",
       "    }\n",
       "  })({\"config\": {\"view\": {\"continuousWidth\": 400, \"continuousHeight\": 300, \"stroke\": null}, \"facet\": {\"spacing\": 0}}, \"data\": {\"name\": \"data-2a50f16aa614f3eff3896418c536c040\"}, \"facet\": {\"column\": {\"field\": \"route_id\", \"sort\": [\"14213\", \"14214\", \"16672\", \"14215\"], \"title\": \"Route ID\", \"type\": \"nominal\"}}, \"spec\": {\"layer\": [{\"mark\": \"rule\", \"encoding\": {\"color\": {\"value\": \"black\"}, \"y\": {\"field\": \"cutoff\", \"type\": \"quantitative\"}}, \"selection\": {\"selector001\": {\"type\": \"interval\", \"bind\": \"scales\", \"encodings\": [\"x\", \"y\"]}}}, {\"mark\": {\"type\": \"point\", \"opacity\": 0.65, \"size\": 12, \"strokeWidth\": 1.1}, \"encoding\": {\"color\": {\"field\": \"time_of_day\", \"scale\": {\"range\": [\"#136C97\", \"#E16B26\", \"#F6BF16\", \"#00896B\", \"#7790A3\", \"#5B559C\"]}, \"sort\": [\"AM Peak\", \"Midday\", \"PM Peak\", \"Owl Service\"], \"title\": \"Time of Day\", \"type\": \"nominal\"}, \"tooltip\": [{\"field\": \"route_id\", \"type\": \"nominal\"}, {\"field\": \"trip_id\", \"type\": \"nominal\"}, {\"field\": \"service_hours\", \"type\": \"quantitative\"}, {\"field\": \"car_duration_hours\", \"type\": \"quantitative\"}, {\"field\": \"bus_multiplier\", \"type\": \"quantitative\"}, {\"field\": \"bus_difference\", \"type\": \"quantitative\"}, {\"field\": \"num_trips\", \"type\": \"quantitative\"}, {\"field\": \"num_competitive\", \"type\": \"quantitative\"}, {\"field\": \"pct_trips_competitive\", \"type\": \"quantitative\"}, {\"field\": \"p25\", \"type\": \"quantitative\"}, {\"field\": \"p50\", \"type\": \"quantitative\"}, {\"field\": \"p75\", \"type\": \"quantitative\"}], \"x\": {\"axis\": {\"grid\": false, \"labels\": false, \"ticks\": true, \"values\": [0]}, \"field\": \"jitter\", \"scale\": {}, \"title\": null, \"type\": \"quantitative\"}, \"y\": {\"field\": \"bus_multiplier\", \"scale\": {\"domain\": [-0.25, 2.5]}, \"title\": \"Ratio of Bus to Car Travel Time\", \"type\": \"quantitative\"}}, \"transform\": [{\"calculate\": \"sqrt(-2*log(random()))*cos(2*PI*random())\", \"as\": \"jitter\"}], \"width\": 50}, {\"layer\": [{\"mark\": {\"type\": \"point\", \"opacity\": 0.6, \"size\": 20, \"strokeWidth\": 1.3}, \"encoding\": {\"color\": {\"value\": \"#323434\"}, \"y\": {\"field\": \"bus_multiplier\", \"type\": \"quantitative\"}}, \"transform\": [{\"filter\": \"(datum.p50_trip === 1)\"}]}, {\"mark\": {\"type\": \"text\", \"align\": \"center\", \"baseline\": \"middle\"}, \"encoding\": {\"color\": {\"value\": \"black\"}, \"text\": {\"field\": \"pct_trips_competitive\", \"format\": \".0%\", \"type\": \"quantitative\"}, \"tooltip\": [{\"field\": \"route_id\", \"type\": \"nominal\"}, {\"field\": \"trip_id\", \"type\": \"nominal\"}, {\"field\": \"service_hours\", \"type\": \"quantitative\"}, {\"field\": \"car_duration_hours\", \"type\": \"quantitative\"}, {\"field\": \"bus_multiplier\", \"type\": \"quantitative\"}, {\"field\": \"bus_difference\", \"type\": \"quantitative\"}, {\"field\": \"num_trips\", \"type\": \"quantitative\"}, {\"field\": \"num_competitive\", \"type\": \"quantitative\"}, {\"field\": \"pct_trips_competitive\", \"type\": \"quantitative\"}, {\"field\": \"p25\", \"type\": \"quantitative\"}, {\"field\": \"p50\", \"type\": \"quantitative\"}, {\"field\": \"p75\", \"type\": \"quantitative\"}], \"x\": {\"value\": 30}, \"y\": {\"value\": 15}}, \"transform\": [{\"calculate\": \"sqrt(-2*log(random()))*cos(2*PI*random())\", \"as\": \"jitter\"}, {\"filter\": \"(datum.fastest_trip === 1)\"}]}]}]}, \"resolve\": {\"scale\": {\"y\": \"shared\"}}, \"title\": \"Ratio of Bus to Car Travel Time\", \"$schema\": \"https://vega.github.io/schema/vega-lite/v4.17.0.json\", \"datasets\": {\"data-2a50f16aa614f3eff3896418c536c040\": [{\"calitp_itp_id\": 221, \"trip_key\": -776577417486649908, \"trip_id\": \"t_1523702_b_30719_tn_0\", \"shape_id\": \"p_1277365\", \"route_id\": \"14213\", \"service_hours\": 0.3, \"trip_first_departure_ts\": 32760, \"trip_last_arrival_ts\": 33840, \"departure_hour\": 9, \"time_of_day\": \"AM Peak\", \"p25\": 0.3, \"p50\": 0.53, \"p75\": 0.53, \"p50_trip\": 0, \"fastest_trip\": 0, \"car_duration_hours\": 0.29, \"competitive_route\": 1, \"bus_multiplier\": 1.03, \"bus_difference\": 0.6, \"num_trips\": 25, \"num_competitive\": 25, \"pct_trips_competitive\": 1.0, \"bus_difference_spread\": 13.8, \"route_group\": \"short\", \"max_trip_hrs\": 0.53, \"max_trip_route_group\": 1.0, \"name\": \"Nevada County\", \"caltrans_district\": \"03 - Marysville\", \"drmt_organization_name\": null, \"cutoff2\": 20, \"cutoff\": 2}, {\"calitp_itp_id\": 221, \"trip_key\": -4402755691279351913, \"trip_id\": \"t_1523705_b_30719_tn_0\", \"shape_id\": \"p_1277365\", \"route_id\": \"14213\", \"service_hours\": 0.3, \"trip_first_departure_ts\": 43560, \"trip_last_arrival_ts\": 44640, \"departure_hour\": 12, \"time_of_day\": \"Midday\", \"p25\": 0.3, \"p50\": 0.53, \"p75\": 0.53, \"p50_trip\": 0, \"fastest_trip\": 0, \"car_duration_hours\": 0.29, \"competitive_route\": 1, \"bus_multiplier\": 1.03, \"bus_difference\": 0.6, \"num_trips\": 25, \"num_competitive\": 25, \"pct_trips_competitive\": 1.0, \"bus_difference_spread\": 13.8, \"route_group\": \"short\", \"max_trip_hrs\": 0.53, \"max_trip_route_group\": 1.0, \"name\": \"Nevada County\", \"caltrans_district\": \"03 - Marysville\", \"drmt_organization_name\": null, \"cutoff2\": 20, \"cutoff\": 2}, {\"calitp_itp_id\": 221, \"trip_key\": -2411665841726982938, \"trip_id\": \"t_1523703_b_30719_tn_0\", \"shape_id\": \"p_1277365\", \"route_id\": \"14213\", \"service_hours\": 0.3, \"trip_first_departure_ts\": 36360, \"trip_last_arrival_ts\": 37440, \"departure_hour\": 10, \"time_of_day\": \"Midday\", \"p25\": 0.3, \"p50\": 0.53, \"p75\": 0.53, \"p50_trip\": 0, \"fastest_trip\": 0, \"car_duration_hours\": 0.29, \"competitive_route\": 1, \"bus_multiplier\": 1.03, \"bus_difference\": 0.6, \"num_trips\": 25, \"num_competitive\": 25, \"pct_trips_competitive\": 1.0, \"bus_difference_spread\": 13.8, \"route_group\": \"short\", \"max_trip_hrs\": 0.53, \"max_trip_route_group\": 1.0, \"name\": \"Nevada County\", \"caltrans_district\": \"03 - Marysville\", \"drmt_organization_name\": null, \"cutoff2\": 20, \"cutoff\": 2}, {\"calitp_itp_id\": 221, \"trip_key\": 8521167032569293107, \"trip_id\": \"t_1523708_b_30719_tn_0\", \"shape_id\": \"p_1277365\", \"route_id\": \"14213\", \"service_hours\": 0.3, \"trip_first_departure_ts\": 54360, \"trip_last_arrival_ts\": 55440, \"departure_hour\": 15, \"time_of_day\": \"Midday\", \"p25\": 0.3, \"p50\": 0.53, \"p75\": 0.53, \"p50_trip\": 0, \"fastest_trip\": 0, \"car_duration_hours\": 0.29, \"competitive_route\": 1, \"bus_multiplier\": 1.03, \"bus_difference\": 0.6, \"num_trips\": 25, \"num_competitive\": 25, \"pct_trips_competitive\": 1.0, \"bus_difference_spread\": 13.8, \"route_group\": \"short\", \"max_trip_hrs\": 0.53, \"max_trip_route_group\": 1.0, \"name\": \"Nevada County\", \"caltrans_district\": \"03 - Marysville\", \"drmt_organization_name\": null, \"cutoff2\": 20, \"cutoff\": 2}, {\"calitp_itp_id\": 221, \"trip_key\": 2335938942291766947, \"trip_id\": \"t_1523709_b_30719_tn_0\", \"shape_id\": \"p_1277365\", \"route_id\": \"14213\", \"service_hours\": 0.3, \"trip_first_departure_ts\": 57960, \"trip_last_arrival_ts\": 59040, \"departure_hour\": 16, \"time_of_day\": \"Midday\", \"p25\": 0.3, \"p50\": 0.53, \"p75\": 0.53, \"p50_trip\": 0, \"fastest_trip\": 0, \"car_duration_hours\": 0.29, \"competitive_route\": 1, \"bus_multiplier\": 1.03, \"bus_difference\": 0.6, \"num_trips\": 25, \"num_competitive\": 25, \"pct_trips_competitive\": 1.0, \"bus_difference_spread\": 13.8, \"route_group\": \"short\", \"max_trip_hrs\": 0.53, \"max_trip_route_group\": 1.0, \"name\": \"Nevada County\", \"caltrans_district\": \"03 - Marysville\", \"drmt_organization_name\": null, \"cutoff2\": 20, \"cutoff\": 2}, {\"calitp_itp_id\": 221, \"trip_key\": -6599830263524833773, \"trip_id\": \"t_1523707_b_30719_tn_0\", \"shape_id\": \"p_1277365\", \"route_id\": \"14213\", \"service_hours\": 0.3, \"trip_first_departure_ts\": 50760, \"trip_last_arrival_ts\": 51840, \"departure_hour\": 14, \"time_of_day\": \"Midday\", \"p25\": 0.3, \"p50\": 0.53, \"p75\": 0.53, \"p50_trip\": 0, \"fastest_trip\": 0, \"car_duration_hours\": 0.29, \"competitive_route\": 1, \"bus_multiplier\": 1.03, \"bus_difference\": 0.6, \"num_trips\": 25, \"num_competitive\": 25, \"pct_trips_competitive\": 1.0, \"bus_difference_spread\": 13.8, \"route_group\": \"short\", \"max_trip_hrs\": 0.53, \"max_trip_route_group\": 1.0, \"name\": \"Nevada County\", \"caltrans_district\": \"03 - Marysville\", \"drmt_organization_name\": null, \"cutoff2\": 20, \"cutoff\": 2}, {\"calitp_itp_id\": 221, \"trip_key\": -1792138766408127314, \"trip_id\": \"t_1524377_b_30719_tn_3\", \"shape_id\": \"p_1277365\", \"route_id\": \"14213\", \"service_hours\": 0.3, \"trip_first_departure_ts\": 68760, \"trip_last_arrival_ts\": 69840, \"departure_hour\": 19, \"time_of_day\": \"PM Peak\", \"p25\": 0.3, \"p50\": 0.53, \"p75\": 0.53, \"p50_trip\": 0, \"fastest_trip\": 1, \"car_duration_hours\": 0.29, \"competitive_route\": 1, \"bus_multiplier\": 1.03, \"bus_difference\": 0.6, \"num_trips\": 25, \"num_competitive\": 25, \"pct_trips_competitive\": 1.0, \"bus_difference_spread\": 13.8, \"route_group\": \"short\", \"max_trip_hrs\": 0.53, \"max_trip_route_group\": 1.0, \"name\": \"Nevada County\", \"caltrans_district\": \"03 - Marysville\", \"drmt_organization_name\": null, \"cutoff2\": 20, \"cutoff\": 2}, {\"calitp_itp_id\": 221, \"trip_key\": 5545502996058682558, \"trip_id\": \"t_1523706_b_30719_tn_0\", \"shape_id\": \"p_1277365\", \"route_id\": \"14213\", \"service_hours\": 0.3, \"trip_first_departure_ts\": 47160, \"trip_last_arrival_ts\": 48240, \"departure_hour\": 13, \"time_of_day\": \"Midday\", \"p25\": 0.3, \"p50\": 0.53, \"p75\": 0.53, \"p50_trip\": 0, \"fastest_trip\": 0, \"car_duration_hours\": 0.29, \"competitive_route\": 1, \"bus_multiplier\": 1.03, \"bus_difference\": 0.6, \"num_trips\": 25, \"num_competitive\": 25, \"pct_trips_competitive\": 1.0, \"bus_difference_spread\": 13.8, \"route_group\": \"short\", \"max_trip_hrs\": 0.53, \"max_trip_route_group\": 1.0, \"name\": \"Nevada County\", \"caltrans_district\": \"03 - Marysville\", \"drmt_organization_name\": null, \"cutoff2\": 20, \"cutoff\": 2}, {\"calitp_itp_id\": 221, \"trip_key\": -2946560557554459726, \"trip_id\": \"t_1524377_b_30719_tn_2\", \"shape_id\": \"p_1277365\", \"route_id\": \"14213\", \"service_hours\": 0.3, \"trip_first_departure_ts\": 65160, \"trip_last_arrival_ts\": 66240, \"departure_hour\": 18, \"time_of_day\": \"PM Peak\", \"p25\": 0.3, \"p50\": 0.53, \"p75\": 0.53, \"p50_trip\": 0, \"fastest_trip\": 0, \"car_duration_hours\": 0.29, \"competitive_route\": 1, \"bus_multiplier\": 1.03, \"bus_difference\": 0.6, \"num_trips\": 25, \"num_competitive\": 25, \"pct_trips_competitive\": 1.0, \"bus_difference_spread\": 13.8, \"route_group\": \"short\", \"max_trip_hrs\": 0.53, \"max_trip_route_group\": 1.0, \"name\": \"Nevada County\", \"caltrans_district\": \"03 - Marysville\", \"drmt_organization_name\": null, \"cutoff2\": 20, \"cutoff\": 2}, {\"calitp_itp_id\": 221, \"trip_key\": -5601550539585256135, \"trip_id\": \"t_1523704_b_30719_tn_0\", \"shape_id\": \"p_1277365\", \"route_id\": \"14213\", \"service_hours\": 0.3, \"trip_first_departure_ts\": 39960, \"trip_last_arrival_ts\": 41040, \"departure_hour\": 11, \"time_of_day\": \"Midday\", \"p25\": 0.3, \"p50\": 0.53, \"p75\": 0.53, \"p50_trip\": 0, \"fastest_trip\": 0, \"car_duration_hours\": 0.29, \"competitive_route\": 1, \"bus_multiplier\": 1.03, \"bus_difference\": 0.6, \"num_trips\": 25, \"num_competitive\": 25, \"pct_trips_competitive\": 1.0, \"bus_difference_spread\": 13.8, \"route_group\": \"short\", \"max_trip_hrs\": 0.53, \"max_trip_route_group\": 1.0, \"name\": \"Nevada County\", \"caltrans_district\": \"03 - Marysville\", \"drmt_organization_name\": null, \"cutoff2\": 20, \"cutoff\": 2}, {\"calitp_itp_id\": 221, \"trip_key\": 8457037490932722398, \"trip_id\": \"t_1524377_b_30719_tn_1\", \"shape_id\": \"p_1277365\", \"route_id\": \"14213\", \"service_hours\": 0.3, \"trip_first_departure_ts\": 61560, \"trip_last_arrival_ts\": 62640, \"departure_hour\": 17, \"time_of_day\": \"PM Peak\", \"p25\": 0.3, \"p50\": 0.53, \"p75\": 0.53, \"p50_trip\": 0, \"fastest_trip\": 0, \"car_duration_hours\": 0.29, \"competitive_route\": 1, \"bus_multiplier\": 1.03, \"bus_difference\": 0.6, \"num_trips\": 25, \"num_competitive\": 25, \"pct_trips_competitive\": 1.0, \"bus_difference_spread\": 13.8, \"route_group\": \"short\", \"max_trip_hrs\": 0.53, \"max_trip_route_group\": 1.0, \"name\": \"Nevada County\", \"caltrans_district\": \"03 - Marysville\", \"drmt_organization_name\": null, \"cutoff2\": 20, \"cutoff\": 2}, {\"calitp_itp_id\": 221, \"trip_key\": -18513496323167033, \"trip_id\": \"t_1523701_b_30719_tn_0\", \"shape_id\": \"p_1277365\", \"route_id\": \"14213\", \"service_hours\": 0.3, \"trip_first_departure_ts\": 29160, \"trip_last_arrival_ts\": 30240, \"departure_hour\": 8, \"time_of_day\": \"AM Peak\", \"p25\": 0.3, \"p50\": 0.53, \"p75\": 0.53, \"p50_trip\": 0, \"fastest_trip\": 0, \"car_duration_hours\": 0.29, \"competitive_route\": 1, \"bus_multiplier\": 1.03, \"bus_difference\": 0.6, \"num_trips\": 25, \"num_competitive\": 25, \"pct_trips_competitive\": 1.0, \"bus_difference_spread\": 13.8, \"route_group\": \"short\", \"max_trip_hrs\": 0.53, \"max_trip_route_group\": 1.0, \"name\": \"Nevada County\", \"caltrans_district\": \"03 - Marysville\", \"drmt_organization_name\": null, \"cutoff2\": 20, \"cutoff\": 2}, {\"calitp_itp_id\": 221, \"trip_key\": -751622146585304013, \"trip_id\": \"t_1523699_b_30719_tn_0\", \"shape_id\": \"p_1277406\", \"route_id\": \"14213\", \"service_hours\": 0.53, \"trip_first_departure_ts\": 37800, \"trip_last_arrival_ts\": 39720, \"departure_hour\": 10, \"time_of_day\": \"Midday\", \"p25\": 0.3, \"p50\": 0.53, \"p75\": 0.53, \"p50_trip\": 1, \"fastest_trip\": 0, \"car_duration_hours\": 0.29, \"competitive_route\": 1, \"bus_multiplier\": 1.83, \"bus_difference\": 14.4, \"num_trips\": 25, \"num_competitive\": 25, \"pct_trips_competitive\": 1.0, \"bus_difference_spread\": 13.8, \"route_group\": \"short\", \"max_trip_hrs\": 0.53, \"max_trip_route_group\": 1.0, \"name\": \"Nevada County\", \"caltrans_district\": \"03 - Marysville\", \"drmt_organization_name\": null, \"cutoff2\": 20, \"cutoff\": 2}, {\"calitp_itp_id\": 221, \"trip_key\": 5958656306653386538, \"trip_id\": \"t_1523700_b_30719_tn_0\", \"shape_id\": \"p_1277406\", \"route_id\": \"14213\", \"service_hours\": 0.53, \"trip_first_departure_ts\": 41400, \"trip_last_arrival_ts\": 43320, \"departure_hour\": 11, \"time_of_day\": \"Midday\", \"p25\": 0.3, \"p50\": 0.53, \"p75\": 0.53, \"p50_trip\": 1, \"fastest_trip\": 0, \"car_duration_hours\": 0.29, \"competitive_route\": 1, \"bus_multiplier\": 1.83, \"bus_difference\": 14.4, \"num_trips\": 25, \"num_competitive\": 25, \"pct_trips_competitive\": 1.0, \"bus_difference_spread\": 13.8, \"route_group\": \"short\", \"max_trip_hrs\": 0.53, \"max_trip_route_group\": 1.0, \"name\": \"Nevada County\", \"caltrans_district\": \"03 - Marysville\", \"drmt_organization_name\": null, \"cutoff2\": 20, \"cutoff\": 2}, {\"calitp_itp_id\": 221, \"trip_key\": -2930613919531841270, \"trip_id\": \"t_1523714_b_30719_tn_0\", \"shape_id\": \"p_1277406\", \"route_id\": \"14213\", \"service_hours\": 0.53, \"trip_first_departure_ts\": 23400, \"trip_last_arrival_ts\": 25320, \"departure_hour\": 6, \"time_of_day\": \"Owl Service\", \"p25\": 0.3, \"p50\": 0.53, \"p75\": 0.53, \"p50_trip\": 1, \"fastest_trip\": 0, \"car_duration_hours\": 0.29, \"competitive_route\": 1, \"bus_multiplier\": 1.83, \"bus_difference\": 14.4, \"num_trips\": 25, \"num_competitive\": 25, \"pct_trips_competitive\": 1.0, \"bus_difference_spread\": 13.8, \"route_group\": \"short\", \"max_trip_hrs\": 0.53, \"max_trip_route_group\": 1.0, \"name\": \"Nevada County\", \"caltrans_district\": \"03 - Marysville\", \"drmt_organization_name\": null, \"cutoff2\": 20, \"cutoff\": 2}, {\"calitp_itp_id\": 221, \"trip_key\": -7943430864300439059, \"trip_id\": \"t_1523697_b_30719_tn_0\", \"shape_id\": \"p_1277406\", \"route_id\": \"14213\", \"service_hours\": 0.53, \"trip_first_departure_ts\": 45000, \"trip_last_arrival_ts\": 46920, \"departure_hour\": 12, \"time_of_day\": \"Midday\", \"p25\": 0.3, \"p50\": 0.53, \"p75\": 0.53, \"p50_trip\": 1, \"fastest_trip\": 0, \"car_duration_hours\": 0.29, \"competitive_route\": 1, \"bus_multiplier\": 1.83, \"bus_difference\": 14.4, \"num_trips\": 25, \"num_competitive\": 25, \"pct_trips_competitive\": 1.0, \"bus_difference_spread\": 13.8, \"route_group\": \"short\", \"max_trip_hrs\": 0.53, \"max_trip_route_group\": 1.0, \"name\": \"Nevada County\", \"caltrans_district\": \"03 - Marysville\", \"drmt_organization_name\": null, \"cutoff2\": 20, \"cutoff\": 2}, {\"calitp_itp_id\": 221, \"trip_key\": -2717591988354409515, \"trip_id\": \"t_1523715_b_30719_tn_2\", \"shape_id\": \"p_1277406\", \"route_id\": \"14213\", \"service_hours\": 0.53, \"trip_first_departure_ts\": 63000, \"trip_last_arrival_ts\": 64920, \"departure_hour\": 17, \"time_of_day\": \"PM Peak\", \"p25\": 0.3, \"p50\": 0.53, \"p75\": 0.53, \"p50_trip\": 1, \"fastest_trip\": 0, \"car_duration_hours\": 0.29, \"competitive_route\": 1, \"bus_multiplier\": 1.83, \"bus_difference\": 14.4, \"num_trips\": 25, \"num_competitive\": 25, \"pct_trips_competitive\": 1.0, \"bus_difference_spread\": 13.8, \"route_group\": \"short\", \"max_trip_hrs\": 0.53, \"max_trip_route_group\": 1.0, \"name\": \"Nevada County\", \"caltrans_district\": \"03 - Marysville\", \"drmt_organization_name\": null, \"cutoff2\": 20, \"cutoff\": 2}, {\"calitp_itp_id\": 221, \"trip_key\": -1297581207849023466, \"trip_id\": \"t_1523698_b_30719_tn_0\", \"shape_id\": \"p_1277406\", \"route_id\": \"14213\", \"service_hours\": 0.53, \"trip_first_departure_ts\": 34200, \"trip_last_arrival_ts\": 36120, \"departure_hour\": 9, \"time_of_day\": \"AM Peak\", \"p25\": 0.3, \"p50\": 0.53, \"p75\": 0.53, \"p50_trip\": 1, \"fastest_trip\": 0, \"car_duration_hours\": 0.29, \"competitive_route\": 1, \"bus_multiplier\": 1.83, \"bus_difference\": 14.4, \"num_trips\": 25, \"num_competitive\": 25, \"pct_trips_competitive\": 1.0, \"bus_difference_spread\": 13.8, \"route_group\": \"short\", \"max_trip_hrs\": 0.53, \"max_trip_route_group\": 1.0, \"name\": \"Nevada County\", \"caltrans_district\": \"03 - Marysville\", \"drmt_organization_name\": null, \"cutoff2\": 20, \"cutoff\": 2}, {\"calitp_itp_id\": 221, \"trip_key\": -8254111083152176925, \"trip_id\": \"t_1523715_b_30719_tn_3\", \"shape_id\": \"p_1277406\", \"route_id\": \"14213\", \"service_hours\": 0.53, \"trip_first_departure_ts\": 66600, \"trip_last_arrival_ts\": 68520, \"departure_hour\": 18, \"time_of_day\": \"PM Peak\", \"p25\": 0.3, \"p50\": 0.53, \"p75\": 0.53, \"p50_trip\": 1, \"fastest_trip\": 0, \"car_duration_hours\": 0.29, \"competitive_route\": 1, \"bus_multiplier\": 1.83, \"bus_difference\": 14.4, \"num_trips\": 25, \"num_competitive\": 25, \"pct_trips_competitive\": 1.0, \"bus_difference_spread\": 13.8, \"route_group\": \"short\", \"max_trip_hrs\": 0.53, \"max_trip_route_group\": 1.0, \"name\": \"Nevada County\", \"caltrans_district\": \"03 - Marysville\", \"drmt_organization_name\": null, \"cutoff2\": 20, \"cutoff\": 2}, {\"calitp_itp_id\": 221, \"trip_key\": -1110075500676453112, \"trip_id\": \"t_1523710_b_30719_tn_0\", \"shape_id\": \"p_1277407\", \"route_id\": \"14213\", \"service_hours\": 0.53, \"trip_first_departure_ts\": 48600, \"trip_last_arrival_ts\": 50520, \"departure_hour\": 13, \"time_of_day\": \"Midday\", \"p25\": 0.3, \"p50\": 0.53, \"p75\": 0.53, \"p50_trip\": 1, \"fastest_trip\": 0, \"car_duration_hours\": 0.29, \"competitive_route\": 1, \"bus_multiplier\": 1.83, \"bus_difference\": 14.4, \"num_trips\": 25, \"num_competitive\": 25, \"pct_trips_competitive\": 1.0, \"bus_difference_spread\": 13.8, \"route_group\": \"short\", \"max_trip_hrs\": 0.53, \"max_trip_route_group\": 1.0, \"name\": \"Nevada County\", \"caltrans_district\": \"03 - Marysville\", \"drmt_organization_name\": null, \"cutoff2\": 20, \"cutoff\": 2}, {\"calitp_itp_id\": 221, \"trip_key\": 3115021959998586160, \"trip_id\": \"t_1523696_b_30719_tn_0\", \"shape_id\": \"p_1277407\", \"route_id\": \"14213\", \"service_hours\": 0.53, \"trip_first_departure_ts\": 55800, \"trip_last_arrival_ts\": 57720, \"departure_hour\": 15, \"time_of_day\": \"Midday\", \"p25\": 0.3, \"p50\": 0.53, \"p75\": 0.53, \"p50_trip\": 1, \"fastest_trip\": 0, \"car_duration_hours\": 0.29, \"competitive_route\": 1, \"bus_multiplier\": 1.83, \"bus_difference\": 14.4, \"num_trips\": 25, \"num_competitive\": 25, \"pct_trips_competitive\": 1.0, \"bus_difference_spread\": 13.8, \"route_group\": \"short\", \"max_trip_hrs\": 0.53, \"max_trip_route_group\": 1.0, \"name\": \"Nevada County\", \"caltrans_district\": \"03 - Marysville\", \"drmt_organization_name\": null, \"cutoff2\": 20, \"cutoff\": 2}, {\"calitp_itp_id\": 221, \"trip_key\": -175118521519977161, \"trip_id\": \"t_1523711_b_30719_tn_0\", \"shape_id\": \"p_1277406\", \"route_id\": \"14213\", \"service_hours\": 0.53, \"trip_first_departure_ts\": 52200, \"trip_last_arrival_ts\": 54120, \"departure_hour\": 14, \"time_of_day\": \"Midday\", \"p25\": 0.3, \"p50\": 0.53, \"p75\": 0.53, \"p50_trip\": 1, \"fastest_trip\": 0, \"car_duration_hours\": 0.29, \"competitive_route\": 1, \"bus_multiplier\": 1.83, \"bus_difference\": 14.4, \"num_trips\": 25, \"num_competitive\": 25, \"pct_trips_competitive\": 1.0, \"bus_difference_spread\": 13.8, \"route_group\": \"short\", \"max_trip_hrs\": 0.53, \"max_trip_route_group\": 1.0, \"name\": \"Nevada County\", \"caltrans_district\": \"03 - Marysville\", \"drmt_organization_name\": null, \"cutoff2\": 20, \"cutoff\": 2}, {\"calitp_itp_id\": 221, \"trip_key\": -88652139511230805, \"trip_id\": \"t_1523715_b_30719_tn_1\", \"shape_id\": \"p_1277406\", \"route_id\": \"14213\", \"service_hours\": 0.53, \"trip_first_departure_ts\": 59400, \"trip_last_arrival_ts\": 61320, \"departure_hour\": 16, \"time_of_day\": \"Midday\", \"p25\": 0.3, \"p50\": 0.53, \"p75\": 0.53, \"p50_trip\": 1, \"fastest_trip\": 0, \"car_duration_hours\": 0.29, \"competitive_route\": 1, \"bus_multiplier\": 1.83, \"bus_difference\": 14.4, \"num_trips\": 25, \"num_competitive\": 25, \"pct_trips_competitive\": 1.0, \"bus_difference_spread\": 13.8, \"route_group\": \"short\", \"max_trip_hrs\": 0.53, \"max_trip_route_group\": 1.0, \"name\": \"Nevada County\", \"caltrans_district\": \"03 - Marysville\", \"drmt_organization_name\": null, \"cutoff2\": 20, \"cutoff\": 2}, {\"calitp_itp_id\": 221, \"trip_key\": -4063602956833190453, \"trip_id\": \"t_1523713_b_30719_tn_0\", \"shape_id\": \"p_1277406\", \"route_id\": \"14213\", \"service_hours\": 0.53, \"trip_first_departure_ts\": 30600, \"trip_last_arrival_ts\": 32520, \"departure_hour\": 8, \"time_of_day\": \"AM Peak\", \"p25\": 0.3, \"p50\": 0.53, \"p75\": 0.53, \"p50_trip\": 1, \"fastest_trip\": 0, \"car_duration_hours\": 0.29, \"competitive_route\": 1, \"bus_multiplier\": 1.83, \"bus_difference\": 14.4, \"num_trips\": 25, \"num_competitive\": 25, \"pct_trips_competitive\": 1.0, \"bus_difference_spread\": 13.8, \"route_group\": \"short\", \"max_trip_hrs\": 0.53, \"max_trip_route_group\": 1.0, \"name\": \"Nevada County\", \"caltrans_district\": \"03 - Marysville\", \"drmt_organization_name\": null, \"cutoff2\": 20, \"cutoff\": 2}, {\"calitp_itp_id\": 221, \"trip_key\": -5205501695277092205, \"trip_id\": \"t_1523712_b_30719_tn_0\", \"shape_id\": \"p_1277406\", \"route_id\": \"14213\", \"service_hours\": 0.53, \"trip_first_departure_ts\": 27000, \"trip_last_arrival_ts\": 28920, \"departure_hour\": 7, \"time_of_day\": \"AM Peak\", \"p25\": 0.3, \"p50\": 0.53, \"p75\": 0.53, \"p50_trip\": 1, \"fastest_trip\": 0, \"car_duration_hours\": 0.29, \"competitive_route\": 1, \"bus_multiplier\": 1.83, \"bus_difference\": 14.4, \"num_trips\": 25, \"num_competitive\": 25, \"pct_trips_competitive\": 1.0, \"bus_difference_spread\": 13.8, \"route_group\": \"short\", \"max_trip_hrs\": 0.53, \"max_trip_route_group\": 1.0, \"name\": \"Nevada County\", \"caltrans_district\": \"03 - Marysville\", \"drmt_organization_name\": null, \"cutoff2\": 20, \"cutoff\": 2}, {\"calitp_itp_id\": 221, \"trip_key\": -5954322907603516198, \"trip_id\": \"t_1523690_b_30719_tn_1\", \"shape_id\": \"p_1277402\", \"route_id\": \"14214\", \"service_hours\": 0.37, \"trip_first_departure_ts\": 48600, \"trip_last_arrival_ts\": 49920, \"departure_hour\": 13, \"time_of_day\": \"Midday\", \"p25\": 0.385, \"p50\": 0.43, \"p75\": 0.43, \"p50_trip\": 0, \"fastest_trip\": 0, \"car_duration_hours\": 0.23, \"competitive_route\": 1, \"bus_multiplier\": 1.61, \"bus_difference\": 8.4, \"num_trips\": 18, \"num_competitive\": 18, \"pct_trips_competitive\": 1.0, \"bus_difference_spread\": 3.6, \"route_group\": \"short\", \"max_trip_hrs\": 0.43, \"max_trip_route_group\": 1.0, \"name\": \"Nevada County\", \"caltrans_district\": \"03 - Marysville\", \"drmt_organization_name\": null, \"cutoff2\": 20, \"cutoff\": 2}, {\"calitp_itp_id\": 221, \"trip_key\": -4353753918843046734, \"trip_id\": \"t_1523689_b_30719_tn_1\", \"shape_id\": \"p_1277402\", \"route_id\": \"14214\", \"service_hours\": 0.37, \"trip_first_departure_ts\": 30600, \"trip_last_arrival_ts\": 31920, \"departure_hour\": 8, \"time_of_day\": \"AM Peak\", \"p25\": 0.385, \"p50\": 0.43, \"p75\": 0.43, \"p50_trip\": 0, \"fastest_trip\": 0, \"car_duration_hours\": 0.23, \"competitive_route\": 1, \"bus_multiplier\": 1.61, \"bus_difference\": 8.4, \"num_trips\": 18, \"num_competitive\": 18, \"pct_trips_competitive\": 1.0, \"bus_difference_spread\": 3.6, \"route_group\": \"short\", \"max_trip_hrs\": 0.43, \"max_trip_route_group\": 1.0, \"name\": \"Nevada County\", \"caltrans_district\": \"03 - Marysville\", \"drmt_organization_name\": null, \"cutoff2\": 20, \"cutoff\": 2}, {\"calitp_itp_id\": 221, \"trip_key\": -4139071017515178389, \"trip_id\": \"t_1523689_b_30719_tn_3\", \"shape_id\": \"p_1277402\", \"route_id\": \"14214\", \"service_hours\": 0.37, \"trip_first_departure_ts\": 45000, \"trip_last_arrival_ts\": 46320, \"departure_hour\": 12, \"time_of_day\": \"Midday\", \"p25\": 0.385, \"p50\": 0.43, \"p75\": 0.43, \"p50_trip\": 0, \"fastest_trip\": 0, \"car_duration_hours\": 0.23, \"competitive_route\": 1, \"bus_multiplier\": 1.61, \"bus_difference\": 8.4, \"num_trips\": 18, \"num_competitive\": 18, \"pct_trips_competitive\": 1.0, \"bus_difference_spread\": 3.6, \"route_group\": \"short\", \"max_trip_hrs\": 0.43, \"max_trip_route_group\": 1.0, \"name\": \"Nevada County\", \"caltrans_district\": \"03 - Marysville\", \"drmt_organization_name\": null, \"cutoff2\": 20, \"cutoff\": 2}, {\"calitp_itp_id\": 221, \"trip_key\": -5628983764226905833, \"trip_id\": \"t_1523690_b_30719_tn_2\", \"shape_id\": \"p_1277402\", \"route_id\": \"14214\", \"service_hours\": 0.37, \"trip_first_departure_ts\": 55800, \"trip_last_arrival_ts\": 57120, \"departure_hour\": 15, \"time_of_day\": \"Midday\", \"p25\": 0.385, \"p50\": 0.43, \"p75\": 0.43, \"p50_trip\": 0, \"fastest_trip\": 1, \"car_duration_hours\": 0.23, \"competitive_route\": 1, \"bus_multiplier\": 1.61, \"bus_difference\": 8.4, \"num_trips\": 18, \"num_competitive\": 18, \"pct_trips_competitive\": 1.0, \"bus_difference_spread\": 3.6, \"route_group\": \"short\", \"max_trip_hrs\": 0.43, \"max_trip_route_group\": 1.0, \"name\": \"Nevada County\", \"caltrans_district\": \"03 - Marysville\", \"drmt_organization_name\": null, \"cutoff2\": 20, \"cutoff\": 2}, {\"calitp_itp_id\": 221, \"trip_key\": 6004687622847397905, \"trip_id\": \"t_1523689_b_30719_tn_2\", \"shape_id\": \"p_1277402\", \"route_id\": \"14214\", \"service_hours\": 0.37, \"trip_first_departure_ts\": 37800, \"trip_last_arrival_ts\": 39120, \"departure_hour\": 10, \"time_of_day\": \"Midday\", \"p25\": 0.385, \"p50\": 0.43, \"p75\": 0.43, \"p50_trip\": 0, \"fastest_trip\": 0, \"car_duration_hours\": 0.23, \"competitive_route\": 1, \"bus_multiplier\": 1.61, \"bus_difference\": 8.4, \"num_trips\": 18, \"num_competitive\": 18, \"pct_trips_competitive\": 1.0, \"bus_difference_spread\": 3.6, \"route_group\": \"short\", \"max_trip_hrs\": 0.43, \"max_trip_route_group\": 1.0, \"name\": \"Nevada County\", \"caltrans_district\": \"03 - Marysville\", \"drmt_organization_name\": null, \"cutoff2\": 20, \"cutoff\": 2}, {\"calitp_itp_id\": 221, \"trip_key\": 2673187237687141665, \"trip_id\": \"t_1521674_b_30719_tn_3\", \"shape_id\": \"p_1277435\", \"route_id\": \"14214\", \"service_hours\": 0.43, \"trip_first_departure_ts\": 68400, \"trip_last_arrival_ts\": 69960, \"departure_hour\": 19, \"time_of_day\": \"PM Peak\", \"p25\": 0.385, \"p50\": 0.43, \"p75\": 0.43, \"p50_trip\": 1, \"fastest_trip\": 0, \"car_duration_hours\": 0.23, \"competitive_route\": 1, \"bus_multiplier\": 1.87, \"bus_difference\": 12.0, \"num_trips\": 18, \"num_competitive\": 18, \"pct_trips_competitive\": 1.0, \"bus_difference_spread\": 3.6, \"route_group\": \"short\", \"max_trip_hrs\": 0.43, \"max_trip_route_group\": 1.0, \"name\": \"Nevada County\", \"caltrans_district\": \"03 - Marysville\", \"drmt_organization_name\": null, \"cutoff2\": 20, \"cutoff\": 2}, {\"calitp_itp_id\": 221, \"trip_key\": 7392758430088075601, \"trip_id\": \"t_1521657_b_30719_tn_0\", \"shape_id\": \"p_1277436\", \"route_id\": \"14214\", \"service_hours\": 0.43, \"trip_first_departure_ts\": 57600, \"trip_last_arrival_ts\": 59160, \"departure_hour\": 16, \"time_of_day\": \"Midday\", \"p25\": 0.385, \"p50\": 0.43, \"p75\": 0.43, \"p50_trip\": 1, \"fastest_trip\": 0, \"car_duration_hours\": 0.23, \"competitive_route\": 1, \"bus_multiplier\": 1.87, \"bus_difference\": 12.0, \"num_trips\": 18, \"num_competitive\": 18, \"pct_trips_competitive\": 1.0, \"bus_difference_spread\": 3.6, \"route_group\": \"short\", \"max_trip_hrs\": 0.43, \"max_trip_route_group\": 1.0, \"name\": \"Nevada County\", \"caltrans_district\": \"03 - Marysville\", \"drmt_organization_name\": null, \"cutoff2\": 20, \"cutoff\": 2}, {\"calitp_itp_id\": 221, \"trip_key\": 7196272006054014586, \"trip_id\": \"t_1521655_b_30719_tn_0\", \"shape_id\": \"p_1277436\", \"route_id\": \"14214\", \"service_hours\": 0.43, \"trip_first_departure_ts\": 39600, \"trip_last_arrival_ts\": 41160, \"departure_hour\": 11, \"time_of_day\": \"Midday\", \"p25\": 0.385, \"p50\": 0.43, \"p75\": 0.43, \"p50_trip\": 1, \"fastest_trip\": 0, \"car_duration_hours\": 0.23, \"competitive_route\": 1, \"bus_multiplier\": 1.87, \"bus_difference\": 12.0, \"num_trips\": 18, \"num_competitive\": 18, \"pct_trips_competitive\": 1.0, \"bus_difference_spread\": 3.6, \"route_group\": \"short\", \"max_trip_hrs\": 0.43, \"max_trip_route_group\": 1.0, \"name\": \"Nevada County\", \"caltrans_district\": \"03 - Marysville\", \"drmt_organization_name\": null, \"cutoff2\": 20, \"cutoff\": 2}, {\"calitp_itp_id\": 221, \"trip_key\": 3105874488608409094, \"trip_id\": \"t_1521653_b_30719_tn_0\", \"shape_id\": \"p_1277435\", \"route_id\": \"14214\", \"service_hours\": 0.43, \"trip_first_departure_ts\": 43200, \"trip_last_arrival_ts\": 44760, \"departure_hour\": 12, \"time_of_day\": \"Midday\", \"p25\": 0.385, \"p50\": 0.43, \"p75\": 0.43, \"p50_trip\": 1, \"fastest_trip\": 0, \"car_duration_hours\": 0.23, \"competitive_route\": 1, \"bus_multiplier\": 1.87, \"bus_difference\": 12.0, \"num_trips\": 18, \"num_competitive\": 18, \"pct_trips_competitive\": 1.0, \"bus_difference_spread\": 3.6, \"route_group\": \"short\", \"max_trip_hrs\": 0.43, \"max_trip_route_group\": 1.0, \"name\": \"Nevada County\", \"caltrans_district\": \"03 - Marysville\", \"drmt_organization_name\": null, \"cutoff2\": 20, \"cutoff\": 2}, {\"calitp_itp_id\": 221, \"trip_key\": -4889250977737711844, \"trip_id\": \"t_1521672_b_30719_tn_0\", \"shape_id\": \"p_1277436\", \"route_id\": \"14214\", \"service_hours\": 0.43, \"trip_first_departure_ts\": 25200, \"trip_last_arrival_ts\": 26760, \"departure_hour\": 7, \"time_of_day\": \"AM Peak\", \"p25\": 0.385, \"p50\": 0.43, \"p75\": 0.43, \"p50_trip\": 1, \"fastest_trip\": 0, \"car_duration_hours\": 0.23, \"competitive_route\": 1, \"bus_multiplier\": 1.87, \"bus_difference\": 12.0, \"num_trips\": 18, \"num_competitive\": 18, \"pct_trips_competitive\": 1.0, \"bus_difference_spread\": 3.6, \"route_group\": \"short\", \"max_trip_hrs\": 0.43, \"max_trip_route_group\": 1.0, \"name\": \"Nevada County\", \"caltrans_district\": \"03 - Marysville\", \"drmt_organization_name\": null, \"cutoff2\": 20, \"cutoff\": 2}, {\"calitp_itp_id\": 221, \"trip_key\": -8236644717398761490, \"trip_id\": \"t_1521674_b_30719_tn_1\", \"shape_id\": \"p_1277435\", \"route_id\": \"14214\", \"service_hours\": 0.43, \"trip_first_departure_ts\": 61200, \"trip_last_arrival_ts\": 62760, \"departure_hour\": 17, \"time_of_day\": \"PM Peak\", \"p25\": 0.385, \"p50\": 0.43, \"p75\": 0.43, \"p50_trip\": 1, \"fastest_trip\": 0, \"car_duration_hours\": 0.23, \"competitive_route\": 1, \"bus_multiplier\": 1.87, \"bus_difference\": 12.0, \"num_trips\": 18, \"num_competitive\": 18, \"pct_trips_competitive\": 1.0, \"bus_difference_spread\": 3.6, \"route_group\": \"short\", \"max_trip_hrs\": 0.43, \"max_trip_route_group\": 1.0, \"name\": \"Nevada County\", \"caltrans_district\": \"03 - Marysville\", \"drmt_organization_name\": null, \"cutoff2\": 20, \"cutoff\": 2}, {\"calitp_itp_id\": 221, \"trip_key\": 1289260090651955908, \"trip_id\": \"t_1521652_b_30719_tn_0\", \"shape_id\": \"p_1277435\", \"route_id\": \"14214\", \"service_hours\": 0.43, \"trip_first_departure_ts\": 36000, \"trip_last_arrival_ts\": 37560, \"departure_hour\": 10, \"time_of_day\": \"Midday\", \"p25\": 0.385, \"p50\": 0.43, \"p75\": 0.43, \"p50_trip\": 1, \"fastest_trip\": 0, \"car_duration_hours\": 0.23, \"competitive_route\": 1, \"bus_multiplier\": 1.87, \"bus_difference\": 12.0, \"num_trips\": 18, \"num_competitive\": 18, \"pct_trips_competitive\": 1.0, \"bus_difference_spread\": 3.6, \"route_group\": \"short\", \"max_trip_hrs\": 0.43, \"max_trip_route_group\": 1.0, \"name\": \"Nevada County\", \"caltrans_district\": \"03 - Marysville\", \"drmt_organization_name\": null, \"cutoff2\": 20, \"cutoff\": 2}, {\"calitp_itp_id\": 221, \"trip_key\": 2683565576891295944, \"trip_id\": \"t_1521654_b_30719_tn_0\", \"shape_id\": \"p_1277435\", \"route_id\": \"14214\", \"service_hours\": 0.43, \"trip_first_departure_ts\": 46800, \"trip_last_arrival_ts\": 48360, \"departure_hour\": 13, \"time_of_day\": \"Midday\", \"p25\": 0.385, \"p50\": 0.43, \"p75\": 0.43, \"p50_trip\": 1, \"fastest_trip\": 0, \"car_duration_hours\": 0.23, \"competitive_route\": 1, \"bus_multiplier\": 1.87, \"bus_difference\": 12.0, \"num_trips\": 18, \"num_competitive\": 18, \"pct_trips_competitive\": 1.0, \"bus_difference_spread\": 3.6, \"route_group\": \"short\", \"max_trip_hrs\": 0.43, \"max_trip_route_group\": 1.0, \"name\": \"Nevada County\", \"caltrans_district\": \"03 - Marysville\", \"drmt_organization_name\": null, \"cutoff2\": 20, \"cutoff\": 2}, {\"calitp_itp_id\": 221, \"trip_key\": -4249970615052157051, \"trip_id\": \"t_1521658_b_30719_tn_0\", \"shape_id\": \"p_1277435\", \"route_id\": \"14214\", \"service_hours\": 0.43, \"trip_first_departure_ts\": 54000, \"trip_last_arrival_ts\": 55560, \"departure_hour\": 15, \"time_of_day\": \"Midday\", \"p25\": 0.385, \"p50\": 0.43, \"p75\": 0.43, \"p50_trip\": 1, \"fastest_trip\": 0, \"car_duration_hours\": 0.23, \"competitive_route\": 1, \"bus_multiplier\": 1.87, \"bus_difference\": 12.0, \"num_trips\": 18, \"num_competitive\": 18, \"pct_trips_competitive\": 1.0, \"bus_difference_spread\": 3.6, \"route_group\": \"short\", \"max_trip_hrs\": 0.43, \"max_trip_route_group\": 1.0, \"name\": \"Nevada County\", \"caltrans_district\": \"03 - Marysville\", \"drmt_organization_name\": null, \"cutoff2\": 20, \"cutoff\": 2}, {\"calitp_itp_id\": 221, \"trip_key\": 6571909576953306131, \"trip_id\": \"t_1521656_b_30719_tn_0\", \"shape_id\": \"p_1277437\", \"route_id\": \"14214\", \"service_hours\": 0.43, \"trip_first_departure_ts\": 28800, \"trip_last_arrival_ts\": 30360, \"departure_hour\": 8, \"time_of_day\": \"AM Peak\", \"p25\": 0.385, \"p50\": 0.43, \"p75\": 0.43, \"p50_trip\": 1, \"fastest_trip\": 0, \"car_duration_hours\": 0.23, \"competitive_route\": 1, \"bus_multiplier\": 1.87, \"bus_difference\": 12.0, \"num_trips\": 18, \"num_competitive\": 18, \"pct_trips_competitive\": 1.0, \"bus_difference_spread\": 3.6, \"route_group\": \"short\", \"max_trip_hrs\": 0.43, \"max_trip_route_group\": 1.0, \"name\": \"Nevada County\", \"caltrans_district\": \"03 - Marysville\", \"drmt_organization_name\": null, \"cutoff2\": 20, \"cutoff\": 2}, {\"calitp_itp_id\": 221, \"trip_key\": 4198800275083607627, \"trip_id\": \"t_1521659_b_30719_tn_0\", \"shape_id\": \"p_1277436\", \"route_id\": \"14214\", \"service_hours\": 0.43, \"trip_first_departure_ts\": 50400, \"trip_last_arrival_ts\": 51960, \"departure_hour\": 14, \"time_of_day\": \"Midday\", \"p25\": 0.385, \"p50\": 0.43, \"p75\": 0.43, \"p50_trip\": 1, \"fastest_trip\": 0, \"car_duration_hours\": 0.23, \"competitive_route\": 1, \"bus_multiplier\": 1.87, \"bus_difference\": 12.0, \"num_trips\": 18, \"num_competitive\": 18, \"pct_trips_competitive\": 1.0, \"bus_difference_spread\": 3.6, \"route_group\": \"short\", \"max_trip_hrs\": 0.43, \"max_trip_route_group\": 1.0, \"name\": \"Nevada County\", \"caltrans_district\": \"03 - Marysville\", \"drmt_organization_name\": null, \"cutoff2\": 20, \"cutoff\": 2}, {\"calitp_itp_id\": 221, \"trip_key\": 1070155966066233422, \"trip_id\": \"t_1521674_b_30719_tn_2\", \"shape_id\": \"p_1277435\", \"route_id\": \"14214\", \"service_hours\": 0.43, \"trip_first_departure_ts\": 64800, \"trip_last_arrival_ts\": 66360, \"departure_hour\": 18, \"time_of_day\": \"PM Peak\", \"p25\": 0.385, \"p50\": 0.43, \"p75\": 0.43, \"p50_trip\": 1, \"fastest_trip\": 0, \"car_duration_hours\": 0.23, \"competitive_route\": 1, \"bus_multiplier\": 1.87, \"bus_difference\": 12.0, \"num_trips\": 18, \"num_competitive\": 18, \"pct_trips_competitive\": 1.0, \"bus_difference_spread\": 3.6, \"route_group\": \"short\", \"max_trip_hrs\": 0.43, \"max_trip_route_group\": 1.0, \"name\": \"Nevada County\", \"caltrans_district\": \"03 - Marysville\", \"drmt_organization_name\": null, \"cutoff2\": 20, \"cutoff\": 2}, {\"calitp_itp_id\": 221, \"trip_key\": 4380884507637476115, \"trip_id\": \"t_1521651_b_30719_tn_0\", \"shape_id\": \"p_1277436\", \"route_id\": \"14214\", \"service_hours\": 0.43, \"trip_first_departure_ts\": 32400, \"trip_last_arrival_ts\": 33960, \"departure_hour\": 9, \"time_of_day\": \"AM Peak\", \"p25\": 0.385, \"p50\": 0.43, \"p75\": 0.43, \"p50_trip\": 1, \"fastest_trip\": 0, \"car_duration_hours\": 0.23, \"competitive_route\": 1, \"bus_multiplier\": 1.87, \"bus_difference\": 12.0, \"num_trips\": 18, \"num_competitive\": 18, \"pct_trips_competitive\": 1.0, \"bus_difference_spread\": 3.6, \"route_group\": \"short\", \"max_trip_hrs\": 0.43, \"max_trip_route_group\": 1.0, \"name\": \"Nevada County\", \"caltrans_district\": \"03 - Marysville\", \"drmt_organization_name\": null, \"cutoff2\": 20, \"cutoff\": 2}, {\"calitp_itp_id\": 221, \"trip_key\": 407261656655488401, \"trip_id\": \"t_1523669_b_30719_tn_0\", \"shape_id\": \"p_857973\", \"route_id\": \"14215\", \"service_hours\": 0.42, \"trip_first_departure_ts\": 27000, \"trip_last_arrival_ts\": 28500, \"departure_hour\": 7, \"time_of_day\": \"AM Peak\", \"p25\": 0.42, \"p50\": 0.42, \"p75\": 0.42, \"p50_trip\": 1, \"fastest_trip\": 0, \"car_duration_hours\": 0.32, \"competitive_route\": 1, \"bus_multiplier\": 1.31, \"bus_difference\": 6.0, \"num_trips\": 6, \"num_competitive\": 6, \"pct_trips_competitive\": 1.0, \"bus_difference_spread\": 0.0, \"route_group\": \"short\", \"max_trip_hrs\": 0.42, \"max_trip_route_group\": 1.0, \"name\": \"Nevada County\", \"caltrans_district\": \"03 - Marysville\", \"drmt_organization_name\": null, \"cutoff2\": 20, \"cutoff\": 2}, {\"calitp_itp_id\": 221, \"trip_key\": 3286443703549619678, \"trip_id\": \"t_1523671_b_30719_tn_0\", \"shape_id\": \"p_857973\", \"route_id\": \"14215\", \"service_hours\": 0.42, \"trip_first_departure_ts\": 41400, \"trip_last_arrival_ts\": 42900, \"departure_hour\": 11, \"time_of_day\": \"Midday\", \"p25\": 0.42, \"p50\": 0.42, \"p75\": 0.42, \"p50_trip\": 1, \"fastest_trip\": 0, \"car_duration_hours\": 0.32, \"competitive_route\": 1, \"bus_multiplier\": 1.31, \"bus_difference\": 6.0, \"num_trips\": 6, \"num_competitive\": 6, \"pct_trips_competitive\": 1.0, \"bus_difference_spread\": 0.0, \"route_group\": \"short\", \"max_trip_hrs\": 0.42, \"max_trip_route_group\": 1.0, \"name\": \"Nevada County\", \"caltrans_district\": \"03 - Marysville\", \"drmt_organization_name\": null, \"cutoff2\": 20, \"cutoff\": 2}, {\"calitp_itp_id\": 221, \"trip_key\": -8169556226085732511, \"trip_id\": \"t_1523672_b_30719_tn_1\", \"shape_id\": \"p_857973\", \"route_id\": \"14215\", \"service_hours\": 0.42, \"trip_first_departure_ts\": 52200, \"trip_last_arrival_ts\": 53700, \"departure_hour\": 14, \"time_of_day\": \"Midday\", \"p25\": 0.42, \"p50\": 0.42, \"p75\": 0.42, \"p50_trip\": 1, \"fastest_trip\": 0, \"car_duration_hours\": 0.32, \"competitive_route\": 1, \"bus_multiplier\": 1.31, \"bus_difference\": 6.0, \"num_trips\": 6, \"num_competitive\": 6, \"pct_trips_competitive\": 1.0, \"bus_difference_spread\": 0.0, \"route_group\": \"short\", \"max_trip_hrs\": 0.42, \"max_trip_route_group\": 1.0, \"name\": \"Nevada County\", \"caltrans_district\": \"03 - Marysville\", \"drmt_organization_name\": null, \"cutoff2\": 20, \"cutoff\": 2}, {\"calitp_itp_id\": 221, \"trip_key\": -4864542285598291536, \"trip_id\": \"t_1523672_b_30719_tn_3\", \"shape_id\": \"p_857973\", \"route_id\": \"14215\", \"service_hours\": 0.42, \"trip_first_departure_ts\": 66600, \"trip_last_arrival_ts\": 68100, \"departure_hour\": 18, \"time_of_day\": \"PM Peak\", \"p25\": 0.42, \"p50\": 0.42, \"p75\": 0.42, \"p50_trip\": 1, \"fastest_trip\": 1, \"car_duration_hours\": 0.32, \"competitive_route\": 1, \"bus_multiplier\": 1.31, \"bus_difference\": 6.0, \"num_trips\": 6, \"num_competitive\": 6, \"pct_trips_competitive\": 1.0, \"bus_difference_spread\": 0.0, \"route_group\": \"short\", \"max_trip_hrs\": 0.42, \"max_trip_route_group\": 1.0, \"name\": \"Nevada County\", \"caltrans_district\": \"03 - Marysville\", \"drmt_organization_name\": null, \"cutoff2\": 20, \"cutoff\": 2}, {\"calitp_itp_id\": 221, \"trip_key\": -2618845921194408363, \"trip_id\": \"t_1523670_b_30719_tn_0\", \"shape_id\": \"p_857973\", \"route_id\": \"14215\", \"service_hours\": 0.42, \"trip_first_departure_ts\": 34200, \"trip_last_arrival_ts\": 35700, \"departure_hour\": 9, \"time_of_day\": \"AM Peak\", \"p25\": 0.42, \"p50\": 0.42, \"p75\": 0.42, \"p50_trip\": 1, \"fastest_trip\": 0, \"car_duration_hours\": 0.32, \"competitive_route\": 1, \"bus_multiplier\": 1.31, \"bus_difference\": 6.0, \"num_trips\": 6, \"num_competitive\": 6, \"pct_trips_competitive\": 1.0, \"bus_difference_spread\": 0.0, \"route_group\": \"short\", \"max_trip_hrs\": 0.42, \"max_trip_route_group\": 1.0, \"name\": \"Nevada County\", \"caltrans_district\": \"03 - Marysville\", \"drmt_organization_name\": null, \"cutoff2\": 20, \"cutoff\": 2}, {\"calitp_itp_id\": 221, \"trip_key\": -3879403642870221768, \"trip_id\": \"t_1523672_b_30719_tn_2\", \"shape_id\": \"p_857973\", \"route_id\": \"14215\", \"service_hours\": 0.42, \"trip_first_departure_ts\": 59400, \"trip_last_arrival_ts\": 60900, \"departure_hour\": 16, \"time_of_day\": \"Midday\", \"p25\": 0.42, \"p50\": 0.42, \"p75\": 0.42, \"p50_trip\": 1, \"fastest_trip\": 0, \"car_duration_hours\": 0.32, \"competitive_route\": 1, \"bus_multiplier\": 1.31, \"bus_difference\": 6.0, \"num_trips\": 6, \"num_competitive\": 6, \"pct_trips_competitive\": 1.0, \"bus_difference_spread\": 0.0, \"route_group\": \"short\", \"max_trip_hrs\": 0.42, \"max_trip_route_group\": 1.0, \"name\": \"Nevada County\", \"caltrans_district\": \"03 - Marysville\", \"drmt_organization_name\": null, \"cutoff2\": 20, \"cutoff\": 2}, {\"calitp_itp_id\": 221, \"trip_key\": -1466384047158763937, \"trip_id\": \"t_1522824_b_30719_tn_0\", \"shape_id\": \"p_900657\", \"route_id\": \"16672\", \"service_hours\": 0.82, \"trip_first_departure_ts\": 21600, \"trip_last_arrival_ts\": 24540, \"departure_hour\": 6, \"time_of_day\": \"Owl Service\", \"p25\": 0.82, \"p50\": 0.98, \"p75\": 0.98, \"p50_trip\": 0, \"fastest_trip\": 0, \"car_duration_hours\": 0.63, \"competitive_route\": 1, \"bus_multiplier\": 1.3, \"bus_difference\": 11.4, \"num_trips\": 10, \"num_competitive\": 10, \"pct_trips_competitive\": 1.0, \"bus_difference_spread\": 10.8, \"route_group\": \"short\", \"max_trip_hrs\": 1.0, \"max_trip_route_group\": 1.0, \"name\": \"Nevada County\", \"caltrans_district\": \"03 - Marysville\", \"drmt_organization_name\": null, \"cutoff2\": 20, \"cutoff\": 2}, {\"calitp_itp_id\": 221, \"trip_key\": 6540329412170231911, \"trip_id\": \"t_1522833_b_30719_tn_0\", \"shape_id\": \"p_900657\", \"route_id\": \"16672\", \"service_hours\": 0.82, \"trip_first_departure_ts\": 46800, \"trip_last_arrival_ts\": 49740, \"departure_hour\": 13, \"time_of_day\": \"Midday\", \"p25\": 0.82, \"p50\": 0.98, \"p75\": 0.98, \"p50_trip\": 0, \"fastest_trip\": 0, \"car_duration_hours\": 0.63, \"competitive_route\": 1, \"bus_multiplier\": 1.3, \"bus_difference\": 11.4, \"num_trips\": 10, \"num_competitive\": 10, \"pct_trips_competitive\": 1.0, \"bus_difference_spread\": 10.8, \"route_group\": \"short\", \"max_trip_hrs\": 1.0, \"max_trip_route_group\": 1.0, \"name\": \"Nevada County\", \"caltrans_district\": \"03 - Marysville\", \"drmt_organization_name\": null, \"cutoff2\": 20, \"cutoff\": 2}, {\"calitp_itp_id\": 221, \"trip_key\": 2561708441315450282, \"trip_id\": \"t_1522834_b_30719_tn_0\", \"shape_id\": \"p_900657\", \"route_id\": \"16672\", \"service_hours\": 0.82, \"trip_first_departure_ts\": 50400, \"trip_last_arrival_ts\": 53340, \"departure_hour\": 14, \"time_of_day\": \"Midday\", \"p25\": 0.82, \"p50\": 0.98, \"p75\": 0.98, \"p50_trip\": 0, \"fastest_trip\": 1, \"car_duration_hours\": 0.63, \"competitive_route\": 1, \"bus_multiplier\": 1.3, \"bus_difference\": 11.4, \"num_trips\": 10, \"num_competitive\": 10, \"pct_trips_competitive\": 1.0, \"bus_difference_spread\": 10.8, \"route_group\": \"short\", \"max_trip_hrs\": 1.0, \"max_trip_route_group\": 1.0, \"name\": \"Nevada County\", \"caltrans_district\": \"03 - Marysville\", \"drmt_organization_name\": null, \"cutoff2\": 20, \"cutoff\": 2}, {\"calitp_itp_id\": 221, \"trip_key\": 1248269801548174678, \"trip_id\": \"t_1522821_b_30719_tn_0\", \"shape_id\": \"p_900657\", \"route_id\": \"16672\", \"service_hours\": 0.82, \"trip_first_departure_ts\": 43200, \"trip_last_arrival_ts\": 46140, \"departure_hour\": 12, \"time_of_day\": \"Midday\", \"p25\": 0.82, \"p50\": 0.98, \"p75\": 0.98, \"p50_trip\": 0, \"fastest_trip\": 0, \"car_duration_hours\": 0.63, \"competitive_route\": 1, \"bus_multiplier\": 1.3, \"bus_difference\": 11.4, \"num_trips\": 10, \"num_competitive\": 10, \"pct_trips_competitive\": 1.0, \"bus_difference_spread\": 10.8, \"route_group\": \"short\", \"max_trip_hrs\": 1.0, \"max_trip_route_group\": 1.0, \"name\": \"Nevada County\", \"caltrans_district\": \"03 - Marysville\", \"drmt_organization_name\": null, \"cutoff2\": 20, \"cutoff\": 2}, {\"calitp_itp_id\": 221, \"trip_key\": -1828246099007793869, \"trip_id\": \"t_1522826_b_30719_tn_0\", \"shape_id\": \"p_900655\", \"route_id\": \"16672\", \"service_hours\": 0.98, \"trip_first_departure_ts\": 66600, \"trip_last_arrival_ts\": 70140, \"departure_hour\": 18, \"time_of_day\": \"PM Peak\", \"p25\": 0.82, \"p50\": 0.98, \"p75\": 0.98, \"p50_trip\": 1, \"fastest_trip\": 0, \"car_duration_hours\": 0.63, \"competitive_route\": 1, \"bus_multiplier\": 1.56, \"bus_difference\": 21.0, \"num_trips\": 10, \"num_competitive\": 10, \"pct_trips_competitive\": 1.0, \"bus_difference_spread\": 10.8, \"route_group\": \"short\", \"max_trip_hrs\": 1.0, \"max_trip_route_group\": 1.0, \"name\": \"Nevada County\", \"caltrans_district\": \"03 - Marysville\", \"drmt_organization_name\": null, \"cutoff2\": 20, \"cutoff\": 2}, {\"calitp_itp_id\": 221, \"trip_key\": 3041242881220762762, \"trip_id\": \"t_1522825_b_30719_tn_0\", \"shape_id\": \"p_900655\", \"route_id\": \"16672\", \"service_hours\": 0.98, \"trip_first_departure_ts\": 46800, \"trip_last_arrival_ts\": 50340, \"departure_hour\": 13, \"time_of_day\": \"Midday\", \"p25\": 0.82, \"p50\": 0.98, \"p75\": 0.98, \"p50_trip\": 1, \"fastest_trip\": 0, \"car_duration_hours\": 0.63, \"competitive_route\": 1, \"bus_multiplier\": 1.56, \"bus_difference\": 21.0, \"num_trips\": 10, \"num_competitive\": 10, \"pct_trips_competitive\": 1.0, \"bus_difference_spread\": 10.8, \"route_group\": \"short\", \"max_trip_hrs\": 1.0, \"max_trip_route_group\": 1.0, \"name\": \"Nevada County\", \"caltrans_district\": \"03 - Marysville\", \"drmt_organization_name\": null, \"cutoff2\": 20, \"cutoff\": 2}, {\"calitp_itp_id\": 221, \"trip_key\": 2522466916411045017, \"trip_id\": \"t_1522836_b_30719_tn_0\", \"shape_id\": \"p_900655\", \"route_id\": \"16672\", \"service_hours\": 0.98, \"trip_first_departure_ts\": 59400, \"trip_last_arrival_ts\": 62940, \"departure_hour\": 16, \"time_of_day\": \"Midday\", \"p25\": 0.82, \"p50\": 0.98, \"p75\": 0.98, \"p50_trip\": 1, \"fastest_trip\": 0, \"car_duration_hours\": 0.63, \"competitive_route\": 1, \"bus_multiplier\": 1.56, \"bus_difference\": 21.0, \"num_trips\": 10, \"num_competitive\": 10, \"pct_trips_competitive\": 1.0, \"bus_difference_spread\": 10.8, \"route_group\": \"short\", \"max_trip_hrs\": 1.0, \"max_trip_route_group\": 1.0, \"name\": \"Nevada County\", \"caltrans_district\": \"03 - Marysville\", \"drmt_organization_name\": null, \"cutoff2\": 20, \"cutoff\": 2}, {\"calitp_itp_id\": 221, \"trip_key\": 1979377104552134984, \"trip_id\": \"t_1522823_b_30719_tn_0\", \"shape_id\": \"p_900655\", \"route_id\": \"16672\", \"service_hours\": 0.98, \"trip_first_departure_ts\": 25200, \"trip_last_arrival_ts\": 28740, \"departure_hour\": 7, \"time_of_day\": \"AM Peak\", \"p25\": 0.82, \"p50\": 0.98, \"p75\": 0.98, \"p50_trip\": 1, \"fastest_trip\": 0, \"car_duration_hours\": 0.63, \"competitive_route\": 1, \"bus_multiplier\": 1.56, \"bus_difference\": 21.0, \"num_trips\": 10, \"num_competitive\": 10, \"pct_trips_competitive\": 1.0, \"bus_difference_spread\": 10.8, \"route_group\": \"short\", \"max_trip_hrs\": 1.0, \"max_trip_route_group\": 1.0, \"name\": \"Nevada County\", \"caltrans_district\": \"03 - Marysville\", \"drmt_organization_name\": null, \"cutoff2\": 20, \"cutoff\": 2}, {\"calitp_itp_id\": 221, \"trip_key\": 6687632278703138029, \"trip_id\": \"t_1522835_b_30719_tn_0\", \"shape_id\": \"p_900654\", \"route_id\": \"16672\", \"service_hours\": 1.0, \"trip_first_departure_ts\": 55800, \"trip_last_arrival_ts\": 59400, \"departure_hour\": 15, \"time_of_day\": \"Midday\", \"p25\": 0.82, \"p50\": 0.98, \"p75\": 0.98, \"p50_trip\": 0, \"fastest_trip\": 0, \"car_duration_hours\": 0.63, \"competitive_route\": 1, \"bus_multiplier\": 1.59, \"bus_difference\": 22.2, \"num_trips\": 10, \"num_competitive\": 10, \"pct_trips_competitive\": 1.0, \"bus_difference_spread\": 10.8, \"route_group\": \"short\", \"max_trip_hrs\": 1.0, \"max_trip_route_group\": 1.0, \"name\": \"Nevada County\", \"caltrans_district\": \"03 - Marysville\", \"drmt_organization_name\": null, \"cutoff2\": 20, \"cutoff\": 2}, {\"calitp_itp_id\": 221, \"trip_key\": 4960626180765164252, \"trip_id\": \"t_1522822_b_30719_tn_0\", \"shape_id\": \"p_900654\", \"route_id\": \"16672\", \"service_hours\": 1.0, \"trip_first_departure_ts\": 63000, \"trip_last_arrival_ts\": 66600, \"departure_hour\": 17, \"time_of_day\": \"PM Peak\", \"p25\": 0.82, \"p50\": 0.98, \"p75\": 0.98, \"p50_trip\": 0, \"fastest_trip\": 0, \"car_duration_hours\": 0.63, \"competitive_route\": 1, \"bus_multiplier\": 1.59, \"bus_difference\": 22.2, \"num_trips\": 10, \"num_competitive\": 10, \"pct_trips_competitive\": 1.0, \"bus_difference_spread\": 10.8, \"route_group\": \"short\", \"max_trip_hrs\": 1.0, \"max_trip_route_group\": 1.0, \"name\": \"Nevada County\", \"caltrans_district\": \"03 - Marysville\", \"drmt_organization_name\": null, \"cutoff2\": 20, \"cutoff\": 2}]}}, {\"mode\": \"vega-lite\"});\n",
       "</script>"
      ],
      "text/plain": [
       "alt.FacetChart(...)"
      ]
     },
     "metadata": {},
     "output_type": "display_data"
    },
    {
     "data": {
      "text/html": [
       "\n",
       "<div id=\"altair-viz-38be0b2237d84783b542fcc8c352754b\"></div>\n",
       "<script type=\"text/javascript\">\n",
       "  var VEGA_DEBUG = (typeof VEGA_DEBUG == \"undefined\") ? {} : VEGA_DEBUG;\n",
       "  (function(spec, embedOpt){\n",
       "    let outputDiv = document.currentScript.previousElementSibling;\n",
       "    if (outputDiv.id !== \"altair-viz-38be0b2237d84783b542fcc8c352754b\") {\n",
       "      outputDiv = document.getElementById(\"altair-viz-38be0b2237d84783b542fcc8c352754b\");\n",
       "    }\n",
       "    const paths = {\n",
       "      \"vega\": \"https://cdn.jsdelivr.net/npm//vega@5?noext\",\n",
       "      \"vega-lib\": \"https://cdn.jsdelivr.net/npm//vega-lib?noext\",\n",
       "      \"vega-lite\": \"https://cdn.jsdelivr.net/npm//vega-lite@4.17.0?noext\",\n",
       "      \"vega-embed\": \"https://cdn.jsdelivr.net/npm//vega-embed@6?noext\",\n",
       "    };\n",
       "\n",
       "    function maybeLoadScript(lib, version) {\n",
       "      var key = `${lib.replace(\"-\", \"\")}_version`;\n",
       "      return (VEGA_DEBUG[key] == version) ?\n",
       "        Promise.resolve(paths[lib]) :\n",
       "        new Promise(function(resolve, reject) {\n",
       "          var s = document.createElement('script');\n",
       "          document.getElementsByTagName(\"head\")[0].appendChild(s);\n",
       "          s.async = true;\n",
       "          s.onload = () => {\n",
       "            VEGA_DEBUG[key] = version;\n",
       "            return resolve(paths[lib]);\n",
       "          };\n",
       "          s.onerror = () => reject(`Error loading script: ${paths[lib]}`);\n",
       "          s.src = paths[lib];\n",
       "        });\n",
       "    }\n",
       "\n",
       "    function showError(err) {\n",
       "      outputDiv.innerHTML = `<div class=\"error\" style=\"color:red;\">${err}</div>`;\n",
       "      throw err;\n",
       "    }\n",
       "\n",
       "    function displayChart(vegaEmbed) {\n",
       "      vegaEmbed(outputDiv, spec, embedOpt)\n",
       "        .catch(err => showError(`Javascript Error: ${err.message}<br>This usually means there's a typo in your chart specification. See the javascript console for the full traceback.`));\n",
       "    }\n",
       "\n",
       "    if(typeof define === \"function\" && define.amd) {\n",
       "      requirejs.config({paths});\n",
       "      require([\"vega-embed\"], displayChart, err => showError(`Error loading script: ${err.message}`));\n",
       "    } else {\n",
       "      maybeLoadScript(\"vega\", \"5\")\n",
       "        .then(() => maybeLoadScript(\"vega-lite\", \"4.17.0\"))\n",
       "        .then(() => maybeLoadScript(\"vega-embed\", \"6\"))\n",
       "        .catch(showError)\n",
       "        .then(() => displayChart(vegaEmbed));\n",
       "    }\n",
       "  })({\"config\": {\"view\": {\"continuousWidth\": 400, \"continuousHeight\": 300, \"stroke\": null}, \"facet\": {\"spacing\": 0}}, \"data\": {\"name\": \"data-2d76e7ec9665ec2c84ea74d70dda2934\"}, \"facet\": {\"column\": {\"field\": \"route_id\", \"sort\": [\"14213\", \"14214\", \"16672\", \"14215\"], \"title\": \"Route ID\", \"type\": \"nominal\"}}, \"spec\": {\"layer\": [{\"mark\": \"rule\", \"encoding\": {\"color\": {\"value\": \"black\"}, \"y\": {\"field\": \"cutoff\", \"type\": \"quantitative\"}}, \"selection\": {\"selector002\": {\"type\": \"interval\", \"bind\": \"scales\", \"encodings\": [\"x\", \"y\"]}}}, {\"mark\": {\"type\": \"rule\", \"strokeDash\": [3, 3]}, \"encoding\": {\"color\": {\"value\": \"#323434\"}, \"y\": {\"field\": \"cutoff2\", \"type\": \"quantitative\"}}}, {\"mark\": {\"type\": \"point\", \"opacity\": 0.65, \"size\": 12, \"strokeWidth\": 1.1}, \"encoding\": {\"color\": {\"field\": \"time_of_day\", \"scale\": {\"range\": [\"#136C97\", \"#E16B26\", \"#F6BF16\", \"#00896B\", \"#7790A3\", \"#5B559C\"]}, \"sort\": [\"AM Peak\", \"Midday\", \"PM Peak\", \"Owl Service\"], \"title\": \"Time of Day\", \"type\": \"nominal\"}, \"tooltip\": [{\"field\": \"route_id\", \"type\": \"nominal\"}, {\"field\": \"trip_id\", \"type\": \"nominal\"}, {\"field\": \"service_hours\", \"type\": \"quantitative\"}, {\"field\": \"car_duration_hours\", \"type\": \"quantitative\"}, {\"field\": \"bus_multiplier\", \"type\": \"quantitative\"}, {\"field\": \"bus_difference\", \"type\": \"quantitative\"}, {\"field\": \"num_trips\", \"type\": \"quantitative\"}, {\"field\": \"num_competitive\", \"type\": \"quantitative\"}, {\"field\": \"pct_trips_competitive\", \"type\": \"quantitative\"}, {\"field\": \"p25\", \"type\": \"quantitative\"}, {\"field\": \"p50\", \"type\": \"quantitative\"}, {\"field\": \"p75\", \"type\": \"quantitative\"}], \"x\": {\"axis\": {\"grid\": false, \"labels\": false, \"ticks\": true, \"values\": [0]}, \"field\": \"jitter\", \"scale\": {}, \"title\": null, \"type\": \"quantitative\"}, \"y\": {\"field\": \"bus_difference\", \"scale\": {\"domain\": [-5, 46.2]}, \"title\": \"Difference in Bus to Car Travel Time (min)\", \"type\": \"quantitative\"}}, \"transform\": [{\"calculate\": \"sqrt(-2*log(random()))*cos(2*PI*random())\", \"as\": \"jitter\"}], \"width\": 50}, {\"layer\": [{\"mark\": {\"type\": \"point\", \"opacity\": 0.6, \"size\": 20, \"strokeWidth\": 1.3}, \"encoding\": {\"color\": {\"value\": \"#323434\"}, \"y\": {\"field\": \"bus_difference\", \"type\": \"quantitative\"}}, \"transform\": [{\"filter\": \"(datum.p50_trip === 1)\"}]}, {\"mark\": {\"type\": \"text\", \"align\": \"center\", \"baseline\": \"middle\"}, \"encoding\": {\"color\": {\"value\": \"black\"}, \"text\": {\"field\": \"pct_trips_competitive\", \"format\": \".0%\", \"type\": \"quantitative\"}, \"tooltip\": [{\"field\": \"route_id\", \"type\": \"nominal\"}, {\"field\": \"trip_id\", \"type\": \"nominal\"}, {\"field\": \"service_hours\", \"type\": \"quantitative\"}, {\"field\": \"car_duration_hours\", \"type\": \"quantitative\"}, {\"field\": \"bus_multiplier\", \"type\": \"quantitative\"}, {\"field\": \"bus_difference\", \"type\": \"quantitative\"}, {\"field\": \"num_trips\", \"type\": \"quantitative\"}, {\"field\": \"num_competitive\", \"type\": \"quantitative\"}, {\"field\": \"pct_trips_competitive\", \"type\": \"quantitative\"}, {\"field\": \"p25\", \"type\": \"quantitative\"}, {\"field\": \"p50\", \"type\": \"quantitative\"}, {\"field\": \"p75\", \"type\": \"quantitative\"}], \"x\": {\"value\": 30}, \"y\": {\"value\": 15}}, \"transform\": [{\"calculate\": \"sqrt(-2*log(random()))*cos(2*PI*random())\", \"as\": \"jitter\"}, {\"filter\": \"(datum.fastest_trip === 1)\"}]}]}]}, \"resolve\": {\"scale\": {\"y\": \"shared\"}}, \"title\": \"Difference in Bus to Car Travel Time (min)\", \"$schema\": \"https://vega.github.io/schema/vega-lite/v4.17.0.json\", \"datasets\": {\"data-2d76e7ec9665ec2c84ea74d70dda2934\": [{\"calitp_itp_id\": 221, \"trip_key\": -776577417486649908, \"trip_id\": \"t_1523702_b_30719_tn_0\", \"shape_id\": \"p_1277365\", \"route_id\": \"14213\", \"service_hours\": 0.3, \"trip_first_departure_ts\": 32760, \"trip_last_arrival_ts\": 33840, \"departure_hour\": 9, \"time_of_day\": \"AM Peak\", \"p25\": 0.3, \"p50\": 0.53, \"p75\": 0.53, \"p50_trip\": 0, \"fastest_trip\": 0, \"car_duration_hours\": 0.29, \"competitive_route\": 1, \"bus_multiplier\": 1.03, \"bus_difference\": 0.6, \"num_trips\": 25, \"num_competitive\": 25, \"pct_trips_competitive\": 1.0, \"bus_difference_spread\": 13.8, \"route_group\": \"short\", \"max_trip_hrs\": 0.53, \"max_trip_route_group\": 1.0, \"name\": \"Nevada County\", \"caltrans_district\": \"03 - Marysville\", \"drmt_organization_name\": null, \"cutoff2\": 20, \"cutoff\": 0}, {\"calitp_itp_id\": 221, \"trip_key\": -4402755691279351913, \"trip_id\": \"t_1523705_b_30719_tn_0\", \"shape_id\": \"p_1277365\", \"route_id\": \"14213\", \"service_hours\": 0.3, \"trip_first_departure_ts\": 43560, \"trip_last_arrival_ts\": 44640, \"departure_hour\": 12, \"time_of_day\": \"Midday\", \"p25\": 0.3, \"p50\": 0.53, \"p75\": 0.53, \"p50_trip\": 0, \"fastest_trip\": 0, \"car_duration_hours\": 0.29, \"competitive_route\": 1, \"bus_multiplier\": 1.03, \"bus_difference\": 0.6, \"num_trips\": 25, \"num_competitive\": 25, \"pct_trips_competitive\": 1.0, \"bus_difference_spread\": 13.8, \"route_group\": \"short\", \"max_trip_hrs\": 0.53, \"max_trip_route_group\": 1.0, \"name\": \"Nevada County\", \"caltrans_district\": \"03 - Marysville\", \"drmt_organization_name\": null, \"cutoff2\": 20, \"cutoff\": 0}, {\"calitp_itp_id\": 221, \"trip_key\": -2411665841726982938, \"trip_id\": \"t_1523703_b_30719_tn_0\", \"shape_id\": \"p_1277365\", \"route_id\": \"14213\", \"service_hours\": 0.3, \"trip_first_departure_ts\": 36360, \"trip_last_arrival_ts\": 37440, \"departure_hour\": 10, \"time_of_day\": \"Midday\", \"p25\": 0.3, \"p50\": 0.53, \"p75\": 0.53, \"p50_trip\": 0, \"fastest_trip\": 0, \"car_duration_hours\": 0.29, \"competitive_route\": 1, \"bus_multiplier\": 1.03, \"bus_difference\": 0.6, \"num_trips\": 25, \"num_competitive\": 25, \"pct_trips_competitive\": 1.0, \"bus_difference_spread\": 13.8, \"route_group\": \"short\", \"max_trip_hrs\": 0.53, \"max_trip_route_group\": 1.0, \"name\": \"Nevada County\", \"caltrans_district\": \"03 - Marysville\", \"drmt_organization_name\": null, \"cutoff2\": 20, \"cutoff\": 0}, {\"calitp_itp_id\": 221, \"trip_key\": 8521167032569293107, \"trip_id\": \"t_1523708_b_30719_tn_0\", \"shape_id\": \"p_1277365\", \"route_id\": \"14213\", \"service_hours\": 0.3, \"trip_first_departure_ts\": 54360, \"trip_last_arrival_ts\": 55440, \"departure_hour\": 15, \"time_of_day\": \"Midday\", \"p25\": 0.3, \"p50\": 0.53, \"p75\": 0.53, \"p50_trip\": 0, \"fastest_trip\": 0, \"car_duration_hours\": 0.29, \"competitive_route\": 1, \"bus_multiplier\": 1.03, \"bus_difference\": 0.6, \"num_trips\": 25, \"num_competitive\": 25, \"pct_trips_competitive\": 1.0, \"bus_difference_spread\": 13.8, \"route_group\": \"short\", \"max_trip_hrs\": 0.53, \"max_trip_route_group\": 1.0, \"name\": \"Nevada County\", \"caltrans_district\": \"03 - Marysville\", \"drmt_organization_name\": null, \"cutoff2\": 20, \"cutoff\": 0}, {\"calitp_itp_id\": 221, \"trip_key\": 2335938942291766947, \"trip_id\": \"t_1523709_b_30719_tn_0\", \"shape_id\": \"p_1277365\", \"route_id\": \"14213\", \"service_hours\": 0.3, \"trip_first_departure_ts\": 57960, \"trip_last_arrival_ts\": 59040, \"departure_hour\": 16, \"time_of_day\": \"Midday\", \"p25\": 0.3, \"p50\": 0.53, \"p75\": 0.53, \"p50_trip\": 0, \"fastest_trip\": 0, \"car_duration_hours\": 0.29, \"competitive_route\": 1, \"bus_multiplier\": 1.03, \"bus_difference\": 0.6, \"num_trips\": 25, \"num_competitive\": 25, \"pct_trips_competitive\": 1.0, \"bus_difference_spread\": 13.8, \"route_group\": \"short\", \"max_trip_hrs\": 0.53, \"max_trip_route_group\": 1.0, \"name\": \"Nevada County\", \"caltrans_district\": \"03 - Marysville\", \"drmt_organization_name\": null, \"cutoff2\": 20, \"cutoff\": 0}, {\"calitp_itp_id\": 221, \"trip_key\": -6599830263524833773, \"trip_id\": \"t_1523707_b_30719_tn_0\", \"shape_id\": \"p_1277365\", \"route_id\": \"14213\", \"service_hours\": 0.3, \"trip_first_departure_ts\": 50760, \"trip_last_arrival_ts\": 51840, \"departure_hour\": 14, \"time_of_day\": \"Midday\", \"p25\": 0.3, \"p50\": 0.53, \"p75\": 0.53, \"p50_trip\": 0, \"fastest_trip\": 0, \"car_duration_hours\": 0.29, \"competitive_route\": 1, \"bus_multiplier\": 1.03, \"bus_difference\": 0.6, \"num_trips\": 25, \"num_competitive\": 25, \"pct_trips_competitive\": 1.0, \"bus_difference_spread\": 13.8, \"route_group\": \"short\", \"max_trip_hrs\": 0.53, \"max_trip_route_group\": 1.0, \"name\": \"Nevada County\", \"caltrans_district\": \"03 - Marysville\", \"drmt_organization_name\": null, \"cutoff2\": 20, \"cutoff\": 0}, {\"calitp_itp_id\": 221, \"trip_key\": -1792138766408127314, \"trip_id\": \"t_1524377_b_30719_tn_3\", \"shape_id\": \"p_1277365\", \"route_id\": \"14213\", \"service_hours\": 0.3, \"trip_first_departure_ts\": 68760, \"trip_last_arrival_ts\": 69840, \"departure_hour\": 19, \"time_of_day\": \"PM Peak\", \"p25\": 0.3, \"p50\": 0.53, \"p75\": 0.53, \"p50_trip\": 0, \"fastest_trip\": 1, \"car_duration_hours\": 0.29, \"competitive_route\": 1, \"bus_multiplier\": 1.03, \"bus_difference\": 0.6, \"num_trips\": 25, \"num_competitive\": 25, \"pct_trips_competitive\": 1.0, \"bus_difference_spread\": 13.8, \"route_group\": \"short\", \"max_trip_hrs\": 0.53, \"max_trip_route_group\": 1.0, \"name\": \"Nevada County\", \"caltrans_district\": \"03 - Marysville\", \"drmt_organization_name\": null, \"cutoff2\": 20, \"cutoff\": 0}, {\"calitp_itp_id\": 221, \"trip_key\": 5545502996058682558, \"trip_id\": \"t_1523706_b_30719_tn_0\", \"shape_id\": \"p_1277365\", \"route_id\": \"14213\", \"service_hours\": 0.3, \"trip_first_departure_ts\": 47160, \"trip_last_arrival_ts\": 48240, \"departure_hour\": 13, \"time_of_day\": \"Midday\", \"p25\": 0.3, \"p50\": 0.53, \"p75\": 0.53, \"p50_trip\": 0, \"fastest_trip\": 0, \"car_duration_hours\": 0.29, \"competitive_route\": 1, \"bus_multiplier\": 1.03, \"bus_difference\": 0.6, \"num_trips\": 25, \"num_competitive\": 25, \"pct_trips_competitive\": 1.0, \"bus_difference_spread\": 13.8, \"route_group\": \"short\", \"max_trip_hrs\": 0.53, \"max_trip_route_group\": 1.0, \"name\": \"Nevada County\", \"caltrans_district\": \"03 - Marysville\", \"drmt_organization_name\": null, \"cutoff2\": 20, \"cutoff\": 0}, {\"calitp_itp_id\": 221, \"trip_key\": -2946560557554459726, \"trip_id\": \"t_1524377_b_30719_tn_2\", \"shape_id\": \"p_1277365\", \"route_id\": \"14213\", \"service_hours\": 0.3, \"trip_first_departure_ts\": 65160, \"trip_last_arrival_ts\": 66240, \"departure_hour\": 18, \"time_of_day\": \"PM Peak\", \"p25\": 0.3, \"p50\": 0.53, \"p75\": 0.53, \"p50_trip\": 0, \"fastest_trip\": 0, \"car_duration_hours\": 0.29, \"competitive_route\": 1, \"bus_multiplier\": 1.03, \"bus_difference\": 0.6, \"num_trips\": 25, \"num_competitive\": 25, \"pct_trips_competitive\": 1.0, \"bus_difference_spread\": 13.8, \"route_group\": \"short\", \"max_trip_hrs\": 0.53, \"max_trip_route_group\": 1.0, \"name\": \"Nevada County\", \"caltrans_district\": \"03 - Marysville\", \"drmt_organization_name\": null, \"cutoff2\": 20, \"cutoff\": 0}, {\"calitp_itp_id\": 221, \"trip_key\": -5601550539585256135, \"trip_id\": \"t_1523704_b_30719_tn_0\", \"shape_id\": \"p_1277365\", \"route_id\": \"14213\", \"service_hours\": 0.3, \"trip_first_departure_ts\": 39960, \"trip_last_arrival_ts\": 41040, \"departure_hour\": 11, \"time_of_day\": \"Midday\", \"p25\": 0.3, \"p50\": 0.53, \"p75\": 0.53, \"p50_trip\": 0, \"fastest_trip\": 0, \"car_duration_hours\": 0.29, \"competitive_route\": 1, \"bus_multiplier\": 1.03, \"bus_difference\": 0.6, \"num_trips\": 25, \"num_competitive\": 25, \"pct_trips_competitive\": 1.0, \"bus_difference_spread\": 13.8, \"route_group\": \"short\", \"max_trip_hrs\": 0.53, \"max_trip_route_group\": 1.0, \"name\": \"Nevada County\", \"caltrans_district\": \"03 - Marysville\", \"drmt_organization_name\": null, \"cutoff2\": 20, \"cutoff\": 0}, {\"calitp_itp_id\": 221, \"trip_key\": 8457037490932722398, \"trip_id\": \"t_1524377_b_30719_tn_1\", \"shape_id\": \"p_1277365\", \"route_id\": \"14213\", \"service_hours\": 0.3, \"trip_first_departure_ts\": 61560, \"trip_last_arrival_ts\": 62640, \"departure_hour\": 17, \"time_of_day\": \"PM Peak\", \"p25\": 0.3, \"p50\": 0.53, \"p75\": 0.53, \"p50_trip\": 0, \"fastest_trip\": 0, \"car_duration_hours\": 0.29, \"competitive_route\": 1, \"bus_multiplier\": 1.03, \"bus_difference\": 0.6, \"num_trips\": 25, \"num_competitive\": 25, \"pct_trips_competitive\": 1.0, \"bus_difference_spread\": 13.8, \"route_group\": \"short\", \"max_trip_hrs\": 0.53, \"max_trip_route_group\": 1.0, \"name\": \"Nevada County\", \"caltrans_district\": \"03 - Marysville\", \"drmt_organization_name\": null, \"cutoff2\": 20, \"cutoff\": 0}, {\"calitp_itp_id\": 221, \"trip_key\": -18513496323167033, \"trip_id\": \"t_1523701_b_30719_tn_0\", \"shape_id\": \"p_1277365\", \"route_id\": \"14213\", \"service_hours\": 0.3, \"trip_first_departure_ts\": 29160, \"trip_last_arrival_ts\": 30240, \"departure_hour\": 8, \"time_of_day\": \"AM Peak\", \"p25\": 0.3, \"p50\": 0.53, \"p75\": 0.53, \"p50_trip\": 0, \"fastest_trip\": 0, \"car_duration_hours\": 0.29, \"competitive_route\": 1, \"bus_multiplier\": 1.03, \"bus_difference\": 0.6, \"num_trips\": 25, \"num_competitive\": 25, \"pct_trips_competitive\": 1.0, \"bus_difference_spread\": 13.8, \"route_group\": \"short\", \"max_trip_hrs\": 0.53, \"max_trip_route_group\": 1.0, \"name\": \"Nevada County\", \"caltrans_district\": \"03 - Marysville\", \"drmt_organization_name\": null, \"cutoff2\": 20, \"cutoff\": 0}, {\"calitp_itp_id\": 221, \"trip_key\": -751622146585304013, \"trip_id\": \"t_1523699_b_30719_tn_0\", \"shape_id\": \"p_1277406\", \"route_id\": \"14213\", \"service_hours\": 0.53, \"trip_first_departure_ts\": 37800, \"trip_last_arrival_ts\": 39720, \"departure_hour\": 10, \"time_of_day\": \"Midday\", \"p25\": 0.3, \"p50\": 0.53, \"p75\": 0.53, \"p50_trip\": 1, \"fastest_trip\": 0, \"car_duration_hours\": 0.29, \"competitive_route\": 1, \"bus_multiplier\": 1.83, \"bus_difference\": 14.4, \"num_trips\": 25, \"num_competitive\": 25, \"pct_trips_competitive\": 1.0, \"bus_difference_spread\": 13.8, \"route_group\": \"short\", \"max_trip_hrs\": 0.53, \"max_trip_route_group\": 1.0, \"name\": \"Nevada County\", \"caltrans_district\": \"03 - Marysville\", \"drmt_organization_name\": null, \"cutoff2\": 20, \"cutoff\": 0}, {\"calitp_itp_id\": 221, \"trip_key\": 5958656306653386538, \"trip_id\": \"t_1523700_b_30719_tn_0\", \"shape_id\": \"p_1277406\", \"route_id\": \"14213\", \"service_hours\": 0.53, \"trip_first_departure_ts\": 41400, \"trip_last_arrival_ts\": 43320, \"departure_hour\": 11, \"time_of_day\": \"Midday\", \"p25\": 0.3, \"p50\": 0.53, \"p75\": 0.53, \"p50_trip\": 1, \"fastest_trip\": 0, \"car_duration_hours\": 0.29, \"competitive_route\": 1, \"bus_multiplier\": 1.83, \"bus_difference\": 14.4, \"num_trips\": 25, \"num_competitive\": 25, \"pct_trips_competitive\": 1.0, \"bus_difference_spread\": 13.8, \"route_group\": \"short\", \"max_trip_hrs\": 0.53, \"max_trip_route_group\": 1.0, \"name\": \"Nevada County\", \"caltrans_district\": \"03 - Marysville\", \"drmt_organization_name\": null, \"cutoff2\": 20, \"cutoff\": 0}, {\"calitp_itp_id\": 221, \"trip_key\": -2930613919531841270, \"trip_id\": \"t_1523714_b_30719_tn_0\", \"shape_id\": \"p_1277406\", \"route_id\": \"14213\", \"service_hours\": 0.53, \"trip_first_departure_ts\": 23400, \"trip_last_arrival_ts\": 25320, \"departure_hour\": 6, \"time_of_day\": \"Owl Service\", \"p25\": 0.3, \"p50\": 0.53, \"p75\": 0.53, \"p50_trip\": 1, \"fastest_trip\": 0, \"car_duration_hours\": 0.29, \"competitive_route\": 1, \"bus_multiplier\": 1.83, \"bus_difference\": 14.4, \"num_trips\": 25, \"num_competitive\": 25, \"pct_trips_competitive\": 1.0, \"bus_difference_spread\": 13.8, \"route_group\": \"short\", \"max_trip_hrs\": 0.53, \"max_trip_route_group\": 1.0, \"name\": \"Nevada County\", \"caltrans_district\": \"03 - Marysville\", \"drmt_organization_name\": null, \"cutoff2\": 20, \"cutoff\": 0}, {\"calitp_itp_id\": 221, \"trip_key\": -7943430864300439059, \"trip_id\": \"t_1523697_b_30719_tn_0\", \"shape_id\": \"p_1277406\", \"route_id\": \"14213\", \"service_hours\": 0.53, \"trip_first_departure_ts\": 45000, \"trip_last_arrival_ts\": 46920, \"departure_hour\": 12, \"time_of_day\": \"Midday\", \"p25\": 0.3, \"p50\": 0.53, \"p75\": 0.53, \"p50_trip\": 1, \"fastest_trip\": 0, \"car_duration_hours\": 0.29, \"competitive_route\": 1, \"bus_multiplier\": 1.83, \"bus_difference\": 14.4, \"num_trips\": 25, \"num_competitive\": 25, \"pct_trips_competitive\": 1.0, \"bus_difference_spread\": 13.8, \"route_group\": \"short\", \"max_trip_hrs\": 0.53, \"max_trip_route_group\": 1.0, \"name\": \"Nevada County\", \"caltrans_district\": \"03 - Marysville\", \"drmt_organization_name\": null, \"cutoff2\": 20, \"cutoff\": 0}, {\"calitp_itp_id\": 221, \"trip_key\": -2717591988354409515, \"trip_id\": \"t_1523715_b_30719_tn_2\", \"shape_id\": \"p_1277406\", \"route_id\": \"14213\", \"service_hours\": 0.53, \"trip_first_departure_ts\": 63000, \"trip_last_arrival_ts\": 64920, \"departure_hour\": 17, \"time_of_day\": \"PM Peak\", \"p25\": 0.3, \"p50\": 0.53, \"p75\": 0.53, \"p50_trip\": 1, \"fastest_trip\": 0, \"car_duration_hours\": 0.29, \"competitive_route\": 1, \"bus_multiplier\": 1.83, \"bus_difference\": 14.4, \"num_trips\": 25, \"num_competitive\": 25, \"pct_trips_competitive\": 1.0, \"bus_difference_spread\": 13.8, \"route_group\": \"short\", \"max_trip_hrs\": 0.53, \"max_trip_route_group\": 1.0, \"name\": \"Nevada County\", \"caltrans_district\": \"03 - Marysville\", \"drmt_organization_name\": null, \"cutoff2\": 20, \"cutoff\": 0}, {\"calitp_itp_id\": 221, \"trip_key\": -1297581207849023466, \"trip_id\": \"t_1523698_b_30719_tn_0\", \"shape_id\": \"p_1277406\", \"route_id\": \"14213\", \"service_hours\": 0.53, \"trip_first_departure_ts\": 34200, \"trip_last_arrival_ts\": 36120, \"departure_hour\": 9, \"time_of_day\": \"AM Peak\", \"p25\": 0.3, \"p50\": 0.53, \"p75\": 0.53, \"p50_trip\": 1, \"fastest_trip\": 0, \"car_duration_hours\": 0.29, \"competitive_route\": 1, \"bus_multiplier\": 1.83, \"bus_difference\": 14.4, \"num_trips\": 25, \"num_competitive\": 25, \"pct_trips_competitive\": 1.0, \"bus_difference_spread\": 13.8, \"route_group\": \"short\", \"max_trip_hrs\": 0.53, \"max_trip_route_group\": 1.0, \"name\": \"Nevada County\", \"caltrans_district\": \"03 - Marysville\", \"drmt_organization_name\": null, \"cutoff2\": 20, \"cutoff\": 0}, {\"calitp_itp_id\": 221, \"trip_key\": -8254111083152176925, \"trip_id\": \"t_1523715_b_30719_tn_3\", \"shape_id\": \"p_1277406\", \"route_id\": \"14213\", \"service_hours\": 0.53, \"trip_first_departure_ts\": 66600, \"trip_last_arrival_ts\": 68520, \"departure_hour\": 18, \"time_of_day\": \"PM Peak\", \"p25\": 0.3, \"p50\": 0.53, \"p75\": 0.53, \"p50_trip\": 1, \"fastest_trip\": 0, \"car_duration_hours\": 0.29, \"competitive_route\": 1, \"bus_multiplier\": 1.83, \"bus_difference\": 14.4, \"num_trips\": 25, \"num_competitive\": 25, \"pct_trips_competitive\": 1.0, \"bus_difference_spread\": 13.8, \"route_group\": \"short\", \"max_trip_hrs\": 0.53, \"max_trip_route_group\": 1.0, \"name\": \"Nevada County\", \"caltrans_district\": \"03 - Marysville\", \"drmt_organization_name\": null, \"cutoff2\": 20, \"cutoff\": 0}, {\"calitp_itp_id\": 221, \"trip_key\": -1110075500676453112, \"trip_id\": \"t_1523710_b_30719_tn_0\", \"shape_id\": \"p_1277407\", \"route_id\": \"14213\", \"service_hours\": 0.53, \"trip_first_departure_ts\": 48600, \"trip_last_arrival_ts\": 50520, \"departure_hour\": 13, \"time_of_day\": \"Midday\", \"p25\": 0.3, \"p50\": 0.53, \"p75\": 0.53, \"p50_trip\": 1, \"fastest_trip\": 0, \"car_duration_hours\": 0.29, \"competitive_route\": 1, \"bus_multiplier\": 1.83, \"bus_difference\": 14.4, \"num_trips\": 25, \"num_competitive\": 25, \"pct_trips_competitive\": 1.0, \"bus_difference_spread\": 13.8, \"route_group\": \"short\", \"max_trip_hrs\": 0.53, \"max_trip_route_group\": 1.0, \"name\": \"Nevada County\", \"caltrans_district\": \"03 - Marysville\", \"drmt_organization_name\": null, \"cutoff2\": 20, \"cutoff\": 0}, {\"calitp_itp_id\": 221, \"trip_key\": 3115021959998586160, \"trip_id\": \"t_1523696_b_30719_tn_0\", \"shape_id\": \"p_1277407\", \"route_id\": \"14213\", \"service_hours\": 0.53, \"trip_first_departure_ts\": 55800, \"trip_last_arrival_ts\": 57720, \"departure_hour\": 15, \"time_of_day\": \"Midday\", \"p25\": 0.3, \"p50\": 0.53, \"p75\": 0.53, \"p50_trip\": 1, \"fastest_trip\": 0, \"car_duration_hours\": 0.29, \"competitive_route\": 1, \"bus_multiplier\": 1.83, \"bus_difference\": 14.4, \"num_trips\": 25, \"num_competitive\": 25, \"pct_trips_competitive\": 1.0, \"bus_difference_spread\": 13.8, \"route_group\": \"short\", \"max_trip_hrs\": 0.53, \"max_trip_route_group\": 1.0, \"name\": \"Nevada County\", \"caltrans_district\": \"03 - Marysville\", \"drmt_organization_name\": null, \"cutoff2\": 20, \"cutoff\": 0}, {\"calitp_itp_id\": 221, \"trip_key\": -175118521519977161, \"trip_id\": \"t_1523711_b_30719_tn_0\", \"shape_id\": \"p_1277406\", \"route_id\": \"14213\", \"service_hours\": 0.53, \"trip_first_departure_ts\": 52200, \"trip_last_arrival_ts\": 54120, \"departure_hour\": 14, \"time_of_day\": \"Midday\", \"p25\": 0.3, \"p50\": 0.53, \"p75\": 0.53, \"p50_trip\": 1, \"fastest_trip\": 0, \"car_duration_hours\": 0.29, \"competitive_route\": 1, \"bus_multiplier\": 1.83, \"bus_difference\": 14.4, \"num_trips\": 25, \"num_competitive\": 25, \"pct_trips_competitive\": 1.0, \"bus_difference_spread\": 13.8, \"route_group\": \"short\", \"max_trip_hrs\": 0.53, \"max_trip_route_group\": 1.0, \"name\": \"Nevada County\", \"caltrans_district\": \"03 - Marysville\", \"drmt_organization_name\": null, \"cutoff2\": 20, \"cutoff\": 0}, {\"calitp_itp_id\": 221, \"trip_key\": -88652139511230805, \"trip_id\": \"t_1523715_b_30719_tn_1\", \"shape_id\": \"p_1277406\", \"route_id\": \"14213\", \"service_hours\": 0.53, \"trip_first_departure_ts\": 59400, \"trip_last_arrival_ts\": 61320, \"departure_hour\": 16, \"time_of_day\": \"Midday\", \"p25\": 0.3, \"p50\": 0.53, \"p75\": 0.53, \"p50_trip\": 1, \"fastest_trip\": 0, \"car_duration_hours\": 0.29, \"competitive_route\": 1, \"bus_multiplier\": 1.83, \"bus_difference\": 14.4, \"num_trips\": 25, \"num_competitive\": 25, \"pct_trips_competitive\": 1.0, \"bus_difference_spread\": 13.8, \"route_group\": \"short\", \"max_trip_hrs\": 0.53, \"max_trip_route_group\": 1.0, \"name\": \"Nevada County\", \"caltrans_district\": \"03 - Marysville\", \"drmt_organization_name\": null, \"cutoff2\": 20, \"cutoff\": 0}, {\"calitp_itp_id\": 221, \"trip_key\": -4063602956833190453, \"trip_id\": \"t_1523713_b_30719_tn_0\", \"shape_id\": \"p_1277406\", \"route_id\": \"14213\", \"service_hours\": 0.53, \"trip_first_departure_ts\": 30600, \"trip_last_arrival_ts\": 32520, \"departure_hour\": 8, \"time_of_day\": \"AM Peak\", \"p25\": 0.3, \"p50\": 0.53, \"p75\": 0.53, \"p50_trip\": 1, \"fastest_trip\": 0, \"car_duration_hours\": 0.29, \"competitive_route\": 1, \"bus_multiplier\": 1.83, \"bus_difference\": 14.4, \"num_trips\": 25, \"num_competitive\": 25, \"pct_trips_competitive\": 1.0, \"bus_difference_spread\": 13.8, \"route_group\": \"short\", \"max_trip_hrs\": 0.53, \"max_trip_route_group\": 1.0, \"name\": \"Nevada County\", \"caltrans_district\": \"03 - Marysville\", \"drmt_organization_name\": null, \"cutoff2\": 20, \"cutoff\": 0}, {\"calitp_itp_id\": 221, \"trip_key\": -5205501695277092205, \"trip_id\": \"t_1523712_b_30719_tn_0\", \"shape_id\": \"p_1277406\", \"route_id\": \"14213\", \"service_hours\": 0.53, \"trip_first_departure_ts\": 27000, \"trip_last_arrival_ts\": 28920, \"departure_hour\": 7, \"time_of_day\": \"AM Peak\", \"p25\": 0.3, \"p50\": 0.53, \"p75\": 0.53, \"p50_trip\": 1, \"fastest_trip\": 0, \"car_duration_hours\": 0.29, \"competitive_route\": 1, \"bus_multiplier\": 1.83, \"bus_difference\": 14.4, \"num_trips\": 25, \"num_competitive\": 25, \"pct_trips_competitive\": 1.0, \"bus_difference_spread\": 13.8, \"route_group\": \"short\", \"max_trip_hrs\": 0.53, \"max_trip_route_group\": 1.0, \"name\": \"Nevada County\", \"caltrans_district\": \"03 - Marysville\", \"drmt_organization_name\": null, \"cutoff2\": 20, \"cutoff\": 0}, {\"calitp_itp_id\": 221, \"trip_key\": -5954322907603516198, \"trip_id\": \"t_1523690_b_30719_tn_1\", \"shape_id\": \"p_1277402\", \"route_id\": \"14214\", \"service_hours\": 0.37, \"trip_first_departure_ts\": 48600, \"trip_last_arrival_ts\": 49920, \"departure_hour\": 13, \"time_of_day\": \"Midday\", \"p25\": 0.385, \"p50\": 0.43, \"p75\": 0.43, \"p50_trip\": 0, \"fastest_trip\": 0, \"car_duration_hours\": 0.23, \"competitive_route\": 1, \"bus_multiplier\": 1.61, \"bus_difference\": 8.4, \"num_trips\": 18, \"num_competitive\": 18, \"pct_trips_competitive\": 1.0, \"bus_difference_spread\": 3.6, \"route_group\": \"short\", \"max_trip_hrs\": 0.43, \"max_trip_route_group\": 1.0, \"name\": \"Nevada County\", \"caltrans_district\": \"03 - Marysville\", \"drmt_organization_name\": null, \"cutoff2\": 20, \"cutoff\": 0}, {\"calitp_itp_id\": 221, \"trip_key\": -4353753918843046734, \"trip_id\": \"t_1523689_b_30719_tn_1\", \"shape_id\": \"p_1277402\", \"route_id\": \"14214\", \"service_hours\": 0.37, \"trip_first_departure_ts\": 30600, \"trip_last_arrival_ts\": 31920, \"departure_hour\": 8, \"time_of_day\": \"AM Peak\", \"p25\": 0.385, \"p50\": 0.43, \"p75\": 0.43, \"p50_trip\": 0, \"fastest_trip\": 0, \"car_duration_hours\": 0.23, \"competitive_route\": 1, \"bus_multiplier\": 1.61, \"bus_difference\": 8.4, \"num_trips\": 18, \"num_competitive\": 18, \"pct_trips_competitive\": 1.0, \"bus_difference_spread\": 3.6, \"route_group\": \"short\", \"max_trip_hrs\": 0.43, \"max_trip_route_group\": 1.0, \"name\": \"Nevada County\", \"caltrans_district\": \"03 - Marysville\", \"drmt_organization_name\": null, \"cutoff2\": 20, \"cutoff\": 0}, {\"calitp_itp_id\": 221, \"trip_key\": -4139071017515178389, \"trip_id\": \"t_1523689_b_30719_tn_3\", \"shape_id\": \"p_1277402\", \"route_id\": \"14214\", \"service_hours\": 0.37, \"trip_first_departure_ts\": 45000, \"trip_last_arrival_ts\": 46320, \"departure_hour\": 12, \"time_of_day\": \"Midday\", \"p25\": 0.385, \"p50\": 0.43, \"p75\": 0.43, \"p50_trip\": 0, \"fastest_trip\": 0, \"car_duration_hours\": 0.23, \"competitive_route\": 1, \"bus_multiplier\": 1.61, \"bus_difference\": 8.4, \"num_trips\": 18, \"num_competitive\": 18, \"pct_trips_competitive\": 1.0, \"bus_difference_spread\": 3.6, \"route_group\": \"short\", \"max_trip_hrs\": 0.43, \"max_trip_route_group\": 1.0, \"name\": \"Nevada County\", \"caltrans_district\": \"03 - Marysville\", \"drmt_organization_name\": null, \"cutoff2\": 20, \"cutoff\": 0}, {\"calitp_itp_id\": 221, \"trip_key\": -5628983764226905833, \"trip_id\": \"t_1523690_b_30719_tn_2\", \"shape_id\": \"p_1277402\", \"route_id\": \"14214\", \"service_hours\": 0.37, \"trip_first_departure_ts\": 55800, \"trip_last_arrival_ts\": 57120, \"departure_hour\": 15, \"time_of_day\": \"Midday\", \"p25\": 0.385, \"p50\": 0.43, \"p75\": 0.43, \"p50_trip\": 0, \"fastest_trip\": 1, \"car_duration_hours\": 0.23, \"competitive_route\": 1, \"bus_multiplier\": 1.61, \"bus_difference\": 8.4, \"num_trips\": 18, \"num_competitive\": 18, \"pct_trips_competitive\": 1.0, \"bus_difference_spread\": 3.6, \"route_group\": \"short\", \"max_trip_hrs\": 0.43, \"max_trip_route_group\": 1.0, \"name\": \"Nevada County\", \"caltrans_district\": \"03 - Marysville\", \"drmt_organization_name\": null, \"cutoff2\": 20, \"cutoff\": 0}, {\"calitp_itp_id\": 221, \"trip_key\": 6004687622847397905, \"trip_id\": \"t_1523689_b_30719_tn_2\", \"shape_id\": \"p_1277402\", \"route_id\": \"14214\", \"service_hours\": 0.37, \"trip_first_departure_ts\": 37800, \"trip_last_arrival_ts\": 39120, \"departure_hour\": 10, \"time_of_day\": \"Midday\", \"p25\": 0.385, \"p50\": 0.43, \"p75\": 0.43, \"p50_trip\": 0, \"fastest_trip\": 0, \"car_duration_hours\": 0.23, \"competitive_route\": 1, \"bus_multiplier\": 1.61, \"bus_difference\": 8.4, \"num_trips\": 18, \"num_competitive\": 18, \"pct_trips_competitive\": 1.0, \"bus_difference_spread\": 3.6, \"route_group\": \"short\", \"max_trip_hrs\": 0.43, \"max_trip_route_group\": 1.0, \"name\": \"Nevada County\", \"caltrans_district\": \"03 - Marysville\", \"drmt_organization_name\": null, \"cutoff2\": 20, \"cutoff\": 0}, {\"calitp_itp_id\": 221, \"trip_key\": 2673187237687141665, \"trip_id\": \"t_1521674_b_30719_tn_3\", \"shape_id\": \"p_1277435\", \"route_id\": \"14214\", \"service_hours\": 0.43, \"trip_first_departure_ts\": 68400, \"trip_last_arrival_ts\": 69960, \"departure_hour\": 19, \"time_of_day\": \"PM Peak\", \"p25\": 0.385, \"p50\": 0.43, \"p75\": 0.43, \"p50_trip\": 1, \"fastest_trip\": 0, \"car_duration_hours\": 0.23, \"competitive_route\": 1, \"bus_multiplier\": 1.87, \"bus_difference\": 12.0, \"num_trips\": 18, \"num_competitive\": 18, \"pct_trips_competitive\": 1.0, \"bus_difference_spread\": 3.6, \"route_group\": \"short\", \"max_trip_hrs\": 0.43, \"max_trip_route_group\": 1.0, \"name\": \"Nevada County\", \"caltrans_district\": \"03 - Marysville\", \"drmt_organization_name\": null, \"cutoff2\": 20, \"cutoff\": 0}, {\"calitp_itp_id\": 221, \"trip_key\": 7392758430088075601, \"trip_id\": \"t_1521657_b_30719_tn_0\", \"shape_id\": \"p_1277436\", \"route_id\": \"14214\", \"service_hours\": 0.43, \"trip_first_departure_ts\": 57600, \"trip_last_arrival_ts\": 59160, \"departure_hour\": 16, \"time_of_day\": \"Midday\", \"p25\": 0.385, \"p50\": 0.43, \"p75\": 0.43, \"p50_trip\": 1, \"fastest_trip\": 0, \"car_duration_hours\": 0.23, \"competitive_route\": 1, \"bus_multiplier\": 1.87, \"bus_difference\": 12.0, \"num_trips\": 18, \"num_competitive\": 18, \"pct_trips_competitive\": 1.0, \"bus_difference_spread\": 3.6, \"route_group\": \"short\", \"max_trip_hrs\": 0.43, \"max_trip_route_group\": 1.0, \"name\": \"Nevada County\", \"caltrans_district\": \"03 - Marysville\", \"drmt_organization_name\": null, \"cutoff2\": 20, \"cutoff\": 0}, {\"calitp_itp_id\": 221, \"trip_key\": 7196272006054014586, \"trip_id\": \"t_1521655_b_30719_tn_0\", \"shape_id\": \"p_1277436\", \"route_id\": \"14214\", \"service_hours\": 0.43, \"trip_first_departure_ts\": 39600, \"trip_last_arrival_ts\": 41160, \"departure_hour\": 11, \"time_of_day\": \"Midday\", \"p25\": 0.385, \"p50\": 0.43, \"p75\": 0.43, \"p50_trip\": 1, \"fastest_trip\": 0, \"car_duration_hours\": 0.23, \"competitive_route\": 1, \"bus_multiplier\": 1.87, \"bus_difference\": 12.0, \"num_trips\": 18, \"num_competitive\": 18, \"pct_trips_competitive\": 1.0, \"bus_difference_spread\": 3.6, \"route_group\": \"short\", \"max_trip_hrs\": 0.43, \"max_trip_route_group\": 1.0, \"name\": \"Nevada County\", \"caltrans_district\": \"03 - Marysville\", \"drmt_organization_name\": null, \"cutoff2\": 20, \"cutoff\": 0}, {\"calitp_itp_id\": 221, \"trip_key\": 3105874488608409094, \"trip_id\": \"t_1521653_b_30719_tn_0\", \"shape_id\": \"p_1277435\", \"route_id\": \"14214\", \"service_hours\": 0.43, \"trip_first_departure_ts\": 43200, \"trip_last_arrival_ts\": 44760, \"departure_hour\": 12, \"time_of_day\": \"Midday\", \"p25\": 0.385, \"p50\": 0.43, \"p75\": 0.43, \"p50_trip\": 1, \"fastest_trip\": 0, \"car_duration_hours\": 0.23, \"competitive_route\": 1, \"bus_multiplier\": 1.87, \"bus_difference\": 12.0, \"num_trips\": 18, \"num_competitive\": 18, \"pct_trips_competitive\": 1.0, \"bus_difference_spread\": 3.6, \"route_group\": \"short\", \"max_trip_hrs\": 0.43, \"max_trip_route_group\": 1.0, \"name\": \"Nevada County\", \"caltrans_district\": \"03 - Marysville\", \"drmt_organization_name\": null, \"cutoff2\": 20, \"cutoff\": 0}, {\"calitp_itp_id\": 221, \"trip_key\": -4889250977737711844, \"trip_id\": \"t_1521672_b_30719_tn_0\", \"shape_id\": \"p_1277436\", \"route_id\": \"14214\", \"service_hours\": 0.43, \"trip_first_departure_ts\": 25200, \"trip_last_arrival_ts\": 26760, \"departure_hour\": 7, \"time_of_day\": \"AM Peak\", \"p25\": 0.385, \"p50\": 0.43, \"p75\": 0.43, \"p50_trip\": 1, \"fastest_trip\": 0, \"car_duration_hours\": 0.23, \"competitive_route\": 1, \"bus_multiplier\": 1.87, \"bus_difference\": 12.0, \"num_trips\": 18, \"num_competitive\": 18, \"pct_trips_competitive\": 1.0, \"bus_difference_spread\": 3.6, \"route_group\": \"short\", \"max_trip_hrs\": 0.43, \"max_trip_route_group\": 1.0, \"name\": \"Nevada County\", \"caltrans_district\": \"03 - Marysville\", \"drmt_organization_name\": null, \"cutoff2\": 20, \"cutoff\": 0}, {\"calitp_itp_id\": 221, \"trip_key\": -8236644717398761490, \"trip_id\": \"t_1521674_b_30719_tn_1\", \"shape_id\": \"p_1277435\", \"route_id\": \"14214\", \"service_hours\": 0.43, \"trip_first_departure_ts\": 61200, \"trip_last_arrival_ts\": 62760, \"departure_hour\": 17, \"time_of_day\": \"PM Peak\", \"p25\": 0.385, \"p50\": 0.43, \"p75\": 0.43, \"p50_trip\": 1, \"fastest_trip\": 0, \"car_duration_hours\": 0.23, \"competitive_route\": 1, \"bus_multiplier\": 1.87, \"bus_difference\": 12.0, \"num_trips\": 18, \"num_competitive\": 18, \"pct_trips_competitive\": 1.0, \"bus_difference_spread\": 3.6, \"route_group\": \"short\", \"max_trip_hrs\": 0.43, \"max_trip_route_group\": 1.0, \"name\": \"Nevada County\", \"caltrans_district\": \"03 - Marysville\", \"drmt_organization_name\": null, \"cutoff2\": 20, \"cutoff\": 0}, {\"calitp_itp_id\": 221, \"trip_key\": 1289260090651955908, \"trip_id\": \"t_1521652_b_30719_tn_0\", \"shape_id\": \"p_1277435\", \"route_id\": \"14214\", \"service_hours\": 0.43, \"trip_first_departure_ts\": 36000, \"trip_last_arrival_ts\": 37560, \"departure_hour\": 10, \"time_of_day\": \"Midday\", \"p25\": 0.385, \"p50\": 0.43, \"p75\": 0.43, \"p50_trip\": 1, \"fastest_trip\": 0, \"car_duration_hours\": 0.23, \"competitive_route\": 1, \"bus_multiplier\": 1.87, \"bus_difference\": 12.0, \"num_trips\": 18, \"num_competitive\": 18, \"pct_trips_competitive\": 1.0, \"bus_difference_spread\": 3.6, \"route_group\": \"short\", \"max_trip_hrs\": 0.43, \"max_trip_route_group\": 1.0, \"name\": \"Nevada County\", \"caltrans_district\": \"03 - Marysville\", \"drmt_organization_name\": null, \"cutoff2\": 20, \"cutoff\": 0}, {\"calitp_itp_id\": 221, \"trip_key\": 2683565576891295944, \"trip_id\": \"t_1521654_b_30719_tn_0\", \"shape_id\": \"p_1277435\", \"route_id\": \"14214\", \"service_hours\": 0.43, \"trip_first_departure_ts\": 46800, \"trip_last_arrival_ts\": 48360, \"departure_hour\": 13, \"time_of_day\": \"Midday\", \"p25\": 0.385, \"p50\": 0.43, \"p75\": 0.43, \"p50_trip\": 1, \"fastest_trip\": 0, \"car_duration_hours\": 0.23, \"competitive_route\": 1, \"bus_multiplier\": 1.87, \"bus_difference\": 12.0, \"num_trips\": 18, \"num_competitive\": 18, \"pct_trips_competitive\": 1.0, \"bus_difference_spread\": 3.6, \"route_group\": \"short\", \"max_trip_hrs\": 0.43, \"max_trip_route_group\": 1.0, \"name\": \"Nevada County\", \"caltrans_district\": \"03 - Marysville\", \"drmt_organization_name\": null, \"cutoff2\": 20, \"cutoff\": 0}, {\"calitp_itp_id\": 221, \"trip_key\": -4249970615052157051, \"trip_id\": \"t_1521658_b_30719_tn_0\", \"shape_id\": \"p_1277435\", \"route_id\": \"14214\", \"service_hours\": 0.43, \"trip_first_departure_ts\": 54000, \"trip_last_arrival_ts\": 55560, \"departure_hour\": 15, \"time_of_day\": \"Midday\", \"p25\": 0.385, \"p50\": 0.43, \"p75\": 0.43, \"p50_trip\": 1, \"fastest_trip\": 0, \"car_duration_hours\": 0.23, \"competitive_route\": 1, \"bus_multiplier\": 1.87, \"bus_difference\": 12.0, \"num_trips\": 18, \"num_competitive\": 18, \"pct_trips_competitive\": 1.0, \"bus_difference_spread\": 3.6, \"route_group\": \"short\", \"max_trip_hrs\": 0.43, \"max_trip_route_group\": 1.0, \"name\": \"Nevada County\", \"caltrans_district\": \"03 - Marysville\", \"drmt_organization_name\": null, \"cutoff2\": 20, \"cutoff\": 0}, {\"calitp_itp_id\": 221, \"trip_key\": 6571909576953306131, \"trip_id\": \"t_1521656_b_30719_tn_0\", \"shape_id\": \"p_1277437\", \"route_id\": \"14214\", \"service_hours\": 0.43, \"trip_first_departure_ts\": 28800, \"trip_last_arrival_ts\": 30360, \"departure_hour\": 8, \"time_of_day\": \"AM Peak\", \"p25\": 0.385, \"p50\": 0.43, \"p75\": 0.43, \"p50_trip\": 1, \"fastest_trip\": 0, \"car_duration_hours\": 0.23, \"competitive_route\": 1, \"bus_multiplier\": 1.87, \"bus_difference\": 12.0, \"num_trips\": 18, \"num_competitive\": 18, \"pct_trips_competitive\": 1.0, \"bus_difference_spread\": 3.6, \"route_group\": \"short\", \"max_trip_hrs\": 0.43, \"max_trip_route_group\": 1.0, \"name\": \"Nevada County\", \"caltrans_district\": \"03 - Marysville\", \"drmt_organization_name\": null, \"cutoff2\": 20, \"cutoff\": 0}, {\"calitp_itp_id\": 221, \"trip_key\": 4198800275083607627, \"trip_id\": \"t_1521659_b_30719_tn_0\", \"shape_id\": \"p_1277436\", \"route_id\": \"14214\", \"service_hours\": 0.43, \"trip_first_departure_ts\": 50400, \"trip_last_arrival_ts\": 51960, \"departure_hour\": 14, \"time_of_day\": \"Midday\", \"p25\": 0.385, \"p50\": 0.43, \"p75\": 0.43, \"p50_trip\": 1, \"fastest_trip\": 0, \"car_duration_hours\": 0.23, \"competitive_route\": 1, \"bus_multiplier\": 1.87, \"bus_difference\": 12.0, \"num_trips\": 18, \"num_competitive\": 18, \"pct_trips_competitive\": 1.0, \"bus_difference_spread\": 3.6, \"route_group\": \"short\", \"max_trip_hrs\": 0.43, \"max_trip_route_group\": 1.0, \"name\": \"Nevada County\", \"caltrans_district\": \"03 - Marysville\", \"drmt_organization_name\": null, \"cutoff2\": 20, \"cutoff\": 0}, {\"calitp_itp_id\": 221, \"trip_key\": 1070155966066233422, \"trip_id\": \"t_1521674_b_30719_tn_2\", \"shape_id\": \"p_1277435\", \"route_id\": \"14214\", \"service_hours\": 0.43, \"trip_first_departure_ts\": 64800, \"trip_last_arrival_ts\": 66360, \"departure_hour\": 18, \"time_of_day\": \"PM Peak\", \"p25\": 0.385, \"p50\": 0.43, \"p75\": 0.43, \"p50_trip\": 1, \"fastest_trip\": 0, \"car_duration_hours\": 0.23, \"competitive_route\": 1, \"bus_multiplier\": 1.87, \"bus_difference\": 12.0, \"num_trips\": 18, \"num_competitive\": 18, \"pct_trips_competitive\": 1.0, \"bus_difference_spread\": 3.6, \"route_group\": \"short\", \"max_trip_hrs\": 0.43, \"max_trip_route_group\": 1.0, \"name\": \"Nevada County\", \"caltrans_district\": \"03 - Marysville\", \"drmt_organization_name\": null, \"cutoff2\": 20, \"cutoff\": 0}, {\"calitp_itp_id\": 221, \"trip_key\": 4380884507637476115, \"trip_id\": \"t_1521651_b_30719_tn_0\", \"shape_id\": \"p_1277436\", \"route_id\": \"14214\", \"service_hours\": 0.43, \"trip_first_departure_ts\": 32400, \"trip_last_arrival_ts\": 33960, \"departure_hour\": 9, \"time_of_day\": \"AM Peak\", \"p25\": 0.385, \"p50\": 0.43, \"p75\": 0.43, \"p50_trip\": 1, \"fastest_trip\": 0, \"car_duration_hours\": 0.23, \"competitive_route\": 1, \"bus_multiplier\": 1.87, \"bus_difference\": 12.0, \"num_trips\": 18, \"num_competitive\": 18, \"pct_trips_competitive\": 1.0, \"bus_difference_spread\": 3.6, \"route_group\": \"short\", \"max_trip_hrs\": 0.43, \"max_trip_route_group\": 1.0, \"name\": \"Nevada County\", \"caltrans_district\": \"03 - Marysville\", \"drmt_organization_name\": null, \"cutoff2\": 20, \"cutoff\": 0}, {\"calitp_itp_id\": 221, \"trip_key\": 407261656655488401, \"trip_id\": \"t_1523669_b_30719_tn_0\", \"shape_id\": \"p_857973\", \"route_id\": \"14215\", \"service_hours\": 0.42, \"trip_first_departure_ts\": 27000, \"trip_last_arrival_ts\": 28500, \"departure_hour\": 7, \"time_of_day\": \"AM Peak\", \"p25\": 0.42, \"p50\": 0.42, \"p75\": 0.42, \"p50_trip\": 1, \"fastest_trip\": 0, \"car_duration_hours\": 0.32, \"competitive_route\": 1, \"bus_multiplier\": 1.31, \"bus_difference\": 6.0, \"num_trips\": 6, \"num_competitive\": 6, \"pct_trips_competitive\": 1.0, \"bus_difference_spread\": 0.0, \"route_group\": \"short\", \"max_trip_hrs\": 0.42, \"max_trip_route_group\": 1.0, \"name\": \"Nevada County\", \"caltrans_district\": \"03 - Marysville\", \"drmt_organization_name\": null, \"cutoff2\": 20, \"cutoff\": 0}, {\"calitp_itp_id\": 221, \"trip_key\": 3286443703549619678, \"trip_id\": \"t_1523671_b_30719_tn_0\", \"shape_id\": \"p_857973\", \"route_id\": \"14215\", \"service_hours\": 0.42, \"trip_first_departure_ts\": 41400, \"trip_last_arrival_ts\": 42900, \"departure_hour\": 11, \"time_of_day\": \"Midday\", \"p25\": 0.42, \"p50\": 0.42, \"p75\": 0.42, \"p50_trip\": 1, \"fastest_trip\": 0, \"car_duration_hours\": 0.32, \"competitive_route\": 1, \"bus_multiplier\": 1.31, \"bus_difference\": 6.0, \"num_trips\": 6, \"num_competitive\": 6, \"pct_trips_competitive\": 1.0, \"bus_difference_spread\": 0.0, \"route_group\": \"short\", \"max_trip_hrs\": 0.42, \"max_trip_route_group\": 1.0, \"name\": \"Nevada County\", \"caltrans_district\": \"03 - Marysville\", \"drmt_organization_name\": null, \"cutoff2\": 20, \"cutoff\": 0}, {\"calitp_itp_id\": 221, \"trip_key\": -8169556226085732511, \"trip_id\": \"t_1523672_b_30719_tn_1\", \"shape_id\": \"p_857973\", \"route_id\": \"14215\", \"service_hours\": 0.42, \"trip_first_departure_ts\": 52200, \"trip_last_arrival_ts\": 53700, \"departure_hour\": 14, \"time_of_day\": \"Midday\", \"p25\": 0.42, \"p50\": 0.42, \"p75\": 0.42, \"p50_trip\": 1, \"fastest_trip\": 0, \"car_duration_hours\": 0.32, \"competitive_route\": 1, \"bus_multiplier\": 1.31, \"bus_difference\": 6.0, \"num_trips\": 6, \"num_competitive\": 6, \"pct_trips_competitive\": 1.0, \"bus_difference_spread\": 0.0, \"route_group\": \"short\", \"max_trip_hrs\": 0.42, \"max_trip_route_group\": 1.0, \"name\": \"Nevada County\", \"caltrans_district\": \"03 - Marysville\", \"drmt_organization_name\": null, \"cutoff2\": 20, \"cutoff\": 0}, {\"calitp_itp_id\": 221, \"trip_key\": -4864542285598291536, \"trip_id\": \"t_1523672_b_30719_tn_3\", \"shape_id\": \"p_857973\", \"route_id\": \"14215\", \"service_hours\": 0.42, \"trip_first_departure_ts\": 66600, \"trip_last_arrival_ts\": 68100, \"departure_hour\": 18, \"time_of_day\": \"PM Peak\", \"p25\": 0.42, \"p50\": 0.42, \"p75\": 0.42, \"p50_trip\": 1, \"fastest_trip\": 1, \"car_duration_hours\": 0.32, \"competitive_route\": 1, \"bus_multiplier\": 1.31, \"bus_difference\": 6.0, \"num_trips\": 6, \"num_competitive\": 6, \"pct_trips_competitive\": 1.0, \"bus_difference_spread\": 0.0, \"route_group\": \"short\", \"max_trip_hrs\": 0.42, \"max_trip_route_group\": 1.0, \"name\": \"Nevada County\", \"caltrans_district\": \"03 - Marysville\", \"drmt_organization_name\": null, \"cutoff2\": 20, \"cutoff\": 0}, {\"calitp_itp_id\": 221, \"trip_key\": -2618845921194408363, \"trip_id\": \"t_1523670_b_30719_tn_0\", \"shape_id\": \"p_857973\", \"route_id\": \"14215\", \"service_hours\": 0.42, \"trip_first_departure_ts\": 34200, \"trip_last_arrival_ts\": 35700, \"departure_hour\": 9, \"time_of_day\": \"AM Peak\", \"p25\": 0.42, \"p50\": 0.42, \"p75\": 0.42, \"p50_trip\": 1, \"fastest_trip\": 0, \"car_duration_hours\": 0.32, \"competitive_route\": 1, \"bus_multiplier\": 1.31, \"bus_difference\": 6.0, \"num_trips\": 6, \"num_competitive\": 6, \"pct_trips_competitive\": 1.0, \"bus_difference_spread\": 0.0, \"route_group\": \"short\", \"max_trip_hrs\": 0.42, \"max_trip_route_group\": 1.0, \"name\": \"Nevada County\", \"caltrans_district\": \"03 - Marysville\", \"drmt_organization_name\": null, \"cutoff2\": 20, \"cutoff\": 0}, {\"calitp_itp_id\": 221, \"trip_key\": -3879403642870221768, \"trip_id\": \"t_1523672_b_30719_tn_2\", \"shape_id\": \"p_857973\", \"route_id\": \"14215\", \"service_hours\": 0.42, \"trip_first_departure_ts\": 59400, \"trip_last_arrival_ts\": 60900, \"departure_hour\": 16, \"time_of_day\": \"Midday\", \"p25\": 0.42, \"p50\": 0.42, \"p75\": 0.42, \"p50_trip\": 1, \"fastest_trip\": 0, \"car_duration_hours\": 0.32, \"competitive_route\": 1, \"bus_multiplier\": 1.31, \"bus_difference\": 6.0, \"num_trips\": 6, \"num_competitive\": 6, \"pct_trips_competitive\": 1.0, \"bus_difference_spread\": 0.0, \"route_group\": \"short\", \"max_trip_hrs\": 0.42, \"max_trip_route_group\": 1.0, \"name\": \"Nevada County\", \"caltrans_district\": \"03 - Marysville\", \"drmt_organization_name\": null, \"cutoff2\": 20, \"cutoff\": 0}, {\"calitp_itp_id\": 221, \"trip_key\": -1466384047158763937, \"trip_id\": \"t_1522824_b_30719_tn_0\", \"shape_id\": \"p_900657\", \"route_id\": \"16672\", \"service_hours\": 0.82, \"trip_first_departure_ts\": 21600, \"trip_last_arrival_ts\": 24540, \"departure_hour\": 6, \"time_of_day\": \"Owl Service\", \"p25\": 0.82, \"p50\": 0.98, \"p75\": 0.98, \"p50_trip\": 0, \"fastest_trip\": 0, \"car_duration_hours\": 0.63, \"competitive_route\": 1, \"bus_multiplier\": 1.3, \"bus_difference\": 11.4, \"num_trips\": 10, \"num_competitive\": 10, \"pct_trips_competitive\": 1.0, \"bus_difference_spread\": 10.8, \"route_group\": \"short\", \"max_trip_hrs\": 1.0, \"max_trip_route_group\": 1.0, \"name\": \"Nevada County\", \"caltrans_district\": \"03 - Marysville\", \"drmt_organization_name\": null, \"cutoff2\": 20, \"cutoff\": 0}, {\"calitp_itp_id\": 221, \"trip_key\": 6540329412170231911, \"trip_id\": \"t_1522833_b_30719_tn_0\", \"shape_id\": \"p_900657\", \"route_id\": \"16672\", \"service_hours\": 0.82, \"trip_first_departure_ts\": 46800, \"trip_last_arrival_ts\": 49740, \"departure_hour\": 13, \"time_of_day\": \"Midday\", \"p25\": 0.82, \"p50\": 0.98, \"p75\": 0.98, \"p50_trip\": 0, \"fastest_trip\": 0, \"car_duration_hours\": 0.63, \"competitive_route\": 1, \"bus_multiplier\": 1.3, \"bus_difference\": 11.4, \"num_trips\": 10, \"num_competitive\": 10, \"pct_trips_competitive\": 1.0, \"bus_difference_spread\": 10.8, \"route_group\": \"short\", \"max_trip_hrs\": 1.0, \"max_trip_route_group\": 1.0, \"name\": \"Nevada County\", \"caltrans_district\": \"03 - Marysville\", \"drmt_organization_name\": null, \"cutoff2\": 20, \"cutoff\": 0}, {\"calitp_itp_id\": 221, \"trip_key\": 2561708441315450282, \"trip_id\": \"t_1522834_b_30719_tn_0\", \"shape_id\": \"p_900657\", \"route_id\": \"16672\", \"service_hours\": 0.82, \"trip_first_departure_ts\": 50400, \"trip_last_arrival_ts\": 53340, \"departure_hour\": 14, \"time_of_day\": \"Midday\", \"p25\": 0.82, \"p50\": 0.98, \"p75\": 0.98, \"p50_trip\": 0, \"fastest_trip\": 1, \"car_duration_hours\": 0.63, \"competitive_route\": 1, \"bus_multiplier\": 1.3, \"bus_difference\": 11.4, \"num_trips\": 10, \"num_competitive\": 10, \"pct_trips_competitive\": 1.0, \"bus_difference_spread\": 10.8, \"route_group\": \"short\", \"max_trip_hrs\": 1.0, \"max_trip_route_group\": 1.0, \"name\": \"Nevada County\", \"caltrans_district\": \"03 - Marysville\", \"drmt_organization_name\": null, \"cutoff2\": 20, \"cutoff\": 0}, {\"calitp_itp_id\": 221, \"trip_key\": 1248269801548174678, \"trip_id\": \"t_1522821_b_30719_tn_0\", \"shape_id\": \"p_900657\", \"route_id\": \"16672\", \"service_hours\": 0.82, \"trip_first_departure_ts\": 43200, \"trip_last_arrival_ts\": 46140, \"departure_hour\": 12, \"time_of_day\": \"Midday\", \"p25\": 0.82, \"p50\": 0.98, \"p75\": 0.98, \"p50_trip\": 0, \"fastest_trip\": 0, \"car_duration_hours\": 0.63, \"competitive_route\": 1, \"bus_multiplier\": 1.3, \"bus_difference\": 11.4, \"num_trips\": 10, \"num_competitive\": 10, \"pct_trips_competitive\": 1.0, \"bus_difference_spread\": 10.8, \"route_group\": \"short\", \"max_trip_hrs\": 1.0, \"max_trip_route_group\": 1.0, \"name\": \"Nevada County\", \"caltrans_district\": \"03 - Marysville\", \"drmt_organization_name\": null, \"cutoff2\": 20, \"cutoff\": 0}, {\"calitp_itp_id\": 221, \"trip_key\": -1828246099007793869, \"trip_id\": \"t_1522826_b_30719_tn_0\", \"shape_id\": \"p_900655\", \"route_id\": \"16672\", \"service_hours\": 0.98, \"trip_first_departure_ts\": 66600, \"trip_last_arrival_ts\": 70140, \"departure_hour\": 18, \"time_of_day\": \"PM Peak\", \"p25\": 0.82, \"p50\": 0.98, \"p75\": 0.98, \"p50_trip\": 1, \"fastest_trip\": 0, \"car_duration_hours\": 0.63, \"competitive_route\": 1, \"bus_multiplier\": 1.56, \"bus_difference\": 21.0, \"num_trips\": 10, \"num_competitive\": 10, \"pct_trips_competitive\": 1.0, \"bus_difference_spread\": 10.8, \"route_group\": \"short\", \"max_trip_hrs\": 1.0, \"max_trip_route_group\": 1.0, \"name\": \"Nevada County\", \"caltrans_district\": \"03 - Marysville\", \"drmt_organization_name\": null, \"cutoff2\": 20, \"cutoff\": 0}, {\"calitp_itp_id\": 221, \"trip_key\": 3041242881220762762, \"trip_id\": \"t_1522825_b_30719_tn_0\", \"shape_id\": \"p_900655\", \"route_id\": \"16672\", \"service_hours\": 0.98, \"trip_first_departure_ts\": 46800, \"trip_last_arrival_ts\": 50340, \"departure_hour\": 13, \"time_of_day\": \"Midday\", \"p25\": 0.82, \"p50\": 0.98, \"p75\": 0.98, \"p50_trip\": 1, \"fastest_trip\": 0, \"car_duration_hours\": 0.63, \"competitive_route\": 1, \"bus_multiplier\": 1.56, \"bus_difference\": 21.0, \"num_trips\": 10, \"num_competitive\": 10, \"pct_trips_competitive\": 1.0, \"bus_difference_spread\": 10.8, \"route_group\": \"short\", \"max_trip_hrs\": 1.0, \"max_trip_route_group\": 1.0, \"name\": \"Nevada County\", \"caltrans_district\": \"03 - Marysville\", \"drmt_organization_name\": null, \"cutoff2\": 20, \"cutoff\": 0}, {\"calitp_itp_id\": 221, \"trip_key\": 2522466916411045017, \"trip_id\": \"t_1522836_b_30719_tn_0\", \"shape_id\": \"p_900655\", \"route_id\": \"16672\", \"service_hours\": 0.98, \"trip_first_departure_ts\": 59400, \"trip_last_arrival_ts\": 62940, \"departure_hour\": 16, \"time_of_day\": \"Midday\", \"p25\": 0.82, \"p50\": 0.98, \"p75\": 0.98, \"p50_trip\": 1, \"fastest_trip\": 0, \"car_duration_hours\": 0.63, \"competitive_route\": 1, \"bus_multiplier\": 1.56, \"bus_difference\": 21.0, \"num_trips\": 10, \"num_competitive\": 10, \"pct_trips_competitive\": 1.0, \"bus_difference_spread\": 10.8, \"route_group\": \"short\", \"max_trip_hrs\": 1.0, \"max_trip_route_group\": 1.0, \"name\": \"Nevada County\", \"caltrans_district\": \"03 - Marysville\", \"drmt_organization_name\": null, \"cutoff2\": 20, \"cutoff\": 0}, {\"calitp_itp_id\": 221, \"trip_key\": 1979377104552134984, \"trip_id\": \"t_1522823_b_30719_tn_0\", \"shape_id\": \"p_900655\", \"route_id\": \"16672\", \"service_hours\": 0.98, \"trip_first_departure_ts\": 25200, \"trip_last_arrival_ts\": 28740, \"departure_hour\": 7, \"time_of_day\": \"AM Peak\", \"p25\": 0.82, \"p50\": 0.98, \"p75\": 0.98, \"p50_trip\": 1, \"fastest_trip\": 0, \"car_duration_hours\": 0.63, \"competitive_route\": 1, \"bus_multiplier\": 1.56, \"bus_difference\": 21.0, \"num_trips\": 10, \"num_competitive\": 10, \"pct_trips_competitive\": 1.0, \"bus_difference_spread\": 10.8, \"route_group\": \"short\", \"max_trip_hrs\": 1.0, \"max_trip_route_group\": 1.0, \"name\": \"Nevada County\", \"caltrans_district\": \"03 - Marysville\", \"drmt_organization_name\": null, \"cutoff2\": 20, \"cutoff\": 0}, {\"calitp_itp_id\": 221, \"trip_key\": 6687632278703138029, \"trip_id\": \"t_1522835_b_30719_tn_0\", \"shape_id\": \"p_900654\", \"route_id\": \"16672\", \"service_hours\": 1.0, \"trip_first_departure_ts\": 55800, \"trip_last_arrival_ts\": 59400, \"departure_hour\": 15, \"time_of_day\": \"Midday\", \"p25\": 0.82, \"p50\": 0.98, \"p75\": 0.98, \"p50_trip\": 0, \"fastest_trip\": 0, \"car_duration_hours\": 0.63, \"competitive_route\": 1, \"bus_multiplier\": 1.59, \"bus_difference\": 22.2, \"num_trips\": 10, \"num_competitive\": 10, \"pct_trips_competitive\": 1.0, \"bus_difference_spread\": 10.8, \"route_group\": \"short\", \"max_trip_hrs\": 1.0, \"max_trip_route_group\": 1.0, \"name\": \"Nevada County\", \"caltrans_district\": \"03 - Marysville\", \"drmt_organization_name\": null, \"cutoff2\": 20, \"cutoff\": 0}, {\"calitp_itp_id\": 221, \"trip_key\": 4960626180765164252, \"trip_id\": \"t_1522822_b_30719_tn_0\", \"shape_id\": \"p_900654\", \"route_id\": \"16672\", \"service_hours\": 1.0, \"trip_first_departure_ts\": 63000, \"trip_last_arrival_ts\": 66600, \"departure_hour\": 17, \"time_of_day\": \"PM Peak\", \"p25\": 0.82, \"p50\": 0.98, \"p75\": 0.98, \"p50_trip\": 0, \"fastest_trip\": 0, \"car_duration_hours\": 0.63, \"competitive_route\": 1, \"bus_multiplier\": 1.59, \"bus_difference\": 22.2, \"num_trips\": 10, \"num_competitive\": 10, \"pct_trips_competitive\": 1.0, \"bus_difference_spread\": 10.8, \"route_group\": \"short\", \"max_trip_hrs\": 1.0, \"max_trip_route_group\": 1.0, \"name\": \"Nevada County\", \"caltrans_district\": \"03 - Marysville\", \"drmt_organization_name\": null, \"cutoff2\": 20, \"cutoff\": 0}]}}, {\"mode\": \"vega-lite\"});\n",
       "</script>"
      ],
      "text/plain": [
       "alt.FacetChart(...)"
      ]
     },
     "metadata": {},
     "output_type": "display_data"
    }
   ],
   "source": [
    "# Allow for possibility that operator doesn't have routes that fall into certain route_groups\n",
    "# But, jupyterbook will not like markdown with f-string\n",
    "# separate out route_group and put in each cell, and use try/except + if to display...\n",
    "# but all 3 route groups must be displayed. just add sentence about why no routes were returned at the end\n",
    "route_group = \"short\"\n",
    "try:\n",
    "    display_charts_for_route_group(df, route_group)\n",
    "except:\n",
    "    print(\"No routes meet this criteria.\")"
   ]
  },
  {
   "cell_type": "markdown",
   "id": "c2931b6f-034d-4384-9e14-80b925e3b820",
   "metadata": {
    "papermill": {
     "duration": 0.018394,
     "end_time": "2022-05-09T16:34:09.266269",
     "exception": false,
     "start_time": "2022-05-09T16:34:09.247875",
     "status": "completed"
    },
    "tags": []
   },
   "source": [
    "### Medium Routes (1-1.5 hrs)"
   ]
  },
  {
   "cell_type": "code",
   "execution_count": 14,
   "id": "480edddc-4de0-48c2-ae4c-b0ceef8f28b5",
   "metadata": {
    "execution": {
     "iopub.execute_input": "2022-05-09T16:34:09.307516Z",
     "iopub.status.busy": "2022-05-09T16:34:09.306196Z",
     "iopub.status.idle": "2022-05-09T16:34:09.579626Z",
     "shell.execute_reply": "2022-05-09T16:34:09.578474Z"
    },
    "jupyter": {
     "source_hidden": true
    },
    "papermill": {
     "duration": 0.298464,
     "end_time": "2022-05-09T16:34:09.582292",
     "exception": false,
     "start_time": "2022-05-09T16:34:09.283828",
     "status": "completed"
    },
    "tags": [
     "remove_input"
    ]
   },
   "outputs": [
    {
     "data": {
      "text/markdown": [
       "<br>These are routes that have **at least 25% of their trips take no more than an additional 30 min** compared to a car (up to 15 routes) are shown.<br>Within each route group, routes are sorted in descending order by % competitive trips and # trips below the additional time cut-off."
      ],
      "text/plain": [
       "<IPython.core.display.Markdown object>"
      ]
     },
     "metadata": {},
     "output_type": "display_data"
    },
    {
     "data": {
      "text/html": [
       "\n",
       "<div id=\"altair-viz-d2ef2a02f0284a1aadc31e8b5e2bf87e\"></div>\n",
       "<script type=\"text/javascript\">\n",
       "  var VEGA_DEBUG = (typeof VEGA_DEBUG == \"undefined\") ? {} : VEGA_DEBUG;\n",
       "  (function(spec, embedOpt){\n",
       "    let outputDiv = document.currentScript.previousElementSibling;\n",
       "    if (outputDiv.id !== \"altair-viz-d2ef2a02f0284a1aadc31e8b5e2bf87e\") {\n",
       "      outputDiv = document.getElementById(\"altair-viz-d2ef2a02f0284a1aadc31e8b5e2bf87e\");\n",
       "    }\n",
       "    const paths = {\n",
       "      \"vega\": \"https://cdn.jsdelivr.net/npm//vega@5?noext\",\n",
       "      \"vega-lib\": \"https://cdn.jsdelivr.net/npm//vega-lib?noext\",\n",
       "      \"vega-lite\": \"https://cdn.jsdelivr.net/npm//vega-lite@4.17.0?noext\",\n",
       "      \"vega-embed\": \"https://cdn.jsdelivr.net/npm//vega-embed@6?noext\",\n",
       "    };\n",
       "\n",
       "    function maybeLoadScript(lib, version) {\n",
       "      var key = `${lib.replace(\"-\", \"\")}_version`;\n",
       "      return (VEGA_DEBUG[key] == version) ?\n",
       "        Promise.resolve(paths[lib]) :\n",
       "        new Promise(function(resolve, reject) {\n",
       "          var s = document.createElement('script');\n",
       "          document.getElementsByTagName(\"head\")[0].appendChild(s);\n",
       "          s.async = true;\n",
       "          s.onload = () => {\n",
       "            VEGA_DEBUG[key] = version;\n",
       "            return resolve(paths[lib]);\n",
       "          };\n",
       "          s.onerror = () => reject(`Error loading script: ${paths[lib]}`);\n",
       "          s.src = paths[lib];\n",
       "        });\n",
       "    }\n",
       "\n",
       "    function showError(err) {\n",
       "      outputDiv.innerHTML = `<div class=\"error\" style=\"color:red;\">${err}</div>`;\n",
       "      throw err;\n",
       "    }\n",
       "\n",
       "    function displayChart(vegaEmbed) {\n",
       "      vegaEmbed(outputDiv, spec, embedOpt)\n",
       "        .catch(err => showError(`Javascript Error: ${err.message}<br>This usually means there's a typo in your chart specification. See the javascript console for the full traceback.`));\n",
       "    }\n",
       "\n",
       "    if(typeof define === \"function\" && define.amd) {\n",
       "      requirejs.config({paths});\n",
       "      require([\"vega-embed\"], displayChart, err => showError(`Error loading script: ${err.message}`));\n",
       "    } else {\n",
       "      maybeLoadScript(\"vega\", \"5\")\n",
       "        .then(() => maybeLoadScript(\"vega-lite\", \"4.17.0\"))\n",
       "        .then(() => maybeLoadScript(\"vega-embed\", \"6\"))\n",
       "        .catch(showError)\n",
       "        .then(() => displayChart(vegaEmbed));\n",
       "    }\n",
       "  })({\"config\": {\"view\": {\"continuousWidth\": 400, \"continuousHeight\": 300, \"stroke\": null}, \"facet\": {\"spacing\": 0}}, \"data\": {\"name\": \"data-4de0039725d9e89f0f263632d023b651\"}, \"facet\": {\"column\": {\"field\": \"route_id\", \"sort\": [\"14212\"], \"title\": \"Route ID\", \"type\": \"nominal\"}}, \"spec\": {\"layer\": [{\"mark\": \"rule\", \"encoding\": {\"color\": {\"value\": \"black\"}, \"y\": {\"field\": \"cutoff\", \"type\": \"quantitative\"}}, \"selection\": {\"selector003\": {\"type\": \"interval\", \"bind\": \"scales\", \"encodings\": [\"x\", \"y\"]}}}, {\"mark\": {\"type\": \"point\", \"opacity\": 0.65, \"size\": 12, \"strokeWidth\": 1.1}, \"encoding\": {\"color\": {\"field\": \"time_of_day\", \"scale\": {\"range\": [\"#136C97\", \"#E16B26\", \"#F6BF16\", \"#00896B\", \"#7790A3\", \"#5B559C\"]}, \"sort\": [\"AM Peak\", \"Midday\", \"PM Peak\", \"Owl Service\"], \"title\": \"Time of Day\", \"type\": \"nominal\"}, \"tooltip\": [{\"field\": \"route_id\", \"type\": \"nominal\"}, {\"field\": \"trip_id\", \"type\": \"nominal\"}, {\"field\": \"service_hours\", \"type\": \"quantitative\"}, {\"field\": \"car_duration_hours\", \"type\": \"quantitative\"}, {\"field\": \"bus_multiplier\", \"type\": \"quantitative\"}, {\"field\": \"bus_difference\", \"type\": \"quantitative\"}, {\"field\": \"num_trips\", \"type\": \"quantitative\"}, {\"field\": \"num_competitive\", \"type\": \"quantitative\"}, {\"field\": \"pct_trips_competitive\", \"type\": \"quantitative\"}, {\"field\": \"p25\", \"type\": \"quantitative\"}, {\"field\": \"p50\", \"type\": \"quantitative\"}, {\"field\": \"p75\", \"type\": \"quantitative\"}], \"x\": {\"axis\": {\"grid\": false, \"labels\": false, \"ticks\": true, \"values\": [0]}, \"field\": \"jitter\", \"scale\": {}, \"title\": null, \"type\": \"quantitative\"}, \"y\": {\"field\": \"bus_multiplier\", \"scale\": {\"domain\": [-0.25, 2.5]}, \"title\": \"Ratio of Bus to Car Travel Time\", \"type\": \"quantitative\"}}, \"transform\": [{\"calculate\": \"sqrt(-2*log(random()))*cos(2*PI*random())\", \"as\": \"jitter\"}], \"width\": 50}, {\"layer\": [{\"mark\": {\"type\": \"point\", \"opacity\": 0.6, \"size\": 20, \"strokeWidth\": 1.3}, \"encoding\": {\"color\": {\"value\": \"#323434\"}, \"y\": {\"field\": \"bus_multiplier\", \"type\": \"quantitative\"}}, \"transform\": [{\"filter\": \"(datum.p50_trip === 1)\"}]}, {\"mark\": {\"type\": \"text\", \"align\": \"center\", \"baseline\": \"middle\"}, \"encoding\": {\"color\": {\"value\": \"black\"}, \"text\": {\"field\": \"pct_trips_competitive\", \"format\": \".0%\", \"type\": \"quantitative\"}, \"tooltip\": [{\"field\": \"route_id\", \"type\": \"nominal\"}, {\"field\": \"trip_id\", \"type\": \"nominal\"}, {\"field\": \"service_hours\", \"type\": \"quantitative\"}, {\"field\": \"car_duration_hours\", \"type\": \"quantitative\"}, {\"field\": \"bus_multiplier\", \"type\": \"quantitative\"}, {\"field\": \"bus_difference\", \"type\": \"quantitative\"}, {\"field\": \"num_trips\", \"type\": \"quantitative\"}, {\"field\": \"num_competitive\", \"type\": \"quantitative\"}, {\"field\": \"pct_trips_competitive\", \"type\": \"quantitative\"}, {\"field\": \"p25\", \"type\": \"quantitative\"}, {\"field\": \"p50\", \"type\": \"quantitative\"}, {\"field\": \"p75\", \"type\": \"quantitative\"}], \"x\": {\"value\": 30}, \"y\": {\"value\": 15}}, \"transform\": [{\"calculate\": \"sqrt(-2*log(random()))*cos(2*PI*random())\", \"as\": \"jitter\"}, {\"filter\": \"(datum.fastest_trip === 1)\"}]}]}]}, \"resolve\": {\"scale\": {\"y\": \"shared\"}}, \"title\": \"Ratio of Bus to Car Travel Time\", \"$schema\": \"https://vega.github.io/schema/vega-lite/v4.17.0.json\", \"datasets\": {\"data-4de0039725d9e89f0f263632d023b651\": [{\"calitp_itp_id\": 221, \"trip_key\": -3278939721472571045, \"trip_id\": \"t_1524065_b_30719_tn_0\", \"shape_id\": \"p_1277409\", \"route_id\": \"14212\", \"service_hours\": 0.83, \"trip_first_departure_ts\": 28800, \"trip_last_arrival_ts\": 31800, \"departure_hour\": 8, \"time_of_day\": \"AM Peak\", \"p25\": 0.83, \"p50\": 0.83, \"p75\": 0.8724999999999999, \"p50_trip\": 1, \"fastest_trip\": 0, \"car_duration_hours\": 0.73, \"competitive_route\": 1, \"bus_multiplier\": 1.14, \"bus_difference\": 6.0, \"num_trips\": 12, \"num_competitive\": 11, \"pct_trips_competitive\": 0.917, \"bus_difference_spread\": 40.2, \"route_group\": \"medium\", \"max_trip_hrs\": 1.5, \"max_trip_route_group\": 1.5, \"name\": \"Nevada County\", \"caltrans_district\": \"03 - Marysville\", \"drmt_organization_name\": null, \"cutoff2\": 30, \"cutoff\": 2}, {\"calitp_itp_id\": 221, \"trip_key\": -1187960695264947358, \"trip_id\": \"t_1521592_b_30719_tn_0\", \"shape_id\": \"p_1277409\", \"route_id\": \"14212\", \"service_hours\": 0.83, \"trip_first_departure_ts\": 61200, \"trip_last_arrival_ts\": 64200, \"departure_hour\": 17, \"time_of_day\": \"PM Peak\", \"p25\": 0.83, \"p50\": 0.83, \"p75\": 0.8724999999999999, \"p50_trip\": 1, \"fastest_trip\": 1, \"car_duration_hours\": 0.73, \"competitive_route\": 1, \"bus_multiplier\": 1.14, \"bus_difference\": 6.0, \"num_trips\": 12, \"num_competitive\": 11, \"pct_trips_competitive\": 0.917, \"bus_difference_spread\": 40.2, \"route_group\": \"medium\", \"max_trip_hrs\": 1.5, \"max_trip_route_group\": 1.5, \"name\": \"Nevada County\", \"caltrans_district\": \"03 - Marysville\", \"drmt_organization_name\": null, \"cutoff2\": 30, \"cutoff\": 2}, {\"calitp_itp_id\": 221, \"trip_key\": -9025968667369552570, \"trip_id\": \"t_1529101_b_30719_tn_0\", \"shape_id\": \"p_1277411\", \"route_id\": \"14212\", \"service_hours\": 0.83, \"trip_first_departure_ts\": 25200, \"trip_last_arrival_ts\": 28200, \"departure_hour\": 7, \"time_of_day\": \"AM Peak\", \"p25\": 0.83, \"p50\": 0.83, \"p75\": 0.8724999999999999, \"p50_trip\": 1, \"fastest_trip\": 0, \"car_duration_hours\": 0.73, \"competitive_route\": 1, \"bus_multiplier\": 1.14, \"bus_difference\": 6.0, \"num_trips\": 12, \"num_competitive\": 11, \"pct_trips_competitive\": 0.917, \"bus_difference_spread\": 40.2, \"route_group\": \"medium\", \"max_trip_hrs\": 1.5, \"max_trip_route_group\": 1.5, \"name\": \"Nevada County\", \"caltrans_district\": \"03 - Marysville\", \"drmt_organization_name\": null, \"cutoff2\": 30, \"cutoff\": 2}, {\"calitp_itp_id\": 221, \"trip_key\": 3033339261088800008, \"trip_id\": \"t_1524067_b_30719_tn_2\", \"shape_id\": \"p_1277411\", \"route_id\": \"14212\", \"service_hours\": 0.83, \"trip_first_departure_ts\": 57600, \"trip_last_arrival_ts\": 60600, \"departure_hour\": 16, \"time_of_day\": \"Midday\", \"p25\": 0.83, \"p50\": 0.83, \"p75\": 0.8724999999999999, \"p50_trip\": 1, \"fastest_trip\": 0, \"car_duration_hours\": 0.73, \"competitive_route\": 1, \"bus_multiplier\": 1.14, \"bus_difference\": 6.0, \"num_trips\": 12, \"num_competitive\": 11, \"pct_trips_competitive\": 0.917, \"bus_difference_spread\": 40.2, \"route_group\": \"medium\", \"max_trip_hrs\": 1.5, \"max_trip_route_group\": 1.5, \"name\": \"Nevada County\", \"caltrans_district\": \"03 - Marysville\", \"drmt_organization_name\": null, \"cutoff2\": 30, \"cutoff\": 2}, {\"calitp_itp_id\": 221, \"trip_key\": 7518578318818496576, \"trip_id\": \"t_1524066_b_30719_tn_2\", \"shape_id\": \"p_1277409\", \"route_id\": \"14212\", \"service_hours\": 0.83, \"trip_first_departure_ts\": 54000, \"trip_last_arrival_ts\": 57000, \"departure_hour\": 15, \"time_of_day\": \"Midday\", \"p25\": 0.83, \"p50\": 0.83, \"p75\": 0.8724999999999999, \"p50_trip\": 1, \"fastest_trip\": 0, \"car_duration_hours\": 0.73, \"competitive_route\": 1, \"bus_multiplier\": 1.14, \"bus_difference\": 6.0, \"num_trips\": 12, \"num_competitive\": 11, \"pct_trips_competitive\": 0.917, \"bus_difference_spread\": 40.2, \"route_group\": \"medium\", \"max_trip_hrs\": 1.5, \"max_trip_route_group\": 1.5, \"name\": \"Nevada County\", \"caltrans_district\": \"03 - Marysville\", \"drmt_organization_name\": null, \"cutoff2\": 30, \"cutoff\": 2}, {\"calitp_itp_id\": 221, \"trip_key\": -5195615344486242979, \"trip_id\": \"t_1524067_b_30719_tn_1\", \"shape_id\": \"p_1277411\", \"route_id\": \"14212\", \"service_hours\": 0.83, \"trip_first_departure_ts\": 50400, \"trip_last_arrival_ts\": 53400, \"departure_hour\": 14, \"time_of_day\": \"Midday\", \"p25\": 0.83, \"p50\": 0.83, \"p75\": 0.8724999999999999, \"p50_trip\": 1, \"fastest_trip\": 0, \"car_duration_hours\": 0.73, \"competitive_route\": 1, \"bus_multiplier\": 1.14, \"bus_difference\": 6.0, \"num_trips\": 12, \"num_competitive\": 11, \"pct_trips_competitive\": 0.917, \"bus_difference_spread\": 40.2, \"route_group\": \"medium\", \"max_trip_hrs\": 1.5, \"max_trip_route_group\": 1.5, \"name\": \"Nevada County\", \"caltrans_district\": \"03 - Marysville\", \"drmt_organization_name\": null, \"cutoff2\": 30, \"cutoff\": 2}, {\"calitp_itp_id\": 221, \"trip_key\": 6848590773781082472, \"trip_id\": \"t_1524066_b_30719_tn_1\", \"shape_id\": \"p_1277409\", \"route_id\": \"14212\", \"service_hours\": 0.83, \"trip_first_departure_ts\": 46800, \"trip_last_arrival_ts\": 49800, \"departure_hour\": 13, \"time_of_day\": \"Midday\", \"p25\": 0.83, \"p50\": 0.83, \"p75\": 0.8724999999999999, \"p50_trip\": 1, \"fastest_trip\": 0, \"car_duration_hours\": 0.73, \"competitive_route\": 1, \"bus_multiplier\": 1.14, \"bus_difference\": 6.0, \"num_trips\": 12, \"num_competitive\": 11, \"pct_trips_competitive\": 0.917, \"bus_difference_spread\": 40.2, \"route_group\": \"medium\", \"max_trip_hrs\": 1.5, \"max_trip_route_group\": 1.5, \"name\": \"Nevada County\", \"caltrans_district\": \"03 - Marysville\", \"drmt_organization_name\": null, \"cutoff2\": 30, \"cutoff\": 2}, {\"calitp_itp_id\": 221, \"trip_key\": -9105938599134225848, \"trip_id\": \"t_1521596_b_30719_tn_0\", \"shape_id\": \"p_1277411\", \"route_id\": \"14212\", \"service_hours\": 0.83, \"trip_first_departure_ts\": 39600, \"trip_last_arrival_ts\": 42600, \"departure_hour\": 11, \"time_of_day\": \"Midday\", \"p25\": 0.83, \"p50\": 0.83, \"p75\": 0.8724999999999999, \"p50_trip\": 1, \"fastest_trip\": 0, \"car_duration_hours\": 0.73, \"competitive_route\": 1, \"bus_multiplier\": 1.14, \"bus_difference\": 6.0, \"num_trips\": 12, \"num_competitive\": 11, \"pct_trips_competitive\": 0.917, \"bus_difference_spread\": 40.2, \"route_group\": \"medium\", \"max_trip_hrs\": 1.5, \"max_trip_route_group\": 1.5, \"name\": \"Nevada County\", \"caltrans_district\": \"03 - Marysville\", \"drmt_organization_name\": null, \"cutoff2\": 30, \"cutoff\": 2}, {\"calitp_itp_id\": 221, \"trip_key\": -5429741548192402884, \"trip_id\": \"t_1521593_b_30719_tn_0\", \"shape_id\": \"p_1277410\", \"route_id\": \"14212\", \"service_hours\": 0.83, \"trip_first_departure_ts\": 32400, \"trip_last_arrival_ts\": 35400, \"departure_hour\": 9, \"time_of_day\": \"AM Peak\", \"p25\": 0.83, \"p50\": 0.83, \"p75\": 0.8724999999999999, \"p50_trip\": 1, \"fastest_trip\": 0, \"car_duration_hours\": 0.73, \"competitive_route\": 1, \"bus_multiplier\": 1.14, \"bus_difference\": 6.0, \"num_trips\": 12, \"num_competitive\": 11, \"pct_trips_competitive\": 0.917, \"bus_difference_spread\": 40.2, \"route_group\": \"medium\", \"max_trip_hrs\": 1.5, \"max_trip_route_group\": 1.5, \"name\": \"Nevada County\", \"caltrans_district\": \"03 - Marysville\", \"drmt_organization_name\": null, \"cutoff2\": 30, \"cutoff\": 2}, {\"calitp_itp_id\": 221, \"trip_key\": 7173812361890038660, \"trip_id\": \"t_1521591_b_30719_tn_0\", \"shape_id\": \"p_1277408\", \"route_id\": \"14212\", \"service_hours\": 1.0, \"trip_first_departure_ts\": 21000, \"trip_last_arrival_ts\": 24600, \"departure_hour\": 5, \"time_of_day\": \"Owl Service\", \"p25\": 0.83, \"p50\": 0.83, \"p75\": 0.8724999999999999, \"p50_trip\": 0, \"fastest_trip\": 0, \"car_duration_hours\": 0.73, \"competitive_route\": 1, \"bus_multiplier\": 1.37, \"bus_difference\": 16.2, \"num_trips\": 12, \"num_competitive\": 11, \"pct_trips_competitive\": 0.917, \"bus_difference_spread\": 40.2, \"route_group\": \"medium\", \"max_trip_hrs\": 1.5, \"max_trip_route_group\": 1.5, \"name\": \"Nevada County\", \"caltrans_district\": \"03 - Marysville\", \"drmt_organization_name\": null, \"cutoff2\": 30, \"cutoff\": 2}, {\"calitp_itp_id\": 221, \"trip_key\": 287052313638697039, \"trip_id\": \"t_1529102_b_30719_tn_0\", \"shape_id\": \"p_1277460\", \"route_id\": \"14212\", \"service_hours\": 1.0, \"trip_first_departure_ts\": 32400, \"trip_last_arrival_ts\": 36000, \"departure_hour\": 9, \"time_of_day\": \"AM Peak\", \"p25\": 0.83, \"p50\": 0.83, \"p75\": 0.8724999999999999, \"p50_trip\": 0, \"fastest_trip\": 0, \"car_duration_hours\": 0.73, \"competitive_route\": 1, \"bus_multiplier\": 1.37, \"bus_difference\": 16.2, \"num_trips\": 12, \"num_competitive\": 11, \"pct_trips_competitive\": 0.917, \"bus_difference_spread\": 40.2, \"route_group\": \"medium\", \"max_trip_hrs\": 1.5, \"max_trip_route_group\": 1.5, \"name\": \"Nevada County\", \"caltrans_district\": \"03 - Marysville\", \"drmt_organization_name\": null, \"cutoff2\": 30, \"cutoff\": 2}, {\"calitp_itp_id\": 221, \"trip_key\": 1459604591576872902, \"trip_id\": \"t_1521595_b_30719_tn_0\", \"shape_id\": \"p_1277460\", \"route_id\": \"14212\", \"service_hours\": 1.5, \"trip_first_departure_ts\": 64800, \"trip_last_arrival_ts\": 70200, \"departure_hour\": 18, \"time_of_day\": \"PM Peak\", \"p25\": 0.83, \"p50\": 0.83, \"p75\": 0.8724999999999999, \"p50_trip\": 0, \"fastest_trip\": 0, \"car_duration_hours\": 0.73, \"competitive_route\": 1, \"bus_multiplier\": 2.05, \"bus_difference\": 46.2, \"num_trips\": 12, \"num_competitive\": 11, \"pct_trips_competitive\": 0.917, \"bus_difference_spread\": 40.2, \"route_group\": \"medium\", \"max_trip_hrs\": 1.5, \"max_trip_route_group\": 1.5, \"name\": \"Nevada County\", \"caltrans_district\": \"03 - Marysville\", \"drmt_organization_name\": null, \"cutoff2\": 30, \"cutoff\": 2}]}}, {\"mode\": \"vega-lite\"});\n",
       "</script>"
      ],
      "text/plain": [
       "alt.FacetChart(...)"
      ]
     },
     "metadata": {},
     "output_type": "display_data"
    },
    {
     "data": {
      "text/html": [
       "\n",
       "<div id=\"altair-viz-558df70eb4784c8181d2c001ec18bc05\"></div>\n",
       "<script type=\"text/javascript\">\n",
       "  var VEGA_DEBUG = (typeof VEGA_DEBUG == \"undefined\") ? {} : VEGA_DEBUG;\n",
       "  (function(spec, embedOpt){\n",
       "    let outputDiv = document.currentScript.previousElementSibling;\n",
       "    if (outputDiv.id !== \"altair-viz-558df70eb4784c8181d2c001ec18bc05\") {\n",
       "      outputDiv = document.getElementById(\"altair-viz-558df70eb4784c8181d2c001ec18bc05\");\n",
       "    }\n",
       "    const paths = {\n",
       "      \"vega\": \"https://cdn.jsdelivr.net/npm//vega@5?noext\",\n",
       "      \"vega-lib\": \"https://cdn.jsdelivr.net/npm//vega-lib?noext\",\n",
       "      \"vega-lite\": \"https://cdn.jsdelivr.net/npm//vega-lite@4.17.0?noext\",\n",
       "      \"vega-embed\": \"https://cdn.jsdelivr.net/npm//vega-embed@6?noext\",\n",
       "    };\n",
       "\n",
       "    function maybeLoadScript(lib, version) {\n",
       "      var key = `${lib.replace(\"-\", \"\")}_version`;\n",
       "      return (VEGA_DEBUG[key] == version) ?\n",
       "        Promise.resolve(paths[lib]) :\n",
       "        new Promise(function(resolve, reject) {\n",
       "          var s = document.createElement('script');\n",
       "          document.getElementsByTagName(\"head\")[0].appendChild(s);\n",
       "          s.async = true;\n",
       "          s.onload = () => {\n",
       "            VEGA_DEBUG[key] = version;\n",
       "            return resolve(paths[lib]);\n",
       "          };\n",
       "          s.onerror = () => reject(`Error loading script: ${paths[lib]}`);\n",
       "          s.src = paths[lib];\n",
       "        });\n",
       "    }\n",
       "\n",
       "    function showError(err) {\n",
       "      outputDiv.innerHTML = `<div class=\"error\" style=\"color:red;\">${err}</div>`;\n",
       "      throw err;\n",
       "    }\n",
       "\n",
       "    function displayChart(vegaEmbed) {\n",
       "      vegaEmbed(outputDiv, spec, embedOpt)\n",
       "        .catch(err => showError(`Javascript Error: ${err.message}<br>This usually means there's a typo in your chart specification. See the javascript console for the full traceback.`));\n",
       "    }\n",
       "\n",
       "    if(typeof define === \"function\" && define.amd) {\n",
       "      requirejs.config({paths});\n",
       "      require([\"vega-embed\"], displayChart, err => showError(`Error loading script: ${err.message}`));\n",
       "    } else {\n",
       "      maybeLoadScript(\"vega\", \"5\")\n",
       "        .then(() => maybeLoadScript(\"vega-lite\", \"4.17.0\"))\n",
       "        .then(() => maybeLoadScript(\"vega-embed\", \"6\"))\n",
       "        .catch(showError)\n",
       "        .then(() => displayChart(vegaEmbed));\n",
       "    }\n",
       "  })({\"config\": {\"view\": {\"continuousWidth\": 400, \"continuousHeight\": 300, \"stroke\": null}, \"facet\": {\"spacing\": 0}}, \"data\": {\"name\": \"data-2bb86f2e65b193c76772a905c0dedd47\"}, \"facet\": {\"column\": {\"field\": \"route_id\", \"sort\": [\"14212\"], \"title\": \"Route ID\", \"type\": \"nominal\"}}, \"spec\": {\"layer\": [{\"mark\": \"rule\", \"encoding\": {\"color\": {\"value\": \"black\"}, \"y\": {\"field\": \"cutoff\", \"type\": \"quantitative\"}}, \"selection\": {\"selector004\": {\"type\": \"interval\", \"bind\": \"scales\", \"encodings\": [\"x\", \"y\"]}}}, {\"mark\": {\"type\": \"rule\", \"strokeDash\": [3, 3]}, \"encoding\": {\"color\": {\"value\": \"#323434\"}, \"y\": {\"field\": \"cutoff2\", \"type\": \"quantitative\"}}}, {\"mark\": {\"type\": \"point\", \"opacity\": 0.65, \"size\": 12, \"strokeWidth\": 1.1}, \"encoding\": {\"color\": {\"field\": \"time_of_day\", \"scale\": {\"range\": [\"#136C97\", \"#E16B26\", \"#F6BF16\", \"#00896B\", \"#7790A3\", \"#5B559C\"]}, \"sort\": [\"AM Peak\", \"Midday\", \"PM Peak\", \"Owl Service\"], \"title\": \"Time of Day\", \"type\": \"nominal\"}, \"tooltip\": [{\"field\": \"route_id\", \"type\": \"nominal\"}, {\"field\": \"trip_id\", \"type\": \"nominal\"}, {\"field\": \"service_hours\", \"type\": \"quantitative\"}, {\"field\": \"car_duration_hours\", \"type\": \"quantitative\"}, {\"field\": \"bus_multiplier\", \"type\": \"quantitative\"}, {\"field\": \"bus_difference\", \"type\": \"quantitative\"}, {\"field\": \"num_trips\", \"type\": \"quantitative\"}, {\"field\": \"num_competitive\", \"type\": \"quantitative\"}, {\"field\": \"pct_trips_competitive\", \"type\": \"quantitative\"}, {\"field\": \"p25\", \"type\": \"quantitative\"}, {\"field\": \"p50\", \"type\": \"quantitative\"}, {\"field\": \"p75\", \"type\": \"quantitative\"}], \"x\": {\"axis\": {\"grid\": false, \"labels\": false, \"ticks\": true, \"values\": [0]}, \"field\": \"jitter\", \"scale\": {}, \"title\": null, \"type\": \"quantitative\"}, \"y\": {\"field\": \"bus_difference\", \"scale\": {\"domain\": [-5, 46.2]}, \"title\": \"Difference in Bus to Car Travel Time (min)\", \"type\": \"quantitative\"}}, \"transform\": [{\"calculate\": \"sqrt(-2*log(random()))*cos(2*PI*random())\", \"as\": \"jitter\"}], \"width\": 50}, {\"layer\": [{\"mark\": {\"type\": \"point\", \"opacity\": 0.6, \"size\": 20, \"strokeWidth\": 1.3}, \"encoding\": {\"color\": {\"value\": \"#323434\"}, \"y\": {\"field\": \"bus_difference\", \"type\": \"quantitative\"}}, \"transform\": [{\"filter\": \"(datum.p50_trip === 1)\"}]}, {\"mark\": {\"type\": \"text\", \"align\": \"center\", \"baseline\": \"middle\"}, \"encoding\": {\"color\": {\"value\": \"black\"}, \"text\": {\"field\": \"pct_trips_competitive\", \"format\": \".0%\", \"type\": \"quantitative\"}, \"tooltip\": [{\"field\": \"route_id\", \"type\": \"nominal\"}, {\"field\": \"trip_id\", \"type\": \"nominal\"}, {\"field\": \"service_hours\", \"type\": \"quantitative\"}, {\"field\": \"car_duration_hours\", \"type\": \"quantitative\"}, {\"field\": \"bus_multiplier\", \"type\": \"quantitative\"}, {\"field\": \"bus_difference\", \"type\": \"quantitative\"}, {\"field\": \"num_trips\", \"type\": \"quantitative\"}, {\"field\": \"num_competitive\", \"type\": \"quantitative\"}, {\"field\": \"pct_trips_competitive\", \"type\": \"quantitative\"}, {\"field\": \"p25\", \"type\": \"quantitative\"}, {\"field\": \"p50\", \"type\": \"quantitative\"}, {\"field\": \"p75\", \"type\": \"quantitative\"}], \"x\": {\"value\": 30}, \"y\": {\"value\": 15}}, \"transform\": [{\"calculate\": \"sqrt(-2*log(random()))*cos(2*PI*random())\", \"as\": \"jitter\"}, {\"filter\": \"(datum.fastest_trip === 1)\"}]}]}]}, \"resolve\": {\"scale\": {\"y\": \"shared\"}}, \"title\": \"Difference in Bus to Car Travel Time (min)\", \"$schema\": \"https://vega.github.io/schema/vega-lite/v4.17.0.json\", \"datasets\": {\"data-2bb86f2e65b193c76772a905c0dedd47\": [{\"calitp_itp_id\": 221, \"trip_key\": -3278939721472571045, \"trip_id\": \"t_1524065_b_30719_tn_0\", \"shape_id\": \"p_1277409\", \"route_id\": \"14212\", \"service_hours\": 0.83, \"trip_first_departure_ts\": 28800, \"trip_last_arrival_ts\": 31800, \"departure_hour\": 8, \"time_of_day\": \"AM Peak\", \"p25\": 0.83, \"p50\": 0.83, \"p75\": 0.8724999999999999, \"p50_trip\": 1, \"fastest_trip\": 0, \"car_duration_hours\": 0.73, \"competitive_route\": 1, \"bus_multiplier\": 1.14, \"bus_difference\": 6.0, \"num_trips\": 12, \"num_competitive\": 11, \"pct_trips_competitive\": 0.917, \"bus_difference_spread\": 40.2, \"route_group\": \"medium\", \"max_trip_hrs\": 1.5, \"max_trip_route_group\": 1.5, \"name\": \"Nevada County\", \"caltrans_district\": \"03 - Marysville\", \"drmt_organization_name\": null, \"cutoff2\": 30, \"cutoff\": 0}, {\"calitp_itp_id\": 221, \"trip_key\": -1187960695264947358, \"trip_id\": \"t_1521592_b_30719_tn_0\", \"shape_id\": \"p_1277409\", \"route_id\": \"14212\", \"service_hours\": 0.83, \"trip_first_departure_ts\": 61200, \"trip_last_arrival_ts\": 64200, \"departure_hour\": 17, \"time_of_day\": \"PM Peak\", \"p25\": 0.83, \"p50\": 0.83, \"p75\": 0.8724999999999999, \"p50_trip\": 1, \"fastest_trip\": 1, \"car_duration_hours\": 0.73, \"competitive_route\": 1, \"bus_multiplier\": 1.14, \"bus_difference\": 6.0, \"num_trips\": 12, \"num_competitive\": 11, \"pct_trips_competitive\": 0.917, \"bus_difference_spread\": 40.2, \"route_group\": \"medium\", \"max_trip_hrs\": 1.5, \"max_trip_route_group\": 1.5, \"name\": \"Nevada County\", \"caltrans_district\": \"03 - Marysville\", \"drmt_organization_name\": null, \"cutoff2\": 30, \"cutoff\": 0}, {\"calitp_itp_id\": 221, \"trip_key\": -9025968667369552570, \"trip_id\": \"t_1529101_b_30719_tn_0\", \"shape_id\": \"p_1277411\", \"route_id\": \"14212\", \"service_hours\": 0.83, \"trip_first_departure_ts\": 25200, \"trip_last_arrival_ts\": 28200, \"departure_hour\": 7, \"time_of_day\": \"AM Peak\", \"p25\": 0.83, \"p50\": 0.83, \"p75\": 0.8724999999999999, \"p50_trip\": 1, \"fastest_trip\": 0, \"car_duration_hours\": 0.73, \"competitive_route\": 1, \"bus_multiplier\": 1.14, \"bus_difference\": 6.0, \"num_trips\": 12, \"num_competitive\": 11, \"pct_trips_competitive\": 0.917, \"bus_difference_spread\": 40.2, \"route_group\": \"medium\", \"max_trip_hrs\": 1.5, \"max_trip_route_group\": 1.5, \"name\": \"Nevada County\", \"caltrans_district\": \"03 - Marysville\", \"drmt_organization_name\": null, \"cutoff2\": 30, \"cutoff\": 0}, {\"calitp_itp_id\": 221, \"trip_key\": 3033339261088800008, \"trip_id\": \"t_1524067_b_30719_tn_2\", \"shape_id\": \"p_1277411\", \"route_id\": \"14212\", \"service_hours\": 0.83, \"trip_first_departure_ts\": 57600, \"trip_last_arrival_ts\": 60600, \"departure_hour\": 16, \"time_of_day\": \"Midday\", \"p25\": 0.83, \"p50\": 0.83, \"p75\": 0.8724999999999999, \"p50_trip\": 1, \"fastest_trip\": 0, \"car_duration_hours\": 0.73, \"competitive_route\": 1, \"bus_multiplier\": 1.14, \"bus_difference\": 6.0, \"num_trips\": 12, \"num_competitive\": 11, \"pct_trips_competitive\": 0.917, \"bus_difference_spread\": 40.2, \"route_group\": \"medium\", \"max_trip_hrs\": 1.5, \"max_trip_route_group\": 1.5, \"name\": \"Nevada County\", \"caltrans_district\": \"03 - Marysville\", \"drmt_organization_name\": null, \"cutoff2\": 30, \"cutoff\": 0}, {\"calitp_itp_id\": 221, \"trip_key\": 7518578318818496576, \"trip_id\": \"t_1524066_b_30719_tn_2\", \"shape_id\": \"p_1277409\", \"route_id\": \"14212\", \"service_hours\": 0.83, \"trip_first_departure_ts\": 54000, \"trip_last_arrival_ts\": 57000, \"departure_hour\": 15, \"time_of_day\": \"Midday\", \"p25\": 0.83, \"p50\": 0.83, \"p75\": 0.8724999999999999, \"p50_trip\": 1, \"fastest_trip\": 0, \"car_duration_hours\": 0.73, \"competitive_route\": 1, \"bus_multiplier\": 1.14, \"bus_difference\": 6.0, \"num_trips\": 12, \"num_competitive\": 11, \"pct_trips_competitive\": 0.917, \"bus_difference_spread\": 40.2, \"route_group\": \"medium\", \"max_trip_hrs\": 1.5, \"max_trip_route_group\": 1.5, \"name\": \"Nevada County\", \"caltrans_district\": \"03 - Marysville\", \"drmt_organization_name\": null, \"cutoff2\": 30, \"cutoff\": 0}, {\"calitp_itp_id\": 221, \"trip_key\": -5195615344486242979, \"trip_id\": \"t_1524067_b_30719_tn_1\", \"shape_id\": \"p_1277411\", \"route_id\": \"14212\", \"service_hours\": 0.83, \"trip_first_departure_ts\": 50400, \"trip_last_arrival_ts\": 53400, \"departure_hour\": 14, \"time_of_day\": \"Midday\", \"p25\": 0.83, \"p50\": 0.83, \"p75\": 0.8724999999999999, \"p50_trip\": 1, \"fastest_trip\": 0, \"car_duration_hours\": 0.73, \"competitive_route\": 1, \"bus_multiplier\": 1.14, \"bus_difference\": 6.0, \"num_trips\": 12, \"num_competitive\": 11, \"pct_trips_competitive\": 0.917, \"bus_difference_spread\": 40.2, \"route_group\": \"medium\", \"max_trip_hrs\": 1.5, \"max_trip_route_group\": 1.5, \"name\": \"Nevada County\", \"caltrans_district\": \"03 - Marysville\", \"drmt_organization_name\": null, \"cutoff2\": 30, \"cutoff\": 0}, {\"calitp_itp_id\": 221, \"trip_key\": 6848590773781082472, \"trip_id\": \"t_1524066_b_30719_tn_1\", \"shape_id\": \"p_1277409\", \"route_id\": \"14212\", \"service_hours\": 0.83, \"trip_first_departure_ts\": 46800, \"trip_last_arrival_ts\": 49800, \"departure_hour\": 13, \"time_of_day\": \"Midday\", \"p25\": 0.83, \"p50\": 0.83, \"p75\": 0.8724999999999999, \"p50_trip\": 1, \"fastest_trip\": 0, \"car_duration_hours\": 0.73, \"competitive_route\": 1, \"bus_multiplier\": 1.14, \"bus_difference\": 6.0, \"num_trips\": 12, \"num_competitive\": 11, \"pct_trips_competitive\": 0.917, \"bus_difference_spread\": 40.2, \"route_group\": \"medium\", \"max_trip_hrs\": 1.5, \"max_trip_route_group\": 1.5, \"name\": \"Nevada County\", \"caltrans_district\": \"03 - Marysville\", \"drmt_organization_name\": null, \"cutoff2\": 30, \"cutoff\": 0}, {\"calitp_itp_id\": 221, \"trip_key\": -9105938599134225848, \"trip_id\": \"t_1521596_b_30719_tn_0\", \"shape_id\": \"p_1277411\", \"route_id\": \"14212\", \"service_hours\": 0.83, \"trip_first_departure_ts\": 39600, \"trip_last_arrival_ts\": 42600, \"departure_hour\": 11, \"time_of_day\": \"Midday\", \"p25\": 0.83, \"p50\": 0.83, \"p75\": 0.8724999999999999, \"p50_trip\": 1, \"fastest_trip\": 0, \"car_duration_hours\": 0.73, \"competitive_route\": 1, \"bus_multiplier\": 1.14, \"bus_difference\": 6.0, \"num_trips\": 12, \"num_competitive\": 11, \"pct_trips_competitive\": 0.917, \"bus_difference_spread\": 40.2, \"route_group\": \"medium\", \"max_trip_hrs\": 1.5, \"max_trip_route_group\": 1.5, \"name\": \"Nevada County\", \"caltrans_district\": \"03 - Marysville\", \"drmt_organization_name\": null, \"cutoff2\": 30, \"cutoff\": 0}, {\"calitp_itp_id\": 221, \"trip_key\": -5429741548192402884, \"trip_id\": \"t_1521593_b_30719_tn_0\", \"shape_id\": \"p_1277410\", \"route_id\": \"14212\", \"service_hours\": 0.83, \"trip_first_departure_ts\": 32400, \"trip_last_arrival_ts\": 35400, \"departure_hour\": 9, \"time_of_day\": \"AM Peak\", \"p25\": 0.83, \"p50\": 0.83, \"p75\": 0.8724999999999999, \"p50_trip\": 1, \"fastest_trip\": 0, \"car_duration_hours\": 0.73, \"competitive_route\": 1, \"bus_multiplier\": 1.14, \"bus_difference\": 6.0, \"num_trips\": 12, \"num_competitive\": 11, \"pct_trips_competitive\": 0.917, \"bus_difference_spread\": 40.2, \"route_group\": \"medium\", \"max_trip_hrs\": 1.5, \"max_trip_route_group\": 1.5, \"name\": \"Nevada County\", \"caltrans_district\": \"03 - Marysville\", \"drmt_organization_name\": null, \"cutoff2\": 30, \"cutoff\": 0}, {\"calitp_itp_id\": 221, \"trip_key\": 7173812361890038660, \"trip_id\": \"t_1521591_b_30719_tn_0\", \"shape_id\": \"p_1277408\", \"route_id\": \"14212\", \"service_hours\": 1.0, \"trip_first_departure_ts\": 21000, \"trip_last_arrival_ts\": 24600, \"departure_hour\": 5, \"time_of_day\": \"Owl Service\", \"p25\": 0.83, \"p50\": 0.83, \"p75\": 0.8724999999999999, \"p50_trip\": 0, \"fastest_trip\": 0, \"car_duration_hours\": 0.73, \"competitive_route\": 1, \"bus_multiplier\": 1.37, \"bus_difference\": 16.2, \"num_trips\": 12, \"num_competitive\": 11, \"pct_trips_competitive\": 0.917, \"bus_difference_spread\": 40.2, \"route_group\": \"medium\", \"max_trip_hrs\": 1.5, \"max_trip_route_group\": 1.5, \"name\": \"Nevada County\", \"caltrans_district\": \"03 - Marysville\", \"drmt_organization_name\": null, \"cutoff2\": 30, \"cutoff\": 0}, {\"calitp_itp_id\": 221, \"trip_key\": 287052313638697039, \"trip_id\": \"t_1529102_b_30719_tn_0\", \"shape_id\": \"p_1277460\", \"route_id\": \"14212\", \"service_hours\": 1.0, \"trip_first_departure_ts\": 32400, \"trip_last_arrival_ts\": 36000, \"departure_hour\": 9, \"time_of_day\": \"AM Peak\", \"p25\": 0.83, \"p50\": 0.83, \"p75\": 0.8724999999999999, \"p50_trip\": 0, \"fastest_trip\": 0, \"car_duration_hours\": 0.73, \"competitive_route\": 1, \"bus_multiplier\": 1.37, \"bus_difference\": 16.2, \"num_trips\": 12, \"num_competitive\": 11, \"pct_trips_competitive\": 0.917, \"bus_difference_spread\": 40.2, \"route_group\": \"medium\", \"max_trip_hrs\": 1.5, \"max_trip_route_group\": 1.5, \"name\": \"Nevada County\", \"caltrans_district\": \"03 - Marysville\", \"drmt_organization_name\": null, \"cutoff2\": 30, \"cutoff\": 0}, {\"calitp_itp_id\": 221, \"trip_key\": 1459604591576872902, \"trip_id\": \"t_1521595_b_30719_tn_0\", \"shape_id\": \"p_1277460\", \"route_id\": \"14212\", \"service_hours\": 1.5, \"trip_first_departure_ts\": 64800, \"trip_last_arrival_ts\": 70200, \"departure_hour\": 18, \"time_of_day\": \"PM Peak\", \"p25\": 0.83, \"p50\": 0.83, \"p75\": 0.8724999999999999, \"p50_trip\": 0, \"fastest_trip\": 0, \"car_duration_hours\": 0.73, \"competitive_route\": 1, \"bus_multiplier\": 2.05, \"bus_difference\": 46.2, \"num_trips\": 12, \"num_competitive\": 11, \"pct_trips_competitive\": 0.917, \"bus_difference_spread\": 40.2, \"route_group\": \"medium\", \"max_trip_hrs\": 1.5, \"max_trip_route_group\": 1.5, \"name\": \"Nevada County\", \"caltrans_district\": \"03 - Marysville\", \"drmt_organization_name\": null, \"cutoff2\": 30, \"cutoff\": 0}]}}, {\"mode\": \"vega-lite\"});\n",
       "</script>"
      ],
      "text/plain": [
       "alt.FacetChart(...)"
      ]
     },
     "metadata": {},
     "output_type": "display_data"
    }
   ],
   "source": [
    "route_group = \"medium\"\n",
    "try:\n",
    "    display_charts_for_route_group(df, route_group)\n",
    "except:\n",
    "    print(\"No routes meet this criteria.\")"
   ]
  },
  {
   "cell_type": "markdown",
   "id": "124b76d0-886c-4d03-92ac-f1bda3cda182",
   "metadata": {
    "papermill": {
     "duration": 0.020223,
     "end_time": "2022-05-09T16:34:09.625556",
     "exception": false,
     "start_time": "2022-05-09T16:34:09.605333",
     "status": "completed"
    },
    "tags": []
   },
   "source": [
    "### Long Routes (> 1.5 hrs)"
   ]
  },
  {
   "cell_type": "code",
   "execution_count": 15,
   "id": "ddc81b19-4c45-4c81-8b7a-5e0f394aa7a3",
   "metadata": {
    "execution": {
     "iopub.execute_input": "2022-05-09T16:34:09.672085Z",
     "iopub.status.busy": "2022-05-09T16:34:09.671082Z",
     "iopub.status.idle": "2022-05-09T16:34:09.686206Z",
     "shell.execute_reply": "2022-05-09T16:34:09.685044Z"
    },
    "jupyter": {
     "source_hidden": true
    },
    "papermill": {
     "duration": 0.042944,
     "end_time": "2022-05-09T16:34:09.689168",
     "exception": false,
     "start_time": "2022-05-09T16:34:09.646224",
     "status": "completed"
    },
    "tags": [
     "remove_input"
    ]
   },
   "outputs": [
    {
     "name": "stdout",
     "output_type": "stream",
     "text": [
      "No routes meet this criteria.\n"
     ]
    }
   ],
   "source": [
    "route_group = \"long\"\n",
    "try:\n",
    "    display_charts_for_route_group(df, route_group)\n",
    "except:\n",
    "    print(\"No routes meet this criteria.\")"
   ]
  },
  {
   "cell_type": "markdown",
   "id": "ace75b5f-0442-4fbe-aebd-6c3a13ae13a7",
   "metadata": {
    "papermill": {
     "duration": 0.01983,
     "end_time": "2022-05-09T16:34:09.738431",
     "exception": false,
     "start_time": "2022-05-09T16:34:09.718601",
     "status": "completed"
    },
    "tags": []
   },
   "source": [
    "### GTFS Real-Time Speedmaps"
   ]
  },
  {
   "cell_type": "code",
   "execution_count": 16,
   "id": "3f06fdc4-d5a8-41f5-9b72-ed7e8a2dd2fc",
   "metadata": {
    "execution": {
     "iopub.execute_input": "2022-05-09T16:34:09.782356Z",
     "iopub.status.busy": "2022-05-09T16:34:09.781996Z",
     "iopub.status.idle": "2022-05-09T16:34:09.848471Z",
     "shell.execute_reply": "2022-05-09T16:34:09.847092Z"
    },
    "jupyter": {
     "source_hidden": true
    },
    "papermill": {
     "duration": 0.092286,
     "end_time": "2022-05-09T16:34:09.851579",
     "exception": false,
     "start_time": "2022-05-09T16:34:09.759293",
     "status": "completed"
    },
    "tags": [
     "remove_input"
    ]
   },
   "outputs": [
    {
     "data": {
      "text/html": [
       "<a href=RT_URL>GTFS RT speedmaps here.</a>"
      ],
      "text/plain": [
       "<IPython.core.display.HTML object>"
      ]
     },
     "metadata": {},
     "output_type": "display_data"
    }
   ],
   "source": [
    "PORTFOLIO_SITE_YAML = \"../portfolio/analyses.yml\"\n",
    "\n",
    "# Grab list of ITP IDs with GTFS RT speedmaps\n",
    "rt_itp_id = deploy_portfolio_yaml.check_if_rt_data_available(PORTFOLIO_SITE_YAML)\n",
    "\n",
    "# Construct the URL \n",
    "RT_URL = (\"https://analysis.calitp.org/rt/\"\n",
    "          f\"district_{district_number}-{district_name}/\"\n",
    "          f\"speedmaps__itp_id_{itp_id}.html\"\n",
    "         ) \n",
    "\n",
    "if itp_id in rt_itp_id:\n",
    "    display(HTML('<a href=RT_URL>GTFS RT speedmaps here.</a>'))\n",
    "else:\n",
    "    display(HTML(\"No GTFS RT data available.\"))"
   ]
  },
  {
   "cell_type": "code",
   "execution_count": null,
   "id": "4664fe87-4e5e-4414-9602-a5c9c2a14072",
   "metadata": {
    "jupyter": {
     "source_hidden": true
    },
    "papermill": {
     "duration": 0.023456,
     "end_time": "2022-05-09T16:34:09.896047",
     "exception": false,
     "start_time": "2022-05-09T16:34:09.872591",
     "status": "completed"
    },
    "tags": [
     "remove_input"
    ]
   },
   "outputs": [],
   "source": []
  }
 ],
 "metadata": {
  "kernelspec": {
   "display_name": "Python 3 (ipykernel)",
   "language": "python",
   "name": "python3"
  },
  "language_info": {
   "codemirror_mode": {
    "name": "ipython",
    "version": 3
   },
   "file_extension": ".py",
   "mimetype": "text/x-python",
   "name": "python",
   "nbconvert_exporter": "python",
   "pygments_lexer": "ipython3",
   "version": "3.9.12"
  },
  "papermill": {
   "default_parameters": {},
   "duration": 28.710787,
   "end_time": "2022-05-09T16:34:11.754867",
   "environment_variables": {},
   "exception": null,
   "input_path": "bus_service_increase/competitive-parallel-routes.ipynb",
   "output_path": "portfolio/parallel_corridors/district_03-marysville/competitive-parallel-routes__itp_id_221.ipynb",
   "parameters": {
    "district": "03 - Marysville",
    "itp_id": 221
   },
   "start_time": "2022-05-09T16:33:43.044080",
   "version": "2.3.4"
  }
 },
 "nbformat": 4,
 "nbformat_minor": 5
}