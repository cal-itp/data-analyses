{
 "cells": [
  {
   "cell_type": "code",
   "execution_count": 1,
   "id": "95d00857-6a20-4529-a519-2cc7182928a9",
   "metadata": {
    "execution": {
     "iopub.execute_input": "2022-05-07T16:57:46.320654Z",
     "iopub.status.busy": "2022-05-07T16:57:46.320290Z",
     "iopub.status.idle": "2022-05-07T16:57:54.570112Z",
     "shell.execute_reply": "2022-05-07T16:57:54.569097Z"
    },
    "jupyter": {
     "source_hidden": true
    },
    "papermill": {
     "duration": 8.264074,
     "end_time": "2022-05-07T16:57:54.572539",
     "exception": false,
     "start_time": "2022-05-07T16:57:46.308465",
     "status": "completed"
    },
    "tags": [
     "remove_input"
    ]
   },
   "outputs": [],
   "source": [
    "%%capture\n",
    "import warnings\n",
    "warnings.filterwarnings('ignore')\n",
    "\n",
    "import altair as alt\n",
    "import calitp.magics\n",
    "import geopandas as gpd\n",
    "import intake\n",
    "import pandas as pd\n",
    "\n",
    "from IPython.display import display, Markdown, HTML\n",
    "\n",
    "import parallel_corridors_utils\n",
    "from shared_utils import styleguide\n",
    "\n",
    "catalog = intake.open_catalog(\"./*.yml\")\n",
    "alt.renderers.enable(\"html\")"
   ]
  },
  {
   "cell_type": "code",
   "execution_count": 2,
   "id": "8af2a0c1-f3da-408d-9bea-11d9fbf8695d",
   "metadata": {
    "execution": {
     "iopub.execute_input": "2022-05-07T16:57:54.595537Z",
     "iopub.status.busy": "2022-05-07T16:57:54.595243Z",
     "iopub.status.idle": "2022-05-07T16:57:54.599445Z",
     "shell.execute_reply": "2022-05-07T16:57:54.598531Z"
    },
    "jupyter": {
     "source_hidden": true
    },
    "papermill": {
     "duration": 0.018113,
     "end_time": "2022-05-07T16:57:54.601892",
     "exception": false,
     "start_time": "2022-05-07T16:57:54.583779",
     "status": "completed"
    },
    "tags": [
     "parameters",
     "remove_input"
    ]
   },
   "outputs": [],
   "source": [
    "# parameters cell\n",
    "itp_id = 182"
   ]
  },
  {
   "cell_type": "code",
   "execution_count": 3,
   "id": "4d53330f",
   "metadata": {
    "execution": {
     "iopub.execute_input": "2022-05-07T16:57:54.627170Z",
     "iopub.status.busy": "2022-05-07T16:57:54.626620Z",
     "iopub.status.idle": "2022-05-07T16:57:54.630981Z",
     "shell.execute_reply": "2022-05-07T16:57:54.630260Z"
    },
    "jupyter": {
     "source_hidden": true
    },
    "papermill": {
     "duration": 0.018303,
     "end_time": "2022-05-07T16:57:54.632669",
     "exception": false,
     "start_time": "2022-05-07T16:57:54.614366",
     "status": "completed"
    },
    "tags": [
     "injected-parameters",
     "remove_input"
    ]
   },
   "outputs": [],
   "source": [
    "# Parameters\n",
    "district = \"03 - Marysville\"\n",
    "itp_id = 331\n"
   ]
  },
  {
   "cell_type": "code",
   "execution_count": 4,
   "id": "9582aaf4-79ff-412a-b248-8d8d693ebd4f",
   "metadata": {
    "execution": {
     "iopub.execute_input": "2022-05-07T16:57:54.656542Z",
     "iopub.status.busy": "2022-05-07T16:57:54.655628Z",
     "iopub.status.idle": "2022-05-07T16:57:55.862780Z",
     "shell.execute_reply": "2022-05-07T16:57:55.862203Z"
    },
    "jupyter": {
     "source_hidden": true
    },
    "papermill": {
     "duration": 1.221103,
     "end_time": "2022-05-07T16:57:55.864902",
     "exception": false,
     "start_time": "2022-05-07T16:57:54.643799",
     "status": "completed"
    },
    "tags": [
     "remove_input"
    ]
   },
   "outputs": [],
   "source": [
    "df = catalog.competitive_route_variability.read()\n",
    "\n",
    "df = (df[(df.calitp_itp_id == itp_id) & \n",
    "         (df.route_group.notna())]\n",
    "      .reset_index(drop=True)\n",
    "     )\n",
    "\n",
    "\n",
    "if itp_id == 182:\n",
    "    df = df.assign(\n",
    "        route_id = df.route_id.str.replace('-13153', '').astype(int)\n",
    "    )"
   ]
  },
  {
   "cell_type": "code",
   "execution_count": 5,
   "id": "33ac4b06-f647-4dce-a625-8f2c1b37cc60",
   "metadata": {
    "execution": {
     "iopub.execute_input": "2022-05-07T16:57:55.887745Z",
     "iopub.status.busy": "2022-05-07T16:57:55.886990Z",
     "iopub.status.idle": "2022-05-07T16:57:55.893517Z",
     "shell.execute_reply": "2022-05-07T16:57:55.892725Z"
    },
    "jupyter": {
     "source_hidden": true
    },
    "papermill": {
     "duration": 0.019411,
     "end_time": "2022-05-07T16:57:55.895261",
     "exception": false,
     "start_time": "2022-05-07T16:57:55.875850",
     "status": "completed"
    },
    "tags": [
     "remove_input"
    ]
   },
   "outputs": [],
   "source": [
    "%%capture_parameters\n",
    "operator_name = df.name.iloc[0]\n",
    "\n",
    "itp_id, operator_name"
   ]
  },
  {
   "cell_type": "markdown",
   "id": "65bc6f5c-8348-42ee-b2dd-52057c406852",
   "metadata": {
    "papermill": {
     "duration": 0.010821,
     "end_time": "2022-05-07T16:57:55.919539",
     "exception": false,
     "start_time": "2022-05-07T16:57:55.908718",
     "status": "completed"
    },
    "tags": []
   },
   "source": [
    "# Tahoe Transportation District (ITP ID: 331)"
   ]
  },
  {
   "cell_type": "code",
   "execution_count": 6,
   "id": "a689c1ab-2c6c-4831-8d64-897f5986f571",
   "metadata": {
    "execution": {
     "iopub.execute_input": "2022-05-07T16:57:55.941590Z",
     "iopub.status.busy": "2022-05-07T16:57:55.940725Z",
     "iopub.status.idle": "2022-05-07T16:57:55.946788Z",
     "shell.execute_reply": "2022-05-07T16:57:55.946185Z"
    },
    "jupyter": {
     "source_hidden": true
    },
    "papermill": {
     "duration": 0.01879,
     "end_time": "2022-05-07T16:57:55.948396",
     "exception": false,
     "start_time": "2022-05-07T16:57:55.929606",
     "status": "completed"
    },
    "tags": [
     "remove_input"
    ]
   },
   "outputs": [
    {
     "data": {
      "text/html": [
       "<h1>Competitive & Parallel Routes</h1>"
      ],
      "text/plain": [
       "<IPython.core.display.HTML object>"
      ]
     },
     "metadata": {},
     "output_type": "display_data"
    }
   ],
   "source": [
    "display(HTML(\"<h1>Competitive & Parallel Routes</h1>\")) "
   ]
  },
  {
   "cell_type": "code",
   "execution_count": 7,
   "id": "2cb4d8d5-4760-40e4-85b1-cb833d8bb648",
   "metadata": {
    "execution": {
     "iopub.execute_input": "2022-05-07T16:57:55.971318Z",
     "iopub.status.busy": "2022-05-07T16:57:55.970520Z",
     "iopub.status.idle": "2022-05-07T16:58:05.887766Z",
     "shell.execute_reply": "2022-05-07T16:58:05.887085Z"
    },
    "jupyter": {
     "source_hidden": true
    },
    "papermill": {
     "duration": 9.930838,
     "end_time": "2022-05-07T16:58:05.889927",
     "exception": false,
     "start_time": "2022-05-07T16:57:55.959089",
     "status": "completed"
    },
    "tags": [
     "remove_input"
    ]
   },
   "outputs": [],
   "source": [
    "# Grab parameters for narrative text - clean up formatting here \n",
    "district = df.caltrans_district.iloc[0]\n",
    "formatted_date = pd.to_datetime(parallel_corridors_utils.SELECTED_DATE).strftime('%m-%d-%Y')\n",
    "\n",
    "PCT_COMPETITIVE_THRESHOLD = 0.75\n",
    "\n",
    "stats = parallel_corridors_utils.operator_parallel_competitive_stats(\n",
    "    itp_id, PCT_COMPETITIVE_THRESHOLD)\n",
    "\n",
    "pct_parallel = round(stats['parallel_routes'] / stats['num_routes'] * 100,1 )\n",
    "pct_competitive =  round(stats['competitive_routes'] / stats['num_routes'] * 100,1 )"
   ]
  },
  {
   "cell_type": "markdown",
   "id": "ab667928-5274-4490-82d9-4c39293209a4",
   "metadata": {
    "papermill": {
     "duration": 0.011684,
     "end_time": "2022-05-07T16:58:05.912828",
     "exception": false,
     "start_time": "2022-05-07T16:58:05.901144",
     "status": "completed"
    },
    "tags": []
   },
   "source": [
    "## Quick Stats"
   ]
  },
  {
   "cell_type": "code",
   "execution_count": 8,
   "id": "0416509d-dc62-4165-b62e-64f8b26e8b8e",
   "metadata": {
    "execution": {
     "iopub.execute_input": "2022-05-07T16:58:05.936230Z",
     "iopub.status.busy": "2022-05-07T16:58:05.935352Z",
     "iopub.status.idle": "2022-05-07T16:58:05.941636Z",
     "shell.execute_reply": "2022-05-07T16:58:05.941077Z"
    },
    "jupyter": {
     "source_hidden": true
    },
    "papermill": {
     "duration": 0.019432,
     "end_time": "2022-05-07T16:58:05.943215",
     "exception": false,
     "start_time": "2022-05-07T16:58:05.923783",
     "status": "completed"
    },
    "tags": [
     "remove_input"
    ]
   },
   "outputs": [
    {
     "data": {
      "text/markdown": [
       "**Bus routes in service**: 9 <br>**Parallel routes** to State Highway Network (SHN): 8 routes (88.9%)<br>**Competitive routes** against car travel: 4 routes (44.4%)"
      ],
      "text/plain": [
       "<IPython.core.display.Markdown object>"
      ]
     },
     "metadata": {},
     "output_type": "display_data"
    }
   ],
   "source": [
    "display(\n",
    "    Markdown(\n",
    "        f\"**Bus routes in service**: {stats['num_routes']} \"\n",
    "        \"<br>**Parallel routes** to State Highway Network (SHN): \"\n",
    "        f\"{stats['parallel_routes']} routes ({pct_parallel}%)\"\n",
    "        f\"<br>**Competitive routes** against car travel: {stats['competitive_routes']} routes ({pct_competitive}%)\"\n",
    "    )\n",
    ")"
   ]
  },
  {
   "cell_type": "code",
   "execution_count": 9,
   "id": "f9d6ab58-f0ee-460c-b6de-657490e1f386",
   "metadata": {
    "execution": {
     "iopub.execute_input": "2022-05-07T16:58:05.967963Z",
     "iopub.status.busy": "2022-05-07T16:58:05.967222Z",
     "iopub.status.idle": "2022-05-07T16:58:05.976286Z",
     "shell.execute_reply": "2022-05-07T16:58:05.975392Z"
    },
    "jupyter": {
     "source_hidden": true
    },
    "papermill": {
     "duration": 0.024152,
     "end_time": "2022-05-07T16:58:05.978146",
     "exception": false,
     "start_time": "2022-05-07T16:58:05.953994",
     "status": "completed"
    },
    "tags": [
     "remove_input"
    ]
   },
   "outputs": [],
   "source": [
    "def set_yaxis_range(df, y_col):\n",
    "    Y_MIN = df[y_col].min()\n",
    "    Y_MAX = df[y_col].max()\n",
    "    \n",
    "    return Y_MIN, Y_MAX\n",
    "\n",
    "# Rather than set it according to the operator, which can vary,\n",
    "# just use set thresholds for each group\n",
    "diff_cutoffs = {\n",
    "    \"short\": 20,\n",
    "    \"medium\": 30,\n",
    "    \"long\": 40,\n",
    "}\n",
    "\n",
    "PCT_TRIPS_BELOW_CUTOFF = 0.25\n",
    "\n",
    "def top15_routes(df, route_group):\n",
    "    df2 = (df[df.route_group==route_group])\n",
    "    # Set a cut-off to enable sorting, where most of the trips are \n",
    "    # below a certain time difference cut-off, \n",
    "    # grab top 15 routes where majority of trips are below that cut-off \n",
    "\n",
    "    route_cols = [\"calitp_itp_id\", \"route_id\"]\n",
    "\n",
    "    df2 = df2.assign(\n",
    "        below_cutoff = df2.apply(lambda x: 1 if x.bus_difference <= diff_cutoffs[route_group] \n",
    "                                 else 0, axis=1),\n",
    "        num_trips = df2.groupby(route_cols)[\"trip_id\"].transform(\"count\")\n",
    "    )\n",
    "\n",
    "    df2[\"below_cutoff\"] = df2.groupby(route_cols)[\"below_cutoff\"].transform(\"sum\")\n",
    "    df2[\"pct_below_cutoff\"] = df2.below_cutoff.divide(df2.num_trips)\n",
    "\n",
    "    # At least half the trips are below that cut-off\n",
    "    # but show 15 max, otherwise, show less, since these won't be as interesting to operators\n",
    "    df3 = (df2[df2.pct_below_cutoff >= PCT_TRIPS_BELOW_CUTOFF]\n",
    "           .sort_values([\"calitp_itp_id\", \"below_cutoff\", \n",
    "                         \"pct_below_cutoff\", \"route_id\"],\n",
    "                        ascending = [True, False, False, True]\n",
    "                       )\n",
    "           .drop_duplicates(subset=[\"calitp_itp_id\", \"route_id\"])\n",
    "          ).head(15)\n",
    "    \n",
    "    return list(df3.route_id)"
   ]
  },
  {
   "cell_type": "code",
   "execution_count": 10,
   "id": "cf36d559-3349-4144-8086-8ac9ce937a5a",
   "metadata": {
    "execution": {
     "iopub.execute_input": "2022-05-07T16:58:06.002234Z",
     "iopub.status.busy": "2022-05-07T16:58:06.001355Z",
     "iopub.status.idle": "2022-05-07T16:58:06.012095Z",
     "shell.execute_reply": "2022-05-07T16:58:06.011557Z"
    },
    "jupyter": {
     "source_hidden": true
    },
    "papermill": {
     "duration": 0.024944,
     "end_time": "2022-05-07T16:58:06.013915",
     "exception": false,
     "start_time": "2022-05-07T16:58:05.988971",
     "status": "completed"
    },
    "tags": [
     "remove_input"
    ]
   },
   "outputs": [],
   "source": [
    "short_caption = (\n",
    "    f\"<br>These are routes that have at least {int(PCT_TRIPS_BELOW_CUTOFF*100)}% of their trips \"\n",
    "    f\"take no more than an additional {diff_cutoffs['short']} min compared to a car \"\n",
    "    \"(up to 15 routes) are shown.\"\n",
    ")\n",
    "\n",
    "med_caption = (\n",
    "    f\"<br>These are routes that have at least {int(PCT_TRIPS_BELOW_CUTOFF*100)}% of their trips \"\n",
    "    f\"take no more than an additional {diff_cutoffs['medium']} min compared to a car \"\n",
    "    \"(up to 15 routes) are shown.\"\n",
    ")\n",
    "\n",
    "long_caption = (\n",
    "    f\"<br>These are routes that have at least {int(PCT_TRIPS_BELOW_CUTOFF*100)}% of their trips \"\n",
    "    f\"take no more than an additional {diff_cutoffs['long']} min compared to a car \"\n",
    "    \"(up to 15 routes) are shown.\")\n",
    "\n",
    "\n",
    "CAPTIONS_DICT = {\n",
    "    \"short\": short_caption,\n",
    "    \"medium\": med_caption,\n",
    "    \"long\": long_caption,\n",
    "}"
   ]
  },
  {
   "cell_type": "code",
   "execution_count": 11,
   "id": "e4306d58-6944-47e9-afef-5d5b524c751f",
   "metadata": {
    "execution": {
     "iopub.execute_input": "2022-05-07T16:58:06.039125Z",
     "iopub.status.busy": "2022-05-07T16:58:06.038245Z",
     "iopub.status.idle": "2022-05-07T16:58:06.045091Z",
     "shell.execute_reply": "2022-05-07T16:58:06.044584Z"
    },
    "jupyter": {
     "source_hidden": true
    },
    "papermill": {
     "duration": 0.020849,
     "end_time": "2022-05-07T16:58:06.046710",
     "exception": false,
     "start_time": "2022-05-07T16:58:06.025861",
     "status": "completed"
    },
    "tags": [
     "remove_input"
    ]
   },
   "outputs": [],
   "source": [
    "def setup_charts(df, PCT_COMPETITIVE_THRESHOLD, route_group):\n",
    "    # Set up df for charting (cut-off at some threshold to show most competitive routes)\n",
    "    plot_me = (df[df.pct_trips_competitive > PCT_COMPETITIVE_THRESHOLD]\n",
    "           .drop(columns = \"geometry\")\n",
    "    )\n",
    "    \n",
    "    y_col1 = \"bus_multiplier\"\n",
    "    Y_MIN1, Y_MAX1 = set_yaxis_range(plot_me, y_col1)\n",
    "\n",
    "    y_col2 = \"bus_difference\"\n",
    "    Y_MIN2, Y_MAX2 = set_yaxis_range(plot_me, y_col2)\n",
    "     \n",
    "    subset_routes = top15_routes(plot_me, route_group)\n",
    "    \n",
    "    multiplier_chart = parallel_corridors_utils.make_stripplot(\n",
    "        plot_me[plot_me.route_id.isin(subset_routes)], \n",
    "        y_col1, Y_MIN = Y_MIN1, Y_MAX = Y_MAX1\n",
    "    )\n",
    "    \n",
    "    difference_chart = parallel_corridors_utils.make_stripplot(\n",
    "        plot_me[plot_me.route_id.isin(subset_routes)], \n",
    "        y_col2, Y_MIN = Y_MIN2, Y_MAX = Y_MAX2\n",
    "    )\n",
    "    \n",
    "    return subset_routes, multiplier_chart, difference_chart            "
   ]
  },
  {
   "cell_type": "markdown",
   "id": "525f9b38-072b-46d1-96a8-1aa4b038357c",
   "metadata": {
    "papermill": {
     "duration": 0.011056,
     "end_time": "2022-05-07T16:58:06.070817",
     "exception": false,
     "start_time": "2022-05-07T16:58:06.059761",
     "status": "completed"
    },
    "tags": []
   },
   "source": [
    "## Viable Competitive Routes\n",
    "### Short Routes (< 1 hr)"
   ]
  },
  {
   "cell_type": "code",
   "execution_count": 12,
   "id": "57f7084c-2cf7-45c6-ba08-1609e0bd6ca5",
   "metadata": {
    "execution": {
     "iopub.execute_input": "2022-05-07T16:58:06.095902Z",
     "iopub.status.busy": "2022-05-07T16:58:06.094970Z",
     "iopub.status.idle": "2022-05-07T16:58:06.364399Z",
     "shell.execute_reply": "2022-05-07T16:58:06.363570Z"
    },
    "jupyter": {
     "source_hidden": true
    },
    "papermill": {
     "duration": 0.284536,
     "end_time": "2022-05-07T16:58:06.366572",
     "exception": false,
     "start_time": "2022-05-07T16:58:06.082036",
     "status": "completed"
    },
    "tags": [
     "remove_input"
    ]
   },
   "outputs": [
    {
     "data": {
      "text/markdown": [
       "<br>These are routes that have at least 25% of their trips take no more than an additional 20 min compared to a car (up to 15 routes) are shown.Within each route group, routes are sorted in descending order by % competitive trips and # trips below the additional time cut-off."
      ],
      "text/plain": [
       "<IPython.core.display.Markdown object>"
      ]
     },
     "metadata": {},
     "output_type": "display_data"
    },
    {
     "data": {
      "text/html": [
       "\n",
       "<div id=\"altair-viz-ba8f72b4149a429db6a241d0a27b5d5a\"></div>\n",
       "<script type=\"text/javascript\">\n",
       "  var VEGA_DEBUG = (typeof VEGA_DEBUG == \"undefined\") ? {} : VEGA_DEBUG;\n",
       "  (function(spec, embedOpt){\n",
       "    let outputDiv = document.currentScript.previousElementSibling;\n",
       "    if (outputDiv.id !== \"altair-viz-ba8f72b4149a429db6a241d0a27b5d5a\") {\n",
       "      outputDiv = document.getElementById(\"altair-viz-ba8f72b4149a429db6a241d0a27b5d5a\");\n",
       "    }\n",
       "    const paths = {\n",
       "      \"vega\": \"https://cdn.jsdelivr.net/npm//vega@5?noext\",\n",
       "      \"vega-lib\": \"https://cdn.jsdelivr.net/npm//vega-lib?noext\",\n",
       "      \"vega-lite\": \"https://cdn.jsdelivr.net/npm//vega-lite@4.17.0?noext\",\n",
       "      \"vega-embed\": \"https://cdn.jsdelivr.net/npm//vega-embed@6?noext\",\n",
       "    };\n",
       "\n",
       "    function maybeLoadScript(lib, version) {\n",
       "      var key = `${lib.replace(\"-\", \"\")}_version`;\n",
       "      return (VEGA_DEBUG[key] == version) ?\n",
       "        Promise.resolve(paths[lib]) :\n",
       "        new Promise(function(resolve, reject) {\n",
       "          var s = document.createElement('script');\n",
       "          document.getElementsByTagName(\"head\")[0].appendChild(s);\n",
       "          s.async = true;\n",
       "          s.onload = () => {\n",
       "            VEGA_DEBUG[key] = version;\n",
       "            return resolve(paths[lib]);\n",
       "          };\n",
       "          s.onerror = () => reject(`Error loading script: ${paths[lib]}`);\n",
       "          s.src = paths[lib];\n",
       "        });\n",
       "    }\n",
       "\n",
       "    function showError(err) {\n",
       "      outputDiv.innerHTML = `<div class=\"error\" style=\"color:red;\">${err}</div>`;\n",
       "      throw err;\n",
       "    }\n",
       "\n",
       "    function displayChart(vegaEmbed) {\n",
       "      vegaEmbed(outputDiv, spec, embedOpt)\n",
       "        .catch(err => showError(`Javascript Error: ${err.message}<br>This usually means there's a typo in your chart specification. See the javascript console for the full traceback.`));\n",
       "    }\n",
       "\n",
       "    if(typeof define === \"function\" && define.amd) {\n",
       "      requirejs.config({paths});\n",
       "      require([\"vega-embed\"], displayChart, err => showError(`Error loading script: ${err.message}`));\n",
       "    } else {\n",
       "      maybeLoadScript(\"vega\", \"5\")\n",
       "        .then(() => maybeLoadScript(\"vega-lite\", \"4.17.0\"))\n",
       "        .then(() => maybeLoadScript(\"vega-embed\", \"6\"))\n",
       "        .catch(showError)\n",
       "        .then(() => displayChart(vegaEmbed));\n",
       "    }\n",
       "  })({\"config\": {\"view\": {\"continuousWidth\": 400, \"continuousHeight\": 300, \"stroke\": null}, \"facet\": {\"spacing\": 0}}, \"data\": {\"name\": \"data-70927f8dc5f76ed9a9954863e9ed3c22\"}, \"facet\": {\"column\": {\"field\": \"route_id\", \"sort\": [\"TLR\", \"Hwy89\", \"NSPM\", \"2595\"], \"title\": \"Route ID\", \"type\": \"nominal\"}}, \"spec\": {\"layer\": [{\"mark\": {\"type\": \"point\", \"opacity\": 0.65, \"size\": 12, \"strokeWidth\": 1.1}, \"encoding\": {\"color\": {\"field\": \"time_of_day\", \"scale\": {\"range\": [\"#136C97\", \"#E16B26\", \"#F6BF16\", \"#00896B\", \"#7790A3\", \"#5B559C\"]}, \"sort\": [\"AM Peak\", \"Midday\", \"PM Peak\", \"Owl Service\"], \"title\": \"Time of Day\", \"type\": \"nominal\"}, \"tooltip\": [{\"field\": \"route_id\", \"type\": \"nominal\"}, {\"field\": \"trip_id\", \"type\": \"nominal\"}, {\"field\": \"service_hours\", \"type\": \"quantitative\"}, {\"field\": \"car_duration_hours\", \"type\": \"quantitative\"}, {\"field\": \"bus_multiplier\", \"type\": \"quantitative\"}, {\"field\": \"bus_difference\", \"type\": \"quantitative\"}, {\"field\": \"num_trips\", \"type\": \"quantitative\"}, {\"field\": \"num_competitive\", \"type\": \"quantitative\"}, {\"field\": \"pct_trips_competitive\", \"type\": \"quantitative\"}, {\"field\": \"p25\", \"type\": \"quantitative\"}, {\"field\": \"p50\", \"type\": \"quantitative\"}, {\"field\": \"p75\", \"type\": \"quantitative\"}], \"x\": {\"axis\": {\"grid\": false, \"labels\": false, \"ticks\": true, \"values\": [0]}, \"field\": \"jitter\", \"scale\": {}, \"title\": null, \"type\": \"quantitative\"}, \"y\": {\"field\": \"bus_multiplier\", \"scale\": {\"domain\": [-0.25, 2.5]}, \"title\": \"Ratio of Bus to Car Travel Time\", \"type\": \"quantitative\"}}, \"selection\": {\"selector001\": {\"type\": \"interval\", \"bind\": \"scales\", \"encodings\": [\"x\", \"y\"]}}, \"transform\": [{\"calculate\": \"sqrt(-2*log(random()))*cos(2*PI*random())\", \"as\": \"jitter\"}], \"width\": 60}, {\"layer\": [{\"mark\": {\"type\": \"point\", \"opacity\": 0.6, \"size\": 20, \"strokeWidth\": 1.3}, \"encoding\": {\"color\": {\"value\": \"#323434\"}, \"y\": {\"field\": \"bus_multiplier\", \"type\": \"quantitative\"}}, \"transform\": [{\"filter\": \"(datum.p50_trip === 1)\"}]}, {\"mark\": {\"type\": \"rule\", \"strokeDash\": [2, 3]}, \"encoding\": {\"color\": {\"value\": \"#323434\"}, \"y\": {\"field\": \"cutoff\", \"type\": \"quantitative\"}}}, {\"mark\": {\"type\": \"text\", \"align\": \"center\", \"baseline\": \"middle\"}, \"encoding\": {\"color\": {\"value\": \"black\"}, \"text\": {\"field\": \"pct_trips_competitive\", \"format\": \".0%\", \"type\": \"quantitative\"}, \"tooltip\": [{\"field\": \"route_id\", \"type\": \"nominal\"}, {\"field\": \"trip_id\", \"type\": \"nominal\"}, {\"field\": \"service_hours\", \"type\": \"quantitative\"}, {\"field\": \"car_duration_hours\", \"type\": \"quantitative\"}, {\"field\": \"bus_multiplier\", \"type\": \"quantitative\"}, {\"field\": \"bus_difference\", \"type\": \"quantitative\"}, {\"field\": \"num_trips\", \"type\": \"quantitative\"}, {\"field\": \"num_competitive\", \"type\": \"quantitative\"}, {\"field\": \"pct_trips_competitive\", \"type\": \"quantitative\"}, {\"field\": \"p25\", \"type\": \"quantitative\"}, {\"field\": \"p50\", \"type\": \"quantitative\"}, {\"field\": \"p75\", \"type\": \"quantitative\"}], \"x\": {\"value\": 30}, \"y\": {\"value\": 15}}, \"transform\": [{\"calculate\": \"sqrt(-2*log(random()))*cos(2*PI*random())\", \"as\": \"jitter\"}, {\"filter\": \"(datum.fastest_trip === 1)\"}]}]}]}, \"resolve\": {\"scale\": {\"y\": \"shared\"}}, \"title\": \"Ratio of Bus to Car Travel Time\", \"$schema\": \"https://vega.github.io/schema/vega-lite/v4.17.0.json\", \"datasets\": {\"data-70927f8dc5f76ed9a9954863e9ed3c22\": [{\"calitp_itp_id\": 331, \"trip_key\": 8784649576202984942, \"trip_id\": \"t_914865_b_23399_tn_0\", \"shape_id\": \"p_180377\", \"route_id\": \"2595\", \"service_hours\": 1.0, \"trip_first_departure_ts\": 54900, \"trip_last_arrival_ts\": 58500, \"departure_hour\": 15, \"time_of_day\": \"Midday\", \"p25\": 1.0, \"p50\": 1.0, \"p75\": 1.0, \"p50_trip\": 1, \"fastest_trip\": 1, \"car_duration_hours\": 1.06, \"competitive_route\": 1, \"bus_multiplier\": 0.94, \"bus_difference\": -3.6, \"num_trips\": 6, \"num_competitive\": 6, \"pct_trips_competitive\": 1.0, \"bus_difference_spread\": 0.0, \"route_group\": \"short\", \"max_trip_hrs\": 1.0, \"max_trip_route_group\": 1.0, \"name\": \"Tahoe Transportation District\", \"caltrans_district\": \"03 - Marysville\", \"drmt_organization_name\": null, \"cutoff2\": 15.0, \"cutoff\": 2}, {\"calitp_itp_id\": 331, \"trip_key\": -1675236331378341992, \"trip_id\": \"t_914887_b_23399_tn_0\", \"shape_id\": \"p_898040\", \"route_id\": \"2595\", \"service_hours\": 1.0, \"trip_first_departure_ts\": 51300, \"trip_last_arrival_ts\": 54900, \"departure_hour\": 14, \"time_of_day\": \"Midday\", \"p25\": 1.0, \"p50\": 1.0, \"p75\": 1.0, \"p50_trip\": 1, \"fastest_trip\": 0, \"car_duration_hours\": 1.06, \"competitive_route\": 1, \"bus_multiplier\": 0.94, \"bus_difference\": -3.6, \"num_trips\": 6, \"num_competitive\": 6, \"pct_trips_competitive\": 1.0, \"bus_difference_spread\": 0.0, \"route_group\": \"short\", \"max_trip_hrs\": 1.0, \"max_trip_route_group\": 1.0, \"name\": \"Tahoe Transportation District\", \"caltrans_district\": \"03 - Marysville\", \"drmt_organization_name\": null, \"cutoff2\": 15.0, \"cutoff\": 2}, {\"calitp_itp_id\": 331, \"trip_key\": -3393943484857250833, \"trip_id\": \"t_914882_b_23399_tn_0\", \"shape_id\": \"p_180377\", \"route_id\": \"2595\", \"service_hours\": 1.0, \"trip_first_departure_ts\": 37800, \"trip_last_arrival_ts\": 41400, \"departure_hour\": 10, \"time_of_day\": \"Midday\", \"p25\": 1.0, \"p50\": 1.0, \"p75\": 1.0, \"p50_trip\": 1, \"fastest_trip\": 0, \"car_duration_hours\": 1.06, \"competitive_route\": 1, \"bus_multiplier\": 0.94, \"bus_difference\": -3.6, \"num_trips\": 6, \"num_competitive\": 6, \"pct_trips_competitive\": 1.0, \"bus_difference_spread\": 0.0, \"route_group\": \"short\", \"max_trip_hrs\": 1.0, \"max_trip_route_group\": 1.0, \"name\": \"Tahoe Transportation District\", \"caltrans_district\": \"03 - Marysville\", \"drmt_organization_name\": null, \"cutoff2\": 15.0, \"cutoff\": 2}, {\"calitp_itp_id\": 331, \"trip_key\": -5549073839751173756, \"trip_id\": \"t_914864_b_23399_tn_0\", \"shape_id\": \"p_180376\", \"route_id\": \"2595\", \"service_hours\": 1.0, \"trip_first_departure_ts\": 33300, \"trip_last_arrival_ts\": 36900, \"departure_hour\": 9, \"time_of_day\": \"AM Peak\", \"p25\": 1.0, \"p50\": 1.0, \"p75\": 1.0, \"p50_trip\": 1, \"fastest_trip\": 0, \"car_duration_hours\": 1.06, \"competitive_route\": 1, \"bus_multiplier\": 0.94, \"bus_difference\": -3.6, \"num_trips\": 6, \"num_competitive\": 6, \"pct_trips_competitive\": 1.0, \"bus_difference_spread\": 0.0, \"route_group\": \"short\", \"max_trip_hrs\": 1.0, \"max_trip_route_group\": 1.0, \"name\": \"Tahoe Transportation District\", \"caltrans_district\": \"03 - Marysville\", \"drmt_organization_name\": null, \"cutoff2\": 15.0, \"cutoff\": 2}, {\"calitp_itp_id\": 331, \"trip_key\": -6355227295794759449, \"trip_id\": \"t_914866_b_23399_tn_0\", \"shape_id\": \"p_180377\", \"route_id\": \"2595\", \"service_hours\": 1.0, \"trip_first_departure_ts\": 86400, \"trip_last_arrival_ts\": 90000, \"departure_hour\": 0, \"time_of_day\": \"Owl Service\", \"p25\": 1.0, \"p50\": 1.0, \"p75\": 1.0, \"p50_trip\": 1, \"fastest_trip\": 0, \"car_duration_hours\": 1.06, \"competitive_route\": 1, \"bus_multiplier\": 0.94, \"bus_difference\": -3.6, \"num_trips\": 6, \"num_competitive\": 6, \"pct_trips_competitive\": 1.0, \"bus_difference_spread\": 0.0, \"route_group\": \"short\", \"max_trip_hrs\": 1.0, \"max_trip_route_group\": 1.0, \"name\": \"Tahoe Transportation District\", \"caltrans_district\": \"03 - Marysville\", \"drmt_organization_name\": null, \"cutoff2\": 15.0, \"cutoff\": 2}, {\"calitp_itp_id\": 331, \"trip_key\": 3931985520374814100, \"trip_id\": \"t_914863_b_23399_tn_0\", \"shape_id\": \"p_180376\", \"route_id\": \"2595\", \"service_hours\": 1.0, \"trip_first_departure_ts\": 21600, \"trip_last_arrival_ts\": 25200, \"departure_hour\": 6, \"time_of_day\": \"Owl Service\", \"p25\": 1.0, \"p50\": 1.0, \"p75\": 1.0, \"p50_trip\": 1, \"fastest_trip\": 0, \"car_duration_hours\": 1.06, \"competitive_route\": 1, \"bus_multiplier\": 0.94, \"bus_difference\": -3.6, \"num_trips\": 6, \"num_competitive\": 6, \"pct_trips_competitive\": 1.0, \"bus_difference_spread\": 0.0, \"route_group\": \"short\", \"max_trip_hrs\": 1.0, \"max_trip_route_group\": 1.0, \"name\": \"Tahoe Transportation District\", \"caltrans_district\": \"03 - Marysville\", \"drmt_organization_name\": null, \"cutoff2\": 15.0, \"cutoff\": 2}, {\"calitp_itp_id\": 331, \"trip_key\": 688036126415307865, \"trip_id\": \"t_2004544_b_33429_tn_0\", \"shape_id\": \"p_375065\", \"route_id\": \"Hwy89\", \"service_hours\": 0.5, \"trip_first_departure_ts\": 21600, \"trip_last_arrival_ts\": 23400, \"departure_hour\": 6, \"time_of_day\": \"Owl Service\", \"p25\": 0.67, \"p50\": 0.67, \"p75\": 0.75, \"p50_trip\": 0, \"fastest_trip\": 1, \"car_duration_hours\": 0.56, \"competitive_route\": 1, \"bus_multiplier\": 0.89, \"bus_difference\": -3.6, \"num_trips\": 23, \"num_competitive\": 23, \"pct_trips_competitive\": 1.0, \"bus_difference_spread\": 28.2, \"route_group\": \"short\", \"max_trip_hrs\": 0.97, \"max_trip_route_group\": 1.0, \"name\": \"Tahoe Transportation District\", \"caltrans_district\": \"03 - Marysville\", \"drmt_organization_name\": null, \"cutoff2\": 15.0, \"cutoff\": 2}, {\"calitp_itp_id\": 331, \"trip_key\": -6362918574907679911, \"trip_id\": \"t_2004452_b_33429_tn_0\", \"shape_id\": \"p_375063\", \"route_id\": \"Hwy89\", \"service_hours\": 0.67, \"trip_first_departure_ts\": 60600, \"trip_last_arrival_ts\": 63000, \"departure_hour\": 16, \"time_of_day\": \"Midday\", \"p25\": 0.67, \"p50\": 0.67, \"p75\": 0.75, \"p50_trip\": 1, \"fastest_trip\": 0, \"car_duration_hours\": 0.56, \"competitive_route\": 1, \"bus_multiplier\": 1.2, \"bus_difference\": 6.6, \"num_trips\": 23, \"num_competitive\": 23, \"pct_trips_competitive\": 1.0, \"bus_difference_spread\": 28.2, \"route_group\": \"short\", \"max_trip_hrs\": 0.97, \"max_trip_route_group\": 1.0, \"name\": \"Tahoe Transportation District\", \"caltrans_district\": \"03 - Marysville\", \"drmt_organization_name\": null, \"cutoff2\": 15.0, \"cutoff\": 2}, {\"calitp_itp_id\": 331, \"trip_key\": -3172313026718095947, \"trip_id\": \"t_2004438_b_33429_tn_0\", \"shape_id\": \"p_375063\", \"route_id\": \"Hwy89\", \"service_hours\": 0.67, \"trip_first_departure_ts\": 23400, \"trip_last_arrival_ts\": 25800, \"departure_hour\": 6, \"time_of_day\": \"Owl Service\", \"p25\": 0.67, \"p50\": 0.67, \"p75\": 0.75, \"p50_trip\": 1, \"fastest_trip\": 0, \"car_duration_hours\": 0.56, \"competitive_route\": 1, \"bus_multiplier\": 1.2, \"bus_difference\": 6.6, \"num_trips\": 23, \"num_competitive\": 23, \"pct_trips_competitive\": 1.0, \"bus_difference_spread\": 28.2, \"route_group\": \"short\", \"max_trip_hrs\": 0.97, \"max_trip_route_group\": 1.0, \"name\": \"Tahoe Transportation District\", \"caltrans_district\": \"03 - Marysville\", \"drmt_organization_name\": null, \"cutoff2\": 15.0, \"cutoff\": 2}, {\"calitp_itp_id\": 331, \"trip_key\": -4508239110201215306, \"trip_id\": \"t_2004442_b_33429_tn_0\", \"shape_id\": \"p_375063\", \"route_id\": \"Hwy89\", \"service_hours\": 0.67, \"trip_first_departure_ts\": 41400, \"trip_last_arrival_ts\": 43800, \"departure_hour\": 11, \"time_of_day\": \"Midday\", \"p25\": 0.67, \"p50\": 0.67, \"p75\": 0.75, \"p50_trip\": 1, \"fastest_trip\": 0, \"car_duration_hours\": 0.56, \"competitive_route\": 1, \"bus_multiplier\": 1.2, \"bus_difference\": 6.6, \"num_trips\": 23, \"num_competitive\": 23, \"pct_trips_competitive\": 1.0, \"bus_difference_spread\": 28.2, \"route_group\": \"short\", \"max_trip_hrs\": 0.97, \"max_trip_route_group\": 1.0, \"name\": \"Tahoe Transportation District\", \"caltrans_district\": \"03 - Marysville\", \"drmt_organization_name\": null, \"cutoff2\": 15.0, \"cutoff\": 2}, {\"calitp_itp_id\": 331, \"trip_key\": 6274621387372425588, \"trip_id\": \"t_2004440_b_33429_tn_0\", \"shape_id\": \"p_375063\", \"route_id\": \"Hwy89\", \"service_hours\": 0.67, \"trip_first_departure_ts\": 34200, \"trip_last_arrival_ts\": 36600, \"departure_hour\": 9, \"time_of_day\": \"AM Peak\", \"p25\": 0.67, \"p50\": 0.67, \"p75\": 0.75, \"p50_trip\": 1, \"fastest_trip\": 0, \"car_duration_hours\": 0.56, \"competitive_route\": 1, \"bus_multiplier\": 1.2, \"bus_difference\": 6.6, \"num_trips\": 23, \"num_competitive\": 23, \"pct_trips_competitive\": 1.0, \"bus_difference_spread\": 28.2, \"route_group\": \"short\", \"max_trip_hrs\": 0.97, \"max_trip_route_group\": 1.0, \"name\": \"Tahoe Transportation District\", \"caltrans_district\": \"03 - Marysville\", \"drmt_organization_name\": null, \"cutoff2\": 15.0, \"cutoff\": 2}, {\"calitp_itp_id\": 331, \"trip_key\": -5606335996279764442, \"trip_id\": \"t_2004451_b_33429_tn_0\", \"shape_id\": \"p_375063\", \"route_id\": \"Hwy89\", \"service_hours\": 0.67, \"trip_first_departure_ts\": 57000, \"trip_last_arrival_ts\": 59400, \"departure_hour\": 15, \"time_of_day\": \"Midday\", \"p25\": 0.67, \"p50\": 0.67, \"p75\": 0.75, \"p50_trip\": 1, \"fastest_trip\": 0, \"car_duration_hours\": 0.56, \"competitive_route\": 1, \"bus_multiplier\": 1.2, \"bus_difference\": 6.6, \"num_trips\": 23, \"num_competitive\": 23, \"pct_trips_competitive\": 1.0, \"bus_difference_spread\": 28.2, \"route_group\": \"short\", \"max_trip_hrs\": 0.97, \"max_trip_route_group\": 1.0, \"name\": \"Tahoe Transportation District\", \"caltrans_district\": \"03 - Marysville\", \"drmt_organization_name\": null, \"cutoff2\": 15.0, \"cutoff\": 2}, {\"calitp_itp_id\": 331, \"trip_key\": -1584286957296332015, \"trip_id\": \"t_2004441_b_33429_tn_0\", \"shape_id\": \"p_375063\", \"route_id\": \"Hwy89\", \"service_hours\": 0.67, \"trip_first_departure_ts\": 37800, \"trip_last_arrival_ts\": 40200, \"departure_hour\": 10, \"time_of_day\": \"Midday\", \"p25\": 0.67, \"p50\": 0.67, \"p75\": 0.75, \"p50_trip\": 1, \"fastest_trip\": 0, \"car_duration_hours\": 0.56, \"competitive_route\": 1, \"bus_multiplier\": 1.2, \"bus_difference\": 6.6, \"num_trips\": 23, \"num_competitive\": 23, \"pct_trips_competitive\": 1.0, \"bus_difference_spread\": 28.2, \"route_group\": \"short\", \"max_trip_hrs\": 0.97, \"max_trip_route_group\": 1.0, \"name\": \"Tahoe Transportation District\", \"caltrans_district\": \"03 - Marysville\", \"drmt_organization_name\": null, \"cutoff2\": 15.0, \"cutoff\": 2}, {\"calitp_itp_id\": 331, \"trip_key\": 6922158302155628860, \"trip_id\": \"t_2004348_b_33429_tn_0\", \"shape_id\": \"p_375063\", \"route_id\": \"Hwy89\", \"service_hours\": 0.67, \"trip_first_departure_ts\": 30600, \"trip_last_arrival_ts\": 33000, \"departure_hour\": 8, \"time_of_day\": \"AM Peak\", \"p25\": 0.67, \"p50\": 0.67, \"p75\": 0.75, \"p50_trip\": 1, \"fastest_trip\": 0, \"car_duration_hours\": 0.56, \"competitive_route\": 1, \"bus_multiplier\": 1.2, \"bus_difference\": 6.6, \"num_trips\": 23, \"num_competitive\": 23, \"pct_trips_competitive\": 1.0, \"bus_difference_spread\": 28.2, \"route_group\": \"short\", \"max_trip_hrs\": 0.97, \"max_trip_route_group\": 1.0, \"name\": \"Tahoe Transportation District\", \"caltrans_district\": \"03 - Marysville\", \"drmt_organization_name\": null, \"cutoff2\": 15.0, \"cutoff\": 2}, {\"calitp_itp_id\": 331, \"trip_key\": -5012900938655457337, \"trip_id\": \"t_2004439_b_33429_tn_0\", \"shape_id\": \"p_375063\", \"route_id\": \"Hwy89\", \"service_hours\": 0.67, \"trip_first_departure_ts\": 27000, \"trip_last_arrival_ts\": 29400, \"departure_hour\": 7, \"time_of_day\": \"AM Peak\", \"p25\": 0.67, \"p50\": 0.67, \"p75\": 0.75, \"p50_trip\": 1, \"fastest_trip\": 0, \"car_duration_hours\": 0.56, \"competitive_route\": 1, \"bus_multiplier\": 1.2, \"bus_difference\": 6.6, \"num_trips\": 23, \"num_competitive\": 23, \"pct_trips_competitive\": 1.0, \"bus_difference_spread\": 28.2, \"route_group\": \"short\", \"max_trip_hrs\": 0.97, \"max_trip_route_group\": 1.0, \"name\": \"Tahoe Transportation District\", \"caltrans_district\": \"03 - Marysville\", \"drmt_organization_name\": null, \"cutoff2\": 15.0, \"cutoff\": 2}, {\"calitp_itp_id\": 331, \"trip_key\": 484579570077596865, \"trip_id\": \"t_2004450_b_33429_tn_0\", \"shape_id\": \"p_375063\", \"route_id\": \"Hwy89\", \"service_hours\": 0.67, \"trip_first_departure_ts\": 52200, \"trip_last_arrival_ts\": 54600, \"departure_hour\": 14, \"time_of_day\": \"Midday\", \"p25\": 0.67, \"p50\": 0.67, \"p75\": 0.75, \"p50_trip\": 1, \"fastest_trip\": 0, \"car_duration_hours\": 0.56, \"competitive_route\": 1, \"bus_multiplier\": 1.2, \"bus_difference\": 6.6, \"num_trips\": 23, \"num_competitive\": 23, \"pct_trips_competitive\": 1.0, \"bus_difference_spread\": 28.2, \"route_group\": \"short\", \"max_trip_hrs\": 0.97, \"max_trip_route_group\": 1.0, \"name\": \"Tahoe Transportation District\", \"caltrans_district\": \"03 - Marysville\", \"drmt_organization_name\": null, \"cutoff2\": 15.0, \"cutoff\": 2}, {\"calitp_itp_id\": 331, \"trip_key\": -3852992652864342360, \"trip_id\": \"t_2004443_b_33429_tn_0\", \"shape_id\": \"p_375063\", \"route_id\": \"Hwy89\", \"service_hours\": 0.67, \"trip_first_departure_ts\": 45000, \"trip_last_arrival_ts\": 47400, \"departure_hour\": 12, \"time_of_day\": \"Midday\", \"p25\": 0.67, \"p50\": 0.67, \"p75\": 0.75, \"p50_trip\": 1, \"fastest_trip\": 0, \"car_duration_hours\": 0.56, \"competitive_route\": 1, \"bus_multiplier\": 1.2, \"bus_difference\": 6.6, \"num_trips\": 23, \"num_competitive\": 23, \"pct_trips_competitive\": 1.0, \"bus_difference_spread\": 28.2, \"route_group\": \"short\", \"max_trip_hrs\": 0.97, \"max_trip_route_group\": 1.0, \"name\": \"Tahoe Transportation District\", \"caltrans_district\": \"03 - Marysville\", \"drmt_organization_name\": null, \"cutoff2\": 15.0, \"cutoff\": 2}, {\"calitp_itp_id\": 331, \"trip_key\": 4576837978246395402, \"trip_id\": \"t_2004444_b_33429_tn_0\", \"shape_id\": \"p_375063\", \"route_id\": \"Hwy89\", \"service_hours\": 0.67, \"trip_first_departure_ts\": 48600, \"trip_last_arrival_ts\": 51000, \"departure_hour\": 13, \"time_of_day\": \"Midday\", \"p25\": 0.67, \"p50\": 0.67, \"p75\": 0.75, \"p50_trip\": 1, \"fastest_trip\": 0, \"car_duration_hours\": 0.56, \"competitive_route\": 1, \"bus_multiplier\": 1.2, \"bus_difference\": 6.6, \"num_trips\": 23, \"num_competitive\": 23, \"pct_trips_competitive\": 1.0, \"bus_difference_spread\": 28.2, \"route_group\": \"short\", \"max_trip_hrs\": 0.97, \"max_trip_route_group\": 1.0, \"name\": \"Tahoe Transportation District\", \"caltrans_district\": \"03 - Marysville\", \"drmt_organization_name\": null, \"cutoff2\": 15.0, \"cutoff\": 2}, {\"calitp_itp_id\": 331, \"trip_key\": 1665826919107488859, \"trip_id\": \"t_2004461_b_33429_tn_0\", \"shape_id\": \"p_375065\", \"route_id\": \"Hwy89\", \"service_hours\": 0.75, \"trip_first_departure_ts\": 27000, \"trip_last_arrival_ts\": 29700, \"departure_hour\": 7, \"time_of_day\": \"AM Peak\", \"p25\": 0.67, \"p50\": 0.67, \"p75\": 0.75, \"p50_trip\": 0, \"fastest_trip\": 0, \"car_duration_hours\": 0.56, \"competitive_route\": 1, \"bus_multiplier\": 1.34, \"bus_difference\": 11.4, \"num_trips\": 23, \"num_competitive\": 23, \"pct_trips_competitive\": 1.0, \"bus_difference_spread\": 28.2, \"route_group\": \"short\", \"max_trip_hrs\": 0.97, \"max_trip_route_group\": 1.0, \"name\": \"Tahoe Transportation District\", \"caltrans_district\": \"03 - Marysville\", \"drmt_organization_name\": null, \"cutoff2\": 15.0, \"cutoff\": 2}, {\"calitp_itp_id\": 331, \"trip_key\": 3831303295993535788, \"trip_id\": \"t_2004334_b_33429_tn_0\", \"shape_id\": \"p_375065\", \"route_id\": \"Hwy89\", \"service_hours\": 0.75, \"trip_first_departure_ts\": 37800, \"trip_last_arrival_ts\": 40500, \"departure_hour\": 10, \"time_of_day\": \"Midday\", \"p25\": 0.67, \"p50\": 0.67, \"p75\": 0.75, \"p50_trip\": 0, \"fastest_trip\": 0, \"car_duration_hours\": 0.56, \"competitive_route\": 1, \"bus_multiplier\": 1.34, \"bus_difference\": 11.4, \"num_trips\": 23, \"num_competitive\": 23, \"pct_trips_competitive\": 1.0, \"bus_difference_spread\": 28.2, \"route_group\": \"short\", \"max_trip_hrs\": 0.97, \"max_trip_route_group\": 1.0, \"name\": \"Tahoe Transportation District\", \"caltrans_district\": \"03 - Marysville\", \"drmt_organization_name\": null, \"cutoff2\": 15.0, \"cutoff\": 2}, {\"calitp_itp_id\": 331, \"trip_key\": 1166289118550898938, \"trip_id\": \"t_2004460_b_33429_tn_0\", \"shape_id\": \"p_375065\", \"route_id\": \"Hwy89\", \"service_hours\": 0.75, \"trip_first_departure_ts\": 48600, \"trip_last_arrival_ts\": 51300, \"departure_hour\": 13, \"time_of_day\": \"Midday\", \"p25\": 0.67, \"p50\": 0.67, \"p75\": 0.75, \"p50_trip\": 0, \"fastest_trip\": 0, \"car_duration_hours\": 0.56, \"competitive_route\": 1, \"bus_multiplier\": 1.34, \"bus_difference\": 11.4, \"num_trips\": 23, \"num_competitive\": 23, \"pct_trips_competitive\": 1.0, \"bus_difference_spread\": 28.2, \"route_group\": \"short\", \"max_trip_hrs\": 0.97, \"max_trip_route_group\": 1.0, \"name\": \"Tahoe Transportation District\", \"caltrans_district\": \"03 - Marysville\", \"drmt_organization_name\": null, \"cutoff2\": 15.0, \"cutoff\": 2}, {\"calitp_itp_id\": 331, \"trip_key\": -8711609364182877631, \"trip_id\": \"t_2004336_b_33429_tn_0\", \"shape_id\": \"p_375065\", \"route_id\": \"Hwy89\", \"service_hours\": 0.75, \"trip_first_departure_ts\": 45000, \"trip_last_arrival_ts\": 47700, \"departure_hour\": 12, \"time_of_day\": \"Midday\", \"p25\": 0.67, \"p50\": 0.67, \"p75\": 0.75, \"p50_trip\": 0, \"fastest_trip\": 0, \"car_duration_hours\": 0.56, \"competitive_route\": 1, \"bus_multiplier\": 1.34, \"bus_difference\": 11.4, \"num_trips\": 23, \"num_competitive\": 23, \"pct_trips_competitive\": 1.0, \"bus_difference_spread\": 28.2, \"route_group\": \"short\", \"max_trip_hrs\": 0.97, \"max_trip_route_group\": 1.0, \"name\": \"Tahoe Transportation District\", \"caltrans_district\": \"03 - Marysville\", \"drmt_organization_name\": null, \"cutoff2\": 15.0, \"cutoff\": 2}, {\"calitp_itp_id\": 331, \"trip_key\": 517466499945733948, \"trip_id\": \"t_2004462_b_33429_tn_0\", \"shape_id\": \"p_375065\", \"route_id\": \"Hwy89\", \"service_hours\": 0.75, \"trip_first_departure_ts\": 52200, \"trip_last_arrival_ts\": 54900, \"departure_hour\": 14, \"time_of_day\": \"Midday\", \"p25\": 0.67, \"p50\": 0.67, \"p75\": 0.75, \"p50_trip\": 0, \"fastest_trip\": 0, \"car_duration_hours\": 0.56, \"competitive_route\": 1, \"bus_multiplier\": 1.34, \"bus_difference\": 11.4, \"num_trips\": 23, \"num_competitive\": 23, \"pct_trips_competitive\": 1.0, \"bus_difference_spread\": 28.2, \"route_group\": \"short\", \"max_trip_hrs\": 0.97, \"max_trip_route_group\": 1.0, \"name\": \"Tahoe Transportation District\", \"caltrans_district\": \"03 - Marysville\", \"drmt_organization_name\": null, \"cutoff2\": 15.0, \"cutoff\": 2}, {\"calitp_itp_id\": 331, \"trip_key\": 5100469293112655715, \"trip_id\": \"t_2004335_b_33429_tn_0\", \"shape_id\": \"p_375065\", \"route_id\": \"Hwy89\", \"service_hours\": 0.75, \"trip_first_departure_ts\": 41400, \"trip_last_arrival_ts\": 44100, \"departure_hour\": 11, \"time_of_day\": \"Midday\", \"p25\": 0.67, \"p50\": 0.67, \"p75\": 0.75, \"p50_trip\": 0, \"fastest_trip\": 0, \"car_duration_hours\": 0.56, \"competitive_route\": 1, \"bus_multiplier\": 1.34, \"bus_difference\": 11.4, \"num_trips\": 23, \"num_competitive\": 23, \"pct_trips_competitive\": 1.0, \"bus_difference_spread\": 28.2, \"route_group\": \"short\", \"max_trip_hrs\": 0.97, \"max_trip_route_group\": 1.0, \"name\": \"Tahoe Transportation District\", \"caltrans_district\": \"03 - Marysville\", \"drmt_organization_name\": null, \"cutoff2\": 15.0, \"cutoff\": 2}, {\"calitp_itp_id\": 331, \"trip_key\": 3764336723027995280, \"trip_id\": \"t_2004333_b_33429_tn_0\", \"shape_id\": \"p_375065\", \"route_id\": \"Hwy89\", \"service_hours\": 0.75, \"trip_first_departure_ts\": 34200, \"trip_last_arrival_ts\": 36900, \"departure_hour\": 9, \"time_of_day\": \"AM Peak\", \"p25\": 0.67, \"p50\": 0.67, \"p75\": 0.75, \"p50_trip\": 0, \"fastest_trip\": 0, \"car_duration_hours\": 0.56, \"competitive_route\": 1, \"bus_multiplier\": 1.34, \"bus_difference\": 11.4, \"num_trips\": 23, \"num_competitive\": 23, \"pct_trips_competitive\": 1.0, \"bus_difference_spread\": 28.2, \"route_group\": \"short\", \"max_trip_hrs\": 0.97, \"max_trip_route_group\": 1.0, \"name\": \"Tahoe Transportation District\", \"caltrans_district\": \"03 - Marysville\", \"drmt_organization_name\": null, \"cutoff2\": 15.0, \"cutoff\": 2}, {\"calitp_itp_id\": 331, \"trip_key\": 1907104388810407175, \"trip_id\": \"t_2004463_b_33429_tn_0\", \"shape_id\": \"p_375065\", \"route_id\": \"Hwy89\", \"service_hours\": 0.75, \"trip_first_departure_ts\": 30600, \"trip_last_arrival_ts\": 33300, \"departure_hour\": 8, \"time_of_day\": \"AM Peak\", \"p25\": 0.67, \"p50\": 0.67, \"p75\": 0.75, \"p50_trip\": 0, \"fastest_trip\": 0, \"car_duration_hours\": 0.56, \"competitive_route\": 1, \"bus_multiplier\": 1.34, \"bus_difference\": 11.4, \"num_trips\": 23, \"num_competitive\": 23, \"pct_trips_competitive\": 1.0, \"bus_difference_spread\": 28.2, \"route_group\": \"short\", \"max_trip_hrs\": 0.97, \"max_trip_route_group\": 1.0, \"name\": \"Tahoe Transportation District\", \"caltrans_district\": \"03 - Marysville\", \"drmt_organization_name\": null, \"cutoff2\": 15.0, \"cutoff\": 2}, {\"calitp_itp_id\": 331, \"trip_key\": 5006640368970918737, \"trip_id\": \"t_2004453_b_33429_tn_0\", \"shape_id\": \"p_375065\", \"route_id\": \"Hwy89\", \"service_hours\": 0.97, \"trip_first_departure_ts\": 55800, \"trip_last_arrival_ts\": 59280, \"departure_hour\": 15, \"time_of_day\": \"Midday\", \"p25\": 0.67, \"p50\": 0.67, \"p75\": 0.75, \"p50_trip\": 0, \"fastest_trip\": 0, \"car_duration_hours\": 0.56, \"competitive_route\": 1, \"bus_multiplier\": 1.73, \"bus_difference\": 24.6, \"num_trips\": 23, \"num_competitive\": 23, \"pct_trips_competitive\": 1.0, \"bus_difference_spread\": 28.2, \"route_group\": \"short\", \"max_trip_hrs\": 0.97, \"max_trip_route_group\": 1.0, \"name\": \"Tahoe Transportation District\", \"caltrans_district\": \"03 - Marysville\", \"drmt_organization_name\": null, \"cutoff2\": 15.0, \"cutoff\": 2}, {\"calitp_itp_id\": 331, \"trip_key\": 3594916817468595011, \"trip_id\": \"t_2004332_b_33429_tn_0\", \"shape_id\": \"p_375065\", \"route_id\": \"Hwy89\", \"service_hours\": 0.97, \"trip_first_departure_ts\": 59400, \"trip_last_arrival_ts\": 62880, \"departure_hour\": 16, \"time_of_day\": \"Midday\", \"p25\": 0.67, \"p50\": 0.67, \"p75\": 0.75, \"p50_trip\": 0, \"fastest_trip\": 0, \"car_duration_hours\": 0.56, \"competitive_route\": 1, \"bus_multiplier\": 1.73, \"bus_difference\": 24.6, \"num_trips\": 23, \"num_competitive\": 23, \"pct_trips_competitive\": 1.0, \"bus_difference_spread\": 28.2, \"route_group\": \"short\", \"max_trip_hrs\": 0.97, \"max_trip_route_group\": 1.0, \"name\": \"Tahoe Transportation District\", \"caltrans_district\": \"03 - Marysville\", \"drmt_organization_name\": null, \"cutoff2\": 15.0, \"cutoff\": 2}, {\"calitp_itp_id\": 331, \"trip_key\": -9142149494167557290, \"trip_id\": \"t_2004466_b_33429_tn_0\", \"shape_id\": \"p_375065\", \"route_id\": \"Hwy89\", \"service_hours\": 0.97, \"trip_first_departure_ts\": 63000, \"trip_last_arrival_ts\": 66480, \"departure_hour\": 17, \"time_of_day\": \"PM Peak\", \"p25\": 0.67, \"p50\": 0.67, \"p75\": 0.75, \"p50_trip\": 0, \"fastest_trip\": 0, \"car_duration_hours\": 0.56, \"competitive_route\": 1, \"bus_multiplier\": 1.73, \"bus_difference\": 24.6, \"num_trips\": 23, \"num_competitive\": 23, \"pct_trips_competitive\": 1.0, \"bus_difference_spread\": 28.2, \"route_group\": \"short\", \"max_trip_hrs\": 0.97, \"max_trip_route_group\": 1.0, \"name\": \"Tahoe Transportation District\", \"caltrans_district\": \"03 - Marysville\", \"drmt_organization_name\": null, \"cutoff2\": 15.0, \"cutoff\": 2}, {\"calitp_itp_id\": 331, \"trip_key\": 5396783997835403443, \"trip_id\": \"t_2004484_b_33429_tn_0\", \"shape_id\": \"p_375052\", \"route_id\": \"NSPM\", \"service_hours\": 0.42, \"trip_first_departure_ts\": 66600, \"trip_last_arrival_ts\": 68100, \"departure_hour\": 18, \"time_of_day\": \"PM Peak\", \"p25\": 0.42, \"p50\": 0.42, \"p75\": 0.42, \"p50_trip\": 1, \"fastest_trip\": 0, \"car_duration_hours\": 0.28, \"competitive_route\": 1, \"bus_multiplier\": 1.5, \"bus_difference\": 8.4, \"num_trips\": 9, \"num_competitive\": 9, \"pct_trips_competitive\": 1.0, \"bus_difference_spread\": 0.0, \"route_group\": \"short\", \"max_trip_hrs\": 0.42, \"max_trip_route_group\": 1.0, \"name\": \"Tahoe Transportation District\", \"caltrans_district\": \"03 - Marysville\", \"drmt_organization_name\": null, \"cutoff2\": 15.0, \"cutoff\": 2}, {\"calitp_itp_id\": 331, \"trip_key\": 2802782225990289565, \"trip_id\": \"t_2004487_b_33429_tn_0\", \"shape_id\": \"p_375052\", \"route_id\": \"NSPM\", \"service_hours\": 0.42, \"trip_first_departure_ts\": 77400, \"trip_last_arrival_ts\": 78900, \"departure_hour\": 21, \"time_of_day\": \"Owl Service\", \"p25\": 0.42, \"p50\": 0.42, \"p75\": 0.42, \"p50_trip\": 1, \"fastest_trip\": 0, \"car_duration_hours\": 0.28, \"competitive_route\": 1, \"bus_multiplier\": 1.5, \"bus_difference\": 8.4, \"num_trips\": 9, \"num_competitive\": 9, \"pct_trips_competitive\": 1.0, \"bus_difference_spread\": 0.0, \"route_group\": \"short\", \"max_trip_hrs\": 0.42, \"max_trip_route_group\": 1.0, \"name\": \"Tahoe Transportation District\", \"caltrans_district\": \"03 - Marysville\", \"drmt_organization_name\": null, \"cutoff2\": 15.0, \"cutoff\": 2}, {\"calitp_itp_id\": 331, \"trip_key\": 4770400430374252241, \"trip_id\": \"t_2004491_b_33429_tn_0\", \"shape_id\": \"p_375053\", \"route_id\": \"NSPM\", \"service_hours\": 0.42, \"trip_first_departure_ts\": 75600, \"trip_last_arrival_ts\": 77100, \"departure_hour\": 21, \"time_of_day\": \"Owl Service\", \"p25\": 0.42, \"p50\": 0.42, \"p75\": 0.42, \"p50_trip\": 1, \"fastest_trip\": 0, \"car_duration_hours\": 0.28, \"competitive_route\": 1, \"bus_multiplier\": 1.5, \"bus_difference\": 8.4, \"num_trips\": 9, \"num_competitive\": 9, \"pct_trips_competitive\": 1.0, \"bus_difference_spread\": 0.0, \"route_group\": \"short\", \"max_trip_hrs\": 0.42, \"max_trip_route_group\": 1.0, \"name\": \"Tahoe Transportation District\", \"caltrans_district\": \"03 - Marysville\", \"drmt_organization_name\": null, \"cutoff2\": 15.0, \"cutoff\": 2}, {\"calitp_itp_id\": 331, \"trip_key\": 1280572316888989604, \"trip_id\": \"t_2004490_b_33429_tn_0\", \"shape_id\": \"p_375053\", \"route_id\": \"NSPM\", \"service_hours\": 0.42, \"trip_first_departure_ts\": 72000, \"trip_last_arrival_ts\": 73500, \"departure_hour\": 20, \"time_of_day\": \"Owl Service\", \"p25\": 0.42, \"p50\": 0.42, \"p75\": 0.42, \"p50_trip\": 1, \"fastest_trip\": 0, \"car_duration_hours\": 0.28, \"competitive_route\": 1, \"bus_multiplier\": 1.5, \"bus_difference\": 8.4, \"num_trips\": 9, \"num_competitive\": 9, \"pct_trips_competitive\": 1.0, \"bus_difference_spread\": 0.0, \"route_group\": \"short\", \"max_trip_hrs\": 0.42, \"max_trip_route_group\": 1.0, \"name\": \"Tahoe Transportation District\", \"caltrans_district\": \"03 - Marysville\", \"drmt_organization_name\": null, \"cutoff2\": 15.0, \"cutoff\": 2}, {\"calitp_itp_id\": 331, \"trip_key\": -6542656286821304364, \"trip_id\": \"t_2004488_b_33429_tn_0\", \"shape_id\": \"p_375052\", \"route_id\": \"NSPM\", \"service_hours\": 0.42, \"trip_first_departure_ts\": 81000, \"trip_last_arrival_ts\": 82500, \"departure_hour\": 22, \"time_of_day\": \"Owl Service\", \"p25\": 0.42, \"p50\": 0.42, \"p75\": 0.42, \"p50_trip\": 1, \"fastest_trip\": 1, \"car_duration_hours\": 0.28, \"competitive_route\": 1, \"bus_multiplier\": 1.5, \"bus_difference\": 8.4, \"num_trips\": 9, \"num_competitive\": 9, \"pct_trips_competitive\": 1.0, \"bus_difference_spread\": 0.0, \"route_group\": \"short\", \"max_trip_hrs\": 0.42, \"max_trip_route_group\": 1.0, \"name\": \"Tahoe Transportation District\", \"caltrans_district\": \"03 - Marysville\", \"drmt_organization_name\": null, \"cutoff2\": 15.0, \"cutoff\": 2}, {\"calitp_itp_id\": 331, \"trip_key\": 49198910932344251, \"trip_id\": \"t_2004485_b_33429_tn_0\", \"shape_id\": \"p_375052\", \"route_id\": \"NSPM\", \"service_hours\": 0.42, \"trip_first_departure_ts\": 70200, \"trip_last_arrival_ts\": 71700, \"departure_hour\": 19, \"time_of_day\": \"PM Peak\", \"p25\": 0.42, \"p50\": 0.42, \"p75\": 0.42, \"p50_trip\": 1, \"fastest_trip\": 0, \"car_duration_hours\": 0.28, \"competitive_route\": 1, \"bus_multiplier\": 1.5, \"bus_difference\": 8.4, \"num_trips\": 9, \"num_competitive\": 9, \"pct_trips_competitive\": 1.0, \"bus_difference_spread\": 0.0, \"route_group\": \"short\", \"max_trip_hrs\": 0.42, \"max_trip_route_group\": 1.0, \"name\": \"Tahoe Transportation District\", \"caltrans_district\": \"03 - Marysville\", \"drmt_organization_name\": null, \"cutoff2\": 15.0, \"cutoff\": 2}, {\"calitp_itp_id\": 331, \"trip_key\": -6107779799344070859, \"trip_id\": \"t_2004486_b_33429_tn_0\", \"shape_id\": \"p_375052\", \"route_id\": \"NSPM\", \"service_hours\": 0.42, \"trip_first_departure_ts\": 73800, \"trip_last_arrival_ts\": 75300, \"departure_hour\": 20, \"time_of_day\": \"Owl Service\", \"p25\": 0.42, \"p50\": 0.42, \"p75\": 0.42, \"p50_trip\": 1, \"fastest_trip\": 0, \"car_duration_hours\": 0.28, \"competitive_route\": 1, \"bus_multiplier\": 1.5, \"bus_difference\": 8.4, \"num_trips\": 9, \"num_competitive\": 9, \"pct_trips_competitive\": 1.0, \"bus_difference_spread\": 0.0, \"route_group\": \"short\", \"max_trip_hrs\": 0.42, \"max_trip_route_group\": 1.0, \"name\": \"Tahoe Transportation District\", \"caltrans_district\": \"03 - Marysville\", \"drmt_organization_name\": null, \"cutoff2\": 15.0, \"cutoff\": 2}, {\"calitp_itp_id\": 331, \"trip_key\": -5413539132370670733, \"trip_id\": \"t_2004492_b_33429_tn_0\", \"shape_id\": \"p_375053\", \"route_id\": \"NSPM\", \"service_hours\": 0.42, \"trip_first_departure_ts\": 79200, \"trip_last_arrival_ts\": 80700, \"departure_hour\": 22, \"time_of_day\": \"Owl Service\", \"p25\": 0.42, \"p50\": 0.42, \"p75\": 0.42, \"p50_trip\": 1, \"fastest_trip\": 0, \"car_duration_hours\": 0.28, \"competitive_route\": 1, \"bus_multiplier\": 1.5, \"bus_difference\": 8.4, \"num_trips\": 9, \"num_competitive\": 9, \"pct_trips_competitive\": 1.0, \"bus_difference_spread\": 0.0, \"route_group\": \"short\", \"max_trip_hrs\": 0.42, \"max_trip_route_group\": 1.0, \"name\": \"Tahoe Transportation District\", \"caltrans_district\": \"03 - Marysville\", \"drmt_organization_name\": null, \"cutoff2\": 15.0, \"cutoff\": 2}, {\"calitp_itp_id\": 331, \"trip_key\": -6725759630808269819, \"trip_id\": \"t_2004489_b_33429_tn_0\", \"shape_id\": \"p_375053\", \"route_id\": \"NSPM\", \"service_hours\": 0.42, \"trip_first_departure_ts\": 68400, \"trip_last_arrival_ts\": 69900, \"departure_hour\": 19, \"time_of_day\": \"PM Peak\", \"p25\": 0.42, \"p50\": 0.42, \"p75\": 0.42, \"p50_trip\": 1, \"fastest_trip\": 0, \"car_duration_hours\": 0.28, \"competitive_route\": 1, \"bus_multiplier\": 1.5, \"bus_difference\": 8.4, \"num_trips\": 9, \"num_competitive\": 9, \"pct_trips_competitive\": 1.0, \"bus_difference_spread\": 0.0, \"route_group\": \"short\", \"max_trip_hrs\": 0.42, \"max_trip_route_group\": 1.0, \"name\": \"Tahoe Transportation District\", \"caltrans_district\": \"03 - Marysville\", \"drmt_organization_name\": null, \"cutoff2\": 15.0, \"cutoff\": 2}, {\"calitp_itp_id\": 331, \"trip_key\": -1002915690832447426, \"trip_id\": \"t_2004503_b_33429_tn_0\", \"shape_id\": \"p_1274591\", \"route_id\": \"TLR\", \"service_hours\": 0.5, \"trip_first_departure_ts\": 45000, \"trip_last_arrival_ts\": 46800, \"departure_hour\": 12, \"time_of_day\": \"Midday\", \"p25\": 0.5, \"p50\": 0.5, \"p75\": 0.5, \"p50_trip\": 1, \"fastest_trip\": 0, \"car_duration_hours\": 0.32, \"competitive_route\": 1, \"bus_multiplier\": 1.56, \"bus_difference\": 10.8, \"num_trips\": 24, \"num_competitive\": 24, \"pct_trips_competitive\": 1.0, \"bus_difference_spread\": 0.0, \"route_group\": \"short\", \"max_trip_hrs\": 0.5, \"max_trip_route_group\": 1.0, \"name\": \"Tahoe Transportation District\", \"caltrans_district\": \"03 - Marysville\", \"drmt_organization_name\": null, \"cutoff2\": 15.0, \"cutoff\": 2}, {\"calitp_itp_id\": 331, \"trip_key\": 6608519644360398633, \"trip_id\": \"t_2004502_b_33429_tn_0\", \"shape_id\": \"p_1274591\", \"route_id\": \"TLR\", \"service_hours\": 0.5, \"trip_first_departure_ts\": 41400, \"trip_last_arrival_ts\": 43200, \"departure_hour\": 11, \"time_of_day\": \"Midday\", \"p25\": 0.5, \"p50\": 0.5, \"p75\": 0.5, \"p50_trip\": 1, \"fastest_trip\": 0, \"car_duration_hours\": 0.32, \"competitive_route\": 1, \"bus_multiplier\": 1.56, \"bus_difference\": 10.8, \"num_trips\": 24, \"num_competitive\": 24, \"pct_trips_competitive\": 1.0, \"bus_difference_spread\": 0.0, \"route_group\": \"short\", \"max_trip_hrs\": 0.5, \"max_trip_route_group\": 1.0, \"name\": \"Tahoe Transportation District\", \"caltrans_district\": \"03 - Marysville\", \"drmt_organization_name\": null, \"cutoff2\": 15.0, \"cutoff\": 2}, {\"calitp_itp_id\": 331, \"trip_key\": 4689120928495663419, \"trip_id\": \"t_2004500_b_33429_tn_0\", \"shape_id\": \"p_1274591\", \"route_id\": \"TLR\", \"service_hours\": 0.5, \"trip_first_departure_ts\": 34200, \"trip_last_arrival_ts\": 36000, \"departure_hour\": 9, \"time_of_day\": \"AM Peak\", \"p25\": 0.5, \"p50\": 0.5, \"p75\": 0.5, \"p50_trip\": 1, \"fastest_trip\": 0, \"car_duration_hours\": 0.32, \"competitive_route\": 1, \"bus_multiplier\": 1.56, \"bus_difference\": 10.8, \"num_trips\": 24, \"num_competitive\": 24, \"pct_trips_competitive\": 1.0, \"bus_difference_spread\": 0.0, \"route_group\": \"short\", \"max_trip_hrs\": 0.5, \"max_trip_route_group\": 1.0, \"name\": \"Tahoe Transportation District\", \"caltrans_district\": \"03 - Marysville\", \"drmt_organization_name\": null, \"cutoff2\": 15.0, \"cutoff\": 2}, {\"calitp_itp_id\": 331, \"trip_key\": -5159082222425072456, \"trip_id\": \"t_2004513_b_33429_tn_0\", \"shape_id\": \"p_1274596\", \"route_id\": \"TLR\", \"service_hours\": 0.5, \"trip_first_departure_ts\": 43200, \"trip_last_arrival_ts\": 45000, \"departure_hour\": 12, \"time_of_day\": \"Midday\", \"p25\": 0.5, \"p50\": 0.5, \"p75\": 0.5, \"p50_trip\": 1, \"fastest_trip\": 0, \"car_duration_hours\": 0.32, \"competitive_route\": 1, \"bus_multiplier\": 1.56, \"bus_difference\": 10.8, \"num_trips\": 24, \"num_competitive\": 24, \"pct_trips_competitive\": 1.0, \"bus_difference_spread\": 0.0, \"route_group\": \"short\", \"max_trip_hrs\": 0.5, \"max_trip_route_group\": 1.0, \"name\": \"Tahoe Transportation District\", \"caltrans_district\": \"03 - Marysville\", \"drmt_organization_name\": null, \"cutoff2\": 15.0, \"cutoff\": 2}, {\"calitp_itp_id\": 331, \"trip_key\": 874665284572341009, \"trip_id\": \"t_2004497_b_33429_tn_0\", \"shape_id\": \"p_1274591\", \"route_id\": \"TLR\", \"service_hours\": 0.5, \"trip_first_departure_ts\": 59400, \"trip_last_arrival_ts\": 61200, \"departure_hour\": 16, \"time_of_day\": \"Midday\", \"p25\": 0.5, \"p50\": 0.5, \"p75\": 0.5, \"p50_trip\": 1, \"fastest_trip\": 0, \"car_duration_hours\": 0.32, \"competitive_route\": 1, \"bus_multiplier\": 1.56, \"bus_difference\": 10.8, \"num_trips\": 24, \"num_competitive\": 24, \"pct_trips_competitive\": 1.0, \"bus_difference_spread\": 0.0, \"route_group\": \"short\", \"max_trip_hrs\": 0.5, \"max_trip_route_group\": 1.0, \"name\": \"Tahoe Transportation District\", \"caltrans_district\": \"03 - Marysville\", \"drmt_organization_name\": null, \"cutoff2\": 15.0, \"cutoff\": 2}, {\"calitp_itp_id\": 331, \"trip_key\": 7101380492590396455, \"trip_id\": \"t_2004511_b_33429_tn_0\", \"shape_id\": \"p_1274596\", \"route_id\": \"TLR\", \"service_hours\": 0.5, \"trip_first_departure_ts\": 36000, \"trip_last_arrival_ts\": 37800, \"departure_hour\": 10, \"time_of_day\": \"Midday\", \"p25\": 0.5, \"p50\": 0.5, \"p75\": 0.5, \"p50_trip\": 1, \"fastest_trip\": 0, \"car_duration_hours\": 0.32, \"competitive_route\": 1, \"bus_multiplier\": 1.56, \"bus_difference\": 10.8, \"num_trips\": 24, \"num_competitive\": 24, \"pct_trips_competitive\": 1.0, \"bus_difference_spread\": 0.0, \"route_group\": \"short\", \"max_trip_hrs\": 0.5, \"max_trip_route_group\": 1.0, \"name\": \"Tahoe Transportation District\", \"caltrans_district\": \"03 - Marysville\", \"drmt_organization_name\": null, \"cutoff2\": 15.0, \"cutoff\": 2}, {\"calitp_itp_id\": 331, \"trip_key\": 7824194498944597190, \"trip_id\": \"t_2004508_b_33429_tn_0\", \"shape_id\": \"p_1274596\", \"route_id\": \"TLR\", \"service_hours\": 0.5, \"trip_first_departure_ts\": 25200, \"trip_last_arrival_ts\": 27000, \"departure_hour\": 7, \"time_of_day\": \"AM Peak\", \"p25\": 0.5, \"p50\": 0.5, \"p75\": 0.5, \"p50_trip\": 1, \"fastest_trip\": 0, \"car_duration_hours\": 0.32, \"competitive_route\": 1, \"bus_multiplier\": 1.56, \"bus_difference\": 10.8, \"num_trips\": 24, \"num_competitive\": 24, \"pct_trips_competitive\": 1.0, \"bus_difference_spread\": 0.0, \"route_group\": \"short\", \"max_trip_hrs\": 0.5, \"max_trip_route_group\": 1.0, \"name\": \"Tahoe Transportation District\", \"caltrans_district\": \"03 - Marysville\", \"drmt_organization_name\": null, \"cutoff2\": 15.0, \"cutoff\": 2}, {\"calitp_itp_id\": 331, \"trip_key\": -2781577389659475653, \"trip_id\": \"t_2004505_b_33429_tn_0\", \"shape_id\": \"p_1274591\", \"route_id\": \"TLR\", \"service_hours\": 0.5, \"trip_first_departure_ts\": 52200, \"trip_last_arrival_ts\": 54000, \"departure_hour\": 14, \"time_of_day\": \"Midday\", \"p25\": 0.5, \"p50\": 0.5, \"p75\": 0.5, \"p50_trip\": 1, \"fastest_trip\": 0, \"car_duration_hours\": 0.32, \"competitive_route\": 1, \"bus_multiplier\": 1.56, \"bus_difference\": 10.8, \"num_trips\": 24, \"num_competitive\": 24, \"pct_trips_competitive\": 1.0, \"bus_difference_spread\": 0.0, \"route_group\": \"short\", \"max_trip_hrs\": 0.5, \"max_trip_route_group\": 1.0, \"name\": \"Tahoe Transportation District\", \"caltrans_district\": \"03 - Marysville\", \"drmt_organization_name\": null, \"cutoff2\": 15.0, \"cutoff\": 2}, {\"calitp_itp_id\": 331, \"trip_key\": -7095598647131562557, \"trip_id\": \"t_2004510_b_33429_tn_0\", \"shape_id\": \"p_1274596\", \"route_id\": \"TLR\", \"service_hours\": 0.5, \"trip_first_departure_ts\": 32400, \"trip_last_arrival_ts\": 34200, \"departure_hour\": 9, \"time_of_day\": \"AM Peak\", \"p25\": 0.5, \"p50\": 0.5, \"p75\": 0.5, \"p50_trip\": 1, \"fastest_trip\": 0, \"car_duration_hours\": 0.32, \"competitive_route\": 1, \"bus_multiplier\": 1.56, \"bus_difference\": 10.8, \"num_trips\": 24, \"num_competitive\": 24, \"pct_trips_competitive\": 1.0, \"bus_difference_spread\": 0.0, \"route_group\": \"short\", \"max_trip_hrs\": 0.5, \"max_trip_route_group\": 1.0, \"name\": \"Tahoe Transportation District\", \"caltrans_district\": \"03 - Marysville\", \"drmt_organization_name\": null, \"cutoff2\": 15.0, \"cutoff\": 2}, {\"calitp_itp_id\": 331, \"trip_key\": 5338715160280664218, \"trip_id\": \"t_2004499_b_33429_tn_0\", \"shape_id\": \"p_1274591\", \"route_id\": \"TLR\", \"service_hours\": 0.5, \"trip_first_departure_ts\": 30600, \"trip_last_arrival_ts\": 32400, \"departure_hour\": 8, \"time_of_day\": \"AM Peak\", \"p25\": 0.5, \"p50\": 0.5, \"p75\": 0.5, \"p50_trip\": 1, \"fastest_trip\": 0, \"car_duration_hours\": 0.32, \"competitive_route\": 1, \"bus_multiplier\": 1.56, \"bus_difference\": 10.8, \"num_trips\": 24, \"num_competitive\": 24, \"pct_trips_competitive\": 1.0, \"bus_difference_spread\": 0.0, \"route_group\": \"short\", \"max_trip_hrs\": 0.5, \"max_trip_route_group\": 1.0, \"name\": \"Tahoe Transportation District\", \"caltrans_district\": \"03 - Marysville\", \"drmt_organization_name\": null, \"cutoff2\": 15.0, \"cutoff\": 2}, {\"calitp_itp_id\": 331, \"trip_key\": -6457030711264259356, \"trip_id\": \"t_2004504_b_33429_tn_0\", \"shape_id\": \"p_1274591\", \"route_id\": \"TLR\", \"service_hours\": 0.5, \"trip_first_departure_ts\": 48600, \"trip_last_arrival_ts\": 50400, \"departure_hour\": 13, \"time_of_day\": \"Midday\", \"p25\": 0.5, \"p50\": 0.5, \"p75\": 0.5, \"p50_trip\": 1, \"fastest_trip\": 0, \"car_duration_hours\": 0.32, \"competitive_route\": 1, \"bus_multiplier\": 1.56, \"bus_difference\": 10.8, \"num_trips\": 24, \"num_competitive\": 24, \"pct_trips_competitive\": 1.0, \"bus_difference_spread\": 0.0, \"route_group\": \"short\", \"max_trip_hrs\": 0.5, \"max_trip_route_group\": 1.0, \"name\": \"Tahoe Transportation District\", \"caltrans_district\": \"03 - Marysville\", \"drmt_organization_name\": null, \"cutoff2\": 15.0, \"cutoff\": 2}, {\"calitp_itp_id\": 331, \"trip_key\": 7964284356054720652, \"trip_id\": \"t_2004518_b_33429_tn_0\", \"shape_id\": \"p_1274591\", \"route_id\": \"TLR\", \"service_hours\": 0.5, \"trip_first_departure_ts\": 63000, \"trip_last_arrival_ts\": 64800, \"departure_hour\": 17, \"time_of_day\": \"PM Peak\", \"p25\": 0.5, \"p50\": 0.5, \"p75\": 0.5, \"p50_trip\": 1, \"fastest_trip\": 0, \"car_duration_hours\": 0.32, \"competitive_route\": 1, \"bus_multiplier\": 1.56, \"bus_difference\": 10.8, \"num_trips\": 24, \"num_competitive\": 24, \"pct_trips_competitive\": 1.0, \"bus_difference_spread\": 0.0, \"route_group\": \"short\", \"max_trip_hrs\": 0.5, \"max_trip_route_group\": 1.0, \"name\": \"Tahoe Transportation District\", \"caltrans_district\": \"03 - Marysville\", \"drmt_organization_name\": null, \"cutoff2\": 15.0, \"cutoff\": 2}, {\"calitp_itp_id\": 331, \"trip_key\": 4135682216224968349, \"trip_id\": \"t_2004498_b_33429_tn_0\", \"shape_id\": \"p_1274591\", \"route_id\": \"TLR\", \"service_hours\": 0.5, \"trip_first_departure_ts\": 27000, \"trip_last_arrival_ts\": 28800, \"departure_hour\": 7, \"time_of_day\": \"AM Peak\", \"p25\": 0.5, \"p50\": 0.5, \"p75\": 0.5, \"p50_trip\": 1, \"fastest_trip\": 0, \"car_duration_hours\": 0.32, \"competitive_route\": 1, \"bus_multiplier\": 1.56, \"bus_difference\": 10.8, \"num_trips\": 24, \"num_competitive\": 24, \"pct_trips_competitive\": 1.0, \"bus_difference_spread\": 0.0, \"route_group\": \"short\", \"max_trip_hrs\": 0.5, \"max_trip_route_group\": 1.0, \"name\": \"Tahoe Transportation District\", \"caltrans_district\": \"03 - Marysville\", \"drmt_organization_name\": null, \"cutoff2\": 15.0, \"cutoff\": 2}, {\"calitp_itp_id\": 331, \"trip_key\": 8200791930269059843, \"trip_id\": \"t_2004509_b_33429_tn_0\", \"shape_id\": \"p_1274596\", \"route_id\": \"TLR\", \"service_hours\": 0.5, \"trip_first_departure_ts\": 28800, \"trip_last_arrival_ts\": 30600, \"departure_hour\": 8, \"time_of_day\": \"AM Peak\", \"p25\": 0.5, \"p50\": 0.5, \"p75\": 0.5, \"p50_trip\": 1, \"fastest_trip\": 0, \"car_duration_hours\": 0.32, \"competitive_route\": 1, \"bus_multiplier\": 1.56, \"bus_difference\": 10.8, \"num_trips\": 24, \"num_competitive\": 24, \"pct_trips_competitive\": 1.0, \"bus_difference_spread\": 0.0, \"route_group\": \"short\", \"max_trip_hrs\": 0.5, \"max_trip_route_group\": 1.0, \"name\": \"Tahoe Transportation District\", \"caltrans_district\": \"03 - Marysville\", \"drmt_organization_name\": null, \"cutoff2\": 15.0, \"cutoff\": 2}, {\"calitp_itp_id\": 331, \"trip_key\": 3792647975828051796, \"trip_id\": \"t_2004506_b_33429_tn_0\", \"shape_id\": \"p_1274596\", \"route_id\": \"TLR\", \"service_hours\": 0.5, \"trip_first_departure_ts\": 46800, \"trip_last_arrival_ts\": 48600, \"departure_hour\": 13, \"time_of_day\": \"Midday\", \"p25\": 0.5, \"p50\": 0.5, \"p75\": 0.5, \"p50_trip\": 1, \"fastest_trip\": 0, \"car_duration_hours\": 0.32, \"competitive_route\": 1, \"bus_multiplier\": 1.56, \"bus_difference\": 10.8, \"num_trips\": 24, \"num_competitive\": 24, \"pct_trips_competitive\": 1.0, \"bus_difference_spread\": 0.0, \"route_group\": \"short\", \"max_trip_hrs\": 0.5, \"max_trip_route_group\": 1.0, \"name\": \"Tahoe Transportation District\", \"caltrans_district\": \"03 - Marysville\", \"drmt_organization_name\": null, \"cutoff2\": 15.0, \"cutoff\": 2}, {\"calitp_itp_id\": 331, \"trip_key\": -2456779645928607345, \"trip_id\": \"t_2004507_b_33429_tn_0\", \"shape_id\": \"p_1274596\", \"route_id\": \"TLR\", \"service_hours\": 0.5, \"trip_first_departure_ts\": 64800, \"trip_last_arrival_ts\": 66600, \"departure_hour\": 18, \"time_of_day\": \"PM Peak\", \"p25\": 0.5, \"p50\": 0.5, \"p75\": 0.5, \"p50_trip\": 1, \"fastest_trip\": 1, \"car_duration_hours\": 0.32, \"competitive_route\": 1, \"bus_multiplier\": 1.56, \"bus_difference\": 10.8, \"num_trips\": 24, \"num_competitive\": 24, \"pct_trips_competitive\": 1.0, \"bus_difference_spread\": 0.0, \"route_group\": \"short\", \"max_trip_hrs\": 0.5, \"max_trip_route_group\": 1.0, \"name\": \"Tahoe Transportation District\", \"caltrans_district\": \"03 - Marysville\", \"drmt_organization_name\": null, \"cutoff2\": 15.0, \"cutoff\": 2}, {\"calitp_itp_id\": 331, \"trip_key\": 8605383156232306044, \"trip_id\": \"t_2004515_b_33429_tn_0\", \"shape_id\": \"p_1274596\", \"route_id\": \"TLR\", \"service_hours\": 0.5, \"trip_first_departure_ts\": 54000, \"trip_last_arrival_ts\": 55800, \"departure_hour\": 15, \"time_of_day\": \"Midday\", \"p25\": 0.5, \"p50\": 0.5, \"p75\": 0.5, \"p50_trip\": 1, \"fastest_trip\": 0, \"car_duration_hours\": 0.32, \"competitive_route\": 1, \"bus_multiplier\": 1.56, \"bus_difference\": 10.8, \"num_trips\": 24, \"num_competitive\": 24, \"pct_trips_competitive\": 1.0, \"bus_difference_spread\": 0.0, \"route_group\": \"short\", \"max_trip_hrs\": 0.5, \"max_trip_route_group\": 1.0, \"name\": \"Tahoe Transportation District\", \"caltrans_district\": \"03 - Marysville\", \"drmt_organization_name\": null, \"cutoff2\": 15.0, \"cutoff\": 2}, {\"calitp_itp_id\": 331, \"trip_key\": -161080458889029591, \"trip_id\": \"t_2004501_b_33429_tn_0\", \"shape_id\": \"p_1274591\", \"route_id\": \"TLR\", \"service_hours\": 0.5, \"trip_first_departure_ts\": 37800, \"trip_last_arrival_ts\": 39600, \"departure_hour\": 10, \"time_of_day\": \"Midday\", \"p25\": 0.5, \"p50\": 0.5, \"p75\": 0.5, \"p50_trip\": 1, \"fastest_trip\": 0, \"car_duration_hours\": 0.32, \"competitive_route\": 1, \"bus_multiplier\": 1.56, \"bus_difference\": 10.8, \"num_trips\": 24, \"num_competitive\": 24, \"pct_trips_competitive\": 1.0, \"bus_difference_spread\": 0.0, \"route_group\": \"short\", \"max_trip_hrs\": 0.5, \"max_trip_route_group\": 1.0, \"name\": \"Tahoe Transportation District\", \"caltrans_district\": \"03 - Marysville\", \"drmt_organization_name\": null, \"cutoff2\": 15.0, \"cutoff\": 2}, {\"calitp_itp_id\": 331, \"trip_key\": 1889163015414220831, \"trip_id\": \"t_2004517_b_33429_tn_0\", \"shape_id\": \"p_1274596\", \"route_id\": \"TLR\", \"service_hours\": 0.5, \"trip_first_departure_ts\": 61200, \"trip_last_arrival_ts\": 63000, \"departure_hour\": 17, \"time_of_day\": \"PM Peak\", \"p25\": 0.5, \"p50\": 0.5, \"p75\": 0.5, \"p50_trip\": 1, \"fastest_trip\": 0, \"car_duration_hours\": 0.32, \"competitive_route\": 1, \"bus_multiplier\": 1.56, \"bus_difference\": 10.8, \"num_trips\": 24, \"num_competitive\": 24, \"pct_trips_competitive\": 1.0, \"bus_difference_spread\": 0.0, \"route_group\": \"short\", \"max_trip_hrs\": 0.5, \"max_trip_route_group\": 1.0, \"name\": \"Tahoe Transportation District\", \"caltrans_district\": \"03 - Marysville\", \"drmt_organization_name\": null, \"cutoff2\": 15.0, \"cutoff\": 2}, {\"calitp_itp_id\": 331, \"trip_key\": 8724441549001397114, \"trip_id\": \"t_2004496_b_33429_tn_0\", \"shape_id\": \"p_1274591\", \"route_id\": \"TLR\", \"service_hours\": 0.5, \"trip_first_departure_ts\": 55800, \"trip_last_arrival_ts\": 57600, \"departure_hour\": 15, \"time_of_day\": \"Midday\", \"p25\": 0.5, \"p50\": 0.5, \"p75\": 0.5, \"p50_trip\": 1, \"fastest_trip\": 0, \"car_duration_hours\": 0.32, \"competitive_route\": 1, \"bus_multiplier\": 1.56, \"bus_difference\": 10.8, \"num_trips\": 24, \"num_competitive\": 24, \"pct_trips_competitive\": 1.0, \"bus_difference_spread\": 0.0, \"route_group\": \"short\", \"max_trip_hrs\": 0.5, \"max_trip_route_group\": 1.0, \"name\": \"Tahoe Transportation District\", \"caltrans_district\": \"03 - Marysville\", \"drmt_organization_name\": null, \"cutoff2\": 15.0, \"cutoff\": 2}, {\"calitp_itp_id\": 331, \"trip_key\": -3795521193941126777, \"trip_id\": \"t_2004512_b_33429_tn_0\", \"shape_id\": \"p_1274596\", \"route_id\": \"TLR\", \"service_hours\": 0.5, \"trip_first_departure_ts\": 39600, \"trip_last_arrival_ts\": 41400, \"departure_hour\": 11, \"time_of_day\": \"Midday\", \"p25\": 0.5, \"p50\": 0.5, \"p75\": 0.5, \"p50_trip\": 1, \"fastest_trip\": 0, \"car_duration_hours\": 0.32, \"competitive_route\": 1, \"bus_multiplier\": 1.56, \"bus_difference\": 10.8, \"num_trips\": 24, \"num_competitive\": 24, \"pct_trips_competitive\": 1.0, \"bus_difference_spread\": 0.0, \"route_group\": \"short\", \"max_trip_hrs\": 0.5, \"max_trip_route_group\": 1.0, \"name\": \"Tahoe Transportation District\", \"caltrans_district\": \"03 - Marysville\", \"drmt_organization_name\": null, \"cutoff2\": 15.0, \"cutoff\": 2}, {\"calitp_itp_id\": 331, \"trip_key\": 6656100432858758232, \"trip_id\": \"t_2004495_b_33429_tn_0\", \"shape_id\": \"p_1274591\", \"route_id\": \"TLR\", \"service_hours\": 0.5, \"trip_first_departure_ts\": 23400, \"trip_last_arrival_ts\": 25200, \"departure_hour\": 6, \"time_of_day\": \"Owl Service\", \"p25\": 0.5, \"p50\": 0.5, \"p75\": 0.5, \"p50_trip\": 1, \"fastest_trip\": 0, \"car_duration_hours\": 0.32, \"competitive_route\": 1, \"bus_multiplier\": 1.56, \"bus_difference\": 10.8, \"num_trips\": 24, \"num_competitive\": 24, \"pct_trips_competitive\": 1.0, \"bus_difference_spread\": 0.0, \"route_group\": \"short\", \"max_trip_hrs\": 0.5, \"max_trip_route_group\": 1.0, \"name\": \"Tahoe Transportation District\", \"caltrans_district\": \"03 - Marysville\", \"drmt_organization_name\": null, \"cutoff2\": 15.0, \"cutoff\": 2}, {\"calitp_itp_id\": 331, \"trip_key\": -4863038145455105249, \"trip_id\": \"t_2004516_b_33429_tn_0\", \"shape_id\": \"p_1274596\", \"route_id\": \"TLR\", \"service_hours\": 0.5, \"trip_first_departure_ts\": 57600, \"trip_last_arrival_ts\": 59400, \"departure_hour\": 16, \"time_of_day\": \"Midday\", \"p25\": 0.5, \"p50\": 0.5, \"p75\": 0.5, \"p50_trip\": 1, \"fastest_trip\": 0, \"car_duration_hours\": 0.32, \"competitive_route\": 1, \"bus_multiplier\": 1.56, \"bus_difference\": 10.8, \"num_trips\": 24, \"num_competitive\": 24, \"pct_trips_competitive\": 1.0, \"bus_difference_spread\": 0.0, \"route_group\": \"short\", \"max_trip_hrs\": 0.5, \"max_trip_route_group\": 1.0, \"name\": \"Tahoe Transportation District\", \"caltrans_district\": \"03 - Marysville\", \"drmt_organization_name\": null, \"cutoff2\": 15.0, \"cutoff\": 2}, {\"calitp_itp_id\": 331, \"trip_key\": 6793980449567228139, \"trip_id\": \"t_2004514_b_33429_tn_0\", \"shape_id\": \"p_1274596\", \"route_id\": \"TLR\", \"service_hours\": 0.5, \"trip_first_departure_ts\": 50400, \"trip_last_arrival_ts\": 52200, \"departure_hour\": 14, \"time_of_day\": \"Midday\", \"p25\": 0.5, \"p50\": 0.5, \"p75\": 0.5, \"p50_trip\": 1, \"fastest_trip\": 0, \"car_duration_hours\": 0.32, \"competitive_route\": 1, \"bus_multiplier\": 1.56, \"bus_difference\": 10.8, \"num_trips\": 24, \"num_competitive\": 24, \"pct_trips_competitive\": 1.0, \"bus_difference_spread\": 0.0, \"route_group\": \"short\", \"max_trip_hrs\": 0.5, \"max_trip_route_group\": 1.0, \"name\": \"Tahoe Transportation District\", \"caltrans_district\": \"03 - Marysville\", \"drmt_organization_name\": null, \"cutoff2\": 15.0, \"cutoff\": 2}]}}, {\"mode\": \"vega-lite\"});\n",
       "</script>"
      ],
      "text/plain": [
       "alt.FacetChart(...)"
      ]
     },
     "metadata": {},
     "output_type": "display_data"
    },
    {
     "data": {
      "text/html": [
       "\n",
       "<div id=\"altair-viz-298dd4d7c9c34e11944b6af53d32a4e8\"></div>\n",
       "<script type=\"text/javascript\">\n",
       "  var VEGA_DEBUG = (typeof VEGA_DEBUG == \"undefined\") ? {} : VEGA_DEBUG;\n",
       "  (function(spec, embedOpt){\n",
       "    let outputDiv = document.currentScript.previousElementSibling;\n",
       "    if (outputDiv.id !== \"altair-viz-298dd4d7c9c34e11944b6af53d32a4e8\") {\n",
       "      outputDiv = document.getElementById(\"altair-viz-298dd4d7c9c34e11944b6af53d32a4e8\");\n",
       "    }\n",
       "    const paths = {\n",
       "      \"vega\": \"https://cdn.jsdelivr.net/npm//vega@5?noext\",\n",
       "      \"vega-lib\": \"https://cdn.jsdelivr.net/npm//vega-lib?noext\",\n",
       "      \"vega-lite\": \"https://cdn.jsdelivr.net/npm//vega-lite@4.17.0?noext\",\n",
       "      \"vega-embed\": \"https://cdn.jsdelivr.net/npm//vega-embed@6?noext\",\n",
       "    };\n",
       "\n",
       "    function maybeLoadScript(lib, version) {\n",
       "      var key = `${lib.replace(\"-\", \"\")}_version`;\n",
       "      return (VEGA_DEBUG[key] == version) ?\n",
       "        Promise.resolve(paths[lib]) :\n",
       "        new Promise(function(resolve, reject) {\n",
       "          var s = document.createElement('script');\n",
       "          document.getElementsByTagName(\"head\")[0].appendChild(s);\n",
       "          s.async = true;\n",
       "          s.onload = () => {\n",
       "            VEGA_DEBUG[key] = version;\n",
       "            return resolve(paths[lib]);\n",
       "          };\n",
       "          s.onerror = () => reject(`Error loading script: ${paths[lib]}`);\n",
       "          s.src = paths[lib];\n",
       "        });\n",
       "    }\n",
       "\n",
       "    function showError(err) {\n",
       "      outputDiv.innerHTML = `<div class=\"error\" style=\"color:red;\">${err}</div>`;\n",
       "      throw err;\n",
       "    }\n",
       "\n",
       "    function displayChart(vegaEmbed) {\n",
       "      vegaEmbed(outputDiv, spec, embedOpt)\n",
       "        .catch(err => showError(`Javascript Error: ${err.message}<br>This usually means there's a typo in your chart specification. See the javascript console for the full traceback.`));\n",
       "    }\n",
       "\n",
       "    if(typeof define === \"function\" && define.amd) {\n",
       "      requirejs.config({paths});\n",
       "      require([\"vega-embed\"], displayChart, err => showError(`Error loading script: ${err.message}`));\n",
       "    } else {\n",
       "      maybeLoadScript(\"vega\", \"5\")\n",
       "        .then(() => maybeLoadScript(\"vega-lite\", \"4.17.0\"))\n",
       "        .then(() => maybeLoadScript(\"vega-embed\", \"6\"))\n",
       "        .catch(showError)\n",
       "        .then(() => displayChart(vegaEmbed));\n",
       "    }\n",
       "  })({\"config\": {\"view\": {\"continuousWidth\": 400, \"continuousHeight\": 300, \"stroke\": null}, \"facet\": {\"spacing\": 0}}, \"data\": {\"name\": \"data-dd53601bf25896f6aef3c9c521b71219\"}, \"facet\": {\"column\": {\"field\": \"route_id\", \"sort\": [\"TLR\", \"Hwy89\", \"NSPM\", \"2595\"], \"title\": \"Route ID\", \"type\": \"nominal\"}}, \"spec\": {\"layer\": [{\"mark\": {\"type\": \"point\", \"opacity\": 0.65, \"size\": 12, \"strokeWidth\": 1.1}, \"encoding\": {\"color\": {\"field\": \"time_of_day\", \"scale\": {\"range\": [\"#136C97\", \"#E16B26\", \"#F6BF16\", \"#00896B\", \"#7790A3\", \"#5B559C\"]}, \"sort\": [\"AM Peak\", \"Midday\", \"PM Peak\", \"Owl Service\"], \"title\": \"Time of Day\", \"type\": \"nominal\"}, \"tooltip\": [{\"field\": \"route_id\", \"type\": \"nominal\"}, {\"field\": \"trip_id\", \"type\": \"nominal\"}, {\"field\": \"service_hours\", \"type\": \"quantitative\"}, {\"field\": \"car_duration_hours\", \"type\": \"quantitative\"}, {\"field\": \"bus_multiplier\", \"type\": \"quantitative\"}, {\"field\": \"bus_difference\", \"type\": \"quantitative\"}, {\"field\": \"num_trips\", \"type\": \"quantitative\"}, {\"field\": \"num_competitive\", \"type\": \"quantitative\"}, {\"field\": \"pct_trips_competitive\", \"type\": \"quantitative\"}, {\"field\": \"p25\", \"type\": \"quantitative\"}, {\"field\": \"p50\", \"type\": \"quantitative\"}, {\"field\": \"p75\", \"type\": \"quantitative\"}], \"x\": {\"axis\": {\"grid\": false, \"labels\": false, \"ticks\": true, \"values\": [0]}, \"field\": \"jitter\", \"scale\": {}, \"title\": null, \"type\": \"quantitative\"}, \"y\": {\"field\": \"bus_difference\", \"scale\": {\"domain\": [-5, 24.6]}, \"title\": \"Difference in Bus to Car Travel Time (min)\", \"type\": \"quantitative\"}}, \"selection\": {\"selector002\": {\"type\": \"interval\", \"bind\": \"scales\", \"encodings\": [\"x\", \"y\"]}}, \"transform\": [{\"calculate\": \"sqrt(-2*log(random()))*cos(2*PI*random())\", \"as\": \"jitter\"}], \"width\": 60}, {\"layer\": [{\"mark\": {\"type\": \"point\", \"opacity\": 0.6, \"size\": 20, \"strokeWidth\": 1.3}, \"encoding\": {\"color\": {\"value\": \"#323434\"}, \"y\": {\"field\": \"bus_difference\", \"type\": \"quantitative\"}}, \"transform\": [{\"filter\": \"(datum.p50_trip === 1)\"}]}, {\"mark\": {\"type\": \"rule\", \"strokeDash\": [2, 3]}, \"encoding\": {\"color\": {\"value\": \"#323434\"}, \"y\": {\"field\": \"cutoff\", \"type\": \"quantitative\"}}}, {\"mark\": {\"type\": \"rule\", \"strokeDash\": [2, 3]}, \"encoding\": {\"color\": {\"value\": \"#136C97\"}, \"y\": {\"field\": \"cutoff2\", \"type\": \"quantitative\"}}}, {\"mark\": {\"type\": \"text\", \"align\": \"center\", \"baseline\": \"middle\"}, \"encoding\": {\"color\": {\"value\": \"black\"}, \"text\": {\"field\": \"pct_trips_competitive\", \"format\": \".0%\", \"type\": \"quantitative\"}, \"tooltip\": [{\"field\": \"route_id\", \"type\": \"nominal\"}, {\"field\": \"trip_id\", \"type\": \"nominal\"}, {\"field\": \"service_hours\", \"type\": \"quantitative\"}, {\"field\": \"car_duration_hours\", \"type\": \"quantitative\"}, {\"field\": \"bus_multiplier\", \"type\": \"quantitative\"}, {\"field\": \"bus_difference\", \"type\": \"quantitative\"}, {\"field\": \"num_trips\", \"type\": \"quantitative\"}, {\"field\": \"num_competitive\", \"type\": \"quantitative\"}, {\"field\": \"pct_trips_competitive\", \"type\": \"quantitative\"}, {\"field\": \"p25\", \"type\": \"quantitative\"}, {\"field\": \"p50\", \"type\": \"quantitative\"}, {\"field\": \"p75\", \"type\": \"quantitative\"}], \"x\": {\"value\": 30}, \"y\": {\"value\": 15}}, \"transform\": [{\"calculate\": \"sqrt(-2*log(random()))*cos(2*PI*random())\", \"as\": \"jitter\"}, {\"filter\": \"(datum.fastest_trip === 1)\"}]}]}]}, \"resolve\": {\"scale\": {\"y\": \"shared\"}}, \"title\": \"Difference in Bus to Car Travel Time (min)\", \"$schema\": \"https://vega.github.io/schema/vega-lite/v4.17.0.json\", \"datasets\": {\"data-dd53601bf25896f6aef3c9c521b71219\": [{\"calitp_itp_id\": 331, \"trip_key\": 8784649576202984942, \"trip_id\": \"t_914865_b_23399_tn_0\", \"shape_id\": \"p_180377\", \"route_id\": \"2595\", \"service_hours\": 1.0, \"trip_first_departure_ts\": 54900, \"trip_last_arrival_ts\": 58500, \"departure_hour\": 15, \"time_of_day\": \"Midday\", \"p25\": 1.0, \"p50\": 1.0, \"p75\": 1.0, \"p50_trip\": 1, \"fastest_trip\": 1, \"car_duration_hours\": 1.06, \"competitive_route\": 1, \"bus_multiplier\": 0.94, \"bus_difference\": -3.6, \"num_trips\": 6, \"num_competitive\": 6, \"pct_trips_competitive\": 1.0, \"bus_difference_spread\": 0.0, \"route_group\": \"short\", \"max_trip_hrs\": 1.0, \"max_trip_route_group\": 1.0, \"name\": \"Tahoe Transportation District\", \"caltrans_district\": \"03 - Marysville\", \"drmt_organization_name\": null, \"cutoff2\": 15.0, \"cutoff\": 0}, {\"calitp_itp_id\": 331, \"trip_key\": -1675236331378341992, \"trip_id\": \"t_914887_b_23399_tn_0\", \"shape_id\": \"p_898040\", \"route_id\": \"2595\", \"service_hours\": 1.0, \"trip_first_departure_ts\": 51300, \"trip_last_arrival_ts\": 54900, \"departure_hour\": 14, \"time_of_day\": \"Midday\", \"p25\": 1.0, \"p50\": 1.0, \"p75\": 1.0, \"p50_trip\": 1, \"fastest_trip\": 0, \"car_duration_hours\": 1.06, \"competitive_route\": 1, \"bus_multiplier\": 0.94, \"bus_difference\": -3.6, \"num_trips\": 6, \"num_competitive\": 6, \"pct_trips_competitive\": 1.0, \"bus_difference_spread\": 0.0, \"route_group\": \"short\", \"max_trip_hrs\": 1.0, \"max_trip_route_group\": 1.0, \"name\": \"Tahoe Transportation District\", \"caltrans_district\": \"03 - Marysville\", \"drmt_organization_name\": null, \"cutoff2\": 15.0, \"cutoff\": 0}, {\"calitp_itp_id\": 331, \"trip_key\": -3393943484857250833, \"trip_id\": \"t_914882_b_23399_tn_0\", \"shape_id\": \"p_180377\", \"route_id\": \"2595\", \"service_hours\": 1.0, \"trip_first_departure_ts\": 37800, \"trip_last_arrival_ts\": 41400, \"departure_hour\": 10, \"time_of_day\": \"Midday\", \"p25\": 1.0, \"p50\": 1.0, \"p75\": 1.0, \"p50_trip\": 1, \"fastest_trip\": 0, \"car_duration_hours\": 1.06, \"competitive_route\": 1, \"bus_multiplier\": 0.94, \"bus_difference\": -3.6, \"num_trips\": 6, \"num_competitive\": 6, \"pct_trips_competitive\": 1.0, \"bus_difference_spread\": 0.0, \"route_group\": \"short\", \"max_trip_hrs\": 1.0, \"max_trip_route_group\": 1.0, \"name\": \"Tahoe Transportation District\", \"caltrans_district\": \"03 - Marysville\", \"drmt_organization_name\": null, \"cutoff2\": 15.0, \"cutoff\": 0}, {\"calitp_itp_id\": 331, \"trip_key\": -5549073839751173756, \"trip_id\": \"t_914864_b_23399_tn_0\", \"shape_id\": \"p_180376\", \"route_id\": \"2595\", \"service_hours\": 1.0, \"trip_first_departure_ts\": 33300, \"trip_last_arrival_ts\": 36900, \"departure_hour\": 9, \"time_of_day\": \"AM Peak\", \"p25\": 1.0, \"p50\": 1.0, \"p75\": 1.0, \"p50_trip\": 1, \"fastest_trip\": 0, \"car_duration_hours\": 1.06, \"competitive_route\": 1, \"bus_multiplier\": 0.94, \"bus_difference\": -3.6, \"num_trips\": 6, \"num_competitive\": 6, \"pct_trips_competitive\": 1.0, \"bus_difference_spread\": 0.0, \"route_group\": \"short\", \"max_trip_hrs\": 1.0, \"max_trip_route_group\": 1.0, \"name\": \"Tahoe Transportation District\", \"caltrans_district\": \"03 - Marysville\", \"drmt_organization_name\": null, \"cutoff2\": 15.0, \"cutoff\": 0}, {\"calitp_itp_id\": 331, \"trip_key\": -6355227295794759449, \"trip_id\": \"t_914866_b_23399_tn_0\", \"shape_id\": \"p_180377\", \"route_id\": \"2595\", \"service_hours\": 1.0, \"trip_first_departure_ts\": 86400, \"trip_last_arrival_ts\": 90000, \"departure_hour\": 0, \"time_of_day\": \"Owl Service\", \"p25\": 1.0, \"p50\": 1.0, \"p75\": 1.0, \"p50_trip\": 1, \"fastest_trip\": 0, \"car_duration_hours\": 1.06, \"competitive_route\": 1, \"bus_multiplier\": 0.94, \"bus_difference\": -3.6, \"num_trips\": 6, \"num_competitive\": 6, \"pct_trips_competitive\": 1.0, \"bus_difference_spread\": 0.0, \"route_group\": \"short\", \"max_trip_hrs\": 1.0, \"max_trip_route_group\": 1.0, \"name\": \"Tahoe Transportation District\", \"caltrans_district\": \"03 - Marysville\", \"drmt_organization_name\": null, \"cutoff2\": 15.0, \"cutoff\": 0}, {\"calitp_itp_id\": 331, \"trip_key\": 3931985520374814100, \"trip_id\": \"t_914863_b_23399_tn_0\", \"shape_id\": \"p_180376\", \"route_id\": \"2595\", \"service_hours\": 1.0, \"trip_first_departure_ts\": 21600, \"trip_last_arrival_ts\": 25200, \"departure_hour\": 6, \"time_of_day\": \"Owl Service\", \"p25\": 1.0, \"p50\": 1.0, \"p75\": 1.0, \"p50_trip\": 1, \"fastest_trip\": 0, \"car_duration_hours\": 1.06, \"competitive_route\": 1, \"bus_multiplier\": 0.94, \"bus_difference\": -3.6, \"num_trips\": 6, \"num_competitive\": 6, \"pct_trips_competitive\": 1.0, \"bus_difference_spread\": 0.0, \"route_group\": \"short\", \"max_trip_hrs\": 1.0, \"max_trip_route_group\": 1.0, \"name\": \"Tahoe Transportation District\", \"caltrans_district\": \"03 - Marysville\", \"drmt_organization_name\": null, \"cutoff2\": 15.0, \"cutoff\": 0}, {\"calitp_itp_id\": 331, \"trip_key\": 688036126415307865, \"trip_id\": \"t_2004544_b_33429_tn_0\", \"shape_id\": \"p_375065\", \"route_id\": \"Hwy89\", \"service_hours\": 0.5, \"trip_first_departure_ts\": 21600, \"trip_last_arrival_ts\": 23400, \"departure_hour\": 6, \"time_of_day\": \"Owl Service\", \"p25\": 0.67, \"p50\": 0.67, \"p75\": 0.75, \"p50_trip\": 0, \"fastest_trip\": 1, \"car_duration_hours\": 0.56, \"competitive_route\": 1, \"bus_multiplier\": 0.89, \"bus_difference\": -3.6, \"num_trips\": 23, \"num_competitive\": 23, \"pct_trips_competitive\": 1.0, \"bus_difference_spread\": 28.2, \"route_group\": \"short\", \"max_trip_hrs\": 0.97, \"max_trip_route_group\": 1.0, \"name\": \"Tahoe Transportation District\", \"caltrans_district\": \"03 - Marysville\", \"drmt_organization_name\": null, \"cutoff2\": 15.0, \"cutoff\": 0}, {\"calitp_itp_id\": 331, \"trip_key\": -6362918574907679911, \"trip_id\": \"t_2004452_b_33429_tn_0\", \"shape_id\": \"p_375063\", \"route_id\": \"Hwy89\", \"service_hours\": 0.67, \"trip_first_departure_ts\": 60600, \"trip_last_arrival_ts\": 63000, \"departure_hour\": 16, \"time_of_day\": \"Midday\", \"p25\": 0.67, \"p50\": 0.67, \"p75\": 0.75, \"p50_trip\": 1, \"fastest_trip\": 0, \"car_duration_hours\": 0.56, \"competitive_route\": 1, \"bus_multiplier\": 1.2, \"bus_difference\": 6.6, \"num_trips\": 23, \"num_competitive\": 23, \"pct_trips_competitive\": 1.0, \"bus_difference_spread\": 28.2, \"route_group\": \"short\", \"max_trip_hrs\": 0.97, \"max_trip_route_group\": 1.0, \"name\": \"Tahoe Transportation District\", \"caltrans_district\": \"03 - Marysville\", \"drmt_organization_name\": null, \"cutoff2\": 15.0, \"cutoff\": 0}, {\"calitp_itp_id\": 331, \"trip_key\": -3172313026718095947, \"trip_id\": \"t_2004438_b_33429_tn_0\", \"shape_id\": \"p_375063\", \"route_id\": \"Hwy89\", \"service_hours\": 0.67, \"trip_first_departure_ts\": 23400, \"trip_last_arrival_ts\": 25800, \"departure_hour\": 6, \"time_of_day\": \"Owl Service\", \"p25\": 0.67, \"p50\": 0.67, \"p75\": 0.75, \"p50_trip\": 1, \"fastest_trip\": 0, \"car_duration_hours\": 0.56, \"competitive_route\": 1, \"bus_multiplier\": 1.2, \"bus_difference\": 6.6, \"num_trips\": 23, \"num_competitive\": 23, \"pct_trips_competitive\": 1.0, \"bus_difference_spread\": 28.2, \"route_group\": \"short\", \"max_trip_hrs\": 0.97, \"max_trip_route_group\": 1.0, \"name\": \"Tahoe Transportation District\", \"caltrans_district\": \"03 - Marysville\", \"drmt_organization_name\": null, \"cutoff2\": 15.0, \"cutoff\": 0}, {\"calitp_itp_id\": 331, \"trip_key\": -4508239110201215306, \"trip_id\": \"t_2004442_b_33429_tn_0\", \"shape_id\": \"p_375063\", \"route_id\": \"Hwy89\", \"service_hours\": 0.67, \"trip_first_departure_ts\": 41400, \"trip_last_arrival_ts\": 43800, \"departure_hour\": 11, \"time_of_day\": \"Midday\", \"p25\": 0.67, \"p50\": 0.67, \"p75\": 0.75, \"p50_trip\": 1, \"fastest_trip\": 0, \"car_duration_hours\": 0.56, \"competitive_route\": 1, \"bus_multiplier\": 1.2, \"bus_difference\": 6.6, \"num_trips\": 23, \"num_competitive\": 23, \"pct_trips_competitive\": 1.0, \"bus_difference_spread\": 28.2, \"route_group\": \"short\", \"max_trip_hrs\": 0.97, \"max_trip_route_group\": 1.0, \"name\": \"Tahoe Transportation District\", \"caltrans_district\": \"03 - Marysville\", \"drmt_organization_name\": null, \"cutoff2\": 15.0, \"cutoff\": 0}, {\"calitp_itp_id\": 331, \"trip_key\": 6274621387372425588, \"trip_id\": \"t_2004440_b_33429_tn_0\", \"shape_id\": \"p_375063\", \"route_id\": \"Hwy89\", \"service_hours\": 0.67, \"trip_first_departure_ts\": 34200, \"trip_last_arrival_ts\": 36600, \"departure_hour\": 9, \"time_of_day\": \"AM Peak\", \"p25\": 0.67, \"p50\": 0.67, \"p75\": 0.75, \"p50_trip\": 1, \"fastest_trip\": 0, \"car_duration_hours\": 0.56, \"competitive_route\": 1, \"bus_multiplier\": 1.2, \"bus_difference\": 6.6, \"num_trips\": 23, \"num_competitive\": 23, \"pct_trips_competitive\": 1.0, \"bus_difference_spread\": 28.2, \"route_group\": \"short\", \"max_trip_hrs\": 0.97, \"max_trip_route_group\": 1.0, \"name\": \"Tahoe Transportation District\", \"caltrans_district\": \"03 - Marysville\", \"drmt_organization_name\": null, \"cutoff2\": 15.0, \"cutoff\": 0}, {\"calitp_itp_id\": 331, \"trip_key\": -5606335996279764442, \"trip_id\": \"t_2004451_b_33429_tn_0\", \"shape_id\": \"p_375063\", \"route_id\": \"Hwy89\", \"service_hours\": 0.67, \"trip_first_departure_ts\": 57000, \"trip_last_arrival_ts\": 59400, \"departure_hour\": 15, \"time_of_day\": \"Midday\", \"p25\": 0.67, \"p50\": 0.67, \"p75\": 0.75, \"p50_trip\": 1, \"fastest_trip\": 0, \"car_duration_hours\": 0.56, \"competitive_route\": 1, \"bus_multiplier\": 1.2, \"bus_difference\": 6.6, \"num_trips\": 23, \"num_competitive\": 23, \"pct_trips_competitive\": 1.0, \"bus_difference_spread\": 28.2, \"route_group\": \"short\", \"max_trip_hrs\": 0.97, \"max_trip_route_group\": 1.0, \"name\": \"Tahoe Transportation District\", \"caltrans_district\": \"03 - Marysville\", \"drmt_organization_name\": null, \"cutoff2\": 15.0, \"cutoff\": 0}, {\"calitp_itp_id\": 331, \"trip_key\": -1584286957296332015, \"trip_id\": \"t_2004441_b_33429_tn_0\", \"shape_id\": \"p_375063\", \"route_id\": \"Hwy89\", \"service_hours\": 0.67, \"trip_first_departure_ts\": 37800, \"trip_last_arrival_ts\": 40200, \"departure_hour\": 10, \"time_of_day\": \"Midday\", \"p25\": 0.67, \"p50\": 0.67, \"p75\": 0.75, \"p50_trip\": 1, \"fastest_trip\": 0, \"car_duration_hours\": 0.56, \"competitive_route\": 1, \"bus_multiplier\": 1.2, \"bus_difference\": 6.6, \"num_trips\": 23, \"num_competitive\": 23, \"pct_trips_competitive\": 1.0, \"bus_difference_spread\": 28.2, \"route_group\": \"short\", \"max_trip_hrs\": 0.97, \"max_trip_route_group\": 1.0, \"name\": \"Tahoe Transportation District\", \"caltrans_district\": \"03 - Marysville\", \"drmt_organization_name\": null, \"cutoff2\": 15.0, \"cutoff\": 0}, {\"calitp_itp_id\": 331, \"trip_key\": 6922158302155628860, \"trip_id\": \"t_2004348_b_33429_tn_0\", \"shape_id\": \"p_375063\", \"route_id\": \"Hwy89\", \"service_hours\": 0.67, \"trip_first_departure_ts\": 30600, \"trip_last_arrival_ts\": 33000, \"departure_hour\": 8, \"time_of_day\": \"AM Peak\", \"p25\": 0.67, \"p50\": 0.67, \"p75\": 0.75, \"p50_trip\": 1, \"fastest_trip\": 0, \"car_duration_hours\": 0.56, \"competitive_route\": 1, \"bus_multiplier\": 1.2, \"bus_difference\": 6.6, \"num_trips\": 23, \"num_competitive\": 23, \"pct_trips_competitive\": 1.0, \"bus_difference_spread\": 28.2, \"route_group\": \"short\", \"max_trip_hrs\": 0.97, \"max_trip_route_group\": 1.0, \"name\": \"Tahoe Transportation District\", \"caltrans_district\": \"03 - Marysville\", \"drmt_organization_name\": null, \"cutoff2\": 15.0, \"cutoff\": 0}, {\"calitp_itp_id\": 331, \"trip_key\": -5012900938655457337, \"trip_id\": \"t_2004439_b_33429_tn_0\", \"shape_id\": \"p_375063\", \"route_id\": \"Hwy89\", \"service_hours\": 0.67, \"trip_first_departure_ts\": 27000, \"trip_last_arrival_ts\": 29400, \"departure_hour\": 7, \"time_of_day\": \"AM Peak\", \"p25\": 0.67, \"p50\": 0.67, \"p75\": 0.75, \"p50_trip\": 1, \"fastest_trip\": 0, \"car_duration_hours\": 0.56, \"competitive_route\": 1, \"bus_multiplier\": 1.2, \"bus_difference\": 6.6, \"num_trips\": 23, \"num_competitive\": 23, \"pct_trips_competitive\": 1.0, \"bus_difference_spread\": 28.2, \"route_group\": \"short\", \"max_trip_hrs\": 0.97, \"max_trip_route_group\": 1.0, \"name\": \"Tahoe Transportation District\", \"caltrans_district\": \"03 - Marysville\", \"drmt_organization_name\": null, \"cutoff2\": 15.0, \"cutoff\": 0}, {\"calitp_itp_id\": 331, \"trip_key\": 484579570077596865, \"trip_id\": \"t_2004450_b_33429_tn_0\", \"shape_id\": \"p_375063\", \"route_id\": \"Hwy89\", \"service_hours\": 0.67, \"trip_first_departure_ts\": 52200, \"trip_last_arrival_ts\": 54600, \"departure_hour\": 14, \"time_of_day\": \"Midday\", \"p25\": 0.67, \"p50\": 0.67, \"p75\": 0.75, \"p50_trip\": 1, \"fastest_trip\": 0, \"car_duration_hours\": 0.56, \"competitive_route\": 1, \"bus_multiplier\": 1.2, \"bus_difference\": 6.6, \"num_trips\": 23, \"num_competitive\": 23, \"pct_trips_competitive\": 1.0, \"bus_difference_spread\": 28.2, \"route_group\": \"short\", \"max_trip_hrs\": 0.97, \"max_trip_route_group\": 1.0, \"name\": \"Tahoe Transportation District\", \"caltrans_district\": \"03 - Marysville\", \"drmt_organization_name\": null, \"cutoff2\": 15.0, \"cutoff\": 0}, {\"calitp_itp_id\": 331, \"trip_key\": -3852992652864342360, \"trip_id\": \"t_2004443_b_33429_tn_0\", \"shape_id\": \"p_375063\", \"route_id\": \"Hwy89\", \"service_hours\": 0.67, \"trip_first_departure_ts\": 45000, \"trip_last_arrival_ts\": 47400, \"departure_hour\": 12, \"time_of_day\": \"Midday\", \"p25\": 0.67, \"p50\": 0.67, \"p75\": 0.75, \"p50_trip\": 1, \"fastest_trip\": 0, \"car_duration_hours\": 0.56, \"competitive_route\": 1, \"bus_multiplier\": 1.2, \"bus_difference\": 6.6, \"num_trips\": 23, \"num_competitive\": 23, \"pct_trips_competitive\": 1.0, \"bus_difference_spread\": 28.2, \"route_group\": \"short\", \"max_trip_hrs\": 0.97, \"max_trip_route_group\": 1.0, \"name\": \"Tahoe Transportation District\", \"caltrans_district\": \"03 - Marysville\", \"drmt_organization_name\": null, \"cutoff2\": 15.0, \"cutoff\": 0}, {\"calitp_itp_id\": 331, \"trip_key\": 4576837978246395402, \"trip_id\": \"t_2004444_b_33429_tn_0\", \"shape_id\": \"p_375063\", \"route_id\": \"Hwy89\", \"service_hours\": 0.67, \"trip_first_departure_ts\": 48600, \"trip_last_arrival_ts\": 51000, \"departure_hour\": 13, \"time_of_day\": \"Midday\", \"p25\": 0.67, \"p50\": 0.67, \"p75\": 0.75, \"p50_trip\": 1, \"fastest_trip\": 0, \"car_duration_hours\": 0.56, \"competitive_route\": 1, \"bus_multiplier\": 1.2, \"bus_difference\": 6.6, \"num_trips\": 23, \"num_competitive\": 23, \"pct_trips_competitive\": 1.0, \"bus_difference_spread\": 28.2, \"route_group\": \"short\", \"max_trip_hrs\": 0.97, \"max_trip_route_group\": 1.0, \"name\": \"Tahoe Transportation District\", \"caltrans_district\": \"03 - Marysville\", \"drmt_organization_name\": null, \"cutoff2\": 15.0, \"cutoff\": 0}, {\"calitp_itp_id\": 331, \"trip_key\": 1665826919107488859, \"trip_id\": \"t_2004461_b_33429_tn_0\", \"shape_id\": \"p_375065\", \"route_id\": \"Hwy89\", \"service_hours\": 0.75, \"trip_first_departure_ts\": 27000, \"trip_last_arrival_ts\": 29700, \"departure_hour\": 7, \"time_of_day\": \"AM Peak\", \"p25\": 0.67, \"p50\": 0.67, \"p75\": 0.75, \"p50_trip\": 0, \"fastest_trip\": 0, \"car_duration_hours\": 0.56, \"competitive_route\": 1, \"bus_multiplier\": 1.34, \"bus_difference\": 11.4, \"num_trips\": 23, \"num_competitive\": 23, \"pct_trips_competitive\": 1.0, \"bus_difference_spread\": 28.2, \"route_group\": \"short\", \"max_trip_hrs\": 0.97, \"max_trip_route_group\": 1.0, \"name\": \"Tahoe Transportation District\", \"caltrans_district\": \"03 - Marysville\", \"drmt_organization_name\": null, \"cutoff2\": 15.0, \"cutoff\": 0}, {\"calitp_itp_id\": 331, \"trip_key\": 3831303295993535788, \"trip_id\": \"t_2004334_b_33429_tn_0\", \"shape_id\": \"p_375065\", \"route_id\": \"Hwy89\", \"service_hours\": 0.75, \"trip_first_departure_ts\": 37800, \"trip_last_arrival_ts\": 40500, \"departure_hour\": 10, \"time_of_day\": \"Midday\", \"p25\": 0.67, \"p50\": 0.67, \"p75\": 0.75, \"p50_trip\": 0, \"fastest_trip\": 0, \"car_duration_hours\": 0.56, \"competitive_route\": 1, \"bus_multiplier\": 1.34, \"bus_difference\": 11.4, \"num_trips\": 23, \"num_competitive\": 23, \"pct_trips_competitive\": 1.0, \"bus_difference_spread\": 28.2, \"route_group\": \"short\", \"max_trip_hrs\": 0.97, \"max_trip_route_group\": 1.0, \"name\": \"Tahoe Transportation District\", \"caltrans_district\": \"03 - Marysville\", \"drmt_organization_name\": null, \"cutoff2\": 15.0, \"cutoff\": 0}, {\"calitp_itp_id\": 331, \"trip_key\": 1166289118550898938, \"trip_id\": \"t_2004460_b_33429_tn_0\", \"shape_id\": \"p_375065\", \"route_id\": \"Hwy89\", \"service_hours\": 0.75, \"trip_first_departure_ts\": 48600, \"trip_last_arrival_ts\": 51300, \"departure_hour\": 13, \"time_of_day\": \"Midday\", \"p25\": 0.67, \"p50\": 0.67, \"p75\": 0.75, \"p50_trip\": 0, \"fastest_trip\": 0, \"car_duration_hours\": 0.56, \"competitive_route\": 1, \"bus_multiplier\": 1.34, \"bus_difference\": 11.4, \"num_trips\": 23, \"num_competitive\": 23, \"pct_trips_competitive\": 1.0, \"bus_difference_spread\": 28.2, \"route_group\": \"short\", \"max_trip_hrs\": 0.97, \"max_trip_route_group\": 1.0, \"name\": \"Tahoe Transportation District\", \"caltrans_district\": \"03 - Marysville\", \"drmt_organization_name\": null, \"cutoff2\": 15.0, \"cutoff\": 0}, {\"calitp_itp_id\": 331, \"trip_key\": -8711609364182877631, \"trip_id\": \"t_2004336_b_33429_tn_0\", \"shape_id\": \"p_375065\", \"route_id\": \"Hwy89\", \"service_hours\": 0.75, \"trip_first_departure_ts\": 45000, \"trip_last_arrival_ts\": 47700, \"departure_hour\": 12, \"time_of_day\": \"Midday\", \"p25\": 0.67, \"p50\": 0.67, \"p75\": 0.75, \"p50_trip\": 0, \"fastest_trip\": 0, \"car_duration_hours\": 0.56, \"competitive_route\": 1, \"bus_multiplier\": 1.34, \"bus_difference\": 11.4, \"num_trips\": 23, \"num_competitive\": 23, \"pct_trips_competitive\": 1.0, \"bus_difference_spread\": 28.2, \"route_group\": \"short\", \"max_trip_hrs\": 0.97, \"max_trip_route_group\": 1.0, \"name\": \"Tahoe Transportation District\", \"caltrans_district\": \"03 - Marysville\", \"drmt_organization_name\": null, \"cutoff2\": 15.0, \"cutoff\": 0}, {\"calitp_itp_id\": 331, \"trip_key\": 517466499945733948, \"trip_id\": \"t_2004462_b_33429_tn_0\", \"shape_id\": \"p_375065\", \"route_id\": \"Hwy89\", \"service_hours\": 0.75, \"trip_first_departure_ts\": 52200, \"trip_last_arrival_ts\": 54900, \"departure_hour\": 14, \"time_of_day\": \"Midday\", \"p25\": 0.67, \"p50\": 0.67, \"p75\": 0.75, \"p50_trip\": 0, \"fastest_trip\": 0, \"car_duration_hours\": 0.56, \"competitive_route\": 1, \"bus_multiplier\": 1.34, \"bus_difference\": 11.4, \"num_trips\": 23, \"num_competitive\": 23, \"pct_trips_competitive\": 1.0, \"bus_difference_spread\": 28.2, \"route_group\": \"short\", \"max_trip_hrs\": 0.97, \"max_trip_route_group\": 1.0, \"name\": \"Tahoe Transportation District\", \"caltrans_district\": \"03 - Marysville\", \"drmt_organization_name\": null, \"cutoff2\": 15.0, \"cutoff\": 0}, {\"calitp_itp_id\": 331, \"trip_key\": 5100469293112655715, \"trip_id\": \"t_2004335_b_33429_tn_0\", \"shape_id\": \"p_375065\", \"route_id\": \"Hwy89\", \"service_hours\": 0.75, \"trip_first_departure_ts\": 41400, \"trip_last_arrival_ts\": 44100, \"departure_hour\": 11, \"time_of_day\": \"Midday\", \"p25\": 0.67, \"p50\": 0.67, \"p75\": 0.75, \"p50_trip\": 0, \"fastest_trip\": 0, \"car_duration_hours\": 0.56, \"competitive_route\": 1, \"bus_multiplier\": 1.34, \"bus_difference\": 11.4, \"num_trips\": 23, \"num_competitive\": 23, \"pct_trips_competitive\": 1.0, \"bus_difference_spread\": 28.2, \"route_group\": \"short\", \"max_trip_hrs\": 0.97, \"max_trip_route_group\": 1.0, \"name\": \"Tahoe Transportation District\", \"caltrans_district\": \"03 - Marysville\", \"drmt_organization_name\": null, \"cutoff2\": 15.0, \"cutoff\": 0}, {\"calitp_itp_id\": 331, \"trip_key\": 3764336723027995280, \"trip_id\": \"t_2004333_b_33429_tn_0\", \"shape_id\": \"p_375065\", \"route_id\": \"Hwy89\", \"service_hours\": 0.75, \"trip_first_departure_ts\": 34200, \"trip_last_arrival_ts\": 36900, \"departure_hour\": 9, \"time_of_day\": \"AM Peak\", \"p25\": 0.67, \"p50\": 0.67, \"p75\": 0.75, \"p50_trip\": 0, \"fastest_trip\": 0, \"car_duration_hours\": 0.56, \"competitive_route\": 1, \"bus_multiplier\": 1.34, \"bus_difference\": 11.4, \"num_trips\": 23, \"num_competitive\": 23, \"pct_trips_competitive\": 1.0, \"bus_difference_spread\": 28.2, \"route_group\": \"short\", \"max_trip_hrs\": 0.97, \"max_trip_route_group\": 1.0, \"name\": \"Tahoe Transportation District\", \"caltrans_district\": \"03 - Marysville\", \"drmt_organization_name\": null, \"cutoff2\": 15.0, \"cutoff\": 0}, {\"calitp_itp_id\": 331, \"trip_key\": 1907104388810407175, \"trip_id\": \"t_2004463_b_33429_tn_0\", \"shape_id\": \"p_375065\", \"route_id\": \"Hwy89\", \"service_hours\": 0.75, \"trip_first_departure_ts\": 30600, \"trip_last_arrival_ts\": 33300, \"departure_hour\": 8, \"time_of_day\": \"AM Peak\", \"p25\": 0.67, \"p50\": 0.67, \"p75\": 0.75, \"p50_trip\": 0, \"fastest_trip\": 0, \"car_duration_hours\": 0.56, \"competitive_route\": 1, \"bus_multiplier\": 1.34, \"bus_difference\": 11.4, \"num_trips\": 23, \"num_competitive\": 23, \"pct_trips_competitive\": 1.0, \"bus_difference_spread\": 28.2, \"route_group\": \"short\", \"max_trip_hrs\": 0.97, \"max_trip_route_group\": 1.0, \"name\": \"Tahoe Transportation District\", \"caltrans_district\": \"03 - Marysville\", \"drmt_organization_name\": null, \"cutoff2\": 15.0, \"cutoff\": 0}, {\"calitp_itp_id\": 331, \"trip_key\": 5006640368970918737, \"trip_id\": \"t_2004453_b_33429_tn_0\", \"shape_id\": \"p_375065\", \"route_id\": \"Hwy89\", \"service_hours\": 0.97, \"trip_first_departure_ts\": 55800, \"trip_last_arrival_ts\": 59280, \"departure_hour\": 15, \"time_of_day\": \"Midday\", \"p25\": 0.67, \"p50\": 0.67, \"p75\": 0.75, \"p50_trip\": 0, \"fastest_trip\": 0, \"car_duration_hours\": 0.56, \"competitive_route\": 1, \"bus_multiplier\": 1.73, \"bus_difference\": 24.6, \"num_trips\": 23, \"num_competitive\": 23, \"pct_trips_competitive\": 1.0, \"bus_difference_spread\": 28.2, \"route_group\": \"short\", \"max_trip_hrs\": 0.97, \"max_trip_route_group\": 1.0, \"name\": \"Tahoe Transportation District\", \"caltrans_district\": \"03 - Marysville\", \"drmt_organization_name\": null, \"cutoff2\": 15.0, \"cutoff\": 0}, {\"calitp_itp_id\": 331, \"trip_key\": 3594916817468595011, \"trip_id\": \"t_2004332_b_33429_tn_0\", \"shape_id\": \"p_375065\", \"route_id\": \"Hwy89\", \"service_hours\": 0.97, \"trip_first_departure_ts\": 59400, \"trip_last_arrival_ts\": 62880, \"departure_hour\": 16, \"time_of_day\": \"Midday\", \"p25\": 0.67, \"p50\": 0.67, \"p75\": 0.75, \"p50_trip\": 0, \"fastest_trip\": 0, \"car_duration_hours\": 0.56, \"competitive_route\": 1, \"bus_multiplier\": 1.73, \"bus_difference\": 24.6, \"num_trips\": 23, \"num_competitive\": 23, \"pct_trips_competitive\": 1.0, \"bus_difference_spread\": 28.2, \"route_group\": \"short\", \"max_trip_hrs\": 0.97, \"max_trip_route_group\": 1.0, \"name\": \"Tahoe Transportation District\", \"caltrans_district\": \"03 - Marysville\", \"drmt_organization_name\": null, \"cutoff2\": 15.0, \"cutoff\": 0}, {\"calitp_itp_id\": 331, \"trip_key\": -9142149494167557290, \"trip_id\": \"t_2004466_b_33429_tn_0\", \"shape_id\": \"p_375065\", \"route_id\": \"Hwy89\", \"service_hours\": 0.97, \"trip_first_departure_ts\": 63000, \"trip_last_arrival_ts\": 66480, \"departure_hour\": 17, \"time_of_day\": \"PM Peak\", \"p25\": 0.67, \"p50\": 0.67, \"p75\": 0.75, \"p50_trip\": 0, \"fastest_trip\": 0, \"car_duration_hours\": 0.56, \"competitive_route\": 1, \"bus_multiplier\": 1.73, \"bus_difference\": 24.6, \"num_trips\": 23, \"num_competitive\": 23, \"pct_trips_competitive\": 1.0, \"bus_difference_spread\": 28.2, \"route_group\": \"short\", \"max_trip_hrs\": 0.97, \"max_trip_route_group\": 1.0, \"name\": \"Tahoe Transportation District\", \"caltrans_district\": \"03 - Marysville\", \"drmt_organization_name\": null, \"cutoff2\": 15.0, \"cutoff\": 0}, {\"calitp_itp_id\": 331, \"trip_key\": 5396783997835403443, \"trip_id\": \"t_2004484_b_33429_tn_0\", \"shape_id\": \"p_375052\", \"route_id\": \"NSPM\", \"service_hours\": 0.42, \"trip_first_departure_ts\": 66600, \"trip_last_arrival_ts\": 68100, \"departure_hour\": 18, \"time_of_day\": \"PM Peak\", \"p25\": 0.42, \"p50\": 0.42, \"p75\": 0.42, \"p50_trip\": 1, \"fastest_trip\": 0, \"car_duration_hours\": 0.28, \"competitive_route\": 1, \"bus_multiplier\": 1.5, \"bus_difference\": 8.4, \"num_trips\": 9, \"num_competitive\": 9, \"pct_trips_competitive\": 1.0, \"bus_difference_spread\": 0.0, \"route_group\": \"short\", \"max_trip_hrs\": 0.42, \"max_trip_route_group\": 1.0, \"name\": \"Tahoe Transportation District\", \"caltrans_district\": \"03 - Marysville\", \"drmt_organization_name\": null, \"cutoff2\": 15.0, \"cutoff\": 0}, {\"calitp_itp_id\": 331, \"trip_key\": 2802782225990289565, \"trip_id\": \"t_2004487_b_33429_tn_0\", \"shape_id\": \"p_375052\", \"route_id\": \"NSPM\", \"service_hours\": 0.42, \"trip_first_departure_ts\": 77400, \"trip_last_arrival_ts\": 78900, \"departure_hour\": 21, \"time_of_day\": \"Owl Service\", \"p25\": 0.42, \"p50\": 0.42, \"p75\": 0.42, \"p50_trip\": 1, \"fastest_trip\": 0, \"car_duration_hours\": 0.28, \"competitive_route\": 1, \"bus_multiplier\": 1.5, \"bus_difference\": 8.4, \"num_trips\": 9, \"num_competitive\": 9, \"pct_trips_competitive\": 1.0, \"bus_difference_spread\": 0.0, \"route_group\": \"short\", \"max_trip_hrs\": 0.42, \"max_trip_route_group\": 1.0, \"name\": \"Tahoe Transportation District\", \"caltrans_district\": \"03 - Marysville\", \"drmt_organization_name\": null, \"cutoff2\": 15.0, \"cutoff\": 0}, {\"calitp_itp_id\": 331, \"trip_key\": 4770400430374252241, \"trip_id\": \"t_2004491_b_33429_tn_0\", \"shape_id\": \"p_375053\", \"route_id\": \"NSPM\", \"service_hours\": 0.42, \"trip_first_departure_ts\": 75600, \"trip_last_arrival_ts\": 77100, \"departure_hour\": 21, \"time_of_day\": \"Owl Service\", \"p25\": 0.42, \"p50\": 0.42, \"p75\": 0.42, \"p50_trip\": 1, \"fastest_trip\": 0, \"car_duration_hours\": 0.28, \"competitive_route\": 1, \"bus_multiplier\": 1.5, \"bus_difference\": 8.4, \"num_trips\": 9, \"num_competitive\": 9, \"pct_trips_competitive\": 1.0, \"bus_difference_spread\": 0.0, \"route_group\": \"short\", \"max_trip_hrs\": 0.42, \"max_trip_route_group\": 1.0, \"name\": \"Tahoe Transportation District\", \"caltrans_district\": \"03 - Marysville\", \"drmt_organization_name\": null, \"cutoff2\": 15.0, \"cutoff\": 0}, {\"calitp_itp_id\": 331, \"trip_key\": 1280572316888989604, \"trip_id\": \"t_2004490_b_33429_tn_0\", \"shape_id\": \"p_375053\", \"route_id\": \"NSPM\", \"service_hours\": 0.42, \"trip_first_departure_ts\": 72000, \"trip_last_arrival_ts\": 73500, \"departure_hour\": 20, \"time_of_day\": \"Owl Service\", \"p25\": 0.42, \"p50\": 0.42, \"p75\": 0.42, \"p50_trip\": 1, \"fastest_trip\": 0, \"car_duration_hours\": 0.28, \"competitive_route\": 1, \"bus_multiplier\": 1.5, \"bus_difference\": 8.4, \"num_trips\": 9, \"num_competitive\": 9, \"pct_trips_competitive\": 1.0, \"bus_difference_spread\": 0.0, \"route_group\": \"short\", \"max_trip_hrs\": 0.42, \"max_trip_route_group\": 1.0, \"name\": \"Tahoe Transportation District\", \"caltrans_district\": \"03 - Marysville\", \"drmt_organization_name\": null, \"cutoff2\": 15.0, \"cutoff\": 0}, {\"calitp_itp_id\": 331, \"trip_key\": -6542656286821304364, \"trip_id\": \"t_2004488_b_33429_tn_0\", \"shape_id\": \"p_375052\", \"route_id\": \"NSPM\", \"service_hours\": 0.42, \"trip_first_departure_ts\": 81000, \"trip_last_arrival_ts\": 82500, \"departure_hour\": 22, \"time_of_day\": \"Owl Service\", \"p25\": 0.42, \"p50\": 0.42, \"p75\": 0.42, \"p50_trip\": 1, \"fastest_trip\": 1, \"car_duration_hours\": 0.28, \"competitive_route\": 1, \"bus_multiplier\": 1.5, \"bus_difference\": 8.4, \"num_trips\": 9, \"num_competitive\": 9, \"pct_trips_competitive\": 1.0, \"bus_difference_spread\": 0.0, \"route_group\": \"short\", \"max_trip_hrs\": 0.42, \"max_trip_route_group\": 1.0, \"name\": \"Tahoe Transportation District\", \"caltrans_district\": \"03 - Marysville\", \"drmt_organization_name\": null, \"cutoff2\": 15.0, \"cutoff\": 0}, {\"calitp_itp_id\": 331, \"trip_key\": 49198910932344251, \"trip_id\": \"t_2004485_b_33429_tn_0\", \"shape_id\": \"p_375052\", \"route_id\": \"NSPM\", \"service_hours\": 0.42, \"trip_first_departure_ts\": 70200, \"trip_last_arrival_ts\": 71700, \"departure_hour\": 19, \"time_of_day\": \"PM Peak\", \"p25\": 0.42, \"p50\": 0.42, \"p75\": 0.42, \"p50_trip\": 1, \"fastest_trip\": 0, \"car_duration_hours\": 0.28, \"competitive_route\": 1, \"bus_multiplier\": 1.5, \"bus_difference\": 8.4, \"num_trips\": 9, \"num_competitive\": 9, \"pct_trips_competitive\": 1.0, \"bus_difference_spread\": 0.0, \"route_group\": \"short\", \"max_trip_hrs\": 0.42, \"max_trip_route_group\": 1.0, \"name\": \"Tahoe Transportation District\", \"caltrans_district\": \"03 - Marysville\", \"drmt_organization_name\": null, \"cutoff2\": 15.0, \"cutoff\": 0}, {\"calitp_itp_id\": 331, \"trip_key\": -6107779799344070859, \"trip_id\": \"t_2004486_b_33429_tn_0\", \"shape_id\": \"p_375052\", \"route_id\": \"NSPM\", \"service_hours\": 0.42, \"trip_first_departure_ts\": 73800, \"trip_last_arrival_ts\": 75300, \"departure_hour\": 20, \"time_of_day\": \"Owl Service\", \"p25\": 0.42, \"p50\": 0.42, \"p75\": 0.42, \"p50_trip\": 1, \"fastest_trip\": 0, \"car_duration_hours\": 0.28, \"competitive_route\": 1, \"bus_multiplier\": 1.5, \"bus_difference\": 8.4, \"num_trips\": 9, \"num_competitive\": 9, \"pct_trips_competitive\": 1.0, \"bus_difference_spread\": 0.0, \"route_group\": \"short\", \"max_trip_hrs\": 0.42, \"max_trip_route_group\": 1.0, \"name\": \"Tahoe Transportation District\", \"caltrans_district\": \"03 - Marysville\", \"drmt_organization_name\": null, \"cutoff2\": 15.0, \"cutoff\": 0}, {\"calitp_itp_id\": 331, \"trip_key\": -5413539132370670733, \"trip_id\": \"t_2004492_b_33429_tn_0\", \"shape_id\": \"p_375053\", \"route_id\": \"NSPM\", \"service_hours\": 0.42, \"trip_first_departure_ts\": 79200, \"trip_last_arrival_ts\": 80700, \"departure_hour\": 22, \"time_of_day\": \"Owl Service\", \"p25\": 0.42, \"p50\": 0.42, \"p75\": 0.42, \"p50_trip\": 1, \"fastest_trip\": 0, \"car_duration_hours\": 0.28, \"competitive_route\": 1, \"bus_multiplier\": 1.5, \"bus_difference\": 8.4, \"num_trips\": 9, \"num_competitive\": 9, \"pct_trips_competitive\": 1.0, \"bus_difference_spread\": 0.0, \"route_group\": \"short\", \"max_trip_hrs\": 0.42, \"max_trip_route_group\": 1.0, \"name\": \"Tahoe Transportation District\", \"caltrans_district\": \"03 - Marysville\", \"drmt_organization_name\": null, \"cutoff2\": 15.0, \"cutoff\": 0}, {\"calitp_itp_id\": 331, \"trip_key\": -6725759630808269819, \"trip_id\": \"t_2004489_b_33429_tn_0\", \"shape_id\": \"p_375053\", \"route_id\": \"NSPM\", \"service_hours\": 0.42, \"trip_first_departure_ts\": 68400, \"trip_last_arrival_ts\": 69900, \"departure_hour\": 19, \"time_of_day\": \"PM Peak\", \"p25\": 0.42, \"p50\": 0.42, \"p75\": 0.42, \"p50_trip\": 1, \"fastest_trip\": 0, \"car_duration_hours\": 0.28, \"competitive_route\": 1, \"bus_multiplier\": 1.5, \"bus_difference\": 8.4, \"num_trips\": 9, \"num_competitive\": 9, \"pct_trips_competitive\": 1.0, \"bus_difference_spread\": 0.0, \"route_group\": \"short\", \"max_trip_hrs\": 0.42, \"max_trip_route_group\": 1.0, \"name\": \"Tahoe Transportation District\", \"caltrans_district\": \"03 - Marysville\", \"drmt_organization_name\": null, \"cutoff2\": 15.0, \"cutoff\": 0}, {\"calitp_itp_id\": 331, \"trip_key\": -1002915690832447426, \"trip_id\": \"t_2004503_b_33429_tn_0\", \"shape_id\": \"p_1274591\", \"route_id\": \"TLR\", \"service_hours\": 0.5, \"trip_first_departure_ts\": 45000, \"trip_last_arrival_ts\": 46800, \"departure_hour\": 12, \"time_of_day\": \"Midday\", \"p25\": 0.5, \"p50\": 0.5, \"p75\": 0.5, \"p50_trip\": 1, \"fastest_trip\": 0, \"car_duration_hours\": 0.32, \"competitive_route\": 1, \"bus_multiplier\": 1.56, \"bus_difference\": 10.8, \"num_trips\": 24, \"num_competitive\": 24, \"pct_trips_competitive\": 1.0, \"bus_difference_spread\": 0.0, \"route_group\": \"short\", \"max_trip_hrs\": 0.5, \"max_trip_route_group\": 1.0, \"name\": \"Tahoe Transportation District\", \"caltrans_district\": \"03 - Marysville\", \"drmt_organization_name\": null, \"cutoff2\": 15.0, \"cutoff\": 0}, {\"calitp_itp_id\": 331, \"trip_key\": 6608519644360398633, \"trip_id\": \"t_2004502_b_33429_tn_0\", \"shape_id\": \"p_1274591\", \"route_id\": \"TLR\", \"service_hours\": 0.5, \"trip_first_departure_ts\": 41400, \"trip_last_arrival_ts\": 43200, \"departure_hour\": 11, \"time_of_day\": \"Midday\", \"p25\": 0.5, \"p50\": 0.5, \"p75\": 0.5, \"p50_trip\": 1, \"fastest_trip\": 0, \"car_duration_hours\": 0.32, \"competitive_route\": 1, \"bus_multiplier\": 1.56, \"bus_difference\": 10.8, \"num_trips\": 24, \"num_competitive\": 24, \"pct_trips_competitive\": 1.0, \"bus_difference_spread\": 0.0, \"route_group\": \"short\", \"max_trip_hrs\": 0.5, \"max_trip_route_group\": 1.0, \"name\": \"Tahoe Transportation District\", \"caltrans_district\": \"03 - Marysville\", \"drmt_organization_name\": null, \"cutoff2\": 15.0, \"cutoff\": 0}, {\"calitp_itp_id\": 331, \"trip_key\": 4689120928495663419, \"trip_id\": \"t_2004500_b_33429_tn_0\", \"shape_id\": \"p_1274591\", \"route_id\": \"TLR\", \"service_hours\": 0.5, \"trip_first_departure_ts\": 34200, \"trip_last_arrival_ts\": 36000, \"departure_hour\": 9, \"time_of_day\": \"AM Peak\", \"p25\": 0.5, \"p50\": 0.5, \"p75\": 0.5, \"p50_trip\": 1, \"fastest_trip\": 0, \"car_duration_hours\": 0.32, \"competitive_route\": 1, \"bus_multiplier\": 1.56, \"bus_difference\": 10.8, \"num_trips\": 24, \"num_competitive\": 24, \"pct_trips_competitive\": 1.0, \"bus_difference_spread\": 0.0, \"route_group\": \"short\", \"max_trip_hrs\": 0.5, \"max_trip_route_group\": 1.0, \"name\": \"Tahoe Transportation District\", \"caltrans_district\": \"03 - Marysville\", \"drmt_organization_name\": null, \"cutoff2\": 15.0, \"cutoff\": 0}, {\"calitp_itp_id\": 331, \"trip_key\": -5159082222425072456, \"trip_id\": \"t_2004513_b_33429_tn_0\", \"shape_id\": \"p_1274596\", \"route_id\": \"TLR\", \"service_hours\": 0.5, \"trip_first_departure_ts\": 43200, \"trip_last_arrival_ts\": 45000, \"departure_hour\": 12, \"time_of_day\": \"Midday\", \"p25\": 0.5, \"p50\": 0.5, \"p75\": 0.5, \"p50_trip\": 1, \"fastest_trip\": 0, \"car_duration_hours\": 0.32, \"competitive_route\": 1, \"bus_multiplier\": 1.56, \"bus_difference\": 10.8, \"num_trips\": 24, \"num_competitive\": 24, \"pct_trips_competitive\": 1.0, \"bus_difference_spread\": 0.0, \"route_group\": \"short\", \"max_trip_hrs\": 0.5, \"max_trip_route_group\": 1.0, \"name\": \"Tahoe Transportation District\", \"caltrans_district\": \"03 - Marysville\", \"drmt_organization_name\": null, \"cutoff2\": 15.0, \"cutoff\": 0}, {\"calitp_itp_id\": 331, \"trip_key\": 874665284572341009, \"trip_id\": \"t_2004497_b_33429_tn_0\", \"shape_id\": \"p_1274591\", \"route_id\": \"TLR\", \"service_hours\": 0.5, \"trip_first_departure_ts\": 59400, \"trip_last_arrival_ts\": 61200, \"departure_hour\": 16, \"time_of_day\": \"Midday\", \"p25\": 0.5, \"p50\": 0.5, \"p75\": 0.5, \"p50_trip\": 1, \"fastest_trip\": 0, \"car_duration_hours\": 0.32, \"competitive_route\": 1, \"bus_multiplier\": 1.56, \"bus_difference\": 10.8, \"num_trips\": 24, \"num_competitive\": 24, \"pct_trips_competitive\": 1.0, \"bus_difference_spread\": 0.0, \"route_group\": \"short\", \"max_trip_hrs\": 0.5, \"max_trip_route_group\": 1.0, \"name\": \"Tahoe Transportation District\", \"caltrans_district\": \"03 - Marysville\", \"drmt_organization_name\": null, \"cutoff2\": 15.0, \"cutoff\": 0}, {\"calitp_itp_id\": 331, \"trip_key\": 7101380492590396455, \"trip_id\": \"t_2004511_b_33429_tn_0\", \"shape_id\": \"p_1274596\", \"route_id\": \"TLR\", \"service_hours\": 0.5, \"trip_first_departure_ts\": 36000, \"trip_last_arrival_ts\": 37800, \"departure_hour\": 10, \"time_of_day\": \"Midday\", \"p25\": 0.5, \"p50\": 0.5, \"p75\": 0.5, \"p50_trip\": 1, \"fastest_trip\": 0, \"car_duration_hours\": 0.32, \"competitive_route\": 1, \"bus_multiplier\": 1.56, \"bus_difference\": 10.8, \"num_trips\": 24, \"num_competitive\": 24, \"pct_trips_competitive\": 1.0, \"bus_difference_spread\": 0.0, \"route_group\": \"short\", \"max_trip_hrs\": 0.5, \"max_trip_route_group\": 1.0, \"name\": \"Tahoe Transportation District\", \"caltrans_district\": \"03 - Marysville\", \"drmt_organization_name\": null, \"cutoff2\": 15.0, \"cutoff\": 0}, {\"calitp_itp_id\": 331, \"trip_key\": 7824194498944597190, \"trip_id\": \"t_2004508_b_33429_tn_0\", \"shape_id\": \"p_1274596\", \"route_id\": \"TLR\", \"service_hours\": 0.5, \"trip_first_departure_ts\": 25200, \"trip_last_arrival_ts\": 27000, \"departure_hour\": 7, \"time_of_day\": \"AM Peak\", \"p25\": 0.5, \"p50\": 0.5, \"p75\": 0.5, \"p50_trip\": 1, \"fastest_trip\": 0, \"car_duration_hours\": 0.32, \"competitive_route\": 1, \"bus_multiplier\": 1.56, \"bus_difference\": 10.8, \"num_trips\": 24, \"num_competitive\": 24, \"pct_trips_competitive\": 1.0, \"bus_difference_spread\": 0.0, \"route_group\": \"short\", \"max_trip_hrs\": 0.5, \"max_trip_route_group\": 1.0, \"name\": \"Tahoe Transportation District\", \"caltrans_district\": \"03 - Marysville\", \"drmt_organization_name\": null, \"cutoff2\": 15.0, \"cutoff\": 0}, {\"calitp_itp_id\": 331, \"trip_key\": -2781577389659475653, \"trip_id\": \"t_2004505_b_33429_tn_0\", \"shape_id\": \"p_1274591\", \"route_id\": \"TLR\", \"service_hours\": 0.5, \"trip_first_departure_ts\": 52200, \"trip_last_arrival_ts\": 54000, \"departure_hour\": 14, \"time_of_day\": \"Midday\", \"p25\": 0.5, \"p50\": 0.5, \"p75\": 0.5, \"p50_trip\": 1, \"fastest_trip\": 0, \"car_duration_hours\": 0.32, \"competitive_route\": 1, \"bus_multiplier\": 1.56, \"bus_difference\": 10.8, \"num_trips\": 24, \"num_competitive\": 24, \"pct_trips_competitive\": 1.0, \"bus_difference_spread\": 0.0, \"route_group\": \"short\", \"max_trip_hrs\": 0.5, \"max_trip_route_group\": 1.0, \"name\": \"Tahoe Transportation District\", \"caltrans_district\": \"03 - Marysville\", \"drmt_organization_name\": null, \"cutoff2\": 15.0, \"cutoff\": 0}, {\"calitp_itp_id\": 331, \"trip_key\": -7095598647131562557, \"trip_id\": \"t_2004510_b_33429_tn_0\", \"shape_id\": \"p_1274596\", \"route_id\": \"TLR\", \"service_hours\": 0.5, \"trip_first_departure_ts\": 32400, \"trip_last_arrival_ts\": 34200, \"departure_hour\": 9, \"time_of_day\": \"AM Peak\", \"p25\": 0.5, \"p50\": 0.5, \"p75\": 0.5, \"p50_trip\": 1, \"fastest_trip\": 0, \"car_duration_hours\": 0.32, \"competitive_route\": 1, \"bus_multiplier\": 1.56, \"bus_difference\": 10.8, \"num_trips\": 24, \"num_competitive\": 24, \"pct_trips_competitive\": 1.0, \"bus_difference_spread\": 0.0, \"route_group\": \"short\", \"max_trip_hrs\": 0.5, \"max_trip_route_group\": 1.0, \"name\": \"Tahoe Transportation District\", \"caltrans_district\": \"03 - Marysville\", \"drmt_organization_name\": null, \"cutoff2\": 15.0, \"cutoff\": 0}, {\"calitp_itp_id\": 331, \"trip_key\": 5338715160280664218, \"trip_id\": \"t_2004499_b_33429_tn_0\", \"shape_id\": \"p_1274591\", \"route_id\": \"TLR\", \"service_hours\": 0.5, \"trip_first_departure_ts\": 30600, \"trip_last_arrival_ts\": 32400, \"departure_hour\": 8, \"time_of_day\": \"AM Peak\", \"p25\": 0.5, \"p50\": 0.5, \"p75\": 0.5, \"p50_trip\": 1, \"fastest_trip\": 0, \"car_duration_hours\": 0.32, \"competitive_route\": 1, \"bus_multiplier\": 1.56, \"bus_difference\": 10.8, \"num_trips\": 24, \"num_competitive\": 24, \"pct_trips_competitive\": 1.0, \"bus_difference_spread\": 0.0, \"route_group\": \"short\", \"max_trip_hrs\": 0.5, \"max_trip_route_group\": 1.0, \"name\": \"Tahoe Transportation District\", \"caltrans_district\": \"03 - Marysville\", \"drmt_organization_name\": null, \"cutoff2\": 15.0, \"cutoff\": 0}, {\"calitp_itp_id\": 331, \"trip_key\": -6457030711264259356, \"trip_id\": \"t_2004504_b_33429_tn_0\", \"shape_id\": \"p_1274591\", \"route_id\": \"TLR\", \"service_hours\": 0.5, \"trip_first_departure_ts\": 48600, \"trip_last_arrival_ts\": 50400, \"departure_hour\": 13, \"time_of_day\": \"Midday\", \"p25\": 0.5, \"p50\": 0.5, \"p75\": 0.5, \"p50_trip\": 1, \"fastest_trip\": 0, \"car_duration_hours\": 0.32, \"competitive_route\": 1, \"bus_multiplier\": 1.56, \"bus_difference\": 10.8, \"num_trips\": 24, \"num_competitive\": 24, \"pct_trips_competitive\": 1.0, \"bus_difference_spread\": 0.0, \"route_group\": \"short\", \"max_trip_hrs\": 0.5, \"max_trip_route_group\": 1.0, \"name\": \"Tahoe Transportation District\", \"caltrans_district\": \"03 - Marysville\", \"drmt_organization_name\": null, \"cutoff2\": 15.0, \"cutoff\": 0}, {\"calitp_itp_id\": 331, \"trip_key\": 7964284356054720652, \"trip_id\": \"t_2004518_b_33429_tn_0\", \"shape_id\": \"p_1274591\", \"route_id\": \"TLR\", \"service_hours\": 0.5, \"trip_first_departure_ts\": 63000, \"trip_last_arrival_ts\": 64800, \"departure_hour\": 17, \"time_of_day\": \"PM Peak\", \"p25\": 0.5, \"p50\": 0.5, \"p75\": 0.5, \"p50_trip\": 1, \"fastest_trip\": 0, \"car_duration_hours\": 0.32, \"competitive_route\": 1, \"bus_multiplier\": 1.56, \"bus_difference\": 10.8, \"num_trips\": 24, \"num_competitive\": 24, \"pct_trips_competitive\": 1.0, \"bus_difference_spread\": 0.0, \"route_group\": \"short\", \"max_trip_hrs\": 0.5, \"max_trip_route_group\": 1.0, \"name\": \"Tahoe Transportation District\", \"caltrans_district\": \"03 - Marysville\", \"drmt_organization_name\": null, \"cutoff2\": 15.0, \"cutoff\": 0}, {\"calitp_itp_id\": 331, \"trip_key\": 4135682216224968349, \"trip_id\": \"t_2004498_b_33429_tn_0\", \"shape_id\": \"p_1274591\", \"route_id\": \"TLR\", \"service_hours\": 0.5, \"trip_first_departure_ts\": 27000, \"trip_last_arrival_ts\": 28800, \"departure_hour\": 7, \"time_of_day\": \"AM Peak\", \"p25\": 0.5, \"p50\": 0.5, \"p75\": 0.5, \"p50_trip\": 1, \"fastest_trip\": 0, \"car_duration_hours\": 0.32, \"competitive_route\": 1, \"bus_multiplier\": 1.56, \"bus_difference\": 10.8, \"num_trips\": 24, \"num_competitive\": 24, \"pct_trips_competitive\": 1.0, \"bus_difference_spread\": 0.0, \"route_group\": \"short\", \"max_trip_hrs\": 0.5, \"max_trip_route_group\": 1.0, \"name\": \"Tahoe Transportation District\", \"caltrans_district\": \"03 - Marysville\", \"drmt_organization_name\": null, \"cutoff2\": 15.0, \"cutoff\": 0}, {\"calitp_itp_id\": 331, \"trip_key\": 8200791930269059843, \"trip_id\": \"t_2004509_b_33429_tn_0\", \"shape_id\": \"p_1274596\", \"route_id\": \"TLR\", \"service_hours\": 0.5, \"trip_first_departure_ts\": 28800, \"trip_last_arrival_ts\": 30600, \"departure_hour\": 8, \"time_of_day\": \"AM Peak\", \"p25\": 0.5, \"p50\": 0.5, \"p75\": 0.5, \"p50_trip\": 1, \"fastest_trip\": 0, \"car_duration_hours\": 0.32, \"competitive_route\": 1, \"bus_multiplier\": 1.56, \"bus_difference\": 10.8, \"num_trips\": 24, \"num_competitive\": 24, \"pct_trips_competitive\": 1.0, \"bus_difference_spread\": 0.0, \"route_group\": \"short\", \"max_trip_hrs\": 0.5, \"max_trip_route_group\": 1.0, \"name\": \"Tahoe Transportation District\", \"caltrans_district\": \"03 - Marysville\", \"drmt_organization_name\": null, \"cutoff2\": 15.0, \"cutoff\": 0}, {\"calitp_itp_id\": 331, \"trip_key\": 3792647975828051796, \"trip_id\": \"t_2004506_b_33429_tn_0\", \"shape_id\": \"p_1274596\", \"route_id\": \"TLR\", \"service_hours\": 0.5, \"trip_first_departure_ts\": 46800, \"trip_last_arrival_ts\": 48600, \"departure_hour\": 13, \"time_of_day\": \"Midday\", \"p25\": 0.5, \"p50\": 0.5, \"p75\": 0.5, \"p50_trip\": 1, \"fastest_trip\": 0, \"car_duration_hours\": 0.32, \"competitive_route\": 1, \"bus_multiplier\": 1.56, \"bus_difference\": 10.8, \"num_trips\": 24, \"num_competitive\": 24, \"pct_trips_competitive\": 1.0, \"bus_difference_spread\": 0.0, \"route_group\": \"short\", \"max_trip_hrs\": 0.5, \"max_trip_route_group\": 1.0, \"name\": \"Tahoe Transportation District\", \"caltrans_district\": \"03 - Marysville\", \"drmt_organization_name\": null, \"cutoff2\": 15.0, \"cutoff\": 0}, {\"calitp_itp_id\": 331, \"trip_key\": -2456779645928607345, \"trip_id\": \"t_2004507_b_33429_tn_0\", \"shape_id\": \"p_1274596\", \"route_id\": \"TLR\", \"service_hours\": 0.5, \"trip_first_departure_ts\": 64800, \"trip_last_arrival_ts\": 66600, \"departure_hour\": 18, \"time_of_day\": \"PM Peak\", \"p25\": 0.5, \"p50\": 0.5, \"p75\": 0.5, \"p50_trip\": 1, \"fastest_trip\": 1, \"car_duration_hours\": 0.32, \"competitive_route\": 1, \"bus_multiplier\": 1.56, \"bus_difference\": 10.8, \"num_trips\": 24, \"num_competitive\": 24, \"pct_trips_competitive\": 1.0, \"bus_difference_spread\": 0.0, \"route_group\": \"short\", \"max_trip_hrs\": 0.5, \"max_trip_route_group\": 1.0, \"name\": \"Tahoe Transportation District\", \"caltrans_district\": \"03 - Marysville\", \"drmt_organization_name\": null, \"cutoff2\": 15.0, \"cutoff\": 0}, {\"calitp_itp_id\": 331, \"trip_key\": 8605383156232306044, \"trip_id\": \"t_2004515_b_33429_tn_0\", \"shape_id\": \"p_1274596\", \"route_id\": \"TLR\", \"service_hours\": 0.5, \"trip_first_departure_ts\": 54000, \"trip_last_arrival_ts\": 55800, \"departure_hour\": 15, \"time_of_day\": \"Midday\", \"p25\": 0.5, \"p50\": 0.5, \"p75\": 0.5, \"p50_trip\": 1, \"fastest_trip\": 0, \"car_duration_hours\": 0.32, \"competitive_route\": 1, \"bus_multiplier\": 1.56, \"bus_difference\": 10.8, \"num_trips\": 24, \"num_competitive\": 24, \"pct_trips_competitive\": 1.0, \"bus_difference_spread\": 0.0, \"route_group\": \"short\", \"max_trip_hrs\": 0.5, \"max_trip_route_group\": 1.0, \"name\": \"Tahoe Transportation District\", \"caltrans_district\": \"03 - Marysville\", \"drmt_organization_name\": null, \"cutoff2\": 15.0, \"cutoff\": 0}, {\"calitp_itp_id\": 331, \"trip_key\": -161080458889029591, \"trip_id\": \"t_2004501_b_33429_tn_0\", \"shape_id\": \"p_1274591\", \"route_id\": \"TLR\", \"service_hours\": 0.5, \"trip_first_departure_ts\": 37800, \"trip_last_arrival_ts\": 39600, \"departure_hour\": 10, \"time_of_day\": \"Midday\", \"p25\": 0.5, \"p50\": 0.5, \"p75\": 0.5, \"p50_trip\": 1, \"fastest_trip\": 0, \"car_duration_hours\": 0.32, \"competitive_route\": 1, \"bus_multiplier\": 1.56, \"bus_difference\": 10.8, \"num_trips\": 24, \"num_competitive\": 24, \"pct_trips_competitive\": 1.0, \"bus_difference_spread\": 0.0, \"route_group\": \"short\", \"max_trip_hrs\": 0.5, \"max_trip_route_group\": 1.0, \"name\": \"Tahoe Transportation District\", \"caltrans_district\": \"03 - Marysville\", \"drmt_organization_name\": null, \"cutoff2\": 15.0, \"cutoff\": 0}, {\"calitp_itp_id\": 331, \"trip_key\": 1889163015414220831, \"trip_id\": \"t_2004517_b_33429_tn_0\", \"shape_id\": \"p_1274596\", \"route_id\": \"TLR\", \"service_hours\": 0.5, \"trip_first_departure_ts\": 61200, \"trip_last_arrival_ts\": 63000, \"departure_hour\": 17, \"time_of_day\": \"PM Peak\", \"p25\": 0.5, \"p50\": 0.5, \"p75\": 0.5, \"p50_trip\": 1, \"fastest_trip\": 0, \"car_duration_hours\": 0.32, \"competitive_route\": 1, \"bus_multiplier\": 1.56, \"bus_difference\": 10.8, \"num_trips\": 24, \"num_competitive\": 24, \"pct_trips_competitive\": 1.0, \"bus_difference_spread\": 0.0, \"route_group\": \"short\", \"max_trip_hrs\": 0.5, \"max_trip_route_group\": 1.0, \"name\": \"Tahoe Transportation District\", \"caltrans_district\": \"03 - Marysville\", \"drmt_organization_name\": null, \"cutoff2\": 15.0, \"cutoff\": 0}, {\"calitp_itp_id\": 331, \"trip_key\": 8724441549001397114, \"trip_id\": \"t_2004496_b_33429_tn_0\", \"shape_id\": \"p_1274591\", \"route_id\": \"TLR\", \"service_hours\": 0.5, \"trip_first_departure_ts\": 55800, \"trip_last_arrival_ts\": 57600, \"departure_hour\": 15, \"time_of_day\": \"Midday\", \"p25\": 0.5, \"p50\": 0.5, \"p75\": 0.5, \"p50_trip\": 1, \"fastest_trip\": 0, \"car_duration_hours\": 0.32, \"competitive_route\": 1, \"bus_multiplier\": 1.56, \"bus_difference\": 10.8, \"num_trips\": 24, \"num_competitive\": 24, \"pct_trips_competitive\": 1.0, \"bus_difference_spread\": 0.0, \"route_group\": \"short\", \"max_trip_hrs\": 0.5, \"max_trip_route_group\": 1.0, \"name\": \"Tahoe Transportation District\", \"caltrans_district\": \"03 - Marysville\", \"drmt_organization_name\": null, \"cutoff2\": 15.0, \"cutoff\": 0}, {\"calitp_itp_id\": 331, \"trip_key\": -3795521193941126777, \"trip_id\": \"t_2004512_b_33429_tn_0\", \"shape_id\": \"p_1274596\", \"route_id\": \"TLR\", \"service_hours\": 0.5, \"trip_first_departure_ts\": 39600, \"trip_last_arrival_ts\": 41400, \"departure_hour\": 11, \"time_of_day\": \"Midday\", \"p25\": 0.5, \"p50\": 0.5, \"p75\": 0.5, \"p50_trip\": 1, \"fastest_trip\": 0, \"car_duration_hours\": 0.32, \"competitive_route\": 1, \"bus_multiplier\": 1.56, \"bus_difference\": 10.8, \"num_trips\": 24, \"num_competitive\": 24, \"pct_trips_competitive\": 1.0, \"bus_difference_spread\": 0.0, \"route_group\": \"short\", \"max_trip_hrs\": 0.5, \"max_trip_route_group\": 1.0, \"name\": \"Tahoe Transportation District\", \"caltrans_district\": \"03 - Marysville\", \"drmt_organization_name\": null, \"cutoff2\": 15.0, \"cutoff\": 0}, {\"calitp_itp_id\": 331, \"trip_key\": 6656100432858758232, \"trip_id\": \"t_2004495_b_33429_tn_0\", \"shape_id\": \"p_1274591\", \"route_id\": \"TLR\", \"service_hours\": 0.5, \"trip_first_departure_ts\": 23400, \"trip_last_arrival_ts\": 25200, \"departure_hour\": 6, \"time_of_day\": \"Owl Service\", \"p25\": 0.5, \"p50\": 0.5, \"p75\": 0.5, \"p50_trip\": 1, \"fastest_trip\": 0, \"car_duration_hours\": 0.32, \"competitive_route\": 1, \"bus_multiplier\": 1.56, \"bus_difference\": 10.8, \"num_trips\": 24, \"num_competitive\": 24, \"pct_trips_competitive\": 1.0, \"bus_difference_spread\": 0.0, \"route_group\": \"short\", \"max_trip_hrs\": 0.5, \"max_trip_route_group\": 1.0, \"name\": \"Tahoe Transportation District\", \"caltrans_district\": \"03 - Marysville\", \"drmt_organization_name\": null, \"cutoff2\": 15.0, \"cutoff\": 0}, {\"calitp_itp_id\": 331, \"trip_key\": -4863038145455105249, \"trip_id\": \"t_2004516_b_33429_tn_0\", \"shape_id\": \"p_1274596\", \"route_id\": \"TLR\", \"service_hours\": 0.5, \"trip_first_departure_ts\": 57600, \"trip_last_arrival_ts\": 59400, \"departure_hour\": 16, \"time_of_day\": \"Midday\", \"p25\": 0.5, \"p50\": 0.5, \"p75\": 0.5, \"p50_trip\": 1, \"fastest_trip\": 0, \"car_duration_hours\": 0.32, \"competitive_route\": 1, \"bus_multiplier\": 1.56, \"bus_difference\": 10.8, \"num_trips\": 24, \"num_competitive\": 24, \"pct_trips_competitive\": 1.0, \"bus_difference_spread\": 0.0, \"route_group\": \"short\", \"max_trip_hrs\": 0.5, \"max_trip_route_group\": 1.0, \"name\": \"Tahoe Transportation District\", \"caltrans_district\": \"03 - Marysville\", \"drmt_organization_name\": null, \"cutoff2\": 15.0, \"cutoff\": 0}, {\"calitp_itp_id\": 331, \"trip_key\": 6793980449567228139, \"trip_id\": \"t_2004514_b_33429_tn_0\", \"shape_id\": \"p_1274596\", \"route_id\": \"TLR\", \"service_hours\": 0.5, \"trip_first_departure_ts\": 50400, \"trip_last_arrival_ts\": 52200, \"departure_hour\": 14, \"time_of_day\": \"Midday\", \"p25\": 0.5, \"p50\": 0.5, \"p75\": 0.5, \"p50_trip\": 1, \"fastest_trip\": 0, \"car_duration_hours\": 0.32, \"competitive_route\": 1, \"bus_multiplier\": 1.56, \"bus_difference\": 10.8, \"num_trips\": 24, \"num_competitive\": 24, \"pct_trips_competitive\": 1.0, \"bus_difference_spread\": 0.0, \"route_group\": \"short\", \"max_trip_hrs\": 0.5, \"max_trip_route_group\": 1.0, \"name\": \"Tahoe Transportation District\", \"caltrans_district\": \"03 - Marysville\", \"drmt_organization_name\": null, \"cutoff2\": 15.0, \"cutoff\": 0}]}}, {\"mode\": \"vega-lite\"});\n",
       "</script>"
      ],
      "text/plain": [
       "alt.FacetChart(...)"
      ]
     },
     "metadata": {},
     "output_type": "display_data"
    }
   ],
   "source": [
    "# Allow for possibility that operator doesn't have routes that fall into certain route_groups\n",
    "# But, jupyterbook will not like markdown with f-string\n",
    "# separate out route_group and put in each cell, and use try/except + if to display...\n",
    "# but all 3 route groups must be displayed. just add sentence about why no routes were returned at the end\n",
    "route_group = \"short\"\n",
    "try:\n",
    "    subset_routes, mult, diff  = setup_charts(df, PCT_COMPETITIVE_THRESHOLD, route_group)\n",
    "    \n",
    "    if len(subset_routes) > 0:\n",
    "        display(\n",
    "            Markdown(\n",
    "                f\"{CAPTIONS_DICT[route_group]}\"\n",
    "                \"Within each route group, routes are sorted in descending order \"\n",
    "                \"by % competitive trips and # trips below the additional time cut-off.\"\n",
    "            )\n",
    "        )\n",
    "\n",
    "        display(mult)\n",
    "        display(diff)\n",
    "except:\n",
    "    print(\"No routes meet this criteria.\")"
   ]
  },
  {
   "cell_type": "markdown",
   "id": "c2931b6f-034d-4384-9e14-80b925e3b820",
   "metadata": {
    "papermill": {
     "duration": 0.014835,
     "end_time": "2022-05-07T16:58:06.396903",
     "exception": false,
     "start_time": "2022-05-07T16:58:06.382068",
     "status": "completed"
    },
    "tags": []
   },
   "source": [
    "### Medium Routes (1-1.5 hrs)"
   ]
  },
  {
   "cell_type": "code",
   "execution_count": 13,
   "id": "480edddc-4de0-48c2-ae4c-b0ceef8f28b5",
   "metadata": {
    "execution": {
     "iopub.execute_input": "2022-05-07T16:58:06.432717Z",
     "iopub.status.busy": "2022-05-07T16:58:06.432269Z",
     "iopub.status.idle": "2022-05-07T16:58:06.444318Z",
     "shell.execute_reply": "2022-05-07T16:58:06.443492Z"
    },
    "jupyter": {
     "source_hidden": true
    },
    "papermill": {
     "duration": 0.030535,
     "end_time": "2022-05-07T16:58:06.446077",
     "exception": false,
     "start_time": "2022-05-07T16:58:06.415542",
     "status": "completed"
    },
    "tags": [
     "remove_input"
    ]
   },
   "outputs": [
    {
     "name": "stdout",
     "output_type": "stream",
     "text": [
      "No routes meet this criteria.\n"
     ]
    }
   ],
   "source": [
    "route_group = \"medium\"\n",
    "try:\n",
    "    subset_routes, mult, diff  = setup_charts(df, PCT_COMPETITIVE_THRESHOLD, route_group)\n",
    "    if len(subset_routes) > 0:\n",
    "        display(\n",
    "            Markdown(\n",
    "                f\"{CAPTIONS_DICT[route_group]}\"\n",
    "                \"Within each route group, routes are sorted in descending order \"\n",
    "                \"by % competitive trips and # trips below the additional time cut-off.\"\n",
    "            )\n",
    "        )\n",
    "\n",
    "        display(mult)\n",
    "        display(diff)\n",
    "except:\n",
    "    print(\"No routes meet this criteria.\")"
   ]
  },
  {
   "cell_type": "markdown",
   "id": "124b76d0-886c-4d03-92ac-f1bda3cda182",
   "metadata": {
    "papermill": {
     "duration": 0.014824,
     "end_time": "2022-05-07T16:58:06.475563",
     "exception": false,
     "start_time": "2022-05-07T16:58:06.460739",
     "status": "completed"
    },
    "tags": []
   },
   "source": [
    "### Long Routes (> 1.5 hrs)"
   ]
  },
  {
   "cell_type": "code",
   "execution_count": 14,
   "id": "ddc81b19-4c45-4c81-8b7a-5e0f394aa7a3",
   "metadata": {
    "execution": {
     "iopub.execute_input": "2022-05-07T16:58:06.513693Z",
     "iopub.status.busy": "2022-05-07T16:58:06.513124Z",
     "iopub.status.idle": "2022-05-07T16:58:06.527106Z",
     "shell.execute_reply": "2022-05-07T16:58:06.526513Z"
    },
    "jupyter": {
     "source_hidden": true
    },
    "papermill": {
     "duration": 0.036927,
     "end_time": "2022-05-07T16:58:06.528777",
     "exception": false,
     "start_time": "2022-05-07T16:58:06.491850",
     "status": "completed"
    },
    "tags": [
     "remove_input"
    ]
   },
   "outputs": [
    {
     "name": "stdout",
     "output_type": "stream",
     "text": [
      "No routes meet this criteria.\n"
     ]
    }
   ],
   "source": [
    "route_group = \"long\"\n",
    "try:\n",
    "    subset_routes, mult, diff  = setup_charts(df, PCT_COMPETITIVE_THRESHOLD, route_group)\n",
    "    if len(subset_routes) > 0:\n",
    "        display(\n",
    "            Markdown(\n",
    "                f\"{CAPTIONS_DICT[route_group]}\"\n",
    "                \"Within each route group, routes are sorted in descending order \"\n",
    "                \"by % competitive trips and # trips below the additional time cut-off.\"\n",
    "            )\n",
    "        )\n",
    "\n",
    "        display(mult)\n",
    "        display(diff)\n",
    "except:\n",
    "    print(\"No routes meet this criteria.\")"
   ]
  }
 ],
 "metadata": {
  "kernelspec": {
   "display_name": "Python 3 (ipykernel)",
   "language": "python",
   "name": "python3"
  },
  "language_info": {
   "codemirror_mode": {
    "name": "ipython",
    "version": 3
   },
   "file_extension": ".py",
   "mimetype": "text/x-python",
   "name": "python",
   "nbconvert_exporter": "python",
   "pygments_lexer": "ipython3",
   "version": "3.9.12"
  },
  "papermill": {
   "default_parameters": {},
   "duration": 22.584522,
   "end_time": "2022-05-07T16:58:07.666331",
   "environment_variables": {},
   "exception": null,
   "input_path": "bus_service_increase/stripplot.ipynb",
   "output_path": "portfolio/parallel_corridors/district_03-marysville/stripplot__itp_id_331.ipynb",
   "parameters": {
    "district": "03 - Marysville",
    "itp_id": 331
   },
   "start_time": "2022-05-07T16:57:45.081809",
   "version": "2.3.4"
  }
 },
 "nbformat": 4,
 "nbformat_minor": 5
}