{
 "cells": [
  {
   "cell_type": "code",
   "execution_count": 1,
   "id": "95d00857-6a20-4529-a519-2cc7182928a9",
   "metadata": {
    "execution": {
     "iopub.execute_input": "2022-05-12T02:37:29.646807Z",
     "iopub.status.busy": "2022-05-12T02:37:29.646479Z",
     "iopub.status.idle": "2022-05-12T02:37:37.975091Z",
     "shell.execute_reply": "2022-05-12T02:37:37.974177Z"
    },
    "jupyter": {
     "source_hidden": true
    },
    "papermill": {
     "duration": 8.345553,
     "end_time": "2022-05-12T02:37:37.977455",
     "exception": false,
     "start_time": "2022-05-12T02:37:29.631902",
     "status": "completed"
    },
    "tags": [
     "remove_input"
    ]
   },
   "outputs": [],
   "source": [
    "%%capture\n",
    "import warnings\n",
    "warnings.filterwarnings('ignore')\n",
    "\n",
    "import altair as alt\n",
    "import calitp.magics\n",
    "import geopandas as gpd\n",
    "import intake\n",
    "import pandas as pd\n",
    "\n",
    "from IPython.display import display, Markdown, HTML\n",
    "\n",
    "import parallel_corridors_utils\n",
    "import deploy_portfolio_yaml\n",
    "from shared_utils import styleguide, geography_utils\n",
    "from make_stripplot_data import diff_cutoffs\n",
    "\n",
    "catalog = intake.open_catalog(\"./*.yml\")\n",
    "alt.renderers.enable(\"html\")"
   ]
  },
  {
   "cell_type": "code",
   "execution_count": 2,
   "id": "8af2a0c1-f3da-408d-9bea-11d9fbf8695d",
   "metadata": {
    "execution": {
     "iopub.execute_input": "2022-05-12T02:37:38.003691Z",
     "iopub.status.busy": "2022-05-12T02:37:38.003360Z",
     "iopub.status.idle": "2022-05-12T02:37:38.007324Z",
     "shell.execute_reply": "2022-05-12T02:37:38.006519Z"
    },
    "jupyter": {
     "source_hidden": true
    },
    "papermill": {
     "duration": 0.019276,
     "end_time": "2022-05-12T02:37:38.009029",
     "exception": false,
     "start_time": "2022-05-12T02:37:37.989753",
     "status": "completed"
    },
    "tags": [
     "parameters",
     "remove_input"
    ]
   },
   "outputs": [],
   "source": [
    "# parameters cell\n",
    "itp_id = 182"
   ]
  },
  {
   "cell_type": "code",
   "execution_count": 3,
   "id": "bcf97137",
   "metadata": {
    "execution": {
     "iopub.execute_input": "2022-05-12T02:37:38.034619Z",
     "iopub.status.busy": "2022-05-12T02:37:38.034102Z",
     "iopub.status.idle": "2022-05-12T02:37:38.037978Z",
     "shell.execute_reply": "2022-05-12T02:37:38.037488Z"
    },
    "jupyter": {
     "source_hidden": true
    },
    "papermill": {
     "duration": 0.019158,
     "end_time": "2022-05-12T02:37:38.039683",
     "exception": false,
     "start_time": "2022-05-12T02:37:38.020525",
     "status": "completed"
    },
    "tags": [
     "injected-parameters",
     "remove_input"
    ]
   },
   "outputs": [],
   "source": [
    "# Parameters\n",
    "district = \"08 - San Bernardino\"\n",
    "itp_id = 238\n"
   ]
  },
  {
   "cell_type": "code",
   "execution_count": 4,
   "id": "9582aaf4-79ff-412a-b248-8d8d693ebd4f",
   "metadata": {
    "execution": {
     "iopub.execute_input": "2022-05-12T02:37:38.066479Z",
     "iopub.status.busy": "2022-05-12T02:37:38.065964Z",
     "iopub.status.idle": "2022-05-12T02:37:39.303546Z",
     "shell.execute_reply": "2022-05-12T02:37:39.302908Z"
    },
    "jupyter": {
     "source_hidden": true
    },
    "papermill": {
     "duration": 1.253731,
     "end_time": "2022-05-12T02:37:39.305722",
     "exception": false,
     "start_time": "2022-05-12T02:37:38.051991",
     "status": "completed"
    },
    "tags": [
     "remove_input"
    ]
   },
   "outputs": [],
   "source": [
    "df = catalog.competitive_route_variability.read()\n",
    "\n",
    "df = (df[(df.calitp_itp_id == itp_id) & \n",
    "         (df.route_group.notna())]\n",
    "      .rename(columns = {\"route_name_used\": \"route_name\"})\n",
    "      .reset_index(drop=True)\n",
    "     )\n",
    "\n",
    "if itp_id == 182:\n",
    "    df = df.assign(\n",
    "        route_id = df.route_id.str.replace('-13153', '').astype(int)\n",
    "    )"
   ]
  },
  {
   "cell_type": "code",
   "execution_count": 5,
   "id": "33ac4b06-f647-4dce-a625-8f2c1b37cc60",
   "metadata": {
    "execution": {
     "iopub.execute_input": "2022-05-12T02:37:39.332392Z",
     "iopub.status.busy": "2022-05-12T02:37:39.331848Z",
     "iopub.status.idle": "2022-05-12T02:37:39.339388Z",
     "shell.execute_reply": "2022-05-12T02:37:39.338815Z"
    },
    "jupyter": {
     "source_hidden": true
    },
    "papermill": {
     "duration": 0.022948,
     "end_time": "2022-05-12T02:37:39.341002",
     "exception": false,
     "start_time": "2022-05-12T02:37:39.318054",
     "status": "completed"
    },
    "tags": [
     "remove_input"
    ]
   },
   "outputs": [],
   "source": [
    "%%capture_parameters\n",
    "operator_name = df.name.iloc[0]\n",
    "district_number = f\"{df.caltrans_district.iloc[0].split('-')[0].strip()}\"\n",
    "district_name = f\"{df.caltrans_district.iloc[0].split('-')[1].strip().lower().replace(' ', '-')}\"\n",
    "\n",
    "itp_id, operator_name, district_number, district_name"
   ]
  },
  {
   "cell_type": "markdown",
   "id": "65bc6f5c-8348-42ee-b2dd-52057c406852",
   "metadata": {
    "papermill": {
     "duration": 0.016954,
     "end_time": "2022-05-12T02:37:39.370269",
     "exception": false,
     "start_time": "2022-05-12T02:37:39.353315",
     "status": "completed"
    },
    "tags": []
   },
   "source": [
    "# Palo Verde Valley Transit Agency (ITP ID: 238)"
   ]
  },
  {
   "cell_type": "code",
   "execution_count": 6,
   "id": "a689c1ab-2c6c-4831-8d64-897f5986f571",
   "metadata": {
    "execution": {
     "iopub.execute_input": "2022-05-12T02:37:39.399330Z",
     "iopub.status.busy": "2022-05-12T02:37:39.398399Z",
     "iopub.status.idle": "2022-05-12T02:37:39.404653Z",
     "shell.execute_reply": "2022-05-12T02:37:39.404149Z"
    },
    "jupyter": {
     "source_hidden": true
    },
    "papermill": {
     "duration": 0.0237,
     "end_time": "2022-05-12T02:37:39.406332",
     "exception": false,
     "start_time": "2022-05-12T02:37:39.382632",
     "status": "completed"
    },
    "tags": [
     "remove_input"
    ]
   },
   "outputs": [
    {
     "data": {
      "text/html": [
       "<h1>Competitive & Parallel Routes</h1>"
      ],
      "text/plain": [
       "<IPython.core.display.HTML object>"
      ]
     },
     "metadata": {},
     "output_type": "display_data"
    }
   ],
   "source": [
    "display(HTML(\"<h1>Competitive & Parallel Routes</h1>\")) "
   ]
  },
  {
   "cell_type": "code",
   "execution_count": 7,
   "id": "2cb4d8d5-4760-40e4-85b1-cb833d8bb648",
   "metadata": {
    "execution": {
     "iopub.execute_input": "2022-05-12T02:37:39.435047Z",
     "iopub.status.busy": "2022-05-12T02:37:39.434168Z",
     "iopub.status.idle": "2022-05-12T02:37:49.637695Z",
     "shell.execute_reply": "2022-05-12T02:37:49.636895Z"
    },
    "jupyter": {
     "source_hidden": true
    },
    "papermill": {
     "duration": 10.219753,
     "end_time": "2022-05-12T02:37:49.639962",
     "exception": false,
     "start_time": "2022-05-12T02:37:39.420209",
     "status": "completed"
    },
    "tags": [
     "remove_input"
    ]
   },
   "outputs": [],
   "source": [
    "# Grab parameters for narrative text - clean up formatting here \n",
    "district = df.caltrans_district.iloc[0]\n",
    "formatted_date = pd.to_datetime(parallel_corridors_utils.SELECTED_DATE).strftime('%m-%d-%Y')\n",
    "\n",
    "PCT_COMPETITIVE_THRESHOLD = 0.75\n",
    "PCT_TRIPS_BELOW_CUTOFF = 0.50\n",
    "\n",
    "stats = parallel_corridors_utils.operator_parallel_competitive_stats(\n",
    "    itp_id, PCT_COMPETITIVE_THRESHOLD, PCT_TRIPS_BELOW_CUTOFF)\n",
    "\n",
    "pct_parallel = round(stats['parallel_routes'] / stats['num_routes'] * 100, 1 )\n",
    "pct_competitive =  round(stats['competitive_routes'] / stats['num_routes'] * 100, 1 )\n",
    "pct_viable =  round(stats['viable_competitive_routes'] / stats['num_routes'] * 100, 1 )"
   ]
  },
  {
   "cell_type": "code",
   "execution_count": 8,
   "id": "8bf30c8f-6aa5-47bb-82ae-a906732e81fd",
   "metadata": {
    "execution": {
     "iopub.execute_input": "2022-05-12T02:37:49.668264Z",
     "iopub.status.busy": "2022-05-12T02:37:49.667719Z",
     "iopub.status.idle": "2022-05-12T02:37:49.696280Z",
     "shell.execute_reply": "2022-05-12T02:37:49.695692Z"
    },
    "jupyter": {
     "source_hidden": true
    },
    "papermill": {
     "duration": 0.044749,
     "end_time": "2022-05-12T02:37:49.698192",
     "exception": false,
     "start_time": "2022-05-12T02:37:49.653443",
     "status": "completed"
    },
    "tags": [
     "remove_input"
    ]
   },
   "outputs": [],
   "source": [
    "# Display a table of route-level stats for each route_group\n",
    "# Displaying route_name makes chart too crowded\n",
    "\n",
    "# Get route stats (for entire df)\n",
    "route_stats = parallel_corridors_utils.competitive_route_level_stats(df)\n",
    "    \n",
    "def style_route_stats(df, top15_routes):\n",
    "    df = df[df.route_id.isin(top15_routes)]\n",
    "    \n",
    "    # Rename columns for display\n",
    "    rename_cols = {\n",
    "        \"route_id\": \"Route ID\",\n",
    "        \"route_name\": \"Route Name\",\n",
    "        \"route_group\": \"Route Group\",\n",
    "        \"num_trips\": \"# trips\",\n",
    "        \"daily_avg_freq\": \"Daily Avg Freq (trips per hr)\",\n",
    "        \"pm_peak_freq\": \"PM Peak Avg Freq (trips per hr)\",\n",
    "        \"percentiles\": \"25th, 50th, 75th ptile (hrs)\",\n",
    "    }\n",
    "    \n",
    "    # Style it\n",
    "    drop_cols = [\n",
    "        \"calitp_itp_id\", \"below_cutoff\", \"route_group\", \n",
    "        \"pct_trips_competitive\", \"pct_below_cutoff\",\n",
    "        \"p25\", \"p50\", \"p75\",\n",
    "    ]\n",
    "    \n",
    "    # Change alignment for some columns\n",
    "    # https://stackoverflow.com/questions/59453091/left-align-the-first-column-and-center-align-the-other-columns-in-a-pandas-table\n",
    "    df_style = (df.sort_values(\n",
    "        [\"pct_trips_competitive\", \"below_cutoff\", \n",
    "        \"pct_below_cutoff\", \"route_id\"], \n",
    "        ascending=[False, False, False, True])\n",
    "           .drop(columns = drop_cols)\n",
    "           .rename(columns = rename_cols)\n",
    "           .style.format(\n",
    "               subset=['Daily Avg Freq (trips per hr)', \n",
    "                       'PM Peak Avg Freq (trips per hr)'], \n",
    "               **{'formatter': '{:,.3}'})\n",
    "                .set_properties(subset=['Route ID', 'Route Name'], \n",
    "                                **{'text-align': 'left'})\n",
    "                .set_properties(subset=['# trips', 'Daily Avg Freq (trips per hr)', \n",
    "                                       'PM Peak Avg Freq (trips per hr)'], \n",
    "                               **{'text-align': 'center'})\n",
    "                .set_table_styles([dict(selector='th', \n",
    "                                        props=[('text-align', 'center')])\n",
    "                                        ])\n",
    "           .hide(axis=\"index\")\n",
    "           .to_html()\n",
    "          )\n",
    "    \n",
    "    display(HTML(\"<h4>Route Stats</h4>\"))\n",
    "    display(HTML(df_style))"
   ]
  },
  {
   "cell_type": "markdown",
   "id": "ab667928-5274-4490-82d9-4c39293209a4",
   "metadata": {
    "papermill": {
     "duration": 0.013149,
     "end_time": "2022-05-12T02:37:49.724374",
     "exception": false,
     "start_time": "2022-05-12T02:37:49.711225",
     "status": "completed"
    },
    "tags": []
   },
   "source": [
    "## Quick Stats"
   ]
  },
  {
   "cell_type": "code",
   "execution_count": 9,
   "id": "0416509d-dc62-4165-b62e-64f8b26e8b8e",
   "metadata": {
    "execution": {
     "iopub.execute_input": "2022-05-12T02:37:49.751731Z",
     "iopub.status.busy": "2022-05-12T02:37:49.750881Z",
     "iopub.status.idle": "2022-05-12T02:37:49.757393Z",
     "shell.execute_reply": "2022-05-12T02:37:49.756815Z"
    },
    "jupyter": {
     "source_hidden": true
    },
    "papermill": {
     "duration": 0.022114,
     "end_time": "2022-05-12T02:37:49.759001",
     "exception": false,
     "start_time": "2022-05-12T02:37:49.736887",
     "status": "completed"
    },
    "tags": [
     "remove_input"
    ]
   },
   "outputs": [
    {
     "data": {
      "text/markdown": [
       "**Bus routes in service: 4**<br>**Parallel routes** to State Highway Network (SHN): **2 routes (50.0%)**<br>**Competitive routes** against car travel (within 2x car travel time): **1 routes (25.0%)**<br>**Viable competitive routes** against car travel (within 2x car travel time and within 20, 30, or 40 min cut-off): **1 routes (25.0%)**"
      ],
      "text/plain": [
       "<IPython.core.display.Markdown object>"
      ]
     },
     "metadata": {},
     "output_type": "display_data"
    }
   ],
   "source": [
    "display(\n",
    "    Markdown(\n",
    "        f\"**Bus routes in service: {stats['num_routes']}**\"\n",
    "        \"<br>**Parallel routes** to State Highway Network (SHN): \"\n",
    "        f\"**{stats['parallel_routes']} routes ({pct_parallel}%)**\"\n",
    "        \"<br>**Competitive routes** against car travel (within 2x car travel time): \"\n",
    "        f\"**{stats['competitive_routes']} routes ({pct_competitive}%)**\"\n",
    "        \"<br>**Viable competitive routes** against car travel \"\n",
    "        \"(within 2x car travel time and within 20, 30, or 40 min cut-off): \"\n",
    "        f\"**{stats['viable_competitive_routes']} routes ({pct_viable}%)**\"\n",
    "    )\n",
    ")"
   ]
  },
  {
   "cell_type": "code",
   "execution_count": 10,
   "id": "f9d6ab58-f0ee-460c-b6de-657490e1f386",
   "metadata": {
    "execution": {
     "iopub.execute_input": "2022-05-12T02:37:49.792536Z",
     "iopub.status.busy": "2022-05-12T02:37:49.792032Z",
     "iopub.status.idle": "2022-05-12T02:37:49.798388Z",
     "shell.execute_reply": "2022-05-12T02:37:49.797627Z"
    },
    "jupyter": {
     "source_hidden": true
    },
    "papermill": {
     "duration": 0.027775,
     "end_time": "2022-05-12T02:37:49.800173",
     "exception": false,
     "start_time": "2022-05-12T02:37:49.772398",
     "status": "completed"
    },
    "tags": [
     "remove_input"
    ]
   },
   "outputs": [],
   "source": [
    "def set_yaxis_range(df, y_col):\n",
    "    Y_MIN = df[y_col].min()\n",
    "    Y_MAX = df[y_col].max()\n",
    "    \n",
    "    return Y_MIN, Y_MAX\n",
    "\n",
    "# Rather than set it according to the operator, which can vary,\n",
    "# just use set thresholds for each group\n",
    "def top15_routes(df, route_group):\n",
    "    # grab top 15 routes where majority of trips are below that cut-off \n",
    "    # but show 15 max, otherwise, show less, since these won't be as interesting to operators\n",
    "    df2 = (df[(df.route_group==route_group) &\n",
    "              (df.pct_below_cutoff >= PCT_TRIPS_BELOW_CUTOFF)]\n",
    "           .sort_values([\"calitp_itp_id\", \"below_cutoff\", \n",
    "                         \"pct_below_cutoff\", \"route_id\"],\n",
    "                        ascending = [True, False, False, True]\n",
    "                       )\n",
    "           .drop_duplicates(subset=[\"calitp_itp_id\", \"route_id\"])\n",
    "          ).head(15)\n",
    "    \n",
    "    return list(df2.route_id)"
   ]
  },
  {
   "cell_type": "code",
   "execution_count": 11,
   "id": "cf36d559-3349-4144-8086-8ac9ce937a5a",
   "metadata": {
    "execution": {
     "iopub.execute_input": "2022-05-12T02:37:49.828885Z",
     "iopub.status.busy": "2022-05-12T02:37:49.828627Z",
     "iopub.status.idle": "2022-05-12T02:37:49.835262Z",
     "shell.execute_reply": "2022-05-12T02:37:49.834569Z"
    },
    "jupyter": {
     "source_hidden": true
    },
    "papermill": {
     "duration": 0.022916,
     "end_time": "2022-05-12T02:37:49.837033",
     "exception": false,
     "start_time": "2022-05-12T02:37:49.814117",
     "status": "completed"
    },
    "tags": [
     "remove_input"
    ]
   },
   "outputs": [],
   "source": [
    "def caption_with_cutoff(cutoff):\n",
    "    sentence = (\n",
    "        f\"<br>These are routes that have **at least {int(PCT_TRIPS_BELOW_CUTOFF*100)}% \"\n",
    "        \"of their trips take no more than an \"\n",
    "        f\"additional {cutoff} min** compared to a car \"\n",
    "        \"(up to 15 routes) are shown.\"\n",
    "        \"<br>Within each route group, routes are sorted in descending order \"\n",
    "        \"by % competitive trips and # trips below the additional time cut-off.\"\n",
    "    )\n",
    "    return sentence\n",
    "\n",
    "CAPTIONS_DICT = {\n",
    "    \"short\": caption_with_cutoff(diff_cutoffs['short']),\n",
    "    \"medium\": caption_with_cutoff(diff_cutoffs['medium']),\n",
    "    \"long\": caption_with_cutoff(diff_cutoffs['long']),\n",
    "}"
   ]
  },
  {
   "cell_type": "code",
   "execution_count": 12,
   "id": "e4306d58-6944-47e9-afef-5d5b524c751f",
   "metadata": {
    "execution": {
     "iopub.execute_input": "2022-05-12T02:37:49.866906Z",
     "iopub.status.busy": "2022-05-12T02:37:49.866633Z",
     "iopub.status.idle": "2022-05-12T02:37:49.873236Z",
     "shell.execute_reply": "2022-05-12T02:37:49.872344Z"
    },
    "jupyter": {
     "source_hidden": true
    },
    "papermill": {
     "duration": 0.025397,
     "end_time": "2022-05-12T02:37:49.875353",
     "exception": false,
     "start_time": "2022-05-12T02:37:49.849956",
     "status": "completed"
    },
    "tags": [
     "remove_input"
    ]
   },
   "outputs": [],
   "source": [
    "def setup_charts(df, PCT_COMPETITIVE_THRESHOLD, route_group):\n",
    "    # Set up df for charting (cut-off at some threshold to show most competitive routes)\n",
    "    plot_me = (df[df.pct_trips_competitive > PCT_COMPETITIVE_THRESHOLD]\n",
    "           .drop(columns = \"geometry\")\n",
    "    )\n",
    "    \n",
    "    # Set y-ranges to be the same across route_groups, \n",
    "    # otherwise charts fluctuate too much, even within operator\n",
    "    y_col1 = \"bus_multiplier\"\n",
    "    Y_MIN1, Y_MAX1 = set_yaxis_range(plot_me, y_col1)\n",
    "\n",
    "    y_col2 = \"bus_difference\"\n",
    "    Y_MIN2, Y_MAX2 = set_yaxis_range(plot_me, y_col2)\n",
    "    \n",
    "    # Grab the routes to plot\n",
    "    subset_routes = top15_routes(plot_me, route_group)\n",
    "        \n",
    "    # Display charts\n",
    "    multiplier_chart = parallel_corridors_utils.make_stripplot(\n",
    "        plot_me[plot_me.route_id.isin(subset_routes)], \n",
    "        y_col1, Y_MIN = Y_MIN1, Y_MAX = Y_MAX1\n",
    "    )\n",
    "    \n",
    "    difference_chart = parallel_corridors_utils.make_stripplot(\n",
    "        plot_me[plot_me.route_id.isin(subset_routes)], \n",
    "        y_col2, Y_MIN = Y_MIN2, Y_MAX = Y_MAX2\n",
    "    )\n",
    "    \n",
    "    return subset_routes, multiplier_chart, difference_chart            "
   ]
  },
  {
   "cell_type": "code",
   "execution_count": 13,
   "id": "33a710e8-504c-4942-aa75-ff69f216956e",
   "metadata": {
    "execution": {
     "iopub.execute_input": "2022-05-12T02:37:49.911482Z",
     "iopub.status.busy": "2022-05-12T02:37:49.911184Z",
     "iopub.status.idle": "2022-05-12T02:37:49.919146Z",
     "shell.execute_reply": "2022-05-12T02:37:49.918230Z"
    },
    "jupyter": {
     "source_hidden": true
    },
    "papermill": {
     "duration": 0.025783,
     "end_time": "2022-05-12T02:37:49.921572",
     "exception": false,
     "start_time": "2022-05-12T02:37:49.895789",
     "status": "completed"
    },
    "tags": [
     "remove_input"
    ]
   },
   "outputs": [],
   "source": [
    "def display_charts_for_route_group(df, route_group):    \n",
    "    subset_routes, mult, diff  = setup_charts(df, PCT_COMPETITIVE_THRESHOLD, route_group)\n",
    "\n",
    "    if len(subset_routes) > 0:\n",
    "        display(Markdown(f\"{CAPTIONS_DICT[route_group]}\"))\n",
    "\n",
    "        display(mult)\n",
    "        display(diff)\n",
    "        \n",
    "        # Display route stats for just plotted routes\n",
    "        style_route_stats(route_stats, subset_routes)"
   ]
  },
  {
   "cell_type": "markdown",
   "id": "525f9b38-072b-46d1-96a8-1aa4b038357c",
   "metadata": {
    "papermill": {
     "duration": 0.013514,
     "end_time": "2022-05-12T02:37:49.948925",
     "exception": false,
     "start_time": "2022-05-12T02:37:49.935411",
     "status": "completed"
    },
    "tags": []
   },
   "source": [
    "## Viable Competitive Routes\n",
    "### Short Routes (< 1 hr)"
   ]
  },
  {
   "cell_type": "code",
   "execution_count": 14,
   "id": "57f7084c-2cf7-45c6-ba08-1609e0bd6ca5",
   "metadata": {
    "execution": {
     "iopub.execute_input": "2022-05-12T02:37:49.981283Z",
     "iopub.status.busy": "2022-05-12T02:37:49.980963Z",
     "iopub.status.idle": "2022-05-12T02:37:50.269314Z",
     "shell.execute_reply": "2022-05-12T02:37:50.268583Z"
    },
    "jupyter": {
     "source_hidden": true
    },
    "papermill": {
     "duration": 0.308842,
     "end_time": "2022-05-12T02:37:50.271285",
     "exception": false,
     "start_time": "2022-05-12T02:37:49.962443",
     "status": "completed"
    },
    "tags": [
     "remove_input"
    ]
   },
   "outputs": [
    {
     "data": {
      "text/markdown": [
       "<br>These are routes that have **at least 50% of their trips take no more than an additional 20 min** compared to a car (up to 15 routes) are shown.<br>Within each route group, routes are sorted in descending order by % competitive trips and # trips below the additional time cut-off."
      ],
      "text/plain": [
       "<IPython.core.display.Markdown object>"
      ]
     },
     "metadata": {},
     "output_type": "display_data"
    },
    {
     "data": {
      "text/html": [
       "\n",
       "<div id=\"altair-viz-a5b8f9e0e460461ba574792c2a8a3944\"></div>\n",
       "<script type=\"text/javascript\">\n",
       "  var VEGA_DEBUG = (typeof VEGA_DEBUG == \"undefined\") ? {} : VEGA_DEBUG;\n",
       "  (function(spec, embedOpt){\n",
       "    let outputDiv = document.currentScript.previousElementSibling;\n",
       "    if (outputDiv.id !== \"altair-viz-a5b8f9e0e460461ba574792c2a8a3944\") {\n",
       "      outputDiv = document.getElementById(\"altair-viz-a5b8f9e0e460461ba574792c2a8a3944\");\n",
       "    }\n",
       "    const paths = {\n",
       "      \"vega\": \"https://cdn.jsdelivr.net/npm//vega@5?noext\",\n",
       "      \"vega-lib\": \"https://cdn.jsdelivr.net/npm//vega-lib?noext\",\n",
       "      \"vega-lite\": \"https://cdn.jsdelivr.net/npm//vega-lite@4.17.0?noext\",\n",
       "      \"vega-embed\": \"https://cdn.jsdelivr.net/npm//vega-embed@6?noext\",\n",
       "    };\n",
       "\n",
       "    function maybeLoadScript(lib, version) {\n",
       "      var key = `${lib.replace(\"-\", \"\")}_version`;\n",
       "      return (VEGA_DEBUG[key] == version) ?\n",
       "        Promise.resolve(paths[lib]) :\n",
       "        new Promise(function(resolve, reject) {\n",
       "          var s = document.createElement('script');\n",
       "          document.getElementsByTagName(\"head\")[0].appendChild(s);\n",
       "          s.async = true;\n",
       "          s.onload = () => {\n",
       "            VEGA_DEBUG[key] = version;\n",
       "            return resolve(paths[lib]);\n",
       "          };\n",
       "          s.onerror = () => reject(`Error loading script: ${paths[lib]}`);\n",
       "          s.src = paths[lib];\n",
       "        });\n",
       "    }\n",
       "\n",
       "    function showError(err) {\n",
       "      outputDiv.innerHTML = `<div class=\"error\" style=\"color:red;\">${err}</div>`;\n",
       "      throw err;\n",
       "    }\n",
       "\n",
       "    function displayChart(vegaEmbed) {\n",
       "      vegaEmbed(outputDiv, spec, embedOpt)\n",
       "        .catch(err => showError(`Javascript Error: ${err.message}<br>This usually means there's a typo in your chart specification. See the javascript console for the full traceback.`));\n",
       "    }\n",
       "\n",
       "    if(typeof define === \"function\" && define.amd) {\n",
       "      requirejs.config({paths});\n",
       "      require([\"vega-embed\"], displayChart, err => showError(`Error loading script: ${err.message}`));\n",
       "    } else {\n",
       "      maybeLoadScript(\"vega\", \"5\")\n",
       "        .then(() => maybeLoadScript(\"vega-lite\", \"4.17.0\"))\n",
       "        .then(() => maybeLoadScript(\"vega-embed\", \"6\"))\n",
       "        .catch(showError)\n",
       "        .then(() => displayChart(vegaEmbed));\n",
       "    }\n",
       "  })({\"config\": {\"view\": {\"continuousWidth\": 400, \"continuousHeight\": 300, \"stroke\": null}, \"facet\": {\"spacing\": 0}}, \"data\": {\"name\": \"data-abbf5b16c7710205459ca5c4a1298393\"}, \"facet\": {\"column\": {\"field\": \"route_id\", \"sort\": [\"358\"], \"title\": \"Route ID\", \"type\": \"nominal\"}}, \"spec\": {\"layer\": [{\"mark\": \"rule\", \"encoding\": {\"color\": {\"value\": \"black\"}, \"y\": {\"field\": \"cutoff\", \"type\": \"quantitative\"}}, \"selection\": {\"selector001\": {\"type\": \"interval\", \"bind\": \"scales\", \"encodings\": [\"x\", \"y\"]}}}, {\"mark\": {\"type\": \"point\", \"opacity\": 0.65, \"size\": 12, \"strokeWidth\": 1.1}, \"encoding\": {\"color\": {\"field\": \"time_of_day\", \"scale\": {\"range\": [\"#136C97\", \"#E16B26\", \"#F6BF16\", \"#00896B\", \"#7790A3\", \"#5B559C\"]}, \"sort\": [\"AM Peak\", \"Midday\", \"PM Peak\", \"Owl Service\"], \"title\": \"Time of Day\", \"type\": \"nominal\"}, \"tooltip\": [{\"field\": \"route_id\", \"type\": \"nominal\"}, {\"field\": \"route_name\", \"type\": \"nominal\"}, {\"field\": \"trip_id\", \"type\": \"nominal\"}, {\"field\": \"service_hours\", \"type\": \"quantitative\"}, {\"field\": \"car_duration_hours\", \"type\": \"quantitative\"}, {\"field\": \"bus_multiplier\", \"type\": \"quantitative\"}, {\"field\": \"bus_difference\", \"type\": \"quantitative\"}, {\"field\": \"num_trips\", \"type\": \"quantitative\"}, {\"field\": \"num_competitive\", \"type\": \"quantitative\"}, {\"field\": \"pct_trips_competitive\", \"type\": \"quantitative\"}, {\"field\": \"p25\", \"type\": \"quantitative\"}, {\"field\": \"p50\", \"type\": \"quantitative\"}, {\"field\": \"p75\", \"type\": \"quantitative\"}], \"x\": {\"axis\": {\"grid\": false, \"labels\": false, \"ticks\": true, \"values\": [0]}, \"field\": \"jitter\", \"scale\": {}, \"title\": null, \"type\": \"quantitative\"}, \"y\": {\"field\": \"bus_multiplier\", \"scale\": {\"domain\": [-0.25, 3.0]}, \"title\": \"Ratio of Bus to Car Travel Time\", \"type\": \"quantitative\"}}, \"transform\": [{\"calculate\": \"sqrt(-2*log(random()))*cos(2*PI*random())\", \"as\": \"jitter\"}], \"width\": 50}, {\"layer\": [{\"mark\": {\"type\": \"point\", \"opacity\": 0.6, \"size\": 20, \"strokeWidth\": 1.3}, \"encoding\": {\"color\": {\"value\": \"#323434\"}, \"y\": {\"field\": \"bus_multiplier\", \"type\": \"quantitative\"}}, \"transform\": [{\"filter\": \"(datum.p50_trip === 1)\"}]}, {\"mark\": {\"type\": \"text\", \"align\": \"center\", \"baseline\": \"middle\"}, \"encoding\": {\"color\": {\"value\": \"black\"}, \"text\": {\"field\": \"pct_trips_competitive\", \"format\": \".0%\", \"type\": \"quantitative\"}, \"tooltip\": [{\"field\": \"route_id\", \"type\": \"nominal\"}, {\"field\": \"route_name\", \"type\": \"nominal\"}, {\"field\": \"trip_id\", \"type\": \"nominal\"}, {\"field\": \"service_hours\", \"type\": \"quantitative\"}, {\"field\": \"car_duration_hours\", \"type\": \"quantitative\"}, {\"field\": \"bus_multiplier\", \"type\": \"quantitative\"}, {\"field\": \"bus_difference\", \"type\": \"quantitative\"}, {\"field\": \"num_trips\", \"type\": \"quantitative\"}, {\"field\": \"num_competitive\", \"type\": \"quantitative\"}, {\"field\": \"pct_trips_competitive\", \"type\": \"quantitative\"}, {\"field\": \"p25\", \"type\": \"quantitative\"}, {\"field\": \"p50\", \"type\": \"quantitative\"}, {\"field\": \"p75\", \"type\": \"quantitative\"}], \"x\": {\"value\": 30}, \"y\": {\"value\": 15}}, \"transform\": [{\"calculate\": \"sqrt(-2*log(random()))*cos(2*PI*random())\", \"as\": \"jitter\"}, {\"filter\": \"(datum.fastest_trip === 1)\"}]}]}]}, \"resolve\": {\"scale\": {\"y\": \"shared\"}}, \"title\": \"Ratio of Bus to Car Travel Time\", \"$schema\": \"https://vega.github.io/schema/vega-lite/v4.17.0.json\", \"datasets\": {\"data-abbf5b16c7710205459ca5c4a1298393\": [{\"calitp_itp_id\": 238, \"trip_key\": -7753360842071914817, \"trip_id\": \"t_1286100_b_26962_tn_0\", \"shape_id\": \"p_900480\", \"route_id\": \"358\", \"service_hours\": 0.5, \"trip_first_departure_ts\": 50400, \"trip_last_arrival_ts\": 52200, \"departure_hour\": 14, \"time_of_day\": \"Midday\", \"p25\": 0.5, \"p50\": 0.54, \"p75\": 0.58, \"p50_trip\": 0, \"fastest_trip\": 0, \"car_duration_hours\": 0.52, \"competitive_route\": 1, \"bus_multiplier\": 0.96, \"bus_difference\": -1.2, \"num_trips\": 4, \"num_competitive\": 4, \"pct_trips_competitive\": 1.0, \"bus_difference_spread\": 4.8, \"route_group\": \"short\", \"max_trip_hrs\": 0.58, \"max_trip_route_group\": 0.58, \"below_cutoff\": 4, \"pct_below_cutoff\": 1.0, \"name\": \"Palo Verde Valley Transit Agency\", \"caltrans_district\": \"08 - San Bernardino\", \"drmt_organization_name\": \"['recWtrXNy0XSWd90F']\", \"route_name\": \"Express To Ca Prison Facilities\", \"cutoff2\": 20, \"cutoff\": 2}, {\"calitp_itp_id\": 238, \"trip_key\": -3659600200010938693, \"trip_id\": \"t_1286101_b_26962_tn_0\", \"shape_id\": \"p_900480\", \"route_id\": \"358\", \"service_hours\": 0.5, \"trip_first_departure_ts\": 57600, \"trip_last_arrival_ts\": 59400, \"departure_hour\": 16, \"time_of_day\": \"Midday\", \"p25\": 0.5, \"p50\": 0.54, \"p75\": 0.58, \"p50_trip\": 0, \"fastest_trip\": 1, \"car_duration_hours\": 0.52, \"competitive_route\": 1, \"bus_multiplier\": 0.96, \"bus_difference\": -1.2, \"num_trips\": 4, \"num_competitive\": 4, \"pct_trips_competitive\": 1.0, \"bus_difference_spread\": 4.8, \"route_group\": \"short\", \"max_trip_hrs\": 0.58, \"max_trip_route_group\": 0.58, \"below_cutoff\": 4, \"pct_below_cutoff\": 1.0, \"name\": \"Palo Verde Valley Transit Agency\", \"caltrans_district\": \"08 - San Bernardino\", \"drmt_organization_name\": \"['recWtrXNy0XSWd90F']\", \"route_name\": \"Express To Ca Prison Facilities\", \"cutoff2\": 20, \"cutoff\": 2}, {\"calitp_itp_id\": 238, \"trip_key\": -4228541924161864439, \"trip_id\": \"t_1285719_b_26962_tn_0\", \"shape_id\": \"p_900479\", \"route_id\": \"358\", \"service_hours\": 0.58, \"trip_first_departure_ts\": 26400, \"trip_last_arrival_ts\": 28500, \"departure_hour\": 7, \"time_of_day\": \"AM Peak\", \"p25\": 0.5, \"p50\": 0.54, \"p75\": 0.58, \"p50_trip\": 1, \"fastest_trip\": 0, \"car_duration_hours\": 0.52, \"competitive_route\": 1, \"bus_multiplier\": 1.12, \"bus_difference\": 3.6, \"num_trips\": 4, \"num_competitive\": 4, \"pct_trips_competitive\": 1.0, \"bus_difference_spread\": 4.8, \"route_group\": \"short\", \"max_trip_hrs\": 0.58, \"max_trip_route_group\": 0.58, \"below_cutoff\": 4, \"pct_below_cutoff\": 1.0, \"name\": \"Palo Verde Valley Transit Agency\", \"caltrans_district\": \"08 - San Bernardino\", \"drmt_organization_name\": \"['recWtrXNy0XSWd90F']\", \"route_name\": \"Express To Ca Prison Facilities\", \"cutoff2\": 20, \"cutoff\": 2}, {\"calitp_itp_id\": 238, \"trip_key\": -24069298854092875, \"trip_id\": \"t_1285717_b_26962_tn_0\", \"shape_id\": \"p_900479\", \"route_id\": \"358\", \"service_hours\": 0.58, \"trip_first_departure_ts\": 19200, \"trip_last_arrival_ts\": 21300, \"departure_hour\": 5, \"time_of_day\": \"Owl Service\", \"p25\": 0.5, \"p50\": 0.54, \"p75\": 0.58, \"p50_trip\": 1, \"fastest_trip\": 0, \"car_duration_hours\": 0.52, \"competitive_route\": 1, \"bus_multiplier\": 1.12, \"bus_difference\": 3.6, \"num_trips\": 4, \"num_competitive\": 4, \"pct_trips_competitive\": 1.0, \"bus_difference_spread\": 4.8, \"route_group\": \"short\", \"max_trip_hrs\": 0.58, \"max_trip_route_group\": 0.58, \"below_cutoff\": 4, \"pct_below_cutoff\": 1.0, \"name\": \"Palo Verde Valley Transit Agency\", \"caltrans_district\": \"08 - San Bernardino\", \"drmt_organization_name\": \"['recWtrXNy0XSWd90F']\", \"route_name\": \"Express To Ca Prison Facilities\", \"cutoff2\": 20, \"cutoff\": 2}]}}, {\"mode\": \"vega-lite\"});\n",
       "</script>"
      ],
      "text/plain": [
       "alt.FacetChart(...)"
      ]
     },
     "metadata": {},
     "output_type": "display_data"
    },
    {
     "data": {
      "text/html": [
       "\n",
       "<div id=\"altair-viz-98368664651941f3b1ca523ad3d70bf6\"></div>\n",
       "<script type=\"text/javascript\">\n",
       "  var VEGA_DEBUG = (typeof VEGA_DEBUG == \"undefined\") ? {} : VEGA_DEBUG;\n",
       "  (function(spec, embedOpt){\n",
       "    let outputDiv = document.currentScript.previousElementSibling;\n",
       "    if (outputDiv.id !== \"altair-viz-98368664651941f3b1ca523ad3d70bf6\") {\n",
       "      outputDiv = document.getElementById(\"altair-viz-98368664651941f3b1ca523ad3d70bf6\");\n",
       "    }\n",
       "    const paths = {\n",
       "      \"vega\": \"https://cdn.jsdelivr.net/npm//vega@5?noext\",\n",
       "      \"vega-lib\": \"https://cdn.jsdelivr.net/npm//vega-lib?noext\",\n",
       "      \"vega-lite\": \"https://cdn.jsdelivr.net/npm//vega-lite@4.17.0?noext\",\n",
       "      \"vega-embed\": \"https://cdn.jsdelivr.net/npm//vega-embed@6?noext\",\n",
       "    };\n",
       "\n",
       "    function maybeLoadScript(lib, version) {\n",
       "      var key = `${lib.replace(\"-\", \"\")}_version`;\n",
       "      return (VEGA_DEBUG[key] == version) ?\n",
       "        Promise.resolve(paths[lib]) :\n",
       "        new Promise(function(resolve, reject) {\n",
       "          var s = document.createElement('script');\n",
       "          document.getElementsByTagName(\"head\")[0].appendChild(s);\n",
       "          s.async = true;\n",
       "          s.onload = () => {\n",
       "            VEGA_DEBUG[key] = version;\n",
       "            return resolve(paths[lib]);\n",
       "          };\n",
       "          s.onerror = () => reject(`Error loading script: ${paths[lib]}`);\n",
       "          s.src = paths[lib];\n",
       "        });\n",
       "    }\n",
       "\n",
       "    function showError(err) {\n",
       "      outputDiv.innerHTML = `<div class=\"error\" style=\"color:red;\">${err}</div>`;\n",
       "      throw err;\n",
       "    }\n",
       "\n",
       "    function displayChart(vegaEmbed) {\n",
       "      vegaEmbed(outputDiv, spec, embedOpt)\n",
       "        .catch(err => showError(`Javascript Error: ${err.message}<br>This usually means there's a typo in your chart specification. See the javascript console for the full traceback.`));\n",
       "    }\n",
       "\n",
       "    if(typeof define === \"function\" && define.amd) {\n",
       "      requirejs.config({paths});\n",
       "      require([\"vega-embed\"], displayChart, err => showError(`Error loading script: ${err.message}`));\n",
       "    } else {\n",
       "      maybeLoadScript(\"vega\", \"5\")\n",
       "        .then(() => maybeLoadScript(\"vega-lite\", \"4.17.0\"))\n",
       "        .then(() => maybeLoadScript(\"vega-embed\", \"6\"))\n",
       "        .catch(showError)\n",
       "        .then(() => displayChart(vegaEmbed));\n",
       "    }\n",
       "  })({\"config\": {\"view\": {\"continuousWidth\": 400, \"continuousHeight\": 300, \"stroke\": null}, \"facet\": {\"spacing\": 0}}, \"data\": {\"name\": \"data-786d80798497247c1060db879c685e0d\"}, \"facet\": {\"column\": {\"field\": \"route_id\", \"sort\": [\"358\"], \"title\": \"Route ID\", \"type\": \"nominal\"}}, \"spec\": {\"layer\": [{\"mark\": \"rule\", \"encoding\": {\"color\": {\"value\": \"black\"}, \"y\": {\"field\": \"cutoff\", \"type\": \"quantitative\"}}, \"selection\": {\"selector002\": {\"type\": \"interval\", \"bind\": \"scales\", \"encodings\": [\"x\", \"y\"]}}}, {\"mark\": {\"type\": \"rule\", \"strokeDash\": [3, 3]}, \"encoding\": {\"color\": {\"value\": \"#323434\"}, \"y\": {\"field\": \"cutoff2\", \"type\": \"quantitative\"}}}, {\"mark\": {\"type\": \"point\", \"opacity\": 0.65, \"size\": 12, \"strokeWidth\": 1.1}, \"encoding\": {\"color\": {\"field\": \"time_of_day\", \"scale\": {\"range\": [\"#136C97\", \"#E16B26\", \"#F6BF16\", \"#00896B\", \"#7790A3\", \"#5B559C\"]}, \"sort\": [\"AM Peak\", \"Midday\", \"PM Peak\", \"Owl Service\"], \"title\": \"Time of Day\", \"type\": \"nominal\"}, \"tooltip\": [{\"field\": \"route_id\", \"type\": \"nominal\"}, {\"field\": \"route_name\", \"type\": \"nominal\"}, {\"field\": \"trip_id\", \"type\": \"nominal\"}, {\"field\": \"service_hours\", \"type\": \"quantitative\"}, {\"field\": \"car_duration_hours\", \"type\": \"quantitative\"}, {\"field\": \"bus_multiplier\", \"type\": \"quantitative\"}, {\"field\": \"bus_difference\", \"type\": \"quantitative\"}, {\"field\": \"num_trips\", \"type\": \"quantitative\"}, {\"field\": \"num_competitive\", \"type\": \"quantitative\"}, {\"field\": \"pct_trips_competitive\", \"type\": \"quantitative\"}, {\"field\": \"p25\", \"type\": \"quantitative\"}, {\"field\": \"p50\", \"type\": \"quantitative\"}, {\"field\": \"p75\", \"type\": \"quantitative\"}], \"x\": {\"axis\": {\"grid\": false, \"labels\": false, \"ticks\": true, \"values\": [0]}, \"field\": \"jitter\", \"scale\": {}, \"title\": null, \"type\": \"quantitative\"}, \"y\": {\"field\": \"bus_difference\", \"scale\": {\"domain\": [-5, 25.0]}, \"title\": \"Difference in Bus to Car Travel Time (min)\", \"type\": \"quantitative\"}}, \"transform\": [{\"calculate\": \"sqrt(-2*log(random()))*cos(2*PI*random())\", \"as\": \"jitter\"}], \"width\": 50}, {\"layer\": [{\"mark\": {\"type\": \"point\", \"opacity\": 0.6, \"size\": 20, \"strokeWidth\": 1.3}, \"encoding\": {\"color\": {\"value\": \"#323434\"}, \"y\": {\"field\": \"bus_difference\", \"type\": \"quantitative\"}}, \"transform\": [{\"filter\": \"(datum.p50_trip === 1)\"}]}, {\"mark\": {\"type\": \"text\", \"align\": \"center\", \"baseline\": \"middle\"}, \"encoding\": {\"color\": {\"value\": \"black\"}, \"text\": {\"field\": \"pct_trips_competitive\", \"format\": \".0%\", \"type\": \"quantitative\"}, \"tooltip\": [{\"field\": \"route_id\", \"type\": \"nominal\"}, {\"field\": \"route_name\", \"type\": \"nominal\"}, {\"field\": \"trip_id\", \"type\": \"nominal\"}, {\"field\": \"service_hours\", \"type\": \"quantitative\"}, {\"field\": \"car_duration_hours\", \"type\": \"quantitative\"}, {\"field\": \"bus_multiplier\", \"type\": \"quantitative\"}, {\"field\": \"bus_difference\", \"type\": \"quantitative\"}, {\"field\": \"num_trips\", \"type\": \"quantitative\"}, {\"field\": \"num_competitive\", \"type\": \"quantitative\"}, {\"field\": \"pct_trips_competitive\", \"type\": \"quantitative\"}, {\"field\": \"p25\", \"type\": \"quantitative\"}, {\"field\": \"p50\", \"type\": \"quantitative\"}, {\"field\": \"p75\", \"type\": \"quantitative\"}], \"x\": {\"value\": 30}, \"y\": {\"value\": 15}}, \"transform\": [{\"calculate\": \"sqrt(-2*log(random()))*cos(2*PI*random())\", \"as\": \"jitter\"}, {\"filter\": \"(datum.fastest_trip === 1)\"}]}]}]}, \"resolve\": {\"scale\": {\"y\": \"shared\"}}, \"title\": \"Difference in Bus to Car Travel Time (min)\", \"$schema\": \"https://vega.github.io/schema/vega-lite/v4.17.0.json\", \"datasets\": {\"data-786d80798497247c1060db879c685e0d\": [{\"calitp_itp_id\": 238, \"trip_key\": -7753360842071914817, \"trip_id\": \"t_1286100_b_26962_tn_0\", \"shape_id\": \"p_900480\", \"route_id\": \"358\", \"service_hours\": 0.5, \"trip_first_departure_ts\": 50400, \"trip_last_arrival_ts\": 52200, \"departure_hour\": 14, \"time_of_day\": \"Midday\", \"p25\": 0.5, \"p50\": 0.54, \"p75\": 0.58, \"p50_trip\": 0, \"fastest_trip\": 0, \"car_duration_hours\": 0.52, \"competitive_route\": 1, \"bus_multiplier\": 0.96, \"bus_difference\": -1.2, \"num_trips\": 4, \"num_competitive\": 4, \"pct_trips_competitive\": 1.0, \"bus_difference_spread\": 4.8, \"route_group\": \"short\", \"max_trip_hrs\": 0.58, \"max_trip_route_group\": 0.58, \"below_cutoff\": 4, \"pct_below_cutoff\": 1.0, \"name\": \"Palo Verde Valley Transit Agency\", \"caltrans_district\": \"08 - San Bernardino\", \"drmt_organization_name\": \"['recWtrXNy0XSWd90F']\", \"route_name\": \"Express To Ca Prison Facilities\", \"cutoff2\": 20, \"cutoff\": 0}, {\"calitp_itp_id\": 238, \"trip_key\": -3659600200010938693, \"trip_id\": \"t_1286101_b_26962_tn_0\", \"shape_id\": \"p_900480\", \"route_id\": \"358\", \"service_hours\": 0.5, \"trip_first_departure_ts\": 57600, \"trip_last_arrival_ts\": 59400, \"departure_hour\": 16, \"time_of_day\": \"Midday\", \"p25\": 0.5, \"p50\": 0.54, \"p75\": 0.58, \"p50_trip\": 0, \"fastest_trip\": 1, \"car_duration_hours\": 0.52, \"competitive_route\": 1, \"bus_multiplier\": 0.96, \"bus_difference\": -1.2, \"num_trips\": 4, \"num_competitive\": 4, \"pct_trips_competitive\": 1.0, \"bus_difference_spread\": 4.8, \"route_group\": \"short\", \"max_trip_hrs\": 0.58, \"max_trip_route_group\": 0.58, \"below_cutoff\": 4, \"pct_below_cutoff\": 1.0, \"name\": \"Palo Verde Valley Transit Agency\", \"caltrans_district\": \"08 - San Bernardino\", \"drmt_organization_name\": \"['recWtrXNy0XSWd90F']\", \"route_name\": \"Express To Ca Prison Facilities\", \"cutoff2\": 20, \"cutoff\": 0}, {\"calitp_itp_id\": 238, \"trip_key\": -4228541924161864439, \"trip_id\": \"t_1285719_b_26962_tn_0\", \"shape_id\": \"p_900479\", \"route_id\": \"358\", \"service_hours\": 0.58, \"trip_first_departure_ts\": 26400, \"trip_last_arrival_ts\": 28500, \"departure_hour\": 7, \"time_of_day\": \"AM Peak\", \"p25\": 0.5, \"p50\": 0.54, \"p75\": 0.58, \"p50_trip\": 1, \"fastest_trip\": 0, \"car_duration_hours\": 0.52, \"competitive_route\": 1, \"bus_multiplier\": 1.12, \"bus_difference\": 3.6, \"num_trips\": 4, \"num_competitive\": 4, \"pct_trips_competitive\": 1.0, \"bus_difference_spread\": 4.8, \"route_group\": \"short\", \"max_trip_hrs\": 0.58, \"max_trip_route_group\": 0.58, \"below_cutoff\": 4, \"pct_below_cutoff\": 1.0, \"name\": \"Palo Verde Valley Transit Agency\", \"caltrans_district\": \"08 - San Bernardino\", \"drmt_organization_name\": \"['recWtrXNy0XSWd90F']\", \"route_name\": \"Express To Ca Prison Facilities\", \"cutoff2\": 20, \"cutoff\": 0}, {\"calitp_itp_id\": 238, \"trip_key\": -24069298854092875, \"trip_id\": \"t_1285717_b_26962_tn_0\", \"shape_id\": \"p_900479\", \"route_id\": \"358\", \"service_hours\": 0.58, \"trip_first_departure_ts\": 19200, \"trip_last_arrival_ts\": 21300, \"departure_hour\": 5, \"time_of_day\": \"Owl Service\", \"p25\": 0.5, \"p50\": 0.54, \"p75\": 0.58, \"p50_trip\": 1, \"fastest_trip\": 0, \"car_duration_hours\": 0.52, \"competitive_route\": 1, \"bus_multiplier\": 1.12, \"bus_difference\": 3.6, \"num_trips\": 4, \"num_competitive\": 4, \"pct_trips_competitive\": 1.0, \"bus_difference_spread\": 4.8, \"route_group\": \"short\", \"max_trip_hrs\": 0.58, \"max_trip_route_group\": 0.58, \"below_cutoff\": 4, \"pct_below_cutoff\": 1.0, \"name\": \"Palo Verde Valley Transit Agency\", \"caltrans_district\": \"08 - San Bernardino\", \"drmt_organization_name\": \"['recWtrXNy0XSWd90F']\", \"route_name\": \"Express To Ca Prison Facilities\", \"cutoff2\": 20, \"cutoff\": 0}]}}, {\"mode\": \"vega-lite\"});\n",
       "</script>"
      ],
      "text/plain": [
       "alt.FacetChart(...)"
      ]
     },
     "metadata": {},
     "output_type": "display_data"
    },
    {
     "data": {
      "text/html": [
       "<h4>Route Stats</h4>"
      ],
      "text/plain": [
       "<IPython.core.display.HTML object>"
      ]
     },
     "metadata": {},
     "output_type": "display_data"
    },
    {
     "data": {
      "text/html": [
       "<style type=\"text/css\">\n",
       "#T_b0feb th {\n",
       "  text-align: center;\n",
       "}\n",
       "#T_b0feb_row0_col0, #T_b0feb_row0_col1 {\n",
       "  text-align: left;\n",
       "}\n",
       "#T_b0feb_row0_col2, #T_b0feb_row0_col3, #T_b0feb_row0_col5 {\n",
       "  text-align: center;\n",
       "}\n",
       "</style>\n",
       "<table id=\"T_b0feb\">\n",
       "  <thead>\n",
       "    <tr>\n",
       "      <th id=\"T_b0feb_level0_col0\" class=\"col_heading level0 col0\" >Route ID</th>\n",
       "      <th id=\"T_b0feb_level0_col1\" class=\"col_heading level0 col1\" >Route Name</th>\n",
       "      <th id=\"T_b0feb_level0_col2\" class=\"col_heading level0 col2\" ># trips</th>\n",
       "      <th id=\"T_b0feb_level0_col3\" class=\"col_heading level0 col3\" >Daily Avg Freq (trips per hr)</th>\n",
       "      <th id=\"T_b0feb_level0_col4\" class=\"col_heading level0 col4\" >25th, 50th, 75th ptile (hrs)</th>\n",
       "      <th id=\"T_b0feb_level0_col5\" class=\"col_heading level0 col5\" >PM Peak Avg Freq (trips per hr)</th>\n",
       "    </tr>\n",
       "  </thead>\n",
       "  <tbody>\n",
       "    <tr>\n",
       "      <td id=\"T_b0feb_row0_col0\" class=\"data row0 col0\" >358</td>\n",
       "      <td id=\"T_b0feb_row0_col1\" class=\"data row0 col1\" >Express To Ca Prison Facilities</td>\n",
       "      <td id=\"T_b0feb_row0_col2\" class=\"data row0 col2\" >4</td>\n",
       "      <td id=\"T_b0feb_row0_col3\" class=\"data row0 col3\" >0.17</td>\n",
       "      <td id=\"T_b0feb_row0_col4\" class=\"data row0 col4\" >0.5, 0.54, 0.58</td>\n",
       "      <td id=\"T_b0feb_row0_col5\" class=\"data row0 col5\" >nan</td>\n",
       "    </tr>\n",
       "  </tbody>\n",
       "</table>\n"
      ],
      "text/plain": [
       "<IPython.core.display.HTML object>"
      ]
     },
     "metadata": {},
     "output_type": "display_data"
    }
   ],
   "source": [
    "# Allow for possibility that operator doesn't have routes that fall into certain route_groups\n",
    "# But, jupyterbook will not like markdown with f-string\n",
    "# separate out route_group and put in each cell, and use try/except + if to display...\n",
    "# but all 3 route groups must be displayed. just add sentence about why no routes were returned at the end\n",
    "route_group = \"short\"\n",
    "try:\n",
    "    display_charts_for_route_group(df, route_group)\n",
    "except:\n",
    "    print(\"No routes meet this criteria.\")"
   ]
  },
  {
   "cell_type": "markdown",
   "id": "c2931b6f-034d-4384-9e14-80b925e3b820",
   "metadata": {
    "papermill": {
     "duration": 0.017315,
     "end_time": "2022-05-12T02:37:50.310370",
     "exception": false,
     "start_time": "2022-05-12T02:37:50.293055",
     "status": "completed"
    },
    "tags": []
   },
   "source": [
    "### Medium Routes (1-1.5 hrs)"
   ]
  },
  {
   "cell_type": "code",
   "execution_count": 15,
   "id": "480edddc-4de0-48c2-ae4c-b0ceef8f28b5",
   "metadata": {
    "execution": {
     "iopub.execute_input": "2022-05-12T02:37:50.346312Z",
     "iopub.status.busy": "2022-05-12T02:37:50.346020Z",
     "iopub.status.idle": "2022-05-12T02:37:50.359903Z",
     "shell.execute_reply": "2022-05-12T02:37:50.359146Z"
    },
    "jupyter": {
     "source_hidden": true
    },
    "papermill": {
     "duration": 0.033662,
     "end_time": "2022-05-12T02:37:50.361672",
     "exception": false,
     "start_time": "2022-05-12T02:37:50.328010",
     "status": "completed"
    },
    "tags": [
     "remove_input"
    ]
   },
   "outputs": [
    {
     "name": "stdout",
     "output_type": "stream",
     "text": [
      "No routes meet this criteria.\n"
     ]
    }
   ],
   "source": [
    "route_group = \"medium\"\n",
    "try:\n",
    "    display_charts_for_route_group(df, route_group)\n",
    "except:\n",
    "    print(\"No routes meet this criteria.\")"
   ]
  },
  {
   "cell_type": "markdown",
   "id": "124b76d0-886c-4d03-92ac-f1bda3cda182",
   "metadata": {
    "papermill": {
     "duration": 0.024952,
     "end_time": "2022-05-12T02:37:50.403906",
     "exception": false,
     "start_time": "2022-05-12T02:37:50.378954",
     "status": "completed"
    },
    "tags": []
   },
   "source": [
    "### Long Routes (> 1.5 hrs)"
   ]
  },
  {
   "cell_type": "code",
   "execution_count": 16,
   "id": "ddc81b19-4c45-4c81-8b7a-5e0f394aa7a3",
   "metadata": {
    "execution": {
     "iopub.execute_input": "2022-05-12T02:37:50.438777Z",
     "iopub.status.busy": "2022-05-12T02:37:50.437851Z",
     "iopub.status.idle": "2022-05-12T02:37:50.448976Z",
     "shell.execute_reply": "2022-05-12T02:37:50.448451Z"
    },
    "jupyter": {
     "source_hidden": true
    },
    "papermill": {
     "duration": 0.030373,
     "end_time": "2022-05-12T02:37:50.450571",
     "exception": false,
     "start_time": "2022-05-12T02:37:50.420198",
     "status": "completed"
    },
    "tags": [
     "remove_input"
    ]
   },
   "outputs": [
    {
     "name": "stdout",
     "output_type": "stream",
     "text": [
      "No routes meet this criteria.\n"
     ]
    }
   ],
   "source": [
    "route_group = \"long\"\n",
    "try:\n",
    "    display_charts_for_route_group(df, route_group)\n",
    "except:\n",
    "    print(\"No routes meet this criteria.\")"
   ]
  },
  {
   "cell_type": "markdown",
   "id": "ace75b5f-0442-4fbe-aebd-6c3a13ae13a7",
   "metadata": {
    "papermill": {
     "duration": 0.016901,
     "end_time": "2022-05-12T02:37:50.486109",
     "exception": false,
     "start_time": "2022-05-12T02:37:50.469208",
     "status": "completed"
    },
    "tags": []
   },
   "source": [
    "### GTFS Real-Time Speedmaps"
   ]
  },
  {
   "cell_type": "code",
   "execution_count": 17,
   "id": "a0a114a1-e975-4027-9daf-50029f5ef59f",
   "metadata": {
    "execution": {
     "iopub.execute_input": "2022-05-12T02:37:50.521223Z",
     "iopub.status.busy": "2022-05-12T02:37:50.520714Z",
     "iopub.status.idle": "2022-05-12T02:37:50.542455Z",
     "shell.execute_reply": "2022-05-12T02:37:50.541712Z"
    },
    "jupyter": {
     "source_hidden": true
    },
    "papermill": {
     "duration": 0.041538,
     "end_time": "2022-05-12T02:37:50.544235",
     "exception": false,
     "start_time": "2022-05-12T02:37:50.502697",
     "status": "completed"
    },
    "tags": [
     "remove_input"
    ]
   },
   "outputs": [
    {
     "data": {
      "text/html": [
       "No GTFS RT data available."
      ],
      "text/plain": [
       "<IPython.core.display.HTML object>"
      ]
     },
     "metadata": {},
     "output_type": "display_data"
    }
   ],
   "source": [
    "RT_SITE_YAML = \"../portfolio/sites/rt.yml\"\n",
    "\n",
    "# Grab list of ITP IDs with GTFS RT speedmaps\n",
    "rt_itp_id = deploy_portfolio_yaml.check_if_rt_data_available(RT_SITE_YAML)\n",
    "\n",
    "# Construct the URL \n",
    "RT_URL = (\"https://analysis.calitp.org/rt/\"\n",
    "          f\"district_{district_number}-{district_name}/\"\n",
    "          f\"speedmaps__itp_id_{itp_id}.html\"\n",
    "         ) \n",
    "\n",
    "# If this ITP ID is found in RT analysis, give URL to that operator in analysis.calitp.org\n",
    "if itp_id in rt_itp_id:\n",
    "    display(HTML(f'''<a href={RT_URL}>GTFS RT speedmaps here.</a>'''))\n",
    "\n",
    "else:\n",
    "    display(HTML(\"No GTFS RT data available.\"))"
   ]
  },
  {
   "cell_type": "code",
   "execution_count": null,
   "id": "5b680565-2230-4f2e-817c-718fad48d64c",
   "metadata": {
    "jupyter": {
     "source_hidden": true
    },
    "papermill": {
     "duration": 0.017621,
     "end_time": "2022-05-12T02:37:50.579988",
     "exception": false,
     "start_time": "2022-05-12T02:37:50.562367",
     "status": "completed"
    },
    "tags": [
     "remove_input"
    ]
   },
   "outputs": [],
   "source": []
  }
 ],
 "metadata": {
  "kernelspec": {
   "display_name": "Python 3 (ipykernel)",
   "language": "python",
   "name": "python3"
  },
  "language_info": {
   "codemirror_mode": {
    "name": "ipython",
    "version": 3
   },
   "file_extension": ".py",
   "mimetype": "text/x-python",
   "name": "python",
   "nbconvert_exporter": "python",
   "pygments_lexer": "ipython3",
   "version": "3.9.12"
  },
  "papermill": {
   "default_parameters": {},
   "duration": 23.238883,
   "end_time": "2022-05-12T02:37:51.825789",
   "environment_variables": {},
   "exception": null,
   "input_path": "bus_service_increase/competitive-parallel-routes.ipynb",
   "output_path": "portfolio/parallel_corridors/district_08-san-bernardino/6__competitive-parallel-routes__district_08-san-bernardino__itp_id_238.ipynb",
   "parameters": {
    "district": "08 - San Bernardino",
    "itp_id": 238
   },
   "start_time": "2022-05-12T02:37:28.586906",
   "version": "2.3.4"
  }
 },
 "nbformat": 4,
 "nbformat_minor": 5
}