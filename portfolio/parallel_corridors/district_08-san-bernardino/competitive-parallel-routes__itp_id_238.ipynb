{
 "cells": [
  {
   "cell_type": "code",
   "execution_count": 1,
   "id": "95d00857-6a20-4529-a519-2cc7182928a9",
   "metadata": {
    "execution": {
     "iopub.execute_input": "2022-05-09T17:13:46.304492Z",
     "iopub.status.busy": "2022-05-09T17:13:46.303803Z",
     "iopub.status.idle": "2022-05-09T17:13:55.446762Z",
     "shell.execute_reply": "2022-05-09T17:13:55.445808Z"
    },
    "jupyter": {
     "source_hidden": true
    },
    "papermill": {
     "duration": 9.17618,
     "end_time": "2022-05-09T17:13:55.449717",
     "exception": false,
     "start_time": "2022-05-09T17:13:46.273537",
     "status": "completed"
    },
    "tags": [
     "remove_input"
    ]
   },
   "outputs": [],
   "source": [
    "%%capture\n",
    "import warnings\n",
    "warnings.filterwarnings('ignore')\n",
    "\n",
    "import altair as alt\n",
    "import calitp.magics\n",
    "import geopandas as gpd\n",
    "import intake\n",
    "import pandas as pd\n",
    "\n",
    "from IPython.display import display, Markdown, HTML\n",
    "\n",
    "import parallel_corridors_utils\n",
    "from shared_utils import styleguide\n",
    "import deploy_portfolio_yaml\n",
    "\n",
    "catalog = intake.open_catalog(\"./*.yml\")\n",
    "alt.renderers.enable(\"html\")"
   ]
  },
  {
   "cell_type": "code",
   "execution_count": 2,
   "id": "8af2a0c1-f3da-408d-9bea-11d9fbf8695d",
   "metadata": {
    "execution": {
     "iopub.execute_input": "2022-05-09T17:13:55.478353Z",
     "iopub.status.busy": "2022-05-09T17:13:55.477623Z",
     "iopub.status.idle": "2022-05-09T17:13:55.483252Z",
     "shell.execute_reply": "2022-05-09T17:13:55.482130Z"
    },
    "jupyter": {
     "source_hidden": true
    },
    "papermill": {
     "duration": 0.022254,
     "end_time": "2022-05-09T17:13:55.485766",
     "exception": false,
     "start_time": "2022-05-09T17:13:55.463512",
     "status": "completed"
    },
    "tags": [
     "parameters",
     "remove_input"
    ]
   },
   "outputs": [],
   "source": [
    "# parameters cell\n",
    "itp_id = 182"
   ]
  },
  {
   "cell_type": "code",
   "execution_count": 3,
   "id": "032565b6",
   "metadata": {
    "execution": {
     "iopub.execute_input": "2022-05-09T17:13:55.522093Z",
     "iopub.status.busy": "2022-05-09T17:13:55.521273Z",
     "iopub.status.idle": "2022-05-09T17:13:55.526563Z",
     "shell.execute_reply": "2022-05-09T17:13:55.525899Z"
    },
    "jupyter": {
     "source_hidden": true
    },
    "papermill": {
     "duration": 0.030607,
     "end_time": "2022-05-09T17:13:55.528577",
     "exception": false,
     "start_time": "2022-05-09T17:13:55.497970",
     "status": "completed"
    },
    "tags": [
     "injected-parameters",
     "remove_input"
    ]
   },
   "outputs": [],
   "source": [
    "# Parameters\n",
    "district = \"08 - San Bernardino\"\n",
    "itp_id = 238\n"
   ]
  },
  {
   "cell_type": "code",
   "execution_count": 4,
   "id": "9582aaf4-79ff-412a-b248-8d8d693ebd4f",
   "metadata": {
    "execution": {
     "iopub.execute_input": "2022-05-09T17:13:55.557628Z",
     "iopub.status.busy": "2022-05-09T17:13:55.556816Z",
     "iopub.status.idle": "2022-05-09T17:13:57.024648Z",
     "shell.execute_reply": "2022-05-09T17:13:57.020768Z"
    },
    "jupyter": {
     "source_hidden": true
    },
    "papermill": {
     "duration": 1.500312,
     "end_time": "2022-05-09T17:13:57.041877",
     "exception": false,
     "start_time": "2022-05-09T17:13:55.541565",
     "status": "completed"
    },
    "tags": [
     "remove_input"
    ]
   },
   "outputs": [],
   "source": [
    "df = catalog.competitive_route_variability.read()\n",
    "\n",
    "df = (df[(df.calitp_itp_id == itp_id) & \n",
    "         (df.route_group.notna())]\n",
    "      .reset_index(drop=True)\n",
    "     )\n",
    "\n",
    "\n",
    "if itp_id == 182:\n",
    "    df = df.assign(\n",
    "        route_id = df.route_id.str.replace('-13153', '').astype(int)\n",
    "    )"
   ]
  },
  {
   "cell_type": "code",
   "execution_count": 5,
   "id": "33ac4b06-f647-4dce-a625-8f2c1b37cc60",
   "metadata": {
    "execution": {
     "iopub.execute_input": "2022-05-09T17:13:57.093727Z",
     "iopub.status.busy": "2022-05-09T17:13:57.093037Z",
     "iopub.status.idle": "2022-05-09T17:13:57.105632Z",
     "shell.execute_reply": "2022-05-09T17:13:57.104649Z"
    },
    "jupyter": {
     "source_hidden": true
    },
    "papermill": {
     "duration": 0.037991,
     "end_time": "2022-05-09T17:13:57.108274",
     "exception": false,
     "start_time": "2022-05-09T17:13:57.070283",
     "status": "completed"
    },
    "tags": [
     "remove_input"
    ]
   },
   "outputs": [],
   "source": [
    "%%capture_parameters\n",
    "operator_name = df.name.iloc[0]\n",
    "district_number = f\"{df.caltrans_district.iloc[0].split('-')[0].strip()}\"\n",
    "district_name = f\"{df.caltrans_district.iloc[0].split('-')[1].strip().lower().replace(' ', '-')}\"\n",
    "\n",
    "itp_id, operator_name, district_number, district_name"
   ]
  },
  {
   "cell_type": "markdown",
   "id": "65bc6f5c-8348-42ee-b2dd-52057c406852",
   "metadata": {
    "papermill": {
     "duration": 0.014297,
     "end_time": "2022-05-09T17:13:57.138212",
     "exception": false,
     "start_time": "2022-05-09T17:13:57.123915",
     "status": "completed"
    },
    "tags": []
   },
   "source": [
    "# Palo Verde Valley Transit Agency (ITP ID: 238)"
   ]
  },
  {
   "cell_type": "code",
   "execution_count": 6,
   "id": "a689c1ab-2c6c-4831-8d64-897f5986f571",
   "metadata": {
    "execution": {
     "iopub.execute_input": "2022-05-09T17:13:57.171804Z",
     "iopub.status.busy": "2022-05-09T17:13:57.170892Z",
     "iopub.status.idle": "2022-05-09T17:13:57.181042Z",
     "shell.execute_reply": "2022-05-09T17:13:57.179931Z"
    },
    "jupyter": {
     "source_hidden": true
    },
    "papermill": {
     "duration": 0.030495,
     "end_time": "2022-05-09T17:13:57.183619",
     "exception": false,
     "start_time": "2022-05-09T17:13:57.153124",
     "status": "completed"
    },
    "tags": [
     "remove_input"
    ]
   },
   "outputs": [
    {
     "data": {
      "text/html": [
       "<h1>Competitive & Parallel Routes</h1>"
      ],
      "text/plain": [
       "<IPython.core.display.HTML object>"
      ]
     },
     "metadata": {},
     "output_type": "display_data"
    }
   ],
   "source": [
    "display(HTML(\"<h1>Competitive & Parallel Routes</h1>\")) "
   ]
  },
  {
   "cell_type": "code",
   "execution_count": 7,
   "id": "2cb4d8d5-4760-40e4-85b1-cb833d8bb648",
   "metadata": {
    "execution": {
     "iopub.execute_input": "2022-05-09T17:13:57.218950Z",
     "iopub.status.busy": "2022-05-09T17:13:57.218523Z",
     "iopub.status.idle": "2022-05-09T17:14:10.085192Z",
     "shell.execute_reply": "2022-05-09T17:14:10.084283Z"
    },
    "jupyter": {
     "source_hidden": true
    },
    "papermill": {
     "duration": 12.888569,
     "end_time": "2022-05-09T17:14:10.087608",
     "exception": false,
     "start_time": "2022-05-09T17:13:57.199039",
     "status": "completed"
    },
    "tags": [
     "remove_input"
    ]
   },
   "outputs": [],
   "source": [
    "# Grab parameters for narrative text - clean up formatting here \n",
    "district = df.caltrans_district.iloc[0]\n",
    "formatted_date = pd.to_datetime(parallel_corridors_utils.SELECTED_DATE).strftime('%m-%d-%Y')\n",
    "\n",
    "PCT_COMPETITIVE_THRESHOLD = 0.75\n",
    "\n",
    "stats = parallel_corridors_utils.operator_parallel_competitive_stats(\n",
    "    itp_id, PCT_COMPETITIVE_THRESHOLD)\n",
    "\n",
    "pct_parallel = round(stats['parallel_routes'] / stats['num_routes'] * 100,1 )\n",
    "pct_competitive =  round(stats['competitive_routes'] / stats['num_routes'] * 100,1 )"
   ]
  },
  {
   "cell_type": "markdown",
   "id": "ab667928-5274-4490-82d9-4c39293209a4",
   "metadata": {
    "papermill": {
     "duration": 0.013502,
     "end_time": "2022-05-09T17:14:10.115089",
     "exception": false,
     "start_time": "2022-05-09T17:14:10.101587",
     "status": "completed"
    },
    "tags": []
   },
   "source": [
    "## Quick Stats"
   ]
  },
  {
   "cell_type": "code",
   "execution_count": 8,
   "id": "0416509d-dc62-4165-b62e-64f8b26e8b8e",
   "metadata": {
    "execution": {
     "iopub.execute_input": "2022-05-09T17:14:10.146451Z",
     "iopub.status.busy": "2022-05-09T17:14:10.145904Z",
     "iopub.status.idle": "2022-05-09T17:14:10.153073Z",
     "shell.execute_reply": "2022-05-09T17:14:10.152195Z"
    },
    "jupyter": {
     "source_hidden": true
    },
    "papermill": {
     "duration": 0.024267,
     "end_time": "2022-05-09T17:14:10.155096",
     "exception": false,
     "start_time": "2022-05-09T17:14:10.130829",
     "status": "completed"
    },
    "tags": [
     "remove_input"
    ]
   },
   "outputs": [
    {
     "data": {
      "text/markdown": [
       "**Bus routes in service**: 4 <br>**Parallel routes** to State Highway Network (SHN): 2 routes (50.0%)<br>**Competitive routes** against car travel: 1 routes (25.0%)"
      ],
      "text/plain": [
       "<IPython.core.display.Markdown object>"
      ]
     },
     "metadata": {},
     "output_type": "display_data"
    }
   ],
   "source": [
    "display(\n",
    "    Markdown(\n",
    "        f\"**Bus routes in service**: {stats['num_routes']} \"\n",
    "        \"<br>**Parallel routes** to State Highway Network (SHN): \"\n",
    "        f\"{stats['parallel_routes']} routes ({pct_parallel}%)\"\n",
    "        f\"<br>**Competitive routes** against car travel: {stats['competitive_routes']} routes ({pct_competitive}%)\"\n",
    "    )\n",
    ")"
   ]
  },
  {
   "cell_type": "code",
   "execution_count": 9,
   "id": "f9d6ab58-f0ee-460c-b6de-657490e1f386",
   "metadata": {
    "execution": {
     "iopub.execute_input": "2022-05-09T17:14:10.186979Z",
     "iopub.status.busy": "2022-05-09T17:14:10.186317Z",
     "iopub.status.idle": "2022-05-09T17:14:10.207517Z",
     "shell.execute_reply": "2022-05-09T17:14:10.206565Z"
    },
    "jupyter": {
     "source_hidden": true
    },
    "papermill": {
     "duration": 0.039934,
     "end_time": "2022-05-09T17:14:10.210217",
     "exception": false,
     "start_time": "2022-05-09T17:14:10.170283",
     "status": "completed"
    },
    "tags": [
     "remove_input"
    ]
   },
   "outputs": [],
   "source": [
    "def set_yaxis_range(df, y_col):\n",
    "    Y_MIN = df[y_col].min()\n",
    "    Y_MAX = df[y_col].max()\n",
    "    \n",
    "    return Y_MIN, Y_MAX\n",
    "\n",
    "# Rather than set it according to the operator, which can vary,\n",
    "# just use set thresholds for each group\n",
    "diff_cutoffs = parallel_corridors_utils.diff_cutoffs\n",
    "\n",
    "PCT_TRIPS_BELOW_CUTOFF = 0.25\n",
    "\n",
    "def top15_routes(df, route_group):\n",
    "    df2 = (df[df.route_group==route_group])\n",
    "    # Set a cut-off to enable sorting, where most of the trips are \n",
    "    # below a certain time difference cut-off, \n",
    "    # grab top 15 routes where majority of trips are below that cut-off \n",
    "\n",
    "    route_cols = [\"calitp_itp_id\", \"route_id\"]\n",
    "\n",
    "    df2 = df2.assign(\n",
    "        below_cutoff = df2.apply(lambda x: 1 if x.bus_difference <= diff_cutoffs[route_group] \n",
    "                                 else 0, axis=1),\n",
    "        num_trips = df2.groupby(route_cols)[\"trip_id\"].transform(\"count\")\n",
    "    )\n",
    "\n",
    "    df2[\"below_cutoff\"] = df2.groupby(route_cols)[\"below_cutoff\"].transform(\"sum\")\n",
    "    df2[\"pct_below_cutoff\"] = df2.below_cutoff.divide(df2.num_trips)\n",
    "\n",
    "    # At least half the trips are below that cut-off\n",
    "    # but show 15 max, otherwise, show less, since these won't be as interesting to operators\n",
    "    df3 = (df2[df2.pct_below_cutoff >= PCT_TRIPS_BELOW_CUTOFF]\n",
    "           .sort_values([\"calitp_itp_id\", \"below_cutoff\", \n",
    "                         \"pct_below_cutoff\", \"route_id\"],\n",
    "                        ascending = [True, False, False, True]\n",
    "                       )\n",
    "           .drop_duplicates(subset=[\"calitp_itp_id\", \"route_id\"])\n",
    "          ).head(15)\n",
    "    \n",
    "    return list(df3.route_id)"
   ]
  },
  {
   "cell_type": "code",
   "execution_count": 10,
   "id": "cf36d559-3349-4144-8086-8ac9ce937a5a",
   "metadata": {
    "execution": {
     "iopub.execute_input": "2022-05-09T17:14:10.242282Z",
     "iopub.status.busy": "2022-05-09T17:14:10.241607Z",
     "iopub.status.idle": "2022-05-09T17:14:10.249342Z",
     "shell.execute_reply": "2022-05-09T17:14:10.248125Z"
    },
    "jupyter": {
     "source_hidden": true
    },
    "papermill": {
     "duration": 0.027805,
     "end_time": "2022-05-09T17:14:10.251819",
     "exception": false,
     "start_time": "2022-05-09T17:14:10.224014",
     "status": "completed"
    },
    "tags": [
     "remove_input"
    ]
   },
   "outputs": [],
   "source": [
    "def caption_with_cutoff(cutoff):\n",
    "    sentence = (\n",
    "        f\"<br>These are routes that have **at least {int(PCT_TRIPS_BELOW_CUTOFF*100)}% \"\n",
    "        \"of their trips take no more than an \"\n",
    "        f\"additional {cutoff} min** compared to a car \"\n",
    "        \"(up to 15 routes) are shown.\"\n",
    "        \"<br>Within each route group, routes are sorted in descending order \"\n",
    "        \"by % competitive trips and # trips below the additional time cut-off.\"\n",
    "    )\n",
    "    return sentence\n",
    "\n",
    "CAPTIONS_DICT = {\n",
    "    \"short\": caption_with_cutoff(diff_cutoffs['short']),\n",
    "    \"medium\": caption_with_cutoff(diff_cutoffs['medium']),\n",
    "    \"long\": caption_with_cutoff(diff_cutoffs['long']),\n",
    "}"
   ]
  },
  {
   "cell_type": "code",
   "execution_count": 11,
   "id": "e4306d58-6944-47e9-afef-5d5b524c751f",
   "metadata": {
    "execution": {
     "iopub.execute_input": "2022-05-09T17:14:10.283199Z",
     "iopub.status.busy": "2022-05-09T17:14:10.282499Z",
     "iopub.status.idle": "2022-05-09T17:14:10.292015Z",
     "shell.execute_reply": "2022-05-09T17:14:10.291058Z"
    },
    "jupyter": {
     "source_hidden": true
    },
    "papermill": {
     "duration": 0.029099,
     "end_time": "2022-05-09T17:14:10.294771",
     "exception": false,
     "start_time": "2022-05-09T17:14:10.265672",
     "status": "completed"
    },
    "tags": [
     "remove_input"
    ]
   },
   "outputs": [],
   "source": [
    "def setup_charts(df, PCT_COMPETITIVE_THRESHOLD, route_group):\n",
    "    # Set up df for charting (cut-off at some threshold to show most competitive routes)\n",
    "    plot_me = (df[df.pct_trips_competitive > PCT_COMPETITIVE_THRESHOLD]\n",
    "           .drop(columns = \"geometry\")\n",
    "    )\n",
    "    \n",
    "    y_col1 = \"bus_multiplier\"\n",
    "    Y_MIN1, Y_MAX1 = set_yaxis_range(plot_me, y_col1)\n",
    "\n",
    "    y_col2 = \"bus_difference\"\n",
    "    Y_MIN2, Y_MAX2 = set_yaxis_range(plot_me, y_col2)\n",
    "     \n",
    "    subset_routes = top15_routes(plot_me, route_group)\n",
    "    \n",
    "    multiplier_chart = parallel_corridors_utils.make_stripplot(\n",
    "        plot_me[plot_me.route_id.isin(subset_routes)], \n",
    "        y_col1, Y_MIN = Y_MIN1, Y_MAX = Y_MAX1\n",
    "    )\n",
    "    \n",
    "    difference_chart = parallel_corridors_utils.make_stripplot(\n",
    "        plot_me[plot_me.route_id.isin(subset_routes)], \n",
    "        y_col2, Y_MIN = Y_MIN2, Y_MAX = Y_MAX2\n",
    "    )\n",
    "    \n",
    "    return subset_routes, multiplier_chart, difference_chart            "
   ]
  },
  {
   "cell_type": "code",
   "execution_count": 12,
   "id": "33a710e8-504c-4942-aa75-ff69f216956e",
   "metadata": {
    "execution": {
     "iopub.execute_input": "2022-05-09T17:14:10.343510Z",
     "iopub.status.busy": "2022-05-09T17:14:10.343172Z",
     "iopub.status.idle": "2022-05-09T17:14:10.349341Z",
     "shell.execute_reply": "2022-05-09T17:14:10.348321Z"
    },
    "jupyter": {
     "source_hidden": true
    },
    "papermill": {
     "duration": 0.025537,
     "end_time": "2022-05-09T17:14:10.351461",
     "exception": false,
     "start_time": "2022-05-09T17:14:10.325924",
     "status": "completed"
    },
    "tags": [
     "remove_input"
    ]
   },
   "outputs": [],
   "source": [
    "def display_charts_for_route_group(df, route_group):    \n",
    "    subset_routes, mult, diff  = setup_charts(df, PCT_COMPETITIVE_THRESHOLD, route_group)\n",
    "\n",
    "    if len(subset_routes) > 0:\n",
    "        display(Markdown(f\"{CAPTIONS_DICT[route_group]}\"))\n",
    "\n",
    "        display(mult)\n",
    "        display(diff)"
   ]
  },
  {
   "cell_type": "markdown",
   "id": "525f9b38-072b-46d1-96a8-1aa4b038357c",
   "metadata": {
    "papermill": {
     "duration": 0.0164,
     "end_time": "2022-05-09T17:14:10.382264",
     "exception": false,
     "start_time": "2022-05-09T17:14:10.365864",
     "status": "completed"
    },
    "tags": []
   },
   "source": [
    "## Viable Competitive Routes\n",
    "### Short Routes (< 1 hr)"
   ]
  },
  {
   "cell_type": "code",
   "execution_count": 13,
   "id": "57f7084c-2cf7-45c6-ba08-1609e0bd6ca5",
   "metadata": {
    "execution": {
     "iopub.execute_input": "2022-05-09T17:14:10.413411Z",
     "iopub.status.busy": "2022-05-09T17:14:10.412593Z",
     "iopub.status.idle": "2022-05-09T17:14:10.671056Z",
     "shell.execute_reply": "2022-05-09T17:14:10.670243Z"
    },
    "jupyter": {
     "source_hidden": true
    },
    "papermill": {
     "duration": 0.276926,
     "end_time": "2022-05-09T17:14:10.673399",
     "exception": false,
     "start_time": "2022-05-09T17:14:10.396473",
     "status": "completed"
    },
    "tags": [
     "remove_input"
    ]
   },
   "outputs": [
    {
     "data": {
      "text/markdown": [
       "<br>These are routes that have **at least 25% of their trips take no more than an additional 20 min** compared to a car (up to 15 routes) are shown.<br>Within each route group, routes are sorted in descending order by % competitive trips and # trips below the additional time cut-off."
      ],
      "text/plain": [
       "<IPython.core.display.Markdown object>"
      ]
     },
     "metadata": {},
     "output_type": "display_data"
    },
    {
     "data": {
      "text/html": [
       "\n",
       "<div id=\"altair-viz-856c3140afcc48feb76d461c799eda76\"></div>\n",
       "<script type=\"text/javascript\">\n",
       "  var VEGA_DEBUG = (typeof VEGA_DEBUG == \"undefined\") ? {} : VEGA_DEBUG;\n",
       "  (function(spec, embedOpt){\n",
       "    let outputDiv = document.currentScript.previousElementSibling;\n",
       "    if (outputDiv.id !== \"altair-viz-856c3140afcc48feb76d461c799eda76\") {\n",
       "      outputDiv = document.getElementById(\"altair-viz-856c3140afcc48feb76d461c799eda76\");\n",
       "    }\n",
       "    const paths = {\n",
       "      \"vega\": \"https://cdn.jsdelivr.net/npm//vega@5?noext\",\n",
       "      \"vega-lib\": \"https://cdn.jsdelivr.net/npm//vega-lib?noext\",\n",
       "      \"vega-lite\": \"https://cdn.jsdelivr.net/npm//vega-lite@4.17.0?noext\",\n",
       "      \"vega-embed\": \"https://cdn.jsdelivr.net/npm//vega-embed@6?noext\",\n",
       "    };\n",
       "\n",
       "    function maybeLoadScript(lib, version) {\n",
       "      var key = `${lib.replace(\"-\", \"\")}_version`;\n",
       "      return (VEGA_DEBUG[key] == version) ?\n",
       "        Promise.resolve(paths[lib]) :\n",
       "        new Promise(function(resolve, reject) {\n",
       "          var s = document.createElement('script');\n",
       "          document.getElementsByTagName(\"head\")[0].appendChild(s);\n",
       "          s.async = true;\n",
       "          s.onload = () => {\n",
       "            VEGA_DEBUG[key] = version;\n",
       "            return resolve(paths[lib]);\n",
       "          };\n",
       "          s.onerror = () => reject(`Error loading script: ${paths[lib]}`);\n",
       "          s.src = paths[lib];\n",
       "        });\n",
       "    }\n",
       "\n",
       "    function showError(err) {\n",
       "      outputDiv.innerHTML = `<div class=\"error\" style=\"color:red;\">${err}</div>`;\n",
       "      throw err;\n",
       "    }\n",
       "\n",
       "    function displayChart(vegaEmbed) {\n",
       "      vegaEmbed(outputDiv, spec, embedOpt)\n",
       "        .catch(err => showError(`Javascript Error: ${err.message}<br>This usually means there's a typo in your chart specification. See the javascript console for the full traceback.`));\n",
       "    }\n",
       "\n",
       "    if(typeof define === \"function\" && define.amd) {\n",
       "      requirejs.config({paths});\n",
       "      require([\"vega-embed\"], displayChart, err => showError(`Error loading script: ${err.message}`));\n",
       "    } else {\n",
       "      maybeLoadScript(\"vega\", \"5\")\n",
       "        .then(() => maybeLoadScript(\"vega-lite\", \"4.17.0\"))\n",
       "        .then(() => maybeLoadScript(\"vega-embed\", \"6\"))\n",
       "        .catch(showError)\n",
       "        .then(() => displayChart(vegaEmbed));\n",
       "    }\n",
       "  })({\"config\": {\"view\": {\"continuousWidth\": 400, \"continuousHeight\": 300, \"stroke\": null}, \"facet\": {\"spacing\": 0}}, \"data\": {\"name\": \"data-fc372890ff4df97d80e7250eae15865f\"}, \"facet\": {\"column\": {\"field\": \"route_id\", \"sort\": [\"358\"], \"title\": \"Route ID\", \"type\": \"nominal\"}}, \"spec\": {\"layer\": [{\"mark\": \"rule\", \"encoding\": {\"color\": {\"value\": \"black\"}, \"y\": {\"field\": \"cutoff\", \"type\": \"quantitative\"}}, \"selection\": {\"selector001\": {\"type\": \"interval\", \"bind\": \"scales\", \"encodings\": [\"x\", \"y\"]}}}, {\"mark\": {\"type\": \"point\", \"opacity\": 0.65, \"size\": 12, \"strokeWidth\": 1.1}, \"encoding\": {\"color\": {\"field\": \"time_of_day\", \"scale\": {\"range\": [\"#136C97\", \"#E16B26\", \"#F6BF16\", \"#00896B\", \"#7790A3\", \"#5B559C\"]}, \"sort\": [\"AM Peak\", \"Midday\", \"PM Peak\", \"Owl Service\"], \"title\": \"Time of Day\", \"type\": \"nominal\"}, \"tooltip\": [{\"field\": \"route_id\", \"type\": \"nominal\"}, {\"field\": \"trip_id\", \"type\": \"nominal\"}, {\"field\": \"service_hours\", \"type\": \"quantitative\"}, {\"field\": \"car_duration_hours\", \"type\": \"quantitative\"}, {\"field\": \"bus_multiplier\", \"type\": \"quantitative\"}, {\"field\": \"bus_difference\", \"type\": \"quantitative\"}, {\"field\": \"num_trips\", \"type\": \"quantitative\"}, {\"field\": \"num_competitive\", \"type\": \"quantitative\"}, {\"field\": \"pct_trips_competitive\", \"type\": \"quantitative\"}, {\"field\": \"p25\", \"type\": \"quantitative\"}, {\"field\": \"p50\", \"type\": \"quantitative\"}, {\"field\": \"p75\", \"type\": \"quantitative\"}], \"x\": {\"axis\": {\"grid\": false, \"labels\": false, \"ticks\": true, \"values\": [0]}, \"field\": \"jitter\", \"scale\": {}, \"title\": null, \"type\": \"quantitative\"}, \"y\": {\"field\": \"bus_multiplier\", \"scale\": {\"domain\": [-0.25, 2.5]}, \"title\": \"Ratio of Bus to Car Travel Time\", \"type\": \"quantitative\"}}, \"transform\": [{\"calculate\": \"sqrt(-2*log(random()))*cos(2*PI*random())\", \"as\": \"jitter\"}], \"width\": 50}, {\"layer\": [{\"mark\": {\"type\": \"point\", \"opacity\": 0.6, \"size\": 20, \"strokeWidth\": 1.3}, \"encoding\": {\"color\": {\"value\": \"#323434\"}, \"y\": {\"field\": \"bus_multiplier\", \"type\": \"quantitative\"}}, \"transform\": [{\"filter\": \"(datum.p50_trip === 1)\"}]}, {\"mark\": {\"type\": \"text\", \"align\": \"center\", \"baseline\": \"middle\"}, \"encoding\": {\"color\": {\"value\": \"black\"}, \"text\": {\"field\": \"pct_trips_competitive\", \"format\": \".0%\", \"type\": \"quantitative\"}, \"tooltip\": [{\"field\": \"route_id\", \"type\": \"nominal\"}, {\"field\": \"trip_id\", \"type\": \"nominal\"}, {\"field\": \"service_hours\", \"type\": \"quantitative\"}, {\"field\": \"car_duration_hours\", \"type\": \"quantitative\"}, {\"field\": \"bus_multiplier\", \"type\": \"quantitative\"}, {\"field\": \"bus_difference\", \"type\": \"quantitative\"}, {\"field\": \"num_trips\", \"type\": \"quantitative\"}, {\"field\": \"num_competitive\", \"type\": \"quantitative\"}, {\"field\": \"pct_trips_competitive\", \"type\": \"quantitative\"}, {\"field\": \"p25\", \"type\": \"quantitative\"}, {\"field\": \"p50\", \"type\": \"quantitative\"}, {\"field\": \"p75\", \"type\": \"quantitative\"}], \"x\": {\"value\": 30}, \"y\": {\"value\": 15}}, \"transform\": [{\"calculate\": \"sqrt(-2*log(random()))*cos(2*PI*random())\", \"as\": \"jitter\"}, {\"filter\": \"(datum.fastest_trip === 1)\"}]}]}]}, \"resolve\": {\"scale\": {\"y\": \"shared\"}}, \"title\": \"Ratio of Bus to Car Travel Time\", \"$schema\": \"https://vega.github.io/schema/vega-lite/v4.17.0.json\", \"datasets\": {\"data-fc372890ff4df97d80e7250eae15865f\": [{\"calitp_itp_id\": 238, \"trip_key\": -7753360842071914817, \"trip_id\": \"t_1286100_b_26962_tn_0\", \"shape_id\": \"p_900480\", \"route_id\": \"358\", \"service_hours\": 0.5, \"trip_first_departure_ts\": 50400, \"trip_last_arrival_ts\": 52200, \"departure_hour\": 14, \"time_of_day\": \"Midday\", \"p25\": 0.5, \"p50\": 0.54, \"p75\": 0.58, \"p50_trip\": 0, \"fastest_trip\": 0, \"car_duration_hours\": 0.52, \"competitive_route\": 1, \"bus_multiplier\": 0.96, \"bus_difference\": -1.2, \"num_trips\": 4, \"num_competitive\": 4, \"pct_trips_competitive\": 1.0, \"bus_difference_spread\": 4.8, \"route_group\": \"short\", \"max_trip_hrs\": 0.58, \"max_trip_route_group\": 0.67, \"name\": \"Palo Verde Valley Transit Agency\", \"caltrans_district\": \"08 - San Bernardino\", \"drmt_organization_name\": \"['recWtrXNy0XSWd90F']\", \"cutoff2\": 20, \"cutoff\": 2}, {\"calitp_itp_id\": 238, \"trip_key\": -3659600200010938693, \"trip_id\": \"t_1286101_b_26962_tn_0\", \"shape_id\": \"p_900480\", \"route_id\": \"358\", \"service_hours\": 0.5, \"trip_first_departure_ts\": 57600, \"trip_last_arrival_ts\": 59400, \"departure_hour\": 16, \"time_of_day\": \"Midday\", \"p25\": 0.5, \"p50\": 0.54, \"p75\": 0.58, \"p50_trip\": 0, \"fastest_trip\": 1, \"car_duration_hours\": 0.52, \"competitive_route\": 1, \"bus_multiplier\": 0.96, \"bus_difference\": -1.2, \"num_trips\": 4, \"num_competitive\": 4, \"pct_trips_competitive\": 1.0, \"bus_difference_spread\": 4.8, \"route_group\": \"short\", \"max_trip_hrs\": 0.58, \"max_trip_route_group\": 0.67, \"name\": \"Palo Verde Valley Transit Agency\", \"caltrans_district\": \"08 - San Bernardino\", \"drmt_organization_name\": \"['recWtrXNy0XSWd90F']\", \"cutoff2\": 20, \"cutoff\": 2}, {\"calitp_itp_id\": 238, \"trip_key\": -4228541924161864439, \"trip_id\": \"t_1285719_b_26962_tn_0\", \"shape_id\": \"p_900479\", \"route_id\": \"358\", \"service_hours\": 0.58, \"trip_first_departure_ts\": 26400, \"trip_last_arrival_ts\": 28500, \"departure_hour\": 7, \"time_of_day\": \"AM Peak\", \"p25\": 0.5, \"p50\": 0.54, \"p75\": 0.58, \"p50_trip\": 1, \"fastest_trip\": 0, \"car_duration_hours\": 0.52, \"competitive_route\": 1, \"bus_multiplier\": 1.12, \"bus_difference\": 3.6, \"num_trips\": 4, \"num_competitive\": 4, \"pct_trips_competitive\": 1.0, \"bus_difference_spread\": 4.8, \"route_group\": \"short\", \"max_trip_hrs\": 0.58, \"max_trip_route_group\": 0.67, \"name\": \"Palo Verde Valley Transit Agency\", \"caltrans_district\": \"08 - San Bernardino\", \"drmt_organization_name\": \"['recWtrXNy0XSWd90F']\", \"cutoff2\": 20, \"cutoff\": 2}, {\"calitp_itp_id\": 238, \"trip_key\": -24069298854092875, \"trip_id\": \"t_1285717_b_26962_tn_0\", \"shape_id\": \"p_900479\", \"route_id\": \"358\", \"service_hours\": 0.58, \"trip_first_departure_ts\": 19200, \"trip_last_arrival_ts\": 21300, \"departure_hour\": 5, \"time_of_day\": \"Owl Service\", \"p25\": 0.5, \"p50\": 0.54, \"p75\": 0.58, \"p50_trip\": 1, \"fastest_trip\": 0, \"car_duration_hours\": 0.52, \"competitive_route\": 1, \"bus_multiplier\": 1.12, \"bus_difference\": 3.6, \"num_trips\": 4, \"num_competitive\": 4, \"pct_trips_competitive\": 1.0, \"bus_difference_spread\": 4.8, \"route_group\": \"short\", \"max_trip_hrs\": 0.58, \"max_trip_route_group\": 0.67, \"name\": \"Palo Verde Valley Transit Agency\", \"caltrans_district\": \"08 - San Bernardino\", \"drmt_organization_name\": \"['recWtrXNy0XSWd90F']\", \"cutoff2\": 20, \"cutoff\": 2}]}}, {\"mode\": \"vega-lite\"});\n",
       "</script>"
      ],
      "text/plain": [
       "alt.FacetChart(...)"
      ]
     },
     "metadata": {},
     "output_type": "display_data"
    },
    {
     "data": {
      "text/html": [
       "\n",
       "<div id=\"altair-viz-4f6a542b72734cd19ab7b5b9352a73d1\"></div>\n",
       "<script type=\"text/javascript\">\n",
       "  var VEGA_DEBUG = (typeof VEGA_DEBUG == \"undefined\") ? {} : VEGA_DEBUG;\n",
       "  (function(spec, embedOpt){\n",
       "    let outputDiv = document.currentScript.previousElementSibling;\n",
       "    if (outputDiv.id !== \"altair-viz-4f6a542b72734cd19ab7b5b9352a73d1\") {\n",
       "      outputDiv = document.getElementById(\"altair-viz-4f6a542b72734cd19ab7b5b9352a73d1\");\n",
       "    }\n",
       "    const paths = {\n",
       "      \"vega\": \"https://cdn.jsdelivr.net/npm//vega@5?noext\",\n",
       "      \"vega-lib\": \"https://cdn.jsdelivr.net/npm//vega-lib?noext\",\n",
       "      \"vega-lite\": \"https://cdn.jsdelivr.net/npm//vega-lite@4.17.0?noext\",\n",
       "      \"vega-embed\": \"https://cdn.jsdelivr.net/npm//vega-embed@6?noext\",\n",
       "    };\n",
       "\n",
       "    function maybeLoadScript(lib, version) {\n",
       "      var key = `${lib.replace(\"-\", \"\")}_version`;\n",
       "      return (VEGA_DEBUG[key] == version) ?\n",
       "        Promise.resolve(paths[lib]) :\n",
       "        new Promise(function(resolve, reject) {\n",
       "          var s = document.createElement('script');\n",
       "          document.getElementsByTagName(\"head\")[0].appendChild(s);\n",
       "          s.async = true;\n",
       "          s.onload = () => {\n",
       "            VEGA_DEBUG[key] = version;\n",
       "            return resolve(paths[lib]);\n",
       "          };\n",
       "          s.onerror = () => reject(`Error loading script: ${paths[lib]}`);\n",
       "          s.src = paths[lib];\n",
       "        });\n",
       "    }\n",
       "\n",
       "    function showError(err) {\n",
       "      outputDiv.innerHTML = `<div class=\"error\" style=\"color:red;\">${err}</div>`;\n",
       "      throw err;\n",
       "    }\n",
       "\n",
       "    function displayChart(vegaEmbed) {\n",
       "      vegaEmbed(outputDiv, spec, embedOpt)\n",
       "        .catch(err => showError(`Javascript Error: ${err.message}<br>This usually means there's a typo in your chart specification. See the javascript console for the full traceback.`));\n",
       "    }\n",
       "\n",
       "    if(typeof define === \"function\" && define.amd) {\n",
       "      requirejs.config({paths});\n",
       "      require([\"vega-embed\"], displayChart, err => showError(`Error loading script: ${err.message}`));\n",
       "    } else {\n",
       "      maybeLoadScript(\"vega\", \"5\")\n",
       "        .then(() => maybeLoadScript(\"vega-lite\", \"4.17.0\"))\n",
       "        .then(() => maybeLoadScript(\"vega-embed\", \"6\"))\n",
       "        .catch(showError)\n",
       "        .then(() => displayChart(vegaEmbed));\n",
       "    }\n",
       "  })({\"config\": {\"view\": {\"continuousWidth\": 400, \"continuousHeight\": 300, \"stroke\": null}, \"facet\": {\"spacing\": 0}}, \"data\": {\"name\": \"data-74a7ad1b8a06a838384e4dd064081702\"}, \"facet\": {\"column\": {\"field\": \"route_id\", \"sort\": [\"358\"], \"title\": \"Route ID\", \"type\": \"nominal\"}}, \"spec\": {\"layer\": [{\"mark\": \"rule\", \"encoding\": {\"color\": {\"value\": \"black\"}, \"y\": {\"field\": \"cutoff\", \"type\": \"quantitative\"}}, \"selection\": {\"selector002\": {\"type\": \"interval\", \"bind\": \"scales\", \"encodings\": [\"x\", \"y\"]}}}, {\"mark\": {\"type\": \"rule\", \"strokeDash\": [3, 3]}, \"encoding\": {\"color\": {\"value\": \"#323434\"}, \"y\": {\"field\": \"cutoff2\", \"type\": \"quantitative\"}}}, {\"mark\": {\"type\": \"point\", \"opacity\": 0.65, \"size\": 12, \"strokeWidth\": 1.1}, \"encoding\": {\"color\": {\"field\": \"time_of_day\", \"scale\": {\"range\": [\"#136C97\", \"#E16B26\", \"#F6BF16\", \"#00896B\", \"#7790A3\", \"#5B559C\"]}, \"sort\": [\"AM Peak\", \"Midday\", \"PM Peak\", \"Owl Service\"], \"title\": \"Time of Day\", \"type\": \"nominal\"}, \"tooltip\": [{\"field\": \"route_id\", \"type\": \"nominal\"}, {\"field\": \"trip_id\", \"type\": \"nominal\"}, {\"field\": \"service_hours\", \"type\": \"quantitative\"}, {\"field\": \"car_duration_hours\", \"type\": \"quantitative\"}, {\"field\": \"bus_multiplier\", \"type\": \"quantitative\"}, {\"field\": \"bus_difference\", \"type\": \"quantitative\"}, {\"field\": \"num_trips\", \"type\": \"quantitative\"}, {\"field\": \"num_competitive\", \"type\": \"quantitative\"}, {\"field\": \"pct_trips_competitive\", \"type\": \"quantitative\"}, {\"field\": \"p25\", \"type\": \"quantitative\"}, {\"field\": \"p50\", \"type\": \"quantitative\"}, {\"field\": \"p75\", \"type\": \"quantitative\"}], \"x\": {\"axis\": {\"grid\": false, \"labels\": false, \"ticks\": true, \"values\": [0]}, \"field\": \"jitter\", \"scale\": {}, \"title\": null, \"type\": \"quantitative\"}, \"y\": {\"field\": \"bus_difference\", \"scale\": {\"domain\": [-5, 25.0]}, \"title\": \"Difference in Bus to Car Travel Time (min)\", \"type\": \"quantitative\"}}, \"transform\": [{\"calculate\": \"sqrt(-2*log(random()))*cos(2*PI*random())\", \"as\": \"jitter\"}], \"width\": 50}, {\"layer\": [{\"mark\": {\"type\": \"point\", \"opacity\": 0.6, \"size\": 20, \"strokeWidth\": 1.3}, \"encoding\": {\"color\": {\"value\": \"#323434\"}, \"y\": {\"field\": \"bus_difference\", \"type\": \"quantitative\"}}, \"transform\": [{\"filter\": \"(datum.p50_trip === 1)\"}]}, {\"mark\": {\"type\": \"text\", \"align\": \"center\", \"baseline\": \"middle\"}, \"encoding\": {\"color\": {\"value\": \"black\"}, \"text\": {\"field\": \"pct_trips_competitive\", \"format\": \".0%\", \"type\": \"quantitative\"}, \"tooltip\": [{\"field\": \"route_id\", \"type\": \"nominal\"}, {\"field\": \"trip_id\", \"type\": \"nominal\"}, {\"field\": \"service_hours\", \"type\": \"quantitative\"}, {\"field\": \"car_duration_hours\", \"type\": \"quantitative\"}, {\"field\": \"bus_multiplier\", \"type\": \"quantitative\"}, {\"field\": \"bus_difference\", \"type\": \"quantitative\"}, {\"field\": \"num_trips\", \"type\": \"quantitative\"}, {\"field\": \"num_competitive\", \"type\": \"quantitative\"}, {\"field\": \"pct_trips_competitive\", \"type\": \"quantitative\"}, {\"field\": \"p25\", \"type\": \"quantitative\"}, {\"field\": \"p50\", \"type\": \"quantitative\"}, {\"field\": \"p75\", \"type\": \"quantitative\"}], \"x\": {\"value\": 30}, \"y\": {\"value\": 15}}, \"transform\": [{\"calculate\": \"sqrt(-2*log(random()))*cos(2*PI*random())\", \"as\": \"jitter\"}, {\"filter\": \"(datum.fastest_trip === 1)\"}]}]}]}, \"resolve\": {\"scale\": {\"y\": \"shared\"}}, \"title\": \"Difference in Bus to Car Travel Time (min)\", \"$schema\": \"https://vega.github.io/schema/vega-lite/v4.17.0.json\", \"datasets\": {\"data-74a7ad1b8a06a838384e4dd064081702\": [{\"calitp_itp_id\": 238, \"trip_key\": -7753360842071914817, \"trip_id\": \"t_1286100_b_26962_tn_0\", \"shape_id\": \"p_900480\", \"route_id\": \"358\", \"service_hours\": 0.5, \"trip_first_departure_ts\": 50400, \"trip_last_arrival_ts\": 52200, \"departure_hour\": 14, \"time_of_day\": \"Midday\", \"p25\": 0.5, \"p50\": 0.54, \"p75\": 0.58, \"p50_trip\": 0, \"fastest_trip\": 0, \"car_duration_hours\": 0.52, \"competitive_route\": 1, \"bus_multiplier\": 0.96, \"bus_difference\": -1.2, \"num_trips\": 4, \"num_competitive\": 4, \"pct_trips_competitive\": 1.0, \"bus_difference_spread\": 4.8, \"route_group\": \"short\", \"max_trip_hrs\": 0.58, \"max_trip_route_group\": 0.67, \"name\": \"Palo Verde Valley Transit Agency\", \"caltrans_district\": \"08 - San Bernardino\", \"drmt_organization_name\": \"['recWtrXNy0XSWd90F']\", \"cutoff2\": 20, \"cutoff\": 0}, {\"calitp_itp_id\": 238, \"trip_key\": -3659600200010938693, \"trip_id\": \"t_1286101_b_26962_tn_0\", \"shape_id\": \"p_900480\", \"route_id\": \"358\", \"service_hours\": 0.5, \"trip_first_departure_ts\": 57600, \"trip_last_arrival_ts\": 59400, \"departure_hour\": 16, \"time_of_day\": \"Midday\", \"p25\": 0.5, \"p50\": 0.54, \"p75\": 0.58, \"p50_trip\": 0, \"fastest_trip\": 1, \"car_duration_hours\": 0.52, \"competitive_route\": 1, \"bus_multiplier\": 0.96, \"bus_difference\": -1.2, \"num_trips\": 4, \"num_competitive\": 4, \"pct_trips_competitive\": 1.0, \"bus_difference_spread\": 4.8, \"route_group\": \"short\", \"max_trip_hrs\": 0.58, \"max_trip_route_group\": 0.67, \"name\": \"Palo Verde Valley Transit Agency\", \"caltrans_district\": \"08 - San Bernardino\", \"drmt_organization_name\": \"['recWtrXNy0XSWd90F']\", \"cutoff2\": 20, \"cutoff\": 0}, {\"calitp_itp_id\": 238, \"trip_key\": -4228541924161864439, \"trip_id\": \"t_1285719_b_26962_tn_0\", \"shape_id\": \"p_900479\", \"route_id\": \"358\", \"service_hours\": 0.58, \"trip_first_departure_ts\": 26400, \"trip_last_arrival_ts\": 28500, \"departure_hour\": 7, \"time_of_day\": \"AM Peak\", \"p25\": 0.5, \"p50\": 0.54, \"p75\": 0.58, \"p50_trip\": 1, \"fastest_trip\": 0, \"car_duration_hours\": 0.52, \"competitive_route\": 1, \"bus_multiplier\": 1.12, \"bus_difference\": 3.6, \"num_trips\": 4, \"num_competitive\": 4, \"pct_trips_competitive\": 1.0, \"bus_difference_spread\": 4.8, \"route_group\": \"short\", \"max_trip_hrs\": 0.58, \"max_trip_route_group\": 0.67, \"name\": \"Palo Verde Valley Transit Agency\", \"caltrans_district\": \"08 - San Bernardino\", \"drmt_organization_name\": \"['recWtrXNy0XSWd90F']\", \"cutoff2\": 20, \"cutoff\": 0}, {\"calitp_itp_id\": 238, \"trip_key\": -24069298854092875, \"trip_id\": \"t_1285717_b_26962_tn_0\", \"shape_id\": \"p_900479\", \"route_id\": \"358\", \"service_hours\": 0.58, \"trip_first_departure_ts\": 19200, \"trip_last_arrival_ts\": 21300, \"departure_hour\": 5, \"time_of_day\": \"Owl Service\", \"p25\": 0.5, \"p50\": 0.54, \"p75\": 0.58, \"p50_trip\": 1, \"fastest_trip\": 0, \"car_duration_hours\": 0.52, \"competitive_route\": 1, \"bus_multiplier\": 1.12, \"bus_difference\": 3.6, \"num_trips\": 4, \"num_competitive\": 4, \"pct_trips_competitive\": 1.0, \"bus_difference_spread\": 4.8, \"route_group\": \"short\", \"max_trip_hrs\": 0.58, \"max_trip_route_group\": 0.67, \"name\": \"Palo Verde Valley Transit Agency\", \"caltrans_district\": \"08 - San Bernardino\", \"drmt_organization_name\": \"['recWtrXNy0XSWd90F']\", \"cutoff2\": 20, \"cutoff\": 0}]}}, {\"mode\": \"vega-lite\"});\n",
       "</script>"
      ],
      "text/plain": [
       "alt.FacetChart(...)"
      ]
     },
     "metadata": {},
     "output_type": "display_data"
    }
   ],
   "source": [
    "# Allow for possibility that operator doesn't have routes that fall into certain route_groups\n",
    "# But, jupyterbook will not like markdown with f-string\n",
    "# separate out route_group and put in each cell, and use try/except + if to display...\n",
    "# but all 3 route groups must be displayed. just add sentence about why no routes were returned at the end\n",
    "route_group = \"short\"\n",
    "try:\n",
    "    display_charts_for_route_group(df, route_group)\n",
    "except:\n",
    "    print(\"No routes meet this criteria.\")"
   ]
  },
  {
   "cell_type": "markdown",
   "id": "c2931b6f-034d-4384-9e14-80b925e3b820",
   "metadata": {
    "papermill": {
     "duration": 0.023739,
     "end_time": "2022-05-09T17:14:10.713665",
     "exception": false,
     "start_time": "2022-05-09T17:14:10.689926",
     "status": "completed"
    },
    "tags": []
   },
   "source": [
    "### Medium Routes (1-1.5 hrs)"
   ]
  },
  {
   "cell_type": "code",
   "execution_count": 14,
   "id": "480edddc-4de0-48c2-ae4c-b0ceef8f28b5",
   "metadata": {
    "execution": {
     "iopub.execute_input": "2022-05-09T17:14:10.750358Z",
     "iopub.status.busy": "2022-05-09T17:14:10.749731Z",
     "iopub.status.idle": "2022-05-09T17:14:10.765801Z",
     "shell.execute_reply": "2022-05-09T17:14:10.764335Z"
    },
    "jupyter": {
     "source_hidden": true
    },
    "papermill": {
     "duration": 0.039237,
     "end_time": "2022-05-09T17:14:10.770095",
     "exception": false,
     "start_time": "2022-05-09T17:14:10.730858",
     "status": "completed"
    },
    "tags": [
     "remove_input"
    ]
   },
   "outputs": [
    {
     "name": "stdout",
     "output_type": "stream",
     "text": [
      "No routes meet this criteria.\n"
     ]
    }
   ],
   "source": [
    "route_group = \"medium\"\n",
    "try:\n",
    "    display_charts_for_route_group(df, route_group)\n",
    "except:\n",
    "    print(\"No routes meet this criteria.\")"
   ]
  },
  {
   "cell_type": "markdown",
   "id": "124b76d0-886c-4d03-92ac-f1bda3cda182",
   "metadata": {
    "papermill": {
     "duration": 0.02635,
     "end_time": "2022-05-09T17:14:10.815218",
     "exception": false,
     "start_time": "2022-05-09T17:14:10.788868",
     "status": "completed"
    },
    "tags": []
   },
   "source": [
    "### Long Routes (> 1.5 hrs)"
   ]
  },
  {
   "cell_type": "code",
   "execution_count": 15,
   "id": "ddc81b19-4c45-4c81-8b7a-5e0f394aa7a3",
   "metadata": {
    "execution": {
     "iopub.execute_input": "2022-05-09T17:14:10.853121Z",
     "iopub.status.busy": "2022-05-09T17:14:10.851779Z",
     "iopub.status.idle": "2022-05-09T17:14:10.874167Z",
     "shell.execute_reply": "2022-05-09T17:14:10.873112Z"
    },
    "jupyter": {
     "source_hidden": true
    },
    "papermill": {
     "duration": 0.045156,
     "end_time": "2022-05-09T17:14:10.877381",
     "exception": false,
     "start_time": "2022-05-09T17:14:10.832225",
     "status": "completed"
    },
    "tags": [
     "remove_input"
    ]
   },
   "outputs": [
    {
     "name": "stdout",
     "output_type": "stream",
     "text": [
      "No routes meet this criteria.\n"
     ]
    }
   ],
   "source": [
    "route_group = \"long\"\n",
    "try:\n",
    "    display_charts_for_route_group(df, route_group)\n",
    "except:\n",
    "    print(\"No routes meet this criteria.\")"
   ]
  },
  {
   "cell_type": "markdown",
   "id": "ace75b5f-0442-4fbe-aebd-6c3a13ae13a7",
   "metadata": {
    "papermill": {
     "duration": 0.019683,
     "end_time": "2022-05-09T17:14:10.930425",
     "exception": false,
     "start_time": "2022-05-09T17:14:10.910742",
     "status": "completed"
    },
    "tags": []
   },
   "source": [
    "### GTFS Real-Time Speedmaps"
   ]
  },
  {
   "cell_type": "code",
   "execution_count": 16,
   "id": "3f06fdc4-d5a8-41f5-9b72-ed7e8a2dd2fc",
   "metadata": {
    "execution": {
     "iopub.execute_input": "2022-05-09T17:14:10.968207Z",
     "iopub.status.busy": "2022-05-09T17:14:10.967802Z",
     "iopub.status.idle": "2022-05-09T17:14:11.028686Z",
     "shell.execute_reply": "2022-05-09T17:14:11.027713Z"
    },
    "jupyter": {
     "source_hidden": true
    },
    "papermill": {
     "duration": 0.08323,
     "end_time": "2022-05-09T17:14:11.031015",
     "exception": false,
     "start_time": "2022-05-09T17:14:10.947785",
     "status": "completed"
    },
    "tags": [
     "remove_input"
    ]
   },
   "outputs": [
    {
     "data": {
      "text/html": [
       "No GTFS RT data available."
      ],
      "text/plain": [
       "<IPython.core.display.HTML object>"
      ]
     },
     "metadata": {},
     "output_type": "display_data"
    }
   ],
   "source": [
    "PORTFOLIO_SITE_YAML = \"../portfolio/analyses.yml\"\n",
    "\n",
    "# Grab list of ITP IDs with GTFS RT speedmaps\n",
    "rt_itp_id = deploy_portfolio_yaml.check_if_rt_data_available(PORTFOLIO_SITE_YAML)\n",
    "\n",
    "# Construct the URL \n",
    "RT_URL = (\"https://analysis.calitp.org/rt/\"\n",
    "          f\"district_{district_number}-{district_name}/\"\n",
    "          f\"speedmaps__itp_id_{itp_id}.html\"\n",
    "         ) \n",
    "\n",
    "if itp_id in rt_itp_id:\n",
    "    display(HTML('<a href=RT_URL>GTFS RT speedmaps here.</a>'))\n",
    "else:\n",
    "    display(HTML(\"No GTFS RT data available.\"))"
   ]
  },
  {
   "cell_type": "code",
   "execution_count": null,
   "id": "4664fe87-4e5e-4414-9602-a5c9c2a14072",
   "metadata": {
    "jupyter": {
     "source_hidden": true
    },
    "papermill": {
     "duration": 0.018674,
     "end_time": "2022-05-09T17:14:11.070122",
     "exception": false,
     "start_time": "2022-05-09T17:14:11.051448",
     "status": "completed"
    },
    "tags": [
     "remove_input"
    ]
   },
   "outputs": [],
   "source": []
  }
 ],
 "metadata": {
  "kernelspec": {
   "display_name": "Python 3 (ipykernel)",
   "language": "python",
   "name": "python3"
  },
  "language_info": {
   "codemirror_mode": {
    "name": "ipython",
    "version": 3
   },
   "file_extension": ".py",
   "mimetype": "text/x-python",
   "name": "python",
   "nbconvert_exporter": "python",
   "pygments_lexer": "ipython3",
   "version": "3.9.12"
  },
  "papermill": {
   "default_parameters": {},
   "duration": 27.898118,
   "end_time": "2022-05-09T17:14:12.938803",
   "environment_variables": {},
   "exception": null,
   "input_path": "bus_service_increase/competitive-parallel-routes.ipynb",
   "output_path": "portfolio/parallel_corridors/district_08-san-bernardino/competitive-parallel-routes__itp_id_238.ipynb",
   "parameters": {
    "district": "08 - San Bernardino",
    "itp_id": 238
   },
   "start_time": "2022-05-09T17:13:45.040685",
   "version": "2.3.4"
  }
 },
 "nbformat": 4,
 "nbformat_minor": 5
}