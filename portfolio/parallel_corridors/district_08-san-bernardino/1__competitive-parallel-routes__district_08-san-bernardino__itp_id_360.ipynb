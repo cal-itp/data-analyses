{
 "cells": [
  {
   "cell_type": "code",
   "execution_count": 1,
   "id": "95d00857-6a20-4529-a519-2cc7182928a9",
   "metadata": {
    "execution": {
     "iopub.execute_input": "2022-06-03T22:10:46.689736Z",
     "iopub.status.busy": "2022-06-03T22:10:46.689390Z",
     "iopub.status.idle": "2022-06-03T22:10:55.977990Z",
     "shell.execute_reply": "2022-06-03T22:10:55.977135Z"
    },
    "jupyter": {
     "source_hidden": true
    },
    "papermill": {
     "duration": 9.308791,
     "end_time": "2022-06-03T22:10:55.981229",
     "exception": false,
     "start_time": "2022-06-03T22:10:46.672438",
     "status": "completed"
    },
    "tags": [
     "remove_input"
    ]
   },
   "outputs": [],
   "source": [
    "%%capture\n",
    "import warnings\n",
    "warnings.filterwarnings('ignore')\n",
    "\n",
    "import altair as alt\n",
    "import calitp.magics\n",
    "import geopandas as gpd\n",
    "import intake\n",
    "import pandas as pd\n",
    "\n",
    "from IPython.display import display, Markdown, HTML\n",
    "\n",
    "import parallel_corridors_utils\n",
    "import deploy_portfolio_yaml\n",
    "from shared_utils import styleguide, geography_utils\n",
    "from E5_make_stripplot_data import diff_cutoffs\n",
    "\n",
    "catalog = intake.open_catalog(\"./*.yml\")\n",
    "alt.renderers.enable(\"html\")"
   ]
  },
  {
   "cell_type": "code",
   "execution_count": 2,
   "id": "8af2a0c1-f3da-408d-9bea-11d9fbf8695d",
   "metadata": {
    "execution": {
     "iopub.execute_input": "2022-06-03T22:10:56.008985Z",
     "iopub.status.busy": "2022-06-03T22:10:56.008641Z",
     "iopub.status.idle": "2022-06-03T22:10:56.014489Z",
     "shell.execute_reply": "2022-06-03T22:10:56.013509Z"
    },
    "jupyter": {
     "source_hidden": true
    },
    "papermill": {
     "duration": 0.022241,
     "end_time": "2022-06-03T22:10:56.016724",
     "exception": false,
     "start_time": "2022-06-03T22:10:55.994483",
     "status": "completed"
    },
    "tags": [
     "parameters",
     "remove_input"
    ]
   },
   "outputs": [],
   "source": [
    "# parameters cell\n",
    "itp_id = 182"
   ]
  },
  {
   "cell_type": "code",
   "execution_count": 3,
   "id": "76bb0f6a",
   "metadata": {
    "execution": {
     "iopub.execute_input": "2022-06-03T22:10:56.053542Z",
     "iopub.status.busy": "2022-06-03T22:10:56.053246Z",
     "iopub.status.idle": "2022-06-03T22:10:56.057486Z",
     "shell.execute_reply": "2022-06-03T22:10:56.056446Z"
    },
    "jupyter": {
     "source_hidden": true
    },
    "papermill": {
     "duration": 0.031389,
     "end_time": "2022-06-03T22:10:56.060917",
     "exception": false,
     "start_time": "2022-06-03T22:10:56.029528",
     "status": "completed"
    },
    "tags": [
     "injected-parameters",
     "remove_input"
    ]
   },
   "outputs": [],
   "source": [
    "# Parameters\n",
    "district = \"08 - San Bernardino\"\n",
    "itp_id = 360\n"
   ]
  },
  {
   "cell_type": "code",
   "execution_count": 4,
   "id": "9582aaf4-79ff-412a-b248-8d8d693ebd4f",
   "metadata": {
    "execution": {
     "iopub.execute_input": "2022-06-03T22:10:56.108469Z",
     "iopub.status.busy": "2022-06-03T22:10:56.108191Z",
     "iopub.status.idle": "2022-06-03T22:10:57.488589Z",
     "shell.execute_reply": "2022-06-03T22:10:57.487566Z"
    },
    "jupyter": {
     "source_hidden": true
    },
    "papermill": {
     "duration": 1.406096,
     "end_time": "2022-06-03T22:10:57.490947",
     "exception": false,
     "start_time": "2022-06-03T22:10:56.084851",
     "status": "completed"
    },
    "tags": [
     "remove_input"
    ]
   },
   "outputs": [],
   "source": [
    "df = catalog.competitive_route_variability.read()\n",
    "\n",
    "df = (df[(df.calitp_itp_id == itp_id) & \n",
    "         (df.route_group.notna())]\n",
    "      .rename(columns = {\"route_name_used\": \"route_name\"})\n",
    "      .reset_index(drop=True)\n",
    "     )\n",
    "\n",
    "\n",
    "if itp_id == 182:\n",
    "    df = df.assign(\n",
    "        route_id = df.route_id.str.replace('-13153', '')\n",
    "    )\n",
    "\n",
    "# Use route_short_name instead\n",
    "# But where route_short_name is missing, use route_id\n",
    "df = df.assign(\n",
    "    route_id2 = df.apply(lambda x: x.route_short_name if x.route_short_name is not None\n",
    "                        else x.route_id, axis=1),\n",
    ")"
   ]
  },
  {
   "cell_type": "code",
   "execution_count": 5,
   "id": "33ac4b06-f647-4dce-a625-8f2c1b37cc60",
   "metadata": {
    "execution": {
     "iopub.execute_input": "2022-06-03T22:10:57.519862Z",
     "iopub.status.busy": "2022-06-03T22:10:57.519573Z",
     "iopub.status.idle": "2022-06-03T22:10:57.527680Z",
     "shell.execute_reply": "2022-06-03T22:10:57.526795Z"
    },
    "jupyter": {
     "source_hidden": true
    },
    "papermill": {
     "duration": 0.025768,
     "end_time": "2022-06-03T22:10:57.529708",
     "exception": false,
     "start_time": "2022-06-03T22:10:57.503940",
     "status": "completed"
    },
    "tags": [
     "remove_input"
    ]
   },
   "outputs": [],
   "source": [
    "%%capture_parameters\n",
    "operator_name = df.calitp_agency_name.iloc[0]\n",
    "district_number = f\"{df.caltrans_district.iloc[0].split('-')[0].strip()}\"\n",
    "district_name = f\"{df.caltrans_district.iloc[0].split('-')[1].strip().lower().replace(' ', '-')}\"\n",
    "\n",
    "itp_id, operator_name, district_number, district_name"
   ]
  },
  {
   "cell_type": "markdown",
   "id": "65bc6f5c-8348-42ee-b2dd-52057c406852",
   "metadata": {
    "papermill": {
     "duration": 0.013406,
     "end_time": "2022-06-03T22:10:57.561428",
     "exception": false,
     "start_time": "2022-06-03T22:10:57.548022",
     "status": "completed"
    },
    "tags": []
   },
   "source": [
    "# Victor Valley Transit"
   ]
  },
  {
   "cell_type": "code",
   "execution_count": 6,
   "id": "a689c1ab-2c6c-4831-8d64-897f5986f571",
   "metadata": {
    "execution": {
     "iopub.execute_input": "2022-06-03T22:10:57.589328Z",
     "iopub.status.busy": "2022-06-03T22:10:57.589003Z",
     "iopub.status.idle": "2022-06-03T22:10:57.595384Z",
     "shell.execute_reply": "2022-06-03T22:10:57.594493Z"
    },
    "jupyter": {
     "source_hidden": true
    },
    "papermill": {
     "duration": 0.026237,
     "end_time": "2022-06-03T22:10:57.600646",
     "exception": false,
     "start_time": "2022-06-03T22:10:57.574409",
     "status": "completed"
    },
    "tags": [
     "remove_input"
    ]
   },
   "outputs": [
    {
     "data": {
      "text/html": [
       "<h1>Competitive & Parallel Routes</h1>"
      ],
      "text/plain": [
       "<IPython.core.display.HTML object>"
      ]
     },
     "metadata": {},
     "output_type": "display_data"
    }
   ],
   "source": [
    "display(HTML(\"<h1>Competitive & Parallel Routes</h1>\")) "
   ]
  },
  {
   "cell_type": "code",
   "execution_count": 7,
   "id": "2cb4d8d5-4760-40e4-85b1-cb833d8bb648",
   "metadata": {
    "execution": {
     "iopub.execute_input": "2022-06-03T22:10:57.632199Z",
     "iopub.status.busy": "2022-06-03T22:10:57.631209Z",
     "iopub.status.idle": "2022-06-03T22:11:08.520656Z",
     "shell.execute_reply": "2022-06-03T22:11:08.519627Z"
    },
    "jupyter": {
     "source_hidden": true
    },
    "papermill": {
     "duration": 10.908104,
     "end_time": "2022-06-03T22:11:08.523052",
     "exception": false,
     "start_time": "2022-06-03T22:10:57.614948",
     "status": "completed"
    },
    "tags": [
     "remove_input"
    ]
   },
   "outputs": [],
   "source": [
    "# Grab parameters for narrative text - clean up formatting here \n",
    "district = df.caltrans_district.iloc[0]\n",
    "formatted_date = pd.to_datetime(parallel_corridors_utils.SELECTED_DATE).strftime('%m-%d-%Y')\n",
    "\n",
    "PCT_COMPETITIVE_THRESHOLD = parallel_corridors_utils.PCT_COMPETITIVE_THRESHOLD\n",
    "PCT_TRIPS_BELOW_CUTOFF = parallel_corridors_utils.PCT_TRIPS_BELOW_CUTOFF\n",
    "\n",
    "stats = parallel_corridors_utils.operator_parallel_competitive_stats(\n",
    "    itp_id, PCT_COMPETITIVE_THRESHOLD, PCT_TRIPS_BELOW_CUTOFF)\n",
    "\n",
    "pct_parallel = round(stats['parallel_routes'] / stats['num_routes'] * 100, 1 )\n",
    "pct_competitive =  round(stats['competitive_routes'] / stats['num_routes'] * 100, 1 )\n",
    "pct_viable =  round(stats['viable_competitive_routes'] / stats['num_routes'] * 100, 1 )"
   ]
  },
  {
   "cell_type": "code",
   "execution_count": 8,
   "id": "8bf30c8f-6aa5-47bb-82ae-a906732e81fd",
   "metadata": {
    "execution": {
     "iopub.execute_input": "2022-06-03T22:11:08.558656Z",
     "iopub.status.busy": "2022-06-03T22:11:08.558374Z",
     "iopub.status.idle": "2022-06-03T22:11:08.593480Z",
     "shell.execute_reply": "2022-06-03T22:11:08.592508Z"
    },
    "jupyter": {
     "source_hidden": true
    },
    "papermill": {
     "duration": 0.05985,
     "end_time": "2022-06-03T22:11:08.596530",
     "exception": false,
     "start_time": "2022-06-03T22:11:08.536680",
     "status": "completed"
    },
    "tags": [
     "remove_input"
    ]
   },
   "outputs": [],
   "source": [
    "# Display a table of route-level stats for each route_group\n",
    "# Displaying route_name makes chart too crowded\n",
    "\n",
    "# Get route stats (for entire df)\n",
    "route_stats = parallel_corridors_utils.competitive_route_level_stats(df)\n",
    "    \n",
    "def style_route_stats(df, top15_routes):\n",
    "    df = df[df.route_id.isin(top15_routes)]\n",
    "    \n",
    "    # Rename columns for display\n",
    "    rename_cols = {\n",
    "        \"route_id2\": \"Route ID\",\n",
    "        \"route_name\": \"Route Name\",\n",
    "        \"route_group\": \"Route Group\",\n",
    "        \"num_trips\": \"# trips\",\n",
    "        \"daily_avg_freq\": \"Daily Avg Freq (trips per hr)\",\n",
    "        \"pm_peak_freq\": \"PM Peak Avg Freq (trips per hr)\",\n",
    "        \"percentiles\": \"25th, 50th, 75th ptile (hrs)\",\n",
    "    }\n",
    "    \n",
    "    # Style it\n",
    "    drop_cols = [\n",
    "        \"calitp_itp_id\", \"route_id\", \"below_cutoff\", \"route_group\", \n",
    "        \"pct_trips_competitive\", \"pct_below_cutoff\",\n",
    "        \"p25\", \"p50\", \"p75\",\n",
    "    ]\n",
    "    \n",
    "    # Change alignment for some columns\n",
    "    # https://stackoverflow.com/questions/59453091/left-align-the-first-column-and-center-align-the-other-columns-in-a-pandas-table\n",
    "    df_style = (df.sort_values(\n",
    "        [\"pct_trips_competitive\", \"below_cutoff\", \n",
    "        \"pct_below_cutoff\", \"route_id2\"], \n",
    "        ascending=[False, False, False, True])\n",
    "           .drop(columns = drop_cols)\n",
    "           .rename(columns = rename_cols)\n",
    "           .style.format(\n",
    "               subset=['Daily Avg Freq (trips per hr)', \n",
    "                       'PM Peak Avg Freq (trips per hr)'], \n",
    "               **{'formatter': '{:,.3}'})\n",
    "                .set_properties(subset=['Route ID', 'Route Name'], \n",
    "                                **{'text-align': 'left'})\n",
    "                .set_properties(subset=['# trips', 'Daily Avg Freq (trips per hr)', \n",
    "                                       'PM Peak Avg Freq (trips per hr)'], \n",
    "                               **{'text-align': 'center'})\n",
    "                .set_table_styles([dict(selector='th', \n",
    "                                        props=[('text-align', 'center')])\n",
    "                                        ])\n",
    "           .hide(axis=\"index\")\n",
    "           .to_html()\n",
    "          )\n",
    "    \n",
    "    display(HTML(\"<h4>Route Stats</h4>\"))\n",
    "    display(HTML(df_style))"
   ]
  },
  {
   "cell_type": "markdown",
   "id": "ab667928-5274-4490-82d9-4c39293209a4",
   "metadata": {
    "papermill": {
     "duration": 0.01489,
     "end_time": "2022-06-03T22:11:08.625647",
     "exception": false,
     "start_time": "2022-06-03T22:11:08.610757",
     "status": "completed"
    },
    "tags": []
   },
   "source": [
    "## Quick Stats"
   ]
  },
  {
   "cell_type": "code",
   "execution_count": 9,
   "id": "0416509d-dc62-4165-b62e-64f8b26e8b8e",
   "metadata": {
    "execution": {
     "iopub.execute_input": "2022-06-03T22:11:08.657868Z",
     "iopub.status.busy": "2022-06-03T22:11:08.657506Z",
     "iopub.status.idle": "2022-06-03T22:11:08.666393Z",
     "shell.execute_reply": "2022-06-03T22:11:08.665479Z"
    },
    "jupyter": {
     "source_hidden": true
    },
    "papermill": {
     "duration": 0.026067,
     "end_time": "2022-06-03T22:11:08.668265",
     "exception": false,
     "start_time": "2022-06-03T22:11:08.642198",
     "status": "completed"
    },
    "tags": [
     "remove_input"
    ]
   },
   "outputs": [
    {
     "data": {
      "text/markdown": [
       "**Bus routes in service: 41**<br>**Parallel routes** to State Highway Network (SHN): **10 routes (24.4%)**<br>**Competitive routes** against car travel (within 2x car travel time): **7 routes (17.1%)**<br>**Viable competitive routes** against car travel (within 2x car travel time and within 20, 30, or 40 min cut-off): **6 routes (14.6%)**"
      ],
      "text/plain": [
       "<IPython.core.display.Markdown object>"
      ]
     },
     "metadata": {},
     "output_type": "display_data"
    }
   ],
   "source": [
    "display(\n",
    "    Markdown(\n",
    "        f\"**Bus routes in service: {stats['num_routes']}**\"\n",
    "        \"<br>**Parallel routes** to State Highway Network (SHN): \"\n",
    "        f\"**{stats['parallel_routes']} routes ({pct_parallel}%)**\"\n",
    "        \"<br>**Competitive routes** against car travel (within 2x car travel time): \"\n",
    "        f\"**{stats['competitive_routes']} routes ({pct_competitive}%)**\"\n",
    "        \"<br>**Viable competitive routes** against car travel \"\n",
    "        \"(within 2x car travel time and within 20, 30, or 40 min cut-off): \"\n",
    "        f\"**{stats['viable_competitive_routes']} routes ({pct_viable}%)**\"\n",
    "    )\n",
    ")"
   ]
  },
  {
   "cell_type": "code",
   "execution_count": 10,
   "id": "f9d6ab58-f0ee-460c-b6de-657490e1f386",
   "metadata": {
    "execution": {
     "iopub.execute_input": "2022-06-03T22:11:08.698916Z",
     "iopub.status.busy": "2022-06-03T22:11:08.698443Z",
     "iopub.status.idle": "2022-06-03T22:11:08.705427Z",
     "shell.execute_reply": "2022-06-03T22:11:08.704833Z"
    },
    "jupyter": {
     "source_hidden": true
    },
    "papermill": {
     "duration": 0.025109,
     "end_time": "2022-06-03T22:11:08.707454",
     "exception": false,
     "start_time": "2022-06-03T22:11:08.682345",
     "status": "completed"
    },
    "tags": [
     "remove_input"
    ]
   },
   "outputs": [],
   "source": [
    "def set_yaxis_range(df, y_col):\n",
    "    Y_MIN = df[y_col].min()\n",
    "    Y_MAX = df[y_col].max()\n",
    "    \n",
    "    return Y_MIN, Y_MAX\n",
    "\n",
    "# Rather than set it according to the operator, which can vary,\n",
    "# just use set thresholds for each group\n",
    "def top15_routes(df, route_group):\n",
    "    # grab top 15 routes where majority of trips are below that cut-off \n",
    "    # but show 15 max, otherwise, show less, since these won't be as interesting to operators\n",
    "    df2 = (df[(df.route_group==route_group) &\n",
    "              (df.pct_below_cutoff >= PCT_TRIPS_BELOW_CUTOFF)]\n",
    "           .sort_values([\"calitp_itp_id\", \"below_cutoff\", \n",
    "                         \"pct_below_cutoff\", \"route_id\"],\n",
    "                        ascending = [True, False, False, True]\n",
    "                       )\n",
    "           .drop_duplicates(subset=[\"calitp_itp_id\", \"route_id\"])\n",
    "          ).head(15)\n",
    "    \n",
    "    if len(df2) > 1:\n",
    "        return list(df2.route_id)"
   ]
  },
  {
   "cell_type": "code",
   "execution_count": 11,
   "id": "cf36d559-3349-4144-8086-8ac9ce937a5a",
   "metadata": {
    "execution": {
     "iopub.execute_input": "2022-06-03T22:11:08.744130Z",
     "iopub.status.busy": "2022-06-03T22:11:08.743659Z",
     "iopub.status.idle": "2022-06-03T22:11:08.751316Z",
     "shell.execute_reply": "2022-06-03T22:11:08.750255Z"
    },
    "jupyter": {
     "source_hidden": true
    },
    "papermill": {
     "duration": 0.032296,
     "end_time": "2022-06-03T22:11:08.754155",
     "exception": false,
     "start_time": "2022-06-03T22:11:08.721859",
     "status": "completed"
    },
    "tags": [
     "remove_input"
    ]
   },
   "outputs": [],
   "source": [
    "def caption_with_cutoff(cutoff):\n",
    "    sentence = (\n",
    "        f\"<br>These are routes that have **{int(PCT_TRIPS_BELOW_CUTOFF*100)}% \"\n",
    "        \"of their trips take no more than an \"\n",
    "        f\"additional {cutoff} min** compared to a car \"\n",
    "        \"(up to 15 routes) are shown.\"\n",
    "        \"<br>Within each route group, routes are sorted in descending order \"\n",
    "        \"by % competitive trips and # trips below the additional time cut-off.\"\n",
    "    )\n",
    "    return sentence\n",
    "\n",
    "CAPTIONS_DICT = {\n",
    "    \"short\": caption_with_cutoff(diff_cutoffs['short']),\n",
    "    \"medium\": caption_with_cutoff(diff_cutoffs['medium']),\n",
    "    \"long\": caption_with_cutoff(diff_cutoffs['long']),\n",
    "}"
   ]
  },
  {
   "cell_type": "code",
   "execution_count": 12,
   "id": "e4306d58-6944-47e9-afef-5d5b524c751f",
   "metadata": {
    "execution": {
     "iopub.execute_input": "2022-06-03T22:11:08.795561Z",
     "iopub.status.busy": "2022-06-03T22:11:08.795195Z",
     "iopub.status.idle": "2022-06-03T22:11:08.802382Z",
     "shell.execute_reply": "2022-06-03T22:11:08.801418Z"
    },
    "jupyter": {
     "source_hidden": true
    },
    "papermill": {
     "duration": 0.027369,
     "end_time": "2022-06-03T22:11:08.804403",
     "exception": false,
     "start_time": "2022-06-03T22:11:08.777034",
     "status": "completed"
    },
    "tags": [
     "remove_input"
    ]
   },
   "outputs": [],
   "source": [
    "def setup_charts(df, PCT_COMPETITIVE_THRESHOLD, route_group):\n",
    "    # Set up df for charting (cut-off at some threshold to show most competitive routes)\n",
    "    plot_me = (df[df.pct_trips_competitive > PCT_COMPETITIVE_THRESHOLD]\n",
    "           .drop(columns = \"geometry\")\n",
    "    )\n",
    "    \n",
    "    # Set y-ranges to be the same across route_groups, \n",
    "    # otherwise charts fluctuate too much, even within operator\n",
    "    y_col1 = \"bus_multiplier\"\n",
    "    Y_MIN1, Y_MAX1 = set_yaxis_range(plot_me, y_col1)\n",
    "\n",
    "    y_col2 = \"bus_difference\"\n",
    "    Y_MIN2, Y_MAX2 = set_yaxis_range(plot_me, y_col2)\n",
    "    \n",
    "    # Grab the routes to plot\n",
    "    subset_routes = top15_routes(plot_me, route_group)\n",
    "        \n",
    "    # Display charts\n",
    "    multiplier_chart = parallel_corridors_utils.make_stripplot(\n",
    "        plot_me[plot_me.route_id.isin(subset_routes)], \n",
    "        y_col1, Y_MIN = Y_MIN1, Y_MAX = Y_MAX1\n",
    "    )\n",
    "    \n",
    "    difference_chart = parallel_corridors_utils.make_stripplot(\n",
    "        plot_me[plot_me.route_id.isin(subset_routes)], \n",
    "        y_col2, Y_MIN = Y_MIN2, Y_MAX = Y_MAX2\n",
    "    )\n",
    "    \n",
    "    return subset_routes, multiplier_chart, difference_chart            "
   ]
  },
  {
   "cell_type": "code",
   "execution_count": 13,
   "id": "33a710e8-504c-4942-aa75-ff69f216956e",
   "metadata": {
    "execution": {
     "iopub.execute_input": "2022-06-03T22:11:08.870583Z",
     "iopub.status.busy": "2022-06-03T22:11:08.870286Z",
     "iopub.status.idle": "2022-06-03T22:11:08.876728Z",
     "shell.execute_reply": "2022-06-03T22:11:08.876139Z"
    },
    "jupyter": {
     "source_hidden": true
    },
    "papermill": {
     "duration": 0.024675,
     "end_time": "2022-06-03T22:11:08.878730",
     "exception": false,
     "start_time": "2022-06-03T22:11:08.854055",
     "status": "completed"
    },
    "tags": [
     "remove_input"
    ]
   },
   "outputs": [],
   "source": [
    "# Allow for possibility that operator doesn't have routes that fall into certain route_groups\n",
    "# But, jupyterbook will not like markdown with f-string\n",
    "# separate out route_group and put in each cell, and use try/except + if to display...\n",
    "# but all 3 route groups must be displayed. \n",
    "# just add sentence about why no routes were returned at the end\n",
    "# Change to fewer than 2 routes, instead of no routes, because we don't want to show just 1 route\n",
    "\n",
    "def display_charts_for_route_group(df, route_group):\n",
    "    try:\n",
    "        subset_routes, mult, diff  = setup_charts(df, PCT_COMPETITIVE_THRESHOLD, route_group)\n",
    "    \n",
    "        if len(subset_routes) > 1:\n",
    "            display(Markdown(f\"{CAPTIONS_DICT[route_group]}\"))\n",
    "\n",
    "            display(mult)\n",
    "            display(diff)\n",
    "\n",
    "            # Display route stats for just plotted routes\n",
    "            style_route_stats(route_stats, subset_routes)\n",
    "        else: \n",
    "            print(\"Fewer than 2 routes meet this criteria.\")\n",
    "    except:\n",
    "        print(\"No routes meet this criteria.\")"
   ]
  },
  {
   "cell_type": "markdown",
   "id": "525f9b38-072b-46d1-96a8-1aa4b038357c",
   "metadata": {
    "papermill": {
     "duration": 0.014495,
     "end_time": "2022-06-03T22:11:08.909064",
     "exception": false,
     "start_time": "2022-06-03T22:11:08.894569",
     "status": "completed"
    },
    "tags": []
   },
   "source": [
    "## Viable Competitive Routes\n",
    "### Short Routes (< 1 hr)"
   ]
  },
  {
   "cell_type": "code",
   "execution_count": 14,
   "id": "57f7084c-2cf7-45c6-ba08-1609e0bd6ca5",
   "metadata": {
    "execution": {
     "iopub.execute_input": "2022-06-03T22:11:08.942897Z",
     "iopub.status.busy": "2022-06-03T22:11:08.941956Z",
     "iopub.status.idle": "2022-06-03T22:11:08.954039Z",
     "shell.execute_reply": "2022-06-03T22:11:08.953284Z"
    },
    "jupyter": {
     "source_hidden": true
    },
    "papermill": {
     "duration": 0.031772,
     "end_time": "2022-06-03T22:11:08.956211",
     "exception": false,
     "start_time": "2022-06-03T22:11:08.924439",
     "status": "completed"
    },
    "tags": [
     "remove_input"
    ]
   },
   "outputs": [
    {
     "name": "stdout",
     "output_type": "stream",
     "text": [
      "No routes meet this criteria.\n"
     ]
    }
   ],
   "source": [
    "route_group = \"short\"\n",
    "display_charts_for_route_group(df, route_group)"
   ]
  },
  {
   "cell_type": "markdown",
   "id": "c2931b6f-034d-4384-9e14-80b925e3b820",
   "metadata": {
    "papermill": {
     "duration": 0.015432,
     "end_time": "2022-06-03T22:11:08.988170",
     "exception": false,
     "start_time": "2022-06-03T22:11:08.972738",
     "status": "completed"
    },
    "tags": []
   },
   "source": [
    "### Medium Routes (1-1.5 hrs)"
   ]
  },
  {
   "cell_type": "code",
   "execution_count": 15,
   "id": "480edddc-4de0-48c2-ae4c-b0ceef8f28b5",
   "metadata": {
    "execution": {
     "iopub.execute_input": "2022-06-03T22:11:09.023386Z",
     "iopub.status.busy": "2022-06-03T22:11:09.022378Z",
     "iopub.status.idle": "2022-06-03T22:11:09.043390Z",
     "shell.execute_reply": "2022-06-03T22:11:09.042411Z"
    },
    "jupyter": {
     "source_hidden": true
    },
    "papermill": {
     "duration": 0.041584,
     "end_time": "2022-06-03T22:11:09.045338",
     "exception": false,
     "start_time": "2022-06-03T22:11:09.003754",
     "status": "completed"
    },
    "tags": [
     "remove_input"
    ]
   },
   "outputs": [
    {
     "name": "stdout",
     "output_type": "stream",
     "text": [
      "No routes meet this criteria.\n"
     ]
    }
   ],
   "source": [
    "route_group = \"medium\"\n",
    "display_charts_for_route_group(df, route_group)"
   ]
  },
  {
   "cell_type": "markdown",
   "id": "124b76d0-886c-4d03-92ac-f1bda3cda182",
   "metadata": {
    "papermill": {
     "duration": 0.016784,
     "end_time": "2022-06-03T22:11:09.077455",
     "exception": false,
     "start_time": "2022-06-03T22:11:09.060671",
     "status": "completed"
    },
    "tags": []
   },
   "source": [
    "### Long Routes (> 1.5 hrs)"
   ]
  },
  {
   "cell_type": "code",
   "execution_count": 16,
   "id": "ddc81b19-4c45-4c81-8b7a-5e0f394aa7a3",
   "metadata": {
    "execution": {
     "iopub.execute_input": "2022-06-03T22:11:09.110437Z",
     "iopub.status.busy": "2022-06-03T22:11:09.109502Z",
     "iopub.status.idle": "2022-06-03T22:11:09.568479Z",
     "shell.execute_reply": "2022-06-03T22:11:09.567838Z"
    },
    "jupyter": {
     "source_hidden": true
    },
    "papermill": {
     "duration": 0.477387,
     "end_time": "2022-06-03T22:11:09.570431",
     "exception": false,
     "start_time": "2022-06-03T22:11:09.093044",
     "status": "completed"
    },
    "tags": [
     "remove_input"
    ]
   },
   "outputs": [
    {
     "data": {
      "text/markdown": [
       "<br>These are routes that have **100% of their trips take no more than an additional 40 min** compared to a car (up to 15 routes) are shown.<br>Within each route group, routes are sorted in descending order by % competitive trips and # trips below the additional time cut-off."
      ],
      "text/plain": [
       "<IPython.core.display.Markdown object>"
      ]
     },
     "metadata": {},
     "output_type": "display_data"
    },
    {
     "data": {
      "text/html": [
       "\n",
       "<div id=\"altair-viz-918187f3b32e43809afd95574b79508a\"></div>\n",
       "<script type=\"text/javascript\">\n",
       "  var VEGA_DEBUG = (typeof VEGA_DEBUG == \"undefined\") ? {} : VEGA_DEBUG;\n",
       "  (function(spec, embedOpt){\n",
       "    let outputDiv = document.currentScript.previousElementSibling;\n",
       "    if (outputDiv.id !== \"altair-viz-918187f3b32e43809afd95574b79508a\") {\n",
       "      outputDiv = document.getElementById(\"altair-viz-918187f3b32e43809afd95574b79508a\");\n",
       "    }\n",
       "    const paths = {\n",
       "      \"vega\": \"https://cdn.jsdelivr.net/npm//vega@5?noext\",\n",
       "      \"vega-lib\": \"https://cdn.jsdelivr.net/npm//vega-lib?noext\",\n",
       "      \"vega-lite\": \"https://cdn.jsdelivr.net/npm//vega-lite@4.17.0?noext\",\n",
       "      \"vega-embed\": \"https://cdn.jsdelivr.net/npm//vega-embed@6?noext\",\n",
       "    };\n",
       "\n",
       "    function maybeLoadScript(lib, version) {\n",
       "      var key = `${lib.replace(\"-\", \"\")}_version`;\n",
       "      return (VEGA_DEBUG[key] == version) ?\n",
       "        Promise.resolve(paths[lib]) :\n",
       "        new Promise(function(resolve, reject) {\n",
       "          var s = document.createElement('script');\n",
       "          document.getElementsByTagName(\"head\")[0].appendChild(s);\n",
       "          s.async = true;\n",
       "          s.onload = () => {\n",
       "            VEGA_DEBUG[key] = version;\n",
       "            return resolve(paths[lib]);\n",
       "          };\n",
       "          s.onerror = () => reject(`Error loading script: ${paths[lib]}`);\n",
       "          s.src = paths[lib];\n",
       "        });\n",
       "    }\n",
       "\n",
       "    function showError(err) {\n",
       "      outputDiv.innerHTML = `<div class=\"error\" style=\"color:red;\">${err}</div>`;\n",
       "      throw err;\n",
       "    }\n",
       "\n",
       "    function displayChart(vegaEmbed) {\n",
       "      vegaEmbed(outputDiv, spec, embedOpt)\n",
       "        .catch(err => showError(`Javascript Error: ${err.message}<br>This usually means there's a typo in your chart specification. See the javascript console for the full traceback.`));\n",
       "    }\n",
       "\n",
       "    if(typeof define === \"function\" && define.amd) {\n",
       "      requirejs.config({paths});\n",
       "      require([\"vega-embed\"], displayChart, err => showError(`Error loading script: ${err.message}`));\n",
       "    } else {\n",
       "      maybeLoadScript(\"vega\", \"5\")\n",
       "        .then(() => maybeLoadScript(\"vega-lite\", \"4.17.0\"))\n",
       "        .then(() => maybeLoadScript(\"vega-embed\", \"6\"))\n",
       "        .catch(showError)\n",
       "        .then(() => displayChart(vegaEmbed));\n",
       "    }\n",
       "  })({\"config\": {\"view\": {\"continuousWidth\": 400, \"continuousHeight\": 300, \"stroke\": null}, \"facet\": {\"spacing\": 0}}, \"data\": {\"name\": \"data-50a656e60b2db59efb245e8cbbd3124f\"}, \"facet\": {\"column\": {\"field\": \"route_id2\", \"sort\": [\"108B\", \"104A\", \"107A\", \"103B\", \"107B\", \"102B\"], \"title\": \"Route ID\", \"type\": \"nominal\"}}, \"spec\": {\"layer\": [{\"mark\": \"rule\", \"encoding\": {\"color\": {\"value\": \"black\"}, \"y\": {\"field\": \"cutoff\", \"type\": \"quantitative\"}}, \"selection\": {\"selector001\": {\"type\": \"interval\", \"bind\": \"scales\", \"encodings\": [\"x\", \"y\"]}}}, {\"mark\": {\"type\": \"point\", \"opacity\": 0.65, \"size\": 20, \"strokeWidth\": 1.1}, \"encoding\": {\"color\": {\"field\": \"time_of_day\", \"scale\": {\"range\": [\"#136C97\", \"#E16B26\", \"#F6BF16\", \"#00896B\", \"#7790A3\", \"#5B559C\"]}, \"sort\": [\"AM Peak\", \"Midday\", \"PM Peak\", \"Owl Service\"], \"title\": \"Time of Day\", \"type\": \"nominal\"}, \"tooltip\": [{\"field\": \"route_id2\", \"title\": \"route_id\", \"type\": \"nominal\"}, {\"field\": \"route_name\", \"type\": \"nominal\"}, {\"field\": \"trip_id\", \"type\": \"nominal\"}, {\"field\": \"service_hours\", \"type\": \"quantitative\"}, {\"field\": \"car_duration_hours\", \"type\": \"quantitative\"}, {\"field\": \"bus_multiplier\", \"type\": \"quantitative\"}, {\"field\": \"bus_difference\", \"type\": \"quantitative\"}, {\"field\": \"num_trips\", \"type\": \"quantitative\"}, {\"field\": \"num_competitive\", \"type\": \"quantitative\"}, {\"field\": \"pct_trips_competitive\", \"type\": \"quantitative\"}, {\"field\": \"pct_below_cutoff\", \"type\": \"quantitative\"}, {\"field\": \"p25\", \"type\": \"quantitative\"}, {\"field\": \"p50\", \"type\": \"quantitative\"}, {\"field\": \"p75\", \"type\": \"quantitative\"}], \"x\": {\"axis\": {\"grid\": false, \"labels\": false, \"ticks\": true, \"values\": [0]}, \"field\": \"jitter\", \"scale\": {}, \"title\": null, \"type\": \"quantitative\"}, \"y\": {\"field\": \"bus_multiplier\", \"scale\": {\"domain\": [0, 3.0]}, \"title\": \"Ratio of Bus to Car Travel Time\", \"type\": \"quantitative\"}}, \"transform\": [{\"calculate\": \"sqrt(-2*log(random()))*cos(2*PI*random())\", \"as\": \"jitter\"}], \"width\": 50}, {\"layer\": [{\"mark\": {\"type\": \"point\", \"opacity\": 0.6, \"size\": 20, \"strokeWidth\": 1.3}, \"encoding\": {\"color\": {\"value\": \"#323434\"}, \"y\": {\"field\": \"bus_multiplier\", \"type\": \"quantitative\"}}, \"transform\": [{\"filter\": \"(datum.p50_trip === 1)\"}]}, {\"mark\": {\"type\": \"text\", \"align\": \"center\", \"baseline\": \"middle\"}, \"encoding\": {\"color\": {\"value\": \"black\"}, \"text\": {\"field\": \"pct_trips_competitive\", \"format\": \".0%\", \"type\": \"quantitative\"}, \"tooltip\": [{\"field\": \"route_id2\", \"title\": \"route_id\", \"type\": \"nominal\"}, {\"field\": \"route_name\", \"type\": \"nominal\"}, {\"field\": \"trip_id\", \"type\": \"nominal\"}, {\"field\": \"service_hours\", \"type\": \"quantitative\"}, {\"field\": \"car_duration_hours\", \"type\": \"quantitative\"}, {\"field\": \"bus_multiplier\", \"type\": \"quantitative\"}, {\"field\": \"bus_difference\", \"type\": \"quantitative\"}, {\"field\": \"num_trips\", \"type\": \"quantitative\"}, {\"field\": \"num_competitive\", \"type\": \"quantitative\"}, {\"field\": \"pct_trips_competitive\", \"type\": \"quantitative\"}, {\"field\": \"pct_below_cutoff\", \"type\": \"quantitative\"}, {\"field\": \"p25\", \"type\": \"quantitative\"}, {\"field\": \"p50\", \"type\": \"quantitative\"}, {\"field\": \"p75\", \"type\": \"quantitative\"}], \"x\": {\"value\": 30}, \"y\": {\"value\": 15}}, \"transform\": [{\"calculate\": \"sqrt(-2*log(random()))*cos(2*PI*random())\", \"as\": \"jitter\"}, {\"filter\": \"(datum.fastest_trip === 1)\"}]}]}]}, \"resolve\": {\"scale\": {\"y\": \"shared\"}}, \"title\": \"Ratio of Bus to Car Travel Time\", \"$schema\": \"https://vega.github.io/schema/vega-lite/v4.17.0.json\", \"datasets\": {\"data-50a656e60b2db59efb245e8cbbd3124f\": [{\"calitp_itp_id\": 360, \"trip_key\": 8985717705295804941, \"trip_id\": \"t_1969650_b_33469_tn_0\", \"shape_id\": \"p_786923\", \"route_id\": \"19738\", \"service_hours\": 2.18, \"trip_first_departure_ts\": 15300, \"trip_last_arrival_ts\": 23160, \"departure_hour\": 4, \"time_of_day\": \"Owl Service\", \"p25\": 2.18, \"p50\": 2.18, \"p75\": 2.18, \"p50_trip\": 1, \"fastest_trip\": 1, \"car_duration_hours\": 1.77, \"competitive_route\": 1, \"bus_multiplier\": 1.23, \"bus_difference\": 24.6, \"num_trips\": 1, \"num_competitive\": 1, \"pct_trips_competitive\": 1.0, \"bus_difference_spread\": 0.0, \"route_group\": \"long\", \"max_trip_hrs\": 2.18, \"max_trip_route_group\": 2.18, \"below_cutoff\": 1, \"pct_below_cutoff\": 1.0, \"calitp_agency_name\": \"Victor Valley Transit\", \"caltrans_district\": \"08 - San Bernardino\", \"route_name\": \"Hesperia/Victorville To Ntc\", \"route_short_name\": \"104A\", \"route_id2\": \"104A\", \"cutoff2\": 40, \"cutoff\": 2}, {\"calitp_itp_id\": 360, \"trip_key\": 1903237178008776328, \"trip_id\": \"t_1969663_b_33469_tn_0\", \"shape_id\": \"p_787383\", \"route_id\": \"19739\", \"service_hours\": 2.18, \"trip_first_departure_ts\": 18900, \"trip_last_arrival_ts\": 26760, \"departure_hour\": 5, \"time_of_day\": \"Owl Service\", \"p25\": 2.18, \"p50\": 2.18, \"p75\": 2.18, \"p50_trip\": 1, \"fastest_trip\": 1, \"car_duration_hours\": 1.85, \"competitive_route\": 1, \"bus_multiplier\": 1.18, \"bus_difference\": 19.8, \"num_trips\": 1, \"num_competitive\": 1, \"pct_trips_competitive\": 1.0, \"bus_difference_spread\": 0.0, \"route_group\": \"long\", \"max_trip_hrs\": 2.18, \"max_trip_route_group\": 2.18, \"below_cutoff\": 1, \"pct_below_cutoff\": 1.0, \"calitp_agency_name\": \"Victor Valley Transit\", \"caltrans_district\": \"08 - San Bernardino\", \"route_name\": \"Hesperia/Victorville To Ntc\", \"route_short_name\": \"107A\", \"route_id2\": \"107A\", \"cutoff2\": 40, \"cutoff\": 2}, {\"calitp_itp_id\": 360, \"trip_key\": 5062130849368922554, \"trip_id\": \"t_1969662_b_33469_tn_0\", \"shape_id\": \"p_7110\", \"route_id\": \"19744\", \"service_hours\": 2.23, \"trip_first_departure_ts\": 56700, \"trip_last_arrival_ts\": 64740, \"departure_hour\": 15, \"time_of_day\": \"Midday\", \"p25\": 2.23, \"p50\": 2.23, \"p75\": 2.23, \"p50_trip\": 1, \"fastest_trip\": 1, \"car_duration_hours\": 1.77, \"competitive_route\": 1, \"bus_multiplier\": 1.26, \"bus_difference\": 27.6, \"num_trips\": 1, \"num_competitive\": 1, \"pct_trips_competitive\": 1.0, \"bus_difference_spread\": 0.0, \"route_group\": \"long\", \"max_trip_hrs\": 2.23, \"max_trip_route_group\": 2.23, \"below_cutoff\": 1, \"pct_below_cutoff\": 1.0, \"calitp_agency_name\": \"Victor Valley Transit\", \"caltrans_district\": \"08 - San Bernardino\", \"route_name\": \"Ntc To Victorville/Hesperia\", \"route_short_name\": \"102B\", \"route_id2\": \"102B\", \"cutoff2\": 40, \"cutoff\": 2}, {\"calitp_itp_id\": 360, \"trip_key\": -2363431273908436313, \"trip_id\": \"t_1969649_b_33469_tn_0\", \"shape_id\": \"p_786922\", \"route_id\": \"19745\", \"service_hours\": 2.2, \"trip_first_departure_ts\": 58500, \"trip_last_arrival_ts\": 66420, \"departure_hour\": 16, \"time_of_day\": \"Midday\", \"p25\": 2.2, \"p50\": 2.2, \"p75\": 2.2, \"p50_trip\": 1, \"fastest_trip\": 1, \"car_duration_hours\": 1.76, \"competitive_route\": 1, \"bus_multiplier\": 1.25, \"bus_difference\": 26.4, \"num_trips\": 1, \"num_competitive\": 1, \"pct_trips_competitive\": 1.0, \"bus_difference_spread\": 0.0, \"route_group\": \"long\", \"max_trip_hrs\": 2.2, \"max_trip_route_group\": 2.2, \"below_cutoff\": 1, \"pct_below_cutoff\": 1.0, \"calitp_agency_name\": \"Victor Valley Transit\", \"caltrans_district\": \"08 - San Bernardino\", \"route_name\": \"Ntc To Victorville/Hesperia\", \"route_short_name\": \"103B\", \"route_id2\": \"103B\", \"cutoff2\": 40, \"cutoff\": 2}, {\"calitp_itp_id\": 360, \"trip_key\": -8099416221705448183, \"trip_id\": \"t_1969667_b_33469_tn_0\", \"shape_id\": \"p_787380\", \"route_id\": \"19746\", \"service_hours\": 2.2, \"trip_first_departure_ts\": 60300, \"trip_last_arrival_ts\": 68220, \"departure_hour\": 16, \"time_of_day\": \"Midday\", \"p25\": 2.2, \"p50\": 2.2, \"p75\": 2.2, \"p50_trip\": 1, \"fastest_trip\": 1, \"car_duration_hours\": 1.77, \"competitive_route\": 1, \"bus_multiplier\": 1.24, \"bus_difference\": 25.8, \"num_trips\": 1, \"num_competitive\": 1, \"pct_trips_competitive\": 1.0, \"bus_difference_spread\": 0.0, \"route_group\": \"long\", \"max_trip_hrs\": 2.2, \"max_trip_route_group\": 2.2, \"below_cutoff\": 1, \"pct_below_cutoff\": 1.0, \"calitp_agency_name\": \"Victor Valley Transit\", \"caltrans_district\": \"08 - San Bernardino\", \"route_name\": \"Ntc To Victorville/Hesperia\", \"route_short_name\": \"107B\", \"route_id2\": \"107B\", \"cutoff2\": 40, \"cutoff\": 2}, {\"calitp_itp_id\": 360, \"trip_key\": -990112324361063202, \"trip_id\": \"t_1969666_b_33469_tn_0\", \"shape_id\": \"p_914830\", \"route_id\": \"19747\", \"service_hours\": 2.17, \"trip_first_departure_ts\": 65400, \"trip_last_arrival_ts\": 73200, \"departure_hour\": 18, \"time_of_day\": \"PM Peak\", \"p25\": 2.17, \"p50\": 2.17, \"p75\": 2.17, \"p50_trip\": 1, \"fastest_trip\": 1, \"car_duration_hours\": 1.77, \"competitive_route\": 1, \"bus_multiplier\": 1.23, \"bus_difference\": 24.0, \"num_trips\": 1, \"num_competitive\": 1, \"pct_trips_competitive\": 1.0, \"bus_difference_spread\": 0.0, \"route_group\": \"long\", \"max_trip_hrs\": 2.17, \"max_trip_route_group\": 2.17, \"below_cutoff\": 1, \"pct_below_cutoff\": 1.0, \"calitp_agency_name\": \"Victor Valley Transit\", \"caltrans_district\": \"08 - San Bernardino\", \"route_name\": \"Ntc To Victorville/Hesperia\", \"route_short_name\": \"108B\", \"route_id2\": \"108B\", \"cutoff2\": 40, \"cutoff\": 2}]}}, {\"mode\": \"vega-lite\"});\n",
       "</script>"
      ],
      "text/plain": [
       "alt.FacetChart(...)"
      ]
     },
     "metadata": {},
     "output_type": "display_data"
    },
    {
     "data": {
      "text/html": [
       "\n",
       "<div id=\"altair-viz-88a1ac68f4574984a0dbde2f9c9432aa\"></div>\n",
       "<script type=\"text/javascript\">\n",
       "  var VEGA_DEBUG = (typeof VEGA_DEBUG == \"undefined\") ? {} : VEGA_DEBUG;\n",
       "  (function(spec, embedOpt){\n",
       "    let outputDiv = document.currentScript.previousElementSibling;\n",
       "    if (outputDiv.id !== \"altair-viz-88a1ac68f4574984a0dbde2f9c9432aa\") {\n",
       "      outputDiv = document.getElementById(\"altair-viz-88a1ac68f4574984a0dbde2f9c9432aa\");\n",
       "    }\n",
       "    const paths = {\n",
       "      \"vega\": \"https://cdn.jsdelivr.net/npm//vega@5?noext\",\n",
       "      \"vega-lib\": \"https://cdn.jsdelivr.net/npm//vega-lib?noext\",\n",
       "      \"vega-lite\": \"https://cdn.jsdelivr.net/npm//vega-lite@4.17.0?noext\",\n",
       "      \"vega-embed\": \"https://cdn.jsdelivr.net/npm//vega-embed@6?noext\",\n",
       "    };\n",
       "\n",
       "    function maybeLoadScript(lib, version) {\n",
       "      var key = `${lib.replace(\"-\", \"\")}_version`;\n",
       "      return (VEGA_DEBUG[key] == version) ?\n",
       "        Promise.resolve(paths[lib]) :\n",
       "        new Promise(function(resolve, reject) {\n",
       "          var s = document.createElement('script');\n",
       "          document.getElementsByTagName(\"head\")[0].appendChild(s);\n",
       "          s.async = true;\n",
       "          s.onload = () => {\n",
       "            VEGA_DEBUG[key] = version;\n",
       "            return resolve(paths[lib]);\n",
       "          };\n",
       "          s.onerror = () => reject(`Error loading script: ${paths[lib]}`);\n",
       "          s.src = paths[lib];\n",
       "        });\n",
       "    }\n",
       "\n",
       "    function showError(err) {\n",
       "      outputDiv.innerHTML = `<div class=\"error\" style=\"color:red;\">${err}</div>`;\n",
       "      throw err;\n",
       "    }\n",
       "\n",
       "    function displayChart(vegaEmbed) {\n",
       "      vegaEmbed(outputDiv, spec, embedOpt)\n",
       "        .catch(err => showError(`Javascript Error: ${err.message}<br>This usually means there's a typo in your chart specification. See the javascript console for the full traceback.`));\n",
       "    }\n",
       "\n",
       "    if(typeof define === \"function\" && define.amd) {\n",
       "      requirejs.config({paths});\n",
       "      require([\"vega-embed\"], displayChart, err => showError(`Error loading script: ${err.message}`));\n",
       "    } else {\n",
       "      maybeLoadScript(\"vega\", \"5\")\n",
       "        .then(() => maybeLoadScript(\"vega-lite\", \"4.17.0\"))\n",
       "        .then(() => maybeLoadScript(\"vega-embed\", \"6\"))\n",
       "        .catch(showError)\n",
       "        .then(() => displayChart(vegaEmbed));\n",
       "    }\n",
       "  })({\"config\": {\"view\": {\"continuousWidth\": 400, \"continuousHeight\": 300, \"stroke\": null}, \"facet\": {\"spacing\": 0}}, \"data\": {\"name\": \"data-21df21c79c35a3f0f3b23bfceee201fe\"}, \"facet\": {\"column\": {\"field\": \"route_id2\", \"sort\": [\"108B\", \"104A\", \"107A\", \"103B\", \"107B\", \"102B\"], \"title\": \"Route ID\", \"type\": \"nominal\"}}, \"spec\": {\"layer\": [{\"mark\": \"rule\", \"encoding\": {\"color\": {\"value\": \"black\"}, \"y\": {\"field\": \"cutoff\", \"type\": \"quantitative\"}}, \"selection\": {\"selector002\": {\"type\": \"interval\", \"bind\": \"scales\", \"encodings\": [\"x\", \"y\"]}}}, {\"mark\": {\"type\": \"rule\", \"strokeDash\": [3, 3]}, \"encoding\": {\"color\": {\"value\": \"#323434\"}, \"y\": {\"field\": \"cutoff2\", \"type\": \"quantitative\"}}}, {\"mark\": {\"type\": \"point\", \"opacity\": 0.65, \"size\": 20, \"strokeWidth\": 1.1}, \"encoding\": {\"color\": {\"field\": \"time_of_day\", \"scale\": {\"range\": [\"#136C97\", \"#E16B26\", \"#F6BF16\", \"#00896B\", \"#7790A3\", \"#5B559C\"]}, \"sort\": [\"AM Peak\", \"Midday\", \"PM Peak\", \"Owl Service\"], \"title\": \"Time of Day\", \"type\": \"nominal\"}, \"tooltip\": [{\"field\": \"route_id2\", \"title\": \"route_id\", \"type\": \"nominal\"}, {\"field\": \"route_name\", \"type\": \"nominal\"}, {\"field\": \"trip_id\", \"type\": \"nominal\"}, {\"field\": \"service_hours\", \"type\": \"quantitative\"}, {\"field\": \"car_duration_hours\", \"type\": \"quantitative\"}, {\"field\": \"bus_multiplier\", \"type\": \"quantitative\"}, {\"field\": \"bus_difference\", \"type\": \"quantitative\"}, {\"field\": \"num_trips\", \"type\": \"quantitative\"}, {\"field\": \"num_competitive\", \"type\": \"quantitative\"}, {\"field\": \"pct_trips_competitive\", \"type\": \"quantitative\"}, {\"field\": \"pct_below_cutoff\", \"type\": \"quantitative\"}, {\"field\": \"p25\", \"type\": \"quantitative\"}, {\"field\": \"p50\", \"type\": \"quantitative\"}, {\"field\": \"p75\", \"type\": \"quantitative\"}], \"x\": {\"axis\": {\"grid\": false, \"labels\": false, \"ticks\": true, \"values\": [0]}, \"field\": \"jitter\", \"scale\": {}, \"title\": null, \"type\": \"quantitative\"}, \"y\": {\"field\": \"bus_difference\", \"scale\": {\"domain\": [-5, 45.0]}, \"title\": \"Difference in Bus to Car Travel Time (min)\", \"type\": \"quantitative\"}}, \"transform\": [{\"calculate\": \"sqrt(-2*log(random()))*cos(2*PI*random())\", \"as\": \"jitter\"}], \"width\": 50}, {\"layer\": [{\"mark\": {\"type\": \"point\", \"opacity\": 0.6, \"size\": 20, \"strokeWidth\": 1.3}, \"encoding\": {\"color\": {\"value\": \"#323434\"}, \"y\": {\"field\": \"bus_difference\", \"type\": \"quantitative\"}}, \"transform\": [{\"filter\": \"(datum.p50_trip === 1)\"}]}, {\"mark\": {\"type\": \"text\", \"align\": \"center\", \"baseline\": \"middle\"}, \"encoding\": {\"color\": {\"value\": \"black\"}, \"text\": {\"field\": \"pct_trips_competitive\", \"format\": \".0%\", \"type\": \"quantitative\"}, \"tooltip\": [{\"field\": \"route_id2\", \"title\": \"route_id\", \"type\": \"nominal\"}, {\"field\": \"route_name\", \"type\": \"nominal\"}, {\"field\": \"trip_id\", \"type\": \"nominal\"}, {\"field\": \"service_hours\", \"type\": \"quantitative\"}, {\"field\": \"car_duration_hours\", \"type\": \"quantitative\"}, {\"field\": \"bus_multiplier\", \"type\": \"quantitative\"}, {\"field\": \"bus_difference\", \"type\": \"quantitative\"}, {\"field\": \"num_trips\", \"type\": \"quantitative\"}, {\"field\": \"num_competitive\", \"type\": \"quantitative\"}, {\"field\": \"pct_trips_competitive\", \"type\": \"quantitative\"}, {\"field\": \"pct_below_cutoff\", \"type\": \"quantitative\"}, {\"field\": \"p25\", \"type\": \"quantitative\"}, {\"field\": \"p50\", \"type\": \"quantitative\"}, {\"field\": \"p75\", \"type\": \"quantitative\"}], \"x\": {\"value\": 30}, \"y\": {\"value\": 15}}, \"transform\": [{\"calculate\": \"sqrt(-2*log(random()))*cos(2*PI*random())\", \"as\": \"jitter\"}, {\"filter\": \"(datum.fastest_trip === 1)\"}]}]}]}, \"resolve\": {\"scale\": {\"y\": \"shared\"}}, \"title\": \"Difference in Bus to Car Travel Time (min)\", \"$schema\": \"https://vega.github.io/schema/vega-lite/v4.17.0.json\", \"datasets\": {\"data-21df21c79c35a3f0f3b23bfceee201fe\": [{\"calitp_itp_id\": 360, \"trip_key\": 8985717705295804941, \"trip_id\": \"t_1969650_b_33469_tn_0\", \"shape_id\": \"p_786923\", \"route_id\": \"19738\", \"service_hours\": 2.18, \"trip_first_departure_ts\": 15300, \"trip_last_arrival_ts\": 23160, \"departure_hour\": 4, \"time_of_day\": \"Owl Service\", \"p25\": 2.18, \"p50\": 2.18, \"p75\": 2.18, \"p50_trip\": 1, \"fastest_trip\": 1, \"car_duration_hours\": 1.77, \"competitive_route\": 1, \"bus_multiplier\": 1.23, \"bus_difference\": 24.6, \"num_trips\": 1, \"num_competitive\": 1, \"pct_trips_competitive\": 1.0, \"bus_difference_spread\": 0.0, \"route_group\": \"long\", \"max_trip_hrs\": 2.18, \"max_trip_route_group\": 2.18, \"below_cutoff\": 1, \"pct_below_cutoff\": 1.0, \"calitp_agency_name\": \"Victor Valley Transit\", \"caltrans_district\": \"08 - San Bernardino\", \"route_name\": \"Hesperia/Victorville To Ntc\", \"route_short_name\": \"104A\", \"route_id2\": \"104A\", \"cutoff2\": 40, \"cutoff\": 0}, {\"calitp_itp_id\": 360, \"trip_key\": 1903237178008776328, \"trip_id\": \"t_1969663_b_33469_tn_0\", \"shape_id\": \"p_787383\", \"route_id\": \"19739\", \"service_hours\": 2.18, \"trip_first_departure_ts\": 18900, \"trip_last_arrival_ts\": 26760, \"departure_hour\": 5, \"time_of_day\": \"Owl Service\", \"p25\": 2.18, \"p50\": 2.18, \"p75\": 2.18, \"p50_trip\": 1, \"fastest_trip\": 1, \"car_duration_hours\": 1.85, \"competitive_route\": 1, \"bus_multiplier\": 1.18, \"bus_difference\": 19.8, \"num_trips\": 1, \"num_competitive\": 1, \"pct_trips_competitive\": 1.0, \"bus_difference_spread\": 0.0, \"route_group\": \"long\", \"max_trip_hrs\": 2.18, \"max_trip_route_group\": 2.18, \"below_cutoff\": 1, \"pct_below_cutoff\": 1.0, \"calitp_agency_name\": \"Victor Valley Transit\", \"caltrans_district\": \"08 - San Bernardino\", \"route_name\": \"Hesperia/Victorville To Ntc\", \"route_short_name\": \"107A\", \"route_id2\": \"107A\", \"cutoff2\": 40, \"cutoff\": 0}, {\"calitp_itp_id\": 360, \"trip_key\": 5062130849368922554, \"trip_id\": \"t_1969662_b_33469_tn_0\", \"shape_id\": \"p_7110\", \"route_id\": \"19744\", \"service_hours\": 2.23, \"trip_first_departure_ts\": 56700, \"trip_last_arrival_ts\": 64740, \"departure_hour\": 15, \"time_of_day\": \"Midday\", \"p25\": 2.23, \"p50\": 2.23, \"p75\": 2.23, \"p50_trip\": 1, \"fastest_trip\": 1, \"car_duration_hours\": 1.77, \"competitive_route\": 1, \"bus_multiplier\": 1.26, \"bus_difference\": 27.6, \"num_trips\": 1, \"num_competitive\": 1, \"pct_trips_competitive\": 1.0, \"bus_difference_spread\": 0.0, \"route_group\": \"long\", \"max_trip_hrs\": 2.23, \"max_trip_route_group\": 2.23, \"below_cutoff\": 1, \"pct_below_cutoff\": 1.0, \"calitp_agency_name\": \"Victor Valley Transit\", \"caltrans_district\": \"08 - San Bernardino\", \"route_name\": \"Ntc To Victorville/Hesperia\", \"route_short_name\": \"102B\", \"route_id2\": \"102B\", \"cutoff2\": 40, \"cutoff\": 0}, {\"calitp_itp_id\": 360, \"trip_key\": -2363431273908436313, \"trip_id\": \"t_1969649_b_33469_tn_0\", \"shape_id\": \"p_786922\", \"route_id\": \"19745\", \"service_hours\": 2.2, \"trip_first_departure_ts\": 58500, \"trip_last_arrival_ts\": 66420, \"departure_hour\": 16, \"time_of_day\": \"Midday\", \"p25\": 2.2, \"p50\": 2.2, \"p75\": 2.2, \"p50_trip\": 1, \"fastest_trip\": 1, \"car_duration_hours\": 1.76, \"competitive_route\": 1, \"bus_multiplier\": 1.25, \"bus_difference\": 26.4, \"num_trips\": 1, \"num_competitive\": 1, \"pct_trips_competitive\": 1.0, \"bus_difference_spread\": 0.0, \"route_group\": \"long\", \"max_trip_hrs\": 2.2, \"max_trip_route_group\": 2.2, \"below_cutoff\": 1, \"pct_below_cutoff\": 1.0, \"calitp_agency_name\": \"Victor Valley Transit\", \"caltrans_district\": \"08 - San Bernardino\", \"route_name\": \"Ntc To Victorville/Hesperia\", \"route_short_name\": \"103B\", \"route_id2\": \"103B\", \"cutoff2\": 40, \"cutoff\": 0}, {\"calitp_itp_id\": 360, \"trip_key\": -8099416221705448183, \"trip_id\": \"t_1969667_b_33469_tn_0\", \"shape_id\": \"p_787380\", \"route_id\": \"19746\", \"service_hours\": 2.2, \"trip_first_departure_ts\": 60300, \"trip_last_arrival_ts\": 68220, \"departure_hour\": 16, \"time_of_day\": \"Midday\", \"p25\": 2.2, \"p50\": 2.2, \"p75\": 2.2, \"p50_trip\": 1, \"fastest_trip\": 1, \"car_duration_hours\": 1.77, \"competitive_route\": 1, \"bus_multiplier\": 1.24, \"bus_difference\": 25.8, \"num_trips\": 1, \"num_competitive\": 1, \"pct_trips_competitive\": 1.0, \"bus_difference_spread\": 0.0, \"route_group\": \"long\", \"max_trip_hrs\": 2.2, \"max_trip_route_group\": 2.2, \"below_cutoff\": 1, \"pct_below_cutoff\": 1.0, \"calitp_agency_name\": \"Victor Valley Transit\", \"caltrans_district\": \"08 - San Bernardino\", \"route_name\": \"Ntc To Victorville/Hesperia\", \"route_short_name\": \"107B\", \"route_id2\": \"107B\", \"cutoff2\": 40, \"cutoff\": 0}, {\"calitp_itp_id\": 360, \"trip_key\": -990112324361063202, \"trip_id\": \"t_1969666_b_33469_tn_0\", \"shape_id\": \"p_914830\", \"route_id\": \"19747\", \"service_hours\": 2.17, \"trip_first_departure_ts\": 65400, \"trip_last_arrival_ts\": 73200, \"departure_hour\": 18, \"time_of_day\": \"PM Peak\", \"p25\": 2.17, \"p50\": 2.17, \"p75\": 2.17, \"p50_trip\": 1, \"fastest_trip\": 1, \"car_duration_hours\": 1.77, \"competitive_route\": 1, \"bus_multiplier\": 1.23, \"bus_difference\": 24.0, \"num_trips\": 1, \"num_competitive\": 1, \"pct_trips_competitive\": 1.0, \"bus_difference_spread\": 0.0, \"route_group\": \"long\", \"max_trip_hrs\": 2.17, \"max_trip_route_group\": 2.17, \"below_cutoff\": 1, \"pct_below_cutoff\": 1.0, \"calitp_agency_name\": \"Victor Valley Transit\", \"caltrans_district\": \"08 - San Bernardino\", \"route_name\": \"Ntc To Victorville/Hesperia\", \"route_short_name\": \"108B\", \"route_id2\": \"108B\", \"cutoff2\": 40, \"cutoff\": 0}]}}, {\"mode\": \"vega-lite\"});\n",
       "</script>"
      ],
      "text/plain": [
       "alt.FacetChart(...)"
      ]
     },
     "metadata": {},
     "output_type": "display_data"
    },
    {
     "data": {
      "text/html": [
       "<h4>Route Stats</h4>"
      ],
      "text/plain": [
       "<IPython.core.display.HTML object>"
      ]
     },
     "metadata": {},
     "output_type": "display_data"
    },
    {
     "data": {
      "text/html": [
       "<style type=\"text/css\">\n",
       "#T_36f96 th {\n",
       "  text-align: center;\n",
       "}\n",
       "#T_36f96_row0_col0, #T_36f96_row0_col1, #T_36f96_row1_col0, #T_36f96_row1_col1, #T_36f96_row2_col0, #T_36f96_row2_col1, #T_36f96_row3_col0, #T_36f96_row3_col1, #T_36f96_row4_col0, #T_36f96_row4_col1, #T_36f96_row5_col0, #T_36f96_row5_col1 {\n",
       "  text-align: left;\n",
       "}\n",
       "#T_36f96_row0_col2, #T_36f96_row0_col3, #T_36f96_row0_col5, #T_36f96_row1_col2, #T_36f96_row1_col3, #T_36f96_row1_col5, #T_36f96_row2_col2, #T_36f96_row2_col3, #T_36f96_row2_col5, #T_36f96_row3_col2, #T_36f96_row3_col3, #T_36f96_row3_col5, #T_36f96_row4_col2, #T_36f96_row4_col3, #T_36f96_row4_col5, #T_36f96_row5_col2, #T_36f96_row5_col3, #T_36f96_row5_col5 {\n",
       "  text-align: center;\n",
       "}\n",
       "</style>\n",
       "<table id=\"T_36f96\">\n",
       "  <thead>\n",
       "    <tr>\n",
       "      <th id=\"T_36f96_level0_col0\" class=\"col_heading level0 col0\" >Route ID</th>\n",
       "      <th id=\"T_36f96_level0_col1\" class=\"col_heading level0 col1\" >Route Name</th>\n",
       "      <th id=\"T_36f96_level0_col2\" class=\"col_heading level0 col2\" ># trips</th>\n",
       "      <th id=\"T_36f96_level0_col3\" class=\"col_heading level0 col3\" >Daily Avg Freq (trips per hr)</th>\n",
       "      <th id=\"T_36f96_level0_col4\" class=\"col_heading level0 col4\" >25th, 50th, 75th ptile (hrs)</th>\n",
       "      <th id=\"T_36f96_level0_col5\" class=\"col_heading level0 col5\" >PM Peak Avg Freq (trips per hr)</th>\n",
       "    </tr>\n",
       "  </thead>\n",
       "  <tbody>\n",
       "    <tr>\n",
       "      <td id=\"T_36f96_row0_col0\" class=\"data row0 col0\" >102B</td>\n",
       "      <td id=\"T_36f96_row0_col1\" class=\"data row0 col1\" >Ntc To Victorville/Hesperia</td>\n",
       "      <td id=\"T_36f96_row0_col2\" class=\"data row0 col2\" >1</td>\n",
       "      <td id=\"T_36f96_row0_col3\" class=\"data row0 col3\" >0.04</td>\n",
       "      <td id=\"T_36f96_row0_col4\" class=\"data row0 col4\" >2.23, 2.23, 2.23</td>\n",
       "      <td id=\"T_36f96_row0_col5\" class=\"data row0 col5\" >nan</td>\n",
       "    </tr>\n",
       "    <tr>\n",
       "      <td id=\"T_36f96_row1_col0\" class=\"data row1 col0\" >103B</td>\n",
       "      <td id=\"T_36f96_row1_col1\" class=\"data row1 col1\" >Ntc To Victorville/Hesperia</td>\n",
       "      <td id=\"T_36f96_row1_col2\" class=\"data row1 col2\" >1</td>\n",
       "      <td id=\"T_36f96_row1_col3\" class=\"data row1 col3\" >0.04</td>\n",
       "      <td id=\"T_36f96_row1_col4\" class=\"data row1 col4\" >2.2, 2.2, 2.2</td>\n",
       "      <td id=\"T_36f96_row1_col5\" class=\"data row1 col5\" >nan</td>\n",
       "    </tr>\n",
       "    <tr>\n",
       "      <td id=\"T_36f96_row2_col0\" class=\"data row2 col0\" >104A</td>\n",
       "      <td id=\"T_36f96_row2_col1\" class=\"data row2 col1\" >Hesperia/Victorville To Ntc</td>\n",
       "      <td id=\"T_36f96_row2_col2\" class=\"data row2 col2\" >1</td>\n",
       "      <td id=\"T_36f96_row2_col3\" class=\"data row2 col3\" >0.04</td>\n",
       "      <td id=\"T_36f96_row2_col4\" class=\"data row2 col4\" >2.18, 2.18, 2.18</td>\n",
       "      <td id=\"T_36f96_row2_col5\" class=\"data row2 col5\" >nan</td>\n",
       "    </tr>\n",
       "    <tr>\n",
       "      <td id=\"T_36f96_row3_col0\" class=\"data row3 col0\" >107A</td>\n",
       "      <td id=\"T_36f96_row3_col1\" class=\"data row3 col1\" >Hesperia/Victorville To Ntc</td>\n",
       "      <td id=\"T_36f96_row3_col2\" class=\"data row3 col2\" >1</td>\n",
       "      <td id=\"T_36f96_row3_col3\" class=\"data row3 col3\" >0.04</td>\n",
       "      <td id=\"T_36f96_row3_col4\" class=\"data row3 col4\" >2.18, 2.18, 2.18</td>\n",
       "      <td id=\"T_36f96_row3_col5\" class=\"data row3 col5\" >nan</td>\n",
       "    </tr>\n",
       "    <tr>\n",
       "      <td id=\"T_36f96_row4_col0\" class=\"data row4 col0\" >107B</td>\n",
       "      <td id=\"T_36f96_row4_col1\" class=\"data row4 col1\" >Ntc To Victorville/Hesperia</td>\n",
       "      <td id=\"T_36f96_row4_col2\" class=\"data row4 col2\" >1</td>\n",
       "      <td id=\"T_36f96_row4_col3\" class=\"data row4 col3\" >0.04</td>\n",
       "      <td id=\"T_36f96_row4_col4\" class=\"data row4 col4\" >2.2, 2.2, 2.2</td>\n",
       "      <td id=\"T_36f96_row4_col5\" class=\"data row4 col5\" >nan</td>\n",
       "    </tr>\n",
       "    <tr>\n",
       "      <td id=\"T_36f96_row5_col0\" class=\"data row5 col0\" >108B</td>\n",
       "      <td id=\"T_36f96_row5_col1\" class=\"data row5 col1\" >Ntc To Victorville/Hesperia</td>\n",
       "      <td id=\"T_36f96_row5_col2\" class=\"data row5 col2\" >1</td>\n",
       "      <td id=\"T_36f96_row5_col3\" class=\"data row5 col3\" >0.04</td>\n",
       "      <td id=\"T_36f96_row5_col4\" class=\"data row5 col4\" >2.17, 2.17, 2.17</td>\n",
       "      <td id=\"T_36f96_row5_col5\" class=\"data row5 col5\" >0.33</td>\n",
       "    </tr>\n",
       "  </tbody>\n",
       "</table>\n"
      ],
      "text/plain": [
       "<IPython.core.display.HTML object>"
      ]
     },
     "metadata": {},
     "output_type": "display_data"
    }
   ],
   "source": [
    "route_group = \"long\"\n",
    "display_charts_for_route_group(df, route_group)"
   ]
  },
  {
   "cell_type": "markdown",
   "id": "ace75b5f-0442-4fbe-aebd-6c3a13ae13a7",
   "metadata": {
    "papermill": {
     "duration": 0.019091,
     "end_time": "2022-06-03T22:11:09.608472",
     "exception": false,
     "start_time": "2022-06-03T22:11:09.589381",
     "status": "completed"
    },
    "tags": []
   },
   "source": [
    "### GTFS Real-Time Speedmaps"
   ]
  },
  {
   "cell_type": "code",
   "execution_count": 17,
   "id": "a0a114a1-e975-4027-9daf-50029f5ef59f",
   "metadata": {
    "execution": {
     "iopub.execute_input": "2022-06-03T22:11:09.649342Z",
     "iopub.status.busy": "2022-06-03T22:11:09.648686Z",
     "iopub.status.idle": "2022-06-03T22:11:09.672202Z",
     "shell.execute_reply": "2022-06-03T22:11:09.671177Z"
    },
    "jupyter": {
     "source_hidden": true
    },
    "papermill": {
     "duration": 0.047859,
     "end_time": "2022-06-03T22:11:09.674282",
     "exception": false,
     "start_time": "2022-06-03T22:11:09.626423",
     "status": "completed"
    },
    "tags": [
     "remove_input"
    ]
   },
   "outputs": [
    {
     "data": {
      "text/html": [
       "No GTFS RT data available."
      ],
      "text/plain": [
       "<IPython.core.display.HTML object>"
      ]
     },
     "metadata": {},
     "output_type": "display_data"
    }
   ],
   "source": [
    "RT_SITE_YAML = \"../portfolio/sites/rt.yml\"\n",
    "\n",
    "# Grab list of ITP IDs with GTFS RT speedmaps\n",
    "rt_itp_id = deploy_portfolio_yaml.check_if_rt_data_available(RT_SITE_YAML)\n",
    "\n",
    "# Construct the URL \n",
    "RT_URL = (\"https://analysis.calitp.org/rt/\"\n",
    "          f\"district_{district_number}-{district_name}/\"\n",
    "          f\"speedmaps__itp_id_{itp_id}.html\"\n",
    "         ) \n",
    "\n",
    "# If this ITP ID is found in RT analysis, give URL to that operator in analysis.calitp.org\n",
    "if itp_id in rt_itp_id:\n",
    "    display(HTML(f'''<a href={RT_URL}>GTFS RT speedmaps here.</a>'''))\n",
    "\n",
    "else:\n",
    "    display(HTML(\"No GTFS RT data available.\"))"
   ]
  },
  {
   "cell_type": "code",
   "execution_count": null,
   "id": "5b680565-2230-4f2e-817c-718fad48d64c",
   "metadata": {
    "jupyter": {
     "source_hidden": true
    },
    "papermill": {
     "duration": 0.01957,
     "end_time": "2022-06-03T22:11:09.713450",
     "exception": false,
     "start_time": "2022-06-03T22:11:09.693880",
     "status": "completed"
    },
    "tags": [
     "remove_input"
    ]
   },
   "outputs": [],
   "source": []
  }
 ],
 "metadata": {
  "kernelspec": {
   "display_name": "Python 3 (ipykernel)",
   "language": "python",
   "name": "python3"
  },
  "language_info": {
   "codemirror_mode": {
    "name": "ipython",
    "version": 3
   },
   "file_extension": ".py",
   "mimetype": "text/x-python",
   "name": "python",
   "nbconvert_exporter": "python",
   "pygments_lexer": "ipython3",
   "version": "3.9.12"
  },
  "papermill": {
   "default_parameters": {},
   "duration": 25.687409,
   "end_time": "2022-06-03T22:11:11.064385",
   "environment_variables": {},
   "exception": null,
   "input_path": "bus_service_increase/competitive-parallel-routes.ipynb",
   "output_path": "portfolio/parallel_corridors/district_08-san-bernardino/1__competitive-parallel-routes__district_08-san-bernardino__itp_id_360.ipynb",
   "parameters": {
    "district": "08 - San Bernardino",
    "itp_id": 360
   },
   "start_time": "2022-06-03T22:10:45.376976",
   "version": "2.3.4"
  }
 },
 "nbformat": 4,
 "nbformat_minor": 5
}