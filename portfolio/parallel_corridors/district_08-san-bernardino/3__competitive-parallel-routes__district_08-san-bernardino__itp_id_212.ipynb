{
 "cells": [
  {
   "cell_type": "code",
   "execution_count": 1,
   "id": "95d00857-6a20-4529-a519-2cc7182928a9",
   "metadata": {
    "execution": {
     "iopub.execute_input": "2022-05-12T19:46:27.375523Z",
     "iopub.status.busy": "2022-05-12T19:46:27.374940Z",
     "iopub.status.idle": "2022-05-12T19:46:47.997044Z",
     "shell.execute_reply": "2022-05-12T19:46:47.996362Z"
    },
    "jupyter": {
     "source_hidden": true
    },
    "papermill": {
     "duration": 20.642848,
     "end_time": "2022-05-12T19:46:47.999331",
     "exception": false,
     "start_time": "2022-05-12T19:46:27.356483",
     "status": "completed"
    },
    "tags": [
     "remove_input"
    ]
   },
   "outputs": [],
   "source": [
    "%%capture\n",
    "import warnings\n",
    "warnings.filterwarnings('ignore')\n",
    "\n",
    "import altair as alt\n",
    "import calitp.magics\n",
    "import geopandas as gpd\n",
    "import intake\n",
    "import pandas as pd\n",
    "\n",
    "from IPython.display import display, Markdown, HTML\n",
    "\n",
    "import parallel_corridors_utils\n",
    "import deploy_portfolio_yaml\n",
    "from shared_utils import styleguide, geography_utils\n",
    "from make_stripplot_data import diff_cutoffs\n",
    "\n",
    "catalog = intake.open_catalog(\"./*.yml\")\n",
    "alt.renderers.enable(\"html\")"
   ]
  },
  {
   "cell_type": "code",
   "execution_count": 2,
   "id": "8af2a0c1-f3da-408d-9bea-11d9fbf8695d",
   "metadata": {
    "execution": {
     "iopub.execute_input": "2022-05-12T19:46:48.025713Z",
     "iopub.status.busy": "2022-05-12T19:46:48.025215Z",
     "iopub.status.idle": "2022-05-12T19:46:48.028988Z",
     "shell.execute_reply": "2022-05-12T19:46:48.028507Z"
    },
    "jupyter": {
     "source_hidden": true
    },
    "papermill": {
     "duration": 0.019116,
     "end_time": "2022-05-12T19:46:48.030612",
     "exception": false,
     "start_time": "2022-05-12T19:46:48.011496",
     "status": "completed"
    },
    "tags": [
     "parameters",
     "remove_input"
    ]
   },
   "outputs": [],
   "source": [
    "# parameters cell\n",
    "itp_id = 182"
   ]
  },
  {
   "cell_type": "code",
   "execution_count": 3,
   "id": "5d8ec03b",
   "metadata": {
    "execution": {
     "iopub.execute_input": "2022-05-12T19:46:48.058442Z",
     "iopub.status.busy": "2022-05-12T19:46:48.057504Z",
     "iopub.status.idle": "2022-05-12T19:46:48.062593Z",
     "shell.execute_reply": "2022-05-12T19:46:48.061658Z"
    },
    "jupyter": {
     "source_hidden": true
    },
    "papermill": {
     "duration": 0.021859,
     "end_time": "2022-05-12T19:46:48.064437",
     "exception": false,
     "start_time": "2022-05-12T19:46:48.042578",
     "status": "completed"
    },
    "tags": [
     "injected-parameters",
     "remove_input"
    ]
   },
   "outputs": [],
   "source": [
    "# Parameters\n",
    "district = \"08 - San Bernardino\"\n",
    "itp_id = 212\n"
   ]
  },
  {
   "cell_type": "code",
   "execution_count": 4,
   "id": "9582aaf4-79ff-412a-b248-8d8d693ebd4f",
   "metadata": {
    "execution": {
     "iopub.execute_input": "2022-05-12T19:46:48.094969Z",
     "iopub.status.busy": "2022-05-12T19:46:48.094300Z",
     "iopub.status.idle": "2022-05-12T19:46:49.566756Z",
     "shell.execute_reply": "2022-05-12T19:46:49.565895Z"
    },
    "jupyter": {
     "source_hidden": true
    },
    "papermill": {
     "duration": 1.492793,
     "end_time": "2022-05-12T19:46:49.569704",
     "exception": false,
     "start_time": "2022-05-12T19:46:48.076911",
     "status": "completed"
    },
    "tags": [
     "remove_input"
    ]
   },
   "outputs": [],
   "source": [
    "df = catalog.competitive_route_variability.read()\n",
    "\n",
    "df = (df[(df.calitp_itp_id == itp_id) & \n",
    "         (df.route_group.notna())]\n",
    "      .rename(columns = {\"route_name_used\": \"route_name\"})\n",
    "      .reset_index(drop=True)\n",
    "     )\n",
    "\n",
    "if itp_id == 182:\n",
    "    df = df.assign(\n",
    "        route_id = df.route_id.str.replace('-13153', '').astype(int)\n",
    "    )"
   ]
  },
  {
   "cell_type": "code",
   "execution_count": 5,
   "id": "33ac4b06-f647-4dce-a625-8f2c1b37cc60",
   "metadata": {
    "execution": {
     "iopub.execute_input": "2022-05-12T19:46:49.613558Z",
     "iopub.status.busy": "2022-05-12T19:46:49.613231Z",
     "iopub.status.idle": "2022-05-12T19:46:49.623635Z",
     "shell.execute_reply": "2022-05-12T19:46:49.622850Z"
    },
    "jupyter": {
     "source_hidden": true
    },
    "papermill": {
     "duration": 0.034624,
     "end_time": "2022-05-12T19:46:49.626306",
     "exception": false,
     "start_time": "2022-05-12T19:46:49.591682",
     "status": "completed"
    },
    "tags": [
     "remove_input"
    ]
   },
   "outputs": [],
   "source": [
    "%%capture_parameters\n",
    "operator_name = df.name.iloc[0]\n",
    "district_number = f\"{df.caltrans_district.iloc[0].split('-')[0].strip()}\"\n",
    "district_name = f\"{df.caltrans_district.iloc[0].split('-')[1].strip().lower().replace(' ', '-')}\"\n",
    "\n",
    "itp_id, operator_name, district_number, district_name"
   ]
  },
  {
   "cell_type": "markdown",
   "id": "65bc6f5c-8348-42ee-b2dd-52057c406852",
   "metadata": {
    "papermill": {
     "duration": 0.013947,
     "end_time": "2022-05-12T19:46:49.661165",
     "exception": false,
     "start_time": "2022-05-12T19:46:49.647218",
     "status": "completed"
    },
    "tags": []
   },
   "source": [
    "# Morongo Band of Mission Indians (ITP ID: 212)"
   ]
  },
  {
   "cell_type": "code",
   "execution_count": 6,
   "id": "a689c1ab-2c6c-4831-8d64-897f5986f571",
   "metadata": {
    "execution": {
     "iopub.execute_input": "2022-05-12T19:46:49.692702Z",
     "iopub.status.busy": "2022-05-12T19:46:49.692346Z",
     "iopub.status.idle": "2022-05-12T19:46:49.698684Z",
     "shell.execute_reply": "2022-05-12T19:46:49.697854Z"
    },
    "jupyter": {
     "source_hidden": true
    },
    "papermill": {
     "duration": 0.026211,
     "end_time": "2022-05-12T19:46:49.701511",
     "exception": false,
     "start_time": "2022-05-12T19:46:49.675300",
     "status": "completed"
    },
    "tags": [
     "remove_input"
    ]
   },
   "outputs": [
    {
     "data": {
      "text/html": [
       "<h1>Competitive & Parallel Routes</h1>"
      ],
      "text/plain": [
       "<IPython.core.display.HTML object>"
      ]
     },
     "metadata": {},
     "output_type": "display_data"
    }
   ],
   "source": [
    "display(HTML(\"<h1>Competitive & Parallel Routes</h1>\")) "
   ]
  },
  {
   "cell_type": "code",
   "execution_count": 7,
   "id": "2cb4d8d5-4760-40e4-85b1-cb833d8bb648",
   "metadata": {
    "execution": {
     "iopub.execute_input": "2022-05-12T19:46:49.729394Z",
     "iopub.status.busy": "2022-05-12T19:46:49.728664Z",
     "iopub.status.idle": "2022-05-12T19:47:01.783740Z",
     "shell.execute_reply": "2022-05-12T19:47:01.783163Z"
    },
    "jupyter": {
     "source_hidden": true
    },
    "papermill": {
     "duration": 12.070975,
     "end_time": "2022-05-12T19:47:01.785848",
     "exception": false,
     "start_time": "2022-05-12T19:46:49.714873",
     "status": "completed"
    },
    "tags": [
     "remove_input"
    ]
   },
   "outputs": [],
   "source": [
    "# Grab parameters for narrative text - clean up formatting here \n",
    "district = df.caltrans_district.iloc[0]\n",
    "formatted_date = pd.to_datetime(parallel_corridors_utils.SELECTED_DATE).strftime('%m-%d-%Y')\n",
    "\n",
    "PCT_COMPETITIVE_THRESHOLD = 0.75\n",
    "PCT_TRIPS_BELOW_CUTOFF = 1.0\n",
    "\n",
    "stats = parallel_corridors_utils.operator_parallel_competitive_stats(\n",
    "    itp_id, PCT_COMPETITIVE_THRESHOLD, PCT_TRIPS_BELOW_CUTOFF)\n",
    "\n",
    "pct_parallel = round(stats['parallel_routes'] / stats['num_routes'] * 100, 1 )\n",
    "pct_competitive =  round(stats['competitive_routes'] / stats['num_routes'] * 100, 1 )\n",
    "pct_viable =  round(stats['viable_competitive_routes'] / stats['num_routes'] * 100, 1 )"
   ]
  },
  {
   "cell_type": "code",
   "execution_count": 8,
   "id": "8bf30c8f-6aa5-47bb-82ae-a906732e81fd",
   "metadata": {
    "execution": {
     "iopub.execute_input": "2022-05-12T19:47:01.815777Z",
     "iopub.status.busy": "2022-05-12T19:47:01.815283Z",
     "iopub.status.idle": "2022-05-12T19:47:01.843324Z",
     "shell.execute_reply": "2022-05-12T19:47:01.842559Z"
    },
    "jupyter": {
     "source_hidden": true
    },
    "papermill": {
     "duration": 0.044712,
     "end_time": "2022-05-12T19:47:01.845343",
     "exception": false,
     "start_time": "2022-05-12T19:47:01.800631",
     "status": "completed"
    },
    "tags": [
     "remove_input"
    ]
   },
   "outputs": [],
   "source": [
    "# Display a table of route-level stats for each route_group\n",
    "# Displaying route_name makes chart too crowded\n",
    "\n",
    "# Get route stats (for entire df)\n",
    "route_stats = parallel_corridors_utils.competitive_route_level_stats(df)\n",
    "    \n",
    "def style_route_stats(df, top15_routes):\n",
    "    df = df[df.route_id.isin(top15_routes)]\n",
    "    \n",
    "    # Rename columns for display\n",
    "    rename_cols = {\n",
    "        \"route_id\": \"Route ID\",\n",
    "        \"route_name\": \"Route Name\",\n",
    "        \"route_group\": \"Route Group\",\n",
    "        \"num_trips\": \"# trips\",\n",
    "        \"daily_avg_freq\": \"Daily Avg Freq (trips per hr)\",\n",
    "        \"pm_peak_freq\": \"PM Peak Avg Freq (trips per hr)\",\n",
    "        \"percentiles\": \"25th, 50th, 75th ptile (hrs)\",\n",
    "    }\n",
    "    \n",
    "    # Style it\n",
    "    drop_cols = [\n",
    "        \"calitp_itp_id\", \"below_cutoff\", \"route_group\", \n",
    "        \"pct_trips_competitive\", \"pct_below_cutoff\",\n",
    "        \"p25\", \"p50\", \"p75\",\n",
    "    ]\n",
    "    \n",
    "    # Change alignment for some columns\n",
    "    # https://stackoverflow.com/questions/59453091/left-align-the-first-column-and-center-align-the-other-columns-in-a-pandas-table\n",
    "    df_style = (df.sort_values(\n",
    "        [\"pct_trips_competitive\", \"below_cutoff\", \n",
    "        \"pct_below_cutoff\", \"route_id\"], \n",
    "        ascending=[False, False, False, True])\n",
    "           .drop(columns = drop_cols)\n",
    "           .rename(columns = rename_cols)\n",
    "           .style.format(\n",
    "               subset=['Daily Avg Freq (trips per hr)', \n",
    "                       'PM Peak Avg Freq (trips per hr)'], \n",
    "               **{'formatter': '{:,.3}'})\n",
    "                .set_properties(subset=['Route ID', 'Route Name'], \n",
    "                                **{'text-align': 'left'})\n",
    "                .set_properties(subset=['# trips', 'Daily Avg Freq (trips per hr)', \n",
    "                                       'PM Peak Avg Freq (trips per hr)'], \n",
    "                               **{'text-align': 'center'})\n",
    "                .set_table_styles([dict(selector='th', \n",
    "                                        props=[('text-align', 'center')])\n",
    "                                        ])\n",
    "           .hide(axis=\"index\")\n",
    "           .to_html()\n",
    "          )\n",
    "    \n",
    "    display(HTML(\"<h4>Route Stats</h4>\"))\n",
    "    display(HTML(df_style))"
   ]
  },
  {
   "cell_type": "markdown",
   "id": "ab667928-5274-4490-82d9-4c39293209a4",
   "metadata": {
    "papermill": {
     "duration": 0.0131,
     "end_time": "2022-05-12T19:47:01.873278",
     "exception": false,
     "start_time": "2022-05-12T19:47:01.860178",
     "status": "completed"
    },
    "tags": []
   },
   "source": [
    "## Quick Stats"
   ]
  },
  {
   "cell_type": "code",
   "execution_count": 9,
   "id": "0416509d-dc62-4165-b62e-64f8b26e8b8e",
   "metadata": {
    "execution": {
     "iopub.execute_input": "2022-05-12T19:47:01.901589Z",
     "iopub.status.busy": "2022-05-12T19:47:01.901039Z",
     "iopub.status.idle": "2022-05-12T19:47:01.907471Z",
     "shell.execute_reply": "2022-05-12T19:47:01.906916Z"
    },
    "jupyter": {
     "source_hidden": true
    },
    "papermill": {
     "duration": 0.023231,
     "end_time": "2022-05-12T19:47:01.909455",
     "exception": false,
     "start_time": "2022-05-12T19:47:01.886224",
     "status": "completed"
    },
    "tags": [
     "remove_input"
    ]
   },
   "outputs": [
    {
     "data": {
      "text/markdown": [
       "**Bus routes in service: 7**<br>**Parallel routes** to State Highway Network (SHN): **6 routes (85.7%)**<br>**Competitive routes** against car travel (within 2x car travel time): **4 routes (57.1%)**<br>**Viable competitive routes** against car travel (within 2x car travel time and within 20, 30, or 40 min cut-off): **2 routes (28.6%)**"
      ],
      "text/plain": [
       "<IPython.core.display.Markdown object>"
      ]
     },
     "metadata": {},
     "output_type": "display_data"
    }
   ],
   "source": [
    "display(\n",
    "    Markdown(\n",
    "        f\"**Bus routes in service: {stats['num_routes']}**\"\n",
    "        \"<br>**Parallel routes** to State Highway Network (SHN): \"\n",
    "        f\"**{stats['parallel_routes']} routes ({pct_parallel}%)**\"\n",
    "        \"<br>**Competitive routes** against car travel (within 2x car travel time): \"\n",
    "        f\"**{stats['competitive_routes']} routes ({pct_competitive}%)**\"\n",
    "        \"<br>**Viable competitive routes** against car travel \"\n",
    "        \"(within 2x car travel time and within 20, 30, or 40 min cut-off): \"\n",
    "        f\"**{stats['viable_competitive_routes']} routes ({pct_viable}%)**\"\n",
    "    )\n",
    ")"
   ]
  },
  {
   "cell_type": "code",
   "execution_count": 10,
   "id": "f9d6ab58-f0ee-460c-b6de-657490e1f386",
   "metadata": {
    "execution": {
     "iopub.execute_input": "2022-05-12T19:47:01.938553Z",
     "iopub.status.busy": "2022-05-12T19:47:01.938018Z",
     "iopub.status.idle": "2022-05-12T19:47:01.944850Z",
     "shell.execute_reply": "2022-05-12T19:47:01.944292Z"
    },
    "jupyter": {
     "source_hidden": true
    },
    "papermill": {
     "duration": 0.023625,
     "end_time": "2022-05-12T19:47:01.946546",
     "exception": false,
     "start_time": "2022-05-12T19:47:01.922921",
     "status": "completed"
    },
    "tags": [
     "remove_input"
    ]
   },
   "outputs": [],
   "source": [
    "def set_yaxis_range(df, y_col):\n",
    "    Y_MIN = df[y_col].min()\n",
    "    Y_MAX = df[y_col].max()\n",
    "    \n",
    "    return Y_MIN, Y_MAX\n",
    "\n",
    "# Rather than set it according to the operator, which can vary,\n",
    "# just use set thresholds for each group\n",
    "def top15_routes(df, route_group):\n",
    "    # grab top 15 routes where majority of trips are below that cut-off \n",
    "    # but show 15 max, otherwise, show less, since these won't be as interesting to operators\n",
    "    df2 = (df[(df.route_group==route_group) &\n",
    "              (df.pct_below_cutoff >= PCT_TRIPS_BELOW_CUTOFF)]\n",
    "           .sort_values([\"calitp_itp_id\", \"below_cutoff\", \n",
    "                         \"pct_below_cutoff\", \"route_id\"],\n",
    "                        ascending = [True, False, False, True]\n",
    "                       )\n",
    "           .drop_duplicates(subset=[\"calitp_itp_id\", \"route_id\"])\n",
    "          ).head(15)\n",
    "    \n",
    "    return list(df2.route_id)"
   ]
  },
  {
   "cell_type": "code",
   "execution_count": 11,
   "id": "cf36d559-3349-4144-8086-8ac9ce937a5a",
   "metadata": {
    "execution": {
     "iopub.execute_input": "2022-05-12T19:47:01.979731Z",
     "iopub.status.busy": "2022-05-12T19:47:01.978802Z",
     "iopub.status.idle": "2022-05-12T19:47:01.991859Z",
     "shell.execute_reply": "2022-05-12T19:47:01.991118Z"
    },
    "jupyter": {
     "source_hidden": true
    },
    "papermill": {
     "duration": 0.029488,
     "end_time": "2022-05-12T19:47:01.993637",
     "exception": false,
     "start_time": "2022-05-12T19:47:01.964149",
     "status": "completed"
    },
    "tags": [
     "remove_input"
    ]
   },
   "outputs": [],
   "source": [
    "def caption_with_cutoff(cutoff):\n",
    "    sentence = (\n",
    "        f\"<br>These are routes that have **{int(PCT_TRIPS_BELOW_CUTOFF*100)}% \"\n",
    "        \"of their trips take no more than an \"\n",
    "        f\"additional {cutoff} min** compared to a car \"\n",
    "        \"(up to 15 routes) are shown.\"\n",
    "        \"<br>Within each route group, routes are sorted in descending order \"\n",
    "        \"by % competitive trips and # trips below the additional time cut-off.\"\n",
    "    )\n",
    "    return sentence\n",
    "\n",
    "CAPTIONS_DICT = {\n",
    "    \"short\": caption_with_cutoff(diff_cutoffs['short']),\n",
    "    \"medium\": caption_with_cutoff(diff_cutoffs['medium']),\n",
    "    \"long\": caption_with_cutoff(diff_cutoffs['long']),\n",
    "}"
   ]
  },
  {
   "cell_type": "code",
   "execution_count": 12,
   "id": "e4306d58-6944-47e9-afef-5d5b524c751f",
   "metadata": {
    "execution": {
     "iopub.execute_input": "2022-05-12T19:47:02.026541Z",
     "iopub.status.busy": "2022-05-12T19:47:02.025637Z",
     "iopub.status.idle": "2022-05-12T19:47:02.032841Z",
     "shell.execute_reply": "2022-05-12T19:47:02.032291Z"
    },
    "jupyter": {
     "source_hidden": true
    },
    "papermill": {
     "duration": 0.026499,
     "end_time": "2022-05-12T19:47:02.034558",
     "exception": false,
     "start_time": "2022-05-12T19:47:02.008059",
     "status": "completed"
    },
    "tags": [
     "remove_input"
    ]
   },
   "outputs": [],
   "source": [
    "def setup_charts(df, PCT_COMPETITIVE_THRESHOLD, route_group):\n",
    "    # Set up df for charting (cut-off at some threshold to show most competitive routes)\n",
    "    plot_me = (df[df.pct_trips_competitive > PCT_COMPETITIVE_THRESHOLD]\n",
    "           .drop(columns = \"geometry\")\n",
    "    )\n",
    "    \n",
    "    # Set y-ranges to be the same across route_groups, \n",
    "    # otherwise charts fluctuate too much, even within operator\n",
    "    y_col1 = \"bus_multiplier\"\n",
    "    Y_MIN1, Y_MAX1 = set_yaxis_range(plot_me, y_col1)\n",
    "\n",
    "    y_col2 = \"bus_difference\"\n",
    "    Y_MIN2, Y_MAX2 = set_yaxis_range(plot_me, y_col2)\n",
    "    \n",
    "    # Grab the routes to plot\n",
    "    subset_routes = top15_routes(plot_me, route_group)\n",
    "        \n",
    "    # Display charts\n",
    "    multiplier_chart = parallel_corridors_utils.make_stripplot(\n",
    "        plot_me[plot_me.route_id.isin(subset_routes)], \n",
    "        y_col1, Y_MIN = Y_MIN1, Y_MAX = Y_MAX1\n",
    "    )\n",
    "    \n",
    "    difference_chart = parallel_corridors_utils.make_stripplot(\n",
    "        plot_me[plot_me.route_id.isin(subset_routes)], \n",
    "        y_col2, Y_MIN = Y_MIN2, Y_MAX = Y_MAX2\n",
    "    )\n",
    "    \n",
    "    return subset_routes, multiplier_chart, difference_chart            "
   ]
  },
  {
   "cell_type": "code",
   "execution_count": 13,
   "id": "33a710e8-504c-4942-aa75-ff69f216956e",
   "metadata": {
    "execution": {
     "iopub.execute_input": "2022-05-12T19:47:02.064999Z",
     "iopub.status.busy": "2022-05-12T19:47:02.064105Z",
     "iopub.status.idle": "2022-05-12T19:47:02.069559Z",
     "shell.execute_reply": "2022-05-12T19:47:02.069059Z"
    },
    "jupyter": {
     "source_hidden": true
    },
    "papermill": {
     "duration": 0.023083,
     "end_time": "2022-05-12T19:47:02.071453",
     "exception": false,
     "start_time": "2022-05-12T19:47:02.048370",
     "status": "completed"
    },
    "tags": [
     "remove_input"
    ]
   },
   "outputs": [],
   "source": [
    "def display_charts_for_route_group(df, route_group):    \n",
    "    subset_routes, mult, diff  = setup_charts(df, PCT_COMPETITIVE_THRESHOLD, route_group)\n",
    "\n",
    "    if len(subset_routes) > 0:\n",
    "        display(Markdown(f\"{CAPTIONS_DICT[route_group]}\"))\n",
    "\n",
    "        display(mult)\n",
    "        display(diff)\n",
    "        \n",
    "        # Display route stats for just plotted routes\n",
    "        style_route_stats(route_stats, subset_routes)"
   ]
  },
  {
   "cell_type": "markdown",
   "id": "525f9b38-072b-46d1-96a8-1aa4b038357c",
   "metadata": {
    "papermill": {
     "duration": 0.01699,
     "end_time": "2022-05-12T19:47:02.110403",
     "exception": false,
     "start_time": "2022-05-12T19:47:02.093413",
     "status": "completed"
    },
    "tags": []
   },
   "source": [
    "## Viable Competitive Routes\n",
    "### Short Routes (< 1 hr)"
   ]
  },
  {
   "cell_type": "code",
   "execution_count": 14,
   "id": "57f7084c-2cf7-45c6-ba08-1609e0bd6ca5",
   "metadata": {
    "execution": {
     "iopub.execute_input": "2022-05-12T19:47:02.139555Z",
     "iopub.status.busy": "2022-05-12T19:47:02.138654Z",
     "iopub.status.idle": "2022-05-12T19:47:02.438333Z",
     "shell.execute_reply": "2022-05-12T19:47:02.437536Z"
    },
    "jupyter": {
     "source_hidden": true
    },
    "papermill": {
     "duration": 0.316931,
     "end_time": "2022-05-12T19:47:02.440823",
     "exception": false,
     "start_time": "2022-05-12T19:47:02.123892",
     "status": "completed"
    },
    "tags": [
     "remove_input"
    ]
   },
   "outputs": [
    {
     "data": {
      "text/markdown": [
       "<br>These are routes that have **100% of their trips take no more than an additional 20 min** compared to a car (up to 15 routes) are shown.<br>Within each route group, routes are sorted in descending order by % competitive trips and # trips below the additional time cut-off."
      ],
      "text/plain": [
       "<IPython.core.display.Markdown object>"
      ]
     },
     "metadata": {},
     "output_type": "display_data"
    },
    {
     "data": {
      "text/html": [
       "\n",
       "<div id=\"altair-viz-9b288ee289d04167bdfb100e9f9e97e9\"></div>\n",
       "<script type=\"text/javascript\">\n",
       "  var VEGA_DEBUG = (typeof VEGA_DEBUG == \"undefined\") ? {} : VEGA_DEBUG;\n",
       "  (function(spec, embedOpt){\n",
       "    let outputDiv = document.currentScript.previousElementSibling;\n",
       "    if (outputDiv.id !== \"altair-viz-9b288ee289d04167bdfb100e9f9e97e9\") {\n",
       "      outputDiv = document.getElementById(\"altair-viz-9b288ee289d04167bdfb100e9f9e97e9\");\n",
       "    }\n",
       "    const paths = {\n",
       "      \"vega\": \"https://cdn.jsdelivr.net/npm//vega@5?noext\",\n",
       "      \"vega-lib\": \"https://cdn.jsdelivr.net/npm//vega-lib?noext\",\n",
       "      \"vega-lite\": \"https://cdn.jsdelivr.net/npm//vega-lite@4.17.0?noext\",\n",
       "      \"vega-embed\": \"https://cdn.jsdelivr.net/npm//vega-embed@6?noext\",\n",
       "    };\n",
       "\n",
       "    function maybeLoadScript(lib, version) {\n",
       "      var key = `${lib.replace(\"-\", \"\")}_version`;\n",
       "      return (VEGA_DEBUG[key] == version) ?\n",
       "        Promise.resolve(paths[lib]) :\n",
       "        new Promise(function(resolve, reject) {\n",
       "          var s = document.createElement('script');\n",
       "          document.getElementsByTagName(\"head\")[0].appendChild(s);\n",
       "          s.async = true;\n",
       "          s.onload = () => {\n",
       "            VEGA_DEBUG[key] = version;\n",
       "            return resolve(paths[lib]);\n",
       "          };\n",
       "          s.onerror = () => reject(`Error loading script: ${paths[lib]}`);\n",
       "          s.src = paths[lib];\n",
       "        });\n",
       "    }\n",
       "\n",
       "    function showError(err) {\n",
       "      outputDiv.innerHTML = `<div class=\"error\" style=\"color:red;\">${err}</div>`;\n",
       "      throw err;\n",
       "    }\n",
       "\n",
       "    function displayChart(vegaEmbed) {\n",
       "      vegaEmbed(outputDiv, spec, embedOpt)\n",
       "        .catch(err => showError(`Javascript Error: ${err.message}<br>This usually means there's a typo in your chart specification. See the javascript console for the full traceback.`));\n",
       "    }\n",
       "\n",
       "    if(typeof define === \"function\" && define.amd) {\n",
       "      requirejs.config({paths});\n",
       "      require([\"vega-embed\"], displayChart, err => showError(`Error loading script: ${err.message}`));\n",
       "    } else {\n",
       "      maybeLoadScript(\"vega\", \"5\")\n",
       "        .then(() => maybeLoadScript(\"vega-lite\", \"4.17.0\"))\n",
       "        .then(() => maybeLoadScript(\"vega-embed\", \"6\"))\n",
       "        .catch(showError)\n",
       "        .then(() => displayChart(vegaEmbed));\n",
       "    }\n",
       "  })({\"config\": {\"view\": {\"continuousWidth\": 400, \"continuousHeight\": 300, \"stroke\": null}, \"facet\": {\"spacing\": 0}}, \"data\": {\"name\": \"data-f8f5d4afa53965367c0d1430c42bbf49\"}, \"facet\": {\"column\": {\"field\": \"route_id\", \"sort\": [\"347\"], \"title\": \"Route ID\", \"type\": \"nominal\"}}, \"spec\": {\"layer\": [{\"mark\": \"rule\", \"encoding\": {\"color\": {\"value\": \"black\"}, \"y\": {\"field\": \"cutoff\", \"type\": \"quantitative\"}}, \"selection\": {\"selector001\": {\"type\": \"interval\", \"bind\": \"scales\", \"encodings\": [\"x\", \"y\"]}}}, {\"mark\": {\"type\": \"point\", \"opacity\": 0.65, \"size\": 12, \"strokeWidth\": 1.1}, \"encoding\": {\"color\": {\"field\": \"time_of_day\", \"scale\": {\"range\": [\"#136C97\", \"#E16B26\", \"#F6BF16\", \"#00896B\", \"#7790A3\", \"#5B559C\"]}, \"sort\": [\"AM Peak\", \"Midday\", \"PM Peak\", \"Owl Service\"], \"title\": \"Time of Day\", \"type\": \"nominal\"}, \"tooltip\": [{\"field\": \"route_id\", \"type\": \"nominal\"}, {\"field\": \"route_name\", \"type\": \"nominal\"}, {\"field\": \"trip_id\", \"type\": \"nominal\"}, {\"field\": \"service_hours\", \"type\": \"quantitative\"}, {\"field\": \"car_duration_hours\", \"type\": \"quantitative\"}, {\"field\": \"bus_multiplier\", \"type\": \"quantitative\"}, {\"field\": \"bus_difference\", \"type\": \"quantitative\"}, {\"field\": \"num_trips\", \"type\": \"quantitative\"}, {\"field\": \"num_competitive\", \"type\": \"quantitative\"}, {\"field\": \"pct_trips_competitive\", \"type\": \"quantitative\"}, {\"field\": \"pct_below_cutoff\", \"type\": \"quantitative\"}, {\"field\": \"p25\", \"type\": \"quantitative\"}, {\"field\": \"p50\", \"type\": \"quantitative\"}, {\"field\": \"p75\", \"type\": \"quantitative\"}], \"x\": {\"axis\": {\"grid\": false, \"labels\": false, \"ticks\": true, \"values\": [0]}, \"field\": \"jitter\", \"scale\": {}, \"title\": null, \"type\": \"quantitative\"}, \"y\": {\"field\": \"bus_multiplier\", \"scale\": {\"domain\": [0, 3.0]}, \"title\": \"Ratio of Bus to Car Travel Time\", \"type\": \"quantitative\"}}, \"transform\": [{\"calculate\": \"sqrt(-2*log(random()))*cos(2*PI*random())\", \"as\": \"jitter\"}], \"width\": 50}, {\"layer\": [{\"mark\": {\"type\": \"point\", \"opacity\": 0.6, \"size\": 20, \"strokeWidth\": 1.3}, \"encoding\": {\"color\": {\"value\": \"#323434\"}, \"y\": {\"field\": \"bus_multiplier\", \"type\": \"quantitative\"}}, \"transform\": [{\"filter\": \"(datum.p50_trip === 1)\"}]}, {\"mark\": {\"type\": \"text\", \"align\": \"center\", \"baseline\": \"middle\"}, \"encoding\": {\"color\": {\"value\": \"black\"}, \"text\": {\"field\": \"pct_trips_competitive\", \"format\": \".0%\", \"type\": \"quantitative\"}, \"tooltip\": [{\"field\": \"route_id\", \"type\": \"nominal\"}, {\"field\": \"route_name\", \"type\": \"nominal\"}, {\"field\": \"trip_id\", \"type\": \"nominal\"}, {\"field\": \"service_hours\", \"type\": \"quantitative\"}, {\"field\": \"car_duration_hours\", \"type\": \"quantitative\"}, {\"field\": \"bus_multiplier\", \"type\": \"quantitative\"}, {\"field\": \"bus_difference\", \"type\": \"quantitative\"}, {\"field\": \"num_trips\", \"type\": \"quantitative\"}, {\"field\": \"num_competitive\", \"type\": \"quantitative\"}, {\"field\": \"pct_trips_competitive\", \"type\": \"quantitative\"}, {\"field\": \"pct_below_cutoff\", \"type\": \"quantitative\"}, {\"field\": \"p25\", \"type\": \"quantitative\"}, {\"field\": \"p50\", \"type\": \"quantitative\"}, {\"field\": \"p75\", \"type\": \"quantitative\"}], \"x\": {\"value\": 30}, \"y\": {\"value\": 15}}, \"transform\": [{\"calculate\": \"sqrt(-2*log(random()))*cos(2*PI*random())\", \"as\": \"jitter\"}, {\"filter\": \"(datum.fastest_trip === 1)\"}]}]}]}, \"resolve\": {\"scale\": {\"y\": \"shared\"}}, \"title\": \"Ratio of Bus to Car Travel Time\", \"$schema\": \"https://vega.github.io/schema/vega-lite/v4.17.0.json\", \"datasets\": {\"data-f8f5d4afa53965367c0d1430c42bbf49\": [{\"calitp_itp_id\": 212, \"trip_key\": -50751044547860722, \"trip_id\": \"t_869617_b_489_tn_0\", \"shape_id\": \"p_273\", \"route_id\": \"347\", \"service_hours\": 0.83, \"trip_first_departure_ts\": 25200, \"trip_last_arrival_ts\": 28200, \"departure_hour\": 7, \"time_of_day\": \"AM Peak\", \"p25\": 0.83, \"p50\": 0.83, \"p75\": 0.83, \"p50_trip\": 1, \"fastest_trip\": 0, \"car_duration_hours\": 0.54, \"competitive_route\": 1, \"bus_multiplier\": 1.54, \"bus_difference\": 17.4, \"num_trips\": 11, \"num_competitive\": 11, \"pct_trips_competitive\": 1.0, \"bus_difference_spread\": 0.0, \"route_group\": \"short\", \"max_trip_hrs\": 0.83, \"max_trip_route_group\": 0.83, \"below_cutoff\": 11, \"pct_below_cutoff\": 1.0, \"name\": \"Morongo Band of Mission Indians\", \"caltrans_district\": \"08 - San Bernardino\", \"drmt_organization_name\": null, \"route_name\": \"34\", \"cutoff2\": 20, \"cutoff\": 2}, {\"calitp_itp_id\": 212, \"trip_key\": 6565985030843497917, \"trip_id\": \"t_869626_b_489_tn_0\", \"shape_id\": \"p_273\", \"route_id\": \"347\", \"service_hours\": 0.83, \"trip_first_departure_ts\": 57600, \"trip_last_arrival_ts\": 60600, \"departure_hour\": 16, \"time_of_day\": \"Midday\", \"p25\": 0.83, \"p50\": 0.83, \"p75\": 0.83, \"p50_trip\": 1, \"fastest_trip\": 0, \"car_duration_hours\": 0.54, \"competitive_route\": 1, \"bus_multiplier\": 1.54, \"bus_difference\": 17.4, \"num_trips\": 11, \"num_competitive\": 11, \"pct_trips_competitive\": 1.0, \"bus_difference_spread\": 0.0, \"route_group\": \"short\", \"max_trip_hrs\": 0.83, \"max_trip_route_group\": 0.83, \"below_cutoff\": 11, \"pct_below_cutoff\": 1.0, \"name\": \"Morongo Band of Mission Indians\", \"caltrans_district\": \"08 - San Bernardino\", \"drmt_organization_name\": null, \"route_name\": \"34\", \"cutoff2\": 20, \"cutoff\": 2}, {\"calitp_itp_id\": 212, \"trip_key\": -4816877801510912999, \"trip_id\": \"t_869625_b_489_tn_0\", \"shape_id\": \"p_273\", \"route_id\": \"347\", \"service_hours\": 0.83, \"trip_first_departure_ts\": 54000, \"trip_last_arrival_ts\": 57000, \"departure_hour\": 15, \"time_of_day\": \"Midday\", \"p25\": 0.83, \"p50\": 0.83, \"p75\": 0.83, \"p50_trip\": 1, \"fastest_trip\": 0, \"car_duration_hours\": 0.54, \"competitive_route\": 1, \"bus_multiplier\": 1.54, \"bus_difference\": 17.4, \"num_trips\": 11, \"num_competitive\": 11, \"pct_trips_competitive\": 1.0, \"bus_difference_spread\": 0.0, \"route_group\": \"short\", \"max_trip_hrs\": 0.83, \"max_trip_route_group\": 0.83, \"below_cutoff\": 11, \"pct_below_cutoff\": 1.0, \"name\": \"Morongo Band of Mission Indians\", \"caltrans_district\": \"08 - San Bernardino\", \"drmt_organization_name\": null, \"route_name\": \"34\", \"cutoff2\": 20, \"cutoff\": 2}, {\"calitp_itp_id\": 212, \"trip_key\": 134933156221590924, \"trip_id\": \"t_869618_b_489_tn_0\", \"shape_id\": \"p_273\", \"route_id\": \"347\", \"service_hours\": 0.83, \"trip_first_departure_ts\": 28800, \"trip_last_arrival_ts\": 31800, \"departure_hour\": 8, \"time_of_day\": \"AM Peak\", \"p25\": 0.83, \"p50\": 0.83, \"p75\": 0.83, \"p50_trip\": 1, \"fastest_trip\": 0, \"car_duration_hours\": 0.54, \"competitive_route\": 1, \"bus_multiplier\": 1.54, \"bus_difference\": 17.4, \"num_trips\": 11, \"num_competitive\": 11, \"pct_trips_competitive\": 1.0, \"bus_difference_spread\": 0.0, \"route_group\": \"short\", \"max_trip_hrs\": 0.83, \"max_trip_route_group\": 0.83, \"below_cutoff\": 11, \"pct_below_cutoff\": 1.0, \"name\": \"Morongo Band of Mission Indians\", \"caltrans_district\": \"08 - San Bernardino\", \"drmt_organization_name\": null, \"route_name\": \"34\", \"cutoff2\": 20, \"cutoff\": 2}, {\"calitp_itp_id\": 212, \"trip_key\": 6524374184765815018, \"trip_id\": \"t_869627_b_489_tn_0\", \"shape_id\": \"p_273\", \"route_id\": \"347\", \"service_hours\": 0.83, \"trip_first_departure_ts\": 61200, \"trip_last_arrival_ts\": 64200, \"departure_hour\": 17, \"time_of_day\": \"PM Peak\", \"p25\": 0.83, \"p50\": 0.83, \"p75\": 0.83, \"p50_trip\": 1, \"fastest_trip\": 1, \"car_duration_hours\": 0.54, \"competitive_route\": 1, \"bus_multiplier\": 1.54, \"bus_difference\": 17.4, \"num_trips\": 11, \"num_competitive\": 11, \"pct_trips_competitive\": 1.0, \"bus_difference_spread\": 0.0, \"route_group\": \"short\", \"max_trip_hrs\": 0.83, \"max_trip_route_group\": 0.83, \"below_cutoff\": 11, \"pct_below_cutoff\": 1.0, \"name\": \"Morongo Band of Mission Indians\", \"caltrans_district\": \"08 - San Bernardino\", \"drmt_organization_name\": null, \"route_name\": \"34\", \"cutoff2\": 20, \"cutoff\": 2}, {\"calitp_itp_id\": 212, \"trip_key\": 279715188915178658, \"trip_id\": \"t_869619_b_489_tn_0\", \"shape_id\": \"p_273\", \"route_id\": \"347\", \"service_hours\": 0.83, \"trip_first_departure_ts\": 32400, \"trip_last_arrival_ts\": 35400, \"departure_hour\": 9, \"time_of_day\": \"AM Peak\", \"p25\": 0.83, \"p50\": 0.83, \"p75\": 0.83, \"p50_trip\": 1, \"fastest_trip\": 0, \"car_duration_hours\": 0.54, \"competitive_route\": 1, \"bus_multiplier\": 1.54, \"bus_difference\": 17.4, \"num_trips\": 11, \"num_competitive\": 11, \"pct_trips_competitive\": 1.0, \"bus_difference_spread\": 0.0, \"route_group\": \"short\", \"max_trip_hrs\": 0.83, \"max_trip_route_group\": 0.83, \"below_cutoff\": 11, \"pct_below_cutoff\": 1.0, \"name\": \"Morongo Band of Mission Indians\", \"caltrans_district\": \"08 - San Bernardino\", \"drmt_organization_name\": null, \"route_name\": \"34\", \"cutoff2\": 20, \"cutoff\": 2}, {\"calitp_itp_id\": 212, \"trip_key\": 6246359231528304994, \"trip_id\": \"t_869624_b_489_tn_0\", \"shape_id\": \"p_273\", \"route_id\": \"347\", \"service_hours\": 0.83, \"trip_first_departure_ts\": 50400, \"trip_last_arrival_ts\": 53400, \"departure_hour\": 14, \"time_of_day\": \"Midday\", \"p25\": 0.83, \"p50\": 0.83, \"p75\": 0.83, \"p50_trip\": 1, \"fastest_trip\": 0, \"car_duration_hours\": 0.54, \"competitive_route\": 1, \"bus_multiplier\": 1.54, \"bus_difference\": 17.4, \"num_trips\": 11, \"num_competitive\": 11, \"pct_trips_competitive\": 1.0, \"bus_difference_spread\": 0.0, \"route_group\": \"short\", \"max_trip_hrs\": 0.83, \"max_trip_route_group\": 0.83, \"below_cutoff\": 11, \"pct_below_cutoff\": 1.0, \"name\": \"Morongo Band of Mission Indians\", \"caltrans_district\": \"08 - San Bernardino\", \"drmt_organization_name\": null, \"route_name\": \"34\", \"cutoff2\": 20, \"cutoff\": 2}, {\"calitp_itp_id\": 212, \"trip_key\": -7823840397146035109, \"trip_id\": \"t_869622_b_489_tn_0\", \"shape_id\": \"p_273\", \"route_id\": \"347\", \"service_hours\": 0.83, \"trip_first_departure_ts\": 43200, \"trip_last_arrival_ts\": 46200, \"departure_hour\": 12, \"time_of_day\": \"Midday\", \"p25\": 0.83, \"p50\": 0.83, \"p75\": 0.83, \"p50_trip\": 1, \"fastest_trip\": 0, \"car_duration_hours\": 0.54, \"competitive_route\": 1, \"bus_multiplier\": 1.54, \"bus_difference\": 17.4, \"num_trips\": 11, \"num_competitive\": 11, \"pct_trips_competitive\": 1.0, \"bus_difference_spread\": 0.0, \"route_group\": \"short\", \"max_trip_hrs\": 0.83, \"max_trip_route_group\": 0.83, \"below_cutoff\": 11, \"pct_below_cutoff\": 1.0, \"name\": \"Morongo Band of Mission Indians\", \"caltrans_district\": \"08 - San Bernardino\", \"drmt_organization_name\": null, \"route_name\": \"34\", \"cutoff2\": 20, \"cutoff\": 2}, {\"calitp_itp_id\": 212, \"trip_key\": 4418619400551468545, \"trip_id\": \"t_869623_b_489_tn_0\", \"shape_id\": \"p_273\", \"route_id\": \"347\", \"service_hours\": 0.83, \"trip_first_departure_ts\": 46800, \"trip_last_arrival_ts\": 49800, \"departure_hour\": 13, \"time_of_day\": \"Midday\", \"p25\": 0.83, \"p50\": 0.83, \"p75\": 0.83, \"p50_trip\": 1, \"fastest_trip\": 0, \"car_duration_hours\": 0.54, \"competitive_route\": 1, \"bus_multiplier\": 1.54, \"bus_difference\": 17.4, \"num_trips\": 11, \"num_competitive\": 11, \"pct_trips_competitive\": 1.0, \"bus_difference_spread\": 0.0, \"route_group\": \"short\", \"max_trip_hrs\": 0.83, \"max_trip_route_group\": 0.83, \"below_cutoff\": 11, \"pct_below_cutoff\": 1.0, \"name\": \"Morongo Band of Mission Indians\", \"caltrans_district\": \"08 - San Bernardino\", \"drmt_organization_name\": null, \"route_name\": \"34\", \"cutoff2\": 20, \"cutoff\": 2}, {\"calitp_itp_id\": 212, \"trip_key\": -2994078164148274936, \"trip_id\": \"t_869621_b_489_tn_0\", \"shape_id\": \"p_273\", \"route_id\": \"347\", \"service_hours\": 0.83, \"trip_first_departure_ts\": 39600, \"trip_last_arrival_ts\": 42600, \"departure_hour\": 11, \"time_of_day\": \"Midday\", \"p25\": 0.83, \"p50\": 0.83, \"p75\": 0.83, \"p50_trip\": 1, \"fastest_trip\": 0, \"car_duration_hours\": 0.54, \"competitive_route\": 1, \"bus_multiplier\": 1.54, \"bus_difference\": 17.4, \"num_trips\": 11, \"num_competitive\": 11, \"pct_trips_competitive\": 1.0, \"bus_difference_spread\": 0.0, \"route_group\": \"short\", \"max_trip_hrs\": 0.83, \"max_trip_route_group\": 0.83, \"below_cutoff\": 11, \"pct_below_cutoff\": 1.0, \"name\": \"Morongo Band of Mission Indians\", \"caltrans_district\": \"08 - San Bernardino\", \"drmt_organization_name\": null, \"route_name\": \"34\", \"cutoff2\": 20, \"cutoff\": 2}, {\"calitp_itp_id\": 212, \"trip_key\": -5509352696499390412, \"trip_id\": \"t_869620_b_489_tn_0\", \"shape_id\": \"p_273\", \"route_id\": \"347\", \"service_hours\": 0.83, \"trip_first_departure_ts\": 36000, \"trip_last_arrival_ts\": 39000, \"departure_hour\": 10, \"time_of_day\": \"Midday\", \"p25\": 0.83, \"p50\": 0.83, \"p75\": 0.83, \"p50_trip\": 1, \"fastest_trip\": 0, \"car_duration_hours\": 0.54, \"competitive_route\": 1, \"bus_multiplier\": 1.54, \"bus_difference\": 17.4, \"num_trips\": 11, \"num_competitive\": 11, \"pct_trips_competitive\": 1.0, \"bus_difference_spread\": 0.0, \"route_group\": \"short\", \"max_trip_hrs\": 0.83, \"max_trip_route_group\": 0.83, \"below_cutoff\": 11, \"pct_below_cutoff\": 1.0, \"name\": \"Morongo Band of Mission Indians\", \"caltrans_district\": \"08 - San Bernardino\", \"drmt_organization_name\": null, \"route_name\": \"34\", \"cutoff2\": 20, \"cutoff\": 2}]}}, {\"mode\": \"vega-lite\"});\n",
       "</script>"
      ],
      "text/plain": [
       "alt.FacetChart(...)"
      ]
     },
     "metadata": {},
     "output_type": "display_data"
    },
    {
     "data": {
      "text/html": [
       "\n",
       "<div id=\"altair-viz-3cc87bd5c59d45d2b4ee9130ddfa0b8e\"></div>\n",
       "<script type=\"text/javascript\">\n",
       "  var VEGA_DEBUG = (typeof VEGA_DEBUG == \"undefined\") ? {} : VEGA_DEBUG;\n",
       "  (function(spec, embedOpt){\n",
       "    let outputDiv = document.currentScript.previousElementSibling;\n",
       "    if (outputDiv.id !== \"altair-viz-3cc87bd5c59d45d2b4ee9130ddfa0b8e\") {\n",
       "      outputDiv = document.getElementById(\"altair-viz-3cc87bd5c59d45d2b4ee9130ddfa0b8e\");\n",
       "    }\n",
       "    const paths = {\n",
       "      \"vega\": \"https://cdn.jsdelivr.net/npm//vega@5?noext\",\n",
       "      \"vega-lib\": \"https://cdn.jsdelivr.net/npm//vega-lib?noext\",\n",
       "      \"vega-lite\": \"https://cdn.jsdelivr.net/npm//vega-lite@4.17.0?noext\",\n",
       "      \"vega-embed\": \"https://cdn.jsdelivr.net/npm//vega-embed@6?noext\",\n",
       "    };\n",
       "\n",
       "    function maybeLoadScript(lib, version) {\n",
       "      var key = `${lib.replace(\"-\", \"\")}_version`;\n",
       "      return (VEGA_DEBUG[key] == version) ?\n",
       "        Promise.resolve(paths[lib]) :\n",
       "        new Promise(function(resolve, reject) {\n",
       "          var s = document.createElement('script');\n",
       "          document.getElementsByTagName(\"head\")[0].appendChild(s);\n",
       "          s.async = true;\n",
       "          s.onload = () => {\n",
       "            VEGA_DEBUG[key] = version;\n",
       "            return resolve(paths[lib]);\n",
       "          };\n",
       "          s.onerror = () => reject(`Error loading script: ${paths[lib]}`);\n",
       "          s.src = paths[lib];\n",
       "        });\n",
       "    }\n",
       "\n",
       "    function showError(err) {\n",
       "      outputDiv.innerHTML = `<div class=\"error\" style=\"color:red;\">${err}</div>`;\n",
       "      throw err;\n",
       "    }\n",
       "\n",
       "    function displayChart(vegaEmbed) {\n",
       "      vegaEmbed(outputDiv, spec, embedOpt)\n",
       "        .catch(err => showError(`Javascript Error: ${err.message}<br>This usually means there's a typo in your chart specification. See the javascript console for the full traceback.`));\n",
       "    }\n",
       "\n",
       "    if(typeof define === \"function\" && define.amd) {\n",
       "      requirejs.config({paths});\n",
       "      require([\"vega-embed\"], displayChart, err => showError(`Error loading script: ${err.message}`));\n",
       "    } else {\n",
       "      maybeLoadScript(\"vega\", \"5\")\n",
       "        .then(() => maybeLoadScript(\"vega-lite\", \"4.17.0\"))\n",
       "        .then(() => maybeLoadScript(\"vega-embed\", \"6\"))\n",
       "        .catch(showError)\n",
       "        .then(() => displayChart(vegaEmbed));\n",
       "    }\n",
       "  })({\"config\": {\"view\": {\"continuousWidth\": 400, \"continuousHeight\": 300, \"stroke\": null}, \"facet\": {\"spacing\": 0}}, \"data\": {\"name\": \"data-d6ea8ee937736bffd23a4c47f9f8c9ce\"}, \"facet\": {\"column\": {\"field\": \"route_id\", \"sort\": [\"347\"], \"title\": \"Route ID\", \"type\": \"nominal\"}}, \"spec\": {\"layer\": [{\"mark\": \"rule\", \"encoding\": {\"color\": {\"value\": \"black\"}, \"y\": {\"field\": \"cutoff\", \"type\": \"quantitative\"}}, \"selection\": {\"selector002\": {\"type\": \"interval\", \"bind\": \"scales\", \"encodings\": [\"x\", \"y\"]}}}, {\"mark\": {\"type\": \"rule\", \"strokeDash\": [3, 3]}, \"encoding\": {\"color\": {\"value\": \"#323434\"}, \"y\": {\"field\": \"cutoff2\", \"type\": \"quantitative\"}}}, {\"mark\": {\"type\": \"point\", \"opacity\": 0.65, \"size\": 12, \"strokeWidth\": 1.1}, \"encoding\": {\"color\": {\"field\": \"time_of_day\", \"scale\": {\"range\": [\"#136C97\", \"#E16B26\", \"#F6BF16\", \"#00896B\", \"#7790A3\", \"#5B559C\"]}, \"sort\": [\"AM Peak\", \"Midday\", \"PM Peak\", \"Owl Service\"], \"title\": \"Time of Day\", \"type\": \"nominal\"}, \"tooltip\": [{\"field\": \"route_id\", \"type\": \"nominal\"}, {\"field\": \"route_name\", \"type\": \"nominal\"}, {\"field\": \"trip_id\", \"type\": \"nominal\"}, {\"field\": \"service_hours\", \"type\": \"quantitative\"}, {\"field\": \"car_duration_hours\", \"type\": \"quantitative\"}, {\"field\": \"bus_multiplier\", \"type\": \"quantitative\"}, {\"field\": \"bus_difference\", \"type\": \"quantitative\"}, {\"field\": \"num_trips\", \"type\": \"quantitative\"}, {\"field\": \"num_competitive\", \"type\": \"quantitative\"}, {\"field\": \"pct_trips_competitive\", \"type\": \"quantitative\"}, {\"field\": \"pct_below_cutoff\", \"type\": \"quantitative\"}, {\"field\": \"p25\", \"type\": \"quantitative\"}, {\"field\": \"p50\", \"type\": \"quantitative\"}, {\"field\": \"p75\", \"type\": \"quantitative\"}], \"x\": {\"axis\": {\"grid\": false, \"labels\": false, \"ticks\": true, \"values\": [0]}, \"field\": \"jitter\", \"scale\": {}, \"title\": null, \"type\": \"quantitative\"}, \"y\": {\"field\": \"bus_difference\", \"scale\": {\"domain\": [-5, 42.0]}, \"title\": \"Difference in Bus to Car Travel Time (min)\", \"type\": \"quantitative\"}}, \"transform\": [{\"calculate\": \"sqrt(-2*log(random()))*cos(2*PI*random())\", \"as\": \"jitter\"}], \"width\": 50}, {\"layer\": [{\"mark\": {\"type\": \"point\", \"opacity\": 0.6, \"size\": 20, \"strokeWidth\": 1.3}, \"encoding\": {\"color\": {\"value\": \"#323434\"}, \"y\": {\"field\": \"bus_difference\", \"type\": \"quantitative\"}}, \"transform\": [{\"filter\": \"(datum.p50_trip === 1)\"}]}, {\"mark\": {\"type\": \"text\", \"align\": \"center\", \"baseline\": \"middle\"}, \"encoding\": {\"color\": {\"value\": \"black\"}, \"text\": {\"field\": \"pct_trips_competitive\", \"format\": \".0%\", \"type\": \"quantitative\"}, \"tooltip\": [{\"field\": \"route_id\", \"type\": \"nominal\"}, {\"field\": \"route_name\", \"type\": \"nominal\"}, {\"field\": \"trip_id\", \"type\": \"nominal\"}, {\"field\": \"service_hours\", \"type\": \"quantitative\"}, {\"field\": \"car_duration_hours\", \"type\": \"quantitative\"}, {\"field\": \"bus_multiplier\", \"type\": \"quantitative\"}, {\"field\": \"bus_difference\", \"type\": \"quantitative\"}, {\"field\": \"num_trips\", \"type\": \"quantitative\"}, {\"field\": \"num_competitive\", \"type\": \"quantitative\"}, {\"field\": \"pct_trips_competitive\", \"type\": \"quantitative\"}, {\"field\": \"pct_below_cutoff\", \"type\": \"quantitative\"}, {\"field\": \"p25\", \"type\": \"quantitative\"}, {\"field\": \"p50\", \"type\": \"quantitative\"}, {\"field\": \"p75\", \"type\": \"quantitative\"}], \"x\": {\"value\": 30}, \"y\": {\"value\": 15}}, \"transform\": [{\"calculate\": \"sqrt(-2*log(random()))*cos(2*PI*random())\", \"as\": \"jitter\"}, {\"filter\": \"(datum.fastest_trip === 1)\"}]}]}]}, \"resolve\": {\"scale\": {\"y\": \"shared\"}}, \"title\": \"Difference in Bus to Car Travel Time (min)\", \"$schema\": \"https://vega.github.io/schema/vega-lite/v4.17.0.json\", \"datasets\": {\"data-d6ea8ee937736bffd23a4c47f9f8c9ce\": [{\"calitp_itp_id\": 212, \"trip_key\": -50751044547860722, \"trip_id\": \"t_869617_b_489_tn_0\", \"shape_id\": \"p_273\", \"route_id\": \"347\", \"service_hours\": 0.83, \"trip_first_departure_ts\": 25200, \"trip_last_arrival_ts\": 28200, \"departure_hour\": 7, \"time_of_day\": \"AM Peak\", \"p25\": 0.83, \"p50\": 0.83, \"p75\": 0.83, \"p50_trip\": 1, \"fastest_trip\": 0, \"car_duration_hours\": 0.54, \"competitive_route\": 1, \"bus_multiplier\": 1.54, \"bus_difference\": 17.4, \"num_trips\": 11, \"num_competitive\": 11, \"pct_trips_competitive\": 1.0, \"bus_difference_spread\": 0.0, \"route_group\": \"short\", \"max_trip_hrs\": 0.83, \"max_trip_route_group\": 0.83, \"below_cutoff\": 11, \"pct_below_cutoff\": 1.0, \"name\": \"Morongo Band of Mission Indians\", \"caltrans_district\": \"08 - San Bernardino\", \"drmt_organization_name\": null, \"route_name\": \"34\", \"cutoff2\": 20, \"cutoff\": 0}, {\"calitp_itp_id\": 212, \"trip_key\": 6565985030843497917, \"trip_id\": \"t_869626_b_489_tn_0\", \"shape_id\": \"p_273\", \"route_id\": \"347\", \"service_hours\": 0.83, \"trip_first_departure_ts\": 57600, \"trip_last_arrival_ts\": 60600, \"departure_hour\": 16, \"time_of_day\": \"Midday\", \"p25\": 0.83, \"p50\": 0.83, \"p75\": 0.83, \"p50_trip\": 1, \"fastest_trip\": 0, \"car_duration_hours\": 0.54, \"competitive_route\": 1, \"bus_multiplier\": 1.54, \"bus_difference\": 17.4, \"num_trips\": 11, \"num_competitive\": 11, \"pct_trips_competitive\": 1.0, \"bus_difference_spread\": 0.0, \"route_group\": \"short\", \"max_trip_hrs\": 0.83, \"max_trip_route_group\": 0.83, \"below_cutoff\": 11, \"pct_below_cutoff\": 1.0, \"name\": \"Morongo Band of Mission Indians\", \"caltrans_district\": \"08 - San Bernardino\", \"drmt_organization_name\": null, \"route_name\": \"34\", \"cutoff2\": 20, \"cutoff\": 0}, {\"calitp_itp_id\": 212, \"trip_key\": -4816877801510912999, \"trip_id\": \"t_869625_b_489_tn_0\", \"shape_id\": \"p_273\", \"route_id\": \"347\", \"service_hours\": 0.83, \"trip_first_departure_ts\": 54000, \"trip_last_arrival_ts\": 57000, \"departure_hour\": 15, \"time_of_day\": \"Midday\", \"p25\": 0.83, \"p50\": 0.83, \"p75\": 0.83, \"p50_trip\": 1, \"fastest_trip\": 0, \"car_duration_hours\": 0.54, \"competitive_route\": 1, \"bus_multiplier\": 1.54, \"bus_difference\": 17.4, \"num_trips\": 11, \"num_competitive\": 11, \"pct_trips_competitive\": 1.0, \"bus_difference_spread\": 0.0, \"route_group\": \"short\", \"max_trip_hrs\": 0.83, \"max_trip_route_group\": 0.83, \"below_cutoff\": 11, \"pct_below_cutoff\": 1.0, \"name\": \"Morongo Band of Mission Indians\", \"caltrans_district\": \"08 - San Bernardino\", \"drmt_organization_name\": null, \"route_name\": \"34\", \"cutoff2\": 20, \"cutoff\": 0}, {\"calitp_itp_id\": 212, \"trip_key\": 134933156221590924, \"trip_id\": \"t_869618_b_489_tn_0\", \"shape_id\": \"p_273\", \"route_id\": \"347\", \"service_hours\": 0.83, \"trip_first_departure_ts\": 28800, \"trip_last_arrival_ts\": 31800, \"departure_hour\": 8, \"time_of_day\": \"AM Peak\", \"p25\": 0.83, \"p50\": 0.83, \"p75\": 0.83, \"p50_trip\": 1, \"fastest_trip\": 0, \"car_duration_hours\": 0.54, \"competitive_route\": 1, \"bus_multiplier\": 1.54, \"bus_difference\": 17.4, \"num_trips\": 11, \"num_competitive\": 11, \"pct_trips_competitive\": 1.0, \"bus_difference_spread\": 0.0, \"route_group\": \"short\", \"max_trip_hrs\": 0.83, \"max_trip_route_group\": 0.83, \"below_cutoff\": 11, \"pct_below_cutoff\": 1.0, \"name\": \"Morongo Band of Mission Indians\", \"caltrans_district\": \"08 - San Bernardino\", \"drmt_organization_name\": null, \"route_name\": \"34\", \"cutoff2\": 20, \"cutoff\": 0}, {\"calitp_itp_id\": 212, \"trip_key\": 6524374184765815018, \"trip_id\": \"t_869627_b_489_tn_0\", \"shape_id\": \"p_273\", \"route_id\": \"347\", \"service_hours\": 0.83, \"trip_first_departure_ts\": 61200, \"trip_last_arrival_ts\": 64200, \"departure_hour\": 17, \"time_of_day\": \"PM Peak\", \"p25\": 0.83, \"p50\": 0.83, \"p75\": 0.83, \"p50_trip\": 1, \"fastest_trip\": 1, \"car_duration_hours\": 0.54, \"competitive_route\": 1, \"bus_multiplier\": 1.54, \"bus_difference\": 17.4, \"num_trips\": 11, \"num_competitive\": 11, \"pct_trips_competitive\": 1.0, \"bus_difference_spread\": 0.0, \"route_group\": \"short\", \"max_trip_hrs\": 0.83, \"max_trip_route_group\": 0.83, \"below_cutoff\": 11, \"pct_below_cutoff\": 1.0, \"name\": \"Morongo Band of Mission Indians\", \"caltrans_district\": \"08 - San Bernardino\", \"drmt_organization_name\": null, \"route_name\": \"34\", \"cutoff2\": 20, \"cutoff\": 0}, {\"calitp_itp_id\": 212, \"trip_key\": 279715188915178658, \"trip_id\": \"t_869619_b_489_tn_0\", \"shape_id\": \"p_273\", \"route_id\": \"347\", \"service_hours\": 0.83, \"trip_first_departure_ts\": 32400, \"trip_last_arrival_ts\": 35400, \"departure_hour\": 9, \"time_of_day\": \"AM Peak\", \"p25\": 0.83, \"p50\": 0.83, \"p75\": 0.83, \"p50_trip\": 1, \"fastest_trip\": 0, \"car_duration_hours\": 0.54, \"competitive_route\": 1, \"bus_multiplier\": 1.54, \"bus_difference\": 17.4, \"num_trips\": 11, \"num_competitive\": 11, \"pct_trips_competitive\": 1.0, \"bus_difference_spread\": 0.0, \"route_group\": \"short\", \"max_trip_hrs\": 0.83, \"max_trip_route_group\": 0.83, \"below_cutoff\": 11, \"pct_below_cutoff\": 1.0, \"name\": \"Morongo Band of Mission Indians\", \"caltrans_district\": \"08 - San Bernardino\", \"drmt_organization_name\": null, \"route_name\": \"34\", \"cutoff2\": 20, \"cutoff\": 0}, {\"calitp_itp_id\": 212, \"trip_key\": 6246359231528304994, \"trip_id\": \"t_869624_b_489_tn_0\", \"shape_id\": \"p_273\", \"route_id\": \"347\", \"service_hours\": 0.83, \"trip_first_departure_ts\": 50400, \"trip_last_arrival_ts\": 53400, \"departure_hour\": 14, \"time_of_day\": \"Midday\", \"p25\": 0.83, \"p50\": 0.83, \"p75\": 0.83, \"p50_trip\": 1, \"fastest_trip\": 0, \"car_duration_hours\": 0.54, \"competitive_route\": 1, \"bus_multiplier\": 1.54, \"bus_difference\": 17.4, \"num_trips\": 11, \"num_competitive\": 11, \"pct_trips_competitive\": 1.0, \"bus_difference_spread\": 0.0, \"route_group\": \"short\", \"max_trip_hrs\": 0.83, \"max_trip_route_group\": 0.83, \"below_cutoff\": 11, \"pct_below_cutoff\": 1.0, \"name\": \"Morongo Band of Mission Indians\", \"caltrans_district\": \"08 - San Bernardino\", \"drmt_organization_name\": null, \"route_name\": \"34\", \"cutoff2\": 20, \"cutoff\": 0}, {\"calitp_itp_id\": 212, \"trip_key\": -7823840397146035109, \"trip_id\": \"t_869622_b_489_tn_0\", \"shape_id\": \"p_273\", \"route_id\": \"347\", \"service_hours\": 0.83, \"trip_first_departure_ts\": 43200, \"trip_last_arrival_ts\": 46200, \"departure_hour\": 12, \"time_of_day\": \"Midday\", \"p25\": 0.83, \"p50\": 0.83, \"p75\": 0.83, \"p50_trip\": 1, \"fastest_trip\": 0, \"car_duration_hours\": 0.54, \"competitive_route\": 1, \"bus_multiplier\": 1.54, \"bus_difference\": 17.4, \"num_trips\": 11, \"num_competitive\": 11, \"pct_trips_competitive\": 1.0, \"bus_difference_spread\": 0.0, \"route_group\": \"short\", \"max_trip_hrs\": 0.83, \"max_trip_route_group\": 0.83, \"below_cutoff\": 11, \"pct_below_cutoff\": 1.0, \"name\": \"Morongo Band of Mission Indians\", \"caltrans_district\": \"08 - San Bernardino\", \"drmt_organization_name\": null, \"route_name\": \"34\", \"cutoff2\": 20, \"cutoff\": 0}, {\"calitp_itp_id\": 212, \"trip_key\": 4418619400551468545, \"trip_id\": \"t_869623_b_489_tn_0\", \"shape_id\": \"p_273\", \"route_id\": \"347\", \"service_hours\": 0.83, \"trip_first_departure_ts\": 46800, \"trip_last_arrival_ts\": 49800, \"departure_hour\": 13, \"time_of_day\": \"Midday\", \"p25\": 0.83, \"p50\": 0.83, \"p75\": 0.83, \"p50_trip\": 1, \"fastest_trip\": 0, \"car_duration_hours\": 0.54, \"competitive_route\": 1, \"bus_multiplier\": 1.54, \"bus_difference\": 17.4, \"num_trips\": 11, \"num_competitive\": 11, \"pct_trips_competitive\": 1.0, \"bus_difference_spread\": 0.0, \"route_group\": \"short\", \"max_trip_hrs\": 0.83, \"max_trip_route_group\": 0.83, \"below_cutoff\": 11, \"pct_below_cutoff\": 1.0, \"name\": \"Morongo Band of Mission Indians\", \"caltrans_district\": \"08 - San Bernardino\", \"drmt_organization_name\": null, \"route_name\": \"34\", \"cutoff2\": 20, \"cutoff\": 0}, {\"calitp_itp_id\": 212, \"trip_key\": -2994078164148274936, \"trip_id\": \"t_869621_b_489_tn_0\", \"shape_id\": \"p_273\", \"route_id\": \"347\", \"service_hours\": 0.83, \"trip_first_departure_ts\": 39600, \"trip_last_arrival_ts\": 42600, \"departure_hour\": 11, \"time_of_day\": \"Midday\", \"p25\": 0.83, \"p50\": 0.83, \"p75\": 0.83, \"p50_trip\": 1, \"fastest_trip\": 0, \"car_duration_hours\": 0.54, \"competitive_route\": 1, \"bus_multiplier\": 1.54, \"bus_difference\": 17.4, \"num_trips\": 11, \"num_competitive\": 11, \"pct_trips_competitive\": 1.0, \"bus_difference_spread\": 0.0, \"route_group\": \"short\", \"max_trip_hrs\": 0.83, \"max_trip_route_group\": 0.83, \"below_cutoff\": 11, \"pct_below_cutoff\": 1.0, \"name\": \"Morongo Band of Mission Indians\", \"caltrans_district\": \"08 - San Bernardino\", \"drmt_organization_name\": null, \"route_name\": \"34\", \"cutoff2\": 20, \"cutoff\": 0}, {\"calitp_itp_id\": 212, \"trip_key\": -5509352696499390412, \"trip_id\": \"t_869620_b_489_tn_0\", \"shape_id\": \"p_273\", \"route_id\": \"347\", \"service_hours\": 0.83, \"trip_first_departure_ts\": 36000, \"trip_last_arrival_ts\": 39000, \"departure_hour\": 10, \"time_of_day\": \"Midday\", \"p25\": 0.83, \"p50\": 0.83, \"p75\": 0.83, \"p50_trip\": 1, \"fastest_trip\": 0, \"car_duration_hours\": 0.54, \"competitive_route\": 1, \"bus_multiplier\": 1.54, \"bus_difference\": 17.4, \"num_trips\": 11, \"num_competitive\": 11, \"pct_trips_competitive\": 1.0, \"bus_difference_spread\": 0.0, \"route_group\": \"short\", \"max_trip_hrs\": 0.83, \"max_trip_route_group\": 0.83, \"below_cutoff\": 11, \"pct_below_cutoff\": 1.0, \"name\": \"Morongo Band of Mission Indians\", \"caltrans_district\": \"08 - San Bernardino\", \"drmt_organization_name\": null, \"route_name\": \"34\", \"cutoff2\": 20, \"cutoff\": 0}]}}, {\"mode\": \"vega-lite\"});\n",
       "</script>"
      ],
      "text/plain": [
       "alt.FacetChart(...)"
      ]
     },
     "metadata": {},
     "output_type": "display_data"
    },
    {
     "data": {
      "text/html": [
       "<h4>Route Stats</h4>"
      ],
      "text/plain": [
       "<IPython.core.display.HTML object>"
      ]
     },
     "metadata": {},
     "output_type": "display_data"
    },
    {
     "data": {
      "text/html": [
       "<style type=\"text/css\">\n",
       "#T_c5806 th {\n",
       "  text-align: center;\n",
       "}\n",
       "#T_c5806_row0_col0, #T_c5806_row0_col1 {\n",
       "  text-align: left;\n",
       "}\n",
       "#T_c5806_row0_col2, #T_c5806_row0_col3, #T_c5806_row0_col5 {\n",
       "  text-align: center;\n",
       "}\n",
       "</style>\n",
       "<table id=\"T_c5806\">\n",
       "  <thead>\n",
       "    <tr>\n",
       "      <th id=\"T_c5806_level0_col0\" class=\"col_heading level0 col0\" >Route ID</th>\n",
       "      <th id=\"T_c5806_level0_col1\" class=\"col_heading level0 col1\" >Route Name</th>\n",
       "      <th id=\"T_c5806_level0_col2\" class=\"col_heading level0 col2\" ># trips</th>\n",
       "      <th id=\"T_c5806_level0_col3\" class=\"col_heading level0 col3\" >Daily Avg Freq (trips per hr)</th>\n",
       "      <th id=\"T_c5806_level0_col4\" class=\"col_heading level0 col4\" >25th, 50th, 75th ptile (hrs)</th>\n",
       "      <th id=\"T_c5806_level0_col5\" class=\"col_heading level0 col5\" >PM Peak Avg Freq (trips per hr)</th>\n",
       "    </tr>\n",
       "  </thead>\n",
       "  <tbody>\n",
       "    <tr>\n",
       "      <td id=\"T_c5806_row0_col0\" class=\"data row0 col0\" >347</td>\n",
       "      <td id=\"T_c5806_row0_col1\" class=\"data row0 col1\" >34</td>\n",
       "      <td id=\"T_c5806_row0_col2\" class=\"data row0 col2\" >11</td>\n",
       "      <td id=\"T_c5806_row0_col3\" class=\"data row0 col3\" >0.46</td>\n",
       "      <td id=\"T_c5806_row0_col4\" class=\"data row0 col4\" >0.83, 0.83, 0.83</td>\n",
       "      <td id=\"T_c5806_row0_col5\" class=\"data row0 col5\" >0.33</td>\n",
       "    </tr>\n",
       "  </tbody>\n",
       "</table>\n"
      ],
      "text/plain": [
       "<IPython.core.display.HTML object>"
      ]
     },
     "metadata": {},
     "output_type": "display_data"
    }
   ],
   "source": [
    "# Allow for possibility that operator doesn't have routes that fall into certain route_groups\n",
    "# But, jupyterbook will not like markdown with f-string\n",
    "# separate out route_group and put in each cell, and use try/except + if to display...\n",
    "# but all 3 route groups must be displayed. just add sentence about why no routes were returned at the end\n",
    "route_group = \"short\"\n",
    "try:\n",
    "    display_charts_for_route_group(df, route_group)\n",
    "except:\n",
    "    print(\"No routes meet this criteria.\")"
   ]
  },
  {
   "cell_type": "markdown",
   "id": "c2931b6f-034d-4384-9e14-80b925e3b820",
   "metadata": {
    "papermill": {
     "duration": 0.017589,
     "end_time": "2022-05-12T19:47:02.475273",
     "exception": false,
     "start_time": "2022-05-12T19:47:02.457684",
     "status": "completed"
    },
    "tags": []
   },
   "source": [
    "### Medium Routes (1-1.5 hrs)"
   ]
  },
  {
   "cell_type": "code",
   "execution_count": 15,
   "id": "480edddc-4de0-48c2-ae4c-b0ceef8f28b5",
   "metadata": {
    "execution": {
     "iopub.execute_input": "2022-05-12T19:47:02.515937Z",
     "iopub.status.busy": "2022-05-12T19:47:02.515661Z",
     "iopub.status.idle": "2022-05-12T19:47:02.730109Z",
     "shell.execute_reply": "2022-05-12T19:47:02.729558Z"
    },
    "jupyter": {
     "source_hidden": true
    },
    "papermill": {
     "duration": 0.23448,
     "end_time": "2022-05-12T19:47:02.731879",
     "exception": false,
     "start_time": "2022-05-12T19:47:02.497399",
     "status": "completed"
    },
    "tags": [
     "remove_input"
    ]
   },
   "outputs": [
    {
     "data": {
      "text/markdown": [
       "<br>These are routes that have **100% of their trips take no more than an additional 30 min** compared to a car (up to 15 routes) are shown.<br>Within each route group, routes are sorted in descending order by % competitive trips and # trips below the additional time cut-off."
      ],
      "text/plain": [
       "<IPython.core.display.Markdown object>"
      ]
     },
     "metadata": {},
     "output_type": "display_data"
    },
    {
     "data": {
      "text/html": [
       "\n",
       "<div id=\"altair-viz-c72043ee62194b828b37128d3b314e6a\"></div>\n",
       "<script type=\"text/javascript\">\n",
       "  var VEGA_DEBUG = (typeof VEGA_DEBUG == \"undefined\") ? {} : VEGA_DEBUG;\n",
       "  (function(spec, embedOpt){\n",
       "    let outputDiv = document.currentScript.previousElementSibling;\n",
       "    if (outputDiv.id !== \"altair-viz-c72043ee62194b828b37128d3b314e6a\") {\n",
       "      outputDiv = document.getElementById(\"altair-viz-c72043ee62194b828b37128d3b314e6a\");\n",
       "    }\n",
       "    const paths = {\n",
       "      \"vega\": \"https://cdn.jsdelivr.net/npm//vega@5?noext\",\n",
       "      \"vega-lib\": \"https://cdn.jsdelivr.net/npm//vega-lib?noext\",\n",
       "      \"vega-lite\": \"https://cdn.jsdelivr.net/npm//vega-lite@4.17.0?noext\",\n",
       "      \"vega-embed\": \"https://cdn.jsdelivr.net/npm//vega-embed@6?noext\",\n",
       "    };\n",
       "\n",
       "    function maybeLoadScript(lib, version) {\n",
       "      var key = `${lib.replace(\"-\", \"\")}_version`;\n",
       "      return (VEGA_DEBUG[key] == version) ?\n",
       "        Promise.resolve(paths[lib]) :\n",
       "        new Promise(function(resolve, reject) {\n",
       "          var s = document.createElement('script');\n",
       "          document.getElementsByTagName(\"head\")[0].appendChild(s);\n",
       "          s.async = true;\n",
       "          s.onload = () => {\n",
       "            VEGA_DEBUG[key] = version;\n",
       "            return resolve(paths[lib]);\n",
       "          };\n",
       "          s.onerror = () => reject(`Error loading script: ${paths[lib]}`);\n",
       "          s.src = paths[lib];\n",
       "        });\n",
       "    }\n",
       "\n",
       "    function showError(err) {\n",
       "      outputDiv.innerHTML = `<div class=\"error\" style=\"color:red;\">${err}</div>`;\n",
       "      throw err;\n",
       "    }\n",
       "\n",
       "    function displayChart(vegaEmbed) {\n",
       "      vegaEmbed(outputDiv, spec, embedOpt)\n",
       "        .catch(err => showError(`Javascript Error: ${err.message}<br>This usually means there's a typo in your chart specification. See the javascript console for the full traceback.`));\n",
       "    }\n",
       "\n",
       "    if(typeof define === \"function\" && define.amd) {\n",
       "      requirejs.config({paths});\n",
       "      require([\"vega-embed\"], displayChart, err => showError(`Error loading script: ${err.message}`));\n",
       "    } else {\n",
       "      maybeLoadScript(\"vega\", \"5\")\n",
       "        .then(() => maybeLoadScript(\"vega-lite\", \"4.17.0\"))\n",
       "        .then(() => maybeLoadScript(\"vega-embed\", \"6\"))\n",
       "        .catch(showError)\n",
       "        .then(() => displayChart(vegaEmbed));\n",
       "    }\n",
       "  })({\"config\": {\"view\": {\"continuousWidth\": 400, \"continuousHeight\": 300, \"stroke\": null}, \"facet\": {\"spacing\": 0}}, \"data\": {\"name\": \"data-7ec4926f31ad3c77e7bbee4e99f42f40\"}, \"facet\": {\"column\": {\"field\": \"route_id\", \"sort\": [\"350\"], \"title\": \"Route ID\", \"type\": \"nominal\"}}, \"spec\": {\"layer\": [{\"mark\": \"rule\", \"encoding\": {\"color\": {\"value\": \"black\"}, \"y\": {\"field\": \"cutoff\", \"type\": \"quantitative\"}}, \"selection\": {\"selector003\": {\"type\": \"interval\", \"bind\": \"scales\", \"encodings\": [\"x\", \"y\"]}}}, {\"mark\": {\"type\": \"point\", \"opacity\": 0.65, \"size\": 12, \"strokeWidth\": 1.1}, \"encoding\": {\"color\": {\"field\": \"time_of_day\", \"scale\": {\"range\": [\"#136C97\", \"#E16B26\", \"#F6BF16\", \"#00896B\", \"#7790A3\", \"#5B559C\"]}, \"sort\": [\"AM Peak\", \"Midday\", \"PM Peak\", \"Owl Service\"], \"title\": \"Time of Day\", \"type\": \"nominal\"}, \"tooltip\": [{\"field\": \"route_id\", \"type\": \"nominal\"}, {\"field\": \"route_name\", \"type\": \"nominal\"}, {\"field\": \"trip_id\", \"type\": \"nominal\"}, {\"field\": \"service_hours\", \"type\": \"quantitative\"}, {\"field\": \"car_duration_hours\", \"type\": \"quantitative\"}, {\"field\": \"bus_multiplier\", \"type\": \"quantitative\"}, {\"field\": \"bus_difference\", \"type\": \"quantitative\"}, {\"field\": \"num_trips\", \"type\": \"quantitative\"}, {\"field\": \"num_competitive\", \"type\": \"quantitative\"}, {\"field\": \"pct_trips_competitive\", \"type\": \"quantitative\"}, {\"field\": \"pct_below_cutoff\", \"type\": \"quantitative\"}, {\"field\": \"p25\", \"type\": \"quantitative\"}, {\"field\": \"p50\", \"type\": \"quantitative\"}, {\"field\": \"p75\", \"type\": \"quantitative\"}], \"x\": {\"axis\": {\"grid\": false, \"labels\": false, \"ticks\": true, \"values\": [0]}, \"field\": \"jitter\", \"scale\": {}, \"title\": null, \"type\": \"quantitative\"}, \"y\": {\"field\": \"bus_multiplier\", \"scale\": {\"domain\": [0, 3.0]}, \"title\": \"Ratio of Bus to Car Travel Time\", \"type\": \"quantitative\"}}, \"transform\": [{\"calculate\": \"sqrt(-2*log(random()))*cos(2*PI*random())\", \"as\": \"jitter\"}], \"width\": 50}, {\"layer\": [{\"mark\": {\"type\": \"point\", \"opacity\": 0.6, \"size\": 20, \"strokeWidth\": 1.3}, \"encoding\": {\"color\": {\"value\": \"#323434\"}, \"y\": {\"field\": \"bus_multiplier\", \"type\": \"quantitative\"}}, \"transform\": [{\"filter\": \"(datum.p50_trip === 1)\"}]}, {\"mark\": {\"type\": \"text\", \"align\": \"center\", \"baseline\": \"middle\"}, \"encoding\": {\"color\": {\"value\": \"black\"}, \"text\": {\"field\": \"pct_trips_competitive\", \"format\": \".0%\", \"type\": \"quantitative\"}, \"tooltip\": [{\"field\": \"route_id\", \"type\": \"nominal\"}, {\"field\": \"route_name\", \"type\": \"nominal\"}, {\"field\": \"trip_id\", \"type\": \"nominal\"}, {\"field\": \"service_hours\", \"type\": \"quantitative\"}, {\"field\": \"car_duration_hours\", \"type\": \"quantitative\"}, {\"field\": \"bus_multiplier\", \"type\": \"quantitative\"}, {\"field\": \"bus_difference\", \"type\": \"quantitative\"}, {\"field\": \"num_trips\", \"type\": \"quantitative\"}, {\"field\": \"num_competitive\", \"type\": \"quantitative\"}, {\"field\": \"pct_trips_competitive\", \"type\": \"quantitative\"}, {\"field\": \"pct_below_cutoff\", \"type\": \"quantitative\"}, {\"field\": \"p25\", \"type\": \"quantitative\"}, {\"field\": \"p50\", \"type\": \"quantitative\"}, {\"field\": \"p75\", \"type\": \"quantitative\"}], \"x\": {\"value\": 30}, \"y\": {\"value\": 15}}, \"transform\": [{\"calculate\": \"sqrt(-2*log(random()))*cos(2*PI*random())\", \"as\": \"jitter\"}, {\"filter\": \"(datum.fastest_trip === 1)\"}]}]}]}, \"resolve\": {\"scale\": {\"y\": \"shared\"}}, \"title\": \"Ratio of Bus to Car Travel Time\", \"$schema\": \"https://vega.github.io/schema/vega-lite/v4.17.0.json\", \"datasets\": {\"data-7ec4926f31ad3c77e7bbee4e99f42f40\": [{\"calitp_itp_id\": 212, \"trip_key\": 3090255030447947583, \"trip_id\": \"t_1392_b_489_tn_0\", \"shape_id\": \"p_288\", \"route_id\": \"350\", \"service_hours\": 0.92, \"trip_first_departure_ts\": 28500, \"trip_last_arrival_ts\": 31800, \"departure_hour\": 7, \"time_of_day\": \"AM Peak\", \"p25\": 0.92, \"p50\": 0.92, \"p75\": 0.92, \"p50_trip\": 1, \"fastest_trip\": 0, \"car_duration_hours\": 0.73, \"competitive_route\": 1, \"bus_multiplier\": 1.26, \"bus_difference\": 11.4, \"num_trips\": 6, \"num_competitive\": 6, \"pct_trips_competitive\": 1.0, \"bus_difference_spread\": 9.6, \"route_group\": \"medium\", \"max_trip_hrs\": 1.08, \"max_trip_route_group\": 1.08, \"below_cutoff\": 6, \"pct_below_cutoff\": 1.0, \"name\": \"Morongo Band of Mission Indians\", \"caltrans_district\": \"08 - San Bernardino\", \"drmt_organization_name\": null, \"route_name\": \"Yucca Valley - Palm Springs\", \"cutoff2\": 30, \"cutoff\": 2}, {\"calitp_itp_id\": 212, \"trip_key\": -7194114715627764428, \"trip_id\": \"t_1378_b_489_tn_0\", \"shape_id\": \"p_270\", \"route_id\": \"350\", \"service_hours\": 0.92, \"trip_first_departure_ts\": 60000, \"trip_last_arrival_ts\": 63300, \"departure_hour\": 16, \"time_of_day\": \"Midday\", \"p25\": 0.92, \"p50\": 0.92, \"p75\": 0.92, \"p50_trip\": 1, \"fastest_trip\": 0, \"car_duration_hours\": 0.73, \"competitive_route\": 1, \"bus_multiplier\": 1.26, \"bus_difference\": 11.4, \"num_trips\": 6, \"num_competitive\": 6, \"pct_trips_competitive\": 1.0, \"bus_difference_spread\": 9.6, \"route_group\": \"medium\", \"max_trip_hrs\": 1.08, \"max_trip_route_group\": 1.08, \"below_cutoff\": 6, \"pct_below_cutoff\": 1.0, \"name\": \"Morongo Band of Mission Indians\", \"caltrans_district\": \"08 - San Bernardino\", \"drmt_organization_name\": null, \"route_name\": \"Yucca Valley - Palm Springs\", \"cutoff2\": 30, \"cutoff\": 2}, {\"calitp_itp_id\": 212, \"trip_key\": -1982978580526997524, \"trip_id\": \"t_1377_b_489_tn_0\", \"shape_id\": \"p_270\", \"route_id\": \"350\", \"service_hours\": 0.92, \"trip_first_departure_ts\": 34800, \"trip_last_arrival_ts\": 38100, \"departure_hour\": 9, \"time_of_day\": \"AM Peak\", \"p25\": 0.92, \"p50\": 0.92, \"p75\": 0.92, \"p50_trip\": 1, \"fastest_trip\": 0, \"car_duration_hours\": 0.73, \"competitive_route\": 1, \"bus_multiplier\": 1.26, \"bus_difference\": 11.4, \"num_trips\": 6, \"num_competitive\": 6, \"pct_trips_competitive\": 1.0, \"bus_difference_spread\": 9.6, \"route_group\": \"medium\", \"max_trip_hrs\": 1.08, \"max_trip_route_group\": 1.08, \"below_cutoff\": 6, \"pct_below_cutoff\": 1.0, \"name\": \"Morongo Band of Mission Indians\", \"caltrans_district\": \"08 - San Bernardino\", \"drmt_organization_name\": null, \"route_name\": \"Yucca Valley - Palm Springs\", \"cutoff2\": 30, \"cutoff\": 2}, {\"calitp_itp_id\": 212, \"trip_key\": 4336152498001563059, \"trip_id\": \"t_1386_b_489_tn_0\", \"shape_id\": \"p_288\", \"route_id\": \"350\", \"service_hours\": 0.92, \"trip_first_departure_ts\": 63900, \"trip_last_arrival_ts\": 67200, \"departure_hour\": 17, \"time_of_day\": \"PM Peak\", \"p25\": 0.92, \"p50\": 0.92, \"p75\": 0.92, \"p50_trip\": 1, \"fastest_trip\": 1, \"car_duration_hours\": 0.73, \"competitive_route\": 1, \"bus_multiplier\": 1.26, \"bus_difference\": 11.4, \"num_trips\": 6, \"num_competitive\": 6, \"pct_trips_competitive\": 1.0, \"bus_difference_spread\": 9.6, \"route_group\": \"medium\", \"max_trip_hrs\": 1.08, \"max_trip_route_group\": 1.08, \"below_cutoff\": 6, \"pct_below_cutoff\": 1.0, \"name\": \"Morongo Band of Mission Indians\", \"caltrans_district\": \"08 - San Bernardino\", \"drmt_organization_name\": null, \"route_name\": \"Yucca Valley - Palm Springs\", \"cutoff2\": 30, \"cutoff\": 2}, {\"calitp_itp_id\": 212, \"trip_key\": 1121313051657293748, \"trip_id\": \"t_1376_b_489_tn_0\", \"shape_id\": \"p_270\", \"route_id\": \"350\", \"service_hours\": 0.92, \"trip_first_departure_ts\": 25200, \"trip_last_arrival_ts\": 28500, \"departure_hour\": 7, \"time_of_day\": \"AM Peak\", \"p25\": 0.92, \"p50\": 0.92, \"p75\": 0.92, \"p50_trip\": 1, \"fastest_trip\": 0, \"car_duration_hours\": 0.73, \"competitive_route\": 1, \"bus_multiplier\": 1.26, \"bus_difference\": 11.4, \"num_trips\": 6, \"num_competitive\": 6, \"pct_trips_competitive\": 1.0, \"bus_difference_spread\": 9.6, \"route_group\": \"medium\", \"max_trip_hrs\": 1.08, \"max_trip_route_group\": 1.08, \"below_cutoff\": 6, \"pct_below_cutoff\": 1.0, \"name\": \"Morongo Band of Mission Indians\", \"caltrans_district\": \"08 - San Bernardino\", \"drmt_organization_name\": null, \"route_name\": \"Yucca Valley - Palm Springs\", \"cutoff2\": 30, \"cutoff\": 2}, {\"calitp_itp_id\": 212, \"trip_key\": 4869777759681107014, \"trip_id\": \"t_1374_b_489_tn_0\", \"shape_id\": \"p_288\", \"route_id\": \"350\", \"service_hours\": 1.08, \"trip_first_departure_ts\": 38700, \"trip_last_arrival_ts\": 42600, \"departure_hour\": 10, \"time_of_day\": \"Midday\", \"p25\": 0.92, \"p50\": 0.92, \"p75\": 0.92, \"p50_trip\": 0, \"fastest_trip\": 0, \"car_duration_hours\": 0.73, \"competitive_route\": 1, \"bus_multiplier\": 1.48, \"bus_difference\": 21.0, \"num_trips\": 6, \"num_competitive\": 6, \"pct_trips_competitive\": 1.0, \"bus_difference_spread\": 9.6, \"route_group\": \"medium\", \"max_trip_hrs\": 1.08, \"max_trip_route_group\": 1.08, \"below_cutoff\": 6, \"pct_below_cutoff\": 1.0, \"name\": \"Morongo Band of Mission Indians\", \"caltrans_district\": \"08 - San Bernardino\", \"drmt_organization_name\": null, \"route_name\": \"Yucca Valley - Palm Springs\", \"cutoff2\": 30, \"cutoff\": 2}]}}, {\"mode\": \"vega-lite\"});\n",
       "</script>"
      ],
      "text/plain": [
       "alt.FacetChart(...)"
      ]
     },
     "metadata": {},
     "output_type": "display_data"
    },
    {
     "data": {
      "text/html": [
       "\n",
       "<div id=\"altair-viz-b3bc332dea2e48c384ad6da1fd89c8c0\"></div>\n",
       "<script type=\"text/javascript\">\n",
       "  var VEGA_DEBUG = (typeof VEGA_DEBUG == \"undefined\") ? {} : VEGA_DEBUG;\n",
       "  (function(spec, embedOpt){\n",
       "    let outputDiv = document.currentScript.previousElementSibling;\n",
       "    if (outputDiv.id !== \"altair-viz-b3bc332dea2e48c384ad6da1fd89c8c0\") {\n",
       "      outputDiv = document.getElementById(\"altair-viz-b3bc332dea2e48c384ad6da1fd89c8c0\");\n",
       "    }\n",
       "    const paths = {\n",
       "      \"vega\": \"https://cdn.jsdelivr.net/npm//vega@5?noext\",\n",
       "      \"vega-lib\": \"https://cdn.jsdelivr.net/npm//vega-lib?noext\",\n",
       "      \"vega-lite\": \"https://cdn.jsdelivr.net/npm//vega-lite@4.17.0?noext\",\n",
       "      \"vega-embed\": \"https://cdn.jsdelivr.net/npm//vega-embed@6?noext\",\n",
       "    };\n",
       "\n",
       "    function maybeLoadScript(lib, version) {\n",
       "      var key = `${lib.replace(\"-\", \"\")}_version`;\n",
       "      return (VEGA_DEBUG[key] == version) ?\n",
       "        Promise.resolve(paths[lib]) :\n",
       "        new Promise(function(resolve, reject) {\n",
       "          var s = document.createElement('script');\n",
       "          document.getElementsByTagName(\"head\")[0].appendChild(s);\n",
       "          s.async = true;\n",
       "          s.onload = () => {\n",
       "            VEGA_DEBUG[key] = version;\n",
       "            return resolve(paths[lib]);\n",
       "          };\n",
       "          s.onerror = () => reject(`Error loading script: ${paths[lib]}`);\n",
       "          s.src = paths[lib];\n",
       "        });\n",
       "    }\n",
       "\n",
       "    function showError(err) {\n",
       "      outputDiv.innerHTML = `<div class=\"error\" style=\"color:red;\">${err}</div>`;\n",
       "      throw err;\n",
       "    }\n",
       "\n",
       "    function displayChart(vegaEmbed) {\n",
       "      vegaEmbed(outputDiv, spec, embedOpt)\n",
       "        .catch(err => showError(`Javascript Error: ${err.message}<br>This usually means there's a typo in your chart specification. See the javascript console for the full traceback.`));\n",
       "    }\n",
       "\n",
       "    if(typeof define === \"function\" && define.amd) {\n",
       "      requirejs.config({paths});\n",
       "      require([\"vega-embed\"], displayChart, err => showError(`Error loading script: ${err.message}`));\n",
       "    } else {\n",
       "      maybeLoadScript(\"vega\", \"5\")\n",
       "        .then(() => maybeLoadScript(\"vega-lite\", \"4.17.0\"))\n",
       "        .then(() => maybeLoadScript(\"vega-embed\", \"6\"))\n",
       "        .catch(showError)\n",
       "        .then(() => displayChart(vegaEmbed));\n",
       "    }\n",
       "  })({\"config\": {\"view\": {\"continuousWidth\": 400, \"continuousHeight\": 300, \"stroke\": null}, \"facet\": {\"spacing\": 0}}, \"data\": {\"name\": \"data-077be9d0f168e6627a05e0345958354d\"}, \"facet\": {\"column\": {\"field\": \"route_id\", \"sort\": [\"350\"], \"title\": \"Route ID\", \"type\": \"nominal\"}}, \"spec\": {\"layer\": [{\"mark\": \"rule\", \"encoding\": {\"color\": {\"value\": \"black\"}, \"y\": {\"field\": \"cutoff\", \"type\": \"quantitative\"}}, \"selection\": {\"selector004\": {\"type\": \"interval\", \"bind\": \"scales\", \"encodings\": [\"x\", \"y\"]}}}, {\"mark\": {\"type\": \"rule\", \"strokeDash\": [3, 3]}, \"encoding\": {\"color\": {\"value\": \"#323434\"}, \"y\": {\"field\": \"cutoff2\", \"type\": \"quantitative\"}}}, {\"mark\": {\"type\": \"point\", \"opacity\": 0.65, \"size\": 12, \"strokeWidth\": 1.1}, \"encoding\": {\"color\": {\"field\": \"time_of_day\", \"scale\": {\"range\": [\"#136C97\", \"#E16B26\", \"#F6BF16\", \"#00896B\", \"#7790A3\", \"#5B559C\"]}, \"sort\": [\"AM Peak\", \"Midday\", \"PM Peak\", \"Owl Service\"], \"title\": \"Time of Day\", \"type\": \"nominal\"}, \"tooltip\": [{\"field\": \"route_id\", \"type\": \"nominal\"}, {\"field\": \"route_name\", \"type\": \"nominal\"}, {\"field\": \"trip_id\", \"type\": \"nominal\"}, {\"field\": \"service_hours\", \"type\": \"quantitative\"}, {\"field\": \"car_duration_hours\", \"type\": \"quantitative\"}, {\"field\": \"bus_multiplier\", \"type\": \"quantitative\"}, {\"field\": \"bus_difference\", \"type\": \"quantitative\"}, {\"field\": \"num_trips\", \"type\": \"quantitative\"}, {\"field\": \"num_competitive\", \"type\": \"quantitative\"}, {\"field\": \"pct_trips_competitive\", \"type\": \"quantitative\"}, {\"field\": \"pct_below_cutoff\", \"type\": \"quantitative\"}, {\"field\": \"p25\", \"type\": \"quantitative\"}, {\"field\": \"p50\", \"type\": \"quantitative\"}, {\"field\": \"p75\", \"type\": \"quantitative\"}], \"x\": {\"axis\": {\"grid\": false, \"labels\": false, \"ticks\": true, \"values\": [0]}, \"field\": \"jitter\", \"scale\": {}, \"title\": null, \"type\": \"quantitative\"}, \"y\": {\"field\": \"bus_difference\", \"scale\": {\"domain\": [-5, 42.0]}, \"title\": \"Difference in Bus to Car Travel Time (min)\", \"type\": \"quantitative\"}}, \"transform\": [{\"calculate\": \"sqrt(-2*log(random()))*cos(2*PI*random())\", \"as\": \"jitter\"}], \"width\": 50}, {\"layer\": [{\"mark\": {\"type\": \"point\", \"opacity\": 0.6, \"size\": 20, \"strokeWidth\": 1.3}, \"encoding\": {\"color\": {\"value\": \"#323434\"}, \"y\": {\"field\": \"bus_difference\", \"type\": \"quantitative\"}}, \"transform\": [{\"filter\": \"(datum.p50_trip === 1)\"}]}, {\"mark\": {\"type\": \"text\", \"align\": \"center\", \"baseline\": \"middle\"}, \"encoding\": {\"color\": {\"value\": \"black\"}, \"text\": {\"field\": \"pct_trips_competitive\", \"format\": \".0%\", \"type\": \"quantitative\"}, \"tooltip\": [{\"field\": \"route_id\", \"type\": \"nominal\"}, {\"field\": \"route_name\", \"type\": \"nominal\"}, {\"field\": \"trip_id\", \"type\": \"nominal\"}, {\"field\": \"service_hours\", \"type\": \"quantitative\"}, {\"field\": \"car_duration_hours\", \"type\": \"quantitative\"}, {\"field\": \"bus_multiplier\", \"type\": \"quantitative\"}, {\"field\": \"bus_difference\", \"type\": \"quantitative\"}, {\"field\": \"num_trips\", \"type\": \"quantitative\"}, {\"field\": \"num_competitive\", \"type\": \"quantitative\"}, {\"field\": \"pct_trips_competitive\", \"type\": \"quantitative\"}, {\"field\": \"pct_below_cutoff\", \"type\": \"quantitative\"}, {\"field\": \"p25\", \"type\": \"quantitative\"}, {\"field\": \"p50\", \"type\": \"quantitative\"}, {\"field\": \"p75\", \"type\": \"quantitative\"}], \"x\": {\"value\": 30}, \"y\": {\"value\": 15}}, \"transform\": [{\"calculate\": \"sqrt(-2*log(random()))*cos(2*PI*random())\", \"as\": \"jitter\"}, {\"filter\": \"(datum.fastest_trip === 1)\"}]}]}]}, \"resolve\": {\"scale\": {\"y\": \"shared\"}}, \"title\": \"Difference in Bus to Car Travel Time (min)\", \"$schema\": \"https://vega.github.io/schema/vega-lite/v4.17.0.json\", \"datasets\": {\"data-077be9d0f168e6627a05e0345958354d\": [{\"calitp_itp_id\": 212, \"trip_key\": 3090255030447947583, \"trip_id\": \"t_1392_b_489_tn_0\", \"shape_id\": \"p_288\", \"route_id\": \"350\", \"service_hours\": 0.92, \"trip_first_departure_ts\": 28500, \"trip_last_arrival_ts\": 31800, \"departure_hour\": 7, \"time_of_day\": \"AM Peak\", \"p25\": 0.92, \"p50\": 0.92, \"p75\": 0.92, \"p50_trip\": 1, \"fastest_trip\": 0, \"car_duration_hours\": 0.73, \"competitive_route\": 1, \"bus_multiplier\": 1.26, \"bus_difference\": 11.4, \"num_trips\": 6, \"num_competitive\": 6, \"pct_trips_competitive\": 1.0, \"bus_difference_spread\": 9.6, \"route_group\": \"medium\", \"max_trip_hrs\": 1.08, \"max_trip_route_group\": 1.08, \"below_cutoff\": 6, \"pct_below_cutoff\": 1.0, \"name\": \"Morongo Band of Mission Indians\", \"caltrans_district\": \"08 - San Bernardino\", \"drmt_organization_name\": null, \"route_name\": \"Yucca Valley - Palm Springs\", \"cutoff2\": 30, \"cutoff\": 0}, {\"calitp_itp_id\": 212, \"trip_key\": -7194114715627764428, \"trip_id\": \"t_1378_b_489_tn_0\", \"shape_id\": \"p_270\", \"route_id\": \"350\", \"service_hours\": 0.92, \"trip_first_departure_ts\": 60000, \"trip_last_arrival_ts\": 63300, \"departure_hour\": 16, \"time_of_day\": \"Midday\", \"p25\": 0.92, \"p50\": 0.92, \"p75\": 0.92, \"p50_trip\": 1, \"fastest_trip\": 0, \"car_duration_hours\": 0.73, \"competitive_route\": 1, \"bus_multiplier\": 1.26, \"bus_difference\": 11.4, \"num_trips\": 6, \"num_competitive\": 6, \"pct_trips_competitive\": 1.0, \"bus_difference_spread\": 9.6, \"route_group\": \"medium\", \"max_trip_hrs\": 1.08, \"max_trip_route_group\": 1.08, \"below_cutoff\": 6, \"pct_below_cutoff\": 1.0, \"name\": \"Morongo Band of Mission Indians\", \"caltrans_district\": \"08 - San Bernardino\", \"drmt_organization_name\": null, \"route_name\": \"Yucca Valley - Palm Springs\", \"cutoff2\": 30, \"cutoff\": 0}, {\"calitp_itp_id\": 212, \"trip_key\": -1982978580526997524, \"trip_id\": \"t_1377_b_489_tn_0\", \"shape_id\": \"p_270\", \"route_id\": \"350\", \"service_hours\": 0.92, \"trip_first_departure_ts\": 34800, \"trip_last_arrival_ts\": 38100, \"departure_hour\": 9, \"time_of_day\": \"AM Peak\", \"p25\": 0.92, \"p50\": 0.92, \"p75\": 0.92, \"p50_trip\": 1, \"fastest_trip\": 0, \"car_duration_hours\": 0.73, \"competitive_route\": 1, \"bus_multiplier\": 1.26, \"bus_difference\": 11.4, \"num_trips\": 6, \"num_competitive\": 6, \"pct_trips_competitive\": 1.0, \"bus_difference_spread\": 9.6, \"route_group\": \"medium\", \"max_trip_hrs\": 1.08, \"max_trip_route_group\": 1.08, \"below_cutoff\": 6, \"pct_below_cutoff\": 1.0, \"name\": \"Morongo Band of Mission Indians\", \"caltrans_district\": \"08 - San Bernardino\", \"drmt_organization_name\": null, \"route_name\": \"Yucca Valley - Palm Springs\", \"cutoff2\": 30, \"cutoff\": 0}, {\"calitp_itp_id\": 212, \"trip_key\": 4336152498001563059, \"trip_id\": \"t_1386_b_489_tn_0\", \"shape_id\": \"p_288\", \"route_id\": \"350\", \"service_hours\": 0.92, \"trip_first_departure_ts\": 63900, \"trip_last_arrival_ts\": 67200, \"departure_hour\": 17, \"time_of_day\": \"PM Peak\", \"p25\": 0.92, \"p50\": 0.92, \"p75\": 0.92, \"p50_trip\": 1, \"fastest_trip\": 1, \"car_duration_hours\": 0.73, \"competitive_route\": 1, \"bus_multiplier\": 1.26, \"bus_difference\": 11.4, \"num_trips\": 6, \"num_competitive\": 6, \"pct_trips_competitive\": 1.0, \"bus_difference_spread\": 9.6, \"route_group\": \"medium\", \"max_trip_hrs\": 1.08, \"max_trip_route_group\": 1.08, \"below_cutoff\": 6, \"pct_below_cutoff\": 1.0, \"name\": \"Morongo Band of Mission Indians\", \"caltrans_district\": \"08 - San Bernardino\", \"drmt_organization_name\": null, \"route_name\": \"Yucca Valley - Palm Springs\", \"cutoff2\": 30, \"cutoff\": 0}, {\"calitp_itp_id\": 212, \"trip_key\": 1121313051657293748, \"trip_id\": \"t_1376_b_489_tn_0\", \"shape_id\": \"p_270\", \"route_id\": \"350\", \"service_hours\": 0.92, \"trip_first_departure_ts\": 25200, \"trip_last_arrival_ts\": 28500, \"departure_hour\": 7, \"time_of_day\": \"AM Peak\", \"p25\": 0.92, \"p50\": 0.92, \"p75\": 0.92, \"p50_trip\": 1, \"fastest_trip\": 0, \"car_duration_hours\": 0.73, \"competitive_route\": 1, \"bus_multiplier\": 1.26, \"bus_difference\": 11.4, \"num_trips\": 6, \"num_competitive\": 6, \"pct_trips_competitive\": 1.0, \"bus_difference_spread\": 9.6, \"route_group\": \"medium\", \"max_trip_hrs\": 1.08, \"max_trip_route_group\": 1.08, \"below_cutoff\": 6, \"pct_below_cutoff\": 1.0, \"name\": \"Morongo Band of Mission Indians\", \"caltrans_district\": \"08 - San Bernardino\", \"drmt_organization_name\": null, \"route_name\": \"Yucca Valley - Palm Springs\", \"cutoff2\": 30, \"cutoff\": 0}, {\"calitp_itp_id\": 212, \"trip_key\": 4869777759681107014, \"trip_id\": \"t_1374_b_489_tn_0\", \"shape_id\": \"p_288\", \"route_id\": \"350\", \"service_hours\": 1.08, \"trip_first_departure_ts\": 38700, \"trip_last_arrival_ts\": 42600, \"departure_hour\": 10, \"time_of_day\": \"Midday\", \"p25\": 0.92, \"p50\": 0.92, \"p75\": 0.92, \"p50_trip\": 0, \"fastest_trip\": 0, \"car_duration_hours\": 0.73, \"competitive_route\": 1, \"bus_multiplier\": 1.48, \"bus_difference\": 21.0, \"num_trips\": 6, \"num_competitive\": 6, \"pct_trips_competitive\": 1.0, \"bus_difference_spread\": 9.6, \"route_group\": \"medium\", \"max_trip_hrs\": 1.08, \"max_trip_route_group\": 1.08, \"below_cutoff\": 6, \"pct_below_cutoff\": 1.0, \"name\": \"Morongo Band of Mission Indians\", \"caltrans_district\": \"08 - San Bernardino\", \"drmt_organization_name\": null, \"route_name\": \"Yucca Valley - Palm Springs\", \"cutoff2\": 30, \"cutoff\": 0}]}}, {\"mode\": \"vega-lite\"});\n",
       "</script>"
      ],
      "text/plain": [
       "alt.FacetChart(...)"
      ]
     },
     "metadata": {},
     "output_type": "display_data"
    },
    {
     "data": {
      "text/html": [
       "<h4>Route Stats</h4>"
      ],
      "text/plain": [
       "<IPython.core.display.HTML object>"
      ]
     },
     "metadata": {},
     "output_type": "display_data"
    },
    {
     "data": {
      "text/html": [
       "<style type=\"text/css\">\n",
       "#T_3618d th {\n",
       "  text-align: center;\n",
       "}\n",
       "#T_3618d_row0_col0, #T_3618d_row0_col1 {\n",
       "  text-align: left;\n",
       "}\n",
       "#T_3618d_row0_col2, #T_3618d_row0_col3, #T_3618d_row0_col5 {\n",
       "  text-align: center;\n",
       "}\n",
       "</style>\n",
       "<table id=\"T_3618d\">\n",
       "  <thead>\n",
       "    <tr>\n",
       "      <th id=\"T_3618d_level0_col0\" class=\"col_heading level0 col0\" >Route ID</th>\n",
       "      <th id=\"T_3618d_level0_col1\" class=\"col_heading level0 col1\" >Route Name</th>\n",
       "      <th id=\"T_3618d_level0_col2\" class=\"col_heading level0 col2\" ># trips</th>\n",
       "      <th id=\"T_3618d_level0_col3\" class=\"col_heading level0 col3\" >Daily Avg Freq (trips per hr)</th>\n",
       "      <th id=\"T_3618d_level0_col4\" class=\"col_heading level0 col4\" >25th, 50th, 75th ptile (hrs)</th>\n",
       "      <th id=\"T_3618d_level0_col5\" class=\"col_heading level0 col5\" >PM Peak Avg Freq (trips per hr)</th>\n",
       "    </tr>\n",
       "  </thead>\n",
       "  <tbody>\n",
       "    <tr>\n",
       "      <td id=\"T_3618d_row0_col0\" class=\"data row0 col0\" >350</td>\n",
       "      <td id=\"T_3618d_row0_col1\" class=\"data row0 col1\" >Yucca Valley - Palm Springs</td>\n",
       "      <td id=\"T_3618d_row0_col2\" class=\"data row0 col2\" >6</td>\n",
       "      <td id=\"T_3618d_row0_col3\" class=\"data row0 col3\" >0.25</td>\n",
       "      <td id=\"T_3618d_row0_col4\" class=\"data row0 col4\" >0.92, 0.92, 0.92</td>\n",
       "      <td id=\"T_3618d_row0_col5\" class=\"data row0 col5\" >0.33</td>\n",
       "    </tr>\n",
       "  </tbody>\n",
       "</table>\n"
      ],
      "text/plain": [
       "<IPython.core.display.HTML object>"
      ]
     },
     "metadata": {},
     "output_type": "display_data"
    }
   ],
   "source": [
    "route_group = \"medium\"\n",
    "try:\n",
    "    display_charts_for_route_group(df, route_group)\n",
    "except:\n",
    "    print(\"No routes meet this criteria.\")"
   ]
  },
  {
   "cell_type": "markdown",
   "id": "124b76d0-886c-4d03-92ac-f1bda3cda182",
   "metadata": {
    "papermill": {
     "duration": 0.019811,
     "end_time": "2022-05-12T19:47:02.770473",
     "exception": false,
     "start_time": "2022-05-12T19:47:02.750662",
     "status": "completed"
    },
    "tags": []
   },
   "source": [
    "### Long Routes (> 1.5 hrs)"
   ]
  },
  {
   "cell_type": "code",
   "execution_count": 16,
   "id": "ddc81b19-4c45-4c81-8b7a-5e0f394aa7a3",
   "metadata": {
    "execution": {
     "iopub.execute_input": "2022-05-12T19:47:02.817863Z",
     "iopub.status.busy": "2022-05-12T19:47:02.816980Z",
     "iopub.status.idle": "2022-05-12T19:47:02.830112Z",
     "shell.execute_reply": "2022-05-12T19:47:02.829224Z"
    },
    "jupyter": {
     "source_hidden": true
    },
    "papermill": {
     "duration": 0.037517,
     "end_time": "2022-05-12T19:47:02.832474",
     "exception": false,
     "start_time": "2022-05-12T19:47:02.794957",
     "status": "completed"
    },
    "tags": [
     "remove_input"
    ]
   },
   "outputs": [
    {
     "name": "stdout",
     "output_type": "stream",
     "text": [
      "No routes meet this criteria.\n"
     ]
    }
   ],
   "source": [
    "route_group = \"long\"\n",
    "try:\n",
    "    display_charts_for_route_group(df, route_group)\n",
    "except:\n",
    "    print(\"No routes meet this criteria.\")"
   ]
  },
  {
   "cell_type": "markdown",
   "id": "ace75b5f-0442-4fbe-aebd-6c3a13ae13a7",
   "metadata": {
    "papermill": {
     "duration": 0.019314,
     "end_time": "2022-05-12T19:47:02.873307",
     "exception": false,
     "start_time": "2022-05-12T19:47:02.853993",
     "status": "completed"
    },
    "tags": []
   },
   "source": [
    "### GTFS Real-Time Speedmaps"
   ]
  },
  {
   "cell_type": "code",
   "execution_count": 17,
   "id": "a0a114a1-e975-4027-9daf-50029f5ef59f",
   "metadata": {
    "execution": {
     "iopub.execute_input": "2022-05-12T19:47:02.918442Z",
     "iopub.status.busy": "2022-05-12T19:47:02.918095Z",
     "iopub.status.idle": "2022-05-12T19:47:02.939842Z",
     "shell.execute_reply": "2022-05-12T19:47:02.939224Z"
    },
    "jupyter": {
     "source_hidden": true
    },
    "papermill": {
     "duration": 0.044442,
     "end_time": "2022-05-12T19:47:02.941641",
     "exception": false,
     "start_time": "2022-05-12T19:47:02.897199",
     "status": "completed"
    },
    "tags": [
     "remove_input"
    ]
   },
   "outputs": [
    {
     "data": {
      "text/html": [
       "No GTFS RT data available."
      ],
      "text/plain": [
       "<IPython.core.display.HTML object>"
      ]
     },
     "metadata": {},
     "output_type": "display_data"
    }
   ],
   "source": [
    "RT_SITE_YAML = \"../portfolio/sites/rt.yml\"\n",
    "\n",
    "# Grab list of ITP IDs with GTFS RT speedmaps\n",
    "rt_itp_id = deploy_portfolio_yaml.check_if_rt_data_available(RT_SITE_YAML)\n",
    "\n",
    "# Construct the URL \n",
    "RT_URL = (\"https://analysis.calitp.org/rt/\"\n",
    "          f\"district_{district_number}-{district_name}/\"\n",
    "          f\"speedmaps__itp_id_{itp_id}.html\"\n",
    "         ) \n",
    "\n",
    "# If this ITP ID is found in RT analysis, give URL to that operator in analysis.calitp.org\n",
    "if itp_id in rt_itp_id:\n",
    "    display(HTML(f'''<a href={RT_URL}>GTFS RT speedmaps here.</a>'''))\n",
    "\n",
    "else:\n",
    "    display(HTML(\"No GTFS RT data available.\"))"
   ]
  },
  {
   "cell_type": "code",
   "execution_count": null,
   "id": "5b680565-2230-4f2e-817c-718fad48d64c",
   "metadata": {
    "jupyter": {
     "source_hidden": true
    },
    "papermill": {
     "duration": 0.019657,
     "end_time": "2022-05-12T19:47:02.981995",
     "exception": false,
     "start_time": "2022-05-12T19:47:02.962338",
     "status": "completed"
    },
    "tags": [
     "remove_input"
    ]
   },
   "outputs": [],
   "source": []
  }
 ],
 "metadata": {
  "kernelspec": {
   "display_name": "Python 3 (ipykernel)",
   "language": "python",
   "name": "python3"
  },
  "language_info": {
   "codemirror_mode": {
    "name": "ipython",
    "version": 3
   },
   "file_extension": ".py",
   "mimetype": "text/x-python",
   "name": "python",
   "nbconvert_exporter": "python",
   "pygments_lexer": "ipython3",
   "version": "3.9.12"
  },
  "papermill": {
   "default_parameters": {},
   "duration": 38.376133,
   "end_time": "2022-05-12T19:47:04.238565",
   "environment_variables": {},
   "exception": null,
   "input_path": "bus_service_increase/competitive-parallel-routes.ipynb",
   "output_path": "portfolio/parallel_corridors/district_08-san-bernardino/3__competitive-parallel-routes__district_08-san-bernardino__itp_id_212.ipynb",
   "parameters": {
    "district": "08 - San Bernardino",
    "itp_id": 212
   },
   "start_time": "2022-05-12T19:46:25.862432",
   "version": "2.3.4"
  }
 },
 "nbformat": 4,
 "nbformat_minor": 5
}