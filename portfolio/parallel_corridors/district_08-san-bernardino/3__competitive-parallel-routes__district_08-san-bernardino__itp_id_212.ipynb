{
 "cells": [
  {
   "cell_type": "code",
   "execution_count": 1,
   "id": "95d00857-6a20-4529-a519-2cc7182928a9",
   "metadata": {
    "execution": {
     "iopub.execute_input": "2022-05-12T02:36:18.654084Z",
     "iopub.status.busy": "2022-05-12T02:36:18.653444Z",
     "iopub.status.idle": "2022-05-12T02:36:27.073140Z",
     "shell.execute_reply": "2022-05-12T02:36:27.072283Z"
    },
    "jupyter": {
     "source_hidden": true
    },
    "papermill": {
     "duration": 8.437161,
     "end_time": "2022-05-12T02:36:27.075748",
     "exception": false,
     "start_time": "2022-05-12T02:36:18.638587",
     "status": "completed"
    },
    "tags": [
     "remove_input"
    ]
   },
   "outputs": [],
   "source": [
    "%%capture\n",
    "import warnings\n",
    "warnings.filterwarnings('ignore')\n",
    "\n",
    "import altair as alt\n",
    "import calitp.magics\n",
    "import geopandas as gpd\n",
    "import intake\n",
    "import pandas as pd\n",
    "\n",
    "from IPython.display import display, Markdown, HTML\n",
    "\n",
    "import parallel_corridors_utils\n",
    "import deploy_portfolio_yaml\n",
    "from shared_utils import styleguide, geography_utils\n",
    "from make_stripplot_data import diff_cutoffs\n",
    "\n",
    "catalog = intake.open_catalog(\"./*.yml\")\n",
    "alt.renderers.enable(\"html\")"
   ]
  },
  {
   "cell_type": "code",
   "execution_count": 2,
   "id": "8af2a0c1-f3da-408d-9bea-11d9fbf8695d",
   "metadata": {
    "execution": {
     "iopub.execute_input": "2022-05-12T02:36:27.102885Z",
     "iopub.status.busy": "2022-05-12T02:36:27.102612Z",
     "iopub.status.idle": "2022-05-12T02:36:27.107947Z",
     "shell.execute_reply": "2022-05-12T02:36:27.106934Z"
    },
    "jupyter": {
     "source_hidden": true
    },
    "papermill": {
     "duration": 0.021482,
     "end_time": "2022-05-12T02:36:27.109872",
     "exception": false,
     "start_time": "2022-05-12T02:36:27.088390",
     "status": "completed"
    },
    "tags": [
     "parameters",
     "remove_input"
    ]
   },
   "outputs": [],
   "source": [
    "# parameters cell\n",
    "itp_id = 182"
   ]
  },
  {
   "cell_type": "code",
   "execution_count": 3,
   "id": "8bab8c5e",
   "metadata": {
    "execution": {
     "iopub.execute_input": "2022-05-12T02:36:27.136023Z",
     "iopub.status.busy": "2022-05-12T02:36:27.135788Z",
     "iopub.status.idle": "2022-05-12T02:36:27.139365Z",
     "shell.execute_reply": "2022-05-12T02:36:27.138596Z"
    },
    "jupyter": {
     "source_hidden": true
    },
    "papermill": {
     "duration": 0.019108,
     "end_time": "2022-05-12T02:36:27.141142",
     "exception": false,
     "start_time": "2022-05-12T02:36:27.122034",
     "status": "completed"
    },
    "tags": [
     "injected-parameters",
     "remove_input"
    ]
   },
   "outputs": [],
   "source": [
    "# Parameters\n",
    "district = \"08 - San Bernardino\"\n",
    "itp_id = 212\n"
   ]
  },
  {
   "cell_type": "code",
   "execution_count": 4,
   "id": "9582aaf4-79ff-412a-b248-8d8d693ebd4f",
   "metadata": {
    "execution": {
     "iopub.execute_input": "2022-05-12T02:36:27.166490Z",
     "iopub.status.busy": "2022-05-12T02:36:27.165956Z",
     "iopub.status.idle": "2022-05-12T02:36:28.410605Z",
     "shell.execute_reply": "2022-05-12T02:36:28.409829Z"
    },
    "jupyter": {
     "source_hidden": true
    },
    "papermill": {
     "duration": 1.260198,
     "end_time": "2022-05-12T02:36:28.413223",
     "exception": false,
     "start_time": "2022-05-12T02:36:27.153025",
     "status": "completed"
    },
    "tags": [
     "remove_input"
    ]
   },
   "outputs": [],
   "source": [
    "df = catalog.competitive_route_variability.read()\n",
    "\n",
    "df = (df[(df.calitp_itp_id == itp_id) & \n",
    "         (df.route_group.notna())]\n",
    "      .rename(columns = {\"route_name_used\": \"route_name\"})\n",
    "      .reset_index(drop=True)\n",
    "     )\n",
    "\n",
    "if itp_id == 182:\n",
    "    df = df.assign(\n",
    "        route_id = df.route_id.str.replace('-13153', '').astype(int)\n",
    "    )"
   ]
  },
  {
   "cell_type": "code",
   "execution_count": 5,
   "id": "33ac4b06-f647-4dce-a625-8f2c1b37cc60",
   "metadata": {
    "execution": {
     "iopub.execute_input": "2022-05-12T02:36:28.440371Z",
     "iopub.status.busy": "2022-05-12T02:36:28.439712Z",
     "iopub.status.idle": "2022-05-12T02:36:28.447594Z",
     "shell.execute_reply": "2022-05-12T02:36:28.446734Z"
    },
    "jupyter": {
     "source_hidden": true
    },
    "papermill": {
     "duration": 0.024495,
     "end_time": "2022-05-12T02:36:28.450424",
     "exception": false,
     "start_time": "2022-05-12T02:36:28.425929",
     "status": "completed"
    },
    "tags": [
     "remove_input"
    ]
   },
   "outputs": [],
   "source": [
    "%%capture_parameters\n",
    "operator_name = df.name.iloc[0]\n",
    "district_number = f\"{df.caltrans_district.iloc[0].split('-')[0].strip()}\"\n",
    "district_name = f\"{df.caltrans_district.iloc[0].split('-')[1].strip().lower().replace(' ', '-')}\"\n",
    "\n",
    "itp_id, operator_name, district_number, district_name"
   ]
  },
  {
   "cell_type": "markdown",
   "id": "65bc6f5c-8348-42ee-b2dd-52057c406852",
   "metadata": {
    "papermill": {
     "duration": 0.01264,
     "end_time": "2022-05-12T02:36:28.475074",
     "exception": false,
     "start_time": "2022-05-12T02:36:28.462434",
     "status": "completed"
    },
    "tags": []
   },
   "source": [
    "# Morongo Band of Mission Indians (ITP ID: 212)"
   ]
  },
  {
   "cell_type": "code",
   "execution_count": 6,
   "id": "a689c1ab-2c6c-4831-8d64-897f5986f571",
   "metadata": {
    "execution": {
     "iopub.execute_input": "2022-05-12T02:36:28.502873Z",
     "iopub.status.busy": "2022-05-12T02:36:28.502080Z",
     "iopub.status.idle": "2022-05-12T02:36:28.509155Z",
     "shell.execute_reply": "2022-05-12T02:36:28.508252Z"
    },
    "jupyter": {
     "source_hidden": true
    },
    "papermill": {
     "duration": 0.022597,
     "end_time": "2022-05-12T02:36:28.511023",
     "exception": false,
     "start_time": "2022-05-12T02:36:28.488426",
     "status": "completed"
    },
    "tags": [
     "remove_input"
    ]
   },
   "outputs": [
    {
     "data": {
      "text/html": [
       "<h1>Competitive & Parallel Routes</h1>"
      ],
      "text/plain": [
       "<IPython.core.display.HTML object>"
      ]
     },
     "metadata": {},
     "output_type": "display_data"
    }
   ],
   "source": [
    "display(HTML(\"<h1>Competitive & Parallel Routes</h1>\")) "
   ]
  },
  {
   "cell_type": "code",
   "execution_count": 7,
   "id": "2cb4d8d5-4760-40e4-85b1-cb833d8bb648",
   "metadata": {
    "execution": {
     "iopub.execute_input": "2022-05-12T02:36:28.537498Z",
     "iopub.status.busy": "2022-05-12T02:36:28.537225Z",
     "iopub.status.idle": "2022-05-12T02:36:38.608446Z",
     "shell.execute_reply": "2022-05-12T02:36:38.607649Z"
    },
    "jupyter": {
     "source_hidden": true
    },
    "papermill": {
     "duration": 10.087327,
     "end_time": "2022-05-12T02:36:38.610819",
     "exception": false,
     "start_time": "2022-05-12T02:36:28.523492",
     "status": "completed"
    },
    "tags": [
     "remove_input"
    ]
   },
   "outputs": [],
   "source": [
    "# Grab parameters for narrative text - clean up formatting here \n",
    "district = df.caltrans_district.iloc[0]\n",
    "formatted_date = pd.to_datetime(parallel_corridors_utils.SELECTED_DATE).strftime('%m-%d-%Y')\n",
    "\n",
    "PCT_COMPETITIVE_THRESHOLD = 0.75\n",
    "PCT_TRIPS_BELOW_CUTOFF = 0.50\n",
    "\n",
    "stats = parallel_corridors_utils.operator_parallel_competitive_stats(\n",
    "    itp_id, PCT_COMPETITIVE_THRESHOLD, PCT_TRIPS_BELOW_CUTOFF)\n",
    "\n",
    "pct_parallel = round(stats['parallel_routes'] / stats['num_routes'] * 100, 1 )\n",
    "pct_competitive =  round(stats['competitive_routes'] / stats['num_routes'] * 100, 1 )\n",
    "pct_viable =  round(stats['viable_competitive_routes'] / stats['num_routes'] * 100, 1 )"
   ]
  },
  {
   "cell_type": "code",
   "execution_count": 8,
   "id": "8bf30c8f-6aa5-47bb-82ae-a906732e81fd",
   "metadata": {
    "execution": {
     "iopub.execute_input": "2022-05-12T02:36:38.642269Z",
     "iopub.status.busy": "2022-05-12T02:36:38.641974Z",
     "iopub.status.idle": "2022-05-12T02:36:38.672892Z",
     "shell.execute_reply": "2022-05-12T02:36:38.672031Z"
    },
    "jupyter": {
     "source_hidden": true
    },
    "papermill": {
     "duration": 0.049686,
     "end_time": "2022-05-12T02:36:38.674861",
     "exception": false,
     "start_time": "2022-05-12T02:36:38.625175",
     "status": "completed"
    },
    "tags": [
     "remove_input"
    ]
   },
   "outputs": [],
   "source": [
    "# Display a table of route-level stats for each route_group\n",
    "# Displaying route_name makes chart too crowded\n",
    "\n",
    "# Get route stats (for entire df)\n",
    "route_stats = parallel_corridors_utils.competitive_route_level_stats(df)\n",
    "    \n",
    "def style_route_stats(df, top15_routes):\n",
    "    df = df[df.route_id.isin(top15_routes)]\n",
    "    \n",
    "    # Rename columns for display\n",
    "    rename_cols = {\n",
    "        \"route_id\": \"Route ID\",\n",
    "        \"route_name\": \"Route Name\",\n",
    "        \"route_group\": \"Route Group\",\n",
    "        \"num_trips\": \"# trips\",\n",
    "        \"daily_avg_freq\": \"Daily Avg Freq (trips per hr)\",\n",
    "        \"pm_peak_freq\": \"PM Peak Avg Freq (trips per hr)\",\n",
    "        \"percentiles\": \"25th, 50th, 75th ptile (hrs)\",\n",
    "    }\n",
    "    \n",
    "    # Style it\n",
    "    drop_cols = [\n",
    "        \"calitp_itp_id\", \"below_cutoff\", \"route_group\", \n",
    "        \"pct_trips_competitive\", \"pct_below_cutoff\",\n",
    "        \"p25\", \"p50\", \"p75\",\n",
    "    ]\n",
    "    \n",
    "    # Change alignment for some columns\n",
    "    # https://stackoverflow.com/questions/59453091/left-align-the-first-column-and-center-align-the-other-columns-in-a-pandas-table\n",
    "    df_style = (df.sort_values(\n",
    "        [\"pct_trips_competitive\", \"below_cutoff\", \n",
    "        \"pct_below_cutoff\", \"route_id\"], \n",
    "        ascending=[False, False, False, True])\n",
    "           .drop(columns = drop_cols)\n",
    "           .rename(columns = rename_cols)\n",
    "           .style.format(\n",
    "               subset=['Daily Avg Freq (trips per hr)', \n",
    "                       'PM Peak Avg Freq (trips per hr)'], \n",
    "               **{'formatter': '{:,.3}'})\n",
    "                .set_properties(subset=['Route ID', 'Route Name'], \n",
    "                                **{'text-align': 'left'})\n",
    "                .set_properties(subset=['# trips', 'Daily Avg Freq (trips per hr)', \n",
    "                                       'PM Peak Avg Freq (trips per hr)'], \n",
    "                               **{'text-align': 'center'})\n",
    "                .set_table_styles([dict(selector='th', \n",
    "                                        props=[('text-align', 'center')])\n",
    "                                        ])\n",
    "           .hide(axis=\"index\")\n",
    "           .to_html()\n",
    "          )\n",
    "    \n",
    "    display(HTML(\"<h4>Route Stats</h4>\"))\n",
    "    display(HTML(df_style))"
   ]
  },
  {
   "cell_type": "markdown",
   "id": "ab667928-5274-4490-82d9-4c39293209a4",
   "metadata": {
    "papermill": {
     "duration": 0.013236,
     "end_time": "2022-05-12T02:36:38.707777",
     "exception": false,
     "start_time": "2022-05-12T02:36:38.694541",
     "status": "completed"
    },
    "tags": []
   },
   "source": [
    "## Quick Stats"
   ]
  },
  {
   "cell_type": "code",
   "execution_count": 9,
   "id": "0416509d-dc62-4165-b62e-64f8b26e8b8e",
   "metadata": {
    "execution": {
     "iopub.execute_input": "2022-05-12T02:36:38.735695Z",
     "iopub.status.busy": "2022-05-12T02:36:38.735420Z",
     "iopub.status.idle": "2022-05-12T02:36:38.743545Z",
     "shell.execute_reply": "2022-05-12T02:36:38.743053Z"
    },
    "jupyter": {
     "source_hidden": true
    },
    "papermill": {
     "duration": 0.024004,
     "end_time": "2022-05-12T02:36:38.745202",
     "exception": false,
     "start_time": "2022-05-12T02:36:38.721198",
     "status": "completed"
    },
    "tags": [
     "remove_input"
    ]
   },
   "outputs": [
    {
     "data": {
      "text/markdown": [
       "**Bus routes in service: 7**<br>**Parallel routes** to State Highway Network (SHN): **6 routes (85.7%)**<br>**Competitive routes** against car travel (within 2x car travel time): **4 routes (57.1%)**<br>**Viable competitive routes** against car travel (within 2x car travel time and within 20, 30, or 40 min cut-off): **3 routes (42.9%)**"
      ],
      "text/plain": [
       "<IPython.core.display.Markdown object>"
      ]
     },
     "metadata": {},
     "output_type": "display_data"
    }
   ],
   "source": [
    "display(\n",
    "    Markdown(\n",
    "        f\"**Bus routes in service: {stats['num_routes']}**\"\n",
    "        \"<br>**Parallel routes** to State Highway Network (SHN): \"\n",
    "        f\"**{stats['parallel_routes']} routes ({pct_parallel}%)**\"\n",
    "        \"<br>**Competitive routes** against car travel (within 2x car travel time): \"\n",
    "        f\"**{stats['competitive_routes']} routes ({pct_competitive}%)**\"\n",
    "        \"<br>**Viable competitive routes** against car travel \"\n",
    "        \"(within 2x car travel time and within 20, 30, or 40 min cut-off): \"\n",
    "        f\"**{stats['viable_competitive_routes']} routes ({pct_viable}%)**\"\n",
    "    )\n",
    ")"
   ]
  },
  {
   "cell_type": "code",
   "execution_count": 10,
   "id": "f9d6ab58-f0ee-460c-b6de-657490e1f386",
   "metadata": {
    "execution": {
     "iopub.execute_input": "2022-05-12T02:36:38.774906Z",
     "iopub.status.busy": "2022-05-12T02:36:38.774056Z",
     "iopub.status.idle": "2022-05-12T02:36:38.780777Z",
     "shell.execute_reply": "2022-05-12T02:36:38.779896Z"
    },
    "jupyter": {
     "source_hidden": true
    },
    "papermill": {
     "duration": 0.023613,
     "end_time": "2022-05-12T02:36:38.782635",
     "exception": false,
     "start_time": "2022-05-12T02:36:38.759022",
     "status": "completed"
    },
    "tags": [
     "remove_input"
    ]
   },
   "outputs": [],
   "source": [
    "def set_yaxis_range(df, y_col):\n",
    "    Y_MIN = df[y_col].min()\n",
    "    Y_MAX = df[y_col].max()\n",
    "    \n",
    "    return Y_MIN, Y_MAX\n",
    "\n",
    "# Rather than set it according to the operator, which can vary,\n",
    "# just use set thresholds for each group\n",
    "def top15_routes(df, route_group):\n",
    "    # grab top 15 routes where majority of trips are below that cut-off \n",
    "    # but show 15 max, otherwise, show less, since these won't be as interesting to operators\n",
    "    df2 = (df[(df.route_group==route_group) &\n",
    "              (df.pct_below_cutoff >= PCT_TRIPS_BELOW_CUTOFF)]\n",
    "           .sort_values([\"calitp_itp_id\", \"below_cutoff\", \n",
    "                         \"pct_below_cutoff\", \"route_id\"],\n",
    "                        ascending = [True, False, False, True]\n",
    "                       )\n",
    "           .drop_duplicates(subset=[\"calitp_itp_id\", \"route_id\"])\n",
    "          ).head(15)\n",
    "    \n",
    "    return list(df2.route_id)"
   ]
  },
  {
   "cell_type": "code",
   "execution_count": 11,
   "id": "cf36d559-3349-4144-8086-8ac9ce937a5a",
   "metadata": {
    "execution": {
     "iopub.execute_input": "2022-05-12T02:36:38.815804Z",
     "iopub.status.busy": "2022-05-12T02:36:38.815538Z",
     "iopub.status.idle": "2022-05-12T02:36:38.821846Z",
     "shell.execute_reply": "2022-05-12T02:36:38.821164Z"
    },
    "jupyter": {
     "source_hidden": true
    },
    "papermill": {
     "duration": 0.023126,
     "end_time": "2022-05-12T02:36:38.823726",
     "exception": false,
     "start_time": "2022-05-12T02:36:38.800600",
     "status": "completed"
    },
    "tags": [
     "remove_input"
    ]
   },
   "outputs": [],
   "source": [
    "def caption_with_cutoff(cutoff):\n",
    "    sentence = (\n",
    "        f\"<br>These are routes that have **at least {int(PCT_TRIPS_BELOW_CUTOFF*100)}% \"\n",
    "        \"of their trips take no more than an \"\n",
    "        f\"additional {cutoff} min** compared to a car \"\n",
    "        \"(up to 15 routes) are shown.\"\n",
    "        \"<br>Within each route group, routes are sorted in descending order \"\n",
    "        \"by % competitive trips and # trips below the additional time cut-off.\"\n",
    "    )\n",
    "    return sentence\n",
    "\n",
    "CAPTIONS_DICT = {\n",
    "    \"short\": caption_with_cutoff(diff_cutoffs['short']),\n",
    "    \"medium\": caption_with_cutoff(diff_cutoffs['medium']),\n",
    "    \"long\": caption_with_cutoff(diff_cutoffs['long']),\n",
    "}"
   ]
  },
  {
   "cell_type": "code",
   "execution_count": 12,
   "id": "e4306d58-6944-47e9-afef-5d5b524c751f",
   "metadata": {
    "execution": {
     "iopub.execute_input": "2022-05-12T02:36:38.853384Z",
     "iopub.status.busy": "2022-05-12T02:36:38.852411Z",
     "iopub.status.idle": "2022-05-12T02:36:38.859272Z",
     "shell.execute_reply": "2022-05-12T02:36:38.858716Z"
    },
    "jupyter": {
     "source_hidden": true
    },
    "papermill": {
     "duration": 0.023461,
     "end_time": "2022-05-12T02:36:38.860845",
     "exception": false,
     "start_time": "2022-05-12T02:36:38.837384",
     "status": "completed"
    },
    "tags": [
     "remove_input"
    ]
   },
   "outputs": [],
   "source": [
    "def setup_charts(df, PCT_COMPETITIVE_THRESHOLD, route_group):\n",
    "    # Set up df for charting (cut-off at some threshold to show most competitive routes)\n",
    "    plot_me = (df[df.pct_trips_competitive > PCT_COMPETITIVE_THRESHOLD]\n",
    "           .drop(columns = \"geometry\")\n",
    "    )\n",
    "    \n",
    "    # Set y-ranges to be the same across route_groups, \n",
    "    # otherwise charts fluctuate too much, even within operator\n",
    "    y_col1 = \"bus_multiplier\"\n",
    "    Y_MIN1, Y_MAX1 = set_yaxis_range(plot_me, y_col1)\n",
    "\n",
    "    y_col2 = \"bus_difference\"\n",
    "    Y_MIN2, Y_MAX2 = set_yaxis_range(plot_me, y_col2)\n",
    "    \n",
    "    # Grab the routes to plot\n",
    "    subset_routes = top15_routes(plot_me, route_group)\n",
    "        \n",
    "    # Display charts\n",
    "    multiplier_chart = parallel_corridors_utils.make_stripplot(\n",
    "        plot_me[plot_me.route_id.isin(subset_routes)], \n",
    "        y_col1, Y_MIN = Y_MIN1, Y_MAX = Y_MAX1\n",
    "    )\n",
    "    \n",
    "    difference_chart = parallel_corridors_utils.make_stripplot(\n",
    "        plot_me[plot_me.route_id.isin(subset_routes)], \n",
    "        y_col2, Y_MIN = Y_MIN2, Y_MAX = Y_MAX2\n",
    "    )\n",
    "    \n",
    "    return subset_routes, multiplier_chart, difference_chart            "
   ]
  },
  {
   "cell_type": "code",
   "execution_count": 13,
   "id": "33a710e8-504c-4942-aa75-ff69f216956e",
   "metadata": {
    "execution": {
     "iopub.execute_input": "2022-05-12T02:36:38.895026Z",
     "iopub.status.busy": "2022-05-12T02:36:38.894085Z",
     "iopub.status.idle": "2022-05-12T02:36:38.899785Z",
     "shell.execute_reply": "2022-05-12T02:36:38.899063Z"
    },
    "jupyter": {
     "source_hidden": true
    },
    "papermill": {
     "duration": 0.026586,
     "end_time": "2022-05-12T02:36:38.901513",
     "exception": false,
     "start_time": "2022-05-12T02:36:38.874927",
     "status": "completed"
    },
    "tags": [
     "remove_input"
    ]
   },
   "outputs": [],
   "source": [
    "def display_charts_for_route_group(df, route_group):    \n",
    "    subset_routes, mult, diff  = setup_charts(df, PCT_COMPETITIVE_THRESHOLD, route_group)\n",
    "\n",
    "    if len(subset_routes) > 0:\n",
    "        display(Markdown(f\"{CAPTIONS_DICT[route_group]}\"))\n",
    "\n",
    "        display(mult)\n",
    "        display(diff)\n",
    "        \n",
    "        # Display route stats for just plotted routes\n",
    "        style_route_stats(route_stats, subset_routes)"
   ]
  },
  {
   "cell_type": "markdown",
   "id": "525f9b38-072b-46d1-96a8-1aa4b038357c",
   "metadata": {
    "papermill": {
     "duration": 0.018353,
     "end_time": "2022-05-12T02:36:38.941395",
     "exception": false,
     "start_time": "2022-05-12T02:36:38.923042",
     "status": "completed"
    },
    "tags": []
   },
   "source": [
    "## Viable Competitive Routes\n",
    "### Short Routes (< 1 hr)"
   ]
  },
  {
   "cell_type": "code",
   "execution_count": 14,
   "id": "57f7084c-2cf7-45c6-ba08-1609e0bd6ca5",
   "metadata": {
    "execution": {
     "iopub.execute_input": "2022-05-12T02:36:39.005675Z",
     "iopub.status.busy": "2022-05-12T02:36:39.005398Z",
     "iopub.status.idle": "2022-05-12T02:36:39.278623Z",
     "shell.execute_reply": "2022-05-12T02:36:39.278157Z"
    },
    "jupyter": {
     "source_hidden": true
    },
    "papermill": {
     "duration": 0.300626,
     "end_time": "2022-05-12T02:36:39.290560",
     "exception": false,
     "start_time": "2022-05-12T02:36:38.989934",
     "status": "completed"
    },
    "tags": [
     "remove_input"
    ]
   },
   "outputs": [
    {
     "data": {
      "text/markdown": [
       "<br>These are routes that have **at least 50% of their trips take no more than an additional 20 min** compared to a car (up to 15 routes) are shown.<br>Within each route group, routes are sorted in descending order by % competitive trips and # trips below the additional time cut-off."
      ],
      "text/plain": [
       "<IPython.core.display.Markdown object>"
      ]
     },
     "metadata": {},
     "output_type": "display_data"
    },
    {
     "data": {
      "text/html": [
       "\n",
       "<div id=\"altair-viz-3a930e855d5444709ee5e34ae7ee06d7\"></div>\n",
       "<script type=\"text/javascript\">\n",
       "  var VEGA_DEBUG = (typeof VEGA_DEBUG == \"undefined\") ? {} : VEGA_DEBUG;\n",
       "  (function(spec, embedOpt){\n",
       "    let outputDiv = document.currentScript.previousElementSibling;\n",
       "    if (outputDiv.id !== \"altair-viz-3a930e855d5444709ee5e34ae7ee06d7\") {\n",
       "      outputDiv = document.getElementById(\"altair-viz-3a930e855d5444709ee5e34ae7ee06d7\");\n",
       "    }\n",
       "    const paths = {\n",
       "      \"vega\": \"https://cdn.jsdelivr.net/npm//vega@5?noext\",\n",
       "      \"vega-lib\": \"https://cdn.jsdelivr.net/npm//vega-lib?noext\",\n",
       "      \"vega-lite\": \"https://cdn.jsdelivr.net/npm//vega-lite@4.17.0?noext\",\n",
       "      \"vega-embed\": \"https://cdn.jsdelivr.net/npm//vega-embed@6?noext\",\n",
       "    };\n",
       "\n",
       "    function maybeLoadScript(lib, version) {\n",
       "      var key = `${lib.replace(\"-\", \"\")}_version`;\n",
       "      return (VEGA_DEBUG[key] == version) ?\n",
       "        Promise.resolve(paths[lib]) :\n",
       "        new Promise(function(resolve, reject) {\n",
       "          var s = document.createElement('script');\n",
       "          document.getElementsByTagName(\"head\")[0].appendChild(s);\n",
       "          s.async = true;\n",
       "          s.onload = () => {\n",
       "            VEGA_DEBUG[key] = version;\n",
       "            return resolve(paths[lib]);\n",
       "          };\n",
       "          s.onerror = () => reject(`Error loading script: ${paths[lib]}`);\n",
       "          s.src = paths[lib];\n",
       "        });\n",
       "    }\n",
       "\n",
       "    function showError(err) {\n",
       "      outputDiv.innerHTML = `<div class=\"error\" style=\"color:red;\">${err}</div>`;\n",
       "      throw err;\n",
       "    }\n",
       "\n",
       "    function displayChart(vegaEmbed) {\n",
       "      vegaEmbed(outputDiv, spec, embedOpt)\n",
       "        .catch(err => showError(`Javascript Error: ${err.message}<br>This usually means there's a typo in your chart specification. See the javascript console for the full traceback.`));\n",
       "    }\n",
       "\n",
       "    if(typeof define === \"function\" && define.amd) {\n",
       "      requirejs.config({paths});\n",
       "      require([\"vega-embed\"], displayChart, err => showError(`Error loading script: ${err.message}`));\n",
       "    } else {\n",
       "      maybeLoadScript(\"vega\", \"5\")\n",
       "        .then(() => maybeLoadScript(\"vega-lite\", \"4.17.0\"))\n",
       "        .then(() => maybeLoadScript(\"vega-embed\", \"6\"))\n",
       "        .catch(showError)\n",
       "        .then(() => displayChart(vegaEmbed));\n",
       "    }\n",
       "  })({\"config\": {\"view\": {\"continuousWidth\": 400, \"continuousHeight\": 300, \"stroke\": null}, \"facet\": {\"spacing\": 0}}, \"data\": {\"name\": \"data-f8f5d4afa53965367c0d1430c42bbf49\"}, \"facet\": {\"column\": {\"field\": \"route_id\", \"sort\": [\"347\"], \"title\": \"Route ID\", \"type\": \"nominal\"}}, \"spec\": {\"layer\": [{\"mark\": \"rule\", \"encoding\": {\"color\": {\"value\": \"black\"}, \"y\": {\"field\": \"cutoff\", \"type\": \"quantitative\"}}, \"selection\": {\"selector001\": {\"type\": \"interval\", \"bind\": \"scales\", \"encodings\": [\"x\", \"y\"]}}}, {\"mark\": {\"type\": \"point\", \"opacity\": 0.65, \"size\": 12, \"strokeWidth\": 1.1}, \"encoding\": {\"color\": {\"field\": \"time_of_day\", \"scale\": {\"range\": [\"#136C97\", \"#E16B26\", \"#F6BF16\", \"#00896B\", \"#7790A3\", \"#5B559C\"]}, \"sort\": [\"AM Peak\", \"Midday\", \"PM Peak\", \"Owl Service\"], \"title\": \"Time of Day\", \"type\": \"nominal\"}, \"tooltip\": [{\"field\": \"route_id\", \"type\": \"nominal\"}, {\"field\": \"route_name\", \"type\": \"nominal\"}, {\"field\": \"trip_id\", \"type\": \"nominal\"}, {\"field\": \"service_hours\", \"type\": \"quantitative\"}, {\"field\": \"car_duration_hours\", \"type\": \"quantitative\"}, {\"field\": \"bus_multiplier\", \"type\": \"quantitative\"}, {\"field\": \"bus_difference\", \"type\": \"quantitative\"}, {\"field\": \"num_trips\", \"type\": \"quantitative\"}, {\"field\": \"num_competitive\", \"type\": \"quantitative\"}, {\"field\": \"pct_trips_competitive\", \"type\": \"quantitative\"}, {\"field\": \"p25\", \"type\": \"quantitative\"}, {\"field\": \"p50\", \"type\": \"quantitative\"}, {\"field\": \"p75\", \"type\": \"quantitative\"}], \"x\": {\"axis\": {\"grid\": false, \"labels\": false, \"ticks\": true, \"values\": [0]}, \"field\": \"jitter\", \"scale\": {}, \"title\": null, \"type\": \"quantitative\"}, \"y\": {\"field\": \"bus_multiplier\", \"scale\": {\"domain\": [-0.25, 3.0]}, \"title\": \"Ratio of Bus to Car Travel Time\", \"type\": \"quantitative\"}}, \"transform\": [{\"calculate\": \"sqrt(-2*log(random()))*cos(2*PI*random())\", \"as\": \"jitter\"}], \"width\": 50}, {\"layer\": [{\"mark\": {\"type\": \"point\", \"opacity\": 0.6, \"size\": 20, \"strokeWidth\": 1.3}, \"encoding\": {\"color\": {\"value\": \"#323434\"}, \"y\": {\"field\": \"bus_multiplier\", \"type\": \"quantitative\"}}, \"transform\": [{\"filter\": \"(datum.p50_trip === 1)\"}]}, {\"mark\": {\"type\": \"text\", \"align\": \"center\", \"baseline\": \"middle\"}, \"encoding\": {\"color\": {\"value\": \"black\"}, \"text\": {\"field\": \"pct_trips_competitive\", \"format\": \".0%\", \"type\": \"quantitative\"}, \"tooltip\": [{\"field\": \"route_id\", \"type\": \"nominal\"}, {\"field\": \"route_name\", \"type\": \"nominal\"}, {\"field\": \"trip_id\", \"type\": \"nominal\"}, {\"field\": \"service_hours\", \"type\": \"quantitative\"}, {\"field\": \"car_duration_hours\", \"type\": \"quantitative\"}, {\"field\": \"bus_multiplier\", \"type\": \"quantitative\"}, {\"field\": \"bus_difference\", \"type\": \"quantitative\"}, {\"field\": \"num_trips\", \"type\": \"quantitative\"}, {\"field\": \"num_competitive\", \"type\": \"quantitative\"}, {\"field\": \"pct_trips_competitive\", \"type\": \"quantitative\"}, {\"field\": \"p25\", \"type\": \"quantitative\"}, {\"field\": \"p50\", \"type\": \"quantitative\"}, {\"field\": \"p75\", \"type\": \"quantitative\"}], \"x\": {\"value\": 30}, \"y\": {\"value\": 15}}, \"transform\": [{\"calculate\": \"sqrt(-2*log(random()))*cos(2*PI*random())\", \"as\": \"jitter\"}, {\"filter\": \"(datum.fastest_trip === 1)\"}]}]}]}, \"resolve\": {\"scale\": {\"y\": \"shared\"}}, \"title\": \"Ratio of Bus to Car Travel Time\", \"$schema\": \"https://vega.github.io/schema/vega-lite/v4.17.0.json\", \"datasets\": {\"data-f8f5d4afa53965367c0d1430c42bbf49\": [{\"calitp_itp_id\": 212, \"trip_key\": -50751044547860722, \"trip_id\": \"t_869617_b_489_tn_0\", \"shape_id\": \"p_273\", \"route_id\": \"347\", \"service_hours\": 0.83, \"trip_first_departure_ts\": 25200, \"trip_last_arrival_ts\": 28200, \"departure_hour\": 7, \"time_of_day\": \"AM Peak\", \"p25\": 0.83, \"p50\": 0.83, \"p75\": 0.83, \"p50_trip\": 1, \"fastest_trip\": 0, \"car_duration_hours\": 0.54, \"competitive_route\": 1, \"bus_multiplier\": 1.54, \"bus_difference\": 17.4, \"num_trips\": 11, \"num_competitive\": 11, \"pct_trips_competitive\": 1.0, \"bus_difference_spread\": 0.0, \"route_group\": \"short\", \"max_trip_hrs\": 0.83, \"max_trip_route_group\": 0.83, \"below_cutoff\": 11, \"pct_below_cutoff\": 1.0, \"name\": \"Morongo Band of Mission Indians\", \"caltrans_district\": \"08 - San Bernardino\", \"drmt_organization_name\": null, \"route_name\": \"34\", \"cutoff2\": 20, \"cutoff\": 2}, {\"calitp_itp_id\": 212, \"trip_key\": 6565985030843497917, \"trip_id\": \"t_869626_b_489_tn_0\", \"shape_id\": \"p_273\", \"route_id\": \"347\", \"service_hours\": 0.83, \"trip_first_departure_ts\": 57600, \"trip_last_arrival_ts\": 60600, \"departure_hour\": 16, \"time_of_day\": \"Midday\", \"p25\": 0.83, \"p50\": 0.83, \"p75\": 0.83, \"p50_trip\": 1, \"fastest_trip\": 0, \"car_duration_hours\": 0.54, \"competitive_route\": 1, \"bus_multiplier\": 1.54, \"bus_difference\": 17.4, \"num_trips\": 11, \"num_competitive\": 11, \"pct_trips_competitive\": 1.0, \"bus_difference_spread\": 0.0, \"route_group\": \"short\", \"max_trip_hrs\": 0.83, \"max_trip_route_group\": 0.83, \"below_cutoff\": 11, \"pct_below_cutoff\": 1.0, \"name\": \"Morongo Band of Mission Indians\", \"caltrans_district\": \"08 - San Bernardino\", \"drmt_organization_name\": null, \"route_name\": \"34\", \"cutoff2\": 20, \"cutoff\": 2}, {\"calitp_itp_id\": 212, \"trip_key\": -4816877801510912999, \"trip_id\": \"t_869625_b_489_tn_0\", \"shape_id\": \"p_273\", \"route_id\": \"347\", \"service_hours\": 0.83, \"trip_first_departure_ts\": 54000, \"trip_last_arrival_ts\": 57000, \"departure_hour\": 15, \"time_of_day\": \"Midday\", \"p25\": 0.83, \"p50\": 0.83, \"p75\": 0.83, \"p50_trip\": 1, \"fastest_trip\": 0, \"car_duration_hours\": 0.54, \"competitive_route\": 1, \"bus_multiplier\": 1.54, \"bus_difference\": 17.4, \"num_trips\": 11, \"num_competitive\": 11, \"pct_trips_competitive\": 1.0, \"bus_difference_spread\": 0.0, \"route_group\": \"short\", \"max_trip_hrs\": 0.83, \"max_trip_route_group\": 0.83, \"below_cutoff\": 11, \"pct_below_cutoff\": 1.0, \"name\": \"Morongo Band of Mission Indians\", \"caltrans_district\": \"08 - San Bernardino\", \"drmt_organization_name\": null, \"route_name\": \"34\", \"cutoff2\": 20, \"cutoff\": 2}, {\"calitp_itp_id\": 212, \"trip_key\": 134933156221590924, \"trip_id\": \"t_869618_b_489_tn_0\", \"shape_id\": \"p_273\", \"route_id\": \"347\", \"service_hours\": 0.83, \"trip_first_departure_ts\": 28800, \"trip_last_arrival_ts\": 31800, \"departure_hour\": 8, \"time_of_day\": \"AM Peak\", \"p25\": 0.83, \"p50\": 0.83, \"p75\": 0.83, \"p50_trip\": 1, \"fastest_trip\": 0, \"car_duration_hours\": 0.54, \"competitive_route\": 1, \"bus_multiplier\": 1.54, \"bus_difference\": 17.4, \"num_trips\": 11, \"num_competitive\": 11, \"pct_trips_competitive\": 1.0, \"bus_difference_spread\": 0.0, \"route_group\": \"short\", \"max_trip_hrs\": 0.83, \"max_trip_route_group\": 0.83, \"below_cutoff\": 11, \"pct_below_cutoff\": 1.0, \"name\": \"Morongo Band of Mission Indians\", \"caltrans_district\": \"08 - San Bernardino\", \"drmt_organization_name\": null, \"route_name\": \"34\", \"cutoff2\": 20, \"cutoff\": 2}, {\"calitp_itp_id\": 212, \"trip_key\": 6524374184765815018, \"trip_id\": \"t_869627_b_489_tn_0\", \"shape_id\": \"p_273\", \"route_id\": \"347\", \"service_hours\": 0.83, \"trip_first_departure_ts\": 61200, \"trip_last_arrival_ts\": 64200, \"departure_hour\": 17, \"time_of_day\": \"PM Peak\", \"p25\": 0.83, \"p50\": 0.83, \"p75\": 0.83, \"p50_trip\": 1, \"fastest_trip\": 1, \"car_duration_hours\": 0.54, \"competitive_route\": 1, \"bus_multiplier\": 1.54, \"bus_difference\": 17.4, \"num_trips\": 11, \"num_competitive\": 11, \"pct_trips_competitive\": 1.0, \"bus_difference_spread\": 0.0, \"route_group\": \"short\", \"max_trip_hrs\": 0.83, \"max_trip_route_group\": 0.83, \"below_cutoff\": 11, \"pct_below_cutoff\": 1.0, \"name\": \"Morongo Band of Mission Indians\", \"caltrans_district\": \"08 - San Bernardino\", \"drmt_organization_name\": null, \"route_name\": \"34\", \"cutoff2\": 20, \"cutoff\": 2}, {\"calitp_itp_id\": 212, \"trip_key\": 279715188915178658, \"trip_id\": \"t_869619_b_489_tn_0\", \"shape_id\": \"p_273\", \"route_id\": \"347\", \"service_hours\": 0.83, \"trip_first_departure_ts\": 32400, \"trip_last_arrival_ts\": 35400, \"departure_hour\": 9, \"time_of_day\": \"AM Peak\", \"p25\": 0.83, \"p50\": 0.83, \"p75\": 0.83, \"p50_trip\": 1, \"fastest_trip\": 0, \"car_duration_hours\": 0.54, \"competitive_route\": 1, \"bus_multiplier\": 1.54, \"bus_difference\": 17.4, \"num_trips\": 11, \"num_competitive\": 11, \"pct_trips_competitive\": 1.0, \"bus_difference_spread\": 0.0, \"route_group\": \"short\", \"max_trip_hrs\": 0.83, \"max_trip_route_group\": 0.83, \"below_cutoff\": 11, \"pct_below_cutoff\": 1.0, \"name\": \"Morongo Band of Mission Indians\", \"caltrans_district\": \"08 - San Bernardino\", \"drmt_organization_name\": null, \"route_name\": \"34\", \"cutoff2\": 20, \"cutoff\": 2}, {\"calitp_itp_id\": 212, \"trip_key\": 6246359231528304994, \"trip_id\": \"t_869624_b_489_tn_0\", \"shape_id\": \"p_273\", \"route_id\": \"347\", \"service_hours\": 0.83, \"trip_first_departure_ts\": 50400, \"trip_last_arrival_ts\": 53400, \"departure_hour\": 14, \"time_of_day\": \"Midday\", \"p25\": 0.83, \"p50\": 0.83, \"p75\": 0.83, \"p50_trip\": 1, \"fastest_trip\": 0, \"car_duration_hours\": 0.54, \"competitive_route\": 1, \"bus_multiplier\": 1.54, \"bus_difference\": 17.4, \"num_trips\": 11, \"num_competitive\": 11, \"pct_trips_competitive\": 1.0, \"bus_difference_spread\": 0.0, \"route_group\": \"short\", \"max_trip_hrs\": 0.83, \"max_trip_route_group\": 0.83, \"below_cutoff\": 11, \"pct_below_cutoff\": 1.0, \"name\": \"Morongo Band of Mission Indians\", \"caltrans_district\": \"08 - San Bernardino\", \"drmt_organization_name\": null, \"route_name\": \"34\", \"cutoff2\": 20, \"cutoff\": 2}, {\"calitp_itp_id\": 212, \"trip_key\": -7823840397146035109, \"trip_id\": \"t_869622_b_489_tn_0\", \"shape_id\": \"p_273\", \"route_id\": \"347\", \"service_hours\": 0.83, \"trip_first_departure_ts\": 43200, \"trip_last_arrival_ts\": 46200, \"departure_hour\": 12, \"time_of_day\": \"Midday\", \"p25\": 0.83, \"p50\": 0.83, \"p75\": 0.83, \"p50_trip\": 1, \"fastest_trip\": 0, \"car_duration_hours\": 0.54, \"competitive_route\": 1, \"bus_multiplier\": 1.54, \"bus_difference\": 17.4, \"num_trips\": 11, \"num_competitive\": 11, \"pct_trips_competitive\": 1.0, \"bus_difference_spread\": 0.0, \"route_group\": \"short\", \"max_trip_hrs\": 0.83, \"max_trip_route_group\": 0.83, \"below_cutoff\": 11, \"pct_below_cutoff\": 1.0, \"name\": \"Morongo Band of Mission Indians\", \"caltrans_district\": \"08 - San Bernardino\", \"drmt_organization_name\": null, \"route_name\": \"34\", \"cutoff2\": 20, \"cutoff\": 2}, {\"calitp_itp_id\": 212, \"trip_key\": 4418619400551468545, \"trip_id\": \"t_869623_b_489_tn_0\", \"shape_id\": \"p_273\", \"route_id\": \"347\", \"service_hours\": 0.83, \"trip_first_departure_ts\": 46800, \"trip_last_arrival_ts\": 49800, \"departure_hour\": 13, \"time_of_day\": \"Midday\", \"p25\": 0.83, \"p50\": 0.83, \"p75\": 0.83, \"p50_trip\": 1, \"fastest_trip\": 0, \"car_duration_hours\": 0.54, \"competitive_route\": 1, \"bus_multiplier\": 1.54, \"bus_difference\": 17.4, \"num_trips\": 11, \"num_competitive\": 11, \"pct_trips_competitive\": 1.0, \"bus_difference_spread\": 0.0, \"route_group\": \"short\", \"max_trip_hrs\": 0.83, \"max_trip_route_group\": 0.83, \"below_cutoff\": 11, \"pct_below_cutoff\": 1.0, \"name\": \"Morongo Band of Mission Indians\", \"caltrans_district\": \"08 - San Bernardino\", \"drmt_organization_name\": null, \"route_name\": \"34\", \"cutoff2\": 20, \"cutoff\": 2}, {\"calitp_itp_id\": 212, \"trip_key\": -2994078164148274936, \"trip_id\": \"t_869621_b_489_tn_0\", \"shape_id\": \"p_273\", \"route_id\": \"347\", \"service_hours\": 0.83, \"trip_first_departure_ts\": 39600, \"trip_last_arrival_ts\": 42600, \"departure_hour\": 11, \"time_of_day\": \"Midday\", \"p25\": 0.83, \"p50\": 0.83, \"p75\": 0.83, \"p50_trip\": 1, \"fastest_trip\": 0, \"car_duration_hours\": 0.54, \"competitive_route\": 1, \"bus_multiplier\": 1.54, \"bus_difference\": 17.4, \"num_trips\": 11, \"num_competitive\": 11, \"pct_trips_competitive\": 1.0, \"bus_difference_spread\": 0.0, \"route_group\": \"short\", \"max_trip_hrs\": 0.83, \"max_trip_route_group\": 0.83, \"below_cutoff\": 11, \"pct_below_cutoff\": 1.0, \"name\": \"Morongo Band of Mission Indians\", \"caltrans_district\": \"08 - San Bernardino\", \"drmt_organization_name\": null, \"route_name\": \"34\", \"cutoff2\": 20, \"cutoff\": 2}, {\"calitp_itp_id\": 212, \"trip_key\": -5509352696499390412, \"trip_id\": \"t_869620_b_489_tn_0\", \"shape_id\": \"p_273\", \"route_id\": \"347\", \"service_hours\": 0.83, \"trip_first_departure_ts\": 36000, \"trip_last_arrival_ts\": 39000, \"departure_hour\": 10, \"time_of_day\": \"Midday\", \"p25\": 0.83, \"p50\": 0.83, \"p75\": 0.83, \"p50_trip\": 1, \"fastest_trip\": 0, \"car_duration_hours\": 0.54, \"competitive_route\": 1, \"bus_multiplier\": 1.54, \"bus_difference\": 17.4, \"num_trips\": 11, \"num_competitive\": 11, \"pct_trips_competitive\": 1.0, \"bus_difference_spread\": 0.0, \"route_group\": \"short\", \"max_trip_hrs\": 0.83, \"max_trip_route_group\": 0.83, \"below_cutoff\": 11, \"pct_below_cutoff\": 1.0, \"name\": \"Morongo Band of Mission Indians\", \"caltrans_district\": \"08 - San Bernardino\", \"drmt_organization_name\": null, \"route_name\": \"34\", \"cutoff2\": 20, \"cutoff\": 2}]}}, {\"mode\": \"vega-lite\"});\n",
       "</script>"
      ],
      "text/plain": [
       "alt.FacetChart(...)"
      ]
     },
     "metadata": {},
     "output_type": "display_data"
    },
    {
     "data": {
      "text/html": [
       "\n",
       "<div id=\"altair-viz-ef31d97f789244ea9baae84b3d7f57bd\"></div>\n",
       "<script type=\"text/javascript\">\n",
       "  var VEGA_DEBUG = (typeof VEGA_DEBUG == \"undefined\") ? {} : VEGA_DEBUG;\n",
       "  (function(spec, embedOpt){\n",
       "    let outputDiv = document.currentScript.previousElementSibling;\n",
       "    if (outputDiv.id !== \"altair-viz-ef31d97f789244ea9baae84b3d7f57bd\") {\n",
       "      outputDiv = document.getElementById(\"altair-viz-ef31d97f789244ea9baae84b3d7f57bd\");\n",
       "    }\n",
       "    const paths = {\n",
       "      \"vega\": \"https://cdn.jsdelivr.net/npm//vega@5?noext\",\n",
       "      \"vega-lib\": \"https://cdn.jsdelivr.net/npm//vega-lib?noext\",\n",
       "      \"vega-lite\": \"https://cdn.jsdelivr.net/npm//vega-lite@4.17.0?noext\",\n",
       "      \"vega-embed\": \"https://cdn.jsdelivr.net/npm//vega-embed@6?noext\",\n",
       "    };\n",
       "\n",
       "    function maybeLoadScript(lib, version) {\n",
       "      var key = `${lib.replace(\"-\", \"\")}_version`;\n",
       "      return (VEGA_DEBUG[key] == version) ?\n",
       "        Promise.resolve(paths[lib]) :\n",
       "        new Promise(function(resolve, reject) {\n",
       "          var s = document.createElement('script');\n",
       "          document.getElementsByTagName(\"head\")[0].appendChild(s);\n",
       "          s.async = true;\n",
       "          s.onload = () => {\n",
       "            VEGA_DEBUG[key] = version;\n",
       "            return resolve(paths[lib]);\n",
       "          };\n",
       "          s.onerror = () => reject(`Error loading script: ${paths[lib]}`);\n",
       "          s.src = paths[lib];\n",
       "        });\n",
       "    }\n",
       "\n",
       "    function showError(err) {\n",
       "      outputDiv.innerHTML = `<div class=\"error\" style=\"color:red;\">${err}</div>`;\n",
       "      throw err;\n",
       "    }\n",
       "\n",
       "    function displayChart(vegaEmbed) {\n",
       "      vegaEmbed(outputDiv, spec, embedOpt)\n",
       "        .catch(err => showError(`Javascript Error: ${err.message}<br>This usually means there's a typo in your chart specification. See the javascript console for the full traceback.`));\n",
       "    }\n",
       "\n",
       "    if(typeof define === \"function\" && define.amd) {\n",
       "      requirejs.config({paths});\n",
       "      require([\"vega-embed\"], displayChart, err => showError(`Error loading script: ${err.message}`));\n",
       "    } else {\n",
       "      maybeLoadScript(\"vega\", \"5\")\n",
       "        .then(() => maybeLoadScript(\"vega-lite\", \"4.17.0\"))\n",
       "        .then(() => maybeLoadScript(\"vega-embed\", \"6\"))\n",
       "        .catch(showError)\n",
       "        .then(() => displayChart(vegaEmbed));\n",
       "    }\n",
       "  })({\"config\": {\"view\": {\"continuousWidth\": 400, \"continuousHeight\": 300, \"stroke\": null}, \"facet\": {\"spacing\": 0}}, \"data\": {\"name\": \"data-d6ea8ee937736bffd23a4c47f9f8c9ce\"}, \"facet\": {\"column\": {\"field\": \"route_id\", \"sort\": [\"347\"], \"title\": \"Route ID\", \"type\": \"nominal\"}}, \"spec\": {\"layer\": [{\"mark\": \"rule\", \"encoding\": {\"color\": {\"value\": \"black\"}, \"y\": {\"field\": \"cutoff\", \"type\": \"quantitative\"}}, \"selection\": {\"selector002\": {\"type\": \"interval\", \"bind\": \"scales\", \"encodings\": [\"x\", \"y\"]}}}, {\"mark\": {\"type\": \"rule\", \"strokeDash\": [3, 3]}, \"encoding\": {\"color\": {\"value\": \"#323434\"}, \"y\": {\"field\": \"cutoff2\", \"type\": \"quantitative\"}}}, {\"mark\": {\"type\": \"point\", \"opacity\": 0.65, \"size\": 12, \"strokeWidth\": 1.1}, \"encoding\": {\"color\": {\"field\": \"time_of_day\", \"scale\": {\"range\": [\"#136C97\", \"#E16B26\", \"#F6BF16\", \"#00896B\", \"#7790A3\", \"#5B559C\"]}, \"sort\": [\"AM Peak\", \"Midday\", \"PM Peak\", \"Owl Service\"], \"title\": \"Time of Day\", \"type\": \"nominal\"}, \"tooltip\": [{\"field\": \"route_id\", \"type\": \"nominal\"}, {\"field\": \"route_name\", \"type\": \"nominal\"}, {\"field\": \"trip_id\", \"type\": \"nominal\"}, {\"field\": \"service_hours\", \"type\": \"quantitative\"}, {\"field\": \"car_duration_hours\", \"type\": \"quantitative\"}, {\"field\": \"bus_multiplier\", \"type\": \"quantitative\"}, {\"field\": \"bus_difference\", \"type\": \"quantitative\"}, {\"field\": \"num_trips\", \"type\": \"quantitative\"}, {\"field\": \"num_competitive\", \"type\": \"quantitative\"}, {\"field\": \"pct_trips_competitive\", \"type\": \"quantitative\"}, {\"field\": \"p25\", \"type\": \"quantitative\"}, {\"field\": \"p50\", \"type\": \"quantitative\"}, {\"field\": \"p75\", \"type\": \"quantitative\"}], \"x\": {\"axis\": {\"grid\": false, \"labels\": false, \"ticks\": true, \"values\": [0]}, \"field\": \"jitter\", \"scale\": {}, \"title\": null, \"type\": \"quantitative\"}, \"y\": {\"field\": \"bus_difference\", \"scale\": {\"domain\": [-5, 42.0]}, \"title\": \"Difference in Bus to Car Travel Time (min)\", \"type\": \"quantitative\"}}, \"transform\": [{\"calculate\": \"sqrt(-2*log(random()))*cos(2*PI*random())\", \"as\": \"jitter\"}], \"width\": 50}, {\"layer\": [{\"mark\": {\"type\": \"point\", \"opacity\": 0.6, \"size\": 20, \"strokeWidth\": 1.3}, \"encoding\": {\"color\": {\"value\": \"#323434\"}, \"y\": {\"field\": \"bus_difference\", \"type\": \"quantitative\"}}, \"transform\": [{\"filter\": \"(datum.p50_trip === 1)\"}]}, {\"mark\": {\"type\": \"text\", \"align\": \"center\", \"baseline\": \"middle\"}, \"encoding\": {\"color\": {\"value\": \"black\"}, \"text\": {\"field\": \"pct_trips_competitive\", \"format\": \".0%\", \"type\": \"quantitative\"}, \"tooltip\": [{\"field\": \"route_id\", \"type\": \"nominal\"}, {\"field\": \"route_name\", \"type\": \"nominal\"}, {\"field\": \"trip_id\", \"type\": \"nominal\"}, {\"field\": \"service_hours\", \"type\": \"quantitative\"}, {\"field\": \"car_duration_hours\", \"type\": \"quantitative\"}, {\"field\": \"bus_multiplier\", \"type\": \"quantitative\"}, {\"field\": \"bus_difference\", \"type\": \"quantitative\"}, {\"field\": \"num_trips\", \"type\": \"quantitative\"}, {\"field\": \"num_competitive\", \"type\": \"quantitative\"}, {\"field\": \"pct_trips_competitive\", \"type\": \"quantitative\"}, {\"field\": \"p25\", \"type\": \"quantitative\"}, {\"field\": \"p50\", \"type\": \"quantitative\"}, {\"field\": \"p75\", \"type\": \"quantitative\"}], \"x\": {\"value\": 30}, \"y\": {\"value\": 15}}, \"transform\": [{\"calculate\": \"sqrt(-2*log(random()))*cos(2*PI*random())\", \"as\": \"jitter\"}, {\"filter\": \"(datum.fastest_trip === 1)\"}]}]}]}, \"resolve\": {\"scale\": {\"y\": \"shared\"}}, \"title\": \"Difference in Bus to Car Travel Time (min)\", \"$schema\": \"https://vega.github.io/schema/vega-lite/v4.17.0.json\", \"datasets\": {\"data-d6ea8ee937736bffd23a4c47f9f8c9ce\": [{\"calitp_itp_id\": 212, \"trip_key\": -50751044547860722, \"trip_id\": \"t_869617_b_489_tn_0\", \"shape_id\": \"p_273\", \"route_id\": \"347\", \"service_hours\": 0.83, \"trip_first_departure_ts\": 25200, \"trip_last_arrival_ts\": 28200, \"departure_hour\": 7, \"time_of_day\": \"AM Peak\", \"p25\": 0.83, \"p50\": 0.83, \"p75\": 0.83, \"p50_trip\": 1, \"fastest_trip\": 0, \"car_duration_hours\": 0.54, \"competitive_route\": 1, \"bus_multiplier\": 1.54, \"bus_difference\": 17.4, \"num_trips\": 11, \"num_competitive\": 11, \"pct_trips_competitive\": 1.0, \"bus_difference_spread\": 0.0, \"route_group\": \"short\", \"max_trip_hrs\": 0.83, \"max_trip_route_group\": 0.83, \"below_cutoff\": 11, \"pct_below_cutoff\": 1.0, \"name\": \"Morongo Band of Mission Indians\", \"caltrans_district\": \"08 - San Bernardino\", \"drmt_organization_name\": null, \"route_name\": \"34\", \"cutoff2\": 20, \"cutoff\": 0}, {\"calitp_itp_id\": 212, \"trip_key\": 6565985030843497917, \"trip_id\": \"t_869626_b_489_tn_0\", \"shape_id\": \"p_273\", \"route_id\": \"347\", \"service_hours\": 0.83, \"trip_first_departure_ts\": 57600, \"trip_last_arrival_ts\": 60600, \"departure_hour\": 16, \"time_of_day\": \"Midday\", \"p25\": 0.83, \"p50\": 0.83, \"p75\": 0.83, \"p50_trip\": 1, \"fastest_trip\": 0, \"car_duration_hours\": 0.54, \"competitive_route\": 1, \"bus_multiplier\": 1.54, \"bus_difference\": 17.4, \"num_trips\": 11, \"num_competitive\": 11, \"pct_trips_competitive\": 1.0, \"bus_difference_spread\": 0.0, \"route_group\": \"short\", \"max_trip_hrs\": 0.83, \"max_trip_route_group\": 0.83, \"below_cutoff\": 11, \"pct_below_cutoff\": 1.0, \"name\": \"Morongo Band of Mission Indians\", \"caltrans_district\": \"08 - San Bernardino\", \"drmt_organization_name\": null, \"route_name\": \"34\", \"cutoff2\": 20, \"cutoff\": 0}, {\"calitp_itp_id\": 212, \"trip_key\": -4816877801510912999, \"trip_id\": \"t_869625_b_489_tn_0\", \"shape_id\": \"p_273\", \"route_id\": \"347\", \"service_hours\": 0.83, \"trip_first_departure_ts\": 54000, \"trip_last_arrival_ts\": 57000, \"departure_hour\": 15, \"time_of_day\": \"Midday\", \"p25\": 0.83, \"p50\": 0.83, \"p75\": 0.83, \"p50_trip\": 1, \"fastest_trip\": 0, \"car_duration_hours\": 0.54, \"competitive_route\": 1, \"bus_multiplier\": 1.54, \"bus_difference\": 17.4, \"num_trips\": 11, \"num_competitive\": 11, \"pct_trips_competitive\": 1.0, \"bus_difference_spread\": 0.0, \"route_group\": \"short\", \"max_trip_hrs\": 0.83, \"max_trip_route_group\": 0.83, \"below_cutoff\": 11, \"pct_below_cutoff\": 1.0, \"name\": \"Morongo Band of Mission Indians\", \"caltrans_district\": \"08 - San Bernardino\", \"drmt_organization_name\": null, \"route_name\": \"34\", \"cutoff2\": 20, \"cutoff\": 0}, {\"calitp_itp_id\": 212, \"trip_key\": 134933156221590924, \"trip_id\": \"t_869618_b_489_tn_0\", \"shape_id\": \"p_273\", \"route_id\": \"347\", \"service_hours\": 0.83, \"trip_first_departure_ts\": 28800, \"trip_last_arrival_ts\": 31800, \"departure_hour\": 8, \"time_of_day\": \"AM Peak\", \"p25\": 0.83, \"p50\": 0.83, \"p75\": 0.83, \"p50_trip\": 1, \"fastest_trip\": 0, \"car_duration_hours\": 0.54, \"competitive_route\": 1, \"bus_multiplier\": 1.54, \"bus_difference\": 17.4, \"num_trips\": 11, \"num_competitive\": 11, \"pct_trips_competitive\": 1.0, \"bus_difference_spread\": 0.0, \"route_group\": \"short\", \"max_trip_hrs\": 0.83, \"max_trip_route_group\": 0.83, \"below_cutoff\": 11, \"pct_below_cutoff\": 1.0, \"name\": \"Morongo Band of Mission Indians\", \"caltrans_district\": \"08 - San Bernardino\", \"drmt_organization_name\": null, \"route_name\": \"34\", \"cutoff2\": 20, \"cutoff\": 0}, {\"calitp_itp_id\": 212, \"trip_key\": 6524374184765815018, \"trip_id\": \"t_869627_b_489_tn_0\", \"shape_id\": \"p_273\", \"route_id\": \"347\", \"service_hours\": 0.83, \"trip_first_departure_ts\": 61200, \"trip_last_arrival_ts\": 64200, \"departure_hour\": 17, \"time_of_day\": \"PM Peak\", \"p25\": 0.83, \"p50\": 0.83, \"p75\": 0.83, \"p50_trip\": 1, \"fastest_trip\": 1, \"car_duration_hours\": 0.54, \"competitive_route\": 1, \"bus_multiplier\": 1.54, \"bus_difference\": 17.4, \"num_trips\": 11, \"num_competitive\": 11, \"pct_trips_competitive\": 1.0, \"bus_difference_spread\": 0.0, \"route_group\": \"short\", \"max_trip_hrs\": 0.83, \"max_trip_route_group\": 0.83, \"below_cutoff\": 11, \"pct_below_cutoff\": 1.0, \"name\": \"Morongo Band of Mission Indians\", \"caltrans_district\": \"08 - San Bernardino\", \"drmt_organization_name\": null, \"route_name\": \"34\", \"cutoff2\": 20, \"cutoff\": 0}, {\"calitp_itp_id\": 212, \"trip_key\": 279715188915178658, \"trip_id\": \"t_869619_b_489_tn_0\", \"shape_id\": \"p_273\", \"route_id\": \"347\", \"service_hours\": 0.83, \"trip_first_departure_ts\": 32400, \"trip_last_arrival_ts\": 35400, \"departure_hour\": 9, \"time_of_day\": \"AM Peak\", \"p25\": 0.83, \"p50\": 0.83, \"p75\": 0.83, \"p50_trip\": 1, \"fastest_trip\": 0, \"car_duration_hours\": 0.54, \"competitive_route\": 1, \"bus_multiplier\": 1.54, \"bus_difference\": 17.4, \"num_trips\": 11, \"num_competitive\": 11, \"pct_trips_competitive\": 1.0, \"bus_difference_spread\": 0.0, \"route_group\": \"short\", \"max_trip_hrs\": 0.83, \"max_trip_route_group\": 0.83, \"below_cutoff\": 11, \"pct_below_cutoff\": 1.0, \"name\": \"Morongo Band of Mission Indians\", \"caltrans_district\": \"08 - San Bernardino\", \"drmt_organization_name\": null, \"route_name\": \"34\", \"cutoff2\": 20, \"cutoff\": 0}, {\"calitp_itp_id\": 212, \"trip_key\": 6246359231528304994, \"trip_id\": \"t_869624_b_489_tn_0\", \"shape_id\": \"p_273\", \"route_id\": \"347\", \"service_hours\": 0.83, \"trip_first_departure_ts\": 50400, \"trip_last_arrival_ts\": 53400, \"departure_hour\": 14, \"time_of_day\": \"Midday\", \"p25\": 0.83, \"p50\": 0.83, \"p75\": 0.83, \"p50_trip\": 1, \"fastest_trip\": 0, \"car_duration_hours\": 0.54, \"competitive_route\": 1, \"bus_multiplier\": 1.54, \"bus_difference\": 17.4, \"num_trips\": 11, \"num_competitive\": 11, \"pct_trips_competitive\": 1.0, \"bus_difference_spread\": 0.0, \"route_group\": \"short\", \"max_trip_hrs\": 0.83, \"max_trip_route_group\": 0.83, \"below_cutoff\": 11, \"pct_below_cutoff\": 1.0, \"name\": \"Morongo Band of Mission Indians\", \"caltrans_district\": \"08 - San Bernardino\", \"drmt_organization_name\": null, \"route_name\": \"34\", \"cutoff2\": 20, \"cutoff\": 0}, {\"calitp_itp_id\": 212, \"trip_key\": -7823840397146035109, \"trip_id\": \"t_869622_b_489_tn_0\", \"shape_id\": \"p_273\", \"route_id\": \"347\", \"service_hours\": 0.83, \"trip_first_departure_ts\": 43200, \"trip_last_arrival_ts\": 46200, \"departure_hour\": 12, \"time_of_day\": \"Midday\", \"p25\": 0.83, \"p50\": 0.83, \"p75\": 0.83, \"p50_trip\": 1, \"fastest_trip\": 0, \"car_duration_hours\": 0.54, \"competitive_route\": 1, \"bus_multiplier\": 1.54, \"bus_difference\": 17.4, \"num_trips\": 11, \"num_competitive\": 11, \"pct_trips_competitive\": 1.0, \"bus_difference_spread\": 0.0, \"route_group\": \"short\", \"max_trip_hrs\": 0.83, \"max_trip_route_group\": 0.83, \"below_cutoff\": 11, \"pct_below_cutoff\": 1.0, \"name\": \"Morongo Band of Mission Indians\", \"caltrans_district\": \"08 - San Bernardino\", \"drmt_organization_name\": null, \"route_name\": \"34\", \"cutoff2\": 20, \"cutoff\": 0}, {\"calitp_itp_id\": 212, \"trip_key\": 4418619400551468545, \"trip_id\": \"t_869623_b_489_tn_0\", \"shape_id\": \"p_273\", \"route_id\": \"347\", \"service_hours\": 0.83, \"trip_first_departure_ts\": 46800, \"trip_last_arrival_ts\": 49800, \"departure_hour\": 13, \"time_of_day\": \"Midday\", \"p25\": 0.83, \"p50\": 0.83, \"p75\": 0.83, \"p50_trip\": 1, \"fastest_trip\": 0, \"car_duration_hours\": 0.54, \"competitive_route\": 1, \"bus_multiplier\": 1.54, \"bus_difference\": 17.4, \"num_trips\": 11, \"num_competitive\": 11, \"pct_trips_competitive\": 1.0, \"bus_difference_spread\": 0.0, \"route_group\": \"short\", \"max_trip_hrs\": 0.83, \"max_trip_route_group\": 0.83, \"below_cutoff\": 11, \"pct_below_cutoff\": 1.0, \"name\": \"Morongo Band of Mission Indians\", \"caltrans_district\": \"08 - San Bernardino\", \"drmt_organization_name\": null, \"route_name\": \"34\", \"cutoff2\": 20, \"cutoff\": 0}, {\"calitp_itp_id\": 212, \"trip_key\": -2994078164148274936, \"trip_id\": \"t_869621_b_489_tn_0\", \"shape_id\": \"p_273\", \"route_id\": \"347\", \"service_hours\": 0.83, \"trip_first_departure_ts\": 39600, \"trip_last_arrival_ts\": 42600, \"departure_hour\": 11, \"time_of_day\": \"Midday\", \"p25\": 0.83, \"p50\": 0.83, \"p75\": 0.83, \"p50_trip\": 1, \"fastest_trip\": 0, \"car_duration_hours\": 0.54, \"competitive_route\": 1, \"bus_multiplier\": 1.54, \"bus_difference\": 17.4, \"num_trips\": 11, \"num_competitive\": 11, \"pct_trips_competitive\": 1.0, \"bus_difference_spread\": 0.0, \"route_group\": \"short\", \"max_trip_hrs\": 0.83, \"max_trip_route_group\": 0.83, \"below_cutoff\": 11, \"pct_below_cutoff\": 1.0, \"name\": \"Morongo Band of Mission Indians\", \"caltrans_district\": \"08 - San Bernardino\", \"drmt_organization_name\": null, \"route_name\": \"34\", \"cutoff2\": 20, \"cutoff\": 0}, {\"calitp_itp_id\": 212, \"trip_key\": -5509352696499390412, \"trip_id\": \"t_869620_b_489_tn_0\", \"shape_id\": \"p_273\", \"route_id\": \"347\", \"service_hours\": 0.83, \"trip_first_departure_ts\": 36000, \"trip_last_arrival_ts\": 39000, \"departure_hour\": 10, \"time_of_day\": \"Midday\", \"p25\": 0.83, \"p50\": 0.83, \"p75\": 0.83, \"p50_trip\": 1, \"fastest_trip\": 0, \"car_duration_hours\": 0.54, \"competitive_route\": 1, \"bus_multiplier\": 1.54, \"bus_difference\": 17.4, \"num_trips\": 11, \"num_competitive\": 11, \"pct_trips_competitive\": 1.0, \"bus_difference_spread\": 0.0, \"route_group\": \"short\", \"max_trip_hrs\": 0.83, \"max_trip_route_group\": 0.83, \"below_cutoff\": 11, \"pct_below_cutoff\": 1.0, \"name\": \"Morongo Band of Mission Indians\", \"caltrans_district\": \"08 - San Bernardino\", \"drmt_organization_name\": null, \"route_name\": \"34\", \"cutoff2\": 20, \"cutoff\": 0}]}}, {\"mode\": \"vega-lite\"});\n",
       "</script>"
      ],
      "text/plain": [
       "alt.FacetChart(...)"
      ]
     },
     "metadata": {},
     "output_type": "display_data"
    },
    {
     "data": {
      "text/html": [
       "<h4>Route Stats</h4>"
      ],
      "text/plain": [
       "<IPython.core.display.HTML object>"
      ]
     },
     "metadata": {},
     "output_type": "display_data"
    },
    {
     "data": {
      "text/html": [
       "<style type=\"text/css\">\n",
       "#T_2c728 th {\n",
       "  text-align: center;\n",
       "}\n",
       "#T_2c728_row0_col0, #T_2c728_row0_col1 {\n",
       "  text-align: left;\n",
       "}\n",
       "#T_2c728_row0_col2, #T_2c728_row0_col3, #T_2c728_row0_col5 {\n",
       "  text-align: center;\n",
       "}\n",
       "</style>\n",
       "<table id=\"T_2c728\">\n",
       "  <thead>\n",
       "    <tr>\n",
       "      <th id=\"T_2c728_level0_col0\" class=\"col_heading level0 col0\" >Route ID</th>\n",
       "      <th id=\"T_2c728_level0_col1\" class=\"col_heading level0 col1\" >Route Name</th>\n",
       "      <th id=\"T_2c728_level0_col2\" class=\"col_heading level0 col2\" ># trips</th>\n",
       "      <th id=\"T_2c728_level0_col3\" class=\"col_heading level0 col3\" >Daily Avg Freq (trips per hr)</th>\n",
       "      <th id=\"T_2c728_level0_col4\" class=\"col_heading level0 col4\" >25th, 50th, 75th ptile (hrs)</th>\n",
       "      <th id=\"T_2c728_level0_col5\" class=\"col_heading level0 col5\" >PM Peak Avg Freq (trips per hr)</th>\n",
       "    </tr>\n",
       "  </thead>\n",
       "  <tbody>\n",
       "    <tr>\n",
       "      <td id=\"T_2c728_row0_col0\" class=\"data row0 col0\" >347</td>\n",
       "      <td id=\"T_2c728_row0_col1\" class=\"data row0 col1\" >34</td>\n",
       "      <td id=\"T_2c728_row0_col2\" class=\"data row0 col2\" >11</td>\n",
       "      <td id=\"T_2c728_row0_col3\" class=\"data row0 col3\" >0.46</td>\n",
       "      <td id=\"T_2c728_row0_col4\" class=\"data row0 col4\" >0.83, 0.83, 0.83</td>\n",
       "      <td id=\"T_2c728_row0_col5\" class=\"data row0 col5\" >0.33</td>\n",
       "    </tr>\n",
       "  </tbody>\n",
       "</table>\n"
      ],
      "text/plain": [
       "<IPython.core.display.HTML object>"
      ]
     },
     "metadata": {},
     "output_type": "display_data"
    }
   ],
   "source": [
    "# Allow for possibility that operator doesn't have routes that fall into certain route_groups\n",
    "# But, jupyterbook will not like markdown with f-string\n",
    "# separate out route_group and put in each cell, and use try/except + if to display...\n",
    "# but all 3 route groups must be displayed. just add sentence about why no routes were returned at the end\n",
    "route_group = \"short\"\n",
    "try:\n",
    "    display_charts_for_route_group(df, route_group)\n",
    "except:\n",
    "    print(\"No routes meet this criteria.\")"
   ]
  },
  {
   "cell_type": "markdown",
   "id": "c2931b6f-034d-4384-9e14-80b925e3b820",
   "metadata": {
    "papermill": {
     "duration": 0.016665,
     "end_time": "2022-05-12T02:36:39.323982",
     "exception": false,
     "start_time": "2022-05-12T02:36:39.307317",
     "status": "completed"
    },
    "tags": []
   },
   "source": [
    "### Medium Routes (1-1.5 hrs)"
   ]
  },
  {
   "cell_type": "code",
   "execution_count": 15,
   "id": "480edddc-4de0-48c2-ae4c-b0ceef8f28b5",
   "metadata": {
    "execution": {
     "iopub.execute_input": "2022-05-12T02:36:39.359196Z",
     "iopub.status.busy": "2022-05-12T02:36:39.358256Z",
     "iopub.status.idle": "2022-05-12T02:36:39.607962Z",
     "shell.execute_reply": "2022-05-12T02:36:39.607095Z"
    },
    "jupyter": {
     "source_hidden": true
    },
    "papermill": {
     "duration": 0.270307,
     "end_time": "2022-05-12T02:36:39.611035",
     "exception": false,
     "start_time": "2022-05-12T02:36:39.340728",
     "status": "completed"
    },
    "tags": [
     "remove_input"
    ]
   },
   "outputs": [
    {
     "data": {
      "text/markdown": [
       "<br>These are routes that have **at least 50% of their trips take no more than an additional 30 min** compared to a car (up to 15 routes) are shown.<br>Within each route group, routes are sorted in descending order by % competitive trips and # trips below the additional time cut-off."
      ],
      "text/plain": [
       "<IPython.core.display.Markdown object>"
      ]
     },
     "metadata": {},
     "output_type": "display_data"
    },
    {
     "data": {
      "text/html": [
       "\n",
       "<div id=\"altair-viz-0883c503f41b4c07912a44f1f514296a\"></div>\n",
       "<script type=\"text/javascript\">\n",
       "  var VEGA_DEBUG = (typeof VEGA_DEBUG == \"undefined\") ? {} : VEGA_DEBUG;\n",
       "  (function(spec, embedOpt){\n",
       "    let outputDiv = document.currentScript.previousElementSibling;\n",
       "    if (outputDiv.id !== \"altair-viz-0883c503f41b4c07912a44f1f514296a\") {\n",
       "      outputDiv = document.getElementById(\"altair-viz-0883c503f41b4c07912a44f1f514296a\");\n",
       "    }\n",
       "    const paths = {\n",
       "      \"vega\": \"https://cdn.jsdelivr.net/npm//vega@5?noext\",\n",
       "      \"vega-lib\": \"https://cdn.jsdelivr.net/npm//vega-lib?noext\",\n",
       "      \"vega-lite\": \"https://cdn.jsdelivr.net/npm//vega-lite@4.17.0?noext\",\n",
       "      \"vega-embed\": \"https://cdn.jsdelivr.net/npm//vega-embed@6?noext\",\n",
       "    };\n",
       "\n",
       "    function maybeLoadScript(lib, version) {\n",
       "      var key = `${lib.replace(\"-\", \"\")}_version`;\n",
       "      return (VEGA_DEBUG[key] == version) ?\n",
       "        Promise.resolve(paths[lib]) :\n",
       "        new Promise(function(resolve, reject) {\n",
       "          var s = document.createElement('script');\n",
       "          document.getElementsByTagName(\"head\")[0].appendChild(s);\n",
       "          s.async = true;\n",
       "          s.onload = () => {\n",
       "            VEGA_DEBUG[key] = version;\n",
       "            return resolve(paths[lib]);\n",
       "          };\n",
       "          s.onerror = () => reject(`Error loading script: ${paths[lib]}`);\n",
       "          s.src = paths[lib];\n",
       "        });\n",
       "    }\n",
       "\n",
       "    function showError(err) {\n",
       "      outputDiv.innerHTML = `<div class=\"error\" style=\"color:red;\">${err}</div>`;\n",
       "      throw err;\n",
       "    }\n",
       "\n",
       "    function displayChart(vegaEmbed) {\n",
       "      vegaEmbed(outputDiv, spec, embedOpt)\n",
       "        .catch(err => showError(`Javascript Error: ${err.message}<br>This usually means there's a typo in your chart specification. See the javascript console for the full traceback.`));\n",
       "    }\n",
       "\n",
       "    if(typeof define === \"function\" && define.amd) {\n",
       "      requirejs.config({paths});\n",
       "      require([\"vega-embed\"], displayChart, err => showError(`Error loading script: ${err.message}`));\n",
       "    } else {\n",
       "      maybeLoadScript(\"vega\", \"5\")\n",
       "        .then(() => maybeLoadScript(\"vega-lite\", \"4.17.0\"))\n",
       "        .then(() => maybeLoadScript(\"vega-embed\", \"6\"))\n",
       "        .catch(showError)\n",
       "        .then(() => displayChart(vegaEmbed));\n",
       "    }\n",
       "  })({\"config\": {\"view\": {\"continuousWidth\": 400, \"continuousHeight\": 300, \"stroke\": null}, \"facet\": {\"spacing\": 0}}, \"data\": {\"name\": \"data-8564b935704b1043dd6ec84862d92efa\"}, \"facet\": {\"column\": {\"field\": \"route_id\", \"sort\": [\"350\", \"349\"], \"title\": \"Route ID\", \"type\": \"nominal\"}}, \"spec\": {\"layer\": [{\"mark\": \"rule\", \"encoding\": {\"color\": {\"value\": \"black\"}, \"y\": {\"field\": \"cutoff\", \"type\": \"quantitative\"}}, \"selection\": {\"selector003\": {\"type\": \"interval\", \"bind\": \"scales\", \"encodings\": [\"x\", \"y\"]}}}, {\"mark\": {\"type\": \"point\", \"opacity\": 0.65, \"size\": 12, \"strokeWidth\": 1.1}, \"encoding\": {\"color\": {\"field\": \"time_of_day\", \"scale\": {\"range\": [\"#136C97\", \"#E16B26\", \"#F6BF16\", \"#00896B\", \"#7790A3\", \"#5B559C\"]}, \"sort\": [\"AM Peak\", \"Midday\", \"PM Peak\", \"Owl Service\"], \"title\": \"Time of Day\", \"type\": \"nominal\"}, \"tooltip\": [{\"field\": \"route_id\", \"type\": \"nominal\"}, {\"field\": \"route_name\", \"type\": \"nominal\"}, {\"field\": \"trip_id\", \"type\": \"nominal\"}, {\"field\": \"service_hours\", \"type\": \"quantitative\"}, {\"field\": \"car_duration_hours\", \"type\": \"quantitative\"}, {\"field\": \"bus_multiplier\", \"type\": \"quantitative\"}, {\"field\": \"bus_difference\", \"type\": \"quantitative\"}, {\"field\": \"num_trips\", \"type\": \"quantitative\"}, {\"field\": \"num_competitive\", \"type\": \"quantitative\"}, {\"field\": \"pct_trips_competitive\", \"type\": \"quantitative\"}, {\"field\": \"p25\", \"type\": \"quantitative\"}, {\"field\": \"p50\", \"type\": \"quantitative\"}, {\"field\": \"p75\", \"type\": \"quantitative\"}], \"x\": {\"axis\": {\"grid\": false, \"labels\": false, \"ticks\": true, \"values\": [0]}, \"field\": \"jitter\", \"scale\": {}, \"title\": null, \"type\": \"quantitative\"}, \"y\": {\"field\": \"bus_multiplier\", \"scale\": {\"domain\": [-0.25, 3.0]}, \"title\": \"Ratio of Bus to Car Travel Time\", \"type\": \"quantitative\"}}, \"transform\": [{\"calculate\": \"sqrt(-2*log(random()))*cos(2*PI*random())\", \"as\": \"jitter\"}], \"width\": 50}, {\"layer\": [{\"mark\": {\"type\": \"point\", \"opacity\": 0.6, \"size\": 20, \"strokeWidth\": 1.3}, \"encoding\": {\"color\": {\"value\": \"#323434\"}, \"y\": {\"field\": \"bus_multiplier\", \"type\": \"quantitative\"}}, \"transform\": [{\"filter\": \"(datum.p50_trip === 1)\"}]}, {\"mark\": {\"type\": \"text\", \"align\": \"center\", \"baseline\": \"middle\"}, \"encoding\": {\"color\": {\"value\": \"black\"}, \"text\": {\"field\": \"pct_trips_competitive\", \"format\": \".0%\", \"type\": \"quantitative\"}, \"tooltip\": [{\"field\": \"route_id\", \"type\": \"nominal\"}, {\"field\": \"route_name\", \"type\": \"nominal\"}, {\"field\": \"trip_id\", \"type\": \"nominal\"}, {\"field\": \"service_hours\", \"type\": \"quantitative\"}, {\"field\": \"car_duration_hours\", \"type\": \"quantitative\"}, {\"field\": \"bus_multiplier\", \"type\": \"quantitative\"}, {\"field\": \"bus_difference\", \"type\": \"quantitative\"}, {\"field\": \"num_trips\", \"type\": \"quantitative\"}, {\"field\": \"num_competitive\", \"type\": \"quantitative\"}, {\"field\": \"pct_trips_competitive\", \"type\": \"quantitative\"}, {\"field\": \"p25\", \"type\": \"quantitative\"}, {\"field\": \"p50\", \"type\": \"quantitative\"}, {\"field\": \"p75\", \"type\": \"quantitative\"}], \"x\": {\"value\": 30}, \"y\": {\"value\": 15}}, \"transform\": [{\"calculate\": \"sqrt(-2*log(random()))*cos(2*PI*random())\", \"as\": \"jitter\"}, {\"filter\": \"(datum.fastest_trip === 1)\"}]}]}]}, \"resolve\": {\"scale\": {\"y\": \"shared\"}}, \"title\": \"Ratio of Bus to Car Travel Time\", \"$schema\": \"https://vega.github.io/schema/vega-lite/v4.17.0.json\", \"datasets\": {\"data-8564b935704b1043dd6ec84862d92efa\": [{\"calitp_itp_id\": 212, \"trip_key\": 5850337236365362568, \"trip_id\": \"t_869590_b_489_tn_0\", \"shape_id\": \"p_279\", \"route_id\": \"349\", \"service_hours\": 0.83, \"trip_first_departure_ts\": 46800, \"trip_last_arrival_ts\": 49800, \"departure_hour\": 13, \"time_of_day\": \"Midday\", \"p25\": 0.83, \"p50\": 0.83, \"p75\": 0.83, \"p50_trip\": 1, \"fastest_trip\": 0, \"car_duration_hours\": 0.52, \"competitive_route\": 1, \"bus_multiplier\": 1.6, \"bus_difference\": 18.6, \"num_trips\": 30, \"num_competitive\": 25, \"pct_trips_competitive\": 0.833, \"bus_difference_spread\": 23.4, \"route_group\": \"medium\", \"max_trip_hrs\": 1.22, \"max_trip_route_group\": 1.22, \"below_cutoff\": 25, \"pct_below_cutoff\": 0.8333333333333334, \"name\": \"Morongo Band of Mission Indians\", \"caltrans_district\": \"08 - San Bernardino\", \"drmt_organization_name\": null, \"route_name\": \"Yucca Valley-Twentynine Palms\", \"cutoff2\": 30, \"cutoff\": 2}, {\"calitp_itp_id\": 212, \"trip_key\": -3733284907296554600, \"trip_id\": \"t_869584_b_489_tn_0\", \"shape_id\": \"p_279\", \"route_id\": \"349\", \"service_hours\": 0.83, \"trip_first_departure_ts\": 25200, \"trip_last_arrival_ts\": 28200, \"departure_hour\": 7, \"time_of_day\": \"AM Peak\", \"p25\": 0.83, \"p50\": 0.83, \"p75\": 0.83, \"p50_trip\": 1, \"fastest_trip\": 0, \"car_duration_hours\": 0.52, \"competitive_route\": 1, \"bus_multiplier\": 1.6, \"bus_difference\": 18.6, \"num_trips\": 30, \"num_competitive\": 25, \"pct_trips_competitive\": 0.833, \"bus_difference_spread\": 23.4, \"route_group\": \"medium\", \"max_trip_hrs\": 1.22, \"max_trip_route_group\": 1.22, \"below_cutoff\": 25, \"pct_below_cutoff\": 0.8333333333333334, \"name\": \"Morongo Band of Mission Indians\", \"caltrans_district\": \"08 - San Bernardino\", \"drmt_organization_name\": null, \"route_name\": \"Yucca Valley-Twentynine Palms\", \"cutoff2\": 30, \"cutoff\": 2}, {\"calitp_itp_id\": 212, \"trip_key\": -6680245441941794366, \"trip_id\": \"t_869591_b_489_tn_0\", \"shape_id\": \"p_279\", \"route_id\": \"349\", \"service_hours\": 0.83, \"trip_first_departure_ts\": 50400, \"trip_last_arrival_ts\": 53400, \"departure_hour\": 14, \"time_of_day\": \"Midday\", \"p25\": 0.83, \"p50\": 0.83, \"p75\": 0.83, \"p50_trip\": 1, \"fastest_trip\": 0, \"car_duration_hours\": 0.52, \"competitive_route\": 1, \"bus_multiplier\": 1.6, \"bus_difference\": 18.6, \"num_trips\": 30, \"num_competitive\": 25, \"pct_trips_competitive\": 0.833, \"bus_difference_spread\": 23.4, \"route_group\": \"medium\", \"max_trip_hrs\": 1.22, \"max_trip_route_group\": 1.22, \"below_cutoff\": 25, \"pct_below_cutoff\": 0.8333333333333334, \"name\": \"Morongo Band of Mission Indians\", \"caltrans_district\": \"08 - San Bernardino\", \"drmt_organization_name\": null, \"route_name\": \"Yucca Valley-Twentynine Palms\", \"cutoff2\": 30, \"cutoff\": 2}, {\"calitp_itp_id\": 212, \"trip_key\": -3539033563784263740, \"trip_id\": \"t_869577_b_489_tn_0\", \"shape_id\": \"p_272\", \"route_id\": \"349\", \"service_hours\": 0.83, \"trip_first_departure_ts\": 39600, \"trip_last_arrival_ts\": 42600, \"departure_hour\": 11, \"time_of_day\": \"Midday\", \"p25\": 0.83, \"p50\": 0.83, \"p75\": 0.83, \"p50_trip\": 1, \"fastest_trip\": 0, \"car_duration_hours\": 0.52, \"competitive_route\": 1, \"bus_multiplier\": 1.6, \"bus_difference\": 18.6, \"num_trips\": 30, \"num_competitive\": 25, \"pct_trips_competitive\": 0.833, \"bus_difference_spread\": 23.4, \"route_group\": \"medium\", \"max_trip_hrs\": 1.22, \"max_trip_route_group\": 1.22, \"below_cutoff\": 25, \"pct_below_cutoff\": 0.8333333333333334, \"name\": \"Morongo Band of Mission Indians\", \"caltrans_district\": \"08 - San Bernardino\", \"drmt_organization_name\": null, \"route_name\": \"Yucca Valley-Twentynine Palms\", \"cutoff2\": 30, \"cutoff\": 2}, {\"calitp_itp_id\": 212, \"trip_key\": 7716272102889482960, \"trip_id\": \"t_869582_b_489_tn_0\", \"shape_id\": \"p_272\", \"route_id\": \"349\", \"service_hours\": 0.83, \"trip_first_departure_ts\": 57600, \"trip_last_arrival_ts\": 60600, \"departure_hour\": 16, \"time_of_day\": \"Midday\", \"p25\": 0.83, \"p50\": 0.83, \"p75\": 0.83, \"p50_trip\": 1, \"fastest_trip\": 0, \"car_duration_hours\": 0.52, \"competitive_route\": 1, \"bus_multiplier\": 1.6, \"bus_difference\": 18.6, \"num_trips\": 30, \"num_competitive\": 25, \"pct_trips_competitive\": 0.833, \"bus_difference_spread\": 23.4, \"route_group\": \"medium\", \"max_trip_hrs\": 1.22, \"max_trip_route_group\": 1.22, \"below_cutoff\": 25, \"pct_below_cutoff\": 0.8333333333333334, \"name\": \"Morongo Band of Mission Indians\", \"caltrans_district\": \"08 - San Bernardino\", \"drmt_organization_name\": null, \"route_name\": \"Yucca Valley-Twentynine Palms\", \"cutoff2\": 30, \"cutoff\": 2}, {\"calitp_itp_id\": 212, \"trip_key\": -945826195563375557, \"trip_id\": \"t_869580_b_489_tn_0\", \"shape_id\": \"p_272\", \"route_id\": \"349\", \"service_hours\": 0.83, \"trip_first_departure_ts\": 50400, \"trip_last_arrival_ts\": 53400, \"departure_hour\": 14, \"time_of_day\": \"Midday\", \"p25\": 0.83, \"p50\": 0.83, \"p75\": 0.83, \"p50_trip\": 1, \"fastest_trip\": 0, \"car_duration_hours\": 0.52, \"competitive_route\": 1, \"bus_multiplier\": 1.6, \"bus_difference\": 18.6, \"num_trips\": 30, \"num_competitive\": 25, \"pct_trips_competitive\": 0.833, \"bus_difference_spread\": 23.4, \"route_group\": \"medium\", \"max_trip_hrs\": 1.22, \"max_trip_route_group\": 1.22, \"below_cutoff\": 25, \"pct_below_cutoff\": 0.8333333333333334, \"name\": \"Morongo Band of Mission Indians\", \"caltrans_district\": \"08 - San Bernardino\", \"drmt_organization_name\": null, \"route_name\": \"Yucca Valley-Twentynine Palms\", \"cutoff2\": 30, \"cutoff\": 2}, {\"calitp_itp_id\": 212, \"trip_key\": 2025043753291756551, \"trip_id\": \"t_869588_b_489_tn_0\", \"shape_id\": \"p_279\", \"route_id\": \"349\", \"service_hours\": 0.83, \"trip_first_departure_ts\": 39600, \"trip_last_arrival_ts\": 42600, \"departure_hour\": 11, \"time_of_day\": \"Midday\", \"p25\": 0.83, \"p50\": 0.83, \"p75\": 0.83, \"p50_trip\": 1, \"fastest_trip\": 0, \"car_duration_hours\": 0.52, \"competitive_route\": 1, \"bus_multiplier\": 1.6, \"bus_difference\": 18.6, \"num_trips\": 30, \"num_competitive\": 25, \"pct_trips_competitive\": 0.833, \"bus_difference_spread\": 23.4, \"route_group\": \"medium\", \"max_trip_hrs\": 1.22, \"max_trip_route_group\": 1.22, \"below_cutoff\": 25, \"pct_below_cutoff\": 0.8333333333333334, \"name\": \"Morongo Band of Mission Indians\", \"caltrans_district\": \"08 - San Bernardino\", \"drmt_organization_name\": null, \"route_name\": \"Yucca Valley-Twentynine Palms\", \"cutoff2\": 30, \"cutoff\": 2}, {\"calitp_itp_id\": 212, \"trip_key\": -2723586224887403272, \"trip_id\": \"t_869575_b_489_tn_0\", \"shape_id\": \"p_272\", \"route_id\": \"349\", \"service_hours\": 0.83, \"trip_first_departure_ts\": 32400, \"trip_last_arrival_ts\": 35400, \"departure_hour\": 9, \"time_of_day\": \"AM Peak\", \"p25\": 0.83, \"p50\": 0.83, \"p75\": 0.83, \"p50_trip\": 1, \"fastest_trip\": 0, \"car_duration_hours\": 0.52, \"competitive_route\": 1, \"bus_multiplier\": 1.6, \"bus_difference\": 18.6, \"num_trips\": 30, \"num_competitive\": 25, \"pct_trips_competitive\": 0.833, \"bus_difference_spread\": 23.4, \"route_group\": \"medium\", \"max_trip_hrs\": 1.22, \"max_trip_route_group\": 1.22, \"below_cutoff\": 25, \"pct_below_cutoff\": 0.8333333333333334, \"name\": \"Morongo Band of Mission Indians\", \"caltrans_district\": \"08 - San Bernardino\", \"drmt_organization_name\": null, \"route_name\": \"Yucca Valley-Twentynine Palms\", \"cutoff2\": 30, \"cutoff\": 2}, {\"calitp_itp_id\": 212, \"trip_key\": 8278307551033318408, \"trip_id\": \"t_1384_b_489_tn_0\", \"shape_id\": \"p_178818\", \"route_id\": \"349\", \"service_hours\": 0.83, \"trip_first_departure_ts\": 21600, \"trip_last_arrival_ts\": 24600, \"departure_hour\": 6, \"time_of_day\": \"Owl Service\", \"p25\": 0.83, \"p50\": 0.83, \"p75\": 0.83, \"p50_trip\": 1, \"fastest_trip\": 0, \"car_duration_hours\": 0.52, \"competitive_route\": 1, \"bus_multiplier\": 1.6, \"bus_difference\": 18.6, \"num_trips\": 30, \"num_competitive\": 25, \"pct_trips_competitive\": 0.833, \"bus_difference_spread\": 23.4, \"route_group\": \"medium\", \"max_trip_hrs\": 1.22, \"max_trip_route_group\": 1.22, \"below_cutoff\": 25, \"pct_below_cutoff\": 0.8333333333333334, \"name\": \"Morongo Band of Mission Indians\", \"caltrans_district\": \"08 - San Bernardino\", \"drmt_organization_name\": null, \"route_name\": \"Yucca Valley-Twentynine Palms\", \"cutoff2\": 30, \"cutoff\": 2}, {\"calitp_itp_id\": 212, \"trip_key\": -8497861685978056822, \"trip_id\": \"t_869589_b_489_tn_0\", \"shape_id\": \"p_279\", \"route_id\": \"349\", \"service_hours\": 0.83, \"trip_first_departure_ts\": 43200, \"trip_last_arrival_ts\": 46200, \"departure_hour\": 12, \"time_of_day\": \"Midday\", \"p25\": 0.83, \"p50\": 0.83, \"p75\": 0.83, \"p50_trip\": 1, \"fastest_trip\": 0, \"car_duration_hours\": 0.52, \"competitive_route\": 1, \"bus_multiplier\": 1.6, \"bus_difference\": 18.6, \"num_trips\": 30, \"num_competitive\": 25, \"pct_trips_competitive\": 0.833, \"bus_difference_spread\": 23.4, \"route_group\": \"medium\", \"max_trip_hrs\": 1.22, \"max_trip_route_group\": 1.22, \"below_cutoff\": 25, \"pct_below_cutoff\": 0.8333333333333334, \"name\": \"Morongo Band of Mission Indians\", \"caltrans_district\": \"08 - San Bernardino\", \"drmt_organization_name\": null, \"route_name\": \"Yucca Valley-Twentynine Palms\", \"cutoff2\": 30, \"cutoff\": 2}, {\"calitp_itp_id\": 212, \"trip_key\": 516973843394186168, \"trip_id\": \"t_869576_b_489_tn_0\", \"shape_id\": \"p_272\", \"route_id\": \"349\", \"service_hours\": 0.83, \"trip_first_departure_ts\": 36000, \"trip_last_arrival_ts\": 39000, \"departure_hour\": 10, \"time_of_day\": \"Midday\", \"p25\": 0.83, \"p50\": 0.83, \"p75\": 0.83, \"p50_trip\": 1, \"fastest_trip\": 0, \"car_duration_hours\": 0.52, \"competitive_route\": 1, \"bus_multiplier\": 1.6, \"bus_difference\": 18.6, \"num_trips\": 30, \"num_competitive\": 25, \"pct_trips_competitive\": 0.833, \"bus_difference_spread\": 23.4, \"route_group\": \"medium\", \"max_trip_hrs\": 1.22, \"max_trip_route_group\": 1.22, \"below_cutoff\": 25, \"pct_below_cutoff\": 0.8333333333333334, \"name\": \"Morongo Band of Mission Indians\", \"caltrans_district\": \"08 - San Bernardino\", \"drmt_organization_name\": null, \"route_name\": \"Yucca Valley-Twentynine Palms\", \"cutoff2\": 30, \"cutoff\": 2}, {\"calitp_itp_id\": 212, \"trip_key\": -996770051850407450, \"trip_id\": \"t_869579_b_489_tn_0\", \"shape_id\": \"p_272\", \"route_id\": \"349\", \"service_hours\": 0.83, \"trip_first_departure_ts\": 46800, \"trip_last_arrival_ts\": 49800, \"departure_hour\": 13, \"time_of_day\": \"Midday\", \"p25\": 0.83, \"p50\": 0.83, \"p75\": 0.83, \"p50_trip\": 1, \"fastest_trip\": 0, \"car_duration_hours\": 0.52, \"competitive_route\": 1, \"bus_multiplier\": 1.6, \"bus_difference\": 18.6, \"num_trips\": 30, \"num_competitive\": 25, \"pct_trips_competitive\": 0.833, \"bus_difference_spread\": 23.4, \"route_group\": \"medium\", \"max_trip_hrs\": 1.22, \"max_trip_route_group\": 1.22, \"below_cutoff\": 25, \"pct_below_cutoff\": 0.8333333333333334, \"name\": \"Morongo Band of Mission Indians\", \"caltrans_district\": \"08 - San Bernardino\", \"drmt_organization_name\": null, \"route_name\": \"Yucca Valley-Twentynine Palms\", \"cutoff2\": 30, \"cutoff\": 2}, {\"calitp_itp_id\": 212, \"trip_key\": -5767180621765676816, \"trip_id\": \"t_1385_b_489_tn_0\", \"shape_id\": \"p_276\", \"route_id\": \"349\", \"service_hours\": 0.83, \"trip_first_departure_ts\": 21600, \"trip_last_arrival_ts\": 24600, \"departure_hour\": 6, \"time_of_day\": \"Owl Service\", \"p25\": 0.83, \"p50\": 0.83, \"p75\": 0.83, \"p50_trip\": 1, \"fastest_trip\": 0, \"car_duration_hours\": 0.52, \"competitive_route\": 1, \"bus_multiplier\": 1.6, \"bus_difference\": 18.6, \"num_trips\": 30, \"num_competitive\": 25, \"pct_trips_competitive\": 0.833, \"bus_difference_spread\": 23.4, \"route_group\": \"medium\", \"max_trip_hrs\": 1.22, \"max_trip_route_group\": 1.22, \"below_cutoff\": 25, \"pct_below_cutoff\": 0.8333333333333334, \"name\": \"Morongo Band of Mission Indians\", \"caltrans_district\": \"08 - San Bernardino\", \"drmt_organization_name\": null, \"route_name\": \"Yucca Valley-Twentynine Palms\", \"cutoff2\": 30, \"cutoff\": 2}, {\"calitp_itp_id\": 212, \"trip_key\": -483327558155412322, \"trip_id\": \"t_869592_b_489_tn_0\", \"shape_id\": \"p_279\", \"route_id\": \"349\", \"service_hours\": 0.83, \"trip_first_departure_ts\": 54000, \"trip_last_arrival_ts\": 57000, \"departure_hour\": 15, \"time_of_day\": \"Midday\", \"p25\": 0.83, \"p50\": 0.83, \"p75\": 0.83, \"p50_trip\": 1, \"fastest_trip\": 0, \"car_duration_hours\": 0.52, \"competitive_route\": 1, \"bus_multiplier\": 1.6, \"bus_difference\": 18.6, \"num_trips\": 30, \"num_competitive\": 25, \"pct_trips_competitive\": 0.833, \"bus_difference_spread\": 23.4, \"route_group\": \"medium\", \"max_trip_hrs\": 1.22, \"max_trip_route_group\": 1.22, \"below_cutoff\": 25, \"pct_below_cutoff\": 0.8333333333333334, \"name\": \"Morongo Band of Mission Indians\", \"caltrans_district\": \"08 - San Bernardino\", \"drmt_organization_name\": null, \"route_name\": \"Yucca Valley-Twentynine Palms\", \"cutoff2\": 30, \"cutoff\": 2}, {\"calitp_itp_id\": 212, \"trip_key\": 2806197447462977539, \"trip_id\": \"t_869573_b_489_tn_0\", \"shape_id\": \"p_272\", \"route_id\": \"349\", \"service_hours\": 0.83, \"trip_first_departure_ts\": 25200, \"trip_last_arrival_ts\": 28200, \"departure_hour\": 7, \"time_of_day\": \"AM Peak\", \"p25\": 0.83, \"p50\": 0.83, \"p75\": 0.83, \"p50_trip\": 1, \"fastest_trip\": 0, \"car_duration_hours\": 0.52, \"competitive_route\": 1, \"bus_multiplier\": 1.6, \"bus_difference\": 18.6, \"num_trips\": 30, \"num_competitive\": 25, \"pct_trips_competitive\": 0.833, \"bus_difference_spread\": 23.4, \"route_group\": \"medium\", \"max_trip_hrs\": 1.22, \"max_trip_route_group\": 1.22, \"below_cutoff\": 25, \"pct_below_cutoff\": 0.8333333333333334, \"name\": \"Morongo Band of Mission Indians\", \"caltrans_district\": \"08 - San Bernardino\", \"drmt_organization_name\": null, \"route_name\": \"Yucca Valley-Twentynine Palms\", \"cutoff2\": 30, \"cutoff\": 2}, {\"calitp_itp_id\": 212, \"trip_key\": 7709892903398718119, \"trip_id\": \"t_869574_b_489_tn_0\", \"shape_id\": \"p_272\", \"route_id\": \"349\", \"service_hours\": 0.83, \"trip_first_departure_ts\": 28800, \"trip_last_arrival_ts\": 31800, \"departure_hour\": 8, \"time_of_day\": \"AM Peak\", \"p25\": 0.83, \"p50\": 0.83, \"p75\": 0.83, \"p50_trip\": 1, \"fastest_trip\": 0, \"car_duration_hours\": 0.52, \"competitive_route\": 1, \"bus_multiplier\": 1.6, \"bus_difference\": 18.6, \"num_trips\": 30, \"num_competitive\": 25, \"pct_trips_competitive\": 0.833, \"bus_difference_spread\": 23.4, \"route_group\": \"medium\", \"max_trip_hrs\": 1.22, \"max_trip_route_group\": 1.22, \"below_cutoff\": 25, \"pct_below_cutoff\": 0.8333333333333334, \"name\": \"Morongo Band of Mission Indians\", \"caltrans_district\": \"08 - San Bernardino\", \"drmt_organization_name\": null, \"route_name\": \"Yucca Valley-Twentynine Palms\", \"cutoff2\": 30, \"cutoff\": 2}, {\"calitp_itp_id\": 212, \"trip_key\": -810498857071654717, \"trip_id\": \"t_869585_b_489_tn_0\", \"shape_id\": \"p_279\", \"route_id\": \"349\", \"service_hours\": 0.83, \"trip_first_departure_ts\": 28800, \"trip_last_arrival_ts\": 31800, \"departure_hour\": 8, \"time_of_day\": \"AM Peak\", \"p25\": 0.83, \"p50\": 0.83, \"p75\": 0.83, \"p50_trip\": 1, \"fastest_trip\": 0, \"car_duration_hours\": 0.52, \"competitive_route\": 1, \"bus_multiplier\": 1.6, \"bus_difference\": 18.6, \"num_trips\": 30, \"num_competitive\": 25, \"pct_trips_competitive\": 0.833, \"bus_difference_spread\": 23.4, \"route_group\": \"medium\", \"max_trip_hrs\": 1.22, \"max_trip_route_group\": 1.22, \"below_cutoff\": 25, \"pct_below_cutoff\": 0.8333333333333334, \"name\": \"Morongo Band of Mission Indians\", \"caltrans_district\": \"08 - San Bernardino\", \"drmt_organization_name\": null, \"route_name\": \"Yucca Valley-Twentynine Palms\", \"cutoff2\": 30, \"cutoff\": 2}, {\"calitp_itp_id\": 212, \"trip_key\": -2636862393350685226, \"trip_id\": \"t_869587_b_489_tn_0\", \"shape_id\": \"p_279\", \"route_id\": \"349\", \"service_hours\": 0.83, \"trip_first_departure_ts\": 36000, \"trip_last_arrival_ts\": 39000, \"departure_hour\": 10, \"time_of_day\": \"Midday\", \"p25\": 0.83, \"p50\": 0.83, \"p75\": 0.83, \"p50_trip\": 1, \"fastest_trip\": 0, \"car_duration_hours\": 0.52, \"competitive_route\": 1, \"bus_multiplier\": 1.6, \"bus_difference\": 18.6, \"num_trips\": 30, \"num_competitive\": 25, \"pct_trips_competitive\": 0.833, \"bus_difference_spread\": 23.4, \"route_group\": \"medium\", \"max_trip_hrs\": 1.22, \"max_trip_route_group\": 1.22, \"below_cutoff\": 25, \"pct_below_cutoff\": 0.8333333333333334, \"name\": \"Morongo Band of Mission Indians\", \"caltrans_district\": \"08 - San Bernardino\", \"drmt_organization_name\": null, \"route_name\": \"Yucca Valley-Twentynine Palms\", \"cutoff2\": 30, \"cutoff\": 2}, {\"calitp_itp_id\": 212, \"trip_key\": 3062303850922068630, \"trip_id\": \"t_869581_b_489_tn_0\", \"shape_id\": \"p_272\", \"route_id\": \"349\", \"service_hours\": 0.83, \"trip_first_departure_ts\": 54000, \"trip_last_arrival_ts\": 57000, \"departure_hour\": 15, \"time_of_day\": \"Midday\", \"p25\": 0.83, \"p50\": 0.83, \"p75\": 0.83, \"p50_trip\": 1, \"fastest_trip\": 0, \"car_duration_hours\": 0.52, \"competitive_route\": 1, \"bus_multiplier\": 1.6, \"bus_difference\": 18.6, \"num_trips\": 30, \"num_competitive\": 25, \"pct_trips_competitive\": 0.833, \"bus_difference_spread\": 23.4, \"route_group\": \"medium\", \"max_trip_hrs\": 1.22, \"max_trip_route_group\": 1.22, \"below_cutoff\": 25, \"pct_below_cutoff\": 0.8333333333333334, \"name\": \"Morongo Band of Mission Indians\", \"caltrans_district\": \"08 - San Bernardino\", \"drmt_organization_name\": null, \"route_name\": \"Yucca Valley-Twentynine Palms\", \"cutoff2\": 30, \"cutoff\": 2}, {\"calitp_itp_id\": 212, \"trip_key\": 7188253574222009694, \"trip_id\": \"t_869586_b_489_tn_0\", \"shape_id\": \"p_279\", \"route_id\": \"349\", \"service_hours\": 0.83, \"trip_first_departure_ts\": 32400, \"trip_last_arrival_ts\": 35400, \"departure_hour\": 9, \"time_of_day\": \"AM Peak\", \"p25\": 0.83, \"p50\": 0.83, \"p75\": 0.83, \"p50_trip\": 1, \"fastest_trip\": 0, \"car_duration_hours\": 0.52, \"competitive_route\": 1, \"bus_multiplier\": 1.6, \"bus_difference\": 18.6, \"num_trips\": 30, \"num_competitive\": 25, \"pct_trips_competitive\": 0.833, \"bus_difference_spread\": 23.4, \"route_group\": \"medium\", \"max_trip_hrs\": 1.22, \"max_trip_route_group\": 1.22, \"below_cutoff\": 25, \"pct_below_cutoff\": 0.8333333333333334, \"name\": \"Morongo Band of Mission Indians\", \"caltrans_district\": \"08 - San Bernardino\", \"drmt_organization_name\": null, \"route_name\": \"Yucca Valley-Twentynine Palms\", \"cutoff2\": 30, \"cutoff\": 2}, {\"calitp_itp_id\": 212, \"trip_key\": -3963691485412924367, \"trip_id\": \"t_869578_b_489_tn_0\", \"shape_id\": \"p_272\", \"route_id\": \"349\", \"service_hours\": 0.83, \"trip_first_departure_ts\": 43200, \"trip_last_arrival_ts\": 46200, \"departure_hour\": 12, \"time_of_day\": \"Midday\", \"p25\": 0.83, \"p50\": 0.83, \"p75\": 0.83, \"p50_trip\": 1, \"fastest_trip\": 0, \"car_duration_hours\": 0.52, \"competitive_route\": 1, \"bus_multiplier\": 1.6, \"bus_difference\": 18.6, \"num_trips\": 30, \"num_competitive\": 25, \"pct_trips_competitive\": 0.833, \"bus_difference_spread\": 23.4, \"route_group\": \"medium\", \"max_trip_hrs\": 1.22, \"max_trip_route_group\": 1.22, \"below_cutoff\": 25, \"pct_below_cutoff\": 0.8333333333333334, \"name\": \"Morongo Band of Mission Indians\", \"caltrans_district\": \"08 - San Bernardino\", \"drmt_organization_name\": null, \"route_name\": \"Yucca Valley-Twentynine Palms\", \"cutoff2\": 30, \"cutoff\": 2}, {\"calitp_itp_id\": 212, \"trip_key\": -5301656924656097689, \"trip_id\": \"t_869593_b_489_tn_0\", \"shape_id\": \"p_279\", \"route_id\": \"349\", \"service_hours\": 0.83, \"trip_first_departure_ts\": 57600, \"trip_last_arrival_ts\": 60600, \"departure_hour\": 16, \"time_of_day\": \"Midday\", \"p25\": 0.83, \"p50\": 0.83, \"p75\": 0.83, \"p50_trip\": 1, \"fastest_trip\": 0, \"car_duration_hours\": 0.52, \"competitive_route\": 1, \"bus_multiplier\": 1.6, \"bus_difference\": 18.6, \"num_trips\": 30, \"num_competitive\": 25, \"pct_trips_competitive\": 0.833, \"bus_difference_spread\": 23.4, \"route_group\": \"medium\", \"max_trip_hrs\": 1.22, \"max_trip_route_group\": 1.22, \"below_cutoff\": 25, \"pct_below_cutoff\": 0.8333333333333334, \"name\": \"Morongo Band of Mission Indians\", \"caltrans_district\": \"08 - San Bernardino\", \"drmt_organization_name\": null, \"route_name\": \"Yucca Valley-Twentynine Palms\", \"cutoff2\": 30, \"cutoff\": 2}, {\"calitp_itp_id\": 212, \"trip_key\": -764998138802977487, \"trip_id\": \"t_869583_b_489_tn_0\", \"shape_id\": \"p_272\", \"route_id\": \"349\", \"service_hours\": 0.83, \"trip_first_departure_ts\": 61200, \"trip_last_arrival_ts\": 64200, \"departure_hour\": 17, \"time_of_day\": \"PM Peak\", \"p25\": 0.83, \"p50\": 0.83, \"p75\": 0.83, \"p50_trip\": 1, \"fastest_trip\": 1, \"car_duration_hours\": 0.52, \"competitive_route\": 1, \"bus_multiplier\": 1.6, \"bus_difference\": 18.6, \"num_trips\": 30, \"num_competitive\": 25, \"pct_trips_competitive\": 0.833, \"bus_difference_spread\": 23.4, \"route_group\": \"medium\", \"max_trip_hrs\": 1.22, \"max_trip_route_group\": 1.22, \"below_cutoff\": 25, \"pct_below_cutoff\": 0.8333333333333334, \"name\": \"Morongo Band of Mission Indians\", \"caltrans_district\": \"08 - San Bernardino\", \"drmt_organization_name\": null, \"route_name\": \"Yucca Valley-Twentynine Palms\", \"cutoff2\": 30, \"cutoff\": 2}, {\"calitp_itp_id\": 212, \"trip_key\": 2368826429394615188, \"trip_id\": \"t_1375_b_489_tn_0\", \"shape_id\": \"p_275\", \"route_id\": \"349\", \"service_hours\": 0.92, \"trip_first_departure_ts\": 76320, \"trip_last_arrival_ts\": 79620, \"departure_hour\": 21, \"time_of_day\": \"Owl Service\", \"p25\": 0.83, \"p50\": 0.83, \"p75\": 0.83, \"p50_trip\": 0, \"fastest_trip\": 0, \"car_duration_hours\": 0.52, \"competitive_route\": 1, \"bus_multiplier\": 1.77, \"bus_difference\": 24.0, \"num_trips\": 30, \"num_competitive\": 25, \"pct_trips_competitive\": 0.833, \"bus_difference_spread\": 23.4, \"route_group\": \"medium\", \"max_trip_hrs\": 1.22, \"max_trip_route_group\": 1.22, \"below_cutoff\": 25, \"pct_below_cutoff\": 0.8333333333333334, \"name\": \"Morongo Band of Mission Indians\", \"caltrans_district\": \"08 - San Bernardino\", \"drmt_organization_name\": null, \"route_name\": \"Yucca Valley-Twentynine Palms\", \"cutoff2\": 30, \"cutoff\": 2}, {\"calitp_itp_id\": 212, \"trip_key\": -8441835833794788282, \"trip_id\": \"t_1388_b_489_tn_0\", \"shape_id\": \"p_280\", \"route_id\": \"349\", \"service_hours\": 1.0, \"trip_first_departure_ts\": 61200, \"trip_last_arrival_ts\": 64800, \"departure_hour\": 17, \"time_of_day\": \"PM Peak\", \"p25\": 0.83, \"p50\": 0.83, \"p75\": 0.83, \"p50_trip\": 0, \"fastest_trip\": 0, \"car_duration_hours\": 0.52, \"competitive_route\": 1, \"bus_multiplier\": 1.92, \"bus_difference\": 28.8, \"num_trips\": 30, \"num_competitive\": 25, \"pct_trips_competitive\": 0.833, \"bus_difference_spread\": 23.4, \"route_group\": \"medium\", \"max_trip_hrs\": 1.22, \"max_trip_route_group\": 1.22, \"below_cutoff\": 25, \"pct_below_cutoff\": 0.8333333333333334, \"name\": \"Morongo Band of Mission Indians\", \"caltrans_district\": \"08 - San Bernardino\", \"drmt_organization_name\": null, \"route_name\": \"Yucca Valley-Twentynine Palms\", \"cutoff2\": 30, \"cutoff\": 2}, {\"calitp_itp_id\": 212, \"trip_key\": -6835242988218459180, \"trip_id\": \"t_1381_b_489_tn_0\", \"shape_id\": \"p_283\", \"route_id\": \"349\", \"service_hours\": 1.12, \"trip_first_departure_ts\": 72300, \"trip_last_arrival_ts\": 76320, \"departure_hour\": 20, \"time_of_day\": \"Owl Service\", \"p25\": 0.83, \"p50\": 0.83, \"p75\": 0.83, \"p50_trip\": 0, \"fastest_trip\": 0, \"car_duration_hours\": 0.52, \"competitive_route\": 1, \"bus_multiplier\": 2.15, \"bus_difference\": 36.0, \"num_trips\": 30, \"num_competitive\": 25, \"pct_trips_competitive\": 0.833, \"bus_difference_spread\": 23.4, \"route_group\": \"medium\", \"max_trip_hrs\": 1.22, \"max_trip_route_group\": 1.22, \"below_cutoff\": 25, \"pct_below_cutoff\": 0.8333333333333334, \"name\": \"Morongo Band of Mission Indians\", \"caltrans_district\": \"08 - San Bernardino\", \"drmt_organization_name\": null, \"route_name\": \"Yucca Valley-Twentynine Palms\", \"cutoff2\": 30, \"cutoff\": 2}, {\"calitp_itp_id\": 212, \"trip_key\": 5683966584791188435, \"trip_id\": \"t_1379_b_489_tn_0\", \"shape_id\": \"p_275\", \"route_id\": \"349\", \"service_hours\": 1.15, \"trip_first_departure_ts\": 71700, \"trip_last_arrival_ts\": 75840, \"departure_hour\": 19, \"time_of_day\": \"PM Peak\", \"p25\": 0.83, \"p50\": 0.83, \"p75\": 0.83, \"p50_trip\": 0, \"fastest_trip\": 0, \"car_duration_hours\": 0.52, \"competitive_route\": 1, \"bus_multiplier\": 2.21, \"bus_difference\": 37.8, \"num_trips\": 30, \"num_competitive\": 25, \"pct_trips_competitive\": 0.833, \"bus_difference_spread\": 23.4, \"route_group\": \"medium\", \"max_trip_hrs\": 1.22, \"max_trip_route_group\": 1.22, \"below_cutoff\": 25, \"pct_below_cutoff\": 0.8333333333333334, \"name\": \"Morongo Band of Mission Indians\", \"caltrans_district\": \"08 - San Bernardino\", \"drmt_organization_name\": null, \"route_name\": \"Yucca Valley-Twentynine Palms\", \"cutoff2\": 30, \"cutoff\": 2}, {\"calitp_itp_id\": 212, \"trip_key\": 3761178629967692239, \"trip_id\": \"t_1380_b_489_tn_0\", \"shape_id\": \"p_283\", \"route_id\": \"349\", \"service_hours\": 1.2, \"trip_first_departure_ts\": 67200, \"trip_last_arrival_ts\": 71520, \"departure_hour\": 18, \"time_of_day\": \"PM Peak\", \"p25\": 0.83, \"p50\": 0.83, \"p75\": 0.83, \"p50_trip\": 0, \"fastest_trip\": 0, \"car_duration_hours\": 0.52, \"competitive_route\": 1, \"bus_multiplier\": 2.31, \"bus_difference\": 40.8, \"num_trips\": 30, \"num_competitive\": 25, \"pct_trips_competitive\": 0.833, \"bus_difference_spread\": 23.4, \"route_group\": \"medium\", \"max_trip_hrs\": 1.22, \"max_trip_route_group\": 1.22, \"below_cutoff\": 25, \"pct_below_cutoff\": 0.8333333333333334, \"name\": \"Morongo Band of Mission Indians\", \"caltrans_district\": \"08 - San Bernardino\", \"drmt_organization_name\": null, \"route_name\": \"Yucca Valley-Twentynine Palms\", \"cutoff2\": 30, \"cutoff\": 2}, {\"calitp_itp_id\": 212, \"trip_key\": -6285086006216661977, \"trip_id\": \"t_1373_b_489_tn_0\", \"shape_id\": \"p_283\", \"route_id\": \"349\", \"service_hours\": 1.2, \"trip_first_departure_ts\": 76200, \"trip_last_arrival_ts\": 80520, \"departure_hour\": 21, \"time_of_day\": \"Owl Service\", \"p25\": 0.83, \"p50\": 0.83, \"p75\": 0.83, \"p50_trip\": 0, \"fastest_trip\": 0, \"car_duration_hours\": 0.52, \"competitive_route\": 1, \"bus_multiplier\": 2.31, \"bus_difference\": 40.8, \"num_trips\": 30, \"num_competitive\": 25, \"pct_trips_competitive\": 0.833, \"bus_difference_spread\": 23.4, \"route_group\": \"medium\", \"max_trip_hrs\": 1.22, \"max_trip_route_group\": 1.22, \"below_cutoff\": 25, \"pct_below_cutoff\": 0.8333333333333334, \"name\": \"Morongo Band of Mission Indians\", \"caltrans_district\": \"08 - San Bernardino\", \"drmt_organization_name\": null, \"route_name\": \"Yucca Valley-Twentynine Palms\", \"cutoff2\": 30, \"cutoff\": 2}, {\"calitp_itp_id\": 212, \"trip_key\": 2836149620275353042, \"trip_id\": \"t_1368_b_489_tn_0\", \"shape_id\": \"p_286\", \"route_id\": \"349\", \"service_hours\": 1.22, \"trip_first_departure_ts\": 67800, \"trip_last_arrival_ts\": 72180, \"departure_hour\": 18, \"time_of_day\": \"PM Peak\", \"p25\": 0.83, \"p50\": 0.83, \"p75\": 0.83, \"p50_trip\": 0, \"fastest_trip\": 0, \"car_duration_hours\": 0.52, \"competitive_route\": 1, \"bus_multiplier\": 2.35, \"bus_difference\": 42.0, \"num_trips\": 30, \"num_competitive\": 25, \"pct_trips_competitive\": 0.833, \"bus_difference_spread\": 23.4, \"route_group\": \"medium\", \"max_trip_hrs\": 1.22, \"max_trip_route_group\": 1.22, \"below_cutoff\": 25, \"pct_below_cutoff\": 0.8333333333333334, \"name\": \"Morongo Band of Mission Indians\", \"caltrans_district\": \"08 - San Bernardino\", \"drmt_organization_name\": null, \"route_name\": \"Yucca Valley-Twentynine Palms\", \"cutoff2\": 30, \"cutoff\": 2}, {\"calitp_itp_id\": 212, \"trip_key\": 3090255030447947583, \"trip_id\": \"t_1392_b_489_tn_0\", \"shape_id\": \"p_288\", \"route_id\": \"350\", \"service_hours\": 0.92, \"trip_first_departure_ts\": 28500, \"trip_last_arrival_ts\": 31800, \"departure_hour\": 7, \"time_of_day\": \"AM Peak\", \"p25\": 0.92, \"p50\": 0.92, \"p75\": 0.92, \"p50_trip\": 1, \"fastest_trip\": 0, \"car_duration_hours\": 0.73, \"competitive_route\": 1, \"bus_multiplier\": 1.26, \"bus_difference\": 11.4, \"num_trips\": 6, \"num_competitive\": 6, \"pct_trips_competitive\": 1.0, \"bus_difference_spread\": 9.6, \"route_group\": \"medium\", \"max_trip_hrs\": 1.08, \"max_trip_route_group\": 1.08, \"below_cutoff\": 6, \"pct_below_cutoff\": 1.0, \"name\": \"Morongo Band of Mission Indians\", \"caltrans_district\": \"08 - San Bernardino\", \"drmt_organization_name\": null, \"route_name\": \"Yucca Valley - Palm Springs\", \"cutoff2\": 30, \"cutoff\": 2}, {\"calitp_itp_id\": 212, \"trip_key\": -7194114715627764428, \"trip_id\": \"t_1378_b_489_tn_0\", \"shape_id\": \"p_270\", \"route_id\": \"350\", \"service_hours\": 0.92, \"trip_first_departure_ts\": 60000, \"trip_last_arrival_ts\": 63300, \"departure_hour\": 16, \"time_of_day\": \"Midday\", \"p25\": 0.92, \"p50\": 0.92, \"p75\": 0.92, \"p50_trip\": 1, \"fastest_trip\": 0, \"car_duration_hours\": 0.73, \"competitive_route\": 1, \"bus_multiplier\": 1.26, \"bus_difference\": 11.4, \"num_trips\": 6, \"num_competitive\": 6, \"pct_trips_competitive\": 1.0, \"bus_difference_spread\": 9.6, \"route_group\": \"medium\", \"max_trip_hrs\": 1.08, \"max_trip_route_group\": 1.08, \"below_cutoff\": 6, \"pct_below_cutoff\": 1.0, \"name\": \"Morongo Band of Mission Indians\", \"caltrans_district\": \"08 - San Bernardino\", \"drmt_organization_name\": null, \"route_name\": \"Yucca Valley - Palm Springs\", \"cutoff2\": 30, \"cutoff\": 2}, {\"calitp_itp_id\": 212, \"trip_key\": -1982978580526997524, \"trip_id\": \"t_1377_b_489_tn_0\", \"shape_id\": \"p_270\", \"route_id\": \"350\", \"service_hours\": 0.92, \"trip_first_departure_ts\": 34800, \"trip_last_arrival_ts\": 38100, \"departure_hour\": 9, \"time_of_day\": \"AM Peak\", \"p25\": 0.92, \"p50\": 0.92, \"p75\": 0.92, \"p50_trip\": 1, \"fastest_trip\": 0, \"car_duration_hours\": 0.73, \"competitive_route\": 1, \"bus_multiplier\": 1.26, \"bus_difference\": 11.4, \"num_trips\": 6, \"num_competitive\": 6, \"pct_trips_competitive\": 1.0, \"bus_difference_spread\": 9.6, \"route_group\": \"medium\", \"max_trip_hrs\": 1.08, \"max_trip_route_group\": 1.08, \"below_cutoff\": 6, \"pct_below_cutoff\": 1.0, \"name\": \"Morongo Band of Mission Indians\", \"caltrans_district\": \"08 - San Bernardino\", \"drmt_organization_name\": null, \"route_name\": \"Yucca Valley - Palm Springs\", \"cutoff2\": 30, \"cutoff\": 2}, {\"calitp_itp_id\": 212, \"trip_key\": 4336152498001563059, \"trip_id\": \"t_1386_b_489_tn_0\", \"shape_id\": \"p_288\", \"route_id\": \"350\", \"service_hours\": 0.92, \"trip_first_departure_ts\": 63900, \"trip_last_arrival_ts\": 67200, \"departure_hour\": 17, \"time_of_day\": \"PM Peak\", \"p25\": 0.92, \"p50\": 0.92, \"p75\": 0.92, \"p50_trip\": 1, \"fastest_trip\": 1, \"car_duration_hours\": 0.73, \"competitive_route\": 1, \"bus_multiplier\": 1.26, \"bus_difference\": 11.4, \"num_trips\": 6, \"num_competitive\": 6, \"pct_trips_competitive\": 1.0, \"bus_difference_spread\": 9.6, \"route_group\": \"medium\", \"max_trip_hrs\": 1.08, \"max_trip_route_group\": 1.08, \"below_cutoff\": 6, \"pct_below_cutoff\": 1.0, \"name\": \"Morongo Band of Mission Indians\", \"caltrans_district\": \"08 - San Bernardino\", \"drmt_organization_name\": null, \"route_name\": \"Yucca Valley - Palm Springs\", \"cutoff2\": 30, \"cutoff\": 2}, {\"calitp_itp_id\": 212, \"trip_key\": 1121313051657293748, \"trip_id\": \"t_1376_b_489_tn_0\", \"shape_id\": \"p_270\", \"route_id\": \"350\", \"service_hours\": 0.92, \"trip_first_departure_ts\": 25200, \"trip_last_arrival_ts\": 28500, \"departure_hour\": 7, \"time_of_day\": \"AM Peak\", \"p25\": 0.92, \"p50\": 0.92, \"p75\": 0.92, \"p50_trip\": 1, \"fastest_trip\": 0, \"car_duration_hours\": 0.73, \"competitive_route\": 1, \"bus_multiplier\": 1.26, \"bus_difference\": 11.4, \"num_trips\": 6, \"num_competitive\": 6, \"pct_trips_competitive\": 1.0, \"bus_difference_spread\": 9.6, \"route_group\": \"medium\", \"max_trip_hrs\": 1.08, \"max_trip_route_group\": 1.08, \"below_cutoff\": 6, \"pct_below_cutoff\": 1.0, \"name\": \"Morongo Band of Mission Indians\", \"caltrans_district\": \"08 - San Bernardino\", \"drmt_organization_name\": null, \"route_name\": \"Yucca Valley - Palm Springs\", \"cutoff2\": 30, \"cutoff\": 2}, {\"calitp_itp_id\": 212, \"trip_key\": 4869777759681107014, \"trip_id\": \"t_1374_b_489_tn_0\", \"shape_id\": \"p_288\", \"route_id\": \"350\", \"service_hours\": 1.08, \"trip_first_departure_ts\": 38700, \"trip_last_arrival_ts\": 42600, \"departure_hour\": 10, \"time_of_day\": \"Midday\", \"p25\": 0.92, \"p50\": 0.92, \"p75\": 0.92, \"p50_trip\": 0, \"fastest_trip\": 0, \"car_duration_hours\": 0.73, \"competitive_route\": 1, \"bus_multiplier\": 1.48, \"bus_difference\": 21.0, \"num_trips\": 6, \"num_competitive\": 6, \"pct_trips_competitive\": 1.0, \"bus_difference_spread\": 9.6, \"route_group\": \"medium\", \"max_trip_hrs\": 1.08, \"max_trip_route_group\": 1.08, \"below_cutoff\": 6, \"pct_below_cutoff\": 1.0, \"name\": \"Morongo Band of Mission Indians\", \"caltrans_district\": \"08 - San Bernardino\", \"drmt_organization_name\": null, \"route_name\": \"Yucca Valley - Palm Springs\", \"cutoff2\": 30, \"cutoff\": 2}]}}, {\"mode\": \"vega-lite\"});\n",
       "</script>"
      ],
      "text/plain": [
       "alt.FacetChart(...)"
      ]
     },
     "metadata": {},
     "output_type": "display_data"
    },
    {
     "data": {
      "text/html": [
       "\n",
       "<div id=\"altair-viz-cee08289aa874d17a91c73ef40e630a1\"></div>\n",
       "<script type=\"text/javascript\">\n",
       "  var VEGA_DEBUG = (typeof VEGA_DEBUG == \"undefined\") ? {} : VEGA_DEBUG;\n",
       "  (function(spec, embedOpt){\n",
       "    let outputDiv = document.currentScript.previousElementSibling;\n",
       "    if (outputDiv.id !== \"altair-viz-cee08289aa874d17a91c73ef40e630a1\") {\n",
       "      outputDiv = document.getElementById(\"altair-viz-cee08289aa874d17a91c73ef40e630a1\");\n",
       "    }\n",
       "    const paths = {\n",
       "      \"vega\": \"https://cdn.jsdelivr.net/npm//vega@5?noext\",\n",
       "      \"vega-lib\": \"https://cdn.jsdelivr.net/npm//vega-lib?noext\",\n",
       "      \"vega-lite\": \"https://cdn.jsdelivr.net/npm//vega-lite@4.17.0?noext\",\n",
       "      \"vega-embed\": \"https://cdn.jsdelivr.net/npm//vega-embed@6?noext\",\n",
       "    };\n",
       "\n",
       "    function maybeLoadScript(lib, version) {\n",
       "      var key = `${lib.replace(\"-\", \"\")}_version`;\n",
       "      return (VEGA_DEBUG[key] == version) ?\n",
       "        Promise.resolve(paths[lib]) :\n",
       "        new Promise(function(resolve, reject) {\n",
       "          var s = document.createElement('script');\n",
       "          document.getElementsByTagName(\"head\")[0].appendChild(s);\n",
       "          s.async = true;\n",
       "          s.onload = () => {\n",
       "            VEGA_DEBUG[key] = version;\n",
       "            return resolve(paths[lib]);\n",
       "          };\n",
       "          s.onerror = () => reject(`Error loading script: ${paths[lib]}`);\n",
       "          s.src = paths[lib];\n",
       "        });\n",
       "    }\n",
       "\n",
       "    function showError(err) {\n",
       "      outputDiv.innerHTML = `<div class=\"error\" style=\"color:red;\">${err}</div>`;\n",
       "      throw err;\n",
       "    }\n",
       "\n",
       "    function displayChart(vegaEmbed) {\n",
       "      vegaEmbed(outputDiv, spec, embedOpt)\n",
       "        .catch(err => showError(`Javascript Error: ${err.message}<br>This usually means there's a typo in your chart specification. See the javascript console for the full traceback.`));\n",
       "    }\n",
       "\n",
       "    if(typeof define === \"function\" && define.amd) {\n",
       "      requirejs.config({paths});\n",
       "      require([\"vega-embed\"], displayChart, err => showError(`Error loading script: ${err.message}`));\n",
       "    } else {\n",
       "      maybeLoadScript(\"vega\", \"5\")\n",
       "        .then(() => maybeLoadScript(\"vega-lite\", \"4.17.0\"))\n",
       "        .then(() => maybeLoadScript(\"vega-embed\", \"6\"))\n",
       "        .catch(showError)\n",
       "        .then(() => displayChart(vegaEmbed));\n",
       "    }\n",
       "  })({\"config\": {\"view\": {\"continuousWidth\": 400, \"continuousHeight\": 300, \"stroke\": null}, \"facet\": {\"spacing\": 0}}, \"data\": {\"name\": \"data-0fea981aae7934310b49b44f7d6957c2\"}, \"facet\": {\"column\": {\"field\": \"route_id\", \"sort\": [\"350\", \"349\"], \"title\": \"Route ID\", \"type\": \"nominal\"}}, \"spec\": {\"layer\": [{\"mark\": \"rule\", \"encoding\": {\"color\": {\"value\": \"black\"}, \"y\": {\"field\": \"cutoff\", \"type\": \"quantitative\"}}, \"selection\": {\"selector004\": {\"type\": \"interval\", \"bind\": \"scales\", \"encodings\": [\"x\", \"y\"]}}}, {\"mark\": {\"type\": \"rule\", \"strokeDash\": [3, 3]}, \"encoding\": {\"color\": {\"value\": \"#323434\"}, \"y\": {\"field\": \"cutoff2\", \"type\": \"quantitative\"}}}, {\"mark\": {\"type\": \"point\", \"opacity\": 0.65, \"size\": 12, \"strokeWidth\": 1.1}, \"encoding\": {\"color\": {\"field\": \"time_of_day\", \"scale\": {\"range\": [\"#136C97\", \"#E16B26\", \"#F6BF16\", \"#00896B\", \"#7790A3\", \"#5B559C\"]}, \"sort\": [\"AM Peak\", \"Midday\", \"PM Peak\", \"Owl Service\"], \"title\": \"Time of Day\", \"type\": \"nominal\"}, \"tooltip\": [{\"field\": \"route_id\", \"type\": \"nominal\"}, {\"field\": \"route_name\", \"type\": \"nominal\"}, {\"field\": \"trip_id\", \"type\": \"nominal\"}, {\"field\": \"service_hours\", \"type\": \"quantitative\"}, {\"field\": \"car_duration_hours\", \"type\": \"quantitative\"}, {\"field\": \"bus_multiplier\", \"type\": \"quantitative\"}, {\"field\": \"bus_difference\", \"type\": \"quantitative\"}, {\"field\": \"num_trips\", \"type\": \"quantitative\"}, {\"field\": \"num_competitive\", \"type\": \"quantitative\"}, {\"field\": \"pct_trips_competitive\", \"type\": \"quantitative\"}, {\"field\": \"p25\", \"type\": \"quantitative\"}, {\"field\": \"p50\", \"type\": \"quantitative\"}, {\"field\": \"p75\", \"type\": \"quantitative\"}], \"x\": {\"axis\": {\"grid\": false, \"labels\": false, \"ticks\": true, \"values\": [0]}, \"field\": \"jitter\", \"scale\": {}, \"title\": null, \"type\": \"quantitative\"}, \"y\": {\"field\": \"bus_difference\", \"scale\": {\"domain\": [-5, 42.0]}, \"title\": \"Difference in Bus to Car Travel Time (min)\", \"type\": \"quantitative\"}}, \"transform\": [{\"calculate\": \"sqrt(-2*log(random()))*cos(2*PI*random())\", \"as\": \"jitter\"}], \"width\": 50}, {\"layer\": [{\"mark\": {\"type\": \"point\", \"opacity\": 0.6, \"size\": 20, \"strokeWidth\": 1.3}, \"encoding\": {\"color\": {\"value\": \"#323434\"}, \"y\": {\"field\": \"bus_difference\", \"type\": \"quantitative\"}}, \"transform\": [{\"filter\": \"(datum.p50_trip === 1)\"}]}, {\"mark\": {\"type\": \"text\", \"align\": \"center\", \"baseline\": \"middle\"}, \"encoding\": {\"color\": {\"value\": \"black\"}, \"text\": {\"field\": \"pct_trips_competitive\", \"format\": \".0%\", \"type\": \"quantitative\"}, \"tooltip\": [{\"field\": \"route_id\", \"type\": \"nominal\"}, {\"field\": \"route_name\", \"type\": \"nominal\"}, {\"field\": \"trip_id\", \"type\": \"nominal\"}, {\"field\": \"service_hours\", \"type\": \"quantitative\"}, {\"field\": \"car_duration_hours\", \"type\": \"quantitative\"}, {\"field\": \"bus_multiplier\", \"type\": \"quantitative\"}, {\"field\": \"bus_difference\", \"type\": \"quantitative\"}, {\"field\": \"num_trips\", \"type\": \"quantitative\"}, {\"field\": \"num_competitive\", \"type\": \"quantitative\"}, {\"field\": \"pct_trips_competitive\", \"type\": \"quantitative\"}, {\"field\": \"p25\", \"type\": \"quantitative\"}, {\"field\": \"p50\", \"type\": \"quantitative\"}, {\"field\": \"p75\", \"type\": \"quantitative\"}], \"x\": {\"value\": 30}, \"y\": {\"value\": 15}}, \"transform\": [{\"calculate\": \"sqrt(-2*log(random()))*cos(2*PI*random())\", \"as\": \"jitter\"}, {\"filter\": \"(datum.fastest_trip === 1)\"}]}]}]}, \"resolve\": {\"scale\": {\"y\": \"shared\"}}, \"title\": \"Difference in Bus to Car Travel Time (min)\", \"$schema\": \"https://vega.github.io/schema/vega-lite/v4.17.0.json\", \"datasets\": {\"data-0fea981aae7934310b49b44f7d6957c2\": [{\"calitp_itp_id\": 212, \"trip_key\": 5850337236365362568, \"trip_id\": \"t_869590_b_489_tn_0\", \"shape_id\": \"p_279\", \"route_id\": \"349\", \"service_hours\": 0.83, \"trip_first_departure_ts\": 46800, \"trip_last_arrival_ts\": 49800, \"departure_hour\": 13, \"time_of_day\": \"Midday\", \"p25\": 0.83, \"p50\": 0.83, \"p75\": 0.83, \"p50_trip\": 1, \"fastest_trip\": 0, \"car_duration_hours\": 0.52, \"competitive_route\": 1, \"bus_multiplier\": 1.6, \"bus_difference\": 18.6, \"num_trips\": 30, \"num_competitive\": 25, \"pct_trips_competitive\": 0.833, \"bus_difference_spread\": 23.4, \"route_group\": \"medium\", \"max_trip_hrs\": 1.22, \"max_trip_route_group\": 1.22, \"below_cutoff\": 25, \"pct_below_cutoff\": 0.8333333333333334, \"name\": \"Morongo Band of Mission Indians\", \"caltrans_district\": \"08 - San Bernardino\", \"drmt_organization_name\": null, \"route_name\": \"Yucca Valley-Twentynine Palms\", \"cutoff2\": 30, \"cutoff\": 0}, {\"calitp_itp_id\": 212, \"trip_key\": -3733284907296554600, \"trip_id\": \"t_869584_b_489_tn_0\", \"shape_id\": \"p_279\", \"route_id\": \"349\", \"service_hours\": 0.83, \"trip_first_departure_ts\": 25200, \"trip_last_arrival_ts\": 28200, \"departure_hour\": 7, \"time_of_day\": \"AM Peak\", \"p25\": 0.83, \"p50\": 0.83, \"p75\": 0.83, \"p50_trip\": 1, \"fastest_trip\": 0, \"car_duration_hours\": 0.52, \"competitive_route\": 1, \"bus_multiplier\": 1.6, \"bus_difference\": 18.6, \"num_trips\": 30, \"num_competitive\": 25, \"pct_trips_competitive\": 0.833, \"bus_difference_spread\": 23.4, \"route_group\": \"medium\", \"max_trip_hrs\": 1.22, \"max_trip_route_group\": 1.22, \"below_cutoff\": 25, \"pct_below_cutoff\": 0.8333333333333334, \"name\": \"Morongo Band of Mission Indians\", \"caltrans_district\": \"08 - San Bernardino\", \"drmt_organization_name\": null, \"route_name\": \"Yucca Valley-Twentynine Palms\", \"cutoff2\": 30, \"cutoff\": 0}, {\"calitp_itp_id\": 212, \"trip_key\": -6680245441941794366, \"trip_id\": \"t_869591_b_489_tn_0\", \"shape_id\": \"p_279\", \"route_id\": \"349\", \"service_hours\": 0.83, \"trip_first_departure_ts\": 50400, \"trip_last_arrival_ts\": 53400, \"departure_hour\": 14, \"time_of_day\": \"Midday\", \"p25\": 0.83, \"p50\": 0.83, \"p75\": 0.83, \"p50_trip\": 1, \"fastest_trip\": 0, \"car_duration_hours\": 0.52, \"competitive_route\": 1, \"bus_multiplier\": 1.6, \"bus_difference\": 18.6, \"num_trips\": 30, \"num_competitive\": 25, \"pct_trips_competitive\": 0.833, \"bus_difference_spread\": 23.4, \"route_group\": \"medium\", \"max_trip_hrs\": 1.22, \"max_trip_route_group\": 1.22, \"below_cutoff\": 25, \"pct_below_cutoff\": 0.8333333333333334, \"name\": \"Morongo Band of Mission Indians\", \"caltrans_district\": \"08 - San Bernardino\", \"drmt_organization_name\": null, \"route_name\": \"Yucca Valley-Twentynine Palms\", \"cutoff2\": 30, \"cutoff\": 0}, {\"calitp_itp_id\": 212, \"trip_key\": -3539033563784263740, \"trip_id\": \"t_869577_b_489_tn_0\", \"shape_id\": \"p_272\", \"route_id\": \"349\", \"service_hours\": 0.83, \"trip_first_departure_ts\": 39600, \"trip_last_arrival_ts\": 42600, \"departure_hour\": 11, \"time_of_day\": \"Midday\", \"p25\": 0.83, \"p50\": 0.83, \"p75\": 0.83, \"p50_trip\": 1, \"fastest_trip\": 0, \"car_duration_hours\": 0.52, \"competitive_route\": 1, \"bus_multiplier\": 1.6, \"bus_difference\": 18.6, \"num_trips\": 30, \"num_competitive\": 25, \"pct_trips_competitive\": 0.833, \"bus_difference_spread\": 23.4, \"route_group\": \"medium\", \"max_trip_hrs\": 1.22, \"max_trip_route_group\": 1.22, \"below_cutoff\": 25, \"pct_below_cutoff\": 0.8333333333333334, \"name\": \"Morongo Band of Mission Indians\", \"caltrans_district\": \"08 - San Bernardino\", \"drmt_organization_name\": null, \"route_name\": \"Yucca Valley-Twentynine Palms\", \"cutoff2\": 30, \"cutoff\": 0}, {\"calitp_itp_id\": 212, \"trip_key\": 7716272102889482960, \"trip_id\": \"t_869582_b_489_tn_0\", \"shape_id\": \"p_272\", \"route_id\": \"349\", \"service_hours\": 0.83, \"trip_first_departure_ts\": 57600, \"trip_last_arrival_ts\": 60600, \"departure_hour\": 16, \"time_of_day\": \"Midday\", \"p25\": 0.83, \"p50\": 0.83, \"p75\": 0.83, \"p50_trip\": 1, \"fastest_trip\": 0, \"car_duration_hours\": 0.52, \"competitive_route\": 1, \"bus_multiplier\": 1.6, \"bus_difference\": 18.6, \"num_trips\": 30, \"num_competitive\": 25, \"pct_trips_competitive\": 0.833, \"bus_difference_spread\": 23.4, \"route_group\": \"medium\", \"max_trip_hrs\": 1.22, \"max_trip_route_group\": 1.22, \"below_cutoff\": 25, \"pct_below_cutoff\": 0.8333333333333334, \"name\": \"Morongo Band of Mission Indians\", \"caltrans_district\": \"08 - San Bernardino\", \"drmt_organization_name\": null, \"route_name\": \"Yucca Valley-Twentynine Palms\", \"cutoff2\": 30, \"cutoff\": 0}, {\"calitp_itp_id\": 212, \"trip_key\": -945826195563375557, \"trip_id\": \"t_869580_b_489_tn_0\", \"shape_id\": \"p_272\", \"route_id\": \"349\", \"service_hours\": 0.83, \"trip_first_departure_ts\": 50400, \"trip_last_arrival_ts\": 53400, \"departure_hour\": 14, \"time_of_day\": \"Midday\", \"p25\": 0.83, \"p50\": 0.83, \"p75\": 0.83, \"p50_trip\": 1, \"fastest_trip\": 0, \"car_duration_hours\": 0.52, \"competitive_route\": 1, \"bus_multiplier\": 1.6, \"bus_difference\": 18.6, \"num_trips\": 30, \"num_competitive\": 25, \"pct_trips_competitive\": 0.833, \"bus_difference_spread\": 23.4, \"route_group\": \"medium\", \"max_trip_hrs\": 1.22, \"max_trip_route_group\": 1.22, \"below_cutoff\": 25, \"pct_below_cutoff\": 0.8333333333333334, \"name\": \"Morongo Band of Mission Indians\", \"caltrans_district\": \"08 - San Bernardino\", \"drmt_organization_name\": null, \"route_name\": \"Yucca Valley-Twentynine Palms\", \"cutoff2\": 30, \"cutoff\": 0}, {\"calitp_itp_id\": 212, \"trip_key\": 2025043753291756551, \"trip_id\": \"t_869588_b_489_tn_0\", \"shape_id\": \"p_279\", \"route_id\": \"349\", \"service_hours\": 0.83, \"trip_first_departure_ts\": 39600, \"trip_last_arrival_ts\": 42600, \"departure_hour\": 11, \"time_of_day\": \"Midday\", \"p25\": 0.83, \"p50\": 0.83, \"p75\": 0.83, \"p50_trip\": 1, \"fastest_trip\": 0, \"car_duration_hours\": 0.52, \"competitive_route\": 1, \"bus_multiplier\": 1.6, \"bus_difference\": 18.6, \"num_trips\": 30, \"num_competitive\": 25, \"pct_trips_competitive\": 0.833, \"bus_difference_spread\": 23.4, \"route_group\": \"medium\", \"max_trip_hrs\": 1.22, \"max_trip_route_group\": 1.22, \"below_cutoff\": 25, \"pct_below_cutoff\": 0.8333333333333334, \"name\": \"Morongo Band of Mission Indians\", \"caltrans_district\": \"08 - San Bernardino\", \"drmt_organization_name\": null, \"route_name\": \"Yucca Valley-Twentynine Palms\", \"cutoff2\": 30, \"cutoff\": 0}, {\"calitp_itp_id\": 212, \"trip_key\": -2723586224887403272, \"trip_id\": \"t_869575_b_489_tn_0\", \"shape_id\": \"p_272\", \"route_id\": \"349\", \"service_hours\": 0.83, \"trip_first_departure_ts\": 32400, \"trip_last_arrival_ts\": 35400, \"departure_hour\": 9, \"time_of_day\": \"AM Peak\", \"p25\": 0.83, \"p50\": 0.83, \"p75\": 0.83, \"p50_trip\": 1, \"fastest_trip\": 0, \"car_duration_hours\": 0.52, \"competitive_route\": 1, \"bus_multiplier\": 1.6, \"bus_difference\": 18.6, \"num_trips\": 30, \"num_competitive\": 25, \"pct_trips_competitive\": 0.833, \"bus_difference_spread\": 23.4, \"route_group\": \"medium\", \"max_trip_hrs\": 1.22, \"max_trip_route_group\": 1.22, \"below_cutoff\": 25, \"pct_below_cutoff\": 0.8333333333333334, \"name\": \"Morongo Band of Mission Indians\", \"caltrans_district\": \"08 - San Bernardino\", \"drmt_organization_name\": null, \"route_name\": \"Yucca Valley-Twentynine Palms\", \"cutoff2\": 30, \"cutoff\": 0}, {\"calitp_itp_id\": 212, \"trip_key\": 8278307551033318408, \"trip_id\": \"t_1384_b_489_tn_0\", \"shape_id\": \"p_178818\", \"route_id\": \"349\", \"service_hours\": 0.83, \"trip_first_departure_ts\": 21600, \"trip_last_arrival_ts\": 24600, \"departure_hour\": 6, \"time_of_day\": \"Owl Service\", \"p25\": 0.83, \"p50\": 0.83, \"p75\": 0.83, \"p50_trip\": 1, \"fastest_trip\": 0, \"car_duration_hours\": 0.52, \"competitive_route\": 1, \"bus_multiplier\": 1.6, \"bus_difference\": 18.6, \"num_trips\": 30, \"num_competitive\": 25, \"pct_trips_competitive\": 0.833, \"bus_difference_spread\": 23.4, \"route_group\": \"medium\", \"max_trip_hrs\": 1.22, \"max_trip_route_group\": 1.22, \"below_cutoff\": 25, \"pct_below_cutoff\": 0.8333333333333334, \"name\": \"Morongo Band of Mission Indians\", \"caltrans_district\": \"08 - San Bernardino\", \"drmt_organization_name\": null, \"route_name\": \"Yucca Valley-Twentynine Palms\", \"cutoff2\": 30, \"cutoff\": 0}, {\"calitp_itp_id\": 212, \"trip_key\": -8497861685978056822, \"trip_id\": \"t_869589_b_489_tn_0\", \"shape_id\": \"p_279\", \"route_id\": \"349\", \"service_hours\": 0.83, \"trip_first_departure_ts\": 43200, \"trip_last_arrival_ts\": 46200, \"departure_hour\": 12, \"time_of_day\": \"Midday\", \"p25\": 0.83, \"p50\": 0.83, \"p75\": 0.83, \"p50_trip\": 1, \"fastest_trip\": 0, \"car_duration_hours\": 0.52, \"competitive_route\": 1, \"bus_multiplier\": 1.6, \"bus_difference\": 18.6, \"num_trips\": 30, \"num_competitive\": 25, \"pct_trips_competitive\": 0.833, \"bus_difference_spread\": 23.4, \"route_group\": \"medium\", \"max_trip_hrs\": 1.22, \"max_trip_route_group\": 1.22, \"below_cutoff\": 25, \"pct_below_cutoff\": 0.8333333333333334, \"name\": \"Morongo Band of Mission Indians\", \"caltrans_district\": \"08 - San Bernardino\", \"drmt_organization_name\": null, \"route_name\": \"Yucca Valley-Twentynine Palms\", \"cutoff2\": 30, \"cutoff\": 0}, {\"calitp_itp_id\": 212, \"trip_key\": 516973843394186168, \"trip_id\": \"t_869576_b_489_tn_0\", \"shape_id\": \"p_272\", \"route_id\": \"349\", \"service_hours\": 0.83, \"trip_first_departure_ts\": 36000, \"trip_last_arrival_ts\": 39000, \"departure_hour\": 10, \"time_of_day\": \"Midday\", \"p25\": 0.83, \"p50\": 0.83, \"p75\": 0.83, \"p50_trip\": 1, \"fastest_trip\": 0, \"car_duration_hours\": 0.52, \"competitive_route\": 1, \"bus_multiplier\": 1.6, \"bus_difference\": 18.6, \"num_trips\": 30, \"num_competitive\": 25, \"pct_trips_competitive\": 0.833, \"bus_difference_spread\": 23.4, \"route_group\": \"medium\", \"max_trip_hrs\": 1.22, \"max_trip_route_group\": 1.22, \"below_cutoff\": 25, \"pct_below_cutoff\": 0.8333333333333334, \"name\": \"Morongo Band of Mission Indians\", \"caltrans_district\": \"08 - San Bernardino\", \"drmt_organization_name\": null, \"route_name\": \"Yucca Valley-Twentynine Palms\", \"cutoff2\": 30, \"cutoff\": 0}, {\"calitp_itp_id\": 212, \"trip_key\": -996770051850407450, \"trip_id\": \"t_869579_b_489_tn_0\", \"shape_id\": \"p_272\", \"route_id\": \"349\", \"service_hours\": 0.83, \"trip_first_departure_ts\": 46800, \"trip_last_arrival_ts\": 49800, \"departure_hour\": 13, \"time_of_day\": \"Midday\", \"p25\": 0.83, \"p50\": 0.83, \"p75\": 0.83, \"p50_trip\": 1, \"fastest_trip\": 0, \"car_duration_hours\": 0.52, \"competitive_route\": 1, \"bus_multiplier\": 1.6, \"bus_difference\": 18.6, \"num_trips\": 30, \"num_competitive\": 25, \"pct_trips_competitive\": 0.833, \"bus_difference_spread\": 23.4, \"route_group\": \"medium\", \"max_trip_hrs\": 1.22, \"max_trip_route_group\": 1.22, \"below_cutoff\": 25, \"pct_below_cutoff\": 0.8333333333333334, \"name\": \"Morongo Band of Mission Indians\", \"caltrans_district\": \"08 - San Bernardino\", \"drmt_organization_name\": null, \"route_name\": \"Yucca Valley-Twentynine Palms\", \"cutoff2\": 30, \"cutoff\": 0}, {\"calitp_itp_id\": 212, \"trip_key\": -5767180621765676816, \"trip_id\": \"t_1385_b_489_tn_0\", \"shape_id\": \"p_276\", \"route_id\": \"349\", \"service_hours\": 0.83, \"trip_first_departure_ts\": 21600, \"trip_last_arrival_ts\": 24600, \"departure_hour\": 6, \"time_of_day\": \"Owl Service\", \"p25\": 0.83, \"p50\": 0.83, \"p75\": 0.83, \"p50_trip\": 1, \"fastest_trip\": 0, \"car_duration_hours\": 0.52, \"competitive_route\": 1, \"bus_multiplier\": 1.6, \"bus_difference\": 18.6, \"num_trips\": 30, \"num_competitive\": 25, \"pct_trips_competitive\": 0.833, \"bus_difference_spread\": 23.4, \"route_group\": \"medium\", \"max_trip_hrs\": 1.22, \"max_trip_route_group\": 1.22, \"below_cutoff\": 25, \"pct_below_cutoff\": 0.8333333333333334, \"name\": \"Morongo Band of Mission Indians\", \"caltrans_district\": \"08 - San Bernardino\", \"drmt_organization_name\": null, \"route_name\": \"Yucca Valley-Twentynine Palms\", \"cutoff2\": 30, \"cutoff\": 0}, {\"calitp_itp_id\": 212, \"trip_key\": -483327558155412322, \"trip_id\": \"t_869592_b_489_tn_0\", \"shape_id\": \"p_279\", \"route_id\": \"349\", \"service_hours\": 0.83, \"trip_first_departure_ts\": 54000, \"trip_last_arrival_ts\": 57000, \"departure_hour\": 15, \"time_of_day\": \"Midday\", \"p25\": 0.83, \"p50\": 0.83, \"p75\": 0.83, \"p50_trip\": 1, \"fastest_trip\": 0, \"car_duration_hours\": 0.52, \"competitive_route\": 1, \"bus_multiplier\": 1.6, \"bus_difference\": 18.6, \"num_trips\": 30, \"num_competitive\": 25, \"pct_trips_competitive\": 0.833, \"bus_difference_spread\": 23.4, \"route_group\": \"medium\", \"max_trip_hrs\": 1.22, \"max_trip_route_group\": 1.22, \"below_cutoff\": 25, \"pct_below_cutoff\": 0.8333333333333334, \"name\": \"Morongo Band of Mission Indians\", \"caltrans_district\": \"08 - San Bernardino\", \"drmt_organization_name\": null, \"route_name\": \"Yucca Valley-Twentynine Palms\", \"cutoff2\": 30, \"cutoff\": 0}, {\"calitp_itp_id\": 212, \"trip_key\": 2806197447462977539, \"trip_id\": \"t_869573_b_489_tn_0\", \"shape_id\": \"p_272\", \"route_id\": \"349\", \"service_hours\": 0.83, \"trip_first_departure_ts\": 25200, \"trip_last_arrival_ts\": 28200, \"departure_hour\": 7, \"time_of_day\": \"AM Peak\", \"p25\": 0.83, \"p50\": 0.83, \"p75\": 0.83, \"p50_trip\": 1, \"fastest_trip\": 0, \"car_duration_hours\": 0.52, \"competitive_route\": 1, \"bus_multiplier\": 1.6, \"bus_difference\": 18.6, \"num_trips\": 30, \"num_competitive\": 25, \"pct_trips_competitive\": 0.833, \"bus_difference_spread\": 23.4, \"route_group\": \"medium\", \"max_trip_hrs\": 1.22, \"max_trip_route_group\": 1.22, \"below_cutoff\": 25, \"pct_below_cutoff\": 0.8333333333333334, \"name\": \"Morongo Band of Mission Indians\", \"caltrans_district\": \"08 - San Bernardino\", \"drmt_organization_name\": null, \"route_name\": \"Yucca Valley-Twentynine Palms\", \"cutoff2\": 30, \"cutoff\": 0}, {\"calitp_itp_id\": 212, \"trip_key\": 7709892903398718119, \"trip_id\": \"t_869574_b_489_tn_0\", \"shape_id\": \"p_272\", \"route_id\": \"349\", \"service_hours\": 0.83, \"trip_first_departure_ts\": 28800, \"trip_last_arrival_ts\": 31800, \"departure_hour\": 8, \"time_of_day\": \"AM Peak\", \"p25\": 0.83, \"p50\": 0.83, \"p75\": 0.83, \"p50_trip\": 1, \"fastest_trip\": 0, \"car_duration_hours\": 0.52, \"competitive_route\": 1, \"bus_multiplier\": 1.6, \"bus_difference\": 18.6, \"num_trips\": 30, \"num_competitive\": 25, \"pct_trips_competitive\": 0.833, \"bus_difference_spread\": 23.4, \"route_group\": \"medium\", \"max_trip_hrs\": 1.22, \"max_trip_route_group\": 1.22, \"below_cutoff\": 25, \"pct_below_cutoff\": 0.8333333333333334, \"name\": \"Morongo Band of Mission Indians\", \"caltrans_district\": \"08 - San Bernardino\", \"drmt_organization_name\": null, \"route_name\": \"Yucca Valley-Twentynine Palms\", \"cutoff2\": 30, \"cutoff\": 0}, {\"calitp_itp_id\": 212, \"trip_key\": -810498857071654717, \"trip_id\": \"t_869585_b_489_tn_0\", \"shape_id\": \"p_279\", \"route_id\": \"349\", \"service_hours\": 0.83, \"trip_first_departure_ts\": 28800, \"trip_last_arrival_ts\": 31800, \"departure_hour\": 8, \"time_of_day\": \"AM Peak\", \"p25\": 0.83, \"p50\": 0.83, \"p75\": 0.83, \"p50_trip\": 1, \"fastest_trip\": 0, \"car_duration_hours\": 0.52, \"competitive_route\": 1, \"bus_multiplier\": 1.6, \"bus_difference\": 18.6, \"num_trips\": 30, \"num_competitive\": 25, \"pct_trips_competitive\": 0.833, \"bus_difference_spread\": 23.4, \"route_group\": \"medium\", \"max_trip_hrs\": 1.22, \"max_trip_route_group\": 1.22, \"below_cutoff\": 25, \"pct_below_cutoff\": 0.8333333333333334, \"name\": \"Morongo Band of Mission Indians\", \"caltrans_district\": \"08 - San Bernardino\", \"drmt_organization_name\": null, \"route_name\": \"Yucca Valley-Twentynine Palms\", \"cutoff2\": 30, \"cutoff\": 0}, {\"calitp_itp_id\": 212, \"trip_key\": -2636862393350685226, \"trip_id\": \"t_869587_b_489_tn_0\", \"shape_id\": \"p_279\", \"route_id\": \"349\", \"service_hours\": 0.83, \"trip_first_departure_ts\": 36000, \"trip_last_arrival_ts\": 39000, \"departure_hour\": 10, \"time_of_day\": \"Midday\", \"p25\": 0.83, \"p50\": 0.83, \"p75\": 0.83, \"p50_trip\": 1, \"fastest_trip\": 0, \"car_duration_hours\": 0.52, \"competitive_route\": 1, \"bus_multiplier\": 1.6, \"bus_difference\": 18.6, \"num_trips\": 30, \"num_competitive\": 25, \"pct_trips_competitive\": 0.833, \"bus_difference_spread\": 23.4, \"route_group\": \"medium\", \"max_trip_hrs\": 1.22, \"max_trip_route_group\": 1.22, \"below_cutoff\": 25, \"pct_below_cutoff\": 0.8333333333333334, \"name\": \"Morongo Band of Mission Indians\", \"caltrans_district\": \"08 - San Bernardino\", \"drmt_organization_name\": null, \"route_name\": \"Yucca Valley-Twentynine Palms\", \"cutoff2\": 30, \"cutoff\": 0}, {\"calitp_itp_id\": 212, \"trip_key\": 3062303850922068630, \"trip_id\": \"t_869581_b_489_tn_0\", \"shape_id\": \"p_272\", \"route_id\": \"349\", \"service_hours\": 0.83, \"trip_first_departure_ts\": 54000, \"trip_last_arrival_ts\": 57000, \"departure_hour\": 15, \"time_of_day\": \"Midday\", \"p25\": 0.83, \"p50\": 0.83, \"p75\": 0.83, \"p50_trip\": 1, \"fastest_trip\": 0, \"car_duration_hours\": 0.52, \"competitive_route\": 1, \"bus_multiplier\": 1.6, \"bus_difference\": 18.6, \"num_trips\": 30, \"num_competitive\": 25, \"pct_trips_competitive\": 0.833, \"bus_difference_spread\": 23.4, \"route_group\": \"medium\", \"max_trip_hrs\": 1.22, \"max_trip_route_group\": 1.22, \"below_cutoff\": 25, \"pct_below_cutoff\": 0.8333333333333334, \"name\": \"Morongo Band of Mission Indians\", \"caltrans_district\": \"08 - San Bernardino\", \"drmt_organization_name\": null, \"route_name\": \"Yucca Valley-Twentynine Palms\", \"cutoff2\": 30, \"cutoff\": 0}, {\"calitp_itp_id\": 212, \"trip_key\": 7188253574222009694, \"trip_id\": \"t_869586_b_489_tn_0\", \"shape_id\": \"p_279\", \"route_id\": \"349\", \"service_hours\": 0.83, \"trip_first_departure_ts\": 32400, \"trip_last_arrival_ts\": 35400, \"departure_hour\": 9, \"time_of_day\": \"AM Peak\", \"p25\": 0.83, \"p50\": 0.83, \"p75\": 0.83, \"p50_trip\": 1, \"fastest_trip\": 0, \"car_duration_hours\": 0.52, \"competitive_route\": 1, \"bus_multiplier\": 1.6, \"bus_difference\": 18.6, \"num_trips\": 30, \"num_competitive\": 25, \"pct_trips_competitive\": 0.833, \"bus_difference_spread\": 23.4, \"route_group\": \"medium\", \"max_trip_hrs\": 1.22, \"max_trip_route_group\": 1.22, \"below_cutoff\": 25, \"pct_below_cutoff\": 0.8333333333333334, \"name\": \"Morongo Band of Mission Indians\", \"caltrans_district\": \"08 - San Bernardino\", \"drmt_organization_name\": null, \"route_name\": \"Yucca Valley-Twentynine Palms\", \"cutoff2\": 30, \"cutoff\": 0}, {\"calitp_itp_id\": 212, \"trip_key\": -3963691485412924367, \"trip_id\": \"t_869578_b_489_tn_0\", \"shape_id\": \"p_272\", \"route_id\": \"349\", \"service_hours\": 0.83, \"trip_first_departure_ts\": 43200, \"trip_last_arrival_ts\": 46200, \"departure_hour\": 12, \"time_of_day\": \"Midday\", \"p25\": 0.83, \"p50\": 0.83, \"p75\": 0.83, \"p50_trip\": 1, \"fastest_trip\": 0, \"car_duration_hours\": 0.52, \"competitive_route\": 1, \"bus_multiplier\": 1.6, \"bus_difference\": 18.6, \"num_trips\": 30, \"num_competitive\": 25, \"pct_trips_competitive\": 0.833, \"bus_difference_spread\": 23.4, \"route_group\": \"medium\", \"max_trip_hrs\": 1.22, \"max_trip_route_group\": 1.22, \"below_cutoff\": 25, \"pct_below_cutoff\": 0.8333333333333334, \"name\": \"Morongo Band of Mission Indians\", \"caltrans_district\": \"08 - San Bernardino\", \"drmt_organization_name\": null, \"route_name\": \"Yucca Valley-Twentynine Palms\", \"cutoff2\": 30, \"cutoff\": 0}, {\"calitp_itp_id\": 212, \"trip_key\": -5301656924656097689, \"trip_id\": \"t_869593_b_489_tn_0\", \"shape_id\": \"p_279\", \"route_id\": \"349\", \"service_hours\": 0.83, \"trip_first_departure_ts\": 57600, \"trip_last_arrival_ts\": 60600, \"departure_hour\": 16, \"time_of_day\": \"Midday\", \"p25\": 0.83, \"p50\": 0.83, \"p75\": 0.83, \"p50_trip\": 1, \"fastest_trip\": 0, \"car_duration_hours\": 0.52, \"competitive_route\": 1, \"bus_multiplier\": 1.6, \"bus_difference\": 18.6, \"num_trips\": 30, \"num_competitive\": 25, \"pct_trips_competitive\": 0.833, \"bus_difference_spread\": 23.4, \"route_group\": \"medium\", \"max_trip_hrs\": 1.22, \"max_trip_route_group\": 1.22, \"below_cutoff\": 25, \"pct_below_cutoff\": 0.8333333333333334, \"name\": \"Morongo Band of Mission Indians\", \"caltrans_district\": \"08 - San Bernardino\", \"drmt_organization_name\": null, \"route_name\": \"Yucca Valley-Twentynine Palms\", \"cutoff2\": 30, \"cutoff\": 0}, {\"calitp_itp_id\": 212, \"trip_key\": -764998138802977487, \"trip_id\": \"t_869583_b_489_tn_0\", \"shape_id\": \"p_272\", \"route_id\": \"349\", \"service_hours\": 0.83, \"trip_first_departure_ts\": 61200, \"trip_last_arrival_ts\": 64200, \"departure_hour\": 17, \"time_of_day\": \"PM Peak\", \"p25\": 0.83, \"p50\": 0.83, \"p75\": 0.83, \"p50_trip\": 1, \"fastest_trip\": 1, \"car_duration_hours\": 0.52, \"competitive_route\": 1, \"bus_multiplier\": 1.6, \"bus_difference\": 18.6, \"num_trips\": 30, \"num_competitive\": 25, \"pct_trips_competitive\": 0.833, \"bus_difference_spread\": 23.4, \"route_group\": \"medium\", \"max_trip_hrs\": 1.22, \"max_trip_route_group\": 1.22, \"below_cutoff\": 25, \"pct_below_cutoff\": 0.8333333333333334, \"name\": \"Morongo Band of Mission Indians\", \"caltrans_district\": \"08 - San Bernardino\", \"drmt_organization_name\": null, \"route_name\": \"Yucca Valley-Twentynine Palms\", \"cutoff2\": 30, \"cutoff\": 0}, {\"calitp_itp_id\": 212, \"trip_key\": 2368826429394615188, \"trip_id\": \"t_1375_b_489_tn_0\", \"shape_id\": \"p_275\", \"route_id\": \"349\", \"service_hours\": 0.92, \"trip_first_departure_ts\": 76320, \"trip_last_arrival_ts\": 79620, \"departure_hour\": 21, \"time_of_day\": \"Owl Service\", \"p25\": 0.83, \"p50\": 0.83, \"p75\": 0.83, \"p50_trip\": 0, \"fastest_trip\": 0, \"car_duration_hours\": 0.52, \"competitive_route\": 1, \"bus_multiplier\": 1.77, \"bus_difference\": 24.0, \"num_trips\": 30, \"num_competitive\": 25, \"pct_trips_competitive\": 0.833, \"bus_difference_spread\": 23.4, \"route_group\": \"medium\", \"max_trip_hrs\": 1.22, \"max_trip_route_group\": 1.22, \"below_cutoff\": 25, \"pct_below_cutoff\": 0.8333333333333334, \"name\": \"Morongo Band of Mission Indians\", \"caltrans_district\": \"08 - San Bernardino\", \"drmt_organization_name\": null, \"route_name\": \"Yucca Valley-Twentynine Palms\", \"cutoff2\": 30, \"cutoff\": 0}, {\"calitp_itp_id\": 212, \"trip_key\": -8441835833794788282, \"trip_id\": \"t_1388_b_489_tn_0\", \"shape_id\": \"p_280\", \"route_id\": \"349\", \"service_hours\": 1.0, \"trip_first_departure_ts\": 61200, \"trip_last_arrival_ts\": 64800, \"departure_hour\": 17, \"time_of_day\": \"PM Peak\", \"p25\": 0.83, \"p50\": 0.83, \"p75\": 0.83, \"p50_trip\": 0, \"fastest_trip\": 0, \"car_duration_hours\": 0.52, \"competitive_route\": 1, \"bus_multiplier\": 1.92, \"bus_difference\": 28.8, \"num_trips\": 30, \"num_competitive\": 25, \"pct_trips_competitive\": 0.833, \"bus_difference_spread\": 23.4, \"route_group\": \"medium\", \"max_trip_hrs\": 1.22, \"max_trip_route_group\": 1.22, \"below_cutoff\": 25, \"pct_below_cutoff\": 0.8333333333333334, \"name\": \"Morongo Band of Mission Indians\", \"caltrans_district\": \"08 - San Bernardino\", \"drmt_organization_name\": null, \"route_name\": \"Yucca Valley-Twentynine Palms\", \"cutoff2\": 30, \"cutoff\": 0}, {\"calitp_itp_id\": 212, \"trip_key\": -6835242988218459180, \"trip_id\": \"t_1381_b_489_tn_0\", \"shape_id\": \"p_283\", \"route_id\": \"349\", \"service_hours\": 1.12, \"trip_first_departure_ts\": 72300, \"trip_last_arrival_ts\": 76320, \"departure_hour\": 20, \"time_of_day\": \"Owl Service\", \"p25\": 0.83, \"p50\": 0.83, \"p75\": 0.83, \"p50_trip\": 0, \"fastest_trip\": 0, \"car_duration_hours\": 0.52, \"competitive_route\": 1, \"bus_multiplier\": 2.15, \"bus_difference\": 36.0, \"num_trips\": 30, \"num_competitive\": 25, \"pct_trips_competitive\": 0.833, \"bus_difference_spread\": 23.4, \"route_group\": \"medium\", \"max_trip_hrs\": 1.22, \"max_trip_route_group\": 1.22, \"below_cutoff\": 25, \"pct_below_cutoff\": 0.8333333333333334, \"name\": \"Morongo Band of Mission Indians\", \"caltrans_district\": \"08 - San Bernardino\", \"drmt_organization_name\": null, \"route_name\": \"Yucca Valley-Twentynine Palms\", \"cutoff2\": 30, \"cutoff\": 0}, {\"calitp_itp_id\": 212, \"trip_key\": 5683966584791188435, \"trip_id\": \"t_1379_b_489_tn_0\", \"shape_id\": \"p_275\", \"route_id\": \"349\", \"service_hours\": 1.15, \"trip_first_departure_ts\": 71700, \"trip_last_arrival_ts\": 75840, \"departure_hour\": 19, \"time_of_day\": \"PM Peak\", \"p25\": 0.83, \"p50\": 0.83, \"p75\": 0.83, \"p50_trip\": 0, \"fastest_trip\": 0, \"car_duration_hours\": 0.52, \"competitive_route\": 1, \"bus_multiplier\": 2.21, \"bus_difference\": 37.8, \"num_trips\": 30, \"num_competitive\": 25, \"pct_trips_competitive\": 0.833, \"bus_difference_spread\": 23.4, \"route_group\": \"medium\", \"max_trip_hrs\": 1.22, \"max_trip_route_group\": 1.22, \"below_cutoff\": 25, \"pct_below_cutoff\": 0.8333333333333334, \"name\": \"Morongo Band of Mission Indians\", \"caltrans_district\": \"08 - San Bernardino\", \"drmt_organization_name\": null, \"route_name\": \"Yucca Valley-Twentynine Palms\", \"cutoff2\": 30, \"cutoff\": 0}, {\"calitp_itp_id\": 212, \"trip_key\": 3761178629967692239, \"trip_id\": \"t_1380_b_489_tn_0\", \"shape_id\": \"p_283\", \"route_id\": \"349\", \"service_hours\": 1.2, \"trip_first_departure_ts\": 67200, \"trip_last_arrival_ts\": 71520, \"departure_hour\": 18, \"time_of_day\": \"PM Peak\", \"p25\": 0.83, \"p50\": 0.83, \"p75\": 0.83, \"p50_trip\": 0, \"fastest_trip\": 0, \"car_duration_hours\": 0.52, \"competitive_route\": 1, \"bus_multiplier\": 2.31, \"bus_difference\": 40.8, \"num_trips\": 30, \"num_competitive\": 25, \"pct_trips_competitive\": 0.833, \"bus_difference_spread\": 23.4, \"route_group\": \"medium\", \"max_trip_hrs\": 1.22, \"max_trip_route_group\": 1.22, \"below_cutoff\": 25, \"pct_below_cutoff\": 0.8333333333333334, \"name\": \"Morongo Band of Mission Indians\", \"caltrans_district\": \"08 - San Bernardino\", \"drmt_organization_name\": null, \"route_name\": \"Yucca Valley-Twentynine Palms\", \"cutoff2\": 30, \"cutoff\": 0}, {\"calitp_itp_id\": 212, \"trip_key\": -6285086006216661977, \"trip_id\": \"t_1373_b_489_tn_0\", \"shape_id\": \"p_283\", \"route_id\": \"349\", \"service_hours\": 1.2, \"trip_first_departure_ts\": 76200, \"trip_last_arrival_ts\": 80520, \"departure_hour\": 21, \"time_of_day\": \"Owl Service\", \"p25\": 0.83, \"p50\": 0.83, \"p75\": 0.83, \"p50_trip\": 0, \"fastest_trip\": 0, \"car_duration_hours\": 0.52, \"competitive_route\": 1, \"bus_multiplier\": 2.31, \"bus_difference\": 40.8, \"num_trips\": 30, \"num_competitive\": 25, \"pct_trips_competitive\": 0.833, \"bus_difference_spread\": 23.4, \"route_group\": \"medium\", \"max_trip_hrs\": 1.22, \"max_trip_route_group\": 1.22, \"below_cutoff\": 25, \"pct_below_cutoff\": 0.8333333333333334, \"name\": \"Morongo Band of Mission Indians\", \"caltrans_district\": \"08 - San Bernardino\", \"drmt_organization_name\": null, \"route_name\": \"Yucca Valley-Twentynine Palms\", \"cutoff2\": 30, \"cutoff\": 0}, {\"calitp_itp_id\": 212, \"trip_key\": 2836149620275353042, \"trip_id\": \"t_1368_b_489_tn_0\", \"shape_id\": \"p_286\", \"route_id\": \"349\", \"service_hours\": 1.22, \"trip_first_departure_ts\": 67800, \"trip_last_arrival_ts\": 72180, \"departure_hour\": 18, \"time_of_day\": \"PM Peak\", \"p25\": 0.83, \"p50\": 0.83, \"p75\": 0.83, \"p50_trip\": 0, \"fastest_trip\": 0, \"car_duration_hours\": 0.52, \"competitive_route\": 1, \"bus_multiplier\": 2.35, \"bus_difference\": 42.0, \"num_trips\": 30, \"num_competitive\": 25, \"pct_trips_competitive\": 0.833, \"bus_difference_spread\": 23.4, \"route_group\": \"medium\", \"max_trip_hrs\": 1.22, \"max_trip_route_group\": 1.22, \"below_cutoff\": 25, \"pct_below_cutoff\": 0.8333333333333334, \"name\": \"Morongo Band of Mission Indians\", \"caltrans_district\": \"08 - San Bernardino\", \"drmt_organization_name\": null, \"route_name\": \"Yucca Valley-Twentynine Palms\", \"cutoff2\": 30, \"cutoff\": 0}, {\"calitp_itp_id\": 212, \"trip_key\": 3090255030447947583, \"trip_id\": \"t_1392_b_489_tn_0\", \"shape_id\": \"p_288\", \"route_id\": \"350\", \"service_hours\": 0.92, \"trip_first_departure_ts\": 28500, \"trip_last_arrival_ts\": 31800, \"departure_hour\": 7, \"time_of_day\": \"AM Peak\", \"p25\": 0.92, \"p50\": 0.92, \"p75\": 0.92, \"p50_trip\": 1, \"fastest_trip\": 0, \"car_duration_hours\": 0.73, \"competitive_route\": 1, \"bus_multiplier\": 1.26, \"bus_difference\": 11.4, \"num_trips\": 6, \"num_competitive\": 6, \"pct_trips_competitive\": 1.0, \"bus_difference_spread\": 9.6, \"route_group\": \"medium\", \"max_trip_hrs\": 1.08, \"max_trip_route_group\": 1.08, \"below_cutoff\": 6, \"pct_below_cutoff\": 1.0, \"name\": \"Morongo Band of Mission Indians\", \"caltrans_district\": \"08 - San Bernardino\", \"drmt_organization_name\": null, \"route_name\": \"Yucca Valley - Palm Springs\", \"cutoff2\": 30, \"cutoff\": 0}, {\"calitp_itp_id\": 212, \"trip_key\": -7194114715627764428, \"trip_id\": \"t_1378_b_489_tn_0\", \"shape_id\": \"p_270\", \"route_id\": \"350\", \"service_hours\": 0.92, \"trip_first_departure_ts\": 60000, \"trip_last_arrival_ts\": 63300, \"departure_hour\": 16, \"time_of_day\": \"Midday\", \"p25\": 0.92, \"p50\": 0.92, \"p75\": 0.92, \"p50_trip\": 1, \"fastest_trip\": 0, \"car_duration_hours\": 0.73, \"competitive_route\": 1, \"bus_multiplier\": 1.26, \"bus_difference\": 11.4, \"num_trips\": 6, \"num_competitive\": 6, \"pct_trips_competitive\": 1.0, \"bus_difference_spread\": 9.6, \"route_group\": \"medium\", \"max_trip_hrs\": 1.08, \"max_trip_route_group\": 1.08, \"below_cutoff\": 6, \"pct_below_cutoff\": 1.0, \"name\": \"Morongo Band of Mission Indians\", \"caltrans_district\": \"08 - San Bernardino\", \"drmt_organization_name\": null, \"route_name\": \"Yucca Valley - Palm Springs\", \"cutoff2\": 30, \"cutoff\": 0}, {\"calitp_itp_id\": 212, \"trip_key\": -1982978580526997524, \"trip_id\": \"t_1377_b_489_tn_0\", \"shape_id\": \"p_270\", \"route_id\": \"350\", \"service_hours\": 0.92, \"trip_first_departure_ts\": 34800, \"trip_last_arrival_ts\": 38100, \"departure_hour\": 9, \"time_of_day\": \"AM Peak\", \"p25\": 0.92, \"p50\": 0.92, \"p75\": 0.92, \"p50_trip\": 1, \"fastest_trip\": 0, \"car_duration_hours\": 0.73, \"competitive_route\": 1, \"bus_multiplier\": 1.26, \"bus_difference\": 11.4, \"num_trips\": 6, \"num_competitive\": 6, \"pct_trips_competitive\": 1.0, \"bus_difference_spread\": 9.6, \"route_group\": \"medium\", \"max_trip_hrs\": 1.08, \"max_trip_route_group\": 1.08, \"below_cutoff\": 6, \"pct_below_cutoff\": 1.0, \"name\": \"Morongo Band of Mission Indians\", \"caltrans_district\": \"08 - San Bernardino\", \"drmt_organization_name\": null, \"route_name\": \"Yucca Valley - Palm Springs\", \"cutoff2\": 30, \"cutoff\": 0}, {\"calitp_itp_id\": 212, \"trip_key\": 4336152498001563059, \"trip_id\": \"t_1386_b_489_tn_0\", \"shape_id\": \"p_288\", \"route_id\": \"350\", \"service_hours\": 0.92, \"trip_first_departure_ts\": 63900, \"trip_last_arrival_ts\": 67200, \"departure_hour\": 17, \"time_of_day\": \"PM Peak\", \"p25\": 0.92, \"p50\": 0.92, \"p75\": 0.92, \"p50_trip\": 1, \"fastest_trip\": 1, \"car_duration_hours\": 0.73, \"competitive_route\": 1, \"bus_multiplier\": 1.26, \"bus_difference\": 11.4, \"num_trips\": 6, \"num_competitive\": 6, \"pct_trips_competitive\": 1.0, \"bus_difference_spread\": 9.6, \"route_group\": \"medium\", \"max_trip_hrs\": 1.08, \"max_trip_route_group\": 1.08, \"below_cutoff\": 6, \"pct_below_cutoff\": 1.0, \"name\": \"Morongo Band of Mission Indians\", \"caltrans_district\": \"08 - San Bernardino\", \"drmt_organization_name\": null, \"route_name\": \"Yucca Valley - Palm Springs\", \"cutoff2\": 30, \"cutoff\": 0}, {\"calitp_itp_id\": 212, \"trip_key\": 1121313051657293748, \"trip_id\": \"t_1376_b_489_tn_0\", \"shape_id\": \"p_270\", \"route_id\": \"350\", \"service_hours\": 0.92, \"trip_first_departure_ts\": 25200, \"trip_last_arrival_ts\": 28500, \"departure_hour\": 7, \"time_of_day\": \"AM Peak\", \"p25\": 0.92, \"p50\": 0.92, \"p75\": 0.92, \"p50_trip\": 1, \"fastest_trip\": 0, \"car_duration_hours\": 0.73, \"competitive_route\": 1, \"bus_multiplier\": 1.26, \"bus_difference\": 11.4, \"num_trips\": 6, \"num_competitive\": 6, \"pct_trips_competitive\": 1.0, \"bus_difference_spread\": 9.6, \"route_group\": \"medium\", \"max_trip_hrs\": 1.08, \"max_trip_route_group\": 1.08, \"below_cutoff\": 6, \"pct_below_cutoff\": 1.0, \"name\": \"Morongo Band of Mission Indians\", \"caltrans_district\": \"08 - San Bernardino\", \"drmt_organization_name\": null, \"route_name\": \"Yucca Valley - Palm Springs\", \"cutoff2\": 30, \"cutoff\": 0}, {\"calitp_itp_id\": 212, \"trip_key\": 4869777759681107014, \"trip_id\": \"t_1374_b_489_tn_0\", \"shape_id\": \"p_288\", \"route_id\": \"350\", \"service_hours\": 1.08, \"trip_first_departure_ts\": 38700, \"trip_last_arrival_ts\": 42600, \"departure_hour\": 10, \"time_of_day\": \"Midday\", \"p25\": 0.92, \"p50\": 0.92, \"p75\": 0.92, \"p50_trip\": 0, \"fastest_trip\": 0, \"car_duration_hours\": 0.73, \"competitive_route\": 1, \"bus_multiplier\": 1.48, \"bus_difference\": 21.0, \"num_trips\": 6, \"num_competitive\": 6, \"pct_trips_competitive\": 1.0, \"bus_difference_spread\": 9.6, \"route_group\": \"medium\", \"max_trip_hrs\": 1.08, \"max_trip_route_group\": 1.08, \"below_cutoff\": 6, \"pct_below_cutoff\": 1.0, \"name\": \"Morongo Band of Mission Indians\", \"caltrans_district\": \"08 - San Bernardino\", \"drmt_organization_name\": null, \"route_name\": \"Yucca Valley - Palm Springs\", \"cutoff2\": 30, \"cutoff\": 0}]}}, {\"mode\": \"vega-lite\"});\n",
       "</script>"
      ],
      "text/plain": [
       "alt.FacetChart(...)"
      ]
     },
     "metadata": {},
     "output_type": "display_data"
    },
    {
     "data": {
      "text/html": [
       "<h4>Route Stats</h4>"
      ],
      "text/plain": [
       "<IPython.core.display.HTML object>"
      ]
     },
     "metadata": {},
     "output_type": "display_data"
    },
    {
     "data": {
      "text/html": [
       "<style type=\"text/css\">\n",
       "#T_7c2a6 th {\n",
       "  text-align: center;\n",
       "}\n",
       "#T_7c2a6_row0_col0, #T_7c2a6_row0_col1, #T_7c2a6_row1_col0, #T_7c2a6_row1_col1 {\n",
       "  text-align: left;\n",
       "}\n",
       "#T_7c2a6_row0_col2, #T_7c2a6_row0_col3, #T_7c2a6_row0_col5, #T_7c2a6_row1_col2, #T_7c2a6_row1_col3, #T_7c2a6_row1_col5 {\n",
       "  text-align: center;\n",
       "}\n",
       "</style>\n",
       "<table id=\"T_7c2a6\">\n",
       "  <thead>\n",
       "    <tr>\n",
       "      <th id=\"T_7c2a6_level0_col0\" class=\"col_heading level0 col0\" >Route ID</th>\n",
       "      <th id=\"T_7c2a6_level0_col1\" class=\"col_heading level0 col1\" >Route Name</th>\n",
       "      <th id=\"T_7c2a6_level0_col2\" class=\"col_heading level0 col2\" ># trips</th>\n",
       "      <th id=\"T_7c2a6_level0_col3\" class=\"col_heading level0 col3\" >Daily Avg Freq (trips per hr)</th>\n",
       "      <th id=\"T_7c2a6_level0_col4\" class=\"col_heading level0 col4\" >25th, 50th, 75th ptile (hrs)</th>\n",
       "      <th id=\"T_7c2a6_level0_col5\" class=\"col_heading level0 col5\" >PM Peak Avg Freq (trips per hr)</th>\n",
       "    </tr>\n",
       "  </thead>\n",
       "  <tbody>\n",
       "    <tr>\n",
       "      <td id=\"T_7c2a6_row0_col0\" class=\"data row0 col0\" >350</td>\n",
       "      <td id=\"T_7c2a6_row0_col1\" class=\"data row0 col1\" >Yucca Valley - Palm Springs</td>\n",
       "      <td id=\"T_7c2a6_row0_col2\" class=\"data row0 col2\" >6</td>\n",
       "      <td id=\"T_7c2a6_row0_col3\" class=\"data row0 col3\" >0.25</td>\n",
       "      <td id=\"T_7c2a6_row0_col4\" class=\"data row0 col4\" >0.92, 0.92, 0.92</td>\n",
       "      <td id=\"T_7c2a6_row0_col5\" class=\"data row0 col5\" >0.33</td>\n",
       "    </tr>\n",
       "    <tr>\n",
       "      <td id=\"T_7c2a6_row1_col0\" class=\"data row1 col0\" >349</td>\n",
       "      <td id=\"T_7c2a6_row1_col1\" class=\"data row1 col1\" >Yucca Valley-Twentynine Palms</td>\n",
       "      <td id=\"T_7c2a6_row1_col2\" class=\"data row1 col2\" >30</td>\n",
       "      <td id=\"T_7c2a6_row1_col3\" class=\"data row1 col3\" >1.25</td>\n",
       "      <td id=\"T_7c2a6_row1_col4\" class=\"data row1 col4\" >0.83, 0.83, 0.83</td>\n",
       "      <td id=\"T_7c2a6_row1_col5\" class=\"data row1 col5\" >1.67</td>\n",
       "    </tr>\n",
       "  </tbody>\n",
       "</table>\n"
      ],
      "text/plain": [
       "<IPython.core.display.HTML object>"
      ]
     },
     "metadata": {},
     "output_type": "display_data"
    }
   ],
   "source": [
    "route_group = \"medium\"\n",
    "try:\n",
    "    display_charts_for_route_group(df, route_group)\n",
    "except:\n",
    "    print(\"No routes meet this criteria.\")"
   ]
  },
  {
   "cell_type": "markdown",
   "id": "124b76d0-886c-4d03-92ac-f1bda3cda182",
   "metadata": {
    "papermill": {
     "duration": 0.02022,
     "end_time": "2022-05-12T02:36:39.652222",
     "exception": false,
     "start_time": "2022-05-12T02:36:39.632002",
     "status": "completed"
    },
    "tags": []
   },
   "source": [
    "### Long Routes (> 1.5 hrs)"
   ]
  },
  {
   "cell_type": "code",
   "execution_count": 16,
   "id": "ddc81b19-4c45-4c81-8b7a-5e0f394aa7a3",
   "metadata": {
    "execution": {
     "iopub.execute_input": "2022-05-12T02:36:39.703724Z",
     "iopub.status.busy": "2022-05-12T02:36:39.703254Z",
     "iopub.status.idle": "2022-05-12T02:36:39.716281Z",
     "shell.execute_reply": "2022-05-12T02:36:39.715377Z"
    },
    "jupyter": {
     "source_hidden": true
    },
    "papermill": {
     "duration": 0.045913,
     "end_time": "2022-05-12T02:36:39.718770",
     "exception": false,
     "start_time": "2022-05-12T02:36:39.672857",
     "status": "completed"
    },
    "tags": [
     "remove_input"
    ]
   },
   "outputs": [
    {
     "name": "stdout",
     "output_type": "stream",
     "text": [
      "No routes meet this criteria.\n"
     ]
    }
   ],
   "source": [
    "route_group = \"long\"\n",
    "try:\n",
    "    display_charts_for_route_group(df, route_group)\n",
    "except:\n",
    "    print(\"No routes meet this criteria.\")"
   ]
  },
  {
   "cell_type": "markdown",
   "id": "ace75b5f-0442-4fbe-aebd-6c3a13ae13a7",
   "metadata": {
    "papermill": {
     "duration": 0.019936,
     "end_time": "2022-05-12T02:36:39.759016",
     "exception": false,
     "start_time": "2022-05-12T02:36:39.739080",
     "status": "completed"
    },
    "tags": []
   },
   "source": [
    "### GTFS Real-Time Speedmaps"
   ]
  },
  {
   "cell_type": "code",
   "execution_count": 17,
   "id": "a0a114a1-e975-4027-9daf-50029f5ef59f",
   "metadata": {
    "execution": {
     "iopub.execute_input": "2022-05-12T02:36:39.808281Z",
     "iopub.status.busy": "2022-05-12T02:36:39.807355Z",
     "iopub.status.idle": "2022-05-12T02:36:39.828364Z",
     "shell.execute_reply": "2022-05-12T02:36:39.827764Z"
    },
    "jupyter": {
     "source_hidden": true
    },
    "papermill": {
     "duration": 0.051079,
     "end_time": "2022-05-12T02:36:39.830369",
     "exception": false,
     "start_time": "2022-05-12T02:36:39.779290",
     "status": "completed"
    },
    "tags": [
     "remove_input"
    ]
   },
   "outputs": [
    {
     "data": {
      "text/html": [
       "No GTFS RT data available."
      ],
      "text/plain": [
       "<IPython.core.display.HTML object>"
      ]
     },
     "metadata": {},
     "output_type": "display_data"
    }
   ],
   "source": [
    "RT_SITE_YAML = \"../portfolio/sites/rt.yml\"\n",
    "\n",
    "# Grab list of ITP IDs with GTFS RT speedmaps\n",
    "rt_itp_id = deploy_portfolio_yaml.check_if_rt_data_available(RT_SITE_YAML)\n",
    "\n",
    "# Construct the URL \n",
    "RT_URL = (\"https://analysis.calitp.org/rt/\"\n",
    "          f\"district_{district_number}-{district_name}/\"\n",
    "          f\"speedmaps__itp_id_{itp_id}.html\"\n",
    "         ) \n",
    "\n",
    "# If this ITP ID is found in RT analysis, give URL to that operator in analysis.calitp.org\n",
    "if itp_id in rt_itp_id:\n",
    "    display(HTML(f'''<a href={RT_URL}>GTFS RT speedmaps here.</a>'''))\n",
    "\n",
    "else:\n",
    "    display(HTML(\"No GTFS RT data available.\"))"
   ]
  },
  {
   "cell_type": "code",
   "execution_count": null,
   "id": "5b680565-2230-4f2e-817c-718fad48d64c",
   "metadata": {
    "jupyter": {
     "source_hidden": true
    },
    "papermill": {
     "duration": 0.020067,
     "end_time": "2022-05-12T02:36:39.874798",
     "exception": false,
     "start_time": "2022-05-12T02:36:39.854731",
     "status": "completed"
    },
    "tags": [
     "remove_input"
    ]
   },
   "outputs": [],
   "source": []
  }
 ],
 "metadata": {
  "kernelspec": {
   "display_name": "Python 3 (ipykernel)",
   "language": "python",
   "name": "python3"
  },
  "language_info": {
   "codemirror_mode": {
    "name": "ipython",
    "version": 3
   },
   "file_extension": ".py",
   "mimetype": "text/x-python",
   "name": "python",
   "nbconvert_exporter": "python",
   "pygments_lexer": "ipython3",
   "version": "3.9.12"
  },
  "papermill": {
   "default_parameters": {},
   "duration": 23.747757,
   "end_time": "2022-05-12T02:36:41.127533",
   "environment_variables": {},
   "exception": null,
   "input_path": "bus_service_increase/competitive-parallel-routes.ipynb",
   "output_path": "portfolio/parallel_corridors/district_08-san-bernardino/3__competitive-parallel-routes__district_08-san-bernardino__itp_id_212.ipynb",
   "parameters": {
    "district": "08 - San Bernardino",
    "itp_id": 212
   },
   "start_time": "2022-05-12T02:36:17.379776",
   "version": "2.3.4"
  }
 },
 "nbformat": 4,
 "nbformat_minor": 5
}