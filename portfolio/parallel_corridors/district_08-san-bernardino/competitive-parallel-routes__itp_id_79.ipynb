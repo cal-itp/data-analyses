{
 "cells": [
  {
   "cell_type": "code",
   "execution_count": 1,
   "id": "95d00857-6a20-4529-a519-2cc7182928a9",
   "metadata": {
    "execution": {
     "iopub.execute_input": "2022-05-09T20:13:23.481676Z",
     "iopub.status.busy": "2022-05-09T20:13:23.481101Z",
     "iopub.status.idle": "2022-05-09T20:13:33.231564Z",
     "shell.execute_reply": "2022-05-09T20:13:33.230322Z"
    },
    "jupyter": {
     "source_hidden": true
    },
    "papermill": {
     "duration": 9.771714,
     "end_time": "2022-05-09T20:13:33.235104",
     "exception": false,
     "start_time": "2022-05-09T20:13:23.463390",
     "status": "completed"
    },
    "tags": [
     "remove_input"
    ]
   },
   "outputs": [],
   "source": [
    "%%capture\n",
    "import warnings\n",
    "warnings.filterwarnings('ignore')\n",
    "\n",
    "import altair as alt\n",
    "import calitp.magics\n",
    "import geopandas as gpd\n",
    "import intake\n",
    "import pandas as pd\n",
    "\n",
    "from IPython.display import display, Markdown, HTML\n",
    "\n",
    "import parallel_corridors_utils\n",
    "from shared_utils import styleguide\n",
    "import deploy_portfolio_yaml\n",
    "\n",
    "catalog = intake.open_catalog(\"./*.yml\")\n",
    "alt.renderers.enable(\"html\")"
   ]
  },
  {
   "cell_type": "code",
   "execution_count": 2,
   "id": "8af2a0c1-f3da-408d-9bea-11d9fbf8695d",
   "metadata": {
    "execution": {
     "iopub.execute_input": "2022-05-09T20:13:33.264946Z",
     "iopub.status.busy": "2022-05-09T20:13:33.264546Z",
     "iopub.status.idle": "2022-05-09T20:13:33.269935Z",
     "shell.execute_reply": "2022-05-09T20:13:33.268886Z"
    },
    "jupyter": {
     "source_hidden": true
    },
    "papermill": {
     "duration": 0.025545,
     "end_time": "2022-05-09T20:13:33.273191",
     "exception": false,
     "start_time": "2022-05-09T20:13:33.247646",
     "status": "completed"
    },
    "tags": [
     "parameters",
     "remove_input"
    ]
   },
   "outputs": [],
   "source": [
    "# parameters cell\n",
    "itp_id = 182"
   ]
  },
  {
   "cell_type": "code",
   "execution_count": 3,
   "id": "a987d339",
   "metadata": {
    "execution": {
     "iopub.execute_input": "2022-05-09T20:13:33.301468Z",
     "iopub.status.busy": "2022-05-09T20:13:33.301011Z",
     "iopub.status.idle": "2022-05-09T20:13:33.307597Z",
     "shell.execute_reply": "2022-05-09T20:13:33.306465Z"
    },
    "jupyter": {
     "source_hidden": true
    },
    "papermill": {
     "duration": 0.025408,
     "end_time": "2022-05-09T20:13:33.311065",
     "exception": false,
     "start_time": "2022-05-09T20:13:33.285657",
     "status": "completed"
    },
    "tags": [
     "injected-parameters",
     "remove_input"
    ]
   },
   "outputs": [],
   "source": [
    "# Parameters\n",
    "district = \"08 - San Bernardino\"\n",
    "itp_id = 79\n"
   ]
  },
  {
   "cell_type": "code",
   "execution_count": 4,
   "id": "9582aaf4-79ff-412a-b248-8d8d693ebd4f",
   "metadata": {
    "execution": {
     "iopub.execute_input": "2022-05-09T20:13:33.340130Z",
     "iopub.status.busy": "2022-05-09T20:13:33.339060Z",
     "iopub.status.idle": "2022-05-09T20:13:34.812503Z",
     "shell.execute_reply": "2022-05-09T20:13:34.811453Z"
    },
    "jupyter": {
     "source_hidden": true
    },
    "papermill": {
     "duration": 1.491224,
     "end_time": "2022-05-09T20:13:34.815345",
     "exception": false,
     "start_time": "2022-05-09T20:13:33.324121",
     "status": "completed"
    },
    "tags": [
     "remove_input"
    ]
   },
   "outputs": [],
   "source": [
    "df = catalog.competitive_route_variability.read()\n",
    "\n",
    "df = (df[(df.calitp_itp_id == itp_id) & \n",
    "         (df.route_group.notna())]\n",
    "      .reset_index(drop=True)\n",
    "     )\n",
    "\n",
    "\n",
    "if itp_id == 182:\n",
    "    df = df.assign(\n",
    "        route_id = df.route_id.str.replace('-13153', '').astype(int)\n",
    "    )"
   ]
  },
  {
   "cell_type": "code",
   "execution_count": 5,
   "id": "33ac4b06-f647-4dce-a625-8f2c1b37cc60",
   "metadata": {
    "execution": {
     "iopub.execute_input": "2022-05-09T20:13:34.847512Z",
     "iopub.status.busy": "2022-05-09T20:13:34.846747Z",
     "iopub.status.idle": "2022-05-09T20:13:34.856518Z",
     "shell.execute_reply": "2022-05-09T20:13:34.855466Z"
    },
    "jupyter": {
     "source_hidden": true
    },
    "papermill": {
     "duration": 0.028556,
     "end_time": "2022-05-09T20:13:34.858809",
     "exception": false,
     "start_time": "2022-05-09T20:13:34.830253",
     "status": "completed"
    },
    "tags": [
     "remove_input"
    ]
   },
   "outputs": [],
   "source": [
    "%%capture_parameters\n",
    "operator_name = df.name.iloc[0]\n",
    "district_number = f\"{df.caltrans_district.iloc[0].split('-')[0].strip()}\"\n",
    "district_name = f\"{df.caltrans_district.iloc[0].split('-')[1].strip().lower().replace(' ', '-')}\"\n",
    "\n",
    "itp_id, operator_name, district_number, district_name"
   ]
  },
  {
   "cell_type": "markdown",
   "id": "65bc6f5c-8348-42ee-b2dd-52057c406852",
   "metadata": {
    "papermill": {
     "duration": 0.01509,
     "end_time": "2022-05-09T20:13:34.888738",
     "exception": false,
     "start_time": "2022-05-09T20:13:34.873648",
     "status": "completed"
    },
    "tags": []
   },
   "source": [
    "# City of Corona (ITP ID: 79)"
   ]
  },
  {
   "cell_type": "code",
   "execution_count": 6,
   "id": "a689c1ab-2c6c-4831-8d64-897f5986f571",
   "metadata": {
    "execution": {
     "iopub.execute_input": "2022-05-09T20:13:34.926519Z",
     "iopub.status.busy": "2022-05-09T20:13:34.925705Z",
     "iopub.status.idle": "2022-05-09T20:13:34.933300Z",
     "shell.execute_reply": "2022-05-09T20:13:34.932522Z"
    },
    "jupyter": {
     "source_hidden": true
    },
    "papermill": {
     "duration": 0.025314,
     "end_time": "2022-05-09T20:13:34.935410",
     "exception": false,
     "start_time": "2022-05-09T20:13:34.910096",
     "status": "completed"
    },
    "tags": [
     "remove_input"
    ]
   },
   "outputs": [
    {
     "data": {
      "text/html": [
       "<h1>Competitive & Parallel Routes</h1>"
      ],
      "text/plain": [
       "<IPython.core.display.HTML object>"
      ]
     },
     "metadata": {},
     "output_type": "display_data"
    }
   ],
   "source": [
    "display(HTML(\"<h1>Competitive & Parallel Routes</h1>\")) "
   ]
  },
  {
   "cell_type": "code",
   "execution_count": 7,
   "id": "2cb4d8d5-4760-40e4-85b1-cb833d8bb648",
   "metadata": {
    "execution": {
     "iopub.execute_input": "2022-05-09T20:13:34.968235Z",
     "iopub.status.busy": "2022-05-09T20:13:34.967521Z",
     "iopub.status.idle": "2022-05-09T20:13:47.552195Z",
     "shell.execute_reply": "2022-05-09T20:13:47.550644Z"
    },
    "jupyter": {
     "source_hidden": true
    },
    "papermill": {
     "duration": 12.605976,
     "end_time": "2022-05-09T20:13:47.555390",
     "exception": false,
     "start_time": "2022-05-09T20:13:34.949414",
     "status": "completed"
    },
    "tags": [
     "remove_input"
    ]
   },
   "outputs": [],
   "source": [
    "# Grab parameters for narrative text - clean up formatting here \n",
    "district = df.caltrans_district.iloc[0]\n",
    "formatted_date = pd.to_datetime(parallel_corridors_utils.SELECTED_DATE).strftime('%m-%d-%Y')\n",
    "\n",
    "PCT_COMPETITIVE_THRESHOLD = 0.75\n",
    "\n",
    "stats = parallel_corridors_utils.operator_parallel_competitive_stats(\n",
    "    itp_id, PCT_COMPETITIVE_THRESHOLD)\n",
    "\n",
    "pct_parallel = round(stats['parallel_routes'] / stats['num_routes'] * 100,1 )\n",
    "pct_competitive =  round(stats['competitive_routes'] / stats['num_routes'] * 100,1 )"
   ]
  },
  {
   "cell_type": "markdown",
   "id": "ab667928-5274-4490-82d9-4c39293209a4",
   "metadata": {
    "papermill": {
     "duration": 0.015424,
     "end_time": "2022-05-09T20:13:47.585181",
     "exception": false,
     "start_time": "2022-05-09T20:13:47.569757",
     "status": "completed"
    },
    "tags": []
   },
   "source": [
    "## Quick Stats"
   ]
  },
  {
   "cell_type": "code",
   "execution_count": 8,
   "id": "0416509d-dc62-4165-b62e-64f8b26e8b8e",
   "metadata": {
    "execution": {
     "iopub.execute_input": "2022-05-09T20:13:47.617042Z",
     "iopub.status.busy": "2022-05-09T20:13:47.616686Z",
     "iopub.status.idle": "2022-05-09T20:13:47.631971Z",
     "shell.execute_reply": "2022-05-09T20:13:47.630787Z"
    },
    "jupyter": {
     "source_hidden": true
    },
    "papermill": {
     "duration": 0.033839,
     "end_time": "2022-05-09T20:13:47.634514",
     "exception": false,
     "start_time": "2022-05-09T20:13:47.600675",
     "status": "completed"
    },
    "tags": [
     "remove_input"
    ]
   },
   "outputs": [
    {
     "data": {
      "text/markdown": [
       "**Bus routes in service**: 2 <br>**Parallel routes** to State Highway Network (SHN): 2 routes (100.0%)<br>**Competitive routes** against car travel: 2 routes (100.0%)"
      ],
      "text/plain": [
       "<IPython.core.display.Markdown object>"
      ]
     },
     "metadata": {},
     "output_type": "display_data"
    }
   ],
   "source": [
    "display(\n",
    "    Markdown(\n",
    "        f\"**Bus routes in service**: {stats['num_routes']} \"\n",
    "        \"<br>**Parallel routes** to State Highway Network (SHN): \"\n",
    "        f\"{stats['parallel_routes']} routes ({pct_parallel}%)\"\n",
    "        f\"<br>**Competitive routes** against car travel: {stats['competitive_routes']} routes ({pct_competitive}%)\"\n",
    "    )\n",
    ")"
   ]
  },
  {
   "cell_type": "code",
   "execution_count": 9,
   "id": "f9d6ab58-f0ee-460c-b6de-657490e1f386",
   "metadata": {
    "execution": {
     "iopub.execute_input": "2022-05-09T20:13:47.670334Z",
     "iopub.status.busy": "2022-05-09T20:13:47.669099Z",
     "iopub.status.idle": "2022-05-09T20:13:47.680310Z",
     "shell.execute_reply": "2022-05-09T20:13:47.679263Z"
    },
    "jupyter": {
     "source_hidden": true
    },
    "papermill": {
     "duration": 0.030558,
     "end_time": "2022-05-09T20:13:47.682874",
     "exception": false,
     "start_time": "2022-05-09T20:13:47.652316",
     "status": "completed"
    },
    "tags": [
     "remove_input"
    ]
   },
   "outputs": [],
   "source": [
    "def set_yaxis_range(df, y_col):\n",
    "    Y_MIN = df[y_col].min()\n",
    "    Y_MAX = df[y_col].max()\n",
    "    \n",
    "    return Y_MIN, Y_MAX\n",
    "\n",
    "# Rather than set it according to the operator, which can vary,\n",
    "# just use set thresholds for each group\n",
    "diff_cutoffs = parallel_corridors_utils.diff_cutoffs\n",
    "\n",
    "PCT_TRIPS_BELOW_CUTOFF = 0.25\n",
    "\n",
    "def top15_routes(df, route_group):\n",
    "    df2 = (df[df.route_group==route_group])\n",
    "    # Set a cut-off to enable sorting, where most of the trips are \n",
    "    # below a certain time difference cut-off, \n",
    "    # grab top 15 routes where majority of trips are below that cut-off \n",
    "\n",
    "    route_cols = [\"calitp_itp_id\", \"route_id\"]\n",
    "\n",
    "    df2 = df2.assign(\n",
    "        below_cutoff = df2.apply(lambda x: 1 if x.bus_difference <= diff_cutoffs[route_group] \n",
    "                                 else 0, axis=1),\n",
    "        num_trips = df2.groupby(route_cols)[\"trip_id\"].transform(\"count\")\n",
    "    )\n",
    "\n",
    "    df2[\"below_cutoff\"] = df2.groupby(route_cols)[\"below_cutoff\"].transform(\"sum\")\n",
    "    df2[\"pct_below_cutoff\"] = df2.below_cutoff.divide(df2.num_trips)\n",
    "\n",
    "    # At least half the trips are below that cut-off\n",
    "    # but show 15 max, otherwise, show less, since these won't be as interesting to operators\n",
    "    df3 = (df2[df2.pct_below_cutoff >= PCT_TRIPS_BELOW_CUTOFF]\n",
    "           .sort_values([\"calitp_itp_id\", \"below_cutoff\", \n",
    "                         \"pct_below_cutoff\", \"route_id\"],\n",
    "                        ascending = [True, False, False, True]\n",
    "                       )\n",
    "           .drop_duplicates(subset=[\"calitp_itp_id\", \"route_id\"])\n",
    "          ).head(15)\n",
    "    \n",
    "    return list(df3.route_id)"
   ]
  },
  {
   "cell_type": "code",
   "execution_count": 10,
   "id": "cf36d559-3349-4144-8086-8ac9ce937a5a",
   "metadata": {
    "execution": {
     "iopub.execute_input": "2022-05-09T20:13:47.734514Z",
     "iopub.status.busy": "2022-05-09T20:13:47.733300Z",
     "iopub.status.idle": "2022-05-09T20:13:47.741621Z",
     "shell.execute_reply": "2022-05-09T20:13:47.740305Z"
    },
    "jupyter": {
     "source_hidden": true
    },
    "papermill": {
     "duration": 0.027215,
     "end_time": "2022-05-09T20:13:47.744076",
     "exception": false,
     "start_time": "2022-05-09T20:13:47.716861",
     "status": "completed"
    },
    "tags": [
     "remove_input"
    ]
   },
   "outputs": [],
   "source": [
    "def caption_with_cutoff(cutoff):\n",
    "    sentence = (\n",
    "        f\"<br>These are routes that have **at least {int(PCT_TRIPS_BELOW_CUTOFF*100)}% \"\n",
    "        \"of their trips take no more than an \"\n",
    "        f\"additional {cutoff} min** compared to a car \"\n",
    "        \"(up to 15 routes) are shown.\"\n",
    "        \"<br>Within each route group, routes are sorted in descending order \"\n",
    "        \"by % competitive trips and # trips below the additional time cut-off.\"\n",
    "    )\n",
    "    return sentence\n",
    "\n",
    "CAPTIONS_DICT = {\n",
    "    \"short\": caption_with_cutoff(diff_cutoffs['short']),\n",
    "    \"medium\": caption_with_cutoff(diff_cutoffs['medium']),\n",
    "    \"long\": caption_with_cutoff(diff_cutoffs['long']),\n",
    "}"
   ]
  },
  {
   "cell_type": "code",
   "execution_count": 11,
   "id": "e4306d58-6944-47e9-afef-5d5b524c751f",
   "metadata": {
    "execution": {
     "iopub.execute_input": "2022-05-09T20:13:47.776998Z",
     "iopub.status.busy": "2022-05-09T20:13:47.776656Z",
     "iopub.status.idle": "2022-05-09T20:13:47.784322Z",
     "shell.execute_reply": "2022-05-09T20:13:47.783292Z"
    },
    "jupyter": {
     "source_hidden": true
    },
    "papermill": {
     "duration": 0.027341,
     "end_time": "2022-05-09T20:13:47.786334",
     "exception": false,
     "start_time": "2022-05-09T20:13:47.758993",
     "status": "completed"
    },
    "tags": [
     "remove_input"
    ]
   },
   "outputs": [],
   "source": [
    "def setup_charts(df, PCT_COMPETITIVE_THRESHOLD, route_group):\n",
    "    # Set up df for charting (cut-off at some threshold to show most competitive routes)\n",
    "    plot_me = (df[df.pct_trips_competitive > PCT_COMPETITIVE_THRESHOLD]\n",
    "           .drop(columns = \"geometry\")\n",
    "    )\n",
    "    \n",
    "    y_col1 = \"bus_multiplier\"\n",
    "    Y_MIN1, Y_MAX1 = set_yaxis_range(plot_me, y_col1)\n",
    "\n",
    "    y_col2 = \"bus_difference\"\n",
    "    Y_MIN2, Y_MAX2 = set_yaxis_range(plot_me, y_col2)\n",
    "     \n",
    "    subset_routes = top15_routes(plot_me, route_group)\n",
    "    \n",
    "    multiplier_chart = parallel_corridors_utils.make_stripplot(\n",
    "        plot_me[plot_me.route_id.isin(subset_routes)], \n",
    "        y_col1, Y_MIN = Y_MIN1, Y_MAX = Y_MAX1\n",
    "    )\n",
    "    \n",
    "    difference_chart = parallel_corridors_utils.make_stripplot(\n",
    "        plot_me[plot_me.route_id.isin(subset_routes)], \n",
    "        y_col2, Y_MIN = Y_MIN2, Y_MAX = Y_MAX2\n",
    "    )\n",
    "    \n",
    "    return subset_routes, multiplier_chart, difference_chart            "
   ]
  },
  {
   "cell_type": "code",
   "execution_count": 12,
   "id": "33a710e8-504c-4942-aa75-ff69f216956e",
   "metadata": {
    "execution": {
     "iopub.execute_input": "2022-05-09T20:13:47.827259Z",
     "iopub.status.busy": "2022-05-09T20:13:47.826568Z",
     "iopub.status.idle": "2022-05-09T20:13:47.832857Z",
     "shell.execute_reply": "2022-05-09T20:13:47.832125Z"
    },
    "jupyter": {
     "source_hidden": true
    },
    "papermill": {
     "duration": 0.025751,
     "end_time": "2022-05-09T20:13:47.835925",
     "exception": false,
     "start_time": "2022-05-09T20:13:47.810174",
     "status": "completed"
    },
    "tags": [
     "remove_input"
    ]
   },
   "outputs": [],
   "source": [
    "def display_charts_for_route_group(df, route_group):    \n",
    "    subset_routes, mult, diff  = setup_charts(df, PCT_COMPETITIVE_THRESHOLD, route_group)\n",
    "\n",
    "    if len(subset_routes) > 0:\n",
    "        display(Markdown(f\"{CAPTIONS_DICT[route_group]}\"))\n",
    "\n",
    "        display(mult)\n",
    "        display(diff)"
   ]
  },
  {
   "cell_type": "markdown",
   "id": "525f9b38-072b-46d1-96a8-1aa4b038357c",
   "metadata": {
    "papermill": {
     "duration": 0.015765,
     "end_time": "2022-05-09T20:13:47.867496",
     "exception": false,
     "start_time": "2022-05-09T20:13:47.851731",
     "status": "completed"
    },
    "tags": []
   },
   "source": [
    "## Viable Competitive Routes\n",
    "### Short Routes (< 1 hr)"
   ]
  },
  {
   "cell_type": "code",
   "execution_count": 13,
   "id": "57f7084c-2cf7-45c6-ba08-1609e0bd6ca5",
   "metadata": {
    "execution": {
     "iopub.execute_input": "2022-05-09T20:13:47.908269Z",
     "iopub.status.busy": "2022-05-09T20:13:47.907861Z",
     "iopub.status.idle": "2022-05-09T20:13:47.928352Z",
     "shell.execute_reply": "2022-05-09T20:13:47.927389Z"
    },
    "jupyter": {
     "source_hidden": true
    },
    "papermill": {
     "duration": 0.046449,
     "end_time": "2022-05-09T20:13:47.930480",
     "exception": false,
     "start_time": "2022-05-09T20:13:47.884031",
     "status": "completed"
    },
    "tags": [
     "remove_input"
    ]
   },
   "outputs": [
    {
     "name": "stdout",
     "output_type": "stream",
     "text": [
      "No routes meet this criteria.\n"
     ]
    }
   ],
   "source": [
    "# Allow for possibility that operator doesn't have routes that fall into certain route_groups\n",
    "# But, jupyterbook will not like markdown with f-string\n",
    "# separate out route_group and put in each cell, and use try/except + if to display...\n",
    "# but all 3 route groups must be displayed. just add sentence about why no routes were returned at the end\n",
    "route_group = \"short\"\n",
    "try:\n",
    "    display_charts_for_route_group(df, route_group)\n",
    "except:\n",
    "    print(\"No routes meet this criteria.\")"
   ]
  },
  {
   "cell_type": "markdown",
   "id": "c2931b6f-034d-4384-9e14-80b925e3b820",
   "metadata": {
    "papermill": {
     "duration": 0.015174,
     "end_time": "2022-05-09T20:13:47.965653",
     "exception": false,
     "start_time": "2022-05-09T20:13:47.950479",
     "status": "completed"
    },
    "tags": []
   },
   "source": [
    "### Medium Routes (1-1.5 hrs)"
   ]
  },
  {
   "cell_type": "code",
   "execution_count": 14,
   "id": "480edddc-4de0-48c2-ae4c-b0ceef8f28b5",
   "metadata": {
    "execution": {
     "iopub.execute_input": "2022-05-09T20:13:48.000943Z",
     "iopub.status.busy": "2022-05-09T20:13:48.000195Z",
     "iopub.status.idle": "2022-05-09T20:13:48.322505Z",
     "shell.execute_reply": "2022-05-09T20:13:48.321328Z"
    },
    "jupyter": {
     "source_hidden": true
    },
    "papermill": {
     "duration": 0.344051,
     "end_time": "2022-05-09T20:13:48.326066",
     "exception": false,
     "start_time": "2022-05-09T20:13:47.982015",
     "status": "completed"
    },
    "tags": [
     "remove_input"
    ]
   },
   "outputs": [
    {
     "data": {
      "text/markdown": [
       "<br>These are routes that have **at least 25% of their trips take no more than an additional 30 min** compared to a car (up to 15 routes) are shown.<br>Within each route group, routes are sorted in descending order by % competitive trips and # trips below the additional time cut-off."
      ],
      "text/plain": [
       "<IPython.core.display.Markdown object>"
      ]
     },
     "metadata": {},
     "output_type": "display_data"
    },
    {
     "data": {
      "text/html": [
       "\n",
       "<div id=\"altair-viz-4b343912a97142e892b3cdd0757e6b31\"></div>\n",
       "<script type=\"text/javascript\">\n",
       "  var VEGA_DEBUG = (typeof VEGA_DEBUG == \"undefined\") ? {} : VEGA_DEBUG;\n",
       "  (function(spec, embedOpt){\n",
       "    let outputDiv = document.currentScript.previousElementSibling;\n",
       "    if (outputDiv.id !== \"altair-viz-4b343912a97142e892b3cdd0757e6b31\") {\n",
       "      outputDiv = document.getElementById(\"altair-viz-4b343912a97142e892b3cdd0757e6b31\");\n",
       "    }\n",
       "    const paths = {\n",
       "      \"vega\": \"https://cdn.jsdelivr.net/npm//vega@5?noext\",\n",
       "      \"vega-lib\": \"https://cdn.jsdelivr.net/npm//vega-lib?noext\",\n",
       "      \"vega-lite\": \"https://cdn.jsdelivr.net/npm//vega-lite@4.17.0?noext\",\n",
       "      \"vega-embed\": \"https://cdn.jsdelivr.net/npm//vega-embed@6?noext\",\n",
       "    };\n",
       "\n",
       "    function maybeLoadScript(lib, version) {\n",
       "      var key = `${lib.replace(\"-\", \"\")}_version`;\n",
       "      return (VEGA_DEBUG[key] == version) ?\n",
       "        Promise.resolve(paths[lib]) :\n",
       "        new Promise(function(resolve, reject) {\n",
       "          var s = document.createElement('script');\n",
       "          document.getElementsByTagName(\"head\")[0].appendChild(s);\n",
       "          s.async = true;\n",
       "          s.onload = () => {\n",
       "            VEGA_DEBUG[key] = version;\n",
       "            return resolve(paths[lib]);\n",
       "          };\n",
       "          s.onerror = () => reject(`Error loading script: ${paths[lib]}`);\n",
       "          s.src = paths[lib];\n",
       "        });\n",
       "    }\n",
       "\n",
       "    function showError(err) {\n",
       "      outputDiv.innerHTML = `<div class=\"error\" style=\"color:red;\">${err}</div>`;\n",
       "      throw err;\n",
       "    }\n",
       "\n",
       "    function displayChart(vegaEmbed) {\n",
       "      vegaEmbed(outputDiv, spec, embedOpt)\n",
       "        .catch(err => showError(`Javascript Error: ${err.message}<br>This usually means there's a typo in your chart specification. See the javascript console for the full traceback.`));\n",
       "    }\n",
       "\n",
       "    if(typeof define === \"function\" && define.amd) {\n",
       "      requirejs.config({paths});\n",
       "      require([\"vega-embed\"], displayChart, err => showError(`Error loading script: ${err.message}`));\n",
       "    } else {\n",
       "      maybeLoadScript(\"vega\", \"5\")\n",
       "        .then(() => maybeLoadScript(\"vega-lite\", \"4.17.0\"))\n",
       "        .then(() => maybeLoadScript(\"vega-embed\", \"6\"))\n",
       "        .catch(showError)\n",
       "        .then(() => displayChart(vegaEmbed));\n",
       "    }\n",
       "  })({\"config\": {\"view\": {\"continuousWidth\": 400, \"continuousHeight\": 300, \"stroke\": null}, \"facet\": {\"spacing\": 0}}, \"data\": {\"name\": \"data-d2747a666d6c92a37d0baa883bba8c60\"}, \"facet\": {\"column\": {\"field\": \"route_id\", \"sort\": [\"236\", \"235\"], \"title\": \"Route ID\", \"type\": \"nominal\"}}, \"spec\": {\"layer\": [{\"mark\": \"rule\", \"encoding\": {\"color\": {\"value\": \"black\"}, \"y\": {\"field\": \"cutoff\", \"type\": \"quantitative\"}}, \"selection\": {\"selector001\": {\"type\": \"interval\", \"bind\": \"scales\", \"encodings\": [\"x\", \"y\"]}}}, {\"mark\": {\"type\": \"point\", \"opacity\": 0.65, \"size\": 12, \"strokeWidth\": 1.1}, \"encoding\": {\"color\": {\"field\": \"time_of_day\", \"scale\": {\"range\": [\"#136C97\", \"#E16B26\", \"#F6BF16\", \"#00896B\", \"#7790A3\", \"#5B559C\"]}, \"sort\": [\"AM Peak\", \"Midday\", \"PM Peak\", \"Owl Service\"], \"title\": \"Time of Day\", \"type\": \"nominal\"}, \"tooltip\": [{\"field\": \"route_id\", \"type\": \"nominal\"}, {\"field\": \"trip_id\", \"type\": \"nominal\"}, {\"field\": \"service_hours\", \"type\": \"quantitative\"}, {\"field\": \"car_duration_hours\", \"type\": \"quantitative\"}, {\"field\": \"bus_multiplier\", \"type\": \"quantitative\"}, {\"field\": \"bus_difference\", \"type\": \"quantitative\"}, {\"field\": \"num_trips\", \"type\": \"quantitative\"}, {\"field\": \"num_competitive\", \"type\": \"quantitative\"}, {\"field\": \"pct_trips_competitive\", \"type\": \"quantitative\"}, {\"field\": \"p25\", \"type\": \"quantitative\"}, {\"field\": \"p50\", \"type\": \"quantitative\"}, {\"field\": \"p75\", \"type\": \"quantitative\"}], \"x\": {\"axis\": {\"grid\": false, \"labels\": false, \"ticks\": true, \"values\": [0]}, \"field\": \"jitter\", \"scale\": {}, \"title\": null, \"type\": \"quantitative\"}, \"y\": {\"field\": \"bus_multiplier\", \"scale\": {\"domain\": [-0.25, 2.5]}, \"title\": \"Ratio of Bus to Car Travel Time\", \"type\": \"quantitative\"}}, \"transform\": [{\"calculate\": \"sqrt(-2*log(random()))*cos(2*PI*random())\", \"as\": \"jitter\"}], \"width\": 50}, {\"layer\": [{\"mark\": {\"type\": \"point\", \"opacity\": 0.6, \"size\": 20, \"strokeWidth\": 1.3}, \"encoding\": {\"color\": {\"value\": \"#323434\"}, \"y\": {\"field\": \"bus_multiplier\", \"type\": \"quantitative\"}}, \"transform\": [{\"filter\": \"(datum.p50_trip === 1)\"}]}, {\"mark\": {\"type\": \"text\", \"align\": \"center\", \"baseline\": \"middle\"}, \"encoding\": {\"color\": {\"value\": \"black\"}, \"text\": {\"field\": \"pct_trips_competitive\", \"format\": \".0%\", \"type\": \"quantitative\"}, \"tooltip\": [{\"field\": \"route_id\", \"type\": \"nominal\"}, {\"field\": \"trip_id\", \"type\": \"nominal\"}, {\"field\": \"service_hours\", \"type\": \"quantitative\"}, {\"field\": \"car_duration_hours\", \"type\": \"quantitative\"}, {\"field\": \"bus_multiplier\", \"type\": \"quantitative\"}, {\"field\": \"bus_difference\", \"type\": \"quantitative\"}, {\"field\": \"num_trips\", \"type\": \"quantitative\"}, {\"field\": \"num_competitive\", \"type\": \"quantitative\"}, {\"field\": \"pct_trips_competitive\", \"type\": \"quantitative\"}, {\"field\": \"p25\", \"type\": \"quantitative\"}, {\"field\": \"p50\", \"type\": \"quantitative\"}, {\"field\": \"p75\", \"type\": \"quantitative\"}], \"x\": {\"value\": 30}, \"y\": {\"value\": 15}}, \"transform\": [{\"calculate\": \"sqrt(-2*log(random()))*cos(2*PI*random())\", \"as\": \"jitter\"}, {\"filter\": \"(datum.fastest_trip === 1)\"}]}]}]}, \"resolve\": {\"scale\": {\"y\": \"shared\"}}, \"title\": \"Ratio of Bus to Car Travel Time\", \"$schema\": \"https://vega.github.io/schema/vega-lite/v4.17.0.json\", \"datasets\": {\"data-d2747a666d6c92a37d0baa883bba8c60\": [{\"calitp_itp_id\": 79, \"trip_key\": 3908391352726038123, \"trip_id\": \"t_1317623_b_28810_tn_0\", \"shape_id\": \"p_8851\", \"route_id\": \"235\", \"service_hours\": 0.72, \"trip_first_departure_ts\": 29220, \"trip_last_arrival_ts\": 31800, \"departure_hour\": 8, \"time_of_day\": \"AM Peak\", \"p25\": 0.72, \"p50\": 0.87, \"p75\": 0.87, \"p50_trip\": 0, \"fastest_trip\": 0, \"car_duration_hours\": 0.54, \"competitive_route\": 1, \"bus_multiplier\": 1.33, \"bus_difference\": 10.8, \"num_trips\": 27, \"num_competitive\": 26, \"pct_trips_competitive\": 0.963, \"bus_difference_spread\": 28.8, \"route_group\": \"medium\", \"max_trip_hrs\": 1.2, \"max_trip_route_group\": 1.2, \"name\": \"City of Corona\", \"caltrans_district\": \"08 - San Bernardino\", \"drmt_organization_name\": null, \"cutoff2\": 30, \"cutoff\": 2}, {\"calitp_itp_id\": 79, \"trip_key\": -9115410767367665152, \"trip_id\": \"t_1317655_b_28810_tn_0\", \"shape_id\": \"p_8851\", \"route_id\": \"235\", \"service_hours\": 0.72, \"trip_first_departure_ts\": 39600, \"trip_last_arrival_ts\": 42180, \"departure_hour\": 11, \"time_of_day\": \"Midday\", \"p25\": 0.72, \"p50\": 0.87, \"p75\": 0.87, \"p50_trip\": 0, \"fastest_trip\": 0, \"car_duration_hours\": 0.54, \"competitive_route\": 1, \"bus_multiplier\": 1.33, \"bus_difference\": 10.8, \"num_trips\": 27, \"num_competitive\": 26, \"pct_trips_competitive\": 0.963, \"bus_difference_spread\": 28.8, \"route_group\": \"medium\", \"max_trip_hrs\": 1.2, \"max_trip_route_group\": 1.2, \"name\": \"City of Corona\", \"caltrans_district\": \"08 - San Bernardino\", \"drmt_organization_name\": null, \"cutoff2\": 30, \"cutoff\": 2}, {\"calitp_itp_id\": 79, \"trip_key\": 5462397767210838825, \"trip_id\": \"t_1317663_b_28810_tn_0\", \"shape_id\": \"p_8851\", \"route_id\": \"235\", \"service_hours\": 0.72, \"trip_first_departure_ts\": 49200, \"trip_last_arrival_ts\": 51780, \"departure_hour\": 13, \"time_of_day\": \"Midday\", \"p25\": 0.72, \"p50\": 0.87, \"p75\": 0.87, \"p50_trip\": 0, \"fastest_trip\": 0, \"car_duration_hours\": 0.54, \"competitive_route\": 1, \"bus_multiplier\": 1.33, \"bus_difference\": 10.8, \"num_trips\": 27, \"num_competitive\": 26, \"pct_trips_competitive\": 0.963, \"bus_difference_spread\": 28.8, \"route_group\": \"medium\", \"max_trip_hrs\": 1.2, \"max_trip_route_group\": 1.2, \"name\": \"City of Corona\", \"caltrans_district\": \"08 - San Bernardino\", \"drmt_organization_name\": null, \"cutoff2\": 30, \"cutoff\": 2}, {\"calitp_itp_id\": 79, \"trip_key\": 8651167925146092756, \"trip_id\": \"t_1317633_b_28810_tn_0\", \"shape_id\": \"p_8851\", \"route_id\": \"235\", \"service_hours\": 0.72, \"trip_first_departure_ts\": 58860, \"trip_last_arrival_ts\": 61440, \"departure_hour\": 16, \"time_of_day\": \"Midday\", \"p25\": 0.72, \"p50\": 0.87, \"p75\": 0.87, \"p50_trip\": 0, \"fastest_trip\": 1, \"car_duration_hours\": 0.54, \"competitive_route\": 1, \"bus_multiplier\": 1.33, \"bus_difference\": 10.8, \"num_trips\": 27, \"num_competitive\": 26, \"pct_trips_competitive\": 0.963, \"bus_difference_spread\": 28.8, \"route_group\": \"medium\", \"max_trip_hrs\": 1.2, \"max_trip_route_group\": 1.2, \"name\": \"City of Corona\", \"caltrans_district\": \"08 - San Bernardino\", \"drmt_organization_name\": null, \"cutoff2\": 30, \"cutoff\": 2}, {\"calitp_itp_id\": 79, \"trip_key\": -893435157580333469, \"trip_id\": \"t_1317626_b_28810_tn_0\", \"shape_id\": \"p_8851\", \"route_id\": \"235\", \"service_hours\": 0.72, \"trip_first_departure_ts\": 36360, \"trip_last_arrival_ts\": 38940, \"departure_hour\": 10, \"time_of_day\": \"Midday\", \"p25\": 0.72, \"p50\": 0.87, \"p75\": 0.87, \"p50_trip\": 0, \"fastest_trip\": 0, \"car_duration_hours\": 0.54, \"competitive_route\": 1, \"bus_multiplier\": 1.33, \"bus_difference\": 10.8, \"num_trips\": 27, \"num_competitive\": 26, \"pct_trips_competitive\": 0.963, \"bus_difference_spread\": 28.8, \"route_group\": \"medium\", \"max_trip_hrs\": 1.2, \"max_trip_route_group\": 1.2, \"name\": \"City of Corona\", \"caltrans_district\": \"08 - San Bernardino\", \"drmt_organization_name\": null, \"cutoff2\": 30, \"cutoff\": 2}, {\"calitp_itp_id\": 79, \"trip_key\": 8536251602501322371, \"trip_id\": \"t_1317638_b_28810_tn_0\", \"shape_id\": \"p_8851\", \"route_id\": \"235\", \"service_hours\": 0.72, \"trip_first_departure_ts\": 55620, \"trip_last_arrival_ts\": 58200, \"departure_hour\": 15, \"time_of_day\": \"Midday\", \"p25\": 0.72, \"p50\": 0.87, \"p75\": 0.87, \"p50_trip\": 0, \"fastest_trip\": 0, \"car_duration_hours\": 0.54, \"competitive_route\": 1, \"bus_multiplier\": 1.33, \"bus_difference\": 10.8, \"num_trips\": 27, \"num_competitive\": 26, \"pct_trips_competitive\": 0.963, \"bus_difference_spread\": 28.8, \"route_group\": \"medium\", \"max_trip_hrs\": 1.2, \"max_trip_route_group\": 1.2, \"name\": \"City of Corona\", \"caltrans_district\": \"08 - San Bernardino\", \"drmt_organization_name\": null, \"cutoff2\": 30, \"cutoff\": 2}, {\"calitp_itp_id\": 79, \"trip_key\": -603563581606590687, \"trip_id\": \"t_1317660_b_28810_tn_0\", \"shape_id\": \"p_8851\", \"route_id\": \"235\", \"service_hours\": 0.72, \"trip_first_departure_ts\": 32820, \"trip_last_arrival_ts\": 35400, \"departure_hour\": 9, \"time_of_day\": \"AM Peak\", \"p25\": 0.72, \"p50\": 0.87, \"p75\": 0.87, \"p50_trip\": 0, \"fastest_trip\": 0, \"car_duration_hours\": 0.54, \"competitive_route\": 1, \"bus_multiplier\": 1.33, \"bus_difference\": 10.8, \"num_trips\": 27, \"num_competitive\": 26, \"pct_trips_competitive\": 0.963, \"bus_difference_spread\": 28.8, \"route_group\": \"medium\", \"max_trip_hrs\": 1.2, \"max_trip_route_group\": 1.2, \"name\": \"City of Corona\", \"caltrans_district\": \"08 - San Bernardino\", \"drmt_organization_name\": null, \"cutoff2\": 30, \"cutoff\": 2}, {\"calitp_itp_id\": 79, \"trip_key\": -6904178753925746002, \"trip_id\": \"t_1317648_b_28810_tn_0\", \"shape_id\": \"p_8851\", \"route_id\": \"235\", \"service_hours\": 0.72, \"trip_first_departure_ts\": 46020, \"trip_last_arrival_ts\": 48600, \"departure_hour\": 12, \"time_of_day\": \"Midday\", \"p25\": 0.72, \"p50\": 0.87, \"p75\": 0.87, \"p50_trip\": 0, \"fastest_trip\": 0, \"car_duration_hours\": 0.54, \"competitive_route\": 1, \"bus_multiplier\": 1.33, \"bus_difference\": 10.8, \"num_trips\": 27, \"num_competitive\": 26, \"pct_trips_competitive\": 0.963, \"bus_difference_spread\": 28.8, \"route_group\": \"medium\", \"max_trip_hrs\": 1.2, \"max_trip_route_group\": 1.2, \"name\": \"City of Corona\", \"caltrans_district\": \"08 - San Bernardino\", \"drmt_organization_name\": null, \"cutoff2\": 30, \"cutoff\": 2}, {\"calitp_itp_id\": 79, \"trip_key\": 5514212057531365888, \"trip_id\": \"t_1317664_b_28810_tn_0\", \"shape_id\": \"p_8851\", \"route_id\": \"235\", \"service_hours\": 0.72, \"trip_first_departure_ts\": 42780, \"trip_last_arrival_ts\": 45360, \"departure_hour\": 11, \"time_of_day\": \"Midday\", \"p25\": 0.72, \"p50\": 0.87, \"p75\": 0.87, \"p50_trip\": 0, \"fastest_trip\": 0, \"car_duration_hours\": 0.54, \"competitive_route\": 1, \"bus_multiplier\": 1.33, \"bus_difference\": 10.8, \"num_trips\": 27, \"num_competitive\": 26, \"pct_trips_competitive\": 0.963, \"bus_difference_spread\": 28.8, \"route_group\": \"medium\", \"max_trip_hrs\": 1.2, \"max_trip_route_group\": 1.2, \"name\": \"City of Corona\", \"caltrans_district\": \"08 - San Bernardino\", \"drmt_organization_name\": null, \"cutoff2\": 30, \"cutoff\": 2}, {\"calitp_itp_id\": 79, \"trip_key\": -2030995443142040501, \"trip_id\": \"t_1317640_b_28810_tn_0\", \"shape_id\": \"p_8851\", \"route_id\": \"235\", \"service_hours\": 0.72, \"trip_first_departure_ts\": 52440, \"trip_last_arrival_ts\": 55020, \"departure_hour\": 14, \"time_of_day\": \"Midday\", \"p25\": 0.72, \"p50\": 0.87, \"p75\": 0.87, \"p50_trip\": 0, \"fastest_trip\": 0, \"car_duration_hours\": 0.54, \"competitive_route\": 1, \"bus_multiplier\": 1.33, \"bus_difference\": 10.8, \"num_trips\": 27, \"num_competitive\": 26, \"pct_trips_competitive\": 0.963, \"bus_difference_spread\": 28.8, \"route_group\": \"medium\", \"max_trip_hrs\": 1.2, \"max_trip_route_group\": 1.2, \"name\": \"City of Corona\", \"caltrans_district\": \"08 - San Bernardino\", \"drmt_organization_name\": null, \"cutoff2\": 30, \"cutoff\": 2}, {\"calitp_itp_id\": 79, \"trip_key\": 8014259400164524047, \"trip_id\": \"t_1317611_b_28810_tn_0\", \"shape_id\": \"p_8850\", \"route_id\": \"235\", \"service_hours\": 0.83, \"trip_first_departure_ts\": 61680, \"trip_last_arrival_ts\": 64680, \"departure_hour\": 17, \"time_of_day\": \"PM Peak\", \"p25\": 0.72, \"p50\": 0.87, \"p75\": 0.87, \"p50_trip\": 0, \"fastest_trip\": 0, \"car_duration_hours\": 0.54, \"competitive_route\": 1, \"bus_multiplier\": 1.54, \"bus_difference\": 17.4, \"num_trips\": 27, \"num_competitive\": 26, \"pct_trips_competitive\": 0.963, \"bus_difference_spread\": 28.8, \"route_group\": \"medium\", \"max_trip_hrs\": 1.2, \"max_trip_route_group\": 1.2, \"name\": \"City of Corona\", \"caltrans_district\": \"08 - San Bernardino\", \"drmt_organization_name\": null, \"cutoff2\": 30, \"cutoff\": 2}, {\"calitp_itp_id\": 79, \"trip_key\": 159904556375511301, \"trip_id\": \"t_1317612_b_28810_tn_0\", \"shape_id\": \"p_8850\", \"route_id\": \"235\", \"service_hours\": 0.83, \"trip_first_departure_ts\": 26040, \"trip_last_arrival_ts\": 29040, \"departure_hour\": 7, \"time_of_day\": \"AM Peak\", \"p25\": 0.72, \"p50\": 0.87, \"p75\": 0.87, \"p50_trip\": 0, \"fastest_trip\": 0, \"car_duration_hours\": 0.54, \"competitive_route\": 1, \"bus_multiplier\": 1.54, \"bus_difference\": 17.4, \"num_trips\": 27, \"num_competitive\": 26, \"pct_trips_competitive\": 0.963, \"bus_difference_spread\": 28.8, \"route_group\": \"medium\", \"max_trip_hrs\": 1.2, \"max_trip_route_group\": 1.2, \"name\": \"City of Corona\", \"caltrans_district\": \"08 - San Bernardino\", \"drmt_organization_name\": null, \"cutoff2\": 30, \"cutoff\": 2}, {\"calitp_itp_id\": 79, \"trip_key\": 1085139142987600607, \"trip_id\": \"t_1317650_b_28810_tn_0\", \"shape_id\": \"p_8849\", \"route_id\": \"235\", \"service_hours\": 0.87, \"trip_first_departure_ts\": 42540, \"trip_last_arrival_ts\": 45660, \"departure_hour\": 11, \"time_of_day\": \"Midday\", \"p25\": 0.72, \"p50\": 0.87, \"p75\": 0.87, \"p50_trip\": 1, \"fastest_trip\": 0, \"car_duration_hours\": 0.54, \"competitive_route\": 1, \"bus_multiplier\": 1.61, \"bus_difference\": 19.8, \"num_trips\": 27, \"num_competitive\": 26, \"pct_trips_competitive\": 0.963, \"bus_difference_spread\": 28.8, \"route_group\": \"medium\", \"max_trip_hrs\": 1.2, \"max_trip_route_group\": 1.2, \"name\": \"City of Corona\", \"caltrans_district\": \"08 - San Bernardino\", \"drmt_organization_name\": null, \"cutoff2\": 30, \"cutoff\": 2}, {\"calitp_itp_id\": 79, \"trip_key\": 2144113096922638928, \"trip_id\": \"t_1317636_b_28810_tn_0\", \"shape_id\": \"p_8849\", \"route_id\": \"235\", \"service_hours\": 0.87, \"trip_first_departure_ts\": 48960, \"trip_last_arrival_ts\": 52080, \"departure_hour\": 13, \"time_of_day\": \"Midday\", \"p25\": 0.72, \"p50\": 0.87, \"p75\": 0.87, \"p50_trip\": 1, \"fastest_trip\": 0, \"car_duration_hours\": 0.54, \"competitive_route\": 1, \"bus_multiplier\": 1.61, \"bus_difference\": 19.8, \"num_trips\": 27, \"num_competitive\": 26, \"pct_trips_competitive\": 0.963, \"bus_difference_spread\": 28.8, \"route_group\": \"medium\", \"max_trip_hrs\": 1.2, \"max_trip_route_group\": 1.2, \"name\": \"City of Corona\", \"caltrans_district\": \"08 - San Bernardino\", \"drmt_organization_name\": null, \"cutoff2\": 30, \"cutoff\": 2}, {\"calitp_itp_id\": 79, \"trip_key\": -332246472615110465, \"trip_id\": \"t_1317634_b_28810_tn_0\", \"shape_id\": \"p_8849\", \"route_id\": \"235\", \"service_hours\": 0.87, \"trip_first_departure_ts\": 39300, \"trip_last_arrival_ts\": 42420, \"departure_hour\": 10, \"time_of_day\": \"Midday\", \"p25\": 0.72, \"p50\": 0.87, \"p75\": 0.87, \"p50_trip\": 1, \"fastest_trip\": 0, \"car_duration_hours\": 0.54, \"competitive_route\": 1, \"bus_multiplier\": 1.61, \"bus_difference\": 19.8, \"num_trips\": 27, \"num_competitive\": 26, \"pct_trips_competitive\": 0.963, \"bus_difference_spread\": 28.8, \"route_group\": \"medium\", \"max_trip_hrs\": 1.2, \"max_trip_route_group\": 1.2, \"name\": \"City of Corona\", \"caltrans_district\": \"08 - San Bernardino\", \"drmt_organization_name\": null, \"cutoff2\": 30, \"cutoff\": 2}, {\"calitp_itp_id\": 79, \"trip_key\": 6955130874846673436, \"trip_id\": \"t_1317659_b_28810_tn_0\", \"shape_id\": \"p_8849\", \"route_id\": \"235\", \"service_hours\": 0.87, \"trip_first_departure_ts\": 36120, \"trip_last_arrival_ts\": 39240, \"departure_hour\": 10, \"time_of_day\": \"Midday\", \"p25\": 0.72, \"p50\": 0.87, \"p75\": 0.87, \"p50_trip\": 1, \"fastest_trip\": 0, \"car_duration_hours\": 0.54, \"competitive_route\": 1, \"bus_multiplier\": 1.61, \"bus_difference\": 19.8, \"num_trips\": 27, \"num_competitive\": 26, \"pct_trips_competitive\": 0.963, \"bus_difference_spread\": 28.8, \"route_group\": \"medium\", \"max_trip_hrs\": 1.2, \"max_trip_route_group\": 1.2, \"name\": \"City of Corona\", \"caltrans_district\": \"08 - San Bernardino\", \"drmt_organization_name\": null, \"cutoff2\": 30, \"cutoff\": 2}, {\"calitp_itp_id\": 79, \"trip_key\": 7302399521796279940, \"trip_id\": \"t_1317635_b_28810_tn_0\", \"shape_id\": \"p_8849\", \"route_id\": \"235\", \"service_hours\": 0.87, \"trip_first_departure_ts\": 58440, \"trip_last_arrival_ts\": 61560, \"departure_hour\": 16, \"time_of_day\": \"Midday\", \"p25\": 0.72, \"p50\": 0.87, \"p75\": 0.87, \"p50_trip\": 1, \"fastest_trip\": 0, \"car_duration_hours\": 0.54, \"competitive_route\": 1, \"bus_multiplier\": 1.61, \"bus_difference\": 19.8, \"num_trips\": 27, \"num_competitive\": 26, \"pct_trips_competitive\": 0.963, \"bus_difference_spread\": 28.8, \"route_group\": \"medium\", \"max_trip_hrs\": 1.2, \"max_trip_route_group\": 1.2, \"name\": \"City of Corona\", \"caltrans_district\": \"08 - San Bernardino\", \"drmt_organization_name\": null, \"cutoff2\": 30, \"cutoff\": 2}, {\"calitp_itp_id\": 79, \"trip_key\": 1213444137193088520, \"trip_id\": \"t_1317662_b_28810_tn_0\", \"shape_id\": \"p_8849\", \"route_id\": \"235\", \"service_hours\": 0.87, \"trip_first_departure_ts\": 52140, \"trip_last_arrival_ts\": 55260, \"departure_hour\": 14, \"time_of_day\": \"Midday\", \"p25\": 0.72, \"p50\": 0.87, \"p75\": 0.87, \"p50_trip\": 1, \"fastest_trip\": 0, \"car_duration_hours\": 0.54, \"competitive_route\": 1, \"bus_multiplier\": 1.61, \"bus_difference\": 19.8, \"num_trips\": 27, \"num_competitive\": 26, \"pct_trips_competitive\": 0.963, \"bus_difference_spread\": 28.8, \"route_group\": \"medium\", \"max_trip_hrs\": 1.2, \"max_trip_route_group\": 1.2, \"name\": \"City of Corona\", \"caltrans_district\": \"08 - San Bernardino\", \"drmt_organization_name\": null, \"cutoff2\": 30, \"cutoff\": 2}, {\"calitp_itp_id\": 79, \"trip_key\": -5871869377338177262, \"trip_id\": \"t_1317656_b_28810_tn_0\", \"shape_id\": \"p_8849\", \"route_id\": \"235\", \"service_hours\": 0.87, \"trip_first_departure_ts\": 32880, \"trip_last_arrival_ts\": 36000, \"departure_hour\": 9, \"time_of_day\": \"AM Peak\", \"p25\": 0.72, \"p50\": 0.87, \"p75\": 0.87, \"p50_trip\": 1, \"fastest_trip\": 0, \"car_duration_hours\": 0.54, \"competitive_route\": 1, \"bus_multiplier\": 1.61, \"bus_difference\": 19.8, \"num_trips\": 27, \"num_competitive\": 26, \"pct_trips_competitive\": 0.963, \"bus_difference_spread\": 28.8, \"route_group\": \"medium\", \"max_trip_hrs\": 1.2, \"max_trip_route_group\": 1.2, \"name\": \"City of Corona\", \"caltrans_district\": \"08 - San Bernardino\", \"drmt_organization_name\": null, \"cutoff2\": 30, \"cutoff\": 2}, {\"calitp_itp_id\": 79, \"trip_key\": 5969403058972938668, \"trip_id\": \"t_1317621_b_28810_tn_0\", \"shape_id\": \"p_8849\", \"route_id\": \"235\", \"service_hours\": 0.87, \"trip_first_departure_ts\": 29340, \"trip_last_arrival_ts\": 32460, \"departure_hour\": 8, \"time_of_day\": \"AM Peak\", \"p25\": 0.72, \"p50\": 0.87, \"p75\": 0.87, \"p50_trip\": 1, \"fastest_trip\": 0, \"car_duration_hours\": 0.54, \"competitive_route\": 1, \"bus_multiplier\": 1.61, \"bus_difference\": 19.8, \"num_trips\": 27, \"num_competitive\": 26, \"pct_trips_competitive\": 0.963, \"bus_difference_spread\": 28.8, \"route_group\": \"medium\", \"max_trip_hrs\": 1.2, \"max_trip_route_group\": 1.2, \"name\": \"City of Corona\", \"caltrans_district\": \"08 - San Bernardino\", \"drmt_organization_name\": null, \"cutoff2\": 30, \"cutoff\": 2}, {\"calitp_itp_id\": 79, \"trip_key\": 886344185501257873, \"trip_id\": \"t_1317632_b_28810_tn_0\", \"shape_id\": \"p_8849\", \"route_id\": \"235\", \"service_hours\": 0.87, \"trip_first_departure_ts\": 55380, \"trip_last_arrival_ts\": 58500, \"departure_hour\": 15, \"time_of_day\": \"Midday\", \"p25\": 0.72, \"p50\": 0.87, \"p75\": 0.87, \"p50_trip\": 1, \"fastest_trip\": 0, \"car_duration_hours\": 0.54, \"competitive_route\": 1, \"bus_multiplier\": 1.61, \"bus_difference\": 19.8, \"num_trips\": 27, \"num_competitive\": 26, \"pct_trips_competitive\": 0.963, \"bus_difference_spread\": 28.8, \"route_group\": \"medium\", \"max_trip_hrs\": 1.2, \"max_trip_route_group\": 1.2, \"name\": \"City of Corona\", \"caltrans_district\": \"08 - San Bernardino\", \"drmt_organization_name\": null, \"cutoff2\": 30, \"cutoff\": 2}, {\"calitp_itp_id\": 79, \"trip_key\": 7356026991289019084, \"trip_id\": \"t_1317606_b_28810_tn_0\", \"shape_id\": \"p_8849\", \"route_id\": \"235\", \"service_hours\": 0.87, \"trip_first_departure_ts\": 45720, \"trip_last_arrival_ts\": 48840, \"departure_hour\": 12, \"time_of_day\": \"Midday\", \"p25\": 0.72, \"p50\": 0.87, \"p75\": 0.87, \"p50_trip\": 1, \"fastest_trip\": 0, \"car_duration_hours\": 0.54, \"competitive_route\": 1, \"bus_multiplier\": 1.61, \"bus_difference\": 19.8, \"num_trips\": 27, \"num_competitive\": 26, \"pct_trips_competitive\": 0.963, \"bus_difference_spread\": 28.8, \"route_group\": \"medium\", \"max_trip_hrs\": 1.2, \"max_trip_route_group\": 1.2, \"name\": \"City of Corona\", \"caltrans_district\": \"08 - San Bernardino\", \"drmt_organization_name\": null, \"cutoff2\": 30, \"cutoff\": 2}, {\"calitp_itp_id\": 79, \"trip_key\": -379780085014476893, \"trip_id\": \"t_1317620_b_28810_tn_0\", \"shape_id\": \"p_8850\", \"route_id\": \"235\", \"service_hours\": 0.87, \"trip_first_departure_ts\": 65580, \"trip_last_arrival_ts\": 68700, \"departure_hour\": 18, \"time_of_day\": \"PM Peak\", \"p25\": 0.72, \"p50\": 0.87, \"p75\": 0.87, \"p50_trip\": 1, \"fastest_trip\": 0, \"car_duration_hours\": 0.54, \"competitive_route\": 1, \"bus_multiplier\": 1.61, \"bus_difference\": 19.8, \"num_trips\": 27, \"num_competitive\": 26, \"pct_trips_competitive\": 0.963, \"bus_difference_spread\": 28.8, \"route_group\": \"medium\", \"max_trip_hrs\": 1.2, \"max_trip_route_group\": 1.2, \"name\": \"City of Corona\", \"caltrans_district\": \"08 - San Bernardino\", \"drmt_organization_name\": null, \"cutoff2\": 30, \"cutoff\": 2}, {\"calitp_itp_id\": 79, \"trip_key\": 7611716081220973304, \"trip_id\": \"t_1317617_b_28810_tn_0\", \"shape_id\": \"p_8848\", \"route_id\": \"235\", \"service_hours\": 0.95, \"trip_first_departure_ts\": 64920, \"trip_last_arrival_ts\": 68340, \"departure_hour\": 18, \"time_of_day\": \"PM Peak\", \"p25\": 0.72, \"p50\": 0.87, \"p75\": 0.87, \"p50_trip\": 0, \"fastest_trip\": 0, \"car_duration_hours\": 0.54, \"competitive_route\": 1, \"bus_multiplier\": 1.76, \"bus_difference\": 24.6, \"num_trips\": 27, \"num_competitive\": 26, \"pct_trips_competitive\": 0.963, \"bus_difference_spread\": 28.8, \"route_group\": \"medium\", \"max_trip_hrs\": 1.2, \"max_trip_route_group\": 1.2, \"name\": \"City of Corona\", \"caltrans_district\": \"08 - San Bernardino\", \"drmt_organization_name\": null, \"cutoff2\": 30, \"cutoff\": 2}, {\"calitp_itp_id\": 79, \"trip_key\": -549658962958523689, \"trip_id\": \"t_1317622_b_28810_tn_0\", \"shape_id\": \"p_8848\", \"route_id\": \"235\", \"service_hours\": 1.02, \"trip_first_departure_ts\": 25200, \"trip_last_arrival_ts\": 28860, \"departure_hour\": 7, \"time_of_day\": \"AM Peak\", \"p25\": 0.72, \"p50\": 0.87, \"p75\": 0.87, \"p50_trip\": 0, \"fastest_trip\": 0, \"car_duration_hours\": 0.54, \"competitive_route\": 1, \"bus_multiplier\": 1.89, \"bus_difference\": 28.8, \"num_trips\": 27, \"num_competitive\": 26, \"pct_trips_competitive\": 0.963, \"bus_difference_spread\": 28.8, \"route_group\": \"medium\", \"max_trip_hrs\": 1.2, \"max_trip_route_group\": 1.2, \"name\": \"City of Corona\", \"caltrans_district\": \"08 - San Bernardino\", \"drmt_organization_name\": null, \"cutoff2\": 30, \"cutoff\": 2}, {\"calitp_itp_id\": 79, \"trip_key\": 8401060567549796085, \"trip_id\": \"t_1317614_b_28810_tn_0\", \"shape_id\": \"p_8848\", \"route_id\": \"235\", \"service_hours\": 1.03, \"trip_first_departure_ts\": 61800, \"trip_last_arrival_ts\": 65520, \"departure_hour\": 17, \"time_of_day\": \"PM Peak\", \"p25\": 0.72, \"p50\": 0.87, \"p75\": 0.87, \"p50_trip\": 0, \"fastest_trip\": 0, \"car_duration_hours\": 0.54, \"competitive_route\": 1, \"bus_multiplier\": 1.91, \"bus_difference\": 29.4, \"num_trips\": 27, \"num_competitive\": 26, \"pct_trips_competitive\": 0.963, \"bus_difference_spread\": 28.8, \"route_group\": \"medium\", \"max_trip_hrs\": 1.2, \"max_trip_route_group\": 1.2, \"name\": \"City of Corona\", \"caltrans_district\": \"08 - San Bernardino\", \"drmt_organization_name\": null, \"cutoff2\": 30, \"cutoff\": 2}, {\"calitp_itp_id\": 79, \"trip_key\": 8388729936127192116, \"trip_id\": \"t_1317637_b_28810_tn_0\", \"shape_id\": \"p_8850\", \"route_id\": \"235\", \"service_hours\": 1.2, \"trip_first_departure_ts\": 23400, \"trip_last_arrival_ts\": 27720, \"departure_hour\": 6, \"time_of_day\": \"Owl Service\", \"p25\": 0.72, \"p50\": 0.87, \"p75\": 0.87, \"p50_trip\": 0, \"fastest_trip\": 0, \"car_duration_hours\": 0.54, \"competitive_route\": 1, \"bus_multiplier\": 2.22, \"bus_difference\": 39.6, \"num_trips\": 27, \"num_competitive\": 26, \"pct_trips_competitive\": 0.963, \"bus_difference_spread\": 28.8, \"route_group\": \"medium\", \"max_trip_hrs\": 1.2, \"max_trip_route_group\": 1.2, \"name\": \"City of Corona\", \"caltrans_district\": \"08 - San Bernardino\", \"drmt_organization_name\": null, \"cutoff2\": 30, \"cutoff\": 2}, {\"calitp_itp_id\": 79, \"trip_key\": 6449377066310141917, \"trip_id\": \"t_1317653_b_28810_tn_0\", \"shape_id\": \"p_8847\", \"route_id\": \"236\", \"service_hours\": 0.9, \"trip_first_departure_ts\": 39240, \"trip_last_arrival_ts\": 42480, \"departure_hour\": 10, \"time_of_day\": \"Midday\", \"p25\": 0.9, \"p50\": 0.92, \"p75\": 0.9724999999999999, \"p50_trip\": 0, \"fastest_trip\": 0, \"car_duration_hours\": 0.67, \"competitive_route\": 1, \"bus_multiplier\": 1.34, \"bus_difference\": 13.8, \"num_trips\": 24, \"num_competitive\": 24, \"pct_trips_competitive\": 1.0, \"bus_difference_spread\": 18.0, \"route_group\": \"medium\", \"max_trip_hrs\": 1.2, \"max_trip_route_group\": 1.2, \"name\": \"City of Corona\", \"caltrans_district\": \"08 - San Bernardino\", \"drmt_organization_name\": null, \"cutoff2\": 30, \"cutoff\": 2}, {\"calitp_itp_id\": 79, \"trip_key\": -9213660478626422435, \"trip_id\": \"t_1317641_b_28810_tn_0\", \"shape_id\": \"p_8847\", \"route_id\": \"236\", \"service_hours\": 0.9, \"trip_first_departure_ts\": 35580, \"trip_last_arrival_ts\": 38820, \"departure_hour\": 9, \"time_of_day\": \"AM Peak\", \"p25\": 0.9, \"p50\": 0.92, \"p75\": 0.9724999999999999, \"p50_trip\": 0, \"fastest_trip\": 0, \"car_duration_hours\": 0.67, \"competitive_route\": 1, \"bus_multiplier\": 1.34, \"bus_difference\": 13.8, \"num_trips\": 24, \"num_competitive\": 24, \"pct_trips_competitive\": 1.0, \"bus_difference_spread\": 18.0, \"route_group\": \"medium\", \"max_trip_hrs\": 1.2, \"max_trip_route_group\": 1.2, \"name\": \"City of Corona\", \"caltrans_district\": \"08 - San Bernardino\", \"drmt_organization_name\": null, \"cutoff2\": 30, \"cutoff\": 2}, {\"calitp_itp_id\": 79, \"trip_key\": 5806597867871502395, \"trip_id\": \"t_1317686_b_28810_tn_0\", \"shape_id\": \"p_8847\", \"route_id\": \"236\", \"service_hours\": 0.9, \"trip_first_departure_ts\": 57360, \"trip_last_arrival_ts\": 60600, \"departure_hour\": 15, \"time_of_day\": \"Midday\", \"p25\": 0.9, \"p50\": 0.92, \"p75\": 0.9724999999999999, \"p50_trip\": 0, \"fastest_trip\": 1, \"car_duration_hours\": 0.67, \"competitive_route\": 1, \"bus_multiplier\": 1.34, \"bus_difference\": 13.8, \"num_trips\": 24, \"num_competitive\": 24, \"pct_trips_competitive\": 1.0, \"bus_difference_spread\": 18.0, \"route_group\": \"medium\", \"max_trip_hrs\": 1.2, \"max_trip_route_group\": 1.2, \"name\": \"City of Corona\", \"caltrans_district\": \"08 - San Bernardino\", \"drmt_organization_name\": null, \"cutoff2\": 30, \"cutoff\": 2}, {\"calitp_itp_id\": 79, \"trip_key\": -3946702690811646881, \"trip_id\": \"t_1317654_b_28810_tn_0\", \"shape_id\": \"p_8847\", \"route_id\": \"236\", \"service_hours\": 0.9, \"trip_first_departure_ts\": 46500, \"trip_last_arrival_ts\": 49740, \"departure_hour\": 12, \"time_of_day\": \"Midday\", \"p25\": 0.9, \"p50\": 0.92, \"p75\": 0.9724999999999999, \"p50_trip\": 0, \"fastest_trip\": 0, \"car_duration_hours\": 0.67, \"competitive_route\": 1, \"bus_multiplier\": 1.34, \"bus_difference\": 13.8, \"num_trips\": 24, \"num_competitive\": 24, \"pct_trips_competitive\": 1.0, \"bus_difference_spread\": 18.0, \"route_group\": \"medium\", \"max_trip_hrs\": 1.2, \"max_trip_route_group\": 1.2, \"name\": \"City of Corona\", \"caltrans_district\": \"08 - San Bernardino\", \"drmt_organization_name\": null, \"cutoff2\": 30, \"cutoff\": 2}, {\"calitp_itp_id\": 79, \"trip_key\": 338493820203463694, \"trip_id\": \"t_1317619_b_28810_tn_0\", \"shape_id\": \"p_8847\", \"route_id\": \"236\", \"service_hours\": 0.9, \"trip_first_departure_ts\": 31980, \"trip_last_arrival_ts\": 35220, \"departure_hour\": 8, \"time_of_day\": \"AM Peak\", \"p25\": 0.9, \"p50\": 0.92, \"p75\": 0.9724999999999999, \"p50_trip\": 0, \"fastest_trip\": 0, \"car_duration_hours\": 0.67, \"competitive_route\": 1, \"bus_multiplier\": 1.34, \"bus_difference\": 13.8, \"num_trips\": 24, \"num_competitive\": 24, \"pct_trips_competitive\": 1.0, \"bus_difference_spread\": 18.0, \"route_group\": \"medium\", \"max_trip_hrs\": 1.2, \"max_trip_route_group\": 1.2, \"name\": \"City of Corona\", \"caltrans_district\": \"08 - San Bernardino\", \"drmt_organization_name\": null, \"cutoff2\": 30, \"cutoff\": 2}, {\"calitp_itp_id\": 79, \"trip_key\": -5282735163382010678, \"trip_id\": \"t_1317657_b_28810_tn_0\", \"shape_id\": \"p_8847\", \"route_id\": \"236\", \"service_hours\": 0.9, \"trip_first_departure_ts\": 53760, \"trip_last_arrival_ts\": 57000, \"departure_hour\": 14, \"time_of_day\": \"Midday\", \"p25\": 0.9, \"p50\": 0.92, \"p75\": 0.9724999999999999, \"p50_trip\": 0, \"fastest_trip\": 0, \"car_duration_hours\": 0.67, \"competitive_route\": 1, \"bus_multiplier\": 1.34, \"bus_difference\": 13.8, \"num_trips\": 24, \"num_competitive\": 24, \"pct_trips_competitive\": 1.0, \"bus_difference_spread\": 18.0, \"route_group\": \"medium\", \"max_trip_hrs\": 1.2, \"max_trip_route_group\": 1.2, \"name\": \"City of Corona\", \"caltrans_district\": \"08 - San Bernardino\", \"drmt_organization_name\": null, \"cutoff2\": 30, \"cutoff\": 2}, {\"calitp_itp_id\": 79, \"trip_key\": -3750065221010291569, \"trip_id\": \"t_1317645_b_28810_tn_0\", \"shape_id\": \"p_8847\", \"route_id\": \"236\", \"service_hours\": 0.9, \"trip_first_departure_ts\": 50100, \"trip_last_arrival_ts\": 53340, \"departure_hour\": 13, \"time_of_day\": \"Midday\", \"p25\": 0.9, \"p50\": 0.92, \"p75\": 0.9724999999999999, \"p50_trip\": 0, \"fastest_trip\": 0, \"car_duration_hours\": 0.67, \"competitive_route\": 1, \"bus_multiplier\": 1.34, \"bus_difference\": 13.8, \"num_trips\": 24, \"num_competitive\": 24, \"pct_trips_competitive\": 1.0, \"bus_difference_spread\": 18.0, \"route_group\": \"medium\", \"max_trip_hrs\": 1.2, \"max_trip_route_group\": 1.2, \"name\": \"City of Corona\", \"caltrans_district\": \"08 - San Bernardino\", \"drmt_organization_name\": null, \"cutoff2\": 30, \"cutoff\": 2}, {\"calitp_itp_id\": 79, \"trip_key\": -8144853555082240975, \"trip_id\": \"t_1317658_b_28810_tn_0\", \"shape_id\": \"p_8847\", \"route_id\": \"236\", \"service_hours\": 0.9, \"trip_first_departure_ts\": 42840, \"trip_last_arrival_ts\": 46080, \"departure_hour\": 11, \"time_of_day\": \"Midday\", \"p25\": 0.9, \"p50\": 0.92, \"p75\": 0.9724999999999999, \"p50_trip\": 0, \"fastest_trip\": 0, \"car_duration_hours\": 0.67, \"competitive_route\": 1, \"bus_multiplier\": 1.34, \"bus_difference\": 13.8, \"num_trips\": 24, \"num_competitive\": 24, \"pct_trips_competitive\": 1.0, \"bus_difference_spread\": 18.0, \"route_group\": \"medium\", \"max_trip_hrs\": 1.2, \"max_trip_route_group\": 1.2, \"name\": \"City of Corona\", \"caltrans_district\": \"08 - San Bernardino\", \"drmt_organization_name\": null, \"cutoff2\": 30, \"cutoff\": 2}, {\"calitp_itp_id\": 79, \"trip_key\": 1328313970932315563, \"trip_id\": \"t_1317639_b_28810_tn_0\", \"shape_id\": \"p_8843\", \"route_id\": \"236\", \"service_hours\": 0.92, \"trip_first_departure_ts\": 42840, \"trip_last_arrival_ts\": 46140, \"departure_hour\": 11, \"time_of_day\": \"Midday\", \"p25\": 0.9, \"p50\": 0.92, \"p75\": 0.9724999999999999, \"p50_trip\": 1, \"fastest_trip\": 0, \"car_duration_hours\": 0.67, \"competitive_route\": 1, \"bus_multiplier\": 1.37, \"bus_difference\": 15.0, \"num_trips\": 24, \"num_competitive\": 24, \"pct_trips_competitive\": 1.0, \"bus_difference_spread\": 18.0, \"route_group\": \"medium\", \"max_trip_hrs\": 1.2, \"max_trip_route_group\": 1.2, \"name\": \"City of Corona\", \"caltrans_district\": \"08 - San Bernardino\", \"drmt_organization_name\": null, \"cutoff2\": 30, \"cutoff\": 2}, {\"calitp_itp_id\": 79, \"trip_key\": -8721640856135494887, \"trip_id\": \"t_1317630_b_28810_tn_0\", \"shape_id\": \"p_8843\", \"route_id\": \"236\", \"service_hours\": 0.92, \"trip_first_departure_ts\": 39180, \"trip_last_arrival_ts\": 42480, \"departure_hour\": 10, \"time_of_day\": \"Midday\", \"p25\": 0.9, \"p50\": 0.92, \"p75\": 0.9724999999999999, \"p50_trip\": 1, \"fastest_trip\": 0, \"car_duration_hours\": 0.67, \"competitive_route\": 1, \"bus_multiplier\": 1.37, \"bus_difference\": 15.0, \"num_trips\": 24, \"num_competitive\": 24, \"pct_trips_competitive\": 1.0, \"bus_difference_spread\": 18.0, \"route_group\": \"medium\", \"max_trip_hrs\": 1.2, \"max_trip_route_group\": 1.2, \"name\": \"City of Corona\", \"caltrans_district\": \"08 - San Bernardino\", \"drmt_organization_name\": null, \"cutoff2\": 30, \"cutoff\": 2}, {\"calitp_itp_id\": 79, \"trip_key\": -1188487523211958411, \"trip_id\": \"t_1317629_b_28810_tn_0\", \"shape_id\": \"p_8843\", \"route_id\": \"236\", \"service_hours\": 0.92, \"trip_first_departure_ts\": 46440, \"trip_last_arrival_ts\": 49740, \"departure_hour\": 12, \"time_of_day\": \"Midday\", \"p25\": 0.9, \"p50\": 0.92, \"p75\": 0.9724999999999999, \"p50_trip\": 1, \"fastest_trip\": 0, \"car_duration_hours\": 0.67, \"competitive_route\": 1, \"bus_multiplier\": 1.37, \"bus_difference\": 15.0, \"num_trips\": 24, \"num_competitive\": 24, \"pct_trips_competitive\": 1.0, \"bus_difference_spread\": 18.0, \"route_group\": \"medium\", \"max_trip_hrs\": 1.2, \"max_trip_route_group\": 1.2, \"name\": \"City of Corona\", \"caltrans_district\": \"08 - San Bernardino\", \"drmt_organization_name\": null, \"cutoff2\": 30, \"cutoff\": 2}, {\"calitp_itp_id\": 79, \"trip_key\": 1190277099845094845, \"trip_id\": \"t_1317615_b_28810_tn_0\", \"shape_id\": \"p_8843\", \"route_id\": \"236\", \"service_hours\": 0.92, \"trip_first_departure_ts\": 28320, \"trip_last_arrival_ts\": 31620, \"departure_hour\": 7, \"time_of_day\": \"AM Peak\", \"p25\": 0.9, \"p50\": 0.92, \"p75\": 0.9724999999999999, \"p50_trip\": 1, \"fastest_trip\": 0, \"car_duration_hours\": 0.67, \"competitive_route\": 1, \"bus_multiplier\": 1.37, \"bus_difference\": 15.0, \"num_trips\": 24, \"num_competitive\": 24, \"pct_trips_competitive\": 1.0, \"bus_difference_spread\": 18.0, \"route_group\": \"medium\", \"max_trip_hrs\": 1.2, \"max_trip_route_group\": 1.2, \"name\": \"City of Corona\", \"caltrans_district\": \"08 - San Bernardino\", \"drmt_organization_name\": null, \"cutoff2\": 30, \"cutoff\": 2}, {\"calitp_itp_id\": 79, \"trip_key\": 5588207875640491735, \"trip_id\": \"t_1317685_b_28810_tn_0\", \"shape_id\": \"p_8843\", \"route_id\": \"236\", \"service_hours\": 0.92, \"trip_first_departure_ts\": 57360, \"trip_last_arrival_ts\": 60660, \"departure_hour\": 15, \"time_of_day\": \"Midday\", \"p25\": 0.9, \"p50\": 0.92, \"p75\": 0.9724999999999999, \"p50_trip\": 1, \"fastest_trip\": 0, \"car_duration_hours\": 0.67, \"competitive_route\": 1, \"bus_multiplier\": 1.37, \"bus_difference\": 15.0, \"num_trips\": 24, \"num_competitive\": 24, \"pct_trips_competitive\": 1.0, \"bus_difference_spread\": 18.0, \"route_group\": \"medium\", \"max_trip_hrs\": 1.2, \"max_trip_route_group\": 1.2, \"name\": \"City of Corona\", \"caltrans_district\": \"08 - San Bernardino\", \"drmt_organization_name\": null, \"cutoff2\": 30, \"cutoff\": 2}, {\"calitp_itp_id\": 79, \"trip_key\": -5903330546191547075, \"trip_id\": \"t_1317647_b_28810_tn_0\", \"shape_id\": \"p_8843\", \"route_id\": \"236\", \"service_hours\": 0.92, \"trip_first_departure_ts\": 50100, \"trip_last_arrival_ts\": 53400, \"departure_hour\": 13, \"time_of_day\": \"Midday\", \"p25\": 0.9, \"p50\": 0.92, \"p75\": 0.9724999999999999, \"p50_trip\": 1, \"fastest_trip\": 0, \"car_duration_hours\": 0.67, \"competitive_route\": 1, \"bus_multiplier\": 1.37, \"bus_difference\": 15.0, \"num_trips\": 24, \"num_competitive\": 24, \"pct_trips_competitive\": 1.0, \"bus_difference_spread\": 18.0, \"route_group\": \"medium\", \"max_trip_hrs\": 1.2, \"max_trip_route_group\": 1.2, \"name\": \"City of Corona\", \"caltrans_district\": \"08 - San Bernardino\", \"drmt_organization_name\": null, \"cutoff2\": 30, \"cutoff\": 2}, {\"calitp_itp_id\": 79, \"trip_key\": 8441518285707782724, \"trip_id\": \"t_1317627_b_28810_tn_0\", \"shape_id\": \"p_8843\", \"route_id\": \"236\", \"service_hours\": 0.92, \"trip_first_departure_ts\": 35580, \"trip_last_arrival_ts\": 38880, \"departure_hour\": 9, \"time_of_day\": \"AM Peak\", \"p25\": 0.9, \"p50\": 0.92, \"p75\": 0.9724999999999999, \"p50_trip\": 1, \"fastest_trip\": 0, \"car_duration_hours\": 0.67, \"competitive_route\": 1, \"bus_multiplier\": 1.37, \"bus_difference\": 15.0, \"num_trips\": 24, \"num_competitive\": 24, \"pct_trips_competitive\": 1.0, \"bus_difference_spread\": 18.0, \"route_group\": \"medium\", \"max_trip_hrs\": 1.2, \"max_trip_route_group\": 1.2, \"name\": \"City of Corona\", \"caltrans_district\": \"08 - San Bernardino\", \"drmt_organization_name\": null, \"cutoff2\": 30, \"cutoff\": 2}, {\"calitp_itp_id\": 79, \"trip_key\": 5258705322780735194, \"trip_id\": \"t_1317646_b_28810_tn_0\", \"shape_id\": \"p_8843\", \"route_id\": \"236\", \"service_hours\": 0.92, \"trip_first_departure_ts\": 53700, \"trip_last_arrival_ts\": 57000, \"departure_hour\": 14, \"time_of_day\": \"Midday\", \"p25\": 0.9, \"p50\": 0.92, \"p75\": 0.9724999999999999, \"p50_trip\": 1, \"fastest_trip\": 0, \"car_duration_hours\": 0.67, \"competitive_route\": 1, \"bus_multiplier\": 1.37, \"bus_difference\": 15.0, \"num_trips\": 24, \"num_competitive\": 24, \"pct_trips_competitive\": 1.0, \"bus_difference_spread\": 18.0, \"route_group\": \"medium\", \"max_trip_hrs\": 1.2, \"max_trip_route_group\": 1.2, \"name\": \"City of Corona\", \"caltrans_district\": \"08 - San Bernardino\", \"drmt_organization_name\": null, \"cutoff2\": 30, \"cutoff\": 2}, {\"calitp_itp_id\": 79, \"trip_key\": 7469284978989994726, \"trip_id\": \"t_1317644_b_28810_tn_0\", \"shape_id\": \"p_8843\", \"route_id\": \"236\", \"service_hours\": 0.92, \"trip_first_departure_ts\": 31920, \"trip_last_arrival_ts\": 35220, \"departure_hour\": 8, \"time_of_day\": \"AM Peak\", \"p25\": 0.9, \"p50\": 0.92, \"p75\": 0.9724999999999999, \"p50_trip\": 1, \"fastest_trip\": 0, \"car_duration_hours\": 0.67, \"competitive_route\": 1, \"bus_multiplier\": 1.37, \"bus_difference\": 15.0, \"num_trips\": 24, \"num_competitive\": 24, \"pct_trips_competitive\": 1.0, \"bus_difference_spread\": 18.0, \"route_group\": \"medium\", \"max_trip_hrs\": 1.2, \"max_trip_route_group\": 1.2, \"name\": \"City of Corona\", \"caltrans_district\": \"08 - San Bernardino\", \"drmt_organization_name\": null, \"cutoff2\": 30, \"cutoff\": 2}, {\"calitp_itp_id\": 79, \"trip_key\": -6099395427375903060, \"trip_id\": \"t_1317618_b_28810_tn_0\", \"shape_id\": \"p_8842\", \"route_id\": \"236\", \"service_hours\": 0.97, \"trip_first_departure_ts\": 24360, \"trip_last_arrival_ts\": 27840, \"departure_hour\": 6, \"time_of_day\": \"Owl Service\", \"p25\": 0.9, \"p50\": 0.92, \"p75\": 0.9724999999999999, \"p50_trip\": 0, \"fastest_trip\": 0, \"car_duration_hours\": 0.67, \"competitive_route\": 1, \"bus_multiplier\": 1.45, \"bus_difference\": 18.0, \"num_trips\": 24, \"num_competitive\": 24, \"pct_trips_competitive\": 1.0, \"bus_difference_spread\": 18.0, \"route_group\": \"medium\", \"max_trip_hrs\": 1.2, \"max_trip_route_group\": 1.2, \"name\": \"City of Corona\", \"caltrans_district\": \"08 - San Bernardino\", \"drmt_organization_name\": null, \"cutoff2\": 30, \"cutoff\": 2}, {\"calitp_itp_id\": 79, \"trip_key\": -9017398710266921292, \"trip_id\": \"t_1317684_b_28810_tn_0\", \"shape_id\": \"p_8844\", \"route_id\": \"236\", \"service_hours\": 0.98, \"trip_first_departure_ts\": 28200, \"trip_last_arrival_ts\": 31740, \"departure_hour\": 7, \"time_of_day\": \"AM Peak\", \"p25\": 0.9, \"p50\": 0.92, \"p75\": 0.9724999999999999, \"p50_trip\": 0, \"fastest_trip\": 0, \"car_duration_hours\": 0.67, \"competitive_route\": 1, \"bus_multiplier\": 1.46, \"bus_difference\": 18.6, \"num_trips\": 24, \"num_competitive\": 24, \"pct_trips_competitive\": 1.0, \"bus_difference_spread\": 18.0, \"route_group\": \"medium\", \"max_trip_hrs\": 1.2, \"max_trip_route_group\": 1.2, \"name\": \"City of Corona\", \"caltrans_district\": \"08 - San Bernardino\", \"drmt_organization_name\": null, \"cutoff2\": 30, \"cutoff\": 2}, {\"calitp_itp_id\": 79, \"trip_key\": 5061272203326224864, \"trip_id\": \"t_1317607_b_28810_tn_0\", \"shape_id\": \"p_8843\", \"route_id\": \"236\", \"service_hours\": 1.02, \"trip_first_departure_ts\": 61260, \"trip_last_arrival_ts\": 64920, \"departure_hour\": 17, \"time_of_day\": \"PM Peak\", \"p25\": 0.9, \"p50\": 0.92, \"p75\": 0.9724999999999999, \"p50_trip\": 0, \"fastest_trip\": 0, \"car_duration_hours\": 0.67, \"competitive_route\": 1, \"bus_multiplier\": 1.52, \"bus_difference\": 21.0, \"num_trips\": 24, \"num_competitive\": 24, \"pct_trips_competitive\": 1.0, \"bus_difference_spread\": 18.0, \"route_group\": \"medium\", \"max_trip_hrs\": 1.2, \"max_trip_route_group\": 1.2, \"name\": \"City of Corona\", \"caltrans_district\": \"08 - San Bernardino\", \"drmt_organization_name\": null, \"cutoff2\": 30, \"cutoff\": 2}, {\"calitp_itp_id\": 79, \"trip_key\": 5246617384888475562, \"trip_id\": \"t_1317608_b_28810_tn_0\", \"shape_id\": \"p_8843\", \"route_id\": \"236\", \"service_hours\": 1.02, \"trip_first_departure_ts\": 65280, \"trip_last_arrival_ts\": 68940, \"departure_hour\": 18, \"time_of_day\": \"PM Peak\", \"p25\": 0.9, \"p50\": 0.92, \"p75\": 0.9724999999999999, \"p50_trip\": 0, \"fastest_trip\": 0, \"car_duration_hours\": 0.67, \"competitive_route\": 1, \"bus_multiplier\": 1.52, \"bus_difference\": 21.0, \"num_trips\": 24, \"num_competitive\": 24, \"pct_trips_competitive\": 1.0, \"bus_difference_spread\": 18.0, \"route_group\": \"medium\", \"max_trip_hrs\": 1.2, \"max_trip_route_group\": 1.2, \"name\": \"City of Corona\", \"caltrans_district\": \"08 - San Bernardino\", \"drmt_organization_name\": null, \"cutoff2\": 30, \"cutoff\": 2}, {\"calitp_itp_id\": 79, \"trip_key\": -405059068671694954, \"trip_id\": \"t_1317609_b_28810_tn_0\", \"shape_id\": \"p_8844\", \"route_id\": \"236\", \"service_hours\": 1.08, \"trip_first_departure_ts\": 63240, \"trip_last_arrival_ts\": 67140, \"departure_hour\": 17, \"time_of_day\": \"PM Peak\", \"p25\": 0.9, \"p50\": 0.92, \"p75\": 0.9724999999999999, \"p50_trip\": 0, \"fastest_trip\": 0, \"car_duration_hours\": 0.67, \"competitive_route\": 1, \"bus_multiplier\": 1.61, \"bus_difference\": 24.6, \"num_trips\": 24, \"num_competitive\": 24, \"pct_trips_competitive\": 1.0, \"bus_difference_spread\": 18.0, \"route_group\": \"medium\", \"max_trip_hrs\": 1.2, \"max_trip_route_group\": 1.2, \"name\": \"City of Corona\", \"caltrans_district\": \"08 - San Bernardino\", \"drmt_organization_name\": null, \"cutoff2\": 30, \"cutoff\": 2}, {\"calitp_itp_id\": 79, \"trip_key\": 217920149004367178, \"trip_id\": \"t_1317610_b_28810_tn_0\", \"shape_id\": \"p_8844\", \"route_id\": \"236\", \"service_hours\": 1.12, \"trip_first_departure_ts\": 60900, \"trip_last_arrival_ts\": 64920, \"departure_hour\": 16, \"time_of_day\": \"Midday\", \"p25\": 0.9, \"p50\": 0.92, \"p75\": 0.9724999999999999, \"p50_trip\": 0, \"fastest_trip\": 0, \"car_duration_hours\": 0.67, \"competitive_route\": 1, \"bus_multiplier\": 1.67, \"bus_difference\": 27.0, \"num_trips\": 24, \"num_competitive\": 24, \"pct_trips_competitive\": 1.0, \"bus_difference_spread\": 18.0, \"route_group\": \"medium\", \"max_trip_hrs\": 1.2, \"max_trip_route_group\": 1.2, \"name\": \"City of Corona\", \"caltrans_district\": \"08 - San Bernardino\", \"drmt_organization_name\": null, \"cutoff2\": 30, \"cutoff\": 2}, {\"calitp_itp_id\": 79, \"trip_key\": 7075805716613766105, \"trip_id\": \"t_1317687_b_28810_tn_0\", \"shape_id\": \"p_8844\", \"route_id\": \"236\", \"service_hours\": 1.2, \"trip_first_departure_ts\": 23400, \"trip_last_arrival_ts\": 27720, \"departure_hour\": 6, \"time_of_day\": \"Owl Service\", \"p25\": 0.9, \"p50\": 0.92, \"p75\": 0.9724999999999999, \"p50_trip\": 0, \"fastest_trip\": 0, \"car_duration_hours\": 0.67, \"competitive_route\": 1, \"bus_multiplier\": 1.79, \"bus_difference\": 31.8, \"num_trips\": 24, \"num_competitive\": 24, \"pct_trips_competitive\": 1.0, \"bus_difference_spread\": 18.0, \"route_group\": \"medium\", \"max_trip_hrs\": 1.2, \"max_trip_route_group\": 1.2, \"name\": \"City of Corona\", \"caltrans_district\": \"08 - San Bernardino\", \"drmt_organization_name\": null, \"cutoff2\": 30, \"cutoff\": 2}]}}, {\"mode\": \"vega-lite\"});\n",
       "</script>"
      ],
      "text/plain": [
       "alt.FacetChart(...)"
      ]
     },
     "metadata": {},
     "output_type": "display_data"
    },
    {
     "data": {
      "text/html": [
       "\n",
       "<div id=\"altair-viz-c7cf884eae744368ac16ada2e9caacfe\"></div>\n",
       "<script type=\"text/javascript\">\n",
       "  var VEGA_DEBUG = (typeof VEGA_DEBUG == \"undefined\") ? {} : VEGA_DEBUG;\n",
       "  (function(spec, embedOpt){\n",
       "    let outputDiv = document.currentScript.previousElementSibling;\n",
       "    if (outputDiv.id !== \"altair-viz-c7cf884eae744368ac16ada2e9caacfe\") {\n",
       "      outputDiv = document.getElementById(\"altair-viz-c7cf884eae744368ac16ada2e9caacfe\");\n",
       "    }\n",
       "    const paths = {\n",
       "      \"vega\": \"https://cdn.jsdelivr.net/npm//vega@5?noext\",\n",
       "      \"vega-lib\": \"https://cdn.jsdelivr.net/npm//vega-lib?noext\",\n",
       "      \"vega-lite\": \"https://cdn.jsdelivr.net/npm//vega-lite@4.17.0?noext\",\n",
       "      \"vega-embed\": \"https://cdn.jsdelivr.net/npm//vega-embed@6?noext\",\n",
       "    };\n",
       "\n",
       "    function maybeLoadScript(lib, version) {\n",
       "      var key = `${lib.replace(\"-\", \"\")}_version`;\n",
       "      return (VEGA_DEBUG[key] == version) ?\n",
       "        Promise.resolve(paths[lib]) :\n",
       "        new Promise(function(resolve, reject) {\n",
       "          var s = document.createElement('script');\n",
       "          document.getElementsByTagName(\"head\")[0].appendChild(s);\n",
       "          s.async = true;\n",
       "          s.onload = () => {\n",
       "            VEGA_DEBUG[key] = version;\n",
       "            return resolve(paths[lib]);\n",
       "          };\n",
       "          s.onerror = () => reject(`Error loading script: ${paths[lib]}`);\n",
       "          s.src = paths[lib];\n",
       "        });\n",
       "    }\n",
       "\n",
       "    function showError(err) {\n",
       "      outputDiv.innerHTML = `<div class=\"error\" style=\"color:red;\">${err}</div>`;\n",
       "      throw err;\n",
       "    }\n",
       "\n",
       "    function displayChart(vegaEmbed) {\n",
       "      vegaEmbed(outputDiv, spec, embedOpt)\n",
       "        .catch(err => showError(`Javascript Error: ${err.message}<br>This usually means there's a typo in your chart specification. See the javascript console for the full traceback.`));\n",
       "    }\n",
       "\n",
       "    if(typeof define === \"function\" && define.amd) {\n",
       "      requirejs.config({paths});\n",
       "      require([\"vega-embed\"], displayChart, err => showError(`Error loading script: ${err.message}`));\n",
       "    } else {\n",
       "      maybeLoadScript(\"vega\", \"5\")\n",
       "        .then(() => maybeLoadScript(\"vega-lite\", \"4.17.0\"))\n",
       "        .then(() => maybeLoadScript(\"vega-embed\", \"6\"))\n",
       "        .catch(showError)\n",
       "        .then(() => displayChart(vegaEmbed));\n",
       "    }\n",
       "  })({\"config\": {\"view\": {\"continuousWidth\": 400, \"continuousHeight\": 300, \"stroke\": null}, \"facet\": {\"spacing\": 0}}, \"data\": {\"name\": \"data-ac26b983150b1766a37ce46227c4cf32\"}, \"facet\": {\"column\": {\"field\": \"route_id\", \"sort\": [\"236\", \"235\"], \"title\": \"Route ID\", \"type\": \"nominal\"}}, \"spec\": {\"layer\": [{\"mark\": \"rule\", \"encoding\": {\"color\": {\"value\": \"black\"}, \"y\": {\"field\": \"cutoff\", \"type\": \"quantitative\"}}, \"selection\": {\"selector002\": {\"type\": \"interval\", \"bind\": \"scales\", \"encodings\": [\"x\", \"y\"]}}}, {\"mark\": {\"type\": \"rule\", \"strokeDash\": [3, 3]}, \"encoding\": {\"color\": {\"value\": \"#323434\"}, \"y\": {\"field\": \"cutoff2\", \"type\": \"quantitative\"}}}, {\"mark\": {\"type\": \"point\", \"opacity\": 0.65, \"size\": 12, \"strokeWidth\": 1.1}, \"encoding\": {\"color\": {\"field\": \"time_of_day\", \"scale\": {\"range\": [\"#136C97\", \"#E16B26\", \"#F6BF16\", \"#00896B\", \"#7790A3\", \"#5B559C\"]}, \"sort\": [\"AM Peak\", \"Midday\", \"PM Peak\", \"Owl Service\"], \"title\": \"Time of Day\", \"type\": \"nominal\"}, \"tooltip\": [{\"field\": \"route_id\", \"type\": \"nominal\"}, {\"field\": \"trip_id\", \"type\": \"nominal\"}, {\"field\": \"service_hours\", \"type\": \"quantitative\"}, {\"field\": \"car_duration_hours\", \"type\": \"quantitative\"}, {\"field\": \"bus_multiplier\", \"type\": \"quantitative\"}, {\"field\": \"bus_difference\", \"type\": \"quantitative\"}, {\"field\": \"num_trips\", \"type\": \"quantitative\"}, {\"field\": \"num_competitive\", \"type\": \"quantitative\"}, {\"field\": \"pct_trips_competitive\", \"type\": \"quantitative\"}, {\"field\": \"p25\", \"type\": \"quantitative\"}, {\"field\": \"p50\", \"type\": \"quantitative\"}, {\"field\": \"p75\", \"type\": \"quantitative\"}], \"x\": {\"axis\": {\"grid\": false, \"labels\": false, \"ticks\": true, \"values\": [0]}, \"field\": \"jitter\", \"scale\": {}, \"title\": null, \"type\": \"quantitative\"}, \"y\": {\"field\": \"bus_difference\", \"scale\": {\"domain\": [-5, 39.6]}, \"title\": \"Difference in Bus to Car Travel Time (min)\", \"type\": \"quantitative\"}}, \"transform\": [{\"calculate\": \"sqrt(-2*log(random()))*cos(2*PI*random())\", \"as\": \"jitter\"}], \"width\": 50}, {\"layer\": [{\"mark\": {\"type\": \"point\", \"opacity\": 0.6, \"size\": 20, \"strokeWidth\": 1.3}, \"encoding\": {\"color\": {\"value\": \"#323434\"}, \"y\": {\"field\": \"bus_difference\", \"type\": \"quantitative\"}}, \"transform\": [{\"filter\": \"(datum.p50_trip === 1)\"}]}, {\"mark\": {\"type\": \"text\", \"align\": \"center\", \"baseline\": \"middle\"}, \"encoding\": {\"color\": {\"value\": \"black\"}, \"text\": {\"field\": \"pct_trips_competitive\", \"format\": \".0%\", \"type\": \"quantitative\"}, \"tooltip\": [{\"field\": \"route_id\", \"type\": \"nominal\"}, {\"field\": \"trip_id\", \"type\": \"nominal\"}, {\"field\": \"service_hours\", \"type\": \"quantitative\"}, {\"field\": \"car_duration_hours\", \"type\": \"quantitative\"}, {\"field\": \"bus_multiplier\", \"type\": \"quantitative\"}, {\"field\": \"bus_difference\", \"type\": \"quantitative\"}, {\"field\": \"num_trips\", \"type\": \"quantitative\"}, {\"field\": \"num_competitive\", \"type\": \"quantitative\"}, {\"field\": \"pct_trips_competitive\", \"type\": \"quantitative\"}, {\"field\": \"p25\", \"type\": \"quantitative\"}, {\"field\": \"p50\", \"type\": \"quantitative\"}, {\"field\": \"p75\", \"type\": \"quantitative\"}], \"x\": {\"value\": 30}, \"y\": {\"value\": 15}}, \"transform\": [{\"calculate\": \"sqrt(-2*log(random()))*cos(2*PI*random())\", \"as\": \"jitter\"}, {\"filter\": \"(datum.fastest_trip === 1)\"}]}]}]}, \"resolve\": {\"scale\": {\"y\": \"shared\"}}, \"title\": \"Difference in Bus to Car Travel Time (min)\", \"$schema\": \"https://vega.github.io/schema/vega-lite/v4.17.0.json\", \"datasets\": {\"data-ac26b983150b1766a37ce46227c4cf32\": [{\"calitp_itp_id\": 79, \"trip_key\": 3908391352726038123, \"trip_id\": \"t_1317623_b_28810_tn_0\", \"shape_id\": \"p_8851\", \"route_id\": \"235\", \"service_hours\": 0.72, \"trip_first_departure_ts\": 29220, \"trip_last_arrival_ts\": 31800, \"departure_hour\": 8, \"time_of_day\": \"AM Peak\", \"p25\": 0.72, \"p50\": 0.87, \"p75\": 0.87, \"p50_trip\": 0, \"fastest_trip\": 0, \"car_duration_hours\": 0.54, \"competitive_route\": 1, \"bus_multiplier\": 1.33, \"bus_difference\": 10.8, \"num_trips\": 27, \"num_competitive\": 26, \"pct_trips_competitive\": 0.963, \"bus_difference_spread\": 28.8, \"route_group\": \"medium\", \"max_trip_hrs\": 1.2, \"max_trip_route_group\": 1.2, \"name\": \"City of Corona\", \"caltrans_district\": \"08 - San Bernardino\", \"drmt_organization_name\": null, \"cutoff2\": 30, \"cutoff\": 0}, {\"calitp_itp_id\": 79, \"trip_key\": -9115410767367665152, \"trip_id\": \"t_1317655_b_28810_tn_0\", \"shape_id\": \"p_8851\", \"route_id\": \"235\", \"service_hours\": 0.72, \"trip_first_departure_ts\": 39600, \"trip_last_arrival_ts\": 42180, \"departure_hour\": 11, \"time_of_day\": \"Midday\", \"p25\": 0.72, \"p50\": 0.87, \"p75\": 0.87, \"p50_trip\": 0, \"fastest_trip\": 0, \"car_duration_hours\": 0.54, \"competitive_route\": 1, \"bus_multiplier\": 1.33, \"bus_difference\": 10.8, \"num_trips\": 27, \"num_competitive\": 26, \"pct_trips_competitive\": 0.963, \"bus_difference_spread\": 28.8, \"route_group\": \"medium\", \"max_trip_hrs\": 1.2, \"max_trip_route_group\": 1.2, \"name\": \"City of Corona\", \"caltrans_district\": \"08 - San Bernardino\", \"drmt_organization_name\": null, \"cutoff2\": 30, \"cutoff\": 0}, {\"calitp_itp_id\": 79, \"trip_key\": 5462397767210838825, \"trip_id\": \"t_1317663_b_28810_tn_0\", \"shape_id\": \"p_8851\", \"route_id\": \"235\", \"service_hours\": 0.72, \"trip_first_departure_ts\": 49200, \"trip_last_arrival_ts\": 51780, \"departure_hour\": 13, \"time_of_day\": \"Midday\", \"p25\": 0.72, \"p50\": 0.87, \"p75\": 0.87, \"p50_trip\": 0, \"fastest_trip\": 0, \"car_duration_hours\": 0.54, \"competitive_route\": 1, \"bus_multiplier\": 1.33, \"bus_difference\": 10.8, \"num_trips\": 27, \"num_competitive\": 26, \"pct_trips_competitive\": 0.963, \"bus_difference_spread\": 28.8, \"route_group\": \"medium\", \"max_trip_hrs\": 1.2, \"max_trip_route_group\": 1.2, \"name\": \"City of Corona\", \"caltrans_district\": \"08 - San Bernardino\", \"drmt_organization_name\": null, \"cutoff2\": 30, \"cutoff\": 0}, {\"calitp_itp_id\": 79, \"trip_key\": 8651167925146092756, \"trip_id\": \"t_1317633_b_28810_tn_0\", \"shape_id\": \"p_8851\", \"route_id\": \"235\", \"service_hours\": 0.72, \"trip_first_departure_ts\": 58860, \"trip_last_arrival_ts\": 61440, \"departure_hour\": 16, \"time_of_day\": \"Midday\", \"p25\": 0.72, \"p50\": 0.87, \"p75\": 0.87, \"p50_trip\": 0, \"fastest_trip\": 1, \"car_duration_hours\": 0.54, \"competitive_route\": 1, \"bus_multiplier\": 1.33, \"bus_difference\": 10.8, \"num_trips\": 27, \"num_competitive\": 26, \"pct_trips_competitive\": 0.963, \"bus_difference_spread\": 28.8, \"route_group\": \"medium\", \"max_trip_hrs\": 1.2, \"max_trip_route_group\": 1.2, \"name\": \"City of Corona\", \"caltrans_district\": \"08 - San Bernardino\", \"drmt_organization_name\": null, \"cutoff2\": 30, \"cutoff\": 0}, {\"calitp_itp_id\": 79, \"trip_key\": -893435157580333469, \"trip_id\": \"t_1317626_b_28810_tn_0\", \"shape_id\": \"p_8851\", \"route_id\": \"235\", \"service_hours\": 0.72, \"trip_first_departure_ts\": 36360, \"trip_last_arrival_ts\": 38940, \"departure_hour\": 10, \"time_of_day\": \"Midday\", \"p25\": 0.72, \"p50\": 0.87, \"p75\": 0.87, \"p50_trip\": 0, \"fastest_trip\": 0, \"car_duration_hours\": 0.54, \"competitive_route\": 1, \"bus_multiplier\": 1.33, \"bus_difference\": 10.8, \"num_trips\": 27, \"num_competitive\": 26, \"pct_trips_competitive\": 0.963, \"bus_difference_spread\": 28.8, \"route_group\": \"medium\", \"max_trip_hrs\": 1.2, \"max_trip_route_group\": 1.2, \"name\": \"City of Corona\", \"caltrans_district\": \"08 - San Bernardino\", \"drmt_organization_name\": null, \"cutoff2\": 30, \"cutoff\": 0}, {\"calitp_itp_id\": 79, \"trip_key\": 8536251602501322371, \"trip_id\": \"t_1317638_b_28810_tn_0\", \"shape_id\": \"p_8851\", \"route_id\": \"235\", \"service_hours\": 0.72, \"trip_first_departure_ts\": 55620, \"trip_last_arrival_ts\": 58200, \"departure_hour\": 15, \"time_of_day\": \"Midday\", \"p25\": 0.72, \"p50\": 0.87, \"p75\": 0.87, \"p50_trip\": 0, \"fastest_trip\": 0, \"car_duration_hours\": 0.54, \"competitive_route\": 1, \"bus_multiplier\": 1.33, \"bus_difference\": 10.8, \"num_trips\": 27, \"num_competitive\": 26, \"pct_trips_competitive\": 0.963, \"bus_difference_spread\": 28.8, \"route_group\": \"medium\", \"max_trip_hrs\": 1.2, \"max_trip_route_group\": 1.2, \"name\": \"City of Corona\", \"caltrans_district\": \"08 - San Bernardino\", \"drmt_organization_name\": null, \"cutoff2\": 30, \"cutoff\": 0}, {\"calitp_itp_id\": 79, \"trip_key\": -603563581606590687, \"trip_id\": \"t_1317660_b_28810_tn_0\", \"shape_id\": \"p_8851\", \"route_id\": \"235\", \"service_hours\": 0.72, \"trip_first_departure_ts\": 32820, \"trip_last_arrival_ts\": 35400, \"departure_hour\": 9, \"time_of_day\": \"AM Peak\", \"p25\": 0.72, \"p50\": 0.87, \"p75\": 0.87, \"p50_trip\": 0, \"fastest_trip\": 0, \"car_duration_hours\": 0.54, \"competitive_route\": 1, \"bus_multiplier\": 1.33, \"bus_difference\": 10.8, \"num_trips\": 27, \"num_competitive\": 26, \"pct_trips_competitive\": 0.963, \"bus_difference_spread\": 28.8, \"route_group\": \"medium\", \"max_trip_hrs\": 1.2, \"max_trip_route_group\": 1.2, \"name\": \"City of Corona\", \"caltrans_district\": \"08 - San Bernardino\", \"drmt_organization_name\": null, \"cutoff2\": 30, \"cutoff\": 0}, {\"calitp_itp_id\": 79, \"trip_key\": -6904178753925746002, \"trip_id\": \"t_1317648_b_28810_tn_0\", \"shape_id\": \"p_8851\", \"route_id\": \"235\", \"service_hours\": 0.72, \"trip_first_departure_ts\": 46020, \"trip_last_arrival_ts\": 48600, \"departure_hour\": 12, \"time_of_day\": \"Midday\", \"p25\": 0.72, \"p50\": 0.87, \"p75\": 0.87, \"p50_trip\": 0, \"fastest_trip\": 0, \"car_duration_hours\": 0.54, \"competitive_route\": 1, \"bus_multiplier\": 1.33, \"bus_difference\": 10.8, \"num_trips\": 27, \"num_competitive\": 26, \"pct_trips_competitive\": 0.963, \"bus_difference_spread\": 28.8, \"route_group\": \"medium\", \"max_trip_hrs\": 1.2, \"max_trip_route_group\": 1.2, \"name\": \"City of Corona\", \"caltrans_district\": \"08 - San Bernardino\", \"drmt_organization_name\": null, \"cutoff2\": 30, \"cutoff\": 0}, {\"calitp_itp_id\": 79, \"trip_key\": 5514212057531365888, \"trip_id\": \"t_1317664_b_28810_tn_0\", \"shape_id\": \"p_8851\", \"route_id\": \"235\", \"service_hours\": 0.72, \"trip_first_departure_ts\": 42780, \"trip_last_arrival_ts\": 45360, \"departure_hour\": 11, \"time_of_day\": \"Midday\", \"p25\": 0.72, \"p50\": 0.87, \"p75\": 0.87, \"p50_trip\": 0, \"fastest_trip\": 0, \"car_duration_hours\": 0.54, \"competitive_route\": 1, \"bus_multiplier\": 1.33, \"bus_difference\": 10.8, \"num_trips\": 27, \"num_competitive\": 26, \"pct_trips_competitive\": 0.963, \"bus_difference_spread\": 28.8, \"route_group\": \"medium\", \"max_trip_hrs\": 1.2, \"max_trip_route_group\": 1.2, \"name\": \"City of Corona\", \"caltrans_district\": \"08 - San Bernardino\", \"drmt_organization_name\": null, \"cutoff2\": 30, \"cutoff\": 0}, {\"calitp_itp_id\": 79, \"trip_key\": -2030995443142040501, \"trip_id\": \"t_1317640_b_28810_tn_0\", \"shape_id\": \"p_8851\", \"route_id\": \"235\", \"service_hours\": 0.72, \"trip_first_departure_ts\": 52440, \"trip_last_arrival_ts\": 55020, \"departure_hour\": 14, \"time_of_day\": \"Midday\", \"p25\": 0.72, \"p50\": 0.87, \"p75\": 0.87, \"p50_trip\": 0, \"fastest_trip\": 0, \"car_duration_hours\": 0.54, \"competitive_route\": 1, \"bus_multiplier\": 1.33, \"bus_difference\": 10.8, \"num_trips\": 27, \"num_competitive\": 26, \"pct_trips_competitive\": 0.963, \"bus_difference_spread\": 28.8, \"route_group\": \"medium\", \"max_trip_hrs\": 1.2, \"max_trip_route_group\": 1.2, \"name\": \"City of Corona\", \"caltrans_district\": \"08 - San Bernardino\", \"drmt_organization_name\": null, \"cutoff2\": 30, \"cutoff\": 0}, {\"calitp_itp_id\": 79, \"trip_key\": 8014259400164524047, \"trip_id\": \"t_1317611_b_28810_tn_0\", \"shape_id\": \"p_8850\", \"route_id\": \"235\", \"service_hours\": 0.83, \"trip_first_departure_ts\": 61680, \"trip_last_arrival_ts\": 64680, \"departure_hour\": 17, \"time_of_day\": \"PM Peak\", \"p25\": 0.72, \"p50\": 0.87, \"p75\": 0.87, \"p50_trip\": 0, \"fastest_trip\": 0, \"car_duration_hours\": 0.54, \"competitive_route\": 1, \"bus_multiplier\": 1.54, \"bus_difference\": 17.4, \"num_trips\": 27, \"num_competitive\": 26, \"pct_trips_competitive\": 0.963, \"bus_difference_spread\": 28.8, \"route_group\": \"medium\", \"max_trip_hrs\": 1.2, \"max_trip_route_group\": 1.2, \"name\": \"City of Corona\", \"caltrans_district\": \"08 - San Bernardino\", \"drmt_organization_name\": null, \"cutoff2\": 30, \"cutoff\": 0}, {\"calitp_itp_id\": 79, \"trip_key\": 159904556375511301, \"trip_id\": \"t_1317612_b_28810_tn_0\", \"shape_id\": \"p_8850\", \"route_id\": \"235\", \"service_hours\": 0.83, \"trip_first_departure_ts\": 26040, \"trip_last_arrival_ts\": 29040, \"departure_hour\": 7, \"time_of_day\": \"AM Peak\", \"p25\": 0.72, \"p50\": 0.87, \"p75\": 0.87, \"p50_trip\": 0, \"fastest_trip\": 0, \"car_duration_hours\": 0.54, \"competitive_route\": 1, \"bus_multiplier\": 1.54, \"bus_difference\": 17.4, \"num_trips\": 27, \"num_competitive\": 26, \"pct_trips_competitive\": 0.963, \"bus_difference_spread\": 28.8, \"route_group\": \"medium\", \"max_trip_hrs\": 1.2, \"max_trip_route_group\": 1.2, \"name\": \"City of Corona\", \"caltrans_district\": \"08 - San Bernardino\", \"drmt_organization_name\": null, \"cutoff2\": 30, \"cutoff\": 0}, {\"calitp_itp_id\": 79, \"trip_key\": 1085139142987600607, \"trip_id\": \"t_1317650_b_28810_tn_0\", \"shape_id\": \"p_8849\", \"route_id\": \"235\", \"service_hours\": 0.87, \"trip_first_departure_ts\": 42540, \"trip_last_arrival_ts\": 45660, \"departure_hour\": 11, \"time_of_day\": \"Midday\", \"p25\": 0.72, \"p50\": 0.87, \"p75\": 0.87, \"p50_trip\": 1, \"fastest_trip\": 0, \"car_duration_hours\": 0.54, \"competitive_route\": 1, \"bus_multiplier\": 1.61, \"bus_difference\": 19.8, \"num_trips\": 27, \"num_competitive\": 26, \"pct_trips_competitive\": 0.963, \"bus_difference_spread\": 28.8, \"route_group\": \"medium\", \"max_trip_hrs\": 1.2, \"max_trip_route_group\": 1.2, \"name\": \"City of Corona\", \"caltrans_district\": \"08 - San Bernardino\", \"drmt_organization_name\": null, \"cutoff2\": 30, \"cutoff\": 0}, {\"calitp_itp_id\": 79, \"trip_key\": 2144113096922638928, \"trip_id\": \"t_1317636_b_28810_tn_0\", \"shape_id\": \"p_8849\", \"route_id\": \"235\", \"service_hours\": 0.87, \"trip_first_departure_ts\": 48960, \"trip_last_arrival_ts\": 52080, \"departure_hour\": 13, \"time_of_day\": \"Midday\", \"p25\": 0.72, \"p50\": 0.87, \"p75\": 0.87, \"p50_trip\": 1, \"fastest_trip\": 0, \"car_duration_hours\": 0.54, \"competitive_route\": 1, \"bus_multiplier\": 1.61, \"bus_difference\": 19.8, \"num_trips\": 27, \"num_competitive\": 26, \"pct_trips_competitive\": 0.963, \"bus_difference_spread\": 28.8, \"route_group\": \"medium\", \"max_trip_hrs\": 1.2, \"max_trip_route_group\": 1.2, \"name\": \"City of Corona\", \"caltrans_district\": \"08 - San Bernardino\", \"drmt_organization_name\": null, \"cutoff2\": 30, \"cutoff\": 0}, {\"calitp_itp_id\": 79, \"trip_key\": -332246472615110465, \"trip_id\": \"t_1317634_b_28810_tn_0\", \"shape_id\": \"p_8849\", \"route_id\": \"235\", \"service_hours\": 0.87, \"trip_first_departure_ts\": 39300, \"trip_last_arrival_ts\": 42420, \"departure_hour\": 10, \"time_of_day\": \"Midday\", \"p25\": 0.72, \"p50\": 0.87, \"p75\": 0.87, \"p50_trip\": 1, \"fastest_trip\": 0, \"car_duration_hours\": 0.54, \"competitive_route\": 1, \"bus_multiplier\": 1.61, \"bus_difference\": 19.8, \"num_trips\": 27, \"num_competitive\": 26, \"pct_trips_competitive\": 0.963, \"bus_difference_spread\": 28.8, \"route_group\": \"medium\", \"max_trip_hrs\": 1.2, \"max_trip_route_group\": 1.2, \"name\": \"City of Corona\", \"caltrans_district\": \"08 - San Bernardino\", \"drmt_organization_name\": null, \"cutoff2\": 30, \"cutoff\": 0}, {\"calitp_itp_id\": 79, \"trip_key\": 6955130874846673436, \"trip_id\": \"t_1317659_b_28810_tn_0\", \"shape_id\": \"p_8849\", \"route_id\": \"235\", \"service_hours\": 0.87, \"trip_first_departure_ts\": 36120, \"trip_last_arrival_ts\": 39240, \"departure_hour\": 10, \"time_of_day\": \"Midday\", \"p25\": 0.72, \"p50\": 0.87, \"p75\": 0.87, \"p50_trip\": 1, \"fastest_trip\": 0, \"car_duration_hours\": 0.54, \"competitive_route\": 1, \"bus_multiplier\": 1.61, \"bus_difference\": 19.8, \"num_trips\": 27, \"num_competitive\": 26, \"pct_trips_competitive\": 0.963, \"bus_difference_spread\": 28.8, \"route_group\": \"medium\", \"max_trip_hrs\": 1.2, \"max_trip_route_group\": 1.2, \"name\": \"City of Corona\", \"caltrans_district\": \"08 - San Bernardino\", \"drmt_organization_name\": null, \"cutoff2\": 30, \"cutoff\": 0}, {\"calitp_itp_id\": 79, \"trip_key\": 7302399521796279940, \"trip_id\": \"t_1317635_b_28810_tn_0\", \"shape_id\": \"p_8849\", \"route_id\": \"235\", \"service_hours\": 0.87, \"trip_first_departure_ts\": 58440, \"trip_last_arrival_ts\": 61560, \"departure_hour\": 16, \"time_of_day\": \"Midday\", \"p25\": 0.72, \"p50\": 0.87, \"p75\": 0.87, \"p50_trip\": 1, \"fastest_trip\": 0, \"car_duration_hours\": 0.54, \"competitive_route\": 1, \"bus_multiplier\": 1.61, \"bus_difference\": 19.8, \"num_trips\": 27, \"num_competitive\": 26, \"pct_trips_competitive\": 0.963, \"bus_difference_spread\": 28.8, \"route_group\": \"medium\", \"max_trip_hrs\": 1.2, \"max_trip_route_group\": 1.2, \"name\": \"City of Corona\", \"caltrans_district\": \"08 - San Bernardino\", \"drmt_organization_name\": null, \"cutoff2\": 30, \"cutoff\": 0}, {\"calitp_itp_id\": 79, \"trip_key\": 1213444137193088520, \"trip_id\": \"t_1317662_b_28810_tn_0\", \"shape_id\": \"p_8849\", \"route_id\": \"235\", \"service_hours\": 0.87, \"trip_first_departure_ts\": 52140, \"trip_last_arrival_ts\": 55260, \"departure_hour\": 14, \"time_of_day\": \"Midday\", \"p25\": 0.72, \"p50\": 0.87, \"p75\": 0.87, \"p50_trip\": 1, \"fastest_trip\": 0, \"car_duration_hours\": 0.54, \"competitive_route\": 1, \"bus_multiplier\": 1.61, \"bus_difference\": 19.8, \"num_trips\": 27, \"num_competitive\": 26, \"pct_trips_competitive\": 0.963, \"bus_difference_spread\": 28.8, \"route_group\": \"medium\", \"max_trip_hrs\": 1.2, \"max_trip_route_group\": 1.2, \"name\": \"City of Corona\", \"caltrans_district\": \"08 - San Bernardino\", \"drmt_organization_name\": null, \"cutoff2\": 30, \"cutoff\": 0}, {\"calitp_itp_id\": 79, \"trip_key\": -5871869377338177262, \"trip_id\": \"t_1317656_b_28810_tn_0\", \"shape_id\": \"p_8849\", \"route_id\": \"235\", \"service_hours\": 0.87, \"trip_first_departure_ts\": 32880, \"trip_last_arrival_ts\": 36000, \"departure_hour\": 9, \"time_of_day\": \"AM Peak\", \"p25\": 0.72, \"p50\": 0.87, \"p75\": 0.87, \"p50_trip\": 1, \"fastest_trip\": 0, \"car_duration_hours\": 0.54, \"competitive_route\": 1, \"bus_multiplier\": 1.61, \"bus_difference\": 19.8, \"num_trips\": 27, \"num_competitive\": 26, \"pct_trips_competitive\": 0.963, \"bus_difference_spread\": 28.8, \"route_group\": \"medium\", \"max_trip_hrs\": 1.2, \"max_trip_route_group\": 1.2, \"name\": \"City of Corona\", \"caltrans_district\": \"08 - San Bernardino\", \"drmt_organization_name\": null, \"cutoff2\": 30, \"cutoff\": 0}, {\"calitp_itp_id\": 79, \"trip_key\": 5969403058972938668, \"trip_id\": \"t_1317621_b_28810_tn_0\", \"shape_id\": \"p_8849\", \"route_id\": \"235\", \"service_hours\": 0.87, \"trip_first_departure_ts\": 29340, \"trip_last_arrival_ts\": 32460, \"departure_hour\": 8, \"time_of_day\": \"AM Peak\", \"p25\": 0.72, \"p50\": 0.87, \"p75\": 0.87, \"p50_trip\": 1, \"fastest_trip\": 0, \"car_duration_hours\": 0.54, \"competitive_route\": 1, \"bus_multiplier\": 1.61, \"bus_difference\": 19.8, \"num_trips\": 27, \"num_competitive\": 26, \"pct_trips_competitive\": 0.963, \"bus_difference_spread\": 28.8, \"route_group\": \"medium\", \"max_trip_hrs\": 1.2, \"max_trip_route_group\": 1.2, \"name\": \"City of Corona\", \"caltrans_district\": \"08 - San Bernardino\", \"drmt_organization_name\": null, \"cutoff2\": 30, \"cutoff\": 0}, {\"calitp_itp_id\": 79, \"trip_key\": 886344185501257873, \"trip_id\": \"t_1317632_b_28810_tn_0\", \"shape_id\": \"p_8849\", \"route_id\": \"235\", \"service_hours\": 0.87, \"trip_first_departure_ts\": 55380, \"trip_last_arrival_ts\": 58500, \"departure_hour\": 15, \"time_of_day\": \"Midday\", \"p25\": 0.72, \"p50\": 0.87, \"p75\": 0.87, \"p50_trip\": 1, \"fastest_trip\": 0, \"car_duration_hours\": 0.54, \"competitive_route\": 1, \"bus_multiplier\": 1.61, \"bus_difference\": 19.8, \"num_trips\": 27, \"num_competitive\": 26, \"pct_trips_competitive\": 0.963, \"bus_difference_spread\": 28.8, \"route_group\": \"medium\", \"max_trip_hrs\": 1.2, \"max_trip_route_group\": 1.2, \"name\": \"City of Corona\", \"caltrans_district\": \"08 - San Bernardino\", \"drmt_organization_name\": null, \"cutoff2\": 30, \"cutoff\": 0}, {\"calitp_itp_id\": 79, \"trip_key\": 7356026991289019084, \"trip_id\": \"t_1317606_b_28810_tn_0\", \"shape_id\": \"p_8849\", \"route_id\": \"235\", \"service_hours\": 0.87, \"trip_first_departure_ts\": 45720, \"trip_last_arrival_ts\": 48840, \"departure_hour\": 12, \"time_of_day\": \"Midday\", \"p25\": 0.72, \"p50\": 0.87, \"p75\": 0.87, \"p50_trip\": 1, \"fastest_trip\": 0, \"car_duration_hours\": 0.54, \"competitive_route\": 1, \"bus_multiplier\": 1.61, \"bus_difference\": 19.8, \"num_trips\": 27, \"num_competitive\": 26, \"pct_trips_competitive\": 0.963, \"bus_difference_spread\": 28.8, \"route_group\": \"medium\", \"max_trip_hrs\": 1.2, \"max_trip_route_group\": 1.2, \"name\": \"City of Corona\", \"caltrans_district\": \"08 - San Bernardino\", \"drmt_organization_name\": null, \"cutoff2\": 30, \"cutoff\": 0}, {\"calitp_itp_id\": 79, \"trip_key\": -379780085014476893, \"trip_id\": \"t_1317620_b_28810_tn_0\", \"shape_id\": \"p_8850\", \"route_id\": \"235\", \"service_hours\": 0.87, \"trip_first_departure_ts\": 65580, \"trip_last_arrival_ts\": 68700, \"departure_hour\": 18, \"time_of_day\": \"PM Peak\", \"p25\": 0.72, \"p50\": 0.87, \"p75\": 0.87, \"p50_trip\": 1, \"fastest_trip\": 0, \"car_duration_hours\": 0.54, \"competitive_route\": 1, \"bus_multiplier\": 1.61, \"bus_difference\": 19.8, \"num_trips\": 27, \"num_competitive\": 26, \"pct_trips_competitive\": 0.963, \"bus_difference_spread\": 28.8, \"route_group\": \"medium\", \"max_trip_hrs\": 1.2, \"max_trip_route_group\": 1.2, \"name\": \"City of Corona\", \"caltrans_district\": \"08 - San Bernardino\", \"drmt_organization_name\": null, \"cutoff2\": 30, \"cutoff\": 0}, {\"calitp_itp_id\": 79, \"trip_key\": 7611716081220973304, \"trip_id\": \"t_1317617_b_28810_tn_0\", \"shape_id\": \"p_8848\", \"route_id\": \"235\", \"service_hours\": 0.95, \"trip_first_departure_ts\": 64920, \"trip_last_arrival_ts\": 68340, \"departure_hour\": 18, \"time_of_day\": \"PM Peak\", \"p25\": 0.72, \"p50\": 0.87, \"p75\": 0.87, \"p50_trip\": 0, \"fastest_trip\": 0, \"car_duration_hours\": 0.54, \"competitive_route\": 1, \"bus_multiplier\": 1.76, \"bus_difference\": 24.6, \"num_trips\": 27, \"num_competitive\": 26, \"pct_trips_competitive\": 0.963, \"bus_difference_spread\": 28.8, \"route_group\": \"medium\", \"max_trip_hrs\": 1.2, \"max_trip_route_group\": 1.2, \"name\": \"City of Corona\", \"caltrans_district\": \"08 - San Bernardino\", \"drmt_organization_name\": null, \"cutoff2\": 30, \"cutoff\": 0}, {\"calitp_itp_id\": 79, \"trip_key\": -549658962958523689, \"trip_id\": \"t_1317622_b_28810_tn_0\", \"shape_id\": \"p_8848\", \"route_id\": \"235\", \"service_hours\": 1.02, \"trip_first_departure_ts\": 25200, \"trip_last_arrival_ts\": 28860, \"departure_hour\": 7, \"time_of_day\": \"AM Peak\", \"p25\": 0.72, \"p50\": 0.87, \"p75\": 0.87, \"p50_trip\": 0, \"fastest_trip\": 0, \"car_duration_hours\": 0.54, \"competitive_route\": 1, \"bus_multiplier\": 1.89, \"bus_difference\": 28.8, \"num_trips\": 27, \"num_competitive\": 26, \"pct_trips_competitive\": 0.963, \"bus_difference_spread\": 28.8, \"route_group\": \"medium\", \"max_trip_hrs\": 1.2, \"max_trip_route_group\": 1.2, \"name\": \"City of Corona\", \"caltrans_district\": \"08 - San Bernardino\", \"drmt_organization_name\": null, \"cutoff2\": 30, \"cutoff\": 0}, {\"calitp_itp_id\": 79, \"trip_key\": 8401060567549796085, \"trip_id\": \"t_1317614_b_28810_tn_0\", \"shape_id\": \"p_8848\", \"route_id\": \"235\", \"service_hours\": 1.03, \"trip_first_departure_ts\": 61800, \"trip_last_arrival_ts\": 65520, \"departure_hour\": 17, \"time_of_day\": \"PM Peak\", \"p25\": 0.72, \"p50\": 0.87, \"p75\": 0.87, \"p50_trip\": 0, \"fastest_trip\": 0, \"car_duration_hours\": 0.54, \"competitive_route\": 1, \"bus_multiplier\": 1.91, \"bus_difference\": 29.4, \"num_trips\": 27, \"num_competitive\": 26, \"pct_trips_competitive\": 0.963, \"bus_difference_spread\": 28.8, \"route_group\": \"medium\", \"max_trip_hrs\": 1.2, \"max_trip_route_group\": 1.2, \"name\": \"City of Corona\", \"caltrans_district\": \"08 - San Bernardino\", \"drmt_organization_name\": null, \"cutoff2\": 30, \"cutoff\": 0}, {\"calitp_itp_id\": 79, \"trip_key\": 8388729936127192116, \"trip_id\": \"t_1317637_b_28810_tn_0\", \"shape_id\": \"p_8850\", \"route_id\": \"235\", \"service_hours\": 1.2, \"trip_first_departure_ts\": 23400, \"trip_last_arrival_ts\": 27720, \"departure_hour\": 6, \"time_of_day\": \"Owl Service\", \"p25\": 0.72, \"p50\": 0.87, \"p75\": 0.87, \"p50_trip\": 0, \"fastest_trip\": 0, \"car_duration_hours\": 0.54, \"competitive_route\": 1, \"bus_multiplier\": 2.22, \"bus_difference\": 39.6, \"num_trips\": 27, \"num_competitive\": 26, \"pct_trips_competitive\": 0.963, \"bus_difference_spread\": 28.8, \"route_group\": \"medium\", \"max_trip_hrs\": 1.2, \"max_trip_route_group\": 1.2, \"name\": \"City of Corona\", \"caltrans_district\": \"08 - San Bernardino\", \"drmt_organization_name\": null, \"cutoff2\": 30, \"cutoff\": 0}, {\"calitp_itp_id\": 79, \"trip_key\": 6449377066310141917, \"trip_id\": \"t_1317653_b_28810_tn_0\", \"shape_id\": \"p_8847\", \"route_id\": \"236\", \"service_hours\": 0.9, \"trip_first_departure_ts\": 39240, \"trip_last_arrival_ts\": 42480, \"departure_hour\": 10, \"time_of_day\": \"Midday\", \"p25\": 0.9, \"p50\": 0.92, \"p75\": 0.9724999999999999, \"p50_trip\": 0, \"fastest_trip\": 0, \"car_duration_hours\": 0.67, \"competitive_route\": 1, \"bus_multiplier\": 1.34, \"bus_difference\": 13.8, \"num_trips\": 24, \"num_competitive\": 24, \"pct_trips_competitive\": 1.0, \"bus_difference_spread\": 18.0, \"route_group\": \"medium\", \"max_trip_hrs\": 1.2, \"max_trip_route_group\": 1.2, \"name\": \"City of Corona\", \"caltrans_district\": \"08 - San Bernardino\", \"drmt_organization_name\": null, \"cutoff2\": 30, \"cutoff\": 0}, {\"calitp_itp_id\": 79, \"trip_key\": -9213660478626422435, \"trip_id\": \"t_1317641_b_28810_tn_0\", \"shape_id\": \"p_8847\", \"route_id\": \"236\", \"service_hours\": 0.9, \"trip_first_departure_ts\": 35580, \"trip_last_arrival_ts\": 38820, \"departure_hour\": 9, \"time_of_day\": \"AM Peak\", \"p25\": 0.9, \"p50\": 0.92, \"p75\": 0.9724999999999999, \"p50_trip\": 0, \"fastest_trip\": 0, \"car_duration_hours\": 0.67, \"competitive_route\": 1, \"bus_multiplier\": 1.34, \"bus_difference\": 13.8, \"num_trips\": 24, \"num_competitive\": 24, \"pct_trips_competitive\": 1.0, \"bus_difference_spread\": 18.0, \"route_group\": \"medium\", \"max_trip_hrs\": 1.2, \"max_trip_route_group\": 1.2, \"name\": \"City of Corona\", \"caltrans_district\": \"08 - San Bernardino\", \"drmt_organization_name\": null, \"cutoff2\": 30, \"cutoff\": 0}, {\"calitp_itp_id\": 79, \"trip_key\": 5806597867871502395, \"trip_id\": \"t_1317686_b_28810_tn_0\", \"shape_id\": \"p_8847\", \"route_id\": \"236\", \"service_hours\": 0.9, \"trip_first_departure_ts\": 57360, \"trip_last_arrival_ts\": 60600, \"departure_hour\": 15, \"time_of_day\": \"Midday\", \"p25\": 0.9, \"p50\": 0.92, \"p75\": 0.9724999999999999, \"p50_trip\": 0, \"fastest_trip\": 1, \"car_duration_hours\": 0.67, \"competitive_route\": 1, \"bus_multiplier\": 1.34, \"bus_difference\": 13.8, \"num_trips\": 24, \"num_competitive\": 24, \"pct_trips_competitive\": 1.0, \"bus_difference_spread\": 18.0, \"route_group\": \"medium\", \"max_trip_hrs\": 1.2, \"max_trip_route_group\": 1.2, \"name\": \"City of Corona\", \"caltrans_district\": \"08 - San Bernardino\", \"drmt_organization_name\": null, \"cutoff2\": 30, \"cutoff\": 0}, {\"calitp_itp_id\": 79, \"trip_key\": -3946702690811646881, \"trip_id\": \"t_1317654_b_28810_tn_0\", \"shape_id\": \"p_8847\", \"route_id\": \"236\", \"service_hours\": 0.9, \"trip_first_departure_ts\": 46500, \"trip_last_arrival_ts\": 49740, \"departure_hour\": 12, \"time_of_day\": \"Midday\", \"p25\": 0.9, \"p50\": 0.92, \"p75\": 0.9724999999999999, \"p50_trip\": 0, \"fastest_trip\": 0, \"car_duration_hours\": 0.67, \"competitive_route\": 1, \"bus_multiplier\": 1.34, \"bus_difference\": 13.8, \"num_trips\": 24, \"num_competitive\": 24, \"pct_trips_competitive\": 1.0, \"bus_difference_spread\": 18.0, \"route_group\": \"medium\", \"max_trip_hrs\": 1.2, \"max_trip_route_group\": 1.2, \"name\": \"City of Corona\", \"caltrans_district\": \"08 - San Bernardino\", \"drmt_organization_name\": null, \"cutoff2\": 30, \"cutoff\": 0}, {\"calitp_itp_id\": 79, \"trip_key\": 338493820203463694, \"trip_id\": \"t_1317619_b_28810_tn_0\", \"shape_id\": \"p_8847\", \"route_id\": \"236\", \"service_hours\": 0.9, \"trip_first_departure_ts\": 31980, \"trip_last_arrival_ts\": 35220, \"departure_hour\": 8, \"time_of_day\": \"AM Peak\", \"p25\": 0.9, \"p50\": 0.92, \"p75\": 0.9724999999999999, \"p50_trip\": 0, \"fastest_trip\": 0, \"car_duration_hours\": 0.67, \"competitive_route\": 1, \"bus_multiplier\": 1.34, \"bus_difference\": 13.8, \"num_trips\": 24, \"num_competitive\": 24, \"pct_trips_competitive\": 1.0, \"bus_difference_spread\": 18.0, \"route_group\": \"medium\", \"max_trip_hrs\": 1.2, \"max_trip_route_group\": 1.2, \"name\": \"City of Corona\", \"caltrans_district\": \"08 - San Bernardino\", \"drmt_organization_name\": null, \"cutoff2\": 30, \"cutoff\": 0}, {\"calitp_itp_id\": 79, \"trip_key\": -5282735163382010678, \"trip_id\": \"t_1317657_b_28810_tn_0\", \"shape_id\": \"p_8847\", \"route_id\": \"236\", \"service_hours\": 0.9, \"trip_first_departure_ts\": 53760, \"trip_last_arrival_ts\": 57000, \"departure_hour\": 14, \"time_of_day\": \"Midday\", \"p25\": 0.9, \"p50\": 0.92, \"p75\": 0.9724999999999999, \"p50_trip\": 0, \"fastest_trip\": 0, \"car_duration_hours\": 0.67, \"competitive_route\": 1, \"bus_multiplier\": 1.34, \"bus_difference\": 13.8, \"num_trips\": 24, \"num_competitive\": 24, \"pct_trips_competitive\": 1.0, \"bus_difference_spread\": 18.0, \"route_group\": \"medium\", \"max_trip_hrs\": 1.2, \"max_trip_route_group\": 1.2, \"name\": \"City of Corona\", \"caltrans_district\": \"08 - San Bernardino\", \"drmt_organization_name\": null, \"cutoff2\": 30, \"cutoff\": 0}, {\"calitp_itp_id\": 79, \"trip_key\": -3750065221010291569, \"trip_id\": \"t_1317645_b_28810_tn_0\", \"shape_id\": \"p_8847\", \"route_id\": \"236\", \"service_hours\": 0.9, \"trip_first_departure_ts\": 50100, \"trip_last_arrival_ts\": 53340, \"departure_hour\": 13, \"time_of_day\": \"Midday\", \"p25\": 0.9, \"p50\": 0.92, \"p75\": 0.9724999999999999, \"p50_trip\": 0, \"fastest_trip\": 0, \"car_duration_hours\": 0.67, \"competitive_route\": 1, \"bus_multiplier\": 1.34, \"bus_difference\": 13.8, \"num_trips\": 24, \"num_competitive\": 24, \"pct_trips_competitive\": 1.0, \"bus_difference_spread\": 18.0, \"route_group\": \"medium\", \"max_trip_hrs\": 1.2, \"max_trip_route_group\": 1.2, \"name\": \"City of Corona\", \"caltrans_district\": \"08 - San Bernardino\", \"drmt_organization_name\": null, \"cutoff2\": 30, \"cutoff\": 0}, {\"calitp_itp_id\": 79, \"trip_key\": -8144853555082240975, \"trip_id\": \"t_1317658_b_28810_tn_0\", \"shape_id\": \"p_8847\", \"route_id\": \"236\", \"service_hours\": 0.9, \"trip_first_departure_ts\": 42840, \"trip_last_arrival_ts\": 46080, \"departure_hour\": 11, \"time_of_day\": \"Midday\", \"p25\": 0.9, \"p50\": 0.92, \"p75\": 0.9724999999999999, \"p50_trip\": 0, \"fastest_trip\": 0, \"car_duration_hours\": 0.67, \"competitive_route\": 1, \"bus_multiplier\": 1.34, \"bus_difference\": 13.8, \"num_trips\": 24, \"num_competitive\": 24, \"pct_trips_competitive\": 1.0, \"bus_difference_spread\": 18.0, \"route_group\": \"medium\", \"max_trip_hrs\": 1.2, \"max_trip_route_group\": 1.2, \"name\": \"City of Corona\", \"caltrans_district\": \"08 - San Bernardino\", \"drmt_organization_name\": null, \"cutoff2\": 30, \"cutoff\": 0}, {\"calitp_itp_id\": 79, \"trip_key\": 1328313970932315563, \"trip_id\": \"t_1317639_b_28810_tn_0\", \"shape_id\": \"p_8843\", \"route_id\": \"236\", \"service_hours\": 0.92, \"trip_first_departure_ts\": 42840, \"trip_last_arrival_ts\": 46140, \"departure_hour\": 11, \"time_of_day\": \"Midday\", \"p25\": 0.9, \"p50\": 0.92, \"p75\": 0.9724999999999999, \"p50_trip\": 1, \"fastest_trip\": 0, \"car_duration_hours\": 0.67, \"competitive_route\": 1, \"bus_multiplier\": 1.37, \"bus_difference\": 15.0, \"num_trips\": 24, \"num_competitive\": 24, \"pct_trips_competitive\": 1.0, \"bus_difference_spread\": 18.0, \"route_group\": \"medium\", \"max_trip_hrs\": 1.2, \"max_trip_route_group\": 1.2, \"name\": \"City of Corona\", \"caltrans_district\": \"08 - San Bernardino\", \"drmt_organization_name\": null, \"cutoff2\": 30, \"cutoff\": 0}, {\"calitp_itp_id\": 79, \"trip_key\": -8721640856135494887, \"trip_id\": \"t_1317630_b_28810_tn_0\", \"shape_id\": \"p_8843\", \"route_id\": \"236\", \"service_hours\": 0.92, \"trip_first_departure_ts\": 39180, \"trip_last_arrival_ts\": 42480, \"departure_hour\": 10, \"time_of_day\": \"Midday\", \"p25\": 0.9, \"p50\": 0.92, \"p75\": 0.9724999999999999, \"p50_trip\": 1, \"fastest_trip\": 0, \"car_duration_hours\": 0.67, \"competitive_route\": 1, \"bus_multiplier\": 1.37, \"bus_difference\": 15.0, \"num_trips\": 24, \"num_competitive\": 24, \"pct_trips_competitive\": 1.0, \"bus_difference_spread\": 18.0, \"route_group\": \"medium\", \"max_trip_hrs\": 1.2, \"max_trip_route_group\": 1.2, \"name\": \"City of Corona\", \"caltrans_district\": \"08 - San Bernardino\", \"drmt_organization_name\": null, \"cutoff2\": 30, \"cutoff\": 0}, {\"calitp_itp_id\": 79, \"trip_key\": -1188487523211958411, \"trip_id\": \"t_1317629_b_28810_tn_0\", \"shape_id\": \"p_8843\", \"route_id\": \"236\", \"service_hours\": 0.92, \"trip_first_departure_ts\": 46440, \"trip_last_arrival_ts\": 49740, \"departure_hour\": 12, \"time_of_day\": \"Midday\", \"p25\": 0.9, \"p50\": 0.92, \"p75\": 0.9724999999999999, \"p50_trip\": 1, \"fastest_trip\": 0, \"car_duration_hours\": 0.67, \"competitive_route\": 1, \"bus_multiplier\": 1.37, \"bus_difference\": 15.0, \"num_trips\": 24, \"num_competitive\": 24, \"pct_trips_competitive\": 1.0, \"bus_difference_spread\": 18.0, \"route_group\": \"medium\", \"max_trip_hrs\": 1.2, \"max_trip_route_group\": 1.2, \"name\": \"City of Corona\", \"caltrans_district\": \"08 - San Bernardino\", \"drmt_organization_name\": null, \"cutoff2\": 30, \"cutoff\": 0}, {\"calitp_itp_id\": 79, \"trip_key\": 1190277099845094845, \"trip_id\": \"t_1317615_b_28810_tn_0\", \"shape_id\": \"p_8843\", \"route_id\": \"236\", \"service_hours\": 0.92, \"trip_first_departure_ts\": 28320, \"trip_last_arrival_ts\": 31620, \"departure_hour\": 7, \"time_of_day\": \"AM Peak\", \"p25\": 0.9, \"p50\": 0.92, \"p75\": 0.9724999999999999, \"p50_trip\": 1, \"fastest_trip\": 0, \"car_duration_hours\": 0.67, \"competitive_route\": 1, \"bus_multiplier\": 1.37, \"bus_difference\": 15.0, \"num_trips\": 24, \"num_competitive\": 24, \"pct_trips_competitive\": 1.0, \"bus_difference_spread\": 18.0, \"route_group\": \"medium\", \"max_trip_hrs\": 1.2, \"max_trip_route_group\": 1.2, \"name\": \"City of Corona\", \"caltrans_district\": \"08 - San Bernardino\", \"drmt_organization_name\": null, \"cutoff2\": 30, \"cutoff\": 0}, {\"calitp_itp_id\": 79, \"trip_key\": 5588207875640491735, \"trip_id\": \"t_1317685_b_28810_tn_0\", \"shape_id\": \"p_8843\", \"route_id\": \"236\", \"service_hours\": 0.92, \"trip_first_departure_ts\": 57360, \"trip_last_arrival_ts\": 60660, \"departure_hour\": 15, \"time_of_day\": \"Midday\", \"p25\": 0.9, \"p50\": 0.92, \"p75\": 0.9724999999999999, \"p50_trip\": 1, \"fastest_trip\": 0, \"car_duration_hours\": 0.67, \"competitive_route\": 1, \"bus_multiplier\": 1.37, \"bus_difference\": 15.0, \"num_trips\": 24, \"num_competitive\": 24, \"pct_trips_competitive\": 1.0, \"bus_difference_spread\": 18.0, \"route_group\": \"medium\", \"max_trip_hrs\": 1.2, \"max_trip_route_group\": 1.2, \"name\": \"City of Corona\", \"caltrans_district\": \"08 - San Bernardino\", \"drmt_organization_name\": null, \"cutoff2\": 30, \"cutoff\": 0}, {\"calitp_itp_id\": 79, \"trip_key\": -5903330546191547075, \"trip_id\": \"t_1317647_b_28810_tn_0\", \"shape_id\": \"p_8843\", \"route_id\": \"236\", \"service_hours\": 0.92, \"trip_first_departure_ts\": 50100, \"trip_last_arrival_ts\": 53400, \"departure_hour\": 13, \"time_of_day\": \"Midday\", \"p25\": 0.9, \"p50\": 0.92, \"p75\": 0.9724999999999999, \"p50_trip\": 1, \"fastest_trip\": 0, \"car_duration_hours\": 0.67, \"competitive_route\": 1, \"bus_multiplier\": 1.37, \"bus_difference\": 15.0, \"num_trips\": 24, \"num_competitive\": 24, \"pct_trips_competitive\": 1.0, \"bus_difference_spread\": 18.0, \"route_group\": \"medium\", \"max_trip_hrs\": 1.2, \"max_trip_route_group\": 1.2, \"name\": \"City of Corona\", \"caltrans_district\": \"08 - San Bernardino\", \"drmt_organization_name\": null, \"cutoff2\": 30, \"cutoff\": 0}, {\"calitp_itp_id\": 79, \"trip_key\": 8441518285707782724, \"trip_id\": \"t_1317627_b_28810_tn_0\", \"shape_id\": \"p_8843\", \"route_id\": \"236\", \"service_hours\": 0.92, \"trip_first_departure_ts\": 35580, \"trip_last_arrival_ts\": 38880, \"departure_hour\": 9, \"time_of_day\": \"AM Peak\", \"p25\": 0.9, \"p50\": 0.92, \"p75\": 0.9724999999999999, \"p50_trip\": 1, \"fastest_trip\": 0, \"car_duration_hours\": 0.67, \"competitive_route\": 1, \"bus_multiplier\": 1.37, \"bus_difference\": 15.0, \"num_trips\": 24, \"num_competitive\": 24, \"pct_trips_competitive\": 1.0, \"bus_difference_spread\": 18.0, \"route_group\": \"medium\", \"max_trip_hrs\": 1.2, \"max_trip_route_group\": 1.2, \"name\": \"City of Corona\", \"caltrans_district\": \"08 - San Bernardino\", \"drmt_organization_name\": null, \"cutoff2\": 30, \"cutoff\": 0}, {\"calitp_itp_id\": 79, \"trip_key\": 5258705322780735194, \"trip_id\": \"t_1317646_b_28810_tn_0\", \"shape_id\": \"p_8843\", \"route_id\": \"236\", \"service_hours\": 0.92, \"trip_first_departure_ts\": 53700, \"trip_last_arrival_ts\": 57000, \"departure_hour\": 14, \"time_of_day\": \"Midday\", \"p25\": 0.9, \"p50\": 0.92, \"p75\": 0.9724999999999999, \"p50_trip\": 1, \"fastest_trip\": 0, \"car_duration_hours\": 0.67, \"competitive_route\": 1, \"bus_multiplier\": 1.37, \"bus_difference\": 15.0, \"num_trips\": 24, \"num_competitive\": 24, \"pct_trips_competitive\": 1.0, \"bus_difference_spread\": 18.0, \"route_group\": \"medium\", \"max_trip_hrs\": 1.2, \"max_trip_route_group\": 1.2, \"name\": \"City of Corona\", \"caltrans_district\": \"08 - San Bernardino\", \"drmt_organization_name\": null, \"cutoff2\": 30, \"cutoff\": 0}, {\"calitp_itp_id\": 79, \"trip_key\": 7469284978989994726, \"trip_id\": \"t_1317644_b_28810_tn_0\", \"shape_id\": \"p_8843\", \"route_id\": \"236\", \"service_hours\": 0.92, \"trip_first_departure_ts\": 31920, \"trip_last_arrival_ts\": 35220, \"departure_hour\": 8, \"time_of_day\": \"AM Peak\", \"p25\": 0.9, \"p50\": 0.92, \"p75\": 0.9724999999999999, \"p50_trip\": 1, \"fastest_trip\": 0, \"car_duration_hours\": 0.67, \"competitive_route\": 1, \"bus_multiplier\": 1.37, \"bus_difference\": 15.0, \"num_trips\": 24, \"num_competitive\": 24, \"pct_trips_competitive\": 1.0, \"bus_difference_spread\": 18.0, \"route_group\": \"medium\", \"max_trip_hrs\": 1.2, \"max_trip_route_group\": 1.2, \"name\": \"City of Corona\", \"caltrans_district\": \"08 - San Bernardino\", \"drmt_organization_name\": null, \"cutoff2\": 30, \"cutoff\": 0}, {\"calitp_itp_id\": 79, \"trip_key\": -6099395427375903060, \"trip_id\": \"t_1317618_b_28810_tn_0\", \"shape_id\": \"p_8842\", \"route_id\": \"236\", \"service_hours\": 0.97, \"trip_first_departure_ts\": 24360, \"trip_last_arrival_ts\": 27840, \"departure_hour\": 6, \"time_of_day\": \"Owl Service\", \"p25\": 0.9, \"p50\": 0.92, \"p75\": 0.9724999999999999, \"p50_trip\": 0, \"fastest_trip\": 0, \"car_duration_hours\": 0.67, \"competitive_route\": 1, \"bus_multiplier\": 1.45, \"bus_difference\": 18.0, \"num_trips\": 24, \"num_competitive\": 24, \"pct_trips_competitive\": 1.0, \"bus_difference_spread\": 18.0, \"route_group\": \"medium\", \"max_trip_hrs\": 1.2, \"max_trip_route_group\": 1.2, \"name\": \"City of Corona\", \"caltrans_district\": \"08 - San Bernardino\", \"drmt_organization_name\": null, \"cutoff2\": 30, \"cutoff\": 0}, {\"calitp_itp_id\": 79, \"trip_key\": -9017398710266921292, \"trip_id\": \"t_1317684_b_28810_tn_0\", \"shape_id\": \"p_8844\", \"route_id\": \"236\", \"service_hours\": 0.98, \"trip_first_departure_ts\": 28200, \"trip_last_arrival_ts\": 31740, \"departure_hour\": 7, \"time_of_day\": \"AM Peak\", \"p25\": 0.9, \"p50\": 0.92, \"p75\": 0.9724999999999999, \"p50_trip\": 0, \"fastest_trip\": 0, \"car_duration_hours\": 0.67, \"competitive_route\": 1, \"bus_multiplier\": 1.46, \"bus_difference\": 18.6, \"num_trips\": 24, \"num_competitive\": 24, \"pct_trips_competitive\": 1.0, \"bus_difference_spread\": 18.0, \"route_group\": \"medium\", \"max_trip_hrs\": 1.2, \"max_trip_route_group\": 1.2, \"name\": \"City of Corona\", \"caltrans_district\": \"08 - San Bernardino\", \"drmt_organization_name\": null, \"cutoff2\": 30, \"cutoff\": 0}, {\"calitp_itp_id\": 79, \"trip_key\": 5061272203326224864, \"trip_id\": \"t_1317607_b_28810_tn_0\", \"shape_id\": \"p_8843\", \"route_id\": \"236\", \"service_hours\": 1.02, \"trip_first_departure_ts\": 61260, \"trip_last_arrival_ts\": 64920, \"departure_hour\": 17, \"time_of_day\": \"PM Peak\", \"p25\": 0.9, \"p50\": 0.92, \"p75\": 0.9724999999999999, \"p50_trip\": 0, \"fastest_trip\": 0, \"car_duration_hours\": 0.67, \"competitive_route\": 1, \"bus_multiplier\": 1.52, \"bus_difference\": 21.0, \"num_trips\": 24, \"num_competitive\": 24, \"pct_trips_competitive\": 1.0, \"bus_difference_spread\": 18.0, \"route_group\": \"medium\", \"max_trip_hrs\": 1.2, \"max_trip_route_group\": 1.2, \"name\": \"City of Corona\", \"caltrans_district\": \"08 - San Bernardino\", \"drmt_organization_name\": null, \"cutoff2\": 30, \"cutoff\": 0}, {\"calitp_itp_id\": 79, \"trip_key\": 5246617384888475562, \"trip_id\": \"t_1317608_b_28810_tn_0\", \"shape_id\": \"p_8843\", \"route_id\": \"236\", \"service_hours\": 1.02, \"trip_first_departure_ts\": 65280, \"trip_last_arrival_ts\": 68940, \"departure_hour\": 18, \"time_of_day\": \"PM Peak\", \"p25\": 0.9, \"p50\": 0.92, \"p75\": 0.9724999999999999, \"p50_trip\": 0, \"fastest_trip\": 0, \"car_duration_hours\": 0.67, \"competitive_route\": 1, \"bus_multiplier\": 1.52, \"bus_difference\": 21.0, \"num_trips\": 24, \"num_competitive\": 24, \"pct_trips_competitive\": 1.0, \"bus_difference_spread\": 18.0, \"route_group\": \"medium\", \"max_trip_hrs\": 1.2, \"max_trip_route_group\": 1.2, \"name\": \"City of Corona\", \"caltrans_district\": \"08 - San Bernardino\", \"drmt_organization_name\": null, \"cutoff2\": 30, \"cutoff\": 0}, {\"calitp_itp_id\": 79, \"trip_key\": -405059068671694954, \"trip_id\": \"t_1317609_b_28810_tn_0\", \"shape_id\": \"p_8844\", \"route_id\": \"236\", \"service_hours\": 1.08, \"trip_first_departure_ts\": 63240, \"trip_last_arrival_ts\": 67140, \"departure_hour\": 17, \"time_of_day\": \"PM Peak\", \"p25\": 0.9, \"p50\": 0.92, \"p75\": 0.9724999999999999, \"p50_trip\": 0, \"fastest_trip\": 0, \"car_duration_hours\": 0.67, \"competitive_route\": 1, \"bus_multiplier\": 1.61, \"bus_difference\": 24.6, \"num_trips\": 24, \"num_competitive\": 24, \"pct_trips_competitive\": 1.0, \"bus_difference_spread\": 18.0, \"route_group\": \"medium\", \"max_trip_hrs\": 1.2, \"max_trip_route_group\": 1.2, \"name\": \"City of Corona\", \"caltrans_district\": \"08 - San Bernardino\", \"drmt_organization_name\": null, \"cutoff2\": 30, \"cutoff\": 0}, {\"calitp_itp_id\": 79, \"trip_key\": 217920149004367178, \"trip_id\": \"t_1317610_b_28810_tn_0\", \"shape_id\": \"p_8844\", \"route_id\": \"236\", \"service_hours\": 1.12, \"trip_first_departure_ts\": 60900, \"trip_last_arrival_ts\": 64920, \"departure_hour\": 16, \"time_of_day\": \"Midday\", \"p25\": 0.9, \"p50\": 0.92, \"p75\": 0.9724999999999999, \"p50_trip\": 0, \"fastest_trip\": 0, \"car_duration_hours\": 0.67, \"competitive_route\": 1, \"bus_multiplier\": 1.67, \"bus_difference\": 27.0, \"num_trips\": 24, \"num_competitive\": 24, \"pct_trips_competitive\": 1.0, \"bus_difference_spread\": 18.0, \"route_group\": \"medium\", \"max_trip_hrs\": 1.2, \"max_trip_route_group\": 1.2, \"name\": \"City of Corona\", \"caltrans_district\": \"08 - San Bernardino\", \"drmt_organization_name\": null, \"cutoff2\": 30, \"cutoff\": 0}, {\"calitp_itp_id\": 79, \"trip_key\": 7075805716613766105, \"trip_id\": \"t_1317687_b_28810_tn_0\", \"shape_id\": \"p_8844\", \"route_id\": \"236\", \"service_hours\": 1.2, \"trip_first_departure_ts\": 23400, \"trip_last_arrival_ts\": 27720, \"departure_hour\": 6, \"time_of_day\": \"Owl Service\", \"p25\": 0.9, \"p50\": 0.92, \"p75\": 0.9724999999999999, \"p50_trip\": 0, \"fastest_trip\": 0, \"car_duration_hours\": 0.67, \"competitive_route\": 1, \"bus_multiplier\": 1.79, \"bus_difference\": 31.8, \"num_trips\": 24, \"num_competitive\": 24, \"pct_trips_competitive\": 1.0, \"bus_difference_spread\": 18.0, \"route_group\": \"medium\", \"max_trip_hrs\": 1.2, \"max_trip_route_group\": 1.2, \"name\": \"City of Corona\", \"caltrans_district\": \"08 - San Bernardino\", \"drmt_organization_name\": null, \"cutoff2\": 30, \"cutoff\": 0}]}}, {\"mode\": \"vega-lite\"});\n",
       "</script>"
      ],
      "text/plain": [
       "alt.FacetChart(...)"
      ]
     },
     "metadata": {},
     "output_type": "display_data"
    }
   ],
   "source": [
    "route_group = \"medium\"\n",
    "try:\n",
    "    display_charts_for_route_group(df, route_group)\n",
    "except:\n",
    "    print(\"No routes meet this criteria.\")"
   ]
  },
  {
   "cell_type": "markdown",
   "id": "124b76d0-886c-4d03-92ac-f1bda3cda182",
   "metadata": {
    "papermill": {
     "duration": 0.019536,
     "end_time": "2022-05-09T20:13:48.366641",
     "exception": false,
     "start_time": "2022-05-09T20:13:48.347105",
     "status": "completed"
    },
    "tags": []
   },
   "source": [
    "### Long Routes (> 1.5 hrs)"
   ]
  },
  {
   "cell_type": "code",
   "execution_count": 15,
   "id": "ddc81b19-4c45-4c81-8b7a-5e0f394aa7a3",
   "metadata": {
    "execution": {
     "iopub.execute_input": "2022-05-09T20:13:48.408721Z",
     "iopub.status.busy": "2022-05-09T20:13:48.408358Z",
     "iopub.status.idle": "2022-05-09T20:13:48.425490Z",
     "shell.execute_reply": "2022-05-09T20:13:48.424408Z"
    },
    "jupyter": {
     "source_hidden": true
    },
    "papermill": {
     "duration": 0.042137,
     "end_time": "2022-05-09T20:13:48.427802",
     "exception": false,
     "start_time": "2022-05-09T20:13:48.385665",
     "status": "completed"
    },
    "tags": [
     "remove_input"
    ]
   },
   "outputs": [
    {
     "name": "stdout",
     "output_type": "stream",
     "text": [
      "No routes meet this criteria.\n"
     ]
    }
   ],
   "source": [
    "route_group = \"long\"\n",
    "try:\n",
    "    display_charts_for_route_group(df, route_group)\n",
    "except:\n",
    "    print(\"No routes meet this criteria.\")"
   ]
  },
  {
   "cell_type": "markdown",
   "id": "ace75b5f-0442-4fbe-aebd-6c3a13ae13a7",
   "metadata": {
    "papermill": {
     "duration": 0.023458,
     "end_time": "2022-05-09T20:13:48.473782",
     "exception": false,
     "start_time": "2022-05-09T20:13:48.450324",
     "status": "completed"
    },
    "tags": []
   },
   "source": [
    "### GTFS Real-Time Speedmaps"
   ]
  },
  {
   "cell_type": "code",
   "execution_count": 16,
   "id": "a0a114a1-e975-4027-9daf-50029f5ef59f",
   "metadata": {
    "execution": {
     "iopub.execute_input": "2022-05-09T20:13:48.526766Z",
     "iopub.status.busy": "2022-05-09T20:13:48.526430Z",
     "iopub.status.idle": "2022-05-09T20:13:48.582513Z",
     "shell.execute_reply": "2022-05-09T20:13:48.581254Z"
    },
    "jupyter": {
     "source_hidden": true
    },
    "papermill": {
     "duration": 0.091069,
     "end_time": "2022-05-09T20:13:48.585140",
     "exception": false,
     "start_time": "2022-05-09T20:13:48.494071",
     "status": "completed"
    },
    "tags": [
     "remove_input"
    ]
   },
   "outputs": [
    {
     "data": {
      "text/html": [
       "No GTFS RT data available."
      ],
      "text/plain": [
       "<IPython.core.display.HTML object>"
      ]
     },
     "metadata": {},
     "output_type": "display_data"
    }
   ],
   "source": [
    "PORTFOLIO_SITE_YAML = \"../portfolio/analyses.yml\"\n",
    "\n",
    "# Grab list of ITP IDs with GTFS RT speedmaps\n",
    "rt_itp_id = deploy_portfolio_yaml.check_if_rt_data_available(PORTFOLIO_SITE_YAML)\n",
    "\n",
    "# Construct the URL \n",
    "RT_URL = (\"https://analysis.calitp.org/rt/\"\n",
    "          f\"district_{district_number}-{district_name}/\"\n",
    "          f\"speedmaps__itp_id_{itp_id}.html\"\n",
    "         ) \n",
    "\n",
    "if itp_id in rt_itp_id:\n",
    "    display(HTML(f'''<a href={RT_URL}>GTFS RT speedmaps here.</a>'''))\n",
    "\n",
    "else:\n",
    "    display(HTML(\"No GTFS RT data available.\"))"
   ]
  },
  {
   "cell_type": "code",
   "execution_count": null,
   "id": "5b680565-2230-4f2e-817c-718fad48d64c",
   "metadata": {
    "jupyter": {
     "source_hidden": true
    },
    "papermill": {
     "duration": 0.021443,
     "end_time": "2022-05-09T20:13:48.634278",
     "exception": false,
     "start_time": "2022-05-09T20:13:48.612835",
     "status": "completed"
    },
    "tags": [
     "remove_input"
    ]
   },
   "outputs": [],
   "source": []
  }
 ],
 "metadata": {
  "kernelspec": {
   "display_name": "Python 3 (ipykernel)",
   "language": "python",
   "name": "python3"
  },
  "language_info": {
   "codemirror_mode": {
    "name": "ipython",
    "version": 3
   },
   "file_extension": ".py",
   "mimetype": "text/x-python",
   "name": "python",
   "nbconvert_exporter": "python",
   "pygments_lexer": "ipython3",
   "version": "3.9.12"
  },
  "papermill": {
   "default_parameters": {},
   "duration": 29.076612,
   "end_time": "2022-05-09T20:13:51.149555",
   "environment_variables": {},
   "exception": null,
   "input_path": "bus_service_increase/competitive-parallel-routes.ipynb",
   "output_path": "portfolio/parallel_corridors/district_08-san-bernardino/competitive-parallel-routes__itp_id_79.ipynb",
   "parameters": {
    "district": "08 - San Bernardino",
    "itp_id": 79
   },
   "start_time": "2022-05-09T20:13:22.072943",
   "version": "2.3.4"
  }
 },
 "nbformat": 4,
 "nbformat_minor": 5
}