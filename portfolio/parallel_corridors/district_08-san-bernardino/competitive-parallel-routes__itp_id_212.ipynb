{
 "cells": [
  {
   "cell_type": "code",
   "execution_count": 1,
   "id": "95d00857-6a20-4529-a519-2cc7182928a9",
   "metadata": {
    "execution": {
     "iopub.execute_input": "2022-05-08T16:14:45.482724Z",
     "iopub.status.busy": "2022-05-08T16:14:45.482205Z",
     "iopub.status.idle": "2022-05-08T16:14:53.610690Z",
     "shell.execute_reply": "2022-05-08T16:14:53.609771Z"
    },
    "jupyter": {
     "source_hidden": true
    },
    "papermill": {
     "duration": 8.143172,
     "end_time": "2022-05-08T16:14:53.613062",
     "exception": false,
     "start_time": "2022-05-08T16:14:45.469890",
     "status": "completed"
    },
    "tags": [
     "remove_input"
    ]
   },
   "outputs": [],
   "source": [
    "%%capture\n",
    "import warnings\n",
    "warnings.filterwarnings('ignore')\n",
    "\n",
    "import altair as alt\n",
    "import calitp.magics\n",
    "import geopandas as gpd\n",
    "import intake\n",
    "import pandas as pd\n",
    "\n",
    "from IPython.display import display, Markdown, HTML\n",
    "\n",
    "import parallel_corridors_utils\n",
    "from shared_utils import styleguide\n",
    "\n",
    "catalog = intake.open_catalog(\"./*.yml\")\n",
    "alt.renderers.enable(\"html\")"
   ]
  },
  {
   "cell_type": "code",
   "execution_count": 2,
   "id": "8af2a0c1-f3da-408d-9bea-11d9fbf8695d",
   "metadata": {
    "execution": {
     "iopub.execute_input": "2022-05-08T16:14:53.635100Z",
     "iopub.status.busy": "2022-05-08T16:14:53.634847Z",
     "iopub.status.idle": "2022-05-08T16:14:53.638543Z",
     "shell.execute_reply": "2022-05-08T16:14:53.637824Z"
    },
    "jupyter": {
     "source_hidden": true
    },
    "papermill": {
     "duration": 0.017139,
     "end_time": "2022-05-08T16:14:53.640590",
     "exception": false,
     "start_time": "2022-05-08T16:14:53.623451",
     "status": "completed"
    },
    "tags": [
     "parameters",
     "remove_input"
    ]
   },
   "outputs": [],
   "source": [
    "# parameters cell\n",
    "itp_id = 182"
   ]
  },
  {
   "cell_type": "code",
   "execution_count": 3,
   "id": "6c8728dd",
   "metadata": {
    "execution": {
     "iopub.execute_input": "2022-05-08T16:14:53.660959Z",
     "iopub.status.busy": "2022-05-08T16:14:53.660544Z",
     "iopub.status.idle": "2022-05-08T16:14:53.664175Z",
     "shell.execute_reply": "2022-05-08T16:14:53.663737Z"
    },
    "jupyter": {
     "source_hidden": true
    },
    "papermill": {
     "duration": 0.015932,
     "end_time": "2022-05-08T16:14:53.665732",
     "exception": false,
     "start_time": "2022-05-08T16:14:53.649800",
     "status": "completed"
    },
    "tags": [
     "injected-parameters",
     "remove_input"
    ]
   },
   "outputs": [],
   "source": [
    "# Parameters\n",
    "district = \"08 - San Bernardino\"\n",
    "itp_id = 212\n"
   ]
  },
  {
   "cell_type": "code",
   "execution_count": 4,
   "id": "9582aaf4-79ff-412a-b248-8d8d693ebd4f",
   "metadata": {
    "execution": {
     "iopub.execute_input": "2022-05-08T16:14:53.686435Z",
     "iopub.status.busy": "2022-05-08T16:14:53.686011Z",
     "iopub.status.idle": "2022-05-08T16:14:54.967686Z",
     "shell.execute_reply": "2022-05-08T16:14:54.967023Z"
    },
    "jupyter": {
     "source_hidden": true
    },
    "papermill": {
     "duration": 1.294632,
     "end_time": "2022-05-08T16:14:54.969757",
     "exception": false,
     "start_time": "2022-05-08T16:14:53.675125",
     "status": "completed"
    },
    "tags": [
     "remove_input"
    ]
   },
   "outputs": [],
   "source": [
    "df = catalog.competitive_route_variability.read()\n",
    "\n",
    "df = (df[(df.calitp_itp_id == itp_id) & \n",
    "         (df.route_group.notna())]\n",
    "      .reset_index(drop=True)\n",
    "     )\n",
    "\n",
    "\n",
    "if itp_id == 182:\n",
    "    df = df.assign(\n",
    "        route_id = df.route_id.str.replace('-13153', '').astype(int)\n",
    "    )"
   ]
  },
  {
   "cell_type": "code",
   "execution_count": 5,
   "id": "33ac4b06-f647-4dce-a625-8f2c1b37cc60",
   "metadata": {
    "execution": {
     "iopub.execute_input": "2022-05-08T16:14:54.992330Z",
     "iopub.status.busy": "2022-05-08T16:14:54.991846Z",
     "iopub.status.idle": "2022-05-08T16:14:54.997656Z",
     "shell.execute_reply": "2022-05-08T16:14:54.997091Z"
    },
    "jupyter": {
     "source_hidden": true
    },
    "papermill": {
     "duration": 0.019027,
     "end_time": "2022-05-08T16:14:54.999745",
     "exception": false,
     "start_time": "2022-05-08T16:14:54.980718",
     "status": "completed"
    },
    "tags": [
     "remove_input"
    ]
   },
   "outputs": [],
   "source": [
    "%%capture_parameters\n",
    "operator_name = df.name.iloc[0]\n",
    "\n",
    "itp_id, operator_name"
   ]
  },
  {
   "cell_type": "markdown",
   "id": "65bc6f5c-8348-42ee-b2dd-52057c406852",
   "metadata": {
    "papermill": {
     "duration": 0.010011,
     "end_time": "2022-05-08T16:14:55.022561",
     "exception": false,
     "start_time": "2022-05-08T16:14:55.012550",
     "status": "completed"
    },
    "tags": []
   },
   "source": [
    "# Morongo Band of Mission Indians (ITP ID: 212)"
   ]
  },
  {
   "cell_type": "code",
   "execution_count": 6,
   "id": "a689c1ab-2c6c-4831-8d64-897f5986f571",
   "metadata": {
    "execution": {
     "iopub.execute_input": "2022-05-08T16:14:55.044349Z",
     "iopub.status.busy": "2022-05-08T16:14:55.043848Z",
     "iopub.status.idle": "2022-05-08T16:14:55.049436Z",
     "shell.execute_reply": "2022-05-08T16:14:55.048774Z"
    },
    "jupyter": {
     "source_hidden": true
    },
    "papermill": {
     "duration": 0.018494,
     "end_time": "2022-05-08T16:14:55.051176",
     "exception": false,
     "start_time": "2022-05-08T16:14:55.032682",
     "status": "completed"
    },
    "tags": [
     "remove_input"
    ]
   },
   "outputs": [
    {
     "data": {
      "text/html": [
       "<h1>Competitive & Parallel Routes</h1>"
      ],
      "text/plain": [
       "<IPython.core.display.HTML object>"
      ]
     },
     "metadata": {},
     "output_type": "display_data"
    }
   ],
   "source": [
    "display(HTML(\"<h1>Competitive & Parallel Routes</h1>\")) "
   ]
  },
  {
   "cell_type": "code",
   "execution_count": 7,
   "id": "2cb4d8d5-4760-40e4-85b1-cb833d8bb648",
   "metadata": {
    "execution": {
     "iopub.execute_input": "2022-05-08T16:14:55.074094Z",
     "iopub.status.busy": "2022-05-08T16:14:55.073616Z",
     "iopub.status.idle": "2022-05-08T16:15:05.107807Z",
     "shell.execute_reply": "2022-05-08T16:15:05.107221Z"
    },
    "jupyter": {
     "source_hidden": true
    },
    "papermill": {
     "duration": 10.049192,
     "end_time": "2022-05-08T16:15:05.110808",
     "exception": false,
     "start_time": "2022-05-08T16:14:55.061616",
     "status": "completed"
    },
    "tags": [
     "remove_input"
    ]
   },
   "outputs": [],
   "source": [
    "# Grab parameters for narrative text - clean up formatting here \n",
    "district = df.caltrans_district.iloc[0]\n",
    "formatted_date = pd.to_datetime(parallel_corridors_utils.SELECTED_DATE).strftime('%m-%d-%Y')\n",
    "\n",
    "PCT_COMPETITIVE_THRESHOLD = 0.75\n",
    "\n",
    "stats = parallel_corridors_utils.operator_parallel_competitive_stats(\n",
    "    itp_id, PCT_COMPETITIVE_THRESHOLD)\n",
    "\n",
    "pct_parallel = round(stats['parallel_routes'] / stats['num_routes'] * 100,1 )\n",
    "pct_competitive =  round(stats['competitive_routes'] / stats['num_routes'] * 100,1 )"
   ]
  },
  {
   "cell_type": "markdown",
   "id": "ab667928-5274-4490-82d9-4c39293209a4",
   "metadata": {
    "papermill": {
     "duration": 0.010364,
     "end_time": "2022-05-08T16:15:05.133032",
     "exception": false,
     "start_time": "2022-05-08T16:15:05.122668",
     "status": "completed"
    },
    "tags": []
   },
   "source": [
    "## Quick Stats"
   ]
  },
  {
   "cell_type": "code",
   "execution_count": 8,
   "id": "0416509d-dc62-4165-b62e-64f8b26e8b8e",
   "metadata": {
    "execution": {
     "iopub.execute_input": "2022-05-08T16:15:05.156088Z",
     "iopub.status.busy": "2022-05-08T16:15:05.155611Z",
     "iopub.status.idle": "2022-05-08T16:15:05.161390Z",
     "shell.execute_reply": "2022-05-08T16:15:05.160900Z"
    },
    "jupyter": {
     "source_hidden": true
    },
    "papermill": {
     "duration": 0.01963,
     "end_time": "2022-05-08T16:15:05.162959",
     "exception": false,
     "start_time": "2022-05-08T16:15:05.143329",
     "status": "completed"
    },
    "tags": [
     "remove_input"
    ]
   },
   "outputs": [
    {
     "data": {
      "text/markdown": [
       "**Bus routes in service**: 7 <br>**Parallel routes** to State Highway Network (SHN): 6 routes (85.7%)<br>**Competitive routes** against car travel: 4 routes (57.1%)"
      ],
      "text/plain": [
       "<IPython.core.display.Markdown object>"
      ]
     },
     "metadata": {},
     "output_type": "display_data"
    }
   ],
   "source": [
    "display(\n",
    "    Markdown(\n",
    "        f\"**Bus routes in service**: {stats['num_routes']} \"\n",
    "        \"<br>**Parallel routes** to State Highway Network (SHN): \"\n",
    "        f\"{stats['parallel_routes']} routes ({pct_parallel}%)\"\n",
    "        f\"<br>**Competitive routes** against car travel: {stats['competitive_routes']} routes ({pct_competitive}%)\"\n",
    "    )\n",
    ")"
   ]
  },
  {
   "cell_type": "code",
   "execution_count": 9,
   "id": "f9d6ab58-f0ee-460c-b6de-657490e1f386",
   "metadata": {
    "execution": {
     "iopub.execute_input": "2022-05-08T16:15:05.186234Z",
     "iopub.status.busy": "2022-05-08T16:15:05.185826Z",
     "iopub.status.idle": "2022-05-08T16:15:05.194143Z",
     "shell.execute_reply": "2022-05-08T16:15:05.193654Z"
    },
    "jupyter": {
     "source_hidden": true
    },
    "papermill": {
     "duration": 0.021828,
     "end_time": "2022-05-08T16:15:05.195701",
     "exception": false,
     "start_time": "2022-05-08T16:15:05.173873",
     "status": "completed"
    },
    "tags": [
     "remove_input"
    ]
   },
   "outputs": [],
   "source": [
    "def set_yaxis_range(df, y_col):\n",
    "    Y_MIN = df[y_col].min()\n",
    "    Y_MAX = df[y_col].max()\n",
    "    \n",
    "    return Y_MIN, Y_MAX\n",
    "\n",
    "# Rather than set it according to the operator, which can vary,\n",
    "# just use set thresholds for each group\n",
    "diff_cutoffs = parallel_corridors_utils.diff_cutoffs\n",
    "\n",
    "PCT_TRIPS_BELOW_CUTOFF = 0.25\n",
    "\n",
    "def top15_routes(df, route_group):\n",
    "    df2 = (df[df.route_group==route_group])\n",
    "    # Set a cut-off to enable sorting, where most of the trips are \n",
    "    # below a certain time difference cut-off, \n",
    "    # grab top 15 routes where majority of trips are below that cut-off \n",
    "\n",
    "    route_cols = [\"calitp_itp_id\", \"route_id\"]\n",
    "\n",
    "    df2 = df2.assign(\n",
    "        below_cutoff = df2.apply(lambda x: 1 if x.bus_difference <= diff_cutoffs[route_group] \n",
    "                                 else 0, axis=1),\n",
    "        num_trips = df2.groupby(route_cols)[\"trip_id\"].transform(\"count\")\n",
    "    )\n",
    "\n",
    "    df2[\"below_cutoff\"] = df2.groupby(route_cols)[\"below_cutoff\"].transform(\"sum\")\n",
    "    df2[\"pct_below_cutoff\"] = df2.below_cutoff.divide(df2.num_trips)\n",
    "\n",
    "    # At least half the trips are below that cut-off\n",
    "    # but show 15 max, otherwise, show less, since these won't be as interesting to operators\n",
    "    df3 = (df2[df2.pct_below_cutoff >= PCT_TRIPS_BELOW_CUTOFF]\n",
    "           .sort_values([\"calitp_itp_id\", \"below_cutoff\", \n",
    "                         \"pct_below_cutoff\", \"route_id\"],\n",
    "                        ascending = [True, False, False, True]\n",
    "                       )\n",
    "           .drop_duplicates(subset=[\"calitp_itp_id\", \"route_id\"])\n",
    "          ).head(15)\n",
    "    \n",
    "    return list(df3.route_id)"
   ]
  },
  {
   "cell_type": "code",
   "execution_count": 10,
   "id": "cf36d559-3349-4144-8086-8ac9ce937a5a",
   "metadata": {
    "execution": {
     "iopub.execute_input": "2022-05-08T16:15:05.224015Z",
     "iopub.status.busy": "2022-05-08T16:15:05.223615Z",
     "iopub.status.idle": "2022-05-08T16:15:05.228517Z",
     "shell.execute_reply": "2022-05-08T16:15:05.228018Z"
    },
    "jupyter": {
     "source_hidden": true
    },
    "papermill": {
     "duration": 0.018651,
     "end_time": "2022-05-08T16:15:05.230160",
     "exception": false,
     "start_time": "2022-05-08T16:15:05.211509",
     "status": "completed"
    },
    "tags": [
     "remove_input"
    ]
   },
   "outputs": [],
   "source": [
    "short_caption = (\n",
    "    f\"<br>These are routes that have at least {int(PCT_TRIPS_BELOW_CUTOFF*100)}% of their trips \"\n",
    "    f\"take no more than an additional {diff_cutoffs['short']} min compared to a car \"\n",
    "    \"(up to 15 routes) are shown.\"\n",
    ")\n",
    "\n",
    "med_caption = (\n",
    "    f\"<br>These are routes that have at least {int(PCT_TRIPS_BELOW_CUTOFF*100)}% of their trips \"\n",
    "    f\"take no more than an additional {diff_cutoffs['medium']} min compared to a car \"\n",
    "    \"(up to 15 routes) are shown.\"\n",
    ")\n",
    "\n",
    "long_caption = (\n",
    "    f\"<br>These are routes that have at least {int(PCT_TRIPS_BELOW_CUTOFF*100)}% of their trips \"\n",
    "    f\"take no more than an additional {diff_cutoffs['long']} min compared to a car \"\n",
    "    \"(up to 15 routes) are shown.\")\n",
    "\n",
    "\n",
    "CAPTIONS_DICT = {\n",
    "    \"short\": short_caption,\n",
    "    \"medium\": med_caption,\n",
    "    \"long\": long_caption,\n",
    "}"
   ]
  },
  {
   "cell_type": "code",
   "execution_count": 11,
   "id": "e4306d58-6944-47e9-afef-5d5b524c751f",
   "metadata": {
    "execution": {
     "iopub.execute_input": "2022-05-08T16:15:05.254639Z",
     "iopub.status.busy": "2022-05-08T16:15:05.254209Z",
     "iopub.status.idle": "2022-05-08T16:15:05.260839Z",
     "shell.execute_reply": "2022-05-08T16:15:05.260112Z"
    },
    "jupyter": {
     "source_hidden": true
    },
    "papermill": {
     "duration": 0.021088,
     "end_time": "2022-05-08T16:15:05.262545",
     "exception": false,
     "start_time": "2022-05-08T16:15:05.241457",
     "status": "completed"
    },
    "tags": [
     "remove_input"
    ]
   },
   "outputs": [],
   "source": [
    "def setup_charts(df, PCT_COMPETITIVE_THRESHOLD, route_group):\n",
    "    # Set up df for charting (cut-off at some threshold to show most competitive routes)\n",
    "    plot_me = (df[df.pct_trips_competitive > PCT_COMPETITIVE_THRESHOLD]\n",
    "           .drop(columns = \"geometry\")\n",
    "    )\n",
    "    \n",
    "    y_col1 = \"bus_multiplier\"\n",
    "    Y_MIN1, Y_MAX1 = set_yaxis_range(plot_me, y_col1)\n",
    "\n",
    "    y_col2 = \"bus_difference\"\n",
    "    Y_MIN2, Y_MAX2 = set_yaxis_range(plot_me, y_col2)\n",
    "     \n",
    "    subset_routes = top15_routes(plot_me, route_group)\n",
    "    \n",
    "    multiplier_chart = parallel_corridors_utils.make_stripplot(\n",
    "        plot_me[plot_me.route_id.isin(subset_routes)], \n",
    "        y_col1, Y_MIN = Y_MIN1, Y_MAX = Y_MAX1\n",
    "    )\n",
    "    \n",
    "    difference_chart = parallel_corridors_utils.make_stripplot(\n",
    "        plot_me[plot_me.route_id.isin(subset_routes)], \n",
    "        y_col2, Y_MIN = Y_MIN2, Y_MAX = Y_MAX2\n",
    "    )\n",
    "    \n",
    "    return subset_routes, multiplier_chart, difference_chart            "
   ]
  },
  {
   "cell_type": "markdown",
   "id": "525f9b38-072b-46d1-96a8-1aa4b038357c",
   "metadata": {
    "papermill": {
     "duration": 0.010888,
     "end_time": "2022-05-08T16:15:05.285077",
     "exception": false,
     "start_time": "2022-05-08T16:15:05.274189",
     "status": "completed"
    },
    "tags": []
   },
   "source": [
    "## Viable Competitive Routes\n",
    "### Short Routes (< 1 hr)"
   ]
  },
  {
   "cell_type": "code",
   "execution_count": 12,
   "id": "57f7084c-2cf7-45c6-ba08-1609e0bd6ca5",
   "metadata": {
    "execution": {
     "iopub.execute_input": "2022-05-08T16:15:05.314250Z",
     "iopub.status.busy": "2022-05-08T16:15:05.313984Z",
     "iopub.status.idle": "2022-05-08T16:15:05.550570Z",
     "shell.execute_reply": "2022-05-08T16:15:05.549787Z"
    },
    "jupyter": {
     "source_hidden": true
    },
    "papermill": {
     "duration": 0.256906,
     "end_time": "2022-05-08T16:15:05.552726",
     "exception": false,
     "start_time": "2022-05-08T16:15:05.295820",
     "status": "completed"
    },
    "tags": [
     "remove_input"
    ]
   },
   "outputs": [
    {
     "data": {
      "text/markdown": [
       "<br>These are routes that have at least 25% of their trips take no more than an additional 20 min compared to a car (up to 15 routes) are shown.Within each route group, routes are sorted in descending order by % competitive trips and # trips below the additional time cut-off."
      ],
      "text/plain": [
       "<IPython.core.display.Markdown object>"
      ]
     },
     "metadata": {},
     "output_type": "display_data"
    },
    {
     "data": {
      "text/html": [
       "\n",
       "<div id=\"altair-viz-8c152e194a804f4cb3b475c8f26cc02b\"></div>\n",
       "<script type=\"text/javascript\">\n",
       "  var VEGA_DEBUG = (typeof VEGA_DEBUG == \"undefined\") ? {} : VEGA_DEBUG;\n",
       "  (function(spec, embedOpt){\n",
       "    let outputDiv = document.currentScript.previousElementSibling;\n",
       "    if (outputDiv.id !== \"altair-viz-8c152e194a804f4cb3b475c8f26cc02b\") {\n",
       "      outputDiv = document.getElementById(\"altair-viz-8c152e194a804f4cb3b475c8f26cc02b\");\n",
       "    }\n",
       "    const paths = {\n",
       "      \"vega\": \"https://cdn.jsdelivr.net/npm//vega@5?noext\",\n",
       "      \"vega-lib\": \"https://cdn.jsdelivr.net/npm//vega-lib?noext\",\n",
       "      \"vega-lite\": \"https://cdn.jsdelivr.net/npm//vega-lite@4.17.0?noext\",\n",
       "      \"vega-embed\": \"https://cdn.jsdelivr.net/npm//vega-embed@6?noext\",\n",
       "    };\n",
       "\n",
       "    function maybeLoadScript(lib, version) {\n",
       "      var key = `${lib.replace(\"-\", \"\")}_version`;\n",
       "      return (VEGA_DEBUG[key] == version) ?\n",
       "        Promise.resolve(paths[lib]) :\n",
       "        new Promise(function(resolve, reject) {\n",
       "          var s = document.createElement('script');\n",
       "          document.getElementsByTagName(\"head\")[0].appendChild(s);\n",
       "          s.async = true;\n",
       "          s.onload = () => {\n",
       "            VEGA_DEBUG[key] = version;\n",
       "            return resolve(paths[lib]);\n",
       "          };\n",
       "          s.onerror = () => reject(`Error loading script: ${paths[lib]}`);\n",
       "          s.src = paths[lib];\n",
       "        });\n",
       "    }\n",
       "\n",
       "    function showError(err) {\n",
       "      outputDiv.innerHTML = `<div class=\"error\" style=\"color:red;\">${err}</div>`;\n",
       "      throw err;\n",
       "    }\n",
       "\n",
       "    function displayChart(vegaEmbed) {\n",
       "      vegaEmbed(outputDiv, spec, embedOpt)\n",
       "        .catch(err => showError(`Javascript Error: ${err.message}<br>This usually means there's a typo in your chart specification. See the javascript console for the full traceback.`));\n",
       "    }\n",
       "\n",
       "    if(typeof define === \"function\" && define.amd) {\n",
       "      requirejs.config({paths});\n",
       "      require([\"vega-embed\"], displayChart, err => showError(`Error loading script: ${err.message}`));\n",
       "    } else {\n",
       "      maybeLoadScript(\"vega\", \"5\")\n",
       "        .then(() => maybeLoadScript(\"vega-lite\", \"4.17.0\"))\n",
       "        .then(() => maybeLoadScript(\"vega-embed\", \"6\"))\n",
       "        .catch(showError)\n",
       "        .then(() => displayChart(vegaEmbed));\n",
       "    }\n",
       "  })({\"config\": {\"view\": {\"continuousWidth\": 400, \"continuousHeight\": 300, \"stroke\": null}, \"facet\": {\"spacing\": 0}}, \"data\": {\"name\": \"data-e6d31a79e8fe7c457f065fe23d48804c\"}, \"facet\": {\"column\": {\"field\": \"route_id\", \"sort\": [\"347\"], \"title\": \"Route ID\", \"type\": \"nominal\"}}, \"spec\": {\"layer\": [{\"mark\": {\"type\": \"point\", \"opacity\": 0.65, \"size\": 12, \"strokeWidth\": 1.1}, \"encoding\": {\"color\": {\"field\": \"time_of_day\", \"scale\": {\"range\": [\"#136C97\", \"#E16B26\", \"#F6BF16\", \"#00896B\", \"#7790A3\", \"#5B559C\"]}, \"sort\": [\"AM Peak\", \"Midday\", \"PM Peak\", \"Owl Service\"], \"title\": \"Time of Day\", \"type\": \"nominal\"}, \"tooltip\": [{\"field\": \"route_id\", \"type\": \"nominal\"}, {\"field\": \"trip_id\", \"type\": \"nominal\"}, {\"field\": \"service_hours\", \"type\": \"quantitative\"}, {\"field\": \"car_duration_hours\", \"type\": \"quantitative\"}, {\"field\": \"bus_multiplier\", \"type\": \"quantitative\"}, {\"field\": \"bus_difference\", \"type\": \"quantitative\"}, {\"field\": \"num_trips\", \"type\": \"quantitative\"}, {\"field\": \"num_competitive\", \"type\": \"quantitative\"}, {\"field\": \"pct_trips_competitive\", \"type\": \"quantitative\"}, {\"field\": \"p25\", \"type\": \"quantitative\"}, {\"field\": \"p50\", \"type\": \"quantitative\"}, {\"field\": \"p75\", \"type\": \"quantitative\"}], \"x\": {\"axis\": {\"grid\": false, \"labels\": false, \"ticks\": true, \"values\": [0]}, \"field\": \"jitter\", \"scale\": {}, \"title\": null, \"type\": \"quantitative\"}, \"y\": {\"field\": \"bus_multiplier\", \"scale\": {\"domain\": [-0.25, 2.5]}, \"title\": \"Ratio of Bus to Car Travel Time\", \"type\": \"quantitative\"}}, \"selection\": {\"selector001\": {\"type\": \"interval\", \"bind\": \"scales\", \"encodings\": [\"x\", \"y\"]}}, \"transform\": [{\"calculate\": \"sqrt(-2*log(random()))*cos(2*PI*random())\", \"as\": \"jitter\"}], \"width\": 60}, {\"layer\": [{\"mark\": {\"type\": \"point\", \"opacity\": 0.6, \"size\": 20, \"strokeWidth\": 1.3}, \"encoding\": {\"color\": {\"value\": \"#323434\"}, \"y\": {\"field\": \"bus_multiplier\", \"type\": \"quantitative\"}}, \"transform\": [{\"filter\": \"(datum.p50_trip === 1)\"}]}, {\"mark\": {\"type\": \"rule\", \"strokeDash\": [2, 3]}, \"encoding\": {\"color\": {\"value\": \"#323434\"}, \"y\": {\"field\": \"cutoff\", \"type\": \"quantitative\"}}}, {\"mark\": {\"type\": \"text\", \"align\": \"center\", \"baseline\": \"middle\"}, \"encoding\": {\"color\": {\"value\": \"black\"}, \"text\": {\"field\": \"pct_trips_competitive\", \"format\": \".0%\", \"type\": \"quantitative\"}, \"tooltip\": [{\"field\": \"route_id\", \"type\": \"nominal\"}, {\"field\": \"trip_id\", \"type\": \"nominal\"}, {\"field\": \"service_hours\", \"type\": \"quantitative\"}, {\"field\": \"car_duration_hours\", \"type\": \"quantitative\"}, {\"field\": \"bus_multiplier\", \"type\": \"quantitative\"}, {\"field\": \"bus_difference\", \"type\": \"quantitative\"}, {\"field\": \"num_trips\", \"type\": \"quantitative\"}, {\"field\": \"num_competitive\", \"type\": \"quantitative\"}, {\"field\": \"pct_trips_competitive\", \"type\": \"quantitative\"}, {\"field\": \"p25\", \"type\": \"quantitative\"}, {\"field\": \"p50\", \"type\": \"quantitative\"}, {\"field\": \"p75\", \"type\": \"quantitative\"}], \"x\": {\"value\": 30}, \"y\": {\"value\": 15}}, \"transform\": [{\"calculate\": \"sqrt(-2*log(random()))*cos(2*PI*random())\", \"as\": \"jitter\"}, {\"filter\": \"(datum.fastest_trip === 1)\"}]}]}]}, \"resolve\": {\"scale\": {\"y\": \"shared\"}}, \"title\": \"Ratio of Bus to Car Travel Time\", \"$schema\": \"https://vega.github.io/schema/vega-lite/v4.17.0.json\", \"datasets\": {\"data-e6d31a79e8fe7c457f065fe23d48804c\": [{\"calitp_itp_id\": 212, \"trip_key\": -50751044547860722, \"trip_id\": \"t_869617_b_489_tn_0\", \"shape_id\": \"p_273\", \"route_id\": \"347\", \"service_hours\": 0.83, \"trip_first_departure_ts\": 25200, \"trip_last_arrival_ts\": 28200, \"departure_hour\": 7, \"time_of_day\": \"AM Peak\", \"p25\": 0.83, \"p50\": 0.83, \"p75\": 0.83, \"p50_trip\": 1, \"fastest_trip\": 0, \"car_duration_hours\": 0.54, \"competitive_route\": 1, \"bus_multiplier\": 1.54, \"bus_difference\": 17.4, \"num_trips\": 11, \"num_competitive\": 11, \"pct_trips_competitive\": 1.0, \"bus_difference_spread\": 0.0, \"route_group\": \"short\", \"max_trip_hrs\": 0.83, \"max_trip_route_group\": 0.92, \"name\": \"Morongo Band of Mission Indians\", \"caltrans_district\": \"08 - San Bernardino\", \"drmt_organization_name\": null, \"cutoff2\": 20, \"cutoff\": 2}, {\"calitp_itp_id\": 212, \"trip_key\": 6565985030843497917, \"trip_id\": \"t_869626_b_489_tn_0\", \"shape_id\": \"p_273\", \"route_id\": \"347\", \"service_hours\": 0.83, \"trip_first_departure_ts\": 57600, \"trip_last_arrival_ts\": 60600, \"departure_hour\": 16, \"time_of_day\": \"Midday\", \"p25\": 0.83, \"p50\": 0.83, \"p75\": 0.83, \"p50_trip\": 1, \"fastest_trip\": 0, \"car_duration_hours\": 0.54, \"competitive_route\": 1, \"bus_multiplier\": 1.54, \"bus_difference\": 17.4, \"num_trips\": 11, \"num_competitive\": 11, \"pct_trips_competitive\": 1.0, \"bus_difference_spread\": 0.0, \"route_group\": \"short\", \"max_trip_hrs\": 0.83, \"max_trip_route_group\": 0.92, \"name\": \"Morongo Band of Mission Indians\", \"caltrans_district\": \"08 - San Bernardino\", \"drmt_organization_name\": null, \"cutoff2\": 20, \"cutoff\": 2}, {\"calitp_itp_id\": 212, \"trip_key\": -4816877801510912999, \"trip_id\": \"t_869625_b_489_tn_0\", \"shape_id\": \"p_273\", \"route_id\": \"347\", \"service_hours\": 0.83, \"trip_first_departure_ts\": 54000, \"trip_last_arrival_ts\": 57000, \"departure_hour\": 15, \"time_of_day\": \"Midday\", \"p25\": 0.83, \"p50\": 0.83, \"p75\": 0.83, \"p50_trip\": 1, \"fastest_trip\": 0, \"car_duration_hours\": 0.54, \"competitive_route\": 1, \"bus_multiplier\": 1.54, \"bus_difference\": 17.4, \"num_trips\": 11, \"num_competitive\": 11, \"pct_trips_competitive\": 1.0, \"bus_difference_spread\": 0.0, \"route_group\": \"short\", \"max_trip_hrs\": 0.83, \"max_trip_route_group\": 0.92, \"name\": \"Morongo Band of Mission Indians\", \"caltrans_district\": \"08 - San Bernardino\", \"drmt_organization_name\": null, \"cutoff2\": 20, \"cutoff\": 2}, {\"calitp_itp_id\": 212, \"trip_key\": 134933156221590924, \"trip_id\": \"t_869618_b_489_tn_0\", \"shape_id\": \"p_273\", \"route_id\": \"347\", \"service_hours\": 0.83, \"trip_first_departure_ts\": 28800, \"trip_last_arrival_ts\": 31800, \"departure_hour\": 8, \"time_of_day\": \"AM Peak\", \"p25\": 0.83, \"p50\": 0.83, \"p75\": 0.83, \"p50_trip\": 1, \"fastest_trip\": 0, \"car_duration_hours\": 0.54, \"competitive_route\": 1, \"bus_multiplier\": 1.54, \"bus_difference\": 17.4, \"num_trips\": 11, \"num_competitive\": 11, \"pct_trips_competitive\": 1.0, \"bus_difference_spread\": 0.0, \"route_group\": \"short\", \"max_trip_hrs\": 0.83, \"max_trip_route_group\": 0.92, \"name\": \"Morongo Band of Mission Indians\", \"caltrans_district\": \"08 - San Bernardino\", \"drmt_organization_name\": null, \"cutoff2\": 20, \"cutoff\": 2}, {\"calitp_itp_id\": 212, \"trip_key\": 6524374184765815018, \"trip_id\": \"t_869627_b_489_tn_0\", \"shape_id\": \"p_273\", \"route_id\": \"347\", \"service_hours\": 0.83, \"trip_first_departure_ts\": 61200, \"trip_last_arrival_ts\": 64200, \"departure_hour\": 17, \"time_of_day\": \"PM Peak\", \"p25\": 0.83, \"p50\": 0.83, \"p75\": 0.83, \"p50_trip\": 1, \"fastest_trip\": 1, \"car_duration_hours\": 0.54, \"competitive_route\": 1, \"bus_multiplier\": 1.54, \"bus_difference\": 17.4, \"num_trips\": 11, \"num_competitive\": 11, \"pct_trips_competitive\": 1.0, \"bus_difference_spread\": 0.0, \"route_group\": \"short\", \"max_trip_hrs\": 0.83, \"max_trip_route_group\": 0.92, \"name\": \"Morongo Band of Mission Indians\", \"caltrans_district\": \"08 - San Bernardino\", \"drmt_organization_name\": null, \"cutoff2\": 20, \"cutoff\": 2}, {\"calitp_itp_id\": 212, \"trip_key\": 279715188915178658, \"trip_id\": \"t_869619_b_489_tn_0\", \"shape_id\": \"p_273\", \"route_id\": \"347\", \"service_hours\": 0.83, \"trip_first_departure_ts\": 32400, \"trip_last_arrival_ts\": 35400, \"departure_hour\": 9, \"time_of_day\": \"AM Peak\", \"p25\": 0.83, \"p50\": 0.83, \"p75\": 0.83, \"p50_trip\": 1, \"fastest_trip\": 0, \"car_duration_hours\": 0.54, \"competitive_route\": 1, \"bus_multiplier\": 1.54, \"bus_difference\": 17.4, \"num_trips\": 11, \"num_competitive\": 11, \"pct_trips_competitive\": 1.0, \"bus_difference_spread\": 0.0, \"route_group\": \"short\", \"max_trip_hrs\": 0.83, \"max_trip_route_group\": 0.92, \"name\": \"Morongo Band of Mission Indians\", \"caltrans_district\": \"08 - San Bernardino\", \"drmt_organization_name\": null, \"cutoff2\": 20, \"cutoff\": 2}, {\"calitp_itp_id\": 212, \"trip_key\": 6246359231528304994, \"trip_id\": \"t_869624_b_489_tn_0\", \"shape_id\": \"p_273\", \"route_id\": \"347\", \"service_hours\": 0.83, \"trip_first_departure_ts\": 50400, \"trip_last_arrival_ts\": 53400, \"departure_hour\": 14, \"time_of_day\": \"Midday\", \"p25\": 0.83, \"p50\": 0.83, \"p75\": 0.83, \"p50_trip\": 1, \"fastest_trip\": 0, \"car_duration_hours\": 0.54, \"competitive_route\": 1, \"bus_multiplier\": 1.54, \"bus_difference\": 17.4, \"num_trips\": 11, \"num_competitive\": 11, \"pct_trips_competitive\": 1.0, \"bus_difference_spread\": 0.0, \"route_group\": \"short\", \"max_trip_hrs\": 0.83, \"max_trip_route_group\": 0.92, \"name\": \"Morongo Band of Mission Indians\", \"caltrans_district\": \"08 - San Bernardino\", \"drmt_organization_name\": null, \"cutoff2\": 20, \"cutoff\": 2}, {\"calitp_itp_id\": 212, \"trip_key\": -7823840397146035109, \"trip_id\": \"t_869622_b_489_tn_0\", \"shape_id\": \"p_273\", \"route_id\": \"347\", \"service_hours\": 0.83, \"trip_first_departure_ts\": 43200, \"trip_last_arrival_ts\": 46200, \"departure_hour\": 12, \"time_of_day\": \"Midday\", \"p25\": 0.83, \"p50\": 0.83, \"p75\": 0.83, \"p50_trip\": 1, \"fastest_trip\": 0, \"car_duration_hours\": 0.54, \"competitive_route\": 1, \"bus_multiplier\": 1.54, \"bus_difference\": 17.4, \"num_trips\": 11, \"num_competitive\": 11, \"pct_trips_competitive\": 1.0, \"bus_difference_spread\": 0.0, \"route_group\": \"short\", \"max_trip_hrs\": 0.83, \"max_trip_route_group\": 0.92, \"name\": \"Morongo Band of Mission Indians\", \"caltrans_district\": \"08 - San Bernardino\", \"drmt_organization_name\": null, \"cutoff2\": 20, \"cutoff\": 2}, {\"calitp_itp_id\": 212, \"trip_key\": 4418619400551468545, \"trip_id\": \"t_869623_b_489_tn_0\", \"shape_id\": \"p_273\", \"route_id\": \"347\", \"service_hours\": 0.83, \"trip_first_departure_ts\": 46800, \"trip_last_arrival_ts\": 49800, \"departure_hour\": 13, \"time_of_day\": \"Midday\", \"p25\": 0.83, \"p50\": 0.83, \"p75\": 0.83, \"p50_trip\": 1, \"fastest_trip\": 0, \"car_duration_hours\": 0.54, \"competitive_route\": 1, \"bus_multiplier\": 1.54, \"bus_difference\": 17.4, \"num_trips\": 11, \"num_competitive\": 11, \"pct_trips_competitive\": 1.0, \"bus_difference_spread\": 0.0, \"route_group\": \"short\", \"max_trip_hrs\": 0.83, \"max_trip_route_group\": 0.92, \"name\": \"Morongo Band of Mission Indians\", \"caltrans_district\": \"08 - San Bernardino\", \"drmt_organization_name\": null, \"cutoff2\": 20, \"cutoff\": 2}, {\"calitp_itp_id\": 212, \"trip_key\": -2994078164148274936, \"trip_id\": \"t_869621_b_489_tn_0\", \"shape_id\": \"p_273\", \"route_id\": \"347\", \"service_hours\": 0.83, \"trip_first_departure_ts\": 39600, \"trip_last_arrival_ts\": 42600, \"departure_hour\": 11, \"time_of_day\": \"Midday\", \"p25\": 0.83, \"p50\": 0.83, \"p75\": 0.83, \"p50_trip\": 1, \"fastest_trip\": 0, \"car_duration_hours\": 0.54, \"competitive_route\": 1, \"bus_multiplier\": 1.54, \"bus_difference\": 17.4, \"num_trips\": 11, \"num_competitive\": 11, \"pct_trips_competitive\": 1.0, \"bus_difference_spread\": 0.0, \"route_group\": \"short\", \"max_trip_hrs\": 0.83, \"max_trip_route_group\": 0.92, \"name\": \"Morongo Band of Mission Indians\", \"caltrans_district\": \"08 - San Bernardino\", \"drmt_organization_name\": null, \"cutoff2\": 20, \"cutoff\": 2}, {\"calitp_itp_id\": 212, \"trip_key\": -5509352696499390412, \"trip_id\": \"t_869620_b_489_tn_0\", \"shape_id\": \"p_273\", \"route_id\": \"347\", \"service_hours\": 0.83, \"trip_first_departure_ts\": 36000, \"trip_last_arrival_ts\": 39000, \"departure_hour\": 10, \"time_of_day\": \"Midday\", \"p25\": 0.83, \"p50\": 0.83, \"p75\": 0.83, \"p50_trip\": 1, \"fastest_trip\": 0, \"car_duration_hours\": 0.54, \"competitive_route\": 1, \"bus_multiplier\": 1.54, \"bus_difference\": 17.4, \"num_trips\": 11, \"num_competitive\": 11, \"pct_trips_competitive\": 1.0, \"bus_difference_spread\": 0.0, \"route_group\": \"short\", \"max_trip_hrs\": 0.83, \"max_trip_route_group\": 0.92, \"name\": \"Morongo Band of Mission Indians\", \"caltrans_district\": \"08 - San Bernardino\", \"drmt_organization_name\": null, \"cutoff2\": 20, \"cutoff\": 2}]}}, {\"mode\": \"vega-lite\"});\n",
       "</script>"
      ],
      "text/plain": [
       "alt.FacetChart(...)"
      ]
     },
     "metadata": {},
     "output_type": "display_data"
    },
    {
     "data": {
      "text/html": [
       "\n",
       "<div id=\"altair-viz-37452a4e41c343d8822bfdaa1f45075b\"></div>\n",
       "<script type=\"text/javascript\">\n",
       "  var VEGA_DEBUG = (typeof VEGA_DEBUG == \"undefined\") ? {} : VEGA_DEBUG;\n",
       "  (function(spec, embedOpt){\n",
       "    let outputDiv = document.currentScript.previousElementSibling;\n",
       "    if (outputDiv.id !== \"altair-viz-37452a4e41c343d8822bfdaa1f45075b\") {\n",
       "      outputDiv = document.getElementById(\"altair-viz-37452a4e41c343d8822bfdaa1f45075b\");\n",
       "    }\n",
       "    const paths = {\n",
       "      \"vega\": \"https://cdn.jsdelivr.net/npm//vega@5?noext\",\n",
       "      \"vega-lib\": \"https://cdn.jsdelivr.net/npm//vega-lib?noext\",\n",
       "      \"vega-lite\": \"https://cdn.jsdelivr.net/npm//vega-lite@4.17.0?noext\",\n",
       "      \"vega-embed\": \"https://cdn.jsdelivr.net/npm//vega-embed@6?noext\",\n",
       "    };\n",
       "\n",
       "    function maybeLoadScript(lib, version) {\n",
       "      var key = `${lib.replace(\"-\", \"\")}_version`;\n",
       "      return (VEGA_DEBUG[key] == version) ?\n",
       "        Promise.resolve(paths[lib]) :\n",
       "        new Promise(function(resolve, reject) {\n",
       "          var s = document.createElement('script');\n",
       "          document.getElementsByTagName(\"head\")[0].appendChild(s);\n",
       "          s.async = true;\n",
       "          s.onload = () => {\n",
       "            VEGA_DEBUG[key] = version;\n",
       "            return resolve(paths[lib]);\n",
       "          };\n",
       "          s.onerror = () => reject(`Error loading script: ${paths[lib]}`);\n",
       "          s.src = paths[lib];\n",
       "        });\n",
       "    }\n",
       "\n",
       "    function showError(err) {\n",
       "      outputDiv.innerHTML = `<div class=\"error\" style=\"color:red;\">${err}</div>`;\n",
       "      throw err;\n",
       "    }\n",
       "\n",
       "    function displayChart(vegaEmbed) {\n",
       "      vegaEmbed(outputDiv, spec, embedOpt)\n",
       "        .catch(err => showError(`Javascript Error: ${err.message}<br>This usually means there's a typo in your chart specification. See the javascript console for the full traceback.`));\n",
       "    }\n",
       "\n",
       "    if(typeof define === \"function\" && define.amd) {\n",
       "      requirejs.config({paths});\n",
       "      require([\"vega-embed\"], displayChart, err => showError(`Error loading script: ${err.message}`));\n",
       "    } else {\n",
       "      maybeLoadScript(\"vega\", \"5\")\n",
       "        .then(() => maybeLoadScript(\"vega-lite\", \"4.17.0\"))\n",
       "        .then(() => maybeLoadScript(\"vega-embed\", \"6\"))\n",
       "        .catch(showError)\n",
       "        .then(() => displayChart(vegaEmbed));\n",
       "    }\n",
       "  })({\"config\": {\"view\": {\"continuousWidth\": 400, \"continuousHeight\": 300, \"stroke\": null}, \"facet\": {\"spacing\": 0}}, \"data\": {\"name\": \"data-c872270d33363462c12f5d1da631137d\"}, \"facet\": {\"column\": {\"field\": \"route_id\", \"sort\": [\"347\"], \"title\": \"Route ID\", \"type\": \"nominal\"}}, \"spec\": {\"layer\": [{\"mark\": {\"type\": \"point\", \"opacity\": 0.65, \"size\": 12, \"strokeWidth\": 1.1}, \"encoding\": {\"color\": {\"field\": \"time_of_day\", \"scale\": {\"range\": [\"#136C97\", \"#E16B26\", \"#F6BF16\", \"#00896B\", \"#7790A3\", \"#5B559C\"]}, \"sort\": [\"AM Peak\", \"Midday\", \"PM Peak\", \"Owl Service\"], \"title\": \"Time of Day\", \"type\": \"nominal\"}, \"tooltip\": [{\"field\": \"route_id\", \"type\": \"nominal\"}, {\"field\": \"trip_id\", \"type\": \"nominal\"}, {\"field\": \"service_hours\", \"type\": \"quantitative\"}, {\"field\": \"car_duration_hours\", \"type\": \"quantitative\"}, {\"field\": \"bus_multiplier\", \"type\": \"quantitative\"}, {\"field\": \"bus_difference\", \"type\": \"quantitative\"}, {\"field\": \"num_trips\", \"type\": \"quantitative\"}, {\"field\": \"num_competitive\", \"type\": \"quantitative\"}, {\"field\": \"pct_trips_competitive\", \"type\": \"quantitative\"}, {\"field\": \"p25\", \"type\": \"quantitative\"}, {\"field\": \"p50\", \"type\": \"quantitative\"}, {\"field\": \"p75\", \"type\": \"quantitative\"}], \"x\": {\"axis\": {\"grid\": false, \"labels\": false, \"ticks\": true, \"values\": [0]}, \"field\": \"jitter\", \"scale\": {}, \"title\": null, \"type\": \"quantitative\"}, \"y\": {\"field\": \"bus_difference\", \"scale\": {\"domain\": [-5, 42.0]}, \"title\": \"Difference in Bus to Car Travel Time (min)\", \"type\": \"quantitative\"}}, \"selection\": {\"selector002\": {\"type\": \"interval\", \"bind\": \"scales\", \"encodings\": [\"x\", \"y\"]}}, \"transform\": [{\"calculate\": \"sqrt(-2*log(random()))*cos(2*PI*random())\", \"as\": \"jitter\"}], \"width\": 60}, {\"layer\": [{\"mark\": {\"type\": \"point\", \"opacity\": 0.6, \"size\": 20, \"strokeWidth\": 1.3}, \"encoding\": {\"color\": {\"value\": \"#323434\"}, \"y\": {\"field\": \"bus_difference\", \"type\": \"quantitative\"}}, \"transform\": [{\"filter\": \"(datum.p50_trip === 1)\"}]}, {\"mark\": {\"type\": \"rule\", \"strokeDash\": [2, 3]}, \"encoding\": {\"color\": {\"value\": \"#323434\"}, \"y\": {\"field\": \"cutoff\", \"type\": \"quantitative\"}}}, {\"mark\": {\"type\": \"rule\", \"strokeDash\": [2, 3]}, \"encoding\": {\"color\": {\"value\": \"#136C97\"}, \"y\": {\"field\": \"cutoff2\", \"type\": \"quantitative\"}}}, {\"mark\": {\"type\": \"text\", \"align\": \"center\", \"baseline\": \"middle\"}, \"encoding\": {\"color\": {\"value\": \"black\"}, \"text\": {\"field\": \"pct_trips_competitive\", \"format\": \".0%\", \"type\": \"quantitative\"}, \"tooltip\": [{\"field\": \"route_id\", \"type\": \"nominal\"}, {\"field\": \"trip_id\", \"type\": \"nominal\"}, {\"field\": \"service_hours\", \"type\": \"quantitative\"}, {\"field\": \"car_duration_hours\", \"type\": \"quantitative\"}, {\"field\": \"bus_multiplier\", \"type\": \"quantitative\"}, {\"field\": \"bus_difference\", \"type\": \"quantitative\"}, {\"field\": \"num_trips\", \"type\": \"quantitative\"}, {\"field\": \"num_competitive\", \"type\": \"quantitative\"}, {\"field\": \"pct_trips_competitive\", \"type\": \"quantitative\"}, {\"field\": \"p25\", \"type\": \"quantitative\"}, {\"field\": \"p50\", \"type\": \"quantitative\"}, {\"field\": \"p75\", \"type\": \"quantitative\"}], \"x\": {\"value\": 30}, \"y\": {\"value\": 15}}, \"transform\": [{\"calculate\": \"sqrt(-2*log(random()))*cos(2*PI*random())\", \"as\": \"jitter\"}, {\"filter\": \"(datum.fastest_trip === 1)\"}]}]}]}, \"resolve\": {\"scale\": {\"y\": \"shared\"}}, \"title\": \"Difference in Bus to Car Travel Time (min)\", \"$schema\": \"https://vega.github.io/schema/vega-lite/v4.17.0.json\", \"datasets\": {\"data-c872270d33363462c12f5d1da631137d\": [{\"calitp_itp_id\": 212, \"trip_key\": -50751044547860722, \"trip_id\": \"t_869617_b_489_tn_0\", \"shape_id\": \"p_273\", \"route_id\": \"347\", \"service_hours\": 0.83, \"trip_first_departure_ts\": 25200, \"trip_last_arrival_ts\": 28200, \"departure_hour\": 7, \"time_of_day\": \"AM Peak\", \"p25\": 0.83, \"p50\": 0.83, \"p75\": 0.83, \"p50_trip\": 1, \"fastest_trip\": 0, \"car_duration_hours\": 0.54, \"competitive_route\": 1, \"bus_multiplier\": 1.54, \"bus_difference\": 17.4, \"num_trips\": 11, \"num_competitive\": 11, \"pct_trips_competitive\": 1.0, \"bus_difference_spread\": 0.0, \"route_group\": \"short\", \"max_trip_hrs\": 0.83, \"max_trip_route_group\": 0.92, \"name\": \"Morongo Band of Mission Indians\", \"caltrans_district\": \"08 - San Bernardino\", \"drmt_organization_name\": null, \"cutoff2\": 20, \"cutoff\": 0}, {\"calitp_itp_id\": 212, \"trip_key\": 6565985030843497917, \"trip_id\": \"t_869626_b_489_tn_0\", \"shape_id\": \"p_273\", \"route_id\": \"347\", \"service_hours\": 0.83, \"trip_first_departure_ts\": 57600, \"trip_last_arrival_ts\": 60600, \"departure_hour\": 16, \"time_of_day\": \"Midday\", \"p25\": 0.83, \"p50\": 0.83, \"p75\": 0.83, \"p50_trip\": 1, \"fastest_trip\": 0, \"car_duration_hours\": 0.54, \"competitive_route\": 1, \"bus_multiplier\": 1.54, \"bus_difference\": 17.4, \"num_trips\": 11, \"num_competitive\": 11, \"pct_trips_competitive\": 1.0, \"bus_difference_spread\": 0.0, \"route_group\": \"short\", \"max_trip_hrs\": 0.83, \"max_trip_route_group\": 0.92, \"name\": \"Morongo Band of Mission Indians\", \"caltrans_district\": \"08 - San Bernardino\", \"drmt_organization_name\": null, \"cutoff2\": 20, \"cutoff\": 0}, {\"calitp_itp_id\": 212, \"trip_key\": -4816877801510912999, \"trip_id\": \"t_869625_b_489_tn_0\", \"shape_id\": \"p_273\", \"route_id\": \"347\", \"service_hours\": 0.83, \"trip_first_departure_ts\": 54000, \"trip_last_arrival_ts\": 57000, \"departure_hour\": 15, \"time_of_day\": \"Midday\", \"p25\": 0.83, \"p50\": 0.83, \"p75\": 0.83, \"p50_trip\": 1, \"fastest_trip\": 0, \"car_duration_hours\": 0.54, \"competitive_route\": 1, \"bus_multiplier\": 1.54, \"bus_difference\": 17.4, \"num_trips\": 11, \"num_competitive\": 11, \"pct_trips_competitive\": 1.0, \"bus_difference_spread\": 0.0, \"route_group\": \"short\", \"max_trip_hrs\": 0.83, \"max_trip_route_group\": 0.92, \"name\": \"Morongo Band of Mission Indians\", \"caltrans_district\": \"08 - San Bernardino\", \"drmt_organization_name\": null, \"cutoff2\": 20, \"cutoff\": 0}, {\"calitp_itp_id\": 212, \"trip_key\": 134933156221590924, \"trip_id\": \"t_869618_b_489_tn_0\", \"shape_id\": \"p_273\", \"route_id\": \"347\", \"service_hours\": 0.83, \"trip_first_departure_ts\": 28800, \"trip_last_arrival_ts\": 31800, \"departure_hour\": 8, \"time_of_day\": \"AM Peak\", \"p25\": 0.83, \"p50\": 0.83, \"p75\": 0.83, \"p50_trip\": 1, \"fastest_trip\": 0, \"car_duration_hours\": 0.54, \"competitive_route\": 1, \"bus_multiplier\": 1.54, \"bus_difference\": 17.4, \"num_trips\": 11, \"num_competitive\": 11, \"pct_trips_competitive\": 1.0, \"bus_difference_spread\": 0.0, \"route_group\": \"short\", \"max_trip_hrs\": 0.83, \"max_trip_route_group\": 0.92, \"name\": \"Morongo Band of Mission Indians\", \"caltrans_district\": \"08 - San Bernardino\", \"drmt_organization_name\": null, \"cutoff2\": 20, \"cutoff\": 0}, {\"calitp_itp_id\": 212, \"trip_key\": 6524374184765815018, \"trip_id\": \"t_869627_b_489_tn_0\", \"shape_id\": \"p_273\", \"route_id\": \"347\", \"service_hours\": 0.83, \"trip_first_departure_ts\": 61200, \"trip_last_arrival_ts\": 64200, \"departure_hour\": 17, \"time_of_day\": \"PM Peak\", \"p25\": 0.83, \"p50\": 0.83, \"p75\": 0.83, \"p50_trip\": 1, \"fastest_trip\": 1, \"car_duration_hours\": 0.54, \"competitive_route\": 1, \"bus_multiplier\": 1.54, \"bus_difference\": 17.4, \"num_trips\": 11, \"num_competitive\": 11, \"pct_trips_competitive\": 1.0, \"bus_difference_spread\": 0.0, \"route_group\": \"short\", \"max_trip_hrs\": 0.83, \"max_trip_route_group\": 0.92, \"name\": \"Morongo Band of Mission Indians\", \"caltrans_district\": \"08 - San Bernardino\", \"drmt_organization_name\": null, \"cutoff2\": 20, \"cutoff\": 0}, {\"calitp_itp_id\": 212, \"trip_key\": 279715188915178658, \"trip_id\": \"t_869619_b_489_tn_0\", \"shape_id\": \"p_273\", \"route_id\": \"347\", \"service_hours\": 0.83, \"trip_first_departure_ts\": 32400, \"trip_last_arrival_ts\": 35400, \"departure_hour\": 9, \"time_of_day\": \"AM Peak\", \"p25\": 0.83, \"p50\": 0.83, \"p75\": 0.83, \"p50_trip\": 1, \"fastest_trip\": 0, \"car_duration_hours\": 0.54, \"competitive_route\": 1, \"bus_multiplier\": 1.54, \"bus_difference\": 17.4, \"num_trips\": 11, \"num_competitive\": 11, \"pct_trips_competitive\": 1.0, \"bus_difference_spread\": 0.0, \"route_group\": \"short\", \"max_trip_hrs\": 0.83, \"max_trip_route_group\": 0.92, \"name\": \"Morongo Band of Mission Indians\", \"caltrans_district\": \"08 - San Bernardino\", \"drmt_organization_name\": null, \"cutoff2\": 20, \"cutoff\": 0}, {\"calitp_itp_id\": 212, \"trip_key\": 6246359231528304994, \"trip_id\": \"t_869624_b_489_tn_0\", \"shape_id\": \"p_273\", \"route_id\": \"347\", \"service_hours\": 0.83, \"trip_first_departure_ts\": 50400, \"trip_last_arrival_ts\": 53400, \"departure_hour\": 14, \"time_of_day\": \"Midday\", \"p25\": 0.83, \"p50\": 0.83, \"p75\": 0.83, \"p50_trip\": 1, \"fastest_trip\": 0, \"car_duration_hours\": 0.54, \"competitive_route\": 1, \"bus_multiplier\": 1.54, \"bus_difference\": 17.4, \"num_trips\": 11, \"num_competitive\": 11, \"pct_trips_competitive\": 1.0, \"bus_difference_spread\": 0.0, \"route_group\": \"short\", \"max_trip_hrs\": 0.83, \"max_trip_route_group\": 0.92, \"name\": \"Morongo Band of Mission Indians\", \"caltrans_district\": \"08 - San Bernardino\", \"drmt_organization_name\": null, \"cutoff2\": 20, \"cutoff\": 0}, {\"calitp_itp_id\": 212, \"trip_key\": -7823840397146035109, \"trip_id\": \"t_869622_b_489_tn_0\", \"shape_id\": \"p_273\", \"route_id\": \"347\", \"service_hours\": 0.83, \"trip_first_departure_ts\": 43200, \"trip_last_arrival_ts\": 46200, \"departure_hour\": 12, \"time_of_day\": \"Midday\", \"p25\": 0.83, \"p50\": 0.83, \"p75\": 0.83, \"p50_trip\": 1, \"fastest_trip\": 0, \"car_duration_hours\": 0.54, \"competitive_route\": 1, \"bus_multiplier\": 1.54, \"bus_difference\": 17.4, \"num_trips\": 11, \"num_competitive\": 11, \"pct_trips_competitive\": 1.0, \"bus_difference_spread\": 0.0, \"route_group\": \"short\", \"max_trip_hrs\": 0.83, \"max_trip_route_group\": 0.92, \"name\": \"Morongo Band of Mission Indians\", \"caltrans_district\": \"08 - San Bernardino\", \"drmt_organization_name\": null, \"cutoff2\": 20, \"cutoff\": 0}, {\"calitp_itp_id\": 212, \"trip_key\": 4418619400551468545, \"trip_id\": \"t_869623_b_489_tn_0\", \"shape_id\": \"p_273\", \"route_id\": \"347\", \"service_hours\": 0.83, \"trip_first_departure_ts\": 46800, \"trip_last_arrival_ts\": 49800, \"departure_hour\": 13, \"time_of_day\": \"Midday\", \"p25\": 0.83, \"p50\": 0.83, \"p75\": 0.83, \"p50_trip\": 1, \"fastest_trip\": 0, \"car_duration_hours\": 0.54, \"competitive_route\": 1, \"bus_multiplier\": 1.54, \"bus_difference\": 17.4, \"num_trips\": 11, \"num_competitive\": 11, \"pct_trips_competitive\": 1.0, \"bus_difference_spread\": 0.0, \"route_group\": \"short\", \"max_trip_hrs\": 0.83, \"max_trip_route_group\": 0.92, \"name\": \"Morongo Band of Mission Indians\", \"caltrans_district\": \"08 - San Bernardino\", \"drmt_organization_name\": null, \"cutoff2\": 20, \"cutoff\": 0}, {\"calitp_itp_id\": 212, \"trip_key\": -2994078164148274936, \"trip_id\": \"t_869621_b_489_tn_0\", \"shape_id\": \"p_273\", \"route_id\": \"347\", \"service_hours\": 0.83, \"trip_first_departure_ts\": 39600, \"trip_last_arrival_ts\": 42600, \"departure_hour\": 11, \"time_of_day\": \"Midday\", \"p25\": 0.83, \"p50\": 0.83, \"p75\": 0.83, \"p50_trip\": 1, \"fastest_trip\": 0, \"car_duration_hours\": 0.54, \"competitive_route\": 1, \"bus_multiplier\": 1.54, \"bus_difference\": 17.4, \"num_trips\": 11, \"num_competitive\": 11, \"pct_trips_competitive\": 1.0, \"bus_difference_spread\": 0.0, \"route_group\": \"short\", \"max_trip_hrs\": 0.83, \"max_trip_route_group\": 0.92, \"name\": \"Morongo Band of Mission Indians\", \"caltrans_district\": \"08 - San Bernardino\", \"drmt_organization_name\": null, \"cutoff2\": 20, \"cutoff\": 0}, {\"calitp_itp_id\": 212, \"trip_key\": -5509352696499390412, \"trip_id\": \"t_869620_b_489_tn_0\", \"shape_id\": \"p_273\", \"route_id\": \"347\", \"service_hours\": 0.83, \"trip_first_departure_ts\": 36000, \"trip_last_arrival_ts\": 39000, \"departure_hour\": 10, \"time_of_day\": \"Midday\", \"p25\": 0.83, \"p50\": 0.83, \"p75\": 0.83, \"p50_trip\": 1, \"fastest_trip\": 0, \"car_duration_hours\": 0.54, \"competitive_route\": 1, \"bus_multiplier\": 1.54, \"bus_difference\": 17.4, \"num_trips\": 11, \"num_competitive\": 11, \"pct_trips_competitive\": 1.0, \"bus_difference_spread\": 0.0, \"route_group\": \"short\", \"max_trip_hrs\": 0.83, \"max_trip_route_group\": 0.92, \"name\": \"Morongo Band of Mission Indians\", \"caltrans_district\": \"08 - San Bernardino\", \"drmt_organization_name\": null, \"cutoff2\": 20, \"cutoff\": 0}]}}, {\"mode\": \"vega-lite\"});\n",
       "</script>"
      ],
      "text/plain": [
       "alt.FacetChart(...)"
      ]
     },
     "metadata": {},
     "output_type": "display_data"
    }
   ],
   "source": [
    "# Allow for possibility that operator doesn't have routes that fall into certain route_groups\n",
    "# But, jupyterbook will not like markdown with f-string\n",
    "# separate out route_group and put in each cell, and use try/except + if to display...\n",
    "# but all 3 route groups must be displayed. just add sentence about why no routes were returned at the end\n",
    "route_group = \"short\"\n",
    "try:\n",
    "    subset_routes, mult, diff  = setup_charts(df, PCT_COMPETITIVE_THRESHOLD, route_group)\n",
    "    \n",
    "    if len(subset_routes) > 0:\n",
    "        display(\n",
    "            Markdown(\n",
    "                f\"{CAPTIONS_DICT[route_group]}\"\n",
    "                \"Within each route group, routes are sorted in descending order \"\n",
    "                \"by % competitive trips and # trips below the additional time cut-off.\"\n",
    "            )\n",
    "        )\n",
    "\n",
    "        display(mult)\n",
    "        display(diff)\n",
    "except:\n",
    "    print(\"No routes meet this criteria.\")"
   ]
  },
  {
   "cell_type": "markdown",
   "id": "c2931b6f-034d-4384-9e14-80b925e3b820",
   "metadata": {
    "papermill": {
     "duration": 0.013347,
     "end_time": "2022-05-08T16:15:05.580812",
     "exception": false,
     "start_time": "2022-05-08T16:15:05.567465",
     "status": "completed"
    },
    "tags": []
   },
   "source": [
    "### Medium Routes (1-1.5 hrs)"
   ]
  },
  {
   "cell_type": "code",
   "execution_count": 13,
   "id": "480edddc-4de0-48c2-ae4c-b0ceef8f28b5",
   "metadata": {
    "execution": {
     "iopub.execute_input": "2022-05-08T16:15:05.610276Z",
     "iopub.status.busy": "2022-05-08T16:15:05.610000Z",
     "iopub.status.idle": "2022-05-08T16:15:05.819750Z",
     "shell.execute_reply": "2022-05-08T16:15:05.818711Z"
    },
    "jupyter": {
     "source_hidden": true
    },
    "papermill": {
     "duration": 0.228946,
     "end_time": "2022-05-08T16:15:05.822658",
     "exception": false,
     "start_time": "2022-05-08T16:15:05.593712",
     "status": "completed"
    },
    "tags": [
     "remove_input"
    ]
   },
   "outputs": [
    {
     "data": {
      "text/markdown": [
       "<br>These are routes that have at least 25% of their trips take no more than an additional 30 min compared to a car (up to 15 routes) are shown.Within each route group, routes are sorted in descending order by % competitive trips and # trips below the additional time cut-off."
      ],
      "text/plain": [
       "<IPython.core.display.Markdown object>"
      ]
     },
     "metadata": {},
     "output_type": "display_data"
    },
    {
     "data": {
      "text/html": [
       "\n",
       "<div id=\"altair-viz-6783bb03da514d15adc6eb181e229aaa\"></div>\n",
       "<script type=\"text/javascript\">\n",
       "  var VEGA_DEBUG = (typeof VEGA_DEBUG == \"undefined\") ? {} : VEGA_DEBUG;\n",
       "  (function(spec, embedOpt){\n",
       "    let outputDiv = document.currentScript.previousElementSibling;\n",
       "    if (outputDiv.id !== \"altair-viz-6783bb03da514d15adc6eb181e229aaa\") {\n",
       "      outputDiv = document.getElementById(\"altair-viz-6783bb03da514d15adc6eb181e229aaa\");\n",
       "    }\n",
       "    const paths = {\n",
       "      \"vega\": \"https://cdn.jsdelivr.net/npm//vega@5?noext\",\n",
       "      \"vega-lib\": \"https://cdn.jsdelivr.net/npm//vega-lib?noext\",\n",
       "      \"vega-lite\": \"https://cdn.jsdelivr.net/npm//vega-lite@4.17.0?noext\",\n",
       "      \"vega-embed\": \"https://cdn.jsdelivr.net/npm//vega-embed@6?noext\",\n",
       "    };\n",
       "\n",
       "    function maybeLoadScript(lib, version) {\n",
       "      var key = `${lib.replace(\"-\", \"\")}_version`;\n",
       "      return (VEGA_DEBUG[key] == version) ?\n",
       "        Promise.resolve(paths[lib]) :\n",
       "        new Promise(function(resolve, reject) {\n",
       "          var s = document.createElement('script');\n",
       "          document.getElementsByTagName(\"head\")[0].appendChild(s);\n",
       "          s.async = true;\n",
       "          s.onload = () => {\n",
       "            VEGA_DEBUG[key] = version;\n",
       "            return resolve(paths[lib]);\n",
       "          };\n",
       "          s.onerror = () => reject(`Error loading script: ${paths[lib]}`);\n",
       "          s.src = paths[lib];\n",
       "        });\n",
       "    }\n",
       "\n",
       "    function showError(err) {\n",
       "      outputDiv.innerHTML = `<div class=\"error\" style=\"color:red;\">${err}</div>`;\n",
       "      throw err;\n",
       "    }\n",
       "\n",
       "    function displayChart(vegaEmbed) {\n",
       "      vegaEmbed(outputDiv, spec, embedOpt)\n",
       "        .catch(err => showError(`Javascript Error: ${err.message}<br>This usually means there's a typo in your chart specification. See the javascript console for the full traceback.`));\n",
       "    }\n",
       "\n",
       "    if(typeof define === \"function\" && define.amd) {\n",
       "      requirejs.config({paths});\n",
       "      require([\"vega-embed\"], displayChart, err => showError(`Error loading script: ${err.message}`));\n",
       "    } else {\n",
       "      maybeLoadScript(\"vega\", \"5\")\n",
       "        .then(() => maybeLoadScript(\"vega-lite\", \"4.17.0\"))\n",
       "        .then(() => maybeLoadScript(\"vega-embed\", \"6\"))\n",
       "        .catch(showError)\n",
       "        .then(() => displayChart(vegaEmbed));\n",
       "    }\n",
       "  })({\"config\": {\"view\": {\"continuousWidth\": 400, \"continuousHeight\": 300, \"stroke\": null}, \"facet\": {\"spacing\": 0}}, \"data\": {\"name\": \"data-d13e5ca1b73bab37eda101ab7167d0ae\"}, \"facet\": {\"column\": {\"field\": \"route_id\", \"sort\": [\"350\", \"349\"], \"title\": \"Route ID\", \"type\": \"nominal\"}}, \"spec\": {\"layer\": [{\"mark\": {\"type\": \"point\", \"opacity\": 0.65, \"size\": 12, \"strokeWidth\": 1.1}, \"encoding\": {\"color\": {\"field\": \"time_of_day\", \"scale\": {\"range\": [\"#136C97\", \"#E16B26\", \"#F6BF16\", \"#00896B\", \"#7790A3\", \"#5B559C\"]}, \"sort\": [\"AM Peak\", \"Midday\", \"PM Peak\", \"Owl Service\"], \"title\": \"Time of Day\", \"type\": \"nominal\"}, \"tooltip\": [{\"field\": \"route_id\", \"type\": \"nominal\"}, {\"field\": \"trip_id\", \"type\": \"nominal\"}, {\"field\": \"service_hours\", \"type\": \"quantitative\"}, {\"field\": \"car_duration_hours\", \"type\": \"quantitative\"}, {\"field\": \"bus_multiplier\", \"type\": \"quantitative\"}, {\"field\": \"bus_difference\", \"type\": \"quantitative\"}, {\"field\": \"num_trips\", \"type\": \"quantitative\"}, {\"field\": \"num_competitive\", \"type\": \"quantitative\"}, {\"field\": \"pct_trips_competitive\", \"type\": \"quantitative\"}, {\"field\": \"p25\", \"type\": \"quantitative\"}, {\"field\": \"p50\", \"type\": \"quantitative\"}, {\"field\": \"p75\", \"type\": \"quantitative\"}], \"x\": {\"axis\": {\"grid\": false, \"labels\": false, \"ticks\": true, \"values\": [0]}, \"field\": \"jitter\", \"scale\": {}, \"title\": null, \"type\": \"quantitative\"}, \"y\": {\"field\": \"bus_multiplier\", \"scale\": {\"domain\": [-0.25, 2.5]}, \"title\": \"Ratio of Bus to Car Travel Time\", \"type\": \"quantitative\"}}, \"selection\": {\"selector003\": {\"type\": \"interval\", \"bind\": \"scales\", \"encodings\": [\"x\", \"y\"]}}, \"transform\": [{\"calculate\": \"sqrt(-2*log(random()))*cos(2*PI*random())\", \"as\": \"jitter\"}], \"width\": 60}, {\"layer\": [{\"mark\": {\"type\": \"point\", \"opacity\": 0.6, \"size\": 20, \"strokeWidth\": 1.3}, \"encoding\": {\"color\": {\"value\": \"#323434\"}, \"y\": {\"field\": \"bus_multiplier\", \"type\": \"quantitative\"}}, \"transform\": [{\"filter\": \"(datum.p50_trip === 1)\"}]}, {\"mark\": {\"type\": \"rule\", \"strokeDash\": [2, 3]}, \"encoding\": {\"color\": {\"value\": \"#323434\"}, \"y\": {\"field\": \"cutoff\", \"type\": \"quantitative\"}}}, {\"mark\": {\"type\": \"text\", \"align\": \"center\", \"baseline\": \"middle\"}, \"encoding\": {\"color\": {\"value\": \"black\"}, \"text\": {\"field\": \"pct_trips_competitive\", \"format\": \".0%\", \"type\": \"quantitative\"}, \"tooltip\": [{\"field\": \"route_id\", \"type\": \"nominal\"}, {\"field\": \"trip_id\", \"type\": \"nominal\"}, {\"field\": \"service_hours\", \"type\": \"quantitative\"}, {\"field\": \"car_duration_hours\", \"type\": \"quantitative\"}, {\"field\": \"bus_multiplier\", \"type\": \"quantitative\"}, {\"field\": \"bus_difference\", \"type\": \"quantitative\"}, {\"field\": \"num_trips\", \"type\": \"quantitative\"}, {\"field\": \"num_competitive\", \"type\": \"quantitative\"}, {\"field\": \"pct_trips_competitive\", \"type\": \"quantitative\"}, {\"field\": \"p25\", \"type\": \"quantitative\"}, {\"field\": \"p50\", \"type\": \"quantitative\"}, {\"field\": \"p75\", \"type\": \"quantitative\"}], \"x\": {\"value\": 30}, \"y\": {\"value\": 15}}, \"transform\": [{\"calculate\": \"sqrt(-2*log(random()))*cos(2*PI*random())\", \"as\": \"jitter\"}, {\"filter\": \"(datum.fastest_trip === 1)\"}]}]}]}, \"resolve\": {\"scale\": {\"y\": \"shared\"}}, \"title\": \"Ratio of Bus to Car Travel Time\", \"$schema\": \"https://vega.github.io/schema/vega-lite/v4.17.0.json\", \"datasets\": {\"data-d13e5ca1b73bab37eda101ab7167d0ae\": [{\"calitp_itp_id\": 212, \"trip_key\": 5850337236365362568, \"trip_id\": \"t_869590_b_489_tn_0\", \"shape_id\": \"p_279\", \"route_id\": \"349\", \"service_hours\": 0.83, \"trip_first_departure_ts\": 46800, \"trip_last_arrival_ts\": 49800, \"departure_hour\": 13, \"time_of_day\": \"Midday\", \"p25\": 0.83, \"p50\": 0.83, \"p75\": 0.83, \"p50_trip\": 1, \"fastest_trip\": 0, \"car_duration_hours\": 0.52, \"competitive_route\": 1, \"bus_multiplier\": 1.6, \"bus_difference\": 18.6, \"num_trips\": 30, \"num_competitive\": 25, \"pct_trips_competitive\": 0.833, \"bus_difference_spread\": 23.4, \"route_group\": \"medium\", \"max_trip_hrs\": 1.22, \"max_trip_route_group\": 1.22, \"name\": \"Morongo Band of Mission Indians\", \"caltrans_district\": \"08 - San Bernardino\", \"drmt_organization_name\": null, \"cutoff2\": 30, \"cutoff\": 2}, {\"calitp_itp_id\": 212, \"trip_key\": -3733284907296554600, \"trip_id\": \"t_869584_b_489_tn_0\", \"shape_id\": \"p_279\", \"route_id\": \"349\", \"service_hours\": 0.83, \"trip_first_departure_ts\": 25200, \"trip_last_arrival_ts\": 28200, \"departure_hour\": 7, \"time_of_day\": \"AM Peak\", \"p25\": 0.83, \"p50\": 0.83, \"p75\": 0.83, \"p50_trip\": 1, \"fastest_trip\": 0, \"car_duration_hours\": 0.52, \"competitive_route\": 1, \"bus_multiplier\": 1.6, \"bus_difference\": 18.6, \"num_trips\": 30, \"num_competitive\": 25, \"pct_trips_competitive\": 0.833, \"bus_difference_spread\": 23.4, \"route_group\": \"medium\", \"max_trip_hrs\": 1.22, \"max_trip_route_group\": 1.22, \"name\": \"Morongo Band of Mission Indians\", \"caltrans_district\": \"08 - San Bernardino\", \"drmt_organization_name\": null, \"cutoff2\": 30, \"cutoff\": 2}, {\"calitp_itp_id\": 212, \"trip_key\": -6680245441941794366, \"trip_id\": \"t_869591_b_489_tn_0\", \"shape_id\": \"p_279\", \"route_id\": \"349\", \"service_hours\": 0.83, \"trip_first_departure_ts\": 50400, \"trip_last_arrival_ts\": 53400, \"departure_hour\": 14, \"time_of_day\": \"Midday\", \"p25\": 0.83, \"p50\": 0.83, \"p75\": 0.83, \"p50_trip\": 1, \"fastest_trip\": 0, \"car_duration_hours\": 0.52, \"competitive_route\": 1, \"bus_multiplier\": 1.6, \"bus_difference\": 18.6, \"num_trips\": 30, \"num_competitive\": 25, \"pct_trips_competitive\": 0.833, \"bus_difference_spread\": 23.4, \"route_group\": \"medium\", \"max_trip_hrs\": 1.22, \"max_trip_route_group\": 1.22, \"name\": \"Morongo Band of Mission Indians\", \"caltrans_district\": \"08 - San Bernardino\", \"drmt_organization_name\": null, \"cutoff2\": 30, \"cutoff\": 2}, {\"calitp_itp_id\": 212, \"trip_key\": -3539033563784263740, \"trip_id\": \"t_869577_b_489_tn_0\", \"shape_id\": \"p_272\", \"route_id\": \"349\", \"service_hours\": 0.83, \"trip_first_departure_ts\": 39600, \"trip_last_arrival_ts\": 42600, \"departure_hour\": 11, \"time_of_day\": \"Midday\", \"p25\": 0.83, \"p50\": 0.83, \"p75\": 0.83, \"p50_trip\": 1, \"fastest_trip\": 0, \"car_duration_hours\": 0.52, \"competitive_route\": 1, \"bus_multiplier\": 1.6, \"bus_difference\": 18.6, \"num_trips\": 30, \"num_competitive\": 25, \"pct_trips_competitive\": 0.833, \"bus_difference_spread\": 23.4, \"route_group\": \"medium\", \"max_trip_hrs\": 1.22, \"max_trip_route_group\": 1.22, \"name\": \"Morongo Band of Mission Indians\", \"caltrans_district\": \"08 - San Bernardino\", \"drmt_organization_name\": null, \"cutoff2\": 30, \"cutoff\": 2}, {\"calitp_itp_id\": 212, \"trip_key\": 7716272102889482960, \"trip_id\": \"t_869582_b_489_tn_0\", \"shape_id\": \"p_272\", \"route_id\": \"349\", \"service_hours\": 0.83, \"trip_first_departure_ts\": 57600, \"trip_last_arrival_ts\": 60600, \"departure_hour\": 16, \"time_of_day\": \"Midday\", \"p25\": 0.83, \"p50\": 0.83, \"p75\": 0.83, \"p50_trip\": 1, \"fastest_trip\": 0, \"car_duration_hours\": 0.52, \"competitive_route\": 1, \"bus_multiplier\": 1.6, \"bus_difference\": 18.6, \"num_trips\": 30, \"num_competitive\": 25, \"pct_trips_competitive\": 0.833, \"bus_difference_spread\": 23.4, \"route_group\": \"medium\", \"max_trip_hrs\": 1.22, \"max_trip_route_group\": 1.22, \"name\": \"Morongo Band of Mission Indians\", \"caltrans_district\": \"08 - San Bernardino\", \"drmt_organization_name\": null, \"cutoff2\": 30, \"cutoff\": 2}, {\"calitp_itp_id\": 212, \"trip_key\": -945826195563375557, \"trip_id\": \"t_869580_b_489_tn_0\", \"shape_id\": \"p_272\", \"route_id\": \"349\", \"service_hours\": 0.83, \"trip_first_departure_ts\": 50400, \"trip_last_arrival_ts\": 53400, \"departure_hour\": 14, \"time_of_day\": \"Midday\", \"p25\": 0.83, \"p50\": 0.83, \"p75\": 0.83, \"p50_trip\": 1, \"fastest_trip\": 0, \"car_duration_hours\": 0.52, \"competitive_route\": 1, \"bus_multiplier\": 1.6, \"bus_difference\": 18.6, \"num_trips\": 30, \"num_competitive\": 25, \"pct_trips_competitive\": 0.833, \"bus_difference_spread\": 23.4, \"route_group\": \"medium\", \"max_trip_hrs\": 1.22, \"max_trip_route_group\": 1.22, \"name\": \"Morongo Band of Mission Indians\", \"caltrans_district\": \"08 - San Bernardino\", \"drmt_organization_name\": null, \"cutoff2\": 30, \"cutoff\": 2}, {\"calitp_itp_id\": 212, \"trip_key\": 2025043753291756551, \"trip_id\": \"t_869588_b_489_tn_0\", \"shape_id\": \"p_279\", \"route_id\": \"349\", \"service_hours\": 0.83, \"trip_first_departure_ts\": 39600, \"trip_last_arrival_ts\": 42600, \"departure_hour\": 11, \"time_of_day\": \"Midday\", \"p25\": 0.83, \"p50\": 0.83, \"p75\": 0.83, \"p50_trip\": 1, \"fastest_trip\": 0, \"car_duration_hours\": 0.52, \"competitive_route\": 1, \"bus_multiplier\": 1.6, \"bus_difference\": 18.6, \"num_trips\": 30, \"num_competitive\": 25, \"pct_trips_competitive\": 0.833, \"bus_difference_spread\": 23.4, \"route_group\": \"medium\", \"max_trip_hrs\": 1.22, \"max_trip_route_group\": 1.22, \"name\": \"Morongo Band of Mission Indians\", \"caltrans_district\": \"08 - San Bernardino\", \"drmt_organization_name\": null, \"cutoff2\": 30, \"cutoff\": 2}, {\"calitp_itp_id\": 212, \"trip_key\": -2723586224887403272, \"trip_id\": \"t_869575_b_489_tn_0\", \"shape_id\": \"p_272\", \"route_id\": \"349\", \"service_hours\": 0.83, \"trip_first_departure_ts\": 32400, \"trip_last_arrival_ts\": 35400, \"departure_hour\": 9, \"time_of_day\": \"AM Peak\", \"p25\": 0.83, \"p50\": 0.83, \"p75\": 0.83, \"p50_trip\": 1, \"fastest_trip\": 0, \"car_duration_hours\": 0.52, \"competitive_route\": 1, \"bus_multiplier\": 1.6, \"bus_difference\": 18.6, \"num_trips\": 30, \"num_competitive\": 25, \"pct_trips_competitive\": 0.833, \"bus_difference_spread\": 23.4, \"route_group\": \"medium\", \"max_trip_hrs\": 1.22, \"max_trip_route_group\": 1.22, \"name\": \"Morongo Band of Mission Indians\", \"caltrans_district\": \"08 - San Bernardino\", \"drmt_organization_name\": null, \"cutoff2\": 30, \"cutoff\": 2}, {\"calitp_itp_id\": 212, \"trip_key\": 8278307551033318408, \"trip_id\": \"t_1384_b_489_tn_0\", \"shape_id\": \"p_178818\", \"route_id\": \"349\", \"service_hours\": 0.83, \"trip_first_departure_ts\": 21600, \"trip_last_arrival_ts\": 24600, \"departure_hour\": 6, \"time_of_day\": \"Owl Service\", \"p25\": 0.83, \"p50\": 0.83, \"p75\": 0.83, \"p50_trip\": 1, \"fastest_trip\": 0, \"car_duration_hours\": 0.52, \"competitive_route\": 1, \"bus_multiplier\": 1.6, \"bus_difference\": 18.6, \"num_trips\": 30, \"num_competitive\": 25, \"pct_trips_competitive\": 0.833, \"bus_difference_spread\": 23.4, \"route_group\": \"medium\", \"max_trip_hrs\": 1.22, \"max_trip_route_group\": 1.22, \"name\": \"Morongo Band of Mission Indians\", \"caltrans_district\": \"08 - San Bernardino\", \"drmt_organization_name\": null, \"cutoff2\": 30, \"cutoff\": 2}, {\"calitp_itp_id\": 212, \"trip_key\": -8497861685978056822, \"trip_id\": \"t_869589_b_489_tn_0\", \"shape_id\": \"p_279\", \"route_id\": \"349\", \"service_hours\": 0.83, \"trip_first_departure_ts\": 43200, \"trip_last_arrival_ts\": 46200, \"departure_hour\": 12, \"time_of_day\": \"Midday\", \"p25\": 0.83, \"p50\": 0.83, \"p75\": 0.83, \"p50_trip\": 1, \"fastest_trip\": 0, \"car_duration_hours\": 0.52, \"competitive_route\": 1, \"bus_multiplier\": 1.6, \"bus_difference\": 18.6, \"num_trips\": 30, \"num_competitive\": 25, \"pct_trips_competitive\": 0.833, \"bus_difference_spread\": 23.4, \"route_group\": \"medium\", \"max_trip_hrs\": 1.22, \"max_trip_route_group\": 1.22, \"name\": \"Morongo Band of Mission Indians\", \"caltrans_district\": \"08 - San Bernardino\", \"drmt_organization_name\": null, \"cutoff2\": 30, \"cutoff\": 2}, {\"calitp_itp_id\": 212, \"trip_key\": 516973843394186168, \"trip_id\": \"t_869576_b_489_tn_0\", \"shape_id\": \"p_272\", \"route_id\": \"349\", \"service_hours\": 0.83, \"trip_first_departure_ts\": 36000, \"trip_last_arrival_ts\": 39000, \"departure_hour\": 10, \"time_of_day\": \"Midday\", \"p25\": 0.83, \"p50\": 0.83, \"p75\": 0.83, \"p50_trip\": 1, \"fastest_trip\": 0, \"car_duration_hours\": 0.52, \"competitive_route\": 1, \"bus_multiplier\": 1.6, \"bus_difference\": 18.6, \"num_trips\": 30, \"num_competitive\": 25, \"pct_trips_competitive\": 0.833, \"bus_difference_spread\": 23.4, \"route_group\": \"medium\", \"max_trip_hrs\": 1.22, \"max_trip_route_group\": 1.22, \"name\": \"Morongo Band of Mission Indians\", \"caltrans_district\": \"08 - San Bernardino\", \"drmt_organization_name\": null, \"cutoff2\": 30, \"cutoff\": 2}, {\"calitp_itp_id\": 212, \"trip_key\": -996770051850407450, \"trip_id\": \"t_869579_b_489_tn_0\", \"shape_id\": \"p_272\", \"route_id\": \"349\", \"service_hours\": 0.83, \"trip_first_departure_ts\": 46800, \"trip_last_arrival_ts\": 49800, \"departure_hour\": 13, \"time_of_day\": \"Midday\", \"p25\": 0.83, \"p50\": 0.83, \"p75\": 0.83, \"p50_trip\": 1, \"fastest_trip\": 0, \"car_duration_hours\": 0.52, \"competitive_route\": 1, \"bus_multiplier\": 1.6, \"bus_difference\": 18.6, \"num_trips\": 30, \"num_competitive\": 25, \"pct_trips_competitive\": 0.833, \"bus_difference_spread\": 23.4, \"route_group\": \"medium\", \"max_trip_hrs\": 1.22, \"max_trip_route_group\": 1.22, \"name\": \"Morongo Band of Mission Indians\", \"caltrans_district\": \"08 - San Bernardino\", \"drmt_organization_name\": null, \"cutoff2\": 30, \"cutoff\": 2}, {\"calitp_itp_id\": 212, \"trip_key\": -5767180621765676816, \"trip_id\": \"t_1385_b_489_tn_0\", \"shape_id\": \"p_276\", \"route_id\": \"349\", \"service_hours\": 0.83, \"trip_first_departure_ts\": 21600, \"trip_last_arrival_ts\": 24600, \"departure_hour\": 6, \"time_of_day\": \"Owl Service\", \"p25\": 0.83, \"p50\": 0.83, \"p75\": 0.83, \"p50_trip\": 1, \"fastest_trip\": 0, \"car_duration_hours\": 0.52, \"competitive_route\": 1, \"bus_multiplier\": 1.6, \"bus_difference\": 18.6, \"num_trips\": 30, \"num_competitive\": 25, \"pct_trips_competitive\": 0.833, \"bus_difference_spread\": 23.4, \"route_group\": \"medium\", \"max_trip_hrs\": 1.22, \"max_trip_route_group\": 1.22, \"name\": \"Morongo Band of Mission Indians\", \"caltrans_district\": \"08 - San Bernardino\", \"drmt_organization_name\": null, \"cutoff2\": 30, \"cutoff\": 2}, {\"calitp_itp_id\": 212, \"trip_key\": -483327558155412322, \"trip_id\": \"t_869592_b_489_tn_0\", \"shape_id\": \"p_279\", \"route_id\": \"349\", \"service_hours\": 0.83, \"trip_first_departure_ts\": 54000, \"trip_last_arrival_ts\": 57000, \"departure_hour\": 15, \"time_of_day\": \"Midday\", \"p25\": 0.83, \"p50\": 0.83, \"p75\": 0.83, \"p50_trip\": 1, \"fastest_trip\": 0, \"car_duration_hours\": 0.52, \"competitive_route\": 1, \"bus_multiplier\": 1.6, \"bus_difference\": 18.6, \"num_trips\": 30, \"num_competitive\": 25, \"pct_trips_competitive\": 0.833, \"bus_difference_spread\": 23.4, \"route_group\": \"medium\", \"max_trip_hrs\": 1.22, \"max_trip_route_group\": 1.22, \"name\": \"Morongo Band of Mission Indians\", \"caltrans_district\": \"08 - San Bernardino\", \"drmt_organization_name\": null, \"cutoff2\": 30, \"cutoff\": 2}, {\"calitp_itp_id\": 212, \"trip_key\": 2806197447462977539, \"trip_id\": \"t_869573_b_489_tn_0\", \"shape_id\": \"p_272\", \"route_id\": \"349\", \"service_hours\": 0.83, \"trip_first_departure_ts\": 25200, \"trip_last_arrival_ts\": 28200, \"departure_hour\": 7, \"time_of_day\": \"AM Peak\", \"p25\": 0.83, \"p50\": 0.83, \"p75\": 0.83, \"p50_trip\": 1, \"fastest_trip\": 0, \"car_duration_hours\": 0.52, \"competitive_route\": 1, \"bus_multiplier\": 1.6, \"bus_difference\": 18.6, \"num_trips\": 30, \"num_competitive\": 25, \"pct_trips_competitive\": 0.833, \"bus_difference_spread\": 23.4, \"route_group\": \"medium\", \"max_trip_hrs\": 1.22, \"max_trip_route_group\": 1.22, \"name\": \"Morongo Band of Mission Indians\", \"caltrans_district\": \"08 - San Bernardino\", \"drmt_organization_name\": null, \"cutoff2\": 30, \"cutoff\": 2}, {\"calitp_itp_id\": 212, \"trip_key\": 7709892903398718119, \"trip_id\": \"t_869574_b_489_tn_0\", \"shape_id\": \"p_272\", \"route_id\": \"349\", \"service_hours\": 0.83, \"trip_first_departure_ts\": 28800, \"trip_last_arrival_ts\": 31800, \"departure_hour\": 8, \"time_of_day\": \"AM Peak\", \"p25\": 0.83, \"p50\": 0.83, \"p75\": 0.83, \"p50_trip\": 1, \"fastest_trip\": 0, \"car_duration_hours\": 0.52, \"competitive_route\": 1, \"bus_multiplier\": 1.6, \"bus_difference\": 18.6, \"num_trips\": 30, \"num_competitive\": 25, \"pct_trips_competitive\": 0.833, \"bus_difference_spread\": 23.4, \"route_group\": \"medium\", \"max_trip_hrs\": 1.22, \"max_trip_route_group\": 1.22, \"name\": \"Morongo Band of Mission Indians\", \"caltrans_district\": \"08 - San Bernardino\", \"drmt_organization_name\": null, \"cutoff2\": 30, \"cutoff\": 2}, {\"calitp_itp_id\": 212, \"trip_key\": -810498857071654717, \"trip_id\": \"t_869585_b_489_tn_0\", \"shape_id\": \"p_279\", \"route_id\": \"349\", \"service_hours\": 0.83, \"trip_first_departure_ts\": 28800, \"trip_last_arrival_ts\": 31800, \"departure_hour\": 8, \"time_of_day\": \"AM Peak\", \"p25\": 0.83, \"p50\": 0.83, \"p75\": 0.83, \"p50_trip\": 1, \"fastest_trip\": 0, \"car_duration_hours\": 0.52, \"competitive_route\": 1, \"bus_multiplier\": 1.6, \"bus_difference\": 18.6, \"num_trips\": 30, \"num_competitive\": 25, \"pct_trips_competitive\": 0.833, \"bus_difference_spread\": 23.4, \"route_group\": \"medium\", \"max_trip_hrs\": 1.22, \"max_trip_route_group\": 1.22, \"name\": \"Morongo Band of Mission Indians\", \"caltrans_district\": \"08 - San Bernardino\", \"drmt_organization_name\": null, \"cutoff2\": 30, \"cutoff\": 2}, {\"calitp_itp_id\": 212, \"trip_key\": -2636862393350685226, \"trip_id\": \"t_869587_b_489_tn_0\", \"shape_id\": \"p_279\", \"route_id\": \"349\", \"service_hours\": 0.83, \"trip_first_departure_ts\": 36000, \"trip_last_arrival_ts\": 39000, \"departure_hour\": 10, \"time_of_day\": \"Midday\", \"p25\": 0.83, \"p50\": 0.83, \"p75\": 0.83, \"p50_trip\": 1, \"fastest_trip\": 0, \"car_duration_hours\": 0.52, \"competitive_route\": 1, \"bus_multiplier\": 1.6, \"bus_difference\": 18.6, \"num_trips\": 30, \"num_competitive\": 25, \"pct_trips_competitive\": 0.833, \"bus_difference_spread\": 23.4, \"route_group\": \"medium\", \"max_trip_hrs\": 1.22, \"max_trip_route_group\": 1.22, \"name\": \"Morongo Band of Mission Indians\", \"caltrans_district\": \"08 - San Bernardino\", \"drmt_organization_name\": null, \"cutoff2\": 30, \"cutoff\": 2}, {\"calitp_itp_id\": 212, \"trip_key\": 3062303850922068630, \"trip_id\": \"t_869581_b_489_tn_0\", \"shape_id\": \"p_272\", \"route_id\": \"349\", \"service_hours\": 0.83, \"trip_first_departure_ts\": 54000, \"trip_last_arrival_ts\": 57000, \"departure_hour\": 15, \"time_of_day\": \"Midday\", \"p25\": 0.83, \"p50\": 0.83, \"p75\": 0.83, \"p50_trip\": 1, \"fastest_trip\": 0, \"car_duration_hours\": 0.52, \"competitive_route\": 1, \"bus_multiplier\": 1.6, \"bus_difference\": 18.6, \"num_trips\": 30, \"num_competitive\": 25, \"pct_trips_competitive\": 0.833, \"bus_difference_spread\": 23.4, \"route_group\": \"medium\", \"max_trip_hrs\": 1.22, \"max_trip_route_group\": 1.22, \"name\": \"Morongo Band of Mission Indians\", \"caltrans_district\": \"08 - San Bernardino\", \"drmt_organization_name\": null, \"cutoff2\": 30, \"cutoff\": 2}, {\"calitp_itp_id\": 212, \"trip_key\": 7188253574222009694, \"trip_id\": \"t_869586_b_489_tn_0\", \"shape_id\": \"p_279\", \"route_id\": \"349\", \"service_hours\": 0.83, \"trip_first_departure_ts\": 32400, \"trip_last_arrival_ts\": 35400, \"departure_hour\": 9, \"time_of_day\": \"AM Peak\", \"p25\": 0.83, \"p50\": 0.83, \"p75\": 0.83, \"p50_trip\": 1, \"fastest_trip\": 0, \"car_duration_hours\": 0.52, \"competitive_route\": 1, \"bus_multiplier\": 1.6, \"bus_difference\": 18.6, \"num_trips\": 30, \"num_competitive\": 25, \"pct_trips_competitive\": 0.833, \"bus_difference_spread\": 23.4, \"route_group\": \"medium\", \"max_trip_hrs\": 1.22, \"max_trip_route_group\": 1.22, \"name\": \"Morongo Band of Mission Indians\", \"caltrans_district\": \"08 - San Bernardino\", \"drmt_organization_name\": null, \"cutoff2\": 30, \"cutoff\": 2}, {\"calitp_itp_id\": 212, \"trip_key\": -3963691485412924367, \"trip_id\": \"t_869578_b_489_tn_0\", \"shape_id\": \"p_272\", \"route_id\": \"349\", \"service_hours\": 0.83, \"trip_first_departure_ts\": 43200, \"trip_last_arrival_ts\": 46200, \"departure_hour\": 12, \"time_of_day\": \"Midday\", \"p25\": 0.83, \"p50\": 0.83, \"p75\": 0.83, \"p50_trip\": 1, \"fastest_trip\": 0, \"car_duration_hours\": 0.52, \"competitive_route\": 1, \"bus_multiplier\": 1.6, \"bus_difference\": 18.6, \"num_trips\": 30, \"num_competitive\": 25, \"pct_trips_competitive\": 0.833, \"bus_difference_spread\": 23.4, \"route_group\": \"medium\", \"max_trip_hrs\": 1.22, \"max_trip_route_group\": 1.22, \"name\": \"Morongo Band of Mission Indians\", \"caltrans_district\": \"08 - San Bernardino\", \"drmt_organization_name\": null, \"cutoff2\": 30, \"cutoff\": 2}, {\"calitp_itp_id\": 212, \"trip_key\": -5301656924656097689, \"trip_id\": \"t_869593_b_489_tn_0\", \"shape_id\": \"p_279\", \"route_id\": \"349\", \"service_hours\": 0.83, \"trip_first_departure_ts\": 57600, \"trip_last_arrival_ts\": 60600, \"departure_hour\": 16, \"time_of_day\": \"Midday\", \"p25\": 0.83, \"p50\": 0.83, \"p75\": 0.83, \"p50_trip\": 1, \"fastest_trip\": 0, \"car_duration_hours\": 0.52, \"competitive_route\": 1, \"bus_multiplier\": 1.6, \"bus_difference\": 18.6, \"num_trips\": 30, \"num_competitive\": 25, \"pct_trips_competitive\": 0.833, \"bus_difference_spread\": 23.4, \"route_group\": \"medium\", \"max_trip_hrs\": 1.22, \"max_trip_route_group\": 1.22, \"name\": \"Morongo Band of Mission Indians\", \"caltrans_district\": \"08 - San Bernardino\", \"drmt_organization_name\": null, \"cutoff2\": 30, \"cutoff\": 2}, {\"calitp_itp_id\": 212, \"trip_key\": -764998138802977487, \"trip_id\": \"t_869583_b_489_tn_0\", \"shape_id\": \"p_272\", \"route_id\": \"349\", \"service_hours\": 0.83, \"trip_first_departure_ts\": 61200, \"trip_last_arrival_ts\": 64200, \"departure_hour\": 17, \"time_of_day\": \"PM Peak\", \"p25\": 0.83, \"p50\": 0.83, \"p75\": 0.83, \"p50_trip\": 1, \"fastest_trip\": 1, \"car_duration_hours\": 0.52, \"competitive_route\": 1, \"bus_multiplier\": 1.6, \"bus_difference\": 18.6, \"num_trips\": 30, \"num_competitive\": 25, \"pct_trips_competitive\": 0.833, \"bus_difference_spread\": 23.4, \"route_group\": \"medium\", \"max_trip_hrs\": 1.22, \"max_trip_route_group\": 1.22, \"name\": \"Morongo Band of Mission Indians\", \"caltrans_district\": \"08 - San Bernardino\", \"drmt_organization_name\": null, \"cutoff2\": 30, \"cutoff\": 2}, {\"calitp_itp_id\": 212, \"trip_key\": 2368826429394615188, \"trip_id\": \"t_1375_b_489_tn_0\", \"shape_id\": \"p_275\", \"route_id\": \"349\", \"service_hours\": 0.92, \"trip_first_departure_ts\": 76320, \"trip_last_arrival_ts\": 79620, \"departure_hour\": 21, \"time_of_day\": \"Owl Service\", \"p25\": 0.83, \"p50\": 0.83, \"p75\": 0.83, \"p50_trip\": 0, \"fastest_trip\": 0, \"car_duration_hours\": 0.52, \"competitive_route\": 1, \"bus_multiplier\": 1.77, \"bus_difference\": 24.0, \"num_trips\": 30, \"num_competitive\": 25, \"pct_trips_competitive\": 0.833, \"bus_difference_spread\": 23.4, \"route_group\": \"medium\", \"max_trip_hrs\": 1.22, \"max_trip_route_group\": 1.22, \"name\": \"Morongo Band of Mission Indians\", \"caltrans_district\": \"08 - San Bernardino\", \"drmt_organization_name\": null, \"cutoff2\": 30, \"cutoff\": 2}, {\"calitp_itp_id\": 212, \"trip_key\": -8441835833794788282, \"trip_id\": \"t_1388_b_489_tn_0\", \"shape_id\": \"p_280\", \"route_id\": \"349\", \"service_hours\": 1.0, \"trip_first_departure_ts\": 61200, \"trip_last_arrival_ts\": 64800, \"departure_hour\": 17, \"time_of_day\": \"PM Peak\", \"p25\": 0.83, \"p50\": 0.83, \"p75\": 0.83, \"p50_trip\": 0, \"fastest_trip\": 0, \"car_duration_hours\": 0.52, \"competitive_route\": 1, \"bus_multiplier\": 1.92, \"bus_difference\": 28.8, \"num_trips\": 30, \"num_competitive\": 25, \"pct_trips_competitive\": 0.833, \"bus_difference_spread\": 23.4, \"route_group\": \"medium\", \"max_trip_hrs\": 1.22, \"max_trip_route_group\": 1.22, \"name\": \"Morongo Band of Mission Indians\", \"caltrans_district\": \"08 - San Bernardino\", \"drmt_organization_name\": null, \"cutoff2\": 30, \"cutoff\": 2}, {\"calitp_itp_id\": 212, \"trip_key\": -6835242988218459180, \"trip_id\": \"t_1381_b_489_tn_0\", \"shape_id\": \"p_283\", \"route_id\": \"349\", \"service_hours\": 1.12, \"trip_first_departure_ts\": 72300, \"trip_last_arrival_ts\": 76320, \"departure_hour\": 20, \"time_of_day\": \"Owl Service\", \"p25\": 0.83, \"p50\": 0.83, \"p75\": 0.83, \"p50_trip\": 0, \"fastest_trip\": 0, \"car_duration_hours\": 0.52, \"competitive_route\": 1, \"bus_multiplier\": 2.15, \"bus_difference\": 36.0, \"num_trips\": 30, \"num_competitive\": 25, \"pct_trips_competitive\": 0.833, \"bus_difference_spread\": 23.4, \"route_group\": \"medium\", \"max_trip_hrs\": 1.22, \"max_trip_route_group\": 1.22, \"name\": \"Morongo Band of Mission Indians\", \"caltrans_district\": \"08 - San Bernardino\", \"drmt_organization_name\": null, \"cutoff2\": 30, \"cutoff\": 2}, {\"calitp_itp_id\": 212, \"trip_key\": 5683966584791188435, \"trip_id\": \"t_1379_b_489_tn_0\", \"shape_id\": \"p_275\", \"route_id\": \"349\", \"service_hours\": 1.15, \"trip_first_departure_ts\": 71700, \"trip_last_arrival_ts\": 75840, \"departure_hour\": 19, \"time_of_day\": \"PM Peak\", \"p25\": 0.83, \"p50\": 0.83, \"p75\": 0.83, \"p50_trip\": 0, \"fastest_trip\": 0, \"car_duration_hours\": 0.52, \"competitive_route\": 1, \"bus_multiplier\": 2.21, \"bus_difference\": 37.8, \"num_trips\": 30, \"num_competitive\": 25, \"pct_trips_competitive\": 0.833, \"bus_difference_spread\": 23.4, \"route_group\": \"medium\", \"max_trip_hrs\": 1.22, \"max_trip_route_group\": 1.22, \"name\": \"Morongo Band of Mission Indians\", \"caltrans_district\": \"08 - San Bernardino\", \"drmt_organization_name\": null, \"cutoff2\": 30, \"cutoff\": 2}, {\"calitp_itp_id\": 212, \"trip_key\": 3761178629967692239, \"trip_id\": \"t_1380_b_489_tn_0\", \"shape_id\": \"p_283\", \"route_id\": \"349\", \"service_hours\": 1.2, \"trip_first_departure_ts\": 67200, \"trip_last_arrival_ts\": 71520, \"departure_hour\": 18, \"time_of_day\": \"PM Peak\", \"p25\": 0.83, \"p50\": 0.83, \"p75\": 0.83, \"p50_trip\": 0, \"fastest_trip\": 0, \"car_duration_hours\": 0.52, \"competitive_route\": 1, \"bus_multiplier\": 2.31, \"bus_difference\": 40.8, \"num_trips\": 30, \"num_competitive\": 25, \"pct_trips_competitive\": 0.833, \"bus_difference_spread\": 23.4, \"route_group\": \"medium\", \"max_trip_hrs\": 1.22, \"max_trip_route_group\": 1.22, \"name\": \"Morongo Band of Mission Indians\", \"caltrans_district\": \"08 - San Bernardino\", \"drmt_organization_name\": null, \"cutoff2\": 30, \"cutoff\": 2}, {\"calitp_itp_id\": 212, \"trip_key\": -6285086006216661977, \"trip_id\": \"t_1373_b_489_tn_0\", \"shape_id\": \"p_283\", \"route_id\": \"349\", \"service_hours\": 1.2, \"trip_first_departure_ts\": 76200, \"trip_last_arrival_ts\": 80520, \"departure_hour\": 21, \"time_of_day\": \"Owl Service\", \"p25\": 0.83, \"p50\": 0.83, \"p75\": 0.83, \"p50_trip\": 0, \"fastest_trip\": 0, \"car_duration_hours\": 0.52, \"competitive_route\": 1, \"bus_multiplier\": 2.31, \"bus_difference\": 40.8, \"num_trips\": 30, \"num_competitive\": 25, \"pct_trips_competitive\": 0.833, \"bus_difference_spread\": 23.4, \"route_group\": \"medium\", \"max_trip_hrs\": 1.22, \"max_trip_route_group\": 1.22, \"name\": \"Morongo Band of Mission Indians\", \"caltrans_district\": \"08 - San Bernardino\", \"drmt_organization_name\": null, \"cutoff2\": 30, \"cutoff\": 2}, {\"calitp_itp_id\": 212, \"trip_key\": 2836149620275353042, \"trip_id\": \"t_1368_b_489_tn_0\", \"shape_id\": \"p_286\", \"route_id\": \"349\", \"service_hours\": 1.22, \"trip_first_departure_ts\": 67800, \"trip_last_arrival_ts\": 72180, \"departure_hour\": 18, \"time_of_day\": \"PM Peak\", \"p25\": 0.83, \"p50\": 0.83, \"p75\": 0.83, \"p50_trip\": 0, \"fastest_trip\": 0, \"car_duration_hours\": 0.52, \"competitive_route\": 1, \"bus_multiplier\": 2.35, \"bus_difference\": 42.0, \"num_trips\": 30, \"num_competitive\": 25, \"pct_trips_competitive\": 0.833, \"bus_difference_spread\": 23.4, \"route_group\": \"medium\", \"max_trip_hrs\": 1.22, \"max_trip_route_group\": 1.22, \"name\": \"Morongo Band of Mission Indians\", \"caltrans_district\": \"08 - San Bernardino\", \"drmt_organization_name\": null, \"cutoff2\": 30, \"cutoff\": 2}, {\"calitp_itp_id\": 212, \"trip_key\": 3090255030447947583, \"trip_id\": \"t_1392_b_489_tn_0\", \"shape_id\": \"p_288\", \"route_id\": \"350\", \"service_hours\": 0.92, \"trip_first_departure_ts\": 28500, \"trip_last_arrival_ts\": 31800, \"departure_hour\": 7, \"time_of_day\": \"AM Peak\", \"p25\": 0.92, \"p50\": 0.92, \"p75\": 0.92, \"p50_trip\": 1, \"fastest_trip\": 0, \"car_duration_hours\": 0.73, \"competitive_route\": 1, \"bus_multiplier\": 1.26, \"bus_difference\": 11.4, \"num_trips\": 6, \"num_competitive\": 6, \"pct_trips_competitive\": 1.0, \"bus_difference_spread\": 9.6, \"route_group\": \"medium\", \"max_trip_hrs\": 1.08, \"max_trip_route_group\": 1.22, \"name\": \"Morongo Band of Mission Indians\", \"caltrans_district\": \"08 - San Bernardino\", \"drmt_organization_name\": null, \"cutoff2\": 30, \"cutoff\": 2}, {\"calitp_itp_id\": 212, \"trip_key\": -7194114715627764428, \"trip_id\": \"t_1378_b_489_tn_0\", \"shape_id\": \"p_270\", \"route_id\": \"350\", \"service_hours\": 0.92, \"trip_first_departure_ts\": 60000, \"trip_last_arrival_ts\": 63300, \"departure_hour\": 16, \"time_of_day\": \"Midday\", \"p25\": 0.92, \"p50\": 0.92, \"p75\": 0.92, \"p50_trip\": 1, \"fastest_trip\": 0, \"car_duration_hours\": 0.73, \"competitive_route\": 1, \"bus_multiplier\": 1.26, \"bus_difference\": 11.4, \"num_trips\": 6, \"num_competitive\": 6, \"pct_trips_competitive\": 1.0, \"bus_difference_spread\": 9.6, \"route_group\": \"medium\", \"max_trip_hrs\": 1.08, \"max_trip_route_group\": 1.22, \"name\": \"Morongo Band of Mission Indians\", \"caltrans_district\": \"08 - San Bernardino\", \"drmt_organization_name\": null, \"cutoff2\": 30, \"cutoff\": 2}, {\"calitp_itp_id\": 212, \"trip_key\": -1982978580526997524, \"trip_id\": \"t_1377_b_489_tn_0\", \"shape_id\": \"p_270\", \"route_id\": \"350\", \"service_hours\": 0.92, \"trip_first_departure_ts\": 34800, \"trip_last_arrival_ts\": 38100, \"departure_hour\": 9, \"time_of_day\": \"AM Peak\", \"p25\": 0.92, \"p50\": 0.92, \"p75\": 0.92, \"p50_trip\": 1, \"fastest_trip\": 0, \"car_duration_hours\": 0.73, \"competitive_route\": 1, \"bus_multiplier\": 1.26, \"bus_difference\": 11.4, \"num_trips\": 6, \"num_competitive\": 6, \"pct_trips_competitive\": 1.0, \"bus_difference_spread\": 9.6, \"route_group\": \"medium\", \"max_trip_hrs\": 1.08, \"max_trip_route_group\": 1.22, \"name\": \"Morongo Band of Mission Indians\", \"caltrans_district\": \"08 - San Bernardino\", \"drmt_organization_name\": null, \"cutoff2\": 30, \"cutoff\": 2}, {\"calitp_itp_id\": 212, \"trip_key\": 4336152498001563059, \"trip_id\": \"t_1386_b_489_tn_0\", \"shape_id\": \"p_288\", \"route_id\": \"350\", \"service_hours\": 0.92, \"trip_first_departure_ts\": 63900, \"trip_last_arrival_ts\": 67200, \"departure_hour\": 17, \"time_of_day\": \"PM Peak\", \"p25\": 0.92, \"p50\": 0.92, \"p75\": 0.92, \"p50_trip\": 1, \"fastest_trip\": 1, \"car_duration_hours\": 0.73, \"competitive_route\": 1, \"bus_multiplier\": 1.26, \"bus_difference\": 11.4, \"num_trips\": 6, \"num_competitive\": 6, \"pct_trips_competitive\": 1.0, \"bus_difference_spread\": 9.6, \"route_group\": \"medium\", \"max_trip_hrs\": 1.08, \"max_trip_route_group\": 1.22, \"name\": \"Morongo Band of Mission Indians\", \"caltrans_district\": \"08 - San Bernardino\", \"drmt_organization_name\": null, \"cutoff2\": 30, \"cutoff\": 2}, {\"calitp_itp_id\": 212, \"trip_key\": 1121313051657293748, \"trip_id\": \"t_1376_b_489_tn_0\", \"shape_id\": \"p_270\", \"route_id\": \"350\", \"service_hours\": 0.92, \"trip_first_departure_ts\": 25200, \"trip_last_arrival_ts\": 28500, \"departure_hour\": 7, \"time_of_day\": \"AM Peak\", \"p25\": 0.92, \"p50\": 0.92, \"p75\": 0.92, \"p50_trip\": 1, \"fastest_trip\": 0, \"car_duration_hours\": 0.73, \"competitive_route\": 1, \"bus_multiplier\": 1.26, \"bus_difference\": 11.4, \"num_trips\": 6, \"num_competitive\": 6, \"pct_trips_competitive\": 1.0, \"bus_difference_spread\": 9.6, \"route_group\": \"medium\", \"max_trip_hrs\": 1.08, \"max_trip_route_group\": 1.22, \"name\": \"Morongo Band of Mission Indians\", \"caltrans_district\": \"08 - San Bernardino\", \"drmt_organization_name\": null, \"cutoff2\": 30, \"cutoff\": 2}, {\"calitp_itp_id\": 212, \"trip_key\": 4869777759681107014, \"trip_id\": \"t_1374_b_489_tn_0\", \"shape_id\": \"p_288\", \"route_id\": \"350\", \"service_hours\": 1.08, \"trip_first_departure_ts\": 38700, \"trip_last_arrival_ts\": 42600, \"departure_hour\": 10, \"time_of_day\": \"Midday\", \"p25\": 0.92, \"p50\": 0.92, \"p75\": 0.92, \"p50_trip\": 0, \"fastest_trip\": 0, \"car_duration_hours\": 0.73, \"competitive_route\": 1, \"bus_multiplier\": 1.48, \"bus_difference\": 21.0, \"num_trips\": 6, \"num_competitive\": 6, \"pct_trips_competitive\": 1.0, \"bus_difference_spread\": 9.6, \"route_group\": \"medium\", \"max_trip_hrs\": 1.08, \"max_trip_route_group\": 1.22, \"name\": \"Morongo Band of Mission Indians\", \"caltrans_district\": \"08 - San Bernardino\", \"drmt_organization_name\": null, \"cutoff2\": 30, \"cutoff\": 2}]}}, {\"mode\": \"vega-lite\"});\n",
       "</script>"
      ],
      "text/plain": [
       "alt.FacetChart(...)"
      ]
     },
     "metadata": {},
     "output_type": "display_data"
    },
    {
     "data": {
      "text/html": [
       "\n",
       "<div id=\"altair-viz-8daef1f4db2147c5bccd76310786543f\"></div>\n",
       "<script type=\"text/javascript\">\n",
       "  var VEGA_DEBUG = (typeof VEGA_DEBUG == \"undefined\") ? {} : VEGA_DEBUG;\n",
       "  (function(spec, embedOpt){\n",
       "    let outputDiv = document.currentScript.previousElementSibling;\n",
       "    if (outputDiv.id !== \"altair-viz-8daef1f4db2147c5bccd76310786543f\") {\n",
       "      outputDiv = document.getElementById(\"altair-viz-8daef1f4db2147c5bccd76310786543f\");\n",
       "    }\n",
       "    const paths = {\n",
       "      \"vega\": \"https://cdn.jsdelivr.net/npm//vega@5?noext\",\n",
       "      \"vega-lib\": \"https://cdn.jsdelivr.net/npm//vega-lib?noext\",\n",
       "      \"vega-lite\": \"https://cdn.jsdelivr.net/npm//vega-lite@4.17.0?noext\",\n",
       "      \"vega-embed\": \"https://cdn.jsdelivr.net/npm//vega-embed@6?noext\",\n",
       "    };\n",
       "\n",
       "    function maybeLoadScript(lib, version) {\n",
       "      var key = `${lib.replace(\"-\", \"\")}_version`;\n",
       "      return (VEGA_DEBUG[key] == version) ?\n",
       "        Promise.resolve(paths[lib]) :\n",
       "        new Promise(function(resolve, reject) {\n",
       "          var s = document.createElement('script');\n",
       "          document.getElementsByTagName(\"head\")[0].appendChild(s);\n",
       "          s.async = true;\n",
       "          s.onload = () => {\n",
       "            VEGA_DEBUG[key] = version;\n",
       "            return resolve(paths[lib]);\n",
       "          };\n",
       "          s.onerror = () => reject(`Error loading script: ${paths[lib]}`);\n",
       "          s.src = paths[lib];\n",
       "        });\n",
       "    }\n",
       "\n",
       "    function showError(err) {\n",
       "      outputDiv.innerHTML = `<div class=\"error\" style=\"color:red;\">${err}</div>`;\n",
       "      throw err;\n",
       "    }\n",
       "\n",
       "    function displayChart(vegaEmbed) {\n",
       "      vegaEmbed(outputDiv, spec, embedOpt)\n",
       "        .catch(err => showError(`Javascript Error: ${err.message}<br>This usually means there's a typo in your chart specification. See the javascript console for the full traceback.`));\n",
       "    }\n",
       "\n",
       "    if(typeof define === \"function\" && define.amd) {\n",
       "      requirejs.config({paths});\n",
       "      require([\"vega-embed\"], displayChart, err => showError(`Error loading script: ${err.message}`));\n",
       "    } else {\n",
       "      maybeLoadScript(\"vega\", \"5\")\n",
       "        .then(() => maybeLoadScript(\"vega-lite\", \"4.17.0\"))\n",
       "        .then(() => maybeLoadScript(\"vega-embed\", \"6\"))\n",
       "        .catch(showError)\n",
       "        .then(() => displayChart(vegaEmbed));\n",
       "    }\n",
       "  })({\"config\": {\"view\": {\"continuousWidth\": 400, \"continuousHeight\": 300, \"stroke\": null}, \"facet\": {\"spacing\": 0}}, \"data\": {\"name\": \"data-aa43c51b439eeff0eaab125609461441\"}, \"facet\": {\"column\": {\"field\": \"route_id\", \"sort\": [\"350\", \"349\"], \"title\": \"Route ID\", \"type\": \"nominal\"}}, \"spec\": {\"layer\": [{\"mark\": {\"type\": \"point\", \"opacity\": 0.65, \"size\": 12, \"strokeWidth\": 1.1}, \"encoding\": {\"color\": {\"field\": \"time_of_day\", \"scale\": {\"range\": [\"#136C97\", \"#E16B26\", \"#F6BF16\", \"#00896B\", \"#7790A3\", \"#5B559C\"]}, \"sort\": [\"AM Peak\", \"Midday\", \"PM Peak\", \"Owl Service\"], \"title\": \"Time of Day\", \"type\": \"nominal\"}, \"tooltip\": [{\"field\": \"route_id\", \"type\": \"nominal\"}, {\"field\": \"trip_id\", \"type\": \"nominal\"}, {\"field\": \"service_hours\", \"type\": \"quantitative\"}, {\"field\": \"car_duration_hours\", \"type\": \"quantitative\"}, {\"field\": \"bus_multiplier\", \"type\": \"quantitative\"}, {\"field\": \"bus_difference\", \"type\": \"quantitative\"}, {\"field\": \"num_trips\", \"type\": \"quantitative\"}, {\"field\": \"num_competitive\", \"type\": \"quantitative\"}, {\"field\": \"pct_trips_competitive\", \"type\": \"quantitative\"}, {\"field\": \"p25\", \"type\": \"quantitative\"}, {\"field\": \"p50\", \"type\": \"quantitative\"}, {\"field\": \"p75\", \"type\": \"quantitative\"}], \"x\": {\"axis\": {\"grid\": false, \"labels\": false, \"ticks\": true, \"values\": [0]}, \"field\": \"jitter\", \"scale\": {}, \"title\": null, \"type\": \"quantitative\"}, \"y\": {\"field\": \"bus_difference\", \"scale\": {\"domain\": [-5, 42.0]}, \"title\": \"Difference in Bus to Car Travel Time (min)\", \"type\": \"quantitative\"}}, \"selection\": {\"selector004\": {\"type\": \"interval\", \"bind\": \"scales\", \"encodings\": [\"x\", \"y\"]}}, \"transform\": [{\"calculate\": \"sqrt(-2*log(random()))*cos(2*PI*random())\", \"as\": \"jitter\"}], \"width\": 60}, {\"layer\": [{\"mark\": {\"type\": \"point\", \"opacity\": 0.6, \"size\": 20, \"strokeWidth\": 1.3}, \"encoding\": {\"color\": {\"value\": \"#323434\"}, \"y\": {\"field\": \"bus_difference\", \"type\": \"quantitative\"}}, \"transform\": [{\"filter\": \"(datum.p50_trip === 1)\"}]}, {\"mark\": {\"type\": \"rule\", \"strokeDash\": [2, 3]}, \"encoding\": {\"color\": {\"value\": \"#323434\"}, \"y\": {\"field\": \"cutoff\", \"type\": \"quantitative\"}}}, {\"mark\": {\"type\": \"rule\", \"strokeDash\": [2, 3]}, \"encoding\": {\"color\": {\"value\": \"#136C97\"}, \"y\": {\"field\": \"cutoff2\", \"type\": \"quantitative\"}}}, {\"mark\": {\"type\": \"text\", \"align\": \"center\", \"baseline\": \"middle\"}, \"encoding\": {\"color\": {\"value\": \"black\"}, \"text\": {\"field\": \"pct_trips_competitive\", \"format\": \".0%\", \"type\": \"quantitative\"}, \"tooltip\": [{\"field\": \"route_id\", \"type\": \"nominal\"}, {\"field\": \"trip_id\", \"type\": \"nominal\"}, {\"field\": \"service_hours\", \"type\": \"quantitative\"}, {\"field\": \"car_duration_hours\", \"type\": \"quantitative\"}, {\"field\": \"bus_multiplier\", \"type\": \"quantitative\"}, {\"field\": \"bus_difference\", \"type\": \"quantitative\"}, {\"field\": \"num_trips\", \"type\": \"quantitative\"}, {\"field\": \"num_competitive\", \"type\": \"quantitative\"}, {\"field\": \"pct_trips_competitive\", \"type\": \"quantitative\"}, {\"field\": \"p25\", \"type\": \"quantitative\"}, {\"field\": \"p50\", \"type\": \"quantitative\"}, {\"field\": \"p75\", \"type\": \"quantitative\"}], \"x\": {\"value\": 30}, \"y\": {\"value\": 15}}, \"transform\": [{\"calculate\": \"sqrt(-2*log(random()))*cos(2*PI*random())\", \"as\": \"jitter\"}, {\"filter\": \"(datum.fastest_trip === 1)\"}]}]}]}, \"resolve\": {\"scale\": {\"y\": \"shared\"}}, \"title\": \"Difference in Bus to Car Travel Time (min)\", \"$schema\": \"https://vega.github.io/schema/vega-lite/v4.17.0.json\", \"datasets\": {\"data-aa43c51b439eeff0eaab125609461441\": [{\"calitp_itp_id\": 212, \"trip_key\": 5850337236365362568, \"trip_id\": \"t_869590_b_489_tn_0\", \"shape_id\": \"p_279\", \"route_id\": \"349\", \"service_hours\": 0.83, \"trip_first_departure_ts\": 46800, \"trip_last_arrival_ts\": 49800, \"departure_hour\": 13, \"time_of_day\": \"Midday\", \"p25\": 0.83, \"p50\": 0.83, \"p75\": 0.83, \"p50_trip\": 1, \"fastest_trip\": 0, \"car_duration_hours\": 0.52, \"competitive_route\": 1, \"bus_multiplier\": 1.6, \"bus_difference\": 18.6, \"num_trips\": 30, \"num_competitive\": 25, \"pct_trips_competitive\": 0.833, \"bus_difference_spread\": 23.4, \"route_group\": \"medium\", \"max_trip_hrs\": 1.22, \"max_trip_route_group\": 1.22, \"name\": \"Morongo Band of Mission Indians\", \"caltrans_district\": \"08 - San Bernardino\", \"drmt_organization_name\": null, \"cutoff2\": 30, \"cutoff\": 0}, {\"calitp_itp_id\": 212, \"trip_key\": -3733284907296554600, \"trip_id\": \"t_869584_b_489_tn_0\", \"shape_id\": \"p_279\", \"route_id\": \"349\", \"service_hours\": 0.83, \"trip_first_departure_ts\": 25200, \"trip_last_arrival_ts\": 28200, \"departure_hour\": 7, \"time_of_day\": \"AM Peak\", \"p25\": 0.83, \"p50\": 0.83, \"p75\": 0.83, \"p50_trip\": 1, \"fastest_trip\": 0, \"car_duration_hours\": 0.52, \"competitive_route\": 1, \"bus_multiplier\": 1.6, \"bus_difference\": 18.6, \"num_trips\": 30, \"num_competitive\": 25, \"pct_trips_competitive\": 0.833, \"bus_difference_spread\": 23.4, \"route_group\": \"medium\", \"max_trip_hrs\": 1.22, \"max_trip_route_group\": 1.22, \"name\": \"Morongo Band of Mission Indians\", \"caltrans_district\": \"08 - San Bernardino\", \"drmt_organization_name\": null, \"cutoff2\": 30, \"cutoff\": 0}, {\"calitp_itp_id\": 212, \"trip_key\": -6680245441941794366, \"trip_id\": \"t_869591_b_489_tn_0\", \"shape_id\": \"p_279\", \"route_id\": \"349\", \"service_hours\": 0.83, \"trip_first_departure_ts\": 50400, \"trip_last_arrival_ts\": 53400, \"departure_hour\": 14, \"time_of_day\": \"Midday\", \"p25\": 0.83, \"p50\": 0.83, \"p75\": 0.83, \"p50_trip\": 1, \"fastest_trip\": 0, \"car_duration_hours\": 0.52, \"competitive_route\": 1, \"bus_multiplier\": 1.6, \"bus_difference\": 18.6, \"num_trips\": 30, \"num_competitive\": 25, \"pct_trips_competitive\": 0.833, \"bus_difference_spread\": 23.4, \"route_group\": \"medium\", \"max_trip_hrs\": 1.22, \"max_trip_route_group\": 1.22, \"name\": \"Morongo Band of Mission Indians\", \"caltrans_district\": \"08 - San Bernardino\", \"drmt_organization_name\": null, \"cutoff2\": 30, \"cutoff\": 0}, {\"calitp_itp_id\": 212, \"trip_key\": -3539033563784263740, \"trip_id\": \"t_869577_b_489_tn_0\", \"shape_id\": \"p_272\", \"route_id\": \"349\", \"service_hours\": 0.83, \"trip_first_departure_ts\": 39600, \"trip_last_arrival_ts\": 42600, \"departure_hour\": 11, \"time_of_day\": \"Midday\", \"p25\": 0.83, \"p50\": 0.83, \"p75\": 0.83, \"p50_trip\": 1, \"fastest_trip\": 0, \"car_duration_hours\": 0.52, \"competitive_route\": 1, \"bus_multiplier\": 1.6, \"bus_difference\": 18.6, \"num_trips\": 30, \"num_competitive\": 25, \"pct_trips_competitive\": 0.833, \"bus_difference_spread\": 23.4, \"route_group\": \"medium\", \"max_trip_hrs\": 1.22, \"max_trip_route_group\": 1.22, \"name\": \"Morongo Band of Mission Indians\", \"caltrans_district\": \"08 - San Bernardino\", \"drmt_organization_name\": null, \"cutoff2\": 30, \"cutoff\": 0}, {\"calitp_itp_id\": 212, \"trip_key\": 7716272102889482960, \"trip_id\": \"t_869582_b_489_tn_0\", \"shape_id\": \"p_272\", \"route_id\": \"349\", \"service_hours\": 0.83, \"trip_first_departure_ts\": 57600, \"trip_last_arrival_ts\": 60600, \"departure_hour\": 16, \"time_of_day\": \"Midday\", \"p25\": 0.83, \"p50\": 0.83, \"p75\": 0.83, \"p50_trip\": 1, \"fastest_trip\": 0, \"car_duration_hours\": 0.52, \"competitive_route\": 1, \"bus_multiplier\": 1.6, \"bus_difference\": 18.6, \"num_trips\": 30, \"num_competitive\": 25, \"pct_trips_competitive\": 0.833, \"bus_difference_spread\": 23.4, \"route_group\": \"medium\", \"max_trip_hrs\": 1.22, \"max_trip_route_group\": 1.22, \"name\": \"Morongo Band of Mission Indians\", \"caltrans_district\": \"08 - San Bernardino\", \"drmt_organization_name\": null, \"cutoff2\": 30, \"cutoff\": 0}, {\"calitp_itp_id\": 212, \"trip_key\": -945826195563375557, \"trip_id\": \"t_869580_b_489_tn_0\", \"shape_id\": \"p_272\", \"route_id\": \"349\", \"service_hours\": 0.83, \"trip_first_departure_ts\": 50400, \"trip_last_arrival_ts\": 53400, \"departure_hour\": 14, \"time_of_day\": \"Midday\", \"p25\": 0.83, \"p50\": 0.83, \"p75\": 0.83, \"p50_trip\": 1, \"fastest_trip\": 0, \"car_duration_hours\": 0.52, \"competitive_route\": 1, \"bus_multiplier\": 1.6, \"bus_difference\": 18.6, \"num_trips\": 30, \"num_competitive\": 25, \"pct_trips_competitive\": 0.833, \"bus_difference_spread\": 23.4, \"route_group\": \"medium\", \"max_trip_hrs\": 1.22, \"max_trip_route_group\": 1.22, \"name\": \"Morongo Band of Mission Indians\", \"caltrans_district\": \"08 - San Bernardino\", \"drmt_organization_name\": null, \"cutoff2\": 30, \"cutoff\": 0}, {\"calitp_itp_id\": 212, \"trip_key\": 2025043753291756551, \"trip_id\": \"t_869588_b_489_tn_0\", \"shape_id\": \"p_279\", \"route_id\": \"349\", \"service_hours\": 0.83, \"trip_first_departure_ts\": 39600, \"trip_last_arrival_ts\": 42600, \"departure_hour\": 11, \"time_of_day\": \"Midday\", \"p25\": 0.83, \"p50\": 0.83, \"p75\": 0.83, \"p50_trip\": 1, \"fastest_trip\": 0, \"car_duration_hours\": 0.52, \"competitive_route\": 1, \"bus_multiplier\": 1.6, \"bus_difference\": 18.6, \"num_trips\": 30, \"num_competitive\": 25, \"pct_trips_competitive\": 0.833, \"bus_difference_spread\": 23.4, \"route_group\": \"medium\", \"max_trip_hrs\": 1.22, \"max_trip_route_group\": 1.22, \"name\": \"Morongo Band of Mission Indians\", \"caltrans_district\": \"08 - San Bernardino\", \"drmt_organization_name\": null, \"cutoff2\": 30, \"cutoff\": 0}, {\"calitp_itp_id\": 212, \"trip_key\": -2723586224887403272, \"trip_id\": \"t_869575_b_489_tn_0\", \"shape_id\": \"p_272\", \"route_id\": \"349\", \"service_hours\": 0.83, \"trip_first_departure_ts\": 32400, \"trip_last_arrival_ts\": 35400, \"departure_hour\": 9, \"time_of_day\": \"AM Peak\", \"p25\": 0.83, \"p50\": 0.83, \"p75\": 0.83, \"p50_trip\": 1, \"fastest_trip\": 0, \"car_duration_hours\": 0.52, \"competitive_route\": 1, \"bus_multiplier\": 1.6, \"bus_difference\": 18.6, \"num_trips\": 30, \"num_competitive\": 25, \"pct_trips_competitive\": 0.833, \"bus_difference_spread\": 23.4, \"route_group\": \"medium\", \"max_trip_hrs\": 1.22, \"max_trip_route_group\": 1.22, \"name\": \"Morongo Band of Mission Indians\", \"caltrans_district\": \"08 - San Bernardino\", \"drmt_organization_name\": null, \"cutoff2\": 30, \"cutoff\": 0}, {\"calitp_itp_id\": 212, \"trip_key\": 8278307551033318408, \"trip_id\": \"t_1384_b_489_tn_0\", \"shape_id\": \"p_178818\", \"route_id\": \"349\", \"service_hours\": 0.83, \"trip_first_departure_ts\": 21600, \"trip_last_arrival_ts\": 24600, \"departure_hour\": 6, \"time_of_day\": \"Owl Service\", \"p25\": 0.83, \"p50\": 0.83, \"p75\": 0.83, \"p50_trip\": 1, \"fastest_trip\": 0, \"car_duration_hours\": 0.52, \"competitive_route\": 1, \"bus_multiplier\": 1.6, \"bus_difference\": 18.6, \"num_trips\": 30, \"num_competitive\": 25, \"pct_trips_competitive\": 0.833, \"bus_difference_spread\": 23.4, \"route_group\": \"medium\", \"max_trip_hrs\": 1.22, \"max_trip_route_group\": 1.22, \"name\": \"Morongo Band of Mission Indians\", \"caltrans_district\": \"08 - San Bernardino\", \"drmt_organization_name\": null, \"cutoff2\": 30, \"cutoff\": 0}, {\"calitp_itp_id\": 212, \"trip_key\": -8497861685978056822, \"trip_id\": \"t_869589_b_489_tn_0\", \"shape_id\": \"p_279\", \"route_id\": \"349\", \"service_hours\": 0.83, \"trip_first_departure_ts\": 43200, \"trip_last_arrival_ts\": 46200, \"departure_hour\": 12, \"time_of_day\": \"Midday\", \"p25\": 0.83, \"p50\": 0.83, \"p75\": 0.83, \"p50_trip\": 1, \"fastest_trip\": 0, \"car_duration_hours\": 0.52, \"competitive_route\": 1, \"bus_multiplier\": 1.6, \"bus_difference\": 18.6, \"num_trips\": 30, \"num_competitive\": 25, \"pct_trips_competitive\": 0.833, \"bus_difference_spread\": 23.4, \"route_group\": \"medium\", \"max_trip_hrs\": 1.22, \"max_trip_route_group\": 1.22, \"name\": \"Morongo Band of Mission Indians\", \"caltrans_district\": \"08 - San Bernardino\", \"drmt_organization_name\": null, \"cutoff2\": 30, \"cutoff\": 0}, {\"calitp_itp_id\": 212, \"trip_key\": 516973843394186168, \"trip_id\": \"t_869576_b_489_tn_0\", \"shape_id\": \"p_272\", \"route_id\": \"349\", \"service_hours\": 0.83, \"trip_first_departure_ts\": 36000, \"trip_last_arrival_ts\": 39000, \"departure_hour\": 10, \"time_of_day\": \"Midday\", \"p25\": 0.83, \"p50\": 0.83, \"p75\": 0.83, \"p50_trip\": 1, \"fastest_trip\": 0, \"car_duration_hours\": 0.52, \"competitive_route\": 1, \"bus_multiplier\": 1.6, \"bus_difference\": 18.6, \"num_trips\": 30, \"num_competitive\": 25, \"pct_trips_competitive\": 0.833, \"bus_difference_spread\": 23.4, \"route_group\": \"medium\", \"max_trip_hrs\": 1.22, \"max_trip_route_group\": 1.22, \"name\": \"Morongo Band of Mission Indians\", \"caltrans_district\": \"08 - San Bernardino\", \"drmt_organization_name\": null, \"cutoff2\": 30, \"cutoff\": 0}, {\"calitp_itp_id\": 212, \"trip_key\": -996770051850407450, \"trip_id\": \"t_869579_b_489_tn_0\", \"shape_id\": \"p_272\", \"route_id\": \"349\", \"service_hours\": 0.83, \"trip_first_departure_ts\": 46800, \"trip_last_arrival_ts\": 49800, \"departure_hour\": 13, \"time_of_day\": \"Midday\", \"p25\": 0.83, \"p50\": 0.83, \"p75\": 0.83, \"p50_trip\": 1, \"fastest_trip\": 0, \"car_duration_hours\": 0.52, \"competitive_route\": 1, \"bus_multiplier\": 1.6, \"bus_difference\": 18.6, \"num_trips\": 30, \"num_competitive\": 25, \"pct_trips_competitive\": 0.833, \"bus_difference_spread\": 23.4, \"route_group\": \"medium\", \"max_trip_hrs\": 1.22, \"max_trip_route_group\": 1.22, \"name\": \"Morongo Band of Mission Indians\", \"caltrans_district\": \"08 - San Bernardino\", \"drmt_organization_name\": null, \"cutoff2\": 30, \"cutoff\": 0}, {\"calitp_itp_id\": 212, \"trip_key\": -5767180621765676816, \"trip_id\": \"t_1385_b_489_tn_0\", \"shape_id\": \"p_276\", \"route_id\": \"349\", \"service_hours\": 0.83, \"trip_first_departure_ts\": 21600, \"trip_last_arrival_ts\": 24600, \"departure_hour\": 6, \"time_of_day\": \"Owl Service\", \"p25\": 0.83, \"p50\": 0.83, \"p75\": 0.83, \"p50_trip\": 1, \"fastest_trip\": 0, \"car_duration_hours\": 0.52, \"competitive_route\": 1, \"bus_multiplier\": 1.6, \"bus_difference\": 18.6, \"num_trips\": 30, \"num_competitive\": 25, \"pct_trips_competitive\": 0.833, \"bus_difference_spread\": 23.4, \"route_group\": \"medium\", \"max_trip_hrs\": 1.22, \"max_trip_route_group\": 1.22, \"name\": \"Morongo Band of Mission Indians\", \"caltrans_district\": \"08 - San Bernardino\", \"drmt_organization_name\": null, \"cutoff2\": 30, \"cutoff\": 0}, {\"calitp_itp_id\": 212, \"trip_key\": -483327558155412322, \"trip_id\": \"t_869592_b_489_tn_0\", \"shape_id\": \"p_279\", \"route_id\": \"349\", \"service_hours\": 0.83, \"trip_first_departure_ts\": 54000, \"trip_last_arrival_ts\": 57000, \"departure_hour\": 15, \"time_of_day\": \"Midday\", \"p25\": 0.83, \"p50\": 0.83, \"p75\": 0.83, \"p50_trip\": 1, \"fastest_trip\": 0, \"car_duration_hours\": 0.52, \"competitive_route\": 1, \"bus_multiplier\": 1.6, \"bus_difference\": 18.6, \"num_trips\": 30, \"num_competitive\": 25, \"pct_trips_competitive\": 0.833, \"bus_difference_spread\": 23.4, \"route_group\": \"medium\", \"max_trip_hrs\": 1.22, \"max_trip_route_group\": 1.22, \"name\": \"Morongo Band of Mission Indians\", \"caltrans_district\": \"08 - San Bernardino\", \"drmt_organization_name\": null, \"cutoff2\": 30, \"cutoff\": 0}, {\"calitp_itp_id\": 212, \"trip_key\": 2806197447462977539, \"trip_id\": \"t_869573_b_489_tn_0\", \"shape_id\": \"p_272\", \"route_id\": \"349\", \"service_hours\": 0.83, \"trip_first_departure_ts\": 25200, \"trip_last_arrival_ts\": 28200, \"departure_hour\": 7, \"time_of_day\": \"AM Peak\", \"p25\": 0.83, \"p50\": 0.83, \"p75\": 0.83, \"p50_trip\": 1, \"fastest_trip\": 0, \"car_duration_hours\": 0.52, \"competitive_route\": 1, \"bus_multiplier\": 1.6, \"bus_difference\": 18.6, \"num_trips\": 30, \"num_competitive\": 25, \"pct_trips_competitive\": 0.833, \"bus_difference_spread\": 23.4, \"route_group\": \"medium\", \"max_trip_hrs\": 1.22, \"max_trip_route_group\": 1.22, \"name\": \"Morongo Band of Mission Indians\", \"caltrans_district\": \"08 - San Bernardino\", \"drmt_organization_name\": null, \"cutoff2\": 30, \"cutoff\": 0}, {\"calitp_itp_id\": 212, \"trip_key\": 7709892903398718119, \"trip_id\": \"t_869574_b_489_tn_0\", \"shape_id\": \"p_272\", \"route_id\": \"349\", \"service_hours\": 0.83, \"trip_first_departure_ts\": 28800, \"trip_last_arrival_ts\": 31800, \"departure_hour\": 8, \"time_of_day\": \"AM Peak\", \"p25\": 0.83, \"p50\": 0.83, \"p75\": 0.83, \"p50_trip\": 1, \"fastest_trip\": 0, \"car_duration_hours\": 0.52, \"competitive_route\": 1, \"bus_multiplier\": 1.6, \"bus_difference\": 18.6, \"num_trips\": 30, \"num_competitive\": 25, \"pct_trips_competitive\": 0.833, \"bus_difference_spread\": 23.4, \"route_group\": \"medium\", \"max_trip_hrs\": 1.22, \"max_trip_route_group\": 1.22, \"name\": \"Morongo Band of Mission Indians\", \"caltrans_district\": \"08 - San Bernardino\", \"drmt_organization_name\": null, \"cutoff2\": 30, \"cutoff\": 0}, {\"calitp_itp_id\": 212, \"trip_key\": -810498857071654717, \"trip_id\": \"t_869585_b_489_tn_0\", \"shape_id\": \"p_279\", \"route_id\": \"349\", \"service_hours\": 0.83, \"trip_first_departure_ts\": 28800, \"trip_last_arrival_ts\": 31800, \"departure_hour\": 8, \"time_of_day\": \"AM Peak\", \"p25\": 0.83, \"p50\": 0.83, \"p75\": 0.83, \"p50_trip\": 1, \"fastest_trip\": 0, \"car_duration_hours\": 0.52, \"competitive_route\": 1, \"bus_multiplier\": 1.6, \"bus_difference\": 18.6, \"num_trips\": 30, \"num_competitive\": 25, \"pct_trips_competitive\": 0.833, \"bus_difference_spread\": 23.4, \"route_group\": \"medium\", \"max_trip_hrs\": 1.22, \"max_trip_route_group\": 1.22, \"name\": \"Morongo Band of Mission Indians\", \"caltrans_district\": \"08 - San Bernardino\", \"drmt_organization_name\": null, \"cutoff2\": 30, \"cutoff\": 0}, {\"calitp_itp_id\": 212, \"trip_key\": -2636862393350685226, \"trip_id\": \"t_869587_b_489_tn_0\", \"shape_id\": \"p_279\", \"route_id\": \"349\", \"service_hours\": 0.83, \"trip_first_departure_ts\": 36000, \"trip_last_arrival_ts\": 39000, \"departure_hour\": 10, \"time_of_day\": \"Midday\", \"p25\": 0.83, \"p50\": 0.83, \"p75\": 0.83, \"p50_trip\": 1, \"fastest_trip\": 0, \"car_duration_hours\": 0.52, \"competitive_route\": 1, \"bus_multiplier\": 1.6, \"bus_difference\": 18.6, \"num_trips\": 30, \"num_competitive\": 25, \"pct_trips_competitive\": 0.833, \"bus_difference_spread\": 23.4, \"route_group\": \"medium\", \"max_trip_hrs\": 1.22, \"max_trip_route_group\": 1.22, \"name\": \"Morongo Band of Mission Indians\", \"caltrans_district\": \"08 - San Bernardino\", \"drmt_organization_name\": null, \"cutoff2\": 30, \"cutoff\": 0}, {\"calitp_itp_id\": 212, \"trip_key\": 3062303850922068630, \"trip_id\": \"t_869581_b_489_tn_0\", \"shape_id\": \"p_272\", \"route_id\": \"349\", \"service_hours\": 0.83, \"trip_first_departure_ts\": 54000, \"trip_last_arrival_ts\": 57000, \"departure_hour\": 15, \"time_of_day\": \"Midday\", \"p25\": 0.83, \"p50\": 0.83, \"p75\": 0.83, \"p50_trip\": 1, \"fastest_trip\": 0, \"car_duration_hours\": 0.52, \"competitive_route\": 1, \"bus_multiplier\": 1.6, \"bus_difference\": 18.6, \"num_trips\": 30, \"num_competitive\": 25, \"pct_trips_competitive\": 0.833, \"bus_difference_spread\": 23.4, \"route_group\": \"medium\", \"max_trip_hrs\": 1.22, \"max_trip_route_group\": 1.22, \"name\": \"Morongo Band of Mission Indians\", \"caltrans_district\": \"08 - San Bernardino\", \"drmt_organization_name\": null, \"cutoff2\": 30, \"cutoff\": 0}, {\"calitp_itp_id\": 212, \"trip_key\": 7188253574222009694, \"trip_id\": \"t_869586_b_489_tn_0\", \"shape_id\": \"p_279\", \"route_id\": \"349\", \"service_hours\": 0.83, \"trip_first_departure_ts\": 32400, \"trip_last_arrival_ts\": 35400, \"departure_hour\": 9, \"time_of_day\": \"AM Peak\", \"p25\": 0.83, \"p50\": 0.83, \"p75\": 0.83, \"p50_trip\": 1, \"fastest_trip\": 0, \"car_duration_hours\": 0.52, \"competitive_route\": 1, \"bus_multiplier\": 1.6, \"bus_difference\": 18.6, \"num_trips\": 30, \"num_competitive\": 25, \"pct_trips_competitive\": 0.833, \"bus_difference_spread\": 23.4, \"route_group\": \"medium\", \"max_trip_hrs\": 1.22, \"max_trip_route_group\": 1.22, \"name\": \"Morongo Band of Mission Indians\", \"caltrans_district\": \"08 - San Bernardino\", \"drmt_organization_name\": null, \"cutoff2\": 30, \"cutoff\": 0}, {\"calitp_itp_id\": 212, \"trip_key\": -3963691485412924367, \"trip_id\": \"t_869578_b_489_tn_0\", \"shape_id\": \"p_272\", \"route_id\": \"349\", \"service_hours\": 0.83, \"trip_first_departure_ts\": 43200, \"trip_last_arrival_ts\": 46200, \"departure_hour\": 12, \"time_of_day\": \"Midday\", \"p25\": 0.83, \"p50\": 0.83, \"p75\": 0.83, \"p50_trip\": 1, \"fastest_trip\": 0, \"car_duration_hours\": 0.52, \"competitive_route\": 1, \"bus_multiplier\": 1.6, \"bus_difference\": 18.6, \"num_trips\": 30, \"num_competitive\": 25, \"pct_trips_competitive\": 0.833, \"bus_difference_spread\": 23.4, \"route_group\": \"medium\", \"max_trip_hrs\": 1.22, \"max_trip_route_group\": 1.22, \"name\": \"Morongo Band of Mission Indians\", \"caltrans_district\": \"08 - San Bernardino\", \"drmt_organization_name\": null, \"cutoff2\": 30, \"cutoff\": 0}, {\"calitp_itp_id\": 212, \"trip_key\": -5301656924656097689, \"trip_id\": \"t_869593_b_489_tn_0\", \"shape_id\": \"p_279\", \"route_id\": \"349\", \"service_hours\": 0.83, \"trip_first_departure_ts\": 57600, \"trip_last_arrival_ts\": 60600, \"departure_hour\": 16, \"time_of_day\": \"Midday\", \"p25\": 0.83, \"p50\": 0.83, \"p75\": 0.83, \"p50_trip\": 1, \"fastest_trip\": 0, \"car_duration_hours\": 0.52, \"competitive_route\": 1, \"bus_multiplier\": 1.6, \"bus_difference\": 18.6, \"num_trips\": 30, \"num_competitive\": 25, \"pct_trips_competitive\": 0.833, \"bus_difference_spread\": 23.4, \"route_group\": \"medium\", \"max_trip_hrs\": 1.22, \"max_trip_route_group\": 1.22, \"name\": \"Morongo Band of Mission Indians\", \"caltrans_district\": \"08 - San Bernardino\", \"drmt_organization_name\": null, \"cutoff2\": 30, \"cutoff\": 0}, {\"calitp_itp_id\": 212, \"trip_key\": -764998138802977487, \"trip_id\": \"t_869583_b_489_tn_0\", \"shape_id\": \"p_272\", \"route_id\": \"349\", \"service_hours\": 0.83, \"trip_first_departure_ts\": 61200, \"trip_last_arrival_ts\": 64200, \"departure_hour\": 17, \"time_of_day\": \"PM Peak\", \"p25\": 0.83, \"p50\": 0.83, \"p75\": 0.83, \"p50_trip\": 1, \"fastest_trip\": 1, \"car_duration_hours\": 0.52, \"competitive_route\": 1, \"bus_multiplier\": 1.6, \"bus_difference\": 18.6, \"num_trips\": 30, \"num_competitive\": 25, \"pct_trips_competitive\": 0.833, \"bus_difference_spread\": 23.4, \"route_group\": \"medium\", \"max_trip_hrs\": 1.22, \"max_trip_route_group\": 1.22, \"name\": \"Morongo Band of Mission Indians\", \"caltrans_district\": \"08 - San Bernardino\", \"drmt_organization_name\": null, \"cutoff2\": 30, \"cutoff\": 0}, {\"calitp_itp_id\": 212, \"trip_key\": 2368826429394615188, \"trip_id\": \"t_1375_b_489_tn_0\", \"shape_id\": \"p_275\", \"route_id\": \"349\", \"service_hours\": 0.92, \"trip_first_departure_ts\": 76320, \"trip_last_arrival_ts\": 79620, \"departure_hour\": 21, \"time_of_day\": \"Owl Service\", \"p25\": 0.83, \"p50\": 0.83, \"p75\": 0.83, \"p50_trip\": 0, \"fastest_trip\": 0, \"car_duration_hours\": 0.52, \"competitive_route\": 1, \"bus_multiplier\": 1.77, \"bus_difference\": 24.0, \"num_trips\": 30, \"num_competitive\": 25, \"pct_trips_competitive\": 0.833, \"bus_difference_spread\": 23.4, \"route_group\": \"medium\", \"max_trip_hrs\": 1.22, \"max_trip_route_group\": 1.22, \"name\": \"Morongo Band of Mission Indians\", \"caltrans_district\": \"08 - San Bernardino\", \"drmt_organization_name\": null, \"cutoff2\": 30, \"cutoff\": 0}, {\"calitp_itp_id\": 212, \"trip_key\": -8441835833794788282, \"trip_id\": \"t_1388_b_489_tn_0\", \"shape_id\": \"p_280\", \"route_id\": \"349\", \"service_hours\": 1.0, \"trip_first_departure_ts\": 61200, \"trip_last_arrival_ts\": 64800, \"departure_hour\": 17, \"time_of_day\": \"PM Peak\", \"p25\": 0.83, \"p50\": 0.83, \"p75\": 0.83, \"p50_trip\": 0, \"fastest_trip\": 0, \"car_duration_hours\": 0.52, \"competitive_route\": 1, \"bus_multiplier\": 1.92, \"bus_difference\": 28.8, \"num_trips\": 30, \"num_competitive\": 25, \"pct_trips_competitive\": 0.833, \"bus_difference_spread\": 23.4, \"route_group\": \"medium\", \"max_trip_hrs\": 1.22, \"max_trip_route_group\": 1.22, \"name\": \"Morongo Band of Mission Indians\", \"caltrans_district\": \"08 - San Bernardino\", \"drmt_organization_name\": null, \"cutoff2\": 30, \"cutoff\": 0}, {\"calitp_itp_id\": 212, \"trip_key\": -6835242988218459180, \"trip_id\": \"t_1381_b_489_tn_0\", \"shape_id\": \"p_283\", \"route_id\": \"349\", \"service_hours\": 1.12, \"trip_first_departure_ts\": 72300, \"trip_last_arrival_ts\": 76320, \"departure_hour\": 20, \"time_of_day\": \"Owl Service\", \"p25\": 0.83, \"p50\": 0.83, \"p75\": 0.83, \"p50_trip\": 0, \"fastest_trip\": 0, \"car_duration_hours\": 0.52, \"competitive_route\": 1, \"bus_multiplier\": 2.15, \"bus_difference\": 36.0, \"num_trips\": 30, \"num_competitive\": 25, \"pct_trips_competitive\": 0.833, \"bus_difference_spread\": 23.4, \"route_group\": \"medium\", \"max_trip_hrs\": 1.22, \"max_trip_route_group\": 1.22, \"name\": \"Morongo Band of Mission Indians\", \"caltrans_district\": \"08 - San Bernardino\", \"drmt_organization_name\": null, \"cutoff2\": 30, \"cutoff\": 0}, {\"calitp_itp_id\": 212, \"trip_key\": 5683966584791188435, \"trip_id\": \"t_1379_b_489_tn_0\", \"shape_id\": \"p_275\", \"route_id\": \"349\", \"service_hours\": 1.15, \"trip_first_departure_ts\": 71700, \"trip_last_arrival_ts\": 75840, \"departure_hour\": 19, \"time_of_day\": \"PM Peak\", \"p25\": 0.83, \"p50\": 0.83, \"p75\": 0.83, \"p50_trip\": 0, \"fastest_trip\": 0, \"car_duration_hours\": 0.52, \"competitive_route\": 1, \"bus_multiplier\": 2.21, \"bus_difference\": 37.8, \"num_trips\": 30, \"num_competitive\": 25, \"pct_trips_competitive\": 0.833, \"bus_difference_spread\": 23.4, \"route_group\": \"medium\", \"max_trip_hrs\": 1.22, \"max_trip_route_group\": 1.22, \"name\": \"Morongo Band of Mission Indians\", \"caltrans_district\": \"08 - San Bernardino\", \"drmt_organization_name\": null, \"cutoff2\": 30, \"cutoff\": 0}, {\"calitp_itp_id\": 212, \"trip_key\": 3761178629967692239, \"trip_id\": \"t_1380_b_489_tn_0\", \"shape_id\": \"p_283\", \"route_id\": \"349\", \"service_hours\": 1.2, \"trip_first_departure_ts\": 67200, \"trip_last_arrival_ts\": 71520, \"departure_hour\": 18, \"time_of_day\": \"PM Peak\", \"p25\": 0.83, \"p50\": 0.83, \"p75\": 0.83, \"p50_trip\": 0, \"fastest_trip\": 0, \"car_duration_hours\": 0.52, \"competitive_route\": 1, \"bus_multiplier\": 2.31, \"bus_difference\": 40.8, \"num_trips\": 30, \"num_competitive\": 25, \"pct_trips_competitive\": 0.833, \"bus_difference_spread\": 23.4, \"route_group\": \"medium\", \"max_trip_hrs\": 1.22, \"max_trip_route_group\": 1.22, \"name\": \"Morongo Band of Mission Indians\", \"caltrans_district\": \"08 - San Bernardino\", \"drmt_organization_name\": null, \"cutoff2\": 30, \"cutoff\": 0}, {\"calitp_itp_id\": 212, \"trip_key\": -6285086006216661977, \"trip_id\": \"t_1373_b_489_tn_0\", \"shape_id\": \"p_283\", \"route_id\": \"349\", \"service_hours\": 1.2, \"trip_first_departure_ts\": 76200, \"trip_last_arrival_ts\": 80520, \"departure_hour\": 21, \"time_of_day\": \"Owl Service\", \"p25\": 0.83, \"p50\": 0.83, \"p75\": 0.83, \"p50_trip\": 0, \"fastest_trip\": 0, \"car_duration_hours\": 0.52, \"competitive_route\": 1, \"bus_multiplier\": 2.31, \"bus_difference\": 40.8, \"num_trips\": 30, \"num_competitive\": 25, \"pct_trips_competitive\": 0.833, \"bus_difference_spread\": 23.4, \"route_group\": \"medium\", \"max_trip_hrs\": 1.22, \"max_trip_route_group\": 1.22, \"name\": \"Morongo Band of Mission Indians\", \"caltrans_district\": \"08 - San Bernardino\", \"drmt_organization_name\": null, \"cutoff2\": 30, \"cutoff\": 0}, {\"calitp_itp_id\": 212, \"trip_key\": 2836149620275353042, \"trip_id\": \"t_1368_b_489_tn_0\", \"shape_id\": \"p_286\", \"route_id\": \"349\", \"service_hours\": 1.22, \"trip_first_departure_ts\": 67800, \"trip_last_arrival_ts\": 72180, \"departure_hour\": 18, \"time_of_day\": \"PM Peak\", \"p25\": 0.83, \"p50\": 0.83, \"p75\": 0.83, \"p50_trip\": 0, \"fastest_trip\": 0, \"car_duration_hours\": 0.52, \"competitive_route\": 1, \"bus_multiplier\": 2.35, \"bus_difference\": 42.0, \"num_trips\": 30, \"num_competitive\": 25, \"pct_trips_competitive\": 0.833, \"bus_difference_spread\": 23.4, \"route_group\": \"medium\", \"max_trip_hrs\": 1.22, \"max_trip_route_group\": 1.22, \"name\": \"Morongo Band of Mission Indians\", \"caltrans_district\": \"08 - San Bernardino\", \"drmt_organization_name\": null, \"cutoff2\": 30, \"cutoff\": 0}, {\"calitp_itp_id\": 212, \"trip_key\": 3090255030447947583, \"trip_id\": \"t_1392_b_489_tn_0\", \"shape_id\": \"p_288\", \"route_id\": \"350\", \"service_hours\": 0.92, \"trip_first_departure_ts\": 28500, \"trip_last_arrival_ts\": 31800, \"departure_hour\": 7, \"time_of_day\": \"AM Peak\", \"p25\": 0.92, \"p50\": 0.92, \"p75\": 0.92, \"p50_trip\": 1, \"fastest_trip\": 0, \"car_duration_hours\": 0.73, \"competitive_route\": 1, \"bus_multiplier\": 1.26, \"bus_difference\": 11.4, \"num_trips\": 6, \"num_competitive\": 6, \"pct_trips_competitive\": 1.0, \"bus_difference_spread\": 9.6, \"route_group\": \"medium\", \"max_trip_hrs\": 1.08, \"max_trip_route_group\": 1.22, \"name\": \"Morongo Band of Mission Indians\", \"caltrans_district\": \"08 - San Bernardino\", \"drmt_organization_name\": null, \"cutoff2\": 30, \"cutoff\": 0}, {\"calitp_itp_id\": 212, \"trip_key\": -7194114715627764428, \"trip_id\": \"t_1378_b_489_tn_0\", \"shape_id\": \"p_270\", \"route_id\": \"350\", \"service_hours\": 0.92, \"trip_first_departure_ts\": 60000, \"trip_last_arrival_ts\": 63300, \"departure_hour\": 16, \"time_of_day\": \"Midday\", \"p25\": 0.92, \"p50\": 0.92, \"p75\": 0.92, \"p50_trip\": 1, \"fastest_trip\": 0, \"car_duration_hours\": 0.73, \"competitive_route\": 1, \"bus_multiplier\": 1.26, \"bus_difference\": 11.4, \"num_trips\": 6, \"num_competitive\": 6, \"pct_trips_competitive\": 1.0, \"bus_difference_spread\": 9.6, \"route_group\": \"medium\", \"max_trip_hrs\": 1.08, \"max_trip_route_group\": 1.22, \"name\": \"Morongo Band of Mission Indians\", \"caltrans_district\": \"08 - San Bernardino\", \"drmt_organization_name\": null, \"cutoff2\": 30, \"cutoff\": 0}, {\"calitp_itp_id\": 212, \"trip_key\": -1982978580526997524, \"trip_id\": \"t_1377_b_489_tn_0\", \"shape_id\": \"p_270\", \"route_id\": \"350\", \"service_hours\": 0.92, \"trip_first_departure_ts\": 34800, \"trip_last_arrival_ts\": 38100, \"departure_hour\": 9, \"time_of_day\": \"AM Peak\", \"p25\": 0.92, \"p50\": 0.92, \"p75\": 0.92, \"p50_trip\": 1, \"fastest_trip\": 0, \"car_duration_hours\": 0.73, \"competitive_route\": 1, \"bus_multiplier\": 1.26, \"bus_difference\": 11.4, \"num_trips\": 6, \"num_competitive\": 6, \"pct_trips_competitive\": 1.0, \"bus_difference_spread\": 9.6, \"route_group\": \"medium\", \"max_trip_hrs\": 1.08, \"max_trip_route_group\": 1.22, \"name\": \"Morongo Band of Mission Indians\", \"caltrans_district\": \"08 - San Bernardino\", \"drmt_organization_name\": null, \"cutoff2\": 30, \"cutoff\": 0}, {\"calitp_itp_id\": 212, \"trip_key\": 4336152498001563059, \"trip_id\": \"t_1386_b_489_tn_0\", \"shape_id\": \"p_288\", \"route_id\": \"350\", \"service_hours\": 0.92, \"trip_first_departure_ts\": 63900, \"trip_last_arrival_ts\": 67200, \"departure_hour\": 17, \"time_of_day\": \"PM Peak\", \"p25\": 0.92, \"p50\": 0.92, \"p75\": 0.92, \"p50_trip\": 1, \"fastest_trip\": 1, \"car_duration_hours\": 0.73, \"competitive_route\": 1, \"bus_multiplier\": 1.26, \"bus_difference\": 11.4, \"num_trips\": 6, \"num_competitive\": 6, \"pct_trips_competitive\": 1.0, \"bus_difference_spread\": 9.6, \"route_group\": \"medium\", \"max_trip_hrs\": 1.08, \"max_trip_route_group\": 1.22, \"name\": \"Morongo Band of Mission Indians\", \"caltrans_district\": \"08 - San Bernardino\", \"drmt_organization_name\": null, \"cutoff2\": 30, \"cutoff\": 0}, {\"calitp_itp_id\": 212, \"trip_key\": 1121313051657293748, \"trip_id\": \"t_1376_b_489_tn_0\", \"shape_id\": \"p_270\", \"route_id\": \"350\", \"service_hours\": 0.92, \"trip_first_departure_ts\": 25200, \"trip_last_arrival_ts\": 28500, \"departure_hour\": 7, \"time_of_day\": \"AM Peak\", \"p25\": 0.92, \"p50\": 0.92, \"p75\": 0.92, \"p50_trip\": 1, \"fastest_trip\": 0, \"car_duration_hours\": 0.73, \"competitive_route\": 1, \"bus_multiplier\": 1.26, \"bus_difference\": 11.4, \"num_trips\": 6, \"num_competitive\": 6, \"pct_trips_competitive\": 1.0, \"bus_difference_spread\": 9.6, \"route_group\": \"medium\", \"max_trip_hrs\": 1.08, \"max_trip_route_group\": 1.22, \"name\": \"Morongo Band of Mission Indians\", \"caltrans_district\": \"08 - San Bernardino\", \"drmt_organization_name\": null, \"cutoff2\": 30, \"cutoff\": 0}, {\"calitp_itp_id\": 212, \"trip_key\": 4869777759681107014, \"trip_id\": \"t_1374_b_489_tn_0\", \"shape_id\": \"p_288\", \"route_id\": \"350\", \"service_hours\": 1.08, \"trip_first_departure_ts\": 38700, \"trip_last_arrival_ts\": 42600, \"departure_hour\": 10, \"time_of_day\": \"Midday\", \"p25\": 0.92, \"p50\": 0.92, \"p75\": 0.92, \"p50_trip\": 0, \"fastest_trip\": 0, \"car_duration_hours\": 0.73, \"competitive_route\": 1, \"bus_multiplier\": 1.48, \"bus_difference\": 21.0, \"num_trips\": 6, \"num_competitive\": 6, \"pct_trips_competitive\": 1.0, \"bus_difference_spread\": 9.6, \"route_group\": \"medium\", \"max_trip_hrs\": 1.08, \"max_trip_route_group\": 1.22, \"name\": \"Morongo Band of Mission Indians\", \"caltrans_district\": \"08 - San Bernardino\", \"drmt_organization_name\": null, \"cutoff2\": 30, \"cutoff\": 0}]}}, {\"mode\": \"vega-lite\"});\n",
       "</script>"
      ],
      "text/plain": [
       "alt.FacetChart(...)"
      ]
     },
     "metadata": {},
     "output_type": "display_data"
    }
   ],
   "source": [
    "route_group = \"medium\"\n",
    "try:\n",
    "    subset_routes, mult, diff  = setup_charts(df, PCT_COMPETITIVE_THRESHOLD, route_group)\n",
    "    if len(subset_routes) > 0:\n",
    "        display(\n",
    "            Markdown(\n",
    "                f\"{CAPTIONS_DICT[route_group]}\"\n",
    "                \"Within each route group, routes are sorted in descending order \"\n",
    "                \"by % competitive trips and # trips below the additional time cut-off.\"\n",
    "            )\n",
    "        )\n",
    "\n",
    "        display(mult)\n",
    "        display(diff)\n",
    "except:\n",
    "    print(\"No routes meet this criteria.\")"
   ]
  },
  {
   "cell_type": "markdown",
   "id": "124b76d0-886c-4d03-92ac-f1bda3cda182",
   "metadata": {
    "papermill": {
     "duration": 0.016618,
     "end_time": "2022-05-08T16:15:05.856362",
     "exception": false,
     "start_time": "2022-05-08T16:15:05.839744",
     "status": "completed"
    },
    "tags": []
   },
   "source": [
    "### Long Routes (> 1.5 hrs)"
   ]
  },
  {
   "cell_type": "code",
   "execution_count": 14,
   "id": "ddc81b19-4c45-4c81-8b7a-5e0f394aa7a3",
   "metadata": {
    "execution": {
     "iopub.execute_input": "2022-05-08T16:15:05.889888Z",
     "iopub.status.busy": "2022-05-08T16:15:05.889327Z",
     "iopub.status.idle": "2022-05-08T16:15:05.902063Z",
     "shell.execute_reply": "2022-05-08T16:15:05.901517Z"
    },
    "jupyter": {
     "source_hidden": true
    },
    "papermill": {
     "duration": 0.036352,
     "end_time": "2022-05-08T16:15:05.908630",
     "exception": false,
     "start_time": "2022-05-08T16:15:05.872278",
     "status": "completed"
    },
    "tags": [
     "remove_input"
    ]
   },
   "outputs": [
    {
     "name": "stdout",
     "output_type": "stream",
     "text": [
      "No routes meet this criteria.\n"
     ]
    }
   ],
   "source": [
    "route_group = \"long\"\n",
    "try:\n",
    "    subset_routes, mult, diff  = setup_charts(df, PCT_COMPETITIVE_THRESHOLD, route_group)\n",
    "    if len(subset_routes) > 0:\n",
    "        display(\n",
    "            Markdown(\n",
    "                f\"{CAPTIONS_DICT[route_group]}\"\n",
    "                \"Within each route group, routes are sorted in descending order \"\n",
    "                \"by % competitive trips and # trips below the additional time cut-off.\"\n",
    "            )\n",
    "        )\n",
    "\n",
    "        display(mult)\n",
    "        display(diff)\n",
    "except:\n",
    "    print(\"No routes meet this criteria.\")"
   ]
  }
 ],
 "metadata": {
  "kernelspec": {
   "display_name": "Python 3 (ipykernel)",
   "language": "python",
   "name": "python3"
  },
  "language_info": {
   "codemirror_mode": {
    "name": "ipython",
    "version": 3
   },
   "file_extension": ".py",
   "mimetype": "text/x-python",
   "name": "python",
   "nbconvert_exporter": "python",
   "pygments_lexer": "ipython3",
   "version": "3.9.12"
  },
  "papermill": {
   "default_parameters": {},
   "duration": 22.851976,
   "end_time": "2022-05-08T16:15:07.050705",
   "environment_variables": {},
   "exception": null,
   "input_path": "bus_service_increase/competitive-parallel-routes.ipynb",
   "output_path": "portfolio/parallel_corridors/district_08-san-bernardino/competitive-parallel-routes__itp_id_212.ipynb",
   "parameters": {
    "district": "08 - San Bernardino",
    "itp_id": 212
   },
   "start_time": "2022-05-08T16:14:44.198729",
   "version": "2.3.4"
  }
 },
 "nbformat": 4,
 "nbformat_minor": 5
}