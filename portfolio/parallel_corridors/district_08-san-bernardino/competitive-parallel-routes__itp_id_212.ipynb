{
 "cells": [
  {
   "cell_type": "code",
   "execution_count": 1,
   "id": "95d00857-6a20-4529-a519-2cc7182928a9",
   "metadata": {
    "execution": {
     "iopub.execute_input": "2022-05-09T20:13:52.594053Z",
     "iopub.status.busy": "2022-05-09T20:13:52.593703Z",
     "iopub.status.idle": "2022-05-09T20:14:02.163858Z",
     "shell.execute_reply": "2022-05-09T20:14:02.162505Z"
    },
    "jupyter": {
     "source_hidden": true
    },
    "papermill": {
     "duration": 9.588854,
     "end_time": "2022-05-09T20:14:02.166786",
     "exception": false,
     "start_time": "2022-05-09T20:13:52.577932",
     "status": "completed"
    },
    "tags": [
     "remove_input"
    ]
   },
   "outputs": [],
   "source": [
    "%%capture\n",
    "import warnings\n",
    "warnings.filterwarnings('ignore')\n",
    "\n",
    "import altair as alt\n",
    "import calitp.magics\n",
    "import geopandas as gpd\n",
    "import intake\n",
    "import pandas as pd\n",
    "\n",
    "from IPython.display import display, Markdown, HTML\n",
    "\n",
    "import parallel_corridors_utils\n",
    "from shared_utils import styleguide\n",
    "import deploy_portfolio_yaml\n",
    "\n",
    "catalog = intake.open_catalog(\"./*.yml\")\n",
    "alt.renderers.enable(\"html\")"
   ]
  },
  {
   "cell_type": "code",
   "execution_count": 2,
   "id": "8af2a0c1-f3da-408d-9bea-11d9fbf8695d",
   "metadata": {
    "execution": {
     "iopub.execute_input": "2022-05-09T20:14:02.195698Z",
     "iopub.status.busy": "2022-05-09T20:14:02.195332Z",
     "iopub.status.idle": "2022-05-09T20:14:02.202123Z",
     "shell.execute_reply": "2022-05-09T20:14:02.200887Z"
    },
    "jupyter": {
     "source_hidden": true
    },
    "papermill": {
     "duration": 0.025795,
     "end_time": "2022-05-09T20:14:02.204769",
     "exception": false,
     "start_time": "2022-05-09T20:14:02.178974",
     "status": "completed"
    },
    "tags": [
     "parameters",
     "remove_input"
    ]
   },
   "outputs": [],
   "source": [
    "# parameters cell\n",
    "itp_id = 182"
   ]
  },
  {
   "cell_type": "code",
   "execution_count": 3,
   "id": "791628f6",
   "metadata": {
    "execution": {
     "iopub.execute_input": "2022-05-09T20:14:02.233316Z",
     "iopub.status.busy": "2022-05-09T20:14:02.232940Z",
     "iopub.status.idle": "2022-05-09T20:14:02.238690Z",
     "shell.execute_reply": "2022-05-09T20:14:02.237370Z"
    },
    "jupyter": {
     "source_hidden": true
    },
    "papermill": {
     "duration": 0.023956,
     "end_time": "2022-05-09T20:14:02.241562",
     "exception": false,
     "start_time": "2022-05-09T20:14:02.217606",
     "status": "completed"
    },
    "tags": [
     "injected-parameters",
     "remove_input"
    ]
   },
   "outputs": [],
   "source": [
    "# Parameters\n",
    "district = \"08 - San Bernardino\"\n",
    "itp_id = 212\n"
   ]
  },
  {
   "cell_type": "code",
   "execution_count": 4,
   "id": "9582aaf4-79ff-412a-b248-8d8d693ebd4f",
   "metadata": {
    "execution": {
     "iopub.execute_input": "2022-05-09T20:14:02.270177Z",
     "iopub.status.busy": "2022-05-09T20:14:02.269404Z",
     "iopub.status.idle": "2022-05-09T20:14:03.938095Z",
     "shell.execute_reply": "2022-05-09T20:14:03.937323Z"
    },
    "jupyter": {
     "source_hidden": true
    },
    "papermill": {
     "duration": 1.685625,
     "end_time": "2022-05-09T20:14:03.940475",
     "exception": false,
     "start_time": "2022-05-09T20:14:02.254850",
     "status": "completed"
    },
    "tags": [
     "remove_input"
    ]
   },
   "outputs": [],
   "source": [
    "df = catalog.competitive_route_variability.read()\n",
    "\n",
    "df = (df[(df.calitp_itp_id == itp_id) & \n",
    "         (df.route_group.notna())]\n",
    "      .reset_index(drop=True)\n",
    "     )\n",
    "\n",
    "\n",
    "if itp_id == 182:\n",
    "    df = df.assign(\n",
    "        route_id = df.route_id.str.replace('-13153', '').astype(int)\n",
    "    )"
   ]
  },
  {
   "cell_type": "code",
   "execution_count": 5,
   "id": "33ac4b06-f647-4dce-a625-8f2c1b37cc60",
   "metadata": {
    "execution": {
     "iopub.execute_input": "2022-05-09T20:14:03.968835Z",
     "iopub.status.busy": "2022-05-09T20:14:03.967886Z",
     "iopub.status.idle": "2022-05-09T20:14:03.977800Z",
     "shell.execute_reply": "2022-05-09T20:14:03.976960Z"
    },
    "jupyter": {
     "source_hidden": true
    },
    "papermill": {
     "duration": 0.026148,
     "end_time": "2022-05-09T20:14:03.979883",
     "exception": false,
     "start_time": "2022-05-09T20:14:03.953735",
     "status": "completed"
    },
    "tags": [
     "remove_input"
    ]
   },
   "outputs": [],
   "source": [
    "%%capture_parameters\n",
    "operator_name = df.name.iloc[0]\n",
    "district_number = f\"{df.caltrans_district.iloc[0].split('-')[0].strip()}\"\n",
    "district_name = f\"{df.caltrans_district.iloc[0].split('-')[1].strip().lower().replace(' ', '-')}\"\n",
    "\n",
    "itp_id, operator_name, district_number, district_name"
   ]
  },
  {
   "cell_type": "markdown",
   "id": "65bc6f5c-8348-42ee-b2dd-52057c406852",
   "metadata": {
    "papermill": {
     "duration": 0.015564,
     "end_time": "2022-05-09T20:14:04.009009",
     "exception": false,
     "start_time": "2022-05-09T20:14:03.993445",
     "status": "completed"
    },
    "tags": []
   },
   "source": [
    "# Morongo Band of Mission Indians (ITP ID: 212)"
   ]
  },
  {
   "cell_type": "code",
   "execution_count": 6,
   "id": "a689c1ab-2c6c-4831-8d64-897f5986f571",
   "metadata": {
    "execution": {
     "iopub.execute_input": "2022-05-09T20:14:04.036007Z",
     "iopub.status.busy": "2022-05-09T20:14:04.035094Z",
     "iopub.status.idle": "2022-05-09T20:14:04.042413Z",
     "shell.execute_reply": "2022-05-09T20:14:04.041708Z"
    },
    "jupyter": {
     "source_hidden": true
    },
    "papermill": {
     "duration": 0.022388,
     "end_time": "2022-05-09T20:14:04.044176",
     "exception": false,
     "start_time": "2022-05-09T20:14:04.021788",
     "status": "completed"
    },
    "tags": [
     "remove_input"
    ]
   },
   "outputs": [
    {
     "data": {
      "text/html": [
       "<h1>Competitive & Parallel Routes</h1>"
      ],
      "text/plain": [
       "<IPython.core.display.HTML object>"
      ]
     },
     "metadata": {},
     "output_type": "display_data"
    }
   ],
   "source": [
    "display(HTML(\"<h1>Competitive & Parallel Routes</h1>\")) "
   ]
  },
  {
   "cell_type": "code",
   "execution_count": 7,
   "id": "2cb4d8d5-4760-40e4-85b1-cb833d8bb648",
   "metadata": {
    "execution": {
     "iopub.execute_input": "2022-05-09T20:14:04.074019Z",
     "iopub.status.busy": "2022-05-09T20:14:04.072932Z",
     "iopub.status.idle": "2022-05-09T20:14:16.554642Z",
     "shell.execute_reply": "2022-05-09T20:14:16.553330Z"
    },
    "jupyter": {
     "source_hidden": true
    },
    "papermill": {
     "duration": 12.500424,
     "end_time": "2022-05-09T20:14:16.557958",
     "exception": false,
     "start_time": "2022-05-09T20:14:04.057534",
     "status": "completed"
    },
    "tags": [
     "remove_input"
    ]
   },
   "outputs": [],
   "source": [
    "# Grab parameters for narrative text - clean up formatting here \n",
    "district = df.caltrans_district.iloc[0]\n",
    "formatted_date = pd.to_datetime(parallel_corridors_utils.SELECTED_DATE).strftime('%m-%d-%Y')\n",
    "\n",
    "PCT_COMPETITIVE_THRESHOLD = 0.75\n",
    "\n",
    "stats = parallel_corridors_utils.operator_parallel_competitive_stats(\n",
    "    itp_id, PCT_COMPETITIVE_THRESHOLD)\n",
    "\n",
    "pct_parallel = round(stats['parallel_routes'] / stats['num_routes'] * 100,1 )\n",
    "pct_competitive =  round(stats['competitive_routes'] / stats['num_routes'] * 100,1 )"
   ]
  },
  {
   "cell_type": "markdown",
   "id": "ab667928-5274-4490-82d9-4c39293209a4",
   "metadata": {
    "papermill": {
     "duration": 0.020324,
     "end_time": "2022-05-09T20:14:16.603698",
     "exception": false,
     "start_time": "2022-05-09T20:14:16.583374",
     "status": "completed"
    },
    "tags": []
   },
   "source": [
    "## Quick Stats"
   ]
  },
  {
   "cell_type": "code",
   "execution_count": 8,
   "id": "0416509d-dc62-4165-b62e-64f8b26e8b8e",
   "metadata": {
    "execution": {
     "iopub.execute_input": "2022-05-09T20:14:16.654824Z",
     "iopub.status.busy": "2022-05-09T20:14:16.654379Z",
     "iopub.status.idle": "2022-05-09T20:14:16.664210Z",
     "shell.execute_reply": "2022-05-09T20:14:16.663263Z"
    },
    "jupyter": {
     "source_hidden": true
    },
    "papermill": {
     "duration": 0.038053,
     "end_time": "2022-05-09T20:14:16.668779",
     "exception": false,
     "start_time": "2022-05-09T20:14:16.630726",
     "status": "completed"
    },
    "tags": [
     "remove_input"
    ]
   },
   "outputs": [
    {
     "data": {
      "text/markdown": [
       "**Bus routes in service**: 7 <br>**Parallel routes** to State Highway Network (SHN): 6 routes (85.7%)<br>**Competitive routes** against car travel: 4 routes (57.1%)"
      ],
      "text/plain": [
       "<IPython.core.display.Markdown object>"
      ]
     },
     "metadata": {},
     "output_type": "display_data"
    }
   ],
   "source": [
    "display(\n",
    "    Markdown(\n",
    "        f\"**Bus routes in service**: {stats['num_routes']} \"\n",
    "        \"<br>**Parallel routes** to State Highway Network (SHN): \"\n",
    "        f\"{stats['parallel_routes']} routes ({pct_parallel}%)\"\n",
    "        f\"<br>**Competitive routes** against car travel: {stats['competitive_routes']} routes ({pct_competitive}%)\"\n",
    "    )\n",
    ")"
   ]
  },
  {
   "cell_type": "code",
   "execution_count": 9,
   "id": "f9d6ab58-f0ee-460c-b6de-657490e1f386",
   "metadata": {
    "execution": {
     "iopub.execute_input": "2022-05-09T20:14:16.733235Z",
     "iopub.status.busy": "2022-05-09T20:14:16.732017Z",
     "iopub.status.idle": "2022-05-09T20:14:16.743977Z",
     "shell.execute_reply": "2022-05-09T20:14:16.743126Z"
    },
    "jupyter": {
     "source_hidden": true
    },
    "papermill": {
     "duration": 0.03981,
     "end_time": "2022-05-09T20:14:16.746571",
     "exception": false,
     "start_time": "2022-05-09T20:14:16.706761",
     "status": "completed"
    },
    "tags": [
     "remove_input"
    ]
   },
   "outputs": [],
   "source": [
    "def set_yaxis_range(df, y_col):\n",
    "    Y_MIN = df[y_col].min()\n",
    "    Y_MAX = df[y_col].max()\n",
    "    \n",
    "    return Y_MIN, Y_MAX\n",
    "\n",
    "# Rather than set it according to the operator, which can vary,\n",
    "# just use set thresholds for each group\n",
    "diff_cutoffs = parallel_corridors_utils.diff_cutoffs\n",
    "\n",
    "PCT_TRIPS_BELOW_CUTOFF = 0.25\n",
    "\n",
    "def top15_routes(df, route_group):\n",
    "    df2 = (df[df.route_group==route_group])\n",
    "    # Set a cut-off to enable sorting, where most of the trips are \n",
    "    # below a certain time difference cut-off, \n",
    "    # grab top 15 routes where majority of trips are below that cut-off \n",
    "\n",
    "    route_cols = [\"calitp_itp_id\", \"route_id\"]\n",
    "\n",
    "    df2 = df2.assign(\n",
    "        below_cutoff = df2.apply(lambda x: 1 if x.bus_difference <= diff_cutoffs[route_group] \n",
    "                                 else 0, axis=1),\n",
    "        num_trips = df2.groupby(route_cols)[\"trip_id\"].transform(\"count\")\n",
    "    )\n",
    "\n",
    "    df2[\"below_cutoff\"] = df2.groupby(route_cols)[\"below_cutoff\"].transform(\"sum\")\n",
    "    df2[\"pct_below_cutoff\"] = df2.below_cutoff.divide(df2.num_trips)\n",
    "\n",
    "    # At least half the trips are below that cut-off\n",
    "    # but show 15 max, otherwise, show less, since these won't be as interesting to operators\n",
    "    df3 = (df2[df2.pct_below_cutoff >= PCT_TRIPS_BELOW_CUTOFF]\n",
    "           .sort_values([\"calitp_itp_id\", \"below_cutoff\", \n",
    "                         \"pct_below_cutoff\", \"route_id\"],\n",
    "                        ascending = [True, False, False, True]\n",
    "                       )\n",
    "           .drop_duplicates(subset=[\"calitp_itp_id\", \"route_id\"])\n",
    "          ).head(15)\n",
    "    \n",
    "    return list(df3.route_id)"
   ]
  },
  {
   "cell_type": "code",
   "execution_count": 10,
   "id": "cf36d559-3349-4144-8086-8ac9ce937a5a",
   "metadata": {
    "execution": {
     "iopub.execute_input": "2022-05-09T20:14:16.781359Z",
     "iopub.status.busy": "2022-05-09T20:14:16.780598Z",
     "iopub.status.idle": "2022-05-09T20:14:16.788748Z",
     "shell.execute_reply": "2022-05-09T20:14:16.787378Z"
    },
    "jupyter": {
     "source_hidden": true
    },
    "papermill": {
     "duration": 0.029832,
     "end_time": "2022-05-09T20:14:16.792143",
     "exception": false,
     "start_time": "2022-05-09T20:14:16.762311",
     "status": "completed"
    },
    "tags": [
     "remove_input"
    ]
   },
   "outputs": [],
   "source": [
    "def caption_with_cutoff(cutoff):\n",
    "    sentence = (\n",
    "        f\"<br>These are routes that have **at least {int(PCT_TRIPS_BELOW_CUTOFF*100)}% \"\n",
    "        \"of their trips take no more than an \"\n",
    "        f\"additional {cutoff} min** compared to a car \"\n",
    "        \"(up to 15 routes) are shown.\"\n",
    "        \"<br>Within each route group, routes are sorted in descending order \"\n",
    "        \"by % competitive trips and # trips below the additional time cut-off.\"\n",
    "    )\n",
    "    return sentence\n",
    "\n",
    "CAPTIONS_DICT = {\n",
    "    \"short\": caption_with_cutoff(diff_cutoffs['short']),\n",
    "    \"medium\": caption_with_cutoff(diff_cutoffs['medium']),\n",
    "    \"long\": caption_with_cutoff(diff_cutoffs['long']),\n",
    "}"
   ]
  },
  {
   "cell_type": "code",
   "execution_count": 11,
   "id": "e4306d58-6944-47e9-afef-5d5b524c751f",
   "metadata": {
    "execution": {
     "iopub.execute_input": "2022-05-09T20:14:16.838319Z",
     "iopub.status.busy": "2022-05-09T20:14:16.837346Z",
     "iopub.status.idle": "2022-05-09T20:14:16.845677Z",
     "shell.execute_reply": "2022-05-09T20:14:16.844638Z"
    },
    "jupyter": {
     "source_hidden": true
    },
    "papermill": {
     "duration": 0.02955,
     "end_time": "2022-05-09T20:14:16.848539",
     "exception": false,
     "start_time": "2022-05-09T20:14:16.818989",
     "status": "completed"
    },
    "tags": [
     "remove_input"
    ]
   },
   "outputs": [],
   "source": [
    "def setup_charts(df, PCT_COMPETITIVE_THRESHOLD, route_group):\n",
    "    # Set up df for charting (cut-off at some threshold to show most competitive routes)\n",
    "    plot_me = (df[df.pct_trips_competitive > PCT_COMPETITIVE_THRESHOLD]\n",
    "           .drop(columns = \"geometry\")\n",
    "    )\n",
    "    \n",
    "    y_col1 = \"bus_multiplier\"\n",
    "    Y_MIN1, Y_MAX1 = set_yaxis_range(plot_me, y_col1)\n",
    "\n",
    "    y_col2 = \"bus_difference\"\n",
    "    Y_MIN2, Y_MAX2 = set_yaxis_range(plot_me, y_col2)\n",
    "     \n",
    "    subset_routes = top15_routes(plot_me, route_group)\n",
    "    \n",
    "    multiplier_chart = parallel_corridors_utils.make_stripplot(\n",
    "        plot_me[plot_me.route_id.isin(subset_routes)], \n",
    "        y_col1, Y_MIN = Y_MIN1, Y_MAX = Y_MAX1\n",
    "    )\n",
    "    \n",
    "    difference_chart = parallel_corridors_utils.make_stripplot(\n",
    "        plot_me[plot_me.route_id.isin(subset_routes)], \n",
    "        y_col2, Y_MIN = Y_MIN2, Y_MAX = Y_MAX2\n",
    "    )\n",
    "    \n",
    "    return subset_routes, multiplier_chart, difference_chart            "
   ]
  },
  {
   "cell_type": "code",
   "execution_count": 12,
   "id": "33a710e8-504c-4942-aa75-ff69f216956e",
   "metadata": {
    "execution": {
     "iopub.execute_input": "2022-05-09T20:14:16.881364Z",
     "iopub.status.busy": "2022-05-09T20:14:16.880332Z",
     "iopub.status.idle": "2022-05-09T20:14:16.886578Z",
     "shell.execute_reply": "2022-05-09T20:14:16.885536Z"
    },
    "jupyter": {
     "source_hidden": true
    },
    "papermill": {
     "duration": 0.026093,
     "end_time": "2022-05-09T20:14:16.889406",
     "exception": false,
     "start_time": "2022-05-09T20:14:16.863313",
     "status": "completed"
    },
    "tags": [
     "remove_input"
    ]
   },
   "outputs": [],
   "source": [
    "def display_charts_for_route_group(df, route_group):    \n",
    "    subset_routes, mult, diff  = setup_charts(df, PCT_COMPETITIVE_THRESHOLD, route_group)\n",
    "\n",
    "    if len(subset_routes) > 0:\n",
    "        display(Markdown(f\"{CAPTIONS_DICT[route_group]}\"))\n",
    "\n",
    "        display(mult)\n",
    "        display(diff)"
   ]
  },
  {
   "cell_type": "markdown",
   "id": "525f9b38-072b-46d1-96a8-1aa4b038357c",
   "metadata": {
    "papermill": {
     "duration": 0.015471,
     "end_time": "2022-05-09T20:14:16.924736",
     "exception": false,
     "start_time": "2022-05-09T20:14:16.909265",
     "status": "completed"
    },
    "tags": []
   },
   "source": [
    "## Viable Competitive Routes\n",
    "### Short Routes (< 1 hr)"
   ]
  },
  {
   "cell_type": "code",
   "execution_count": 13,
   "id": "57f7084c-2cf7-45c6-ba08-1609e0bd6ca5",
   "metadata": {
    "execution": {
     "iopub.execute_input": "2022-05-09T20:14:16.959622Z",
     "iopub.status.busy": "2022-05-09T20:14:16.958376Z",
     "iopub.status.idle": "2022-05-09T20:14:17.241315Z",
     "shell.execute_reply": "2022-05-09T20:14:17.240318Z"
    },
    "jupyter": {
     "source_hidden": true
    },
    "papermill": {
     "duration": 0.303076,
     "end_time": "2022-05-09T20:14:17.243688",
     "exception": false,
     "start_time": "2022-05-09T20:14:16.940612",
     "status": "completed"
    },
    "tags": [
     "remove_input"
    ]
   },
   "outputs": [
    {
     "data": {
      "text/markdown": [
       "<br>These are routes that have **at least 25% of their trips take no more than an additional 20 min** compared to a car (up to 15 routes) are shown.<br>Within each route group, routes are sorted in descending order by % competitive trips and # trips below the additional time cut-off."
      ],
      "text/plain": [
       "<IPython.core.display.Markdown object>"
      ]
     },
     "metadata": {},
     "output_type": "display_data"
    },
    {
     "data": {
      "text/html": [
       "\n",
       "<div id=\"altair-viz-c76da8e051064febbd7d97933d76f8e3\"></div>\n",
       "<script type=\"text/javascript\">\n",
       "  var VEGA_DEBUG = (typeof VEGA_DEBUG == \"undefined\") ? {} : VEGA_DEBUG;\n",
       "  (function(spec, embedOpt){\n",
       "    let outputDiv = document.currentScript.previousElementSibling;\n",
       "    if (outputDiv.id !== \"altair-viz-c76da8e051064febbd7d97933d76f8e3\") {\n",
       "      outputDiv = document.getElementById(\"altair-viz-c76da8e051064febbd7d97933d76f8e3\");\n",
       "    }\n",
       "    const paths = {\n",
       "      \"vega\": \"https://cdn.jsdelivr.net/npm//vega@5?noext\",\n",
       "      \"vega-lib\": \"https://cdn.jsdelivr.net/npm//vega-lib?noext\",\n",
       "      \"vega-lite\": \"https://cdn.jsdelivr.net/npm//vega-lite@4.17.0?noext\",\n",
       "      \"vega-embed\": \"https://cdn.jsdelivr.net/npm//vega-embed@6?noext\",\n",
       "    };\n",
       "\n",
       "    function maybeLoadScript(lib, version) {\n",
       "      var key = `${lib.replace(\"-\", \"\")}_version`;\n",
       "      return (VEGA_DEBUG[key] == version) ?\n",
       "        Promise.resolve(paths[lib]) :\n",
       "        new Promise(function(resolve, reject) {\n",
       "          var s = document.createElement('script');\n",
       "          document.getElementsByTagName(\"head\")[0].appendChild(s);\n",
       "          s.async = true;\n",
       "          s.onload = () => {\n",
       "            VEGA_DEBUG[key] = version;\n",
       "            return resolve(paths[lib]);\n",
       "          };\n",
       "          s.onerror = () => reject(`Error loading script: ${paths[lib]}`);\n",
       "          s.src = paths[lib];\n",
       "        });\n",
       "    }\n",
       "\n",
       "    function showError(err) {\n",
       "      outputDiv.innerHTML = `<div class=\"error\" style=\"color:red;\">${err}</div>`;\n",
       "      throw err;\n",
       "    }\n",
       "\n",
       "    function displayChart(vegaEmbed) {\n",
       "      vegaEmbed(outputDiv, spec, embedOpt)\n",
       "        .catch(err => showError(`Javascript Error: ${err.message}<br>This usually means there's a typo in your chart specification. See the javascript console for the full traceback.`));\n",
       "    }\n",
       "\n",
       "    if(typeof define === \"function\" && define.amd) {\n",
       "      requirejs.config({paths});\n",
       "      require([\"vega-embed\"], displayChart, err => showError(`Error loading script: ${err.message}`));\n",
       "    } else {\n",
       "      maybeLoadScript(\"vega\", \"5\")\n",
       "        .then(() => maybeLoadScript(\"vega-lite\", \"4.17.0\"))\n",
       "        .then(() => maybeLoadScript(\"vega-embed\", \"6\"))\n",
       "        .catch(showError)\n",
       "        .then(() => displayChart(vegaEmbed));\n",
       "    }\n",
       "  })({\"config\": {\"view\": {\"continuousWidth\": 400, \"continuousHeight\": 300, \"stroke\": null}, \"facet\": {\"spacing\": 0}}, \"data\": {\"name\": \"data-e6d31a79e8fe7c457f065fe23d48804c\"}, \"facet\": {\"column\": {\"field\": \"route_id\", \"sort\": [\"347\"], \"title\": \"Route ID\", \"type\": \"nominal\"}}, \"spec\": {\"layer\": [{\"mark\": \"rule\", \"encoding\": {\"color\": {\"value\": \"black\"}, \"y\": {\"field\": \"cutoff\", \"type\": \"quantitative\"}}, \"selection\": {\"selector001\": {\"type\": \"interval\", \"bind\": \"scales\", \"encodings\": [\"x\", \"y\"]}}}, {\"mark\": {\"type\": \"point\", \"opacity\": 0.65, \"size\": 12, \"strokeWidth\": 1.1}, \"encoding\": {\"color\": {\"field\": \"time_of_day\", \"scale\": {\"range\": [\"#136C97\", \"#E16B26\", \"#F6BF16\", \"#00896B\", \"#7790A3\", \"#5B559C\"]}, \"sort\": [\"AM Peak\", \"Midday\", \"PM Peak\", \"Owl Service\"], \"title\": \"Time of Day\", \"type\": \"nominal\"}, \"tooltip\": [{\"field\": \"route_id\", \"type\": \"nominal\"}, {\"field\": \"trip_id\", \"type\": \"nominal\"}, {\"field\": \"service_hours\", \"type\": \"quantitative\"}, {\"field\": \"car_duration_hours\", \"type\": \"quantitative\"}, {\"field\": \"bus_multiplier\", \"type\": \"quantitative\"}, {\"field\": \"bus_difference\", \"type\": \"quantitative\"}, {\"field\": \"num_trips\", \"type\": \"quantitative\"}, {\"field\": \"num_competitive\", \"type\": \"quantitative\"}, {\"field\": \"pct_trips_competitive\", \"type\": \"quantitative\"}, {\"field\": \"p25\", \"type\": \"quantitative\"}, {\"field\": \"p50\", \"type\": \"quantitative\"}, {\"field\": \"p75\", \"type\": \"quantitative\"}], \"x\": {\"axis\": {\"grid\": false, \"labels\": false, \"ticks\": true, \"values\": [0]}, \"field\": \"jitter\", \"scale\": {}, \"title\": null, \"type\": \"quantitative\"}, \"y\": {\"field\": \"bus_multiplier\", \"scale\": {\"domain\": [-0.25, 2.5]}, \"title\": \"Ratio of Bus to Car Travel Time\", \"type\": \"quantitative\"}}, \"transform\": [{\"calculate\": \"sqrt(-2*log(random()))*cos(2*PI*random())\", \"as\": \"jitter\"}], \"width\": 50}, {\"layer\": [{\"mark\": {\"type\": \"point\", \"opacity\": 0.6, \"size\": 20, \"strokeWidth\": 1.3}, \"encoding\": {\"color\": {\"value\": \"#323434\"}, \"y\": {\"field\": \"bus_multiplier\", \"type\": \"quantitative\"}}, \"transform\": [{\"filter\": \"(datum.p50_trip === 1)\"}]}, {\"mark\": {\"type\": \"text\", \"align\": \"center\", \"baseline\": \"middle\"}, \"encoding\": {\"color\": {\"value\": \"black\"}, \"text\": {\"field\": \"pct_trips_competitive\", \"format\": \".0%\", \"type\": \"quantitative\"}, \"tooltip\": [{\"field\": \"route_id\", \"type\": \"nominal\"}, {\"field\": \"trip_id\", \"type\": \"nominal\"}, {\"field\": \"service_hours\", \"type\": \"quantitative\"}, {\"field\": \"car_duration_hours\", \"type\": \"quantitative\"}, {\"field\": \"bus_multiplier\", \"type\": \"quantitative\"}, {\"field\": \"bus_difference\", \"type\": \"quantitative\"}, {\"field\": \"num_trips\", \"type\": \"quantitative\"}, {\"field\": \"num_competitive\", \"type\": \"quantitative\"}, {\"field\": \"pct_trips_competitive\", \"type\": \"quantitative\"}, {\"field\": \"p25\", \"type\": \"quantitative\"}, {\"field\": \"p50\", \"type\": \"quantitative\"}, {\"field\": \"p75\", \"type\": \"quantitative\"}], \"x\": {\"value\": 30}, \"y\": {\"value\": 15}}, \"transform\": [{\"calculate\": \"sqrt(-2*log(random()))*cos(2*PI*random())\", \"as\": \"jitter\"}, {\"filter\": \"(datum.fastest_trip === 1)\"}]}]}]}, \"resolve\": {\"scale\": {\"y\": \"shared\"}}, \"title\": \"Ratio of Bus to Car Travel Time\", \"$schema\": \"https://vega.github.io/schema/vega-lite/v4.17.0.json\", \"datasets\": {\"data-e6d31a79e8fe7c457f065fe23d48804c\": [{\"calitp_itp_id\": 212, \"trip_key\": -50751044547860722, \"trip_id\": \"t_869617_b_489_tn_0\", \"shape_id\": \"p_273\", \"route_id\": \"347\", \"service_hours\": 0.83, \"trip_first_departure_ts\": 25200, \"trip_last_arrival_ts\": 28200, \"departure_hour\": 7, \"time_of_day\": \"AM Peak\", \"p25\": 0.83, \"p50\": 0.83, \"p75\": 0.83, \"p50_trip\": 1, \"fastest_trip\": 0, \"car_duration_hours\": 0.54, \"competitive_route\": 1, \"bus_multiplier\": 1.54, \"bus_difference\": 17.4, \"num_trips\": 11, \"num_competitive\": 11, \"pct_trips_competitive\": 1.0, \"bus_difference_spread\": 0.0, \"route_group\": \"short\", \"max_trip_hrs\": 0.83, \"max_trip_route_group\": 0.92, \"name\": \"Morongo Band of Mission Indians\", \"caltrans_district\": \"08 - San Bernardino\", \"drmt_organization_name\": null, \"cutoff2\": 20, \"cutoff\": 2}, {\"calitp_itp_id\": 212, \"trip_key\": 6565985030843497917, \"trip_id\": \"t_869626_b_489_tn_0\", \"shape_id\": \"p_273\", \"route_id\": \"347\", \"service_hours\": 0.83, \"trip_first_departure_ts\": 57600, \"trip_last_arrival_ts\": 60600, \"departure_hour\": 16, \"time_of_day\": \"Midday\", \"p25\": 0.83, \"p50\": 0.83, \"p75\": 0.83, \"p50_trip\": 1, \"fastest_trip\": 0, \"car_duration_hours\": 0.54, \"competitive_route\": 1, \"bus_multiplier\": 1.54, \"bus_difference\": 17.4, \"num_trips\": 11, \"num_competitive\": 11, \"pct_trips_competitive\": 1.0, \"bus_difference_spread\": 0.0, \"route_group\": \"short\", \"max_trip_hrs\": 0.83, \"max_trip_route_group\": 0.92, \"name\": \"Morongo Band of Mission Indians\", \"caltrans_district\": \"08 - San Bernardino\", \"drmt_organization_name\": null, \"cutoff2\": 20, \"cutoff\": 2}, {\"calitp_itp_id\": 212, \"trip_key\": -4816877801510912999, \"trip_id\": \"t_869625_b_489_tn_0\", \"shape_id\": \"p_273\", \"route_id\": \"347\", \"service_hours\": 0.83, \"trip_first_departure_ts\": 54000, \"trip_last_arrival_ts\": 57000, \"departure_hour\": 15, \"time_of_day\": \"Midday\", \"p25\": 0.83, \"p50\": 0.83, \"p75\": 0.83, \"p50_trip\": 1, \"fastest_trip\": 0, \"car_duration_hours\": 0.54, \"competitive_route\": 1, \"bus_multiplier\": 1.54, \"bus_difference\": 17.4, \"num_trips\": 11, \"num_competitive\": 11, \"pct_trips_competitive\": 1.0, \"bus_difference_spread\": 0.0, \"route_group\": \"short\", \"max_trip_hrs\": 0.83, \"max_trip_route_group\": 0.92, \"name\": \"Morongo Band of Mission Indians\", \"caltrans_district\": \"08 - San Bernardino\", \"drmt_organization_name\": null, \"cutoff2\": 20, \"cutoff\": 2}, {\"calitp_itp_id\": 212, \"trip_key\": 134933156221590924, \"trip_id\": \"t_869618_b_489_tn_0\", \"shape_id\": \"p_273\", \"route_id\": \"347\", \"service_hours\": 0.83, \"trip_first_departure_ts\": 28800, \"trip_last_arrival_ts\": 31800, \"departure_hour\": 8, \"time_of_day\": \"AM Peak\", \"p25\": 0.83, \"p50\": 0.83, \"p75\": 0.83, \"p50_trip\": 1, \"fastest_trip\": 0, \"car_duration_hours\": 0.54, \"competitive_route\": 1, \"bus_multiplier\": 1.54, \"bus_difference\": 17.4, \"num_trips\": 11, \"num_competitive\": 11, \"pct_trips_competitive\": 1.0, \"bus_difference_spread\": 0.0, \"route_group\": \"short\", \"max_trip_hrs\": 0.83, \"max_trip_route_group\": 0.92, \"name\": \"Morongo Band of Mission Indians\", \"caltrans_district\": \"08 - San Bernardino\", \"drmt_organization_name\": null, \"cutoff2\": 20, \"cutoff\": 2}, {\"calitp_itp_id\": 212, \"trip_key\": 6524374184765815018, \"trip_id\": \"t_869627_b_489_tn_0\", \"shape_id\": \"p_273\", \"route_id\": \"347\", \"service_hours\": 0.83, \"trip_first_departure_ts\": 61200, \"trip_last_arrival_ts\": 64200, \"departure_hour\": 17, \"time_of_day\": \"PM Peak\", \"p25\": 0.83, \"p50\": 0.83, \"p75\": 0.83, \"p50_trip\": 1, \"fastest_trip\": 1, \"car_duration_hours\": 0.54, \"competitive_route\": 1, \"bus_multiplier\": 1.54, \"bus_difference\": 17.4, \"num_trips\": 11, \"num_competitive\": 11, \"pct_trips_competitive\": 1.0, \"bus_difference_spread\": 0.0, \"route_group\": \"short\", \"max_trip_hrs\": 0.83, \"max_trip_route_group\": 0.92, \"name\": \"Morongo Band of Mission Indians\", \"caltrans_district\": \"08 - San Bernardino\", \"drmt_organization_name\": null, \"cutoff2\": 20, \"cutoff\": 2}, {\"calitp_itp_id\": 212, \"trip_key\": 279715188915178658, \"trip_id\": \"t_869619_b_489_tn_0\", \"shape_id\": \"p_273\", \"route_id\": \"347\", \"service_hours\": 0.83, \"trip_first_departure_ts\": 32400, \"trip_last_arrival_ts\": 35400, \"departure_hour\": 9, \"time_of_day\": \"AM Peak\", \"p25\": 0.83, \"p50\": 0.83, \"p75\": 0.83, \"p50_trip\": 1, \"fastest_trip\": 0, \"car_duration_hours\": 0.54, \"competitive_route\": 1, \"bus_multiplier\": 1.54, \"bus_difference\": 17.4, \"num_trips\": 11, \"num_competitive\": 11, \"pct_trips_competitive\": 1.0, \"bus_difference_spread\": 0.0, \"route_group\": \"short\", \"max_trip_hrs\": 0.83, \"max_trip_route_group\": 0.92, \"name\": \"Morongo Band of Mission Indians\", \"caltrans_district\": \"08 - San Bernardino\", \"drmt_organization_name\": null, \"cutoff2\": 20, \"cutoff\": 2}, {\"calitp_itp_id\": 212, \"trip_key\": 6246359231528304994, \"trip_id\": \"t_869624_b_489_tn_0\", \"shape_id\": \"p_273\", \"route_id\": \"347\", \"service_hours\": 0.83, \"trip_first_departure_ts\": 50400, \"trip_last_arrival_ts\": 53400, \"departure_hour\": 14, \"time_of_day\": \"Midday\", \"p25\": 0.83, \"p50\": 0.83, \"p75\": 0.83, \"p50_trip\": 1, \"fastest_trip\": 0, \"car_duration_hours\": 0.54, \"competitive_route\": 1, \"bus_multiplier\": 1.54, \"bus_difference\": 17.4, \"num_trips\": 11, \"num_competitive\": 11, \"pct_trips_competitive\": 1.0, \"bus_difference_spread\": 0.0, \"route_group\": \"short\", \"max_trip_hrs\": 0.83, \"max_trip_route_group\": 0.92, \"name\": \"Morongo Band of Mission Indians\", \"caltrans_district\": \"08 - San Bernardino\", \"drmt_organization_name\": null, \"cutoff2\": 20, \"cutoff\": 2}, {\"calitp_itp_id\": 212, \"trip_key\": -7823840397146035109, \"trip_id\": \"t_869622_b_489_tn_0\", \"shape_id\": \"p_273\", \"route_id\": \"347\", \"service_hours\": 0.83, \"trip_first_departure_ts\": 43200, \"trip_last_arrival_ts\": 46200, \"departure_hour\": 12, \"time_of_day\": \"Midday\", \"p25\": 0.83, \"p50\": 0.83, \"p75\": 0.83, \"p50_trip\": 1, \"fastest_trip\": 0, \"car_duration_hours\": 0.54, \"competitive_route\": 1, \"bus_multiplier\": 1.54, \"bus_difference\": 17.4, \"num_trips\": 11, \"num_competitive\": 11, \"pct_trips_competitive\": 1.0, \"bus_difference_spread\": 0.0, \"route_group\": \"short\", \"max_trip_hrs\": 0.83, \"max_trip_route_group\": 0.92, \"name\": \"Morongo Band of Mission Indians\", \"caltrans_district\": \"08 - San Bernardino\", \"drmt_organization_name\": null, \"cutoff2\": 20, \"cutoff\": 2}, {\"calitp_itp_id\": 212, \"trip_key\": 4418619400551468545, \"trip_id\": \"t_869623_b_489_tn_0\", \"shape_id\": \"p_273\", \"route_id\": \"347\", \"service_hours\": 0.83, \"trip_first_departure_ts\": 46800, \"trip_last_arrival_ts\": 49800, \"departure_hour\": 13, \"time_of_day\": \"Midday\", \"p25\": 0.83, \"p50\": 0.83, \"p75\": 0.83, \"p50_trip\": 1, \"fastest_trip\": 0, \"car_duration_hours\": 0.54, \"competitive_route\": 1, \"bus_multiplier\": 1.54, \"bus_difference\": 17.4, \"num_trips\": 11, \"num_competitive\": 11, \"pct_trips_competitive\": 1.0, \"bus_difference_spread\": 0.0, \"route_group\": \"short\", \"max_trip_hrs\": 0.83, \"max_trip_route_group\": 0.92, \"name\": \"Morongo Band of Mission Indians\", \"caltrans_district\": \"08 - San Bernardino\", \"drmt_organization_name\": null, \"cutoff2\": 20, \"cutoff\": 2}, {\"calitp_itp_id\": 212, \"trip_key\": -2994078164148274936, \"trip_id\": \"t_869621_b_489_tn_0\", \"shape_id\": \"p_273\", \"route_id\": \"347\", \"service_hours\": 0.83, \"trip_first_departure_ts\": 39600, \"trip_last_arrival_ts\": 42600, \"departure_hour\": 11, \"time_of_day\": \"Midday\", \"p25\": 0.83, \"p50\": 0.83, \"p75\": 0.83, \"p50_trip\": 1, \"fastest_trip\": 0, \"car_duration_hours\": 0.54, \"competitive_route\": 1, \"bus_multiplier\": 1.54, \"bus_difference\": 17.4, \"num_trips\": 11, \"num_competitive\": 11, \"pct_trips_competitive\": 1.0, \"bus_difference_spread\": 0.0, \"route_group\": \"short\", \"max_trip_hrs\": 0.83, \"max_trip_route_group\": 0.92, \"name\": \"Morongo Band of Mission Indians\", \"caltrans_district\": \"08 - San Bernardino\", \"drmt_organization_name\": null, \"cutoff2\": 20, \"cutoff\": 2}, {\"calitp_itp_id\": 212, \"trip_key\": -5509352696499390412, \"trip_id\": \"t_869620_b_489_tn_0\", \"shape_id\": \"p_273\", \"route_id\": \"347\", \"service_hours\": 0.83, \"trip_first_departure_ts\": 36000, \"trip_last_arrival_ts\": 39000, \"departure_hour\": 10, \"time_of_day\": \"Midday\", \"p25\": 0.83, \"p50\": 0.83, \"p75\": 0.83, \"p50_trip\": 1, \"fastest_trip\": 0, \"car_duration_hours\": 0.54, \"competitive_route\": 1, \"bus_multiplier\": 1.54, \"bus_difference\": 17.4, \"num_trips\": 11, \"num_competitive\": 11, \"pct_trips_competitive\": 1.0, \"bus_difference_spread\": 0.0, \"route_group\": \"short\", \"max_trip_hrs\": 0.83, \"max_trip_route_group\": 0.92, \"name\": \"Morongo Band of Mission Indians\", \"caltrans_district\": \"08 - San Bernardino\", \"drmt_organization_name\": null, \"cutoff2\": 20, \"cutoff\": 2}]}}, {\"mode\": \"vega-lite\"});\n",
       "</script>"
      ],
      "text/plain": [
       "alt.FacetChart(...)"
      ]
     },
     "metadata": {},
     "output_type": "display_data"
    },
    {
     "data": {
      "text/html": [
       "\n",
       "<div id=\"altair-viz-229468ee75904f4d96db9bea42bebd66\"></div>\n",
       "<script type=\"text/javascript\">\n",
       "  var VEGA_DEBUG = (typeof VEGA_DEBUG == \"undefined\") ? {} : VEGA_DEBUG;\n",
       "  (function(spec, embedOpt){\n",
       "    let outputDiv = document.currentScript.previousElementSibling;\n",
       "    if (outputDiv.id !== \"altair-viz-229468ee75904f4d96db9bea42bebd66\") {\n",
       "      outputDiv = document.getElementById(\"altair-viz-229468ee75904f4d96db9bea42bebd66\");\n",
       "    }\n",
       "    const paths = {\n",
       "      \"vega\": \"https://cdn.jsdelivr.net/npm//vega@5?noext\",\n",
       "      \"vega-lib\": \"https://cdn.jsdelivr.net/npm//vega-lib?noext\",\n",
       "      \"vega-lite\": \"https://cdn.jsdelivr.net/npm//vega-lite@4.17.0?noext\",\n",
       "      \"vega-embed\": \"https://cdn.jsdelivr.net/npm//vega-embed@6?noext\",\n",
       "    };\n",
       "\n",
       "    function maybeLoadScript(lib, version) {\n",
       "      var key = `${lib.replace(\"-\", \"\")}_version`;\n",
       "      return (VEGA_DEBUG[key] == version) ?\n",
       "        Promise.resolve(paths[lib]) :\n",
       "        new Promise(function(resolve, reject) {\n",
       "          var s = document.createElement('script');\n",
       "          document.getElementsByTagName(\"head\")[0].appendChild(s);\n",
       "          s.async = true;\n",
       "          s.onload = () => {\n",
       "            VEGA_DEBUG[key] = version;\n",
       "            return resolve(paths[lib]);\n",
       "          };\n",
       "          s.onerror = () => reject(`Error loading script: ${paths[lib]}`);\n",
       "          s.src = paths[lib];\n",
       "        });\n",
       "    }\n",
       "\n",
       "    function showError(err) {\n",
       "      outputDiv.innerHTML = `<div class=\"error\" style=\"color:red;\">${err}</div>`;\n",
       "      throw err;\n",
       "    }\n",
       "\n",
       "    function displayChart(vegaEmbed) {\n",
       "      vegaEmbed(outputDiv, spec, embedOpt)\n",
       "        .catch(err => showError(`Javascript Error: ${err.message}<br>This usually means there's a typo in your chart specification. See the javascript console for the full traceback.`));\n",
       "    }\n",
       "\n",
       "    if(typeof define === \"function\" && define.amd) {\n",
       "      requirejs.config({paths});\n",
       "      require([\"vega-embed\"], displayChart, err => showError(`Error loading script: ${err.message}`));\n",
       "    } else {\n",
       "      maybeLoadScript(\"vega\", \"5\")\n",
       "        .then(() => maybeLoadScript(\"vega-lite\", \"4.17.0\"))\n",
       "        .then(() => maybeLoadScript(\"vega-embed\", \"6\"))\n",
       "        .catch(showError)\n",
       "        .then(() => displayChart(vegaEmbed));\n",
       "    }\n",
       "  })({\"config\": {\"view\": {\"continuousWidth\": 400, \"continuousHeight\": 300, \"stroke\": null}, \"facet\": {\"spacing\": 0}}, \"data\": {\"name\": \"data-c872270d33363462c12f5d1da631137d\"}, \"facet\": {\"column\": {\"field\": \"route_id\", \"sort\": [\"347\"], \"title\": \"Route ID\", \"type\": \"nominal\"}}, \"spec\": {\"layer\": [{\"mark\": \"rule\", \"encoding\": {\"color\": {\"value\": \"black\"}, \"y\": {\"field\": \"cutoff\", \"type\": \"quantitative\"}}, \"selection\": {\"selector002\": {\"type\": \"interval\", \"bind\": \"scales\", \"encodings\": [\"x\", \"y\"]}}}, {\"mark\": {\"type\": \"rule\", \"strokeDash\": [3, 3]}, \"encoding\": {\"color\": {\"value\": \"#323434\"}, \"y\": {\"field\": \"cutoff2\", \"type\": \"quantitative\"}}}, {\"mark\": {\"type\": \"point\", \"opacity\": 0.65, \"size\": 12, \"strokeWidth\": 1.1}, \"encoding\": {\"color\": {\"field\": \"time_of_day\", \"scale\": {\"range\": [\"#136C97\", \"#E16B26\", \"#F6BF16\", \"#00896B\", \"#7790A3\", \"#5B559C\"]}, \"sort\": [\"AM Peak\", \"Midday\", \"PM Peak\", \"Owl Service\"], \"title\": \"Time of Day\", \"type\": \"nominal\"}, \"tooltip\": [{\"field\": \"route_id\", \"type\": \"nominal\"}, {\"field\": \"trip_id\", \"type\": \"nominal\"}, {\"field\": \"service_hours\", \"type\": \"quantitative\"}, {\"field\": \"car_duration_hours\", \"type\": \"quantitative\"}, {\"field\": \"bus_multiplier\", \"type\": \"quantitative\"}, {\"field\": \"bus_difference\", \"type\": \"quantitative\"}, {\"field\": \"num_trips\", \"type\": \"quantitative\"}, {\"field\": \"num_competitive\", \"type\": \"quantitative\"}, {\"field\": \"pct_trips_competitive\", \"type\": \"quantitative\"}, {\"field\": \"p25\", \"type\": \"quantitative\"}, {\"field\": \"p50\", \"type\": \"quantitative\"}, {\"field\": \"p75\", \"type\": \"quantitative\"}], \"x\": {\"axis\": {\"grid\": false, \"labels\": false, \"ticks\": true, \"values\": [0]}, \"field\": \"jitter\", \"scale\": {}, \"title\": null, \"type\": \"quantitative\"}, \"y\": {\"field\": \"bus_difference\", \"scale\": {\"domain\": [-5, 42.0]}, \"title\": \"Difference in Bus to Car Travel Time (min)\", \"type\": \"quantitative\"}}, \"transform\": [{\"calculate\": \"sqrt(-2*log(random()))*cos(2*PI*random())\", \"as\": \"jitter\"}], \"width\": 50}, {\"layer\": [{\"mark\": {\"type\": \"point\", \"opacity\": 0.6, \"size\": 20, \"strokeWidth\": 1.3}, \"encoding\": {\"color\": {\"value\": \"#323434\"}, \"y\": {\"field\": \"bus_difference\", \"type\": \"quantitative\"}}, \"transform\": [{\"filter\": \"(datum.p50_trip === 1)\"}]}, {\"mark\": {\"type\": \"text\", \"align\": \"center\", \"baseline\": \"middle\"}, \"encoding\": {\"color\": {\"value\": \"black\"}, \"text\": {\"field\": \"pct_trips_competitive\", \"format\": \".0%\", \"type\": \"quantitative\"}, \"tooltip\": [{\"field\": \"route_id\", \"type\": \"nominal\"}, {\"field\": \"trip_id\", \"type\": \"nominal\"}, {\"field\": \"service_hours\", \"type\": \"quantitative\"}, {\"field\": \"car_duration_hours\", \"type\": \"quantitative\"}, {\"field\": \"bus_multiplier\", \"type\": \"quantitative\"}, {\"field\": \"bus_difference\", \"type\": \"quantitative\"}, {\"field\": \"num_trips\", \"type\": \"quantitative\"}, {\"field\": \"num_competitive\", \"type\": \"quantitative\"}, {\"field\": \"pct_trips_competitive\", \"type\": \"quantitative\"}, {\"field\": \"p25\", \"type\": \"quantitative\"}, {\"field\": \"p50\", \"type\": \"quantitative\"}, {\"field\": \"p75\", \"type\": \"quantitative\"}], \"x\": {\"value\": 30}, \"y\": {\"value\": 15}}, \"transform\": [{\"calculate\": \"sqrt(-2*log(random()))*cos(2*PI*random())\", \"as\": \"jitter\"}, {\"filter\": \"(datum.fastest_trip === 1)\"}]}]}]}, \"resolve\": {\"scale\": {\"y\": \"shared\"}}, \"title\": \"Difference in Bus to Car Travel Time (min)\", \"$schema\": \"https://vega.github.io/schema/vega-lite/v4.17.0.json\", \"datasets\": {\"data-c872270d33363462c12f5d1da631137d\": [{\"calitp_itp_id\": 212, \"trip_key\": -50751044547860722, \"trip_id\": \"t_869617_b_489_tn_0\", \"shape_id\": \"p_273\", \"route_id\": \"347\", \"service_hours\": 0.83, \"trip_first_departure_ts\": 25200, \"trip_last_arrival_ts\": 28200, \"departure_hour\": 7, \"time_of_day\": \"AM Peak\", \"p25\": 0.83, \"p50\": 0.83, \"p75\": 0.83, \"p50_trip\": 1, \"fastest_trip\": 0, \"car_duration_hours\": 0.54, \"competitive_route\": 1, \"bus_multiplier\": 1.54, \"bus_difference\": 17.4, \"num_trips\": 11, \"num_competitive\": 11, \"pct_trips_competitive\": 1.0, \"bus_difference_spread\": 0.0, \"route_group\": \"short\", \"max_trip_hrs\": 0.83, \"max_trip_route_group\": 0.92, \"name\": \"Morongo Band of Mission Indians\", \"caltrans_district\": \"08 - San Bernardino\", \"drmt_organization_name\": null, \"cutoff2\": 20, \"cutoff\": 0}, {\"calitp_itp_id\": 212, \"trip_key\": 6565985030843497917, \"trip_id\": \"t_869626_b_489_tn_0\", \"shape_id\": \"p_273\", \"route_id\": \"347\", \"service_hours\": 0.83, \"trip_first_departure_ts\": 57600, \"trip_last_arrival_ts\": 60600, \"departure_hour\": 16, \"time_of_day\": \"Midday\", \"p25\": 0.83, \"p50\": 0.83, \"p75\": 0.83, \"p50_trip\": 1, \"fastest_trip\": 0, \"car_duration_hours\": 0.54, \"competitive_route\": 1, \"bus_multiplier\": 1.54, \"bus_difference\": 17.4, \"num_trips\": 11, \"num_competitive\": 11, \"pct_trips_competitive\": 1.0, \"bus_difference_spread\": 0.0, \"route_group\": \"short\", \"max_trip_hrs\": 0.83, \"max_trip_route_group\": 0.92, \"name\": \"Morongo Band of Mission Indians\", \"caltrans_district\": \"08 - San Bernardino\", \"drmt_organization_name\": null, \"cutoff2\": 20, \"cutoff\": 0}, {\"calitp_itp_id\": 212, \"trip_key\": -4816877801510912999, \"trip_id\": \"t_869625_b_489_tn_0\", \"shape_id\": \"p_273\", \"route_id\": \"347\", \"service_hours\": 0.83, \"trip_first_departure_ts\": 54000, \"trip_last_arrival_ts\": 57000, \"departure_hour\": 15, \"time_of_day\": \"Midday\", \"p25\": 0.83, \"p50\": 0.83, \"p75\": 0.83, \"p50_trip\": 1, \"fastest_trip\": 0, \"car_duration_hours\": 0.54, \"competitive_route\": 1, \"bus_multiplier\": 1.54, \"bus_difference\": 17.4, \"num_trips\": 11, \"num_competitive\": 11, \"pct_trips_competitive\": 1.0, \"bus_difference_spread\": 0.0, \"route_group\": \"short\", \"max_trip_hrs\": 0.83, \"max_trip_route_group\": 0.92, \"name\": \"Morongo Band of Mission Indians\", \"caltrans_district\": \"08 - San Bernardino\", \"drmt_organization_name\": null, \"cutoff2\": 20, \"cutoff\": 0}, {\"calitp_itp_id\": 212, \"trip_key\": 134933156221590924, \"trip_id\": \"t_869618_b_489_tn_0\", \"shape_id\": \"p_273\", \"route_id\": \"347\", \"service_hours\": 0.83, \"trip_first_departure_ts\": 28800, \"trip_last_arrival_ts\": 31800, \"departure_hour\": 8, \"time_of_day\": \"AM Peak\", \"p25\": 0.83, \"p50\": 0.83, \"p75\": 0.83, \"p50_trip\": 1, \"fastest_trip\": 0, \"car_duration_hours\": 0.54, \"competitive_route\": 1, \"bus_multiplier\": 1.54, \"bus_difference\": 17.4, \"num_trips\": 11, \"num_competitive\": 11, \"pct_trips_competitive\": 1.0, \"bus_difference_spread\": 0.0, \"route_group\": \"short\", \"max_trip_hrs\": 0.83, \"max_trip_route_group\": 0.92, \"name\": \"Morongo Band of Mission Indians\", \"caltrans_district\": \"08 - San Bernardino\", \"drmt_organization_name\": null, \"cutoff2\": 20, \"cutoff\": 0}, {\"calitp_itp_id\": 212, \"trip_key\": 6524374184765815018, \"trip_id\": \"t_869627_b_489_tn_0\", \"shape_id\": \"p_273\", \"route_id\": \"347\", \"service_hours\": 0.83, \"trip_first_departure_ts\": 61200, \"trip_last_arrival_ts\": 64200, \"departure_hour\": 17, \"time_of_day\": \"PM Peak\", \"p25\": 0.83, \"p50\": 0.83, \"p75\": 0.83, \"p50_trip\": 1, \"fastest_trip\": 1, \"car_duration_hours\": 0.54, \"competitive_route\": 1, \"bus_multiplier\": 1.54, \"bus_difference\": 17.4, \"num_trips\": 11, \"num_competitive\": 11, \"pct_trips_competitive\": 1.0, \"bus_difference_spread\": 0.0, \"route_group\": \"short\", \"max_trip_hrs\": 0.83, \"max_trip_route_group\": 0.92, \"name\": \"Morongo Band of Mission Indians\", \"caltrans_district\": \"08 - San Bernardino\", \"drmt_organization_name\": null, \"cutoff2\": 20, \"cutoff\": 0}, {\"calitp_itp_id\": 212, \"trip_key\": 279715188915178658, \"trip_id\": \"t_869619_b_489_tn_0\", \"shape_id\": \"p_273\", \"route_id\": \"347\", \"service_hours\": 0.83, \"trip_first_departure_ts\": 32400, \"trip_last_arrival_ts\": 35400, \"departure_hour\": 9, \"time_of_day\": \"AM Peak\", \"p25\": 0.83, \"p50\": 0.83, \"p75\": 0.83, \"p50_trip\": 1, \"fastest_trip\": 0, \"car_duration_hours\": 0.54, \"competitive_route\": 1, \"bus_multiplier\": 1.54, \"bus_difference\": 17.4, \"num_trips\": 11, \"num_competitive\": 11, \"pct_trips_competitive\": 1.0, \"bus_difference_spread\": 0.0, \"route_group\": \"short\", \"max_trip_hrs\": 0.83, \"max_trip_route_group\": 0.92, \"name\": \"Morongo Band of Mission Indians\", \"caltrans_district\": \"08 - San Bernardino\", \"drmt_organization_name\": null, \"cutoff2\": 20, \"cutoff\": 0}, {\"calitp_itp_id\": 212, \"trip_key\": 6246359231528304994, \"trip_id\": \"t_869624_b_489_tn_0\", \"shape_id\": \"p_273\", \"route_id\": \"347\", \"service_hours\": 0.83, \"trip_first_departure_ts\": 50400, \"trip_last_arrival_ts\": 53400, \"departure_hour\": 14, \"time_of_day\": \"Midday\", \"p25\": 0.83, \"p50\": 0.83, \"p75\": 0.83, \"p50_trip\": 1, \"fastest_trip\": 0, \"car_duration_hours\": 0.54, \"competitive_route\": 1, \"bus_multiplier\": 1.54, \"bus_difference\": 17.4, \"num_trips\": 11, \"num_competitive\": 11, \"pct_trips_competitive\": 1.0, \"bus_difference_spread\": 0.0, \"route_group\": \"short\", \"max_trip_hrs\": 0.83, \"max_trip_route_group\": 0.92, \"name\": \"Morongo Band of Mission Indians\", \"caltrans_district\": \"08 - San Bernardino\", \"drmt_organization_name\": null, \"cutoff2\": 20, \"cutoff\": 0}, {\"calitp_itp_id\": 212, \"trip_key\": -7823840397146035109, \"trip_id\": \"t_869622_b_489_tn_0\", \"shape_id\": \"p_273\", \"route_id\": \"347\", \"service_hours\": 0.83, \"trip_first_departure_ts\": 43200, \"trip_last_arrival_ts\": 46200, \"departure_hour\": 12, \"time_of_day\": \"Midday\", \"p25\": 0.83, \"p50\": 0.83, \"p75\": 0.83, \"p50_trip\": 1, \"fastest_trip\": 0, \"car_duration_hours\": 0.54, \"competitive_route\": 1, \"bus_multiplier\": 1.54, \"bus_difference\": 17.4, \"num_trips\": 11, \"num_competitive\": 11, \"pct_trips_competitive\": 1.0, \"bus_difference_spread\": 0.0, \"route_group\": \"short\", \"max_trip_hrs\": 0.83, \"max_trip_route_group\": 0.92, \"name\": \"Morongo Band of Mission Indians\", \"caltrans_district\": \"08 - San Bernardino\", \"drmt_organization_name\": null, \"cutoff2\": 20, \"cutoff\": 0}, {\"calitp_itp_id\": 212, \"trip_key\": 4418619400551468545, \"trip_id\": \"t_869623_b_489_tn_0\", \"shape_id\": \"p_273\", \"route_id\": \"347\", \"service_hours\": 0.83, \"trip_first_departure_ts\": 46800, \"trip_last_arrival_ts\": 49800, \"departure_hour\": 13, \"time_of_day\": \"Midday\", \"p25\": 0.83, \"p50\": 0.83, \"p75\": 0.83, \"p50_trip\": 1, \"fastest_trip\": 0, \"car_duration_hours\": 0.54, \"competitive_route\": 1, \"bus_multiplier\": 1.54, \"bus_difference\": 17.4, \"num_trips\": 11, \"num_competitive\": 11, \"pct_trips_competitive\": 1.0, \"bus_difference_spread\": 0.0, \"route_group\": \"short\", \"max_trip_hrs\": 0.83, \"max_trip_route_group\": 0.92, \"name\": \"Morongo Band of Mission Indians\", \"caltrans_district\": \"08 - San Bernardino\", \"drmt_organization_name\": null, \"cutoff2\": 20, \"cutoff\": 0}, {\"calitp_itp_id\": 212, \"trip_key\": -2994078164148274936, \"trip_id\": \"t_869621_b_489_tn_0\", \"shape_id\": \"p_273\", \"route_id\": \"347\", \"service_hours\": 0.83, \"trip_first_departure_ts\": 39600, \"trip_last_arrival_ts\": 42600, \"departure_hour\": 11, \"time_of_day\": \"Midday\", \"p25\": 0.83, \"p50\": 0.83, \"p75\": 0.83, \"p50_trip\": 1, \"fastest_trip\": 0, \"car_duration_hours\": 0.54, \"competitive_route\": 1, \"bus_multiplier\": 1.54, \"bus_difference\": 17.4, \"num_trips\": 11, \"num_competitive\": 11, \"pct_trips_competitive\": 1.0, \"bus_difference_spread\": 0.0, \"route_group\": \"short\", \"max_trip_hrs\": 0.83, \"max_trip_route_group\": 0.92, \"name\": \"Morongo Band of Mission Indians\", \"caltrans_district\": \"08 - San Bernardino\", \"drmt_organization_name\": null, \"cutoff2\": 20, \"cutoff\": 0}, {\"calitp_itp_id\": 212, \"trip_key\": -5509352696499390412, \"trip_id\": \"t_869620_b_489_tn_0\", \"shape_id\": \"p_273\", \"route_id\": \"347\", \"service_hours\": 0.83, \"trip_first_departure_ts\": 36000, \"trip_last_arrival_ts\": 39000, \"departure_hour\": 10, \"time_of_day\": \"Midday\", \"p25\": 0.83, \"p50\": 0.83, \"p75\": 0.83, \"p50_trip\": 1, \"fastest_trip\": 0, \"car_duration_hours\": 0.54, \"competitive_route\": 1, \"bus_multiplier\": 1.54, \"bus_difference\": 17.4, \"num_trips\": 11, \"num_competitive\": 11, \"pct_trips_competitive\": 1.0, \"bus_difference_spread\": 0.0, \"route_group\": \"short\", \"max_trip_hrs\": 0.83, \"max_trip_route_group\": 0.92, \"name\": \"Morongo Band of Mission Indians\", \"caltrans_district\": \"08 - San Bernardino\", \"drmt_organization_name\": null, \"cutoff2\": 20, \"cutoff\": 0}]}}, {\"mode\": \"vega-lite\"});\n",
       "</script>"
      ],
      "text/plain": [
       "alt.FacetChart(...)"
      ]
     },
     "metadata": {},
     "output_type": "display_data"
    }
   ],
   "source": [
    "# Allow for possibility that operator doesn't have routes that fall into certain route_groups\n",
    "# But, jupyterbook will not like markdown with f-string\n",
    "# separate out route_group and put in each cell, and use try/except + if to display...\n",
    "# but all 3 route groups must be displayed. just add sentence about why no routes were returned at the end\n",
    "route_group = \"short\"\n",
    "try:\n",
    "    display_charts_for_route_group(df, route_group)\n",
    "except:\n",
    "    print(\"No routes meet this criteria.\")"
   ]
  },
  {
   "cell_type": "markdown",
   "id": "c2931b6f-034d-4384-9e14-80b925e3b820",
   "metadata": {
    "papermill": {
     "duration": 0.018297,
     "end_time": "2022-05-09T20:14:17.278055",
     "exception": false,
     "start_time": "2022-05-09T20:14:17.259758",
     "status": "completed"
    },
    "tags": []
   },
   "source": [
    "### Medium Routes (1-1.5 hrs)"
   ]
  },
  {
   "cell_type": "code",
   "execution_count": 14,
   "id": "480edddc-4de0-48c2-ae4c-b0ceef8f28b5",
   "metadata": {
    "execution": {
     "iopub.execute_input": "2022-05-09T20:14:17.322115Z",
     "iopub.status.busy": "2022-05-09T20:14:17.321329Z",
     "iopub.status.idle": "2022-05-09T20:14:17.606560Z",
     "shell.execute_reply": "2022-05-09T20:14:17.592439Z"
    },
    "jupyter": {
     "source_hidden": true
    },
    "papermill": {
     "duration": 0.314581,
     "end_time": "2022-05-09T20:14:17.609859",
     "exception": false,
     "start_time": "2022-05-09T20:14:17.295278",
     "status": "completed"
    },
    "tags": [
     "remove_input"
    ]
   },
   "outputs": [
    {
     "data": {
      "text/markdown": [
       "<br>These are routes that have **at least 25% of their trips take no more than an additional 30 min** compared to a car (up to 15 routes) are shown.<br>Within each route group, routes are sorted in descending order by % competitive trips and # trips below the additional time cut-off."
      ],
      "text/plain": [
       "<IPython.core.display.Markdown object>"
      ]
     },
     "metadata": {},
     "output_type": "display_data"
    },
    {
     "data": {
      "text/html": [
       "\n",
       "<div id=\"altair-viz-c1814276ac234f16a779e8a32fcab2f2\"></div>\n",
       "<script type=\"text/javascript\">\n",
       "  var VEGA_DEBUG = (typeof VEGA_DEBUG == \"undefined\") ? {} : VEGA_DEBUG;\n",
       "  (function(spec, embedOpt){\n",
       "    let outputDiv = document.currentScript.previousElementSibling;\n",
       "    if (outputDiv.id !== \"altair-viz-c1814276ac234f16a779e8a32fcab2f2\") {\n",
       "      outputDiv = document.getElementById(\"altair-viz-c1814276ac234f16a779e8a32fcab2f2\");\n",
       "    }\n",
       "    const paths = {\n",
       "      \"vega\": \"https://cdn.jsdelivr.net/npm//vega@5?noext\",\n",
       "      \"vega-lib\": \"https://cdn.jsdelivr.net/npm//vega-lib?noext\",\n",
       "      \"vega-lite\": \"https://cdn.jsdelivr.net/npm//vega-lite@4.17.0?noext\",\n",
       "      \"vega-embed\": \"https://cdn.jsdelivr.net/npm//vega-embed@6?noext\",\n",
       "    };\n",
       "\n",
       "    function maybeLoadScript(lib, version) {\n",
       "      var key = `${lib.replace(\"-\", \"\")}_version`;\n",
       "      return (VEGA_DEBUG[key] == version) ?\n",
       "        Promise.resolve(paths[lib]) :\n",
       "        new Promise(function(resolve, reject) {\n",
       "          var s = document.createElement('script');\n",
       "          document.getElementsByTagName(\"head\")[0].appendChild(s);\n",
       "          s.async = true;\n",
       "          s.onload = () => {\n",
       "            VEGA_DEBUG[key] = version;\n",
       "            return resolve(paths[lib]);\n",
       "          };\n",
       "          s.onerror = () => reject(`Error loading script: ${paths[lib]}`);\n",
       "          s.src = paths[lib];\n",
       "        });\n",
       "    }\n",
       "\n",
       "    function showError(err) {\n",
       "      outputDiv.innerHTML = `<div class=\"error\" style=\"color:red;\">${err}</div>`;\n",
       "      throw err;\n",
       "    }\n",
       "\n",
       "    function displayChart(vegaEmbed) {\n",
       "      vegaEmbed(outputDiv, spec, embedOpt)\n",
       "        .catch(err => showError(`Javascript Error: ${err.message}<br>This usually means there's a typo in your chart specification. See the javascript console for the full traceback.`));\n",
       "    }\n",
       "\n",
       "    if(typeof define === \"function\" && define.amd) {\n",
       "      requirejs.config({paths});\n",
       "      require([\"vega-embed\"], displayChart, err => showError(`Error loading script: ${err.message}`));\n",
       "    } else {\n",
       "      maybeLoadScript(\"vega\", \"5\")\n",
       "        .then(() => maybeLoadScript(\"vega-lite\", \"4.17.0\"))\n",
       "        .then(() => maybeLoadScript(\"vega-embed\", \"6\"))\n",
       "        .catch(showError)\n",
       "        .then(() => displayChart(vegaEmbed));\n",
       "    }\n",
       "  })({\"config\": {\"view\": {\"continuousWidth\": 400, \"continuousHeight\": 300, \"stroke\": null}, \"facet\": {\"spacing\": 0}}, \"data\": {\"name\": \"data-d13e5ca1b73bab37eda101ab7167d0ae\"}, \"facet\": {\"column\": {\"field\": \"route_id\", \"sort\": [\"350\", \"349\"], \"title\": \"Route ID\", \"type\": \"nominal\"}}, \"spec\": {\"layer\": [{\"mark\": \"rule\", \"encoding\": {\"color\": {\"value\": \"black\"}, \"y\": {\"field\": \"cutoff\", \"type\": \"quantitative\"}}, \"selection\": {\"selector003\": {\"type\": \"interval\", \"bind\": \"scales\", \"encodings\": [\"x\", \"y\"]}}}, {\"mark\": {\"type\": \"point\", \"opacity\": 0.65, \"size\": 12, \"strokeWidth\": 1.1}, \"encoding\": {\"color\": {\"field\": \"time_of_day\", \"scale\": {\"range\": [\"#136C97\", \"#E16B26\", \"#F6BF16\", \"#00896B\", \"#7790A3\", \"#5B559C\"]}, \"sort\": [\"AM Peak\", \"Midday\", \"PM Peak\", \"Owl Service\"], \"title\": \"Time of Day\", \"type\": \"nominal\"}, \"tooltip\": [{\"field\": \"route_id\", \"type\": \"nominal\"}, {\"field\": \"trip_id\", \"type\": \"nominal\"}, {\"field\": \"service_hours\", \"type\": \"quantitative\"}, {\"field\": \"car_duration_hours\", \"type\": \"quantitative\"}, {\"field\": \"bus_multiplier\", \"type\": \"quantitative\"}, {\"field\": \"bus_difference\", \"type\": \"quantitative\"}, {\"field\": \"num_trips\", \"type\": \"quantitative\"}, {\"field\": \"num_competitive\", \"type\": \"quantitative\"}, {\"field\": \"pct_trips_competitive\", \"type\": \"quantitative\"}, {\"field\": \"p25\", \"type\": \"quantitative\"}, {\"field\": \"p50\", \"type\": \"quantitative\"}, {\"field\": \"p75\", \"type\": \"quantitative\"}], \"x\": {\"axis\": {\"grid\": false, \"labels\": false, \"ticks\": true, \"values\": [0]}, \"field\": \"jitter\", \"scale\": {}, \"title\": null, \"type\": \"quantitative\"}, \"y\": {\"field\": \"bus_multiplier\", \"scale\": {\"domain\": [-0.25, 2.5]}, \"title\": \"Ratio of Bus to Car Travel Time\", \"type\": \"quantitative\"}}, \"transform\": [{\"calculate\": \"sqrt(-2*log(random()))*cos(2*PI*random())\", \"as\": \"jitter\"}], \"width\": 50}, {\"layer\": [{\"mark\": {\"type\": \"point\", \"opacity\": 0.6, \"size\": 20, \"strokeWidth\": 1.3}, \"encoding\": {\"color\": {\"value\": \"#323434\"}, \"y\": {\"field\": \"bus_multiplier\", \"type\": \"quantitative\"}}, \"transform\": [{\"filter\": \"(datum.p50_trip === 1)\"}]}, {\"mark\": {\"type\": \"text\", \"align\": \"center\", \"baseline\": \"middle\"}, \"encoding\": {\"color\": {\"value\": \"black\"}, \"text\": {\"field\": \"pct_trips_competitive\", \"format\": \".0%\", \"type\": \"quantitative\"}, \"tooltip\": [{\"field\": \"route_id\", \"type\": \"nominal\"}, {\"field\": \"trip_id\", \"type\": \"nominal\"}, {\"field\": \"service_hours\", \"type\": \"quantitative\"}, {\"field\": \"car_duration_hours\", \"type\": \"quantitative\"}, {\"field\": \"bus_multiplier\", \"type\": \"quantitative\"}, {\"field\": \"bus_difference\", \"type\": \"quantitative\"}, {\"field\": \"num_trips\", \"type\": \"quantitative\"}, {\"field\": \"num_competitive\", \"type\": \"quantitative\"}, {\"field\": \"pct_trips_competitive\", \"type\": \"quantitative\"}, {\"field\": \"p25\", \"type\": \"quantitative\"}, {\"field\": \"p50\", \"type\": \"quantitative\"}, {\"field\": \"p75\", \"type\": \"quantitative\"}], \"x\": {\"value\": 30}, \"y\": {\"value\": 15}}, \"transform\": [{\"calculate\": \"sqrt(-2*log(random()))*cos(2*PI*random())\", \"as\": \"jitter\"}, {\"filter\": \"(datum.fastest_trip === 1)\"}]}]}]}, \"resolve\": {\"scale\": {\"y\": \"shared\"}}, \"title\": \"Ratio of Bus to Car Travel Time\", \"$schema\": \"https://vega.github.io/schema/vega-lite/v4.17.0.json\", \"datasets\": {\"data-d13e5ca1b73bab37eda101ab7167d0ae\": [{\"calitp_itp_id\": 212, \"trip_key\": 5850337236365362568, \"trip_id\": \"t_869590_b_489_tn_0\", \"shape_id\": \"p_279\", \"route_id\": \"349\", \"service_hours\": 0.83, \"trip_first_departure_ts\": 46800, \"trip_last_arrival_ts\": 49800, \"departure_hour\": 13, \"time_of_day\": \"Midday\", \"p25\": 0.83, \"p50\": 0.83, \"p75\": 0.83, \"p50_trip\": 1, \"fastest_trip\": 0, \"car_duration_hours\": 0.52, \"competitive_route\": 1, \"bus_multiplier\": 1.6, \"bus_difference\": 18.6, \"num_trips\": 30, \"num_competitive\": 25, \"pct_trips_competitive\": 0.833, \"bus_difference_spread\": 23.4, \"route_group\": \"medium\", \"max_trip_hrs\": 1.22, \"max_trip_route_group\": 1.22, \"name\": \"Morongo Band of Mission Indians\", \"caltrans_district\": \"08 - San Bernardino\", \"drmt_organization_name\": null, \"cutoff2\": 30, \"cutoff\": 2}, {\"calitp_itp_id\": 212, \"trip_key\": -3733284907296554600, \"trip_id\": \"t_869584_b_489_tn_0\", \"shape_id\": \"p_279\", \"route_id\": \"349\", \"service_hours\": 0.83, \"trip_first_departure_ts\": 25200, \"trip_last_arrival_ts\": 28200, \"departure_hour\": 7, \"time_of_day\": \"AM Peak\", \"p25\": 0.83, \"p50\": 0.83, \"p75\": 0.83, \"p50_trip\": 1, \"fastest_trip\": 0, \"car_duration_hours\": 0.52, \"competitive_route\": 1, \"bus_multiplier\": 1.6, \"bus_difference\": 18.6, \"num_trips\": 30, \"num_competitive\": 25, \"pct_trips_competitive\": 0.833, \"bus_difference_spread\": 23.4, \"route_group\": \"medium\", \"max_trip_hrs\": 1.22, \"max_trip_route_group\": 1.22, \"name\": \"Morongo Band of Mission Indians\", \"caltrans_district\": \"08 - San Bernardino\", \"drmt_organization_name\": null, \"cutoff2\": 30, \"cutoff\": 2}, {\"calitp_itp_id\": 212, \"trip_key\": -6680245441941794366, \"trip_id\": \"t_869591_b_489_tn_0\", \"shape_id\": \"p_279\", \"route_id\": \"349\", \"service_hours\": 0.83, \"trip_first_departure_ts\": 50400, \"trip_last_arrival_ts\": 53400, \"departure_hour\": 14, \"time_of_day\": \"Midday\", \"p25\": 0.83, \"p50\": 0.83, \"p75\": 0.83, \"p50_trip\": 1, \"fastest_trip\": 0, \"car_duration_hours\": 0.52, \"competitive_route\": 1, \"bus_multiplier\": 1.6, \"bus_difference\": 18.6, \"num_trips\": 30, \"num_competitive\": 25, \"pct_trips_competitive\": 0.833, \"bus_difference_spread\": 23.4, \"route_group\": \"medium\", \"max_trip_hrs\": 1.22, \"max_trip_route_group\": 1.22, \"name\": \"Morongo Band of Mission Indians\", \"caltrans_district\": \"08 - San Bernardino\", \"drmt_organization_name\": null, \"cutoff2\": 30, \"cutoff\": 2}, {\"calitp_itp_id\": 212, \"trip_key\": -3539033563784263740, \"trip_id\": \"t_869577_b_489_tn_0\", \"shape_id\": \"p_272\", \"route_id\": \"349\", \"service_hours\": 0.83, \"trip_first_departure_ts\": 39600, \"trip_last_arrival_ts\": 42600, \"departure_hour\": 11, \"time_of_day\": \"Midday\", \"p25\": 0.83, \"p50\": 0.83, \"p75\": 0.83, \"p50_trip\": 1, \"fastest_trip\": 0, \"car_duration_hours\": 0.52, \"competitive_route\": 1, \"bus_multiplier\": 1.6, \"bus_difference\": 18.6, \"num_trips\": 30, \"num_competitive\": 25, \"pct_trips_competitive\": 0.833, \"bus_difference_spread\": 23.4, \"route_group\": \"medium\", \"max_trip_hrs\": 1.22, \"max_trip_route_group\": 1.22, \"name\": \"Morongo Band of Mission Indians\", \"caltrans_district\": \"08 - San Bernardino\", \"drmt_organization_name\": null, \"cutoff2\": 30, \"cutoff\": 2}, {\"calitp_itp_id\": 212, \"trip_key\": 7716272102889482960, \"trip_id\": \"t_869582_b_489_tn_0\", \"shape_id\": \"p_272\", \"route_id\": \"349\", \"service_hours\": 0.83, \"trip_first_departure_ts\": 57600, \"trip_last_arrival_ts\": 60600, \"departure_hour\": 16, \"time_of_day\": \"Midday\", \"p25\": 0.83, \"p50\": 0.83, \"p75\": 0.83, \"p50_trip\": 1, \"fastest_trip\": 0, \"car_duration_hours\": 0.52, \"competitive_route\": 1, \"bus_multiplier\": 1.6, \"bus_difference\": 18.6, \"num_trips\": 30, \"num_competitive\": 25, \"pct_trips_competitive\": 0.833, \"bus_difference_spread\": 23.4, \"route_group\": \"medium\", \"max_trip_hrs\": 1.22, \"max_trip_route_group\": 1.22, \"name\": \"Morongo Band of Mission Indians\", \"caltrans_district\": \"08 - San Bernardino\", \"drmt_organization_name\": null, \"cutoff2\": 30, \"cutoff\": 2}, {\"calitp_itp_id\": 212, \"trip_key\": -945826195563375557, \"trip_id\": \"t_869580_b_489_tn_0\", \"shape_id\": \"p_272\", \"route_id\": \"349\", \"service_hours\": 0.83, \"trip_first_departure_ts\": 50400, \"trip_last_arrival_ts\": 53400, \"departure_hour\": 14, \"time_of_day\": \"Midday\", \"p25\": 0.83, \"p50\": 0.83, \"p75\": 0.83, \"p50_trip\": 1, \"fastest_trip\": 0, \"car_duration_hours\": 0.52, \"competitive_route\": 1, \"bus_multiplier\": 1.6, \"bus_difference\": 18.6, \"num_trips\": 30, \"num_competitive\": 25, \"pct_trips_competitive\": 0.833, \"bus_difference_spread\": 23.4, \"route_group\": \"medium\", \"max_trip_hrs\": 1.22, \"max_trip_route_group\": 1.22, \"name\": \"Morongo Band of Mission Indians\", \"caltrans_district\": \"08 - San Bernardino\", \"drmt_organization_name\": null, \"cutoff2\": 30, \"cutoff\": 2}, {\"calitp_itp_id\": 212, \"trip_key\": 2025043753291756551, \"trip_id\": \"t_869588_b_489_tn_0\", \"shape_id\": \"p_279\", \"route_id\": \"349\", \"service_hours\": 0.83, \"trip_first_departure_ts\": 39600, \"trip_last_arrival_ts\": 42600, \"departure_hour\": 11, \"time_of_day\": \"Midday\", \"p25\": 0.83, \"p50\": 0.83, \"p75\": 0.83, \"p50_trip\": 1, \"fastest_trip\": 0, \"car_duration_hours\": 0.52, \"competitive_route\": 1, \"bus_multiplier\": 1.6, \"bus_difference\": 18.6, \"num_trips\": 30, \"num_competitive\": 25, \"pct_trips_competitive\": 0.833, \"bus_difference_spread\": 23.4, \"route_group\": \"medium\", \"max_trip_hrs\": 1.22, \"max_trip_route_group\": 1.22, \"name\": \"Morongo Band of Mission Indians\", \"caltrans_district\": \"08 - San Bernardino\", \"drmt_organization_name\": null, \"cutoff2\": 30, \"cutoff\": 2}, {\"calitp_itp_id\": 212, \"trip_key\": -2723586224887403272, \"trip_id\": \"t_869575_b_489_tn_0\", \"shape_id\": \"p_272\", \"route_id\": \"349\", \"service_hours\": 0.83, \"trip_first_departure_ts\": 32400, \"trip_last_arrival_ts\": 35400, \"departure_hour\": 9, \"time_of_day\": \"AM Peak\", \"p25\": 0.83, \"p50\": 0.83, \"p75\": 0.83, \"p50_trip\": 1, \"fastest_trip\": 0, \"car_duration_hours\": 0.52, \"competitive_route\": 1, \"bus_multiplier\": 1.6, \"bus_difference\": 18.6, \"num_trips\": 30, \"num_competitive\": 25, \"pct_trips_competitive\": 0.833, \"bus_difference_spread\": 23.4, \"route_group\": \"medium\", \"max_trip_hrs\": 1.22, \"max_trip_route_group\": 1.22, \"name\": \"Morongo Band of Mission Indians\", \"caltrans_district\": \"08 - San Bernardino\", \"drmt_organization_name\": null, \"cutoff2\": 30, \"cutoff\": 2}, {\"calitp_itp_id\": 212, \"trip_key\": 8278307551033318408, \"trip_id\": \"t_1384_b_489_tn_0\", \"shape_id\": \"p_178818\", \"route_id\": \"349\", \"service_hours\": 0.83, \"trip_first_departure_ts\": 21600, \"trip_last_arrival_ts\": 24600, \"departure_hour\": 6, \"time_of_day\": \"Owl Service\", \"p25\": 0.83, \"p50\": 0.83, \"p75\": 0.83, \"p50_trip\": 1, \"fastest_trip\": 0, \"car_duration_hours\": 0.52, \"competitive_route\": 1, \"bus_multiplier\": 1.6, \"bus_difference\": 18.6, \"num_trips\": 30, \"num_competitive\": 25, \"pct_trips_competitive\": 0.833, \"bus_difference_spread\": 23.4, \"route_group\": \"medium\", \"max_trip_hrs\": 1.22, \"max_trip_route_group\": 1.22, \"name\": \"Morongo Band of Mission Indians\", \"caltrans_district\": \"08 - San Bernardino\", \"drmt_organization_name\": null, \"cutoff2\": 30, \"cutoff\": 2}, {\"calitp_itp_id\": 212, \"trip_key\": -8497861685978056822, \"trip_id\": \"t_869589_b_489_tn_0\", \"shape_id\": \"p_279\", \"route_id\": \"349\", \"service_hours\": 0.83, \"trip_first_departure_ts\": 43200, \"trip_last_arrival_ts\": 46200, \"departure_hour\": 12, \"time_of_day\": \"Midday\", \"p25\": 0.83, \"p50\": 0.83, \"p75\": 0.83, \"p50_trip\": 1, \"fastest_trip\": 0, \"car_duration_hours\": 0.52, \"competitive_route\": 1, \"bus_multiplier\": 1.6, \"bus_difference\": 18.6, \"num_trips\": 30, \"num_competitive\": 25, \"pct_trips_competitive\": 0.833, \"bus_difference_spread\": 23.4, \"route_group\": \"medium\", \"max_trip_hrs\": 1.22, \"max_trip_route_group\": 1.22, \"name\": \"Morongo Band of Mission Indians\", \"caltrans_district\": \"08 - San Bernardino\", \"drmt_organization_name\": null, \"cutoff2\": 30, \"cutoff\": 2}, {\"calitp_itp_id\": 212, \"trip_key\": 516973843394186168, \"trip_id\": \"t_869576_b_489_tn_0\", \"shape_id\": \"p_272\", \"route_id\": \"349\", \"service_hours\": 0.83, \"trip_first_departure_ts\": 36000, \"trip_last_arrival_ts\": 39000, \"departure_hour\": 10, \"time_of_day\": \"Midday\", \"p25\": 0.83, \"p50\": 0.83, \"p75\": 0.83, \"p50_trip\": 1, \"fastest_trip\": 0, \"car_duration_hours\": 0.52, \"competitive_route\": 1, \"bus_multiplier\": 1.6, \"bus_difference\": 18.6, \"num_trips\": 30, \"num_competitive\": 25, \"pct_trips_competitive\": 0.833, \"bus_difference_spread\": 23.4, \"route_group\": \"medium\", \"max_trip_hrs\": 1.22, \"max_trip_route_group\": 1.22, \"name\": \"Morongo Band of Mission Indians\", \"caltrans_district\": \"08 - San Bernardino\", \"drmt_organization_name\": null, \"cutoff2\": 30, \"cutoff\": 2}, {\"calitp_itp_id\": 212, \"trip_key\": -996770051850407450, \"trip_id\": \"t_869579_b_489_tn_0\", \"shape_id\": \"p_272\", \"route_id\": \"349\", \"service_hours\": 0.83, \"trip_first_departure_ts\": 46800, \"trip_last_arrival_ts\": 49800, \"departure_hour\": 13, \"time_of_day\": \"Midday\", \"p25\": 0.83, \"p50\": 0.83, \"p75\": 0.83, \"p50_trip\": 1, \"fastest_trip\": 0, \"car_duration_hours\": 0.52, \"competitive_route\": 1, \"bus_multiplier\": 1.6, \"bus_difference\": 18.6, \"num_trips\": 30, \"num_competitive\": 25, \"pct_trips_competitive\": 0.833, \"bus_difference_spread\": 23.4, \"route_group\": \"medium\", \"max_trip_hrs\": 1.22, \"max_trip_route_group\": 1.22, \"name\": \"Morongo Band of Mission Indians\", \"caltrans_district\": \"08 - San Bernardino\", \"drmt_organization_name\": null, \"cutoff2\": 30, \"cutoff\": 2}, {\"calitp_itp_id\": 212, \"trip_key\": -5767180621765676816, \"trip_id\": \"t_1385_b_489_tn_0\", \"shape_id\": \"p_276\", \"route_id\": \"349\", \"service_hours\": 0.83, \"trip_first_departure_ts\": 21600, \"trip_last_arrival_ts\": 24600, \"departure_hour\": 6, \"time_of_day\": \"Owl Service\", \"p25\": 0.83, \"p50\": 0.83, \"p75\": 0.83, \"p50_trip\": 1, \"fastest_trip\": 0, \"car_duration_hours\": 0.52, \"competitive_route\": 1, \"bus_multiplier\": 1.6, \"bus_difference\": 18.6, \"num_trips\": 30, \"num_competitive\": 25, \"pct_trips_competitive\": 0.833, \"bus_difference_spread\": 23.4, \"route_group\": \"medium\", \"max_trip_hrs\": 1.22, \"max_trip_route_group\": 1.22, \"name\": \"Morongo Band of Mission Indians\", \"caltrans_district\": \"08 - San Bernardino\", \"drmt_organization_name\": null, \"cutoff2\": 30, \"cutoff\": 2}, {\"calitp_itp_id\": 212, \"trip_key\": -483327558155412322, \"trip_id\": \"t_869592_b_489_tn_0\", \"shape_id\": \"p_279\", \"route_id\": \"349\", \"service_hours\": 0.83, \"trip_first_departure_ts\": 54000, \"trip_last_arrival_ts\": 57000, \"departure_hour\": 15, \"time_of_day\": \"Midday\", \"p25\": 0.83, \"p50\": 0.83, \"p75\": 0.83, \"p50_trip\": 1, \"fastest_trip\": 0, \"car_duration_hours\": 0.52, \"competitive_route\": 1, \"bus_multiplier\": 1.6, \"bus_difference\": 18.6, \"num_trips\": 30, \"num_competitive\": 25, \"pct_trips_competitive\": 0.833, \"bus_difference_spread\": 23.4, \"route_group\": \"medium\", \"max_trip_hrs\": 1.22, \"max_trip_route_group\": 1.22, \"name\": \"Morongo Band of Mission Indians\", \"caltrans_district\": \"08 - San Bernardino\", \"drmt_organization_name\": null, \"cutoff2\": 30, \"cutoff\": 2}, {\"calitp_itp_id\": 212, \"trip_key\": 2806197447462977539, \"trip_id\": \"t_869573_b_489_tn_0\", \"shape_id\": \"p_272\", \"route_id\": \"349\", \"service_hours\": 0.83, \"trip_first_departure_ts\": 25200, \"trip_last_arrival_ts\": 28200, \"departure_hour\": 7, \"time_of_day\": \"AM Peak\", \"p25\": 0.83, \"p50\": 0.83, \"p75\": 0.83, \"p50_trip\": 1, \"fastest_trip\": 0, \"car_duration_hours\": 0.52, \"competitive_route\": 1, \"bus_multiplier\": 1.6, \"bus_difference\": 18.6, \"num_trips\": 30, \"num_competitive\": 25, \"pct_trips_competitive\": 0.833, \"bus_difference_spread\": 23.4, \"route_group\": \"medium\", \"max_trip_hrs\": 1.22, \"max_trip_route_group\": 1.22, \"name\": \"Morongo Band of Mission Indians\", \"caltrans_district\": \"08 - San Bernardino\", \"drmt_organization_name\": null, \"cutoff2\": 30, \"cutoff\": 2}, {\"calitp_itp_id\": 212, \"trip_key\": 7709892903398718119, \"trip_id\": \"t_869574_b_489_tn_0\", \"shape_id\": \"p_272\", \"route_id\": \"349\", \"service_hours\": 0.83, \"trip_first_departure_ts\": 28800, \"trip_last_arrival_ts\": 31800, \"departure_hour\": 8, \"time_of_day\": \"AM Peak\", \"p25\": 0.83, \"p50\": 0.83, \"p75\": 0.83, \"p50_trip\": 1, \"fastest_trip\": 0, \"car_duration_hours\": 0.52, \"competitive_route\": 1, \"bus_multiplier\": 1.6, \"bus_difference\": 18.6, \"num_trips\": 30, \"num_competitive\": 25, \"pct_trips_competitive\": 0.833, \"bus_difference_spread\": 23.4, \"route_group\": \"medium\", \"max_trip_hrs\": 1.22, \"max_trip_route_group\": 1.22, \"name\": \"Morongo Band of Mission Indians\", \"caltrans_district\": \"08 - San Bernardino\", \"drmt_organization_name\": null, \"cutoff2\": 30, \"cutoff\": 2}, {\"calitp_itp_id\": 212, \"trip_key\": -810498857071654717, \"trip_id\": \"t_869585_b_489_tn_0\", \"shape_id\": \"p_279\", \"route_id\": \"349\", \"service_hours\": 0.83, \"trip_first_departure_ts\": 28800, \"trip_last_arrival_ts\": 31800, \"departure_hour\": 8, \"time_of_day\": \"AM Peak\", \"p25\": 0.83, \"p50\": 0.83, \"p75\": 0.83, \"p50_trip\": 1, \"fastest_trip\": 0, \"car_duration_hours\": 0.52, \"competitive_route\": 1, \"bus_multiplier\": 1.6, \"bus_difference\": 18.6, \"num_trips\": 30, \"num_competitive\": 25, \"pct_trips_competitive\": 0.833, \"bus_difference_spread\": 23.4, \"route_group\": \"medium\", \"max_trip_hrs\": 1.22, \"max_trip_route_group\": 1.22, \"name\": \"Morongo Band of Mission Indians\", \"caltrans_district\": \"08 - San Bernardino\", \"drmt_organization_name\": null, \"cutoff2\": 30, \"cutoff\": 2}, {\"calitp_itp_id\": 212, \"trip_key\": -2636862393350685226, \"trip_id\": \"t_869587_b_489_tn_0\", \"shape_id\": \"p_279\", \"route_id\": \"349\", \"service_hours\": 0.83, \"trip_first_departure_ts\": 36000, \"trip_last_arrival_ts\": 39000, \"departure_hour\": 10, \"time_of_day\": \"Midday\", \"p25\": 0.83, \"p50\": 0.83, \"p75\": 0.83, \"p50_trip\": 1, \"fastest_trip\": 0, \"car_duration_hours\": 0.52, \"competitive_route\": 1, \"bus_multiplier\": 1.6, \"bus_difference\": 18.6, \"num_trips\": 30, \"num_competitive\": 25, \"pct_trips_competitive\": 0.833, \"bus_difference_spread\": 23.4, \"route_group\": \"medium\", \"max_trip_hrs\": 1.22, \"max_trip_route_group\": 1.22, \"name\": \"Morongo Band of Mission Indians\", \"caltrans_district\": \"08 - San Bernardino\", \"drmt_organization_name\": null, \"cutoff2\": 30, \"cutoff\": 2}, {\"calitp_itp_id\": 212, \"trip_key\": 3062303850922068630, \"trip_id\": \"t_869581_b_489_tn_0\", \"shape_id\": \"p_272\", \"route_id\": \"349\", \"service_hours\": 0.83, \"trip_first_departure_ts\": 54000, \"trip_last_arrival_ts\": 57000, \"departure_hour\": 15, \"time_of_day\": \"Midday\", \"p25\": 0.83, \"p50\": 0.83, \"p75\": 0.83, \"p50_trip\": 1, \"fastest_trip\": 0, \"car_duration_hours\": 0.52, \"competitive_route\": 1, \"bus_multiplier\": 1.6, \"bus_difference\": 18.6, \"num_trips\": 30, \"num_competitive\": 25, \"pct_trips_competitive\": 0.833, \"bus_difference_spread\": 23.4, \"route_group\": \"medium\", \"max_trip_hrs\": 1.22, \"max_trip_route_group\": 1.22, \"name\": \"Morongo Band of Mission Indians\", \"caltrans_district\": \"08 - San Bernardino\", \"drmt_organization_name\": null, \"cutoff2\": 30, \"cutoff\": 2}, {\"calitp_itp_id\": 212, \"trip_key\": 7188253574222009694, \"trip_id\": \"t_869586_b_489_tn_0\", \"shape_id\": \"p_279\", \"route_id\": \"349\", \"service_hours\": 0.83, \"trip_first_departure_ts\": 32400, \"trip_last_arrival_ts\": 35400, \"departure_hour\": 9, \"time_of_day\": \"AM Peak\", \"p25\": 0.83, \"p50\": 0.83, \"p75\": 0.83, \"p50_trip\": 1, \"fastest_trip\": 0, \"car_duration_hours\": 0.52, \"competitive_route\": 1, \"bus_multiplier\": 1.6, \"bus_difference\": 18.6, \"num_trips\": 30, \"num_competitive\": 25, \"pct_trips_competitive\": 0.833, \"bus_difference_spread\": 23.4, \"route_group\": \"medium\", \"max_trip_hrs\": 1.22, \"max_trip_route_group\": 1.22, \"name\": \"Morongo Band of Mission Indians\", \"caltrans_district\": \"08 - San Bernardino\", \"drmt_organization_name\": null, \"cutoff2\": 30, \"cutoff\": 2}, {\"calitp_itp_id\": 212, \"trip_key\": -3963691485412924367, \"trip_id\": \"t_869578_b_489_tn_0\", \"shape_id\": \"p_272\", \"route_id\": \"349\", \"service_hours\": 0.83, \"trip_first_departure_ts\": 43200, \"trip_last_arrival_ts\": 46200, \"departure_hour\": 12, \"time_of_day\": \"Midday\", \"p25\": 0.83, \"p50\": 0.83, \"p75\": 0.83, \"p50_trip\": 1, \"fastest_trip\": 0, \"car_duration_hours\": 0.52, \"competitive_route\": 1, \"bus_multiplier\": 1.6, \"bus_difference\": 18.6, \"num_trips\": 30, \"num_competitive\": 25, \"pct_trips_competitive\": 0.833, \"bus_difference_spread\": 23.4, \"route_group\": \"medium\", \"max_trip_hrs\": 1.22, \"max_trip_route_group\": 1.22, \"name\": \"Morongo Band of Mission Indians\", \"caltrans_district\": \"08 - San Bernardino\", \"drmt_organization_name\": null, \"cutoff2\": 30, \"cutoff\": 2}, {\"calitp_itp_id\": 212, \"trip_key\": -5301656924656097689, \"trip_id\": \"t_869593_b_489_tn_0\", \"shape_id\": \"p_279\", \"route_id\": \"349\", \"service_hours\": 0.83, \"trip_first_departure_ts\": 57600, \"trip_last_arrival_ts\": 60600, \"departure_hour\": 16, \"time_of_day\": \"Midday\", \"p25\": 0.83, \"p50\": 0.83, \"p75\": 0.83, \"p50_trip\": 1, \"fastest_trip\": 0, \"car_duration_hours\": 0.52, \"competitive_route\": 1, \"bus_multiplier\": 1.6, \"bus_difference\": 18.6, \"num_trips\": 30, \"num_competitive\": 25, \"pct_trips_competitive\": 0.833, \"bus_difference_spread\": 23.4, \"route_group\": \"medium\", \"max_trip_hrs\": 1.22, \"max_trip_route_group\": 1.22, \"name\": \"Morongo Band of Mission Indians\", \"caltrans_district\": \"08 - San Bernardino\", \"drmt_organization_name\": null, \"cutoff2\": 30, \"cutoff\": 2}, {\"calitp_itp_id\": 212, \"trip_key\": -764998138802977487, \"trip_id\": \"t_869583_b_489_tn_0\", \"shape_id\": \"p_272\", \"route_id\": \"349\", \"service_hours\": 0.83, \"trip_first_departure_ts\": 61200, \"trip_last_arrival_ts\": 64200, \"departure_hour\": 17, \"time_of_day\": \"PM Peak\", \"p25\": 0.83, \"p50\": 0.83, \"p75\": 0.83, \"p50_trip\": 1, \"fastest_trip\": 1, \"car_duration_hours\": 0.52, \"competitive_route\": 1, \"bus_multiplier\": 1.6, \"bus_difference\": 18.6, \"num_trips\": 30, \"num_competitive\": 25, \"pct_trips_competitive\": 0.833, \"bus_difference_spread\": 23.4, \"route_group\": \"medium\", \"max_trip_hrs\": 1.22, \"max_trip_route_group\": 1.22, \"name\": \"Morongo Band of Mission Indians\", \"caltrans_district\": \"08 - San Bernardino\", \"drmt_organization_name\": null, \"cutoff2\": 30, \"cutoff\": 2}, {\"calitp_itp_id\": 212, \"trip_key\": 2368826429394615188, \"trip_id\": \"t_1375_b_489_tn_0\", \"shape_id\": \"p_275\", \"route_id\": \"349\", \"service_hours\": 0.92, \"trip_first_departure_ts\": 76320, \"trip_last_arrival_ts\": 79620, \"departure_hour\": 21, \"time_of_day\": \"Owl Service\", \"p25\": 0.83, \"p50\": 0.83, \"p75\": 0.83, \"p50_trip\": 0, \"fastest_trip\": 0, \"car_duration_hours\": 0.52, \"competitive_route\": 1, \"bus_multiplier\": 1.77, \"bus_difference\": 24.0, \"num_trips\": 30, \"num_competitive\": 25, \"pct_trips_competitive\": 0.833, \"bus_difference_spread\": 23.4, \"route_group\": \"medium\", \"max_trip_hrs\": 1.22, \"max_trip_route_group\": 1.22, \"name\": \"Morongo Band of Mission Indians\", \"caltrans_district\": \"08 - San Bernardino\", \"drmt_organization_name\": null, \"cutoff2\": 30, \"cutoff\": 2}, {\"calitp_itp_id\": 212, \"trip_key\": -8441835833794788282, \"trip_id\": \"t_1388_b_489_tn_0\", \"shape_id\": \"p_280\", \"route_id\": \"349\", \"service_hours\": 1.0, \"trip_first_departure_ts\": 61200, \"trip_last_arrival_ts\": 64800, \"departure_hour\": 17, \"time_of_day\": \"PM Peak\", \"p25\": 0.83, \"p50\": 0.83, \"p75\": 0.83, \"p50_trip\": 0, \"fastest_trip\": 0, \"car_duration_hours\": 0.52, \"competitive_route\": 1, \"bus_multiplier\": 1.92, \"bus_difference\": 28.8, \"num_trips\": 30, \"num_competitive\": 25, \"pct_trips_competitive\": 0.833, \"bus_difference_spread\": 23.4, \"route_group\": \"medium\", \"max_trip_hrs\": 1.22, \"max_trip_route_group\": 1.22, \"name\": \"Morongo Band of Mission Indians\", \"caltrans_district\": \"08 - San Bernardino\", \"drmt_organization_name\": null, \"cutoff2\": 30, \"cutoff\": 2}, {\"calitp_itp_id\": 212, \"trip_key\": -6835242988218459180, \"trip_id\": \"t_1381_b_489_tn_0\", \"shape_id\": \"p_283\", \"route_id\": \"349\", \"service_hours\": 1.12, \"trip_first_departure_ts\": 72300, \"trip_last_arrival_ts\": 76320, \"departure_hour\": 20, \"time_of_day\": \"Owl Service\", \"p25\": 0.83, \"p50\": 0.83, \"p75\": 0.83, \"p50_trip\": 0, \"fastest_trip\": 0, \"car_duration_hours\": 0.52, \"competitive_route\": 1, \"bus_multiplier\": 2.15, \"bus_difference\": 36.0, \"num_trips\": 30, \"num_competitive\": 25, \"pct_trips_competitive\": 0.833, \"bus_difference_spread\": 23.4, \"route_group\": \"medium\", \"max_trip_hrs\": 1.22, \"max_trip_route_group\": 1.22, \"name\": \"Morongo Band of Mission Indians\", \"caltrans_district\": \"08 - San Bernardino\", \"drmt_organization_name\": null, \"cutoff2\": 30, \"cutoff\": 2}, {\"calitp_itp_id\": 212, \"trip_key\": 5683966584791188435, \"trip_id\": \"t_1379_b_489_tn_0\", \"shape_id\": \"p_275\", \"route_id\": \"349\", \"service_hours\": 1.15, \"trip_first_departure_ts\": 71700, \"trip_last_arrival_ts\": 75840, \"departure_hour\": 19, \"time_of_day\": \"PM Peak\", \"p25\": 0.83, \"p50\": 0.83, \"p75\": 0.83, \"p50_trip\": 0, \"fastest_trip\": 0, \"car_duration_hours\": 0.52, \"competitive_route\": 1, \"bus_multiplier\": 2.21, \"bus_difference\": 37.8, \"num_trips\": 30, \"num_competitive\": 25, \"pct_trips_competitive\": 0.833, \"bus_difference_spread\": 23.4, \"route_group\": \"medium\", \"max_trip_hrs\": 1.22, \"max_trip_route_group\": 1.22, \"name\": \"Morongo Band of Mission Indians\", \"caltrans_district\": \"08 - San Bernardino\", \"drmt_organization_name\": null, \"cutoff2\": 30, \"cutoff\": 2}, {\"calitp_itp_id\": 212, \"trip_key\": 3761178629967692239, \"trip_id\": \"t_1380_b_489_tn_0\", \"shape_id\": \"p_283\", \"route_id\": \"349\", \"service_hours\": 1.2, \"trip_first_departure_ts\": 67200, \"trip_last_arrival_ts\": 71520, \"departure_hour\": 18, \"time_of_day\": \"PM Peak\", \"p25\": 0.83, \"p50\": 0.83, \"p75\": 0.83, \"p50_trip\": 0, \"fastest_trip\": 0, \"car_duration_hours\": 0.52, \"competitive_route\": 1, \"bus_multiplier\": 2.31, \"bus_difference\": 40.8, \"num_trips\": 30, \"num_competitive\": 25, \"pct_trips_competitive\": 0.833, \"bus_difference_spread\": 23.4, \"route_group\": \"medium\", \"max_trip_hrs\": 1.22, \"max_trip_route_group\": 1.22, \"name\": \"Morongo Band of Mission Indians\", \"caltrans_district\": \"08 - San Bernardino\", \"drmt_organization_name\": null, \"cutoff2\": 30, \"cutoff\": 2}, {\"calitp_itp_id\": 212, \"trip_key\": -6285086006216661977, \"trip_id\": \"t_1373_b_489_tn_0\", \"shape_id\": \"p_283\", \"route_id\": \"349\", \"service_hours\": 1.2, \"trip_first_departure_ts\": 76200, \"trip_last_arrival_ts\": 80520, \"departure_hour\": 21, \"time_of_day\": \"Owl Service\", \"p25\": 0.83, \"p50\": 0.83, \"p75\": 0.83, \"p50_trip\": 0, \"fastest_trip\": 0, \"car_duration_hours\": 0.52, \"competitive_route\": 1, \"bus_multiplier\": 2.31, \"bus_difference\": 40.8, \"num_trips\": 30, \"num_competitive\": 25, \"pct_trips_competitive\": 0.833, \"bus_difference_spread\": 23.4, \"route_group\": \"medium\", \"max_trip_hrs\": 1.22, \"max_trip_route_group\": 1.22, \"name\": \"Morongo Band of Mission Indians\", \"caltrans_district\": \"08 - San Bernardino\", \"drmt_organization_name\": null, \"cutoff2\": 30, \"cutoff\": 2}, {\"calitp_itp_id\": 212, \"trip_key\": 2836149620275353042, \"trip_id\": \"t_1368_b_489_tn_0\", \"shape_id\": \"p_286\", \"route_id\": \"349\", \"service_hours\": 1.22, \"trip_first_departure_ts\": 67800, \"trip_last_arrival_ts\": 72180, \"departure_hour\": 18, \"time_of_day\": \"PM Peak\", \"p25\": 0.83, \"p50\": 0.83, \"p75\": 0.83, \"p50_trip\": 0, \"fastest_trip\": 0, \"car_duration_hours\": 0.52, \"competitive_route\": 1, \"bus_multiplier\": 2.35, \"bus_difference\": 42.0, \"num_trips\": 30, \"num_competitive\": 25, \"pct_trips_competitive\": 0.833, \"bus_difference_spread\": 23.4, \"route_group\": \"medium\", \"max_trip_hrs\": 1.22, \"max_trip_route_group\": 1.22, \"name\": \"Morongo Band of Mission Indians\", \"caltrans_district\": \"08 - San Bernardino\", \"drmt_organization_name\": null, \"cutoff2\": 30, \"cutoff\": 2}, {\"calitp_itp_id\": 212, \"trip_key\": 3090255030447947583, \"trip_id\": \"t_1392_b_489_tn_0\", \"shape_id\": \"p_288\", \"route_id\": \"350\", \"service_hours\": 0.92, \"trip_first_departure_ts\": 28500, \"trip_last_arrival_ts\": 31800, \"departure_hour\": 7, \"time_of_day\": \"AM Peak\", \"p25\": 0.92, \"p50\": 0.92, \"p75\": 0.92, \"p50_trip\": 1, \"fastest_trip\": 0, \"car_duration_hours\": 0.73, \"competitive_route\": 1, \"bus_multiplier\": 1.26, \"bus_difference\": 11.4, \"num_trips\": 6, \"num_competitive\": 6, \"pct_trips_competitive\": 1.0, \"bus_difference_spread\": 9.6, \"route_group\": \"medium\", \"max_trip_hrs\": 1.08, \"max_trip_route_group\": 1.22, \"name\": \"Morongo Band of Mission Indians\", \"caltrans_district\": \"08 - San Bernardino\", \"drmt_organization_name\": null, \"cutoff2\": 30, \"cutoff\": 2}, {\"calitp_itp_id\": 212, \"trip_key\": -7194114715627764428, \"trip_id\": \"t_1378_b_489_tn_0\", \"shape_id\": \"p_270\", \"route_id\": \"350\", \"service_hours\": 0.92, \"trip_first_departure_ts\": 60000, \"trip_last_arrival_ts\": 63300, \"departure_hour\": 16, \"time_of_day\": \"Midday\", \"p25\": 0.92, \"p50\": 0.92, \"p75\": 0.92, \"p50_trip\": 1, \"fastest_trip\": 0, \"car_duration_hours\": 0.73, \"competitive_route\": 1, \"bus_multiplier\": 1.26, \"bus_difference\": 11.4, \"num_trips\": 6, \"num_competitive\": 6, \"pct_trips_competitive\": 1.0, \"bus_difference_spread\": 9.6, \"route_group\": \"medium\", \"max_trip_hrs\": 1.08, \"max_trip_route_group\": 1.22, \"name\": \"Morongo Band of Mission Indians\", \"caltrans_district\": \"08 - San Bernardino\", \"drmt_organization_name\": null, \"cutoff2\": 30, \"cutoff\": 2}, {\"calitp_itp_id\": 212, \"trip_key\": -1982978580526997524, \"trip_id\": \"t_1377_b_489_tn_0\", \"shape_id\": \"p_270\", \"route_id\": \"350\", \"service_hours\": 0.92, \"trip_first_departure_ts\": 34800, \"trip_last_arrival_ts\": 38100, \"departure_hour\": 9, \"time_of_day\": \"AM Peak\", \"p25\": 0.92, \"p50\": 0.92, \"p75\": 0.92, \"p50_trip\": 1, \"fastest_trip\": 0, \"car_duration_hours\": 0.73, \"competitive_route\": 1, \"bus_multiplier\": 1.26, \"bus_difference\": 11.4, \"num_trips\": 6, \"num_competitive\": 6, \"pct_trips_competitive\": 1.0, \"bus_difference_spread\": 9.6, \"route_group\": \"medium\", \"max_trip_hrs\": 1.08, \"max_trip_route_group\": 1.22, \"name\": \"Morongo Band of Mission Indians\", \"caltrans_district\": \"08 - San Bernardino\", \"drmt_organization_name\": null, \"cutoff2\": 30, \"cutoff\": 2}, {\"calitp_itp_id\": 212, \"trip_key\": 4336152498001563059, \"trip_id\": \"t_1386_b_489_tn_0\", \"shape_id\": \"p_288\", \"route_id\": \"350\", \"service_hours\": 0.92, \"trip_first_departure_ts\": 63900, \"trip_last_arrival_ts\": 67200, \"departure_hour\": 17, \"time_of_day\": \"PM Peak\", \"p25\": 0.92, \"p50\": 0.92, \"p75\": 0.92, \"p50_trip\": 1, \"fastest_trip\": 1, \"car_duration_hours\": 0.73, \"competitive_route\": 1, \"bus_multiplier\": 1.26, \"bus_difference\": 11.4, \"num_trips\": 6, \"num_competitive\": 6, \"pct_trips_competitive\": 1.0, \"bus_difference_spread\": 9.6, \"route_group\": \"medium\", \"max_trip_hrs\": 1.08, \"max_trip_route_group\": 1.22, \"name\": \"Morongo Band of Mission Indians\", \"caltrans_district\": \"08 - San Bernardino\", \"drmt_organization_name\": null, \"cutoff2\": 30, \"cutoff\": 2}, {\"calitp_itp_id\": 212, \"trip_key\": 1121313051657293748, \"trip_id\": \"t_1376_b_489_tn_0\", \"shape_id\": \"p_270\", \"route_id\": \"350\", \"service_hours\": 0.92, \"trip_first_departure_ts\": 25200, \"trip_last_arrival_ts\": 28500, \"departure_hour\": 7, \"time_of_day\": \"AM Peak\", \"p25\": 0.92, \"p50\": 0.92, \"p75\": 0.92, \"p50_trip\": 1, \"fastest_trip\": 0, \"car_duration_hours\": 0.73, \"competitive_route\": 1, \"bus_multiplier\": 1.26, \"bus_difference\": 11.4, \"num_trips\": 6, \"num_competitive\": 6, \"pct_trips_competitive\": 1.0, \"bus_difference_spread\": 9.6, \"route_group\": \"medium\", \"max_trip_hrs\": 1.08, \"max_trip_route_group\": 1.22, \"name\": \"Morongo Band of Mission Indians\", \"caltrans_district\": \"08 - San Bernardino\", \"drmt_organization_name\": null, \"cutoff2\": 30, \"cutoff\": 2}, {\"calitp_itp_id\": 212, \"trip_key\": 4869777759681107014, \"trip_id\": \"t_1374_b_489_tn_0\", \"shape_id\": \"p_288\", \"route_id\": \"350\", \"service_hours\": 1.08, \"trip_first_departure_ts\": 38700, \"trip_last_arrival_ts\": 42600, \"departure_hour\": 10, \"time_of_day\": \"Midday\", \"p25\": 0.92, \"p50\": 0.92, \"p75\": 0.92, \"p50_trip\": 0, \"fastest_trip\": 0, \"car_duration_hours\": 0.73, \"competitive_route\": 1, \"bus_multiplier\": 1.48, \"bus_difference\": 21.0, \"num_trips\": 6, \"num_competitive\": 6, \"pct_trips_competitive\": 1.0, \"bus_difference_spread\": 9.6, \"route_group\": \"medium\", \"max_trip_hrs\": 1.08, \"max_trip_route_group\": 1.22, \"name\": \"Morongo Band of Mission Indians\", \"caltrans_district\": \"08 - San Bernardino\", \"drmt_organization_name\": null, \"cutoff2\": 30, \"cutoff\": 2}]}}, {\"mode\": \"vega-lite\"});\n",
       "</script>"
      ],
      "text/plain": [
       "alt.FacetChart(...)"
      ]
     },
     "metadata": {},
     "output_type": "display_data"
    },
    {
     "data": {
      "text/html": [
       "\n",
       "<div id=\"altair-viz-41ac2a636a504606a750f345af168b63\"></div>\n",
       "<script type=\"text/javascript\">\n",
       "  var VEGA_DEBUG = (typeof VEGA_DEBUG == \"undefined\") ? {} : VEGA_DEBUG;\n",
       "  (function(spec, embedOpt){\n",
       "    let outputDiv = document.currentScript.previousElementSibling;\n",
       "    if (outputDiv.id !== \"altair-viz-41ac2a636a504606a750f345af168b63\") {\n",
       "      outputDiv = document.getElementById(\"altair-viz-41ac2a636a504606a750f345af168b63\");\n",
       "    }\n",
       "    const paths = {\n",
       "      \"vega\": \"https://cdn.jsdelivr.net/npm//vega@5?noext\",\n",
       "      \"vega-lib\": \"https://cdn.jsdelivr.net/npm//vega-lib?noext\",\n",
       "      \"vega-lite\": \"https://cdn.jsdelivr.net/npm//vega-lite@4.17.0?noext\",\n",
       "      \"vega-embed\": \"https://cdn.jsdelivr.net/npm//vega-embed@6?noext\",\n",
       "    };\n",
       "\n",
       "    function maybeLoadScript(lib, version) {\n",
       "      var key = `${lib.replace(\"-\", \"\")}_version`;\n",
       "      return (VEGA_DEBUG[key] == version) ?\n",
       "        Promise.resolve(paths[lib]) :\n",
       "        new Promise(function(resolve, reject) {\n",
       "          var s = document.createElement('script');\n",
       "          document.getElementsByTagName(\"head\")[0].appendChild(s);\n",
       "          s.async = true;\n",
       "          s.onload = () => {\n",
       "            VEGA_DEBUG[key] = version;\n",
       "            return resolve(paths[lib]);\n",
       "          };\n",
       "          s.onerror = () => reject(`Error loading script: ${paths[lib]}`);\n",
       "          s.src = paths[lib];\n",
       "        });\n",
       "    }\n",
       "\n",
       "    function showError(err) {\n",
       "      outputDiv.innerHTML = `<div class=\"error\" style=\"color:red;\">${err}</div>`;\n",
       "      throw err;\n",
       "    }\n",
       "\n",
       "    function displayChart(vegaEmbed) {\n",
       "      vegaEmbed(outputDiv, spec, embedOpt)\n",
       "        .catch(err => showError(`Javascript Error: ${err.message}<br>This usually means there's a typo in your chart specification. See the javascript console for the full traceback.`));\n",
       "    }\n",
       "\n",
       "    if(typeof define === \"function\" && define.amd) {\n",
       "      requirejs.config({paths});\n",
       "      require([\"vega-embed\"], displayChart, err => showError(`Error loading script: ${err.message}`));\n",
       "    } else {\n",
       "      maybeLoadScript(\"vega\", \"5\")\n",
       "        .then(() => maybeLoadScript(\"vega-lite\", \"4.17.0\"))\n",
       "        .then(() => maybeLoadScript(\"vega-embed\", \"6\"))\n",
       "        .catch(showError)\n",
       "        .then(() => displayChart(vegaEmbed));\n",
       "    }\n",
       "  })({\"config\": {\"view\": {\"continuousWidth\": 400, \"continuousHeight\": 300, \"stroke\": null}, \"facet\": {\"spacing\": 0}}, \"data\": {\"name\": \"data-aa43c51b439eeff0eaab125609461441\"}, \"facet\": {\"column\": {\"field\": \"route_id\", \"sort\": [\"350\", \"349\"], \"title\": \"Route ID\", \"type\": \"nominal\"}}, \"spec\": {\"layer\": [{\"mark\": \"rule\", \"encoding\": {\"color\": {\"value\": \"black\"}, \"y\": {\"field\": \"cutoff\", \"type\": \"quantitative\"}}, \"selection\": {\"selector004\": {\"type\": \"interval\", \"bind\": \"scales\", \"encodings\": [\"x\", \"y\"]}}}, {\"mark\": {\"type\": \"rule\", \"strokeDash\": [3, 3]}, \"encoding\": {\"color\": {\"value\": \"#323434\"}, \"y\": {\"field\": \"cutoff2\", \"type\": \"quantitative\"}}}, {\"mark\": {\"type\": \"point\", \"opacity\": 0.65, \"size\": 12, \"strokeWidth\": 1.1}, \"encoding\": {\"color\": {\"field\": \"time_of_day\", \"scale\": {\"range\": [\"#136C97\", \"#E16B26\", \"#F6BF16\", \"#00896B\", \"#7790A3\", \"#5B559C\"]}, \"sort\": [\"AM Peak\", \"Midday\", \"PM Peak\", \"Owl Service\"], \"title\": \"Time of Day\", \"type\": \"nominal\"}, \"tooltip\": [{\"field\": \"route_id\", \"type\": \"nominal\"}, {\"field\": \"trip_id\", \"type\": \"nominal\"}, {\"field\": \"service_hours\", \"type\": \"quantitative\"}, {\"field\": \"car_duration_hours\", \"type\": \"quantitative\"}, {\"field\": \"bus_multiplier\", \"type\": \"quantitative\"}, {\"field\": \"bus_difference\", \"type\": \"quantitative\"}, {\"field\": \"num_trips\", \"type\": \"quantitative\"}, {\"field\": \"num_competitive\", \"type\": \"quantitative\"}, {\"field\": \"pct_trips_competitive\", \"type\": \"quantitative\"}, {\"field\": \"p25\", \"type\": \"quantitative\"}, {\"field\": \"p50\", \"type\": \"quantitative\"}, {\"field\": \"p75\", \"type\": \"quantitative\"}], \"x\": {\"axis\": {\"grid\": false, \"labels\": false, \"ticks\": true, \"values\": [0]}, \"field\": \"jitter\", \"scale\": {}, \"title\": null, \"type\": \"quantitative\"}, \"y\": {\"field\": \"bus_difference\", \"scale\": {\"domain\": [-5, 42.0]}, \"title\": \"Difference in Bus to Car Travel Time (min)\", \"type\": \"quantitative\"}}, \"transform\": [{\"calculate\": \"sqrt(-2*log(random()))*cos(2*PI*random())\", \"as\": \"jitter\"}], \"width\": 50}, {\"layer\": [{\"mark\": {\"type\": \"point\", \"opacity\": 0.6, \"size\": 20, \"strokeWidth\": 1.3}, \"encoding\": {\"color\": {\"value\": \"#323434\"}, \"y\": {\"field\": \"bus_difference\", \"type\": \"quantitative\"}}, \"transform\": [{\"filter\": \"(datum.p50_trip === 1)\"}]}, {\"mark\": {\"type\": \"text\", \"align\": \"center\", \"baseline\": \"middle\"}, \"encoding\": {\"color\": {\"value\": \"black\"}, \"text\": {\"field\": \"pct_trips_competitive\", \"format\": \".0%\", \"type\": \"quantitative\"}, \"tooltip\": [{\"field\": \"route_id\", \"type\": \"nominal\"}, {\"field\": \"trip_id\", \"type\": \"nominal\"}, {\"field\": \"service_hours\", \"type\": \"quantitative\"}, {\"field\": \"car_duration_hours\", \"type\": \"quantitative\"}, {\"field\": \"bus_multiplier\", \"type\": \"quantitative\"}, {\"field\": \"bus_difference\", \"type\": \"quantitative\"}, {\"field\": \"num_trips\", \"type\": \"quantitative\"}, {\"field\": \"num_competitive\", \"type\": \"quantitative\"}, {\"field\": \"pct_trips_competitive\", \"type\": \"quantitative\"}, {\"field\": \"p25\", \"type\": \"quantitative\"}, {\"field\": \"p50\", \"type\": \"quantitative\"}, {\"field\": \"p75\", \"type\": \"quantitative\"}], \"x\": {\"value\": 30}, \"y\": {\"value\": 15}}, \"transform\": [{\"calculate\": \"sqrt(-2*log(random()))*cos(2*PI*random())\", \"as\": \"jitter\"}, {\"filter\": \"(datum.fastest_trip === 1)\"}]}]}]}, \"resolve\": {\"scale\": {\"y\": \"shared\"}}, \"title\": \"Difference in Bus to Car Travel Time (min)\", \"$schema\": \"https://vega.github.io/schema/vega-lite/v4.17.0.json\", \"datasets\": {\"data-aa43c51b439eeff0eaab125609461441\": [{\"calitp_itp_id\": 212, \"trip_key\": 5850337236365362568, \"trip_id\": \"t_869590_b_489_tn_0\", \"shape_id\": \"p_279\", \"route_id\": \"349\", \"service_hours\": 0.83, \"trip_first_departure_ts\": 46800, \"trip_last_arrival_ts\": 49800, \"departure_hour\": 13, \"time_of_day\": \"Midday\", \"p25\": 0.83, \"p50\": 0.83, \"p75\": 0.83, \"p50_trip\": 1, \"fastest_trip\": 0, \"car_duration_hours\": 0.52, \"competitive_route\": 1, \"bus_multiplier\": 1.6, \"bus_difference\": 18.6, \"num_trips\": 30, \"num_competitive\": 25, \"pct_trips_competitive\": 0.833, \"bus_difference_spread\": 23.4, \"route_group\": \"medium\", \"max_trip_hrs\": 1.22, \"max_trip_route_group\": 1.22, \"name\": \"Morongo Band of Mission Indians\", \"caltrans_district\": \"08 - San Bernardino\", \"drmt_organization_name\": null, \"cutoff2\": 30, \"cutoff\": 0}, {\"calitp_itp_id\": 212, \"trip_key\": -3733284907296554600, \"trip_id\": \"t_869584_b_489_tn_0\", \"shape_id\": \"p_279\", \"route_id\": \"349\", \"service_hours\": 0.83, \"trip_first_departure_ts\": 25200, \"trip_last_arrival_ts\": 28200, \"departure_hour\": 7, \"time_of_day\": \"AM Peak\", \"p25\": 0.83, \"p50\": 0.83, \"p75\": 0.83, \"p50_trip\": 1, \"fastest_trip\": 0, \"car_duration_hours\": 0.52, \"competitive_route\": 1, \"bus_multiplier\": 1.6, \"bus_difference\": 18.6, \"num_trips\": 30, \"num_competitive\": 25, \"pct_trips_competitive\": 0.833, \"bus_difference_spread\": 23.4, \"route_group\": \"medium\", \"max_trip_hrs\": 1.22, \"max_trip_route_group\": 1.22, \"name\": \"Morongo Band of Mission Indians\", \"caltrans_district\": \"08 - San Bernardino\", \"drmt_organization_name\": null, \"cutoff2\": 30, \"cutoff\": 0}, {\"calitp_itp_id\": 212, \"trip_key\": -6680245441941794366, \"trip_id\": \"t_869591_b_489_tn_0\", \"shape_id\": \"p_279\", \"route_id\": \"349\", \"service_hours\": 0.83, \"trip_first_departure_ts\": 50400, \"trip_last_arrival_ts\": 53400, \"departure_hour\": 14, \"time_of_day\": \"Midday\", \"p25\": 0.83, \"p50\": 0.83, \"p75\": 0.83, \"p50_trip\": 1, \"fastest_trip\": 0, \"car_duration_hours\": 0.52, \"competitive_route\": 1, \"bus_multiplier\": 1.6, \"bus_difference\": 18.6, \"num_trips\": 30, \"num_competitive\": 25, \"pct_trips_competitive\": 0.833, \"bus_difference_spread\": 23.4, \"route_group\": \"medium\", \"max_trip_hrs\": 1.22, \"max_trip_route_group\": 1.22, \"name\": \"Morongo Band of Mission Indians\", \"caltrans_district\": \"08 - San Bernardino\", \"drmt_organization_name\": null, \"cutoff2\": 30, \"cutoff\": 0}, {\"calitp_itp_id\": 212, \"trip_key\": -3539033563784263740, \"trip_id\": \"t_869577_b_489_tn_0\", \"shape_id\": \"p_272\", \"route_id\": \"349\", \"service_hours\": 0.83, \"trip_first_departure_ts\": 39600, \"trip_last_arrival_ts\": 42600, \"departure_hour\": 11, \"time_of_day\": \"Midday\", \"p25\": 0.83, \"p50\": 0.83, \"p75\": 0.83, \"p50_trip\": 1, \"fastest_trip\": 0, \"car_duration_hours\": 0.52, \"competitive_route\": 1, \"bus_multiplier\": 1.6, \"bus_difference\": 18.6, \"num_trips\": 30, \"num_competitive\": 25, \"pct_trips_competitive\": 0.833, \"bus_difference_spread\": 23.4, \"route_group\": \"medium\", \"max_trip_hrs\": 1.22, \"max_trip_route_group\": 1.22, \"name\": \"Morongo Band of Mission Indians\", \"caltrans_district\": \"08 - San Bernardino\", \"drmt_organization_name\": null, \"cutoff2\": 30, \"cutoff\": 0}, {\"calitp_itp_id\": 212, \"trip_key\": 7716272102889482960, \"trip_id\": \"t_869582_b_489_tn_0\", \"shape_id\": \"p_272\", \"route_id\": \"349\", \"service_hours\": 0.83, \"trip_first_departure_ts\": 57600, \"trip_last_arrival_ts\": 60600, \"departure_hour\": 16, \"time_of_day\": \"Midday\", \"p25\": 0.83, \"p50\": 0.83, \"p75\": 0.83, \"p50_trip\": 1, \"fastest_trip\": 0, \"car_duration_hours\": 0.52, \"competitive_route\": 1, \"bus_multiplier\": 1.6, \"bus_difference\": 18.6, \"num_trips\": 30, \"num_competitive\": 25, \"pct_trips_competitive\": 0.833, \"bus_difference_spread\": 23.4, \"route_group\": \"medium\", \"max_trip_hrs\": 1.22, \"max_trip_route_group\": 1.22, \"name\": \"Morongo Band of Mission Indians\", \"caltrans_district\": \"08 - San Bernardino\", \"drmt_organization_name\": null, \"cutoff2\": 30, \"cutoff\": 0}, {\"calitp_itp_id\": 212, \"trip_key\": -945826195563375557, \"trip_id\": \"t_869580_b_489_tn_0\", \"shape_id\": \"p_272\", \"route_id\": \"349\", \"service_hours\": 0.83, \"trip_first_departure_ts\": 50400, \"trip_last_arrival_ts\": 53400, \"departure_hour\": 14, \"time_of_day\": \"Midday\", \"p25\": 0.83, \"p50\": 0.83, \"p75\": 0.83, \"p50_trip\": 1, \"fastest_trip\": 0, \"car_duration_hours\": 0.52, \"competitive_route\": 1, \"bus_multiplier\": 1.6, \"bus_difference\": 18.6, \"num_trips\": 30, \"num_competitive\": 25, \"pct_trips_competitive\": 0.833, \"bus_difference_spread\": 23.4, \"route_group\": \"medium\", \"max_trip_hrs\": 1.22, \"max_trip_route_group\": 1.22, \"name\": \"Morongo Band of Mission Indians\", \"caltrans_district\": \"08 - San Bernardino\", \"drmt_organization_name\": null, \"cutoff2\": 30, \"cutoff\": 0}, {\"calitp_itp_id\": 212, \"trip_key\": 2025043753291756551, \"trip_id\": \"t_869588_b_489_tn_0\", \"shape_id\": \"p_279\", \"route_id\": \"349\", \"service_hours\": 0.83, \"trip_first_departure_ts\": 39600, \"trip_last_arrival_ts\": 42600, \"departure_hour\": 11, \"time_of_day\": \"Midday\", \"p25\": 0.83, \"p50\": 0.83, \"p75\": 0.83, \"p50_trip\": 1, \"fastest_trip\": 0, \"car_duration_hours\": 0.52, \"competitive_route\": 1, \"bus_multiplier\": 1.6, \"bus_difference\": 18.6, \"num_trips\": 30, \"num_competitive\": 25, \"pct_trips_competitive\": 0.833, \"bus_difference_spread\": 23.4, \"route_group\": \"medium\", \"max_trip_hrs\": 1.22, \"max_trip_route_group\": 1.22, \"name\": \"Morongo Band of Mission Indians\", \"caltrans_district\": \"08 - San Bernardino\", \"drmt_organization_name\": null, \"cutoff2\": 30, \"cutoff\": 0}, {\"calitp_itp_id\": 212, \"trip_key\": -2723586224887403272, \"trip_id\": \"t_869575_b_489_tn_0\", \"shape_id\": \"p_272\", \"route_id\": \"349\", \"service_hours\": 0.83, \"trip_first_departure_ts\": 32400, \"trip_last_arrival_ts\": 35400, \"departure_hour\": 9, \"time_of_day\": \"AM Peak\", \"p25\": 0.83, \"p50\": 0.83, \"p75\": 0.83, \"p50_trip\": 1, \"fastest_trip\": 0, \"car_duration_hours\": 0.52, \"competitive_route\": 1, \"bus_multiplier\": 1.6, \"bus_difference\": 18.6, \"num_trips\": 30, \"num_competitive\": 25, \"pct_trips_competitive\": 0.833, \"bus_difference_spread\": 23.4, \"route_group\": \"medium\", \"max_trip_hrs\": 1.22, \"max_trip_route_group\": 1.22, \"name\": \"Morongo Band of Mission Indians\", \"caltrans_district\": \"08 - San Bernardino\", \"drmt_organization_name\": null, \"cutoff2\": 30, \"cutoff\": 0}, {\"calitp_itp_id\": 212, \"trip_key\": 8278307551033318408, \"trip_id\": \"t_1384_b_489_tn_0\", \"shape_id\": \"p_178818\", \"route_id\": \"349\", \"service_hours\": 0.83, \"trip_first_departure_ts\": 21600, \"trip_last_arrival_ts\": 24600, \"departure_hour\": 6, \"time_of_day\": \"Owl Service\", \"p25\": 0.83, \"p50\": 0.83, \"p75\": 0.83, \"p50_trip\": 1, \"fastest_trip\": 0, \"car_duration_hours\": 0.52, \"competitive_route\": 1, \"bus_multiplier\": 1.6, \"bus_difference\": 18.6, \"num_trips\": 30, \"num_competitive\": 25, \"pct_trips_competitive\": 0.833, \"bus_difference_spread\": 23.4, \"route_group\": \"medium\", \"max_trip_hrs\": 1.22, \"max_trip_route_group\": 1.22, \"name\": \"Morongo Band of Mission Indians\", \"caltrans_district\": \"08 - San Bernardino\", \"drmt_organization_name\": null, \"cutoff2\": 30, \"cutoff\": 0}, {\"calitp_itp_id\": 212, \"trip_key\": -8497861685978056822, \"trip_id\": \"t_869589_b_489_tn_0\", \"shape_id\": \"p_279\", \"route_id\": \"349\", \"service_hours\": 0.83, \"trip_first_departure_ts\": 43200, \"trip_last_arrival_ts\": 46200, \"departure_hour\": 12, \"time_of_day\": \"Midday\", \"p25\": 0.83, \"p50\": 0.83, \"p75\": 0.83, \"p50_trip\": 1, \"fastest_trip\": 0, \"car_duration_hours\": 0.52, \"competitive_route\": 1, \"bus_multiplier\": 1.6, \"bus_difference\": 18.6, \"num_trips\": 30, \"num_competitive\": 25, \"pct_trips_competitive\": 0.833, \"bus_difference_spread\": 23.4, \"route_group\": \"medium\", \"max_trip_hrs\": 1.22, \"max_trip_route_group\": 1.22, \"name\": \"Morongo Band of Mission Indians\", \"caltrans_district\": \"08 - San Bernardino\", \"drmt_organization_name\": null, \"cutoff2\": 30, \"cutoff\": 0}, {\"calitp_itp_id\": 212, \"trip_key\": 516973843394186168, \"trip_id\": \"t_869576_b_489_tn_0\", \"shape_id\": \"p_272\", \"route_id\": \"349\", \"service_hours\": 0.83, \"trip_first_departure_ts\": 36000, \"trip_last_arrival_ts\": 39000, \"departure_hour\": 10, \"time_of_day\": \"Midday\", \"p25\": 0.83, \"p50\": 0.83, \"p75\": 0.83, \"p50_trip\": 1, \"fastest_trip\": 0, \"car_duration_hours\": 0.52, \"competitive_route\": 1, \"bus_multiplier\": 1.6, \"bus_difference\": 18.6, \"num_trips\": 30, \"num_competitive\": 25, \"pct_trips_competitive\": 0.833, \"bus_difference_spread\": 23.4, \"route_group\": \"medium\", \"max_trip_hrs\": 1.22, \"max_trip_route_group\": 1.22, \"name\": \"Morongo Band of Mission Indians\", \"caltrans_district\": \"08 - San Bernardino\", \"drmt_organization_name\": null, \"cutoff2\": 30, \"cutoff\": 0}, {\"calitp_itp_id\": 212, \"trip_key\": -996770051850407450, \"trip_id\": \"t_869579_b_489_tn_0\", \"shape_id\": \"p_272\", \"route_id\": \"349\", \"service_hours\": 0.83, \"trip_first_departure_ts\": 46800, \"trip_last_arrival_ts\": 49800, \"departure_hour\": 13, \"time_of_day\": \"Midday\", \"p25\": 0.83, \"p50\": 0.83, \"p75\": 0.83, \"p50_trip\": 1, \"fastest_trip\": 0, \"car_duration_hours\": 0.52, \"competitive_route\": 1, \"bus_multiplier\": 1.6, \"bus_difference\": 18.6, \"num_trips\": 30, \"num_competitive\": 25, \"pct_trips_competitive\": 0.833, \"bus_difference_spread\": 23.4, \"route_group\": \"medium\", \"max_trip_hrs\": 1.22, \"max_trip_route_group\": 1.22, \"name\": \"Morongo Band of Mission Indians\", \"caltrans_district\": \"08 - San Bernardino\", \"drmt_organization_name\": null, \"cutoff2\": 30, \"cutoff\": 0}, {\"calitp_itp_id\": 212, \"trip_key\": -5767180621765676816, \"trip_id\": \"t_1385_b_489_tn_0\", \"shape_id\": \"p_276\", \"route_id\": \"349\", \"service_hours\": 0.83, \"trip_first_departure_ts\": 21600, \"trip_last_arrival_ts\": 24600, \"departure_hour\": 6, \"time_of_day\": \"Owl Service\", \"p25\": 0.83, \"p50\": 0.83, \"p75\": 0.83, \"p50_trip\": 1, \"fastest_trip\": 0, \"car_duration_hours\": 0.52, \"competitive_route\": 1, \"bus_multiplier\": 1.6, \"bus_difference\": 18.6, \"num_trips\": 30, \"num_competitive\": 25, \"pct_trips_competitive\": 0.833, \"bus_difference_spread\": 23.4, \"route_group\": \"medium\", \"max_trip_hrs\": 1.22, \"max_trip_route_group\": 1.22, \"name\": \"Morongo Band of Mission Indians\", \"caltrans_district\": \"08 - San Bernardino\", \"drmt_organization_name\": null, \"cutoff2\": 30, \"cutoff\": 0}, {\"calitp_itp_id\": 212, \"trip_key\": -483327558155412322, \"trip_id\": \"t_869592_b_489_tn_0\", \"shape_id\": \"p_279\", \"route_id\": \"349\", \"service_hours\": 0.83, \"trip_first_departure_ts\": 54000, \"trip_last_arrival_ts\": 57000, \"departure_hour\": 15, \"time_of_day\": \"Midday\", \"p25\": 0.83, \"p50\": 0.83, \"p75\": 0.83, \"p50_trip\": 1, \"fastest_trip\": 0, \"car_duration_hours\": 0.52, \"competitive_route\": 1, \"bus_multiplier\": 1.6, \"bus_difference\": 18.6, \"num_trips\": 30, \"num_competitive\": 25, \"pct_trips_competitive\": 0.833, \"bus_difference_spread\": 23.4, \"route_group\": \"medium\", \"max_trip_hrs\": 1.22, \"max_trip_route_group\": 1.22, \"name\": \"Morongo Band of Mission Indians\", \"caltrans_district\": \"08 - San Bernardino\", \"drmt_organization_name\": null, \"cutoff2\": 30, \"cutoff\": 0}, {\"calitp_itp_id\": 212, \"trip_key\": 2806197447462977539, \"trip_id\": \"t_869573_b_489_tn_0\", \"shape_id\": \"p_272\", \"route_id\": \"349\", \"service_hours\": 0.83, \"trip_first_departure_ts\": 25200, \"trip_last_arrival_ts\": 28200, \"departure_hour\": 7, \"time_of_day\": \"AM Peak\", \"p25\": 0.83, \"p50\": 0.83, \"p75\": 0.83, \"p50_trip\": 1, \"fastest_trip\": 0, \"car_duration_hours\": 0.52, \"competitive_route\": 1, \"bus_multiplier\": 1.6, \"bus_difference\": 18.6, \"num_trips\": 30, \"num_competitive\": 25, \"pct_trips_competitive\": 0.833, \"bus_difference_spread\": 23.4, \"route_group\": \"medium\", \"max_trip_hrs\": 1.22, \"max_trip_route_group\": 1.22, \"name\": \"Morongo Band of Mission Indians\", \"caltrans_district\": \"08 - San Bernardino\", \"drmt_organization_name\": null, \"cutoff2\": 30, \"cutoff\": 0}, {\"calitp_itp_id\": 212, \"trip_key\": 7709892903398718119, \"trip_id\": \"t_869574_b_489_tn_0\", \"shape_id\": \"p_272\", \"route_id\": \"349\", \"service_hours\": 0.83, \"trip_first_departure_ts\": 28800, \"trip_last_arrival_ts\": 31800, \"departure_hour\": 8, \"time_of_day\": \"AM Peak\", \"p25\": 0.83, \"p50\": 0.83, \"p75\": 0.83, \"p50_trip\": 1, \"fastest_trip\": 0, \"car_duration_hours\": 0.52, \"competitive_route\": 1, \"bus_multiplier\": 1.6, \"bus_difference\": 18.6, \"num_trips\": 30, \"num_competitive\": 25, \"pct_trips_competitive\": 0.833, \"bus_difference_spread\": 23.4, \"route_group\": \"medium\", \"max_trip_hrs\": 1.22, \"max_trip_route_group\": 1.22, \"name\": \"Morongo Band of Mission Indians\", \"caltrans_district\": \"08 - San Bernardino\", \"drmt_organization_name\": null, \"cutoff2\": 30, \"cutoff\": 0}, {\"calitp_itp_id\": 212, \"trip_key\": -810498857071654717, \"trip_id\": \"t_869585_b_489_tn_0\", \"shape_id\": \"p_279\", \"route_id\": \"349\", \"service_hours\": 0.83, \"trip_first_departure_ts\": 28800, \"trip_last_arrival_ts\": 31800, \"departure_hour\": 8, \"time_of_day\": \"AM Peak\", \"p25\": 0.83, \"p50\": 0.83, \"p75\": 0.83, \"p50_trip\": 1, \"fastest_trip\": 0, \"car_duration_hours\": 0.52, \"competitive_route\": 1, \"bus_multiplier\": 1.6, \"bus_difference\": 18.6, \"num_trips\": 30, \"num_competitive\": 25, \"pct_trips_competitive\": 0.833, \"bus_difference_spread\": 23.4, \"route_group\": \"medium\", \"max_trip_hrs\": 1.22, \"max_trip_route_group\": 1.22, \"name\": \"Morongo Band of Mission Indians\", \"caltrans_district\": \"08 - San Bernardino\", \"drmt_organization_name\": null, \"cutoff2\": 30, \"cutoff\": 0}, {\"calitp_itp_id\": 212, \"trip_key\": -2636862393350685226, \"trip_id\": \"t_869587_b_489_tn_0\", \"shape_id\": \"p_279\", \"route_id\": \"349\", \"service_hours\": 0.83, \"trip_first_departure_ts\": 36000, \"trip_last_arrival_ts\": 39000, \"departure_hour\": 10, \"time_of_day\": \"Midday\", \"p25\": 0.83, \"p50\": 0.83, \"p75\": 0.83, \"p50_trip\": 1, \"fastest_trip\": 0, \"car_duration_hours\": 0.52, \"competitive_route\": 1, \"bus_multiplier\": 1.6, \"bus_difference\": 18.6, \"num_trips\": 30, \"num_competitive\": 25, \"pct_trips_competitive\": 0.833, \"bus_difference_spread\": 23.4, \"route_group\": \"medium\", \"max_trip_hrs\": 1.22, \"max_trip_route_group\": 1.22, \"name\": \"Morongo Band of Mission Indians\", \"caltrans_district\": \"08 - San Bernardino\", \"drmt_organization_name\": null, \"cutoff2\": 30, \"cutoff\": 0}, {\"calitp_itp_id\": 212, \"trip_key\": 3062303850922068630, \"trip_id\": \"t_869581_b_489_tn_0\", \"shape_id\": \"p_272\", \"route_id\": \"349\", \"service_hours\": 0.83, \"trip_first_departure_ts\": 54000, \"trip_last_arrival_ts\": 57000, \"departure_hour\": 15, \"time_of_day\": \"Midday\", \"p25\": 0.83, \"p50\": 0.83, \"p75\": 0.83, \"p50_trip\": 1, \"fastest_trip\": 0, \"car_duration_hours\": 0.52, \"competitive_route\": 1, \"bus_multiplier\": 1.6, \"bus_difference\": 18.6, \"num_trips\": 30, \"num_competitive\": 25, \"pct_trips_competitive\": 0.833, \"bus_difference_spread\": 23.4, \"route_group\": \"medium\", \"max_trip_hrs\": 1.22, \"max_trip_route_group\": 1.22, \"name\": \"Morongo Band of Mission Indians\", \"caltrans_district\": \"08 - San Bernardino\", \"drmt_organization_name\": null, \"cutoff2\": 30, \"cutoff\": 0}, {\"calitp_itp_id\": 212, \"trip_key\": 7188253574222009694, \"trip_id\": \"t_869586_b_489_tn_0\", \"shape_id\": \"p_279\", \"route_id\": \"349\", \"service_hours\": 0.83, \"trip_first_departure_ts\": 32400, \"trip_last_arrival_ts\": 35400, \"departure_hour\": 9, \"time_of_day\": \"AM Peak\", \"p25\": 0.83, \"p50\": 0.83, \"p75\": 0.83, \"p50_trip\": 1, \"fastest_trip\": 0, \"car_duration_hours\": 0.52, \"competitive_route\": 1, \"bus_multiplier\": 1.6, \"bus_difference\": 18.6, \"num_trips\": 30, \"num_competitive\": 25, \"pct_trips_competitive\": 0.833, \"bus_difference_spread\": 23.4, \"route_group\": \"medium\", \"max_trip_hrs\": 1.22, \"max_trip_route_group\": 1.22, \"name\": \"Morongo Band of Mission Indians\", \"caltrans_district\": \"08 - San Bernardino\", \"drmt_organization_name\": null, \"cutoff2\": 30, \"cutoff\": 0}, {\"calitp_itp_id\": 212, \"trip_key\": -3963691485412924367, \"trip_id\": \"t_869578_b_489_tn_0\", \"shape_id\": \"p_272\", \"route_id\": \"349\", \"service_hours\": 0.83, \"trip_first_departure_ts\": 43200, \"trip_last_arrival_ts\": 46200, \"departure_hour\": 12, \"time_of_day\": \"Midday\", \"p25\": 0.83, \"p50\": 0.83, \"p75\": 0.83, \"p50_trip\": 1, \"fastest_trip\": 0, \"car_duration_hours\": 0.52, \"competitive_route\": 1, \"bus_multiplier\": 1.6, \"bus_difference\": 18.6, \"num_trips\": 30, \"num_competitive\": 25, \"pct_trips_competitive\": 0.833, \"bus_difference_spread\": 23.4, \"route_group\": \"medium\", \"max_trip_hrs\": 1.22, \"max_trip_route_group\": 1.22, \"name\": \"Morongo Band of Mission Indians\", \"caltrans_district\": \"08 - San Bernardino\", \"drmt_organization_name\": null, \"cutoff2\": 30, \"cutoff\": 0}, {\"calitp_itp_id\": 212, \"trip_key\": -5301656924656097689, \"trip_id\": \"t_869593_b_489_tn_0\", \"shape_id\": \"p_279\", \"route_id\": \"349\", \"service_hours\": 0.83, \"trip_first_departure_ts\": 57600, \"trip_last_arrival_ts\": 60600, \"departure_hour\": 16, \"time_of_day\": \"Midday\", \"p25\": 0.83, \"p50\": 0.83, \"p75\": 0.83, \"p50_trip\": 1, \"fastest_trip\": 0, \"car_duration_hours\": 0.52, \"competitive_route\": 1, \"bus_multiplier\": 1.6, \"bus_difference\": 18.6, \"num_trips\": 30, \"num_competitive\": 25, \"pct_trips_competitive\": 0.833, \"bus_difference_spread\": 23.4, \"route_group\": \"medium\", \"max_trip_hrs\": 1.22, \"max_trip_route_group\": 1.22, \"name\": \"Morongo Band of Mission Indians\", \"caltrans_district\": \"08 - San Bernardino\", \"drmt_organization_name\": null, \"cutoff2\": 30, \"cutoff\": 0}, {\"calitp_itp_id\": 212, \"trip_key\": -764998138802977487, \"trip_id\": \"t_869583_b_489_tn_0\", \"shape_id\": \"p_272\", \"route_id\": \"349\", \"service_hours\": 0.83, \"trip_first_departure_ts\": 61200, \"trip_last_arrival_ts\": 64200, \"departure_hour\": 17, \"time_of_day\": \"PM Peak\", \"p25\": 0.83, \"p50\": 0.83, \"p75\": 0.83, \"p50_trip\": 1, \"fastest_trip\": 1, \"car_duration_hours\": 0.52, \"competitive_route\": 1, \"bus_multiplier\": 1.6, \"bus_difference\": 18.6, \"num_trips\": 30, \"num_competitive\": 25, \"pct_trips_competitive\": 0.833, \"bus_difference_spread\": 23.4, \"route_group\": \"medium\", \"max_trip_hrs\": 1.22, \"max_trip_route_group\": 1.22, \"name\": \"Morongo Band of Mission Indians\", \"caltrans_district\": \"08 - San Bernardino\", \"drmt_organization_name\": null, \"cutoff2\": 30, \"cutoff\": 0}, {\"calitp_itp_id\": 212, \"trip_key\": 2368826429394615188, \"trip_id\": \"t_1375_b_489_tn_0\", \"shape_id\": \"p_275\", \"route_id\": \"349\", \"service_hours\": 0.92, \"trip_first_departure_ts\": 76320, \"trip_last_arrival_ts\": 79620, \"departure_hour\": 21, \"time_of_day\": \"Owl Service\", \"p25\": 0.83, \"p50\": 0.83, \"p75\": 0.83, \"p50_trip\": 0, \"fastest_trip\": 0, \"car_duration_hours\": 0.52, \"competitive_route\": 1, \"bus_multiplier\": 1.77, \"bus_difference\": 24.0, \"num_trips\": 30, \"num_competitive\": 25, \"pct_trips_competitive\": 0.833, \"bus_difference_spread\": 23.4, \"route_group\": \"medium\", \"max_trip_hrs\": 1.22, \"max_trip_route_group\": 1.22, \"name\": \"Morongo Band of Mission Indians\", \"caltrans_district\": \"08 - San Bernardino\", \"drmt_organization_name\": null, \"cutoff2\": 30, \"cutoff\": 0}, {\"calitp_itp_id\": 212, \"trip_key\": -8441835833794788282, \"trip_id\": \"t_1388_b_489_tn_0\", \"shape_id\": \"p_280\", \"route_id\": \"349\", \"service_hours\": 1.0, \"trip_first_departure_ts\": 61200, \"trip_last_arrival_ts\": 64800, \"departure_hour\": 17, \"time_of_day\": \"PM Peak\", \"p25\": 0.83, \"p50\": 0.83, \"p75\": 0.83, \"p50_trip\": 0, \"fastest_trip\": 0, \"car_duration_hours\": 0.52, \"competitive_route\": 1, \"bus_multiplier\": 1.92, \"bus_difference\": 28.8, \"num_trips\": 30, \"num_competitive\": 25, \"pct_trips_competitive\": 0.833, \"bus_difference_spread\": 23.4, \"route_group\": \"medium\", \"max_trip_hrs\": 1.22, \"max_trip_route_group\": 1.22, \"name\": \"Morongo Band of Mission Indians\", \"caltrans_district\": \"08 - San Bernardino\", \"drmt_organization_name\": null, \"cutoff2\": 30, \"cutoff\": 0}, {\"calitp_itp_id\": 212, \"trip_key\": -6835242988218459180, \"trip_id\": \"t_1381_b_489_tn_0\", \"shape_id\": \"p_283\", \"route_id\": \"349\", \"service_hours\": 1.12, \"trip_first_departure_ts\": 72300, \"trip_last_arrival_ts\": 76320, \"departure_hour\": 20, \"time_of_day\": \"Owl Service\", \"p25\": 0.83, \"p50\": 0.83, \"p75\": 0.83, \"p50_trip\": 0, \"fastest_trip\": 0, \"car_duration_hours\": 0.52, \"competitive_route\": 1, \"bus_multiplier\": 2.15, \"bus_difference\": 36.0, \"num_trips\": 30, \"num_competitive\": 25, \"pct_trips_competitive\": 0.833, \"bus_difference_spread\": 23.4, \"route_group\": \"medium\", \"max_trip_hrs\": 1.22, \"max_trip_route_group\": 1.22, \"name\": \"Morongo Band of Mission Indians\", \"caltrans_district\": \"08 - San Bernardino\", \"drmt_organization_name\": null, \"cutoff2\": 30, \"cutoff\": 0}, {\"calitp_itp_id\": 212, \"trip_key\": 5683966584791188435, \"trip_id\": \"t_1379_b_489_tn_0\", \"shape_id\": \"p_275\", \"route_id\": \"349\", \"service_hours\": 1.15, \"trip_first_departure_ts\": 71700, \"trip_last_arrival_ts\": 75840, \"departure_hour\": 19, \"time_of_day\": \"PM Peak\", \"p25\": 0.83, \"p50\": 0.83, \"p75\": 0.83, \"p50_trip\": 0, \"fastest_trip\": 0, \"car_duration_hours\": 0.52, \"competitive_route\": 1, \"bus_multiplier\": 2.21, \"bus_difference\": 37.8, \"num_trips\": 30, \"num_competitive\": 25, \"pct_trips_competitive\": 0.833, \"bus_difference_spread\": 23.4, \"route_group\": \"medium\", \"max_trip_hrs\": 1.22, \"max_trip_route_group\": 1.22, \"name\": \"Morongo Band of Mission Indians\", \"caltrans_district\": \"08 - San Bernardino\", \"drmt_organization_name\": null, \"cutoff2\": 30, \"cutoff\": 0}, {\"calitp_itp_id\": 212, \"trip_key\": 3761178629967692239, \"trip_id\": \"t_1380_b_489_tn_0\", \"shape_id\": \"p_283\", \"route_id\": \"349\", \"service_hours\": 1.2, \"trip_first_departure_ts\": 67200, \"trip_last_arrival_ts\": 71520, \"departure_hour\": 18, \"time_of_day\": \"PM Peak\", \"p25\": 0.83, \"p50\": 0.83, \"p75\": 0.83, \"p50_trip\": 0, \"fastest_trip\": 0, \"car_duration_hours\": 0.52, \"competitive_route\": 1, \"bus_multiplier\": 2.31, \"bus_difference\": 40.8, \"num_trips\": 30, \"num_competitive\": 25, \"pct_trips_competitive\": 0.833, \"bus_difference_spread\": 23.4, \"route_group\": \"medium\", \"max_trip_hrs\": 1.22, \"max_trip_route_group\": 1.22, \"name\": \"Morongo Band of Mission Indians\", \"caltrans_district\": \"08 - San Bernardino\", \"drmt_organization_name\": null, \"cutoff2\": 30, \"cutoff\": 0}, {\"calitp_itp_id\": 212, \"trip_key\": -6285086006216661977, \"trip_id\": \"t_1373_b_489_tn_0\", \"shape_id\": \"p_283\", \"route_id\": \"349\", \"service_hours\": 1.2, \"trip_first_departure_ts\": 76200, \"trip_last_arrival_ts\": 80520, \"departure_hour\": 21, \"time_of_day\": \"Owl Service\", \"p25\": 0.83, \"p50\": 0.83, \"p75\": 0.83, \"p50_trip\": 0, \"fastest_trip\": 0, \"car_duration_hours\": 0.52, \"competitive_route\": 1, \"bus_multiplier\": 2.31, \"bus_difference\": 40.8, \"num_trips\": 30, \"num_competitive\": 25, \"pct_trips_competitive\": 0.833, \"bus_difference_spread\": 23.4, \"route_group\": \"medium\", \"max_trip_hrs\": 1.22, \"max_trip_route_group\": 1.22, \"name\": \"Morongo Band of Mission Indians\", \"caltrans_district\": \"08 - San Bernardino\", \"drmt_organization_name\": null, \"cutoff2\": 30, \"cutoff\": 0}, {\"calitp_itp_id\": 212, \"trip_key\": 2836149620275353042, \"trip_id\": \"t_1368_b_489_tn_0\", \"shape_id\": \"p_286\", \"route_id\": \"349\", \"service_hours\": 1.22, \"trip_first_departure_ts\": 67800, \"trip_last_arrival_ts\": 72180, \"departure_hour\": 18, \"time_of_day\": \"PM Peak\", \"p25\": 0.83, \"p50\": 0.83, \"p75\": 0.83, \"p50_trip\": 0, \"fastest_trip\": 0, \"car_duration_hours\": 0.52, \"competitive_route\": 1, \"bus_multiplier\": 2.35, \"bus_difference\": 42.0, \"num_trips\": 30, \"num_competitive\": 25, \"pct_trips_competitive\": 0.833, \"bus_difference_spread\": 23.4, \"route_group\": \"medium\", \"max_trip_hrs\": 1.22, \"max_trip_route_group\": 1.22, \"name\": \"Morongo Band of Mission Indians\", \"caltrans_district\": \"08 - San Bernardino\", \"drmt_organization_name\": null, \"cutoff2\": 30, \"cutoff\": 0}, {\"calitp_itp_id\": 212, \"trip_key\": 3090255030447947583, \"trip_id\": \"t_1392_b_489_tn_0\", \"shape_id\": \"p_288\", \"route_id\": \"350\", \"service_hours\": 0.92, \"trip_first_departure_ts\": 28500, \"trip_last_arrival_ts\": 31800, \"departure_hour\": 7, \"time_of_day\": \"AM Peak\", \"p25\": 0.92, \"p50\": 0.92, \"p75\": 0.92, \"p50_trip\": 1, \"fastest_trip\": 0, \"car_duration_hours\": 0.73, \"competitive_route\": 1, \"bus_multiplier\": 1.26, \"bus_difference\": 11.4, \"num_trips\": 6, \"num_competitive\": 6, \"pct_trips_competitive\": 1.0, \"bus_difference_spread\": 9.6, \"route_group\": \"medium\", \"max_trip_hrs\": 1.08, \"max_trip_route_group\": 1.22, \"name\": \"Morongo Band of Mission Indians\", \"caltrans_district\": \"08 - San Bernardino\", \"drmt_organization_name\": null, \"cutoff2\": 30, \"cutoff\": 0}, {\"calitp_itp_id\": 212, \"trip_key\": -7194114715627764428, \"trip_id\": \"t_1378_b_489_tn_0\", \"shape_id\": \"p_270\", \"route_id\": \"350\", \"service_hours\": 0.92, \"trip_first_departure_ts\": 60000, \"trip_last_arrival_ts\": 63300, \"departure_hour\": 16, \"time_of_day\": \"Midday\", \"p25\": 0.92, \"p50\": 0.92, \"p75\": 0.92, \"p50_trip\": 1, \"fastest_trip\": 0, \"car_duration_hours\": 0.73, \"competitive_route\": 1, \"bus_multiplier\": 1.26, \"bus_difference\": 11.4, \"num_trips\": 6, \"num_competitive\": 6, \"pct_trips_competitive\": 1.0, \"bus_difference_spread\": 9.6, \"route_group\": \"medium\", \"max_trip_hrs\": 1.08, \"max_trip_route_group\": 1.22, \"name\": \"Morongo Band of Mission Indians\", \"caltrans_district\": \"08 - San Bernardino\", \"drmt_organization_name\": null, \"cutoff2\": 30, \"cutoff\": 0}, {\"calitp_itp_id\": 212, \"trip_key\": -1982978580526997524, \"trip_id\": \"t_1377_b_489_tn_0\", \"shape_id\": \"p_270\", \"route_id\": \"350\", \"service_hours\": 0.92, \"trip_first_departure_ts\": 34800, \"trip_last_arrival_ts\": 38100, \"departure_hour\": 9, \"time_of_day\": \"AM Peak\", \"p25\": 0.92, \"p50\": 0.92, \"p75\": 0.92, \"p50_trip\": 1, \"fastest_trip\": 0, \"car_duration_hours\": 0.73, \"competitive_route\": 1, \"bus_multiplier\": 1.26, \"bus_difference\": 11.4, \"num_trips\": 6, \"num_competitive\": 6, \"pct_trips_competitive\": 1.0, \"bus_difference_spread\": 9.6, \"route_group\": \"medium\", \"max_trip_hrs\": 1.08, \"max_trip_route_group\": 1.22, \"name\": \"Morongo Band of Mission Indians\", \"caltrans_district\": \"08 - San Bernardino\", \"drmt_organization_name\": null, \"cutoff2\": 30, \"cutoff\": 0}, {\"calitp_itp_id\": 212, \"trip_key\": 4336152498001563059, \"trip_id\": \"t_1386_b_489_tn_0\", \"shape_id\": \"p_288\", \"route_id\": \"350\", \"service_hours\": 0.92, \"trip_first_departure_ts\": 63900, \"trip_last_arrival_ts\": 67200, \"departure_hour\": 17, \"time_of_day\": \"PM Peak\", \"p25\": 0.92, \"p50\": 0.92, \"p75\": 0.92, \"p50_trip\": 1, \"fastest_trip\": 1, \"car_duration_hours\": 0.73, \"competitive_route\": 1, \"bus_multiplier\": 1.26, \"bus_difference\": 11.4, \"num_trips\": 6, \"num_competitive\": 6, \"pct_trips_competitive\": 1.0, \"bus_difference_spread\": 9.6, \"route_group\": \"medium\", \"max_trip_hrs\": 1.08, \"max_trip_route_group\": 1.22, \"name\": \"Morongo Band of Mission Indians\", \"caltrans_district\": \"08 - San Bernardino\", \"drmt_organization_name\": null, \"cutoff2\": 30, \"cutoff\": 0}, {\"calitp_itp_id\": 212, \"trip_key\": 1121313051657293748, \"trip_id\": \"t_1376_b_489_tn_0\", \"shape_id\": \"p_270\", \"route_id\": \"350\", \"service_hours\": 0.92, \"trip_first_departure_ts\": 25200, \"trip_last_arrival_ts\": 28500, \"departure_hour\": 7, \"time_of_day\": \"AM Peak\", \"p25\": 0.92, \"p50\": 0.92, \"p75\": 0.92, \"p50_trip\": 1, \"fastest_trip\": 0, \"car_duration_hours\": 0.73, \"competitive_route\": 1, \"bus_multiplier\": 1.26, \"bus_difference\": 11.4, \"num_trips\": 6, \"num_competitive\": 6, \"pct_trips_competitive\": 1.0, \"bus_difference_spread\": 9.6, \"route_group\": \"medium\", \"max_trip_hrs\": 1.08, \"max_trip_route_group\": 1.22, \"name\": \"Morongo Band of Mission Indians\", \"caltrans_district\": \"08 - San Bernardino\", \"drmt_organization_name\": null, \"cutoff2\": 30, \"cutoff\": 0}, {\"calitp_itp_id\": 212, \"trip_key\": 4869777759681107014, \"trip_id\": \"t_1374_b_489_tn_0\", \"shape_id\": \"p_288\", \"route_id\": \"350\", \"service_hours\": 1.08, \"trip_first_departure_ts\": 38700, \"trip_last_arrival_ts\": 42600, \"departure_hour\": 10, \"time_of_day\": \"Midday\", \"p25\": 0.92, \"p50\": 0.92, \"p75\": 0.92, \"p50_trip\": 0, \"fastest_trip\": 0, \"car_duration_hours\": 0.73, \"competitive_route\": 1, \"bus_multiplier\": 1.48, \"bus_difference\": 21.0, \"num_trips\": 6, \"num_competitive\": 6, \"pct_trips_competitive\": 1.0, \"bus_difference_spread\": 9.6, \"route_group\": \"medium\", \"max_trip_hrs\": 1.08, \"max_trip_route_group\": 1.22, \"name\": \"Morongo Band of Mission Indians\", \"caltrans_district\": \"08 - San Bernardino\", \"drmt_organization_name\": null, \"cutoff2\": 30, \"cutoff\": 0}]}}, {\"mode\": \"vega-lite\"});\n",
       "</script>"
      ],
      "text/plain": [
       "alt.FacetChart(...)"
      ]
     },
     "metadata": {},
     "output_type": "display_data"
    }
   ],
   "source": [
    "route_group = \"medium\"\n",
    "try:\n",
    "    display_charts_for_route_group(df, route_group)\n",
    "except:\n",
    "    print(\"No routes meet this criteria.\")"
   ]
  },
  {
   "cell_type": "markdown",
   "id": "124b76d0-886c-4d03-92ac-f1bda3cda182",
   "metadata": {
    "papermill": {
     "duration": 0.021076,
     "end_time": "2022-05-09T20:14:17.651405",
     "exception": false,
     "start_time": "2022-05-09T20:14:17.630329",
     "status": "completed"
    },
    "tags": []
   },
   "source": [
    "### Long Routes (> 1.5 hrs)"
   ]
  },
  {
   "cell_type": "code",
   "execution_count": 15,
   "id": "ddc81b19-4c45-4c81-8b7a-5e0f394aa7a3",
   "metadata": {
    "execution": {
     "iopub.execute_input": "2022-05-09T20:14:17.693590Z",
     "iopub.status.busy": "2022-05-09T20:14:17.692792Z",
     "iopub.status.idle": "2022-05-09T20:14:17.713794Z",
     "shell.execute_reply": "2022-05-09T20:14:17.712941Z"
    },
    "jupyter": {
     "source_hidden": true
    },
    "papermill": {
     "duration": 0.04474,
     "end_time": "2022-05-09T20:14:17.716102",
     "exception": false,
     "start_time": "2022-05-09T20:14:17.671362",
     "status": "completed"
    },
    "tags": [
     "remove_input"
    ]
   },
   "outputs": [
    {
     "name": "stdout",
     "output_type": "stream",
     "text": [
      "No routes meet this criteria.\n"
     ]
    }
   ],
   "source": [
    "route_group = \"long\"\n",
    "try:\n",
    "    display_charts_for_route_group(df, route_group)\n",
    "except:\n",
    "    print(\"No routes meet this criteria.\")"
   ]
  },
  {
   "cell_type": "markdown",
   "id": "ace75b5f-0442-4fbe-aebd-6c3a13ae13a7",
   "metadata": {
    "papermill": {
     "duration": 0.021335,
     "end_time": "2022-05-09T20:14:17.758460",
     "exception": false,
     "start_time": "2022-05-09T20:14:17.737125",
     "status": "completed"
    },
    "tags": []
   },
   "source": [
    "### GTFS Real-Time Speedmaps"
   ]
  },
  {
   "cell_type": "code",
   "execution_count": 16,
   "id": "a0a114a1-e975-4027-9daf-50029f5ef59f",
   "metadata": {
    "execution": {
     "iopub.execute_input": "2022-05-09T20:14:17.807039Z",
     "iopub.status.busy": "2022-05-09T20:14:17.806199Z",
     "iopub.status.idle": "2022-05-09T20:14:17.857533Z",
     "shell.execute_reply": "2022-05-09T20:14:17.856579Z"
    },
    "jupyter": {
     "source_hidden": true
    },
    "papermill": {
     "duration": 0.080209,
     "end_time": "2022-05-09T20:14:17.859728",
     "exception": false,
     "start_time": "2022-05-09T20:14:17.779519",
     "status": "completed"
    },
    "tags": [
     "remove_input"
    ]
   },
   "outputs": [
    {
     "data": {
      "text/html": [
       "No GTFS RT data available."
      ],
      "text/plain": [
       "<IPython.core.display.HTML object>"
      ]
     },
     "metadata": {},
     "output_type": "display_data"
    }
   ],
   "source": [
    "PORTFOLIO_SITE_YAML = \"../portfolio/analyses.yml\"\n",
    "\n",
    "# Grab list of ITP IDs with GTFS RT speedmaps\n",
    "rt_itp_id = deploy_portfolio_yaml.check_if_rt_data_available(PORTFOLIO_SITE_YAML)\n",
    "\n",
    "# Construct the URL \n",
    "RT_URL = (\"https://analysis.calitp.org/rt/\"\n",
    "          f\"district_{district_number}-{district_name}/\"\n",
    "          f\"speedmaps__itp_id_{itp_id}.html\"\n",
    "         ) \n",
    "\n",
    "if itp_id in rt_itp_id:\n",
    "    display(HTML(f'''<a href={RT_URL}>GTFS RT speedmaps here.</a>'''))\n",
    "\n",
    "else:\n",
    "    display(HTML(\"No GTFS RT data available.\"))"
   ]
  },
  {
   "cell_type": "code",
   "execution_count": null,
   "id": "5b680565-2230-4f2e-817c-718fad48d64c",
   "metadata": {
    "jupyter": {
     "source_hidden": true
    },
    "papermill": {
     "duration": 0.027015,
     "end_time": "2022-05-09T20:14:17.907538",
     "exception": false,
     "start_time": "2022-05-09T20:14:17.880523",
     "status": "completed"
    },
    "tags": [
     "remove_input"
    ]
   },
   "outputs": [],
   "source": []
  }
 ],
 "metadata": {
  "kernelspec": {
   "display_name": "Python 3 (ipykernel)",
   "language": "python",
   "name": "python3"
  },
  "language_info": {
   "codemirror_mode": {
    "name": "ipython",
    "version": 3
   },
   "file_extension": ".py",
   "mimetype": "text/x-python",
   "name": "python",
   "nbconvert_exporter": "python",
   "pygments_lexer": "ipython3",
   "version": "3.9.12"
  },
  "papermill": {
   "default_parameters": {},
   "duration": 29.067207,
   "end_time": "2022-05-09T20:14:20.454716",
   "environment_variables": {},
   "exception": null,
   "input_path": "bus_service_increase/competitive-parallel-routes.ipynb",
   "output_path": "portfolio/parallel_corridors/district_08-san-bernardino/competitive-parallel-routes__itp_id_212.ipynb",
   "parameters": {
    "district": "08 - San Bernardino",
    "itp_id": 212
   },
   "start_time": "2022-05-09T20:13:51.387509",
   "version": "2.3.4"
  }
 },
 "nbformat": 4,
 "nbformat_minor": 5
}