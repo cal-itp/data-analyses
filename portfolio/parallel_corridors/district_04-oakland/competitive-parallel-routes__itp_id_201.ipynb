{
 "cells": [
  {
   "cell_type": "code",
   "execution_count": 1,
   "id": "95d00857-6a20-4529-a519-2cc7182928a9",
   "metadata": {
    "execution": {
     "iopub.execute_input": "2022-05-09T19:41:33.528363Z",
     "iopub.status.busy": "2022-05-09T19:41:33.527047Z",
     "iopub.status.idle": "2022-05-09T19:41:43.774296Z",
     "shell.execute_reply": "2022-05-09T19:41:43.773004Z"
    },
    "jupyter": {
     "source_hidden": true
    },
    "papermill": {
     "duration": 10.273149,
     "end_time": "2022-05-09T19:41:43.777908",
     "exception": false,
     "start_time": "2022-05-09T19:41:33.504759",
     "status": "completed"
    },
    "tags": [
     "remove_input"
    ]
   },
   "outputs": [],
   "source": [
    "%%capture\n",
    "import warnings\n",
    "warnings.filterwarnings('ignore')\n",
    "\n",
    "import altair as alt\n",
    "import calitp.magics\n",
    "import geopandas as gpd\n",
    "import intake\n",
    "import pandas as pd\n",
    "\n",
    "from IPython.display import display, Markdown, HTML\n",
    "\n",
    "import parallel_corridors_utils\n",
    "from shared_utils import styleguide\n",
    "import deploy_portfolio_yaml\n",
    "\n",
    "catalog = intake.open_catalog(\"./*.yml\")\n",
    "alt.renderers.enable(\"html\")"
   ]
  },
  {
   "cell_type": "code",
   "execution_count": 2,
   "id": "8af2a0c1-f3da-408d-9bea-11d9fbf8695d",
   "metadata": {
    "execution": {
     "iopub.execute_input": "2022-05-09T19:41:43.807904Z",
     "iopub.status.busy": "2022-05-09T19:41:43.807569Z",
     "iopub.status.idle": "2022-05-09T19:41:43.811978Z",
     "shell.execute_reply": "2022-05-09T19:41:43.810917Z"
    },
    "jupyter": {
     "source_hidden": true
    },
    "papermill": {
     "duration": 0.021982,
     "end_time": "2022-05-09T19:41:43.814720",
     "exception": false,
     "start_time": "2022-05-09T19:41:43.792738",
     "status": "completed"
    },
    "tags": [
     "parameters",
     "remove_input"
    ]
   },
   "outputs": [],
   "source": [
    "# parameters cell\n",
    "itp_id = 182"
   ]
  },
  {
   "cell_type": "code",
   "execution_count": 3,
   "id": "0da6fbec",
   "metadata": {
    "execution": {
     "iopub.execute_input": "2022-05-09T19:41:43.844288Z",
     "iopub.status.busy": "2022-05-09T19:41:43.843452Z",
     "iopub.status.idle": "2022-05-09T19:41:43.852885Z",
     "shell.execute_reply": "2022-05-09T19:41:43.851546Z"
    },
    "jupyter": {
     "source_hidden": true
    },
    "papermill": {
     "duration": 0.028288,
     "end_time": "2022-05-09T19:41:43.855722",
     "exception": false,
     "start_time": "2022-05-09T19:41:43.827434",
     "status": "completed"
    },
    "tags": [
     "injected-parameters",
     "remove_input"
    ]
   },
   "outputs": [],
   "source": [
    "# Parameters\n",
    "district = \"04 - Oakland\"\n",
    "itp_id = 201\n"
   ]
  },
  {
   "cell_type": "code",
   "execution_count": 4,
   "id": "9582aaf4-79ff-412a-b248-8d8d693ebd4f",
   "metadata": {
    "execution": {
     "iopub.execute_input": "2022-05-09T19:41:43.886775Z",
     "iopub.status.busy": "2022-05-09T19:41:43.885641Z",
     "iopub.status.idle": "2022-05-09T19:41:45.155286Z",
     "shell.execute_reply": "2022-05-09T19:41:45.154227Z"
    },
    "jupyter": {
     "source_hidden": true
    },
    "papermill": {
     "duration": 1.289663,
     "end_time": "2022-05-09T19:41:45.157856",
     "exception": false,
     "start_time": "2022-05-09T19:41:43.868193",
     "status": "completed"
    },
    "tags": [
     "remove_input"
    ]
   },
   "outputs": [],
   "source": [
    "df = catalog.competitive_route_variability.read()\n",
    "\n",
    "df = (df[(df.calitp_itp_id == itp_id) & \n",
    "         (df.route_group.notna())]\n",
    "      .reset_index(drop=True)\n",
    "     )\n",
    "\n",
    "\n",
    "if itp_id == 182:\n",
    "    df = df.assign(\n",
    "        route_id = df.route_id.str.replace('-13153', '').astype(int)\n",
    "    )"
   ]
  },
  {
   "cell_type": "code",
   "execution_count": 5,
   "id": "33ac4b06-f647-4dce-a625-8f2c1b37cc60",
   "metadata": {
    "execution": {
     "iopub.execute_input": "2022-05-09T19:41:45.202711Z",
     "iopub.status.busy": "2022-05-09T19:41:45.202276Z",
     "iopub.status.idle": "2022-05-09T19:41:45.216995Z",
     "shell.execute_reply": "2022-05-09T19:41:45.215785Z"
    },
    "jupyter": {
     "source_hidden": true
    },
    "papermill": {
     "duration": 0.042492,
     "end_time": "2022-05-09T19:41:45.219885",
     "exception": false,
     "start_time": "2022-05-09T19:41:45.177393",
     "status": "completed"
    },
    "tags": [
     "remove_input"
    ]
   },
   "outputs": [],
   "source": [
    "%%capture_parameters\n",
    "operator_name = df.name.iloc[0]\n",
    "district_number = f\"{df.caltrans_district.iloc[0].split('-')[0].strip()}\"\n",
    "district_name = f\"{df.caltrans_district.iloc[0].split('-')[1].strip().lower().replace(' ', '-')}\"\n",
    "\n",
    "itp_id, operator_name, district_number, district_name"
   ]
  },
  {
   "cell_type": "markdown",
   "id": "65bc6f5c-8348-42ee-b2dd-52057c406852",
   "metadata": {
    "papermill": {
     "duration": 0.024542,
     "end_time": "2022-05-09T19:41:45.272185",
     "exception": false,
     "start_time": "2022-05-09T19:41:45.247643",
     "status": "completed"
    },
    "tags": []
   },
   "source": [
    "# Mission Bay Transportation Management Agency (ITP ID: 201)"
   ]
  },
  {
   "cell_type": "code",
   "execution_count": 6,
   "id": "a689c1ab-2c6c-4831-8d64-897f5986f571",
   "metadata": {
    "execution": {
     "iopub.execute_input": "2022-05-09T19:41:45.305869Z",
     "iopub.status.busy": "2022-05-09T19:41:45.304923Z",
     "iopub.status.idle": "2022-05-09T19:41:45.313215Z",
     "shell.execute_reply": "2022-05-09T19:41:45.312247Z"
    },
    "jupyter": {
     "source_hidden": true
    },
    "papermill": {
     "duration": 0.026394,
     "end_time": "2022-05-09T19:41:45.315953",
     "exception": false,
     "start_time": "2022-05-09T19:41:45.289559",
     "status": "completed"
    },
    "tags": [
     "remove_input"
    ]
   },
   "outputs": [
    {
     "data": {
      "text/html": [
       "<h1>Competitive & Parallel Routes</h1>"
      ],
      "text/plain": [
       "<IPython.core.display.HTML object>"
      ]
     },
     "metadata": {},
     "output_type": "display_data"
    }
   ],
   "source": [
    "display(HTML(\"<h1>Competitive & Parallel Routes</h1>\")) "
   ]
  },
  {
   "cell_type": "code",
   "execution_count": 7,
   "id": "2cb4d8d5-4760-40e4-85b1-cb833d8bb648",
   "metadata": {
    "execution": {
     "iopub.execute_input": "2022-05-09T19:41:45.347864Z",
     "iopub.status.busy": "2022-05-09T19:41:45.347045Z",
     "iopub.status.idle": "2022-05-09T19:41:58.439515Z",
     "shell.execute_reply": "2022-05-09T19:41:58.438610Z"
    },
    "jupyter": {
     "source_hidden": true
    },
    "papermill": {
     "duration": 13.1106,
     "end_time": "2022-05-09T19:41:58.442138",
     "exception": false,
     "start_time": "2022-05-09T19:41:45.331538",
     "status": "completed"
    },
    "tags": [
     "remove_input"
    ]
   },
   "outputs": [],
   "source": [
    "# Grab parameters for narrative text - clean up formatting here \n",
    "district = df.caltrans_district.iloc[0]\n",
    "formatted_date = pd.to_datetime(parallel_corridors_utils.SELECTED_DATE).strftime('%m-%d-%Y')\n",
    "\n",
    "PCT_COMPETITIVE_THRESHOLD = 0.75\n",
    "\n",
    "stats = parallel_corridors_utils.operator_parallel_competitive_stats(\n",
    "    itp_id, PCT_COMPETITIVE_THRESHOLD)\n",
    "\n",
    "pct_parallel = round(stats['parallel_routes'] / stats['num_routes'] * 100,1 )\n",
    "pct_competitive =  round(stats['competitive_routes'] / stats['num_routes'] * 100,1 )"
   ]
  },
  {
   "cell_type": "markdown",
   "id": "ab667928-5274-4490-82d9-4c39293209a4",
   "metadata": {
    "papermill": {
     "duration": 0.014101,
     "end_time": "2022-05-09T19:41:58.469127",
     "exception": false,
     "start_time": "2022-05-09T19:41:58.455026",
     "status": "completed"
    },
    "tags": []
   },
   "source": [
    "## Quick Stats"
   ]
  },
  {
   "cell_type": "code",
   "execution_count": 8,
   "id": "0416509d-dc62-4165-b62e-64f8b26e8b8e",
   "metadata": {
    "execution": {
     "iopub.execute_input": "2022-05-09T19:41:58.496212Z",
     "iopub.status.busy": "2022-05-09T19:41:58.495896Z",
     "iopub.status.idle": "2022-05-09T19:41:58.508524Z",
     "shell.execute_reply": "2022-05-09T19:41:58.507358Z"
    },
    "jupyter": {
     "source_hidden": true
    },
    "papermill": {
     "duration": 0.029294,
     "end_time": "2022-05-09T19:41:58.511035",
     "exception": false,
     "start_time": "2022-05-09T19:41:58.481741",
     "status": "completed"
    },
    "tags": [
     "remove_input"
    ]
   },
   "outputs": [
    {
     "data": {
      "text/markdown": [
       "**Bus routes in service**: 4 <br>**Parallel routes** to State Highway Network (SHN): 4 routes (100.0%)<br>**Competitive routes** against car travel: 1 routes (25.0%)"
      ],
      "text/plain": [
       "<IPython.core.display.Markdown object>"
      ]
     },
     "metadata": {},
     "output_type": "display_data"
    }
   ],
   "source": [
    "display(\n",
    "    Markdown(\n",
    "        f\"**Bus routes in service**: {stats['num_routes']} \"\n",
    "        \"<br>**Parallel routes** to State Highway Network (SHN): \"\n",
    "        f\"{stats['parallel_routes']} routes ({pct_parallel}%)\"\n",
    "        f\"<br>**Competitive routes** against car travel: {stats['competitive_routes']} routes ({pct_competitive}%)\"\n",
    "    )\n",
    ")"
   ]
  },
  {
   "cell_type": "code",
   "execution_count": 9,
   "id": "f9d6ab58-f0ee-460c-b6de-657490e1f386",
   "metadata": {
    "execution": {
     "iopub.execute_input": "2022-05-09T19:41:58.544669Z",
     "iopub.status.busy": "2022-05-09T19:41:58.543093Z",
     "iopub.status.idle": "2022-05-09T19:41:58.554757Z",
     "shell.execute_reply": "2022-05-09T19:41:58.553799Z"
    },
    "jupyter": {
     "source_hidden": true
    },
    "papermill": {
     "duration": 0.031526,
     "end_time": "2022-05-09T19:41:58.557337",
     "exception": false,
     "start_time": "2022-05-09T19:41:58.525811",
     "status": "completed"
    },
    "tags": [
     "remove_input"
    ]
   },
   "outputs": [],
   "source": [
    "def set_yaxis_range(df, y_col):\n",
    "    Y_MIN = df[y_col].min()\n",
    "    Y_MAX = df[y_col].max()\n",
    "    \n",
    "    return Y_MIN, Y_MAX\n",
    "\n",
    "# Rather than set it according to the operator, which can vary,\n",
    "# just use set thresholds for each group\n",
    "diff_cutoffs = parallel_corridors_utils.diff_cutoffs\n",
    "\n",
    "PCT_TRIPS_BELOW_CUTOFF = 0.25\n",
    "\n",
    "def top15_routes(df, route_group):\n",
    "    df2 = (df[df.route_group==route_group])\n",
    "    # Set a cut-off to enable sorting, where most of the trips are \n",
    "    # below a certain time difference cut-off, \n",
    "    # grab top 15 routes where majority of trips are below that cut-off \n",
    "\n",
    "    route_cols = [\"calitp_itp_id\", \"route_id\"]\n",
    "\n",
    "    df2 = df2.assign(\n",
    "        below_cutoff = df2.apply(lambda x: 1 if x.bus_difference <= diff_cutoffs[route_group] \n",
    "                                 else 0, axis=1),\n",
    "        num_trips = df2.groupby(route_cols)[\"trip_id\"].transform(\"count\")\n",
    "    )\n",
    "\n",
    "    df2[\"below_cutoff\"] = df2.groupby(route_cols)[\"below_cutoff\"].transform(\"sum\")\n",
    "    df2[\"pct_below_cutoff\"] = df2.below_cutoff.divide(df2.num_trips)\n",
    "\n",
    "    # At least half the trips are below that cut-off\n",
    "    # but show 15 max, otherwise, show less, since these won't be as interesting to operators\n",
    "    df3 = (df2[df2.pct_below_cutoff >= PCT_TRIPS_BELOW_CUTOFF]\n",
    "           .sort_values([\"calitp_itp_id\", \"below_cutoff\", \n",
    "                         \"pct_below_cutoff\", \"route_id\"],\n",
    "                        ascending = [True, False, False, True]\n",
    "                       )\n",
    "           .drop_duplicates(subset=[\"calitp_itp_id\", \"route_id\"])\n",
    "          ).head(15)\n",
    "    \n",
    "    return list(df3.route_id)"
   ]
  },
  {
   "cell_type": "code",
   "execution_count": 10,
   "id": "cf36d559-3349-4144-8086-8ac9ce937a5a",
   "metadata": {
    "execution": {
     "iopub.execute_input": "2022-05-09T19:41:58.592704Z",
     "iopub.status.busy": "2022-05-09T19:41:58.591975Z",
     "iopub.status.idle": "2022-05-09T19:41:58.606227Z",
     "shell.execute_reply": "2022-05-09T19:41:58.597422Z"
    },
    "jupyter": {
     "source_hidden": true
    },
    "papermill": {
     "duration": 0.03322,
     "end_time": "2022-05-09T19:41:58.609047",
     "exception": false,
     "start_time": "2022-05-09T19:41:58.575827",
     "status": "completed"
    },
    "tags": [
     "remove_input"
    ]
   },
   "outputs": [],
   "source": [
    "def caption_with_cutoff(cutoff):\n",
    "    sentence = (\n",
    "        f\"<br>These are routes that have **at least {int(PCT_TRIPS_BELOW_CUTOFF*100)}% \"\n",
    "        \"of their trips take no more than an \"\n",
    "        f\"additional {cutoff} min** compared to a car \"\n",
    "        \"(up to 15 routes) are shown.\"\n",
    "        \"<br>Within each route group, routes are sorted in descending order \"\n",
    "        \"by % competitive trips and # trips below the additional time cut-off.\"\n",
    "    )\n",
    "    return sentence\n",
    "\n",
    "CAPTIONS_DICT = {\n",
    "    \"short\": caption_with_cutoff(diff_cutoffs['short']),\n",
    "    \"medium\": caption_with_cutoff(diff_cutoffs['medium']),\n",
    "    \"long\": caption_with_cutoff(diff_cutoffs['long']),\n",
    "}"
   ]
  },
  {
   "cell_type": "code",
   "execution_count": 11,
   "id": "e4306d58-6944-47e9-afef-5d5b524c751f",
   "metadata": {
    "execution": {
     "iopub.execute_input": "2022-05-09T19:41:58.643198Z",
     "iopub.status.busy": "2022-05-09T19:41:58.642383Z",
     "iopub.status.idle": "2022-05-09T19:41:58.650495Z",
     "shell.execute_reply": "2022-05-09T19:41:58.649670Z"
    },
    "jupyter": {
     "source_hidden": true
    },
    "papermill": {
     "duration": 0.028855,
     "end_time": "2022-05-09T19:41:58.653226",
     "exception": false,
     "start_time": "2022-05-09T19:41:58.624371",
     "status": "completed"
    },
    "tags": [
     "remove_input"
    ]
   },
   "outputs": [],
   "source": [
    "def setup_charts(df, PCT_COMPETITIVE_THRESHOLD, route_group):\n",
    "    # Set up df for charting (cut-off at some threshold to show most competitive routes)\n",
    "    plot_me = (df[df.pct_trips_competitive > PCT_COMPETITIVE_THRESHOLD]\n",
    "           .drop(columns = \"geometry\")\n",
    "    )\n",
    "    \n",
    "    y_col1 = \"bus_multiplier\"\n",
    "    Y_MIN1, Y_MAX1 = set_yaxis_range(plot_me, y_col1)\n",
    "\n",
    "    y_col2 = \"bus_difference\"\n",
    "    Y_MIN2, Y_MAX2 = set_yaxis_range(plot_me, y_col2)\n",
    "     \n",
    "    subset_routes = top15_routes(plot_me, route_group)\n",
    "    \n",
    "    multiplier_chart = parallel_corridors_utils.make_stripplot(\n",
    "        plot_me[plot_me.route_id.isin(subset_routes)], \n",
    "        y_col1, Y_MIN = Y_MIN1, Y_MAX = Y_MAX1\n",
    "    )\n",
    "    \n",
    "    difference_chart = parallel_corridors_utils.make_stripplot(\n",
    "        plot_me[plot_me.route_id.isin(subset_routes)], \n",
    "        y_col2, Y_MIN = Y_MIN2, Y_MAX = Y_MAX2\n",
    "    )\n",
    "    \n",
    "    return subset_routes, multiplier_chart, difference_chart            "
   ]
  },
  {
   "cell_type": "code",
   "execution_count": 12,
   "id": "33a710e8-504c-4942-aa75-ff69f216956e",
   "metadata": {
    "execution": {
     "iopub.execute_input": "2022-05-09T19:41:58.684620Z",
     "iopub.status.busy": "2022-05-09T19:41:58.683957Z",
     "iopub.status.idle": "2022-05-09T19:41:58.691287Z",
     "shell.execute_reply": "2022-05-09T19:41:58.690190Z"
    },
    "jupyter": {
     "source_hidden": true
    },
    "papermill": {
     "duration": 0.026181,
     "end_time": "2022-05-09T19:41:58.694088",
     "exception": false,
     "start_time": "2022-05-09T19:41:58.667907",
     "status": "completed"
    },
    "tags": [
     "remove_input"
    ]
   },
   "outputs": [],
   "source": [
    "def display_charts_for_route_group(df, route_group):    \n",
    "    subset_routes, mult, diff  = setup_charts(df, PCT_COMPETITIVE_THRESHOLD, route_group)\n",
    "\n",
    "    if len(subset_routes) > 0:\n",
    "        display(Markdown(f\"{CAPTIONS_DICT[route_group]}\"))\n",
    "\n",
    "        display(mult)\n",
    "        display(diff)"
   ]
  },
  {
   "cell_type": "markdown",
   "id": "525f9b38-072b-46d1-96a8-1aa4b038357c",
   "metadata": {
    "papermill": {
     "duration": 0.014148,
     "end_time": "2022-05-09T19:41:58.731626",
     "exception": false,
     "start_time": "2022-05-09T19:41:58.717478",
     "status": "completed"
    },
    "tags": []
   },
   "source": [
    "## Viable Competitive Routes\n",
    "### Short Routes (< 1 hr)"
   ]
  },
  {
   "cell_type": "code",
   "execution_count": 13,
   "id": "57f7084c-2cf7-45c6-ba08-1609e0bd6ca5",
   "metadata": {
    "execution": {
     "iopub.execute_input": "2022-05-09T19:41:58.764373Z",
     "iopub.status.busy": "2022-05-09T19:41:58.763357Z",
     "iopub.status.idle": "2022-05-09T19:41:59.038945Z",
     "shell.execute_reply": "2022-05-09T19:41:59.037552Z"
    },
    "jupyter": {
     "source_hidden": true
    },
    "papermill": {
     "duration": 0.296064,
     "end_time": "2022-05-09T19:41:59.041898",
     "exception": false,
     "start_time": "2022-05-09T19:41:58.745834",
     "status": "completed"
    },
    "tags": [
     "remove_input"
    ]
   },
   "outputs": [
    {
     "data": {
      "text/markdown": [
       "<br>These are routes that have **at least 25% of their trips take no more than an additional 20 min** compared to a car (up to 15 routes) are shown.<br>Within each route group, routes are sorted in descending order by % competitive trips and # trips below the additional time cut-off."
      ],
      "text/plain": [
       "<IPython.core.display.Markdown object>"
      ]
     },
     "metadata": {},
     "output_type": "display_data"
    },
    {
     "data": {
      "text/html": [
       "\n",
       "<div id=\"altair-viz-094bf06f726445109d7fd2f20d2de5a9\"></div>\n",
       "<script type=\"text/javascript\">\n",
       "  var VEGA_DEBUG = (typeof VEGA_DEBUG == \"undefined\") ? {} : VEGA_DEBUG;\n",
       "  (function(spec, embedOpt){\n",
       "    let outputDiv = document.currentScript.previousElementSibling;\n",
       "    if (outputDiv.id !== \"altair-viz-094bf06f726445109d7fd2f20d2de5a9\") {\n",
       "      outputDiv = document.getElementById(\"altair-viz-094bf06f726445109d7fd2f20d2de5a9\");\n",
       "    }\n",
       "    const paths = {\n",
       "      \"vega\": \"https://cdn.jsdelivr.net/npm//vega@5?noext\",\n",
       "      \"vega-lib\": \"https://cdn.jsdelivr.net/npm//vega-lib?noext\",\n",
       "      \"vega-lite\": \"https://cdn.jsdelivr.net/npm//vega-lite@4.17.0?noext\",\n",
       "      \"vega-embed\": \"https://cdn.jsdelivr.net/npm//vega-embed@6?noext\",\n",
       "    };\n",
       "\n",
       "    function maybeLoadScript(lib, version) {\n",
       "      var key = `${lib.replace(\"-\", \"\")}_version`;\n",
       "      return (VEGA_DEBUG[key] == version) ?\n",
       "        Promise.resolve(paths[lib]) :\n",
       "        new Promise(function(resolve, reject) {\n",
       "          var s = document.createElement('script');\n",
       "          document.getElementsByTagName(\"head\")[0].appendChild(s);\n",
       "          s.async = true;\n",
       "          s.onload = () => {\n",
       "            VEGA_DEBUG[key] = version;\n",
       "            return resolve(paths[lib]);\n",
       "          };\n",
       "          s.onerror = () => reject(`Error loading script: ${paths[lib]}`);\n",
       "          s.src = paths[lib];\n",
       "        });\n",
       "    }\n",
       "\n",
       "    function showError(err) {\n",
       "      outputDiv.innerHTML = `<div class=\"error\" style=\"color:red;\">${err}</div>`;\n",
       "      throw err;\n",
       "    }\n",
       "\n",
       "    function displayChart(vegaEmbed) {\n",
       "      vegaEmbed(outputDiv, spec, embedOpt)\n",
       "        .catch(err => showError(`Javascript Error: ${err.message}<br>This usually means there's a typo in your chart specification. See the javascript console for the full traceback.`));\n",
       "    }\n",
       "\n",
       "    if(typeof define === \"function\" && define.amd) {\n",
       "      requirejs.config({paths});\n",
       "      require([\"vega-embed\"], displayChart, err => showError(`Error loading script: ${err.message}`));\n",
       "    } else {\n",
       "      maybeLoadScript(\"vega\", \"5\")\n",
       "        .then(() => maybeLoadScript(\"vega-lite\", \"4.17.0\"))\n",
       "        .then(() => maybeLoadScript(\"vega-embed\", \"6\"))\n",
       "        .catch(showError)\n",
       "        .then(() => displayChart(vegaEmbed));\n",
       "    }\n",
       "  })({\"config\": {\"view\": {\"continuousWidth\": 400, \"continuousHeight\": 300, \"stroke\": null}, \"facet\": {\"spacing\": 0}}, \"data\": {\"name\": \"data-e9eed955725c7b9f24a4a567b6cc809c\"}, \"facet\": {\"column\": {\"field\": \"route_id\", \"sort\": [\"10992\"], \"title\": \"Route ID\", \"type\": \"nominal\"}}, \"spec\": {\"layer\": [{\"mark\": \"rule\", \"encoding\": {\"color\": {\"value\": \"black\"}, \"y\": {\"field\": \"cutoff\", \"type\": \"quantitative\"}}, \"selection\": {\"selector001\": {\"type\": \"interval\", \"bind\": \"scales\", \"encodings\": [\"x\", \"y\"]}}}, {\"mark\": {\"type\": \"point\", \"opacity\": 0.65, \"size\": 12, \"strokeWidth\": 1.1}, \"encoding\": {\"color\": {\"field\": \"time_of_day\", \"scale\": {\"range\": [\"#136C97\", \"#E16B26\", \"#F6BF16\", \"#00896B\", \"#7790A3\", \"#5B559C\"]}, \"sort\": [\"AM Peak\", \"Midday\", \"PM Peak\", \"Owl Service\"], \"title\": \"Time of Day\", \"type\": \"nominal\"}, \"tooltip\": [{\"field\": \"route_id\", \"type\": \"nominal\"}, {\"field\": \"trip_id\", \"type\": \"nominal\"}, {\"field\": \"service_hours\", \"type\": \"quantitative\"}, {\"field\": \"car_duration_hours\", \"type\": \"quantitative\"}, {\"field\": \"bus_multiplier\", \"type\": \"quantitative\"}, {\"field\": \"bus_difference\", \"type\": \"quantitative\"}, {\"field\": \"num_trips\", \"type\": \"quantitative\"}, {\"field\": \"num_competitive\", \"type\": \"quantitative\"}, {\"field\": \"pct_trips_competitive\", \"type\": \"quantitative\"}, {\"field\": \"p25\", \"type\": \"quantitative\"}, {\"field\": \"p50\", \"type\": \"quantitative\"}, {\"field\": \"p75\", \"type\": \"quantitative\"}], \"x\": {\"axis\": {\"grid\": false, \"labels\": false, \"ticks\": true, \"values\": [0]}, \"field\": \"jitter\", \"scale\": {}, \"title\": null, \"type\": \"quantitative\"}, \"y\": {\"field\": \"bus_multiplier\", \"scale\": {\"domain\": [-0.25, 2.5]}, \"title\": \"Ratio of Bus to Car Travel Time\", \"type\": \"quantitative\"}}, \"transform\": [{\"calculate\": \"sqrt(-2*log(random()))*cos(2*PI*random())\", \"as\": \"jitter\"}], \"width\": 50}, {\"layer\": [{\"mark\": {\"type\": \"point\", \"opacity\": 0.6, \"size\": 20, \"strokeWidth\": 1.3}, \"encoding\": {\"color\": {\"value\": \"#323434\"}, \"y\": {\"field\": \"bus_multiplier\", \"type\": \"quantitative\"}}, \"transform\": [{\"filter\": \"(datum.p50_trip === 1)\"}]}, {\"mark\": {\"type\": \"text\", \"align\": \"center\", \"baseline\": \"middle\"}, \"encoding\": {\"color\": {\"value\": \"black\"}, \"text\": {\"field\": \"pct_trips_competitive\", \"format\": \".0%\", \"type\": \"quantitative\"}, \"tooltip\": [{\"field\": \"route_id\", \"type\": \"nominal\"}, {\"field\": \"trip_id\", \"type\": \"nominal\"}, {\"field\": \"service_hours\", \"type\": \"quantitative\"}, {\"field\": \"car_duration_hours\", \"type\": \"quantitative\"}, {\"field\": \"bus_multiplier\", \"type\": \"quantitative\"}, {\"field\": \"bus_difference\", \"type\": \"quantitative\"}, {\"field\": \"num_trips\", \"type\": \"quantitative\"}, {\"field\": \"num_competitive\", \"type\": \"quantitative\"}, {\"field\": \"pct_trips_competitive\", \"type\": \"quantitative\"}, {\"field\": \"p25\", \"type\": \"quantitative\"}, {\"field\": \"p50\", \"type\": \"quantitative\"}, {\"field\": \"p75\", \"type\": \"quantitative\"}], \"x\": {\"value\": 30}, \"y\": {\"value\": 15}}, \"transform\": [{\"calculate\": \"sqrt(-2*log(random()))*cos(2*PI*random())\", \"as\": \"jitter\"}, {\"filter\": \"(datum.fastest_trip === 1)\"}]}]}]}, \"resolve\": {\"scale\": {\"y\": \"shared\"}}, \"title\": \"Ratio of Bus to Car Travel Time\", \"$schema\": \"https://vega.github.io/schema/vega-lite/v4.17.0.json\", \"datasets\": {\"data-e9eed955725c7b9f24a4a567b6cc809c\": [{\"calitp_itp_id\": 201, \"trip_key\": 2594753039241049600, \"trip_id\": \"t_501092_b_26877_tn_0\", \"shape_id\": \"p_178322\", \"route_id\": \"10992\", \"service_hours\": 0.3, \"trip_first_departure_ts\": 29400, \"trip_last_arrival_ts\": 30480, \"departure_hour\": 8, \"time_of_day\": \"AM Peak\", \"p25\": 0.3, \"p50\": 0.32, \"p75\": 0.32, \"p50_trip\": 0, \"fastest_trip\": 0, \"car_duration_hours\": 0.19, \"competitive_route\": 1, \"bus_multiplier\": 1.58, \"bus_difference\": 6.6, \"num_trips\": 16, \"num_competitive\": 16, \"pct_trips_competitive\": 1.0, \"bus_difference_spread\": 1.2, \"route_group\": \"short\", \"max_trip_hrs\": 0.32, \"max_trip_route_group\": 0.73, \"name\": \"Mission Bay Transportation Management Agency\", \"caltrans_district\": \"04 - Oakland\", \"drmt_organization_name\": null, \"cutoff2\": 20, \"cutoff\": 2}, {\"calitp_itp_id\": 201, \"trip_key\": 446591028706577328, \"trip_id\": \"t_501093_b_26877_tn_0\", \"shape_id\": \"p_178322\", \"route_id\": \"10992\", \"service_hours\": 0.3, \"trip_first_departure_ts\": 30900, \"trip_last_arrival_ts\": 31980, \"departure_hour\": 8, \"time_of_day\": \"AM Peak\", \"p25\": 0.3, \"p50\": 0.32, \"p75\": 0.32, \"p50_trip\": 0, \"fastest_trip\": 0, \"car_duration_hours\": 0.19, \"competitive_route\": 1, \"bus_multiplier\": 1.58, \"bus_difference\": 6.6, \"num_trips\": 16, \"num_competitive\": 16, \"pct_trips_competitive\": 1.0, \"bus_difference_spread\": 1.2, \"route_group\": \"short\", \"max_trip_hrs\": 0.32, \"max_trip_route_group\": 0.73, \"name\": \"Mission Bay Transportation Management Agency\", \"caltrans_district\": \"04 - Oakland\", \"drmt_organization_name\": null, \"cutoff2\": 20, \"cutoff\": 2}, {\"calitp_itp_id\": 201, \"trip_key\": -5291414331793922870, \"trip_id\": \"t_501090_b_26877_tn_0\", \"shape_id\": \"p_178322\", \"route_id\": \"10992\", \"service_hours\": 0.3, \"trip_first_departure_ts\": 26400, \"trip_last_arrival_ts\": 27480, \"departure_hour\": 7, \"time_of_day\": \"AM Peak\", \"p25\": 0.3, \"p50\": 0.32, \"p75\": 0.32, \"p50_trip\": 0, \"fastest_trip\": 0, \"car_duration_hours\": 0.19, \"competitive_route\": 1, \"bus_multiplier\": 1.58, \"bus_difference\": 6.6, \"num_trips\": 16, \"num_competitive\": 16, \"pct_trips_competitive\": 1.0, \"bus_difference_spread\": 1.2, \"route_group\": \"short\", \"max_trip_hrs\": 0.32, \"max_trip_route_group\": 0.73, \"name\": \"Mission Bay Transportation Management Agency\", \"caltrans_district\": \"04 - Oakland\", \"drmt_organization_name\": null, \"cutoff2\": 20, \"cutoff\": 2}, {\"calitp_itp_id\": 201, \"trip_key\": 5890287934645599178, \"trip_id\": \"t_501095_b_26877_tn_0\", \"shape_id\": \"p_178322\", \"route_id\": \"10992\", \"service_hours\": 0.3, \"trip_first_departure_ts\": 33900, \"trip_last_arrival_ts\": 34980, \"departure_hour\": 9, \"time_of_day\": \"AM Peak\", \"p25\": 0.3, \"p50\": 0.32, \"p75\": 0.32, \"p50_trip\": 0, \"fastest_trip\": 1, \"car_duration_hours\": 0.19, \"competitive_route\": 1, \"bus_multiplier\": 1.58, \"bus_difference\": 6.6, \"num_trips\": 16, \"num_competitive\": 16, \"pct_trips_competitive\": 1.0, \"bus_difference_spread\": 1.2, \"route_group\": \"short\", \"max_trip_hrs\": 0.32, \"max_trip_route_group\": 0.73, \"name\": \"Mission Bay Transportation Management Agency\", \"caltrans_district\": \"04 - Oakland\", \"drmt_organization_name\": null, \"cutoff2\": 20, \"cutoff\": 2}, {\"calitp_itp_id\": 201, \"trip_key\": 7527969544724761272, \"trip_id\": \"t_501094_b_26877_tn_0\", \"shape_id\": \"p_178322\", \"route_id\": \"10992\", \"service_hours\": 0.3, \"trip_first_departure_ts\": 32400, \"trip_last_arrival_ts\": 33480, \"departure_hour\": 9, \"time_of_day\": \"AM Peak\", \"p25\": 0.3, \"p50\": 0.32, \"p75\": 0.32, \"p50_trip\": 0, \"fastest_trip\": 0, \"car_duration_hours\": 0.19, \"competitive_route\": 1, \"bus_multiplier\": 1.58, \"bus_difference\": 6.6, \"num_trips\": 16, \"num_competitive\": 16, \"pct_trips_competitive\": 1.0, \"bus_difference_spread\": 1.2, \"route_group\": \"short\", \"max_trip_hrs\": 0.32, \"max_trip_route_group\": 0.73, \"name\": \"Mission Bay Transportation Management Agency\", \"caltrans_district\": \"04 - Oakland\", \"drmt_organization_name\": null, \"cutoff2\": 20, \"cutoff\": 2}, {\"calitp_itp_id\": 201, \"trip_key\": 4575489258218090459, \"trip_id\": \"t_501096_b_26877_tn_0\", \"shape_id\": \"p_178322\", \"route_id\": \"10992\", \"service_hours\": 0.3, \"trip_first_departure_ts\": 35400, \"trip_last_arrival_ts\": 36480, \"departure_hour\": 9, \"time_of_day\": \"AM Peak\", \"p25\": 0.3, \"p50\": 0.32, \"p75\": 0.32, \"p50_trip\": 0, \"fastest_trip\": 0, \"car_duration_hours\": 0.19, \"competitive_route\": 1, \"bus_multiplier\": 1.58, \"bus_difference\": 6.6, \"num_trips\": 16, \"num_competitive\": 16, \"pct_trips_competitive\": 1.0, \"bus_difference_spread\": 1.2, \"route_group\": \"short\", \"max_trip_hrs\": 0.32, \"max_trip_route_group\": 0.73, \"name\": \"Mission Bay Transportation Management Agency\", \"caltrans_district\": \"04 - Oakland\", \"drmt_organization_name\": null, \"cutoff2\": 20, \"cutoff\": 2}, {\"calitp_itp_id\": 201, \"trip_key\": 5264924346781938519, \"trip_id\": \"t_501091_b_26877_tn_0\", \"shape_id\": \"p_178322\", \"route_id\": \"10992\", \"service_hours\": 0.3, \"trip_first_departure_ts\": 27900, \"trip_last_arrival_ts\": 28980, \"departure_hour\": 7, \"time_of_day\": \"AM Peak\", \"p25\": 0.3, \"p50\": 0.32, \"p75\": 0.32, \"p50_trip\": 0, \"fastest_trip\": 0, \"car_duration_hours\": 0.19, \"competitive_route\": 1, \"bus_multiplier\": 1.58, \"bus_difference\": 6.6, \"num_trips\": 16, \"num_competitive\": 16, \"pct_trips_competitive\": 1.0, \"bus_difference_spread\": 1.2, \"route_group\": \"short\", \"max_trip_hrs\": 0.32, \"max_trip_route_group\": 0.73, \"name\": \"Mission Bay Transportation Management Agency\", \"caltrans_district\": \"04 - Oakland\", \"drmt_organization_name\": null, \"cutoff2\": 20, \"cutoff\": 2}, {\"calitp_itp_id\": 201, \"trip_key\": -2668864300106065871, \"trip_id\": \"t_501105_b_26877_tn_0\", \"shape_id\": \"p_787944\", \"route_id\": \"10992\", \"service_hours\": 0.32, \"trip_first_departure_ts\": 67500, \"trip_last_arrival_ts\": 68640, \"departure_hour\": 18, \"time_of_day\": \"PM Peak\", \"p25\": 0.3, \"p50\": 0.32, \"p75\": 0.32, \"p50_trip\": 1, \"fastest_trip\": 0, \"car_duration_hours\": 0.19, \"competitive_route\": 1, \"bus_multiplier\": 1.68, \"bus_difference\": 7.8, \"num_trips\": 16, \"num_competitive\": 16, \"pct_trips_competitive\": 1.0, \"bus_difference_spread\": 1.2, \"route_group\": \"short\", \"max_trip_hrs\": 0.32, \"max_trip_route_group\": 0.73, \"name\": \"Mission Bay Transportation Management Agency\", \"caltrans_district\": \"04 - Oakland\", \"drmt_organization_name\": null, \"cutoff2\": 20, \"cutoff\": 2}, {\"calitp_itp_id\": 201, \"trip_key\": 5501413978734962669, \"trip_id\": \"t_501107_b_26877_tn_0\", \"shape_id\": \"p_787944\", \"route_id\": \"10992\", \"service_hours\": 0.32, \"trip_first_departure_ts\": 69300, \"trip_last_arrival_ts\": 70440, \"departure_hour\": 19, \"time_of_day\": \"PM Peak\", \"p25\": 0.3, \"p50\": 0.32, \"p75\": 0.32, \"p50_trip\": 1, \"fastest_trip\": 0, \"car_duration_hours\": 0.19, \"competitive_route\": 1, \"bus_multiplier\": 1.68, \"bus_difference\": 7.8, \"num_trips\": 16, \"num_competitive\": 16, \"pct_trips_competitive\": 1.0, \"bus_difference_spread\": 1.2, \"route_group\": \"short\", \"max_trip_hrs\": 0.32, \"max_trip_route_group\": 0.73, \"name\": \"Mission Bay Transportation Management Agency\", \"caltrans_district\": \"04 - Oakland\", \"drmt_organization_name\": null, \"cutoff2\": 20, \"cutoff\": 2}, {\"calitp_itp_id\": 201, \"trip_key\": 2739882514567614438, \"trip_id\": \"t_501102_b_26877_tn_0\", \"shape_id\": \"p_787944\", \"route_id\": \"10992\", \"service_hours\": 0.32, \"trip_first_departure_ts\": 61500, \"trip_last_arrival_ts\": 62640, \"departure_hour\": 17, \"time_of_day\": \"PM Peak\", \"p25\": 0.3, \"p50\": 0.32, \"p75\": 0.32, \"p50_trip\": 1, \"fastest_trip\": 0, \"car_duration_hours\": 0.19, \"competitive_route\": 1, \"bus_multiplier\": 1.68, \"bus_difference\": 7.8, \"num_trips\": 16, \"num_competitive\": 16, \"pct_trips_competitive\": 1.0, \"bus_difference_spread\": 1.2, \"route_group\": \"short\", \"max_trip_hrs\": 0.32, \"max_trip_route_group\": 0.73, \"name\": \"Mission Bay Transportation Management Agency\", \"caltrans_district\": \"04 - Oakland\", \"drmt_organization_name\": null, \"cutoff2\": 20, \"cutoff\": 2}, {\"calitp_itp_id\": 201, \"trip_key\": -7033586504096462268, \"trip_id\": \"t_501098_b_26877_tn_0\", \"shape_id\": \"p_787944\", \"route_id\": \"10992\", \"service_hours\": 0.32, \"trip_first_departure_ts\": 55500, \"trip_last_arrival_ts\": 56640, \"departure_hour\": 15, \"time_of_day\": \"Midday\", \"p25\": 0.3, \"p50\": 0.32, \"p75\": 0.32, \"p50_trip\": 1, \"fastest_trip\": 0, \"car_duration_hours\": 0.19, \"competitive_route\": 1, \"bus_multiplier\": 1.68, \"bus_difference\": 7.8, \"num_trips\": 16, \"num_competitive\": 16, \"pct_trips_competitive\": 1.0, \"bus_difference_spread\": 1.2, \"route_group\": \"short\", \"max_trip_hrs\": 0.32, \"max_trip_route_group\": 0.73, \"name\": \"Mission Bay Transportation Management Agency\", \"caltrans_district\": \"04 - Oakland\", \"drmt_organization_name\": null, \"cutoff2\": 20, \"cutoff\": 2}, {\"calitp_itp_id\": 201, \"trip_key\": 6826985930702261582, \"trip_id\": \"t_501103_b_26877_tn_0\", \"shape_id\": \"p_787944\", \"route_id\": \"10992\", \"service_hours\": 0.32, \"trip_first_departure_ts\": 63000, \"trip_last_arrival_ts\": 64140, \"departure_hour\": 17, \"time_of_day\": \"PM Peak\", \"p25\": 0.3, \"p50\": 0.32, \"p75\": 0.32, \"p50_trip\": 1, \"fastest_trip\": 0, \"car_duration_hours\": 0.19, \"competitive_route\": 1, \"bus_multiplier\": 1.68, \"bus_difference\": 7.8, \"num_trips\": 16, \"num_competitive\": 16, \"pct_trips_competitive\": 1.0, \"bus_difference_spread\": 1.2, \"route_group\": \"short\", \"max_trip_hrs\": 0.32, \"max_trip_route_group\": 0.73, \"name\": \"Mission Bay Transportation Management Agency\", \"caltrans_district\": \"04 - Oakland\", \"drmt_organization_name\": null, \"cutoff2\": 20, \"cutoff\": 2}, {\"calitp_itp_id\": 201, \"trip_key\": -6159584788426511965, \"trip_id\": \"t_501099_b_26877_tn_0\", \"shape_id\": \"p_787944\", \"route_id\": \"10992\", \"service_hours\": 0.32, \"trip_first_departure_ts\": 57000, \"trip_last_arrival_ts\": 58140, \"departure_hour\": 15, \"time_of_day\": \"Midday\", \"p25\": 0.3, \"p50\": 0.32, \"p75\": 0.32, \"p50_trip\": 1, \"fastest_trip\": 0, \"car_duration_hours\": 0.19, \"competitive_route\": 1, \"bus_multiplier\": 1.68, \"bus_difference\": 7.8, \"num_trips\": 16, \"num_competitive\": 16, \"pct_trips_competitive\": 1.0, \"bus_difference_spread\": 1.2, \"route_group\": \"short\", \"max_trip_hrs\": 0.32, \"max_trip_route_group\": 0.73, \"name\": \"Mission Bay Transportation Management Agency\", \"caltrans_district\": \"04 - Oakland\", \"drmt_organization_name\": null, \"cutoff2\": 20, \"cutoff\": 2}, {\"calitp_itp_id\": 201, \"trip_key\": 6868557470836870810, \"trip_id\": \"t_501104_b_26877_tn_0\", \"shape_id\": \"p_787944\", \"route_id\": \"10992\", \"service_hours\": 0.32, \"trip_first_departure_ts\": 64800, \"trip_last_arrival_ts\": 65940, \"departure_hour\": 18, \"time_of_day\": \"PM Peak\", \"p25\": 0.3, \"p50\": 0.32, \"p75\": 0.32, \"p50_trip\": 1, \"fastest_trip\": 0, \"car_duration_hours\": 0.19, \"competitive_route\": 1, \"bus_multiplier\": 1.68, \"bus_difference\": 7.8, \"num_trips\": 16, \"num_competitive\": 16, \"pct_trips_competitive\": 1.0, \"bus_difference_spread\": 1.2, \"route_group\": \"short\", \"max_trip_hrs\": 0.32, \"max_trip_route_group\": 0.73, \"name\": \"Mission Bay Transportation Management Agency\", \"caltrans_district\": \"04 - Oakland\", \"drmt_organization_name\": null, \"cutoff2\": 20, \"cutoff\": 2}, {\"calitp_itp_id\": 201, \"trip_key\": 2150107959576833610, \"trip_id\": \"t_501101_b_26877_tn_0\", \"shape_id\": \"p_787944\", \"route_id\": \"10992\", \"service_hours\": 0.32, \"trip_first_departure_ts\": 60000, \"trip_last_arrival_ts\": 61140, \"departure_hour\": 16, \"time_of_day\": \"Midday\", \"p25\": 0.3, \"p50\": 0.32, \"p75\": 0.32, \"p50_trip\": 1, \"fastest_trip\": 0, \"car_duration_hours\": 0.19, \"competitive_route\": 1, \"bus_multiplier\": 1.68, \"bus_difference\": 7.8, \"num_trips\": 16, \"num_competitive\": 16, \"pct_trips_competitive\": 1.0, \"bus_difference_spread\": 1.2, \"route_group\": \"short\", \"max_trip_hrs\": 0.32, \"max_trip_route_group\": 0.73, \"name\": \"Mission Bay Transportation Management Agency\", \"caltrans_district\": \"04 - Oakland\", \"drmt_organization_name\": null, \"cutoff2\": 20, \"cutoff\": 2}, {\"calitp_itp_id\": 201, \"trip_key\": 904783777805529288, \"trip_id\": \"t_501100_b_26877_tn_0\", \"shape_id\": \"p_787944\", \"route_id\": \"10992\", \"service_hours\": 0.32, \"trip_first_departure_ts\": 58500, \"trip_last_arrival_ts\": 59640, \"departure_hour\": 16, \"time_of_day\": \"Midday\", \"p25\": 0.3, \"p50\": 0.32, \"p75\": 0.32, \"p50_trip\": 1, \"fastest_trip\": 0, \"car_duration_hours\": 0.19, \"competitive_route\": 1, \"bus_multiplier\": 1.68, \"bus_difference\": 7.8, \"num_trips\": 16, \"num_competitive\": 16, \"pct_trips_competitive\": 1.0, \"bus_difference_spread\": 1.2, \"route_group\": \"short\", \"max_trip_hrs\": 0.32, \"max_trip_route_group\": 0.73, \"name\": \"Mission Bay Transportation Management Agency\", \"caltrans_district\": \"04 - Oakland\", \"drmt_organization_name\": null, \"cutoff2\": 20, \"cutoff\": 2}]}}, {\"mode\": \"vega-lite\"});\n",
       "</script>"
      ],
      "text/plain": [
       "alt.FacetChart(...)"
      ]
     },
     "metadata": {},
     "output_type": "display_data"
    },
    {
     "data": {
      "text/html": [
       "\n",
       "<div id=\"altair-viz-b659ebf116d5453bbe3ab718a604a422\"></div>\n",
       "<script type=\"text/javascript\">\n",
       "  var VEGA_DEBUG = (typeof VEGA_DEBUG == \"undefined\") ? {} : VEGA_DEBUG;\n",
       "  (function(spec, embedOpt){\n",
       "    let outputDiv = document.currentScript.previousElementSibling;\n",
       "    if (outputDiv.id !== \"altair-viz-b659ebf116d5453bbe3ab718a604a422\") {\n",
       "      outputDiv = document.getElementById(\"altair-viz-b659ebf116d5453bbe3ab718a604a422\");\n",
       "    }\n",
       "    const paths = {\n",
       "      \"vega\": \"https://cdn.jsdelivr.net/npm//vega@5?noext\",\n",
       "      \"vega-lib\": \"https://cdn.jsdelivr.net/npm//vega-lib?noext\",\n",
       "      \"vega-lite\": \"https://cdn.jsdelivr.net/npm//vega-lite@4.17.0?noext\",\n",
       "      \"vega-embed\": \"https://cdn.jsdelivr.net/npm//vega-embed@6?noext\",\n",
       "    };\n",
       "\n",
       "    function maybeLoadScript(lib, version) {\n",
       "      var key = `${lib.replace(\"-\", \"\")}_version`;\n",
       "      return (VEGA_DEBUG[key] == version) ?\n",
       "        Promise.resolve(paths[lib]) :\n",
       "        new Promise(function(resolve, reject) {\n",
       "          var s = document.createElement('script');\n",
       "          document.getElementsByTagName(\"head\")[0].appendChild(s);\n",
       "          s.async = true;\n",
       "          s.onload = () => {\n",
       "            VEGA_DEBUG[key] = version;\n",
       "            return resolve(paths[lib]);\n",
       "          };\n",
       "          s.onerror = () => reject(`Error loading script: ${paths[lib]}`);\n",
       "          s.src = paths[lib];\n",
       "        });\n",
       "    }\n",
       "\n",
       "    function showError(err) {\n",
       "      outputDiv.innerHTML = `<div class=\"error\" style=\"color:red;\">${err}</div>`;\n",
       "      throw err;\n",
       "    }\n",
       "\n",
       "    function displayChart(vegaEmbed) {\n",
       "      vegaEmbed(outputDiv, spec, embedOpt)\n",
       "        .catch(err => showError(`Javascript Error: ${err.message}<br>This usually means there's a typo in your chart specification. See the javascript console for the full traceback.`));\n",
       "    }\n",
       "\n",
       "    if(typeof define === \"function\" && define.amd) {\n",
       "      requirejs.config({paths});\n",
       "      require([\"vega-embed\"], displayChart, err => showError(`Error loading script: ${err.message}`));\n",
       "    } else {\n",
       "      maybeLoadScript(\"vega\", \"5\")\n",
       "        .then(() => maybeLoadScript(\"vega-lite\", \"4.17.0\"))\n",
       "        .then(() => maybeLoadScript(\"vega-embed\", \"6\"))\n",
       "        .catch(showError)\n",
       "        .then(() => displayChart(vegaEmbed));\n",
       "    }\n",
       "  })({\"config\": {\"view\": {\"continuousWidth\": 400, \"continuousHeight\": 300, \"stroke\": null}, \"facet\": {\"spacing\": 0}}, \"data\": {\"name\": \"data-133b5051b9b69d56c0e5425fa3dea5ed\"}, \"facet\": {\"column\": {\"field\": \"route_id\", \"sort\": [\"10992\"], \"title\": \"Route ID\", \"type\": \"nominal\"}}, \"spec\": {\"layer\": [{\"mark\": \"rule\", \"encoding\": {\"color\": {\"value\": \"black\"}, \"y\": {\"field\": \"cutoff\", \"type\": \"quantitative\"}}, \"selection\": {\"selector002\": {\"type\": \"interval\", \"bind\": \"scales\", \"encodings\": [\"x\", \"y\"]}}}, {\"mark\": {\"type\": \"rule\", \"strokeDash\": [3, 3]}, \"encoding\": {\"color\": {\"value\": \"#323434\"}, \"y\": {\"field\": \"cutoff2\", \"type\": \"quantitative\"}}}, {\"mark\": {\"type\": \"point\", \"opacity\": 0.65, \"size\": 12, \"strokeWidth\": 1.1}, \"encoding\": {\"color\": {\"field\": \"time_of_day\", \"scale\": {\"range\": [\"#136C97\", \"#E16B26\", \"#F6BF16\", \"#00896B\", \"#7790A3\", \"#5B559C\"]}, \"sort\": [\"AM Peak\", \"Midday\", \"PM Peak\", \"Owl Service\"], \"title\": \"Time of Day\", \"type\": \"nominal\"}, \"tooltip\": [{\"field\": \"route_id\", \"type\": \"nominal\"}, {\"field\": \"trip_id\", \"type\": \"nominal\"}, {\"field\": \"service_hours\", \"type\": \"quantitative\"}, {\"field\": \"car_duration_hours\", \"type\": \"quantitative\"}, {\"field\": \"bus_multiplier\", \"type\": \"quantitative\"}, {\"field\": \"bus_difference\", \"type\": \"quantitative\"}, {\"field\": \"num_trips\", \"type\": \"quantitative\"}, {\"field\": \"num_competitive\", \"type\": \"quantitative\"}, {\"field\": \"pct_trips_competitive\", \"type\": \"quantitative\"}, {\"field\": \"p25\", \"type\": \"quantitative\"}, {\"field\": \"p50\", \"type\": \"quantitative\"}, {\"field\": \"p75\", \"type\": \"quantitative\"}], \"x\": {\"axis\": {\"grid\": false, \"labels\": false, \"ticks\": true, \"values\": [0]}, \"field\": \"jitter\", \"scale\": {}, \"title\": null, \"type\": \"quantitative\"}, \"y\": {\"field\": \"bus_difference\", \"scale\": {\"domain\": [-5, 25.0]}, \"title\": \"Difference in Bus to Car Travel Time (min)\", \"type\": \"quantitative\"}}, \"transform\": [{\"calculate\": \"sqrt(-2*log(random()))*cos(2*PI*random())\", \"as\": \"jitter\"}], \"width\": 50}, {\"layer\": [{\"mark\": {\"type\": \"point\", \"opacity\": 0.6, \"size\": 20, \"strokeWidth\": 1.3}, \"encoding\": {\"color\": {\"value\": \"#323434\"}, \"y\": {\"field\": \"bus_difference\", \"type\": \"quantitative\"}}, \"transform\": [{\"filter\": \"(datum.p50_trip === 1)\"}]}, {\"mark\": {\"type\": \"text\", \"align\": \"center\", \"baseline\": \"middle\"}, \"encoding\": {\"color\": {\"value\": \"black\"}, \"text\": {\"field\": \"pct_trips_competitive\", \"format\": \".0%\", \"type\": \"quantitative\"}, \"tooltip\": [{\"field\": \"route_id\", \"type\": \"nominal\"}, {\"field\": \"trip_id\", \"type\": \"nominal\"}, {\"field\": \"service_hours\", \"type\": \"quantitative\"}, {\"field\": \"car_duration_hours\", \"type\": \"quantitative\"}, {\"field\": \"bus_multiplier\", \"type\": \"quantitative\"}, {\"field\": \"bus_difference\", \"type\": \"quantitative\"}, {\"field\": \"num_trips\", \"type\": \"quantitative\"}, {\"field\": \"num_competitive\", \"type\": \"quantitative\"}, {\"field\": \"pct_trips_competitive\", \"type\": \"quantitative\"}, {\"field\": \"p25\", \"type\": \"quantitative\"}, {\"field\": \"p50\", \"type\": \"quantitative\"}, {\"field\": \"p75\", \"type\": \"quantitative\"}], \"x\": {\"value\": 30}, \"y\": {\"value\": 15}}, \"transform\": [{\"calculate\": \"sqrt(-2*log(random()))*cos(2*PI*random())\", \"as\": \"jitter\"}, {\"filter\": \"(datum.fastest_trip === 1)\"}]}]}]}, \"resolve\": {\"scale\": {\"y\": \"shared\"}}, \"title\": \"Difference in Bus to Car Travel Time (min)\", \"$schema\": \"https://vega.github.io/schema/vega-lite/v4.17.0.json\", \"datasets\": {\"data-133b5051b9b69d56c0e5425fa3dea5ed\": [{\"calitp_itp_id\": 201, \"trip_key\": 2594753039241049600, \"trip_id\": \"t_501092_b_26877_tn_0\", \"shape_id\": \"p_178322\", \"route_id\": \"10992\", \"service_hours\": 0.3, \"trip_first_departure_ts\": 29400, \"trip_last_arrival_ts\": 30480, \"departure_hour\": 8, \"time_of_day\": \"AM Peak\", \"p25\": 0.3, \"p50\": 0.32, \"p75\": 0.32, \"p50_trip\": 0, \"fastest_trip\": 0, \"car_duration_hours\": 0.19, \"competitive_route\": 1, \"bus_multiplier\": 1.58, \"bus_difference\": 6.6, \"num_trips\": 16, \"num_competitive\": 16, \"pct_trips_competitive\": 1.0, \"bus_difference_spread\": 1.2, \"route_group\": \"short\", \"max_trip_hrs\": 0.32, \"max_trip_route_group\": 0.73, \"name\": \"Mission Bay Transportation Management Agency\", \"caltrans_district\": \"04 - Oakland\", \"drmt_organization_name\": null, \"cutoff2\": 20, \"cutoff\": 0}, {\"calitp_itp_id\": 201, \"trip_key\": 446591028706577328, \"trip_id\": \"t_501093_b_26877_tn_0\", \"shape_id\": \"p_178322\", \"route_id\": \"10992\", \"service_hours\": 0.3, \"trip_first_departure_ts\": 30900, \"trip_last_arrival_ts\": 31980, \"departure_hour\": 8, \"time_of_day\": \"AM Peak\", \"p25\": 0.3, \"p50\": 0.32, \"p75\": 0.32, \"p50_trip\": 0, \"fastest_trip\": 0, \"car_duration_hours\": 0.19, \"competitive_route\": 1, \"bus_multiplier\": 1.58, \"bus_difference\": 6.6, \"num_trips\": 16, \"num_competitive\": 16, \"pct_trips_competitive\": 1.0, \"bus_difference_spread\": 1.2, \"route_group\": \"short\", \"max_trip_hrs\": 0.32, \"max_trip_route_group\": 0.73, \"name\": \"Mission Bay Transportation Management Agency\", \"caltrans_district\": \"04 - Oakland\", \"drmt_organization_name\": null, \"cutoff2\": 20, \"cutoff\": 0}, {\"calitp_itp_id\": 201, \"trip_key\": -5291414331793922870, \"trip_id\": \"t_501090_b_26877_tn_0\", \"shape_id\": \"p_178322\", \"route_id\": \"10992\", \"service_hours\": 0.3, \"trip_first_departure_ts\": 26400, \"trip_last_arrival_ts\": 27480, \"departure_hour\": 7, \"time_of_day\": \"AM Peak\", \"p25\": 0.3, \"p50\": 0.32, \"p75\": 0.32, \"p50_trip\": 0, \"fastest_trip\": 0, \"car_duration_hours\": 0.19, \"competitive_route\": 1, \"bus_multiplier\": 1.58, \"bus_difference\": 6.6, \"num_trips\": 16, \"num_competitive\": 16, \"pct_trips_competitive\": 1.0, \"bus_difference_spread\": 1.2, \"route_group\": \"short\", \"max_trip_hrs\": 0.32, \"max_trip_route_group\": 0.73, \"name\": \"Mission Bay Transportation Management Agency\", \"caltrans_district\": \"04 - Oakland\", \"drmt_organization_name\": null, \"cutoff2\": 20, \"cutoff\": 0}, {\"calitp_itp_id\": 201, \"trip_key\": 5890287934645599178, \"trip_id\": \"t_501095_b_26877_tn_0\", \"shape_id\": \"p_178322\", \"route_id\": \"10992\", \"service_hours\": 0.3, \"trip_first_departure_ts\": 33900, \"trip_last_arrival_ts\": 34980, \"departure_hour\": 9, \"time_of_day\": \"AM Peak\", \"p25\": 0.3, \"p50\": 0.32, \"p75\": 0.32, \"p50_trip\": 0, \"fastest_trip\": 1, \"car_duration_hours\": 0.19, \"competitive_route\": 1, \"bus_multiplier\": 1.58, \"bus_difference\": 6.6, \"num_trips\": 16, \"num_competitive\": 16, \"pct_trips_competitive\": 1.0, \"bus_difference_spread\": 1.2, \"route_group\": \"short\", \"max_trip_hrs\": 0.32, \"max_trip_route_group\": 0.73, \"name\": \"Mission Bay Transportation Management Agency\", \"caltrans_district\": \"04 - Oakland\", \"drmt_organization_name\": null, \"cutoff2\": 20, \"cutoff\": 0}, {\"calitp_itp_id\": 201, \"trip_key\": 7527969544724761272, \"trip_id\": \"t_501094_b_26877_tn_0\", \"shape_id\": \"p_178322\", \"route_id\": \"10992\", \"service_hours\": 0.3, \"trip_first_departure_ts\": 32400, \"trip_last_arrival_ts\": 33480, \"departure_hour\": 9, \"time_of_day\": \"AM Peak\", \"p25\": 0.3, \"p50\": 0.32, \"p75\": 0.32, \"p50_trip\": 0, \"fastest_trip\": 0, \"car_duration_hours\": 0.19, \"competitive_route\": 1, \"bus_multiplier\": 1.58, \"bus_difference\": 6.6, \"num_trips\": 16, \"num_competitive\": 16, \"pct_trips_competitive\": 1.0, \"bus_difference_spread\": 1.2, \"route_group\": \"short\", \"max_trip_hrs\": 0.32, \"max_trip_route_group\": 0.73, \"name\": \"Mission Bay Transportation Management Agency\", \"caltrans_district\": \"04 - Oakland\", \"drmt_organization_name\": null, \"cutoff2\": 20, \"cutoff\": 0}, {\"calitp_itp_id\": 201, \"trip_key\": 4575489258218090459, \"trip_id\": \"t_501096_b_26877_tn_0\", \"shape_id\": \"p_178322\", \"route_id\": \"10992\", \"service_hours\": 0.3, \"trip_first_departure_ts\": 35400, \"trip_last_arrival_ts\": 36480, \"departure_hour\": 9, \"time_of_day\": \"AM Peak\", \"p25\": 0.3, \"p50\": 0.32, \"p75\": 0.32, \"p50_trip\": 0, \"fastest_trip\": 0, \"car_duration_hours\": 0.19, \"competitive_route\": 1, \"bus_multiplier\": 1.58, \"bus_difference\": 6.6, \"num_trips\": 16, \"num_competitive\": 16, \"pct_trips_competitive\": 1.0, \"bus_difference_spread\": 1.2, \"route_group\": \"short\", \"max_trip_hrs\": 0.32, \"max_trip_route_group\": 0.73, \"name\": \"Mission Bay Transportation Management Agency\", \"caltrans_district\": \"04 - Oakland\", \"drmt_organization_name\": null, \"cutoff2\": 20, \"cutoff\": 0}, {\"calitp_itp_id\": 201, \"trip_key\": 5264924346781938519, \"trip_id\": \"t_501091_b_26877_tn_0\", \"shape_id\": \"p_178322\", \"route_id\": \"10992\", \"service_hours\": 0.3, \"trip_first_departure_ts\": 27900, \"trip_last_arrival_ts\": 28980, \"departure_hour\": 7, \"time_of_day\": \"AM Peak\", \"p25\": 0.3, \"p50\": 0.32, \"p75\": 0.32, \"p50_trip\": 0, \"fastest_trip\": 0, \"car_duration_hours\": 0.19, \"competitive_route\": 1, \"bus_multiplier\": 1.58, \"bus_difference\": 6.6, \"num_trips\": 16, \"num_competitive\": 16, \"pct_trips_competitive\": 1.0, \"bus_difference_spread\": 1.2, \"route_group\": \"short\", \"max_trip_hrs\": 0.32, \"max_trip_route_group\": 0.73, \"name\": \"Mission Bay Transportation Management Agency\", \"caltrans_district\": \"04 - Oakland\", \"drmt_organization_name\": null, \"cutoff2\": 20, \"cutoff\": 0}, {\"calitp_itp_id\": 201, \"trip_key\": -2668864300106065871, \"trip_id\": \"t_501105_b_26877_tn_0\", \"shape_id\": \"p_787944\", \"route_id\": \"10992\", \"service_hours\": 0.32, \"trip_first_departure_ts\": 67500, \"trip_last_arrival_ts\": 68640, \"departure_hour\": 18, \"time_of_day\": \"PM Peak\", \"p25\": 0.3, \"p50\": 0.32, \"p75\": 0.32, \"p50_trip\": 1, \"fastest_trip\": 0, \"car_duration_hours\": 0.19, \"competitive_route\": 1, \"bus_multiplier\": 1.68, \"bus_difference\": 7.8, \"num_trips\": 16, \"num_competitive\": 16, \"pct_trips_competitive\": 1.0, \"bus_difference_spread\": 1.2, \"route_group\": \"short\", \"max_trip_hrs\": 0.32, \"max_trip_route_group\": 0.73, \"name\": \"Mission Bay Transportation Management Agency\", \"caltrans_district\": \"04 - Oakland\", \"drmt_organization_name\": null, \"cutoff2\": 20, \"cutoff\": 0}, {\"calitp_itp_id\": 201, \"trip_key\": 5501413978734962669, \"trip_id\": \"t_501107_b_26877_tn_0\", \"shape_id\": \"p_787944\", \"route_id\": \"10992\", \"service_hours\": 0.32, \"trip_first_departure_ts\": 69300, \"trip_last_arrival_ts\": 70440, \"departure_hour\": 19, \"time_of_day\": \"PM Peak\", \"p25\": 0.3, \"p50\": 0.32, \"p75\": 0.32, \"p50_trip\": 1, \"fastest_trip\": 0, \"car_duration_hours\": 0.19, \"competitive_route\": 1, \"bus_multiplier\": 1.68, \"bus_difference\": 7.8, \"num_trips\": 16, \"num_competitive\": 16, \"pct_trips_competitive\": 1.0, \"bus_difference_spread\": 1.2, \"route_group\": \"short\", \"max_trip_hrs\": 0.32, \"max_trip_route_group\": 0.73, \"name\": \"Mission Bay Transportation Management Agency\", \"caltrans_district\": \"04 - Oakland\", \"drmt_organization_name\": null, \"cutoff2\": 20, \"cutoff\": 0}, {\"calitp_itp_id\": 201, \"trip_key\": 2739882514567614438, \"trip_id\": \"t_501102_b_26877_tn_0\", \"shape_id\": \"p_787944\", \"route_id\": \"10992\", \"service_hours\": 0.32, \"trip_first_departure_ts\": 61500, \"trip_last_arrival_ts\": 62640, \"departure_hour\": 17, \"time_of_day\": \"PM Peak\", \"p25\": 0.3, \"p50\": 0.32, \"p75\": 0.32, \"p50_trip\": 1, \"fastest_trip\": 0, \"car_duration_hours\": 0.19, \"competitive_route\": 1, \"bus_multiplier\": 1.68, \"bus_difference\": 7.8, \"num_trips\": 16, \"num_competitive\": 16, \"pct_trips_competitive\": 1.0, \"bus_difference_spread\": 1.2, \"route_group\": \"short\", \"max_trip_hrs\": 0.32, \"max_trip_route_group\": 0.73, \"name\": \"Mission Bay Transportation Management Agency\", \"caltrans_district\": \"04 - Oakland\", \"drmt_organization_name\": null, \"cutoff2\": 20, \"cutoff\": 0}, {\"calitp_itp_id\": 201, \"trip_key\": -7033586504096462268, \"trip_id\": \"t_501098_b_26877_tn_0\", \"shape_id\": \"p_787944\", \"route_id\": \"10992\", \"service_hours\": 0.32, \"trip_first_departure_ts\": 55500, \"trip_last_arrival_ts\": 56640, \"departure_hour\": 15, \"time_of_day\": \"Midday\", \"p25\": 0.3, \"p50\": 0.32, \"p75\": 0.32, \"p50_trip\": 1, \"fastest_trip\": 0, \"car_duration_hours\": 0.19, \"competitive_route\": 1, \"bus_multiplier\": 1.68, \"bus_difference\": 7.8, \"num_trips\": 16, \"num_competitive\": 16, \"pct_trips_competitive\": 1.0, \"bus_difference_spread\": 1.2, \"route_group\": \"short\", \"max_trip_hrs\": 0.32, \"max_trip_route_group\": 0.73, \"name\": \"Mission Bay Transportation Management Agency\", \"caltrans_district\": \"04 - Oakland\", \"drmt_organization_name\": null, \"cutoff2\": 20, \"cutoff\": 0}, {\"calitp_itp_id\": 201, \"trip_key\": 6826985930702261582, \"trip_id\": \"t_501103_b_26877_tn_0\", \"shape_id\": \"p_787944\", \"route_id\": \"10992\", \"service_hours\": 0.32, \"trip_first_departure_ts\": 63000, \"trip_last_arrival_ts\": 64140, \"departure_hour\": 17, \"time_of_day\": \"PM Peak\", \"p25\": 0.3, \"p50\": 0.32, \"p75\": 0.32, \"p50_trip\": 1, \"fastest_trip\": 0, \"car_duration_hours\": 0.19, \"competitive_route\": 1, \"bus_multiplier\": 1.68, \"bus_difference\": 7.8, \"num_trips\": 16, \"num_competitive\": 16, \"pct_trips_competitive\": 1.0, \"bus_difference_spread\": 1.2, \"route_group\": \"short\", \"max_trip_hrs\": 0.32, \"max_trip_route_group\": 0.73, \"name\": \"Mission Bay Transportation Management Agency\", \"caltrans_district\": \"04 - Oakland\", \"drmt_organization_name\": null, \"cutoff2\": 20, \"cutoff\": 0}, {\"calitp_itp_id\": 201, \"trip_key\": -6159584788426511965, \"trip_id\": \"t_501099_b_26877_tn_0\", \"shape_id\": \"p_787944\", \"route_id\": \"10992\", \"service_hours\": 0.32, \"trip_first_departure_ts\": 57000, \"trip_last_arrival_ts\": 58140, \"departure_hour\": 15, \"time_of_day\": \"Midday\", \"p25\": 0.3, \"p50\": 0.32, \"p75\": 0.32, \"p50_trip\": 1, \"fastest_trip\": 0, \"car_duration_hours\": 0.19, \"competitive_route\": 1, \"bus_multiplier\": 1.68, \"bus_difference\": 7.8, \"num_trips\": 16, \"num_competitive\": 16, \"pct_trips_competitive\": 1.0, \"bus_difference_spread\": 1.2, \"route_group\": \"short\", \"max_trip_hrs\": 0.32, \"max_trip_route_group\": 0.73, \"name\": \"Mission Bay Transportation Management Agency\", \"caltrans_district\": \"04 - Oakland\", \"drmt_organization_name\": null, \"cutoff2\": 20, \"cutoff\": 0}, {\"calitp_itp_id\": 201, \"trip_key\": 6868557470836870810, \"trip_id\": \"t_501104_b_26877_tn_0\", \"shape_id\": \"p_787944\", \"route_id\": \"10992\", \"service_hours\": 0.32, \"trip_first_departure_ts\": 64800, \"trip_last_arrival_ts\": 65940, \"departure_hour\": 18, \"time_of_day\": \"PM Peak\", \"p25\": 0.3, \"p50\": 0.32, \"p75\": 0.32, \"p50_trip\": 1, \"fastest_trip\": 0, \"car_duration_hours\": 0.19, \"competitive_route\": 1, \"bus_multiplier\": 1.68, \"bus_difference\": 7.8, \"num_trips\": 16, \"num_competitive\": 16, \"pct_trips_competitive\": 1.0, \"bus_difference_spread\": 1.2, \"route_group\": \"short\", \"max_trip_hrs\": 0.32, \"max_trip_route_group\": 0.73, \"name\": \"Mission Bay Transportation Management Agency\", \"caltrans_district\": \"04 - Oakland\", \"drmt_organization_name\": null, \"cutoff2\": 20, \"cutoff\": 0}, {\"calitp_itp_id\": 201, \"trip_key\": 2150107959576833610, \"trip_id\": \"t_501101_b_26877_tn_0\", \"shape_id\": \"p_787944\", \"route_id\": \"10992\", \"service_hours\": 0.32, \"trip_first_departure_ts\": 60000, \"trip_last_arrival_ts\": 61140, \"departure_hour\": 16, \"time_of_day\": \"Midday\", \"p25\": 0.3, \"p50\": 0.32, \"p75\": 0.32, \"p50_trip\": 1, \"fastest_trip\": 0, \"car_duration_hours\": 0.19, \"competitive_route\": 1, \"bus_multiplier\": 1.68, \"bus_difference\": 7.8, \"num_trips\": 16, \"num_competitive\": 16, \"pct_trips_competitive\": 1.0, \"bus_difference_spread\": 1.2, \"route_group\": \"short\", \"max_trip_hrs\": 0.32, \"max_trip_route_group\": 0.73, \"name\": \"Mission Bay Transportation Management Agency\", \"caltrans_district\": \"04 - Oakland\", \"drmt_organization_name\": null, \"cutoff2\": 20, \"cutoff\": 0}, {\"calitp_itp_id\": 201, \"trip_key\": 904783777805529288, \"trip_id\": \"t_501100_b_26877_tn_0\", \"shape_id\": \"p_787944\", \"route_id\": \"10992\", \"service_hours\": 0.32, \"trip_first_departure_ts\": 58500, \"trip_last_arrival_ts\": 59640, \"departure_hour\": 16, \"time_of_day\": \"Midday\", \"p25\": 0.3, \"p50\": 0.32, \"p75\": 0.32, \"p50_trip\": 1, \"fastest_trip\": 0, \"car_duration_hours\": 0.19, \"competitive_route\": 1, \"bus_multiplier\": 1.68, \"bus_difference\": 7.8, \"num_trips\": 16, \"num_competitive\": 16, \"pct_trips_competitive\": 1.0, \"bus_difference_spread\": 1.2, \"route_group\": \"short\", \"max_trip_hrs\": 0.32, \"max_trip_route_group\": 0.73, \"name\": \"Mission Bay Transportation Management Agency\", \"caltrans_district\": \"04 - Oakland\", \"drmt_organization_name\": null, \"cutoff2\": 20, \"cutoff\": 0}]}}, {\"mode\": \"vega-lite\"});\n",
       "</script>"
      ],
      "text/plain": [
       "alt.FacetChart(...)"
      ]
     },
     "metadata": {},
     "output_type": "display_data"
    }
   ],
   "source": [
    "# Allow for possibility that operator doesn't have routes that fall into certain route_groups\n",
    "# But, jupyterbook will not like markdown with f-string\n",
    "# separate out route_group and put in each cell, and use try/except + if to display...\n",
    "# but all 3 route groups must be displayed. just add sentence about why no routes were returned at the end\n",
    "route_group = \"short\"\n",
    "try:\n",
    "    display_charts_for_route_group(df, route_group)\n",
    "except:\n",
    "    print(\"No routes meet this criteria.\")"
   ]
  },
  {
   "cell_type": "markdown",
   "id": "c2931b6f-034d-4384-9e14-80b925e3b820",
   "metadata": {
    "papermill": {
     "duration": 0.018387,
     "end_time": "2022-05-09T19:41:59.077384",
     "exception": false,
     "start_time": "2022-05-09T19:41:59.058997",
     "status": "completed"
    },
    "tags": []
   },
   "source": [
    "### Medium Routes (1-1.5 hrs)"
   ]
  },
  {
   "cell_type": "code",
   "execution_count": 14,
   "id": "480edddc-4de0-48c2-ae4c-b0ceef8f28b5",
   "metadata": {
    "execution": {
     "iopub.execute_input": "2022-05-09T19:41:59.122050Z",
     "iopub.status.busy": "2022-05-09T19:41:59.121044Z",
     "iopub.status.idle": "2022-05-09T19:41:59.136452Z",
     "shell.execute_reply": "2022-05-09T19:41:59.135313Z"
    },
    "jupyter": {
     "source_hidden": true
    },
    "papermill": {
     "duration": 0.043984,
     "end_time": "2022-05-09T19:41:59.139626",
     "exception": false,
     "start_time": "2022-05-09T19:41:59.095642",
     "status": "completed"
    },
    "tags": [
     "remove_input"
    ]
   },
   "outputs": [
    {
     "name": "stdout",
     "output_type": "stream",
     "text": [
      "No routes meet this criteria.\n"
     ]
    }
   ],
   "source": [
    "route_group = \"medium\"\n",
    "try:\n",
    "    display_charts_for_route_group(df, route_group)\n",
    "except:\n",
    "    print(\"No routes meet this criteria.\")"
   ]
  },
  {
   "cell_type": "markdown",
   "id": "124b76d0-886c-4d03-92ac-f1bda3cda182",
   "metadata": {
    "papermill": {
     "duration": 0.020324,
     "end_time": "2022-05-09T19:41:59.177101",
     "exception": false,
     "start_time": "2022-05-09T19:41:59.156777",
     "status": "completed"
    },
    "tags": []
   },
   "source": [
    "### Long Routes (> 1.5 hrs)"
   ]
  },
  {
   "cell_type": "code",
   "execution_count": 15,
   "id": "ddc81b19-4c45-4c81-8b7a-5e0f394aa7a3",
   "metadata": {
    "execution": {
     "iopub.execute_input": "2022-05-09T19:41:59.223883Z",
     "iopub.status.busy": "2022-05-09T19:41:59.223380Z",
     "iopub.status.idle": "2022-05-09T19:41:59.242544Z",
     "shell.execute_reply": "2022-05-09T19:41:59.241313Z"
    },
    "jupyter": {
     "source_hidden": true
    },
    "papermill": {
     "duration": 0.050314,
     "end_time": "2022-05-09T19:41:59.246510",
     "exception": false,
     "start_time": "2022-05-09T19:41:59.196196",
     "status": "completed"
    },
    "tags": [
     "remove_input"
    ]
   },
   "outputs": [
    {
     "name": "stdout",
     "output_type": "stream",
     "text": [
      "No routes meet this criteria.\n"
     ]
    }
   ],
   "source": [
    "route_group = \"long\"\n",
    "try:\n",
    "    display_charts_for_route_group(df, route_group)\n",
    "except:\n",
    "    print(\"No routes meet this criteria.\")"
   ]
  },
  {
   "cell_type": "markdown",
   "id": "ace75b5f-0442-4fbe-aebd-6c3a13ae13a7",
   "metadata": {
    "papermill": {
     "duration": 0.019479,
     "end_time": "2022-05-09T19:41:59.285113",
     "exception": false,
     "start_time": "2022-05-09T19:41:59.265634",
     "status": "completed"
    },
    "tags": []
   },
   "source": [
    "### GTFS Real-Time Speedmaps"
   ]
  },
  {
   "cell_type": "code",
   "execution_count": 16,
   "id": "a0a114a1-e975-4027-9daf-50029f5ef59f",
   "metadata": {
    "execution": {
     "iopub.execute_input": "2022-05-09T19:41:59.331237Z",
     "iopub.status.busy": "2022-05-09T19:41:59.329629Z",
     "iopub.status.idle": "2022-05-09T19:41:59.384788Z",
     "shell.execute_reply": "2022-05-09T19:41:59.383047Z"
    },
    "jupyter": {
     "source_hidden": true
    },
    "papermill": {
     "duration": 0.07743,
     "end_time": "2022-05-09T19:41:59.387464",
     "exception": false,
     "start_time": "2022-05-09T19:41:59.310034",
     "status": "completed"
    },
    "tags": [
     "remove_input"
    ]
   },
   "outputs": [
    {
     "data": {
      "text/html": [
       "No GTFS RT data available."
      ],
      "text/plain": [
       "<IPython.core.display.HTML object>"
      ]
     },
     "metadata": {},
     "output_type": "display_data"
    }
   ],
   "source": [
    "PORTFOLIO_SITE_YAML = \"../portfolio/analyses.yml\"\n",
    "\n",
    "# Grab list of ITP IDs with GTFS RT speedmaps\n",
    "rt_itp_id = deploy_portfolio_yaml.check_if_rt_data_available(PORTFOLIO_SITE_YAML)\n",
    "\n",
    "# Construct the URL \n",
    "RT_URL = (\"https://analysis.calitp.org/rt/\"\n",
    "          f\"district_{district_number}-{district_name}/\"\n",
    "          f\"speedmaps__itp_id_{itp_id}.html\"\n",
    "         ) \n",
    "\n",
    "if itp_id in rt_itp_id:\n",
    "    display(HTML(f'''<a href={RT_URL}>GTFS RT speedmaps here.</a>'''))\n",
    "\n",
    "else:\n",
    "    display(HTML(\"No GTFS RT data available.\"))"
   ]
  },
  {
   "cell_type": "code",
   "execution_count": null,
   "id": "5b680565-2230-4f2e-817c-718fad48d64c",
   "metadata": {
    "jupyter": {
     "source_hidden": true
    },
    "papermill": {
     "duration": 0.017362,
     "end_time": "2022-05-09T19:41:59.426695",
     "exception": false,
     "start_time": "2022-05-09T19:41:59.409333",
     "status": "completed"
    },
    "tags": [
     "remove_input"
    ]
   },
   "outputs": [],
   "source": []
  }
 ],
 "metadata": {
  "kernelspec": {
   "display_name": "Python 3 (ipykernel)",
   "language": "python",
   "name": "python3"
  },
  "language_info": {
   "codemirror_mode": {
    "name": "ipython",
    "version": 3
   },
   "file_extension": ".py",
   "mimetype": "text/x-python",
   "name": "python",
   "nbconvert_exporter": "python",
   "pygments_lexer": "ipython3",
   "version": "3.9.12"
  },
  "papermill": {
   "default_parameters": {},
   "duration": 28.764374,
   "end_time": "2022-05-09T19:42:00.879943",
   "environment_variables": {},
   "exception": null,
   "input_path": "bus_service_increase/competitive-parallel-routes.ipynb",
   "output_path": "portfolio/parallel_corridors/district_04-oakland/competitive-parallel-routes__itp_id_201.ipynb",
   "parameters": {
    "district": "04 - Oakland",
    "itp_id": 201
   },
   "start_time": "2022-05-09T19:41:32.115569",
   "version": "2.3.4"
  }
 },
 "nbformat": 4,
 "nbformat_minor": 5
}