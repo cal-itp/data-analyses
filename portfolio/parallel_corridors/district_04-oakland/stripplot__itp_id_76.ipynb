{
 "cells": [
  {
   "cell_type": "code",
   "execution_count": 1,
   "id": "95d00857-6a20-4529-a519-2cc7182928a9",
   "metadata": {
    "execution": {
     "iopub.execute_input": "2022-05-07T16:59:42.722569Z",
     "iopub.status.busy": "2022-05-07T16:59:42.722189Z",
     "iopub.status.idle": "2022-05-07T16:59:50.641605Z",
     "shell.execute_reply": "2022-05-07T16:59:50.640849Z"
    },
    "jupyter": {
     "source_hidden": true
    },
    "papermill": {
     "duration": 7.934303,
     "end_time": "2022-05-07T16:59:50.644103",
     "exception": false,
     "start_time": "2022-05-07T16:59:42.709800",
     "status": "completed"
    },
    "tags": [
     "remove_input"
    ]
   },
   "outputs": [],
   "source": [
    "%%capture\n",
    "import warnings\n",
    "warnings.filterwarnings('ignore')\n",
    "\n",
    "import altair as alt\n",
    "import calitp.magics\n",
    "import geopandas as gpd\n",
    "import intake\n",
    "import pandas as pd\n",
    "\n",
    "from IPython.display import display, Markdown, HTML\n",
    "\n",
    "import parallel_corridors_utils\n",
    "from shared_utils import styleguide\n",
    "\n",
    "catalog = intake.open_catalog(\"./*.yml\")\n",
    "alt.renderers.enable(\"html\")"
   ]
  },
  {
   "cell_type": "code",
   "execution_count": 2,
   "id": "8af2a0c1-f3da-408d-9bea-11d9fbf8695d",
   "metadata": {
    "execution": {
     "iopub.execute_input": "2022-05-07T16:59:50.665602Z",
     "iopub.status.busy": "2022-05-07T16:59:50.665324Z",
     "iopub.status.idle": "2022-05-07T16:59:50.668878Z",
     "shell.execute_reply": "2022-05-07T16:59:50.668117Z"
    },
    "jupyter": {
     "source_hidden": true
    },
    "papermill": {
     "duration": 0.016432,
     "end_time": "2022-05-07T16:59:50.670589",
     "exception": false,
     "start_time": "2022-05-07T16:59:50.654157",
     "status": "completed"
    },
    "tags": [
     "parameters",
     "remove_input"
    ]
   },
   "outputs": [],
   "source": [
    "# parameters cell\n",
    "itp_id = 182"
   ]
  },
  {
   "cell_type": "code",
   "execution_count": 3,
   "id": "8ad35b64",
   "metadata": {
    "execution": {
     "iopub.execute_input": "2022-05-07T16:59:50.691941Z",
     "iopub.status.busy": "2022-05-07T16:59:50.691220Z",
     "iopub.status.idle": "2022-05-07T16:59:50.695298Z",
     "shell.execute_reply": "2022-05-07T16:59:50.694467Z"
    },
    "jupyter": {
     "source_hidden": true
    },
    "papermill": {
     "duration": 0.016783,
     "end_time": "2022-05-07T16:59:50.696947",
     "exception": false,
     "start_time": "2022-05-07T16:59:50.680164",
     "status": "completed"
    },
    "tags": [
     "injected-parameters",
     "remove_input"
    ]
   },
   "outputs": [],
   "source": [
    "# Parameters\n",
    "district = \"04 - Oakland\"\n",
    "itp_id = 76\n"
   ]
  },
  {
   "cell_type": "code",
   "execution_count": 4,
   "id": "9582aaf4-79ff-412a-b248-8d8d693ebd4f",
   "metadata": {
    "execution": {
     "iopub.execute_input": "2022-05-07T16:59:50.724578Z",
     "iopub.status.busy": "2022-05-07T16:59:50.723901Z",
     "iopub.status.idle": "2022-05-07T16:59:51.933892Z",
     "shell.execute_reply": "2022-05-07T16:59:51.933001Z"
    },
    "jupyter": {
     "source_hidden": true
    },
    "papermill": {
     "duration": 1.223363,
     "end_time": "2022-05-07T16:59:51.936069",
     "exception": false,
     "start_time": "2022-05-07T16:59:50.712706",
     "status": "completed"
    },
    "tags": [
     "remove_input"
    ]
   },
   "outputs": [],
   "source": [
    "df = catalog.competitive_route_variability.read()\n",
    "\n",
    "df = (df[(df.calitp_itp_id == itp_id) & \n",
    "         (df.route_group.notna())]\n",
    "      .reset_index(drop=True)\n",
    "     )\n",
    "\n",
    "\n",
    "if itp_id == 182:\n",
    "    df = df.assign(\n",
    "        route_id = df.route_id.str.replace('-13153', '').astype(int)\n",
    "    )"
   ]
  },
  {
   "cell_type": "code",
   "execution_count": 5,
   "id": "33ac4b06-f647-4dce-a625-8f2c1b37cc60",
   "metadata": {
    "execution": {
     "iopub.execute_input": "2022-05-07T16:59:51.958923Z",
     "iopub.status.busy": "2022-05-07T16:59:51.958049Z",
     "iopub.status.idle": "2022-05-07T16:59:51.964436Z",
     "shell.execute_reply": "2022-05-07T16:59:51.963867Z"
    },
    "jupyter": {
     "source_hidden": true
    },
    "papermill": {
     "duration": 0.018918,
     "end_time": "2022-05-07T16:59:51.966075",
     "exception": false,
     "start_time": "2022-05-07T16:59:51.947157",
     "status": "completed"
    },
    "tags": [
     "remove_input"
    ]
   },
   "outputs": [],
   "source": [
    "%%capture_parameters\n",
    "operator_name = df.name.iloc[0]\n",
    "\n",
    "itp_id, operator_name"
   ]
  },
  {
   "cell_type": "markdown",
   "id": "65bc6f5c-8348-42ee-b2dd-52057c406852",
   "metadata": {
    "papermill": {
     "duration": 0.010527,
     "end_time": "2022-05-07T16:59:51.986370",
     "exception": false,
     "start_time": "2022-05-07T16:59:51.975843",
     "status": "completed"
    },
    "tags": []
   },
   "source": [
    "# Commute.org (ITP ID: 76)"
   ]
  },
  {
   "cell_type": "code",
   "execution_count": 6,
   "id": "a689c1ab-2c6c-4831-8d64-897f5986f571",
   "metadata": {
    "execution": {
     "iopub.execute_input": "2022-05-07T16:59:52.011268Z",
     "iopub.status.busy": "2022-05-07T16:59:52.010377Z",
     "iopub.status.idle": "2022-05-07T16:59:52.016495Z",
     "shell.execute_reply": "2022-05-07T16:59:52.015952Z"
    },
    "jupyter": {
     "source_hidden": true
    },
    "papermill": {
     "duration": 0.021951,
     "end_time": "2022-05-07T16:59:52.018084",
     "exception": false,
     "start_time": "2022-05-07T16:59:51.996133",
     "status": "completed"
    },
    "tags": [
     "remove_input"
    ]
   },
   "outputs": [
    {
     "data": {
      "text/html": [
       "<h1>Competitive & Parallel Routes</h1>"
      ],
      "text/plain": [
       "<IPython.core.display.HTML object>"
      ]
     },
     "metadata": {},
     "output_type": "display_data"
    }
   ],
   "source": [
    "display(HTML(\"<h1>Competitive & Parallel Routes</h1>\")) "
   ]
  },
  {
   "cell_type": "code",
   "execution_count": 7,
   "id": "2cb4d8d5-4760-40e4-85b1-cb833d8bb648",
   "metadata": {
    "execution": {
     "iopub.execute_input": "2022-05-07T16:59:52.041575Z",
     "iopub.status.busy": "2022-05-07T16:59:52.040712Z",
     "iopub.status.idle": "2022-05-07T17:00:01.850354Z",
     "shell.execute_reply": "2022-05-07T17:00:01.849546Z"
    },
    "jupyter": {
     "source_hidden": true
    },
    "papermill": {
     "duration": 9.823943,
     "end_time": "2022-05-07T17:00:01.852819",
     "exception": false,
     "start_time": "2022-05-07T16:59:52.028876",
     "status": "completed"
    },
    "tags": [
     "remove_input"
    ]
   },
   "outputs": [],
   "source": [
    "# Grab parameters for narrative text - clean up formatting here \n",
    "district = df.caltrans_district.iloc[0]\n",
    "formatted_date = pd.to_datetime(parallel_corridors_utils.SELECTED_DATE).strftime('%m-%d-%Y')\n",
    "\n",
    "PCT_COMPETITIVE_THRESHOLD = 0.75\n",
    "\n",
    "stats = parallel_corridors_utils.operator_parallel_competitive_stats(\n",
    "    itp_id, PCT_COMPETITIVE_THRESHOLD)\n",
    "\n",
    "pct_parallel = round(stats['parallel_routes'] / stats['num_routes'] * 100,1 )\n",
    "pct_competitive =  round(stats['competitive_routes'] / stats['num_routes'] * 100,1 )"
   ]
  },
  {
   "cell_type": "markdown",
   "id": "ab667928-5274-4490-82d9-4c39293209a4",
   "metadata": {
    "papermill": {
     "duration": 0.010537,
     "end_time": "2022-05-07T17:00:01.874938",
     "exception": false,
     "start_time": "2022-05-07T17:00:01.864401",
     "status": "completed"
    },
    "tags": []
   },
   "source": [
    "## Quick Stats"
   ]
  },
  {
   "cell_type": "code",
   "execution_count": 8,
   "id": "0416509d-dc62-4165-b62e-64f8b26e8b8e",
   "metadata": {
    "execution": {
     "iopub.execute_input": "2022-05-07T17:00:01.897796Z",
     "iopub.status.busy": "2022-05-07T17:00:01.897497Z",
     "iopub.status.idle": "2022-05-07T17:00:01.908911Z",
     "shell.execute_reply": "2022-05-07T17:00:01.902598Z"
    },
    "jupyter": {
     "source_hidden": true
    },
    "papermill": {
     "duration": 0.025537,
     "end_time": "2022-05-07T17:00:01.910966",
     "exception": false,
     "start_time": "2022-05-07T17:00:01.885429",
     "status": "completed"
    },
    "tags": [
     "remove_input"
    ]
   },
   "outputs": [
    {
     "data": {
      "text/markdown": [
       "**Bus routes in service**: 19 <br>**Parallel routes** to State Highway Network (SHN): 19 routes (100.0%)<br>**Competitive routes** against car travel: 3 routes (15.8%)"
      ],
      "text/plain": [
       "<IPython.core.display.Markdown object>"
      ]
     },
     "metadata": {},
     "output_type": "display_data"
    }
   ],
   "source": [
    "display(\n",
    "    Markdown(\n",
    "        f\"**Bus routes in service**: {stats['num_routes']} \"\n",
    "        \"<br>**Parallel routes** to State Highway Network (SHN): \"\n",
    "        f\"{stats['parallel_routes']} routes ({pct_parallel}%)\"\n",
    "        f\"<br>**Competitive routes** against car travel: {stats['competitive_routes']} routes ({pct_competitive}%)\"\n",
    "    )\n",
    ")"
   ]
  },
  {
   "cell_type": "code",
   "execution_count": 9,
   "id": "f9d6ab58-f0ee-460c-b6de-657490e1f386",
   "metadata": {
    "execution": {
     "iopub.execute_input": "2022-05-07T17:00:01.936175Z",
     "iopub.status.busy": "2022-05-07T17:00:01.935898Z",
     "iopub.status.idle": "2022-05-07T17:00:01.944509Z",
     "shell.execute_reply": "2022-05-07T17:00:01.943720Z"
    },
    "jupyter": {
     "source_hidden": true
    },
    "papermill": {
     "duration": 0.023302,
     "end_time": "2022-05-07T17:00:01.946271",
     "exception": false,
     "start_time": "2022-05-07T17:00:01.922969",
     "status": "completed"
    },
    "tags": [
     "remove_input"
    ]
   },
   "outputs": [],
   "source": [
    "def set_yaxis_range(df, y_col):\n",
    "    Y_MIN = df[y_col].min()\n",
    "    Y_MAX = df[y_col].max()\n",
    "    \n",
    "    return Y_MIN, Y_MAX\n",
    "\n",
    "# Rather than set it according to the operator, which can vary,\n",
    "# just use set thresholds for each group\n",
    "diff_cutoffs = {\n",
    "    \"short\": 20,\n",
    "    \"medium\": 30,\n",
    "    \"long\": 40,\n",
    "}\n",
    "\n",
    "PCT_TRIPS_BELOW_CUTOFF = 0.25\n",
    "\n",
    "def top15_routes(df, route_group):\n",
    "    df2 = (df[df.route_group==route_group])\n",
    "    # Set a cut-off to enable sorting, where most of the trips are \n",
    "    # below a certain time difference cut-off, \n",
    "    # grab top 15 routes where majority of trips are below that cut-off \n",
    "\n",
    "    route_cols = [\"calitp_itp_id\", \"route_id\"]\n",
    "\n",
    "    df2 = df2.assign(\n",
    "        below_cutoff = df2.apply(lambda x: 1 if x.bus_difference <= diff_cutoffs[route_group] \n",
    "                                 else 0, axis=1),\n",
    "        num_trips = df2.groupby(route_cols)[\"trip_id\"].transform(\"count\")\n",
    "    )\n",
    "\n",
    "    df2[\"below_cutoff\"] = df2.groupby(route_cols)[\"below_cutoff\"].transform(\"sum\")\n",
    "    df2[\"pct_below_cutoff\"] = df2.below_cutoff.divide(df2.num_trips)\n",
    "\n",
    "    # At least half the trips are below that cut-off\n",
    "    # but show 15 max, otherwise, show less, since these won't be as interesting to operators\n",
    "    df3 = (df2[df2.pct_below_cutoff >= PCT_TRIPS_BELOW_CUTOFF]\n",
    "           .sort_values([\"calitp_itp_id\", \"below_cutoff\", \n",
    "                         \"pct_below_cutoff\", \"route_id\"],\n",
    "                        ascending = [True, False, False, True]\n",
    "                       )\n",
    "           .drop_duplicates(subset=[\"calitp_itp_id\", \"route_id\"])\n",
    "          ).head(15)\n",
    "    \n",
    "    return list(df3.route_id)"
   ]
  },
  {
   "cell_type": "code",
   "execution_count": 10,
   "id": "cf36d559-3349-4144-8086-8ac9ce937a5a",
   "metadata": {
    "execution": {
     "iopub.execute_input": "2022-05-07T17:00:01.970302Z",
     "iopub.status.busy": "2022-05-07T17:00:01.969823Z",
     "iopub.status.idle": "2022-05-07T17:00:01.975437Z",
     "shell.execute_reply": "2022-05-07T17:00:01.974869Z"
    },
    "jupyter": {
     "source_hidden": true
    },
    "papermill": {
     "duration": 0.01995,
     "end_time": "2022-05-07T17:00:01.977290",
     "exception": false,
     "start_time": "2022-05-07T17:00:01.957340",
     "status": "completed"
    },
    "tags": [
     "remove_input"
    ]
   },
   "outputs": [],
   "source": [
    "short_caption = (\n",
    "    f\"<br>These are routes that have at least {int(PCT_TRIPS_BELOW_CUTOFF*100)}% of their trips \"\n",
    "    f\"take no more than an additional {diff_cutoffs['short']} min compared to a car \"\n",
    "    \"(up to 15 routes) are shown.\"\n",
    ")\n",
    "\n",
    "med_caption = (\n",
    "    f\"<br>These are routes that have at least {int(PCT_TRIPS_BELOW_CUTOFF*100)}% of their trips \"\n",
    "    f\"take no more than an additional {diff_cutoffs['medium']} min compared to a car \"\n",
    "    \"(up to 15 routes) are shown.\"\n",
    ")\n",
    "\n",
    "long_caption = (\n",
    "    f\"<br>These are routes that have at least {int(PCT_TRIPS_BELOW_CUTOFF*100)}% of their trips \"\n",
    "    f\"take no more than an additional {diff_cutoffs['long']} min compared to a car \"\n",
    "    \"(up to 15 routes) are shown.\")\n",
    "\n",
    "\n",
    "CAPTIONS_DICT = {\n",
    "    \"short\": short_caption,\n",
    "    \"medium\": med_caption,\n",
    "    \"long\": long_caption,\n",
    "}"
   ]
  },
  {
   "cell_type": "code",
   "execution_count": 11,
   "id": "e4306d58-6944-47e9-afef-5d5b524c751f",
   "metadata": {
    "execution": {
     "iopub.execute_input": "2022-05-07T17:00:02.009649Z",
     "iopub.status.busy": "2022-05-07T17:00:02.009323Z",
     "iopub.status.idle": "2022-05-07T17:00:02.015398Z",
     "shell.execute_reply": "2022-05-07T17:00:02.014634Z"
    },
    "jupyter": {
     "source_hidden": true
    },
    "papermill": {
     "duration": 0.028991,
     "end_time": "2022-05-07T17:00:02.018233",
     "exception": false,
     "start_time": "2022-05-07T17:00:01.989242",
     "status": "completed"
    },
    "tags": [
     "remove_input"
    ]
   },
   "outputs": [],
   "source": [
    "def setup_charts(df, PCT_COMPETITIVE_THRESHOLD, route_group):\n",
    "    # Set up df for charting (cut-off at some threshold to show most competitive routes)\n",
    "    plot_me = (df[df.pct_trips_competitive > PCT_COMPETITIVE_THRESHOLD]\n",
    "           .drop(columns = \"geometry\")\n",
    "    )\n",
    "    \n",
    "    y_col1 = \"bus_multiplier\"\n",
    "    Y_MIN1, Y_MAX1 = set_yaxis_range(plot_me, y_col1)\n",
    "\n",
    "    y_col2 = \"bus_difference\"\n",
    "    Y_MIN2, Y_MAX2 = set_yaxis_range(plot_me, y_col2)\n",
    "     \n",
    "    subset_routes = top15_routes(plot_me, route_group)\n",
    "    \n",
    "    multiplier_chart = parallel_corridors_utils.make_stripplot(\n",
    "        plot_me[plot_me.route_id.isin(subset_routes)], \n",
    "        y_col1, Y_MIN = Y_MIN1, Y_MAX = Y_MAX1\n",
    "    )\n",
    "    \n",
    "    difference_chart = parallel_corridors_utils.make_stripplot(\n",
    "        plot_me[plot_me.route_id.isin(subset_routes)], \n",
    "        y_col2, Y_MIN = Y_MIN2, Y_MAX = Y_MAX2\n",
    "    )\n",
    "    \n",
    "    return subset_routes, multiplier_chart, difference_chart            "
   ]
  },
  {
   "cell_type": "markdown",
   "id": "525f9b38-072b-46d1-96a8-1aa4b038357c",
   "metadata": {
    "papermill": {
     "duration": 0.011284,
     "end_time": "2022-05-07T17:00:02.041233",
     "exception": false,
     "start_time": "2022-05-07T17:00:02.029949",
     "status": "completed"
    },
    "tags": []
   },
   "source": [
    "## Viable Competitive Routes\n",
    "### Short Routes (< 1 hr)"
   ]
  },
  {
   "cell_type": "code",
   "execution_count": 12,
   "id": "57f7084c-2cf7-45c6-ba08-1609e0bd6ca5",
   "metadata": {
    "execution": {
     "iopub.execute_input": "2022-05-07T17:00:02.086180Z",
     "iopub.status.busy": "2022-05-07T17:00:02.085903Z",
     "iopub.status.idle": "2022-05-07T17:00:02.453185Z",
     "shell.execute_reply": "2022-05-07T17:00:02.452418Z"
    },
    "jupyter": {
     "source_hidden": true
    },
    "papermill": {
     "duration": 0.398578,
     "end_time": "2022-05-07T17:00:02.455216",
     "exception": false,
     "start_time": "2022-05-07T17:00:02.056638",
     "status": "completed"
    },
    "tags": [
     "remove_input"
    ]
   },
   "outputs": [
    {
     "data": {
      "text/markdown": [
       "<br>These are routes that have at least 25% of their trips take no more than an additional 20 min compared to a car (up to 15 routes) are shown.Within each route group, routes are sorted in descending order by % competitive trips and # trips below the additional time cut-off."
      ],
      "text/plain": [
       "<IPython.core.display.Markdown object>"
      ]
     },
     "metadata": {},
     "output_type": "display_data"
    },
    {
     "data": {
      "text/html": [
       "\n",
       "<div id=\"altair-viz-47ef9d4de85a4ef1b8befb8693c231a8\"></div>\n",
       "<script type=\"text/javascript\">\n",
       "  var VEGA_DEBUG = (typeof VEGA_DEBUG == \"undefined\") ? {} : VEGA_DEBUG;\n",
       "  (function(spec, embedOpt){\n",
       "    let outputDiv = document.currentScript.previousElementSibling;\n",
       "    if (outputDiv.id !== \"altair-viz-47ef9d4de85a4ef1b8befb8693c231a8\") {\n",
       "      outputDiv = document.getElementById(\"altair-viz-47ef9d4de85a4ef1b8befb8693c231a8\");\n",
       "    }\n",
       "    const paths = {\n",
       "      \"vega\": \"https://cdn.jsdelivr.net/npm//vega@5?noext\",\n",
       "      \"vega-lib\": \"https://cdn.jsdelivr.net/npm//vega-lib?noext\",\n",
       "      \"vega-lite\": \"https://cdn.jsdelivr.net/npm//vega-lite@4.17.0?noext\",\n",
       "      \"vega-embed\": \"https://cdn.jsdelivr.net/npm//vega-embed@6?noext\",\n",
       "    };\n",
       "\n",
       "    function maybeLoadScript(lib, version) {\n",
       "      var key = `${lib.replace(\"-\", \"\")}_version`;\n",
       "      return (VEGA_DEBUG[key] == version) ?\n",
       "        Promise.resolve(paths[lib]) :\n",
       "        new Promise(function(resolve, reject) {\n",
       "          var s = document.createElement('script');\n",
       "          document.getElementsByTagName(\"head\")[0].appendChild(s);\n",
       "          s.async = true;\n",
       "          s.onload = () => {\n",
       "            VEGA_DEBUG[key] = version;\n",
       "            return resolve(paths[lib]);\n",
       "          };\n",
       "          s.onerror = () => reject(`Error loading script: ${paths[lib]}`);\n",
       "          s.src = paths[lib];\n",
       "        });\n",
       "    }\n",
       "\n",
       "    function showError(err) {\n",
       "      outputDiv.innerHTML = `<div class=\"error\" style=\"color:red;\">${err}</div>`;\n",
       "      throw err;\n",
       "    }\n",
       "\n",
       "    function displayChart(vegaEmbed) {\n",
       "      vegaEmbed(outputDiv, spec, embedOpt)\n",
       "        .catch(err => showError(`Javascript Error: ${err.message}<br>This usually means there's a typo in your chart specification. See the javascript console for the full traceback.`));\n",
       "    }\n",
       "\n",
       "    if(typeof define === \"function\" && define.amd) {\n",
       "      requirejs.config({paths});\n",
       "      require([\"vega-embed\"], displayChart, err => showError(`Error loading script: ${err.message}`));\n",
       "    } else {\n",
       "      maybeLoadScript(\"vega\", \"5\")\n",
       "        .then(() => maybeLoadScript(\"vega-lite\", \"4.17.0\"))\n",
       "        .then(() => maybeLoadScript(\"vega-embed\", \"6\"))\n",
       "        .catch(showError)\n",
       "        .then(() => displayChart(vegaEmbed));\n",
       "    }\n",
       "  })({\"config\": {\"view\": {\"continuousWidth\": 400, \"continuousHeight\": 300, \"stroke\": null}, \"facet\": {\"spacing\": 0}}, \"data\": {\"name\": \"data-f4d39ca97ddf953a2030d5ea3ba6bbbf\"}, \"facet\": {\"column\": {\"field\": \"route_id\", \"sort\": [\"12154\", \"12157\", \"12150\"], \"title\": \"Route ID\", \"type\": \"nominal\"}}, \"spec\": {\"layer\": [{\"mark\": {\"type\": \"point\", \"opacity\": 0.65, \"size\": 12, \"strokeWidth\": 1.1}, \"encoding\": {\"color\": {\"field\": \"time_of_day\", \"scale\": {\"range\": [\"#136C97\", \"#E16B26\", \"#F6BF16\", \"#00896B\", \"#7790A3\", \"#5B559C\"]}, \"sort\": [\"AM Peak\", \"Midday\", \"PM Peak\", \"Owl Service\"], \"title\": \"Time of Day\", \"type\": \"nominal\"}, \"tooltip\": [{\"field\": \"route_id\", \"type\": \"nominal\"}, {\"field\": \"trip_id\", \"type\": \"nominal\"}, {\"field\": \"service_hours\", \"type\": \"quantitative\"}, {\"field\": \"car_duration_hours\", \"type\": \"quantitative\"}, {\"field\": \"bus_multiplier\", \"type\": \"quantitative\"}, {\"field\": \"bus_difference\", \"type\": \"quantitative\"}, {\"field\": \"num_trips\", \"type\": \"quantitative\"}, {\"field\": \"num_competitive\", \"type\": \"quantitative\"}, {\"field\": \"pct_trips_competitive\", \"type\": \"quantitative\"}, {\"field\": \"p25\", \"type\": \"quantitative\"}, {\"field\": \"p50\", \"type\": \"quantitative\"}, {\"field\": \"p75\", \"type\": \"quantitative\"}], \"x\": {\"axis\": {\"grid\": false, \"labels\": false, \"ticks\": true, \"values\": [0]}, \"field\": \"jitter\", \"scale\": {}, \"title\": null, \"type\": \"quantitative\"}, \"y\": {\"field\": \"bus_multiplier\", \"scale\": {\"domain\": [-0.25, 2.5]}, \"title\": \"Ratio of Bus to Car Travel Time\", \"type\": \"quantitative\"}}, \"selection\": {\"selector001\": {\"type\": \"interval\", \"bind\": \"scales\", \"encodings\": [\"x\", \"y\"]}}, \"transform\": [{\"calculate\": \"sqrt(-2*log(random()))*cos(2*PI*random())\", \"as\": \"jitter\"}], \"width\": 60}, {\"layer\": [{\"mark\": {\"type\": \"point\", \"opacity\": 0.6, \"size\": 20, \"strokeWidth\": 1.3}, \"encoding\": {\"color\": {\"value\": \"#323434\"}, \"y\": {\"field\": \"bus_multiplier\", \"type\": \"quantitative\"}}, \"transform\": [{\"filter\": \"(datum.p50_trip === 1)\"}]}, {\"mark\": {\"type\": \"rule\", \"strokeDash\": [2, 3]}, \"encoding\": {\"color\": {\"value\": \"#323434\"}, \"y\": {\"field\": \"cutoff\", \"type\": \"quantitative\"}}}, {\"mark\": {\"type\": \"text\", \"align\": \"center\", \"baseline\": \"middle\"}, \"encoding\": {\"color\": {\"value\": \"black\"}, \"text\": {\"field\": \"pct_trips_competitive\", \"format\": \".0%\", \"type\": \"quantitative\"}, \"tooltip\": [{\"field\": \"route_id\", \"type\": \"nominal\"}, {\"field\": \"trip_id\", \"type\": \"nominal\"}, {\"field\": \"service_hours\", \"type\": \"quantitative\"}, {\"field\": \"car_duration_hours\", \"type\": \"quantitative\"}, {\"field\": \"bus_multiplier\", \"type\": \"quantitative\"}, {\"field\": \"bus_difference\", \"type\": \"quantitative\"}, {\"field\": \"num_trips\", \"type\": \"quantitative\"}, {\"field\": \"num_competitive\", \"type\": \"quantitative\"}, {\"field\": \"pct_trips_competitive\", \"type\": \"quantitative\"}, {\"field\": \"p25\", \"type\": \"quantitative\"}, {\"field\": \"p50\", \"type\": \"quantitative\"}, {\"field\": \"p75\", \"type\": \"quantitative\"}], \"x\": {\"value\": 30}, \"y\": {\"value\": 15}}, \"transform\": [{\"calculate\": \"sqrt(-2*log(random()))*cos(2*PI*random())\", \"as\": \"jitter\"}, {\"filter\": \"(datum.fastest_trip === 1)\"}]}]}]}, \"resolve\": {\"scale\": {\"y\": \"shared\"}}, \"title\": \"Ratio of Bus to Car Travel Time\", \"$schema\": \"https://vega.github.io/schema/vega-lite/v4.17.0.json\", \"datasets\": {\"data-f4d39ca97ddf953a2030d5ea3ba6bbbf\": [{\"calitp_itp_id\": 76, \"trip_key\": -6694541282123787873, \"trip_id\": \"t_1217029_b_26812_tn_0\", \"shape_id\": \"p_498657\", \"route_id\": \"12150\", \"service_hours\": 0.33, \"trip_first_departure_ts\": 57000, \"trip_last_arrival_ts\": 58200, \"departure_hour\": 15, \"time_of_day\": \"Midday\", \"p25\": 0.5, \"p50\": 0.5, \"p75\": 0.5, \"p50_trip\": 0, \"fastest_trip\": 1, \"car_duration_hours\": 0.27, \"competitive_route\": 1, \"bus_multiplier\": 1.22, \"bus_difference\": 3.6, \"num_trips\": 10, \"num_competitive\": 10, \"pct_trips_competitive\": 1.0, \"bus_difference_spread\": 10.2, \"route_group\": \"short\", \"max_trip_hrs\": 0.5, \"max_trip_route_group\": 1.0, \"name\": \"Commute.org\", \"caltrans_district\": \"04 - Oakland\", \"drmt_organization_name\": null, \"cutoff2\": 15.0, \"cutoff\": 2}, {\"calitp_itp_id\": 76, \"trip_key\": 7130410101163284814, \"trip_id\": \"t_1217030_b_26812_tn_0\", \"shape_id\": \"p_498646\", \"route_id\": \"12150\", \"service_hours\": 0.5, \"trip_first_departure_ts\": 58200, \"trip_last_arrival_ts\": 60000, \"departure_hour\": 16, \"time_of_day\": \"Midday\", \"p25\": 0.5, \"p50\": 0.5, \"p75\": 0.5, \"p50_trip\": 1, \"fastest_trip\": 0, \"car_duration_hours\": 0.27, \"competitive_route\": 1, \"bus_multiplier\": 1.85, \"bus_difference\": 13.8, \"num_trips\": 10, \"num_competitive\": 10, \"pct_trips_competitive\": 1.0, \"bus_difference_spread\": 10.2, \"route_group\": \"short\", \"max_trip_hrs\": 0.5, \"max_trip_route_group\": 1.0, \"name\": \"Commute.org\", \"caltrans_district\": \"04 - Oakland\", \"drmt_organization_name\": null, \"cutoff2\": 15.0, \"cutoff\": 2}, {\"calitp_itp_id\": 76, \"trip_key\": 7580775275634406994, \"trip_id\": \"t_1217034_b_26812_tn_0\", \"shape_id\": \"p_498646\", \"route_id\": \"12150\", \"service_hours\": 0.5, \"trip_first_departure_ts\": 60000, \"trip_last_arrival_ts\": 61800, \"departure_hour\": 16, \"time_of_day\": \"Midday\", \"p25\": 0.5, \"p50\": 0.5, \"p75\": 0.5, \"p50_trip\": 1, \"fastest_trip\": 0, \"car_duration_hours\": 0.27, \"competitive_route\": 1, \"bus_multiplier\": 1.85, \"bus_difference\": 13.8, \"num_trips\": 10, \"num_competitive\": 10, \"pct_trips_competitive\": 1.0, \"bus_difference_spread\": 10.2, \"route_group\": \"short\", \"max_trip_hrs\": 0.5, \"max_trip_route_group\": 1.0, \"name\": \"Commute.org\", \"caltrans_district\": \"04 - Oakland\", \"drmt_organization_name\": null, \"cutoff2\": 15.0, \"cutoff\": 2}, {\"calitp_itp_id\": 76, \"trip_key\": 4867310379164857593, \"trip_id\": \"t_1217035_b_26812_tn_0\", \"shape_id\": \"p_498646\", \"route_id\": \"12150\", \"service_hours\": 0.5, \"trip_first_departure_ts\": 61800, \"trip_last_arrival_ts\": 63600, \"departure_hour\": 17, \"time_of_day\": \"PM Peak\", \"p25\": 0.5, \"p50\": 0.5, \"p75\": 0.5, \"p50_trip\": 1, \"fastest_trip\": 0, \"car_duration_hours\": 0.27, \"competitive_route\": 1, \"bus_multiplier\": 1.85, \"bus_difference\": 13.8, \"num_trips\": 10, \"num_competitive\": 10, \"pct_trips_competitive\": 1.0, \"bus_difference_spread\": 10.2, \"route_group\": \"short\", \"max_trip_hrs\": 0.5, \"max_trip_route_group\": 1.0, \"name\": \"Commute.org\", \"caltrans_district\": \"04 - Oakland\", \"drmt_organization_name\": null, \"cutoff2\": 15.0, \"cutoff\": 2}, {\"calitp_itp_id\": 76, \"trip_key\": -7438174407941609780, \"trip_id\": \"t_1217110_b_26812_tn_0\", \"shape_id\": \"p_498613\", \"route_id\": \"12150\", \"service_hours\": 0.5, \"trip_first_departure_ts\": 32400, \"trip_last_arrival_ts\": 34200, \"departure_hour\": 9, \"time_of_day\": \"AM Peak\", \"p25\": 0.5, \"p50\": 0.5, \"p75\": 0.5, \"p50_trip\": 1, \"fastest_trip\": 0, \"car_duration_hours\": 0.27, \"competitive_route\": 1, \"bus_multiplier\": 1.85, \"bus_difference\": 13.8, \"num_trips\": 10, \"num_competitive\": 10, \"pct_trips_competitive\": 1.0, \"bus_difference_spread\": 10.2, \"route_group\": \"short\", \"max_trip_hrs\": 0.5, \"max_trip_route_group\": 1.0, \"name\": \"Commute.org\", \"caltrans_district\": \"04 - Oakland\", \"drmt_organization_name\": null, \"cutoff2\": 15.0, \"cutoff\": 2}, {\"calitp_itp_id\": 76, \"trip_key\": -2949305192207123801, \"trip_id\": \"t_1217031_b_26812_tn_0\", \"shape_id\": \"p_498613\", \"route_id\": \"12150\", \"service_hours\": 0.5, \"trip_first_departure_ts\": 27000, \"trip_last_arrival_ts\": 28800, \"departure_hour\": 7, \"time_of_day\": \"AM Peak\", \"p25\": 0.5, \"p50\": 0.5, \"p75\": 0.5, \"p50_trip\": 1, \"fastest_trip\": 0, \"car_duration_hours\": 0.27, \"competitive_route\": 1, \"bus_multiplier\": 1.85, \"bus_difference\": 13.8, \"num_trips\": 10, \"num_competitive\": 10, \"pct_trips_competitive\": 1.0, \"bus_difference_spread\": 10.2, \"route_group\": \"short\", \"max_trip_hrs\": 0.5, \"max_trip_route_group\": 1.0, \"name\": \"Commute.org\", \"caltrans_district\": \"04 - Oakland\", \"drmt_organization_name\": null, \"cutoff2\": 15.0, \"cutoff\": 2}, {\"calitp_itp_id\": 76, \"trip_key\": 833134030574356437, \"trip_id\": \"t_1217027_b_26812_tn_0\", \"shape_id\": \"p_498613\", \"route_id\": \"12150\", \"service_hours\": 0.5, \"trip_first_departure_ts\": 25200, \"trip_last_arrival_ts\": 27000, \"departure_hour\": 7, \"time_of_day\": \"AM Peak\", \"p25\": 0.5, \"p50\": 0.5, \"p75\": 0.5, \"p50_trip\": 1, \"fastest_trip\": 0, \"car_duration_hours\": 0.27, \"competitive_route\": 1, \"bus_multiplier\": 1.85, \"bus_difference\": 13.8, \"num_trips\": 10, \"num_competitive\": 10, \"pct_trips_competitive\": 1.0, \"bus_difference_spread\": 10.2, \"route_group\": \"short\", \"max_trip_hrs\": 0.5, \"max_trip_route_group\": 1.0, \"name\": \"Commute.org\", \"caltrans_district\": \"04 - Oakland\", \"drmt_organization_name\": null, \"cutoff2\": 15.0, \"cutoff\": 2}, {\"calitp_itp_id\": 76, \"trip_key\": 3969225667525141346, \"trip_id\": \"t_1217245_b_26812_tn_0\", \"shape_id\": \"p_498613\", \"route_id\": \"12150\", \"service_hours\": 0.5, \"trip_first_departure_ts\": 30600, \"trip_last_arrival_ts\": 32400, \"departure_hour\": 8, \"time_of_day\": \"AM Peak\", \"p25\": 0.5, \"p50\": 0.5, \"p75\": 0.5, \"p50_trip\": 1, \"fastest_trip\": 0, \"car_duration_hours\": 0.27, \"competitive_route\": 1, \"bus_multiplier\": 1.85, \"bus_difference\": 13.8, \"num_trips\": 10, \"num_competitive\": 10, \"pct_trips_competitive\": 1.0, \"bus_difference_spread\": 10.2, \"route_group\": \"short\", \"max_trip_hrs\": 0.5, \"max_trip_route_group\": 1.0, \"name\": \"Commute.org\", \"caltrans_district\": \"04 - Oakland\", \"drmt_organization_name\": null, \"cutoff2\": 15.0, \"cutoff\": 2}, {\"calitp_itp_id\": 76, \"trip_key\": -1165701624279554946, \"trip_id\": \"t_1217246_b_26812_tn_0\", \"shape_id\": \"p_498646\", \"route_id\": \"12150\", \"service_hours\": 0.5, \"trip_first_departure_ts\": 65400, \"trip_last_arrival_ts\": 67200, \"departure_hour\": 18, \"time_of_day\": \"PM Peak\", \"p25\": 0.5, \"p50\": 0.5, \"p75\": 0.5, \"p50_trip\": 1, \"fastest_trip\": 0, \"car_duration_hours\": 0.27, \"competitive_route\": 1, \"bus_multiplier\": 1.85, \"bus_difference\": 13.8, \"num_trips\": 10, \"num_competitive\": 10, \"pct_trips_competitive\": 1.0, \"bus_difference_spread\": 10.2, \"route_group\": \"short\", \"max_trip_hrs\": 0.5, \"max_trip_route_group\": 1.0, \"name\": \"Commute.org\", \"caltrans_district\": \"04 - Oakland\", \"drmt_organization_name\": null, \"cutoff2\": 15.0, \"cutoff\": 2}, {\"calitp_itp_id\": 76, \"trip_key\": -5160369209345849937, \"trip_id\": \"t_1217032_b_26812_tn_0\", \"shape_id\": \"p_498613\", \"route_id\": \"12150\", \"service_hours\": 0.5, \"trip_first_departure_ts\": 28800, \"trip_last_arrival_ts\": 30600, \"departure_hour\": 8, \"time_of_day\": \"AM Peak\", \"p25\": 0.5, \"p50\": 0.5, \"p75\": 0.5, \"p50_trip\": 1, \"fastest_trip\": 0, \"car_duration_hours\": 0.27, \"competitive_route\": 1, \"bus_multiplier\": 1.85, \"bus_difference\": 13.8, \"num_trips\": 10, \"num_competitive\": 10, \"pct_trips_competitive\": 1.0, \"bus_difference_spread\": 10.2, \"route_group\": \"short\", \"max_trip_hrs\": 0.5, \"max_trip_route_group\": 1.0, \"name\": \"Commute.org\", \"caltrans_district\": \"04 - Oakland\", \"drmt_organization_name\": null, \"cutoff2\": 15.0, \"cutoff\": 2}, {\"calitp_itp_id\": 76, \"trip_key\": -1879058847509348152, \"trip_id\": \"t_1217202_b_26812_tn_0\", \"shape_id\": \"p_788189\", \"route_id\": \"12154\", \"service_hours\": 0.37, \"trip_first_departure_ts\": 23700, \"trip_last_arrival_ts\": 25020, \"departure_hour\": 6, \"time_of_day\": \"Owl Service\", \"p25\": 0.37, \"p50\": 0.375, \"p75\": 0.38, \"p50_trip\": 1, \"fastest_trip\": 0, \"car_duration_hours\": 0.23, \"competitive_route\": 1, \"bus_multiplier\": 1.61, \"bus_difference\": 8.4, \"num_trips\": 30, \"num_competitive\": 30, \"pct_trips_competitive\": 1.0, \"bus_difference_spread\": 1.8, \"route_group\": \"short\", \"max_trip_hrs\": 0.4, \"max_trip_route_group\": 1.0, \"name\": \"Commute.org\", \"caltrans_district\": \"04 - Oakland\", \"drmt_organization_name\": null, \"cutoff2\": 15.0, \"cutoff\": 2}, {\"calitp_itp_id\": 76, \"trip_key\": 3555761122150589718, \"trip_id\": \"t_1490396_b_26812_tn_0\", \"shape_id\": \"p_788189\", \"route_id\": \"12154\", \"service_hours\": 0.37, \"trip_first_departure_ts\": 32340, \"trip_last_arrival_ts\": 33660, \"departure_hour\": 8, \"time_of_day\": \"AM Peak\", \"p25\": 0.37, \"p50\": 0.375, \"p75\": 0.38, \"p50_trip\": 1, \"fastest_trip\": 0, \"car_duration_hours\": 0.23, \"competitive_route\": 1, \"bus_multiplier\": 1.61, \"bus_difference\": 8.4, \"num_trips\": 30, \"num_competitive\": 30, \"pct_trips_competitive\": 1.0, \"bus_difference_spread\": 1.8, \"route_group\": \"short\", \"max_trip_hrs\": 0.4, \"max_trip_route_group\": 1.0, \"name\": \"Commute.org\", \"caltrans_district\": \"04 - Oakland\", \"drmt_organization_name\": null, \"cutoff2\": 15.0, \"cutoff\": 2}, {\"calitp_itp_id\": 76, \"trip_key\": 5397318917761666913, \"trip_id\": \"t_1490395_b_26812_tn_0\", \"shape_id\": \"p_788189\", \"route_id\": \"12154\", \"service_hours\": 0.37, \"trip_first_departure_ts\": 31560, \"trip_last_arrival_ts\": 32880, \"departure_hour\": 8, \"time_of_day\": \"AM Peak\", \"p25\": 0.37, \"p50\": 0.375, \"p75\": 0.38, \"p50_trip\": 1, \"fastest_trip\": 0, \"car_duration_hours\": 0.23, \"competitive_route\": 1, \"bus_multiplier\": 1.61, \"bus_difference\": 8.4, \"num_trips\": 30, \"num_competitive\": 30, \"pct_trips_competitive\": 1.0, \"bus_difference_spread\": 1.8, \"route_group\": \"short\", \"max_trip_hrs\": 0.4, \"max_trip_route_group\": 1.0, \"name\": \"Commute.org\", \"caltrans_district\": \"04 - Oakland\", \"drmt_organization_name\": null, \"cutoff2\": 15.0, \"cutoff\": 2}, {\"calitp_itp_id\": 76, \"trip_key\": 4671364061967569865, \"trip_id\": \"t_1490393_b_26812_tn_0\", \"shape_id\": \"p_788189\", \"route_id\": \"12154\", \"service_hours\": 0.37, \"trip_first_departure_ts\": 30120, \"trip_last_arrival_ts\": 31440, \"departure_hour\": 8, \"time_of_day\": \"AM Peak\", \"p25\": 0.37, \"p50\": 0.375, \"p75\": 0.38, \"p50_trip\": 1, \"fastest_trip\": 0, \"car_duration_hours\": 0.23, \"competitive_route\": 1, \"bus_multiplier\": 1.61, \"bus_difference\": 8.4, \"num_trips\": 30, \"num_competitive\": 30, \"pct_trips_competitive\": 1.0, \"bus_difference_spread\": 1.8, \"route_group\": \"short\", \"max_trip_hrs\": 0.4, \"max_trip_route_group\": 1.0, \"name\": \"Commute.org\", \"caltrans_district\": \"04 - Oakland\", \"drmt_organization_name\": null, \"cutoff2\": 15.0, \"cutoff\": 2}, {\"calitp_itp_id\": 76, \"trip_key\": -129223440492556709, \"trip_id\": \"t_1217205_b_26812_tn_0\", \"shape_id\": \"p_788189\", \"route_id\": \"12154\", \"service_hours\": 0.37, \"trip_first_departure_ts\": 25920, \"trip_last_arrival_ts\": 27240, \"departure_hour\": 7, \"time_of_day\": \"AM Peak\", \"p25\": 0.37, \"p50\": 0.375, \"p75\": 0.38, \"p50_trip\": 1, \"fastest_trip\": 0, \"car_duration_hours\": 0.23, \"competitive_route\": 1, \"bus_multiplier\": 1.61, \"bus_difference\": 8.4, \"num_trips\": 30, \"num_competitive\": 30, \"pct_trips_competitive\": 1.0, \"bus_difference_spread\": 1.8, \"route_group\": \"short\", \"max_trip_hrs\": 0.4, \"max_trip_route_group\": 1.0, \"name\": \"Commute.org\", \"caltrans_district\": \"04 - Oakland\", \"drmt_organization_name\": null, \"cutoff2\": 15.0, \"cutoff\": 2}, {\"calitp_itp_id\": 76, \"trip_key\": 3952629592327947872, \"trip_id\": \"t_1490394_b_26812_tn_0\", \"shape_id\": \"p_788189\", \"route_id\": \"12154\", \"service_hours\": 0.37, \"trip_first_departure_ts\": 30900, \"trip_last_arrival_ts\": 32220, \"departure_hour\": 8, \"time_of_day\": \"AM Peak\", \"p25\": 0.37, \"p50\": 0.375, \"p75\": 0.38, \"p50_trip\": 1, \"fastest_trip\": 0, \"car_duration_hours\": 0.23, \"competitive_route\": 1, \"bus_multiplier\": 1.61, \"bus_difference\": 8.4, \"num_trips\": 30, \"num_competitive\": 30, \"pct_trips_competitive\": 1.0, \"bus_difference_spread\": 1.8, \"route_group\": \"short\", \"max_trip_hrs\": 0.4, \"max_trip_route_group\": 1.0, \"name\": \"Commute.org\", \"caltrans_district\": \"04 - Oakland\", \"drmt_organization_name\": null, \"cutoff2\": 15.0, \"cutoff\": 2}, {\"calitp_itp_id\": 76, \"trip_key\": 1799338229586340633, \"trip_id\": \"t_1217247_b_26812_tn_0\", \"shape_id\": \"p_788189\", \"route_id\": \"12154\", \"service_hours\": 0.37, \"trip_first_departure_ts\": 27300, \"trip_last_arrival_ts\": 28620, \"departure_hour\": 7, \"time_of_day\": \"AM Peak\", \"p25\": 0.37, \"p50\": 0.375, \"p75\": 0.38, \"p50_trip\": 1, \"fastest_trip\": 0, \"car_duration_hours\": 0.23, \"competitive_route\": 1, \"bus_multiplier\": 1.61, \"bus_difference\": 8.4, \"num_trips\": 30, \"num_competitive\": 30, \"pct_trips_competitive\": 1.0, \"bus_difference_spread\": 1.8, \"route_group\": \"short\", \"max_trip_hrs\": 0.4, \"max_trip_route_group\": 1.0, \"name\": \"Commute.org\", \"caltrans_district\": \"04 - Oakland\", \"drmt_organization_name\": null, \"cutoff2\": 15.0, \"cutoff\": 2}, {\"calitp_itp_id\": 76, \"trip_key\": 1912475181945157787, \"trip_id\": \"t_1490392_b_26812_tn_0\", \"shape_id\": \"p_788189\", \"route_id\": \"12154\", \"service_hours\": 0.37, \"trip_first_departure_ts\": 29520, \"trip_last_arrival_ts\": 30840, \"departure_hour\": 8, \"time_of_day\": \"AM Peak\", \"p25\": 0.37, \"p50\": 0.375, \"p75\": 0.38, \"p50_trip\": 1, \"fastest_trip\": 0, \"car_duration_hours\": 0.23, \"competitive_route\": 1, \"bus_multiplier\": 1.61, \"bus_difference\": 8.4, \"num_trips\": 30, \"num_competitive\": 30, \"pct_trips_competitive\": 1.0, \"bus_difference_spread\": 1.8, \"route_group\": \"short\", \"max_trip_hrs\": 0.4, \"max_trip_route_group\": 1.0, \"name\": \"Commute.org\", \"caltrans_district\": \"04 - Oakland\", \"drmt_organization_name\": null, \"cutoff2\": 15.0, \"cutoff\": 2}, {\"calitp_itp_id\": 76, \"trip_key\": -2531912485619376852, \"trip_id\": \"t_1490398_b_26812_tn_0\", \"shape_id\": \"p_788189\", \"route_id\": \"12154\", \"service_hours\": 0.37, \"trip_first_departure_ts\": 33720, \"trip_last_arrival_ts\": 35040, \"departure_hour\": 9, \"time_of_day\": \"AM Peak\", \"p25\": 0.37, \"p50\": 0.375, \"p75\": 0.38, \"p50_trip\": 1, \"fastest_trip\": 1, \"car_duration_hours\": 0.23, \"competitive_route\": 1, \"bus_multiplier\": 1.61, \"bus_difference\": 8.4, \"num_trips\": 30, \"num_competitive\": 30, \"pct_trips_competitive\": 1.0, \"bus_difference_spread\": 1.8, \"route_group\": \"short\", \"max_trip_hrs\": 0.4, \"max_trip_route_group\": 1.0, \"name\": \"Commute.org\", \"caltrans_district\": \"04 - Oakland\", \"drmt_organization_name\": null, \"cutoff2\": 15.0, \"cutoff\": 2}, {\"calitp_itp_id\": 76, \"trip_key\": 2336445493792023776, \"trip_id\": \"t_1217204_b_26812_tn_0\", \"shape_id\": \"p_788189\", \"route_id\": \"12154\", \"service_hours\": 0.37, \"trip_first_departure_ts\": 25140, \"trip_last_arrival_ts\": 26460, \"departure_hour\": 6, \"time_of_day\": \"Owl Service\", \"p25\": 0.37, \"p50\": 0.375, \"p75\": 0.38, \"p50_trip\": 1, \"fastest_trip\": 0, \"car_duration_hours\": 0.23, \"competitive_route\": 1, \"bus_multiplier\": 1.61, \"bus_difference\": 8.4, \"num_trips\": 30, \"num_competitive\": 30, \"pct_trips_competitive\": 1.0, \"bus_difference_spread\": 1.8, \"route_group\": \"short\", \"max_trip_hrs\": 0.4, \"max_trip_route_group\": 1.0, \"name\": \"Commute.org\", \"caltrans_district\": \"04 - Oakland\", \"drmt_organization_name\": null, \"cutoff2\": 15.0, \"cutoff\": 2}, {\"calitp_itp_id\": 76, \"trip_key\": 457253447294300613, \"trip_id\": \"t_1490390_b_26812_tn_0\", \"shape_id\": \"p_788189\", \"route_id\": \"12154\", \"service_hours\": 0.37, \"trip_first_departure_ts\": 27960, \"trip_last_arrival_ts\": 29280, \"departure_hour\": 7, \"time_of_day\": \"AM Peak\", \"p25\": 0.37, \"p50\": 0.375, \"p75\": 0.38, \"p50_trip\": 1, \"fastest_trip\": 0, \"car_duration_hours\": 0.23, \"competitive_route\": 1, \"bus_multiplier\": 1.61, \"bus_difference\": 8.4, \"num_trips\": 30, \"num_competitive\": 30, \"pct_trips_competitive\": 1.0, \"bus_difference_spread\": 1.8, \"route_group\": \"short\", \"max_trip_hrs\": 0.4, \"max_trip_route_group\": 1.0, \"name\": \"Commute.org\", \"caltrans_district\": \"04 - Oakland\", \"drmt_organization_name\": null, \"cutoff2\": 15.0, \"cutoff\": 2}, {\"calitp_itp_id\": 76, \"trip_key\": -222251055215551227, \"trip_id\": \"t_1217203_b_26812_tn_0\", \"shape_id\": \"p_788189\", \"route_id\": \"12154\", \"service_hours\": 0.37, \"trip_first_departure_ts\": 24360, \"trip_last_arrival_ts\": 25680, \"departure_hour\": 6, \"time_of_day\": \"Owl Service\", \"p25\": 0.37, \"p50\": 0.375, \"p75\": 0.38, \"p50_trip\": 1, \"fastest_trip\": 0, \"car_duration_hours\": 0.23, \"competitive_route\": 1, \"bus_multiplier\": 1.61, \"bus_difference\": 8.4, \"num_trips\": 30, \"num_competitive\": 30, \"pct_trips_competitive\": 1.0, \"bus_difference_spread\": 1.8, \"route_group\": \"short\", \"max_trip_hrs\": 0.4, \"max_trip_route_group\": 1.0, \"name\": \"Commute.org\", \"caltrans_district\": \"04 - Oakland\", \"drmt_organization_name\": null, \"cutoff2\": 15.0, \"cutoff\": 2}, {\"calitp_itp_id\": 76, \"trip_key\": 9040812461413631102, \"trip_id\": \"t_1490391_b_26812_tn_0\", \"shape_id\": \"p_788189\", \"route_id\": \"12154\", \"service_hours\": 0.37, \"trip_first_departure_ts\": 28740, \"trip_last_arrival_ts\": 30060, \"departure_hour\": 7, \"time_of_day\": \"AM Peak\", \"p25\": 0.37, \"p50\": 0.375, \"p75\": 0.38, \"p50_trip\": 1, \"fastest_trip\": 0, \"car_duration_hours\": 0.23, \"competitive_route\": 1, \"bus_multiplier\": 1.61, \"bus_difference\": 8.4, \"num_trips\": 30, \"num_competitive\": 30, \"pct_trips_competitive\": 1.0, \"bus_difference_spread\": 1.8, \"route_group\": \"short\", \"max_trip_hrs\": 0.4, \"max_trip_route_group\": 1.0, \"name\": \"Commute.org\", \"caltrans_district\": \"04 - Oakland\", \"drmt_organization_name\": null, \"cutoff2\": 15.0, \"cutoff\": 2}, {\"calitp_itp_id\": 76, \"trip_key\": 3372714642285167049, \"trip_id\": \"t_1218721_b_26812_tn_0\", \"shape_id\": \"p_788189\", \"route_id\": \"12154\", \"service_hours\": 0.37, \"trip_first_departure_ts\": 26520, \"trip_last_arrival_ts\": 27840, \"departure_hour\": 7, \"time_of_day\": \"AM Peak\", \"p25\": 0.37, \"p50\": 0.375, \"p75\": 0.38, \"p50_trip\": 1, \"fastest_trip\": 0, \"car_duration_hours\": 0.23, \"competitive_route\": 1, \"bus_multiplier\": 1.61, \"bus_difference\": 8.4, \"num_trips\": 30, \"num_competitive\": 30, \"pct_trips_competitive\": 1.0, \"bus_difference_spread\": 1.8, \"route_group\": \"short\", \"max_trip_hrs\": 0.4, \"max_trip_route_group\": 1.0, \"name\": \"Commute.org\", \"caltrans_district\": \"04 - Oakland\", \"drmt_organization_name\": null, \"cutoff2\": 15.0, \"cutoff\": 2}, {\"calitp_itp_id\": 76, \"trip_key\": 3979972868979813931, \"trip_id\": \"t_1490397_b_26812_tn_0\", \"shape_id\": \"p_788189\", \"route_id\": \"12154\", \"service_hours\": 0.37, \"trip_first_departure_ts\": 33120, \"trip_last_arrival_ts\": 34440, \"departure_hour\": 9, \"time_of_day\": \"AM Peak\", \"p25\": 0.37, \"p50\": 0.375, \"p75\": 0.38, \"p50_trip\": 1, \"fastest_trip\": 0, \"car_duration_hours\": 0.23, \"competitive_route\": 1, \"bus_multiplier\": 1.61, \"bus_difference\": 8.4, \"num_trips\": 30, \"num_competitive\": 30, \"pct_trips_competitive\": 1.0, \"bus_difference_spread\": 1.8, \"route_group\": \"short\", \"max_trip_hrs\": 0.4, \"max_trip_route_group\": 1.0, \"name\": \"Commute.org\", \"caltrans_district\": \"04 - Oakland\", \"drmt_organization_name\": null, \"cutoff2\": 15.0, \"cutoff\": 2}, {\"calitp_itp_id\": 76, \"trip_key\": 7500866329819357079, \"trip_id\": \"t_1217122_b_26812_tn_0\", \"shape_id\": \"p_788189\", \"route_id\": \"12154\", \"service_hours\": 0.38, \"trip_first_departure_ts\": 57600, \"trip_last_arrival_ts\": 58980, \"departure_hour\": 16, \"time_of_day\": \"Midday\", \"p25\": 0.37, \"p50\": 0.375, \"p75\": 0.38, \"p50_trip\": 1, \"fastest_trip\": 0, \"car_duration_hours\": 0.23, \"competitive_route\": 1, \"bus_multiplier\": 1.65, \"bus_difference\": 9.0, \"num_trips\": 30, \"num_competitive\": 30, \"pct_trips_competitive\": 1.0, \"bus_difference_spread\": 1.8, \"route_group\": \"short\", \"max_trip_hrs\": 0.4, \"max_trip_route_group\": 1.0, \"name\": \"Commute.org\", \"caltrans_district\": \"04 - Oakland\", \"drmt_organization_name\": null, \"cutoff2\": 15.0, \"cutoff\": 2}, {\"calitp_itp_id\": 76, \"trip_key\": -8827996331669029243, \"trip_id\": \"t_1490404_b_26812_tn_0\", \"shape_id\": \"p_788189\", \"route_id\": \"12154\", \"service_hours\": 0.38, \"trip_first_departure_ts\": 63300, \"trip_last_arrival_ts\": 64680, \"departure_hour\": 17, \"time_of_day\": \"PM Peak\", \"p25\": 0.37, \"p50\": 0.375, \"p75\": 0.38, \"p50_trip\": 1, \"fastest_trip\": 0, \"car_duration_hours\": 0.23, \"competitive_route\": 1, \"bus_multiplier\": 1.65, \"bus_difference\": 9.0, \"num_trips\": 30, \"num_competitive\": 30, \"pct_trips_competitive\": 1.0, \"bus_difference_spread\": 1.8, \"route_group\": \"short\", \"max_trip_hrs\": 0.4, \"max_trip_route_group\": 1.0, \"name\": \"Commute.org\", \"caltrans_district\": \"04 - Oakland\", \"drmt_organization_name\": null, \"cutoff2\": 15.0, \"cutoff\": 2}, {\"calitp_itp_id\": 76, \"trip_key\": 8329705900429361308, \"trip_id\": \"t_1490403_b_26812_tn_0\", \"shape_id\": \"p_788189\", \"route_id\": \"12154\", \"service_hours\": 0.38, \"trip_first_departure_ts\": 62760, \"trip_last_arrival_ts\": 64140, \"departure_hour\": 17, \"time_of_day\": \"PM Peak\", \"p25\": 0.37, \"p50\": 0.375, \"p75\": 0.38, \"p50_trip\": 1, \"fastest_trip\": 0, \"car_duration_hours\": 0.23, \"competitive_route\": 1, \"bus_multiplier\": 1.65, \"bus_difference\": 9.0, \"num_trips\": 30, \"num_competitive\": 30, \"pct_trips_competitive\": 1.0, \"bus_difference_spread\": 1.8, \"route_group\": \"short\", \"max_trip_hrs\": 0.4, \"max_trip_route_group\": 1.0, \"name\": \"Commute.org\", \"caltrans_district\": \"04 - Oakland\", \"drmt_organization_name\": null, \"cutoff2\": 15.0, \"cutoff\": 2}, {\"calitp_itp_id\": 76, \"trip_key\": -6552670415709452550, \"trip_id\": \"t_1217206_b_26812_tn_0\", \"shape_id\": \"p_788189\", \"route_id\": \"12154\", \"service_hours\": 0.38, \"trip_first_departure_ts\": 56160, \"trip_last_arrival_ts\": 57540, \"departure_hour\": 15, \"time_of_day\": \"Midday\", \"p25\": 0.37, \"p50\": 0.375, \"p75\": 0.38, \"p50_trip\": 1, \"fastest_trip\": 0, \"car_duration_hours\": 0.23, \"competitive_route\": 1, \"bus_multiplier\": 1.65, \"bus_difference\": 9.0, \"num_trips\": 30, \"num_competitive\": 30, \"pct_trips_competitive\": 1.0, \"bus_difference_spread\": 1.8, \"route_group\": \"short\", \"max_trip_hrs\": 0.4, \"max_trip_route_group\": 1.0, \"name\": \"Commute.org\", \"caltrans_district\": \"04 - Oakland\", \"drmt_organization_name\": null, \"cutoff2\": 15.0, \"cutoff\": 2}, {\"calitp_itp_id\": 76, \"trip_key\": -569235497105708294, \"trip_id\": \"t_1218726_b_26812_tn_0\", \"shape_id\": \"p_788189\", \"route_id\": \"12154\", \"service_hours\": 0.38, \"trip_first_departure_ts\": 59160, \"trip_last_arrival_ts\": 60540, \"departure_hour\": 16, \"time_of_day\": \"Midday\", \"p25\": 0.37, \"p50\": 0.375, \"p75\": 0.38, \"p50_trip\": 1, \"fastest_trip\": 0, \"car_duration_hours\": 0.23, \"competitive_route\": 1, \"bus_multiplier\": 1.65, \"bus_difference\": 9.0, \"num_trips\": 30, \"num_competitive\": 30, \"pct_trips_competitive\": 1.0, \"bus_difference_spread\": 1.8, \"route_group\": \"short\", \"max_trip_hrs\": 0.4, \"max_trip_route_group\": 1.0, \"name\": \"Commute.org\", \"caltrans_district\": \"04 - Oakland\", \"drmt_organization_name\": null, \"cutoff2\": 15.0, \"cutoff\": 2}, {\"calitp_itp_id\": 76, \"trip_key\": -9081008818698821200, \"trip_id\": \"t_1217207_b_26812_tn_0\", \"shape_id\": \"p_788189\", \"route_id\": \"12154\", \"service_hours\": 0.38, \"trip_first_departure_ts\": 56940, \"trip_last_arrival_ts\": 58320, \"departure_hour\": 15, \"time_of_day\": \"Midday\", \"p25\": 0.37, \"p50\": 0.375, \"p75\": 0.38, \"p50_trip\": 1, \"fastest_trip\": 0, \"car_duration_hours\": 0.23, \"competitive_route\": 1, \"bus_multiplier\": 1.65, \"bus_difference\": 9.0, \"num_trips\": 30, \"num_competitive\": 30, \"pct_trips_competitive\": 1.0, \"bus_difference_spread\": 1.8, \"route_group\": \"short\", \"max_trip_hrs\": 0.4, \"max_trip_route_group\": 1.0, \"name\": \"Commute.org\", \"caltrans_district\": \"04 - Oakland\", \"drmt_organization_name\": null, \"cutoff2\": 15.0, \"cutoff\": 2}, {\"calitp_itp_id\": 76, \"trip_key\": -5349921103047156292, \"trip_id\": \"t_1490405_b_26812_tn_0\", \"shape_id\": \"p_788189\", \"route_id\": \"12154\", \"service_hours\": 0.38, \"trip_first_departure_ts\": 64140, \"trip_last_arrival_ts\": 65520, \"departure_hour\": 17, \"time_of_day\": \"PM Peak\", \"p25\": 0.37, \"p50\": 0.375, \"p75\": 0.38, \"p50_trip\": 1, \"fastest_trip\": 0, \"car_duration_hours\": 0.23, \"competitive_route\": 1, \"bus_multiplier\": 1.65, \"bus_difference\": 9.0, \"num_trips\": 30, \"num_competitive\": 30, \"pct_trips_competitive\": 1.0, \"bus_difference_spread\": 1.8, \"route_group\": \"short\", \"max_trip_hrs\": 0.4, \"max_trip_route_group\": 1.0, \"name\": \"Commute.org\", \"caltrans_district\": \"04 - Oakland\", \"drmt_organization_name\": null, \"cutoff2\": 15.0, \"cutoff\": 2}, {\"calitp_itp_id\": 76, \"trip_key\": 1603548273195350260, \"trip_id\": \"t_1490406_b_26812_tn_0\", \"shape_id\": \"p_788189\", \"route_id\": \"12154\", \"service_hours\": 0.38, \"trip_first_departure_ts\": 64800, \"trip_last_arrival_ts\": 66180, \"departure_hour\": 18, \"time_of_day\": \"PM Peak\", \"p25\": 0.37, \"p50\": 0.375, \"p75\": 0.38, \"p50_trip\": 1, \"fastest_trip\": 0, \"car_duration_hours\": 0.23, \"competitive_route\": 1, \"bus_multiplier\": 1.65, \"bus_difference\": 9.0, \"num_trips\": 30, \"num_competitive\": 30, \"pct_trips_competitive\": 1.0, \"bus_difference_spread\": 1.8, \"route_group\": \"short\", \"max_trip_hrs\": 0.4, \"max_trip_route_group\": 1.0, \"name\": \"Commute.org\", \"caltrans_district\": \"04 - Oakland\", \"drmt_organization_name\": null, \"cutoff2\": 15.0, \"cutoff\": 2}, {\"calitp_itp_id\": 76, \"trip_key\": -1589719186797678027, \"trip_id\": \"t_1490407_b_26812_tn_0\", \"shape_id\": \"p_788189\", \"route_id\": \"12154\", \"service_hours\": 0.38, \"trip_first_departure_ts\": 65520, \"trip_last_arrival_ts\": 66900, \"departure_hour\": 18, \"time_of_day\": \"PM Peak\", \"p25\": 0.37, \"p50\": 0.375, \"p75\": 0.38, \"p50_trip\": 1, \"fastest_trip\": 0, \"car_duration_hours\": 0.23, \"competitive_route\": 1, \"bus_multiplier\": 1.65, \"bus_difference\": 9.0, \"num_trips\": 30, \"num_competitive\": 30, \"pct_trips_competitive\": 1.0, \"bus_difference_spread\": 1.8, \"route_group\": \"short\", \"max_trip_hrs\": 0.4, \"max_trip_route_group\": 1.0, \"name\": \"Commute.org\", \"caltrans_district\": \"04 - Oakland\", \"drmt_organization_name\": null, \"cutoff2\": 15.0, \"cutoff\": 2}, {\"calitp_itp_id\": 76, \"trip_key\": -8575264985102153867, \"trip_id\": \"t_1490400_b_26812_tn_0\", \"shape_id\": \"p_788189\", \"route_id\": \"12154\", \"service_hours\": 0.38, \"trip_first_departure_ts\": 60540, \"trip_last_arrival_ts\": 61920, \"departure_hour\": 16, \"time_of_day\": \"Midday\", \"p25\": 0.37, \"p50\": 0.375, \"p75\": 0.38, \"p50_trip\": 1, \"fastest_trip\": 0, \"car_duration_hours\": 0.23, \"competitive_route\": 1, \"bus_multiplier\": 1.65, \"bus_difference\": 9.0, \"num_trips\": 30, \"num_competitive\": 30, \"pct_trips_competitive\": 1.0, \"bus_difference_spread\": 1.8, \"route_group\": \"short\", \"max_trip_hrs\": 0.4, \"max_trip_route_group\": 1.0, \"name\": \"Commute.org\", \"caltrans_district\": \"04 - Oakland\", \"drmt_organization_name\": null, \"cutoff2\": 15.0, \"cutoff\": 2}, {\"calitp_itp_id\": 76, \"trip_key\": 8045853403562253675, \"trip_id\": \"t_1217248_b_26812_tn_0\", \"shape_id\": \"p_788189\", \"route_id\": \"12154\", \"service_hours\": 0.38, \"trip_first_departure_ts\": 55500, \"trip_last_arrival_ts\": 56880, \"departure_hour\": 15, \"time_of_day\": \"Midday\", \"p25\": 0.37, \"p50\": 0.375, \"p75\": 0.38, \"p50_trip\": 1, \"fastest_trip\": 0, \"car_duration_hours\": 0.23, \"competitive_route\": 1, \"bus_multiplier\": 1.65, \"bus_difference\": 9.0, \"num_trips\": 30, \"num_competitive\": 30, \"pct_trips_competitive\": 1.0, \"bus_difference_spread\": 1.8, \"route_group\": \"short\", \"max_trip_hrs\": 0.4, \"max_trip_route_group\": 1.0, \"name\": \"Commute.org\", \"caltrans_district\": \"04 - Oakland\", \"drmt_organization_name\": null, \"cutoff2\": 15.0, \"cutoff\": 2}, {\"calitp_itp_id\": 76, \"trip_key\": 5820358487635437821, \"trip_id\": \"t_1218725_b_26812_tn_0\", \"shape_id\": \"p_788189\", \"route_id\": \"12154\", \"service_hours\": 0.38, \"trip_first_departure_ts\": 58320, \"trip_last_arrival_ts\": 59700, \"departure_hour\": 16, \"time_of_day\": \"Midday\", \"p25\": 0.37, \"p50\": 0.375, \"p75\": 0.38, \"p50_trip\": 1, \"fastest_trip\": 0, \"car_duration_hours\": 0.23, \"competitive_route\": 1, \"bus_multiplier\": 1.65, \"bus_difference\": 9.0, \"num_trips\": 30, \"num_competitive\": 30, \"pct_trips_competitive\": 1.0, \"bus_difference_spread\": 1.8, \"route_group\": \"short\", \"max_trip_hrs\": 0.4, \"max_trip_route_group\": 1.0, \"name\": \"Commute.org\", \"caltrans_district\": \"04 - Oakland\", \"drmt_organization_name\": null, \"cutoff2\": 15.0, \"cutoff\": 2}, {\"calitp_itp_id\": 76, \"trip_key\": -2332697120790423620, \"trip_id\": \"t_1490399_b_26812_tn_0\", \"shape_id\": \"p_788189\", \"route_id\": \"12154\", \"service_hours\": 0.38, \"trip_first_departure_ts\": 59760, \"trip_last_arrival_ts\": 61140, \"departure_hour\": 16, \"time_of_day\": \"Midday\", \"p25\": 0.37, \"p50\": 0.375, \"p75\": 0.38, \"p50_trip\": 1, \"fastest_trip\": 0, \"car_duration_hours\": 0.23, \"competitive_route\": 1, \"bus_multiplier\": 1.65, \"bus_difference\": 9.0, \"num_trips\": 30, \"num_competitive\": 30, \"pct_trips_competitive\": 1.0, \"bus_difference_spread\": 1.8, \"route_group\": \"short\", \"max_trip_hrs\": 0.4, \"max_trip_route_group\": 1.0, \"name\": \"Commute.org\", \"caltrans_district\": \"04 - Oakland\", \"drmt_organization_name\": null, \"cutoff2\": 15.0, \"cutoff\": 2}, {\"calitp_itp_id\": 76, \"trip_key\": 9051299505432944462, \"trip_id\": \"t_1490402_b_26812_tn_0\", \"shape_id\": \"p_788189\", \"route_id\": \"12154\", \"service_hours\": 0.38, \"trip_first_departure_ts\": 61920, \"trip_last_arrival_ts\": 63300, \"departure_hour\": 17, \"time_of_day\": \"PM Peak\", \"p25\": 0.37, \"p50\": 0.375, \"p75\": 0.38, \"p50_trip\": 1, \"fastest_trip\": 0, \"car_duration_hours\": 0.23, \"competitive_route\": 1, \"bus_multiplier\": 1.65, \"bus_difference\": 9.0, \"num_trips\": 30, \"num_competitive\": 30, \"pct_trips_competitive\": 1.0, \"bus_difference_spread\": 1.8, \"route_group\": \"short\", \"max_trip_hrs\": 0.4, \"max_trip_route_group\": 1.0, \"name\": \"Commute.org\", \"caltrans_district\": \"04 - Oakland\", \"drmt_organization_name\": null, \"cutoff2\": 15.0, \"cutoff\": 2}, {\"calitp_itp_id\": 76, \"trip_key\": 2378368036577341957, \"trip_id\": \"t_1490401_b_26812_tn_0\", \"shape_id\": \"p_788189\", \"route_id\": \"12154\", \"service_hours\": 0.4, \"trip_first_departure_ts\": 61140, \"trip_last_arrival_ts\": 62580, \"departure_hour\": 16, \"time_of_day\": \"Midday\", \"p25\": 0.37, \"p50\": 0.375, \"p75\": 0.38, \"p50_trip\": 0, \"fastest_trip\": 0, \"car_duration_hours\": 0.23, \"competitive_route\": 1, \"bus_multiplier\": 1.74, \"bus_difference\": 10.2, \"num_trips\": 30, \"num_competitive\": 30, \"pct_trips_competitive\": 1.0, \"bus_difference_spread\": 1.8, \"route_group\": \"short\", \"max_trip_hrs\": 0.4, \"max_trip_route_group\": 1.0, \"name\": \"Commute.org\", \"caltrans_district\": \"04 - Oakland\", \"drmt_organization_name\": null, \"cutoff2\": 15.0, \"cutoff\": 2}, {\"calitp_itp_id\": 76, \"trip_key\": -3518993468761310057, \"trip_id\": \"t_1217193_b_26812_tn_0\", \"shape_id\": \"p_745243\", \"route_id\": \"12157\", \"service_hours\": 0.3, \"trip_first_departure_ts\": 33900, \"trip_last_arrival_ts\": 34980, \"departure_hour\": 9, \"time_of_day\": \"AM Peak\", \"p25\": 0.4, \"p50\": 0.4, \"p75\": 0.47, \"p50_trip\": 0, \"fastest_trip\": 1, \"car_duration_hours\": 0.28, \"competitive_route\": 1, \"bus_multiplier\": 1.07, \"bus_difference\": 1.2, \"num_trips\": 14, \"num_competitive\": 14, \"pct_trips_competitive\": 1.0, \"bus_difference_spread\": 15.0, \"route_group\": \"short\", \"max_trip_hrs\": 0.55, \"max_trip_route_group\": 1.0, \"name\": \"Commute.org\", \"caltrans_district\": \"04 - Oakland\", \"drmt_organization_name\": null, \"cutoff2\": 15.0, \"cutoff\": 2}, {\"calitp_itp_id\": 76, \"trip_key\": -670183993196852318, \"trip_id\": \"t_1217195_b_26812_tn_0\", \"shape_id\": \"p_745242\", \"route_id\": \"12157\", \"service_hours\": 0.33, \"trip_first_departure_ts\": 53280, \"trip_last_arrival_ts\": 54480, \"departure_hour\": 14, \"time_of_day\": \"Midday\", \"p25\": 0.4, \"p50\": 0.4, \"p75\": 0.47, \"p50_trip\": 0, \"fastest_trip\": 0, \"car_duration_hours\": 0.28, \"competitive_route\": 1, \"bus_multiplier\": 1.18, \"bus_difference\": 3.0, \"num_trips\": 14, \"num_competitive\": 14, \"pct_trips_competitive\": 1.0, \"bus_difference_spread\": 15.0, \"route_group\": \"short\", \"max_trip_hrs\": 0.55, \"max_trip_route_group\": 1.0, \"name\": \"Commute.org\", \"caltrans_district\": \"04 - Oakland\", \"drmt_organization_name\": null, \"cutoff2\": 15.0, \"cutoff\": 2}, {\"calitp_itp_id\": 76, \"trip_key\": 8417932145375947383, \"trip_id\": \"t_1217240_b_26812_tn_0\", \"shape_id\": \"p_745241\", \"route_id\": \"12157\", \"service_hours\": 0.37, \"trip_first_departure_ts\": 23940, \"trip_last_arrival_ts\": 25260, \"departure_hour\": 6, \"time_of_day\": \"Owl Service\", \"p25\": 0.4, \"p50\": 0.4, \"p75\": 0.47, \"p50_trip\": 0, \"fastest_trip\": 0, \"car_duration_hours\": 0.28, \"competitive_route\": 1, \"bus_multiplier\": 1.32, \"bus_difference\": 5.4, \"num_trips\": 14, \"num_competitive\": 14, \"pct_trips_competitive\": 1.0, \"bus_difference_spread\": 15.0, \"route_group\": \"short\", \"max_trip_hrs\": 0.55, \"max_trip_route_group\": 1.0, \"name\": \"Commute.org\", \"caltrans_district\": \"04 - Oakland\", \"drmt_organization_name\": null, \"cutoff2\": 15.0, \"cutoff\": 2}, {\"calitp_itp_id\": 76, \"trip_key\": 6444964701813489347, \"trip_id\": \"t_1523222_b_26812_tn_0\", \"shape_id\": \"p_745240\", \"route_id\": \"12157\", \"service_hours\": 0.4, \"trip_first_departure_ts\": 32460, \"trip_last_arrival_ts\": 33900, \"departure_hour\": 9, \"time_of_day\": \"AM Peak\", \"p25\": 0.4, \"p50\": 0.4, \"p75\": 0.47, \"p50_trip\": 1, \"fastest_trip\": 0, \"car_duration_hours\": 0.28, \"competitive_route\": 1, \"bus_multiplier\": 1.43, \"bus_difference\": 7.2, \"num_trips\": 14, \"num_competitive\": 14, \"pct_trips_competitive\": 1.0, \"bus_difference_spread\": 15.0, \"route_group\": \"short\", \"max_trip_hrs\": 0.55, \"max_trip_route_group\": 1.0, \"name\": \"Commute.org\", \"caltrans_district\": \"04 - Oakland\", \"drmt_organization_name\": null, \"cutoff2\": 15.0, \"cutoff\": 2}, {\"calitp_itp_id\": 76, \"trip_key\": -1100017607885103413, \"trip_id\": \"t_1217242_b_26812_tn_0\", \"shape_id\": \"p_745240\", \"route_id\": \"12157\", \"service_hours\": 0.4, \"trip_first_departure_ts\": 25260, \"trip_last_arrival_ts\": 26700, \"departure_hour\": 7, \"time_of_day\": \"AM Peak\", \"p25\": 0.4, \"p50\": 0.4, \"p75\": 0.47, \"p50_trip\": 1, \"fastest_trip\": 0, \"car_duration_hours\": 0.28, \"competitive_route\": 1, \"bus_multiplier\": 1.43, \"bus_difference\": 7.2, \"num_trips\": 14, \"num_competitive\": 14, \"pct_trips_competitive\": 1.0, \"bus_difference_spread\": 15.0, \"route_group\": \"short\", \"max_trip_hrs\": 0.55, \"max_trip_route_group\": 1.0, \"name\": \"Commute.org\", \"caltrans_district\": \"04 - Oakland\", \"drmt_organization_name\": null, \"cutoff2\": 15.0, \"cutoff\": 2}, {\"calitp_itp_id\": 76, \"trip_key\": 7527403700965257381, \"trip_id\": \"t_1217244_b_26812_tn_0\", \"shape_id\": \"p_745240\", \"route_id\": \"12157\", \"service_hours\": 0.4, \"trip_first_departure_ts\": 26700, \"trip_last_arrival_ts\": 28140, \"departure_hour\": 7, \"time_of_day\": \"AM Peak\", \"p25\": 0.4, \"p50\": 0.4, \"p75\": 0.47, \"p50_trip\": 1, \"fastest_trip\": 0, \"car_duration_hours\": 0.28, \"competitive_route\": 1, \"bus_multiplier\": 1.43, \"bus_difference\": 7.2, \"num_trips\": 14, \"num_competitive\": 14, \"pct_trips_competitive\": 1.0, \"bus_difference_spread\": 15.0, \"route_group\": \"short\", \"max_trip_hrs\": 0.55, \"max_trip_route_group\": 1.0, \"name\": \"Commute.org\", \"caltrans_district\": \"04 - Oakland\", \"drmt_organization_name\": null, \"cutoff2\": 15.0, \"cutoff\": 2}, {\"calitp_itp_id\": 76, \"trip_key\": -7572033908622930952, \"trip_id\": \"t_1523221_b_26812_tn_0\", \"shape_id\": \"p_745240\", \"route_id\": \"12157\", \"service_hours\": 0.4, \"trip_first_departure_ts\": 30300, \"trip_last_arrival_ts\": 31740, \"departure_hour\": 8, \"time_of_day\": \"AM Peak\", \"p25\": 0.4, \"p50\": 0.4, \"p75\": 0.47, \"p50_trip\": 1, \"fastest_trip\": 0, \"car_duration_hours\": 0.28, \"competitive_route\": 1, \"bus_multiplier\": 1.43, \"bus_difference\": 7.2, \"num_trips\": 14, \"num_competitive\": 14, \"pct_trips_competitive\": 1.0, \"bus_difference_spread\": 15.0, \"route_group\": \"short\", \"max_trip_hrs\": 0.55, \"max_trip_route_group\": 1.0, \"name\": \"Commute.org\", \"caltrans_district\": \"04 - Oakland\", \"drmt_organization_name\": null, \"cutoff2\": 15.0, \"cutoff\": 2}, {\"calitp_itp_id\": 76, \"trip_key\": -7185470195732164113, \"trip_id\": \"t_1523220_b_26812_tn_0\", \"shape_id\": \"p_745240\", \"route_id\": \"12157\", \"service_hours\": 0.4, \"trip_first_departure_ts\": 28860, \"trip_last_arrival_ts\": 30300, \"departure_hour\": 8, \"time_of_day\": \"AM Peak\", \"p25\": 0.4, \"p50\": 0.4, \"p75\": 0.47, \"p50_trip\": 1, \"fastest_trip\": 0, \"car_duration_hours\": 0.28, \"competitive_route\": 1, \"bus_multiplier\": 1.43, \"bus_difference\": 7.2, \"num_trips\": 14, \"num_competitive\": 14, \"pct_trips_competitive\": 1.0, \"bus_difference_spread\": 15.0, \"route_group\": \"short\", \"max_trip_hrs\": 0.55, \"max_trip_route_group\": 1.0, \"name\": \"Commute.org\", \"caltrans_district\": \"04 - Oakland\", \"drmt_organization_name\": null, \"cutoff2\": 15.0, \"cutoff\": 2}, {\"calitp_itp_id\": 76, \"trip_key\": 4210032901875776792, \"trip_id\": \"t_1523223_b_26812_tn_2\", \"shape_id\": \"p_900671\", \"route_id\": \"12157\", \"service_hours\": 0.47, \"trip_first_departure_ts\": 60120, \"trip_last_arrival_ts\": 61800, \"departure_hour\": 16, \"time_of_day\": \"Midday\", \"p25\": 0.4, \"p50\": 0.4, \"p75\": 0.47, \"p50_trip\": 0, \"fastest_trip\": 0, \"car_duration_hours\": 0.28, \"competitive_route\": 1, \"bus_multiplier\": 1.68, \"bus_difference\": 11.4, \"num_trips\": 14, \"num_competitive\": 14, \"pct_trips_competitive\": 1.0, \"bus_difference_spread\": 15.0, \"route_group\": \"short\", \"max_trip_hrs\": 0.55, \"max_trip_route_group\": 1.0, \"name\": \"Commute.org\", \"caltrans_district\": \"04 - Oakland\", \"drmt_organization_name\": null, \"cutoff2\": 15.0, \"cutoff\": 2}, {\"calitp_itp_id\": 76, \"trip_key\": 5252656298668283543, \"trip_id\": \"t_1523238_b_26812_tn_0\", \"shape_id\": \"p_900671\", \"route_id\": \"12157\", \"service_hours\": 0.47, \"trip_first_departure_ts\": 63720, \"trip_last_arrival_ts\": 65400, \"departure_hour\": 17, \"time_of_day\": \"PM Peak\", \"p25\": 0.4, \"p50\": 0.4, \"p75\": 0.47, \"p50_trip\": 0, \"fastest_trip\": 0, \"car_duration_hours\": 0.28, \"competitive_route\": 1, \"bus_multiplier\": 1.68, \"bus_difference\": 11.4, \"num_trips\": 14, \"num_competitive\": 14, \"pct_trips_competitive\": 1.0, \"bus_difference_spread\": 15.0, \"route_group\": \"short\", \"max_trip_hrs\": 0.55, \"max_trip_route_group\": 1.0, \"name\": \"Commute.org\", \"caltrans_district\": \"04 - Oakland\", \"drmt_organization_name\": null, \"cutoff2\": 15.0, \"cutoff\": 2}, {\"calitp_itp_id\": 76, \"trip_key\": -7292751354754917016, \"trip_id\": \"t_1523223_b_26812_tn_1\", \"shape_id\": \"p_900671\", \"route_id\": \"12157\", \"service_hours\": 0.47, \"trip_first_departure_ts\": 56460, \"trip_last_arrival_ts\": 58140, \"departure_hour\": 15, \"time_of_day\": \"Midday\", \"p25\": 0.4, \"p50\": 0.4, \"p75\": 0.47, \"p50_trip\": 0, \"fastest_trip\": 0, \"car_duration_hours\": 0.28, \"competitive_route\": 1, \"bus_multiplier\": 1.68, \"bus_difference\": 11.4, \"num_trips\": 14, \"num_competitive\": 14, \"pct_trips_competitive\": 1.0, \"bus_difference_spread\": 15.0, \"route_group\": \"short\", \"max_trip_hrs\": 0.55, \"max_trip_route_group\": 1.0, \"name\": \"Commute.org\", \"caltrans_district\": \"04 - Oakland\", \"drmt_organization_name\": null, \"cutoff2\": 15.0, \"cutoff\": 2}, {\"calitp_itp_id\": 76, \"trip_key\": -154440227743447731, \"trip_id\": \"t_1523237_b_26812_tn_0\", \"shape_id\": \"p_900671\", \"route_id\": \"12157\", \"service_hours\": 0.53, \"trip_first_departure_ts\": 61800, \"trip_last_arrival_ts\": 63720, \"departure_hour\": 17, \"time_of_day\": \"PM Peak\", \"p25\": 0.4, \"p50\": 0.4, \"p75\": 0.47, \"p50_trip\": 0, \"fastest_trip\": 0, \"car_duration_hours\": 0.28, \"competitive_route\": 1, \"bus_multiplier\": 1.89, \"bus_difference\": 15.0, \"num_trips\": 14, \"num_competitive\": 14, \"pct_trips_competitive\": 1.0, \"bus_difference_spread\": 15.0, \"route_group\": \"short\", \"max_trip_hrs\": 0.55, \"max_trip_route_group\": 1.0, \"name\": \"Commute.org\", \"caltrans_district\": \"04 - Oakland\", \"drmt_organization_name\": null, \"cutoff2\": 15.0, \"cutoff\": 2}, {\"calitp_itp_id\": 76, \"trip_key\": -3377129435102605597, \"trip_id\": \"t_1217197_b_26812_tn_2\", \"shape_id\": \"p_900671\", \"route_id\": \"12157\", \"service_hours\": 0.55, \"trip_first_departure_ts\": 58140, \"trip_last_arrival_ts\": 60120, \"departure_hour\": 16, \"time_of_day\": \"Midday\", \"p25\": 0.4, \"p50\": 0.4, \"p75\": 0.47, \"p50_trip\": 0, \"fastest_trip\": 0, \"car_duration_hours\": 0.28, \"competitive_route\": 1, \"bus_multiplier\": 1.96, \"bus_difference\": 16.2, \"num_trips\": 14, \"num_competitive\": 14, \"pct_trips_competitive\": 1.0, \"bus_difference_spread\": 15.0, \"route_group\": \"short\", \"max_trip_hrs\": 0.55, \"max_trip_route_group\": 1.0, \"name\": \"Commute.org\", \"caltrans_district\": \"04 - Oakland\", \"drmt_organization_name\": null, \"cutoff2\": 15.0, \"cutoff\": 2}, {\"calitp_itp_id\": 76, \"trip_key\": 2342366353058432608, \"trip_id\": \"t_1217197_b_26812_tn_1\", \"shape_id\": \"p_900671\", \"route_id\": \"12157\", \"service_hours\": 0.55, \"trip_first_departure_ts\": 54480, \"trip_last_arrival_ts\": 56460, \"departure_hour\": 15, \"time_of_day\": \"Midday\", \"p25\": 0.4, \"p50\": 0.4, \"p75\": 0.47, \"p50_trip\": 0, \"fastest_trip\": 0, \"car_duration_hours\": 0.28, \"competitive_route\": 1, \"bus_multiplier\": 1.96, \"bus_difference\": 16.2, \"num_trips\": 14, \"num_competitive\": 14, \"pct_trips_competitive\": 1.0, \"bus_difference_spread\": 15.0, \"route_group\": \"short\", \"max_trip_hrs\": 0.55, \"max_trip_route_group\": 1.0, \"name\": \"Commute.org\", \"caltrans_district\": \"04 - Oakland\", \"drmt_organization_name\": null, \"cutoff2\": 15.0, \"cutoff\": 2}]}}, {\"mode\": \"vega-lite\"});\n",
       "</script>"
      ],
      "text/plain": [
       "alt.FacetChart(...)"
      ]
     },
     "metadata": {},
     "output_type": "display_data"
    },
    {
     "data": {
      "text/html": [
       "\n",
       "<div id=\"altair-viz-cb63d6365c2e4f6fb0e3293c5ad73909\"></div>\n",
       "<script type=\"text/javascript\">\n",
       "  var VEGA_DEBUG = (typeof VEGA_DEBUG == \"undefined\") ? {} : VEGA_DEBUG;\n",
       "  (function(spec, embedOpt){\n",
       "    let outputDiv = document.currentScript.previousElementSibling;\n",
       "    if (outputDiv.id !== \"altair-viz-cb63d6365c2e4f6fb0e3293c5ad73909\") {\n",
       "      outputDiv = document.getElementById(\"altair-viz-cb63d6365c2e4f6fb0e3293c5ad73909\");\n",
       "    }\n",
       "    const paths = {\n",
       "      \"vega\": \"https://cdn.jsdelivr.net/npm//vega@5?noext\",\n",
       "      \"vega-lib\": \"https://cdn.jsdelivr.net/npm//vega-lib?noext\",\n",
       "      \"vega-lite\": \"https://cdn.jsdelivr.net/npm//vega-lite@4.17.0?noext\",\n",
       "      \"vega-embed\": \"https://cdn.jsdelivr.net/npm//vega-embed@6?noext\",\n",
       "    };\n",
       "\n",
       "    function maybeLoadScript(lib, version) {\n",
       "      var key = `${lib.replace(\"-\", \"\")}_version`;\n",
       "      return (VEGA_DEBUG[key] == version) ?\n",
       "        Promise.resolve(paths[lib]) :\n",
       "        new Promise(function(resolve, reject) {\n",
       "          var s = document.createElement('script');\n",
       "          document.getElementsByTagName(\"head\")[0].appendChild(s);\n",
       "          s.async = true;\n",
       "          s.onload = () => {\n",
       "            VEGA_DEBUG[key] = version;\n",
       "            return resolve(paths[lib]);\n",
       "          };\n",
       "          s.onerror = () => reject(`Error loading script: ${paths[lib]}`);\n",
       "          s.src = paths[lib];\n",
       "        });\n",
       "    }\n",
       "\n",
       "    function showError(err) {\n",
       "      outputDiv.innerHTML = `<div class=\"error\" style=\"color:red;\">${err}</div>`;\n",
       "      throw err;\n",
       "    }\n",
       "\n",
       "    function displayChart(vegaEmbed) {\n",
       "      vegaEmbed(outputDiv, spec, embedOpt)\n",
       "        .catch(err => showError(`Javascript Error: ${err.message}<br>This usually means there's a typo in your chart specification. See the javascript console for the full traceback.`));\n",
       "    }\n",
       "\n",
       "    if(typeof define === \"function\" && define.amd) {\n",
       "      requirejs.config({paths});\n",
       "      require([\"vega-embed\"], displayChart, err => showError(`Error loading script: ${err.message}`));\n",
       "    } else {\n",
       "      maybeLoadScript(\"vega\", \"5\")\n",
       "        .then(() => maybeLoadScript(\"vega-lite\", \"4.17.0\"))\n",
       "        .then(() => maybeLoadScript(\"vega-embed\", \"6\"))\n",
       "        .catch(showError)\n",
       "        .then(() => displayChart(vegaEmbed));\n",
       "    }\n",
       "  })({\"config\": {\"view\": {\"continuousWidth\": 400, \"continuousHeight\": 300, \"stroke\": null}, \"facet\": {\"spacing\": 0}}, \"data\": {\"name\": \"data-fbe9d3a4042dee3ffc67787eeba9af40\"}, \"facet\": {\"column\": {\"field\": \"route_id\", \"sort\": [\"12154\", \"12157\", \"12150\"], \"title\": \"Route ID\", \"type\": \"nominal\"}}, \"spec\": {\"layer\": [{\"mark\": {\"type\": \"point\", \"opacity\": 0.65, \"size\": 12, \"strokeWidth\": 1.1}, \"encoding\": {\"color\": {\"field\": \"time_of_day\", \"scale\": {\"range\": [\"#136C97\", \"#E16B26\", \"#F6BF16\", \"#00896B\", \"#7790A3\", \"#5B559C\"]}, \"sort\": [\"AM Peak\", \"Midday\", \"PM Peak\", \"Owl Service\"], \"title\": \"Time of Day\", \"type\": \"nominal\"}, \"tooltip\": [{\"field\": \"route_id\", \"type\": \"nominal\"}, {\"field\": \"trip_id\", \"type\": \"nominal\"}, {\"field\": \"service_hours\", \"type\": \"quantitative\"}, {\"field\": \"car_duration_hours\", \"type\": \"quantitative\"}, {\"field\": \"bus_multiplier\", \"type\": \"quantitative\"}, {\"field\": \"bus_difference\", \"type\": \"quantitative\"}, {\"field\": \"num_trips\", \"type\": \"quantitative\"}, {\"field\": \"num_competitive\", \"type\": \"quantitative\"}, {\"field\": \"pct_trips_competitive\", \"type\": \"quantitative\"}, {\"field\": \"p25\", \"type\": \"quantitative\"}, {\"field\": \"p50\", \"type\": \"quantitative\"}, {\"field\": \"p75\", \"type\": \"quantitative\"}], \"x\": {\"axis\": {\"grid\": false, \"labels\": false, \"ticks\": true, \"values\": [0]}, \"field\": \"jitter\", \"scale\": {}, \"title\": null, \"type\": \"quantitative\"}, \"y\": {\"field\": \"bus_difference\", \"scale\": {\"domain\": [-5, 20.0]}, \"title\": \"Difference in Bus to Car Travel Time (min)\", \"type\": \"quantitative\"}}, \"selection\": {\"selector002\": {\"type\": \"interval\", \"bind\": \"scales\", \"encodings\": [\"x\", \"y\"]}}, \"transform\": [{\"calculate\": \"sqrt(-2*log(random()))*cos(2*PI*random())\", \"as\": \"jitter\"}], \"width\": 60}, {\"layer\": [{\"mark\": {\"type\": \"point\", \"opacity\": 0.6, \"size\": 20, \"strokeWidth\": 1.3}, \"encoding\": {\"color\": {\"value\": \"#323434\"}, \"y\": {\"field\": \"bus_difference\", \"type\": \"quantitative\"}}, \"transform\": [{\"filter\": \"(datum.p50_trip === 1)\"}]}, {\"mark\": {\"type\": \"rule\", \"strokeDash\": [2, 3]}, \"encoding\": {\"color\": {\"value\": \"#323434\"}, \"y\": {\"field\": \"cutoff\", \"type\": \"quantitative\"}}}, {\"mark\": {\"type\": \"rule\", \"strokeDash\": [2, 3]}, \"encoding\": {\"color\": {\"value\": \"#136C97\"}, \"y\": {\"field\": \"cutoff2\", \"type\": \"quantitative\"}}}, {\"mark\": {\"type\": \"text\", \"align\": \"center\", \"baseline\": \"middle\"}, \"encoding\": {\"color\": {\"value\": \"black\"}, \"text\": {\"field\": \"pct_trips_competitive\", \"format\": \".0%\", \"type\": \"quantitative\"}, \"tooltip\": [{\"field\": \"route_id\", \"type\": \"nominal\"}, {\"field\": \"trip_id\", \"type\": \"nominal\"}, {\"field\": \"service_hours\", \"type\": \"quantitative\"}, {\"field\": \"car_duration_hours\", \"type\": \"quantitative\"}, {\"field\": \"bus_multiplier\", \"type\": \"quantitative\"}, {\"field\": \"bus_difference\", \"type\": \"quantitative\"}, {\"field\": \"num_trips\", \"type\": \"quantitative\"}, {\"field\": \"num_competitive\", \"type\": \"quantitative\"}, {\"field\": \"pct_trips_competitive\", \"type\": \"quantitative\"}, {\"field\": \"p25\", \"type\": \"quantitative\"}, {\"field\": \"p50\", \"type\": \"quantitative\"}, {\"field\": \"p75\", \"type\": \"quantitative\"}], \"x\": {\"value\": 30}, \"y\": {\"value\": 15}}, \"transform\": [{\"calculate\": \"sqrt(-2*log(random()))*cos(2*PI*random())\", \"as\": \"jitter\"}, {\"filter\": \"(datum.fastest_trip === 1)\"}]}]}]}, \"resolve\": {\"scale\": {\"y\": \"shared\"}}, \"title\": \"Difference in Bus to Car Travel Time (min)\", \"$schema\": \"https://vega.github.io/schema/vega-lite/v4.17.0.json\", \"datasets\": {\"data-fbe9d3a4042dee3ffc67787eeba9af40\": [{\"calitp_itp_id\": 76, \"trip_key\": -6694541282123787873, \"trip_id\": \"t_1217029_b_26812_tn_0\", \"shape_id\": \"p_498657\", \"route_id\": \"12150\", \"service_hours\": 0.33, \"trip_first_departure_ts\": 57000, \"trip_last_arrival_ts\": 58200, \"departure_hour\": 15, \"time_of_day\": \"Midday\", \"p25\": 0.5, \"p50\": 0.5, \"p75\": 0.5, \"p50_trip\": 0, \"fastest_trip\": 1, \"car_duration_hours\": 0.27, \"competitive_route\": 1, \"bus_multiplier\": 1.22, \"bus_difference\": 3.6, \"num_trips\": 10, \"num_competitive\": 10, \"pct_trips_competitive\": 1.0, \"bus_difference_spread\": 10.2, \"route_group\": \"short\", \"max_trip_hrs\": 0.5, \"max_trip_route_group\": 1.0, \"name\": \"Commute.org\", \"caltrans_district\": \"04 - Oakland\", \"drmt_organization_name\": null, \"cutoff2\": 15.0, \"cutoff\": 0}, {\"calitp_itp_id\": 76, \"trip_key\": 7130410101163284814, \"trip_id\": \"t_1217030_b_26812_tn_0\", \"shape_id\": \"p_498646\", \"route_id\": \"12150\", \"service_hours\": 0.5, \"trip_first_departure_ts\": 58200, \"trip_last_arrival_ts\": 60000, \"departure_hour\": 16, \"time_of_day\": \"Midday\", \"p25\": 0.5, \"p50\": 0.5, \"p75\": 0.5, \"p50_trip\": 1, \"fastest_trip\": 0, \"car_duration_hours\": 0.27, \"competitive_route\": 1, \"bus_multiplier\": 1.85, \"bus_difference\": 13.8, \"num_trips\": 10, \"num_competitive\": 10, \"pct_trips_competitive\": 1.0, \"bus_difference_spread\": 10.2, \"route_group\": \"short\", \"max_trip_hrs\": 0.5, \"max_trip_route_group\": 1.0, \"name\": \"Commute.org\", \"caltrans_district\": \"04 - Oakland\", \"drmt_organization_name\": null, \"cutoff2\": 15.0, \"cutoff\": 0}, {\"calitp_itp_id\": 76, \"trip_key\": 7580775275634406994, \"trip_id\": \"t_1217034_b_26812_tn_0\", \"shape_id\": \"p_498646\", \"route_id\": \"12150\", \"service_hours\": 0.5, \"trip_first_departure_ts\": 60000, \"trip_last_arrival_ts\": 61800, \"departure_hour\": 16, \"time_of_day\": \"Midday\", \"p25\": 0.5, \"p50\": 0.5, \"p75\": 0.5, \"p50_trip\": 1, \"fastest_trip\": 0, \"car_duration_hours\": 0.27, \"competitive_route\": 1, \"bus_multiplier\": 1.85, \"bus_difference\": 13.8, \"num_trips\": 10, \"num_competitive\": 10, \"pct_trips_competitive\": 1.0, \"bus_difference_spread\": 10.2, \"route_group\": \"short\", \"max_trip_hrs\": 0.5, \"max_trip_route_group\": 1.0, \"name\": \"Commute.org\", \"caltrans_district\": \"04 - Oakland\", \"drmt_organization_name\": null, \"cutoff2\": 15.0, \"cutoff\": 0}, {\"calitp_itp_id\": 76, \"trip_key\": 4867310379164857593, \"trip_id\": \"t_1217035_b_26812_tn_0\", \"shape_id\": \"p_498646\", \"route_id\": \"12150\", \"service_hours\": 0.5, \"trip_first_departure_ts\": 61800, \"trip_last_arrival_ts\": 63600, \"departure_hour\": 17, \"time_of_day\": \"PM Peak\", \"p25\": 0.5, \"p50\": 0.5, \"p75\": 0.5, \"p50_trip\": 1, \"fastest_trip\": 0, \"car_duration_hours\": 0.27, \"competitive_route\": 1, \"bus_multiplier\": 1.85, \"bus_difference\": 13.8, \"num_trips\": 10, \"num_competitive\": 10, \"pct_trips_competitive\": 1.0, \"bus_difference_spread\": 10.2, \"route_group\": \"short\", \"max_trip_hrs\": 0.5, \"max_trip_route_group\": 1.0, \"name\": \"Commute.org\", \"caltrans_district\": \"04 - Oakland\", \"drmt_organization_name\": null, \"cutoff2\": 15.0, \"cutoff\": 0}, {\"calitp_itp_id\": 76, \"trip_key\": -7438174407941609780, \"trip_id\": \"t_1217110_b_26812_tn_0\", \"shape_id\": \"p_498613\", \"route_id\": \"12150\", \"service_hours\": 0.5, \"trip_first_departure_ts\": 32400, \"trip_last_arrival_ts\": 34200, \"departure_hour\": 9, \"time_of_day\": \"AM Peak\", \"p25\": 0.5, \"p50\": 0.5, \"p75\": 0.5, \"p50_trip\": 1, \"fastest_trip\": 0, \"car_duration_hours\": 0.27, \"competitive_route\": 1, \"bus_multiplier\": 1.85, \"bus_difference\": 13.8, \"num_trips\": 10, \"num_competitive\": 10, \"pct_trips_competitive\": 1.0, \"bus_difference_spread\": 10.2, \"route_group\": \"short\", \"max_trip_hrs\": 0.5, \"max_trip_route_group\": 1.0, \"name\": \"Commute.org\", \"caltrans_district\": \"04 - Oakland\", \"drmt_organization_name\": null, \"cutoff2\": 15.0, \"cutoff\": 0}, {\"calitp_itp_id\": 76, \"trip_key\": -2949305192207123801, \"trip_id\": \"t_1217031_b_26812_tn_0\", \"shape_id\": \"p_498613\", \"route_id\": \"12150\", \"service_hours\": 0.5, \"trip_first_departure_ts\": 27000, \"trip_last_arrival_ts\": 28800, \"departure_hour\": 7, \"time_of_day\": \"AM Peak\", \"p25\": 0.5, \"p50\": 0.5, \"p75\": 0.5, \"p50_trip\": 1, \"fastest_trip\": 0, \"car_duration_hours\": 0.27, \"competitive_route\": 1, \"bus_multiplier\": 1.85, \"bus_difference\": 13.8, \"num_trips\": 10, \"num_competitive\": 10, \"pct_trips_competitive\": 1.0, \"bus_difference_spread\": 10.2, \"route_group\": \"short\", \"max_trip_hrs\": 0.5, \"max_trip_route_group\": 1.0, \"name\": \"Commute.org\", \"caltrans_district\": \"04 - Oakland\", \"drmt_organization_name\": null, \"cutoff2\": 15.0, \"cutoff\": 0}, {\"calitp_itp_id\": 76, \"trip_key\": 833134030574356437, \"trip_id\": \"t_1217027_b_26812_tn_0\", \"shape_id\": \"p_498613\", \"route_id\": \"12150\", \"service_hours\": 0.5, \"trip_first_departure_ts\": 25200, \"trip_last_arrival_ts\": 27000, \"departure_hour\": 7, \"time_of_day\": \"AM Peak\", \"p25\": 0.5, \"p50\": 0.5, \"p75\": 0.5, \"p50_trip\": 1, \"fastest_trip\": 0, \"car_duration_hours\": 0.27, \"competitive_route\": 1, \"bus_multiplier\": 1.85, \"bus_difference\": 13.8, \"num_trips\": 10, \"num_competitive\": 10, \"pct_trips_competitive\": 1.0, \"bus_difference_spread\": 10.2, \"route_group\": \"short\", \"max_trip_hrs\": 0.5, \"max_trip_route_group\": 1.0, \"name\": \"Commute.org\", \"caltrans_district\": \"04 - Oakland\", \"drmt_organization_name\": null, \"cutoff2\": 15.0, \"cutoff\": 0}, {\"calitp_itp_id\": 76, \"trip_key\": 3969225667525141346, \"trip_id\": \"t_1217245_b_26812_tn_0\", \"shape_id\": \"p_498613\", \"route_id\": \"12150\", \"service_hours\": 0.5, \"trip_first_departure_ts\": 30600, \"trip_last_arrival_ts\": 32400, \"departure_hour\": 8, \"time_of_day\": \"AM Peak\", \"p25\": 0.5, \"p50\": 0.5, \"p75\": 0.5, \"p50_trip\": 1, \"fastest_trip\": 0, \"car_duration_hours\": 0.27, \"competitive_route\": 1, \"bus_multiplier\": 1.85, \"bus_difference\": 13.8, \"num_trips\": 10, \"num_competitive\": 10, \"pct_trips_competitive\": 1.0, \"bus_difference_spread\": 10.2, \"route_group\": \"short\", \"max_trip_hrs\": 0.5, \"max_trip_route_group\": 1.0, \"name\": \"Commute.org\", \"caltrans_district\": \"04 - Oakland\", \"drmt_organization_name\": null, \"cutoff2\": 15.0, \"cutoff\": 0}, {\"calitp_itp_id\": 76, \"trip_key\": -1165701624279554946, \"trip_id\": \"t_1217246_b_26812_tn_0\", \"shape_id\": \"p_498646\", \"route_id\": \"12150\", \"service_hours\": 0.5, \"trip_first_departure_ts\": 65400, \"trip_last_arrival_ts\": 67200, \"departure_hour\": 18, \"time_of_day\": \"PM Peak\", \"p25\": 0.5, \"p50\": 0.5, \"p75\": 0.5, \"p50_trip\": 1, \"fastest_trip\": 0, \"car_duration_hours\": 0.27, \"competitive_route\": 1, \"bus_multiplier\": 1.85, \"bus_difference\": 13.8, \"num_trips\": 10, \"num_competitive\": 10, \"pct_trips_competitive\": 1.0, \"bus_difference_spread\": 10.2, \"route_group\": \"short\", \"max_trip_hrs\": 0.5, \"max_trip_route_group\": 1.0, \"name\": \"Commute.org\", \"caltrans_district\": \"04 - Oakland\", \"drmt_organization_name\": null, \"cutoff2\": 15.0, \"cutoff\": 0}, {\"calitp_itp_id\": 76, \"trip_key\": -5160369209345849937, \"trip_id\": \"t_1217032_b_26812_tn_0\", \"shape_id\": \"p_498613\", \"route_id\": \"12150\", \"service_hours\": 0.5, \"trip_first_departure_ts\": 28800, \"trip_last_arrival_ts\": 30600, \"departure_hour\": 8, \"time_of_day\": \"AM Peak\", \"p25\": 0.5, \"p50\": 0.5, \"p75\": 0.5, \"p50_trip\": 1, \"fastest_trip\": 0, \"car_duration_hours\": 0.27, \"competitive_route\": 1, \"bus_multiplier\": 1.85, \"bus_difference\": 13.8, \"num_trips\": 10, \"num_competitive\": 10, \"pct_trips_competitive\": 1.0, \"bus_difference_spread\": 10.2, \"route_group\": \"short\", \"max_trip_hrs\": 0.5, \"max_trip_route_group\": 1.0, \"name\": \"Commute.org\", \"caltrans_district\": \"04 - Oakland\", \"drmt_organization_name\": null, \"cutoff2\": 15.0, \"cutoff\": 0}, {\"calitp_itp_id\": 76, \"trip_key\": -1879058847509348152, \"trip_id\": \"t_1217202_b_26812_tn_0\", \"shape_id\": \"p_788189\", \"route_id\": \"12154\", \"service_hours\": 0.37, \"trip_first_departure_ts\": 23700, \"trip_last_arrival_ts\": 25020, \"departure_hour\": 6, \"time_of_day\": \"Owl Service\", \"p25\": 0.37, \"p50\": 0.375, \"p75\": 0.38, \"p50_trip\": 1, \"fastest_trip\": 0, \"car_duration_hours\": 0.23, \"competitive_route\": 1, \"bus_multiplier\": 1.61, \"bus_difference\": 8.4, \"num_trips\": 30, \"num_competitive\": 30, \"pct_trips_competitive\": 1.0, \"bus_difference_spread\": 1.8, \"route_group\": \"short\", \"max_trip_hrs\": 0.4, \"max_trip_route_group\": 1.0, \"name\": \"Commute.org\", \"caltrans_district\": \"04 - Oakland\", \"drmt_organization_name\": null, \"cutoff2\": 15.0, \"cutoff\": 0}, {\"calitp_itp_id\": 76, \"trip_key\": 3555761122150589718, \"trip_id\": \"t_1490396_b_26812_tn_0\", \"shape_id\": \"p_788189\", \"route_id\": \"12154\", \"service_hours\": 0.37, \"trip_first_departure_ts\": 32340, \"trip_last_arrival_ts\": 33660, \"departure_hour\": 8, \"time_of_day\": \"AM Peak\", \"p25\": 0.37, \"p50\": 0.375, \"p75\": 0.38, \"p50_trip\": 1, \"fastest_trip\": 0, \"car_duration_hours\": 0.23, \"competitive_route\": 1, \"bus_multiplier\": 1.61, \"bus_difference\": 8.4, \"num_trips\": 30, \"num_competitive\": 30, \"pct_trips_competitive\": 1.0, \"bus_difference_spread\": 1.8, \"route_group\": \"short\", \"max_trip_hrs\": 0.4, \"max_trip_route_group\": 1.0, \"name\": \"Commute.org\", \"caltrans_district\": \"04 - Oakland\", \"drmt_organization_name\": null, \"cutoff2\": 15.0, \"cutoff\": 0}, {\"calitp_itp_id\": 76, \"trip_key\": 5397318917761666913, \"trip_id\": \"t_1490395_b_26812_tn_0\", \"shape_id\": \"p_788189\", \"route_id\": \"12154\", \"service_hours\": 0.37, \"trip_first_departure_ts\": 31560, \"trip_last_arrival_ts\": 32880, \"departure_hour\": 8, \"time_of_day\": \"AM Peak\", \"p25\": 0.37, \"p50\": 0.375, \"p75\": 0.38, \"p50_trip\": 1, \"fastest_trip\": 0, \"car_duration_hours\": 0.23, \"competitive_route\": 1, \"bus_multiplier\": 1.61, \"bus_difference\": 8.4, \"num_trips\": 30, \"num_competitive\": 30, \"pct_trips_competitive\": 1.0, \"bus_difference_spread\": 1.8, \"route_group\": \"short\", \"max_trip_hrs\": 0.4, \"max_trip_route_group\": 1.0, \"name\": \"Commute.org\", \"caltrans_district\": \"04 - Oakland\", \"drmt_organization_name\": null, \"cutoff2\": 15.0, \"cutoff\": 0}, {\"calitp_itp_id\": 76, \"trip_key\": 4671364061967569865, \"trip_id\": \"t_1490393_b_26812_tn_0\", \"shape_id\": \"p_788189\", \"route_id\": \"12154\", \"service_hours\": 0.37, \"trip_first_departure_ts\": 30120, \"trip_last_arrival_ts\": 31440, \"departure_hour\": 8, \"time_of_day\": \"AM Peak\", \"p25\": 0.37, \"p50\": 0.375, \"p75\": 0.38, \"p50_trip\": 1, \"fastest_trip\": 0, \"car_duration_hours\": 0.23, \"competitive_route\": 1, \"bus_multiplier\": 1.61, \"bus_difference\": 8.4, \"num_trips\": 30, \"num_competitive\": 30, \"pct_trips_competitive\": 1.0, \"bus_difference_spread\": 1.8, \"route_group\": \"short\", \"max_trip_hrs\": 0.4, \"max_trip_route_group\": 1.0, \"name\": \"Commute.org\", \"caltrans_district\": \"04 - Oakland\", \"drmt_organization_name\": null, \"cutoff2\": 15.0, \"cutoff\": 0}, {\"calitp_itp_id\": 76, \"trip_key\": -129223440492556709, \"trip_id\": \"t_1217205_b_26812_tn_0\", \"shape_id\": \"p_788189\", \"route_id\": \"12154\", \"service_hours\": 0.37, \"trip_first_departure_ts\": 25920, \"trip_last_arrival_ts\": 27240, \"departure_hour\": 7, \"time_of_day\": \"AM Peak\", \"p25\": 0.37, \"p50\": 0.375, \"p75\": 0.38, \"p50_trip\": 1, \"fastest_trip\": 0, \"car_duration_hours\": 0.23, \"competitive_route\": 1, \"bus_multiplier\": 1.61, \"bus_difference\": 8.4, \"num_trips\": 30, \"num_competitive\": 30, \"pct_trips_competitive\": 1.0, \"bus_difference_spread\": 1.8, \"route_group\": \"short\", \"max_trip_hrs\": 0.4, \"max_trip_route_group\": 1.0, \"name\": \"Commute.org\", \"caltrans_district\": \"04 - Oakland\", \"drmt_organization_name\": null, \"cutoff2\": 15.0, \"cutoff\": 0}, {\"calitp_itp_id\": 76, \"trip_key\": 3952629592327947872, \"trip_id\": \"t_1490394_b_26812_tn_0\", \"shape_id\": \"p_788189\", \"route_id\": \"12154\", \"service_hours\": 0.37, \"trip_first_departure_ts\": 30900, \"trip_last_arrival_ts\": 32220, \"departure_hour\": 8, \"time_of_day\": \"AM Peak\", \"p25\": 0.37, \"p50\": 0.375, \"p75\": 0.38, \"p50_trip\": 1, \"fastest_trip\": 0, \"car_duration_hours\": 0.23, \"competitive_route\": 1, \"bus_multiplier\": 1.61, \"bus_difference\": 8.4, \"num_trips\": 30, \"num_competitive\": 30, \"pct_trips_competitive\": 1.0, \"bus_difference_spread\": 1.8, \"route_group\": \"short\", \"max_trip_hrs\": 0.4, \"max_trip_route_group\": 1.0, \"name\": \"Commute.org\", \"caltrans_district\": \"04 - Oakland\", \"drmt_organization_name\": null, \"cutoff2\": 15.0, \"cutoff\": 0}, {\"calitp_itp_id\": 76, \"trip_key\": 1799338229586340633, \"trip_id\": \"t_1217247_b_26812_tn_0\", \"shape_id\": \"p_788189\", \"route_id\": \"12154\", \"service_hours\": 0.37, \"trip_first_departure_ts\": 27300, \"trip_last_arrival_ts\": 28620, \"departure_hour\": 7, \"time_of_day\": \"AM Peak\", \"p25\": 0.37, \"p50\": 0.375, \"p75\": 0.38, \"p50_trip\": 1, \"fastest_trip\": 0, \"car_duration_hours\": 0.23, \"competitive_route\": 1, \"bus_multiplier\": 1.61, \"bus_difference\": 8.4, \"num_trips\": 30, \"num_competitive\": 30, \"pct_trips_competitive\": 1.0, \"bus_difference_spread\": 1.8, \"route_group\": \"short\", \"max_trip_hrs\": 0.4, \"max_trip_route_group\": 1.0, \"name\": \"Commute.org\", \"caltrans_district\": \"04 - Oakland\", \"drmt_organization_name\": null, \"cutoff2\": 15.0, \"cutoff\": 0}, {\"calitp_itp_id\": 76, \"trip_key\": 1912475181945157787, \"trip_id\": \"t_1490392_b_26812_tn_0\", \"shape_id\": \"p_788189\", \"route_id\": \"12154\", \"service_hours\": 0.37, \"trip_first_departure_ts\": 29520, \"trip_last_arrival_ts\": 30840, \"departure_hour\": 8, \"time_of_day\": \"AM Peak\", \"p25\": 0.37, \"p50\": 0.375, \"p75\": 0.38, \"p50_trip\": 1, \"fastest_trip\": 0, \"car_duration_hours\": 0.23, \"competitive_route\": 1, \"bus_multiplier\": 1.61, \"bus_difference\": 8.4, \"num_trips\": 30, \"num_competitive\": 30, \"pct_trips_competitive\": 1.0, \"bus_difference_spread\": 1.8, \"route_group\": \"short\", \"max_trip_hrs\": 0.4, \"max_trip_route_group\": 1.0, \"name\": \"Commute.org\", \"caltrans_district\": \"04 - Oakland\", \"drmt_organization_name\": null, \"cutoff2\": 15.0, \"cutoff\": 0}, {\"calitp_itp_id\": 76, \"trip_key\": -2531912485619376852, \"trip_id\": \"t_1490398_b_26812_tn_0\", \"shape_id\": \"p_788189\", \"route_id\": \"12154\", \"service_hours\": 0.37, \"trip_first_departure_ts\": 33720, \"trip_last_arrival_ts\": 35040, \"departure_hour\": 9, \"time_of_day\": \"AM Peak\", \"p25\": 0.37, \"p50\": 0.375, \"p75\": 0.38, \"p50_trip\": 1, \"fastest_trip\": 1, \"car_duration_hours\": 0.23, \"competitive_route\": 1, \"bus_multiplier\": 1.61, \"bus_difference\": 8.4, \"num_trips\": 30, \"num_competitive\": 30, \"pct_trips_competitive\": 1.0, \"bus_difference_spread\": 1.8, \"route_group\": \"short\", \"max_trip_hrs\": 0.4, \"max_trip_route_group\": 1.0, \"name\": \"Commute.org\", \"caltrans_district\": \"04 - Oakland\", \"drmt_organization_name\": null, \"cutoff2\": 15.0, \"cutoff\": 0}, {\"calitp_itp_id\": 76, \"trip_key\": 2336445493792023776, \"trip_id\": \"t_1217204_b_26812_tn_0\", \"shape_id\": \"p_788189\", \"route_id\": \"12154\", \"service_hours\": 0.37, \"trip_first_departure_ts\": 25140, \"trip_last_arrival_ts\": 26460, \"departure_hour\": 6, \"time_of_day\": \"Owl Service\", \"p25\": 0.37, \"p50\": 0.375, \"p75\": 0.38, \"p50_trip\": 1, \"fastest_trip\": 0, \"car_duration_hours\": 0.23, \"competitive_route\": 1, \"bus_multiplier\": 1.61, \"bus_difference\": 8.4, \"num_trips\": 30, \"num_competitive\": 30, \"pct_trips_competitive\": 1.0, \"bus_difference_spread\": 1.8, \"route_group\": \"short\", \"max_trip_hrs\": 0.4, \"max_trip_route_group\": 1.0, \"name\": \"Commute.org\", \"caltrans_district\": \"04 - Oakland\", \"drmt_organization_name\": null, \"cutoff2\": 15.0, \"cutoff\": 0}, {\"calitp_itp_id\": 76, \"trip_key\": 457253447294300613, \"trip_id\": \"t_1490390_b_26812_tn_0\", \"shape_id\": \"p_788189\", \"route_id\": \"12154\", \"service_hours\": 0.37, \"trip_first_departure_ts\": 27960, \"trip_last_arrival_ts\": 29280, \"departure_hour\": 7, \"time_of_day\": \"AM Peak\", \"p25\": 0.37, \"p50\": 0.375, \"p75\": 0.38, \"p50_trip\": 1, \"fastest_trip\": 0, \"car_duration_hours\": 0.23, \"competitive_route\": 1, \"bus_multiplier\": 1.61, \"bus_difference\": 8.4, \"num_trips\": 30, \"num_competitive\": 30, \"pct_trips_competitive\": 1.0, \"bus_difference_spread\": 1.8, \"route_group\": \"short\", \"max_trip_hrs\": 0.4, \"max_trip_route_group\": 1.0, \"name\": \"Commute.org\", \"caltrans_district\": \"04 - Oakland\", \"drmt_organization_name\": null, \"cutoff2\": 15.0, \"cutoff\": 0}, {\"calitp_itp_id\": 76, \"trip_key\": -222251055215551227, \"trip_id\": \"t_1217203_b_26812_tn_0\", \"shape_id\": \"p_788189\", \"route_id\": \"12154\", \"service_hours\": 0.37, \"trip_first_departure_ts\": 24360, \"trip_last_arrival_ts\": 25680, \"departure_hour\": 6, \"time_of_day\": \"Owl Service\", \"p25\": 0.37, \"p50\": 0.375, \"p75\": 0.38, \"p50_trip\": 1, \"fastest_trip\": 0, \"car_duration_hours\": 0.23, \"competitive_route\": 1, \"bus_multiplier\": 1.61, \"bus_difference\": 8.4, \"num_trips\": 30, \"num_competitive\": 30, \"pct_trips_competitive\": 1.0, \"bus_difference_spread\": 1.8, \"route_group\": \"short\", \"max_trip_hrs\": 0.4, \"max_trip_route_group\": 1.0, \"name\": \"Commute.org\", \"caltrans_district\": \"04 - Oakland\", \"drmt_organization_name\": null, \"cutoff2\": 15.0, \"cutoff\": 0}, {\"calitp_itp_id\": 76, \"trip_key\": 9040812461413631102, \"trip_id\": \"t_1490391_b_26812_tn_0\", \"shape_id\": \"p_788189\", \"route_id\": \"12154\", \"service_hours\": 0.37, \"trip_first_departure_ts\": 28740, \"trip_last_arrival_ts\": 30060, \"departure_hour\": 7, \"time_of_day\": \"AM Peak\", \"p25\": 0.37, \"p50\": 0.375, \"p75\": 0.38, \"p50_trip\": 1, \"fastest_trip\": 0, \"car_duration_hours\": 0.23, \"competitive_route\": 1, \"bus_multiplier\": 1.61, \"bus_difference\": 8.4, \"num_trips\": 30, \"num_competitive\": 30, \"pct_trips_competitive\": 1.0, \"bus_difference_spread\": 1.8, \"route_group\": \"short\", \"max_trip_hrs\": 0.4, \"max_trip_route_group\": 1.0, \"name\": \"Commute.org\", \"caltrans_district\": \"04 - Oakland\", \"drmt_organization_name\": null, \"cutoff2\": 15.0, \"cutoff\": 0}, {\"calitp_itp_id\": 76, \"trip_key\": 3372714642285167049, \"trip_id\": \"t_1218721_b_26812_tn_0\", \"shape_id\": \"p_788189\", \"route_id\": \"12154\", \"service_hours\": 0.37, \"trip_first_departure_ts\": 26520, \"trip_last_arrival_ts\": 27840, \"departure_hour\": 7, \"time_of_day\": \"AM Peak\", \"p25\": 0.37, \"p50\": 0.375, \"p75\": 0.38, \"p50_trip\": 1, \"fastest_trip\": 0, \"car_duration_hours\": 0.23, \"competitive_route\": 1, \"bus_multiplier\": 1.61, \"bus_difference\": 8.4, \"num_trips\": 30, \"num_competitive\": 30, \"pct_trips_competitive\": 1.0, \"bus_difference_spread\": 1.8, \"route_group\": \"short\", \"max_trip_hrs\": 0.4, \"max_trip_route_group\": 1.0, \"name\": \"Commute.org\", \"caltrans_district\": \"04 - Oakland\", \"drmt_organization_name\": null, \"cutoff2\": 15.0, \"cutoff\": 0}, {\"calitp_itp_id\": 76, \"trip_key\": 3979972868979813931, \"trip_id\": \"t_1490397_b_26812_tn_0\", \"shape_id\": \"p_788189\", \"route_id\": \"12154\", \"service_hours\": 0.37, \"trip_first_departure_ts\": 33120, \"trip_last_arrival_ts\": 34440, \"departure_hour\": 9, \"time_of_day\": \"AM Peak\", \"p25\": 0.37, \"p50\": 0.375, \"p75\": 0.38, \"p50_trip\": 1, \"fastest_trip\": 0, \"car_duration_hours\": 0.23, \"competitive_route\": 1, \"bus_multiplier\": 1.61, \"bus_difference\": 8.4, \"num_trips\": 30, \"num_competitive\": 30, \"pct_trips_competitive\": 1.0, \"bus_difference_spread\": 1.8, \"route_group\": \"short\", \"max_trip_hrs\": 0.4, \"max_trip_route_group\": 1.0, \"name\": \"Commute.org\", \"caltrans_district\": \"04 - Oakland\", \"drmt_organization_name\": null, \"cutoff2\": 15.0, \"cutoff\": 0}, {\"calitp_itp_id\": 76, \"trip_key\": 7500866329819357079, \"trip_id\": \"t_1217122_b_26812_tn_0\", \"shape_id\": \"p_788189\", \"route_id\": \"12154\", \"service_hours\": 0.38, \"trip_first_departure_ts\": 57600, \"trip_last_arrival_ts\": 58980, \"departure_hour\": 16, \"time_of_day\": \"Midday\", \"p25\": 0.37, \"p50\": 0.375, \"p75\": 0.38, \"p50_trip\": 1, \"fastest_trip\": 0, \"car_duration_hours\": 0.23, \"competitive_route\": 1, \"bus_multiplier\": 1.65, \"bus_difference\": 9.0, \"num_trips\": 30, \"num_competitive\": 30, \"pct_trips_competitive\": 1.0, \"bus_difference_spread\": 1.8, \"route_group\": \"short\", \"max_trip_hrs\": 0.4, \"max_trip_route_group\": 1.0, \"name\": \"Commute.org\", \"caltrans_district\": \"04 - Oakland\", \"drmt_organization_name\": null, \"cutoff2\": 15.0, \"cutoff\": 0}, {\"calitp_itp_id\": 76, \"trip_key\": -8827996331669029243, \"trip_id\": \"t_1490404_b_26812_tn_0\", \"shape_id\": \"p_788189\", \"route_id\": \"12154\", \"service_hours\": 0.38, \"trip_first_departure_ts\": 63300, \"trip_last_arrival_ts\": 64680, \"departure_hour\": 17, \"time_of_day\": \"PM Peak\", \"p25\": 0.37, \"p50\": 0.375, \"p75\": 0.38, \"p50_trip\": 1, \"fastest_trip\": 0, \"car_duration_hours\": 0.23, \"competitive_route\": 1, \"bus_multiplier\": 1.65, \"bus_difference\": 9.0, \"num_trips\": 30, \"num_competitive\": 30, \"pct_trips_competitive\": 1.0, \"bus_difference_spread\": 1.8, \"route_group\": \"short\", \"max_trip_hrs\": 0.4, \"max_trip_route_group\": 1.0, \"name\": \"Commute.org\", \"caltrans_district\": \"04 - Oakland\", \"drmt_organization_name\": null, \"cutoff2\": 15.0, \"cutoff\": 0}, {\"calitp_itp_id\": 76, \"trip_key\": 8329705900429361308, \"trip_id\": \"t_1490403_b_26812_tn_0\", \"shape_id\": \"p_788189\", \"route_id\": \"12154\", \"service_hours\": 0.38, \"trip_first_departure_ts\": 62760, \"trip_last_arrival_ts\": 64140, \"departure_hour\": 17, \"time_of_day\": \"PM Peak\", \"p25\": 0.37, \"p50\": 0.375, \"p75\": 0.38, \"p50_trip\": 1, \"fastest_trip\": 0, \"car_duration_hours\": 0.23, \"competitive_route\": 1, \"bus_multiplier\": 1.65, \"bus_difference\": 9.0, \"num_trips\": 30, \"num_competitive\": 30, \"pct_trips_competitive\": 1.0, \"bus_difference_spread\": 1.8, \"route_group\": \"short\", \"max_trip_hrs\": 0.4, \"max_trip_route_group\": 1.0, \"name\": \"Commute.org\", \"caltrans_district\": \"04 - Oakland\", \"drmt_organization_name\": null, \"cutoff2\": 15.0, \"cutoff\": 0}, {\"calitp_itp_id\": 76, \"trip_key\": -6552670415709452550, \"trip_id\": \"t_1217206_b_26812_tn_0\", \"shape_id\": \"p_788189\", \"route_id\": \"12154\", \"service_hours\": 0.38, \"trip_first_departure_ts\": 56160, \"trip_last_arrival_ts\": 57540, \"departure_hour\": 15, \"time_of_day\": \"Midday\", \"p25\": 0.37, \"p50\": 0.375, \"p75\": 0.38, \"p50_trip\": 1, \"fastest_trip\": 0, \"car_duration_hours\": 0.23, \"competitive_route\": 1, \"bus_multiplier\": 1.65, \"bus_difference\": 9.0, \"num_trips\": 30, \"num_competitive\": 30, \"pct_trips_competitive\": 1.0, \"bus_difference_spread\": 1.8, \"route_group\": \"short\", \"max_trip_hrs\": 0.4, \"max_trip_route_group\": 1.0, \"name\": \"Commute.org\", \"caltrans_district\": \"04 - Oakland\", \"drmt_organization_name\": null, \"cutoff2\": 15.0, \"cutoff\": 0}, {\"calitp_itp_id\": 76, \"trip_key\": -569235497105708294, \"trip_id\": \"t_1218726_b_26812_tn_0\", \"shape_id\": \"p_788189\", \"route_id\": \"12154\", \"service_hours\": 0.38, \"trip_first_departure_ts\": 59160, \"trip_last_arrival_ts\": 60540, \"departure_hour\": 16, \"time_of_day\": \"Midday\", \"p25\": 0.37, \"p50\": 0.375, \"p75\": 0.38, \"p50_trip\": 1, \"fastest_trip\": 0, \"car_duration_hours\": 0.23, \"competitive_route\": 1, \"bus_multiplier\": 1.65, \"bus_difference\": 9.0, \"num_trips\": 30, \"num_competitive\": 30, \"pct_trips_competitive\": 1.0, \"bus_difference_spread\": 1.8, \"route_group\": \"short\", \"max_trip_hrs\": 0.4, \"max_trip_route_group\": 1.0, \"name\": \"Commute.org\", \"caltrans_district\": \"04 - Oakland\", \"drmt_organization_name\": null, \"cutoff2\": 15.0, \"cutoff\": 0}, {\"calitp_itp_id\": 76, \"trip_key\": -9081008818698821200, \"trip_id\": \"t_1217207_b_26812_tn_0\", \"shape_id\": \"p_788189\", \"route_id\": \"12154\", \"service_hours\": 0.38, \"trip_first_departure_ts\": 56940, \"trip_last_arrival_ts\": 58320, \"departure_hour\": 15, \"time_of_day\": \"Midday\", \"p25\": 0.37, \"p50\": 0.375, \"p75\": 0.38, \"p50_trip\": 1, \"fastest_trip\": 0, \"car_duration_hours\": 0.23, \"competitive_route\": 1, \"bus_multiplier\": 1.65, \"bus_difference\": 9.0, \"num_trips\": 30, \"num_competitive\": 30, \"pct_trips_competitive\": 1.0, \"bus_difference_spread\": 1.8, \"route_group\": \"short\", \"max_trip_hrs\": 0.4, \"max_trip_route_group\": 1.0, \"name\": \"Commute.org\", \"caltrans_district\": \"04 - Oakland\", \"drmt_organization_name\": null, \"cutoff2\": 15.0, \"cutoff\": 0}, {\"calitp_itp_id\": 76, \"trip_key\": -5349921103047156292, \"trip_id\": \"t_1490405_b_26812_tn_0\", \"shape_id\": \"p_788189\", \"route_id\": \"12154\", \"service_hours\": 0.38, \"trip_first_departure_ts\": 64140, \"trip_last_arrival_ts\": 65520, \"departure_hour\": 17, \"time_of_day\": \"PM Peak\", \"p25\": 0.37, \"p50\": 0.375, \"p75\": 0.38, \"p50_trip\": 1, \"fastest_trip\": 0, \"car_duration_hours\": 0.23, \"competitive_route\": 1, \"bus_multiplier\": 1.65, \"bus_difference\": 9.0, \"num_trips\": 30, \"num_competitive\": 30, \"pct_trips_competitive\": 1.0, \"bus_difference_spread\": 1.8, \"route_group\": \"short\", \"max_trip_hrs\": 0.4, \"max_trip_route_group\": 1.0, \"name\": \"Commute.org\", \"caltrans_district\": \"04 - Oakland\", \"drmt_organization_name\": null, \"cutoff2\": 15.0, \"cutoff\": 0}, {\"calitp_itp_id\": 76, \"trip_key\": 1603548273195350260, \"trip_id\": \"t_1490406_b_26812_tn_0\", \"shape_id\": \"p_788189\", \"route_id\": \"12154\", \"service_hours\": 0.38, \"trip_first_departure_ts\": 64800, \"trip_last_arrival_ts\": 66180, \"departure_hour\": 18, \"time_of_day\": \"PM Peak\", \"p25\": 0.37, \"p50\": 0.375, \"p75\": 0.38, \"p50_trip\": 1, \"fastest_trip\": 0, \"car_duration_hours\": 0.23, \"competitive_route\": 1, \"bus_multiplier\": 1.65, \"bus_difference\": 9.0, \"num_trips\": 30, \"num_competitive\": 30, \"pct_trips_competitive\": 1.0, \"bus_difference_spread\": 1.8, \"route_group\": \"short\", \"max_trip_hrs\": 0.4, \"max_trip_route_group\": 1.0, \"name\": \"Commute.org\", \"caltrans_district\": \"04 - Oakland\", \"drmt_organization_name\": null, \"cutoff2\": 15.0, \"cutoff\": 0}, {\"calitp_itp_id\": 76, \"trip_key\": -1589719186797678027, \"trip_id\": \"t_1490407_b_26812_tn_0\", \"shape_id\": \"p_788189\", \"route_id\": \"12154\", \"service_hours\": 0.38, \"trip_first_departure_ts\": 65520, \"trip_last_arrival_ts\": 66900, \"departure_hour\": 18, \"time_of_day\": \"PM Peak\", \"p25\": 0.37, \"p50\": 0.375, \"p75\": 0.38, \"p50_trip\": 1, \"fastest_trip\": 0, \"car_duration_hours\": 0.23, \"competitive_route\": 1, \"bus_multiplier\": 1.65, \"bus_difference\": 9.0, \"num_trips\": 30, \"num_competitive\": 30, \"pct_trips_competitive\": 1.0, \"bus_difference_spread\": 1.8, \"route_group\": \"short\", \"max_trip_hrs\": 0.4, \"max_trip_route_group\": 1.0, \"name\": \"Commute.org\", \"caltrans_district\": \"04 - Oakland\", \"drmt_organization_name\": null, \"cutoff2\": 15.0, \"cutoff\": 0}, {\"calitp_itp_id\": 76, \"trip_key\": -8575264985102153867, \"trip_id\": \"t_1490400_b_26812_tn_0\", \"shape_id\": \"p_788189\", \"route_id\": \"12154\", \"service_hours\": 0.38, \"trip_first_departure_ts\": 60540, \"trip_last_arrival_ts\": 61920, \"departure_hour\": 16, \"time_of_day\": \"Midday\", \"p25\": 0.37, \"p50\": 0.375, \"p75\": 0.38, \"p50_trip\": 1, \"fastest_trip\": 0, \"car_duration_hours\": 0.23, \"competitive_route\": 1, \"bus_multiplier\": 1.65, \"bus_difference\": 9.0, \"num_trips\": 30, \"num_competitive\": 30, \"pct_trips_competitive\": 1.0, \"bus_difference_spread\": 1.8, \"route_group\": \"short\", \"max_trip_hrs\": 0.4, \"max_trip_route_group\": 1.0, \"name\": \"Commute.org\", \"caltrans_district\": \"04 - Oakland\", \"drmt_organization_name\": null, \"cutoff2\": 15.0, \"cutoff\": 0}, {\"calitp_itp_id\": 76, \"trip_key\": 8045853403562253675, \"trip_id\": \"t_1217248_b_26812_tn_0\", \"shape_id\": \"p_788189\", \"route_id\": \"12154\", \"service_hours\": 0.38, \"trip_first_departure_ts\": 55500, \"trip_last_arrival_ts\": 56880, \"departure_hour\": 15, \"time_of_day\": \"Midday\", \"p25\": 0.37, \"p50\": 0.375, \"p75\": 0.38, \"p50_trip\": 1, \"fastest_trip\": 0, \"car_duration_hours\": 0.23, \"competitive_route\": 1, \"bus_multiplier\": 1.65, \"bus_difference\": 9.0, \"num_trips\": 30, \"num_competitive\": 30, \"pct_trips_competitive\": 1.0, \"bus_difference_spread\": 1.8, \"route_group\": \"short\", \"max_trip_hrs\": 0.4, \"max_trip_route_group\": 1.0, \"name\": \"Commute.org\", \"caltrans_district\": \"04 - Oakland\", \"drmt_organization_name\": null, \"cutoff2\": 15.0, \"cutoff\": 0}, {\"calitp_itp_id\": 76, \"trip_key\": 5820358487635437821, \"trip_id\": \"t_1218725_b_26812_tn_0\", \"shape_id\": \"p_788189\", \"route_id\": \"12154\", \"service_hours\": 0.38, \"trip_first_departure_ts\": 58320, \"trip_last_arrival_ts\": 59700, \"departure_hour\": 16, \"time_of_day\": \"Midday\", \"p25\": 0.37, \"p50\": 0.375, \"p75\": 0.38, \"p50_trip\": 1, \"fastest_trip\": 0, \"car_duration_hours\": 0.23, \"competitive_route\": 1, \"bus_multiplier\": 1.65, \"bus_difference\": 9.0, \"num_trips\": 30, \"num_competitive\": 30, \"pct_trips_competitive\": 1.0, \"bus_difference_spread\": 1.8, \"route_group\": \"short\", \"max_trip_hrs\": 0.4, \"max_trip_route_group\": 1.0, \"name\": \"Commute.org\", \"caltrans_district\": \"04 - Oakland\", \"drmt_organization_name\": null, \"cutoff2\": 15.0, \"cutoff\": 0}, {\"calitp_itp_id\": 76, \"trip_key\": -2332697120790423620, \"trip_id\": \"t_1490399_b_26812_tn_0\", \"shape_id\": \"p_788189\", \"route_id\": \"12154\", \"service_hours\": 0.38, \"trip_first_departure_ts\": 59760, \"trip_last_arrival_ts\": 61140, \"departure_hour\": 16, \"time_of_day\": \"Midday\", \"p25\": 0.37, \"p50\": 0.375, \"p75\": 0.38, \"p50_trip\": 1, \"fastest_trip\": 0, \"car_duration_hours\": 0.23, \"competitive_route\": 1, \"bus_multiplier\": 1.65, \"bus_difference\": 9.0, \"num_trips\": 30, \"num_competitive\": 30, \"pct_trips_competitive\": 1.0, \"bus_difference_spread\": 1.8, \"route_group\": \"short\", \"max_trip_hrs\": 0.4, \"max_trip_route_group\": 1.0, \"name\": \"Commute.org\", \"caltrans_district\": \"04 - Oakland\", \"drmt_organization_name\": null, \"cutoff2\": 15.0, \"cutoff\": 0}, {\"calitp_itp_id\": 76, \"trip_key\": 9051299505432944462, \"trip_id\": \"t_1490402_b_26812_tn_0\", \"shape_id\": \"p_788189\", \"route_id\": \"12154\", \"service_hours\": 0.38, \"trip_first_departure_ts\": 61920, \"trip_last_arrival_ts\": 63300, \"departure_hour\": 17, \"time_of_day\": \"PM Peak\", \"p25\": 0.37, \"p50\": 0.375, \"p75\": 0.38, \"p50_trip\": 1, \"fastest_trip\": 0, \"car_duration_hours\": 0.23, \"competitive_route\": 1, \"bus_multiplier\": 1.65, \"bus_difference\": 9.0, \"num_trips\": 30, \"num_competitive\": 30, \"pct_trips_competitive\": 1.0, \"bus_difference_spread\": 1.8, \"route_group\": \"short\", \"max_trip_hrs\": 0.4, \"max_trip_route_group\": 1.0, \"name\": \"Commute.org\", \"caltrans_district\": \"04 - Oakland\", \"drmt_organization_name\": null, \"cutoff2\": 15.0, \"cutoff\": 0}, {\"calitp_itp_id\": 76, \"trip_key\": 2378368036577341957, \"trip_id\": \"t_1490401_b_26812_tn_0\", \"shape_id\": \"p_788189\", \"route_id\": \"12154\", \"service_hours\": 0.4, \"trip_first_departure_ts\": 61140, \"trip_last_arrival_ts\": 62580, \"departure_hour\": 16, \"time_of_day\": \"Midday\", \"p25\": 0.37, \"p50\": 0.375, \"p75\": 0.38, \"p50_trip\": 0, \"fastest_trip\": 0, \"car_duration_hours\": 0.23, \"competitive_route\": 1, \"bus_multiplier\": 1.74, \"bus_difference\": 10.2, \"num_trips\": 30, \"num_competitive\": 30, \"pct_trips_competitive\": 1.0, \"bus_difference_spread\": 1.8, \"route_group\": \"short\", \"max_trip_hrs\": 0.4, \"max_trip_route_group\": 1.0, \"name\": \"Commute.org\", \"caltrans_district\": \"04 - Oakland\", \"drmt_organization_name\": null, \"cutoff2\": 15.0, \"cutoff\": 0}, {\"calitp_itp_id\": 76, \"trip_key\": -3518993468761310057, \"trip_id\": \"t_1217193_b_26812_tn_0\", \"shape_id\": \"p_745243\", \"route_id\": \"12157\", \"service_hours\": 0.3, \"trip_first_departure_ts\": 33900, \"trip_last_arrival_ts\": 34980, \"departure_hour\": 9, \"time_of_day\": \"AM Peak\", \"p25\": 0.4, \"p50\": 0.4, \"p75\": 0.47, \"p50_trip\": 0, \"fastest_trip\": 1, \"car_duration_hours\": 0.28, \"competitive_route\": 1, \"bus_multiplier\": 1.07, \"bus_difference\": 1.2, \"num_trips\": 14, \"num_competitive\": 14, \"pct_trips_competitive\": 1.0, \"bus_difference_spread\": 15.0, \"route_group\": \"short\", \"max_trip_hrs\": 0.55, \"max_trip_route_group\": 1.0, \"name\": \"Commute.org\", \"caltrans_district\": \"04 - Oakland\", \"drmt_organization_name\": null, \"cutoff2\": 15.0, \"cutoff\": 0}, {\"calitp_itp_id\": 76, \"trip_key\": -670183993196852318, \"trip_id\": \"t_1217195_b_26812_tn_0\", \"shape_id\": \"p_745242\", \"route_id\": \"12157\", \"service_hours\": 0.33, \"trip_first_departure_ts\": 53280, \"trip_last_arrival_ts\": 54480, \"departure_hour\": 14, \"time_of_day\": \"Midday\", \"p25\": 0.4, \"p50\": 0.4, \"p75\": 0.47, \"p50_trip\": 0, \"fastest_trip\": 0, \"car_duration_hours\": 0.28, \"competitive_route\": 1, \"bus_multiplier\": 1.18, \"bus_difference\": 3.0, \"num_trips\": 14, \"num_competitive\": 14, \"pct_trips_competitive\": 1.0, \"bus_difference_spread\": 15.0, \"route_group\": \"short\", \"max_trip_hrs\": 0.55, \"max_trip_route_group\": 1.0, \"name\": \"Commute.org\", \"caltrans_district\": \"04 - Oakland\", \"drmt_organization_name\": null, \"cutoff2\": 15.0, \"cutoff\": 0}, {\"calitp_itp_id\": 76, \"trip_key\": 8417932145375947383, \"trip_id\": \"t_1217240_b_26812_tn_0\", \"shape_id\": \"p_745241\", \"route_id\": \"12157\", \"service_hours\": 0.37, \"trip_first_departure_ts\": 23940, \"trip_last_arrival_ts\": 25260, \"departure_hour\": 6, \"time_of_day\": \"Owl Service\", \"p25\": 0.4, \"p50\": 0.4, \"p75\": 0.47, \"p50_trip\": 0, \"fastest_trip\": 0, \"car_duration_hours\": 0.28, \"competitive_route\": 1, \"bus_multiplier\": 1.32, \"bus_difference\": 5.4, \"num_trips\": 14, \"num_competitive\": 14, \"pct_trips_competitive\": 1.0, \"bus_difference_spread\": 15.0, \"route_group\": \"short\", \"max_trip_hrs\": 0.55, \"max_trip_route_group\": 1.0, \"name\": \"Commute.org\", \"caltrans_district\": \"04 - Oakland\", \"drmt_organization_name\": null, \"cutoff2\": 15.0, \"cutoff\": 0}, {\"calitp_itp_id\": 76, \"trip_key\": 6444964701813489347, \"trip_id\": \"t_1523222_b_26812_tn_0\", \"shape_id\": \"p_745240\", \"route_id\": \"12157\", \"service_hours\": 0.4, \"trip_first_departure_ts\": 32460, \"trip_last_arrival_ts\": 33900, \"departure_hour\": 9, \"time_of_day\": \"AM Peak\", \"p25\": 0.4, \"p50\": 0.4, \"p75\": 0.47, \"p50_trip\": 1, \"fastest_trip\": 0, \"car_duration_hours\": 0.28, \"competitive_route\": 1, \"bus_multiplier\": 1.43, \"bus_difference\": 7.2, \"num_trips\": 14, \"num_competitive\": 14, \"pct_trips_competitive\": 1.0, \"bus_difference_spread\": 15.0, \"route_group\": \"short\", \"max_trip_hrs\": 0.55, \"max_trip_route_group\": 1.0, \"name\": \"Commute.org\", \"caltrans_district\": \"04 - Oakland\", \"drmt_organization_name\": null, \"cutoff2\": 15.0, \"cutoff\": 0}, {\"calitp_itp_id\": 76, \"trip_key\": -1100017607885103413, \"trip_id\": \"t_1217242_b_26812_tn_0\", \"shape_id\": \"p_745240\", \"route_id\": \"12157\", \"service_hours\": 0.4, \"trip_first_departure_ts\": 25260, \"trip_last_arrival_ts\": 26700, \"departure_hour\": 7, \"time_of_day\": \"AM Peak\", \"p25\": 0.4, \"p50\": 0.4, \"p75\": 0.47, \"p50_trip\": 1, \"fastest_trip\": 0, \"car_duration_hours\": 0.28, \"competitive_route\": 1, \"bus_multiplier\": 1.43, \"bus_difference\": 7.2, \"num_trips\": 14, \"num_competitive\": 14, \"pct_trips_competitive\": 1.0, \"bus_difference_spread\": 15.0, \"route_group\": \"short\", \"max_trip_hrs\": 0.55, \"max_trip_route_group\": 1.0, \"name\": \"Commute.org\", \"caltrans_district\": \"04 - Oakland\", \"drmt_organization_name\": null, \"cutoff2\": 15.0, \"cutoff\": 0}, {\"calitp_itp_id\": 76, \"trip_key\": 7527403700965257381, \"trip_id\": \"t_1217244_b_26812_tn_0\", \"shape_id\": \"p_745240\", \"route_id\": \"12157\", \"service_hours\": 0.4, \"trip_first_departure_ts\": 26700, \"trip_last_arrival_ts\": 28140, \"departure_hour\": 7, \"time_of_day\": \"AM Peak\", \"p25\": 0.4, \"p50\": 0.4, \"p75\": 0.47, \"p50_trip\": 1, \"fastest_trip\": 0, \"car_duration_hours\": 0.28, \"competitive_route\": 1, \"bus_multiplier\": 1.43, \"bus_difference\": 7.2, \"num_trips\": 14, \"num_competitive\": 14, \"pct_trips_competitive\": 1.0, \"bus_difference_spread\": 15.0, \"route_group\": \"short\", \"max_trip_hrs\": 0.55, \"max_trip_route_group\": 1.0, \"name\": \"Commute.org\", \"caltrans_district\": \"04 - Oakland\", \"drmt_organization_name\": null, \"cutoff2\": 15.0, \"cutoff\": 0}, {\"calitp_itp_id\": 76, \"trip_key\": -7572033908622930952, \"trip_id\": \"t_1523221_b_26812_tn_0\", \"shape_id\": \"p_745240\", \"route_id\": \"12157\", \"service_hours\": 0.4, \"trip_first_departure_ts\": 30300, \"trip_last_arrival_ts\": 31740, \"departure_hour\": 8, \"time_of_day\": \"AM Peak\", \"p25\": 0.4, \"p50\": 0.4, \"p75\": 0.47, \"p50_trip\": 1, \"fastest_trip\": 0, \"car_duration_hours\": 0.28, \"competitive_route\": 1, \"bus_multiplier\": 1.43, \"bus_difference\": 7.2, \"num_trips\": 14, \"num_competitive\": 14, \"pct_trips_competitive\": 1.0, \"bus_difference_spread\": 15.0, \"route_group\": \"short\", \"max_trip_hrs\": 0.55, \"max_trip_route_group\": 1.0, \"name\": \"Commute.org\", \"caltrans_district\": \"04 - Oakland\", \"drmt_organization_name\": null, \"cutoff2\": 15.0, \"cutoff\": 0}, {\"calitp_itp_id\": 76, \"trip_key\": -7185470195732164113, \"trip_id\": \"t_1523220_b_26812_tn_0\", \"shape_id\": \"p_745240\", \"route_id\": \"12157\", \"service_hours\": 0.4, \"trip_first_departure_ts\": 28860, \"trip_last_arrival_ts\": 30300, \"departure_hour\": 8, \"time_of_day\": \"AM Peak\", \"p25\": 0.4, \"p50\": 0.4, \"p75\": 0.47, \"p50_trip\": 1, \"fastest_trip\": 0, \"car_duration_hours\": 0.28, \"competitive_route\": 1, \"bus_multiplier\": 1.43, \"bus_difference\": 7.2, \"num_trips\": 14, \"num_competitive\": 14, \"pct_trips_competitive\": 1.0, \"bus_difference_spread\": 15.0, \"route_group\": \"short\", \"max_trip_hrs\": 0.55, \"max_trip_route_group\": 1.0, \"name\": \"Commute.org\", \"caltrans_district\": \"04 - Oakland\", \"drmt_organization_name\": null, \"cutoff2\": 15.0, \"cutoff\": 0}, {\"calitp_itp_id\": 76, \"trip_key\": 4210032901875776792, \"trip_id\": \"t_1523223_b_26812_tn_2\", \"shape_id\": \"p_900671\", \"route_id\": \"12157\", \"service_hours\": 0.47, \"trip_first_departure_ts\": 60120, \"trip_last_arrival_ts\": 61800, \"departure_hour\": 16, \"time_of_day\": \"Midday\", \"p25\": 0.4, \"p50\": 0.4, \"p75\": 0.47, \"p50_trip\": 0, \"fastest_trip\": 0, \"car_duration_hours\": 0.28, \"competitive_route\": 1, \"bus_multiplier\": 1.68, \"bus_difference\": 11.4, \"num_trips\": 14, \"num_competitive\": 14, \"pct_trips_competitive\": 1.0, \"bus_difference_spread\": 15.0, \"route_group\": \"short\", \"max_trip_hrs\": 0.55, \"max_trip_route_group\": 1.0, \"name\": \"Commute.org\", \"caltrans_district\": \"04 - Oakland\", \"drmt_organization_name\": null, \"cutoff2\": 15.0, \"cutoff\": 0}, {\"calitp_itp_id\": 76, \"trip_key\": 5252656298668283543, \"trip_id\": \"t_1523238_b_26812_tn_0\", \"shape_id\": \"p_900671\", \"route_id\": \"12157\", \"service_hours\": 0.47, \"trip_first_departure_ts\": 63720, \"trip_last_arrival_ts\": 65400, \"departure_hour\": 17, \"time_of_day\": \"PM Peak\", \"p25\": 0.4, \"p50\": 0.4, \"p75\": 0.47, \"p50_trip\": 0, \"fastest_trip\": 0, \"car_duration_hours\": 0.28, \"competitive_route\": 1, \"bus_multiplier\": 1.68, \"bus_difference\": 11.4, \"num_trips\": 14, \"num_competitive\": 14, \"pct_trips_competitive\": 1.0, \"bus_difference_spread\": 15.0, \"route_group\": \"short\", \"max_trip_hrs\": 0.55, \"max_trip_route_group\": 1.0, \"name\": \"Commute.org\", \"caltrans_district\": \"04 - Oakland\", \"drmt_organization_name\": null, \"cutoff2\": 15.0, \"cutoff\": 0}, {\"calitp_itp_id\": 76, \"trip_key\": -7292751354754917016, \"trip_id\": \"t_1523223_b_26812_tn_1\", \"shape_id\": \"p_900671\", \"route_id\": \"12157\", \"service_hours\": 0.47, \"trip_first_departure_ts\": 56460, \"trip_last_arrival_ts\": 58140, \"departure_hour\": 15, \"time_of_day\": \"Midday\", \"p25\": 0.4, \"p50\": 0.4, \"p75\": 0.47, \"p50_trip\": 0, \"fastest_trip\": 0, \"car_duration_hours\": 0.28, \"competitive_route\": 1, \"bus_multiplier\": 1.68, \"bus_difference\": 11.4, \"num_trips\": 14, \"num_competitive\": 14, \"pct_trips_competitive\": 1.0, \"bus_difference_spread\": 15.0, \"route_group\": \"short\", \"max_trip_hrs\": 0.55, \"max_trip_route_group\": 1.0, \"name\": \"Commute.org\", \"caltrans_district\": \"04 - Oakland\", \"drmt_organization_name\": null, \"cutoff2\": 15.0, \"cutoff\": 0}, {\"calitp_itp_id\": 76, \"trip_key\": -154440227743447731, \"trip_id\": \"t_1523237_b_26812_tn_0\", \"shape_id\": \"p_900671\", \"route_id\": \"12157\", \"service_hours\": 0.53, \"trip_first_departure_ts\": 61800, \"trip_last_arrival_ts\": 63720, \"departure_hour\": 17, \"time_of_day\": \"PM Peak\", \"p25\": 0.4, \"p50\": 0.4, \"p75\": 0.47, \"p50_trip\": 0, \"fastest_trip\": 0, \"car_duration_hours\": 0.28, \"competitive_route\": 1, \"bus_multiplier\": 1.89, \"bus_difference\": 15.0, \"num_trips\": 14, \"num_competitive\": 14, \"pct_trips_competitive\": 1.0, \"bus_difference_spread\": 15.0, \"route_group\": \"short\", \"max_trip_hrs\": 0.55, \"max_trip_route_group\": 1.0, \"name\": \"Commute.org\", \"caltrans_district\": \"04 - Oakland\", \"drmt_organization_name\": null, \"cutoff2\": 15.0, \"cutoff\": 0}, {\"calitp_itp_id\": 76, \"trip_key\": -3377129435102605597, \"trip_id\": \"t_1217197_b_26812_tn_2\", \"shape_id\": \"p_900671\", \"route_id\": \"12157\", \"service_hours\": 0.55, \"trip_first_departure_ts\": 58140, \"trip_last_arrival_ts\": 60120, \"departure_hour\": 16, \"time_of_day\": \"Midday\", \"p25\": 0.4, \"p50\": 0.4, \"p75\": 0.47, \"p50_trip\": 0, \"fastest_trip\": 0, \"car_duration_hours\": 0.28, \"competitive_route\": 1, \"bus_multiplier\": 1.96, \"bus_difference\": 16.2, \"num_trips\": 14, \"num_competitive\": 14, \"pct_trips_competitive\": 1.0, \"bus_difference_spread\": 15.0, \"route_group\": \"short\", \"max_trip_hrs\": 0.55, \"max_trip_route_group\": 1.0, \"name\": \"Commute.org\", \"caltrans_district\": \"04 - Oakland\", \"drmt_organization_name\": null, \"cutoff2\": 15.0, \"cutoff\": 0}, {\"calitp_itp_id\": 76, \"trip_key\": 2342366353058432608, \"trip_id\": \"t_1217197_b_26812_tn_1\", \"shape_id\": \"p_900671\", \"route_id\": \"12157\", \"service_hours\": 0.55, \"trip_first_departure_ts\": 54480, \"trip_last_arrival_ts\": 56460, \"departure_hour\": 15, \"time_of_day\": \"Midday\", \"p25\": 0.4, \"p50\": 0.4, \"p75\": 0.47, \"p50_trip\": 0, \"fastest_trip\": 0, \"car_duration_hours\": 0.28, \"competitive_route\": 1, \"bus_multiplier\": 1.96, \"bus_difference\": 16.2, \"num_trips\": 14, \"num_competitive\": 14, \"pct_trips_competitive\": 1.0, \"bus_difference_spread\": 15.0, \"route_group\": \"short\", \"max_trip_hrs\": 0.55, \"max_trip_route_group\": 1.0, \"name\": \"Commute.org\", \"caltrans_district\": \"04 - Oakland\", \"drmt_organization_name\": null, \"cutoff2\": 15.0, \"cutoff\": 0}]}}, {\"mode\": \"vega-lite\"});\n",
       "</script>"
      ],
      "text/plain": [
       "alt.FacetChart(...)"
      ]
     },
     "metadata": {},
     "output_type": "display_data"
    }
   ],
   "source": [
    "# Allow for possibility that operator doesn't have routes that fall into certain route_groups\n",
    "# But, jupyterbook will not like markdown with f-string\n",
    "# separate out route_group and put in each cell, and use try/except + if to display...\n",
    "# but all 3 route groups must be displayed. just add sentence about why no routes were returned at the end\n",
    "route_group = \"short\"\n",
    "try:\n",
    "    subset_routes, mult, diff  = setup_charts(df, PCT_COMPETITIVE_THRESHOLD, route_group)\n",
    "    \n",
    "    if len(subset_routes) > 0:\n",
    "        display(\n",
    "            Markdown(\n",
    "                f\"{CAPTIONS_DICT[route_group]}\"\n",
    "                \"Within each route group, routes are sorted in descending order \"\n",
    "                \"by % competitive trips and # trips below the additional time cut-off.\"\n",
    "            )\n",
    "        )\n",
    "\n",
    "        display(mult)\n",
    "        display(diff)\n",
    "except:\n",
    "    print(\"No routes meet this criteria.\")"
   ]
  },
  {
   "cell_type": "markdown",
   "id": "c2931b6f-034d-4384-9e14-80b925e3b820",
   "metadata": {
    "papermill": {
     "duration": 0.014703,
     "end_time": "2022-05-07T17:00:02.485145",
     "exception": false,
     "start_time": "2022-05-07T17:00:02.470442",
     "status": "completed"
    },
    "tags": []
   },
   "source": [
    "### Medium Routes (1-1.5 hrs)"
   ]
  },
  {
   "cell_type": "code",
   "execution_count": 13,
   "id": "480edddc-4de0-48c2-ae4c-b0ceef8f28b5",
   "metadata": {
    "execution": {
     "iopub.execute_input": "2022-05-07T17:00:02.521998Z",
     "iopub.status.busy": "2022-05-07T17:00:02.521409Z",
     "iopub.status.idle": "2022-05-07T17:00:02.532783Z",
     "shell.execute_reply": "2022-05-07T17:00:02.532155Z"
    },
    "jupyter": {
     "source_hidden": true
    },
    "papermill": {
     "duration": 0.033002,
     "end_time": "2022-05-07T17:00:02.534419",
     "exception": false,
     "start_time": "2022-05-07T17:00:02.501417",
     "status": "completed"
    },
    "tags": [
     "remove_input"
    ]
   },
   "outputs": [
    {
     "name": "stdout",
     "output_type": "stream",
     "text": [
      "No routes meet this criteria.\n"
     ]
    }
   ],
   "source": [
    "route_group = \"medium\"\n",
    "try:\n",
    "    subset_routes, mult, diff  = setup_charts(df, PCT_COMPETITIVE_THRESHOLD, route_group)\n",
    "    if len(subset_routes) > 0:\n",
    "        display(\n",
    "            Markdown(\n",
    "                f\"{CAPTIONS_DICT[route_group]}\"\n",
    "                \"Within each route group, routes are sorted in descending order \"\n",
    "                \"by % competitive trips and # trips below the additional time cut-off.\"\n",
    "            )\n",
    "        )\n",
    "\n",
    "        display(mult)\n",
    "        display(diff)\n",
    "except:\n",
    "    print(\"No routes meet this criteria.\")"
   ]
  },
  {
   "cell_type": "markdown",
   "id": "124b76d0-886c-4d03-92ac-f1bda3cda182",
   "metadata": {
    "papermill": {
     "duration": 0.01455,
     "end_time": "2022-05-07T17:00:02.564534",
     "exception": false,
     "start_time": "2022-05-07T17:00:02.549984",
     "status": "completed"
    },
    "tags": []
   },
   "source": [
    "### Long Routes (> 1.5 hrs)"
   ]
  },
  {
   "cell_type": "code",
   "execution_count": 14,
   "id": "ddc81b19-4c45-4c81-8b7a-5e0f394aa7a3",
   "metadata": {
    "execution": {
     "iopub.execute_input": "2022-05-07T17:00:02.598060Z",
     "iopub.status.busy": "2022-05-07T17:00:02.597768Z",
     "iopub.status.idle": "2022-05-07T17:00:02.616985Z",
     "shell.execute_reply": "2022-05-07T17:00:02.616044Z"
    },
    "jupyter": {
     "source_hidden": true
    },
    "papermill": {
     "duration": 0.040404,
     "end_time": "2022-05-07T17:00:02.619993",
     "exception": false,
     "start_time": "2022-05-07T17:00:02.579589",
     "status": "completed"
    },
    "tags": [
     "remove_input"
    ]
   },
   "outputs": [
    {
     "name": "stdout",
     "output_type": "stream",
     "text": [
      "No routes meet this criteria.\n"
     ]
    }
   ],
   "source": [
    "route_group = \"long\"\n",
    "try:\n",
    "    subset_routes, mult, diff  = setup_charts(df, PCT_COMPETITIVE_THRESHOLD, route_group)\n",
    "    if len(subset_routes) > 0:\n",
    "        display(\n",
    "            Markdown(\n",
    "                f\"{CAPTIONS_DICT[route_group]}\"\n",
    "                \"Within each route group, routes are sorted in descending order \"\n",
    "                \"by % competitive trips and # trips below the additional time cut-off.\"\n",
    "            )\n",
    "        )\n",
    "\n",
    "        display(mult)\n",
    "        display(diff)\n",
    "except:\n",
    "    print(\"No routes meet this criteria.\")"
   ]
  }
 ],
 "metadata": {
  "kernelspec": {
   "display_name": "Python 3 (ipykernel)",
   "language": "python",
   "name": "python3"
  },
  "language_info": {
   "codemirror_mode": {
    "name": "ipython",
    "version": 3
   },
   "file_extension": ".py",
   "mimetype": "text/x-python",
   "name": "python",
   "nbconvert_exporter": "python",
   "pygments_lexer": "ipython3",
   "version": "3.9.12"
  },
  "papermill": {
   "default_parameters": {},
   "duration": 22.234942,
   "end_time": "2022-05-07T17:00:03.759726",
   "environment_variables": {},
   "exception": null,
   "input_path": "bus_service_increase/stripplot.ipynb",
   "output_path": "portfolio/parallel_corridors/district_04-oakland/stripplot__itp_id_76.ipynb",
   "parameters": {
    "district": "04 - Oakland",
    "itp_id": 76
   },
   "start_time": "2022-05-07T16:59:41.524784",
   "version": "2.3.4"
  }
 },
 "nbformat": 4,
 "nbformat_minor": 5
}