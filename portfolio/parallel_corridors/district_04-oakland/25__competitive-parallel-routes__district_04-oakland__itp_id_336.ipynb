{
 "cells": [
  {
   "cell_type": "code",
   "execution_count": 1,
   "id": "95d00857-6a20-4529-a519-2cc7182928a9",
   "metadata": {
    "execution": {
     "iopub.execute_input": "2022-05-12T19:19:06.016662Z",
     "iopub.status.busy": "2022-05-12T19:19:06.015915Z",
     "iopub.status.idle": "2022-05-12T19:19:14.331116Z",
     "shell.execute_reply": "2022-05-12T19:19:14.330236Z"
    },
    "jupyter": {
     "source_hidden": true
    },
    "papermill": {
     "duration": 8.342015,
     "end_time": "2022-05-12T19:19:14.333746",
     "exception": false,
     "start_time": "2022-05-12T19:19:05.991731",
     "status": "completed"
    },
    "tags": [
     "remove_input"
    ]
   },
   "outputs": [],
   "source": [
    "%%capture\n",
    "import warnings\n",
    "warnings.filterwarnings('ignore')\n",
    "\n",
    "import altair as alt\n",
    "import calitp.magics\n",
    "import geopandas as gpd\n",
    "import intake\n",
    "import pandas as pd\n",
    "\n",
    "from IPython.display import display, Markdown, HTML\n",
    "\n",
    "import parallel_corridors_utils\n",
    "import deploy_portfolio_yaml\n",
    "from shared_utils import styleguide, geography_utils\n",
    "from make_stripplot_data import diff_cutoffs\n",
    "\n",
    "catalog = intake.open_catalog(\"./*.yml\")\n",
    "alt.renderers.enable(\"html\")"
   ]
  },
  {
   "cell_type": "code",
   "execution_count": 2,
   "id": "8af2a0c1-f3da-408d-9bea-11d9fbf8695d",
   "metadata": {
    "execution": {
     "iopub.execute_input": "2022-05-12T19:19:14.361944Z",
     "iopub.status.busy": "2022-05-12T19:19:14.361671Z",
     "iopub.status.idle": "2022-05-12T19:19:14.365921Z",
     "shell.execute_reply": "2022-05-12T19:19:14.365039Z"
    },
    "jupyter": {
     "source_hidden": true
    },
    "papermill": {
     "duration": 0.019917,
     "end_time": "2022-05-12T19:19:14.367923",
     "exception": false,
     "start_time": "2022-05-12T19:19:14.348006",
     "status": "completed"
    },
    "tags": [
     "parameters",
     "remove_input"
    ]
   },
   "outputs": [],
   "source": [
    "# parameters cell\n",
    "itp_id = 182"
   ]
  },
  {
   "cell_type": "code",
   "execution_count": 3,
   "id": "1f6aff99",
   "metadata": {
    "execution": {
     "iopub.execute_input": "2022-05-12T19:19:14.393853Z",
     "iopub.status.busy": "2022-05-12T19:19:14.393026Z",
     "iopub.status.idle": "2022-05-12T19:19:14.397393Z",
     "shell.execute_reply": "2022-05-12T19:19:14.396845Z"
    },
    "jupyter": {
     "source_hidden": true
    },
    "papermill": {
     "duration": 0.019793,
     "end_time": "2022-05-12T19:19:14.399009",
     "exception": false,
     "start_time": "2022-05-12T19:19:14.379216",
     "status": "completed"
    },
    "tags": [
     "injected-parameters",
     "remove_input"
    ]
   },
   "outputs": [],
   "source": [
    "# Parameters\n",
    "district = \"04 - Oakland\"\n",
    "itp_id = 336\n"
   ]
  },
  {
   "cell_type": "code",
   "execution_count": 4,
   "id": "9582aaf4-79ff-412a-b248-8d8d693ebd4f",
   "metadata": {
    "execution": {
     "iopub.execute_input": "2022-05-12T19:19:14.426021Z",
     "iopub.status.busy": "2022-05-12T19:19:14.425499Z",
     "iopub.status.idle": "2022-05-12T19:19:15.662829Z",
     "shell.execute_reply": "2022-05-12T19:19:15.662186Z"
    },
    "jupyter": {
     "source_hidden": true
    },
    "papermill": {
     "duration": 1.253978,
     "end_time": "2022-05-12T19:19:15.664980",
     "exception": false,
     "start_time": "2022-05-12T19:19:14.411002",
     "status": "completed"
    },
    "tags": [
     "remove_input"
    ]
   },
   "outputs": [],
   "source": [
    "df = catalog.competitive_route_variability.read()\n",
    "\n",
    "df = (df[(df.calitp_itp_id == itp_id) & \n",
    "         (df.route_group.notna())]\n",
    "      .rename(columns = {\"route_name_used\": \"route_name\"})\n",
    "      .reset_index(drop=True)\n",
    "     )\n",
    "\n",
    "if itp_id == 182:\n",
    "    df = df.assign(\n",
    "        route_id = df.route_id.str.replace('-13153', '').astype(int)\n",
    "    )"
   ]
  },
  {
   "cell_type": "code",
   "execution_count": 5,
   "id": "33ac4b06-f647-4dce-a625-8f2c1b37cc60",
   "metadata": {
    "execution": {
     "iopub.execute_input": "2022-05-12T19:19:15.692114Z",
     "iopub.status.busy": "2022-05-12T19:19:15.691582Z",
     "iopub.status.idle": "2022-05-12T19:19:15.698258Z",
     "shell.execute_reply": "2022-05-12T19:19:15.697679Z"
    },
    "jupyter": {
     "source_hidden": true
    },
    "papermill": {
     "duration": 0.021587,
     "end_time": "2022-05-12T19:19:15.699830",
     "exception": false,
     "start_time": "2022-05-12T19:19:15.678243",
     "status": "completed"
    },
    "tags": [
     "remove_input"
    ]
   },
   "outputs": [],
   "source": [
    "%%capture_parameters\n",
    "operator_name = df.name.iloc[0]\n",
    "district_number = f\"{df.caltrans_district.iloc[0].split('-')[0].strip()}\"\n",
    "district_name = f\"{df.caltrans_district.iloc[0].split('-')[1].strip().lower().replace(' ', '-')}\"\n",
    "\n",
    "itp_id, operator_name, district_number, district_name"
   ]
  },
  {
   "cell_type": "markdown",
   "id": "65bc6f5c-8348-42ee-b2dd-52057c406852",
   "metadata": {
    "papermill": {
     "duration": 0.012063,
     "end_time": "2022-05-12T19:19:15.724019",
     "exception": false,
     "start_time": "2022-05-12T19:19:15.711956",
     "status": "completed"
    },
    "tags": []
   },
   "source": [
    "# Eastern Contra Costa Transit Authority (ITP ID: 336)"
   ]
  },
  {
   "cell_type": "code",
   "execution_count": 6,
   "id": "a689c1ab-2c6c-4831-8d64-897f5986f571",
   "metadata": {
    "execution": {
     "iopub.execute_input": "2022-05-12T19:19:15.750322Z",
     "iopub.status.busy": "2022-05-12T19:19:15.749768Z",
     "iopub.status.idle": "2022-05-12T19:19:15.755445Z",
     "shell.execute_reply": "2022-05-12T19:19:15.754908Z"
    },
    "jupyter": {
     "source_hidden": true
    },
    "papermill": {
     "duration": 0.021003,
     "end_time": "2022-05-12T19:19:15.757080",
     "exception": false,
     "start_time": "2022-05-12T19:19:15.736077",
     "status": "completed"
    },
    "tags": [
     "remove_input"
    ]
   },
   "outputs": [
    {
     "data": {
      "text/html": [
       "<h1>Competitive & Parallel Routes</h1>"
      ],
      "text/plain": [
       "<IPython.core.display.HTML object>"
      ]
     },
     "metadata": {},
     "output_type": "display_data"
    }
   ],
   "source": [
    "display(HTML(\"<h1>Competitive & Parallel Routes</h1>\")) "
   ]
  },
  {
   "cell_type": "code",
   "execution_count": 7,
   "id": "2cb4d8d5-4760-40e4-85b1-cb833d8bb648",
   "metadata": {
    "execution": {
     "iopub.execute_input": "2022-05-12T19:19:15.791815Z",
     "iopub.status.busy": "2022-05-12T19:19:15.791288Z",
     "iopub.status.idle": "2022-05-12T19:19:26.121248Z",
     "shell.execute_reply": "2022-05-12T19:19:26.120228Z"
    },
    "jupyter": {
     "source_hidden": true
    },
    "papermill": {
     "duration": 10.355047,
     "end_time": "2022-05-12T19:19:26.124559",
     "exception": false,
     "start_time": "2022-05-12T19:19:15.769512",
     "status": "completed"
    },
    "tags": [
     "remove_input"
    ]
   },
   "outputs": [],
   "source": [
    "# Grab parameters for narrative text - clean up formatting here \n",
    "district = df.caltrans_district.iloc[0]\n",
    "formatted_date = pd.to_datetime(parallel_corridors_utils.SELECTED_DATE).strftime('%m-%d-%Y')\n",
    "\n",
    "PCT_COMPETITIVE_THRESHOLD = 0.75\n",
    "PCT_TRIPS_BELOW_CUTOFF = 1.0\n",
    "\n",
    "stats = parallel_corridors_utils.operator_parallel_competitive_stats(\n",
    "    itp_id, PCT_COMPETITIVE_THRESHOLD, PCT_TRIPS_BELOW_CUTOFF)\n",
    "\n",
    "pct_parallel = round(stats['parallel_routes'] / stats['num_routes'] * 100, 1 )\n",
    "pct_competitive =  round(stats['competitive_routes'] / stats['num_routes'] * 100, 1 )\n",
    "pct_viable =  round(stats['viable_competitive_routes'] / stats['num_routes'] * 100, 1 )"
   ]
  },
  {
   "cell_type": "code",
   "execution_count": 8,
   "id": "8bf30c8f-6aa5-47bb-82ae-a906732e81fd",
   "metadata": {
    "execution": {
     "iopub.execute_input": "2022-05-12T19:19:26.172438Z",
     "iopub.status.busy": "2022-05-12T19:19:26.172052Z",
     "iopub.status.idle": "2022-05-12T19:19:26.231273Z",
     "shell.execute_reply": "2022-05-12T19:19:26.219182Z"
    },
    "jupyter": {
     "source_hidden": true
    },
    "papermill": {
     "duration": 0.09406,
     "end_time": "2022-05-12T19:19:26.242751",
     "exception": false,
     "start_time": "2022-05-12T19:19:26.148691",
     "status": "completed"
    },
    "tags": [
     "remove_input"
    ]
   },
   "outputs": [],
   "source": [
    "# Display a table of route-level stats for each route_group\n",
    "# Displaying route_name makes chart too crowded\n",
    "\n",
    "# Get route stats (for entire df)\n",
    "route_stats = parallel_corridors_utils.competitive_route_level_stats(df)\n",
    "    \n",
    "def style_route_stats(df, top15_routes):\n",
    "    df = df[df.route_id.isin(top15_routes)]\n",
    "    \n",
    "    # Rename columns for display\n",
    "    rename_cols = {\n",
    "        \"route_id\": \"Route ID\",\n",
    "        \"route_name\": \"Route Name\",\n",
    "        \"route_group\": \"Route Group\",\n",
    "        \"num_trips\": \"# trips\",\n",
    "        \"daily_avg_freq\": \"Daily Avg Freq (trips per hr)\",\n",
    "        \"pm_peak_freq\": \"PM Peak Avg Freq (trips per hr)\",\n",
    "        \"percentiles\": \"25th, 50th, 75th ptile (hrs)\",\n",
    "    }\n",
    "    \n",
    "    # Style it\n",
    "    drop_cols = [\n",
    "        \"calitp_itp_id\", \"below_cutoff\", \"route_group\", \n",
    "        \"pct_trips_competitive\", \"pct_below_cutoff\",\n",
    "        \"p25\", \"p50\", \"p75\",\n",
    "    ]\n",
    "    \n",
    "    # Change alignment for some columns\n",
    "    # https://stackoverflow.com/questions/59453091/left-align-the-first-column-and-center-align-the-other-columns-in-a-pandas-table\n",
    "    df_style = (df.sort_values(\n",
    "        [\"pct_trips_competitive\", \"below_cutoff\", \n",
    "        \"pct_below_cutoff\", \"route_id\"], \n",
    "        ascending=[False, False, False, True])\n",
    "           .drop(columns = drop_cols)\n",
    "           .rename(columns = rename_cols)\n",
    "           .style.format(\n",
    "               subset=['Daily Avg Freq (trips per hr)', \n",
    "                       'PM Peak Avg Freq (trips per hr)'], \n",
    "               **{'formatter': '{:,.3}'})\n",
    "                .set_properties(subset=['Route ID', 'Route Name'], \n",
    "                                **{'text-align': 'left'})\n",
    "                .set_properties(subset=['# trips', 'Daily Avg Freq (trips per hr)', \n",
    "                                       'PM Peak Avg Freq (trips per hr)'], \n",
    "                               **{'text-align': 'center'})\n",
    "                .set_table_styles([dict(selector='th', \n",
    "                                        props=[('text-align', 'center')])\n",
    "                                        ])\n",
    "           .hide(axis=\"index\")\n",
    "           .to_html()\n",
    "          )\n",
    "    \n",
    "    display(HTML(\"<h4>Route Stats</h4>\"))\n",
    "    display(HTML(df_style))"
   ]
  },
  {
   "cell_type": "markdown",
   "id": "ab667928-5274-4490-82d9-4c39293209a4",
   "metadata": {
    "papermill": {
     "duration": 0.022664,
     "end_time": "2022-05-12T19:19:26.288067",
     "exception": false,
     "start_time": "2022-05-12T19:19:26.265403",
     "status": "completed"
    },
    "tags": []
   },
   "source": [
    "## Quick Stats"
   ]
  },
  {
   "cell_type": "code",
   "execution_count": 9,
   "id": "0416509d-dc62-4165-b62e-64f8b26e8b8e",
   "metadata": {
    "execution": {
     "iopub.execute_input": "2022-05-12T19:19:26.335712Z",
     "iopub.status.busy": "2022-05-12T19:19:26.335383Z",
     "iopub.status.idle": "2022-05-12T19:19:26.348050Z",
     "shell.execute_reply": "2022-05-12T19:19:26.347235Z"
    },
    "jupyter": {
     "source_hidden": true
    },
    "papermill": {
     "duration": 0.043286,
     "end_time": "2022-05-12T19:19:26.352916",
     "exception": false,
     "start_time": "2022-05-12T19:19:26.309630",
     "status": "completed"
    },
    "tags": [
     "remove_input"
    ]
   },
   "outputs": [
    {
     "data": {
      "text/markdown": [
       "**Bus routes in service: 15**<br>**Parallel routes** to State Highway Network (SHN): **11 routes (73.3%)**<br>**Competitive routes** against car travel (within 2x car travel time): **6 routes (40.0%)**<br>**Viable competitive routes** against car travel (within 2x car travel time and within 20, 30, or 40 min cut-off): **3 routes (20.0%)**"
      ],
      "text/plain": [
       "<IPython.core.display.Markdown object>"
      ]
     },
     "metadata": {},
     "output_type": "display_data"
    }
   ],
   "source": [
    "display(\n",
    "    Markdown(\n",
    "        f\"**Bus routes in service: {stats['num_routes']}**\"\n",
    "        \"<br>**Parallel routes** to State Highway Network (SHN): \"\n",
    "        f\"**{stats['parallel_routes']} routes ({pct_parallel}%)**\"\n",
    "        \"<br>**Competitive routes** against car travel (within 2x car travel time): \"\n",
    "        f\"**{stats['competitive_routes']} routes ({pct_competitive}%)**\"\n",
    "        \"<br>**Viable competitive routes** against car travel \"\n",
    "        \"(within 2x car travel time and within 20, 30, or 40 min cut-off): \"\n",
    "        f\"**{stats['viable_competitive_routes']} routes ({pct_viable}%)**\"\n",
    "    )\n",
    ")"
   ]
  },
  {
   "cell_type": "code",
   "execution_count": 10,
   "id": "f9d6ab58-f0ee-460c-b6de-657490e1f386",
   "metadata": {
    "execution": {
     "iopub.execute_input": "2022-05-12T19:19:26.419623Z",
     "iopub.status.busy": "2022-05-12T19:19:26.419190Z",
     "iopub.status.idle": "2022-05-12T19:19:26.430907Z",
     "shell.execute_reply": "2022-05-12T19:19:26.429951Z"
    },
    "jupyter": {
     "source_hidden": true
    },
    "papermill": {
     "duration": 0.055773,
     "end_time": "2022-05-12T19:19:26.433624",
     "exception": false,
     "start_time": "2022-05-12T19:19:26.377851",
     "status": "completed"
    },
    "tags": [
     "remove_input"
    ]
   },
   "outputs": [],
   "source": [
    "def set_yaxis_range(df, y_col):\n",
    "    Y_MIN = df[y_col].min()\n",
    "    Y_MAX = df[y_col].max()\n",
    "    \n",
    "    return Y_MIN, Y_MAX\n",
    "\n",
    "# Rather than set it according to the operator, which can vary,\n",
    "# just use set thresholds for each group\n",
    "def top15_routes(df, route_group):\n",
    "    # grab top 15 routes where majority of trips are below that cut-off \n",
    "    # but show 15 max, otherwise, show less, since these won't be as interesting to operators\n",
    "    df2 = (df[(df.route_group==route_group) &\n",
    "              (df.pct_below_cutoff >= PCT_TRIPS_BELOW_CUTOFF)]\n",
    "           .sort_values([\"calitp_itp_id\", \"below_cutoff\", \n",
    "                         \"pct_below_cutoff\", \"route_id\"],\n",
    "                        ascending = [True, False, False, True]\n",
    "                       )\n",
    "           .drop_duplicates(subset=[\"calitp_itp_id\", \"route_id\"])\n",
    "          ).head(15)\n",
    "    \n",
    "    return list(df2.route_id)"
   ]
  },
  {
   "cell_type": "code",
   "execution_count": 11,
   "id": "cf36d559-3349-4144-8086-8ac9ce937a5a",
   "metadata": {
    "execution": {
     "iopub.execute_input": "2022-05-12T19:19:26.483736Z",
     "iopub.status.busy": "2022-05-12T19:19:26.483400Z",
     "iopub.status.idle": "2022-05-12T19:19:26.490016Z",
     "shell.execute_reply": "2022-05-12T19:19:26.489256Z"
    },
    "jupyter": {
     "source_hidden": true
    },
    "papermill": {
     "duration": 0.039139,
     "end_time": "2022-05-12T19:19:26.498855",
     "exception": false,
     "start_time": "2022-05-12T19:19:26.459716",
     "status": "completed"
    },
    "tags": [
     "remove_input"
    ]
   },
   "outputs": [],
   "source": [
    "def caption_with_cutoff(cutoff):\n",
    "    sentence = (\n",
    "        f\"<br>These are routes that have **{int(PCT_TRIPS_BELOW_CUTOFF*100)}% \"\n",
    "        \"of their trips take no more than an \"\n",
    "        f\"additional {cutoff} min** compared to a car \"\n",
    "        \"(up to 15 routes) are shown.\"\n",
    "        \"<br>Within each route group, routes are sorted in descending order \"\n",
    "        \"by % competitive trips and # trips below the additional time cut-off.\"\n",
    "    )\n",
    "    return sentence\n",
    "\n",
    "CAPTIONS_DICT = {\n",
    "    \"short\": caption_with_cutoff(diff_cutoffs['short']),\n",
    "    \"medium\": caption_with_cutoff(diff_cutoffs['medium']),\n",
    "    \"long\": caption_with_cutoff(diff_cutoffs['long']),\n",
    "}"
   ]
  },
  {
   "cell_type": "code",
   "execution_count": 12,
   "id": "e4306d58-6944-47e9-afef-5d5b524c751f",
   "metadata": {
    "execution": {
     "iopub.execute_input": "2022-05-12T19:19:26.556806Z",
     "iopub.status.busy": "2022-05-12T19:19:26.556441Z",
     "iopub.status.idle": "2022-05-12T19:19:26.571281Z",
     "shell.execute_reply": "2022-05-12T19:19:26.570280Z"
    },
    "jupyter": {
     "source_hidden": true
    },
    "papermill": {
     "duration": 0.049923,
     "end_time": "2022-05-12T19:19:26.574409",
     "exception": false,
     "start_time": "2022-05-12T19:19:26.524486",
     "status": "completed"
    },
    "tags": [
     "remove_input"
    ]
   },
   "outputs": [],
   "source": [
    "def setup_charts(df, PCT_COMPETITIVE_THRESHOLD, route_group):\n",
    "    # Set up df for charting (cut-off at some threshold to show most competitive routes)\n",
    "    plot_me = (df[df.pct_trips_competitive > PCT_COMPETITIVE_THRESHOLD]\n",
    "           .drop(columns = \"geometry\")\n",
    "    )\n",
    "    \n",
    "    # Set y-ranges to be the same across route_groups, \n",
    "    # otherwise charts fluctuate too much, even within operator\n",
    "    y_col1 = \"bus_multiplier\"\n",
    "    Y_MIN1, Y_MAX1 = set_yaxis_range(plot_me, y_col1)\n",
    "\n",
    "    y_col2 = \"bus_difference\"\n",
    "    Y_MIN2, Y_MAX2 = set_yaxis_range(plot_me, y_col2)\n",
    "    \n",
    "    # Grab the routes to plot\n",
    "    subset_routes = top15_routes(plot_me, route_group)\n",
    "        \n",
    "    # Display charts\n",
    "    multiplier_chart = parallel_corridors_utils.make_stripplot(\n",
    "        plot_me[plot_me.route_id.isin(subset_routes)], \n",
    "        y_col1, Y_MIN = Y_MIN1, Y_MAX = Y_MAX1\n",
    "    )\n",
    "    \n",
    "    difference_chart = parallel_corridors_utils.make_stripplot(\n",
    "        plot_me[plot_me.route_id.isin(subset_routes)], \n",
    "        y_col2, Y_MIN = Y_MIN2, Y_MAX = Y_MAX2\n",
    "    )\n",
    "    \n",
    "    return subset_routes, multiplier_chart, difference_chart            "
   ]
  },
  {
   "cell_type": "code",
   "execution_count": 13,
   "id": "33a710e8-504c-4942-aa75-ff69f216956e",
   "metadata": {
    "execution": {
     "iopub.execute_input": "2022-05-12T19:19:26.628207Z",
     "iopub.status.busy": "2022-05-12T19:19:26.627701Z",
     "iopub.status.idle": "2022-05-12T19:19:26.639165Z",
     "shell.execute_reply": "2022-05-12T19:19:26.638221Z"
    },
    "jupyter": {
     "source_hidden": true
    },
    "papermill": {
     "duration": 0.041054,
     "end_time": "2022-05-12T19:19:26.641236",
     "exception": false,
     "start_time": "2022-05-12T19:19:26.600182",
     "status": "completed"
    },
    "tags": [
     "remove_input"
    ]
   },
   "outputs": [],
   "source": [
    "def display_charts_for_route_group(df, route_group):    \n",
    "    subset_routes, mult, diff  = setup_charts(df, PCT_COMPETITIVE_THRESHOLD, route_group)\n",
    "\n",
    "    if len(subset_routes) > 0:\n",
    "        display(Markdown(f\"{CAPTIONS_DICT[route_group]}\"))\n",
    "\n",
    "        display(mult)\n",
    "        display(diff)\n",
    "        \n",
    "        # Display route stats for just plotted routes\n",
    "        style_route_stats(route_stats, subset_routes)"
   ]
  },
  {
   "cell_type": "markdown",
   "id": "525f9b38-072b-46d1-96a8-1aa4b038357c",
   "metadata": {
    "papermill": {
     "duration": 0.022734,
     "end_time": "2022-05-12T19:19:26.696071",
     "exception": false,
     "start_time": "2022-05-12T19:19:26.673337",
     "status": "completed"
    },
    "tags": []
   },
   "source": [
    "## Viable Competitive Routes\n",
    "### Short Routes (< 1 hr)"
   ]
  },
  {
   "cell_type": "code",
   "execution_count": 14,
   "id": "57f7084c-2cf7-45c6-ba08-1609e0bd6ca5",
   "metadata": {
    "execution": {
     "iopub.execute_input": "2022-05-12T19:19:26.744860Z",
     "iopub.status.busy": "2022-05-12T19:19:26.744491Z",
     "iopub.status.idle": "2022-05-12T19:19:27.079561Z",
     "shell.execute_reply": "2022-05-12T19:19:27.078695Z"
    },
    "jupyter": {
     "source_hidden": true
    },
    "papermill": {
     "duration": 0.368995,
     "end_time": "2022-05-12T19:19:27.089012",
     "exception": false,
     "start_time": "2022-05-12T19:19:26.720017",
     "status": "completed"
    },
    "tags": [
     "remove_input"
    ]
   },
   "outputs": [
    {
     "data": {
      "text/markdown": [
       "<br>These are routes that have **100% of their trips take no more than an additional 20 min** compared to a car (up to 15 routes) are shown.<br>Within each route group, routes are sorted in descending order by % competitive trips and # trips below the additional time cut-off."
      ],
      "text/plain": [
       "<IPython.core.display.Markdown object>"
      ]
     },
     "metadata": {},
     "output_type": "display_data"
    },
    {
     "data": {
      "text/html": [
       "\n",
       "<div id=\"altair-viz-c1496630ccbb46c38a77cec077293f2a\"></div>\n",
       "<script type=\"text/javascript\">\n",
       "  var VEGA_DEBUG = (typeof VEGA_DEBUG == \"undefined\") ? {} : VEGA_DEBUG;\n",
       "  (function(spec, embedOpt){\n",
       "    let outputDiv = document.currentScript.previousElementSibling;\n",
       "    if (outputDiv.id !== \"altair-viz-c1496630ccbb46c38a77cec077293f2a\") {\n",
       "      outputDiv = document.getElementById(\"altair-viz-c1496630ccbb46c38a77cec077293f2a\");\n",
       "    }\n",
       "    const paths = {\n",
       "      \"vega\": \"https://cdn.jsdelivr.net/npm//vega@5?noext\",\n",
       "      \"vega-lib\": \"https://cdn.jsdelivr.net/npm//vega-lib?noext\",\n",
       "      \"vega-lite\": \"https://cdn.jsdelivr.net/npm//vega-lite@4.17.0?noext\",\n",
       "      \"vega-embed\": \"https://cdn.jsdelivr.net/npm//vega-embed@6?noext\",\n",
       "    };\n",
       "\n",
       "    function maybeLoadScript(lib, version) {\n",
       "      var key = `${lib.replace(\"-\", \"\")}_version`;\n",
       "      return (VEGA_DEBUG[key] == version) ?\n",
       "        Promise.resolve(paths[lib]) :\n",
       "        new Promise(function(resolve, reject) {\n",
       "          var s = document.createElement('script');\n",
       "          document.getElementsByTagName(\"head\")[0].appendChild(s);\n",
       "          s.async = true;\n",
       "          s.onload = () => {\n",
       "            VEGA_DEBUG[key] = version;\n",
       "            return resolve(paths[lib]);\n",
       "          };\n",
       "          s.onerror = () => reject(`Error loading script: ${paths[lib]}`);\n",
       "          s.src = paths[lib];\n",
       "        });\n",
       "    }\n",
       "\n",
       "    function showError(err) {\n",
       "      outputDiv.innerHTML = `<div class=\"error\" style=\"color:red;\">${err}</div>`;\n",
       "      throw err;\n",
       "    }\n",
       "\n",
       "    function displayChart(vegaEmbed) {\n",
       "      vegaEmbed(outputDiv, spec, embedOpt)\n",
       "        .catch(err => showError(`Javascript Error: ${err.message}<br>This usually means there's a typo in your chart specification. See the javascript console for the full traceback.`));\n",
       "    }\n",
       "\n",
       "    if(typeof define === \"function\" && define.amd) {\n",
       "      requirejs.config({paths});\n",
       "      require([\"vega-embed\"], displayChart, err => showError(`Error loading script: ${err.message}`));\n",
       "    } else {\n",
       "      maybeLoadScript(\"vega\", \"5\")\n",
       "        .then(() => maybeLoadScript(\"vega-lite\", \"4.17.0\"))\n",
       "        .then(() => maybeLoadScript(\"vega-embed\", \"6\"))\n",
       "        .catch(showError)\n",
       "        .then(() => displayChart(vegaEmbed));\n",
       "    }\n",
       "  })({\"config\": {\"view\": {\"continuousWidth\": 400, \"continuousHeight\": 300, \"stroke\": null}, \"facet\": {\"spacing\": 0}}, \"data\": {\"name\": \"data-661d9b3dfc3fa3ece54d2fa1b0932a20\"}, \"facet\": {\"column\": {\"field\": \"route_id\", \"sort\": [\"300\", \"389\", \"390\"], \"title\": \"Route ID\", \"type\": \"nominal\"}}, \"spec\": {\"layer\": [{\"mark\": \"rule\", \"encoding\": {\"color\": {\"value\": \"black\"}, \"y\": {\"field\": \"cutoff\", \"type\": \"quantitative\"}}, \"selection\": {\"selector001\": {\"type\": \"interval\", \"bind\": \"scales\", \"encodings\": [\"x\", \"y\"]}}}, {\"mark\": {\"type\": \"point\", \"opacity\": 0.65, \"size\": 12, \"strokeWidth\": 1.1}, \"encoding\": {\"color\": {\"field\": \"time_of_day\", \"scale\": {\"range\": [\"#136C97\", \"#E16B26\", \"#F6BF16\", \"#00896B\", \"#7790A3\", \"#5B559C\"]}, \"sort\": [\"AM Peak\", \"Midday\", \"PM Peak\", \"Owl Service\"], \"title\": \"Time of Day\", \"type\": \"nominal\"}, \"tooltip\": [{\"field\": \"route_id\", \"type\": \"nominal\"}, {\"field\": \"route_name\", \"type\": \"nominal\"}, {\"field\": \"trip_id\", \"type\": \"nominal\"}, {\"field\": \"service_hours\", \"type\": \"quantitative\"}, {\"field\": \"car_duration_hours\", \"type\": \"quantitative\"}, {\"field\": \"bus_multiplier\", \"type\": \"quantitative\"}, {\"field\": \"bus_difference\", \"type\": \"quantitative\"}, {\"field\": \"num_trips\", \"type\": \"quantitative\"}, {\"field\": \"num_competitive\", \"type\": \"quantitative\"}, {\"field\": \"pct_trips_competitive\", \"type\": \"quantitative\"}, {\"field\": \"pct_below_cutoff\", \"type\": \"quantitative\"}, {\"field\": \"p25\", \"type\": \"quantitative\"}, {\"field\": \"p50\", \"type\": \"quantitative\"}, {\"field\": \"p75\", \"type\": \"quantitative\"}], \"x\": {\"axis\": {\"grid\": false, \"labels\": false, \"ticks\": true, \"values\": [0]}, \"field\": \"jitter\", \"scale\": {}, \"title\": null, \"type\": \"quantitative\"}, \"y\": {\"field\": \"bus_multiplier\", \"scale\": {\"domain\": [0, 3.0]}, \"title\": \"Ratio of Bus to Car Travel Time\", \"type\": \"quantitative\"}}, \"transform\": [{\"calculate\": \"sqrt(-2*log(random()))*cos(2*PI*random())\", \"as\": \"jitter\"}], \"width\": 50}, {\"layer\": [{\"mark\": {\"type\": \"point\", \"opacity\": 0.6, \"size\": 20, \"strokeWidth\": 1.3}, \"encoding\": {\"color\": {\"value\": \"#323434\"}, \"y\": {\"field\": \"bus_multiplier\", \"type\": \"quantitative\"}}, \"transform\": [{\"filter\": \"(datum.p50_trip === 1)\"}]}, {\"mark\": {\"type\": \"text\", \"align\": \"center\", \"baseline\": \"middle\"}, \"encoding\": {\"color\": {\"value\": \"black\"}, \"text\": {\"field\": \"pct_trips_competitive\", \"format\": \".0%\", \"type\": \"quantitative\"}, \"tooltip\": [{\"field\": \"route_id\", \"type\": \"nominal\"}, {\"field\": \"route_name\", \"type\": \"nominal\"}, {\"field\": \"trip_id\", \"type\": \"nominal\"}, {\"field\": \"service_hours\", \"type\": \"quantitative\"}, {\"field\": \"car_duration_hours\", \"type\": \"quantitative\"}, {\"field\": \"bus_multiplier\", \"type\": \"quantitative\"}, {\"field\": \"bus_difference\", \"type\": \"quantitative\"}, {\"field\": \"num_trips\", \"type\": \"quantitative\"}, {\"field\": \"num_competitive\", \"type\": \"quantitative\"}, {\"field\": \"pct_trips_competitive\", \"type\": \"quantitative\"}, {\"field\": \"pct_below_cutoff\", \"type\": \"quantitative\"}, {\"field\": \"p25\", \"type\": \"quantitative\"}, {\"field\": \"p50\", \"type\": \"quantitative\"}, {\"field\": \"p75\", \"type\": \"quantitative\"}], \"x\": {\"value\": 30}, \"y\": {\"value\": 15}}, \"transform\": [{\"calculate\": \"sqrt(-2*log(random()))*cos(2*PI*random())\", \"as\": \"jitter\"}, {\"filter\": \"(datum.fastest_trip === 1)\"}]}]}]}, \"resolve\": {\"scale\": {\"y\": \"shared\"}}, \"title\": \"Ratio of Bus to Car Travel Time\", \"$schema\": \"https://vega.github.io/schema/vega-lite/v4.17.0.json\", \"datasets\": {\"data-661d9b3dfc3fa3ece54d2fa1b0932a20\": [{\"calitp_itp_id\": 336, \"trip_key\": -3595603566866389641, \"trip_id\": \"168\", \"shape_id\": \"26\", \"route_id\": \"300\", \"service_hours\": 0.48, \"trip_first_departure_ts\": 57120, \"trip_last_arrival_ts\": 58860, \"departure_hour\": 15, \"time_of_day\": \"Midday\", \"p25\": 0.48, \"p50\": 0.62, \"p75\": 0.63, \"p50_trip\": 0, \"fastest_trip\": 0, \"car_duration_hours\": 0.4, \"competitive_route\": 1, \"bus_multiplier\": 1.2, \"bus_difference\": 4.8, \"num_trips\": 21, \"num_competitive\": 21, \"pct_trips_competitive\": 1.0, \"bus_difference_spread\": 9.0, \"route_group\": \"short\", \"max_trip_hrs\": 0.63, \"max_trip_route_group\": 0.63, \"below_cutoff\": 21, \"pct_below_cutoff\": 1.0, \"name\": \"Eastern Contra Costa Transit Authority\", \"caltrans_district\": \"04 - Oakland\", \"drmt_organization_name\": null, \"route_name\": \"Brentwood Park & Ride / Antioch Bart\", \"cutoff2\": 20, \"cutoff\": 2}, {\"calitp_itp_id\": 336, \"trip_key\": 4657302171917732366, \"trip_id\": \"355\", \"shape_id\": \"26\", \"route_id\": \"300\", \"service_hours\": 0.48, \"trip_first_departure_ts\": 67020, \"trip_last_arrival_ts\": 68760, \"departure_hour\": 18, \"time_of_day\": \"PM Peak\", \"p25\": 0.48, \"p50\": 0.62, \"p75\": 0.63, \"p50_trip\": 0, \"fastest_trip\": 0, \"car_duration_hours\": 0.4, \"competitive_route\": 1, \"bus_multiplier\": 1.2, \"bus_difference\": 4.8, \"num_trips\": 21, \"num_competitive\": 21, \"pct_trips_competitive\": 1.0, \"bus_difference_spread\": 9.0, \"route_group\": \"short\", \"max_trip_hrs\": 0.63, \"max_trip_route_group\": 0.63, \"below_cutoff\": 21, \"pct_below_cutoff\": 1.0, \"name\": \"Eastern Contra Costa Transit Authority\", \"caltrans_district\": \"04 - Oakland\", \"drmt_organization_name\": null, \"route_name\": \"Brentwood Park & Ride / Antioch Bart\", \"cutoff2\": 20, \"cutoff\": 2}, {\"calitp_itp_id\": 336, \"trip_key\": 3008143892178479368, \"trip_id\": \"230\", \"shape_id\": \"26\", \"route_id\": \"300\", \"service_hours\": 0.48, \"trip_first_departure_ts\": 53520, \"trip_last_arrival_ts\": 55260, \"departure_hour\": 14, \"time_of_day\": \"Midday\", \"p25\": 0.48, \"p50\": 0.62, \"p75\": 0.63, \"p50_trip\": 0, \"fastest_trip\": 0, \"car_duration_hours\": 0.4, \"competitive_route\": 1, \"bus_multiplier\": 1.2, \"bus_difference\": 4.8, \"num_trips\": 21, \"num_competitive\": 21, \"pct_trips_competitive\": 1.0, \"bus_difference_spread\": 9.0, \"route_group\": \"short\", \"max_trip_hrs\": 0.63, \"max_trip_route_group\": 0.63, \"below_cutoff\": 21, \"pct_below_cutoff\": 1.0, \"name\": \"Eastern Contra Costa Transit Authority\", \"caltrans_district\": \"04 - Oakland\", \"drmt_organization_name\": null, \"route_name\": \"Brentwood Park & Ride / Antioch Bart\", \"cutoff2\": 20, \"cutoff\": 2}, {\"calitp_itp_id\": 336, \"trip_key\": -6493340004722924860, \"trip_id\": \"326\", \"shape_id\": \"26\", \"route_id\": \"300\", \"service_hours\": 0.48, \"trip_first_departure_ts\": 64320, \"trip_last_arrival_ts\": 66060, \"departure_hour\": 17, \"time_of_day\": \"PM Peak\", \"p25\": 0.48, \"p50\": 0.62, \"p75\": 0.63, \"p50_trip\": 0, \"fastest_trip\": 0, \"car_duration_hours\": 0.4, \"competitive_route\": 1, \"bus_multiplier\": 1.2, \"bus_difference\": 4.8, \"num_trips\": 21, \"num_competitive\": 21, \"pct_trips_competitive\": 1.0, \"bus_difference_spread\": 9.0, \"route_group\": \"short\", \"max_trip_hrs\": 0.63, \"max_trip_route_group\": 0.63, \"below_cutoff\": 21, \"pct_below_cutoff\": 1.0, \"name\": \"Eastern Contra Costa Transit Authority\", \"caltrans_district\": \"04 - Oakland\", \"drmt_organization_name\": null, \"route_name\": \"Brentwood Park & Ride / Antioch Bart\", \"cutoff2\": 20, \"cutoff\": 2}, {\"calitp_itp_id\": 336, \"trip_key\": -5421682565614449464, \"trip_id\": \"208\", \"shape_id\": \"26\", \"route_id\": \"300\", \"service_hours\": 0.48, \"trip_first_departure_ts\": 59820, \"trip_last_arrival_ts\": 61560, \"departure_hour\": 16, \"time_of_day\": \"Midday\", \"p25\": 0.48, \"p50\": 0.62, \"p75\": 0.63, \"p50_trip\": 0, \"fastest_trip\": 0, \"car_duration_hours\": 0.4, \"competitive_route\": 1, \"bus_multiplier\": 1.2, \"bus_difference\": 4.8, \"num_trips\": 21, \"num_competitive\": 21, \"pct_trips_competitive\": 1.0, \"bus_difference_spread\": 9.0, \"route_group\": \"short\", \"max_trip_hrs\": 0.63, \"max_trip_route_group\": 0.63, \"below_cutoff\": 21, \"pct_below_cutoff\": 1.0, \"name\": \"Eastern Contra Costa Transit Authority\", \"caltrans_district\": \"04 - Oakland\", \"drmt_organization_name\": null, \"route_name\": \"Brentwood Park & Ride / Antioch Bart\", \"cutoff2\": 20, \"cutoff\": 2}, {\"calitp_itp_id\": 336, \"trip_key\": -7512179716726553911, \"trip_id\": \"268\", \"shape_id\": \"26\", \"route_id\": \"300\", \"service_hours\": 0.48, \"trip_first_departure_ts\": 49920, \"trip_last_arrival_ts\": 51660, \"departure_hour\": 13, \"time_of_day\": \"Midday\", \"p25\": 0.48, \"p50\": 0.62, \"p75\": 0.63, \"p50_trip\": 0, \"fastest_trip\": 0, \"car_duration_hours\": 0.4, \"competitive_route\": 1, \"bus_multiplier\": 1.2, \"bus_difference\": 4.8, \"num_trips\": 21, \"num_competitive\": 21, \"pct_trips_competitive\": 1.0, \"bus_difference_spread\": 9.0, \"route_group\": \"short\", \"max_trip_hrs\": 0.63, \"max_trip_route_group\": 0.63, \"below_cutoff\": 21, \"pct_below_cutoff\": 1.0, \"name\": \"Eastern Contra Costa Transit Authority\", \"caltrans_district\": \"04 - Oakland\", \"drmt_organization_name\": null, \"route_name\": \"Brentwood Park & Ride / Antioch Bart\", \"cutoff2\": 20, \"cutoff\": 2}, {\"calitp_itp_id\": 336, \"trip_key\": -8184735084160256341, \"trip_id\": \"221\", \"shape_id\": \"26\", \"route_id\": \"300\", \"service_hours\": 0.48, \"trip_first_departure_ts\": 70920, \"trip_last_arrival_ts\": 72660, \"departure_hour\": 19, \"time_of_day\": \"PM Peak\", \"p25\": 0.48, \"p50\": 0.62, \"p75\": 0.63, \"p50_trip\": 0, \"fastest_trip\": 1, \"car_duration_hours\": 0.4, \"competitive_route\": 1, \"bus_multiplier\": 1.2, \"bus_difference\": 4.8, \"num_trips\": 21, \"num_competitive\": 21, \"pct_trips_competitive\": 1.0, \"bus_difference_spread\": 9.0, \"route_group\": \"short\", \"max_trip_hrs\": 0.63, \"max_trip_route_group\": 0.63, \"below_cutoff\": 21, \"pct_below_cutoff\": 1.0, \"name\": \"Eastern Contra Costa Transit Authority\", \"caltrans_district\": \"04 - Oakland\", \"drmt_organization_name\": null, \"route_name\": \"Brentwood Park & Ride / Antioch Bart\", \"cutoff2\": 20, \"cutoff\": 2}, {\"calitp_itp_id\": 336, \"trip_key\": -1838353877336545997, \"trip_id\": \"149\", \"shape_id\": \"26\", \"route_id\": \"300\", \"service_hours\": 0.58, \"trip_first_departure_ts\": 28020, \"trip_last_arrival_ts\": 30120, \"departure_hour\": 7, \"time_of_day\": \"AM Peak\", \"p25\": 0.48, \"p50\": 0.62, \"p75\": 0.63, \"p50_trip\": 0, \"fastest_trip\": 0, \"car_duration_hours\": 0.4, \"competitive_route\": 1, \"bus_multiplier\": 1.45, \"bus_difference\": 10.8, \"num_trips\": 21, \"num_competitive\": 21, \"pct_trips_competitive\": 1.0, \"bus_difference_spread\": 9.0, \"route_group\": \"short\", \"max_trip_hrs\": 0.63, \"max_trip_route_group\": 0.63, \"below_cutoff\": 21, \"pct_below_cutoff\": 1.0, \"name\": \"Eastern Contra Costa Transit Authority\", \"caltrans_district\": \"04 - Oakland\", \"drmt_organization_name\": null, \"route_name\": \"Brentwood Park & Ride / Antioch Bart\", \"cutoff2\": 20, \"cutoff\": 2}, {\"calitp_itp_id\": 336, \"trip_key\": -5840321913192008023, \"trip_id\": \"150\", \"shape_id\": \"26\", \"route_id\": \"300\", \"service_hours\": 0.58, \"trip_first_departure_ts\": 24420, \"trip_last_arrival_ts\": 26520, \"departure_hour\": 6, \"time_of_day\": \"Owl Service\", \"p25\": 0.48, \"p50\": 0.62, \"p75\": 0.63, \"p50_trip\": 0, \"fastest_trip\": 0, \"car_duration_hours\": 0.4, \"competitive_route\": 1, \"bus_multiplier\": 1.45, \"bus_difference\": 10.8, \"num_trips\": 21, \"num_competitive\": 21, \"pct_trips_competitive\": 1.0, \"bus_difference_spread\": 9.0, \"route_group\": \"short\", \"max_trip_hrs\": 0.63, \"max_trip_route_group\": 0.63, \"below_cutoff\": 21, \"pct_below_cutoff\": 1.0, \"name\": \"Eastern Contra Costa Transit Authority\", \"caltrans_district\": \"04 - Oakland\", \"drmt_organization_name\": null, \"route_name\": \"Brentwood Park & Ride / Antioch Bart\", \"cutoff2\": 20, \"cutoff\": 2}, {\"calitp_itp_id\": 336, \"trip_key\": -3518438896911662483, \"trip_id\": \"316\", \"shape_id\": \"26\", \"route_id\": \"300\", \"service_hours\": 0.62, \"trip_first_departure_ts\": 20700, \"trip_last_arrival_ts\": 22920, \"departure_hour\": 5, \"time_of_day\": \"Owl Service\", \"p25\": 0.48, \"p50\": 0.62, \"p75\": 0.63, \"p50_trip\": 1, \"fastest_trip\": 0, \"car_duration_hours\": 0.4, \"competitive_route\": 1, \"bus_multiplier\": 1.55, \"bus_difference\": 13.2, \"num_trips\": 21, \"num_competitive\": 21, \"pct_trips_competitive\": 1.0, \"bus_difference_spread\": 9.0, \"route_group\": \"short\", \"max_trip_hrs\": 0.63, \"max_trip_route_group\": 0.63, \"below_cutoff\": 21, \"pct_below_cutoff\": 1.0, \"name\": \"Eastern Contra Costa Transit Authority\", \"caltrans_district\": \"04 - Oakland\", \"drmt_organization_name\": null, \"route_name\": \"Brentwood Park & Ride / Antioch Bart\", \"cutoff2\": 20, \"cutoff\": 2}, {\"calitp_itp_id\": 336, \"trip_key\": 1218564745994879517, \"trip_id\": \"1\", \"shape_id\": \"26\", \"route_id\": \"300\", \"service_hours\": 0.62, \"trip_first_departure_ts\": 14400, \"trip_last_arrival_ts\": 16620, \"departure_hour\": 4, \"time_of_day\": \"Owl Service\", \"p25\": 0.48, \"p50\": 0.62, \"p75\": 0.63, \"p50_trip\": 1, \"fastest_trip\": 0, \"car_duration_hours\": 0.4, \"competitive_route\": 1, \"bus_multiplier\": 1.55, \"bus_difference\": 13.2, \"num_trips\": 21, \"num_competitive\": 21, \"pct_trips_competitive\": 1.0, \"bus_difference_spread\": 9.0, \"route_group\": \"short\", \"max_trip_hrs\": 0.63, \"max_trip_route_group\": 0.63, \"below_cutoff\": 21, \"pct_below_cutoff\": 1.0, \"name\": \"Eastern Contra Costa Transit Authority\", \"caltrans_district\": \"04 - Oakland\", \"drmt_organization_name\": null, \"route_name\": \"Brentwood Park & Ride / Antioch Bart\", \"cutoff2\": 20, \"cutoff\": 2}, {\"calitp_itp_id\": 336, \"trip_key\": -1790837578518963843, \"trip_id\": \"315\", \"shape_id\": \"26\", \"route_id\": \"300\", \"service_hours\": 0.62, \"trip_first_departure_ts\": 17100, \"trip_last_arrival_ts\": 19320, \"departure_hour\": 4, \"time_of_day\": \"Owl Service\", \"p25\": 0.48, \"p50\": 0.62, \"p75\": 0.63, \"p50_trip\": 1, \"fastest_trip\": 0, \"car_duration_hours\": 0.4, \"competitive_route\": 1, \"bus_multiplier\": 1.55, \"bus_difference\": 13.2, \"num_trips\": 21, \"num_competitive\": 21, \"pct_trips_competitive\": 1.0, \"bus_difference_spread\": 9.0, \"route_group\": \"short\", \"max_trip_hrs\": 0.63, \"max_trip_route_group\": 0.63, \"below_cutoff\": 21, \"pct_below_cutoff\": 1.0, \"name\": \"Eastern Contra Costa Transit Authority\", \"caltrans_district\": \"04 - Oakland\", \"drmt_organization_name\": null, \"route_name\": \"Brentwood Park & Ride / Antioch Bart\", \"cutoff2\": 20, \"cutoff\": 2}, {\"calitp_itp_id\": 336, \"trip_key\": 3846904125504800904, \"trip_id\": \"262\", \"shape_id\": \"27\", \"route_id\": \"300\", \"service_hours\": 0.63, \"trip_first_departure_ts\": 61260, \"trip_last_arrival_ts\": 63540, \"departure_hour\": 17, \"time_of_day\": \"PM Peak\", \"p25\": 0.48, \"p50\": 0.62, \"p75\": 0.63, \"p50_trip\": 0, \"fastest_trip\": 0, \"car_duration_hours\": 0.4, \"competitive_route\": 1, \"bus_multiplier\": 1.58, \"bus_difference\": 13.8, \"num_trips\": 21, \"num_competitive\": 21, \"pct_trips_competitive\": 1.0, \"bus_difference_spread\": 9.0, \"route_group\": \"short\", \"max_trip_hrs\": 0.63, \"max_trip_route_group\": 0.63, \"below_cutoff\": 21, \"pct_below_cutoff\": 1.0, \"name\": \"Eastern Contra Costa Transit Authority\", \"caltrans_district\": \"04 - Oakland\", \"drmt_organization_name\": null, \"route_name\": \"Brentwood Park & Ride / Antioch Bart\", \"cutoff2\": 20, \"cutoff\": 2}, {\"calitp_itp_id\": 336, \"trip_key\": -8962764604675280277, \"trip_id\": \"339\", \"shape_id\": \"27\", \"route_id\": \"300\", \"service_hours\": 0.63, \"trip_first_departure_ts\": 76620, \"trip_last_arrival_ts\": 78900, \"departure_hour\": 21, \"time_of_day\": \"Owl Service\", \"p25\": 0.48, \"p50\": 0.62, \"p75\": 0.63, \"p50_trip\": 0, \"fastest_trip\": 0, \"car_duration_hours\": 0.4, \"competitive_route\": 1, \"bus_multiplier\": 1.58, \"bus_difference\": 13.8, \"num_trips\": 21, \"num_competitive\": 21, \"pct_trips_competitive\": 1.0, \"bus_difference_spread\": 9.0, \"route_group\": \"short\", \"max_trip_hrs\": 0.63, \"max_trip_route_group\": 0.63, \"below_cutoff\": 21, \"pct_below_cutoff\": 1.0, \"name\": \"Eastern Contra Costa Transit Authority\", \"caltrans_district\": \"04 - Oakland\", \"drmt_organization_name\": null, \"route_name\": \"Brentwood Park & Ride / Antioch Bart\", \"cutoff2\": 20, \"cutoff\": 2}, {\"calitp_itp_id\": 336, \"trip_key\": 6717230009727780825, \"trip_id\": \"203\", \"shape_id\": \"27\", \"route_id\": \"300\", \"service_hours\": 0.63, \"trip_first_departure_ts\": 31080, \"trip_last_arrival_ts\": 33360, \"departure_hour\": 8, \"time_of_day\": \"AM Peak\", \"p25\": 0.48, \"p50\": 0.62, \"p75\": 0.63, \"p50_trip\": 0, \"fastest_trip\": 0, \"car_duration_hours\": 0.4, \"competitive_route\": 1, \"bus_multiplier\": 1.58, \"bus_difference\": 13.8, \"num_trips\": 21, \"num_competitive\": 21, \"pct_trips_competitive\": 1.0, \"bus_difference_spread\": 9.0, \"route_group\": \"short\", \"max_trip_hrs\": 0.63, \"max_trip_route_group\": 0.63, \"below_cutoff\": 21, \"pct_below_cutoff\": 1.0, \"name\": \"Eastern Contra Costa Transit Authority\", \"caltrans_district\": \"04 - Oakland\", \"drmt_organization_name\": null, \"route_name\": \"Brentwood Park & Ride / Antioch Bart\", \"cutoff2\": 20, \"cutoff\": 2}, {\"calitp_itp_id\": 336, \"trip_key\": -5519573577282112704, \"trip_id\": \"182\", \"shape_id\": \"27\", \"route_id\": \"300\", \"service_hours\": 0.63, \"trip_first_departure_ts\": 27480, \"trip_last_arrival_ts\": 29760, \"departure_hour\": 7, \"time_of_day\": \"AM Peak\", \"p25\": 0.48, \"p50\": 0.62, \"p75\": 0.63, \"p50_trip\": 0, \"fastest_trip\": 0, \"car_duration_hours\": 0.4, \"competitive_route\": 1, \"bus_multiplier\": 1.58, \"bus_difference\": 13.8, \"num_trips\": 21, \"num_competitive\": 21, \"pct_trips_competitive\": 1.0, \"bus_difference_spread\": 9.0, \"route_group\": \"short\", \"max_trip_hrs\": 0.63, \"max_trip_route_group\": 0.63, \"below_cutoff\": 21, \"pct_below_cutoff\": 1.0, \"name\": \"Eastern Contra Costa Transit Authority\", \"caltrans_district\": \"04 - Oakland\", \"drmt_organization_name\": null, \"route_name\": \"Brentwood Park & Ride / Antioch Bart\", \"cutoff2\": 20, \"cutoff\": 2}, {\"calitp_itp_id\": 336, \"trip_key\": -6819929112498501461, \"trip_id\": \"122\", \"shape_id\": \"27\", \"route_id\": \"300\", \"service_hours\": 0.63, \"trip_first_departure_ts\": 64860, \"trip_last_arrival_ts\": 67140, \"departure_hour\": 18, \"time_of_day\": \"PM Peak\", \"p25\": 0.48, \"p50\": 0.62, \"p75\": 0.63, \"p50_trip\": 0, \"fastest_trip\": 0, \"car_duration_hours\": 0.4, \"competitive_route\": 1, \"bus_multiplier\": 1.58, \"bus_difference\": 13.8, \"num_trips\": 21, \"num_competitive\": 21, \"pct_trips_competitive\": 1.0, \"bus_difference_spread\": 9.0, \"route_group\": \"short\", \"max_trip_hrs\": 0.63, \"max_trip_route_group\": 0.63, \"below_cutoff\": 21, \"pct_below_cutoff\": 1.0, \"name\": \"Eastern Contra Costa Transit Authority\", \"caltrans_district\": \"04 - Oakland\", \"drmt_organization_name\": null, \"route_name\": \"Brentwood Park & Ride / Antioch Bart\", \"cutoff2\": 20, \"cutoff\": 2}, {\"calitp_itp_id\": 336, \"trip_key\": 8051377406893178400, \"trip_id\": \"317\", \"shape_id\": \"27\", \"route_id\": \"300\", \"service_hours\": 0.63, \"trip_first_departure_ts\": 23880, \"trip_last_arrival_ts\": 26160, \"departure_hour\": 6, \"time_of_day\": \"Owl Service\", \"p25\": 0.48, \"p50\": 0.62, \"p75\": 0.63, \"p50_trip\": 0, \"fastest_trip\": 0, \"car_duration_hours\": 0.4, \"competitive_route\": 1, \"bus_multiplier\": 1.58, \"bus_difference\": 13.8, \"num_trips\": 21, \"num_competitive\": 21, \"pct_trips_competitive\": 1.0, \"bus_difference_spread\": 9.0, \"route_group\": \"short\", \"max_trip_hrs\": 0.63, \"max_trip_route_group\": 0.63, \"below_cutoff\": 21, \"pct_below_cutoff\": 1.0, \"name\": \"Eastern Contra Costa Transit Authority\", \"caltrans_district\": \"04 - Oakland\", \"drmt_organization_name\": null, \"route_name\": \"Brentwood Park & Ride / Antioch Bart\", \"cutoff2\": 20, \"cutoff\": 2}, {\"calitp_itp_id\": 336, \"trip_key\": 757683327285874106, \"trip_id\": \"288\", \"shape_id\": \"27\", \"route_id\": \"300\", \"service_hours\": 0.63, \"trip_first_departure_ts\": 72960, \"trip_last_arrival_ts\": 75240, \"departure_hour\": 20, \"time_of_day\": \"Owl Service\", \"p25\": 0.48, \"p50\": 0.62, \"p75\": 0.63, \"p50_trip\": 0, \"fastest_trip\": 0, \"car_duration_hours\": 0.4, \"competitive_route\": 1, \"bus_multiplier\": 1.58, \"bus_difference\": 13.8, \"num_trips\": 21, \"num_competitive\": 21, \"pct_trips_competitive\": 1.0, \"bus_difference_spread\": 9.0, \"route_group\": \"short\", \"max_trip_hrs\": 0.63, \"max_trip_route_group\": 0.63, \"below_cutoff\": 21, \"pct_below_cutoff\": 1.0, \"name\": \"Eastern Contra Costa Transit Authority\", \"caltrans_district\": \"04 - Oakland\", \"drmt_organization_name\": null, \"route_name\": \"Brentwood Park & Ride / Antioch Bart\", \"cutoff2\": 20, \"cutoff\": 2}, {\"calitp_itp_id\": 336, \"trip_key\": -3183400236879323333, \"trip_id\": \"189\", \"shape_id\": \"27\", \"route_id\": \"300\", \"service_hours\": 0.63, \"trip_first_departure_ts\": 57660, \"trip_last_arrival_ts\": 59940, \"departure_hour\": 16, \"time_of_day\": \"Midday\", \"p25\": 0.48, \"p50\": 0.62, \"p75\": 0.63, \"p50_trip\": 0, \"fastest_trip\": 0, \"car_duration_hours\": 0.4, \"competitive_route\": 1, \"bus_multiplier\": 1.58, \"bus_difference\": 13.8, \"num_trips\": 21, \"num_competitive\": 21, \"pct_trips_competitive\": 1.0, \"bus_difference_spread\": 9.0, \"route_group\": \"short\", \"max_trip_hrs\": 0.63, \"max_trip_route_group\": 0.63, \"below_cutoff\": 21, \"pct_below_cutoff\": 1.0, \"name\": \"Eastern Contra Costa Transit Authority\", \"caltrans_district\": \"04 - Oakland\", \"drmt_organization_name\": null, \"route_name\": \"Brentwood Park & Ride / Antioch Bart\", \"cutoff2\": 20, \"cutoff\": 2}, {\"calitp_itp_id\": 336, \"trip_key\": -7499672029503248281, \"trip_id\": \"220\", \"shape_id\": \"27\", \"route_id\": \"300\", \"service_hours\": 0.63, \"trip_first_departure_ts\": 68460, \"trip_last_arrival_ts\": 70740, \"departure_hour\": 19, \"time_of_day\": \"PM Peak\", \"p25\": 0.48, \"p50\": 0.62, \"p75\": 0.63, \"p50_trip\": 0, \"fastest_trip\": 0, \"car_duration_hours\": 0.4, \"competitive_route\": 1, \"bus_multiplier\": 1.58, \"bus_difference\": 13.8, \"num_trips\": 21, \"num_competitive\": 21, \"pct_trips_competitive\": 1.0, \"bus_difference_spread\": 9.0, \"route_group\": \"short\", \"max_trip_hrs\": 0.63, \"max_trip_route_group\": 0.63, \"below_cutoff\": 21, \"pct_below_cutoff\": 1.0, \"name\": \"Eastern Contra Costa Transit Authority\", \"caltrans_district\": \"04 - Oakland\", \"drmt_organization_name\": null, \"route_name\": \"Brentwood Park & Ride / Antioch Bart\", \"cutoff2\": 20, \"cutoff\": 2}, {\"calitp_itp_id\": 336, \"trip_key\": -4516334964978892887, \"trip_id\": \"159\", \"shape_id\": \"63\", \"route_id\": \"389\", \"service_hours\": 0.75, \"trip_first_departure_ts\": 66360, \"trip_last_arrival_ts\": 69060, \"departure_hour\": 18, \"time_of_day\": \"PM Peak\", \"p25\": 0.75, \"p50\": 0.75, \"p75\": 0.75, \"p50_trip\": 1, \"fastest_trip\": 0, \"car_duration_hours\": 0.5, \"competitive_route\": 1, \"bus_multiplier\": 1.5, \"bus_difference\": 15.0, \"num_trips\": 17, \"num_competitive\": 17, \"pct_trips_competitive\": 1.0, \"bus_difference_spread\": 0.0, \"route_group\": \"short\", \"max_trip_hrs\": 0.75, \"max_trip_route_group\": 0.75, \"below_cutoff\": 17, \"pct_below_cutoff\": 1.0, \"name\": \"Eastern Contra Costa Transit Authority\", \"caltrans_district\": \"04 - Oakland\", \"drmt_organization_name\": null, \"route_name\": \"Pittsburg-Bay Point Bart / Bay Point\", \"cutoff2\": 20, \"cutoff\": 2}, {\"calitp_itp_id\": 336, \"trip_key\": 6248804897629426958, \"trip_id\": \"299\", \"shape_id\": \"63\", \"route_id\": \"389\", \"service_hours\": 0.75, \"trip_first_departure_ts\": 19560, \"trip_last_arrival_ts\": 22260, \"departure_hour\": 5, \"time_of_day\": \"Owl Service\", \"p25\": 0.75, \"p50\": 0.75, \"p75\": 0.75, \"p50_trip\": 1, \"fastest_trip\": 0, \"car_duration_hours\": 0.5, \"competitive_route\": 1, \"bus_multiplier\": 1.5, \"bus_difference\": 15.0, \"num_trips\": 17, \"num_competitive\": 17, \"pct_trips_competitive\": 1.0, \"bus_difference_spread\": 0.0, \"route_group\": \"short\", \"max_trip_hrs\": 0.75, \"max_trip_route_group\": 0.75, \"below_cutoff\": 17, \"pct_below_cutoff\": 1.0, \"name\": \"Eastern Contra Costa Transit Authority\", \"caltrans_district\": \"04 - Oakland\", \"drmt_organization_name\": null, \"route_name\": \"Pittsburg-Bay Point Bart / Bay Point\", \"cutoff2\": 20, \"cutoff\": 2}, {\"calitp_itp_id\": 336, \"trip_key\": -6368022821152303573, \"trip_id\": \"335\", \"shape_id\": \"63\", \"route_id\": \"389\", \"service_hours\": 0.75, \"trip_first_departure_ts\": 55560, \"trip_last_arrival_ts\": 58260, \"departure_hour\": 15, \"time_of_day\": \"Midday\", \"p25\": 0.75, \"p50\": 0.75, \"p75\": 0.75, \"p50_trip\": 1, \"fastest_trip\": 0, \"car_duration_hours\": 0.5, \"competitive_route\": 1, \"bus_multiplier\": 1.5, \"bus_difference\": 15.0, \"num_trips\": 17, \"num_competitive\": 17, \"pct_trips_competitive\": 1.0, \"bus_difference_spread\": 0.0, \"route_group\": \"short\", \"max_trip_hrs\": 0.75, \"max_trip_route_group\": 0.75, \"below_cutoff\": 17, \"pct_below_cutoff\": 1.0, \"name\": \"Eastern Contra Costa Transit Authority\", \"caltrans_district\": \"04 - Oakland\", \"drmt_organization_name\": null, \"route_name\": \"Pittsburg-Bay Point Bart / Bay Point\", \"cutoff2\": 20, \"cutoff\": 2}, {\"calitp_itp_id\": 336, \"trip_key\": 1841101944480048605, \"trip_id\": \"165\", \"shape_id\": \"63\", \"route_id\": \"389\", \"service_hours\": 0.75, \"trip_first_departure_ts\": 38160, \"trip_last_arrival_ts\": 40860, \"departure_hour\": 10, \"time_of_day\": \"Midday\", \"p25\": 0.75, \"p50\": 0.75, \"p75\": 0.75, \"p50_trip\": 1, \"fastest_trip\": 0, \"car_duration_hours\": 0.5, \"competitive_route\": 1, \"bus_multiplier\": 1.5, \"bus_difference\": 15.0, \"num_trips\": 17, \"num_competitive\": 17, \"pct_trips_competitive\": 1.0, \"bus_difference_spread\": 0.0, \"route_group\": \"short\", \"max_trip_hrs\": 0.75, \"max_trip_route_group\": 0.75, \"below_cutoff\": 17, \"pct_below_cutoff\": 1.0, \"name\": \"Eastern Contra Costa Transit Authority\", \"caltrans_district\": \"04 - Oakland\", \"drmt_organization_name\": null, \"route_name\": \"Pittsburg-Bay Point Bart / Bay Point\", \"cutoff2\": 20, \"cutoff\": 2}, {\"calitp_itp_id\": 336, \"trip_key\": -2363506806830337797, \"trip_id\": \"349\", \"shape_id\": \"63\", \"route_id\": \"389\", \"service_hours\": 0.75, \"trip_first_departure_ts\": 30960, \"trip_last_arrival_ts\": 33660, \"departure_hour\": 8, \"time_of_day\": \"AM Peak\", \"p25\": 0.75, \"p50\": 0.75, \"p75\": 0.75, \"p50_trip\": 1, \"fastest_trip\": 0, \"car_duration_hours\": 0.5, \"competitive_route\": 1, \"bus_multiplier\": 1.5, \"bus_difference\": 15.0, \"num_trips\": 17, \"num_competitive\": 17, \"pct_trips_competitive\": 1.0, \"bus_difference_spread\": 0.0, \"route_group\": \"short\", \"max_trip_hrs\": 0.75, \"max_trip_route_group\": 0.75, \"below_cutoff\": 17, \"pct_below_cutoff\": 1.0, \"name\": \"Eastern Contra Costa Transit Authority\", \"caltrans_district\": \"04 - Oakland\", \"drmt_organization_name\": null, \"route_name\": \"Pittsburg-Bay Point Bart / Bay Point\", \"cutoff2\": 20, \"cutoff\": 2}, {\"calitp_itp_id\": 336, \"trip_key\": -9169638097397790159, \"trip_id\": \"211\", \"shape_id\": \"63\", \"route_id\": \"389\", \"service_hours\": 0.75, \"trip_first_departure_ts\": 74400, \"trip_last_arrival_ts\": 77100, \"departure_hour\": 20, \"time_of_day\": \"Owl Service\", \"p25\": 0.75, \"p50\": 0.75, \"p75\": 0.75, \"p50_trip\": 1, \"fastest_trip\": 1, \"car_duration_hours\": 0.5, \"competitive_route\": 1, \"bus_multiplier\": 1.5, \"bus_difference\": 15.0, \"num_trips\": 17, \"num_competitive\": 17, \"pct_trips_competitive\": 1.0, \"bus_difference_spread\": 0.0, \"route_group\": \"short\", \"max_trip_hrs\": 0.75, \"max_trip_route_group\": 0.75, \"below_cutoff\": 17, \"pct_below_cutoff\": 1.0, \"name\": \"Eastern Contra Costa Transit Authority\", \"caltrans_district\": \"04 - Oakland\", \"drmt_organization_name\": null, \"route_name\": \"Pittsburg-Bay Point Bart / Bay Point\", \"cutoff2\": 20, \"cutoff\": 2}, {\"calitp_itp_id\": 336, \"trip_key\": -4028122471752396186, \"trip_id\": \"215\", \"shape_id\": \"63\", \"route_id\": \"389\", \"service_hours\": 0.75, \"trip_first_departure_ts\": 34560, \"trip_last_arrival_ts\": 37260, \"departure_hour\": 9, \"time_of_day\": \"AM Peak\", \"p25\": 0.75, \"p50\": 0.75, \"p75\": 0.75, \"p50_trip\": 1, \"fastest_trip\": 0, \"car_duration_hours\": 0.5, \"competitive_route\": 1, \"bus_multiplier\": 1.5, \"bus_difference\": 15.0, \"num_trips\": 17, \"num_competitive\": 17, \"pct_trips_competitive\": 1.0, \"bus_difference_spread\": 0.0, \"route_group\": \"short\", \"max_trip_hrs\": 0.75, \"max_trip_route_group\": 0.75, \"below_cutoff\": 17, \"pct_below_cutoff\": 1.0, \"name\": \"Eastern Contra Costa Transit Authority\", \"caltrans_district\": \"04 - Oakland\", \"drmt_organization_name\": null, \"route_name\": \"Pittsburg-Bay Point Bart / Bay Point\", \"cutoff2\": 20, \"cutoff\": 2}, {\"calitp_itp_id\": 336, \"trip_key\": -3876890318065204347, \"trip_id\": \"50\", \"shape_id\": \"63\", \"route_id\": \"389\", \"service_hours\": 0.75, \"trip_first_departure_ts\": 70800, \"trip_last_arrival_ts\": 73500, \"departure_hour\": 19, \"time_of_day\": \"PM Peak\", \"p25\": 0.75, \"p50\": 0.75, \"p75\": 0.75, \"p50_trip\": 1, \"fastest_trip\": 0, \"car_duration_hours\": 0.5, \"competitive_route\": 1, \"bus_multiplier\": 1.5, \"bus_difference\": 15.0, \"num_trips\": 17, \"num_competitive\": 17, \"pct_trips_competitive\": 1.0, \"bus_difference_spread\": 0.0, \"route_group\": \"short\", \"max_trip_hrs\": 0.75, \"max_trip_route_group\": 0.75, \"below_cutoff\": 17, \"pct_below_cutoff\": 1.0, \"name\": \"Eastern Contra Costa Transit Authority\", \"caltrans_district\": \"04 - Oakland\", \"drmt_organization_name\": null, \"route_name\": \"Pittsburg-Bay Point Bart / Bay Point\", \"cutoff2\": 20, \"cutoff\": 2}, {\"calitp_itp_id\": 336, \"trip_key\": 9006479579654062379, \"trip_id\": \"18\", \"shape_id\": \"63\", \"route_id\": \"389\", \"service_hours\": 0.75, \"trip_first_departure_ts\": 41760, \"trip_last_arrival_ts\": 44460, \"departure_hour\": 11, \"time_of_day\": \"Midday\", \"p25\": 0.75, \"p50\": 0.75, \"p75\": 0.75, \"p50_trip\": 1, \"fastest_trip\": 0, \"car_duration_hours\": 0.5, \"competitive_route\": 1, \"bus_multiplier\": 1.5, \"bus_difference\": 15.0, \"num_trips\": 17, \"num_competitive\": 17, \"pct_trips_competitive\": 1.0, \"bus_difference_spread\": 0.0, \"route_group\": \"short\", \"max_trip_hrs\": 0.75, \"max_trip_route_group\": 0.75, \"below_cutoff\": 17, \"pct_below_cutoff\": 1.0, \"name\": \"Eastern Contra Costa Transit Authority\", \"caltrans_district\": \"04 - Oakland\", \"drmt_organization_name\": null, \"route_name\": \"Pittsburg-Bay Point Bart / Bay Point\", \"cutoff2\": 20, \"cutoff\": 2}, {\"calitp_itp_id\": 336, \"trip_key\": 2533656649093970127, \"trip_id\": \"298\", \"shape_id\": \"63\", \"route_id\": \"389\", \"service_hours\": 0.75, \"trip_first_departure_ts\": 16560, \"trip_last_arrival_ts\": 19260, \"departure_hour\": 4, \"time_of_day\": \"Owl Service\", \"p25\": 0.75, \"p50\": 0.75, \"p75\": 0.75, \"p50_trip\": 1, \"fastest_trip\": 0, \"car_duration_hours\": 0.5, \"competitive_route\": 1, \"bus_multiplier\": 1.5, \"bus_difference\": 15.0, \"num_trips\": 17, \"num_competitive\": 17, \"pct_trips_competitive\": 1.0, \"bus_difference_spread\": 0.0, \"route_group\": \"short\", \"max_trip_hrs\": 0.75, \"max_trip_route_group\": 0.75, \"below_cutoff\": 17, \"pct_below_cutoff\": 1.0, \"name\": \"Eastern Contra Costa Transit Authority\", \"caltrans_district\": \"04 - Oakland\", \"drmt_organization_name\": null, \"route_name\": \"Pittsburg-Bay Point Bart / Bay Point\", \"cutoff2\": 20, \"cutoff\": 2}, {\"calitp_itp_id\": 336, \"trip_key\": -8533807750394997149, \"trip_id\": \"286\", \"shape_id\": \"63\", \"route_id\": \"389\", \"service_hours\": 0.75, \"trip_first_departure_ts\": 63180, \"trip_last_arrival_ts\": 65880, \"departure_hour\": 17, \"time_of_day\": \"PM Peak\", \"p25\": 0.75, \"p50\": 0.75, \"p75\": 0.75, \"p50_trip\": 1, \"fastest_trip\": 0, \"car_duration_hours\": 0.5, \"competitive_route\": 1, \"bus_multiplier\": 1.5, \"bus_difference\": 15.0, \"num_trips\": 17, \"num_competitive\": 17, \"pct_trips_competitive\": 1.0, \"bus_difference_spread\": 0.0, \"route_group\": \"short\", \"max_trip_hrs\": 0.75, \"max_trip_route_group\": 0.75, \"below_cutoff\": 17, \"pct_below_cutoff\": 1.0, \"name\": \"Eastern Contra Costa Transit Authority\", \"caltrans_district\": \"04 - Oakland\", \"drmt_organization_name\": null, \"route_name\": \"Pittsburg-Bay Point Bart / Bay Point\", \"cutoff2\": 20, \"cutoff\": 2}, {\"calitp_itp_id\": 336, \"trip_key\": -3226386426991294876, \"trip_id\": \"5\", \"shape_id\": \"63\", \"route_id\": \"389\", \"service_hours\": 0.75, \"trip_first_departure_ts\": 48960, \"trip_last_arrival_ts\": 51660, \"departure_hour\": 13, \"time_of_day\": \"Midday\", \"p25\": 0.75, \"p50\": 0.75, \"p75\": 0.75, \"p50_trip\": 1, \"fastest_trip\": 0, \"car_duration_hours\": 0.5, \"competitive_route\": 1, \"bus_multiplier\": 1.5, \"bus_difference\": 15.0, \"num_trips\": 17, \"num_competitive\": 17, \"pct_trips_competitive\": 1.0, \"bus_difference_spread\": 0.0, \"route_group\": \"short\", \"max_trip_hrs\": 0.75, \"max_trip_route_group\": 0.75, \"below_cutoff\": 17, \"pct_below_cutoff\": 1.0, \"name\": \"Eastern Contra Costa Transit Authority\", \"caltrans_district\": \"04 - Oakland\", \"drmt_organization_name\": null, \"route_name\": \"Pittsburg-Bay Point Bart / Bay Point\", \"cutoff2\": 20, \"cutoff\": 2}, {\"calitp_itp_id\": 336, \"trip_key\": -8567373102071165085, \"trip_id\": \"206\", \"shape_id\": \"63\", \"route_id\": \"389\", \"service_hours\": 0.75, \"trip_first_departure_ts\": 45360, \"trip_last_arrival_ts\": 48060, \"departure_hour\": 12, \"time_of_day\": \"Midday\", \"p25\": 0.75, \"p50\": 0.75, \"p75\": 0.75, \"p50_trip\": 1, \"fastest_trip\": 0, \"car_duration_hours\": 0.5, \"competitive_route\": 1, \"bus_multiplier\": 1.5, \"bus_difference\": 15.0, \"num_trips\": 17, \"num_competitive\": 17, \"pct_trips_competitive\": 1.0, \"bus_difference_spread\": 0.0, \"route_group\": \"short\", \"max_trip_hrs\": 0.75, \"max_trip_route_group\": 0.75, \"below_cutoff\": 17, \"pct_below_cutoff\": 1.0, \"name\": \"Eastern Contra Costa Transit Authority\", \"caltrans_district\": \"04 - Oakland\", \"drmt_organization_name\": null, \"route_name\": \"Pittsburg-Bay Point Bart / Bay Point\", \"cutoff2\": 20, \"cutoff\": 2}, {\"calitp_itp_id\": 336, \"trip_key\": 654490563874909058, \"trip_id\": \"343\", \"shape_id\": \"63\", \"route_id\": \"389\", \"service_hours\": 0.75, \"trip_first_departure_ts\": 23160, \"trip_last_arrival_ts\": 25860, \"departure_hour\": 6, \"time_of_day\": \"Owl Service\", \"p25\": 0.75, \"p50\": 0.75, \"p75\": 0.75, \"p50_trip\": 1, \"fastest_trip\": 0, \"car_duration_hours\": 0.5, \"competitive_route\": 1, \"bus_multiplier\": 1.5, \"bus_difference\": 15.0, \"num_trips\": 17, \"num_competitive\": 17, \"pct_trips_competitive\": 1.0, \"bus_difference_spread\": 0.0, \"route_group\": \"short\", \"max_trip_hrs\": 0.75, \"max_trip_route_group\": 0.75, \"below_cutoff\": 17, \"pct_below_cutoff\": 1.0, \"name\": \"Eastern Contra Costa Transit Authority\", \"caltrans_district\": \"04 - Oakland\", \"drmt_organization_name\": null, \"route_name\": \"Pittsburg-Bay Point Bart / Bay Point\", \"cutoff2\": 20, \"cutoff\": 2}, {\"calitp_itp_id\": 336, \"trip_key\": -1427182616917798899, \"trip_id\": \"344\", \"shape_id\": \"63\", \"route_id\": \"389\", \"service_hours\": 0.75, \"trip_first_departure_ts\": 26340, \"trip_last_arrival_ts\": 29040, \"departure_hour\": 7, \"time_of_day\": \"AM Peak\", \"p25\": 0.75, \"p50\": 0.75, \"p75\": 0.75, \"p50_trip\": 1, \"fastest_trip\": 0, \"car_duration_hours\": 0.5, \"competitive_route\": 1, \"bus_multiplier\": 1.5, \"bus_difference\": 15.0, \"num_trips\": 17, \"num_competitive\": 17, \"pct_trips_competitive\": 1.0, \"bus_difference_spread\": 0.0, \"route_group\": \"short\", \"max_trip_hrs\": 0.75, \"max_trip_route_group\": 0.75, \"below_cutoff\": 17, \"pct_below_cutoff\": 1.0, \"name\": \"Eastern Contra Costa Transit Authority\", \"caltrans_district\": \"04 - Oakland\", \"drmt_organization_name\": null, \"route_name\": \"Pittsburg-Bay Point Bart / Bay Point\", \"cutoff2\": 20, \"cutoff\": 2}, {\"calitp_itp_id\": 336, \"trip_key\": 7578027158838420240, \"trip_id\": \"276\", \"shape_id\": \"63\", \"route_id\": \"389\", \"service_hours\": 0.75, \"trip_first_departure_ts\": 59160, \"trip_last_arrival_ts\": 61860, \"departure_hour\": 16, \"time_of_day\": \"Midday\", \"p25\": 0.75, \"p50\": 0.75, \"p75\": 0.75, \"p50_trip\": 1, \"fastest_trip\": 0, \"car_duration_hours\": 0.5, \"competitive_route\": 1, \"bus_multiplier\": 1.5, \"bus_difference\": 15.0, \"num_trips\": 17, \"num_competitive\": 17, \"pct_trips_competitive\": 1.0, \"bus_difference_spread\": 0.0, \"route_group\": \"short\", \"max_trip_hrs\": 0.75, \"max_trip_route_group\": 0.75, \"below_cutoff\": 17, \"pct_below_cutoff\": 1.0, \"name\": \"Eastern Contra Costa Transit Authority\", \"caltrans_district\": \"04 - Oakland\", \"drmt_organization_name\": null, \"route_name\": \"Pittsburg-Bay Point Bart / Bay Point\", \"cutoff2\": 20, \"cutoff\": 2}, {\"calitp_itp_id\": 336, \"trip_key\": -677869521889259212, \"trip_id\": \"334\", \"shape_id\": \"63\", \"route_id\": \"389\", \"service_hours\": 0.75, \"trip_first_departure_ts\": 52560, \"trip_last_arrival_ts\": 55260, \"departure_hour\": 14, \"time_of_day\": \"Midday\", \"p25\": 0.75, \"p50\": 0.75, \"p75\": 0.75, \"p50_trip\": 1, \"fastest_trip\": 0, \"car_duration_hours\": 0.5, \"competitive_route\": 1, \"bus_multiplier\": 1.5, \"bus_difference\": 15.0, \"num_trips\": 17, \"num_competitive\": 17, \"pct_trips_competitive\": 1.0, \"bus_difference_spread\": 0.0, \"route_group\": \"short\", \"max_trip_hrs\": 0.75, \"max_trip_route_group\": 0.75, \"below_cutoff\": 17, \"pct_below_cutoff\": 1.0, \"name\": \"Eastern Contra Costa Transit Authority\", \"caltrans_district\": \"04 - Oakland\", \"drmt_organization_name\": null, \"route_name\": \"Pittsburg-Bay Point Bart / Bay Point\", \"cutoff2\": 20, \"cutoff\": 2}, {\"calitp_itp_id\": 336, \"trip_key\": -6260223717104600245, \"trip_id\": \"39\", \"shape_id\": \"7\", \"route_id\": \"390\", \"service_hours\": 0.78, \"trip_first_departure_ts\": 71100, \"trip_last_arrival_ts\": 73920, \"departure_hour\": 19, \"time_of_day\": \"PM Peak\", \"p25\": 0.82, \"p50\": 0.9, \"p75\": 0.92, \"p50_trip\": 0, \"fastest_trip\": 1, \"car_duration_hours\": 0.63, \"competitive_route\": 1, \"bus_multiplier\": 1.24, \"bus_difference\": 9.0, \"num_trips\": 9, \"num_competitive\": 9, \"pct_trips_competitive\": 1.0, \"bus_difference_spread\": 10.2, \"route_group\": \"short\", \"max_trip_hrs\": 0.95, \"max_trip_route_group\": 0.95, \"below_cutoff\": 9, \"pct_below_cutoff\": 1.0, \"name\": \"Eastern Contra Costa Transit Authority\", \"caltrans_district\": \"04 - Oakland\", \"drmt_organization_name\": null, \"route_name\": \"Antioch Bart / Pittsburg-Bay Point Bart\", \"cutoff2\": 20, \"cutoff\": 2}, {\"calitp_itp_id\": 336, \"trip_key\": -3387021444805663653, \"trip_id\": \"295\", \"shape_id\": \"7\", \"route_id\": \"390\", \"service_hours\": 0.82, \"trip_first_departure_ts\": 67500, \"trip_last_arrival_ts\": 70440, \"departure_hour\": 18, \"time_of_day\": \"PM Peak\", \"p25\": 0.82, \"p50\": 0.9, \"p75\": 0.92, \"p50_trip\": 0, \"fastest_trip\": 0, \"car_duration_hours\": 0.63, \"competitive_route\": 1, \"bus_multiplier\": 1.3, \"bus_difference\": 11.4, \"num_trips\": 9, \"num_competitive\": 9, \"pct_trips_competitive\": 1.0, \"bus_difference_spread\": 10.2, \"route_group\": \"short\", \"max_trip_hrs\": 0.95, \"max_trip_route_group\": 0.95, \"below_cutoff\": 9, \"pct_below_cutoff\": 1.0, \"name\": \"Eastern Contra Costa Transit Authority\", \"caltrans_district\": \"04 - Oakland\", \"drmt_organization_name\": null, \"route_name\": \"Antioch Bart / Pittsburg-Bay Point Bart\", \"cutoff2\": 20, \"cutoff\": 2}, {\"calitp_itp_id\": 336, \"trip_key\": 9123605031033432589, \"trip_id\": \"209\", \"shape_id\": \"7\", \"route_id\": \"390\", \"service_hours\": 0.82, \"trip_first_departure_ts\": 63900, \"trip_last_arrival_ts\": 66840, \"departure_hour\": 17, \"time_of_day\": \"PM Peak\", \"p25\": 0.82, \"p50\": 0.9, \"p75\": 0.92, \"p50_trip\": 0, \"fastest_trip\": 0, \"car_duration_hours\": 0.63, \"competitive_route\": 1, \"bus_multiplier\": 1.3, \"bus_difference\": 11.4, \"num_trips\": 9, \"num_competitive\": 9, \"pct_trips_competitive\": 1.0, \"bus_difference_spread\": 10.2, \"route_group\": \"short\", \"max_trip_hrs\": 0.95, \"max_trip_route_group\": 0.95, \"below_cutoff\": 9, \"pct_below_cutoff\": 1.0, \"name\": \"Eastern Contra Costa Transit Authority\", \"caltrans_district\": \"04 - Oakland\", \"drmt_organization_name\": null, \"route_name\": \"Antioch Bart / Pittsburg-Bay Point Bart\", \"cutoff2\": 20, \"cutoff\": 2}, {\"calitp_itp_id\": 336, \"trip_key\": -3181578854684854068, \"trip_id\": \"336\", \"shape_id\": \"7\", \"route_id\": \"390\", \"service_hours\": 0.82, \"trip_first_departure_ts\": 60300, \"trip_last_arrival_ts\": 63240, \"departure_hour\": 16, \"time_of_day\": \"Midday\", \"p25\": 0.82, \"p50\": 0.9, \"p75\": 0.92, \"p50_trip\": 0, \"fastest_trip\": 0, \"car_duration_hours\": 0.63, \"competitive_route\": 1, \"bus_multiplier\": 1.3, \"bus_difference\": 11.4, \"num_trips\": 9, \"num_competitive\": 9, \"pct_trips_competitive\": 1.0, \"bus_difference_spread\": 10.2, \"route_group\": \"short\", \"max_trip_hrs\": 0.95, \"max_trip_route_group\": 0.95, \"below_cutoff\": 9, \"pct_below_cutoff\": 1.0, \"name\": \"Eastern Contra Costa Transit Authority\", \"caltrans_district\": \"04 - Oakland\", \"drmt_organization_name\": null, \"route_name\": \"Antioch Bart / Pittsburg-Bay Point Bart\", \"cutoff2\": 20, \"cutoff\": 2}, {\"calitp_itp_id\": 336, \"trip_key\": -3398492314336586397, \"trip_id\": \"183\", \"shape_id\": \"16\", \"route_id\": \"390\", \"service_hours\": 0.9, \"trip_first_departure_ts\": 24120, \"trip_last_arrival_ts\": 27360, \"departure_hour\": 6, \"time_of_day\": \"Owl Service\", \"p25\": 0.82, \"p50\": 0.9, \"p75\": 0.92, \"p50_trip\": 1, \"fastest_trip\": 0, \"car_duration_hours\": 0.63, \"competitive_route\": 1, \"bus_multiplier\": 1.43, \"bus_difference\": 16.2, \"num_trips\": 9, \"num_competitive\": 9, \"pct_trips_competitive\": 1.0, \"bus_difference_spread\": 10.2, \"route_group\": \"short\", \"max_trip_hrs\": 0.95, \"max_trip_route_group\": 0.95, \"below_cutoff\": 9, \"pct_below_cutoff\": 1.0, \"name\": \"Eastern Contra Costa Transit Authority\", \"caltrans_district\": \"04 - Oakland\", \"drmt_organization_name\": null, \"route_name\": \"Antioch Bart / Pittsburg-Bay Point Bart\", \"cutoff2\": 20, \"cutoff\": 2}, {\"calitp_itp_id\": 336, \"trip_key\": -6074753833568489764, \"trip_id\": \"306\", \"shape_id\": \"16\", \"route_id\": \"390\", \"service_hours\": 0.92, \"trip_first_departure_ts\": 17400, \"trip_last_arrival_ts\": 20700, \"departure_hour\": 4, \"time_of_day\": \"Owl Service\", \"p25\": 0.82, \"p50\": 0.9, \"p75\": 0.92, \"p50_trip\": 0, \"fastest_trip\": 0, \"car_duration_hours\": 0.63, \"competitive_route\": 1, \"bus_multiplier\": 1.46, \"bus_difference\": 17.4, \"num_trips\": 9, \"num_competitive\": 9, \"pct_trips_competitive\": 1.0, \"bus_difference_spread\": 10.2, \"route_group\": \"short\", \"max_trip_hrs\": 0.95, \"max_trip_route_group\": 0.95, \"below_cutoff\": 9, \"pct_below_cutoff\": 1.0, \"name\": \"Eastern Contra Costa Transit Authority\", \"caltrans_district\": \"04 - Oakland\", \"drmt_organization_name\": null, \"route_name\": \"Antioch Bart / Pittsburg-Bay Point Bart\", \"cutoff2\": 20, \"cutoff\": 2}, {\"calitp_itp_id\": 336, \"trip_key\": -2530239657630680185, \"trip_id\": \"297\", \"shape_id\": \"16\", \"route_id\": \"390\", \"service_hours\": 0.92, \"trip_first_departure_ts\": 12900, \"trip_last_arrival_ts\": 16200, \"departure_hour\": 3, \"time_of_day\": \"Owl Service\", \"p25\": 0.82, \"p50\": 0.9, \"p75\": 0.92, \"p50_trip\": 0, \"fastest_trip\": 0, \"car_duration_hours\": 0.63, \"competitive_route\": 1, \"bus_multiplier\": 1.46, \"bus_difference\": 17.4, \"num_trips\": 9, \"num_competitive\": 9, \"pct_trips_competitive\": 1.0, \"bus_difference_spread\": 10.2, \"route_group\": \"short\", \"max_trip_hrs\": 0.95, \"max_trip_route_group\": 0.95, \"below_cutoff\": 9, \"pct_below_cutoff\": 1.0, \"name\": \"Eastern Contra Costa Transit Authority\", \"caltrans_district\": \"04 - Oakland\", \"drmt_organization_name\": null, \"route_name\": \"Antioch Bart / Pittsburg-Bay Point Bart\", \"cutoff2\": 20, \"cutoff\": 2}, {\"calitp_itp_id\": 336, \"trip_key\": -7904319697205535131, \"trip_id\": \"78\", \"shape_id\": \"16\", \"route_id\": \"390\", \"service_hours\": 0.95, \"trip_first_departure_ts\": 21000, \"trip_last_arrival_ts\": 24420, \"departure_hour\": 5, \"time_of_day\": \"Owl Service\", \"p25\": 0.82, \"p50\": 0.9, \"p75\": 0.92, \"p50_trip\": 0, \"fastest_trip\": 0, \"car_duration_hours\": 0.63, \"competitive_route\": 1, \"bus_multiplier\": 1.51, \"bus_difference\": 19.2, \"num_trips\": 9, \"num_competitive\": 9, \"pct_trips_competitive\": 1.0, \"bus_difference_spread\": 10.2, \"route_group\": \"short\", \"max_trip_hrs\": 0.95, \"max_trip_route_group\": 0.95, \"below_cutoff\": 9, \"pct_below_cutoff\": 1.0, \"name\": \"Eastern Contra Costa Transit Authority\", \"caltrans_district\": \"04 - Oakland\", \"drmt_organization_name\": null, \"route_name\": \"Antioch Bart / Pittsburg-Bay Point Bart\", \"cutoff2\": 20, \"cutoff\": 2}, {\"calitp_itp_id\": 336, \"trip_key\": 9104313909335265965, \"trip_id\": \"124\", \"shape_id\": \"16\", \"route_id\": \"390\", \"service_hours\": 0.95, \"trip_first_departure_ts\": 25740, \"trip_last_arrival_ts\": 29160, \"departure_hour\": 7, \"time_of_day\": \"AM Peak\", \"p25\": 0.82, \"p50\": 0.9, \"p75\": 0.92, \"p50_trip\": 0, \"fastest_trip\": 0, \"car_duration_hours\": 0.63, \"competitive_route\": 1, \"bus_multiplier\": 1.51, \"bus_difference\": 19.2, \"num_trips\": 9, \"num_competitive\": 9, \"pct_trips_competitive\": 1.0, \"bus_difference_spread\": 10.2, \"route_group\": \"short\", \"max_trip_hrs\": 0.95, \"max_trip_route_group\": 0.95, \"below_cutoff\": 9, \"pct_below_cutoff\": 1.0, \"name\": \"Eastern Contra Costa Transit Authority\", \"caltrans_district\": \"04 - Oakland\", \"drmt_organization_name\": null, \"route_name\": \"Antioch Bart / Pittsburg-Bay Point Bart\", \"cutoff2\": 20, \"cutoff\": 2}]}}, {\"mode\": \"vega-lite\"});\n",
       "</script>"
      ],
      "text/plain": [
       "alt.FacetChart(...)"
      ]
     },
     "metadata": {},
     "output_type": "display_data"
    },
    {
     "data": {
      "text/html": [
       "\n",
       "<div id=\"altair-viz-398817115175454b9522387c9288017c\"></div>\n",
       "<script type=\"text/javascript\">\n",
       "  var VEGA_DEBUG = (typeof VEGA_DEBUG == \"undefined\") ? {} : VEGA_DEBUG;\n",
       "  (function(spec, embedOpt){\n",
       "    let outputDiv = document.currentScript.previousElementSibling;\n",
       "    if (outputDiv.id !== \"altair-viz-398817115175454b9522387c9288017c\") {\n",
       "      outputDiv = document.getElementById(\"altair-viz-398817115175454b9522387c9288017c\");\n",
       "    }\n",
       "    const paths = {\n",
       "      \"vega\": \"https://cdn.jsdelivr.net/npm//vega@5?noext\",\n",
       "      \"vega-lib\": \"https://cdn.jsdelivr.net/npm//vega-lib?noext\",\n",
       "      \"vega-lite\": \"https://cdn.jsdelivr.net/npm//vega-lite@4.17.0?noext\",\n",
       "      \"vega-embed\": \"https://cdn.jsdelivr.net/npm//vega-embed@6?noext\",\n",
       "    };\n",
       "\n",
       "    function maybeLoadScript(lib, version) {\n",
       "      var key = `${lib.replace(\"-\", \"\")}_version`;\n",
       "      return (VEGA_DEBUG[key] == version) ?\n",
       "        Promise.resolve(paths[lib]) :\n",
       "        new Promise(function(resolve, reject) {\n",
       "          var s = document.createElement('script');\n",
       "          document.getElementsByTagName(\"head\")[0].appendChild(s);\n",
       "          s.async = true;\n",
       "          s.onload = () => {\n",
       "            VEGA_DEBUG[key] = version;\n",
       "            return resolve(paths[lib]);\n",
       "          };\n",
       "          s.onerror = () => reject(`Error loading script: ${paths[lib]}`);\n",
       "          s.src = paths[lib];\n",
       "        });\n",
       "    }\n",
       "\n",
       "    function showError(err) {\n",
       "      outputDiv.innerHTML = `<div class=\"error\" style=\"color:red;\">${err}</div>`;\n",
       "      throw err;\n",
       "    }\n",
       "\n",
       "    function displayChart(vegaEmbed) {\n",
       "      vegaEmbed(outputDiv, spec, embedOpt)\n",
       "        .catch(err => showError(`Javascript Error: ${err.message}<br>This usually means there's a typo in your chart specification. See the javascript console for the full traceback.`));\n",
       "    }\n",
       "\n",
       "    if(typeof define === \"function\" && define.amd) {\n",
       "      requirejs.config({paths});\n",
       "      require([\"vega-embed\"], displayChart, err => showError(`Error loading script: ${err.message}`));\n",
       "    } else {\n",
       "      maybeLoadScript(\"vega\", \"5\")\n",
       "        .then(() => maybeLoadScript(\"vega-lite\", \"4.17.0\"))\n",
       "        .then(() => maybeLoadScript(\"vega-embed\", \"6\"))\n",
       "        .catch(showError)\n",
       "        .then(() => displayChart(vegaEmbed));\n",
       "    }\n",
       "  })({\"config\": {\"view\": {\"continuousWidth\": 400, \"continuousHeight\": 300, \"stroke\": null}, \"facet\": {\"spacing\": 0}}, \"data\": {\"name\": \"data-dc010901f5a73d89bfcd37b1a6698ec1\"}, \"facet\": {\"column\": {\"field\": \"route_id\", \"sort\": [\"300\", \"389\", \"390\"], \"title\": \"Route ID\", \"type\": \"nominal\"}}, \"spec\": {\"layer\": [{\"mark\": \"rule\", \"encoding\": {\"color\": {\"value\": \"black\"}, \"y\": {\"field\": \"cutoff\", \"type\": \"quantitative\"}}, \"selection\": {\"selector002\": {\"type\": \"interval\", \"bind\": \"scales\", \"encodings\": [\"x\", \"y\"]}}}, {\"mark\": {\"type\": \"rule\", \"strokeDash\": [3, 3]}, \"encoding\": {\"color\": {\"value\": \"#323434\"}, \"y\": {\"field\": \"cutoff2\", \"type\": \"quantitative\"}}}, {\"mark\": {\"type\": \"point\", \"opacity\": 0.65, \"size\": 12, \"strokeWidth\": 1.1}, \"encoding\": {\"color\": {\"field\": \"time_of_day\", \"scale\": {\"range\": [\"#136C97\", \"#E16B26\", \"#F6BF16\", \"#00896B\", \"#7790A3\", \"#5B559C\"]}, \"sort\": [\"AM Peak\", \"Midday\", \"PM Peak\", \"Owl Service\"], \"title\": \"Time of Day\", \"type\": \"nominal\"}, \"tooltip\": [{\"field\": \"route_id\", \"type\": \"nominal\"}, {\"field\": \"route_name\", \"type\": \"nominal\"}, {\"field\": \"trip_id\", \"type\": \"nominal\"}, {\"field\": \"service_hours\", \"type\": \"quantitative\"}, {\"field\": \"car_duration_hours\", \"type\": \"quantitative\"}, {\"field\": \"bus_multiplier\", \"type\": \"quantitative\"}, {\"field\": \"bus_difference\", \"type\": \"quantitative\"}, {\"field\": \"num_trips\", \"type\": \"quantitative\"}, {\"field\": \"num_competitive\", \"type\": \"quantitative\"}, {\"field\": \"pct_trips_competitive\", \"type\": \"quantitative\"}, {\"field\": \"pct_below_cutoff\", \"type\": \"quantitative\"}, {\"field\": \"p25\", \"type\": \"quantitative\"}, {\"field\": \"p50\", \"type\": \"quantitative\"}, {\"field\": \"p75\", \"type\": \"quantitative\"}], \"x\": {\"axis\": {\"grid\": false, \"labels\": false, \"ticks\": true, \"values\": [0]}, \"field\": \"jitter\", \"scale\": {}, \"title\": null, \"type\": \"quantitative\"}, \"y\": {\"field\": \"bus_difference\", \"scale\": {\"domain\": [-5, 51.6]}, \"title\": \"Difference in Bus to Car Travel Time (min)\", \"type\": \"quantitative\"}}, \"transform\": [{\"calculate\": \"sqrt(-2*log(random()))*cos(2*PI*random())\", \"as\": \"jitter\"}], \"width\": 50}, {\"layer\": [{\"mark\": {\"type\": \"point\", \"opacity\": 0.6, \"size\": 20, \"strokeWidth\": 1.3}, \"encoding\": {\"color\": {\"value\": \"#323434\"}, \"y\": {\"field\": \"bus_difference\", \"type\": \"quantitative\"}}, \"transform\": [{\"filter\": \"(datum.p50_trip === 1)\"}]}, {\"mark\": {\"type\": \"text\", \"align\": \"center\", \"baseline\": \"middle\"}, \"encoding\": {\"color\": {\"value\": \"black\"}, \"text\": {\"field\": \"pct_trips_competitive\", \"format\": \".0%\", \"type\": \"quantitative\"}, \"tooltip\": [{\"field\": \"route_id\", \"type\": \"nominal\"}, {\"field\": \"route_name\", \"type\": \"nominal\"}, {\"field\": \"trip_id\", \"type\": \"nominal\"}, {\"field\": \"service_hours\", \"type\": \"quantitative\"}, {\"field\": \"car_duration_hours\", \"type\": \"quantitative\"}, {\"field\": \"bus_multiplier\", \"type\": \"quantitative\"}, {\"field\": \"bus_difference\", \"type\": \"quantitative\"}, {\"field\": \"num_trips\", \"type\": \"quantitative\"}, {\"field\": \"num_competitive\", \"type\": \"quantitative\"}, {\"field\": \"pct_trips_competitive\", \"type\": \"quantitative\"}, {\"field\": \"pct_below_cutoff\", \"type\": \"quantitative\"}, {\"field\": \"p25\", \"type\": \"quantitative\"}, {\"field\": \"p50\", \"type\": \"quantitative\"}, {\"field\": \"p75\", \"type\": \"quantitative\"}], \"x\": {\"value\": 30}, \"y\": {\"value\": 15}}, \"transform\": [{\"calculate\": \"sqrt(-2*log(random()))*cos(2*PI*random())\", \"as\": \"jitter\"}, {\"filter\": \"(datum.fastest_trip === 1)\"}]}]}]}, \"resolve\": {\"scale\": {\"y\": \"shared\"}}, \"title\": \"Difference in Bus to Car Travel Time (min)\", \"$schema\": \"https://vega.github.io/schema/vega-lite/v4.17.0.json\", \"datasets\": {\"data-dc010901f5a73d89bfcd37b1a6698ec1\": [{\"calitp_itp_id\": 336, \"trip_key\": -3595603566866389641, \"trip_id\": \"168\", \"shape_id\": \"26\", \"route_id\": \"300\", \"service_hours\": 0.48, \"trip_first_departure_ts\": 57120, \"trip_last_arrival_ts\": 58860, \"departure_hour\": 15, \"time_of_day\": \"Midday\", \"p25\": 0.48, \"p50\": 0.62, \"p75\": 0.63, \"p50_trip\": 0, \"fastest_trip\": 0, \"car_duration_hours\": 0.4, \"competitive_route\": 1, \"bus_multiplier\": 1.2, \"bus_difference\": 4.8, \"num_trips\": 21, \"num_competitive\": 21, \"pct_trips_competitive\": 1.0, \"bus_difference_spread\": 9.0, \"route_group\": \"short\", \"max_trip_hrs\": 0.63, \"max_trip_route_group\": 0.63, \"below_cutoff\": 21, \"pct_below_cutoff\": 1.0, \"name\": \"Eastern Contra Costa Transit Authority\", \"caltrans_district\": \"04 - Oakland\", \"drmt_organization_name\": null, \"route_name\": \"Brentwood Park & Ride / Antioch Bart\", \"cutoff2\": 20, \"cutoff\": 0}, {\"calitp_itp_id\": 336, \"trip_key\": 4657302171917732366, \"trip_id\": \"355\", \"shape_id\": \"26\", \"route_id\": \"300\", \"service_hours\": 0.48, \"trip_first_departure_ts\": 67020, \"trip_last_arrival_ts\": 68760, \"departure_hour\": 18, \"time_of_day\": \"PM Peak\", \"p25\": 0.48, \"p50\": 0.62, \"p75\": 0.63, \"p50_trip\": 0, \"fastest_trip\": 0, \"car_duration_hours\": 0.4, \"competitive_route\": 1, \"bus_multiplier\": 1.2, \"bus_difference\": 4.8, \"num_trips\": 21, \"num_competitive\": 21, \"pct_trips_competitive\": 1.0, \"bus_difference_spread\": 9.0, \"route_group\": \"short\", \"max_trip_hrs\": 0.63, \"max_trip_route_group\": 0.63, \"below_cutoff\": 21, \"pct_below_cutoff\": 1.0, \"name\": \"Eastern Contra Costa Transit Authority\", \"caltrans_district\": \"04 - Oakland\", \"drmt_organization_name\": null, \"route_name\": \"Brentwood Park & Ride / Antioch Bart\", \"cutoff2\": 20, \"cutoff\": 0}, {\"calitp_itp_id\": 336, \"trip_key\": 3008143892178479368, \"trip_id\": \"230\", \"shape_id\": \"26\", \"route_id\": \"300\", \"service_hours\": 0.48, \"trip_first_departure_ts\": 53520, \"trip_last_arrival_ts\": 55260, \"departure_hour\": 14, \"time_of_day\": \"Midday\", \"p25\": 0.48, \"p50\": 0.62, \"p75\": 0.63, \"p50_trip\": 0, \"fastest_trip\": 0, \"car_duration_hours\": 0.4, \"competitive_route\": 1, \"bus_multiplier\": 1.2, \"bus_difference\": 4.8, \"num_trips\": 21, \"num_competitive\": 21, \"pct_trips_competitive\": 1.0, \"bus_difference_spread\": 9.0, \"route_group\": \"short\", \"max_trip_hrs\": 0.63, \"max_trip_route_group\": 0.63, \"below_cutoff\": 21, \"pct_below_cutoff\": 1.0, \"name\": \"Eastern Contra Costa Transit Authority\", \"caltrans_district\": \"04 - Oakland\", \"drmt_organization_name\": null, \"route_name\": \"Brentwood Park & Ride / Antioch Bart\", \"cutoff2\": 20, \"cutoff\": 0}, {\"calitp_itp_id\": 336, \"trip_key\": -6493340004722924860, \"trip_id\": \"326\", \"shape_id\": \"26\", \"route_id\": \"300\", \"service_hours\": 0.48, \"trip_first_departure_ts\": 64320, \"trip_last_arrival_ts\": 66060, \"departure_hour\": 17, \"time_of_day\": \"PM Peak\", \"p25\": 0.48, \"p50\": 0.62, \"p75\": 0.63, \"p50_trip\": 0, \"fastest_trip\": 0, \"car_duration_hours\": 0.4, \"competitive_route\": 1, \"bus_multiplier\": 1.2, \"bus_difference\": 4.8, \"num_trips\": 21, \"num_competitive\": 21, \"pct_trips_competitive\": 1.0, \"bus_difference_spread\": 9.0, \"route_group\": \"short\", \"max_trip_hrs\": 0.63, \"max_trip_route_group\": 0.63, \"below_cutoff\": 21, \"pct_below_cutoff\": 1.0, \"name\": \"Eastern Contra Costa Transit Authority\", \"caltrans_district\": \"04 - Oakland\", \"drmt_organization_name\": null, \"route_name\": \"Brentwood Park & Ride / Antioch Bart\", \"cutoff2\": 20, \"cutoff\": 0}, {\"calitp_itp_id\": 336, \"trip_key\": -5421682565614449464, \"trip_id\": \"208\", \"shape_id\": \"26\", \"route_id\": \"300\", \"service_hours\": 0.48, \"trip_first_departure_ts\": 59820, \"trip_last_arrival_ts\": 61560, \"departure_hour\": 16, \"time_of_day\": \"Midday\", \"p25\": 0.48, \"p50\": 0.62, \"p75\": 0.63, \"p50_trip\": 0, \"fastest_trip\": 0, \"car_duration_hours\": 0.4, \"competitive_route\": 1, \"bus_multiplier\": 1.2, \"bus_difference\": 4.8, \"num_trips\": 21, \"num_competitive\": 21, \"pct_trips_competitive\": 1.0, \"bus_difference_spread\": 9.0, \"route_group\": \"short\", \"max_trip_hrs\": 0.63, \"max_trip_route_group\": 0.63, \"below_cutoff\": 21, \"pct_below_cutoff\": 1.0, \"name\": \"Eastern Contra Costa Transit Authority\", \"caltrans_district\": \"04 - Oakland\", \"drmt_organization_name\": null, \"route_name\": \"Brentwood Park & Ride / Antioch Bart\", \"cutoff2\": 20, \"cutoff\": 0}, {\"calitp_itp_id\": 336, \"trip_key\": -7512179716726553911, \"trip_id\": \"268\", \"shape_id\": \"26\", \"route_id\": \"300\", \"service_hours\": 0.48, \"trip_first_departure_ts\": 49920, \"trip_last_arrival_ts\": 51660, \"departure_hour\": 13, \"time_of_day\": \"Midday\", \"p25\": 0.48, \"p50\": 0.62, \"p75\": 0.63, \"p50_trip\": 0, \"fastest_trip\": 0, \"car_duration_hours\": 0.4, \"competitive_route\": 1, \"bus_multiplier\": 1.2, \"bus_difference\": 4.8, \"num_trips\": 21, \"num_competitive\": 21, \"pct_trips_competitive\": 1.0, \"bus_difference_spread\": 9.0, \"route_group\": \"short\", \"max_trip_hrs\": 0.63, \"max_trip_route_group\": 0.63, \"below_cutoff\": 21, \"pct_below_cutoff\": 1.0, \"name\": \"Eastern Contra Costa Transit Authority\", \"caltrans_district\": \"04 - Oakland\", \"drmt_organization_name\": null, \"route_name\": \"Brentwood Park & Ride / Antioch Bart\", \"cutoff2\": 20, \"cutoff\": 0}, {\"calitp_itp_id\": 336, \"trip_key\": -8184735084160256341, \"trip_id\": \"221\", \"shape_id\": \"26\", \"route_id\": \"300\", \"service_hours\": 0.48, \"trip_first_departure_ts\": 70920, \"trip_last_arrival_ts\": 72660, \"departure_hour\": 19, \"time_of_day\": \"PM Peak\", \"p25\": 0.48, \"p50\": 0.62, \"p75\": 0.63, \"p50_trip\": 0, \"fastest_trip\": 1, \"car_duration_hours\": 0.4, \"competitive_route\": 1, \"bus_multiplier\": 1.2, \"bus_difference\": 4.8, \"num_trips\": 21, \"num_competitive\": 21, \"pct_trips_competitive\": 1.0, \"bus_difference_spread\": 9.0, \"route_group\": \"short\", \"max_trip_hrs\": 0.63, \"max_trip_route_group\": 0.63, \"below_cutoff\": 21, \"pct_below_cutoff\": 1.0, \"name\": \"Eastern Contra Costa Transit Authority\", \"caltrans_district\": \"04 - Oakland\", \"drmt_organization_name\": null, \"route_name\": \"Brentwood Park & Ride / Antioch Bart\", \"cutoff2\": 20, \"cutoff\": 0}, {\"calitp_itp_id\": 336, \"trip_key\": -1838353877336545997, \"trip_id\": \"149\", \"shape_id\": \"26\", \"route_id\": \"300\", \"service_hours\": 0.58, \"trip_first_departure_ts\": 28020, \"trip_last_arrival_ts\": 30120, \"departure_hour\": 7, \"time_of_day\": \"AM Peak\", \"p25\": 0.48, \"p50\": 0.62, \"p75\": 0.63, \"p50_trip\": 0, \"fastest_trip\": 0, \"car_duration_hours\": 0.4, \"competitive_route\": 1, \"bus_multiplier\": 1.45, \"bus_difference\": 10.8, \"num_trips\": 21, \"num_competitive\": 21, \"pct_trips_competitive\": 1.0, \"bus_difference_spread\": 9.0, \"route_group\": \"short\", \"max_trip_hrs\": 0.63, \"max_trip_route_group\": 0.63, \"below_cutoff\": 21, \"pct_below_cutoff\": 1.0, \"name\": \"Eastern Contra Costa Transit Authority\", \"caltrans_district\": \"04 - Oakland\", \"drmt_organization_name\": null, \"route_name\": \"Brentwood Park & Ride / Antioch Bart\", \"cutoff2\": 20, \"cutoff\": 0}, {\"calitp_itp_id\": 336, \"trip_key\": -5840321913192008023, \"trip_id\": \"150\", \"shape_id\": \"26\", \"route_id\": \"300\", \"service_hours\": 0.58, \"trip_first_departure_ts\": 24420, \"trip_last_arrival_ts\": 26520, \"departure_hour\": 6, \"time_of_day\": \"Owl Service\", \"p25\": 0.48, \"p50\": 0.62, \"p75\": 0.63, \"p50_trip\": 0, \"fastest_trip\": 0, \"car_duration_hours\": 0.4, \"competitive_route\": 1, \"bus_multiplier\": 1.45, \"bus_difference\": 10.8, \"num_trips\": 21, \"num_competitive\": 21, \"pct_trips_competitive\": 1.0, \"bus_difference_spread\": 9.0, \"route_group\": \"short\", \"max_trip_hrs\": 0.63, \"max_trip_route_group\": 0.63, \"below_cutoff\": 21, \"pct_below_cutoff\": 1.0, \"name\": \"Eastern Contra Costa Transit Authority\", \"caltrans_district\": \"04 - Oakland\", \"drmt_organization_name\": null, \"route_name\": \"Brentwood Park & Ride / Antioch Bart\", \"cutoff2\": 20, \"cutoff\": 0}, {\"calitp_itp_id\": 336, \"trip_key\": -3518438896911662483, \"trip_id\": \"316\", \"shape_id\": \"26\", \"route_id\": \"300\", \"service_hours\": 0.62, \"trip_first_departure_ts\": 20700, \"trip_last_arrival_ts\": 22920, \"departure_hour\": 5, \"time_of_day\": \"Owl Service\", \"p25\": 0.48, \"p50\": 0.62, \"p75\": 0.63, \"p50_trip\": 1, \"fastest_trip\": 0, \"car_duration_hours\": 0.4, \"competitive_route\": 1, \"bus_multiplier\": 1.55, \"bus_difference\": 13.2, \"num_trips\": 21, \"num_competitive\": 21, \"pct_trips_competitive\": 1.0, \"bus_difference_spread\": 9.0, \"route_group\": \"short\", \"max_trip_hrs\": 0.63, \"max_trip_route_group\": 0.63, \"below_cutoff\": 21, \"pct_below_cutoff\": 1.0, \"name\": \"Eastern Contra Costa Transit Authority\", \"caltrans_district\": \"04 - Oakland\", \"drmt_organization_name\": null, \"route_name\": \"Brentwood Park & Ride / Antioch Bart\", \"cutoff2\": 20, \"cutoff\": 0}, {\"calitp_itp_id\": 336, \"trip_key\": 1218564745994879517, \"trip_id\": \"1\", \"shape_id\": \"26\", \"route_id\": \"300\", \"service_hours\": 0.62, \"trip_first_departure_ts\": 14400, \"trip_last_arrival_ts\": 16620, \"departure_hour\": 4, \"time_of_day\": \"Owl Service\", \"p25\": 0.48, \"p50\": 0.62, \"p75\": 0.63, \"p50_trip\": 1, \"fastest_trip\": 0, \"car_duration_hours\": 0.4, \"competitive_route\": 1, \"bus_multiplier\": 1.55, \"bus_difference\": 13.2, \"num_trips\": 21, \"num_competitive\": 21, \"pct_trips_competitive\": 1.0, \"bus_difference_spread\": 9.0, \"route_group\": \"short\", \"max_trip_hrs\": 0.63, \"max_trip_route_group\": 0.63, \"below_cutoff\": 21, \"pct_below_cutoff\": 1.0, \"name\": \"Eastern Contra Costa Transit Authority\", \"caltrans_district\": \"04 - Oakland\", \"drmt_organization_name\": null, \"route_name\": \"Brentwood Park & Ride / Antioch Bart\", \"cutoff2\": 20, \"cutoff\": 0}, {\"calitp_itp_id\": 336, \"trip_key\": -1790837578518963843, \"trip_id\": \"315\", \"shape_id\": \"26\", \"route_id\": \"300\", \"service_hours\": 0.62, \"trip_first_departure_ts\": 17100, \"trip_last_arrival_ts\": 19320, \"departure_hour\": 4, \"time_of_day\": \"Owl Service\", \"p25\": 0.48, \"p50\": 0.62, \"p75\": 0.63, \"p50_trip\": 1, \"fastest_trip\": 0, \"car_duration_hours\": 0.4, \"competitive_route\": 1, \"bus_multiplier\": 1.55, \"bus_difference\": 13.2, \"num_trips\": 21, \"num_competitive\": 21, \"pct_trips_competitive\": 1.0, \"bus_difference_spread\": 9.0, \"route_group\": \"short\", \"max_trip_hrs\": 0.63, \"max_trip_route_group\": 0.63, \"below_cutoff\": 21, \"pct_below_cutoff\": 1.0, \"name\": \"Eastern Contra Costa Transit Authority\", \"caltrans_district\": \"04 - Oakland\", \"drmt_organization_name\": null, \"route_name\": \"Brentwood Park & Ride / Antioch Bart\", \"cutoff2\": 20, \"cutoff\": 0}, {\"calitp_itp_id\": 336, \"trip_key\": 3846904125504800904, \"trip_id\": \"262\", \"shape_id\": \"27\", \"route_id\": \"300\", \"service_hours\": 0.63, \"trip_first_departure_ts\": 61260, \"trip_last_arrival_ts\": 63540, \"departure_hour\": 17, \"time_of_day\": \"PM Peak\", \"p25\": 0.48, \"p50\": 0.62, \"p75\": 0.63, \"p50_trip\": 0, \"fastest_trip\": 0, \"car_duration_hours\": 0.4, \"competitive_route\": 1, \"bus_multiplier\": 1.58, \"bus_difference\": 13.8, \"num_trips\": 21, \"num_competitive\": 21, \"pct_trips_competitive\": 1.0, \"bus_difference_spread\": 9.0, \"route_group\": \"short\", \"max_trip_hrs\": 0.63, \"max_trip_route_group\": 0.63, \"below_cutoff\": 21, \"pct_below_cutoff\": 1.0, \"name\": \"Eastern Contra Costa Transit Authority\", \"caltrans_district\": \"04 - Oakland\", \"drmt_organization_name\": null, \"route_name\": \"Brentwood Park & Ride / Antioch Bart\", \"cutoff2\": 20, \"cutoff\": 0}, {\"calitp_itp_id\": 336, \"trip_key\": -8962764604675280277, \"trip_id\": \"339\", \"shape_id\": \"27\", \"route_id\": \"300\", \"service_hours\": 0.63, \"trip_first_departure_ts\": 76620, \"trip_last_arrival_ts\": 78900, \"departure_hour\": 21, \"time_of_day\": \"Owl Service\", \"p25\": 0.48, \"p50\": 0.62, \"p75\": 0.63, \"p50_trip\": 0, \"fastest_trip\": 0, \"car_duration_hours\": 0.4, \"competitive_route\": 1, \"bus_multiplier\": 1.58, \"bus_difference\": 13.8, \"num_trips\": 21, \"num_competitive\": 21, \"pct_trips_competitive\": 1.0, \"bus_difference_spread\": 9.0, \"route_group\": \"short\", \"max_trip_hrs\": 0.63, \"max_trip_route_group\": 0.63, \"below_cutoff\": 21, \"pct_below_cutoff\": 1.0, \"name\": \"Eastern Contra Costa Transit Authority\", \"caltrans_district\": \"04 - Oakland\", \"drmt_organization_name\": null, \"route_name\": \"Brentwood Park & Ride / Antioch Bart\", \"cutoff2\": 20, \"cutoff\": 0}, {\"calitp_itp_id\": 336, \"trip_key\": 6717230009727780825, \"trip_id\": \"203\", \"shape_id\": \"27\", \"route_id\": \"300\", \"service_hours\": 0.63, \"trip_first_departure_ts\": 31080, \"trip_last_arrival_ts\": 33360, \"departure_hour\": 8, \"time_of_day\": \"AM Peak\", \"p25\": 0.48, \"p50\": 0.62, \"p75\": 0.63, \"p50_trip\": 0, \"fastest_trip\": 0, \"car_duration_hours\": 0.4, \"competitive_route\": 1, \"bus_multiplier\": 1.58, \"bus_difference\": 13.8, \"num_trips\": 21, \"num_competitive\": 21, \"pct_trips_competitive\": 1.0, \"bus_difference_spread\": 9.0, \"route_group\": \"short\", \"max_trip_hrs\": 0.63, \"max_trip_route_group\": 0.63, \"below_cutoff\": 21, \"pct_below_cutoff\": 1.0, \"name\": \"Eastern Contra Costa Transit Authority\", \"caltrans_district\": \"04 - Oakland\", \"drmt_organization_name\": null, \"route_name\": \"Brentwood Park & Ride / Antioch Bart\", \"cutoff2\": 20, \"cutoff\": 0}, {\"calitp_itp_id\": 336, \"trip_key\": -5519573577282112704, \"trip_id\": \"182\", \"shape_id\": \"27\", \"route_id\": \"300\", \"service_hours\": 0.63, \"trip_first_departure_ts\": 27480, \"trip_last_arrival_ts\": 29760, \"departure_hour\": 7, \"time_of_day\": \"AM Peak\", \"p25\": 0.48, \"p50\": 0.62, \"p75\": 0.63, \"p50_trip\": 0, \"fastest_trip\": 0, \"car_duration_hours\": 0.4, \"competitive_route\": 1, \"bus_multiplier\": 1.58, \"bus_difference\": 13.8, \"num_trips\": 21, \"num_competitive\": 21, \"pct_trips_competitive\": 1.0, \"bus_difference_spread\": 9.0, \"route_group\": \"short\", \"max_trip_hrs\": 0.63, \"max_trip_route_group\": 0.63, \"below_cutoff\": 21, \"pct_below_cutoff\": 1.0, \"name\": \"Eastern Contra Costa Transit Authority\", \"caltrans_district\": \"04 - Oakland\", \"drmt_organization_name\": null, \"route_name\": \"Brentwood Park & Ride / Antioch Bart\", \"cutoff2\": 20, \"cutoff\": 0}, {\"calitp_itp_id\": 336, \"trip_key\": -6819929112498501461, \"trip_id\": \"122\", \"shape_id\": \"27\", \"route_id\": \"300\", \"service_hours\": 0.63, \"trip_first_departure_ts\": 64860, \"trip_last_arrival_ts\": 67140, \"departure_hour\": 18, \"time_of_day\": \"PM Peak\", \"p25\": 0.48, \"p50\": 0.62, \"p75\": 0.63, \"p50_trip\": 0, \"fastest_trip\": 0, \"car_duration_hours\": 0.4, \"competitive_route\": 1, \"bus_multiplier\": 1.58, \"bus_difference\": 13.8, \"num_trips\": 21, \"num_competitive\": 21, \"pct_trips_competitive\": 1.0, \"bus_difference_spread\": 9.0, \"route_group\": \"short\", \"max_trip_hrs\": 0.63, \"max_trip_route_group\": 0.63, \"below_cutoff\": 21, \"pct_below_cutoff\": 1.0, \"name\": \"Eastern Contra Costa Transit Authority\", \"caltrans_district\": \"04 - Oakland\", \"drmt_organization_name\": null, \"route_name\": \"Brentwood Park & Ride / Antioch Bart\", \"cutoff2\": 20, \"cutoff\": 0}, {\"calitp_itp_id\": 336, \"trip_key\": 8051377406893178400, \"trip_id\": \"317\", \"shape_id\": \"27\", \"route_id\": \"300\", \"service_hours\": 0.63, \"trip_first_departure_ts\": 23880, \"trip_last_arrival_ts\": 26160, \"departure_hour\": 6, \"time_of_day\": \"Owl Service\", \"p25\": 0.48, \"p50\": 0.62, \"p75\": 0.63, \"p50_trip\": 0, \"fastest_trip\": 0, \"car_duration_hours\": 0.4, \"competitive_route\": 1, \"bus_multiplier\": 1.58, \"bus_difference\": 13.8, \"num_trips\": 21, \"num_competitive\": 21, \"pct_trips_competitive\": 1.0, \"bus_difference_spread\": 9.0, \"route_group\": \"short\", \"max_trip_hrs\": 0.63, \"max_trip_route_group\": 0.63, \"below_cutoff\": 21, \"pct_below_cutoff\": 1.0, \"name\": \"Eastern Contra Costa Transit Authority\", \"caltrans_district\": \"04 - Oakland\", \"drmt_organization_name\": null, \"route_name\": \"Brentwood Park & Ride / Antioch Bart\", \"cutoff2\": 20, \"cutoff\": 0}, {\"calitp_itp_id\": 336, \"trip_key\": 757683327285874106, \"trip_id\": \"288\", \"shape_id\": \"27\", \"route_id\": \"300\", \"service_hours\": 0.63, \"trip_first_departure_ts\": 72960, \"trip_last_arrival_ts\": 75240, \"departure_hour\": 20, \"time_of_day\": \"Owl Service\", \"p25\": 0.48, \"p50\": 0.62, \"p75\": 0.63, \"p50_trip\": 0, \"fastest_trip\": 0, \"car_duration_hours\": 0.4, \"competitive_route\": 1, \"bus_multiplier\": 1.58, \"bus_difference\": 13.8, \"num_trips\": 21, \"num_competitive\": 21, \"pct_trips_competitive\": 1.0, \"bus_difference_spread\": 9.0, \"route_group\": \"short\", \"max_trip_hrs\": 0.63, \"max_trip_route_group\": 0.63, \"below_cutoff\": 21, \"pct_below_cutoff\": 1.0, \"name\": \"Eastern Contra Costa Transit Authority\", \"caltrans_district\": \"04 - Oakland\", \"drmt_organization_name\": null, \"route_name\": \"Brentwood Park & Ride / Antioch Bart\", \"cutoff2\": 20, \"cutoff\": 0}, {\"calitp_itp_id\": 336, \"trip_key\": -3183400236879323333, \"trip_id\": \"189\", \"shape_id\": \"27\", \"route_id\": \"300\", \"service_hours\": 0.63, \"trip_first_departure_ts\": 57660, \"trip_last_arrival_ts\": 59940, \"departure_hour\": 16, \"time_of_day\": \"Midday\", \"p25\": 0.48, \"p50\": 0.62, \"p75\": 0.63, \"p50_trip\": 0, \"fastest_trip\": 0, \"car_duration_hours\": 0.4, \"competitive_route\": 1, \"bus_multiplier\": 1.58, \"bus_difference\": 13.8, \"num_trips\": 21, \"num_competitive\": 21, \"pct_trips_competitive\": 1.0, \"bus_difference_spread\": 9.0, \"route_group\": \"short\", \"max_trip_hrs\": 0.63, \"max_trip_route_group\": 0.63, \"below_cutoff\": 21, \"pct_below_cutoff\": 1.0, \"name\": \"Eastern Contra Costa Transit Authority\", \"caltrans_district\": \"04 - Oakland\", \"drmt_organization_name\": null, \"route_name\": \"Brentwood Park & Ride / Antioch Bart\", \"cutoff2\": 20, \"cutoff\": 0}, {\"calitp_itp_id\": 336, \"trip_key\": -7499672029503248281, \"trip_id\": \"220\", \"shape_id\": \"27\", \"route_id\": \"300\", \"service_hours\": 0.63, \"trip_first_departure_ts\": 68460, \"trip_last_arrival_ts\": 70740, \"departure_hour\": 19, \"time_of_day\": \"PM Peak\", \"p25\": 0.48, \"p50\": 0.62, \"p75\": 0.63, \"p50_trip\": 0, \"fastest_trip\": 0, \"car_duration_hours\": 0.4, \"competitive_route\": 1, \"bus_multiplier\": 1.58, \"bus_difference\": 13.8, \"num_trips\": 21, \"num_competitive\": 21, \"pct_trips_competitive\": 1.0, \"bus_difference_spread\": 9.0, \"route_group\": \"short\", \"max_trip_hrs\": 0.63, \"max_trip_route_group\": 0.63, \"below_cutoff\": 21, \"pct_below_cutoff\": 1.0, \"name\": \"Eastern Contra Costa Transit Authority\", \"caltrans_district\": \"04 - Oakland\", \"drmt_organization_name\": null, \"route_name\": \"Brentwood Park & Ride / Antioch Bart\", \"cutoff2\": 20, \"cutoff\": 0}, {\"calitp_itp_id\": 336, \"trip_key\": -4516334964978892887, \"trip_id\": \"159\", \"shape_id\": \"63\", \"route_id\": \"389\", \"service_hours\": 0.75, \"trip_first_departure_ts\": 66360, \"trip_last_arrival_ts\": 69060, \"departure_hour\": 18, \"time_of_day\": \"PM Peak\", \"p25\": 0.75, \"p50\": 0.75, \"p75\": 0.75, \"p50_trip\": 1, \"fastest_trip\": 0, \"car_duration_hours\": 0.5, \"competitive_route\": 1, \"bus_multiplier\": 1.5, \"bus_difference\": 15.0, \"num_trips\": 17, \"num_competitive\": 17, \"pct_trips_competitive\": 1.0, \"bus_difference_spread\": 0.0, \"route_group\": \"short\", \"max_trip_hrs\": 0.75, \"max_trip_route_group\": 0.75, \"below_cutoff\": 17, \"pct_below_cutoff\": 1.0, \"name\": \"Eastern Contra Costa Transit Authority\", \"caltrans_district\": \"04 - Oakland\", \"drmt_organization_name\": null, \"route_name\": \"Pittsburg-Bay Point Bart / Bay Point\", \"cutoff2\": 20, \"cutoff\": 0}, {\"calitp_itp_id\": 336, \"trip_key\": 6248804897629426958, \"trip_id\": \"299\", \"shape_id\": \"63\", \"route_id\": \"389\", \"service_hours\": 0.75, \"trip_first_departure_ts\": 19560, \"trip_last_arrival_ts\": 22260, \"departure_hour\": 5, \"time_of_day\": \"Owl Service\", \"p25\": 0.75, \"p50\": 0.75, \"p75\": 0.75, \"p50_trip\": 1, \"fastest_trip\": 0, \"car_duration_hours\": 0.5, \"competitive_route\": 1, \"bus_multiplier\": 1.5, \"bus_difference\": 15.0, \"num_trips\": 17, \"num_competitive\": 17, \"pct_trips_competitive\": 1.0, \"bus_difference_spread\": 0.0, \"route_group\": \"short\", \"max_trip_hrs\": 0.75, \"max_trip_route_group\": 0.75, \"below_cutoff\": 17, \"pct_below_cutoff\": 1.0, \"name\": \"Eastern Contra Costa Transit Authority\", \"caltrans_district\": \"04 - Oakland\", \"drmt_organization_name\": null, \"route_name\": \"Pittsburg-Bay Point Bart / Bay Point\", \"cutoff2\": 20, \"cutoff\": 0}, {\"calitp_itp_id\": 336, \"trip_key\": -6368022821152303573, \"trip_id\": \"335\", \"shape_id\": \"63\", \"route_id\": \"389\", \"service_hours\": 0.75, \"trip_first_departure_ts\": 55560, \"trip_last_arrival_ts\": 58260, \"departure_hour\": 15, \"time_of_day\": \"Midday\", \"p25\": 0.75, \"p50\": 0.75, \"p75\": 0.75, \"p50_trip\": 1, \"fastest_trip\": 0, \"car_duration_hours\": 0.5, \"competitive_route\": 1, \"bus_multiplier\": 1.5, \"bus_difference\": 15.0, \"num_trips\": 17, \"num_competitive\": 17, \"pct_trips_competitive\": 1.0, \"bus_difference_spread\": 0.0, \"route_group\": \"short\", \"max_trip_hrs\": 0.75, \"max_trip_route_group\": 0.75, \"below_cutoff\": 17, \"pct_below_cutoff\": 1.0, \"name\": \"Eastern Contra Costa Transit Authority\", \"caltrans_district\": \"04 - Oakland\", \"drmt_organization_name\": null, \"route_name\": \"Pittsburg-Bay Point Bart / Bay Point\", \"cutoff2\": 20, \"cutoff\": 0}, {\"calitp_itp_id\": 336, \"trip_key\": 1841101944480048605, \"trip_id\": \"165\", \"shape_id\": \"63\", \"route_id\": \"389\", \"service_hours\": 0.75, \"trip_first_departure_ts\": 38160, \"trip_last_arrival_ts\": 40860, \"departure_hour\": 10, \"time_of_day\": \"Midday\", \"p25\": 0.75, \"p50\": 0.75, \"p75\": 0.75, \"p50_trip\": 1, \"fastest_trip\": 0, \"car_duration_hours\": 0.5, \"competitive_route\": 1, \"bus_multiplier\": 1.5, \"bus_difference\": 15.0, \"num_trips\": 17, \"num_competitive\": 17, \"pct_trips_competitive\": 1.0, \"bus_difference_spread\": 0.0, \"route_group\": \"short\", \"max_trip_hrs\": 0.75, \"max_trip_route_group\": 0.75, \"below_cutoff\": 17, \"pct_below_cutoff\": 1.0, \"name\": \"Eastern Contra Costa Transit Authority\", \"caltrans_district\": \"04 - Oakland\", \"drmt_organization_name\": null, \"route_name\": \"Pittsburg-Bay Point Bart / Bay Point\", \"cutoff2\": 20, \"cutoff\": 0}, {\"calitp_itp_id\": 336, \"trip_key\": -2363506806830337797, \"trip_id\": \"349\", \"shape_id\": \"63\", \"route_id\": \"389\", \"service_hours\": 0.75, \"trip_first_departure_ts\": 30960, \"trip_last_arrival_ts\": 33660, \"departure_hour\": 8, \"time_of_day\": \"AM Peak\", \"p25\": 0.75, \"p50\": 0.75, \"p75\": 0.75, \"p50_trip\": 1, \"fastest_trip\": 0, \"car_duration_hours\": 0.5, \"competitive_route\": 1, \"bus_multiplier\": 1.5, \"bus_difference\": 15.0, \"num_trips\": 17, \"num_competitive\": 17, \"pct_trips_competitive\": 1.0, \"bus_difference_spread\": 0.0, \"route_group\": \"short\", \"max_trip_hrs\": 0.75, \"max_trip_route_group\": 0.75, \"below_cutoff\": 17, \"pct_below_cutoff\": 1.0, \"name\": \"Eastern Contra Costa Transit Authority\", \"caltrans_district\": \"04 - Oakland\", \"drmt_organization_name\": null, \"route_name\": \"Pittsburg-Bay Point Bart / Bay Point\", \"cutoff2\": 20, \"cutoff\": 0}, {\"calitp_itp_id\": 336, \"trip_key\": -9169638097397790159, \"trip_id\": \"211\", \"shape_id\": \"63\", \"route_id\": \"389\", \"service_hours\": 0.75, \"trip_first_departure_ts\": 74400, \"trip_last_arrival_ts\": 77100, \"departure_hour\": 20, \"time_of_day\": \"Owl Service\", \"p25\": 0.75, \"p50\": 0.75, \"p75\": 0.75, \"p50_trip\": 1, \"fastest_trip\": 1, \"car_duration_hours\": 0.5, \"competitive_route\": 1, \"bus_multiplier\": 1.5, \"bus_difference\": 15.0, \"num_trips\": 17, \"num_competitive\": 17, \"pct_trips_competitive\": 1.0, \"bus_difference_spread\": 0.0, \"route_group\": \"short\", \"max_trip_hrs\": 0.75, \"max_trip_route_group\": 0.75, \"below_cutoff\": 17, \"pct_below_cutoff\": 1.0, \"name\": \"Eastern Contra Costa Transit Authority\", \"caltrans_district\": \"04 - Oakland\", \"drmt_organization_name\": null, \"route_name\": \"Pittsburg-Bay Point Bart / Bay Point\", \"cutoff2\": 20, \"cutoff\": 0}, {\"calitp_itp_id\": 336, \"trip_key\": -4028122471752396186, \"trip_id\": \"215\", \"shape_id\": \"63\", \"route_id\": \"389\", \"service_hours\": 0.75, \"trip_first_departure_ts\": 34560, \"trip_last_arrival_ts\": 37260, \"departure_hour\": 9, \"time_of_day\": \"AM Peak\", \"p25\": 0.75, \"p50\": 0.75, \"p75\": 0.75, \"p50_trip\": 1, \"fastest_trip\": 0, \"car_duration_hours\": 0.5, \"competitive_route\": 1, \"bus_multiplier\": 1.5, \"bus_difference\": 15.0, \"num_trips\": 17, \"num_competitive\": 17, \"pct_trips_competitive\": 1.0, \"bus_difference_spread\": 0.0, \"route_group\": \"short\", \"max_trip_hrs\": 0.75, \"max_trip_route_group\": 0.75, \"below_cutoff\": 17, \"pct_below_cutoff\": 1.0, \"name\": \"Eastern Contra Costa Transit Authority\", \"caltrans_district\": \"04 - Oakland\", \"drmt_organization_name\": null, \"route_name\": \"Pittsburg-Bay Point Bart / Bay Point\", \"cutoff2\": 20, \"cutoff\": 0}, {\"calitp_itp_id\": 336, \"trip_key\": -3876890318065204347, \"trip_id\": \"50\", \"shape_id\": \"63\", \"route_id\": \"389\", \"service_hours\": 0.75, \"trip_first_departure_ts\": 70800, \"trip_last_arrival_ts\": 73500, \"departure_hour\": 19, \"time_of_day\": \"PM Peak\", \"p25\": 0.75, \"p50\": 0.75, \"p75\": 0.75, \"p50_trip\": 1, \"fastest_trip\": 0, \"car_duration_hours\": 0.5, \"competitive_route\": 1, \"bus_multiplier\": 1.5, \"bus_difference\": 15.0, \"num_trips\": 17, \"num_competitive\": 17, \"pct_trips_competitive\": 1.0, \"bus_difference_spread\": 0.0, \"route_group\": \"short\", \"max_trip_hrs\": 0.75, \"max_trip_route_group\": 0.75, \"below_cutoff\": 17, \"pct_below_cutoff\": 1.0, \"name\": \"Eastern Contra Costa Transit Authority\", \"caltrans_district\": \"04 - Oakland\", \"drmt_organization_name\": null, \"route_name\": \"Pittsburg-Bay Point Bart / Bay Point\", \"cutoff2\": 20, \"cutoff\": 0}, {\"calitp_itp_id\": 336, \"trip_key\": 9006479579654062379, \"trip_id\": \"18\", \"shape_id\": \"63\", \"route_id\": \"389\", \"service_hours\": 0.75, \"trip_first_departure_ts\": 41760, \"trip_last_arrival_ts\": 44460, \"departure_hour\": 11, \"time_of_day\": \"Midday\", \"p25\": 0.75, \"p50\": 0.75, \"p75\": 0.75, \"p50_trip\": 1, \"fastest_trip\": 0, \"car_duration_hours\": 0.5, \"competitive_route\": 1, \"bus_multiplier\": 1.5, \"bus_difference\": 15.0, \"num_trips\": 17, \"num_competitive\": 17, \"pct_trips_competitive\": 1.0, \"bus_difference_spread\": 0.0, \"route_group\": \"short\", \"max_trip_hrs\": 0.75, \"max_trip_route_group\": 0.75, \"below_cutoff\": 17, \"pct_below_cutoff\": 1.0, \"name\": \"Eastern Contra Costa Transit Authority\", \"caltrans_district\": \"04 - Oakland\", \"drmt_organization_name\": null, \"route_name\": \"Pittsburg-Bay Point Bart / Bay Point\", \"cutoff2\": 20, \"cutoff\": 0}, {\"calitp_itp_id\": 336, \"trip_key\": 2533656649093970127, \"trip_id\": \"298\", \"shape_id\": \"63\", \"route_id\": \"389\", \"service_hours\": 0.75, \"trip_first_departure_ts\": 16560, \"trip_last_arrival_ts\": 19260, \"departure_hour\": 4, \"time_of_day\": \"Owl Service\", \"p25\": 0.75, \"p50\": 0.75, \"p75\": 0.75, \"p50_trip\": 1, \"fastest_trip\": 0, \"car_duration_hours\": 0.5, \"competitive_route\": 1, \"bus_multiplier\": 1.5, \"bus_difference\": 15.0, \"num_trips\": 17, \"num_competitive\": 17, \"pct_trips_competitive\": 1.0, \"bus_difference_spread\": 0.0, \"route_group\": \"short\", \"max_trip_hrs\": 0.75, \"max_trip_route_group\": 0.75, \"below_cutoff\": 17, \"pct_below_cutoff\": 1.0, \"name\": \"Eastern Contra Costa Transit Authority\", \"caltrans_district\": \"04 - Oakland\", \"drmt_organization_name\": null, \"route_name\": \"Pittsburg-Bay Point Bart / Bay Point\", \"cutoff2\": 20, \"cutoff\": 0}, {\"calitp_itp_id\": 336, \"trip_key\": -8533807750394997149, \"trip_id\": \"286\", \"shape_id\": \"63\", \"route_id\": \"389\", \"service_hours\": 0.75, \"trip_first_departure_ts\": 63180, \"trip_last_arrival_ts\": 65880, \"departure_hour\": 17, \"time_of_day\": \"PM Peak\", \"p25\": 0.75, \"p50\": 0.75, \"p75\": 0.75, \"p50_trip\": 1, \"fastest_trip\": 0, \"car_duration_hours\": 0.5, \"competitive_route\": 1, \"bus_multiplier\": 1.5, \"bus_difference\": 15.0, \"num_trips\": 17, \"num_competitive\": 17, \"pct_trips_competitive\": 1.0, \"bus_difference_spread\": 0.0, \"route_group\": \"short\", \"max_trip_hrs\": 0.75, \"max_trip_route_group\": 0.75, \"below_cutoff\": 17, \"pct_below_cutoff\": 1.0, \"name\": \"Eastern Contra Costa Transit Authority\", \"caltrans_district\": \"04 - Oakland\", \"drmt_organization_name\": null, \"route_name\": \"Pittsburg-Bay Point Bart / Bay Point\", \"cutoff2\": 20, \"cutoff\": 0}, {\"calitp_itp_id\": 336, \"trip_key\": -3226386426991294876, \"trip_id\": \"5\", \"shape_id\": \"63\", \"route_id\": \"389\", \"service_hours\": 0.75, \"trip_first_departure_ts\": 48960, \"trip_last_arrival_ts\": 51660, \"departure_hour\": 13, \"time_of_day\": \"Midday\", \"p25\": 0.75, \"p50\": 0.75, \"p75\": 0.75, \"p50_trip\": 1, \"fastest_trip\": 0, \"car_duration_hours\": 0.5, \"competitive_route\": 1, \"bus_multiplier\": 1.5, \"bus_difference\": 15.0, \"num_trips\": 17, \"num_competitive\": 17, \"pct_trips_competitive\": 1.0, \"bus_difference_spread\": 0.0, \"route_group\": \"short\", \"max_trip_hrs\": 0.75, \"max_trip_route_group\": 0.75, \"below_cutoff\": 17, \"pct_below_cutoff\": 1.0, \"name\": \"Eastern Contra Costa Transit Authority\", \"caltrans_district\": \"04 - Oakland\", \"drmt_organization_name\": null, \"route_name\": \"Pittsburg-Bay Point Bart / Bay Point\", \"cutoff2\": 20, \"cutoff\": 0}, {\"calitp_itp_id\": 336, \"trip_key\": -8567373102071165085, \"trip_id\": \"206\", \"shape_id\": \"63\", \"route_id\": \"389\", \"service_hours\": 0.75, \"trip_first_departure_ts\": 45360, \"trip_last_arrival_ts\": 48060, \"departure_hour\": 12, \"time_of_day\": \"Midday\", \"p25\": 0.75, \"p50\": 0.75, \"p75\": 0.75, \"p50_trip\": 1, \"fastest_trip\": 0, \"car_duration_hours\": 0.5, \"competitive_route\": 1, \"bus_multiplier\": 1.5, \"bus_difference\": 15.0, \"num_trips\": 17, \"num_competitive\": 17, \"pct_trips_competitive\": 1.0, \"bus_difference_spread\": 0.0, \"route_group\": \"short\", \"max_trip_hrs\": 0.75, \"max_trip_route_group\": 0.75, \"below_cutoff\": 17, \"pct_below_cutoff\": 1.0, \"name\": \"Eastern Contra Costa Transit Authority\", \"caltrans_district\": \"04 - Oakland\", \"drmt_organization_name\": null, \"route_name\": \"Pittsburg-Bay Point Bart / Bay Point\", \"cutoff2\": 20, \"cutoff\": 0}, {\"calitp_itp_id\": 336, \"trip_key\": 654490563874909058, \"trip_id\": \"343\", \"shape_id\": \"63\", \"route_id\": \"389\", \"service_hours\": 0.75, \"trip_first_departure_ts\": 23160, \"trip_last_arrival_ts\": 25860, \"departure_hour\": 6, \"time_of_day\": \"Owl Service\", \"p25\": 0.75, \"p50\": 0.75, \"p75\": 0.75, \"p50_trip\": 1, \"fastest_trip\": 0, \"car_duration_hours\": 0.5, \"competitive_route\": 1, \"bus_multiplier\": 1.5, \"bus_difference\": 15.0, \"num_trips\": 17, \"num_competitive\": 17, \"pct_trips_competitive\": 1.0, \"bus_difference_spread\": 0.0, \"route_group\": \"short\", \"max_trip_hrs\": 0.75, \"max_trip_route_group\": 0.75, \"below_cutoff\": 17, \"pct_below_cutoff\": 1.0, \"name\": \"Eastern Contra Costa Transit Authority\", \"caltrans_district\": \"04 - Oakland\", \"drmt_organization_name\": null, \"route_name\": \"Pittsburg-Bay Point Bart / Bay Point\", \"cutoff2\": 20, \"cutoff\": 0}, {\"calitp_itp_id\": 336, \"trip_key\": -1427182616917798899, \"trip_id\": \"344\", \"shape_id\": \"63\", \"route_id\": \"389\", \"service_hours\": 0.75, \"trip_first_departure_ts\": 26340, \"trip_last_arrival_ts\": 29040, \"departure_hour\": 7, \"time_of_day\": \"AM Peak\", \"p25\": 0.75, \"p50\": 0.75, \"p75\": 0.75, \"p50_trip\": 1, \"fastest_trip\": 0, \"car_duration_hours\": 0.5, \"competitive_route\": 1, \"bus_multiplier\": 1.5, \"bus_difference\": 15.0, \"num_trips\": 17, \"num_competitive\": 17, \"pct_trips_competitive\": 1.0, \"bus_difference_spread\": 0.0, \"route_group\": \"short\", \"max_trip_hrs\": 0.75, \"max_trip_route_group\": 0.75, \"below_cutoff\": 17, \"pct_below_cutoff\": 1.0, \"name\": \"Eastern Contra Costa Transit Authority\", \"caltrans_district\": \"04 - Oakland\", \"drmt_organization_name\": null, \"route_name\": \"Pittsburg-Bay Point Bart / Bay Point\", \"cutoff2\": 20, \"cutoff\": 0}, {\"calitp_itp_id\": 336, \"trip_key\": 7578027158838420240, \"trip_id\": \"276\", \"shape_id\": \"63\", \"route_id\": \"389\", \"service_hours\": 0.75, \"trip_first_departure_ts\": 59160, \"trip_last_arrival_ts\": 61860, \"departure_hour\": 16, \"time_of_day\": \"Midday\", \"p25\": 0.75, \"p50\": 0.75, \"p75\": 0.75, \"p50_trip\": 1, \"fastest_trip\": 0, \"car_duration_hours\": 0.5, \"competitive_route\": 1, \"bus_multiplier\": 1.5, \"bus_difference\": 15.0, \"num_trips\": 17, \"num_competitive\": 17, \"pct_trips_competitive\": 1.0, \"bus_difference_spread\": 0.0, \"route_group\": \"short\", \"max_trip_hrs\": 0.75, \"max_trip_route_group\": 0.75, \"below_cutoff\": 17, \"pct_below_cutoff\": 1.0, \"name\": \"Eastern Contra Costa Transit Authority\", \"caltrans_district\": \"04 - Oakland\", \"drmt_organization_name\": null, \"route_name\": \"Pittsburg-Bay Point Bart / Bay Point\", \"cutoff2\": 20, \"cutoff\": 0}, {\"calitp_itp_id\": 336, \"trip_key\": -677869521889259212, \"trip_id\": \"334\", \"shape_id\": \"63\", \"route_id\": \"389\", \"service_hours\": 0.75, \"trip_first_departure_ts\": 52560, \"trip_last_arrival_ts\": 55260, \"departure_hour\": 14, \"time_of_day\": \"Midday\", \"p25\": 0.75, \"p50\": 0.75, \"p75\": 0.75, \"p50_trip\": 1, \"fastest_trip\": 0, \"car_duration_hours\": 0.5, \"competitive_route\": 1, \"bus_multiplier\": 1.5, \"bus_difference\": 15.0, \"num_trips\": 17, \"num_competitive\": 17, \"pct_trips_competitive\": 1.0, \"bus_difference_spread\": 0.0, \"route_group\": \"short\", \"max_trip_hrs\": 0.75, \"max_trip_route_group\": 0.75, \"below_cutoff\": 17, \"pct_below_cutoff\": 1.0, \"name\": \"Eastern Contra Costa Transit Authority\", \"caltrans_district\": \"04 - Oakland\", \"drmt_organization_name\": null, \"route_name\": \"Pittsburg-Bay Point Bart / Bay Point\", \"cutoff2\": 20, \"cutoff\": 0}, {\"calitp_itp_id\": 336, \"trip_key\": -6260223717104600245, \"trip_id\": \"39\", \"shape_id\": \"7\", \"route_id\": \"390\", \"service_hours\": 0.78, \"trip_first_departure_ts\": 71100, \"trip_last_arrival_ts\": 73920, \"departure_hour\": 19, \"time_of_day\": \"PM Peak\", \"p25\": 0.82, \"p50\": 0.9, \"p75\": 0.92, \"p50_trip\": 0, \"fastest_trip\": 1, \"car_duration_hours\": 0.63, \"competitive_route\": 1, \"bus_multiplier\": 1.24, \"bus_difference\": 9.0, \"num_trips\": 9, \"num_competitive\": 9, \"pct_trips_competitive\": 1.0, \"bus_difference_spread\": 10.2, \"route_group\": \"short\", \"max_trip_hrs\": 0.95, \"max_trip_route_group\": 0.95, \"below_cutoff\": 9, \"pct_below_cutoff\": 1.0, \"name\": \"Eastern Contra Costa Transit Authority\", \"caltrans_district\": \"04 - Oakland\", \"drmt_organization_name\": null, \"route_name\": \"Antioch Bart / Pittsburg-Bay Point Bart\", \"cutoff2\": 20, \"cutoff\": 0}, {\"calitp_itp_id\": 336, \"trip_key\": -3387021444805663653, \"trip_id\": \"295\", \"shape_id\": \"7\", \"route_id\": \"390\", \"service_hours\": 0.82, \"trip_first_departure_ts\": 67500, \"trip_last_arrival_ts\": 70440, \"departure_hour\": 18, \"time_of_day\": \"PM Peak\", \"p25\": 0.82, \"p50\": 0.9, \"p75\": 0.92, \"p50_trip\": 0, \"fastest_trip\": 0, \"car_duration_hours\": 0.63, \"competitive_route\": 1, \"bus_multiplier\": 1.3, \"bus_difference\": 11.4, \"num_trips\": 9, \"num_competitive\": 9, \"pct_trips_competitive\": 1.0, \"bus_difference_spread\": 10.2, \"route_group\": \"short\", \"max_trip_hrs\": 0.95, \"max_trip_route_group\": 0.95, \"below_cutoff\": 9, \"pct_below_cutoff\": 1.0, \"name\": \"Eastern Contra Costa Transit Authority\", \"caltrans_district\": \"04 - Oakland\", \"drmt_organization_name\": null, \"route_name\": \"Antioch Bart / Pittsburg-Bay Point Bart\", \"cutoff2\": 20, \"cutoff\": 0}, {\"calitp_itp_id\": 336, \"trip_key\": 9123605031033432589, \"trip_id\": \"209\", \"shape_id\": \"7\", \"route_id\": \"390\", \"service_hours\": 0.82, \"trip_first_departure_ts\": 63900, \"trip_last_arrival_ts\": 66840, \"departure_hour\": 17, \"time_of_day\": \"PM Peak\", \"p25\": 0.82, \"p50\": 0.9, \"p75\": 0.92, \"p50_trip\": 0, \"fastest_trip\": 0, \"car_duration_hours\": 0.63, \"competitive_route\": 1, \"bus_multiplier\": 1.3, \"bus_difference\": 11.4, \"num_trips\": 9, \"num_competitive\": 9, \"pct_trips_competitive\": 1.0, \"bus_difference_spread\": 10.2, \"route_group\": \"short\", \"max_trip_hrs\": 0.95, \"max_trip_route_group\": 0.95, \"below_cutoff\": 9, \"pct_below_cutoff\": 1.0, \"name\": \"Eastern Contra Costa Transit Authority\", \"caltrans_district\": \"04 - Oakland\", \"drmt_organization_name\": null, \"route_name\": \"Antioch Bart / Pittsburg-Bay Point Bart\", \"cutoff2\": 20, \"cutoff\": 0}, {\"calitp_itp_id\": 336, \"trip_key\": -3181578854684854068, \"trip_id\": \"336\", \"shape_id\": \"7\", \"route_id\": \"390\", \"service_hours\": 0.82, \"trip_first_departure_ts\": 60300, \"trip_last_arrival_ts\": 63240, \"departure_hour\": 16, \"time_of_day\": \"Midday\", \"p25\": 0.82, \"p50\": 0.9, \"p75\": 0.92, \"p50_trip\": 0, \"fastest_trip\": 0, \"car_duration_hours\": 0.63, \"competitive_route\": 1, \"bus_multiplier\": 1.3, \"bus_difference\": 11.4, \"num_trips\": 9, \"num_competitive\": 9, \"pct_trips_competitive\": 1.0, \"bus_difference_spread\": 10.2, \"route_group\": \"short\", \"max_trip_hrs\": 0.95, \"max_trip_route_group\": 0.95, \"below_cutoff\": 9, \"pct_below_cutoff\": 1.0, \"name\": \"Eastern Contra Costa Transit Authority\", \"caltrans_district\": \"04 - Oakland\", \"drmt_organization_name\": null, \"route_name\": \"Antioch Bart / Pittsburg-Bay Point Bart\", \"cutoff2\": 20, \"cutoff\": 0}, {\"calitp_itp_id\": 336, \"trip_key\": -3398492314336586397, \"trip_id\": \"183\", \"shape_id\": \"16\", \"route_id\": \"390\", \"service_hours\": 0.9, \"trip_first_departure_ts\": 24120, \"trip_last_arrival_ts\": 27360, \"departure_hour\": 6, \"time_of_day\": \"Owl Service\", \"p25\": 0.82, \"p50\": 0.9, \"p75\": 0.92, \"p50_trip\": 1, \"fastest_trip\": 0, \"car_duration_hours\": 0.63, \"competitive_route\": 1, \"bus_multiplier\": 1.43, \"bus_difference\": 16.2, \"num_trips\": 9, \"num_competitive\": 9, \"pct_trips_competitive\": 1.0, \"bus_difference_spread\": 10.2, \"route_group\": \"short\", \"max_trip_hrs\": 0.95, \"max_trip_route_group\": 0.95, \"below_cutoff\": 9, \"pct_below_cutoff\": 1.0, \"name\": \"Eastern Contra Costa Transit Authority\", \"caltrans_district\": \"04 - Oakland\", \"drmt_organization_name\": null, \"route_name\": \"Antioch Bart / Pittsburg-Bay Point Bart\", \"cutoff2\": 20, \"cutoff\": 0}, {\"calitp_itp_id\": 336, \"trip_key\": -6074753833568489764, \"trip_id\": \"306\", \"shape_id\": \"16\", \"route_id\": \"390\", \"service_hours\": 0.92, \"trip_first_departure_ts\": 17400, \"trip_last_arrival_ts\": 20700, \"departure_hour\": 4, \"time_of_day\": \"Owl Service\", \"p25\": 0.82, \"p50\": 0.9, \"p75\": 0.92, \"p50_trip\": 0, \"fastest_trip\": 0, \"car_duration_hours\": 0.63, \"competitive_route\": 1, \"bus_multiplier\": 1.46, \"bus_difference\": 17.4, \"num_trips\": 9, \"num_competitive\": 9, \"pct_trips_competitive\": 1.0, \"bus_difference_spread\": 10.2, \"route_group\": \"short\", \"max_trip_hrs\": 0.95, \"max_trip_route_group\": 0.95, \"below_cutoff\": 9, \"pct_below_cutoff\": 1.0, \"name\": \"Eastern Contra Costa Transit Authority\", \"caltrans_district\": \"04 - Oakland\", \"drmt_organization_name\": null, \"route_name\": \"Antioch Bart / Pittsburg-Bay Point Bart\", \"cutoff2\": 20, \"cutoff\": 0}, {\"calitp_itp_id\": 336, \"trip_key\": -2530239657630680185, \"trip_id\": \"297\", \"shape_id\": \"16\", \"route_id\": \"390\", \"service_hours\": 0.92, \"trip_first_departure_ts\": 12900, \"trip_last_arrival_ts\": 16200, \"departure_hour\": 3, \"time_of_day\": \"Owl Service\", \"p25\": 0.82, \"p50\": 0.9, \"p75\": 0.92, \"p50_trip\": 0, \"fastest_trip\": 0, \"car_duration_hours\": 0.63, \"competitive_route\": 1, \"bus_multiplier\": 1.46, \"bus_difference\": 17.4, \"num_trips\": 9, \"num_competitive\": 9, \"pct_trips_competitive\": 1.0, \"bus_difference_spread\": 10.2, \"route_group\": \"short\", \"max_trip_hrs\": 0.95, \"max_trip_route_group\": 0.95, \"below_cutoff\": 9, \"pct_below_cutoff\": 1.0, \"name\": \"Eastern Contra Costa Transit Authority\", \"caltrans_district\": \"04 - Oakland\", \"drmt_organization_name\": null, \"route_name\": \"Antioch Bart / Pittsburg-Bay Point Bart\", \"cutoff2\": 20, \"cutoff\": 0}, {\"calitp_itp_id\": 336, \"trip_key\": -7904319697205535131, \"trip_id\": \"78\", \"shape_id\": \"16\", \"route_id\": \"390\", \"service_hours\": 0.95, \"trip_first_departure_ts\": 21000, \"trip_last_arrival_ts\": 24420, \"departure_hour\": 5, \"time_of_day\": \"Owl Service\", \"p25\": 0.82, \"p50\": 0.9, \"p75\": 0.92, \"p50_trip\": 0, \"fastest_trip\": 0, \"car_duration_hours\": 0.63, \"competitive_route\": 1, \"bus_multiplier\": 1.51, \"bus_difference\": 19.2, \"num_trips\": 9, \"num_competitive\": 9, \"pct_trips_competitive\": 1.0, \"bus_difference_spread\": 10.2, \"route_group\": \"short\", \"max_trip_hrs\": 0.95, \"max_trip_route_group\": 0.95, \"below_cutoff\": 9, \"pct_below_cutoff\": 1.0, \"name\": \"Eastern Contra Costa Transit Authority\", \"caltrans_district\": \"04 - Oakland\", \"drmt_organization_name\": null, \"route_name\": \"Antioch Bart / Pittsburg-Bay Point Bart\", \"cutoff2\": 20, \"cutoff\": 0}, {\"calitp_itp_id\": 336, \"trip_key\": 9104313909335265965, \"trip_id\": \"124\", \"shape_id\": \"16\", \"route_id\": \"390\", \"service_hours\": 0.95, \"trip_first_departure_ts\": 25740, \"trip_last_arrival_ts\": 29160, \"departure_hour\": 7, \"time_of_day\": \"AM Peak\", \"p25\": 0.82, \"p50\": 0.9, \"p75\": 0.92, \"p50_trip\": 0, \"fastest_trip\": 0, \"car_duration_hours\": 0.63, \"competitive_route\": 1, \"bus_multiplier\": 1.51, \"bus_difference\": 19.2, \"num_trips\": 9, \"num_competitive\": 9, \"pct_trips_competitive\": 1.0, \"bus_difference_spread\": 10.2, \"route_group\": \"short\", \"max_trip_hrs\": 0.95, \"max_trip_route_group\": 0.95, \"below_cutoff\": 9, \"pct_below_cutoff\": 1.0, \"name\": \"Eastern Contra Costa Transit Authority\", \"caltrans_district\": \"04 - Oakland\", \"drmt_organization_name\": null, \"route_name\": \"Antioch Bart / Pittsburg-Bay Point Bart\", \"cutoff2\": 20, \"cutoff\": 0}]}}, {\"mode\": \"vega-lite\"});\n",
       "</script>"
      ],
      "text/plain": [
       "alt.FacetChart(...)"
      ]
     },
     "metadata": {},
     "output_type": "display_data"
    },
    {
     "data": {
      "text/html": [
       "<h4>Route Stats</h4>"
      ],
      "text/plain": [
       "<IPython.core.display.HTML object>"
      ]
     },
     "metadata": {},
     "output_type": "display_data"
    },
    {
     "data": {
      "text/html": [
       "<style type=\"text/css\">\n",
       "#T_1e580 th {\n",
       "  text-align: center;\n",
       "}\n",
       "#T_1e580_row0_col0, #T_1e580_row0_col1, #T_1e580_row1_col0, #T_1e580_row1_col1, #T_1e580_row2_col0, #T_1e580_row2_col1 {\n",
       "  text-align: left;\n",
       "}\n",
       "#T_1e580_row0_col2, #T_1e580_row0_col3, #T_1e580_row0_col5, #T_1e580_row1_col2, #T_1e580_row1_col3, #T_1e580_row1_col5, #T_1e580_row2_col2, #T_1e580_row2_col3, #T_1e580_row2_col5 {\n",
       "  text-align: center;\n",
       "}\n",
       "</style>\n",
       "<table id=\"T_1e580\">\n",
       "  <thead>\n",
       "    <tr>\n",
       "      <th id=\"T_1e580_level0_col0\" class=\"col_heading level0 col0\" >Route ID</th>\n",
       "      <th id=\"T_1e580_level0_col1\" class=\"col_heading level0 col1\" >Route Name</th>\n",
       "      <th id=\"T_1e580_level0_col2\" class=\"col_heading level0 col2\" ># trips</th>\n",
       "      <th id=\"T_1e580_level0_col3\" class=\"col_heading level0 col3\" >Daily Avg Freq (trips per hr)</th>\n",
       "      <th id=\"T_1e580_level0_col4\" class=\"col_heading level0 col4\" >25th, 50th, 75th ptile (hrs)</th>\n",
       "      <th id=\"T_1e580_level0_col5\" class=\"col_heading level0 col5\" >PM Peak Avg Freq (trips per hr)</th>\n",
       "    </tr>\n",
       "  </thead>\n",
       "  <tbody>\n",
       "    <tr>\n",
       "      <td id=\"T_1e580_row0_col0\" class=\"data row0 col0\" >300</td>\n",
       "      <td id=\"T_1e580_row0_col1\" class=\"data row0 col1\" >Brentwood Park & Ride / Antioch Bart</td>\n",
       "      <td id=\"T_1e580_row0_col2\" class=\"data row0 col2\" >21</td>\n",
       "      <td id=\"T_1e580_row0_col3\" class=\"data row0 col3\" >0.88</td>\n",
       "      <td id=\"T_1e580_row0_col4\" class=\"data row0 col4\" >0.48, 0.62, 0.63</td>\n",
       "      <td id=\"T_1e580_row0_col5\" class=\"data row0 col5\" >2.0</td>\n",
       "    </tr>\n",
       "    <tr>\n",
       "      <td id=\"T_1e580_row1_col0\" class=\"data row1 col0\" >389</td>\n",
       "      <td id=\"T_1e580_row1_col1\" class=\"data row1 col1\" >Pittsburg-Bay Point Bart / Bay Point</td>\n",
       "      <td id=\"T_1e580_row1_col2\" class=\"data row1 col2\" >17</td>\n",
       "      <td id=\"T_1e580_row1_col3\" class=\"data row1 col3\" >0.71</td>\n",
       "      <td id=\"T_1e580_row1_col4\" class=\"data row1 col4\" >0.75, 0.75, 0.75</td>\n",
       "      <td id=\"T_1e580_row1_col5\" class=\"data row1 col5\" >1.0</td>\n",
       "    </tr>\n",
       "    <tr>\n",
       "      <td id=\"T_1e580_row2_col0\" class=\"data row2 col0\" >390</td>\n",
       "      <td id=\"T_1e580_row2_col1\" class=\"data row2 col1\" >Antioch Bart / Pittsburg-Bay Point Bart</td>\n",
       "      <td id=\"T_1e580_row2_col2\" class=\"data row2 col2\" >9</td>\n",
       "      <td id=\"T_1e580_row2_col3\" class=\"data row2 col3\" >0.38</td>\n",
       "      <td id=\"T_1e580_row2_col4\" class=\"data row2 col4\" >0.82, 0.9, 0.92</td>\n",
       "      <td id=\"T_1e580_row2_col5\" class=\"data row2 col5\" >1.0</td>\n",
       "    </tr>\n",
       "  </tbody>\n",
       "</table>\n"
      ],
      "text/plain": [
       "<IPython.core.display.HTML object>"
      ]
     },
     "metadata": {},
     "output_type": "display_data"
    }
   ],
   "source": [
    "# Allow for possibility that operator doesn't have routes that fall into certain route_groups\n",
    "# But, jupyterbook will not like markdown with f-string\n",
    "# separate out route_group and put in each cell, and use try/except + if to display...\n",
    "# but all 3 route groups must be displayed. just add sentence about why no routes were returned at the end\n",
    "route_group = \"short\"\n",
    "try:\n",
    "    display_charts_for_route_group(df, route_group)\n",
    "except:\n",
    "    print(\"No routes meet this criteria.\")"
   ]
  },
  {
   "cell_type": "markdown",
   "id": "c2931b6f-034d-4384-9e14-80b925e3b820",
   "metadata": {
    "papermill": {
     "duration": 0.01754,
     "end_time": "2022-05-12T19:19:27.124737",
     "exception": false,
     "start_time": "2022-05-12T19:19:27.107197",
     "status": "completed"
    },
    "tags": []
   },
   "source": [
    "### Medium Routes (1-1.5 hrs)"
   ]
  },
  {
   "cell_type": "code",
   "execution_count": 15,
   "id": "480edddc-4de0-48c2-ae4c-b0ceef8f28b5",
   "metadata": {
    "execution": {
     "iopub.execute_input": "2022-05-12T19:19:27.162021Z",
     "iopub.status.busy": "2022-05-12T19:19:27.161751Z",
     "iopub.status.idle": "2022-05-12T19:19:27.173919Z",
     "shell.execute_reply": "2022-05-12T19:19:27.172977Z"
    },
    "jupyter": {
     "source_hidden": true
    },
    "papermill": {
     "duration": 0.034568,
     "end_time": "2022-05-12T19:19:27.177026",
     "exception": false,
     "start_time": "2022-05-12T19:19:27.142458",
     "status": "completed"
    },
    "tags": [
     "remove_input"
    ]
   },
   "outputs": [
    {
     "name": "stdout",
     "output_type": "stream",
     "text": [
      "No routes meet this criteria.\n"
     ]
    }
   ],
   "source": [
    "route_group = \"medium\"\n",
    "try:\n",
    "    display_charts_for_route_group(df, route_group)\n",
    "except:\n",
    "    print(\"No routes meet this criteria.\")"
   ]
  },
  {
   "cell_type": "markdown",
   "id": "124b76d0-886c-4d03-92ac-f1bda3cda182",
   "metadata": {
    "papermill": {
     "duration": 0.018755,
     "end_time": "2022-05-12T19:19:27.218403",
     "exception": false,
     "start_time": "2022-05-12T19:19:27.199648",
     "status": "completed"
    },
    "tags": []
   },
   "source": [
    "### Long Routes (> 1.5 hrs)"
   ]
  },
  {
   "cell_type": "code",
   "execution_count": 16,
   "id": "ddc81b19-4c45-4c81-8b7a-5e0f394aa7a3",
   "metadata": {
    "execution": {
     "iopub.execute_input": "2022-05-12T19:19:27.256586Z",
     "iopub.status.busy": "2022-05-12T19:19:27.256293Z",
     "iopub.status.idle": "2022-05-12T19:19:27.271220Z",
     "shell.execute_reply": "2022-05-12T19:19:27.270434Z"
    },
    "jupyter": {
     "source_hidden": true
    },
    "papermill": {
     "duration": 0.03703,
     "end_time": "2022-05-12T19:19:27.273622",
     "exception": false,
     "start_time": "2022-05-12T19:19:27.236592",
     "status": "completed"
    },
    "tags": [
     "remove_input"
    ]
   },
   "outputs": [
    {
     "name": "stdout",
     "output_type": "stream",
     "text": [
      "No routes meet this criteria.\n"
     ]
    }
   ],
   "source": [
    "route_group = \"long\"\n",
    "try:\n",
    "    display_charts_for_route_group(df, route_group)\n",
    "except:\n",
    "    print(\"No routes meet this criteria.\")"
   ]
  },
  {
   "cell_type": "markdown",
   "id": "ace75b5f-0442-4fbe-aebd-6c3a13ae13a7",
   "metadata": {
    "papermill": {
     "duration": 0.018762,
     "end_time": "2022-05-12T19:19:27.316365",
     "exception": false,
     "start_time": "2022-05-12T19:19:27.297603",
     "status": "completed"
    },
    "tags": []
   },
   "source": [
    "### GTFS Real-Time Speedmaps"
   ]
  },
  {
   "cell_type": "code",
   "execution_count": 17,
   "id": "a0a114a1-e975-4027-9daf-50029f5ef59f",
   "metadata": {
    "execution": {
     "iopub.execute_input": "2022-05-12T19:19:27.356416Z",
     "iopub.status.busy": "2022-05-12T19:19:27.356101Z",
     "iopub.status.idle": "2022-05-12T19:19:27.388623Z",
     "shell.execute_reply": "2022-05-12T19:19:27.381743Z"
    },
    "jupyter": {
     "source_hidden": true
    },
    "papermill": {
     "duration": 0.054387,
     "end_time": "2022-05-12T19:19:27.390720",
     "exception": false,
     "start_time": "2022-05-12T19:19:27.336333",
     "status": "completed"
    },
    "tags": [
     "remove_input"
    ]
   },
   "outputs": [
    {
     "data": {
      "text/html": [
       "<a href=https://analysis.calitp.org/rt/district_04-oakland/speedmaps__itp_id_336.html>GTFS RT speedmaps here.</a>"
      ],
      "text/plain": [
       "<IPython.core.display.HTML object>"
      ]
     },
     "metadata": {},
     "output_type": "display_data"
    }
   ],
   "source": [
    "RT_SITE_YAML = \"../portfolio/sites/rt.yml\"\n",
    "\n",
    "# Grab list of ITP IDs with GTFS RT speedmaps\n",
    "rt_itp_id = deploy_portfolio_yaml.check_if_rt_data_available(RT_SITE_YAML)\n",
    "\n",
    "# Construct the URL \n",
    "RT_URL = (\"https://analysis.calitp.org/rt/\"\n",
    "          f\"district_{district_number}-{district_name}/\"\n",
    "          f\"speedmaps__itp_id_{itp_id}.html\"\n",
    "         ) \n",
    "\n",
    "# If this ITP ID is found in RT analysis, give URL to that operator in analysis.calitp.org\n",
    "if itp_id in rt_itp_id:\n",
    "    display(HTML(f'''<a href={RT_URL}>GTFS RT speedmaps here.</a>'''))\n",
    "\n",
    "else:\n",
    "    display(HTML(\"No GTFS RT data available.\"))"
   ]
  },
  {
   "cell_type": "code",
   "execution_count": null,
   "id": "5b680565-2230-4f2e-817c-718fad48d64c",
   "metadata": {
    "jupyter": {
     "source_hidden": true
    },
    "papermill": {
     "duration": 0.018627,
     "end_time": "2022-05-12T19:19:27.431856",
     "exception": false,
     "start_time": "2022-05-12T19:19:27.413229",
     "status": "completed"
    },
    "tags": [
     "remove_input"
    ]
   },
   "outputs": [],
   "source": []
  }
 ],
 "metadata": {
  "kernelspec": {
   "display_name": "Python 3 (ipykernel)",
   "language": "python",
   "name": "python3"
  },
  "language_info": {
   "codemirror_mode": {
    "name": "ipython",
    "version": 3
   },
   "file_extension": ".py",
   "mimetype": "text/x-python",
   "name": "python",
   "nbconvert_exporter": "python",
   "pygments_lexer": "ipython3",
   "version": "3.9.12"
  },
  "papermill": {
   "default_parameters": {},
   "duration": 23.630955,
   "end_time": "2022-05-12T19:19:28.575647",
   "environment_variables": {},
   "exception": null,
   "input_path": "bus_service_increase/competitive-parallel-routes.ipynb",
   "output_path": "portfolio/parallel_corridors/district_04-oakland/25__competitive-parallel-routes__district_04-oakland__itp_id_336.ipynb",
   "parameters": {
    "district": "04 - Oakland",
    "itp_id": 336
   },
   "start_time": "2022-05-12T19:19:04.944692",
   "version": "2.3.4"
  }
 },
 "nbformat": 4,
 "nbformat_minor": 5
}