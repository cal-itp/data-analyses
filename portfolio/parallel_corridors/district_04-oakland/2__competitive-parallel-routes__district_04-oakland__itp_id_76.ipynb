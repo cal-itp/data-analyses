{
 "cells": [
  {
   "cell_type": "code",
   "execution_count": 1,
   "id": "95d00857-6a20-4529-a519-2cc7182928a9",
   "metadata": {
    "execution": {
     "iopub.execute_input": "2022-05-11T21:55:17.198419Z",
     "iopub.status.busy": "2022-05-11T21:55:17.197798Z",
     "iopub.status.idle": "2022-05-11T21:55:25.333829Z",
     "shell.execute_reply": "2022-05-11T21:55:25.333182Z"
    },
    "jupyter": {
     "source_hidden": true
    },
    "papermill": {
     "duration": 8.152731,
     "end_time": "2022-05-11T21:55:25.336156",
     "exception": false,
     "start_time": "2022-05-11T21:55:17.183425",
     "status": "completed"
    },
    "tags": [
     "remove_input"
    ]
   },
   "outputs": [],
   "source": [
    "%%capture\n",
    "import warnings\n",
    "warnings.filterwarnings('ignore')\n",
    "\n",
    "import altair as alt\n",
    "import calitp.magics\n",
    "import geopandas as gpd\n",
    "import intake\n",
    "import pandas as pd\n",
    "\n",
    "from IPython.display import display, Markdown, HTML\n",
    "\n",
    "import parallel_corridors_utils\n",
    "import deploy_portfolio_yaml\n",
    "from shared_utils import styleguide, geography_utils\n",
    "from make_stripplot_data import diff_cutoffs\n",
    "\n",
    "catalog = intake.open_catalog(\"./*.yml\")\n",
    "alt.renderers.enable(\"html\")"
   ]
  },
  {
   "cell_type": "code",
   "execution_count": 2,
   "id": "8af2a0c1-f3da-408d-9bea-11d9fbf8695d",
   "metadata": {
    "execution": {
     "iopub.execute_input": "2022-05-11T21:55:25.367893Z",
     "iopub.status.busy": "2022-05-11T21:55:25.367602Z",
     "iopub.status.idle": "2022-05-11T21:55:25.371690Z",
     "shell.execute_reply": "2022-05-11T21:55:25.371079Z"
    },
    "jupyter": {
     "source_hidden": true
    },
    "papermill": {
     "duration": 0.024381,
     "end_time": "2022-05-11T21:55:25.373290",
     "exception": false,
     "start_time": "2022-05-11T21:55:25.348909",
     "status": "completed"
    },
    "tags": [
     "parameters",
     "remove_input"
    ]
   },
   "outputs": [],
   "source": [
    "# parameters cell\n",
    "itp_id = 182"
   ]
  },
  {
   "cell_type": "code",
   "execution_count": 3,
   "id": "3eb5de0a",
   "metadata": {
    "execution": {
     "iopub.execute_input": "2022-05-11T21:55:25.398309Z",
     "iopub.status.busy": "2022-05-11T21:55:25.397882Z",
     "iopub.status.idle": "2022-05-11T21:55:25.401604Z",
     "shell.execute_reply": "2022-05-11T21:55:25.401145Z"
    },
    "jupyter": {
     "source_hidden": true
    },
    "papermill": {
     "duration": 0.018486,
     "end_time": "2022-05-11T21:55:25.403226",
     "exception": false,
     "start_time": "2022-05-11T21:55:25.384740",
     "status": "completed"
    },
    "tags": [
     "injected-parameters",
     "remove_input"
    ]
   },
   "outputs": [],
   "source": [
    "# Parameters\n",
    "district = \"04 - Oakland\"\n",
    "itp_id = 76\n"
   ]
  },
  {
   "cell_type": "code",
   "execution_count": 4,
   "id": "9582aaf4-79ff-412a-b248-8d8d693ebd4f",
   "metadata": {
    "execution": {
     "iopub.execute_input": "2022-05-11T21:55:25.428772Z",
     "iopub.status.busy": "2022-05-11T21:55:25.428277Z",
     "iopub.status.idle": "2022-05-11T21:55:26.903403Z",
     "shell.execute_reply": "2022-05-11T21:55:26.902548Z"
    },
    "jupyter": {
     "source_hidden": true
    },
    "papermill": {
     "duration": 1.490833,
     "end_time": "2022-05-11T21:55:26.905531",
     "exception": false,
     "start_time": "2022-05-11T21:55:25.414698",
     "status": "completed"
    },
    "tags": [
     "remove_input"
    ]
   },
   "outputs": [],
   "source": [
    "df = catalog.competitive_route_variability.read()\n",
    "\n",
    "df = (df[(df.calitp_itp_id == itp_id) & \n",
    "         (df.route_group.notna())]\n",
    "      .rename(columns = {\"route_name_used\": \"route_name\"})\n",
    "      .reset_index(drop=True)\n",
    "     )\n",
    "\n",
    "if itp_id == 182:\n",
    "    df = df.assign(\n",
    "        route_id = df.route_id.str.replace('-13153', '').astype(int)\n",
    "    )"
   ]
  },
  {
   "cell_type": "code",
   "execution_count": 5,
   "id": "33ac4b06-f647-4dce-a625-8f2c1b37cc60",
   "metadata": {
    "execution": {
     "iopub.execute_input": "2022-05-11T21:55:26.934622Z",
     "iopub.status.busy": "2022-05-11T21:55:26.934105Z",
     "iopub.status.idle": "2022-05-11T21:55:26.940688Z",
     "shell.execute_reply": "2022-05-11T21:55:26.940185Z"
    },
    "jupyter": {
     "source_hidden": true
    },
    "papermill": {
     "duration": 0.024411,
     "end_time": "2022-05-11T21:55:26.942368",
     "exception": false,
     "start_time": "2022-05-11T21:55:26.917957",
     "status": "completed"
    },
    "tags": [
     "remove_input"
    ]
   },
   "outputs": [],
   "source": [
    "%%capture_parameters\n",
    "operator_name = df.name.iloc[0]\n",
    "district_number = f\"{df.caltrans_district.iloc[0].split('-')[0].strip()}\"\n",
    "district_name = f\"{df.caltrans_district.iloc[0].split('-')[1].strip().lower().replace(' ', '-')}\"\n",
    "\n",
    "itp_id, operator_name, district_number, district_name"
   ]
  },
  {
   "cell_type": "markdown",
   "id": "65bc6f5c-8348-42ee-b2dd-52057c406852",
   "metadata": {
    "papermill": {
     "duration": 0.012854,
     "end_time": "2022-05-11T21:55:26.967031",
     "exception": false,
     "start_time": "2022-05-11T21:55:26.954177",
     "status": "completed"
    },
    "tags": []
   },
   "source": [
    "# Commute.org (ITP ID: 76)"
   ]
  },
  {
   "cell_type": "code",
   "execution_count": 6,
   "id": "a689c1ab-2c6c-4831-8d64-897f5986f571",
   "metadata": {
    "execution": {
     "iopub.execute_input": "2022-05-11T21:55:26.994656Z",
     "iopub.status.busy": "2022-05-11T21:55:26.994149Z",
     "iopub.status.idle": "2022-05-11T21:55:26.999861Z",
     "shell.execute_reply": "2022-05-11T21:55:26.999142Z"
    },
    "jupyter": {
     "source_hidden": true
    },
    "papermill": {
     "duration": 0.022862,
     "end_time": "2022-05-11T21:55:27.001605",
     "exception": false,
     "start_time": "2022-05-11T21:55:26.978743",
     "status": "completed"
    },
    "tags": [
     "remove_input"
    ]
   },
   "outputs": [
    {
     "data": {
      "text/html": [
       "<h1>Competitive & Parallel Routes</h1>"
      ],
      "text/plain": [
       "<IPython.core.display.HTML object>"
      ]
     },
     "metadata": {},
     "output_type": "display_data"
    }
   ],
   "source": [
    "display(HTML(\"<h1>Competitive & Parallel Routes</h1>\")) "
   ]
  },
  {
   "cell_type": "code",
   "execution_count": 7,
   "id": "2cb4d8d5-4760-40e4-85b1-cb833d8bb648",
   "metadata": {
    "execution": {
     "iopub.execute_input": "2022-05-11T21:55:27.028405Z",
     "iopub.status.busy": "2022-05-11T21:55:27.028115Z",
     "iopub.status.idle": "2022-05-11T21:55:37.148678Z",
     "shell.execute_reply": "2022-05-11T21:55:37.148059Z"
    },
    "jupyter": {
     "source_hidden": true
    },
    "papermill": {
     "duration": 10.136882,
     "end_time": "2022-05-11T21:55:37.150824",
     "exception": false,
     "start_time": "2022-05-11T21:55:27.013942",
     "status": "completed"
    },
    "tags": [
     "remove_input"
    ]
   },
   "outputs": [],
   "source": [
    "# Grab parameters for narrative text - clean up formatting here \n",
    "district = df.caltrans_district.iloc[0]\n",
    "formatted_date = pd.to_datetime(parallel_corridors_utils.SELECTED_DATE).strftime('%m-%d-%Y')\n",
    "\n",
    "PCT_COMPETITIVE_THRESHOLD = 0.75\n",
    "PCT_TRIPS_BELOW_CUTOFF = 0.50\n",
    "\n",
    "stats = parallel_corridors_utils.operator_parallel_competitive_stats(\n",
    "    itp_id, PCT_COMPETITIVE_THRESHOLD, PCT_TRIPS_BELOW_CUTOFF)\n",
    "\n",
    "pct_parallel = round(stats['parallel_routes'] / stats['num_routes'] * 100, 1 )\n",
    "pct_competitive =  round(stats['competitive_routes'] / stats['num_routes'] * 100, 1 )\n",
    "pct_viable =  round(stats['viable_competitive_routes'] / stats['num_routes'] * 100, 1 )"
   ]
  },
  {
   "cell_type": "code",
   "execution_count": 8,
   "id": "8bf30c8f-6aa5-47bb-82ae-a906732e81fd",
   "metadata": {
    "execution": {
     "iopub.execute_input": "2022-05-11T21:55:37.179461Z",
     "iopub.status.busy": "2022-05-11T21:55:37.178604Z",
     "iopub.status.idle": "2022-05-11T21:55:37.208746Z",
     "shell.execute_reply": "2022-05-11T21:55:37.207770Z"
    },
    "jupyter": {
     "source_hidden": true
    },
    "papermill": {
     "duration": 0.046402,
     "end_time": "2022-05-11T21:55:37.210829",
     "exception": false,
     "start_time": "2022-05-11T21:55:37.164427",
     "status": "completed"
    },
    "tags": [
     "remove_input"
    ]
   },
   "outputs": [],
   "source": [
    "# Display a table of route-level stats for each route_group\n",
    "# Displaying route_name makes chart too crowded\n",
    "\n",
    "# Get route stats (for entire df)\n",
    "route_stats = parallel_corridors_utils.competitive_route_level_stats(df)\n",
    "    \n",
    "def style_route_stats(df, top15_routes):\n",
    "    df = df[df.route_id.isin(top15_routes)]\n",
    "    \n",
    "    # Rename columns for display\n",
    "    rename_cols = {\n",
    "        \"route_id\": \"Route ID\",\n",
    "        \"route_name\": \"Route Name\",\n",
    "        \"route_group\": \"Route Group\",\n",
    "        \"num_trips\": \"# trips\",\n",
    "        \"daily_avg_freq\": \"Daily Avg Frequency (trips per hr)\",\n",
    "        \"pm_peak_freq\": \"PM Peak Avg Frequency (trips per hr)\",\n",
    "        \"percentiles\": \"25th, 50th, 75th ptile (hrs)\",\n",
    "    }\n",
    "    \n",
    "    # Style it\n",
    "    drop_cols = [\n",
    "        \"calitp_itp_id\", \"below_cutoff\", \"route_group\", \n",
    "        \"pct_trips_competitive\", \"pct_below_cutoff\",\n",
    "        \"p25\", \"p50\", \"p75\",\n",
    "    ]\n",
    "    \n",
    "    df_style = (df.sort_values(\n",
    "        [\"pct_trips_competitive\", \"below_cutoff\", \n",
    "        \"pct_below_cutoff\", \"route_id\"], \n",
    "        ascending=[False, False, False, True])\n",
    "           .drop(columns = drop_cols)\n",
    "           .rename(columns = rename_cols)\n",
    "           .style.format({\n",
    "               #'% trips within 2x car travel': '{:,.1%}', \n",
    "               'Daily Avg Frequency (trips per hr)': '{:,.3}',\n",
    "               'PM Peak Avg Frequency (trips per hr)': '{:,.3}',\n",
    "           })\n",
    "           .hide(axis=\"index\")\n",
    "           .to_html()\n",
    "          )\n",
    "    \n",
    "    display(HTML(\"<h4>Route Stats</h4>\"))\n",
    "    display(HTML(df_style))"
   ]
  },
  {
   "cell_type": "markdown",
   "id": "ab667928-5274-4490-82d9-4c39293209a4",
   "metadata": {
    "papermill": {
     "duration": 0.013137,
     "end_time": "2022-05-11T21:55:37.239604",
     "exception": false,
     "start_time": "2022-05-11T21:55:37.226467",
     "status": "completed"
    },
    "tags": []
   },
   "source": [
    "## Quick Stats"
   ]
  },
  {
   "cell_type": "code",
   "execution_count": 9,
   "id": "0416509d-dc62-4165-b62e-64f8b26e8b8e",
   "metadata": {
    "execution": {
     "iopub.execute_input": "2022-05-11T21:55:37.267008Z",
     "iopub.status.busy": "2022-05-11T21:55:37.266749Z",
     "iopub.status.idle": "2022-05-11T21:55:37.272771Z",
     "shell.execute_reply": "2022-05-11T21:55:37.271995Z"
    },
    "jupyter": {
     "source_hidden": true
    },
    "papermill": {
     "duration": 0.021938,
     "end_time": "2022-05-11T21:55:37.274485",
     "exception": false,
     "start_time": "2022-05-11T21:55:37.252547",
     "status": "completed"
    },
    "tags": [
     "remove_input"
    ]
   },
   "outputs": [
    {
     "data": {
      "text/markdown": [
       "**Bus routes in service: 19**<br>**Parallel routes** to State Highway Network (SHN): **19 routes (100.0%)**<br>**Competitive routes** against car travel (within 2x car travel time): **3 routes (15.8%)**<br>**Viable competitive routes** against car travel (within 2x car travel time and within 20, 30, or 40 min cut-off): **3 routes (15.8%)**"
      ],
      "text/plain": [
       "<IPython.core.display.Markdown object>"
      ]
     },
     "metadata": {},
     "output_type": "display_data"
    }
   ],
   "source": [
    "display(\n",
    "    Markdown(\n",
    "        f\"**Bus routes in service: {stats['num_routes']}**\"\n",
    "        \"<br>**Parallel routes** to State Highway Network (SHN): \"\n",
    "        f\"**{stats['parallel_routes']} routes ({pct_parallel}%)**\"\n",
    "        \"<br>**Competitive routes** against car travel (within 2x car travel time): \"\n",
    "        f\"**{stats['competitive_routes']} routes ({pct_competitive}%)**\"\n",
    "        \"<br>**Viable competitive routes** against car travel \"\n",
    "        \"(within 2x car travel time and within 20, 30, or 40 min cut-off): \"\n",
    "        f\"**{stats['viable_competitive_routes']} routes ({pct_viable}%)**\"\n",
    "    )\n",
    ")"
   ]
  },
  {
   "cell_type": "code",
   "execution_count": 10,
   "id": "f9d6ab58-f0ee-460c-b6de-657490e1f386",
   "metadata": {
    "execution": {
     "iopub.execute_input": "2022-05-11T21:55:37.311878Z",
     "iopub.status.busy": "2022-05-11T21:55:37.311019Z",
     "iopub.status.idle": "2022-05-11T21:55:37.317829Z",
     "shell.execute_reply": "2022-05-11T21:55:37.317288Z"
    },
    "jupyter": {
     "source_hidden": true
    },
    "papermill": {
     "duration": 0.024999,
     "end_time": "2022-05-11T21:55:37.319830",
     "exception": false,
     "start_time": "2022-05-11T21:55:37.294831",
     "status": "completed"
    },
    "tags": [
     "remove_input"
    ]
   },
   "outputs": [],
   "source": [
    "def set_yaxis_range(df, y_col):\n",
    "    Y_MIN = df[y_col].min()\n",
    "    Y_MAX = df[y_col].max()\n",
    "    \n",
    "    return Y_MIN, Y_MAX\n",
    "\n",
    "# Rather than set it according to the operator, which can vary,\n",
    "# just use set thresholds for each group\n",
    "def top15_routes(df, route_group):\n",
    "    # grab top 15 routes where majority of trips are below that cut-off \n",
    "    # but show 15 max, otherwise, show less, since these won't be as interesting to operators\n",
    "    df2 = (df[(df.route_group==route_group) &\n",
    "              (df.pct_below_cutoff >= PCT_TRIPS_BELOW_CUTOFF)]\n",
    "           .sort_values([\"calitp_itp_id\", \"below_cutoff\", \n",
    "                         \"pct_below_cutoff\", \"route_id\"],\n",
    "                        ascending = [True, False, False, True]\n",
    "                       )\n",
    "           .drop_duplicates(subset=[\"calitp_itp_id\", \"route_id\"])\n",
    "          ).head(15)\n",
    "    \n",
    "    return list(df2.route_id)"
   ]
  },
  {
   "cell_type": "code",
   "execution_count": 11,
   "id": "cf36d559-3349-4144-8086-8ac9ce937a5a",
   "metadata": {
    "execution": {
     "iopub.execute_input": "2022-05-11T21:55:37.371343Z",
     "iopub.status.busy": "2022-05-11T21:55:37.370420Z",
     "iopub.status.idle": "2022-05-11T21:55:37.376858Z",
     "shell.execute_reply": "2022-05-11T21:55:37.376199Z"
    },
    "jupyter": {
     "source_hidden": true
    },
    "papermill": {
     "duration": 0.033414,
     "end_time": "2022-05-11T21:55:37.379010",
     "exception": false,
     "start_time": "2022-05-11T21:55:37.345596",
     "status": "completed"
    },
    "tags": [
     "remove_input"
    ]
   },
   "outputs": [],
   "source": [
    "def caption_with_cutoff(cutoff):\n",
    "    sentence = (\n",
    "        f\"<br>These are routes that have **at least {int(PCT_TRIPS_BELOW_CUTOFF*100)}% \"\n",
    "        \"of their trips take no more than an \"\n",
    "        f\"additional {cutoff} min** compared to a car \"\n",
    "        \"(up to 15 routes) are shown.\"\n",
    "        \"<br>Within each route group, routes are sorted in descending order \"\n",
    "        \"by % competitive trips and # trips below the additional time cut-off.\"\n",
    "    )\n",
    "    return sentence\n",
    "\n",
    "CAPTIONS_DICT = {\n",
    "    \"short\": caption_with_cutoff(diff_cutoffs['short']),\n",
    "    \"medium\": caption_with_cutoff(diff_cutoffs['medium']),\n",
    "    \"long\": caption_with_cutoff(diff_cutoffs['long']),\n",
    "}"
   ]
  },
  {
   "cell_type": "code",
   "execution_count": 12,
   "id": "e4306d58-6944-47e9-afef-5d5b524c751f",
   "metadata": {
    "execution": {
     "iopub.execute_input": "2022-05-11T21:55:37.413679Z",
     "iopub.status.busy": "2022-05-11T21:55:37.413053Z",
     "iopub.status.idle": "2022-05-11T21:55:37.420429Z",
     "shell.execute_reply": "2022-05-11T21:55:37.419670Z"
    },
    "jupyter": {
     "source_hidden": true
    },
    "papermill": {
     "duration": 0.029344,
     "end_time": "2022-05-11T21:55:37.422580",
     "exception": false,
     "start_time": "2022-05-11T21:55:37.393236",
     "status": "completed"
    },
    "tags": [
     "remove_input"
    ]
   },
   "outputs": [],
   "source": [
    "def setup_charts(df, PCT_COMPETITIVE_THRESHOLD, route_group):\n",
    "    # Set up df for charting (cut-off at some threshold to show most competitive routes)\n",
    "    plot_me = (df[df.pct_trips_competitive > PCT_COMPETITIVE_THRESHOLD]\n",
    "           .drop(columns = \"geometry\")\n",
    "    )\n",
    "    \n",
    "    # Set y-ranges to be the same across route_groups, \n",
    "    # otherwise charts fluctuate too much, even within operator\n",
    "    y_col1 = \"bus_multiplier\"\n",
    "    Y_MIN1, Y_MAX1 = set_yaxis_range(plot_me, y_col1)\n",
    "\n",
    "    y_col2 = \"bus_difference\"\n",
    "    Y_MIN2, Y_MAX2 = set_yaxis_range(plot_me, y_col2)\n",
    "    \n",
    "    # Grab the routes to plot\n",
    "    subset_routes = top15_routes(plot_me, route_group)\n",
    "        \n",
    "    # Display charts\n",
    "    multiplier_chart = parallel_corridors_utils.make_stripplot(\n",
    "        plot_me[plot_me.route_id.isin(subset_routes)], \n",
    "        y_col1, Y_MIN = Y_MIN1, Y_MAX = Y_MAX1\n",
    "    )\n",
    "    \n",
    "    difference_chart = parallel_corridors_utils.make_stripplot(\n",
    "        plot_me[plot_me.route_id.isin(subset_routes)], \n",
    "        y_col2, Y_MIN = Y_MIN2, Y_MAX = Y_MAX2\n",
    "    )\n",
    "    \n",
    "    return subset_routes, multiplier_chart, difference_chart            "
   ]
  },
  {
   "cell_type": "code",
   "execution_count": 13,
   "id": "33a710e8-504c-4942-aa75-ff69f216956e",
   "metadata": {
    "execution": {
     "iopub.execute_input": "2022-05-11T21:55:37.455946Z",
     "iopub.status.busy": "2022-05-11T21:55:37.455361Z",
     "iopub.status.idle": "2022-05-11T21:55:37.460921Z",
     "shell.execute_reply": "2022-05-11T21:55:37.460355Z"
    },
    "jupyter": {
     "source_hidden": true
    },
    "papermill": {
     "duration": 0.025214,
     "end_time": "2022-05-11T21:55:37.463382",
     "exception": false,
     "start_time": "2022-05-11T21:55:37.438168",
     "status": "completed"
    },
    "tags": [
     "remove_input"
    ]
   },
   "outputs": [],
   "source": [
    "def display_charts_for_route_group(df, route_group):    \n",
    "    subset_routes, mult, diff  = setup_charts(df, PCT_COMPETITIVE_THRESHOLD, route_group)\n",
    "\n",
    "    if len(subset_routes) > 0:\n",
    "        display(Markdown(f\"{CAPTIONS_DICT[route_group]}\"))\n",
    "\n",
    "        display(mult)\n",
    "        display(diff)\n",
    "        \n",
    "        # Display route stats for just plotted routes\n",
    "        style_route_stats(route_stats, subset_routes)"
   ]
  },
  {
   "cell_type": "markdown",
   "id": "525f9b38-072b-46d1-96a8-1aa4b038357c",
   "metadata": {
    "papermill": {
     "duration": 0.019789,
     "end_time": "2022-05-11T21:55:37.498231",
     "exception": false,
     "start_time": "2022-05-11T21:55:37.478442",
     "status": "completed"
    },
    "tags": []
   },
   "source": [
    "## Viable Competitive Routes\n",
    "### Short Routes (< 1 hr)"
   ]
  },
  {
   "cell_type": "code",
   "execution_count": 14,
   "id": "57f7084c-2cf7-45c6-ba08-1609e0bd6ca5",
   "metadata": {
    "execution": {
     "iopub.execute_input": "2022-05-11T21:55:37.529148Z",
     "iopub.status.busy": "2022-05-11T21:55:37.528499Z",
     "iopub.status.idle": "2022-05-11T21:55:37.817610Z",
     "shell.execute_reply": "2022-05-11T21:55:37.816692Z"
    },
    "jupyter": {
     "source_hidden": true
    },
    "papermill": {
     "duration": 0.306972,
     "end_time": "2022-05-11T21:55:37.819495",
     "exception": false,
     "start_time": "2022-05-11T21:55:37.512523",
     "status": "completed"
    },
    "tags": [
     "remove_input"
    ]
   },
   "outputs": [
    {
     "data": {
      "text/markdown": [
       "<br>These are routes that have **at least 50% of their trips take no more than an additional 20 min** compared to a car (up to 15 routes) are shown.<br>Within each route group, routes are sorted in descending order by % competitive trips and # trips below the additional time cut-off."
      ],
      "text/plain": [
       "<IPython.core.display.Markdown object>"
      ]
     },
     "metadata": {},
     "output_type": "display_data"
    },
    {
     "data": {
      "text/html": [
       "\n",
       "<div id=\"altair-viz-c86c03d6db904ce0af72c60ee4a3e238\"></div>\n",
       "<script type=\"text/javascript\">\n",
       "  var VEGA_DEBUG = (typeof VEGA_DEBUG == \"undefined\") ? {} : VEGA_DEBUG;\n",
       "  (function(spec, embedOpt){\n",
       "    let outputDiv = document.currentScript.previousElementSibling;\n",
       "    if (outputDiv.id !== \"altair-viz-c86c03d6db904ce0af72c60ee4a3e238\") {\n",
       "      outputDiv = document.getElementById(\"altair-viz-c86c03d6db904ce0af72c60ee4a3e238\");\n",
       "    }\n",
       "    const paths = {\n",
       "      \"vega\": \"https://cdn.jsdelivr.net/npm//vega@5?noext\",\n",
       "      \"vega-lib\": \"https://cdn.jsdelivr.net/npm//vega-lib?noext\",\n",
       "      \"vega-lite\": \"https://cdn.jsdelivr.net/npm//vega-lite@4.17.0?noext\",\n",
       "      \"vega-embed\": \"https://cdn.jsdelivr.net/npm//vega-embed@6?noext\",\n",
       "    };\n",
       "\n",
       "    function maybeLoadScript(lib, version) {\n",
       "      var key = `${lib.replace(\"-\", \"\")}_version`;\n",
       "      return (VEGA_DEBUG[key] == version) ?\n",
       "        Promise.resolve(paths[lib]) :\n",
       "        new Promise(function(resolve, reject) {\n",
       "          var s = document.createElement('script');\n",
       "          document.getElementsByTagName(\"head\")[0].appendChild(s);\n",
       "          s.async = true;\n",
       "          s.onload = () => {\n",
       "            VEGA_DEBUG[key] = version;\n",
       "            return resolve(paths[lib]);\n",
       "          };\n",
       "          s.onerror = () => reject(`Error loading script: ${paths[lib]}`);\n",
       "          s.src = paths[lib];\n",
       "        });\n",
       "    }\n",
       "\n",
       "    function showError(err) {\n",
       "      outputDiv.innerHTML = `<div class=\"error\" style=\"color:red;\">${err}</div>`;\n",
       "      throw err;\n",
       "    }\n",
       "\n",
       "    function displayChart(vegaEmbed) {\n",
       "      vegaEmbed(outputDiv, spec, embedOpt)\n",
       "        .catch(err => showError(`Javascript Error: ${err.message}<br>This usually means there's a typo in your chart specification. See the javascript console for the full traceback.`));\n",
       "    }\n",
       "\n",
       "    if(typeof define === \"function\" && define.amd) {\n",
       "      requirejs.config({paths});\n",
       "      require([\"vega-embed\"], displayChart, err => showError(`Error loading script: ${err.message}`));\n",
       "    } else {\n",
       "      maybeLoadScript(\"vega\", \"5\")\n",
       "        .then(() => maybeLoadScript(\"vega-lite\", \"4.17.0\"))\n",
       "        .then(() => maybeLoadScript(\"vega-embed\", \"6\"))\n",
       "        .catch(showError)\n",
       "        .then(() => displayChart(vegaEmbed));\n",
       "    }\n",
       "  })({\"config\": {\"view\": {\"continuousWidth\": 400, \"continuousHeight\": 300, \"stroke\": null}, \"facet\": {\"spacing\": 0}}, \"data\": {\"name\": \"data-f29a3bdd42ea58fd9422c20e7adbf977\"}, \"facet\": {\"column\": {\"field\": \"route_id\", \"sort\": [\"12154\", \"12157\", \"12150\"], \"title\": \"Route ID\", \"type\": \"nominal\"}}, \"spec\": {\"layer\": [{\"mark\": \"rule\", \"encoding\": {\"color\": {\"value\": \"black\"}, \"y\": {\"field\": \"cutoff\", \"type\": \"quantitative\"}}, \"selection\": {\"selector001\": {\"type\": \"interval\", \"bind\": \"scales\", \"encodings\": [\"x\", \"y\"]}}}, {\"mark\": {\"type\": \"point\", \"opacity\": 0.65, \"size\": 12, \"strokeWidth\": 1.1}, \"encoding\": {\"color\": {\"field\": \"time_of_day\", \"scale\": {\"range\": [\"#136C97\", \"#E16B26\", \"#F6BF16\", \"#00896B\", \"#7790A3\", \"#5B559C\"]}, \"sort\": [\"AM Peak\", \"Midday\", \"PM Peak\", \"Owl Service\"], \"title\": \"Time of Day\", \"type\": \"nominal\"}, \"tooltip\": [{\"field\": \"route_id\", \"type\": \"nominal\"}, {\"field\": \"route_name\", \"type\": \"nominal\"}, {\"field\": \"trip_id\", \"type\": \"nominal\"}, {\"field\": \"service_hours\", \"type\": \"quantitative\"}, {\"field\": \"car_duration_hours\", \"type\": \"quantitative\"}, {\"field\": \"bus_multiplier\", \"type\": \"quantitative\"}, {\"field\": \"bus_difference\", \"type\": \"quantitative\"}, {\"field\": \"num_trips\", \"type\": \"quantitative\"}, {\"field\": \"num_competitive\", \"type\": \"quantitative\"}, {\"field\": \"pct_trips_competitive\", \"type\": \"quantitative\"}, {\"field\": \"p25\", \"type\": \"quantitative\"}, {\"field\": \"p50\", \"type\": \"quantitative\"}, {\"field\": \"p75\", \"type\": \"quantitative\"}], \"x\": {\"axis\": {\"grid\": false, \"labels\": false, \"ticks\": true, \"values\": [0]}, \"field\": \"jitter\", \"scale\": {}, \"title\": null, \"type\": \"quantitative\"}, \"y\": {\"field\": \"bus_multiplier\", \"scale\": {\"domain\": [-0.25, 3.0]}, \"title\": \"Ratio of Bus to Car Travel Time\", \"type\": \"quantitative\"}}, \"transform\": [{\"calculate\": \"sqrt(-2*log(random()))*cos(2*PI*random())\", \"as\": \"jitter\"}], \"width\": 50}, {\"layer\": [{\"mark\": {\"type\": \"point\", \"opacity\": 0.6, \"size\": 20, \"strokeWidth\": 1.3}, \"encoding\": {\"color\": {\"value\": \"#323434\"}, \"y\": {\"field\": \"bus_multiplier\", \"type\": \"quantitative\"}}, \"transform\": [{\"filter\": \"(datum.p50_trip === 1)\"}]}, {\"mark\": {\"type\": \"text\", \"align\": \"center\", \"baseline\": \"middle\"}, \"encoding\": {\"color\": {\"value\": \"black\"}, \"text\": {\"field\": \"pct_trips_competitive\", \"format\": \".0%\", \"type\": \"quantitative\"}, \"tooltip\": [{\"field\": \"route_id\", \"type\": \"nominal\"}, {\"field\": \"route_name\", \"type\": \"nominal\"}, {\"field\": \"trip_id\", \"type\": \"nominal\"}, {\"field\": \"service_hours\", \"type\": \"quantitative\"}, {\"field\": \"car_duration_hours\", \"type\": \"quantitative\"}, {\"field\": \"bus_multiplier\", \"type\": \"quantitative\"}, {\"field\": \"bus_difference\", \"type\": \"quantitative\"}, {\"field\": \"num_trips\", \"type\": \"quantitative\"}, {\"field\": \"num_competitive\", \"type\": \"quantitative\"}, {\"field\": \"pct_trips_competitive\", \"type\": \"quantitative\"}, {\"field\": \"p25\", \"type\": \"quantitative\"}, {\"field\": \"p50\", \"type\": \"quantitative\"}, {\"field\": \"p75\", \"type\": \"quantitative\"}], \"x\": {\"value\": 30}, \"y\": {\"value\": 15}}, \"transform\": [{\"calculate\": \"sqrt(-2*log(random()))*cos(2*PI*random())\", \"as\": \"jitter\"}, {\"filter\": \"(datum.fastest_trip === 1)\"}]}]}]}, \"resolve\": {\"scale\": {\"y\": \"shared\"}}, \"title\": \"Ratio of Bus to Car Travel Time\", \"$schema\": \"https://vega.github.io/schema/vega-lite/v4.17.0.json\", \"datasets\": {\"data-f29a3bdd42ea58fd9422c20e7adbf977\": [{\"calitp_itp_id\": 76, \"trip_key\": -6694541282123787873, \"trip_id\": \"t_1217029_b_26812_tn_0\", \"shape_id\": \"p_498657\", \"route_id\": \"12150\", \"service_hours\": 0.33, \"trip_first_departure_ts\": 57000, \"trip_last_arrival_ts\": 58200, \"departure_hour\": 15, \"time_of_day\": \"Midday\", \"p25\": 0.5, \"p50\": 0.5, \"p75\": 0.5, \"p50_trip\": 0, \"fastest_trip\": 1, \"car_duration_hours\": 0.27, \"competitive_route\": 1, \"bus_multiplier\": 1.22, \"bus_difference\": 3.6, \"num_trips\": 10, \"num_competitive\": 10, \"pct_trips_competitive\": 1.0, \"bus_difference_spread\": 10.200000000000001, \"route_group\": \"short\", \"max_trip_hrs\": 0.5, \"max_trip_route_group\": 0.5, \"below_cutoff\": 10, \"pct_below_cutoff\": 1.0, \"name\": \"Commute.org\", \"caltrans_district\": \"04 - Oakland\", \"drmt_organization_name\": null, \"route_name\": \"Burlingame Bayside\", \"cutoff2\": 20, \"cutoff\": 2}, {\"calitp_itp_id\": 76, \"trip_key\": 7130410101163284814, \"trip_id\": \"t_1217030_b_26812_tn_0\", \"shape_id\": \"p_498646\", \"route_id\": \"12150\", \"service_hours\": 0.5, \"trip_first_departure_ts\": 58200, \"trip_last_arrival_ts\": 60000, \"departure_hour\": 16, \"time_of_day\": \"Midday\", \"p25\": 0.5, \"p50\": 0.5, \"p75\": 0.5, \"p50_trip\": 1, \"fastest_trip\": 0, \"car_duration_hours\": 0.27, \"competitive_route\": 1, \"bus_multiplier\": 1.85, \"bus_difference\": 13.8, \"num_trips\": 10, \"num_competitive\": 10, \"pct_trips_competitive\": 1.0, \"bus_difference_spread\": 10.200000000000001, \"route_group\": \"short\", \"max_trip_hrs\": 0.5, \"max_trip_route_group\": 0.5, \"below_cutoff\": 10, \"pct_below_cutoff\": 1.0, \"name\": \"Commute.org\", \"caltrans_district\": \"04 - Oakland\", \"drmt_organization_name\": null, \"route_name\": \"Burlingame Bayside\", \"cutoff2\": 20, \"cutoff\": 2}, {\"calitp_itp_id\": 76, \"trip_key\": 7580775275634406994, \"trip_id\": \"t_1217034_b_26812_tn_0\", \"shape_id\": \"p_498646\", \"route_id\": \"12150\", \"service_hours\": 0.5, \"trip_first_departure_ts\": 60000, \"trip_last_arrival_ts\": 61800, \"departure_hour\": 16, \"time_of_day\": \"Midday\", \"p25\": 0.5, \"p50\": 0.5, \"p75\": 0.5, \"p50_trip\": 1, \"fastest_trip\": 0, \"car_duration_hours\": 0.27, \"competitive_route\": 1, \"bus_multiplier\": 1.85, \"bus_difference\": 13.8, \"num_trips\": 10, \"num_competitive\": 10, \"pct_trips_competitive\": 1.0, \"bus_difference_spread\": 10.200000000000001, \"route_group\": \"short\", \"max_trip_hrs\": 0.5, \"max_trip_route_group\": 0.5, \"below_cutoff\": 10, \"pct_below_cutoff\": 1.0, \"name\": \"Commute.org\", \"caltrans_district\": \"04 - Oakland\", \"drmt_organization_name\": null, \"route_name\": \"Burlingame Bayside\", \"cutoff2\": 20, \"cutoff\": 2}, {\"calitp_itp_id\": 76, \"trip_key\": 4867310379164857593, \"trip_id\": \"t_1217035_b_26812_tn_0\", \"shape_id\": \"p_498646\", \"route_id\": \"12150\", \"service_hours\": 0.5, \"trip_first_departure_ts\": 61800, \"trip_last_arrival_ts\": 63600, \"departure_hour\": 17, \"time_of_day\": \"PM Peak\", \"p25\": 0.5, \"p50\": 0.5, \"p75\": 0.5, \"p50_trip\": 1, \"fastest_trip\": 0, \"car_duration_hours\": 0.27, \"competitive_route\": 1, \"bus_multiplier\": 1.85, \"bus_difference\": 13.8, \"num_trips\": 10, \"num_competitive\": 10, \"pct_trips_competitive\": 1.0, \"bus_difference_spread\": 10.200000000000001, \"route_group\": \"short\", \"max_trip_hrs\": 0.5, \"max_trip_route_group\": 0.5, \"below_cutoff\": 10, \"pct_below_cutoff\": 1.0, \"name\": \"Commute.org\", \"caltrans_district\": \"04 - Oakland\", \"drmt_organization_name\": null, \"route_name\": \"Burlingame Bayside\", \"cutoff2\": 20, \"cutoff\": 2}, {\"calitp_itp_id\": 76, \"trip_key\": -7438174407941609780, \"trip_id\": \"t_1217110_b_26812_tn_0\", \"shape_id\": \"p_498613\", \"route_id\": \"12150\", \"service_hours\": 0.5, \"trip_first_departure_ts\": 32400, \"trip_last_arrival_ts\": 34200, \"departure_hour\": 9, \"time_of_day\": \"AM Peak\", \"p25\": 0.5, \"p50\": 0.5, \"p75\": 0.5, \"p50_trip\": 1, \"fastest_trip\": 0, \"car_duration_hours\": 0.27, \"competitive_route\": 1, \"bus_multiplier\": 1.85, \"bus_difference\": 13.8, \"num_trips\": 10, \"num_competitive\": 10, \"pct_trips_competitive\": 1.0, \"bus_difference_spread\": 10.200000000000001, \"route_group\": \"short\", \"max_trip_hrs\": 0.5, \"max_trip_route_group\": 0.5, \"below_cutoff\": 10, \"pct_below_cutoff\": 1.0, \"name\": \"Commute.org\", \"caltrans_district\": \"04 - Oakland\", \"drmt_organization_name\": null, \"route_name\": \"Burlingame Bayside\", \"cutoff2\": 20, \"cutoff\": 2}, {\"calitp_itp_id\": 76, \"trip_key\": -2949305192207123801, \"trip_id\": \"t_1217031_b_26812_tn_0\", \"shape_id\": \"p_498613\", \"route_id\": \"12150\", \"service_hours\": 0.5, \"trip_first_departure_ts\": 27000, \"trip_last_arrival_ts\": 28800, \"departure_hour\": 7, \"time_of_day\": \"AM Peak\", \"p25\": 0.5, \"p50\": 0.5, \"p75\": 0.5, \"p50_trip\": 1, \"fastest_trip\": 0, \"car_duration_hours\": 0.27, \"competitive_route\": 1, \"bus_multiplier\": 1.85, \"bus_difference\": 13.8, \"num_trips\": 10, \"num_competitive\": 10, \"pct_trips_competitive\": 1.0, \"bus_difference_spread\": 10.200000000000001, \"route_group\": \"short\", \"max_trip_hrs\": 0.5, \"max_trip_route_group\": 0.5, \"below_cutoff\": 10, \"pct_below_cutoff\": 1.0, \"name\": \"Commute.org\", \"caltrans_district\": \"04 - Oakland\", \"drmt_organization_name\": null, \"route_name\": \"Burlingame Bayside\", \"cutoff2\": 20, \"cutoff\": 2}, {\"calitp_itp_id\": 76, \"trip_key\": 833134030574356437, \"trip_id\": \"t_1217027_b_26812_tn_0\", \"shape_id\": \"p_498613\", \"route_id\": \"12150\", \"service_hours\": 0.5, \"trip_first_departure_ts\": 25200, \"trip_last_arrival_ts\": 27000, \"departure_hour\": 7, \"time_of_day\": \"AM Peak\", \"p25\": 0.5, \"p50\": 0.5, \"p75\": 0.5, \"p50_trip\": 1, \"fastest_trip\": 0, \"car_duration_hours\": 0.27, \"competitive_route\": 1, \"bus_multiplier\": 1.85, \"bus_difference\": 13.8, \"num_trips\": 10, \"num_competitive\": 10, \"pct_trips_competitive\": 1.0, \"bus_difference_spread\": 10.200000000000001, \"route_group\": \"short\", \"max_trip_hrs\": 0.5, \"max_trip_route_group\": 0.5, \"below_cutoff\": 10, \"pct_below_cutoff\": 1.0, \"name\": \"Commute.org\", \"caltrans_district\": \"04 - Oakland\", \"drmt_organization_name\": null, \"route_name\": \"Burlingame Bayside\", \"cutoff2\": 20, \"cutoff\": 2}, {\"calitp_itp_id\": 76, \"trip_key\": 3969225667525141346, \"trip_id\": \"t_1217245_b_26812_tn_0\", \"shape_id\": \"p_498613\", \"route_id\": \"12150\", \"service_hours\": 0.5, \"trip_first_departure_ts\": 30600, \"trip_last_arrival_ts\": 32400, \"departure_hour\": 8, \"time_of_day\": \"AM Peak\", \"p25\": 0.5, \"p50\": 0.5, \"p75\": 0.5, \"p50_trip\": 1, \"fastest_trip\": 0, \"car_duration_hours\": 0.27, \"competitive_route\": 1, \"bus_multiplier\": 1.85, \"bus_difference\": 13.8, \"num_trips\": 10, \"num_competitive\": 10, \"pct_trips_competitive\": 1.0, \"bus_difference_spread\": 10.200000000000001, \"route_group\": \"short\", \"max_trip_hrs\": 0.5, \"max_trip_route_group\": 0.5, \"below_cutoff\": 10, \"pct_below_cutoff\": 1.0, \"name\": \"Commute.org\", \"caltrans_district\": \"04 - Oakland\", \"drmt_organization_name\": null, \"route_name\": \"Burlingame Bayside\", \"cutoff2\": 20, \"cutoff\": 2}, {\"calitp_itp_id\": 76, \"trip_key\": -1165701624279554946, \"trip_id\": \"t_1217246_b_26812_tn_0\", \"shape_id\": \"p_498646\", \"route_id\": \"12150\", \"service_hours\": 0.5, \"trip_first_departure_ts\": 65400, \"trip_last_arrival_ts\": 67200, \"departure_hour\": 18, \"time_of_day\": \"PM Peak\", \"p25\": 0.5, \"p50\": 0.5, \"p75\": 0.5, \"p50_trip\": 1, \"fastest_trip\": 0, \"car_duration_hours\": 0.27, \"competitive_route\": 1, \"bus_multiplier\": 1.85, \"bus_difference\": 13.8, \"num_trips\": 10, \"num_competitive\": 10, \"pct_trips_competitive\": 1.0, \"bus_difference_spread\": 10.200000000000001, \"route_group\": \"short\", \"max_trip_hrs\": 0.5, \"max_trip_route_group\": 0.5, \"below_cutoff\": 10, \"pct_below_cutoff\": 1.0, \"name\": \"Commute.org\", \"caltrans_district\": \"04 - Oakland\", \"drmt_organization_name\": null, \"route_name\": \"Burlingame Bayside\", \"cutoff2\": 20, \"cutoff\": 2}, {\"calitp_itp_id\": 76, \"trip_key\": -5160369209345849937, \"trip_id\": \"t_1217032_b_26812_tn_0\", \"shape_id\": \"p_498613\", \"route_id\": \"12150\", \"service_hours\": 0.5, \"trip_first_departure_ts\": 28800, \"trip_last_arrival_ts\": 30600, \"departure_hour\": 8, \"time_of_day\": \"AM Peak\", \"p25\": 0.5, \"p50\": 0.5, \"p75\": 0.5, \"p50_trip\": 1, \"fastest_trip\": 0, \"car_duration_hours\": 0.27, \"competitive_route\": 1, \"bus_multiplier\": 1.85, \"bus_difference\": 13.8, \"num_trips\": 10, \"num_competitive\": 10, \"pct_trips_competitive\": 1.0, \"bus_difference_spread\": 10.200000000000001, \"route_group\": \"short\", \"max_trip_hrs\": 0.5, \"max_trip_route_group\": 0.5, \"below_cutoff\": 10, \"pct_below_cutoff\": 1.0, \"name\": \"Commute.org\", \"caltrans_district\": \"04 - Oakland\", \"drmt_organization_name\": null, \"route_name\": \"Burlingame Bayside\", \"cutoff2\": 20, \"cutoff\": 2}, {\"calitp_itp_id\": 76, \"trip_key\": -1879058847509348152, \"trip_id\": \"t_1217202_b_26812_tn_0\", \"shape_id\": \"p_788189\", \"route_id\": \"12154\", \"service_hours\": 0.37, \"trip_first_departure_ts\": 23700, \"trip_last_arrival_ts\": 25020, \"departure_hour\": 6, \"time_of_day\": \"Owl Service\", \"p25\": 0.37, \"p50\": 0.375, \"p75\": 0.38, \"p50_trip\": 1, \"fastest_trip\": 0, \"car_duration_hours\": 0.23, \"competitive_route\": 1, \"bus_multiplier\": 1.61, \"bus_difference\": 8.4, \"num_trips\": 30, \"num_competitive\": 30, \"pct_trips_competitive\": 1.0, \"bus_difference_spread\": 1.799999999999999, \"route_group\": \"short\", \"max_trip_hrs\": 0.4, \"max_trip_route_group\": 0.4, \"below_cutoff\": 30, \"pct_below_cutoff\": 1.0, \"name\": \"Commute.org\", \"caltrans_district\": \"04 - Oakland\", \"drmt_organization_name\": null, \"route_name\": \"Redwood City Midpoint\", \"cutoff2\": 20, \"cutoff\": 2}, {\"calitp_itp_id\": 76, \"trip_key\": 3555761122150589718, \"trip_id\": \"t_1490396_b_26812_tn_0\", \"shape_id\": \"p_788189\", \"route_id\": \"12154\", \"service_hours\": 0.37, \"trip_first_departure_ts\": 32340, \"trip_last_arrival_ts\": 33660, \"departure_hour\": 8, \"time_of_day\": \"AM Peak\", \"p25\": 0.37, \"p50\": 0.375, \"p75\": 0.38, \"p50_trip\": 1, \"fastest_trip\": 0, \"car_duration_hours\": 0.23, \"competitive_route\": 1, \"bus_multiplier\": 1.61, \"bus_difference\": 8.4, \"num_trips\": 30, \"num_competitive\": 30, \"pct_trips_competitive\": 1.0, \"bus_difference_spread\": 1.799999999999999, \"route_group\": \"short\", \"max_trip_hrs\": 0.4, \"max_trip_route_group\": 0.4, \"below_cutoff\": 30, \"pct_below_cutoff\": 1.0, \"name\": \"Commute.org\", \"caltrans_district\": \"04 - Oakland\", \"drmt_organization_name\": null, \"route_name\": \"Redwood City Midpoint\", \"cutoff2\": 20, \"cutoff\": 2}, {\"calitp_itp_id\": 76, \"trip_key\": 5397318917761666913, \"trip_id\": \"t_1490395_b_26812_tn_0\", \"shape_id\": \"p_788189\", \"route_id\": \"12154\", \"service_hours\": 0.37, \"trip_first_departure_ts\": 31560, \"trip_last_arrival_ts\": 32880, \"departure_hour\": 8, \"time_of_day\": \"AM Peak\", \"p25\": 0.37, \"p50\": 0.375, \"p75\": 0.38, \"p50_trip\": 1, \"fastest_trip\": 0, \"car_duration_hours\": 0.23, \"competitive_route\": 1, \"bus_multiplier\": 1.61, \"bus_difference\": 8.4, \"num_trips\": 30, \"num_competitive\": 30, \"pct_trips_competitive\": 1.0, \"bus_difference_spread\": 1.799999999999999, \"route_group\": \"short\", \"max_trip_hrs\": 0.4, \"max_trip_route_group\": 0.4, \"below_cutoff\": 30, \"pct_below_cutoff\": 1.0, \"name\": \"Commute.org\", \"caltrans_district\": \"04 - Oakland\", \"drmt_organization_name\": null, \"route_name\": \"Redwood City Midpoint\", \"cutoff2\": 20, \"cutoff\": 2}, {\"calitp_itp_id\": 76, \"trip_key\": 4671364061967569865, \"trip_id\": \"t_1490393_b_26812_tn_0\", \"shape_id\": \"p_788189\", \"route_id\": \"12154\", \"service_hours\": 0.37, \"trip_first_departure_ts\": 30120, \"trip_last_arrival_ts\": 31440, \"departure_hour\": 8, \"time_of_day\": \"AM Peak\", \"p25\": 0.37, \"p50\": 0.375, \"p75\": 0.38, \"p50_trip\": 1, \"fastest_trip\": 0, \"car_duration_hours\": 0.23, \"competitive_route\": 1, \"bus_multiplier\": 1.61, \"bus_difference\": 8.4, \"num_trips\": 30, \"num_competitive\": 30, \"pct_trips_competitive\": 1.0, \"bus_difference_spread\": 1.799999999999999, \"route_group\": \"short\", \"max_trip_hrs\": 0.4, \"max_trip_route_group\": 0.4, \"below_cutoff\": 30, \"pct_below_cutoff\": 1.0, \"name\": \"Commute.org\", \"caltrans_district\": \"04 - Oakland\", \"drmt_organization_name\": null, \"route_name\": \"Redwood City Midpoint\", \"cutoff2\": 20, \"cutoff\": 2}, {\"calitp_itp_id\": 76, \"trip_key\": -129223440492556709, \"trip_id\": \"t_1217205_b_26812_tn_0\", \"shape_id\": \"p_788189\", \"route_id\": \"12154\", \"service_hours\": 0.37, \"trip_first_departure_ts\": 25920, \"trip_last_arrival_ts\": 27240, \"departure_hour\": 7, \"time_of_day\": \"AM Peak\", \"p25\": 0.37, \"p50\": 0.375, \"p75\": 0.38, \"p50_trip\": 1, \"fastest_trip\": 0, \"car_duration_hours\": 0.23, \"competitive_route\": 1, \"bus_multiplier\": 1.61, \"bus_difference\": 8.4, \"num_trips\": 30, \"num_competitive\": 30, \"pct_trips_competitive\": 1.0, \"bus_difference_spread\": 1.799999999999999, \"route_group\": \"short\", \"max_trip_hrs\": 0.4, \"max_trip_route_group\": 0.4, \"below_cutoff\": 30, \"pct_below_cutoff\": 1.0, \"name\": \"Commute.org\", \"caltrans_district\": \"04 - Oakland\", \"drmt_organization_name\": null, \"route_name\": \"Redwood City Midpoint\", \"cutoff2\": 20, \"cutoff\": 2}, {\"calitp_itp_id\": 76, \"trip_key\": 3952629592327947872, \"trip_id\": \"t_1490394_b_26812_tn_0\", \"shape_id\": \"p_788189\", \"route_id\": \"12154\", \"service_hours\": 0.37, \"trip_first_departure_ts\": 30900, \"trip_last_arrival_ts\": 32220, \"departure_hour\": 8, \"time_of_day\": \"AM Peak\", \"p25\": 0.37, \"p50\": 0.375, \"p75\": 0.38, \"p50_trip\": 1, \"fastest_trip\": 0, \"car_duration_hours\": 0.23, \"competitive_route\": 1, \"bus_multiplier\": 1.61, \"bus_difference\": 8.4, \"num_trips\": 30, \"num_competitive\": 30, \"pct_trips_competitive\": 1.0, \"bus_difference_spread\": 1.799999999999999, \"route_group\": \"short\", \"max_trip_hrs\": 0.4, \"max_trip_route_group\": 0.4, \"below_cutoff\": 30, \"pct_below_cutoff\": 1.0, \"name\": \"Commute.org\", \"caltrans_district\": \"04 - Oakland\", \"drmt_organization_name\": null, \"route_name\": \"Redwood City Midpoint\", \"cutoff2\": 20, \"cutoff\": 2}, {\"calitp_itp_id\": 76, \"trip_key\": 1799338229586340633, \"trip_id\": \"t_1217247_b_26812_tn_0\", \"shape_id\": \"p_788189\", \"route_id\": \"12154\", \"service_hours\": 0.37, \"trip_first_departure_ts\": 27300, \"trip_last_arrival_ts\": 28620, \"departure_hour\": 7, \"time_of_day\": \"AM Peak\", \"p25\": 0.37, \"p50\": 0.375, \"p75\": 0.38, \"p50_trip\": 1, \"fastest_trip\": 0, \"car_duration_hours\": 0.23, \"competitive_route\": 1, \"bus_multiplier\": 1.61, \"bus_difference\": 8.4, \"num_trips\": 30, \"num_competitive\": 30, \"pct_trips_competitive\": 1.0, \"bus_difference_spread\": 1.799999999999999, \"route_group\": \"short\", \"max_trip_hrs\": 0.4, \"max_trip_route_group\": 0.4, \"below_cutoff\": 30, \"pct_below_cutoff\": 1.0, \"name\": \"Commute.org\", \"caltrans_district\": \"04 - Oakland\", \"drmt_organization_name\": null, \"route_name\": \"Redwood City Midpoint\", \"cutoff2\": 20, \"cutoff\": 2}, {\"calitp_itp_id\": 76, \"trip_key\": 1912475181945157787, \"trip_id\": \"t_1490392_b_26812_tn_0\", \"shape_id\": \"p_788189\", \"route_id\": \"12154\", \"service_hours\": 0.37, \"trip_first_departure_ts\": 29520, \"trip_last_arrival_ts\": 30840, \"departure_hour\": 8, \"time_of_day\": \"AM Peak\", \"p25\": 0.37, \"p50\": 0.375, \"p75\": 0.38, \"p50_trip\": 1, \"fastest_trip\": 0, \"car_duration_hours\": 0.23, \"competitive_route\": 1, \"bus_multiplier\": 1.61, \"bus_difference\": 8.4, \"num_trips\": 30, \"num_competitive\": 30, \"pct_trips_competitive\": 1.0, \"bus_difference_spread\": 1.799999999999999, \"route_group\": \"short\", \"max_trip_hrs\": 0.4, \"max_trip_route_group\": 0.4, \"below_cutoff\": 30, \"pct_below_cutoff\": 1.0, \"name\": \"Commute.org\", \"caltrans_district\": \"04 - Oakland\", \"drmt_organization_name\": null, \"route_name\": \"Redwood City Midpoint\", \"cutoff2\": 20, \"cutoff\": 2}, {\"calitp_itp_id\": 76, \"trip_key\": -2531912485619376852, \"trip_id\": \"t_1490398_b_26812_tn_0\", \"shape_id\": \"p_788189\", \"route_id\": \"12154\", \"service_hours\": 0.37, \"trip_first_departure_ts\": 33720, \"trip_last_arrival_ts\": 35040, \"departure_hour\": 9, \"time_of_day\": \"AM Peak\", \"p25\": 0.37, \"p50\": 0.375, \"p75\": 0.38, \"p50_trip\": 1, \"fastest_trip\": 1, \"car_duration_hours\": 0.23, \"competitive_route\": 1, \"bus_multiplier\": 1.61, \"bus_difference\": 8.4, \"num_trips\": 30, \"num_competitive\": 30, \"pct_trips_competitive\": 1.0, \"bus_difference_spread\": 1.799999999999999, \"route_group\": \"short\", \"max_trip_hrs\": 0.4, \"max_trip_route_group\": 0.4, \"below_cutoff\": 30, \"pct_below_cutoff\": 1.0, \"name\": \"Commute.org\", \"caltrans_district\": \"04 - Oakland\", \"drmt_organization_name\": null, \"route_name\": \"Redwood City Midpoint\", \"cutoff2\": 20, \"cutoff\": 2}, {\"calitp_itp_id\": 76, \"trip_key\": 2336445493792023776, \"trip_id\": \"t_1217204_b_26812_tn_0\", \"shape_id\": \"p_788189\", \"route_id\": \"12154\", \"service_hours\": 0.37, \"trip_first_departure_ts\": 25140, \"trip_last_arrival_ts\": 26460, \"departure_hour\": 6, \"time_of_day\": \"Owl Service\", \"p25\": 0.37, \"p50\": 0.375, \"p75\": 0.38, \"p50_trip\": 1, \"fastest_trip\": 0, \"car_duration_hours\": 0.23, \"competitive_route\": 1, \"bus_multiplier\": 1.61, \"bus_difference\": 8.4, \"num_trips\": 30, \"num_competitive\": 30, \"pct_trips_competitive\": 1.0, \"bus_difference_spread\": 1.799999999999999, \"route_group\": \"short\", \"max_trip_hrs\": 0.4, \"max_trip_route_group\": 0.4, \"below_cutoff\": 30, \"pct_below_cutoff\": 1.0, \"name\": \"Commute.org\", \"caltrans_district\": \"04 - Oakland\", \"drmt_organization_name\": null, \"route_name\": \"Redwood City Midpoint\", \"cutoff2\": 20, \"cutoff\": 2}, {\"calitp_itp_id\": 76, \"trip_key\": 457253447294300613, \"trip_id\": \"t_1490390_b_26812_tn_0\", \"shape_id\": \"p_788189\", \"route_id\": \"12154\", \"service_hours\": 0.37, \"trip_first_departure_ts\": 27960, \"trip_last_arrival_ts\": 29280, \"departure_hour\": 7, \"time_of_day\": \"AM Peak\", \"p25\": 0.37, \"p50\": 0.375, \"p75\": 0.38, \"p50_trip\": 1, \"fastest_trip\": 0, \"car_duration_hours\": 0.23, \"competitive_route\": 1, \"bus_multiplier\": 1.61, \"bus_difference\": 8.4, \"num_trips\": 30, \"num_competitive\": 30, \"pct_trips_competitive\": 1.0, \"bus_difference_spread\": 1.799999999999999, \"route_group\": \"short\", \"max_trip_hrs\": 0.4, \"max_trip_route_group\": 0.4, \"below_cutoff\": 30, \"pct_below_cutoff\": 1.0, \"name\": \"Commute.org\", \"caltrans_district\": \"04 - Oakland\", \"drmt_organization_name\": null, \"route_name\": \"Redwood City Midpoint\", \"cutoff2\": 20, \"cutoff\": 2}, {\"calitp_itp_id\": 76, \"trip_key\": -222251055215551227, \"trip_id\": \"t_1217203_b_26812_tn_0\", \"shape_id\": \"p_788189\", \"route_id\": \"12154\", \"service_hours\": 0.37, \"trip_first_departure_ts\": 24360, \"trip_last_arrival_ts\": 25680, \"departure_hour\": 6, \"time_of_day\": \"Owl Service\", \"p25\": 0.37, \"p50\": 0.375, \"p75\": 0.38, \"p50_trip\": 1, \"fastest_trip\": 0, \"car_duration_hours\": 0.23, \"competitive_route\": 1, \"bus_multiplier\": 1.61, \"bus_difference\": 8.4, \"num_trips\": 30, \"num_competitive\": 30, \"pct_trips_competitive\": 1.0, \"bus_difference_spread\": 1.799999999999999, \"route_group\": \"short\", \"max_trip_hrs\": 0.4, \"max_trip_route_group\": 0.4, \"below_cutoff\": 30, \"pct_below_cutoff\": 1.0, \"name\": \"Commute.org\", \"caltrans_district\": \"04 - Oakland\", \"drmt_organization_name\": null, \"route_name\": \"Redwood City Midpoint\", \"cutoff2\": 20, \"cutoff\": 2}, {\"calitp_itp_id\": 76, \"trip_key\": 9040812461413631102, \"trip_id\": \"t_1490391_b_26812_tn_0\", \"shape_id\": \"p_788189\", \"route_id\": \"12154\", \"service_hours\": 0.37, \"trip_first_departure_ts\": 28740, \"trip_last_arrival_ts\": 30060, \"departure_hour\": 7, \"time_of_day\": \"AM Peak\", \"p25\": 0.37, \"p50\": 0.375, \"p75\": 0.38, \"p50_trip\": 1, \"fastest_trip\": 0, \"car_duration_hours\": 0.23, \"competitive_route\": 1, \"bus_multiplier\": 1.61, \"bus_difference\": 8.4, \"num_trips\": 30, \"num_competitive\": 30, \"pct_trips_competitive\": 1.0, \"bus_difference_spread\": 1.799999999999999, \"route_group\": \"short\", \"max_trip_hrs\": 0.4, \"max_trip_route_group\": 0.4, \"below_cutoff\": 30, \"pct_below_cutoff\": 1.0, \"name\": \"Commute.org\", \"caltrans_district\": \"04 - Oakland\", \"drmt_organization_name\": null, \"route_name\": \"Redwood City Midpoint\", \"cutoff2\": 20, \"cutoff\": 2}, {\"calitp_itp_id\": 76, \"trip_key\": 3372714642285167049, \"trip_id\": \"t_1218721_b_26812_tn_0\", \"shape_id\": \"p_788189\", \"route_id\": \"12154\", \"service_hours\": 0.37, \"trip_first_departure_ts\": 26520, \"trip_last_arrival_ts\": 27840, \"departure_hour\": 7, \"time_of_day\": \"AM Peak\", \"p25\": 0.37, \"p50\": 0.375, \"p75\": 0.38, \"p50_trip\": 1, \"fastest_trip\": 0, \"car_duration_hours\": 0.23, \"competitive_route\": 1, \"bus_multiplier\": 1.61, \"bus_difference\": 8.4, \"num_trips\": 30, \"num_competitive\": 30, \"pct_trips_competitive\": 1.0, \"bus_difference_spread\": 1.799999999999999, \"route_group\": \"short\", \"max_trip_hrs\": 0.4, \"max_trip_route_group\": 0.4, \"below_cutoff\": 30, \"pct_below_cutoff\": 1.0, \"name\": \"Commute.org\", \"caltrans_district\": \"04 - Oakland\", \"drmt_organization_name\": null, \"route_name\": \"Redwood City Midpoint\", \"cutoff2\": 20, \"cutoff\": 2}, {\"calitp_itp_id\": 76, \"trip_key\": 3979972868979813931, \"trip_id\": \"t_1490397_b_26812_tn_0\", \"shape_id\": \"p_788189\", \"route_id\": \"12154\", \"service_hours\": 0.37, \"trip_first_departure_ts\": 33120, \"trip_last_arrival_ts\": 34440, \"departure_hour\": 9, \"time_of_day\": \"AM Peak\", \"p25\": 0.37, \"p50\": 0.375, \"p75\": 0.38, \"p50_trip\": 1, \"fastest_trip\": 0, \"car_duration_hours\": 0.23, \"competitive_route\": 1, \"bus_multiplier\": 1.61, \"bus_difference\": 8.4, \"num_trips\": 30, \"num_competitive\": 30, \"pct_trips_competitive\": 1.0, \"bus_difference_spread\": 1.799999999999999, \"route_group\": \"short\", \"max_trip_hrs\": 0.4, \"max_trip_route_group\": 0.4, \"below_cutoff\": 30, \"pct_below_cutoff\": 1.0, \"name\": \"Commute.org\", \"caltrans_district\": \"04 - Oakland\", \"drmt_organization_name\": null, \"route_name\": \"Redwood City Midpoint\", \"cutoff2\": 20, \"cutoff\": 2}, {\"calitp_itp_id\": 76, \"trip_key\": 7500866329819357079, \"trip_id\": \"t_1217122_b_26812_tn_0\", \"shape_id\": \"p_788189\", \"route_id\": \"12154\", \"service_hours\": 0.38, \"trip_first_departure_ts\": 57600, \"trip_last_arrival_ts\": 58980, \"departure_hour\": 16, \"time_of_day\": \"Midday\", \"p25\": 0.37, \"p50\": 0.375, \"p75\": 0.38, \"p50_trip\": 1, \"fastest_trip\": 0, \"car_duration_hours\": 0.23, \"competitive_route\": 1, \"bus_multiplier\": 1.65, \"bus_difference\": 9.0, \"num_trips\": 30, \"num_competitive\": 30, \"pct_trips_competitive\": 1.0, \"bus_difference_spread\": 1.799999999999999, \"route_group\": \"short\", \"max_trip_hrs\": 0.4, \"max_trip_route_group\": 0.4, \"below_cutoff\": 30, \"pct_below_cutoff\": 1.0, \"name\": \"Commute.org\", \"caltrans_district\": \"04 - Oakland\", \"drmt_organization_name\": null, \"route_name\": \"Redwood City Midpoint\", \"cutoff2\": 20, \"cutoff\": 2}, {\"calitp_itp_id\": 76, \"trip_key\": -8827996331669029243, \"trip_id\": \"t_1490404_b_26812_tn_0\", \"shape_id\": \"p_788189\", \"route_id\": \"12154\", \"service_hours\": 0.38, \"trip_first_departure_ts\": 63300, \"trip_last_arrival_ts\": 64680, \"departure_hour\": 17, \"time_of_day\": \"PM Peak\", \"p25\": 0.37, \"p50\": 0.375, \"p75\": 0.38, \"p50_trip\": 1, \"fastest_trip\": 0, \"car_duration_hours\": 0.23, \"competitive_route\": 1, \"bus_multiplier\": 1.65, \"bus_difference\": 9.0, \"num_trips\": 30, \"num_competitive\": 30, \"pct_trips_competitive\": 1.0, \"bus_difference_spread\": 1.799999999999999, \"route_group\": \"short\", \"max_trip_hrs\": 0.4, \"max_trip_route_group\": 0.4, \"below_cutoff\": 30, \"pct_below_cutoff\": 1.0, \"name\": \"Commute.org\", \"caltrans_district\": \"04 - Oakland\", \"drmt_organization_name\": null, \"route_name\": \"Redwood City Midpoint\", \"cutoff2\": 20, \"cutoff\": 2}, {\"calitp_itp_id\": 76, \"trip_key\": 8329705900429361308, \"trip_id\": \"t_1490403_b_26812_tn_0\", \"shape_id\": \"p_788189\", \"route_id\": \"12154\", \"service_hours\": 0.38, \"trip_first_departure_ts\": 62760, \"trip_last_arrival_ts\": 64140, \"departure_hour\": 17, \"time_of_day\": \"PM Peak\", \"p25\": 0.37, \"p50\": 0.375, \"p75\": 0.38, \"p50_trip\": 1, \"fastest_trip\": 0, \"car_duration_hours\": 0.23, \"competitive_route\": 1, \"bus_multiplier\": 1.65, \"bus_difference\": 9.0, \"num_trips\": 30, \"num_competitive\": 30, \"pct_trips_competitive\": 1.0, \"bus_difference_spread\": 1.799999999999999, \"route_group\": \"short\", \"max_trip_hrs\": 0.4, \"max_trip_route_group\": 0.4, \"below_cutoff\": 30, \"pct_below_cutoff\": 1.0, \"name\": \"Commute.org\", \"caltrans_district\": \"04 - Oakland\", \"drmt_organization_name\": null, \"route_name\": \"Redwood City Midpoint\", \"cutoff2\": 20, \"cutoff\": 2}, {\"calitp_itp_id\": 76, \"trip_key\": -6552670415709452550, \"trip_id\": \"t_1217206_b_26812_tn_0\", \"shape_id\": \"p_788189\", \"route_id\": \"12154\", \"service_hours\": 0.38, \"trip_first_departure_ts\": 56160, \"trip_last_arrival_ts\": 57540, \"departure_hour\": 15, \"time_of_day\": \"Midday\", \"p25\": 0.37, \"p50\": 0.375, \"p75\": 0.38, \"p50_trip\": 1, \"fastest_trip\": 0, \"car_duration_hours\": 0.23, \"competitive_route\": 1, \"bus_multiplier\": 1.65, \"bus_difference\": 9.0, \"num_trips\": 30, \"num_competitive\": 30, \"pct_trips_competitive\": 1.0, \"bus_difference_spread\": 1.799999999999999, \"route_group\": \"short\", \"max_trip_hrs\": 0.4, \"max_trip_route_group\": 0.4, \"below_cutoff\": 30, \"pct_below_cutoff\": 1.0, \"name\": \"Commute.org\", \"caltrans_district\": \"04 - Oakland\", \"drmt_organization_name\": null, \"route_name\": \"Redwood City Midpoint\", \"cutoff2\": 20, \"cutoff\": 2}, {\"calitp_itp_id\": 76, \"trip_key\": -569235497105708294, \"trip_id\": \"t_1218726_b_26812_tn_0\", \"shape_id\": \"p_788189\", \"route_id\": \"12154\", \"service_hours\": 0.38, \"trip_first_departure_ts\": 59160, \"trip_last_arrival_ts\": 60540, \"departure_hour\": 16, \"time_of_day\": \"Midday\", \"p25\": 0.37, \"p50\": 0.375, \"p75\": 0.38, \"p50_trip\": 1, \"fastest_trip\": 0, \"car_duration_hours\": 0.23, \"competitive_route\": 1, \"bus_multiplier\": 1.65, \"bus_difference\": 9.0, \"num_trips\": 30, \"num_competitive\": 30, \"pct_trips_competitive\": 1.0, \"bus_difference_spread\": 1.799999999999999, \"route_group\": \"short\", \"max_trip_hrs\": 0.4, \"max_trip_route_group\": 0.4, \"below_cutoff\": 30, \"pct_below_cutoff\": 1.0, \"name\": \"Commute.org\", \"caltrans_district\": \"04 - Oakland\", \"drmt_organization_name\": null, \"route_name\": \"Redwood City Midpoint\", \"cutoff2\": 20, \"cutoff\": 2}, {\"calitp_itp_id\": 76, \"trip_key\": -9081008818698821200, \"trip_id\": \"t_1217207_b_26812_tn_0\", \"shape_id\": \"p_788189\", \"route_id\": \"12154\", \"service_hours\": 0.38, \"trip_first_departure_ts\": 56940, \"trip_last_arrival_ts\": 58320, \"departure_hour\": 15, \"time_of_day\": \"Midday\", \"p25\": 0.37, \"p50\": 0.375, \"p75\": 0.38, \"p50_trip\": 1, \"fastest_trip\": 0, \"car_duration_hours\": 0.23, \"competitive_route\": 1, \"bus_multiplier\": 1.65, \"bus_difference\": 9.0, \"num_trips\": 30, \"num_competitive\": 30, \"pct_trips_competitive\": 1.0, \"bus_difference_spread\": 1.799999999999999, \"route_group\": \"short\", \"max_trip_hrs\": 0.4, \"max_trip_route_group\": 0.4, \"below_cutoff\": 30, \"pct_below_cutoff\": 1.0, \"name\": \"Commute.org\", \"caltrans_district\": \"04 - Oakland\", \"drmt_organization_name\": null, \"route_name\": \"Redwood City Midpoint\", \"cutoff2\": 20, \"cutoff\": 2}, {\"calitp_itp_id\": 76, \"trip_key\": -5349921103047156292, \"trip_id\": \"t_1490405_b_26812_tn_0\", \"shape_id\": \"p_788189\", \"route_id\": \"12154\", \"service_hours\": 0.38, \"trip_first_departure_ts\": 64140, \"trip_last_arrival_ts\": 65520, \"departure_hour\": 17, \"time_of_day\": \"PM Peak\", \"p25\": 0.37, \"p50\": 0.375, \"p75\": 0.38, \"p50_trip\": 1, \"fastest_trip\": 0, \"car_duration_hours\": 0.23, \"competitive_route\": 1, \"bus_multiplier\": 1.65, \"bus_difference\": 9.0, \"num_trips\": 30, \"num_competitive\": 30, \"pct_trips_competitive\": 1.0, \"bus_difference_spread\": 1.799999999999999, \"route_group\": \"short\", \"max_trip_hrs\": 0.4, \"max_trip_route_group\": 0.4, \"below_cutoff\": 30, \"pct_below_cutoff\": 1.0, \"name\": \"Commute.org\", \"caltrans_district\": \"04 - Oakland\", \"drmt_organization_name\": null, \"route_name\": \"Redwood City Midpoint\", \"cutoff2\": 20, \"cutoff\": 2}, {\"calitp_itp_id\": 76, \"trip_key\": 1603548273195350260, \"trip_id\": \"t_1490406_b_26812_tn_0\", \"shape_id\": \"p_788189\", \"route_id\": \"12154\", \"service_hours\": 0.38, \"trip_first_departure_ts\": 64800, \"trip_last_arrival_ts\": 66180, \"departure_hour\": 18, \"time_of_day\": \"PM Peak\", \"p25\": 0.37, \"p50\": 0.375, \"p75\": 0.38, \"p50_trip\": 1, \"fastest_trip\": 0, \"car_duration_hours\": 0.23, \"competitive_route\": 1, \"bus_multiplier\": 1.65, \"bus_difference\": 9.0, \"num_trips\": 30, \"num_competitive\": 30, \"pct_trips_competitive\": 1.0, \"bus_difference_spread\": 1.799999999999999, \"route_group\": \"short\", \"max_trip_hrs\": 0.4, \"max_trip_route_group\": 0.4, \"below_cutoff\": 30, \"pct_below_cutoff\": 1.0, \"name\": \"Commute.org\", \"caltrans_district\": \"04 - Oakland\", \"drmt_organization_name\": null, \"route_name\": \"Redwood City Midpoint\", \"cutoff2\": 20, \"cutoff\": 2}, {\"calitp_itp_id\": 76, \"trip_key\": -1589719186797678027, \"trip_id\": \"t_1490407_b_26812_tn_0\", \"shape_id\": \"p_788189\", \"route_id\": \"12154\", \"service_hours\": 0.38, \"trip_first_departure_ts\": 65520, \"trip_last_arrival_ts\": 66900, \"departure_hour\": 18, \"time_of_day\": \"PM Peak\", \"p25\": 0.37, \"p50\": 0.375, \"p75\": 0.38, \"p50_trip\": 1, \"fastest_trip\": 0, \"car_duration_hours\": 0.23, \"competitive_route\": 1, \"bus_multiplier\": 1.65, \"bus_difference\": 9.0, \"num_trips\": 30, \"num_competitive\": 30, \"pct_trips_competitive\": 1.0, \"bus_difference_spread\": 1.799999999999999, \"route_group\": \"short\", \"max_trip_hrs\": 0.4, \"max_trip_route_group\": 0.4, \"below_cutoff\": 30, \"pct_below_cutoff\": 1.0, \"name\": \"Commute.org\", \"caltrans_district\": \"04 - Oakland\", \"drmt_organization_name\": null, \"route_name\": \"Redwood City Midpoint\", \"cutoff2\": 20, \"cutoff\": 2}, {\"calitp_itp_id\": 76, \"trip_key\": -8575264985102153867, \"trip_id\": \"t_1490400_b_26812_tn_0\", \"shape_id\": \"p_788189\", \"route_id\": \"12154\", \"service_hours\": 0.38, \"trip_first_departure_ts\": 60540, \"trip_last_arrival_ts\": 61920, \"departure_hour\": 16, \"time_of_day\": \"Midday\", \"p25\": 0.37, \"p50\": 0.375, \"p75\": 0.38, \"p50_trip\": 1, \"fastest_trip\": 0, \"car_duration_hours\": 0.23, \"competitive_route\": 1, \"bus_multiplier\": 1.65, \"bus_difference\": 9.0, \"num_trips\": 30, \"num_competitive\": 30, \"pct_trips_competitive\": 1.0, \"bus_difference_spread\": 1.799999999999999, \"route_group\": \"short\", \"max_trip_hrs\": 0.4, \"max_trip_route_group\": 0.4, \"below_cutoff\": 30, \"pct_below_cutoff\": 1.0, \"name\": \"Commute.org\", \"caltrans_district\": \"04 - Oakland\", \"drmt_organization_name\": null, \"route_name\": \"Redwood City Midpoint\", \"cutoff2\": 20, \"cutoff\": 2}, {\"calitp_itp_id\": 76, \"trip_key\": 8045853403562253675, \"trip_id\": \"t_1217248_b_26812_tn_0\", \"shape_id\": \"p_788189\", \"route_id\": \"12154\", \"service_hours\": 0.38, \"trip_first_departure_ts\": 55500, \"trip_last_arrival_ts\": 56880, \"departure_hour\": 15, \"time_of_day\": \"Midday\", \"p25\": 0.37, \"p50\": 0.375, \"p75\": 0.38, \"p50_trip\": 1, \"fastest_trip\": 0, \"car_duration_hours\": 0.23, \"competitive_route\": 1, \"bus_multiplier\": 1.65, \"bus_difference\": 9.0, \"num_trips\": 30, \"num_competitive\": 30, \"pct_trips_competitive\": 1.0, \"bus_difference_spread\": 1.799999999999999, \"route_group\": \"short\", \"max_trip_hrs\": 0.4, \"max_trip_route_group\": 0.4, \"below_cutoff\": 30, \"pct_below_cutoff\": 1.0, \"name\": \"Commute.org\", \"caltrans_district\": \"04 - Oakland\", \"drmt_organization_name\": null, \"route_name\": \"Redwood City Midpoint\", \"cutoff2\": 20, \"cutoff\": 2}, {\"calitp_itp_id\": 76, \"trip_key\": 5820358487635437821, \"trip_id\": \"t_1218725_b_26812_tn_0\", \"shape_id\": \"p_788189\", \"route_id\": \"12154\", \"service_hours\": 0.38, \"trip_first_departure_ts\": 58320, \"trip_last_arrival_ts\": 59700, \"departure_hour\": 16, \"time_of_day\": \"Midday\", \"p25\": 0.37, \"p50\": 0.375, \"p75\": 0.38, \"p50_trip\": 1, \"fastest_trip\": 0, \"car_duration_hours\": 0.23, \"competitive_route\": 1, \"bus_multiplier\": 1.65, \"bus_difference\": 9.0, \"num_trips\": 30, \"num_competitive\": 30, \"pct_trips_competitive\": 1.0, \"bus_difference_spread\": 1.799999999999999, \"route_group\": \"short\", \"max_trip_hrs\": 0.4, \"max_trip_route_group\": 0.4, \"below_cutoff\": 30, \"pct_below_cutoff\": 1.0, \"name\": \"Commute.org\", \"caltrans_district\": \"04 - Oakland\", \"drmt_organization_name\": null, \"route_name\": \"Redwood City Midpoint\", \"cutoff2\": 20, \"cutoff\": 2}, {\"calitp_itp_id\": 76, \"trip_key\": -2332697120790423620, \"trip_id\": \"t_1490399_b_26812_tn_0\", \"shape_id\": \"p_788189\", \"route_id\": \"12154\", \"service_hours\": 0.38, \"trip_first_departure_ts\": 59760, \"trip_last_arrival_ts\": 61140, \"departure_hour\": 16, \"time_of_day\": \"Midday\", \"p25\": 0.37, \"p50\": 0.375, \"p75\": 0.38, \"p50_trip\": 1, \"fastest_trip\": 0, \"car_duration_hours\": 0.23, \"competitive_route\": 1, \"bus_multiplier\": 1.65, \"bus_difference\": 9.0, \"num_trips\": 30, \"num_competitive\": 30, \"pct_trips_competitive\": 1.0, \"bus_difference_spread\": 1.799999999999999, \"route_group\": \"short\", \"max_trip_hrs\": 0.4, \"max_trip_route_group\": 0.4, \"below_cutoff\": 30, \"pct_below_cutoff\": 1.0, \"name\": \"Commute.org\", \"caltrans_district\": \"04 - Oakland\", \"drmt_organization_name\": null, \"route_name\": \"Redwood City Midpoint\", \"cutoff2\": 20, \"cutoff\": 2}, {\"calitp_itp_id\": 76, \"trip_key\": 9051299505432944462, \"trip_id\": \"t_1490402_b_26812_tn_0\", \"shape_id\": \"p_788189\", \"route_id\": \"12154\", \"service_hours\": 0.38, \"trip_first_departure_ts\": 61920, \"trip_last_arrival_ts\": 63300, \"departure_hour\": 17, \"time_of_day\": \"PM Peak\", \"p25\": 0.37, \"p50\": 0.375, \"p75\": 0.38, \"p50_trip\": 1, \"fastest_trip\": 0, \"car_duration_hours\": 0.23, \"competitive_route\": 1, \"bus_multiplier\": 1.65, \"bus_difference\": 9.0, \"num_trips\": 30, \"num_competitive\": 30, \"pct_trips_competitive\": 1.0, \"bus_difference_spread\": 1.799999999999999, \"route_group\": \"short\", \"max_trip_hrs\": 0.4, \"max_trip_route_group\": 0.4, \"below_cutoff\": 30, \"pct_below_cutoff\": 1.0, \"name\": \"Commute.org\", \"caltrans_district\": \"04 - Oakland\", \"drmt_organization_name\": null, \"route_name\": \"Redwood City Midpoint\", \"cutoff2\": 20, \"cutoff\": 2}, {\"calitp_itp_id\": 76, \"trip_key\": 2378368036577341957, \"trip_id\": \"t_1490401_b_26812_tn_0\", \"shape_id\": \"p_788189\", \"route_id\": \"12154\", \"service_hours\": 0.4, \"trip_first_departure_ts\": 61140, \"trip_last_arrival_ts\": 62580, \"departure_hour\": 16, \"time_of_day\": \"Midday\", \"p25\": 0.37, \"p50\": 0.375, \"p75\": 0.38, \"p50_trip\": 0, \"fastest_trip\": 0, \"car_duration_hours\": 0.23, \"competitive_route\": 1, \"bus_multiplier\": 1.74, \"bus_difference\": 10.2, \"num_trips\": 30, \"num_competitive\": 30, \"pct_trips_competitive\": 1.0, \"bus_difference_spread\": 1.799999999999999, \"route_group\": \"short\", \"max_trip_hrs\": 0.4, \"max_trip_route_group\": 0.4, \"below_cutoff\": 30, \"pct_below_cutoff\": 1.0, \"name\": \"Commute.org\", \"caltrans_district\": \"04 - Oakland\", \"drmt_organization_name\": null, \"route_name\": \"Redwood City Midpoint\", \"cutoff2\": 20, \"cutoff\": 2}, {\"calitp_itp_id\": 76, \"trip_key\": -3518993468761310057, \"trip_id\": \"t_1217193_b_26812_tn_0\", \"shape_id\": \"p_745243\", \"route_id\": \"12157\", \"service_hours\": 0.3, \"trip_first_departure_ts\": 33900, \"trip_last_arrival_ts\": 34980, \"departure_hour\": 9, \"time_of_day\": \"AM Peak\", \"p25\": 0.4, \"p50\": 0.4, \"p75\": 0.47, \"p50_trip\": 0, \"fastest_trip\": 1, \"car_duration_hours\": 0.28, \"competitive_route\": 1, \"bus_multiplier\": 1.07, \"bus_difference\": 1.2, \"num_trips\": 14, \"num_competitive\": 14, \"pct_trips_competitive\": 1.0, \"bus_difference_spread\": 15.0, \"route_group\": \"short\", \"max_trip_hrs\": 0.55, \"max_trip_route_group\": 0.55, \"below_cutoff\": 14, \"pct_below_cutoff\": 1.0, \"name\": \"Commute.org\", \"caltrans_district\": \"04 - Oakland\", \"drmt_organization_name\": null, \"route_name\": \"Utah-Grand Caltrain\", \"cutoff2\": 20, \"cutoff\": 2}, {\"calitp_itp_id\": 76, \"trip_key\": -670183993196852318, \"trip_id\": \"t_1217195_b_26812_tn_0\", \"shape_id\": \"p_745242\", \"route_id\": \"12157\", \"service_hours\": 0.33, \"trip_first_departure_ts\": 53280, \"trip_last_arrival_ts\": 54480, \"departure_hour\": 14, \"time_of_day\": \"Midday\", \"p25\": 0.4, \"p50\": 0.4, \"p75\": 0.47, \"p50_trip\": 0, \"fastest_trip\": 0, \"car_duration_hours\": 0.28, \"competitive_route\": 1, \"bus_multiplier\": 1.18, \"bus_difference\": 3.0, \"num_trips\": 14, \"num_competitive\": 14, \"pct_trips_competitive\": 1.0, \"bus_difference_spread\": 15.0, \"route_group\": \"short\", \"max_trip_hrs\": 0.55, \"max_trip_route_group\": 0.55, \"below_cutoff\": 14, \"pct_below_cutoff\": 1.0, \"name\": \"Commute.org\", \"caltrans_district\": \"04 - Oakland\", \"drmt_organization_name\": null, \"route_name\": \"Utah-Grand Caltrain\", \"cutoff2\": 20, \"cutoff\": 2}, {\"calitp_itp_id\": 76, \"trip_key\": 8417932145375947383, \"trip_id\": \"t_1217240_b_26812_tn_0\", \"shape_id\": \"p_745241\", \"route_id\": \"12157\", \"service_hours\": 0.37, \"trip_first_departure_ts\": 23940, \"trip_last_arrival_ts\": 25260, \"departure_hour\": 6, \"time_of_day\": \"Owl Service\", \"p25\": 0.4, \"p50\": 0.4, \"p75\": 0.47, \"p50_trip\": 0, \"fastest_trip\": 0, \"car_duration_hours\": 0.28, \"competitive_route\": 1, \"bus_multiplier\": 1.32, \"bus_difference\": 5.4, \"num_trips\": 14, \"num_competitive\": 14, \"pct_trips_competitive\": 1.0, \"bus_difference_spread\": 15.0, \"route_group\": \"short\", \"max_trip_hrs\": 0.55, \"max_trip_route_group\": 0.55, \"below_cutoff\": 14, \"pct_below_cutoff\": 1.0, \"name\": \"Commute.org\", \"caltrans_district\": \"04 - Oakland\", \"drmt_organization_name\": null, \"route_name\": \"Utah-Grand Caltrain\", \"cutoff2\": 20, \"cutoff\": 2}, {\"calitp_itp_id\": 76, \"trip_key\": 6444964701813489347, \"trip_id\": \"t_1523222_b_26812_tn_0\", \"shape_id\": \"p_745240\", \"route_id\": \"12157\", \"service_hours\": 0.4, \"trip_first_departure_ts\": 32460, \"trip_last_arrival_ts\": 33900, \"departure_hour\": 9, \"time_of_day\": \"AM Peak\", \"p25\": 0.4, \"p50\": 0.4, \"p75\": 0.47, \"p50_trip\": 1, \"fastest_trip\": 0, \"car_duration_hours\": 0.28, \"competitive_route\": 1, \"bus_multiplier\": 1.43, \"bus_difference\": 7.2, \"num_trips\": 14, \"num_competitive\": 14, \"pct_trips_competitive\": 1.0, \"bus_difference_spread\": 15.0, \"route_group\": \"short\", \"max_trip_hrs\": 0.55, \"max_trip_route_group\": 0.55, \"below_cutoff\": 14, \"pct_below_cutoff\": 1.0, \"name\": \"Commute.org\", \"caltrans_district\": \"04 - Oakland\", \"drmt_organization_name\": null, \"route_name\": \"Utah-Grand Caltrain\", \"cutoff2\": 20, \"cutoff\": 2}, {\"calitp_itp_id\": 76, \"trip_key\": -1100017607885103413, \"trip_id\": \"t_1217242_b_26812_tn_0\", \"shape_id\": \"p_745240\", \"route_id\": \"12157\", \"service_hours\": 0.4, \"trip_first_departure_ts\": 25260, \"trip_last_arrival_ts\": 26700, \"departure_hour\": 7, \"time_of_day\": \"AM Peak\", \"p25\": 0.4, \"p50\": 0.4, \"p75\": 0.47, \"p50_trip\": 1, \"fastest_trip\": 0, \"car_duration_hours\": 0.28, \"competitive_route\": 1, \"bus_multiplier\": 1.43, \"bus_difference\": 7.2, \"num_trips\": 14, \"num_competitive\": 14, \"pct_trips_competitive\": 1.0, \"bus_difference_spread\": 15.0, \"route_group\": \"short\", \"max_trip_hrs\": 0.55, \"max_trip_route_group\": 0.55, \"below_cutoff\": 14, \"pct_below_cutoff\": 1.0, \"name\": \"Commute.org\", \"caltrans_district\": \"04 - Oakland\", \"drmt_organization_name\": null, \"route_name\": \"Utah-Grand Caltrain\", \"cutoff2\": 20, \"cutoff\": 2}, {\"calitp_itp_id\": 76, \"trip_key\": 7527403700965257381, \"trip_id\": \"t_1217244_b_26812_tn_0\", \"shape_id\": \"p_745240\", \"route_id\": \"12157\", \"service_hours\": 0.4, \"trip_first_departure_ts\": 26700, \"trip_last_arrival_ts\": 28140, \"departure_hour\": 7, \"time_of_day\": \"AM Peak\", \"p25\": 0.4, \"p50\": 0.4, \"p75\": 0.47, \"p50_trip\": 1, \"fastest_trip\": 0, \"car_duration_hours\": 0.28, \"competitive_route\": 1, \"bus_multiplier\": 1.43, \"bus_difference\": 7.2, \"num_trips\": 14, \"num_competitive\": 14, \"pct_trips_competitive\": 1.0, \"bus_difference_spread\": 15.0, \"route_group\": \"short\", \"max_trip_hrs\": 0.55, \"max_trip_route_group\": 0.55, \"below_cutoff\": 14, \"pct_below_cutoff\": 1.0, \"name\": \"Commute.org\", \"caltrans_district\": \"04 - Oakland\", \"drmt_organization_name\": null, \"route_name\": \"Utah-Grand Caltrain\", \"cutoff2\": 20, \"cutoff\": 2}, {\"calitp_itp_id\": 76, \"trip_key\": -7572033908622930952, \"trip_id\": \"t_1523221_b_26812_tn_0\", \"shape_id\": \"p_745240\", \"route_id\": \"12157\", \"service_hours\": 0.4, \"trip_first_departure_ts\": 30300, \"trip_last_arrival_ts\": 31740, \"departure_hour\": 8, \"time_of_day\": \"AM Peak\", \"p25\": 0.4, \"p50\": 0.4, \"p75\": 0.47, \"p50_trip\": 1, \"fastest_trip\": 0, \"car_duration_hours\": 0.28, \"competitive_route\": 1, \"bus_multiplier\": 1.43, \"bus_difference\": 7.2, \"num_trips\": 14, \"num_competitive\": 14, \"pct_trips_competitive\": 1.0, \"bus_difference_spread\": 15.0, \"route_group\": \"short\", \"max_trip_hrs\": 0.55, \"max_trip_route_group\": 0.55, \"below_cutoff\": 14, \"pct_below_cutoff\": 1.0, \"name\": \"Commute.org\", \"caltrans_district\": \"04 - Oakland\", \"drmt_organization_name\": null, \"route_name\": \"Utah-Grand Caltrain\", \"cutoff2\": 20, \"cutoff\": 2}, {\"calitp_itp_id\": 76, \"trip_key\": -7185470195732164113, \"trip_id\": \"t_1523220_b_26812_tn_0\", \"shape_id\": \"p_745240\", \"route_id\": \"12157\", \"service_hours\": 0.4, \"trip_first_departure_ts\": 28860, \"trip_last_arrival_ts\": 30300, \"departure_hour\": 8, \"time_of_day\": \"AM Peak\", \"p25\": 0.4, \"p50\": 0.4, \"p75\": 0.47, \"p50_trip\": 1, \"fastest_trip\": 0, \"car_duration_hours\": 0.28, \"competitive_route\": 1, \"bus_multiplier\": 1.43, \"bus_difference\": 7.2, \"num_trips\": 14, \"num_competitive\": 14, \"pct_trips_competitive\": 1.0, \"bus_difference_spread\": 15.0, \"route_group\": \"short\", \"max_trip_hrs\": 0.55, \"max_trip_route_group\": 0.55, \"below_cutoff\": 14, \"pct_below_cutoff\": 1.0, \"name\": \"Commute.org\", \"caltrans_district\": \"04 - Oakland\", \"drmt_organization_name\": null, \"route_name\": \"Utah-Grand Caltrain\", \"cutoff2\": 20, \"cutoff\": 2}, {\"calitp_itp_id\": 76, \"trip_key\": 4210032901875776792, \"trip_id\": \"t_1523223_b_26812_tn_2\", \"shape_id\": \"p_900671\", \"route_id\": \"12157\", \"service_hours\": 0.47, \"trip_first_departure_ts\": 60120, \"trip_last_arrival_ts\": 61800, \"departure_hour\": 16, \"time_of_day\": \"Midday\", \"p25\": 0.4, \"p50\": 0.4, \"p75\": 0.47, \"p50_trip\": 0, \"fastest_trip\": 0, \"car_duration_hours\": 0.28, \"competitive_route\": 1, \"bus_multiplier\": 1.68, \"bus_difference\": 11.4, \"num_trips\": 14, \"num_competitive\": 14, \"pct_trips_competitive\": 1.0, \"bus_difference_spread\": 15.0, \"route_group\": \"short\", \"max_trip_hrs\": 0.55, \"max_trip_route_group\": 0.55, \"below_cutoff\": 14, \"pct_below_cutoff\": 1.0, \"name\": \"Commute.org\", \"caltrans_district\": \"04 - Oakland\", \"drmt_organization_name\": null, \"route_name\": \"Utah-Grand Caltrain\", \"cutoff2\": 20, \"cutoff\": 2}, {\"calitp_itp_id\": 76, \"trip_key\": 5252656298668283543, \"trip_id\": \"t_1523238_b_26812_tn_0\", \"shape_id\": \"p_900671\", \"route_id\": \"12157\", \"service_hours\": 0.47, \"trip_first_departure_ts\": 63720, \"trip_last_arrival_ts\": 65400, \"departure_hour\": 17, \"time_of_day\": \"PM Peak\", \"p25\": 0.4, \"p50\": 0.4, \"p75\": 0.47, \"p50_trip\": 0, \"fastest_trip\": 0, \"car_duration_hours\": 0.28, \"competitive_route\": 1, \"bus_multiplier\": 1.68, \"bus_difference\": 11.4, \"num_trips\": 14, \"num_competitive\": 14, \"pct_trips_competitive\": 1.0, \"bus_difference_spread\": 15.0, \"route_group\": \"short\", \"max_trip_hrs\": 0.55, \"max_trip_route_group\": 0.55, \"below_cutoff\": 14, \"pct_below_cutoff\": 1.0, \"name\": \"Commute.org\", \"caltrans_district\": \"04 - Oakland\", \"drmt_organization_name\": null, \"route_name\": \"Utah-Grand Caltrain\", \"cutoff2\": 20, \"cutoff\": 2}, {\"calitp_itp_id\": 76, \"trip_key\": -7292751354754917016, \"trip_id\": \"t_1523223_b_26812_tn_1\", \"shape_id\": \"p_900671\", \"route_id\": \"12157\", \"service_hours\": 0.47, \"trip_first_departure_ts\": 56460, \"trip_last_arrival_ts\": 58140, \"departure_hour\": 15, \"time_of_day\": \"Midday\", \"p25\": 0.4, \"p50\": 0.4, \"p75\": 0.47, \"p50_trip\": 0, \"fastest_trip\": 0, \"car_duration_hours\": 0.28, \"competitive_route\": 1, \"bus_multiplier\": 1.68, \"bus_difference\": 11.4, \"num_trips\": 14, \"num_competitive\": 14, \"pct_trips_competitive\": 1.0, \"bus_difference_spread\": 15.0, \"route_group\": \"short\", \"max_trip_hrs\": 0.55, \"max_trip_route_group\": 0.55, \"below_cutoff\": 14, \"pct_below_cutoff\": 1.0, \"name\": \"Commute.org\", \"caltrans_district\": \"04 - Oakland\", \"drmt_organization_name\": null, \"route_name\": \"Utah-Grand Caltrain\", \"cutoff2\": 20, \"cutoff\": 2}, {\"calitp_itp_id\": 76, \"trip_key\": -154440227743447731, \"trip_id\": \"t_1523237_b_26812_tn_0\", \"shape_id\": \"p_900671\", \"route_id\": \"12157\", \"service_hours\": 0.53, \"trip_first_departure_ts\": 61800, \"trip_last_arrival_ts\": 63720, \"departure_hour\": 17, \"time_of_day\": \"PM Peak\", \"p25\": 0.4, \"p50\": 0.4, \"p75\": 0.47, \"p50_trip\": 0, \"fastest_trip\": 0, \"car_duration_hours\": 0.28, \"competitive_route\": 1, \"bus_multiplier\": 1.89, \"bus_difference\": 15.0, \"num_trips\": 14, \"num_competitive\": 14, \"pct_trips_competitive\": 1.0, \"bus_difference_spread\": 15.0, \"route_group\": \"short\", \"max_trip_hrs\": 0.55, \"max_trip_route_group\": 0.55, \"below_cutoff\": 14, \"pct_below_cutoff\": 1.0, \"name\": \"Commute.org\", \"caltrans_district\": \"04 - Oakland\", \"drmt_organization_name\": null, \"route_name\": \"Utah-Grand Caltrain\", \"cutoff2\": 20, \"cutoff\": 2}, {\"calitp_itp_id\": 76, \"trip_key\": -3377129435102605597, \"trip_id\": \"t_1217197_b_26812_tn_2\", \"shape_id\": \"p_900671\", \"route_id\": \"12157\", \"service_hours\": 0.55, \"trip_first_departure_ts\": 58140, \"trip_last_arrival_ts\": 60120, \"departure_hour\": 16, \"time_of_day\": \"Midday\", \"p25\": 0.4, \"p50\": 0.4, \"p75\": 0.47, \"p50_trip\": 0, \"fastest_trip\": 0, \"car_duration_hours\": 0.28, \"competitive_route\": 1, \"bus_multiplier\": 1.96, \"bus_difference\": 16.2, \"num_trips\": 14, \"num_competitive\": 14, \"pct_trips_competitive\": 1.0, \"bus_difference_spread\": 15.0, \"route_group\": \"short\", \"max_trip_hrs\": 0.55, \"max_trip_route_group\": 0.55, \"below_cutoff\": 14, \"pct_below_cutoff\": 1.0, \"name\": \"Commute.org\", \"caltrans_district\": \"04 - Oakland\", \"drmt_organization_name\": null, \"route_name\": \"Utah-Grand Caltrain\", \"cutoff2\": 20, \"cutoff\": 2}, {\"calitp_itp_id\": 76, \"trip_key\": 2342366353058432608, \"trip_id\": \"t_1217197_b_26812_tn_1\", \"shape_id\": \"p_900671\", \"route_id\": \"12157\", \"service_hours\": 0.55, \"trip_first_departure_ts\": 54480, \"trip_last_arrival_ts\": 56460, \"departure_hour\": 15, \"time_of_day\": \"Midday\", \"p25\": 0.4, \"p50\": 0.4, \"p75\": 0.47, \"p50_trip\": 0, \"fastest_trip\": 0, \"car_duration_hours\": 0.28, \"competitive_route\": 1, \"bus_multiplier\": 1.96, \"bus_difference\": 16.2, \"num_trips\": 14, \"num_competitive\": 14, \"pct_trips_competitive\": 1.0, \"bus_difference_spread\": 15.0, \"route_group\": \"short\", \"max_trip_hrs\": 0.55, \"max_trip_route_group\": 0.55, \"below_cutoff\": 14, \"pct_below_cutoff\": 1.0, \"name\": \"Commute.org\", \"caltrans_district\": \"04 - Oakland\", \"drmt_organization_name\": null, \"route_name\": \"Utah-Grand Caltrain\", \"cutoff2\": 20, \"cutoff\": 2}]}}, {\"mode\": \"vega-lite\"});\n",
       "</script>"
      ],
      "text/plain": [
       "alt.FacetChart(...)"
      ]
     },
     "metadata": {},
     "output_type": "display_data"
    },
    {
     "data": {
      "text/html": [
       "\n",
       "<div id=\"altair-viz-c9ca47692a3a4b539c12643d46671c98\"></div>\n",
       "<script type=\"text/javascript\">\n",
       "  var VEGA_DEBUG = (typeof VEGA_DEBUG == \"undefined\") ? {} : VEGA_DEBUG;\n",
       "  (function(spec, embedOpt){\n",
       "    let outputDiv = document.currentScript.previousElementSibling;\n",
       "    if (outputDiv.id !== \"altair-viz-c9ca47692a3a4b539c12643d46671c98\") {\n",
       "      outputDiv = document.getElementById(\"altair-viz-c9ca47692a3a4b539c12643d46671c98\");\n",
       "    }\n",
       "    const paths = {\n",
       "      \"vega\": \"https://cdn.jsdelivr.net/npm//vega@5?noext\",\n",
       "      \"vega-lib\": \"https://cdn.jsdelivr.net/npm//vega-lib?noext\",\n",
       "      \"vega-lite\": \"https://cdn.jsdelivr.net/npm//vega-lite@4.17.0?noext\",\n",
       "      \"vega-embed\": \"https://cdn.jsdelivr.net/npm//vega-embed@6?noext\",\n",
       "    };\n",
       "\n",
       "    function maybeLoadScript(lib, version) {\n",
       "      var key = `${lib.replace(\"-\", \"\")}_version`;\n",
       "      return (VEGA_DEBUG[key] == version) ?\n",
       "        Promise.resolve(paths[lib]) :\n",
       "        new Promise(function(resolve, reject) {\n",
       "          var s = document.createElement('script');\n",
       "          document.getElementsByTagName(\"head\")[0].appendChild(s);\n",
       "          s.async = true;\n",
       "          s.onload = () => {\n",
       "            VEGA_DEBUG[key] = version;\n",
       "            return resolve(paths[lib]);\n",
       "          };\n",
       "          s.onerror = () => reject(`Error loading script: ${paths[lib]}`);\n",
       "          s.src = paths[lib];\n",
       "        });\n",
       "    }\n",
       "\n",
       "    function showError(err) {\n",
       "      outputDiv.innerHTML = `<div class=\"error\" style=\"color:red;\">${err}</div>`;\n",
       "      throw err;\n",
       "    }\n",
       "\n",
       "    function displayChart(vegaEmbed) {\n",
       "      vegaEmbed(outputDiv, spec, embedOpt)\n",
       "        .catch(err => showError(`Javascript Error: ${err.message}<br>This usually means there's a typo in your chart specification. See the javascript console for the full traceback.`));\n",
       "    }\n",
       "\n",
       "    if(typeof define === \"function\" && define.amd) {\n",
       "      requirejs.config({paths});\n",
       "      require([\"vega-embed\"], displayChart, err => showError(`Error loading script: ${err.message}`));\n",
       "    } else {\n",
       "      maybeLoadScript(\"vega\", \"5\")\n",
       "        .then(() => maybeLoadScript(\"vega-lite\", \"4.17.0\"))\n",
       "        .then(() => maybeLoadScript(\"vega-embed\", \"6\"))\n",
       "        .catch(showError)\n",
       "        .then(() => displayChart(vegaEmbed));\n",
       "    }\n",
       "  })({\"config\": {\"view\": {\"continuousWidth\": 400, \"continuousHeight\": 300, \"stroke\": null}, \"facet\": {\"spacing\": 0}}, \"data\": {\"name\": \"data-f082bd0056d256188ccf2a45be7df41e\"}, \"facet\": {\"column\": {\"field\": \"route_id\", \"sort\": [\"12154\", \"12157\", \"12150\"], \"title\": \"Route ID\", \"type\": \"nominal\"}}, \"spec\": {\"layer\": [{\"mark\": \"rule\", \"encoding\": {\"color\": {\"value\": \"black\"}, \"y\": {\"field\": \"cutoff\", \"type\": \"quantitative\"}}, \"selection\": {\"selector002\": {\"type\": \"interval\", \"bind\": \"scales\", \"encodings\": [\"x\", \"y\"]}}}, {\"mark\": {\"type\": \"rule\", \"strokeDash\": [3, 3]}, \"encoding\": {\"color\": {\"value\": \"#323434\"}, \"y\": {\"field\": \"cutoff2\", \"type\": \"quantitative\"}}}, {\"mark\": {\"type\": \"point\", \"opacity\": 0.65, \"size\": 12, \"strokeWidth\": 1.1}, \"encoding\": {\"color\": {\"field\": \"time_of_day\", \"scale\": {\"range\": [\"#136C97\", \"#E16B26\", \"#F6BF16\", \"#00896B\", \"#7790A3\", \"#5B559C\"]}, \"sort\": [\"AM Peak\", \"Midday\", \"PM Peak\", \"Owl Service\"], \"title\": \"Time of Day\", \"type\": \"nominal\"}, \"tooltip\": [{\"field\": \"route_id\", \"type\": \"nominal\"}, {\"field\": \"route_name\", \"type\": \"nominal\"}, {\"field\": \"trip_id\", \"type\": \"nominal\"}, {\"field\": \"service_hours\", \"type\": \"quantitative\"}, {\"field\": \"car_duration_hours\", \"type\": \"quantitative\"}, {\"field\": \"bus_multiplier\", \"type\": \"quantitative\"}, {\"field\": \"bus_difference\", \"type\": \"quantitative\"}, {\"field\": \"num_trips\", \"type\": \"quantitative\"}, {\"field\": \"num_competitive\", \"type\": \"quantitative\"}, {\"field\": \"pct_trips_competitive\", \"type\": \"quantitative\"}, {\"field\": \"p25\", \"type\": \"quantitative\"}, {\"field\": \"p50\", \"type\": \"quantitative\"}, {\"field\": \"p75\", \"type\": \"quantitative\"}], \"x\": {\"axis\": {\"grid\": false, \"labels\": false, \"ticks\": true, \"values\": [0]}, \"field\": \"jitter\", \"scale\": {}, \"title\": null, \"type\": \"quantitative\"}, \"y\": {\"field\": \"bus_difference\", \"scale\": {\"domain\": [-5, 25.0]}, \"title\": \"Difference in Bus to Car Travel Time (min)\", \"type\": \"quantitative\"}}, \"transform\": [{\"calculate\": \"sqrt(-2*log(random()))*cos(2*PI*random())\", \"as\": \"jitter\"}], \"width\": 50}, {\"layer\": [{\"mark\": {\"type\": \"point\", \"opacity\": 0.6, \"size\": 20, \"strokeWidth\": 1.3}, \"encoding\": {\"color\": {\"value\": \"#323434\"}, \"y\": {\"field\": \"bus_difference\", \"type\": \"quantitative\"}}, \"transform\": [{\"filter\": \"(datum.p50_trip === 1)\"}]}, {\"mark\": {\"type\": \"text\", \"align\": \"center\", \"baseline\": \"middle\"}, \"encoding\": {\"color\": {\"value\": \"black\"}, \"text\": {\"field\": \"pct_trips_competitive\", \"format\": \".0%\", \"type\": \"quantitative\"}, \"tooltip\": [{\"field\": \"route_id\", \"type\": \"nominal\"}, {\"field\": \"route_name\", \"type\": \"nominal\"}, {\"field\": \"trip_id\", \"type\": \"nominal\"}, {\"field\": \"service_hours\", \"type\": \"quantitative\"}, {\"field\": \"car_duration_hours\", \"type\": \"quantitative\"}, {\"field\": \"bus_multiplier\", \"type\": \"quantitative\"}, {\"field\": \"bus_difference\", \"type\": \"quantitative\"}, {\"field\": \"num_trips\", \"type\": \"quantitative\"}, {\"field\": \"num_competitive\", \"type\": \"quantitative\"}, {\"field\": \"pct_trips_competitive\", \"type\": \"quantitative\"}, {\"field\": \"p25\", \"type\": \"quantitative\"}, {\"field\": \"p50\", \"type\": \"quantitative\"}, {\"field\": \"p75\", \"type\": \"quantitative\"}], \"x\": {\"value\": 30}, \"y\": {\"value\": 15}}, \"transform\": [{\"calculate\": \"sqrt(-2*log(random()))*cos(2*PI*random())\", \"as\": \"jitter\"}, {\"filter\": \"(datum.fastest_trip === 1)\"}]}]}]}, \"resolve\": {\"scale\": {\"y\": \"shared\"}}, \"title\": \"Difference in Bus to Car Travel Time (min)\", \"$schema\": \"https://vega.github.io/schema/vega-lite/v4.17.0.json\", \"datasets\": {\"data-f082bd0056d256188ccf2a45be7df41e\": [{\"calitp_itp_id\": 76, \"trip_key\": -6694541282123787873, \"trip_id\": \"t_1217029_b_26812_tn_0\", \"shape_id\": \"p_498657\", \"route_id\": \"12150\", \"service_hours\": 0.33, \"trip_first_departure_ts\": 57000, \"trip_last_arrival_ts\": 58200, \"departure_hour\": 15, \"time_of_day\": \"Midday\", \"p25\": 0.5, \"p50\": 0.5, \"p75\": 0.5, \"p50_trip\": 0, \"fastest_trip\": 1, \"car_duration_hours\": 0.27, \"competitive_route\": 1, \"bus_multiplier\": 1.22, \"bus_difference\": 3.6, \"num_trips\": 10, \"num_competitive\": 10, \"pct_trips_competitive\": 1.0, \"bus_difference_spread\": 10.200000000000001, \"route_group\": \"short\", \"max_trip_hrs\": 0.5, \"max_trip_route_group\": 0.5, \"below_cutoff\": 10, \"pct_below_cutoff\": 1.0, \"name\": \"Commute.org\", \"caltrans_district\": \"04 - Oakland\", \"drmt_organization_name\": null, \"route_name\": \"Burlingame Bayside\", \"cutoff2\": 20, \"cutoff\": 0}, {\"calitp_itp_id\": 76, \"trip_key\": 7130410101163284814, \"trip_id\": \"t_1217030_b_26812_tn_0\", \"shape_id\": \"p_498646\", \"route_id\": \"12150\", \"service_hours\": 0.5, \"trip_first_departure_ts\": 58200, \"trip_last_arrival_ts\": 60000, \"departure_hour\": 16, \"time_of_day\": \"Midday\", \"p25\": 0.5, \"p50\": 0.5, \"p75\": 0.5, \"p50_trip\": 1, \"fastest_trip\": 0, \"car_duration_hours\": 0.27, \"competitive_route\": 1, \"bus_multiplier\": 1.85, \"bus_difference\": 13.8, \"num_trips\": 10, \"num_competitive\": 10, \"pct_trips_competitive\": 1.0, \"bus_difference_spread\": 10.200000000000001, \"route_group\": \"short\", \"max_trip_hrs\": 0.5, \"max_trip_route_group\": 0.5, \"below_cutoff\": 10, \"pct_below_cutoff\": 1.0, \"name\": \"Commute.org\", \"caltrans_district\": \"04 - Oakland\", \"drmt_organization_name\": null, \"route_name\": \"Burlingame Bayside\", \"cutoff2\": 20, \"cutoff\": 0}, {\"calitp_itp_id\": 76, \"trip_key\": 7580775275634406994, \"trip_id\": \"t_1217034_b_26812_tn_0\", \"shape_id\": \"p_498646\", \"route_id\": \"12150\", \"service_hours\": 0.5, \"trip_first_departure_ts\": 60000, \"trip_last_arrival_ts\": 61800, \"departure_hour\": 16, \"time_of_day\": \"Midday\", \"p25\": 0.5, \"p50\": 0.5, \"p75\": 0.5, \"p50_trip\": 1, \"fastest_trip\": 0, \"car_duration_hours\": 0.27, \"competitive_route\": 1, \"bus_multiplier\": 1.85, \"bus_difference\": 13.8, \"num_trips\": 10, \"num_competitive\": 10, \"pct_trips_competitive\": 1.0, \"bus_difference_spread\": 10.200000000000001, \"route_group\": \"short\", \"max_trip_hrs\": 0.5, \"max_trip_route_group\": 0.5, \"below_cutoff\": 10, \"pct_below_cutoff\": 1.0, \"name\": \"Commute.org\", \"caltrans_district\": \"04 - Oakland\", \"drmt_organization_name\": null, \"route_name\": \"Burlingame Bayside\", \"cutoff2\": 20, \"cutoff\": 0}, {\"calitp_itp_id\": 76, \"trip_key\": 4867310379164857593, \"trip_id\": \"t_1217035_b_26812_tn_0\", \"shape_id\": \"p_498646\", \"route_id\": \"12150\", \"service_hours\": 0.5, \"trip_first_departure_ts\": 61800, \"trip_last_arrival_ts\": 63600, \"departure_hour\": 17, \"time_of_day\": \"PM Peak\", \"p25\": 0.5, \"p50\": 0.5, \"p75\": 0.5, \"p50_trip\": 1, \"fastest_trip\": 0, \"car_duration_hours\": 0.27, \"competitive_route\": 1, \"bus_multiplier\": 1.85, \"bus_difference\": 13.8, \"num_trips\": 10, \"num_competitive\": 10, \"pct_trips_competitive\": 1.0, \"bus_difference_spread\": 10.200000000000001, \"route_group\": \"short\", \"max_trip_hrs\": 0.5, \"max_trip_route_group\": 0.5, \"below_cutoff\": 10, \"pct_below_cutoff\": 1.0, \"name\": \"Commute.org\", \"caltrans_district\": \"04 - Oakland\", \"drmt_organization_name\": null, \"route_name\": \"Burlingame Bayside\", \"cutoff2\": 20, \"cutoff\": 0}, {\"calitp_itp_id\": 76, \"trip_key\": -7438174407941609780, \"trip_id\": \"t_1217110_b_26812_tn_0\", \"shape_id\": \"p_498613\", \"route_id\": \"12150\", \"service_hours\": 0.5, \"trip_first_departure_ts\": 32400, \"trip_last_arrival_ts\": 34200, \"departure_hour\": 9, \"time_of_day\": \"AM Peak\", \"p25\": 0.5, \"p50\": 0.5, \"p75\": 0.5, \"p50_trip\": 1, \"fastest_trip\": 0, \"car_duration_hours\": 0.27, \"competitive_route\": 1, \"bus_multiplier\": 1.85, \"bus_difference\": 13.8, \"num_trips\": 10, \"num_competitive\": 10, \"pct_trips_competitive\": 1.0, \"bus_difference_spread\": 10.200000000000001, \"route_group\": \"short\", \"max_trip_hrs\": 0.5, \"max_trip_route_group\": 0.5, \"below_cutoff\": 10, \"pct_below_cutoff\": 1.0, \"name\": \"Commute.org\", \"caltrans_district\": \"04 - Oakland\", \"drmt_organization_name\": null, \"route_name\": \"Burlingame Bayside\", \"cutoff2\": 20, \"cutoff\": 0}, {\"calitp_itp_id\": 76, \"trip_key\": -2949305192207123801, \"trip_id\": \"t_1217031_b_26812_tn_0\", \"shape_id\": \"p_498613\", \"route_id\": \"12150\", \"service_hours\": 0.5, \"trip_first_departure_ts\": 27000, \"trip_last_arrival_ts\": 28800, \"departure_hour\": 7, \"time_of_day\": \"AM Peak\", \"p25\": 0.5, \"p50\": 0.5, \"p75\": 0.5, \"p50_trip\": 1, \"fastest_trip\": 0, \"car_duration_hours\": 0.27, \"competitive_route\": 1, \"bus_multiplier\": 1.85, \"bus_difference\": 13.8, \"num_trips\": 10, \"num_competitive\": 10, \"pct_trips_competitive\": 1.0, \"bus_difference_spread\": 10.200000000000001, \"route_group\": \"short\", \"max_trip_hrs\": 0.5, \"max_trip_route_group\": 0.5, \"below_cutoff\": 10, \"pct_below_cutoff\": 1.0, \"name\": \"Commute.org\", \"caltrans_district\": \"04 - Oakland\", \"drmt_organization_name\": null, \"route_name\": \"Burlingame Bayside\", \"cutoff2\": 20, \"cutoff\": 0}, {\"calitp_itp_id\": 76, \"trip_key\": 833134030574356437, \"trip_id\": \"t_1217027_b_26812_tn_0\", \"shape_id\": \"p_498613\", \"route_id\": \"12150\", \"service_hours\": 0.5, \"trip_first_departure_ts\": 25200, \"trip_last_arrival_ts\": 27000, \"departure_hour\": 7, \"time_of_day\": \"AM Peak\", \"p25\": 0.5, \"p50\": 0.5, \"p75\": 0.5, \"p50_trip\": 1, \"fastest_trip\": 0, \"car_duration_hours\": 0.27, \"competitive_route\": 1, \"bus_multiplier\": 1.85, \"bus_difference\": 13.8, \"num_trips\": 10, \"num_competitive\": 10, \"pct_trips_competitive\": 1.0, \"bus_difference_spread\": 10.200000000000001, \"route_group\": \"short\", \"max_trip_hrs\": 0.5, \"max_trip_route_group\": 0.5, \"below_cutoff\": 10, \"pct_below_cutoff\": 1.0, \"name\": \"Commute.org\", \"caltrans_district\": \"04 - Oakland\", \"drmt_organization_name\": null, \"route_name\": \"Burlingame Bayside\", \"cutoff2\": 20, \"cutoff\": 0}, {\"calitp_itp_id\": 76, \"trip_key\": 3969225667525141346, \"trip_id\": \"t_1217245_b_26812_tn_0\", \"shape_id\": \"p_498613\", \"route_id\": \"12150\", \"service_hours\": 0.5, \"trip_first_departure_ts\": 30600, \"trip_last_arrival_ts\": 32400, \"departure_hour\": 8, \"time_of_day\": \"AM Peak\", \"p25\": 0.5, \"p50\": 0.5, \"p75\": 0.5, \"p50_trip\": 1, \"fastest_trip\": 0, \"car_duration_hours\": 0.27, \"competitive_route\": 1, \"bus_multiplier\": 1.85, \"bus_difference\": 13.8, \"num_trips\": 10, \"num_competitive\": 10, \"pct_trips_competitive\": 1.0, \"bus_difference_spread\": 10.200000000000001, \"route_group\": \"short\", \"max_trip_hrs\": 0.5, \"max_trip_route_group\": 0.5, \"below_cutoff\": 10, \"pct_below_cutoff\": 1.0, \"name\": \"Commute.org\", \"caltrans_district\": \"04 - Oakland\", \"drmt_organization_name\": null, \"route_name\": \"Burlingame Bayside\", \"cutoff2\": 20, \"cutoff\": 0}, {\"calitp_itp_id\": 76, \"trip_key\": -1165701624279554946, \"trip_id\": \"t_1217246_b_26812_tn_0\", \"shape_id\": \"p_498646\", \"route_id\": \"12150\", \"service_hours\": 0.5, \"trip_first_departure_ts\": 65400, \"trip_last_arrival_ts\": 67200, \"departure_hour\": 18, \"time_of_day\": \"PM Peak\", \"p25\": 0.5, \"p50\": 0.5, \"p75\": 0.5, \"p50_trip\": 1, \"fastest_trip\": 0, \"car_duration_hours\": 0.27, \"competitive_route\": 1, \"bus_multiplier\": 1.85, \"bus_difference\": 13.8, \"num_trips\": 10, \"num_competitive\": 10, \"pct_trips_competitive\": 1.0, \"bus_difference_spread\": 10.200000000000001, \"route_group\": \"short\", \"max_trip_hrs\": 0.5, \"max_trip_route_group\": 0.5, \"below_cutoff\": 10, \"pct_below_cutoff\": 1.0, \"name\": \"Commute.org\", \"caltrans_district\": \"04 - Oakland\", \"drmt_organization_name\": null, \"route_name\": \"Burlingame Bayside\", \"cutoff2\": 20, \"cutoff\": 0}, {\"calitp_itp_id\": 76, \"trip_key\": -5160369209345849937, \"trip_id\": \"t_1217032_b_26812_tn_0\", \"shape_id\": \"p_498613\", \"route_id\": \"12150\", \"service_hours\": 0.5, \"trip_first_departure_ts\": 28800, \"trip_last_arrival_ts\": 30600, \"departure_hour\": 8, \"time_of_day\": \"AM Peak\", \"p25\": 0.5, \"p50\": 0.5, \"p75\": 0.5, \"p50_trip\": 1, \"fastest_trip\": 0, \"car_duration_hours\": 0.27, \"competitive_route\": 1, \"bus_multiplier\": 1.85, \"bus_difference\": 13.8, \"num_trips\": 10, \"num_competitive\": 10, \"pct_trips_competitive\": 1.0, \"bus_difference_spread\": 10.200000000000001, \"route_group\": \"short\", \"max_trip_hrs\": 0.5, \"max_trip_route_group\": 0.5, \"below_cutoff\": 10, \"pct_below_cutoff\": 1.0, \"name\": \"Commute.org\", \"caltrans_district\": \"04 - Oakland\", \"drmt_organization_name\": null, \"route_name\": \"Burlingame Bayside\", \"cutoff2\": 20, \"cutoff\": 0}, {\"calitp_itp_id\": 76, \"trip_key\": -1879058847509348152, \"trip_id\": \"t_1217202_b_26812_tn_0\", \"shape_id\": \"p_788189\", \"route_id\": \"12154\", \"service_hours\": 0.37, \"trip_first_departure_ts\": 23700, \"trip_last_arrival_ts\": 25020, \"departure_hour\": 6, \"time_of_day\": \"Owl Service\", \"p25\": 0.37, \"p50\": 0.375, \"p75\": 0.38, \"p50_trip\": 1, \"fastest_trip\": 0, \"car_duration_hours\": 0.23, \"competitive_route\": 1, \"bus_multiplier\": 1.61, \"bus_difference\": 8.4, \"num_trips\": 30, \"num_competitive\": 30, \"pct_trips_competitive\": 1.0, \"bus_difference_spread\": 1.799999999999999, \"route_group\": \"short\", \"max_trip_hrs\": 0.4, \"max_trip_route_group\": 0.4, \"below_cutoff\": 30, \"pct_below_cutoff\": 1.0, \"name\": \"Commute.org\", \"caltrans_district\": \"04 - Oakland\", \"drmt_organization_name\": null, \"route_name\": \"Redwood City Midpoint\", \"cutoff2\": 20, \"cutoff\": 0}, {\"calitp_itp_id\": 76, \"trip_key\": 3555761122150589718, \"trip_id\": \"t_1490396_b_26812_tn_0\", \"shape_id\": \"p_788189\", \"route_id\": \"12154\", \"service_hours\": 0.37, \"trip_first_departure_ts\": 32340, \"trip_last_arrival_ts\": 33660, \"departure_hour\": 8, \"time_of_day\": \"AM Peak\", \"p25\": 0.37, \"p50\": 0.375, \"p75\": 0.38, \"p50_trip\": 1, \"fastest_trip\": 0, \"car_duration_hours\": 0.23, \"competitive_route\": 1, \"bus_multiplier\": 1.61, \"bus_difference\": 8.4, \"num_trips\": 30, \"num_competitive\": 30, \"pct_trips_competitive\": 1.0, \"bus_difference_spread\": 1.799999999999999, \"route_group\": \"short\", \"max_trip_hrs\": 0.4, \"max_trip_route_group\": 0.4, \"below_cutoff\": 30, \"pct_below_cutoff\": 1.0, \"name\": \"Commute.org\", \"caltrans_district\": \"04 - Oakland\", \"drmt_organization_name\": null, \"route_name\": \"Redwood City Midpoint\", \"cutoff2\": 20, \"cutoff\": 0}, {\"calitp_itp_id\": 76, \"trip_key\": 5397318917761666913, \"trip_id\": \"t_1490395_b_26812_tn_0\", \"shape_id\": \"p_788189\", \"route_id\": \"12154\", \"service_hours\": 0.37, \"trip_first_departure_ts\": 31560, \"trip_last_arrival_ts\": 32880, \"departure_hour\": 8, \"time_of_day\": \"AM Peak\", \"p25\": 0.37, \"p50\": 0.375, \"p75\": 0.38, \"p50_trip\": 1, \"fastest_trip\": 0, \"car_duration_hours\": 0.23, \"competitive_route\": 1, \"bus_multiplier\": 1.61, \"bus_difference\": 8.4, \"num_trips\": 30, \"num_competitive\": 30, \"pct_trips_competitive\": 1.0, \"bus_difference_spread\": 1.799999999999999, \"route_group\": \"short\", \"max_trip_hrs\": 0.4, \"max_trip_route_group\": 0.4, \"below_cutoff\": 30, \"pct_below_cutoff\": 1.0, \"name\": \"Commute.org\", \"caltrans_district\": \"04 - Oakland\", \"drmt_organization_name\": null, \"route_name\": \"Redwood City Midpoint\", \"cutoff2\": 20, \"cutoff\": 0}, {\"calitp_itp_id\": 76, \"trip_key\": 4671364061967569865, \"trip_id\": \"t_1490393_b_26812_tn_0\", \"shape_id\": \"p_788189\", \"route_id\": \"12154\", \"service_hours\": 0.37, \"trip_first_departure_ts\": 30120, \"trip_last_arrival_ts\": 31440, \"departure_hour\": 8, \"time_of_day\": \"AM Peak\", \"p25\": 0.37, \"p50\": 0.375, \"p75\": 0.38, \"p50_trip\": 1, \"fastest_trip\": 0, \"car_duration_hours\": 0.23, \"competitive_route\": 1, \"bus_multiplier\": 1.61, \"bus_difference\": 8.4, \"num_trips\": 30, \"num_competitive\": 30, \"pct_trips_competitive\": 1.0, \"bus_difference_spread\": 1.799999999999999, \"route_group\": \"short\", \"max_trip_hrs\": 0.4, \"max_trip_route_group\": 0.4, \"below_cutoff\": 30, \"pct_below_cutoff\": 1.0, \"name\": \"Commute.org\", \"caltrans_district\": \"04 - Oakland\", \"drmt_organization_name\": null, \"route_name\": \"Redwood City Midpoint\", \"cutoff2\": 20, \"cutoff\": 0}, {\"calitp_itp_id\": 76, \"trip_key\": -129223440492556709, \"trip_id\": \"t_1217205_b_26812_tn_0\", \"shape_id\": \"p_788189\", \"route_id\": \"12154\", \"service_hours\": 0.37, \"trip_first_departure_ts\": 25920, \"trip_last_arrival_ts\": 27240, \"departure_hour\": 7, \"time_of_day\": \"AM Peak\", \"p25\": 0.37, \"p50\": 0.375, \"p75\": 0.38, \"p50_trip\": 1, \"fastest_trip\": 0, \"car_duration_hours\": 0.23, \"competitive_route\": 1, \"bus_multiplier\": 1.61, \"bus_difference\": 8.4, \"num_trips\": 30, \"num_competitive\": 30, \"pct_trips_competitive\": 1.0, \"bus_difference_spread\": 1.799999999999999, \"route_group\": \"short\", \"max_trip_hrs\": 0.4, \"max_trip_route_group\": 0.4, \"below_cutoff\": 30, \"pct_below_cutoff\": 1.0, \"name\": \"Commute.org\", \"caltrans_district\": \"04 - Oakland\", \"drmt_organization_name\": null, \"route_name\": \"Redwood City Midpoint\", \"cutoff2\": 20, \"cutoff\": 0}, {\"calitp_itp_id\": 76, \"trip_key\": 3952629592327947872, \"trip_id\": \"t_1490394_b_26812_tn_0\", \"shape_id\": \"p_788189\", \"route_id\": \"12154\", \"service_hours\": 0.37, \"trip_first_departure_ts\": 30900, \"trip_last_arrival_ts\": 32220, \"departure_hour\": 8, \"time_of_day\": \"AM Peak\", \"p25\": 0.37, \"p50\": 0.375, \"p75\": 0.38, \"p50_trip\": 1, \"fastest_trip\": 0, \"car_duration_hours\": 0.23, \"competitive_route\": 1, \"bus_multiplier\": 1.61, \"bus_difference\": 8.4, \"num_trips\": 30, \"num_competitive\": 30, \"pct_trips_competitive\": 1.0, \"bus_difference_spread\": 1.799999999999999, \"route_group\": \"short\", \"max_trip_hrs\": 0.4, \"max_trip_route_group\": 0.4, \"below_cutoff\": 30, \"pct_below_cutoff\": 1.0, \"name\": \"Commute.org\", \"caltrans_district\": \"04 - Oakland\", \"drmt_organization_name\": null, \"route_name\": \"Redwood City Midpoint\", \"cutoff2\": 20, \"cutoff\": 0}, {\"calitp_itp_id\": 76, \"trip_key\": 1799338229586340633, \"trip_id\": \"t_1217247_b_26812_tn_0\", \"shape_id\": \"p_788189\", \"route_id\": \"12154\", \"service_hours\": 0.37, \"trip_first_departure_ts\": 27300, \"trip_last_arrival_ts\": 28620, \"departure_hour\": 7, \"time_of_day\": \"AM Peak\", \"p25\": 0.37, \"p50\": 0.375, \"p75\": 0.38, \"p50_trip\": 1, \"fastest_trip\": 0, \"car_duration_hours\": 0.23, \"competitive_route\": 1, \"bus_multiplier\": 1.61, \"bus_difference\": 8.4, \"num_trips\": 30, \"num_competitive\": 30, \"pct_trips_competitive\": 1.0, \"bus_difference_spread\": 1.799999999999999, \"route_group\": \"short\", \"max_trip_hrs\": 0.4, \"max_trip_route_group\": 0.4, \"below_cutoff\": 30, \"pct_below_cutoff\": 1.0, \"name\": \"Commute.org\", \"caltrans_district\": \"04 - Oakland\", \"drmt_organization_name\": null, \"route_name\": \"Redwood City Midpoint\", \"cutoff2\": 20, \"cutoff\": 0}, {\"calitp_itp_id\": 76, \"trip_key\": 1912475181945157787, \"trip_id\": \"t_1490392_b_26812_tn_0\", \"shape_id\": \"p_788189\", \"route_id\": \"12154\", \"service_hours\": 0.37, \"trip_first_departure_ts\": 29520, \"trip_last_arrival_ts\": 30840, \"departure_hour\": 8, \"time_of_day\": \"AM Peak\", \"p25\": 0.37, \"p50\": 0.375, \"p75\": 0.38, \"p50_trip\": 1, \"fastest_trip\": 0, \"car_duration_hours\": 0.23, \"competitive_route\": 1, \"bus_multiplier\": 1.61, \"bus_difference\": 8.4, \"num_trips\": 30, \"num_competitive\": 30, \"pct_trips_competitive\": 1.0, \"bus_difference_spread\": 1.799999999999999, \"route_group\": \"short\", \"max_trip_hrs\": 0.4, \"max_trip_route_group\": 0.4, \"below_cutoff\": 30, \"pct_below_cutoff\": 1.0, \"name\": \"Commute.org\", \"caltrans_district\": \"04 - Oakland\", \"drmt_organization_name\": null, \"route_name\": \"Redwood City Midpoint\", \"cutoff2\": 20, \"cutoff\": 0}, {\"calitp_itp_id\": 76, \"trip_key\": -2531912485619376852, \"trip_id\": \"t_1490398_b_26812_tn_0\", \"shape_id\": \"p_788189\", \"route_id\": \"12154\", \"service_hours\": 0.37, \"trip_first_departure_ts\": 33720, \"trip_last_arrival_ts\": 35040, \"departure_hour\": 9, \"time_of_day\": \"AM Peak\", \"p25\": 0.37, \"p50\": 0.375, \"p75\": 0.38, \"p50_trip\": 1, \"fastest_trip\": 1, \"car_duration_hours\": 0.23, \"competitive_route\": 1, \"bus_multiplier\": 1.61, \"bus_difference\": 8.4, \"num_trips\": 30, \"num_competitive\": 30, \"pct_trips_competitive\": 1.0, \"bus_difference_spread\": 1.799999999999999, \"route_group\": \"short\", \"max_trip_hrs\": 0.4, \"max_trip_route_group\": 0.4, \"below_cutoff\": 30, \"pct_below_cutoff\": 1.0, \"name\": \"Commute.org\", \"caltrans_district\": \"04 - Oakland\", \"drmt_organization_name\": null, \"route_name\": \"Redwood City Midpoint\", \"cutoff2\": 20, \"cutoff\": 0}, {\"calitp_itp_id\": 76, \"trip_key\": 2336445493792023776, \"trip_id\": \"t_1217204_b_26812_tn_0\", \"shape_id\": \"p_788189\", \"route_id\": \"12154\", \"service_hours\": 0.37, \"trip_first_departure_ts\": 25140, \"trip_last_arrival_ts\": 26460, \"departure_hour\": 6, \"time_of_day\": \"Owl Service\", \"p25\": 0.37, \"p50\": 0.375, \"p75\": 0.38, \"p50_trip\": 1, \"fastest_trip\": 0, \"car_duration_hours\": 0.23, \"competitive_route\": 1, \"bus_multiplier\": 1.61, \"bus_difference\": 8.4, \"num_trips\": 30, \"num_competitive\": 30, \"pct_trips_competitive\": 1.0, \"bus_difference_spread\": 1.799999999999999, \"route_group\": \"short\", \"max_trip_hrs\": 0.4, \"max_trip_route_group\": 0.4, \"below_cutoff\": 30, \"pct_below_cutoff\": 1.0, \"name\": \"Commute.org\", \"caltrans_district\": \"04 - Oakland\", \"drmt_organization_name\": null, \"route_name\": \"Redwood City Midpoint\", \"cutoff2\": 20, \"cutoff\": 0}, {\"calitp_itp_id\": 76, \"trip_key\": 457253447294300613, \"trip_id\": \"t_1490390_b_26812_tn_0\", \"shape_id\": \"p_788189\", \"route_id\": \"12154\", \"service_hours\": 0.37, \"trip_first_departure_ts\": 27960, \"trip_last_arrival_ts\": 29280, \"departure_hour\": 7, \"time_of_day\": \"AM Peak\", \"p25\": 0.37, \"p50\": 0.375, \"p75\": 0.38, \"p50_trip\": 1, \"fastest_trip\": 0, \"car_duration_hours\": 0.23, \"competitive_route\": 1, \"bus_multiplier\": 1.61, \"bus_difference\": 8.4, \"num_trips\": 30, \"num_competitive\": 30, \"pct_trips_competitive\": 1.0, \"bus_difference_spread\": 1.799999999999999, \"route_group\": \"short\", \"max_trip_hrs\": 0.4, \"max_trip_route_group\": 0.4, \"below_cutoff\": 30, \"pct_below_cutoff\": 1.0, \"name\": \"Commute.org\", \"caltrans_district\": \"04 - Oakland\", \"drmt_organization_name\": null, \"route_name\": \"Redwood City Midpoint\", \"cutoff2\": 20, \"cutoff\": 0}, {\"calitp_itp_id\": 76, \"trip_key\": -222251055215551227, \"trip_id\": \"t_1217203_b_26812_tn_0\", \"shape_id\": \"p_788189\", \"route_id\": \"12154\", \"service_hours\": 0.37, \"trip_first_departure_ts\": 24360, \"trip_last_arrival_ts\": 25680, \"departure_hour\": 6, \"time_of_day\": \"Owl Service\", \"p25\": 0.37, \"p50\": 0.375, \"p75\": 0.38, \"p50_trip\": 1, \"fastest_trip\": 0, \"car_duration_hours\": 0.23, \"competitive_route\": 1, \"bus_multiplier\": 1.61, \"bus_difference\": 8.4, \"num_trips\": 30, \"num_competitive\": 30, \"pct_trips_competitive\": 1.0, \"bus_difference_spread\": 1.799999999999999, \"route_group\": \"short\", \"max_trip_hrs\": 0.4, \"max_trip_route_group\": 0.4, \"below_cutoff\": 30, \"pct_below_cutoff\": 1.0, \"name\": \"Commute.org\", \"caltrans_district\": \"04 - Oakland\", \"drmt_organization_name\": null, \"route_name\": \"Redwood City Midpoint\", \"cutoff2\": 20, \"cutoff\": 0}, {\"calitp_itp_id\": 76, \"trip_key\": 9040812461413631102, \"trip_id\": \"t_1490391_b_26812_tn_0\", \"shape_id\": \"p_788189\", \"route_id\": \"12154\", \"service_hours\": 0.37, \"trip_first_departure_ts\": 28740, \"trip_last_arrival_ts\": 30060, \"departure_hour\": 7, \"time_of_day\": \"AM Peak\", \"p25\": 0.37, \"p50\": 0.375, \"p75\": 0.38, \"p50_trip\": 1, \"fastest_trip\": 0, \"car_duration_hours\": 0.23, \"competitive_route\": 1, \"bus_multiplier\": 1.61, \"bus_difference\": 8.4, \"num_trips\": 30, \"num_competitive\": 30, \"pct_trips_competitive\": 1.0, \"bus_difference_spread\": 1.799999999999999, \"route_group\": \"short\", \"max_trip_hrs\": 0.4, \"max_trip_route_group\": 0.4, \"below_cutoff\": 30, \"pct_below_cutoff\": 1.0, \"name\": \"Commute.org\", \"caltrans_district\": \"04 - Oakland\", \"drmt_organization_name\": null, \"route_name\": \"Redwood City Midpoint\", \"cutoff2\": 20, \"cutoff\": 0}, {\"calitp_itp_id\": 76, \"trip_key\": 3372714642285167049, \"trip_id\": \"t_1218721_b_26812_tn_0\", \"shape_id\": \"p_788189\", \"route_id\": \"12154\", \"service_hours\": 0.37, \"trip_first_departure_ts\": 26520, \"trip_last_arrival_ts\": 27840, \"departure_hour\": 7, \"time_of_day\": \"AM Peak\", \"p25\": 0.37, \"p50\": 0.375, \"p75\": 0.38, \"p50_trip\": 1, \"fastest_trip\": 0, \"car_duration_hours\": 0.23, \"competitive_route\": 1, \"bus_multiplier\": 1.61, \"bus_difference\": 8.4, \"num_trips\": 30, \"num_competitive\": 30, \"pct_trips_competitive\": 1.0, \"bus_difference_spread\": 1.799999999999999, \"route_group\": \"short\", \"max_trip_hrs\": 0.4, \"max_trip_route_group\": 0.4, \"below_cutoff\": 30, \"pct_below_cutoff\": 1.0, \"name\": \"Commute.org\", \"caltrans_district\": \"04 - Oakland\", \"drmt_organization_name\": null, \"route_name\": \"Redwood City Midpoint\", \"cutoff2\": 20, \"cutoff\": 0}, {\"calitp_itp_id\": 76, \"trip_key\": 3979972868979813931, \"trip_id\": \"t_1490397_b_26812_tn_0\", \"shape_id\": \"p_788189\", \"route_id\": \"12154\", \"service_hours\": 0.37, \"trip_first_departure_ts\": 33120, \"trip_last_arrival_ts\": 34440, \"departure_hour\": 9, \"time_of_day\": \"AM Peak\", \"p25\": 0.37, \"p50\": 0.375, \"p75\": 0.38, \"p50_trip\": 1, \"fastest_trip\": 0, \"car_duration_hours\": 0.23, \"competitive_route\": 1, \"bus_multiplier\": 1.61, \"bus_difference\": 8.4, \"num_trips\": 30, \"num_competitive\": 30, \"pct_trips_competitive\": 1.0, \"bus_difference_spread\": 1.799999999999999, \"route_group\": \"short\", \"max_trip_hrs\": 0.4, \"max_trip_route_group\": 0.4, \"below_cutoff\": 30, \"pct_below_cutoff\": 1.0, \"name\": \"Commute.org\", \"caltrans_district\": \"04 - Oakland\", \"drmt_organization_name\": null, \"route_name\": \"Redwood City Midpoint\", \"cutoff2\": 20, \"cutoff\": 0}, {\"calitp_itp_id\": 76, \"trip_key\": 7500866329819357079, \"trip_id\": \"t_1217122_b_26812_tn_0\", \"shape_id\": \"p_788189\", \"route_id\": \"12154\", \"service_hours\": 0.38, \"trip_first_departure_ts\": 57600, \"trip_last_arrival_ts\": 58980, \"departure_hour\": 16, \"time_of_day\": \"Midday\", \"p25\": 0.37, \"p50\": 0.375, \"p75\": 0.38, \"p50_trip\": 1, \"fastest_trip\": 0, \"car_duration_hours\": 0.23, \"competitive_route\": 1, \"bus_multiplier\": 1.65, \"bus_difference\": 9.0, \"num_trips\": 30, \"num_competitive\": 30, \"pct_trips_competitive\": 1.0, \"bus_difference_spread\": 1.799999999999999, \"route_group\": \"short\", \"max_trip_hrs\": 0.4, \"max_trip_route_group\": 0.4, \"below_cutoff\": 30, \"pct_below_cutoff\": 1.0, \"name\": \"Commute.org\", \"caltrans_district\": \"04 - Oakland\", \"drmt_organization_name\": null, \"route_name\": \"Redwood City Midpoint\", \"cutoff2\": 20, \"cutoff\": 0}, {\"calitp_itp_id\": 76, \"trip_key\": -8827996331669029243, \"trip_id\": \"t_1490404_b_26812_tn_0\", \"shape_id\": \"p_788189\", \"route_id\": \"12154\", \"service_hours\": 0.38, \"trip_first_departure_ts\": 63300, \"trip_last_arrival_ts\": 64680, \"departure_hour\": 17, \"time_of_day\": \"PM Peak\", \"p25\": 0.37, \"p50\": 0.375, \"p75\": 0.38, \"p50_trip\": 1, \"fastest_trip\": 0, \"car_duration_hours\": 0.23, \"competitive_route\": 1, \"bus_multiplier\": 1.65, \"bus_difference\": 9.0, \"num_trips\": 30, \"num_competitive\": 30, \"pct_trips_competitive\": 1.0, \"bus_difference_spread\": 1.799999999999999, \"route_group\": \"short\", \"max_trip_hrs\": 0.4, \"max_trip_route_group\": 0.4, \"below_cutoff\": 30, \"pct_below_cutoff\": 1.0, \"name\": \"Commute.org\", \"caltrans_district\": \"04 - Oakland\", \"drmt_organization_name\": null, \"route_name\": \"Redwood City Midpoint\", \"cutoff2\": 20, \"cutoff\": 0}, {\"calitp_itp_id\": 76, \"trip_key\": 8329705900429361308, \"trip_id\": \"t_1490403_b_26812_tn_0\", \"shape_id\": \"p_788189\", \"route_id\": \"12154\", \"service_hours\": 0.38, \"trip_first_departure_ts\": 62760, \"trip_last_arrival_ts\": 64140, \"departure_hour\": 17, \"time_of_day\": \"PM Peak\", \"p25\": 0.37, \"p50\": 0.375, \"p75\": 0.38, \"p50_trip\": 1, \"fastest_trip\": 0, \"car_duration_hours\": 0.23, \"competitive_route\": 1, \"bus_multiplier\": 1.65, \"bus_difference\": 9.0, \"num_trips\": 30, \"num_competitive\": 30, \"pct_trips_competitive\": 1.0, \"bus_difference_spread\": 1.799999999999999, \"route_group\": \"short\", \"max_trip_hrs\": 0.4, \"max_trip_route_group\": 0.4, \"below_cutoff\": 30, \"pct_below_cutoff\": 1.0, \"name\": \"Commute.org\", \"caltrans_district\": \"04 - Oakland\", \"drmt_organization_name\": null, \"route_name\": \"Redwood City Midpoint\", \"cutoff2\": 20, \"cutoff\": 0}, {\"calitp_itp_id\": 76, \"trip_key\": -6552670415709452550, \"trip_id\": \"t_1217206_b_26812_tn_0\", \"shape_id\": \"p_788189\", \"route_id\": \"12154\", \"service_hours\": 0.38, \"trip_first_departure_ts\": 56160, \"trip_last_arrival_ts\": 57540, \"departure_hour\": 15, \"time_of_day\": \"Midday\", \"p25\": 0.37, \"p50\": 0.375, \"p75\": 0.38, \"p50_trip\": 1, \"fastest_trip\": 0, \"car_duration_hours\": 0.23, \"competitive_route\": 1, \"bus_multiplier\": 1.65, \"bus_difference\": 9.0, \"num_trips\": 30, \"num_competitive\": 30, \"pct_trips_competitive\": 1.0, \"bus_difference_spread\": 1.799999999999999, \"route_group\": \"short\", \"max_trip_hrs\": 0.4, \"max_trip_route_group\": 0.4, \"below_cutoff\": 30, \"pct_below_cutoff\": 1.0, \"name\": \"Commute.org\", \"caltrans_district\": \"04 - Oakland\", \"drmt_organization_name\": null, \"route_name\": \"Redwood City Midpoint\", \"cutoff2\": 20, \"cutoff\": 0}, {\"calitp_itp_id\": 76, \"trip_key\": -569235497105708294, \"trip_id\": \"t_1218726_b_26812_tn_0\", \"shape_id\": \"p_788189\", \"route_id\": \"12154\", \"service_hours\": 0.38, \"trip_first_departure_ts\": 59160, \"trip_last_arrival_ts\": 60540, \"departure_hour\": 16, \"time_of_day\": \"Midday\", \"p25\": 0.37, \"p50\": 0.375, \"p75\": 0.38, \"p50_trip\": 1, \"fastest_trip\": 0, \"car_duration_hours\": 0.23, \"competitive_route\": 1, \"bus_multiplier\": 1.65, \"bus_difference\": 9.0, \"num_trips\": 30, \"num_competitive\": 30, \"pct_trips_competitive\": 1.0, \"bus_difference_spread\": 1.799999999999999, \"route_group\": \"short\", \"max_trip_hrs\": 0.4, \"max_trip_route_group\": 0.4, \"below_cutoff\": 30, \"pct_below_cutoff\": 1.0, \"name\": \"Commute.org\", \"caltrans_district\": \"04 - Oakland\", \"drmt_organization_name\": null, \"route_name\": \"Redwood City Midpoint\", \"cutoff2\": 20, \"cutoff\": 0}, {\"calitp_itp_id\": 76, \"trip_key\": -9081008818698821200, \"trip_id\": \"t_1217207_b_26812_tn_0\", \"shape_id\": \"p_788189\", \"route_id\": \"12154\", \"service_hours\": 0.38, \"trip_first_departure_ts\": 56940, \"trip_last_arrival_ts\": 58320, \"departure_hour\": 15, \"time_of_day\": \"Midday\", \"p25\": 0.37, \"p50\": 0.375, \"p75\": 0.38, \"p50_trip\": 1, \"fastest_trip\": 0, \"car_duration_hours\": 0.23, \"competitive_route\": 1, \"bus_multiplier\": 1.65, \"bus_difference\": 9.0, \"num_trips\": 30, \"num_competitive\": 30, \"pct_trips_competitive\": 1.0, \"bus_difference_spread\": 1.799999999999999, \"route_group\": \"short\", \"max_trip_hrs\": 0.4, \"max_trip_route_group\": 0.4, \"below_cutoff\": 30, \"pct_below_cutoff\": 1.0, \"name\": \"Commute.org\", \"caltrans_district\": \"04 - Oakland\", \"drmt_organization_name\": null, \"route_name\": \"Redwood City Midpoint\", \"cutoff2\": 20, \"cutoff\": 0}, {\"calitp_itp_id\": 76, \"trip_key\": -5349921103047156292, \"trip_id\": \"t_1490405_b_26812_tn_0\", \"shape_id\": \"p_788189\", \"route_id\": \"12154\", \"service_hours\": 0.38, \"trip_first_departure_ts\": 64140, \"trip_last_arrival_ts\": 65520, \"departure_hour\": 17, \"time_of_day\": \"PM Peak\", \"p25\": 0.37, \"p50\": 0.375, \"p75\": 0.38, \"p50_trip\": 1, \"fastest_trip\": 0, \"car_duration_hours\": 0.23, \"competitive_route\": 1, \"bus_multiplier\": 1.65, \"bus_difference\": 9.0, \"num_trips\": 30, \"num_competitive\": 30, \"pct_trips_competitive\": 1.0, \"bus_difference_spread\": 1.799999999999999, \"route_group\": \"short\", \"max_trip_hrs\": 0.4, \"max_trip_route_group\": 0.4, \"below_cutoff\": 30, \"pct_below_cutoff\": 1.0, \"name\": \"Commute.org\", \"caltrans_district\": \"04 - Oakland\", \"drmt_organization_name\": null, \"route_name\": \"Redwood City Midpoint\", \"cutoff2\": 20, \"cutoff\": 0}, {\"calitp_itp_id\": 76, \"trip_key\": 1603548273195350260, \"trip_id\": \"t_1490406_b_26812_tn_0\", \"shape_id\": \"p_788189\", \"route_id\": \"12154\", \"service_hours\": 0.38, \"trip_first_departure_ts\": 64800, \"trip_last_arrival_ts\": 66180, \"departure_hour\": 18, \"time_of_day\": \"PM Peak\", \"p25\": 0.37, \"p50\": 0.375, \"p75\": 0.38, \"p50_trip\": 1, \"fastest_trip\": 0, \"car_duration_hours\": 0.23, \"competitive_route\": 1, \"bus_multiplier\": 1.65, \"bus_difference\": 9.0, \"num_trips\": 30, \"num_competitive\": 30, \"pct_trips_competitive\": 1.0, \"bus_difference_spread\": 1.799999999999999, \"route_group\": \"short\", \"max_trip_hrs\": 0.4, \"max_trip_route_group\": 0.4, \"below_cutoff\": 30, \"pct_below_cutoff\": 1.0, \"name\": \"Commute.org\", \"caltrans_district\": \"04 - Oakland\", \"drmt_organization_name\": null, \"route_name\": \"Redwood City Midpoint\", \"cutoff2\": 20, \"cutoff\": 0}, {\"calitp_itp_id\": 76, \"trip_key\": -1589719186797678027, \"trip_id\": \"t_1490407_b_26812_tn_0\", \"shape_id\": \"p_788189\", \"route_id\": \"12154\", \"service_hours\": 0.38, \"trip_first_departure_ts\": 65520, \"trip_last_arrival_ts\": 66900, \"departure_hour\": 18, \"time_of_day\": \"PM Peak\", \"p25\": 0.37, \"p50\": 0.375, \"p75\": 0.38, \"p50_trip\": 1, \"fastest_trip\": 0, \"car_duration_hours\": 0.23, \"competitive_route\": 1, \"bus_multiplier\": 1.65, \"bus_difference\": 9.0, \"num_trips\": 30, \"num_competitive\": 30, \"pct_trips_competitive\": 1.0, \"bus_difference_spread\": 1.799999999999999, \"route_group\": \"short\", \"max_trip_hrs\": 0.4, \"max_trip_route_group\": 0.4, \"below_cutoff\": 30, \"pct_below_cutoff\": 1.0, \"name\": \"Commute.org\", \"caltrans_district\": \"04 - Oakland\", \"drmt_organization_name\": null, \"route_name\": \"Redwood City Midpoint\", \"cutoff2\": 20, \"cutoff\": 0}, {\"calitp_itp_id\": 76, \"trip_key\": -8575264985102153867, \"trip_id\": \"t_1490400_b_26812_tn_0\", \"shape_id\": \"p_788189\", \"route_id\": \"12154\", \"service_hours\": 0.38, \"trip_first_departure_ts\": 60540, \"trip_last_arrival_ts\": 61920, \"departure_hour\": 16, \"time_of_day\": \"Midday\", \"p25\": 0.37, \"p50\": 0.375, \"p75\": 0.38, \"p50_trip\": 1, \"fastest_trip\": 0, \"car_duration_hours\": 0.23, \"competitive_route\": 1, \"bus_multiplier\": 1.65, \"bus_difference\": 9.0, \"num_trips\": 30, \"num_competitive\": 30, \"pct_trips_competitive\": 1.0, \"bus_difference_spread\": 1.799999999999999, \"route_group\": \"short\", \"max_trip_hrs\": 0.4, \"max_trip_route_group\": 0.4, \"below_cutoff\": 30, \"pct_below_cutoff\": 1.0, \"name\": \"Commute.org\", \"caltrans_district\": \"04 - Oakland\", \"drmt_organization_name\": null, \"route_name\": \"Redwood City Midpoint\", \"cutoff2\": 20, \"cutoff\": 0}, {\"calitp_itp_id\": 76, \"trip_key\": 8045853403562253675, \"trip_id\": \"t_1217248_b_26812_tn_0\", \"shape_id\": \"p_788189\", \"route_id\": \"12154\", \"service_hours\": 0.38, \"trip_first_departure_ts\": 55500, \"trip_last_arrival_ts\": 56880, \"departure_hour\": 15, \"time_of_day\": \"Midday\", \"p25\": 0.37, \"p50\": 0.375, \"p75\": 0.38, \"p50_trip\": 1, \"fastest_trip\": 0, \"car_duration_hours\": 0.23, \"competitive_route\": 1, \"bus_multiplier\": 1.65, \"bus_difference\": 9.0, \"num_trips\": 30, \"num_competitive\": 30, \"pct_trips_competitive\": 1.0, \"bus_difference_spread\": 1.799999999999999, \"route_group\": \"short\", \"max_trip_hrs\": 0.4, \"max_trip_route_group\": 0.4, \"below_cutoff\": 30, \"pct_below_cutoff\": 1.0, \"name\": \"Commute.org\", \"caltrans_district\": \"04 - Oakland\", \"drmt_organization_name\": null, \"route_name\": \"Redwood City Midpoint\", \"cutoff2\": 20, \"cutoff\": 0}, {\"calitp_itp_id\": 76, \"trip_key\": 5820358487635437821, \"trip_id\": \"t_1218725_b_26812_tn_0\", \"shape_id\": \"p_788189\", \"route_id\": \"12154\", \"service_hours\": 0.38, \"trip_first_departure_ts\": 58320, \"trip_last_arrival_ts\": 59700, \"departure_hour\": 16, \"time_of_day\": \"Midday\", \"p25\": 0.37, \"p50\": 0.375, \"p75\": 0.38, \"p50_trip\": 1, \"fastest_trip\": 0, \"car_duration_hours\": 0.23, \"competitive_route\": 1, \"bus_multiplier\": 1.65, \"bus_difference\": 9.0, \"num_trips\": 30, \"num_competitive\": 30, \"pct_trips_competitive\": 1.0, \"bus_difference_spread\": 1.799999999999999, \"route_group\": \"short\", \"max_trip_hrs\": 0.4, \"max_trip_route_group\": 0.4, \"below_cutoff\": 30, \"pct_below_cutoff\": 1.0, \"name\": \"Commute.org\", \"caltrans_district\": \"04 - Oakland\", \"drmt_organization_name\": null, \"route_name\": \"Redwood City Midpoint\", \"cutoff2\": 20, \"cutoff\": 0}, {\"calitp_itp_id\": 76, \"trip_key\": -2332697120790423620, \"trip_id\": \"t_1490399_b_26812_tn_0\", \"shape_id\": \"p_788189\", \"route_id\": \"12154\", \"service_hours\": 0.38, \"trip_first_departure_ts\": 59760, \"trip_last_arrival_ts\": 61140, \"departure_hour\": 16, \"time_of_day\": \"Midday\", \"p25\": 0.37, \"p50\": 0.375, \"p75\": 0.38, \"p50_trip\": 1, \"fastest_trip\": 0, \"car_duration_hours\": 0.23, \"competitive_route\": 1, \"bus_multiplier\": 1.65, \"bus_difference\": 9.0, \"num_trips\": 30, \"num_competitive\": 30, \"pct_trips_competitive\": 1.0, \"bus_difference_spread\": 1.799999999999999, \"route_group\": \"short\", \"max_trip_hrs\": 0.4, \"max_trip_route_group\": 0.4, \"below_cutoff\": 30, \"pct_below_cutoff\": 1.0, \"name\": \"Commute.org\", \"caltrans_district\": \"04 - Oakland\", \"drmt_organization_name\": null, \"route_name\": \"Redwood City Midpoint\", \"cutoff2\": 20, \"cutoff\": 0}, {\"calitp_itp_id\": 76, \"trip_key\": 9051299505432944462, \"trip_id\": \"t_1490402_b_26812_tn_0\", \"shape_id\": \"p_788189\", \"route_id\": \"12154\", \"service_hours\": 0.38, \"trip_first_departure_ts\": 61920, \"trip_last_arrival_ts\": 63300, \"departure_hour\": 17, \"time_of_day\": \"PM Peak\", \"p25\": 0.37, \"p50\": 0.375, \"p75\": 0.38, \"p50_trip\": 1, \"fastest_trip\": 0, \"car_duration_hours\": 0.23, \"competitive_route\": 1, \"bus_multiplier\": 1.65, \"bus_difference\": 9.0, \"num_trips\": 30, \"num_competitive\": 30, \"pct_trips_competitive\": 1.0, \"bus_difference_spread\": 1.799999999999999, \"route_group\": \"short\", \"max_trip_hrs\": 0.4, \"max_trip_route_group\": 0.4, \"below_cutoff\": 30, \"pct_below_cutoff\": 1.0, \"name\": \"Commute.org\", \"caltrans_district\": \"04 - Oakland\", \"drmt_organization_name\": null, \"route_name\": \"Redwood City Midpoint\", \"cutoff2\": 20, \"cutoff\": 0}, {\"calitp_itp_id\": 76, \"trip_key\": 2378368036577341957, \"trip_id\": \"t_1490401_b_26812_tn_0\", \"shape_id\": \"p_788189\", \"route_id\": \"12154\", \"service_hours\": 0.4, \"trip_first_departure_ts\": 61140, \"trip_last_arrival_ts\": 62580, \"departure_hour\": 16, \"time_of_day\": \"Midday\", \"p25\": 0.37, \"p50\": 0.375, \"p75\": 0.38, \"p50_trip\": 0, \"fastest_trip\": 0, \"car_duration_hours\": 0.23, \"competitive_route\": 1, \"bus_multiplier\": 1.74, \"bus_difference\": 10.2, \"num_trips\": 30, \"num_competitive\": 30, \"pct_trips_competitive\": 1.0, \"bus_difference_spread\": 1.799999999999999, \"route_group\": \"short\", \"max_trip_hrs\": 0.4, \"max_trip_route_group\": 0.4, \"below_cutoff\": 30, \"pct_below_cutoff\": 1.0, \"name\": \"Commute.org\", \"caltrans_district\": \"04 - Oakland\", \"drmt_organization_name\": null, \"route_name\": \"Redwood City Midpoint\", \"cutoff2\": 20, \"cutoff\": 0}, {\"calitp_itp_id\": 76, \"trip_key\": -3518993468761310057, \"trip_id\": \"t_1217193_b_26812_tn_0\", \"shape_id\": \"p_745243\", \"route_id\": \"12157\", \"service_hours\": 0.3, \"trip_first_departure_ts\": 33900, \"trip_last_arrival_ts\": 34980, \"departure_hour\": 9, \"time_of_day\": \"AM Peak\", \"p25\": 0.4, \"p50\": 0.4, \"p75\": 0.47, \"p50_trip\": 0, \"fastest_trip\": 1, \"car_duration_hours\": 0.28, \"competitive_route\": 1, \"bus_multiplier\": 1.07, \"bus_difference\": 1.2, \"num_trips\": 14, \"num_competitive\": 14, \"pct_trips_competitive\": 1.0, \"bus_difference_spread\": 15.0, \"route_group\": \"short\", \"max_trip_hrs\": 0.55, \"max_trip_route_group\": 0.55, \"below_cutoff\": 14, \"pct_below_cutoff\": 1.0, \"name\": \"Commute.org\", \"caltrans_district\": \"04 - Oakland\", \"drmt_organization_name\": null, \"route_name\": \"Utah-Grand Caltrain\", \"cutoff2\": 20, \"cutoff\": 0}, {\"calitp_itp_id\": 76, \"trip_key\": -670183993196852318, \"trip_id\": \"t_1217195_b_26812_tn_0\", \"shape_id\": \"p_745242\", \"route_id\": \"12157\", \"service_hours\": 0.33, \"trip_first_departure_ts\": 53280, \"trip_last_arrival_ts\": 54480, \"departure_hour\": 14, \"time_of_day\": \"Midday\", \"p25\": 0.4, \"p50\": 0.4, \"p75\": 0.47, \"p50_trip\": 0, \"fastest_trip\": 0, \"car_duration_hours\": 0.28, \"competitive_route\": 1, \"bus_multiplier\": 1.18, \"bus_difference\": 3.0, \"num_trips\": 14, \"num_competitive\": 14, \"pct_trips_competitive\": 1.0, \"bus_difference_spread\": 15.0, \"route_group\": \"short\", \"max_trip_hrs\": 0.55, \"max_trip_route_group\": 0.55, \"below_cutoff\": 14, \"pct_below_cutoff\": 1.0, \"name\": \"Commute.org\", \"caltrans_district\": \"04 - Oakland\", \"drmt_organization_name\": null, \"route_name\": \"Utah-Grand Caltrain\", \"cutoff2\": 20, \"cutoff\": 0}, {\"calitp_itp_id\": 76, \"trip_key\": 8417932145375947383, \"trip_id\": \"t_1217240_b_26812_tn_0\", \"shape_id\": \"p_745241\", \"route_id\": \"12157\", \"service_hours\": 0.37, \"trip_first_departure_ts\": 23940, \"trip_last_arrival_ts\": 25260, \"departure_hour\": 6, \"time_of_day\": \"Owl Service\", \"p25\": 0.4, \"p50\": 0.4, \"p75\": 0.47, \"p50_trip\": 0, \"fastest_trip\": 0, \"car_duration_hours\": 0.28, \"competitive_route\": 1, \"bus_multiplier\": 1.32, \"bus_difference\": 5.4, \"num_trips\": 14, \"num_competitive\": 14, \"pct_trips_competitive\": 1.0, \"bus_difference_spread\": 15.0, \"route_group\": \"short\", \"max_trip_hrs\": 0.55, \"max_trip_route_group\": 0.55, \"below_cutoff\": 14, \"pct_below_cutoff\": 1.0, \"name\": \"Commute.org\", \"caltrans_district\": \"04 - Oakland\", \"drmt_organization_name\": null, \"route_name\": \"Utah-Grand Caltrain\", \"cutoff2\": 20, \"cutoff\": 0}, {\"calitp_itp_id\": 76, \"trip_key\": 6444964701813489347, \"trip_id\": \"t_1523222_b_26812_tn_0\", \"shape_id\": \"p_745240\", \"route_id\": \"12157\", \"service_hours\": 0.4, \"trip_first_departure_ts\": 32460, \"trip_last_arrival_ts\": 33900, \"departure_hour\": 9, \"time_of_day\": \"AM Peak\", \"p25\": 0.4, \"p50\": 0.4, \"p75\": 0.47, \"p50_trip\": 1, \"fastest_trip\": 0, \"car_duration_hours\": 0.28, \"competitive_route\": 1, \"bus_multiplier\": 1.43, \"bus_difference\": 7.2, \"num_trips\": 14, \"num_competitive\": 14, \"pct_trips_competitive\": 1.0, \"bus_difference_spread\": 15.0, \"route_group\": \"short\", \"max_trip_hrs\": 0.55, \"max_trip_route_group\": 0.55, \"below_cutoff\": 14, \"pct_below_cutoff\": 1.0, \"name\": \"Commute.org\", \"caltrans_district\": \"04 - Oakland\", \"drmt_organization_name\": null, \"route_name\": \"Utah-Grand Caltrain\", \"cutoff2\": 20, \"cutoff\": 0}, {\"calitp_itp_id\": 76, \"trip_key\": -1100017607885103413, \"trip_id\": \"t_1217242_b_26812_tn_0\", \"shape_id\": \"p_745240\", \"route_id\": \"12157\", \"service_hours\": 0.4, \"trip_first_departure_ts\": 25260, \"trip_last_arrival_ts\": 26700, \"departure_hour\": 7, \"time_of_day\": \"AM Peak\", \"p25\": 0.4, \"p50\": 0.4, \"p75\": 0.47, \"p50_trip\": 1, \"fastest_trip\": 0, \"car_duration_hours\": 0.28, \"competitive_route\": 1, \"bus_multiplier\": 1.43, \"bus_difference\": 7.2, \"num_trips\": 14, \"num_competitive\": 14, \"pct_trips_competitive\": 1.0, \"bus_difference_spread\": 15.0, \"route_group\": \"short\", \"max_trip_hrs\": 0.55, \"max_trip_route_group\": 0.55, \"below_cutoff\": 14, \"pct_below_cutoff\": 1.0, \"name\": \"Commute.org\", \"caltrans_district\": \"04 - Oakland\", \"drmt_organization_name\": null, \"route_name\": \"Utah-Grand Caltrain\", \"cutoff2\": 20, \"cutoff\": 0}, {\"calitp_itp_id\": 76, \"trip_key\": 7527403700965257381, \"trip_id\": \"t_1217244_b_26812_tn_0\", \"shape_id\": \"p_745240\", \"route_id\": \"12157\", \"service_hours\": 0.4, \"trip_first_departure_ts\": 26700, \"trip_last_arrival_ts\": 28140, \"departure_hour\": 7, \"time_of_day\": \"AM Peak\", \"p25\": 0.4, \"p50\": 0.4, \"p75\": 0.47, \"p50_trip\": 1, \"fastest_trip\": 0, \"car_duration_hours\": 0.28, \"competitive_route\": 1, \"bus_multiplier\": 1.43, \"bus_difference\": 7.2, \"num_trips\": 14, \"num_competitive\": 14, \"pct_trips_competitive\": 1.0, \"bus_difference_spread\": 15.0, \"route_group\": \"short\", \"max_trip_hrs\": 0.55, \"max_trip_route_group\": 0.55, \"below_cutoff\": 14, \"pct_below_cutoff\": 1.0, \"name\": \"Commute.org\", \"caltrans_district\": \"04 - Oakland\", \"drmt_organization_name\": null, \"route_name\": \"Utah-Grand Caltrain\", \"cutoff2\": 20, \"cutoff\": 0}, {\"calitp_itp_id\": 76, \"trip_key\": -7572033908622930952, \"trip_id\": \"t_1523221_b_26812_tn_0\", \"shape_id\": \"p_745240\", \"route_id\": \"12157\", \"service_hours\": 0.4, \"trip_first_departure_ts\": 30300, \"trip_last_arrival_ts\": 31740, \"departure_hour\": 8, \"time_of_day\": \"AM Peak\", \"p25\": 0.4, \"p50\": 0.4, \"p75\": 0.47, \"p50_trip\": 1, \"fastest_trip\": 0, \"car_duration_hours\": 0.28, \"competitive_route\": 1, \"bus_multiplier\": 1.43, \"bus_difference\": 7.2, \"num_trips\": 14, \"num_competitive\": 14, \"pct_trips_competitive\": 1.0, \"bus_difference_spread\": 15.0, \"route_group\": \"short\", \"max_trip_hrs\": 0.55, \"max_trip_route_group\": 0.55, \"below_cutoff\": 14, \"pct_below_cutoff\": 1.0, \"name\": \"Commute.org\", \"caltrans_district\": \"04 - Oakland\", \"drmt_organization_name\": null, \"route_name\": \"Utah-Grand Caltrain\", \"cutoff2\": 20, \"cutoff\": 0}, {\"calitp_itp_id\": 76, \"trip_key\": -7185470195732164113, \"trip_id\": \"t_1523220_b_26812_tn_0\", \"shape_id\": \"p_745240\", \"route_id\": \"12157\", \"service_hours\": 0.4, \"trip_first_departure_ts\": 28860, \"trip_last_arrival_ts\": 30300, \"departure_hour\": 8, \"time_of_day\": \"AM Peak\", \"p25\": 0.4, \"p50\": 0.4, \"p75\": 0.47, \"p50_trip\": 1, \"fastest_trip\": 0, \"car_duration_hours\": 0.28, \"competitive_route\": 1, \"bus_multiplier\": 1.43, \"bus_difference\": 7.2, \"num_trips\": 14, \"num_competitive\": 14, \"pct_trips_competitive\": 1.0, \"bus_difference_spread\": 15.0, \"route_group\": \"short\", \"max_trip_hrs\": 0.55, \"max_trip_route_group\": 0.55, \"below_cutoff\": 14, \"pct_below_cutoff\": 1.0, \"name\": \"Commute.org\", \"caltrans_district\": \"04 - Oakland\", \"drmt_organization_name\": null, \"route_name\": \"Utah-Grand Caltrain\", \"cutoff2\": 20, \"cutoff\": 0}, {\"calitp_itp_id\": 76, \"trip_key\": 4210032901875776792, \"trip_id\": \"t_1523223_b_26812_tn_2\", \"shape_id\": \"p_900671\", \"route_id\": \"12157\", \"service_hours\": 0.47, \"trip_first_departure_ts\": 60120, \"trip_last_arrival_ts\": 61800, \"departure_hour\": 16, \"time_of_day\": \"Midday\", \"p25\": 0.4, \"p50\": 0.4, \"p75\": 0.47, \"p50_trip\": 0, \"fastest_trip\": 0, \"car_duration_hours\": 0.28, \"competitive_route\": 1, \"bus_multiplier\": 1.68, \"bus_difference\": 11.4, \"num_trips\": 14, \"num_competitive\": 14, \"pct_trips_competitive\": 1.0, \"bus_difference_spread\": 15.0, \"route_group\": \"short\", \"max_trip_hrs\": 0.55, \"max_trip_route_group\": 0.55, \"below_cutoff\": 14, \"pct_below_cutoff\": 1.0, \"name\": \"Commute.org\", \"caltrans_district\": \"04 - Oakland\", \"drmt_organization_name\": null, \"route_name\": \"Utah-Grand Caltrain\", \"cutoff2\": 20, \"cutoff\": 0}, {\"calitp_itp_id\": 76, \"trip_key\": 5252656298668283543, \"trip_id\": \"t_1523238_b_26812_tn_0\", \"shape_id\": \"p_900671\", \"route_id\": \"12157\", \"service_hours\": 0.47, \"trip_first_departure_ts\": 63720, \"trip_last_arrival_ts\": 65400, \"departure_hour\": 17, \"time_of_day\": \"PM Peak\", \"p25\": 0.4, \"p50\": 0.4, \"p75\": 0.47, \"p50_trip\": 0, \"fastest_trip\": 0, \"car_duration_hours\": 0.28, \"competitive_route\": 1, \"bus_multiplier\": 1.68, \"bus_difference\": 11.4, \"num_trips\": 14, \"num_competitive\": 14, \"pct_trips_competitive\": 1.0, \"bus_difference_spread\": 15.0, \"route_group\": \"short\", \"max_trip_hrs\": 0.55, \"max_trip_route_group\": 0.55, \"below_cutoff\": 14, \"pct_below_cutoff\": 1.0, \"name\": \"Commute.org\", \"caltrans_district\": \"04 - Oakland\", \"drmt_organization_name\": null, \"route_name\": \"Utah-Grand Caltrain\", \"cutoff2\": 20, \"cutoff\": 0}, {\"calitp_itp_id\": 76, \"trip_key\": -7292751354754917016, \"trip_id\": \"t_1523223_b_26812_tn_1\", \"shape_id\": \"p_900671\", \"route_id\": \"12157\", \"service_hours\": 0.47, \"trip_first_departure_ts\": 56460, \"trip_last_arrival_ts\": 58140, \"departure_hour\": 15, \"time_of_day\": \"Midday\", \"p25\": 0.4, \"p50\": 0.4, \"p75\": 0.47, \"p50_trip\": 0, \"fastest_trip\": 0, \"car_duration_hours\": 0.28, \"competitive_route\": 1, \"bus_multiplier\": 1.68, \"bus_difference\": 11.4, \"num_trips\": 14, \"num_competitive\": 14, \"pct_trips_competitive\": 1.0, \"bus_difference_spread\": 15.0, \"route_group\": \"short\", \"max_trip_hrs\": 0.55, \"max_trip_route_group\": 0.55, \"below_cutoff\": 14, \"pct_below_cutoff\": 1.0, \"name\": \"Commute.org\", \"caltrans_district\": \"04 - Oakland\", \"drmt_organization_name\": null, \"route_name\": \"Utah-Grand Caltrain\", \"cutoff2\": 20, \"cutoff\": 0}, {\"calitp_itp_id\": 76, \"trip_key\": -154440227743447731, \"trip_id\": \"t_1523237_b_26812_tn_0\", \"shape_id\": \"p_900671\", \"route_id\": \"12157\", \"service_hours\": 0.53, \"trip_first_departure_ts\": 61800, \"trip_last_arrival_ts\": 63720, \"departure_hour\": 17, \"time_of_day\": \"PM Peak\", \"p25\": 0.4, \"p50\": 0.4, \"p75\": 0.47, \"p50_trip\": 0, \"fastest_trip\": 0, \"car_duration_hours\": 0.28, \"competitive_route\": 1, \"bus_multiplier\": 1.89, \"bus_difference\": 15.0, \"num_trips\": 14, \"num_competitive\": 14, \"pct_trips_competitive\": 1.0, \"bus_difference_spread\": 15.0, \"route_group\": \"short\", \"max_trip_hrs\": 0.55, \"max_trip_route_group\": 0.55, \"below_cutoff\": 14, \"pct_below_cutoff\": 1.0, \"name\": \"Commute.org\", \"caltrans_district\": \"04 - Oakland\", \"drmt_organization_name\": null, \"route_name\": \"Utah-Grand Caltrain\", \"cutoff2\": 20, \"cutoff\": 0}, {\"calitp_itp_id\": 76, \"trip_key\": -3377129435102605597, \"trip_id\": \"t_1217197_b_26812_tn_2\", \"shape_id\": \"p_900671\", \"route_id\": \"12157\", \"service_hours\": 0.55, \"trip_first_departure_ts\": 58140, \"trip_last_arrival_ts\": 60120, \"departure_hour\": 16, \"time_of_day\": \"Midday\", \"p25\": 0.4, \"p50\": 0.4, \"p75\": 0.47, \"p50_trip\": 0, \"fastest_trip\": 0, \"car_duration_hours\": 0.28, \"competitive_route\": 1, \"bus_multiplier\": 1.96, \"bus_difference\": 16.2, \"num_trips\": 14, \"num_competitive\": 14, \"pct_trips_competitive\": 1.0, \"bus_difference_spread\": 15.0, \"route_group\": \"short\", \"max_trip_hrs\": 0.55, \"max_trip_route_group\": 0.55, \"below_cutoff\": 14, \"pct_below_cutoff\": 1.0, \"name\": \"Commute.org\", \"caltrans_district\": \"04 - Oakland\", \"drmt_organization_name\": null, \"route_name\": \"Utah-Grand Caltrain\", \"cutoff2\": 20, \"cutoff\": 0}, {\"calitp_itp_id\": 76, \"trip_key\": 2342366353058432608, \"trip_id\": \"t_1217197_b_26812_tn_1\", \"shape_id\": \"p_900671\", \"route_id\": \"12157\", \"service_hours\": 0.55, \"trip_first_departure_ts\": 54480, \"trip_last_arrival_ts\": 56460, \"departure_hour\": 15, \"time_of_day\": \"Midday\", \"p25\": 0.4, \"p50\": 0.4, \"p75\": 0.47, \"p50_trip\": 0, \"fastest_trip\": 0, \"car_duration_hours\": 0.28, \"competitive_route\": 1, \"bus_multiplier\": 1.96, \"bus_difference\": 16.2, \"num_trips\": 14, \"num_competitive\": 14, \"pct_trips_competitive\": 1.0, \"bus_difference_spread\": 15.0, \"route_group\": \"short\", \"max_trip_hrs\": 0.55, \"max_trip_route_group\": 0.55, \"below_cutoff\": 14, \"pct_below_cutoff\": 1.0, \"name\": \"Commute.org\", \"caltrans_district\": \"04 - Oakland\", \"drmt_organization_name\": null, \"route_name\": \"Utah-Grand Caltrain\", \"cutoff2\": 20, \"cutoff\": 0}]}}, {\"mode\": \"vega-lite\"});\n",
       "</script>"
      ],
      "text/plain": [
       "alt.FacetChart(...)"
      ]
     },
     "metadata": {},
     "output_type": "display_data"
    },
    {
     "data": {
      "text/html": [
       "<h4>Route Stats</h4>"
      ],
      "text/plain": [
       "<IPython.core.display.HTML object>"
      ]
     },
     "metadata": {},
     "output_type": "display_data"
    },
    {
     "data": {
      "text/html": [
       "<style type=\"text/css\">\n",
       "</style>\n",
       "<table id=\"T_ed897\">\n",
       "  <thead>\n",
       "    <tr>\n",
       "      <th id=\"T_ed897_level0_col0\" class=\"col_heading level0 col0\" >Route ID</th>\n",
       "      <th id=\"T_ed897_level0_col1\" class=\"col_heading level0 col1\" >Route Name</th>\n",
       "      <th id=\"T_ed897_level0_col2\" class=\"col_heading level0 col2\" ># trips</th>\n",
       "      <th id=\"T_ed897_level0_col3\" class=\"col_heading level0 col3\" >Daily Avg Frequency (trips per hr)</th>\n",
       "      <th id=\"T_ed897_level0_col4\" class=\"col_heading level0 col4\" >25th, 50th, 75th ptile (hrs)</th>\n",
       "      <th id=\"T_ed897_level0_col5\" class=\"col_heading level0 col5\" >PM Peak Avg Frequency (trips per hr)</th>\n",
       "    </tr>\n",
       "  </thead>\n",
       "  <tbody>\n",
       "    <tr>\n",
       "      <td id=\"T_ed897_row0_col0\" class=\"data row0 col0\" >12154</td>\n",
       "      <td id=\"T_ed897_row0_col1\" class=\"data row0 col1\" >Redwood City Midpoint</td>\n",
       "      <td id=\"T_ed897_row0_col2\" class=\"data row0 col2\" >30</td>\n",
       "      <td id=\"T_ed897_row0_col3\" class=\"data row0 col3\" >1.25</td>\n",
       "      <td id=\"T_ed897_row0_col4\" class=\"data row0 col4\" >0.37, 0.38, 0.38</td>\n",
       "      <td id=\"T_ed897_row0_col5\" class=\"data row0 col5\" >2.0</td>\n",
       "    </tr>\n",
       "    <tr>\n",
       "      <td id=\"T_ed897_row1_col0\" class=\"data row1 col0\" >12157</td>\n",
       "      <td id=\"T_ed897_row1_col1\" class=\"data row1 col1\" >Utah-Grand Caltrain</td>\n",
       "      <td id=\"T_ed897_row1_col2\" class=\"data row1 col2\" >14</td>\n",
       "      <td id=\"T_ed897_row1_col3\" class=\"data row1 col3\" >0.58</td>\n",
       "      <td id=\"T_ed897_row1_col4\" class=\"data row1 col4\" >0.4, 0.4, 0.47</td>\n",
       "      <td id=\"T_ed897_row1_col5\" class=\"data row1 col5\" >0.67</td>\n",
       "    </tr>\n",
       "    <tr>\n",
       "      <td id=\"T_ed897_row2_col0\" class=\"data row2 col0\" >12150</td>\n",
       "      <td id=\"T_ed897_row2_col1\" class=\"data row2 col1\" >Burlingame Bayside</td>\n",
       "      <td id=\"T_ed897_row2_col2\" class=\"data row2 col2\" >10</td>\n",
       "      <td id=\"T_ed897_row2_col3\" class=\"data row2 col3\" >0.42</td>\n",
       "      <td id=\"T_ed897_row2_col4\" class=\"data row2 col4\" >0.5, 0.5, 0.5</td>\n",
       "      <td id=\"T_ed897_row2_col5\" class=\"data row2 col5\" >0.67</td>\n",
       "    </tr>\n",
       "  </tbody>\n",
       "</table>\n"
      ],
      "text/plain": [
       "<IPython.core.display.HTML object>"
      ]
     },
     "metadata": {},
     "output_type": "display_data"
    }
   ],
   "source": [
    "# Allow for possibility that operator doesn't have routes that fall into certain route_groups\n",
    "# But, jupyterbook will not like markdown with f-string\n",
    "# separate out route_group and put in each cell, and use try/except + if to display...\n",
    "# but all 3 route groups must be displayed. just add sentence about why no routes were returned at the end\n",
    "route_group = \"short\"\n",
    "try:\n",
    "    display_charts_for_route_group(df, route_group)\n",
    "except:\n",
    "    print(\"No routes meet this criteria.\")"
   ]
  },
  {
   "cell_type": "markdown",
   "id": "c2931b6f-034d-4384-9e14-80b925e3b820",
   "metadata": {
    "papermill": {
     "duration": 0.019447,
     "end_time": "2022-05-11T21:55:37.857970",
     "exception": false,
     "start_time": "2022-05-11T21:55:37.838523",
     "status": "completed"
    },
    "tags": []
   },
   "source": [
    "### Medium Routes (1-1.5 hrs)"
   ]
  },
  {
   "cell_type": "code",
   "execution_count": 15,
   "id": "480edddc-4de0-48c2-ae4c-b0ceef8f28b5",
   "metadata": {
    "execution": {
     "iopub.execute_input": "2022-05-11T21:55:37.903843Z",
     "iopub.status.busy": "2022-05-11T21:55:37.903554Z",
     "iopub.status.idle": "2022-05-11T21:55:37.916015Z",
     "shell.execute_reply": "2022-05-11T21:55:37.915115Z"
    },
    "jupyter": {
     "source_hidden": true
    },
    "papermill": {
     "duration": 0.039573,
     "end_time": "2022-05-11T21:55:37.918208",
     "exception": false,
     "start_time": "2022-05-11T21:55:37.878635",
     "status": "completed"
    },
    "tags": [
     "remove_input"
    ]
   },
   "outputs": [
    {
     "name": "stdout",
     "output_type": "stream",
     "text": [
      "No routes meet this criteria.\n"
     ]
    }
   ],
   "source": [
    "route_group = \"medium\"\n",
    "try:\n",
    "    display_charts_for_route_group(df, route_group)\n",
    "except:\n",
    "    print(\"No routes meet this criteria.\")"
   ]
  },
  {
   "cell_type": "markdown",
   "id": "124b76d0-886c-4d03-92ac-f1bda3cda182",
   "metadata": {
    "papermill": {
     "duration": 0.020609,
     "end_time": "2022-05-11T21:55:37.960442",
     "exception": false,
     "start_time": "2022-05-11T21:55:37.939833",
     "status": "completed"
    },
    "tags": []
   },
   "source": [
    "### Long Routes (> 1.5 hrs)"
   ]
  },
  {
   "cell_type": "code",
   "execution_count": 16,
   "id": "ddc81b19-4c45-4c81-8b7a-5e0f394aa7a3",
   "metadata": {
    "execution": {
     "iopub.execute_input": "2022-05-11T21:55:38.001829Z",
     "iopub.status.busy": "2022-05-11T21:55:38.001205Z",
     "iopub.status.idle": "2022-05-11T21:55:38.016889Z",
     "shell.execute_reply": "2022-05-11T21:55:38.016382Z"
    },
    "jupyter": {
     "source_hidden": true
    },
    "papermill": {
     "duration": 0.040062,
     "end_time": "2022-05-11T21:55:38.018800",
     "exception": false,
     "start_time": "2022-05-11T21:55:37.978738",
     "status": "completed"
    },
    "tags": [
     "remove_input"
    ]
   },
   "outputs": [
    {
     "name": "stdout",
     "output_type": "stream",
     "text": [
      "No routes meet this criteria.\n"
     ]
    }
   ],
   "source": [
    "route_group = \"long\"\n",
    "try:\n",
    "    display_charts_for_route_group(df, route_group)\n",
    "except:\n",
    "    print(\"No routes meet this criteria.\")"
   ]
  },
  {
   "cell_type": "markdown",
   "id": "ace75b5f-0442-4fbe-aebd-6c3a13ae13a7",
   "metadata": {
    "papermill": {
     "duration": 0.019678,
     "end_time": "2022-05-11T21:55:38.057870",
     "exception": false,
     "start_time": "2022-05-11T21:55:38.038192",
     "status": "completed"
    },
    "tags": []
   },
   "source": [
    "### GTFS Real-Time Speedmaps"
   ]
  },
  {
   "cell_type": "code",
   "execution_count": 17,
   "id": "a0a114a1-e975-4027-9daf-50029f5ef59f",
   "metadata": {
    "execution": {
     "iopub.execute_input": "2022-05-11T21:55:38.106929Z",
     "iopub.status.busy": "2022-05-11T21:55:38.106451Z",
     "iopub.status.idle": "2022-05-11T21:55:38.126993Z",
     "shell.execute_reply": "2022-05-11T21:55:38.126403Z"
    },
    "jupyter": {
     "source_hidden": true
    },
    "papermill": {
     "duration": 0.051773,
     "end_time": "2022-05-11T21:55:38.128764",
     "exception": false,
     "start_time": "2022-05-11T21:55:38.076991",
     "status": "completed"
    },
    "tags": [
     "remove_input"
    ]
   },
   "outputs": [
    {
     "data": {
      "text/html": [
       "No GTFS RT data available."
      ],
      "text/plain": [
       "<IPython.core.display.HTML object>"
      ]
     },
     "metadata": {},
     "output_type": "display_data"
    }
   ],
   "source": [
    "RT_SITE_YAML = \"../portfolio/sites/rt.yml\"\n",
    "\n",
    "# Grab list of ITP IDs with GTFS RT speedmaps\n",
    "rt_itp_id = deploy_portfolio_yaml.check_if_rt_data_available(RT_SITE_YAML)\n",
    "\n",
    "# Construct the URL \n",
    "RT_URL = (\"https://analysis.calitp.org/rt/\"\n",
    "          f\"district_{district_number}-{district_name}/\"\n",
    "          f\"speedmaps__itp_id_{itp_id}.html\"\n",
    "         ) \n",
    "\n",
    "# If this ITP ID is found in RT analysis, give URL to that operator in analysis.calitp.org\n",
    "if itp_id in rt_itp_id:\n",
    "    display(HTML(f'''<a href={RT_URL}>GTFS RT speedmaps here.</a>'''))\n",
    "\n",
    "else:\n",
    "    display(HTML(\"No GTFS RT data available.\"))"
   ]
  },
  {
   "cell_type": "code",
   "execution_count": null,
   "id": "5b680565-2230-4f2e-817c-718fad48d64c",
   "metadata": {
    "jupyter": {
     "source_hidden": true
    },
    "papermill": {
     "duration": 0.01909,
     "end_time": "2022-05-11T21:55:38.167012",
     "exception": false,
     "start_time": "2022-05-11T21:55:38.147922",
     "status": "completed"
    },
    "tags": [
     "remove_input"
    ]
   },
   "outputs": [],
   "source": []
  }
 ],
 "metadata": {
  "kernelspec": {
   "display_name": "Python 3 (ipykernel)",
   "language": "python",
   "name": "python3"
  },
  "language_info": {
   "codemirror_mode": {
    "name": "ipython",
    "version": 3
   },
   "file_extension": ".py",
   "mimetype": "text/x-python",
   "name": "python",
   "nbconvert_exporter": "python",
   "pygments_lexer": "ipython3",
   "version": "3.9.12"
  },
  "papermill": {
   "default_parameters": {},
   "duration": 23.455942,
   "end_time": "2022-05-11T21:55:39.311262",
   "environment_variables": {},
   "exception": null,
   "input_path": "bus_service_increase/competitive-parallel-routes.ipynb",
   "output_path": "portfolio/parallel_corridors/district_04-oakland/2__competitive-parallel-routes__district_04-oakland__itp_id_76.ipynb",
   "parameters": {
    "district": "04 - Oakland",
    "itp_id": 76
   },
   "start_time": "2022-05-11T21:55:15.855320",
   "version": "2.3.4"
  }
 },
 "nbformat": 4,
 "nbformat_minor": 5
}