{
 "cells": [
  {
   "cell_type": "code",
   "execution_count": 1,
   "id": "95d00857-6a20-4529-a519-2cc7182928a9",
   "metadata": {
    "execution": {
     "iopub.execute_input": "2022-05-08T15:57:07.199508Z",
     "iopub.status.busy": "2022-05-08T15:57:07.198531Z",
     "iopub.status.idle": "2022-05-08T15:57:15.444835Z",
     "shell.execute_reply": "2022-05-08T15:57:15.443829Z"
    },
    "jupyter": {
     "source_hidden": true
    },
    "papermill": {
     "duration": 8.26058,
     "end_time": "2022-05-08T15:57:15.447293",
     "exception": false,
     "start_time": "2022-05-08T15:57:07.186713",
     "status": "completed"
    },
    "tags": [
     "remove_input"
    ]
   },
   "outputs": [],
   "source": [
    "%%capture\n",
    "import warnings\n",
    "warnings.filterwarnings('ignore')\n",
    "\n",
    "import altair as alt\n",
    "import calitp.magics\n",
    "import geopandas as gpd\n",
    "import intake\n",
    "import pandas as pd\n",
    "\n",
    "from IPython.display import display, Markdown, HTML\n",
    "\n",
    "import parallel_corridors_utils\n",
    "from shared_utils import styleguide\n",
    "\n",
    "catalog = intake.open_catalog(\"./*.yml\")\n",
    "alt.renderers.enable(\"html\")"
   ]
  },
  {
   "cell_type": "code",
   "execution_count": 2,
   "id": "8af2a0c1-f3da-408d-9bea-11d9fbf8695d",
   "metadata": {
    "execution": {
     "iopub.execute_input": "2022-05-08T15:57:15.469647Z",
     "iopub.status.busy": "2022-05-08T15:57:15.468749Z",
     "iopub.status.idle": "2022-05-08T15:57:15.473850Z",
     "shell.execute_reply": "2022-05-08T15:57:15.473288Z"
    },
    "jupyter": {
     "source_hidden": true
    },
    "papermill": {
     "duration": 0.017859,
     "end_time": "2022-05-08T15:57:15.475516",
     "exception": false,
     "start_time": "2022-05-08T15:57:15.457657",
     "status": "completed"
    },
    "tags": [
     "parameters",
     "remove_input"
    ]
   },
   "outputs": [],
   "source": [
    "# parameters cell\n",
    "itp_id = 182"
   ]
  },
  {
   "cell_type": "code",
   "execution_count": 3,
   "id": "c6c4e11e",
   "metadata": {
    "execution": {
     "iopub.execute_input": "2022-05-08T15:57:15.497084Z",
     "iopub.status.busy": "2022-05-08T15:57:15.496200Z",
     "iopub.status.idle": "2022-05-08T15:57:15.500799Z",
     "shell.execute_reply": "2022-05-08T15:57:15.500216Z"
    },
    "jupyter": {
     "source_hidden": true
    },
    "papermill": {
     "duration": 0.017653,
     "end_time": "2022-05-08T15:57:15.502558",
     "exception": false,
     "start_time": "2022-05-08T15:57:15.484905",
     "status": "completed"
    },
    "tags": [
     "injected-parameters",
     "remove_input"
    ]
   },
   "outputs": [],
   "source": [
    "# Parameters\n",
    "district = \"04 - Oakland\"\n",
    "itp_id = 368\n"
   ]
  },
  {
   "cell_type": "code",
   "execution_count": 4,
   "id": "9582aaf4-79ff-412a-b248-8d8d693ebd4f",
   "metadata": {
    "execution": {
     "iopub.execute_input": "2022-05-08T15:57:15.529235Z",
     "iopub.status.busy": "2022-05-08T15:57:15.528667Z",
     "iopub.status.idle": "2022-05-08T15:57:16.738817Z",
     "shell.execute_reply": "2022-05-08T15:57:16.737848Z"
    },
    "jupyter": {
     "source_hidden": true
    },
    "papermill": {
     "duration": 1.225988,
     "end_time": "2022-05-08T15:57:16.743331",
     "exception": false,
     "start_time": "2022-05-08T15:57:15.517343",
     "status": "completed"
    },
    "tags": [
     "remove_input"
    ]
   },
   "outputs": [],
   "source": [
    "df = catalog.competitive_route_variability.read()\n",
    "\n",
    "df = (df[(df.calitp_itp_id == itp_id) & \n",
    "         (df.route_group.notna())]\n",
    "      .reset_index(drop=True)\n",
    "     )\n",
    "\n",
    "\n",
    "if itp_id == 182:\n",
    "    df = df.assign(\n",
    "        route_id = df.route_id.str.replace('-13153', '').astype(int)\n",
    "    )"
   ]
  },
  {
   "cell_type": "code",
   "execution_count": 5,
   "id": "33ac4b06-f647-4dce-a625-8f2c1b37cc60",
   "metadata": {
    "execution": {
     "iopub.execute_input": "2022-05-08T15:57:16.772034Z",
     "iopub.status.busy": "2022-05-08T15:57:16.771772Z",
     "iopub.status.idle": "2022-05-08T15:57:16.777673Z",
     "shell.execute_reply": "2022-05-08T15:57:16.776810Z"
    },
    "jupyter": {
     "source_hidden": true
    },
    "papermill": {
     "duration": 0.019751,
     "end_time": "2022-05-08T15:57:16.780263",
     "exception": false,
     "start_time": "2022-05-08T15:57:16.760512",
     "status": "completed"
    },
    "tags": [
     "remove_input"
    ]
   },
   "outputs": [],
   "source": [
    "%%capture_parameters\n",
    "operator_name = df.name.iloc[0]\n",
    "\n",
    "itp_id, operator_name"
   ]
  },
  {
   "cell_type": "markdown",
   "id": "65bc6f5c-8348-42ee-b2dd-52057c406852",
   "metadata": {
    "papermill": {
     "duration": 0.00975,
     "end_time": "2022-05-08T15:57:16.799809",
     "exception": false,
     "start_time": "2022-05-08T15:57:16.790059",
     "status": "completed"
    },
    "tags": []
   },
   "source": [
    "# Western Contra Costa Transit Authority (ITP ID: 368)"
   ]
  },
  {
   "cell_type": "code",
   "execution_count": 6,
   "id": "a689c1ab-2c6c-4831-8d64-897f5986f571",
   "metadata": {
    "execution": {
     "iopub.execute_input": "2022-05-08T15:57:16.821584Z",
     "iopub.status.busy": "2022-05-08T15:57:16.821298Z",
     "iopub.status.idle": "2022-05-08T15:57:16.827228Z",
     "shell.execute_reply": "2022-05-08T15:57:16.826693Z"
    },
    "jupyter": {
     "source_hidden": true
    },
    "papermill": {
     "duration": 0.018884,
     "end_time": "2022-05-08T15:57:16.828796",
     "exception": false,
     "start_time": "2022-05-08T15:57:16.809912",
     "status": "completed"
    },
    "tags": [
     "remove_input"
    ]
   },
   "outputs": [
    {
     "data": {
      "text/html": [
       "<h1>Competitive & Parallel Routes</h1>"
      ],
      "text/plain": [
       "<IPython.core.display.HTML object>"
      ]
     },
     "metadata": {},
     "output_type": "display_data"
    }
   ],
   "source": [
    "display(HTML(\"<h1>Competitive & Parallel Routes</h1>\")) "
   ]
  },
  {
   "cell_type": "code",
   "execution_count": 7,
   "id": "2cb4d8d5-4760-40e4-85b1-cb833d8bb648",
   "metadata": {
    "execution": {
     "iopub.execute_input": "2022-05-08T15:57:16.851012Z",
     "iopub.status.busy": "2022-05-08T15:57:16.850390Z",
     "iopub.status.idle": "2022-05-08T15:57:26.919088Z",
     "shell.execute_reply": "2022-05-08T15:57:26.918411Z"
    },
    "jupyter": {
     "source_hidden": true
    },
    "papermill": {
     "duration": 10.082377,
     "end_time": "2022-05-08T15:57:26.921574",
     "exception": false,
     "start_time": "2022-05-08T15:57:16.839197",
     "status": "completed"
    },
    "tags": [
     "remove_input"
    ]
   },
   "outputs": [],
   "source": [
    "# Grab parameters for narrative text - clean up formatting here \n",
    "district = df.caltrans_district.iloc[0]\n",
    "formatted_date = pd.to_datetime(parallel_corridors_utils.SELECTED_DATE).strftime('%m-%d-%Y')\n",
    "\n",
    "PCT_COMPETITIVE_THRESHOLD = 0.75\n",
    "\n",
    "stats = parallel_corridors_utils.operator_parallel_competitive_stats(\n",
    "    itp_id, PCT_COMPETITIVE_THRESHOLD)\n",
    "\n",
    "pct_parallel = round(stats['parallel_routes'] / stats['num_routes'] * 100,1 )\n",
    "pct_competitive =  round(stats['competitive_routes'] / stats['num_routes'] * 100,1 )"
   ]
  },
  {
   "cell_type": "markdown",
   "id": "ab667928-5274-4490-82d9-4c39293209a4",
   "metadata": {
    "papermill": {
     "duration": 0.01084,
     "end_time": "2022-05-08T15:57:26.945046",
     "exception": false,
     "start_time": "2022-05-08T15:57:26.934206",
     "status": "completed"
    },
    "tags": []
   },
   "source": [
    "## Quick Stats"
   ]
  },
  {
   "cell_type": "code",
   "execution_count": 8,
   "id": "0416509d-dc62-4165-b62e-64f8b26e8b8e",
   "metadata": {
    "execution": {
     "iopub.execute_input": "2022-05-08T15:57:26.967404Z",
     "iopub.status.busy": "2022-05-08T15:57:26.967124Z",
     "iopub.status.idle": "2022-05-08T15:57:26.973756Z",
     "shell.execute_reply": "2022-05-08T15:57:26.972899Z"
    },
    "jupyter": {
     "source_hidden": true
    },
    "papermill": {
     "duration": 0.021098,
     "end_time": "2022-05-08T15:57:26.976284",
     "exception": false,
     "start_time": "2022-05-08T15:57:26.955186",
     "status": "completed"
    },
    "tags": [
     "remove_input"
    ]
   },
   "outputs": [
    {
     "data": {
      "text/markdown": [
       "**Bus routes in service**: 22 <br>**Parallel routes** to State Highway Network (SHN): 10 routes (45.5%)<br>**Competitive routes** against car travel: 0 routes (0.0%)"
      ],
      "text/plain": [
       "<IPython.core.display.Markdown object>"
      ]
     },
     "metadata": {},
     "output_type": "display_data"
    }
   ],
   "source": [
    "display(\n",
    "    Markdown(\n",
    "        f\"**Bus routes in service**: {stats['num_routes']} \"\n",
    "        \"<br>**Parallel routes** to State Highway Network (SHN): \"\n",
    "        f\"{stats['parallel_routes']} routes ({pct_parallel}%)\"\n",
    "        f\"<br>**Competitive routes** against car travel: {stats['competitive_routes']} routes ({pct_competitive}%)\"\n",
    "    )\n",
    ")"
   ]
  },
  {
   "cell_type": "code",
   "execution_count": 9,
   "id": "f9d6ab58-f0ee-460c-b6de-657490e1f386",
   "metadata": {
    "execution": {
     "iopub.execute_input": "2022-05-08T15:57:27.009632Z",
     "iopub.status.busy": "2022-05-08T15:57:27.009291Z",
     "iopub.status.idle": "2022-05-08T15:57:27.030190Z",
     "shell.execute_reply": "2022-05-08T15:57:27.029370Z"
    },
    "jupyter": {
     "source_hidden": true
    },
    "papermill": {
     "duration": 0.04522,
     "end_time": "2022-05-08T15:57:27.032644",
     "exception": false,
     "start_time": "2022-05-08T15:57:26.987424",
     "status": "completed"
    },
    "tags": [
     "remove_input"
    ]
   },
   "outputs": [],
   "source": [
    "def set_yaxis_range(df, y_col):\n",
    "    Y_MIN = df[y_col].min()\n",
    "    Y_MAX = df[y_col].max()\n",
    "    \n",
    "    return Y_MIN, Y_MAX\n",
    "\n",
    "# Rather than set it according to the operator, which can vary,\n",
    "# just use set thresholds for each group\n",
    "diff_cutoffs = parallel_corridors_utils.diff_cutoffs\n",
    "\n",
    "PCT_TRIPS_BELOW_CUTOFF = 0.25\n",
    "\n",
    "def top15_routes(df, route_group):\n",
    "    df2 = (df[df.route_group==route_group])\n",
    "    # Set a cut-off to enable sorting, where most of the trips are \n",
    "    # below a certain time difference cut-off, \n",
    "    # grab top 15 routes where majority of trips are below that cut-off \n",
    "\n",
    "    route_cols = [\"calitp_itp_id\", \"route_id\"]\n",
    "\n",
    "    df2 = df2.assign(\n",
    "        below_cutoff = df2.apply(lambda x: 1 if x.bus_difference <= diff_cutoffs[route_group] \n",
    "                                 else 0, axis=1),\n",
    "        num_trips = df2.groupby(route_cols)[\"trip_id\"].transform(\"count\")\n",
    "    )\n",
    "\n",
    "    df2[\"below_cutoff\"] = df2.groupby(route_cols)[\"below_cutoff\"].transform(\"sum\")\n",
    "    df2[\"pct_below_cutoff\"] = df2.below_cutoff.divide(df2.num_trips)\n",
    "\n",
    "    # At least half the trips are below that cut-off\n",
    "    # but show 15 max, otherwise, show less, since these won't be as interesting to operators\n",
    "    df3 = (df2[df2.pct_below_cutoff >= PCT_TRIPS_BELOW_CUTOFF]\n",
    "           .sort_values([\"calitp_itp_id\", \"below_cutoff\", \n",
    "                         \"pct_below_cutoff\", \"route_id\"],\n",
    "                        ascending = [True, False, False, True]\n",
    "                       )\n",
    "           .drop_duplicates(subset=[\"calitp_itp_id\", \"route_id\"])\n",
    "          ).head(15)\n",
    "    \n",
    "    return list(df3.route_id)"
   ]
  },
  {
   "cell_type": "code",
   "execution_count": 10,
   "id": "cf36d559-3349-4144-8086-8ac9ce937a5a",
   "metadata": {
    "execution": {
     "iopub.execute_input": "2022-05-08T15:57:27.058968Z",
     "iopub.status.busy": "2022-05-08T15:57:27.058145Z",
     "iopub.status.idle": "2022-05-08T15:57:27.063815Z",
     "shell.execute_reply": "2022-05-08T15:57:27.063331Z"
    },
    "jupyter": {
     "source_hidden": true
    },
    "papermill": {
     "duration": 0.019766,
     "end_time": "2022-05-08T15:57:27.065356",
     "exception": false,
     "start_time": "2022-05-08T15:57:27.045590",
     "status": "completed"
    },
    "tags": [
     "remove_input"
    ]
   },
   "outputs": [],
   "source": [
    "short_caption = (\n",
    "    f\"<br>These are routes that have at least {int(PCT_TRIPS_BELOW_CUTOFF*100)}% of their trips \"\n",
    "    f\"take no more than an additional {diff_cutoffs['short']} min compared to a car \"\n",
    "    \"(up to 15 routes) are shown.\"\n",
    ")\n",
    "\n",
    "med_caption = (\n",
    "    f\"<br>These are routes that have at least {int(PCT_TRIPS_BELOW_CUTOFF*100)}% of their trips \"\n",
    "    f\"take no more than an additional {diff_cutoffs['medium']} min compared to a car \"\n",
    "    \"(up to 15 routes) are shown.\"\n",
    ")\n",
    "\n",
    "long_caption = (\n",
    "    f\"<br>These are routes that have at least {int(PCT_TRIPS_BELOW_CUTOFF*100)}% of their trips \"\n",
    "    f\"take no more than an additional {diff_cutoffs['long']} min compared to a car \"\n",
    "    \"(up to 15 routes) are shown.\")\n",
    "\n",
    "\n",
    "CAPTIONS_DICT = {\n",
    "    \"short\": short_caption,\n",
    "    \"medium\": med_caption,\n",
    "    \"long\": long_caption,\n",
    "}"
   ]
  },
  {
   "cell_type": "code",
   "execution_count": 11,
   "id": "e4306d58-6944-47e9-afef-5d5b524c751f",
   "metadata": {
    "execution": {
     "iopub.execute_input": "2022-05-08T15:57:27.088572Z",
     "iopub.status.busy": "2022-05-08T15:57:27.088075Z",
     "iopub.status.idle": "2022-05-08T15:57:27.094911Z",
     "shell.execute_reply": "2022-05-08T15:57:27.094432Z"
    },
    "jupyter": {
     "source_hidden": true
    },
    "papermill": {
     "duration": 0.020378,
     "end_time": "2022-05-08T15:57:27.096439",
     "exception": false,
     "start_time": "2022-05-08T15:57:27.076061",
     "status": "completed"
    },
    "tags": [
     "remove_input"
    ]
   },
   "outputs": [],
   "source": [
    "def setup_charts(df, PCT_COMPETITIVE_THRESHOLD, route_group):\n",
    "    # Set up df for charting (cut-off at some threshold to show most competitive routes)\n",
    "    plot_me = (df[df.pct_trips_competitive > PCT_COMPETITIVE_THRESHOLD]\n",
    "           .drop(columns = \"geometry\")\n",
    "    )\n",
    "    \n",
    "    y_col1 = \"bus_multiplier\"\n",
    "    Y_MIN1, Y_MAX1 = set_yaxis_range(plot_me, y_col1)\n",
    "\n",
    "    y_col2 = \"bus_difference\"\n",
    "    Y_MIN2, Y_MAX2 = set_yaxis_range(plot_me, y_col2)\n",
    "     \n",
    "    subset_routes = top15_routes(plot_me, route_group)\n",
    "    \n",
    "    multiplier_chart = parallel_corridors_utils.make_stripplot(\n",
    "        plot_me[plot_me.route_id.isin(subset_routes)], \n",
    "        y_col1, Y_MIN = Y_MIN1, Y_MAX = Y_MAX1\n",
    "    )\n",
    "    \n",
    "    difference_chart = parallel_corridors_utils.make_stripplot(\n",
    "        plot_me[plot_me.route_id.isin(subset_routes)], \n",
    "        y_col2, Y_MIN = Y_MIN2, Y_MAX = Y_MAX2\n",
    "    )\n",
    "    \n",
    "    return subset_routes, multiplier_chart, difference_chart            "
   ]
  },
  {
   "cell_type": "markdown",
   "id": "525f9b38-072b-46d1-96a8-1aa4b038357c",
   "metadata": {
    "papermill": {
     "duration": 0.012137,
     "end_time": "2022-05-08T15:57:27.119403",
     "exception": false,
     "start_time": "2022-05-08T15:57:27.107266",
     "status": "completed"
    },
    "tags": []
   },
   "source": [
    "## Viable Competitive Routes\n",
    "### Short Routes (< 1 hr)"
   ]
  },
  {
   "cell_type": "code",
   "execution_count": 12,
   "id": "57f7084c-2cf7-45c6-ba08-1609e0bd6ca5",
   "metadata": {
    "execution": {
     "iopub.execute_input": "2022-05-08T15:57:27.145754Z",
     "iopub.status.busy": "2022-05-08T15:57:27.145329Z",
     "iopub.status.idle": "2022-05-08T15:57:27.157414Z",
     "shell.execute_reply": "2022-05-08T15:57:27.156890Z"
    },
    "jupyter": {
     "source_hidden": true
    },
    "papermill": {
     "duration": 0.028369,
     "end_time": "2022-05-08T15:57:27.159008",
     "exception": false,
     "start_time": "2022-05-08T15:57:27.130639",
     "status": "completed"
    },
    "tags": [
     "remove_input"
    ]
   },
   "outputs": [
    {
     "name": "stdout",
     "output_type": "stream",
     "text": [
      "No routes meet this criteria.\n"
     ]
    }
   ],
   "source": [
    "# Allow for possibility that operator doesn't have routes that fall into certain route_groups\n",
    "# But, jupyterbook will not like markdown with f-string\n",
    "# separate out route_group and put in each cell, and use try/except + if to display...\n",
    "# but all 3 route groups must be displayed. just add sentence about why no routes were returned at the end\n",
    "route_group = \"short\"\n",
    "try:\n",
    "    subset_routes, mult, diff  = setup_charts(df, PCT_COMPETITIVE_THRESHOLD, route_group)\n",
    "    \n",
    "    if len(subset_routes) > 0:\n",
    "        display(\n",
    "            Markdown(\n",
    "                f\"{CAPTIONS_DICT[route_group]}\"\n",
    "                \"Within each route group, routes are sorted in descending order \"\n",
    "                \"by % competitive trips and # trips below the additional time cut-off.\"\n",
    "            )\n",
    "        )\n",
    "\n",
    "        display(mult)\n",
    "        display(diff)\n",
    "except:\n",
    "    print(\"No routes meet this criteria.\")"
   ]
  },
  {
   "cell_type": "markdown",
   "id": "c2931b6f-034d-4384-9e14-80b925e3b820",
   "metadata": {
    "papermill": {
     "duration": 0.011472,
     "end_time": "2022-05-08T15:57:27.182633",
     "exception": false,
     "start_time": "2022-05-08T15:57:27.171161",
     "status": "completed"
    },
    "tags": []
   },
   "source": [
    "### Medium Routes (1-1.5 hrs)"
   ]
  },
  {
   "cell_type": "code",
   "execution_count": 13,
   "id": "480edddc-4de0-48c2-ae4c-b0ceef8f28b5",
   "metadata": {
    "execution": {
     "iopub.execute_input": "2022-05-08T15:57:27.210206Z",
     "iopub.status.busy": "2022-05-08T15:57:27.209715Z",
     "iopub.status.idle": "2022-05-08T15:57:27.221278Z",
     "shell.execute_reply": "2022-05-08T15:57:27.220300Z"
    },
    "jupyter": {
     "source_hidden": true
    },
    "papermill": {
     "duration": 0.028916,
     "end_time": "2022-05-08T15:57:27.223101",
     "exception": false,
     "start_time": "2022-05-08T15:57:27.194185",
     "status": "completed"
    },
    "tags": [
     "remove_input"
    ]
   },
   "outputs": [
    {
     "name": "stdout",
     "output_type": "stream",
     "text": [
      "No routes meet this criteria.\n"
     ]
    }
   ],
   "source": [
    "route_group = \"medium\"\n",
    "try:\n",
    "    subset_routes, mult, diff  = setup_charts(df, PCT_COMPETITIVE_THRESHOLD, route_group)\n",
    "    if len(subset_routes) > 0:\n",
    "        display(\n",
    "            Markdown(\n",
    "                f\"{CAPTIONS_DICT[route_group]}\"\n",
    "                \"Within each route group, routes are sorted in descending order \"\n",
    "                \"by % competitive trips and # trips below the additional time cut-off.\"\n",
    "            )\n",
    "        )\n",
    "\n",
    "        display(mult)\n",
    "        display(diff)\n",
    "except:\n",
    "    print(\"No routes meet this criteria.\")"
   ]
  },
  {
   "cell_type": "markdown",
   "id": "124b76d0-886c-4d03-92ac-f1bda3cda182",
   "metadata": {
    "papermill": {
     "duration": 0.011781,
     "end_time": "2022-05-08T15:57:27.246204",
     "exception": false,
     "start_time": "2022-05-08T15:57:27.234423",
     "status": "completed"
    },
    "tags": []
   },
   "source": [
    "### Long Routes (> 1.5 hrs)"
   ]
  },
  {
   "cell_type": "code",
   "execution_count": 14,
   "id": "ddc81b19-4c45-4c81-8b7a-5e0f394aa7a3",
   "metadata": {
    "execution": {
     "iopub.execute_input": "2022-05-08T15:57:27.270533Z",
     "iopub.status.busy": "2022-05-08T15:57:27.270259Z",
     "iopub.status.idle": "2022-05-08T15:57:27.282735Z",
     "shell.execute_reply": "2022-05-08T15:57:27.281936Z"
    },
    "jupyter": {
     "source_hidden": true
    },
    "papermill": {
     "duration": 0.027395,
     "end_time": "2022-05-08T15:57:27.284992",
     "exception": false,
     "start_time": "2022-05-08T15:57:27.257597",
     "status": "completed"
    },
    "tags": [
     "remove_input"
    ]
   },
   "outputs": [
    {
     "name": "stdout",
     "output_type": "stream",
     "text": [
      "No routes meet this criteria.\n"
     ]
    }
   ],
   "source": [
    "route_group = \"long\"\n",
    "try:\n",
    "    subset_routes, mult, diff  = setup_charts(df, PCT_COMPETITIVE_THRESHOLD, route_group)\n",
    "    if len(subset_routes) > 0:\n",
    "        display(\n",
    "            Markdown(\n",
    "                f\"{CAPTIONS_DICT[route_group]}\"\n",
    "                \"Within each route group, routes are sorted in descending order \"\n",
    "                \"by % competitive trips and # trips below the additional time cut-off.\"\n",
    "            )\n",
    "        )\n",
    "\n",
    "        display(mult)\n",
    "        display(diff)\n",
    "except:\n",
    "    print(\"No routes meet this criteria.\")"
   ]
  }
 ],
 "metadata": {
  "kernelspec": {
   "display_name": "Python 3 (ipykernel)",
   "language": "python",
   "name": "python3"
  },
  "language_info": {
   "codemirror_mode": {
    "name": "ipython",
    "version": 3
   },
   "file_extension": ".py",
   "mimetype": "text/x-python",
   "name": "python",
   "nbconvert_exporter": "python",
   "pygments_lexer": "ipython3",
   "version": "3.9.12"
  },
  "papermill": {
   "default_parameters": {},
   "duration": 22.218966,
   "end_time": "2022-05-08T15:57:28.330946",
   "environment_variables": {},
   "exception": null,
   "input_path": "bus_service_increase/competitive-parallel-routes.ipynb",
   "output_path": "portfolio/parallel_corridors/district_04-oakland/competitive-parallel-routes__itp_id_368.ipynb",
   "parameters": {
    "district": "04 - Oakland",
    "itp_id": 368
   },
   "start_time": "2022-05-08T15:57:06.111980",
   "version": "2.3.4"
  }
 },
 "nbformat": 4,
 "nbformat_minor": 5
}