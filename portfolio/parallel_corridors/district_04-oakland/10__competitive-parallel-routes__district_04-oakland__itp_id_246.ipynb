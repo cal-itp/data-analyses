{
 "cells": [
  {
   "cell_type": "code",
   "execution_count": 1,
   "id": "95d00857-6a20-4529-a519-2cc7182928a9",
   "metadata": {
    "execution": {
     "iopub.execute_input": "2022-05-11T21:58:38.262966Z",
     "iopub.status.busy": "2022-05-11T21:58:38.262452Z",
     "iopub.status.idle": "2022-05-11T21:58:46.592516Z",
     "shell.execute_reply": "2022-05-11T21:58:46.591571Z"
    },
    "jupyter": {
     "source_hidden": true
    },
    "papermill": {
     "duration": 8.347497,
     "end_time": "2022-05-11T21:58:46.595161",
     "exception": false,
     "start_time": "2022-05-11T21:58:38.247664",
     "status": "completed"
    },
    "tags": [
     "remove_input"
    ]
   },
   "outputs": [],
   "source": [
    "%%capture\n",
    "import warnings\n",
    "warnings.filterwarnings('ignore')\n",
    "\n",
    "import altair as alt\n",
    "import calitp.magics\n",
    "import geopandas as gpd\n",
    "import intake\n",
    "import pandas as pd\n",
    "\n",
    "from IPython.display import display, Markdown, HTML\n",
    "\n",
    "import parallel_corridors_utils\n",
    "import deploy_portfolio_yaml\n",
    "from shared_utils import styleguide, geography_utils\n",
    "from make_stripplot_data import diff_cutoffs\n",
    "\n",
    "catalog = intake.open_catalog(\"./*.yml\")\n",
    "alt.renderers.enable(\"html\")"
   ]
  },
  {
   "cell_type": "code",
   "execution_count": 2,
   "id": "8af2a0c1-f3da-408d-9bea-11d9fbf8695d",
   "metadata": {
    "execution": {
     "iopub.execute_input": "2022-05-11T21:58:46.626986Z",
     "iopub.status.busy": "2022-05-11T21:58:46.626443Z",
     "iopub.status.idle": "2022-05-11T21:58:46.630818Z",
     "shell.execute_reply": "2022-05-11T21:58:46.629853Z"
    },
    "jupyter": {
     "source_hidden": true
    },
    "papermill": {
     "duration": 0.019664,
     "end_time": "2022-05-11T21:58:46.632550",
     "exception": false,
     "start_time": "2022-05-11T21:58:46.612886",
     "status": "completed"
    },
    "tags": [
     "parameters",
     "remove_input"
    ]
   },
   "outputs": [],
   "source": [
    "# parameters cell\n",
    "itp_id = 182"
   ]
  },
  {
   "cell_type": "code",
   "execution_count": 3,
   "id": "336fcc27",
   "metadata": {
    "execution": {
     "iopub.execute_input": "2022-05-11T21:58:46.658623Z",
     "iopub.status.busy": "2022-05-11T21:58:46.657955Z",
     "iopub.status.idle": "2022-05-11T21:58:46.662053Z",
     "shell.execute_reply": "2022-05-11T21:58:46.661569Z"
    },
    "jupyter": {
     "source_hidden": true
    },
    "papermill": {
     "duration": 0.019369,
     "end_time": "2022-05-11T21:58:46.663938",
     "exception": false,
     "start_time": "2022-05-11T21:58:46.644569",
     "status": "completed"
    },
    "tags": [
     "injected-parameters",
     "remove_input"
    ]
   },
   "outputs": [],
   "source": [
    "# Parameters\n",
    "district = \"04 - Oakland\"\n",
    "itp_id = 246\n"
   ]
  },
  {
   "cell_type": "code",
   "execution_count": 4,
   "id": "9582aaf4-79ff-412a-b248-8d8d693ebd4f",
   "metadata": {
    "execution": {
     "iopub.execute_input": "2022-05-11T21:58:46.691537Z",
     "iopub.status.busy": "2022-05-11T21:58:46.690794Z",
     "iopub.status.idle": "2022-05-11T21:58:47.940859Z",
     "shell.execute_reply": "2022-05-11T21:58:47.939757Z"
    },
    "jupyter": {
     "source_hidden": true
    },
    "papermill": {
     "duration": 1.266356,
     "end_time": "2022-05-11T21:58:47.943286",
     "exception": false,
     "start_time": "2022-05-11T21:58:46.676930",
     "status": "completed"
    },
    "tags": [
     "remove_input"
    ]
   },
   "outputs": [],
   "source": [
    "df = catalog.competitive_route_variability.read()\n",
    "\n",
    "df = (df[(df.calitp_itp_id == itp_id) & \n",
    "         (df.route_group.notna())]\n",
    "      .rename(columns = {\"route_name_used\": \"route_name\"})\n",
    "      .reset_index(drop=True)\n",
    "     )\n",
    "\n",
    "if itp_id == 182:\n",
    "    df = df.assign(\n",
    "        route_id = df.route_id.str.replace('-13153', '').astype(int)\n",
    "    )"
   ]
  },
  {
   "cell_type": "code",
   "execution_count": 5,
   "id": "33ac4b06-f647-4dce-a625-8f2c1b37cc60",
   "metadata": {
    "execution": {
     "iopub.execute_input": "2022-05-11T21:58:47.974272Z",
     "iopub.status.busy": "2022-05-11T21:58:47.973961Z",
     "iopub.status.idle": "2022-05-11T21:58:47.980722Z",
     "shell.execute_reply": "2022-05-11T21:58:47.979924Z"
    },
    "jupyter": {
     "source_hidden": true
    },
    "papermill": {
     "duration": 0.027611,
     "end_time": "2022-05-11T21:58:47.983567",
     "exception": false,
     "start_time": "2022-05-11T21:58:47.955956",
     "status": "completed"
    },
    "tags": [
     "remove_input"
    ]
   },
   "outputs": [],
   "source": [
    "%%capture_parameters\n",
    "operator_name = df.name.iloc[0]\n",
    "district_number = f\"{df.caltrans_district.iloc[0].split('-')[0].strip()}\"\n",
    "district_name = f\"{df.caltrans_district.iloc[0].split('-')[1].strip().lower().replace(' ', '-')}\"\n",
    "\n",
    "itp_id, operator_name, district_number, district_name"
   ]
  },
  {
   "cell_type": "markdown",
   "id": "65bc6f5c-8348-42ee-b2dd-52057c406852",
   "metadata": {
    "papermill": {
     "duration": 0.012152,
     "end_time": "2022-05-11T21:58:48.009819",
     "exception": false,
     "start_time": "2022-05-11T21:58:47.997667",
     "status": "completed"
    },
    "tags": []
   },
   "source": [
    "# Peninsula Corridor Joint Powers Board (ITP ID: 246)"
   ]
  },
  {
   "cell_type": "code",
   "execution_count": 6,
   "id": "a689c1ab-2c6c-4831-8d64-897f5986f571",
   "metadata": {
    "execution": {
     "iopub.execute_input": "2022-05-11T21:58:48.036167Z",
     "iopub.status.busy": "2022-05-11T21:58:48.035218Z",
     "iopub.status.idle": "2022-05-11T21:58:48.041557Z",
     "shell.execute_reply": "2022-05-11T21:58:48.040779Z"
    },
    "jupyter": {
     "source_hidden": true
    },
    "papermill": {
     "duration": 0.02182,
     "end_time": "2022-05-11T21:58:48.043480",
     "exception": false,
     "start_time": "2022-05-11T21:58:48.021660",
     "status": "completed"
    },
    "tags": [
     "remove_input"
    ]
   },
   "outputs": [
    {
     "data": {
      "text/html": [
       "<h1>Competitive & Parallel Routes</h1>"
      ],
      "text/plain": [
       "<IPython.core.display.HTML object>"
      ]
     },
     "metadata": {},
     "output_type": "display_data"
    }
   ],
   "source": [
    "display(HTML(\"<h1>Competitive & Parallel Routes</h1>\")) "
   ]
  },
  {
   "cell_type": "code",
   "execution_count": 7,
   "id": "2cb4d8d5-4760-40e4-85b1-cb833d8bb648",
   "metadata": {
    "execution": {
     "iopub.execute_input": "2022-05-11T21:58:48.071494Z",
     "iopub.status.busy": "2022-05-11T21:58:48.070755Z",
     "iopub.status.idle": "2022-05-11T21:58:58.319757Z",
     "shell.execute_reply": "2022-05-11T21:58:58.319219Z"
    },
    "jupyter": {
     "source_hidden": true
    },
    "papermill": {
     "duration": 10.265197,
     "end_time": "2022-05-11T21:58:58.321742",
     "exception": false,
     "start_time": "2022-05-11T21:58:48.056545",
     "status": "completed"
    },
    "tags": [
     "remove_input"
    ]
   },
   "outputs": [],
   "source": [
    "# Grab parameters for narrative text - clean up formatting here \n",
    "district = df.caltrans_district.iloc[0]\n",
    "formatted_date = pd.to_datetime(parallel_corridors_utils.SELECTED_DATE).strftime('%m-%d-%Y')\n",
    "\n",
    "PCT_COMPETITIVE_THRESHOLD = 0.75\n",
    "PCT_TRIPS_BELOW_CUTOFF = 0.50\n",
    "\n",
    "stats = parallel_corridors_utils.operator_parallel_competitive_stats(\n",
    "    itp_id, PCT_COMPETITIVE_THRESHOLD, PCT_TRIPS_BELOW_CUTOFF)\n",
    "\n",
    "pct_parallel = round(stats['parallel_routes'] / stats['num_routes'] * 100, 1 )\n",
    "pct_competitive =  round(stats['competitive_routes'] / stats['num_routes'] * 100, 1 )\n",
    "pct_viable =  round(stats['viable_competitive_routes'] / stats['num_routes'] * 100, 1 )"
   ]
  },
  {
   "cell_type": "code",
   "execution_count": 8,
   "id": "8bf30c8f-6aa5-47bb-82ae-a906732e81fd",
   "metadata": {
    "execution": {
     "iopub.execute_input": "2022-05-11T21:58:58.349674Z",
     "iopub.status.busy": "2022-05-11T21:58:58.349238Z",
     "iopub.status.idle": "2022-05-11T21:58:58.375432Z",
     "shell.execute_reply": "2022-05-11T21:58:58.374824Z"
    },
    "jupyter": {
     "source_hidden": true
    },
    "papermill": {
     "duration": 0.042714,
     "end_time": "2022-05-11T21:58:58.377388",
     "exception": false,
     "start_time": "2022-05-11T21:58:58.334674",
     "status": "completed"
    },
    "tags": [
     "remove_input"
    ]
   },
   "outputs": [],
   "source": [
    "# Display a table of route-level stats for each route_group\n",
    "# Displaying route_name makes chart too crowded\n",
    "\n",
    "# Get route stats (for entire df)\n",
    "route_stats = parallel_corridors_utils.competitive_route_level_stats(df)\n",
    "    \n",
    "def style_route_stats(df, top15_routes):\n",
    "    df = df[df.route_id.isin(top15_routes)]\n",
    "    \n",
    "    # Rename columns for display\n",
    "    rename_cols = {\n",
    "        \"route_id\": \"Route ID\",\n",
    "        \"route_name\": \"Route Name\",\n",
    "        \"route_group\": \"Route Group\",\n",
    "        \"num_trips\": \"# trips\",\n",
    "        \"daily_avg_freq\": \"Daily Avg Frequency (trips per hr)\",\n",
    "        \"pm_peak_freq\": \"PM Peak Avg Frequency (trips per hr)\",\n",
    "        \"percentiles\": \"25th, 50th, 75th ptile (hrs)\",\n",
    "    }\n",
    "    \n",
    "    # Style it\n",
    "    drop_cols = [\n",
    "        \"calitp_itp_id\", \"below_cutoff\", \"route_group\", \n",
    "        \"pct_trips_competitive\", \"pct_below_cutoff\",\n",
    "        \"p25\", \"p50\", \"p75\",\n",
    "    ]\n",
    "    \n",
    "    df_style = (df.sort_values(\n",
    "        [\"pct_trips_competitive\", \"below_cutoff\", \n",
    "        \"pct_below_cutoff\", \"route_id\"], \n",
    "        ascending=[False, False, False, True])\n",
    "           .drop(columns = drop_cols)\n",
    "           .rename(columns = rename_cols)\n",
    "           .style.format({\n",
    "               #'% trips within 2x car travel': '{:,.1%}', \n",
    "               'Daily Avg Frequency (trips per hr)': '{:,.3}',\n",
    "               'PM Peak Avg Frequency (trips per hr)': '{:,.3}',\n",
    "           })\n",
    "           .hide(axis=\"index\")\n",
    "           .to_html()\n",
    "          )\n",
    "    \n",
    "    display(HTML(\"<h4>Route Stats</h4>\"))\n",
    "    display(HTML(df_style))"
   ]
  },
  {
   "cell_type": "markdown",
   "id": "ab667928-5274-4490-82d9-4c39293209a4",
   "metadata": {
    "papermill": {
     "duration": 0.012874,
     "end_time": "2022-05-11T21:58:58.406412",
     "exception": false,
     "start_time": "2022-05-11T21:58:58.393538",
     "status": "completed"
    },
    "tags": []
   },
   "source": [
    "## Quick Stats"
   ]
  },
  {
   "cell_type": "code",
   "execution_count": 9,
   "id": "0416509d-dc62-4165-b62e-64f8b26e8b8e",
   "metadata": {
    "execution": {
     "iopub.execute_input": "2022-05-11T21:58:58.433825Z",
     "iopub.status.busy": "2022-05-11T21:58:58.433382Z",
     "iopub.status.idle": "2022-05-11T21:58:58.439532Z",
     "shell.execute_reply": "2022-05-11T21:58:58.438972Z"
    },
    "jupyter": {
     "source_hidden": true
    },
    "papermill": {
     "duration": 0.022343,
     "end_time": "2022-05-11T21:58:58.441282",
     "exception": false,
     "start_time": "2022-05-11T21:58:58.418939",
     "status": "completed"
    },
    "tags": [
     "remove_input"
    ]
   },
   "outputs": [
    {
     "data": {
      "text/markdown": [
       "**Bus routes in service: 10**<br>**Parallel routes** to State Highway Network (SHN): **5 routes (50.0%)**<br>**Competitive routes** against car travel (within 2x car travel time): **5 routes (50.0%)**<br>**Viable competitive routes** against car travel (within 2x car travel time and within 20, 30, or 40 min cut-off): **5 routes (50.0%)**"
      ],
      "text/plain": [
       "<IPython.core.display.Markdown object>"
      ]
     },
     "metadata": {},
     "output_type": "display_data"
    }
   ],
   "source": [
    "display(\n",
    "    Markdown(\n",
    "        f\"**Bus routes in service: {stats['num_routes']}**\"\n",
    "        \"<br>**Parallel routes** to State Highway Network (SHN): \"\n",
    "        f\"**{stats['parallel_routes']} routes ({pct_parallel}%)**\"\n",
    "        \"<br>**Competitive routes** against car travel (within 2x car travel time): \"\n",
    "        f\"**{stats['competitive_routes']} routes ({pct_competitive}%)**\"\n",
    "        \"<br>**Viable competitive routes** against car travel \"\n",
    "        \"(within 2x car travel time and within 20, 30, or 40 min cut-off): \"\n",
    "        f\"**{stats['viable_competitive_routes']} routes ({pct_viable}%)**\"\n",
    "    )\n",
    ")"
   ]
  },
  {
   "cell_type": "code",
   "execution_count": 10,
   "id": "f9d6ab58-f0ee-460c-b6de-657490e1f386",
   "metadata": {
    "execution": {
     "iopub.execute_input": "2022-05-11T21:58:58.470339Z",
     "iopub.status.busy": "2022-05-11T21:58:58.469857Z",
     "iopub.status.idle": "2022-05-11T21:58:58.476392Z",
     "shell.execute_reply": "2022-05-11T21:58:58.475794Z"
    },
    "jupyter": {
     "source_hidden": true
    },
    "papermill": {
     "duration": 0.023458,
     "end_time": "2022-05-11T21:58:58.478238",
     "exception": false,
     "start_time": "2022-05-11T21:58:58.454780",
     "status": "completed"
    },
    "tags": [
     "remove_input"
    ]
   },
   "outputs": [],
   "source": [
    "def set_yaxis_range(df, y_col):\n",
    "    Y_MIN = df[y_col].min()\n",
    "    Y_MAX = df[y_col].max()\n",
    "    \n",
    "    return Y_MIN, Y_MAX\n",
    "\n",
    "# Rather than set it according to the operator, which can vary,\n",
    "# just use set thresholds for each group\n",
    "def top15_routes(df, route_group):\n",
    "    # grab top 15 routes where majority of trips are below that cut-off \n",
    "    # but show 15 max, otherwise, show less, since these won't be as interesting to operators\n",
    "    df2 = (df[(df.route_group==route_group) &\n",
    "              (df.pct_below_cutoff >= PCT_TRIPS_BELOW_CUTOFF)]\n",
    "           .sort_values([\"calitp_itp_id\", \"below_cutoff\", \n",
    "                         \"pct_below_cutoff\", \"route_id\"],\n",
    "                        ascending = [True, False, False, True]\n",
    "                       )\n",
    "           .drop_duplicates(subset=[\"calitp_itp_id\", \"route_id\"])\n",
    "          ).head(15)\n",
    "    \n",
    "    return list(df2.route_id)"
   ]
  },
  {
   "cell_type": "code",
   "execution_count": 11,
   "id": "cf36d559-3349-4144-8086-8ac9ce937a5a",
   "metadata": {
    "execution": {
     "iopub.execute_input": "2022-05-11T21:58:58.514234Z",
     "iopub.status.busy": "2022-05-11T21:58:58.513097Z",
     "iopub.status.idle": "2022-05-11T21:58:58.519169Z",
     "shell.execute_reply": "2022-05-11T21:58:58.518569Z"
    },
    "jupyter": {
     "source_hidden": true
    },
    "papermill": {
     "duration": 0.022685,
     "end_time": "2022-05-11T21:58:58.520881",
     "exception": false,
     "start_time": "2022-05-11T21:58:58.498196",
     "status": "completed"
    },
    "tags": [
     "remove_input"
    ]
   },
   "outputs": [],
   "source": [
    "def caption_with_cutoff(cutoff):\n",
    "    sentence = (\n",
    "        f\"<br>These are routes that have **at least {int(PCT_TRIPS_BELOW_CUTOFF*100)}% \"\n",
    "        \"of their trips take no more than an \"\n",
    "        f\"additional {cutoff} min** compared to a car \"\n",
    "        \"(up to 15 routes) are shown.\"\n",
    "        \"<br>Within each route group, routes are sorted in descending order \"\n",
    "        \"by % competitive trips and # trips below the additional time cut-off.\"\n",
    "    )\n",
    "    return sentence\n",
    "\n",
    "CAPTIONS_DICT = {\n",
    "    \"short\": caption_with_cutoff(diff_cutoffs['short']),\n",
    "    \"medium\": caption_with_cutoff(diff_cutoffs['medium']),\n",
    "    \"long\": caption_with_cutoff(diff_cutoffs['long']),\n",
    "}"
   ]
  },
  {
   "cell_type": "code",
   "execution_count": 12,
   "id": "e4306d58-6944-47e9-afef-5d5b524c751f",
   "metadata": {
    "execution": {
     "iopub.execute_input": "2022-05-11T21:58:58.553669Z",
     "iopub.status.busy": "2022-05-11T21:58:58.552873Z",
     "iopub.status.idle": "2022-05-11T21:58:58.560338Z",
     "shell.execute_reply": "2022-05-11T21:58:58.559702Z"
    },
    "jupyter": {
     "source_hidden": true
    },
    "papermill": {
     "duration": 0.02732,
     "end_time": "2022-05-11T21:58:58.562276",
     "exception": false,
     "start_time": "2022-05-11T21:58:58.534956",
     "status": "completed"
    },
    "tags": [
     "remove_input"
    ]
   },
   "outputs": [],
   "source": [
    "def setup_charts(df, PCT_COMPETITIVE_THRESHOLD, route_group):\n",
    "    # Set up df for charting (cut-off at some threshold to show most competitive routes)\n",
    "    plot_me = (df[df.pct_trips_competitive > PCT_COMPETITIVE_THRESHOLD]\n",
    "           .drop(columns = \"geometry\")\n",
    "    )\n",
    "    \n",
    "    # Set y-ranges to be the same across route_groups, \n",
    "    # otherwise charts fluctuate too much, even within operator\n",
    "    y_col1 = \"bus_multiplier\"\n",
    "    Y_MIN1, Y_MAX1 = set_yaxis_range(plot_me, y_col1)\n",
    "\n",
    "    y_col2 = \"bus_difference\"\n",
    "    Y_MIN2, Y_MAX2 = set_yaxis_range(plot_me, y_col2)\n",
    "    \n",
    "    # Grab the routes to plot\n",
    "    subset_routes = top15_routes(plot_me, route_group)\n",
    "        \n",
    "    # Display charts\n",
    "    multiplier_chart = parallel_corridors_utils.make_stripplot(\n",
    "        plot_me[plot_me.route_id.isin(subset_routes)], \n",
    "        y_col1, Y_MIN = Y_MIN1, Y_MAX = Y_MAX1\n",
    "    )\n",
    "    \n",
    "    difference_chart = parallel_corridors_utils.make_stripplot(\n",
    "        plot_me[plot_me.route_id.isin(subset_routes)], \n",
    "        y_col2, Y_MIN = Y_MIN2, Y_MAX = Y_MAX2\n",
    "    )\n",
    "    \n",
    "    return subset_routes, multiplier_chart, difference_chart            "
   ]
  },
  {
   "cell_type": "code",
   "execution_count": 13,
   "id": "33a710e8-504c-4942-aa75-ff69f216956e",
   "metadata": {
    "execution": {
     "iopub.execute_input": "2022-05-11T21:58:58.601053Z",
     "iopub.status.busy": "2022-05-11T21:58:58.600167Z",
     "iopub.status.idle": "2022-05-11T21:58:58.605968Z",
     "shell.execute_reply": "2022-05-11T21:58:58.605414Z"
    },
    "jupyter": {
     "source_hidden": true
    },
    "papermill": {
     "duration": 0.031677,
     "end_time": "2022-05-11T21:58:58.607629",
     "exception": false,
     "start_time": "2022-05-11T21:58:58.575952",
     "status": "completed"
    },
    "tags": [
     "remove_input"
    ]
   },
   "outputs": [],
   "source": [
    "def display_charts_for_route_group(df, route_group):    \n",
    "    subset_routes, mult, diff  = setup_charts(df, PCT_COMPETITIVE_THRESHOLD, route_group)\n",
    "\n",
    "    if len(subset_routes) > 0:\n",
    "        display(Markdown(f\"{CAPTIONS_DICT[route_group]}\"))\n",
    "\n",
    "        display(mult)\n",
    "        display(diff)\n",
    "        \n",
    "        # Display route stats for just plotted routes\n",
    "        style_route_stats(route_stats, subset_routes)"
   ]
  },
  {
   "cell_type": "markdown",
   "id": "525f9b38-072b-46d1-96a8-1aa4b038357c",
   "metadata": {
    "papermill": {
     "duration": 0.016435,
     "end_time": "2022-05-11T21:58:58.638535",
     "exception": false,
     "start_time": "2022-05-11T21:58:58.622100",
     "status": "completed"
    },
    "tags": []
   },
   "source": [
    "## Viable Competitive Routes\n",
    "### Short Routes (< 1 hr)"
   ]
  },
  {
   "cell_type": "code",
   "execution_count": 14,
   "id": "57f7084c-2cf7-45c6-ba08-1609e0bd6ca5",
   "metadata": {
    "execution": {
     "iopub.execute_input": "2022-05-11T21:58:58.667781Z",
     "iopub.status.busy": "2022-05-11T21:58:58.666893Z",
     "iopub.status.idle": "2022-05-11T21:58:58.689214Z",
     "shell.execute_reply": "2022-05-11T21:58:58.688083Z"
    },
    "jupyter": {
     "source_hidden": true
    },
    "papermill": {
     "duration": 0.04016,
     "end_time": "2022-05-11T21:58:58.692331",
     "exception": false,
     "start_time": "2022-05-11T21:58:58.652171",
     "status": "completed"
    },
    "tags": [
     "remove_input"
    ]
   },
   "outputs": [
    {
     "name": "stdout",
     "output_type": "stream",
     "text": [
      "No routes meet this criteria.\n"
     ]
    }
   ],
   "source": [
    "# Allow for possibility that operator doesn't have routes that fall into certain route_groups\n",
    "# But, jupyterbook will not like markdown with f-string\n",
    "# separate out route_group and put in each cell, and use try/except + if to display...\n",
    "# but all 3 route groups must be displayed. just add sentence about why no routes were returned at the end\n",
    "route_group = \"short\"\n",
    "try:\n",
    "    display_charts_for_route_group(df, route_group)\n",
    "except:\n",
    "    print(\"No routes meet this criteria.\")"
   ]
  },
  {
   "cell_type": "markdown",
   "id": "c2931b6f-034d-4384-9e14-80b925e3b820",
   "metadata": {
    "papermill": {
     "duration": 0.013718,
     "end_time": "2022-05-11T21:58:58.720219",
     "exception": false,
     "start_time": "2022-05-11T21:58:58.706501",
     "status": "completed"
    },
    "tags": []
   },
   "source": [
    "### Medium Routes (1-1.5 hrs)"
   ]
  },
  {
   "cell_type": "code",
   "execution_count": 15,
   "id": "480edddc-4de0-48c2-ae4c-b0ceef8f28b5",
   "metadata": {
    "execution": {
     "iopub.execute_input": "2022-05-11T21:58:58.750732Z",
     "iopub.status.busy": "2022-05-11T21:58:58.750459Z",
     "iopub.status.idle": "2022-05-11T21:58:59.043148Z",
     "shell.execute_reply": "2022-05-11T21:58:59.042204Z"
    },
    "jupyter": {
     "source_hidden": true
    },
    "papermill": {
     "duration": 0.31023,
     "end_time": "2022-05-11T21:58:59.044989",
     "exception": false,
     "start_time": "2022-05-11T21:58:58.734759",
     "status": "completed"
    },
    "tags": [
     "remove_input"
    ]
   },
   "outputs": [
    {
     "data": {
      "text/markdown": [
       "<br>These are routes that have **at least 50% of their trips take no more than an additional 30 min** compared to a car (up to 15 routes) are shown.<br>Within each route group, routes are sorted in descending order by % competitive trips and # trips below the additional time cut-off."
      ],
      "text/plain": [
       "<IPython.core.display.Markdown object>"
      ]
     },
     "metadata": {},
     "output_type": "display_data"
    },
    {
     "data": {
      "text/html": [
       "\n",
       "<div id=\"altair-viz-11633e461804453e8b1c56921343e71d\"></div>\n",
       "<script type=\"text/javascript\">\n",
       "  var VEGA_DEBUG = (typeof VEGA_DEBUG == \"undefined\") ? {} : VEGA_DEBUG;\n",
       "  (function(spec, embedOpt){\n",
       "    let outputDiv = document.currentScript.previousElementSibling;\n",
       "    if (outputDiv.id !== \"altair-viz-11633e461804453e8b1c56921343e71d\") {\n",
       "      outputDiv = document.getElementById(\"altair-viz-11633e461804453e8b1c56921343e71d\");\n",
       "    }\n",
       "    const paths = {\n",
       "      \"vega\": \"https://cdn.jsdelivr.net/npm//vega@5?noext\",\n",
       "      \"vega-lib\": \"https://cdn.jsdelivr.net/npm//vega-lib?noext\",\n",
       "      \"vega-lite\": \"https://cdn.jsdelivr.net/npm//vega-lite@4.17.0?noext\",\n",
       "      \"vega-embed\": \"https://cdn.jsdelivr.net/npm//vega-embed@6?noext\",\n",
       "    };\n",
       "\n",
       "    function maybeLoadScript(lib, version) {\n",
       "      var key = `${lib.replace(\"-\", \"\")}_version`;\n",
       "      return (VEGA_DEBUG[key] == version) ?\n",
       "        Promise.resolve(paths[lib]) :\n",
       "        new Promise(function(resolve, reject) {\n",
       "          var s = document.createElement('script');\n",
       "          document.getElementsByTagName(\"head\")[0].appendChild(s);\n",
       "          s.async = true;\n",
       "          s.onload = () => {\n",
       "            VEGA_DEBUG[key] = version;\n",
       "            return resolve(paths[lib]);\n",
       "          };\n",
       "          s.onerror = () => reject(`Error loading script: ${paths[lib]}`);\n",
       "          s.src = paths[lib];\n",
       "        });\n",
       "    }\n",
       "\n",
       "    function showError(err) {\n",
       "      outputDiv.innerHTML = `<div class=\"error\" style=\"color:red;\">${err}</div>`;\n",
       "      throw err;\n",
       "    }\n",
       "\n",
       "    function displayChart(vegaEmbed) {\n",
       "      vegaEmbed(outputDiv, spec, embedOpt)\n",
       "        .catch(err => showError(`Javascript Error: ${err.message}<br>This usually means there's a typo in your chart specification. See the javascript console for the full traceback.`));\n",
       "    }\n",
       "\n",
       "    if(typeof define === \"function\" && define.amd) {\n",
       "      requirejs.config({paths});\n",
       "      require([\"vega-embed\"], displayChart, err => showError(`Error loading script: ${err.message}`));\n",
       "    } else {\n",
       "      maybeLoadScript(\"vega\", \"5\")\n",
       "        .then(() => maybeLoadScript(\"vega-lite\", \"4.17.0\"))\n",
       "        .then(() => maybeLoadScript(\"vega-embed\", \"6\"))\n",
       "        .catch(showError)\n",
       "        .then(() => displayChart(vegaEmbed));\n",
       "    }\n",
       "  })({\"config\": {\"view\": {\"continuousWidth\": 400, \"continuousHeight\": 300, \"stroke\": null}, \"facet\": {\"spacing\": 0}}, \"data\": {\"name\": \"data-da68b33892a3829376a8b6caaedbab56\"}, \"facet\": {\"column\": {\"field\": \"route_id\", \"sort\": [\"19601\", \"12867\"], \"title\": \"Route ID\", \"type\": \"nominal\"}}, \"spec\": {\"layer\": [{\"mark\": \"rule\", \"encoding\": {\"color\": {\"value\": \"black\"}, \"y\": {\"field\": \"cutoff\", \"type\": \"quantitative\"}}, \"selection\": {\"selector001\": {\"type\": \"interval\", \"bind\": \"scales\", \"encodings\": [\"x\", \"y\"]}}}, {\"mark\": {\"type\": \"point\", \"opacity\": 0.65, \"size\": 12, \"strokeWidth\": 1.1}, \"encoding\": {\"color\": {\"field\": \"time_of_day\", \"scale\": {\"range\": [\"#136C97\", \"#E16B26\", \"#F6BF16\", \"#00896B\", \"#7790A3\", \"#5B559C\"]}, \"sort\": [\"AM Peak\", \"Midday\", \"PM Peak\", \"Owl Service\"], \"title\": \"Time of Day\", \"type\": \"nominal\"}, \"tooltip\": [{\"field\": \"route_id\", \"type\": \"nominal\"}, {\"field\": \"route_name\", \"type\": \"nominal\"}, {\"field\": \"trip_id\", \"type\": \"nominal\"}, {\"field\": \"service_hours\", \"type\": \"quantitative\"}, {\"field\": \"car_duration_hours\", \"type\": \"quantitative\"}, {\"field\": \"bus_multiplier\", \"type\": \"quantitative\"}, {\"field\": \"bus_difference\", \"type\": \"quantitative\"}, {\"field\": \"num_trips\", \"type\": \"quantitative\"}, {\"field\": \"num_competitive\", \"type\": \"quantitative\"}, {\"field\": \"pct_trips_competitive\", \"type\": \"quantitative\"}, {\"field\": \"p25\", \"type\": \"quantitative\"}, {\"field\": \"p50\", \"type\": \"quantitative\"}, {\"field\": \"p75\", \"type\": \"quantitative\"}], \"x\": {\"axis\": {\"grid\": false, \"labels\": false, \"ticks\": true, \"values\": [0]}, \"field\": \"jitter\", \"scale\": {}, \"title\": null, \"type\": \"quantitative\"}, \"y\": {\"field\": \"bus_multiplier\", \"scale\": {\"domain\": [-0.25, 3.0]}, \"title\": \"Ratio of Bus to Car Travel Time\", \"type\": \"quantitative\"}}, \"transform\": [{\"calculate\": \"sqrt(-2*log(random()))*cos(2*PI*random())\", \"as\": \"jitter\"}], \"width\": 50}, {\"layer\": [{\"mark\": {\"type\": \"point\", \"opacity\": 0.6, \"size\": 20, \"strokeWidth\": 1.3}, \"encoding\": {\"color\": {\"value\": \"#323434\"}, \"y\": {\"field\": \"bus_multiplier\", \"type\": \"quantitative\"}}, \"transform\": [{\"filter\": \"(datum.p50_trip === 1)\"}]}, {\"mark\": {\"type\": \"text\", \"align\": \"center\", \"baseline\": \"middle\"}, \"encoding\": {\"color\": {\"value\": \"black\"}, \"text\": {\"field\": \"pct_trips_competitive\", \"format\": \".0%\", \"type\": \"quantitative\"}, \"tooltip\": [{\"field\": \"route_id\", \"type\": \"nominal\"}, {\"field\": \"route_name\", \"type\": \"nominal\"}, {\"field\": \"trip_id\", \"type\": \"nominal\"}, {\"field\": \"service_hours\", \"type\": \"quantitative\"}, {\"field\": \"car_duration_hours\", \"type\": \"quantitative\"}, {\"field\": \"bus_multiplier\", \"type\": \"quantitative\"}, {\"field\": \"bus_difference\", \"type\": \"quantitative\"}, {\"field\": \"num_trips\", \"type\": \"quantitative\"}, {\"field\": \"num_competitive\", \"type\": \"quantitative\"}, {\"field\": \"pct_trips_competitive\", \"type\": \"quantitative\"}, {\"field\": \"p25\", \"type\": \"quantitative\"}, {\"field\": \"p50\", \"type\": \"quantitative\"}, {\"field\": \"p75\", \"type\": \"quantitative\"}], \"x\": {\"value\": 30}, \"y\": {\"value\": 15}}, \"transform\": [{\"calculate\": \"sqrt(-2*log(random()))*cos(2*PI*random())\", \"as\": \"jitter\"}, {\"filter\": \"(datum.fastest_trip === 1)\"}]}]}]}, \"resolve\": {\"scale\": {\"y\": \"shared\"}}, \"title\": \"Ratio of Bus to Car Travel Time\", \"$schema\": \"https://vega.github.io/schema/vega-lite/v4.17.0.json\", \"datasets\": {\"data-da68b33892a3829376a8b6caaedbab56\": [{\"calitp_itp_id\": 246, \"trip_key\": -3712933218407617241, \"trip_id\": \"708\", \"shape_id\": \"p_1277433\", \"route_id\": \"12867\", \"service_hours\": 1.08, \"trip_first_departure_ts\": 57960, \"trip_last_arrival_ts\": 61860, \"departure_hour\": 16, \"time_of_day\": \"Midday\", \"p25\": 1.08, \"p50\": 1.1, \"p75\": 1.1, \"p50_trip\": 0, \"fastest_trip\": 0, \"car_duration_hours\": 0.97, \"competitive_route\": 1, \"bus_multiplier\": 1.11, \"bus_difference\": 6.6, \"num_trips\": 12, \"num_competitive\": 12, \"pct_trips_competitive\": 1.0, \"bus_difference_spread\": 1.2000000000000002, \"route_group\": \"medium\", \"max_trip_hrs\": 1.1, \"max_trip_route_group\": 1.1, \"below_cutoff\": 12, \"pct_below_cutoff\": 1.0, \"name\": \"Peninsula Corridor Joint Powers Board\", \"caltrans_district\": \"04 - Oakland\", \"drmt_organization_name\": null, \"route_name\": \"Bullet\", \"cutoff2\": 30, \"cutoff\": 2}, {\"calitp_itp_id\": 246, \"trip_key\": 136785568874585897, \"trip_id\": \"706\", \"shape_id\": \"p_1277388\", \"route_id\": \"12867\", \"service_hours\": 1.08, \"trip_first_departure_ts\": 29160, \"trip_last_arrival_ts\": 33060, \"departure_hour\": 8, \"time_of_day\": \"AM Peak\", \"p25\": 1.08, \"p50\": 1.1, \"p75\": 1.1, \"p50_trip\": 0, \"fastest_trip\": 0, \"car_duration_hours\": 0.97, \"competitive_route\": 1, \"bus_multiplier\": 1.11, \"bus_difference\": 6.6, \"num_trips\": 12, \"num_competitive\": 12, \"pct_trips_competitive\": 1.0, \"bus_difference_spread\": 1.2000000000000002, \"route_group\": \"medium\", \"max_trip_hrs\": 1.1, \"max_trip_route_group\": 1.1, \"below_cutoff\": 12, \"pct_below_cutoff\": 1.0, \"name\": \"Peninsula Corridor Joint Powers Board\", \"caltrans_district\": \"04 - Oakland\", \"drmt_organization_name\": null, \"route_name\": \"Bullet\", \"cutoff2\": 30, \"cutoff\": 2}, {\"calitp_itp_id\": 246, \"trip_key\": -347509947834498038, \"trip_id\": \"710\", \"shape_id\": \"p_1277433\", \"route_id\": \"12867\", \"service_hours\": 1.08, \"trip_first_departure_ts\": 61560, \"trip_last_arrival_ts\": 65460, \"departure_hour\": 17, \"time_of_day\": \"PM Peak\", \"p25\": 1.08, \"p50\": 1.1, \"p75\": 1.1, \"p50_trip\": 0, \"fastest_trip\": 0, \"car_duration_hours\": 0.97, \"competitive_route\": 1, \"bus_multiplier\": 1.11, \"bus_difference\": 6.6, \"num_trips\": 12, \"num_competitive\": 12, \"pct_trips_competitive\": 1.0, \"bus_difference_spread\": 1.2000000000000002, \"route_group\": \"medium\", \"max_trip_hrs\": 1.1, \"max_trip_route_group\": 1.1, \"below_cutoff\": 12, \"pct_below_cutoff\": 1.0, \"name\": \"Peninsula Corridor Joint Powers Board\", \"caltrans_district\": \"04 - Oakland\", \"drmt_organization_name\": null, \"route_name\": \"Bullet\", \"cutoff2\": 30, \"cutoff\": 2}, {\"calitp_itp_id\": 246, \"trip_key\": 9046849969465289342, \"trip_id\": \"712\", \"shape_id\": \"p_1277433\", \"route_id\": \"12867\", \"service_hours\": 1.08, \"trip_first_departure_ts\": 65160, \"trip_last_arrival_ts\": 69060, \"departure_hour\": 18, \"time_of_day\": \"PM Peak\", \"p25\": 1.08, \"p50\": 1.1, \"p75\": 1.1, \"p50_trip\": 0, \"fastest_trip\": 1, \"car_duration_hours\": 0.97, \"competitive_route\": 1, \"bus_multiplier\": 1.11, \"bus_difference\": 6.6, \"num_trips\": 12, \"num_competitive\": 12, \"pct_trips_competitive\": 1.0, \"bus_difference_spread\": 1.2000000000000002, \"route_group\": \"medium\", \"max_trip_hrs\": 1.1, \"max_trip_route_group\": 1.1, \"below_cutoff\": 12, \"pct_below_cutoff\": 1.0, \"name\": \"Peninsula Corridor Joint Powers Board\", \"caltrans_district\": \"04 - Oakland\", \"drmt_organization_name\": null, \"route_name\": \"Bullet\", \"cutoff2\": 30, \"cutoff\": 2}, {\"calitp_itp_id\": 246, \"trip_key\": 2161684919597157983, \"trip_id\": \"711\", \"shape_id\": \"p_1277387\", \"route_id\": \"12867\", \"service_hours\": 1.1, \"trip_first_departure_ts\": 64740, \"trip_last_arrival_ts\": 68700, \"departure_hour\": 17, \"time_of_day\": \"PM Peak\", \"p25\": 1.08, \"p50\": 1.1, \"p75\": 1.1, \"p50_trip\": 1, \"fastest_trip\": 0, \"car_duration_hours\": 0.97, \"competitive_route\": 1, \"bus_multiplier\": 1.13, \"bus_difference\": 7.8, \"num_trips\": 12, \"num_competitive\": 12, \"pct_trips_competitive\": 1.0, \"bus_difference_spread\": 1.2000000000000002, \"route_group\": \"medium\", \"max_trip_hrs\": 1.1, \"max_trip_route_group\": 1.1, \"below_cutoff\": 12, \"pct_below_cutoff\": 1.0, \"name\": \"Peninsula Corridor Joint Powers Board\", \"caltrans_district\": \"04 - Oakland\", \"drmt_organization_name\": null, \"route_name\": \"Bullet\", \"cutoff2\": 30, \"cutoff\": 2}, {\"calitp_itp_id\": 246, \"trip_key\": -2398720786655942030, \"trip_id\": \"704\", \"shape_id\": \"p_1277388\", \"route_id\": \"12867\", \"service_hours\": 1.1, \"trip_first_departure_ts\": 25560, \"trip_last_arrival_ts\": 29520, \"departure_hour\": 7, \"time_of_day\": \"AM Peak\", \"p25\": 1.08, \"p50\": 1.1, \"p75\": 1.1, \"p50_trip\": 1, \"fastest_trip\": 0, \"car_duration_hours\": 0.97, \"competitive_route\": 1, \"bus_multiplier\": 1.13, \"bus_difference\": 7.8, \"num_trips\": 12, \"num_competitive\": 12, \"pct_trips_competitive\": 1.0, \"bus_difference_spread\": 1.2000000000000002, \"route_group\": \"medium\", \"max_trip_hrs\": 1.1, \"max_trip_route_group\": 1.1, \"below_cutoff\": 12, \"pct_below_cutoff\": 1.0, \"name\": \"Peninsula Corridor Joint Powers Board\", \"caltrans_district\": \"04 - Oakland\", \"drmt_organization_name\": null, \"route_name\": \"Bullet\", \"cutoff2\": 30, \"cutoff\": 2}, {\"calitp_itp_id\": 246, \"trip_key\": 702326641816309491, \"trip_id\": \"705\", \"shape_id\": \"p_1277413\", \"route_id\": \"12867\", \"service_hours\": 1.1, \"trip_first_departure_ts\": 28740, \"trip_last_arrival_ts\": 32700, \"departure_hour\": 7, \"time_of_day\": \"AM Peak\", \"p25\": 1.08, \"p50\": 1.1, \"p75\": 1.1, \"p50_trip\": 1, \"fastest_trip\": 0, \"car_duration_hours\": 0.97, \"competitive_route\": 1, \"bus_multiplier\": 1.13, \"bus_difference\": 7.8, \"num_trips\": 12, \"num_competitive\": 12, \"pct_trips_competitive\": 1.0, \"bus_difference_spread\": 1.2000000000000002, \"route_group\": \"medium\", \"max_trip_hrs\": 1.1, \"max_trip_route_group\": 1.1, \"below_cutoff\": 12, \"pct_below_cutoff\": 1.0, \"name\": \"Peninsula Corridor Joint Powers Board\", \"caltrans_district\": \"04 - Oakland\", \"drmt_organization_name\": null, \"route_name\": \"Bullet\", \"cutoff2\": 30, \"cutoff\": 2}, {\"calitp_itp_id\": 246, \"trip_key\": -1089053019550801506, \"trip_id\": \"707\", \"shape_id\": \"p_1277387\", \"route_id\": \"12867\", \"service_hours\": 1.1, \"trip_first_departure_ts\": 57540, \"trip_last_arrival_ts\": 61500, \"departure_hour\": 15, \"time_of_day\": \"Midday\", \"p25\": 1.08, \"p50\": 1.1, \"p75\": 1.1, \"p50_trip\": 1, \"fastest_trip\": 0, \"car_duration_hours\": 0.97, \"competitive_route\": 1, \"bus_multiplier\": 1.13, \"bus_difference\": 7.8, \"num_trips\": 12, \"num_competitive\": 12, \"pct_trips_competitive\": 1.0, \"bus_difference_spread\": 1.2000000000000002, \"route_group\": \"medium\", \"max_trip_hrs\": 1.1, \"max_trip_route_group\": 1.1, \"below_cutoff\": 12, \"pct_below_cutoff\": 1.0, \"name\": \"Peninsula Corridor Joint Powers Board\", \"caltrans_district\": \"04 - Oakland\", \"drmt_organization_name\": null, \"route_name\": \"Bullet\", \"cutoff2\": 30, \"cutoff\": 2}, {\"calitp_itp_id\": 246, \"trip_key\": -6553605669663007201, \"trip_id\": \"703\", \"shape_id\": \"p_1277413\", \"route_id\": \"12867\", \"service_hours\": 1.1, \"trip_first_departure_ts\": 25140, \"trip_last_arrival_ts\": 29100, \"departure_hour\": 6, \"time_of_day\": \"Owl Service\", \"p25\": 1.08, \"p50\": 1.1, \"p75\": 1.1, \"p50_trip\": 1, \"fastest_trip\": 0, \"car_duration_hours\": 0.97, \"competitive_route\": 1, \"bus_multiplier\": 1.13, \"bus_difference\": 7.8, \"num_trips\": 12, \"num_competitive\": 12, \"pct_trips_competitive\": 1.0, \"bus_difference_spread\": 1.2000000000000002, \"route_group\": \"medium\", \"max_trip_hrs\": 1.1, \"max_trip_route_group\": 1.1, \"below_cutoff\": 12, \"pct_below_cutoff\": 1.0, \"name\": \"Peninsula Corridor Joint Powers Board\", \"caltrans_district\": \"04 - Oakland\", \"drmt_organization_name\": null, \"route_name\": \"Bullet\", \"cutoff2\": 30, \"cutoff\": 2}, {\"calitp_itp_id\": 246, \"trip_key\": -7094297710612193942, \"trip_id\": \"702\", \"shape_id\": \"p_1277388\", \"route_id\": \"12867\", \"service_hours\": 1.1, \"trip_first_departure_ts\": 21960, \"trip_last_arrival_ts\": 25920, \"departure_hour\": 6, \"time_of_day\": \"Owl Service\", \"p25\": 1.08, \"p50\": 1.1, \"p75\": 1.1, \"p50_trip\": 1, \"fastest_trip\": 0, \"car_duration_hours\": 0.97, \"competitive_route\": 1, \"bus_multiplier\": 1.13, \"bus_difference\": 7.8, \"num_trips\": 12, \"num_competitive\": 12, \"pct_trips_competitive\": 1.0, \"bus_difference_spread\": 1.2000000000000002, \"route_group\": \"medium\", \"max_trip_hrs\": 1.1, \"max_trip_route_group\": 1.1, \"below_cutoff\": 12, \"pct_below_cutoff\": 1.0, \"name\": \"Peninsula Corridor Joint Powers Board\", \"caltrans_district\": \"04 - Oakland\", \"drmt_organization_name\": null, \"route_name\": \"Bullet\", \"cutoff2\": 30, \"cutoff\": 2}, {\"calitp_itp_id\": 246, \"trip_key\": -7470321154795650450, \"trip_id\": \"709\", \"shape_id\": \"p_1277387\", \"route_id\": \"12867\", \"service_hours\": 1.1, \"trip_first_departure_ts\": 61140, \"trip_last_arrival_ts\": 65100, \"departure_hour\": 16, \"time_of_day\": \"Midday\", \"p25\": 1.08, \"p50\": 1.1, \"p75\": 1.1, \"p50_trip\": 1, \"fastest_trip\": 0, \"car_duration_hours\": 0.97, \"competitive_route\": 1, \"bus_multiplier\": 1.13, \"bus_difference\": 7.8, \"num_trips\": 12, \"num_competitive\": 12, \"pct_trips_competitive\": 1.0, \"bus_difference_spread\": 1.2000000000000002, \"route_group\": \"medium\", \"max_trip_hrs\": 1.1, \"max_trip_route_group\": 1.1, \"below_cutoff\": 12, \"pct_below_cutoff\": 1.0, \"name\": \"Peninsula Corridor Joint Powers Board\", \"caltrans_district\": \"04 - Oakland\", \"drmt_organization_name\": null, \"route_name\": \"Bullet\", \"cutoff2\": 30, \"cutoff\": 2}, {\"calitp_itp_id\": 246, \"trip_key\": 8482997763863316294, \"trip_id\": \"701\", \"shape_id\": \"p_1277413\", \"route_id\": \"12867\", \"service_hours\": 1.1, \"trip_first_departure_ts\": 21540, \"trip_last_arrival_ts\": 25500, \"departure_hour\": 5, \"time_of_day\": \"Owl Service\", \"p25\": 1.08, \"p50\": 1.1, \"p75\": 1.1, \"p50_trip\": 1, \"fastest_trip\": 0, \"car_duration_hours\": 0.97, \"competitive_route\": 1, \"bus_multiplier\": 1.13, \"bus_difference\": 7.8, \"num_trips\": 12, \"num_competitive\": 12, \"pct_trips_competitive\": 1.0, \"bus_difference_spread\": 1.2000000000000002, \"route_group\": \"medium\", \"max_trip_hrs\": 1.1, \"max_trip_route_group\": 1.1, \"below_cutoff\": 12, \"pct_below_cutoff\": 1.0, \"name\": \"Peninsula Corridor Joint Powers Board\", \"caltrans_district\": \"04 - Oakland\", \"drmt_organization_name\": null, \"route_name\": \"Bullet\", \"cutoff2\": 30, \"cutoff\": 2}, {\"calitp_itp_id\": 246, \"trip_key\": 9149517822258321180, \"trip_id\": \"502\", \"shape_id\": \"p_1277350\", \"route_id\": \"19601\", \"service_hours\": 1.22, \"trip_first_departure_ts\": 19800, \"trip_last_arrival_ts\": 24180, \"departure_hour\": 5, \"time_of_day\": \"Owl Service\", \"p25\": 1.23, \"p50\": 1.23, \"p75\": 1.23, \"p50_trip\": 0, \"fastest_trip\": 1, \"car_duration_hours\": 1.22, \"competitive_route\": 1, \"bus_multiplier\": 1.0, \"bus_difference\": 0.0, \"num_trips\": 17, \"num_competitive\": 17, \"pct_trips_competitive\": 1.0, \"bus_difference_spread\": 6.6, \"route_group\": \"medium\", \"max_trip_hrs\": 1.33, \"max_trip_route_group\": 1.33, \"below_cutoff\": 17, \"pct_below_cutoff\": 1.0, \"name\": \"Peninsula Corridor Joint Powers Board\", \"caltrans_district\": \"04 - Oakland\", \"drmt_organization_name\": null, \"route_name\": \"Ltd 5\", \"cutoff2\": 30, \"cutoff\": 2}, {\"calitp_itp_id\": 246, \"trip_key\": -3265062529563700995, \"trip_id\": \"511\", \"shape_id\": \"p_1277345\", \"route_id\": \"19601\", \"service_hours\": 1.23, \"trip_first_departure_ts\": 49380, \"trip_last_arrival_ts\": 53820, \"departure_hour\": 13, \"time_of_day\": \"Midday\", \"p25\": 1.23, \"p50\": 1.23, \"p75\": 1.23, \"p50_trip\": 1, \"fastest_trip\": 0, \"car_duration_hours\": 1.22, \"competitive_route\": 1, \"bus_multiplier\": 1.01, \"bus_difference\": 0.6, \"num_trips\": 17, \"num_competitive\": 17, \"pct_trips_competitive\": 1.0, \"bus_difference_spread\": 6.6, \"route_group\": \"medium\", \"max_trip_hrs\": 1.33, \"max_trip_route_group\": 1.33, \"below_cutoff\": 17, \"pct_below_cutoff\": 1.0, \"name\": \"Peninsula Corridor Joint Powers Board\", \"caltrans_district\": \"04 - Oakland\", \"drmt_organization_name\": null, \"route_name\": \"Ltd 5\", \"cutoff2\": 30, \"cutoff\": 2}, {\"calitp_itp_id\": 246, \"trip_key\": -6963403278907329206, \"trip_id\": \"504\", \"shape_id\": \"p_1277350\", \"route_id\": \"19601\", \"service_hours\": 1.23, \"trip_first_departure_ts\": 33240, \"trip_last_arrival_ts\": 37680, \"departure_hour\": 9, \"time_of_day\": \"AM Peak\", \"p25\": 1.23, \"p50\": 1.23, \"p75\": 1.23, \"p50_trip\": 1, \"fastest_trip\": 0, \"car_duration_hours\": 1.22, \"competitive_route\": 1, \"bus_multiplier\": 1.01, \"bus_difference\": 0.6, \"num_trips\": 17, \"num_competitive\": 17, \"pct_trips_competitive\": 1.0, \"bus_difference_spread\": 6.6, \"route_group\": \"medium\", \"max_trip_hrs\": 1.33, \"max_trip_route_group\": 1.33, \"below_cutoff\": 17, \"pct_below_cutoff\": 1.0, \"name\": \"Peninsula Corridor Joint Powers Board\", \"caltrans_district\": \"04 - Oakland\", \"drmt_organization_name\": null, \"route_name\": \"Ltd 5\", \"cutoff2\": 30, \"cutoff\": 2}, {\"calitp_itp_id\": 246, \"trip_key\": 7008740332156166630, \"trip_id\": \"516\", \"shape_id\": \"p_1277350\", \"route_id\": \"19601\", \"service_hours\": 1.23, \"trip_first_departure_ts\": 69240, \"trip_last_arrival_ts\": 73680, \"departure_hour\": 19, \"time_of_day\": \"PM Peak\", \"p25\": 1.23, \"p50\": 1.23, \"p75\": 1.23, \"p50_trip\": 1, \"fastest_trip\": 0, \"car_duration_hours\": 1.22, \"competitive_route\": 1, \"bus_multiplier\": 1.01, \"bus_difference\": 0.6, \"num_trips\": 17, \"num_competitive\": 17, \"pct_trips_competitive\": 1.0, \"bus_difference_spread\": 6.6, \"route_group\": \"medium\", \"max_trip_hrs\": 1.33, \"max_trip_route_group\": 1.33, \"below_cutoff\": 17, \"pct_below_cutoff\": 1.0, \"name\": \"Peninsula Corridor Joint Powers Board\", \"caltrans_district\": \"04 - Oakland\", \"drmt_organization_name\": null, \"route_name\": \"Ltd 5\", \"cutoff2\": 30, \"cutoff\": 2}, {\"calitp_itp_id\": 246, \"trip_key\": -2304653092082877345, \"trip_id\": \"506\", \"shape_id\": \"p_1277350\", \"route_id\": \"19601\", \"service_hours\": 1.23, \"trip_first_departure_ts\": 36840, \"trip_last_arrival_ts\": 41280, \"departure_hour\": 10, \"time_of_day\": \"Midday\", \"p25\": 1.23, \"p50\": 1.23, \"p75\": 1.23, \"p50_trip\": 1, \"fastest_trip\": 0, \"car_duration_hours\": 1.22, \"competitive_route\": 1, \"bus_multiplier\": 1.01, \"bus_difference\": 0.6, \"num_trips\": 17, \"num_competitive\": 17, \"pct_trips_competitive\": 1.0, \"bus_difference_spread\": 6.6, \"route_group\": \"medium\", \"max_trip_hrs\": 1.33, \"max_trip_route_group\": 1.33, \"below_cutoff\": 17, \"pct_below_cutoff\": 1.0, \"name\": \"Peninsula Corridor Joint Powers Board\", \"caltrans_district\": \"04 - Oakland\", \"drmt_organization_name\": null, \"route_name\": \"Ltd 5\", \"cutoff2\": 30, \"cutoff\": 2}, {\"calitp_itp_id\": 246, \"trip_key\": 955322695236507663, \"trip_id\": \"507\", \"shape_id\": \"p_1277345\", \"route_id\": \"19601\", \"service_hours\": 1.23, \"trip_first_departure_ts\": 42180, \"trip_last_arrival_ts\": 46620, \"departure_hour\": 11, \"time_of_day\": \"Midday\", \"p25\": 1.23, \"p50\": 1.23, \"p75\": 1.23, \"p50_trip\": 1, \"fastest_trip\": 0, \"car_duration_hours\": 1.22, \"competitive_route\": 1, \"bus_multiplier\": 1.01, \"bus_difference\": 0.6, \"num_trips\": 17, \"num_competitive\": 17, \"pct_trips_competitive\": 1.0, \"bus_difference_spread\": 6.6, \"route_group\": \"medium\", \"max_trip_hrs\": 1.33, \"max_trip_route_group\": 1.33, \"below_cutoff\": 17, \"pct_below_cutoff\": 1.0, \"name\": \"Peninsula Corridor Joint Powers Board\", \"caltrans_district\": \"04 - Oakland\", \"drmt_organization_name\": null, \"route_name\": \"Ltd 5\", \"cutoff2\": 30, \"cutoff\": 2}, {\"calitp_itp_id\": 246, \"trip_key\": 2880390379151674985, \"trip_id\": \"514\", \"shape_id\": \"p_1277350\", \"route_id\": \"19601\", \"service_hours\": 1.23, \"trip_first_departure_ts\": 51240, \"trip_last_arrival_ts\": 55680, \"departure_hour\": 14, \"time_of_day\": \"Midday\", \"p25\": 1.23, \"p50\": 1.23, \"p75\": 1.23, \"p50_trip\": 1, \"fastest_trip\": 0, \"car_duration_hours\": 1.22, \"competitive_route\": 1, \"bus_multiplier\": 1.01, \"bus_difference\": 0.6, \"num_trips\": 17, \"num_competitive\": 17, \"pct_trips_competitive\": 1.0, \"bus_difference_spread\": 6.6, \"route_group\": \"medium\", \"max_trip_hrs\": 1.33, \"max_trip_route_group\": 1.33, \"below_cutoff\": 17, \"pct_below_cutoff\": 1.0, \"name\": \"Peninsula Corridor Joint Powers Board\", \"caltrans_district\": \"04 - Oakland\", \"drmt_organization_name\": null, \"route_name\": \"Ltd 5\", \"cutoff2\": 30, \"cutoff\": 2}, {\"calitp_itp_id\": 246, \"trip_key\": 553268175740742960, \"trip_id\": \"503\", \"shape_id\": \"p_1277345\", \"route_id\": \"19601\", \"service_hours\": 1.23, \"trip_first_departure_ts\": 34980, \"trip_last_arrival_ts\": 39420, \"departure_hour\": 9, \"time_of_day\": \"AM Peak\", \"p25\": 1.23, \"p50\": 1.23, \"p75\": 1.23, \"p50_trip\": 1, \"fastest_trip\": 0, \"car_duration_hours\": 1.22, \"competitive_route\": 1, \"bus_multiplier\": 1.01, \"bus_difference\": 0.6, \"num_trips\": 17, \"num_competitive\": 17, \"pct_trips_competitive\": 1.0, \"bus_difference_spread\": 6.6, \"route_group\": \"medium\", \"max_trip_hrs\": 1.33, \"max_trip_route_group\": 1.33, \"below_cutoff\": 17, \"pct_below_cutoff\": 1.0, \"name\": \"Peninsula Corridor Joint Powers Board\", \"caltrans_district\": \"04 - Oakland\", \"drmt_organization_name\": null, \"route_name\": \"Ltd 5\", \"cutoff2\": 30, \"cutoff\": 2}, {\"calitp_itp_id\": 246, \"trip_key\": -4721818240216371953, \"trip_id\": \"510\", \"shape_id\": \"p_1277350\", \"route_id\": \"19601\", \"service_hours\": 1.23, \"trip_first_departure_ts\": 44040, \"trip_last_arrival_ts\": 48480, \"departure_hour\": 12, \"time_of_day\": \"Midday\", \"p25\": 1.23, \"p50\": 1.23, \"p75\": 1.23, \"p50_trip\": 1, \"fastest_trip\": 0, \"car_duration_hours\": 1.22, \"competitive_route\": 1, \"bus_multiplier\": 1.01, \"bus_difference\": 0.6, \"num_trips\": 17, \"num_competitive\": 17, \"pct_trips_competitive\": 1.0, \"bus_difference_spread\": 6.6, \"route_group\": \"medium\", \"max_trip_hrs\": 1.33, \"max_trip_route_group\": 1.33, \"below_cutoff\": 17, \"pct_below_cutoff\": 1.0, \"name\": \"Peninsula Corridor Joint Powers Board\", \"caltrans_district\": \"04 - Oakland\", \"drmt_organization_name\": null, \"route_name\": \"Ltd 5\", \"cutoff2\": 30, \"cutoff\": 2}, {\"calitp_itp_id\": 246, \"trip_key\": -4931343439422682093, \"trip_id\": \"512\", \"shape_id\": \"p_1277350\", \"route_id\": \"19601\", \"service_hours\": 1.23, \"trip_first_departure_ts\": 47640, \"trip_last_arrival_ts\": 52080, \"departure_hour\": 13, \"time_of_day\": \"Midday\", \"p25\": 1.23, \"p50\": 1.23, \"p75\": 1.23, \"p50_trip\": 1, \"fastest_trip\": 0, \"car_duration_hours\": 1.22, \"competitive_route\": 1, \"bus_multiplier\": 1.01, \"bus_difference\": 0.6, \"num_trips\": 17, \"num_competitive\": 17, \"pct_trips_competitive\": 1.0, \"bus_difference_spread\": 6.6, \"route_group\": \"medium\", \"max_trip_hrs\": 1.33, \"max_trip_route_group\": 1.33, \"below_cutoff\": 17, \"pct_below_cutoff\": 1.0, \"name\": \"Peninsula Corridor Joint Powers Board\", \"caltrans_district\": \"04 - Oakland\", \"drmt_organization_name\": null, \"route_name\": \"Ltd 5\", \"cutoff2\": 30, \"cutoff\": 2}, {\"calitp_itp_id\": 246, \"trip_key\": -9121745674402020511, \"trip_id\": \"515\", \"shape_id\": \"p_1277345\", \"route_id\": \"19601\", \"service_hours\": 1.23, \"trip_first_departure_ts\": 70980, \"trip_last_arrival_ts\": 75420, \"departure_hour\": 19, \"time_of_day\": \"PM Peak\", \"p25\": 1.23, \"p50\": 1.23, \"p75\": 1.23, \"p50_trip\": 1, \"fastest_trip\": 0, \"car_duration_hours\": 1.22, \"competitive_route\": 1, \"bus_multiplier\": 1.01, \"bus_difference\": 0.6, \"num_trips\": 17, \"num_competitive\": 17, \"pct_trips_competitive\": 1.0, \"bus_difference_spread\": 6.6, \"route_group\": \"medium\", \"max_trip_hrs\": 1.33, \"max_trip_route_group\": 1.33, \"below_cutoff\": 17, \"pct_below_cutoff\": 1.0, \"name\": \"Peninsula Corridor Joint Powers Board\", \"caltrans_district\": \"04 - Oakland\", \"drmt_organization_name\": null, \"route_name\": \"Ltd 5\", \"cutoff2\": 30, \"cutoff\": 2}, {\"calitp_itp_id\": 246, \"trip_key\": -3589814024653243936, \"trip_id\": \"509\", \"shape_id\": \"p_1277345\", \"route_id\": \"19601\", \"service_hours\": 1.23, \"trip_first_departure_ts\": 45780, \"trip_last_arrival_ts\": 50220, \"departure_hour\": 12, \"time_of_day\": \"Midday\", \"p25\": 1.23, \"p50\": 1.23, \"p75\": 1.23, \"p50_trip\": 1, \"fastest_trip\": 0, \"car_duration_hours\": 1.22, \"competitive_route\": 1, \"bus_multiplier\": 1.01, \"bus_difference\": 0.6, \"num_trips\": 17, \"num_competitive\": 17, \"pct_trips_competitive\": 1.0, \"bus_difference_spread\": 6.6, \"route_group\": \"medium\", \"max_trip_hrs\": 1.33, \"max_trip_route_group\": 1.33, \"below_cutoff\": 17, \"pct_below_cutoff\": 1.0, \"name\": \"Peninsula Corridor Joint Powers Board\", \"caltrans_district\": \"04 - Oakland\", \"drmt_organization_name\": null, \"route_name\": \"Ltd 5\", \"cutoff2\": 30, \"cutoff\": 2}, {\"calitp_itp_id\": 246, \"trip_key\": 1164964554527929344, \"trip_id\": \"518\", \"shape_id\": \"p_1277350\", \"route_id\": \"19601\", \"service_hours\": 1.23, \"trip_first_departure_ts\": 72840, \"trip_last_arrival_ts\": 77280, \"departure_hour\": 20, \"time_of_day\": \"Owl Service\", \"p25\": 1.23, \"p50\": 1.23, \"p75\": 1.23, \"p50_trip\": 1, \"fastest_trip\": 0, \"car_duration_hours\": 1.22, \"competitive_route\": 1, \"bus_multiplier\": 1.01, \"bus_difference\": 0.6, \"num_trips\": 17, \"num_competitive\": 17, \"pct_trips_competitive\": 1.0, \"bus_difference_spread\": 6.6, \"route_group\": \"medium\", \"max_trip_hrs\": 1.33, \"max_trip_route_group\": 1.33, \"below_cutoff\": 17, \"pct_below_cutoff\": 1.0, \"name\": \"Peninsula Corridor Joint Powers Board\", \"caltrans_district\": \"04 - Oakland\", \"drmt_organization_name\": null, \"route_name\": \"Ltd 5\", \"cutoff2\": 30, \"cutoff\": 2}, {\"calitp_itp_id\": 246, \"trip_key\": -2895236252452015639, \"trip_id\": \"513\", \"shape_id\": \"p_1277345\", \"route_id\": \"19601\", \"service_hours\": 1.23, \"trip_first_departure_ts\": 52980, \"trip_last_arrival_ts\": 57420, \"departure_hour\": 14, \"time_of_day\": \"Midday\", \"p25\": 1.23, \"p50\": 1.23, \"p75\": 1.23, \"p50_trip\": 1, \"fastest_trip\": 0, \"car_duration_hours\": 1.22, \"competitive_route\": 1, \"bus_multiplier\": 1.01, \"bus_difference\": 0.6, \"num_trips\": 17, \"num_competitive\": 17, \"pct_trips_competitive\": 1.0, \"bus_difference_spread\": 6.6, \"route_group\": \"medium\", \"max_trip_hrs\": 1.33, \"max_trip_route_group\": 1.33, \"below_cutoff\": 17, \"pct_below_cutoff\": 1.0, \"name\": \"Peninsula Corridor Joint Powers Board\", \"caltrans_district\": \"04 - Oakland\", \"drmt_organization_name\": null, \"route_name\": \"Ltd 5\", \"cutoff2\": 30, \"cutoff\": 2}, {\"calitp_itp_id\": 246, \"trip_key\": -3606529219655603771, \"trip_id\": \"508\", \"shape_id\": \"p_1277350\", \"route_id\": \"19601\", \"service_hours\": 1.23, \"trip_first_departure_ts\": 40440, \"trip_last_arrival_ts\": 44880, \"departure_hour\": 11, \"time_of_day\": \"Midday\", \"p25\": 1.23, \"p50\": 1.23, \"p75\": 1.23, \"p50_trip\": 1, \"fastest_trip\": 0, \"car_duration_hours\": 1.22, \"competitive_route\": 1, \"bus_multiplier\": 1.01, \"bus_difference\": 0.6, \"num_trips\": 17, \"num_competitive\": 17, \"pct_trips_competitive\": 1.0, \"bus_difference_spread\": 6.6, \"route_group\": \"medium\", \"max_trip_hrs\": 1.33, \"max_trip_route_group\": 1.33, \"below_cutoff\": 17, \"pct_below_cutoff\": 1.0, \"name\": \"Peninsula Corridor Joint Powers Board\", \"caltrans_district\": \"04 - Oakland\", \"drmt_organization_name\": null, \"route_name\": \"Ltd 5\", \"cutoff2\": 30, \"cutoff\": 2}, {\"calitp_itp_id\": 246, \"trip_key\": 1744670112445261467, \"trip_id\": \"505\", \"shape_id\": \"p_1277345\", \"route_id\": \"19601\", \"service_hours\": 1.23, \"trip_first_departure_ts\": 38580, \"trip_last_arrival_ts\": 43020, \"departure_hour\": 10, \"time_of_day\": \"Midday\", \"p25\": 1.23, \"p50\": 1.23, \"p75\": 1.23, \"p50_trip\": 1, \"fastest_trip\": 0, \"car_duration_hours\": 1.22, \"competitive_route\": 1, \"bus_multiplier\": 1.01, \"bus_difference\": 0.6, \"num_trips\": 17, \"num_competitive\": 17, \"pct_trips_competitive\": 1.0, \"bus_difference_spread\": 6.6, \"route_group\": \"medium\", \"max_trip_hrs\": 1.33, \"max_trip_route_group\": 1.33, \"below_cutoff\": 17, \"pct_below_cutoff\": 1.0, \"name\": \"Peninsula Corridor Joint Powers Board\", \"caltrans_district\": \"04 - Oakland\", \"drmt_organization_name\": null, \"route_name\": \"Ltd 5\", \"cutoff2\": 30, \"cutoff\": 2}, {\"calitp_itp_id\": 246, \"trip_key\": -3300211462706906779, \"trip_id\": \"501\", \"shape_id\": \"p_1277346\", \"route_id\": \"19601\", \"service_hours\": 1.33, \"trip_first_departure_ts\": 18120, \"trip_last_arrival_ts\": 22920, \"departure_hour\": 5, \"time_of_day\": \"Owl Service\", \"p25\": 1.23, \"p50\": 1.23, \"p75\": 1.23, \"p50_trip\": 0, \"fastest_trip\": 0, \"car_duration_hours\": 1.22, \"competitive_route\": 1, \"bus_multiplier\": 1.09, \"bus_difference\": 6.6, \"num_trips\": 17, \"num_competitive\": 17, \"pct_trips_competitive\": 1.0, \"bus_difference_spread\": 6.6, \"route_group\": \"medium\", \"max_trip_hrs\": 1.33, \"max_trip_route_group\": 1.33, \"below_cutoff\": 17, \"pct_below_cutoff\": 1.0, \"name\": \"Peninsula Corridor Joint Powers Board\", \"caltrans_district\": \"04 - Oakland\", \"drmt_organization_name\": null, \"route_name\": \"Ltd 5\", \"cutoff2\": 30, \"cutoff\": 2}]}}, {\"mode\": \"vega-lite\"});\n",
       "</script>"
      ],
      "text/plain": [
       "alt.FacetChart(...)"
      ]
     },
     "metadata": {},
     "output_type": "display_data"
    },
    {
     "data": {
      "text/html": [
       "\n",
       "<div id=\"altair-viz-67abe6787ed94991ad1e72e08b00c8ea\"></div>\n",
       "<script type=\"text/javascript\">\n",
       "  var VEGA_DEBUG = (typeof VEGA_DEBUG == \"undefined\") ? {} : VEGA_DEBUG;\n",
       "  (function(spec, embedOpt){\n",
       "    let outputDiv = document.currentScript.previousElementSibling;\n",
       "    if (outputDiv.id !== \"altair-viz-67abe6787ed94991ad1e72e08b00c8ea\") {\n",
       "      outputDiv = document.getElementById(\"altair-viz-67abe6787ed94991ad1e72e08b00c8ea\");\n",
       "    }\n",
       "    const paths = {\n",
       "      \"vega\": \"https://cdn.jsdelivr.net/npm//vega@5?noext\",\n",
       "      \"vega-lib\": \"https://cdn.jsdelivr.net/npm//vega-lib?noext\",\n",
       "      \"vega-lite\": \"https://cdn.jsdelivr.net/npm//vega-lite@4.17.0?noext\",\n",
       "      \"vega-embed\": \"https://cdn.jsdelivr.net/npm//vega-embed@6?noext\",\n",
       "    };\n",
       "\n",
       "    function maybeLoadScript(lib, version) {\n",
       "      var key = `${lib.replace(\"-\", \"\")}_version`;\n",
       "      return (VEGA_DEBUG[key] == version) ?\n",
       "        Promise.resolve(paths[lib]) :\n",
       "        new Promise(function(resolve, reject) {\n",
       "          var s = document.createElement('script');\n",
       "          document.getElementsByTagName(\"head\")[0].appendChild(s);\n",
       "          s.async = true;\n",
       "          s.onload = () => {\n",
       "            VEGA_DEBUG[key] = version;\n",
       "            return resolve(paths[lib]);\n",
       "          };\n",
       "          s.onerror = () => reject(`Error loading script: ${paths[lib]}`);\n",
       "          s.src = paths[lib];\n",
       "        });\n",
       "    }\n",
       "\n",
       "    function showError(err) {\n",
       "      outputDiv.innerHTML = `<div class=\"error\" style=\"color:red;\">${err}</div>`;\n",
       "      throw err;\n",
       "    }\n",
       "\n",
       "    function displayChart(vegaEmbed) {\n",
       "      vegaEmbed(outputDiv, spec, embedOpt)\n",
       "        .catch(err => showError(`Javascript Error: ${err.message}<br>This usually means there's a typo in your chart specification. See the javascript console for the full traceback.`));\n",
       "    }\n",
       "\n",
       "    if(typeof define === \"function\" && define.amd) {\n",
       "      requirejs.config({paths});\n",
       "      require([\"vega-embed\"], displayChart, err => showError(`Error loading script: ${err.message}`));\n",
       "    } else {\n",
       "      maybeLoadScript(\"vega\", \"5\")\n",
       "        .then(() => maybeLoadScript(\"vega-lite\", \"4.17.0\"))\n",
       "        .then(() => maybeLoadScript(\"vega-embed\", \"6\"))\n",
       "        .catch(showError)\n",
       "        .then(() => displayChart(vegaEmbed));\n",
       "    }\n",
       "  })({\"config\": {\"view\": {\"continuousWidth\": 400, \"continuousHeight\": 300, \"stroke\": null}, \"facet\": {\"spacing\": 0}}, \"data\": {\"name\": \"data-e2bce3be46bb702ad9dd7900801999b8\"}, \"facet\": {\"column\": {\"field\": \"route_id\", \"sort\": [\"19601\", \"12867\"], \"title\": \"Route ID\", \"type\": \"nominal\"}}, \"spec\": {\"layer\": [{\"mark\": \"rule\", \"encoding\": {\"color\": {\"value\": \"black\"}, \"y\": {\"field\": \"cutoff\", \"type\": \"quantitative\"}}, \"selection\": {\"selector002\": {\"type\": \"interval\", \"bind\": \"scales\", \"encodings\": [\"x\", \"y\"]}}}, {\"mark\": {\"type\": \"rule\", \"strokeDash\": [3, 3]}, \"encoding\": {\"color\": {\"value\": \"#323434\"}, \"y\": {\"field\": \"cutoff2\", \"type\": \"quantitative\"}}}, {\"mark\": {\"type\": \"point\", \"opacity\": 0.65, \"size\": 12, \"strokeWidth\": 1.1}, \"encoding\": {\"color\": {\"field\": \"time_of_day\", \"scale\": {\"range\": [\"#136C97\", \"#E16B26\", \"#F6BF16\", \"#00896B\", \"#7790A3\", \"#5B559C\"]}, \"sort\": [\"AM Peak\", \"Midday\", \"PM Peak\", \"Owl Service\"], \"title\": \"Time of Day\", \"type\": \"nominal\"}, \"tooltip\": [{\"field\": \"route_id\", \"type\": \"nominal\"}, {\"field\": \"route_name\", \"type\": \"nominal\"}, {\"field\": \"trip_id\", \"type\": \"nominal\"}, {\"field\": \"service_hours\", \"type\": \"quantitative\"}, {\"field\": \"car_duration_hours\", \"type\": \"quantitative\"}, {\"field\": \"bus_multiplier\", \"type\": \"quantitative\"}, {\"field\": \"bus_difference\", \"type\": \"quantitative\"}, {\"field\": \"num_trips\", \"type\": \"quantitative\"}, {\"field\": \"num_competitive\", \"type\": \"quantitative\"}, {\"field\": \"pct_trips_competitive\", \"type\": \"quantitative\"}, {\"field\": \"p25\", \"type\": \"quantitative\"}, {\"field\": \"p50\", \"type\": \"quantitative\"}, {\"field\": \"p75\", \"type\": \"quantitative\"}], \"x\": {\"axis\": {\"grid\": false, \"labels\": false, \"ticks\": true, \"values\": [0]}, \"field\": \"jitter\", \"scale\": {}, \"title\": null, \"type\": \"quantitative\"}, \"y\": {\"field\": \"bus_difference\", \"scale\": {\"domain\": [-8.4, 48.0]}, \"title\": \"Difference in Bus to Car Travel Time (min)\", \"type\": \"quantitative\"}}, \"transform\": [{\"calculate\": \"sqrt(-2*log(random()))*cos(2*PI*random())\", \"as\": \"jitter\"}], \"width\": 50}, {\"layer\": [{\"mark\": {\"type\": \"point\", \"opacity\": 0.6, \"size\": 20, \"strokeWidth\": 1.3}, \"encoding\": {\"color\": {\"value\": \"#323434\"}, \"y\": {\"field\": \"bus_difference\", \"type\": \"quantitative\"}}, \"transform\": [{\"filter\": \"(datum.p50_trip === 1)\"}]}, {\"mark\": {\"type\": \"text\", \"align\": \"center\", \"baseline\": \"middle\"}, \"encoding\": {\"color\": {\"value\": \"black\"}, \"text\": {\"field\": \"pct_trips_competitive\", \"format\": \".0%\", \"type\": \"quantitative\"}, \"tooltip\": [{\"field\": \"route_id\", \"type\": \"nominal\"}, {\"field\": \"route_name\", \"type\": \"nominal\"}, {\"field\": \"trip_id\", \"type\": \"nominal\"}, {\"field\": \"service_hours\", \"type\": \"quantitative\"}, {\"field\": \"car_duration_hours\", \"type\": \"quantitative\"}, {\"field\": \"bus_multiplier\", \"type\": \"quantitative\"}, {\"field\": \"bus_difference\", \"type\": \"quantitative\"}, {\"field\": \"num_trips\", \"type\": \"quantitative\"}, {\"field\": \"num_competitive\", \"type\": \"quantitative\"}, {\"field\": \"pct_trips_competitive\", \"type\": \"quantitative\"}, {\"field\": \"p25\", \"type\": \"quantitative\"}, {\"field\": \"p50\", \"type\": \"quantitative\"}, {\"field\": \"p75\", \"type\": \"quantitative\"}], \"x\": {\"value\": 30}, \"y\": {\"value\": 15}}, \"transform\": [{\"calculate\": \"sqrt(-2*log(random()))*cos(2*PI*random())\", \"as\": \"jitter\"}, {\"filter\": \"(datum.fastest_trip === 1)\"}]}]}]}, \"resolve\": {\"scale\": {\"y\": \"shared\"}}, \"title\": \"Difference in Bus to Car Travel Time (min)\", \"$schema\": \"https://vega.github.io/schema/vega-lite/v4.17.0.json\", \"datasets\": {\"data-e2bce3be46bb702ad9dd7900801999b8\": [{\"calitp_itp_id\": 246, \"trip_key\": -3712933218407617241, \"trip_id\": \"708\", \"shape_id\": \"p_1277433\", \"route_id\": \"12867\", \"service_hours\": 1.08, \"trip_first_departure_ts\": 57960, \"trip_last_arrival_ts\": 61860, \"departure_hour\": 16, \"time_of_day\": \"Midday\", \"p25\": 1.08, \"p50\": 1.1, \"p75\": 1.1, \"p50_trip\": 0, \"fastest_trip\": 0, \"car_duration_hours\": 0.97, \"competitive_route\": 1, \"bus_multiplier\": 1.11, \"bus_difference\": 6.6, \"num_trips\": 12, \"num_competitive\": 12, \"pct_trips_competitive\": 1.0, \"bus_difference_spread\": 1.2000000000000002, \"route_group\": \"medium\", \"max_trip_hrs\": 1.1, \"max_trip_route_group\": 1.1, \"below_cutoff\": 12, \"pct_below_cutoff\": 1.0, \"name\": \"Peninsula Corridor Joint Powers Board\", \"caltrans_district\": \"04 - Oakland\", \"drmt_organization_name\": null, \"route_name\": \"Bullet\", \"cutoff2\": 30, \"cutoff\": 0}, {\"calitp_itp_id\": 246, \"trip_key\": 136785568874585897, \"trip_id\": \"706\", \"shape_id\": \"p_1277388\", \"route_id\": \"12867\", \"service_hours\": 1.08, \"trip_first_departure_ts\": 29160, \"trip_last_arrival_ts\": 33060, \"departure_hour\": 8, \"time_of_day\": \"AM Peak\", \"p25\": 1.08, \"p50\": 1.1, \"p75\": 1.1, \"p50_trip\": 0, \"fastest_trip\": 0, \"car_duration_hours\": 0.97, \"competitive_route\": 1, \"bus_multiplier\": 1.11, \"bus_difference\": 6.6, \"num_trips\": 12, \"num_competitive\": 12, \"pct_trips_competitive\": 1.0, \"bus_difference_spread\": 1.2000000000000002, \"route_group\": \"medium\", \"max_trip_hrs\": 1.1, \"max_trip_route_group\": 1.1, \"below_cutoff\": 12, \"pct_below_cutoff\": 1.0, \"name\": \"Peninsula Corridor Joint Powers Board\", \"caltrans_district\": \"04 - Oakland\", \"drmt_organization_name\": null, \"route_name\": \"Bullet\", \"cutoff2\": 30, \"cutoff\": 0}, {\"calitp_itp_id\": 246, \"trip_key\": -347509947834498038, \"trip_id\": \"710\", \"shape_id\": \"p_1277433\", \"route_id\": \"12867\", \"service_hours\": 1.08, \"trip_first_departure_ts\": 61560, \"trip_last_arrival_ts\": 65460, \"departure_hour\": 17, \"time_of_day\": \"PM Peak\", \"p25\": 1.08, \"p50\": 1.1, \"p75\": 1.1, \"p50_trip\": 0, \"fastest_trip\": 0, \"car_duration_hours\": 0.97, \"competitive_route\": 1, \"bus_multiplier\": 1.11, \"bus_difference\": 6.6, \"num_trips\": 12, \"num_competitive\": 12, \"pct_trips_competitive\": 1.0, \"bus_difference_spread\": 1.2000000000000002, \"route_group\": \"medium\", \"max_trip_hrs\": 1.1, \"max_trip_route_group\": 1.1, \"below_cutoff\": 12, \"pct_below_cutoff\": 1.0, \"name\": \"Peninsula Corridor Joint Powers Board\", \"caltrans_district\": \"04 - Oakland\", \"drmt_organization_name\": null, \"route_name\": \"Bullet\", \"cutoff2\": 30, \"cutoff\": 0}, {\"calitp_itp_id\": 246, \"trip_key\": 9046849969465289342, \"trip_id\": \"712\", \"shape_id\": \"p_1277433\", \"route_id\": \"12867\", \"service_hours\": 1.08, \"trip_first_departure_ts\": 65160, \"trip_last_arrival_ts\": 69060, \"departure_hour\": 18, \"time_of_day\": \"PM Peak\", \"p25\": 1.08, \"p50\": 1.1, \"p75\": 1.1, \"p50_trip\": 0, \"fastest_trip\": 1, \"car_duration_hours\": 0.97, \"competitive_route\": 1, \"bus_multiplier\": 1.11, \"bus_difference\": 6.6, \"num_trips\": 12, \"num_competitive\": 12, \"pct_trips_competitive\": 1.0, \"bus_difference_spread\": 1.2000000000000002, \"route_group\": \"medium\", \"max_trip_hrs\": 1.1, \"max_trip_route_group\": 1.1, \"below_cutoff\": 12, \"pct_below_cutoff\": 1.0, \"name\": \"Peninsula Corridor Joint Powers Board\", \"caltrans_district\": \"04 - Oakland\", \"drmt_organization_name\": null, \"route_name\": \"Bullet\", \"cutoff2\": 30, \"cutoff\": 0}, {\"calitp_itp_id\": 246, \"trip_key\": 2161684919597157983, \"trip_id\": \"711\", \"shape_id\": \"p_1277387\", \"route_id\": \"12867\", \"service_hours\": 1.1, \"trip_first_departure_ts\": 64740, \"trip_last_arrival_ts\": 68700, \"departure_hour\": 17, \"time_of_day\": \"PM Peak\", \"p25\": 1.08, \"p50\": 1.1, \"p75\": 1.1, \"p50_trip\": 1, \"fastest_trip\": 0, \"car_duration_hours\": 0.97, \"competitive_route\": 1, \"bus_multiplier\": 1.13, \"bus_difference\": 7.8, \"num_trips\": 12, \"num_competitive\": 12, \"pct_trips_competitive\": 1.0, \"bus_difference_spread\": 1.2000000000000002, \"route_group\": \"medium\", \"max_trip_hrs\": 1.1, \"max_trip_route_group\": 1.1, \"below_cutoff\": 12, \"pct_below_cutoff\": 1.0, \"name\": \"Peninsula Corridor Joint Powers Board\", \"caltrans_district\": \"04 - Oakland\", \"drmt_organization_name\": null, \"route_name\": \"Bullet\", \"cutoff2\": 30, \"cutoff\": 0}, {\"calitp_itp_id\": 246, \"trip_key\": -2398720786655942030, \"trip_id\": \"704\", \"shape_id\": \"p_1277388\", \"route_id\": \"12867\", \"service_hours\": 1.1, \"trip_first_departure_ts\": 25560, \"trip_last_arrival_ts\": 29520, \"departure_hour\": 7, \"time_of_day\": \"AM Peak\", \"p25\": 1.08, \"p50\": 1.1, \"p75\": 1.1, \"p50_trip\": 1, \"fastest_trip\": 0, \"car_duration_hours\": 0.97, \"competitive_route\": 1, \"bus_multiplier\": 1.13, \"bus_difference\": 7.8, \"num_trips\": 12, \"num_competitive\": 12, \"pct_trips_competitive\": 1.0, \"bus_difference_spread\": 1.2000000000000002, \"route_group\": \"medium\", \"max_trip_hrs\": 1.1, \"max_trip_route_group\": 1.1, \"below_cutoff\": 12, \"pct_below_cutoff\": 1.0, \"name\": \"Peninsula Corridor Joint Powers Board\", \"caltrans_district\": \"04 - Oakland\", \"drmt_organization_name\": null, \"route_name\": \"Bullet\", \"cutoff2\": 30, \"cutoff\": 0}, {\"calitp_itp_id\": 246, \"trip_key\": 702326641816309491, \"trip_id\": \"705\", \"shape_id\": \"p_1277413\", \"route_id\": \"12867\", \"service_hours\": 1.1, \"trip_first_departure_ts\": 28740, \"trip_last_arrival_ts\": 32700, \"departure_hour\": 7, \"time_of_day\": \"AM Peak\", \"p25\": 1.08, \"p50\": 1.1, \"p75\": 1.1, \"p50_trip\": 1, \"fastest_trip\": 0, \"car_duration_hours\": 0.97, \"competitive_route\": 1, \"bus_multiplier\": 1.13, \"bus_difference\": 7.8, \"num_trips\": 12, \"num_competitive\": 12, \"pct_trips_competitive\": 1.0, \"bus_difference_spread\": 1.2000000000000002, \"route_group\": \"medium\", \"max_trip_hrs\": 1.1, \"max_trip_route_group\": 1.1, \"below_cutoff\": 12, \"pct_below_cutoff\": 1.0, \"name\": \"Peninsula Corridor Joint Powers Board\", \"caltrans_district\": \"04 - Oakland\", \"drmt_organization_name\": null, \"route_name\": \"Bullet\", \"cutoff2\": 30, \"cutoff\": 0}, {\"calitp_itp_id\": 246, \"trip_key\": -1089053019550801506, \"trip_id\": \"707\", \"shape_id\": \"p_1277387\", \"route_id\": \"12867\", \"service_hours\": 1.1, \"trip_first_departure_ts\": 57540, \"trip_last_arrival_ts\": 61500, \"departure_hour\": 15, \"time_of_day\": \"Midday\", \"p25\": 1.08, \"p50\": 1.1, \"p75\": 1.1, \"p50_trip\": 1, \"fastest_trip\": 0, \"car_duration_hours\": 0.97, \"competitive_route\": 1, \"bus_multiplier\": 1.13, \"bus_difference\": 7.8, \"num_trips\": 12, \"num_competitive\": 12, \"pct_trips_competitive\": 1.0, \"bus_difference_spread\": 1.2000000000000002, \"route_group\": \"medium\", \"max_trip_hrs\": 1.1, \"max_trip_route_group\": 1.1, \"below_cutoff\": 12, \"pct_below_cutoff\": 1.0, \"name\": \"Peninsula Corridor Joint Powers Board\", \"caltrans_district\": \"04 - Oakland\", \"drmt_organization_name\": null, \"route_name\": \"Bullet\", \"cutoff2\": 30, \"cutoff\": 0}, {\"calitp_itp_id\": 246, \"trip_key\": -6553605669663007201, \"trip_id\": \"703\", \"shape_id\": \"p_1277413\", \"route_id\": \"12867\", \"service_hours\": 1.1, \"trip_first_departure_ts\": 25140, \"trip_last_arrival_ts\": 29100, \"departure_hour\": 6, \"time_of_day\": \"Owl Service\", \"p25\": 1.08, \"p50\": 1.1, \"p75\": 1.1, \"p50_trip\": 1, \"fastest_trip\": 0, \"car_duration_hours\": 0.97, \"competitive_route\": 1, \"bus_multiplier\": 1.13, \"bus_difference\": 7.8, \"num_trips\": 12, \"num_competitive\": 12, \"pct_trips_competitive\": 1.0, \"bus_difference_spread\": 1.2000000000000002, \"route_group\": \"medium\", \"max_trip_hrs\": 1.1, \"max_trip_route_group\": 1.1, \"below_cutoff\": 12, \"pct_below_cutoff\": 1.0, \"name\": \"Peninsula Corridor Joint Powers Board\", \"caltrans_district\": \"04 - Oakland\", \"drmt_organization_name\": null, \"route_name\": \"Bullet\", \"cutoff2\": 30, \"cutoff\": 0}, {\"calitp_itp_id\": 246, \"trip_key\": -7094297710612193942, \"trip_id\": \"702\", \"shape_id\": \"p_1277388\", \"route_id\": \"12867\", \"service_hours\": 1.1, \"trip_first_departure_ts\": 21960, \"trip_last_arrival_ts\": 25920, \"departure_hour\": 6, \"time_of_day\": \"Owl Service\", \"p25\": 1.08, \"p50\": 1.1, \"p75\": 1.1, \"p50_trip\": 1, \"fastest_trip\": 0, \"car_duration_hours\": 0.97, \"competitive_route\": 1, \"bus_multiplier\": 1.13, \"bus_difference\": 7.8, \"num_trips\": 12, \"num_competitive\": 12, \"pct_trips_competitive\": 1.0, \"bus_difference_spread\": 1.2000000000000002, \"route_group\": \"medium\", \"max_trip_hrs\": 1.1, \"max_trip_route_group\": 1.1, \"below_cutoff\": 12, \"pct_below_cutoff\": 1.0, \"name\": \"Peninsula Corridor Joint Powers Board\", \"caltrans_district\": \"04 - Oakland\", \"drmt_organization_name\": null, \"route_name\": \"Bullet\", \"cutoff2\": 30, \"cutoff\": 0}, {\"calitp_itp_id\": 246, \"trip_key\": -7470321154795650450, \"trip_id\": \"709\", \"shape_id\": \"p_1277387\", \"route_id\": \"12867\", \"service_hours\": 1.1, \"trip_first_departure_ts\": 61140, \"trip_last_arrival_ts\": 65100, \"departure_hour\": 16, \"time_of_day\": \"Midday\", \"p25\": 1.08, \"p50\": 1.1, \"p75\": 1.1, \"p50_trip\": 1, \"fastest_trip\": 0, \"car_duration_hours\": 0.97, \"competitive_route\": 1, \"bus_multiplier\": 1.13, \"bus_difference\": 7.8, \"num_trips\": 12, \"num_competitive\": 12, \"pct_trips_competitive\": 1.0, \"bus_difference_spread\": 1.2000000000000002, \"route_group\": \"medium\", \"max_trip_hrs\": 1.1, \"max_trip_route_group\": 1.1, \"below_cutoff\": 12, \"pct_below_cutoff\": 1.0, \"name\": \"Peninsula Corridor Joint Powers Board\", \"caltrans_district\": \"04 - Oakland\", \"drmt_organization_name\": null, \"route_name\": \"Bullet\", \"cutoff2\": 30, \"cutoff\": 0}, {\"calitp_itp_id\": 246, \"trip_key\": 8482997763863316294, \"trip_id\": \"701\", \"shape_id\": \"p_1277413\", \"route_id\": \"12867\", \"service_hours\": 1.1, \"trip_first_departure_ts\": 21540, \"trip_last_arrival_ts\": 25500, \"departure_hour\": 5, \"time_of_day\": \"Owl Service\", \"p25\": 1.08, \"p50\": 1.1, \"p75\": 1.1, \"p50_trip\": 1, \"fastest_trip\": 0, \"car_duration_hours\": 0.97, \"competitive_route\": 1, \"bus_multiplier\": 1.13, \"bus_difference\": 7.8, \"num_trips\": 12, \"num_competitive\": 12, \"pct_trips_competitive\": 1.0, \"bus_difference_spread\": 1.2000000000000002, \"route_group\": \"medium\", \"max_trip_hrs\": 1.1, \"max_trip_route_group\": 1.1, \"below_cutoff\": 12, \"pct_below_cutoff\": 1.0, \"name\": \"Peninsula Corridor Joint Powers Board\", \"caltrans_district\": \"04 - Oakland\", \"drmt_organization_name\": null, \"route_name\": \"Bullet\", \"cutoff2\": 30, \"cutoff\": 0}, {\"calitp_itp_id\": 246, \"trip_key\": 9149517822258321180, \"trip_id\": \"502\", \"shape_id\": \"p_1277350\", \"route_id\": \"19601\", \"service_hours\": 1.22, \"trip_first_departure_ts\": 19800, \"trip_last_arrival_ts\": 24180, \"departure_hour\": 5, \"time_of_day\": \"Owl Service\", \"p25\": 1.23, \"p50\": 1.23, \"p75\": 1.23, \"p50_trip\": 0, \"fastest_trip\": 1, \"car_duration_hours\": 1.22, \"competitive_route\": 1, \"bus_multiplier\": 1.0, \"bus_difference\": 0.0, \"num_trips\": 17, \"num_competitive\": 17, \"pct_trips_competitive\": 1.0, \"bus_difference_spread\": 6.6, \"route_group\": \"medium\", \"max_trip_hrs\": 1.33, \"max_trip_route_group\": 1.33, \"below_cutoff\": 17, \"pct_below_cutoff\": 1.0, \"name\": \"Peninsula Corridor Joint Powers Board\", \"caltrans_district\": \"04 - Oakland\", \"drmt_organization_name\": null, \"route_name\": \"Ltd 5\", \"cutoff2\": 30, \"cutoff\": 0}, {\"calitp_itp_id\": 246, \"trip_key\": -3265062529563700995, \"trip_id\": \"511\", \"shape_id\": \"p_1277345\", \"route_id\": \"19601\", \"service_hours\": 1.23, \"trip_first_departure_ts\": 49380, \"trip_last_arrival_ts\": 53820, \"departure_hour\": 13, \"time_of_day\": \"Midday\", \"p25\": 1.23, \"p50\": 1.23, \"p75\": 1.23, \"p50_trip\": 1, \"fastest_trip\": 0, \"car_duration_hours\": 1.22, \"competitive_route\": 1, \"bus_multiplier\": 1.01, \"bus_difference\": 0.6, \"num_trips\": 17, \"num_competitive\": 17, \"pct_trips_competitive\": 1.0, \"bus_difference_spread\": 6.6, \"route_group\": \"medium\", \"max_trip_hrs\": 1.33, \"max_trip_route_group\": 1.33, \"below_cutoff\": 17, \"pct_below_cutoff\": 1.0, \"name\": \"Peninsula Corridor Joint Powers Board\", \"caltrans_district\": \"04 - Oakland\", \"drmt_organization_name\": null, \"route_name\": \"Ltd 5\", \"cutoff2\": 30, \"cutoff\": 0}, {\"calitp_itp_id\": 246, \"trip_key\": -6963403278907329206, \"trip_id\": \"504\", \"shape_id\": \"p_1277350\", \"route_id\": \"19601\", \"service_hours\": 1.23, \"trip_first_departure_ts\": 33240, \"trip_last_arrival_ts\": 37680, \"departure_hour\": 9, \"time_of_day\": \"AM Peak\", \"p25\": 1.23, \"p50\": 1.23, \"p75\": 1.23, \"p50_trip\": 1, \"fastest_trip\": 0, \"car_duration_hours\": 1.22, \"competitive_route\": 1, \"bus_multiplier\": 1.01, \"bus_difference\": 0.6, \"num_trips\": 17, \"num_competitive\": 17, \"pct_trips_competitive\": 1.0, \"bus_difference_spread\": 6.6, \"route_group\": \"medium\", \"max_trip_hrs\": 1.33, \"max_trip_route_group\": 1.33, \"below_cutoff\": 17, \"pct_below_cutoff\": 1.0, \"name\": \"Peninsula Corridor Joint Powers Board\", \"caltrans_district\": \"04 - Oakland\", \"drmt_organization_name\": null, \"route_name\": \"Ltd 5\", \"cutoff2\": 30, \"cutoff\": 0}, {\"calitp_itp_id\": 246, \"trip_key\": 7008740332156166630, \"trip_id\": \"516\", \"shape_id\": \"p_1277350\", \"route_id\": \"19601\", \"service_hours\": 1.23, \"trip_first_departure_ts\": 69240, \"trip_last_arrival_ts\": 73680, \"departure_hour\": 19, \"time_of_day\": \"PM Peak\", \"p25\": 1.23, \"p50\": 1.23, \"p75\": 1.23, \"p50_trip\": 1, \"fastest_trip\": 0, \"car_duration_hours\": 1.22, \"competitive_route\": 1, \"bus_multiplier\": 1.01, \"bus_difference\": 0.6, \"num_trips\": 17, \"num_competitive\": 17, \"pct_trips_competitive\": 1.0, \"bus_difference_spread\": 6.6, \"route_group\": \"medium\", \"max_trip_hrs\": 1.33, \"max_trip_route_group\": 1.33, \"below_cutoff\": 17, \"pct_below_cutoff\": 1.0, \"name\": \"Peninsula Corridor Joint Powers Board\", \"caltrans_district\": \"04 - Oakland\", \"drmt_organization_name\": null, \"route_name\": \"Ltd 5\", \"cutoff2\": 30, \"cutoff\": 0}, {\"calitp_itp_id\": 246, \"trip_key\": -2304653092082877345, \"trip_id\": \"506\", \"shape_id\": \"p_1277350\", \"route_id\": \"19601\", \"service_hours\": 1.23, \"trip_first_departure_ts\": 36840, \"trip_last_arrival_ts\": 41280, \"departure_hour\": 10, \"time_of_day\": \"Midday\", \"p25\": 1.23, \"p50\": 1.23, \"p75\": 1.23, \"p50_trip\": 1, \"fastest_trip\": 0, \"car_duration_hours\": 1.22, \"competitive_route\": 1, \"bus_multiplier\": 1.01, \"bus_difference\": 0.6, \"num_trips\": 17, \"num_competitive\": 17, \"pct_trips_competitive\": 1.0, \"bus_difference_spread\": 6.6, \"route_group\": \"medium\", \"max_trip_hrs\": 1.33, \"max_trip_route_group\": 1.33, \"below_cutoff\": 17, \"pct_below_cutoff\": 1.0, \"name\": \"Peninsula Corridor Joint Powers Board\", \"caltrans_district\": \"04 - Oakland\", \"drmt_organization_name\": null, \"route_name\": \"Ltd 5\", \"cutoff2\": 30, \"cutoff\": 0}, {\"calitp_itp_id\": 246, \"trip_key\": 955322695236507663, \"trip_id\": \"507\", \"shape_id\": \"p_1277345\", \"route_id\": \"19601\", \"service_hours\": 1.23, \"trip_first_departure_ts\": 42180, \"trip_last_arrival_ts\": 46620, \"departure_hour\": 11, \"time_of_day\": \"Midday\", \"p25\": 1.23, \"p50\": 1.23, \"p75\": 1.23, \"p50_trip\": 1, \"fastest_trip\": 0, \"car_duration_hours\": 1.22, \"competitive_route\": 1, \"bus_multiplier\": 1.01, \"bus_difference\": 0.6, \"num_trips\": 17, \"num_competitive\": 17, \"pct_trips_competitive\": 1.0, \"bus_difference_spread\": 6.6, \"route_group\": \"medium\", \"max_trip_hrs\": 1.33, \"max_trip_route_group\": 1.33, \"below_cutoff\": 17, \"pct_below_cutoff\": 1.0, \"name\": \"Peninsula Corridor Joint Powers Board\", \"caltrans_district\": \"04 - Oakland\", \"drmt_organization_name\": null, \"route_name\": \"Ltd 5\", \"cutoff2\": 30, \"cutoff\": 0}, {\"calitp_itp_id\": 246, \"trip_key\": 2880390379151674985, \"trip_id\": \"514\", \"shape_id\": \"p_1277350\", \"route_id\": \"19601\", \"service_hours\": 1.23, \"trip_first_departure_ts\": 51240, \"trip_last_arrival_ts\": 55680, \"departure_hour\": 14, \"time_of_day\": \"Midday\", \"p25\": 1.23, \"p50\": 1.23, \"p75\": 1.23, \"p50_trip\": 1, \"fastest_trip\": 0, \"car_duration_hours\": 1.22, \"competitive_route\": 1, \"bus_multiplier\": 1.01, \"bus_difference\": 0.6, \"num_trips\": 17, \"num_competitive\": 17, \"pct_trips_competitive\": 1.0, \"bus_difference_spread\": 6.6, \"route_group\": \"medium\", \"max_trip_hrs\": 1.33, \"max_trip_route_group\": 1.33, \"below_cutoff\": 17, \"pct_below_cutoff\": 1.0, \"name\": \"Peninsula Corridor Joint Powers Board\", \"caltrans_district\": \"04 - Oakland\", \"drmt_organization_name\": null, \"route_name\": \"Ltd 5\", \"cutoff2\": 30, \"cutoff\": 0}, {\"calitp_itp_id\": 246, \"trip_key\": 553268175740742960, \"trip_id\": \"503\", \"shape_id\": \"p_1277345\", \"route_id\": \"19601\", \"service_hours\": 1.23, \"trip_first_departure_ts\": 34980, \"trip_last_arrival_ts\": 39420, \"departure_hour\": 9, \"time_of_day\": \"AM Peak\", \"p25\": 1.23, \"p50\": 1.23, \"p75\": 1.23, \"p50_trip\": 1, \"fastest_trip\": 0, \"car_duration_hours\": 1.22, \"competitive_route\": 1, \"bus_multiplier\": 1.01, \"bus_difference\": 0.6, \"num_trips\": 17, \"num_competitive\": 17, \"pct_trips_competitive\": 1.0, \"bus_difference_spread\": 6.6, \"route_group\": \"medium\", \"max_trip_hrs\": 1.33, \"max_trip_route_group\": 1.33, \"below_cutoff\": 17, \"pct_below_cutoff\": 1.0, \"name\": \"Peninsula Corridor Joint Powers Board\", \"caltrans_district\": \"04 - Oakland\", \"drmt_organization_name\": null, \"route_name\": \"Ltd 5\", \"cutoff2\": 30, \"cutoff\": 0}, {\"calitp_itp_id\": 246, \"trip_key\": -4721818240216371953, \"trip_id\": \"510\", \"shape_id\": \"p_1277350\", \"route_id\": \"19601\", \"service_hours\": 1.23, \"trip_first_departure_ts\": 44040, \"trip_last_arrival_ts\": 48480, \"departure_hour\": 12, \"time_of_day\": \"Midday\", \"p25\": 1.23, \"p50\": 1.23, \"p75\": 1.23, \"p50_trip\": 1, \"fastest_trip\": 0, \"car_duration_hours\": 1.22, \"competitive_route\": 1, \"bus_multiplier\": 1.01, \"bus_difference\": 0.6, \"num_trips\": 17, \"num_competitive\": 17, \"pct_trips_competitive\": 1.0, \"bus_difference_spread\": 6.6, \"route_group\": \"medium\", \"max_trip_hrs\": 1.33, \"max_trip_route_group\": 1.33, \"below_cutoff\": 17, \"pct_below_cutoff\": 1.0, \"name\": \"Peninsula Corridor Joint Powers Board\", \"caltrans_district\": \"04 - Oakland\", \"drmt_organization_name\": null, \"route_name\": \"Ltd 5\", \"cutoff2\": 30, \"cutoff\": 0}, {\"calitp_itp_id\": 246, \"trip_key\": -4931343439422682093, \"trip_id\": \"512\", \"shape_id\": \"p_1277350\", \"route_id\": \"19601\", \"service_hours\": 1.23, \"trip_first_departure_ts\": 47640, \"trip_last_arrival_ts\": 52080, \"departure_hour\": 13, \"time_of_day\": \"Midday\", \"p25\": 1.23, \"p50\": 1.23, \"p75\": 1.23, \"p50_trip\": 1, \"fastest_trip\": 0, \"car_duration_hours\": 1.22, \"competitive_route\": 1, \"bus_multiplier\": 1.01, \"bus_difference\": 0.6, \"num_trips\": 17, \"num_competitive\": 17, \"pct_trips_competitive\": 1.0, \"bus_difference_spread\": 6.6, \"route_group\": \"medium\", \"max_trip_hrs\": 1.33, \"max_trip_route_group\": 1.33, \"below_cutoff\": 17, \"pct_below_cutoff\": 1.0, \"name\": \"Peninsula Corridor Joint Powers Board\", \"caltrans_district\": \"04 - Oakland\", \"drmt_organization_name\": null, \"route_name\": \"Ltd 5\", \"cutoff2\": 30, \"cutoff\": 0}, {\"calitp_itp_id\": 246, \"trip_key\": -9121745674402020511, \"trip_id\": \"515\", \"shape_id\": \"p_1277345\", \"route_id\": \"19601\", \"service_hours\": 1.23, \"trip_first_departure_ts\": 70980, \"trip_last_arrival_ts\": 75420, \"departure_hour\": 19, \"time_of_day\": \"PM Peak\", \"p25\": 1.23, \"p50\": 1.23, \"p75\": 1.23, \"p50_trip\": 1, \"fastest_trip\": 0, \"car_duration_hours\": 1.22, \"competitive_route\": 1, \"bus_multiplier\": 1.01, \"bus_difference\": 0.6, \"num_trips\": 17, \"num_competitive\": 17, \"pct_trips_competitive\": 1.0, \"bus_difference_spread\": 6.6, \"route_group\": \"medium\", \"max_trip_hrs\": 1.33, \"max_trip_route_group\": 1.33, \"below_cutoff\": 17, \"pct_below_cutoff\": 1.0, \"name\": \"Peninsula Corridor Joint Powers Board\", \"caltrans_district\": \"04 - Oakland\", \"drmt_organization_name\": null, \"route_name\": \"Ltd 5\", \"cutoff2\": 30, \"cutoff\": 0}, {\"calitp_itp_id\": 246, \"trip_key\": -3589814024653243936, \"trip_id\": \"509\", \"shape_id\": \"p_1277345\", \"route_id\": \"19601\", \"service_hours\": 1.23, \"trip_first_departure_ts\": 45780, \"trip_last_arrival_ts\": 50220, \"departure_hour\": 12, \"time_of_day\": \"Midday\", \"p25\": 1.23, \"p50\": 1.23, \"p75\": 1.23, \"p50_trip\": 1, \"fastest_trip\": 0, \"car_duration_hours\": 1.22, \"competitive_route\": 1, \"bus_multiplier\": 1.01, \"bus_difference\": 0.6, \"num_trips\": 17, \"num_competitive\": 17, \"pct_trips_competitive\": 1.0, \"bus_difference_spread\": 6.6, \"route_group\": \"medium\", \"max_trip_hrs\": 1.33, \"max_trip_route_group\": 1.33, \"below_cutoff\": 17, \"pct_below_cutoff\": 1.0, \"name\": \"Peninsula Corridor Joint Powers Board\", \"caltrans_district\": \"04 - Oakland\", \"drmt_organization_name\": null, \"route_name\": \"Ltd 5\", \"cutoff2\": 30, \"cutoff\": 0}, {\"calitp_itp_id\": 246, \"trip_key\": 1164964554527929344, \"trip_id\": \"518\", \"shape_id\": \"p_1277350\", \"route_id\": \"19601\", \"service_hours\": 1.23, \"trip_first_departure_ts\": 72840, \"trip_last_arrival_ts\": 77280, \"departure_hour\": 20, \"time_of_day\": \"Owl Service\", \"p25\": 1.23, \"p50\": 1.23, \"p75\": 1.23, \"p50_trip\": 1, \"fastest_trip\": 0, \"car_duration_hours\": 1.22, \"competitive_route\": 1, \"bus_multiplier\": 1.01, \"bus_difference\": 0.6, \"num_trips\": 17, \"num_competitive\": 17, \"pct_trips_competitive\": 1.0, \"bus_difference_spread\": 6.6, \"route_group\": \"medium\", \"max_trip_hrs\": 1.33, \"max_trip_route_group\": 1.33, \"below_cutoff\": 17, \"pct_below_cutoff\": 1.0, \"name\": \"Peninsula Corridor Joint Powers Board\", \"caltrans_district\": \"04 - Oakland\", \"drmt_organization_name\": null, \"route_name\": \"Ltd 5\", \"cutoff2\": 30, \"cutoff\": 0}, {\"calitp_itp_id\": 246, \"trip_key\": -2895236252452015639, \"trip_id\": \"513\", \"shape_id\": \"p_1277345\", \"route_id\": \"19601\", \"service_hours\": 1.23, \"trip_first_departure_ts\": 52980, \"trip_last_arrival_ts\": 57420, \"departure_hour\": 14, \"time_of_day\": \"Midday\", \"p25\": 1.23, \"p50\": 1.23, \"p75\": 1.23, \"p50_trip\": 1, \"fastest_trip\": 0, \"car_duration_hours\": 1.22, \"competitive_route\": 1, \"bus_multiplier\": 1.01, \"bus_difference\": 0.6, \"num_trips\": 17, \"num_competitive\": 17, \"pct_trips_competitive\": 1.0, \"bus_difference_spread\": 6.6, \"route_group\": \"medium\", \"max_trip_hrs\": 1.33, \"max_trip_route_group\": 1.33, \"below_cutoff\": 17, \"pct_below_cutoff\": 1.0, \"name\": \"Peninsula Corridor Joint Powers Board\", \"caltrans_district\": \"04 - Oakland\", \"drmt_organization_name\": null, \"route_name\": \"Ltd 5\", \"cutoff2\": 30, \"cutoff\": 0}, {\"calitp_itp_id\": 246, \"trip_key\": -3606529219655603771, \"trip_id\": \"508\", \"shape_id\": \"p_1277350\", \"route_id\": \"19601\", \"service_hours\": 1.23, \"trip_first_departure_ts\": 40440, \"trip_last_arrival_ts\": 44880, \"departure_hour\": 11, \"time_of_day\": \"Midday\", \"p25\": 1.23, \"p50\": 1.23, \"p75\": 1.23, \"p50_trip\": 1, \"fastest_trip\": 0, \"car_duration_hours\": 1.22, \"competitive_route\": 1, \"bus_multiplier\": 1.01, \"bus_difference\": 0.6, \"num_trips\": 17, \"num_competitive\": 17, \"pct_trips_competitive\": 1.0, \"bus_difference_spread\": 6.6, \"route_group\": \"medium\", \"max_trip_hrs\": 1.33, \"max_trip_route_group\": 1.33, \"below_cutoff\": 17, \"pct_below_cutoff\": 1.0, \"name\": \"Peninsula Corridor Joint Powers Board\", \"caltrans_district\": \"04 - Oakland\", \"drmt_organization_name\": null, \"route_name\": \"Ltd 5\", \"cutoff2\": 30, \"cutoff\": 0}, {\"calitp_itp_id\": 246, \"trip_key\": 1744670112445261467, \"trip_id\": \"505\", \"shape_id\": \"p_1277345\", \"route_id\": \"19601\", \"service_hours\": 1.23, \"trip_first_departure_ts\": 38580, \"trip_last_arrival_ts\": 43020, \"departure_hour\": 10, \"time_of_day\": \"Midday\", \"p25\": 1.23, \"p50\": 1.23, \"p75\": 1.23, \"p50_trip\": 1, \"fastest_trip\": 0, \"car_duration_hours\": 1.22, \"competitive_route\": 1, \"bus_multiplier\": 1.01, \"bus_difference\": 0.6, \"num_trips\": 17, \"num_competitive\": 17, \"pct_trips_competitive\": 1.0, \"bus_difference_spread\": 6.6, \"route_group\": \"medium\", \"max_trip_hrs\": 1.33, \"max_trip_route_group\": 1.33, \"below_cutoff\": 17, \"pct_below_cutoff\": 1.0, \"name\": \"Peninsula Corridor Joint Powers Board\", \"caltrans_district\": \"04 - Oakland\", \"drmt_organization_name\": null, \"route_name\": \"Ltd 5\", \"cutoff2\": 30, \"cutoff\": 0}, {\"calitp_itp_id\": 246, \"trip_key\": -3300211462706906779, \"trip_id\": \"501\", \"shape_id\": \"p_1277346\", \"route_id\": \"19601\", \"service_hours\": 1.33, \"trip_first_departure_ts\": 18120, \"trip_last_arrival_ts\": 22920, \"departure_hour\": 5, \"time_of_day\": \"Owl Service\", \"p25\": 1.23, \"p50\": 1.23, \"p75\": 1.23, \"p50_trip\": 0, \"fastest_trip\": 0, \"car_duration_hours\": 1.22, \"competitive_route\": 1, \"bus_multiplier\": 1.09, \"bus_difference\": 6.6, \"num_trips\": 17, \"num_competitive\": 17, \"pct_trips_competitive\": 1.0, \"bus_difference_spread\": 6.6, \"route_group\": \"medium\", \"max_trip_hrs\": 1.33, \"max_trip_route_group\": 1.33, \"below_cutoff\": 17, \"pct_below_cutoff\": 1.0, \"name\": \"Peninsula Corridor Joint Powers Board\", \"caltrans_district\": \"04 - Oakland\", \"drmt_organization_name\": null, \"route_name\": \"Ltd 5\", \"cutoff2\": 30, \"cutoff\": 0}]}}, {\"mode\": \"vega-lite\"});\n",
       "</script>"
      ],
      "text/plain": [
       "alt.FacetChart(...)"
      ]
     },
     "metadata": {},
     "output_type": "display_data"
    },
    {
     "data": {
      "text/html": [
       "<h4>Route Stats</h4>"
      ],
      "text/plain": [
       "<IPython.core.display.HTML object>"
      ]
     },
     "metadata": {},
     "output_type": "display_data"
    },
    {
     "data": {
      "text/html": [
       "<style type=\"text/css\">\n",
       "</style>\n",
       "<table id=\"T_aba6e\">\n",
       "  <thead>\n",
       "    <tr>\n",
       "      <th id=\"T_aba6e_level0_col0\" class=\"col_heading level0 col0\" >Route ID</th>\n",
       "      <th id=\"T_aba6e_level0_col1\" class=\"col_heading level0 col1\" >Route Name</th>\n",
       "      <th id=\"T_aba6e_level0_col2\" class=\"col_heading level0 col2\" ># trips</th>\n",
       "      <th id=\"T_aba6e_level0_col3\" class=\"col_heading level0 col3\" >Daily Avg Frequency (trips per hr)</th>\n",
       "      <th id=\"T_aba6e_level0_col4\" class=\"col_heading level0 col4\" >25th, 50th, 75th ptile (hrs)</th>\n",
       "      <th id=\"T_aba6e_level0_col5\" class=\"col_heading level0 col5\" >PM Peak Avg Frequency (trips per hr)</th>\n",
       "    </tr>\n",
       "  </thead>\n",
       "  <tbody>\n",
       "    <tr>\n",
       "      <td id=\"T_aba6e_row0_col0\" class=\"data row0 col0\" >19601</td>\n",
       "      <td id=\"T_aba6e_row0_col1\" class=\"data row0 col1\" >Ltd 5</td>\n",
       "      <td id=\"T_aba6e_row0_col2\" class=\"data row0 col2\" >17</td>\n",
       "      <td id=\"T_aba6e_row0_col3\" class=\"data row0 col3\" >0.71</td>\n",
       "      <td id=\"T_aba6e_row0_col4\" class=\"data row0 col4\" >1.23, 1.23, 1.23</td>\n",
       "      <td id=\"T_aba6e_row0_col5\" class=\"data row0 col5\" >0.67</td>\n",
       "    </tr>\n",
       "    <tr>\n",
       "      <td id=\"T_aba6e_row1_col0\" class=\"data row1 col0\" >12867</td>\n",
       "      <td id=\"T_aba6e_row1_col1\" class=\"data row1 col1\" >Bullet</td>\n",
       "      <td id=\"T_aba6e_row1_col2\" class=\"data row1 col2\" >12</td>\n",
       "      <td id=\"T_aba6e_row1_col3\" class=\"data row1 col3\" >0.5</td>\n",
       "      <td id=\"T_aba6e_row1_col4\" class=\"data row1 col4\" >1.08, 1.1, 1.1</td>\n",
       "      <td id=\"T_aba6e_row1_col5\" class=\"data row1 col5\" >1.0</td>\n",
       "    </tr>\n",
       "  </tbody>\n",
       "</table>\n"
      ],
      "text/plain": [
       "<IPython.core.display.HTML object>"
      ]
     },
     "metadata": {},
     "output_type": "display_data"
    }
   ],
   "source": [
    "route_group = \"medium\"\n",
    "try:\n",
    "    display_charts_for_route_group(df, route_group)\n",
    "except:\n",
    "    print(\"No routes meet this criteria.\")"
   ]
  },
  {
   "cell_type": "markdown",
   "id": "124b76d0-886c-4d03-92ac-f1bda3cda182",
   "metadata": {
    "papermill": {
     "duration": 0.017812,
     "end_time": "2022-05-11T21:58:59.080197",
     "exception": false,
     "start_time": "2022-05-11T21:58:59.062385",
     "status": "completed"
    },
    "tags": []
   },
   "source": [
    "### Long Routes (> 1.5 hrs)"
   ]
  },
  {
   "cell_type": "code",
   "execution_count": 16,
   "id": "ddc81b19-4c45-4c81-8b7a-5e0f394aa7a3",
   "metadata": {
    "execution": {
     "iopub.execute_input": "2022-05-11T21:58:59.125450Z",
     "iopub.status.busy": "2022-05-11T21:58:59.125171Z",
     "iopub.status.idle": "2022-05-11T21:58:59.381722Z",
     "shell.execute_reply": "2022-05-11T21:58:59.380786Z"
    },
    "jupyter": {
     "source_hidden": true
    },
    "papermill": {
     "duration": 0.282777,
     "end_time": "2022-05-11T21:58:59.388871",
     "exception": false,
     "start_time": "2022-05-11T21:58:59.106094",
     "status": "completed"
    },
    "tags": [
     "remove_input"
    ]
   },
   "outputs": [
    {
     "data": {
      "text/markdown": [
       "<br>These are routes that have **at least 50% of their trips take no more than an additional 40 min** compared to a car (up to 15 routes) are shown.<br>Within each route group, routes are sorted in descending order by % competitive trips and # trips below the additional time cut-off."
      ],
      "text/plain": [
       "<IPython.core.display.Markdown object>"
      ]
     },
     "metadata": {},
     "output_type": "display_data"
    },
    {
     "data": {
      "text/html": [
       "\n",
       "<div id=\"altair-viz-b72b629176d648e78cf649e8f6f882c4\"></div>\n",
       "<script type=\"text/javascript\">\n",
       "  var VEGA_DEBUG = (typeof VEGA_DEBUG == \"undefined\") ? {} : VEGA_DEBUG;\n",
       "  (function(spec, embedOpt){\n",
       "    let outputDiv = document.currentScript.previousElementSibling;\n",
       "    if (outputDiv.id !== \"altair-viz-b72b629176d648e78cf649e8f6f882c4\") {\n",
       "      outputDiv = document.getElementById(\"altair-viz-b72b629176d648e78cf649e8f6f882c4\");\n",
       "    }\n",
       "    const paths = {\n",
       "      \"vega\": \"https://cdn.jsdelivr.net/npm//vega@5?noext\",\n",
       "      \"vega-lib\": \"https://cdn.jsdelivr.net/npm//vega-lib?noext\",\n",
       "      \"vega-lite\": \"https://cdn.jsdelivr.net/npm//vega-lite@4.17.0?noext\",\n",
       "      \"vega-embed\": \"https://cdn.jsdelivr.net/npm//vega-embed@6?noext\",\n",
       "    };\n",
       "\n",
       "    function maybeLoadScript(lib, version) {\n",
       "      var key = `${lib.replace(\"-\", \"\")}_version`;\n",
       "      return (VEGA_DEBUG[key] == version) ?\n",
       "        Promise.resolve(paths[lib]) :\n",
       "        new Promise(function(resolve, reject) {\n",
       "          var s = document.createElement('script');\n",
       "          document.getElementsByTagName(\"head\")[0].appendChild(s);\n",
       "          s.async = true;\n",
       "          s.onload = () => {\n",
       "            VEGA_DEBUG[key] = version;\n",
       "            return resolve(paths[lib]);\n",
       "          };\n",
       "          s.onerror = () => reject(`Error loading script: ${paths[lib]}`);\n",
       "          s.src = paths[lib];\n",
       "        });\n",
       "    }\n",
       "\n",
       "    function showError(err) {\n",
       "      outputDiv.innerHTML = `<div class=\"error\" style=\"color:red;\">${err}</div>`;\n",
       "      throw err;\n",
       "    }\n",
       "\n",
       "    function displayChart(vegaEmbed) {\n",
       "      vegaEmbed(outputDiv, spec, embedOpt)\n",
       "        .catch(err => showError(`Javascript Error: ${err.message}<br>This usually means there's a typo in your chart specification. See the javascript console for the full traceback.`));\n",
       "    }\n",
       "\n",
       "    if(typeof define === \"function\" && define.amd) {\n",
       "      requirejs.config({paths});\n",
       "      require([\"vega-embed\"], displayChart, err => showError(`Error loading script: ${err.message}`));\n",
       "    } else {\n",
       "      maybeLoadScript(\"vega\", \"5\")\n",
       "        .then(() => maybeLoadScript(\"vega-lite\", \"4.17.0\"))\n",
       "        .then(() => maybeLoadScript(\"vega-embed\", \"6\"))\n",
       "        .catch(showError)\n",
       "        .then(() => displayChart(vegaEmbed));\n",
       "    }\n",
       "  })({\"config\": {\"view\": {\"continuousWidth\": 400, \"continuousHeight\": 300, \"stroke\": null}, \"facet\": {\"spacing\": 0}}, \"data\": {\"name\": \"data-bafdf3f6576756b8238b6a2b204d4a0f\"}, \"facet\": {\"column\": {\"field\": \"route_id\", \"sort\": [\"19597\", \"19600\", \"19599\"], \"title\": \"Route ID\", \"type\": \"nominal\"}}, \"spec\": {\"layer\": [{\"mark\": \"rule\", \"encoding\": {\"color\": {\"value\": \"black\"}, \"y\": {\"field\": \"cutoff\", \"type\": \"quantitative\"}}, \"selection\": {\"selector003\": {\"type\": \"interval\", \"bind\": \"scales\", \"encodings\": [\"x\", \"y\"]}}}, {\"mark\": {\"type\": \"point\", \"opacity\": 0.65, \"size\": 12, \"strokeWidth\": 1.1}, \"encoding\": {\"color\": {\"field\": \"time_of_day\", \"scale\": {\"range\": [\"#136C97\", \"#E16B26\", \"#F6BF16\", \"#00896B\", \"#7790A3\", \"#5B559C\"]}, \"sort\": [\"AM Peak\", \"Midday\", \"PM Peak\", \"Owl Service\"], \"title\": \"Time of Day\", \"type\": \"nominal\"}, \"tooltip\": [{\"field\": \"route_id\", \"type\": \"nominal\"}, {\"field\": \"route_name\", \"type\": \"nominal\"}, {\"field\": \"trip_id\", \"type\": \"nominal\"}, {\"field\": \"service_hours\", \"type\": \"quantitative\"}, {\"field\": \"car_duration_hours\", \"type\": \"quantitative\"}, {\"field\": \"bus_multiplier\", \"type\": \"quantitative\"}, {\"field\": \"bus_difference\", \"type\": \"quantitative\"}, {\"field\": \"num_trips\", \"type\": \"quantitative\"}, {\"field\": \"num_competitive\", \"type\": \"quantitative\"}, {\"field\": \"pct_trips_competitive\", \"type\": \"quantitative\"}, {\"field\": \"p25\", \"type\": \"quantitative\"}, {\"field\": \"p50\", \"type\": \"quantitative\"}, {\"field\": \"p75\", \"type\": \"quantitative\"}], \"x\": {\"axis\": {\"grid\": false, \"labels\": false, \"ticks\": true, \"values\": [0]}, \"field\": \"jitter\", \"scale\": {}, \"title\": null, \"type\": \"quantitative\"}, \"y\": {\"field\": \"bus_multiplier\", \"scale\": {\"domain\": [-0.25, 3.0]}, \"title\": \"Ratio of Bus to Car Travel Time\", \"type\": \"quantitative\"}}, \"transform\": [{\"calculate\": \"sqrt(-2*log(random()))*cos(2*PI*random())\", \"as\": \"jitter\"}], \"width\": 50}, {\"layer\": [{\"mark\": {\"type\": \"point\", \"opacity\": 0.6, \"size\": 20, \"strokeWidth\": 1.3}, \"encoding\": {\"color\": {\"value\": \"#323434\"}, \"y\": {\"field\": \"bus_multiplier\", \"type\": \"quantitative\"}}, \"transform\": [{\"filter\": \"(datum.p50_trip === 1)\"}]}, {\"mark\": {\"type\": \"text\", \"align\": \"center\", \"baseline\": \"middle\"}, \"encoding\": {\"color\": {\"value\": \"black\"}, \"text\": {\"field\": \"pct_trips_competitive\", \"format\": \".0%\", \"type\": \"quantitative\"}, \"tooltip\": [{\"field\": \"route_id\", \"type\": \"nominal\"}, {\"field\": \"route_name\", \"type\": \"nominal\"}, {\"field\": \"trip_id\", \"type\": \"nominal\"}, {\"field\": \"service_hours\", \"type\": \"quantitative\"}, {\"field\": \"car_duration_hours\", \"type\": \"quantitative\"}, {\"field\": \"bus_multiplier\", \"type\": \"quantitative\"}, {\"field\": \"bus_difference\", \"type\": \"quantitative\"}, {\"field\": \"num_trips\", \"type\": \"quantitative\"}, {\"field\": \"num_competitive\", \"type\": \"quantitative\"}, {\"field\": \"pct_trips_competitive\", \"type\": \"quantitative\"}, {\"field\": \"p25\", \"type\": \"quantitative\"}, {\"field\": \"p50\", \"type\": \"quantitative\"}, {\"field\": \"p75\", \"type\": \"quantitative\"}], \"x\": {\"value\": 30}, \"y\": {\"value\": 15}}, \"transform\": [{\"calculate\": \"sqrt(-2*log(random()))*cos(2*PI*random())\", \"as\": \"jitter\"}, {\"filter\": \"(datum.fastest_trip === 1)\"}]}]}]}, \"resolve\": {\"scale\": {\"y\": \"shared\"}}, \"title\": \"Ratio of Bus to Car Travel Time\", \"$schema\": \"https://vega.github.io/schema/vega-lite/v4.17.0.json\", \"datasets\": {\"data-bafdf3f6576756b8238b6a2b204d4a0f\": [{\"calitp_itp_id\": 246, \"trip_key\": 5689657583377269192, \"trip_id\": \"102\", \"shape_id\": \"p_1277323\", \"route_id\": \"19597\", \"service_hours\": 1.6, \"trip_first_departure_ts\": 17460, \"trip_last_arrival_ts\": 23220, \"departure_hour\": 4, \"time_of_day\": \"Owl Service\", \"p25\": 1.7, \"p50\": 1.75, \"p75\": 1.75, \"p50_trip\": 0, \"fastest_trip\": 1, \"car_duration_hours\": 1.43, \"competitive_route\": 1, \"bus_multiplier\": 1.12, \"bus_difference\": 10.2, \"num_trips\": 46, \"num_competitive\": 46, \"pct_trips_competitive\": 1.0, \"bus_difference_spread\": 13.2, \"route_group\": \"long\", \"max_trip_hrs\": 1.82, \"max_trip_route_group\": 1.82, \"below_cutoff\": 46, \"pct_below_cutoff\": 1.0, \"name\": \"Peninsula Corridor Joint Powers Board\", \"caltrans_district\": \"04 - Oakland\", \"drmt_organization_name\": null, \"route_name\": \"Local\", \"cutoff2\": 40, \"cutoff\": 2}, {\"calitp_itp_id\": 246, \"trip_key\": -462704180943269257, \"trip_id\": \"103\", \"shape_id\": \"p_1277302\", \"route_id\": \"19597\", \"service_hours\": 1.62, \"trip_first_departure_ts\": 18900, \"trip_last_arrival_ts\": 24720, \"departure_hour\": 5, \"time_of_day\": \"Owl Service\", \"p25\": 1.7, \"p50\": 1.75, \"p75\": 1.75, \"p50_trip\": 0, \"fastest_trip\": 0, \"car_duration_hours\": 1.43, \"competitive_route\": 1, \"bus_multiplier\": 1.13, \"bus_difference\": 11.4, \"num_trips\": 46, \"num_competitive\": 46, \"pct_trips_competitive\": 1.0, \"bus_difference_spread\": 13.2, \"route_group\": \"long\", \"max_trip_hrs\": 1.82, \"max_trip_route_group\": 1.82, \"below_cutoff\": 46, \"pct_below_cutoff\": 1.0, \"name\": \"Peninsula Corridor Joint Powers Board\", \"caltrans_district\": \"04 - Oakland\", \"drmt_organization_name\": null, \"route_name\": \"Local\", \"cutoff2\": 40, \"cutoff\": 2}, {\"calitp_itp_id\": 246, \"trip_key\": -2823948238415189275, \"trip_id\": \"135\", \"shape_id\": \"p_1277302\", \"route_id\": \"19597\", \"service_hours\": 1.65, \"trip_first_departure_ts\": 73440, \"trip_last_arrival_ts\": 79380, \"departure_hour\": 20, \"time_of_day\": \"Owl Service\", \"p25\": 1.7, \"p50\": 1.75, \"p75\": 1.75, \"p50_trip\": 0, \"fastest_trip\": 0, \"car_duration_hours\": 1.43, \"competitive_route\": 1, \"bus_multiplier\": 1.15, \"bus_difference\": 13.2, \"num_trips\": 46, \"num_competitive\": 46, \"pct_trips_competitive\": 1.0, \"bus_difference_spread\": 13.2, \"route_group\": \"long\", \"max_trip_hrs\": 1.82, \"max_trip_route_group\": 1.82, \"below_cutoff\": 46, \"pct_below_cutoff\": 1.0, \"name\": \"Peninsula Corridor Joint Powers Board\", \"caltrans_district\": \"04 - Oakland\", \"drmt_organization_name\": null, \"route_name\": \"Local\", \"cutoff2\": 40, \"cutoff\": 2}, {\"calitp_itp_id\": 246, \"trip_key\": -1827352608936880849, \"trip_id\": \"105\", \"shape_id\": \"p_1277302\", \"route_id\": \"19597\", \"service_hours\": 1.65, \"trip_first_departure_ts\": 21240, \"trip_last_arrival_ts\": 27180, \"departure_hour\": 5, \"time_of_day\": \"Owl Service\", \"p25\": 1.7, \"p50\": 1.75, \"p75\": 1.75, \"p50_trip\": 0, \"fastest_trip\": 0, \"car_duration_hours\": 1.43, \"competitive_route\": 1, \"bus_multiplier\": 1.15, \"bus_difference\": 13.2, \"num_trips\": 46, \"num_competitive\": 46, \"pct_trips_competitive\": 1.0, \"bus_difference_spread\": 13.2, \"route_group\": \"long\", \"max_trip_hrs\": 1.82, \"max_trip_route_group\": 1.82, \"below_cutoff\": 46, \"pct_below_cutoff\": 1.0, \"name\": \"Peninsula Corridor Joint Powers Board\", \"caltrans_district\": \"04 - Oakland\", \"drmt_organization_name\": null, \"route_name\": \"Local\", \"cutoff2\": 40, \"cutoff\": 2}, {\"calitp_itp_id\": 246, \"trip_key\": -8958954558006098404, \"trip_id\": \"144\", \"shape_id\": \"p_1277323\", \"route_id\": \"19597\", \"service_hours\": 1.67, \"trip_first_departure_ts\": 82800, \"trip_last_arrival_ts\": 88800, \"departure_hour\": 23, \"time_of_day\": \"Owl Service\", \"p25\": 1.7, \"p50\": 1.75, \"p75\": 1.75, \"p50_trip\": 0, \"fastest_trip\": 0, \"car_duration_hours\": 1.43, \"competitive_route\": 1, \"bus_multiplier\": 1.17, \"bus_difference\": 14.4, \"num_trips\": 46, \"num_competitive\": 46, \"pct_trips_competitive\": 1.0, \"bus_difference_spread\": 13.2, \"route_group\": \"long\", \"max_trip_hrs\": 1.82, \"max_trip_route_group\": 1.82, \"below_cutoff\": 46, \"pct_below_cutoff\": 1.0, \"name\": \"Peninsula Corridor Joint Powers Board\", \"caltrans_district\": \"04 - Oakland\", \"drmt_organization_name\": null, \"route_name\": \"Local\", \"cutoff2\": 40, \"cutoff\": 2}, {\"calitp_itp_id\": 246, \"trip_key\": -8012749167314828119, \"trip_id\": \"143\", \"shape_id\": \"p_1277302\", \"route_id\": \"19597\", \"service_hours\": 1.68, \"trip_first_departure_ts\": 80340, \"trip_last_arrival_ts\": 86400, \"departure_hour\": 22, \"time_of_day\": \"Owl Service\", \"p25\": 1.7, \"p50\": 1.75, \"p75\": 1.75, \"p50_trip\": 0, \"fastest_trip\": 0, \"car_duration_hours\": 1.43, \"competitive_route\": 1, \"bus_multiplier\": 1.17, \"bus_difference\": 15.0, \"num_trips\": 46, \"num_competitive\": 46, \"pct_trips_competitive\": 1.0, \"bus_difference_spread\": 13.2, \"route_group\": \"long\", \"max_trip_hrs\": 1.82, \"max_trip_route_group\": 1.82, \"below_cutoff\": 46, \"pct_below_cutoff\": 1.0, \"name\": \"Peninsula Corridor Joint Powers Board\", \"caltrans_district\": \"04 - Oakland\", \"drmt_organization_name\": null, \"route_name\": \"Local\", \"cutoff2\": 40, \"cutoff\": 2}, {\"calitp_itp_id\": 246, \"trip_key\": -2078031831610974864, \"trip_id\": \"130\", \"shape_id\": \"p_1277318\", \"route_id\": \"19597\", \"service_hours\": 1.68, \"trip_first_departure_ts\": 67380, \"trip_last_arrival_ts\": 73440, \"departure_hour\": 18, \"time_of_day\": \"PM Peak\", \"p25\": 1.7, \"p50\": 1.75, \"p75\": 1.75, \"p50_trip\": 0, \"fastest_trip\": 0, \"car_duration_hours\": 1.43, \"competitive_route\": 1, \"bus_multiplier\": 1.17, \"bus_difference\": 15.0, \"num_trips\": 46, \"num_competitive\": 46, \"pct_trips_competitive\": 1.0, \"bus_difference_spread\": 13.2, \"route_group\": \"long\", \"max_trip_hrs\": 1.82, \"max_trip_route_group\": 1.82, \"below_cutoff\": 46, \"pct_below_cutoff\": 1.0, \"name\": \"Peninsula Corridor Joint Powers Board\", \"caltrans_district\": \"04 - Oakland\", \"drmt_organization_name\": null, \"route_name\": \"Local\", \"cutoff2\": 40, \"cutoff\": 2}, {\"calitp_itp_id\": 246, \"trip_key\": -2533582264388860084, \"trip_id\": \"139\", \"shape_id\": \"p_1277302\", \"route_id\": \"19597\", \"service_hours\": 1.68, \"trip_first_departure_ts\": 76740, \"trip_last_arrival_ts\": 82800, \"departure_hour\": 21, \"time_of_day\": \"Owl Service\", \"p25\": 1.7, \"p50\": 1.75, \"p75\": 1.75, \"p50_trip\": 0, \"fastest_trip\": 0, \"car_duration_hours\": 1.43, \"competitive_route\": 1, \"bus_multiplier\": 1.17, \"bus_difference\": 15.0, \"num_trips\": 46, \"num_competitive\": 46, \"pct_trips_competitive\": 1.0, \"bus_difference_spread\": 13.2, \"route_group\": \"long\", \"max_trip_hrs\": 1.82, \"max_trip_route_group\": 1.82, \"below_cutoff\": 46, \"pct_below_cutoff\": 1.0, \"name\": \"Peninsula Corridor Joint Powers Board\", \"caltrans_district\": \"04 - Oakland\", \"drmt_organization_name\": null, \"route_name\": \"Local\", \"cutoff2\": 40, \"cutoff\": 2}, {\"calitp_itp_id\": 246, \"trip_key\": -8453341878020378784, \"trip_id\": \"146\", \"shape_id\": \"p_1277318\", \"route_id\": \"19597\", \"service_hours\": 1.68, \"trip_first_departure_ts\": 86700, \"trip_last_arrival_ts\": 92760, \"departure_hour\": 0, \"time_of_day\": \"Owl Service\", \"p25\": 1.7, \"p50\": 1.75, \"p75\": 1.75, \"p50_trip\": 0, \"fastest_trip\": 0, \"car_duration_hours\": 1.43, \"competitive_route\": 1, \"bus_multiplier\": 1.17, \"bus_difference\": 15.0, \"num_trips\": 46, \"num_competitive\": 46, \"pct_trips_competitive\": 1.0, \"bus_difference_spread\": 13.2, \"route_group\": \"long\", \"max_trip_hrs\": 1.82, \"max_trip_route_group\": 1.82, \"below_cutoff\": 46, \"pct_below_cutoff\": 1.0, \"name\": \"Peninsula Corridor Joint Powers Board\", \"caltrans_district\": \"04 - Oakland\", \"drmt_organization_name\": null, \"route_name\": \"Local\", \"cutoff2\": 40, \"cutoff\": 2}, {\"calitp_itp_id\": 246, \"trip_key\": 7323152046150746861, \"trip_id\": \"101\", \"shape_id\": \"p_1277305\", \"route_id\": \"19597\", \"service_hours\": 1.68, \"trip_first_departure_ts\": 15720, \"trip_last_arrival_ts\": 21780, \"departure_hour\": 4, \"time_of_day\": \"Owl Service\", \"p25\": 1.7, \"p50\": 1.75, \"p75\": 1.75, \"p50_trip\": 0, \"fastest_trip\": 0, \"car_duration_hours\": 1.43, \"competitive_route\": 1, \"bus_multiplier\": 1.17, \"bus_difference\": 15.0, \"num_trips\": 46, \"num_competitive\": 46, \"pct_trips_competitive\": 1.0, \"bus_difference_spread\": 13.2, \"route_group\": \"long\", \"max_trip_hrs\": 1.82, \"max_trip_route_group\": 1.82, \"below_cutoff\": 46, \"pct_below_cutoff\": 1.0, \"name\": \"Peninsula Corridor Joint Powers Board\", \"caltrans_district\": \"04 - Oakland\", \"drmt_organization_name\": null, \"route_name\": \"Local\", \"cutoff2\": 40, \"cutoff\": 2}, {\"calitp_itp_id\": 246, \"trip_key\": -3435984903443032891, \"trip_id\": \"111\", \"shape_id\": \"p_1277305\", \"route_id\": \"19597\", \"service_hours\": 1.7, \"trip_first_departure_ts\": 31800, \"trip_last_arrival_ts\": 37920, \"departure_hour\": 8, \"time_of_day\": \"AM Peak\", \"p25\": 1.7, \"p50\": 1.75, \"p75\": 1.75, \"p50_trip\": 0, \"fastest_trip\": 0, \"car_duration_hours\": 1.43, \"competitive_route\": 1, \"bus_multiplier\": 1.19, \"bus_difference\": 16.2, \"num_trips\": 46, \"num_competitive\": 46, \"pct_trips_competitive\": 1.0, \"bus_difference_spread\": 13.2, \"route_group\": \"long\", \"max_trip_hrs\": 1.82, \"max_trip_route_group\": 1.82, \"below_cutoff\": 46, \"pct_below_cutoff\": 1.0, \"name\": \"Peninsula Corridor Joint Powers Board\", \"caltrans_district\": \"04 - Oakland\", \"drmt_organization_name\": null, \"route_name\": \"Local\", \"cutoff2\": 40, \"cutoff\": 2}, {\"calitp_itp_id\": 246, \"trip_key\": 5743500028399521575, \"trip_id\": \"136\", \"shape_id\": \"p_1277323\", \"route_id\": \"19597\", \"service_hours\": 1.7, \"trip_first_departure_ts\": 75720, \"trip_last_arrival_ts\": 81840, \"departure_hour\": 21, \"time_of_day\": \"Owl Service\", \"p25\": 1.7, \"p50\": 1.75, \"p75\": 1.75, \"p50_trip\": 0, \"fastest_trip\": 0, \"car_duration_hours\": 1.43, \"competitive_route\": 1, \"bus_multiplier\": 1.19, \"bus_difference\": 16.2, \"num_trips\": 46, \"num_competitive\": 46, \"pct_trips_competitive\": 1.0, \"bus_difference_spread\": 13.2, \"route_group\": \"long\", \"max_trip_hrs\": 1.82, \"max_trip_route_group\": 1.82, \"below_cutoff\": 46, \"pct_below_cutoff\": 1.0, \"name\": \"Peninsula Corridor Joint Powers Board\", \"caltrans_district\": \"04 - Oakland\", \"drmt_organization_name\": null, \"route_name\": \"Local\", \"cutoff2\": 40, \"cutoff\": 2}, {\"calitp_itp_id\": 246, \"trip_key\": -1535996178360945529, \"trip_id\": \"140\", \"shape_id\": \"p_1277323\", \"route_id\": \"19597\", \"service_hours\": 1.7, \"trip_first_departure_ts\": 79200, \"trip_last_arrival_ts\": 85320, \"departure_hour\": 22, \"time_of_day\": \"Owl Service\", \"p25\": 1.7, \"p50\": 1.75, \"p75\": 1.75, \"p50_trip\": 0, \"fastest_trip\": 0, \"car_duration_hours\": 1.43, \"competitive_route\": 1, \"bus_multiplier\": 1.19, \"bus_difference\": 16.2, \"num_trips\": 46, \"num_competitive\": 46, \"pct_trips_competitive\": 1.0, \"bus_difference_spread\": 13.2, \"route_group\": \"long\", \"max_trip_hrs\": 1.82, \"max_trip_route_group\": 1.82, \"below_cutoff\": 46, \"pct_below_cutoff\": 1.0, \"name\": \"Peninsula Corridor Joint Powers Board\", \"caltrans_district\": \"04 - Oakland\", \"drmt_organization_name\": null, \"route_name\": \"Local\", \"cutoff2\": 40, \"cutoff\": 2}, {\"calitp_itp_id\": 246, \"trip_key\": 647578507224536459, \"trip_id\": \"110\", \"shape_id\": \"p_1277318\", \"route_id\": \"19597\", \"service_hours\": 1.73, \"trip_first_departure_ts\": 31140, \"trip_last_arrival_ts\": 37380, \"departure_hour\": 8, \"time_of_day\": \"AM Peak\", \"p25\": 1.7, \"p50\": 1.75, \"p75\": 1.75, \"p50_trip\": 0, \"fastest_trip\": 0, \"car_duration_hours\": 1.43, \"competitive_route\": 1, \"bus_multiplier\": 1.21, \"bus_difference\": 18.0, \"num_trips\": 46, \"num_competitive\": 46, \"pct_trips_competitive\": 1.0, \"bus_difference_spread\": 13.2, \"route_group\": \"long\", \"max_trip_hrs\": 1.82, \"max_trip_route_group\": 1.82, \"below_cutoff\": 46, \"pct_below_cutoff\": 1.0, \"name\": \"Peninsula Corridor Joint Powers Board\", \"caltrans_district\": \"04 - Oakland\", \"drmt_organization_name\": null, \"route_name\": \"Local\", \"cutoff2\": 40, \"cutoff\": 2}, {\"calitp_itp_id\": 246, \"trip_key\": -6551713115548737987, \"trip_id\": \"124\", \"shape_id\": \"p_1277318\", \"route_id\": \"19597\", \"service_hours\": 1.73, \"trip_first_departure_ts\": 56340, \"trip_last_arrival_ts\": 62580, \"departure_hour\": 15, \"time_of_day\": \"Midday\", \"p25\": 1.7, \"p50\": 1.75, \"p75\": 1.75, \"p50_trip\": 0, \"fastest_trip\": 0, \"car_duration_hours\": 1.43, \"competitive_route\": 1, \"bus_multiplier\": 1.21, \"bus_difference\": 18.0, \"num_trips\": 46, \"num_competitive\": 46, \"pct_trips_competitive\": 1.0, \"bus_difference_spread\": 13.2, \"route_group\": \"long\", \"max_trip_hrs\": 1.82, \"max_trip_route_group\": 1.82, \"below_cutoff\": 46, \"pct_below_cutoff\": 1.0, \"name\": \"Peninsula Corridor Joint Powers Board\", \"caltrans_district\": \"04 - Oakland\", \"drmt_organization_name\": null, \"route_name\": \"Local\", \"cutoff2\": 40, \"cutoff\": 2}, {\"calitp_itp_id\": 246, \"trip_key\": 3319411844440389518, \"trip_id\": \"108\", \"shape_id\": \"p_1277318\", \"route_id\": \"19597\", \"service_hours\": 1.75, \"trip_first_departure_ts\": 27540, \"trip_last_arrival_ts\": 33840, \"departure_hour\": 7, \"time_of_day\": \"AM Peak\", \"p25\": 1.7, \"p50\": 1.75, \"p75\": 1.75, \"p50_trip\": 1, \"fastest_trip\": 0, \"car_duration_hours\": 1.43, \"competitive_route\": 1, \"bus_multiplier\": 1.22, \"bus_difference\": 19.2, \"num_trips\": 46, \"num_competitive\": 46, \"pct_trips_competitive\": 1.0, \"bus_difference_spread\": 13.2, \"route_group\": \"long\", \"max_trip_hrs\": 1.82, \"max_trip_route_group\": 1.82, \"below_cutoff\": 46, \"pct_below_cutoff\": 1.0, \"name\": \"Peninsula Corridor Joint Powers Board\", \"caltrans_district\": \"04 - Oakland\", \"drmt_organization_name\": null, \"route_name\": \"Local\", \"cutoff2\": 40, \"cutoff\": 2}, {\"calitp_itp_id\": 246, \"trip_key\": 4264555593112950191, \"trip_id\": \"109\", \"shape_id\": \"p_1277305\", \"route_id\": \"19597\", \"service_hours\": 1.75, \"trip_first_departure_ts\": 28080, \"trip_last_arrival_ts\": 34380, \"departure_hour\": 7, \"time_of_day\": \"AM Peak\", \"p25\": 1.7, \"p50\": 1.75, \"p75\": 1.75, \"p50_trip\": 1, \"fastest_trip\": 0, \"car_duration_hours\": 1.43, \"competitive_route\": 1, \"bus_multiplier\": 1.22, \"bus_difference\": 19.2, \"num_trips\": 46, \"num_competitive\": 46, \"pct_trips_competitive\": 1.0, \"bus_difference_spread\": 13.2, \"route_group\": \"long\", \"max_trip_hrs\": 1.82, \"max_trip_route_group\": 1.82, \"below_cutoff\": 46, \"pct_below_cutoff\": 1.0, \"name\": \"Peninsula Corridor Joint Powers Board\", \"caltrans_district\": \"04 - Oakland\", \"drmt_organization_name\": null, \"route_name\": \"Local\", \"cutoff2\": 40, \"cutoff\": 2}, {\"calitp_itp_id\": 246, \"trip_key\": 1773533607613883001, \"trip_id\": \"119\", \"shape_id\": \"p_1277305\", \"route_id\": \"19597\", \"service_hours\": 1.75, \"trip_first_departure_ts\": 46080, \"trip_last_arrival_ts\": 52380, \"departure_hour\": 12, \"time_of_day\": \"Midday\", \"p25\": 1.7, \"p50\": 1.75, \"p75\": 1.75, \"p50_trip\": 1, \"fastest_trip\": 0, \"car_duration_hours\": 1.43, \"competitive_route\": 1, \"bus_multiplier\": 1.22, \"bus_difference\": 19.2, \"num_trips\": 46, \"num_competitive\": 46, \"pct_trips_competitive\": 1.0, \"bus_difference_spread\": 13.2, \"route_group\": \"long\", \"max_trip_hrs\": 1.82, \"max_trip_route_group\": 1.82, \"below_cutoff\": 46, \"pct_below_cutoff\": 1.0, \"name\": \"Peninsula Corridor Joint Powers Board\", \"caltrans_district\": \"04 - Oakland\", \"drmt_organization_name\": null, \"route_name\": \"Local\", \"cutoff2\": 40, \"cutoff\": 2}, {\"calitp_itp_id\": 246, \"trip_key\": -8648538179596301004, \"trip_id\": \"120\", \"shape_id\": \"p_1277318\", \"route_id\": \"19597\", \"service_hours\": 1.75, \"trip_first_departure_ts\": 49080, \"trip_last_arrival_ts\": 55380, \"departure_hour\": 13, \"time_of_day\": \"Midday\", \"p25\": 1.7, \"p50\": 1.75, \"p75\": 1.75, \"p50_trip\": 1, \"fastest_trip\": 0, \"car_duration_hours\": 1.43, \"competitive_route\": 1, \"bus_multiplier\": 1.22, \"bus_difference\": 19.2, \"num_trips\": 46, \"num_competitive\": 46, \"pct_trips_competitive\": 1.0, \"bus_difference_spread\": 13.2, \"route_group\": \"long\", \"max_trip_hrs\": 1.82, \"max_trip_route_group\": 1.82, \"below_cutoff\": 46, \"pct_below_cutoff\": 1.0, \"name\": \"Peninsula Corridor Joint Powers Board\", \"caltrans_district\": \"04 - Oakland\", \"drmt_organization_name\": null, \"route_name\": \"Local\", \"cutoff2\": 40, \"cutoff\": 2}, {\"calitp_itp_id\": 246, \"trip_key\": -401801045673963416, \"trip_id\": \"118\", \"shape_id\": \"p_1277318\", \"route_id\": \"19597\", \"service_hours\": 1.75, \"trip_first_departure_ts\": 45480, \"trip_last_arrival_ts\": 51780, \"departure_hour\": 12, \"time_of_day\": \"Midday\", \"p25\": 1.7, \"p50\": 1.75, \"p75\": 1.75, \"p50_trip\": 1, \"fastest_trip\": 0, \"car_duration_hours\": 1.43, \"competitive_route\": 1, \"bus_multiplier\": 1.22, \"bus_difference\": 19.2, \"num_trips\": 46, \"num_competitive\": 46, \"pct_trips_competitive\": 1.0, \"bus_difference_spread\": 13.2, \"route_group\": \"long\", \"max_trip_hrs\": 1.82, \"max_trip_route_group\": 1.82, \"below_cutoff\": 46, \"pct_below_cutoff\": 1.0, \"name\": \"Peninsula Corridor Joint Powers Board\", \"caltrans_district\": \"04 - Oakland\", \"drmt_organization_name\": null, \"route_name\": \"Local\", \"cutoff2\": 40, \"cutoff\": 2}, {\"calitp_itp_id\": 246, \"trip_key\": 6025296614014743059, \"trip_id\": \"114\", \"shape_id\": \"p_1277318\", \"route_id\": \"19597\", \"service_hours\": 1.75, \"trip_first_departure_ts\": 38280, \"trip_last_arrival_ts\": 44580, \"departure_hour\": 10, \"time_of_day\": \"Midday\", \"p25\": 1.7, \"p50\": 1.75, \"p75\": 1.75, \"p50_trip\": 1, \"fastest_trip\": 0, \"car_duration_hours\": 1.43, \"competitive_route\": 1, \"bus_multiplier\": 1.22, \"bus_difference\": 19.2, \"num_trips\": 46, \"num_competitive\": 46, \"pct_trips_competitive\": 1.0, \"bus_difference_spread\": 13.2, \"route_group\": \"long\", \"max_trip_hrs\": 1.82, \"max_trip_route_group\": 1.82, \"below_cutoff\": 46, \"pct_below_cutoff\": 1.0, \"name\": \"Peninsula Corridor Joint Powers Board\", \"caltrans_district\": \"04 - Oakland\", \"drmt_organization_name\": null, \"route_name\": \"Local\", \"cutoff2\": 40, \"cutoff\": 2}, {\"calitp_itp_id\": 246, \"trip_key\": 7949029472313082551, \"trip_id\": \"131\", \"shape_id\": \"p_1277305\", \"route_id\": \"19597\", \"service_hours\": 1.75, \"trip_first_departure_ts\": 67800, \"trip_last_arrival_ts\": 74100, \"departure_hour\": 18, \"time_of_day\": \"PM Peak\", \"p25\": 1.7, \"p50\": 1.75, \"p75\": 1.75, \"p50_trip\": 1, \"fastest_trip\": 0, \"car_duration_hours\": 1.43, \"competitive_route\": 1, \"bus_multiplier\": 1.22, \"bus_difference\": 19.2, \"num_trips\": 46, \"num_competitive\": 46, \"pct_trips_competitive\": 1.0, \"bus_difference_spread\": 13.2, \"route_group\": \"long\", \"max_trip_hrs\": 1.82, \"max_trip_route_group\": 1.82, \"below_cutoff\": 46, \"pct_below_cutoff\": 1.0, \"name\": \"Peninsula Corridor Joint Powers Board\", \"caltrans_district\": \"04 - Oakland\", \"drmt_organization_name\": null, \"route_name\": \"Local\", \"cutoff2\": 40, \"cutoff\": 2}, {\"calitp_itp_id\": 246, \"trip_key\": 4815906874404952375, \"trip_id\": \"133\", \"shape_id\": \"p_1277305\", \"route_id\": \"19597\", \"service_hours\": 1.75, \"trip_first_departure_ts\": 71280, \"trip_last_arrival_ts\": 77580, \"departure_hour\": 19, \"time_of_day\": \"PM Peak\", \"p25\": 1.7, \"p50\": 1.75, \"p75\": 1.75, \"p50_trip\": 1, \"fastest_trip\": 0, \"car_duration_hours\": 1.43, \"competitive_route\": 1, \"bus_multiplier\": 1.22, \"bus_difference\": 19.2, \"num_trips\": 46, \"num_competitive\": 46, \"pct_trips_competitive\": 1.0, \"bus_difference_spread\": 13.2, \"route_group\": \"long\", \"max_trip_hrs\": 1.82, \"max_trip_route_group\": 1.82, \"below_cutoff\": 46, \"pct_below_cutoff\": 1.0, \"name\": \"Peninsula Corridor Joint Powers Board\", \"caltrans_district\": \"04 - Oakland\", \"drmt_organization_name\": null, \"route_name\": \"Local\", \"cutoff2\": 40, \"cutoff\": 2}, {\"calitp_itp_id\": 246, \"trip_key\": 6205656637669239208, \"trip_id\": \"104\", \"shape_id\": \"p_1277318\", \"route_id\": \"19597\", \"service_hours\": 1.75, \"trip_first_departure_ts\": 20340, \"trip_last_arrival_ts\": 26640, \"departure_hour\": 5, \"time_of_day\": \"Owl Service\", \"p25\": 1.7, \"p50\": 1.75, \"p75\": 1.75, \"p50_trip\": 1, \"fastest_trip\": 0, \"car_duration_hours\": 1.43, \"competitive_route\": 1, \"bus_multiplier\": 1.22, \"bus_difference\": 19.2, \"num_trips\": 46, \"num_competitive\": 46, \"pct_trips_competitive\": 1.0, \"bus_difference_spread\": 13.2, \"route_group\": \"long\", \"max_trip_hrs\": 1.82, \"max_trip_route_group\": 1.82, \"below_cutoff\": 46, \"pct_below_cutoff\": 1.0, \"name\": \"Peninsula Corridor Joint Powers Board\", \"caltrans_district\": \"04 - Oakland\", \"drmt_organization_name\": null, \"route_name\": \"Local\", \"cutoff2\": 40, \"cutoff\": 2}, {\"calitp_itp_id\": 246, \"trip_key\": 4812170336875352889, \"trip_id\": \"113\", \"shape_id\": \"p_1277305\", \"route_id\": \"19597\", \"service_hours\": 1.75, \"trip_first_departure_ts\": 35280, \"trip_last_arrival_ts\": 41580, \"departure_hour\": 9, \"time_of_day\": \"AM Peak\", \"p25\": 1.7, \"p50\": 1.75, \"p75\": 1.75, \"p50_trip\": 1, \"fastest_trip\": 0, \"car_duration_hours\": 1.43, \"competitive_route\": 1, \"bus_multiplier\": 1.22, \"bus_difference\": 19.2, \"num_trips\": 46, \"num_competitive\": 46, \"pct_trips_competitive\": 1.0, \"bus_difference_spread\": 13.2, \"route_group\": \"long\", \"max_trip_hrs\": 1.82, \"max_trip_route_group\": 1.82, \"below_cutoff\": 46, \"pct_below_cutoff\": 1.0, \"name\": \"Peninsula Corridor Joint Powers Board\", \"caltrans_district\": \"04 - Oakland\", \"drmt_organization_name\": null, \"route_name\": \"Local\", \"cutoff2\": 40, \"cutoff\": 2}, {\"calitp_itp_id\": 246, \"trip_key\": -7066354310175022709, \"trip_id\": \"123\", \"shape_id\": \"p_1277305\", \"route_id\": \"19597\", \"service_hours\": 1.75, \"trip_first_departure_ts\": 53280, \"trip_last_arrival_ts\": 59580, \"departure_hour\": 14, \"time_of_day\": \"Midday\", \"p25\": 1.7, \"p50\": 1.75, \"p75\": 1.75, \"p50_trip\": 1, \"fastest_trip\": 0, \"car_duration_hours\": 1.43, \"competitive_route\": 1, \"bus_multiplier\": 1.22, \"bus_difference\": 19.2, \"num_trips\": 46, \"num_competitive\": 46, \"pct_trips_competitive\": 1.0, \"bus_difference_spread\": 13.2, \"route_group\": \"long\", \"max_trip_hrs\": 1.82, \"max_trip_route_group\": 1.82, \"below_cutoff\": 46, \"pct_below_cutoff\": 1.0, \"name\": \"Peninsula Corridor Joint Powers Board\", \"caltrans_district\": \"04 - Oakland\", \"drmt_organization_name\": null, \"route_name\": \"Local\", \"cutoff2\": 40, \"cutoff\": 2}, {\"calitp_itp_id\": 246, \"trip_key\": 4964944345699315207, \"trip_id\": \"127\", \"shape_id\": \"p_1277305\", \"route_id\": \"19597\", \"service_hours\": 1.75, \"trip_first_departure_ts\": 60480, \"trip_last_arrival_ts\": 66780, \"departure_hour\": 16, \"time_of_day\": \"Midday\", \"p25\": 1.7, \"p50\": 1.75, \"p75\": 1.75, \"p50_trip\": 1, \"fastest_trip\": 0, \"car_duration_hours\": 1.43, \"competitive_route\": 1, \"bus_multiplier\": 1.22, \"bus_difference\": 19.2, \"num_trips\": 46, \"num_competitive\": 46, \"pct_trips_competitive\": 1.0, \"bus_difference_spread\": 13.2, \"route_group\": \"long\", \"max_trip_hrs\": 1.82, \"max_trip_route_group\": 1.82, \"below_cutoff\": 46, \"pct_below_cutoff\": 1.0, \"name\": \"Peninsula Corridor Joint Powers Board\", \"caltrans_district\": \"04 - Oakland\", \"drmt_organization_name\": null, \"route_name\": \"Local\", \"cutoff2\": 40, \"cutoff\": 2}, {\"calitp_itp_id\": 246, \"trip_key\": 3648378566297995686, \"trip_id\": \"117\", \"shape_id\": \"p_1277305\", \"route_id\": \"19597\", \"service_hours\": 1.75, \"trip_first_departure_ts\": 42480, \"trip_last_arrival_ts\": 48780, \"departure_hour\": 11, \"time_of_day\": \"Midday\", \"p25\": 1.7, \"p50\": 1.75, \"p75\": 1.75, \"p50_trip\": 1, \"fastest_trip\": 0, \"car_duration_hours\": 1.43, \"competitive_route\": 1, \"bus_multiplier\": 1.22, \"bus_difference\": 19.2, \"num_trips\": 46, \"num_competitive\": 46, \"pct_trips_competitive\": 1.0, \"bus_difference_spread\": 13.2, \"route_group\": \"long\", \"max_trip_hrs\": 1.82, \"max_trip_route_group\": 1.82, \"below_cutoff\": 46, \"pct_below_cutoff\": 1.0, \"name\": \"Peninsula Corridor Joint Powers Board\", \"caltrans_district\": \"04 - Oakland\", \"drmt_organization_name\": null, \"route_name\": \"Local\", \"cutoff2\": 40, \"cutoff\": 2}, {\"calitp_itp_id\": 246, \"trip_key\": -6936639380642816163, \"trip_id\": \"121\", \"shape_id\": \"p_1277305\", \"route_id\": \"19597\", \"service_hours\": 1.75, \"trip_first_departure_ts\": 49680, \"trip_last_arrival_ts\": 55980, \"departure_hour\": 13, \"time_of_day\": \"Midday\", \"p25\": 1.7, \"p50\": 1.75, \"p75\": 1.75, \"p50_trip\": 1, \"fastest_trip\": 0, \"car_duration_hours\": 1.43, \"competitive_route\": 1, \"bus_multiplier\": 1.22, \"bus_difference\": 19.2, \"num_trips\": 46, \"num_competitive\": 46, \"pct_trips_competitive\": 1.0, \"bus_difference_spread\": 13.2, \"route_group\": \"long\", \"max_trip_hrs\": 1.82, \"max_trip_route_group\": 1.82, \"below_cutoff\": 46, \"pct_below_cutoff\": 1.0, \"name\": \"Peninsula Corridor Joint Powers Board\", \"caltrans_district\": \"04 - Oakland\", \"drmt_organization_name\": null, \"route_name\": \"Local\", \"cutoff2\": 40, \"cutoff\": 2}, {\"calitp_itp_id\": 246, \"trip_key\": 1672243175883581498, \"trip_id\": \"107\", \"shape_id\": \"p_1277305\", \"route_id\": \"19597\", \"service_hours\": 1.75, \"trip_first_departure_ts\": 24480, \"trip_last_arrival_ts\": 30780, \"departure_hour\": 6, \"time_of_day\": \"Owl Service\", \"p25\": 1.7, \"p50\": 1.75, \"p75\": 1.75, \"p50_trip\": 1, \"fastest_trip\": 0, \"car_duration_hours\": 1.43, \"competitive_route\": 1, \"bus_multiplier\": 1.22, \"bus_difference\": 19.2, \"num_trips\": 46, \"num_competitive\": 46, \"pct_trips_competitive\": 1.0, \"bus_difference_spread\": 13.2, \"route_group\": \"long\", \"max_trip_hrs\": 1.82, \"max_trip_route_group\": 1.82, \"below_cutoff\": 46, \"pct_below_cutoff\": 1.0, \"name\": \"Peninsula Corridor Joint Powers Board\", \"caltrans_district\": \"04 - Oakland\", \"drmt_organization_name\": null, \"route_name\": \"Local\", \"cutoff2\": 40, \"cutoff\": 2}, {\"calitp_itp_id\": 246, \"trip_key\": -2605578953738035263, \"trip_id\": \"116\", \"shape_id\": \"p_1277318\", \"route_id\": \"19597\", \"service_hours\": 1.75, \"trip_first_departure_ts\": 41880, \"trip_last_arrival_ts\": 48180, \"departure_hour\": 11, \"time_of_day\": \"Midday\", \"p25\": 1.7, \"p50\": 1.75, \"p75\": 1.75, \"p50_trip\": 1, \"fastest_trip\": 0, \"car_duration_hours\": 1.43, \"competitive_route\": 1, \"bus_multiplier\": 1.22, \"bus_difference\": 19.2, \"num_trips\": 46, \"num_competitive\": 46, \"pct_trips_competitive\": 1.0, \"bus_difference_spread\": 13.2, \"route_group\": \"long\", \"max_trip_hrs\": 1.82, \"max_trip_route_group\": 1.82, \"below_cutoff\": 46, \"pct_below_cutoff\": 1.0, \"name\": \"Peninsula Corridor Joint Powers Board\", \"caltrans_district\": \"04 - Oakland\", \"drmt_organization_name\": null, \"route_name\": \"Local\", \"cutoff2\": 40, \"cutoff\": 2}, {\"calitp_itp_id\": 246, \"trip_key\": 4883286022941161378, \"trip_id\": \"128\", \"shape_id\": \"p_1277318\", \"route_id\": \"19597\", \"service_hours\": 1.75, \"trip_first_departure_ts\": 63540, \"trip_last_arrival_ts\": 69840, \"departure_hour\": 17, \"time_of_day\": \"PM Peak\", \"p25\": 1.7, \"p50\": 1.75, \"p75\": 1.75, \"p50_trip\": 1, \"fastest_trip\": 0, \"car_duration_hours\": 1.43, \"competitive_route\": 1, \"bus_multiplier\": 1.22, \"bus_difference\": 19.2, \"num_trips\": 46, \"num_competitive\": 46, \"pct_trips_competitive\": 1.0, \"bus_difference_spread\": 13.2, \"route_group\": \"long\", \"max_trip_hrs\": 1.82, \"max_trip_route_group\": 1.82, \"below_cutoff\": 46, \"pct_below_cutoff\": 1.0, \"name\": \"Peninsula Corridor Joint Powers Board\", \"caltrans_district\": \"04 - Oakland\", \"drmt_organization_name\": null, \"route_name\": \"Local\", \"cutoff2\": 40, \"cutoff\": 2}, {\"calitp_itp_id\": 246, \"trip_key\": -4681306232203559933, \"trip_id\": \"112\", \"shape_id\": \"p_1277318\", \"route_id\": \"19597\", \"service_hours\": 1.75, \"trip_first_departure_ts\": 34680, \"trip_last_arrival_ts\": 40980, \"departure_hour\": 9, \"time_of_day\": \"AM Peak\", \"p25\": 1.7, \"p50\": 1.75, \"p75\": 1.75, \"p50_trip\": 1, \"fastest_trip\": 0, \"car_duration_hours\": 1.43, \"competitive_route\": 1, \"bus_multiplier\": 1.22, \"bus_difference\": 19.2, \"num_trips\": 46, \"num_competitive\": 46, \"pct_trips_competitive\": 1.0, \"bus_difference_spread\": 13.2, \"route_group\": \"long\", \"max_trip_hrs\": 1.82, \"max_trip_route_group\": 1.82, \"below_cutoff\": 46, \"pct_below_cutoff\": 1.0, \"name\": \"Peninsula Corridor Joint Powers Board\", \"caltrans_district\": \"04 - Oakland\", \"drmt_organization_name\": null, \"route_name\": \"Local\", \"cutoff2\": 40, \"cutoff\": 2}, {\"calitp_itp_id\": 246, \"trip_key\": 92157010597196066, \"trip_id\": \"115\", \"shape_id\": \"p_1277305\", \"route_id\": \"19597\", \"service_hours\": 1.75, \"trip_first_departure_ts\": 38880, \"trip_last_arrival_ts\": 45180, \"departure_hour\": 10, \"time_of_day\": \"Midday\", \"p25\": 1.7, \"p50\": 1.75, \"p75\": 1.75, \"p50_trip\": 1, \"fastest_trip\": 0, \"car_duration_hours\": 1.43, \"competitive_route\": 1, \"bus_multiplier\": 1.22, \"bus_difference\": 19.2, \"num_trips\": 46, \"num_competitive\": 46, \"pct_trips_competitive\": 1.0, \"bus_difference_spread\": 13.2, \"route_group\": \"long\", \"max_trip_hrs\": 1.82, \"max_trip_route_group\": 1.82, \"below_cutoff\": 46, \"pct_below_cutoff\": 1.0, \"name\": \"Peninsula Corridor Joint Powers Board\", \"caltrans_district\": \"04 - Oakland\", \"drmt_organization_name\": null, \"route_name\": \"Local\", \"cutoff2\": 40, \"cutoff\": 2}, {\"calitp_itp_id\": 246, \"trip_key\": -1594534215706849064, \"trip_id\": \"125\", \"shape_id\": \"p_1277305\", \"route_id\": \"19597\", \"service_hours\": 1.75, \"trip_first_departure_ts\": 56880, \"trip_last_arrival_ts\": 63180, \"departure_hour\": 15, \"time_of_day\": \"Midday\", \"p25\": 1.7, \"p50\": 1.75, \"p75\": 1.75, \"p50_trip\": 1, \"fastest_trip\": 0, \"car_duration_hours\": 1.43, \"competitive_route\": 1, \"bus_multiplier\": 1.22, \"bus_difference\": 19.2, \"num_trips\": 46, \"num_competitive\": 46, \"pct_trips_competitive\": 1.0, \"bus_difference_spread\": 13.2, \"route_group\": \"long\", \"max_trip_hrs\": 1.82, \"max_trip_route_group\": 1.82, \"below_cutoff\": 46, \"pct_below_cutoff\": 1.0, \"name\": \"Peninsula Corridor Joint Powers Board\", \"caltrans_district\": \"04 - Oakland\", \"drmt_organization_name\": null, \"route_name\": \"Local\", \"cutoff2\": 40, \"cutoff\": 2}, {\"calitp_itp_id\": 246, \"trip_key\": 2483166844999297530, \"trip_id\": \"142\", \"shape_id\": \"p_1277318\", \"route_id\": \"19597\", \"service_hours\": 1.77, \"trip_first_departure_ts\": 81000, \"trip_last_arrival_ts\": 87360, \"departure_hour\": 22, \"time_of_day\": \"Owl Service\", \"p25\": 1.7, \"p50\": 1.75, \"p75\": 1.75, \"p50_trip\": 0, \"fastest_trip\": 0, \"car_duration_hours\": 1.43, \"competitive_route\": 1, \"bus_multiplier\": 1.24, \"bus_difference\": 20.4, \"num_trips\": 46, \"num_competitive\": 46, \"pct_trips_competitive\": 1.0, \"bus_difference_spread\": 13.2, \"route_group\": \"long\", \"max_trip_hrs\": 1.82, \"max_trip_route_group\": 1.82, \"below_cutoff\": 46, \"pct_below_cutoff\": 1.0, \"name\": \"Peninsula Corridor Joint Powers Board\", \"caltrans_district\": \"04 - Oakland\", \"drmt_organization_name\": null, \"route_name\": \"Local\", \"cutoff2\": 40, \"cutoff\": 2}, {\"calitp_itp_id\": 246, \"trip_key\": 3951226423840344857, \"trip_id\": \"132\", \"shape_id\": \"p_1277318\", \"route_id\": \"19597\", \"service_hours\": 1.77, \"trip_first_departure_ts\": 70680, \"trip_last_arrival_ts\": 77040, \"departure_hour\": 19, \"time_of_day\": \"PM Peak\", \"p25\": 1.7, \"p50\": 1.75, \"p75\": 1.75, \"p50_trip\": 0, \"fastest_trip\": 0, \"car_duration_hours\": 1.43, \"competitive_route\": 1, \"bus_multiplier\": 1.24, \"bus_difference\": 20.4, \"num_trips\": 46, \"num_competitive\": 46, \"pct_trips_competitive\": 1.0, \"bus_difference_spread\": 13.2, \"route_group\": \"long\", \"max_trip_hrs\": 1.82, \"max_trip_route_group\": 1.82, \"below_cutoff\": 46, \"pct_below_cutoff\": 1.0, \"name\": \"Peninsula Corridor Joint Powers Board\", \"caltrans_district\": \"04 - Oakland\", \"drmt_organization_name\": null, \"route_name\": \"Local\", \"cutoff2\": 40, \"cutoff\": 2}, {\"calitp_itp_id\": 246, \"trip_key\": 6862438000355524506, \"trip_id\": \"122\", \"shape_id\": \"p_1277318\", \"route_id\": \"19597\", \"service_hours\": 1.77, \"trip_first_departure_ts\": 52680, \"trip_last_arrival_ts\": 59040, \"departure_hour\": 14, \"time_of_day\": \"Midday\", \"p25\": 1.7, \"p50\": 1.75, \"p75\": 1.75, \"p50_trip\": 0, \"fastest_trip\": 0, \"car_duration_hours\": 1.43, \"competitive_route\": 1, \"bus_multiplier\": 1.24, \"bus_difference\": 20.4, \"num_trips\": 46, \"num_competitive\": 46, \"pct_trips_competitive\": 1.0, \"bus_difference_spread\": 13.2, \"route_group\": \"long\", \"max_trip_hrs\": 1.82, \"max_trip_route_group\": 1.82, \"below_cutoff\": 46, \"pct_below_cutoff\": 1.0, \"name\": \"Peninsula Corridor Joint Powers Board\", \"caltrans_district\": \"04 - Oakland\", \"drmt_organization_name\": null, \"route_name\": \"Local\", \"cutoff2\": 40, \"cutoff\": 2}, {\"calitp_itp_id\": 246, \"trip_key\": 2915845959629369023, \"trip_id\": \"141\", \"shape_id\": \"p_1277305\", \"route_id\": \"19597\", \"service_hours\": 1.78, \"trip_first_departure_ts\": 78120, \"trip_last_arrival_ts\": 84540, \"departure_hour\": 21, \"time_of_day\": \"Owl Service\", \"p25\": 1.7, \"p50\": 1.75, \"p75\": 1.75, \"p50_trip\": 0, \"fastest_trip\": 0, \"car_duration_hours\": 1.43, \"competitive_route\": 1, \"bus_multiplier\": 1.24, \"bus_difference\": 21.0, \"num_trips\": 46, \"num_competitive\": 46, \"pct_trips_competitive\": 1.0, \"bus_difference_spread\": 13.2, \"route_group\": \"long\", \"max_trip_hrs\": 1.82, \"max_trip_route_group\": 1.82, \"below_cutoff\": 46, \"pct_below_cutoff\": 1.0, \"name\": \"Peninsula Corridor Joint Powers Board\", \"caltrans_district\": \"04 - Oakland\", \"drmt_organization_name\": null, \"route_name\": \"Local\", \"cutoff2\": 40, \"cutoff\": 2}, {\"calitp_itp_id\": 246, \"trip_key\": -4015804034740066318, \"trip_id\": \"126\", \"shape_id\": \"p_1277318\", \"route_id\": \"19597\", \"service_hours\": 1.78, \"trip_first_departure_ts\": 59940, \"trip_last_arrival_ts\": 66360, \"departure_hour\": 16, \"time_of_day\": \"Midday\", \"p25\": 1.7, \"p50\": 1.75, \"p75\": 1.75, \"p50_trip\": 0, \"fastest_trip\": 0, \"car_duration_hours\": 1.43, \"competitive_route\": 1, \"bus_multiplier\": 1.24, \"bus_difference\": 21.0, \"num_trips\": 46, \"num_competitive\": 46, \"pct_trips_competitive\": 1.0, \"bus_difference_spread\": 13.2, \"route_group\": \"long\", \"max_trip_hrs\": 1.82, \"max_trip_route_group\": 1.82, \"below_cutoff\": 46, \"pct_below_cutoff\": 1.0, \"name\": \"Peninsula Corridor Joint Powers Board\", \"caltrans_district\": \"04 - Oakland\", \"drmt_organization_name\": null, \"route_name\": \"Local\", \"cutoff2\": 40, \"cutoff\": 2}, {\"calitp_itp_id\": 246, \"trip_key\": 1589635727845463308, \"trip_id\": \"134\", \"shape_id\": \"p_1277318\", \"route_id\": \"19597\", \"service_hours\": 1.78, \"trip_first_departure_ts\": 73920, \"trip_last_arrival_ts\": 80340, \"departure_hour\": 20, \"time_of_day\": \"Owl Service\", \"p25\": 1.7, \"p50\": 1.75, \"p75\": 1.75, \"p50_trip\": 0, \"fastest_trip\": 0, \"car_duration_hours\": 1.43, \"competitive_route\": 1, \"bus_multiplier\": 1.24, \"bus_difference\": 21.0, \"num_trips\": 46, \"num_competitive\": 46, \"pct_trips_competitive\": 1.0, \"bus_difference_spread\": 13.2, \"route_group\": \"long\", \"max_trip_hrs\": 1.82, \"max_trip_route_group\": 1.82, \"below_cutoff\": 46, \"pct_below_cutoff\": 1.0, \"name\": \"Peninsula Corridor Joint Powers Board\", \"caltrans_district\": \"04 - Oakland\", \"drmt_organization_name\": null, \"route_name\": \"Local\", \"cutoff2\": 40, \"cutoff\": 2}, {\"calitp_itp_id\": 246, \"trip_key\": 3406620757885766547, \"trip_id\": \"145\", \"shape_id\": \"p_1277305\", \"route_id\": \"19597\", \"service_hours\": 1.8, \"trip_first_departure_ts\": 83100, \"trip_last_arrival_ts\": 89580, \"departure_hour\": 23, \"time_of_day\": \"Owl Service\", \"p25\": 1.7, \"p50\": 1.75, \"p75\": 1.75, \"p50_trip\": 0, \"fastest_trip\": 0, \"car_duration_hours\": 1.43, \"competitive_route\": 1, \"bus_multiplier\": 1.26, \"bus_difference\": 22.2, \"num_trips\": 46, \"num_competitive\": 46, \"pct_trips_competitive\": 1.0, \"bus_difference_spread\": 13.2, \"route_group\": \"long\", \"max_trip_hrs\": 1.82, \"max_trip_route_group\": 1.82, \"below_cutoff\": 46, \"pct_below_cutoff\": 1.0, \"name\": \"Peninsula Corridor Joint Powers Board\", \"caltrans_district\": \"04 - Oakland\", \"drmt_organization_name\": null, \"route_name\": \"Local\", \"cutoff2\": 40, \"cutoff\": 2}, {\"calitp_itp_id\": 246, \"trip_key\": 9131646734852214576, \"trip_id\": \"137\", \"shape_id\": \"p_1277305\", \"route_id\": \"19597\", \"service_hours\": 1.8, \"trip_first_departure_ts\": 74520, \"trip_last_arrival_ts\": 81000, \"departure_hour\": 20, \"time_of_day\": \"Owl Service\", \"p25\": 1.7, \"p50\": 1.75, \"p75\": 1.75, \"p50_trip\": 0, \"fastest_trip\": 0, \"car_duration_hours\": 1.43, \"competitive_route\": 1, \"bus_multiplier\": 1.26, \"bus_difference\": 22.2, \"num_trips\": 46, \"num_competitive\": 46, \"pct_trips_competitive\": 1.0, \"bus_difference_spread\": 13.2, \"route_group\": \"long\", \"max_trip_hrs\": 1.82, \"max_trip_route_group\": 1.82, \"below_cutoff\": 46, \"pct_below_cutoff\": 1.0, \"name\": \"Peninsula Corridor Joint Powers Board\", \"caltrans_district\": \"04 - Oakland\", \"drmt_organization_name\": null, \"route_name\": \"Local\", \"cutoff2\": 40, \"cutoff\": 2}, {\"calitp_itp_id\": 246, \"trip_key\": -376719494926514595, \"trip_id\": \"138\", \"shape_id\": \"p_1277318\", \"route_id\": \"19597\", \"service_hours\": 1.82, \"trip_first_departure_ts\": 77400, \"trip_last_arrival_ts\": 83940, \"departure_hour\": 21, \"time_of_day\": \"Owl Service\", \"p25\": 1.7, \"p50\": 1.75, \"p75\": 1.75, \"p50_trip\": 0, \"fastest_trip\": 0, \"car_duration_hours\": 1.43, \"competitive_route\": 1, \"bus_multiplier\": 1.27, \"bus_difference\": 23.4, \"num_trips\": 46, \"num_competitive\": 46, \"pct_trips_competitive\": 1.0, \"bus_difference_spread\": 13.2, \"route_group\": \"long\", \"max_trip_hrs\": 1.82, \"max_trip_route_group\": 1.82, \"below_cutoff\": 46, \"pct_below_cutoff\": 1.0, \"name\": \"Peninsula Corridor Joint Powers Board\", \"caltrans_district\": \"04 - Oakland\", \"drmt_organization_name\": null, \"route_name\": \"Local\", \"cutoff2\": 40, \"cutoff\": 2}, {\"calitp_itp_id\": 246, \"trip_key\": -5772933291456908408, \"trip_id\": \"129\", \"shape_id\": \"p_1277305\", \"route_id\": \"19597\", \"service_hours\": 1.82, \"trip_first_departure_ts\": 63900, \"trip_last_arrival_ts\": 70440, \"departure_hour\": 17, \"time_of_day\": \"PM Peak\", \"p25\": 1.7, \"p50\": 1.75, \"p75\": 1.75, \"p50_trip\": 0, \"fastest_trip\": 0, \"car_duration_hours\": 1.43, \"competitive_route\": 1, \"bus_multiplier\": 1.27, \"bus_difference\": 23.4, \"num_trips\": 46, \"num_competitive\": 46, \"pct_trips_competitive\": 1.0, \"bus_difference_spread\": 13.2, \"route_group\": \"long\", \"max_trip_hrs\": 1.82, \"max_trip_route_group\": 1.82, \"below_cutoff\": 46, \"pct_below_cutoff\": 1.0, \"name\": \"Peninsula Corridor Joint Powers Board\", \"caltrans_district\": \"04 - Oakland\", \"drmt_organization_name\": null, \"route_name\": \"Local\", \"cutoff2\": 40, \"cutoff\": 2}, {\"calitp_itp_id\": 246, \"trip_key\": -4945207350721351563, \"trip_id\": \"106\", \"shape_id\": \"p_1277419\", \"route_id\": \"19597\", \"service_hours\": 1.82, \"trip_first_departure_ts\": 23940, \"trip_last_arrival_ts\": 30480, \"departure_hour\": 6, \"time_of_day\": \"Owl Service\", \"p25\": 1.7, \"p50\": 1.75, \"p75\": 1.75, \"p50_trip\": 0, \"fastest_trip\": 0, \"car_duration_hours\": 1.43, \"competitive_route\": 1, \"bus_multiplier\": 1.27, \"bus_difference\": 23.4, \"num_trips\": 46, \"num_competitive\": 46, \"pct_trips_competitive\": 1.0, \"bus_difference_spread\": 13.2, \"route_group\": \"long\", \"max_trip_hrs\": 1.82, \"max_trip_route_group\": 1.82, \"below_cutoff\": 46, \"pct_below_cutoff\": 1.0, \"name\": \"Peninsula Corridor Joint Powers Board\", \"caltrans_district\": \"04 - Oakland\", \"drmt_organization_name\": null, \"route_name\": \"Local\", \"cutoff2\": 40, \"cutoff\": 2}, {\"calitp_itp_id\": 246, \"trip_key\": 5860858331561866714, \"trip_id\": \"309\", \"shape_id\": \"p_1277400\", \"route_id\": \"19599\", \"service_hours\": 1.23, \"trip_first_departure_ts\": 59040, \"trip_last_arrival_ts\": 63480, \"departure_hour\": 16, \"time_of_day\": \"Midday\", \"p25\": 1.27, \"p50\": 1.275, \"p75\": 1.3775, \"p50_trip\": 0, \"fastest_trip\": 1, \"car_duration_hours\": 1.37, \"competitive_route\": 1, \"bus_multiplier\": 0.9, \"bus_difference\": -8.4, \"num_trips\": 14, \"num_competitive\": 14, \"pct_trips_competitive\": 1.0, \"bus_difference_spread\": 56.4, \"route_group\": \"long\", \"max_trip_hrs\": 2.17, \"max_trip_route_group\": 2.17, \"below_cutoff\": 12, \"pct_below_cutoff\": 0.8571428571428571, \"name\": \"Peninsula Corridor Joint Powers Board\", \"caltrans_district\": \"04 - Oakland\", \"drmt_organization_name\": null, \"route_name\": \"Ltd 3\", \"cutoff2\": 40, \"cutoff\": 2}, {\"calitp_itp_id\": 246, \"trip_key\": 5698960109329865607, \"trip_id\": \"311\", \"shape_id\": \"p_1277400\", \"route_id\": \"19599\", \"service_hours\": 1.25, \"trip_first_departure_ts\": 62580, \"trip_last_arrival_ts\": 67080, \"departure_hour\": 17, \"time_of_day\": \"PM Peak\", \"p25\": 1.27, \"p50\": 1.275, \"p75\": 1.3775, \"p50_trip\": 0, \"fastest_trip\": 0, \"car_duration_hours\": 1.37, \"competitive_route\": 1, \"bus_multiplier\": 0.91, \"bus_difference\": -7.2, \"num_trips\": 14, \"num_competitive\": 14, \"pct_trips_competitive\": 1.0, \"bus_difference_spread\": 56.4, \"route_group\": \"long\", \"max_trip_hrs\": 2.17, \"max_trip_route_group\": 2.17, \"below_cutoff\": 12, \"pct_below_cutoff\": 0.8571428571428571, \"name\": \"Peninsula Corridor Joint Powers Board\", \"caltrans_district\": \"04 - Oakland\", \"drmt_organization_name\": null, \"route_name\": \"Ltd 3\", \"cutoff2\": 40, \"cutoff\": 2}, {\"calitp_itp_id\": 246, \"trip_key\": -87555585455160487, \"trip_id\": \"308\", \"shape_id\": \"p_1277355\", \"route_id\": \"19599\", \"service_hours\": 1.27, \"trip_first_departure_ts\": 55980, \"trip_last_arrival_ts\": 60540, \"departure_hour\": 15, \"time_of_day\": \"Midday\", \"p25\": 1.27, \"p50\": 1.275, \"p75\": 1.3775, \"p50_trip\": 1, \"fastest_trip\": 0, \"car_duration_hours\": 1.37, \"competitive_route\": 1, \"bus_multiplier\": 0.93, \"bus_difference\": -6.0, \"num_trips\": 14, \"num_competitive\": 14, \"pct_trips_competitive\": 1.0, \"bus_difference_spread\": 56.4, \"route_group\": \"long\", \"max_trip_hrs\": 2.17, \"max_trip_route_group\": 2.17, \"below_cutoff\": 12, \"pct_below_cutoff\": 0.8571428571428571, \"name\": \"Peninsula Corridor Joint Powers Board\", \"caltrans_district\": \"04 - Oakland\", \"drmt_organization_name\": null, \"route_name\": \"Ltd 3\", \"cutoff2\": 40, \"cutoff\": 2}, {\"calitp_itp_id\": 246, \"trip_key\": -2527031093899116620, \"trip_id\": \"304\", \"shape_id\": \"p_1277355\", \"route_id\": \"19599\", \"service_hours\": 1.27, \"trip_first_departure_ts\": 27120, \"trip_last_arrival_ts\": 31680, \"departure_hour\": 7, \"time_of_day\": \"AM Peak\", \"p25\": 1.27, \"p50\": 1.275, \"p75\": 1.3775, \"p50_trip\": 1, \"fastest_trip\": 0, \"car_duration_hours\": 1.37, \"competitive_route\": 1, \"bus_multiplier\": 0.93, \"bus_difference\": -6.0, \"num_trips\": 14, \"num_competitive\": 14, \"pct_trips_competitive\": 1.0, \"bus_difference_spread\": 56.4, \"route_group\": \"long\", \"max_trip_hrs\": 2.17, \"max_trip_route_group\": 2.17, \"below_cutoff\": 12, \"pct_below_cutoff\": 0.8571428571428571, \"name\": \"Peninsula Corridor Joint Powers Board\", \"caltrans_district\": \"04 - Oakland\", \"drmt_organization_name\": null, \"route_name\": \"Ltd 3\", \"cutoff2\": 40, \"cutoff\": 2}, {\"calitp_itp_id\": 246, \"trip_key\": -4098895141857313310, \"trip_id\": \"302\", \"shape_id\": \"p_1277355\", \"route_id\": \"19599\", \"service_hours\": 1.27, \"trip_first_departure_ts\": 23520, \"trip_last_arrival_ts\": 28080, \"departure_hour\": 6, \"time_of_day\": \"Owl Service\", \"p25\": 1.27, \"p50\": 1.275, \"p75\": 1.3775, \"p50_trip\": 1, \"fastest_trip\": 0, \"car_duration_hours\": 1.37, \"competitive_route\": 1, \"bus_multiplier\": 0.93, \"bus_difference\": -6.0, \"num_trips\": 14, \"num_competitive\": 14, \"pct_trips_competitive\": 1.0, \"bus_difference_spread\": 56.4, \"route_group\": \"long\", \"max_trip_hrs\": 2.17, \"max_trip_route_group\": 2.17, \"below_cutoff\": 12, \"pct_below_cutoff\": 0.8571428571428571, \"name\": \"Peninsula Corridor Joint Powers Board\", \"caltrans_district\": \"04 - Oakland\", \"drmt_organization_name\": null, \"route_name\": \"Ltd 3\", \"cutoff2\": 40, \"cutoff\": 2}, {\"calitp_itp_id\": 246, \"trip_key\": 6255489994417577221, \"trip_id\": \"306\", \"shape_id\": \"p_1277355\", \"route_id\": \"19599\", \"service_hours\": 1.27, \"trip_first_departure_ts\": 30720, \"trip_last_arrival_ts\": 35280, \"departure_hour\": 8, \"time_of_day\": \"AM Peak\", \"p25\": 1.27, \"p50\": 1.275, \"p75\": 1.3775, \"p50_trip\": 1, \"fastest_trip\": 0, \"car_duration_hours\": 1.37, \"competitive_route\": 1, \"bus_multiplier\": 0.93, \"bus_difference\": -6.0, \"num_trips\": 14, \"num_competitive\": 14, \"pct_trips_competitive\": 1.0, \"bus_difference_spread\": 56.4, \"route_group\": \"long\", \"max_trip_hrs\": 2.17, \"max_trip_route_group\": 2.17, \"below_cutoff\": 12, \"pct_below_cutoff\": 0.8571428571428571, \"name\": \"Peninsula Corridor Joint Powers Board\", \"caltrans_district\": \"04 - Oakland\", \"drmt_organization_name\": null, \"route_name\": \"Ltd 3\", \"cutoff2\": 40, \"cutoff\": 2}, {\"calitp_itp_id\": 246, \"trip_key\": -6312909486176031553, \"trip_id\": \"314\", \"shape_id\": \"p_1277355\", \"route_id\": \"19599\", \"service_hours\": 1.27, \"trip_first_departure_ts\": 66720, \"trip_last_arrival_ts\": 71280, \"departure_hour\": 18, \"time_of_day\": \"PM Peak\", \"p25\": 1.27, \"p50\": 1.275, \"p75\": 1.3775, \"p50_trip\": 1, \"fastest_trip\": 0, \"car_duration_hours\": 1.37, \"competitive_route\": 1, \"bus_multiplier\": 0.93, \"bus_difference\": -6.0, \"num_trips\": 14, \"num_competitive\": 14, \"pct_trips_competitive\": 1.0, \"bus_difference_spread\": 56.4, \"route_group\": \"long\", \"max_trip_hrs\": 2.17, \"max_trip_route_group\": 2.17, \"below_cutoff\": 12, \"pct_below_cutoff\": 0.8571428571428571, \"name\": \"Peninsula Corridor Joint Powers Board\", \"caltrans_district\": \"04 - Oakland\", \"drmt_organization_name\": null, \"route_name\": \"Ltd 3\", \"cutoff2\": 40, \"cutoff\": 2}, {\"calitp_itp_id\": 246, \"trip_key\": 5733229077865695139, \"trip_id\": \"307\", \"shape_id\": \"p_1277354\", \"route_id\": \"19599\", \"service_hours\": 1.28, \"trip_first_departure_ts\": 55320, \"trip_last_arrival_ts\": 59940, \"departure_hour\": 15, \"time_of_day\": \"Midday\", \"p25\": 1.27, \"p50\": 1.275, \"p75\": 1.3775, \"p50_trip\": 0, \"fastest_trip\": 0, \"car_duration_hours\": 1.37, \"competitive_route\": 1, \"bus_multiplier\": 0.93, \"bus_difference\": -5.4, \"num_trips\": 14, \"num_competitive\": 14, \"pct_trips_competitive\": 1.0, \"bus_difference_spread\": 56.4, \"route_group\": \"long\", \"max_trip_hrs\": 2.17, \"max_trip_route_group\": 2.17, \"below_cutoff\": 12, \"pct_below_cutoff\": 0.8571428571428571, \"name\": \"Peninsula Corridor Joint Powers Board\", \"caltrans_district\": \"04 - Oakland\", \"drmt_organization_name\": null, \"route_name\": \"Ltd 3\", \"cutoff2\": 40, \"cutoff\": 2}, {\"calitp_itp_id\": 246, \"trip_key\": 2444347805558487628, \"trip_id\": \"305\", \"shape_id\": \"p_1277353\", \"route_id\": \"19599\", \"service_hours\": 1.35, \"trip_first_departure_ts\": 29820, \"trip_last_arrival_ts\": 34680, \"departure_hour\": 8, \"time_of_day\": \"AM Peak\", \"p25\": 1.27, \"p50\": 1.275, \"p75\": 1.3775, \"p50_trip\": 0, \"fastest_trip\": 0, \"car_duration_hours\": 1.37, \"competitive_route\": 1, \"bus_multiplier\": 0.99, \"bus_difference\": -1.2, \"num_trips\": 14, \"num_competitive\": 14, \"pct_trips_competitive\": 1.0, \"bus_difference_spread\": 56.4, \"route_group\": \"long\", \"max_trip_hrs\": 2.17, \"max_trip_route_group\": 2.17, \"below_cutoff\": 12, \"pct_below_cutoff\": 0.8571428571428571, \"name\": \"Peninsula Corridor Joint Powers Board\", \"caltrans_district\": \"04 - Oakland\", \"drmt_organization_name\": null, \"route_name\": \"Ltd 3\", \"cutoff2\": 40, \"cutoff\": 2}, {\"calitp_itp_id\": 246, \"trip_key\": -5024481910736770656, \"trip_id\": \"301\", \"shape_id\": \"p_1277353\", \"route_id\": \"19599\", \"service_hours\": 1.37, \"trip_first_departure_ts\": 22560, \"trip_last_arrival_ts\": 27480, \"departure_hour\": 6, \"time_of_day\": \"Owl Service\", \"p25\": 1.27, \"p50\": 1.275, \"p75\": 1.3775, \"p50_trip\": 0, \"fastest_trip\": 0, \"car_duration_hours\": 1.37, \"competitive_route\": 1, \"bus_multiplier\": 1.0, \"bus_difference\": 0.0, \"num_trips\": 14, \"num_competitive\": 14, \"pct_trips_competitive\": 1.0, \"bus_difference_spread\": 56.4, \"route_group\": \"long\", \"max_trip_hrs\": 2.17, \"max_trip_route_group\": 2.17, \"below_cutoff\": 12, \"pct_below_cutoff\": 0.8571428571428571, \"name\": \"Peninsula Corridor Joint Powers Board\", \"caltrans_district\": \"04 - Oakland\", \"drmt_organization_name\": null, \"route_name\": \"Ltd 3\", \"cutoff2\": 40, \"cutoff\": 2}, {\"calitp_itp_id\": 246, \"trip_key\": -3305771624341526116, \"trip_id\": \"313\", \"shape_id\": \"p_1277353\", \"route_id\": \"19599\", \"service_hours\": 1.38, \"trip_first_departure_ts\": 65760, \"trip_last_arrival_ts\": 70740, \"departure_hour\": 18, \"time_of_day\": \"PM Peak\", \"p25\": 1.27, \"p50\": 1.275, \"p75\": 1.3775, \"p50_trip\": 0, \"fastest_trip\": 0, \"car_duration_hours\": 1.37, \"competitive_route\": 1, \"bus_multiplier\": 1.01, \"bus_difference\": 0.6, \"num_trips\": 14, \"num_competitive\": 14, \"pct_trips_competitive\": 1.0, \"bus_difference_spread\": 56.4, \"route_group\": \"long\", \"max_trip_hrs\": 2.17, \"max_trip_route_group\": 2.17, \"below_cutoff\": 12, \"pct_below_cutoff\": 0.8571428571428571, \"name\": \"Peninsula Corridor Joint Powers Board\", \"caltrans_district\": \"04 - Oakland\", \"drmt_organization_name\": null, \"route_name\": \"Ltd 3\", \"cutoff2\": 40, \"cutoff\": 2}, {\"calitp_itp_id\": 246, \"trip_key\": -3611841509253952390, \"trip_id\": \"312\", \"shape_id\": \"p_1277356\", \"route_id\": \"19599\", \"service_hours\": 1.45, \"trip_first_departure_ts\": 63120, \"trip_last_arrival_ts\": 68340, \"departure_hour\": 17, \"time_of_day\": \"PM Peak\", \"p25\": 1.27, \"p50\": 1.275, \"p75\": 1.3775, \"p50_trip\": 0, \"fastest_trip\": 0, \"car_duration_hours\": 1.37, \"competitive_route\": 1, \"bus_multiplier\": 1.06, \"bus_difference\": 4.8, \"num_trips\": 14, \"num_competitive\": 14, \"pct_trips_competitive\": 1.0, \"bus_difference_spread\": 56.4, \"route_group\": \"long\", \"max_trip_hrs\": 2.17, \"max_trip_route_group\": 2.17, \"below_cutoff\": 12, \"pct_below_cutoff\": 0.8571428571428571, \"name\": \"Peninsula Corridor Joint Powers Board\", \"caltrans_district\": \"04 - Oakland\", \"drmt_organization_name\": null, \"route_name\": \"Ltd 3\", \"cutoff2\": 40, \"cutoff\": 2}, {\"calitp_itp_id\": 246, \"trip_key\": -7757026847840412709, \"trip_id\": \"303\", \"shape_id\": \"p_1277282\", \"route_id\": \"19599\", \"service_hours\": 2.12, \"trip_first_departure_ts\": 23460, \"trip_last_arrival_ts\": 31080, \"departure_hour\": 6, \"time_of_day\": \"Owl Service\", \"p25\": 1.27, \"p50\": 1.275, \"p75\": 1.3775, \"p50_trip\": 0, \"fastest_trip\": 0, \"car_duration_hours\": 1.37, \"competitive_route\": 1, \"bus_multiplier\": 1.55, \"bus_difference\": 45.0, \"num_trips\": 14, \"num_competitive\": 14, \"pct_trips_competitive\": 1.0, \"bus_difference_spread\": 56.4, \"route_group\": \"long\", \"max_trip_hrs\": 2.17, \"max_trip_route_group\": 2.17, \"below_cutoff\": 12, \"pct_below_cutoff\": 0.8571428571428571, \"name\": \"Peninsula Corridor Joint Powers Board\", \"caltrans_district\": \"04 - Oakland\", \"drmt_organization_name\": null, \"route_name\": \"Ltd 3\", \"cutoff2\": 40, \"cutoff\": 2}, {\"calitp_itp_id\": 246, \"trip_key\": -630056127655951183, \"trip_id\": \"310\", \"shape_id\": \"p_1277283\", \"route_id\": \"19599\", \"service_hours\": 2.17, \"trip_first_departure_ts\": 59520, \"trip_last_arrival_ts\": 67320, \"departure_hour\": 16, \"time_of_day\": \"Midday\", \"p25\": 1.27, \"p50\": 1.275, \"p75\": 1.3775, \"p50_trip\": 0, \"fastest_trip\": 0, \"car_duration_hours\": 1.37, \"competitive_route\": 1, \"bus_multiplier\": 1.58, \"bus_difference\": 48.0, \"num_trips\": 14, \"num_competitive\": 14, \"pct_trips_competitive\": 1.0, \"bus_difference_spread\": 56.4, \"route_group\": \"long\", \"max_trip_hrs\": 2.17, \"max_trip_route_group\": 2.17, \"below_cutoff\": 12, \"pct_below_cutoff\": 0.8571428571428571, \"name\": \"Peninsula Corridor Joint Powers Board\", \"caltrans_district\": \"04 - Oakland\", \"drmt_organization_name\": null, \"route_name\": \"Ltd 3\", \"cutoff2\": 40, \"cutoff\": 2}, {\"calitp_itp_id\": 246, \"trip_key\": -5076790750015049661, \"trip_id\": \"415\", \"shape_id\": \"p_1277361\", \"route_id\": \"19600\", \"service_hours\": 1.27, \"trip_first_departure_ts\": 67440, \"trip_last_arrival_ts\": 72000, \"departure_hour\": 18, \"time_of_day\": \"PM Peak\", \"p25\": 1.27, \"p50\": 1.28, \"p75\": 1.735, \"p50_trip\": 0, \"fastest_trip\": 1, \"car_duration_hours\": 1.39, \"competitive_route\": 1, \"bus_multiplier\": 0.91, \"bus_difference\": -7.2, \"num_trips\": 15, \"num_competitive\": 15, \"pct_trips_competitive\": 1.0, \"bus_difference_spread\": 54.0, \"route_group\": \"long\", \"max_trip_hrs\": 2.17, \"max_trip_route_group\": 2.17, \"below_cutoff\": 11, \"pct_below_cutoff\": 0.7333333333333333, \"name\": \"Peninsula Corridor Joint Powers Board\", \"caltrans_district\": \"04 - Oakland\", \"drmt_organization_name\": null, \"route_name\": \"Ltd 4\", \"cutoff2\": 40, \"cutoff\": 2}, {\"calitp_itp_id\": 246, \"trip_key\": 7022352680993588927, \"trip_id\": \"413\", \"shape_id\": \"p_1277361\", \"route_id\": \"19600\", \"service_hours\": 1.27, \"trip_first_departure_ts\": 63840, \"trip_last_arrival_ts\": 68400, \"departure_hour\": 17, \"time_of_day\": \"PM Peak\", \"p25\": 1.27, \"p50\": 1.28, \"p75\": 1.735, \"p50_trip\": 0, \"fastest_trip\": 0, \"car_duration_hours\": 1.39, \"competitive_route\": 1, \"bus_multiplier\": 0.91, \"bus_difference\": -7.2, \"num_trips\": 15, \"num_competitive\": 15, \"pct_trips_competitive\": 1.0, \"bus_difference_spread\": 54.0, \"route_group\": \"long\", \"max_trip_hrs\": 2.17, \"max_trip_route_group\": 2.17, \"below_cutoff\": 11, \"pct_below_cutoff\": 0.7333333333333333, \"name\": \"Peninsula Corridor Joint Powers Board\", \"caltrans_district\": \"04 - Oakland\", \"drmt_organization_name\": null, \"route_name\": \"Ltd 4\", \"cutoff2\": 40, \"cutoff\": 2}, {\"calitp_itp_id\": 246, \"trip_key\": -6531105479571533237, \"trip_id\": \"410\", \"shape_id\": \"p_1277362\", \"route_id\": \"19600\", \"service_hours\": 1.27, \"trip_first_departure_ts\": 58320, \"trip_last_arrival_ts\": 62880, \"departure_hour\": 16, \"time_of_day\": \"Midday\", \"p25\": 1.27, \"p50\": 1.28, \"p75\": 1.735, \"p50_trip\": 0, \"fastest_trip\": 0, \"car_duration_hours\": 1.39, \"competitive_route\": 1, \"bus_multiplier\": 0.91, \"bus_difference\": -7.2, \"num_trips\": 15, \"num_competitive\": 15, \"pct_trips_competitive\": 1.0, \"bus_difference_spread\": 54.0, \"route_group\": \"long\", \"max_trip_hrs\": 2.17, \"max_trip_route_group\": 2.17, \"below_cutoff\": 11, \"pct_below_cutoff\": 0.7333333333333333, \"name\": \"Peninsula Corridor Joint Powers Board\", \"caltrans_district\": \"04 - Oakland\", \"drmt_organization_name\": null, \"route_name\": \"Ltd 4\", \"cutoff2\": 40, \"cutoff\": 2}, {\"calitp_itp_id\": 246, \"trip_key\": 3634436402190926079, \"trip_id\": \"414\", \"shape_id\": \"p_1277362\", \"route_id\": \"19600\", \"service_hours\": 1.27, \"trip_first_departure_ts\": 65520, \"trip_last_arrival_ts\": 70080, \"departure_hour\": 18, \"time_of_day\": \"PM Peak\", \"p25\": 1.27, \"p50\": 1.28, \"p75\": 1.735, \"p50_trip\": 0, \"fastest_trip\": 0, \"car_duration_hours\": 1.39, \"competitive_route\": 1, \"bus_multiplier\": 0.91, \"bus_difference\": -7.2, \"num_trips\": 15, \"num_competitive\": 15, \"pct_trips_competitive\": 1.0, \"bus_difference_spread\": 54.0, \"route_group\": \"long\", \"max_trip_hrs\": 2.17, \"max_trip_route_group\": 2.17, \"below_cutoff\": 11, \"pct_below_cutoff\": 0.7333333333333333, \"name\": \"Peninsula Corridor Joint Powers Board\", \"caltrans_district\": \"04 - Oakland\", \"drmt_organization_name\": null, \"route_name\": \"Ltd 4\", \"cutoff2\": 40, \"cutoff\": 2}, {\"calitp_itp_id\": 246, \"trip_key\": -7690581003385983674, \"trip_id\": \"411\", \"shape_id\": \"p_1277361\", \"route_id\": \"19600\", \"service_hours\": 1.27, \"trip_first_departure_ts\": 60240, \"trip_last_arrival_ts\": 64800, \"departure_hour\": 16, \"time_of_day\": \"Midday\", \"p25\": 1.27, \"p50\": 1.28, \"p75\": 1.735, \"p50_trip\": 0, \"fastest_trip\": 0, \"car_duration_hours\": 1.39, \"competitive_route\": 1, \"bus_multiplier\": 0.91, \"bus_difference\": -7.2, \"num_trips\": 15, \"num_competitive\": 15, \"pct_trips_competitive\": 1.0, \"bus_difference_spread\": 54.0, \"route_group\": \"long\", \"max_trip_hrs\": 2.17, \"max_trip_route_group\": 2.17, \"below_cutoff\": 11, \"pct_below_cutoff\": 0.7333333333333333, \"name\": \"Peninsula Corridor Joint Powers Board\", \"caltrans_district\": \"04 - Oakland\", \"drmt_organization_name\": null, \"route_name\": \"Ltd 4\", \"cutoff2\": 40, \"cutoff\": 2}, {\"calitp_itp_id\": 246, \"trip_key\": -8529677976201376288, \"trip_id\": \"409\", \"shape_id\": \"p_1277361\", \"route_id\": \"19600\", \"service_hours\": 1.27, \"trip_first_departure_ts\": 56640, \"trip_last_arrival_ts\": 61200, \"departure_hour\": 15, \"time_of_day\": \"Midday\", \"p25\": 1.27, \"p50\": 1.28, \"p75\": 1.735, \"p50_trip\": 0, \"fastest_trip\": 0, \"car_duration_hours\": 1.39, \"competitive_route\": 1, \"bus_multiplier\": 0.91, \"bus_difference\": -7.2, \"num_trips\": 15, \"num_competitive\": 15, \"pct_trips_competitive\": 1.0, \"bus_difference_spread\": 54.0, \"route_group\": \"long\", \"max_trip_hrs\": 2.17, \"max_trip_route_group\": 2.17, \"below_cutoff\": 11, \"pct_below_cutoff\": 0.7333333333333333, \"name\": \"Peninsula Corridor Joint Powers Board\", \"caltrans_district\": \"04 - Oakland\", \"drmt_organization_name\": null, \"route_name\": \"Ltd 4\", \"cutoff2\": 40, \"cutoff\": 2}, {\"calitp_itp_id\": 246, \"trip_key\": 3595918388086503483, \"trip_id\": \"407\", \"shape_id\": \"p_1277361\", \"route_id\": \"19600\", \"service_hours\": 1.28, \"trip_first_departure_ts\": 31440, \"trip_last_arrival_ts\": 36060, \"departure_hour\": 8, \"time_of_day\": \"AM Peak\", \"p25\": 1.27, \"p50\": 1.28, \"p75\": 1.735, \"p50_trip\": 1, \"fastest_trip\": 0, \"car_duration_hours\": 1.39, \"competitive_route\": 1, \"bus_multiplier\": 0.92, \"bus_difference\": -6.6, \"num_trips\": 15, \"num_competitive\": 15, \"pct_trips_competitive\": 1.0, \"bus_difference_spread\": 54.0, \"route_group\": \"long\", \"max_trip_hrs\": 2.17, \"max_trip_route_group\": 2.17, \"below_cutoff\": 11, \"pct_below_cutoff\": 0.7333333333333333, \"name\": \"Peninsula Corridor Joint Powers Board\", \"caltrans_district\": \"04 - Oakland\", \"drmt_organization_name\": null, \"route_name\": \"Ltd 4\", \"cutoff2\": 40, \"cutoff\": 2}, {\"calitp_itp_id\": 246, \"trip_key\": 65580658991262857, \"trip_id\": \"406\", \"shape_id\": \"p_1277362\", \"route_id\": \"19600\", \"service_hours\": 1.28, \"trip_first_departure_ts\": 29520, \"trip_last_arrival_ts\": 34140, \"departure_hour\": 8, \"time_of_day\": \"AM Peak\", \"p25\": 1.27, \"p50\": 1.28, \"p75\": 1.735, \"p50_trip\": 1, \"fastest_trip\": 0, \"car_duration_hours\": 1.39, \"competitive_route\": 1, \"bus_multiplier\": 0.92, \"bus_difference\": -6.6, \"num_trips\": 15, \"num_competitive\": 15, \"pct_trips_competitive\": 1.0, \"bus_difference_spread\": 54.0, \"route_group\": \"long\", \"max_trip_hrs\": 2.17, \"max_trip_route_group\": 2.17, \"below_cutoff\": 11, \"pct_below_cutoff\": 0.7333333333333333, \"name\": \"Peninsula Corridor Joint Powers Board\", \"caltrans_district\": \"04 - Oakland\", \"drmt_organization_name\": null, \"route_name\": \"Ltd 4\", \"cutoff2\": 40, \"cutoff\": 2}, {\"calitp_itp_id\": 246, \"trip_key\": -1464446077861699005, \"trip_id\": \"402\", \"shape_id\": \"p_1277362\", \"route_id\": \"19600\", \"service_hours\": 1.28, \"trip_first_departure_ts\": 22320, \"trip_last_arrival_ts\": 26940, \"departure_hour\": 6, \"time_of_day\": \"Owl Service\", \"p25\": 1.27, \"p50\": 1.28, \"p75\": 1.735, \"p50_trip\": 1, \"fastest_trip\": 0, \"car_duration_hours\": 1.39, \"competitive_route\": 1, \"bus_multiplier\": 0.92, \"bus_difference\": -6.6, \"num_trips\": 15, \"num_competitive\": 15, \"pct_trips_competitive\": 1.0, \"bus_difference_spread\": 54.0, \"route_group\": \"long\", \"max_trip_hrs\": 2.17, \"max_trip_route_group\": 2.17, \"below_cutoff\": 11, \"pct_below_cutoff\": 0.7333333333333333, \"name\": \"Peninsula Corridor Joint Powers Board\", \"caltrans_district\": \"04 - Oakland\", \"drmt_organization_name\": null, \"route_name\": \"Ltd 4\", \"cutoff2\": 40, \"cutoff\": 2}, {\"calitp_itp_id\": 246, \"trip_key\": -3337012513898392166, \"trip_id\": \"404\", \"shape_id\": \"p_1277362\", \"route_id\": \"19600\", \"service_hours\": 1.28, \"trip_first_departure_ts\": 25920, \"trip_last_arrival_ts\": 30540, \"departure_hour\": 7, \"time_of_day\": \"AM Peak\", \"p25\": 1.27, \"p50\": 1.28, \"p75\": 1.735, \"p50_trip\": 1, \"fastest_trip\": 0, \"car_duration_hours\": 1.39, \"competitive_route\": 1, \"bus_multiplier\": 0.92, \"bus_difference\": -6.6, \"num_trips\": 15, \"num_competitive\": 15, \"pct_trips_competitive\": 1.0, \"bus_difference_spread\": 54.0, \"route_group\": \"long\", \"max_trip_hrs\": 2.17, \"max_trip_route_group\": 2.17, \"below_cutoff\": 11, \"pct_below_cutoff\": 0.7333333333333333, \"name\": \"Peninsula Corridor Joint Powers Board\", \"caltrans_district\": \"04 - Oakland\", \"drmt_organization_name\": null, \"route_name\": \"Ltd 4\", \"cutoff2\": 40, \"cutoff\": 2}, {\"calitp_itp_id\": 246, \"trip_key\": 5316890955226728449, \"trip_id\": \"401\", \"shape_id\": \"p_1277360\", \"route_id\": \"19600\", \"service_hours\": 1.37, \"trip_first_departure_ts\": 20280, \"trip_last_arrival_ts\": 25200, \"departure_hour\": 5, \"time_of_day\": \"Owl Service\", \"p25\": 1.27, \"p50\": 1.28, \"p75\": 1.735, \"p50_trip\": 0, \"fastest_trip\": 0, \"car_duration_hours\": 1.39, \"competitive_route\": 1, \"bus_multiplier\": 0.99, \"bus_difference\": -1.2, \"num_trips\": 15, \"num_competitive\": 15, \"pct_trips_competitive\": 1.0, \"bus_difference_spread\": 54.0, \"route_group\": \"long\", \"max_trip_hrs\": 2.17, \"max_trip_route_group\": 2.17, \"below_cutoff\": 11, \"pct_below_cutoff\": 0.7333333333333333, \"name\": \"Peninsula Corridor Joint Powers Board\", \"caltrans_district\": \"04 - Oakland\", \"drmt_organization_name\": null, \"route_name\": \"Ltd 4\", \"cutoff2\": 40, \"cutoff\": 2}, {\"calitp_itp_id\": 246, \"trip_key\": 4874453573220707474, \"trip_id\": \"403\", \"shape_id\": \"p_1277284\", \"route_id\": \"19600\", \"service_hours\": 2.1, \"trip_first_departure_ts\": 21240, \"trip_last_arrival_ts\": 28800, \"departure_hour\": 5, \"time_of_day\": \"Owl Service\", \"p25\": 1.27, \"p50\": 1.28, \"p75\": 1.735, \"p50_trip\": 0, \"fastest_trip\": 0, \"car_duration_hours\": 1.39, \"competitive_route\": 1, \"bus_multiplier\": 1.51, \"bus_difference\": 42.6, \"num_trips\": 15, \"num_competitive\": 15, \"pct_trips_competitive\": 1.0, \"bus_difference_spread\": 54.0, \"route_group\": \"long\", \"max_trip_hrs\": 2.17, \"max_trip_route_group\": 2.17, \"below_cutoff\": 11, \"pct_below_cutoff\": 0.7333333333333333, \"name\": \"Peninsula Corridor Joint Powers Board\", \"caltrans_district\": \"04 - Oakland\", \"drmt_organization_name\": null, \"route_name\": \"Ltd 4\", \"cutoff2\": 40, \"cutoff\": 2}, {\"calitp_itp_id\": 246, \"trip_key\": 5885223767015119090, \"trip_id\": \"412\", \"shape_id\": \"p_1277405\", \"route_id\": \"19600\", \"service_hours\": 2.12, \"trip_first_departure_ts\": 61920, \"trip_last_arrival_ts\": 69540, \"departure_hour\": 17, \"time_of_day\": \"PM Peak\", \"p25\": 1.27, \"p50\": 1.28, \"p75\": 1.735, \"p50_trip\": 0, \"fastest_trip\": 0, \"car_duration_hours\": 1.39, \"competitive_route\": 1, \"bus_multiplier\": 1.53, \"bus_difference\": 43.8, \"num_trips\": 15, \"num_competitive\": 15, \"pct_trips_competitive\": 1.0, \"bus_difference_spread\": 54.0, \"route_group\": \"long\", \"max_trip_hrs\": 2.17, \"max_trip_route_group\": 2.17, \"below_cutoff\": 11, \"pct_below_cutoff\": 0.7333333333333333, \"name\": \"Peninsula Corridor Joint Powers Board\", \"caltrans_district\": \"04 - Oakland\", \"drmt_organization_name\": null, \"route_name\": \"Ltd 4\", \"cutoff2\": 40, \"cutoff\": 2}, {\"calitp_itp_id\": 246, \"trip_key\": 2899944635608924768, \"trip_id\": \"405\", \"shape_id\": \"p_1277432\", \"route_id\": \"19600\", \"service_hours\": 2.13, \"trip_first_departure_ts\": 24720, \"trip_last_arrival_ts\": 32400, \"departure_hour\": 6, \"time_of_day\": \"Owl Service\", \"p25\": 1.27, \"p50\": 1.28, \"p75\": 1.735, \"p50_trip\": 0, \"fastest_trip\": 0, \"car_duration_hours\": 1.39, \"competitive_route\": 1, \"bus_multiplier\": 1.53, \"bus_difference\": 44.4, \"num_trips\": 15, \"num_competitive\": 15, \"pct_trips_competitive\": 1.0, \"bus_difference_spread\": 54.0, \"route_group\": \"long\", \"max_trip_hrs\": 2.17, \"max_trip_route_group\": 2.17, \"below_cutoff\": 11, \"pct_below_cutoff\": 0.7333333333333333, \"name\": \"Peninsula Corridor Joint Powers Board\", \"caltrans_district\": \"04 - Oakland\", \"drmt_organization_name\": null, \"route_name\": \"Ltd 4\", \"cutoff2\": 40, \"cutoff\": 2}, {\"calitp_itp_id\": 246, \"trip_key\": -5632011615719166949, \"trip_id\": \"408\", \"shape_id\": \"p_1277285\", \"route_id\": \"19600\", \"service_hours\": 2.17, \"trip_first_departure_ts\": 54660, \"trip_last_arrival_ts\": 62460, \"departure_hour\": 15, \"time_of_day\": \"Midday\", \"p25\": 1.27, \"p50\": 1.28, \"p75\": 1.735, \"p50_trip\": 0, \"fastest_trip\": 0, \"car_duration_hours\": 1.39, \"competitive_route\": 1, \"bus_multiplier\": 1.56, \"bus_difference\": 46.8, \"num_trips\": 15, \"num_competitive\": 15, \"pct_trips_competitive\": 1.0, \"bus_difference_spread\": 54.0, \"route_group\": \"long\", \"max_trip_hrs\": 2.17, \"max_trip_route_group\": 2.17, \"below_cutoff\": 11, \"pct_below_cutoff\": 0.7333333333333333, \"name\": \"Peninsula Corridor Joint Powers Board\", \"caltrans_district\": \"04 - Oakland\", \"drmt_organization_name\": null, \"route_name\": \"Ltd 4\", \"cutoff2\": 40, \"cutoff\": 2}]}}, {\"mode\": \"vega-lite\"});\n",
       "</script>"
      ],
      "text/plain": [
       "alt.FacetChart(...)"
      ]
     },
     "metadata": {},
     "output_type": "display_data"
    },
    {
     "data": {
      "text/html": [
       "\n",
       "<div id=\"altair-viz-2e3ec4f7c5984c96a2f451278f999efa\"></div>\n",
       "<script type=\"text/javascript\">\n",
       "  var VEGA_DEBUG = (typeof VEGA_DEBUG == \"undefined\") ? {} : VEGA_DEBUG;\n",
       "  (function(spec, embedOpt){\n",
       "    let outputDiv = document.currentScript.previousElementSibling;\n",
       "    if (outputDiv.id !== \"altair-viz-2e3ec4f7c5984c96a2f451278f999efa\") {\n",
       "      outputDiv = document.getElementById(\"altair-viz-2e3ec4f7c5984c96a2f451278f999efa\");\n",
       "    }\n",
       "    const paths = {\n",
       "      \"vega\": \"https://cdn.jsdelivr.net/npm//vega@5?noext\",\n",
       "      \"vega-lib\": \"https://cdn.jsdelivr.net/npm//vega-lib?noext\",\n",
       "      \"vega-lite\": \"https://cdn.jsdelivr.net/npm//vega-lite@4.17.0?noext\",\n",
       "      \"vega-embed\": \"https://cdn.jsdelivr.net/npm//vega-embed@6?noext\",\n",
       "    };\n",
       "\n",
       "    function maybeLoadScript(lib, version) {\n",
       "      var key = `${lib.replace(\"-\", \"\")}_version`;\n",
       "      return (VEGA_DEBUG[key] == version) ?\n",
       "        Promise.resolve(paths[lib]) :\n",
       "        new Promise(function(resolve, reject) {\n",
       "          var s = document.createElement('script');\n",
       "          document.getElementsByTagName(\"head\")[0].appendChild(s);\n",
       "          s.async = true;\n",
       "          s.onload = () => {\n",
       "            VEGA_DEBUG[key] = version;\n",
       "            return resolve(paths[lib]);\n",
       "          };\n",
       "          s.onerror = () => reject(`Error loading script: ${paths[lib]}`);\n",
       "          s.src = paths[lib];\n",
       "        });\n",
       "    }\n",
       "\n",
       "    function showError(err) {\n",
       "      outputDiv.innerHTML = `<div class=\"error\" style=\"color:red;\">${err}</div>`;\n",
       "      throw err;\n",
       "    }\n",
       "\n",
       "    function displayChart(vegaEmbed) {\n",
       "      vegaEmbed(outputDiv, spec, embedOpt)\n",
       "        .catch(err => showError(`Javascript Error: ${err.message}<br>This usually means there's a typo in your chart specification. See the javascript console for the full traceback.`));\n",
       "    }\n",
       "\n",
       "    if(typeof define === \"function\" && define.amd) {\n",
       "      requirejs.config({paths});\n",
       "      require([\"vega-embed\"], displayChart, err => showError(`Error loading script: ${err.message}`));\n",
       "    } else {\n",
       "      maybeLoadScript(\"vega\", \"5\")\n",
       "        .then(() => maybeLoadScript(\"vega-lite\", \"4.17.0\"))\n",
       "        .then(() => maybeLoadScript(\"vega-embed\", \"6\"))\n",
       "        .catch(showError)\n",
       "        .then(() => displayChart(vegaEmbed));\n",
       "    }\n",
       "  })({\"config\": {\"view\": {\"continuousWidth\": 400, \"continuousHeight\": 300, \"stroke\": null}, \"facet\": {\"spacing\": 0}}, \"data\": {\"name\": \"data-a129aa0d1c80f60aafaf78c7cb272a3f\"}, \"facet\": {\"column\": {\"field\": \"route_id\", \"sort\": [\"19597\", \"19600\", \"19599\"], \"title\": \"Route ID\", \"type\": \"nominal\"}}, \"spec\": {\"layer\": [{\"mark\": \"rule\", \"encoding\": {\"color\": {\"value\": \"black\"}, \"y\": {\"field\": \"cutoff\", \"type\": \"quantitative\"}}, \"selection\": {\"selector004\": {\"type\": \"interval\", \"bind\": \"scales\", \"encodings\": [\"x\", \"y\"]}}}, {\"mark\": {\"type\": \"rule\", \"strokeDash\": [3, 3]}, \"encoding\": {\"color\": {\"value\": \"#323434\"}, \"y\": {\"field\": \"cutoff2\", \"type\": \"quantitative\"}}}, {\"mark\": {\"type\": \"point\", \"opacity\": 0.65, \"size\": 12, \"strokeWidth\": 1.1}, \"encoding\": {\"color\": {\"field\": \"time_of_day\", \"scale\": {\"range\": [\"#136C97\", \"#E16B26\", \"#F6BF16\", \"#00896B\", \"#7790A3\", \"#5B559C\"]}, \"sort\": [\"AM Peak\", \"Midday\", \"PM Peak\", \"Owl Service\"], \"title\": \"Time of Day\", \"type\": \"nominal\"}, \"tooltip\": [{\"field\": \"route_id\", \"type\": \"nominal\"}, {\"field\": \"route_name\", \"type\": \"nominal\"}, {\"field\": \"trip_id\", \"type\": \"nominal\"}, {\"field\": \"service_hours\", \"type\": \"quantitative\"}, {\"field\": \"car_duration_hours\", \"type\": \"quantitative\"}, {\"field\": \"bus_multiplier\", \"type\": \"quantitative\"}, {\"field\": \"bus_difference\", \"type\": \"quantitative\"}, {\"field\": \"num_trips\", \"type\": \"quantitative\"}, {\"field\": \"num_competitive\", \"type\": \"quantitative\"}, {\"field\": \"pct_trips_competitive\", \"type\": \"quantitative\"}, {\"field\": \"p25\", \"type\": \"quantitative\"}, {\"field\": \"p50\", \"type\": \"quantitative\"}, {\"field\": \"p75\", \"type\": \"quantitative\"}], \"x\": {\"axis\": {\"grid\": false, \"labels\": false, \"ticks\": true, \"values\": [0]}, \"field\": \"jitter\", \"scale\": {}, \"title\": null, \"type\": \"quantitative\"}, \"y\": {\"field\": \"bus_difference\", \"scale\": {\"domain\": [-8.4, 48.0]}, \"title\": \"Difference in Bus to Car Travel Time (min)\", \"type\": \"quantitative\"}}, \"transform\": [{\"calculate\": \"sqrt(-2*log(random()))*cos(2*PI*random())\", \"as\": \"jitter\"}], \"width\": 50}, {\"layer\": [{\"mark\": {\"type\": \"point\", \"opacity\": 0.6, \"size\": 20, \"strokeWidth\": 1.3}, \"encoding\": {\"color\": {\"value\": \"#323434\"}, \"y\": {\"field\": \"bus_difference\", \"type\": \"quantitative\"}}, \"transform\": [{\"filter\": \"(datum.p50_trip === 1)\"}]}, {\"mark\": {\"type\": \"text\", \"align\": \"center\", \"baseline\": \"middle\"}, \"encoding\": {\"color\": {\"value\": \"black\"}, \"text\": {\"field\": \"pct_trips_competitive\", \"format\": \".0%\", \"type\": \"quantitative\"}, \"tooltip\": [{\"field\": \"route_id\", \"type\": \"nominal\"}, {\"field\": \"route_name\", \"type\": \"nominal\"}, {\"field\": \"trip_id\", \"type\": \"nominal\"}, {\"field\": \"service_hours\", \"type\": \"quantitative\"}, {\"field\": \"car_duration_hours\", \"type\": \"quantitative\"}, {\"field\": \"bus_multiplier\", \"type\": \"quantitative\"}, {\"field\": \"bus_difference\", \"type\": \"quantitative\"}, {\"field\": \"num_trips\", \"type\": \"quantitative\"}, {\"field\": \"num_competitive\", \"type\": \"quantitative\"}, {\"field\": \"pct_trips_competitive\", \"type\": \"quantitative\"}, {\"field\": \"p25\", \"type\": \"quantitative\"}, {\"field\": \"p50\", \"type\": \"quantitative\"}, {\"field\": \"p75\", \"type\": \"quantitative\"}], \"x\": {\"value\": 30}, \"y\": {\"value\": 15}}, \"transform\": [{\"calculate\": \"sqrt(-2*log(random()))*cos(2*PI*random())\", \"as\": \"jitter\"}, {\"filter\": \"(datum.fastest_trip === 1)\"}]}]}]}, \"resolve\": {\"scale\": {\"y\": \"shared\"}}, \"title\": \"Difference in Bus to Car Travel Time (min)\", \"$schema\": \"https://vega.github.io/schema/vega-lite/v4.17.0.json\", \"datasets\": {\"data-a129aa0d1c80f60aafaf78c7cb272a3f\": [{\"calitp_itp_id\": 246, \"trip_key\": 5689657583377269192, \"trip_id\": \"102\", \"shape_id\": \"p_1277323\", \"route_id\": \"19597\", \"service_hours\": 1.6, \"trip_first_departure_ts\": 17460, \"trip_last_arrival_ts\": 23220, \"departure_hour\": 4, \"time_of_day\": \"Owl Service\", \"p25\": 1.7, \"p50\": 1.75, \"p75\": 1.75, \"p50_trip\": 0, \"fastest_trip\": 1, \"car_duration_hours\": 1.43, \"competitive_route\": 1, \"bus_multiplier\": 1.12, \"bus_difference\": 10.2, \"num_trips\": 46, \"num_competitive\": 46, \"pct_trips_competitive\": 1.0, \"bus_difference_spread\": 13.2, \"route_group\": \"long\", \"max_trip_hrs\": 1.82, \"max_trip_route_group\": 1.82, \"below_cutoff\": 46, \"pct_below_cutoff\": 1.0, \"name\": \"Peninsula Corridor Joint Powers Board\", \"caltrans_district\": \"04 - Oakland\", \"drmt_organization_name\": null, \"route_name\": \"Local\", \"cutoff2\": 40, \"cutoff\": 0}, {\"calitp_itp_id\": 246, \"trip_key\": -462704180943269257, \"trip_id\": \"103\", \"shape_id\": \"p_1277302\", \"route_id\": \"19597\", \"service_hours\": 1.62, \"trip_first_departure_ts\": 18900, \"trip_last_arrival_ts\": 24720, \"departure_hour\": 5, \"time_of_day\": \"Owl Service\", \"p25\": 1.7, \"p50\": 1.75, \"p75\": 1.75, \"p50_trip\": 0, \"fastest_trip\": 0, \"car_duration_hours\": 1.43, \"competitive_route\": 1, \"bus_multiplier\": 1.13, \"bus_difference\": 11.4, \"num_trips\": 46, \"num_competitive\": 46, \"pct_trips_competitive\": 1.0, \"bus_difference_spread\": 13.2, \"route_group\": \"long\", \"max_trip_hrs\": 1.82, \"max_trip_route_group\": 1.82, \"below_cutoff\": 46, \"pct_below_cutoff\": 1.0, \"name\": \"Peninsula Corridor Joint Powers Board\", \"caltrans_district\": \"04 - Oakland\", \"drmt_organization_name\": null, \"route_name\": \"Local\", \"cutoff2\": 40, \"cutoff\": 0}, {\"calitp_itp_id\": 246, \"trip_key\": -2823948238415189275, \"trip_id\": \"135\", \"shape_id\": \"p_1277302\", \"route_id\": \"19597\", \"service_hours\": 1.65, \"trip_first_departure_ts\": 73440, \"trip_last_arrival_ts\": 79380, \"departure_hour\": 20, \"time_of_day\": \"Owl Service\", \"p25\": 1.7, \"p50\": 1.75, \"p75\": 1.75, \"p50_trip\": 0, \"fastest_trip\": 0, \"car_duration_hours\": 1.43, \"competitive_route\": 1, \"bus_multiplier\": 1.15, \"bus_difference\": 13.2, \"num_trips\": 46, \"num_competitive\": 46, \"pct_trips_competitive\": 1.0, \"bus_difference_spread\": 13.2, \"route_group\": \"long\", \"max_trip_hrs\": 1.82, \"max_trip_route_group\": 1.82, \"below_cutoff\": 46, \"pct_below_cutoff\": 1.0, \"name\": \"Peninsula Corridor Joint Powers Board\", \"caltrans_district\": \"04 - Oakland\", \"drmt_organization_name\": null, \"route_name\": \"Local\", \"cutoff2\": 40, \"cutoff\": 0}, {\"calitp_itp_id\": 246, \"trip_key\": -1827352608936880849, \"trip_id\": \"105\", \"shape_id\": \"p_1277302\", \"route_id\": \"19597\", \"service_hours\": 1.65, \"trip_first_departure_ts\": 21240, \"trip_last_arrival_ts\": 27180, \"departure_hour\": 5, \"time_of_day\": \"Owl Service\", \"p25\": 1.7, \"p50\": 1.75, \"p75\": 1.75, \"p50_trip\": 0, \"fastest_trip\": 0, \"car_duration_hours\": 1.43, \"competitive_route\": 1, \"bus_multiplier\": 1.15, \"bus_difference\": 13.2, \"num_trips\": 46, \"num_competitive\": 46, \"pct_trips_competitive\": 1.0, \"bus_difference_spread\": 13.2, \"route_group\": \"long\", \"max_trip_hrs\": 1.82, \"max_trip_route_group\": 1.82, \"below_cutoff\": 46, \"pct_below_cutoff\": 1.0, \"name\": \"Peninsula Corridor Joint Powers Board\", \"caltrans_district\": \"04 - Oakland\", \"drmt_organization_name\": null, \"route_name\": \"Local\", \"cutoff2\": 40, \"cutoff\": 0}, {\"calitp_itp_id\": 246, \"trip_key\": -8958954558006098404, \"trip_id\": \"144\", \"shape_id\": \"p_1277323\", \"route_id\": \"19597\", \"service_hours\": 1.67, \"trip_first_departure_ts\": 82800, \"trip_last_arrival_ts\": 88800, \"departure_hour\": 23, \"time_of_day\": \"Owl Service\", \"p25\": 1.7, \"p50\": 1.75, \"p75\": 1.75, \"p50_trip\": 0, \"fastest_trip\": 0, \"car_duration_hours\": 1.43, \"competitive_route\": 1, \"bus_multiplier\": 1.17, \"bus_difference\": 14.4, \"num_trips\": 46, \"num_competitive\": 46, \"pct_trips_competitive\": 1.0, \"bus_difference_spread\": 13.2, \"route_group\": \"long\", \"max_trip_hrs\": 1.82, \"max_trip_route_group\": 1.82, \"below_cutoff\": 46, \"pct_below_cutoff\": 1.0, \"name\": \"Peninsula Corridor Joint Powers Board\", \"caltrans_district\": \"04 - Oakland\", \"drmt_organization_name\": null, \"route_name\": \"Local\", \"cutoff2\": 40, \"cutoff\": 0}, {\"calitp_itp_id\": 246, \"trip_key\": -8012749167314828119, \"trip_id\": \"143\", \"shape_id\": \"p_1277302\", \"route_id\": \"19597\", \"service_hours\": 1.68, \"trip_first_departure_ts\": 80340, \"trip_last_arrival_ts\": 86400, \"departure_hour\": 22, \"time_of_day\": \"Owl Service\", \"p25\": 1.7, \"p50\": 1.75, \"p75\": 1.75, \"p50_trip\": 0, \"fastest_trip\": 0, \"car_duration_hours\": 1.43, \"competitive_route\": 1, \"bus_multiplier\": 1.17, \"bus_difference\": 15.0, \"num_trips\": 46, \"num_competitive\": 46, \"pct_trips_competitive\": 1.0, \"bus_difference_spread\": 13.2, \"route_group\": \"long\", \"max_trip_hrs\": 1.82, \"max_trip_route_group\": 1.82, \"below_cutoff\": 46, \"pct_below_cutoff\": 1.0, \"name\": \"Peninsula Corridor Joint Powers Board\", \"caltrans_district\": \"04 - Oakland\", \"drmt_organization_name\": null, \"route_name\": \"Local\", \"cutoff2\": 40, \"cutoff\": 0}, {\"calitp_itp_id\": 246, \"trip_key\": -2078031831610974864, \"trip_id\": \"130\", \"shape_id\": \"p_1277318\", \"route_id\": \"19597\", \"service_hours\": 1.68, \"trip_first_departure_ts\": 67380, \"trip_last_arrival_ts\": 73440, \"departure_hour\": 18, \"time_of_day\": \"PM Peak\", \"p25\": 1.7, \"p50\": 1.75, \"p75\": 1.75, \"p50_trip\": 0, \"fastest_trip\": 0, \"car_duration_hours\": 1.43, \"competitive_route\": 1, \"bus_multiplier\": 1.17, \"bus_difference\": 15.0, \"num_trips\": 46, \"num_competitive\": 46, \"pct_trips_competitive\": 1.0, \"bus_difference_spread\": 13.2, \"route_group\": \"long\", \"max_trip_hrs\": 1.82, \"max_trip_route_group\": 1.82, \"below_cutoff\": 46, \"pct_below_cutoff\": 1.0, \"name\": \"Peninsula Corridor Joint Powers Board\", \"caltrans_district\": \"04 - Oakland\", \"drmt_organization_name\": null, \"route_name\": \"Local\", \"cutoff2\": 40, \"cutoff\": 0}, {\"calitp_itp_id\": 246, \"trip_key\": -2533582264388860084, \"trip_id\": \"139\", \"shape_id\": \"p_1277302\", \"route_id\": \"19597\", \"service_hours\": 1.68, \"trip_first_departure_ts\": 76740, \"trip_last_arrival_ts\": 82800, \"departure_hour\": 21, \"time_of_day\": \"Owl Service\", \"p25\": 1.7, \"p50\": 1.75, \"p75\": 1.75, \"p50_trip\": 0, \"fastest_trip\": 0, \"car_duration_hours\": 1.43, \"competitive_route\": 1, \"bus_multiplier\": 1.17, \"bus_difference\": 15.0, \"num_trips\": 46, \"num_competitive\": 46, \"pct_trips_competitive\": 1.0, \"bus_difference_spread\": 13.2, \"route_group\": \"long\", \"max_trip_hrs\": 1.82, \"max_trip_route_group\": 1.82, \"below_cutoff\": 46, \"pct_below_cutoff\": 1.0, \"name\": \"Peninsula Corridor Joint Powers Board\", \"caltrans_district\": \"04 - Oakland\", \"drmt_organization_name\": null, \"route_name\": \"Local\", \"cutoff2\": 40, \"cutoff\": 0}, {\"calitp_itp_id\": 246, \"trip_key\": -8453341878020378784, \"trip_id\": \"146\", \"shape_id\": \"p_1277318\", \"route_id\": \"19597\", \"service_hours\": 1.68, \"trip_first_departure_ts\": 86700, \"trip_last_arrival_ts\": 92760, \"departure_hour\": 0, \"time_of_day\": \"Owl Service\", \"p25\": 1.7, \"p50\": 1.75, \"p75\": 1.75, \"p50_trip\": 0, \"fastest_trip\": 0, \"car_duration_hours\": 1.43, \"competitive_route\": 1, \"bus_multiplier\": 1.17, \"bus_difference\": 15.0, \"num_trips\": 46, \"num_competitive\": 46, \"pct_trips_competitive\": 1.0, \"bus_difference_spread\": 13.2, \"route_group\": \"long\", \"max_trip_hrs\": 1.82, \"max_trip_route_group\": 1.82, \"below_cutoff\": 46, \"pct_below_cutoff\": 1.0, \"name\": \"Peninsula Corridor Joint Powers Board\", \"caltrans_district\": \"04 - Oakland\", \"drmt_organization_name\": null, \"route_name\": \"Local\", \"cutoff2\": 40, \"cutoff\": 0}, {\"calitp_itp_id\": 246, \"trip_key\": 7323152046150746861, \"trip_id\": \"101\", \"shape_id\": \"p_1277305\", \"route_id\": \"19597\", \"service_hours\": 1.68, \"trip_first_departure_ts\": 15720, \"trip_last_arrival_ts\": 21780, \"departure_hour\": 4, \"time_of_day\": \"Owl Service\", \"p25\": 1.7, \"p50\": 1.75, \"p75\": 1.75, \"p50_trip\": 0, \"fastest_trip\": 0, \"car_duration_hours\": 1.43, \"competitive_route\": 1, \"bus_multiplier\": 1.17, \"bus_difference\": 15.0, \"num_trips\": 46, \"num_competitive\": 46, \"pct_trips_competitive\": 1.0, \"bus_difference_spread\": 13.2, \"route_group\": \"long\", \"max_trip_hrs\": 1.82, \"max_trip_route_group\": 1.82, \"below_cutoff\": 46, \"pct_below_cutoff\": 1.0, \"name\": \"Peninsula Corridor Joint Powers Board\", \"caltrans_district\": \"04 - Oakland\", \"drmt_organization_name\": null, \"route_name\": \"Local\", \"cutoff2\": 40, \"cutoff\": 0}, {\"calitp_itp_id\": 246, \"trip_key\": -3435984903443032891, \"trip_id\": \"111\", \"shape_id\": \"p_1277305\", \"route_id\": \"19597\", \"service_hours\": 1.7, \"trip_first_departure_ts\": 31800, \"trip_last_arrival_ts\": 37920, \"departure_hour\": 8, \"time_of_day\": \"AM Peak\", \"p25\": 1.7, \"p50\": 1.75, \"p75\": 1.75, \"p50_trip\": 0, \"fastest_trip\": 0, \"car_duration_hours\": 1.43, \"competitive_route\": 1, \"bus_multiplier\": 1.19, \"bus_difference\": 16.2, \"num_trips\": 46, \"num_competitive\": 46, \"pct_trips_competitive\": 1.0, \"bus_difference_spread\": 13.2, \"route_group\": \"long\", \"max_trip_hrs\": 1.82, \"max_trip_route_group\": 1.82, \"below_cutoff\": 46, \"pct_below_cutoff\": 1.0, \"name\": \"Peninsula Corridor Joint Powers Board\", \"caltrans_district\": \"04 - Oakland\", \"drmt_organization_name\": null, \"route_name\": \"Local\", \"cutoff2\": 40, \"cutoff\": 0}, {\"calitp_itp_id\": 246, \"trip_key\": 5743500028399521575, \"trip_id\": \"136\", \"shape_id\": \"p_1277323\", \"route_id\": \"19597\", \"service_hours\": 1.7, \"trip_first_departure_ts\": 75720, \"trip_last_arrival_ts\": 81840, \"departure_hour\": 21, \"time_of_day\": \"Owl Service\", \"p25\": 1.7, \"p50\": 1.75, \"p75\": 1.75, \"p50_trip\": 0, \"fastest_trip\": 0, \"car_duration_hours\": 1.43, \"competitive_route\": 1, \"bus_multiplier\": 1.19, \"bus_difference\": 16.2, \"num_trips\": 46, \"num_competitive\": 46, \"pct_trips_competitive\": 1.0, \"bus_difference_spread\": 13.2, \"route_group\": \"long\", \"max_trip_hrs\": 1.82, \"max_trip_route_group\": 1.82, \"below_cutoff\": 46, \"pct_below_cutoff\": 1.0, \"name\": \"Peninsula Corridor Joint Powers Board\", \"caltrans_district\": \"04 - Oakland\", \"drmt_organization_name\": null, \"route_name\": \"Local\", \"cutoff2\": 40, \"cutoff\": 0}, {\"calitp_itp_id\": 246, \"trip_key\": -1535996178360945529, \"trip_id\": \"140\", \"shape_id\": \"p_1277323\", \"route_id\": \"19597\", \"service_hours\": 1.7, \"trip_first_departure_ts\": 79200, \"trip_last_arrival_ts\": 85320, \"departure_hour\": 22, \"time_of_day\": \"Owl Service\", \"p25\": 1.7, \"p50\": 1.75, \"p75\": 1.75, \"p50_trip\": 0, \"fastest_trip\": 0, \"car_duration_hours\": 1.43, \"competitive_route\": 1, \"bus_multiplier\": 1.19, \"bus_difference\": 16.2, \"num_trips\": 46, \"num_competitive\": 46, \"pct_trips_competitive\": 1.0, \"bus_difference_spread\": 13.2, \"route_group\": \"long\", \"max_trip_hrs\": 1.82, \"max_trip_route_group\": 1.82, \"below_cutoff\": 46, \"pct_below_cutoff\": 1.0, \"name\": \"Peninsula Corridor Joint Powers Board\", \"caltrans_district\": \"04 - Oakland\", \"drmt_organization_name\": null, \"route_name\": \"Local\", \"cutoff2\": 40, \"cutoff\": 0}, {\"calitp_itp_id\": 246, \"trip_key\": 647578507224536459, \"trip_id\": \"110\", \"shape_id\": \"p_1277318\", \"route_id\": \"19597\", \"service_hours\": 1.73, \"trip_first_departure_ts\": 31140, \"trip_last_arrival_ts\": 37380, \"departure_hour\": 8, \"time_of_day\": \"AM Peak\", \"p25\": 1.7, \"p50\": 1.75, \"p75\": 1.75, \"p50_trip\": 0, \"fastest_trip\": 0, \"car_duration_hours\": 1.43, \"competitive_route\": 1, \"bus_multiplier\": 1.21, \"bus_difference\": 18.0, \"num_trips\": 46, \"num_competitive\": 46, \"pct_trips_competitive\": 1.0, \"bus_difference_spread\": 13.2, \"route_group\": \"long\", \"max_trip_hrs\": 1.82, \"max_trip_route_group\": 1.82, \"below_cutoff\": 46, \"pct_below_cutoff\": 1.0, \"name\": \"Peninsula Corridor Joint Powers Board\", \"caltrans_district\": \"04 - Oakland\", \"drmt_organization_name\": null, \"route_name\": \"Local\", \"cutoff2\": 40, \"cutoff\": 0}, {\"calitp_itp_id\": 246, \"trip_key\": -6551713115548737987, \"trip_id\": \"124\", \"shape_id\": \"p_1277318\", \"route_id\": \"19597\", \"service_hours\": 1.73, \"trip_first_departure_ts\": 56340, \"trip_last_arrival_ts\": 62580, \"departure_hour\": 15, \"time_of_day\": \"Midday\", \"p25\": 1.7, \"p50\": 1.75, \"p75\": 1.75, \"p50_trip\": 0, \"fastest_trip\": 0, \"car_duration_hours\": 1.43, \"competitive_route\": 1, \"bus_multiplier\": 1.21, \"bus_difference\": 18.0, \"num_trips\": 46, \"num_competitive\": 46, \"pct_trips_competitive\": 1.0, \"bus_difference_spread\": 13.2, \"route_group\": \"long\", \"max_trip_hrs\": 1.82, \"max_trip_route_group\": 1.82, \"below_cutoff\": 46, \"pct_below_cutoff\": 1.0, \"name\": \"Peninsula Corridor Joint Powers Board\", \"caltrans_district\": \"04 - Oakland\", \"drmt_organization_name\": null, \"route_name\": \"Local\", \"cutoff2\": 40, \"cutoff\": 0}, {\"calitp_itp_id\": 246, \"trip_key\": 3319411844440389518, \"trip_id\": \"108\", \"shape_id\": \"p_1277318\", \"route_id\": \"19597\", \"service_hours\": 1.75, \"trip_first_departure_ts\": 27540, \"trip_last_arrival_ts\": 33840, \"departure_hour\": 7, \"time_of_day\": \"AM Peak\", \"p25\": 1.7, \"p50\": 1.75, \"p75\": 1.75, \"p50_trip\": 1, \"fastest_trip\": 0, \"car_duration_hours\": 1.43, \"competitive_route\": 1, \"bus_multiplier\": 1.22, \"bus_difference\": 19.2, \"num_trips\": 46, \"num_competitive\": 46, \"pct_trips_competitive\": 1.0, \"bus_difference_spread\": 13.2, \"route_group\": \"long\", \"max_trip_hrs\": 1.82, \"max_trip_route_group\": 1.82, \"below_cutoff\": 46, \"pct_below_cutoff\": 1.0, \"name\": \"Peninsula Corridor Joint Powers Board\", \"caltrans_district\": \"04 - Oakland\", \"drmt_organization_name\": null, \"route_name\": \"Local\", \"cutoff2\": 40, \"cutoff\": 0}, {\"calitp_itp_id\": 246, \"trip_key\": 4264555593112950191, \"trip_id\": \"109\", \"shape_id\": \"p_1277305\", \"route_id\": \"19597\", \"service_hours\": 1.75, \"trip_first_departure_ts\": 28080, \"trip_last_arrival_ts\": 34380, \"departure_hour\": 7, \"time_of_day\": \"AM Peak\", \"p25\": 1.7, \"p50\": 1.75, \"p75\": 1.75, \"p50_trip\": 1, \"fastest_trip\": 0, \"car_duration_hours\": 1.43, \"competitive_route\": 1, \"bus_multiplier\": 1.22, \"bus_difference\": 19.2, \"num_trips\": 46, \"num_competitive\": 46, \"pct_trips_competitive\": 1.0, \"bus_difference_spread\": 13.2, \"route_group\": \"long\", \"max_trip_hrs\": 1.82, \"max_trip_route_group\": 1.82, \"below_cutoff\": 46, \"pct_below_cutoff\": 1.0, \"name\": \"Peninsula Corridor Joint Powers Board\", \"caltrans_district\": \"04 - Oakland\", \"drmt_organization_name\": null, \"route_name\": \"Local\", \"cutoff2\": 40, \"cutoff\": 0}, {\"calitp_itp_id\": 246, \"trip_key\": 1773533607613883001, \"trip_id\": \"119\", \"shape_id\": \"p_1277305\", \"route_id\": \"19597\", \"service_hours\": 1.75, \"trip_first_departure_ts\": 46080, \"trip_last_arrival_ts\": 52380, \"departure_hour\": 12, \"time_of_day\": \"Midday\", \"p25\": 1.7, \"p50\": 1.75, \"p75\": 1.75, \"p50_trip\": 1, \"fastest_trip\": 0, \"car_duration_hours\": 1.43, \"competitive_route\": 1, \"bus_multiplier\": 1.22, \"bus_difference\": 19.2, \"num_trips\": 46, \"num_competitive\": 46, \"pct_trips_competitive\": 1.0, \"bus_difference_spread\": 13.2, \"route_group\": \"long\", \"max_trip_hrs\": 1.82, \"max_trip_route_group\": 1.82, \"below_cutoff\": 46, \"pct_below_cutoff\": 1.0, \"name\": \"Peninsula Corridor Joint Powers Board\", \"caltrans_district\": \"04 - Oakland\", \"drmt_organization_name\": null, \"route_name\": \"Local\", \"cutoff2\": 40, \"cutoff\": 0}, {\"calitp_itp_id\": 246, \"trip_key\": -8648538179596301004, \"trip_id\": \"120\", \"shape_id\": \"p_1277318\", \"route_id\": \"19597\", \"service_hours\": 1.75, \"trip_first_departure_ts\": 49080, \"trip_last_arrival_ts\": 55380, \"departure_hour\": 13, \"time_of_day\": \"Midday\", \"p25\": 1.7, \"p50\": 1.75, \"p75\": 1.75, \"p50_trip\": 1, \"fastest_trip\": 0, \"car_duration_hours\": 1.43, \"competitive_route\": 1, \"bus_multiplier\": 1.22, \"bus_difference\": 19.2, \"num_trips\": 46, \"num_competitive\": 46, \"pct_trips_competitive\": 1.0, \"bus_difference_spread\": 13.2, \"route_group\": \"long\", \"max_trip_hrs\": 1.82, \"max_trip_route_group\": 1.82, \"below_cutoff\": 46, \"pct_below_cutoff\": 1.0, \"name\": \"Peninsula Corridor Joint Powers Board\", \"caltrans_district\": \"04 - Oakland\", \"drmt_organization_name\": null, \"route_name\": \"Local\", \"cutoff2\": 40, \"cutoff\": 0}, {\"calitp_itp_id\": 246, \"trip_key\": -401801045673963416, \"trip_id\": \"118\", \"shape_id\": \"p_1277318\", \"route_id\": \"19597\", \"service_hours\": 1.75, \"trip_first_departure_ts\": 45480, \"trip_last_arrival_ts\": 51780, \"departure_hour\": 12, \"time_of_day\": \"Midday\", \"p25\": 1.7, \"p50\": 1.75, \"p75\": 1.75, \"p50_trip\": 1, \"fastest_trip\": 0, \"car_duration_hours\": 1.43, \"competitive_route\": 1, \"bus_multiplier\": 1.22, \"bus_difference\": 19.2, \"num_trips\": 46, \"num_competitive\": 46, \"pct_trips_competitive\": 1.0, \"bus_difference_spread\": 13.2, \"route_group\": \"long\", \"max_trip_hrs\": 1.82, \"max_trip_route_group\": 1.82, \"below_cutoff\": 46, \"pct_below_cutoff\": 1.0, \"name\": \"Peninsula Corridor Joint Powers Board\", \"caltrans_district\": \"04 - Oakland\", \"drmt_organization_name\": null, \"route_name\": \"Local\", \"cutoff2\": 40, \"cutoff\": 0}, {\"calitp_itp_id\": 246, \"trip_key\": 6025296614014743059, \"trip_id\": \"114\", \"shape_id\": \"p_1277318\", \"route_id\": \"19597\", \"service_hours\": 1.75, \"trip_first_departure_ts\": 38280, \"trip_last_arrival_ts\": 44580, \"departure_hour\": 10, \"time_of_day\": \"Midday\", \"p25\": 1.7, \"p50\": 1.75, \"p75\": 1.75, \"p50_trip\": 1, \"fastest_trip\": 0, \"car_duration_hours\": 1.43, \"competitive_route\": 1, \"bus_multiplier\": 1.22, \"bus_difference\": 19.2, \"num_trips\": 46, \"num_competitive\": 46, \"pct_trips_competitive\": 1.0, \"bus_difference_spread\": 13.2, \"route_group\": \"long\", \"max_trip_hrs\": 1.82, \"max_trip_route_group\": 1.82, \"below_cutoff\": 46, \"pct_below_cutoff\": 1.0, \"name\": \"Peninsula Corridor Joint Powers Board\", \"caltrans_district\": \"04 - Oakland\", \"drmt_organization_name\": null, \"route_name\": \"Local\", \"cutoff2\": 40, \"cutoff\": 0}, {\"calitp_itp_id\": 246, \"trip_key\": 7949029472313082551, \"trip_id\": \"131\", \"shape_id\": \"p_1277305\", \"route_id\": \"19597\", \"service_hours\": 1.75, \"trip_first_departure_ts\": 67800, \"trip_last_arrival_ts\": 74100, \"departure_hour\": 18, \"time_of_day\": \"PM Peak\", \"p25\": 1.7, \"p50\": 1.75, \"p75\": 1.75, \"p50_trip\": 1, \"fastest_trip\": 0, \"car_duration_hours\": 1.43, \"competitive_route\": 1, \"bus_multiplier\": 1.22, \"bus_difference\": 19.2, \"num_trips\": 46, \"num_competitive\": 46, \"pct_trips_competitive\": 1.0, \"bus_difference_spread\": 13.2, \"route_group\": \"long\", \"max_trip_hrs\": 1.82, \"max_trip_route_group\": 1.82, \"below_cutoff\": 46, \"pct_below_cutoff\": 1.0, \"name\": \"Peninsula Corridor Joint Powers Board\", \"caltrans_district\": \"04 - Oakland\", \"drmt_organization_name\": null, \"route_name\": \"Local\", \"cutoff2\": 40, \"cutoff\": 0}, {\"calitp_itp_id\": 246, \"trip_key\": 4815906874404952375, \"trip_id\": \"133\", \"shape_id\": \"p_1277305\", \"route_id\": \"19597\", \"service_hours\": 1.75, \"trip_first_departure_ts\": 71280, \"trip_last_arrival_ts\": 77580, \"departure_hour\": 19, \"time_of_day\": \"PM Peak\", \"p25\": 1.7, \"p50\": 1.75, \"p75\": 1.75, \"p50_trip\": 1, \"fastest_trip\": 0, \"car_duration_hours\": 1.43, \"competitive_route\": 1, \"bus_multiplier\": 1.22, \"bus_difference\": 19.2, \"num_trips\": 46, \"num_competitive\": 46, \"pct_trips_competitive\": 1.0, \"bus_difference_spread\": 13.2, \"route_group\": \"long\", \"max_trip_hrs\": 1.82, \"max_trip_route_group\": 1.82, \"below_cutoff\": 46, \"pct_below_cutoff\": 1.0, \"name\": \"Peninsula Corridor Joint Powers Board\", \"caltrans_district\": \"04 - Oakland\", \"drmt_organization_name\": null, \"route_name\": \"Local\", \"cutoff2\": 40, \"cutoff\": 0}, {\"calitp_itp_id\": 246, \"trip_key\": 6205656637669239208, \"trip_id\": \"104\", \"shape_id\": \"p_1277318\", \"route_id\": \"19597\", \"service_hours\": 1.75, \"trip_first_departure_ts\": 20340, \"trip_last_arrival_ts\": 26640, \"departure_hour\": 5, \"time_of_day\": \"Owl Service\", \"p25\": 1.7, \"p50\": 1.75, \"p75\": 1.75, \"p50_trip\": 1, \"fastest_trip\": 0, \"car_duration_hours\": 1.43, \"competitive_route\": 1, \"bus_multiplier\": 1.22, \"bus_difference\": 19.2, \"num_trips\": 46, \"num_competitive\": 46, \"pct_trips_competitive\": 1.0, \"bus_difference_spread\": 13.2, \"route_group\": \"long\", \"max_trip_hrs\": 1.82, \"max_trip_route_group\": 1.82, \"below_cutoff\": 46, \"pct_below_cutoff\": 1.0, \"name\": \"Peninsula Corridor Joint Powers Board\", \"caltrans_district\": \"04 - Oakland\", \"drmt_organization_name\": null, \"route_name\": \"Local\", \"cutoff2\": 40, \"cutoff\": 0}, {\"calitp_itp_id\": 246, \"trip_key\": 4812170336875352889, \"trip_id\": \"113\", \"shape_id\": \"p_1277305\", \"route_id\": \"19597\", \"service_hours\": 1.75, \"trip_first_departure_ts\": 35280, \"trip_last_arrival_ts\": 41580, \"departure_hour\": 9, \"time_of_day\": \"AM Peak\", \"p25\": 1.7, \"p50\": 1.75, \"p75\": 1.75, \"p50_trip\": 1, \"fastest_trip\": 0, \"car_duration_hours\": 1.43, \"competitive_route\": 1, \"bus_multiplier\": 1.22, \"bus_difference\": 19.2, \"num_trips\": 46, \"num_competitive\": 46, \"pct_trips_competitive\": 1.0, \"bus_difference_spread\": 13.2, \"route_group\": \"long\", \"max_trip_hrs\": 1.82, \"max_trip_route_group\": 1.82, \"below_cutoff\": 46, \"pct_below_cutoff\": 1.0, \"name\": \"Peninsula Corridor Joint Powers Board\", \"caltrans_district\": \"04 - Oakland\", \"drmt_organization_name\": null, \"route_name\": \"Local\", \"cutoff2\": 40, \"cutoff\": 0}, {\"calitp_itp_id\": 246, \"trip_key\": -7066354310175022709, \"trip_id\": \"123\", \"shape_id\": \"p_1277305\", \"route_id\": \"19597\", \"service_hours\": 1.75, \"trip_first_departure_ts\": 53280, \"trip_last_arrival_ts\": 59580, \"departure_hour\": 14, \"time_of_day\": \"Midday\", \"p25\": 1.7, \"p50\": 1.75, \"p75\": 1.75, \"p50_trip\": 1, \"fastest_trip\": 0, \"car_duration_hours\": 1.43, \"competitive_route\": 1, \"bus_multiplier\": 1.22, \"bus_difference\": 19.2, \"num_trips\": 46, \"num_competitive\": 46, \"pct_trips_competitive\": 1.0, \"bus_difference_spread\": 13.2, \"route_group\": \"long\", \"max_trip_hrs\": 1.82, \"max_trip_route_group\": 1.82, \"below_cutoff\": 46, \"pct_below_cutoff\": 1.0, \"name\": \"Peninsula Corridor Joint Powers Board\", \"caltrans_district\": \"04 - Oakland\", \"drmt_organization_name\": null, \"route_name\": \"Local\", \"cutoff2\": 40, \"cutoff\": 0}, {\"calitp_itp_id\": 246, \"trip_key\": 4964944345699315207, \"trip_id\": \"127\", \"shape_id\": \"p_1277305\", \"route_id\": \"19597\", \"service_hours\": 1.75, \"trip_first_departure_ts\": 60480, \"trip_last_arrival_ts\": 66780, \"departure_hour\": 16, \"time_of_day\": \"Midday\", \"p25\": 1.7, \"p50\": 1.75, \"p75\": 1.75, \"p50_trip\": 1, \"fastest_trip\": 0, \"car_duration_hours\": 1.43, \"competitive_route\": 1, \"bus_multiplier\": 1.22, \"bus_difference\": 19.2, \"num_trips\": 46, \"num_competitive\": 46, \"pct_trips_competitive\": 1.0, \"bus_difference_spread\": 13.2, \"route_group\": \"long\", \"max_trip_hrs\": 1.82, \"max_trip_route_group\": 1.82, \"below_cutoff\": 46, \"pct_below_cutoff\": 1.0, \"name\": \"Peninsula Corridor Joint Powers Board\", \"caltrans_district\": \"04 - Oakland\", \"drmt_organization_name\": null, \"route_name\": \"Local\", \"cutoff2\": 40, \"cutoff\": 0}, {\"calitp_itp_id\": 246, \"trip_key\": 3648378566297995686, \"trip_id\": \"117\", \"shape_id\": \"p_1277305\", \"route_id\": \"19597\", \"service_hours\": 1.75, \"trip_first_departure_ts\": 42480, \"trip_last_arrival_ts\": 48780, \"departure_hour\": 11, \"time_of_day\": \"Midday\", \"p25\": 1.7, \"p50\": 1.75, \"p75\": 1.75, \"p50_trip\": 1, \"fastest_trip\": 0, \"car_duration_hours\": 1.43, \"competitive_route\": 1, \"bus_multiplier\": 1.22, \"bus_difference\": 19.2, \"num_trips\": 46, \"num_competitive\": 46, \"pct_trips_competitive\": 1.0, \"bus_difference_spread\": 13.2, \"route_group\": \"long\", \"max_trip_hrs\": 1.82, \"max_trip_route_group\": 1.82, \"below_cutoff\": 46, \"pct_below_cutoff\": 1.0, \"name\": \"Peninsula Corridor Joint Powers Board\", \"caltrans_district\": \"04 - Oakland\", \"drmt_organization_name\": null, \"route_name\": \"Local\", \"cutoff2\": 40, \"cutoff\": 0}, {\"calitp_itp_id\": 246, \"trip_key\": -6936639380642816163, \"trip_id\": \"121\", \"shape_id\": \"p_1277305\", \"route_id\": \"19597\", \"service_hours\": 1.75, \"trip_first_departure_ts\": 49680, \"trip_last_arrival_ts\": 55980, \"departure_hour\": 13, \"time_of_day\": \"Midday\", \"p25\": 1.7, \"p50\": 1.75, \"p75\": 1.75, \"p50_trip\": 1, \"fastest_trip\": 0, \"car_duration_hours\": 1.43, \"competitive_route\": 1, \"bus_multiplier\": 1.22, \"bus_difference\": 19.2, \"num_trips\": 46, \"num_competitive\": 46, \"pct_trips_competitive\": 1.0, \"bus_difference_spread\": 13.2, \"route_group\": \"long\", \"max_trip_hrs\": 1.82, \"max_trip_route_group\": 1.82, \"below_cutoff\": 46, \"pct_below_cutoff\": 1.0, \"name\": \"Peninsula Corridor Joint Powers Board\", \"caltrans_district\": \"04 - Oakland\", \"drmt_organization_name\": null, \"route_name\": \"Local\", \"cutoff2\": 40, \"cutoff\": 0}, {\"calitp_itp_id\": 246, \"trip_key\": 1672243175883581498, \"trip_id\": \"107\", \"shape_id\": \"p_1277305\", \"route_id\": \"19597\", \"service_hours\": 1.75, \"trip_first_departure_ts\": 24480, \"trip_last_arrival_ts\": 30780, \"departure_hour\": 6, \"time_of_day\": \"Owl Service\", \"p25\": 1.7, \"p50\": 1.75, \"p75\": 1.75, \"p50_trip\": 1, \"fastest_trip\": 0, \"car_duration_hours\": 1.43, \"competitive_route\": 1, \"bus_multiplier\": 1.22, \"bus_difference\": 19.2, \"num_trips\": 46, \"num_competitive\": 46, \"pct_trips_competitive\": 1.0, \"bus_difference_spread\": 13.2, \"route_group\": \"long\", \"max_trip_hrs\": 1.82, \"max_trip_route_group\": 1.82, \"below_cutoff\": 46, \"pct_below_cutoff\": 1.0, \"name\": \"Peninsula Corridor Joint Powers Board\", \"caltrans_district\": \"04 - Oakland\", \"drmt_organization_name\": null, \"route_name\": \"Local\", \"cutoff2\": 40, \"cutoff\": 0}, {\"calitp_itp_id\": 246, \"trip_key\": -2605578953738035263, \"trip_id\": \"116\", \"shape_id\": \"p_1277318\", \"route_id\": \"19597\", \"service_hours\": 1.75, \"trip_first_departure_ts\": 41880, \"trip_last_arrival_ts\": 48180, \"departure_hour\": 11, \"time_of_day\": \"Midday\", \"p25\": 1.7, \"p50\": 1.75, \"p75\": 1.75, \"p50_trip\": 1, \"fastest_trip\": 0, \"car_duration_hours\": 1.43, \"competitive_route\": 1, \"bus_multiplier\": 1.22, \"bus_difference\": 19.2, \"num_trips\": 46, \"num_competitive\": 46, \"pct_trips_competitive\": 1.0, \"bus_difference_spread\": 13.2, \"route_group\": \"long\", \"max_trip_hrs\": 1.82, \"max_trip_route_group\": 1.82, \"below_cutoff\": 46, \"pct_below_cutoff\": 1.0, \"name\": \"Peninsula Corridor Joint Powers Board\", \"caltrans_district\": \"04 - Oakland\", \"drmt_organization_name\": null, \"route_name\": \"Local\", \"cutoff2\": 40, \"cutoff\": 0}, {\"calitp_itp_id\": 246, \"trip_key\": 4883286022941161378, \"trip_id\": \"128\", \"shape_id\": \"p_1277318\", \"route_id\": \"19597\", \"service_hours\": 1.75, \"trip_first_departure_ts\": 63540, \"trip_last_arrival_ts\": 69840, \"departure_hour\": 17, \"time_of_day\": \"PM Peak\", \"p25\": 1.7, \"p50\": 1.75, \"p75\": 1.75, \"p50_trip\": 1, \"fastest_trip\": 0, \"car_duration_hours\": 1.43, \"competitive_route\": 1, \"bus_multiplier\": 1.22, \"bus_difference\": 19.2, \"num_trips\": 46, \"num_competitive\": 46, \"pct_trips_competitive\": 1.0, \"bus_difference_spread\": 13.2, \"route_group\": \"long\", \"max_trip_hrs\": 1.82, \"max_trip_route_group\": 1.82, \"below_cutoff\": 46, \"pct_below_cutoff\": 1.0, \"name\": \"Peninsula Corridor Joint Powers Board\", \"caltrans_district\": \"04 - Oakland\", \"drmt_organization_name\": null, \"route_name\": \"Local\", \"cutoff2\": 40, \"cutoff\": 0}, {\"calitp_itp_id\": 246, \"trip_key\": -4681306232203559933, \"trip_id\": \"112\", \"shape_id\": \"p_1277318\", \"route_id\": \"19597\", \"service_hours\": 1.75, \"trip_first_departure_ts\": 34680, \"trip_last_arrival_ts\": 40980, \"departure_hour\": 9, \"time_of_day\": \"AM Peak\", \"p25\": 1.7, \"p50\": 1.75, \"p75\": 1.75, \"p50_trip\": 1, \"fastest_trip\": 0, \"car_duration_hours\": 1.43, \"competitive_route\": 1, \"bus_multiplier\": 1.22, \"bus_difference\": 19.2, \"num_trips\": 46, \"num_competitive\": 46, \"pct_trips_competitive\": 1.0, \"bus_difference_spread\": 13.2, \"route_group\": \"long\", \"max_trip_hrs\": 1.82, \"max_trip_route_group\": 1.82, \"below_cutoff\": 46, \"pct_below_cutoff\": 1.0, \"name\": \"Peninsula Corridor Joint Powers Board\", \"caltrans_district\": \"04 - Oakland\", \"drmt_organization_name\": null, \"route_name\": \"Local\", \"cutoff2\": 40, \"cutoff\": 0}, {\"calitp_itp_id\": 246, \"trip_key\": 92157010597196066, \"trip_id\": \"115\", \"shape_id\": \"p_1277305\", \"route_id\": \"19597\", \"service_hours\": 1.75, \"trip_first_departure_ts\": 38880, \"trip_last_arrival_ts\": 45180, \"departure_hour\": 10, \"time_of_day\": \"Midday\", \"p25\": 1.7, \"p50\": 1.75, \"p75\": 1.75, \"p50_trip\": 1, \"fastest_trip\": 0, \"car_duration_hours\": 1.43, \"competitive_route\": 1, \"bus_multiplier\": 1.22, \"bus_difference\": 19.2, \"num_trips\": 46, \"num_competitive\": 46, \"pct_trips_competitive\": 1.0, \"bus_difference_spread\": 13.2, \"route_group\": \"long\", \"max_trip_hrs\": 1.82, \"max_trip_route_group\": 1.82, \"below_cutoff\": 46, \"pct_below_cutoff\": 1.0, \"name\": \"Peninsula Corridor Joint Powers Board\", \"caltrans_district\": \"04 - Oakland\", \"drmt_organization_name\": null, \"route_name\": \"Local\", \"cutoff2\": 40, \"cutoff\": 0}, {\"calitp_itp_id\": 246, \"trip_key\": -1594534215706849064, \"trip_id\": \"125\", \"shape_id\": \"p_1277305\", \"route_id\": \"19597\", \"service_hours\": 1.75, \"trip_first_departure_ts\": 56880, \"trip_last_arrival_ts\": 63180, \"departure_hour\": 15, \"time_of_day\": \"Midday\", \"p25\": 1.7, \"p50\": 1.75, \"p75\": 1.75, \"p50_trip\": 1, \"fastest_trip\": 0, \"car_duration_hours\": 1.43, \"competitive_route\": 1, \"bus_multiplier\": 1.22, \"bus_difference\": 19.2, \"num_trips\": 46, \"num_competitive\": 46, \"pct_trips_competitive\": 1.0, \"bus_difference_spread\": 13.2, \"route_group\": \"long\", \"max_trip_hrs\": 1.82, \"max_trip_route_group\": 1.82, \"below_cutoff\": 46, \"pct_below_cutoff\": 1.0, \"name\": \"Peninsula Corridor Joint Powers Board\", \"caltrans_district\": \"04 - Oakland\", \"drmt_organization_name\": null, \"route_name\": \"Local\", \"cutoff2\": 40, \"cutoff\": 0}, {\"calitp_itp_id\": 246, \"trip_key\": 2483166844999297530, \"trip_id\": \"142\", \"shape_id\": \"p_1277318\", \"route_id\": \"19597\", \"service_hours\": 1.77, \"trip_first_departure_ts\": 81000, \"trip_last_arrival_ts\": 87360, \"departure_hour\": 22, \"time_of_day\": \"Owl Service\", \"p25\": 1.7, \"p50\": 1.75, \"p75\": 1.75, \"p50_trip\": 0, \"fastest_trip\": 0, \"car_duration_hours\": 1.43, \"competitive_route\": 1, \"bus_multiplier\": 1.24, \"bus_difference\": 20.4, \"num_trips\": 46, \"num_competitive\": 46, \"pct_trips_competitive\": 1.0, \"bus_difference_spread\": 13.2, \"route_group\": \"long\", \"max_trip_hrs\": 1.82, \"max_trip_route_group\": 1.82, \"below_cutoff\": 46, \"pct_below_cutoff\": 1.0, \"name\": \"Peninsula Corridor Joint Powers Board\", \"caltrans_district\": \"04 - Oakland\", \"drmt_organization_name\": null, \"route_name\": \"Local\", \"cutoff2\": 40, \"cutoff\": 0}, {\"calitp_itp_id\": 246, \"trip_key\": 3951226423840344857, \"trip_id\": \"132\", \"shape_id\": \"p_1277318\", \"route_id\": \"19597\", \"service_hours\": 1.77, \"trip_first_departure_ts\": 70680, \"trip_last_arrival_ts\": 77040, \"departure_hour\": 19, \"time_of_day\": \"PM Peak\", \"p25\": 1.7, \"p50\": 1.75, \"p75\": 1.75, \"p50_trip\": 0, \"fastest_trip\": 0, \"car_duration_hours\": 1.43, \"competitive_route\": 1, \"bus_multiplier\": 1.24, \"bus_difference\": 20.4, \"num_trips\": 46, \"num_competitive\": 46, \"pct_trips_competitive\": 1.0, \"bus_difference_spread\": 13.2, \"route_group\": \"long\", \"max_trip_hrs\": 1.82, \"max_trip_route_group\": 1.82, \"below_cutoff\": 46, \"pct_below_cutoff\": 1.0, \"name\": \"Peninsula Corridor Joint Powers Board\", \"caltrans_district\": \"04 - Oakland\", \"drmt_organization_name\": null, \"route_name\": \"Local\", \"cutoff2\": 40, \"cutoff\": 0}, {\"calitp_itp_id\": 246, \"trip_key\": 6862438000355524506, \"trip_id\": \"122\", \"shape_id\": \"p_1277318\", \"route_id\": \"19597\", \"service_hours\": 1.77, \"trip_first_departure_ts\": 52680, \"trip_last_arrival_ts\": 59040, \"departure_hour\": 14, \"time_of_day\": \"Midday\", \"p25\": 1.7, \"p50\": 1.75, \"p75\": 1.75, \"p50_trip\": 0, \"fastest_trip\": 0, \"car_duration_hours\": 1.43, \"competitive_route\": 1, \"bus_multiplier\": 1.24, \"bus_difference\": 20.4, \"num_trips\": 46, \"num_competitive\": 46, \"pct_trips_competitive\": 1.0, \"bus_difference_spread\": 13.2, \"route_group\": \"long\", \"max_trip_hrs\": 1.82, \"max_trip_route_group\": 1.82, \"below_cutoff\": 46, \"pct_below_cutoff\": 1.0, \"name\": \"Peninsula Corridor Joint Powers Board\", \"caltrans_district\": \"04 - Oakland\", \"drmt_organization_name\": null, \"route_name\": \"Local\", \"cutoff2\": 40, \"cutoff\": 0}, {\"calitp_itp_id\": 246, \"trip_key\": 2915845959629369023, \"trip_id\": \"141\", \"shape_id\": \"p_1277305\", \"route_id\": \"19597\", \"service_hours\": 1.78, \"trip_first_departure_ts\": 78120, \"trip_last_arrival_ts\": 84540, \"departure_hour\": 21, \"time_of_day\": \"Owl Service\", \"p25\": 1.7, \"p50\": 1.75, \"p75\": 1.75, \"p50_trip\": 0, \"fastest_trip\": 0, \"car_duration_hours\": 1.43, \"competitive_route\": 1, \"bus_multiplier\": 1.24, \"bus_difference\": 21.0, \"num_trips\": 46, \"num_competitive\": 46, \"pct_trips_competitive\": 1.0, \"bus_difference_spread\": 13.2, \"route_group\": \"long\", \"max_trip_hrs\": 1.82, \"max_trip_route_group\": 1.82, \"below_cutoff\": 46, \"pct_below_cutoff\": 1.0, \"name\": \"Peninsula Corridor Joint Powers Board\", \"caltrans_district\": \"04 - Oakland\", \"drmt_organization_name\": null, \"route_name\": \"Local\", \"cutoff2\": 40, \"cutoff\": 0}, {\"calitp_itp_id\": 246, \"trip_key\": -4015804034740066318, \"trip_id\": \"126\", \"shape_id\": \"p_1277318\", \"route_id\": \"19597\", \"service_hours\": 1.78, \"trip_first_departure_ts\": 59940, \"trip_last_arrival_ts\": 66360, \"departure_hour\": 16, \"time_of_day\": \"Midday\", \"p25\": 1.7, \"p50\": 1.75, \"p75\": 1.75, \"p50_trip\": 0, \"fastest_trip\": 0, \"car_duration_hours\": 1.43, \"competitive_route\": 1, \"bus_multiplier\": 1.24, \"bus_difference\": 21.0, \"num_trips\": 46, \"num_competitive\": 46, \"pct_trips_competitive\": 1.0, \"bus_difference_spread\": 13.2, \"route_group\": \"long\", \"max_trip_hrs\": 1.82, \"max_trip_route_group\": 1.82, \"below_cutoff\": 46, \"pct_below_cutoff\": 1.0, \"name\": \"Peninsula Corridor Joint Powers Board\", \"caltrans_district\": \"04 - Oakland\", \"drmt_organization_name\": null, \"route_name\": \"Local\", \"cutoff2\": 40, \"cutoff\": 0}, {\"calitp_itp_id\": 246, \"trip_key\": 1589635727845463308, \"trip_id\": \"134\", \"shape_id\": \"p_1277318\", \"route_id\": \"19597\", \"service_hours\": 1.78, \"trip_first_departure_ts\": 73920, \"trip_last_arrival_ts\": 80340, \"departure_hour\": 20, \"time_of_day\": \"Owl Service\", \"p25\": 1.7, \"p50\": 1.75, \"p75\": 1.75, \"p50_trip\": 0, \"fastest_trip\": 0, \"car_duration_hours\": 1.43, \"competitive_route\": 1, \"bus_multiplier\": 1.24, \"bus_difference\": 21.0, \"num_trips\": 46, \"num_competitive\": 46, \"pct_trips_competitive\": 1.0, \"bus_difference_spread\": 13.2, \"route_group\": \"long\", \"max_trip_hrs\": 1.82, \"max_trip_route_group\": 1.82, \"below_cutoff\": 46, \"pct_below_cutoff\": 1.0, \"name\": \"Peninsula Corridor Joint Powers Board\", \"caltrans_district\": \"04 - Oakland\", \"drmt_organization_name\": null, \"route_name\": \"Local\", \"cutoff2\": 40, \"cutoff\": 0}, {\"calitp_itp_id\": 246, \"trip_key\": 3406620757885766547, \"trip_id\": \"145\", \"shape_id\": \"p_1277305\", \"route_id\": \"19597\", \"service_hours\": 1.8, \"trip_first_departure_ts\": 83100, \"trip_last_arrival_ts\": 89580, \"departure_hour\": 23, \"time_of_day\": \"Owl Service\", \"p25\": 1.7, \"p50\": 1.75, \"p75\": 1.75, \"p50_trip\": 0, \"fastest_trip\": 0, \"car_duration_hours\": 1.43, \"competitive_route\": 1, \"bus_multiplier\": 1.26, \"bus_difference\": 22.2, \"num_trips\": 46, \"num_competitive\": 46, \"pct_trips_competitive\": 1.0, \"bus_difference_spread\": 13.2, \"route_group\": \"long\", \"max_trip_hrs\": 1.82, \"max_trip_route_group\": 1.82, \"below_cutoff\": 46, \"pct_below_cutoff\": 1.0, \"name\": \"Peninsula Corridor Joint Powers Board\", \"caltrans_district\": \"04 - Oakland\", \"drmt_organization_name\": null, \"route_name\": \"Local\", \"cutoff2\": 40, \"cutoff\": 0}, {\"calitp_itp_id\": 246, \"trip_key\": 9131646734852214576, \"trip_id\": \"137\", \"shape_id\": \"p_1277305\", \"route_id\": \"19597\", \"service_hours\": 1.8, \"trip_first_departure_ts\": 74520, \"trip_last_arrival_ts\": 81000, \"departure_hour\": 20, \"time_of_day\": \"Owl Service\", \"p25\": 1.7, \"p50\": 1.75, \"p75\": 1.75, \"p50_trip\": 0, \"fastest_trip\": 0, \"car_duration_hours\": 1.43, \"competitive_route\": 1, \"bus_multiplier\": 1.26, \"bus_difference\": 22.2, \"num_trips\": 46, \"num_competitive\": 46, \"pct_trips_competitive\": 1.0, \"bus_difference_spread\": 13.2, \"route_group\": \"long\", \"max_trip_hrs\": 1.82, \"max_trip_route_group\": 1.82, \"below_cutoff\": 46, \"pct_below_cutoff\": 1.0, \"name\": \"Peninsula Corridor Joint Powers Board\", \"caltrans_district\": \"04 - Oakland\", \"drmt_organization_name\": null, \"route_name\": \"Local\", \"cutoff2\": 40, \"cutoff\": 0}, {\"calitp_itp_id\": 246, \"trip_key\": -376719494926514595, \"trip_id\": \"138\", \"shape_id\": \"p_1277318\", \"route_id\": \"19597\", \"service_hours\": 1.82, \"trip_first_departure_ts\": 77400, \"trip_last_arrival_ts\": 83940, \"departure_hour\": 21, \"time_of_day\": \"Owl Service\", \"p25\": 1.7, \"p50\": 1.75, \"p75\": 1.75, \"p50_trip\": 0, \"fastest_trip\": 0, \"car_duration_hours\": 1.43, \"competitive_route\": 1, \"bus_multiplier\": 1.27, \"bus_difference\": 23.4, \"num_trips\": 46, \"num_competitive\": 46, \"pct_trips_competitive\": 1.0, \"bus_difference_spread\": 13.2, \"route_group\": \"long\", \"max_trip_hrs\": 1.82, \"max_trip_route_group\": 1.82, \"below_cutoff\": 46, \"pct_below_cutoff\": 1.0, \"name\": \"Peninsula Corridor Joint Powers Board\", \"caltrans_district\": \"04 - Oakland\", \"drmt_organization_name\": null, \"route_name\": \"Local\", \"cutoff2\": 40, \"cutoff\": 0}, {\"calitp_itp_id\": 246, \"trip_key\": -5772933291456908408, \"trip_id\": \"129\", \"shape_id\": \"p_1277305\", \"route_id\": \"19597\", \"service_hours\": 1.82, \"trip_first_departure_ts\": 63900, \"trip_last_arrival_ts\": 70440, \"departure_hour\": 17, \"time_of_day\": \"PM Peak\", \"p25\": 1.7, \"p50\": 1.75, \"p75\": 1.75, \"p50_trip\": 0, \"fastest_trip\": 0, \"car_duration_hours\": 1.43, \"competitive_route\": 1, \"bus_multiplier\": 1.27, \"bus_difference\": 23.4, \"num_trips\": 46, \"num_competitive\": 46, \"pct_trips_competitive\": 1.0, \"bus_difference_spread\": 13.2, \"route_group\": \"long\", \"max_trip_hrs\": 1.82, \"max_trip_route_group\": 1.82, \"below_cutoff\": 46, \"pct_below_cutoff\": 1.0, \"name\": \"Peninsula Corridor Joint Powers Board\", \"caltrans_district\": \"04 - Oakland\", \"drmt_organization_name\": null, \"route_name\": \"Local\", \"cutoff2\": 40, \"cutoff\": 0}, {\"calitp_itp_id\": 246, \"trip_key\": -4945207350721351563, \"trip_id\": \"106\", \"shape_id\": \"p_1277419\", \"route_id\": \"19597\", \"service_hours\": 1.82, \"trip_first_departure_ts\": 23940, \"trip_last_arrival_ts\": 30480, \"departure_hour\": 6, \"time_of_day\": \"Owl Service\", \"p25\": 1.7, \"p50\": 1.75, \"p75\": 1.75, \"p50_trip\": 0, \"fastest_trip\": 0, \"car_duration_hours\": 1.43, \"competitive_route\": 1, \"bus_multiplier\": 1.27, \"bus_difference\": 23.4, \"num_trips\": 46, \"num_competitive\": 46, \"pct_trips_competitive\": 1.0, \"bus_difference_spread\": 13.2, \"route_group\": \"long\", \"max_trip_hrs\": 1.82, \"max_trip_route_group\": 1.82, \"below_cutoff\": 46, \"pct_below_cutoff\": 1.0, \"name\": \"Peninsula Corridor Joint Powers Board\", \"caltrans_district\": \"04 - Oakland\", \"drmt_organization_name\": null, \"route_name\": \"Local\", \"cutoff2\": 40, \"cutoff\": 0}, {\"calitp_itp_id\": 246, \"trip_key\": 5860858331561866714, \"trip_id\": \"309\", \"shape_id\": \"p_1277400\", \"route_id\": \"19599\", \"service_hours\": 1.23, \"trip_first_departure_ts\": 59040, \"trip_last_arrival_ts\": 63480, \"departure_hour\": 16, \"time_of_day\": \"Midday\", \"p25\": 1.27, \"p50\": 1.275, \"p75\": 1.3775, \"p50_trip\": 0, \"fastest_trip\": 1, \"car_duration_hours\": 1.37, \"competitive_route\": 1, \"bus_multiplier\": 0.9, \"bus_difference\": -8.4, \"num_trips\": 14, \"num_competitive\": 14, \"pct_trips_competitive\": 1.0, \"bus_difference_spread\": 56.4, \"route_group\": \"long\", \"max_trip_hrs\": 2.17, \"max_trip_route_group\": 2.17, \"below_cutoff\": 12, \"pct_below_cutoff\": 0.8571428571428571, \"name\": \"Peninsula Corridor Joint Powers Board\", \"caltrans_district\": \"04 - Oakland\", \"drmt_organization_name\": null, \"route_name\": \"Ltd 3\", \"cutoff2\": 40, \"cutoff\": 0}, {\"calitp_itp_id\": 246, \"trip_key\": 5698960109329865607, \"trip_id\": \"311\", \"shape_id\": \"p_1277400\", \"route_id\": \"19599\", \"service_hours\": 1.25, \"trip_first_departure_ts\": 62580, \"trip_last_arrival_ts\": 67080, \"departure_hour\": 17, \"time_of_day\": \"PM Peak\", \"p25\": 1.27, \"p50\": 1.275, \"p75\": 1.3775, \"p50_trip\": 0, \"fastest_trip\": 0, \"car_duration_hours\": 1.37, \"competitive_route\": 1, \"bus_multiplier\": 0.91, \"bus_difference\": -7.2, \"num_trips\": 14, \"num_competitive\": 14, \"pct_trips_competitive\": 1.0, \"bus_difference_spread\": 56.4, \"route_group\": \"long\", \"max_trip_hrs\": 2.17, \"max_trip_route_group\": 2.17, \"below_cutoff\": 12, \"pct_below_cutoff\": 0.8571428571428571, \"name\": \"Peninsula Corridor Joint Powers Board\", \"caltrans_district\": \"04 - Oakland\", \"drmt_organization_name\": null, \"route_name\": \"Ltd 3\", \"cutoff2\": 40, \"cutoff\": 0}, {\"calitp_itp_id\": 246, \"trip_key\": -87555585455160487, \"trip_id\": \"308\", \"shape_id\": \"p_1277355\", \"route_id\": \"19599\", \"service_hours\": 1.27, \"trip_first_departure_ts\": 55980, \"trip_last_arrival_ts\": 60540, \"departure_hour\": 15, \"time_of_day\": \"Midday\", \"p25\": 1.27, \"p50\": 1.275, \"p75\": 1.3775, \"p50_trip\": 1, \"fastest_trip\": 0, \"car_duration_hours\": 1.37, \"competitive_route\": 1, \"bus_multiplier\": 0.93, \"bus_difference\": -6.0, \"num_trips\": 14, \"num_competitive\": 14, \"pct_trips_competitive\": 1.0, \"bus_difference_spread\": 56.4, \"route_group\": \"long\", \"max_trip_hrs\": 2.17, \"max_trip_route_group\": 2.17, \"below_cutoff\": 12, \"pct_below_cutoff\": 0.8571428571428571, \"name\": \"Peninsula Corridor Joint Powers Board\", \"caltrans_district\": \"04 - Oakland\", \"drmt_organization_name\": null, \"route_name\": \"Ltd 3\", \"cutoff2\": 40, \"cutoff\": 0}, {\"calitp_itp_id\": 246, \"trip_key\": -2527031093899116620, \"trip_id\": \"304\", \"shape_id\": \"p_1277355\", \"route_id\": \"19599\", \"service_hours\": 1.27, \"trip_first_departure_ts\": 27120, \"trip_last_arrival_ts\": 31680, \"departure_hour\": 7, \"time_of_day\": \"AM Peak\", \"p25\": 1.27, \"p50\": 1.275, \"p75\": 1.3775, \"p50_trip\": 1, \"fastest_trip\": 0, \"car_duration_hours\": 1.37, \"competitive_route\": 1, \"bus_multiplier\": 0.93, \"bus_difference\": -6.0, \"num_trips\": 14, \"num_competitive\": 14, \"pct_trips_competitive\": 1.0, \"bus_difference_spread\": 56.4, \"route_group\": \"long\", \"max_trip_hrs\": 2.17, \"max_trip_route_group\": 2.17, \"below_cutoff\": 12, \"pct_below_cutoff\": 0.8571428571428571, \"name\": \"Peninsula Corridor Joint Powers Board\", \"caltrans_district\": \"04 - Oakland\", \"drmt_organization_name\": null, \"route_name\": \"Ltd 3\", \"cutoff2\": 40, \"cutoff\": 0}, {\"calitp_itp_id\": 246, \"trip_key\": -4098895141857313310, \"trip_id\": \"302\", \"shape_id\": \"p_1277355\", \"route_id\": \"19599\", \"service_hours\": 1.27, \"trip_first_departure_ts\": 23520, \"trip_last_arrival_ts\": 28080, \"departure_hour\": 6, \"time_of_day\": \"Owl Service\", \"p25\": 1.27, \"p50\": 1.275, \"p75\": 1.3775, \"p50_trip\": 1, \"fastest_trip\": 0, \"car_duration_hours\": 1.37, \"competitive_route\": 1, \"bus_multiplier\": 0.93, \"bus_difference\": -6.0, \"num_trips\": 14, \"num_competitive\": 14, \"pct_trips_competitive\": 1.0, \"bus_difference_spread\": 56.4, \"route_group\": \"long\", \"max_trip_hrs\": 2.17, \"max_trip_route_group\": 2.17, \"below_cutoff\": 12, \"pct_below_cutoff\": 0.8571428571428571, \"name\": \"Peninsula Corridor Joint Powers Board\", \"caltrans_district\": \"04 - Oakland\", \"drmt_organization_name\": null, \"route_name\": \"Ltd 3\", \"cutoff2\": 40, \"cutoff\": 0}, {\"calitp_itp_id\": 246, \"trip_key\": 6255489994417577221, \"trip_id\": \"306\", \"shape_id\": \"p_1277355\", \"route_id\": \"19599\", \"service_hours\": 1.27, \"trip_first_departure_ts\": 30720, \"trip_last_arrival_ts\": 35280, \"departure_hour\": 8, \"time_of_day\": \"AM Peak\", \"p25\": 1.27, \"p50\": 1.275, \"p75\": 1.3775, \"p50_trip\": 1, \"fastest_trip\": 0, \"car_duration_hours\": 1.37, \"competitive_route\": 1, \"bus_multiplier\": 0.93, \"bus_difference\": -6.0, \"num_trips\": 14, \"num_competitive\": 14, \"pct_trips_competitive\": 1.0, \"bus_difference_spread\": 56.4, \"route_group\": \"long\", \"max_trip_hrs\": 2.17, \"max_trip_route_group\": 2.17, \"below_cutoff\": 12, \"pct_below_cutoff\": 0.8571428571428571, \"name\": \"Peninsula Corridor Joint Powers Board\", \"caltrans_district\": \"04 - Oakland\", \"drmt_organization_name\": null, \"route_name\": \"Ltd 3\", \"cutoff2\": 40, \"cutoff\": 0}, {\"calitp_itp_id\": 246, \"trip_key\": -6312909486176031553, \"trip_id\": \"314\", \"shape_id\": \"p_1277355\", \"route_id\": \"19599\", \"service_hours\": 1.27, \"trip_first_departure_ts\": 66720, \"trip_last_arrival_ts\": 71280, \"departure_hour\": 18, \"time_of_day\": \"PM Peak\", \"p25\": 1.27, \"p50\": 1.275, \"p75\": 1.3775, \"p50_trip\": 1, \"fastest_trip\": 0, \"car_duration_hours\": 1.37, \"competitive_route\": 1, \"bus_multiplier\": 0.93, \"bus_difference\": -6.0, \"num_trips\": 14, \"num_competitive\": 14, \"pct_trips_competitive\": 1.0, \"bus_difference_spread\": 56.4, \"route_group\": \"long\", \"max_trip_hrs\": 2.17, \"max_trip_route_group\": 2.17, \"below_cutoff\": 12, \"pct_below_cutoff\": 0.8571428571428571, \"name\": \"Peninsula Corridor Joint Powers Board\", \"caltrans_district\": \"04 - Oakland\", \"drmt_organization_name\": null, \"route_name\": \"Ltd 3\", \"cutoff2\": 40, \"cutoff\": 0}, {\"calitp_itp_id\": 246, \"trip_key\": 5733229077865695139, \"trip_id\": \"307\", \"shape_id\": \"p_1277354\", \"route_id\": \"19599\", \"service_hours\": 1.28, \"trip_first_departure_ts\": 55320, \"trip_last_arrival_ts\": 59940, \"departure_hour\": 15, \"time_of_day\": \"Midday\", \"p25\": 1.27, \"p50\": 1.275, \"p75\": 1.3775, \"p50_trip\": 0, \"fastest_trip\": 0, \"car_duration_hours\": 1.37, \"competitive_route\": 1, \"bus_multiplier\": 0.93, \"bus_difference\": -5.4, \"num_trips\": 14, \"num_competitive\": 14, \"pct_trips_competitive\": 1.0, \"bus_difference_spread\": 56.4, \"route_group\": \"long\", \"max_trip_hrs\": 2.17, \"max_trip_route_group\": 2.17, \"below_cutoff\": 12, \"pct_below_cutoff\": 0.8571428571428571, \"name\": \"Peninsula Corridor Joint Powers Board\", \"caltrans_district\": \"04 - Oakland\", \"drmt_organization_name\": null, \"route_name\": \"Ltd 3\", \"cutoff2\": 40, \"cutoff\": 0}, {\"calitp_itp_id\": 246, \"trip_key\": 2444347805558487628, \"trip_id\": \"305\", \"shape_id\": \"p_1277353\", \"route_id\": \"19599\", \"service_hours\": 1.35, \"trip_first_departure_ts\": 29820, \"trip_last_arrival_ts\": 34680, \"departure_hour\": 8, \"time_of_day\": \"AM Peak\", \"p25\": 1.27, \"p50\": 1.275, \"p75\": 1.3775, \"p50_trip\": 0, \"fastest_trip\": 0, \"car_duration_hours\": 1.37, \"competitive_route\": 1, \"bus_multiplier\": 0.99, \"bus_difference\": -1.2, \"num_trips\": 14, \"num_competitive\": 14, \"pct_trips_competitive\": 1.0, \"bus_difference_spread\": 56.4, \"route_group\": \"long\", \"max_trip_hrs\": 2.17, \"max_trip_route_group\": 2.17, \"below_cutoff\": 12, \"pct_below_cutoff\": 0.8571428571428571, \"name\": \"Peninsula Corridor Joint Powers Board\", \"caltrans_district\": \"04 - Oakland\", \"drmt_organization_name\": null, \"route_name\": \"Ltd 3\", \"cutoff2\": 40, \"cutoff\": 0}, {\"calitp_itp_id\": 246, \"trip_key\": -5024481910736770656, \"trip_id\": \"301\", \"shape_id\": \"p_1277353\", \"route_id\": \"19599\", \"service_hours\": 1.37, \"trip_first_departure_ts\": 22560, \"trip_last_arrival_ts\": 27480, \"departure_hour\": 6, \"time_of_day\": \"Owl Service\", \"p25\": 1.27, \"p50\": 1.275, \"p75\": 1.3775, \"p50_trip\": 0, \"fastest_trip\": 0, \"car_duration_hours\": 1.37, \"competitive_route\": 1, \"bus_multiplier\": 1.0, \"bus_difference\": 0.0, \"num_trips\": 14, \"num_competitive\": 14, \"pct_trips_competitive\": 1.0, \"bus_difference_spread\": 56.4, \"route_group\": \"long\", \"max_trip_hrs\": 2.17, \"max_trip_route_group\": 2.17, \"below_cutoff\": 12, \"pct_below_cutoff\": 0.8571428571428571, \"name\": \"Peninsula Corridor Joint Powers Board\", \"caltrans_district\": \"04 - Oakland\", \"drmt_organization_name\": null, \"route_name\": \"Ltd 3\", \"cutoff2\": 40, \"cutoff\": 0}, {\"calitp_itp_id\": 246, \"trip_key\": -3305771624341526116, \"trip_id\": \"313\", \"shape_id\": \"p_1277353\", \"route_id\": \"19599\", \"service_hours\": 1.38, \"trip_first_departure_ts\": 65760, \"trip_last_arrival_ts\": 70740, \"departure_hour\": 18, \"time_of_day\": \"PM Peak\", \"p25\": 1.27, \"p50\": 1.275, \"p75\": 1.3775, \"p50_trip\": 0, \"fastest_trip\": 0, \"car_duration_hours\": 1.37, \"competitive_route\": 1, \"bus_multiplier\": 1.01, \"bus_difference\": 0.6, \"num_trips\": 14, \"num_competitive\": 14, \"pct_trips_competitive\": 1.0, \"bus_difference_spread\": 56.4, \"route_group\": \"long\", \"max_trip_hrs\": 2.17, \"max_trip_route_group\": 2.17, \"below_cutoff\": 12, \"pct_below_cutoff\": 0.8571428571428571, \"name\": \"Peninsula Corridor Joint Powers Board\", \"caltrans_district\": \"04 - Oakland\", \"drmt_organization_name\": null, \"route_name\": \"Ltd 3\", \"cutoff2\": 40, \"cutoff\": 0}, {\"calitp_itp_id\": 246, \"trip_key\": -3611841509253952390, \"trip_id\": \"312\", \"shape_id\": \"p_1277356\", \"route_id\": \"19599\", \"service_hours\": 1.45, \"trip_first_departure_ts\": 63120, \"trip_last_arrival_ts\": 68340, \"departure_hour\": 17, \"time_of_day\": \"PM Peak\", \"p25\": 1.27, \"p50\": 1.275, \"p75\": 1.3775, \"p50_trip\": 0, \"fastest_trip\": 0, \"car_duration_hours\": 1.37, \"competitive_route\": 1, \"bus_multiplier\": 1.06, \"bus_difference\": 4.8, \"num_trips\": 14, \"num_competitive\": 14, \"pct_trips_competitive\": 1.0, \"bus_difference_spread\": 56.4, \"route_group\": \"long\", \"max_trip_hrs\": 2.17, \"max_trip_route_group\": 2.17, \"below_cutoff\": 12, \"pct_below_cutoff\": 0.8571428571428571, \"name\": \"Peninsula Corridor Joint Powers Board\", \"caltrans_district\": \"04 - Oakland\", \"drmt_organization_name\": null, \"route_name\": \"Ltd 3\", \"cutoff2\": 40, \"cutoff\": 0}, {\"calitp_itp_id\": 246, \"trip_key\": -7757026847840412709, \"trip_id\": \"303\", \"shape_id\": \"p_1277282\", \"route_id\": \"19599\", \"service_hours\": 2.12, \"trip_first_departure_ts\": 23460, \"trip_last_arrival_ts\": 31080, \"departure_hour\": 6, \"time_of_day\": \"Owl Service\", \"p25\": 1.27, \"p50\": 1.275, \"p75\": 1.3775, \"p50_trip\": 0, \"fastest_trip\": 0, \"car_duration_hours\": 1.37, \"competitive_route\": 1, \"bus_multiplier\": 1.55, \"bus_difference\": 45.0, \"num_trips\": 14, \"num_competitive\": 14, \"pct_trips_competitive\": 1.0, \"bus_difference_spread\": 56.4, \"route_group\": \"long\", \"max_trip_hrs\": 2.17, \"max_trip_route_group\": 2.17, \"below_cutoff\": 12, \"pct_below_cutoff\": 0.8571428571428571, \"name\": \"Peninsula Corridor Joint Powers Board\", \"caltrans_district\": \"04 - Oakland\", \"drmt_organization_name\": null, \"route_name\": \"Ltd 3\", \"cutoff2\": 40, \"cutoff\": 0}, {\"calitp_itp_id\": 246, \"trip_key\": -630056127655951183, \"trip_id\": \"310\", \"shape_id\": \"p_1277283\", \"route_id\": \"19599\", \"service_hours\": 2.17, \"trip_first_departure_ts\": 59520, \"trip_last_arrival_ts\": 67320, \"departure_hour\": 16, \"time_of_day\": \"Midday\", \"p25\": 1.27, \"p50\": 1.275, \"p75\": 1.3775, \"p50_trip\": 0, \"fastest_trip\": 0, \"car_duration_hours\": 1.37, \"competitive_route\": 1, \"bus_multiplier\": 1.58, \"bus_difference\": 48.0, \"num_trips\": 14, \"num_competitive\": 14, \"pct_trips_competitive\": 1.0, \"bus_difference_spread\": 56.4, \"route_group\": \"long\", \"max_trip_hrs\": 2.17, \"max_trip_route_group\": 2.17, \"below_cutoff\": 12, \"pct_below_cutoff\": 0.8571428571428571, \"name\": \"Peninsula Corridor Joint Powers Board\", \"caltrans_district\": \"04 - Oakland\", \"drmt_organization_name\": null, \"route_name\": \"Ltd 3\", \"cutoff2\": 40, \"cutoff\": 0}, {\"calitp_itp_id\": 246, \"trip_key\": -5076790750015049661, \"trip_id\": \"415\", \"shape_id\": \"p_1277361\", \"route_id\": \"19600\", \"service_hours\": 1.27, \"trip_first_departure_ts\": 67440, \"trip_last_arrival_ts\": 72000, \"departure_hour\": 18, \"time_of_day\": \"PM Peak\", \"p25\": 1.27, \"p50\": 1.28, \"p75\": 1.735, \"p50_trip\": 0, \"fastest_trip\": 1, \"car_duration_hours\": 1.39, \"competitive_route\": 1, \"bus_multiplier\": 0.91, \"bus_difference\": -7.2, \"num_trips\": 15, \"num_competitive\": 15, \"pct_trips_competitive\": 1.0, \"bus_difference_spread\": 54.0, \"route_group\": \"long\", \"max_trip_hrs\": 2.17, \"max_trip_route_group\": 2.17, \"below_cutoff\": 11, \"pct_below_cutoff\": 0.7333333333333333, \"name\": \"Peninsula Corridor Joint Powers Board\", \"caltrans_district\": \"04 - Oakland\", \"drmt_organization_name\": null, \"route_name\": \"Ltd 4\", \"cutoff2\": 40, \"cutoff\": 0}, {\"calitp_itp_id\": 246, \"trip_key\": 7022352680993588927, \"trip_id\": \"413\", \"shape_id\": \"p_1277361\", \"route_id\": \"19600\", \"service_hours\": 1.27, \"trip_first_departure_ts\": 63840, \"trip_last_arrival_ts\": 68400, \"departure_hour\": 17, \"time_of_day\": \"PM Peak\", \"p25\": 1.27, \"p50\": 1.28, \"p75\": 1.735, \"p50_trip\": 0, \"fastest_trip\": 0, \"car_duration_hours\": 1.39, \"competitive_route\": 1, \"bus_multiplier\": 0.91, \"bus_difference\": -7.2, \"num_trips\": 15, \"num_competitive\": 15, \"pct_trips_competitive\": 1.0, \"bus_difference_spread\": 54.0, \"route_group\": \"long\", \"max_trip_hrs\": 2.17, \"max_trip_route_group\": 2.17, \"below_cutoff\": 11, \"pct_below_cutoff\": 0.7333333333333333, \"name\": \"Peninsula Corridor Joint Powers Board\", \"caltrans_district\": \"04 - Oakland\", \"drmt_organization_name\": null, \"route_name\": \"Ltd 4\", \"cutoff2\": 40, \"cutoff\": 0}, {\"calitp_itp_id\": 246, \"trip_key\": -6531105479571533237, \"trip_id\": \"410\", \"shape_id\": \"p_1277362\", \"route_id\": \"19600\", \"service_hours\": 1.27, \"trip_first_departure_ts\": 58320, \"trip_last_arrival_ts\": 62880, \"departure_hour\": 16, \"time_of_day\": \"Midday\", \"p25\": 1.27, \"p50\": 1.28, \"p75\": 1.735, \"p50_trip\": 0, \"fastest_trip\": 0, \"car_duration_hours\": 1.39, \"competitive_route\": 1, \"bus_multiplier\": 0.91, \"bus_difference\": -7.2, \"num_trips\": 15, \"num_competitive\": 15, \"pct_trips_competitive\": 1.0, \"bus_difference_spread\": 54.0, \"route_group\": \"long\", \"max_trip_hrs\": 2.17, \"max_trip_route_group\": 2.17, \"below_cutoff\": 11, \"pct_below_cutoff\": 0.7333333333333333, \"name\": \"Peninsula Corridor Joint Powers Board\", \"caltrans_district\": \"04 - Oakland\", \"drmt_organization_name\": null, \"route_name\": \"Ltd 4\", \"cutoff2\": 40, \"cutoff\": 0}, {\"calitp_itp_id\": 246, \"trip_key\": 3634436402190926079, \"trip_id\": \"414\", \"shape_id\": \"p_1277362\", \"route_id\": \"19600\", \"service_hours\": 1.27, \"trip_first_departure_ts\": 65520, \"trip_last_arrival_ts\": 70080, \"departure_hour\": 18, \"time_of_day\": \"PM Peak\", \"p25\": 1.27, \"p50\": 1.28, \"p75\": 1.735, \"p50_trip\": 0, \"fastest_trip\": 0, \"car_duration_hours\": 1.39, \"competitive_route\": 1, \"bus_multiplier\": 0.91, \"bus_difference\": -7.2, \"num_trips\": 15, \"num_competitive\": 15, \"pct_trips_competitive\": 1.0, \"bus_difference_spread\": 54.0, \"route_group\": \"long\", \"max_trip_hrs\": 2.17, \"max_trip_route_group\": 2.17, \"below_cutoff\": 11, \"pct_below_cutoff\": 0.7333333333333333, \"name\": \"Peninsula Corridor Joint Powers Board\", \"caltrans_district\": \"04 - Oakland\", \"drmt_organization_name\": null, \"route_name\": \"Ltd 4\", \"cutoff2\": 40, \"cutoff\": 0}, {\"calitp_itp_id\": 246, \"trip_key\": -7690581003385983674, \"trip_id\": \"411\", \"shape_id\": \"p_1277361\", \"route_id\": \"19600\", \"service_hours\": 1.27, \"trip_first_departure_ts\": 60240, \"trip_last_arrival_ts\": 64800, \"departure_hour\": 16, \"time_of_day\": \"Midday\", \"p25\": 1.27, \"p50\": 1.28, \"p75\": 1.735, \"p50_trip\": 0, \"fastest_trip\": 0, \"car_duration_hours\": 1.39, \"competitive_route\": 1, \"bus_multiplier\": 0.91, \"bus_difference\": -7.2, \"num_trips\": 15, \"num_competitive\": 15, \"pct_trips_competitive\": 1.0, \"bus_difference_spread\": 54.0, \"route_group\": \"long\", \"max_trip_hrs\": 2.17, \"max_trip_route_group\": 2.17, \"below_cutoff\": 11, \"pct_below_cutoff\": 0.7333333333333333, \"name\": \"Peninsula Corridor Joint Powers Board\", \"caltrans_district\": \"04 - Oakland\", \"drmt_organization_name\": null, \"route_name\": \"Ltd 4\", \"cutoff2\": 40, \"cutoff\": 0}, {\"calitp_itp_id\": 246, \"trip_key\": -8529677976201376288, \"trip_id\": \"409\", \"shape_id\": \"p_1277361\", \"route_id\": \"19600\", \"service_hours\": 1.27, \"trip_first_departure_ts\": 56640, \"trip_last_arrival_ts\": 61200, \"departure_hour\": 15, \"time_of_day\": \"Midday\", \"p25\": 1.27, \"p50\": 1.28, \"p75\": 1.735, \"p50_trip\": 0, \"fastest_trip\": 0, \"car_duration_hours\": 1.39, \"competitive_route\": 1, \"bus_multiplier\": 0.91, \"bus_difference\": -7.2, \"num_trips\": 15, \"num_competitive\": 15, \"pct_trips_competitive\": 1.0, \"bus_difference_spread\": 54.0, \"route_group\": \"long\", \"max_trip_hrs\": 2.17, \"max_trip_route_group\": 2.17, \"below_cutoff\": 11, \"pct_below_cutoff\": 0.7333333333333333, \"name\": \"Peninsula Corridor Joint Powers Board\", \"caltrans_district\": \"04 - Oakland\", \"drmt_organization_name\": null, \"route_name\": \"Ltd 4\", \"cutoff2\": 40, \"cutoff\": 0}, {\"calitp_itp_id\": 246, \"trip_key\": 3595918388086503483, \"trip_id\": \"407\", \"shape_id\": \"p_1277361\", \"route_id\": \"19600\", \"service_hours\": 1.28, \"trip_first_departure_ts\": 31440, \"trip_last_arrival_ts\": 36060, \"departure_hour\": 8, \"time_of_day\": \"AM Peak\", \"p25\": 1.27, \"p50\": 1.28, \"p75\": 1.735, \"p50_trip\": 1, \"fastest_trip\": 0, \"car_duration_hours\": 1.39, \"competitive_route\": 1, \"bus_multiplier\": 0.92, \"bus_difference\": -6.6, \"num_trips\": 15, \"num_competitive\": 15, \"pct_trips_competitive\": 1.0, \"bus_difference_spread\": 54.0, \"route_group\": \"long\", \"max_trip_hrs\": 2.17, \"max_trip_route_group\": 2.17, \"below_cutoff\": 11, \"pct_below_cutoff\": 0.7333333333333333, \"name\": \"Peninsula Corridor Joint Powers Board\", \"caltrans_district\": \"04 - Oakland\", \"drmt_organization_name\": null, \"route_name\": \"Ltd 4\", \"cutoff2\": 40, \"cutoff\": 0}, {\"calitp_itp_id\": 246, \"trip_key\": 65580658991262857, \"trip_id\": \"406\", \"shape_id\": \"p_1277362\", \"route_id\": \"19600\", \"service_hours\": 1.28, \"trip_first_departure_ts\": 29520, \"trip_last_arrival_ts\": 34140, \"departure_hour\": 8, \"time_of_day\": \"AM Peak\", \"p25\": 1.27, \"p50\": 1.28, \"p75\": 1.735, \"p50_trip\": 1, \"fastest_trip\": 0, \"car_duration_hours\": 1.39, \"competitive_route\": 1, \"bus_multiplier\": 0.92, \"bus_difference\": -6.6, \"num_trips\": 15, \"num_competitive\": 15, \"pct_trips_competitive\": 1.0, \"bus_difference_spread\": 54.0, \"route_group\": \"long\", \"max_trip_hrs\": 2.17, \"max_trip_route_group\": 2.17, \"below_cutoff\": 11, \"pct_below_cutoff\": 0.7333333333333333, \"name\": \"Peninsula Corridor Joint Powers Board\", \"caltrans_district\": \"04 - Oakland\", \"drmt_organization_name\": null, \"route_name\": \"Ltd 4\", \"cutoff2\": 40, \"cutoff\": 0}, {\"calitp_itp_id\": 246, \"trip_key\": -1464446077861699005, \"trip_id\": \"402\", \"shape_id\": \"p_1277362\", \"route_id\": \"19600\", \"service_hours\": 1.28, \"trip_first_departure_ts\": 22320, \"trip_last_arrival_ts\": 26940, \"departure_hour\": 6, \"time_of_day\": \"Owl Service\", \"p25\": 1.27, \"p50\": 1.28, \"p75\": 1.735, \"p50_trip\": 1, \"fastest_trip\": 0, \"car_duration_hours\": 1.39, \"competitive_route\": 1, \"bus_multiplier\": 0.92, \"bus_difference\": -6.6, \"num_trips\": 15, \"num_competitive\": 15, \"pct_trips_competitive\": 1.0, \"bus_difference_spread\": 54.0, \"route_group\": \"long\", \"max_trip_hrs\": 2.17, \"max_trip_route_group\": 2.17, \"below_cutoff\": 11, \"pct_below_cutoff\": 0.7333333333333333, \"name\": \"Peninsula Corridor Joint Powers Board\", \"caltrans_district\": \"04 - Oakland\", \"drmt_organization_name\": null, \"route_name\": \"Ltd 4\", \"cutoff2\": 40, \"cutoff\": 0}, {\"calitp_itp_id\": 246, \"trip_key\": -3337012513898392166, \"trip_id\": \"404\", \"shape_id\": \"p_1277362\", \"route_id\": \"19600\", \"service_hours\": 1.28, \"trip_first_departure_ts\": 25920, \"trip_last_arrival_ts\": 30540, \"departure_hour\": 7, \"time_of_day\": \"AM Peak\", \"p25\": 1.27, \"p50\": 1.28, \"p75\": 1.735, \"p50_trip\": 1, \"fastest_trip\": 0, \"car_duration_hours\": 1.39, \"competitive_route\": 1, \"bus_multiplier\": 0.92, \"bus_difference\": -6.6, \"num_trips\": 15, \"num_competitive\": 15, \"pct_trips_competitive\": 1.0, \"bus_difference_spread\": 54.0, \"route_group\": \"long\", \"max_trip_hrs\": 2.17, \"max_trip_route_group\": 2.17, \"below_cutoff\": 11, \"pct_below_cutoff\": 0.7333333333333333, \"name\": \"Peninsula Corridor Joint Powers Board\", \"caltrans_district\": \"04 - Oakland\", \"drmt_organization_name\": null, \"route_name\": \"Ltd 4\", \"cutoff2\": 40, \"cutoff\": 0}, {\"calitp_itp_id\": 246, \"trip_key\": 5316890955226728449, \"trip_id\": \"401\", \"shape_id\": \"p_1277360\", \"route_id\": \"19600\", \"service_hours\": 1.37, \"trip_first_departure_ts\": 20280, \"trip_last_arrival_ts\": 25200, \"departure_hour\": 5, \"time_of_day\": \"Owl Service\", \"p25\": 1.27, \"p50\": 1.28, \"p75\": 1.735, \"p50_trip\": 0, \"fastest_trip\": 0, \"car_duration_hours\": 1.39, \"competitive_route\": 1, \"bus_multiplier\": 0.99, \"bus_difference\": -1.2, \"num_trips\": 15, \"num_competitive\": 15, \"pct_trips_competitive\": 1.0, \"bus_difference_spread\": 54.0, \"route_group\": \"long\", \"max_trip_hrs\": 2.17, \"max_trip_route_group\": 2.17, \"below_cutoff\": 11, \"pct_below_cutoff\": 0.7333333333333333, \"name\": \"Peninsula Corridor Joint Powers Board\", \"caltrans_district\": \"04 - Oakland\", \"drmt_organization_name\": null, \"route_name\": \"Ltd 4\", \"cutoff2\": 40, \"cutoff\": 0}, {\"calitp_itp_id\": 246, \"trip_key\": 4874453573220707474, \"trip_id\": \"403\", \"shape_id\": \"p_1277284\", \"route_id\": \"19600\", \"service_hours\": 2.1, \"trip_first_departure_ts\": 21240, \"trip_last_arrival_ts\": 28800, \"departure_hour\": 5, \"time_of_day\": \"Owl Service\", \"p25\": 1.27, \"p50\": 1.28, \"p75\": 1.735, \"p50_trip\": 0, \"fastest_trip\": 0, \"car_duration_hours\": 1.39, \"competitive_route\": 1, \"bus_multiplier\": 1.51, \"bus_difference\": 42.6, \"num_trips\": 15, \"num_competitive\": 15, \"pct_trips_competitive\": 1.0, \"bus_difference_spread\": 54.0, \"route_group\": \"long\", \"max_trip_hrs\": 2.17, \"max_trip_route_group\": 2.17, \"below_cutoff\": 11, \"pct_below_cutoff\": 0.7333333333333333, \"name\": \"Peninsula Corridor Joint Powers Board\", \"caltrans_district\": \"04 - Oakland\", \"drmt_organization_name\": null, \"route_name\": \"Ltd 4\", \"cutoff2\": 40, \"cutoff\": 0}, {\"calitp_itp_id\": 246, \"trip_key\": 5885223767015119090, \"trip_id\": \"412\", \"shape_id\": \"p_1277405\", \"route_id\": \"19600\", \"service_hours\": 2.12, \"trip_first_departure_ts\": 61920, \"trip_last_arrival_ts\": 69540, \"departure_hour\": 17, \"time_of_day\": \"PM Peak\", \"p25\": 1.27, \"p50\": 1.28, \"p75\": 1.735, \"p50_trip\": 0, \"fastest_trip\": 0, \"car_duration_hours\": 1.39, \"competitive_route\": 1, \"bus_multiplier\": 1.53, \"bus_difference\": 43.8, \"num_trips\": 15, \"num_competitive\": 15, \"pct_trips_competitive\": 1.0, \"bus_difference_spread\": 54.0, \"route_group\": \"long\", \"max_trip_hrs\": 2.17, \"max_trip_route_group\": 2.17, \"below_cutoff\": 11, \"pct_below_cutoff\": 0.7333333333333333, \"name\": \"Peninsula Corridor Joint Powers Board\", \"caltrans_district\": \"04 - Oakland\", \"drmt_organization_name\": null, \"route_name\": \"Ltd 4\", \"cutoff2\": 40, \"cutoff\": 0}, {\"calitp_itp_id\": 246, \"trip_key\": 2899944635608924768, \"trip_id\": \"405\", \"shape_id\": \"p_1277432\", \"route_id\": \"19600\", \"service_hours\": 2.13, \"trip_first_departure_ts\": 24720, \"trip_last_arrival_ts\": 32400, \"departure_hour\": 6, \"time_of_day\": \"Owl Service\", \"p25\": 1.27, \"p50\": 1.28, \"p75\": 1.735, \"p50_trip\": 0, \"fastest_trip\": 0, \"car_duration_hours\": 1.39, \"competitive_route\": 1, \"bus_multiplier\": 1.53, \"bus_difference\": 44.4, \"num_trips\": 15, \"num_competitive\": 15, \"pct_trips_competitive\": 1.0, \"bus_difference_spread\": 54.0, \"route_group\": \"long\", \"max_trip_hrs\": 2.17, \"max_trip_route_group\": 2.17, \"below_cutoff\": 11, \"pct_below_cutoff\": 0.7333333333333333, \"name\": \"Peninsula Corridor Joint Powers Board\", \"caltrans_district\": \"04 - Oakland\", \"drmt_organization_name\": null, \"route_name\": \"Ltd 4\", \"cutoff2\": 40, \"cutoff\": 0}, {\"calitp_itp_id\": 246, \"trip_key\": -5632011615719166949, \"trip_id\": \"408\", \"shape_id\": \"p_1277285\", \"route_id\": \"19600\", \"service_hours\": 2.17, \"trip_first_departure_ts\": 54660, \"trip_last_arrival_ts\": 62460, \"departure_hour\": 15, \"time_of_day\": \"Midday\", \"p25\": 1.27, \"p50\": 1.28, \"p75\": 1.735, \"p50_trip\": 0, \"fastest_trip\": 0, \"car_duration_hours\": 1.39, \"competitive_route\": 1, \"bus_multiplier\": 1.56, \"bus_difference\": 46.8, \"num_trips\": 15, \"num_competitive\": 15, \"pct_trips_competitive\": 1.0, \"bus_difference_spread\": 54.0, \"route_group\": \"long\", \"max_trip_hrs\": 2.17, \"max_trip_route_group\": 2.17, \"below_cutoff\": 11, \"pct_below_cutoff\": 0.7333333333333333, \"name\": \"Peninsula Corridor Joint Powers Board\", \"caltrans_district\": \"04 - Oakland\", \"drmt_organization_name\": null, \"route_name\": \"Ltd 4\", \"cutoff2\": 40, \"cutoff\": 0}]}}, {\"mode\": \"vega-lite\"});\n",
       "</script>"
      ],
      "text/plain": [
       "alt.FacetChart(...)"
      ]
     },
     "metadata": {},
     "output_type": "display_data"
    },
    {
     "data": {
      "text/html": [
       "<h4>Route Stats</h4>"
      ],
      "text/plain": [
       "<IPython.core.display.HTML object>"
      ]
     },
     "metadata": {},
     "output_type": "display_data"
    },
    {
     "data": {
      "text/html": [
       "<style type=\"text/css\">\n",
       "</style>\n",
       "<table id=\"T_4b5d3\">\n",
       "  <thead>\n",
       "    <tr>\n",
       "      <th id=\"T_4b5d3_level0_col0\" class=\"col_heading level0 col0\" >Route ID</th>\n",
       "      <th id=\"T_4b5d3_level0_col1\" class=\"col_heading level0 col1\" >Route Name</th>\n",
       "      <th id=\"T_4b5d3_level0_col2\" class=\"col_heading level0 col2\" ># trips</th>\n",
       "      <th id=\"T_4b5d3_level0_col3\" class=\"col_heading level0 col3\" >Daily Avg Frequency (trips per hr)</th>\n",
       "      <th id=\"T_4b5d3_level0_col4\" class=\"col_heading level0 col4\" >25th, 50th, 75th ptile (hrs)</th>\n",
       "      <th id=\"T_4b5d3_level0_col5\" class=\"col_heading level0 col5\" >PM Peak Avg Frequency (trips per hr)</th>\n",
       "    </tr>\n",
       "  </thead>\n",
       "  <tbody>\n",
       "    <tr>\n",
       "      <td id=\"T_4b5d3_row0_col0\" class=\"data row0 col0\" >19597</td>\n",
       "      <td id=\"T_4b5d3_row0_col1\" class=\"data row0 col1\" >Local</td>\n",
       "      <td id=\"T_4b5d3_row0_col2\" class=\"data row0 col2\" >46</td>\n",
       "      <td id=\"T_4b5d3_row0_col3\" class=\"data row0 col3\" >1.92</td>\n",
       "      <td id=\"T_4b5d3_row0_col4\" class=\"data row0 col4\" >1.7, 1.75, 1.75</td>\n",
       "      <td id=\"T_4b5d3_row0_col5\" class=\"data row0 col5\" >2.0</td>\n",
       "    </tr>\n",
       "    <tr>\n",
       "      <td id=\"T_4b5d3_row1_col0\" class=\"data row1 col0\" >19599</td>\n",
       "      <td id=\"T_4b5d3_row1_col1\" class=\"data row1 col1\" >Ltd 3</td>\n",
       "      <td id=\"T_4b5d3_row1_col2\" class=\"data row1 col2\" >14</td>\n",
       "      <td id=\"T_4b5d3_row1_col3\" class=\"data row1 col3\" >0.58</td>\n",
       "      <td id=\"T_4b5d3_row1_col4\" class=\"data row1 col4\" >1.27, 1.27, 1.38</td>\n",
       "      <td id=\"T_4b5d3_row1_col5\" class=\"data row1 col5\" >1.33</td>\n",
       "    </tr>\n",
       "    <tr>\n",
       "      <td id=\"T_4b5d3_row2_col0\" class=\"data row2 col0\" >19600</td>\n",
       "      <td id=\"T_4b5d3_row2_col1\" class=\"data row2 col1\" >Ltd 4</td>\n",
       "      <td id=\"T_4b5d3_row2_col2\" class=\"data row2 col2\" >15</td>\n",
       "      <td id=\"T_4b5d3_row2_col3\" class=\"data row2 col3\" >0.62</td>\n",
       "      <td id=\"T_4b5d3_row2_col4\" class=\"data row2 col4\" >1.27, 1.28, 1.74</td>\n",
       "      <td id=\"T_4b5d3_row2_col5\" class=\"data row2 col5\" >1.33</td>\n",
       "    </tr>\n",
       "  </tbody>\n",
       "</table>\n"
      ],
      "text/plain": [
       "<IPython.core.display.HTML object>"
      ]
     },
     "metadata": {},
     "output_type": "display_data"
    }
   ],
   "source": [
    "route_group = \"long\"\n",
    "try:\n",
    "    display_charts_for_route_group(df, route_group)\n",
    "except:\n",
    "    print(\"No routes meet this criteria.\")"
   ]
  },
  {
   "cell_type": "markdown",
   "id": "ace75b5f-0442-4fbe-aebd-6c3a13ae13a7",
   "metadata": {
    "papermill": {
     "duration": 0.021606,
     "end_time": "2022-05-11T21:58:59.433655",
     "exception": false,
     "start_time": "2022-05-11T21:58:59.412049",
     "status": "completed"
    },
    "tags": []
   },
   "source": [
    "### GTFS Real-Time Speedmaps"
   ]
  },
  {
   "cell_type": "code",
   "execution_count": 17,
   "id": "a0a114a1-e975-4027-9daf-50029f5ef59f",
   "metadata": {
    "execution": {
     "iopub.execute_input": "2022-05-11T21:58:59.479774Z",
     "iopub.status.busy": "2022-05-11T21:58:59.479501Z",
     "iopub.status.idle": "2022-05-11T21:58:59.502470Z",
     "shell.execute_reply": "2022-05-11T21:58:59.501553Z"
    },
    "jupyter": {
     "source_hidden": true
    },
    "papermill": {
     "duration": 0.049756,
     "end_time": "2022-05-11T21:58:59.505062",
     "exception": false,
     "start_time": "2022-05-11T21:58:59.455306",
     "status": "completed"
    },
    "tags": [
     "remove_input"
    ]
   },
   "outputs": [
    {
     "data": {
      "text/html": [
       "No GTFS RT data available."
      ],
      "text/plain": [
       "<IPython.core.display.HTML object>"
      ]
     },
     "metadata": {},
     "output_type": "display_data"
    }
   ],
   "source": [
    "RT_SITE_YAML = \"../portfolio/sites/rt.yml\"\n",
    "\n",
    "# Grab list of ITP IDs with GTFS RT speedmaps\n",
    "rt_itp_id = deploy_portfolio_yaml.check_if_rt_data_available(RT_SITE_YAML)\n",
    "\n",
    "# Construct the URL \n",
    "RT_URL = (\"https://analysis.calitp.org/rt/\"\n",
    "          f\"district_{district_number}-{district_name}/\"\n",
    "          f\"speedmaps__itp_id_{itp_id}.html\"\n",
    "         ) \n",
    "\n",
    "# If this ITP ID is found in RT analysis, give URL to that operator in analysis.calitp.org\n",
    "if itp_id in rt_itp_id:\n",
    "    display(HTML(f'''<a href={RT_URL}>GTFS RT speedmaps here.</a>'''))\n",
    "\n",
    "else:\n",
    "    display(HTML(\"No GTFS RT data available.\"))"
   ]
  },
  {
   "cell_type": "code",
   "execution_count": null,
   "id": "5b680565-2230-4f2e-817c-718fad48d64c",
   "metadata": {
    "jupyter": {
     "source_hidden": true
    },
    "papermill": {
     "duration": 0.024241,
     "end_time": "2022-05-11T21:58:59.554113",
     "exception": false,
     "start_time": "2022-05-11T21:58:59.529872",
     "status": "completed"
    },
    "tags": [
     "remove_input"
    ]
   },
   "outputs": [],
   "source": []
  }
 ],
 "metadata": {
  "kernelspec": {
   "display_name": "Python 3 (ipykernel)",
   "language": "python",
   "name": "python3"
  },
  "language_info": {
   "codemirror_mode": {
    "name": "ipython",
    "version": 3
   },
   "file_extension": ".py",
   "mimetype": "text/x-python",
   "name": "python",
   "nbconvert_exporter": "python",
   "pygments_lexer": "ipython3",
   "version": "3.9.12"
  },
  "papermill": {
   "default_parameters": {},
   "duration": 23.547023,
   "end_time": "2022-05-11T21:59:00.703468",
   "environment_variables": {},
   "exception": null,
   "input_path": "bus_service_increase/competitive-parallel-routes.ipynb",
   "output_path": "portfolio/parallel_corridors/district_04-oakland/10__competitive-parallel-routes__district_04-oakland__itp_id_246.ipynb",
   "parameters": {
    "district": "04 - Oakland",
    "itp_id": 246
   },
   "start_time": "2022-05-11T21:58:37.156445",
   "version": "2.3.4"
  }
 },
 "nbformat": 4,
 "nbformat_minor": 5
}