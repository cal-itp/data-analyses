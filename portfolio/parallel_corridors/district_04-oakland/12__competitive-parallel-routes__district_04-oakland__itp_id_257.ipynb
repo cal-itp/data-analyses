{
 "cells": [
  {
   "cell_type": "code",
   "execution_count": 1,
   "id": "95d00857-6a20-4529-a519-2cc7182928a9",
   "metadata": {
    "execution": {
     "iopub.execute_input": "2022-05-12T19:13:38.905720Z",
     "iopub.status.busy": "2022-05-12T19:13:38.905022Z",
     "iopub.status.idle": "2022-05-12T19:13:47.297512Z",
     "shell.execute_reply": "2022-05-12T19:13:47.296577Z"
    },
    "jupyter": {
     "source_hidden": true
    },
    "papermill": {
     "duration": 8.409645,
     "end_time": "2022-05-12T19:13:47.299986",
     "exception": false,
     "start_time": "2022-05-12T19:13:38.890341",
     "status": "completed"
    },
    "tags": [
     "remove_input"
    ]
   },
   "outputs": [],
   "source": [
    "%%capture\n",
    "import warnings\n",
    "warnings.filterwarnings('ignore')\n",
    "\n",
    "import altair as alt\n",
    "import calitp.magics\n",
    "import geopandas as gpd\n",
    "import intake\n",
    "import pandas as pd\n",
    "\n",
    "from IPython.display import display, Markdown, HTML\n",
    "\n",
    "import parallel_corridors_utils\n",
    "import deploy_portfolio_yaml\n",
    "from shared_utils import styleguide, geography_utils\n",
    "from make_stripplot_data import diff_cutoffs\n",
    "\n",
    "catalog = intake.open_catalog(\"./*.yml\")\n",
    "alt.renderers.enable(\"html\")"
   ]
  },
  {
   "cell_type": "code",
   "execution_count": 2,
   "id": "8af2a0c1-f3da-408d-9bea-11d9fbf8695d",
   "metadata": {
    "execution": {
     "iopub.execute_input": "2022-05-12T19:13:47.328687Z",
     "iopub.status.busy": "2022-05-12T19:13:47.328405Z",
     "iopub.status.idle": "2022-05-12T19:13:47.332582Z",
     "shell.execute_reply": "2022-05-12T19:13:47.331731Z"
    },
    "jupyter": {
     "source_hidden": true
    },
    "papermill": {
     "duration": 0.02153,
     "end_time": "2022-05-12T19:13:47.334350",
     "exception": false,
     "start_time": "2022-05-12T19:13:47.312820",
     "status": "completed"
    },
    "tags": [
     "parameters",
     "remove_input"
    ]
   },
   "outputs": [],
   "source": [
    "# parameters cell\n",
    "itp_id = 182"
   ]
  },
  {
   "cell_type": "code",
   "execution_count": 3,
   "id": "71b82c37",
   "metadata": {
    "execution": {
     "iopub.execute_input": "2022-05-12T19:13:47.365277Z",
     "iopub.status.busy": "2022-05-12T19:13:47.364970Z",
     "iopub.status.idle": "2022-05-12T19:13:47.369058Z",
     "shell.execute_reply": "2022-05-12T19:13:47.368323Z"
    },
    "jupyter": {
     "source_hidden": true
    },
    "papermill": {
     "duration": 0.024896,
     "end_time": "2022-05-12T19:13:47.370898",
     "exception": false,
     "start_time": "2022-05-12T19:13:47.346002",
     "status": "completed"
    },
    "tags": [
     "injected-parameters",
     "remove_input"
    ]
   },
   "outputs": [],
   "source": [
    "# Parameters\n",
    "district = \"04 - Oakland\"\n",
    "itp_id = 257\n"
   ]
  },
  {
   "cell_type": "code",
   "execution_count": 4,
   "id": "9582aaf4-79ff-412a-b248-8d8d693ebd4f",
   "metadata": {
    "execution": {
     "iopub.execute_input": "2022-05-12T19:13:47.399483Z",
     "iopub.status.busy": "2022-05-12T19:13:47.398612Z",
     "iopub.status.idle": "2022-05-12T19:13:48.633967Z",
     "shell.execute_reply": "2022-05-12T19:13:48.633165Z"
    },
    "jupyter": {
     "source_hidden": true
    },
    "papermill": {
     "duration": 1.253261,
     "end_time": "2022-05-12T19:13:48.636027",
     "exception": false,
     "start_time": "2022-05-12T19:13:47.382766",
     "status": "completed"
    },
    "tags": [
     "remove_input"
    ]
   },
   "outputs": [],
   "source": [
    "df = catalog.competitive_route_variability.read()\n",
    "\n",
    "df = (df[(df.calitp_itp_id == itp_id) & \n",
    "         (df.route_group.notna())]\n",
    "      .rename(columns = {\"route_name_used\": \"route_name\"})\n",
    "      .reset_index(drop=True)\n",
    "     )\n",
    "\n",
    "if itp_id == 182:\n",
    "    df = df.assign(\n",
    "        route_id = df.route_id.str.replace('-13153', '').astype(int)\n",
    "    )"
   ]
  },
  {
   "cell_type": "code",
   "execution_count": 5,
   "id": "33ac4b06-f647-4dce-a625-8f2c1b37cc60",
   "metadata": {
    "execution": {
     "iopub.execute_input": "2022-05-12T19:13:48.663968Z",
     "iopub.status.busy": "2022-05-12T19:13:48.663693Z",
     "iopub.status.idle": "2022-05-12T19:13:48.670103Z",
     "shell.execute_reply": "2022-05-12T19:13:48.669233Z"
    },
    "jupyter": {
     "source_hidden": true
    },
    "papermill": {
     "duration": 0.024173,
     "end_time": "2022-05-12T19:13:48.674088",
     "exception": false,
     "start_time": "2022-05-12T19:13:48.649915",
     "status": "completed"
    },
    "tags": [
     "remove_input"
    ]
   },
   "outputs": [],
   "source": [
    "%%capture_parameters\n",
    "operator_name = df.name.iloc[0]\n",
    "district_number = f\"{df.caltrans_district.iloc[0].split('-')[0].strip()}\"\n",
    "district_name = f\"{df.caltrans_district.iloc[0].split('-')[1].strip().lower().replace(' ', '-')}\"\n",
    "\n",
    "itp_id, operator_name, district_number, district_name"
   ]
  },
  {
   "cell_type": "markdown",
   "id": "65bc6f5c-8348-42ee-b2dd-52057c406852",
   "metadata": {
    "papermill": {
     "duration": 0.013249,
     "end_time": "2022-05-12T19:13:48.701587",
     "exception": false,
     "start_time": "2022-05-12T19:13:48.688338",
     "status": "completed"
    },
    "tags": []
   },
   "source": [
    "# Presidio Trust (ITP ID: 257)"
   ]
  },
  {
   "cell_type": "code",
   "execution_count": 6,
   "id": "a689c1ab-2c6c-4831-8d64-897f5986f571",
   "metadata": {
    "execution": {
     "iopub.execute_input": "2022-05-12T19:13:48.728738Z",
     "iopub.status.busy": "2022-05-12T19:13:48.728454Z",
     "iopub.status.idle": "2022-05-12T19:13:48.734900Z",
     "shell.execute_reply": "2022-05-12T19:13:48.734380Z"
    },
    "jupyter": {
     "source_hidden": true
    },
    "papermill": {
     "duration": 0.022108,
     "end_time": "2022-05-12T19:13:48.736527",
     "exception": false,
     "start_time": "2022-05-12T19:13:48.714419",
     "status": "completed"
    },
    "tags": [
     "remove_input"
    ]
   },
   "outputs": [
    {
     "data": {
      "text/html": [
       "<h1>Competitive & Parallel Routes</h1>"
      ],
      "text/plain": [
       "<IPython.core.display.HTML object>"
      ]
     },
     "metadata": {},
     "output_type": "display_data"
    }
   ],
   "source": [
    "display(HTML(\"<h1>Competitive & Parallel Routes</h1>\")) "
   ]
  },
  {
   "cell_type": "code",
   "execution_count": 7,
   "id": "2cb4d8d5-4760-40e4-85b1-cb833d8bb648",
   "metadata": {
    "execution": {
     "iopub.execute_input": "2022-05-12T19:13:48.765351Z",
     "iopub.status.busy": "2022-05-12T19:13:48.764449Z",
     "iopub.status.idle": "2022-05-12T19:13:59.067390Z",
     "shell.execute_reply": "2022-05-12T19:13:59.066448Z"
    },
    "jupyter": {
     "source_hidden": true
    },
    "papermill": {
     "duration": 10.319244,
     "end_time": "2022-05-12T19:13:59.069571",
     "exception": false,
     "start_time": "2022-05-12T19:13:48.750327",
     "status": "completed"
    },
    "tags": [
     "remove_input"
    ]
   },
   "outputs": [],
   "source": [
    "# Grab parameters for narrative text - clean up formatting here \n",
    "district = df.caltrans_district.iloc[0]\n",
    "formatted_date = pd.to_datetime(parallel_corridors_utils.SELECTED_DATE).strftime('%m-%d-%Y')\n",
    "\n",
    "PCT_COMPETITIVE_THRESHOLD = 0.75\n",
    "PCT_TRIPS_BELOW_CUTOFF = 1.0\n",
    "\n",
    "stats = parallel_corridors_utils.operator_parallel_competitive_stats(\n",
    "    itp_id, PCT_COMPETITIVE_THRESHOLD, PCT_TRIPS_BELOW_CUTOFF)\n",
    "\n",
    "pct_parallel = round(stats['parallel_routes'] / stats['num_routes'] * 100, 1 )\n",
    "pct_competitive =  round(stats['competitive_routes'] / stats['num_routes'] * 100, 1 )\n",
    "pct_viable =  round(stats['viable_competitive_routes'] / stats['num_routes'] * 100, 1 )"
   ]
  },
  {
   "cell_type": "code",
   "execution_count": 8,
   "id": "8bf30c8f-6aa5-47bb-82ae-a906732e81fd",
   "metadata": {
    "execution": {
     "iopub.execute_input": "2022-05-12T19:13:59.099070Z",
     "iopub.status.busy": "2022-05-12T19:13:59.098802Z",
     "iopub.status.idle": "2022-05-12T19:13:59.130941Z",
     "shell.execute_reply": "2022-05-12T19:13:59.129924Z"
    },
    "jupyter": {
     "source_hidden": true
    },
    "papermill": {
     "duration": 0.050772,
     "end_time": "2022-05-12T19:13:59.133474",
     "exception": false,
     "start_time": "2022-05-12T19:13:59.082702",
     "status": "completed"
    },
    "tags": [
     "remove_input"
    ]
   },
   "outputs": [],
   "source": [
    "# Display a table of route-level stats for each route_group\n",
    "# Displaying route_name makes chart too crowded\n",
    "\n",
    "# Get route stats (for entire df)\n",
    "route_stats = parallel_corridors_utils.competitive_route_level_stats(df)\n",
    "    \n",
    "def style_route_stats(df, top15_routes):\n",
    "    df = df[df.route_id.isin(top15_routes)]\n",
    "    \n",
    "    # Rename columns for display\n",
    "    rename_cols = {\n",
    "        \"route_id\": \"Route ID\",\n",
    "        \"route_name\": \"Route Name\",\n",
    "        \"route_group\": \"Route Group\",\n",
    "        \"num_trips\": \"# trips\",\n",
    "        \"daily_avg_freq\": \"Daily Avg Freq (trips per hr)\",\n",
    "        \"pm_peak_freq\": \"PM Peak Avg Freq (trips per hr)\",\n",
    "        \"percentiles\": \"25th, 50th, 75th ptile (hrs)\",\n",
    "    }\n",
    "    \n",
    "    # Style it\n",
    "    drop_cols = [\n",
    "        \"calitp_itp_id\", \"below_cutoff\", \"route_group\", \n",
    "        \"pct_trips_competitive\", \"pct_below_cutoff\",\n",
    "        \"p25\", \"p50\", \"p75\",\n",
    "    ]\n",
    "    \n",
    "    # Change alignment for some columns\n",
    "    # https://stackoverflow.com/questions/59453091/left-align-the-first-column-and-center-align-the-other-columns-in-a-pandas-table\n",
    "    df_style = (df.sort_values(\n",
    "        [\"pct_trips_competitive\", \"below_cutoff\", \n",
    "        \"pct_below_cutoff\", \"route_id\"], \n",
    "        ascending=[False, False, False, True])\n",
    "           .drop(columns = drop_cols)\n",
    "           .rename(columns = rename_cols)\n",
    "           .style.format(\n",
    "               subset=['Daily Avg Freq (trips per hr)', \n",
    "                       'PM Peak Avg Freq (trips per hr)'], \n",
    "               **{'formatter': '{:,.3}'})\n",
    "                .set_properties(subset=['Route ID', 'Route Name'], \n",
    "                                **{'text-align': 'left'})\n",
    "                .set_properties(subset=['# trips', 'Daily Avg Freq (trips per hr)', \n",
    "                                       'PM Peak Avg Freq (trips per hr)'], \n",
    "                               **{'text-align': 'center'})\n",
    "                .set_table_styles([dict(selector='th', \n",
    "                                        props=[('text-align', 'center')])\n",
    "                                        ])\n",
    "           .hide(axis=\"index\")\n",
    "           .to_html()\n",
    "          )\n",
    "    \n",
    "    display(HTML(\"<h4>Route Stats</h4>\"))\n",
    "    display(HTML(df_style))"
   ]
  },
  {
   "cell_type": "markdown",
   "id": "ab667928-5274-4490-82d9-4c39293209a4",
   "metadata": {
    "papermill": {
     "duration": 0.013811,
     "end_time": "2022-05-12T19:13:59.160272",
     "exception": false,
     "start_time": "2022-05-12T19:13:59.146461",
     "status": "completed"
    },
    "tags": []
   },
   "source": [
    "## Quick Stats"
   ]
  },
  {
   "cell_type": "code",
   "execution_count": 9,
   "id": "0416509d-dc62-4165-b62e-64f8b26e8b8e",
   "metadata": {
    "execution": {
     "iopub.execute_input": "2022-05-12T19:13:59.195341Z",
     "iopub.status.busy": "2022-05-12T19:13:59.195011Z",
     "iopub.status.idle": "2022-05-12T19:13:59.201462Z",
     "shell.execute_reply": "2022-05-12T19:13:59.200648Z"
    },
    "jupyter": {
     "source_hidden": true
    },
    "papermill": {
     "duration": 0.031426,
     "end_time": "2022-05-12T19:13:59.204815",
     "exception": false,
     "start_time": "2022-05-12T19:13:59.173389",
     "status": "completed"
    },
    "tags": [
     "remove_input"
    ]
   },
   "outputs": [
    {
     "data": {
      "text/markdown": [
       "**Bus routes in service: 2**<br>**Parallel routes** to State Highway Network (SHN): **2 routes (100.0%)**<br>**Competitive routes** against car travel (within 2x car travel time): **2 routes (100.0%)**<br>**Viable competitive routes** against car travel (within 2x car travel time and within 20, 30, or 40 min cut-off): **1 routes (50.0%)**"
      ],
      "text/plain": [
       "<IPython.core.display.Markdown object>"
      ]
     },
     "metadata": {},
     "output_type": "display_data"
    }
   ],
   "source": [
    "display(\n",
    "    Markdown(\n",
    "        f\"**Bus routes in service: {stats['num_routes']}**\"\n",
    "        \"<br>**Parallel routes** to State Highway Network (SHN): \"\n",
    "        f\"**{stats['parallel_routes']} routes ({pct_parallel}%)**\"\n",
    "        \"<br>**Competitive routes** against car travel (within 2x car travel time): \"\n",
    "        f\"**{stats['competitive_routes']} routes ({pct_competitive}%)**\"\n",
    "        \"<br>**Viable competitive routes** against car travel \"\n",
    "        \"(within 2x car travel time and within 20, 30, or 40 min cut-off): \"\n",
    "        f\"**{stats['viable_competitive_routes']} routes ({pct_viable}%)**\"\n",
    "    )\n",
    ")"
   ]
  },
  {
   "cell_type": "code",
   "execution_count": 10,
   "id": "f9d6ab58-f0ee-460c-b6de-657490e1f386",
   "metadata": {
    "execution": {
     "iopub.execute_input": "2022-05-12T19:13:59.234936Z",
     "iopub.status.busy": "2022-05-12T19:13:59.234045Z",
     "iopub.status.idle": "2022-05-12T19:13:59.241349Z",
     "shell.execute_reply": "2022-05-12T19:13:59.240332Z"
    },
    "jupyter": {
     "source_hidden": true
    },
    "papermill": {
     "duration": 0.024472,
     "end_time": "2022-05-12T19:13:59.243750",
     "exception": false,
     "start_time": "2022-05-12T19:13:59.219278",
     "status": "completed"
    },
    "tags": [
     "remove_input"
    ]
   },
   "outputs": [],
   "source": [
    "def set_yaxis_range(df, y_col):\n",
    "    Y_MIN = df[y_col].min()\n",
    "    Y_MAX = df[y_col].max()\n",
    "    \n",
    "    return Y_MIN, Y_MAX\n",
    "\n",
    "# Rather than set it according to the operator, which can vary,\n",
    "# just use set thresholds for each group\n",
    "def top15_routes(df, route_group):\n",
    "    # grab top 15 routes where majority of trips are below that cut-off \n",
    "    # but show 15 max, otherwise, show less, since these won't be as interesting to operators\n",
    "    df2 = (df[(df.route_group==route_group) &\n",
    "              (df.pct_below_cutoff >= PCT_TRIPS_BELOW_CUTOFF)]\n",
    "           .sort_values([\"calitp_itp_id\", \"below_cutoff\", \n",
    "                         \"pct_below_cutoff\", \"route_id\"],\n",
    "                        ascending = [True, False, False, True]\n",
    "                       )\n",
    "           .drop_duplicates(subset=[\"calitp_itp_id\", \"route_id\"])\n",
    "          ).head(15)\n",
    "    \n",
    "    return list(df2.route_id)"
   ]
  },
  {
   "cell_type": "code",
   "execution_count": 11,
   "id": "cf36d559-3349-4144-8086-8ac9ce937a5a",
   "metadata": {
    "execution": {
     "iopub.execute_input": "2022-05-12T19:13:59.288942Z",
     "iopub.status.busy": "2022-05-12T19:13:59.288608Z",
     "iopub.status.idle": "2022-05-12T19:13:59.294613Z",
     "shell.execute_reply": "2022-05-12T19:13:59.293607Z"
    },
    "jupyter": {
     "source_hidden": true
    },
    "papermill": {
     "duration": 0.036725,
     "end_time": "2022-05-12T19:13:59.297076",
     "exception": false,
     "start_time": "2022-05-12T19:13:59.260351",
     "status": "completed"
    },
    "tags": [
     "remove_input"
    ]
   },
   "outputs": [],
   "source": [
    "def caption_with_cutoff(cutoff):\n",
    "    sentence = (\n",
    "        f\"<br>These are routes that have **{int(PCT_TRIPS_BELOW_CUTOFF*100)}% \"\n",
    "        \"of their trips take no more than an \"\n",
    "        f\"additional {cutoff} min** compared to a car \"\n",
    "        \"(up to 15 routes) are shown.\"\n",
    "        \"<br>Within each route group, routes are sorted in descending order \"\n",
    "        \"by % competitive trips and # trips below the additional time cut-off.\"\n",
    "    )\n",
    "    return sentence\n",
    "\n",
    "CAPTIONS_DICT = {\n",
    "    \"short\": caption_with_cutoff(diff_cutoffs['short']),\n",
    "    \"medium\": caption_with_cutoff(diff_cutoffs['medium']),\n",
    "    \"long\": caption_with_cutoff(diff_cutoffs['long']),\n",
    "}"
   ]
  },
  {
   "cell_type": "code",
   "execution_count": 12,
   "id": "e4306d58-6944-47e9-afef-5d5b524c751f",
   "metadata": {
    "execution": {
     "iopub.execute_input": "2022-05-12T19:13:59.327048Z",
     "iopub.status.busy": "2022-05-12T19:13:59.326766Z",
     "iopub.status.idle": "2022-05-12T19:13:59.335275Z",
     "shell.execute_reply": "2022-05-12T19:13:59.334362Z"
    },
    "jupyter": {
     "source_hidden": true
    },
    "papermill": {
     "duration": 0.026932,
     "end_time": "2022-05-12T19:13:59.337373",
     "exception": false,
     "start_time": "2022-05-12T19:13:59.310441",
     "status": "completed"
    },
    "tags": [
     "remove_input"
    ]
   },
   "outputs": [],
   "source": [
    "def setup_charts(df, PCT_COMPETITIVE_THRESHOLD, route_group):\n",
    "    # Set up df for charting (cut-off at some threshold to show most competitive routes)\n",
    "    plot_me = (df[df.pct_trips_competitive > PCT_COMPETITIVE_THRESHOLD]\n",
    "           .drop(columns = \"geometry\")\n",
    "    )\n",
    "    \n",
    "    # Set y-ranges to be the same across route_groups, \n",
    "    # otherwise charts fluctuate too much, even within operator\n",
    "    y_col1 = \"bus_multiplier\"\n",
    "    Y_MIN1, Y_MAX1 = set_yaxis_range(plot_me, y_col1)\n",
    "\n",
    "    y_col2 = \"bus_difference\"\n",
    "    Y_MIN2, Y_MAX2 = set_yaxis_range(plot_me, y_col2)\n",
    "    \n",
    "    # Grab the routes to plot\n",
    "    subset_routes = top15_routes(plot_me, route_group)\n",
    "        \n",
    "    # Display charts\n",
    "    multiplier_chart = parallel_corridors_utils.make_stripplot(\n",
    "        plot_me[plot_me.route_id.isin(subset_routes)], \n",
    "        y_col1, Y_MIN = Y_MIN1, Y_MAX = Y_MAX1\n",
    "    )\n",
    "    \n",
    "    difference_chart = parallel_corridors_utils.make_stripplot(\n",
    "        plot_me[plot_me.route_id.isin(subset_routes)], \n",
    "        y_col2, Y_MIN = Y_MIN2, Y_MAX = Y_MAX2\n",
    "    )\n",
    "    \n",
    "    return subset_routes, multiplier_chart, difference_chart            "
   ]
  },
  {
   "cell_type": "code",
   "execution_count": 13,
   "id": "33a710e8-504c-4942-aa75-ff69f216956e",
   "metadata": {
    "execution": {
     "iopub.execute_input": "2022-05-12T19:13:59.371225Z",
     "iopub.status.busy": "2022-05-12T19:13:59.370931Z",
     "iopub.status.idle": "2022-05-12T19:13:59.377621Z",
     "shell.execute_reply": "2022-05-12T19:13:59.376822Z"
    },
    "jupyter": {
     "source_hidden": true
    },
    "papermill": {
     "duration": 0.028895,
     "end_time": "2022-05-12T19:13:59.379548",
     "exception": false,
     "start_time": "2022-05-12T19:13:59.350653",
     "status": "completed"
    },
    "tags": [
     "remove_input"
    ]
   },
   "outputs": [],
   "source": [
    "def display_charts_for_route_group(df, route_group):    \n",
    "    subset_routes, mult, diff  = setup_charts(df, PCT_COMPETITIVE_THRESHOLD, route_group)\n",
    "\n",
    "    if len(subset_routes) > 0:\n",
    "        display(Markdown(f\"{CAPTIONS_DICT[route_group]}\"))\n",
    "\n",
    "        display(mult)\n",
    "        display(diff)\n",
    "        \n",
    "        # Display route stats for just plotted routes\n",
    "        style_route_stats(route_stats, subset_routes)"
   ]
  },
  {
   "cell_type": "markdown",
   "id": "525f9b38-072b-46d1-96a8-1aa4b038357c",
   "metadata": {
    "papermill": {
     "duration": 0.017653,
     "end_time": "2022-05-12T19:13:59.414630",
     "exception": false,
     "start_time": "2022-05-12T19:13:59.396977",
     "status": "completed"
    },
    "tags": []
   },
   "source": [
    "## Viable Competitive Routes\n",
    "### Short Routes (< 1 hr)"
   ]
  },
  {
   "cell_type": "code",
   "execution_count": 14,
   "id": "57f7084c-2cf7-45c6-ba08-1609e0bd6ca5",
   "metadata": {
    "execution": {
     "iopub.execute_input": "2022-05-12T19:13:59.449961Z",
     "iopub.status.busy": "2022-05-12T19:13:59.449095Z",
     "iopub.status.idle": "2022-05-12T19:13:59.772788Z",
     "shell.execute_reply": "2022-05-12T19:13:59.772221Z"
    },
    "jupyter": {
     "source_hidden": true
    },
    "papermill": {
     "duration": 0.340604,
     "end_time": "2022-05-12T19:13:59.774779",
     "exception": false,
     "start_time": "2022-05-12T19:13:59.434175",
     "status": "completed"
    },
    "tags": [
     "remove_input"
    ]
   },
   "outputs": [
    {
     "data": {
      "text/markdown": [
       "<br>These are routes that have **100% of their trips take no more than an additional 20 min** compared to a car (up to 15 routes) are shown.<br>Within each route group, routes are sorted in descending order by % competitive trips and # trips below the additional time cut-off."
      ],
      "text/plain": [
       "<IPython.core.display.Markdown object>"
      ]
     },
     "metadata": {},
     "output_type": "display_data"
    },
    {
     "data": {
      "text/html": [
       "\n",
       "<div id=\"altair-viz-9c3200edeb3b4c3e9d59dadfcafbb236\"></div>\n",
       "<script type=\"text/javascript\">\n",
       "  var VEGA_DEBUG = (typeof VEGA_DEBUG == \"undefined\") ? {} : VEGA_DEBUG;\n",
       "  (function(spec, embedOpt){\n",
       "    let outputDiv = document.currentScript.previousElementSibling;\n",
       "    if (outputDiv.id !== \"altair-viz-9c3200edeb3b4c3e9d59dadfcafbb236\") {\n",
       "      outputDiv = document.getElementById(\"altair-viz-9c3200edeb3b4c3e9d59dadfcafbb236\");\n",
       "    }\n",
       "    const paths = {\n",
       "      \"vega\": \"https://cdn.jsdelivr.net/npm//vega@5?noext\",\n",
       "      \"vega-lib\": \"https://cdn.jsdelivr.net/npm//vega-lib?noext\",\n",
       "      \"vega-lite\": \"https://cdn.jsdelivr.net/npm//vega-lite@4.17.0?noext\",\n",
       "      \"vega-embed\": \"https://cdn.jsdelivr.net/npm//vega-embed@6?noext\",\n",
       "    };\n",
       "\n",
       "    function maybeLoadScript(lib, version) {\n",
       "      var key = `${lib.replace(\"-\", \"\")}_version`;\n",
       "      return (VEGA_DEBUG[key] == version) ?\n",
       "        Promise.resolve(paths[lib]) :\n",
       "        new Promise(function(resolve, reject) {\n",
       "          var s = document.createElement('script');\n",
       "          document.getElementsByTagName(\"head\")[0].appendChild(s);\n",
       "          s.async = true;\n",
       "          s.onload = () => {\n",
       "            VEGA_DEBUG[key] = version;\n",
       "            return resolve(paths[lib]);\n",
       "          };\n",
       "          s.onerror = () => reject(`Error loading script: ${paths[lib]}`);\n",
       "          s.src = paths[lib];\n",
       "        });\n",
       "    }\n",
       "\n",
       "    function showError(err) {\n",
       "      outputDiv.innerHTML = `<div class=\"error\" style=\"color:red;\">${err}</div>`;\n",
       "      throw err;\n",
       "    }\n",
       "\n",
       "    function displayChart(vegaEmbed) {\n",
       "      vegaEmbed(outputDiv, spec, embedOpt)\n",
       "        .catch(err => showError(`Javascript Error: ${err.message}<br>This usually means there's a typo in your chart specification. See the javascript console for the full traceback.`));\n",
       "    }\n",
       "\n",
       "    if(typeof define === \"function\" && define.amd) {\n",
       "      requirejs.config({paths});\n",
       "      require([\"vega-embed\"], displayChart, err => showError(`Error loading script: ${err.message}`));\n",
       "    } else {\n",
       "      maybeLoadScript(\"vega\", \"5\")\n",
       "        .then(() => maybeLoadScript(\"vega-lite\", \"4.17.0\"))\n",
       "        .then(() => maybeLoadScript(\"vega-embed\", \"6\"))\n",
       "        .catch(showError)\n",
       "        .then(() => displayChart(vegaEmbed));\n",
       "    }\n",
       "  })({\"config\": {\"view\": {\"continuousWidth\": 400, \"continuousHeight\": 300, \"stroke\": null}, \"facet\": {\"spacing\": 0}}, \"data\": {\"name\": \"data-aef649e2c69ad73563ef9a177ad06595\"}, \"facet\": {\"column\": {\"field\": \"route_id\", \"sort\": [\"673\"], \"title\": \"Route ID\", \"type\": \"nominal\"}}, \"spec\": {\"layer\": [{\"mark\": \"rule\", \"encoding\": {\"color\": {\"value\": \"black\"}, \"y\": {\"field\": \"cutoff\", \"type\": \"quantitative\"}}, \"selection\": {\"selector001\": {\"type\": \"interval\", \"bind\": \"scales\", \"encodings\": [\"x\", \"y\"]}}}, {\"mark\": {\"type\": \"point\", \"opacity\": 0.65, \"size\": 12, \"strokeWidth\": 1.1}, \"encoding\": {\"color\": {\"field\": \"time_of_day\", \"scale\": {\"range\": [\"#136C97\", \"#E16B26\", \"#F6BF16\", \"#00896B\", \"#7790A3\", \"#5B559C\"]}, \"sort\": [\"AM Peak\", \"Midday\", \"PM Peak\", \"Owl Service\"], \"title\": \"Time of Day\", \"type\": \"nominal\"}, \"tooltip\": [{\"field\": \"route_id\", \"type\": \"nominal\"}, {\"field\": \"route_name\", \"type\": \"nominal\"}, {\"field\": \"trip_id\", \"type\": \"nominal\"}, {\"field\": \"service_hours\", \"type\": \"quantitative\"}, {\"field\": \"car_duration_hours\", \"type\": \"quantitative\"}, {\"field\": \"bus_multiplier\", \"type\": \"quantitative\"}, {\"field\": \"bus_difference\", \"type\": \"quantitative\"}, {\"field\": \"num_trips\", \"type\": \"quantitative\"}, {\"field\": \"num_competitive\", \"type\": \"quantitative\"}, {\"field\": \"pct_trips_competitive\", \"type\": \"quantitative\"}, {\"field\": \"pct_below_cutoff\", \"type\": \"quantitative\"}, {\"field\": \"p25\", \"type\": \"quantitative\"}, {\"field\": \"p50\", \"type\": \"quantitative\"}, {\"field\": \"p75\", \"type\": \"quantitative\"}], \"x\": {\"axis\": {\"grid\": false, \"labels\": false, \"ticks\": true, \"values\": [0]}, \"field\": \"jitter\", \"scale\": {}, \"title\": null, \"type\": \"quantitative\"}, \"y\": {\"field\": \"bus_multiplier\", \"scale\": {\"domain\": [0, 3.0]}, \"title\": \"Ratio of Bus to Car Travel Time\", \"type\": \"quantitative\"}}, \"transform\": [{\"calculate\": \"sqrt(-2*log(random()))*cos(2*PI*random())\", \"as\": \"jitter\"}], \"width\": 50}, {\"layer\": [{\"mark\": {\"type\": \"point\", \"opacity\": 0.6, \"size\": 20, \"strokeWidth\": 1.3}, \"encoding\": {\"color\": {\"value\": \"#323434\"}, \"y\": {\"field\": \"bus_multiplier\", \"type\": \"quantitative\"}}, \"transform\": [{\"filter\": \"(datum.p50_trip === 1)\"}]}, {\"mark\": {\"type\": \"text\", \"align\": \"center\", \"baseline\": \"middle\"}, \"encoding\": {\"color\": {\"value\": \"black\"}, \"text\": {\"field\": \"pct_trips_competitive\", \"format\": \".0%\", \"type\": \"quantitative\"}, \"tooltip\": [{\"field\": \"route_id\", \"type\": \"nominal\"}, {\"field\": \"route_name\", \"type\": \"nominal\"}, {\"field\": \"trip_id\", \"type\": \"nominal\"}, {\"field\": \"service_hours\", \"type\": \"quantitative\"}, {\"field\": \"car_duration_hours\", \"type\": \"quantitative\"}, {\"field\": \"bus_multiplier\", \"type\": \"quantitative\"}, {\"field\": \"bus_difference\", \"type\": \"quantitative\"}, {\"field\": \"num_trips\", \"type\": \"quantitative\"}, {\"field\": \"num_competitive\", \"type\": \"quantitative\"}, {\"field\": \"pct_trips_competitive\", \"type\": \"quantitative\"}, {\"field\": \"pct_below_cutoff\", \"type\": \"quantitative\"}, {\"field\": \"p25\", \"type\": \"quantitative\"}, {\"field\": \"p50\", \"type\": \"quantitative\"}, {\"field\": \"p75\", \"type\": \"quantitative\"}], \"x\": {\"value\": 30}, \"y\": {\"value\": 15}}, \"transform\": [{\"calculate\": \"sqrt(-2*log(random()))*cos(2*PI*random())\", \"as\": \"jitter\"}, {\"filter\": \"(datum.fastest_trip === 1)\"}]}]}]}, \"resolve\": {\"scale\": {\"y\": \"shared\"}}, \"title\": \"Ratio of Bus to Car Travel Time\", \"$schema\": \"https://vega.github.io/schema/vega-lite/v4.17.0.json\", \"datasets\": {\"data-aef649e2c69ad73563ef9a177ad06595\": [{\"calitp_itp_id\": 257, \"trip_key\": -1253761614247937160, \"trip_id\": \"PH0930\", \"shape_id\": \"13738\", \"route_id\": \"673\", \"service_hours\": 0.47, \"trip_first_departure_ts\": 34200, \"trip_last_arrival_ts\": 35880, \"departure_hour\": 9, \"time_of_day\": \"AM Peak\", \"p25\": 0.47, \"p50\": 0.47, \"p75\": 0.47, \"p50_trip\": 1, \"fastest_trip\": 0, \"car_duration_hours\": 0.46, \"competitive_route\": 1, \"bus_multiplier\": 1.02, \"bus_difference\": 0.6, \"num_trips\": 26, \"num_competitive\": 26, \"pct_trips_competitive\": 1.0, \"bus_difference_spread\": 0.0, \"route_group\": \"short\", \"max_trip_hrs\": 0.47, \"max_trip_route_group\": 0.47, \"below_cutoff\": 26, \"pct_below_cutoff\": 1.0, \"name\": \"Presidio Trust\", \"caltrans_district\": \"04 - Oakland\", \"drmt_organization_name\": null, \"route_name\": null, \"cutoff2\": 20, \"cutoff\": 2}, {\"calitp_itp_id\": 257, \"trip_key\": 7909294939593455274, \"trip_id\": \"PH1700\", \"shape_id\": \"13738\", \"route_id\": \"673\", \"service_hours\": 0.47, \"trip_first_departure_ts\": 61200, \"trip_last_arrival_ts\": 62880, \"departure_hour\": 17, \"time_of_day\": \"PM Peak\", \"p25\": 0.47, \"p50\": 0.47, \"p75\": 0.47, \"p50_trip\": 1, \"fastest_trip\": 0, \"car_duration_hours\": 0.46, \"competitive_route\": 1, \"bus_multiplier\": 1.02, \"bus_difference\": 0.6, \"num_trips\": 26, \"num_competitive\": 26, \"pct_trips_competitive\": 1.0, \"bus_difference_spread\": 0.0, \"route_group\": \"short\", \"max_trip_hrs\": 0.47, \"max_trip_route_group\": 0.47, \"below_cutoff\": 26, \"pct_below_cutoff\": 1.0, \"name\": \"Presidio Trust\", \"caltrans_district\": \"04 - Oakland\", \"drmt_organization_name\": null, \"route_name\": null, \"cutoff2\": 20, \"cutoff\": 2}, {\"calitp_itp_id\": 257, \"trip_key\": -1832471641174462920, \"trip_id\": \"PH1200\", \"shape_id\": \"13738\", \"route_id\": \"673\", \"service_hours\": 0.47, \"trip_first_departure_ts\": 43200, \"trip_last_arrival_ts\": 44880, \"departure_hour\": 12, \"time_of_day\": \"Midday\", \"p25\": 0.47, \"p50\": 0.47, \"p75\": 0.47, \"p50_trip\": 1, \"fastest_trip\": 0, \"car_duration_hours\": 0.46, \"competitive_route\": 1, \"bus_multiplier\": 1.02, \"bus_difference\": 0.6, \"num_trips\": 26, \"num_competitive\": 26, \"pct_trips_competitive\": 1.0, \"bus_difference_spread\": 0.0, \"route_group\": \"short\", \"max_trip_hrs\": 0.47, \"max_trip_route_group\": 0.47, \"below_cutoff\": 26, \"pct_below_cutoff\": 1.0, \"name\": \"Presidio Trust\", \"caltrans_district\": \"04 - Oakland\", \"drmt_organization_name\": null, \"route_name\": null, \"cutoff2\": 20, \"cutoff\": 2}, {\"calitp_itp_id\": 257, \"trip_key\": -8524228958124365775, \"trip_id\": \"PH1800\", \"shape_id\": \"13738\", \"route_id\": \"673\", \"service_hours\": 0.47, \"trip_first_departure_ts\": 64800, \"trip_last_arrival_ts\": 66480, \"departure_hour\": 18, \"time_of_day\": \"PM Peak\", \"p25\": 0.47, \"p50\": 0.47, \"p75\": 0.47, \"p50_trip\": 1, \"fastest_trip\": 0, \"car_duration_hours\": 0.46, \"competitive_route\": 1, \"bus_multiplier\": 1.02, \"bus_difference\": 0.6, \"num_trips\": 26, \"num_competitive\": 26, \"pct_trips_competitive\": 1.0, \"bus_difference_spread\": 0.0, \"route_group\": \"short\", \"max_trip_hrs\": 0.47, \"max_trip_route_group\": 0.47, \"below_cutoff\": 26, \"pct_below_cutoff\": 1.0, \"name\": \"Presidio Trust\", \"caltrans_district\": \"04 - Oakland\", \"drmt_organization_name\": null, \"route_name\": null, \"cutoff2\": 20, \"cutoff\": 2}, {\"calitp_itp_id\": 257, \"trip_key\": -6331200952277953246, \"trip_id\": \"PH0730\", \"shape_id\": \"13738\", \"route_id\": \"673\", \"service_hours\": 0.47, \"trip_first_departure_ts\": 27000, \"trip_last_arrival_ts\": 28680, \"departure_hour\": 7, \"time_of_day\": \"AM Peak\", \"p25\": 0.47, \"p50\": 0.47, \"p75\": 0.47, \"p50_trip\": 1, \"fastest_trip\": 0, \"car_duration_hours\": 0.46, \"competitive_route\": 1, \"bus_multiplier\": 1.02, \"bus_difference\": 0.6, \"num_trips\": 26, \"num_competitive\": 26, \"pct_trips_competitive\": 1.0, \"bus_difference_spread\": 0.0, \"route_group\": \"short\", \"max_trip_hrs\": 0.47, \"max_trip_route_group\": 0.47, \"below_cutoff\": 26, \"pct_below_cutoff\": 1.0, \"name\": \"Presidio Trust\", \"caltrans_district\": \"04 - Oakland\", \"drmt_organization_name\": null, \"route_name\": null, \"cutoff2\": 20, \"cutoff\": 2}, {\"calitp_itp_id\": 257, \"trip_key\": 5368451053873020367, \"trip_id\": \"PH0830\", \"shape_id\": \"13738\", \"route_id\": \"673\", \"service_hours\": 0.47, \"trip_first_departure_ts\": 30600, \"trip_last_arrival_ts\": 32280, \"departure_hour\": 8, \"time_of_day\": \"AM Peak\", \"p25\": 0.47, \"p50\": 0.47, \"p75\": 0.47, \"p50_trip\": 1, \"fastest_trip\": 0, \"car_duration_hours\": 0.46, \"competitive_route\": 1, \"bus_multiplier\": 1.02, \"bus_difference\": 0.6, \"num_trips\": 26, \"num_competitive\": 26, \"pct_trips_competitive\": 1.0, \"bus_difference_spread\": 0.0, \"route_group\": \"short\", \"max_trip_hrs\": 0.47, \"max_trip_route_group\": 0.47, \"below_cutoff\": 26, \"pct_below_cutoff\": 1.0, \"name\": \"Presidio Trust\", \"caltrans_district\": \"04 - Oakland\", \"drmt_organization_name\": null, \"route_name\": null, \"cutoff2\": 20, \"cutoff\": 2}, {\"calitp_itp_id\": 257, \"trip_key\": -1925135980962723023, \"trip_id\": \"PH0900\", \"shape_id\": \"13738\", \"route_id\": \"673\", \"service_hours\": 0.47, \"trip_first_departure_ts\": 32400, \"trip_last_arrival_ts\": 34080, \"departure_hour\": 9, \"time_of_day\": \"AM Peak\", \"p25\": 0.47, \"p50\": 0.47, \"p75\": 0.47, \"p50_trip\": 1, \"fastest_trip\": 0, \"car_duration_hours\": 0.46, \"competitive_route\": 1, \"bus_multiplier\": 1.02, \"bus_difference\": 0.6, \"num_trips\": 26, \"num_competitive\": 26, \"pct_trips_competitive\": 1.0, \"bus_difference_spread\": 0.0, \"route_group\": \"short\", \"max_trip_hrs\": 0.47, \"max_trip_route_group\": 0.47, \"below_cutoff\": 26, \"pct_below_cutoff\": 1.0, \"name\": \"Presidio Trust\", \"caltrans_district\": \"04 - Oakland\", \"drmt_organization_name\": null, \"route_name\": null, \"cutoff2\": 20, \"cutoff\": 2}, {\"calitp_itp_id\": 257, \"trip_key\": -6347842040500827294, \"trip_id\": \"PH1100\", \"shape_id\": \"13738\", \"route_id\": \"673\", \"service_hours\": 0.47, \"trip_first_departure_ts\": 39600, \"trip_last_arrival_ts\": 41280, \"departure_hour\": 11, \"time_of_day\": \"Midday\", \"p25\": 0.47, \"p50\": 0.47, \"p75\": 0.47, \"p50_trip\": 1, \"fastest_trip\": 0, \"car_duration_hours\": 0.46, \"competitive_route\": 1, \"bus_multiplier\": 1.02, \"bus_difference\": 0.6, \"num_trips\": 26, \"num_competitive\": 26, \"pct_trips_competitive\": 1.0, \"bus_difference_spread\": 0.0, \"route_group\": \"short\", \"max_trip_hrs\": 0.47, \"max_trip_route_group\": 0.47, \"below_cutoff\": 26, \"pct_below_cutoff\": 1.0, \"name\": \"Presidio Trust\", \"caltrans_district\": \"04 - Oakland\", \"drmt_organization_name\": null, \"route_name\": null, \"cutoff2\": 20, \"cutoff\": 2}, {\"calitp_itp_id\": 257, \"trip_key\": 7463112401081242534, \"trip_id\": \"PH1530\", \"shape_id\": \"13738\", \"route_id\": \"673\", \"service_hours\": 0.47, \"trip_first_departure_ts\": 55800, \"trip_last_arrival_ts\": 57480, \"departure_hour\": 15, \"time_of_day\": \"Midday\", \"p25\": 0.47, \"p50\": 0.47, \"p75\": 0.47, \"p50_trip\": 1, \"fastest_trip\": 0, \"car_duration_hours\": 0.46, \"competitive_route\": 1, \"bus_multiplier\": 1.02, \"bus_difference\": 0.6, \"num_trips\": 26, \"num_competitive\": 26, \"pct_trips_competitive\": 1.0, \"bus_difference_spread\": 0.0, \"route_group\": \"short\", \"max_trip_hrs\": 0.47, \"max_trip_route_group\": 0.47, \"below_cutoff\": 26, \"pct_below_cutoff\": 1.0, \"name\": \"Presidio Trust\", \"caltrans_district\": \"04 - Oakland\", \"drmt_organization_name\": null, \"route_name\": null, \"cutoff2\": 20, \"cutoff\": 2}, {\"calitp_itp_id\": 257, \"trip_key\": 9008060474141603509, \"trip_id\": \"PH0700\", \"shape_id\": \"13738\", \"route_id\": \"673\", \"service_hours\": 0.47, \"trip_first_departure_ts\": 25200, \"trip_last_arrival_ts\": 26880, \"departure_hour\": 7, \"time_of_day\": \"AM Peak\", \"p25\": 0.47, \"p50\": 0.47, \"p75\": 0.47, \"p50_trip\": 1, \"fastest_trip\": 0, \"car_duration_hours\": 0.46, \"competitive_route\": 1, \"bus_multiplier\": 1.02, \"bus_difference\": 0.6, \"num_trips\": 26, \"num_competitive\": 26, \"pct_trips_competitive\": 1.0, \"bus_difference_spread\": 0.0, \"route_group\": \"short\", \"max_trip_hrs\": 0.47, \"max_trip_route_group\": 0.47, \"below_cutoff\": 26, \"pct_below_cutoff\": 1.0, \"name\": \"Presidio Trust\", \"caltrans_district\": \"04 - Oakland\", \"drmt_organization_name\": null, \"route_name\": null, \"cutoff2\": 20, \"cutoff\": 2}, {\"calitp_itp_id\": 257, \"trip_key\": -531332991592928557, \"trip_id\": \"PH1900\", \"shape_id\": \"13738\", \"route_id\": \"673\", \"service_hours\": 0.47, \"trip_first_departure_ts\": 68400, \"trip_last_arrival_ts\": 70080, \"departure_hour\": 19, \"time_of_day\": \"PM Peak\", \"p25\": 0.47, \"p50\": 0.47, \"p75\": 0.47, \"p50_trip\": 1, \"fastest_trip\": 1, \"car_duration_hours\": 0.46, \"competitive_route\": 1, \"bus_multiplier\": 1.02, \"bus_difference\": 0.6, \"num_trips\": 26, \"num_competitive\": 26, \"pct_trips_competitive\": 1.0, \"bus_difference_spread\": 0.0, \"route_group\": \"short\", \"max_trip_hrs\": 0.47, \"max_trip_route_group\": 0.47, \"below_cutoff\": 26, \"pct_below_cutoff\": 1.0, \"name\": \"Presidio Trust\", \"caltrans_district\": \"04 - Oakland\", \"drmt_organization_name\": null, \"route_name\": null, \"cutoff2\": 20, \"cutoff\": 2}, {\"calitp_itp_id\": 257, \"trip_key\": -5141975382696274681, \"trip_id\": \"PH1230\", \"shape_id\": \"13738\", \"route_id\": \"673\", \"service_hours\": 0.47, \"trip_first_departure_ts\": 45000, \"trip_last_arrival_ts\": 46680, \"departure_hour\": 12, \"time_of_day\": \"Midday\", \"p25\": 0.47, \"p50\": 0.47, \"p75\": 0.47, \"p50_trip\": 1, \"fastest_trip\": 0, \"car_duration_hours\": 0.46, \"competitive_route\": 1, \"bus_multiplier\": 1.02, \"bus_difference\": 0.6, \"num_trips\": 26, \"num_competitive\": 26, \"pct_trips_competitive\": 1.0, \"bus_difference_spread\": 0.0, \"route_group\": \"short\", \"max_trip_hrs\": 0.47, \"max_trip_route_group\": 0.47, \"below_cutoff\": 26, \"pct_below_cutoff\": 1.0, \"name\": \"Presidio Trust\", \"caltrans_district\": \"04 - Oakland\", \"drmt_organization_name\": null, \"route_name\": null, \"cutoff2\": 20, \"cutoff\": 2}, {\"calitp_itp_id\": 257, \"trip_key\": 1045331296300338463, \"trip_id\": \"PH1500\", \"shape_id\": \"13738\", \"route_id\": \"673\", \"service_hours\": 0.47, \"trip_first_departure_ts\": 54000, \"trip_last_arrival_ts\": 55680, \"departure_hour\": 15, \"time_of_day\": \"Midday\", \"p25\": 0.47, \"p50\": 0.47, \"p75\": 0.47, \"p50_trip\": 1, \"fastest_trip\": 0, \"car_duration_hours\": 0.46, \"competitive_route\": 1, \"bus_multiplier\": 1.02, \"bus_difference\": 0.6, \"num_trips\": 26, \"num_competitive\": 26, \"pct_trips_competitive\": 1.0, \"bus_difference_spread\": 0.0, \"route_group\": \"short\", \"max_trip_hrs\": 0.47, \"max_trip_route_group\": 0.47, \"below_cutoff\": 26, \"pct_below_cutoff\": 1.0, \"name\": \"Presidio Trust\", \"caltrans_district\": \"04 - Oakland\", \"drmt_organization_name\": null, \"route_name\": null, \"cutoff2\": 20, \"cutoff\": 2}, {\"calitp_itp_id\": 257, \"trip_key\": -8838989846236699595, \"trip_id\": \"PH1430\", \"shape_id\": \"13738\", \"route_id\": \"673\", \"service_hours\": 0.47, \"trip_first_departure_ts\": 52200, \"trip_last_arrival_ts\": 53880, \"departure_hour\": 14, \"time_of_day\": \"Midday\", \"p25\": 0.47, \"p50\": 0.47, \"p75\": 0.47, \"p50_trip\": 1, \"fastest_trip\": 0, \"car_duration_hours\": 0.46, \"competitive_route\": 1, \"bus_multiplier\": 1.02, \"bus_difference\": 0.6, \"num_trips\": 26, \"num_competitive\": 26, \"pct_trips_competitive\": 1.0, \"bus_difference_spread\": 0.0, \"route_group\": \"short\", \"max_trip_hrs\": 0.47, \"max_trip_route_group\": 0.47, \"below_cutoff\": 26, \"pct_below_cutoff\": 1.0, \"name\": \"Presidio Trust\", \"caltrans_district\": \"04 - Oakland\", \"drmt_organization_name\": null, \"route_name\": null, \"cutoff2\": 20, \"cutoff\": 2}, {\"calitp_itp_id\": 257, \"trip_key\": 1198745740014783038, \"trip_id\": \"PH1030\", \"shape_id\": \"13738\", \"route_id\": \"673\", \"service_hours\": 0.47, \"trip_first_departure_ts\": 37800, \"trip_last_arrival_ts\": 39480, \"departure_hour\": 10, \"time_of_day\": \"Midday\", \"p25\": 0.47, \"p50\": 0.47, \"p75\": 0.47, \"p50_trip\": 1, \"fastest_trip\": 0, \"car_duration_hours\": 0.46, \"competitive_route\": 1, \"bus_multiplier\": 1.02, \"bus_difference\": 0.6, \"num_trips\": 26, \"num_competitive\": 26, \"pct_trips_competitive\": 1.0, \"bus_difference_spread\": 0.0, \"route_group\": \"short\", \"max_trip_hrs\": 0.47, \"max_trip_route_group\": 0.47, \"below_cutoff\": 26, \"pct_below_cutoff\": 1.0, \"name\": \"Presidio Trust\", \"caltrans_district\": \"04 - Oakland\", \"drmt_organization_name\": null, \"route_name\": null, \"cutoff2\": 20, \"cutoff\": 2}, {\"calitp_itp_id\": 257, \"trip_key\": 2823510837932261319, \"trip_id\": \"PH1830\", \"shape_id\": \"13738\", \"route_id\": \"673\", \"service_hours\": 0.47, \"trip_first_departure_ts\": 66600, \"trip_last_arrival_ts\": 68280, \"departure_hour\": 18, \"time_of_day\": \"PM Peak\", \"p25\": 0.47, \"p50\": 0.47, \"p75\": 0.47, \"p50_trip\": 1, \"fastest_trip\": 0, \"car_duration_hours\": 0.46, \"competitive_route\": 1, \"bus_multiplier\": 1.02, \"bus_difference\": 0.6, \"num_trips\": 26, \"num_competitive\": 26, \"pct_trips_competitive\": 1.0, \"bus_difference_spread\": 0.0, \"route_group\": \"short\", \"max_trip_hrs\": 0.47, \"max_trip_route_group\": 0.47, \"below_cutoff\": 26, \"pct_below_cutoff\": 1.0, \"name\": \"Presidio Trust\", \"caltrans_district\": \"04 - Oakland\", \"drmt_organization_name\": null, \"route_name\": null, \"cutoff2\": 20, \"cutoff\": 2}, {\"calitp_itp_id\": 257, \"trip_key\": 6415975633714303872, \"trip_id\": \"PH0800\", \"shape_id\": \"13738\", \"route_id\": \"673\", \"service_hours\": 0.47, \"trip_first_departure_ts\": 28800, \"trip_last_arrival_ts\": 30480, \"departure_hour\": 8, \"time_of_day\": \"AM Peak\", \"p25\": 0.47, \"p50\": 0.47, \"p75\": 0.47, \"p50_trip\": 1, \"fastest_trip\": 0, \"car_duration_hours\": 0.46, \"competitive_route\": 1, \"bus_multiplier\": 1.02, \"bus_difference\": 0.6, \"num_trips\": 26, \"num_competitive\": 26, \"pct_trips_competitive\": 1.0, \"bus_difference_spread\": 0.0, \"route_group\": \"short\", \"max_trip_hrs\": 0.47, \"max_trip_route_group\": 0.47, \"below_cutoff\": 26, \"pct_below_cutoff\": 1.0, \"name\": \"Presidio Trust\", \"caltrans_district\": \"04 - Oakland\", \"drmt_organization_name\": null, \"route_name\": null, \"cutoff2\": 20, \"cutoff\": 2}, {\"calitp_itp_id\": 257, \"trip_key\": 4402063661585196770, \"trip_id\": \"PH0630\", \"shape_id\": \"13738\", \"route_id\": \"673\", \"service_hours\": 0.47, \"trip_first_departure_ts\": 23400, \"trip_last_arrival_ts\": 25080, \"departure_hour\": 6, \"time_of_day\": \"Owl Service\", \"p25\": 0.47, \"p50\": 0.47, \"p75\": 0.47, \"p50_trip\": 1, \"fastest_trip\": 0, \"car_duration_hours\": 0.46, \"competitive_route\": 1, \"bus_multiplier\": 1.02, \"bus_difference\": 0.6, \"num_trips\": 26, \"num_competitive\": 26, \"pct_trips_competitive\": 1.0, \"bus_difference_spread\": 0.0, \"route_group\": \"short\", \"max_trip_hrs\": 0.47, \"max_trip_route_group\": 0.47, \"below_cutoff\": 26, \"pct_below_cutoff\": 1.0, \"name\": \"Presidio Trust\", \"caltrans_district\": \"04 - Oakland\", \"drmt_organization_name\": null, \"route_name\": null, \"cutoff2\": 20, \"cutoff\": 2}, {\"calitp_itp_id\": 257, \"trip_key\": 2198979731863317696, \"trip_id\": \"PH1300\", \"shape_id\": \"13738\", \"route_id\": \"673\", \"service_hours\": 0.47, \"trip_first_departure_ts\": 46800, \"trip_last_arrival_ts\": 48480, \"departure_hour\": 13, \"time_of_day\": \"Midday\", \"p25\": 0.47, \"p50\": 0.47, \"p75\": 0.47, \"p50_trip\": 1, \"fastest_trip\": 0, \"car_duration_hours\": 0.46, \"competitive_route\": 1, \"bus_multiplier\": 1.02, \"bus_difference\": 0.6, \"num_trips\": 26, \"num_competitive\": 26, \"pct_trips_competitive\": 1.0, \"bus_difference_spread\": 0.0, \"route_group\": \"short\", \"max_trip_hrs\": 0.47, \"max_trip_route_group\": 0.47, \"below_cutoff\": 26, \"pct_below_cutoff\": 1.0, \"name\": \"Presidio Trust\", \"caltrans_district\": \"04 - Oakland\", \"drmt_organization_name\": null, \"route_name\": null, \"cutoff2\": 20, \"cutoff\": 2}, {\"calitp_itp_id\": 257, \"trip_key\": 4465129888350886095, \"trip_id\": \"PH1000\", \"shape_id\": \"13738\", \"route_id\": \"673\", \"service_hours\": 0.47, \"trip_first_departure_ts\": 36000, \"trip_last_arrival_ts\": 37680, \"departure_hour\": 10, \"time_of_day\": \"Midday\", \"p25\": 0.47, \"p50\": 0.47, \"p75\": 0.47, \"p50_trip\": 1, \"fastest_trip\": 0, \"car_duration_hours\": 0.46, \"competitive_route\": 1, \"bus_multiplier\": 1.02, \"bus_difference\": 0.6, \"num_trips\": 26, \"num_competitive\": 26, \"pct_trips_competitive\": 1.0, \"bus_difference_spread\": 0.0, \"route_group\": \"short\", \"max_trip_hrs\": 0.47, \"max_trip_route_group\": 0.47, \"below_cutoff\": 26, \"pct_below_cutoff\": 1.0, \"name\": \"Presidio Trust\", \"caltrans_district\": \"04 - Oakland\", \"drmt_organization_name\": null, \"route_name\": null, \"cutoff2\": 20, \"cutoff\": 2}, {\"calitp_itp_id\": 257, \"trip_key\": -706500784622618480, \"trip_id\": \"PH1330\", \"shape_id\": \"13738\", \"route_id\": \"673\", \"service_hours\": 0.47, \"trip_first_departure_ts\": 48600, \"trip_last_arrival_ts\": 50280, \"departure_hour\": 13, \"time_of_day\": \"Midday\", \"p25\": 0.47, \"p50\": 0.47, \"p75\": 0.47, \"p50_trip\": 1, \"fastest_trip\": 0, \"car_duration_hours\": 0.46, \"competitive_route\": 1, \"bus_multiplier\": 1.02, \"bus_difference\": 0.6, \"num_trips\": 26, \"num_competitive\": 26, \"pct_trips_competitive\": 1.0, \"bus_difference_spread\": 0.0, \"route_group\": \"short\", \"max_trip_hrs\": 0.47, \"max_trip_route_group\": 0.47, \"below_cutoff\": 26, \"pct_below_cutoff\": 1.0, \"name\": \"Presidio Trust\", \"caltrans_district\": \"04 - Oakland\", \"drmt_organization_name\": null, \"route_name\": null, \"cutoff2\": 20, \"cutoff\": 2}, {\"calitp_itp_id\": 257, \"trip_key\": -5458182453157656639, \"trip_id\": \"PH1630\", \"shape_id\": \"13738\", \"route_id\": \"673\", \"service_hours\": 0.47, \"trip_first_departure_ts\": 59400, \"trip_last_arrival_ts\": 61080, \"departure_hour\": 16, \"time_of_day\": \"Midday\", \"p25\": 0.47, \"p50\": 0.47, \"p75\": 0.47, \"p50_trip\": 1, \"fastest_trip\": 0, \"car_duration_hours\": 0.46, \"competitive_route\": 1, \"bus_multiplier\": 1.02, \"bus_difference\": 0.6, \"num_trips\": 26, \"num_competitive\": 26, \"pct_trips_competitive\": 1.0, \"bus_difference_spread\": 0.0, \"route_group\": \"short\", \"max_trip_hrs\": 0.47, \"max_trip_route_group\": 0.47, \"below_cutoff\": 26, \"pct_below_cutoff\": 1.0, \"name\": \"Presidio Trust\", \"caltrans_district\": \"04 - Oakland\", \"drmt_organization_name\": null, \"route_name\": null, \"cutoff2\": 20, \"cutoff\": 2}, {\"calitp_itp_id\": 257, \"trip_key\": 1455696947016859298, \"trip_id\": \"PH1130\", \"shape_id\": \"13738\", \"route_id\": \"673\", \"service_hours\": 0.47, \"trip_first_departure_ts\": 41400, \"trip_last_arrival_ts\": 43080, \"departure_hour\": 11, \"time_of_day\": \"Midday\", \"p25\": 0.47, \"p50\": 0.47, \"p75\": 0.47, \"p50_trip\": 1, \"fastest_trip\": 0, \"car_duration_hours\": 0.46, \"competitive_route\": 1, \"bus_multiplier\": 1.02, \"bus_difference\": 0.6, \"num_trips\": 26, \"num_competitive\": 26, \"pct_trips_competitive\": 1.0, \"bus_difference_spread\": 0.0, \"route_group\": \"short\", \"max_trip_hrs\": 0.47, \"max_trip_route_group\": 0.47, \"below_cutoff\": 26, \"pct_below_cutoff\": 1.0, \"name\": \"Presidio Trust\", \"caltrans_district\": \"04 - Oakland\", \"drmt_organization_name\": null, \"route_name\": null, \"cutoff2\": 20, \"cutoff\": 2}, {\"calitp_itp_id\": 257, \"trip_key\": 4429099215239842536, \"trip_id\": \"PH1600\", \"shape_id\": \"13738\", \"route_id\": \"673\", \"service_hours\": 0.47, \"trip_first_departure_ts\": 57600, \"trip_last_arrival_ts\": 59280, \"departure_hour\": 16, \"time_of_day\": \"Midday\", \"p25\": 0.47, \"p50\": 0.47, \"p75\": 0.47, \"p50_trip\": 1, \"fastest_trip\": 0, \"car_duration_hours\": 0.46, \"competitive_route\": 1, \"bus_multiplier\": 1.02, \"bus_difference\": 0.6, \"num_trips\": 26, \"num_competitive\": 26, \"pct_trips_competitive\": 1.0, \"bus_difference_spread\": 0.0, \"route_group\": \"short\", \"max_trip_hrs\": 0.47, \"max_trip_route_group\": 0.47, \"below_cutoff\": 26, \"pct_below_cutoff\": 1.0, \"name\": \"Presidio Trust\", \"caltrans_district\": \"04 - Oakland\", \"drmt_organization_name\": null, \"route_name\": null, \"cutoff2\": 20, \"cutoff\": 2}, {\"calitp_itp_id\": 257, \"trip_key\": -4642411237546855353, \"trip_id\": \"PH1730\", \"shape_id\": \"13738\", \"route_id\": \"673\", \"service_hours\": 0.47, \"trip_first_departure_ts\": 63000, \"trip_last_arrival_ts\": 64680, \"departure_hour\": 17, \"time_of_day\": \"PM Peak\", \"p25\": 0.47, \"p50\": 0.47, \"p75\": 0.47, \"p50_trip\": 1, \"fastest_trip\": 0, \"car_duration_hours\": 0.46, \"competitive_route\": 1, \"bus_multiplier\": 1.02, \"bus_difference\": 0.6, \"num_trips\": 26, \"num_competitive\": 26, \"pct_trips_competitive\": 1.0, \"bus_difference_spread\": 0.0, \"route_group\": \"short\", \"max_trip_hrs\": 0.47, \"max_trip_route_group\": 0.47, \"below_cutoff\": 26, \"pct_below_cutoff\": 1.0, \"name\": \"Presidio Trust\", \"caltrans_district\": \"04 - Oakland\", \"drmt_organization_name\": null, \"route_name\": null, \"cutoff2\": 20, \"cutoff\": 2}, {\"calitp_itp_id\": 257, \"trip_key\": -6788171246304073674, \"trip_id\": \"PH1400\", \"shape_id\": \"13738\", \"route_id\": \"673\", \"service_hours\": 0.47, \"trip_first_departure_ts\": 50400, \"trip_last_arrival_ts\": 52080, \"departure_hour\": 14, \"time_of_day\": \"Midday\", \"p25\": 0.47, \"p50\": 0.47, \"p75\": 0.47, \"p50_trip\": 1, \"fastest_trip\": 0, \"car_duration_hours\": 0.46, \"competitive_route\": 1, \"bus_multiplier\": 1.02, \"bus_difference\": 0.6, \"num_trips\": 26, \"num_competitive\": 26, \"pct_trips_competitive\": 1.0, \"bus_difference_spread\": 0.0, \"route_group\": \"short\", \"max_trip_hrs\": 0.47, \"max_trip_route_group\": 0.47, \"below_cutoff\": 26, \"pct_below_cutoff\": 1.0, \"name\": \"Presidio Trust\", \"caltrans_district\": \"04 - Oakland\", \"drmt_organization_name\": null, \"route_name\": null, \"cutoff2\": 20, \"cutoff\": 2}]}}, {\"mode\": \"vega-lite\"});\n",
       "</script>"
      ],
      "text/plain": [
       "alt.FacetChart(...)"
      ]
     },
     "metadata": {},
     "output_type": "display_data"
    },
    {
     "data": {
      "text/html": [
       "\n",
       "<div id=\"altair-viz-bb42ca28a0794cc0a12291304f8fcf4b\"></div>\n",
       "<script type=\"text/javascript\">\n",
       "  var VEGA_DEBUG = (typeof VEGA_DEBUG == \"undefined\") ? {} : VEGA_DEBUG;\n",
       "  (function(spec, embedOpt){\n",
       "    let outputDiv = document.currentScript.previousElementSibling;\n",
       "    if (outputDiv.id !== \"altair-viz-bb42ca28a0794cc0a12291304f8fcf4b\") {\n",
       "      outputDiv = document.getElementById(\"altair-viz-bb42ca28a0794cc0a12291304f8fcf4b\");\n",
       "    }\n",
       "    const paths = {\n",
       "      \"vega\": \"https://cdn.jsdelivr.net/npm//vega@5?noext\",\n",
       "      \"vega-lib\": \"https://cdn.jsdelivr.net/npm//vega-lib?noext\",\n",
       "      \"vega-lite\": \"https://cdn.jsdelivr.net/npm//vega-lite@4.17.0?noext\",\n",
       "      \"vega-embed\": \"https://cdn.jsdelivr.net/npm//vega-embed@6?noext\",\n",
       "    };\n",
       "\n",
       "    function maybeLoadScript(lib, version) {\n",
       "      var key = `${lib.replace(\"-\", \"\")}_version`;\n",
       "      return (VEGA_DEBUG[key] == version) ?\n",
       "        Promise.resolve(paths[lib]) :\n",
       "        new Promise(function(resolve, reject) {\n",
       "          var s = document.createElement('script');\n",
       "          document.getElementsByTagName(\"head\")[0].appendChild(s);\n",
       "          s.async = true;\n",
       "          s.onload = () => {\n",
       "            VEGA_DEBUG[key] = version;\n",
       "            return resolve(paths[lib]);\n",
       "          };\n",
       "          s.onerror = () => reject(`Error loading script: ${paths[lib]}`);\n",
       "          s.src = paths[lib];\n",
       "        });\n",
       "    }\n",
       "\n",
       "    function showError(err) {\n",
       "      outputDiv.innerHTML = `<div class=\"error\" style=\"color:red;\">${err}</div>`;\n",
       "      throw err;\n",
       "    }\n",
       "\n",
       "    function displayChart(vegaEmbed) {\n",
       "      vegaEmbed(outputDiv, spec, embedOpt)\n",
       "        .catch(err => showError(`Javascript Error: ${err.message}<br>This usually means there's a typo in your chart specification. See the javascript console for the full traceback.`));\n",
       "    }\n",
       "\n",
       "    if(typeof define === \"function\" && define.amd) {\n",
       "      requirejs.config({paths});\n",
       "      require([\"vega-embed\"], displayChart, err => showError(`Error loading script: ${err.message}`));\n",
       "    } else {\n",
       "      maybeLoadScript(\"vega\", \"5\")\n",
       "        .then(() => maybeLoadScript(\"vega-lite\", \"4.17.0\"))\n",
       "        .then(() => maybeLoadScript(\"vega-embed\", \"6\"))\n",
       "        .catch(showError)\n",
       "        .then(() => displayChart(vegaEmbed));\n",
       "    }\n",
       "  })({\"config\": {\"view\": {\"continuousWidth\": 400, \"continuousHeight\": 300, \"stroke\": null}, \"facet\": {\"spacing\": 0}}, \"data\": {\"name\": \"data-5d76c5737a2e7a4c02f43c5d07c3f63f\"}, \"facet\": {\"column\": {\"field\": \"route_id\", \"sort\": [\"673\"], \"title\": \"Route ID\", \"type\": \"nominal\"}}, \"spec\": {\"layer\": [{\"mark\": \"rule\", \"encoding\": {\"color\": {\"value\": \"black\"}, \"y\": {\"field\": \"cutoff\", \"type\": \"quantitative\"}}, \"selection\": {\"selector002\": {\"type\": \"interval\", \"bind\": \"scales\", \"encodings\": [\"x\", \"y\"]}}}, {\"mark\": {\"type\": \"rule\", \"strokeDash\": [3, 3]}, \"encoding\": {\"color\": {\"value\": \"#323434\"}, \"y\": {\"field\": \"cutoff2\", \"type\": \"quantitative\"}}}, {\"mark\": {\"type\": \"point\", \"opacity\": 0.65, \"size\": 12, \"strokeWidth\": 1.1}, \"encoding\": {\"color\": {\"field\": \"time_of_day\", \"scale\": {\"range\": [\"#136C97\", \"#E16B26\", \"#F6BF16\", \"#00896B\", \"#7790A3\", \"#5B559C\"]}, \"sort\": [\"AM Peak\", \"Midday\", \"PM Peak\", \"Owl Service\"], \"title\": \"Time of Day\", \"type\": \"nominal\"}, \"tooltip\": [{\"field\": \"route_id\", \"type\": \"nominal\"}, {\"field\": \"route_name\", \"type\": \"nominal\"}, {\"field\": \"trip_id\", \"type\": \"nominal\"}, {\"field\": \"service_hours\", \"type\": \"quantitative\"}, {\"field\": \"car_duration_hours\", \"type\": \"quantitative\"}, {\"field\": \"bus_multiplier\", \"type\": \"quantitative\"}, {\"field\": \"bus_difference\", \"type\": \"quantitative\"}, {\"field\": \"num_trips\", \"type\": \"quantitative\"}, {\"field\": \"num_competitive\", \"type\": \"quantitative\"}, {\"field\": \"pct_trips_competitive\", \"type\": \"quantitative\"}, {\"field\": \"pct_below_cutoff\", \"type\": \"quantitative\"}, {\"field\": \"p25\", \"type\": \"quantitative\"}, {\"field\": \"p50\", \"type\": \"quantitative\"}, {\"field\": \"p75\", \"type\": \"quantitative\"}], \"x\": {\"axis\": {\"grid\": false, \"labels\": false, \"ticks\": true, \"values\": [0]}, \"field\": \"jitter\", \"scale\": {}, \"title\": null, \"type\": \"quantitative\"}, \"y\": {\"field\": \"bus_difference\", \"scale\": {\"domain\": [-5, 25.2]}, \"title\": \"Difference in Bus to Car Travel Time (min)\", \"type\": \"quantitative\"}}, \"transform\": [{\"calculate\": \"sqrt(-2*log(random()))*cos(2*PI*random())\", \"as\": \"jitter\"}], \"width\": 50}, {\"layer\": [{\"mark\": {\"type\": \"point\", \"opacity\": 0.6, \"size\": 20, \"strokeWidth\": 1.3}, \"encoding\": {\"color\": {\"value\": \"#323434\"}, \"y\": {\"field\": \"bus_difference\", \"type\": \"quantitative\"}}, \"transform\": [{\"filter\": \"(datum.p50_trip === 1)\"}]}, {\"mark\": {\"type\": \"text\", \"align\": \"center\", \"baseline\": \"middle\"}, \"encoding\": {\"color\": {\"value\": \"black\"}, \"text\": {\"field\": \"pct_trips_competitive\", \"format\": \".0%\", \"type\": \"quantitative\"}, \"tooltip\": [{\"field\": \"route_id\", \"type\": \"nominal\"}, {\"field\": \"route_name\", \"type\": \"nominal\"}, {\"field\": \"trip_id\", \"type\": \"nominal\"}, {\"field\": \"service_hours\", \"type\": \"quantitative\"}, {\"field\": \"car_duration_hours\", \"type\": \"quantitative\"}, {\"field\": \"bus_multiplier\", \"type\": \"quantitative\"}, {\"field\": \"bus_difference\", \"type\": \"quantitative\"}, {\"field\": \"num_trips\", \"type\": \"quantitative\"}, {\"field\": \"num_competitive\", \"type\": \"quantitative\"}, {\"field\": \"pct_trips_competitive\", \"type\": \"quantitative\"}, {\"field\": \"pct_below_cutoff\", \"type\": \"quantitative\"}, {\"field\": \"p25\", \"type\": \"quantitative\"}, {\"field\": \"p50\", \"type\": \"quantitative\"}, {\"field\": \"p75\", \"type\": \"quantitative\"}], \"x\": {\"value\": 30}, \"y\": {\"value\": 15}}, \"transform\": [{\"calculate\": \"sqrt(-2*log(random()))*cos(2*PI*random())\", \"as\": \"jitter\"}, {\"filter\": \"(datum.fastest_trip === 1)\"}]}]}]}, \"resolve\": {\"scale\": {\"y\": \"shared\"}}, \"title\": \"Difference in Bus to Car Travel Time (min)\", \"$schema\": \"https://vega.github.io/schema/vega-lite/v4.17.0.json\", \"datasets\": {\"data-5d76c5737a2e7a4c02f43c5d07c3f63f\": [{\"calitp_itp_id\": 257, \"trip_key\": -1253761614247937160, \"trip_id\": \"PH0930\", \"shape_id\": \"13738\", \"route_id\": \"673\", \"service_hours\": 0.47, \"trip_first_departure_ts\": 34200, \"trip_last_arrival_ts\": 35880, \"departure_hour\": 9, \"time_of_day\": \"AM Peak\", \"p25\": 0.47, \"p50\": 0.47, \"p75\": 0.47, \"p50_trip\": 1, \"fastest_trip\": 0, \"car_duration_hours\": 0.46, \"competitive_route\": 1, \"bus_multiplier\": 1.02, \"bus_difference\": 0.6, \"num_trips\": 26, \"num_competitive\": 26, \"pct_trips_competitive\": 1.0, \"bus_difference_spread\": 0.0, \"route_group\": \"short\", \"max_trip_hrs\": 0.47, \"max_trip_route_group\": 0.47, \"below_cutoff\": 26, \"pct_below_cutoff\": 1.0, \"name\": \"Presidio Trust\", \"caltrans_district\": \"04 - Oakland\", \"drmt_organization_name\": null, \"route_name\": null, \"cutoff2\": 20, \"cutoff\": 0}, {\"calitp_itp_id\": 257, \"trip_key\": 7909294939593455274, \"trip_id\": \"PH1700\", \"shape_id\": \"13738\", \"route_id\": \"673\", \"service_hours\": 0.47, \"trip_first_departure_ts\": 61200, \"trip_last_arrival_ts\": 62880, \"departure_hour\": 17, \"time_of_day\": \"PM Peak\", \"p25\": 0.47, \"p50\": 0.47, \"p75\": 0.47, \"p50_trip\": 1, \"fastest_trip\": 0, \"car_duration_hours\": 0.46, \"competitive_route\": 1, \"bus_multiplier\": 1.02, \"bus_difference\": 0.6, \"num_trips\": 26, \"num_competitive\": 26, \"pct_trips_competitive\": 1.0, \"bus_difference_spread\": 0.0, \"route_group\": \"short\", \"max_trip_hrs\": 0.47, \"max_trip_route_group\": 0.47, \"below_cutoff\": 26, \"pct_below_cutoff\": 1.0, \"name\": \"Presidio Trust\", \"caltrans_district\": \"04 - Oakland\", \"drmt_organization_name\": null, \"route_name\": null, \"cutoff2\": 20, \"cutoff\": 0}, {\"calitp_itp_id\": 257, \"trip_key\": -1832471641174462920, \"trip_id\": \"PH1200\", \"shape_id\": \"13738\", \"route_id\": \"673\", \"service_hours\": 0.47, \"trip_first_departure_ts\": 43200, \"trip_last_arrival_ts\": 44880, \"departure_hour\": 12, \"time_of_day\": \"Midday\", \"p25\": 0.47, \"p50\": 0.47, \"p75\": 0.47, \"p50_trip\": 1, \"fastest_trip\": 0, \"car_duration_hours\": 0.46, \"competitive_route\": 1, \"bus_multiplier\": 1.02, \"bus_difference\": 0.6, \"num_trips\": 26, \"num_competitive\": 26, \"pct_trips_competitive\": 1.0, \"bus_difference_spread\": 0.0, \"route_group\": \"short\", \"max_trip_hrs\": 0.47, \"max_trip_route_group\": 0.47, \"below_cutoff\": 26, \"pct_below_cutoff\": 1.0, \"name\": \"Presidio Trust\", \"caltrans_district\": \"04 - Oakland\", \"drmt_organization_name\": null, \"route_name\": null, \"cutoff2\": 20, \"cutoff\": 0}, {\"calitp_itp_id\": 257, \"trip_key\": -8524228958124365775, \"trip_id\": \"PH1800\", \"shape_id\": \"13738\", \"route_id\": \"673\", \"service_hours\": 0.47, \"trip_first_departure_ts\": 64800, \"trip_last_arrival_ts\": 66480, \"departure_hour\": 18, \"time_of_day\": \"PM Peak\", \"p25\": 0.47, \"p50\": 0.47, \"p75\": 0.47, \"p50_trip\": 1, \"fastest_trip\": 0, \"car_duration_hours\": 0.46, \"competitive_route\": 1, \"bus_multiplier\": 1.02, \"bus_difference\": 0.6, \"num_trips\": 26, \"num_competitive\": 26, \"pct_trips_competitive\": 1.0, \"bus_difference_spread\": 0.0, \"route_group\": \"short\", \"max_trip_hrs\": 0.47, \"max_trip_route_group\": 0.47, \"below_cutoff\": 26, \"pct_below_cutoff\": 1.0, \"name\": \"Presidio Trust\", \"caltrans_district\": \"04 - Oakland\", \"drmt_organization_name\": null, \"route_name\": null, \"cutoff2\": 20, \"cutoff\": 0}, {\"calitp_itp_id\": 257, \"trip_key\": -6331200952277953246, \"trip_id\": \"PH0730\", \"shape_id\": \"13738\", \"route_id\": \"673\", \"service_hours\": 0.47, \"trip_first_departure_ts\": 27000, \"trip_last_arrival_ts\": 28680, \"departure_hour\": 7, \"time_of_day\": \"AM Peak\", \"p25\": 0.47, \"p50\": 0.47, \"p75\": 0.47, \"p50_trip\": 1, \"fastest_trip\": 0, \"car_duration_hours\": 0.46, \"competitive_route\": 1, \"bus_multiplier\": 1.02, \"bus_difference\": 0.6, \"num_trips\": 26, \"num_competitive\": 26, \"pct_trips_competitive\": 1.0, \"bus_difference_spread\": 0.0, \"route_group\": \"short\", \"max_trip_hrs\": 0.47, \"max_trip_route_group\": 0.47, \"below_cutoff\": 26, \"pct_below_cutoff\": 1.0, \"name\": \"Presidio Trust\", \"caltrans_district\": \"04 - Oakland\", \"drmt_organization_name\": null, \"route_name\": null, \"cutoff2\": 20, \"cutoff\": 0}, {\"calitp_itp_id\": 257, \"trip_key\": 5368451053873020367, \"trip_id\": \"PH0830\", \"shape_id\": \"13738\", \"route_id\": \"673\", \"service_hours\": 0.47, \"trip_first_departure_ts\": 30600, \"trip_last_arrival_ts\": 32280, \"departure_hour\": 8, \"time_of_day\": \"AM Peak\", \"p25\": 0.47, \"p50\": 0.47, \"p75\": 0.47, \"p50_trip\": 1, \"fastest_trip\": 0, \"car_duration_hours\": 0.46, \"competitive_route\": 1, \"bus_multiplier\": 1.02, \"bus_difference\": 0.6, \"num_trips\": 26, \"num_competitive\": 26, \"pct_trips_competitive\": 1.0, \"bus_difference_spread\": 0.0, \"route_group\": \"short\", \"max_trip_hrs\": 0.47, \"max_trip_route_group\": 0.47, \"below_cutoff\": 26, \"pct_below_cutoff\": 1.0, \"name\": \"Presidio Trust\", \"caltrans_district\": \"04 - Oakland\", \"drmt_organization_name\": null, \"route_name\": null, \"cutoff2\": 20, \"cutoff\": 0}, {\"calitp_itp_id\": 257, \"trip_key\": -1925135980962723023, \"trip_id\": \"PH0900\", \"shape_id\": \"13738\", \"route_id\": \"673\", \"service_hours\": 0.47, \"trip_first_departure_ts\": 32400, \"trip_last_arrival_ts\": 34080, \"departure_hour\": 9, \"time_of_day\": \"AM Peak\", \"p25\": 0.47, \"p50\": 0.47, \"p75\": 0.47, \"p50_trip\": 1, \"fastest_trip\": 0, \"car_duration_hours\": 0.46, \"competitive_route\": 1, \"bus_multiplier\": 1.02, \"bus_difference\": 0.6, \"num_trips\": 26, \"num_competitive\": 26, \"pct_trips_competitive\": 1.0, \"bus_difference_spread\": 0.0, \"route_group\": \"short\", \"max_trip_hrs\": 0.47, \"max_trip_route_group\": 0.47, \"below_cutoff\": 26, \"pct_below_cutoff\": 1.0, \"name\": \"Presidio Trust\", \"caltrans_district\": \"04 - Oakland\", \"drmt_organization_name\": null, \"route_name\": null, \"cutoff2\": 20, \"cutoff\": 0}, {\"calitp_itp_id\": 257, \"trip_key\": -6347842040500827294, \"trip_id\": \"PH1100\", \"shape_id\": \"13738\", \"route_id\": \"673\", \"service_hours\": 0.47, \"trip_first_departure_ts\": 39600, \"trip_last_arrival_ts\": 41280, \"departure_hour\": 11, \"time_of_day\": \"Midday\", \"p25\": 0.47, \"p50\": 0.47, \"p75\": 0.47, \"p50_trip\": 1, \"fastest_trip\": 0, \"car_duration_hours\": 0.46, \"competitive_route\": 1, \"bus_multiplier\": 1.02, \"bus_difference\": 0.6, \"num_trips\": 26, \"num_competitive\": 26, \"pct_trips_competitive\": 1.0, \"bus_difference_spread\": 0.0, \"route_group\": \"short\", \"max_trip_hrs\": 0.47, \"max_trip_route_group\": 0.47, \"below_cutoff\": 26, \"pct_below_cutoff\": 1.0, \"name\": \"Presidio Trust\", \"caltrans_district\": \"04 - Oakland\", \"drmt_organization_name\": null, \"route_name\": null, \"cutoff2\": 20, \"cutoff\": 0}, {\"calitp_itp_id\": 257, \"trip_key\": 7463112401081242534, \"trip_id\": \"PH1530\", \"shape_id\": \"13738\", \"route_id\": \"673\", \"service_hours\": 0.47, \"trip_first_departure_ts\": 55800, \"trip_last_arrival_ts\": 57480, \"departure_hour\": 15, \"time_of_day\": \"Midday\", \"p25\": 0.47, \"p50\": 0.47, \"p75\": 0.47, \"p50_trip\": 1, \"fastest_trip\": 0, \"car_duration_hours\": 0.46, \"competitive_route\": 1, \"bus_multiplier\": 1.02, \"bus_difference\": 0.6, \"num_trips\": 26, \"num_competitive\": 26, \"pct_trips_competitive\": 1.0, \"bus_difference_spread\": 0.0, \"route_group\": \"short\", \"max_trip_hrs\": 0.47, \"max_trip_route_group\": 0.47, \"below_cutoff\": 26, \"pct_below_cutoff\": 1.0, \"name\": \"Presidio Trust\", \"caltrans_district\": \"04 - Oakland\", \"drmt_organization_name\": null, \"route_name\": null, \"cutoff2\": 20, \"cutoff\": 0}, {\"calitp_itp_id\": 257, \"trip_key\": 9008060474141603509, \"trip_id\": \"PH0700\", \"shape_id\": \"13738\", \"route_id\": \"673\", \"service_hours\": 0.47, \"trip_first_departure_ts\": 25200, \"trip_last_arrival_ts\": 26880, \"departure_hour\": 7, \"time_of_day\": \"AM Peak\", \"p25\": 0.47, \"p50\": 0.47, \"p75\": 0.47, \"p50_trip\": 1, \"fastest_trip\": 0, \"car_duration_hours\": 0.46, \"competitive_route\": 1, \"bus_multiplier\": 1.02, \"bus_difference\": 0.6, \"num_trips\": 26, \"num_competitive\": 26, \"pct_trips_competitive\": 1.0, \"bus_difference_spread\": 0.0, \"route_group\": \"short\", \"max_trip_hrs\": 0.47, \"max_trip_route_group\": 0.47, \"below_cutoff\": 26, \"pct_below_cutoff\": 1.0, \"name\": \"Presidio Trust\", \"caltrans_district\": \"04 - Oakland\", \"drmt_organization_name\": null, \"route_name\": null, \"cutoff2\": 20, \"cutoff\": 0}, {\"calitp_itp_id\": 257, \"trip_key\": -531332991592928557, \"trip_id\": \"PH1900\", \"shape_id\": \"13738\", \"route_id\": \"673\", \"service_hours\": 0.47, \"trip_first_departure_ts\": 68400, \"trip_last_arrival_ts\": 70080, \"departure_hour\": 19, \"time_of_day\": \"PM Peak\", \"p25\": 0.47, \"p50\": 0.47, \"p75\": 0.47, \"p50_trip\": 1, \"fastest_trip\": 1, \"car_duration_hours\": 0.46, \"competitive_route\": 1, \"bus_multiplier\": 1.02, \"bus_difference\": 0.6, \"num_trips\": 26, \"num_competitive\": 26, \"pct_trips_competitive\": 1.0, \"bus_difference_spread\": 0.0, \"route_group\": \"short\", \"max_trip_hrs\": 0.47, \"max_trip_route_group\": 0.47, \"below_cutoff\": 26, \"pct_below_cutoff\": 1.0, \"name\": \"Presidio Trust\", \"caltrans_district\": \"04 - Oakland\", \"drmt_organization_name\": null, \"route_name\": null, \"cutoff2\": 20, \"cutoff\": 0}, {\"calitp_itp_id\": 257, \"trip_key\": -5141975382696274681, \"trip_id\": \"PH1230\", \"shape_id\": \"13738\", \"route_id\": \"673\", \"service_hours\": 0.47, \"trip_first_departure_ts\": 45000, \"trip_last_arrival_ts\": 46680, \"departure_hour\": 12, \"time_of_day\": \"Midday\", \"p25\": 0.47, \"p50\": 0.47, \"p75\": 0.47, \"p50_trip\": 1, \"fastest_trip\": 0, \"car_duration_hours\": 0.46, \"competitive_route\": 1, \"bus_multiplier\": 1.02, \"bus_difference\": 0.6, \"num_trips\": 26, \"num_competitive\": 26, \"pct_trips_competitive\": 1.0, \"bus_difference_spread\": 0.0, \"route_group\": \"short\", \"max_trip_hrs\": 0.47, \"max_trip_route_group\": 0.47, \"below_cutoff\": 26, \"pct_below_cutoff\": 1.0, \"name\": \"Presidio Trust\", \"caltrans_district\": \"04 - Oakland\", \"drmt_organization_name\": null, \"route_name\": null, \"cutoff2\": 20, \"cutoff\": 0}, {\"calitp_itp_id\": 257, \"trip_key\": 1045331296300338463, \"trip_id\": \"PH1500\", \"shape_id\": \"13738\", \"route_id\": \"673\", \"service_hours\": 0.47, \"trip_first_departure_ts\": 54000, \"trip_last_arrival_ts\": 55680, \"departure_hour\": 15, \"time_of_day\": \"Midday\", \"p25\": 0.47, \"p50\": 0.47, \"p75\": 0.47, \"p50_trip\": 1, \"fastest_trip\": 0, \"car_duration_hours\": 0.46, \"competitive_route\": 1, \"bus_multiplier\": 1.02, \"bus_difference\": 0.6, \"num_trips\": 26, \"num_competitive\": 26, \"pct_trips_competitive\": 1.0, \"bus_difference_spread\": 0.0, \"route_group\": \"short\", \"max_trip_hrs\": 0.47, \"max_trip_route_group\": 0.47, \"below_cutoff\": 26, \"pct_below_cutoff\": 1.0, \"name\": \"Presidio Trust\", \"caltrans_district\": \"04 - Oakland\", \"drmt_organization_name\": null, \"route_name\": null, \"cutoff2\": 20, \"cutoff\": 0}, {\"calitp_itp_id\": 257, \"trip_key\": -8838989846236699595, \"trip_id\": \"PH1430\", \"shape_id\": \"13738\", \"route_id\": \"673\", \"service_hours\": 0.47, \"trip_first_departure_ts\": 52200, \"trip_last_arrival_ts\": 53880, \"departure_hour\": 14, \"time_of_day\": \"Midday\", \"p25\": 0.47, \"p50\": 0.47, \"p75\": 0.47, \"p50_trip\": 1, \"fastest_trip\": 0, \"car_duration_hours\": 0.46, \"competitive_route\": 1, \"bus_multiplier\": 1.02, \"bus_difference\": 0.6, \"num_trips\": 26, \"num_competitive\": 26, \"pct_trips_competitive\": 1.0, \"bus_difference_spread\": 0.0, \"route_group\": \"short\", \"max_trip_hrs\": 0.47, \"max_trip_route_group\": 0.47, \"below_cutoff\": 26, \"pct_below_cutoff\": 1.0, \"name\": \"Presidio Trust\", \"caltrans_district\": \"04 - Oakland\", \"drmt_organization_name\": null, \"route_name\": null, \"cutoff2\": 20, \"cutoff\": 0}, {\"calitp_itp_id\": 257, \"trip_key\": 1198745740014783038, \"trip_id\": \"PH1030\", \"shape_id\": \"13738\", \"route_id\": \"673\", \"service_hours\": 0.47, \"trip_first_departure_ts\": 37800, \"trip_last_arrival_ts\": 39480, \"departure_hour\": 10, \"time_of_day\": \"Midday\", \"p25\": 0.47, \"p50\": 0.47, \"p75\": 0.47, \"p50_trip\": 1, \"fastest_trip\": 0, \"car_duration_hours\": 0.46, \"competitive_route\": 1, \"bus_multiplier\": 1.02, \"bus_difference\": 0.6, \"num_trips\": 26, \"num_competitive\": 26, \"pct_trips_competitive\": 1.0, \"bus_difference_spread\": 0.0, \"route_group\": \"short\", \"max_trip_hrs\": 0.47, \"max_trip_route_group\": 0.47, \"below_cutoff\": 26, \"pct_below_cutoff\": 1.0, \"name\": \"Presidio Trust\", \"caltrans_district\": \"04 - Oakland\", \"drmt_organization_name\": null, \"route_name\": null, \"cutoff2\": 20, \"cutoff\": 0}, {\"calitp_itp_id\": 257, \"trip_key\": 2823510837932261319, \"trip_id\": \"PH1830\", \"shape_id\": \"13738\", \"route_id\": \"673\", \"service_hours\": 0.47, \"trip_first_departure_ts\": 66600, \"trip_last_arrival_ts\": 68280, \"departure_hour\": 18, \"time_of_day\": \"PM Peak\", \"p25\": 0.47, \"p50\": 0.47, \"p75\": 0.47, \"p50_trip\": 1, \"fastest_trip\": 0, \"car_duration_hours\": 0.46, \"competitive_route\": 1, \"bus_multiplier\": 1.02, \"bus_difference\": 0.6, \"num_trips\": 26, \"num_competitive\": 26, \"pct_trips_competitive\": 1.0, \"bus_difference_spread\": 0.0, \"route_group\": \"short\", \"max_trip_hrs\": 0.47, \"max_trip_route_group\": 0.47, \"below_cutoff\": 26, \"pct_below_cutoff\": 1.0, \"name\": \"Presidio Trust\", \"caltrans_district\": \"04 - Oakland\", \"drmt_organization_name\": null, \"route_name\": null, \"cutoff2\": 20, \"cutoff\": 0}, {\"calitp_itp_id\": 257, \"trip_key\": 6415975633714303872, \"trip_id\": \"PH0800\", \"shape_id\": \"13738\", \"route_id\": \"673\", \"service_hours\": 0.47, \"trip_first_departure_ts\": 28800, \"trip_last_arrival_ts\": 30480, \"departure_hour\": 8, \"time_of_day\": \"AM Peak\", \"p25\": 0.47, \"p50\": 0.47, \"p75\": 0.47, \"p50_trip\": 1, \"fastest_trip\": 0, \"car_duration_hours\": 0.46, \"competitive_route\": 1, \"bus_multiplier\": 1.02, \"bus_difference\": 0.6, \"num_trips\": 26, \"num_competitive\": 26, \"pct_trips_competitive\": 1.0, \"bus_difference_spread\": 0.0, \"route_group\": \"short\", \"max_trip_hrs\": 0.47, \"max_trip_route_group\": 0.47, \"below_cutoff\": 26, \"pct_below_cutoff\": 1.0, \"name\": \"Presidio Trust\", \"caltrans_district\": \"04 - Oakland\", \"drmt_organization_name\": null, \"route_name\": null, \"cutoff2\": 20, \"cutoff\": 0}, {\"calitp_itp_id\": 257, \"trip_key\": 4402063661585196770, \"trip_id\": \"PH0630\", \"shape_id\": \"13738\", \"route_id\": \"673\", \"service_hours\": 0.47, \"trip_first_departure_ts\": 23400, \"trip_last_arrival_ts\": 25080, \"departure_hour\": 6, \"time_of_day\": \"Owl Service\", \"p25\": 0.47, \"p50\": 0.47, \"p75\": 0.47, \"p50_trip\": 1, \"fastest_trip\": 0, \"car_duration_hours\": 0.46, \"competitive_route\": 1, \"bus_multiplier\": 1.02, \"bus_difference\": 0.6, \"num_trips\": 26, \"num_competitive\": 26, \"pct_trips_competitive\": 1.0, \"bus_difference_spread\": 0.0, \"route_group\": \"short\", \"max_trip_hrs\": 0.47, \"max_trip_route_group\": 0.47, \"below_cutoff\": 26, \"pct_below_cutoff\": 1.0, \"name\": \"Presidio Trust\", \"caltrans_district\": \"04 - Oakland\", \"drmt_organization_name\": null, \"route_name\": null, \"cutoff2\": 20, \"cutoff\": 0}, {\"calitp_itp_id\": 257, \"trip_key\": 2198979731863317696, \"trip_id\": \"PH1300\", \"shape_id\": \"13738\", \"route_id\": \"673\", \"service_hours\": 0.47, \"trip_first_departure_ts\": 46800, \"trip_last_arrival_ts\": 48480, \"departure_hour\": 13, \"time_of_day\": \"Midday\", \"p25\": 0.47, \"p50\": 0.47, \"p75\": 0.47, \"p50_trip\": 1, \"fastest_trip\": 0, \"car_duration_hours\": 0.46, \"competitive_route\": 1, \"bus_multiplier\": 1.02, \"bus_difference\": 0.6, \"num_trips\": 26, \"num_competitive\": 26, \"pct_trips_competitive\": 1.0, \"bus_difference_spread\": 0.0, \"route_group\": \"short\", \"max_trip_hrs\": 0.47, \"max_trip_route_group\": 0.47, \"below_cutoff\": 26, \"pct_below_cutoff\": 1.0, \"name\": \"Presidio Trust\", \"caltrans_district\": \"04 - Oakland\", \"drmt_organization_name\": null, \"route_name\": null, \"cutoff2\": 20, \"cutoff\": 0}, {\"calitp_itp_id\": 257, \"trip_key\": 4465129888350886095, \"trip_id\": \"PH1000\", \"shape_id\": \"13738\", \"route_id\": \"673\", \"service_hours\": 0.47, \"trip_first_departure_ts\": 36000, \"trip_last_arrival_ts\": 37680, \"departure_hour\": 10, \"time_of_day\": \"Midday\", \"p25\": 0.47, \"p50\": 0.47, \"p75\": 0.47, \"p50_trip\": 1, \"fastest_trip\": 0, \"car_duration_hours\": 0.46, \"competitive_route\": 1, \"bus_multiplier\": 1.02, \"bus_difference\": 0.6, \"num_trips\": 26, \"num_competitive\": 26, \"pct_trips_competitive\": 1.0, \"bus_difference_spread\": 0.0, \"route_group\": \"short\", \"max_trip_hrs\": 0.47, \"max_trip_route_group\": 0.47, \"below_cutoff\": 26, \"pct_below_cutoff\": 1.0, \"name\": \"Presidio Trust\", \"caltrans_district\": \"04 - Oakland\", \"drmt_organization_name\": null, \"route_name\": null, \"cutoff2\": 20, \"cutoff\": 0}, {\"calitp_itp_id\": 257, \"trip_key\": -706500784622618480, \"trip_id\": \"PH1330\", \"shape_id\": \"13738\", \"route_id\": \"673\", \"service_hours\": 0.47, \"trip_first_departure_ts\": 48600, \"trip_last_arrival_ts\": 50280, \"departure_hour\": 13, \"time_of_day\": \"Midday\", \"p25\": 0.47, \"p50\": 0.47, \"p75\": 0.47, \"p50_trip\": 1, \"fastest_trip\": 0, \"car_duration_hours\": 0.46, \"competitive_route\": 1, \"bus_multiplier\": 1.02, \"bus_difference\": 0.6, \"num_trips\": 26, \"num_competitive\": 26, \"pct_trips_competitive\": 1.0, \"bus_difference_spread\": 0.0, \"route_group\": \"short\", \"max_trip_hrs\": 0.47, \"max_trip_route_group\": 0.47, \"below_cutoff\": 26, \"pct_below_cutoff\": 1.0, \"name\": \"Presidio Trust\", \"caltrans_district\": \"04 - Oakland\", \"drmt_organization_name\": null, \"route_name\": null, \"cutoff2\": 20, \"cutoff\": 0}, {\"calitp_itp_id\": 257, \"trip_key\": -5458182453157656639, \"trip_id\": \"PH1630\", \"shape_id\": \"13738\", \"route_id\": \"673\", \"service_hours\": 0.47, \"trip_first_departure_ts\": 59400, \"trip_last_arrival_ts\": 61080, \"departure_hour\": 16, \"time_of_day\": \"Midday\", \"p25\": 0.47, \"p50\": 0.47, \"p75\": 0.47, \"p50_trip\": 1, \"fastest_trip\": 0, \"car_duration_hours\": 0.46, \"competitive_route\": 1, \"bus_multiplier\": 1.02, \"bus_difference\": 0.6, \"num_trips\": 26, \"num_competitive\": 26, \"pct_trips_competitive\": 1.0, \"bus_difference_spread\": 0.0, \"route_group\": \"short\", \"max_trip_hrs\": 0.47, \"max_trip_route_group\": 0.47, \"below_cutoff\": 26, \"pct_below_cutoff\": 1.0, \"name\": \"Presidio Trust\", \"caltrans_district\": \"04 - Oakland\", \"drmt_organization_name\": null, \"route_name\": null, \"cutoff2\": 20, \"cutoff\": 0}, {\"calitp_itp_id\": 257, \"trip_key\": 1455696947016859298, \"trip_id\": \"PH1130\", \"shape_id\": \"13738\", \"route_id\": \"673\", \"service_hours\": 0.47, \"trip_first_departure_ts\": 41400, \"trip_last_arrival_ts\": 43080, \"departure_hour\": 11, \"time_of_day\": \"Midday\", \"p25\": 0.47, \"p50\": 0.47, \"p75\": 0.47, \"p50_trip\": 1, \"fastest_trip\": 0, \"car_duration_hours\": 0.46, \"competitive_route\": 1, \"bus_multiplier\": 1.02, \"bus_difference\": 0.6, \"num_trips\": 26, \"num_competitive\": 26, \"pct_trips_competitive\": 1.0, \"bus_difference_spread\": 0.0, \"route_group\": \"short\", \"max_trip_hrs\": 0.47, \"max_trip_route_group\": 0.47, \"below_cutoff\": 26, \"pct_below_cutoff\": 1.0, \"name\": \"Presidio Trust\", \"caltrans_district\": \"04 - Oakland\", \"drmt_organization_name\": null, \"route_name\": null, \"cutoff2\": 20, \"cutoff\": 0}, {\"calitp_itp_id\": 257, \"trip_key\": 4429099215239842536, \"trip_id\": \"PH1600\", \"shape_id\": \"13738\", \"route_id\": \"673\", \"service_hours\": 0.47, \"trip_first_departure_ts\": 57600, \"trip_last_arrival_ts\": 59280, \"departure_hour\": 16, \"time_of_day\": \"Midday\", \"p25\": 0.47, \"p50\": 0.47, \"p75\": 0.47, \"p50_trip\": 1, \"fastest_trip\": 0, \"car_duration_hours\": 0.46, \"competitive_route\": 1, \"bus_multiplier\": 1.02, \"bus_difference\": 0.6, \"num_trips\": 26, \"num_competitive\": 26, \"pct_trips_competitive\": 1.0, \"bus_difference_spread\": 0.0, \"route_group\": \"short\", \"max_trip_hrs\": 0.47, \"max_trip_route_group\": 0.47, \"below_cutoff\": 26, \"pct_below_cutoff\": 1.0, \"name\": \"Presidio Trust\", \"caltrans_district\": \"04 - Oakland\", \"drmt_organization_name\": null, \"route_name\": null, \"cutoff2\": 20, \"cutoff\": 0}, {\"calitp_itp_id\": 257, \"trip_key\": -4642411237546855353, \"trip_id\": \"PH1730\", \"shape_id\": \"13738\", \"route_id\": \"673\", \"service_hours\": 0.47, \"trip_first_departure_ts\": 63000, \"trip_last_arrival_ts\": 64680, \"departure_hour\": 17, \"time_of_day\": \"PM Peak\", \"p25\": 0.47, \"p50\": 0.47, \"p75\": 0.47, \"p50_trip\": 1, \"fastest_trip\": 0, \"car_duration_hours\": 0.46, \"competitive_route\": 1, \"bus_multiplier\": 1.02, \"bus_difference\": 0.6, \"num_trips\": 26, \"num_competitive\": 26, \"pct_trips_competitive\": 1.0, \"bus_difference_spread\": 0.0, \"route_group\": \"short\", \"max_trip_hrs\": 0.47, \"max_trip_route_group\": 0.47, \"below_cutoff\": 26, \"pct_below_cutoff\": 1.0, \"name\": \"Presidio Trust\", \"caltrans_district\": \"04 - Oakland\", \"drmt_organization_name\": null, \"route_name\": null, \"cutoff2\": 20, \"cutoff\": 0}, {\"calitp_itp_id\": 257, \"trip_key\": -6788171246304073674, \"trip_id\": \"PH1400\", \"shape_id\": \"13738\", \"route_id\": \"673\", \"service_hours\": 0.47, \"trip_first_departure_ts\": 50400, \"trip_last_arrival_ts\": 52080, \"departure_hour\": 14, \"time_of_day\": \"Midday\", \"p25\": 0.47, \"p50\": 0.47, \"p75\": 0.47, \"p50_trip\": 1, \"fastest_trip\": 0, \"car_duration_hours\": 0.46, \"competitive_route\": 1, \"bus_multiplier\": 1.02, \"bus_difference\": 0.6, \"num_trips\": 26, \"num_competitive\": 26, \"pct_trips_competitive\": 1.0, \"bus_difference_spread\": 0.0, \"route_group\": \"short\", \"max_trip_hrs\": 0.47, \"max_trip_route_group\": 0.47, \"below_cutoff\": 26, \"pct_below_cutoff\": 1.0, \"name\": \"Presidio Trust\", \"caltrans_district\": \"04 - Oakland\", \"drmt_organization_name\": null, \"route_name\": null, \"cutoff2\": 20, \"cutoff\": 0}]}}, {\"mode\": \"vega-lite\"});\n",
       "</script>"
      ],
      "text/plain": [
       "alt.FacetChart(...)"
      ]
     },
     "metadata": {},
     "output_type": "display_data"
    },
    {
     "data": {
      "text/html": [
       "<h4>Route Stats</h4>"
      ],
      "text/plain": [
       "<IPython.core.display.HTML object>"
      ]
     },
     "metadata": {},
     "output_type": "display_data"
    },
    {
     "data": {
      "text/html": [
       "<style type=\"text/css\">\n",
       "#T_e9dcd th {\n",
       "  text-align: center;\n",
       "}\n",
       "#T_e9dcd_row0_col0, #T_e9dcd_row0_col1 {\n",
       "  text-align: left;\n",
       "}\n",
       "#T_e9dcd_row0_col2, #T_e9dcd_row0_col3, #T_e9dcd_row0_col5 {\n",
       "  text-align: center;\n",
       "}\n",
       "</style>\n",
       "<table id=\"T_e9dcd\">\n",
       "  <thead>\n",
       "    <tr>\n",
       "      <th id=\"T_e9dcd_level0_col0\" class=\"col_heading level0 col0\" >Route ID</th>\n",
       "      <th id=\"T_e9dcd_level0_col1\" class=\"col_heading level0 col1\" >Route Name</th>\n",
       "      <th id=\"T_e9dcd_level0_col2\" class=\"col_heading level0 col2\" ># trips</th>\n",
       "      <th id=\"T_e9dcd_level0_col3\" class=\"col_heading level0 col3\" >Daily Avg Freq (trips per hr)</th>\n",
       "      <th id=\"T_e9dcd_level0_col4\" class=\"col_heading level0 col4\" >25th, 50th, 75th ptile (hrs)</th>\n",
       "      <th id=\"T_e9dcd_level0_col5\" class=\"col_heading level0 col5\" >PM Peak Avg Freq (trips per hr)</th>\n",
       "    </tr>\n",
       "  </thead>\n",
       "  <tbody>\n",
       "    <tr>\n",
       "      <td id=\"T_e9dcd_row0_col0\" class=\"data row0 col0\" >673</td>\n",
       "      <td id=\"T_e9dcd_row0_col1\" class=\"data row0 col1\" >None</td>\n",
       "      <td id=\"T_e9dcd_row0_col2\" class=\"data row0 col2\" >26</td>\n",
       "      <td id=\"T_e9dcd_row0_col3\" class=\"data row0 col3\" >1.08</td>\n",
       "      <td id=\"T_e9dcd_row0_col4\" class=\"data row0 col4\" >0.47, 0.47, 0.47</td>\n",
       "      <td id=\"T_e9dcd_row0_col5\" class=\"data row0 col5\" >nan</td>\n",
       "    </tr>\n",
       "  </tbody>\n",
       "</table>\n"
      ],
      "text/plain": [
       "<IPython.core.display.HTML object>"
      ]
     },
     "metadata": {},
     "output_type": "display_data"
    }
   ],
   "source": [
    "# Allow for possibility that operator doesn't have routes that fall into certain route_groups\n",
    "# But, jupyterbook will not like markdown with f-string\n",
    "# separate out route_group and put in each cell, and use try/except + if to display...\n",
    "# but all 3 route groups must be displayed. just add sentence about why no routes were returned at the end\n",
    "route_group = \"short\"\n",
    "try:\n",
    "    display_charts_for_route_group(df, route_group)\n",
    "except:\n",
    "    print(\"No routes meet this criteria.\")"
   ]
  },
  {
   "cell_type": "markdown",
   "id": "c2931b6f-034d-4384-9e14-80b925e3b820",
   "metadata": {
    "papermill": {
     "duration": 0.017786,
     "end_time": "2022-05-12T19:13:59.814206",
     "exception": false,
     "start_time": "2022-05-12T19:13:59.796420",
     "status": "completed"
    },
    "tags": []
   },
   "source": [
    "### Medium Routes (1-1.5 hrs)"
   ]
  },
  {
   "cell_type": "code",
   "execution_count": 15,
   "id": "480edddc-4de0-48c2-ae4c-b0ceef8f28b5",
   "metadata": {
    "execution": {
     "iopub.execute_input": "2022-05-12T19:13:59.851183Z",
     "iopub.status.busy": "2022-05-12T19:13:59.850213Z",
     "iopub.status.idle": "2022-05-12T19:13:59.862893Z",
     "shell.execute_reply": "2022-05-12T19:13:59.861900Z"
    },
    "jupyter": {
     "source_hidden": true
    },
    "papermill": {
     "duration": 0.033886,
     "end_time": "2022-05-12T19:13:59.864931",
     "exception": false,
     "start_time": "2022-05-12T19:13:59.831045",
     "status": "completed"
    },
    "tags": [
     "remove_input"
    ]
   },
   "outputs": [
    {
     "name": "stdout",
     "output_type": "stream",
     "text": [
      "No routes meet this criteria.\n"
     ]
    }
   ],
   "source": [
    "route_group = \"medium\"\n",
    "try:\n",
    "    display_charts_for_route_group(df, route_group)\n",
    "except:\n",
    "    print(\"No routes meet this criteria.\")"
   ]
  },
  {
   "cell_type": "markdown",
   "id": "124b76d0-886c-4d03-92ac-f1bda3cda182",
   "metadata": {
    "papermill": {
     "duration": 0.021648,
     "end_time": "2022-05-12T19:13:59.910715",
     "exception": false,
     "start_time": "2022-05-12T19:13:59.889067",
     "status": "completed"
    },
    "tags": []
   },
   "source": [
    "### Long Routes (> 1.5 hrs)"
   ]
  },
  {
   "cell_type": "code",
   "execution_count": 16,
   "id": "ddc81b19-4c45-4c81-8b7a-5e0f394aa7a3",
   "metadata": {
    "execution": {
     "iopub.execute_input": "2022-05-12T19:13:59.947928Z",
     "iopub.status.busy": "2022-05-12T19:13:59.947005Z",
     "iopub.status.idle": "2022-05-12T19:13:59.959466Z",
     "shell.execute_reply": "2022-05-12T19:13:59.958501Z"
    },
    "jupyter": {
     "source_hidden": true
    },
    "papermill": {
     "duration": 0.033215,
     "end_time": "2022-05-12T19:13:59.961493",
     "exception": false,
     "start_time": "2022-05-12T19:13:59.928278",
     "status": "completed"
    },
    "tags": [
     "remove_input"
    ]
   },
   "outputs": [
    {
     "name": "stdout",
     "output_type": "stream",
     "text": [
      "No routes meet this criteria.\n"
     ]
    }
   ],
   "source": [
    "route_group = \"long\"\n",
    "try:\n",
    "    display_charts_for_route_group(df, route_group)\n",
    "except:\n",
    "    print(\"No routes meet this criteria.\")"
   ]
  },
  {
   "cell_type": "markdown",
   "id": "ace75b5f-0442-4fbe-aebd-6c3a13ae13a7",
   "metadata": {
    "papermill": {
     "duration": 0.024703,
     "end_time": "2022-05-12T19:14:00.003783",
     "exception": false,
     "start_time": "2022-05-12T19:13:59.979080",
     "status": "completed"
    },
    "tags": []
   },
   "source": [
    "### GTFS Real-Time Speedmaps"
   ]
  },
  {
   "cell_type": "code",
   "execution_count": 17,
   "id": "a0a114a1-e975-4027-9daf-50029f5ef59f",
   "metadata": {
    "execution": {
     "iopub.execute_input": "2022-05-12T19:14:00.040805Z",
     "iopub.status.busy": "2022-05-12T19:14:00.040113Z",
     "iopub.status.idle": "2022-05-12T19:14:00.063090Z",
     "shell.execute_reply": "2022-05-12T19:14:00.062313Z"
    },
    "jupyter": {
     "source_hidden": true
    },
    "papermill": {
     "duration": 0.043625,
     "end_time": "2022-05-12T19:14:00.064986",
     "exception": false,
     "start_time": "2022-05-12T19:14:00.021361",
     "status": "completed"
    },
    "tags": [
     "remove_input"
    ]
   },
   "outputs": [
    {
     "data": {
      "text/html": [
       "No GTFS RT data available."
      ],
      "text/plain": [
       "<IPython.core.display.HTML object>"
      ]
     },
     "metadata": {},
     "output_type": "display_data"
    }
   ],
   "source": [
    "RT_SITE_YAML = \"../portfolio/sites/rt.yml\"\n",
    "\n",
    "# Grab list of ITP IDs with GTFS RT speedmaps\n",
    "rt_itp_id = deploy_portfolio_yaml.check_if_rt_data_available(RT_SITE_YAML)\n",
    "\n",
    "# Construct the URL \n",
    "RT_URL = (\"https://analysis.calitp.org/rt/\"\n",
    "          f\"district_{district_number}-{district_name}/\"\n",
    "          f\"speedmaps__itp_id_{itp_id}.html\"\n",
    "         ) \n",
    "\n",
    "# If this ITP ID is found in RT analysis, give URL to that operator in analysis.calitp.org\n",
    "if itp_id in rt_itp_id:\n",
    "    display(HTML(f'''<a href={RT_URL}>GTFS RT speedmaps here.</a>'''))\n",
    "\n",
    "else:\n",
    "    display(HTML(\"No GTFS RT data available.\"))"
   ]
  },
  {
   "cell_type": "code",
   "execution_count": null,
   "id": "5b680565-2230-4f2e-817c-718fad48d64c",
   "metadata": {
    "jupyter": {
     "source_hidden": true
    },
    "papermill": {
     "duration": 0.021645,
     "end_time": "2022-05-12T19:14:00.105034",
     "exception": false,
     "start_time": "2022-05-12T19:14:00.083389",
     "status": "completed"
    },
    "tags": [
     "remove_input"
    ]
   },
   "outputs": [],
   "source": []
  }
 ],
 "metadata": {
  "kernelspec": {
   "display_name": "Python 3 (ipykernel)",
   "language": "python",
   "name": "python3"
  },
  "language_info": {
   "codemirror_mode": {
    "name": "ipython",
    "version": 3
   },
   "file_extension": ".py",
   "mimetype": "text/x-python",
   "name": "python",
   "nbconvert_exporter": "python",
   "pygments_lexer": "ipython3",
   "version": "3.9.12"
  },
  "papermill": {
   "default_parameters": {},
   "duration": 23.773161,
   "end_time": "2022-05-12T19:14:01.346014",
   "environment_variables": {},
   "exception": null,
   "input_path": "bus_service_increase/competitive-parallel-routes.ipynb",
   "output_path": "portfolio/parallel_corridors/district_04-oakland/12__competitive-parallel-routes__district_04-oakland__itp_id_257.ipynb",
   "parameters": {
    "district": "04 - Oakland",
    "itp_id": 257
   },
   "start_time": "2022-05-12T19:13:37.572853",
   "version": "2.3.4"
  }
 },
 "nbformat": 4,
 "nbformat_minor": 5
}