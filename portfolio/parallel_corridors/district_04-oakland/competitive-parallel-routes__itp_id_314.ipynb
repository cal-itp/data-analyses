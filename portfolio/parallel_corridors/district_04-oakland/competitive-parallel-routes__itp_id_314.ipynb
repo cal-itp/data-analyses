{
 "cells": [
  {
   "cell_type": "code",
   "execution_count": 1,
   "id": "95d00857-6a20-4529-a519-2cc7182928a9",
   "metadata": {
    "execution": {
     "iopub.execute_input": "2022-05-09T19:48:06.374123Z",
     "iopub.status.busy": "2022-05-09T19:48:06.373474Z",
     "iopub.status.idle": "2022-05-09T19:48:16.582219Z",
     "shell.execute_reply": "2022-05-09T19:48:16.581029Z"
    },
    "jupyter": {
     "source_hidden": true
    },
    "papermill": {
     "duration": 10.227918,
     "end_time": "2022-05-09T19:48:16.585696",
     "exception": false,
     "start_time": "2022-05-09T19:48:06.357778",
     "status": "completed"
    },
    "tags": [
     "remove_input"
    ]
   },
   "outputs": [],
   "source": [
    "%%capture\n",
    "import warnings\n",
    "warnings.filterwarnings('ignore')\n",
    "\n",
    "import altair as alt\n",
    "import calitp.magics\n",
    "import geopandas as gpd\n",
    "import intake\n",
    "import pandas as pd\n",
    "\n",
    "from IPython.display import display, Markdown, HTML\n",
    "\n",
    "import parallel_corridors_utils\n",
    "from shared_utils import styleguide\n",
    "import deploy_portfolio_yaml\n",
    "\n",
    "catalog = intake.open_catalog(\"./*.yml\")\n",
    "alt.renderers.enable(\"html\")"
   ]
  },
  {
   "cell_type": "code",
   "execution_count": 2,
   "id": "8af2a0c1-f3da-408d-9bea-11d9fbf8695d",
   "metadata": {
    "execution": {
     "iopub.execute_input": "2022-05-09T19:48:16.641749Z",
     "iopub.status.busy": "2022-05-09T19:48:16.640871Z",
     "iopub.status.idle": "2022-05-09T19:48:16.647494Z",
     "shell.execute_reply": "2022-05-09T19:48:16.646377Z"
    },
    "jupyter": {
     "source_hidden": true
    },
    "papermill": {
     "duration": 0.041599,
     "end_time": "2022-05-09T19:48:16.655892",
     "exception": false,
     "start_time": "2022-05-09T19:48:16.614293",
     "status": "completed"
    },
    "tags": [
     "parameters",
     "remove_input"
    ]
   },
   "outputs": [],
   "source": [
    "# parameters cell\n",
    "itp_id = 182"
   ]
  },
  {
   "cell_type": "code",
   "execution_count": 3,
   "id": "9a66f463",
   "metadata": {
    "execution": {
     "iopub.execute_input": "2022-05-09T19:48:16.704020Z",
     "iopub.status.busy": "2022-05-09T19:48:16.703561Z",
     "iopub.status.idle": "2022-05-09T19:48:16.712853Z",
     "shell.execute_reply": "2022-05-09T19:48:16.711734Z"
    },
    "jupyter": {
     "source_hidden": true
    },
    "papermill": {
     "duration": 0.037063,
     "end_time": "2022-05-09T19:48:16.715778",
     "exception": false,
     "start_time": "2022-05-09T19:48:16.678715",
     "status": "completed"
    },
    "tags": [
     "injected-parameters",
     "remove_input"
    ]
   },
   "outputs": [],
   "source": [
    "# Parameters\n",
    "district = \"04 - Oakland\"\n",
    "itp_id = 314\n"
   ]
  },
  {
   "cell_type": "code",
   "execution_count": 4,
   "id": "9582aaf4-79ff-412a-b248-8d8d693ebd4f",
   "metadata": {
    "execution": {
     "iopub.execute_input": "2022-05-09T19:48:16.760232Z",
     "iopub.status.busy": "2022-05-09T19:48:16.759719Z",
     "iopub.status.idle": "2022-05-09T19:48:18.188209Z",
     "shell.execute_reply": "2022-05-09T19:48:18.187077Z"
    },
    "jupyter": {
     "source_hidden": true
    },
    "papermill": {
     "duration": 1.453905,
     "end_time": "2022-05-09T19:48:18.191479",
     "exception": false,
     "start_time": "2022-05-09T19:48:16.737574",
     "status": "completed"
    },
    "tags": [
     "remove_input"
    ]
   },
   "outputs": [],
   "source": [
    "df = catalog.competitive_route_variability.read()\n",
    "\n",
    "df = (df[(df.calitp_itp_id == itp_id) & \n",
    "         (df.route_group.notna())]\n",
    "      .reset_index(drop=True)\n",
    "     )\n",
    "\n",
    "\n",
    "if itp_id == 182:\n",
    "    df = df.assign(\n",
    "        route_id = df.route_id.str.replace('-13153', '').astype(int)\n",
    "    )"
   ]
  },
  {
   "cell_type": "code",
   "execution_count": 5,
   "id": "33ac4b06-f647-4dce-a625-8f2c1b37cc60",
   "metadata": {
    "execution": {
     "iopub.execute_input": "2022-05-09T19:48:18.222087Z",
     "iopub.status.busy": "2022-05-09T19:48:18.221735Z",
     "iopub.status.idle": "2022-05-09T19:48:18.234337Z",
     "shell.execute_reply": "2022-05-09T19:48:18.233298Z"
    },
    "jupyter": {
     "source_hidden": true
    },
    "papermill": {
     "duration": 0.031477,
     "end_time": "2022-05-09T19:48:18.236837",
     "exception": false,
     "start_time": "2022-05-09T19:48:18.205360",
     "status": "completed"
    },
    "tags": [
     "remove_input"
    ]
   },
   "outputs": [],
   "source": [
    "%%capture_parameters\n",
    "operator_name = df.name.iloc[0]\n",
    "district_number = f\"{df.caltrans_district.iloc[0].split('-')[0].strip()}\"\n",
    "district_name = f\"{df.caltrans_district.iloc[0].split('-')[1].strip().lower().replace(' ', '-')}\"\n",
    "\n",
    "itp_id, operator_name, district_number, district_name"
   ]
  },
  {
   "cell_type": "markdown",
   "id": "65bc6f5c-8348-42ee-b2dd-52057c406852",
   "metadata": {
    "papermill": {
     "duration": 0.014724,
     "end_time": "2022-05-09T19:48:18.264960",
     "exception": false,
     "start_time": "2022-05-09T19:48:18.250236",
     "status": "completed"
    },
    "tags": []
   },
   "source": [
    "# Sonoma County (ITP ID: 314)"
   ]
  },
  {
   "cell_type": "code",
   "execution_count": 6,
   "id": "a689c1ab-2c6c-4831-8d64-897f5986f571",
   "metadata": {
    "execution": {
     "iopub.execute_input": "2022-05-09T19:48:18.294526Z",
     "iopub.status.busy": "2022-05-09T19:48:18.293780Z",
     "iopub.status.idle": "2022-05-09T19:48:18.310494Z",
     "shell.execute_reply": "2022-05-09T19:48:18.309450Z"
    },
    "jupyter": {
     "source_hidden": true
    },
    "papermill": {
     "duration": 0.035201,
     "end_time": "2022-05-09T19:48:18.313302",
     "exception": false,
     "start_time": "2022-05-09T19:48:18.278101",
     "status": "completed"
    },
    "tags": [
     "remove_input"
    ]
   },
   "outputs": [
    {
     "data": {
      "text/html": [
       "<h1>Competitive & Parallel Routes</h1>"
      ],
      "text/plain": [
       "<IPython.core.display.HTML object>"
      ]
     },
     "metadata": {},
     "output_type": "display_data"
    }
   ],
   "source": [
    "display(HTML(\"<h1>Competitive & Parallel Routes</h1>\")) "
   ]
  },
  {
   "cell_type": "code",
   "execution_count": 7,
   "id": "2cb4d8d5-4760-40e4-85b1-cb833d8bb648",
   "metadata": {
    "execution": {
     "iopub.execute_input": "2022-05-09T19:48:18.346861Z",
     "iopub.status.busy": "2022-05-09T19:48:18.345876Z",
     "iopub.status.idle": "2022-05-09T19:48:30.876646Z",
     "shell.execute_reply": "2022-05-09T19:48:30.875212Z"
    },
    "jupyter": {
     "source_hidden": true
    },
    "papermill": {
     "duration": 12.552789,
     "end_time": "2022-05-09T19:48:30.879539",
     "exception": false,
     "start_time": "2022-05-09T19:48:18.326750",
     "status": "completed"
    },
    "tags": [
     "remove_input"
    ]
   },
   "outputs": [],
   "source": [
    "# Grab parameters for narrative text - clean up formatting here \n",
    "district = df.caltrans_district.iloc[0]\n",
    "formatted_date = pd.to_datetime(parallel_corridors_utils.SELECTED_DATE).strftime('%m-%d-%Y')\n",
    "\n",
    "PCT_COMPETITIVE_THRESHOLD = 0.75\n",
    "\n",
    "stats = parallel_corridors_utils.operator_parallel_competitive_stats(\n",
    "    itp_id, PCT_COMPETITIVE_THRESHOLD)\n",
    "\n",
    "pct_parallel = round(stats['parallel_routes'] / stats['num_routes'] * 100,1 )\n",
    "pct_competitive =  round(stats['competitive_routes'] / stats['num_routes'] * 100,1 )"
   ]
  },
  {
   "cell_type": "markdown",
   "id": "ab667928-5274-4490-82d9-4c39293209a4",
   "metadata": {
    "papermill": {
     "duration": 0.015053,
     "end_time": "2022-05-09T19:48:30.909219",
     "exception": false,
     "start_time": "2022-05-09T19:48:30.894166",
     "status": "completed"
    },
    "tags": []
   },
   "source": [
    "## Quick Stats"
   ]
  },
  {
   "cell_type": "code",
   "execution_count": 8,
   "id": "0416509d-dc62-4165-b62e-64f8b26e8b8e",
   "metadata": {
    "execution": {
     "iopub.execute_input": "2022-05-09T19:48:30.940312Z",
     "iopub.status.busy": "2022-05-09T19:48:30.939189Z",
     "iopub.status.idle": "2022-05-09T19:48:30.947357Z",
     "shell.execute_reply": "2022-05-09T19:48:30.946344Z"
    },
    "jupyter": {
     "source_hidden": true
    },
    "papermill": {
     "duration": 0.026425,
     "end_time": "2022-05-09T19:48:30.949757",
     "exception": false,
     "start_time": "2022-05-09T19:48:30.923332",
     "status": "completed"
    },
    "tags": [
     "remove_input"
    ]
   },
   "outputs": [
    {
     "data": {
      "text/markdown": [
       "**Bus routes in service**: 43 <br>**Parallel routes** to State Highway Network (SHN): 19 routes (44.2%)<br>**Competitive routes** against car travel: 9 routes (20.9%)"
      ],
      "text/plain": [
       "<IPython.core.display.Markdown object>"
      ]
     },
     "metadata": {},
     "output_type": "display_data"
    }
   ],
   "source": [
    "display(\n",
    "    Markdown(\n",
    "        f\"**Bus routes in service**: {stats['num_routes']} \"\n",
    "        \"<br>**Parallel routes** to State Highway Network (SHN): \"\n",
    "        f\"{stats['parallel_routes']} routes ({pct_parallel}%)\"\n",
    "        f\"<br>**Competitive routes** against car travel: {stats['competitive_routes']} routes ({pct_competitive}%)\"\n",
    "    )\n",
    ")"
   ]
  },
  {
   "cell_type": "code",
   "execution_count": 9,
   "id": "f9d6ab58-f0ee-460c-b6de-657490e1f386",
   "metadata": {
    "execution": {
     "iopub.execute_input": "2022-05-09T19:48:30.981879Z",
     "iopub.status.busy": "2022-05-09T19:48:30.981525Z",
     "iopub.status.idle": "2022-05-09T19:48:30.994099Z",
     "shell.execute_reply": "2022-05-09T19:48:30.993026Z"
    },
    "jupyter": {
     "source_hidden": true
    },
    "papermill": {
     "duration": 0.03231,
     "end_time": "2022-05-09T19:48:30.996779",
     "exception": false,
     "start_time": "2022-05-09T19:48:30.964469",
     "status": "completed"
    },
    "tags": [
     "remove_input"
    ]
   },
   "outputs": [],
   "source": [
    "def set_yaxis_range(df, y_col):\n",
    "    Y_MIN = df[y_col].min()\n",
    "    Y_MAX = df[y_col].max()\n",
    "    \n",
    "    return Y_MIN, Y_MAX\n",
    "\n",
    "# Rather than set it according to the operator, which can vary,\n",
    "# just use set thresholds for each group\n",
    "diff_cutoffs = parallel_corridors_utils.diff_cutoffs\n",
    "\n",
    "PCT_TRIPS_BELOW_CUTOFF = 0.25\n",
    "\n",
    "def top15_routes(df, route_group):\n",
    "    df2 = (df[df.route_group==route_group])\n",
    "    # Set a cut-off to enable sorting, where most of the trips are \n",
    "    # below a certain time difference cut-off, \n",
    "    # grab top 15 routes where majority of trips are below that cut-off \n",
    "\n",
    "    route_cols = [\"calitp_itp_id\", \"route_id\"]\n",
    "\n",
    "    df2 = df2.assign(\n",
    "        below_cutoff = df2.apply(lambda x: 1 if x.bus_difference <= diff_cutoffs[route_group] \n",
    "                                 else 0, axis=1),\n",
    "        num_trips = df2.groupby(route_cols)[\"trip_id\"].transform(\"count\")\n",
    "    )\n",
    "\n",
    "    df2[\"below_cutoff\"] = df2.groupby(route_cols)[\"below_cutoff\"].transform(\"sum\")\n",
    "    df2[\"pct_below_cutoff\"] = df2.below_cutoff.divide(df2.num_trips)\n",
    "\n",
    "    # At least half the trips are below that cut-off\n",
    "    # but show 15 max, otherwise, show less, since these won't be as interesting to operators\n",
    "    df3 = (df2[df2.pct_below_cutoff >= PCT_TRIPS_BELOW_CUTOFF]\n",
    "           .sort_values([\"calitp_itp_id\", \"below_cutoff\", \n",
    "                         \"pct_below_cutoff\", \"route_id\"],\n",
    "                        ascending = [True, False, False, True]\n",
    "                       )\n",
    "           .drop_duplicates(subset=[\"calitp_itp_id\", \"route_id\"])\n",
    "          ).head(15)\n",
    "    \n",
    "    return list(df3.route_id)"
   ]
  },
  {
   "cell_type": "code",
   "execution_count": 10,
   "id": "cf36d559-3349-4144-8086-8ac9ce937a5a",
   "metadata": {
    "execution": {
     "iopub.execute_input": "2022-05-09T19:48:31.034985Z",
     "iopub.status.busy": "2022-05-09T19:48:31.034687Z",
     "iopub.status.idle": "2022-05-09T19:48:31.041042Z",
     "shell.execute_reply": "2022-05-09T19:48:31.040066Z"
    },
    "jupyter": {
     "source_hidden": true
    },
    "papermill": {
     "duration": 0.024079,
     "end_time": "2022-05-09T19:48:31.043114",
     "exception": false,
     "start_time": "2022-05-09T19:48:31.019035",
     "status": "completed"
    },
    "tags": [
     "remove_input"
    ]
   },
   "outputs": [],
   "source": [
    "def caption_with_cutoff(cutoff):\n",
    "    sentence = (\n",
    "        f\"<br>These are routes that have **at least {int(PCT_TRIPS_BELOW_CUTOFF*100)}% \"\n",
    "        \"of their trips take no more than an \"\n",
    "        f\"additional {cutoff} min** compared to a car \"\n",
    "        \"(up to 15 routes) are shown.\"\n",
    "        \"<br>Within each route group, routes are sorted in descending order \"\n",
    "        \"by % competitive trips and # trips below the additional time cut-off.\"\n",
    "    )\n",
    "    return sentence\n",
    "\n",
    "CAPTIONS_DICT = {\n",
    "    \"short\": caption_with_cutoff(diff_cutoffs['short']),\n",
    "    \"medium\": caption_with_cutoff(diff_cutoffs['medium']),\n",
    "    \"long\": caption_with_cutoff(diff_cutoffs['long']),\n",
    "}"
   ]
  },
  {
   "cell_type": "code",
   "execution_count": 11,
   "id": "e4306d58-6944-47e9-afef-5d5b524c751f",
   "metadata": {
    "execution": {
     "iopub.execute_input": "2022-05-09T19:48:31.074984Z",
     "iopub.status.busy": "2022-05-09T19:48:31.074376Z",
     "iopub.status.idle": "2022-05-09T19:48:31.082536Z",
     "shell.execute_reply": "2022-05-09T19:48:31.081655Z"
    },
    "jupyter": {
     "source_hidden": true
    },
    "papermill": {
     "duration": 0.02774,
     "end_time": "2022-05-09T19:48:31.085036",
     "exception": false,
     "start_time": "2022-05-09T19:48:31.057296",
     "status": "completed"
    },
    "tags": [
     "remove_input"
    ]
   },
   "outputs": [],
   "source": [
    "def setup_charts(df, PCT_COMPETITIVE_THRESHOLD, route_group):\n",
    "    # Set up df for charting (cut-off at some threshold to show most competitive routes)\n",
    "    plot_me = (df[df.pct_trips_competitive > PCT_COMPETITIVE_THRESHOLD]\n",
    "           .drop(columns = \"geometry\")\n",
    "    )\n",
    "    \n",
    "    y_col1 = \"bus_multiplier\"\n",
    "    Y_MIN1, Y_MAX1 = set_yaxis_range(plot_me, y_col1)\n",
    "\n",
    "    y_col2 = \"bus_difference\"\n",
    "    Y_MIN2, Y_MAX2 = set_yaxis_range(plot_me, y_col2)\n",
    "     \n",
    "    subset_routes = top15_routes(plot_me, route_group)\n",
    "    \n",
    "    multiplier_chart = parallel_corridors_utils.make_stripplot(\n",
    "        plot_me[plot_me.route_id.isin(subset_routes)], \n",
    "        y_col1, Y_MIN = Y_MIN1, Y_MAX = Y_MAX1\n",
    "    )\n",
    "    \n",
    "    difference_chart = parallel_corridors_utils.make_stripplot(\n",
    "        plot_me[plot_me.route_id.isin(subset_routes)], \n",
    "        y_col2, Y_MIN = Y_MIN2, Y_MAX = Y_MAX2\n",
    "    )\n",
    "    \n",
    "    return subset_routes, multiplier_chart, difference_chart            "
   ]
  },
  {
   "cell_type": "code",
   "execution_count": 12,
   "id": "33a710e8-504c-4942-aa75-ff69f216956e",
   "metadata": {
    "execution": {
     "iopub.execute_input": "2022-05-09T19:48:31.128028Z",
     "iopub.status.busy": "2022-05-09T19:48:31.127355Z",
     "iopub.status.idle": "2022-05-09T19:48:31.134377Z",
     "shell.execute_reply": "2022-05-09T19:48:31.133185Z"
    },
    "jupyter": {
     "source_hidden": true
    },
    "papermill": {
     "duration": 0.03077,
     "end_time": "2022-05-09T19:48:31.137284",
     "exception": false,
     "start_time": "2022-05-09T19:48:31.106514",
     "status": "completed"
    },
    "tags": [
     "remove_input"
    ]
   },
   "outputs": [],
   "source": [
    "def display_charts_for_route_group(df, route_group):    \n",
    "    subset_routes, mult, diff  = setup_charts(df, PCT_COMPETITIVE_THRESHOLD, route_group)\n",
    "\n",
    "    if len(subset_routes) > 0:\n",
    "        display(Markdown(f\"{CAPTIONS_DICT[route_group]}\"))\n",
    "\n",
    "        display(mult)\n",
    "        display(diff)"
   ]
  },
  {
   "cell_type": "markdown",
   "id": "525f9b38-072b-46d1-96a8-1aa4b038357c",
   "metadata": {
    "papermill": {
     "duration": 0.021038,
     "end_time": "2022-05-09T19:48:31.178073",
     "exception": false,
     "start_time": "2022-05-09T19:48:31.157035",
     "status": "completed"
    },
    "tags": []
   },
   "source": [
    "## Viable Competitive Routes\n",
    "### Short Routes (< 1 hr)"
   ]
  },
  {
   "cell_type": "code",
   "execution_count": 13,
   "id": "57f7084c-2cf7-45c6-ba08-1609e0bd6ca5",
   "metadata": {
    "execution": {
     "iopub.execute_input": "2022-05-09T19:48:31.251767Z",
     "iopub.status.busy": "2022-05-09T19:48:31.251349Z",
     "iopub.status.idle": "2022-05-09T19:48:31.574796Z",
     "shell.execute_reply": "2022-05-09T19:48:31.573686Z"
    },
    "jupyter": {
     "source_hidden": true
    },
    "papermill": {
     "duration": 0.355752,
     "end_time": "2022-05-09T19:48:31.577970",
     "exception": false,
     "start_time": "2022-05-09T19:48:31.222218",
     "status": "completed"
    },
    "tags": [
     "remove_input"
    ]
   },
   "outputs": [
    {
     "data": {
      "text/markdown": [
       "<br>These are routes that have **at least 25% of their trips take no more than an additional 20 min** compared to a car (up to 15 routes) are shown.<br>Within each route group, routes are sorted in descending order by % competitive trips and # trips below the additional time cut-off."
      ],
      "text/plain": [
       "<IPython.core.display.Markdown object>"
      ]
     },
     "metadata": {},
     "output_type": "display_data"
    },
    {
     "data": {
      "text/html": [
       "\n",
       "<div id=\"altair-viz-332e8297c7474d9da57eec6bfacf8e77\"></div>\n",
       "<script type=\"text/javascript\">\n",
       "  var VEGA_DEBUG = (typeof VEGA_DEBUG == \"undefined\") ? {} : VEGA_DEBUG;\n",
       "  (function(spec, embedOpt){\n",
       "    let outputDiv = document.currentScript.previousElementSibling;\n",
       "    if (outputDiv.id !== \"altair-viz-332e8297c7474d9da57eec6bfacf8e77\") {\n",
       "      outputDiv = document.getElementById(\"altair-viz-332e8297c7474d9da57eec6bfacf8e77\");\n",
       "    }\n",
       "    const paths = {\n",
       "      \"vega\": \"https://cdn.jsdelivr.net/npm//vega@5?noext\",\n",
       "      \"vega-lib\": \"https://cdn.jsdelivr.net/npm//vega-lib?noext\",\n",
       "      \"vega-lite\": \"https://cdn.jsdelivr.net/npm//vega-lite@4.17.0?noext\",\n",
       "      \"vega-embed\": \"https://cdn.jsdelivr.net/npm//vega-embed@6?noext\",\n",
       "    };\n",
       "\n",
       "    function maybeLoadScript(lib, version) {\n",
       "      var key = `${lib.replace(\"-\", \"\")}_version`;\n",
       "      return (VEGA_DEBUG[key] == version) ?\n",
       "        Promise.resolve(paths[lib]) :\n",
       "        new Promise(function(resolve, reject) {\n",
       "          var s = document.createElement('script');\n",
       "          document.getElementsByTagName(\"head\")[0].appendChild(s);\n",
       "          s.async = true;\n",
       "          s.onload = () => {\n",
       "            VEGA_DEBUG[key] = version;\n",
       "            return resolve(paths[lib]);\n",
       "          };\n",
       "          s.onerror = () => reject(`Error loading script: ${paths[lib]}`);\n",
       "          s.src = paths[lib];\n",
       "        });\n",
       "    }\n",
       "\n",
       "    function showError(err) {\n",
       "      outputDiv.innerHTML = `<div class=\"error\" style=\"color:red;\">${err}</div>`;\n",
       "      throw err;\n",
       "    }\n",
       "\n",
       "    function displayChart(vegaEmbed) {\n",
       "      vegaEmbed(outputDiv, spec, embedOpt)\n",
       "        .catch(err => showError(`Javascript Error: ${err.message}<br>This usually means there's a typo in your chart specification. See the javascript console for the full traceback.`));\n",
       "    }\n",
       "\n",
       "    if(typeof define === \"function\" && define.amd) {\n",
       "      requirejs.config({paths});\n",
       "      require([\"vega-embed\"], displayChart, err => showError(`Error loading script: ${err.message}`));\n",
       "    } else {\n",
       "      maybeLoadScript(\"vega\", \"5\")\n",
       "        .then(() => maybeLoadScript(\"vega-lite\", \"4.17.0\"))\n",
       "        .then(() => maybeLoadScript(\"vega-embed\", \"6\"))\n",
       "        .catch(showError)\n",
       "        .then(() => displayChart(vegaEmbed));\n",
       "    }\n",
       "  })({\"config\": {\"view\": {\"continuousWidth\": 400, \"continuousHeight\": 300, \"stroke\": null}, \"facet\": {\"spacing\": 0}}, \"data\": {\"name\": \"data-3ceb8992156533715897bf3c16efaa36\"}, \"facet\": {\"column\": {\"field\": \"route_id\", \"sort\": [\"1037\", \"1031\", \"1044\", \"1039\", \"1051\"], \"title\": \"Route ID\", \"type\": \"nominal\"}}, \"spec\": {\"layer\": [{\"mark\": \"rule\", \"encoding\": {\"color\": {\"value\": \"black\"}, \"y\": {\"field\": \"cutoff\", \"type\": \"quantitative\"}}, \"selection\": {\"selector001\": {\"type\": \"interval\", \"bind\": \"scales\", \"encodings\": [\"x\", \"y\"]}}}, {\"mark\": {\"type\": \"point\", \"opacity\": 0.65, \"size\": 12, \"strokeWidth\": 1.1}, \"encoding\": {\"color\": {\"field\": \"time_of_day\", \"scale\": {\"range\": [\"#136C97\", \"#E16B26\", \"#F6BF16\", \"#00896B\", \"#7790A3\", \"#5B559C\"]}, \"sort\": [\"AM Peak\", \"Midday\", \"PM Peak\", \"Owl Service\"], \"title\": \"Time of Day\", \"type\": \"nominal\"}, \"tooltip\": [{\"field\": \"route_id\", \"type\": \"nominal\"}, {\"field\": \"trip_id\", \"type\": \"nominal\"}, {\"field\": \"service_hours\", \"type\": \"quantitative\"}, {\"field\": \"car_duration_hours\", \"type\": \"quantitative\"}, {\"field\": \"bus_multiplier\", \"type\": \"quantitative\"}, {\"field\": \"bus_difference\", \"type\": \"quantitative\"}, {\"field\": \"num_trips\", \"type\": \"quantitative\"}, {\"field\": \"num_competitive\", \"type\": \"quantitative\"}, {\"field\": \"pct_trips_competitive\", \"type\": \"quantitative\"}, {\"field\": \"p25\", \"type\": \"quantitative\"}, {\"field\": \"p50\", \"type\": \"quantitative\"}, {\"field\": \"p75\", \"type\": \"quantitative\"}], \"x\": {\"axis\": {\"grid\": false, \"labels\": false, \"ticks\": true, \"values\": [0]}, \"field\": \"jitter\", \"scale\": {}, \"title\": null, \"type\": \"quantitative\"}, \"y\": {\"field\": \"bus_multiplier\", \"scale\": {\"domain\": [-0.25, 2.5]}, \"title\": \"Ratio of Bus to Car Travel Time\", \"type\": \"quantitative\"}}, \"transform\": [{\"calculate\": \"sqrt(-2*log(random()))*cos(2*PI*random())\", \"as\": \"jitter\"}], \"width\": 50}, {\"layer\": [{\"mark\": {\"type\": \"point\", \"opacity\": 0.6, \"size\": 20, \"strokeWidth\": 1.3}, \"encoding\": {\"color\": {\"value\": \"#323434\"}, \"y\": {\"field\": \"bus_multiplier\", \"type\": \"quantitative\"}}, \"transform\": [{\"filter\": \"(datum.p50_trip === 1)\"}]}, {\"mark\": {\"type\": \"text\", \"align\": \"center\", \"baseline\": \"middle\"}, \"encoding\": {\"color\": {\"value\": \"black\"}, \"text\": {\"field\": \"pct_trips_competitive\", \"format\": \".0%\", \"type\": \"quantitative\"}, \"tooltip\": [{\"field\": \"route_id\", \"type\": \"nominal\"}, {\"field\": \"trip_id\", \"type\": \"nominal\"}, {\"field\": \"service_hours\", \"type\": \"quantitative\"}, {\"field\": \"car_duration_hours\", \"type\": \"quantitative\"}, {\"field\": \"bus_multiplier\", \"type\": \"quantitative\"}, {\"field\": \"bus_difference\", \"type\": \"quantitative\"}, {\"field\": \"num_trips\", \"type\": \"quantitative\"}, {\"field\": \"num_competitive\", \"type\": \"quantitative\"}, {\"field\": \"pct_trips_competitive\", \"type\": \"quantitative\"}, {\"field\": \"p25\", \"type\": \"quantitative\"}, {\"field\": \"p50\", \"type\": \"quantitative\"}, {\"field\": \"p75\", \"type\": \"quantitative\"}], \"x\": {\"value\": 30}, \"y\": {\"value\": 15}}, \"transform\": [{\"calculate\": \"sqrt(-2*log(random()))*cos(2*PI*random())\", \"as\": \"jitter\"}, {\"filter\": \"(datum.fastest_trip === 1)\"}]}]}]}, \"resolve\": {\"scale\": {\"y\": \"shared\"}}, \"title\": \"Ratio of Bus to Car Travel Time\", \"$schema\": \"https://vega.github.io/schema/vega-lite/v4.17.0.json\", \"datasets\": {\"data-3ceb8992156533715897bf3c16efaa36\": [{\"calitp_itp_id\": 314, \"trip_key\": -4009182749170204565, \"trip_id\": \"t_1995280_b_33394_tn_0\", \"shape_id\": \"p_2779\", \"route_id\": \"1031\", \"service_hours\": 0.75, \"trip_first_departure_ts\": 64800, \"trip_last_arrival_ts\": 67500, \"departure_hour\": 18, \"time_of_day\": \"PM Peak\", \"p25\": 0.75, \"p50\": 0.75, \"p75\": 0.75, \"p50_trip\": 1, \"fastest_trip\": 0, \"car_duration_hours\": 0.46, \"competitive_route\": 1, \"bus_multiplier\": 1.63, \"bus_difference\": 17.4, \"num_trips\": 13, \"num_competitive\": 13, \"pct_trips_competitive\": 1.0, \"bus_difference_spread\": 0.0, \"route_group\": \"short\", \"max_trip_hrs\": 0.75, \"max_trip_route_group\": 0.85, \"name\": \"Sonoma County\", \"caltrans_district\": \"04 - Oakland\", \"drmt_organization_name\": null, \"cutoff2\": 20, \"cutoff\": 2}, {\"calitp_itp_id\": 314, \"trip_key\": 5794867356465403578, \"trip_id\": \"t_1995138_b_33394_tn_0\", \"shape_id\": \"p_2779\", \"route_id\": \"1031\", \"service_hours\": 0.75, \"trip_first_departure_ts\": 32700, \"trip_last_arrival_ts\": 35400, \"departure_hour\": 9, \"time_of_day\": \"AM Peak\", \"p25\": 0.75, \"p50\": 0.75, \"p75\": 0.75, \"p50_trip\": 1, \"fastest_trip\": 0, \"car_duration_hours\": 0.46, \"competitive_route\": 1, \"bus_multiplier\": 1.63, \"bus_difference\": 17.4, \"num_trips\": 13, \"num_competitive\": 13, \"pct_trips_competitive\": 1.0, \"bus_difference_spread\": 0.0, \"route_group\": \"short\", \"max_trip_hrs\": 0.75, \"max_trip_route_group\": 0.85, \"name\": \"Sonoma County\", \"caltrans_district\": \"04 - Oakland\", \"drmt_organization_name\": null, \"cutoff2\": 20, \"cutoff\": 2}, {\"calitp_itp_id\": 314, \"trip_key\": -165455253305553337, \"trip_id\": \"t_1995278_b_33394_tn_0\", \"shape_id\": \"p_2819\", \"route_id\": \"1031\", \"service_hours\": 0.75, \"trip_first_departure_ts\": 67800, \"trip_last_arrival_ts\": 70500, \"departure_hour\": 18, \"time_of_day\": \"PM Peak\", \"p25\": 0.75, \"p50\": 0.75, \"p75\": 0.75, \"p50_trip\": 1, \"fastest_trip\": 0, \"car_duration_hours\": 0.46, \"competitive_route\": 1, \"bus_multiplier\": 1.63, \"bus_difference\": 17.4, \"num_trips\": 13, \"num_competitive\": 13, \"pct_trips_competitive\": 1.0, \"bus_difference_spread\": 0.0, \"route_group\": \"short\", \"max_trip_hrs\": 0.75, \"max_trip_route_group\": 0.85, \"name\": \"Sonoma County\", \"caltrans_district\": \"04 - Oakland\", \"drmt_organization_name\": null, \"cutoff2\": 20, \"cutoff\": 2}, {\"calitp_itp_id\": 314, \"trip_key\": -8878626120272225162, \"trip_id\": \"t_1995527_b_33394_tn_0\", \"shape_id\": \"p_2779\", \"route_id\": \"1031\", \"service_hours\": 0.75, \"trip_first_departure_ts\": 22500, \"trip_last_arrival_ts\": 25200, \"departure_hour\": 6, \"time_of_day\": \"Owl Service\", \"p25\": 0.75, \"p50\": 0.75, \"p75\": 0.75, \"p50_trip\": 1, \"fastest_trip\": 0, \"car_duration_hours\": 0.46, \"competitive_route\": 1, \"bus_multiplier\": 1.63, \"bus_difference\": 17.4, \"num_trips\": 13, \"num_competitive\": 13, \"pct_trips_competitive\": 1.0, \"bus_difference_spread\": 0.0, \"route_group\": \"short\", \"max_trip_hrs\": 0.75, \"max_trip_route_group\": 0.85, \"name\": \"Sonoma County\", \"caltrans_district\": \"04 - Oakland\", \"drmt_organization_name\": null, \"cutoff2\": 20, \"cutoff\": 2}, {\"calitp_itp_id\": 314, \"trip_key\": -7740392914172491862, \"trip_id\": \"t_1995137_b_33394_tn_0\", \"shape_id\": \"p_2819\", \"route_id\": \"1031\", \"service_hours\": 0.75, \"trip_first_departure_ts\": 43500, \"trip_last_arrival_ts\": 46200, \"departure_hour\": 12, \"time_of_day\": \"Midday\", \"p25\": 0.75, \"p50\": 0.75, \"p75\": 0.75, \"p50_trip\": 1, \"fastest_trip\": 0, \"car_duration_hours\": 0.46, \"competitive_route\": 1, \"bus_multiplier\": 1.63, \"bus_difference\": 17.4, \"num_trips\": 13, \"num_competitive\": 13, \"pct_trips_competitive\": 1.0, \"bus_difference_spread\": 0.0, \"route_group\": \"short\", \"max_trip_hrs\": 0.75, \"max_trip_route_group\": 0.85, \"name\": \"Sonoma County\", \"caltrans_district\": \"04 - Oakland\", \"drmt_organization_name\": null, \"cutoff2\": 20, \"cutoff\": 2}, {\"calitp_itp_id\": 314, \"trip_key\": -3094891583905298281, \"trip_id\": \"t_1995133_b_33394_tn_0\", \"shape_id\": \"p_2819\", \"route_id\": \"1031\", \"service_hours\": 0.75, \"trip_first_departure_ts\": 55200, \"trip_last_arrival_ts\": 57900, \"departure_hour\": 15, \"time_of_day\": \"Midday\", \"p25\": 0.75, \"p50\": 0.75, \"p75\": 0.75, \"p50_trip\": 1, \"fastest_trip\": 0, \"car_duration_hours\": 0.46, \"competitive_route\": 1, \"bus_multiplier\": 1.63, \"bus_difference\": 17.4, \"num_trips\": 13, \"num_competitive\": 13, \"pct_trips_competitive\": 1.0, \"bus_difference_spread\": 0.0, \"route_group\": \"short\", \"max_trip_hrs\": 0.75, \"max_trip_route_group\": 0.85, \"name\": \"Sonoma County\", \"caltrans_district\": \"04 - Oakland\", \"drmt_organization_name\": null, \"cutoff2\": 20, \"cutoff\": 2}, {\"calitp_itp_id\": 314, \"trip_key\": -7234811915220071185, \"trip_id\": \"t_1995279_b_33394_tn_0\", \"shape_id\": \"p_2779\", \"route_id\": \"1031\", \"service_hours\": 0.75, \"trip_first_departure_ts\": 71100, \"trip_last_arrival_ts\": 73800, \"departure_hour\": 19, \"time_of_day\": \"PM Peak\", \"p25\": 0.75, \"p50\": 0.75, \"p75\": 0.75, \"p50_trip\": 1, \"fastest_trip\": 0, \"car_duration_hours\": 0.46, \"competitive_route\": 1, \"bus_multiplier\": 1.63, \"bus_difference\": 17.4, \"num_trips\": 13, \"num_competitive\": 13, \"pct_trips_competitive\": 1.0, \"bus_difference_spread\": 0.0, \"route_group\": \"short\", \"max_trip_hrs\": 0.75, \"max_trip_route_group\": 0.85, \"name\": \"Sonoma County\", \"caltrans_district\": \"04 - Oakland\", \"drmt_organization_name\": null, \"cutoff2\": 20, \"cutoff\": 2}, {\"calitp_itp_id\": 314, \"trip_key\": 9033065666520867772, \"trip_id\": \"t_1995134_b_33394_tn_0\", \"shape_id\": \"p_2819\", \"route_id\": \"1031\", \"service_hours\": 0.75, \"trip_first_departure_ts\": 29100, \"trip_last_arrival_ts\": 31800, \"departure_hour\": 8, \"time_of_day\": \"AM Peak\", \"p25\": 0.75, \"p50\": 0.75, \"p75\": 0.75, \"p50_trip\": 1, \"fastest_trip\": 0, \"car_duration_hours\": 0.46, \"competitive_route\": 1, \"bus_multiplier\": 1.63, \"bus_difference\": 17.4, \"num_trips\": 13, \"num_competitive\": 13, \"pct_trips_competitive\": 1.0, \"bus_difference_spread\": 0.0, \"route_group\": \"short\", \"max_trip_hrs\": 0.75, \"max_trip_route_group\": 0.85, \"name\": \"Sonoma County\", \"caltrans_district\": \"04 - Oakland\", \"drmt_organization_name\": null, \"cutoff2\": 20, \"cutoff\": 2}, {\"calitp_itp_id\": 314, \"trip_key\": -2751847008584618391, \"trip_id\": \"t_1995140_b_33394_tn_0\", \"shape_id\": \"p_2779\", \"route_id\": \"1031\", \"service_hours\": 0.75, \"trip_first_departure_ts\": 47100, \"trip_last_arrival_ts\": 49800, \"departure_hour\": 13, \"time_of_day\": \"Midday\", \"p25\": 0.75, \"p50\": 0.75, \"p75\": 0.75, \"p50_trip\": 1, \"fastest_trip\": 0, \"car_duration_hours\": 0.46, \"competitive_route\": 1, \"bus_multiplier\": 1.63, \"bus_difference\": 17.4, \"num_trips\": 13, \"num_competitive\": 13, \"pct_trips_competitive\": 1.0, \"bus_difference_spread\": 0.0, \"route_group\": \"short\", \"max_trip_hrs\": 0.75, \"max_trip_route_group\": 0.85, \"name\": \"Sonoma County\", \"caltrans_district\": \"04 - Oakland\", \"drmt_organization_name\": null, \"cutoff2\": 20, \"cutoff\": 2}, {\"calitp_itp_id\": 314, \"trip_key\": -8114520493893009338, \"trip_id\": \"t_1995289_b_33394_tn_0\", \"shape_id\": \"p_2779\", \"route_id\": \"1031\", \"service_hours\": 0.75, \"trip_first_departure_ts\": 76200, \"trip_last_arrival_ts\": 78900, \"departure_hour\": 21, \"time_of_day\": \"Owl Service\", \"p25\": 0.75, \"p50\": 0.75, \"p75\": 0.75, \"p50_trip\": 1, \"fastest_trip\": 1, \"car_duration_hours\": 0.46, \"competitive_route\": 1, \"bus_multiplier\": 1.63, \"bus_difference\": 17.4, \"num_trips\": 13, \"num_competitive\": 13, \"pct_trips_competitive\": 1.0, \"bus_difference_spread\": 0.0, \"route_group\": \"short\", \"max_trip_hrs\": 0.75, \"max_trip_route_group\": 0.85, \"name\": \"Sonoma County\", \"caltrans_district\": \"04 - Oakland\", \"drmt_organization_name\": null, \"cutoff2\": 20, \"cutoff\": 2}, {\"calitp_itp_id\": 314, \"trip_key\": -6169774474327122790, \"trip_id\": \"t_1995277_b_33394_tn_0\", \"shape_id\": \"p_2819\", \"route_id\": \"1031\", \"service_hours\": 0.75, \"trip_first_departure_ts\": 22200, \"trip_last_arrival_ts\": 24900, \"departure_hour\": 6, \"time_of_day\": \"Owl Service\", \"p25\": 0.75, \"p50\": 0.75, \"p75\": 0.75, \"p50_trip\": 1, \"fastest_trip\": 0, \"car_duration_hours\": 0.46, \"competitive_route\": 1, \"bus_multiplier\": 1.63, \"bus_difference\": 17.4, \"num_trips\": 13, \"num_competitive\": 13, \"pct_trips_competitive\": 1.0, \"bus_difference_spread\": 0.0, \"route_group\": \"short\", \"max_trip_hrs\": 0.75, \"max_trip_route_group\": 0.85, \"name\": \"Sonoma County\", \"caltrans_district\": \"04 - Oakland\", \"drmt_organization_name\": null, \"cutoff2\": 20, \"cutoff\": 2}, {\"calitp_itp_id\": 314, \"trip_key\": 7804730032637606171, \"trip_id\": \"t_1995139_b_33394_tn_0\", \"shape_id\": \"p_2779\", \"route_id\": \"1031\", \"service_hours\": 0.75, \"trip_first_departure_ts\": 58800, \"trip_last_arrival_ts\": 61500, \"departure_hour\": 16, \"time_of_day\": \"Midday\", \"p25\": 0.75, \"p50\": 0.75, \"p75\": 0.75, \"p50_trip\": 1, \"fastest_trip\": 0, \"car_duration_hours\": 0.46, \"competitive_route\": 1, \"bus_multiplier\": 1.63, \"bus_difference\": 17.4, \"num_trips\": 13, \"num_competitive\": 13, \"pct_trips_competitive\": 1.0, \"bus_difference_spread\": 0.0, \"route_group\": \"short\", \"max_trip_hrs\": 0.75, \"max_trip_route_group\": 0.85, \"name\": \"Sonoma County\", \"caltrans_district\": \"04 - Oakland\", \"drmt_organization_name\": null, \"cutoff2\": 20, \"cutoff\": 2}, {\"calitp_itp_id\": 314, \"trip_key\": -7220482043046642039, \"trip_id\": \"t_1995526_b_33394_tn_0\", \"shape_id\": \"p_2819\", \"route_id\": \"1031\", \"service_hours\": 0.75, \"trip_first_departure_ts\": 58800, \"trip_last_arrival_ts\": 61500, \"departure_hour\": 16, \"time_of_day\": \"Midday\", \"p25\": 0.75, \"p50\": 0.75, \"p75\": 0.75, \"p50_trip\": 1, \"fastest_trip\": 0, \"car_duration_hours\": 0.46, \"competitive_route\": 1, \"bus_multiplier\": 1.63, \"bus_difference\": 17.4, \"num_trips\": 13, \"num_competitive\": 13, \"pct_trips_competitive\": 1.0, \"bus_difference_spread\": 0.0, \"route_group\": \"short\", \"max_trip_hrs\": 0.75, \"max_trip_route_group\": 0.85, \"name\": \"Sonoma County\", \"caltrans_district\": \"04 - Oakland\", \"drmt_organization_name\": null, \"cutoff2\": 20, \"cutoff\": 2}, {\"calitp_itp_id\": 314, \"trip_key\": -4401203620346687022, \"trip_id\": \"t_1995083_b_33394_tn_0\", \"shape_id\": \"p_900742\", \"route_id\": \"1037\", \"service_hours\": 0.65, \"trip_first_departure_ts\": 37800, \"trip_last_arrival_ts\": 40140, \"departure_hour\": 10, \"time_of_day\": \"Midday\", \"p25\": 0.65, \"p50\": 0.67, \"p75\": 0.7075, \"p50_trip\": 0, \"fastest_trip\": 0, \"car_duration_hours\": 0.61, \"competitive_route\": 1, \"bus_multiplier\": 1.07, \"bus_difference\": 2.4, \"num_trips\": 14, \"num_competitive\": 14, \"pct_trips_competitive\": 1.0, \"bus_difference_spread\": 10.2, \"route_group\": \"short\", \"max_trip_hrs\": 0.82, \"max_trip_route_group\": 0.85, \"name\": \"Sonoma County\", \"caltrans_district\": \"04 - Oakland\", \"drmt_organization_name\": null, \"cutoff2\": 20, \"cutoff\": 2}, {\"calitp_itp_id\": 314, \"trip_key\": -7372024254152469846, \"trip_id\": \"t_1995025_b_33394_tn_0\", \"shape_id\": \"p_900742\", \"route_id\": \"1037\", \"service_hours\": 0.65, \"trip_first_departure_ts\": 51900, \"trip_last_arrival_ts\": 54240, \"departure_hour\": 14, \"time_of_day\": \"Midday\", \"p25\": 0.65, \"p50\": 0.67, \"p75\": 0.7075, \"p50_trip\": 0, \"fastest_trip\": 1, \"car_duration_hours\": 0.61, \"competitive_route\": 1, \"bus_multiplier\": 1.07, \"bus_difference\": 2.4, \"num_trips\": 14, \"num_competitive\": 14, \"pct_trips_competitive\": 1.0, \"bus_difference_spread\": 10.2, \"route_group\": \"short\", \"max_trip_hrs\": 0.82, \"max_trip_route_group\": 0.85, \"name\": \"Sonoma County\", \"caltrans_district\": \"04 - Oakland\", \"drmt_organization_name\": null, \"cutoff2\": 20, \"cutoff\": 2}, {\"calitp_itp_id\": 314, \"trip_key\": 8976561196865121394, \"trip_id\": \"t_1995022_b_33394_tn_0\", \"shape_id\": \"p_900742\", \"route_id\": \"1037\", \"service_hours\": 0.65, \"trip_first_departure_ts\": 25200, \"trip_last_arrival_ts\": 27540, \"departure_hour\": 7, \"time_of_day\": \"AM Peak\", \"p25\": 0.65, \"p50\": 0.67, \"p75\": 0.7075, \"p50_trip\": 0, \"fastest_trip\": 0, \"car_duration_hours\": 0.61, \"competitive_route\": 1, \"bus_multiplier\": 1.07, \"bus_difference\": 2.4, \"num_trips\": 14, \"num_competitive\": 14, \"pct_trips_competitive\": 1.0, \"bus_difference_spread\": 10.2, \"route_group\": \"short\", \"max_trip_hrs\": 0.82, \"max_trip_route_group\": 0.85, \"name\": \"Sonoma County\", \"caltrans_district\": \"04 - Oakland\", \"drmt_organization_name\": null, \"cutoff2\": 20, \"cutoff\": 2}, {\"calitp_itp_id\": 314, \"trip_key\": -4953589075391029066, \"trip_id\": \"t_1995023_b_33394_tn_0\", \"shape_id\": \"p_900742\", \"route_id\": \"1037\", \"service_hours\": 0.65, \"trip_first_departure_ts\": 31500, \"trip_last_arrival_ts\": 33840, \"departure_hour\": 8, \"time_of_day\": \"AM Peak\", \"p25\": 0.65, \"p50\": 0.67, \"p75\": 0.7075, \"p50_trip\": 0, \"fastest_trip\": 0, \"car_duration_hours\": 0.61, \"competitive_route\": 1, \"bus_multiplier\": 1.07, \"bus_difference\": 2.4, \"num_trips\": 14, \"num_competitive\": 14, \"pct_trips_competitive\": 1.0, \"bus_difference_spread\": 10.2, \"route_group\": \"short\", \"max_trip_hrs\": 0.82, \"max_trip_route_group\": 0.85, \"name\": \"Sonoma County\", \"caltrans_district\": \"04 - Oakland\", \"drmt_organization_name\": null, \"cutoff2\": 20, \"cutoff\": 2}, {\"calitp_itp_id\": 314, \"trip_key\": -2437235975333611689, \"trip_id\": \"t_1995024_b_33394_tn_0\", \"shape_id\": \"p_900742\", \"route_id\": \"1037\", \"service_hours\": 0.65, \"trip_first_departure_ts\": 45600, \"trip_last_arrival_ts\": 47940, \"departure_hour\": 12, \"time_of_day\": \"Midday\", \"p25\": 0.65, \"p50\": 0.67, \"p75\": 0.7075, \"p50_trip\": 0, \"fastest_trip\": 0, \"car_duration_hours\": 0.61, \"competitive_route\": 1, \"bus_multiplier\": 1.07, \"bus_difference\": 2.4, \"num_trips\": 14, \"num_competitive\": 14, \"pct_trips_competitive\": 1.0, \"bus_difference_spread\": 10.2, \"route_group\": \"short\", \"max_trip_hrs\": 0.82, \"max_trip_route_group\": 0.85, \"name\": \"Sonoma County\", \"caltrans_district\": \"04 - Oakland\", \"drmt_organization_name\": null, \"cutoff2\": 20, \"cutoff\": 2}, {\"calitp_itp_id\": 314, \"trip_key\": -9153656594911018172, \"trip_id\": \"t_1995030_b_33394_tn_0\", \"shape_id\": \"p_900738\", \"route_id\": \"1037\", \"service_hours\": 0.67, \"trip_first_departure_ts\": 55200, \"trip_last_arrival_ts\": 57600, \"departure_hour\": 15, \"time_of_day\": \"Midday\", \"p25\": 0.65, \"p50\": 0.67, \"p75\": 0.7075, \"p50_trip\": 1, \"fastest_trip\": 0, \"car_duration_hours\": 0.61, \"competitive_route\": 1, \"bus_multiplier\": 1.1, \"bus_difference\": 3.6, \"num_trips\": 14, \"num_competitive\": 14, \"pct_trips_competitive\": 1.0, \"bus_difference_spread\": 10.2, \"route_group\": \"short\", \"max_trip_hrs\": 0.82, \"max_trip_route_group\": 0.85, \"name\": \"Sonoma County\", \"caltrans_district\": \"04 - Oakland\", \"drmt_organization_name\": null, \"cutoff2\": 20, \"cutoff\": 2}, {\"calitp_itp_id\": 314, \"trip_key\": 4843105572648110166, \"trip_id\": \"t_1995085_b_33394_tn_0\", \"shape_id\": \"p_900738\", \"route_id\": \"1037\", \"service_hours\": 0.67, \"trip_first_departure_ts\": 48900, \"trip_last_arrival_ts\": 51300, \"departure_hour\": 13, \"time_of_day\": \"Midday\", \"p25\": 0.65, \"p50\": 0.67, \"p75\": 0.7075, \"p50_trip\": 1, \"fastest_trip\": 0, \"car_duration_hours\": 0.61, \"competitive_route\": 1, \"bus_multiplier\": 1.1, \"bus_difference\": 3.6, \"num_trips\": 14, \"num_competitive\": 14, \"pct_trips_competitive\": 1.0, \"bus_difference_spread\": 10.2, \"route_group\": \"short\", \"max_trip_hrs\": 0.82, \"max_trip_route_group\": 0.85, \"name\": \"Sonoma County\", \"caltrans_district\": \"04 - Oakland\", \"drmt_organization_name\": null, \"cutoff2\": 20, \"cutoff\": 2}, {\"calitp_itp_id\": 314, \"trip_key\": 512847314139743298, \"trip_id\": \"t_1995027_b_33394_tn_0\", \"shape_id\": \"p_900738\", \"route_id\": \"1037\", \"service_hours\": 0.67, \"trip_first_departure_ts\": 28200, \"trip_last_arrival_ts\": 30600, \"departure_hour\": 7, \"time_of_day\": \"AM Peak\", \"p25\": 0.65, \"p50\": 0.67, \"p75\": 0.7075, \"p50_trip\": 1, \"fastest_trip\": 0, \"car_duration_hours\": 0.61, \"competitive_route\": 1, \"bus_multiplier\": 1.1, \"bus_difference\": 3.6, \"num_trips\": 14, \"num_competitive\": 14, \"pct_trips_competitive\": 1.0, \"bus_difference_spread\": 10.2, \"route_group\": \"short\", \"max_trip_hrs\": 0.82, \"max_trip_route_group\": 0.85, \"name\": \"Sonoma County\", \"caltrans_district\": \"04 - Oakland\", \"drmt_organization_name\": null, \"cutoff2\": 20, \"cutoff\": 2}, {\"calitp_itp_id\": 314, \"trip_key\": -2058724623308365920, \"trip_id\": \"t_1995029_b_33394_tn_0\", \"shape_id\": \"p_900738\", \"route_id\": \"1037\", \"service_hours\": 0.67, \"trip_first_departure_ts\": 42600, \"trip_last_arrival_ts\": 45000, \"departure_hour\": 11, \"time_of_day\": \"Midday\", \"p25\": 0.65, \"p50\": 0.67, \"p75\": 0.7075, \"p50_trip\": 1, \"fastest_trip\": 0, \"car_duration_hours\": 0.61, \"competitive_route\": 1, \"bus_multiplier\": 1.1, \"bus_difference\": 3.6, \"num_trips\": 14, \"num_competitive\": 14, \"pct_trips_competitive\": 1.0, \"bus_difference_spread\": 10.2, \"route_group\": \"short\", \"max_trip_hrs\": 0.82, \"max_trip_route_group\": 0.85, \"name\": \"Sonoma County\", \"caltrans_district\": \"04 - Oakland\", \"drmt_organization_name\": null, \"cutoff2\": 20, \"cutoff\": 2}, {\"calitp_itp_id\": 314, \"trip_key\": -8299739809661226981, \"trip_id\": \"t_1995028_b_33394_tn_0\", \"shape_id\": \"p_900738\", \"route_id\": \"1037\", \"service_hours\": 0.67, \"trip_first_departure_ts\": 34800, \"trip_last_arrival_ts\": 37200, \"departure_hour\": 9, \"time_of_day\": \"AM Peak\", \"p25\": 0.65, \"p50\": 0.67, \"p75\": 0.7075, \"p50_trip\": 1, \"fastest_trip\": 0, \"car_duration_hours\": 0.61, \"competitive_route\": 1, \"bus_multiplier\": 1.1, \"bus_difference\": 3.6, \"num_trips\": 14, \"num_competitive\": 14, \"pct_trips_competitive\": 1.0, \"bus_difference_spread\": 10.2, \"route_group\": \"short\", \"max_trip_hrs\": 0.82, \"max_trip_route_group\": 0.85, \"name\": \"Sonoma County\", \"caltrans_district\": \"04 - Oakland\", \"drmt_organization_name\": null, \"cutoff2\": 20, \"cutoff\": 2}, {\"calitp_itp_id\": 314, \"trip_key\": -5902608269181527255, \"trip_id\": \"t_1995026_b_33394_tn_0\", \"shape_id\": \"p_900742\", \"route_id\": \"1037\", \"service_hours\": 0.72, \"trip_first_departure_ts\": 58200, \"trip_last_arrival_ts\": 60780, \"departure_hour\": 16, \"time_of_day\": \"Midday\", \"p25\": 0.65, \"p50\": 0.67, \"p75\": 0.7075, \"p50_trip\": 0, \"fastest_trip\": 0, \"car_duration_hours\": 0.61, \"competitive_route\": 1, \"bus_multiplier\": 1.18, \"bus_difference\": 6.6, \"num_trips\": 14, \"num_competitive\": 14, \"pct_trips_competitive\": 1.0, \"bus_difference_spread\": 10.2, \"route_group\": \"short\", \"max_trip_hrs\": 0.82, \"max_trip_route_group\": 0.85, \"name\": \"Sonoma County\", \"caltrans_district\": \"04 - Oakland\", \"drmt_organization_name\": null, \"cutoff2\": 20, \"cutoff\": 2}, {\"calitp_itp_id\": 314, \"trip_key\": 961739302442834806, \"trip_id\": \"t_1995084_b_33394_tn_0\", \"shape_id\": \"p_900742\", \"route_id\": \"1037\", \"service_hours\": 0.72, \"trip_first_departure_ts\": 65100, \"trip_last_arrival_ts\": 67680, \"departure_hour\": 18, \"time_of_day\": \"PM Peak\", \"p25\": 0.65, \"p50\": 0.67, \"p75\": 0.7075, \"p50_trip\": 0, \"fastest_trip\": 0, \"car_duration_hours\": 0.61, \"competitive_route\": 1, \"bus_multiplier\": 1.18, \"bus_difference\": 6.6, \"num_trips\": 14, \"num_competitive\": 14, \"pct_trips_competitive\": 1.0, \"bus_difference_spread\": 10.2, \"route_group\": \"short\", \"max_trip_hrs\": 0.82, \"max_trip_route_group\": 0.85, \"name\": \"Sonoma County\", \"caltrans_district\": \"04 - Oakland\", \"drmt_organization_name\": null, \"cutoff2\": 20, \"cutoff\": 2}, {\"calitp_itp_id\": 314, \"trip_key\": -4957616541227690504, \"trip_id\": \"t_1995086_b_33394_tn_0\", \"shape_id\": \"p_900738\", \"route_id\": \"1037\", \"service_hours\": 0.82, \"trip_first_departure_ts\": 68400, \"trip_last_arrival_ts\": 71340, \"departure_hour\": 19, \"time_of_day\": \"PM Peak\", \"p25\": 0.65, \"p50\": 0.67, \"p75\": 0.7075, \"p50_trip\": 0, \"fastest_trip\": 0, \"car_duration_hours\": 0.61, \"competitive_route\": 1, \"bus_multiplier\": 1.34, \"bus_difference\": 12.6, \"num_trips\": 14, \"num_competitive\": 14, \"pct_trips_competitive\": 1.0, \"bus_difference_spread\": 10.2, \"route_group\": \"short\", \"max_trip_hrs\": 0.82, \"max_trip_route_group\": 0.85, \"name\": \"Sonoma County\", \"caltrans_district\": \"04 - Oakland\", \"drmt_organization_name\": null, \"cutoff2\": 20, \"cutoff\": 2}, {\"calitp_itp_id\": 314, \"trip_key\": -6354877357151797192, \"trip_id\": \"t_1995031_b_33394_tn_0\", \"shape_id\": \"p_900738\", \"route_id\": \"1037\", \"service_hours\": 0.82, \"trip_first_departure_ts\": 61500, \"trip_last_arrival_ts\": 64440, \"departure_hour\": 17, \"time_of_day\": \"PM Peak\", \"p25\": 0.65, \"p50\": 0.67, \"p75\": 0.7075, \"p50_trip\": 0, \"fastest_trip\": 0, \"car_duration_hours\": 0.61, \"competitive_route\": 1, \"bus_multiplier\": 1.34, \"bus_difference\": 12.6, \"num_trips\": 14, \"num_competitive\": 14, \"pct_trips_competitive\": 1.0, \"bus_difference_spread\": 10.2, \"route_group\": \"short\", \"max_trip_hrs\": 0.82, \"max_trip_route_group\": 0.85, \"name\": \"Sonoma County\", \"caltrans_district\": \"04 - Oakland\", \"drmt_organization_name\": null, \"cutoff2\": 20, \"cutoff\": 2}, {\"calitp_itp_id\": 314, \"trip_key\": -9104936705860014709, \"trip_id\": \"t_1995309_b_33394_tn_0\", \"shape_id\": \"p_2833\", \"route_id\": \"1039\", \"service_hours\": 0.62, \"trip_first_departure_ts\": 51300, \"trip_last_arrival_ts\": 53520, \"departure_hour\": 14, \"time_of_day\": \"Midday\", \"p25\": 0.62, \"p50\": 0.62, \"p75\": 0.62, \"p50_trip\": 1, \"fastest_trip\": 0, \"car_duration_hours\": 0.68, \"competitive_route\": 1, \"bus_multiplier\": 0.91, \"bus_difference\": -3.6, \"num_trips\": 8, \"num_competitive\": 8, \"pct_trips_competitive\": 1.0, \"bus_difference_spread\": 0.0, \"route_group\": \"short\", \"max_trip_hrs\": 0.62, \"max_trip_route_group\": 0.85, \"name\": \"Sonoma County\", \"caltrans_district\": \"04 - Oakland\", \"drmt_organization_name\": null, \"cutoff2\": 20, \"cutoff\": 2}, {\"calitp_itp_id\": 314, \"trip_key\": 2234628545553501710, \"trip_id\": \"t_1994977_b_33394_tn_0\", \"shape_id\": \"p_2833\", \"route_id\": \"1039\", \"service_hours\": 0.62, \"trip_first_departure_ts\": 45000, \"trip_last_arrival_ts\": 47220, \"departure_hour\": 12, \"time_of_day\": \"Midday\", \"p25\": 0.62, \"p50\": 0.62, \"p75\": 0.62, \"p50_trip\": 1, \"fastest_trip\": 0, \"car_duration_hours\": 0.68, \"competitive_route\": 1, \"bus_multiplier\": 0.91, \"bus_difference\": -3.6, \"num_trips\": 8, \"num_competitive\": 8, \"pct_trips_competitive\": 1.0, \"bus_difference_spread\": 0.0, \"route_group\": \"short\", \"max_trip_hrs\": 0.62, \"max_trip_route_group\": 0.85, \"name\": \"Sonoma County\", \"caltrans_district\": \"04 - Oakland\", \"drmt_organization_name\": null, \"cutoff2\": 20, \"cutoff\": 2}, {\"calitp_itp_id\": 314, \"trip_key\": 8818845874824885839, \"trip_id\": \"t_1995308_b_33394_tn_1\", \"shape_id\": \"p_2833\", \"route_id\": \"1039\", \"service_hours\": 0.62, \"trip_first_departure_ts\": 22500, \"trip_last_arrival_ts\": 24720, \"departure_hour\": 6, \"time_of_day\": \"Owl Service\", \"p25\": 0.62, \"p50\": 0.62, \"p75\": 0.62, \"p50_trip\": 1, \"fastest_trip\": 0, \"car_duration_hours\": 0.68, \"competitive_route\": 1, \"bus_multiplier\": 0.91, \"bus_difference\": -3.6, \"num_trips\": 8, \"num_competitive\": 8, \"pct_trips_competitive\": 1.0, \"bus_difference_spread\": 0.0, \"route_group\": \"short\", \"max_trip_hrs\": 0.62, \"max_trip_route_group\": 0.85, \"name\": \"Sonoma County\", \"caltrans_district\": \"04 - Oakland\", \"drmt_organization_name\": null, \"cutoff2\": 20, \"cutoff\": 2}, {\"calitp_itp_id\": 314, \"trip_key\": 7124861541659948358, \"trip_id\": \"t_1995307_b_33394_tn_0\", \"shape_id\": \"p_2833\", \"route_id\": \"1039\", \"service_hours\": 0.62, \"trip_first_departure_ts\": 32400, \"trip_last_arrival_ts\": 34620, \"departure_hour\": 9, \"time_of_day\": \"AM Peak\", \"p25\": 0.62, \"p50\": 0.62, \"p75\": 0.62, \"p50_trip\": 1, \"fastest_trip\": 0, \"car_duration_hours\": 0.68, \"competitive_route\": 1, \"bus_multiplier\": 0.91, \"bus_difference\": -3.6, \"num_trips\": 8, \"num_competitive\": 8, \"pct_trips_competitive\": 1.0, \"bus_difference_spread\": 0.0, \"route_group\": \"short\", \"max_trip_hrs\": 0.62, \"max_trip_route_group\": 0.85, \"name\": \"Sonoma County\", \"caltrans_district\": \"04 - Oakland\", \"drmt_organization_name\": null, \"cutoff2\": 20, \"cutoff\": 2}, {\"calitp_itp_id\": 314, \"trip_key\": 3101518648853909186, \"trip_id\": \"t_1994979_b_33394_tn_0\", \"shape_id\": \"p_2833\", \"route_id\": \"1039\", \"service_hours\": 0.62, \"trip_first_departure_ts\": 63900, \"trip_last_arrival_ts\": 66120, \"departure_hour\": 17, \"time_of_day\": \"PM Peak\", \"p25\": 0.62, \"p50\": 0.62, \"p75\": 0.62, \"p50_trip\": 1, \"fastest_trip\": 1, \"car_duration_hours\": 0.68, \"competitive_route\": 1, \"bus_multiplier\": 0.91, \"bus_difference\": -3.6, \"num_trips\": 8, \"num_competitive\": 8, \"pct_trips_competitive\": 1.0, \"bus_difference_spread\": 0.0, \"route_group\": \"short\", \"max_trip_hrs\": 0.62, \"max_trip_route_group\": 0.85, \"name\": \"Sonoma County\", \"caltrans_district\": \"04 - Oakland\", \"drmt_organization_name\": null, \"cutoff2\": 20, \"cutoff\": 2}, {\"calitp_itp_id\": 314, \"trip_key\": -7288396620536551818, \"trip_id\": \"t_1994968_b_33394_tn_0\", \"shape_id\": \"p_2833\", \"route_id\": \"1039\", \"service_hours\": 0.62, \"trip_first_departure_ts\": 38700, \"trip_last_arrival_ts\": 40920, \"departure_hour\": 10, \"time_of_day\": \"Midday\", \"p25\": 0.62, \"p50\": 0.62, \"p75\": 0.62, \"p50_trip\": 1, \"fastest_trip\": 0, \"car_duration_hours\": 0.68, \"competitive_route\": 1, \"bus_multiplier\": 0.91, \"bus_difference\": -3.6, \"num_trips\": 8, \"num_competitive\": 8, \"pct_trips_competitive\": 1.0, \"bus_difference_spread\": 0.0, \"route_group\": \"short\", \"max_trip_hrs\": 0.62, \"max_trip_route_group\": 0.85, \"name\": \"Sonoma County\", \"caltrans_district\": \"04 - Oakland\", \"drmt_organization_name\": null, \"cutoff2\": 20, \"cutoff\": 2}, {\"calitp_itp_id\": 314, \"trip_key\": 8553250733233968646, \"trip_id\": \"t_1995342_b_33394_tn_0\", \"shape_id\": \"p_2833\", \"route_id\": \"1039\", \"service_hours\": 0.62, \"trip_first_departure_ts\": 24900, \"trip_last_arrival_ts\": 27120, \"departure_hour\": 6, \"time_of_day\": \"Owl Service\", \"p25\": 0.62, \"p50\": 0.62, \"p75\": 0.62, \"p50_trip\": 1, \"fastest_trip\": 0, \"car_duration_hours\": 0.68, \"competitive_route\": 1, \"bus_multiplier\": 0.91, \"bus_difference\": -3.6, \"num_trips\": 8, \"num_competitive\": 8, \"pct_trips_competitive\": 1.0, \"bus_difference_spread\": 0.0, \"route_group\": \"short\", \"max_trip_hrs\": 0.62, \"max_trip_route_group\": 0.85, \"name\": \"Sonoma County\", \"caltrans_district\": \"04 - Oakland\", \"drmt_organization_name\": null, \"cutoff2\": 20, \"cutoff\": 2}, {\"calitp_itp_id\": 314, \"trip_key\": -849760181217255770, \"trip_id\": \"t_1995310_b_33394_tn_0\", \"shape_id\": \"p_2833\", \"route_id\": \"1039\", \"service_hours\": 0.62, \"trip_first_departure_ts\": 57600, \"trip_last_arrival_ts\": 59820, \"departure_hour\": 16, \"time_of_day\": \"Midday\", \"p25\": 0.62, \"p50\": 0.62, \"p75\": 0.62, \"p50_trip\": 1, \"fastest_trip\": 0, \"car_duration_hours\": 0.68, \"competitive_route\": 1, \"bus_multiplier\": 0.91, \"bus_difference\": -3.6, \"num_trips\": 8, \"num_competitive\": 8, \"pct_trips_competitive\": 1.0, \"bus_difference_spread\": 0.0, \"route_group\": \"short\", \"max_trip_hrs\": 0.62, \"max_trip_route_group\": 0.85, \"name\": \"Sonoma County\", \"caltrans_district\": \"04 - Oakland\", \"drmt_organization_name\": null, \"cutoff2\": 20, \"cutoff\": 2}, {\"calitp_itp_id\": 314, \"trip_key\": -8912716538329291977, \"trip_id\": \"t_1995100_b_33394_tn_0\", \"shape_id\": \"p_180629\", \"route_id\": \"1044\", \"service_hours\": 0.42, \"trip_first_departure_ts\": 26100, \"trip_last_arrival_ts\": 27600, \"departure_hour\": 7, \"time_of_day\": \"AM Peak\", \"p25\": 0.62, \"p50\": 0.62, \"p75\": 0.62, \"p50_trip\": 0, \"fastest_trip\": 1, \"car_duration_hours\": 0.32, \"competitive_route\": 1, \"bus_multiplier\": 1.31, \"bus_difference\": 6.0, \"num_trips\": 12, \"num_competitive\": 12, \"pct_trips_competitive\": 1.0, \"bus_difference_spread\": 12.6, \"route_group\": \"short\", \"max_trip_hrs\": 0.63, \"max_trip_route_group\": 0.85, \"name\": \"Sonoma County\", \"caltrans_district\": \"04 - Oakland\", \"drmt_organization_name\": null, \"cutoff2\": 20, \"cutoff\": 2}, {\"calitp_itp_id\": 314, \"trip_key\": 3824571592975824062, \"trip_id\": \"t_1995116_b_33394_tn_0\", \"shape_id\": \"p_2849\", \"route_id\": \"1044\", \"service_hours\": 0.62, \"trip_first_departure_ts\": 30900, \"trip_last_arrival_ts\": 33120, \"departure_hour\": 8, \"time_of_day\": \"AM Peak\", \"p25\": 0.62, \"p50\": 0.62, \"p75\": 0.62, \"p50_trip\": 1, \"fastest_trip\": 0, \"car_duration_hours\": 0.32, \"competitive_route\": 1, \"bus_multiplier\": 1.94, \"bus_difference\": 18.0, \"num_trips\": 12, \"num_competitive\": 12, \"pct_trips_competitive\": 1.0, \"bus_difference_spread\": 12.6, \"route_group\": \"short\", \"max_trip_hrs\": 0.63, \"max_trip_route_group\": 0.85, \"name\": \"Sonoma County\", \"caltrans_district\": \"04 - Oakland\", \"drmt_organization_name\": null, \"cutoff2\": 20, \"cutoff\": 2}, {\"calitp_itp_id\": 314, \"trip_key\": -6485248845434282122, \"trip_id\": \"t_1995103_b_33394_tn_0\", \"shape_id\": \"p_2849\", \"route_id\": \"1044\", \"service_hours\": 0.62, \"trip_first_departure_ts\": 51000, \"trip_last_arrival_ts\": 53220, \"departure_hour\": 14, \"time_of_day\": \"Midday\", \"p25\": 0.62, \"p50\": 0.62, \"p75\": 0.62, \"p50_trip\": 1, \"fastest_trip\": 0, \"car_duration_hours\": 0.32, \"competitive_route\": 1, \"bus_multiplier\": 1.94, \"bus_difference\": 18.0, \"num_trips\": 12, \"num_competitive\": 12, \"pct_trips_competitive\": 1.0, \"bus_difference_spread\": 12.6, \"route_group\": \"short\", \"max_trip_hrs\": 0.63, \"max_trip_route_group\": 0.85, \"name\": \"Sonoma County\", \"caltrans_district\": \"04 - Oakland\", \"drmt_organization_name\": null, \"cutoff2\": 20, \"cutoff\": 2}, {\"calitp_itp_id\": 314, \"trip_key\": -8082050604574260599, \"trip_id\": \"t_1995114_b_33394_tn_0\", \"shape_id\": \"p_2849\", \"route_id\": \"1044\", \"service_hours\": 0.62, \"trip_first_departure_ts\": 56700, \"trip_last_arrival_ts\": 58920, \"departure_hour\": 15, \"time_of_day\": \"Midday\", \"p25\": 0.62, \"p50\": 0.62, \"p75\": 0.62, \"p50_trip\": 1, \"fastest_trip\": 0, \"car_duration_hours\": 0.32, \"competitive_route\": 1, \"bus_multiplier\": 1.94, \"bus_difference\": 18.0, \"num_trips\": 12, \"num_competitive\": 12, \"pct_trips_competitive\": 1.0, \"bus_difference_spread\": 12.6, \"route_group\": \"short\", \"max_trip_hrs\": 0.63, \"max_trip_route_group\": 0.85, \"name\": \"Sonoma County\", \"caltrans_district\": \"04 - Oakland\", \"drmt_organization_name\": null, \"cutoff2\": 20, \"cutoff\": 2}, {\"calitp_itp_id\": 314, \"trip_key\": -2018607780395492120, \"trip_id\": \"t_1995115_b_33394_tn_0\", \"shape_id\": \"p_2849\", \"route_id\": \"1044\", \"service_hours\": 0.62, \"trip_first_departure_ts\": 45300, \"trip_last_arrival_ts\": 47520, \"departure_hour\": 12, \"time_of_day\": \"Midday\", \"p25\": 0.62, \"p50\": 0.62, \"p75\": 0.62, \"p50_trip\": 1, \"fastest_trip\": 0, \"car_duration_hours\": 0.32, \"competitive_route\": 1, \"bus_multiplier\": 1.94, \"bus_difference\": 18.0, \"num_trips\": 12, \"num_competitive\": 12, \"pct_trips_competitive\": 1.0, \"bus_difference_spread\": 12.6, \"route_group\": \"short\", \"max_trip_hrs\": 0.63, \"max_trip_route_group\": 0.85, \"name\": \"Sonoma County\", \"caltrans_district\": \"04 - Oakland\", \"drmt_organization_name\": null, \"cutoff2\": 20, \"cutoff\": 2}, {\"calitp_itp_id\": 314, \"trip_key\": 5409462432246288081, \"trip_id\": \"t_1995104_b_33394_tn_0\", \"shape_id\": \"p_2849\", \"route_id\": \"1044\", \"service_hours\": 0.62, \"trip_first_departure_ts\": 48000, \"trip_last_arrival_ts\": 50220, \"departure_hour\": 13, \"time_of_day\": \"Midday\", \"p25\": 0.62, \"p50\": 0.62, \"p75\": 0.62, \"p50_trip\": 1, \"fastest_trip\": 0, \"car_duration_hours\": 0.32, \"competitive_route\": 1, \"bus_multiplier\": 1.94, \"bus_difference\": 18.0, \"num_trips\": 12, \"num_competitive\": 12, \"pct_trips_competitive\": 1.0, \"bus_difference_spread\": 12.6, \"route_group\": \"short\", \"max_trip_hrs\": 0.63, \"max_trip_route_group\": 0.85, \"name\": \"Sonoma County\", \"caltrans_district\": \"04 - Oakland\", \"drmt_organization_name\": null, \"cutoff2\": 20, \"cutoff\": 2}, {\"calitp_itp_id\": 314, \"trip_key\": -194303600737111805, \"trip_id\": \"t_1995112_b_33394_tn_0\", \"shape_id\": \"p_2849\", \"route_id\": \"1044\", \"service_hours\": 0.62, \"trip_first_departure_ts\": 53700, \"trip_last_arrival_ts\": 55920, \"departure_hour\": 14, \"time_of_day\": \"Midday\", \"p25\": 0.62, \"p50\": 0.62, \"p75\": 0.62, \"p50_trip\": 1, \"fastest_trip\": 0, \"car_duration_hours\": 0.32, \"competitive_route\": 1, \"bus_multiplier\": 1.94, \"bus_difference\": 18.0, \"num_trips\": 12, \"num_competitive\": 12, \"pct_trips_competitive\": 1.0, \"bus_difference_spread\": 12.6, \"route_group\": \"short\", \"max_trip_hrs\": 0.63, \"max_trip_route_group\": 0.85, \"name\": \"Sonoma County\", \"caltrans_district\": \"04 - Oakland\", \"drmt_organization_name\": null, \"cutoff2\": 20, \"cutoff\": 2}, {\"calitp_itp_id\": 314, \"trip_key\": 1669707934844175539, \"trip_id\": \"t_1995105_b_33394_tn_0\", \"shape_id\": \"p_2849\", \"route_id\": \"1044\", \"service_hours\": 0.62, \"trip_first_departure_ts\": 34200, \"trip_last_arrival_ts\": 36420, \"departure_hour\": 9, \"time_of_day\": \"AM Peak\", \"p25\": 0.62, \"p50\": 0.62, \"p75\": 0.62, \"p50_trip\": 1, \"fastest_trip\": 0, \"car_duration_hours\": 0.32, \"competitive_route\": 1, \"bus_multiplier\": 1.94, \"bus_difference\": 18.0, \"num_trips\": 12, \"num_competitive\": 12, \"pct_trips_competitive\": 1.0, \"bus_difference_spread\": 12.6, \"route_group\": \"short\", \"max_trip_hrs\": 0.63, \"max_trip_route_group\": 0.85, \"name\": \"Sonoma County\", \"caltrans_district\": \"04 - Oakland\", \"drmt_organization_name\": null, \"cutoff2\": 20, \"cutoff\": 2}, {\"calitp_itp_id\": 314, \"trip_key\": 1128491252404885055, \"trip_id\": \"t_1995113_b_33394_tn_0\", \"shape_id\": \"p_2849\", \"route_id\": \"1044\", \"service_hours\": 0.62, \"trip_first_departure_ts\": 37500, \"trip_last_arrival_ts\": 39720, \"departure_hour\": 10, \"time_of_day\": \"Midday\", \"p25\": 0.62, \"p50\": 0.62, \"p75\": 0.62, \"p50_trip\": 1, \"fastest_trip\": 0, \"car_duration_hours\": 0.32, \"competitive_route\": 1, \"bus_multiplier\": 1.94, \"bus_difference\": 18.0, \"num_trips\": 12, \"num_competitive\": 12, \"pct_trips_competitive\": 1.0, \"bus_difference_spread\": 12.6, \"route_group\": \"short\", \"max_trip_hrs\": 0.63, \"max_trip_route_group\": 0.85, \"name\": \"Sonoma County\", \"caltrans_district\": \"04 - Oakland\", \"drmt_organization_name\": null, \"cutoff2\": 20, \"cutoff\": 2}, {\"calitp_itp_id\": 314, \"trip_key\": 2920275002107793380, \"trip_id\": \"t_1995117_b_33394_tn_0\", \"shape_id\": \"p_2849\", \"route_id\": \"1044\", \"service_hours\": 0.62, \"trip_first_departure_ts\": 42600, \"trip_last_arrival_ts\": 44820, \"departure_hour\": 11, \"time_of_day\": \"Midday\", \"p25\": 0.62, \"p50\": 0.62, \"p75\": 0.62, \"p50_trip\": 1, \"fastest_trip\": 0, \"car_duration_hours\": 0.32, \"competitive_route\": 1, \"bus_multiplier\": 1.94, \"bus_difference\": 18.0, \"num_trips\": 12, \"num_competitive\": 12, \"pct_trips_competitive\": 1.0, \"bus_difference_spread\": 12.6, \"route_group\": \"short\", \"max_trip_hrs\": 0.63, \"max_trip_route_group\": 0.85, \"name\": \"Sonoma County\", \"caltrans_district\": \"04 - Oakland\", \"drmt_organization_name\": null, \"cutoff2\": 20, \"cutoff\": 2}, {\"calitp_itp_id\": 314, \"trip_key\": 2610843790347282397, \"trip_id\": \"t_1995102_b_33394_tn_0\", \"shape_id\": \"p_2849\", \"route_id\": \"1044\", \"service_hours\": 0.62, \"trip_first_departure_ts\": 27900, \"trip_last_arrival_ts\": 30120, \"departure_hour\": 7, \"time_of_day\": \"AM Peak\", \"p25\": 0.62, \"p50\": 0.62, \"p75\": 0.62, \"p50_trip\": 1, \"fastest_trip\": 0, \"car_duration_hours\": 0.32, \"competitive_route\": 1, \"bus_multiplier\": 1.94, \"bus_difference\": 18.0, \"num_trips\": 12, \"num_competitive\": 12, \"pct_trips_competitive\": 1.0, \"bus_difference_spread\": 12.6, \"route_group\": \"short\", \"max_trip_hrs\": 0.63, \"max_trip_route_group\": 0.85, \"name\": \"Sonoma County\", \"caltrans_district\": \"04 - Oakland\", \"drmt_organization_name\": null, \"cutoff2\": 20, \"cutoff\": 2}, {\"calitp_itp_id\": 314, \"trip_key\": 8443020774982121165, \"trip_id\": \"t_1995101_b_33394_tn_0\", \"shape_id\": \"p_2849\", \"route_id\": \"1044\", \"service_hours\": 0.63, \"trip_first_departure_ts\": 59400, \"trip_last_arrival_ts\": 61680, \"departure_hour\": 16, \"time_of_day\": \"Midday\", \"p25\": 0.62, \"p50\": 0.62, \"p75\": 0.62, \"p50_trip\": 0, \"fastest_trip\": 0, \"car_duration_hours\": 0.32, \"competitive_route\": 1, \"bus_multiplier\": 1.97, \"bus_difference\": 18.6, \"num_trips\": 12, \"num_competitive\": 12, \"pct_trips_competitive\": 1.0, \"bus_difference_spread\": 12.6, \"route_group\": \"short\", \"max_trip_hrs\": 0.63, \"max_trip_route_group\": 0.85, \"name\": \"Sonoma County\", \"caltrans_district\": \"04 - Oakland\", \"drmt_organization_name\": null, \"cutoff2\": 20, \"cutoff\": 2}, {\"calitp_itp_id\": 314, \"trip_key\": 6837111398810808591, \"trip_id\": \"t_1995073_b_33394_tn_0\", \"shape_id\": \"p_2780\", \"route_id\": \"1051\", \"service_hours\": 0.85, \"trip_first_departure_ts\": 70800, \"trip_last_arrival_ts\": 73860, \"departure_hour\": 19, \"time_of_day\": \"PM Peak\", \"p25\": 0.85, \"p50\": 0.85, \"p75\": 0.85, \"p50_trip\": 1, \"fastest_trip\": 1, \"car_duration_hours\": 0.82, \"competitive_route\": 1, \"bus_multiplier\": 1.04, \"bus_difference\": 1.8, \"num_trips\": 1, \"num_competitive\": 1, \"pct_trips_competitive\": 1.0, \"bus_difference_spread\": 0.0, \"route_group\": \"short\", \"max_trip_hrs\": 0.85, \"max_trip_route_group\": 0.85, \"name\": \"Sonoma County\", \"caltrans_district\": \"04 - Oakland\", \"drmt_organization_name\": null, \"cutoff2\": 20, \"cutoff\": 2}]}}, {\"mode\": \"vega-lite\"});\n",
       "</script>"
      ],
      "text/plain": [
       "alt.FacetChart(...)"
      ]
     },
     "metadata": {},
     "output_type": "display_data"
    },
    {
     "data": {
      "text/html": [
       "\n",
       "<div id=\"altair-viz-fdc65b0fc3624336b18ef2195c505207\"></div>\n",
       "<script type=\"text/javascript\">\n",
       "  var VEGA_DEBUG = (typeof VEGA_DEBUG == \"undefined\") ? {} : VEGA_DEBUG;\n",
       "  (function(spec, embedOpt){\n",
       "    let outputDiv = document.currentScript.previousElementSibling;\n",
       "    if (outputDiv.id !== \"altair-viz-fdc65b0fc3624336b18ef2195c505207\") {\n",
       "      outputDiv = document.getElementById(\"altair-viz-fdc65b0fc3624336b18ef2195c505207\");\n",
       "    }\n",
       "    const paths = {\n",
       "      \"vega\": \"https://cdn.jsdelivr.net/npm//vega@5?noext\",\n",
       "      \"vega-lib\": \"https://cdn.jsdelivr.net/npm//vega-lib?noext\",\n",
       "      \"vega-lite\": \"https://cdn.jsdelivr.net/npm//vega-lite@4.17.0?noext\",\n",
       "      \"vega-embed\": \"https://cdn.jsdelivr.net/npm//vega-embed@6?noext\",\n",
       "    };\n",
       "\n",
       "    function maybeLoadScript(lib, version) {\n",
       "      var key = `${lib.replace(\"-\", \"\")}_version`;\n",
       "      return (VEGA_DEBUG[key] == version) ?\n",
       "        Promise.resolve(paths[lib]) :\n",
       "        new Promise(function(resolve, reject) {\n",
       "          var s = document.createElement('script');\n",
       "          document.getElementsByTagName(\"head\")[0].appendChild(s);\n",
       "          s.async = true;\n",
       "          s.onload = () => {\n",
       "            VEGA_DEBUG[key] = version;\n",
       "            return resolve(paths[lib]);\n",
       "          };\n",
       "          s.onerror = () => reject(`Error loading script: ${paths[lib]}`);\n",
       "          s.src = paths[lib];\n",
       "        });\n",
       "    }\n",
       "\n",
       "    function showError(err) {\n",
       "      outputDiv.innerHTML = `<div class=\"error\" style=\"color:red;\">${err}</div>`;\n",
       "      throw err;\n",
       "    }\n",
       "\n",
       "    function displayChart(vegaEmbed) {\n",
       "      vegaEmbed(outputDiv, spec, embedOpt)\n",
       "        .catch(err => showError(`Javascript Error: ${err.message}<br>This usually means there's a typo in your chart specification. See the javascript console for the full traceback.`));\n",
       "    }\n",
       "\n",
       "    if(typeof define === \"function\" && define.amd) {\n",
       "      requirejs.config({paths});\n",
       "      require([\"vega-embed\"], displayChart, err => showError(`Error loading script: ${err.message}`));\n",
       "    } else {\n",
       "      maybeLoadScript(\"vega\", \"5\")\n",
       "        .then(() => maybeLoadScript(\"vega-lite\", \"4.17.0\"))\n",
       "        .then(() => maybeLoadScript(\"vega-embed\", \"6\"))\n",
       "        .catch(showError)\n",
       "        .then(() => displayChart(vegaEmbed));\n",
       "    }\n",
       "  })({\"config\": {\"view\": {\"continuousWidth\": 400, \"continuousHeight\": 300, \"stroke\": null}, \"facet\": {\"spacing\": 0}}, \"data\": {\"name\": \"data-ab664a4c5dcf518b33ba2a84bd491f5c\"}, \"facet\": {\"column\": {\"field\": \"route_id\", \"sort\": [\"1037\", \"1031\", \"1044\", \"1039\", \"1051\"], \"title\": \"Route ID\", \"type\": \"nominal\"}}, \"spec\": {\"layer\": [{\"mark\": \"rule\", \"encoding\": {\"color\": {\"value\": \"black\"}, \"y\": {\"field\": \"cutoff\", \"type\": \"quantitative\"}}, \"selection\": {\"selector002\": {\"type\": \"interval\", \"bind\": \"scales\", \"encodings\": [\"x\", \"y\"]}}}, {\"mark\": {\"type\": \"rule\", \"strokeDash\": [3, 3]}, \"encoding\": {\"color\": {\"value\": \"#323434\"}, \"y\": {\"field\": \"cutoff2\", \"type\": \"quantitative\"}}}, {\"mark\": {\"type\": \"point\", \"opacity\": 0.65, \"size\": 12, \"strokeWidth\": 1.1}, \"encoding\": {\"color\": {\"field\": \"time_of_day\", \"scale\": {\"range\": [\"#136C97\", \"#E16B26\", \"#F6BF16\", \"#00896B\", \"#7790A3\", \"#5B559C\"]}, \"sort\": [\"AM Peak\", \"Midday\", \"PM Peak\", \"Owl Service\"], \"title\": \"Time of Day\", \"type\": \"nominal\"}, \"tooltip\": [{\"field\": \"route_id\", \"type\": \"nominal\"}, {\"field\": \"trip_id\", \"type\": \"nominal\"}, {\"field\": \"service_hours\", \"type\": \"quantitative\"}, {\"field\": \"car_duration_hours\", \"type\": \"quantitative\"}, {\"field\": \"bus_multiplier\", \"type\": \"quantitative\"}, {\"field\": \"bus_difference\", \"type\": \"quantitative\"}, {\"field\": \"num_trips\", \"type\": \"quantitative\"}, {\"field\": \"num_competitive\", \"type\": \"quantitative\"}, {\"field\": \"pct_trips_competitive\", \"type\": \"quantitative\"}, {\"field\": \"p25\", \"type\": \"quantitative\"}, {\"field\": \"p50\", \"type\": \"quantitative\"}, {\"field\": \"p75\", \"type\": \"quantitative\"}], \"x\": {\"axis\": {\"grid\": false, \"labels\": false, \"ticks\": true, \"values\": [0]}, \"field\": \"jitter\", \"scale\": {}, \"title\": null, \"type\": \"quantitative\"}, \"y\": {\"field\": \"bus_difference\", \"scale\": {\"domain\": [-5, 29.4]}, \"title\": \"Difference in Bus to Car Travel Time (min)\", \"type\": \"quantitative\"}}, \"transform\": [{\"calculate\": \"sqrt(-2*log(random()))*cos(2*PI*random())\", \"as\": \"jitter\"}], \"width\": 50}, {\"layer\": [{\"mark\": {\"type\": \"point\", \"opacity\": 0.6, \"size\": 20, \"strokeWidth\": 1.3}, \"encoding\": {\"color\": {\"value\": \"#323434\"}, \"y\": {\"field\": \"bus_difference\", \"type\": \"quantitative\"}}, \"transform\": [{\"filter\": \"(datum.p50_trip === 1)\"}]}, {\"mark\": {\"type\": \"text\", \"align\": \"center\", \"baseline\": \"middle\"}, \"encoding\": {\"color\": {\"value\": \"black\"}, \"text\": {\"field\": \"pct_trips_competitive\", \"format\": \".0%\", \"type\": \"quantitative\"}, \"tooltip\": [{\"field\": \"route_id\", \"type\": \"nominal\"}, {\"field\": \"trip_id\", \"type\": \"nominal\"}, {\"field\": \"service_hours\", \"type\": \"quantitative\"}, {\"field\": \"car_duration_hours\", \"type\": \"quantitative\"}, {\"field\": \"bus_multiplier\", \"type\": \"quantitative\"}, {\"field\": \"bus_difference\", \"type\": \"quantitative\"}, {\"field\": \"num_trips\", \"type\": \"quantitative\"}, {\"field\": \"num_competitive\", \"type\": \"quantitative\"}, {\"field\": \"pct_trips_competitive\", \"type\": \"quantitative\"}, {\"field\": \"p25\", \"type\": \"quantitative\"}, {\"field\": \"p50\", \"type\": \"quantitative\"}, {\"field\": \"p75\", \"type\": \"quantitative\"}], \"x\": {\"value\": 30}, \"y\": {\"value\": 15}}, \"transform\": [{\"calculate\": \"sqrt(-2*log(random()))*cos(2*PI*random())\", \"as\": \"jitter\"}, {\"filter\": \"(datum.fastest_trip === 1)\"}]}]}]}, \"resolve\": {\"scale\": {\"y\": \"shared\"}}, \"title\": \"Difference in Bus to Car Travel Time (min)\", \"$schema\": \"https://vega.github.io/schema/vega-lite/v4.17.0.json\", \"datasets\": {\"data-ab664a4c5dcf518b33ba2a84bd491f5c\": [{\"calitp_itp_id\": 314, \"trip_key\": -4009182749170204565, \"trip_id\": \"t_1995280_b_33394_tn_0\", \"shape_id\": \"p_2779\", \"route_id\": \"1031\", \"service_hours\": 0.75, \"trip_first_departure_ts\": 64800, \"trip_last_arrival_ts\": 67500, \"departure_hour\": 18, \"time_of_day\": \"PM Peak\", \"p25\": 0.75, \"p50\": 0.75, \"p75\": 0.75, \"p50_trip\": 1, \"fastest_trip\": 0, \"car_duration_hours\": 0.46, \"competitive_route\": 1, \"bus_multiplier\": 1.63, \"bus_difference\": 17.4, \"num_trips\": 13, \"num_competitive\": 13, \"pct_trips_competitive\": 1.0, \"bus_difference_spread\": 0.0, \"route_group\": \"short\", \"max_trip_hrs\": 0.75, \"max_trip_route_group\": 0.85, \"name\": \"Sonoma County\", \"caltrans_district\": \"04 - Oakland\", \"drmt_organization_name\": null, \"cutoff2\": 20, \"cutoff\": 0}, {\"calitp_itp_id\": 314, \"trip_key\": 5794867356465403578, \"trip_id\": \"t_1995138_b_33394_tn_0\", \"shape_id\": \"p_2779\", \"route_id\": \"1031\", \"service_hours\": 0.75, \"trip_first_departure_ts\": 32700, \"trip_last_arrival_ts\": 35400, \"departure_hour\": 9, \"time_of_day\": \"AM Peak\", \"p25\": 0.75, \"p50\": 0.75, \"p75\": 0.75, \"p50_trip\": 1, \"fastest_trip\": 0, \"car_duration_hours\": 0.46, \"competitive_route\": 1, \"bus_multiplier\": 1.63, \"bus_difference\": 17.4, \"num_trips\": 13, \"num_competitive\": 13, \"pct_trips_competitive\": 1.0, \"bus_difference_spread\": 0.0, \"route_group\": \"short\", \"max_trip_hrs\": 0.75, \"max_trip_route_group\": 0.85, \"name\": \"Sonoma County\", \"caltrans_district\": \"04 - Oakland\", \"drmt_organization_name\": null, \"cutoff2\": 20, \"cutoff\": 0}, {\"calitp_itp_id\": 314, \"trip_key\": -165455253305553337, \"trip_id\": \"t_1995278_b_33394_tn_0\", \"shape_id\": \"p_2819\", \"route_id\": \"1031\", \"service_hours\": 0.75, \"trip_first_departure_ts\": 67800, \"trip_last_arrival_ts\": 70500, \"departure_hour\": 18, \"time_of_day\": \"PM Peak\", \"p25\": 0.75, \"p50\": 0.75, \"p75\": 0.75, \"p50_trip\": 1, \"fastest_trip\": 0, \"car_duration_hours\": 0.46, \"competitive_route\": 1, \"bus_multiplier\": 1.63, \"bus_difference\": 17.4, \"num_trips\": 13, \"num_competitive\": 13, \"pct_trips_competitive\": 1.0, \"bus_difference_spread\": 0.0, \"route_group\": \"short\", \"max_trip_hrs\": 0.75, \"max_trip_route_group\": 0.85, \"name\": \"Sonoma County\", \"caltrans_district\": \"04 - Oakland\", \"drmt_organization_name\": null, \"cutoff2\": 20, \"cutoff\": 0}, {\"calitp_itp_id\": 314, \"trip_key\": -8878626120272225162, \"trip_id\": \"t_1995527_b_33394_tn_0\", \"shape_id\": \"p_2779\", \"route_id\": \"1031\", \"service_hours\": 0.75, \"trip_first_departure_ts\": 22500, \"trip_last_arrival_ts\": 25200, \"departure_hour\": 6, \"time_of_day\": \"Owl Service\", \"p25\": 0.75, \"p50\": 0.75, \"p75\": 0.75, \"p50_trip\": 1, \"fastest_trip\": 0, \"car_duration_hours\": 0.46, \"competitive_route\": 1, \"bus_multiplier\": 1.63, \"bus_difference\": 17.4, \"num_trips\": 13, \"num_competitive\": 13, \"pct_trips_competitive\": 1.0, \"bus_difference_spread\": 0.0, \"route_group\": \"short\", \"max_trip_hrs\": 0.75, \"max_trip_route_group\": 0.85, \"name\": \"Sonoma County\", \"caltrans_district\": \"04 - Oakland\", \"drmt_organization_name\": null, \"cutoff2\": 20, \"cutoff\": 0}, {\"calitp_itp_id\": 314, \"trip_key\": -7740392914172491862, \"trip_id\": \"t_1995137_b_33394_tn_0\", \"shape_id\": \"p_2819\", \"route_id\": \"1031\", \"service_hours\": 0.75, \"trip_first_departure_ts\": 43500, \"trip_last_arrival_ts\": 46200, \"departure_hour\": 12, \"time_of_day\": \"Midday\", \"p25\": 0.75, \"p50\": 0.75, \"p75\": 0.75, \"p50_trip\": 1, \"fastest_trip\": 0, \"car_duration_hours\": 0.46, \"competitive_route\": 1, \"bus_multiplier\": 1.63, \"bus_difference\": 17.4, \"num_trips\": 13, \"num_competitive\": 13, \"pct_trips_competitive\": 1.0, \"bus_difference_spread\": 0.0, \"route_group\": \"short\", \"max_trip_hrs\": 0.75, \"max_trip_route_group\": 0.85, \"name\": \"Sonoma County\", \"caltrans_district\": \"04 - Oakland\", \"drmt_organization_name\": null, \"cutoff2\": 20, \"cutoff\": 0}, {\"calitp_itp_id\": 314, \"trip_key\": -3094891583905298281, \"trip_id\": \"t_1995133_b_33394_tn_0\", \"shape_id\": \"p_2819\", \"route_id\": \"1031\", \"service_hours\": 0.75, \"trip_first_departure_ts\": 55200, \"trip_last_arrival_ts\": 57900, \"departure_hour\": 15, \"time_of_day\": \"Midday\", \"p25\": 0.75, \"p50\": 0.75, \"p75\": 0.75, \"p50_trip\": 1, \"fastest_trip\": 0, \"car_duration_hours\": 0.46, \"competitive_route\": 1, \"bus_multiplier\": 1.63, \"bus_difference\": 17.4, \"num_trips\": 13, \"num_competitive\": 13, \"pct_trips_competitive\": 1.0, \"bus_difference_spread\": 0.0, \"route_group\": \"short\", \"max_trip_hrs\": 0.75, \"max_trip_route_group\": 0.85, \"name\": \"Sonoma County\", \"caltrans_district\": \"04 - Oakland\", \"drmt_organization_name\": null, \"cutoff2\": 20, \"cutoff\": 0}, {\"calitp_itp_id\": 314, \"trip_key\": -7234811915220071185, \"trip_id\": \"t_1995279_b_33394_tn_0\", \"shape_id\": \"p_2779\", \"route_id\": \"1031\", \"service_hours\": 0.75, \"trip_first_departure_ts\": 71100, \"trip_last_arrival_ts\": 73800, \"departure_hour\": 19, \"time_of_day\": \"PM Peak\", \"p25\": 0.75, \"p50\": 0.75, \"p75\": 0.75, \"p50_trip\": 1, \"fastest_trip\": 0, \"car_duration_hours\": 0.46, \"competitive_route\": 1, \"bus_multiplier\": 1.63, \"bus_difference\": 17.4, \"num_trips\": 13, \"num_competitive\": 13, \"pct_trips_competitive\": 1.0, \"bus_difference_spread\": 0.0, \"route_group\": \"short\", \"max_trip_hrs\": 0.75, \"max_trip_route_group\": 0.85, \"name\": \"Sonoma County\", \"caltrans_district\": \"04 - Oakland\", \"drmt_organization_name\": null, \"cutoff2\": 20, \"cutoff\": 0}, {\"calitp_itp_id\": 314, \"trip_key\": 9033065666520867772, \"trip_id\": \"t_1995134_b_33394_tn_0\", \"shape_id\": \"p_2819\", \"route_id\": \"1031\", \"service_hours\": 0.75, \"trip_first_departure_ts\": 29100, \"trip_last_arrival_ts\": 31800, \"departure_hour\": 8, \"time_of_day\": \"AM Peak\", \"p25\": 0.75, \"p50\": 0.75, \"p75\": 0.75, \"p50_trip\": 1, \"fastest_trip\": 0, \"car_duration_hours\": 0.46, \"competitive_route\": 1, \"bus_multiplier\": 1.63, \"bus_difference\": 17.4, \"num_trips\": 13, \"num_competitive\": 13, \"pct_trips_competitive\": 1.0, \"bus_difference_spread\": 0.0, \"route_group\": \"short\", \"max_trip_hrs\": 0.75, \"max_trip_route_group\": 0.85, \"name\": \"Sonoma County\", \"caltrans_district\": \"04 - Oakland\", \"drmt_organization_name\": null, \"cutoff2\": 20, \"cutoff\": 0}, {\"calitp_itp_id\": 314, \"trip_key\": -2751847008584618391, \"trip_id\": \"t_1995140_b_33394_tn_0\", \"shape_id\": \"p_2779\", \"route_id\": \"1031\", \"service_hours\": 0.75, \"trip_first_departure_ts\": 47100, \"trip_last_arrival_ts\": 49800, \"departure_hour\": 13, \"time_of_day\": \"Midday\", \"p25\": 0.75, \"p50\": 0.75, \"p75\": 0.75, \"p50_trip\": 1, \"fastest_trip\": 0, \"car_duration_hours\": 0.46, \"competitive_route\": 1, \"bus_multiplier\": 1.63, \"bus_difference\": 17.4, \"num_trips\": 13, \"num_competitive\": 13, \"pct_trips_competitive\": 1.0, \"bus_difference_spread\": 0.0, \"route_group\": \"short\", \"max_trip_hrs\": 0.75, \"max_trip_route_group\": 0.85, \"name\": \"Sonoma County\", \"caltrans_district\": \"04 - Oakland\", \"drmt_organization_name\": null, \"cutoff2\": 20, \"cutoff\": 0}, {\"calitp_itp_id\": 314, \"trip_key\": -8114520493893009338, \"trip_id\": \"t_1995289_b_33394_tn_0\", \"shape_id\": \"p_2779\", \"route_id\": \"1031\", \"service_hours\": 0.75, \"trip_first_departure_ts\": 76200, \"trip_last_arrival_ts\": 78900, \"departure_hour\": 21, \"time_of_day\": \"Owl Service\", \"p25\": 0.75, \"p50\": 0.75, \"p75\": 0.75, \"p50_trip\": 1, \"fastest_trip\": 1, \"car_duration_hours\": 0.46, \"competitive_route\": 1, \"bus_multiplier\": 1.63, \"bus_difference\": 17.4, \"num_trips\": 13, \"num_competitive\": 13, \"pct_trips_competitive\": 1.0, \"bus_difference_spread\": 0.0, \"route_group\": \"short\", \"max_trip_hrs\": 0.75, \"max_trip_route_group\": 0.85, \"name\": \"Sonoma County\", \"caltrans_district\": \"04 - Oakland\", \"drmt_organization_name\": null, \"cutoff2\": 20, \"cutoff\": 0}, {\"calitp_itp_id\": 314, \"trip_key\": -6169774474327122790, \"trip_id\": \"t_1995277_b_33394_tn_0\", \"shape_id\": \"p_2819\", \"route_id\": \"1031\", \"service_hours\": 0.75, \"trip_first_departure_ts\": 22200, \"trip_last_arrival_ts\": 24900, \"departure_hour\": 6, \"time_of_day\": \"Owl Service\", \"p25\": 0.75, \"p50\": 0.75, \"p75\": 0.75, \"p50_trip\": 1, \"fastest_trip\": 0, \"car_duration_hours\": 0.46, \"competitive_route\": 1, \"bus_multiplier\": 1.63, \"bus_difference\": 17.4, \"num_trips\": 13, \"num_competitive\": 13, \"pct_trips_competitive\": 1.0, \"bus_difference_spread\": 0.0, \"route_group\": \"short\", \"max_trip_hrs\": 0.75, \"max_trip_route_group\": 0.85, \"name\": \"Sonoma County\", \"caltrans_district\": \"04 - Oakland\", \"drmt_organization_name\": null, \"cutoff2\": 20, \"cutoff\": 0}, {\"calitp_itp_id\": 314, \"trip_key\": 7804730032637606171, \"trip_id\": \"t_1995139_b_33394_tn_0\", \"shape_id\": \"p_2779\", \"route_id\": \"1031\", \"service_hours\": 0.75, \"trip_first_departure_ts\": 58800, \"trip_last_arrival_ts\": 61500, \"departure_hour\": 16, \"time_of_day\": \"Midday\", \"p25\": 0.75, \"p50\": 0.75, \"p75\": 0.75, \"p50_trip\": 1, \"fastest_trip\": 0, \"car_duration_hours\": 0.46, \"competitive_route\": 1, \"bus_multiplier\": 1.63, \"bus_difference\": 17.4, \"num_trips\": 13, \"num_competitive\": 13, \"pct_trips_competitive\": 1.0, \"bus_difference_spread\": 0.0, \"route_group\": \"short\", \"max_trip_hrs\": 0.75, \"max_trip_route_group\": 0.85, \"name\": \"Sonoma County\", \"caltrans_district\": \"04 - Oakland\", \"drmt_organization_name\": null, \"cutoff2\": 20, \"cutoff\": 0}, {\"calitp_itp_id\": 314, \"trip_key\": -7220482043046642039, \"trip_id\": \"t_1995526_b_33394_tn_0\", \"shape_id\": \"p_2819\", \"route_id\": \"1031\", \"service_hours\": 0.75, \"trip_first_departure_ts\": 58800, \"trip_last_arrival_ts\": 61500, \"departure_hour\": 16, \"time_of_day\": \"Midday\", \"p25\": 0.75, \"p50\": 0.75, \"p75\": 0.75, \"p50_trip\": 1, \"fastest_trip\": 0, \"car_duration_hours\": 0.46, \"competitive_route\": 1, \"bus_multiplier\": 1.63, \"bus_difference\": 17.4, \"num_trips\": 13, \"num_competitive\": 13, \"pct_trips_competitive\": 1.0, \"bus_difference_spread\": 0.0, \"route_group\": \"short\", \"max_trip_hrs\": 0.75, \"max_trip_route_group\": 0.85, \"name\": \"Sonoma County\", \"caltrans_district\": \"04 - Oakland\", \"drmt_organization_name\": null, \"cutoff2\": 20, \"cutoff\": 0}, {\"calitp_itp_id\": 314, \"trip_key\": -4401203620346687022, \"trip_id\": \"t_1995083_b_33394_tn_0\", \"shape_id\": \"p_900742\", \"route_id\": \"1037\", \"service_hours\": 0.65, \"trip_first_departure_ts\": 37800, \"trip_last_arrival_ts\": 40140, \"departure_hour\": 10, \"time_of_day\": \"Midday\", \"p25\": 0.65, \"p50\": 0.67, \"p75\": 0.7075, \"p50_trip\": 0, \"fastest_trip\": 0, \"car_duration_hours\": 0.61, \"competitive_route\": 1, \"bus_multiplier\": 1.07, \"bus_difference\": 2.4, \"num_trips\": 14, \"num_competitive\": 14, \"pct_trips_competitive\": 1.0, \"bus_difference_spread\": 10.2, \"route_group\": \"short\", \"max_trip_hrs\": 0.82, \"max_trip_route_group\": 0.85, \"name\": \"Sonoma County\", \"caltrans_district\": \"04 - Oakland\", \"drmt_organization_name\": null, \"cutoff2\": 20, \"cutoff\": 0}, {\"calitp_itp_id\": 314, \"trip_key\": -7372024254152469846, \"trip_id\": \"t_1995025_b_33394_tn_0\", \"shape_id\": \"p_900742\", \"route_id\": \"1037\", \"service_hours\": 0.65, \"trip_first_departure_ts\": 51900, \"trip_last_arrival_ts\": 54240, \"departure_hour\": 14, \"time_of_day\": \"Midday\", \"p25\": 0.65, \"p50\": 0.67, \"p75\": 0.7075, \"p50_trip\": 0, \"fastest_trip\": 1, \"car_duration_hours\": 0.61, \"competitive_route\": 1, \"bus_multiplier\": 1.07, \"bus_difference\": 2.4, \"num_trips\": 14, \"num_competitive\": 14, \"pct_trips_competitive\": 1.0, \"bus_difference_spread\": 10.2, \"route_group\": \"short\", \"max_trip_hrs\": 0.82, \"max_trip_route_group\": 0.85, \"name\": \"Sonoma County\", \"caltrans_district\": \"04 - Oakland\", \"drmt_organization_name\": null, \"cutoff2\": 20, \"cutoff\": 0}, {\"calitp_itp_id\": 314, \"trip_key\": 8976561196865121394, \"trip_id\": \"t_1995022_b_33394_tn_0\", \"shape_id\": \"p_900742\", \"route_id\": \"1037\", \"service_hours\": 0.65, \"trip_first_departure_ts\": 25200, \"trip_last_arrival_ts\": 27540, \"departure_hour\": 7, \"time_of_day\": \"AM Peak\", \"p25\": 0.65, \"p50\": 0.67, \"p75\": 0.7075, \"p50_trip\": 0, \"fastest_trip\": 0, \"car_duration_hours\": 0.61, \"competitive_route\": 1, \"bus_multiplier\": 1.07, \"bus_difference\": 2.4, \"num_trips\": 14, \"num_competitive\": 14, \"pct_trips_competitive\": 1.0, \"bus_difference_spread\": 10.2, \"route_group\": \"short\", \"max_trip_hrs\": 0.82, \"max_trip_route_group\": 0.85, \"name\": \"Sonoma County\", \"caltrans_district\": \"04 - Oakland\", \"drmt_organization_name\": null, \"cutoff2\": 20, \"cutoff\": 0}, {\"calitp_itp_id\": 314, \"trip_key\": -4953589075391029066, \"trip_id\": \"t_1995023_b_33394_tn_0\", \"shape_id\": \"p_900742\", \"route_id\": \"1037\", \"service_hours\": 0.65, \"trip_first_departure_ts\": 31500, \"trip_last_arrival_ts\": 33840, \"departure_hour\": 8, \"time_of_day\": \"AM Peak\", \"p25\": 0.65, \"p50\": 0.67, \"p75\": 0.7075, \"p50_trip\": 0, \"fastest_trip\": 0, \"car_duration_hours\": 0.61, \"competitive_route\": 1, \"bus_multiplier\": 1.07, \"bus_difference\": 2.4, \"num_trips\": 14, \"num_competitive\": 14, \"pct_trips_competitive\": 1.0, \"bus_difference_spread\": 10.2, \"route_group\": \"short\", \"max_trip_hrs\": 0.82, \"max_trip_route_group\": 0.85, \"name\": \"Sonoma County\", \"caltrans_district\": \"04 - Oakland\", \"drmt_organization_name\": null, \"cutoff2\": 20, \"cutoff\": 0}, {\"calitp_itp_id\": 314, \"trip_key\": -2437235975333611689, \"trip_id\": \"t_1995024_b_33394_tn_0\", \"shape_id\": \"p_900742\", \"route_id\": \"1037\", \"service_hours\": 0.65, \"trip_first_departure_ts\": 45600, \"trip_last_arrival_ts\": 47940, \"departure_hour\": 12, \"time_of_day\": \"Midday\", \"p25\": 0.65, \"p50\": 0.67, \"p75\": 0.7075, \"p50_trip\": 0, \"fastest_trip\": 0, \"car_duration_hours\": 0.61, \"competitive_route\": 1, \"bus_multiplier\": 1.07, \"bus_difference\": 2.4, \"num_trips\": 14, \"num_competitive\": 14, \"pct_trips_competitive\": 1.0, \"bus_difference_spread\": 10.2, \"route_group\": \"short\", \"max_trip_hrs\": 0.82, \"max_trip_route_group\": 0.85, \"name\": \"Sonoma County\", \"caltrans_district\": \"04 - Oakland\", \"drmt_organization_name\": null, \"cutoff2\": 20, \"cutoff\": 0}, {\"calitp_itp_id\": 314, \"trip_key\": -9153656594911018172, \"trip_id\": \"t_1995030_b_33394_tn_0\", \"shape_id\": \"p_900738\", \"route_id\": \"1037\", \"service_hours\": 0.67, \"trip_first_departure_ts\": 55200, \"trip_last_arrival_ts\": 57600, \"departure_hour\": 15, \"time_of_day\": \"Midday\", \"p25\": 0.65, \"p50\": 0.67, \"p75\": 0.7075, \"p50_trip\": 1, \"fastest_trip\": 0, \"car_duration_hours\": 0.61, \"competitive_route\": 1, \"bus_multiplier\": 1.1, \"bus_difference\": 3.6, \"num_trips\": 14, \"num_competitive\": 14, \"pct_trips_competitive\": 1.0, \"bus_difference_spread\": 10.2, \"route_group\": \"short\", \"max_trip_hrs\": 0.82, \"max_trip_route_group\": 0.85, \"name\": \"Sonoma County\", \"caltrans_district\": \"04 - Oakland\", \"drmt_organization_name\": null, \"cutoff2\": 20, \"cutoff\": 0}, {\"calitp_itp_id\": 314, \"trip_key\": 4843105572648110166, \"trip_id\": \"t_1995085_b_33394_tn_0\", \"shape_id\": \"p_900738\", \"route_id\": \"1037\", \"service_hours\": 0.67, \"trip_first_departure_ts\": 48900, \"trip_last_arrival_ts\": 51300, \"departure_hour\": 13, \"time_of_day\": \"Midday\", \"p25\": 0.65, \"p50\": 0.67, \"p75\": 0.7075, \"p50_trip\": 1, \"fastest_trip\": 0, \"car_duration_hours\": 0.61, \"competitive_route\": 1, \"bus_multiplier\": 1.1, \"bus_difference\": 3.6, \"num_trips\": 14, \"num_competitive\": 14, \"pct_trips_competitive\": 1.0, \"bus_difference_spread\": 10.2, \"route_group\": \"short\", \"max_trip_hrs\": 0.82, \"max_trip_route_group\": 0.85, \"name\": \"Sonoma County\", \"caltrans_district\": \"04 - Oakland\", \"drmt_organization_name\": null, \"cutoff2\": 20, \"cutoff\": 0}, {\"calitp_itp_id\": 314, \"trip_key\": 512847314139743298, \"trip_id\": \"t_1995027_b_33394_tn_0\", \"shape_id\": \"p_900738\", \"route_id\": \"1037\", \"service_hours\": 0.67, \"trip_first_departure_ts\": 28200, \"trip_last_arrival_ts\": 30600, \"departure_hour\": 7, \"time_of_day\": \"AM Peak\", \"p25\": 0.65, \"p50\": 0.67, \"p75\": 0.7075, \"p50_trip\": 1, \"fastest_trip\": 0, \"car_duration_hours\": 0.61, \"competitive_route\": 1, \"bus_multiplier\": 1.1, \"bus_difference\": 3.6, \"num_trips\": 14, \"num_competitive\": 14, \"pct_trips_competitive\": 1.0, \"bus_difference_spread\": 10.2, \"route_group\": \"short\", \"max_trip_hrs\": 0.82, \"max_trip_route_group\": 0.85, \"name\": \"Sonoma County\", \"caltrans_district\": \"04 - Oakland\", \"drmt_organization_name\": null, \"cutoff2\": 20, \"cutoff\": 0}, {\"calitp_itp_id\": 314, \"trip_key\": -2058724623308365920, \"trip_id\": \"t_1995029_b_33394_tn_0\", \"shape_id\": \"p_900738\", \"route_id\": \"1037\", \"service_hours\": 0.67, \"trip_first_departure_ts\": 42600, \"trip_last_arrival_ts\": 45000, \"departure_hour\": 11, \"time_of_day\": \"Midday\", \"p25\": 0.65, \"p50\": 0.67, \"p75\": 0.7075, \"p50_trip\": 1, \"fastest_trip\": 0, \"car_duration_hours\": 0.61, \"competitive_route\": 1, \"bus_multiplier\": 1.1, \"bus_difference\": 3.6, \"num_trips\": 14, \"num_competitive\": 14, \"pct_trips_competitive\": 1.0, \"bus_difference_spread\": 10.2, \"route_group\": \"short\", \"max_trip_hrs\": 0.82, \"max_trip_route_group\": 0.85, \"name\": \"Sonoma County\", \"caltrans_district\": \"04 - Oakland\", \"drmt_organization_name\": null, \"cutoff2\": 20, \"cutoff\": 0}, {\"calitp_itp_id\": 314, \"trip_key\": -8299739809661226981, \"trip_id\": \"t_1995028_b_33394_tn_0\", \"shape_id\": \"p_900738\", \"route_id\": \"1037\", \"service_hours\": 0.67, \"trip_first_departure_ts\": 34800, \"trip_last_arrival_ts\": 37200, \"departure_hour\": 9, \"time_of_day\": \"AM Peak\", \"p25\": 0.65, \"p50\": 0.67, \"p75\": 0.7075, \"p50_trip\": 1, \"fastest_trip\": 0, \"car_duration_hours\": 0.61, \"competitive_route\": 1, \"bus_multiplier\": 1.1, \"bus_difference\": 3.6, \"num_trips\": 14, \"num_competitive\": 14, \"pct_trips_competitive\": 1.0, \"bus_difference_spread\": 10.2, \"route_group\": \"short\", \"max_trip_hrs\": 0.82, \"max_trip_route_group\": 0.85, \"name\": \"Sonoma County\", \"caltrans_district\": \"04 - Oakland\", \"drmt_organization_name\": null, \"cutoff2\": 20, \"cutoff\": 0}, {\"calitp_itp_id\": 314, \"trip_key\": -5902608269181527255, \"trip_id\": \"t_1995026_b_33394_tn_0\", \"shape_id\": \"p_900742\", \"route_id\": \"1037\", \"service_hours\": 0.72, \"trip_first_departure_ts\": 58200, \"trip_last_arrival_ts\": 60780, \"departure_hour\": 16, \"time_of_day\": \"Midday\", \"p25\": 0.65, \"p50\": 0.67, \"p75\": 0.7075, \"p50_trip\": 0, \"fastest_trip\": 0, \"car_duration_hours\": 0.61, \"competitive_route\": 1, \"bus_multiplier\": 1.18, \"bus_difference\": 6.6, \"num_trips\": 14, \"num_competitive\": 14, \"pct_trips_competitive\": 1.0, \"bus_difference_spread\": 10.2, \"route_group\": \"short\", \"max_trip_hrs\": 0.82, \"max_trip_route_group\": 0.85, \"name\": \"Sonoma County\", \"caltrans_district\": \"04 - Oakland\", \"drmt_organization_name\": null, \"cutoff2\": 20, \"cutoff\": 0}, {\"calitp_itp_id\": 314, \"trip_key\": 961739302442834806, \"trip_id\": \"t_1995084_b_33394_tn_0\", \"shape_id\": \"p_900742\", \"route_id\": \"1037\", \"service_hours\": 0.72, \"trip_first_departure_ts\": 65100, \"trip_last_arrival_ts\": 67680, \"departure_hour\": 18, \"time_of_day\": \"PM Peak\", \"p25\": 0.65, \"p50\": 0.67, \"p75\": 0.7075, \"p50_trip\": 0, \"fastest_trip\": 0, \"car_duration_hours\": 0.61, \"competitive_route\": 1, \"bus_multiplier\": 1.18, \"bus_difference\": 6.6, \"num_trips\": 14, \"num_competitive\": 14, \"pct_trips_competitive\": 1.0, \"bus_difference_spread\": 10.2, \"route_group\": \"short\", \"max_trip_hrs\": 0.82, \"max_trip_route_group\": 0.85, \"name\": \"Sonoma County\", \"caltrans_district\": \"04 - Oakland\", \"drmt_organization_name\": null, \"cutoff2\": 20, \"cutoff\": 0}, {\"calitp_itp_id\": 314, \"trip_key\": -4957616541227690504, \"trip_id\": \"t_1995086_b_33394_tn_0\", \"shape_id\": \"p_900738\", \"route_id\": \"1037\", \"service_hours\": 0.82, \"trip_first_departure_ts\": 68400, \"trip_last_arrival_ts\": 71340, \"departure_hour\": 19, \"time_of_day\": \"PM Peak\", \"p25\": 0.65, \"p50\": 0.67, \"p75\": 0.7075, \"p50_trip\": 0, \"fastest_trip\": 0, \"car_duration_hours\": 0.61, \"competitive_route\": 1, \"bus_multiplier\": 1.34, \"bus_difference\": 12.6, \"num_trips\": 14, \"num_competitive\": 14, \"pct_trips_competitive\": 1.0, \"bus_difference_spread\": 10.2, \"route_group\": \"short\", \"max_trip_hrs\": 0.82, \"max_trip_route_group\": 0.85, \"name\": \"Sonoma County\", \"caltrans_district\": \"04 - Oakland\", \"drmt_organization_name\": null, \"cutoff2\": 20, \"cutoff\": 0}, {\"calitp_itp_id\": 314, \"trip_key\": -6354877357151797192, \"trip_id\": \"t_1995031_b_33394_tn_0\", \"shape_id\": \"p_900738\", \"route_id\": \"1037\", \"service_hours\": 0.82, \"trip_first_departure_ts\": 61500, \"trip_last_arrival_ts\": 64440, \"departure_hour\": 17, \"time_of_day\": \"PM Peak\", \"p25\": 0.65, \"p50\": 0.67, \"p75\": 0.7075, \"p50_trip\": 0, \"fastest_trip\": 0, \"car_duration_hours\": 0.61, \"competitive_route\": 1, \"bus_multiplier\": 1.34, \"bus_difference\": 12.6, \"num_trips\": 14, \"num_competitive\": 14, \"pct_trips_competitive\": 1.0, \"bus_difference_spread\": 10.2, \"route_group\": \"short\", \"max_trip_hrs\": 0.82, \"max_trip_route_group\": 0.85, \"name\": \"Sonoma County\", \"caltrans_district\": \"04 - Oakland\", \"drmt_organization_name\": null, \"cutoff2\": 20, \"cutoff\": 0}, {\"calitp_itp_id\": 314, \"trip_key\": -9104936705860014709, \"trip_id\": \"t_1995309_b_33394_tn_0\", \"shape_id\": \"p_2833\", \"route_id\": \"1039\", \"service_hours\": 0.62, \"trip_first_departure_ts\": 51300, \"trip_last_arrival_ts\": 53520, \"departure_hour\": 14, \"time_of_day\": \"Midday\", \"p25\": 0.62, \"p50\": 0.62, \"p75\": 0.62, \"p50_trip\": 1, \"fastest_trip\": 0, \"car_duration_hours\": 0.68, \"competitive_route\": 1, \"bus_multiplier\": 0.91, \"bus_difference\": -3.6, \"num_trips\": 8, \"num_competitive\": 8, \"pct_trips_competitive\": 1.0, \"bus_difference_spread\": 0.0, \"route_group\": \"short\", \"max_trip_hrs\": 0.62, \"max_trip_route_group\": 0.85, \"name\": \"Sonoma County\", \"caltrans_district\": \"04 - Oakland\", \"drmt_organization_name\": null, \"cutoff2\": 20, \"cutoff\": 0}, {\"calitp_itp_id\": 314, \"trip_key\": 2234628545553501710, \"trip_id\": \"t_1994977_b_33394_tn_0\", \"shape_id\": \"p_2833\", \"route_id\": \"1039\", \"service_hours\": 0.62, \"trip_first_departure_ts\": 45000, \"trip_last_arrival_ts\": 47220, \"departure_hour\": 12, \"time_of_day\": \"Midday\", \"p25\": 0.62, \"p50\": 0.62, \"p75\": 0.62, \"p50_trip\": 1, \"fastest_trip\": 0, \"car_duration_hours\": 0.68, \"competitive_route\": 1, \"bus_multiplier\": 0.91, \"bus_difference\": -3.6, \"num_trips\": 8, \"num_competitive\": 8, \"pct_trips_competitive\": 1.0, \"bus_difference_spread\": 0.0, \"route_group\": \"short\", \"max_trip_hrs\": 0.62, \"max_trip_route_group\": 0.85, \"name\": \"Sonoma County\", \"caltrans_district\": \"04 - Oakland\", \"drmt_organization_name\": null, \"cutoff2\": 20, \"cutoff\": 0}, {\"calitp_itp_id\": 314, \"trip_key\": 8818845874824885839, \"trip_id\": \"t_1995308_b_33394_tn_1\", \"shape_id\": \"p_2833\", \"route_id\": \"1039\", \"service_hours\": 0.62, \"trip_first_departure_ts\": 22500, \"trip_last_arrival_ts\": 24720, \"departure_hour\": 6, \"time_of_day\": \"Owl Service\", \"p25\": 0.62, \"p50\": 0.62, \"p75\": 0.62, \"p50_trip\": 1, \"fastest_trip\": 0, \"car_duration_hours\": 0.68, \"competitive_route\": 1, \"bus_multiplier\": 0.91, \"bus_difference\": -3.6, \"num_trips\": 8, \"num_competitive\": 8, \"pct_trips_competitive\": 1.0, \"bus_difference_spread\": 0.0, \"route_group\": \"short\", \"max_trip_hrs\": 0.62, \"max_trip_route_group\": 0.85, \"name\": \"Sonoma County\", \"caltrans_district\": \"04 - Oakland\", \"drmt_organization_name\": null, \"cutoff2\": 20, \"cutoff\": 0}, {\"calitp_itp_id\": 314, \"trip_key\": 7124861541659948358, \"trip_id\": \"t_1995307_b_33394_tn_0\", \"shape_id\": \"p_2833\", \"route_id\": \"1039\", \"service_hours\": 0.62, \"trip_first_departure_ts\": 32400, \"trip_last_arrival_ts\": 34620, \"departure_hour\": 9, \"time_of_day\": \"AM Peak\", \"p25\": 0.62, \"p50\": 0.62, \"p75\": 0.62, \"p50_trip\": 1, \"fastest_trip\": 0, \"car_duration_hours\": 0.68, \"competitive_route\": 1, \"bus_multiplier\": 0.91, \"bus_difference\": -3.6, \"num_trips\": 8, \"num_competitive\": 8, \"pct_trips_competitive\": 1.0, \"bus_difference_spread\": 0.0, \"route_group\": \"short\", \"max_trip_hrs\": 0.62, \"max_trip_route_group\": 0.85, \"name\": \"Sonoma County\", \"caltrans_district\": \"04 - Oakland\", \"drmt_organization_name\": null, \"cutoff2\": 20, \"cutoff\": 0}, {\"calitp_itp_id\": 314, \"trip_key\": 3101518648853909186, \"trip_id\": \"t_1994979_b_33394_tn_0\", \"shape_id\": \"p_2833\", \"route_id\": \"1039\", \"service_hours\": 0.62, \"trip_first_departure_ts\": 63900, \"trip_last_arrival_ts\": 66120, \"departure_hour\": 17, \"time_of_day\": \"PM Peak\", \"p25\": 0.62, \"p50\": 0.62, \"p75\": 0.62, \"p50_trip\": 1, \"fastest_trip\": 1, \"car_duration_hours\": 0.68, \"competitive_route\": 1, \"bus_multiplier\": 0.91, \"bus_difference\": -3.6, \"num_trips\": 8, \"num_competitive\": 8, \"pct_trips_competitive\": 1.0, \"bus_difference_spread\": 0.0, \"route_group\": \"short\", \"max_trip_hrs\": 0.62, \"max_trip_route_group\": 0.85, \"name\": \"Sonoma County\", \"caltrans_district\": \"04 - Oakland\", \"drmt_organization_name\": null, \"cutoff2\": 20, \"cutoff\": 0}, {\"calitp_itp_id\": 314, \"trip_key\": -7288396620536551818, \"trip_id\": \"t_1994968_b_33394_tn_0\", \"shape_id\": \"p_2833\", \"route_id\": \"1039\", \"service_hours\": 0.62, \"trip_first_departure_ts\": 38700, \"trip_last_arrival_ts\": 40920, \"departure_hour\": 10, \"time_of_day\": \"Midday\", \"p25\": 0.62, \"p50\": 0.62, \"p75\": 0.62, \"p50_trip\": 1, \"fastest_trip\": 0, \"car_duration_hours\": 0.68, \"competitive_route\": 1, \"bus_multiplier\": 0.91, \"bus_difference\": -3.6, \"num_trips\": 8, \"num_competitive\": 8, \"pct_trips_competitive\": 1.0, \"bus_difference_spread\": 0.0, \"route_group\": \"short\", \"max_trip_hrs\": 0.62, \"max_trip_route_group\": 0.85, \"name\": \"Sonoma County\", \"caltrans_district\": \"04 - Oakland\", \"drmt_organization_name\": null, \"cutoff2\": 20, \"cutoff\": 0}, {\"calitp_itp_id\": 314, \"trip_key\": 8553250733233968646, \"trip_id\": \"t_1995342_b_33394_tn_0\", \"shape_id\": \"p_2833\", \"route_id\": \"1039\", \"service_hours\": 0.62, \"trip_first_departure_ts\": 24900, \"trip_last_arrival_ts\": 27120, \"departure_hour\": 6, \"time_of_day\": \"Owl Service\", \"p25\": 0.62, \"p50\": 0.62, \"p75\": 0.62, \"p50_trip\": 1, \"fastest_trip\": 0, \"car_duration_hours\": 0.68, \"competitive_route\": 1, \"bus_multiplier\": 0.91, \"bus_difference\": -3.6, \"num_trips\": 8, \"num_competitive\": 8, \"pct_trips_competitive\": 1.0, \"bus_difference_spread\": 0.0, \"route_group\": \"short\", \"max_trip_hrs\": 0.62, \"max_trip_route_group\": 0.85, \"name\": \"Sonoma County\", \"caltrans_district\": \"04 - Oakland\", \"drmt_organization_name\": null, \"cutoff2\": 20, \"cutoff\": 0}, {\"calitp_itp_id\": 314, \"trip_key\": -849760181217255770, \"trip_id\": \"t_1995310_b_33394_tn_0\", \"shape_id\": \"p_2833\", \"route_id\": \"1039\", \"service_hours\": 0.62, \"trip_first_departure_ts\": 57600, \"trip_last_arrival_ts\": 59820, \"departure_hour\": 16, \"time_of_day\": \"Midday\", \"p25\": 0.62, \"p50\": 0.62, \"p75\": 0.62, \"p50_trip\": 1, \"fastest_trip\": 0, \"car_duration_hours\": 0.68, \"competitive_route\": 1, \"bus_multiplier\": 0.91, \"bus_difference\": -3.6, \"num_trips\": 8, \"num_competitive\": 8, \"pct_trips_competitive\": 1.0, \"bus_difference_spread\": 0.0, \"route_group\": \"short\", \"max_trip_hrs\": 0.62, \"max_trip_route_group\": 0.85, \"name\": \"Sonoma County\", \"caltrans_district\": \"04 - Oakland\", \"drmt_organization_name\": null, \"cutoff2\": 20, \"cutoff\": 0}, {\"calitp_itp_id\": 314, \"trip_key\": -8912716538329291977, \"trip_id\": \"t_1995100_b_33394_tn_0\", \"shape_id\": \"p_180629\", \"route_id\": \"1044\", \"service_hours\": 0.42, \"trip_first_departure_ts\": 26100, \"trip_last_arrival_ts\": 27600, \"departure_hour\": 7, \"time_of_day\": \"AM Peak\", \"p25\": 0.62, \"p50\": 0.62, \"p75\": 0.62, \"p50_trip\": 0, \"fastest_trip\": 1, \"car_duration_hours\": 0.32, \"competitive_route\": 1, \"bus_multiplier\": 1.31, \"bus_difference\": 6.0, \"num_trips\": 12, \"num_competitive\": 12, \"pct_trips_competitive\": 1.0, \"bus_difference_spread\": 12.6, \"route_group\": \"short\", \"max_trip_hrs\": 0.63, \"max_trip_route_group\": 0.85, \"name\": \"Sonoma County\", \"caltrans_district\": \"04 - Oakland\", \"drmt_organization_name\": null, \"cutoff2\": 20, \"cutoff\": 0}, {\"calitp_itp_id\": 314, \"trip_key\": 3824571592975824062, \"trip_id\": \"t_1995116_b_33394_tn_0\", \"shape_id\": \"p_2849\", \"route_id\": \"1044\", \"service_hours\": 0.62, \"trip_first_departure_ts\": 30900, \"trip_last_arrival_ts\": 33120, \"departure_hour\": 8, \"time_of_day\": \"AM Peak\", \"p25\": 0.62, \"p50\": 0.62, \"p75\": 0.62, \"p50_trip\": 1, \"fastest_trip\": 0, \"car_duration_hours\": 0.32, \"competitive_route\": 1, \"bus_multiplier\": 1.94, \"bus_difference\": 18.0, \"num_trips\": 12, \"num_competitive\": 12, \"pct_trips_competitive\": 1.0, \"bus_difference_spread\": 12.6, \"route_group\": \"short\", \"max_trip_hrs\": 0.63, \"max_trip_route_group\": 0.85, \"name\": \"Sonoma County\", \"caltrans_district\": \"04 - Oakland\", \"drmt_organization_name\": null, \"cutoff2\": 20, \"cutoff\": 0}, {\"calitp_itp_id\": 314, \"trip_key\": -6485248845434282122, \"trip_id\": \"t_1995103_b_33394_tn_0\", \"shape_id\": \"p_2849\", \"route_id\": \"1044\", \"service_hours\": 0.62, \"trip_first_departure_ts\": 51000, \"trip_last_arrival_ts\": 53220, \"departure_hour\": 14, \"time_of_day\": \"Midday\", \"p25\": 0.62, \"p50\": 0.62, \"p75\": 0.62, \"p50_trip\": 1, \"fastest_trip\": 0, \"car_duration_hours\": 0.32, \"competitive_route\": 1, \"bus_multiplier\": 1.94, \"bus_difference\": 18.0, \"num_trips\": 12, \"num_competitive\": 12, \"pct_trips_competitive\": 1.0, \"bus_difference_spread\": 12.6, \"route_group\": \"short\", \"max_trip_hrs\": 0.63, \"max_trip_route_group\": 0.85, \"name\": \"Sonoma County\", \"caltrans_district\": \"04 - Oakland\", \"drmt_organization_name\": null, \"cutoff2\": 20, \"cutoff\": 0}, {\"calitp_itp_id\": 314, \"trip_key\": -8082050604574260599, \"trip_id\": \"t_1995114_b_33394_tn_0\", \"shape_id\": \"p_2849\", \"route_id\": \"1044\", \"service_hours\": 0.62, \"trip_first_departure_ts\": 56700, \"trip_last_arrival_ts\": 58920, \"departure_hour\": 15, \"time_of_day\": \"Midday\", \"p25\": 0.62, \"p50\": 0.62, \"p75\": 0.62, \"p50_trip\": 1, \"fastest_trip\": 0, \"car_duration_hours\": 0.32, \"competitive_route\": 1, \"bus_multiplier\": 1.94, \"bus_difference\": 18.0, \"num_trips\": 12, \"num_competitive\": 12, \"pct_trips_competitive\": 1.0, \"bus_difference_spread\": 12.6, \"route_group\": \"short\", \"max_trip_hrs\": 0.63, \"max_trip_route_group\": 0.85, \"name\": \"Sonoma County\", \"caltrans_district\": \"04 - Oakland\", \"drmt_organization_name\": null, \"cutoff2\": 20, \"cutoff\": 0}, {\"calitp_itp_id\": 314, \"trip_key\": -2018607780395492120, \"trip_id\": \"t_1995115_b_33394_tn_0\", \"shape_id\": \"p_2849\", \"route_id\": \"1044\", \"service_hours\": 0.62, \"trip_first_departure_ts\": 45300, \"trip_last_arrival_ts\": 47520, \"departure_hour\": 12, \"time_of_day\": \"Midday\", \"p25\": 0.62, \"p50\": 0.62, \"p75\": 0.62, \"p50_trip\": 1, \"fastest_trip\": 0, \"car_duration_hours\": 0.32, \"competitive_route\": 1, \"bus_multiplier\": 1.94, \"bus_difference\": 18.0, \"num_trips\": 12, \"num_competitive\": 12, \"pct_trips_competitive\": 1.0, \"bus_difference_spread\": 12.6, \"route_group\": \"short\", \"max_trip_hrs\": 0.63, \"max_trip_route_group\": 0.85, \"name\": \"Sonoma County\", \"caltrans_district\": \"04 - Oakland\", \"drmt_organization_name\": null, \"cutoff2\": 20, \"cutoff\": 0}, {\"calitp_itp_id\": 314, \"trip_key\": 5409462432246288081, \"trip_id\": \"t_1995104_b_33394_tn_0\", \"shape_id\": \"p_2849\", \"route_id\": \"1044\", \"service_hours\": 0.62, \"trip_first_departure_ts\": 48000, \"trip_last_arrival_ts\": 50220, \"departure_hour\": 13, \"time_of_day\": \"Midday\", \"p25\": 0.62, \"p50\": 0.62, \"p75\": 0.62, \"p50_trip\": 1, \"fastest_trip\": 0, \"car_duration_hours\": 0.32, \"competitive_route\": 1, \"bus_multiplier\": 1.94, \"bus_difference\": 18.0, \"num_trips\": 12, \"num_competitive\": 12, \"pct_trips_competitive\": 1.0, \"bus_difference_spread\": 12.6, \"route_group\": \"short\", \"max_trip_hrs\": 0.63, \"max_trip_route_group\": 0.85, \"name\": \"Sonoma County\", \"caltrans_district\": \"04 - Oakland\", \"drmt_organization_name\": null, \"cutoff2\": 20, \"cutoff\": 0}, {\"calitp_itp_id\": 314, \"trip_key\": -194303600737111805, \"trip_id\": \"t_1995112_b_33394_tn_0\", \"shape_id\": \"p_2849\", \"route_id\": \"1044\", \"service_hours\": 0.62, \"trip_first_departure_ts\": 53700, \"trip_last_arrival_ts\": 55920, \"departure_hour\": 14, \"time_of_day\": \"Midday\", \"p25\": 0.62, \"p50\": 0.62, \"p75\": 0.62, \"p50_trip\": 1, \"fastest_trip\": 0, \"car_duration_hours\": 0.32, \"competitive_route\": 1, \"bus_multiplier\": 1.94, \"bus_difference\": 18.0, \"num_trips\": 12, \"num_competitive\": 12, \"pct_trips_competitive\": 1.0, \"bus_difference_spread\": 12.6, \"route_group\": \"short\", \"max_trip_hrs\": 0.63, \"max_trip_route_group\": 0.85, \"name\": \"Sonoma County\", \"caltrans_district\": \"04 - Oakland\", \"drmt_organization_name\": null, \"cutoff2\": 20, \"cutoff\": 0}, {\"calitp_itp_id\": 314, \"trip_key\": 1669707934844175539, \"trip_id\": \"t_1995105_b_33394_tn_0\", \"shape_id\": \"p_2849\", \"route_id\": \"1044\", \"service_hours\": 0.62, \"trip_first_departure_ts\": 34200, \"trip_last_arrival_ts\": 36420, \"departure_hour\": 9, \"time_of_day\": \"AM Peak\", \"p25\": 0.62, \"p50\": 0.62, \"p75\": 0.62, \"p50_trip\": 1, \"fastest_trip\": 0, \"car_duration_hours\": 0.32, \"competitive_route\": 1, \"bus_multiplier\": 1.94, \"bus_difference\": 18.0, \"num_trips\": 12, \"num_competitive\": 12, \"pct_trips_competitive\": 1.0, \"bus_difference_spread\": 12.6, \"route_group\": \"short\", \"max_trip_hrs\": 0.63, \"max_trip_route_group\": 0.85, \"name\": \"Sonoma County\", \"caltrans_district\": \"04 - Oakland\", \"drmt_organization_name\": null, \"cutoff2\": 20, \"cutoff\": 0}, {\"calitp_itp_id\": 314, \"trip_key\": 1128491252404885055, \"trip_id\": \"t_1995113_b_33394_tn_0\", \"shape_id\": \"p_2849\", \"route_id\": \"1044\", \"service_hours\": 0.62, \"trip_first_departure_ts\": 37500, \"trip_last_arrival_ts\": 39720, \"departure_hour\": 10, \"time_of_day\": \"Midday\", \"p25\": 0.62, \"p50\": 0.62, \"p75\": 0.62, \"p50_trip\": 1, \"fastest_trip\": 0, \"car_duration_hours\": 0.32, \"competitive_route\": 1, \"bus_multiplier\": 1.94, \"bus_difference\": 18.0, \"num_trips\": 12, \"num_competitive\": 12, \"pct_trips_competitive\": 1.0, \"bus_difference_spread\": 12.6, \"route_group\": \"short\", \"max_trip_hrs\": 0.63, \"max_trip_route_group\": 0.85, \"name\": \"Sonoma County\", \"caltrans_district\": \"04 - Oakland\", \"drmt_organization_name\": null, \"cutoff2\": 20, \"cutoff\": 0}, {\"calitp_itp_id\": 314, \"trip_key\": 2920275002107793380, \"trip_id\": \"t_1995117_b_33394_tn_0\", \"shape_id\": \"p_2849\", \"route_id\": \"1044\", \"service_hours\": 0.62, \"trip_first_departure_ts\": 42600, \"trip_last_arrival_ts\": 44820, \"departure_hour\": 11, \"time_of_day\": \"Midday\", \"p25\": 0.62, \"p50\": 0.62, \"p75\": 0.62, \"p50_trip\": 1, \"fastest_trip\": 0, \"car_duration_hours\": 0.32, \"competitive_route\": 1, \"bus_multiplier\": 1.94, \"bus_difference\": 18.0, \"num_trips\": 12, \"num_competitive\": 12, \"pct_trips_competitive\": 1.0, \"bus_difference_spread\": 12.6, \"route_group\": \"short\", \"max_trip_hrs\": 0.63, \"max_trip_route_group\": 0.85, \"name\": \"Sonoma County\", \"caltrans_district\": \"04 - Oakland\", \"drmt_organization_name\": null, \"cutoff2\": 20, \"cutoff\": 0}, {\"calitp_itp_id\": 314, \"trip_key\": 2610843790347282397, \"trip_id\": \"t_1995102_b_33394_tn_0\", \"shape_id\": \"p_2849\", \"route_id\": \"1044\", \"service_hours\": 0.62, \"trip_first_departure_ts\": 27900, \"trip_last_arrival_ts\": 30120, \"departure_hour\": 7, \"time_of_day\": \"AM Peak\", \"p25\": 0.62, \"p50\": 0.62, \"p75\": 0.62, \"p50_trip\": 1, \"fastest_trip\": 0, \"car_duration_hours\": 0.32, \"competitive_route\": 1, \"bus_multiplier\": 1.94, \"bus_difference\": 18.0, \"num_trips\": 12, \"num_competitive\": 12, \"pct_trips_competitive\": 1.0, \"bus_difference_spread\": 12.6, \"route_group\": \"short\", \"max_trip_hrs\": 0.63, \"max_trip_route_group\": 0.85, \"name\": \"Sonoma County\", \"caltrans_district\": \"04 - Oakland\", \"drmt_organization_name\": null, \"cutoff2\": 20, \"cutoff\": 0}, {\"calitp_itp_id\": 314, \"trip_key\": 8443020774982121165, \"trip_id\": \"t_1995101_b_33394_tn_0\", \"shape_id\": \"p_2849\", \"route_id\": \"1044\", \"service_hours\": 0.63, \"trip_first_departure_ts\": 59400, \"trip_last_arrival_ts\": 61680, \"departure_hour\": 16, \"time_of_day\": \"Midday\", \"p25\": 0.62, \"p50\": 0.62, \"p75\": 0.62, \"p50_trip\": 0, \"fastest_trip\": 0, \"car_duration_hours\": 0.32, \"competitive_route\": 1, \"bus_multiplier\": 1.97, \"bus_difference\": 18.6, \"num_trips\": 12, \"num_competitive\": 12, \"pct_trips_competitive\": 1.0, \"bus_difference_spread\": 12.6, \"route_group\": \"short\", \"max_trip_hrs\": 0.63, \"max_trip_route_group\": 0.85, \"name\": \"Sonoma County\", \"caltrans_district\": \"04 - Oakland\", \"drmt_organization_name\": null, \"cutoff2\": 20, \"cutoff\": 0}, {\"calitp_itp_id\": 314, \"trip_key\": 6837111398810808591, \"trip_id\": \"t_1995073_b_33394_tn_0\", \"shape_id\": \"p_2780\", \"route_id\": \"1051\", \"service_hours\": 0.85, \"trip_first_departure_ts\": 70800, \"trip_last_arrival_ts\": 73860, \"departure_hour\": 19, \"time_of_day\": \"PM Peak\", \"p25\": 0.85, \"p50\": 0.85, \"p75\": 0.85, \"p50_trip\": 1, \"fastest_trip\": 1, \"car_duration_hours\": 0.82, \"competitive_route\": 1, \"bus_multiplier\": 1.04, \"bus_difference\": 1.8, \"num_trips\": 1, \"num_competitive\": 1, \"pct_trips_competitive\": 1.0, \"bus_difference_spread\": 0.0, \"route_group\": \"short\", \"max_trip_hrs\": 0.85, \"max_trip_route_group\": 0.85, \"name\": \"Sonoma County\", \"caltrans_district\": \"04 - Oakland\", \"drmt_organization_name\": null, \"cutoff2\": 20, \"cutoff\": 0}]}}, {\"mode\": \"vega-lite\"});\n",
       "</script>"
      ],
      "text/plain": [
       "alt.FacetChart(...)"
      ]
     },
     "metadata": {},
     "output_type": "display_data"
    }
   ],
   "source": [
    "# Allow for possibility that operator doesn't have routes that fall into certain route_groups\n",
    "# But, jupyterbook will not like markdown with f-string\n",
    "# separate out route_group and put in each cell, and use try/except + if to display...\n",
    "# but all 3 route groups must be displayed. just add sentence about why no routes were returned at the end\n",
    "route_group = \"short\"\n",
    "try:\n",
    "    display_charts_for_route_group(df, route_group)\n",
    "except:\n",
    "    print(\"No routes meet this criteria.\")"
   ]
  },
  {
   "cell_type": "markdown",
   "id": "c2931b6f-034d-4384-9e14-80b925e3b820",
   "metadata": {
    "papermill": {
     "duration": 0.024723,
     "end_time": "2022-05-09T19:48:31.621400",
     "exception": false,
     "start_time": "2022-05-09T19:48:31.596677",
     "status": "completed"
    },
    "tags": []
   },
   "source": [
    "### Medium Routes (1-1.5 hrs)"
   ]
  },
  {
   "cell_type": "code",
   "execution_count": 14,
   "id": "480edddc-4de0-48c2-ae4c-b0ceef8f28b5",
   "metadata": {
    "execution": {
     "iopub.execute_input": "2022-05-09T19:48:31.662576Z",
     "iopub.status.busy": "2022-05-09T19:48:31.661195Z",
     "iopub.status.idle": "2022-05-09T19:48:31.968657Z",
     "shell.execute_reply": "2022-05-09T19:48:31.967242Z"
    },
    "jupyter": {
     "source_hidden": true
    },
    "papermill": {
     "duration": 0.331585,
     "end_time": "2022-05-09T19:48:31.972475",
     "exception": false,
     "start_time": "2022-05-09T19:48:31.640890",
     "status": "completed"
    },
    "tags": [
     "remove_input"
    ]
   },
   "outputs": [
    {
     "data": {
      "text/markdown": [
       "<br>These are routes that have **at least 25% of their trips take no more than an additional 30 min** compared to a car (up to 15 routes) are shown.<br>Within each route group, routes are sorted in descending order by % competitive trips and # trips below the additional time cut-off."
      ],
      "text/plain": [
       "<IPython.core.display.Markdown object>"
      ]
     },
     "metadata": {},
     "output_type": "display_data"
    },
    {
     "data": {
      "text/html": [
       "\n",
       "<div id=\"altair-viz-fa94bc918f8a4a6c8afc97d896f6f538\"></div>\n",
       "<script type=\"text/javascript\">\n",
       "  var VEGA_DEBUG = (typeof VEGA_DEBUG == \"undefined\") ? {} : VEGA_DEBUG;\n",
       "  (function(spec, embedOpt){\n",
       "    let outputDiv = document.currentScript.previousElementSibling;\n",
       "    if (outputDiv.id !== \"altair-viz-fa94bc918f8a4a6c8afc97d896f6f538\") {\n",
       "      outputDiv = document.getElementById(\"altair-viz-fa94bc918f8a4a6c8afc97d896f6f538\");\n",
       "    }\n",
       "    const paths = {\n",
       "      \"vega\": \"https://cdn.jsdelivr.net/npm//vega@5?noext\",\n",
       "      \"vega-lib\": \"https://cdn.jsdelivr.net/npm//vega-lib?noext\",\n",
       "      \"vega-lite\": \"https://cdn.jsdelivr.net/npm//vega-lite@4.17.0?noext\",\n",
       "      \"vega-embed\": \"https://cdn.jsdelivr.net/npm//vega-embed@6?noext\",\n",
       "    };\n",
       "\n",
       "    function maybeLoadScript(lib, version) {\n",
       "      var key = `${lib.replace(\"-\", \"\")}_version`;\n",
       "      return (VEGA_DEBUG[key] == version) ?\n",
       "        Promise.resolve(paths[lib]) :\n",
       "        new Promise(function(resolve, reject) {\n",
       "          var s = document.createElement('script');\n",
       "          document.getElementsByTagName(\"head\")[0].appendChild(s);\n",
       "          s.async = true;\n",
       "          s.onload = () => {\n",
       "            VEGA_DEBUG[key] = version;\n",
       "            return resolve(paths[lib]);\n",
       "          };\n",
       "          s.onerror = () => reject(`Error loading script: ${paths[lib]}`);\n",
       "          s.src = paths[lib];\n",
       "        });\n",
       "    }\n",
       "\n",
       "    function showError(err) {\n",
       "      outputDiv.innerHTML = `<div class=\"error\" style=\"color:red;\">${err}</div>`;\n",
       "      throw err;\n",
       "    }\n",
       "\n",
       "    function displayChart(vegaEmbed) {\n",
       "      vegaEmbed(outputDiv, spec, embedOpt)\n",
       "        .catch(err => showError(`Javascript Error: ${err.message}<br>This usually means there's a typo in your chart specification. See the javascript console for the full traceback.`));\n",
       "    }\n",
       "\n",
       "    if(typeof define === \"function\" && define.amd) {\n",
       "      requirejs.config({paths});\n",
       "      require([\"vega-embed\"], displayChart, err => showError(`Error loading script: ${err.message}`));\n",
       "    } else {\n",
       "      maybeLoadScript(\"vega\", \"5\")\n",
       "        .then(() => maybeLoadScript(\"vega-lite\", \"4.17.0\"))\n",
       "        .then(() => maybeLoadScript(\"vega-embed\", \"6\"))\n",
       "        .catch(showError)\n",
       "        .then(() => displayChart(vegaEmbed));\n",
       "    }\n",
       "  })({\"config\": {\"view\": {\"continuousWidth\": 400, \"continuousHeight\": 300, \"stroke\": null}, \"facet\": {\"spacing\": 0}}, \"data\": {\"name\": \"data-6be01650a0b3f2a2fc0a5486e820d23f\"}, \"facet\": {\"column\": {\"field\": \"route_id\", \"sort\": [\"1029\", \"1040\", \"1050\"], \"title\": \"Route ID\", \"type\": \"nominal\"}}, \"spec\": {\"layer\": [{\"mark\": \"rule\", \"encoding\": {\"color\": {\"value\": \"black\"}, \"y\": {\"field\": \"cutoff\", \"type\": \"quantitative\"}}, \"selection\": {\"selector003\": {\"type\": \"interval\", \"bind\": \"scales\", \"encodings\": [\"x\", \"y\"]}}}, {\"mark\": {\"type\": \"point\", \"opacity\": 0.65, \"size\": 12, \"strokeWidth\": 1.1}, \"encoding\": {\"color\": {\"field\": \"time_of_day\", \"scale\": {\"range\": [\"#136C97\", \"#E16B26\", \"#F6BF16\", \"#00896B\", \"#7790A3\", \"#5B559C\"]}, \"sort\": [\"AM Peak\", \"Midday\", \"PM Peak\", \"Owl Service\"], \"title\": \"Time of Day\", \"type\": \"nominal\"}, \"tooltip\": [{\"field\": \"route_id\", \"type\": \"nominal\"}, {\"field\": \"trip_id\", \"type\": \"nominal\"}, {\"field\": \"service_hours\", \"type\": \"quantitative\"}, {\"field\": \"car_duration_hours\", \"type\": \"quantitative\"}, {\"field\": \"bus_multiplier\", \"type\": \"quantitative\"}, {\"field\": \"bus_difference\", \"type\": \"quantitative\"}, {\"field\": \"num_trips\", \"type\": \"quantitative\"}, {\"field\": \"num_competitive\", \"type\": \"quantitative\"}, {\"field\": \"pct_trips_competitive\", \"type\": \"quantitative\"}, {\"field\": \"p25\", \"type\": \"quantitative\"}, {\"field\": \"p50\", \"type\": \"quantitative\"}, {\"field\": \"p75\", \"type\": \"quantitative\"}], \"x\": {\"axis\": {\"grid\": false, \"labels\": false, \"ticks\": true, \"values\": [0]}, \"field\": \"jitter\", \"scale\": {}, \"title\": null, \"type\": \"quantitative\"}, \"y\": {\"field\": \"bus_multiplier\", \"scale\": {\"domain\": [-0.25, 2.5]}, \"title\": \"Ratio of Bus to Car Travel Time\", \"type\": \"quantitative\"}}, \"transform\": [{\"calculate\": \"sqrt(-2*log(random()))*cos(2*PI*random())\", \"as\": \"jitter\"}], \"width\": 50}, {\"layer\": [{\"mark\": {\"type\": \"point\", \"opacity\": 0.6, \"size\": 20, \"strokeWidth\": 1.3}, \"encoding\": {\"color\": {\"value\": \"#323434\"}, \"y\": {\"field\": \"bus_multiplier\", \"type\": \"quantitative\"}}, \"transform\": [{\"filter\": \"(datum.p50_trip === 1)\"}]}, {\"mark\": {\"type\": \"text\", \"align\": \"center\", \"baseline\": \"middle\"}, \"encoding\": {\"color\": {\"value\": \"black\"}, \"text\": {\"field\": \"pct_trips_competitive\", \"format\": \".0%\", \"type\": \"quantitative\"}, \"tooltip\": [{\"field\": \"route_id\", \"type\": \"nominal\"}, {\"field\": \"trip_id\", \"type\": \"nominal\"}, {\"field\": \"service_hours\", \"type\": \"quantitative\"}, {\"field\": \"car_duration_hours\", \"type\": \"quantitative\"}, {\"field\": \"bus_multiplier\", \"type\": \"quantitative\"}, {\"field\": \"bus_difference\", \"type\": \"quantitative\"}, {\"field\": \"num_trips\", \"type\": \"quantitative\"}, {\"field\": \"num_competitive\", \"type\": \"quantitative\"}, {\"field\": \"pct_trips_competitive\", \"type\": \"quantitative\"}, {\"field\": \"p25\", \"type\": \"quantitative\"}, {\"field\": \"p50\", \"type\": \"quantitative\"}, {\"field\": \"p75\", \"type\": \"quantitative\"}], \"x\": {\"value\": 30}, \"y\": {\"value\": 15}}, \"transform\": [{\"calculate\": \"sqrt(-2*log(random()))*cos(2*PI*random())\", \"as\": \"jitter\"}, {\"filter\": \"(datum.fastest_trip === 1)\"}]}]}]}, \"resolve\": {\"scale\": {\"y\": \"shared\"}}, \"title\": \"Ratio of Bus to Car Travel Time\", \"$schema\": \"https://vega.github.io/schema/vega-lite/v4.17.0.json\", \"datasets\": {\"data-6be01650a0b3f2a2fc0a5486e820d23f\": [{\"calitp_itp_id\": 314, \"trip_key\": 5861714974480661560, \"trip_id\": \"t_1995178_b_33394_tn_0\", \"shape_id\": \"p_2757\", \"route_id\": \"1029\", \"service_hours\": 1.43, \"trip_first_departure_ts\": 64800, \"trip_last_arrival_ts\": 69960, \"departure_hour\": 18, \"time_of_day\": \"PM Peak\", \"p25\": 1.47, \"p50\": 1.47, \"p75\": 1.48, \"p50_trip\": 0, \"fastest_trip\": 0, \"car_duration_hours\": 1.17, \"competitive_route\": 1, \"bus_multiplier\": 1.22, \"bus_difference\": 15.6, \"num_trips\": 16, \"num_competitive\": 16, \"pct_trips_competitive\": 1.0, \"bus_difference_spread\": 3.0, \"route_group\": \"medium\", \"max_trip_hrs\": 1.48, \"max_trip_route_group\": 1.48, \"name\": \"Sonoma County\", \"caltrans_district\": \"04 - Oakland\", \"drmt_organization_name\": null, \"cutoff2\": 30, \"cutoff\": 2}, {\"calitp_itp_id\": 314, \"trip_key\": -172484805845623380, \"trip_id\": \"t_1994985_b_33394_tn_0\", \"shape_id\": \"p_2757\", \"route_id\": \"1029\", \"service_hours\": 1.43, \"trip_first_departure_ts\": 70500, \"trip_last_arrival_ts\": 75660, \"departure_hour\": 19, \"time_of_day\": \"PM Peak\", \"p25\": 1.47, \"p50\": 1.47, \"p75\": 1.48, \"p50_trip\": 0, \"fastest_trip\": 1, \"car_duration_hours\": 1.17, \"competitive_route\": 1, \"bus_multiplier\": 1.22, \"bus_difference\": 15.6, \"num_trips\": 16, \"num_competitive\": 16, \"pct_trips_competitive\": 1.0, \"bus_difference_spread\": 3.0, \"route_group\": \"medium\", \"max_trip_hrs\": 1.48, \"max_trip_route_group\": 1.48, \"name\": \"Sonoma County\", \"caltrans_district\": \"04 - Oakland\", \"drmt_organization_name\": null, \"cutoff2\": 30, \"cutoff\": 2}, {\"calitp_itp_id\": 314, \"trip_key\": 9174944603936959203, \"trip_id\": \"t_1994990_b_33394_tn_0\", \"shape_id\": \"p_900740\", \"route_id\": \"1029\", \"service_hours\": 1.47, \"trip_first_departure_ts\": 22500, \"trip_last_arrival_ts\": 27780, \"departure_hour\": 6, \"time_of_day\": \"Owl Service\", \"p25\": 1.47, \"p50\": 1.47, \"p75\": 1.48, \"p50_trip\": 1, \"fastest_trip\": 0, \"car_duration_hours\": 1.17, \"competitive_route\": 1, \"bus_multiplier\": 1.26, \"bus_difference\": 18.0, \"num_trips\": 16, \"num_competitive\": 16, \"pct_trips_competitive\": 1.0, \"bus_difference_spread\": 3.0, \"route_group\": \"medium\", \"max_trip_hrs\": 1.48, \"max_trip_route_group\": 1.48, \"name\": \"Sonoma County\", \"caltrans_district\": \"04 - Oakland\", \"drmt_organization_name\": null, \"cutoff2\": 30, \"cutoff\": 2}, {\"calitp_itp_id\": 314, \"trip_key\": 2252012437165047963, \"trip_id\": \"t_1995234_b_33394_tn_0\", \"shape_id\": \"p_900740\", \"route_id\": \"1029\", \"service_hours\": 1.47, \"trip_first_departure_ts\": 39300, \"trip_last_arrival_ts\": 44580, \"departure_hour\": 10, \"time_of_day\": \"Midday\", \"p25\": 1.47, \"p50\": 1.47, \"p75\": 1.48, \"p50_trip\": 1, \"fastest_trip\": 0, \"car_duration_hours\": 1.17, \"competitive_route\": 1, \"bus_multiplier\": 1.26, \"bus_difference\": 18.0, \"num_trips\": 16, \"num_competitive\": 16, \"pct_trips_competitive\": 1.0, \"bus_difference_spread\": 3.0, \"route_group\": \"medium\", \"max_trip_hrs\": 1.48, \"max_trip_route_group\": 1.48, \"name\": \"Sonoma County\", \"caltrans_district\": \"04 - Oakland\", \"drmt_organization_name\": null, \"cutoff2\": 30, \"cutoff\": 2}, {\"calitp_itp_id\": 314, \"trip_key\": -3754024022742656924, \"trip_id\": \"t_1995443_b_33394_tn_0\", \"shape_id\": \"p_900740\", \"route_id\": \"1029\", \"service_hours\": 1.47, \"trip_first_departure_ts\": 62400, \"trip_last_arrival_ts\": 67680, \"departure_hour\": 17, \"time_of_day\": \"PM Peak\", \"p25\": 1.47, \"p50\": 1.47, \"p75\": 1.48, \"p50_trip\": 1, \"fastest_trip\": 0, \"car_duration_hours\": 1.17, \"competitive_route\": 1, \"bus_multiplier\": 1.26, \"bus_difference\": 18.0, \"num_trips\": 16, \"num_competitive\": 16, \"pct_trips_competitive\": 1.0, \"bus_difference_spread\": 3.0, \"route_group\": \"medium\", \"max_trip_hrs\": 1.48, \"max_trip_route_group\": 1.48, \"name\": \"Sonoma County\", \"caltrans_district\": \"04 - Oakland\", \"drmt_organization_name\": null, \"cutoff2\": 30, \"cutoff\": 2}, {\"calitp_itp_id\": 314, \"trip_key\": 6181454437648239874, \"trip_id\": \"t_1995072_b_33394_tn_0\", \"shape_id\": \"p_900740\", \"route_id\": \"1029\", \"service_hours\": 1.47, \"trip_first_departure_ts\": 32700, \"trip_last_arrival_ts\": 37980, \"departure_hour\": 9, \"time_of_day\": \"AM Peak\", \"p25\": 1.47, \"p50\": 1.47, \"p75\": 1.48, \"p50_trip\": 1, \"fastest_trip\": 0, \"car_duration_hours\": 1.17, \"competitive_route\": 1, \"bus_multiplier\": 1.26, \"bus_difference\": 18.0, \"num_trips\": 16, \"num_competitive\": 16, \"pct_trips_competitive\": 1.0, \"bus_difference_spread\": 3.0, \"route_group\": \"medium\", \"max_trip_hrs\": 1.48, \"max_trip_route_group\": 1.48, \"name\": \"Sonoma County\", \"caltrans_district\": \"04 - Oakland\", \"drmt_organization_name\": null, \"cutoff2\": 30, \"cutoff\": 2}, {\"calitp_itp_id\": 314, \"trip_key\": -8057275306514134498, \"trip_id\": \"t_1995233_b_33394_tn_0\", \"shape_id\": \"p_900740\", \"route_id\": \"1029\", \"service_hours\": 1.47, \"trip_first_departure_ts\": 25200, \"trip_last_arrival_ts\": 30480, \"departure_hour\": 7, \"time_of_day\": \"AM Peak\", \"p25\": 1.47, \"p50\": 1.47, \"p75\": 1.48, \"p50_trip\": 1, \"fastest_trip\": 0, \"car_duration_hours\": 1.17, \"competitive_route\": 1, \"bus_multiplier\": 1.26, \"bus_difference\": 18.0, \"num_trips\": 16, \"num_competitive\": 16, \"pct_trips_competitive\": 1.0, \"bus_difference_spread\": 3.0, \"route_group\": \"medium\", \"max_trip_hrs\": 1.48, \"max_trip_route_group\": 1.48, \"name\": \"Sonoma County\", \"caltrans_district\": \"04 - Oakland\", \"drmt_organization_name\": null, \"cutoff2\": 30, \"cutoff\": 2}, {\"calitp_itp_id\": 314, \"trip_key\": -6074089823443294770, \"trip_id\": \"t_1995184_b_33394_tn_0\", \"shape_id\": \"p_900740\", \"route_id\": \"1029\", \"service_hours\": 1.47, \"trip_first_departure_ts\": 46800, \"trip_last_arrival_ts\": 52080, \"departure_hour\": 13, \"time_of_day\": \"Midday\", \"p25\": 1.47, \"p50\": 1.47, \"p75\": 1.48, \"p50_trip\": 1, \"fastest_trip\": 0, \"car_duration_hours\": 1.17, \"competitive_route\": 1, \"bus_multiplier\": 1.26, \"bus_difference\": 18.0, \"num_trips\": 16, \"num_competitive\": 16, \"pct_trips_competitive\": 1.0, \"bus_difference_spread\": 3.0, \"route_group\": \"medium\", \"max_trip_hrs\": 1.48, \"max_trip_route_group\": 1.48, \"name\": \"Sonoma County\", \"caltrans_district\": \"04 - Oakland\", \"drmt_organization_name\": null, \"cutoff2\": 30, \"cutoff\": 2}, {\"calitp_itp_id\": 314, \"trip_key\": -1545695187608349873, \"trip_id\": \"t_1995235_b_33394_tn_0\", \"shape_id\": \"p_900740\", \"route_id\": \"1029\", \"service_hours\": 1.47, \"trip_first_departure_ts\": 52200, \"trip_last_arrival_ts\": 57480, \"departure_hour\": 14, \"time_of_day\": \"Midday\", \"p25\": 1.47, \"p50\": 1.47, \"p75\": 1.48, \"p50_trip\": 1, \"fastest_trip\": 0, \"car_duration_hours\": 1.17, \"competitive_route\": 1, \"bus_multiplier\": 1.26, \"bus_difference\": 18.0, \"num_trips\": 16, \"num_competitive\": 16, \"pct_trips_competitive\": 1.0, \"bus_difference_spread\": 3.0, \"route_group\": \"medium\", \"max_trip_hrs\": 1.48, \"max_trip_route_group\": 1.48, \"name\": \"Sonoma County\", \"caltrans_district\": \"04 - Oakland\", \"drmt_organization_name\": null, \"cutoff2\": 30, \"cutoff\": 2}, {\"calitp_itp_id\": 314, \"trip_key\": -3381273395105880775, \"trip_id\": \"t_1995183_b_33394_tn_0\", \"shape_id\": \"p_900740\", \"route_id\": \"1029\", \"service_hours\": 1.47, \"trip_first_departure_ts\": 58800, \"trip_last_arrival_ts\": 64080, \"departure_hour\": 16, \"time_of_day\": \"Midday\", \"p25\": 1.47, \"p50\": 1.47, \"p75\": 1.48, \"p50_trip\": 1, \"fastest_trip\": 0, \"car_duration_hours\": 1.17, \"competitive_route\": 1, \"bus_multiplier\": 1.26, \"bus_difference\": 18.0, \"num_trips\": 16, \"num_competitive\": 16, \"pct_trips_competitive\": 1.0, \"bus_difference_spread\": 3.0, \"route_group\": \"medium\", \"max_trip_hrs\": 1.48, \"max_trip_route_group\": 1.48, \"name\": \"Sonoma County\", \"caltrans_district\": \"04 - Oakland\", \"drmt_organization_name\": null, \"cutoff2\": 30, \"cutoff\": 2}, {\"calitp_itp_id\": 314, \"trip_key\": 5183107653100583066, \"trip_id\": \"t_1995230_b_33394_tn_0\", \"shape_id\": \"p_900739\", \"route_id\": \"1029\", \"service_hours\": 1.48, \"trip_first_departure_ts\": 31500, \"trip_last_arrival_ts\": 36840, \"departure_hour\": 8, \"time_of_day\": \"AM Peak\", \"p25\": 1.47, \"p50\": 1.47, \"p75\": 1.48, \"p50_trip\": 0, \"fastest_trip\": 0, \"car_duration_hours\": 1.17, \"competitive_route\": 1, \"bus_multiplier\": 1.26, \"bus_difference\": 18.6, \"num_trips\": 16, \"num_competitive\": 16, \"pct_trips_competitive\": 1.0, \"bus_difference_spread\": 3.0, \"route_group\": \"medium\", \"max_trip_hrs\": 1.48, \"max_trip_route_group\": 1.48, \"name\": \"Sonoma County\", \"caltrans_district\": \"04 - Oakland\", \"drmt_organization_name\": null, \"cutoff2\": 30, \"cutoff\": 2}, {\"calitp_itp_id\": 314, \"trip_key\": -5678321845932730977, \"trip_id\": \"t_1995071_b_33394_tn_0\", \"shape_id\": \"p_900739\", \"route_id\": \"1029\", \"service_hours\": 1.48, \"trip_first_departure_ts\": 52800, \"trip_last_arrival_ts\": 58140, \"departure_hour\": 14, \"time_of_day\": \"Midday\", \"p25\": 1.47, \"p50\": 1.47, \"p75\": 1.48, \"p50_trip\": 0, \"fastest_trip\": 0, \"car_duration_hours\": 1.17, \"competitive_route\": 1, \"bus_multiplier\": 1.26, \"bus_difference\": 18.6, \"num_trips\": 16, \"num_competitive\": 16, \"pct_trips_competitive\": 1.0, \"bus_difference_spread\": 3.0, \"route_group\": \"medium\", \"max_trip_hrs\": 1.48, \"max_trip_route_group\": 1.48, \"name\": \"Sonoma County\", \"caltrans_district\": \"04 - Oakland\", \"drmt_organization_name\": null, \"cutoff2\": 30, \"cutoff\": 2}, {\"calitp_itp_id\": 314, \"trip_key\": 3307686090928055580, \"trip_id\": \"t_1995231_b_33394_tn_0\", \"shape_id\": \"p_900739\", \"route_id\": \"1029\", \"service_hours\": 1.48, \"trip_first_departure_ts\": 45600, \"trip_last_arrival_ts\": 50940, \"departure_hour\": 12, \"time_of_day\": \"Midday\", \"p25\": 1.47, \"p50\": 1.47, \"p75\": 1.48, \"p50_trip\": 0, \"fastest_trip\": 0, \"car_duration_hours\": 1.17, \"competitive_route\": 1, \"bus_multiplier\": 1.26, \"bus_difference\": 18.6, \"num_trips\": 16, \"num_competitive\": 16, \"pct_trips_competitive\": 1.0, \"bus_difference_spread\": 3.0, \"route_group\": \"medium\", \"max_trip_hrs\": 1.48, \"max_trip_route_group\": 1.48, \"name\": \"Sonoma County\", \"caltrans_district\": \"04 - Oakland\", \"drmt_organization_name\": null, \"cutoff2\": 30, \"cutoff\": 2}, {\"calitp_itp_id\": 314, \"trip_key\": -9114787487566381368, \"trip_id\": \"t_1995070_b_33394_tn_0\", \"shape_id\": \"p_900739\", \"route_id\": \"1029\", \"service_hours\": 1.48, \"trip_first_departure_ts\": 26700, \"trip_last_arrival_ts\": 32040, \"departure_hour\": 7, \"time_of_day\": \"AM Peak\", \"p25\": 1.47, \"p50\": 1.47, \"p75\": 1.48, \"p50_trip\": 0, \"fastest_trip\": 0, \"car_duration_hours\": 1.17, \"competitive_route\": 1, \"bus_multiplier\": 1.26, \"bus_difference\": 18.6, \"num_trips\": 16, \"num_competitive\": 16, \"pct_trips_competitive\": 1.0, \"bus_difference_spread\": 3.0, \"route_group\": \"medium\", \"max_trip_hrs\": 1.48, \"max_trip_route_group\": 1.48, \"name\": \"Sonoma County\", \"caltrans_district\": \"04 - Oakland\", \"drmt_organization_name\": null, \"cutoff2\": 30, \"cutoff\": 2}, {\"calitp_itp_id\": 314, \"trip_key\": 366972045435200149, \"trip_id\": \"t_1994983_b_33394_tn_0\", \"shape_id\": \"p_900739\", \"route_id\": \"1029\", \"service_hours\": 1.48, \"trip_first_departure_ts\": 58800, \"trip_last_arrival_ts\": 64140, \"departure_hour\": 16, \"time_of_day\": \"Midday\", \"p25\": 1.47, \"p50\": 1.47, \"p75\": 1.48, \"p50_trip\": 0, \"fastest_trip\": 0, \"car_duration_hours\": 1.17, \"competitive_route\": 1, \"bus_multiplier\": 1.26, \"bus_difference\": 18.6, \"num_trips\": 16, \"num_competitive\": 16, \"pct_trips_competitive\": 1.0, \"bus_difference_spread\": 3.0, \"route_group\": \"medium\", \"max_trip_hrs\": 1.48, \"max_trip_route_group\": 1.48, \"name\": \"Sonoma County\", \"caltrans_district\": \"04 - Oakland\", \"drmt_organization_name\": null, \"cutoff2\": 30, \"cutoff\": 2}, {\"calitp_itp_id\": 314, \"trip_key\": -7951347655572719140, \"trip_id\": \"t_1995179_b_33394_tn_0\", \"shape_id\": \"p_900739\", \"route_id\": \"1029\", \"service_hours\": 1.48, \"trip_first_departure_ts\": 40800, \"trip_last_arrival_ts\": 46140, \"departure_hour\": 11, \"time_of_day\": \"Midday\", \"p25\": 1.47, \"p50\": 1.47, \"p75\": 1.48, \"p50_trip\": 0, \"fastest_trip\": 0, \"car_duration_hours\": 1.17, \"competitive_route\": 1, \"bus_multiplier\": 1.26, \"bus_difference\": 18.6, \"num_trips\": 16, \"num_competitive\": 16, \"pct_trips_competitive\": 1.0, \"bus_difference_spread\": 3.0, \"route_group\": \"medium\", \"max_trip_hrs\": 1.48, \"max_trip_route_group\": 1.48, \"name\": \"Sonoma County\", \"caltrans_district\": \"04 - Oakland\", \"drmt_organization_name\": null, \"cutoff2\": 30, \"cutoff\": 2}, {\"calitp_itp_id\": 314, \"trip_key\": -5021683660579063055, \"trip_id\": \"t_1995313_b_33394_tn_0\", \"shape_id\": \"p_179246\", \"route_id\": \"1040\", \"service_hours\": 0.78, \"trip_first_departure_ts\": 54000, \"trip_last_arrival_ts\": 56820, \"departure_hour\": 15, \"time_of_day\": \"Midday\", \"p25\": 0.78, \"p50\": 0.78, \"p75\": 0.78, \"p50_trip\": 1, \"fastest_trip\": 0, \"car_duration_hours\": 0.59, \"competitive_route\": 1, \"bus_multiplier\": 1.32, \"bus_difference\": 11.4, \"num_trips\": 6, \"num_competitive\": 6, \"pct_trips_competitive\": 1.0, \"bus_difference_spread\": 18.0, \"route_group\": \"medium\", \"max_trip_hrs\": 1.08, \"max_trip_route_group\": 1.48, \"name\": \"Sonoma County\", \"caltrans_district\": \"04 - Oakland\", \"drmt_organization_name\": null, \"cutoff2\": 30, \"cutoff\": 2}, {\"calitp_itp_id\": 314, \"trip_key\": -4834762926864267511, \"trip_id\": \"t_1995312_b_33394_tn_0\", \"shape_id\": \"p_179246\", \"route_id\": \"1040\", \"service_hours\": 0.78, \"trip_first_departure_ts\": 47700, \"trip_last_arrival_ts\": 50520, \"departure_hour\": 13, \"time_of_day\": \"Midday\", \"p25\": 0.78, \"p50\": 0.78, \"p75\": 0.78, \"p50_trip\": 1, \"fastest_trip\": 0, \"car_duration_hours\": 0.59, \"competitive_route\": 1, \"bus_multiplier\": 1.32, \"bus_difference\": 11.4, \"num_trips\": 6, \"num_competitive\": 6, \"pct_trips_competitive\": 1.0, \"bus_difference_spread\": 18.0, \"route_group\": \"medium\", \"max_trip_hrs\": 1.08, \"max_trip_route_group\": 1.48, \"name\": \"Sonoma County\", \"caltrans_district\": \"04 - Oakland\", \"drmt_organization_name\": null, \"cutoff2\": 30, \"cutoff\": 2}, {\"calitp_itp_id\": 314, \"trip_key\": 4362156448932575731, \"trip_id\": \"t_1995311_b_33394_tn_0\", \"shape_id\": \"p_179246\", \"route_id\": \"1040\", \"service_hours\": 0.78, \"trip_first_departure_ts\": 35100, \"trip_last_arrival_ts\": 37920, \"departure_hour\": 9, \"time_of_day\": \"AM Peak\", \"p25\": 0.78, \"p50\": 0.78, \"p75\": 0.78, \"p50_trip\": 1, \"fastest_trip\": 0, \"car_duration_hours\": 0.59, \"competitive_route\": 1, \"bus_multiplier\": 1.32, \"bus_difference\": 11.4, \"num_trips\": 6, \"num_competitive\": 6, \"pct_trips_competitive\": 1.0, \"bus_difference_spread\": 18.0, \"route_group\": \"medium\", \"max_trip_hrs\": 1.08, \"max_trip_route_group\": 1.48, \"name\": \"Sonoma County\", \"caltrans_district\": \"04 - Oakland\", \"drmt_organization_name\": null, \"cutoff2\": 30, \"cutoff\": 2}, {\"calitp_itp_id\": 314, \"trip_key\": -2796310238604225054, \"trip_id\": \"t_1995314_b_33394_tn_0\", \"shape_id\": \"p_179246\", \"route_id\": \"1040\", \"service_hours\": 0.78, \"trip_first_departure_ts\": 60300, \"trip_last_arrival_ts\": 63120, \"departure_hour\": 16, \"time_of_day\": \"Midday\", \"p25\": 0.78, \"p50\": 0.78, \"p75\": 0.78, \"p50_trip\": 1, \"fastest_trip\": 1, \"car_duration_hours\": 0.59, \"competitive_route\": 1, \"bus_multiplier\": 1.32, \"bus_difference\": 11.4, \"num_trips\": 6, \"num_competitive\": 6, \"pct_trips_competitive\": 1.0, \"bus_difference_spread\": 18.0, \"route_group\": \"medium\", \"max_trip_hrs\": 1.08, \"max_trip_route_group\": 1.48, \"name\": \"Sonoma County\", \"caltrans_district\": \"04 - Oakland\", \"drmt_organization_name\": null, \"cutoff2\": 30, \"cutoff\": 2}, {\"calitp_itp_id\": 314, \"trip_key\": -4835694877863295939, \"trip_id\": \"t_1995334_b_33394_tn_0\", \"shape_id\": \"p_179246\", \"route_id\": \"1040\", \"service_hours\": 0.78, \"trip_first_departure_ts\": 41400, \"trip_last_arrival_ts\": 44220, \"departure_hour\": 11, \"time_of_day\": \"Midday\", \"p25\": 0.78, \"p50\": 0.78, \"p75\": 0.78, \"p50_trip\": 1, \"fastest_trip\": 0, \"car_duration_hours\": 0.59, \"competitive_route\": 1, \"bus_multiplier\": 1.32, \"bus_difference\": 11.4, \"num_trips\": 6, \"num_competitive\": 6, \"pct_trips_competitive\": 1.0, \"bus_difference_spread\": 18.0, \"route_group\": \"medium\", \"max_trip_hrs\": 1.08, \"max_trip_route_group\": 1.48, \"name\": \"Sonoma County\", \"caltrans_district\": \"04 - Oakland\", \"drmt_organization_name\": null, \"cutoff2\": 30, \"cutoff\": 2}, {\"calitp_itp_id\": 314, \"trip_key\": 1352471065168091377, \"trip_id\": \"t_1994984_b_33394_tn_0\", \"shape_id\": \"p_1277086\", \"route_id\": \"1040\", \"service_hours\": 1.08, \"trip_first_departure_ts\": 27300, \"trip_last_arrival_ts\": 31200, \"departure_hour\": 7, \"time_of_day\": \"AM Peak\", \"p25\": 0.78, \"p50\": 0.78, \"p75\": 0.78, \"p50_trip\": 0, \"fastest_trip\": 0, \"car_duration_hours\": 0.59, \"competitive_route\": 1, \"bus_multiplier\": 1.83, \"bus_difference\": 29.4, \"num_trips\": 6, \"num_competitive\": 6, \"pct_trips_competitive\": 1.0, \"bus_difference_spread\": 18.0, \"route_group\": \"medium\", \"max_trip_hrs\": 1.08, \"max_trip_route_group\": 1.48, \"name\": \"Sonoma County\", \"caltrans_district\": \"04 - Oakland\", \"drmt_organization_name\": null, \"cutoff2\": 30, \"cutoff\": 2}, {\"calitp_itp_id\": 314, \"trip_key\": -3013439071813652051, \"trip_id\": \"t_1995136_b_33394_tn_0\", \"shape_id\": \"p_1277083\", \"route_id\": \"1050\", \"service_hours\": 1.13, \"trip_first_departure_ts\": 24300, \"trip_last_arrival_ts\": 28380, \"departure_hour\": 6, \"time_of_day\": \"Owl Service\", \"p25\": 1.14, \"p50\": 1.15, \"p75\": 1.16, \"p50_trip\": 1, \"fastest_trip\": 1, \"car_duration_hours\": 0.78, \"competitive_route\": 1, \"bus_multiplier\": 1.45, \"bus_difference\": 21.0, \"num_trips\": 2, \"num_competitive\": 2, \"pct_trips_competitive\": 1.0, \"bus_difference_spread\": 2.4, \"route_group\": \"medium\", \"max_trip_hrs\": 1.17, \"max_trip_route_group\": 1.48, \"name\": \"Sonoma County\", \"caltrans_district\": \"04 - Oakland\", \"drmt_organization_name\": null, \"cutoff2\": 30, \"cutoff\": 2}, {\"calitp_itp_id\": 314, \"trip_key\": 6765819745702021514, \"trip_id\": \"t_1995135_b_33394_tn_0\", \"shape_id\": \"p_1277084\", \"route_id\": \"1050\", \"service_hours\": 1.17, \"trip_first_departure_ts\": 57000, \"trip_last_arrival_ts\": 61200, \"departure_hour\": 15, \"time_of_day\": \"Midday\", \"p25\": 1.14, \"p50\": 1.15, \"p75\": 1.16, \"p50_trip\": 1, \"fastest_trip\": 0, \"car_duration_hours\": 0.78, \"competitive_route\": 1, \"bus_multiplier\": 1.5, \"bus_difference\": 23.4, \"num_trips\": 2, \"num_competitive\": 2, \"pct_trips_competitive\": 1.0, \"bus_difference_spread\": 2.4, \"route_group\": \"medium\", \"max_trip_hrs\": 1.17, \"max_trip_route_group\": 1.48, \"name\": \"Sonoma County\", \"caltrans_district\": \"04 - Oakland\", \"drmt_organization_name\": null, \"cutoff2\": 30, \"cutoff\": 2}]}}, {\"mode\": \"vega-lite\"});\n",
       "</script>"
      ],
      "text/plain": [
       "alt.FacetChart(...)"
      ]
     },
     "metadata": {},
     "output_type": "display_data"
    },
    {
     "data": {
      "text/html": [
       "\n",
       "<div id=\"altair-viz-5e5f44dcae7b46ad89e37933c26cf9fc\"></div>\n",
       "<script type=\"text/javascript\">\n",
       "  var VEGA_DEBUG = (typeof VEGA_DEBUG == \"undefined\") ? {} : VEGA_DEBUG;\n",
       "  (function(spec, embedOpt){\n",
       "    let outputDiv = document.currentScript.previousElementSibling;\n",
       "    if (outputDiv.id !== \"altair-viz-5e5f44dcae7b46ad89e37933c26cf9fc\") {\n",
       "      outputDiv = document.getElementById(\"altair-viz-5e5f44dcae7b46ad89e37933c26cf9fc\");\n",
       "    }\n",
       "    const paths = {\n",
       "      \"vega\": \"https://cdn.jsdelivr.net/npm//vega@5?noext\",\n",
       "      \"vega-lib\": \"https://cdn.jsdelivr.net/npm//vega-lib?noext\",\n",
       "      \"vega-lite\": \"https://cdn.jsdelivr.net/npm//vega-lite@4.17.0?noext\",\n",
       "      \"vega-embed\": \"https://cdn.jsdelivr.net/npm//vega-embed@6?noext\",\n",
       "    };\n",
       "\n",
       "    function maybeLoadScript(lib, version) {\n",
       "      var key = `${lib.replace(\"-\", \"\")}_version`;\n",
       "      return (VEGA_DEBUG[key] == version) ?\n",
       "        Promise.resolve(paths[lib]) :\n",
       "        new Promise(function(resolve, reject) {\n",
       "          var s = document.createElement('script');\n",
       "          document.getElementsByTagName(\"head\")[0].appendChild(s);\n",
       "          s.async = true;\n",
       "          s.onload = () => {\n",
       "            VEGA_DEBUG[key] = version;\n",
       "            return resolve(paths[lib]);\n",
       "          };\n",
       "          s.onerror = () => reject(`Error loading script: ${paths[lib]}`);\n",
       "          s.src = paths[lib];\n",
       "        });\n",
       "    }\n",
       "\n",
       "    function showError(err) {\n",
       "      outputDiv.innerHTML = `<div class=\"error\" style=\"color:red;\">${err}</div>`;\n",
       "      throw err;\n",
       "    }\n",
       "\n",
       "    function displayChart(vegaEmbed) {\n",
       "      vegaEmbed(outputDiv, spec, embedOpt)\n",
       "        .catch(err => showError(`Javascript Error: ${err.message}<br>This usually means there's a typo in your chart specification. See the javascript console for the full traceback.`));\n",
       "    }\n",
       "\n",
       "    if(typeof define === \"function\" && define.amd) {\n",
       "      requirejs.config({paths});\n",
       "      require([\"vega-embed\"], displayChart, err => showError(`Error loading script: ${err.message}`));\n",
       "    } else {\n",
       "      maybeLoadScript(\"vega\", \"5\")\n",
       "        .then(() => maybeLoadScript(\"vega-lite\", \"4.17.0\"))\n",
       "        .then(() => maybeLoadScript(\"vega-embed\", \"6\"))\n",
       "        .catch(showError)\n",
       "        .then(() => displayChart(vegaEmbed));\n",
       "    }\n",
       "  })({\"config\": {\"view\": {\"continuousWidth\": 400, \"continuousHeight\": 300, \"stroke\": null}, \"facet\": {\"spacing\": 0}}, \"data\": {\"name\": \"data-f3925b3de50f9d45981630bfe8be342c\"}, \"facet\": {\"column\": {\"field\": \"route_id\", \"sort\": [\"1029\", \"1040\", \"1050\"], \"title\": \"Route ID\", \"type\": \"nominal\"}}, \"spec\": {\"layer\": [{\"mark\": \"rule\", \"encoding\": {\"color\": {\"value\": \"black\"}, \"y\": {\"field\": \"cutoff\", \"type\": \"quantitative\"}}, \"selection\": {\"selector004\": {\"type\": \"interval\", \"bind\": \"scales\", \"encodings\": [\"x\", \"y\"]}}}, {\"mark\": {\"type\": \"rule\", \"strokeDash\": [3, 3]}, \"encoding\": {\"color\": {\"value\": \"#323434\"}, \"y\": {\"field\": \"cutoff2\", \"type\": \"quantitative\"}}}, {\"mark\": {\"type\": \"point\", \"opacity\": 0.65, \"size\": 12, \"strokeWidth\": 1.1}, \"encoding\": {\"color\": {\"field\": \"time_of_day\", \"scale\": {\"range\": [\"#136C97\", \"#E16B26\", \"#F6BF16\", \"#00896B\", \"#7790A3\", \"#5B559C\"]}, \"sort\": [\"AM Peak\", \"Midday\", \"PM Peak\", \"Owl Service\"], \"title\": \"Time of Day\", \"type\": \"nominal\"}, \"tooltip\": [{\"field\": \"route_id\", \"type\": \"nominal\"}, {\"field\": \"trip_id\", \"type\": \"nominal\"}, {\"field\": \"service_hours\", \"type\": \"quantitative\"}, {\"field\": \"car_duration_hours\", \"type\": \"quantitative\"}, {\"field\": \"bus_multiplier\", \"type\": \"quantitative\"}, {\"field\": \"bus_difference\", \"type\": \"quantitative\"}, {\"field\": \"num_trips\", \"type\": \"quantitative\"}, {\"field\": \"num_competitive\", \"type\": \"quantitative\"}, {\"field\": \"pct_trips_competitive\", \"type\": \"quantitative\"}, {\"field\": \"p25\", \"type\": \"quantitative\"}, {\"field\": \"p50\", \"type\": \"quantitative\"}, {\"field\": \"p75\", \"type\": \"quantitative\"}], \"x\": {\"axis\": {\"grid\": false, \"labels\": false, \"ticks\": true, \"values\": [0]}, \"field\": \"jitter\", \"scale\": {}, \"title\": null, \"type\": \"quantitative\"}, \"y\": {\"field\": \"bus_difference\", \"scale\": {\"domain\": [-5, 35.0]}, \"title\": \"Difference in Bus to Car Travel Time (min)\", \"type\": \"quantitative\"}}, \"transform\": [{\"calculate\": \"sqrt(-2*log(random()))*cos(2*PI*random())\", \"as\": \"jitter\"}], \"width\": 50}, {\"layer\": [{\"mark\": {\"type\": \"point\", \"opacity\": 0.6, \"size\": 20, \"strokeWidth\": 1.3}, \"encoding\": {\"color\": {\"value\": \"#323434\"}, \"y\": {\"field\": \"bus_difference\", \"type\": \"quantitative\"}}, \"transform\": [{\"filter\": \"(datum.p50_trip === 1)\"}]}, {\"mark\": {\"type\": \"text\", \"align\": \"center\", \"baseline\": \"middle\"}, \"encoding\": {\"color\": {\"value\": \"black\"}, \"text\": {\"field\": \"pct_trips_competitive\", \"format\": \".0%\", \"type\": \"quantitative\"}, \"tooltip\": [{\"field\": \"route_id\", \"type\": \"nominal\"}, {\"field\": \"trip_id\", \"type\": \"nominal\"}, {\"field\": \"service_hours\", \"type\": \"quantitative\"}, {\"field\": \"car_duration_hours\", \"type\": \"quantitative\"}, {\"field\": \"bus_multiplier\", \"type\": \"quantitative\"}, {\"field\": \"bus_difference\", \"type\": \"quantitative\"}, {\"field\": \"num_trips\", \"type\": \"quantitative\"}, {\"field\": \"num_competitive\", \"type\": \"quantitative\"}, {\"field\": \"pct_trips_competitive\", \"type\": \"quantitative\"}, {\"field\": \"p25\", \"type\": \"quantitative\"}, {\"field\": \"p50\", \"type\": \"quantitative\"}, {\"field\": \"p75\", \"type\": \"quantitative\"}], \"x\": {\"value\": 30}, \"y\": {\"value\": 15}}, \"transform\": [{\"calculate\": \"sqrt(-2*log(random()))*cos(2*PI*random())\", \"as\": \"jitter\"}, {\"filter\": \"(datum.fastest_trip === 1)\"}]}]}]}, \"resolve\": {\"scale\": {\"y\": \"shared\"}}, \"title\": \"Difference in Bus to Car Travel Time (min)\", \"$schema\": \"https://vega.github.io/schema/vega-lite/v4.17.0.json\", \"datasets\": {\"data-f3925b3de50f9d45981630bfe8be342c\": [{\"calitp_itp_id\": 314, \"trip_key\": 5861714974480661560, \"trip_id\": \"t_1995178_b_33394_tn_0\", \"shape_id\": \"p_2757\", \"route_id\": \"1029\", \"service_hours\": 1.43, \"trip_first_departure_ts\": 64800, \"trip_last_arrival_ts\": 69960, \"departure_hour\": 18, \"time_of_day\": \"PM Peak\", \"p25\": 1.47, \"p50\": 1.47, \"p75\": 1.48, \"p50_trip\": 0, \"fastest_trip\": 0, \"car_duration_hours\": 1.17, \"competitive_route\": 1, \"bus_multiplier\": 1.22, \"bus_difference\": 15.6, \"num_trips\": 16, \"num_competitive\": 16, \"pct_trips_competitive\": 1.0, \"bus_difference_spread\": 3.0, \"route_group\": \"medium\", \"max_trip_hrs\": 1.48, \"max_trip_route_group\": 1.48, \"name\": \"Sonoma County\", \"caltrans_district\": \"04 - Oakland\", \"drmt_organization_name\": null, \"cutoff2\": 30, \"cutoff\": 0}, {\"calitp_itp_id\": 314, \"trip_key\": -172484805845623380, \"trip_id\": \"t_1994985_b_33394_tn_0\", \"shape_id\": \"p_2757\", \"route_id\": \"1029\", \"service_hours\": 1.43, \"trip_first_departure_ts\": 70500, \"trip_last_arrival_ts\": 75660, \"departure_hour\": 19, \"time_of_day\": \"PM Peak\", \"p25\": 1.47, \"p50\": 1.47, \"p75\": 1.48, \"p50_trip\": 0, \"fastest_trip\": 1, \"car_duration_hours\": 1.17, \"competitive_route\": 1, \"bus_multiplier\": 1.22, \"bus_difference\": 15.6, \"num_trips\": 16, \"num_competitive\": 16, \"pct_trips_competitive\": 1.0, \"bus_difference_spread\": 3.0, \"route_group\": \"medium\", \"max_trip_hrs\": 1.48, \"max_trip_route_group\": 1.48, \"name\": \"Sonoma County\", \"caltrans_district\": \"04 - Oakland\", \"drmt_organization_name\": null, \"cutoff2\": 30, \"cutoff\": 0}, {\"calitp_itp_id\": 314, \"trip_key\": 9174944603936959203, \"trip_id\": \"t_1994990_b_33394_tn_0\", \"shape_id\": \"p_900740\", \"route_id\": \"1029\", \"service_hours\": 1.47, \"trip_first_departure_ts\": 22500, \"trip_last_arrival_ts\": 27780, \"departure_hour\": 6, \"time_of_day\": \"Owl Service\", \"p25\": 1.47, \"p50\": 1.47, \"p75\": 1.48, \"p50_trip\": 1, \"fastest_trip\": 0, \"car_duration_hours\": 1.17, \"competitive_route\": 1, \"bus_multiplier\": 1.26, \"bus_difference\": 18.0, \"num_trips\": 16, \"num_competitive\": 16, \"pct_trips_competitive\": 1.0, \"bus_difference_spread\": 3.0, \"route_group\": \"medium\", \"max_trip_hrs\": 1.48, \"max_trip_route_group\": 1.48, \"name\": \"Sonoma County\", \"caltrans_district\": \"04 - Oakland\", \"drmt_organization_name\": null, \"cutoff2\": 30, \"cutoff\": 0}, {\"calitp_itp_id\": 314, \"trip_key\": 2252012437165047963, \"trip_id\": \"t_1995234_b_33394_tn_0\", \"shape_id\": \"p_900740\", \"route_id\": \"1029\", \"service_hours\": 1.47, \"trip_first_departure_ts\": 39300, \"trip_last_arrival_ts\": 44580, \"departure_hour\": 10, \"time_of_day\": \"Midday\", \"p25\": 1.47, \"p50\": 1.47, \"p75\": 1.48, \"p50_trip\": 1, \"fastest_trip\": 0, \"car_duration_hours\": 1.17, \"competitive_route\": 1, \"bus_multiplier\": 1.26, \"bus_difference\": 18.0, \"num_trips\": 16, \"num_competitive\": 16, \"pct_trips_competitive\": 1.0, \"bus_difference_spread\": 3.0, \"route_group\": \"medium\", \"max_trip_hrs\": 1.48, \"max_trip_route_group\": 1.48, \"name\": \"Sonoma County\", \"caltrans_district\": \"04 - Oakland\", \"drmt_organization_name\": null, \"cutoff2\": 30, \"cutoff\": 0}, {\"calitp_itp_id\": 314, \"trip_key\": -3754024022742656924, \"trip_id\": \"t_1995443_b_33394_tn_0\", \"shape_id\": \"p_900740\", \"route_id\": \"1029\", \"service_hours\": 1.47, \"trip_first_departure_ts\": 62400, \"trip_last_arrival_ts\": 67680, \"departure_hour\": 17, \"time_of_day\": \"PM Peak\", \"p25\": 1.47, \"p50\": 1.47, \"p75\": 1.48, \"p50_trip\": 1, \"fastest_trip\": 0, \"car_duration_hours\": 1.17, \"competitive_route\": 1, \"bus_multiplier\": 1.26, \"bus_difference\": 18.0, \"num_trips\": 16, \"num_competitive\": 16, \"pct_trips_competitive\": 1.0, \"bus_difference_spread\": 3.0, \"route_group\": \"medium\", \"max_trip_hrs\": 1.48, \"max_trip_route_group\": 1.48, \"name\": \"Sonoma County\", \"caltrans_district\": \"04 - Oakland\", \"drmt_organization_name\": null, \"cutoff2\": 30, \"cutoff\": 0}, {\"calitp_itp_id\": 314, \"trip_key\": 6181454437648239874, \"trip_id\": \"t_1995072_b_33394_tn_0\", \"shape_id\": \"p_900740\", \"route_id\": \"1029\", \"service_hours\": 1.47, \"trip_first_departure_ts\": 32700, \"trip_last_arrival_ts\": 37980, \"departure_hour\": 9, \"time_of_day\": \"AM Peak\", \"p25\": 1.47, \"p50\": 1.47, \"p75\": 1.48, \"p50_trip\": 1, \"fastest_trip\": 0, \"car_duration_hours\": 1.17, \"competitive_route\": 1, \"bus_multiplier\": 1.26, \"bus_difference\": 18.0, \"num_trips\": 16, \"num_competitive\": 16, \"pct_trips_competitive\": 1.0, \"bus_difference_spread\": 3.0, \"route_group\": \"medium\", \"max_trip_hrs\": 1.48, \"max_trip_route_group\": 1.48, \"name\": \"Sonoma County\", \"caltrans_district\": \"04 - Oakland\", \"drmt_organization_name\": null, \"cutoff2\": 30, \"cutoff\": 0}, {\"calitp_itp_id\": 314, \"trip_key\": -8057275306514134498, \"trip_id\": \"t_1995233_b_33394_tn_0\", \"shape_id\": \"p_900740\", \"route_id\": \"1029\", \"service_hours\": 1.47, \"trip_first_departure_ts\": 25200, \"trip_last_arrival_ts\": 30480, \"departure_hour\": 7, \"time_of_day\": \"AM Peak\", \"p25\": 1.47, \"p50\": 1.47, \"p75\": 1.48, \"p50_trip\": 1, \"fastest_trip\": 0, \"car_duration_hours\": 1.17, \"competitive_route\": 1, \"bus_multiplier\": 1.26, \"bus_difference\": 18.0, \"num_trips\": 16, \"num_competitive\": 16, \"pct_trips_competitive\": 1.0, \"bus_difference_spread\": 3.0, \"route_group\": \"medium\", \"max_trip_hrs\": 1.48, \"max_trip_route_group\": 1.48, \"name\": \"Sonoma County\", \"caltrans_district\": \"04 - Oakland\", \"drmt_organization_name\": null, \"cutoff2\": 30, \"cutoff\": 0}, {\"calitp_itp_id\": 314, \"trip_key\": -6074089823443294770, \"trip_id\": \"t_1995184_b_33394_tn_0\", \"shape_id\": \"p_900740\", \"route_id\": \"1029\", \"service_hours\": 1.47, \"trip_first_departure_ts\": 46800, \"trip_last_arrival_ts\": 52080, \"departure_hour\": 13, \"time_of_day\": \"Midday\", \"p25\": 1.47, \"p50\": 1.47, \"p75\": 1.48, \"p50_trip\": 1, \"fastest_trip\": 0, \"car_duration_hours\": 1.17, \"competitive_route\": 1, \"bus_multiplier\": 1.26, \"bus_difference\": 18.0, \"num_trips\": 16, \"num_competitive\": 16, \"pct_trips_competitive\": 1.0, \"bus_difference_spread\": 3.0, \"route_group\": \"medium\", \"max_trip_hrs\": 1.48, \"max_trip_route_group\": 1.48, \"name\": \"Sonoma County\", \"caltrans_district\": \"04 - Oakland\", \"drmt_organization_name\": null, \"cutoff2\": 30, \"cutoff\": 0}, {\"calitp_itp_id\": 314, \"trip_key\": -1545695187608349873, \"trip_id\": \"t_1995235_b_33394_tn_0\", \"shape_id\": \"p_900740\", \"route_id\": \"1029\", \"service_hours\": 1.47, \"trip_first_departure_ts\": 52200, \"trip_last_arrival_ts\": 57480, \"departure_hour\": 14, \"time_of_day\": \"Midday\", \"p25\": 1.47, \"p50\": 1.47, \"p75\": 1.48, \"p50_trip\": 1, \"fastest_trip\": 0, \"car_duration_hours\": 1.17, \"competitive_route\": 1, \"bus_multiplier\": 1.26, \"bus_difference\": 18.0, \"num_trips\": 16, \"num_competitive\": 16, \"pct_trips_competitive\": 1.0, \"bus_difference_spread\": 3.0, \"route_group\": \"medium\", \"max_trip_hrs\": 1.48, \"max_trip_route_group\": 1.48, \"name\": \"Sonoma County\", \"caltrans_district\": \"04 - Oakland\", \"drmt_organization_name\": null, \"cutoff2\": 30, \"cutoff\": 0}, {\"calitp_itp_id\": 314, \"trip_key\": -3381273395105880775, \"trip_id\": \"t_1995183_b_33394_tn_0\", \"shape_id\": \"p_900740\", \"route_id\": \"1029\", \"service_hours\": 1.47, \"trip_first_departure_ts\": 58800, \"trip_last_arrival_ts\": 64080, \"departure_hour\": 16, \"time_of_day\": \"Midday\", \"p25\": 1.47, \"p50\": 1.47, \"p75\": 1.48, \"p50_trip\": 1, \"fastest_trip\": 0, \"car_duration_hours\": 1.17, \"competitive_route\": 1, \"bus_multiplier\": 1.26, \"bus_difference\": 18.0, \"num_trips\": 16, \"num_competitive\": 16, \"pct_trips_competitive\": 1.0, \"bus_difference_spread\": 3.0, \"route_group\": \"medium\", \"max_trip_hrs\": 1.48, \"max_trip_route_group\": 1.48, \"name\": \"Sonoma County\", \"caltrans_district\": \"04 - Oakland\", \"drmt_organization_name\": null, \"cutoff2\": 30, \"cutoff\": 0}, {\"calitp_itp_id\": 314, \"trip_key\": 5183107653100583066, \"trip_id\": \"t_1995230_b_33394_tn_0\", \"shape_id\": \"p_900739\", \"route_id\": \"1029\", \"service_hours\": 1.48, \"trip_first_departure_ts\": 31500, \"trip_last_arrival_ts\": 36840, \"departure_hour\": 8, \"time_of_day\": \"AM Peak\", \"p25\": 1.47, \"p50\": 1.47, \"p75\": 1.48, \"p50_trip\": 0, \"fastest_trip\": 0, \"car_duration_hours\": 1.17, \"competitive_route\": 1, \"bus_multiplier\": 1.26, \"bus_difference\": 18.6, \"num_trips\": 16, \"num_competitive\": 16, \"pct_trips_competitive\": 1.0, \"bus_difference_spread\": 3.0, \"route_group\": \"medium\", \"max_trip_hrs\": 1.48, \"max_trip_route_group\": 1.48, \"name\": \"Sonoma County\", \"caltrans_district\": \"04 - Oakland\", \"drmt_organization_name\": null, \"cutoff2\": 30, \"cutoff\": 0}, {\"calitp_itp_id\": 314, \"trip_key\": -5678321845932730977, \"trip_id\": \"t_1995071_b_33394_tn_0\", \"shape_id\": \"p_900739\", \"route_id\": \"1029\", \"service_hours\": 1.48, \"trip_first_departure_ts\": 52800, \"trip_last_arrival_ts\": 58140, \"departure_hour\": 14, \"time_of_day\": \"Midday\", \"p25\": 1.47, \"p50\": 1.47, \"p75\": 1.48, \"p50_trip\": 0, \"fastest_trip\": 0, \"car_duration_hours\": 1.17, \"competitive_route\": 1, \"bus_multiplier\": 1.26, \"bus_difference\": 18.6, \"num_trips\": 16, \"num_competitive\": 16, \"pct_trips_competitive\": 1.0, \"bus_difference_spread\": 3.0, \"route_group\": \"medium\", \"max_trip_hrs\": 1.48, \"max_trip_route_group\": 1.48, \"name\": \"Sonoma County\", \"caltrans_district\": \"04 - Oakland\", \"drmt_organization_name\": null, \"cutoff2\": 30, \"cutoff\": 0}, {\"calitp_itp_id\": 314, \"trip_key\": 3307686090928055580, \"trip_id\": \"t_1995231_b_33394_tn_0\", \"shape_id\": \"p_900739\", \"route_id\": \"1029\", \"service_hours\": 1.48, \"trip_first_departure_ts\": 45600, \"trip_last_arrival_ts\": 50940, \"departure_hour\": 12, \"time_of_day\": \"Midday\", \"p25\": 1.47, \"p50\": 1.47, \"p75\": 1.48, \"p50_trip\": 0, \"fastest_trip\": 0, \"car_duration_hours\": 1.17, \"competitive_route\": 1, \"bus_multiplier\": 1.26, \"bus_difference\": 18.6, \"num_trips\": 16, \"num_competitive\": 16, \"pct_trips_competitive\": 1.0, \"bus_difference_spread\": 3.0, \"route_group\": \"medium\", \"max_trip_hrs\": 1.48, \"max_trip_route_group\": 1.48, \"name\": \"Sonoma County\", \"caltrans_district\": \"04 - Oakland\", \"drmt_organization_name\": null, \"cutoff2\": 30, \"cutoff\": 0}, {\"calitp_itp_id\": 314, \"trip_key\": -9114787487566381368, \"trip_id\": \"t_1995070_b_33394_tn_0\", \"shape_id\": \"p_900739\", \"route_id\": \"1029\", \"service_hours\": 1.48, \"trip_first_departure_ts\": 26700, \"trip_last_arrival_ts\": 32040, \"departure_hour\": 7, \"time_of_day\": \"AM Peak\", \"p25\": 1.47, \"p50\": 1.47, \"p75\": 1.48, \"p50_trip\": 0, \"fastest_trip\": 0, \"car_duration_hours\": 1.17, \"competitive_route\": 1, \"bus_multiplier\": 1.26, \"bus_difference\": 18.6, \"num_trips\": 16, \"num_competitive\": 16, \"pct_trips_competitive\": 1.0, \"bus_difference_spread\": 3.0, \"route_group\": \"medium\", \"max_trip_hrs\": 1.48, \"max_trip_route_group\": 1.48, \"name\": \"Sonoma County\", \"caltrans_district\": \"04 - Oakland\", \"drmt_organization_name\": null, \"cutoff2\": 30, \"cutoff\": 0}, {\"calitp_itp_id\": 314, \"trip_key\": 366972045435200149, \"trip_id\": \"t_1994983_b_33394_tn_0\", \"shape_id\": \"p_900739\", \"route_id\": \"1029\", \"service_hours\": 1.48, \"trip_first_departure_ts\": 58800, \"trip_last_arrival_ts\": 64140, \"departure_hour\": 16, \"time_of_day\": \"Midday\", \"p25\": 1.47, \"p50\": 1.47, \"p75\": 1.48, \"p50_trip\": 0, \"fastest_trip\": 0, \"car_duration_hours\": 1.17, \"competitive_route\": 1, \"bus_multiplier\": 1.26, \"bus_difference\": 18.6, \"num_trips\": 16, \"num_competitive\": 16, \"pct_trips_competitive\": 1.0, \"bus_difference_spread\": 3.0, \"route_group\": \"medium\", \"max_trip_hrs\": 1.48, \"max_trip_route_group\": 1.48, \"name\": \"Sonoma County\", \"caltrans_district\": \"04 - Oakland\", \"drmt_organization_name\": null, \"cutoff2\": 30, \"cutoff\": 0}, {\"calitp_itp_id\": 314, \"trip_key\": -7951347655572719140, \"trip_id\": \"t_1995179_b_33394_tn_0\", \"shape_id\": \"p_900739\", \"route_id\": \"1029\", \"service_hours\": 1.48, \"trip_first_departure_ts\": 40800, \"trip_last_arrival_ts\": 46140, \"departure_hour\": 11, \"time_of_day\": \"Midday\", \"p25\": 1.47, \"p50\": 1.47, \"p75\": 1.48, \"p50_trip\": 0, \"fastest_trip\": 0, \"car_duration_hours\": 1.17, \"competitive_route\": 1, \"bus_multiplier\": 1.26, \"bus_difference\": 18.6, \"num_trips\": 16, \"num_competitive\": 16, \"pct_trips_competitive\": 1.0, \"bus_difference_spread\": 3.0, \"route_group\": \"medium\", \"max_trip_hrs\": 1.48, \"max_trip_route_group\": 1.48, \"name\": \"Sonoma County\", \"caltrans_district\": \"04 - Oakland\", \"drmt_organization_name\": null, \"cutoff2\": 30, \"cutoff\": 0}, {\"calitp_itp_id\": 314, \"trip_key\": -5021683660579063055, \"trip_id\": \"t_1995313_b_33394_tn_0\", \"shape_id\": \"p_179246\", \"route_id\": \"1040\", \"service_hours\": 0.78, \"trip_first_departure_ts\": 54000, \"trip_last_arrival_ts\": 56820, \"departure_hour\": 15, \"time_of_day\": \"Midday\", \"p25\": 0.78, \"p50\": 0.78, \"p75\": 0.78, \"p50_trip\": 1, \"fastest_trip\": 0, \"car_duration_hours\": 0.59, \"competitive_route\": 1, \"bus_multiplier\": 1.32, \"bus_difference\": 11.4, \"num_trips\": 6, \"num_competitive\": 6, \"pct_trips_competitive\": 1.0, \"bus_difference_spread\": 18.0, \"route_group\": \"medium\", \"max_trip_hrs\": 1.08, \"max_trip_route_group\": 1.48, \"name\": \"Sonoma County\", \"caltrans_district\": \"04 - Oakland\", \"drmt_organization_name\": null, \"cutoff2\": 30, \"cutoff\": 0}, {\"calitp_itp_id\": 314, \"trip_key\": -4834762926864267511, \"trip_id\": \"t_1995312_b_33394_tn_0\", \"shape_id\": \"p_179246\", \"route_id\": \"1040\", \"service_hours\": 0.78, \"trip_first_departure_ts\": 47700, \"trip_last_arrival_ts\": 50520, \"departure_hour\": 13, \"time_of_day\": \"Midday\", \"p25\": 0.78, \"p50\": 0.78, \"p75\": 0.78, \"p50_trip\": 1, \"fastest_trip\": 0, \"car_duration_hours\": 0.59, \"competitive_route\": 1, \"bus_multiplier\": 1.32, \"bus_difference\": 11.4, \"num_trips\": 6, \"num_competitive\": 6, \"pct_trips_competitive\": 1.0, \"bus_difference_spread\": 18.0, \"route_group\": \"medium\", \"max_trip_hrs\": 1.08, \"max_trip_route_group\": 1.48, \"name\": \"Sonoma County\", \"caltrans_district\": \"04 - Oakland\", \"drmt_organization_name\": null, \"cutoff2\": 30, \"cutoff\": 0}, {\"calitp_itp_id\": 314, \"trip_key\": 4362156448932575731, \"trip_id\": \"t_1995311_b_33394_tn_0\", \"shape_id\": \"p_179246\", \"route_id\": \"1040\", \"service_hours\": 0.78, \"trip_first_departure_ts\": 35100, \"trip_last_arrival_ts\": 37920, \"departure_hour\": 9, \"time_of_day\": \"AM Peak\", \"p25\": 0.78, \"p50\": 0.78, \"p75\": 0.78, \"p50_trip\": 1, \"fastest_trip\": 0, \"car_duration_hours\": 0.59, \"competitive_route\": 1, \"bus_multiplier\": 1.32, \"bus_difference\": 11.4, \"num_trips\": 6, \"num_competitive\": 6, \"pct_trips_competitive\": 1.0, \"bus_difference_spread\": 18.0, \"route_group\": \"medium\", \"max_trip_hrs\": 1.08, \"max_trip_route_group\": 1.48, \"name\": \"Sonoma County\", \"caltrans_district\": \"04 - Oakland\", \"drmt_organization_name\": null, \"cutoff2\": 30, \"cutoff\": 0}, {\"calitp_itp_id\": 314, \"trip_key\": -2796310238604225054, \"trip_id\": \"t_1995314_b_33394_tn_0\", \"shape_id\": \"p_179246\", \"route_id\": \"1040\", \"service_hours\": 0.78, \"trip_first_departure_ts\": 60300, \"trip_last_arrival_ts\": 63120, \"departure_hour\": 16, \"time_of_day\": \"Midday\", \"p25\": 0.78, \"p50\": 0.78, \"p75\": 0.78, \"p50_trip\": 1, \"fastest_trip\": 1, \"car_duration_hours\": 0.59, \"competitive_route\": 1, \"bus_multiplier\": 1.32, \"bus_difference\": 11.4, \"num_trips\": 6, \"num_competitive\": 6, \"pct_trips_competitive\": 1.0, \"bus_difference_spread\": 18.0, \"route_group\": \"medium\", \"max_trip_hrs\": 1.08, \"max_trip_route_group\": 1.48, \"name\": \"Sonoma County\", \"caltrans_district\": \"04 - Oakland\", \"drmt_organization_name\": null, \"cutoff2\": 30, \"cutoff\": 0}, {\"calitp_itp_id\": 314, \"trip_key\": -4835694877863295939, \"trip_id\": \"t_1995334_b_33394_tn_0\", \"shape_id\": \"p_179246\", \"route_id\": \"1040\", \"service_hours\": 0.78, \"trip_first_departure_ts\": 41400, \"trip_last_arrival_ts\": 44220, \"departure_hour\": 11, \"time_of_day\": \"Midday\", \"p25\": 0.78, \"p50\": 0.78, \"p75\": 0.78, \"p50_trip\": 1, \"fastest_trip\": 0, \"car_duration_hours\": 0.59, \"competitive_route\": 1, \"bus_multiplier\": 1.32, \"bus_difference\": 11.4, \"num_trips\": 6, \"num_competitive\": 6, \"pct_trips_competitive\": 1.0, \"bus_difference_spread\": 18.0, \"route_group\": \"medium\", \"max_trip_hrs\": 1.08, \"max_trip_route_group\": 1.48, \"name\": \"Sonoma County\", \"caltrans_district\": \"04 - Oakland\", \"drmt_organization_name\": null, \"cutoff2\": 30, \"cutoff\": 0}, {\"calitp_itp_id\": 314, \"trip_key\": 1352471065168091377, \"trip_id\": \"t_1994984_b_33394_tn_0\", \"shape_id\": \"p_1277086\", \"route_id\": \"1040\", \"service_hours\": 1.08, \"trip_first_departure_ts\": 27300, \"trip_last_arrival_ts\": 31200, \"departure_hour\": 7, \"time_of_day\": \"AM Peak\", \"p25\": 0.78, \"p50\": 0.78, \"p75\": 0.78, \"p50_trip\": 0, \"fastest_trip\": 0, \"car_duration_hours\": 0.59, \"competitive_route\": 1, \"bus_multiplier\": 1.83, \"bus_difference\": 29.4, \"num_trips\": 6, \"num_competitive\": 6, \"pct_trips_competitive\": 1.0, \"bus_difference_spread\": 18.0, \"route_group\": \"medium\", \"max_trip_hrs\": 1.08, \"max_trip_route_group\": 1.48, \"name\": \"Sonoma County\", \"caltrans_district\": \"04 - Oakland\", \"drmt_organization_name\": null, \"cutoff2\": 30, \"cutoff\": 0}, {\"calitp_itp_id\": 314, \"trip_key\": -3013439071813652051, \"trip_id\": \"t_1995136_b_33394_tn_0\", \"shape_id\": \"p_1277083\", \"route_id\": \"1050\", \"service_hours\": 1.13, \"trip_first_departure_ts\": 24300, \"trip_last_arrival_ts\": 28380, \"departure_hour\": 6, \"time_of_day\": \"Owl Service\", \"p25\": 1.14, \"p50\": 1.15, \"p75\": 1.16, \"p50_trip\": 1, \"fastest_trip\": 1, \"car_duration_hours\": 0.78, \"competitive_route\": 1, \"bus_multiplier\": 1.45, \"bus_difference\": 21.0, \"num_trips\": 2, \"num_competitive\": 2, \"pct_trips_competitive\": 1.0, \"bus_difference_spread\": 2.4, \"route_group\": \"medium\", \"max_trip_hrs\": 1.17, \"max_trip_route_group\": 1.48, \"name\": \"Sonoma County\", \"caltrans_district\": \"04 - Oakland\", \"drmt_organization_name\": null, \"cutoff2\": 30, \"cutoff\": 0}, {\"calitp_itp_id\": 314, \"trip_key\": 6765819745702021514, \"trip_id\": \"t_1995135_b_33394_tn_0\", \"shape_id\": \"p_1277084\", \"route_id\": \"1050\", \"service_hours\": 1.17, \"trip_first_departure_ts\": 57000, \"trip_last_arrival_ts\": 61200, \"departure_hour\": 15, \"time_of_day\": \"Midday\", \"p25\": 1.14, \"p50\": 1.15, \"p75\": 1.16, \"p50_trip\": 1, \"fastest_trip\": 0, \"car_duration_hours\": 0.78, \"competitive_route\": 1, \"bus_multiplier\": 1.5, \"bus_difference\": 23.4, \"num_trips\": 2, \"num_competitive\": 2, \"pct_trips_competitive\": 1.0, \"bus_difference_spread\": 2.4, \"route_group\": \"medium\", \"max_trip_hrs\": 1.17, \"max_trip_route_group\": 1.48, \"name\": \"Sonoma County\", \"caltrans_district\": \"04 - Oakland\", \"drmt_organization_name\": null, \"cutoff2\": 30, \"cutoff\": 0}]}}, {\"mode\": \"vega-lite\"});\n",
       "</script>"
      ],
      "text/plain": [
       "alt.FacetChart(...)"
      ]
     },
     "metadata": {},
     "output_type": "display_data"
    }
   ],
   "source": [
    "route_group = \"medium\"\n",
    "try:\n",
    "    display_charts_for_route_group(df, route_group)\n",
    "except:\n",
    "    print(\"No routes meet this criteria.\")"
   ]
  },
  {
   "cell_type": "markdown",
   "id": "124b76d0-886c-4d03-92ac-f1bda3cda182",
   "metadata": {
    "papermill": {
     "duration": 0.032237,
     "end_time": "2022-05-09T19:48:32.026061",
     "exception": false,
     "start_time": "2022-05-09T19:48:31.993824",
     "status": "completed"
    },
    "tags": []
   },
   "source": [
    "### Long Routes (> 1.5 hrs)"
   ]
  },
  {
   "cell_type": "code",
   "execution_count": 15,
   "id": "ddc81b19-4c45-4c81-8b7a-5e0f394aa7a3",
   "metadata": {
    "execution": {
     "iopub.execute_input": "2022-05-09T19:48:32.072909Z",
     "iopub.status.busy": "2022-05-09T19:48:32.071510Z",
     "iopub.status.idle": "2022-05-09T19:48:32.337369Z",
     "shell.execute_reply": "2022-05-09T19:48:32.336319Z"
    },
    "jupyter": {
     "source_hidden": true
    },
    "papermill": {
     "duration": 0.292434,
     "end_time": "2022-05-09T19:48:32.339838",
     "exception": false,
     "start_time": "2022-05-09T19:48:32.047404",
     "status": "completed"
    },
    "tags": [
     "remove_input"
    ]
   },
   "outputs": [
    {
     "data": {
      "text/markdown": [
       "<br>These are routes that have **at least 25% of their trips take no more than an additional 40 min** compared to a car (up to 15 routes) are shown.<br>Within each route group, routes are sorted in descending order by % competitive trips and # trips below the additional time cut-off."
      ],
      "text/plain": [
       "<IPython.core.display.Markdown object>"
      ]
     },
     "metadata": {},
     "output_type": "display_data"
    },
    {
     "data": {
      "text/html": [
       "\n",
       "<div id=\"altair-viz-aa67153f7f94402d861c88c197825f9b\"></div>\n",
       "<script type=\"text/javascript\">\n",
       "  var VEGA_DEBUG = (typeof VEGA_DEBUG == \"undefined\") ? {} : VEGA_DEBUG;\n",
       "  (function(spec, embedOpt){\n",
       "    let outputDiv = document.currentScript.previousElementSibling;\n",
       "    if (outputDiv.id !== \"altair-viz-aa67153f7f94402d861c88c197825f9b\") {\n",
       "      outputDiv = document.getElementById(\"altair-viz-aa67153f7f94402d861c88c197825f9b\");\n",
       "    }\n",
       "    const paths = {\n",
       "      \"vega\": \"https://cdn.jsdelivr.net/npm//vega@5?noext\",\n",
       "      \"vega-lib\": \"https://cdn.jsdelivr.net/npm//vega-lib?noext\",\n",
       "      \"vega-lite\": \"https://cdn.jsdelivr.net/npm//vega-lite@4.17.0?noext\",\n",
       "      \"vega-embed\": \"https://cdn.jsdelivr.net/npm//vega-embed@6?noext\",\n",
       "    };\n",
       "\n",
       "    function maybeLoadScript(lib, version) {\n",
       "      var key = `${lib.replace(\"-\", \"\")}_version`;\n",
       "      return (VEGA_DEBUG[key] == version) ?\n",
       "        Promise.resolve(paths[lib]) :\n",
       "        new Promise(function(resolve, reject) {\n",
       "          var s = document.createElement('script');\n",
       "          document.getElementsByTagName(\"head\")[0].appendChild(s);\n",
       "          s.async = true;\n",
       "          s.onload = () => {\n",
       "            VEGA_DEBUG[key] = version;\n",
       "            return resolve(paths[lib]);\n",
       "          };\n",
       "          s.onerror = () => reject(`Error loading script: ${paths[lib]}`);\n",
       "          s.src = paths[lib];\n",
       "        });\n",
       "    }\n",
       "\n",
       "    function showError(err) {\n",
       "      outputDiv.innerHTML = `<div class=\"error\" style=\"color:red;\">${err}</div>`;\n",
       "      throw err;\n",
       "    }\n",
       "\n",
       "    function displayChart(vegaEmbed) {\n",
       "      vegaEmbed(outputDiv, spec, embedOpt)\n",
       "        .catch(err => showError(`Javascript Error: ${err.message}<br>This usually means there's a typo in your chart specification. See the javascript console for the full traceback.`));\n",
       "    }\n",
       "\n",
       "    if(typeof define === \"function\" && define.amd) {\n",
       "      requirejs.config({paths});\n",
       "      require([\"vega-embed\"], displayChart, err => showError(`Error loading script: ${err.message}`));\n",
       "    } else {\n",
       "      maybeLoadScript(\"vega\", \"5\")\n",
       "        .then(() => maybeLoadScript(\"vega-lite\", \"4.17.0\"))\n",
       "        .then(() => maybeLoadScript(\"vega-embed\", \"6\"))\n",
       "        .catch(showError)\n",
       "        .then(() => displayChart(vegaEmbed));\n",
       "    }\n",
       "  })({\"config\": {\"view\": {\"continuousWidth\": 400, \"continuousHeight\": 300, \"stroke\": null}, \"facet\": {\"spacing\": 0}}, \"data\": {\"name\": \"data-b0eb11fddb96a2b2f03ba2a9699077b3\"}, \"facet\": {\"column\": {\"field\": \"route_id\", \"sort\": [\"1036\"], \"title\": \"Route ID\", \"type\": \"nominal\"}}, \"spec\": {\"layer\": [{\"mark\": \"rule\", \"encoding\": {\"color\": {\"value\": \"black\"}, \"y\": {\"field\": \"cutoff\", \"type\": \"quantitative\"}}, \"selection\": {\"selector005\": {\"type\": \"interval\", \"bind\": \"scales\", \"encodings\": [\"x\", \"y\"]}}}, {\"mark\": {\"type\": \"point\", \"opacity\": 0.65, \"size\": 12, \"strokeWidth\": 1.1}, \"encoding\": {\"color\": {\"field\": \"time_of_day\", \"scale\": {\"range\": [\"#136C97\", \"#E16B26\", \"#F6BF16\", \"#00896B\", \"#7790A3\", \"#5B559C\"]}, \"sort\": [\"AM Peak\", \"Midday\", \"PM Peak\", \"Owl Service\"], \"title\": \"Time of Day\", \"type\": \"nominal\"}, \"tooltip\": [{\"field\": \"route_id\", \"type\": \"nominal\"}, {\"field\": \"trip_id\", \"type\": \"nominal\"}, {\"field\": \"service_hours\", \"type\": \"quantitative\"}, {\"field\": \"car_duration_hours\", \"type\": \"quantitative\"}, {\"field\": \"bus_multiplier\", \"type\": \"quantitative\"}, {\"field\": \"bus_difference\", \"type\": \"quantitative\"}, {\"field\": \"num_trips\", \"type\": \"quantitative\"}, {\"field\": \"num_competitive\", \"type\": \"quantitative\"}, {\"field\": \"pct_trips_competitive\", \"type\": \"quantitative\"}, {\"field\": \"p25\", \"type\": \"quantitative\"}, {\"field\": \"p50\", \"type\": \"quantitative\"}, {\"field\": \"p75\", \"type\": \"quantitative\"}], \"x\": {\"axis\": {\"grid\": false, \"labels\": false, \"ticks\": true, \"values\": [0]}, \"field\": \"jitter\", \"scale\": {}, \"title\": null, \"type\": \"quantitative\"}, \"y\": {\"field\": \"bus_multiplier\", \"scale\": {\"domain\": [-0.25, 2.5]}, \"title\": \"Ratio of Bus to Car Travel Time\", \"type\": \"quantitative\"}}, \"transform\": [{\"calculate\": \"sqrt(-2*log(random()))*cos(2*PI*random())\", \"as\": \"jitter\"}], \"width\": 50}, {\"layer\": [{\"mark\": {\"type\": \"point\", \"opacity\": 0.6, \"size\": 20, \"strokeWidth\": 1.3}, \"encoding\": {\"color\": {\"value\": \"#323434\"}, \"y\": {\"field\": \"bus_multiplier\", \"type\": \"quantitative\"}}, \"transform\": [{\"filter\": \"(datum.p50_trip === 1)\"}]}, {\"mark\": {\"type\": \"text\", \"align\": \"center\", \"baseline\": \"middle\"}, \"encoding\": {\"color\": {\"value\": \"black\"}, \"text\": {\"field\": \"pct_trips_competitive\", \"format\": \".0%\", \"type\": \"quantitative\"}, \"tooltip\": [{\"field\": \"route_id\", \"type\": \"nominal\"}, {\"field\": \"trip_id\", \"type\": \"nominal\"}, {\"field\": \"service_hours\", \"type\": \"quantitative\"}, {\"field\": \"car_duration_hours\", \"type\": \"quantitative\"}, {\"field\": \"bus_multiplier\", \"type\": \"quantitative\"}, {\"field\": \"bus_difference\", \"type\": \"quantitative\"}, {\"field\": \"num_trips\", \"type\": \"quantitative\"}, {\"field\": \"num_competitive\", \"type\": \"quantitative\"}, {\"field\": \"pct_trips_competitive\", \"type\": \"quantitative\"}, {\"field\": \"p25\", \"type\": \"quantitative\"}, {\"field\": \"p50\", \"type\": \"quantitative\"}, {\"field\": \"p75\", \"type\": \"quantitative\"}], \"x\": {\"value\": 30}, \"y\": {\"value\": 15}}, \"transform\": [{\"calculate\": \"sqrt(-2*log(random()))*cos(2*PI*random())\", \"as\": \"jitter\"}, {\"filter\": \"(datum.fastest_trip === 1)\"}]}]}]}, \"resolve\": {\"scale\": {\"y\": \"shared\"}}, \"title\": \"Ratio of Bus to Car Travel Time\", \"$schema\": \"https://vega.github.io/schema/vega-lite/v4.17.0.json\", \"datasets\": {\"data-b0eb11fddb96a2b2f03ba2a9699077b3\": [{\"calitp_itp_id\": 314, \"trip_key\": -4961482017217163915, \"trip_id\": \"t_1995353_b_33394_tn_0\", \"shape_id\": \"p_2717\", \"route_id\": \"1036\", \"service_hours\": 1.38, \"trip_first_departure_ts\": 39600, \"trip_last_arrival_ts\": 44580, \"departure_hour\": 11, \"time_of_day\": \"Midday\", \"p25\": 1.43, \"p50\": 1.475, \"p75\": 1.52, \"p50_trip\": 0, \"fastest_trip\": 0, \"car_duration_hours\": 1.29, \"competitive_route\": 1, \"bus_multiplier\": 1.07, \"bus_difference\": 5.4, \"num_trips\": 20, \"num_competitive\": 20, \"pct_trips_competitive\": 1.0, \"bus_difference_spread\": 13.2, \"route_group\": \"long\", \"max_trip_hrs\": 1.6, \"max_trip_route_group\": 1.98, \"name\": \"Sonoma County\", \"caltrans_district\": \"04 - Oakland\", \"drmt_organization_name\": null, \"cutoff2\": 40, \"cutoff\": 2}, {\"calitp_itp_id\": 314, \"trip_key\": -289006237527478908, \"trip_id\": \"t_1994988_b_33394_tn_0\", \"shape_id\": \"p_1277120\", \"route_id\": \"1036\", \"service_hours\": 1.38, \"trip_first_departure_ts\": 72900, \"trip_last_arrival_ts\": 77880, \"departure_hour\": 20, \"time_of_day\": \"Owl Service\", \"p25\": 1.43, \"p50\": 1.475, \"p75\": 1.52, \"p50_trip\": 0, \"fastest_trip\": 1, \"car_duration_hours\": 1.29, \"competitive_route\": 1, \"bus_multiplier\": 1.07, \"bus_difference\": 5.4, \"num_trips\": 20, \"num_competitive\": 20, \"pct_trips_competitive\": 1.0, \"bus_difference_spread\": 13.2, \"route_group\": \"long\", \"max_trip_hrs\": 1.6, \"max_trip_route_group\": 1.98, \"name\": \"Sonoma County\", \"caltrans_district\": \"04 - Oakland\", \"drmt_organization_name\": null, \"cutoff2\": 40, \"cutoff\": 2}, {\"calitp_itp_id\": 314, \"trip_key\": -777617146173694214, \"trip_id\": \"t_1995018_b_33394_tn_0\", \"shape_id\": \"p_2743\", \"route_id\": \"1036\", \"service_hours\": 1.43, \"trip_first_departure_ts\": 26400, \"trip_last_arrival_ts\": 31560, \"departure_hour\": 7, \"time_of_day\": \"AM Peak\", \"p25\": 1.43, \"p50\": 1.475, \"p75\": 1.52, \"p50_trip\": 0, \"fastest_trip\": 0, \"car_duration_hours\": 1.29, \"competitive_route\": 1, \"bus_multiplier\": 1.11, \"bus_difference\": 8.4, \"num_trips\": 20, \"num_competitive\": 20, \"pct_trips_competitive\": 1.0, \"bus_difference_spread\": 13.2, \"route_group\": \"long\", \"max_trip_hrs\": 1.6, \"max_trip_route_group\": 1.98, \"name\": \"Sonoma County\", \"caltrans_district\": \"04 - Oakland\", \"drmt_organization_name\": null, \"cutoff2\": 40, \"cutoff\": 2}, {\"calitp_itp_id\": 314, \"trip_key\": -4127073193513495924, \"trip_id\": \"t_1995154_b_33394_tn_0\", \"shape_id\": \"p_2717\", \"route_id\": \"1036\", \"service_hours\": 1.43, \"trip_first_departure_ts\": 45300, \"trip_last_arrival_ts\": 50460, \"departure_hour\": 12, \"time_of_day\": \"Midday\", \"p25\": 1.43, \"p50\": 1.475, \"p75\": 1.52, \"p50_trip\": 0, \"fastest_trip\": 0, \"car_duration_hours\": 1.29, \"competitive_route\": 1, \"bus_multiplier\": 1.11, \"bus_difference\": 8.4, \"num_trips\": 20, \"num_competitive\": 20, \"pct_trips_competitive\": 1.0, \"bus_difference_spread\": 13.2, \"route_group\": \"long\", \"max_trip_hrs\": 1.6, \"max_trip_route_group\": 1.98, \"name\": \"Sonoma County\", \"caltrans_district\": \"04 - Oakland\", \"drmt_organization_name\": null, \"cutoff2\": 40, \"cutoff\": 2}, {\"calitp_itp_id\": 314, \"trip_key\": -4762891809884570032, \"trip_id\": \"t_1995344_b_33394_tn_0\", \"shape_id\": \"p_2717\", \"route_id\": \"1036\", \"service_hours\": 1.43, \"trip_first_departure_ts\": 26400, \"trip_last_arrival_ts\": 31560, \"departure_hour\": 7, \"time_of_day\": \"AM Peak\", \"p25\": 1.43, \"p50\": 1.475, \"p75\": 1.52, \"p50_trip\": 0, \"fastest_trip\": 0, \"car_duration_hours\": 1.29, \"competitive_route\": 1, \"bus_multiplier\": 1.11, \"bus_difference\": 8.4, \"num_trips\": 20, \"num_competitive\": 20, \"pct_trips_competitive\": 1.0, \"bus_difference_spread\": 13.2, \"route_group\": \"long\", \"max_trip_hrs\": 1.6, \"max_trip_route_group\": 1.98, \"name\": \"Sonoma County\", \"caltrans_district\": \"04 - Oakland\", \"drmt_organization_name\": null, \"cutoff2\": 40, \"cutoff\": 2}, {\"calitp_itp_id\": 314, \"trip_key\": 5550989759653210337, \"trip_id\": \"t_1995021_b_33394_tn_0\", \"shape_id\": \"p_2717\", \"route_id\": \"1036\", \"service_hours\": 1.43, \"trip_first_departure_ts\": 66600, \"trip_last_arrival_ts\": 71760, \"departure_hour\": 18, \"time_of_day\": \"PM Peak\", \"p25\": 1.43, \"p50\": 1.475, \"p75\": 1.52, \"p50_trip\": 0, \"fastest_trip\": 0, \"car_duration_hours\": 1.29, \"competitive_route\": 1, \"bus_multiplier\": 1.11, \"bus_difference\": 8.4, \"num_trips\": 20, \"num_competitive\": 20, \"pct_trips_competitive\": 1.0, \"bus_difference_spread\": 13.2, \"route_group\": \"long\", \"max_trip_hrs\": 1.6, \"max_trip_route_group\": 1.98, \"name\": \"Sonoma County\", \"caltrans_district\": \"04 - Oakland\", \"drmt_organization_name\": null, \"cutoff2\": 40, \"cutoff\": 2}, {\"calitp_itp_id\": 314, \"trip_key\": 1698562714533334624, \"trip_id\": \"t_1995020_b_33394_tn_0\", \"shape_id\": \"p_2717\", \"route_id\": \"1036\", \"service_hours\": 1.43, \"trip_first_departure_ts\": 32400, \"trip_last_arrival_ts\": 37560, \"departure_hour\": 9, \"time_of_day\": \"AM Peak\", \"p25\": 1.43, \"p50\": 1.475, \"p75\": 1.52, \"p50_trip\": 0, \"fastest_trip\": 0, \"car_duration_hours\": 1.29, \"competitive_route\": 1, \"bus_multiplier\": 1.11, \"bus_difference\": 8.4, \"num_trips\": 20, \"num_competitive\": 20, \"pct_trips_competitive\": 1.0, \"bus_difference_spread\": 13.2, \"route_group\": \"long\", \"max_trip_hrs\": 1.6, \"max_trip_route_group\": 1.98, \"name\": \"Sonoma County\", \"caltrans_district\": \"04 - Oakland\", \"drmt_organization_name\": null, \"cutoff2\": 40, \"cutoff\": 2}, {\"calitp_itp_id\": 314, \"trip_key\": -2898047065579680099, \"trip_id\": \"t_1995324_b_33394_tn_0\", \"shape_id\": \"p_2743\", \"route_id\": \"1036\", \"service_hours\": 1.43, \"trip_first_departure_ts\": 24300, \"trip_last_arrival_ts\": 29460, \"departure_hour\": 6, \"time_of_day\": \"Owl Service\", \"p25\": 1.43, \"p50\": 1.475, \"p75\": 1.52, \"p50_trip\": 0, \"fastest_trip\": 0, \"car_duration_hours\": 1.29, \"competitive_route\": 1, \"bus_multiplier\": 1.11, \"bus_difference\": 8.4, \"num_trips\": 20, \"num_competitive\": 20, \"pct_trips_competitive\": 1.0, \"bus_difference_spread\": 13.2, \"route_group\": \"long\", \"max_trip_hrs\": 1.6, \"max_trip_route_group\": 1.98, \"name\": \"Sonoma County\", \"caltrans_district\": \"04 - Oakland\", \"drmt_organization_name\": null, \"cutoff2\": 40, \"cutoff\": 2}, {\"calitp_itp_id\": 314, \"trip_key\": -2701105274243445297, \"trip_id\": \"t_1995355_b_33394_tn_0\", \"shape_id\": \"p_1277129\", \"route_id\": \"1036\", \"service_hours\": 1.45, \"trip_first_departure_ts\": 72300, \"trip_last_arrival_ts\": 77520, \"departure_hour\": 20, \"time_of_day\": \"Owl Service\", \"p25\": 1.43, \"p50\": 1.475, \"p75\": 1.52, \"p50_trip\": 0, \"fastest_trip\": 0, \"car_duration_hours\": 1.29, \"competitive_route\": 1, \"bus_multiplier\": 1.12, \"bus_difference\": 9.6, \"num_trips\": 20, \"num_competitive\": 20, \"pct_trips_competitive\": 1.0, \"bus_difference_spread\": 13.2, \"route_group\": \"long\", \"max_trip_hrs\": 1.6, \"max_trip_route_group\": 1.98, \"name\": \"Sonoma County\", \"caltrans_district\": \"04 - Oakland\", \"drmt_organization_name\": null, \"cutoff2\": 40, \"cutoff\": 2}, {\"calitp_itp_id\": 314, \"trip_key\": -3375662105676163192, \"trip_id\": \"t_1995338_b_33394_tn_0\", \"shape_id\": \"p_2743\", \"route_id\": \"1036\", \"service_hours\": 1.47, \"trip_first_departure_ts\": 65400, \"trip_last_arrival_ts\": 70680, \"departure_hour\": 18, \"time_of_day\": \"PM Peak\", \"p25\": 1.43, \"p50\": 1.475, \"p75\": 1.52, \"p50_trip\": 0, \"fastest_trip\": 0, \"car_duration_hours\": 1.29, \"competitive_route\": 1, \"bus_multiplier\": 1.14, \"bus_difference\": 10.8, \"num_trips\": 20, \"num_competitive\": 20, \"pct_trips_competitive\": 1.0, \"bus_difference_spread\": 13.2, \"route_group\": \"long\", \"max_trip_hrs\": 1.6, \"max_trip_route_group\": 1.98, \"name\": \"Sonoma County\", \"caltrans_district\": \"04 - Oakland\", \"drmt_organization_name\": null, \"cutoff2\": 40, \"cutoff\": 2}, {\"calitp_itp_id\": 314, \"trip_key\": -6073962513807807858, \"trip_id\": \"t_1995328_b_33394_tn_0\", \"shape_id\": \"p_2743\", \"route_id\": \"1036\", \"service_hours\": 1.48, \"trip_first_departure_ts\": 45900, \"trip_last_arrival_ts\": 51240, \"departure_hour\": 12, \"time_of_day\": \"Midday\", \"p25\": 1.43, \"p50\": 1.475, \"p75\": 1.52, \"p50_trip\": 1, \"fastest_trip\": 0, \"car_duration_hours\": 1.29, \"competitive_route\": 1, \"bus_multiplier\": 1.15, \"bus_difference\": 11.4, \"num_trips\": 20, \"num_competitive\": 20, \"pct_trips_competitive\": 1.0, \"bus_difference_spread\": 13.2, \"route_group\": \"long\", \"max_trip_hrs\": 1.6, \"max_trip_route_group\": 1.98, \"name\": \"Sonoma County\", \"caltrans_district\": \"04 - Oakland\", \"drmt_organization_name\": null, \"cutoff2\": 40, \"cutoff\": 2}, {\"calitp_itp_id\": 314, \"trip_key\": 1448356439023687162, \"trip_id\": \"t_1995019_b_33394_tn_0\", \"shape_id\": \"p_2743\", \"route_id\": \"1036\", \"service_hours\": 1.48, \"trip_first_departure_ts\": 42300, \"trip_last_arrival_ts\": 47640, \"departure_hour\": 11, \"time_of_day\": \"Midday\", \"p25\": 1.43, \"p50\": 1.475, \"p75\": 1.52, \"p50_trip\": 1, \"fastest_trip\": 0, \"car_duration_hours\": 1.29, \"competitive_route\": 1, \"bus_multiplier\": 1.15, \"bus_difference\": 11.4, \"num_trips\": 20, \"num_competitive\": 20, \"pct_trips_competitive\": 1.0, \"bus_difference_spread\": 13.2, \"route_group\": \"long\", \"max_trip_hrs\": 1.6, \"max_trip_route_group\": 1.98, \"name\": \"Sonoma County\", \"caltrans_district\": \"04 - Oakland\", \"drmt_organization_name\": null, \"cutoff2\": 40, \"cutoff\": 2}, {\"calitp_itp_id\": 314, \"trip_key\": -9039094463424748836, \"trip_id\": \"t_1995195_b_33394_tn_0\", \"shape_id\": \"p_2743\", \"route_id\": \"1036\", \"service_hours\": 1.52, \"trip_first_departure_ts\": 59400, \"trip_last_arrival_ts\": 64860, \"departure_hour\": 16, \"time_of_day\": \"Midday\", \"p25\": 1.43, \"p50\": 1.475, \"p75\": 1.52, \"p50_trip\": 0, \"fastest_trip\": 0, \"car_duration_hours\": 1.29, \"competitive_route\": 1, \"bus_multiplier\": 1.18, \"bus_difference\": 13.8, \"num_trips\": 20, \"num_competitive\": 20, \"pct_trips_competitive\": 1.0, \"bus_difference_spread\": 13.2, \"route_group\": \"long\", \"max_trip_hrs\": 1.6, \"max_trip_route_group\": 1.98, \"name\": \"Sonoma County\", \"caltrans_district\": \"04 - Oakland\", \"drmt_organization_name\": null, \"cutoff2\": 40, \"cutoff\": 2}, {\"calitp_itp_id\": 314, \"trip_key\": 9128019102166862376, \"trip_id\": \"t_1995009_b_33394_tn_0\", \"shape_id\": \"p_2717\", \"route_id\": \"1036\", \"service_hours\": 1.52, \"trip_first_departure_ts\": 52200, \"trip_last_arrival_ts\": 57660, \"departure_hour\": 14, \"time_of_day\": \"Midday\", \"p25\": 1.43, \"p50\": 1.475, \"p75\": 1.52, \"p50_trip\": 0, \"fastest_trip\": 0, \"car_duration_hours\": 1.29, \"competitive_route\": 1, \"bus_multiplier\": 1.18, \"bus_difference\": 13.8, \"num_trips\": 20, \"num_competitive\": 20, \"pct_trips_competitive\": 1.0, \"bus_difference_spread\": 13.2, \"route_group\": \"long\", \"max_trip_hrs\": 1.6, \"max_trip_route_group\": 1.98, \"name\": \"Sonoma County\", \"caltrans_district\": \"04 - Oakland\", \"drmt_organization_name\": null, \"cutoff2\": 40, \"cutoff\": 2}, {\"calitp_itp_id\": 314, \"trip_key\": -6968760511560024794, \"trip_id\": \"t_1995350_b_33394_tn_0\", \"shape_id\": \"p_2717\", \"route_id\": \"1036\", \"service_hours\": 1.52, \"trip_first_departure_ts\": 62700, \"trip_last_arrival_ts\": 68160, \"departure_hour\": 17, \"time_of_day\": \"PM Peak\", \"p25\": 1.43, \"p50\": 1.475, \"p75\": 1.52, \"p50_trip\": 0, \"fastest_trip\": 0, \"car_duration_hours\": 1.29, \"competitive_route\": 1, \"bus_multiplier\": 1.18, \"bus_difference\": 13.8, \"num_trips\": 20, \"num_competitive\": 20, \"pct_trips_competitive\": 1.0, \"bus_difference_spread\": 13.2, \"route_group\": \"long\", \"max_trip_hrs\": 1.6, \"max_trip_route_group\": 1.98, \"name\": \"Sonoma County\", \"caltrans_district\": \"04 - Oakland\", \"drmt_organization_name\": null, \"cutoff2\": 40, \"cutoff\": 2}, {\"calitp_itp_id\": 314, \"trip_key\": -3523583422549523544, \"trip_id\": \"t_1995348_b_33394_tn_0\", \"shape_id\": \"p_2717\", \"route_id\": \"1036\", \"service_hours\": 1.52, \"trip_first_departure_ts\": 58500, \"trip_last_arrival_ts\": 63960, \"departure_hour\": 16, \"time_of_day\": \"Midday\", \"p25\": 1.43, \"p50\": 1.475, \"p75\": 1.52, \"p50_trip\": 0, \"fastest_trip\": 0, \"car_duration_hours\": 1.29, \"competitive_route\": 1, \"bus_multiplier\": 1.18, \"bus_difference\": 13.8, \"num_trips\": 20, \"num_competitive\": 20, \"pct_trips_competitive\": 1.0, \"bus_difference_spread\": 13.2, \"route_group\": \"long\", \"max_trip_hrs\": 1.6, \"max_trip_route_group\": 1.98, \"name\": \"Sonoma County\", \"caltrans_district\": \"04 - Oakland\", \"drmt_organization_name\": null, \"cutoff2\": 40, \"cutoff\": 2}, {\"calitp_itp_id\": 314, \"trip_key\": -4409832134995376467, \"trip_id\": \"t_1995193_b_33394_tn_0\", \"shape_id\": \"p_2743\", \"route_id\": \"1036\", \"service_hours\": 1.52, \"trip_first_departure_ts\": 52200, \"trip_last_arrival_ts\": 57660, \"departure_hour\": 14, \"time_of_day\": \"Midday\", \"p25\": 1.43, \"p50\": 1.475, \"p75\": 1.52, \"p50_trip\": 0, \"fastest_trip\": 0, \"car_duration_hours\": 1.29, \"competitive_route\": 1, \"bus_multiplier\": 1.18, \"bus_difference\": 13.8, \"num_trips\": 20, \"num_competitive\": 20, \"pct_trips_competitive\": 1.0, \"bus_difference_spread\": 13.2, \"route_group\": \"long\", \"max_trip_hrs\": 1.6, \"max_trip_route_group\": 1.98, \"name\": \"Sonoma County\", \"caltrans_district\": \"04 - Oakland\", \"drmt_organization_name\": null, \"cutoff2\": 40, \"cutoff\": 2}, {\"calitp_itp_id\": 314, \"trip_key\": 8461849099823558438, \"trip_id\": \"t_1995347_b_33394_tn_0\", \"shape_id\": \"p_2717\", \"route_id\": \"1036\", \"service_hours\": 1.52, \"trip_first_departure_ts\": 48600, \"trip_last_arrival_ts\": 54060, \"departure_hour\": 13, \"time_of_day\": \"Midday\", \"p25\": 1.43, \"p50\": 1.475, \"p75\": 1.52, \"p50_trip\": 0, \"fastest_trip\": 0, \"car_duration_hours\": 1.29, \"competitive_route\": 1, \"bus_multiplier\": 1.18, \"bus_difference\": 13.8, \"num_trips\": 20, \"num_competitive\": 20, \"pct_trips_competitive\": 1.0, \"bus_difference_spread\": 13.2, \"route_group\": \"long\", \"max_trip_hrs\": 1.6, \"max_trip_route_group\": 1.98, \"name\": \"Sonoma County\", \"caltrans_district\": \"04 - Oakland\", \"drmt_organization_name\": null, \"cutoff2\": 40, \"cutoff\": 2}, {\"calitp_itp_id\": 314, \"trip_key\": -2740702127935225295, \"trip_id\": \"t_1995326_b_33394_tn_0\", \"shape_id\": \"p_2743\", \"route_id\": \"1036\", \"service_hours\": 1.52, \"trip_first_departure_ts\": 32400, \"trip_last_arrival_ts\": 37860, \"departure_hour\": 9, \"time_of_day\": \"AM Peak\", \"p25\": 1.43, \"p50\": 1.475, \"p75\": 1.52, \"p50_trip\": 0, \"fastest_trip\": 0, \"car_duration_hours\": 1.29, \"competitive_route\": 1, \"bus_multiplier\": 1.18, \"bus_difference\": 13.8, \"num_trips\": 20, \"num_competitive\": 20, \"pct_trips_competitive\": 1.0, \"bus_difference_spread\": 13.2, \"route_group\": \"long\", \"max_trip_hrs\": 1.6, \"max_trip_route_group\": 1.98, \"name\": \"Sonoma County\", \"caltrans_district\": \"04 - Oakland\", \"drmt_organization_name\": null, \"cutoff2\": 40, \"cutoff\": 2}, {\"calitp_itp_id\": 314, \"trip_key\": 2450874180248057358, \"trip_id\": \"t_1995333_b_33394_tn_0\", \"shape_id\": \"p_2743\", \"route_id\": \"1036\", \"service_hours\": 1.6, \"trip_first_departure_ts\": 38760, \"trip_last_arrival_ts\": 44520, \"departure_hour\": 10, \"time_of_day\": \"Midday\", \"p25\": 1.43, \"p50\": 1.475, \"p75\": 1.52, \"p50_trip\": 0, \"fastest_trip\": 0, \"car_duration_hours\": 1.29, \"competitive_route\": 1, \"bus_multiplier\": 1.24, \"bus_difference\": 18.6, \"num_trips\": 20, \"num_competitive\": 20, \"pct_trips_competitive\": 1.0, \"bus_difference_spread\": 13.2, \"route_group\": \"long\", \"max_trip_hrs\": 1.6, \"max_trip_route_group\": 1.98, \"name\": \"Sonoma County\", \"caltrans_district\": \"04 - Oakland\", \"drmt_organization_name\": null, \"cutoff2\": 40, \"cutoff\": 2}]}}, {\"mode\": \"vega-lite\"});\n",
       "</script>"
      ],
      "text/plain": [
       "alt.FacetChart(...)"
      ]
     },
     "metadata": {},
     "output_type": "display_data"
    },
    {
     "data": {
      "text/html": [
       "\n",
       "<div id=\"altair-viz-6beafc5229344855974a69d17b382ac6\"></div>\n",
       "<script type=\"text/javascript\">\n",
       "  var VEGA_DEBUG = (typeof VEGA_DEBUG == \"undefined\") ? {} : VEGA_DEBUG;\n",
       "  (function(spec, embedOpt){\n",
       "    let outputDiv = document.currentScript.previousElementSibling;\n",
       "    if (outputDiv.id !== \"altair-viz-6beafc5229344855974a69d17b382ac6\") {\n",
       "      outputDiv = document.getElementById(\"altair-viz-6beafc5229344855974a69d17b382ac6\");\n",
       "    }\n",
       "    const paths = {\n",
       "      \"vega\": \"https://cdn.jsdelivr.net/npm//vega@5?noext\",\n",
       "      \"vega-lib\": \"https://cdn.jsdelivr.net/npm//vega-lib?noext\",\n",
       "      \"vega-lite\": \"https://cdn.jsdelivr.net/npm//vega-lite@4.17.0?noext\",\n",
       "      \"vega-embed\": \"https://cdn.jsdelivr.net/npm//vega-embed@6?noext\",\n",
       "    };\n",
       "\n",
       "    function maybeLoadScript(lib, version) {\n",
       "      var key = `${lib.replace(\"-\", \"\")}_version`;\n",
       "      return (VEGA_DEBUG[key] == version) ?\n",
       "        Promise.resolve(paths[lib]) :\n",
       "        new Promise(function(resolve, reject) {\n",
       "          var s = document.createElement('script');\n",
       "          document.getElementsByTagName(\"head\")[0].appendChild(s);\n",
       "          s.async = true;\n",
       "          s.onload = () => {\n",
       "            VEGA_DEBUG[key] = version;\n",
       "            return resolve(paths[lib]);\n",
       "          };\n",
       "          s.onerror = () => reject(`Error loading script: ${paths[lib]}`);\n",
       "          s.src = paths[lib];\n",
       "        });\n",
       "    }\n",
       "\n",
       "    function showError(err) {\n",
       "      outputDiv.innerHTML = `<div class=\"error\" style=\"color:red;\">${err}</div>`;\n",
       "      throw err;\n",
       "    }\n",
       "\n",
       "    function displayChart(vegaEmbed) {\n",
       "      vegaEmbed(outputDiv, spec, embedOpt)\n",
       "        .catch(err => showError(`Javascript Error: ${err.message}<br>This usually means there's a typo in your chart specification. See the javascript console for the full traceback.`));\n",
       "    }\n",
       "\n",
       "    if(typeof define === \"function\" && define.amd) {\n",
       "      requirejs.config({paths});\n",
       "      require([\"vega-embed\"], displayChart, err => showError(`Error loading script: ${err.message}`));\n",
       "    } else {\n",
       "      maybeLoadScript(\"vega\", \"5\")\n",
       "        .then(() => maybeLoadScript(\"vega-lite\", \"4.17.0\"))\n",
       "        .then(() => maybeLoadScript(\"vega-embed\", \"6\"))\n",
       "        .catch(showError)\n",
       "        .then(() => displayChart(vegaEmbed));\n",
       "    }\n",
       "  })({\"config\": {\"view\": {\"continuousWidth\": 400, \"continuousHeight\": 300, \"stroke\": null}, \"facet\": {\"spacing\": 0}}, \"data\": {\"name\": \"data-359af8d907ffeaad45c8e0fe4442f37a\"}, \"facet\": {\"column\": {\"field\": \"route_id\", \"sort\": [\"1036\"], \"title\": \"Route ID\", \"type\": \"nominal\"}}, \"spec\": {\"layer\": [{\"mark\": \"rule\", \"encoding\": {\"color\": {\"value\": \"black\"}, \"y\": {\"field\": \"cutoff\", \"type\": \"quantitative\"}}, \"selection\": {\"selector006\": {\"type\": \"interval\", \"bind\": \"scales\", \"encodings\": [\"x\", \"y\"]}}}, {\"mark\": {\"type\": \"rule\", \"strokeDash\": [3, 3]}, \"encoding\": {\"color\": {\"value\": \"#323434\"}, \"y\": {\"field\": \"cutoff2\", \"type\": \"quantitative\"}}}, {\"mark\": {\"type\": \"point\", \"opacity\": 0.65, \"size\": 12, \"strokeWidth\": 1.1}, \"encoding\": {\"color\": {\"field\": \"time_of_day\", \"scale\": {\"range\": [\"#136C97\", \"#E16B26\", \"#F6BF16\", \"#00896B\", \"#7790A3\", \"#5B559C\"]}, \"sort\": [\"AM Peak\", \"Midday\", \"PM Peak\", \"Owl Service\"], \"title\": \"Time of Day\", \"type\": \"nominal\"}, \"tooltip\": [{\"field\": \"route_id\", \"type\": \"nominal\"}, {\"field\": \"trip_id\", \"type\": \"nominal\"}, {\"field\": \"service_hours\", \"type\": \"quantitative\"}, {\"field\": \"car_duration_hours\", \"type\": \"quantitative\"}, {\"field\": \"bus_multiplier\", \"type\": \"quantitative\"}, {\"field\": \"bus_difference\", \"type\": \"quantitative\"}, {\"field\": \"num_trips\", \"type\": \"quantitative\"}, {\"field\": \"num_competitive\", \"type\": \"quantitative\"}, {\"field\": \"pct_trips_competitive\", \"type\": \"quantitative\"}, {\"field\": \"p25\", \"type\": \"quantitative\"}, {\"field\": \"p50\", \"type\": \"quantitative\"}, {\"field\": \"p75\", \"type\": \"quantitative\"}], \"x\": {\"axis\": {\"grid\": false, \"labels\": false, \"ticks\": true, \"values\": [0]}, \"field\": \"jitter\", \"scale\": {}, \"title\": null, \"type\": \"quantitative\"}, \"y\": {\"field\": \"bus_difference\", \"scale\": {\"domain\": [-5, 45.0]}, \"title\": \"Difference in Bus to Car Travel Time (min)\", \"type\": \"quantitative\"}}, \"transform\": [{\"calculate\": \"sqrt(-2*log(random()))*cos(2*PI*random())\", \"as\": \"jitter\"}], \"width\": 50}, {\"layer\": [{\"mark\": {\"type\": \"point\", \"opacity\": 0.6, \"size\": 20, \"strokeWidth\": 1.3}, \"encoding\": {\"color\": {\"value\": \"#323434\"}, \"y\": {\"field\": \"bus_difference\", \"type\": \"quantitative\"}}, \"transform\": [{\"filter\": \"(datum.p50_trip === 1)\"}]}, {\"mark\": {\"type\": \"text\", \"align\": \"center\", \"baseline\": \"middle\"}, \"encoding\": {\"color\": {\"value\": \"black\"}, \"text\": {\"field\": \"pct_trips_competitive\", \"format\": \".0%\", \"type\": \"quantitative\"}, \"tooltip\": [{\"field\": \"route_id\", \"type\": \"nominal\"}, {\"field\": \"trip_id\", \"type\": \"nominal\"}, {\"field\": \"service_hours\", \"type\": \"quantitative\"}, {\"field\": \"car_duration_hours\", \"type\": \"quantitative\"}, {\"field\": \"bus_multiplier\", \"type\": \"quantitative\"}, {\"field\": \"bus_difference\", \"type\": \"quantitative\"}, {\"field\": \"num_trips\", \"type\": \"quantitative\"}, {\"field\": \"num_competitive\", \"type\": \"quantitative\"}, {\"field\": \"pct_trips_competitive\", \"type\": \"quantitative\"}, {\"field\": \"p25\", \"type\": \"quantitative\"}, {\"field\": \"p50\", \"type\": \"quantitative\"}, {\"field\": \"p75\", \"type\": \"quantitative\"}], \"x\": {\"value\": 30}, \"y\": {\"value\": 15}}, \"transform\": [{\"calculate\": \"sqrt(-2*log(random()))*cos(2*PI*random())\", \"as\": \"jitter\"}, {\"filter\": \"(datum.fastest_trip === 1)\"}]}]}]}, \"resolve\": {\"scale\": {\"y\": \"shared\"}}, \"title\": \"Difference in Bus to Car Travel Time (min)\", \"$schema\": \"https://vega.github.io/schema/vega-lite/v4.17.0.json\", \"datasets\": {\"data-359af8d907ffeaad45c8e0fe4442f37a\": [{\"calitp_itp_id\": 314, \"trip_key\": -4961482017217163915, \"trip_id\": \"t_1995353_b_33394_tn_0\", \"shape_id\": \"p_2717\", \"route_id\": \"1036\", \"service_hours\": 1.38, \"trip_first_departure_ts\": 39600, \"trip_last_arrival_ts\": 44580, \"departure_hour\": 11, \"time_of_day\": \"Midday\", \"p25\": 1.43, \"p50\": 1.475, \"p75\": 1.52, \"p50_trip\": 0, \"fastest_trip\": 0, \"car_duration_hours\": 1.29, \"competitive_route\": 1, \"bus_multiplier\": 1.07, \"bus_difference\": 5.4, \"num_trips\": 20, \"num_competitive\": 20, \"pct_trips_competitive\": 1.0, \"bus_difference_spread\": 13.2, \"route_group\": \"long\", \"max_trip_hrs\": 1.6, \"max_trip_route_group\": 1.98, \"name\": \"Sonoma County\", \"caltrans_district\": \"04 - Oakland\", \"drmt_organization_name\": null, \"cutoff2\": 40, \"cutoff\": 0}, {\"calitp_itp_id\": 314, \"trip_key\": -289006237527478908, \"trip_id\": \"t_1994988_b_33394_tn_0\", \"shape_id\": \"p_1277120\", \"route_id\": \"1036\", \"service_hours\": 1.38, \"trip_first_departure_ts\": 72900, \"trip_last_arrival_ts\": 77880, \"departure_hour\": 20, \"time_of_day\": \"Owl Service\", \"p25\": 1.43, \"p50\": 1.475, \"p75\": 1.52, \"p50_trip\": 0, \"fastest_trip\": 1, \"car_duration_hours\": 1.29, \"competitive_route\": 1, \"bus_multiplier\": 1.07, \"bus_difference\": 5.4, \"num_trips\": 20, \"num_competitive\": 20, \"pct_trips_competitive\": 1.0, \"bus_difference_spread\": 13.2, \"route_group\": \"long\", \"max_trip_hrs\": 1.6, \"max_trip_route_group\": 1.98, \"name\": \"Sonoma County\", \"caltrans_district\": \"04 - Oakland\", \"drmt_organization_name\": null, \"cutoff2\": 40, \"cutoff\": 0}, {\"calitp_itp_id\": 314, \"trip_key\": -777617146173694214, \"trip_id\": \"t_1995018_b_33394_tn_0\", \"shape_id\": \"p_2743\", \"route_id\": \"1036\", \"service_hours\": 1.43, \"trip_first_departure_ts\": 26400, \"trip_last_arrival_ts\": 31560, \"departure_hour\": 7, \"time_of_day\": \"AM Peak\", \"p25\": 1.43, \"p50\": 1.475, \"p75\": 1.52, \"p50_trip\": 0, \"fastest_trip\": 0, \"car_duration_hours\": 1.29, \"competitive_route\": 1, \"bus_multiplier\": 1.11, \"bus_difference\": 8.4, \"num_trips\": 20, \"num_competitive\": 20, \"pct_trips_competitive\": 1.0, \"bus_difference_spread\": 13.2, \"route_group\": \"long\", \"max_trip_hrs\": 1.6, \"max_trip_route_group\": 1.98, \"name\": \"Sonoma County\", \"caltrans_district\": \"04 - Oakland\", \"drmt_organization_name\": null, \"cutoff2\": 40, \"cutoff\": 0}, {\"calitp_itp_id\": 314, \"trip_key\": -4127073193513495924, \"trip_id\": \"t_1995154_b_33394_tn_0\", \"shape_id\": \"p_2717\", \"route_id\": \"1036\", \"service_hours\": 1.43, \"trip_first_departure_ts\": 45300, \"trip_last_arrival_ts\": 50460, \"departure_hour\": 12, \"time_of_day\": \"Midday\", \"p25\": 1.43, \"p50\": 1.475, \"p75\": 1.52, \"p50_trip\": 0, \"fastest_trip\": 0, \"car_duration_hours\": 1.29, \"competitive_route\": 1, \"bus_multiplier\": 1.11, \"bus_difference\": 8.4, \"num_trips\": 20, \"num_competitive\": 20, \"pct_trips_competitive\": 1.0, \"bus_difference_spread\": 13.2, \"route_group\": \"long\", \"max_trip_hrs\": 1.6, \"max_trip_route_group\": 1.98, \"name\": \"Sonoma County\", \"caltrans_district\": \"04 - Oakland\", \"drmt_organization_name\": null, \"cutoff2\": 40, \"cutoff\": 0}, {\"calitp_itp_id\": 314, \"trip_key\": -4762891809884570032, \"trip_id\": \"t_1995344_b_33394_tn_0\", \"shape_id\": \"p_2717\", \"route_id\": \"1036\", \"service_hours\": 1.43, \"trip_first_departure_ts\": 26400, \"trip_last_arrival_ts\": 31560, \"departure_hour\": 7, \"time_of_day\": \"AM Peak\", \"p25\": 1.43, \"p50\": 1.475, \"p75\": 1.52, \"p50_trip\": 0, \"fastest_trip\": 0, \"car_duration_hours\": 1.29, \"competitive_route\": 1, \"bus_multiplier\": 1.11, \"bus_difference\": 8.4, \"num_trips\": 20, \"num_competitive\": 20, \"pct_trips_competitive\": 1.0, \"bus_difference_spread\": 13.2, \"route_group\": \"long\", \"max_trip_hrs\": 1.6, \"max_trip_route_group\": 1.98, \"name\": \"Sonoma County\", \"caltrans_district\": \"04 - Oakland\", \"drmt_organization_name\": null, \"cutoff2\": 40, \"cutoff\": 0}, {\"calitp_itp_id\": 314, \"trip_key\": 5550989759653210337, \"trip_id\": \"t_1995021_b_33394_tn_0\", \"shape_id\": \"p_2717\", \"route_id\": \"1036\", \"service_hours\": 1.43, \"trip_first_departure_ts\": 66600, \"trip_last_arrival_ts\": 71760, \"departure_hour\": 18, \"time_of_day\": \"PM Peak\", \"p25\": 1.43, \"p50\": 1.475, \"p75\": 1.52, \"p50_trip\": 0, \"fastest_trip\": 0, \"car_duration_hours\": 1.29, \"competitive_route\": 1, \"bus_multiplier\": 1.11, \"bus_difference\": 8.4, \"num_trips\": 20, \"num_competitive\": 20, \"pct_trips_competitive\": 1.0, \"bus_difference_spread\": 13.2, \"route_group\": \"long\", \"max_trip_hrs\": 1.6, \"max_trip_route_group\": 1.98, \"name\": \"Sonoma County\", \"caltrans_district\": \"04 - Oakland\", \"drmt_organization_name\": null, \"cutoff2\": 40, \"cutoff\": 0}, {\"calitp_itp_id\": 314, \"trip_key\": 1698562714533334624, \"trip_id\": \"t_1995020_b_33394_tn_0\", \"shape_id\": \"p_2717\", \"route_id\": \"1036\", \"service_hours\": 1.43, \"trip_first_departure_ts\": 32400, \"trip_last_arrival_ts\": 37560, \"departure_hour\": 9, \"time_of_day\": \"AM Peak\", \"p25\": 1.43, \"p50\": 1.475, \"p75\": 1.52, \"p50_trip\": 0, \"fastest_trip\": 0, \"car_duration_hours\": 1.29, \"competitive_route\": 1, \"bus_multiplier\": 1.11, \"bus_difference\": 8.4, \"num_trips\": 20, \"num_competitive\": 20, \"pct_trips_competitive\": 1.0, \"bus_difference_spread\": 13.2, \"route_group\": \"long\", \"max_trip_hrs\": 1.6, \"max_trip_route_group\": 1.98, \"name\": \"Sonoma County\", \"caltrans_district\": \"04 - Oakland\", \"drmt_organization_name\": null, \"cutoff2\": 40, \"cutoff\": 0}, {\"calitp_itp_id\": 314, \"trip_key\": -2898047065579680099, \"trip_id\": \"t_1995324_b_33394_tn_0\", \"shape_id\": \"p_2743\", \"route_id\": \"1036\", \"service_hours\": 1.43, \"trip_first_departure_ts\": 24300, \"trip_last_arrival_ts\": 29460, \"departure_hour\": 6, \"time_of_day\": \"Owl Service\", \"p25\": 1.43, \"p50\": 1.475, \"p75\": 1.52, \"p50_trip\": 0, \"fastest_trip\": 0, \"car_duration_hours\": 1.29, \"competitive_route\": 1, \"bus_multiplier\": 1.11, \"bus_difference\": 8.4, \"num_trips\": 20, \"num_competitive\": 20, \"pct_trips_competitive\": 1.0, \"bus_difference_spread\": 13.2, \"route_group\": \"long\", \"max_trip_hrs\": 1.6, \"max_trip_route_group\": 1.98, \"name\": \"Sonoma County\", \"caltrans_district\": \"04 - Oakland\", \"drmt_organization_name\": null, \"cutoff2\": 40, \"cutoff\": 0}, {\"calitp_itp_id\": 314, \"trip_key\": -2701105274243445297, \"trip_id\": \"t_1995355_b_33394_tn_0\", \"shape_id\": \"p_1277129\", \"route_id\": \"1036\", \"service_hours\": 1.45, \"trip_first_departure_ts\": 72300, \"trip_last_arrival_ts\": 77520, \"departure_hour\": 20, \"time_of_day\": \"Owl Service\", \"p25\": 1.43, \"p50\": 1.475, \"p75\": 1.52, \"p50_trip\": 0, \"fastest_trip\": 0, \"car_duration_hours\": 1.29, \"competitive_route\": 1, \"bus_multiplier\": 1.12, \"bus_difference\": 9.6, \"num_trips\": 20, \"num_competitive\": 20, \"pct_trips_competitive\": 1.0, \"bus_difference_spread\": 13.2, \"route_group\": \"long\", \"max_trip_hrs\": 1.6, \"max_trip_route_group\": 1.98, \"name\": \"Sonoma County\", \"caltrans_district\": \"04 - Oakland\", \"drmt_organization_name\": null, \"cutoff2\": 40, \"cutoff\": 0}, {\"calitp_itp_id\": 314, \"trip_key\": -3375662105676163192, \"trip_id\": \"t_1995338_b_33394_tn_0\", \"shape_id\": \"p_2743\", \"route_id\": \"1036\", \"service_hours\": 1.47, \"trip_first_departure_ts\": 65400, \"trip_last_arrival_ts\": 70680, \"departure_hour\": 18, \"time_of_day\": \"PM Peak\", \"p25\": 1.43, \"p50\": 1.475, \"p75\": 1.52, \"p50_trip\": 0, \"fastest_trip\": 0, \"car_duration_hours\": 1.29, \"competitive_route\": 1, \"bus_multiplier\": 1.14, \"bus_difference\": 10.8, \"num_trips\": 20, \"num_competitive\": 20, \"pct_trips_competitive\": 1.0, \"bus_difference_spread\": 13.2, \"route_group\": \"long\", \"max_trip_hrs\": 1.6, \"max_trip_route_group\": 1.98, \"name\": \"Sonoma County\", \"caltrans_district\": \"04 - Oakland\", \"drmt_organization_name\": null, \"cutoff2\": 40, \"cutoff\": 0}, {\"calitp_itp_id\": 314, \"trip_key\": -6073962513807807858, \"trip_id\": \"t_1995328_b_33394_tn_0\", \"shape_id\": \"p_2743\", \"route_id\": \"1036\", \"service_hours\": 1.48, \"trip_first_departure_ts\": 45900, \"trip_last_arrival_ts\": 51240, \"departure_hour\": 12, \"time_of_day\": \"Midday\", \"p25\": 1.43, \"p50\": 1.475, \"p75\": 1.52, \"p50_trip\": 1, \"fastest_trip\": 0, \"car_duration_hours\": 1.29, \"competitive_route\": 1, \"bus_multiplier\": 1.15, \"bus_difference\": 11.4, \"num_trips\": 20, \"num_competitive\": 20, \"pct_trips_competitive\": 1.0, \"bus_difference_spread\": 13.2, \"route_group\": \"long\", \"max_trip_hrs\": 1.6, \"max_trip_route_group\": 1.98, \"name\": \"Sonoma County\", \"caltrans_district\": \"04 - Oakland\", \"drmt_organization_name\": null, \"cutoff2\": 40, \"cutoff\": 0}, {\"calitp_itp_id\": 314, \"trip_key\": 1448356439023687162, \"trip_id\": \"t_1995019_b_33394_tn_0\", \"shape_id\": \"p_2743\", \"route_id\": \"1036\", \"service_hours\": 1.48, \"trip_first_departure_ts\": 42300, \"trip_last_arrival_ts\": 47640, \"departure_hour\": 11, \"time_of_day\": \"Midday\", \"p25\": 1.43, \"p50\": 1.475, \"p75\": 1.52, \"p50_trip\": 1, \"fastest_trip\": 0, \"car_duration_hours\": 1.29, \"competitive_route\": 1, \"bus_multiplier\": 1.15, \"bus_difference\": 11.4, \"num_trips\": 20, \"num_competitive\": 20, \"pct_trips_competitive\": 1.0, \"bus_difference_spread\": 13.2, \"route_group\": \"long\", \"max_trip_hrs\": 1.6, \"max_trip_route_group\": 1.98, \"name\": \"Sonoma County\", \"caltrans_district\": \"04 - Oakland\", \"drmt_organization_name\": null, \"cutoff2\": 40, \"cutoff\": 0}, {\"calitp_itp_id\": 314, \"trip_key\": -9039094463424748836, \"trip_id\": \"t_1995195_b_33394_tn_0\", \"shape_id\": \"p_2743\", \"route_id\": \"1036\", \"service_hours\": 1.52, \"trip_first_departure_ts\": 59400, \"trip_last_arrival_ts\": 64860, \"departure_hour\": 16, \"time_of_day\": \"Midday\", \"p25\": 1.43, \"p50\": 1.475, \"p75\": 1.52, \"p50_trip\": 0, \"fastest_trip\": 0, \"car_duration_hours\": 1.29, \"competitive_route\": 1, \"bus_multiplier\": 1.18, \"bus_difference\": 13.8, \"num_trips\": 20, \"num_competitive\": 20, \"pct_trips_competitive\": 1.0, \"bus_difference_spread\": 13.2, \"route_group\": \"long\", \"max_trip_hrs\": 1.6, \"max_trip_route_group\": 1.98, \"name\": \"Sonoma County\", \"caltrans_district\": \"04 - Oakland\", \"drmt_organization_name\": null, \"cutoff2\": 40, \"cutoff\": 0}, {\"calitp_itp_id\": 314, \"trip_key\": 9128019102166862376, \"trip_id\": \"t_1995009_b_33394_tn_0\", \"shape_id\": \"p_2717\", \"route_id\": \"1036\", \"service_hours\": 1.52, \"trip_first_departure_ts\": 52200, \"trip_last_arrival_ts\": 57660, \"departure_hour\": 14, \"time_of_day\": \"Midday\", \"p25\": 1.43, \"p50\": 1.475, \"p75\": 1.52, \"p50_trip\": 0, \"fastest_trip\": 0, \"car_duration_hours\": 1.29, \"competitive_route\": 1, \"bus_multiplier\": 1.18, \"bus_difference\": 13.8, \"num_trips\": 20, \"num_competitive\": 20, \"pct_trips_competitive\": 1.0, \"bus_difference_spread\": 13.2, \"route_group\": \"long\", \"max_trip_hrs\": 1.6, \"max_trip_route_group\": 1.98, \"name\": \"Sonoma County\", \"caltrans_district\": \"04 - Oakland\", \"drmt_organization_name\": null, \"cutoff2\": 40, \"cutoff\": 0}, {\"calitp_itp_id\": 314, \"trip_key\": -6968760511560024794, \"trip_id\": \"t_1995350_b_33394_tn_0\", \"shape_id\": \"p_2717\", \"route_id\": \"1036\", \"service_hours\": 1.52, \"trip_first_departure_ts\": 62700, \"trip_last_arrival_ts\": 68160, \"departure_hour\": 17, \"time_of_day\": \"PM Peak\", \"p25\": 1.43, \"p50\": 1.475, \"p75\": 1.52, \"p50_trip\": 0, \"fastest_trip\": 0, \"car_duration_hours\": 1.29, \"competitive_route\": 1, \"bus_multiplier\": 1.18, \"bus_difference\": 13.8, \"num_trips\": 20, \"num_competitive\": 20, \"pct_trips_competitive\": 1.0, \"bus_difference_spread\": 13.2, \"route_group\": \"long\", \"max_trip_hrs\": 1.6, \"max_trip_route_group\": 1.98, \"name\": \"Sonoma County\", \"caltrans_district\": \"04 - Oakland\", \"drmt_organization_name\": null, \"cutoff2\": 40, \"cutoff\": 0}, {\"calitp_itp_id\": 314, \"trip_key\": -3523583422549523544, \"trip_id\": \"t_1995348_b_33394_tn_0\", \"shape_id\": \"p_2717\", \"route_id\": \"1036\", \"service_hours\": 1.52, \"trip_first_departure_ts\": 58500, \"trip_last_arrival_ts\": 63960, \"departure_hour\": 16, \"time_of_day\": \"Midday\", \"p25\": 1.43, \"p50\": 1.475, \"p75\": 1.52, \"p50_trip\": 0, \"fastest_trip\": 0, \"car_duration_hours\": 1.29, \"competitive_route\": 1, \"bus_multiplier\": 1.18, \"bus_difference\": 13.8, \"num_trips\": 20, \"num_competitive\": 20, \"pct_trips_competitive\": 1.0, \"bus_difference_spread\": 13.2, \"route_group\": \"long\", \"max_trip_hrs\": 1.6, \"max_trip_route_group\": 1.98, \"name\": \"Sonoma County\", \"caltrans_district\": \"04 - Oakland\", \"drmt_organization_name\": null, \"cutoff2\": 40, \"cutoff\": 0}, {\"calitp_itp_id\": 314, \"trip_key\": -4409832134995376467, \"trip_id\": \"t_1995193_b_33394_tn_0\", \"shape_id\": \"p_2743\", \"route_id\": \"1036\", \"service_hours\": 1.52, \"trip_first_departure_ts\": 52200, \"trip_last_arrival_ts\": 57660, \"departure_hour\": 14, \"time_of_day\": \"Midday\", \"p25\": 1.43, \"p50\": 1.475, \"p75\": 1.52, \"p50_trip\": 0, \"fastest_trip\": 0, \"car_duration_hours\": 1.29, \"competitive_route\": 1, \"bus_multiplier\": 1.18, \"bus_difference\": 13.8, \"num_trips\": 20, \"num_competitive\": 20, \"pct_trips_competitive\": 1.0, \"bus_difference_spread\": 13.2, \"route_group\": \"long\", \"max_trip_hrs\": 1.6, \"max_trip_route_group\": 1.98, \"name\": \"Sonoma County\", \"caltrans_district\": \"04 - Oakland\", \"drmt_organization_name\": null, \"cutoff2\": 40, \"cutoff\": 0}, {\"calitp_itp_id\": 314, \"trip_key\": 8461849099823558438, \"trip_id\": \"t_1995347_b_33394_tn_0\", \"shape_id\": \"p_2717\", \"route_id\": \"1036\", \"service_hours\": 1.52, \"trip_first_departure_ts\": 48600, \"trip_last_arrival_ts\": 54060, \"departure_hour\": 13, \"time_of_day\": \"Midday\", \"p25\": 1.43, \"p50\": 1.475, \"p75\": 1.52, \"p50_trip\": 0, \"fastest_trip\": 0, \"car_duration_hours\": 1.29, \"competitive_route\": 1, \"bus_multiplier\": 1.18, \"bus_difference\": 13.8, \"num_trips\": 20, \"num_competitive\": 20, \"pct_trips_competitive\": 1.0, \"bus_difference_spread\": 13.2, \"route_group\": \"long\", \"max_trip_hrs\": 1.6, \"max_trip_route_group\": 1.98, \"name\": \"Sonoma County\", \"caltrans_district\": \"04 - Oakland\", \"drmt_organization_name\": null, \"cutoff2\": 40, \"cutoff\": 0}, {\"calitp_itp_id\": 314, \"trip_key\": -2740702127935225295, \"trip_id\": \"t_1995326_b_33394_tn_0\", \"shape_id\": \"p_2743\", \"route_id\": \"1036\", \"service_hours\": 1.52, \"trip_first_departure_ts\": 32400, \"trip_last_arrival_ts\": 37860, \"departure_hour\": 9, \"time_of_day\": \"AM Peak\", \"p25\": 1.43, \"p50\": 1.475, \"p75\": 1.52, \"p50_trip\": 0, \"fastest_trip\": 0, \"car_duration_hours\": 1.29, \"competitive_route\": 1, \"bus_multiplier\": 1.18, \"bus_difference\": 13.8, \"num_trips\": 20, \"num_competitive\": 20, \"pct_trips_competitive\": 1.0, \"bus_difference_spread\": 13.2, \"route_group\": \"long\", \"max_trip_hrs\": 1.6, \"max_trip_route_group\": 1.98, \"name\": \"Sonoma County\", \"caltrans_district\": \"04 - Oakland\", \"drmt_organization_name\": null, \"cutoff2\": 40, \"cutoff\": 0}, {\"calitp_itp_id\": 314, \"trip_key\": 2450874180248057358, \"trip_id\": \"t_1995333_b_33394_tn_0\", \"shape_id\": \"p_2743\", \"route_id\": \"1036\", \"service_hours\": 1.6, \"trip_first_departure_ts\": 38760, \"trip_last_arrival_ts\": 44520, \"departure_hour\": 10, \"time_of_day\": \"Midday\", \"p25\": 1.43, \"p50\": 1.475, \"p75\": 1.52, \"p50_trip\": 0, \"fastest_trip\": 0, \"car_duration_hours\": 1.29, \"competitive_route\": 1, \"bus_multiplier\": 1.24, \"bus_difference\": 18.6, \"num_trips\": 20, \"num_competitive\": 20, \"pct_trips_competitive\": 1.0, \"bus_difference_spread\": 13.2, \"route_group\": \"long\", \"max_trip_hrs\": 1.6, \"max_trip_route_group\": 1.98, \"name\": \"Sonoma County\", \"caltrans_district\": \"04 - Oakland\", \"drmt_organization_name\": null, \"cutoff2\": 40, \"cutoff\": 0}]}}, {\"mode\": \"vega-lite\"});\n",
       "</script>"
      ],
      "text/plain": [
       "alt.FacetChart(...)"
      ]
     },
     "metadata": {},
     "output_type": "display_data"
    }
   ],
   "source": [
    "route_group = \"long\"\n",
    "try:\n",
    "    display_charts_for_route_group(df, route_group)\n",
    "except:\n",
    "    print(\"No routes meet this criteria.\")"
   ]
  },
  {
   "cell_type": "markdown",
   "id": "ace75b5f-0442-4fbe-aebd-6c3a13ae13a7",
   "metadata": {
    "papermill": {
     "duration": 0.024062,
     "end_time": "2022-05-09T19:48:32.388512",
     "exception": false,
     "start_time": "2022-05-09T19:48:32.364450",
     "status": "completed"
    },
    "tags": []
   },
   "source": [
    "### GTFS Real-Time Speedmaps"
   ]
  },
  {
   "cell_type": "code",
   "execution_count": 16,
   "id": "a0a114a1-e975-4027-9daf-50029f5ef59f",
   "metadata": {
    "execution": {
     "iopub.execute_input": "2022-05-09T19:48:32.438351Z",
     "iopub.status.busy": "2022-05-09T19:48:32.437988Z",
     "iopub.status.idle": "2022-05-09T19:48:32.491695Z",
     "shell.execute_reply": "2022-05-09T19:48:32.490649Z"
    },
    "jupyter": {
     "source_hidden": true
    },
    "papermill": {
     "duration": 0.080903,
     "end_time": "2022-05-09T19:48:32.494549",
     "exception": false,
     "start_time": "2022-05-09T19:48:32.413646",
     "status": "completed"
    },
    "tags": [
     "remove_input"
    ]
   },
   "outputs": [
    {
     "data": {
      "text/html": [
       "No GTFS RT data available."
      ],
      "text/plain": [
       "<IPython.core.display.HTML object>"
      ]
     },
     "metadata": {},
     "output_type": "display_data"
    }
   ],
   "source": [
    "PORTFOLIO_SITE_YAML = \"../portfolio/analyses.yml\"\n",
    "\n",
    "# Grab list of ITP IDs with GTFS RT speedmaps\n",
    "rt_itp_id = deploy_portfolio_yaml.check_if_rt_data_available(PORTFOLIO_SITE_YAML)\n",
    "\n",
    "# Construct the URL \n",
    "RT_URL = (\"https://analysis.calitp.org/rt/\"\n",
    "          f\"district_{district_number}-{district_name}/\"\n",
    "          f\"speedmaps__itp_id_{itp_id}.html\"\n",
    "         ) \n",
    "\n",
    "if itp_id in rt_itp_id:\n",
    "    display(HTML(f'''<a href={RT_URL}>GTFS RT speedmaps here.</a>'''))\n",
    "\n",
    "else:\n",
    "    display(HTML(\"No GTFS RT data available.\"))"
   ]
  },
  {
   "cell_type": "code",
   "execution_count": null,
   "id": "5b680565-2230-4f2e-817c-718fad48d64c",
   "metadata": {
    "jupyter": {
     "source_hidden": true
    },
    "papermill": {
     "duration": 0.023474,
     "end_time": "2022-05-09T19:48:32.550977",
     "exception": false,
     "start_time": "2022-05-09T19:48:32.527503",
     "status": "completed"
    },
    "tags": [
     "remove_input"
    ]
   },
   "outputs": [],
   "source": []
  }
 ],
 "metadata": {
  "kernelspec": {
   "display_name": "Python 3 (ipykernel)",
   "language": "python",
   "name": "python3"
  },
  "language_info": {
   "codemirror_mode": {
    "name": "ipython",
    "version": 3
   },
   "file_extension": ".py",
   "mimetype": "text/x-python",
   "name": "python",
   "nbconvert_exporter": "python",
   "pygments_lexer": "ipython3",
   "version": "3.9.12"
  },
  "papermill": {
   "default_parameters": {},
   "duration": 30.094149,
   "end_time": "2022-05-09T19:48:35.029615",
   "environment_variables": {},
   "exception": null,
   "input_path": "bus_service_increase/competitive-parallel-routes.ipynb",
   "output_path": "portfolio/parallel_corridors/district_04-oakland/competitive-parallel-routes__itp_id_314.ipynb",
   "parameters": {
    "district": "04 - Oakland",
    "itp_id": 314
   },
   "start_time": "2022-05-09T19:48:04.935466",
   "version": "2.3.4"
  }
 },
 "nbformat": 4,
 "nbformat_minor": 5
}