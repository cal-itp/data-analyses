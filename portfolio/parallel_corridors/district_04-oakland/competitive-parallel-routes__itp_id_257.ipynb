{
 "cells": [
  {
   "cell_type": "code",
   "execution_count": 1,
   "id": "95d00857-6a20-4529-a519-2cc7182928a9",
   "metadata": {
    "execution": {
     "iopub.execute_input": "2022-05-09T19:43:27.387080Z",
     "iopub.status.busy": "2022-05-09T19:43:27.386692Z",
     "iopub.status.idle": "2022-05-09T19:43:36.813702Z",
     "shell.execute_reply": "2022-05-09T19:43:36.812497Z"
    },
    "jupyter": {
     "source_hidden": true
    },
    "papermill": {
     "duration": 9.446303,
     "end_time": "2022-05-09T19:43:36.816800",
     "exception": false,
     "start_time": "2022-05-09T19:43:27.370497",
     "status": "completed"
    },
    "tags": [
     "remove_input"
    ]
   },
   "outputs": [],
   "source": [
    "%%capture\n",
    "import warnings\n",
    "warnings.filterwarnings('ignore')\n",
    "\n",
    "import altair as alt\n",
    "import calitp.magics\n",
    "import geopandas as gpd\n",
    "import intake\n",
    "import pandas as pd\n",
    "\n",
    "from IPython.display import display, Markdown, HTML\n",
    "\n",
    "import parallel_corridors_utils\n",
    "from shared_utils import styleguide\n",
    "import deploy_portfolio_yaml\n",
    "\n",
    "catalog = intake.open_catalog(\"./*.yml\")\n",
    "alt.renderers.enable(\"html\")"
   ]
  },
  {
   "cell_type": "code",
   "execution_count": 2,
   "id": "8af2a0c1-f3da-408d-9bea-11d9fbf8695d",
   "metadata": {
    "execution": {
     "iopub.execute_input": "2022-05-09T19:43:36.847567Z",
     "iopub.status.busy": "2022-05-09T19:43:36.846511Z",
     "iopub.status.idle": "2022-05-09T19:43:36.851853Z",
     "shell.execute_reply": "2022-05-09T19:43:36.851087Z"
    },
    "jupyter": {
     "source_hidden": true
    },
    "papermill": {
     "duration": 0.023199,
     "end_time": "2022-05-09T19:43:36.854641",
     "exception": false,
     "start_time": "2022-05-09T19:43:36.831442",
     "status": "completed"
    },
    "tags": [
     "parameters",
     "remove_input"
    ]
   },
   "outputs": [],
   "source": [
    "# parameters cell\n",
    "itp_id = 182"
   ]
  },
  {
   "cell_type": "code",
   "execution_count": 3,
   "id": "80189ddc",
   "metadata": {
    "execution": {
     "iopub.execute_input": "2022-05-09T19:43:36.884619Z",
     "iopub.status.busy": "2022-05-09T19:43:36.883930Z",
     "iopub.status.idle": "2022-05-09T19:43:36.889768Z",
     "shell.execute_reply": "2022-05-09T19:43:36.888556Z"
    },
    "jupyter": {
     "source_hidden": true
    },
    "papermill": {
     "duration": 0.023777,
     "end_time": "2022-05-09T19:43:36.892270",
     "exception": false,
     "start_time": "2022-05-09T19:43:36.868493",
     "status": "completed"
    },
    "tags": [
     "injected-parameters",
     "remove_input"
    ]
   },
   "outputs": [],
   "source": [
    "# Parameters\n",
    "district = \"04 - Oakland\"\n",
    "itp_id = 257\n"
   ]
  },
  {
   "cell_type": "code",
   "execution_count": 4,
   "id": "9582aaf4-79ff-412a-b248-8d8d693ebd4f",
   "metadata": {
    "execution": {
     "iopub.execute_input": "2022-05-09T19:43:36.927266Z",
     "iopub.status.busy": "2022-05-09T19:43:36.926857Z",
     "iopub.status.idle": "2022-05-09T19:43:38.299306Z",
     "shell.execute_reply": "2022-05-09T19:43:38.298353Z"
    },
    "jupyter": {
     "source_hidden": true
    },
    "papermill": {
     "duration": 1.390911,
     "end_time": "2022-05-09T19:43:38.301645",
     "exception": false,
     "start_time": "2022-05-09T19:43:36.910734",
     "status": "completed"
    },
    "tags": [
     "remove_input"
    ]
   },
   "outputs": [],
   "source": [
    "df = catalog.competitive_route_variability.read()\n",
    "\n",
    "df = (df[(df.calitp_itp_id == itp_id) & \n",
    "         (df.route_group.notna())]\n",
    "      .reset_index(drop=True)\n",
    "     )\n",
    "\n",
    "\n",
    "if itp_id == 182:\n",
    "    df = df.assign(\n",
    "        route_id = df.route_id.str.replace('-13153', '').astype(int)\n",
    "    )"
   ]
  },
  {
   "cell_type": "code",
   "execution_count": 5,
   "id": "33ac4b06-f647-4dce-a625-8f2c1b37cc60",
   "metadata": {
    "execution": {
     "iopub.execute_input": "2022-05-09T19:43:38.329328Z",
     "iopub.status.busy": "2022-05-09T19:43:38.328687Z",
     "iopub.status.idle": "2022-05-09T19:43:38.337869Z",
     "shell.execute_reply": "2022-05-09T19:43:38.337227Z"
    },
    "jupyter": {
     "source_hidden": true
    },
    "papermill": {
     "duration": 0.024695,
     "end_time": "2022-05-09T19:43:38.339591",
     "exception": false,
     "start_time": "2022-05-09T19:43:38.314896",
     "status": "completed"
    },
    "tags": [
     "remove_input"
    ]
   },
   "outputs": [],
   "source": [
    "%%capture_parameters\n",
    "operator_name = df.name.iloc[0]\n",
    "district_number = f\"{df.caltrans_district.iloc[0].split('-')[0].strip()}\"\n",
    "district_name = f\"{df.caltrans_district.iloc[0].split('-')[1].strip().lower().replace(' ', '-')}\"\n",
    "\n",
    "itp_id, operator_name, district_number, district_name"
   ]
  },
  {
   "cell_type": "markdown",
   "id": "65bc6f5c-8348-42ee-b2dd-52057c406852",
   "metadata": {
    "papermill": {
     "duration": 0.012059,
     "end_time": "2022-05-09T19:43:38.363381",
     "exception": false,
     "start_time": "2022-05-09T19:43:38.351322",
     "status": "completed"
    },
    "tags": []
   },
   "source": [
    "# Presidio Trust (ITP ID: 257)"
   ]
  },
  {
   "cell_type": "code",
   "execution_count": 6,
   "id": "a689c1ab-2c6c-4831-8d64-897f5986f571",
   "metadata": {
    "execution": {
     "iopub.execute_input": "2022-05-09T19:43:38.389169Z",
     "iopub.status.busy": "2022-05-09T19:43:38.388257Z",
     "iopub.status.idle": "2022-05-09T19:43:38.394719Z",
     "shell.execute_reply": "2022-05-09T19:43:38.394177Z"
    },
    "jupyter": {
     "source_hidden": true
    },
    "papermill": {
     "duration": 0.02145,
     "end_time": "2022-05-09T19:43:38.396449",
     "exception": false,
     "start_time": "2022-05-09T19:43:38.374999",
     "status": "completed"
    },
    "tags": [
     "remove_input"
    ]
   },
   "outputs": [
    {
     "data": {
      "text/html": [
       "<h1>Competitive & Parallel Routes</h1>"
      ],
      "text/plain": [
       "<IPython.core.display.HTML object>"
      ]
     },
     "metadata": {},
     "output_type": "display_data"
    }
   ],
   "source": [
    "display(HTML(\"<h1>Competitive & Parallel Routes</h1>\")) "
   ]
  },
  {
   "cell_type": "code",
   "execution_count": 7,
   "id": "2cb4d8d5-4760-40e4-85b1-cb833d8bb648",
   "metadata": {
    "execution": {
     "iopub.execute_input": "2022-05-09T19:43:38.433318Z",
     "iopub.status.busy": "2022-05-09T19:43:38.432747Z",
     "iopub.status.idle": "2022-05-09T19:43:50.854681Z",
     "shell.execute_reply": "2022-05-09T19:43:50.853436Z"
    },
    "jupyter": {
     "source_hidden": true
    },
    "papermill": {
     "duration": 12.440084,
     "end_time": "2022-05-09T19:43:50.858442",
     "exception": false,
     "start_time": "2022-05-09T19:43:38.418358",
     "status": "completed"
    },
    "tags": [
     "remove_input"
    ]
   },
   "outputs": [],
   "source": [
    "# Grab parameters for narrative text - clean up formatting here \n",
    "district = df.caltrans_district.iloc[0]\n",
    "formatted_date = pd.to_datetime(parallel_corridors_utils.SELECTED_DATE).strftime('%m-%d-%Y')\n",
    "\n",
    "PCT_COMPETITIVE_THRESHOLD = 0.75\n",
    "\n",
    "stats = parallel_corridors_utils.operator_parallel_competitive_stats(\n",
    "    itp_id, PCT_COMPETITIVE_THRESHOLD)\n",
    "\n",
    "pct_parallel = round(stats['parallel_routes'] / stats['num_routes'] * 100,1 )\n",
    "pct_competitive =  round(stats['competitive_routes'] / stats['num_routes'] * 100,1 )"
   ]
  },
  {
   "cell_type": "markdown",
   "id": "ab667928-5274-4490-82d9-4c39293209a4",
   "metadata": {
    "papermill": {
     "duration": 0.01427,
     "end_time": "2022-05-09T19:43:50.887023",
     "exception": false,
     "start_time": "2022-05-09T19:43:50.872753",
     "status": "completed"
    },
    "tags": []
   },
   "source": [
    "## Quick Stats"
   ]
  },
  {
   "cell_type": "code",
   "execution_count": 8,
   "id": "0416509d-dc62-4165-b62e-64f8b26e8b8e",
   "metadata": {
    "execution": {
     "iopub.execute_input": "2022-05-09T19:43:50.927459Z",
     "iopub.status.busy": "2022-05-09T19:43:50.926783Z",
     "iopub.status.idle": "2022-05-09T19:43:50.933968Z",
     "shell.execute_reply": "2022-05-09T19:43:50.933290Z"
    },
    "jupyter": {
     "source_hidden": true
    },
    "papermill": {
     "duration": 0.026861,
     "end_time": "2022-05-09T19:43:50.936068",
     "exception": false,
     "start_time": "2022-05-09T19:43:50.909207",
     "status": "completed"
    },
    "tags": [
     "remove_input"
    ]
   },
   "outputs": [
    {
     "data": {
      "text/markdown": [
       "**Bus routes in service**: 2 <br>**Parallel routes** to State Highway Network (SHN): 2 routes (100.0%)<br>**Competitive routes** against car travel: 2 routes (100.0%)"
      ],
      "text/plain": [
       "<IPython.core.display.Markdown object>"
      ]
     },
     "metadata": {},
     "output_type": "display_data"
    }
   ],
   "source": [
    "display(\n",
    "    Markdown(\n",
    "        f\"**Bus routes in service**: {stats['num_routes']} \"\n",
    "        \"<br>**Parallel routes** to State Highway Network (SHN): \"\n",
    "        f\"{stats['parallel_routes']} routes ({pct_parallel}%)\"\n",
    "        f\"<br>**Competitive routes** against car travel: {stats['competitive_routes']} routes ({pct_competitive}%)\"\n",
    "    )\n",
    ")"
   ]
  },
  {
   "cell_type": "code",
   "execution_count": 9,
   "id": "f9d6ab58-f0ee-460c-b6de-657490e1f386",
   "metadata": {
    "execution": {
     "iopub.execute_input": "2022-05-09T19:43:50.966358Z",
     "iopub.status.busy": "2022-05-09T19:43:50.965556Z",
     "iopub.status.idle": "2022-05-09T19:43:50.976887Z",
     "shell.execute_reply": "2022-05-09T19:43:50.975976Z"
    },
    "jupyter": {
     "source_hidden": true
    },
    "papermill": {
     "duration": 0.030175,
     "end_time": "2022-05-09T19:43:50.979381",
     "exception": false,
     "start_time": "2022-05-09T19:43:50.949206",
     "status": "completed"
    },
    "tags": [
     "remove_input"
    ]
   },
   "outputs": [],
   "source": [
    "def set_yaxis_range(df, y_col):\n",
    "    Y_MIN = df[y_col].min()\n",
    "    Y_MAX = df[y_col].max()\n",
    "    \n",
    "    return Y_MIN, Y_MAX\n",
    "\n",
    "# Rather than set it according to the operator, which can vary,\n",
    "# just use set thresholds for each group\n",
    "diff_cutoffs = parallel_corridors_utils.diff_cutoffs\n",
    "\n",
    "PCT_TRIPS_BELOW_CUTOFF = 0.25\n",
    "\n",
    "def top15_routes(df, route_group):\n",
    "    df2 = (df[df.route_group==route_group])\n",
    "    # Set a cut-off to enable sorting, where most of the trips are \n",
    "    # below a certain time difference cut-off, \n",
    "    # grab top 15 routes where majority of trips are below that cut-off \n",
    "\n",
    "    route_cols = [\"calitp_itp_id\", \"route_id\"]\n",
    "\n",
    "    df2 = df2.assign(\n",
    "        below_cutoff = df2.apply(lambda x: 1 if x.bus_difference <= diff_cutoffs[route_group] \n",
    "                                 else 0, axis=1),\n",
    "        num_trips = df2.groupby(route_cols)[\"trip_id\"].transform(\"count\")\n",
    "    )\n",
    "\n",
    "    df2[\"below_cutoff\"] = df2.groupby(route_cols)[\"below_cutoff\"].transform(\"sum\")\n",
    "    df2[\"pct_below_cutoff\"] = df2.below_cutoff.divide(df2.num_trips)\n",
    "\n",
    "    # At least half the trips are below that cut-off\n",
    "    # but show 15 max, otherwise, show less, since these won't be as interesting to operators\n",
    "    df3 = (df2[df2.pct_below_cutoff >= PCT_TRIPS_BELOW_CUTOFF]\n",
    "           .sort_values([\"calitp_itp_id\", \"below_cutoff\", \n",
    "                         \"pct_below_cutoff\", \"route_id\"],\n",
    "                        ascending = [True, False, False, True]\n",
    "                       )\n",
    "           .drop_duplicates(subset=[\"calitp_itp_id\", \"route_id\"])\n",
    "          ).head(15)\n",
    "    \n",
    "    return list(df3.route_id)"
   ]
  },
  {
   "cell_type": "code",
   "execution_count": 10,
   "id": "cf36d559-3349-4144-8086-8ac9ce937a5a",
   "metadata": {
    "execution": {
     "iopub.execute_input": "2022-05-09T19:43:51.019453Z",
     "iopub.status.busy": "2022-05-09T19:43:51.018804Z",
     "iopub.status.idle": "2022-05-09T19:43:51.026079Z",
     "shell.execute_reply": "2022-05-09T19:43:51.025213Z"
    },
    "jupyter": {
     "source_hidden": true
    },
    "papermill": {
     "duration": 0.035202,
     "end_time": "2022-05-09T19:43:51.028676",
     "exception": false,
     "start_time": "2022-05-09T19:43:50.993474",
     "status": "completed"
    },
    "tags": [
     "remove_input"
    ]
   },
   "outputs": [],
   "source": [
    "def caption_with_cutoff(cutoff):\n",
    "    sentence = (\n",
    "        f\"<br>These are routes that have **at least {int(PCT_TRIPS_BELOW_CUTOFF*100)}% \"\n",
    "        \"of their trips take no more than an \"\n",
    "        f\"additional {cutoff} min** compared to a car \"\n",
    "        \"(up to 15 routes) are shown.\"\n",
    "        \"<br>Within each route group, routes are sorted in descending order \"\n",
    "        \"by % competitive trips and # trips below the additional time cut-off.\"\n",
    "    )\n",
    "    return sentence\n",
    "\n",
    "CAPTIONS_DICT = {\n",
    "    \"short\": caption_with_cutoff(diff_cutoffs['short']),\n",
    "    \"medium\": caption_with_cutoff(diff_cutoffs['medium']),\n",
    "    \"long\": caption_with_cutoff(diff_cutoffs['long']),\n",
    "}"
   ]
  },
  {
   "cell_type": "code",
   "execution_count": 11,
   "id": "e4306d58-6944-47e9-afef-5d5b524c751f",
   "metadata": {
    "execution": {
     "iopub.execute_input": "2022-05-09T19:43:51.062591Z",
     "iopub.status.busy": "2022-05-09T19:43:51.061840Z",
     "iopub.status.idle": "2022-05-09T19:43:51.069982Z",
     "shell.execute_reply": "2022-05-09T19:43:51.069188Z"
    },
    "jupyter": {
     "source_hidden": true
    },
    "papermill": {
     "duration": 0.028979,
     "end_time": "2022-05-09T19:43:51.072488",
     "exception": false,
     "start_time": "2022-05-09T19:43:51.043509",
     "status": "completed"
    },
    "tags": [
     "remove_input"
    ]
   },
   "outputs": [],
   "source": [
    "def setup_charts(df, PCT_COMPETITIVE_THRESHOLD, route_group):\n",
    "    # Set up df for charting (cut-off at some threshold to show most competitive routes)\n",
    "    plot_me = (df[df.pct_trips_competitive > PCT_COMPETITIVE_THRESHOLD]\n",
    "           .drop(columns = \"geometry\")\n",
    "    )\n",
    "    \n",
    "    y_col1 = \"bus_multiplier\"\n",
    "    Y_MIN1, Y_MAX1 = set_yaxis_range(plot_me, y_col1)\n",
    "\n",
    "    y_col2 = \"bus_difference\"\n",
    "    Y_MIN2, Y_MAX2 = set_yaxis_range(plot_me, y_col2)\n",
    "     \n",
    "    subset_routes = top15_routes(plot_me, route_group)\n",
    "    \n",
    "    multiplier_chart = parallel_corridors_utils.make_stripplot(\n",
    "        plot_me[plot_me.route_id.isin(subset_routes)], \n",
    "        y_col1, Y_MIN = Y_MIN1, Y_MAX = Y_MAX1\n",
    "    )\n",
    "    \n",
    "    difference_chart = parallel_corridors_utils.make_stripplot(\n",
    "        plot_me[plot_me.route_id.isin(subset_routes)], \n",
    "        y_col2, Y_MIN = Y_MIN2, Y_MAX = Y_MAX2\n",
    "    )\n",
    "    \n",
    "    return subset_routes, multiplier_chart, difference_chart            "
   ]
  },
  {
   "cell_type": "code",
   "execution_count": 12,
   "id": "33a710e8-504c-4942-aa75-ff69f216956e",
   "metadata": {
    "execution": {
     "iopub.execute_input": "2022-05-09T19:43:51.127467Z",
     "iopub.status.busy": "2022-05-09T19:43:51.126517Z",
     "iopub.status.idle": "2022-05-09T19:43:51.133604Z",
     "shell.execute_reply": "2022-05-09T19:43:51.132680Z"
    },
    "jupyter": {
     "source_hidden": true
    },
    "papermill": {
     "duration": 0.028168,
     "end_time": "2022-05-09T19:43:51.136583",
     "exception": false,
     "start_time": "2022-05-09T19:43:51.108415",
     "status": "completed"
    },
    "tags": [
     "remove_input"
    ]
   },
   "outputs": [],
   "source": [
    "def display_charts_for_route_group(df, route_group):    \n",
    "    subset_routes, mult, diff  = setup_charts(df, PCT_COMPETITIVE_THRESHOLD, route_group)\n",
    "\n",
    "    if len(subset_routes) > 0:\n",
    "        display(Markdown(f\"{CAPTIONS_DICT[route_group]}\"))\n",
    "\n",
    "        display(mult)\n",
    "        display(diff)"
   ]
  },
  {
   "cell_type": "markdown",
   "id": "525f9b38-072b-46d1-96a8-1aa4b038357c",
   "metadata": {
    "papermill": {
     "duration": 0.013437,
     "end_time": "2022-05-09T19:43:51.167124",
     "exception": false,
     "start_time": "2022-05-09T19:43:51.153687",
     "status": "completed"
    },
    "tags": []
   },
   "source": [
    "## Viable Competitive Routes\n",
    "### Short Routes (< 1 hr)"
   ]
  },
  {
   "cell_type": "code",
   "execution_count": 13,
   "id": "57f7084c-2cf7-45c6-ba08-1609e0bd6ca5",
   "metadata": {
    "execution": {
     "iopub.execute_input": "2022-05-09T19:43:51.196604Z",
     "iopub.status.busy": "2022-05-09T19:43:51.195958Z",
     "iopub.status.idle": "2022-05-09T19:43:51.441291Z",
     "shell.execute_reply": "2022-05-09T19:43:51.440434Z"
    },
    "jupyter": {
     "source_hidden": true
    },
    "papermill": {
     "duration": 0.263185,
     "end_time": "2022-05-09T19:43:51.443599",
     "exception": false,
     "start_time": "2022-05-09T19:43:51.180414",
     "status": "completed"
    },
    "tags": [
     "remove_input"
    ]
   },
   "outputs": [
    {
     "data": {
      "text/markdown": [
       "<br>These are routes that have **at least 25% of their trips take no more than an additional 20 min** compared to a car (up to 15 routes) are shown.<br>Within each route group, routes are sorted in descending order by % competitive trips and # trips below the additional time cut-off."
      ],
      "text/plain": [
       "<IPython.core.display.Markdown object>"
      ]
     },
     "metadata": {},
     "output_type": "display_data"
    },
    {
     "data": {
      "text/html": [
       "\n",
       "<div id=\"altair-viz-ec8412d36e874fd195a865cc4a2d8fad\"></div>\n",
       "<script type=\"text/javascript\">\n",
       "  var VEGA_DEBUG = (typeof VEGA_DEBUG == \"undefined\") ? {} : VEGA_DEBUG;\n",
       "  (function(spec, embedOpt){\n",
       "    let outputDiv = document.currentScript.previousElementSibling;\n",
       "    if (outputDiv.id !== \"altair-viz-ec8412d36e874fd195a865cc4a2d8fad\") {\n",
       "      outputDiv = document.getElementById(\"altair-viz-ec8412d36e874fd195a865cc4a2d8fad\");\n",
       "    }\n",
       "    const paths = {\n",
       "      \"vega\": \"https://cdn.jsdelivr.net/npm//vega@5?noext\",\n",
       "      \"vega-lib\": \"https://cdn.jsdelivr.net/npm//vega-lib?noext\",\n",
       "      \"vega-lite\": \"https://cdn.jsdelivr.net/npm//vega-lite@4.17.0?noext\",\n",
       "      \"vega-embed\": \"https://cdn.jsdelivr.net/npm//vega-embed@6?noext\",\n",
       "    };\n",
       "\n",
       "    function maybeLoadScript(lib, version) {\n",
       "      var key = `${lib.replace(\"-\", \"\")}_version`;\n",
       "      return (VEGA_DEBUG[key] == version) ?\n",
       "        Promise.resolve(paths[lib]) :\n",
       "        new Promise(function(resolve, reject) {\n",
       "          var s = document.createElement('script');\n",
       "          document.getElementsByTagName(\"head\")[0].appendChild(s);\n",
       "          s.async = true;\n",
       "          s.onload = () => {\n",
       "            VEGA_DEBUG[key] = version;\n",
       "            return resolve(paths[lib]);\n",
       "          };\n",
       "          s.onerror = () => reject(`Error loading script: ${paths[lib]}`);\n",
       "          s.src = paths[lib];\n",
       "        });\n",
       "    }\n",
       "\n",
       "    function showError(err) {\n",
       "      outputDiv.innerHTML = `<div class=\"error\" style=\"color:red;\">${err}</div>`;\n",
       "      throw err;\n",
       "    }\n",
       "\n",
       "    function displayChart(vegaEmbed) {\n",
       "      vegaEmbed(outputDiv, spec, embedOpt)\n",
       "        .catch(err => showError(`Javascript Error: ${err.message}<br>This usually means there's a typo in your chart specification. See the javascript console for the full traceback.`));\n",
       "    }\n",
       "\n",
       "    if(typeof define === \"function\" && define.amd) {\n",
       "      requirejs.config({paths});\n",
       "      require([\"vega-embed\"], displayChart, err => showError(`Error loading script: ${err.message}`));\n",
       "    } else {\n",
       "      maybeLoadScript(\"vega\", \"5\")\n",
       "        .then(() => maybeLoadScript(\"vega-lite\", \"4.17.0\"))\n",
       "        .then(() => maybeLoadScript(\"vega-embed\", \"6\"))\n",
       "        .catch(showError)\n",
       "        .then(() => displayChart(vegaEmbed));\n",
       "    }\n",
       "  })({\"config\": {\"view\": {\"continuousWidth\": 400, \"continuousHeight\": 300, \"stroke\": null}, \"facet\": {\"spacing\": 0}}, \"data\": {\"name\": \"data-ad1613f4577e83a01fef75caf703c2be\"}, \"facet\": {\"column\": {\"field\": \"route_id\", \"sort\": [\"673\"], \"title\": \"Route ID\", \"type\": \"nominal\"}}, \"spec\": {\"layer\": [{\"mark\": \"rule\", \"encoding\": {\"color\": {\"value\": \"black\"}, \"y\": {\"field\": \"cutoff\", \"type\": \"quantitative\"}}, \"selection\": {\"selector001\": {\"type\": \"interval\", \"bind\": \"scales\", \"encodings\": [\"x\", \"y\"]}}}, {\"mark\": {\"type\": \"point\", \"opacity\": 0.65, \"size\": 12, \"strokeWidth\": 1.1}, \"encoding\": {\"color\": {\"field\": \"time_of_day\", \"scale\": {\"range\": [\"#136C97\", \"#E16B26\", \"#F6BF16\", \"#00896B\", \"#7790A3\", \"#5B559C\"]}, \"sort\": [\"AM Peak\", \"Midday\", \"PM Peak\", \"Owl Service\"], \"title\": \"Time of Day\", \"type\": \"nominal\"}, \"tooltip\": [{\"field\": \"route_id\", \"type\": \"nominal\"}, {\"field\": \"trip_id\", \"type\": \"nominal\"}, {\"field\": \"service_hours\", \"type\": \"quantitative\"}, {\"field\": \"car_duration_hours\", \"type\": \"quantitative\"}, {\"field\": \"bus_multiplier\", \"type\": \"quantitative\"}, {\"field\": \"bus_difference\", \"type\": \"quantitative\"}, {\"field\": \"num_trips\", \"type\": \"quantitative\"}, {\"field\": \"num_competitive\", \"type\": \"quantitative\"}, {\"field\": \"pct_trips_competitive\", \"type\": \"quantitative\"}, {\"field\": \"p25\", \"type\": \"quantitative\"}, {\"field\": \"p50\", \"type\": \"quantitative\"}, {\"field\": \"p75\", \"type\": \"quantitative\"}], \"x\": {\"axis\": {\"grid\": false, \"labels\": false, \"ticks\": true, \"values\": [0]}, \"field\": \"jitter\", \"scale\": {}, \"title\": null, \"type\": \"quantitative\"}, \"y\": {\"field\": \"bus_multiplier\", \"scale\": {\"domain\": [-0.25, 2.5]}, \"title\": \"Ratio of Bus to Car Travel Time\", \"type\": \"quantitative\"}}, \"transform\": [{\"calculate\": \"sqrt(-2*log(random()))*cos(2*PI*random())\", \"as\": \"jitter\"}], \"width\": 50}, {\"layer\": [{\"mark\": {\"type\": \"point\", \"opacity\": 0.6, \"size\": 20, \"strokeWidth\": 1.3}, \"encoding\": {\"color\": {\"value\": \"#323434\"}, \"y\": {\"field\": \"bus_multiplier\", \"type\": \"quantitative\"}}, \"transform\": [{\"filter\": \"(datum.p50_trip === 1)\"}]}, {\"mark\": {\"type\": \"text\", \"align\": \"center\", \"baseline\": \"middle\"}, \"encoding\": {\"color\": {\"value\": \"black\"}, \"text\": {\"field\": \"pct_trips_competitive\", \"format\": \".0%\", \"type\": \"quantitative\"}, \"tooltip\": [{\"field\": \"route_id\", \"type\": \"nominal\"}, {\"field\": \"trip_id\", \"type\": \"nominal\"}, {\"field\": \"service_hours\", \"type\": \"quantitative\"}, {\"field\": \"car_duration_hours\", \"type\": \"quantitative\"}, {\"field\": \"bus_multiplier\", \"type\": \"quantitative\"}, {\"field\": \"bus_difference\", \"type\": \"quantitative\"}, {\"field\": \"num_trips\", \"type\": \"quantitative\"}, {\"field\": \"num_competitive\", \"type\": \"quantitative\"}, {\"field\": \"pct_trips_competitive\", \"type\": \"quantitative\"}, {\"field\": \"p25\", \"type\": \"quantitative\"}, {\"field\": \"p50\", \"type\": \"quantitative\"}, {\"field\": \"p75\", \"type\": \"quantitative\"}], \"x\": {\"value\": 30}, \"y\": {\"value\": 15}}, \"transform\": [{\"calculate\": \"sqrt(-2*log(random()))*cos(2*PI*random())\", \"as\": \"jitter\"}, {\"filter\": \"(datum.fastest_trip === 1)\"}]}]}]}, \"resolve\": {\"scale\": {\"y\": \"shared\"}}, \"title\": \"Ratio of Bus to Car Travel Time\", \"$schema\": \"https://vega.github.io/schema/vega-lite/v4.17.0.json\", \"datasets\": {\"data-ad1613f4577e83a01fef75caf703c2be\": [{\"calitp_itp_id\": 257, \"trip_key\": -1253761614247937160, \"trip_id\": \"PH0930\", \"shape_id\": \"13738\", \"route_id\": \"673\", \"service_hours\": 0.47, \"trip_first_departure_ts\": 34200, \"trip_last_arrival_ts\": 35880, \"departure_hour\": 9, \"time_of_day\": \"AM Peak\", \"p25\": 0.47, \"p50\": 0.47, \"p75\": 0.47, \"p50_trip\": 1, \"fastest_trip\": 0, \"car_duration_hours\": 0.46, \"competitive_route\": 1, \"bus_multiplier\": 1.02, \"bus_difference\": 0.6, \"num_trips\": 26, \"num_competitive\": 26, \"pct_trips_competitive\": 1.0, \"bus_difference_spread\": 0.0, \"route_group\": \"short\", \"max_trip_hrs\": 0.47, \"max_trip_route_group\": 0.98, \"name\": \"Presidio Trust\", \"caltrans_district\": \"04 - Oakland\", \"drmt_organization_name\": null, \"cutoff2\": 20, \"cutoff\": 2}, {\"calitp_itp_id\": 257, \"trip_key\": 7909294939593455274, \"trip_id\": \"PH1700\", \"shape_id\": \"13738\", \"route_id\": \"673\", \"service_hours\": 0.47, \"trip_first_departure_ts\": 61200, \"trip_last_arrival_ts\": 62880, \"departure_hour\": 17, \"time_of_day\": \"PM Peak\", \"p25\": 0.47, \"p50\": 0.47, \"p75\": 0.47, \"p50_trip\": 1, \"fastest_trip\": 0, \"car_duration_hours\": 0.46, \"competitive_route\": 1, \"bus_multiplier\": 1.02, \"bus_difference\": 0.6, \"num_trips\": 26, \"num_competitive\": 26, \"pct_trips_competitive\": 1.0, \"bus_difference_spread\": 0.0, \"route_group\": \"short\", \"max_trip_hrs\": 0.47, \"max_trip_route_group\": 0.98, \"name\": \"Presidio Trust\", \"caltrans_district\": \"04 - Oakland\", \"drmt_organization_name\": null, \"cutoff2\": 20, \"cutoff\": 2}, {\"calitp_itp_id\": 257, \"trip_key\": -1832471641174462920, \"trip_id\": \"PH1200\", \"shape_id\": \"13738\", \"route_id\": \"673\", \"service_hours\": 0.47, \"trip_first_departure_ts\": 43200, \"trip_last_arrival_ts\": 44880, \"departure_hour\": 12, \"time_of_day\": \"Midday\", \"p25\": 0.47, \"p50\": 0.47, \"p75\": 0.47, \"p50_trip\": 1, \"fastest_trip\": 0, \"car_duration_hours\": 0.46, \"competitive_route\": 1, \"bus_multiplier\": 1.02, \"bus_difference\": 0.6, \"num_trips\": 26, \"num_competitive\": 26, \"pct_trips_competitive\": 1.0, \"bus_difference_spread\": 0.0, \"route_group\": \"short\", \"max_trip_hrs\": 0.47, \"max_trip_route_group\": 0.98, \"name\": \"Presidio Trust\", \"caltrans_district\": \"04 - Oakland\", \"drmt_organization_name\": null, \"cutoff2\": 20, \"cutoff\": 2}, {\"calitp_itp_id\": 257, \"trip_key\": -8524228958124365775, \"trip_id\": \"PH1800\", \"shape_id\": \"13738\", \"route_id\": \"673\", \"service_hours\": 0.47, \"trip_first_departure_ts\": 64800, \"trip_last_arrival_ts\": 66480, \"departure_hour\": 18, \"time_of_day\": \"PM Peak\", \"p25\": 0.47, \"p50\": 0.47, \"p75\": 0.47, \"p50_trip\": 1, \"fastest_trip\": 0, \"car_duration_hours\": 0.46, \"competitive_route\": 1, \"bus_multiplier\": 1.02, \"bus_difference\": 0.6, \"num_trips\": 26, \"num_competitive\": 26, \"pct_trips_competitive\": 1.0, \"bus_difference_spread\": 0.0, \"route_group\": \"short\", \"max_trip_hrs\": 0.47, \"max_trip_route_group\": 0.98, \"name\": \"Presidio Trust\", \"caltrans_district\": \"04 - Oakland\", \"drmt_organization_name\": null, \"cutoff2\": 20, \"cutoff\": 2}, {\"calitp_itp_id\": 257, \"trip_key\": -6331200952277953246, \"trip_id\": \"PH0730\", \"shape_id\": \"13738\", \"route_id\": \"673\", \"service_hours\": 0.47, \"trip_first_departure_ts\": 27000, \"trip_last_arrival_ts\": 28680, \"departure_hour\": 7, \"time_of_day\": \"AM Peak\", \"p25\": 0.47, \"p50\": 0.47, \"p75\": 0.47, \"p50_trip\": 1, \"fastest_trip\": 0, \"car_duration_hours\": 0.46, \"competitive_route\": 1, \"bus_multiplier\": 1.02, \"bus_difference\": 0.6, \"num_trips\": 26, \"num_competitive\": 26, \"pct_trips_competitive\": 1.0, \"bus_difference_spread\": 0.0, \"route_group\": \"short\", \"max_trip_hrs\": 0.47, \"max_trip_route_group\": 0.98, \"name\": \"Presidio Trust\", \"caltrans_district\": \"04 - Oakland\", \"drmt_organization_name\": null, \"cutoff2\": 20, \"cutoff\": 2}, {\"calitp_itp_id\": 257, \"trip_key\": 5368451053873020367, \"trip_id\": \"PH0830\", \"shape_id\": \"13738\", \"route_id\": \"673\", \"service_hours\": 0.47, \"trip_first_departure_ts\": 30600, \"trip_last_arrival_ts\": 32280, \"departure_hour\": 8, \"time_of_day\": \"AM Peak\", \"p25\": 0.47, \"p50\": 0.47, \"p75\": 0.47, \"p50_trip\": 1, \"fastest_trip\": 0, \"car_duration_hours\": 0.46, \"competitive_route\": 1, \"bus_multiplier\": 1.02, \"bus_difference\": 0.6, \"num_trips\": 26, \"num_competitive\": 26, \"pct_trips_competitive\": 1.0, \"bus_difference_spread\": 0.0, \"route_group\": \"short\", \"max_trip_hrs\": 0.47, \"max_trip_route_group\": 0.98, \"name\": \"Presidio Trust\", \"caltrans_district\": \"04 - Oakland\", \"drmt_organization_name\": null, \"cutoff2\": 20, \"cutoff\": 2}, {\"calitp_itp_id\": 257, \"trip_key\": -1925135980962723023, \"trip_id\": \"PH0900\", \"shape_id\": \"13738\", \"route_id\": \"673\", \"service_hours\": 0.47, \"trip_first_departure_ts\": 32400, \"trip_last_arrival_ts\": 34080, \"departure_hour\": 9, \"time_of_day\": \"AM Peak\", \"p25\": 0.47, \"p50\": 0.47, \"p75\": 0.47, \"p50_trip\": 1, \"fastest_trip\": 0, \"car_duration_hours\": 0.46, \"competitive_route\": 1, \"bus_multiplier\": 1.02, \"bus_difference\": 0.6, \"num_trips\": 26, \"num_competitive\": 26, \"pct_trips_competitive\": 1.0, \"bus_difference_spread\": 0.0, \"route_group\": \"short\", \"max_trip_hrs\": 0.47, \"max_trip_route_group\": 0.98, \"name\": \"Presidio Trust\", \"caltrans_district\": \"04 - Oakland\", \"drmt_organization_name\": null, \"cutoff2\": 20, \"cutoff\": 2}, {\"calitp_itp_id\": 257, \"trip_key\": -6347842040500827294, \"trip_id\": \"PH1100\", \"shape_id\": \"13738\", \"route_id\": \"673\", \"service_hours\": 0.47, \"trip_first_departure_ts\": 39600, \"trip_last_arrival_ts\": 41280, \"departure_hour\": 11, \"time_of_day\": \"Midday\", \"p25\": 0.47, \"p50\": 0.47, \"p75\": 0.47, \"p50_trip\": 1, \"fastest_trip\": 0, \"car_duration_hours\": 0.46, \"competitive_route\": 1, \"bus_multiplier\": 1.02, \"bus_difference\": 0.6, \"num_trips\": 26, \"num_competitive\": 26, \"pct_trips_competitive\": 1.0, \"bus_difference_spread\": 0.0, \"route_group\": \"short\", \"max_trip_hrs\": 0.47, \"max_trip_route_group\": 0.98, \"name\": \"Presidio Trust\", \"caltrans_district\": \"04 - Oakland\", \"drmt_organization_name\": null, \"cutoff2\": 20, \"cutoff\": 2}, {\"calitp_itp_id\": 257, \"trip_key\": 7463112401081242534, \"trip_id\": \"PH1530\", \"shape_id\": \"13738\", \"route_id\": \"673\", \"service_hours\": 0.47, \"trip_first_departure_ts\": 55800, \"trip_last_arrival_ts\": 57480, \"departure_hour\": 15, \"time_of_day\": \"Midday\", \"p25\": 0.47, \"p50\": 0.47, \"p75\": 0.47, \"p50_trip\": 1, \"fastest_trip\": 0, \"car_duration_hours\": 0.46, \"competitive_route\": 1, \"bus_multiplier\": 1.02, \"bus_difference\": 0.6, \"num_trips\": 26, \"num_competitive\": 26, \"pct_trips_competitive\": 1.0, \"bus_difference_spread\": 0.0, \"route_group\": \"short\", \"max_trip_hrs\": 0.47, \"max_trip_route_group\": 0.98, \"name\": \"Presidio Trust\", \"caltrans_district\": \"04 - Oakland\", \"drmt_organization_name\": null, \"cutoff2\": 20, \"cutoff\": 2}, {\"calitp_itp_id\": 257, \"trip_key\": 9008060474141603509, \"trip_id\": \"PH0700\", \"shape_id\": \"13738\", \"route_id\": \"673\", \"service_hours\": 0.47, \"trip_first_departure_ts\": 25200, \"trip_last_arrival_ts\": 26880, \"departure_hour\": 7, \"time_of_day\": \"AM Peak\", \"p25\": 0.47, \"p50\": 0.47, \"p75\": 0.47, \"p50_trip\": 1, \"fastest_trip\": 0, \"car_duration_hours\": 0.46, \"competitive_route\": 1, \"bus_multiplier\": 1.02, \"bus_difference\": 0.6, \"num_trips\": 26, \"num_competitive\": 26, \"pct_trips_competitive\": 1.0, \"bus_difference_spread\": 0.0, \"route_group\": \"short\", \"max_trip_hrs\": 0.47, \"max_trip_route_group\": 0.98, \"name\": \"Presidio Trust\", \"caltrans_district\": \"04 - Oakland\", \"drmt_organization_name\": null, \"cutoff2\": 20, \"cutoff\": 2}, {\"calitp_itp_id\": 257, \"trip_key\": -531332991592928557, \"trip_id\": \"PH1900\", \"shape_id\": \"13738\", \"route_id\": \"673\", \"service_hours\": 0.47, \"trip_first_departure_ts\": 68400, \"trip_last_arrival_ts\": 70080, \"departure_hour\": 19, \"time_of_day\": \"PM Peak\", \"p25\": 0.47, \"p50\": 0.47, \"p75\": 0.47, \"p50_trip\": 1, \"fastest_trip\": 1, \"car_duration_hours\": 0.46, \"competitive_route\": 1, \"bus_multiplier\": 1.02, \"bus_difference\": 0.6, \"num_trips\": 26, \"num_competitive\": 26, \"pct_trips_competitive\": 1.0, \"bus_difference_spread\": 0.0, \"route_group\": \"short\", \"max_trip_hrs\": 0.47, \"max_trip_route_group\": 0.98, \"name\": \"Presidio Trust\", \"caltrans_district\": \"04 - Oakland\", \"drmt_organization_name\": null, \"cutoff2\": 20, \"cutoff\": 2}, {\"calitp_itp_id\": 257, \"trip_key\": -5141975382696274681, \"trip_id\": \"PH1230\", \"shape_id\": \"13738\", \"route_id\": \"673\", \"service_hours\": 0.47, \"trip_first_departure_ts\": 45000, \"trip_last_arrival_ts\": 46680, \"departure_hour\": 12, \"time_of_day\": \"Midday\", \"p25\": 0.47, \"p50\": 0.47, \"p75\": 0.47, \"p50_trip\": 1, \"fastest_trip\": 0, \"car_duration_hours\": 0.46, \"competitive_route\": 1, \"bus_multiplier\": 1.02, \"bus_difference\": 0.6, \"num_trips\": 26, \"num_competitive\": 26, \"pct_trips_competitive\": 1.0, \"bus_difference_spread\": 0.0, \"route_group\": \"short\", \"max_trip_hrs\": 0.47, \"max_trip_route_group\": 0.98, \"name\": \"Presidio Trust\", \"caltrans_district\": \"04 - Oakland\", \"drmt_organization_name\": null, \"cutoff2\": 20, \"cutoff\": 2}, {\"calitp_itp_id\": 257, \"trip_key\": 1045331296300338463, \"trip_id\": \"PH1500\", \"shape_id\": \"13738\", \"route_id\": \"673\", \"service_hours\": 0.47, \"trip_first_departure_ts\": 54000, \"trip_last_arrival_ts\": 55680, \"departure_hour\": 15, \"time_of_day\": \"Midday\", \"p25\": 0.47, \"p50\": 0.47, \"p75\": 0.47, \"p50_trip\": 1, \"fastest_trip\": 0, \"car_duration_hours\": 0.46, \"competitive_route\": 1, \"bus_multiplier\": 1.02, \"bus_difference\": 0.6, \"num_trips\": 26, \"num_competitive\": 26, \"pct_trips_competitive\": 1.0, \"bus_difference_spread\": 0.0, \"route_group\": \"short\", \"max_trip_hrs\": 0.47, \"max_trip_route_group\": 0.98, \"name\": \"Presidio Trust\", \"caltrans_district\": \"04 - Oakland\", \"drmt_organization_name\": null, \"cutoff2\": 20, \"cutoff\": 2}, {\"calitp_itp_id\": 257, \"trip_key\": -8838989846236699595, \"trip_id\": \"PH1430\", \"shape_id\": \"13738\", \"route_id\": \"673\", \"service_hours\": 0.47, \"trip_first_departure_ts\": 52200, \"trip_last_arrival_ts\": 53880, \"departure_hour\": 14, \"time_of_day\": \"Midday\", \"p25\": 0.47, \"p50\": 0.47, \"p75\": 0.47, \"p50_trip\": 1, \"fastest_trip\": 0, \"car_duration_hours\": 0.46, \"competitive_route\": 1, \"bus_multiplier\": 1.02, \"bus_difference\": 0.6, \"num_trips\": 26, \"num_competitive\": 26, \"pct_trips_competitive\": 1.0, \"bus_difference_spread\": 0.0, \"route_group\": \"short\", \"max_trip_hrs\": 0.47, \"max_trip_route_group\": 0.98, \"name\": \"Presidio Trust\", \"caltrans_district\": \"04 - Oakland\", \"drmt_organization_name\": null, \"cutoff2\": 20, \"cutoff\": 2}, {\"calitp_itp_id\": 257, \"trip_key\": 1198745740014783038, \"trip_id\": \"PH1030\", \"shape_id\": \"13738\", \"route_id\": \"673\", \"service_hours\": 0.47, \"trip_first_departure_ts\": 37800, \"trip_last_arrival_ts\": 39480, \"departure_hour\": 10, \"time_of_day\": \"Midday\", \"p25\": 0.47, \"p50\": 0.47, \"p75\": 0.47, \"p50_trip\": 1, \"fastest_trip\": 0, \"car_duration_hours\": 0.46, \"competitive_route\": 1, \"bus_multiplier\": 1.02, \"bus_difference\": 0.6, \"num_trips\": 26, \"num_competitive\": 26, \"pct_trips_competitive\": 1.0, \"bus_difference_spread\": 0.0, \"route_group\": \"short\", \"max_trip_hrs\": 0.47, \"max_trip_route_group\": 0.98, \"name\": \"Presidio Trust\", \"caltrans_district\": \"04 - Oakland\", \"drmt_organization_name\": null, \"cutoff2\": 20, \"cutoff\": 2}, {\"calitp_itp_id\": 257, \"trip_key\": 2823510837932261319, \"trip_id\": \"PH1830\", \"shape_id\": \"13738\", \"route_id\": \"673\", \"service_hours\": 0.47, \"trip_first_departure_ts\": 66600, \"trip_last_arrival_ts\": 68280, \"departure_hour\": 18, \"time_of_day\": \"PM Peak\", \"p25\": 0.47, \"p50\": 0.47, \"p75\": 0.47, \"p50_trip\": 1, \"fastest_trip\": 0, \"car_duration_hours\": 0.46, \"competitive_route\": 1, \"bus_multiplier\": 1.02, \"bus_difference\": 0.6, \"num_trips\": 26, \"num_competitive\": 26, \"pct_trips_competitive\": 1.0, \"bus_difference_spread\": 0.0, \"route_group\": \"short\", \"max_trip_hrs\": 0.47, \"max_trip_route_group\": 0.98, \"name\": \"Presidio Trust\", \"caltrans_district\": \"04 - Oakland\", \"drmt_organization_name\": null, \"cutoff2\": 20, \"cutoff\": 2}, {\"calitp_itp_id\": 257, \"trip_key\": 6415975633714303872, \"trip_id\": \"PH0800\", \"shape_id\": \"13738\", \"route_id\": \"673\", \"service_hours\": 0.47, \"trip_first_departure_ts\": 28800, \"trip_last_arrival_ts\": 30480, \"departure_hour\": 8, \"time_of_day\": \"AM Peak\", \"p25\": 0.47, \"p50\": 0.47, \"p75\": 0.47, \"p50_trip\": 1, \"fastest_trip\": 0, \"car_duration_hours\": 0.46, \"competitive_route\": 1, \"bus_multiplier\": 1.02, \"bus_difference\": 0.6, \"num_trips\": 26, \"num_competitive\": 26, \"pct_trips_competitive\": 1.0, \"bus_difference_spread\": 0.0, \"route_group\": \"short\", \"max_trip_hrs\": 0.47, \"max_trip_route_group\": 0.98, \"name\": \"Presidio Trust\", \"caltrans_district\": \"04 - Oakland\", \"drmt_organization_name\": null, \"cutoff2\": 20, \"cutoff\": 2}, {\"calitp_itp_id\": 257, \"trip_key\": 4402063661585196770, \"trip_id\": \"PH0630\", \"shape_id\": \"13738\", \"route_id\": \"673\", \"service_hours\": 0.47, \"trip_first_departure_ts\": 23400, \"trip_last_arrival_ts\": 25080, \"departure_hour\": 6, \"time_of_day\": \"Owl Service\", \"p25\": 0.47, \"p50\": 0.47, \"p75\": 0.47, \"p50_trip\": 1, \"fastest_trip\": 0, \"car_duration_hours\": 0.46, \"competitive_route\": 1, \"bus_multiplier\": 1.02, \"bus_difference\": 0.6, \"num_trips\": 26, \"num_competitive\": 26, \"pct_trips_competitive\": 1.0, \"bus_difference_spread\": 0.0, \"route_group\": \"short\", \"max_trip_hrs\": 0.47, \"max_trip_route_group\": 0.98, \"name\": \"Presidio Trust\", \"caltrans_district\": \"04 - Oakland\", \"drmt_organization_name\": null, \"cutoff2\": 20, \"cutoff\": 2}, {\"calitp_itp_id\": 257, \"trip_key\": 2198979731863317696, \"trip_id\": \"PH1300\", \"shape_id\": \"13738\", \"route_id\": \"673\", \"service_hours\": 0.47, \"trip_first_departure_ts\": 46800, \"trip_last_arrival_ts\": 48480, \"departure_hour\": 13, \"time_of_day\": \"Midday\", \"p25\": 0.47, \"p50\": 0.47, \"p75\": 0.47, \"p50_trip\": 1, \"fastest_trip\": 0, \"car_duration_hours\": 0.46, \"competitive_route\": 1, \"bus_multiplier\": 1.02, \"bus_difference\": 0.6, \"num_trips\": 26, \"num_competitive\": 26, \"pct_trips_competitive\": 1.0, \"bus_difference_spread\": 0.0, \"route_group\": \"short\", \"max_trip_hrs\": 0.47, \"max_trip_route_group\": 0.98, \"name\": \"Presidio Trust\", \"caltrans_district\": \"04 - Oakland\", \"drmt_organization_name\": null, \"cutoff2\": 20, \"cutoff\": 2}, {\"calitp_itp_id\": 257, \"trip_key\": 4465129888350886095, \"trip_id\": \"PH1000\", \"shape_id\": \"13738\", \"route_id\": \"673\", \"service_hours\": 0.47, \"trip_first_departure_ts\": 36000, \"trip_last_arrival_ts\": 37680, \"departure_hour\": 10, \"time_of_day\": \"Midday\", \"p25\": 0.47, \"p50\": 0.47, \"p75\": 0.47, \"p50_trip\": 1, \"fastest_trip\": 0, \"car_duration_hours\": 0.46, \"competitive_route\": 1, \"bus_multiplier\": 1.02, \"bus_difference\": 0.6, \"num_trips\": 26, \"num_competitive\": 26, \"pct_trips_competitive\": 1.0, \"bus_difference_spread\": 0.0, \"route_group\": \"short\", \"max_trip_hrs\": 0.47, \"max_trip_route_group\": 0.98, \"name\": \"Presidio Trust\", \"caltrans_district\": \"04 - Oakland\", \"drmt_organization_name\": null, \"cutoff2\": 20, \"cutoff\": 2}, {\"calitp_itp_id\": 257, \"trip_key\": -706500784622618480, \"trip_id\": \"PH1330\", \"shape_id\": \"13738\", \"route_id\": \"673\", \"service_hours\": 0.47, \"trip_first_departure_ts\": 48600, \"trip_last_arrival_ts\": 50280, \"departure_hour\": 13, \"time_of_day\": \"Midday\", \"p25\": 0.47, \"p50\": 0.47, \"p75\": 0.47, \"p50_trip\": 1, \"fastest_trip\": 0, \"car_duration_hours\": 0.46, \"competitive_route\": 1, \"bus_multiplier\": 1.02, \"bus_difference\": 0.6, \"num_trips\": 26, \"num_competitive\": 26, \"pct_trips_competitive\": 1.0, \"bus_difference_spread\": 0.0, \"route_group\": \"short\", \"max_trip_hrs\": 0.47, \"max_trip_route_group\": 0.98, \"name\": \"Presidio Trust\", \"caltrans_district\": \"04 - Oakland\", \"drmt_organization_name\": null, \"cutoff2\": 20, \"cutoff\": 2}, {\"calitp_itp_id\": 257, \"trip_key\": -5458182453157656639, \"trip_id\": \"PH1630\", \"shape_id\": \"13738\", \"route_id\": \"673\", \"service_hours\": 0.47, \"trip_first_departure_ts\": 59400, \"trip_last_arrival_ts\": 61080, \"departure_hour\": 16, \"time_of_day\": \"Midday\", \"p25\": 0.47, \"p50\": 0.47, \"p75\": 0.47, \"p50_trip\": 1, \"fastest_trip\": 0, \"car_duration_hours\": 0.46, \"competitive_route\": 1, \"bus_multiplier\": 1.02, \"bus_difference\": 0.6, \"num_trips\": 26, \"num_competitive\": 26, \"pct_trips_competitive\": 1.0, \"bus_difference_spread\": 0.0, \"route_group\": \"short\", \"max_trip_hrs\": 0.47, \"max_trip_route_group\": 0.98, \"name\": \"Presidio Trust\", \"caltrans_district\": \"04 - Oakland\", \"drmt_organization_name\": null, \"cutoff2\": 20, \"cutoff\": 2}, {\"calitp_itp_id\": 257, \"trip_key\": 1455696947016859298, \"trip_id\": \"PH1130\", \"shape_id\": \"13738\", \"route_id\": \"673\", \"service_hours\": 0.47, \"trip_first_departure_ts\": 41400, \"trip_last_arrival_ts\": 43080, \"departure_hour\": 11, \"time_of_day\": \"Midday\", \"p25\": 0.47, \"p50\": 0.47, \"p75\": 0.47, \"p50_trip\": 1, \"fastest_trip\": 0, \"car_duration_hours\": 0.46, \"competitive_route\": 1, \"bus_multiplier\": 1.02, \"bus_difference\": 0.6, \"num_trips\": 26, \"num_competitive\": 26, \"pct_trips_competitive\": 1.0, \"bus_difference_spread\": 0.0, \"route_group\": \"short\", \"max_trip_hrs\": 0.47, \"max_trip_route_group\": 0.98, \"name\": \"Presidio Trust\", \"caltrans_district\": \"04 - Oakland\", \"drmt_organization_name\": null, \"cutoff2\": 20, \"cutoff\": 2}, {\"calitp_itp_id\": 257, \"trip_key\": 4429099215239842536, \"trip_id\": \"PH1600\", \"shape_id\": \"13738\", \"route_id\": \"673\", \"service_hours\": 0.47, \"trip_first_departure_ts\": 57600, \"trip_last_arrival_ts\": 59280, \"departure_hour\": 16, \"time_of_day\": \"Midday\", \"p25\": 0.47, \"p50\": 0.47, \"p75\": 0.47, \"p50_trip\": 1, \"fastest_trip\": 0, \"car_duration_hours\": 0.46, \"competitive_route\": 1, \"bus_multiplier\": 1.02, \"bus_difference\": 0.6, \"num_trips\": 26, \"num_competitive\": 26, \"pct_trips_competitive\": 1.0, \"bus_difference_spread\": 0.0, \"route_group\": \"short\", \"max_trip_hrs\": 0.47, \"max_trip_route_group\": 0.98, \"name\": \"Presidio Trust\", \"caltrans_district\": \"04 - Oakland\", \"drmt_organization_name\": null, \"cutoff2\": 20, \"cutoff\": 2}, {\"calitp_itp_id\": 257, \"trip_key\": -4642411237546855353, \"trip_id\": \"PH1730\", \"shape_id\": \"13738\", \"route_id\": \"673\", \"service_hours\": 0.47, \"trip_first_departure_ts\": 63000, \"trip_last_arrival_ts\": 64680, \"departure_hour\": 17, \"time_of_day\": \"PM Peak\", \"p25\": 0.47, \"p50\": 0.47, \"p75\": 0.47, \"p50_trip\": 1, \"fastest_trip\": 0, \"car_duration_hours\": 0.46, \"competitive_route\": 1, \"bus_multiplier\": 1.02, \"bus_difference\": 0.6, \"num_trips\": 26, \"num_competitive\": 26, \"pct_trips_competitive\": 1.0, \"bus_difference_spread\": 0.0, \"route_group\": \"short\", \"max_trip_hrs\": 0.47, \"max_trip_route_group\": 0.98, \"name\": \"Presidio Trust\", \"caltrans_district\": \"04 - Oakland\", \"drmt_organization_name\": null, \"cutoff2\": 20, \"cutoff\": 2}, {\"calitp_itp_id\": 257, \"trip_key\": -6788171246304073674, \"trip_id\": \"PH1400\", \"shape_id\": \"13738\", \"route_id\": \"673\", \"service_hours\": 0.47, \"trip_first_departure_ts\": 50400, \"trip_last_arrival_ts\": 52080, \"departure_hour\": 14, \"time_of_day\": \"Midday\", \"p25\": 0.47, \"p50\": 0.47, \"p75\": 0.47, \"p50_trip\": 1, \"fastest_trip\": 0, \"car_duration_hours\": 0.46, \"competitive_route\": 1, \"bus_multiplier\": 1.02, \"bus_difference\": 0.6, \"num_trips\": 26, \"num_competitive\": 26, \"pct_trips_competitive\": 1.0, \"bus_difference_spread\": 0.0, \"route_group\": \"short\", \"max_trip_hrs\": 0.47, \"max_trip_route_group\": 0.98, \"name\": \"Presidio Trust\", \"caltrans_district\": \"04 - Oakland\", \"drmt_organization_name\": null, \"cutoff2\": 20, \"cutoff\": 2}]}}, {\"mode\": \"vega-lite\"});\n",
       "</script>"
      ],
      "text/plain": [
       "alt.FacetChart(...)"
      ]
     },
     "metadata": {},
     "output_type": "display_data"
    },
    {
     "data": {
      "text/html": [
       "\n",
       "<div id=\"altair-viz-0e40ef766f4b41948ea80a55c7e8a864\"></div>\n",
       "<script type=\"text/javascript\">\n",
       "  var VEGA_DEBUG = (typeof VEGA_DEBUG == \"undefined\") ? {} : VEGA_DEBUG;\n",
       "  (function(spec, embedOpt){\n",
       "    let outputDiv = document.currentScript.previousElementSibling;\n",
       "    if (outputDiv.id !== \"altair-viz-0e40ef766f4b41948ea80a55c7e8a864\") {\n",
       "      outputDiv = document.getElementById(\"altair-viz-0e40ef766f4b41948ea80a55c7e8a864\");\n",
       "    }\n",
       "    const paths = {\n",
       "      \"vega\": \"https://cdn.jsdelivr.net/npm//vega@5?noext\",\n",
       "      \"vega-lib\": \"https://cdn.jsdelivr.net/npm//vega-lib?noext\",\n",
       "      \"vega-lite\": \"https://cdn.jsdelivr.net/npm//vega-lite@4.17.0?noext\",\n",
       "      \"vega-embed\": \"https://cdn.jsdelivr.net/npm//vega-embed@6?noext\",\n",
       "    };\n",
       "\n",
       "    function maybeLoadScript(lib, version) {\n",
       "      var key = `${lib.replace(\"-\", \"\")}_version`;\n",
       "      return (VEGA_DEBUG[key] == version) ?\n",
       "        Promise.resolve(paths[lib]) :\n",
       "        new Promise(function(resolve, reject) {\n",
       "          var s = document.createElement('script');\n",
       "          document.getElementsByTagName(\"head\")[0].appendChild(s);\n",
       "          s.async = true;\n",
       "          s.onload = () => {\n",
       "            VEGA_DEBUG[key] = version;\n",
       "            return resolve(paths[lib]);\n",
       "          };\n",
       "          s.onerror = () => reject(`Error loading script: ${paths[lib]}`);\n",
       "          s.src = paths[lib];\n",
       "        });\n",
       "    }\n",
       "\n",
       "    function showError(err) {\n",
       "      outputDiv.innerHTML = `<div class=\"error\" style=\"color:red;\">${err}</div>`;\n",
       "      throw err;\n",
       "    }\n",
       "\n",
       "    function displayChart(vegaEmbed) {\n",
       "      vegaEmbed(outputDiv, spec, embedOpt)\n",
       "        .catch(err => showError(`Javascript Error: ${err.message}<br>This usually means there's a typo in your chart specification. See the javascript console for the full traceback.`));\n",
       "    }\n",
       "\n",
       "    if(typeof define === \"function\" && define.amd) {\n",
       "      requirejs.config({paths});\n",
       "      require([\"vega-embed\"], displayChart, err => showError(`Error loading script: ${err.message}`));\n",
       "    } else {\n",
       "      maybeLoadScript(\"vega\", \"5\")\n",
       "        .then(() => maybeLoadScript(\"vega-lite\", \"4.17.0\"))\n",
       "        .then(() => maybeLoadScript(\"vega-embed\", \"6\"))\n",
       "        .catch(showError)\n",
       "        .then(() => displayChart(vegaEmbed));\n",
       "    }\n",
       "  })({\"config\": {\"view\": {\"continuousWidth\": 400, \"continuousHeight\": 300, \"stroke\": null}, \"facet\": {\"spacing\": 0}}, \"data\": {\"name\": \"data-b52823651288bee89e9d0f5997776490\"}, \"facet\": {\"column\": {\"field\": \"route_id\", \"sort\": [\"673\"], \"title\": \"Route ID\", \"type\": \"nominal\"}}, \"spec\": {\"layer\": [{\"mark\": \"rule\", \"encoding\": {\"color\": {\"value\": \"black\"}, \"y\": {\"field\": \"cutoff\", \"type\": \"quantitative\"}}, \"selection\": {\"selector002\": {\"type\": \"interval\", \"bind\": \"scales\", \"encodings\": [\"x\", \"y\"]}}}, {\"mark\": {\"type\": \"rule\", \"strokeDash\": [3, 3]}, \"encoding\": {\"color\": {\"value\": \"#323434\"}, \"y\": {\"field\": \"cutoff2\", \"type\": \"quantitative\"}}}, {\"mark\": {\"type\": \"point\", \"opacity\": 0.65, \"size\": 12, \"strokeWidth\": 1.1}, \"encoding\": {\"color\": {\"field\": \"time_of_day\", \"scale\": {\"range\": [\"#136C97\", \"#E16B26\", \"#F6BF16\", \"#00896B\", \"#7790A3\", \"#5B559C\"]}, \"sort\": [\"AM Peak\", \"Midday\", \"PM Peak\", \"Owl Service\"], \"title\": \"Time of Day\", \"type\": \"nominal\"}, \"tooltip\": [{\"field\": \"route_id\", \"type\": \"nominal\"}, {\"field\": \"trip_id\", \"type\": \"nominal\"}, {\"field\": \"service_hours\", \"type\": \"quantitative\"}, {\"field\": \"car_duration_hours\", \"type\": \"quantitative\"}, {\"field\": \"bus_multiplier\", \"type\": \"quantitative\"}, {\"field\": \"bus_difference\", \"type\": \"quantitative\"}, {\"field\": \"num_trips\", \"type\": \"quantitative\"}, {\"field\": \"num_competitive\", \"type\": \"quantitative\"}, {\"field\": \"pct_trips_competitive\", \"type\": \"quantitative\"}, {\"field\": \"p25\", \"type\": \"quantitative\"}, {\"field\": \"p50\", \"type\": \"quantitative\"}, {\"field\": \"p75\", \"type\": \"quantitative\"}], \"x\": {\"axis\": {\"grid\": false, \"labels\": false, \"ticks\": true, \"values\": [0]}, \"field\": \"jitter\", \"scale\": {}, \"title\": null, \"type\": \"quantitative\"}, \"y\": {\"field\": \"bus_difference\", \"scale\": {\"domain\": [-5, 25.2]}, \"title\": \"Difference in Bus to Car Travel Time (min)\", \"type\": \"quantitative\"}}, \"transform\": [{\"calculate\": \"sqrt(-2*log(random()))*cos(2*PI*random())\", \"as\": \"jitter\"}], \"width\": 50}, {\"layer\": [{\"mark\": {\"type\": \"point\", \"opacity\": 0.6, \"size\": 20, \"strokeWidth\": 1.3}, \"encoding\": {\"color\": {\"value\": \"#323434\"}, \"y\": {\"field\": \"bus_difference\", \"type\": \"quantitative\"}}, \"transform\": [{\"filter\": \"(datum.p50_trip === 1)\"}]}, {\"mark\": {\"type\": \"text\", \"align\": \"center\", \"baseline\": \"middle\"}, \"encoding\": {\"color\": {\"value\": \"black\"}, \"text\": {\"field\": \"pct_trips_competitive\", \"format\": \".0%\", \"type\": \"quantitative\"}, \"tooltip\": [{\"field\": \"route_id\", \"type\": \"nominal\"}, {\"field\": \"trip_id\", \"type\": \"nominal\"}, {\"field\": \"service_hours\", \"type\": \"quantitative\"}, {\"field\": \"car_duration_hours\", \"type\": \"quantitative\"}, {\"field\": \"bus_multiplier\", \"type\": \"quantitative\"}, {\"field\": \"bus_difference\", \"type\": \"quantitative\"}, {\"field\": \"num_trips\", \"type\": \"quantitative\"}, {\"field\": \"num_competitive\", \"type\": \"quantitative\"}, {\"field\": \"pct_trips_competitive\", \"type\": \"quantitative\"}, {\"field\": \"p25\", \"type\": \"quantitative\"}, {\"field\": \"p50\", \"type\": \"quantitative\"}, {\"field\": \"p75\", \"type\": \"quantitative\"}], \"x\": {\"value\": 30}, \"y\": {\"value\": 15}}, \"transform\": [{\"calculate\": \"sqrt(-2*log(random()))*cos(2*PI*random())\", \"as\": \"jitter\"}, {\"filter\": \"(datum.fastest_trip === 1)\"}]}]}]}, \"resolve\": {\"scale\": {\"y\": \"shared\"}}, \"title\": \"Difference in Bus to Car Travel Time (min)\", \"$schema\": \"https://vega.github.io/schema/vega-lite/v4.17.0.json\", \"datasets\": {\"data-b52823651288bee89e9d0f5997776490\": [{\"calitp_itp_id\": 257, \"trip_key\": -1253761614247937160, \"trip_id\": \"PH0930\", \"shape_id\": \"13738\", \"route_id\": \"673\", \"service_hours\": 0.47, \"trip_first_departure_ts\": 34200, \"trip_last_arrival_ts\": 35880, \"departure_hour\": 9, \"time_of_day\": \"AM Peak\", \"p25\": 0.47, \"p50\": 0.47, \"p75\": 0.47, \"p50_trip\": 1, \"fastest_trip\": 0, \"car_duration_hours\": 0.46, \"competitive_route\": 1, \"bus_multiplier\": 1.02, \"bus_difference\": 0.6, \"num_trips\": 26, \"num_competitive\": 26, \"pct_trips_competitive\": 1.0, \"bus_difference_spread\": 0.0, \"route_group\": \"short\", \"max_trip_hrs\": 0.47, \"max_trip_route_group\": 0.98, \"name\": \"Presidio Trust\", \"caltrans_district\": \"04 - Oakland\", \"drmt_organization_name\": null, \"cutoff2\": 20, \"cutoff\": 0}, {\"calitp_itp_id\": 257, \"trip_key\": 7909294939593455274, \"trip_id\": \"PH1700\", \"shape_id\": \"13738\", \"route_id\": \"673\", \"service_hours\": 0.47, \"trip_first_departure_ts\": 61200, \"trip_last_arrival_ts\": 62880, \"departure_hour\": 17, \"time_of_day\": \"PM Peak\", \"p25\": 0.47, \"p50\": 0.47, \"p75\": 0.47, \"p50_trip\": 1, \"fastest_trip\": 0, \"car_duration_hours\": 0.46, \"competitive_route\": 1, \"bus_multiplier\": 1.02, \"bus_difference\": 0.6, \"num_trips\": 26, \"num_competitive\": 26, \"pct_trips_competitive\": 1.0, \"bus_difference_spread\": 0.0, \"route_group\": \"short\", \"max_trip_hrs\": 0.47, \"max_trip_route_group\": 0.98, \"name\": \"Presidio Trust\", \"caltrans_district\": \"04 - Oakland\", \"drmt_organization_name\": null, \"cutoff2\": 20, \"cutoff\": 0}, {\"calitp_itp_id\": 257, \"trip_key\": -1832471641174462920, \"trip_id\": \"PH1200\", \"shape_id\": \"13738\", \"route_id\": \"673\", \"service_hours\": 0.47, \"trip_first_departure_ts\": 43200, \"trip_last_arrival_ts\": 44880, \"departure_hour\": 12, \"time_of_day\": \"Midday\", \"p25\": 0.47, \"p50\": 0.47, \"p75\": 0.47, \"p50_trip\": 1, \"fastest_trip\": 0, \"car_duration_hours\": 0.46, \"competitive_route\": 1, \"bus_multiplier\": 1.02, \"bus_difference\": 0.6, \"num_trips\": 26, \"num_competitive\": 26, \"pct_trips_competitive\": 1.0, \"bus_difference_spread\": 0.0, \"route_group\": \"short\", \"max_trip_hrs\": 0.47, \"max_trip_route_group\": 0.98, \"name\": \"Presidio Trust\", \"caltrans_district\": \"04 - Oakland\", \"drmt_organization_name\": null, \"cutoff2\": 20, \"cutoff\": 0}, {\"calitp_itp_id\": 257, \"trip_key\": -8524228958124365775, \"trip_id\": \"PH1800\", \"shape_id\": \"13738\", \"route_id\": \"673\", \"service_hours\": 0.47, \"trip_first_departure_ts\": 64800, \"trip_last_arrival_ts\": 66480, \"departure_hour\": 18, \"time_of_day\": \"PM Peak\", \"p25\": 0.47, \"p50\": 0.47, \"p75\": 0.47, \"p50_trip\": 1, \"fastest_trip\": 0, \"car_duration_hours\": 0.46, \"competitive_route\": 1, \"bus_multiplier\": 1.02, \"bus_difference\": 0.6, \"num_trips\": 26, \"num_competitive\": 26, \"pct_trips_competitive\": 1.0, \"bus_difference_spread\": 0.0, \"route_group\": \"short\", \"max_trip_hrs\": 0.47, \"max_trip_route_group\": 0.98, \"name\": \"Presidio Trust\", \"caltrans_district\": \"04 - Oakland\", \"drmt_organization_name\": null, \"cutoff2\": 20, \"cutoff\": 0}, {\"calitp_itp_id\": 257, \"trip_key\": -6331200952277953246, \"trip_id\": \"PH0730\", \"shape_id\": \"13738\", \"route_id\": \"673\", \"service_hours\": 0.47, \"trip_first_departure_ts\": 27000, \"trip_last_arrival_ts\": 28680, \"departure_hour\": 7, \"time_of_day\": \"AM Peak\", \"p25\": 0.47, \"p50\": 0.47, \"p75\": 0.47, \"p50_trip\": 1, \"fastest_trip\": 0, \"car_duration_hours\": 0.46, \"competitive_route\": 1, \"bus_multiplier\": 1.02, \"bus_difference\": 0.6, \"num_trips\": 26, \"num_competitive\": 26, \"pct_trips_competitive\": 1.0, \"bus_difference_spread\": 0.0, \"route_group\": \"short\", \"max_trip_hrs\": 0.47, \"max_trip_route_group\": 0.98, \"name\": \"Presidio Trust\", \"caltrans_district\": \"04 - Oakland\", \"drmt_organization_name\": null, \"cutoff2\": 20, \"cutoff\": 0}, {\"calitp_itp_id\": 257, \"trip_key\": 5368451053873020367, \"trip_id\": \"PH0830\", \"shape_id\": \"13738\", \"route_id\": \"673\", \"service_hours\": 0.47, \"trip_first_departure_ts\": 30600, \"trip_last_arrival_ts\": 32280, \"departure_hour\": 8, \"time_of_day\": \"AM Peak\", \"p25\": 0.47, \"p50\": 0.47, \"p75\": 0.47, \"p50_trip\": 1, \"fastest_trip\": 0, \"car_duration_hours\": 0.46, \"competitive_route\": 1, \"bus_multiplier\": 1.02, \"bus_difference\": 0.6, \"num_trips\": 26, \"num_competitive\": 26, \"pct_trips_competitive\": 1.0, \"bus_difference_spread\": 0.0, \"route_group\": \"short\", \"max_trip_hrs\": 0.47, \"max_trip_route_group\": 0.98, \"name\": \"Presidio Trust\", \"caltrans_district\": \"04 - Oakland\", \"drmt_organization_name\": null, \"cutoff2\": 20, \"cutoff\": 0}, {\"calitp_itp_id\": 257, \"trip_key\": -1925135980962723023, \"trip_id\": \"PH0900\", \"shape_id\": \"13738\", \"route_id\": \"673\", \"service_hours\": 0.47, \"trip_first_departure_ts\": 32400, \"trip_last_arrival_ts\": 34080, \"departure_hour\": 9, \"time_of_day\": \"AM Peak\", \"p25\": 0.47, \"p50\": 0.47, \"p75\": 0.47, \"p50_trip\": 1, \"fastest_trip\": 0, \"car_duration_hours\": 0.46, \"competitive_route\": 1, \"bus_multiplier\": 1.02, \"bus_difference\": 0.6, \"num_trips\": 26, \"num_competitive\": 26, \"pct_trips_competitive\": 1.0, \"bus_difference_spread\": 0.0, \"route_group\": \"short\", \"max_trip_hrs\": 0.47, \"max_trip_route_group\": 0.98, \"name\": \"Presidio Trust\", \"caltrans_district\": \"04 - Oakland\", \"drmt_organization_name\": null, \"cutoff2\": 20, \"cutoff\": 0}, {\"calitp_itp_id\": 257, \"trip_key\": -6347842040500827294, \"trip_id\": \"PH1100\", \"shape_id\": \"13738\", \"route_id\": \"673\", \"service_hours\": 0.47, \"trip_first_departure_ts\": 39600, \"trip_last_arrival_ts\": 41280, \"departure_hour\": 11, \"time_of_day\": \"Midday\", \"p25\": 0.47, \"p50\": 0.47, \"p75\": 0.47, \"p50_trip\": 1, \"fastest_trip\": 0, \"car_duration_hours\": 0.46, \"competitive_route\": 1, \"bus_multiplier\": 1.02, \"bus_difference\": 0.6, \"num_trips\": 26, \"num_competitive\": 26, \"pct_trips_competitive\": 1.0, \"bus_difference_spread\": 0.0, \"route_group\": \"short\", \"max_trip_hrs\": 0.47, \"max_trip_route_group\": 0.98, \"name\": \"Presidio Trust\", \"caltrans_district\": \"04 - Oakland\", \"drmt_organization_name\": null, \"cutoff2\": 20, \"cutoff\": 0}, {\"calitp_itp_id\": 257, \"trip_key\": 7463112401081242534, \"trip_id\": \"PH1530\", \"shape_id\": \"13738\", \"route_id\": \"673\", \"service_hours\": 0.47, \"trip_first_departure_ts\": 55800, \"trip_last_arrival_ts\": 57480, \"departure_hour\": 15, \"time_of_day\": \"Midday\", \"p25\": 0.47, \"p50\": 0.47, \"p75\": 0.47, \"p50_trip\": 1, \"fastest_trip\": 0, \"car_duration_hours\": 0.46, \"competitive_route\": 1, \"bus_multiplier\": 1.02, \"bus_difference\": 0.6, \"num_trips\": 26, \"num_competitive\": 26, \"pct_trips_competitive\": 1.0, \"bus_difference_spread\": 0.0, \"route_group\": \"short\", \"max_trip_hrs\": 0.47, \"max_trip_route_group\": 0.98, \"name\": \"Presidio Trust\", \"caltrans_district\": \"04 - Oakland\", \"drmt_organization_name\": null, \"cutoff2\": 20, \"cutoff\": 0}, {\"calitp_itp_id\": 257, \"trip_key\": 9008060474141603509, \"trip_id\": \"PH0700\", \"shape_id\": \"13738\", \"route_id\": \"673\", \"service_hours\": 0.47, \"trip_first_departure_ts\": 25200, \"trip_last_arrival_ts\": 26880, \"departure_hour\": 7, \"time_of_day\": \"AM Peak\", \"p25\": 0.47, \"p50\": 0.47, \"p75\": 0.47, \"p50_trip\": 1, \"fastest_trip\": 0, \"car_duration_hours\": 0.46, \"competitive_route\": 1, \"bus_multiplier\": 1.02, \"bus_difference\": 0.6, \"num_trips\": 26, \"num_competitive\": 26, \"pct_trips_competitive\": 1.0, \"bus_difference_spread\": 0.0, \"route_group\": \"short\", \"max_trip_hrs\": 0.47, \"max_trip_route_group\": 0.98, \"name\": \"Presidio Trust\", \"caltrans_district\": \"04 - Oakland\", \"drmt_organization_name\": null, \"cutoff2\": 20, \"cutoff\": 0}, {\"calitp_itp_id\": 257, \"trip_key\": -531332991592928557, \"trip_id\": \"PH1900\", \"shape_id\": \"13738\", \"route_id\": \"673\", \"service_hours\": 0.47, \"trip_first_departure_ts\": 68400, \"trip_last_arrival_ts\": 70080, \"departure_hour\": 19, \"time_of_day\": \"PM Peak\", \"p25\": 0.47, \"p50\": 0.47, \"p75\": 0.47, \"p50_trip\": 1, \"fastest_trip\": 1, \"car_duration_hours\": 0.46, \"competitive_route\": 1, \"bus_multiplier\": 1.02, \"bus_difference\": 0.6, \"num_trips\": 26, \"num_competitive\": 26, \"pct_trips_competitive\": 1.0, \"bus_difference_spread\": 0.0, \"route_group\": \"short\", \"max_trip_hrs\": 0.47, \"max_trip_route_group\": 0.98, \"name\": \"Presidio Trust\", \"caltrans_district\": \"04 - Oakland\", \"drmt_organization_name\": null, \"cutoff2\": 20, \"cutoff\": 0}, {\"calitp_itp_id\": 257, \"trip_key\": -5141975382696274681, \"trip_id\": \"PH1230\", \"shape_id\": \"13738\", \"route_id\": \"673\", \"service_hours\": 0.47, \"trip_first_departure_ts\": 45000, \"trip_last_arrival_ts\": 46680, \"departure_hour\": 12, \"time_of_day\": \"Midday\", \"p25\": 0.47, \"p50\": 0.47, \"p75\": 0.47, \"p50_trip\": 1, \"fastest_trip\": 0, \"car_duration_hours\": 0.46, \"competitive_route\": 1, \"bus_multiplier\": 1.02, \"bus_difference\": 0.6, \"num_trips\": 26, \"num_competitive\": 26, \"pct_trips_competitive\": 1.0, \"bus_difference_spread\": 0.0, \"route_group\": \"short\", \"max_trip_hrs\": 0.47, \"max_trip_route_group\": 0.98, \"name\": \"Presidio Trust\", \"caltrans_district\": \"04 - Oakland\", \"drmt_organization_name\": null, \"cutoff2\": 20, \"cutoff\": 0}, {\"calitp_itp_id\": 257, \"trip_key\": 1045331296300338463, \"trip_id\": \"PH1500\", \"shape_id\": \"13738\", \"route_id\": \"673\", \"service_hours\": 0.47, \"trip_first_departure_ts\": 54000, \"trip_last_arrival_ts\": 55680, \"departure_hour\": 15, \"time_of_day\": \"Midday\", \"p25\": 0.47, \"p50\": 0.47, \"p75\": 0.47, \"p50_trip\": 1, \"fastest_trip\": 0, \"car_duration_hours\": 0.46, \"competitive_route\": 1, \"bus_multiplier\": 1.02, \"bus_difference\": 0.6, \"num_trips\": 26, \"num_competitive\": 26, \"pct_trips_competitive\": 1.0, \"bus_difference_spread\": 0.0, \"route_group\": \"short\", \"max_trip_hrs\": 0.47, \"max_trip_route_group\": 0.98, \"name\": \"Presidio Trust\", \"caltrans_district\": \"04 - Oakland\", \"drmt_organization_name\": null, \"cutoff2\": 20, \"cutoff\": 0}, {\"calitp_itp_id\": 257, \"trip_key\": -8838989846236699595, \"trip_id\": \"PH1430\", \"shape_id\": \"13738\", \"route_id\": \"673\", \"service_hours\": 0.47, \"trip_first_departure_ts\": 52200, \"trip_last_arrival_ts\": 53880, \"departure_hour\": 14, \"time_of_day\": \"Midday\", \"p25\": 0.47, \"p50\": 0.47, \"p75\": 0.47, \"p50_trip\": 1, \"fastest_trip\": 0, \"car_duration_hours\": 0.46, \"competitive_route\": 1, \"bus_multiplier\": 1.02, \"bus_difference\": 0.6, \"num_trips\": 26, \"num_competitive\": 26, \"pct_trips_competitive\": 1.0, \"bus_difference_spread\": 0.0, \"route_group\": \"short\", \"max_trip_hrs\": 0.47, \"max_trip_route_group\": 0.98, \"name\": \"Presidio Trust\", \"caltrans_district\": \"04 - Oakland\", \"drmt_organization_name\": null, \"cutoff2\": 20, \"cutoff\": 0}, {\"calitp_itp_id\": 257, \"trip_key\": 1198745740014783038, \"trip_id\": \"PH1030\", \"shape_id\": \"13738\", \"route_id\": \"673\", \"service_hours\": 0.47, \"trip_first_departure_ts\": 37800, \"trip_last_arrival_ts\": 39480, \"departure_hour\": 10, \"time_of_day\": \"Midday\", \"p25\": 0.47, \"p50\": 0.47, \"p75\": 0.47, \"p50_trip\": 1, \"fastest_trip\": 0, \"car_duration_hours\": 0.46, \"competitive_route\": 1, \"bus_multiplier\": 1.02, \"bus_difference\": 0.6, \"num_trips\": 26, \"num_competitive\": 26, \"pct_trips_competitive\": 1.0, \"bus_difference_spread\": 0.0, \"route_group\": \"short\", \"max_trip_hrs\": 0.47, \"max_trip_route_group\": 0.98, \"name\": \"Presidio Trust\", \"caltrans_district\": \"04 - Oakland\", \"drmt_organization_name\": null, \"cutoff2\": 20, \"cutoff\": 0}, {\"calitp_itp_id\": 257, \"trip_key\": 2823510837932261319, \"trip_id\": \"PH1830\", \"shape_id\": \"13738\", \"route_id\": \"673\", \"service_hours\": 0.47, \"trip_first_departure_ts\": 66600, \"trip_last_arrival_ts\": 68280, \"departure_hour\": 18, \"time_of_day\": \"PM Peak\", \"p25\": 0.47, \"p50\": 0.47, \"p75\": 0.47, \"p50_trip\": 1, \"fastest_trip\": 0, \"car_duration_hours\": 0.46, \"competitive_route\": 1, \"bus_multiplier\": 1.02, \"bus_difference\": 0.6, \"num_trips\": 26, \"num_competitive\": 26, \"pct_trips_competitive\": 1.0, \"bus_difference_spread\": 0.0, \"route_group\": \"short\", \"max_trip_hrs\": 0.47, \"max_trip_route_group\": 0.98, \"name\": \"Presidio Trust\", \"caltrans_district\": \"04 - Oakland\", \"drmt_organization_name\": null, \"cutoff2\": 20, \"cutoff\": 0}, {\"calitp_itp_id\": 257, \"trip_key\": 6415975633714303872, \"trip_id\": \"PH0800\", \"shape_id\": \"13738\", \"route_id\": \"673\", \"service_hours\": 0.47, \"trip_first_departure_ts\": 28800, \"trip_last_arrival_ts\": 30480, \"departure_hour\": 8, \"time_of_day\": \"AM Peak\", \"p25\": 0.47, \"p50\": 0.47, \"p75\": 0.47, \"p50_trip\": 1, \"fastest_trip\": 0, \"car_duration_hours\": 0.46, \"competitive_route\": 1, \"bus_multiplier\": 1.02, \"bus_difference\": 0.6, \"num_trips\": 26, \"num_competitive\": 26, \"pct_trips_competitive\": 1.0, \"bus_difference_spread\": 0.0, \"route_group\": \"short\", \"max_trip_hrs\": 0.47, \"max_trip_route_group\": 0.98, \"name\": \"Presidio Trust\", \"caltrans_district\": \"04 - Oakland\", \"drmt_organization_name\": null, \"cutoff2\": 20, \"cutoff\": 0}, {\"calitp_itp_id\": 257, \"trip_key\": 4402063661585196770, \"trip_id\": \"PH0630\", \"shape_id\": \"13738\", \"route_id\": \"673\", \"service_hours\": 0.47, \"trip_first_departure_ts\": 23400, \"trip_last_arrival_ts\": 25080, \"departure_hour\": 6, \"time_of_day\": \"Owl Service\", \"p25\": 0.47, \"p50\": 0.47, \"p75\": 0.47, \"p50_trip\": 1, \"fastest_trip\": 0, \"car_duration_hours\": 0.46, \"competitive_route\": 1, \"bus_multiplier\": 1.02, \"bus_difference\": 0.6, \"num_trips\": 26, \"num_competitive\": 26, \"pct_trips_competitive\": 1.0, \"bus_difference_spread\": 0.0, \"route_group\": \"short\", \"max_trip_hrs\": 0.47, \"max_trip_route_group\": 0.98, \"name\": \"Presidio Trust\", \"caltrans_district\": \"04 - Oakland\", \"drmt_organization_name\": null, \"cutoff2\": 20, \"cutoff\": 0}, {\"calitp_itp_id\": 257, \"trip_key\": 2198979731863317696, \"trip_id\": \"PH1300\", \"shape_id\": \"13738\", \"route_id\": \"673\", \"service_hours\": 0.47, \"trip_first_departure_ts\": 46800, \"trip_last_arrival_ts\": 48480, \"departure_hour\": 13, \"time_of_day\": \"Midday\", \"p25\": 0.47, \"p50\": 0.47, \"p75\": 0.47, \"p50_trip\": 1, \"fastest_trip\": 0, \"car_duration_hours\": 0.46, \"competitive_route\": 1, \"bus_multiplier\": 1.02, \"bus_difference\": 0.6, \"num_trips\": 26, \"num_competitive\": 26, \"pct_trips_competitive\": 1.0, \"bus_difference_spread\": 0.0, \"route_group\": \"short\", \"max_trip_hrs\": 0.47, \"max_trip_route_group\": 0.98, \"name\": \"Presidio Trust\", \"caltrans_district\": \"04 - Oakland\", \"drmt_organization_name\": null, \"cutoff2\": 20, \"cutoff\": 0}, {\"calitp_itp_id\": 257, \"trip_key\": 4465129888350886095, \"trip_id\": \"PH1000\", \"shape_id\": \"13738\", \"route_id\": \"673\", \"service_hours\": 0.47, \"trip_first_departure_ts\": 36000, \"trip_last_arrival_ts\": 37680, \"departure_hour\": 10, \"time_of_day\": \"Midday\", \"p25\": 0.47, \"p50\": 0.47, \"p75\": 0.47, \"p50_trip\": 1, \"fastest_trip\": 0, \"car_duration_hours\": 0.46, \"competitive_route\": 1, \"bus_multiplier\": 1.02, \"bus_difference\": 0.6, \"num_trips\": 26, \"num_competitive\": 26, \"pct_trips_competitive\": 1.0, \"bus_difference_spread\": 0.0, \"route_group\": \"short\", \"max_trip_hrs\": 0.47, \"max_trip_route_group\": 0.98, \"name\": \"Presidio Trust\", \"caltrans_district\": \"04 - Oakland\", \"drmt_organization_name\": null, \"cutoff2\": 20, \"cutoff\": 0}, {\"calitp_itp_id\": 257, \"trip_key\": -706500784622618480, \"trip_id\": \"PH1330\", \"shape_id\": \"13738\", \"route_id\": \"673\", \"service_hours\": 0.47, \"trip_first_departure_ts\": 48600, \"trip_last_arrival_ts\": 50280, \"departure_hour\": 13, \"time_of_day\": \"Midday\", \"p25\": 0.47, \"p50\": 0.47, \"p75\": 0.47, \"p50_trip\": 1, \"fastest_trip\": 0, \"car_duration_hours\": 0.46, \"competitive_route\": 1, \"bus_multiplier\": 1.02, \"bus_difference\": 0.6, \"num_trips\": 26, \"num_competitive\": 26, \"pct_trips_competitive\": 1.0, \"bus_difference_spread\": 0.0, \"route_group\": \"short\", \"max_trip_hrs\": 0.47, \"max_trip_route_group\": 0.98, \"name\": \"Presidio Trust\", \"caltrans_district\": \"04 - Oakland\", \"drmt_organization_name\": null, \"cutoff2\": 20, \"cutoff\": 0}, {\"calitp_itp_id\": 257, \"trip_key\": -5458182453157656639, \"trip_id\": \"PH1630\", \"shape_id\": \"13738\", \"route_id\": \"673\", \"service_hours\": 0.47, \"trip_first_departure_ts\": 59400, \"trip_last_arrival_ts\": 61080, \"departure_hour\": 16, \"time_of_day\": \"Midday\", \"p25\": 0.47, \"p50\": 0.47, \"p75\": 0.47, \"p50_trip\": 1, \"fastest_trip\": 0, \"car_duration_hours\": 0.46, \"competitive_route\": 1, \"bus_multiplier\": 1.02, \"bus_difference\": 0.6, \"num_trips\": 26, \"num_competitive\": 26, \"pct_trips_competitive\": 1.0, \"bus_difference_spread\": 0.0, \"route_group\": \"short\", \"max_trip_hrs\": 0.47, \"max_trip_route_group\": 0.98, \"name\": \"Presidio Trust\", \"caltrans_district\": \"04 - Oakland\", \"drmt_organization_name\": null, \"cutoff2\": 20, \"cutoff\": 0}, {\"calitp_itp_id\": 257, \"trip_key\": 1455696947016859298, \"trip_id\": \"PH1130\", \"shape_id\": \"13738\", \"route_id\": \"673\", \"service_hours\": 0.47, \"trip_first_departure_ts\": 41400, \"trip_last_arrival_ts\": 43080, \"departure_hour\": 11, \"time_of_day\": \"Midday\", \"p25\": 0.47, \"p50\": 0.47, \"p75\": 0.47, \"p50_trip\": 1, \"fastest_trip\": 0, \"car_duration_hours\": 0.46, \"competitive_route\": 1, \"bus_multiplier\": 1.02, \"bus_difference\": 0.6, \"num_trips\": 26, \"num_competitive\": 26, \"pct_trips_competitive\": 1.0, \"bus_difference_spread\": 0.0, \"route_group\": \"short\", \"max_trip_hrs\": 0.47, \"max_trip_route_group\": 0.98, \"name\": \"Presidio Trust\", \"caltrans_district\": \"04 - Oakland\", \"drmt_organization_name\": null, \"cutoff2\": 20, \"cutoff\": 0}, {\"calitp_itp_id\": 257, \"trip_key\": 4429099215239842536, \"trip_id\": \"PH1600\", \"shape_id\": \"13738\", \"route_id\": \"673\", \"service_hours\": 0.47, \"trip_first_departure_ts\": 57600, \"trip_last_arrival_ts\": 59280, \"departure_hour\": 16, \"time_of_day\": \"Midday\", \"p25\": 0.47, \"p50\": 0.47, \"p75\": 0.47, \"p50_trip\": 1, \"fastest_trip\": 0, \"car_duration_hours\": 0.46, \"competitive_route\": 1, \"bus_multiplier\": 1.02, \"bus_difference\": 0.6, \"num_trips\": 26, \"num_competitive\": 26, \"pct_trips_competitive\": 1.0, \"bus_difference_spread\": 0.0, \"route_group\": \"short\", \"max_trip_hrs\": 0.47, \"max_trip_route_group\": 0.98, \"name\": \"Presidio Trust\", \"caltrans_district\": \"04 - Oakland\", \"drmt_organization_name\": null, \"cutoff2\": 20, \"cutoff\": 0}, {\"calitp_itp_id\": 257, \"trip_key\": -4642411237546855353, \"trip_id\": \"PH1730\", \"shape_id\": \"13738\", \"route_id\": \"673\", \"service_hours\": 0.47, \"trip_first_departure_ts\": 63000, \"trip_last_arrival_ts\": 64680, \"departure_hour\": 17, \"time_of_day\": \"PM Peak\", \"p25\": 0.47, \"p50\": 0.47, \"p75\": 0.47, \"p50_trip\": 1, \"fastest_trip\": 0, \"car_duration_hours\": 0.46, \"competitive_route\": 1, \"bus_multiplier\": 1.02, \"bus_difference\": 0.6, \"num_trips\": 26, \"num_competitive\": 26, \"pct_trips_competitive\": 1.0, \"bus_difference_spread\": 0.0, \"route_group\": \"short\", \"max_trip_hrs\": 0.47, \"max_trip_route_group\": 0.98, \"name\": \"Presidio Trust\", \"caltrans_district\": \"04 - Oakland\", \"drmt_organization_name\": null, \"cutoff2\": 20, \"cutoff\": 0}, {\"calitp_itp_id\": 257, \"trip_key\": -6788171246304073674, \"trip_id\": \"PH1400\", \"shape_id\": \"13738\", \"route_id\": \"673\", \"service_hours\": 0.47, \"trip_first_departure_ts\": 50400, \"trip_last_arrival_ts\": 52080, \"departure_hour\": 14, \"time_of_day\": \"Midday\", \"p25\": 0.47, \"p50\": 0.47, \"p75\": 0.47, \"p50_trip\": 1, \"fastest_trip\": 0, \"car_duration_hours\": 0.46, \"competitive_route\": 1, \"bus_multiplier\": 1.02, \"bus_difference\": 0.6, \"num_trips\": 26, \"num_competitive\": 26, \"pct_trips_competitive\": 1.0, \"bus_difference_spread\": 0.0, \"route_group\": \"short\", \"max_trip_hrs\": 0.47, \"max_trip_route_group\": 0.98, \"name\": \"Presidio Trust\", \"caltrans_district\": \"04 - Oakland\", \"drmt_organization_name\": null, \"cutoff2\": 20, \"cutoff\": 0}]}}, {\"mode\": \"vega-lite\"});\n",
       "</script>"
      ],
      "text/plain": [
       "alt.FacetChart(...)"
      ]
     },
     "metadata": {},
     "output_type": "display_data"
    }
   ],
   "source": [
    "# Allow for possibility that operator doesn't have routes that fall into certain route_groups\n",
    "# But, jupyterbook will not like markdown with f-string\n",
    "# separate out route_group and put in each cell, and use try/except + if to display...\n",
    "# but all 3 route groups must be displayed. just add sentence about why no routes were returned at the end\n",
    "route_group = \"short\"\n",
    "try:\n",
    "    display_charts_for_route_group(df, route_group)\n",
    "except:\n",
    "    print(\"No routes meet this criteria.\")"
   ]
  },
  {
   "cell_type": "markdown",
   "id": "c2931b6f-034d-4384-9e14-80b925e3b820",
   "metadata": {
    "papermill": {
     "duration": 0.015852,
     "end_time": "2022-05-09T19:43:51.477745",
     "exception": false,
     "start_time": "2022-05-09T19:43:51.461893",
     "status": "completed"
    },
    "tags": []
   },
   "source": [
    "### Medium Routes (1-1.5 hrs)"
   ]
  },
  {
   "cell_type": "code",
   "execution_count": 14,
   "id": "480edddc-4de0-48c2-ae4c-b0ceef8f28b5",
   "metadata": {
    "execution": {
     "iopub.execute_input": "2022-05-09T19:43:51.511296Z",
     "iopub.status.busy": "2022-05-09T19:43:51.510983Z",
     "iopub.status.idle": "2022-05-09T19:43:51.527282Z",
     "shell.execute_reply": "2022-05-09T19:43:51.526428Z"
    },
    "jupyter": {
     "source_hidden": true
    },
    "papermill": {
     "duration": 0.036195,
     "end_time": "2022-05-09T19:43:51.529200",
     "exception": false,
     "start_time": "2022-05-09T19:43:51.493005",
     "status": "completed"
    },
    "tags": [
     "remove_input"
    ]
   },
   "outputs": [
    {
     "name": "stdout",
     "output_type": "stream",
     "text": [
      "No routes meet this criteria.\n"
     ]
    }
   ],
   "source": [
    "route_group = \"medium\"\n",
    "try:\n",
    "    display_charts_for_route_group(df, route_group)\n",
    "except:\n",
    "    print(\"No routes meet this criteria.\")"
   ]
  },
  {
   "cell_type": "markdown",
   "id": "124b76d0-886c-4d03-92ac-f1bda3cda182",
   "metadata": {
    "papermill": {
     "duration": 0.016353,
     "end_time": "2022-05-09T19:43:51.561129",
     "exception": false,
     "start_time": "2022-05-09T19:43:51.544776",
     "status": "completed"
    },
    "tags": []
   },
   "source": [
    "### Long Routes (> 1.5 hrs)"
   ]
  },
  {
   "cell_type": "code",
   "execution_count": 15,
   "id": "ddc81b19-4c45-4c81-8b7a-5e0f394aa7a3",
   "metadata": {
    "execution": {
     "iopub.execute_input": "2022-05-09T19:43:51.596063Z",
     "iopub.status.busy": "2022-05-09T19:43:51.595587Z",
     "iopub.status.idle": "2022-05-09T19:43:51.612388Z",
     "shell.execute_reply": "2022-05-09T19:43:51.611554Z"
    },
    "jupyter": {
     "source_hidden": true
    },
    "papermill": {
     "duration": 0.036161,
     "end_time": "2022-05-09T19:43:51.614171",
     "exception": false,
     "start_time": "2022-05-09T19:43:51.578010",
     "status": "completed"
    },
    "tags": [
     "remove_input"
    ]
   },
   "outputs": [
    {
     "name": "stdout",
     "output_type": "stream",
     "text": [
      "No routes meet this criteria.\n"
     ]
    }
   ],
   "source": [
    "route_group = \"long\"\n",
    "try:\n",
    "    display_charts_for_route_group(df, route_group)\n",
    "except:\n",
    "    print(\"No routes meet this criteria.\")"
   ]
  },
  {
   "cell_type": "markdown",
   "id": "ace75b5f-0442-4fbe-aebd-6c3a13ae13a7",
   "metadata": {
    "papermill": {
     "duration": 0.017443,
     "end_time": "2022-05-09T19:43:51.648632",
     "exception": false,
     "start_time": "2022-05-09T19:43:51.631189",
     "status": "completed"
    },
    "tags": []
   },
   "source": [
    "### GTFS Real-Time Speedmaps"
   ]
  },
  {
   "cell_type": "code",
   "execution_count": 16,
   "id": "a0a114a1-e975-4027-9daf-50029f5ef59f",
   "metadata": {
    "execution": {
     "iopub.execute_input": "2022-05-09T19:43:51.685967Z",
     "iopub.status.busy": "2022-05-09T19:43:51.685292Z",
     "iopub.status.idle": "2022-05-09T19:43:51.740028Z",
     "shell.execute_reply": "2022-05-09T19:43:51.739319Z"
    },
    "jupyter": {
     "source_hidden": true
    },
    "papermill": {
     "duration": 0.077076,
     "end_time": "2022-05-09T19:43:51.741954",
     "exception": false,
     "start_time": "2022-05-09T19:43:51.664878",
     "status": "completed"
    },
    "tags": [
     "remove_input"
    ]
   },
   "outputs": [
    {
     "data": {
      "text/html": [
       "No GTFS RT data available."
      ],
      "text/plain": [
       "<IPython.core.display.HTML object>"
      ]
     },
     "metadata": {},
     "output_type": "display_data"
    }
   ],
   "source": [
    "PORTFOLIO_SITE_YAML = \"../portfolio/analyses.yml\"\n",
    "\n",
    "# Grab list of ITP IDs with GTFS RT speedmaps\n",
    "rt_itp_id = deploy_portfolio_yaml.check_if_rt_data_available(PORTFOLIO_SITE_YAML)\n",
    "\n",
    "# Construct the URL \n",
    "RT_URL = (\"https://analysis.calitp.org/rt/\"\n",
    "          f\"district_{district_number}-{district_name}/\"\n",
    "          f\"speedmaps__itp_id_{itp_id}.html\"\n",
    "         ) \n",
    "\n",
    "if itp_id in rt_itp_id:\n",
    "    display(HTML(f'''<a href={RT_URL}>GTFS RT speedmaps here.</a>'''))\n",
    "\n",
    "else:\n",
    "    display(HTML(\"No GTFS RT data available.\"))"
   ]
  },
  {
   "cell_type": "code",
   "execution_count": null,
   "id": "5b680565-2230-4f2e-817c-718fad48d64c",
   "metadata": {
    "jupyter": {
     "source_hidden": true
    },
    "papermill": {
     "duration": 0.016627,
     "end_time": "2022-05-09T19:43:51.775873",
     "exception": false,
     "start_time": "2022-05-09T19:43:51.759246",
     "status": "completed"
    },
    "tags": [
     "remove_input"
    ]
   },
   "outputs": [],
   "source": []
  }
 ],
 "metadata": {
  "kernelspec": {
   "display_name": "Python 3 (ipykernel)",
   "language": "python",
   "name": "python3"
  },
  "language_info": {
   "codemirror_mode": {
    "name": "ipython",
    "version": 3
   },
   "file_extension": ".py",
   "mimetype": "text/x-python",
   "name": "python",
   "nbconvert_exporter": "python",
   "pygments_lexer": "ipython3",
   "version": "3.9.12"
  },
  "papermill": {
   "default_parameters": {},
   "duration": 27.317775,
   "end_time": "2022-05-09T19:43:53.122469",
   "environment_variables": {},
   "exception": null,
   "input_path": "bus_service_increase/competitive-parallel-routes.ipynb",
   "output_path": "portfolio/parallel_corridors/district_04-oakland/competitive-parallel-routes__itp_id_257.ipynb",
   "parameters": {
    "district": "04 - Oakland",
    "itp_id": 257
   },
   "start_time": "2022-05-09T19:43:25.804694",
   "version": "2.3.4"
  }
 },
 "nbformat": 4,
 "nbformat_minor": 5
}