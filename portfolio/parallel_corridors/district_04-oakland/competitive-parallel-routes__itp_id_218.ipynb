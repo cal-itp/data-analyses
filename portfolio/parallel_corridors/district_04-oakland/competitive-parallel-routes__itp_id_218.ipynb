{
 "cells": [
  {
   "cell_type": "code",
   "execution_count": 1,
   "id": "95d00857-6a20-4529-a519-2cc7182928a9",
   "metadata": {
    "execution": {
     "iopub.execute_input": "2022-05-08T15:50:09.892416Z",
     "iopub.status.busy": "2022-05-08T15:50:09.891852Z",
     "iopub.status.idle": "2022-05-08T15:50:17.732386Z",
     "shell.execute_reply": "2022-05-08T15:50:17.731509Z"
    },
    "jupyter": {
     "source_hidden": true
    },
    "papermill": {
     "duration": 7.854641,
     "end_time": "2022-05-08T15:50:17.734753",
     "exception": false,
     "start_time": "2022-05-08T15:50:09.880112",
     "status": "completed"
    },
    "tags": [
     "remove_input"
    ]
   },
   "outputs": [],
   "source": [
    "%%capture\n",
    "import warnings\n",
    "warnings.filterwarnings('ignore')\n",
    "\n",
    "import altair as alt\n",
    "import calitp.magics\n",
    "import geopandas as gpd\n",
    "import intake\n",
    "import pandas as pd\n",
    "\n",
    "from IPython.display import display, Markdown, HTML\n",
    "\n",
    "import parallel_corridors_utils\n",
    "from shared_utils import styleguide\n",
    "\n",
    "catalog = intake.open_catalog(\"./*.yml\")\n",
    "alt.renderers.enable(\"html\")"
   ]
  },
  {
   "cell_type": "code",
   "execution_count": 2,
   "id": "8af2a0c1-f3da-408d-9bea-11d9fbf8695d",
   "metadata": {
    "execution": {
     "iopub.execute_input": "2022-05-08T15:50:17.756547Z",
     "iopub.status.busy": "2022-05-08T15:50:17.756284Z",
     "iopub.status.idle": "2022-05-08T15:50:17.761033Z",
     "shell.execute_reply": "2022-05-08T15:50:17.760319Z"
    },
    "jupyter": {
     "source_hidden": true
    },
    "papermill": {
     "duration": 0.017235,
     "end_time": "2022-05-08T15:50:17.762956",
     "exception": false,
     "start_time": "2022-05-08T15:50:17.745721",
     "status": "completed"
    },
    "tags": [
     "parameters",
     "remove_input"
    ]
   },
   "outputs": [],
   "source": [
    "# parameters cell\n",
    "itp_id = 182"
   ]
  },
  {
   "cell_type": "code",
   "execution_count": 3,
   "id": "e392486c",
   "metadata": {
    "execution": {
     "iopub.execute_input": "2022-05-08T15:50:17.783081Z",
     "iopub.status.busy": "2022-05-08T15:50:17.782848Z",
     "iopub.status.idle": "2022-05-08T15:50:17.787122Z",
     "shell.execute_reply": "2022-05-08T15:50:17.786282Z"
    },
    "jupyter": {
     "source_hidden": true
    },
    "papermill": {
     "duration": 0.016329,
     "end_time": "2022-05-08T15:50:17.789043",
     "exception": false,
     "start_time": "2022-05-08T15:50:17.772714",
     "status": "completed"
    },
    "tags": [
     "injected-parameters",
     "remove_input"
    ]
   },
   "outputs": [],
   "source": [
    "# Parameters\n",
    "district = \"04 - Oakland\"\n",
    "itp_id = 218\n"
   ]
  },
  {
   "cell_type": "code",
   "execution_count": 4,
   "id": "9582aaf4-79ff-412a-b248-8d8d693ebd4f",
   "metadata": {
    "execution": {
     "iopub.execute_input": "2022-05-08T15:50:17.810330Z",
     "iopub.status.busy": "2022-05-08T15:50:17.810103Z",
     "iopub.status.idle": "2022-05-08T15:50:19.030790Z",
     "shell.execute_reply": "2022-05-08T15:50:19.029964Z"
    },
    "jupyter": {
     "source_hidden": true
    },
    "papermill": {
     "duration": 1.233502,
     "end_time": "2022-05-08T15:50:19.033168",
     "exception": false,
     "start_time": "2022-05-08T15:50:17.799666",
     "status": "completed"
    },
    "tags": [
     "remove_input"
    ]
   },
   "outputs": [],
   "source": [
    "df = catalog.competitive_route_variability.read()\n",
    "\n",
    "df = (df[(df.calitp_itp_id == itp_id) & \n",
    "         (df.route_group.notna())]\n",
    "      .reset_index(drop=True)\n",
    "     )\n",
    "\n",
    "\n",
    "if itp_id == 182:\n",
    "    df = df.assign(\n",
    "        route_id = df.route_id.str.replace('-13153', '').astype(int)\n",
    "    )"
   ]
  },
  {
   "cell_type": "code",
   "execution_count": 5,
   "id": "33ac4b06-f647-4dce-a625-8f2c1b37cc60",
   "metadata": {
    "execution": {
     "iopub.execute_input": "2022-05-08T15:50:19.056902Z",
     "iopub.status.busy": "2022-05-08T15:50:19.056394Z",
     "iopub.status.idle": "2022-05-08T15:50:19.062440Z",
     "shell.execute_reply": "2022-05-08T15:50:19.061891Z"
    },
    "jupyter": {
     "source_hidden": true
    },
    "papermill": {
     "duration": 0.019712,
     "end_time": "2022-05-08T15:50:19.064169",
     "exception": false,
     "start_time": "2022-05-08T15:50:19.044457",
     "status": "completed"
    },
    "tags": [
     "remove_input"
    ]
   },
   "outputs": [],
   "source": [
    "%%capture_parameters\n",
    "operator_name = df.name.iloc[0]\n",
    "\n",
    "itp_id, operator_name"
   ]
  },
  {
   "cell_type": "markdown",
   "id": "65bc6f5c-8348-42ee-b2dd-52057c406852",
   "metadata": {
    "papermill": {
     "duration": 0.010416,
     "end_time": "2022-05-08T15:50:19.084787",
     "exception": false,
     "start_time": "2022-05-08T15:50:19.074371",
     "status": "completed"
    },
    "tags": []
   },
   "source": [
    "# Napa Valley Transportation Authority (ITP ID: 218)"
   ]
  },
  {
   "cell_type": "code",
   "execution_count": 6,
   "id": "a689c1ab-2c6c-4831-8d64-897f5986f571",
   "metadata": {
    "execution": {
     "iopub.execute_input": "2022-05-08T15:50:19.112946Z",
     "iopub.status.busy": "2022-05-08T15:50:19.112403Z",
     "iopub.status.idle": "2022-05-08T15:50:19.118033Z",
     "shell.execute_reply": "2022-05-08T15:50:19.117539Z"
    },
    "jupyter": {
     "source_hidden": true
    },
    "papermill": {
     "duration": 0.024736,
     "end_time": "2022-05-08T15:50:19.119656",
     "exception": false,
     "start_time": "2022-05-08T15:50:19.094920",
     "status": "completed"
    },
    "tags": [
     "remove_input"
    ]
   },
   "outputs": [
    {
     "data": {
      "text/html": [
       "<h1>Competitive & Parallel Routes</h1>"
      ],
      "text/plain": [
       "<IPython.core.display.HTML object>"
      ]
     },
     "metadata": {},
     "output_type": "display_data"
    }
   ],
   "source": [
    "display(HTML(\"<h1>Competitive & Parallel Routes</h1>\")) "
   ]
  },
  {
   "cell_type": "code",
   "execution_count": 7,
   "id": "2cb4d8d5-4760-40e4-85b1-cb833d8bb648",
   "metadata": {
    "execution": {
     "iopub.execute_input": "2022-05-08T15:50:19.142798Z",
     "iopub.status.busy": "2022-05-08T15:50:19.142285Z",
     "iopub.status.idle": "2022-05-08T15:50:28.921624Z",
     "shell.execute_reply": "2022-05-08T15:50:28.920556Z"
    },
    "jupyter": {
     "source_hidden": true
    },
    "papermill": {
     "duration": 9.793383,
     "end_time": "2022-05-08T15:50:28.924037",
     "exception": false,
     "start_time": "2022-05-08T15:50:19.130654",
     "status": "completed"
    },
    "tags": [
     "remove_input"
    ]
   },
   "outputs": [],
   "source": [
    "# Grab parameters for narrative text - clean up formatting here \n",
    "district = df.caltrans_district.iloc[0]\n",
    "formatted_date = pd.to_datetime(parallel_corridors_utils.SELECTED_DATE).strftime('%m-%d-%Y')\n",
    "\n",
    "PCT_COMPETITIVE_THRESHOLD = 0.75\n",
    "\n",
    "stats = parallel_corridors_utils.operator_parallel_competitive_stats(\n",
    "    itp_id, PCT_COMPETITIVE_THRESHOLD)\n",
    "\n",
    "pct_parallel = round(stats['parallel_routes'] / stats['num_routes'] * 100,1 )\n",
    "pct_competitive =  round(stats['competitive_routes'] / stats['num_routes'] * 100,1 )"
   ]
  },
  {
   "cell_type": "markdown",
   "id": "ab667928-5274-4490-82d9-4c39293209a4",
   "metadata": {
    "papermill": {
     "duration": 0.01664,
     "end_time": "2022-05-08T15:50:28.957619",
     "exception": false,
     "start_time": "2022-05-08T15:50:28.940979",
     "status": "completed"
    },
    "tags": []
   },
   "source": [
    "## Quick Stats"
   ]
  },
  {
   "cell_type": "code",
   "execution_count": 8,
   "id": "0416509d-dc62-4165-b62e-64f8b26e8b8e",
   "metadata": {
    "execution": {
     "iopub.execute_input": "2022-05-08T15:50:29.008879Z",
     "iopub.status.busy": "2022-05-08T15:50:29.008383Z",
     "iopub.status.idle": "2022-05-08T15:50:29.014938Z",
     "shell.execute_reply": "2022-05-08T15:50:29.014042Z"
    },
    "jupyter": {
     "source_hidden": true
    },
    "papermill": {
     "duration": 0.048418,
     "end_time": "2022-05-08T15:50:29.017553",
     "exception": false,
     "start_time": "2022-05-08T15:50:28.969135",
     "status": "completed"
    },
    "tags": [
     "remove_input"
    ]
   },
   "outputs": [
    {
     "data": {
      "text/markdown": [
       "**Bus routes in service**: 9 <br>**Parallel routes** to State Highway Network (SHN): 9 routes (100.0%)<br>**Competitive routes** against car travel: 4 routes (44.4%)"
      ],
      "text/plain": [
       "<IPython.core.display.Markdown object>"
      ]
     },
     "metadata": {},
     "output_type": "display_data"
    }
   ],
   "source": [
    "display(\n",
    "    Markdown(\n",
    "        f\"**Bus routes in service**: {stats['num_routes']} \"\n",
    "        \"<br>**Parallel routes** to State Highway Network (SHN): \"\n",
    "        f\"{stats['parallel_routes']} routes ({pct_parallel}%)\"\n",
    "        f\"<br>**Competitive routes** against car travel: {stats['competitive_routes']} routes ({pct_competitive}%)\"\n",
    "    )\n",
    ")"
   ]
  },
  {
   "cell_type": "code",
   "execution_count": 9,
   "id": "f9d6ab58-f0ee-460c-b6de-657490e1f386",
   "metadata": {
    "execution": {
     "iopub.execute_input": "2022-05-08T15:50:29.041898Z",
     "iopub.status.busy": "2022-05-08T15:50:29.041624Z",
     "iopub.status.idle": "2022-05-08T15:50:29.050224Z",
     "shell.execute_reply": "2022-05-08T15:50:29.049514Z"
    },
    "jupyter": {
     "source_hidden": true
    },
    "papermill": {
     "duration": 0.023238,
     "end_time": "2022-05-08T15:50:29.051963",
     "exception": false,
     "start_time": "2022-05-08T15:50:29.028725",
     "status": "completed"
    },
    "tags": [
     "remove_input"
    ]
   },
   "outputs": [],
   "source": [
    "def set_yaxis_range(df, y_col):\n",
    "    Y_MIN = df[y_col].min()\n",
    "    Y_MAX = df[y_col].max()\n",
    "    \n",
    "    return Y_MIN, Y_MAX\n",
    "\n",
    "# Rather than set it according to the operator, which can vary,\n",
    "# just use set thresholds for each group\n",
    "diff_cutoffs = parallel_corridors_utils.diff_cutoffs\n",
    "\n",
    "PCT_TRIPS_BELOW_CUTOFF = 0.25\n",
    "\n",
    "def top15_routes(df, route_group):\n",
    "    df2 = (df[df.route_group==route_group])\n",
    "    # Set a cut-off to enable sorting, where most of the trips are \n",
    "    # below a certain time difference cut-off, \n",
    "    # grab top 15 routes where majority of trips are below that cut-off \n",
    "\n",
    "    route_cols = [\"calitp_itp_id\", \"route_id\"]\n",
    "\n",
    "    df2 = df2.assign(\n",
    "        below_cutoff = df2.apply(lambda x: 1 if x.bus_difference <= diff_cutoffs[route_group] \n",
    "                                 else 0, axis=1),\n",
    "        num_trips = df2.groupby(route_cols)[\"trip_id\"].transform(\"count\")\n",
    "    )\n",
    "\n",
    "    df2[\"below_cutoff\"] = df2.groupby(route_cols)[\"below_cutoff\"].transform(\"sum\")\n",
    "    df2[\"pct_below_cutoff\"] = df2.below_cutoff.divide(df2.num_trips)\n",
    "\n",
    "    # At least half the trips are below that cut-off\n",
    "    # but show 15 max, otherwise, show less, since these won't be as interesting to operators\n",
    "    df3 = (df2[df2.pct_below_cutoff >= PCT_TRIPS_BELOW_CUTOFF]\n",
    "           .sort_values([\"calitp_itp_id\", \"below_cutoff\", \n",
    "                         \"pct_below_cutoff\", \"route_id\"],\n",
    "                        ascending = [True, False, False, True]\n",
    "                       )\n",
    "           .drop_duplicates(subset=[\"calitp_itp_id\", \"route_id\"])\n",
    "          ).head(15)\n",
    "    \n",
    "    return list(df3.route_id)"
   ]
  },
  {
   "cell_type": "code",
   "execution_count": 10,
   "id": "cf36d559-3349-4144-8086-8ac9ce937a5a",
   "metadata": {
    "execution": {
     "iopub.execute_input": "2022-05-08T15:50:29.078760Z",
     "iopub.status.busy": "2022-05-08T15:50:29.078166Z",
     "iopub.status.idle": "2022-05-08T15:50:29.084621Z",
     "shell.execute_reply": "2022-05-08T15:50:29.083825Z"
    },
    "jupyter": {
     "source_hidden": true
    },
    "papermill": {
     "duration": 0.021449,
     "end_time": "2022-05-08T15:50:29.086497",
     "exception": false,
     "start_time": "2022-05-08T15:50:29.065048",
     "status": "completed"
    },
    "tags": [
     "remove_input"
    ]
   },
   "outputs": [],
   "source": [
    "short_caption = (\n",
    "    f\"<br>These are routes that have at least {int(PCT_TRIPS_BELOW_CUTOFF*100)}% of their trips \"\n",
    "    f\"take no more than an additional {diff_cutoffs['short']} min compared to a car \"\n",
    "    \"(up to 15 routes) are shown.\"\n",
    ")\n",
    "\n",
    "med_caption = (\n",
    "    f\"<br>These are routes that have at least {int(PCT_TRIPS_BELOW_CUTOFF*100)}% of their trips \"\n",
    "    f\"take no more than an additional {diff_cutoffs['medium']} min compared to a car \"\n",
    "    \"(up to 15 routes) are shown.\"\n",
    ")\n",
    "\n",
    "long_caption = (\n",
    "    f\"<br>These are routes that have at least {int(PCT_TRIPS_BELOW_CUTOFF*100)}% of their trips \"\n",
    "    f\"take no more than an additional {diff_cutoffs['long']} min compared to a car \"\n",
    "    \"(up to 15 routes) are shown.\")\n",
    "\n",
    "\n",
    "CAPTIONS_DICT = {\n",
    "    \"short\": short_caption,\n",
    "    \"medium\": med_caption,\n",
    "    \"long\": long_caption,\n",
    "}"
   ]
  },
  {
   "cell_type": "code",
   "execution_count": 11,
   "id": "e4306d58-6944-47e9-afef-5d5b524c751f",
   "metadata": {
    "execution": {
     "iopub.execute_input": "2022-05-08T15:50:29.119008Z",
     "iopub.status.busy": "2022-05-08T15:50:29.118712Z",
     "iopub.status.idle": "2022-05-08T15:50:29.125321Z",
     "shell.execute_reply": "2022-05-08T15:50:29.124443Z"
    },
    "jupyter": {
     "source_hidden": true
    },
    "papermill": {
     "duration": 0.030165,
     "end_time": "2022-05-08T15:50:29.127445",
     "exception": false,
     "start_time": "2022-05-08T15:50:29.097280",
     "status": "completed"
    },
    "tags": [
     "remove_input"
    ]
   },
   "outputs": [],
   "source": [
    "def setup_charts(df, PCT_COMPETITIVE_THRESHOLD, route_group):\n",
    "    # Set up df for charting (cut-off at some threshold to show most competitive routes)\n",
    "    plot_me = (df[df.pct_trips_competitive > PCT_COMPETITIVE_THRESHOLD]\n",
    "           .drop(columns = \"geometry\")\n",
    "    )\n",
    "    \n",
    "    y_col1 = \"bus_multiplier\"\n",
    "    Y_MIN1, Y_MAX1 = set_yaxis_range(plot_me, y_col1)\n",
    "\n",
    "    y_col2 = \"bus_difference\"\n",
    "    Y_MIN2, Y_MAX2 = set_yaxis_range(plot_me, y_col2)\n",
    "     \n",
    "    subset_routes = top15_routes(plot_me, route_group)\n",
    "    \n",
    "    multiplier_chart = parallel_corridors_utils.make_stripplot(\n",
    "        plot_me[plot_me.route_id.isin(subset_routes)], \n",
    "        y_col1, Y_MIN = Y_MIN1, Y_MAX = Y_MAX1\n",
    "    )\n",
    "    \n",
    "    difference_chart = parallel_corridors_utils.make_stripplot(\n",
    "        plot_me[plot_me.route_id.isin(subset_routes)], \n",
    "        y_col2, Y_MIN = Y_MIN2, Y_MAX = Y_MAX2\n",
    "    )\n",
    "    \n",
    "    return subset_routes, multiplier_chart, difference_chart            "
   ]
  },
  {
   "cell_type": "markdown",
   "id": "525f9b38-072b-46d1-96a8-1aa4b038357c",
   "metadata": {
    "papermill": {
     "duration": 0.011672,
     "end_time": "2022-05-08T15:50:29.150877",
     "exception": false,
     "start_time": "2022-05-08T15:50:29.139205",
     "status": "completed"
    },
    "tags": []
   },
   "source": [
    "## Viable Competitive Routes\n",
    "### Short Routes (< 1 hr)"
   ]
  },
  {
   "cell_type": "code",
   "execution_count": 12,
   "id": "57f7084c-2cf7-45c6-ba08-1609e0bd6ca5",
   "metadata": {
    "execution": {
     "iopub.execute_input": "2022-05-08T15:50:29.175201Z",
     "iopub.status.busy": "2022-05-08T15:50:29.174389Z",
     "iopub.status.idle": "2022-05-08T15:50:29.419155Z",
     "shell.execute_reply": "2022-05-08T15:50:29.418420Z"
    },
    "jupyter": {
     "source_hidden": true
    },
    "papermill": {
     "duration": 0.259083,
     "end_time": "2022-05-08T15:50:29.421224",
     "exception": false,
     "start_time": "2022-05-08T15:50:29.162141",
     "status": "completed"
    },
    "tags": [
     "remove_input"
    ]
   },
   "outputs": [
    {
     "data": {
      "text/markdown": [
       "<br>These are routes that have at least 25% of their trips take no more than an additional 20 min compared to a car (up to 15 routes) are shown.Within each route group, routes are sorted in descending order by % competitive trips and # trips below the additional time cut-off."
      ],
      "text/plain": [
       "<IPython.core.display.Markdown object>"
      ]
     },
     "metadata": {},
     "output_type": "display_data"
    },
    {
     "data": {
      "text/html": [
       "\n",
       "<div id=\"altair-viz-3d848d77df274a8ca5c15addfebae64d\"></div>\n",
       "<script type=\"text/javascript\">\n",
       "  var VEGA_DEBUG = (typeof VEGA_DEBUG == \"undefined\") ? {} : VEGA_DEBUG;\n",
       "  (function(spec, embedOpt){\n",
       "    let outputDiv = document.currentScript.previousElementSibling;\n",
       "    if (outputDiv.id !== \"altair-viz-3d848d77df274a8ca5c15addfebae64d\") {\n",
       "      outputDiv = document.getElementById(\"altair-viz-3d848d77df274a8ca5c15addfebae64d\");\n",
       "    }\n",
       "    const paths = {\n",
       "      \"vega\": \"https://cdn.jsdelivr.net/npm//vega@5?noext\",\n",
       "      \"vega-lib\": \"https://cdn.jsdelivr.net/npm//vega-lib?noext\",\n",
       "      \"vega-lite\": \"https://cdn.jsdelivr.net/npm//vega-lite@4.17.0?noext\",\n",
       "      \"vega-embed\": \"https://cdn.jsdelivr.net/npm//vega-embed@6?noext\",\n",
       "    };\n",
       "\n",
       "    function maybeLoadScript(lib, version) {\n",
       "      var key = `${lib.replace(\"-\", \"\")}_version`;\n",
       "      return (VEGA_DEBUG[key] == version) ?\n",
       "        Promise.resolve(paths[lib]) :\n",
       "        new Promise(function(resolve, reject) {\n",
       "          var s = document.createElement('script');\n",
       "          document.getElementsByTagName(\"head\")[0].appendChild(s);\n",
       "          s.async = true;\n",
       "          s.onload = () => {\n",
       "            VEGA_DEBUG[key] = version;\n",
       "            return resolve(paths[lib]);\n",
       "          };\n",
       "          s.onerror = () => reject(`Error loading script: ${paths[lib]}`);\n",
       "          s.src = paths[lib];\n",
       "        });\n",
       "    }\n",
       "\n",
       "    function showError(err) {\n",
       "      outputDiv.innerHTML = `<div class=\"error\" style=\"color:red;\">${err}</div>`;\n",
       "      throw err;\n",
       "    }\n",
       "\n",
       "    function displayChart(vegaEmbed) {\n",
       "      vegaEmbed(outputDiv, spec, embedOpt)\n",
       "        .catch(err => showError(`Javascript Error: ${err.message}<br>This usually means there's a typo in your chart specification. See the javascript console for the full traceback.`));\n",
       "    }\n",
       "\n",
       "    if(typeof define === \"function\" && define.amd) {\n",
       "      requirejs.config({paths});\n",
       "      require([\"vega-embed\"], displayChart, err => showError(`Error loading script: ${err.message}`));\n",
       "    } else {\n",
       "      maybeLoadScript(\"vega\", \"5\")\n",
       "        .then(() => maybeLoadScript(\"vega-lite\", \"4.17.0\"))\n",
       "        .then(() => maybeLoadScript(\"vega-embed\", \"6\"))\n",
       "        .catch(showError)\n",
       "        .then(() => displayChart(vegaEmbed));\n",
       "    }\n",
       "  })({\"config\": {\"view\": {\"continuousWidth\": 400, \"continuousHeight\": 300, \"stroke\": null}, \"facet\": {\"spacing\": 0}}, \"data\": {\"name\": \"data-2b61282e904da688a7865617d21503cc\"}, \"facet\": {\"column\": {\"field\": \"route_id\", \"sort\": [\"S\", \"W\", \"E\"], \"title\": \"Route ID\", \"type\": \"nominal\"}}, \"spec\": {\"layer\": [{\"mark\": {\"type\": \"point\", \"opacity\": 0.65, \"size\": 12, \"strokeWidth\": 1.1}, \"encoding\": {\"color\": {\"field\": \"time_of_day\", \"scale\": {\"range\": [\"#136C97\", \"#E16B26\", \"#F6BF16\", \"#00896B\", \"#7790A3\", \"#5B559C\"]}, \"sort\": [\"AM Peak\", \"Midday\", \"PM Peak\", \"Owl Service\"], \"title\": \"Time of Day\", \"type\": \"nominal\"}, \"tooltip\": [{\"field\": \"route_id\", \"type\": \"nominal\"}, {\"field\": \"trip_id\", \"type\": \"nominal\"}, {\"field\": \"service_hours\", \"type\": \"quantitative\"}, {\"field\": \"car_duration_hours\", \"type\": \"quantitative\"}, {\"field\": \"bus_multiplier\", \"type\": \"quantitative\"}, {\"field\": \"bus_difference\", \"type\": \"quantitative\"}, {\"field\": \"num_trips\", \"type\": \"quantitative\"}, {\"field\": \"num_competitive\", \"type\": \"quantitative\"}, {\"field\": \"pct_trips_competitive\", \"type\": \"quantitative\"}, {\"field\": \"p25\", \"type\": \"quantitative\"}, {\"field\": \"p50\", \"type\": \"quantitative\"}, {\"field\": \"p75\", \"type\": \"quantitative\"}], \"x\": {\"axis\": {\"grid\": false, \"labels\": false, \"ticks\": true, \"values\": [0]}, \"field\": \"jitter\", \"scale\": {}, \"title\": null, \"type\": \"quantitative\"}, \"y\": {\"field\": \"bus_multiplier\", \"scale\": {\"domain\": [-0.25, 2.5]}, \"title\": \"Ratio of Bus to Car Travel Time\", \"type\": \"quantitative\"}}, \"selection\": {\"selector001\": {\"type\": \"interval\", \"bind\": \"scales\", \"encodings\": [\"x\", \"y\"]}}, \"transform\": [{\"calculate\": \"sqrt(-2*log(random()))*cos(2*PI*random())\", \"as\": \"jitter\"}], \"width\": 60}, {\"layer\": [{\"mark\": {\"type\": \"point\", \"opacity\": 0.6, \"size\": 20, \"strokeWidth\": 1.3}, \"encoding\": {\"color\": {\"value\": \"#323434\"}, \"y\": {\"field\": \"bus_multiplier\", \"type\": \"quantitative\"}}, \"transform\": [{\"filter\": \"(datum.p50_trip === 1)\"}]}, {\"mark\": {\"type\": \"rule\", \"strokeDash\": [2, 3]}, \"encoding\": {\"color\": {\"value\": \"#323434\"}, \"y\": {\"field\": \"cutoff\", \"type\": \"quantitative\"}}}, {\"mark\": {\"type\": \"text\", \"align\": \"center\", \"baseline\": \"middle\"}, \"encoding\": {\"color\": {\"value\": \"black\"}, \"text\": {\"field\": \"pct_trips_competitive\", \"format\": \".0%\", \"type\": \"quantitative\"}, \"tooltip\": [{\"field\": \"route_id\", \"type\": \"nominal\"}, {\"field\": \"trip_id\", \"type\": \"nominal\"}, {\"field\": \"service_hours\", \"type\": \"quantitative\"}, {\"field\": \"car_duration_hours\", \"type\": \"quantitative\"}, {\"field\": \"bus_multiplier\", \"type\": \"quantitative\"}, {\"field\": \"bus_difference\", \"type\": \"quantitative\"}, {\"field\": \"num_trips\", \"type\": \"quantitative\"}, {\"field\": \"num_competitive\", \"type\": \"quantitative\"}, {\"field\": \"pct_trips_competitive\", \"type\": \"quantitative\"}, {\"field\": \"p25\", \"type\": \"quantitative\"}, {\"field\": \"p50\", \"type\": \"quantitative\"}, {\"field\": \"p75\", \"type\": \"quantitative\"}], \"x\": {\"value\": 30}, \"y\": {\"value\": 15}}, \"transform\": [{\"calculate\": \"sqrt(-2*log(random()))*cos(2*PI*random())\", \"as\": \"jitter\"}, {\"filter\": \"(datum.fastest_trip === 1)\"}]}]}]}, \"resolve\": {\"scale\": {\"y\": \"shared\"}}, \"title\": \"Ratio of Bus to Car Travel Time\", \"$schema\": \"https://vega.github.io/schema/vega-lite/v4.17.0.json\", \"datasets\": {\"data-2b61282e904da688a7865617d21503cc\": [{\"calitp_itp_id\": 218, \"trip_key\": 4979161415031049599, \"trip_id\": \"E_3\", \"shape_id\": \"p_1277128\", \"route_id\": \"E\", \"service_hours\": 0.45, \"trip_first_departure_ts\": 50400, \"trip_last_arrival_ts\": 52020, \"departure_hour\": 14, \"time_of_day\": \"Midday\", \"p25\": 0.45, \"p50\": 0.45, \"p75\": 0.45, \"p50_trip\": 1, \"fastest_trip\": 1, \"car_duration_hours\": 0.35, \"competitive_route\": 1, \"bus_multiplier\": 1.29, \"bus_difference\": 6.0, \"num_trips\": 3, \"num_competitive\": 3, \"pct_trips_competitive\": 1.0, \"bus_difference_spread\": 0.0, \"route_group\": \"short\", \"max_trip_hrs\": 0.45, \"max_trip_route_group\": 0.58, \"name\": \"Napa Valley Transportation Authority\", \"caltrans_district\": \"04 - Oakland\", \"drmt_organization_name\": \"['recHtk7XryNwJBqw8']\", \"cutoff2\": 20, \"cutoff\": 2}, {\"calitp_itp_id\": 218, \"trip_key\": 756346467473088131, \"trip_id\": \"E_1\", \"shape_id\": \"p_1277128\", \"route_id\": \"E\", \"service_hours\": 0.45, \"trip_first_departure_ts\": 28800, \"trip_last_arrival_ts\": 30420, \"departure_hour\": 8, \"time_of_day\": \"AM Peak\", \"p25\": 0.45, \"p50\": 0.45, \"p75\": 0.45, \"p50_trip\": 1, \"fastest_trip\": 0, \"car_duration_hours\": 0.35, \"competitive_route\": 1, \"bus_multiplier\": 1.29, \"bus_difference\": 6.0, \"num_trips\": 3, \"num_competitive\": 3, \"pct_trips_competitive\": 1.0, \"bus_difference_spread\": 0.0, \"route_group\": \"short\", \"max_trip_hrs\": 0.45, \"max_trip_route_group\": 0.58, \"name\": \"Napa Valley Transportation Authority\", \"caltrans_district\": \"04 - Oakland\", \"drmt_organization_name\": \"['recHtk7XryNwJBqw8']\", \"cutoff2\": 20, \"cutoff\": 2}, {\"calitp_itp_id\": 218, \"trip_key\": -4374772136717314480, \"trip_id\": \"E_2\", \"shape_id\": \"p_1277128\", \"route_id\": \"E\", \"service_hours\": 0.45, \"trip_first_departure_ts\": 30600, \"trip_last_arrival_ts\": 32220, \"departure_hour\": 8, \"time_of_day\": \"AM Peak\", \"p25\": 0.45, \"p50\": 0.45, \"p75\": 0.45, \"p50_trip\": 1, \"fastest_trip\": 0, \"car_duration_hours\": 0.35, \"competitive_route\": 1, \"bus_multiplier\": 1.29, \"bus_difference\": 6.0, \"num_trips\": 3, \"num_competitive\": 3, \"pct_trips_competitive\": 1.0, \"bus_difference_spread\": 0.0, \"route_group\": \"short\", \"max_trip_hrs\": 0.45, \"max_trip_route_group\": 0.58, \"name\": \"Napa Valley Transportation Authority\", \"caltrans_district\": \"04 - Oakland\", \"drmt_organization_name\": \"['recHtk7XryNwJBqw8']\", \"cutoff2\": 20, \"cutoff\": 2}, {\"calitp_itp_id\": 218, \"trip_key\": 5273834639183780751, \"trip_id\": \"S_20\", \"shape_id\": \"p_1304060\", \"route_id\": \"S\", \"service_hours\": 0.22, \"trip_first_departure_ts\": 46740, \"trip_last_arrival_ts\": 47520, \"departure_hour\": 12, \"time_of_day\": \"Midday\", \"p25\": 0.22, \"p50\": 0.225, \"p75\": 0.23, \"p50_trip\": 1, \"fastest_trip\": 0, \"car_duration_hours\": 0.18, \"competitive_route\": 1, \"bus_multiplier\": 1.22, \"bus_difference\": 2.4, \"num_trips\": 32, \"num_competitive\": 32, \"pct_trips_competitive\": 1.0, \"bus_difference_spread\": 0.6, \"route_group\": \"short\", \"max_trip_hrs\": 0.23, \"max_trip_route_group\": 0.58, \"name\": \"Napa Valley Transportation Authority\", \"caltrans_district\": \"04 - Oakland\", \"drmt_organization_name\": \"['recHtk7XryNwJBqw8']\", \"cutoff2\": 20, \"cutoff\": 2}, {\"calitp_itp_id\": 218, \"trip_key\": 4832229717760358204, \"trip_id\": \"S_30\", \"shape_id\": \"p_1304060\", \"route_id\": \"S\", \"service_hours\": 0.22, \"trip_first_departure_ts\": 60240, \"trip_last_arrival_ts\": 61020, \"departure_hour\": 16, \"time_of_day\": \"Midday\", \"p25\": 0.22, \"p50\": 0.225, \"p75\": 0.23, \"p50_trip\": 1, \"fastest_trip\": 0, \"car_duration_hours\": 0.18, \"competitive_route\": 1, \"bus_multiplier\": 1.22, \"bus_difference\": 2.4, \"num_trips\": 32, \"num_competitive\": 32, \"pct_trips_competitive\": 1.0, \"bus_difference_spread\": 0.6, \"route_group\": \"short\", \"max_trip_hrs\": 0.23, \"max_trip_route_group\": 0.58, \"name\": \"Napa Valley Transportation Authority\", \"caltrans_district\": \"04 - Oakland\", \"drmt_organization_name\": \"['recHtk7XryNwJBqw8']\", \"cutoff2\": 20, \"cutoff\": 2}, {\"calitp_itp_id\": 218, \"trip_key\": -6298595035467624573, \"trip_id\": \"S_26\", \"shape_id\": \"p_1304060\", \"route_id\": \"S\", \"service_hours\": 0.22, \"trip_first_departure_ts\": 54840, \"trip_last_arrival_ts\": 55620, \"departure_hour\": 15, \"time_of_day\": \"Midday\", \"p25\": 0.22, \"p50\": 0.225, \"p75\": 0.23, \"p50_trip\": 1, \"fastest_trip\": 0, \"car_duration_hours\": 0.18, \"competitive_route\": 1, \"bus_multiplier\": 1.22, \"bus_difference\": 2.4, \"num_trips\": 32, \"num_competitive\": 32, \"pct_trips_competitive\": 1.0, \"bus_difference_spread\": 0.6, \"route_group\": \"short\", \"max_trip_hrs\": 0.23, \"max_trip_route_group\": 0.58, \"name\": \"Napa Valley Transportation Authority\", \"caltrans_district\": \"04 - Oakland\", \"drmt_organization_name\": \"['recHtk7XryNwJBqw8']\", \"cutoff2\": 20, \"cutoff\": 2}, {\"calitp_itp_id\": 218, \"trip_key\": 8253586266971033516, \"trip_id\": \"S_18\", \"shape_id\": \"p_1304060\", \"route_id\": \"S\", \"service_hours\": 0.22, \"trip_first_departure_ts\": 44040, \"trip_last_arrival_ts\": 44820, \"departure_hour\": 12, \"time_of_day\": \"Midday\", \"p25\": 0.22, \"p50\": 0.225, \"p75\": 0.23, \"p50_trip\": 1, \"fastest_trip\": 0, \"car_duration_hours\": 0.18, \"competitive_route\": 1, \"bus_multiplier\": 1.22, \"bus_difference\": 2.4, \"num_trips\": 32, \"num_competitive\": 32, \"pct_trips_competitive\": 1.0, \"bus_difference_spread\": 0.6, \"route_group\": \"short\", \"max_trip_hrs\": 0.23, \"max_trip_route_group\": 0.58, \"name\": \"Napa Valley Transportation Authority\", \"caltrans_district\": \"04 - Oakland\", \"drmt_organization_name\": \"['recHtk7XryNwJBqw8']\", \"cutoff2\": 20, \"cutoff\": 2}, {\"calitp_itp_id\": 218, \"trip_key\": 4199692397161534965, \"trip_id\": \"S_16\", \"shape_id\": \"p_1304060\", \"route_id\": \"S\", \"service_hours\": 0.22, \"trip_first_departure_ts\": 41340, \"trip_last_arrival_ts\": 42120, \"departure_hour\": 11, \"time_of_day\": \"Midday\", \"p25\": 0.22, \"p50\": 0.225, \"p75\": 0.23, \"p50_trip\": 1, \"fastest_trip\": 0, \"car_duration_hours\": 0.18, \"competitive_route\": 1, \"bus_multiplier\": 1.22, \"bus_difference\": 2.4, \"num_trips\": 32, \"num_competitive\": 32, \"pct_trips_competitive\": 1.0, \"bus_difference_spread\": 0.6, \"route_group\": \"short\", \"max_trip_hrs\": 0.23, \"max_trip_route_group\": 0.58, \"name\": \"Napa Valley Transportation Authority\", \"caltrans_district\": \"04 - Oakland\", \"drmt_organization_name\": \"['recHtk7XryNwJBqw8']\", \"cutoff2\": 20, \"cutoff\": 2}, {\"calitp_itp_id\": 218, \"trip_key\": -5388539815113052388, \"trip_id\": \"S_28\", \"shape_id\": \"p_1304060\", \"route_id\": \"S\", \"service_hours\": 0.22, \"trip_first_departure_ts\": 57540, \"trip_last_arrival_ts\": 58320, \"departure_hour\": 15, \"time_of_day\": \"Midday\", \"p25\": 0.22, \"p50\": 0.225, \"p75\": 0.23, \"p50_trip\": 1, \"fastest_trip\": 0, \"car_duration_hours\": 0.18, \"competitive_route\": 1, \"bus_multiplier\": 1.22, \"bus_difference\": 2.4, \"num_trips\": 32, \"num_competitive\": 32, \"pct_trips_competitive\": 1.0, \"bus_difference_spread\": 0.6, \"route_group\": \"short\", \"max_trip_hrs\": 0.23, \"max_trip_route_group\": 0.58, \"name\": \"Napa Valley Transportation Authority\", \"caltrans_district\": \"04 - Oakland\", \"drmt_organization_name\": \"['recHtk7XryNwJBqw8']\", \"cutoff2\": 20, \"cutoff\": 2}, {\"calitp_itp_id\": 218, \"trip_key\": -6758973867514427937, \"trip_id\": \"S_22\", \"shape_id\": \"p_1304060\", \"route_id\": \"S\", \"service_hours\": 0.22, \"trip_first_departure_ts\": 49440, \"trip_last_arrival_ts\": 50220, \"departure_hour\": 13, \"time_of_day\": \"Midday\", \"p25\": 0.22, \"p50\": 0.225, \"p75\": 0.23, \"p50_trip\": 1, \"fastest_trip\": 0, \"car_duration_hours\": 0.18, \"competitive_route\": 1, \"bus_multiplier\": 1.22, \"bus_difference\": 2.4, \"num_trips\": 32, \"num_competitive\": 32, \"pct_trips_competitive\": 1.0, \"bus_difference_spread\": 0.6, \"route_group\": \"short\", \"max_trip_hrs\": 0.23, \"max_trip_route_group\": 0.58, \"name\": \"Napa Valley Transportation Authority\", \"caltrans_district\": \"04 - Oakland\", \"drmt_organization_name\": \"['recHtk7XryNwJBqw8']\", \"cutoff2\": 20, \"cutoff\": 2}, {\"calitp_itp_id\": 218, \"trip_key\": -5730694484799980609, \"trip_id\": \"S_10\", \"shape_id\": \"p_1304060\", \"route_id\": \"S\", \"service_hours\": 0.22, \"trip_first_departure_ts\": 33240, \"trip_last_arrival_ts\": 34020, \"departure_hour\": 9, \"time_of_day\": \"AM Peak\", \"p25\": 0.22, \"p50\": 0.225, \"p75\": 0.23, \"p50_trip\": 1, \"fastest_trip\": 0, \"car_duration_hours\": 0.18, \"competitive_route\": 1, \"bus_multiplier\": 1.22, \"bus_difference\": 2.4, \"num_trips\": 32, \"num_competitive\": 32, \"pct_trips_competitive\": 1.0, \"bus_difference_spread\": 0.6, \"route_group\": \"short\", \"max_trip_hrs\": 0.23, \"max_trip_route_group\": 0.58, \"name\": \"Napa Valley Transportation Authority\", \"caltrans_district\": \"04 - Oakland\", \"drmt_organization_name\": \"['recHtk7XryNwJBqw8']\", \"cutoff2\": 20, \"cutoff\": 2}, {\"calitp_itp_id\": 218, \"trip_key\": 3750829870136996179, \"trip_id\": \"S_8\", \"shape_id\": \"p_1304060\", \"route_id\": \"S\", \"service_hours\": 0.22, \"trip_first_departure_ts\": 30540, \"trip_last_arrival_ts\": 31320, \"departure_hour\": 8, \"time_of_day\": \"AM Peak\", \"p25\": 0.22, \"p50\": 0.225, \"p75\": 0.23, \"p50_trip\": 1, \"fastest_trip\": 0, \"car_duration_hours\": 0.18, \"competitive_route\": 1, \"bus_multiplier\": 1.22, \"bus_difference\": 2.4, \"num_trips\": 32, \"num_competitive\": 32, \"pct_trips_competitive\": 1.0, \"bus_difference_spread\": 0.6, \"route_group\": \"short\", \"max_trip_hrs\": 0.23, \"max_trip_route_group\": 0.58, \"name\": \"Napa Valley Transportation Authority\", \"caltrans_district\": \"04 - Oakland\", \"drmt_organization_name\": \"['recHtk7XryNwJBqw8']\", \"cutoff2\": 20, \"cutoff\": 2}, {\"calitp_itp_id\": 218, \"trip_key\": 3920744832367513607, \"trip_id\": \"S_24\", \"shape_id\": \"p_1304060\", \"route_id\": \"S\", \"service_hours\": 0.22, \"trip_first_departure_ts\": 52140, \"trip_last_arrival_ts\": 52920, \"departure_hour\": 14, \"time_of_day\": \"Midday\", \"p25\": 0.22, \"p50\": 0.225, \"p75\": 0.23, \"p50_trip\": 1, \"fastest_trip\": 0, \"car_duration_hours\": 0.18, \"competitive_route\": 1, \"bus_multiplier\": 1.22, \"bus_difference\": 2.4, \"num_trips\": 32, \"num_competitive\": 32, \"pct_trips_competitive\": 1.0, \"bus_difference_spread\": 0.6, \"route_group\": \"short\", \"max_trip_hrs\": 0.23, \"max_trip_route_group\": 0.58, \"name\": \"Napa Valley Transportation Authority\", \"caltrans_district\": \"04 - Oakland\", \"drmt_organization_name\": \"['recHtk7XryNwJBqw8']\", \"cutoff2\": 20, \"cutoff\": 2}, {\"calitp_itp_id\": 218, \"trip_key\": -7980882686859550790, \"trip_id\": \"S_14\", \"shape_id\": \"p_1304060\", \"route_id\": \"S\", \"service_hours\": 0.22, \"trip_first_departure_ts\": 38640, \"trip_last_arrival_ts\": 39420, \"departure_hour\": 10, \"time_of_day\": \"Midday\", \"p25\": 0.22, \"p50\": 0.225, \"p75\": 0.23, \"p50_trip\": 1, \"fastest_trip\": 0, \"car_duration_hours\": 0.18, \"competitive_route\": 1, \"bus_multiplier\": 1.22, \"bus_difference\": 2.4, \"num_trips\": 32, \"num_competitive\": 32, \"pct_trips_competitive\": 1.0, \"bus_difference_spread\": 0.6, \"route_group\": \"short\", \"max_trip_hrs\": 0.23, \"max_trip_route_group\": 0.58, \"name\": \"Napa Valley Transportation Authority\", \"caltrans_district\": \"04 - Oakland\", \"drmt_organization_name\": \"['recHtk7XryNwJBqw8']\", \"cutoff2\": 20, \"cutoff\": 2}, {\"calitp_itp_id\": 218, \"trip_key\": -6922201167772606406, \"trip_id\": \"S_4\", \"shape_id\": \"p_1304060\", \"route_id\": \"S\", \"service_hours\": 0.22, \"trip_first_departure_ts\": 25140, \"trip_last_arrival_ts\": 25920, \"departure_hour\": 6, \"time_of_day\": \"Owl Service\", \"p25\": 0.22, \"p50\": 0.225, \"p75\": 0.23, \"p50_trip\": 1, \"fastest_trip\": 0, \"car_duration_hours\": 0.18, \"competitive_route\": 1, \"bus_multiplier\": 1.22, \"bus_difference\": 2.4, \"num_trips\": 32, \"num_competitive\": 32, \"pct_trips_competitive\": 1.0, \"bus_difference_spread\": 0.6, \"route_group\": \"short\", \"max_trip_hrs\": 0.23, \"max_trip_route_group\": 0.58, \"name\": \"Napa Valley Transportation Authority\", \"caltrans_district\": \"04 - Oakland\", \"drmt_organization_name\": \"['recHtk7XryNwJBqw8']\", \"cutoff2\": 20, \"cutoff\": 2}, {\"calitp_itp_id\": 218, \"trip_key\": -5966485970753861612, \"trip_id\": \"S_2\", \"shape_id\": \"p_1304060\", \"route_id\": \"S\", \"service_hours\": 0.22, \"trip_first_departure_ts\": 22440, \"trip_last_arrival_ts\": 23220, \"departure_hour\": 6, \"time_of_day\": \"Owl Service\", \"p25\": 0.22, \"p50\": 0.225, \"p75\": 0.23, \"p50_trip\": 1, \"fastest_trip\": 0, \"car_duration_hours\": 0.18, \"competitive_route\": 1, \"bus_multiplier\": 1.22, \"bus_difference\": 2.4, \"num_trips\": 32, \"num_competitive\": 32, \"pct_trips_competitive\": 1.0, \"bus_difference_spread\": 0.6, \"route_group\": \"short\", \"max_trip_hrs\": 0.23, \"max_trip_route_group\": 0.58, \"name\": \"Napa Valley Transportation Authority\", \"caltrans_district\": \"04 - Oakland\", \"drmt_organization_name\": \"['recHtk7XryNwJBqw8']\", \"cutoff2\": 20, \"cutoff\": 2}, {\"calitp_itp_id\": 218, \"trip_key\": 469584231188076621, \"trip_id\": \"S_12\", \"shape_id\": \"p_1304060\", \"route_id\": \"S\", \"service_hours\": 0.22, \"trip_first_departure_ts\": 35940, \"trip_last_arrival_ts\": 36720, \"departure_hour\": 9, \"time_of_day\": \"AM Peak\", \"p25\": 0.22, \"p50\": 0.225, \"p75\": 0.23, \"p50_trip\": 1, \"fastest_trip\": 0, \"car_duration_hours\": 0.18, \"competitive_route\": 1, \"bus_multiplier\": 1.22, \"bus_difference\": 2.4, \"num_trips\": 32, \"num_competitive\": 32, \"pct_trips_competitive\": 1.0, \"bus_difference_spread\": 0.6, \"route_group\": \"short\", \"max_trip_hrs\": 0.23, \"max_trip_route_group\": 0.58, \"name\": \"Napa Valley Transportation Authority\", \"caltrans_district\": \"04 - Oakland\", \"drmt_organization_name\": \"['recHtk7XryNwJBqw8']\", \"cutoff2\": 20, \"cutoff\": 2}, {\"calitp_itp_id\": 218, \"trip_key\": -5760214438432048632, \"trip_id\": \"S_32\", \"shape_id\": \"p_1304060\", \"route_id\": \"S\", \"service_hours\": 0.22, \"trip_first_departure_ts\": 62940, \"trip_last_arrival_ts\": 63720, \"departure_hour\": 17, \"time_of_day\": \"PM Peak\", \"p25\": 0.22, \"p50\": 0.225, \"p75\": 0.23, \"p50_trip\": 1, \"fastest_trip\": 1, \"car_duration_hours\": 0.18, \"competitive_route\": 1, \"bus_multiplier\": 1.22, \"bus_difference\": 2.4, \"num_trips\": 32, \"num_competitive\": 32, \"pct_trips_competitive\": 1.0, \"bus_difference_spread\": 0.6, \"route_group\": \"short\", \"max_trip_hrs\": 0.23, \"max_trip_route_group\": 0.58, \"name\": \"Napa Valley Transportation Authority\", \"caltrans_district\": \"04 - Oakland\", \"drmt_organization_name\": \"['recHtk7XryNwJBqw8']\", \"cutoff2\": 20, \"cutoff\": 2}, {\"calitp_itp_id\": 218, \"trip_key\": 6019321577007650333, \"trip_id\": \"S_6\", \"shape_id\": \"p_1304060\", \"route_id\": \"S\", \"service_hours\": 0.22, \"trip_first_departure_ts\": 27840, \"trip_last_arrival_ts\": 28620, \"departure_hour\": 7, \"time_of_day\": \"AM Peak\", \"p25\": 0.22, \"p50\": 0.225, \"p75\": 0.23, \"p50_trip\": 1, \"fastest_trip\": 0, \"car_duration_hours\": 0.18, \"competitive_route\": 1, \"bus_multiplier\": 1.22, \"bus_difference\": 2.4, \"num_trips\": 32, \"num_competitive\": 32, \"pct_trips_competitive\": 1.0, \"bus_difference_spread\": 0.6, \"route_group\": \"short\", \"max_trip_hrs\": 0.23, \"max_trip_route_group\": 0.58, \"name\": \"Napa Valley Transportation Authority\", \"caltrans_district\": \"04 - Oakland\", \"drmt_organization_name\": \"['recHtk7XryNwJBqw8']\", \"cutoff2\": 20, \"cutoff\": 2}, {\"calitp_itp_id\": 218, \"trip_key\": 3946383608334061099, \"trip_id\": \"S_29\", \"shape_id\": \"p_1275150\", \"route_id\": \"S\", \"service_hours\": 0.23, \"trip_first_departure_ts\": 59400, \"trip_last_arrival_ts\": 60240, \"departure_hour\": 16, \"time_of_day\": \"Midday\", \"p25\": 0.22, \"p50\": 0.225, \"p75\": 0.23, \"p50_trip\": 1, \"fastest_trip\": 0, \"car_duration_hours\": 0.18, \"competitive_route\": 1, \"bus_multiplier\": 1.28, \"bus_difference\": 3.0, \"num_trips\": 32, \"num_competitive\": 32, \"pct_trips_competitive\": 1.0, \"bus_difference_spread\": 0.6, \"route_group\": \"short\", \"max_trip_hrs\": 0.23, \"max_trip_route_group\": 0.58, \"name\": \"Napa Valley Transportation Authority\", \"caltrans_district\": \"04 - Oakland\", \"drmt_organization_name\": \"['recHtk7XryNwJBqw8']\", \"cutoff2\": 20, \"cutoff\": 2}, {\"calitp_itp_id\": 218, \"trip_key\": 6415393465280269518, \"trip_id\": \"S_31\", \"shape_id\": \"p_1275150\", \"route_id\": \"S\", \"service_hours\": 0.23, \"trip_first_departure_ts\": 62100, \"trip_last_arrival_ts\": 62940, \"departure_hour\": 17, \"time_of_day\": \"PM Peak\", \"p25\": 0.22, \"p50\": 0.225, \"p75\": 0.23, \"p50_trip\": 1, \"fastest_trip\": 0, \"car_duration_hours\": 0.18, \"competitive_route\": 1, \"bus_multiplier\": 1.28, \"bus_difference\": 3.0, \"num_trips\": 32, \"num_competitive\": 32, \"pct_trips_competitive\": 1.0, \"bus_difference_spread\": 0.6, \"route_group\": \"short\", \"max_trip_hrs\": 0.23, \"max_trip_route_group\": 0.58, \"name\": \"Napa Valley Transportation Authority\", \"caltrans_district\": \"04 - Oakland\", \"drmt_organization_name\": \"['recHtk7XryNwJBqw8']\", \"cutoff2\": 20, \"cutoff\": 2}, {\"calitp_itp_id\": 218, \"trip_key\": -898301707583043175, \"trip_id\": \"S_13\", \"shape_id\": \"p_1275150\", \"route_id\": \"S\", \"service_hours\": 0.23, \"trip_first_departure_ts\": 37800, \"trip_last_arrival_ts\": 38640, \"departure_hour\": 10, \"time_of_day\": \"Midday\", \"p25\": 0.22, \"p50\": 0.225, \"p75\": 0.23, \"p50_trip\": 1, \"fastest_trip\": 0, \"car_duration_hours\": 0.18, \"competitive_route\": 1, \"bus_multiplier\": 1.28, \"bus_difference\": 3.0, \"num_trips\": 32, \"num_competitive\": 32, \"pct_trips_competitive\": 1.0, \"bus_difference_spread\": 0.6, \"route_group\": \"short\", \"max_trip_hrs\": 0.23, \"max_trip_route_group\": 0.58, \"name\": \"Napa Valley Transportation Authority\", \"caltrans_district\": \"04 - Oakland\", \"drmt_organization_name\": \"['recHtk7XryNwJBqw8']\", \"cutoff2\": 20, \"cutoff\": 2}, {\"calitp_itp_id\": 218, \"trip_key\": 3852811942780182898, \"trip_id\": \"S_17\", \"shape_id\": \"p_1275150\", \"route_id\": \"S\", \"service_hours\": 0.23, \"trip_first_departure_ts\": 43200, \"trip_last_arrival_ts\": 44040, \"departure_hour\": 12, \"time_of_day\": \"Midday\", \"p25\": 0.22, \"p50\": 0.225, \"p75\": 0.23, \"p50_trip\": 1, \"fastest_trip\": 0, \"car_duration_hours\": 0.18, \"competitive_route\": 1, \"bus_multiplier\": 1.28, \"bus_difference\": 3.0, \"num_trips\": 32, \"num_competitive\": 32, \"pct_trips_competitive\": 1.0, \"bus_difference_spread\": 0.6, \"route_group\": \"short\", \"max_trip_hrs\": 0.23, \"max_trip_route_group\": 0.58, \"name\": \"Napa Valley Transportation Authority\", \"caltrans_district\": \"04 - Oakland\", \"drmt_organization_name\": \"['recHtk7XryNwJBqw8']\", \"cutoff2\": 20, \"cutoff\": 2}, {\"calitp_itp_id\": 218, \"trip_key\": 2841048405869262774, \"trip_id\": \"S_9\", \"shape_id\": \"p_1275150\", \"route_id\": \"S\", \"service_hours\": 0.23, \"trip_first_departure_ts\": 32400, \"trip_last_arrival_ts\": 33240, \"departure_hour\": 9, \"time_of_day\": \"AM Peak\", \"p25\": 0.22, \"p50\": 0.225, \"p75\": 0.23, \"p50_trip\": 1, \"fastest_trip\": 0, \"car_duration_hours\": 0.18, \"competitive_route\": 1, \"bus_multiplier\": 1.28, \"bus_difference\": 3.0, \"num_trips\": 32, \"num_competitive\": 32, \"pct_trips_competitive\": 1.0, \"bus_difference_spread\": 0.6, \"route_group\": \"short\", \"max_trip_hrs\": 0.23, \"max_trip_route_group\": 0.58, \"name\": \"Napa Valley Transportation Authority\", \"caltrans_district\": \"04 - Oakland\", \"drmt_organization_name\": \"['recHtk7XryNwJBqw8']\", \"cutoff2\": 20, \"cutoff\": 2}, {\"calitp_itp_id\": 218, \"trip_key\": -8858410662202397276, \"trip_id\": \"S_11\", \"shape_id\": \"p_1275150\", \"route_id\": \"S\", \"service_hours\": 0.23, \"trip_first_departure_ts\": 35100, \"trip_last_arrival_ts\": 35940, \"departure_hour\": 9, \"time_of_day\": \"AM Peak\", \"p25\": 0.22, \"p50\": 0.225, \"p75\": 0.23, \"p50_trip\": 1, \"fastest_trip\": 0, \"car_duration_hours\": 0.18, \"competitive_route\": 1, \"bus_multiplier\": 1.28, \"bus_difference\": 3.0, \"num_trips\": 32, \"num_competitive\": 32, \"pct_trips_competitive\": 1.0, \"bus_difference_spread\": 0.6, \"route_group\": \"short\", \"max_trip_hrs\": 0.23, \"max_trip_route_group\": 0.58, \"name\": \"Napa Valley Transportation Authority\", \"caltrans_district\": \"04 - Oakland\", \"drmt_organization_name\": \"['recHtk7XryNwJBqw8']\", \"cutoff2\": 20, \"cutoff\": 2}, {\"calitp_itp_id\": 218, \"trip_key\": 564062817660613740, \"trip_id\": \"S_25\", \"shape_id\": \"p_1275150\", \"route_id\": \"S\", \"service_hours\": 0.23, \"trip_first_departure_ts\": 54000, \"trip_last_arrival_ts\": 54840, \"departure_hour\": 15, \"time_of_day\": \"Midday\", \"p25\": 0.22, \"p50\": 0.225, \"p75\": 0.23, \"p50_trip\": 1, \"fastest_trip\": 0, \"car_duration_hours\": 0.18, \"competitive_route\": 1, \"bus_multiplier\": 1.28, \"bus_difference\": 3.0, \"num_trips\": 32, \"num_competitive\": 32, \"pct_trips_competitive\": 1.0, \"bus_difference_spread\": 0.6, \"route_group\": \"short\", \"max_trip_hrs\": 0.23, \"max_trip_route_group\": 0.58, \"name\": \"Napa Valley Transportation Authority\", \"caltrans_district\": \"04 - Oakland\", \"drmt_organization_name\": \"['recHtk7XryNwJBqw8']\", \"cutoff2\": 20, \"cutoff\": 2}, {\"calitp_itp_id\": 218, \"trip_key\": 6849345270517750663, \"trip_id\": \"S_19\", \"shape_id\": \"p_1275150\", \"route_id\": \"S\", \"service_hours\": 0.23, \"trip_first_departure_ts\": 45900, \"trip_last_arrival_ts\": 46740, \"departure_hour\": 12, \"time_of_day\": \"Midday\", \"p25\": 0.22, \"p50\": 0.225, \"p75\": 0.23, \"p50_trip\": 1, \"fastest_trip\": 0, \"car_duration_hours\": 0.18, \"competitive_route\": 1, \"bus_multiplier\": 1.28, \"bus_difference\": 3.0, \"num_trips\": 32, \"num_competitive\": 32, \"pct_trips_competitive\": 1.0, \"bus_difference_spread\": 0.6, \"route_group\": \"short\", \"max_trip_hrs\": 0.23, \"max_trip_route_group\": 0.58, \"name\": \"Napa Valley Transportation Authority\", \"caltrans_district\": \"04 - Oakland\", \"drmt_organization_name\": \"['recHtk7XryNwJBqw8']\", \"cutoff2\": 20, \"cutoff\": 2}, {\"calitp_itp_id\": 218, \"trip_key\": -8951832570698890706, \"trip_id\": \"S_23\", \"shape_id\": \"p_1275150\", \"route_id\": \"S\", \"service_hours\": 0.23, \"trip_first_departure_ts\": 51300, \"trip_last_arrival_ts\": 52140, \"departure_hour\": 14, \"time_of_day\": \"Midday\", \"p25\": 0.22, \"p50\": 0.225, \"p75\": 0.23, \"p50_trip\": 1, \"fastest_trip\": 0, \"car_duration_hours\": 0.18, \"competitive_route\": 1, \"bus_multiplier\": 1.28, \"bus_difference\": 3.0, \"num_trips\": 32, \"num_competitive\": 32, \"pct_trips_competitive\": 1.0, \"bus_difference_spread\": 0.6, \"route_group\": \"short\", \"max_trip_hrs\": 0.23, \"max_trip_route_group\": 0.58, \"name\": \"Napa Valley Transportation Authority\", \"caltrans_district\": \"04 - Oakland\", \"drmt_organization_name\": \"['recHtk7XryNwJBqw8']\", \"cutoff2\": 20, \"cutoff\": 2}, {\"calitp_itp_id\": 218, \"trip_key\": -4826908023510968581, \"trip_id\": \"S_7\", \"shape_id\": \"p_1275150\", \"route_id\": \"S\", \"service_hours\": 0.23, \"trip_first_departure_ts\": 29700, \"trip_last_arrival_ts\": 30540, \"departure_hour\": 8, \"time_of_day\": \"AM Peak\", \"p25\": 0.22, \"p50\": 0.225, \"p75\": 0.23, \"p50_trip\": 1, \"fastest_trip\": 0, \"car_duration_hours\": 0.18, \"competitive_route\": 1, \"bus_multiplier\": 1.28, \"bus_difference\": 3.0, \"num_trips\": 32, \"num_competitive\": 32, \"pct_trips_competitive\": 1.0, \"bus_difference_spread\": 0.6, \"route_group\": \"short\", \"max_trip_hrs\": 0.23, \"max_trip_route_group\": 0.58, \"name\": \"Napa Valley Transportation Authority\", \"caltrans_district\": \"04 - Oakland\", \"drmt_organization_name\": \"['recHtk7XryNwJBqw8']\", \"cutoff2\": 20, \"cutoff\": 2}, {\"calitp_itp_id\": 218, \"trip_key\": 6849447605285041150, \"trip_id\": \"S_15\", \"shape_id\": \"p_1275150\", \"route_id\": \"S\", \"service_hours\": 0.23, \"trip_first_departure_ts\": 40500, \"trip_last_arrival_ts\": 41340, \"departure_hour\": 11, \"time_of_day\": \"Midday\", \"p25\": 0.22, \"p50\": 0.225, \"p75\": 0.23, \"p50_trip\": 1, \"fastest_trip\": 0, \"car_duration_hours\": 0.18, \"competitive_route\": 1, \"bus_multiplier\": 1.28, \"bus_difference\": 3.0, \"num_trips\": 32, \"num_competitive\": 32, \"pct_trips_competitive\": 1.0, \"bus_difference_spread\": 0.6, \"route_group\": \"short\", \"max_trip_hrs\": 0.23, \"max_trip_route_group\": 0.58, \"name\": \"Napa Valley Transportation Authority\", \"caltrans_district\": \"04 - Oakland\", \"drmt_organization_name\": \"['recHtk7XryNwJBqw8']\", \"cutoff2\": 20, \"cutoff\": 2}, {\"calitp_itp_id\": 218, \"trip_key\": 6186084533844800786, \"trip_id\": \"S_5\", \"shape_id\": \"p_1275150\", \"route_id\": \"S\", \"service_hours\": 0.23, \"trip_first_departure_ts\": 27000, \"trip_last_arrival_ts\": 27840, \"departure_hour\": 7, \"time_of_day\": \"AM Peak\", \"p25\": 0.22, \"p50\": 0.225, \"p75\": 0.23, \"p50_trip\": 1, \"fastest_trip\": 0, \"car_duration_hours\": 0.18, \"competitive_route\": 1, \"bus_multiplier\": 1.28, \"bus_difference\": 3.0, \"num_trips\": 32, \"num_competitive\": 32, \"pct_trips_competitive\": 1.0, \"bus_difference_spread\": 0.6, \"route_group\": \"short\", \"max_trip_hrs\": 0.23, \"max_trip_route_group\": 0.58, \"name\": \"Napa Valley Transportation Authority\", \"caltrans_district\": \"04 - Oakland\", \"drmt_organization_name\": \"['recHtk7XryNwJBqw8']\", \"cutoff2\": 20, \"cutoff\": 2}, {\"calitp_itp_id\": 218, \"trip_key\": 3444134022924010284, \"trip_id\": \"S_27\", \"shape_id\": \"p_1275150\", \"route_id\": \"S\", \"service_hours\": 0.23, \"trip_first_departure_ts\": 56700, \"trip_last_arrival_ts\": 57540, \"departure_hour\": 15, \"time_of_day\": \"Midday\", \"p25\": 0.22, \"p50\": 0.225, \"p75\": 0.23, \"p50_trip\": 1, \"fastest_trip\": 0, \"car_duration_hours\": 0.18, \"competitive_route\": 1, \"bus_multiplier\": 1.28, \"bus_difference\": 3.0, \"num_trips\": 32, \"num_competitive\": 32, \"pct_trips_competitive\": 1.0, \"bus_difference_spread\": 0.6, \"route_group\": \"short\", \"max_trip_hrs\": 0.23, \"max_trip_route_group\": 0.58, \"name\": \"Napa Valley Transportation Authority\", \"caltrans_district\": \"04 - Oakland\", \"drmt_organization_name\": \"['recHtk7XryNwJBqw8']\", \"cutoff2\": 20, \"cutoff\": 2}, {\"calitp_itp_id\": 218, \"trip_key\": 117077017175651715, \"trip_id\": \"S_3\", \"shape_id\": \"p_1275150\", \"route_id\": \"S\", \"service_hours\": 0.23, \"trip_first_departure_ts\": 24300, \"trip_last_arrival_ts\": 25140, \"departure_hour\": 6, \"time_of_day\": \"Owl Service\", \"p25\": 0.22, \"p50\": 0.225, \"p75\": 0.23, \"p50_trip\": 1, \"fastest_trip\": 0, \"car_duration_hours\": 0.18, \"competitive_route\": 1, \"bus_multiplier\": 1.28, \"bus_difference\": 3.0, \"num_trips\": 32, \"num_competitive\": 32, \"pct_trips_competitive\": 1.0, \"bus_difference_spread\": 0.6, \"route_group\": \"short\", \"max_trip_hrs\": 0.23, \"max_trip_route_group\": 0.58, \"name\": \"Napa Valley Transportation Authority\", \"caltrans_district\": \"04 - Oakland\", \"drmt_organization_name\": \"['recHtk7XryNwJBqw8']\", \"cutoff2\": 20, \"cutoff\": 2}, {\"calitp_itp_id\": 218, \"trip_key\": -1307197537863338316, \"trip_id\": \"S_21\", \"shape_id\": \"p_1275150\", \"route_id\": \"S\", \"service_hours\": 0.23, \"trip_first_departure_ts\": 48600, \"trip_last_arrival_ts\": 49440, \"departure_hour\": 13, \"time_of_day\": \"Midday\", \"p25\": 0.22, \"p50\": 0.225, \"p75\": 0.23, \"p50_trip\": 1, \"fastest_trip\": 0, \"car_duration_hours\": 0.18, \"competitive_route\": 1, \"bus_multiplier\": 1.28, \"bus_difference\": 3.0, \"num_trips\": 32, \"num_competitive\": 32, \"pct_trips_competitive\": 1.0, \"bus_difference_spread\": 0.6, \"route_group\": \"short\", \"max_trip_hrs\": 0.23, \"max_trip_route_group\": 0.58, \"name\": \"Napa Valley Transportation Authority\", \"caltrans_district\": \"04 - Oakland\", \"drmt_organization_name\": \"['recHtk7XryNwJBqw8']\", \"cutoff2\": 20, \"cutoff\": 2}, {\"calitp_itp_id\": 218, \"trip_key\": 1252089223074643823, \"trip_id\": \"S_1\", \"shape_id\": \"p_1275150\", \"route_id\": \"S\", \"service_hours\": 0.23, \"trip_first_departure_ts\": 21600, \"trip_last_arrival_ts\": 22440, \"departure_hour\": 6, \"time_of_day\": \"Owl Service\", \"p25\": 0.22, \"p50\": 0.225, \"p75\": 0.23, \"p50_trip\": 1, \"fastest_trip\": 0, \"car_duration_hours\": 0.18, \"competitive_route\": 1, \"bus_multiplier\": 1.28, \"bus_difference\": 3.0, \"num_trips\": 32, \"num_competitive\": 32, \"pct_trips_competitive\": 1.0, \"bus_difference_spread\": 0.6, \"route_group\": \"short\", \"max_trip_hrs\": 0.23, \"max_trip_route_group\": 0.58, \"name\": \"Napa Valley Transportation Authority\", \"caltrans_district\": \"04 - Oakland\", \"drmt_organization_name\": \"['recHtk7XryNwJBqw8']\", \"cutoff2\": 20, \"cutoff\": 2}, {\"calitp_itp_id\": 218, \"trip_key\": -94141547253695648, \"trip_id\": \"W_11\", \"shape_id\": \"p_1277122\", \"route_id\": \"W\", \"service_hours\": 0.58, \"trip_first_departure_ts\": 48600, \"trip_last_arrival_ts\": 50700, \"departure_hour\": 13, \"time_of_day\": \"Midday\", \"p25\": 0.58, \"p50\": 0.58, \"p75\": 0.58, \"p50_trip\": 1, \"fastest_trip\": 0, \"car_duration_hours\": 0.4, \"competitive_route\": 1, \"bus_multiplier\": 1.45, \"bus_difference\": 10.8, \"num_trips\": 17, \"num_competitive\": 17, \"pct_trips_competitive\": 1.0, \"bus_difference_spread\": 0.0, \"route_group\": \"short\", \"max_trip_hrs\": 0.58, \"max_trip_route_group\": 0.58, \"name\": \"Napa Valley Transportation Authority\", \"caltrans_district\": \"04 - Oakland\", \"drmt_organization_name\": \"['recHtk7XryNwJBqw8']\", \"cutoff2\": 20, \"cutoff\": 2}, {\"calitp_itp_id\": 218, \"trip_key\": 6346328403621228558, \"trip_id\": \"W_10\", \"shape_id\": \"p_1277122\", \"route_id\": \"W\", \"service_hours\": 0.58, \"trip_first_departure_ts\": 45900, \"trip_last_arrival_ts\": 48000, \"departure_hour\": 12, \"time_of_day\": \"Midday\", \"p25\": 0.58, \"p50\": 0.58, \"p75\": 0.58, \"p50_trip\": 1, \"fastest_trip\": 0, \"car_duration_hours\": 0.4, \"competitive_route\": 1, \"bus_multiplier\": 1.45, \"bus_difference\": 10.8, \"num_trips\": 17, \"num_competitive\": 17, \"pct_trips_competitive\": 1.0, \"bus_difference_spread\": 0.0, \"route_group\": \"short\", \"max_trip_hrs\": 0.58, \"max_trip_route_group\": 0.58, \"name\": \"Napa Valley Transportation Authority\", \"caltrans_district\": \"04 - Oakland\", \"drmt_organization_name\": \"['recHtk7XryNwJBqw8']\", \"cutoff2\": 20, \"cutoff\": 2}, {\"calitp_itp_id\": 218, \"trip_key\": -4727860790378388666, \"trip_id\": \"W_7\", \"shape_id\": \"p_1277122\", \"route_id\": \"W\", \"service_hours\": 0.58, \"trip_first_departure_ts\": 37800, \"trip_last_arrival_ts\": 39900, \"departure_hour\": 10, \"time_of_day\": \"Midday\", \"p25\": 0.58, \"p50\": 0.58, \"p75\": 0.58, \"p50_trip\": 1, \"fastest_trip\": 0, \"car_duration_hours\": 0.4, \"competitive_route\": 1, \"bus_multiplier\": 1.45, \"bus_difference\": 10.8, \"num_trips\": 17, \"num_competitive\": 17, \"pct_trips_competitive\": 1.0, \"bus_difference_spread\": 0.0, \"route_group\": \"short\", \"max_trip_hrs\": 0.58, \"max_trip_route_group\": 0.58, \"name\": \"Napa Valley Transportation Authority\", \"caltrans_district\": \"04 - Oakland\", \"drmt_organization_name\": \"['recHtk7XryNwJBqw8']\", \"cutoff2\": 20, \"cutoff\": 2}, {\"calitp_itp_id\": 218, \"trip_key\": 6706676990011948775, \"trip_id\": \"W_13\", \"shape_id\": \"p_1277122\", \"route_id\": \"W\", \"service_hours\": 0.58, \"trip_first_departure_ts\": 54000, \"trip_last_arrival_ts\": 56100, \"departure_hour\": 15, \"time_of_day\": \"Midday\", \"p25\": 0.58, \"p50\": 0.58, \"p75\": 0.58, \"p50_trip\": 1, \"fastest_trip\": 0, \"car_duration_hours\": 0.4, \"competitive_route\": 1, \"bus_multiplier\": 1.45, \"bus_difference\": 10.8, \"num_trips\": 17, \"num_competitive\": 17, \"pct_trips_competitive\": 1.0, \"bus_difference_spread\": 0.0, \"route_group\": \"short\", \"max_trip_hrs\": 0.58, \"max_trip_route_group\": 0.58, \"name\": \"Napa Valley Transportation Authority\", \"caltrans_district\": \"04 - Oakland\", \"drmt_organization_name\": \"['recHtk7XryNwJBqw8']\", \"cutoff2\": 20, \"cutoff\": 2}, {\"calitp_itp_id\": 218, \"trip_key\": -7371555349607676198, \"trip_id\": \"W_9\", \"shape_id\": \"p_1277122\", \"route_id\": \"W\", \"service_hours\": 0.58, \"trip_first_departure_ts\": 43200, \"trip_last_arrival_ts\": 45300, \"departure_hour\": 12, \"time_of_day\": \"Midday\", \"p25\": 0.58, \"p50\": 0.58, \"p75\": 0.58, \"p50_trip\": 1, \"fastest_trip\": 0, \"car_duration_hours\": 0.4, \"competitive_route\": 1, \"bus_multiplier\": 1.45, \"bus_difference\": 10.8, \"num_trips\": 17, \"num_competitive\": 17, \"pct_trips_competitive\": 1.0, \"bus_difference_spread\": 0.0, \"route_group\": \"short\", \"max_trip_hrs\": 0.58, \"max_trip_route_group\": 0.58, \"name\": \"Napa Valley Transportation Authority\", \"caltrans_district\": \"04 - Oakland\", \"drmt_organization_name\": \"['recHtk7XryNwJBqw8']\", \"cutoff2\": 20, \"cutoff\": 2}, {\"calitp_itp_id\": 218, \"trip_key\": 2444351421704894281, \"trip_id\": \"W_3\", \"shape_id\": \"p_1277122\", \"route_id\": \"W\", \"service_hours\": 0.58, \"trip_first_departure_ts\": 27000, \"trip_last_arrival_ts\": 29100, \"departure_hour\": 7, \"time_of_day\": \"AM Peak\", \"p25\": 0.58, \"p50\": 0.58, \"p75\": 0.58, \"p50_trip\": 1, \"fastest_trip\": 0, \"car_duration_hours\": 0.4, \"competitive_route\": 1, \"bus_multiplier\": 1.45, \"bus_difference\": 10.8, \"num_trips\": 17, \"num_competitive\": 17, \"pct_trips_competitive\": 1.0, \"bus_difference_spread\": 0.0, \"route_group\": \"short\", \"max_trip_hrs\": 0.58, \"max_trip_route_group\": 0.58, \"name\": \"Napa Valley Transportation Authority\", \"caltrans_district\": \"04 - Oakland\", \"drmt_organization_name\": \"['recHtk7XryNwJBqw8']\", \"cutoff2\": 20, \"cutoff\": 2}, {\"calitp_itp_id\": 218, \"trip_key\": -2216101001503943654, \"trip_id\": \"W_6\", \"shape_id\": \"p_1277122\", \"route_id\": \"W\", \"service_hours\": 0.58, \"trip_first_departure_ts\": 35100, \"trip_last_arrival_ts\": 37200, \"departure_hour\": 9, \"time_of_day\": \"AM Peak\", \"p25\": 0.58, \"p50\": 0.58, \"p75\": 0.58, \"p50_trip\": 1, \"fastest_trip\": 0, \"car_duration_hours\": 0.4, \"competitive_route\": 1, \"bus_multiplier\": 1.45, \"bus_difference\": 10.8, \"num_trips\": 17, \"num_competitive\": 17, \"pct_trips_competitive\": 1.0, \"bus_difference_spread\": 0.0, \"route_group\": \"short\", \"max_trip_hrs\": 0.58, \"max_trip_route_group\": 0.58, \"name\": \"Napa Valley Transportation Authority\", \"caltrans_district\": \"04 - Oakland\", \"drmt_organization_name\": \"['recHtk7XryNwJBqw8']\", \"cutoff2\": 20, \"cutoff\": 2}, {\"calitp_itp_id\": 218, \"trip_key\": 5255718125921103715, \"trip_id\": \"W_15\", \"shape_id\": \"p_1277122\", \"route_id\": \"W\", \"service_hours\": 0.58, \"trip_first_departure_ts\": 59400, \"trip_last_arrival_ts\": 61500, \"departure_hour\": 16, \"time_of_day\": \"Midday\", \"p25\": 0.58, \"p50\": 0.58, \"p75\": 0.58, \"p50_trip\": 1, \"fastest_trip\": 0, \"car_duration_hours\": 0.4, \"competitive_route\": 1, \"bus_multiplier\": 1.45, \"bus_difference\": 10.8, \"num_trips\": 17, \"num_competitive\": 17, \"pct_trips_competitive\": 1.0, \"bus_difference_spread\": 0.0, \"route_group\": \"short\", \"max_trip_hrs\": 0.58, \"max_trip_route_group\": 0.58, \"name\": \"Napa Valley Transportation Authority\", \"caltrans_district\": \"04 - Oakland\", \"drmt_organization_name\": \"['recHtk7XryNwJBqw8']\", \"cutoff2\": 20, \"cutoff\": 2}, {\"calitp_itp_id\": 218, \"trip_key\": 3791977594952332124, \"trip_id\": \"W_1\", \"shape_id\": \"p_1277122\", \"route_id\": \"W\", \"service_hours\": 0.58, \"trip_first_departure_ts\": 21600, \"trip_last_arrival_ts\": 23700, \"departure_hour\": 6, \"time_of_day\": \"Owl Service\", \"p25\": 0.58, \"p50\": 0.58, \"p75\": 0.58, \"p50_trip\": 1, \"fastest_trip\": 0, \"car_duration_hours\": 0.4, \"competitive_route\": 1, \"bus_multiplier\": 1.45, \"bus_difference\": 10.8, \"num_trips\": 17, \"num_competitive\": 17, \"pct_trips_competitive\": 1.0, \"bus_difference_spread\": 0.0, \"route_group\": \"short\", \"max_trip_hrs\": 0.58, \"max_trip_route_group\": 0.58, \"name\": \"Napa Valley Transportation Authority\", \"caltrans_district\": \"04 - Oakland\", \"drmt_organization_name\": \"['recHtk7XryNwJBqw8']\", \"cutoff2\": 20, \"cutoff\": 2}, {\"calitp_itp_id\": 218, \"trip_key\": -8116249679438667537, \"trip_id\": \"W_8\", \"shape_id\": \"p_1277122\", \"route_id\": \"W\", \"service_hours\": 0.58, \"trip_first_departure_ts\": 40500, \"trip_last_arrival_ts\": 42600, \"departure_hour\": 11, \"time_of_day\": \"Midday\", \"p25\": 0.58, \"p50\": 0.58, \"p75\": 0.58, \"p50_trip\": 1, \"fastest_trip\": 0, \"car_duration_hours\": 0.4, \"competitive_route\": 1, \"bus_multiplier\": 1.45, \"bus_difference\": 10.8, \"num_trips\": 17, \"num_competitive\": 17, \"pct_trips_competitive\": 1.0, \"bus_difference_spread\": 0.0, \"route_group\": \"short\", \"max_trip_hrs\": 0.58, \"max_trip_route_group\": 0.58, \"name\": \"Napa Valley Transportation Authority\", \"caltrans_district\": \"04 - Oakland\", \"drmt_organization_name\": \"['recHtk7XryNwJBqw8']\", \"cutoff2\": 20, \"cutoff\": 2}, {\"calitp_itp_id\": 218, \"trip_key\": 7092138422279344968, \"trip_id\": \"W_14\", \"shape_id\": \"p_1277122\", \"route_id\": \"W\", \"service_hours\": 0.58, \"trip_first_departure_ts\": 56700, \"trip_last_arrival_ts\": 58800, \"departure_hour\": 15, \"time_of_day\": \"Midday\", \"p25\": 0.58, \"p50\": 0.58, \"p75\": 0.58, \"p50_trip\": 1, \"fastest_trip\": 0, \"car_duration_hours\": 0.4, \"competitive_route\": 1, \"bus_multiplier\": 1.45, \"bus_difference\": 10.8, \"num_trips\": 17, \"num_competitive\": 17, \"pct_trips_competitive\": 1.0, \"bus_difference_spread\": 0.0, \"route_group\": \"short\", \"max_trip_hrs\": 0.58, \"max_trip_route_group\": 0.58, \"name\": \"Napa Valley Transportation Authority\", \"caltrans_district\": \"04 - Oakland\", \"drmt_organization_name\": \"['recHtk7XryNwJBqw8']\", \"cutoff2\": 20, \"cutoff\": 2}, {\"calitp_itp_id\": 218, \"trip_key\": -2085891720300479616, \"trip_id\": \"W_16\", \"shape_id\": \"p_1277122\", \"route_id\": \"W\", \"service_hours\": 0.58, \"trip_first_departure_ts\": 62100, \"trip_last_arrival_ts\": 64200, \"departure_hour\": 17, \"time_of_day\": \"PM Peak\", \"p25\": 0.58, \"p50\": 0.58, \"p75\": 0.58, \"p50_trip\": 1, \"fastest_trip\": 0, \"car_duration_hours\": 0.4, \"competitive_route\": 1, \"bus_multiplier\": 1.45, \"bus_difference\": 10.8, \"num_trips\": 17, \"num_competitive\": 17, \"pct_trips_competitive\": 1.0, \"bus_difference_spread\": 0.0, \"route_group\": \"short\", \"max_trip_hrs\": 0.58, \"max_trip_route_group\": 0.58, \"name\": \"Napa Valley Transportation Authority\", \"caltrans_district\": \"04 - Oakland\", \"drmt_organization_name\": \"['recHtk7XryNwJBqw8']\", \"cutoff2\": 20, \"cutoff\": 2}, {\"calitp_itp_id\": 218, \"trip_key\": 7302955222033072491, \"trip_id\": \"W_2\", \"shape_id\": \"p_1277122\", \"route_id\": \"W\", \"service_hours\": 0.58, \"trip_first_departure_ts\": 24300, \"trip_last_arrival_ts\": 26400, \"departure_hour\": 6, \"time_of_day\": \"Owl Service\", \"p25\": 0.58, \"p50\": 0.58, \"p75\": 0.58, \"p50_trip\": 1, \"fastest_trip\": 0, \"car_duration_hours\": 0.4, \"competitive_route\": 1, \"bus_multiplier\": 1.45, \"bus_difference\": 10.8, \"num_trips\": 17, \"num_competitive\": 17, \"pct_trips_competitive\": 1.0, \"bus_difference_spread\": 0.0, \"route_group\": \"short\", \"max_trip_hrs\": 0.58, \"max_trip_route_group\": 0.58, \"name\": \"Napa Valley Transportation Authority\", \"caltrans_district\": \"04 - Oakland\", \"drmt_organization_name\": \"['recHtk7XryNwJBqw8']\", \"cutoff2\": 20, \"cutoff\": 2}, {\"calitp_itp_id\": 218, \"trip_key\": 1175426571735177294, \"trip_id\": \"W_17\", \"shape_id\": \"p_1277122\", \"route_id\": \"W\", \"service_hours\": 0.58, \"trip_first_departure_ts\": 64800, \"trip_last_arrival_ts\": 66900, \"departure_hour\": 18, \"time_of_day\": \"PM Peak\", \"p25\": 0.58, \"p50\": 0.58, \"p75\": 0.58, \"p50_trip\": 1, \"fastest_trip\": 1, \"car_duration_hours\": 0.4, \"competitive_route\": 1, \"bus_multiplier\": 1.45, \"bus_difference\": 10.8, \"num_trips\": 17, \"num_competitive\": 17, \"pct_trips_competitive\": 1.0, \"bus_difference_spread\": 0.0, \"route_group\": \"short\", \"max_trip_hrs\": 0.58, \"max_trip_route_group\": 0.58, \"name\": \"Napa Valley Transportation Authority\", \"caltrans_district\": \"04 - Oakland\", \"drmt_organization_name\": \"['recHtk7XryNwJBqw8']\", \"cutoff2\": 20, \"cutoff\": 2}, {\"calitp_itp_id\": 218, \"trip_key\": 8458839923162792469, \"trip_id\": \"W_5\", \"shape_id\": \"p_1277122\", \"route_id\": \"W\", \"service_hours\": 0.58, \"trip_first_departure_ts\": 32400, \"trip_last_arrival_ts\": 34500, \"departure_hour\": 9, \"time_of_day\": \"AM Peak\", \"p25\": 0.58, \"p50\": 0.58, \"p75\": 0.58, \"p50_trip\": 1, \"fastest_trip\": 0, \"car_duration_hours\": 0.4, \"competitive_route\": 1, \"bus_multiplier\": 1.45, \"bus_difference\": 10.8, \"num_trips\": 17, \"num_competitive\": 17, \"pct_trips_competitive\": 1.0, \"bus_difference_spread\": 0.0, \"route_group\": \"short\", \"max_trip_hrs\": 0.58, \"max_trip_route_group\": 0.58, \"name\": \"Napa Valley Transportation Authority\", \"caltrans_district\": \"04 - Oakland\", \"drmt_organization_name\": \"['recHtk7XryNwJBqw8']\", \"cutoff2\": 20, \"cutoff\": 2}, {\"calitp_itp_id\": 218, \"trip_key\": 5238522094468935482, \"trip_id\": \"W_4\", \"shape_id\": \"p_1277122\", \"route_id\": \"W\", \"service_hours\": 0.58, \"trip_first_departure_ts\": 29700, \"trip_last_arrival_ts\": 31800, \"departure_hour\": 8, \"time_of_day\": \"AM Peak\", \"p25\": 0.58, \"p50\": 0.58, \"p75\": 0.58, \"p50_trip\": 1, \"fastest_trip\": 0, \"car_duration_hours\": 0.4, \"competitive_route\": 1, \"bus_multiplier\": 1.45, \"bus_difference\": 10.8, \"num_trips\": 17, \"num_competitive\": 17, \"pct_trips_competitive\": 1.0, \"bus_difference_spread\": 0.0, \"route_group\": \"short\", \"max_trip_hrs\": 0.58, \"max_trip_route_group\": 0.58, \"name\": \"Napa Valley Transportation Authority\", \"caltrans_district\": \"04 - Oakland\", \"drmt_organization_name\": \"['recHtk7XryNwJBqw8']\", \"cutoff2\": 20, \"cutoff\": 2}, {\"calitp_itp_id\": 218, \"trip_key\": 3312861290254719520, \"trip_id\": \"W_12\", \"shape_id\": \"p_1277122\", \"route_id\": \"W\", \"service_hours\": 0.58, \"trip_first_departure_ts\": 51300, \"trip_last_arrival_ts\": 53400, \"departure_hour\": 14, \"time_of_day\": \"Midday\", \"p25\": 0.58, \"p50\": 0.58, \"p75\": 0.58, \"p50_trip\": 1, \"fastest_trip\": 0, \"car_duration_hours\": 0.4, \"competitive_route\": 1, \"bus_multiplier\": 1.45, \"bus_difference\": 10.8, \"num_trips\": 17, \"num_competitive\": 17, \"pct_trips_competitive\": 1.0, \"bus_difference_spread\": 0.0, \"route_group\": \"short\", \"max_trip_hrs\": 0.58, \"max_trip_route_group\": 0.58, \"name\": \"Napa Valley Transportation Authority\", \"caltrans_district\": \"04 - Oakland\", \"drmt_organization_name\": \"['recHtk7XryNwJBqw8']\", \"cutoff2\": 20, \"cutoff\": 2}]}}, {\"mode\": \"vega-lite\"});\n",
       "</script>"
      ],
      "text/plain": [
       "alt.FacetChart(...)"
      ]
     },
     "metadata": {},
     "output_type": "display_data"
    },
    {
     "data": {
      "text/html": [
       "\n",
       "<div id=\"altair-viz-617a8624733649d58ec1a3de9dc8acce\"></div>\n",
       "<script type=\"text/javascript\">\n",
       "  var VEGA_DEBUG = (typeof VEGA_DEBUG == \"undefined\") ? {} : VEGA_DEBUG;\n",
       "  (function(spec, embedOpt){\n",
       "    let outputDiv = document.currentScript.previousElementSibling;\n",
       "    if (outputDiv.id !== \"altair-viz-617a8624733649d58ec1a3de9dc8acce\") {\n",
       "      outputDiv = document.getElementById(\"altair-viz-617a8624733649d58ec1a3de9dc8acce\");\n",
       "    }\n",
       "    const paths = {\n",
       "      \"vega\": \"https://cdn.jsdelivr.net/npm//vega@5?noext\",\n",
       "      \"vega-lib\": \"https://cdn.jsdelivr.net/npm//vega-lib?noext\",\n",
       "      \"vega-lite\": \"https://cdn.jsdelivr.net/npm//vega-lite@4.17.0?noext\",\n",
       "      \"vega-embed\": \"https://cdn.jsdelivr.net/npm//vega-embed@6?noext\",\n",
       "    };\n",
       "\n",
       "    function maybeLoadScript(lib, version) {\n",
       "      var key = `${lib.replace(\"-\", \"\")}_version`;\n",
       "      return (VEGA_DEBUG[key] == version) ?\n",
       "        Promise.resolve(paths[lib]) :\n",
       "        new Promise(function(resolve, reject) {\n",
       "          var s = document.createElement('script');\n",
       "          document.getElementsByTagName(\"head\")[0].appendChild(s);\n",
       "          s.async = true;\n",
       "          s.onload = () => {\n",
       "            VEGA_DEBUG[key] = version;\n",
       "            return resolve(paths[lib]);\n",
       "          };\n",
       "          s.onerror = () => reject(`Error loading script: ${paths[lib]}`);\n",
       "          s.src = paths[lib];\n",
       "        });\n",
       "    }\n",
       "\n",
       "    function showError(err) {\n",
       "      outputDiv.innerHTML = `<div class=\"error\" style=\"color:red;\">${err}</div>`;\n",
       "      throw err;\n",
       "    }\n",
       "\n",
       "    function displayChart(vegaEmbed) {\n",
       "      vegaEmbed(outputDiv, spec, embedOpt)\n",
       "        .catch(err => showError(`Javascript Error: ${err.message}<br>This usually means there's a typo in your chart specification. See the javascript console for the full traceback.`));\n",
       "    }\n",
       "\n",
       "    if(typeof define === \"function\" && define.amd) {\n",
       "      requirejs.config({paths});\n",
       "      require([\"vega-embed\"], displayChart, err => showError(`Error loading script: ${err.message}`));\n",
       "    } else {\n",
       "      maybeLoadScript(\"vega\", \"5\")\n",
       "        .then(() => maybeLoadScript(\"vega-lite\", \"4.17.0\"))\n",
       "        .then(() => maybeLoadScript(\"vega-embed\", \"6\"))\n",
       "        .catch(showError)\n",
       "        .then(() => displayChart(vegaEmbed));\n",
       "    }\n",
       "  })({\"config\": {\"view\": {\"continuousWidth\": 400, \"continuousHeight\": 300, \"stroke\": null}, \"facet\": {\"spacing\": 0}}, \"data\": {\"name\": \"data-c6f7453622fb7ffae3bdab2b08ad2c37\"}, \"facet\": {\"column\": {\"field\": \"route_id\", \"sort\": [\"S\", \"W\", \"E\"], \"title\": \"Route ID\", \"type\": \"nominal\"}}, \"spec\": {\"layer\": [{\"mark\": {\"type\": \"point\", \"opacity\": 0.65, \"size\": 12, \"strokeWidth\": 1.1}, \"encoding\": {\"color\": {\"field\": \"time_of_day\", \"scale\": {\"range\": [\"#136C97\", \"#E16B26\", \"#F6BF16\", \"#00896B\", \"#7790A3\", \"#5B559C\"]}, \"sort\": [\"AM Peak\", \"Midday\", \"PM Peak\", \"Owl Service\"], \"title\": \"Time of Day\", \"type\": \"nominal\"}, \"tooltip\": [{\"field\": \"route_id\", \"type\": \"nominal\"}, {\"field\": \"trip_id\", \"type\": \"nominal\"}, {\"field\": \"service_hours\", \"type\": \"quantitative\"}, {\"field\": \"car_duration_hours\", \"type\": \"quantitative\"}, {\"field\": \"bus_multiplier\", \"type\": \"quantitative\"}, {\"field\": \"bus_difference\", \"type\": \"quantitative\"}, {\"field\": \"num_trips\", \"type\": \"quantitative\"}, {\"field\": \"num_competitive\", \"type\": \"quantitative\"}, {\"field\": \"pct_trips_competitive\", \"type\": \"quantitative\"}, {\"field\": \"p25\", \"type\": \"quantitative\"}, {\"field\": \"p50\", \"type\": \"quantitative\"}, {\"field\": \"p75\", \"type\": \"quantitative\"}], \"x\": {\"axis\": {\"grid\": false, \"labels\": false, \"ticks\": true, \"values\": [0]}, \"field\": \"jitter\", \"scale\": {}, \"title\": null, \"type\": \"quantitative\"}, \"y\": {\"field\": \"bus_difference\", \"scale\": {\"domain\": [-5, 55.2]}, \"title\": \"Difference in Bus to Car Travel Time (min)\", \"type\": \"quantitative\"}}, \"selection\": {\"selector002\": {\"type\": \"interval\", \"bind\": \"scales\", \"encodings\": [\"x\", \"y\"]}}, \"transform\": [{\"calculate\": \"sqrt(-2*log(random()))*cos(2*PI*random())\", \"as\": \"jitter\"}], \"width\": 60}, {\"layer\": [{\"mark\": {\"type\": \"point\", \"opacity\": 0.6, \"size\": 20, \"strokeWidth\": 1.3}, \"encoding\": {\"color\": {\"value\": \"#323434\"}, \"y\": {\"field\": \"bus_difference\", \"type\": \"quantitative\"}}, \"transform\": [{\"filter\": \"(datum.p50_trip === 1)\"}]}, {\"mark\": {\"type\": \"rule\", \"strokeDash\": [2, 3]}, \"encoding\": {\"color\": {\"value\": \"#323434\"}, \"y\": {\"field\": \"cutoff\", \"type\": \"quantitative\"}}}, {\"mark\": {\"type\": \"rule\", \"strokeDash\": [2, 3]}, \"encoding\": {\"color\": {\"value\": \"#136C97\"}, \"y\": {\"field\": \"cutoff2\", \"type\": \"quantitative\"}}}, {\"mark\": {\"type\": \"text\", \"align\": \"center\", \"baseline\": \"middle\"}, \"encoding\": {\"color\": {\"value\": \"black\"}, \"text\": {\"field\": \"pct_trips_competitive\", \"format\": \".0%\", \"type\": \"quantitative\"}, \"tooltip\": [{\"field\": \"route_id\", \"type\": \"nominal\"}, {\"field\": \"trip_id\", \"type\": \"nominal\"}, {\"field\": \"service_hours\", \"type\": \"quantitative\"}, {\"field\": \"car_duration_hours\", \"type\": \"quantitative\"}, {\"field\": \"bus_multiplier\", \"type\": \"quantitative\"}, {\"field\": \"bus_difference\", \"type\": \"quantitative\"}, {\"field\": \"num_trips\", \"type\": \"quantitative\"}, {\"field\": \"num_competitive\", \"type\": \"quantitative\"}, {\"field\": \"pct_trips_competitive\", \"type\": \"quantitative\"}, {\"field\": \"p25\", \"type\": \"quantitative\"}, {\"field\": \"p50\", \"type\": \"quantitative\"}, {\"field\": \"p75\", \"type\": \"quantitative\"}], \"x\": {\"value\": 30}, \"y\": {\"value\": 15}}, \"transform\": [{\"calculate\": \"sqrt(-2*log(random()))*cos(2*PI*random())\", \"as\": \"jitter\"}, {\"filter\": \"(datum.fastest_trip === 1)\"}]}]}]}, \"resolve\": {\"scale\": {\"y\": \"shared\"}}, \"title\": \"Difference in Bus to Car Travel Time (min)\", \"$schema\": \"https://vega.github.io/schema/vega-lite/v4.17.0.json\", \"datasets\": {\"data-c6f7453622fb7ffae3bdab2b08ad2c37\": [{\"calitp_itp_id\": 218, \"trip_key\": 4979161415031049599, \"trip_id\": \"E_3\", \"shape_id\": \"p_1277128\", \"route_id\": \"E\", \"service_hours\": 0.45, \"trip_first_departure_ts\": 50400, \"trip_last_arrival_ts\": 52020, \"departure_hour\": 14, \"time_of_day\": \"Midday\", \"p25\": 0.45, \"p50\": 0.45, \"p75\": 0.45, \"p50_trip\": 1, \"fastest_trip\": 1, \"car_duration_hours\": 0.35, \"competitive_route\": 1, \"bus_multiplier\": 1.29, \"bus_difference\": 6.0, \"num_trips\": 3, \"num_competitive\": 3, \"pct_trips_competitive\": 1.0, \"bus_difference_spread\": 0.0, \"route_group\": \"short\", \"max_trip_hrs\": 0.45, \"max_trip_route_group\": 0.58, \"name\": \"Napa Valley Transportation Authority\", \"caltrans_district\": \"04 - Oakland\", \"drmt_organization_name\": \"['recHtk7XryNwJBqw8']\", \"cutoff2\": 20, \"cutoff\": 0}, {\"calitp_itp_id\": 218, \"trip_key\": 756346467473088131, \"trip_id\": \"E_1\", \"shape_id\": \"p_1277128\", \"route_id\": \"E\", \"service_hours\": 0.45, \"trip_first_departure_ts\": 28800, \"trip_last_arrival_ts\": 30420, \"departure_hour\": 8, \"time_of_day\": \"AM Peak\", \"p25\": 0.45, \"p50\": 0.45, \"p75\": 0.45, \"p50_trip\": 1, \"fastest_trip\": 0, \"car_duration_hours\": 0.35, \"competitive_route\": 1, \"bus_multiplier\": 1.29, \"bus_difference\": 6.0, \"num_trips\": 3, \"num_competitive\": 3, \"pct_trips_competitive\": 1.0, \"bus_difference_spread\": 0.0, \"route_group\": \"short\", \"max_trip_hrs\": 0.45, \"max_trip_route_group\": 0.58, \"name\": \"Napa Valley Transportation Authority\", \"caltrans_district\": \"04 - Oakland\", \"drmt_organization_name\": \"['recHtk7XryNwJBqw8']\", \"cutoff2\": 20, \"cutoff\": 0}, {\"calitp_itp_id\": 218, \"trip_key\": -4374772136717314480, \"trip_id\": \"E_2\", \"shape_id\": \"p_1277128\", \"route_id\": \"E\", \"service_hours\": 0.45, \"trip_first_departure_ts\": 30600, \"trip_last_arrival_ts\": 32220, \"departure_hour\": 8, \"time_of_day\": \"AM Peak\", \"p25\": 0.45, \"p50\": 0.45, \"p75\": 0.45, \"p50_trip\": 1, \"fastest_trip\": 0, \"car_duration_hours\": 0.35, \"competitive_route\": 1, \"bus_multiplier\": 1.29, \"bus_difference\": 6.0, \"num_trips\": 3, \"num_competitive\": 3, \"pct_trips_competitive\": 1.0, \"bus_difference_spread\": 0.0, \"route_group\": \"short\", \"max_trip_hrs\": 0.45, \"max_trip_route_group\": 0.58, \"name\": \"Napa Valley Transportation Authority\", \"caltrans_district\": \"04 - Oakland\", \"drmt_organization_name\": \"['recHtk7XryNwJBqw8']\", \"cutoff2\": 20, \"cutoff\": 0}, {\"calitp_itp_id\": 218, \"trip_key\": 5273834639183780751, \"trip_id\": \"S_20\", \"shape_id\": \"p_1304060\", \"route_id\": \"S\", \"service_hours\": 0.22, \"trip_first_departure_ts\": 46740, \"trip_last_arrival_ts\": 47520, \"departure_hour\": 12, \"time_of_day\": \"Midday\", \"p25\": 0.22, \"p50\": 0.225, \"p75\": 0.23, \"p50_trip\": 1, \"fastest_trip\": 0, \"car_duration_hours\": 0.18, \"competitive_route\": 1, \"bus_multiplier\": 1.22, \"bus_difference\": 2.4, \"num_trips\": 32, \"num_competitive\": 32, \"pct_trips_competitive\": 1.0, \"bus_difference_spread\": 0.6, \"route_group\": \"short\", \"max_trip_hrs\": 0.23, \"max_trip_route_group\": 0.58, \"name\": \"Napa Valley Transportation Authority\", \"caltrans_district\": \"04 - Oakland\", \"drmt_organization_name\": \"['recHtk7XryNwJBqw8']\", \"cutoff2\": 20, \"cutoff\": 0}, {\"calitp_itp_id\": 218, \"trip_key\": 4832229717760358204, \"trip_id\": \"S_30\", \"shape_id\": \"p_1304060\", \"route_id\": \"S\", \"service_hours\": 0.22, \"trip_first_departure_ts\": 60240, \"trip_last_arrival_ts\": 61020, \"departure_hour\": 16, \"time_of_day\": \"Midday\", \"p25\": 0.22, \"p50\": 0.225, \"p75\": 0.23, \"p50_trip\": 1, \"fastest_trip\": 0, \"car_duration_hours\": 0.18, \"competitive_route\": 1, \"bus_multiplier\": 1.22, \"bus_difference\": 2.4, \"num_trips\": 32, \"num_competitive\": 32, \"pct_trips_competitive\": 1.0, \"bus_difference_spread\": 0.6, \"route_group\": \"short\", \"max_trip_hrs\": 0.23, \"max_trip_route_group\": 0.58, \"name\": \"Napa Valley Transportation Authority\", \"caltrans_district\": \"04 - Oakland\", \"drmt_organization_name\": \"['recHtk7XryNwJBqw8']\", \"cutoff2\": 20, \"cutoff\": 0}, {\"calitp_itp_id\": 218, \"trip_key\": -6298595035467624573, \"trip_id\": \"S_26\", \"shape_id\": \"p_1304060\", \"route_id\": \"S\", \"service_hours\": 0.22, \"trip_first_departure_ts\": 54840, \"trip_last_arrival_ts\": 55620, \"departure_hour\": 15, \"time_of_day\": \"Midday\", \"p25\": 0.22, \"p50\": 0.225, \"p75\": 0.23, \"p50_trip\": 1, \"fastest_trip\": 0, \"car_duration_hours\": 0.18, \"competitive_route\": 1, \"bus_multiplier\": 1.22, \"bus_difference\": 2.4, \"num_trips\": 32, \"num_competitive\": 32, \"pct_trips_competitive\": 1.0, \"bus_difference_spread\": 0.6, \"route_group\": \"short\", \"max_trip_hrs\": 0.23, \"max_trip_route_group\": 0.58, \"name\": \"Napa Valley Transportation Authority\", \"caltrans_district\": \"04 - Oakland\", \"drmt_organization_name\": \"['recHtk7XryNwJBqw8']\", \"cutoff2\": 20, \"cutoff\": 0}, {\"calitp_itp_id\": 218, \"trip_key\": 8253586266971033516, \"trip_id\": \"S_18\", \"shape_id\": \"p_1304060\", \"route_id\": \"S\", \"service_hours\": 0.22, \"trip_first_departure_ts\": 44040, \"trip_last_arrival_ts\": 44820, \"departure_hour\": 12, \"time_of_day\": \"Midday\", \"p25\": 0.22, \"p50\": 0.225, \"p75\": 0.23, \"p50_trip\": 1, \"fastest_trip\": 0, \"car_duration_hours\": 0.18, \"competitive_route\": 1, \"bus_multiplier\": 1.22, \"bus_difference\": 2.4, \"num_trips\": 32, \"num_competitive\": 32, \"pct_trips_competitive\": 1.0, \"bus_difference_spread\": 0.6, \"route_group\": \"short\", \"max_trip_hrs\": 0.23, \"max_trip_route_group\": 0.58, \"name\": \"Napa Valley Transportation Authority\", \"caltrans_district\": \"04 - Oakland\", \"drmt_organization_name\": \"['recHtk7XryNwJBqw8']\", \"cutoff2\": 20, \"cutoff\": 0}, {\"calitp_itp_id\": 218, \"trip_key\": 4199692397161534965, \"trip_id\": \"S_16\", \"shape_id\": \"p_1304060\", \"route_id\": \"S\", \"service_hours\": 0.22, \"trip_first_departure_ts\": 41340, \"trip_last_arrival_ts\": 42120, \"departure_hour\": 11, \"time_of_day\": \"Midday\", \"p25\": 0.22, \"p50\": 0.225, \"p75\": 0.23, \"p50_trip\": 1, \"fastest_trip\": 0, \"car_duration_hours\": 0.18, \"competitive_route\": 1, \"bus_multiplier\": 1.22, \"bus_difference\": 2.4, \"num_trips\": 32, \"num_competitive\": 32, \"pct_trips_competitive\": 1.0, \"bus_difference_spread\": 0.6, \"route_group\": \"short\", \"max_trip_hrs\": 0.23, \"max_trip_route_group\": 0.58, \"name\": \"Napa Valley Transportation Authority\", \"caltrans_district\": \"04 - Oakland\", \"drmt_organization_name\": \"['recHtk7XryNwJBqw8']\", \"cutoff2\": 20, \"cutoff\": 0}, {\"calitp_itp_id\": 218, \"trip_key\": -5388539815113052388, \"trip_id\": \"S_28\", \"shape_id\": \"p_1304060\", \"route_id\": \"S\", \"service_hours\": 0.22, \"trip_first_departure_ts\": 57540, \"trip_last_arrival_ts\": 58320, \"departure_hour\": 15, \"time_of_day\": \"Midday\", \"p25\": 0.22, \"p50\": 0.225, \"p75\": 0.23, \"p50_trip\": 1, \"fastest_trip\": 0, \"car_duration_hours\": 0.18, \"competitive_route\": 1, \"bus_multiplier\": 1.22, \"bus_difference\": 2.4, \"num_trips\": 32, \"num_competitive\": 32, \"pct_trips_competitive\": 1.0, \"bus_difference_spread\": 0.6, \"route_group\": \"short\", \"max_trip_hrs\": 0.23, \"max_trip_route_group\": 0.58, \"name\": \"Napa Valley Transportation Authority\", \"caltrans_district\": \"04 - Oakland\", \"drmt_organization_name\": \"['recHtk7XryNwJBqw8']\", \"cutoff2\": 20, \"cutoff\": 0}, {\"calitp_itp_id\": 218, \"trip_key\": -6758973867514427937, \"trip_id\": \"S_22\", \"shape_id\": \"p_1304060\", \"route_id\": \"S\", \"service_hours\": 0.22, \"trip_first_departure_ts\": 49440, \"trip_last_arrival_ts\": 50220, \"departure_hour\": 13, \"time_of_day\": \"Midday\", \"p25\": 0.22, \"p50\": 0.225, \"p75\": 0.23, \"p50_trip\": 1, \"fastest_trip\": 0, \"car_duration_hours\": 0.18, \"competitive_route\": 1, \"bus_multiplier\": 1.22, \"bus_difference\": 2.4, \"num_trips\": 32, \"num_competitive\": 32, \"pct_trips_competitive\": 1.0, \"bus_difference_spread\": 0.6, \"route_group\": \"short\", \"max_trip_hrs\": 0.23, \"max_trip_route_group\": 0.58, \"name\": \"Napa Valley Transportation Authority\", \"caltrans_district\": \"04 - Oakland\", \"drmt_organization_name\": \"['recHtk7XryNwJBqw8']\", \"cutoff2\": 20, \"cutoff\": 0}, {\"calitp_itp_id\": 218, \"trip_key\": -5730694484799980609, \"trip_id\": \"S_10\", \"shape_id\": \"p_1304060\", \"route_id\": \"S\", \"service_hours\": 0.22, \"trip_first_departure_ts\": 33240, \"trip_last_arrival_ts\": 34020, \"departure_hour\": 9, \"time_of_day\": \"AM Peak\", \"p25\": 0.22, \"p50\": 0.225, \"p75\": 0.23, \"p50_trip\": 1, \"fastest_trip\": 0, \"car_duration_hours\": 0.18, \"competitive_route\": 1, \"bus_multiplier\": 1.22, \"bus_difference\": 2.4, \"num_trips\": 32, \"num_competitive\": 32, \"pct_trips_competitive\": 1.0, \"bus_difference_spread\": 0.6, \"route_group\": \"short\", \"max_trip_hrs\": 0.23, \"max_trip_route_group\": 0.58, \"name\": \"Napa Valley Transportation Authority\", \"caltrans_district\": \"04 - Oakland\", \"drmt_organization_name\": \"['recHtk7XryNwJBqw8']\", \"cutoff2\": 20, \"cutoff\": 0}, {\"calitp_itp_id\": 218, \"trip_key\": 3750829870136996179, \"trip_id\": \"S_8\", \"shape_id\": \"p_1304060\", \"route_id\": \"S\", \"service_hours\": 0.22, \"trip_first_departure_ts\": 30540, \"trip_last_arrival_ts\": 31320, \"departure_hour\": 8, \"time_of_day\": \"AM Peak\", \"p25\": 0.22, \"p50\": 0.225, \"p75\": 0.23, \"p50_trip\": 1, \"fastest_trip\": 0, \"car_duration_hours\": 0.18, \"competitive_route\": 1, \"bus_multiplier\": 1.22, \"bus_difference\": 2.4, \"num_trips\": 32, \"num_competitive\": 32, \"pct_trips_competitive\": 1.0, \"bus_difference_spread\": 0.6, \"route_group\": \"short\", \"max_trip_hrs\": 0.23, \"max_trip_route_group\": 0.58, \"name\": \"Napa Valley Transportation Authority\", \"caltrans_district\": \"04 - Oakland\", \"drmt_organization_name\": \"['recHtk7XryNwJBqw8']\", \"cutoff2\": 20, \"cutoff\": 0}, {\"calitp_itp_id\": 218, \"trip_key\": 3920744832367513607, \"trip_id\": \"S_24\", \"shape_id\": \"p_1304060\", \"route_id\": \"S\", \"service_hours\": 0.22, \"trip_first_departure_ts\": 52140, \"trip_last_arrival_ts\": 52920, \"departure_hour\": 14, \"time_of_day\": \"Midday\", \"p25\": 0.22, \"p50\": 0.225, \"p75\": 0.23, \"p50_trip\": 1, \"fastest_trip\": 0, \"car_duration_hours\": 0.18, \"competitive_route\": 1, \"bus_multiplier\": 1.22, \"bus_difference\": 2.4, \"num_trips\": 32, \"num_competitive\": 32, \"pct_trips_competitive\": 1.0, \"bus_difference_spread\": 0.6, \"route_group\": \"short\", \"max_trip_hrs\": 0.23, \"max_trip_route_group\": 0.58, \"name\": \"Napa Valley Transportation Authority\", \"caltrans_district\": \"04 - Oakland\", \"drmt_organization_name\": \"['recHtk7XryNwJBqw8']\", \"cutoff2\": 20, \"cutoff\": 0}, {\"calitp_itp_id\": 218, \"trip_key\": -7980882686859550790, \"trip_id\": \"S_14\", \"shape_id\": \"p_1304060\", \"route_id\": \"S\", \"service_hours\": 0.22, \"trip_first_departure_ts\": 38640, \"trip_last_arrival_ts\": 39420, \"departure_hour\": 10, \"time_of_day\": \"Midday\", \"p25\": 0.22, \"p50\": 0.225, \"p75\": 0.23, \"p50_trip\": 1, \"fastest_trip\": 0, \"car_duration_hours\": 0.18, \"competitive_route\": 1, \"bus_multiplier\": 1.22, \"bus_difference\": 2.4, \"num_trips\": 32, \"num_competitive\": 32, \"pct_trips_competitive\": 1.0, \"bus_difference_spread\": 0.6, \"route_group\": \"short\", \"max_trip_hrs\": 0.23, \"max_trip_route_group\": 0.58, \"name\": \"Napa Valley Transportation Authority\", \"caltrans_district\": \"04 - Oakland\", \"drmt_organization_name\": \"['recHtk7XryNwJBqw8']\", \"cutoff2\": 20, \"cutoff\": 0}, {\"calitp_itp_id\": 218, \"trip_key\": -6922201167772606406, \"trip_id\": \"S_4\", \"shape_id\": \"p_1304060\", \"route_id\": \"S\", \"service_hours\": 0.22, \"trip_first_departure_ts\": 25140, \"trip_last_arrival_ts\": 25920, \"departure_hour\": 6, \"time_of_day\": \"Owl Service\", \"p25\": 0.22, \"p50\": 0.225, \"p75\": 0.23, \"p50_trip\": 1, \"fastest_trip\": 0, \"car_duration_hours\": 0.18, \"competitive_route\": 1, \"bus_multiplier\": 1.22, \"bus_difference\": 2.4, \"num_trips\": 32, \"num_competitive\": 32, \"pct_trips_competitive\": 1.0, \"bus_difference_spread\": 0.6, \"route_group\": \"short\", \"max_trip_hrs\": 0.23, \"max_trip_route_group\": 0.58, \"name\": \"Napa Valley Transportation Authority\", \"caltrans_district\": \"04 - Oakland\", \"drmt_organization_name\": \"['recHtk7XryNwJBqw8']\", \"cutoff2\": 20, \"cutoff\": 0}, {\"calitp_itp_id\": 218, \"trip_key\": -5966485970753861612, \"trip_id\": \"S_2\", \"shape_id\": \"p_1304060\", \"route_id\": \"S\", \"service_hours\": 0.22, \"trip_first_departure_ts\": 22440, \"trip_last_arrival_ts\": 23220, \"departure_hour\": 6, \"time_of_day\": \"Owl Service\", \"p25\": 0.22, \"p50\": 0.225, \"p75\": 0.23, \"p50_trip\": 1, \"fastest_trip\": 0, \"car_duration_hours\": 0.18, \"competitive_route\": 1, \"bus_multiplier\": 1.22, \"bus_difference\": 2.4, \"num_trips\": 32, \"num_competitive\": 32, \"pct_trips_competitive\": 1.0, \"bus_difference_spread\": 0.6, \"route_group\": \"short\", \"max_trip_hrs\": 0.23, \"max_trip_route_group\": 0.58, \"name\": \"Napa Valley Transportation Authority\", \"caltrans_district\": \"04 - Oakland\", \"drmt_organization_name\": \"['recHtk7XryNwJBqw8']\", \"cutoff2\": 20, \"cutoff\": 0}, {\"calitp_itp_id\": 218, \"trip_key\": 469584231188076621, \"trip_id\": \"S_12\", \"shape_id\": \"p_1304060\", \"route_id\": \"S\", \"service_hours\": 0.22, \"trip_first_departure_ts\": 35940, \"trip_last_arrival_ts\": 36720, \"departure_hour\": 9, \"time_of_day\": \"AM Peak\", \"p25\": 0.22, \"p50\": 0.225, \"p75\": 0.23, \"p50_trip\": 1, \"fastest_trip\": 0, \"car_duration_hours\": 0.18, \"competitive_route\": 1, \"bus_multiplier\": 1.22, \"bus_difference\": 2.4, \"num_trips\": 32, \"num_competitive\": 32, \"pct_trips_competitive\": 1.0, \"bus_difference_spread\": 0.6, \"route_group\": \"short\", \"max_trip_hrs\": 0.23, \"max_trip_route_group\": 0.58, \"name\": \"Napa Valley Transportation Authority\", \"caltrans_district\": \"04 - Oakland\", \"drmt_organization_name\": \"['recHtk7XryNwJBqw8']\", \"cutoff2\": 20, \"cutoff\": 0}, {\"calitp_itp_id\": 218, \"trip_key\": -5760214438432048632, \"trip_id\": \"S_32\", \"shape_id\": \"p_1304060\", \"route_id\": \"S\", \"service_hours\": 0.22, \"trip_first_departure_ts\": 62940, \"trip_last_arrival_ts\": 63720, \"departure_hour\": 17, \"time_of_day\": \"PM Peak\", \"p25\": 0.22, \"p50\": 0.225, \"p75\": 0.23, \"p50_trip\": 1, \"fastest_trip\": 1, \"car_duration_hours\": 0.18, \"competitive_route\": 1, \"bus_multiplier\": 1.22, \"bus_difference\": 2.4, \"num_trips\": 32, \"num_competitive\": 32, \"pct_trips_competitive\": 1.0, \"bus_difference_spread\": 0.6, \"route_group\": \"short\", \"max_trip_hrs\": 0.23, \"max_trip_route_group\": 0.58, \"name\": \"Napa Valley Transportation Authority\", \"caltrans_district\": \"04 - Oakland\", \"drmt_organization_name\": \"['recHtk7XryNwJBqw8']\", \"cutoff2\": 20, \"cutoff\": 0}, {\"calitp_itp_id\": 218, \"trip_key\": 6019321577007650333, \"trip_id\": \"S_6\", \"shape_id\": \"p_1304060\", \"route_id\": \"S\", \"service_hours\": 0.22, \"trip_first_departure_ts\": 27840, \"trip_last_arrival_ts\": 28620, \"departure_hour\": 7, \"time_of_day\": \"AM Peak\", \"p25\": 0.22, \"p50\": 0.225, \"p75\": 0.23, \"p50_trip\": 1, \"fastest_trip\": 0, \"car_duration_hours\": 0.18, \"competitive_route\": 1, \"bus_multiplier\": 1.22, \"bus_difference\": 2.4, \"num_trips\": 32, \"num_competitive\": 32, \"pct_trips_competitive\": 1.0, \"bus_difference_spread\": 0.6, \"route_group\": \"short\", \"max_trip_hrs\": 0.23, \"max_trip_route_group\": 0.58, \"name\": \"Napa Valley Transportation Authority\", \"caltrans_district\": \"04 - Oakland\", \"drmt_organization_name\": \"['recHtk7XryNwJBqw8']\", \"cutoff2\": 20, \"cutoff\": 0}, {\"calitp_itp_id\": 218, \"trip_key\": 3946383608334061099, \"trip_id\": \"S_29\", \"shape_id\": \"p_1275150\", \"route_id\": \"S\", \"service_hours\": 0.23, \"trip_first_departure_ts\": 59400, \"trip_last_arrival_ts\": 60240, \"departure_hour\": 16, \"time_of_day\": \"Midday\", \"p25\": 0.22, \"p50\": 0.225, \"p75\": 0.23, \"p50_trip\": 1, \"fastest_trip\": 0, \"car_duration_hours\": 0.18, \"competitive_route\": 1, \"bus_multiplier\": 1.28, \"bus_difference\": 3.0, \"num_trips\": 32, \"num_competitive\": 32, \"pct_trips_competitive\": 1.0, \"bus_difference_spread\": 0.6, \"route_group\": \"short\", \"max_trip_hrs\": 0.23, \"max_trip_route_group\": 0.58, \"name\": \"Napa Valley Transportation Authority\", \"caltrans_district\": \"04 - Oakland\", \"drmt_organization_name\": \"['recHtk7XryNwJBqw8']\", \"cutoff2\": 20, \"cutoff\": 0}, {\"calitp_itp_id\": 218, \"trip_key\": 6415393465280269518, \"trip_id\": \"S_31\", \"shape_id\": \"p_1275150\", \"route_id\": \"S\", \"service_hours\": 0.23, \"trip_first_departure_ts\": 62100, \"trip_last_arrival_ts\": 62940, \"departure_hour\": 17, \"time_of_day\": \"PM Peak\", \"p25\": 0.22, \"p50\": 0.225, \"p75\": 0.23, \"p50_trip\": 1, \"fastest_trip\": 0, \"car_duration_hours\": 0.18, \"competitive_route\": 1, \"bus_multiplier\": 1.28, \"bus_difference\": 3.0, \"num_trips\": 32, \"num_competitive\": 32, \"pct_trips_competitive\": 1.0, \"bus_difference_spread\": 0.6, \"route_group\": \"short\", \"max_trip_hrs\": 0.23, \"max_trip_route_group\": 0.58, \"name\": \"Napa Valley Transportation Authority\", \"caltrans_district\": \"04 - Oakland\", \"drmt_organization_name\": \"['recHtk7XryNwJBqw8']\", \"cutoff2\": 20, \"cutoff\": 0}, {\"calitp_itp_id\": 218, \"trip_key\": -898301707583043175, \"trip_id\": \"S_13\", \"shape_id\": \"p_1275150\", \"route_id\": \"S\", \"service_hours\": 0.23, \"trip_first_departure_ts\": 37800, \"trip_last_arrival_ts\": 38640, \"departure_hour\": 10, \"time_of_day\": \"Midday\", \"p25\": 0.22, \"p50\": 0.225, \"p75\": 0.23, \"p50_trip\": 1, \"fastest_trip\": 0, \"car_duration_hours\": 0.18, \"competitive_route\": 1, \"bus_multiplier\": 1.28, \"bus_difference\": 3.0, \"num_trips\": 32, \"num_competitive\": 32, \"pct_trips_competitive\": 1.0, \"bus_difference_spread\": 0.6, \"route_group\": \"short\", \"max_trip_hrs\": 0.23, \"max_trip_route_group\": 0.58, \"name\": \"Napa Valley Transportation Authority\", \"caltrans_district\": \"04 - Oakland\", \"drmt_organization_name\": \"['recHtk7XryNwJBqw8']\", \"cutoff2\": 20, \"cutoff\": 0}, {\"calitp_itp_id\": 218, \"trip_key\": 3852811942780182898, \"trip_id\": \"S_17\", \"shape_id\": \"p_1275150\", \"route_id\": \"S\", \"service_hours\": 0.23, \"trip_first_departure_ts\": 43200, \"trip_last_arrival_ts\": 44040, \"departure_hour\": 12, \"time_of_day\": \"Midday\", \"p25\": 0.22, \"p50\": 0.225, \"p75\": 0.23, \"p50_trip\": 1, \"fastest_trip\": 0, \"car_duration_hours\": 0.18, \"competitive_route\": 1, \"bus_multiplier\": 1.28, \"bus_difference\": 3.0, \"num_trips\": 32, \"num_competitive\": 32, \"pct_trips_competitive\": 1.0, \"bus_difference_spread\": 0.6, \"route_group\": \"short\", \"max_trip_hrs\": 0.23, \"max_trip_route_group\": 0.58, \"name\": \"Napa Valley Transportation Authority\", \"caltrans_district\": \"04 - Oakland\", \"drmt_organization_name\": \"['recHtk7XryNwJBqw8']\", \"cutoff2\": 20, \"cutoff\": 0}, {\"calitp_itp_id\": 218, \"trip_key\": 2841048405869262774, \"trip_id\": \"S_9\", \"shape_id\": \"p_1275150\", \"route_id\": \"S\", \"service_hours\": 0.23, \"trip_first_departure_ts\": 32400, \"trip_last_arrival_ts\": 33240, \"departure_hour\": 9, \"time_of_day\": \"AM Peak\", \"p25\": 0.22, \"p50\": 0.225, \"p75\": 0.23, \"p50_trip\": 1, \"fastest_trip\": 0, \"car_duration_hours\": 0.18, \"competitive_route\": 1, \"bus_multiplier\": 1.28, \"bus_difference\": 3.0, \"num_trips\": 32, \"num_competitive\": 32, \"pct_trips_competitive\": 1.0, \"bus_difference_spread\": 0.6, \"route_group\": \"short\", \"max_trip_hrs\": 0.23, \"max_trip_route_group\": 0.58, \"name\": \"Napa Valley Transportation Authority\", \"caltrans_district\": \"04 - Oakland\", \"drmt_organization_name\": \"['recHtk7XryNwJBqw8']\", \"cutoff2\": 20, \"cutoff\": 0}, {\"calitp_itp_id\": 218, \"trip_key\": -8858410662202397276, \"trip_id\": \"S_11\", \"shape_id\": \"p_1275150\", \"route_id\": \"S\", \"service_hours\": 0.23, \"trip_first_departure_ts\": 35100, \"trip_last_arrival_ts\": 35940, \"departure_hour\": 9, \"time_of_day\": \"AM Peak\", \"p25\": 0.22, \"p50\": 0.225, \"p75\": 0.23, \"p50_trip\": 1, \"fastest_trip\": 0, \"car_duration_hours\": 0.18, \"competitive_route\": 1, \"bus_multiplier\": 1.28, \"bus_difference\": 3.0, \"num_trips\": 32, \"num_competitive\": 32, \"pct_trips_competitive\": 1.0, \"bus_difference_spread\": 0.6, \"route_group\": \"short\", \"max_trip_hrs\": 0.23, \"max_trip_route_group\": 0.58, \"name\": \"Napa Valley Transportation Authority\", \"caltrans_district\": \"04 - Oakland\", \"drmt_organization_name\": \"['recHtk7XryNwJBqw8']\", \"cutoff2\": 20, \"cutoff\": 0}, {\"calitp_itp_id\": 218, \"trip_key\": 564062817660613740, \"trip_id\": \"S_25\", \"shape_id\": \"p_1275150\", \"route_id\": \"S\", \"service_hours\": 0.23, \"trip_first_departure_ts\": 54000, \"trip_last_arrival_ts\": 54840, \"departure_hour\": 15, \"time_of_day\": \"Midday\", \"p25\": 0.22, \"p50\": 0.225, \"p75\": 0.23, \"p50_trip\": 1, \"fastest_trip\": 0, \"car_duration_hours\": 0.18, \"competitive_route\": 1, \"bus_multiplier\": 1.28, \"bus_difference\": 3.0, \"num_trips\": 32, \"num_competitive\": 32, \"pct_trips_competitive\": 1.0, \"bus_difference_spread\": 0.6, \"route_group\": \"short\", \"max_trip_hrs\": 0.23, \"max_trip_route_group\": 0.58, \"name\": \"Napa Valley Transportation Authority\", \"caltrans_district\": \"04 - Oakland\", \"drmt_organization_name\": \"['recHtk7XryNwJBqw8']\", \"cutoff2\": 20, \"cutoff\": 0}, {\"calitp_itp_id\": 218, \"trip_key\": 6849345270517750663, \"trip_id\": \"S_19\", \"shape_id\": \"p_1275150\", \"route_id\": \"S\", \"service_hours\": 0.23, \"trip_first_departure_ts\": 45900, \"trip_last_arrival_ts\": 46740, \"departure_hour\": 12, \"time_of_day\": \"Midday\", \"p25\": 0.22, \"p50\": 0.225, \"p75\": 0.23, \"p50_trip\": 1, \"fastest_trip\": 0, \"car_duration_hours\": 0.18, \"competitive_route\": 1, \"bus_multiplier\": 1.28, \"bus_difference\": 3.0, \"num_trips\": 32, \"num_competitive\": 32, \"pct_trips_competitive\": 1.0, \"bus_difference_spread\": 0.6, \"route_group\": \"short\", \"max_trip_hrs\": 0.23, \"max_trip_route_group\": 0.58, \"name\": \"Napa Valley Transportation Authority\", \"caltrans_district\": \"04 - Oakland\", \"drmt_organization_name\": \"['recHtk7XryNwJBqw8']\", \"cutoff2\": 20, \"cutoff\": 0}, {\"calitp_itp_id\": 218, \"trip_key\": -8951832570698890706, \"trip_id\": \"S_23\", \"shape_id\": \"p_1275150\", \"route_id\": \"S\", \"service_hours\": 0.23, \"trip_first_departure_ts\": 51300, \"trip_last_arrival_ts\": 52140, \"departure_hour\": 14, \"time_of_day\": \"Midday\", \"p25\": 0.22, \"p50\": 0.225, \"p75\": 0.23, \"p50_trip\": 1, \"fastest_trip\": 0, \"car_duration_hours\": 0.18, \"competitive_route\": 1, \"bus_multiplier\": 1.28, \"bus_difference\": 3.0, \"num_trips\": 32, \"num_competitive\": 32, \"pct_trips_competitive\": 1.0, \"bus_difference_spread\": 0.6, \"route_group\": \"short\", \"max_trip_hrs\": 0.23, \"max_trip_route_group\": 0.58, \"name\": \"Napa Valley Transportation Authority\", \"caltrans_district\": \"04 - Oakland\", \"drmt_organization_name\": \"['recHtk7XryNwJBqw8']\", \"cutoff2\": 20, \"cutoff\": 0}, {\"calitp_itp_id\": 218, \"trip_key\": -4826908023510968581, \"trip_id\": \"S_7\", \"shape_id\": \"p_1275150\", \"route_id\": \"S\", \"service_hours\": 0.23, \"trip_first_departure_ts\": 29700, \"trip_last_arrival_ts\": 30540, \"departure_hour\": 8, \"time_of_day\": \"AM Peak\", \"p25\": 0.22, \"p50\": 0.225, \"p75\": 0.23, \"p50_trip\": 1, \"fastest_trip\": 0, \"car_duration_hours\": 0.18, \"competitive_route\": 1, \"bus_multiplier\": 1.28, \"bus_difference\": 3.0, \"num_trips\": 32, \"num_competitive\": 32, \"pct_trips_competitive\": 1.0, \"bus_difference_spread\": 0.6, \"route_group\": \"short\", \"max_trip_hrs\": 0.23, \"max_trip_route_group\": 0.58, \"name\": \"Napa Valley Transportation Authority\", \"caltrans_district\": \"04 - Oakland\", \"drmt_organization_name\": \"['recHtk7XryNwJBqw8']\", \"cutoff2\": 20, \"cutoff\": 0}, {\"calitp_itp_id\": 218, \"trip_key\": 6849447605285041150, \"trip_id\": \"S_15\", \"shape_id\": \"p_1275150\", \"route_id\": \"S\", \"service_hours\": 0.23, \"trip_first_departure_ts\": 40500, \"trip_last_arrival_ts\": 41340, \"departure_hour\": 11, \"time_of_day\": \"Midday\", \"p25\": 0.22, \"p50\": 0.225, \"p75\": 0.23, \"p50_trip\": 1, \"fastest_trip\": 0, \"car_duration_hours\": 0.18, \"competitive_route\": 1, \"bus_multiplier\": 1.28, \"bus_difference\": 3.0, \"num_trips\": 32, \"num_competitive\": 32, \"pct_trips_competitive\": 1.0, \"bus_difference_spread\": 0.6, \"route_group\": \"short\", \"max_trip_hrs\": 0.23, \"max_trip_route_group\": 0.58, \"name\": \"Napa Valley Transportation Authority\", \"caltrans_district\": \"04 - Oakland\", \"drmt_organization_name\": \"['recHtk7XryNwJBqw8']\", \"cutoff2\": 20, \"cutoff\": 0}, {\"calitp_itp_id\": 218, \"trip_key\": 6186084533844800786, \"trip_id\": \"S_5\", \"shape_id\": \"p_1275150\", \"route_id\": \"S\", \"service_hours\": 0.23, \"trip_first_departure_ts\": 27000, \"trip_last_arrival_ts\": 27840, \"departure_hour\": 7, \"time_of_day\": \"AM Peak\", \"p25\": 0.22, \"p50\": 0.225, \"p75\": 0.23, \"p50_trip\": 1, \"fastest_trip\": 0, \"car_duration_hours\": 0.18, \"competitive_route\": 1, \"bus_multiplier\": 1.28, \"bus_difference\": 3.0, \"num_trips\": 32, \"num_competitive\": 32, \"pct_trips_competitive\": 1.0, \"bus_difference_spread\": 0.6, \"route_group\": \"short\", \"max_trip_hrs\": 0.23, \"max_trip_route_group\": 0.58, \"name\": \"Napa Valley Transportation Authority\", \"caltrans_district\": \"04 - Oakland\", \"drmt_organization_name\": \"['recHtk7XryNwJBqw8']\", \"cutoff2\": 20, \"cutoff\": 0}, {\"calitp_itp_id\": 218, \"trip_key\": 3444134022924010284, \"trip_id\": \"S_27\", \"shape_id\": \"p_1275150\", \"route_id\": \"S\", \"service_hours\": 0.23, \"trip_first_departure_ts\": 56700, \"trip_last_arrival_ts\": 57540, \"departure_hour\": 15, \"time_of_day\": \"Midday\", \"p25\": 0.22, \"p50\": 0.225, \"p75\": 0.23, \"p50_trip\": 1, \"fastest_trip\": 0, \"car_duration_hours\": 0.18, \"competitive_route\": 1, \"bus_multiplier\": 1.28, \"bus_difference\": 3.0, \"num_trips\": 32, \"num_competitive\": 32, \"pct_trips_competitive\": 1.0, \"bus_difference_spread\": 0.6, \"route_group\": \"short\", \"max_trip_hrs\": 0.23, \"max_trip_route_group\": 0.58, \"name\": \"Napa Valley Transportation Authority\", \"caltrans_district\": \"04 - Oakland\", \"drmt_organization_name\": \"['recHtk7XryNwJBqw8']\", \"cutoff2\": 20, \"cutoff\": 0}, {\"calitp_itp_id\": 218, \"trip_key\": 117077017175651715, \"trip_id\": \"S_3\", \"shape_id\": \"p_1275150\", \"route_id\": \"S\", \"service_hours\": 0.23, \"trip_first_departure_ts\": 24300, \"trip_last_arrival_ts\": 25140, \"departure_hour\": 6, \"time_of_day\": \"Owl Service\", \"p25\": 0.22, \"p50\": 0.225, \"p75\": 0.23, \"p50_trip\": 1, \"fastest_trip\": 0, \"car_duration_hours\": 0.18, \"competitive_route\": 1, \"bus_multiplier\": 1.28, \"bus_difference\": 3.0, \"num_trips\": 32, \"num_competitive\": 32, \"pct_trips_competitive\": 1.0, \"bus_difference_spread\": 0.6, \"route_group\": \"short\", \"max_trip_hrs\": 0.23, \"max_trip_route_group\": 0.58, \"name\": \"Napa Valley Transportation Authority\", \"caltrans_district\": \"04 - Oakland\", \"drmt_organization_name\": \"['recHtk7XryNwJBqw8']\", \"cutoff2\": 20, \"cutoff\": 0}, {\"calitp_itp_id\": 218, \"trip_key\": -1307197537863338316, \"trip_id\": \"S_21\", \"shape_id\": \"p_1275150\", \"route_id\": \"S\", \"service_hours\": 0.23, \"trip_first_departure_ts\": 48600, \"trip_last_arrival_ts\": 49440, \"departure_hour\": 13, \"time_of_day\": \"Midday\", \"p25\": 0.22, \"p50\": 0.225, \"p75\": 0.23, \"p50_trip\": 1, \"fastest_trip\": 0, \"car_duration_hours\": 0.18, \"competitive_route\": 1, \"bus_multiplier\": 1.28, \"bus_difference\": 3.0, \"num_trips\": 32, \"num_competitive\": 32, \"pct_trips_competitive\": 1.0, \"bus_difference_spread\": 0.6, \"route_group\": \"short\", \"max_trip_hrs\": 0.23, \"max_trip_route_group\": 0.58, \"name\": \"Napa Valley Transportation Authority\", \"caltrans_district\": \"04 - Oakland\", \"drmt_organization_name\": \"['recHtk7XryNwJBqw8']\", \"cutoff2\": 20, \"cutoff\": 0}, {\"calitp_itp_id\": 218, \"trip_key\": 1252089223074643823, \"trip_id\": \"S_1\", \"shape_id\": \"p_1275150\", \"route_id\": \"S\", \"service_hours\": 0.23, \"trip_first_departure_ts\": 21600, \"trip_last_arrival_ts\": 22440, \"departure_hour\": 6, \"time_of_day\": \"Owl Service\", \"p25\": 0.22, \"p50\": 0.225, \"p75\": 0.23, \"p50_trip\": 1, \"fastest_trip\": 0, \"car_duration_hours\": 0.18, \"competitive_route\": 1, \"bus_multiplier\": 1.28, \"bus_difference\": 3.0, \"num_trips\": 32, \"num_competitive\": 32, \"pct_trips_competitive\": 1.0, \"bus_difference_spread\": 0.6, \"route_group\": \"short\", \"max_trip_hrs\": 0.23, \"max_trip_route_group\": 0.58, \"name\": \"Napa Valley Transportation Authority\", \"caltrans_district\": \"04 - Oakland\", \"drmt_organization_name\": \"['recHtk7XryNwJBqw8']\", \"cutoff2\": 20, \"cutoff\": 0}, {\"calitp_itp_id\": 218, \"trip_key\": -94141547253695648, \"trip_id\": \"W_11\", \"shape_id\": \"p_1277122\", \"route_id\": \"W\", \"service_hours\": 0.58, \"trip_first_departure_ts\": 48600, \"trip_last_arrival_ts\": 50700, \"departure_hour\": 13, \"time_of_day\": \"Midday\", \"p25\": 0.58, \"p50\": 0.58, \"p75\": 0.58, \"p50_trip\": 1, \"fastest_trip\": 0, \"car_duration_hours\": 0.4, \"competitive_route\": 1, \"bus_multiplier\": 1.45, \"bus_difference\": 10.8, \"num_trips\": 17, \"num_competitive\": 17, \"pct_trips_competitive\": 1.0, \"bus_difference_spread\": 0.0, \"route_group\": \"short\", \"max_trip_hrs\": 0.58, \"max_trip_route_group\": 0.58, \"name\": \"Napa Valley Transportation Authority\", \"caltrans_district\": \"04 - Oakland\", \"drmt_organization_name\": \"['recHtk7XryNwJBqw8']\", \"cutoff2\": 20, \"cutoff\": 0}, {\"calitp_itp_id\": 218, \"trip_key\": 6346328403621228558, \"trip_id\": \"W_10\", \"shape_id\": \"p_1277122\", \"route_id\": \"W\", \"service_hours\": 0.58, \"trip_first_departure_ts\": 45900, \"trip_last_arrival_ts\": 48000, \"departure_hour\": 12, \"time_of_day\": \"Midday\", \"p25\": 0.58, \"p50\": 0.58, \"p75\": 0.58, \"p50_trip\": 1, \"fastest_trip\": 0, \"car_duration_hours\": 0.4, \"competitive_route\": 1, \"bus_multiplier\": 1.45, \"bus_difference\": 10.8, \"num_trips\": 17, \"num_competitive\": 17, \"pct_trips_competitive\": 1.0, \"bus_difference_spread\": 0.0, \"route_group\": \"short\", \"max_trip_hrs\": 0.58, \"max_trip_route_group\": 0.58, \"name\": \"Napa Valley Transportation Authority\", \"caltrans_district\": \"04 - Oakland\", \"drmt_organization_name\": \"['recHtk7XryNwJBqw8']\", \"cutoff2\": 20, \"cutoff\": 0}, {\"calitp_itp_id\": 218, \"trip_key\": -4727860790378388666, \"trip_id\": \"W_7\", \"shape_id\": \"p_1277122\", \"route_id\": \"W\", \"service_hours\": 0.58, \"trip_first_departure_ts\": 37800, \"trip_last_arrival_ts\": 39900, \"departure_hour\": 10, \"time_of_day\": \"Midday\", \"p25\": 0.58, \"p50\": 0.58, \"p75\": 0.58, \"p50_trip\": 1, \"fastest_trip\": 0, \"car_duration_hours\": 0.4, \"competitive_route\": 1, \"bus_multiplier\": 1.45, \"bus_difference\": 10.8, \"num_trips\": 17, \"num_competitive\": 17, \"pct_trips_competitive\": 1.0, \"bus_difference_spread\": 0.0, \"route_group\": \"short\", \"max_trip_hrs\": 0.58, \"max_trip_route_group\": 0.58, \"name\": \"Napa Valley Transportation Authority\", \"caltrans_district\": \"04 - Oakland\", \"drmt_organization_name\": \"['recHtk7XryNwJBqw8']\", \"cutoff2\": 20, \"cutoff\": 0}, {\"calitp_itp_id\": 218, \"trip_key\": 6706676990011948775, \"trip_id\": \"W_13\", \"shape_id\": \"p_1277122\", \"route_id\": \"W\", \"service_hours\": 0.58, \"trip_first_departure_ts\": 54000, \"trip_last_arrival_ts\": 56100, \"departure_hour\": 15, \"time_of_day\": \"Midday\", \"p25\": 0.58, \"p50\": 0.58, \"p75\": 0.58, \"p50_trip\": 1, \"fastest_trip\": 0, \"car_duration_hours\": 0.4, \"competitive_route\": 1, \"bus_multiplier\": 1.45, \"bus_difference\": 10.8, \"num_trips\": 17, \"num_competitive\": 17, \"pct_trips_competitive\": 1.0, \"bus_difference_spread\": 0.0, \"route_group\": \"short\", \"max_trip_hrs\": 0.58, \"max_trip_route_group\": 0.58, \"name\": \"Napa Valley Transportation Authority\", \"caltrans_district\": \"04 - Oakland\", \"drmt_organization_name\": \"['recHtk7XryNwJBqw8']\", \"cutoff2\": 20, \"cutoff\": 0}, {\"calitp_itp_id\": 218, \"trip_key\": -7371555349607676198, \"trip_id\": \"W_9\", \"shape_id\": \"p_1277122\", \"route_id\": \"W\", \"service_hours\": 0.58, \"trip_first_departure_ts\": 43200, \"trip_last_arrival_ts\": 45300, \"departure_hour\": 12, \"time_of_day\": \"Midday\", \"p25\": 0.58, \"p50\": 0.58, \"p75\": 0.58, \"p50_trip\": 1, \"fastest_trip\": 0, \"car_duration_hours\": 0.4, \"competitive_route\": 1, \"bus_multiplier\": 1.45, \"bus_difference\": 10.8, \"num_trips\": 17, \"num_competitive\": 17, \"pct_trips_competitive\": 1.0, \"bus_difference_spread\": 0.0, \"route_group\": \"short\", \"max_trip_hrs\": 0.58, \"max_trip_route_group\": 0.58, \"name\": \"Napa Valley Transportation Authority\", \"caltrans_district\": \"04 - Oakland\", \"drmt_organization_name\": \"['recHtk7XryNwJBqw8']\", \"cutoff2\": 20, \"cutoff\": 0}, {\"calitp_itp_id\": 218, \"trip_key\": 2444351421704894281, \"trip_id\": \"W_3\", \"shape_id\": \"p_1277122\", \"route_id\": \"W\", \"service_hours\": 0.58, \"trip_first_departure_ts\": 27000, \"trip_last_arrival_ts\": 29100, \"departure_hour\": 7, \"time_of_day\": \"AM Peak\", \"p25\": 0.58, \"p50\": 0.58, \"p75\": 0.58, \"p50_trip\": 1, \"fastest_trip\": 0, \"car_duration_hours\": 0.4, \"competitive_route\": 1, \"bus_multiplier\": 1.45, \"bus_difference\": 10.8, \"num_trips\": 17, \"num_competitive\": 17, \"pct_trips_competitive\": 1.0, \"bus_difference_spread\": 0.0, \"route_group\": \"short\", \"max_trip_hrs\": 0.58, \"max_trip_route_group\": 0.58, \"name\": \"Napa Valley Transportation Authority\", \"caltrans_district\": \"04 - Oakland\", \"drmt_organization_name\": \"['recHtk7XryNwJBqw8']\", \"cutoff2\": 20, \"cutoff\": 0}, {\"calitp_itp_id\": 218, \"trip_key\": -2216101001503943654, \"trip_id\": \"W_6\", \"shape_id\": \"p_1277122\", \"route_id\": \"W\", \"service_hours\": 0.58, \"trip_first_departure_ts\": 35100, \"trip_last_arrival_ts\": 37200, \"departure_hour\": 9, \"time_of_day\": \"AM Peak\", \"p25\": 0.58, \"p50\": 0.58, \"p75\": 0.58, \"p50_trip\": 1, \"fastest_trip\": 0, \"car_duration_hours\": 0.4, \"competitive_route\": 1, \"bus_multiplier\": 1.45, \"bus_difference\": 10.8, \"num_trips\": 17, \"num_competitive\": 17, \"pct_trips_competitive\": 1.0, \"bus_difference_spread\": 0.0, \"route_group\": \"short\", \"max_trip_hrs\": 0.58, \"max_trip_route_group\": 0.58, \"name\": \"Napa Valley Transportation Authority\", \"caltrans_district\": \"04 - Oakland\", \"drmt_organization_name\": \"['recHtk7XryNwJBqw8']\", \"cutoff2\": 20, \"cutoff\": 0}, {\"calitp_itp_id\": 218, \"trip_key\": 5255718125921103715, \"trip_id\": \"W_15\", \"shape_id\": \"p_1277122\", \"route_id\": \"W\", \"service_hours\": 0.58, \"trip_first_departure_ts\": 59400, \"trip_last_arrival_ts\": 61500, \"departure_hour\": 16, \"time_of_day\": \"Midday\", \"p25\": 0.58, \"p50\": 0.58, \"p75\": 0.58, \"p50_trip\": 1, \"fastest_trip\": 0, \"car_duration_hours\": 0.4, \"competitive_route\": 1, \"bus_multiplier\": 1.45, \"bus_difference\": 10.8, \"num_trips\": 17, \"num_competitive\": 17, \"pct_trips_competitive\": 1.0, \"bus_difference_spread\": 0.0, \"route_group\": \"short\", \"max_trip_hrs\": 0.58, \"max_trip_route_group\": 0.58, \"name\": \"Napa Valley Transportation Authority\", \"caltrans_district\": \"04 - Oakland\", \"drmt_organization_name\": \"['recHtk7XryNwJBqw8']\", \"cutoff2\": 20, \"cutoff\": 0}, {\"calitp_itp_id\": 218, \"trip_key\": 3791977594952332124, \"trip_id\": \"W_1\", \"shape_id\": \"p_1277122\", \"route_id\": \"W\", \"service_hours\": 0.58, \"trip_first_departure_ts\": 21600, \"trip_last_arrival_ts\": 23700, \"departure_hour\": 6, \"time_of_day\": \"Owl Service\", \"p25\": 0.58, \"p50\": 0.58, \"p75\": 0.58, \"p50_trip\": 1, \"fastest_trip\": 0, \"car_duration_hours\": 0.4, \"competitive_route\": 1, \"bus_multiplier\": 1.45, \"bus_difference\": 10.8, \"num_trips\": 17, \"num_competitive\": 17, \"pct_trips_competitive\": 1.0, \"bus_difference_spread\": 0.0, \"route_group\": \"short\", \"max_trip_hrs\": 0.58, \"max_trip_route_group\": 0.58, \"name\": \"Napa Valley Transportation Authority\", \"caltrans_district\": \"04 - Oakland\", \"drmt_organization_name\": \"['recHtk7XryNwJBqw8']\", \"cutoff2\": 20, \"cutoff\": 0}, {\"calitp_itp_id\": 218, \"trip_key\": -8116249679438667537, \"trip_id\": \"W_8\", \"shape_id\": \"p_1277122\", \"route_id\": \"W\", \"service_hours\": 0.58, \"trip_first_departure_ts\": 40500, \"trip_last_arrival_ts\": 42600, \"departure_hour\": 11, \"time_of_day\": \"Midday\", \"p25\": 0.58, \"p50\": 0.58, \"p75\": 0.58, \"p50_trip\": 1, \"fastest_trip\": 0, \"car_duration_hours\": 0.4, \"competitive_route\": 1, \"bus_multiplier\": 1.45, \"bus_difference\": 10.8, \"num_trips\": 17, \"num_competitive\": 17, \"pct_trips_competitive\": 1.0, \"bus_difference_spread\": 0.0, \"route_group\": \"short\", \"max_trip_hrs\": 0.58, \"max_trip_route_group\": 0.58, \"name\": \"Napa Valley Transportation Authority\", \"caltrans_district\": \"04 - Oakland\", \"drmt_organization_name\": \"['recHtk7XryNwJBqw8']\", \"cutoff2\": 20, \"cutoff\": 0}, {\"calitp_itp_id\": 218, \"trip_key\": 7092138422279344968, \"trip_id\": \"W_14\", \"shape_id\": \"p_1277122\", \"route_id\": \"W\", \"service_hours\": 0.58, \"trip_first_departure_ts\": 56700, \"trip_last_arrival_ts\": 58800, \"departure_hour\": 15, \"time_of_day\": \"Midday\", \"p25\": 0.58, \"p50\": 0.58, \"p75\": 0.58, \"p50_trip\": 1, \"fastest_trip\": 0, \"car_duration_hours\": 0.4, \"competitive_route\": 1, \"bus_multiplier\": 1.45, \"bus_difference\": 10.8, \"num_trips\": 17, \"num_competitive\": 17, \"pct_trips_competitive\": 1.0, \"bus_difference_spread\": 0.0, \"route_group\": \"short\", \"max_trip_hrs\": 0.58, \"max_trip_route_group\": 0.58, \"name\": \"Napa Valley Transportation Authority\", \"caltrans_district\": \"04 - Oakland\", \"drmt_organization_name\": \"['recHtk7XryNwJBqw8']\", \"cutoff2\": 20, \"cutoff\": 0}, {\"calitp_itp_id\": 218, \"trip_key\": -2085891720300479616, \"trip_id\": \"W_16\", \"shape_id\": \"p_1277122\", \"route_id\": \"W\", \"service_hours\": 0.58, \"trip_first_departure_ts\": 62100, \"trip_last_arrival_ts\": 64200, \"departure_hour\": 17, \"time_of_day\": \"PM Peak\", \"p25\": 0.58, \"p50\": 0.58, \"p75\": 0.58, \"p50_trip\": 1, \"fastest_trip\": 0, \"car_duration_hours\": 0.4, \"competitive_route\": 1, \"bus_multiplier\": 1.45, \"bus_difference\": 10.8, \"num_trips\": 17, \"num_competitive\": 17, \"pct_trips_competitive\": 1.0, \"bus_difference_spread\": 0.0, \"route_group\": \"short\", \"max_trip_hrs\": 0.58, \"max_trip_route_group\": 0.58, \"name\": \"Napa Valley Transportation Authority\", \"caltrans_district\": \"04 - Oakland\", \"drmt_organization_name\": \"['recHtk7XryNwJBqw8']\", \"cutoff2\": 20, \"cutoff\": 0}, {\"calitp_itp_id\": 218, \"trip_key\": 7302955222033072491, \"trip_id\": \"W_2\", \"shape_id\": \"p_1277122\", \"route_id\": \"W\", \"service_hours\": 0.58, \"trip_first_departure_ts\": 24300, \"trip_last_arrival_ts\": 26400, \"departure_hour\": 6, \"time_of_day\": \"Owl Service\", \"p25\": 0.58, \"p50\": 0.58, \"p75\": 0.58, \"p50_trip\": 1, \"fastest_trip\": 0, \"car_duration_hours\": 0.4, \"competitive_route\": 1, \"bus_multiplier\": 1.45, \"bus_difference\": 10.8, \"num_trips\": 17, \"num_competitive\": 17, \"pct_trips_competitive\": 1.0, \"bus_difference_spread\": 0.0, \"route_group\": \"short\", \"max_trip_hrs\": 0.58, \"max_trip_route_group\": 0.58, \"name\": \"Napa Valley Transportation Authority\", \"caltrans_district\": \"04 - Oakland\", \"drmt_organization_name\": \"['recHtk7XryNwJBqw8']\", \"cutoff2\": 20, \"cutoff\": 0}, {\"calitp_itp_id\": 218, \"trip_key\": 1175426571735177294, \"trip_id\": \"W_17\", \"shape_id\": \"p_1277122\", \"route_id\": \"W\", \"service_hours\": 0.58, \"trip_first_departure_ts\": 64800, \"trip_last_arrival_ts\": 66900, \"departure_hour\": 18, \"time_of_day\": \"PM Peak\", \"p25\": 0.58, \"p50\": 0.58, \"p75\": 0.58, \"p50_trip\": 1, \"fastest_trip\": 1, \"car_duration_hours\": 0.4, \"competitive_route\": 1, \"bus_multiplier\": 1.45, \"bus_difference\": 10.8, \"num_trips\": 17, \"num_competitive\": 17, \"pct_trips_competitive\": 1.0, \"bus_difference_spread\": 0.0, \"route_group\": \"short\", \"max_trip_hrs\": 0.58, \"max_trip_route_group\": 0.58, \"name\": \"Napa Valley Transportation Authority\", \"caltrans_district\": \"04 - Oakland\", \"drmt_organization_name\": \"['recHtk7XryNwJBqw8']\", \"cutoff2\": 20, \"cutoff\": 0}, {\"calitp_itp_id\": 218, \"trip_key\": 8458839923162792469, \"trip_id\": \"W_5\", \"shape_id\": \"p_1277122\", \"route_id\": \"W\", \"service_hours\": 0.58, \"trip_first_departure_ts\": 32400, \"trip_last_arrival_ts\": 34500, \"departure_hour\": 9, \"time_of_day\": \"AM Peak\", \"p25\": 0.58, \"p50\": 0.58, \"p75\": 0.58, \"p50_trip\": 1, \"fastest_trip\": 0, \"car_duration_hours\": 0.4, \"competitive_route\": 1, \"bus_multiplier\": 1.45, \"bus_difference\": 10.8, \"num_trips\": 17, \"num_competitive\": 17, \"pct_trips_competitive\": 1.0, \"bus_difference_spread\": 0.0, \"route_group\": \"short\", \"max_trip_hrs\": 0.58, \"max_trip_route_group\": 0.58, \"name\": \"Napa Valley Transportation Authority\", \"caltrans_district\": \"04 - Oakland\", \"drmt_organization_name\": \"['recHtk7XryNwJBqw8']\", \"cutoff2\": 20, \"cutoff\": 0}, {\"calitp_itp_id\": 218, \"trip_key\": 5238522094468935482, \"trip_id\": \"W_4\", \"shape_id\": \"p_1277122\", \"route_id\": \"W\", \"service_hours\": 0.58, \"trip_first_departure_ts\": 29700, \"trip_last_arrival_ts\": 31800, \"departure_hour\": 8, \"time_of_day\": \"AM Peak\", \"p25\": 0.58, \"p50\": 0.58, \"p75\": 0.58, \"p50_trip\": 1, \"fastest_trip\": 0, \"car_duration_hours\": 0.4, \"competitive_route\": 1, \"bus_multiplier\": 1.45, \"bus_difference\": 10.8, \"num_trips\": 17, \"num_competitive\": 17, \"pct_trips_competitive\": 1.0, \"bus_difference_spread\": 0.0, \"route_group\": \"short\", \"max_trip_hrs\": 0.58, \"max_trip_route_group\": 0.58, \"name\": \"Napa Valley Transportation Authority\", \"caltrans_district\": \"04 - Oakland\", \"drmt_organization_name\": \"['recHtk7XryNwJBqw8']\", \"cutoff2\": 20, \"cutoff\": 0}, {\"calitp_itp_id\": 218, \"trip_key\": 3312861290254719520, \"trip_id\": \"W_12\", \"shape_id\": \"p_1277122\", \"route_id\": \"W\", \"service_hours\": 0.58, \"trip_first_departure_ts\": 51300, \"trip_last_arrival_ts\": 53400, \"departure_hour\": 14, \"time_of_day\": \"Midday\", \"p25\": 0.58, \"p50\": 0.58, \"p75\": 0.58, \"p50_trip\": 1, \"fastest_trip\": 0, \"car_duration_hours\": 0.4, \"competitive_route\": 1, \"bus_multiplier\": 1.45, \"bus_difference\": 10.8, \"num_trips\": 17, \"num_competitive\": 17, \"pct_trips_competitive\": 1.0, \"bus_difference_spread\": 0.0, \"route_group\": \"short\", \"max_trip_hrs\": 0.58, \"max_trip_route_group\": 0.58, \"name\": \"Napa Valley Transportation Authority\", \"caltrans_district\": \"04 - Oakland\", \"drmt_organization_name\": \"['recHtk7XryNwJBqw8']\", \"cutoff2\": 20, \"cutoff\": 0}]}}, {\"mode\": \"vega-lite\"});\n",
       "</script>"
      ],
      "text/plain": [
       "alt.FacetChart(...)"
      ]
     },
     "metadata": {},
     "output_type": "display_data"
    }
   ],
   "source": [
    "# Allow for possibility that operator doesn't have routes that fall into certain route_groups\n",
    "# But, jupyterbook will not like markdown with f-string\n",
    "# separate out route_group and put in each cell, and use try/except + if to display...\n",
    "# but all 3 route groups must be displayed. just add sentence about why no routes were returned at the end\n",
    "route_group = \"short\"\n",
    "try:\n",
    "    subset_routes, mult, diff  = setup_charts(df, PCT_COMPETITIVE_THRESHOLD, route_group)\n",
    "    \n",
    "    if len(subset_routes) > 0:\n",
    "        display(\n",
    "            Markdown(\n",
    "                f\"{CAPTIONS_DICT[route_group]}\"\n",
    "                \"Within each route group, routes are sorted in descending order \"\n",
    "                \"by % competitive trips and # trips below the additional time cut-off.\"\n",
    "            )\n",
    "        )\n",
    "\n",
    "        display(mult)\n",
    "        display(diff)\n",
    "except:\n",
    "    print(\"No routes meet this criteria.\")"
   ]
  },
  {
   "cell_type": "markdown",
   "id": "c2931b6f-034d-4384-9e14-80b925e3b820",
   "metadata": {
    "papermill": {
     "duration": 0.014702,
     "end_time": "2022-05-08T15:50:29.451206",
     "exception": false,
     "start_time": "2022-05-08T15:50:29.436504",
     "status": "completed"
    },
    "tags": []
   },
   "source": [
    "### Medium Routes (1-1.5 hrs)"
   ]
  },
  {
   "cell_type": "code",
   "execution_count": 13,
   "id": "480edddc-4de0-48c2-ae4c-b0ceef8f28b5",
   "metadata": {
    "execution": {
     "iopub.execute_input": "2022-05-08T15:50:29.480952Z",
     "iopub.status.busy": "2022-05-08T15:50:29.480665Z",
     "iopub.status.idle": "2022-05-08T15:50:29.494916Z",
     "shell.execute_reply": "2022-05-08T15:50:29.493964Z"
    },
    "jupyter": {
     "source_hidden": true
    },
    "papermill": {
     "duration": 0.031585,
     "end_time": "2022-05-08T15:50:29.496929",
     "exception": false,
     "start_time": "2022-05-08T15:50:29.465344",
     "status": "completed"
    },
    "tags": [
     "remove_input"
    ]
   },
   "outputs": [
    {
     "name": "stdout",
     "output_type": "stream",
     "text": [
      "No routes meet this criteria.\n"
     ]
    }
   ],
   "source": [
    "route_group = \"medium\"\n",
    "try:\n",
    "    subset_routes, mult, diff  = setup_charts(df, PCT_COMPETITIVE_THRESHOLD, route_group)\n",
    "    if len(subset_routes) > 0:\n",
    "        display(\n",
    "            Markdown(\n",
    "                f\"{CAPTIONS_DICT[route_group]}\"\n",
    "                \"Within each route group, routes are sorted in descending order \"\n",
    "                \"by % competitive trips and # trips below the additional time cut-off.\"\n",
    "            )\n",
    "        )\n",
    "\n",
    "        display(mult)\n",
    "        display(diff)\n",
    "except:\n",
    "    print(\"No routes meet this criteria.\")"
   ]
  },
  {
   "cell_type": "markdown",
   "id": "124b76d0-886c-4d03-92ac-f1bda3cda182",
   "metadata": {
    "papermill": {
     "duration": 0.015522,
     "end_time": "2022-05-08T15:50:29.535435",
     "exception": false,
     "start_time": "2022-05-08T15:50:29.519913",
     "status": "completed"
    },
    "tags": []
   },
   "source": [
    "### Long Routes (> 1.5 hrs)"
   ]
  },
  {
   "cell_type": "code",
   "execution_count": 14,
   "id": "ddc81b19-4c45-4c81-8b7a-5e0f394aa7a3",
   "metadata": {
    "execution": {
     "iopub.execute_input": "2022-05-08T15:50:29.568318Z",
     "iopub.status.busy": "2022-05-08T15:50:29.567443Z",
     "iopub.status.idle": "2022-05-08T15:50:29.772352Z",
     "shell.execute_reply": "2022-05-08T15:50:29.771630Z"
    },
    "jupyter": {
     "source_hidden": true
    },
    "papermill": {
     "duration": 0.222931,
     "end_time": "2022-05-08T15:50:29.774291",
     "exception": false,
     "start_time": "2022-05-08T15:50:29.551360",
     "status": "completed"
    },
    "tags": [
     "remove_input"
    ]
   },
   "outputs": [
    {
     "data": {
      "text/markdown": [
       "<br>These are routes that have at least 25% of their trips take no more than an additional 40 min compared to a car (up to 15 routes) are shown.Within each route group, routes are sorted in descending order by % competitive trips and # trips below the additional time cut-off."
      ],
      "text/plain": [
       "<IPython.core.display.Markdown object>"
      ]
     },
     "metadata": {},
     "output_type": "display_data"
    },
    {
     "data": {
      "text/html": [
       "\n",
       "<div id=\"altair-viz-41b496d66d79433293697d107283cb84\"></div>\n",
       "<script type=\"text/javascript\">\n",
       "  var VEGA_DEBUG = (typeof VEGA_DEBUG == \"undefined\") ? {} : VEGA_DEBUG;\n",
       "  (function(spec, embedOpt){\n",
       "    let outputDiv = document.currentScript.previousElementSibling;\n",
       "    if (outputDiv.id !== \"altair-viz-41b496d66d79433293697d107283cb84\") {\n",
       "      outputDiv = document.getElementById(\"altair-viz-41b496d66d79433293697d107283cb84\");\n",
       "    }\n",
       "    const paths = {\n",
       "      \"vega\": \"https://cdn.jsdelivr.net/npm//vega@5?noext\",\n",
       "      \"vega-lib\": \"https://cdn.jsdelivr.net/npm//vega-lib?noext\",\n",
       "      \"vega-lite\": \"https://cdn.jsdelivr.net/npm//vega-lite@4.17.0?noext\",\n",
       "      \"vega-embed\": \"https://cdn.jsdelivr.net/npm//vega-embed@6?noext\",\n",
       "    };\n",
       "\n",
       "    function maybeLoadScript(lib, version) {\n",
       "      var key = `${lib.replace(\"-\", \"\")}_version`;\n",
       "      return (VEGA_DEBUG[key] == version) ?\n",
       "        Promise.resolve(paths[lib]) :\n",
       "        new Promise(function(resolve, reject) {\n",
       "          var s = document.createElement('script');\n",
       "          document.getElementsByTagName(\"head\")[0].appendChild(s);\n",
       "          s.async = true;\n",
       "          s.onload = () => {\n",
       "            VEGA_DEBUG[key] = version;\n",
       "            return resolve(paths[lib]);\n",
       "          };\n",
       "          s.onerror = () => reject(`Error loading script: ${paths[lib]}`);\n",
       "          s.src = paths[lib];\n",
       "        });\n",
       "    }\n",
       "\n",
       "    function showError(err) {\n",
       "      outputDiv.innerHTML = `<div class=\"error\" style=\"color:red;\">${err}</div>`;\n",
       "      throw err;\n",
       "    }\n",
       "\n",
       "    function displayChart(vegaEmbed) {\n",
       "      vegaEmbed(outputDiv, spec, embedOpt)\n",
       "        .catch(err => showError(`Javascript Error: ${err.message}<br>This usually means there's a typo in your chart specification. See the javascript console for the full traceback.`));\n",
       "    }\n",
       "\n",
       "    if(typeof define === \"function\" && define.amd) {\n",
       "      requirejs.config({paths});\n",
       "      require([\"vega-embed\"], displayChart, err => showError(`Error loading script: ${err.message}`));\n",
       "    } else {\n",
       "      maybeLoadScript(\"vega\", \"5\")\n",
       "        .then(() => maybeLoadScript(\"vega-lite\", \"4.17.0\"))\n",
       "        .then(() => maybeLoadScript(\"vega-embed\", \"6\"))\n",
       "        .catch(showError)\n",
       "        .then(() => displayChart(vegaEmbed));\n",
       "    }\n",
       "  })({\"config\": {\"view\": {\"continuousWidth\": 400, \"continuousHeight\": 300, \"stroke\": null}, \"facet\": {\"spacing\": 0}}, \"data\": {\"name\": \"data-ab7a4173dd8549fb0cbfdb3c9098fe70\"}, \"facet\": {\"column\": {\"field\": \"route_id\", \"sort\": [\"10\"], \"title\": \"Route ID\", \"type\": \"nominal\"}}, \"spec\": {\"layer\": [{\"mark\": {\"type\": \"point\", \"opacity\": 0.65, \"size\": 12, \"strokeWidth\": 1.1}, \"encoding\": {\"color\": {\"field\": \"time_of_day\", \"scale\": {\"range\": [\"#136C97\", \"#E16B26\", \"#F6BF16\", \"#00896B\", \"#7790A3\", \"#5B559C\"]}, \"sort\": [\"AM Peak\", \"Midday\", \"PM Peak\", \"Owl Service\"], \"title\": \"Time of Day\", \"type\": \"nominal\"}, \"tooltip\": [{\"field\": \"route_id\", \"type\": \"nominal\"}, {\"field\": \"trip_id\", \"type\": \"nominal\"}, {\"field\": \"service_hours\", \"type\": \"quantitative\"}, {\"field\": \"car_duration_hours\", \"type\": \"quantitative\"}, {\"field\": \"bus_multiplier\", \"type\": \"quantitative\"}, {\"field\": \"bus_difference\", \"type\": \"quantitative\"}, {\"field\": \"num_trips\", \"type\": \"quantitative\"}, {\"field\": \"num_competitive\", \"type\": \"quantitative\"}, {\"field\": \"pct_trips_competitive\", \"type\": \"quantitative\"}, {\"field\": \"p25\", \"type\": \"quantitative\"}, {\"field\": \"p50\", \"type\": \"quantitative\"}, {\"field\": \"p75\", \"type\": \"quantitative\"}], \"x\": {\"axis\": {\"grid\": false, \"labels\": false, \"ticks\": true, \"values\": [0]}, \"field\": \"jitter\", \"scale\": {}, \"title\": null, \"type\": \"quantitative\"}, \"y\": {\"field\": \"bus_multiplier\", \"scale\": {\"domain\": [-0.25, 2.5]}, \"title\": \"Ratio of Bus to Car Travel Time\", \"type\": \"quantitative\"}}, \"selection\": {\"selector003\": {\"type\": \"interval\", \"bind\": \"scales\", \"encodings\": [\"x\", \"y\"]}}, \"transform\": [{\"calculate\": \"sqrt(-2*log(random()))*cos(2*PI*random())\", \"as\": \"jitter\"}], \"width\": 60}, {\"layer\": [{\"mark\": {\"type\": \"point\", \"opacity\": 0.6, \"size\": 20, \"strokeWidth\": 1.3}, \"encoding\": {\"color\": {\"value\": \"#323434\"}, \"y\": {\"field\": \"bus_multiplier\", \"type\": \"quantitative\"}}, \"transform\": [{\"filter\": \"(datum.p50_trip === 1)\"}]}, {\"mark\": {\"type\": \"rule\", \"strokeDash\": [2, 3]}, \"encoding\": {\"color\": {\"value\": \"#323434\"}, \"y\": {\"field\": \"cutoff\", \"type\": \"quantitative\"}}}, {\"mark\": {\"type\": \"text\", \"align\": \"center\", \"baseline\": \"middle\"}, \"encoding\": {\"color\": {\"value\": \"black\"}, \"text\": {\"field\": \"pct_trips_competitive\", \"format\": \".0%\", \"type\": \"quantitative\"}, \"tooltip\": [{\"field\": \"route_id\", \"type\": \"nominal\"}, {\"field\": \"trip_id\", \"type\": \"nominal\"}, {\"field\": \"service_hours\", \"type\": \"quantitative\"}, {\"field\": \"car_duration_hours\", \"type\": \"quantitative\"}, {\"field\": \"bus_multiplier\", \"type\": \"quantitative\"}, {\"field\": \"bus_difference\", \"type\": \"quantitative\"}, {\"field\": \"num_trips\", \"type\": \"quantitative\"}, {\"field\": \"num_competitive\", \"type\": \"quantitative\"}, {\"field\": \"pct_trips_competitive\", \"type\": \"quantitative\"}, {\"field\": \"p25\", \"type\": \"quantitative\"}, {\"field\": \"p50\", \"type\": \"quantitative\"}, {\"field\": \"p75\", \"type\": \"quantitative\"}], \"x\": {\"value\": 30}, \"y\": {\"value\": 15}}, \"transform\": [{\"calculate\": \"sqrt(-2*log(random()))*cos(2*PI*random())\", \"as\": \"jitter\"}, {\"filter\": \"(datum.fastest_trip === 1)\"}]}]}]}, \"resolve\": {\"scale\": {\"y\": \"shared\"}}, \"title\": \"Ratio of Bus to Car Travel Time\", \"$schema\": \"https://vega.github.io/schema/vega-lite/v4.17.0.json\", \"datasets\": {\"data-ab7a4173dd8549fb0cbfdb3c9098fe70\": [{\"calitp_itp_id\": 218, \"trip_key\": 6467794635773873761, \"trip_id\": \"10_30\", \"shape_id\": \"p_898090\", \"route_id\": \"10\", \"service_hours\": 1.17, \"trip_first_departure_ts\": 72600, \"trip_last_arrival_ts\": 76800, \"departure_hour\": 20, \"time_of_day\": \"Owl Service\", \"p25\": 1.47, \"p50\": 1.55, \"p75\": 1.8, \"p50_trip\": 0, \"fastest_trip\": 1, \"car_duration_hours\": 0.96, \"competitive_route\": 1, \"bus_multiplier\": 1.22, \"bus_difference\": 12.6, \"num_trips\": 30, \"num_competitive\": 30, \"pct_trips_competitive\": 1.0, \"bus_difference_spread\": 42.6, \"route_group\": \"long\", \"max_trip_hrs\": 1.88, \"max_trip_route_group\": 1.88, \"name\": \"Napa Valley Transportation Authority\", \"caltrans_district\": \"04 - Oakland\", \"drmt_organization_name\": \"['recHtk7XryNwJBqw8']\", \"cutoff2\": 40, \"cutoff\": 2}, {\"calitp_itp_id\": 218, \"trip_key\": 8042285806916958521, \"trip_id\": \"10_29\", \"shape_id\": \"p_898090\", \"route_id\": \"10\", \"service_hours\": 1.17, \"trip_first_departure_ts\": 69000, \"trip_last_arrival_ts\": 73200, \"departure_hour\": 19, \"time_of_day\": \"PM Peak\", \"p25\": 1.47, \"p50\": 1.55, \"p75\": 1.8, \"p50_trip\": 0, \"fastest_trip\": 0, \"car_duration_hours\": 0.96, \"competitive_route\": 1, \"bus_multiplier\": 1.22, \"bus_difference\": 12.6, \"num_trips\": 30, \"num_competitive\": 30, \"pct_trips_competitive\": 1.0, \"bus_difference_spread\": 42.6, \"route_group\": \"long\", \"max_trip_hrs\": 1.88, \"max_trip_route_group\": 1.88, \"name\": \"Napa Valley Transportation Authority\", \"caltrans_district\": \"04 - Oakland\", \"drmt_organization_name\": \"['recHtk7XryNwJBqw8']\", \"cutoff2\": 40, \"cutoff\": 2}, {\"calitp_itp_id\": 218, \"trip_key\": 986661995778110530, \"trip_id\": \"10_1\", \"shape_id\": \"p_898089\", \"route_id\": \"10\", \"service_hours\": 1.42, \"trip_first_departure_ts\": 19500, \"trip_last_arrival_ts\": 24600, \"departure_hour\": 5, \"time_of_day\": \"Owl Service\", \"p25\": 1.47, \"p50\": 1.55, \"p75\": 1.8, \"p50_trip\": 0, \"fastest_trip\": 0, \"car_duration_hours\": 0.96, \"competitive_route\": 1, \"bus_multiplier\": 1.48, \"bus_difference\": 27.6, \"num_trips\": 30, \"num_competitive\": 30, \"pct_trips_competitive\": 1.0, \"bus_difference_spread\": 42.6, \"route_group\": \"long\", \"max_trip_hrs\": 1.88, \"max_trip_route_group\": 1.88, \"name\": \"Napa Valley Transportation Authority\", \"caltrans_district\": \"04 - Oakland\", \"drmt_organization_name\": \"['recHtk7XryNwJBqw8']\", \"cutoff2\": 40, \"cutoff\": 2}, {\"calitp_itp_id\": 218, \"trip_key\": 1317869666611843911, \"trip_id\": \"10_4\", \"shape_id\": \"p_898084\", \"route_id\": \"10\", \"service_hours\": 1.47, \"trip_first_departure_ts\": 25200, \"trip_last_arrival_ts\": 30480, \"departure_hour\": 7, \"time_of_day\": \"AM Peak\", \"p25\": 1.47, \"p50\": 1.55, \"p75\": 1.8, \"p50_trip\": 0, \"fastest_trip\": 0, \"car_duration_hours\": 0.96, \"competitive_route\": 1, \"bus_multiplier\": 1.53, \"bus_difference\": 30.6, \"num_trips\": 30, \"num_competitive\": 30, \"pct_trips_competitive\": 1.0, \"bus_difference_spread\": 42.6, \"route_group\": \"long\", \"max_trip_hrs\": 1.88, \"max_trip_route_group\": 1.88, \"name\": \"Napa Valley Transportation Authority\", \"caltrans_district\": \"04 - Oakland\", \"drmt_organization_name\": \"['recHtk7XryNwJBqw8']\", \"cutoff2\": 40, \"cutoff\": 2}, {\"calitp_itp_id\": 218, \"trip_key\": 671941475023548537, \"trip_id\": \"10_6\", \"shape_id\": \"p_898084\", \"route_id\": \"10\", \"service_hours\": 1.47, \"trip_first_departure_ts\": 28800, \"trip_last_arrival_ts\": 34080, \"departure_hour\": 8, \"time_of_day\": \"AM Peak\", \"p25\": 1.47, \"p50\": 1.55, \"p75\": 1.8, \"p50_trip\": 0, \"fastest_trip\": 0, \"car_duration_hours\": 0.96, \"competitive_route\": 1, \"bus_multiplier\": 1.53, \"bus_difference\": 30.6, \"num_trips\": 30, \"num_competitive\": 30, \"pct_trips_competitive\": 1.0, \"bus_difference_spread\": 42.6, \"route_group\": \"long\", \"max_trip_hrs\": 1.88, \"max_trip_route_group\": 1.88, \"name\": \"Napa Valley Transportation Authority\", \"caltrans_district\": \"04 - Oakland\", \"drmt_organization_name\": \"['recHtk7XryNwJBqw8']\", \"cutoff2\": 40, \"cutoff\": 2}, {\"calitp_itp_id\": 218, \"trip_key\": 7192410226191917268, \"trip_id\": \"10_11\", \"shape_id\": \"p_898084\", \"route_id\": \"10\", \"service_hours\": 1.47, \"trip_first_departure_ts\": 36600, \"trip_last_arrival_ts\": 41880, \"departure_hour\": 10, \"time_of_day\": \"Midday\", \"p25\": 1.47, \"p50\": 1.55, \"p75\": 1.8, \"p50_trip\": 0, \"fastest_trip\": 0, \"car_duration_hours\": 0.96, \"competitive_route\": 1, \"bus_multiplier\": 1.53, \"bus_difference\": 30.6, \"num_trips\": 30, \"num_competitive\": 30, \"pct_trips_competitive\": 1.0, \"bus_difference_spread\": 42.6, \"route_group\": \"long\", \"max_trip_hrs\": 1.88, \"max_trip_route_group\": 1.88, \"name\": \"Napa Valley Transportation Authority\", \"caltrans_district\": \"04 - Oakland\", \"drmt_organization_name\": \"['recHtk7XryNwJBqw8']\", \"cutoff2\": 40, \"cutoff\": 2}, {\"calitp_itp_id\": 218, \"trip_key\": 1343863764268156569, \"trip_id\": \"10_15\", \"shape_id\": \"p_898084\", \"route_id\": \"10\", \"service_hours\": 1.47, \"trip_first_departure_ts\": 43800, \"trip_last_arrival_ts\": 49080, \"departure_hour\": 12, \"time_of_day\": \"Midday\", \"p25\": 1.47, \"p50\": 1.55, \"p75\": 1.8, \"p50_trip\": 0, \"fastest_trip\": 0, \"car_duration_hours\": 0.96, \"competitive_route\": 1, \"bus_multiplier\": 1.53, \"bus_difference\": 30.6, \"num_trips\": 30, \"num_competitive\": 30, \"pct_trips_competitive\": 1.0, \"bus_difference_spread\": 42.6, \"route_group\": \"long\", \"max_trip_hrs\": 1.88, \"max_trip_route_group\": 1.88, \"name\": \"Napa Valley Transportation Authority\", \"caltrans_district\": \"04 - Oakland\", \"drmt_organization_name\": \"['recHtk7XryNwJBqw8']\", \"cutoff2\": 40, \"cutoff\": 2}, {\"calitp_itp_id\": 218, \"trip_key\": -9202588143252444523, \"trip_id\": \"10_13\", \"shape_id\": \"p_898084\", \"route_id\": \"10\", \"service_hours\": 1.47, \"trip_first_departure_ts\": 40200, \"trip_last_arrival_ts\": 45480, \"departure_hour\": 11, \"time_of_day\": \"Midday\", \"p25\": 1.47, \"p50\": 1.55, \"p75\": 1.8, \"p50_trip\": 0, \"fastest_trip\": 0, \"car_duration_hours\": 0.96, \"competitive_route\": 1, \"bus_multiplier\": 1.53, \"bus_difference\": 30.6, \"num_trips\": 30, \"num_competitive\": 30, \"pct_trips_competitive\": 1.0, \"bus_difference_spread\": 42.6, \"route_group\": \"long\", \"max_trip_hrs\": 1.88, \"max_trip_route_group\": 1.88, \"name\": \"Napa Valley Transportation Authority\", \"caltrans_district\": \"04 - Oakland\", \"drmt_organization_name\": \"['recHtk7XryNwJBqw8']\", \"cutoff2\": 40, \"cutoff\": 2}, {\"calitp_itp_id\": 218, \"trip_key\": -8020796081942504117, \"trip_id\": \"10_2\", \"shape_id\": \"p_898084\", \"route_id\": \"10\", \"service_hours\": 1.47, \"trip_first_departure_ts\": 21600, \"trip_last_arrival_ts\": 26880, \"departure_hour\": 6, \"time_of_day\": \"Owl Service\", \"p25\": 1.47, \"p50\": 1.55, \"p75\": 1.8, \"p50_trip\": 0, \"fastest_trip\": 0, \"car_duration_hours\": 0.96, \"competitive_route\": 1, \"bus_multiplier\": 1.53, \"bus_difference\": 30.6, \"num_trips\": 30, \"num_competitive\": 30, \"pct_trips_competitive\": 1.0, \"bus_difference_spread\": 42.6, \"route_group\": \"long\", \"max_trip_hrs\": 1.88, \"max_trip_route_group\": 1.88, \"name\": \"Napa Valley Transportation Authority\", \"caltrans_district\": \"04 - Oakland\", \"drmt_organization_name\": \"['recHtk7XryNwJBqw8']\", \"cutoff2\": 40, \"cutoff\": 2}, {\"calitp_itp_id\": 218, \"trip_key\": 1723759728176208758, \"trip_id\": \"10_3\", \"shape_id\": \"p_898089\", \"route_id\": \"10\", \"service_hours\": 1.48, \"trip_first_departure_ts\": 23100, \"trip_last_arrival_ts\": 28440, \"departure_hour\": 6, \"time_of_day\": \"Owl Service\", \"p25\": 1.47, \"p50\": 1.55, \"p75\": 1.8, \"p50_trip\": 0, \"fastest_trip\": 0, \"car_duration_hours\": 0.96, \"competitive_route\": 1, \"bus_multiplier\": 1.54, \"bus_difference\": 31.2, \"num_trips\": 30, \"num_competitive\": 30, \"pct_trips_competitive\": 1.0, \"bus_difference_spread\": 42.6, \"route_group\": \"long\", \"max_trip_hrs\": 1.88, \"max_trip_route_group\": 1.88, \"name\": \"Napa Valley Transportation Authority\", \"caltrans_district\": \"04 - Oakland\", \"drmt_organization_name\": \"['recHtk7XryNwJBqw8']\", \"cutoff2\": 40, \"cutoff\": 2}, {\"calitp_itp_id\": 218, \"trip_key\": 7198914193494524005, \"trip_id\": \"10_9\", \"shape_id\": \"p_898084\", \"route_id\": \"10\", \"service_hours\": 1.5, \"trip_first_departure_ts\": 33000, \"trip_last_arrival_ts\": 38400, \"departure_hour\": 9, \"time_of_day\": \"AM Peak\", \"p25\": 1.47, \"p50\": 1.55, \"p75\": 1.8, \"p50_trip\": 0, \"fastest_trip\": 0, \"car_duration_hours\": 0.96, \"competitive_route\": 1, \"bus_multiplier\": 1.56, \"bus_difference\": 32.4, \"num_trips\": 30, \"num_competitive\": 30, \"pct_trips_competitive\": 1.0, \"bus_difference_spread\": 42.6, \"route_group\": \"long\", \"max_trip_hrs\": 1.88, \"max_trip_route_group\": 1.88, \"name\": \"Napa Valley Transportation Authority\", \"caltrans_district\": \"04 - Oakland\", \"drmt_organization_name\": \"['recHtk7XryNwJBqw8']\", \"cutoff2\": 40, \"cutoff\": 2}, {\"calitp_itp_id\": 218, \"trip_key\": -3551089665278796193, \"trip_id\": \"10_17\", \"shape_id\": \"p_898084\", \"route_id\": \"10\", \"service_hours\": 1.5, \"trip_first_departure_ts\": 47400, \"trip_last_arrival_ts\": 52800, \"departure_hour\": 13, \"time_of_day\": \"Midday\", \"p25\": 1.47, \"p50\": 1.55, \"p75\": 1.8, \"p50_trip\": 0, \"fastest_trip\": 0, \"car_duration_hours\": 0.96, \"competitive_route\": 1, \"bus_multiplier\": 1.56, \"bus_difference\": 32.4, \"num_trips\": 30, \"num_competitive\": 30, \"pct_trips_competitive\": 1.0, \"bus_difference_spread\": 42.6, \"route_group\": \"long\", \"max_trip_hrs\": 1.88, \"max_trip_route_group\": 1.88, \"name\": \"Napa Valley Transportation Authority\", \"caltrans_district\": \"04 - Oakland\", \"drmt_organization_name\": \"['recHtk7XryNwJBqw8']\", \"cutoff2\": 40, \"cutoff\": 2}, {\"calitp_itp_id\": 218, \"trip_key\": 817773007029551233, \"trip_id\": \"10_27\", \"shape_id\": \"p_898084\", \"route_id\": \"10\", \"service_hours\": 1.55, \"trip_first_departure_ts\": 65400, \"trip_last_arrival_ts\": 70980, \"departure_hour\": 18, \"time_of_day\": \"PM Peak\", \"p25\": 1.47, \"p50\": 1.55, \"p75\": 1.8, \"p50_trip\": 1, \"fastest_trip\": 0, \"car_duration_hours\": 0.96, \"competitive_route\": 1, \"bus_multiplier\": 1.61, \"bus_difference\": 35.4, \"num_trips\": 30, \"num_competitive\": 30, \"pct_trips_competitive\": 1.0, \"bus_difference_spread\": 42.6, \"route_group\": \"long\", \"max_trip_hrs\": 1.88, \"max_trip_route_group\": 1.88, \"name\": \"Napa Valley Transportation Authority\", \"caltrans_district\": \"04 - Oakland\", \"drmt_organization_name\": \"['recHtk7XryNwJBqw8']\", \"cutoff2\": 40, \"cutoff\": 2}, {\"calitp_itp_id\": 218, \"trip_key\": -5010951452090103244, \"trip_id\": \"10_23\", \"shape_id\": \"p_898084\", \"route_id\": \"10\", \"service_hours\": 1.55, \"trip_first_departure_ts\": 58200, \"trip_last_arrival_ts\": 63780, \"departure_hour\": 16, \"time_of_day\": \"Midday\", \"p25\": 1.47, \"p50\": 1.55, \"p75\": 1.8, \"p50_trip\": 1, \"fastest_trip\": 0, \"car_duration_hours\": 0.96, \"competitive_route\": 1, \"bus_multiplier\": 1.61, \"bus_difference\": 35.4, \"num_trips\": 30, \"num_competitive\": 30, \"pct_trips_competitive\": 1.0, \"bus_difference_spread\": 42.6, \"route_group\": \"long\", \"max_trip_hrs\": 1.88, \"max_trip_route_group\": 1.88, \"name\": \"Napa Valley Transportation Authority\", \"caltrans_district\": \"04 - Oakland\", \"drmt_organization_name\": \"['recHtk7XryNwJBqw8']\", \"cutoff2\": 40, \"cutoff\": 2}, {\"calitp_itp_id\": 218, \"trip_key\": -599202613074558816, \"trip_id\": \"10_5\", \"shape_id\": \"p_898089\", \"route_id\": \"10\", \"service_hours\": 1.55, \"trip_first_departure_ts\": 26700, \"trip_last_arrival_ts\": 32280, \"departure_hour\": 7, \"time_of_day\": \"AM Peak\", \"p25\": 1.47, \"p50\": 1.55, \"p75\": 1.8, \"p50_trip\": 1, \"fastest_trip\": 0, \"car_duration_hours\": 0.96, \"competitive_route\": 1, \"bus_multiplier\": 1.61, \"bus_difference\": 35.4, \"num_trips\": 30, \"num_competitive\": 30, \"pct_trips_competitive\": 1.0, \"bus_difference_spread\": 42.6, \"route_group\": \"long\", \"max_trip_hrs\": 1.88, \"max_trip_route_group\": 1.88, \"name\": \"Napa Valley Transportation Authority\", \"caltrans_district\": \"04 - Oakland\", \"drmt_organization_name\": \"['recHtk7XryNwJBqw8']\", \"cutoff2\": 40, \"cutoff\": 2}, {\"calitp_itp_id\": 218, \"trip_key\": 8247832136445812458, \"trip_id\": \"10_19\", \"shape_id\": \"p_898084\", \"route_id\": \"10\", \"service_hours\": 1.55, \"trip_first_departure_ts\": 51000, \"trip_last_arrival_ts\": 56580, \"departure_hour\": 14, \"time_of_day\": \"Midday\", \"p25\": 1.47, \"p50\": 1.55, \"p75\": 1.8, \"p50_trip\": 1, \"fastest_trip\": 0, \"car_duration_hours\": 0.96, \"competitive_route\": 1, \"bus_multiplier\": 1.61, \"bus_difference\": 35.4, \"num_trips\": 30, \"num_competitive\": 30, \"pct_trips_competitive\": 1.0, \"bus_difference_spread\": 42.6, \"route_group\": \"long\", \"max_trip_hrs\": 1.88, \"max_trip_route_group\": 1.88, \"name\": \"Napa Valley Transportation Authority\", \"caltrans_district\": \"04 - Oakland\", \"drmt_organization_name\": \"['recHtk7XryNwJBqw8']\", \"cutoff2\": 40, \"cutoff\": 2}, {\"calitp_itp_id\": 218, \"trip_key\": -3201752532946839375, \"trip_id\": \"10_25\", \"shape_id\": \"p_898084\", \"route_id\": \"10\", \"service_hours\": 1.55, \"trip_first_departure_ts\": 61800, \"trip_last_arrival_ts\": 67380, \"departure_hour\": 17, \"time_of_day\": \"PM Peak\", \"p25\": 1.47, \"p50\": 1.55, \"p75\": 1.8, \"p50_trip\": 1, \"fastest_trip\": 0, \"car_duration_hours\": 0.96, \"competitive_route\": 1, \"bus_multiplier\": 1.61, \"bus_difference\": 35.4, \"num_trips\": 30, \"num_competitive\": 30, \"pct_trips_competitive\": 1.0, \"bus_difference_spread\": 42.6, \"route_group\": \"long\", \"max_trip_hrs\": 1.88, \"max_trip_route_group\": 1.88, \"name\": \"Napa Valley Transportation Authority\", \"caltrans_district\": \"04 - Oakland\", \"drmt_organization_name\": \"['recHtk7XryNwJBqw8']\", \"cutoff2\": 40, \"cutoff\": 2}, {\"calitp_itp_id\": 218, \"trip_key\": 5367945392681273496, \"trip_id\": \"10_7\", \"shape_id\": \"p_898089\", \"route_id\": \"10\", \"service_hours\": 1.55, \"trip_first_departure_ts\": 30300, \"trip_last_arrival_ts\": 35880, \"departure_hour\": 8, \"time_of_day\": \"AM Peak\", \"p25\": 1.47, \"p50\": 1.55, \"p75\": 1.8, \"p50_trip\": 1, \"fastest_trip\": 0, \"car_duration_hours\": 0.96, \"competitive_route\": 1, \"bus_multiplier\": 1.61, \"bus_difference\": 35.4, \"num_trips\": 30, \"num_competitive\": 30, \"pct_trips_competitive\": 1.0, \"bus_difference_spread\": 42.6, \"route_group\": \"long\", \"max_trip_hrs\": 1.88, \"max_trip_route_group\": 1.88, \"name\": \"Napa Valley Transportation Authority\", \"caltrans_district\": \"04 - Oakland\", \"drmt_organization_name\": \"['recHtk7XryNwJBqw8']\", \"cutoff2\": 40, \"cutoff\": 2}, {\"calitp_itp_id\": 218, \"trip_key\": 4401695198598346021, \"trip_id\": \"10_21\", \"shape_id\": \"p_898084\", \"route_id\": \"10\", \"service_hours\": 1.58, \"trip_first_departure_ts\": 54600, \"trip_last_arrival_ts\": 60300, \"departure_hour\": 15, \"time_of_day\": \"Midday\", \"p25\": 1.47, \"p50\": 1.55, \"p75\": 1.8, \"p50_trip\": 0, \"fastest_trip\": 0, \"car_duration_hours\": 0.96, \"competitive_route\": 1, \"bus_multiplier\": 1.65, \"bus_difference\": 37.2, \"num_trips\": 30, \"num_competitive\": 30, \"pct_trips_competitive\": 1.0, \"bus_difference_spread\": 42.6, \"route_group\": \"long\", \"max_trip_hrs\": 1.88, \"max_trip_route_group\": 1.88, \"name\": \"Napa Valley Transportation Authority\", \"caltrans_district\": \"04 - Oakland\", \"drmt_organization_name\": \"['recHtk7XryNwJBqw8']\", \"cutoff2\": 40, \"cutoff\": 2}, {\"calitp_itp_id\": 218, \"trip_key\": 4593401526497462543, \"trip_id\": \"10_14\", \"shape_id\": \"p_898087\", \"route_id\": \"10\", \"service_hours\": 1.8, \"trip_first_departure_ts\": 43800, \"trip_last_arrival_ts\": 50280, \"departure_hour\": 12, \"time_of_day\": \"Midday\", \"p25\": 1.47, \"p50\": 1.55, \"p75\": 1.8, \"p50_trip\": 0, \"fastest_trip\": 0, \"car_duration_hours\": 0.96, \"competitive_route\": 1, \"bus_multiplier\": 1.88, \"bus_difference\": 50.4, \"num_trips\": 30, \"num_competitive\": 30, \"pct_trips_competitive\": 1.0, \"bus_difference_spread\": 42.6, \"route_group\": \"long\", \"max_trip_hrs\": 1.88, \"max_trip_route_group\": 1.88, \"name\": \"Napa Valley Transportation Authority\", \"caltrans_district\": \"04 - Oakland\", \"drmt_organization_name\": \"['recHtk7XryNwJBqw8']\", \"cutoff2\": 40, \"cutoff\": 2}, {\"calitp_itp_id\": 218, \"trip_key\": -1076600169618370328, \"trip_id\": \"10_12\", \"shape_id\": \"p_898087\", \"route_id\": \"10\", \"service_hours\": 1.8, \"trip_first_departure_ts\": 40200, \"trip_last_arrival_ts\": 46680, \"departure_hour\": 11, \"time_of_day\": \"Midday\", \"p25\": 1.47, \"p50\": 1.55, \"p75\": 1.8, \"p50_trip\": 0, \"fastest_trip\": 0, \"car_duration_hours\": 0.96, \"competitive_route\": 1, \"bus_multiplier\": 1.88, \"bus_difference\": 50.4, \"num_trips\": 30, \"num_competitive\": 30, \"pct_trips_competitive\": 1.0, \"bus_difference_spread\": 42.6, \"route_group\": \"long\", \"max_trip_hrs\": 1.88, \"max_trip_route_group\": 1.88, \"name\": \"Napa Valley Transportation Authority\", \"caltrans_district\": \"04 - Oakland\", \"drmt_organization_name\": \"['recHtk7XryNwJBqw8']\", \"cutoff2\": 40, \"cutoff\": 2}, {\"calitp_itp_id\": 218, \"trip_key\": 1089817318215845389, \"trip_id\": \"10_8\", \"shape_id\": \"p_898087\", \"route_id\": \"10\", \"service_hours\": 1.8, \"trip_first_departure_ts\": 33000, \"trip_last_arrival_ts\": 39480, \"departure_hour\": 9, \"time_of_day\": \"AM Peak\", \"p25\": 1.47, \"p50\": 1.55, \"p75\": 1.8, \"p50_trip\": 0, \"fastest_trip\": 0, \"car_duration_hours\": 0.96, \"competitive_route\": 1, \"bus_multiplier\": 1.88, \"bus_difference\": 50.4, \"num_trips\": 30, \"num_competitive\": 30, \"pct_trips_competitive\": 1.0, \"bus_difference_spread\": 42.6, \"route_group\": \"long\", \"max_trip_hrs\": 1.88, \"max_trip_route_group\": 1.88, \"name\": \"Napa Valley Transportation Authority\", \"caltrans_district\": \"04 - Oakland\", \"drmt_organization_name\": \"['recHtk7XryNwJBqw8']\", \"cutoff2\": 40, \"cutoff\": 2}, {\"calitp_itp_id\": 218, \"trip_key\": -6063063861326665872, \"trip_id\": \"10_10\", \"shape_id\": \"p_898087\", \"route_id\": \"10\", \"service_hours\": 1.8, \"trip_first_departure_ts\": 36600, \"trip_last_arrival_ts\": 43080, \"departure_hour\": 10, \"time_of_day\": \"Midday\", \"p25\": 1.47, \"p50\": 1.55, \"p75\": 1.8, \"p50_trip\": 0, \"fastest_trip\": 0, \"car_duration_hours\": 0.96, \"competitive_route\": 1, \"bus_multiplier\": 1.88, \"bus_difference\": 50.4, \"num_trips\": 30, \"num_competitive\": 30, \"pct_trips_competitive\": 1.0, \"bus_difference_spread\": 42.6, \"route_group\": \"long\", \"max_trip_hrs\": 1.88, \"max_trip_route_group\": 1.88, \"name\": \"Napa Valley Transportation Authority\", \"caltrans_district\": \"04 - Oakland\", \"drmt_organization_name\": \"['recHtk7XryNwJBqw8']\", \"cutoff2\": 40, \"cutoff\": 2}, {\"calitp_itp_id\": 218, \"trip_key\": -8156075425298929121, \"trip_id\": \"10_28\", \"shape_id\": \"p_898087\", \"route_id\": \"10\", \"service_hours\": 1.88, \"trip_first_departure_ts\": 69000, \"trip_last_arrival_ts\": 75780, \"departure_hour\": 19, \"time_of_day\": \"PM Peak\", \"p25\": 1.47, \"p50\": 1.55, \"p75\": 1.8, \"p50_trip\": 0, \"fastest_trip\": 0, \"car_duration_hours\": 0.96, \"competitive_route\": 1, \"bus_multiplier\": 1.96, \"bus_difference\": 55.2, \"num_trips\": 30, \"num_competitive\": 30, \"pct_trips_competitive\": 1.0, \"bus_difference_spread\": 42.6, \"route_group\": \"long\", \"max_trip_hrs\": 1.88, \"max_trip_route_group\": 1.88, \"name\": \"Napa Valley Transportation Authority\", \"caltrans_district\": \"04 - Oakland\", \"drmt_organization_name\": \"['recHtk7XryNwJBqw8']\", \"cutoff2\": 40, \"cutoff\": 2}, {\"calitp_itp_id\": 218, \"trip_key\": -7358657327265253346, \"trip_id\": \"10_26\", \"shape_id\": \"p_898087\", \"route_id\": \"10\", \"service_hours\": 1.88, \"trip_first_departure_ts\": 65400, \"trip_last_arrival_ts\": 72180, \"departure_hour\": 18, \"time_of_day\": \"PM Peak\", \"p25\": 1.47, \"p50\": 1.55, \"p75\": 1.8, \"p50_trip\": 0, \"fastest_trip\": 0, \"car_duration_hours\": 0.96, \"competitive_route\": 1, \"bus_multiplier\": 1.96, \"bus_difference\": 55.2, \"num_trips\": 30, \"num_competitive\": 30, \"pct_trips_competitive\": 1.0, \"bus_difference_spread\": 42.6, \"route_group\": \"long\", \"max_trip_hrs\": 1.88, \"max_trip_route_group\": 1.88, \"name\": \"Napa Valley Transportation Authority\", \"caltrans_district\": \"04 - Oakland\", \"drmt_organization_name\": \"['recHtk7XryNwJBqw8']\", \"cutoff2\": 40, \"cutoff\": 2}, {\"calitp_itp_id\": 218, \"trip_key\": -7564352948690648836, \"trip_id\": \"10_24\", \"shape_id\": \"p_898087\", \"route_id\": \"10\", \"service_hours\": 1.88, \"trip_first_departure_ts\": 61800, \"trip_last_arrival_ts\": 68580, \"departure_hour\": 17, \"time_of_day\": \"PM Peak\", \"p25\": 1.47, \"p50\": 1.55, \"p75\": 1.8, \"p50_trip\": 0, \"fastest_trip\": 0, \"car_duration_hours\": 0.96, \"competitive_route\": 1, \"bus_multiplier\": 1.96, \"bus_difference\": 55.2, \"num_trips\": 30, \"num_competitive\": 30, \"pct_trips_competitive\": 1.0, \"bus_difference_spread\": 42.6, \"route_group\": \"long\", \"max_trip_hrs\": 1.88, \"max_trip_route_group\": 1.88, \"name\": \"Napa Valley Transportation Authority\", \"caltrans_district\": \"04 - Oakland\", \"drmt_organization_name\": \"['recHtk7XryNwJBqw8']\", \"cutoff2\": 40, \"cutoff\": 2}, {\"calitp_itp_id\": 218, \"trip_key\": -8062010072737685178, \"trip_id\": \"10_18\", \"shape_id\": \"p_898087\", \"route_id\": \"10\", \"service_hours\": 1.88, \"trip_first_departure_ts\": 51000, \"trip_last_arrival_ts\": 57780, \"departure_hour\": 14, \"time_of_day\": \"Midday\", \"p25\": 1.47, \"p50\": 1.55, \"p75\": 1.8, \"p50_trip\": 0, \"fastest_trip\": 0, \"car_duration_hours\": 0.96, \"competitive_route\": 1, \"bus_multiplier\": 1.96, \"bus_difference\": 55.2, \"num_trips\": 30, \"num_competitive\": 30, \"pct_trips_competitive\": 1.0, \"bus_difference_spread\": 42.6, \"route_group\": \"long\", \"max_trip_hrs\": 1.88, \"max_trip_route_group\": 1.88, \"name\": \"Napa Valley Transportation Authority\", \"caltrans_district\": \"04 - Oakland\", \"drmt_organization_name\": \"['recHtk7XryNwJBqw8']\", \"cutoff2\": 40, \"cutoff\": 2}, {\"calitp_itp_id\": 218, \"trip_key\": 8277525530911795217, \"trip_id\": \"10_22\", \"shape_id\": \"p_898087\", \"route_id\": \"10\", \"service_hours\": 1.88, \"trip_first_departure_ts\": 58200, \"trip_last_arrival_ts\": 64980, \"departure_hour\": 16, \"time_of_day\": \"Midday\", \"p25\": 1.47, \"p50\": 1.55, \"p75\": 1.8, \"p50_trip\": 0, \"fastest_trip\": 0, \"car_duration_hours\": 0.96, \"competitive_route\": 1, \"bus_multiplier\": 1.96, \"bus_difference\": 55.2, \"num_trips\": 30, \"num_competitive\": 30, \"pct_trips_competitive\": 1.0, \"bus_difference_spread\": 42.6, \"route_group\": \"long\", \"max_trip_hrs\": 1.88, \"max_trip_route_group\": 1.88, \"name\": \"Napa Valley Transportation Authority\", \"caltrans_district\": \"04 - Oakland\", \"drmt_organization_name\": \"['recHtk7XryNwJBqw8']\", \"cutoff2\": 40, \"cutoff\": 2}, {\"calitp_itp_id\": 218, \"trip_key\": 3981222857740117334, \"trip_id\": \"10_16\", \"shape_id\": \"p_898087\", \"route_id\": \"10\", \"service_hours\": 1.88, \"trip_first_departure_ts\": 47400, \"trip_last_arrival_ts\": 54180, \"departure_hour\": 13, \"time_of_day\": \"Midday\", \"p25\": 1.47, \"p50\": 1.55, \"p75\": 1.8, \"p50_trip\": 0, \"fastest_trip\": 0, \"car_duration_hours\": 0.96, \"competitive_route\": 1, \"bus_multiplier\": 1.96, \"bus_difference\": 55.2, \"num_trips\": 30, \"num_competitive\": 30, \"pct_trips_competitive\": 1.0, \"bus_difference_spread\": 42.6, \"route_group\": \"long\", \"max_trip_hrs\": 1.88, \"max_trip_route_group\": 1.88, \"name\": \"Napa Valley Transportation Authority\", \"caltrans_district\": \"04 - Oakland\", \"drmt_organization_name\": \"['recHtk7XryNwJBqw8']\", \"cutoff2\": 40, \"cutoff\": 2}, {\"calitp_itp_id\": 218, \"trip_key\": -8075002563116720108, \"trip_id\": \"10_20\", \"shape_id\": \"p_898087\", \"route_id\": \"10\", \"service_hours\": 1.88, \"trip_first_departure_ts\": 54600, \"trip_last_arrival_ts\": 61380, \"departure_hour\": 15, \"time_of_day\": \"Midday\", \"p25\": 1.47, \"p50\": 1.55, \"p75\": 1.8, \"p50_trip\": 0, \"fastest_trip\": 0, \"car_duration_hours\": 0.96, \"competitive_route\": 1, \"bus_multiplier\": 1.96, \"bus_difference\": 55.2, \"num_trips\": 30, \"num_competitive\": 30, \"pct_trips_competitive\": 1.0, \"bus_difference_spread\": 42.6, \"route_group\": \"long\", \"max_trip_hrs\": 1.88, \"max_trip_route_group\": 1.88, \"name\": \"Napa Valley Transportation Authority\", \"caltrans_district\": \"04 - Oakland\", \"drmt_organization_name\": \"['recHtk7XryNwJBqw8']\", \"cutoff2\": 40, \"cutoff\": 2}]}}, {\"mode\": \"vega-lite\"});\n",
       "</script>"
      ],
      "text/plain": [
       "alt.FacetChart(...)"
      ]
     },
     "metadata": {},
     "output_type": "display_data"
    },
    {
     "data": {
      "text/html": [
       "\n",
       "<div id=\"altair-viz-3a728db823504de38c82adeaf184261a\"></div>\n",
       "<script type=\"text/javascript\">\n",
       "  var VEGA_DEBUG = (typeof VEGA_DEBUG == \"undefined\") ? {} : VEGA_DEBUG;\n",
       "  (function(spec, embedOpt){\n",
       "    let outputDiv = document.currentScript.previousElementSibling;\n",
       "    if (outputDiv.id !== \"altair-viz-3a728db823504de38c82adeaf184261a\") {\n",
       "      outputDiv = document.getElementById(\"altair-viz-3a728db823504de38c82adeaf184261a\");\n",
       "    }\n",
       "    const paths = {\n",
       "      \"vega\": \"https://cdn.jsdelivr.net/npm//vega@5?noext\",\n",
       "      \"vega-lib\": \"https://cdn.jsdelivr.net/npm//vega-lib?noext\",\n",
       "      \"vega-lite\": \"https://cdn.jsdelivr.net/npm//vega-lite@4.17.0?noext\",\n",
       "      \"vega-embed\": \"https://cdn.jsdelivr.net/npm//vega-embed@6?noext\",\n",
       "    };\n",
       "\n",
       "    function maybeLoadScript(lib, version) {\n",
       "      var key = `${lib.replace(\"-\", \"\")}_version`;\n",
       "      return (VEGA_DEBUG[key] == version) ?\n",
       "        Promise.resolve(paths[lib]) :\n",
       "        new Promise(function(resolve, reject) {\n",
       "          var s = document.createElement('script');\n",
       "          document.getElementsByTagName(\"head\")[0].appendChild(s);\n",
       "          s.async = true;\n",
       "          s.onload = () => {\n",
       "            VEGA_DEBUG[key] = version;\n",
       "            return resolve(paths[lib]);\n",
       "          };\n",
       "          s.onerror = () => reject(`Error loading script: ${paths[lib]}`);\n",
       "          s.src = paths[lib];\n",
       "        });\n",
       "    }\n",
       "\n",
       "    function showError(err) {\n",
       "      outputDiv.innerHTML = `<div class=\"error\" style=\"color:red;\">${err}</div>`;\n",
       "      throw err;\n",
       "    }\n",
       "\n",
       "    function displayChart(vegaEmbed) {\n",
       "      vegaEmbed(outputDiv, spec, embedOpt)\n",
       "        .catch(err => showError(`Javascript Error: ${err.message}<br>This usually means there's a typo in your chart specification. See the javascript console for the full traceback.`));\n",
       "    }\n",
       "\n",
       "    if(typeof define === \"function\" && define.amd) {\n",
       "      requirejs.config({paths});\n",
       "      require([\"vega-embed\"], displayChart, err => showError(`Error loading script: ${err.message}`));\n",
       "    } else {\n",
       "      maybeLoadScript(\"vega\", \"5\")\n",
       "        .then(() => maybeLoadScript(\"vega-lite\", \"4.17.0\"))\n",
       "        .then(() => maybeLoadScript(\"vega-embed\", \"6\"))\n",
       "        .catch(showError)\n",
       "        .then(() => displayChart(vegaEmbed));\n",
       "    }\n",
       "  })({\"config\": {\"view\": {\"continuousWidth\": 400, \"continuousHeight\": 300, \"stroke\": null}, \"facet\": {\"spacing\": 0}}, \"data\": {\"name\": \"data-a4c63a76ced9ac697184deca742d02a0\"}, \"facet\": {\"column\": {\"field\": \"route_id\", \"sort\": [\"10\"], \"title\": \"Route ID\", \"type\": \"nominal\"}}, \"spec\": {\"layer\": [{\"mark\": {\"type\": \"point\", \"opacity\": 0.65, \"size\": 12, \"strokeWidth\": 1.1}, \"encoding\": {\"color\": {\"field\": \"time_of_day\", \"scale\": {\"range\": [\"#136C97\", \"#E16B26\", \"#F6BF16\", \"#00896B\", \"#7790A3\", \"#5B559C\"]}, \"sort\": [\"AM Peak\", \"Midday\", \"PM Peak\", \"Owl Service\"], \"title\": \"Time of Day\", \"type\": \"nominal\"}, \"tooltip\": [{\"field\": \"route_id\", \"type\": \"nominal\"}, {\"field\": \"trip_id\", \"type\": \"nominal\"}, {\"field\": \"service_hours\", \"type\": \"quantitative\"}, {\"field\": \"car_duration_hours\", \"type\": \"quantitative\"}, {\"field\": \"bus_multiplier\", \"type\": \"quantitative\"}, {\"field\": \"bus_difference\", \"type\": \"quantitative\"}, {\"field\": \"num_trips\", \"type\": \"quantitative\"}, {\"field\": \"num_competitive\", \"type\": \"quantitative\"}, {\"field\": \"pct_trips_competitive\", \"type\": \"quantitative\"}, {\"field\": \"p25\", \"type\": \"quantitative\"}, {\"field\": \"p50\", \"type\": \"quantitative\"}, {\"field\": \"p75\", \"type\": \"quantitative\"}], \"x\": {\"axis\": {\"grid\": false, \"labels\": false, \"ticks\": true, \"values\": [0]}, \"field\": \"jitter\", \"scale\": {}, \"title\": null, \"type\": \"quantitative\"}, \"y\": {\"field\": \"bus_difference\", \"scale\": {\"domain\": [-5, 55.2]}, \"title\": \"Difference in Bus to Car Travel Time (min)\", \"type\": \"quantitative\"}}, \"selection\": {\"selector004\": {\"type\": \"interval\", \"bind\": \"scales\", \"encodings\": [\"x\", \"y\"]}}, \"transform\": [{\"calculate\": \"sqrt(-2*log(random()))*cos(2*PI*random())\", \"as\": \"jitter\"}], \"width\": 60}, {\"layer\": [{\"mark\": {\"type\": \"point\", \"opacity\": 0.6, \"size\": 20, \"strokeWidth\": 1.3}, \"encoding\": {\"color\": {\"value\": \"#323434\"}, \"y\": {\"field\": \"bus_difference\", \"type\": \"quantitative\"}}, \"transform\": [{\"filter\": \"(datum.p50_trip === 1)\"}]}, {\"mark\": {\"type\": \"rule\", \"strokeDash\": [2, 3]}, \"encoding\": {\"color\": {\"value\": \"#323434\"}, \"y\": {\"field\": \"cutoff\", \"type\": \"quantitative\"}}}, {\"mark\": {\"type\": \"rule\", \"strokeDash\": [2, 3]}, \"encoding\": {\"color\": {\"value\": \"#136C97\"}, \"y\": {\"field\": \"cutoff2\", \"type\": \"quantitative\"}}}, {\"mark\": {\"type\": \"text\", \"align\": \"center\", \"baseline\": \"middle\"}, \"encoding\": {\"color\": {\"value\": \"black\"}, \"text\": {\"field\": \"pct_trips_competitive\", \"format\": \".0%\", \"type\": \"quantitative\"}, \"tooltip\": [{\"field\": \"route_id\", \"type\": \"nominal\"}, {\"field\": \"trip_id\", \"type\": \"nominal\"}, {\"field\": \"service_hours\", \"type\": \"quantitative\"}, {\"field\": \"car_duration_hours\", \"type\": \"quantitative\"}, {\"field\": \"bus_multiplier\", \"type\": \"quantitative\"}, {\"field\": \"bus_difference\", \"type\": \"quantitative\"}, {\"field\": \"num_trips\", \"type\": \"quantitative\"}, {\"field\": \"num_competitive\", \"type\": \"quantitative\"}, {\"field\": \"pct_trips_competitive\", \"type\": \"quantitative\"}, {\"field\": \"p25\", \"type\": \"quantitative\"}, {\"field\": \"p50\", \"type\": \"quantitative\"}, {\"field\": \"p75\", \"type\": \"quantitative\"}], \"x\": {\"value\": 30}, \"y\": {\"value\": 15}}, \"transform\": [{\"calculate\": \"sqrt(-2*log(random()))*cos(2*PI*random())\", \"as\": \"jitter\"}, {\"filter\": \"(datum.fastest_trip === 1)\"}]}]}]}, \"resolve\": {\"scale\": {\"y\": \"shared\"}}, \"title\": \"Difference in Bus to Car Travel Time (min)\", \"$schema\": \"https://vega.github.io/schema/vega-lite/v4.17.0.json\", \"datasets\": {\"data-a4c63a76ced9ac697184deca742d02a0\": [{\"calitp_itp_id\": 218, \"trip_key\": 6467794635773873761, \"trip_id\": \"10_30\", \"shape_id\": \"p_898090\", \"route_id\": \"10\", \"service_hours\": 1.17, \"trip_first_departure_ts\": 72600, \"trip_last_arrival_ts\": 76800, \"departure_hour\": 20, \"time_of_day\": \"Owl Service\", \"p25\": 1.47, \"p50\": 1.55, \"p75\": 1.8, \"p50_trip\": 0, \"fastest_trip\": 1, \"car_duration_hours\": 0.96, \"competitive_route\": 1, \"bus_multiplier\": 1.22, \"bus_difference\": 12.6, \"num_trips\": 30, \"num_competitive\": 30, \"pct_trips_competitive\": 1.0, \"bus_difference_spread\": 42.6, \"route_group\": \"long\", \"max_trip_hrs\": 1.88, \"max_trip_route_group\": 1.88, \"name\": \"Napa Valley Transportation Authority\", \"caltrans_district\": \"04 - Oakland\", \"drmt_organization_name\": \"['recHtk7XryNwJBqw8']\", \"cutoff2\": 40, \"cutoff\": 0}, {\"calitp_itp_id\": 218, \"trip_key\": 8042285806916958521, \"trip_id\": \"10_29\", \"shape_id\": \"p_898090\", \"route_id\": \"10\", \"service_hours\": 1.17, \"trip_first_departure_ts\": 69000, \"trip_last_arrival_ts\": 73200, \"departure_hour\": 19, \"time_of_day\": \"PM Peak\", \"p25\": 1.47, \"p50\": 1.55, \"p75\": 1.8, \"p50_trip\": 0, \"fastest_trip\": 0, \"car_duration_hours\": 0.96, \"competitive_route\": 1, \"bus_multiplier\": 1.22, \"bus_difference\": 12.6, \"num_trips\": 30, \"num_competitive\": 30, \"pct_trips_competitive\": 1.0, \"bus_difference_spread\": 42.6, \"route_group\": \"long\", \"max_trip_hrs\": 1.88, \"max_trip_route_group\": 1.88, \"name\": \"Napa Valley Transportation Authority\", \"caltrans_district\": \"04 - Oakland\", \"drmt_organization_name\": \"['recHtk7XryNwJBqw8']\", \"cutoff2\": 40, \"cutoff\": 0}, {\"calitp_itp_id\": 218, \"trip_key\": 986661995778110530, \"trip_id\": \"10_1\", \"shape_id\": \"p_898089\", \"route_id\": \"10\", \"service_hours\": 1.42, \"trip_first_departure_ts\": 19500, \"trip_last_arrival_ts\": 24600, \"departure_hour\": 5, \"time_of_day\": \"Owl Service\", \"p25\": 1.47, \"p50\": 1.55, \"p75\": 1.8, \"p50_trip\": 0, \"fastest_trip\": 0, \"car_duration_hours\": 0.96, \"competitive_route\": 1, \"bus_multiplier\": 1.48, \"bus_difference\": 27.6, \"num_trips\": 30, \"num_competitive\": 30, \"pct_trips_competitive\": 1.0, \"bus_difference_spread\": 42.6, \"route_group\": \"long\", \"max_trip_hrs\": 1.88, \"max_trip_route_group\": 1.88, \"name\": \"Napa Valley Transportation Authority\", \"caltrans_district\": \"04 - Oakland\", \"drmt_organization_name\": \"['recHtk7XryNwJBqw8']\", \"cutoff2\": 40, \"cutoff\": 0}, {\"calitp_itp_id\": 218, \"trip_key\": 1317869666611843911, \"trip_id\": \"10_4\", \"shape_id\": \"p_898084\", \"route_id\": \"10\", \"service_hours\": 1.47, \"trip_first_departure_ts\": 25200, \"trip_last_arrival_ts\": 30480, \"departure_hour\": 7, \"time_of_day\": \"AM Peak\", \"p25\": 1.47, \"p50\": 1.55, \"p75\": 1.8, \"p50_trip\": 0, \"fastest_trip\": 0, \"car_duration_hours\": 0.96, \"competitive_route\": 1, \"bus_multiplier\": 1.53, \"bus_difference\": 30.6, \"num_trips\": 30, \"num_competitive\": 30, \"pct_trips_competitive\": 1.0, \"bus_difference_spread\": 42.6, \"route_group\": \"long\", \"max_trip_hrs\": 1.88, \"max_trip_route_group\": 1.88, \"name\": \"Napa Valley Transportation Authority\", \"caltrans_district\": \"04 - Oakland\", \"drmt_organization_name\": \"['recHtk7XryNwJBqw8']\", \"cutoff2\": 40, \"cutoff\": 0}, {\"calitp_itp_id\": 218, \"trip_key\": 671941475023548537, \"trip_id\": \"10_6\", \"shape_id\": \"p_898084\", \"route_id\": \"10\", \"service_hours\": 1.47, \"trip_first_departure_ts\": 28800, \"trip_last_arrival_ts\": 34080, \"departure_hour\": 8, \"time_of_day\": \"AM Peak\", \"p25\": 1.47, \"p50\": 1.55, \"p75\": 1.8, \"p50_trip\": 0, \"fastest_trip\": 0, \"car_duration_hours\": 0.96, \"competitive_route\": 1, \"bus_multiplier\": 1.53, \"bus_difference\": 30.6, \"num_trips\": 30, \"num_competitive\": 30, \"pct_trips_competitive\": 1.0, \"bus_difference_spread\": 42.6, \"route_group\": \"long\", \"max_trip_hrs\": 1.88, \"max_trip_route_group\": 1.88, \"name\": \"Napa Valley Transportation Authority\", \"caltrans_district\": \"04 - Oakland\", \"drmt_organization_name\": \"['recHtk7XryNwJBqw8']\", \"cutoff2\": 40, \"cutoff\": 0}, {\"calitp_itp_id\": 218, \"trip_key\": 7192410226191917268, \"trip_id\": \"10_11\", \"shape_id\": \"p_898084\", \"route_id\": \"10\", \"service_hours\": 1.47, \"trip_first_departure_ts\": 36600, \"trip_last_arrival_ts\": 41880, \"departure_hour\": 10, \"time_of_day\": \"Midday\", \"p25\": 1.47, \"p50\": 1.55, \"p75\": 1.8, \"p50_trip\": 0, \"fastest_trip\": 0, \"car_duration_hours\": 0.96, \"competitive_route\": 1, \"bus_multiplier\": 1.53, \"bus_difference\": 30.6, \"num_trips\": 30, \"num_competitive\": 30, \"pct_trips_competitive\": 1.0, \"bus_difference_spread\": 42.6, \"route_group\": \"long\", \"max_trip_hrs\": 1.88, \"max_trip_route_group\": 1.88, \"name\": \"Napa Valley Transportation Authority\", \"caltrans_district\": \"04 - Oakland\", \"drmt_organization_name\": \"['recHtk7XryNwJBqw8']\", \"cutoff2\": 40, \"cutoff\": 0}, {\"calitp_itp_id\": 218, \"trip_key\": 1343863764268156569, \"trip_id\": \"10_15\", \"shape_id\": \"p_898084\", \"route_id\": \"10\", \"service_hours\": 1.47, \"trip_first_departure_ts\": 43800, \"trip_last_arrival_ts\": 49080, \"departure_hour\": 12, \"time_of_day\": \"Midday\", \"p25\": 1.47, \"p50\": 1.55, \"p75\": 1.8, \"p50_trip\": 0, \"fastest_trip\": 0, \"car_duration_hours\": 0.96, \"competitive_route\": 1, \"bus_multiplier\": 1.53, \"bus_difference\": 30.6, \"num_trips\": 30, \"num_competitive\": 30, \"pct_trips_competitive\": 1.0, \"bus_difference_spread\": 42.6, \"route_group\": \"long\", \"max_trip_hrs\": 1.88, \"max_trip_route_group\": 1.88, \"name\": \"Napa Valley Transportation Authority\", \"caltrans_district\": \"04 - Oakland\", \"drmt_organization_name\": \"['recHtk7XryNwJBqw8']\", \"cutoff2\": 40, \"cutoff\": 0}, {\"calitp_itp_id\": 218, \"trip_key\": -9202588143252444523, \"trip_id\": \"10_13\", \"shape_id\": \"p_898084\", \"route_id\": \"10\", \"service_hours\": 1.47, \"trip_first_departure_ts\": 40200, \"trip_last_arrival_ts\": 45480, \"departure_hour\": 11, \"time_of_day\": \"Midday\", \"p25\": 1.47, \"p50\": 1.55, \"p75\": 1.8, \"p50_trip\": 0, \"fastest_trip\": 0, \"car_duration_hours\": 0.96, \"competitive_route\": 1, \"bus_multiplier\": 1.53, \"bus_difference\": 30.6, \"num_trips\": 30, \"num_competitive\": 30, \"pct_trips_competitive\": 1.0, \"bus_difference_spread\": 42.6, \"route_group\": \"long\", \"max_trip_hrs\": 1.88, \"max_trip_route_group\": 1.88, \"name\": \"Napa Valley Transportation Authority\", \"caltrans_district\": \"04 - Oakland\", \"drmt_organization_name\": \"['recHtk7XryNwJBqw8']\", \"cutoff2\": 40, \"cutoff\": 0}, {\"calitp_itp_id\": 218, \"trip_key\": -8020796081942504117, \"trip_id\": \"10_2\", \"shape_id\": \"p_898084\", \"route_id\": \"10\", \"service_hours\": 1.47, \"trip_first_departure_ts\": 21600, \"trip_last_arrival_ts\": 26880, \"departure_hour\": 6, \"time_of_day\": \"Owl Service\", \"p25\": 1.47, \"p50\": 1.55, \"p75\": 1.8, \"p50_trip\": 0, \"fastest_trip\": 0, \"car_duration_hours\": 0.96, \"competitive_route\": 1, \"bus_multiplier\": 1.53, \"bus_difference\": 30.6, \"num_trips\": 30, \"num_competitive\": 30, \"pct_trips_competitive\": 1.0, \"bus_difference_spread\": 42.6, \"route_group\": \"long\", \"max_trip_hrs\": 1.88, \"max_trip_route_group\": 1.88, \"name\": \"Napa Valley Transportation Authority\", \"caltrans_district\": \"04 - Oakland\", \"drmt_organization_name\": \"['recHtk7XryNwJBqw8']\", \"cutoff2\": 40, \"cutoff\": 0}, {\"calitp_itp_id\": 218, \"trip_key\": 1723759728176208758, \"trip_id\": \"10_3\", \"shape_id\": \"p_898089\", \"route_id\": \"10\", \"service_hours\": 1.48, \"trip_first_departure_ts\": 23100, \"trip_last_arrival_ts\": 28440, \"departure_hour\": 6, \"time_of_day\": \"Owl Service\", \"p25\": 1.47, \"p50\": 1.55, \"p75\": 1.8, \"p50_trip\": 0, \"fastest_trip\": 0, \"car_duration_hours\": 0.96, \"competitive_route\": 1, \"bus_multiplier\": 1.54, \"bus_difference\": 31.2, \"num_trips\": 30, \"num_competitive\": 30, \"pct_trips_competitive\": 1.0, \"bus_difference_spread\": 42.6, \"route_group\": \"long\", \"max_trip_hrs\": 1.88, \"max_trip_route_group\": 1.88, \"name\": \"Napa Valley Transportation Authority\", \"caltrans_district\": \"04 - Oakland\", \"drmt_organization_name\": \"['recHtk7XryNwJBqw8']\", \"cutoff2\": 40, \"cutoff\": 0}, {\"calitp_itp_id\": 218, \"trip_key\": 7198914193494524005, \"trip_id\": \"10_9\", \"shape_id\": \"p_898084\", \"route_id\": \"10\", \"service_hours\": 1.5, \"trip_first_departure_ts\": 33000, \"trip_last_arrival_ts\": 38400, \"departure_hour\": 9, \"time_of_day\": \"AM Peak\", \"p25\": 1.47, \"p50\": 1.55, \"p75\": 1.8, \"p50_trip\": 0, \"fastest_trip\": 0, \"car_duration_hours\": 0.96, \"competitive_route\": 1, \"bus_multiplier\": 1.56, \"bus_difference\": 32.4, \"num_trips\": 30, \"num_competitive\": 30, \"pct_trips_competitive\": 1.0, \"bus_difference_spread\": 42.6, \"route_group\": \"long\", \"max_trip_hrs\": 1.88, \"max_trip_route_group\": 1.88, \"name\": \"Napa Valley Transportation Authority\", \"caltrans_district\": \"04 - Oakland\", \"drmt_organization_name\": \"['recHtk7XryNwJBqw8']\", \"cutoff2\": 40, \"cutoff\": 0}, {\"calitp_itp_id\": 218, \"trip_key\": -3551089665278796193, \"trip_id\": \"10_17\", \"shape_id\": \"p_898084\", \"route_id\": \"10\", \"service_hours\": 1.5, \"trip_first_departure_ts\": 47400, \"trip_last_arrival_ts\": 52800, \"departure_hour\": 13, \"time_of_day\": \"Midday\", \"p25\": 1.47, \"p50\": 1.55, \"p75\": 1.8, \"p50_trip\": 0, \"fastest_trip\": 0, \"car_duration_hours\": 0.96, \"competitive_route\": 1, \"bus_multiplier\": 1.56, \"bus_difference\": 32.4, \"num_trips\": 30, \"num_competitive\": 30, \"pct_trips_competitive\": 1.0, \"bus_difference_spread\": 42.6, \"route_group\": \"long\", \"max_trip_hrs\": 1.88, \"max_trip_route_group\": 1.88, \"name\": \"Napa Valley Transportation Authority\", \"caltrans_district\": \"04 - Oakland\", \"drmt_organization_name\": \"['recHtk7XryNwJBqw8']\", \"cutoff2\": 40, \"cutoff\": 0}, {\"calitp_itp_id\": 218, \"trip_key\": 817773007029551233, \"trip_id\": \"10_27\", \"shape_id\": \"p_898084\", \"route_id\": \"10\", \"service_hours\": 1.55, \"trip_first_departure_ts\": 65400, \"trip_last_arrival_ts\": 70980, \"departure_hour\": 18, \"time_of_day\": \"PM Peak\", \"p25\": 1.47, \"p50\": 1.55, \"p75\": 1.8, \"p50_trip\": 1, \"fastest_trip\": 0, \"car_duration_hours\": 0.96, \"competitive_route\": 1, \"bus_multiplier\": 1.61, \"bus_difference\": 35.4, \"num_trips\": 30, \"num_competitive\": 30, \"pct_trips_competitive\": 1.0, \"bus_difference_spread\": 42.6, \"route_group\": \"long\", \"max_trip_hrs\": 1.88, \"max_trip_route_group\": 1.88, \"name\": \"Napa Valley Transportation Authority\", \"caltrans_district\": \"04 - Oakland\", \"drmt_organization_name\": \"['recHtk7XryNwJBqw8']\", \"cutoff2\": 40, \"cutoff\": 0}, {\"calitp_itp_id\": 218, \"trip_key\": -5010951452090103244, \"trip_id\": \"10_23\", \"shape_id\": \"p_898084\", \"route_id\": \"10\", \"service_hours\": 1.55, \"trip_first_departure_ts\": 58200, \"trip_last_arrival_ts\": 63780, \"departure_hour\": 16, \"time_of_day\": \"Midday\", \"p25\": 1.47, \"p50\": 1.55, \"p75\": 1.8, \"p50_trip\": 1, \"fastest_trip\": 0, \"car_duration_hours\": 0.96, \"competitive_route\": 1, \"bus_multiplier\": 1.61, \"bus_difference\": 35.4, \"num_trips\": 30, \"num_competitive\": 30, \"pct_trips_competitive\": 1.0, \"bus_difference_spread\": 42.6, \"route_group\": \"long\", \"max_trip_hrs\": 1.88, \"max_trip_route_group\": 1.88, \"name\": \"Napa Valley Transportation Authority\", \"caltrans_district\": \"04 - Oakland\", \"drmt_organization_name\": \"['recHtk7XryNwJBqw8']\", \"cutoff2\": 40, \"cutoff\": 0}, {\"calitp_itp_id\": 218, \"trip_key\": -599202613074558816, \"trip_id\": \"10_5\", \"shape_id\": \"p_898089\", \"route_id\": \"10\", \"service_hours\": 1.55, \"trip_first_departure_ts\": 26700, \"trip_last_arrival_ts\": 32280, \"departure_hour\": 7, \"time_of_day\": \"AM Peak\", \"p25\": 1.47, \"p50\": 1.55, \"p75\": 1.8, \"p50_trip\": 1, \"fastest_trip\": 0, \"car_duration_hours\": 0.96, \"competitive_route\": 1, \"bus_multiplier\": 1.61, \"bus_difference\": 35.4, \"num_trips\": 30, \"num_competitive\": 30, \"pct_trips_competitive\": 1.0, \"bus_difference_spread\": 42.6, \"route_group\": \"long\", \"max_trip_hrs\": 1.88, \"max_trip_route_group\": 1.88, \"name\": \"Napa Valley Transportation Authority\", \"caltrans_district\": \"04 - Oakland\", \"drmt_organization_name\": \"['recHtk7XryNwJBqw8']\", \"cutoff2\": 40, \"cutoff\": 0}, {\"calitp_itp_id\": 218, \"trip_key\": 8247832136445812458, \"trip_id\": \"10_19\", \"shape_id\": \"p_898084\", \"route_id\": \"10\", \"service_hours\": 1.55, \"trip_first_departure_ts\": 51000, \"trip_last_arrival_ts\": 56580, \"departure_hour\": 14, \"time_of_day\": \"Midday\", \"p25\": 1.47, \"p50\": 1.55, \"p75\": 1.8, \"p50_trip\": 1, \"fastest_trip\": 0, \"car_duration_hours\": 0.96, \"competitive_route\": 1, \"bus_multiplier\": 1.61, \"bus_difference\": 35.4, \"num_trips\": 30, \"num_competitive\": 30, \"pct_trips_competitive\": 1.0, \"bus_difference_spread\": 42.6, \"route_group\": \"long\", \"max_trip_hrs\": 1.88, \"max_trip_route_group\": 1.88, \"name\": \"Napa Valley Transportation Authority\", \"caltrans_district\": \"04 - Oakland\", \"drmt_organization_name\": \"['recHtk7XryNwJBqw8']\", \"cutoff2\": 40, \"cutoff\": 0}, {\"calitp_itp_id\": 218, \"trip_key\": -3201752532946839375, \"trip_id\": \"10_25\", \"shape_id\": \"p_898084\", \"route_id\": \"10\", \"service_hours\": 1.55, \"trip_first_departure_ts\": 61800, \"trip_last_arrival_ts\": 67380, \"departure_hour\": 17, \"time_of_day\": \"PM Peak\", \"p25\": 1.47, \"p50\": 1.55, \"p75\": 1.8, \"p50_trip\": 1, \"fastest_trip\": 0, \"car_duration_hours\": 0.96, \"competitive_route\": 1, \"bus_multiplier\": 1.61, \"bus_difference\": 35.4, \"num_trips\": 30, \"num_competitive\": 30, \"pct_trips_competitive\": 1.0, \"bus_difference_spread\": 42.6, \"route_group\": \"long\", \"max_trip_hrs\": 1.88, \"max_trip_route_group\": 1.88, \"name\": \"Napa Valley Transportation Authority\", \"caltrans_district\": \"04 - Oakland\", \"drmt_organization_name\": \"['recHtk7XryNwJBqw8']\", \"cutoff2\": 40, \"cutoff\": 0}, {\"calitp_itp_id\": 218, \"trip_key\": 5367945392681273496, \"trip_id\": \"10_7\", \"shape_id\": \"p_898089\", \"route_id\": \"10\", \"service_hours\": 1.55, \"trip_first_departure_ts\": 30300, \"trip_last_arrival_ts\": 35880, \"departure_hour\": 8, \"time_of_day\": \"AM Peak\", \"p25\": 1.47, \"p50\": 1.55, \"p75\": 1.8, \"p50_trip\": 1, \"fastest_trip\": 0, \"car_duration_hours\": 0.96, \"competitive_route\": 1, \"bus_multiplier\": 1.61, \"bus_difference\": 35.4, \"num_trips\": 30, \"num_competitive\": 30, \"pct_trips_competitive\": 1.0, \"bus_difference_spread\": 42.6, \"route_group\": \"long\", \"max_trip_hrs\": 1.88, \"max_trip_route_group\": 1.88, \"name\": \"Napa Valley Transportation Authority\", \"caltrans_district\": \"04 - Oakland\", \"drmt_organization_name\": \"['recHtk7XryNwJBqw8']\", \"cutoff2\": 40, \"cutoff\": 0}, {\"calitp_itp_id\": 218, \"trip_key\": 4401695198598346021, \"trip_id\": \"10_21\", \"shape_id\": \"p_898084\", \"route_id\": \"10\", \"service_hours\": 1.58, \"trip_first_departure_ts\": 54600, \"trip_last_arrival_ts\": 60300, \"departure_hour\": 15, \"time_of_day\": \"Midday\", \"p25\": 1.47, \"p50\": 1.55, \"p75\": 1.8, \"p50_trip\": 0, \"fastest_trip\": 0, \"car_duration_hours\": 0.96, \"competitive_route\": 1, \"bus_multiplier\": 1.65, \"bus_difference\": 37.2, \"num_trips\": 30, \"num_competitive\": 30, \"pct_trips_competitive\": 1.0, \"bus_difference_spread\": 42.6, \"route_group\": \"long\", \"max_trip_hrs\": 1.88, \"max_trip_route_group\": 1.88, \"name\": \"Napa Valley Transportation Authority\", \"caltrans_district\": \"04 - Oakland\", \"drmt_organization_name\": \"['recHtk7XryNwJBqw8']\", \"cutoff2\": 40, \"cutoff\": 0}, {\"calitp_itp_id\": 218, \"trip_key\": 4593401526497462543, \"trip_id\": \"10_14\", \"shape_id\": \"p_898087\", \"route_id\": \"10\", \"service_hours\": 1.8, \"trip_first_departure_ts\": 43800, \"trip_last_arrival_ts\": 50280, \"departure_hour\": 12, \"time_of_day\": \"Midday\", \"p25\": 1.47, \"p50\": 1.55, \"p75\": 1.8, \"p50_trip\": 0, \"fastest_trip\": 0, \"car_duration_hours\": 0.96, \"competitive_route\": 1, \"bus_multiplier\": 1.88, \"bus_difference\": 50.4, \"num_trips\": 30, \"num_competitive\": 30, \"pct_trips_competitive\": 1.0, \"bus_difference_spread\": 42.6, \"route_group\": \"long\", \"max_trip_hrs\": 1.88, \"max_trip_route_group\": 1.88, \"name\": \"Napa Valley Transportation Authority\", \"caltrans_district\": \"04 - Oakland\", \"drmt_organization_name\": \"['recHtk7XryNwJBqw8']\", \"cutoff2\": 40, \"cutoff\": 0}, {\"calitp_itp_id\": 218, \"trip_key\": -1076600169618370328, \"trip_id\": \"10_12\", \"shape_id\": \"p_898087\", \"route_id\": \"10\", \"service_hours\": 1.8, \"trip_first_departure_ts\": 40200, \"trip_last_arrival_ts\": 46680, \"departure_hour\": 11, \"time_of_day\": \"Midday\", \"p25\": 1.47, \"p50\": 1.55, \"p75\": 1.8, \"p50_trip\": 0, \"fastest_trip\": 0, \"car_duration_hours\": 0.96, \"competitive_route\": 1, \"bus_multiplier\": 1.88, \"bus_difference\": 50.4, \"num_trips\": 30, \"num_competitive\": 30, \"pct_trips_competitive\": 1.0, \"bus_difference_spread\": 42.6, \"route_group\": \"long\", \"max_trip_hrs\": 1.88, \"max_trip_route_group\": 1.88, \"name\": \"Napa Valley Transportation Authority\", \"caltrans_district\": \"04 - Oakland\", \"drmt_organization_name\": \"['recHtk7XryNwJBqw8']\", \"cutoff2\": 40, \"cutoff\": 0}, {\"calitp_itp_id\": 218, \"trip_key\": 1089817318215845389, \"trip_id\": \"10_8\", \"shape_id\": \"p_898087\", \"route_id\": \"10\", \"service_hours\": 1.8, \"trip_first_departure_ts\": 33000, \"trip_last_arrival_ts\": 39480, \"departure_hour\": 9, \"time_of_day\": \"AM Peak\", \"p25\": 1.47, \"p50\": 1.55, \"p75\": 1.8, \"p50_trip\": 0, \"fastest_trip\": 0, \"car_duration_hours\": 0.96, \"competitive_route\": 1, \"bus_multiplier\": 1.88, \"bus_difference\": 50.4, \"num_trips\": 30, \"num_competitive\": 30, \"pct_trips_competitive\": 1.0, \"bus_difference_spread\": 42.6, \"route_group\": \"long\", \"max_trip_hrs\": 1.88, \"max_trip_route_group\": 1.88, \"name\": \"Napa Valley Transportation Authority\", \"caltrans_district\": \"04 - Oakland\", \"drmt_organization_name\": \"['recHtk7XryNwJBqw8']\", \"cutoff2\": 40, \"cutoff\": 0}, {\"calitp_itp_id\": 218, \"trip_key\": -6063063861326665872, \"trip_id\": \"10_10\", \"shape_id\": \"p_898087\", \"route_id\": \"10\", \"service_hours\": 1.8, \"trip_first_departure_ts\": 36600, \"trip_last_arrival_ts\": 43080, \"departure_hour\": 10, \"time_of_day\": \"Midday\", \"p25\": 1.47, \"p50\": 1.55, \"p75\": 1.8, \"p50_trip\": 0, \"fastest_trip\": 0, \"car_duration_hours\": 0.96, \"competitive_route\": 1, \"bus_multiplier\": 1.88, \"bus_difference\": 50.4, \"num_trips\": 30, \"num_competitive\": 30, \"pct_trips_competitive\": 1.0, \"bus_difference_spread\": 42.6, \"route_group\": \"long\", \"max_trip_hrs\": 1.88, \"max_trip_route_group\": 1.88, \"name\": \"Napa Valley Transportation Authority\", \"caltrans_district\": \"04 - Oakland\", \"drmt_organization_name\": \"['recHtk7XryNwJBqw8']\", \"cutoff2\": 40, \"cutoff\": 0}, {\"calitp_itp_id\": 218, \"trip_key\": -8156075425298929121, \"trip_id\": \"10_28\", \"shape_id\": \"p_898087\", \"route_id\": \"10\", \"service_hours\": 1.88, \"trip_first_departure_ts\": 69000, \"trip_last_arrival_ts\": 75780, \"departure_hour\": 19, \"time_of_day\": \"PM Peak\", \"p25\": 1.47, \"p50\": 1.55, \"p75\": 1.8, \"p50_trip\": 0, \"fastest_trip\": 0, \"car_duration_hours\": 0.96, \"competitive_route\": 1, \"bus_multiplier\": 1.96, \"bus_difference\": 55.2, \"num_trips\": 30, \"num_competitive\": 30, \"pct_trips_competitive\": 1.0, \"bus_difference_spread\": 42.6, \"route_group\": \"long\", \"max_trip_hrs\": 1.88, \"max_trip_route_group\": 1.88, \"name\": \"Napa Valley Transportation Authority\", \"caltrans_district\": \"04 - Oakland\", \"drmt_organization_name\": \"['recHtk7XryNwJBqw8']\", \"cutoff2\": 40, \"cutoff\": 0}, {\"calitp_itp_id\": 218, \"trip_key\": -7358657327265253346, \"trip_id\": \"10_26\", \"shape_id\": \"p_898087\", \"route_id\": \"10\", \"service_hours\": 1.88, \"trip_first_departure_ts\": 65400, \"trip_last_arrival_ts\": 72180, \"departure_hour\": 18, \"time_of_day\": \"PM Peak\", \"p25\": 1.47, \"p50\": 1.55, \"p75\": 1.8, \"p50_trip\": 0, \"fastest_trip\": 0, \"car_duration_hours\": 0.96, \"competitive_route\": 1, \"bus_multiplier\": 1.96, \"bus_difference\": 55.2, \"num_trips\": 30, \"num_competitive\": 30, \"pct_trips_competitive\": 1.0, \"bus_difference_spread\": 42.6, \"route_group\": \"long\", \"max_trip_hrs\": 1.88, \"max_trip_route_group\": 1.88, \"name\": \"Napa Valley Transportation Authority\", \"caltrans_district\": \"04 - Oakland\", \"drmt_organization_name\": \"['recHtk7XryNwJBqw8']\", \"cutoff2\": 40, \"cutoff\": 0}, {\"calitp_itp_id\": 218, \"trip_key\": -7564352948690648836, \"trip_id\": \"10_24\", \"shape_id\": \"p_898087\", \"route_id\": \"10\", \"service_hours\": 1.88, \"trip_first_departure_ts\": 61800, \"trip_last_arrival_ts\": 68580, \"departure_hour\": 17, \"time_of_day\": \"PM Peak\", \"p25\": 1.47, \"p50\": 1.55, \"p75\": 1.8, \"p50_trip\": 0, \"fastest_trip\": 0, \"car_duration_hours\": 0.96, \"competitive_route\": 1, \"bus_multiplier\": 1.96, \"bus_difference\": 55.2, \"num_trips\": 30, \"num_competitive\": 30, \"pct_trips_competitive\": 1.0, \"bus_difference_spread\": 42.6, \"route_group\": \"long\", \"max_trip_hrs\": 1.88, \"max_trip_route_group\": 1.88, \"name\": \"Napa Valley Transportation Authority\", \"caltrans_district\": \"04 - Oakland\", \"drmt_organization_name\": \"['recHtk7XryNwJBqw8']\", \"cutoff2\": 40, \"cutoff\": 0}, {\"calitp_itp_id\": 218, \"trip_key\": -8062010072737685178, \"trip_id\": \"10_18\", \"shape_id\": \"p_898087\", \"route_id\": \"10\", \"service_hours\": 1.88, \"trip_first_departure_ts\": 51000, \"trip_last_arrival_ts\": 57780, \"departure_hour\": 14, \"time_of_day\": \"Midday\", \"p25\": 1.47, \"p50\": 1.55, \"p75\": 1.8, \"p50_trip\": 0, \"fastest_trip\": 0, \"car_duration_hours\": 0.96, \"competitive_route\": 1, \"bus_multiplier\": 1.96, \"bus_difference\": 55.2, \"num_trips\": 30, \"num_competitive\": 30, \"pct_trips_competitive\": 1.0, \"bus_difference_spread\": 42.6, \"route_group\": \"long\", \"max_trip_hrs\": 1.88, \"max_trip_route_group\": 1.88, \"name\": \"Napa Valley Transportation Authority\", \"caltrans_district\": \"04 - Oakland\", \"drmt_organization_name\": \"['recHtk7XryNwJBqw8']\", \"cutoff2\": 40, \"cutoff\": 0}, {\"calitp_itp_id\": 218, \"trip_key\": 8277525530911795217, \"trip_id\": \"10_22\", \"shape_id\": \"p_898087\", \"route_id\": \"10\", \"service_hours\": 1.88, \"trip_first_departure_ts\": 58200, \"trip_last_arrival_ts\": 64980, \"departure_hour\": 16, \"time_of_day\": \"Midday\", \"p25\": 1.47, \"p50\": 1.55, \"p75\": 1.8, \"p50_trip\": 0, \"fastest_trip\": 0, \"car_duration_hours\": 0.96, \"competitive_route\": 1, \"bus_multiplier\": 1.96, \"bus_difference\": 55.2, \"num_trips\": 30, \"num_competitive\": 30, \"pct_trips_competitive\": 1.0, \"bus_difference_spread\": 42.6, \"route_group\": \"long\", \"max_trip_hrs\": 1.88, \"max_trip_route_group\": 1.88, \"name\": \"Napa Valley Transportation Authority\", \"caltrans_district\": \"04 - Oakland\", \"drmt_organization_name\": \"['recHtk7XryNwJBqw8']\", \"cutoff2\": 40, \"cutoff\": 0}, {\"calitp_itp_id\": 218, \"trip_key\": 3981222857740117334, \"trip_id\": \"10_16\", \"shape_id\": \"p_898087\", \"route_id\": \"10\", \"service_hours\": 1.88, \"trip_first_departure_ts\": 47400, \"trip_last_arrival_ts\": 54180, \"departure_hour\": 13, \"time_of_day\": \"Midday\", \"p25\": 1.47, \"p50\": 1.55, \"p75\": 1.8, \"p50_trip\": 0, \"fastest_trip\": 0, \"car_duration_hours\": 0.96, \"competitive_route\": 1, \"bus_multiplier\": 1.96, \"bus_difference\": 55.2, \"num_trips\": 30, \"num_competitive\": 30, \"pct_trips_competitive\": 1.0, \"bus_difference_spread\": 42.6, \"route_group\": \"long\", \"max_trip_hrs\": 1.88, \"max_trip_route_group\": 1.88, \"name\": \"Napa Valley Transportation Authority\", \"caltrans_district\": \"04 - Oakland\", \"drmt_organization_name\": \"['recHtk7XryNwJBqw8']\", \"cutoff2\": 40, \"cutoff\": 0}, {\"calitp_itp_id\": 218, \"trip_key\": -8075002563116720108, \"trip_id\": \"10_20\", \"shape_id\": \"p_898087\", \"route_id\": \"10\", \"service_hours\": 1.88, \"trip_first_departure_ts\": 54600, \"trip_last_arrival_ts\": 61380, \"departure_hour\": 15, \"time_of_day\": \"Midday\", \"p25\": 1.47, \"p50\": 1.55, \"p75\": 1.8, \"p50_trip\": 0, \"fastest_trip\": 0, \"car_duration_hours\": 0.96, \"competitive_route\": 1, \"bus_multiplier\": 1.96, \"bus_difference\": 55.2, \"num_trips\": 30, \"num_competitive\": 30, \"pct_trips_competitive\": 1.0, \"bus_difference_spread\": 42.6, \"route_group\": \"long\", \"max_trip_hrs\": 1.88, \"max_trip_route_group\": 1.88, \"name\": \"Napa Valley Transportation Authority\", \"caltrans_district\": \"04 - Oakland\", \"drmt_organization_name\": \"['recHtk7XryNwJBqw8']\", \"cutoff2\": 40, \"cutoff\": 0}]}}, {\"mode\": \"vega-lite\"});\n",
       "</script>"
      ],
      "text/plain": [
       "alt.FacetChart(...)"
      ]
     },
     "metadata": {},
     "output_type": "display_data"
    }
   ],
   "source": [
    "route_group = \"long\"\n",
    "try:\n",
    "    subset_routes, mult, diff  = setup_charts(df, PCT_COMPETITIVE_THRESHOLD, route_group)\n",
    "    if len(subset_routes) > 0:\n",
    "        display(\n",
    "            Markdown(\n",
    "                f\"{CAPTIONS_DICT[route_group]}\"\n",
    "                \"Within each route group, routes are sorted in descending order \"\n",
    "                \"by % competitive trips and # trips below the additional time cut-off.\"\n",
    "            )\n",
    "        )\n",
    "\n",
    "        display(mult)\n",
    "        display(diff)\n",
    "except:\n",
    "    print(\"No routes meet this criteria.\")"
   ]
  }
 ],
 "metadata": {
  "kernelspec": {
   "display_name": "Python 3 (ipykernel)",
   "language": "python",
   "name": "python3"
  },
  "language_info": {
   "codemirror_mode": {
    "name": "ipython",
    "version": 3
   },
   "file_extension": ".py",
   "mimetype": "text/x-python",
   "name": "python",
   "nbconvert_exporter": "python",
   "pygments_lexer": "ipython3",
   "version": "3.9.12"
  },
  "papermill": {
   "default_parameters": {},
   "duration": 22.000347,
   "end_time": "2022-05-08T15:50:30.827966",
   "environment_variables": {},
   "exception": null,
   "input_path": "bus_service_increase/competitive-parallel-routes.ipynb",
   "output_path": "portfolio/parallel_corridors/district_04-oakland/competitive-parallel-routes__itp_id_218.ipynb",
   "parameters": {
    "district": "04 - Oakland",
    "itp_id": 218
   },
   "start_time": "2022-05-08T15:50:08.827619",
   "version": "2.3.4"
  }
 },
 "nbformat": 4,
 "nbformat_minor": 5
}