{
 "cells": [
  {
   "cell_type": "code",
   "execution_count": 1,
   "id": "95d00857-6a20-4529-a519-2cc7182928a9",
   "metadata": {
    "execution": {
     "iopub.execute_input": "2022-05-12T02:07:59.100557Z",
     "iopub.status.busy": "2022-05-12T02:07:59.099930Z",
     "iopub.status.idle": "2022-05-12T02:08:07.381117Z",
     "shell.execute_reply": "2022-05-12T02:08:07.380390Z"
    },
    "jupyter": {
     "source_hidden": true
    },
    "papermill": {
     "duration": 8.300777,
     "end_time": "2022-05-12T02:08:07.383473",
     "exception": false,
     "start_time": "2022-05-12T02:07:59.082696",
     "status": "completed"
    },
    "tags": [
     "remove_input"
    ]
   },
   "outputs": [],
   "source": [
    "%%capture\n",
    "import warnings\n",
    "warnings.filterwarnings('ignore')\n",
    "\n",
    "import altair as alt\n",
    "import calitp.magics\n",
    "import geopandas as gpd\n",
    "import intake\n",
    "import pandas as pd\n",
    "\n",
    "from IPython.display import display, Markdown, HTML\n",
    "\n",
    "import parallel_corridors_utils\n",
    "import deploy_portfolio_yaml\n",
    "from shared_utils import styleguide, geography_utils\n",
    "from make_stripplot_data import diff_cutoffs\n",
    "\n",
    "catalog = intake.open_catalog(\"./*.yml\")\n",
    "alt.renderers.enable(\"html\")"
   ]
  },
  {
   "cell_type": "code",
   "execution_count": 2,
   "id": "8af2a0c1-f3da-408d-9bea-11d9fbf8695d",
   "metadata": {
    "execution": {
     "iopub.execute_input": "2022-05-12T02:08:07.411757Z",
     "iopub.status.busy": "2022-05-12T02:08:07.411237Z",
     "iopub.status.idle": "2022-05-12T02:08:07.415117Z",
     "shell.execute_reply": "2022-05-12T02:08:07.414606Z"
    },
    "jupyter": {
     "source_hidden": true
    },
    "papermill": {
     "duration": 0.019767,
     "end_time": "2022-05-12T02:08:07.416758",
     "exception": false,
     "start_time": "2022-05-12T02:08:07.396991",
     "status": "completed"
    },
    "tags": [
     "parameters",
     "remove_input"
    ]
   },
   "outputs": [],
   "source": [
    "# parameters cell\n",
    "itp_id = 182"
   ]
  },
  {
   "cell_type": "code",
   "execution_count": 3,
   "id": "a1f94674",
   "metadata": {
    "execution": {
     "iopub.execute_input": "2022-05-12T02:08:07.442719Z",
     "iopub.status.busy": "2022-05-12T02:08:07.442188Z",
     "iopub.status.idle": "2022-05-12T02:08:07.446749Z",
     "shell.execute_reply": "2022-05-12T02:08:07.445818Z"
    },
    "jupyter": {
     "source_hidden": true
    },
    "papermill": {
     "duration": 0.019586,
     "end_time": "2022-05-12T02:08:07.448482",
     "exception": false,
     "start_time": "2022-05-12T02:08:07.428896",
     "status": "completed"
    },
    "tags": [
     "injected-parameters",
     "remove_input"
    ]
   },
   "outputs": [],
   "source": [
    "# Parameters\n",
    "district = \"04 - Oakland\"\n",
    "itp_id = 315\n"
   ]
  },
  {
   "cell_type": "code",
   "execution_count": 4,
   "id": "9582aaf4-79ff-412a-b248-8d8d693ebd4f",
   "metadata": {
    "execution": {
     "iopub.execute_input": "2022-05-12T02:08:07.474846Z",
     "iopub.status.busy": "2022-05-12T02:08:07.474575Z",
     "iopub.status.idle": "2022-05-12T02:08:08.726021Z",
     "shell.execute_reply": "2022-05-12T02:08:08.725217Z"
    },
    "jupyter": {
     "source_hidden": true
    },
    "papermill": {
     "duration": 1.267454,
     "end_time": "2022-05-12T02:08:08.728205",
     "exception": false,
     "start_time": "2022-05-12T02:08:07.460751",
     "status": "completed"
    },
    "tags": [
     "remove_input"
    ]
   },
   "outputs": [],
   "source": [
    "df = catalog.competitive_route_variability.read()\n",
    "\n",
    "df = (df[(df.calitp_itp_id == itp_id) & \n",
    "         (df.route_group.notna())]\n",
    "      .rename(columns = {\"route_name_used\": \"route_name\"})\n",
    "      .reset_index(drop=True)\n",
    "     )\n",
    "\n",
    "if itp_id == 182:\n",
    "    df = df.assign(\n",
    "        route_id = df.route_id.str.replace('-13153', '').astype(int)\n",
    "    )"
   ]
  },
  {
   "cell_type": "code",
   "execution_count": 5,
   "id": "33ac4b06-f647-4dce-a625-8f2c1b37cc60",
   "metadata": {
    "execution": {
     "iopub.execute_input": "2022-05-12T02:08:08.755584Z",
     "iopub.status.busy": "2022-05-12T02:08:08.755307Z",
     "iopub.status.idle": "2022-05-12T02:08:08.762701Z",
     "shell.execute_reply": "2022-05-12T02:08:08.761909Z"
    },
    "jupyter": {
     "source_hidden": true
    },
    "papermill": {
     "duration": 0.023063,
     "end_time": "2022-05-12T02:08:08.764428",
     "exception": false,
     "start_time": "2022-05-12T02:08:08.741365",
     "status": "completed"
    },
    "tags": [
     "remove_input"
    ]
   },
   "outputs": [],
   "source": [
    "%%capture_parameters\n",
    "operator_name = df.name.iloc[0]\n",
    "district_number = f\"{df.caltrans_district.iloc[0].split('-')[0].strip()}\"\n",
    "district_name = f\"{df.caltrans_district.iloc[0].split('-')[1].strip().lower().replace(' ', '-')}\"\n",
    "\n",
    "itp_id, operator_name, district_number, district_name"
   ]
  },
  {
   "cell_type": "markdown",
   "id": "65bc6f5c-8348-42ee-b2dd-52057c406852",
   "metadata": {
    "papermill": {
     "duration": 0.016457,
     "end_time": "2022-05-12T02:08:08.793717",
     "exception": false,
     "start_time": "2022-05-12T02:08:08.777260",
     "status": "completed"
    },
    "tags": []
   },
   "source": [
    "# Sonoma-Marin Area Rail Transit District (ITP ID: 315)"
   ]
  },
  {
   "cell_type": "code",
   "execution_count": 6,
   "id": "a689c1ab-2c6c-4831-8d64-897f5986f571",
   "metadata": {
    "execution": {
     "iopub.execute_input": "2022-05-12T02:08:08.821339Z",
     "iopub.status.busy": "2022-05-12T02:08:08.820680Z",
     "iopub.status.idle": "2022-05-12T02:08:08.826788Z",
     "shell.execute_reply": "2022-05-12T02:08:08.826273Z"
    },
    "jupyter": {
     "source_hidden": true
    },
    "papermill": {
     "duration": 0.021543,
     "end_time": "2022-05-12T02:08:08.828383",
     "exception": false,
     "start_time": "2022-05-12T02:08:08.806840",
     "status": "completed"
    },
    "tags": [
     "remove_input"
    ]
   },
   "outputs": [
    {
     "data": {
      "text/html": [
       "<h1>Competitive & Parallel Routes</h1>"
      ],
      "text/plain": [
       "<IPython.core.display.HTML object>"
      ]
     },
     "metadata": {},
     "output_type": "display_data"
    }
   ],
   "source": [
    "display(HTML(\"<h1>Competitive & Parallel Routes</h1>\")) "
   ]
  },
  {
   "cell_type": "code",
   "execution_count": 7,
   "id": "2cb4d8d5-4760-40e4-85b1-cb833d8bb648",
   "metadata": {
    "execution": {
     "iopub.execute_input": "2022-05-12T02:08:08.856886Z",
     "iopub.status.busy": "2022-05-12T02:08:08.856191Z",
     "iopub.status.idle": "2022-05-12T02:08:18.856632Z",
     "shell.execute_reply": "2022-05-12T02:08:18.856041Z"
    },
    "jupyter": {
     "source_hidden": true
    },
    "papermill": {
     "duration": 10.017253,
     "end_time": "2022-05-12T02:08:18.858720",
     "exception": false,
     "start_time": "2022-05-12T02:08:08.841467",
     "status": "completed"
    },
    "tags": [
     "remove_input"
    ]
   },
   "outputs": [],
   "source": [
    "# Grab parameters for narrative text - clean up formatting here \n",
    "district = df.caltrans_district.iloc[0]\n",
    "formatted_date = pd.to_datetime(parallel_corridors_utils.SELECTED_DATE).strftime('%m-%d-%Y')\n",
    "\n",
    "PCT_COMPETITIVE_THRESHOLD = 0.75\n",
    "PCT_TRIPS_BELOW_CUTOFF = 0.50\n",
    "\n",
    "stats = parallel_corridors_utils.operator_parallel_competitive_stats(\n",
    "    itp_id, PCT_COMPETITIVE_THRESHOLD, PCT_TRIPS_BELOW_CUTOFF)\n",
    "\n",
    "pct_parallel = round(stats['parallel_routes'] / stats['num_routes'] * 100, 1 )\n",
    "pct_competitive =  round(stats['competitive_routes'] / stats['num_routes'] * 100, 1 )\n",
    "pct_viable =  round(stats['viable_competitive_routes'] / stats['num_routes'] * 100, 1 )"
   ]
  },
  {
   "cell_type": "code",
   "execution_count": 8,
   "id": "8bf30c8f-6aa5-47bb-82ae-a906732e81fd",
   "metadata": {
    "execution": {
     "iopub.execute_input": "2022-05-12T02:08:18.901011Z",
     "iopub.status.busy": "2022-05-12T02:08:18.900074Z",
     "iopub.status.idle": "2022-05-12T02:08:18.927590Z",
     "shell.execute_reply": "2022-05-12T02:08:18.927008Z"
    },
    "jupyter": {
     "source_hidden": true
    },
    "papermill": {
     "duration": 0.057629,
     "end_time": "2022-05-12T02:08:18.929619",
     "exception": false,
     "start_time": "2022-05-12T02:08:18.871990",
     "status": "completed"
    },
    "tags": [
     "remove_input"
    ]
   },
   "outputs": [],
   "source": [
    "# Display a table of route-level stats for each route_group\n",
    "# Displaying route_name makes chart too crowded\n",
    "\n",
    "# Get route stats (for entire df)\n",
    "route_stats = parallel_corridors_utils.competitive_route_level_stats(df)\n",
    "    \n",
    "def style_route_stats(df, top15_routes):\n",
    "    df = df[df.route_id.isin(top15_routes)]\n",
    "    \n",
    "    # Rename columns for display\n",
    "    rename_cols = {\n",
    "        \"route_id\": \"Route ID\",\n",
    "        \"route_name\": \"Route Name\",\n",
    "        \"route_group\": \"Route Group\",\n",
    "        \"num_trips\": \"# trips\",\n",
    "        \"daily_avg_freq\": \"Daily Avg Freq (trips per hr)\",\n",
    "        \"pm_peak_freq\": \"PM Peak Avg Freq (trips per hr)\",\n",
    "        \"percentiles\": \"25th, 50th, 75th ptile (hrs)\",\n",
    "    }\n",
    "    \n",
    "    # Style it\n",
    "    drop_cols = [\n",
    "        \"calitp_itp_id\", \"below_cutoff\", \"route_group\", \n",
    "        \"pct_trips_competitive\", \"pct_below_cutoff\",\n",
    "        \"p25\", \"p50\", \"p75\",\n",
    "    ]\n",
    "    \n",
    "    # Change alignment for some columns\n",
    "    # https://stackoverflow.com/questions/59453091/left-align-the-first-column-and-center-align-the-other-columns-in-a-pandas-table\n",
    "    df_style = (df.sort_values(\n",
    "        [\"pct_trips_competitive\", \"below_cutoff\", \n",
    "        \"pct_below_cutoff\", \"route_id\"], \n",
    "        ascending=[False, False, False, True])\n",
    "           .drop(columns = drop_cols)\n",
    "           .rename(columns = rename_cols)\n",
    "           .style.format(\n",
    "               subset=['Daily Avg Freq (trips per hr)', \n",
    "                       'PM Peak Avg Freq (trips per hr)'], \n",
    "               **{'formatter': '{:,.3}'})\n",
    "                .set_properties(subset=['Route ID', 'Route Name'], \n",
    "                                **{'text-align': 'left'})\n",
    "                .set_properties(subset=['# trips', 'Daily Avg Freq (trips per hr)', \n",
    "                                       'PM Peak Avg Freq (trips per hr)'], \n",
    "                               **{'text-align': 'center'})\n",
    "                .set_table_styles([dict(selector='th', \n",
    "                                        props=[('text-align', 'center')])\n",
    "                                        ])\n",
    "           .hide(axis=\"index\")\n",
    "           .to_html()\n",
    "          )\n",
    "    \n",
    "    display(HTML(\"<h4>Route Stats</h4>\"))\n",
    "    display(HTML(df_style))"
   ]
  },
  {
   "cell_type": "markdown",
   "id": "ab667928-5274-4490-82d9-4c39293209a4",
   "metadata": {
    "papermill": {
     "duration": 0.013235,
     "end_time": "2022-05-12T02:08:18.957532",
     "exception": false,
     "start_time": "2022-05-12T02:08:18.944297",
     "status": "completed"
    },
    "tags": []
   },
   "source": [
    "## Quick Stats"
   ]
  },
  {
   "cell_type": "code",
   "execution_count": 9,
   "id": "0416509d-dc62-4165-b62e-64f8b26e8b8e",
   "metadata": {
    "execution": {
     "iopub.execute_input": "2022-05-12T02:08:18.988328Z",
     "iopub.status.busy": "2022-05-12T02:08:18.985790Z",
     "iopub.status.idle": "2022-05-12T02:08:18.995649Z",
     "shell.execute_reply": "2022-05-12T02:08:18.995118Z"
    },
    "jupyter": {
     "source_hidden": true
    },
    "papermill": {
     "duration": 0.02647,
     "end_time": "2022-05-12T02:08:18.997355",
     "exception": false,
     "start_time": "2022-05-12T02:08:18.970885",
     "status": "completed"
    },
    "tags": [
     "remove_input"
    ]
   },
   "outputs": [
    {
     "data": {
      "text/markdown": [
       "**Bus routes in service: 2**<br>**Parallel routes** to State Highway Network (SHN): **1 routes (50.0%)**<br>**Competitive routes** against car travel (within 2x car travel time): **1 routes (50.0%)**<br>**Viable competitive routes** against car travel (within 2x car travel time and within 20, 30, or 40 min cut-off): **1 routes (50.0%)**"
      ],
      "text/plain": [
       "<IPython.core.display.Markdown object>"
      ]
     },
     "metadata": {},
     "output_type": "display_data"
    }
   ],
   "source": [
    "display(\n",
    "    Markdown(\n",
    "        f\"**Bus routes in service: {stats['num_routes']}**\"\n",
    "        \"<br>**Parallel routes** to State Highway Network (SHN): \"\n",
    "        f\"**{stats['parallel_routes']} routes ({pct_parallel}%)**\"\n",
    "        \"<br>**Competitive routes** against car travel (within 2x car travel time): \"\n",
    "        f\"**{stats['competitive_routes']} routes ({pct_competitive}%)**\"\n",
    "        \"<br>**Viable competitive routes** against car travel \"\n",
    "        \"(within 2x car travel time and within 20, 30, or 40 min cut-off): \"\n",
    "        f\"**{stats['viable_competitive_routes']} routes ({pct_viable}%)**\"\n",
    "    )\n",
    ")"
   ]
  },
  {
   "cell_type": "code",
   "execution_count": 10,
   "id": "f9d6ab58-f0ee-460c-b6de-657490e1f386",
   "metadata": {
    "execution": {
     "iopub.execute_input": "2022-05-12T02:08:19.027894Z",
     "iopub.status.busy": "2022-05-12T02:08:19.027428Z",
     "iopub.status.idle": "2022-05-12T02:08:19.038162Z",
     "shell.execute_reply": "2022-05-12T02:08:19.036337Z"
    },
    "jupyter": {
     "source_hidden": true
    },
    "papermill": {
     "duration": 0.030173,
     "end_time": "2022-05-12T02:08:19.040897",
     "exception": false,
     "start_time": "2022-05-12T02:08:19.010724",
     "status": "completed"
    },
    "tags": [
     "remove_input"
    ]
   },
   "outputs": [],
   "source": [
    "def set_yaxis_range(df, y_col):\n",
    "    Y_MIN = df[y_col].min()\n",
    "    Y_MAX = df[y_col].max()\n",
    "    \n",
    "    return Y_MIN, Y_MAX\n",
    "\n",
    "# Rather than set it according to the operator, which can vary,\n",
    "# just use set thresholds for each group\n",
    "def top15_routes(df, route_group):\n",
    "    # grab top 15 routes where majority of trips are below that cut-off \n",
    "    # but show 15 max, otherwise, show less, since these won't be as interesting to operators\n",
    "    df2 = (df[(df.route_group==route_group) &\n",
    "              (df.pct_below_cutoff >= PCT_TRIPS_BELOW_CUTOFF)]\n",
    "           .sort_values([\"calitp_itp_id\", \"below_cutoff\", \n",
    "                         \"pct_below_cutoff\", \"route_id\"],\n",
    "                        ascending = [True, False, False, True]\n",
    "                       )\n",
    "           .drop_duplicates(subset=[\"calitp_itp_id\", \"route_id\"])\n",
    "          ).head(15)\n",
    "    \n",
    "    return list(df2.route_id)"
   ]
  },
  {
   "cell_type": "code",
   "execution_count": 11,
   "id": "cf36d559-3349-4144-8086-8ac9ce937a5a",
   "metadata": {
    "execution": {
     "iopub.execute_input": "2022-05-12T02:08:19.095988Z",
     "iopub.status.busy": "2022-05-12T02:08:19.095671Z",
     "iopub.status.idle": "2022-05-12T02:08:19.102103Z",
     "shell.execute_reply": "2022-05-12T02:08:19.101157Z"
    },
    "jupyter": {
     "source_hidden": true
    },
    "papermill": {
     "duration": 0.045258,
     "end_time": "2022-05-12T02:08:19.104043",
     "exception": false,
     "start_time": "2022-05-12T02:08:19.058785",
     "status": "completed"
    },
    "tags": [
     "remove_input"
    ]
   },
   "outputs": [],
   "source": [
    "def caption_with_cutoff(cutoff):\n",
    "    sentence = (\n",
    "        f\"<br>These are routes that have **at least {int(PCT_TRIPS_BELOW_CUTOFF*100)}% \"\n",
    "        \"of their trips take no more than an \"\n",
    "        f\"additional {cutoff} min** compared to a car \"\n",
    "        \"(up to 15 routes) are shown.\"\n",
    "        \"<br>Within each route group, routes are sorted in descending order \"\n",
    "        \"by % competitive trips and # trips below the additional time cut-off.\"\n",
    "    )\n",
    "    return sentence\n",
    "\n",
    "CAPTIONS_DICT = {\n",
    "    \"short\": caption_with_cutoff(diff_cutoffs['short']),\n",
    "    \"medium\": caption_with_cutoff(diff_cutoffs['medium']),\n",
    "    \"long\": caption_with_cutoff(diff_cutoffs['long']),\n",
    "}"
   ]
  },
  {
   "cell_type": "code",
   "execution_count": 12,
   "id": "e4306d58-6944-47e9-afef-5d5b524c751f",
   "metadata": {
    "execution": {
     "iopub.execute_input": "2022-05-12T02:08:19.133585Z",
     "iopub.status.busy": "2022-05-12T02:08:19.132873Z",
     "iopub.status.idle": "2022-05-12T02:08:19.141337Z",
     "shell.execute_reply": "2022-05-12T02:08:19.140571Z"
    },
    "jupyter": {
     "source_hidden": true
    },
    "papermill": {
     "duration": 0.025466,
     "end_time": "2022-05-12T02:08:19.143142",
     "exception": false,
     "start_time": "2022-05-12T02:08:19.117676",
     "status": "completed"
    },
    "tags": [
     "remove_input"
    ]
   },
   "outputs": [],
   "source": [
    "def setup_charts(df, PCT_COMPETITIVE_THRESHOLD, route_group):\n",
    "    # Set up df for charting (cut-off at some threshold to show most competitive routes)\n",
    "    plot_me = (df[df.pct_trips_competitive > PCT_COMPETITIVE_THRESHOLD]\n",
    "           .drop(columns = \"geometry\")\n",
    "    )\n",
    "    \n",
    "    # Set y-ranges to be the same across route_groups, \n",
    "    # otherwise charts fluctuate too much, even within operator\n",
    "    y_col1 = \"bus_multiplier\"\n",
    "    Y_MIN1, Y_MAX1 = set_yaxis_range(plot_me, y_col1)\n",
    "\n",
    "    y_col2 = \"bus_difference\"\n",
    "    Y_MIN2, Y_MAX2 = set_yaxis_range(plot_me, y_col2)\n",
    "    \n",
    "    # Grab the routes to plot\n",
    "    subset_routes = top15_routes(plot_me, route_group)\n",
    "        \n",
    "    # Display charts\n",
    "    multiplier_chart = parallel_corridors_utils.make_stripplot(\n",
    "        plot_me[plot_me.route_id.isin(subset_routes)], \n",
    "        y_col1, Y_MIN = Y_MIN1, Y_MAX = Y_MAX1\n",
    "    )\n",
    "    \n",
    "    difference_chart = parallel_corridors_utils.make_stripplot(\n",
    "        plot_me[plot_me.route_id.isin(subset_routes)], \n",
    "        y_col2, Y_MIN = Y_MIN2, Y_MAX = Y_MAX2\n",
    "    )\n",
    "    \n",
    "    return subset_routes, multiplier_chart, difference_chart            "
   ]
  },
  {
   "cell_type": "code",
   "execution_count": 13,
   "id": "33a710e8-504c-4942-aa75-ff69f216956e",
   "metadata": {
    "execution": {
     "iopub.execute_input": "2022-05-12T02:08:19.192291Z",
     "iopub.status.busy": "2022-05-12T02:08:19.191647Z",
     "iopub.status.idle": "2022-05-12T02:08:19.197064Z",
     "shell.execute_reply": "2022-05-12T02:08:19.196602Z"
    },
    "jupyter": {
     "source_hidden": true
    },
    "papermill": {
     "duration": 0.037157,
     "end_time": "2022-05-12T02:08:19.198989",
     "exception": false,
     "start_time": "2022-05-12T02:08:19.161832",
     "status": "completed"
    },
    "tags": [
     "remove_input"
    ]
   },
   "outputs": [],
   "source": [
    "def display_charts_for_route_group(df, route_group):    \n",
    "    subset_routes, mult, diff  = setup_charts(df, PCT_COMPETITIVE_THRESHOLD, route_group)\n",
    "\n",
    "    if len(subset_routes) > 0:\n",
    "        display(Markdown(f\"{CAPTIONS_DICT[route_group]}\"))\n",
    "\n",
    "        display(mult)\n",
    "        display(diff)\n",
    "        \n",
    "        # Display route stats for just plotted routes\n",
    "        style_route_stats(route_stats, subset_routes)"
   ]
  },
  {
   "cell_type": "markdown",
   "id": "525f9b38-072b-46d1-96a8-1aa4b038357c",
   "metadata": {
    "papermill": {
     "duration": 0.013557,
     "end_time": "2022-05-12T02:08:19.226497",
     "exception": false,
     "start_time": "2022-05-12T02:08:19.212940",
     "status": "completed"
    },
    "tags": []
   },
   "source": [
    "## Viable Competitive Routes\n",
    "### Short Routes (< 1 hr)"
   ]
  },
  {
   "cell_type": "code",
   "execution_count": 14,
   "id": "57f7084c-2cf7-45c6-ba08-1609e0bd6ca5",
   "metadata": {
    "execution": {
     "iopub.execute_input": "2022-05-12T02:08:19.256087Z",
     "iopub.status.busy": "2022-05-12T02:08:19.255559Z",
     "iopub.status.idle": "2022-05-12T02:08:19.267363Z",
     "shell.execute_reply": "2022-05-12T02:08:19.266725Z"
    },
    "jupyter": {
     "source_hidden": true
    },
    "papermill": {
     "duration": 0.028774,
     "end_time": "2022-05-12T02:08:19.269186",
     "exception": false,
     "start_time": "2022-05-12T02:08:19.240412",
     "status": "completed"
    },
    "tags": [
     "remove_input"
    ]
   },
   "outputs": [
    {
     "name": "stdout",
     "output_type": "stream",
     "text": [
      "No routes meet this criteria.\n"
     ]
    }
   ],
   "source": [
    "# Allow for possibility that operator doesn't have routes that fall into certain route_groups\n",
    "# But, jupyterbook will not like markdown with f-string\n",
    "# separate out route_group and put in each cell, and use try/except + if to display...\n",
    "# but all 3 route groups must be displayed. just add sentence about why no routes were returned at the end\n",
    "route_group = \"short\"\n",
    "try:\n",
    "    display_charts_for_route_group(df, route_group)\n",
    "except:\n",
    "    print(\"No routes meet this criteria.\")"
   ]
  },
  {
   "cell_type": "markdown",
   "id": "c2931b6f-034d-4384-9e14-80b925e3b820",
   "metadata": {
    "papermill": {
     "duration": 0.014952,
     "end_time": "2022-05-12T02:08:19.304349",
     "exception": false,
     "start_time": "2022-05-12T02:08:19.289397",
     "status": "completed"
    },
    "tags": []
   },
   "source": [
    "### Medium Routes (1-1.5 hrs)"
   ]
  },
  {
   "cell_type": "code",
   "execution_count": 15,
   "id": "480edddc-4de0-48c2-ae4c-b0ceef8f28b5",
   "metadata": {
    "execution": {
     "iopub.execute_input": "2022-05-12T02:08:19.334004Z",
     "iopub.status.busy": "2022-05-12T02:08:19.333473Z",
     "iopub.status.idle": "2022-05-12T02:08:19.636891Z",
     "shell.execute_reply": "2022-05-12T02:08:19.636325Z"
    },
    "jupyter": {
     "source_hidden": true
    },
    "papermill": {
     "duration": 0.320707,
     "end_time": "2022-05-12T02:08:19.638764",
     "exception": false,
     "start_time": "2022-05-12T02:08:19.318057",
     "status": "completed"
    },
    "tags": [
     "remove_input"
    ]
   },
   "outputs": [
    {
     "data": {
      "text/markdown": [
       "<br>These are routes that have **at least 50% of their trips take no more than an additional 30 min** compared to a car (up to 15 routes) are shown.<br>Within each route group, routes are sorted in descending order by % competitive trips and # trips below the additional time cut-off."
      ],
      "text/plain": [
       "<IPython.core.display.Markdown object>"
      ]
     },
     "metadata": {},
     "output_type": "display_data"
    },
    {
     "data": {
      "text/html": [
       "\n",
       "<div id=\"altair-viz-25fe50dbf974414b97da8968fee95b94\"></div>\n",
       "<script type=\"text/javascript\">\n",
       "  var VEGA_DEBUG = (typeof VEGA_DEBUG == \"undefined\") ? {} : VEGA_DEBUG;\n",
       "  (function(spec, embedOpt){\n",
       "    let outputDiv = document.currentScript.previousElementSibling;\n",
       "    if (outputDiv.id !== \"altair-viz-25fe50dbf974414b97da8968fee95b94\") {\n",
       "      outputDiv = document.getElementById(\"altair-viz-25fe50dbf974414b97da8968fee95b94\");\n",
       "    }\n",
       "    const paths = {\n",
       "      \"vega\": \"https://cdn.jsdelivr.net/npm//vega@5?noext\",\n",
       "      \"vega-lib\": \"https://cdn.jsdelivr.net/npm//vega-lib?noext\",\n",
       "      \"vega-lite\": \"https://cdn.jsdelivr.net/npm//vega-lite@4.17.0?noext\",\n",
       "      \"vega-embed\": \"https://cdn.jsdelivr.net/npm//vega-embed@6?noext\",\n",
       "    };\n",
       "\n",
       "    function maybeLoadScript(lib, version) {\n",
       "      var key = `${lib.replace(\"-\", \"\")}_version`;\n",
       "      return (VEGA_DEBUG[key] == version) ?\n",
       "        Promise.resolve(paths[lib]) :\n",
       "        new Promise(function(resolve, reject) {\n",
       "          var s = document.createElement('script');\n",
       "          document.getElementsByTagName(\"head\")[0].appendChild(s);\n",
       "          s.async = true;\n",
       "          s.onload = () => {\n",
       "            VEGA_DEBUG[key] = version;\n",
       "            return resolve(paths[lib]);\n",
       "          };\n",
       "          s.onerror = () => reject(`Error loading script: ${paths[lib]}`);\n",
       "          s.src = paths[lib];\n",
       "        });\n",
       "    }\n",
       "\n",
       "    function showError(err) {\n",
       "      outputDiv.innerHTML = `<div class=\"error\" style=\"color:red;\">${err}</div>`;\n",
       "      throw err;\n",
       "    }\n",
       "\n",
       "    function displayChart(vegaEmbed) {\n",
       "      vegaEmbed(outputDiv, spec, embedOpt)\n",
       "        .catch(err => showError(`Javascript Error: ${err.message}<br>This usually means there's a typo in your chart specification. See the javascript console for the full traceback.`));\n",
       "    }\n",
       "\n",
       "    if(typeof define === \"function\" && define.amd) {\n",
       "      requirejs.config({paths});\n",
       "      require([\"vega-embed\"], displayChart, err => showError(`Error loading script: ${err.message}`));\n",
       "    } else {\n",
       "      maybeLoadScript(\"vega\", \"5\")\n",
       "        .then(() => maybeLoadScript(\"vega-lite\", \"4.17.0\"))\n",
       "        .then(() => maybeLoadScript(\"vega-embed\", \"6\"))\n",
       "        .catch(showError)\n",
       "        .then(() => displayChart(vegaEmbed));\n",
       "    }\n",
       "  })({\"config\": {\"view\": {\"continuousWidth\": 400, \"continuousHeight\": 300, \"stroke\": null}, \"facet\": {\"spacing\": 0}}, \"data\": {\"name\": \"data-09a8efb3ed4b230109753cab79de5809\"}, \"facet\": {\"column\": {\"field\": \"route_id\", \"sort\": [\"14603\"], \"title\": \"Route ID\", \"type\": \"nominal\"}}, \"spec\": {\"layer\": [{\"mark\": \"rule\", \"encoding\": {\"color\": {\"value\": \"black\"}, \"y\": {\"field\": \"cutoff\", \"type\": \"quantitative\"}}, \"selection\": {\"selector001\": {\"type\": \"interval\", \"bind\": \"scales\", \"encodings\": [\"x\", \"y\"]}}}, {\"mark\": {\"type\": \"point\", \"opacity\": 0.65, \"size\": 12, \"strokeWidth\": 1.1}, \"encoding\": {\"color\": {\"field\": \"time_of_day\", \"scale\": {\"range\": [\"#136C97\", \"#E16B26\", \"#F6BF16\", \"#00896B\", \"#7790A3\", \"#5B559C\"]}, \"sort\": [\"AM Peak\", \"Midday\", \"PM Peak\", \"Owl Service\"], \"title\": \"Time of Day\", \"type\": \"nominal\"}, \"tooltip\": [{\"field\": \"route_id\", \"type\": \"nominal\"}, {\"field\": \"route_name\", \"type\": \"nominal\"}, {\"field\": \"trip_id\", \"type\": \"nominal\"}, {\"field\": \"service_hours\", \"type\": \"quantitative\"}, {\"field\": \"car_duration_hours\", \"type\": \"quantitative\"}, {\"field\": \"bus_multiplier\", \"type\": \"quantitative\"}, {\"field\": \"bus_difference\", \"type\": \"quantitative\"}, {\"field\": \"num_trips\", \"type\": \"quantitative\"}, {\"field\": \"num_competitive\", \"type\": \"quantitative\"}, {\"field\": \"pct_trips_competitive\", \"type\": \"quantitative\"}, {\"field\": \"p25\", \"type\": \"quantitative\"}, {\"field\": \"p50\", \"type\": \"quantitative\"}, {\"field\": \"p75\", \"type\": \"quantitative\"}], \"x\": {\"axis\": {\"grid\": false, \"labels\": false, \"ticks\": true, \"values\": [0]}, \"field\": \"jitter\", \"scale\": {}, \"title\": null, \"type\": \"quantitative\"}, \"y\": {\"field\": \"bus_multiplier\", \"scale\": {\"domain\": [-0.25, 3.0]}, \"title\": \"Ratio of Bus to Car Travel Time\", \"type\": \"quantitative\"}}, \"transform\": [{\"calculate\": \"sqrt(-2*log(random()))*cos(2*PI*random())\", \"as\": \"jitter\"}], \"width\": 50}, {\"layer\": [{\"mark\": {\"type\": \"point\", \"opacity\": 0.6, \"size\": 20, \"strokeWidth\": 1.3}, \"encoding\": {\"color\": {\"value\": \"#323434\"}, \"y\": {\"field\": \"bus_multiplier\", \"type\": \"quantitative\"}}, \"transform\": [{\"filter\": \"(datum.p50_trip === 1)\"}]}, {\"mark\": {\"type\": \"text\", \"align\": \"center\", \"baseline\": \"middle\"}, \"encoding\": {\"color\": {\"value\": \"black\"}, \"text\": {\"field\": \"pct_trips_competitive\", \"format\": \".0%\", \"type\": \"quantitative\"}, \"tooltip\": [{\"field\": \"route_id\", \"type\": \"nominal\"}, {\"field\": \"route_name\", \"type\": \"nominal\"}, {\"field\": \"trip_id\", \"type\": \"nominal\"}, {\"field\": \"service_hours\", \"type\": \"quantitative\"}, {\"field\": \"car_duration_hours\", \"type\": \"quantitative\"}, {\"field\": \"bus_multiplier\", \"type\": \"quantitative\"}, {\"field\": \"bus_difference\", \"type\": \"quantitative\"}, {\"field\": \"num_trips\", \"type\": \"quantitative\"}, {\"field\": \"num_competitive\", \"type\": \"quantitative\"}, {\"field\": \"pct_trips_competitive\", \"type\": \"quantitative\"}, {\"field\": \"p25\", \"type\": \"quantitative\"}, {\"field\": \"p50\", \"type\": \"quantitative\"}, {\"field\": \"p75\", \"type\": \"quantitative\"}], \"x\": {\"value\": 30}, \"y\": {\"value\": 15}}, \"transform\": [{\"calculate\": \"sqrt(-2*log(random()))*cos(2*PI*random())\", \"as\": \"jitter\"}, {\"filter\": \"(datum.fastest_trip === 1)\"}]}]}]}, \"resolve\": {\"scale\": {\"y\": \"shared\"}}, \"title\": \"Ratio of Bus to Car Travel Time\", \"$schema\": \"https://vega.github.io/schema/vega-lite/v4.17.0.json\", \"datasets\": {\"data-09a8efb3ed4b230109753cab79de5809\": [{\"calitp_itp_id\": 315, \"trip_key\": -2570866538080129951, \"trip_id\": \"t_1392468_b_29945_tn_0\", \"shape_id\": \"p_897680\", \"route_id\": \"14603\", \"service_hours\": 1.28, \"trip_first_departure_ts\": 51660, \"trip_last_arrival_ts\": 56280, \"departure_hour\": 14, \"time_of_day\": \"Midday\", \"p25\": 1.28, \"p50\": 1.3, \"p75\": 1.32, \"p50_trip\": 1, \"fastest_trip\": 0, \"car_duration_hours\": 1.06, \"competitive_route\": 1, \"bus_multiplier\": 1.21, \"bus_difference\": 13.2, \"num_trips\": 26, \"num_competitive\": 26, \"pct_trips_competitive\": 1.0, \"bus_difference_spread\": 2.4000000000000004, \"route_group\": \"medium\", \"max_trip_hrs\": 1.32, \"max_trip_route_group\": 1.32, \"below_cutoff\": 26, \"pct_below_cutoff\": 1.0, \"name\": \"Sonoma-Marin Area Rail Transit District\", \"caltrans_district\": \"04 - Oakland\", \"drmt_organization_name\": null, \"route_name\": \"Sonoma County Airport To Larkspur\", \"cutoff2\": 30, \"cutoff\": 2}, {\"calitp_itp_id\": 315, \"trip_key\": 1735827063190404904, \"trip_id\": \"t_1392467_b_29945_tn_0\", \"shape_id\": \"p_897680\", \"route_id\": \"14603\", \"service_hours\": 1.28, \"trip_first_departure_ts\": 57420, \"trip_last_arrival_ts\": 62040, \"departure_hour\": 15, \"time_of_day\": \"Midday\", \"p25\": 1.28, \"p50\": 1.3, \"p75\": 1.32, \"p50_trip\": 1, \"fastest_trip\": 0, \"car_duration_hours\": 1.06, \"competitive_route\": 1, \"bus_multiplier\": 1.21, \"bus_difference\": 13.2, \"num_trips\": 26, \"num_competitive\": 26, \"pct_trips_competitive\": 1.0, \"bus_difference_spread\": 2.4000000000000004, \"route_group\": \"medium\", \"max_trip_hrs\": 1.32, \"max_trip_route_group\": 1.32, \"below_cutoff\": 26, \"pct_below_cutoff\": 1.0, \"name\": \"Sonoma-Marin Area Rail Transit District\", \"caltrans_district\": \"04 - Oakland\", \"drmt_organization_name\": null, \"route_name\": \"Sonoma County Airport To Larkspur\", \"cutoff2\": 30, \"cutoff\": 2}, {\"calitp_itp_id\": 315, \"trip_key\": -4530425533812236016, \"trip_id\": \"t_1392473_b_29945_tn_0\", \"shape_id\": \"p_897680\", \"route_id\": \"14603\", \"service_hours\": 1.28, \"trip_first_departure_ts\": 61260, \"trip_last_arrival_ts\": 65880, \"departure_hour\": 17, \"time_of_day\": \"PM Peak\", \"p25\": 1.28, \"p50\": 1.3, \"p75\": 1.32, \"p50_trip\": 1, \"fastest_trip\": 0, \"car_duration_hours\": 1.06, \"competitive_route\": 1, \"bus_multiplier\": 1.21, \"bus_difference\": 13.2, \"num_trips\": 26, \"num_competitive\": 26, \"pct_trips_competitive\": 1.0, \"bus_difference_spread\": 2.4000000000000004, \"route_group\": \"medium\", \"max_trip_hrs\": 1.32, \"max_trip_route_group\": 1.32, \"below_cutoff\": 26, \"pct_below_cutoff\": 1.0, \"name\": \"Sonoma-Marin Area Rail Transit District\", \"caltrans_district\": \"04 - Oakland\", \"drmt_organization_name\": null, \"route_name\": \"Sonoma County Airport To Larkspur\", \"cutoff2\": 30, \"cutoff\": 2}, {\"calitp_itp_id\": 315, \"trip_key\": 4416217459538609298, \"trip_id\": \"t_1393966_b_29945_tn_0\", \"shape_id\": \"p_897680\", \"route_id\": \"14603\", \"service_hours\": 1.28, \"trip_first_departure_ts\": 67020, \"trip_last_arrival_ts\": 71640, \"departure_hour\": 18, \"time_of_day\": \"PM Peak\", \"p25\": 1.28, \"p50\": 1.3, \"p75\": 1.32, \"p50_trip\": 1, \"fastest_trip\": 0, \"car_duration_hours\": 1.06, \"competitive_route\": 1, \"bus_multiplier\": 1.21, \"bus_difference\": 13.2, \"num_trips\": 26, \"num_competitive\": 26, \"pct_trips_competitive\": 1.0, \"bus_difference_spread\": 2.4000000000000004, \"route_group\": \"medium\", \"max_trip_hrs\": 1.32, \"max_trip_route_group\": 1.32, \"below_cutoff\": 26, \"pct_below_cutoff\": 1.0, \"name\": \"Sonoma-Marin Area Rail Transit District\", \"caltrans_district\": \"04 - Oakland\", \"drmt_organization_name\": null, \"route_name\": \"Sonoma County Airport To Larkspur\", \"cutoff2\": 30, \"cutoff\": 2}, {\"calitp_itp_id\": 315, \"trip_key\": 8120940751543448040, \"trip_id\": \"t_1393963_b_29945_tn_0\", \"shape_id\": \"p_897680\", \"route_id\": \"14603\", \"service_hours\": 1.28, \"trip_first_departure_ts\": 35400, \"trip_last_arrival_ts\": 40020, \"departure_hour\": 9, \"time_of_day\": \"AM Peak\", \"p25\": 1.28, \"p50\": 1.3, \"p75\": 1.32, \"p50_trip\": 1, \"fastest_trip\": 0, \"car_duration_hours\": 1.06, \"competitive_route\": 1, \"bus_multiplier\": 1.21, \"bus_difference\": 13.2, \"num_trips\": 26, \"num_competitive\": 26, \"pct_trips_competitive\": 1.0, \"bus_difference_spread\": 2.4000000000000004, \"route_group\": \"medium\", \"max_trip_hrs\": 1.32, \"max_trip_route_group\": 1.32, \"below_cutoff\": 26, \"pct_below_cutoff\": 1.0, \"name\": \"Sonoma-Marin Area Rail Transit District\", \"caltrans_district\": \"04 - Oakland\", \"drmt_organization_name\": null, \"route_name\": \"Sonoma County Airport To Larkspur\", \"cutoff2\": 30, \"cutoff\": 2}, {\"calitp_itp_id\": 315, \"trip_key\": 2632550913309822662, \"trip_id\": \"t_1392464_b_29945_tn_0\", \"shape_id\": \"p_897680\", \"route_id\": \"14603\", \"service_hours\": 1.28, \"trip_first_departure_ts\": 23880, \"trip_last_arrival_ts\": 28500, \"departure_hour\": 6, \"time_of_day\": \"Owl Service\", \"p25\": 1.28, \"p50\": 1.3, \"p75\": 1.32, \"p50_trip\": 1, \"fastest_trip\": 0, \"car_duration_hours\": 1.06, \"competitive_route\": 1, \"bus_multiplier\": 1.21, \"bus_difference\": 13.2, \"num_trips\": 26, \"num_competitive\": 26, \"pct_trips_competitive\": 1.0, \"bus_difference_spread\": 2.4000000000000004, \"route_group\": \"medium\", \"max_trip_hrs\": 1.32, \"max_trip_route_group\": 1.32, \"below_cutoff\": 26, \"pct_below_cutoff\": 1.0, \"name\": \"Sonoma-Marin Area Rail Transit District\", \"caltrans_district\": \"04 - Oakland\", \"drmt_organization_name\": null, \"route_name\": \"Sonoma County Airport To Larkspur\", \"cutoff2\": 30, \"cutoff\": 2}, {\"calitp_itp_id\": 315, \"trip_key\": 6802809791036127853, \"trip_id\": \"t_1392461_b_29945_tn_0\", \"shape_id\": \"p_897680\", \"route_id\": \"14603\", \"service_hours\": 1.28, \"trip_first_departure_ts\": 31560, \"trip_last_arrival_ts\": 36180, \"departure_hour\": 8, \"time_of_day\": \"AM Peak\", \"p25\": 1.28, \"p50\": 1.3, \"p75\": 1.32, \"p50_trip\": 1, \"fastest_trip\": 0, \"car_duration_hours\": 1.06, \"competitive_route\": 1, \"bus_multiplier\": 1.21, \"bus_difference\": 13.2, \"num_trips\": 26, \"num_competitive\": 26, \"pct_trips_competitive\": 1.0, \"bus_difference_spread\": 2.4000000000000004, \"route_group\": \"medium\", \"max_trip_hrs\": 1.32, \"max_trip_route_group\": 1.32, \"below_cutoff\": 26, \"pct_below_cutoff\": 1.0, \"name\": \"Sonoma-Marin Area Rail Transit District\", \"caltrans_district\": \"04 - Oakland\", \"drmt_organization_name\": null, \"route_name\": \"Sonoma County Airport To Larkspur\", \"cutoff2\": 30, \"cutoff\": 2}, {\"calitp_itp_id\": 315, \"trip_key\": 6495353743784580393, \"trip_id\": \"t_1392471_b_29945_tn_0\", \"shape_id\": \"p_897680\", \"route_id\": \"14603\", \"service_hours\": 1.28, \"trip_first_departure_ts\": 27720, \"trip_last_arrival_ts\": 32340, \"departure_hour\": 7, \"time_of_day\": \"AM Peak\", \"p25\": 1.28, \"p50\": 1.3, \"p75\": 1.32, \"p50_trip\": 1, \"fastest_trip\": 0, \"car_duration_hours\": 1.06, \"competitive_route\": 1, \"bus_multiplier\": 1.21, \"bus_difference\": 13.2, \"num_trips\": 26, \"num_competitive\": 26, \"pct_trips_competitive\": 1.0, \"bus_difference_spread\": 2.4000000000000004, \"route_group\": \"medium\", \"max_trip_hrs\": 1.32, \"max_trip_route_group\": 1.32, \"below_cutoff\": 26, \"pct_below_cutoff\": 1.0, \"name\": \"Sonoma-Marin Area Rail Transit District\", \"caltrans_district\": \"04 - Oakland\", \"drmt_organization_name\": null, \"route_name\": \"Sonoma County Airport To Larkspur\", \"cutoff2\": 30, \"cutoff\": 2}, {\"calitp_itp_id\": 315, \"trip_key\": 1609341664702902210, \"trip_id\": \"t_1393965_b_29945_tn_0\", \"shape_id\": \"p_897680\", \"route_id\": \"14603\", \"service_hours\": 1.28, \"trip_first_departure_ts\": 63180, \"trip_last_arrival_ts\": 67800, \"departure_hour\": 17, \"time_of_day\": \"PM Peak\", \"p25\": 1.28, \"p50\": 1.3, \"p75\": 1.32, \"p50_trip\": 1, \"fastest_trip\": 0, \"car_duration_hours\": 1.06, \"competitive_route\": 1, \"bus_multiplier\": 1.21, \"bus_difference\": 13.2, \"num_trips\": 26, \"num_competitive\": 26, \"pct_trips_competitive\": 1.0, \"bus_difference_spread\": 2.4000000000000004, \"route_group\": \"medium\", \"max_trip_hrs\": 1.32, \"max_trip_route_group\": 1.32, \"below_cutoff\": 26, \"pct_below_cutoff\": 1.0, \"name\": \"Sonoma-Marin Area Rail Transit District\", \"caltrans_district\": \"04 - Oakland\", \"drmt_organization_name\": null, \"route_name\": \"Sonoma County Airport To Larkspur\", \"cutoff2\": 30, \"cutoff\": 2}, {\"calitp_itp_id\": 315, \"trip_key\": -8263158080782040151, \"trip_id\": \"t_1393968_b_29945_tn_0\", \"shape_id\": \"p_897680\", \"route_id\": \"14603\", \"service_hours\": 1.28, \"trip_first_departure_ts\": 73740, \"trip_last_arrival_ts\": 78360, \"departure_hour\": 20, \"time_of_day\": \"Owl Service\", \"p25\": 1.28, \"p50\": 1.3, \"p75\": 1.32, \"p50_trip\": 1, \"fastest_trip\": 1, \"car_duration_hours\": 1.06, \"competitive_route\": 1, \"bus_multiplier\": 1.21, \"bus_difference\": 13.2, \"num_trips\": 26, \"num_competitive\": 26, \"pct_trips_competitive\": 1.0, \"bus_difference_spread\": 2.4000000000000004, \"route_group\": \"medium\", \"max_trip_hrs\": 1.32, \"max_trip_route_group\": 1.32, \"below_cutoff\": 26, \"pct_below_cutoff\": 1.0, \"name\": \"Sonoma-Marin Area Rail Transit District\", \"caltrans_district\": \"04 - Oakland\", \"drmt_organization_name\": null, \"route_name\": \"Sonoma County Airport To Larkspur\", \"cutoff2\": 30, \"cutoff\": 2}, {\"calitp_itp_id\": 315, \"trip_key\": 127097272520024760, \"trip_id\": \"t_1392462_b_29945_tn_0\", \"shape_id\": \"p_897680\", \"route_id\": \"14603\", \"service_hours\": 1.28, \"trip_first_departure_ts\": 53580, \"trip_last_arrival_ts\": 58200, \"departure_hour\": 14, \"time_of_day\": \"Midday\", \"p25\": 1.28, \"p50\": 1.3, \"p75\": 1.32, \"p50_trip\": 1, \"fastest_trip\": 0, \"car_duration_hours\": 1.06, \"competitive_route\": 1, \"bus_multiplier\": 1.21, \"bus_difference\": 13.2, \"num_trips\": 26, \"num_competitive\": 26, \"pct_trips_competitive\": 1.0, \"bus_difference_spread\": 2.4000000000000004, \"route_group\": \"medium\", \"max_trip_hrs\": 1.32, \"max_trip_route_group\": 1.32, \"below_cutoff\": 26, \"pct_below_cutoff\": 1.0, \"name\": \"Sonoma-Marin Area Rail Transit District\", \"caltrans_district\": \"04 - Oakland\", \"drmt_organization_name\": null, \"route_name\": \"Sonoma County Airport To Larkspur\", \"cutoff2\": 30, \"cutoff\": 2}, {\"calitp_itp_id\": 315, \"trip_key\": -6076402591735573870, \"trip_id\": \"t_1393964_b_29945_tn_0\", \"shape_id\": \"p_897680\", \"route_id\": \"14603\", \"service_hours\": 1.28, \"trip_first_departure_ts\": 39240, \"trip_last_arrival_ts\": 43860, \"departure_hour\": 10, \"time_of_day\": \"Midday\", \"p25\": 1.28, \"p50\": 1.3, \"p75\": 1.32, \"p50_trip\": 1, \"fastest_trip\": 0, \"car_duration_hours\": 1.06, \"competitive_route\": 1, \"bus_multiplier\": 1.21, \"bus_difference\": 13.2, \"num_trips\": 26, \"num_competitive\": 26, \"pct_trips_competitive\": 1.0, \"bus_difference_spread\": 2.4000000000000004, \"route_group\": \"medium\", \"max_trip_hrs\": 1.32, \"max_trip_route_group\": 1.32, \"below_cutoff\": 26, \"pct_below_cutoff\": 1.0, \"name\": \"Sonoma-Marin Area Rail Transit District\", \"caltrans_district\": \"04 - Oakland\", \"drmt_organization_name\": null, \"route_name\": \"Sonoma County Airport To Larkspur\", \"cutoff2\": 30, \"cutoff\": 2}, {\"calitp_itp_id\": 315, \"trip_key\": -7679924680753058571, \"trip_id\": \"t_1393967_b_29945_tn_0\", \"shape_id\": \"p_897680\", \"route_id\": \"14603\", \"service_hours\": 1.28, \"trip_first_departure_ts\": 68940, \"trip_last_arrival_ts\": 73560, \"departure_hour\": 19, \"time_of_day\": \"PM Peak\", \"p25\": 1.28, \"p50\": 1.3, \"p75\": 1.32, \"p50_trip\": 1, \"fastest_trip\": 0, \"car_duration_hours\": 1.06, \"competitive_route\": 1, \"bus_multiplier\": 1.21, \"bus_difference\": 13.2, \"num_trips\": 26, \"num_competitive\": 26, \"pct_trips_competitive\": 1.0, \"bus_difference_spread\": 2.4000000000000004, \"route_group\": \"medium\", \"max_trip_hrs\": 1.32, \"max_trip_route_group\": 1.32, \"below_cutoff\": 26, \"pct_below_cutoff\": 1.0, \"name\": \"Sonoma-Marin Area Rail Transit District\", \"caltrans_district\": \"04 - Oakland\", \"drmt_organization_name\": null, \"route_name\": \"Sonoma County Airport To Larkspur\", \"cutoff2\": 30, \"cutoff\": 2}, {\"calitp_itp_id\": 315, \"trip_key\": 8042410948887511611, \"trip_id\": \"t_1392470_b_29945_tn_0\", \"shape_id\": \"p_897679\", \"route_id\": \"14603\", \"service_hours\": 1.32, \"trip_first_departure_ts\": 18120, \"trip_last_arrival_ts\": 22860, \"departure_hour\": 5, \"time_of_day\": \"Owl Service\", \"p25\": 1.28, \"p50\": 1.3, \"p75\": 1.32, \"p50_trip\": 1, \"fastest_trip\": 0, \"car_duration_hours\": 1.06, \"competitive_route\": 1, \"bus_multiplier\": 1.25, \"bus_difference\": 15.6, \"num_trips\": 26, \"num_competitive\": 26, \"pct_trips_competitive\": 1.0, \"bus_difference_spread\": 2.4000000000000004, \"route_group\": \"medium\", \"max_trip_hrs\": 1.32, \"max_trip_route_group\": 1.32, \"below_cutoff\": 26, \"pct_below_cutoff\": 1.0, \"name\": \"Sonoma-Marin Area Rail Transit District\", \"caltrans_district\": \"04 - Oakland\", \"drmt_organization_name\": null, \"route_name\": \"Sonoma County Airport To Larkspur\", \"cutoff2\": 30, \"cutoff\": 2}, {\"calitp_itp_id\": 315, \"trip_key\": -6250214341598805462, \"trip_id\": \"t_1392476_b_29945_tn_0\", \"shape_id\": \"p_897679\", \"route_id\": \"14603\", \"service_hours\": 1.32, \"trip_first_departure_ts\": 61260, \"trip_last_arrival_ts\": 66000, \"departure_hour\": 17, \"time_of_day\": \"PM Peak\", \"p25\": 1.28, \"p50\": 1.3, \"p75\": 1.32, \"p50_trip\": 1, \"fastest_trip\": 0, \"car_duration_hours\": 1.06, \"competitive_route\": 1, \"bus_multiplier\": 1.25, \"bus_difference\": 15.6, \"num_trips\": 26, \"num_competitive\": 26, \"pct_trips_competitive\": 1.0, \"bus_difference_spread\": 2.4000000000000004, \"route_group\": \"medium\", \"max_trip_hrs\": 1.32, \"max_trip_route_group\": 1.32, \"below_cutoff\": 26, \"pct_below_cutoff\": 1.0, \"name\": \"Sonoma-Marin Area Rail Transit District\", \"caltrans_district\": \"04 - Oakland\", \"drmt_organization_name\": null, \"route_name\": \"Sonoma County Airport To Larkspur\", \"cutoff2\": 30, \"cutoff\": 2}, {\"calitp_itp_id\": 315, \"trip_key\": -3221434820576757972, \"trip_id\": \"t_1393961_b_29945_tn_0\", \"shape_id\": \"p_897679\", \"route_id\": \"14603\", \"service_hours\": 1.32, \"trip_first_departure_ts\": 63180, \"trip_last_arrival_ts\": 67920, \"departure_hour\": 17, \"time_of_day\": \"PM Peak\", \"p25\": 1.28, \"p50\": 1.3, \"p75\": 1.32, \"p50_trip\": 1, \"fastest_trip\": 0, \"car_duration_hours\": 1.06, \"competitive_route\": 1, \"bus_multiplier\": 1.25, \"bus_difference\": 15.6, \"num_trips\": 26, \"num_competitive\": 26, \"pct_trips_competitive\": 1.0, \"bus_difference_spread\": 2.4000000000000004, \"route_group\": \"medium\", \"max_trip_hrs\": 1.32, \"max_trip_route_group\": 1.32, \"below_cutoff\": 26, \"pct_below_cutoff\": 1.0, \"name\": \"Sonoma-Marin Area Rail Transit District\", \"caltrans_district\": \"04 - Oakland\", \"drmt_organization_name\": null, \"route_name\": \"Sonoma County Airport To Larkspur\", \"cutoff2\": 30, \"cutoff\": 2}, {\"calitp_itp_id\": 315, \"trip_key\": 847657270131198076, \"trip_id\": \"t_1392475_b_29945_tn_0\", \"shape_id\": \"p_897679\", \"route_id\": \"14603\", \"service_hours\": 1.32, \"trip_first_departure_ts\": 55500, \"trip_last_arrival_ts\": 60240, \"departure_hour\": 15, \"time_of_day\": \"Midday\", \"p25\": 1.28, \"p50\": 1.3, \"p75\": 1.32, \"p50_trip\": 1, \"fastest_trip\": 0, \"car_duration_hours\": 1.06, \"competitive_route\": 1, \"bus_multiplier\": 1.25, \"bus_difference\": 15.6, \"num_trips\": 26, \"num_competitive\": 26, \"pct_trips_competitive\": 1.0, \"bus_difference_spread\": 2.4000000000000004, \"route_group\": \"medium\", \"max_trip_hrs\": 1.32, \"max_trip_route_group\": 1.32, \"below_cutoff\": 26, \"pct_below_cutoff\": 1.0, \"name\": \"Sonoma-Marin Area Rail Transit District\", \"caltrans_district\": \"04 - Oakland\", \"drmt_organization_name\": null, \"route_name\": \"Sonoma County Airport To Larkspur\", \"cutoff2\": 30, \"cutoff\": 2}, {\"calitp_itp_id\": 315, \"trip_key\": 1508906164604499980, \"trip_id\": \"t_1392527_b_29945_tn_0\", \"shape_id\": \"p_897679\", \"route_id\": \"14603\", \"service_hours\": 1.32, \"trip_first_departure_ts\": 29640, \"trip_last_arrival_ts\": 34380, \"departure_hour\": 8, \"time_of_day\": \"AM Peak\", \"p25\": 1.28, \"p50\": 1.3, \"p75\": 1.32, \"p50_trip\": 1, \"fastest_trip\": 0, \"car_duration_hours\": 1.06, \"competitive_route\": 1, \"bus_multiplier\": 1.25, \"bus_difference\": 15.6, \"num_trips\": 26, \"num_competitive\": 26, \"pct_trips_competitive\": 1.0, \"bus_difference_spread\": 2.4000000000000004, \"route_group\": \"medium\", \"max_trip_hrs\": 1.32, \"max_trip_route_group\": 1.32, \"below_cutoff\": 26, \"pct_below_cutoff\": 1.0, \"name\": \"Sonoma-Marin Area Rail Transit District\", \"caltrans_district\": \"04 - Oakland\", \"drmt_organization_name\": null, \"route_name\": \"Sonoma County Airport To Larkspur\", \"cutoff2\": 30, \"cutoff\": 2}, {\"calitp_itp_id\": 315, \"trip_key\": -3765371430898950633, \"trip_id\": \"t_1393960_b_29945_tn_0\", \"shape_id\": \"p_897679\", \"route_id\": \"14603\", \"service_hours\": 1.32, \"trip_first_departure_ts\": 57420, \"trip_last_arrival_ts\": 62160, \"departure_hour\": 15, \"time_of_day\": \"Midday\", \"p25\": 1.28, \"p50\": 1.3, \"p75\": 1.32, \"p50_trip\": 1, \"fastest_trip\": 0, \"car_duration_hours\": 1.06, \"competitive_route\": 1, \"bus_multiplier\": 1.25, \"bus_difference\": 15.6, \"num_trips\": 26, \"num_competitive\": 26, \"pct_trips_competitive\": 1.0, \"bus_difference_spread\": 2.4000000000000004, \"route_group\": \"medium\", \"max_trip_hrs\": 1.32, \"max_trip_route_group\": 1.32, \"below_cutoff\": 26, \"pct_below_cutoff\": 1.0, \"name\": \"Sonoma-Marin Area Rail Transit District\", \"caltrans_district\": \"04 - Oakland\", \"drmt_organization_name\": null, \"route_name\": \"Sonoma County Airport To Larkspur\", \"cutoff2\": 30, \"cutoff\": 2}, {\"calitp_itp_id\": 315, \"trip_key\": -1402756052860708428, \"trip_id\": \"t_1392465_b_29945_tn_0\", \"shape_id\": \"p_897679\", \"route_id\": \"14603\", \"service_hours\": 1.32, \"trip_first_departure_ts\": 45900, \"trip_last_arrival_ts\": 50640, \"departure_hour\": 12, \"time_of_day\": \"Midday\", \"p25\": 1.28, \"p50\": 1.3, \"p75\": 1.32, \"p50_trip\": 1, \"fastest_trip\": 0, \"car_duration_hours\": 1.06, \"competitive_route\": 1, \"bus_multiplier\": 1.25, \"bus_difference\": 15.6, \"num_trips\": 26, \"num_competitive\": 26, \"pct_trips_competitive\": 1.0, \"bus_difference_spread\": 2.4000000000000004, \"route_group\": \"medium\", \"max_trip_hrs\": 1.32, \"max_trip_route_group\": 1.32, \"below_cutoff\": 26, \"pct_below_cutoff\": 1.0, \"name\": \"Sonoma-Marin Area Rail Transit District\", \"caltrans_district\": \"04 - Oakland\", \"drmt_organization_name\": null, \"route_name\": \"Sonoma County Airport To Larkspur\", \"cutoff2\": 30, \"cutoff\": 2}, {\"calitp_itp_id\": 315, \"trip_key\": 5264278191689977910, \"trip_id\": \"t_1393959_b_29945_tn_0\", \"shape_id\": \"p_897679\", \"route_id\": \"14603\", \"service_hours\": 1.32, \"trip_first_departure_ts\": 33480, \"trip_last_arrival_ts\": 38220, \"departure_hour\": 9, \"time_of_day\": \"AM Peak\", \"p25\": 1.28, \"p50\": 1.3, \"p75\": 1.32, \"p50_trip\": 1, \"fastest_trip\": 0, \"car_duration_hours\": 1.06, \"competitive_route\": 1, \"bus_multiplier\": 1.25, \"bus_difference\": 15.6, \"num_trips\": 26, \"num_competitive\": 26, \"pct_trips_competitive\": 1.0, \"bus_difference_spread\": 2.4000000000000004, \"route_group\": \"medium\", \"max_trip_hrs\": 1.32, \"max_trip_route_group\": 1.32, \"below_cutoff\": 26, \"pct_below_cutoff\": 1.0, \"name\": \"Sonoma-Marin Area Rail Transit District\", \"caltrans_district\": \"04 - Oakland\", \"drmt_organization_name\": null, \"route_name\": \"Sonoma County Airport To Larkspur\", \"cutoff2\": 30, \"cutoff\": 2}, {\"calitp_itp_id\": 315, \"trip_key\": -6024192529033420009, \"trip_id\": \"t_1392463_b_29945_tn_0\", \"shape_id\": \"p_897679\", \"route_id\": \"14603\", \"service_hours\": 1.32, \"trip_first_departure_ts\": 25800, \"trip_last_arrival_ts\": 30540, \"departure_hour\": 7, \"time_of_day\": \"AM Peak\", \"p25\": 1.28, \"p50\": 1.3, \"p75\": 1.32, \"p50_trip\": 1, \"fastest_trip\": 0, \"car_duration_hours\": 1.06, \"competitive_route\": 1, \"bus_multiplier\": 1.25, \"bus_difference\": 15.6, \"num_trips\": 26, \"num_competitive\": 26, \"pct_trips_competitive\": 1.0, \"bus_difference_spread\": 2.4000000000000004, \"route_group\": \"medium\", \"max_trip_hrs\": 1.32, \"max_trip_route_group\": 1.32, \"below_cutoff\": 26, \"pct_below_cutoff\": 1.0, \"name\": \"Sonoma-Marin Area Rail Transit District\", \"caltrans_district\": \"04 - Oakland\", \"drmt_organization_name\": null, \"route_name\": \"Sonoma County Airport To Larkspur\", \"cutoff2\": 30, \"cutoff\": 2}, {\"calitp_itp_id\": 315, \"trip_key\": -8545403379171561135, \"trip_id\": \"t_1392472_b_29945_tn_0\", \"shape_id\": \"p_897679\", \"route_id\": \"14603\", \"service_hours\": 1.32, \"trip_first_departure_ts\": 21960, \"trip_last_arrival_ts\": 26700, \"departure_hour\": 6, \"time_of_day\": \"Owl Service\", \"p25\": 1.28, \"p50\": 1.3, \"p75\": 1.32, \"p50_trip\": 1, \"fastest_trip\": 0, \"car_duration_hours\": 1.06, \"competitive_route\": 1, \"bus_multiplier\": 1.25, \"bus_difference\": 15.6, \"num_trips\": 26, \"num_competitive\": 26, \"pct_trips_competitive\": 1.0, \"bus_difference_spread\": 2.4000000000000004, \"route_group\": \"medium\", \"max_trip_hrs\": 1.32, \"max_trip_route_group\": 1.32, \"below_cutoff\": 26, \"pct_below_cutoff\": 1.0, \"name\": \"Sonoma-Marin Area Rail Transit District\", \"caltrans_district\": \"04 - Oakland\", \"drmt_organization_name\": null, \"route_name\": \"Sonoma County Airport To Larkspur\", \"cutoff2\": 30, \"cutoff\": 2}, {\"calitp_itp_id\": 315, \"trip_key\": 1160413989443729943, \"trip_id\": \"t_1393962_b_29945_tn_0\", \"shape_id\": \"p_897679\", \"route_id\": \"14603\", \"service_hours\": 1.32, \"trip_first_departure_ts\": 67020, \"trip_last_arrival_ts\": 71760, \"departure_hour\": 18, \"time_of_day\": \"PM Peak\", \"p25\": 1.28, \"p50\": 1.3, \"p75\": 1.32, \"p50_trip\": 1, \"fastest_trip\": 0, \"car_duration_hours\": 1.06, \"competitive_route\": 1, \"bus_multiplier\": 1.25, \"bus_difference\": 15.6, \"num_trips\": 26, \"num_competitive\": 26, \"pct_trips_competitive\": 1.0, \"bus_difference_spread\": 2.4000000000000004, \"route_group\": \"medium\", \"max_trip_hrs\": 1.32, \"max_trip_route_group\": 1.32, \"below_cutoff\": 26, \"pct_below_cutoff\": 1.0, \"name\": \"Sonoma-Marin Area Rail Transit District\", \"caltrans_district\": \"04 - Oakland\", \"drmt_organization_name\": null, \"route_name\": \"Sonoma County Airport To Larkspur\", \"cutoff2\": 30, \"cutoff\": 2}, {\"calitp_itp_id\": 315, \"trip_key\": 8162541205591486193, \"trip_id\": \"t_1392469_b_29945_tn_0\", \"shape_id\": \"p_897679\", \"route_id\": \"14603\", \"service_hours\": 1.32, \"trip_first_departure_ts\": 47820, \"trip_last_arrival_ts\": 52560, \"departure_hour\": 13, \"time_of_day\": \"Midday\", \"p25\": 1.28, \"p50\": 1.3, \"p75\": 1.32, \"p50_trip\": 1, \"fastest_trip\": 0, \"car_duration_hours\": 1.06, \"competitive_route\": 1, \"bus_multiplier\": 1.25, \"bus_difference\": 15.6, \"num_trips\": 26, \"num_competitive\": 26, \"pct_trips_competitive\": 1.0, \"bus_difference_spread\": 2.4000000000000004, \"route_group\": \"medium\", \"max_trip_hrs\": 1.32, \"max_trip_route_group\": 1.32, \"below_cutoff\": 26, \"pct_below_cutoff\": 1.0, \"name\": \"Sonoma-Marin Area Rail Transit District\", \"caltrans_district\": \"04 - Oakland\", \"drmt_organization_name\": null, \"route_name\": \"Sonoma County Airport To Larkspur\", \"cutoff2\": 30, \"cutoff\": 2}, {\"calitp_itp_id\": 315, \"trip_key\": -8490856891956538853, \"trip_id\": \"t_1392466_b_29945_tn_0\", \"shape_id\": \"p_897679\", \"route_id\": \"14603\", \"service_hours\": 1.32, \"trip_first_departure_ts\": 51660, \"trip_last_arrival_ts\": 56400, \"departure_hour\": 14, \"time_of_day\": \"Midday\", \"p25\": 1.28, \"p50\": 1.3, \"p75\": 1.32, \"p50_trip\": 1, \"fastest_trip\": 0, \"car_duration_hours\": 1.06, \"competitive_route\": 1, \"bus_multiplier\": 1.25, \"bus_difference\": 15.6, \"num_trips\": 26, \"num_competitive\": 26, \"pct_trips_competitive\": 1.0, \"bus_difference_spread\": 2.4000000000000004, \"route_group\": \"medium\", \"max_trip_hrs\": 1.32, \"max_trip_route_group\": 1.32, \"below_cutoff\": 26, \"pct_below_cutoff\": 1.0, \"name\": \"Sonoma-Marin Area Rail Transit District\", \"caltrans_district\": \"04 - Oakland\", \"drmt_organization_name\": null, \"route_name\": \"Sonoma County Airport To Larkspur\", \"cutoff2\": 30, \"cutoff\": 2}]}}, {\"mode\": \"vega-lite\"});\n",
       "</script>"
      ],
      "text/plain": [
       "alt.FacetChart(...)"
      ]
     },
     "metadata": {},
     "output_type": "display_data"
    },
    {
     "data": {
      "text/html": [
       "\n",
       "<div id=\"altair-viz-4d22b3e7e2aa48ff96a08c3634cb6559\"></div>\n",
       "<script type=\"text/javascript\">\n",
       "  var VEGA_DEBUG = (typeof VEGA_DEBUG == \"undefined\") ? {} : VEGA_DEBUG;\n",
       "  (function(spec, embedOpt){\n",
       "    let outputDiv = document.currentScript.previousElementSibling;\n",
       "    if (outputDiv.id !== \"altair-viz-4d22b3e7e2aa48ff96a08c3634cb6559\") {\n",
       "      outputDiv = document.getElementById(\"altair-viz-4d22b3e7e2aa48ff96a08c3634cb6559\");\n",
       "    }\n",
       "    const paths = {\n",
       "      \"vega\": \"https://cdn.jsdelivr.net/npm//vega@5?noext\",\n",
       "      \"vega-lib\": \"https://cdn.jsdelivr.net/npm//vega-lib?noext\",\n",
       "      \"vega-lite\": \"https://cdn.jsdelivr.net/npm//vega-lite@4.17.0?noext\",\n",
       "      \"vega-embed\": \"https://cdn.jsdelivr.net/npm//vega-embed@6?noext\",\n",
       "    };\n",
       "\n",
       "    function maybeLoadScript(lib, version) {\n",
       "      var key = `${lib.replace(\"-\", \"\")}_version`;\n",
       "      return (VEGA_DEBUG[key] == version) ?\n",
       "        Promise.resolve(paths[lib]) :\n",
       "        new Promise(function(resolve, reject) {\n",
       "          var s = document.createElement('script');\n",
       "          document.getElementsByTagName(\"head\")[0].appendChild(s);\n",
       "          s.async = true;\n",
       "          s.onload = () => {\n",
       "            VEGA_DEBUG[key] = version;\n",
       "            return resolve(paths[lib]);\n",
       "          };\n",
       "          s.onerror = () => reject(`Error loading script: ${paths[lib]}`);\n",
       "          s.src = paths[lib];\n",
       "        });\n",
       "    }\n",
       "\n",
       "    function showError(err) {\n",
       "      outputDiv.innerHTML = `<div class=\"error\" style=\"color:red;\">${err}</div>`;\n",
       "      throw err;\n",
       "    }\n",
       "\n",
       "    function displayChart(vegaEmbed) {\n",
       "      vegaEmbed(outputDiv, spec, embedOpt)\n",
       "        .catch(err => showError(`Javascript Error: ${err.message}<br>This usually means there's a typo in your chart specification. See the javascript console for the full traceback.`));\n",
       "    }\n",
       "\n",
       "    if(typeof define === \"function\" && define.amd) {\n",
       "      requirejs.config({paths});\n",
       "      require([\"vega-embed\"], displayChart, err => showError(`Error loading script: ${err.message}`));\n",
       "    } else {\n",
       "      maybeLoadScript(\"vega\", \"5\")\n",
       "        .then(() => maybeLoadScript(\"vega-lite\", \"4.17.0\"))\n",
       "        .then(() => maybeLoadScript(\"vega-embed\", \"6\"))\n",
       "        .catch(showError)\n",
       "        .then(() => displayChart(vegaEmbed));\n",
       "    }\n",
       "  })({\"config\": {\"view\": {\"continuousWidth\": 400, \"continuousHeight\": 300, \"stroke\": null}, \"facet\": {\"spacing\": 0}}, \"data\": {\"name\": \"data-0c4fecd663a83536b526f93ffceac507\"}, \"facet\": {\"column\": {\"field\": \"route_id\", \"sort\": [\"14603\"], \"title\": \"Route ID\", \"type\": \"nominal\"}}, \"spec\": {\"layer\": [{\"mark\": \"rule\", \"encoding\": {\"color\": {\"value\": \"black\"}, \"y\": {\"field\": \"cutoff\", \"type\": \"quantitative\"}}, \"selection\": {\"selector002\": {\"type\": \"interval\", \"bind\": \"scales\", \"encodings\": [\"x\", \"y\"]}}}, {\"mark\": {\"type\": \"rule\", \"strokeDash\": [3, 3]}, \"encoding\": {\"color\": {\"value\": \"#323434\"}, \"y\": {\"field\": \"cutoff2\", \"type\": \"quantitative\"}}}, {\"mark\": {\"type\": \"point\", \"opacity\": 0.65, \"size\": 12, \"strokeWidth\": 1.1}, \"encoding\": {\"color\": {\"field\": \"time_of_day\", \"scale\": {\"range\": [\"#136C97\", \"#E16B26\", \"#F6BF16\", \"#00896B\", \"#7790A3\", \"#5B559C\"]}, \"sort\": [\"AM Peak\", \"Midday\", \"PM Peak\", \"Owl Service\"], \"title\": \"Time of Day\", \"type\": \"nominal\"}, \"tooltip\": [{\"field\": \"route_id\", \"type\": \"nominal\"}, {\"field\": \"route_name\", \"type\": \"nominal\"}, {\"field\": \"trip_id\", \"type\": \"nominal\"}, {\"field\": \"service_hours\", \"type\": \"quantitative\"}, {\"field\": \"car_duration_hours\", \"type\": \"quantitative\"}, {\"field\": \"bus_multiplier\", \"type\": \"quantitative\"}, {\"field\": \"bus_difference\", \"type\": \"quantitative\"}, {\"field\": \"num_trips\", \"type\": \"quantitative\"}, {\"field\": \"num_competitive\", \"type\": \"quantitative\"}, {\"field\": \"pct_trips_competitive\", \"type\": \"quantitative\"}, {\"field\": \"p25\", \"type\": \"quantitative\"}, {\"field\": \"p50\", \"type\": \"quantitative\"}, {\"field\": \"p75\", \"type\": \"quantitative\"}], \"x\": {\"axis\": {\"grid\": false, \"labels\": false, \"ticks\": true, \"values\": [0]}, \"field\": \"jitter\", \"scale\": {}, \"title\": null, \"type\": \"quantitative\"}, \"y\": {\"field\": \"bus_difference\", \"scale\": {\"domain\": [-5, 35.0]}, \"title\": \"Difference in Bus to Car Travel Time (min)\", \"type\": \"quantitative\"}}, \"transform\": [{\"calculate\": \"sqrt(-2*log(random()))*cos(2*PI*random())\", \"as\": \"jitter\"}], \"width\": 50}, {\"layer\": [{\"mark\": {\"type\": \"point\", \"opacity\": 0.6, \"size\": 20, \"strokeWidth\": 1.3}, \"encoding\": {\"color\": {\"value\": \"#323434\"}, \"y\": {\"field\": \"bus_difference\", \"type\": \"quantitative\"}}, \"transform\": [{\"filter\": \"(datum.p50_trip === 1)\"}]}, {\"mark\": {\"type\": \"text\", \"align\": \"center\", \"baseline\": \"middle\"}, \"encoding\": {\"color\": {\"value\": \"black\"}, \"text\": {\"field\": \"pct_trips_competitive\", \"format\": \".0%\", \"type\": \"quantitative\"}, \"tooltip\": [{\"field\": \"route_id\", \"type\": \"nominal\"}, {\"field\": \"route_name\", \"type\": \"nominal\"}, {\"field\": \"trip_id\", \"type\": \"nominal\"}, {\"field\": \"service_hours\", \"type\": \"quantitative\"}, {\"field\": \"car_duration_hours\", \"type\": \"quantitative\"}, {\"field\": \"bus_multiplier\", \"type\": \"quantitative\"}, {\"field\": \"bus_difference\", \"type\": \"quantitative\"}, {\"field\": \"num_trips\", \"type\": \"quantitative\"}, {\"field\": \"num_competitive\", \"type\": \"quantitative\"}, {\"field\": \"pct_trips_competitive\", \"type\": \"quantitative\"}, {\"field\": \"p25\", \"type\": \"quantitative\"}, {\"field\": \"p50\", \"type\": \"quantitative\"}, {\"field\": \"p75\", \"type\": \"quantitative\"}], \"x\": {\"value\": 30}, \"y\": {\"value\": 15}}, \"transform\": [{\"calculate\": \"sqrt(-2*log(random()))*cos(2*PI*random())\", \"as\": \"jitter\"}, {\"filter\": \"(datum.fastest_trip === 1)\"}]}]}]}, \"resolve\": {\"scale\": {\"y\": \"shared\"}}, \"title\": \"Difference in Bus to Car Travel Time (min)\", \"$schema\": \"https://vega.github.io/schema/vega-lite/v4.17.0.json\", \"datasets\": {\"data-0c4fecd663a83536b526f93ffceac507\": [{\"calitp_itp_id\": 315, \"trip_key\": -2570866538080129951, \"trip_id\": \"t_1392468_b_29945_tn_0\", \"shape_id\": \"p_897680\", \"route_id\": \"14603\", \"service_hours\": 1.28, \"trip_first_departure_ts\": 51660, \"trip_last_arrival_ts\": 56280, \"departure_hour\": 14, \"time_of_day\": \"Midday\", \"p25\": 1.28, \"p50\": 1.3, \"p75\": 1.32, \"p50_trip\": 1, \"fastest_trip\": 0, \"car_duration_hours\": 1.06, \"competitive_route\": 1, \"bus_multiplier\": 1.21, \"bus_difference\": 13.2, \"num_trips\": 26, \"num_competitive\": 26, \"pct_trips_competitive\": 1.0, \"bus_difference_spread\": 2.4000000000000004, \"route_group\": \"medium\", \"max_trip_hrs\": 1.32, \"max_trip_route_group\": 1.32, \"below_cutoff\": 26, \"pct_below_cutoff\": 1.0, \"name\": \"Sonoma-Marin Area Rail Transit District\", \"caltrans_district\": \"04 - Oakland\", \"drmt_organization_name\": null, \"route_name\": \"Sonoma County Airport To Larkspur\", \"cutoff2\": 30, \"cutoff\": 0}, {\"calitp_itp_id\": 315, \"trip_key\": 1735827063190404904, \"trip_id\": \"t_1392467_b_29945_tn_0\", \"shape_id\": \"p_897680\", \"route_id\": \"14603\", \"service_hours\": 1.28, \"trip_first_departure_ts\": 57420, \"trip_last_arrival_ts\": 62040, \"departure_hour\": 15, \"time_of_day\": \"Midday\", \"p25\": 1.28, \"p50\": 1.3, \"p75\": 1.32, \"p50_trip\": 1, \"fastest_trip\": 0, \"car_duration_hours\": 1.06, \"competitive_route\": 1, \"bus_multiplier\": 1.21, \"bus_difference\": 13.2, \"num_trips\": 26, \"num_competitive\": 26, \"pct_trips_competitive\": 1.0, \"bus_difference_spread\": 2.4000000000000004, \"route_group\": \"medium\", \"max_trip_hrs\": 1.32, \"max_trip_route_group\": 1.32, \"below_cutoff\": 26, \"pct_below_cutoff\": 1.0, \"name\": \"Sonoma-Marin Area Rail Transit District\", \"caltrans_district\": \"04 - Oakland\", \"drmt_organization_name\": null, \"route_name\": \"Sonoma County Airport To Larkspur\", \"cutoff2\": 30, \"cutoff\": 0}, {\"calitp_itp_id\": 315, \"trip_key\": -4530425533812236016, \"trip_id\": \"t_1392473_b_29945_tn_0\", \"shape_id\": \"p_897680\", \"route_id\": \"14603\", \"service_hours\": 1.28, \"trip_first_departure_ts\": 61260, \"trip_last_arrival_ts\": 65880, \"departure_hour\": 17, \"time_of_day\": \"PM Peak\", \"p25\": 1.28, \"p50\": 1.3, \"p75\": 1.32, \"p50_trip\": 1, \"fastest_trip\": 0, \"car_duration_hours\": 1.06, \"competitive_route\": 1, \"bus_multiplier\": 1.21, \"bus_difference\": 13.2, \"num_trips\": 26, \"num_competitive\": 26, \"pct_trips_competitive\": 1.0, \"bus_difference_spread\": 2.4000000000000004, \"route_group\": \"medium\", \"max_trip_hrs\": 1.32, \"max_trip_route_group\": 1.32, \"below_cutoff\": 26, \"pct_below_cutoff\": 1.0, \"name\": \"Sonoma-Marin Area Rail Transit District\", \"caltrans_district\": \"04 - Oakland\", \"drmt_organization_name\": null, \"route_name\": \"Sonoma County Airport To Larkspur\", \"cutoff2\": 30, \"cutoff\": 0}, {\"calitp_itp_id\": 315, \"trip_key\": 4416217459538609298, \"trip_id\": \"t_1393966_b_29945_tn_0\", \"shape_id\": \"p_897680\", \"route_id\": \"14603\", \"service_hours\": 1.28, \"trip_first_departure_ts\": 67020, \"trip_last_arrival_ts\": 71640, \"departure_hour\": 18, \"time_of_day\": \"PM Peak\", \"p25\": 1.28, \"p50\": 1.3, \"p75\": 1.32, \"p50_trip\": 1, \"fastest_trip\": 0, \"car_duration_hours\": 1.06, \"competitive_route\": 1, \"bus_multiplier\": 1.21, \"bus_difference\": 13.2, \"num_trips\": 26, \"num_competitive\": 26, \"pct_trips_competitive\": 1.0, \"bus_difference_spread\": 2.4000000000000004, \"route_group\": \"medium\", \"max_trip_hrs\": 1.32, \"max_trip_route_group\": 1.32, \"below_cutoff\": 26, \"pct_below_cutoff\": 1.0, \"name\": \"Sonoma-Marin Area Rail Transit District\", \"caltrans_district\": \"04 - Oakland\", \"drmt_organization_name\": null, \"route_name\": \"Sonoma County Airport To Larkspur\", \"cutoff2\": 30, \"cutoff\": 0}, {\"calitp_itp_id\": 315, \"trip_key\": 8120940751543448040, \"trip_id\": \"t_1393963_b_29945_tn_0\", \"shape_id\": \"p_897680\", \"route_id\": \"14603\", \"service_hours\": 1.28, \"trip_first_departure_ts\": 35400, \"trip_last_arrival_ts\": 40020, \"departure_hour\": 9, \"time_of_day\": \"AM Peak\", \"p25\": 1.28, \"p50\": 1.3, \"p75\": 1.32, \"p50_trip\": 1, \"fastest_trip\": 0, \"car_duration_hours\": 1.06, \"competitive_route\": 1, \"bus_multiplier\": 1.21, \"bus_difference\": 13.2, \"num_trips\": 26, \"num_competitive\": 26, \"pct_trips_competitive\": 1.0, \"bus_difference_spread\": 2.4000000000000004, \"route_group\": \"medium\", \"max_trip_hrs\": 1.32, \"max_trip_route_group\": 1.32, \"below_cutoff\": 26, \"pct_below_cutoff\": 1.0, \"name\": \"Sonoma-Marin Area Rail Transit District\", \"caltrans_district\": \"04 - Oakland\", \"drmt_organization_name\": null, \"route_name\": \"Sonoma County Airport To Larkspur\", \"cutoff2\": 30, \"cutoff\": 0}, {\"calitp_itp_id\": 315, \"trip_key\": 2632550913309822662, \"trip_id\": \"t_1392464_b_29945_tn_0\", \"shape_id\": \"p_897680\", \"route_id\": \"14603\", \"service_hours\": 1.28, \"trip_first_departure_ts\": 23880, \"trip_last_arrival_ts\": 28500, \"departure_hour\": 6, \"time_of_day\": \"Owl Service\", \"p25\": 1.28, \"p50\": 1.3, \"p75\": 1.32, \"p50_trip\": 1, \"fastest_trip\": 0, \"car_duration_hours\": 1.06, \"competitive_route\": 1, \"bus_multiplier\": 1.21, \"bus_difference\": 13.2, \"num_trips\": 26, \"num_competitive\": 26, \"pct_trips_competitive\": 1.0, \"bus_difference_spread\": 2.4000000000000004, \"route_group\": \"medium\", \"max_trip_hrs\": 1.32, \"max_trip_route_group\": 1.32, \"below_cutoff\": 26, \"pct_below_cutoff\": 1.0, \"name\": \"Sonoma-Marin Area Rail Transit District\", \"caltrans_district\": \"04 - Oakland\", \"drmt_organization_name\": null, \"route_name\": \"Sonoma County Airport To Larkspur\", \"cutoff2\": 30, \"cutoff\": 0}, {\"calitp_itp_id\": 315, \"trip_key\": 6802809791036127853, \"trip_id\": \"t_1392461_b_29945_tn_0\", \"shape_id\": \"p_897680\", \"route_id\": \"14603\", \"service_hours\": 1.28, \"trip_first_departure_ts\": 31560, \"trip_last_arrival_ts\": 36180, \"departure_hour\": 8, \"time_of_day\": \"AM Peak\", \"p25\": 1.28, \"p50\": 1.3, \"p75\": 1.32, \"p50_trip\": 1, \"fastest_trip\": 0, \"car_duration_hours\": 1.06, \"competitive_route\": 1, \"bus_multiplier\": 1.21, \"bus_difference\": 13.2, \"num_trips\": 26, \"num_competitive\": 26, \"pct_trips_competitive\": 1.0, \"bus_difference_spread\": 2.4000000000000004, \"route_group\": \"medium\", \"max_trip_hrs\": 1.32, \"max_trip_route_group\": 1.32, \"below_cutoff\": 26, \"pct_below_cutoff\": 1.0, \"name\": \"Sonoma-Marin Area Rail Transit District\", \"caltrans_district\": \"04 - Oakland\", \"drmt_organization_name\": null, \"route_name\": \"Sonoma County Airport To Larkspur\", \"cutoff2\": 30, \"cutoff\": 0}, {\"calitp_itp_id\": 315, \"trip_key\": 6495353743784580393, \"trip_id\": \"t_1392471_b_29945_tn_0\", \"shape_id\": \"p_897680\", \"route_id\": \"14603\", \"service_hours\": 1.28, \"trip_first_departure_ts\": 27720, \"trip_last_arrival_ts\": 32340, \"departure_hour\": 7, \"time_of_day\": \"AM Peak\", \"p25\": 1.28, \"p50\": 1.3, \"p75\": 1.32, \"p50_trip\": 1, \"fastest_trip\": 0, \"car_duration_hours\": 1.06, \"competitive_route\": 1, \"bus_multiplier\": 1.21, \"bus_difference\": 13.2, \"num_trips\": 26, \"num_competitive\": 26, \"pct_trips_competitive\": 1.0, \"bus_difference_spread\": 2.4000000000000004, \"route_group\": \"medium\", \"max_trip_hrs\": 1.32, \"max_trip_route_group\": 1.32, \"below_cutoff\": 26, \"pct_below_cutoff\": 1.0, \"name\": \"Sonoma-Marin Area Rail Transit District\", \"caltrans_district\": \"04 - Oakland\", \"drmt_organization_name\": null, \"route_name\": \"Sonoma County Airport To Larkspur\", \"cutoff2\": 30, \"cutoff\": 0}, {\"calitp_itp_id\": 315, \"trip_key\": 1609341664702902210, \"trip_id\": \"t_1393965_b_29945_tn_0\", \"shape_id\": \"p_897680\", \"route_id\": \"14603\", \"service_hours\": 1.28, \"trip_first_departure_ts\": 63180, \"trip_last_arrival_ts\": 67800, \"departure_hour\": 17, \"time_of_day\": \"PM Peak\", \"p25\": 1.28, \"p50\": 1.3, \"p75\": 1.32, \"p50_trip\": 1, \"fastest_trip\": 0, \"car_duration_hours\": 1.06, \"competitive_route\": 1, \"bus_multiplier\": 1.21, \"bus_difference\": 13.2, \"num_trips\": 26, \"num_competitive\": 26, \"pct_trips_competitive\": 1.0, \"bus_difference_spread\": 2.4000000000000004, \"route_group\": \"medium\", \"max_trip_hrs\": 1.32, \"max_trip_route_group\": 1.32, \"below_cutoff\": 26, \"pct_below_cutoff\": 1.0, \"name\": \"Sonoma-Marin Area Rail Transit District\", \"caltrans_district\": \"04 - Oakland\", \"drmt_organization_name\": null, \"route_name\": \"Sonoma County Airport To Larkspur\", \"cutoff2\": 30, \"cutoff\": 0}, {\"calitp_itp_id\": 315, \"trip_key\": -8263158080782040151, \"trip_id\": \"t_1393968_b_29945_tn_0\", \"shape_id\": \"p_897680\", \"route_id\": \"14603\", \"service_hours\": 1.28, \"trip_first_departure_ts\": 73740, \"trip_last_arrival_ts\": 78360, \"departure_hour\": 20, \"time_of_day\": \"Owl Service\", \"p25\": 1.28, \"p50\": 1.3, \"p75\": 1.32, \"p50_trip\": 1, \"fastest_trip\": 1, \"car_duration_hours\": 1.06, \"competitive_route\": 1, \"bus_multiplier\": 1.21, \"bus_difference\": 13.2, \"num_trips\": 26, \"num_competitive\": 26, \"pct_trips_competitive\": 1.0, \"bus_difference_spread\": 2.4000000000000004, \"route_group\": \"medium\", \"max_trip_hrs\": 1.32, \"max_trip_route_group\": 1.32, \"below_cutoff\": 26, \"pct_below_cutoff\": 1.0, \"name\": \"Sonoma-Marin Area Rail Transit District\", \"caltrans_district\": \"04 - Oakland\", \"drmt_organization_name\": null, \"route_name\": \"Sonoma County Airport To Larkspur\", \"cutoff2\": 30, \"cutoff\": 0}, {\"calitp_itp_id\": 315, \"trip_key\": 127097272520024760, \"trip_id\": \"t_1392462_b_29945_tn_0\", \"shape_id\": \"p_897680\", \"route_id\": \"14603\", \"service_hours\": 1.28, \"trip_first_departure_ts\": 53580, \"trip_last_arrival_ts\": 58200, \"departure_hour\": 14, \"time_of_day\": \"Midday\", \"p25\": 1.28, \"p50\": 1.3, \"p75\": 1.32, \"p50_trip\": 1, \"fastest_trip\": 0, \"car_duration_hours\": 1.06, \"competitive_route\": 1, \"bus_multiplier\": 1.21, \"bus_difference\": 13.2, \"num_trips\": 26, \"num_competitive\": 26, \"pct_trips_competitive\": 1.0, \"bus_difference_spread\": 2.4000000000000004, \"route_group\": \"medium\", \"max_trip_hrs\": 1.32, \"max_trip_route_group\": 1.32, \"below_cutoff\": 26, \"pct_below_cutoff\": 1.0, \"name\": \"Sonoma-Marin Area Rail Transit District\", \"caltrans_district\": \"04 - Oakland\", \"drmt_organization_name\": null, \"route_name\": \"Sonoma County Airport To Larkspur\", \"cutoff2\": 30, \"cutoff\": 0}, {\"calitp_itp_id\": 315, \"trip_key\": -6076402591735573870, \"trip_id\": \"t_1393964_b_29945_tn_0\", \"shape_id\": \"p_897680\", \"route_id\": \"14603\", \"service_hours\": 1.28, \"trip_first_departure_ts\": 39240, \"trip_last_arrival_ts\": 43860, \"departure_hour\": 10, \"time_of_day\": \"Midday\", \"p25\": 1.28, \"p50\": 1.3, \"p75\": 1.32, \"p50_trip\": 1, \"fastest_trip\": 0, \"car_duration_hours\": 1.06, \"competitive_route\": 1, \"bus_multiplier\": 1.21, \"bus_difference\": 13.2, \"num_trips\": 26, \"num_competitive\": 26, \"pct_trips_competitive\": 1.0, \"bus_difference_spread\": 2.4000000000000004, \"route_group\": \"medium\", \"max_trip_hrs\": 1.32, \"max_trip_route_group\": 1.32, \"below_cutoff\": 26, \"pct_below_cutoff\": 1.0, \"name\": \"Sonoma-Marin Area Rail Transit District\", \"caltrans_district\": \"04 - Oakland\", \"drmt_organization_name\": null, \"route_name\": \"Sonoma County Airport To Larkspur\", \"cutoff2\": 30, \"cutoff\": 0}, {\"calitp_itp_id\": 315, \"trip_key\": -7679924680753058571, \"trip_id\": \"t_1393967_b_29945_tn_0\", \"shape_id\": \"p_897680\", \"route_id\": \"14603\", \"service_hours\": 1.28, \"trip_first_departure_ts\": 68940, \"trip_last_arrival_ts\": 73560, \"departure_hour\": 19, \"time_of_day\": \"PM Peak\", \"p25\": 1.28, \"p50\": 1.3, \"p75\": 1.32, \"p50_trip\": 1, \"fastest_trip\": 0, \"car_duration_hours\": 1.06, \"competitive_route\": 1, \"bus_multiplier\": 1.21, \"bus_difference\": 13.2, \"num_trips\": 26, \"num_competitive\": 26, \"pct_trips_competitive\": 1.0, \"bus_difference_spread\": 2.4000000000000004, \"route_group\": \"medium\", \"max_trip_hrs\": 1.32, \"max_trip_route_group\": 1.32, \"below_cutoff\": 26, \"pct_below_cutoff\": 1.0, \"name\": \"Sonoma-Marin Area Rail Transit District\", \"caltrans_district\": \"04 - Oakland\", \"drmt_organization_name\": null, \"route_name\": \"Sonoma County Airport To Larkspur\", \"cutoff2\": 30, \"cutoff\": 0}, {\"calitp_itp_id\": 315, \"trip_key\": 8042410948887511611, \"trip_id\": \"t_1392470_b_29945_tn_0\", \"shape_id\": \"p_897679\", \"route_id\": \"14603\", \"service_hours\": 1.32, \"trip_first_departure_ts\": 18120, \"trip_last_arrival_ts\": 22860, \"departure_hour\": 5, \"time_of_day\": \"Owl Service\", \"p25\": 1.28, \"p50\": 1.3, \"p75\": 1.32, \"p50_trip\": 1, \"fastest_trip\": 0, \"car_duration_hours\": 1.06, \"competitive_route\": 1, \"bus_multiplier\": 1.25, \"bus_difference\": 15.6, \"num_trips\": 26, \"num_competitive\": 26, \"pct_trips_competitive\": 1.0, \"bus_difference_spread\": 2.4000000000000004, \"route_group\": \"medium\", \"max_trip_hrs\": 1.32, \"max_trip_route_group\": 1.32, \"below_cutoff\": 26, \"pct_below_cutoff\": 1.0, \"name\": \"Sonoma-Marin Area Rail Transit District\", \"caltrans_district\": \"04 - Oakland\", \"drmt_organization_name\": null, \"route_name\": \"Sonoma County Airport To Larkspur\", \"cutoff2\": 30, \"cutoff\": 0}, {\"calitp_itp_id\": 315, \"trip_key\": -6250214341598805462, \"trip_id\": \"t_1392476_b_29945_tn_0\", \"shape_id\": \"p_897679\", \"route_id\": \"14603\", \"service_hours\": 1.32, \"trip_first_departure_ts\": 61260, \"trip_last_arrival_ts\": 66000, \"departure_hour\": 17, \"time_of_day\": \"PM Peak\", \"p25\": 1.28, \"p50\": 1.3, \"p75\": 1.32, \"p50_trip\": 1, \"fastest_trip\": 0, \"car_duration_hours\": 1.06, \"competitive_route\": 1, \"bus_multiplier\": 1.25, \"bus_difference\": 15.6, \"num_trips\": 26, \"num_competitive\": 26, \"pct_trips_competitive\": 1.0, \"bus_difference_spread\": 2.4000000000000004, \"route_group\": \"medium\", \"max_trip_hrs\": 1.32, \"max_trip_route_group\": 1.32, \"below_cutoff\": 26, \"pct_below_cutoff\": 1.0, \"name\": \"Sonoma-Marin Area Rail Transit District\", \"caltrans_district\": \"04 - Oakland\", \"drmt_organization_name\": null, \"route_name\": \"Sonoma County Airport To Larkspur\", \"cutoff2\": 30, \"cutoff\": 0}, {\"calitp_itp_id\": 315, \"trip_key\": -3221434820576757972, \"trip_id\": \"t_1393961_b_29945_tn_0\", \"shape_id\": \"p_897679\", \"route_id\": \"14603\", \"service_hours\": 1.32, \"trip_first_departure_ts\": 63180, \"trip_last_arrival_ts\": 67920, \"departure_hour\": 17, \"time_of_day\": \"PM Peak\", \"p25\": 1.28, \"p50\": 1.3, \"p75\": 1.32, \"p50_trip\": 1, \"fastest_trip\": 0, \"car_duration_hours\": 1.06, \"competitive_route\": 1, \"bus_multiplier\": 1.25, \"bus_difference\": 15.6, \"num_trips\": 26, \"num_competitive\": 26, \"pct_trips_competitive\": 1.0, \"bus_difference_spread\": 2.4000000000000004, \"route_group\": \"medium\", \"max_trip_hrs\": 1.32, \"max_trip_route_group\": 1.32, \"below_cutoff\": 26, \"pct_below_cutoff\": 1.0, \"name\": \"Sonoma-Marin Area Rail Transit District\", \"caltrans_district\": \"04 - Oakland\", \"drmt_organization_name\": null, \"route_name\": \"Sonoma County Airport To Larkspur\", \"cutoff2\": 30, \"cutoff\": 0}, {\"calitp_itp_id\": 315, \"trip_key\": 847657270131198076, \"trip_id\": \"t_1392475_b_29945_tn_0\", \"shape_id\": \"p_897679\", \"route_id\": \"14603\", \"service_hours\": 1.32, \"trip_first_departure_ts\": 55500, \"trip_last_arrival_ts\": 60240, \"departure_hour\": 15, \"time_of_day\": \"Midday\", \"p25\": 1.28, \"p50\": 1.3, \"p75\": 1.32, \"p50_trip\": 1, \"fastest_trip\": 0, \"car_duration_hours\": 1.06, \"competitive_route\": 1, \"bus_multiplier\": 1.25, \"bus_difference\": 15.6, \"num_trips\": 26, \"num_competitive\": 26, \"pct_trips_competitive\": 1.0, \"bus_difference_spread\": 2.4000000000000004, \"route_group\": \"medium\", \"max_trip_hrs\": 1.32, \"max_trip_route_group\": 1.32, \"below_cutoff\": 26, \"pct_below_cutoff\": 1.0, \"name\": \"Sonoma-Marin Area Rail Transit District\", \"caltrans_district\": \"04 - Oakland\", \"drmt_organization_name\": null, \"route_name\": \"Sonoma County Airport To Larkspur\", \"cutoff2\": 30, \"cutoff\": 0}, {\"calitp_itp_id\": 315, \"trip_key\": 1508906164604499980, \"trip_id\": \"t_1392527_b_29945_tn_0\", \"shape_id\": \"p_897679\", \"route_id\": \"14603\", \"service_hours\": 1.32, \"trip_first_departure_ts\": 29640, \"trip_last_arrival_ts\": 34380, \"departure_hour\": 8, \"time_of_day\": \"AM Peak\", \"p25\": 1.28, \"p50\": 1.3, \"p75\": 1.32, \"p50_trip\": 1, \"fastest_trip\": 0, \"car_duration_hours\": 1.06, \"competitive_route\": 1, \"bus_multiplier\": 1.25, \"bus_difference\": 15.6, \"num_trips\": 26, \"num_competitive\": 26, \"pct_trips_competitive\": 1.0, \"bus_difference_spread\": 2.4000000000000004, \"route_group\": \"medium\", \"max_trip_hrs\": 1.32, \"max_trip_route_group\": 1.32, \"below_cutoff\": 26, \"pct_below_cutoff\": 1.0, \"name\": \"Sonoma-Marin Area Rail Transit District\", \"caltrans_district\": \"04 - Oakland\", \"drmt_organization_name\": null, \"route_name\": \"Sonoma County Airport To Larkspur\", \"cutoff2\": 30, \"cutoff\": 0}, {\"calitp_itp_id\": 315, \"trip_key\": -3765371430898950633, \"trip_id\": \"t_1393960_b_29945_tn_0\", \"shape_id\": \"p_897679\", \"route_id\": \"14603\", \"service_hours\": 1.32, \"trip_first_departure_ts\": 57420, \"trip_last_arrival_ts\": 62160, \"departure_hour\": 15, \"time_of_day\": \"Midday\", \"p25\": 1.28, \"p50\": 1.3, \"p75\": 1.32, \"p50_trip\": 1, \"fastest_trip\": 0, \"car_duration_hours\": 1.06, \"competitive_route\": 1, \"bus_multiplier\": 1.25, \"bus_difference\": 15.6, \"num_trips\": 26, \"num_competitive\": 26, \"pct_trips_competitive\": 1.0, \"bus_difference_spread\": 2.4000000000000004, \"route_group\": \"medium\", \"max_trip_hrs\": 1.32, \"max_trip_route_group\": 1.32, \"below_cutoff\": 26, \"pct_below_cutoff\": 1.0, \"name\": \"Sonoma-Marin Area Rail Transit District\", \"caltrans_district\": \"04 - Oakland\", \"drmt_organization_name\": null, \"route_name\": \"Sonoma County Airport To Larkspur\", \"cutoff2\": 30, \"cutoff\": 0}, {\"calitp_itp_id\": 315, \"trip_key\": -1402756052860708428, \"trip_id\": \"t_1392465_b_29945_tn_0\", \"shape_id\": \"p_897679\", \"route_id\": \"14603\", \"service_hours\": 1.32, \"trip_first_departure_ts\": 45900, \"trip_last_arrival_ts\": 50640, \"departure_hour\": 12, \"time_of_day\": \"Midday\", \"p25\": 1.28, \"p50\": 1.3, \"p75\": 1.32, \"p50_trip\": 1, \"fastest_trip\": 0, \"car_duration_hours\": 1.06, \"competitive_route\": 1, \"bus_multiplier\": 1.25, \"bus_difference\": 15.6, \"num_trips\": 26, \"num_competitive\": 26, \"pct_trips_competitive\": 1.0, \"bus_difference_spread\": 2.4000000000000004, \"route_group\": \"medium\", \"max_trip_hrs\": 1.32, \"max_trip_route_group\": 1.32, \"below_cutoff\": 26, \"pct_below_cutoff\": 1.0, \"name\": \"Sonoma-Marin Area Rail Transit District\", \"caltrans_district\": \"04 - Oakland\", \"drmt_organization_name\": null, \"route_name\": \"Sonoma County Airport To Larkspur\", \"cutoff2\": 30, \"cutoff\": 0}, {\"calitp_itp_id\": 315, \"trip_key\": 5264278191689977910, \"trip_id\": \"t_1393959_b_29945_tn_0\", \"shape_id\": \"p_897679\", \"route_id\": \"14603\", \"service_hours\": 1.32, \"trip_first_departure_ts\": 33480, \"trip_last_arrival_ts\": 38220, \"departure_hour\": 9, \"time_of_day\": \"AM Peak\", \"p25\": 1.28, \"p50\": 1.3, \"p75\": 1.32, \"p50_trip\": 1, \"fastest_trip\": 0, \"car_duration_hours\": 1.06, \"competitive_route\": 1, \"bus_multiplier\": 1.25, \"bus_difference\": 15.6, \"num_trips\": 26, \"num_competitive\": 26, \"pct_trips_competitive\": 1.0, \"bus_difference_spread\": 2.4000000000000004, \"route_group\": \"medium\", \"max_trip_hrs\": 1.32, \"max_trip_route_group\": 1.32, \"below_cutoff\": 26, \"pct_below_cutoff\": 1.0, \"name\": \"Sonoma-Marin Area Rail Transit District\", \"caltrans_district\": \"04 - Oakland\", \"drmt_organization_name\": null, \"route_name\": \"Sonoma County Airport To Larkspur\", \"cutoff2\": 30, \"cutoff\": 0}, {\"calitp_itp_id\": 315, \"trip_key\": -6024192529033420009, \"trip_id\": \"t_1392463_b_29945_tn_0\", \"shape_id\": \"p_897679\", \"route_id\": \"14603\", \"service_hours\": 1.32, \"trip_first_departure_ts\": 25800, \"trip_last_arrival_ts\": 30540, \"departure_hour\": 7, \"time_of_day\": \"AM Peak\", \"p25\": 1.28, \"p50\": 1.3, \"p75\": 1.32, \"p50_trip\": 1, \"fastest_trip\": 0, \"car_duration_hours\": 1.06, \"competitive_route\": 1, \"bus_multiplier\": 1.25, \"bus_difference\": 15.6, \"num_trips\": 26, \"num_competitive\": 26, \"pct_trips_competitive\": 1.0, \"bus_difference_spread\": 2.4000000000000004, \"route_group\": \"medium\", \"max_trip_hrs\": 1.32, \"max_trip_route_group\": 1.32, \"below_cutoff\": 26, \"pct_below_cutoff\": 1.0, \"name\": \"Sonoma-Marin Area Rail Transit District\", \"caltrans_district\": \"04 - Oakland\", \"drmt_organization_name\": null, \"route_name\": \"Sonoma County Airport To Larkspur\", \"cutoff2\": 30, \"cutoff\": 0}, {\"calitp_itp_id\": 315, \"trip_key\": -8545403379171561135, \"trip_id\": \"t_1392472_b_29945_tn_0\", \"shape_id\": \"p_897679\", \"route_id\": \"14603\", \"service_hours\": 1.32, \"trip_first_departure_ts\": 21960, \"trip_last_arrival_ts\": 26700, \"departure_hour\": 6, \"time_of_day\": \"Owl Service\", \"p25\": 1.28, \"p50\": 1.3, \"p75\": 1.32, \"p50_trip\": 1, \"fastest_trip\": 0, \"car_duration_hours\": 1.06, \"competitive_route\": 1, \"bus_multiplier\": 1.25, \"bus_difference\": 15.6, \"num_trips\": 26, \"num_competitive\": 26, \"pct_trips_competitive\": 1.0, \"bus_difference_spread\": 2.4000000000000004, \"route_group\": \"medium\", \"max_trip_hrs\": 1.32, \"max_trip_route_group\": 1.32, \"below_cutoff\": 26, \"pct_below_cutoff\": 1.0, \"name\": \"Sonoma-Marin Area Rail Transit District\", \"caltrans_district\": \"04 - Oakland\", \"drmt_organization_name\": null, \"route_name\": \"Sonoma County Airport To Larkspur\", \"cutoff2\": 30, \"cutoff\": 0}, {\"calitp_itp_id\": 315, \"trip_key\": 1160413989443729943, \"trip_id\": \"t_1393962_b_29945_tn_0\", \"shape_id\": \"p_897679\", \"route_id\": \"14603\", \"service_hours\": 1.32, \"trip_first_departure_ts\": 67020, \"trip_last_arrival_ts\": 71760, \"departure_hour\": 18, \"time_of_day\": \"PM Peak\", \"p25\": 1.28, \"p50\": 1.3, \"p75\": 1.32, \"p50_trip\": 1, \"fastest_trip\": 0, \"car_duration_hours\": 1.06, \"competitive_route\": 1, \"bus_multiplier\": 1.25, \"bus_difference\": 15.6, \"num_trips\": 26, \"num_competitive\": 26, \"pct_trips_competitive\": 1.0, \"bus_difference_spread\": 2.4000000000000004, \"route_group\": \"medium\", \"max_trip_hrs\": 1.32, \"max_trip_route_group\": 1.32, \"below_cutoff\": 26, \"pct_below_cutoff\": 1.0, \"name\": \"Sonoma-Marin Area Rail Transit District\", \"caltrans_district\": \"04 - Oakland\", \"drmt_organization_name\": null, \"route_name\": \"Sonoma County Airport To Larkspur\", \"cutoff2\": 30, \"cutoff\": 0}, {\"calitp_itp_id\": 315, \"trip_key\": 8162541205591486193, \"trip_id\": \"t_1392469_b_29945_tn_0\", \"shape_id\": \"p_897679\", \"route_id\": \"14603\", \"service_hours\": 1.32, \"trip_first_departure_ts\": 47820, \"trip_last_arrival_ts\": 52560, \"departure_hour\": 13, \"time_of_day\": \"Midday\", \"p25\": 1.28, \"p50\": 1.3, \"p75\": 1.32, \"p50_trip\": 1, \"fastest_trip\": 0, \"car_duration_hours\": 1.06, \"competitive_route\": 1, \"bus_multiplier\": 1.25, \"bus_difference\": 15.6, \"num_trips\": 26, \"num_competitive\": 26, \"pct_trips_competitive\": 1.0, \"bus_difference_spread\": 2.4000000000000004, \"route_group\": \"medium\", \"max_trip_hrs\": 1.32, \"max_trip_route_group\": 1.32, \"below_cutoff\": 26, \"pct_below_cutoff\": 1.0, \"name\": \"Sonoma-Marin Area Rail Transit District\", \"caltrans_district\": \"04 - Oakland\", \"drmt_organization_name\": null, \"route_name\": \"Sonoma County Airport To Larkspur\", \"cutoff2\": 30, \"cutoff\": 0}, {\"calitp_itp_id\": 315, \"trip_key\": -8490856891956538853, \"trip_id\": \"t_1392466_b_29945_tn_0\", \"shape_id\": \"p_897679\", \"route_id\": \"14603\", \"service_hours\": 1.32, \"trip_first_departure_ts\": 51660, \"trip_last_arrival_ts\": 56400, \"departure_hour\": 14, \"time_of_day\": \"Midday\", \"p25\": 1.28, \"p50\": 1.3, \"p75\": 1.32, \"p50_trip\": 1, \"fastest_trip\": 0, \"car_duration_hours\": 1.06, \"competitive_route\": 1, \"bus_multiplier\": 1.25, \"bus_difference\": 15.6, \"num_trips\": 26, \"num_competitive\": 26, \"pct_trips_competitive\": 1.0, \"bus_difference_spread\": 2.4000000000000004, \"route_group\": \"medium\", \"max_trip_hrs\": 1.32, \"max_trip_route_group\": 1.32, \"below_cutoff\": 26, \"pct_below_cutoff\": 1.0, \"name\": \"Sonoma-Marin Area Rail Transit District\", \"caltrans_district\": \"04 - Oakland\", \"drmt_organization_name\": null, \"route_name\": \"Sonoma County Airport To Larkspur\", \"cutoff2\": 30, \"cutoff\": 0}]}}, {\"mode\": \"vega-lite\"});\n",
       "</script>"
      ],
      "text/plain": [
       "alt.FacetChart(...)"
      ]
     },
     "metadata": {},
     "output_type": "display_data"
    },
    {
     "data": {
      "text/html": [
       "<h4>Route Stats</h4>"
      ],
      "text/plain": [
       "<IPython.core.display.HTML object>"
      ]
     },
     "metadata": {},
     "output_type": "display_data"
    },
    {
     "data": {
      "text/html": [
       "<style type=\"text/css\">\n",
       "#T_8b0c5 th {\n",
       "  text-align: center;\n",
       "}\n",
       "#T_8b0c5_row0_col0, #T_8b0c5_row0_col1 {\n",
       "  text-align: left;\n",
       "}\n",
       "#T_8b0c5_row0_col2, #T_8b0c5_row0_col3, #T_8b0c5_row0_col5 {\n",
       "  text-align: center;\n",
       "}\n",
       "</style>\n",
       "<table id=\"T_8b0c5\">\n",
       "  <thead>\n",
       "    <tr>\n",
       "      <th id=\"T_8b0c5_level0_col0\" class=\"col_heading level0 col0\" >Route ID</th>\n",
       "      <th id=\"T_8b0c5_level0_col1\" class=\"col_heading level0 col1\" >Route Name</th>\n",
       "      <th id=\"T_8b0c5_level0_col2\" class=\"col_heading level0 col2\" ># trips</th>\n",
       "      <th id=\"T_8b0c5_level0_col3\" class=\"col_heading level0 col3\" >Daily Avg Freq (trips per hr)</th>\n",
       "      <th id=\"T_8b0c5_level0_col4\" class=\"col_heading level0 col4\" >25th, 50th, 75th ptile (hrs)</th>\n",
       "      <th id=\"T_8b0c5_level0_col5\" class=\"col_heading level0 col5\" >PM Peak Avg Freq (trips per hr)</th>\n",
       "    </tr>\n",
       "  </thead>\n",
       "  <tbody>\n",
       "    <tr>\n",
       "      <td id=\"T_8b0c5_row0_col0\" class=\"data row0 col0\" >14603</td>\n",
       "      <td id=\"T_8b0c5_row0_col1\" class=\"data row0 col1\" >Sonoma County Airport To Larkspur</td>\n",
       "      <td id=\"T_8b0c5_row0_col2\" class=\"data row0 col2\" >26</td>\n",
       "      <td id=\"T_8b0c5_row0_col3\" class=\"data row0 col3\" >1.08</td>\n",
       "      <td id=\"T_8b0c5_row0_col4\" class=\"data row0 col4\" >1.28, 1.3, 1.32</td>\n",
       "      <td id=\"T_8b0c5_row0_col5\" class=\"data row0 col5\" >2.33</td>\n",
       "    </tr>\n",
       "  </tbody>\n",
       "</table>\n"
      ],
      "text/plain": [
       "<IPython.core.display.HTML object>"
      ]
     },
     "metadata": {},
     "output_type": "display_data"
    }
   ],
   "source": [
    "route_group = \"medium\"\n",
    "try:\n",
    "    display_charts_for_route_group(df, route_group)\n",
    "except:\n",
    "    print(\"No routes meet this criteria.\")"
   ]
  },
  {
   "cell_type": "markdown",
   "id": "124b76d0-886c-4d03-92ac-f1bda3cda182",
   "metadata": {
    "papermill": {
     "duration": 0.016991,
     "end_time": "2022-05-12T02:08:19.673495",
     "exception": false,
     "start_time": "2022-05-12T02:08:19.656504",
     "status": "completed"
    },
    "tags": []
   },
   "source": [
    "### Long Routes (> 1.5 hrs)"
   ]
  },
  {
   "cell_type": "code",
   "execution_count": 16,
   "id": "ddc81b19-4c45-4c81-8b7a-5e0f394aa7a3",
   "metadata": {
    "execution": {
     "iopub.execute_input": "2022-05-12T02:08:19.719651Z",
     "iopub.status.busy": "2022-05-12T02:08:19.719091Z",
     "iopub.status.idle": "2022-05-12T02:08:19.730428Z",
     "shell.execute_reply": "2022-05-12T02:08:19.729809Z"
    },
    "jupyter": {
     "source_hidden": true
    },
    "papermill": {
     "duration": 0.032781,
     "end_time": "2022-05-12T02:08:19.732280",
     "exception": false,
     "start_time": "2022-05-12T02:08:19.699499",
     "status": "completed"
    },
    "tags": [
     "remove_input"
    ]
   },
   "outputs": [
    {
     "name": "stdout",
     "output_type": "stream",
     "text": [
      "No routes meet this criteria.\n"
     ]
    }
   ],
   "source": [
    "route_group = \"long\"\n",
    "try:\n",
    "    display_charts_for_route_group(df, route_group)\n",
    "except:\n",
    "    print(\"No routes meet this criteria.\")"
   ]
  },
  {
   "cell_type": "markdown",
   "id": "ace75b5f-0442-4fbe-aebd-6c3a13ae13a7",
   "metadata": {
    "papermill": {
     "duration": 0.018106,
     "end_time": "2022-05-12T02:08:19.768640",
     "exception": false,
     "start_time": "2022-05-12T02:08:19.750534",
     "status": "completed"
    },
    "tags": []
   },
   "source": [
    "### GTFS Real-Time Speedmaps"
   ]
  },
  {
   "cell_type": "code",
   "execution_count": 17,
   "id": "a0a114a1-e975-4027-9daf-50029f5ef59f",
   "metadata": {
    "execution": {
     "iopub.execute_input": "2022-05-12T02:08:19.812944Z",
     "iopub.status.busy": "2022-05-12T02:08:19.812682Z",
     "iopub.status.idle": "2022-05-12T02:08:19.833030Z",
     "shell.execute_reply": "2022-05-12T02:08:19.832502Z"
    },
    "jupyter": {
     "source_hidden": true
    },
    "papermill": {
     "duration": 0.043468,
     "end_time": "2022-05-12T02:08:19.834700",
     "exception": false,
     "start_time": "2022-05-12T02:08:19.791232",
     "status": "completed"
    },
    "tags": [
     "remove_input"
    ]
   },
   "outputs": [
    {
     "data": {
      "text/html": [
       "No GTFS RT data available."
      ],
      "text/plain": [
       "<IPython.core.display.HTML object>"
      ]
     },
     "metadata": {},
     "output_type": "display_data"
    }
   ],
   "source": [
    "RT_SITE_YAML = \"../portfolio/sites/rt.yml\"\n",
    "\n",
    "# Grab list of ITP IDs with GTFS RT speedmaps\n",
    "rt_itp_id = deploy_portfolio_yaml.check_if_rt_data_available(RT_SITE_YAML)\n",
    "\n",
    "# Construct the URL \n",
    "RT_URL = (\"https://analysis.calitp.org/rt/\"\n",
    "          f\"district_{district_number}-{district_name}/\"\n",
    "          f\"speedmaps__itp_id_{itp_id}.html\"\n",
    "         ) \n",
    "\n",
    "# If this ITP ID is found in RT analysis, give URL to that operator in analysis.calitp.org\n",
    "if itp_id in rt_itp_id:\n",
    "    display(HTML(f'''<a href={RT_URL}>GTFS RT speedmaps here.</a>'''))\n",
    "\n",
    "else:\n",
    "    display(HTML(\"No GTFS RT data available.\"))"
   ]
  },
  {
   "cell_type": "code",
   "execution_count": null,
   "id": "5b680565-2230-4f2e-817c-718fad48d64c",
   "metadata": {
    "jupyter": {
     "source_hidden": true
    },
    "papermill": {
     "duration": 0.018058,
     "end_time": "2022-05-12T02:08:19.871113",
     "exception": false,
     "start_time": "2022-05-12T02:08:19.853055",
     "status": "completed"
    },
    "tags": [
     "remove_input"
    ]
   },
   "outputs": [],
   "source": []
  }
 ],
 "metadata": {
  "kernelspec": {
   "display_name": "Python 3 (ipykernel)",
   "language": "python",
   "name": "python3"
  },
  "language_info": {
   "codemirror_mode": {
    "name": "ipython",
    "version": 3
   },
   "file_extension": ".py",
   "mimetype": "text/x-python",
   "name": "python",
   "nbconvert_exporter": "python",
   "pygments_lexer": "ipython3",
   "version": "3.9.12"
  },
  "papermill": {
   "default_parameters": {},
   "duration": 23.170715,
   "end_time": "2022-05-12T02:08:21.121511",
   "environment_variables": {},
   "exception": null,
   "input_path": "bus_service_increase/competitive-parallel-routes.ipynb",
   "output_path": "portfolio/parallel_corridors/district_04-oakland/23__competitive-parallel-routes__district_04-oakland__itp_id_315.ipynb",
   "parameters": {
    "district": "04 - Oakland",
    "itp_id": 315
   },
   "start_time": "2022-05-12T02:07:57.950796",
   "version": "2.3.4"
  }
 },
 "nbformat": 4,
 "nbformat_minor": 5
}