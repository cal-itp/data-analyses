{
 "cells": [
  {
   "cell_type": "code",
   "execution_count": 1,
   "id": "95d00857-6a20-4529-a519-2cc7182928a9",
   "metadata": {
    "execution": {
     "iopub.execute_input": "2022-05-07T17:07:35.278394Z",
     "iopub.status.busy": "2022-05-07T17:07:35.277494Z",
     "iopub.status.idle": "2022-05-07T17:07:43.475943Z",
     "shell.execute_reply": "2022-05-07T17:07:43.475060Z"
    },
    "jupyter": {
     "source_hidden": true
    },
    "papermill": {
     "duration": 8.212583,
     "end_time": "2022-05-07T17:07:43.478216",
     "exception": false,
     "start_time": "2022-05-07T17:07:35.265633",
     "status": "completed"
    },
    "tags": [
     "remove_input"
    ]
   },
   "outputs": [],
   "source": [
    "%%capture\n",
    "import warnings\n",
    "warnings.filterwarnings('ignore')\n",
    "\n",
    "import altair as alt\n",
    "import calitp.magics\n",
    "import geopandas as gpd\n",
    "import intake\n",
    "import pandas as pd\n",
    "\n",
    "from IPython.display import display, Markdown, HTML\n",
    "\n",
    "import parallel_corridors_utils\n",
    "from shared_utils import styleguide\n",
    "\n",
    "catalog = intake.open_catalog(\"./*.yml\")\n",
    "alt.renderers.enable(\"html\")"
   ]
  },
  {
   "cell_type": "code",
   "execution_count": 2,
   "id": "8af2a0c1-f3da-408d-9bea-11d9fbf8695d",
   "metadata": {
    "execution": {
     "iopub.execute_input": "2022-05-07T17:07:43.501706Z",
     "iopub.status.busy": "2022-05-07T17:07:43.501411Z",
     "iopub.status.idle": "2022-05-07T17:07:43.506196Z",
     "shell.execute_reply": "2022-05-07T17:07:43.505548Z"
    },
    "jupyter": {
     "source_hidden": true
    },
    "papermill": {
     "duration": 0.018784,
     "end_time": "2022-05-07T17:07:43.508894",
     "exception": false,
     "start_time": "2022-05-07T17:07:43.490110",
     "status": "completed"
    },
    "tags": [
     "parameters",
     "remove_input"
    ]
   },
   "outputs": [],
   "source": [
    "# parameters cell\n",
    "itp_id = 182"
   ]
  },
  {
   "cell_type": "code",
   "execution_count": 3,
   "id": "4f00070f",
   "metadata": {
    "execution": {
     "iopub.execute_input": "2022-05-07T17:07:43.529027Z",
     "iopub.status.busy": "2022-05-07T17:07:43.528748Z",
     "iopub.status.idle": "2022-05-07T17:07:43.532458Z",
     "shell.execute_reply": "2022-05-07T17:07:43.531701Z"
    },
    "jupyter": {
     "source_hidden": true
    },
    "papermill": {
     "duration": 0.016829,
     "end_time": "2022-05-07T17:07:43.534953",
     "exception": false,
     "start_time": "2022-05-07T17:07:43.518124",
     "status": "completed"
    },
    "tags": [
     "injected-parameters",
     "remove_input"
    ]
   },
   "outputs": [],
   "source": [
    "# Parameters\n",
    "district = \"04 - Oakland\"\n",
    "itp_id = 315\n"
   ]
  },
  {
   "cell_type": "code",
   "execution_count": 4,
   "id": "9582aaf4-79ff-412a-b248-8d8d693ebd4f",
   "metadata": {
    "execution": {
     "iopub.execute_input": "2022-05-07T17:07:43.555532Z",
     "iopub.status.busy": "2022-05-07T17:07:43.555245Z",
     "iopub.status.idle": "2022-05-07T17:07:44.740883Z",
     "shell.execute_reply": "2022-05-07T17:07:44.740069Z"
    },
    "jupyter": {
     "source_hidden": true
    },
    "papermill": {
     "duration": 1.198708,
     "end_time": "2022-05-07T17:07:44.743062",
     "exception": false,
     "start_time": "2022-05-07T17:07:43.544354",
     "status": "completed"
    },
    "tags": [
     "remove_input"
    ]
   },
   "outputs": [],
   "source": [
    "df = catalog.competitive_route_variability.read()\n",
    "\n",
    "df = (df[(df.calitp_itp_id == itp_id) & \n",
    "         (df.route_group.notna())]\n",
    "      .reset_index(drop=True)\n",
    "     )\n",
    "\n",
    "\n",
    "if itp_id == 182:\n",
    "    df = df.assign(\n",
    "        route_id = df.route_id.str.replace('-13153', '').astype(int)\n",
    "    )"
   ]
  },
  {
   "cell_type": "code",
   "execution_count": 5,
   "id": "33ac4b06-f647-4dce-a625-8f2c1b37cc60",
   "metadata": {
    "execution": {
     "iopub.execute_input": "2022-05-07T17:07:44.766026Z",
     "iopub.status.busy": "2022-05-07T17:07:44.765379Z",
     "iopub.status.idle": "2022-05-07T17:07:44.771849Z",
     "shell.execute_reply": "2022-05-07T17:07:44.771294Z"
    },
    "jupyter": {
     "source_hidden": true
    },
    "papermill": {
     "duration": 0.019217,
     "end_time": "2022-05-07T17:07:44.773421",
     "exception": false,
     "start_time": "2022-05-07T17:07:44.754204",
     "status": "completed"
    },
    "tags": [
     "remove_input"
    ]
   },
   "outputs": [],
   "source": [
    "%%capture_parameters\n",
    "operator_name = df.name.iloc[0]\n",
    "\n",
    "itp_id, operator_name"
   ]
  },
  {
   "cell_type": "markdown",
   "id": "65bc6f5c-8348-42ee-b2dd-52057c406852",
   "metadata": {
    "papermill": {
     "duration": 0.009821,
     "end_time": "2022-05-07T17:07:44.793801",
     "exception": false,
     "start_time": "2022-05-07T17:07:44.783980",
     "status": "completed"
    },
    "tags": []
   },
   "source": [
    "# Sonoma-Marin Area Rail Transit District (ITP ID: 315)"
   ]
  },
  {
   "cell_type": "code",
   "execution_count": 6,
   "id": "a689c1ab-2c6c-4831-8d64-897f5986f571",
   "metadata": {
    "execution": {
     "iopub.execute_input": "2022-05-07T17:07:44.818830Z",
     "iopub.status.busy": "2022-05-07T17:07:44.818204Z",
     "iopub.status.idle": "2022-05-07T17:07:44.824284Z",
     "shell.execute_reply": "2022-05-07T17:07:44.823770Z"
    },
    "jupyter": {
     "source_hidden": true
    },
    "papermill": {
     "duration": 0.022021,
     "end_time": "2022-05-07T17:07:44.825978",
     "exception": false,
     "start_time": "2022-05-07T17:07:44.803957",
     "status": "completed"
    },
    "tags": [
     "remove_input"
    ]
   },
   "outputs": [
    {
     "data": {
      "text/html": [
       "<h1>Competitive & Parallel Routes</h1>"
      ],
      "text/plain": [
       "<IPython.core.display.HTML object>"
      ]
     },
     "metadata": {},
     "output_type": "display_data"
    }
   ],
   "source": [
    "display(HTML(\"<h1>Competitive & Parallel Routes</h1>\")) "
   ]
  },
  {
   "cell_type": "code",
   "execution_count": 7,
   "id": "2cb4d8d5-4760-40e4-85b1-cb833d8bb648",
   "metadata": {
    "execution": {
     "iopub.execute_input": "2022-05-07T17:07:44.848638Z",
     "iopub.status.busy": "2022-05-07T17:07:44.848161Z",
     "iopub.status.idle": "2022-05-07T17:07:55.085119Z",
     "shell.execute_reply": "2022-05-07T17:07:55.084508Z"
    },
    "jupyter": {
     "source_hidden": true
    },
    "papermill": {
     "duration": 10.250687,
     "end_time": "2022-05-07T17:07:55.087270",
     "exception": false,
     "start_time": "2022-05-07T17:07:44.836583",
     "status": "completed"
    },
    "tags": [
     "remove_input"
    ]
   },
   "outputs": [],
   "source": [
    "# Grab parameters for narrative text - clean up formatting here \n",
    "district = df.caltrans_district.iloc[0]\n",
    "formatted_date = pd.to_datetime(parallel_corridors_utils.SELECTED_DATE).strftime('%m-%d-%Y')\n",
    "\n",
    "PCT_COMPETITIVE_THRESHOLD = 0.75\n",
    "\n",
    "stats = parallel_corridors_utils.operator_parallel_competitive_stats(\n",
    "    itp_id, PCT_COMPETITIVE_THRESHOLD)\n",
    "\n",
    "pct_parallel = round(stats['parallel_routes'] / stats['num_routes'] * 100,1 )\n",
    "pct_competitive =  round(stats['competitive_routes'] / stats['num_routes'] * 100,1 )"
   ]
  },
  {
   "cell_type": "markdown",
   "id": "ab667928-5274-4490-82d9-4c39293209a4",
   "metadata": {
    "papermill": {
     "duration": 0.013361,
     "end_time": "2022-05-07T17:07:55.111722",
     "exception": false,
     "start_time": "2022-05-07T17:07:55.098361",
     "status": "completed"
    },
    "tags": []
   },
   "source": [
    "## Quick Stats"
   ]
  },
  {
   "cell_type": "code",
   "execution_count": 8,
   "id": "0416509d-dc62-4165-b62e-64f8b26e8b8e",
   "metadata": {
    "execution": {
     "iopub.execute_input": "2022-05-07T17:07:55.136003Z",
     "iopub.status.busy": "2022-05-07T17:07:55.135509Z",
     "iopub.status.idle": "2022-05-07T17:07:55.141270Z",
     "shell.execute_reply": "2022-05-07T17:07:55.140781Z"
    },
    "jupyter": {
     "source_hidden": true
    },
    "papermill": {
     "duration": 0.020041,
     "end_time": "2022-05-07T17:07:55.142886",
     "exception": false,
     "start_time": "2022-05-07T17:07:55.122845",
     "status": "completed"
    },
    "tags": [
     "remove_input"
    ]
   },
   "outputs": [
    {
     "data": {
      "text/markdown": [
       "**Bus routes in service**: 2 <br>**Parallel routes** to State Highway Network (SHN): 1 routes (50.0%)<br>**Competitive routes** against car travel: 1 routes (50.0%)"
      ],
      "text/plain": [
       "<IPython.core.display.Markdown object>"
      ]
     },
     "metadata": {},
     "output_type": "display_data"
    }
   ],
   "source": [
    "display(\n",
    "    Markdown(\n",
    "        f\"**Bus routes in service**: {stats['num_routes']} \"\n",
    "        \"<br>**Parallel routes** to State Highway Network (SHN): \"\n",
    "        f\"{stats['parallel_routes']} routes ({pct_parallel}%)\"\n",
    "        f\"<br>**Competitive routes** against car travel: {stats['competitive_routes']} routes ({pct_competitive}%)\"\n",
    "    )\n",
    ")"
   ]
  },
  {
   "cell_type": "code",
   "execution_count": 9,
   "id": "f9d6ab58-f0ee-460c-b6de-657490e1f386",
   "metadata": {
    "execution": {
     "iopub.execute_input": "2022-05-07T17:07:55.165911Z",
     "iopub.status.busy": "2022-05-07T17:07:55.165506Z",
     "iopub.status.idle": "2022-05-07T17:07:55.174642Z",
     "shell.execute_reply": "2022-05-07T17:07:55.173912Z"
    },
    "jupyter": {
     "source_hidden": true
    },
    "papermill": {
     "duration": 0.022733,
     "end_time": "2022-05-07T17:07:55.176317",
     "exception": false,
     "start_time": "2022-05-07T17:07:55.153584",
     "status": "completed"
    },
    "tags": [
     "remove_input"
    ]
   },
   "outputs": [],
   "source": [
    "def set_yaxis_range(df, y_col):\n",
    "    Y_MIN = df[y_col].min()\n",
    "    Y_MAX = df[y_col].max()\n",
    "    \n",
    "    return Y_MIN, Y_MAX\n",
    "\n",
    "# Rather than set it according to the operator, which can vary,\n",
    "# just use set thresholds for each group\n",
    "diff_cutoffs = {\n",
    "    \"short\": 20,\n",
    "    \"medium\": 30,\n",
    "    \"long\": 40,\n",
    "}\n",
    "\n",
    "PCT_TRIPS_BELOW_CUTOFF = 0.25\n",
    "\n",
    "def top15_routes(df, route_group):\n",
    "    df2 = (df[df.route_group==route_group])\n",
    "    # Set a cut-off to enable sorting, where most of the trips are \n",
    "    # below a certain time difference cut-off, \n",
    "    # grab top 15 routes where majority of trips are below that cut-off \n",
    "\n",
    "    route_cols = [\"calitp_itp_id\", \"route_id\"]\n",
    "\n",
    "    df2 = df2.assign(\n",
    "        below_cutoff = df2.apply(lambda x: 1 if x.bus_difference <= diff_cutoffs[route_group] \n",
    "                                 else 0, axis=1),\n",
    "        num_trips = df2.groupby(route_cols)[\"trip_id\"].transform(\"count\")\n",
    "    )\n",
    "\n",
    "    df2[\"below_cutoff\"] = df2.groupby(route_cols)[\"below_cutoff\"].transform(\"sum\")\n",
    "    df2[\"pct_below_cutoff\"] = df2.below_cutoff.divide(df2.num_trips)\n",
    "\n",
    "    # At least half the trips are below that cut-off\n",
    "    # but show 15 max, otherwise, show less, since these won't be as interesting to operators\n",
    "    df3 = (df2[df2.pct_below_cutoff >= PCT_TRIPS_BELOW_CUTOFF]\n",
    "           .sort_values([\"calitp_itp_id\", \"below_cutoff\", \n",
    "                         \"pct_below_cutoff\", \"route_id\"],\n",
    "                        ascending = [True, False, False, True]\n",
    "                       )\n",
    "           .drop_duplicates(subset=[\"calitp_itp_id\", \"route_id\"])\n",
    "          ).head(15)\n",
    "    \n",
    "    return list(df3.route_id)"
   ]
  },
  {
   "cell_type": "code",
   "execution_count": 10,
   "id": "cf36d559-3349-4144-8086-8ac9ce937a5a",
   "metadata": {
    "execution": {
     "iopub.execute_input": "2022-05-07T17:07:55.200357Z",
     "iopub.status.busy": "2022-05-07T17:07:55.200119Z",
     "iopub.status.idle": "2022-05-07T17:07:55.210328Z",
     "shell.execute_reply": "2022-05-07T17:07:55.209523Z"
    },
    "jupyter": {
     "source_hidden": true
    },
    "papermill": {
     "duration": 0.024834,
     "end_time": "2022-05-07T17:07:55.212839",
     "exception": false,
     "start_time": "2022-05-07T17:07:55.188005",
     "status": "completed"
    },
    "tags": [
     "remove_input"
    ]
   },
   "outputs": [],
   "source": [
    "short_caption = (\n",
    "    f\"<br>These are routes that have at least {int(PCT_TRIPS_BELOW_CUTOFF*100)}% of their trips \"\n",
    "    f\"take no more than an additional {diff_cutoffs['short']} min compared to a car \"\n",
    "    \"(up to 15 routes) are shown.\"\n",
    ")\n",
    "\n",
    "med_caption = (\n",
    "    f\"<br>These are routes that have at least {int(PCT_TRIPS_BELOW_CUTOFF*100)}% of their trips \"\n",
    "    f\"take no more than an additional {diff_cutoffs['medium']} min compared to a car \"\n",
    "    \"(up to 15 routes) are shown.\"\n",
    ")\n",
    "\n",
    "long_caption = (\n",
    "    f\"<br>These are routes that have at least {int(PCT_TRIPS_BELOW_CUTOFF*100)}% of their trips \"\n",
    "    f\"take no more than an additional {diff_cutoffs['long']} min compared to a car \"\n",
    "    \"(up to 15 routes) are shown.\")\n",
    "\n",
    "\n",
    "CAPTIONS_DICT = {\n",
    "    \"short\": short_caption,\n",
    "    \"medium\": med_caption,\n",
    "    \"long\": long_caption,\n",
    "}"
   ]
  },
  {
   "cell_type": "code",
   "execution_count": 11,
   "id": "e4306d58-6944-47e9-afef-5d5b524c751f",
   "metadata": {
    "execution": {
     "iopub.execute_input": "2022-05-07T17:07:55.238977Z",
     "iopub.status.busy": "2022-05-07T17:07:55.238282Z",
     "iopub.status.idle": "2022-05-07T17:07:55.244683Z",
     "shell.execute_reply": "2022-05-07T17:07:55.243888Z"
    },
    "jupyter": {
     "source_hidden": true
    },
    "papermill": {
     "duration": 0.020719,
     "end_time": "2022-05-07T17:07:55.246317",
     "exception": false,
     "start_time": "2022-05-07T17:07:55.225598",
     "status": "completed"
    },
    "tags": [
     "remove_input"
    ]
   },
   "outputs": [],
   "source": [
    "def setup_charts(df, PCT_COMPETITIVE_THRESHOLD, route_group):\n",
    "    # Set up df for charting (cut-off at some threshold to show most competitive routes)\n",
    "    plot_me = (df[df.pct_trips_competitive > PCT_COMPETITIVE_THRESHOLD]\n",
    "           .drop(columns = \"geometry\")\n",
    "    )\n",
    "    \n",
    "    y_col1 = \"bus_multiplier\"\n",
    "    Y_MIN1, Y_MAX1 = set_yaxis_range(plot_me, y_col1)\n",
    "\n",
    "    y_col2 = \"bus_difference\"\n",
    "    Y_MIN2, Y_MAX2 = set_yaxis_range(plot_me, y_col2)\n",
    "     \n",
    "    subset_routes = top15_routes(plot_me, route_group)\n",
    "    \n",
    "    multiplier_chart = parallel_corridors_utils.make_stripplot(\n",
    "        plot_me[plot_me.route_id.isin(subset_routes)], \n",
    "        y_col1, Y_MIN = Y_MIN1, Y_MAX = Y_MAX1\n",
    "    )\n",
    "    \n",
    "    difference_chart = parallel_corridors_utils.make_stripplot(\n",
    "        plot_me[plot_me.route_id.isin(subset_routes)], \n",
    "        y_col2, Y_MIN = Y_MIN2, Y_MAX = Y_MAX2\n",
    "    )\n",
    "    \n",
    "    return subset_routes, multiplier_chart, difference_chart            "
   ]
  },
  {
   "cell_type": "markdown",
   "id": "525f9b38-072b-46d1-96a8-1aa4b038357c",
   "metadata": {
    "papermill": {
     "duration": 0.010977,
     "end_time": "2022-05-07T17:07:55.271687",
     "exception": false,
     "start_time": "2022-05-07T17:07:55.260710",
     "status": "completed"
    },
    "tags": []
   },
   "source": [
    "## Viable Competitive Routes\n",
    "### Short Routes (< 1 hr)"
   ]
  },
  {
   "cell_type": "code",
   "execution_count": 12,
   "id": "57f7084c-2cf7-45c6-ba08-1609e0bd6ca5",
   "metadata": {
    "execution": {
     "iopub.execute_input": "2022-05-07T17:07:55.308859Z",
     "iopub.status.busy": "2022-05-07T17:07:55.295269Z",
     "iopub.status.idle": "2022-05-07T17:07:55.324388Z",
     "shell.execute_reply": "2022-05-07T17:07:55.323411Z"
    },
    "jupyter": {
     "source_hidden": true
    },
    "papermill": {
     "duration": 0.044985,
     "end_time": "2022-05-07T17:07:55.327684",
     "exception": false,
     "start_time": "2022-05-07T17:07:55.282699",
     "status": "completed"
    },
    "tags": [
     "remove_input"
    ]
   },
   "outputs": [
    {
     "name": "stdout",
     "output_type": "stream",
     "text": [
      "No routes meet this criteria.\n"
     ]
    }
   ],
   "source": [
    "# Allow for possibility that operator doesn't have routes that fall into certain route_groups\n",
    "# But, jupyterbook will not like markdown with f-string\n",
    "# separate out route_group and put in each cell, and use try/except + if to display...\n",
    "# but all 3 route groups must be displayed. just add sentence about why no routes were returned at the end\n",
    "route_group = \"short\"\n",
    "try:\n",
    "    subset_routes, mult, diff  = setup_charts(df, PCT_COMPETITIVE_THRESHOLD, route_group)\n",
    "    \n",
    "    if len(subset_routes) > 0:\n",
    "        display(\n",
    "            Markdown(\n",
    "                f\"{CAPTIONS_DICT[route_group]}\"\n",
    "                \"Within each route group, routes are sorted in descending order \"\n",
    "                \"by % competitive trips and # trips below the additional time cut-off.\"\n",
    "            )\n",
    "        )\n",
    "\n",
    "        display(mult)\n",
    "        display(diff)\n",
    "except:\n",
    "    print(\"No routes meet this criteria.\")"
   ]
  },
  {
   "cell_type": "markdown",
   "id": "c2931b6f-034d-4384-9e14-80b925e3b820",
   "metadata": {
    "papermill": {
     "duration": 0.011935,
     "end_time": "2022-05-07T17:07:55.351962",
     "exception": false,
     "start_time": "2022-05-07T17:07:55.340027",
     "status": "completed"
    },
    "tags": []
   },
   "source": [
    "### Medium Routes (1-1.5 hrs)"
   ]
  },
  {
   "cell_type": "code",
   "execution_count": 13,
   "id": "480edddc-4de0-48c2-ae4c-b0ceef8f28b5",
   "metadata": {
    "execution": {
     "iopub.execute_input": "2022-05-07T17:07:55.378285Z",
     "iopub.status.busy": "2022-05-07T17:07:55.378022Z",
     "iopub.status.idle": "2022-05-07T17:07:55.627269Z",
     "shell.execute_reply": "2022-05-07T17:07:55.626483Z"
    },
    "jupyter": {
     "source_hidden": true
    },
    "papermill": {
     "duration": 0.264807,
     "end_time": "2022-05-07T17:07:55.629868",
     "exception": false,
     "start_time": "2022-05-07T17:07:55.365061",
     "status": "completed"
    },
    "tags": [
     "remove_input"
    ]
   },
   "outputs": [
    {
     "data": {
      "text/markdown": [
       "<br>These are routes that have at least 25% of their trips take no more than an additional 30 min compared to a car (up to 15 routes) are shown.Within each route group, routes are sorted in descending order by % competitive trips and # trips below the additional time cut-off."
      ],
      "text/plain": [
       "<IPython.core.display.Markdown object>"
      ]
     },
     "metadata": {},
     "output_type": "display_data"
    },
    {
     "data": {
      "text/html": [
       "\n",
       "<div id=\"altair-viz-bd53084e8b2b4e44a808211d461d5836\"></div>\n",
       "<script type=\"text/javascript\">\n",
       "  var VEGA_DEBUG = (typeof VEGA_DEBUG == \"undefined\") ? {} : VEGA_DEBUG;\n",
       "  (function(spec, embedOpt){\n",
       "    let outputDiv = document.currentScript.previousElementSibling;\n",
       "    if (outputDiv.id !== \"altair-viz-bd53084e8b2b4e44a808211d461d5836\") {\n",
       "      outputDiv = document.getElementById(\"altair-viz-bd53084e8b2b4e44a808211d461d5836\");\n",
       "    }\n",
       "    const paths = {\n",
       "      \"vega\": \"https://cdn.jsdelivr.net/npm//vega@5?noext\",\n",
       "      \"vega-lib\": \"https://cdn.jsdelivr.net/npm//vega-lib?noext\",\n",
       "      \"vega-lite\": \"https://cdn.jsdelivr.net/npm//vega-lite@4.17.0?noext\",\n",
       "      \"vega-embed\": \"https://cdn.jsdelivr.net/npm//vega-embed@6?noext\",\n",
       "    };\n",
       "\n",
       "    function maybeLoadScript(lib, version) {\n",
       "      var key = `${lib.replace(\"-\", \"\")}_version`;\n",
       "      return (VEGA_DEBUG[key] == version) ?\n",
       "        Promise.resolve(paths[lib]) :\n",
       "        new Promise(function(resolve, reject) {\n",
       "          var s = document.createElement('script');\n",
       "          document.getElementsByTagName(\"head\")[0].appendChild(s);\n",
       "          s.async = true;\n",
       "          s.onload = () => {\n",
       "            VEGA_DEBUG[key] = version;\n",
       "            return resolve(paths[lib]);\n",
       "          };\n",
       "          s.onerror = () => reject(`Error loading script: ${paths[lib]}`);\n",
       "          s.src = paths[lib];\n",
       "        });\n",
       "    }\n",
       "\n",
       "    function showError(err) {\n",
       "      outputDiv.innerHTML = `<div class=\"error\" style=\"color:red;\">${err}</div>`;\n",
       "      throw err;\n",
       "    }\n",
       "\n",
       "    function displayChart(vegaEmbed) {\n",
       "      vegaEmbed(outputDiv, spec, embedOpt)\n",
       "        .catch(err => showError(`Javascript Error: ${err.message}<br>This usually means there's a typo in your chart specification. See the javascript console for the full traceback.`));\n",
       "    }\n",
       "\n",
       "    if(typeof define === \"function\" && define.amd) {\n",
       "      requirejs.config({paths});\n",
       "      require([\"vega-embed\"], displayChart, err => showError(`Error loading script: ${err.message}`));\n",
       "    } else {\n",
       "      maybeLoadScript(\"vega\", \"5\")\n",
       "        .then(() => maybeLoadScript(\"vega-lite\", \"4.17.0\"))\n",
       "        .then(() => maybeLoadScript(\"vega-embed\", \"6\"))\n",
       "        .catch(showError)\n",
       "        .then(() => displayChart(vegaEmbed));\n",
       "    }\n",
       "  })({\"config\": {\"view\": {\"continuousWidth\": 400, \"continuousHeight\": 300, \"stroke\": null}, \"facet\": {\"spacing\": 0}}, \"data\": {\"name\": \"data-a86460cc979ca4180a22837ff1a08bed\"}, \"facet\": {\"column\": {\"field\": \"route_id\", \"sort\": [\"14603\"], \"title\": \"Route ID\", \"type\": \"nominal\"}}, \"spec\": {\"layer\": [{\"mark\": {\"type\": \"point\", \"opacity\": 0.65, \"size\": 12, \"strokeWidth\": 1.1}, \"encoding\": {\"color\": {\"field\": \"time_of_day\", \"scale\": {\"range\": [\"#136C97\", \"#E16B26\", \"#F6BF16\", \"#00896B\", \"#7790A3\", \"#5B559C\"]}, \"sort\": [\"AM Peak\", \"Midday\", \"PM Peak\", \"Owl Service\"], \"title\": \"Time of Day\", \"type\": \"nominal\"}, \"tooltip\": [{\"field\": \"route_id\", \"type\": \"nominal\"}, {\"field\": \"trip_id\", \"type\": \"nominal\"}, {\"field\": \"service_hours\", \"type\": \"quantitative\"}, {\"field\": \"car_duration_hours\", \"type\": \"quantitative\"}, {\"field\": \"bus_multiplier\", \"type\": \"quantitative\"}, {\"field\": \"bus_difference\", \"type\": \"quantitative\"}, {\"field\": \"num_trips\", \"type\": \"quantitative\"}, {\"field\": \"num_competitive\", \"type\": \"quantitative\"}, {\"field\": \"pct_trips_competitive\", \"type\": \"quantitative\"}, {\"field\": \"p25\", \"type\": \"quantitative\"}, {\"field\": \"p50\", \"type\": \"quantitative\"}, {\"field\": \"p75\", \"type\": \"quantitative\"}], \"x\": {\"axis\": {\"grid\": false, \"labels\": false, \"ticks\": true, \"values\": [0]}, \"field\": \"jitter\", \"scale\": {}, \"title\": null, \"type\": \"quantitative\"}, \"y\": {\"field\": \"bus_multiplier\", \"scale\": {\"domain\": [-0.25, 2.5]}, \"title\": \"Ratio of Bus to Car Travel Time\", \"type\": \"quantitative\"}}, \"selection\": {\"selector001\": {\"type\": \"interval\", \"bind\": \"scales\", \"encodings\": [\"x\", \"y\"]}}, \"transform\": [{\"calculate\": \"sqrt(-2*log(random()))*cos(2*PI*random())\", \"as\": \"jitter\"}], \"width\": 60}, {\"layer\": [{\"mark\": {\"type\": \"point\", \"opacity\": 0.6, \"size\": 20, \"strokeWidth\": 1.3}, \"encoding\": {\"color\": {\"value\": \"#323434\"}, \"y\": {\"field\": \"bus_multiplier\", \"type\": \"quantitative\"}}, \"transform\": [{\"filter\": \"(datum.p50_trip === 1)\"}]}, {\"mark\": {\"type\": \"rule\", \"strokeDash\": [2, 3]}, \"encoding\": {\"color\": {\"value\": \"#323434\"}, \"y\": {\"field\": \"cutoff\", \"type\": \"quantitative\"}}}, {\"mark\": {\"type\": \"text\", \"align\": \"center\", \"baseline\": \"middle\"}, \"encoding\": {\"color\": {\"value\": \"black\"}, \"text\": {\"field\": \"pct_trips_competitive\", \"format\": \".0%\", \"type\": \"quantitative\"}, \"tooltip\": [{\"field\": \"route_id\", \"type\": \"nominal\"}, {\"field\": \"trip_id\", \"type\": \"nominal\"}, {\"field\": \"service_hours\", \"type\": \"quantitative\"}, {\"field\": \"car_duration_hours\", \"type\": \"quantitative\"}, {\"field\": \"bus_multiplier\", \"type\": \"quantitative\"}, {\"field\": \"bus_difference\", \"type\": \"quantitative\"}, {\"field\": \"num_trips\", \"type\": \"quantitative\"}, {\"field\": \"num_competitive\", \"type\": \"quantitative\"}, {\"field\": \"pct_trips_competitive\", \"type\": \"quantitative\"}, {\"field\": \"p25\", \"type\": \"quantitative\"}, {\"field\": \"p50\", \"type\": \"quantitative\"}, {\"field\": \"p75\", \"type\": \"quantitative\"}], \"x\": {\"value\": 30}, \"y\": {\"value\": 15}}, \"transform\": [{\"calculate\": \"sqrt(-2*log(random()))*cos(2*PI*random())\", \"as\": \"jitter\"}, {\"filter\": \"(datum.fastest_trip === 1)\"}]}]}]}, \"resolve\": {\"scale\": {\"y\": \"shared\"}}, \"title\": \"Ratio of Bus to Car Travel Time\", \"$schema\": \"https://vega.github.io/schema/vega-lite/v4.17.0.json\", \"datasets\": {\"data-a86460cc979ca4180a22837ff1a08bed\": [{\"calitp_itp_id\": 315, \"trip_key\": -2570866538080129951, \"trip_id\": \"t_1392468_b_29945_tn_0\", \"shape_id\": \"p_897680\", \"route_id\": \"14603\", \"service_hours\": 1.28, \"trip_first_departure_ts\": 51660, \"trip_last_arrival_ts\": 56280, \"departure_hour\": 14, \"time_of_day\": \"Midday\", \"p25\": 1.28, \"p50\": 1.3, \"p75\": 1.32, \"p50_trip\": 1, \"fastest_trip\": 0, \"car_duration_hours\": 1.06, \"competitive_route\": 1, \"bus_multiplier\": 1.21, \"bus_difference\": 13.2, \"num_trips\": 26, \"num_competitive\": 26, \"pct_trips_competitive\": 1.0, \"bus_difference_spread\": 2.4, \"route_group\": \"medium\", \"max_trip_hrs\": 1.32, \"max_trip_route_group\": 1.32, \"name\": \"Sonoma-Marin Area Rail Transit District\", \"caltrans_district\": \"04 - Oakland\", \"drmt_organization_name\": null, \"cutoff2\": 19.8, \"cutoff\": 2}, {\"calitp_itp_id\": 315, \"trip_key\": 1735827063190404904, \"trip_id\": \"t_1392467_b_29945_tn_0\", \"shape_id\": \"p_897680\", \"route_id\": \"14603\", \"service_hours\": 1.28, \"trip_first_departure_ts\": 57420, \"trip_last_arrival_ts\": 62040, \"departure_hour\": 15, \"time_of_day\": \"Midday\", \"p25\": 1.28, \"p50\": 1.3, \"p75\": 1.32, \"p50_trip\": 1, \"fastest_trip\": 0, \"car_duration_hours\": 1.06, \"competitive_route\": 1, \"bus_multiplier\": 1.21, \"bus_difference\": 13.2, \"num_trips\": 26, \"num_competitive\": 26, \"pct_trips_competitive\": 1.0, \"bus_difference_spread\": 2.4, \"route_group\": \"medium\", \"max_trip_hrs\": 1.32, \"max_trip_route_group\": 1.32, \"name\": \"Sonoma-Marin Area Rail Transit District\", \"caltrans_district\": \"04 - Oakland\", \"drmt_organization_name\": null, \"cutoff2\": 19.8, \"cutoff\": 2}, {\"calitp_itp_id\": 315, \"trip_key\": -4530425533812236016, \"trip_id\": \"t_1392473_b_29945_tn_0\", \"shape_id\": \"p_897680\", \"route_id\": \"14603\", \"service_hours\": 1.28, \"trip_first_departure_ts\": 61260, \"trip_last_arrival_ts\": 65880, \"departure_hour\": 17, \"time_of_day\": \"PM Peak\", \"p25\": 1.28, \"p50\": 1.3, \"p75\": 1.32, \"p50_trip\": 1, \"fastest_trip\": 0, \"car_duration_hours\": 1.06, \"competitive_route\": 1, \"bus_multiplier\": 1.21, \"bus_difference\": 13.2, \"num_trips\": 26, \"num_competitive\": 26, \"pct_trips_competitive\": 1.0, \"bus_difference_spread\": 2.4, \"route_group\": \"medium\", \"max_trip_hrs\": 1.32, \"max_trip_route_group\": 1.32, \"name\": \"Sonoma-Marin Area Rail Transit District\", \"caltrans_district\": \"04 - Oakland\", \"drmt_organization_name\": null, \"cutoff2\": 19.8, \"cutoff\": 2}, {\"calitp_itp_id\": 315, \"trip_key\": 4416217459538609298, \"trip_id\": \"t_1393966_b_29945_tn_0\", \"shape_id\": \"p_897680\", \"route_id\": \"14603\", \"service_hours\": 1.28, \"trip_first_departure_ts\": 67020, \"trip_last_arrival_ts\": 71640, \"departure_hour\": 18, \"time_of_day\": \"PM Peak\", \"p25\": 1.28, \"p50\": 1.3, \"p75\": 1.32, \"p50_trip\": 1, \"fastest_trip\": 0, \"car_duration_hours\": 1.06, \"competitive_route\": 1, \"bus_multiplier\": 1.21, \"bus_difference\": 13.2, \"num_trips\": 26, \"num_competitive\": 26, \"pct_trips_competitive\": 1.0, \"bus_difference_spread\": 2.4, \"route_group\": \"medium\", \"max_trip_hrs\": 1.32, \"max_trip_route_group\": 1.32, \"name\": \"Sonoma-Marin Area Rail Transit District\", \"caltrans_district\": \"04 - Oakland\", \"drmt_organization_name\": null, \"cutoff2\": 19.8, \"cutoff\": 2}, {\"calitp_itp_id\": 315, \"trip_key\": 8120940751543448040, \"trip_id\": \"t_1393963_b_29945_tn_0\", \"shape_id\": \"p_897680\", \"route_id\": \"14603\", \"service_hours\": 1.28, \"trip_first_departure_ts\": 35400, \"trip_last_arrival_ts\": 40020, \"departure_hour\": 9, \"time_of_day\": \"AM Peak\", \"p25\": 1.28, \"p50\": 1.3, \"p75\": 1.32, \"p50_trip\": 1, \"fastest_trip\": 0, \"car_duration_hours\": 1.06, \"competitive_route\": 1, \"bus_multiplier\": 1.21, \"bus_difference\": 13.2, \"num_trips\": 26, \"num_competitive\": 26, \"pct_trips_competitive\": 1.0, \"bus_difference_spread\": 2.4, \"route_group\": \"medium\", \"max_trip_hrs\": 1.32, \"max_trip_route_group\": 1.32, \"name\": \"Sonoma-Marin Area Rail Transit District\", \"caltrans_district\": \"04 - Oakland\", \"drmt_organization_name\": null, \"cutoff2\": 19.8, \"cutoff\": 2}, {\"calitp_itp_id\": 315, \"trip_key\": 2632550913309822662, \"trip_id\": \"t_1392464_b_29945_tn_0\", \"shape_id\": \"p_897680\", \"route_id\": \"14603\", \"service_hours\": 1.28, \"trip_first_departure_ts\": 23880, \"trip_last_arrival_ts\": 28500, \"departure_hour\": 6, \"time_of_day\": \"Owl Service\", \"p25\": 1.28, \"p50\": 1.3, \"p75\": 1.32, \"p50_trip\": 1, \"fastest_trip\": 0, \"car_duration_hours\": 1.06, \"competitive_route\": 1, \"bus_multiplier\": 1.21, \"bus_difference\": 13.2, \"num_trips\": 26, \"num_competitive\": 26, \"pct_trips_competitive\": 1.0, \"bus_difference_spread\": 2.4, \"route_group\": \"medium\", \"max_trip_hrs\": 1.32, \"max_trip_route_group\": 1.32, \"name\": \"Sonoma-Marin Area Rail Transit District\", \"caltrans_district\": \"04 - Oakland\", \"drmt_organization_name\": null, \"cutoff2\": 19.8, \"cutoff\": 2}, {\"calitp_itp_id\": 315, \"trip_key\": 6802809791036127853, \"trip_id\": \"t_1392461_b_29945_tn_0\", \"shape_id\": \"p_897680\", \"route_id\": \"14603\", \"service_hours\": 1.28, \"trip_first_departure_ts\": 31560, \"trip_last_arrival_ts\": 36180, \"departure_hour\": 8, \"time_of_day\": \"AM Peak\", \"p25\": 1.28, \"p50\": 1.3, \"p75\": 1.32, \"p50_trip\": 1, \"fastest_trip\": 0, \"car_duration_hours\": 1.06, \"competitive_route\": 1, \"bus_multiplier\": 1.21, \"bus_difference\": 13.2, \"num_trips\": 26, \"num_competitive\": 26, \"pct_trips_competitive\": 1.0, \"bus_difference_spread\": 2.4, \"route_group\": \"medium\", \"max_trip_hrs\": 1.32, \"max_trip_route_group\": 1.32, \"name\": \"Sonoma-Marin Area Rail Transit District\", \"caltrans_district\": \"04 - Oakland\", \"drmt_organization_name\": null, \"cutoff2\": 19.8, \"cutoff\": 2}, {\"calitp_itp_id\": 315, \"trip_key\": 6495353743784580393, \"trip_id\": \"t_1392471_b_29945_tn_0\", \"shape_id\": \"p_897680\", \"route_id\": \"14603\", \"service_hours\": 1.28, \"trip_first_departure_ts\": 27720, \"trip_last_arrival_ts\": 32340, \"departure_hour\": 7, \"time_of_day\": \"AM Peak\", \"p25\": 1.28, \"p50\": 1.3, \"p75\": 1.32, \"p50_trip\": 1, \"fastest_trip\": 0, \"car_duration_hours\": 1.06, \"competitive_route\": 1, \"bus_multiplier\": 1.21, \"bus_difference\": 13.2, \"num_trips\": 26, \"num_competitive\": 26, \"pct_trips_competitive\": 1.0, \"bus_difference_spread\": 2.4, \"route_group\": \"medium\", \"max_trip_hrs\": 1.32, \"max_trip_route_group\": 1.32, \"name\": \"Sonoma-Marin Area Rail Transit District\", \"caltrans_district\": \"04 - Oakland\", \"drmt_organization_name\": null, \"cutoff2\": 19.8, \"cutoff\": 2}, {\"calitp_itp_id\": 315, \"trip_key\": 1609341664702902210, \"trip_id\": \"t_1393965_b_29945_tn_0\", \"shape_id\": \"p_897680\", \"route_id\": \"14603\", \"service_hours\": 1.28, \"trip_first_departure_ts\": 63180, \"trip_last_arrival_ts\": 67800, \"departure_hour\": 17, \"time_of_day\": \"PM Peak\", \"p25\": 1.28, \"p50\": 1.3, \"p75\": 1.32, \"p50_trip\": 1, \"fastest_trip\": 0, \"car_duration_hours\": 1.06, \"competitive_route\": 1, \"bus_multiplier\": 1.21, \"bus_difference\": 13.2, \"num_trips\": 26, \"num_competitive\": 26, \"pct_trips_competitive\": 1.0, \"bus_difference_spread\": 2.4, \"route_group\": \"medium\", \"max_trip_hrs\": 1.32, \"max_trip_route_group\": 1.32, \"name\": \"Sonoma-Marin Area Rail Transit District\", \"caltrans_district\": \"04 - Oakland\", \"drmt_organization_name\": null, \"cutoff2\": 19.8, \"cutoff\": 2}, {\"calitp_itp_id\": 315, \"trip_key\": -8263158080782040151, \"trip_id\": \"t_1393968_b_29945_tn_0\", \"shape_id\": \"p_897680\", \"route_id\": \"14603\", \"service_hours\": 1.28, \"trip_first_departure_ts\": 73740, \"trip_last_arrival_ts\": 78360, \"departure_hour\": 20, \"time_of_day\": \"Owl Service\", \"p25\": 1.28, \"p50\": 1.3, \"p75\": 1.32, \"p50_trip\": 1, \"fastest_trip\": 1, \"car_duration_hours\": 1.06, \"competitive_route\": 1, \"bus_multiplier\": 1.21, \"bus_difference\": 13.2, \"num_trips\": 26, \"num_competitive\": 26, \"pct_trips_competitive\": 1.0, \"bus_difference_spread\": 2.4, \"route_group\": \"medium\", \"max_trip_hrs\": 1.32, \"max_trip_route_group\": 1.32, \"name\": \"Sonoma-Marin Area Rail Transit District\", \"caltrans_district\": \"04 - Oakland\", \"drmt_organization_name\": null, \"cutoff2\": 19.8, \"cutoff\": 2}, {\"calitp_itp_id\": 315, \"trip_key\": 127097272520024760, \"trip_id\": \"t_1392462_b_29945_tn_0\", \"shape_id\": \"p_897680\", \"route_id\": \"14603\", \"service_hours\": 1.28, \"trip_first_departure_ts\": 53580, \"trip_last_arrival_ts\": 58200, \"departure_hour\": 14, \"time_of_day\": \"Midday\", \"p25\": 1.28, \"p50\": 1.3, \"p75\": 1.32, \"p50_trip\": 1, \"fastest_trip\": 0, \"car_duration_hours\": 1.06, \"competitive_route\": 1, \"bus_multiplier\": 1.21, \"bus_difference\": 13.2, \"num_trips\": 26, \"num_competitive\": 26, \"pct_trips_competitive\": 1.0, \"bus_difference_spread\": 2.4, \"route_group\": \"medium\", \"max_trip_hrs\": 1.32, \"max_trip_route_group\": 1.32, \"name\": \"Sonoma-Marin Area Rail Transit District\", \"caltrans_district\": \"04 - Oakland\", \"drmt_organization_name\": null, \"cutoff2\": 19.8, \"cutoff\": 2}, {\"calitp_itp_id\": 315, \"trip_key\": -6076402591735573870, \"trip_id\": \"t_1393964_b_29945_tn_0\", \"shape_id\": \"p_897680\", \"route_id\": \"14603\", \"service_hours\": 1.28, \"trip_first_departure_ts\": 39240, \"trip_last_arrival_ts\": 43860, \"departure_hour\": 10, \"time_of_day\": \"Midday\", \"p25\": 1.28, \"p50\": 1.3, \"p75\": 1.32, \"p50_trip\": 1, \"fastest_trip\": 0, \"car_duration_hours\": 1.06, \"competitive_route\": 1, \"bus_multiplier\": 1.21, \"bus_difference\": 13.2, \"num_trips\": 26, \"num_competitive\": 26, \"pct_trips_competitive\": 1.0, \"bus_difference_spread\": 2.4, \"route_group\": \"medium\", \"max_trip_hrs\": 1.32, \"max_trip_route_group\": 1.32, \"name\": \"Sonoma-Marin Area Rail Transit District\", \"caltrans_district\": \"04 - Oakland\", \"drmt_organization_name\": null, \"cutoff2\": 19.8, \"cutoff\": 2}, {\"calitp_itp_id\": 315, \"trip_key\": -7679924680753058571, \"trip_id\": \"t_1393967_b_29945_tn_0\", \"shape_id\": \"p_897680\", \"route_id\": \"14603\", \"service_hours\": 1.28, \"trip_first_departure_ts\": 68940, \"trip_last_arrival_ts\": 73560, \"departure_hour\": 19, \"time_of_day\": \"PM Peak\", \"p25\": 1.28, \"p50\": 1.3, \"p75\": 1.32, \"p50_trip\": 1, \"fastest_trip\": 0, \"car_duration_hours\": 1.06, \"competitive_route\": 1, \"bus_multiplier\": 1.21, \"bus_difference\": 13.2, \"num_trips\": 26, \"num_competitive\": 26, \"pct_trips_competitive\": 1.0, \"bus_difference_spread\": 2.4, \"route_group\": \"medium\", \"max_trip_hrs\": 1.32, \"max_trip_route_group\": 1.32, \"name\": \"Sonoma-Marin Area Rail Transit District\", \"caltrans_district\": \"04 - Oakland\", \"drmt_organization_name\": null, \"cutoff2\": 19.8, \"cutoff\": 2}, {\"calitp_itp_id\": 315, \"trip_key\": 8042410948887511611, \"trip_id\": \"t_1392470_b_29945_tn_0\", \"shape_id\": \"p_897679\", \"route_id\": \"14603\", \"service_hours\": 1.32, \"trip_first_departure_ts\": 18120, \"trip_last_arrival_ts\": 22860, \"departure_hour\": 5, \"time_of_day\": \"Owl Service\", \"p25\": 1.28, \"p50\": 1.3, \"p75\": 1.32, \"p50_trip\": 1, \"fastest_trip\": 0, \"car_duration_hours\": 1.06, \"competitive_route\": 1, \"bus_multiplier\": 1.25, \"bus_difference\": 15.6, \"num_trips\": 26, \"num_competitive\": 26, \"pct_trips_competitive\": 1.0, \"bus_difference_spread\": 2.4, \"route_group\": \"medium\", \"max_trip_hrs\": 1.32, \"max_trip_route_group\": 1.32, \"name\": \"Sonoma-Marin Area Rail Transit District\", \"caltrans_district\": \"04 - Oakland\", \"drmt_organization_name\": null, \"cutoff2\": 19.8, \"cutoff\": 2}, {\"calitp_itp_id\": 315, \"trip_key\": -6250214341598805462, \"trip_id\": \"t_1392476_b_29945_tn_0\", \"shape_id\": \"p_897679\", \"route_id\": \"14603\", \"service_hours\": 1.32, \"trip_first_departure_ts\": 61260, \"trip_last_arrival_ts\": 66000, \"departure_hour\": 17, \"time_of_day\": \"PM Peak\", \"p25\": 1.28, \"p50\": 1.3, \"p75\": 1.32, \"p50_trip\": 1, \"fastest_trip\": 0, \"car_duration_hours\": 1.06, \"competitive_route\": 1, \"bus_multiplier\": 1.25, \"bus_difference\": 15.6, \"num_trips\": 26, \"num_competitive\": 26, \"pct_trips_competitive\": 1.0, \"bus_difference_spread\": 2.4, \"route_group\": \"medium\", \"max_trip_hrs\": 1.32, \"max_trip_route_group\": 1.32, \"name\": \"Sonoma-Marin Area Rail Transit District\", \"caltrans_district\": \"04 - Oakland\", \"drmt_organization_name\": null, \"cutoff2\": 19.8, \"cutoff\": 2}, {\"calitp_itp_id\": 315, \"trip_key\": -3221434820576757972, \"trip_id\": \"t_1393961_b_29945_tn_0\", \"shape_id\": \"p_897679\", \"route_id\": \"14603\", \"service_hours\": 1.32, \"trip_first_departure_ts\": 63180, \"trip_last_arrival_ts\": 67920, \"departure_hour\": 17, \"time_of_day\": \"PM Peak\", \"p25\": 1.28, \"p50\": 1.3, \"p75\": 1.32, \"p50_trip\": 1, \"fastest_trip\": 0, \"car_duration_hours\": 1.06, \"competitive_route\": 1, \"bus_multiplier\": 1.25, \"bus_difference\": 15.6, \"num_trips\": 26, \"num_competitive\": 26, \"pct_trips_competitive\": 1.0, \"bus_difference_spread\": 2.4, \"route_group\": \"medium\", \"max_trip_hrs\": 1.32, \"max_trip_route_group\": 1.32, \"name\": \"Sonoma-Marin Area Rail Transit District\", \"caltrans_district\": \"04 - Oakland\", \"drmt_organization_name\": null, \"cutoff2\": 19.8, \"cutoff\": 2}, {\"calitp_itp_id\": 315, \"trip_key\": 847657270131198076, \"trip_id\": \"t_1392475_b_29945_tn_0\", \"shape_id\": \"p_897679\", \"route_id\": \"14603\", \"service_hours\": 1.32, \"trip_first_departure_ts\": 55500, \"trip_last_arrival_ts\": 60240, \"departure_hour\": 15, \"time_of_day\": \"Midday\", \"p25\": 1.28, \"p50\": 1.3, \"p75\": 1.32, \"p50_trip\": 1, \"fastest_trip\": 0, \"car_duration_hours\": 1.06, \"competitive_route\": 1, \"bus_multiplier\": 1.25, \"bus_difference\": 15.6, \"num_trips\": 26, \"num_competitive\": 26, \"pct_trips_competitive\": 1.0, \"bus_difference_spread\": 2.4, \"route_group\": \"medium\", \"max_trip_hrs\": 1.32, \"max_trip_route_group\": 1.32, \"name\": \"Sonoma-Marin Area Rail Transit District\", \"caltrans_district\": \"04 - Oakland\", \"drmt_organization_name\": null, \"cutoff2\": 19.8, \"cutoff\": 2}, {\"calitp_itp_id\": 315, \"trip_key\": 1508906164604499980, \"trip_id\": \"t_1392527_b_29945_tn_0\", \"shape_id\": \"p_897679\", \"route_id\": \"14603\", \"service_hours\": 1.32, \"trip_first_departure_ts\": 29640, \"trip_last_arrival_ts\": 34380, \"departure_hour\": 8, \"time_of_day\": \"AM Peak\", \"p25\": 1.28, \"p50\": 1.3, \"p75\": 1.32, \"p50_trip\": 1, \"fastest_trip\": 0, \"car_duration_hours\": 1.06, \"competitive_route\": 1, \"bus_multiplier\": 1.25, \"bus_difference\": 15.6, \"num_trips\": 26, \"num_competitive\": 26, \"pct_trips_competitive\": 1.0, \"bus_difference_spread\": 2.4, \"route_group\": \"medium\", \"max_trip_hrs\": 1.32, \"max_trip_route_group\": 1.32, \"name\": \"Sonoma-Marin Area Rail Transit District\", \"caltrans_district\": \"04 - Oakland\", \"drmt_organization_name\": null, \"cutoff2\": 19.8, \"cutoff\": 2}, {\"calitp_itp_id\": 315, \"trip_key\": -3765371430898950633, \"trip_id\": \"t_1393960_b_29945_tn_0\", \"shape_id\": \"p_897679\", \"route_id\": \"14603\", \"service_hours\": 1.32, \"trip_first_departure_ts\": 57420, \"trip_last_arrival_ts\": 62160, \"departure_hour\": 15, \"time_of_day\": \"Midday\", \"p25\": 1.28, \"p50\": 1.3, \"p75\": 1.32, \"p50_trip\": 1, \"fastest_trip\": 0, \"car_duration_hours\": 1.06, \"competitive_route\": 1, \"bus_multiplier\": 1.25, \"bus_difference\": 15.6, \"num_trips\": 26, \"num_competitive\": 26, \"pct_trips_competitive\": 1.0, \"bus_difference_spread\": 2.4, \"route_group\": \"medium\", \"max_trip_hrs\": 1.32, \"max_trip_route_group\": 1.32, \"name\": \"Sonoma-Marin Area Rail Transit District\", \"caltrans_district\": \"04 - Oakland\", \"drmt_organization_name\": null, \"cutoff2\": 19.8, \"cutoff\": 2}, {\"calitp_itp_id\": 315, \"trip_key\": -1402756052860708428, \"trip_id\": \"t_1392465_b_29945_tn_0\", \"shape_id\": \"p_897679\", \"route_id\": \"14603\", \"service_hours\": 1.32, \"trip_first_departure_ts\": 45900, \"trip_last_arrival_ts\": 50640, \"departure_hour\": 12, \"time_of_day\": \"Midday\", \"p25\": 1.28, \"p50\": 1.3, \"p75\": 1.32, \"p50_trip\": 1, \"fastest_trip\": 0, \"car_duration_hours\": 1.06, \"competitive_route\": 1, \"bus_multiplier\": 1.25, \"bus_difference\": 15.6, \"num_trips\": 26, \"num_competitive\": 26, \"pct_trips_competitive\": 1.0, \"bus_difference_spread\": 2.4, \"route_group\": \"medium\", \"max_trip_hrs\": 1.32, \"max_trip_route_group\": 1.32, \"name\": \"Sonoma-Marin Area Rail Transit District\", \"caltrans_district\": \"04 - Oakland\", \"drmt_organization_name\": null, \"cutoff2\": 19.8, \"cutoff\": 2}, {\"calitp_itp_id\": 315, \"trip_key\": 5264278191689977910, \"trip_id\": \"t_1393959_b_29945_tn_0\", \"shape_id\": \"p_897679\", \"route_id\": \"14603\", \"service_hours\": 1.32, \"trip_first_departure_ts\": 33480, \"trip_last_arrival_ts\": 38220, \"departure_hour\": 9, \"time_of_day\": \"AM Peak\", \"p25\": 1.28, \"p50\": 1.3, \"p75\": 1.32, \"p50_trip\": 1, \"fastest_trip\": 0, \"car_duration_hours\": 1.06, \"competitive_route\": 1, \"bus_multiplier\": 1.25, \"bus_difference\": 15.6, \"num_trips\": 26, \"num_competitive\": 26, \"pct_trips_competitive\": 1.0, \"bus_difference_spread\": 2.4, \"route_group\": \"medium\", \"max_trip_hrs\": 1.32, \"max_trip_route_group\": 1.32, \"name\": \"Sonoma-Marin Area Rail Transit District\", \"caltrans_district\": \"04 - Oakland\", \"drmt_organization_name\": null, \"cutoff2\": 19.8, \"cutoff\": 2}, {\"calitp_itp_id\": 315, \"trip_key\": -6024192529033420009, \"trip_id\": \"t_1392463_b_29945_tn_0\", \"shape_id\": \"p_897679\", \"route_id\": \"14603\", \"service_hours\": 1.32, \"trip_first_departure_ts\": 25800, \"trip_last_arrival_ts\": 30540, \"departure_hour\": 7, \"time_of_day\": \"AM Peak\", \"p25\": 1.28, \"p50\": 1.3, \"p75\": 1.32, \"p50_trip\": 1, \"fastest_trip\": 0, \"car_duration_hours\": 1.06, \"competitive_route\": 1, \"bus_multiplier\": 1.25, \"bus_difference\": 15.6, \"num_trips\": 26, \"num_competitive\": 26, \"pct_trips_competitive\": 1.0, \"bus_difference_spread\": 2.4, \"route_group\": \"medium\", \"max_trip_hrs\": 1.32, \"max_trip_route_group\": 1.32, \"name\": \"Sonoma-Marin Area Rail Transit District\", \"caltrans_district\": \"04 - Oakland\", \"drmt_organization_name\": null, \"cutoff2\": 19.8, \"cutoff\": 2}, {\"calitp_itp_id\": 315, \"trip_key\": -8545403379171561135, \"trip_id\": \"t_1392472_b_29945_tn_0\", \"shape_id\": \"p_897679\", \"route_id\": \"14603\", \"service_hours\": 1.32, \"trip_first_departure_ts\": 21960, \"trip_last_arrival_ts\": 26700, \"departure_hour\": 6, \"time_of_day\": \"Owl Service\", \"p25\": 1.28, \"p50\": 1.3, \"p75\": 1.32, \"p50_trip\": 1, \"fastest_trip\": 0, \"car_duration_hours\": 1.06, \"competitive_route\": 1, \"bus_multiplier\": 1.25, \"bus_difference\": 15.6, \"num_trips\": 26, \"num_competitive\": 26, \"pct_trips_competitive\": 1.0, \"bus_difference_spread\": 2.4, \"route_group\": \"medium\", \"max_trip_hrs\": 1.32, \"max_trip_route_group\": 1.32, \"name\": \"Sonoma-Marin Area Rail Transit District\", \"caltrans_district\": \"04 - Oakland\", \"drmt_organization_name\": null, \"cutoff2\": 19.8, \"cutoff\": 2}, {\"calitp_itp_id\": 315, \"trip_key\": 1160413989443729943, \"trip_id\": \"t_1393962_b_29945_tn_0\", \"shape_id\": \"p_897679\", \"route_id\": \"14603\", \"service_hours\": 1.32, \"trip_first_departure_ts\": 67020, \"trip_last_arrival_ts\": 71760, \"departure_hour\": 18, \"time_of_day\": \"PM Peak\", \"p25\": 1.28, \"p50\": 1.3, \"p75\": 1.32, \"p50_trip\": 1, \"fastest_trip\": 0, \"car_duration_hours\": 1.06, \"competitive_route\": 1, \"bus_multiplier\": 1.25, \"bus_difference\": 15.6, \"num_trips\": 26, \"num_competitive\": 26, \"pct_trips_competitive\": 1.0, \"bus_difference_spread\": 2.4, \"route_group\": \"medium\", \"max_trip_hrs\": 1.32, \"max_trip_route_group\": 1.32, \"name\": \"Sonoma-Marin Area Rail Transit District\", \"caltrans_district\": \"04 - Oakland\", \"drmt_organization_name\": null, \"cutoff2\": 19.8, \"cutoff\": 2}, {\"calitp_itp_id\": 315, \"trip_key\": 8162541205591486193, \"trip_id\": \"t_1392469_b_29945_tn_0\", \"shape_id\": \"p_897679\", \"route_id\": \"14603\", \"service_hours\": 1.32, \"trip_first_departure_ts\": 47820, \"trip_last_arrival_ts\": 52560, \"departure_hour\": 13, \"time_of_day\": \"Midday\", \"p25\": 1.28, \"p50\": 1.3, \"p75\": 1.32, \"p50_trip\": 1, \"fastest_trip\": 0, \"car_duration_hours\": 1.06, \"competitive_route\": 1, \"bus_multiplier\": 1.25, \"bus_difference\": 15.6, \"num_trips\": 26, \"num_competitive\": 26, \"pct_trips_competitive\": 1.0, \"bus_difference_spread\": 2.4, \"route_group\": \"medium\", \"max_trip_hrs\": 1.32, \"max_trip_route_group\": 1.32, \"name\": \"Sonoma-Marin Area Rail Transit District\", \"caltrans_district\": \"04 - Oakland\", \"drmt_organization_name\": null, \"cutoff2\": 19.8, \"cutoff\": 2}, {\"calitp_itp_id\": 315, \"trip_key\": -8490856891956538853, \"trip_id\": \"t_1392466_b_29945_tn_0\", \"shape_id\": \"p_897679\", \"route_id\": \"14603\", \"service_hours\": 1.32, \"trip_first_departure_ts\": 51660, \"trip_last_arrival_ts\": 56400, \"departure_hour\": 14, \"time_of_day\": \"Midday\", \"p25\": 1.28, \"p50\": 1.3, \"p75\": 1.32, \"p50_trip\": 1, \"fastest_trip\": 0, \"car_duration_hours\": 1.06, \"competitive_route\": 1, \"bus_multiplier\": 1.25, \"bus_difference\": 15.6, \"num_trips\": 26, \"num_competitive\": 26, \"pct_trips_competitive\": 1.0, \"bus_difference_spread\": 2.4, \"route_group\": \"medium\", \"max_trip_hrs\": 1.32, \"max_trip_route_group\": 1.32, \"name\": \"Sonoma-Marin Area Rail Transit District\", \"caltrans_district\": \"04 - Oakland\", \"drmt_organization_name\": null, \"cutoff2\": 19.8, \"cutoff\": 2}]}}, {\"mode\": \"vega-lite\"});\n",
       "</script>"
      ],
      "text/plain": [
       "alt.FacetChart(...)"
      ]
     },
     "metadata": {},
     "output_type": "display_data"
    },
    {
     "data": {
      "text/html": [
       "\n",
       "<div id=\"altair-viz-d77b838fdebc40acabaf138457199c26\"></div>\n",
       "<script type=\"text/javascript\">\n",
       "  var VEGA_DEBUG = (typeof VEGA_DEBUG == \"undefined\") ? {} : VEGA_DEBUG;\n",
       "  (function(spec, embedOpt){\n",
       "    let outputDiv = document.currentScript.previousElementSibling;\n",
       "    if (outputDiv.id !== \"altair-viz-d77b838fdebc40acabaf138457199c26\") {\n",
       "      outputDiv = document.getElementById(\"altair-viz-d77b838fdebc40acabaf138457199c26\");\n",
       "    }\n",
       "    const paths = {\n",
       "      \"vega\": \"https://cdn.jsdelivr.net/npm//vega@5?noext\",\n",
       "      \"vega-lib\": \"https://cdn.jsdelivr.net/npm//vega-lib?noext\",\n",
       "      \"vega-lite\": \"https://cdn.jsdelivr.net/npm//vega-lite@4.17.0?noext\",\n",
       "      \"vega-embed\": \"https://cdn.jsdelivr.net/npm//vega-embed@6?noext\",\n",
       "    };\n",
       "\n",
       "    function maybeLoadScript(lib, version) {\n",
       "      var key = `${lib.replace(\"-\", \"\")}_version`;\n",
       "      return (VEGA_DEBUG[key] == version) ?\n",
       "        Promise.resolve(paths[lib]) :\n",
       "        new Promise(function(resolve, reject) {\n",
       "          var s = document.createElement('script');\n",
       "          document.getElementsByTagName(\"head\")[0].appendChild(s);\n",
       "          s.async = true;\n",
       "          s.onload = () => {\n",
       "            VEGA_DEBUG[key] = version;\n",
       "            return resolve(paths[lib]);\n",
       "          };\n",
       "          s.onerror = () => reject(`Error loading script: ${paths[lib]}`);\n",
       "          s.src = paths[lib];\n",
       "        });\n",
       "    }\n",
       "\n",
       "    function showError(err) {\n",
       "      outputDiv.innerHTML = `<div class=\"error\" style=\"color:red;\">${err}</div>`;\n",
       "      throw err;\n",
       "    }\n",
       "\n",
       "    function displayChart(vegaEmbed) {\n",
       "      vegaEmbed(outputDiv, spec, embedOpt)\n",
       "        .catch(err => showError(`Javascript Error: ${err.message}<br>This usually means there's a typo in your chart specification. See the javascript console for the full traceback.`));\n",
       "    }\n",
       "\n",
       "    if(typeof define === \"function\" && define.amd) {\n",
       "      requirejs.config({paths});\n",
       "      require([\"vega-embed\"], displayChart, err => showError(`Error loading script: ${err.message}`));\n",
       "    } else {\n",
       "      maybeLoadScript(\"vega\", \"5\")\n",
       "        .then(() => maybeLoadScript(\"vega-lite\", \"4.17.0\"))\n",
       "        .then(() => maybeLoadScript(\"vega-embed\", \"6\"))\n",
       "        .catch(showError)\n",
       "        .then(() => displayChart(vegaEmbed));\n",
       "    }\n",
       "  })({\"config\": {\"view\": {\"continuousWidth\": 400, \"continuousHeight\": 300, \"stroke\": null}, \"facet\": {\"spacing\": 0}}, \"data\": {\"name\": \"data-73d3f7752eec34a4069a555332f89641\"}, \"facet\": {\"column\": {\"field\": \"route_id\", \"sort\": [\"14603\"], \"title\": \"Route ID\", \"type\": \"nominal\"}}, \"spec\": {\"layer\": [{\"mark\": {\"type\": \"point\", \"opacity\": 0.65, \"size\": 12, \"strokeWidth\": 1.1}, \"encoding\": {\"color\": {\"field\": \"time_of_day\", \"scale\": {\"range\": [\"#136C97\", \"#E16B26\", \"#F6BF16\", \"#00896B\", \"#7790A3\", \"#5B559C\"]}, \"sort\": [\"AM Peak\", \"Midday\", \"PM Peak\", \"Owl Service\"], \"title\": \"Time of Day\", \"type\": \"nominal\"}, \"tooltip\": [{\"field\": \"route_id\", \"type\": \"nominal\"}, {\"field\": \"trip_id\", \"type\": \"nominal\"}, {\"field\": \"service_hours\", \"type\": \"quantitative\"}, {\"field\": \"car_duration_hours\", \"type\": \"quantitative\"}, {\"field\": \"bus_multiplier\", \"type\": \"quantitative\"}, {\"field\": \"bus_difference\", \"type\": \"quantitative\"}, {\"field\": \"num_trips\", \"type\": \"quantitative\"}, {\"field\": \"num_competitive\", \"type\": \"quantitative\"}, {\"field\": \"pct_trips_competitive\", \"type\": \"quantitative\"}, {\"field\": \"p25\", \"type\": \"quantitative\"}, {\"field\": \"p50\", \"type\": \"quantitative\"}, {\"field\": \"p75\", \"type\": \"quantitative\"}], \"x\": {\"axis\": {\"grid\": false, \"labels\": false, \"ticks\": true, \"values\": [0]}, \"field\": \"jitter\", \"scale\": {}, \"title\": null, \"type\": \"quantitative\"}, \"y\": {\"field\": \"bus_difference\", \"scale\": {\"domain\": [-5, 24.8]}, \"title\": \"Difference in Bus to Car Travel Time (min)\", \"type\": \"quantitative\"}}, \"selection\": {\"selector002\": {\"type\": \"interval\", \"bind\": \"scales\", \"encodings\": [\"x\", \"y\"]}}, \"transform\": [{\"calculate\": \"sqrt(-2*log(random()))*cos(2*PI*random())\", \"as\": \"jitter\"}], \"width\": 60}, {\"layer\": [{\"mark\": {\"type\": \"point\", \"opacity\": 0.6, \"size\": 20, \"strokeWidth\": 1.3}, \"encoding\": {\"color\": {\"value\": \"#323434\"}, \"y\": {\"field\": \"bus_difference\", \"type\": \"quantitative\"}}, \"transform\": [{\"filter\": \"(datum.p50_trip === 1)\"}]}, {\"mark\": {\"type\": \"rule\", \"strokeDash\": [2, 3]}, \"encoding\": {\"color\": {\"value\": \"#323434\"}, \"y\": {\"field\": \"cutoff\", \"type\": \"quantitative\"}}}, {\"mark\": {\"type\": \"rule\", \"strokeDash\": [2, 3]}, \"encoding\": {\"color\": {\"value\": \"#136C97\"}, \"y\": {\"field\": \"cutoff2\", \"type\": \"quantitative\"}}}, {\"mark\": {\"type\": \"text\", \"align\": \"center\", \"baseline\": \"middle\"}, \"encoding\": {\"color\": {\"value\": \"black\"}, \"text\": {\"field\": \"pct_trips_competitive\", \"format\": \".0%\", \"type\": \"quantitative\"}, \"tooltip\": [{\"field\": \"route_id\", \"type\": \"nominal\"}, {\"field\": \"trip_id\", \"type\": \"nominal\"}, {\"field\": \"service_hours\", \"type\": \"quantitative\"}, {\"field\": \"car_duration_hours\", \"type\": \"quantitative\"}, {\"field\": \"bus_multiplier\", \"type\": \"quantitative\"}, {\"field\": \"bus_difference\", \"type\": \"quantitative\"}, {\"field\": \"num_trips\", \"type\": \"quantitative\"}, {\"field\": \"num_competitive\", \"type\": \"quantitative\"}, {\"field\": \"pct_trips_competitive\", \"type\": \"quantitative\"}, {\"field\": \"p25\", \"type\": \"quantitative\"}, {\"field\": \"p50\", \"type\": \"quantitative\"}, {\"field\": \"p75\", \"type\": \"quantitative\"}], \"x\": {\"value\": 30}, \"y\": {\"value\": 15}}, \"transform\": [{\"calculate\": \"sqrt(-2*log(random()))*cos(2*PI*random())\", \"as\": \"jitter\"}, {\"filter\": \"(datum.fastest_trip === 1)\"}]}]}]}, \"resolve\": {\"scale\": {\"y\": \"shared\"}}, \"title\": \"Difference in Bus to Car Travel Time (min)\", \"$schema\": \"https://vega.github.io/schema/vega-lite/v4.17.0.json\", \"datasets\": {\"data-73d3f7752eec34a4069a555332f89641\": [{\"calitp_itp_id\": 315, \"trip_key\": -2570866538080129951, \"trip_id\": \"t_1392468_b_29945_tn_0\", \"shape_id\": \"p_897680\", \"route_id\": \"14603\", \"service_hours\": 1.28, \"trip_first_departure_ts\": 51660, \"trip_last_arrival_ts\": 56280, \"departure_hour\": 14, \"time_of_day\": \"Midday\", \"p25\": 1.28, \"p50\": 1.3, \"p75\": 1.32, \"p50_trip\": 1, \"fastest_trip\": 0, \"car_duration_hours\": 1.06, \"competitive_route\": 1, \"bus_multiplier\": 1.21, \"bus_difference\": 13.2, \"num_trips\": 26, \"num_competitive\": 26, \"pct_trips_competitive\": 1.0, \"bus_difference_spread\": 2.4, \"route_group\": \"medium\", \"max_trip_hrs\": 1.32, \"max_trip_route_group\": 1.32, \"name\": \"Sonoma-Marin Area Rail Transit District\", \"caltrans_district\": \"04 - Oakland\", \"drmt_organization_name\": null, \"cutoff2\": 19.8, \"cutoff\": 0}, {\"calitp_itp_id\": 315, \"trip_key\": 1735827063190404904, \"trip_id\": \"t_1392467_b_29945_tn_0\", \"shape_id\": \"p_897680\", \"route_id\": \"14603\", \"service_hours\": 1.28, \"trip_first_departure_ts\": 57420, \"trip_last_arrival_ts\": 62040, \"departure_hour\": 15, \"time_of_day\": \"Midday\", \"p25\": 1.28, \"p50\": 1.3, \"p75\": 1.32, \"p50_trip\": 1, \"fastest_trip\": 0, \"car_duration_hours\": 1.06, \"competitive_route\": 1, \"bus_multiplier\": 1.21, \"bus_difference\": 13.2, \"num_trips\": 26, \"num_competitive\": 26, \"pct_trips_competitive\": 1.0, \"bus_difference_spread\": 2.4, \"route_group\": \"medium\", \"max_trip_hrs\": 1.32, \"max_trip_route_group\": 1.32, \"name\": \"Sonoma-Marin Area Rail Transit District\", \"caltrans_district\": \"04 - Oakland\", \"drmt_organization_name\": null, \"cutoff2\": 19.8, \"cutoff\": 0}, {\"calitp_itp_id\": 315, \"trip_key\": -4530425533812236016, \"trip_id\": \"t_1392473_b_29945_tn_0\", \"shape_id\": \"p_897680\", \"route_id\": \"14603\", \"service_hours\": 1.28, \"trip_first_departure_ts\": 61260, \"trip_last_arrival_ts\": 65880, \"departure_hour\": 17, \"time_of_day\": \"PM Peak\", \"p25\": 1.28, \"p50\": 1.3, \"p75\": 1.32, \"p50_trip\": 1, \"fastest_trip\": 0, \"car_duration_hours\": 1.06, \"competitive_route\": 1, \"bus_multiplier\": 1.21, \"bus_difference\": 13.2, \"num_trips\": 26, \"num_competitive\": 26, \"pct_trips_competitive\": 1.0, \"bus_difference_spread\": 2.4, \"route_group\": \"medium\", \"max_trip_hrs\": 1.32, \"max_trip_route_group\": 1.32, \"name\": \"Sonoma-Marin Area Rail Transit District\", \"caltrans_district\": \"04 - Oakland\", \"drmt_organization_name\": null, \"cutoff2\": 19.8, \"cutoff\": 0}, {\"calitp_itp_id\": 315, \"trip_key\": 4416217459538609298, \"trip_id\": \"t_1393966_b_29945_tn_0\", \"shape_id\": \"p_897680\", \"route_id\": \"14603\", \"service_hours\": 1.28, \"trip_first_departure_ts\": 67020, \"trip_last_arrival_ts\": 71640, \"departure_hour\": 18, \"time_of_day\": \"PM Peak\", \"p25\": 1.28, \"p50\": 1.3, \"p75\": 1.32, \"p50_trip\": 1, \"fastest_trip\": 0, \"car_duration_hours\": 1.06, \"competitive_route\": 1, \"bus_multiplier\": 1.21, \"bus_difference\": 13.2, \"num_trips\": 26, \"num_competitive\": 26, \"pct_trips_competitive\": 1.0, \"bus_difference_spread\": 2.4, \"route_group\": \"medium\", \"max_trip_hrs\": 1.32, \"max_trip_route_group\": 1.32, \"name\": \"Sonoma-Marin Area Rail Transit District\", \"caltrans_district\": \"04 - Oakland\", \"drmt_organization_name\": null, \"cutoff2\": 19.8, \"cutoff\": 0}, {\"calitp_itp_id\": 315, \"trip_key\": 8120940751543448040, \"trip_id\": \"t_1393963_b_29945_tn_0\", \"shape_id\": \"p_897680\", \"route_id\": \"14603\", \"service_hours\": 1.28, \"trip_first_departure_ts\": 35400, \"trip_last_arrival_ts\": 40020, \"departure_hour\": 9, \"time_of_day\": \"AM Peak\", \"p25\": 1.28, \"p50\": 1.3, \"p75\": 1.32, \"p50_trip\": 1, \"fastest_trip\": 0, \"car_duration_hours\": 1.06, \"competitive_route\": 1, \"bus_multiplier\": 1.21, \"bus_difference\": 13.2, \"num_trips\": 26, \"num_competitive\": 26, \"pct_trips_competitive\": 1.0, \"bus_difference_spread\": 2.4, \"route_group\": \"medium\", \"max_trip_hrs\": 1.32, \"max_trip_route_group\": 1.32, \"name\": \"Sonoma-Marin Area Rail Transit District\", \"caltrans_district\": \"04 - Oakland\", \"drmt_organization_name\": null, \"cutoff2\": 19.8, \"cutoff\": 0}, {\"calitp_itp_id\": 315, \"trip_key\": 2632550913309822662, \"trip_id\": \"t_1392464_b_29945_tn_0\", \"shape_id\": \"p_897680\", \"route_id\": \"14603\", \"service_hours\": 1.28, \"trip_first_departure_ts\": 23880, \"trip_last_arrival_ts\": 28500, \"departure_hour\": 6, \"time_of_day\": \"Owl Service\", \"p25\": 1.28, \"p50\": 1.3, \"p75\": 1.32, \"p50_trip\": 1, \"fastest_trip\": 0, \"car_duration_hours\": 1.06, \"competitive_route\": 1, \"bus_multiplier\": 1.21, \"bus_difference\": 13.2, \"num_trips\": 26, \"num_competitive\": 26, \"pct_trips_competitive\": 1.0, \"bus_difference_spread\": 2.4, \"route_group\": \"medium\", \"max_trip_hrs\": 1.32, \"max_trip_route_group\": 1.32, \"name\": \"Sonoma-Marin Area Rail Transit District\", \"caltrans_district\": \"04 - Oakland\", \"drmt_organization_name\": null, \"cutoff2\": 19.8, \"cutoff\": 0}, {\"calitp_itp_id\": 315, \"trip_key\": 6802809791036127853, \"trip_id\": \"t_1392461_b_29945_tn_0\", \"shape_id\": \"p_897680\", \"route_id\": \"14603\", \"service_hours\": 1.28, \"trip_first_departure_ts\": 31560, \"trip_last_arrival_ts\": 36180, \"departure_hour\": 8, \"time_of_day\": \"AM Peak\", \"p25\": 1.28, \"p50\": 1.3, \"p75\": 1.32, \"p50_trip\": 1, \"fastest_trip\": 0, \"car_duration_hours\": 1.06, \"competitive_route\": 1, \"bus_multiplier\": 1.21, \"bus_difference\": 13.2, \"num_trips\": 26, \"num_competitive\": 26, \"pct_trips_competitive\": 1.0, \"bus_difference_spread\": 2.4, \"route_group\": \"medium\", \"max_trip_hrs\": 1.32, \"max_trip_route_group\": 1.32, \"name\": \"Sonoma-Marin Area Rail Transit District\", \"caltrans_district\": \"04 - Oakland\", \"drmt_organization_name\": null, \"cutoff2\": 19.8, \"cutoff\": 0}, {\"calitp_itp_id\": 315, \"trip_key\": 6495353743784580393, \"trip_id\": \"t_1392471_b_29945_tn_0\", \"shape_id\": \"p_897680\", \"route_id\": \"14603\", \"service_hours\": 1.28, \"trip_first_departure_ts\": 27720, \"trip_last_arrival_ts\": 32340, \"departure_hour\": 7, \"time_of_day\": \"AM Peak\", \"p25\": 1.28, \"p50\": 1.3, \"p75\": 1.32, \"p50_trip\": 1, \"fastest_trip\": 0, \"car_duration_hours\": 1.06, \"competitive_route\": 1, \"bus_multiplier\": 1.21, \"bus_difference\": 13.2, \"num_trips\": 26, \"num_competitive\": 26, \"pct_trips_competitive\": 1.0, \"bus_difference_spread\": 2.4, \"route_group\": \"medium\", \"max_trip_hrs\": 1.32, \"max_trip_route_group\": 1.32, \"name\": \"Sonoma-Marin Area Rail Transit District\", \"caltrans_district\": \"04 - Oakland\", \"drmt_organization_name\": null, \"cutoff2\": 19.8, \"cutoff\": 0}, {\"calitp_itp_id\": 315, \"trip_key\": 1609341664702902210, \"trip_id\": \"t_1393965_b_29945_tn_0\", \"shape_id\": \"p_897680\", \"route_id\": \"14603\", \"service_hours\": 1.28, \"trip_first_departure_ts\": 63180, \"trip_last_arrival_ts\": 67800, \"departure_hour\": 17, \"time_of_day\": \"PM Peak\", \"p25\": 1.28, \"p50\": 1.3, \"p75\": 1.32, \"p50_trip\": 1, \"fastest_trip\": 0, \"car_duration_hours\": 1.06, \"competitive_route\": 1, \"bus_multiplier\": 1.21, \"bus_difference\": 13.2, \"num_trips\": 26, \"num_competitive\": 26, \"pct_trips_competitive\": 1.0, \"bus_difference_spread\": 2.4, \"route_group\": \"medium\", \"max_trip_hrs\": 1.32, \"max_trip_route_group\": 1.32, \"name\": \"Sonoma-Marin Area Rail Transit District\", \"caltrans_district\": \"04 - Oakland\", \"drmt_organization_name\": null, \"cutoff2\": 19.8, \"cutoff\": 0}, {\"calitp_itp_id\": 315, \"trip_key\": -8263158080782040151, \"trip_id\": \"t_1393968_b_29945_tn_0\", \"shape_id\": \"p_897680\", \"route_id\": \"14603\", \"service_hours\": 1.28, \"trip_first_departure_ts\": 73740, \"trip_last_arrival_ts\": 78360, \"departure_hour\": 20, \"time_of_day\": \"Owl Service\", \"p25\": 1.28, \"p50\": 1.3, \"p75\": 1.32, \"p50_trip\": 1, \"fastest_trip\": 1, \"car_duration_hours\": 1.06, \"competitive_route\": 1, \"bus_multiplier\": 1.21, \"bus_difference\": 13.2, \"num_trips\": 26, \"num_competitive\": 26, \"pct_trips_competitive\": 1.0, \"bus_difference_spread\": 2.4, \"route_group\": \"medium\", \"max_trip_hrs\": 1.32, \"max_trip_route_group\": 1.32, \"name\": \"Sonoma-Marin Area Rail Transit District\", \"caltrans_district\": \"04 - Oakland\", \"drmt_organization_name\": null, \"cutoff2\": 19.8, \"cutoff\": 0}, {\"calitp_itp_id\": 315, \"trip_key\": 127097272520024760, \"trip_id\": \"t_1392462_b_29945_tn_0\", \"shape_id\": \"p_897680\", \"route_id\": \"14603\", \"service_hours\": 1.28, \"trip_first_departure_ts\": 53580, \"trip_last_arrival_ts\": 58200, \"departure_hour\": 14, \"time_of_day\": \"Midday\", \"p25\": 1.28, \"p50\": 1.3, \"p75\": 1.32, \"p50_trip\": 1, \"fastest_trip\": 0, \"car_duration_hours\": 1.06, \"competitive_route\": 1, \"bus_multiplier\": 1.21, \"bus_difference\": 13.2, \"num_trips\": 26, \"num_competitive\": 26, \"pct_trips_competitive\": 1.0, \"bus_difference_spread\": 2.4, \"route_group\": \"medium\", \"max_trip_hrs\": 1.32, \"max_trip_route_group\": 1.32, \"name\": \"Sonoma-Marin Area Rail Transit District\", \"caltrans_district\": \"04 - Oakland\", \"drmt_organization_name\": null, \"cutoff2\": 19.8, \"cutoff\": 0}, {\"calitp_itp_id\": 315, \"trip_key\": -6076402591735573870, \"trip_id\": \"t_1393964_b_29945_tn_0\", \"shape_id\": \"p_897680\", \"route_id\": \"14603\", \"service_hours\": 1.28, \"trip_first_departure_ts\": 39240, \"trip_last_arrival_ts\": 43860, \"departure_hour\": 10, \"time_of_day\": \"Midday\", \"p25\": 1.28, \"p50\": 1.3, \"p75\": 1.32, \"p50_trip\": 1, \"fastest_trip\": 0, \"car_duration_hours\": 1.06, \"competitive_route\": 1, \"bus_multiplier\": 1.21, \"bus_difference\": 13.2, \"num_trips\": 26, \"num_competitive\": 26, \"pct_trips_competitive\": 1.0, \"bus_difference_spread\": 2.4, \"route_group\": \"medium\", \"max_trip_hrs\": 1.32, \"max_trip_route_group\": 1.32, \"name\": \"Sonoma-Marin Area Rail Transit District\", \"caltrans_district\": \"04 - Oakland\", \"drmt_organization_name\": null, \"cutoff2\": 19.8, \"cutoff\": 0}, {\"calitp_itp_id\": 315, \"trip_key\": -7679924680753058571, \"trip_id\": \"t_1393967_b_29945_tn_0\", \"shape_id\": \"p_897680\", \"route_id\": \"14603\", \"service_hours\": 1.28, \"trip_first_departure_ts\": 68940, \"trip_last_arrival_ts\": 73560, \"departure_hour\": 19, \"time_of_day\": \"PM Peak\", \"p25\": 1.28, \"p50\": 1.3, \"p75\": 1.32, \"p50_trip\": 1, \"fastest_trip\": 0, \"car_duration_hours\": 1.06, \"competitive_route\": 1, \"bus_multiplier\": 1.21, \"bus_difference\": 13.2, \"num_trips\": 26, \"num_competitive\": 26, \"pct_trips_competitive\": 1.0, \"bus_difference_spread\": 2.4, \"route_group\": \"medium\", \"max_trip_hrs\": 1.32, \"max_trip_route_group\": 1.32, \"name\": \"Sonoma-Marin Area Rail Transit District\", \"caltrans_district\": \"04 - Oakland\", \"drmt_organization_name\": null, \"cutoff2\": 19.8, \"cutoff\": 0}, {\"calitp_itp_id\": 315, \"trip_key\": 8042410948887511611, \"trip_id\": \"t_1392470_b_29945_tn_0\", \"shape_id\": \"p_897679\", \"route_id\": \"14603\", \"service_hours\": 1.32, \"trip_first_departure_ts\": 18120, \"trip_last_arrival_ts\": 22860, \"departure_hour\": 5, \"time_of_day\": \"Owl Service\", \"p25\": 1.28, \"p50\": 1.3, \"p75\": 1.32, \"p50_trip\": 1, \"fastest_trip\": 0, \"car_duration_hours\": 1.06, \"competitive_route\": 1, \"bus_multiplier\": 1.25, \"bus_difference\": 15.6, \"num_trips\": 26, \"num_competitive\": 26, \"pct_trips_competitive\": 1.0, \"bus_difference_spread\": 2.4, \"route_group\": \"medium\", \"max_trip_hrs\": 1.32, \"max_trip_route_group\": 1.32, \"name\": \"Sonoma-Marin Area Rail Transit District\", \"caltrans_district\": \"04 - Oakland\", \"drmt_organization_name\": null, \"cutoff2\": 19.8, \"cutoff\": 0}, {\"calitp_itp_id\": 315, \"trip_key\": -6250214341598805462, \"trip_id\": \"t_1392476_b_29945_tn_0\", \"shape_id\": \"p_897679\", \"route_id\": \"14603\", \"service_hours\": 1.32, \"trip_first_departure_ts\": 61260, \"trip_last_arrival_ts\": 66000, \"departure_hour\": 17, \"time_of_day\": \"PM Peak\", \"p25\": 1.28, \"p50\": 1.3, \"p75\": 1.32, \"p50_trip\": 1, \"fastest_trip\": 0, \"car_duration_hours\": 1.06, \"competitive_route\": 1, \"bus_multiplier\": 1.25, \"bus_difference\": 15.6, \"num_trips\": 26, \"num_competitive\": 26, \"pct_trips_competitive\": 1.0, \"bus_difference_spread\": 2.4, \"route_group\": \"medium\", \"max_trip_hrs\": 1.32, \"max_trip_route_group\": 1.32, \"name\": \"Sonoma-Marin Area Rail Transit District\", \"caltrans_district\": \"04 - Oakland\", \"drmt_organization_name\": null, \"cutoff2\": 19.8, \"cutoff\": 0}, {\"calitp_itp_id\": 315, \"trip_key\": -3221434820576757972, \"trip_id\": \"t_1393961_b_29945_tn_0\", \"shape_id\": \"p_897679\", \"route_id\": \"14603\", \"service_hours\": 1.32, \"trip_first_departure_ts\": 63180, \"trip_last_arrival_ts\": 67920, \"departure_hour\": 17, \"time_of_day\": \"PM Peak\", \"p25\": 1.28, \"p50\": 1.3, \"p75\": 1.32, \"p50_trip\": 1, \"fastest_trip\": 0, \"car_duration_hours\": 1.06, \"competitive_route\": 1, \"bus_multiplier\": 1.25, \"bus_difference\": 15.6, \"num_trips\": 26, \"num_competitive\": 26, \"pct_trips_competitive\": 1.0, \"bus_difference_spread\": 2.4, \"route_group\": \"medium\", \"max_trip_hrs\": 1.32, \"max_trip_route_group\": 1.32, \"name\": \"Sonoma-Marin Area Rail Transit District\", \"caltrans_district\": \"04 - Oakland\", \"drmt_organization_name\": null, \"cutoff2\": 19.8, \"cutoff\": 0}, {\"calitp_itp_id\": 315, \"trip_key\": 847657270131198076, \"trip_id\": \"t_1392475_b_29945_tn_0\", \"shape_id\": \"p_897679\", \"route_id\": \"14603\", \"service_hours\": 1.32, \"trip_first_departure_ts\": 55500, \"trip_last_arrival_ts\": 60240, \"departure_hour\": 15, \"time_of_day\": \"Midday\", \"p25\": 1.28, \"p50\": 1.3, \"p75\": 1.32, \"p50_trip\": 1, \"fastest_trip\": 0, \"car_duration_hours\": 1.06, \"competitive_route\": 1, \"bus_multiplier\": 1.25, \"bus_difference\": 15.6, \"num_trips\": 26, \"num_competitive\": 26, \"pct_trips_competitive\": 1.0, \"bus_difference_spread\": 2.4, \"route_group\": \"medium\", \"max_trip_hrs\": 1.32, \"max_trip_route_group\": 1.32, \"name\": \"Sonoma-Marin Area Rail Transit District\", \"caltrans_district\": \"04 - Oakland\", \"drmt_organization_name\": null, \"cutoff2\": 19.8, \"cutoff\": 0}, {\"calitp_itp_id\": 315, \"trip_key\": 1508906164604499980, \"trip_id\": \"t_1392527_b_29945_tn_0\", \"shape_id\": \"p_897679\", \"route_id\": \"14603\", \"service_hours\": 1.32, \"trip_first_departure_ts\": 29640, \"trip_last_arrival_ts\": 34380, \"departure_hour\": 8, \"time_of_day\": \"AM Peak\", \"p25\": 1.28, \"p50\": 1.3, \"p75\": 1.32, \"p50_trip\": 1, \"fastest_trip\": 0, \"car_duration_hours\": 1.06, \"competitive_route\": 1, \"bus_multiplier\": 1.25, \"bus_difference\": 15.6, \"num_trips\": 26, \"num_competitive\": 26, \"pct_trips_competitive\": 1.0, \"bus_difference_spread\": 2.4, \"route_group\": \"medium\", \"max_trip_hrs\": 1.32, \"max_trip_route_group\": 1.32, \"name\": \"Sonoma-Marin Area Rail Transit District\", \"caltrans_district\": \"04 - Oakland\", \"drmt_organization_name\": null, \"cutoff2\": 19.8, \"cutoff\": 0}, {\"calitp_itp_id\": 315, \"trip_key\": -3765371430898950633, \"trip_id\": \"t_1393960_b_29945_tn_0\", \"shape_id\": \"p_897679\", \"route_id\": \"14603\", \"service_hours\": 1.32, \"trip_first_departure_ts\": 57420, \"trip_last_arrival_ts\": 62160, \"departure_hour\": 15, \"time_of_day\": \"Midday\", \"p25\": 1.28, \"p50\": 1.3, \"p75\": 1.32, \"p50_trip\": 1, \"fastest_trip\": 0, \"car_duration_hours\": 1.06, \"competitive_route\": 1, \"bus_multiplier\": 1.25, \"bus_difference\": 15.6, \"num_trips\": 26, \"num_competitive\": 26, \"pct_trips_competitive\": 1.0, \"bus_difference_spread\": 2.4, \"route_group\": \"medium\", \"max_trip_hrs\": 1.32, \"max_trip_route_group\": 1.32, \"name\": \"Sonoma-Marin Area Rail Transit District\", \"caltrans_district\": \"04 - Oakland\", \"drmt_organization_name\": null, \"cutoff2\": 19.8, \"cutoff\": 0}, {\"calitp_itp_id\": 315, \"trip_key\": -1402756052860708428, \"trip_id\": \"t_1392465_b_29945_tn_0\", \"shape_id\": \"p_897679\", \"route_id\": \"14603\", \"service_hours\": 1.32, \"trip_first_departure_ts\": 45900, \"trip_last_arrival_ts\": 50640, \"departure_hour\": 12, \"time_of_day\": \"Midday\", \"p25\": 1.28, \"p50\": 1.3, \"p75\": 1.32, \"p50_trip\": 1, \"fastest_trip\": 0, \"car_duration_hours\": 1.06, \"competitive_route\": 1, \"bus_multiplier\": 1.25, \"bus_difference\": 15.6, \"num_trips\": 26, \"num_competitive\": 26, \"pct_trips_competitive\": 1.0, \"bus_difference_spread\": 2.4, \"route_group\": \"medium\", \"max_trip_hrs\": 1.32, \"max_trip_route_group\": 1.32, \"name\": \"Sonoma-Marin Area Rail Transit District\", \"caltrans_district\": \"04 - Oakland\", \"drmt_organization_name\": null, \"cutoff2\": 19.8, \"cutoff\": 0}, {\"calitp_itp_id\": 315, \"trip_key\": 5264278191689977910, \"trip_id\": \"t_1393959_b_29945_tn_0\", \"shape_id\": \"p_897679\", \"route_id\": \"14603\", \"service_hours\": 1.32, \"trip_first_departure_ts\": 33480, \"trip_last_arrival_ts\": 38220, \"departure_hour\": 9, \"time_of_day\": \"AM Peak\", \"p25\": 1.28, \"p50\": 1.3, \"p75\": 1.32, \"p50_trip\": 1, \"fastest_trip\": 0, \"car_duration_hours\": 1.06, \"competitive_route\": 1, \"bus_multiplier\": 1.25, \"bus_difference\": 15.6, \"num_trips\": 26, \"num_competitive\": 26, \"pct_trips_competitive\": 1.0, \"bus_difference_spread\": 2.4, \"route_group\": \"medium\", \"max_trip_hrs\": 1.32, \"max_trip_route_group\": 1.32, \"name\": \"Sonoma-Marin Area Rail Transit District\", \"caltrans_district\": \"04 - Oakland\", \"drmt_organization_name\": null, \"cutoff2\": 19.8, \"cutoff\": 0}, {\"calitp_itp_id\": 315, \"trip_key\": -6024192529033420009, \"trip_id\": \"t_1392463_b_29945_tn_0\", \"shape_id\": \"p_897679\", \"route_id\": \"14603\", \"service_hours\": 1.32, \"trip_first_departure_ts\": 25800, \"trip_last_arrival_ts\": 30540, \"departure_hour\": 7, \"time_of_day\": \"AM Peak\", \"p25\": 1.28, \"p50\": 1.3, \"p75\": 1.32, \"p50_trip\": 1, \"fastest_trip\": 0, \"car_duration_hours\": 1.06, \"competitive_route\": 1, \"bus_multiplier\": 1.25, \"bus_difference\": 15.6, \"num_trips\": 26, \"num_competitive\": 26, \"pct_trips_competitive\": 1.0, \"bus_difference_spread\": 2.4, \"route_group\": \"medium\", \"max_trip_hrs\": 1.32, \"max_trip_route_group\": 1.32, \"name\": \"Sonoma-Marin Area Rail Transit District\", \"caltrans_district\": \"04 - Oakland\", \"drmt_organization_name\": null, \"cutoff2\": 19.8, \"cutoff\": 0}, {\"calitp_itp_id\": 315, \"trip_key\": -8545403379171561135, \"trip_id\": \"t_1392472_b_29945_tn_0\", \"shape_id\": \"p_897679\", \"route_id\": \"14603\", \"service_hours\": 1.32, \"trip_first_departure_ts\": 21960, \"trip_last_arrival_ts\": 26700, \"departure_hour\": 6, \"time_of_day\": \"Owl Service\", \"p25\": 1.28, \"p50\": 1.3, \"p75\": 1.32, \"p50_trip\": 1, \"fastest_trip\": 0, \"car_duration_hours\": 1.06, \"competitive_route\": 1, \"bus_multiplier\": 1.25, \"bus_difference\": 15.6, \"num_trips\": 26, \"num_competitive\": 26, \"pct_trips_competitive\": 1.0, \"bus_difference_spread\": 2.4, \"route_group\": \"medium\", \"max_trip_hrs\": 1.32, \"max_trip_route_group\": 1.32, \"name\": \"Sonoma-Marin Area Rail Transit District\", \"caltrans_district\": \"04 - Oakland\", \"drmt_organization_name\": null, \"cutoff2\": 19.8, \"cutoff\": 0}, {\"calitp_itp_id\": 315, \"trip_key\": 1160413989443729943, \"trip_id\": \"t_1393962_b_29945_tn_0\", \"shape_id\": \"p_897679\", \"route_id\": \"14603\", \"service_hours\": 1.32, \"trip_first_departure_ts\": 67020, \"trip_last_arrival_ts\": 71760, \"departure_hour\": 18, \"time_of_day\": \"PM Peak\", \"p25\": 1.28, \"p50\": 1.3, \"p75\": 1.32, \"p50_trip\": 1, \"fastest_trip\": 0, \"car_duration_hours\": 1.06, \"competitive_route\": 1, \"bus_multiplier\": 1.25, \"bus_difference\": 15.6, \"num_trips\": 26, \"num_competitive\": 26, \"pct_trips_competitive\": 1.0, \"bus_difference_spread\": 2.4, \"route_group\": \"medium\", \"max_trip_hrs\": 1.32, \"max_trip_route_group\": 1.32, \"name\": \"Sonoma-Marin Area Rail Transit District\", \"caltrans_district\": \"04 - Oakland\", \"drmt_organization_name\": null, \"cutoff2\": 19.8, \"cutoff\": 0}, {\"calitp_itp_id\": 315, \"trip_key\": 8162541205591486193, \"trip_id\": \"t_1392469_b_29945_tn_0\", \"shape_id\": \"p_897679\", \"route_id\": \"14603\", \"service_hours\": 1.32, \"trip_first_departure_ts\": 47820, \"trip_last_arrival_ts\": 52560, \"departure_hour\": 13, \"time_of_day\": \"Midday\", \"p25\": 1.28, \"p50\": 1.3, \"p75\": 1.32, \"p50_trip\": 1, \"fastest_trip\": 0, \"car_duration_hours\": 1.06, \"competitive_route\": 1, \"bus_multiplier\": 1.25, \"bus_difference\": 15.6, \"num_trips\": 26, \"num_competitive\": 26, \"pct_trips_competitive\": 1.0, \"bus_difference_spread\": 2.4, \"route_group\": \"medium\", \"max_trip_hrs\": 1.32, \"max_trip_route_group\": 1.32, \"name\": \"Sonoma-Marin Area Rail Transit District\", \"caltrans_district\": \"04 - Oakland\", \"drmt_organization_name\": null, \"cutoff2\": 19.8, \"cutoff\": 0}, {\"calitp_itp_id\": 315, \"trip_key\": -8490856891956538853, \"trip_id\": \"t_1392466_b_29945_tn_0\", \"shape_id\": \"p_897679\", \"route_id\": \"14603\", \"service_hours\": 1.32, \"trip_first_departure_ts\": 51660, \"trip_last_arrival_ts\": 56400, \"departure_hour\": 14, \"time_of_day\": \"Midday\", \"p25\": 1.28, \"p50\": 1.3, \"p75\": 1.32, \"p50_trip\": 1, \"fastest_trip\": 0, \"car_duration_hours\": 1.06, \"competitive_route\": 1, \"bus_multiplier\": 1.25, \"bus_difference\": 15.6, \"num_trips\": 26, \"num_competitive\": 26, \"pct_trips_competitive\": 1.0, \"bus_difference_spread\": 2.4, \"route_group\": \"medium\", \"max_trip_hrs\": 1.32, \"max_trip_route_group\": 1.32, \"name\": \"Sonoma-Marin Area Rail Transit District\", \"caltrans_district\": \"04 - Oakland\", \"drmt_organization_name\": null, \"cutoff2\": 19.8, \"cutoff\": 0}]}}, {\"mode\": \"vega-lite\"});\n",
       "</script>"
      ],
      "text/plain": [
       "alt.FacetChart(...)"
      ]
     },
     "metadata": {},
     "output_type": "display_data"
    }
   ],
   "source": [
    "route_group = \"medium\"\n",
    "try:\n",
    "    subset_routes, mult, diff  = setup_charts(df, PCT_COMPETITIVE_THRESHOLD, route_group)\n",
    "    if len(subset_routes) > 0:\n",
    "        display(\n",
    "            Markdown(\n",
    "                f\"{CAPTIONS_DICT[route_group]}\"\n",
    "                \"Within each route group, routes are sorted in descending order \"\n",
    "                \"by % competitive trips and # trips below the additional time cut-off.\"\n",
    "            )\n",
    "        )\n",
    "\n",
    "        display(mult)\n",
    "        display(diff)\n",
    "except:\n",
    "    print(\"No routes meet this criteria.\")"
   ]
  },
  {
   "cell_type": "markdown",
   "id": "124b76d0-886c-4d03-92ac-f1bda3cda182",
   "metadata": {
    "papermill": {
     "duration": 0.015538,
     "end_time": "2022-05-07T17:07:55.660630",
     "exception": false,
     "start_time": "2022-05-07T17:07:55.645092",
     "status": "completed"
    },
    "tags": []
   },
   "source": [
    "### Long Routes (> 1.5 hrs)"
   ]
  },
  {
   "cell_type": "code",
   "execution_count": 14,
   "id": "ddc81b19-4c45-4c81-8b7a-5e0f394aa7a3",
   "metadata": {
    "execution": {
     "iopub.execute_input": "2022-05-07T17:07:55.690167Z",
     "iopub.status.busy": "2022-05-07T17:07:55.689849Z",
     "iopub.status.idle": "2022-05-07T17:07:55.711433Z",
     "shell.execute_reply": "2022-05-07T17:07:55.710488Z"
    },
    "jupyter": {
     "source_hidden": true
    },
    "papermill": {
     "duration": 0.040084,
     "end_time": "2022-05-07T17:07:55.714771",
     "exception": false,
     "start_time": "2022-05-07T17:07:55.674687",
     "status": "completed"
    },
    "tags": [
     "remove_input"
    ]
   },
   "outputs": [
    {
     "name": "stdout",
     "output_type": "stream",
     "text": [
      "No routes meet this criteria.\n"
     ]
    }
   ],
   "source": [
    "route_group = \"long\"\n",
    "try:\n",
    "    subset_routes, mult, diff  = setup_charts(df, PCT_COMPETITIVE_THRESHOLD, route_group)\n",
    "    if len(subset_routes) > 0:\n",
    "        display(\n",
    "            Markdown(\n",
    "                f\"{CAPTIONS_DICT[route_group]}\"\n",
    "                \"Within each route group, routes are sorted in descending order \"\n",
    "                \"by % competitive trips and # trips below the additional time cut-off.\"\n",
    "            )\n",
    "        )\n",
    "\n",
    "        display(mult)\n",
    "        display(diff)\n",
    "except:\n",
    "    print(\"No routes meet this criteria.\")"
   ]
  }
 ],
 "metadata": {
  "kernelspec": {
   "display_name": "Python 3 (ipykernel)",
   "language": "python",
   "name": "python3"
  },
  "language_info": {
   "codemirror_mode": {
    "name": "ipython",
    "version": 3
   },
   "file_extension": ".py",
   "mimetype": "text/x-python",
   "name": "python",
   "nbconvert_exporter": "python",
   "pygments_lexer": "ipython3",
   "version": "3.9.12"
  },
  "papermill": {
   "default_parameters": {},
   "duration": 22.685398,
   "end_time": "2022-05-07T17:07:56.852376",
   "environment_variables": {},
   "exception": null,
   "input_path": "bus_service_increase/stripplot.ipynb",
   "output_path": "portfolio/parallel_corridors/district_04-oakland/stripplot__itp_id_315.ipynb",
   "parameters": {
    "district": "04 - Oakland",
    "itp_id": 315
   },
   "start_time": "2022-05-07T17:07:34.166978",
   "version": "2.3.4"
  }
 },
 "nbformat": 4,
 "nbformat_minor": 5
}