{
 "cells": [
  {
   "cell_type": "code",
   "execution_count": 1,
   "id": "95d00857-6a20-4529-a519-2cc7182928a9",
   "metadata": {
    "execution": {
     "iopub.execute_input": "2022-05-08T15:50:54.056273Z",
     "iopub.status.busy": "2022-05-08T15:50:54.055721Z",
     "iopub.status.idle": "2022-05-08T15:51:01.681150Z",
     "shell.execute_reply": "2022-05-08T15:51:01.680555Z"
    },
    "jupyter": {
     "source_hidden": true
    },
    "papermill": {
     "duration": 7.640719,
     "end_time": "2022-05-08T15:51:01.683501",
     "exception": false,
     "start_time": "2022-05-08T15:50:54.042782",
     "status": "completed"
    },
    "tags": [
     "remove_input"
    ]
   },
   "outputs": [],
   "source": [
    "%%capture\n",
    "import warnings\n",
    "warnings.filterwarnings('ignore')\n",
    "\n",
    "import altair as alt\n",
    "import calitp.magics\n",
    "import geopandas as gpd\n",
    "import intake\n",
    "import pandas as pd\n",
    "\n",
    "from IPython.display import display, Markdown, HTML\n",
    "\n",
    "import parallel_corridors_utils\n",
    "from shared_utils import styleguide\n",
    "\n",
    "catalog = intake.open_catalog(\"./*.yml\")\n",
    "alt.renderers.enable(\"html\")"
   ]
  },
  {
   "cell_type": "code",
   "execution_count": 2,
   "id": "8af2a0c1-f3da-408d-9bea-11d9fbf8695d",
   "metadata": {
    "execution": {
     "iopub.execute_input": "2022-05-08T15:51:01.706103Z",
     "iopub.status.busy": "2022-05-08T15:51:01.705258Z",
     "iopub.status.idle": "2022-05-08T15:51:01.710392Z",
     "shell.execute_reply": "2022-05-08T15:51:01.709619Z"
    },
    "jupyter": {
     "source_hidden": true
    },
    "papermill": {
     "duration": 0.017792,
     "end_time": "2022-05-08T15:51:01.712115",
     "exception": false,
     "start_time": "2022-05-08T15:51:01.694323",
     "status": "completed"
    },
    "tags": [
     "parameters",
     "remove_input"
    ]
   },
   "outputs": [],
   "source": [
    "# parameters cell\n",
    "itp_id = 182"
   ]
  },
  {
   "cell_type": "code",
   "execution_count": 3,
   "id": "64b5f6f6",
   "metadata": {
    "execution": {
     "iopub.execute_input": "2022-05-08T15:51:01.733220Z",
     "iopub.status.busy": "2022-05-08T15:51:01.732514Z",
     "iopub.status.idle": "2022-05-08T15:51:01.736423Z",
     "shell.execute_reply": "2022-05-08T15:51:01.735954Z"
    },
    "jupyter": {
     "source_hidden": true
    },
    "papermill": {
     "duration": 0.016391,
     "end_time": "2022-05-08T15:51:01.738017",
     "exception": false,
     "start_time": "2022-05-08T15:51:01.721626",
     "status": "completed"
    },
    "tags": [
     "injected-parameters",
     "remove_input"
    ]
   },
   "outputs": [],
   "source": [
    "# Parameters\n",
    "district = \"04 - Oakland\"\n",
    "itp_id = 247\n"
   ]
  },
  {
   "cell_type": "code",
   "execution_count": 4,
   "id": "9582aaf4-79ff-412a-b248-8d8d693ebd4f",
   "metadata": {
    "execution": {
     "iopub.execute_input": "2022-05-08T15:51:01.759518Z",
     "iopub.status.busy": "2022-05-08T15:51:01.758586Z",
     "iopub.status.idle": "2022-05-08T15:51:02.980052Z",
     "shell.execute_reply": "2022-05-08T15:51:02.978855Z"
    },
    "jupyter": {
     "source_hidden": true
    },
    "papermill": {
     "duration": 1.235754,
     "end_time": "2022-05-08T15:51:02.983542",
     "exception": false,
     "start_time": "2022-05-08T15:51:01.747788",
     "status": "completed"
    },
    "tags": [
     "remove_input"
    ]
   },
   "outputs": [],
   "source": [
    "df = catalog.competitive_route_variability.read()\n",
    "\n",
    "df = (df[(df.calitp_itp_id == itp_id) & \n",
    "         (df.route_group.notna())]\n",
    "      .reset_index(drop=True)\n",
    "     )\n",
    "\n",
    "\n",
    "if itp_id == 182:\n",
    "    df = df.assign(\n",
    "        route_id = df.route_id.str.replace('-13153', '').astype(int)\n",
    "    )"
   ]
  },
  {
   "cell_type": "code",
   "execution_count": 5,
   "id": "33ac4b06-f647-4dce-a625-8f2c1b37cc60",
   "metadata": {
    "execution": {
     "iopub.execute_input": "2022-05-08T15:51:03.005650Z",
     "iopub.status.busy": "2022-05-08T15:51:03.005217Z",
     "iopub.status.idle": "2022-05-08T15:51:03.011213Z",
     "shell.execute_reply": "2022-05-08T15:51:03.010345Z"
    },
    "jupyter": {
     "source_hidden": true
    },
    "papermill": {
     "duration": 0.020435,
     "end_time": "2022-05-08T15:51:03.014127",
     "exception": false,
     "start_time": "2022-05-08T15:51:02.993692",
     "status": "completed"
    },
    "tags": [
     "remove_input"
    ]
   },
   "outputs": [],
   "source": [
    "%%capture_parameters\n",
    "operator_name = df.name.iloc[0]\n",
    "\n",
    "itp_id, operator_name"
   ]
  },
  {
   "cell_type": "markdown",
   "id": "65bc6f5c-8348-42ee-b2dd-52057c406852",
   "metadata": {
    "papermill": {
     "duration": 0.009907,
     "end_time": "2022-05-08T15:51:03.034201",
     "exception": false,
     "start_time": "2022-05-08T15:51:03.024294",
     "status": "completed"
    },
    "tags": []
   },
   "source": [
    "# City of Petaluma (ITP ID: 247)"
   ]
  },
  {
   "cell_type": "code",
   "execution_count": 6,
   "id": "a689c1ab-2c6c-4831-8d64-897f5986f571",
   "metadata": {
    "execution": {
     "iopub.execute_input": "2022-05-08T15:51:03.056394Z",
     "iopub.status.busy": "2022-05-08T15:51:03.055792Z",
     "iopub.status.idle": "2022-05-08T15:51:03.061866Z",
     "shell.execute_reply": "2022-05-08T15:51:03.060973Z"
    },
    "jupyter": {
     "source_hidden": true
    },
    "papermill": {
     "duration": 0.019966,
     "end_time": "2022-05-08T15:51:03.064002",
     "exception": false,
     "start_time": "2022-05-08T15:51:03.044036",
     "status": "completed"
    },
    "tags": [
     "remove_input"
    ]
   },
   "outputs": [
    {
     "data": {
      "text/html": [
       "<h1>Competitive & Parallel Routes</h1>"
      ],
      "text/plain": [
       "<IPython.core.display.HTML object>"
      ]
     },
     "metadata": {},
     "output_type": "display_data"
    }
   ],
   "source": [
    "display(HTML(\"<h1>Competitive & Parallel Routes</h1>\")) "
   ]
  },
  {
   "cell_type": "code",
   "execution_count": 7,
   "id": "2cb4d8d5-4760-40e4-85b1-cb833d8bb648",
   "metadata": {
    "execution": {
     "iopub.execute_input": "2022-05-08T15:51:03.085693Z",
     "iopub.status.busy": "2022-05-08T15:51:03.085440Z",
     "iopub.status.idle": "2022-05-08T15:51:12.610552Z",
     "shell.execute_reply": "2022-05-08T15:51:12.609975Z"
    },
    "jupyter": {
     "source_hidden": true
    },
    "papermill": {
     "duration": 9.538446,
     "end_time": "2022-05-08T15:51:12.612489",
     "exception": false,
     "start_time": "2022-05-08T15:51:03.074043",
     "status": "completed"
    },
    "tags": [
     "remove_input"
    ]
   },
   "outputs": [],
   "source": [
    "# Grab parameters for narrative text - clean up formatting here \n",
    "district = df.caltrans_district.iloc[0]\n",
    "formatted_date = pd.to_datetime(parallel_corridors_utils.SELECTED_DATE).strftime('%m-%d-%Y')\n",
    "\n",
    "PCT_COMPETITIVE_THRESHOLD = 0.75\n",
    "\n",
    "stats = parallel_corridors_utils.operator_parallel_competitive_stats(\n",
    "    itp_id, PCT_COMPETITIVE_THRESHOLD)\n",
    "\n",
    "pct_parallel = round(stats['parallel_routes'] / stats['num_routes'] * 100,1 )\n",
    "pct_competitive =  round(stats['competitive_routes'] / stats['num_routes'] * 100,1 )"
   ]
  },
  {
   "cell_type": "markdown",
   "id": "ab667928-5274-4490-82d9-4c39293209a4",
   "metadata": {
    "papermill": {
     "duration": 0.010588,
     "end_time": "2022-05-08T15:51:12.635213",
     "exception": false,
     "start_time": "2022-05-08T15:51:12.624625",
     "status": "completed"
    },
    "tags": []
   },
   "source": [
    "## Quick Stats"
   ]
  },
  {
   "cell_type": "code",
   "execution_count": 8,
   "id": "0416509d-dc62-4165-b62e-64f8b26e8b8e",
   "metadata": {
    "execution": {
     "iopub.execute_input": "2022-05-08T15:51:12.657764Z",
     "iopub.status.busy": "2022-05-08T15:51:12.657001Z",
     "iopub.status.idle": "2022-05-08T15:51:12.663172Z",
     "shell.execute_reply": "2022-05-08T15:51:12.662306Z"
    },
    "jupyter": {
     "source_hidden": true
    },
    "papermill": {
     "duration": 0.020255,
     "end_time": "2022-05-08T15:51:12.665871",
     "exception": false,
     "start_time": "2022-05-08T15:51:12.645616",
     "status": "completed"
    },
    "tags": [
     "remove_input"
    ]
   },
   "outputs": [
    {
     "data": {
      "text/markdown": [
       "**Bus routes in service**: 24 <br>**Parallel routes** to State Highway Network (SHN): 6 routes (25.0%)<br>**Competitive routes** against car travel: 3 routes (12.5%)"
      ],
      "text/plain": [
       "<IPython.core.display.Markdown object>"
      ]
     },
     "metadata": {},
     "output_type": "display_data"
    }
   ],
   "source": [
    "display(\n",
    "    Markdown(\n",
    "        f\"**Bus routes in service**: {stats['num_routes']} \"\n",
    "        \"<br>**Parallel routes** to State Highway Network (SHN): \"\n",
    "        f\"{stats['parallel_routes']} routes ({pct_parallel}%)\"\n",
    "        f\"<br>**Competitive routes** against car travel: {stats['competitive_routes']} routes ({pct_competitive}%)\"\n",
    "    )\n",
    ")"
   ]
  },
  {
   "cell_type": "code",
   "execution_count": 9,
   "id": "f9d6ab58-f0ee-460c-b6de-657490e1f386",
   "metadata": {
    "execution": {
     "iopub.execute_input": "2022-05-08T15:51:12.688294Z",
     "iopub.status.busy": "2022-05-08T15:51:12.688083Z",
     "iopub.status.idle": "2022-05-08T15:51:12.696839Z",
     "shell.execute_reply": "2022-05-08T15:51:12.696354Z"
    },
    "jupyter": {
     "source_hidden": true
    },
    "papermill": {
     "duration": 0.021944,
     "end_time": "2022-05-08T15:51:12.698333",
     "exception": false,
     "start_time": "2022-05-08T15:51:12.676389",
     "status": "completed"
    },
    "tags": [
     "remove_input"
    ]
   },
   "outputs": [],
   "source": [
    "def set_yaxis_range(df, y_col):\n",
    "    Y_MIN = df[y_col].min()\n",
    "    Y_MAX = df[y_col].max()\n",
    "    \n",
    "    return Y_MIN, Y_MAX\n",
    "\n",
    "# Rather than set it according to the operator, which can vary,\n",
    "# just use set thresholds for each group\n",
    "diff_cutoffs = parallel_corridors_utils.diff_cutoffs\n",
    "\n",
    "PCT_TRIPS_BELOW_CUTOFF = 0.25\n",
    "\n",
    "def top15_routes(df, route_group):\n",
    "    df2 = (df[df.route_group==route_group])\n",
    "    # Set a cut-off to enable sorting, where most of the trips are \n",
    "    # below a certain time difference cut-off, \n",
    "    # grab top 15 routes where majority of trips are below that cut-off \n",
    "\n",
    "    route_cols = [\"calitp_itp_id\", \"route_id\"]\n",
    "\n",
    "    df2 = df2.assign(\n",
    "        below_cutoff = df2.apply(lambda x: 1 if x.bus_difference <= diff_cutoffs[route_group] \n",
    "                                 else 0, axis=1),\n",
    "        num_trips = df2.groupby(route_cols)[\"trip_id\"].transform(\"count\")\n",
    "    )\n",
    "\n",
    "    df2[\"below_cutoff\"] = df2.groupby(route_cols)[\"below_cutoff\"].transform(\"sum\")\n",
    "    df2[\"pct_below_cutoff\"] = df2.below_cutoff.divide(df2.num_trips)\n",
    "\n",
    "    # At least half the trips are below that cut-off\n",
    "    # but show 15 max, otherwise, show less, since these won't be as interesting to operators\n",
    "    df3 = (df2[df2.pct_below_cutoff >= PCT_TRIPS_BELOW_CUTOFF]\n",
    "           .sort_values([\"calitp_itp_id\", \"below_cutoff\", \n",
    "                         \"pct_below_cutoff\", \"route_id\"],\n",
    "                        ascending = [True, False, False, True]\n",
    "                       )\n",
    "           .drop_duplicates(subset=[\"calitp_itp_id\", \"route_id\"])\n",
    "          ).head(15)\n",
    "    \n",
    "    return list(df3.route_id)"
   ]
  },
  {
   "cell_type": "code",
   "execution_count": 10,
   "id": "cf36d559-3349-4144-8086-8ac9ce937a5a",
   "metadata": {
    "execution": {
     "iopub.execute_input": "2022-05-08T15:51:12.730636Z",
     "iopub.status.busy": "2022-05-08T15:51:12.730357Z",
     "iopub.status.idle": "2022-05-08T15:51:12.735603Z",
     "shell.execute_reply": "2022-05-08T15:51:12.735010Z"
    },
    "jupyter": {
     "source_hidden": true
    },
    "papermill": {
     "duration": 0.022558,
     "end_time": "2022-05-08T15:51:12.738109",
     "exception": false,
     "start_time": "2022-05-08T15:51:12.715551",
     "status": "completed"
    },
    "tags": [
     "remove_input"
    ]
   },
   "outputs": [],
   "source": [
    "short_caption = (\n",
    "    f\"<br>These are routes that have at least {int(PCT_TRIPS_BELOW_CUTOFF*100)}% of their trips \"\n",
    "    f\"take no more than an additional {diff_cutoffs['short']} min compared to a car \"\n",
    "    \"(up to 15 routes) are shown.\"\n",
    ")\n",
    "\n",
    "med_caption = (\n",
    "    f\"<br>These are routes that have at least {int(PCT_TRIPS_BELOW_CUTOFF*100)}% of their trips \"\n",
    "    f\"take no more than an additional {diff_cutoffs['medium']} min compared to a car \"\n",
    "    \"(up to 15 routes) are shown.\"\n",
    ")\n",
    "\n",
    "long_caption = (\n",
    "    f\"<br>These are routes that have at least {int(PCT_TRIPS_BELOW_CUTOFF*100)}% of their trips \"\n",
    "    f\"take no more than an additional {diff_cutoffs['long']} min compared to a car \"\n",
    "    \"(up to 15 routes) are shown.\")\n",
    "\n",
    "\n",
    "CAPTIONS_DICT = {\n",
    "    \"short\": short_caption,\n",
    "    \"medium\": med_caption,\n",
    "    \"long\": long_caption,\n",
    "}"
   ]
  },
  {
   "cell_type": "code",
   "execution_count": 11,
   "id": "e4306d58-6944-47e9-afef-5d5b524c751f",
   "metadata": {
    "execution": {
     "iopub.execute_input": "2022-05-08T15:51:12.768681Z",
     "iopub.status.busy": "2022-05-08T15:51:12.768384Z",
     "iopub.status.idle": "2022-05-08T15:51:12.774960Z",
     "shell.execute_reply": "2022-05-08T15:51:12.773952Z"
    },
    "jupyter": {
     "source_hidden": true
    },
    "papermill": {
     "duration": 0.020748,
     "end_time": "2022-05-08T15:51:12.777097",
     "exception": false,
     "start_time": "2022-05-08T15:51:12.756349",
     "status": "completed"
    },
    "tags": [
     "remove_input"
    ]
   },
   "outputs": [],
   "source": [
    "def setup_charts(df, PCT_COMPETITIVE_THRESHOLD, route_group):\n",
    "    # Set up df for charting (cut-off at some threshold to show most competitive routes)\n",
    "    plot_me = (df[df.pct_trips_competitive > PCT_COMPETITIVE_THRESHOLD]\n",
    "           .drop(columns = \"geometry\")\n",
    "    )\n",
    "    \n",
    "    y_col1 = \"bus_multiplier\"\n",
    "    Y_MIN1, Y_MAX1 = set_yaxis_range(plot_me, y_col1)\n",
    "\n",
    "    y_col2 = \"bus_difference\"\n",
    "    Y_MIN2, Y_MAX2 = set_yaxis_range(plot_me, y_col2)\n",
    "     \n",
    "    subset_routes = top15_routes(plot_me, route_group)\n",
    "    \n",
    "    multiplier_chart = parallel_corridors_utils.make_stripplot(\n",
    "        plot_me[plot_me.route_id.isin(subset_routes)], \n",
    "        y_col1, Y_MIN = Y_MIN1, Y_MAX = Y_MAX1\n",
    "    )\n",
    "    \n",
    "    difference_chart = parallel_corridors_utils.make_stripplot(\n",
    "        plot_me[plot_me.route_id.isin(subset_routes)], \n",
    "        y_col2, Y_MIN = Y_MIN2, Y_MAX = Y_MAX2\n",
    "    )\n",
    "    \n",
    "    return subset_routes, multiplier_chart, difference_chart            "
   ]
  },
  {
   "cell_type": "markdown",
   "id": "525f9b38-072b-46d1-96a8-1aa4b038357c",
   "metadata": {
    "papermill": {
     "duration": 0.030061,
     "end_time": "2022-05-08T15:51:12.817870",
     "exception": false,
     "start_time": "2022-05-08T15:51:12.787809",
     "status": "completed"
    },
    "tags": []
   },
   "source": [
    "## Viable Competitive Routes\n",
    "### Short Routes (< 1 hr)"
   ]
  },
  {
   "cell_type": "code",
   "execution_count": 12,
   "id": "57f7084c-2cf7-45c6-ba08-1609e0bd6ca5",
   "metadata": {
    "execution": {
     "iopub.execute_input": "2022-05-08T15:51:12.842556Z",
     "iopub.status.busy": "2022-05-08T15:51:12.842266Z",
     "iopub.status.idle": "2022-05-08T15:51:13.093066Z",
     "shell.execute_reply": "2022-05-08T15:51:13.092455Z"
    },
    "jupyter": {
     "source_hidden": true
    },
    "papermill": {
     "duration": 0.265318,
     "end_time": "2022-05-08T15:51:13.094973",
     "exception": false,
     "start_time": "2022-05-08T15:51:12.829655",
     "status": "completed"
    },
    "tags": [
     "remove_input"
    ]
   },
   "outputs": [
    {
     "data": {
      "text/markdown": [
       "<br>These are routes that have at least 25% of their trips take no more than an additional 20 min compared to a car (up to 15 routes) are shown.Within each route group, routes are sorted in descending order by % competitive trips and # trips below the additional time cut-off."
      ],
      "text/plain": [
       "<IPython.core.display.Markdown object>"
      ]
     },
     "metadata": {},
     "output_type": "display_data"
    },
    {
     "data": {
      "text/html": [
       "\n",
       "<div id=\"altair-viz-0a0a39fbfa18445983286b27f39b82b8\"></div>\n",
       "<script type=\"text/javascript\">\n",
       "  var VEGA_DEBUG = (typeof VEGA_DEBUG == \"undefined\") ? {} : VEGA_DEBUG;\n",
       "  (function(spec, embedOpt){\n",
       "    let outputDiv = document.currentScript.previousElementSibling;\n",
       "    if (outputDiv.id !== \"altair-viz-0a0a39fbfa18445983286b27f39b82b8\") {\n",
       "      outputDiv = document.getElementById(\"altair-viz-0a0a39fbfa18445983286b27f39b82b8\");\n",
       "    }\n",
       "    const paths = {\n",
       "      \"vega\": \"https://cdn.jsdelivr.net/npm//vega@5?noext\",\n",
       "      \"vega-lib\": \"https://cdn.jsdelivr.net/npm//vega-lib?noext\",\n",
       "      \"vega-lite\": \"https://cdn.jsdelivr.net/npm//vega-lite@4.17.0?noext\",\n",
       "      \"vega-embed\": \"https://cdn.jsdelivr.net/npm//vega-embed@6?noext\",\n",
       "    };\n",
       "\n",
       "    function maybeLoadScript(lib, version) {\n",
       "      var key = `${lib.replace(\"-\", \"\")}_version`;\n",
       "      return (VEGA_DEBUG[key] == version) ?\n",
       "        Promise.resolve(paths[lib]) :\n",
       "        new Promise(function(resolve, reject) {\n",
       "          var s = document.createElement('script');\n",
       "          document.getElementsByTagName(\"head\")[0].appendChild(s);\n",
       "          s.async = true;\n",
       "          s.onload = () => {\n",
       "            VEGA_DEBUG[key] = version;\n",
       "            return resolve(paths[lib]);\n",
       "          };\n",
       "          s.onerror = () => reject(`Error loading script: ${paths[lib]}`);\n",
       "          s.src = paths[lib];\n",
       "        });\n",
       "    }\n",
       "\n",
       "    function showError(err) {\n",
       "      outputDiv.innerHTML = `<div class=\"error\" style=\"color:red;\">${err}</div>`;\n",
       "      throw err;\n",
       "    }\n",
       "\n",
       "    function displayChart(vegaEmbed) {\n",
       "      vegaEmbed(outputDiv, spec, embedOpt)\n",
       "        .catch(err => showError(`Javascript Error: ${err.message}<br>This usually means there's a typo in your chart specification. See the javascript console for the full traceback.`));\n",
       "    }\n",
       "\n",
       "    if(typeof define === \"function\" && define.amd) {\n",
       "      requirejs.config({paths});\n",
       "      require([\"vega-embed\"], displayChart, err => showError(`Error loading script: ${err.message}`));\n",
       "    } else {\n",
       "      maybeLoadScript(\"vega\", \"5\")\n",
       "        .then(() => maybeLoadScript(\"vega-lite\", \"4.17.0\"))\n",
       "        .then(() => maybeLoadScript(\"vega-embed\", \"6\"))\n",
       "        .catch(showError)\n",
       "        .then(() => displayChart(vegaEmbed));\n",
       "    }\n",
       "  })({\"config\": {\"view\": {\"continuousWidth\": 400, \"continuousHeight\": 300, \"stroke\": null}, \"facet\": {\"spacing\": 0}}, \"data\": {\"name\": \"data-5a10f41f383ca4d9a10c240e66e071d9\"}, \"facet\": {\"column\": {\"field\": \"route_id\", \"sort\": [\"2037\", \"2038\"], \"title\": \"Route ID\", \"type\": \"nominal\"}}, \"spec\": {\"layer\": [{\"mark\": {\"type\": \"point\", \"opacity\": 0.65, \"size\": 12, \"strokeWidth\": 1.1}, \"encoding\": {\"color\": {\"field\": \"time_of_day\", \"scale\": {\"range\": [\"#136C97\", \"#E16B26\", \"#F6BF16\", \"#00896B\", \"#7790A3\", \"#5B559C\"]}, \"sort\": [\"AM Peak\", \"Midday\", \"PM Peak\", \"Owl Service\"], \"title\": \"Time of Day\", \"type\": \"nominal\"}, \"tooltip\": [{\"field\": \"route_id\", \"type\": \"nominal\"}, {\"field\": \"trip_id\", \"type\": \"nominal\"}, {\"field\": \"service_hours\", \"type\": \"quantitative\"}, {\"field\": \"car_duration_hours\", \"type\": \"quantitative\"}, {\"field\": \"bus_multiplier\", \"type\": \"quantitative\"}, {\"field\": \"bus_difference\", \"type\": \"quantitative\"}, {\"field\": \"num_trips\", \"type\": \"quantitative\"}, {\"field\": \"num_competitive\", \"type\": \"quantitative\"}, {\"field\": \"pct_trips_competitive\", \"type\": \"quantitative\"}, {\"field\": \"p25\", \"type\": \"quantitative\"}, {\"field\": \"p50\", \"type\": \"quantitative\"}, {\"field\": \"p75\", \"type\": \"quantitative\"}], \"x\": {\"axis\": {\"grid\": false, \"labels\": false, \"ticks\": true, \"values\": [0]}, \"field\": \"jitter\", \"scale\": {}, \"title\": null, \"type\": \"quantitative\"}, \"y\": {\"field\": \"bus_multiplier\", \"scale\": {\"domain\": [-0.25, 2.5]}, \"title\": \"Ratio of Bus to Car Travel Time\", \"type\": \"quantitative\"}}, \"selection\": {\"selector001\": {\"type\": \"interval\", \"bind\": \"scales\", \"encodings\": [\"x\", \"y\"]}}, \"transform\": [{\"calculate\": \"sqrt(-2*log(random()))*cos(2*PI*random())\", \"as\": \"jitter\"}], \"width\": 60}, {\"layer\": [{\"mark\": {\"type\": \"point\", \"opacity\": 0.6, \"size\": 20, \"strokeWidth\": 1.3}, \"encoding\": {\"color\": {\"value\": \"#323434\"}, \"y\": {\"field\": \"bus_multiplier\", \"type\": \"quantitative\"}}, \"transform\": [{\"filter\": \"(datum.p50_trip === 1)\"}]}, {\"mark\": {\"type\": \"rule\", \"strokeDash\": [2, 3]}, \"encoding\": {\"color\": {\"value\": \"#323434\"}, \"y\": {\"field\": \"cutoff\", \"type\": \"quantitative\"}}}, {\"mark\": {\"type\": \"text\", \"align\": \"center\", \"baseline\": \"middle\"}, \"encoding\": {\"color\": {\"value\": \"black\"}, \"text\": {\"field\": \"pct_trips_competitive\", \"format\": \".0%\", \"type\": \"quantitative\"}, \"tooltip\": [{\"field\": \"route_id\", \"type\": \"nominal\"}, {\"field\": \"trip_id\", \"type\": \"nominal\"}, {\"field\": \"service_hours\", \"type\": \"quantitative\"}, {\"field\": \"car_duration_hours\", \"type\": \"quantitative\"}, {\"field\": \"bus_multiplier\", \"type\": \"quantitative\"}, {\"field\": \"bus_difference\", \"type\": \"quantitative\"}, {\"field\": \"num_trips\", \"type\": \"quantitative\"}, {\"field\": \"num_competitive\", \"type\": \"quantitative\"}, {\"field\": \"pct_trips_competitive\", \"type\": \"quantitative\"}, {\"field\": \"p25\", \"type\": \"quantitative\"}, {\"field\": \"p50\", \"type\": \"quantitative\"}, {\"field\": \"p75\", \"type\": \"quantitative\"}], \"x\": {\"value\": 30}, \"y\": {\"value\": 15}}, \"transform\": [{\"calculate\": \"sqrt(-2*log(random()))*cos(2*PI*random())\", \"as\": \"jitter\"}, {\"filter\": \"(datum.fastest_trip === 1)\"}]}]}]}, \"resolve\": {\"scale\": {\"y\": \"shared\"}}, \"title\": \"Ratio of Bus to Car Travel Time\", \"$schema\": \"https://vega.github.io/schema/vega-lite/v4.17.0.json\", \"datasets\": {\"data-5a10f41f383ca4d9a10c240e66e071d9\": [{\"calitp_itp_id\": 247, \"trip_key\": 4910658147341730292, \"trip_id\": \"t_216259_b_33569_tn_4\", \"shape_id\": \"p_4758\", \"route_id\": \"2037\", \"service_hours\": 0.42, \"trip_first_departure_ts\": 34200, \"trip_last_arrival_ts\": 35700, \"departure_hour\": 9, \"time_of_day\": \"AM Peak\", \"p25\": 0.42, \"p50\": 0.42, \"p75\": 0.42, \"p50_trip\": 1, \"fastest_trip\": 0, \"car_duration_hours\": 0.36, \"competitive_route\": 1, \"bus_multiplier\": 1.17, \"bus_difference\": 3.6, \"num_trips\": 13, \"num_competitive\": 13, \"pct_trips_competitive\": 1.0, \"bus_difference_spread\": 0.0, \"route_group\": \"short\", \"max_trip_hrs\": 0.42, \"max_trip_route_group\": 0.92, \"name\": \"City of Petaluma\", \"caltrans_district\": \"04 - Oakland\", \"drmt_organization_name\": null, \"cutoff2\": 20, \"cutoff\": 2}, {\"calitp_itp_id\": 247, \"trip_key\": -4397066177698929427, \"trip_id\": \"t_216259_b_33569_tn_7\", \"shape_id\": \"p_4758\", \"route_id\": \"2037\", \"service_hours\": 0.42, \"trip_first_departure_ts\": 45000, \"trip_last_arrival_ts\": 46500, \"departure_hour\": 12, \"time_of_day\": \"Midday\", \"p25\": 0.42, \"p50\": 0.42, \"p75\": 0.42, \"p50_trip\": 1, \"fastest_trip\": 0, \"car_duration_hours\": 0.36, \"competitive_route\": 1, \"bus_multiplier\": 1.17, \"bus_difference\": 3.6, \"num_trips\": 13, \"num_competitive\": 13, \"pct_trips_competitive\": 1.0, \"bus_difference_spread\": 0.0, \"route_group\": \"short\", \"max_trip_hrs\": 0.42, \"max_trip_route_group\": 0.92, \"name\": \"City of Petaluma\", \"caltrans_district\": \"04 - Oakland\", \"drmt_organization_name\": null, \"cutoff2\": 20, \"cutoff\": 2}, {\"calitp_itp_id\": 247, \"trip_key\": 440561389976145412, \"trip_id\": \"t_216262_b_33569_tn_0\", \"shape_id\": \"p_4758\", \"route_id\": \"2037\", \"service_hours\": 0.42, \"trip_first_departure_ts\": 66600, \"trip_last_arrival_ts\": 68100, \"departure_hour\": 18, \"time_of_day\": \"PM Peak\", \"p25\": 0.42, \"p50\": 0.42, \"p75\": 0.42, \"p50_trip\": 1, \"fastest_trip\": 0, \"car_duration_hours\": 0.36, \"competitive_route\": 1, \"bus_multiplier\": 1.17, \"bus_difference\": 3.6, \"num_trips\": 13, \"num_competitive\": 13, \"pct_trips_competitive\": 1.0, \"bus_difference_spread\": 0.0, \"route_group\": \"short\", \"max_trip_hrs\": 0.42, \"max_trip_route_group\": 0.92, \"name\": \"City of Petaluma\", \"caltrans_district\": \"04 - Oakland\", \"drmt_organization_name\": null, \"cutoff2\": 20, \"cutoff\": 2}, {\"calitp_itp_id\": 247, \"trip_key\": 6245398234400737570, \"trip_id\": \"t_216263_b_33569_tn_0\", \"shape_id\": \"p_4758\", \"route_id\": \"2037\", \"service_hours\": 0.42, \"trip_first_departure_ts\": 70200, \"trip_last_arrival_ts\": 71700, \"departure_hour\": 19, \"time_of_day\": \"PM Peak\", \"p25\": 0.42, \"p50\": 0.42, \"p75\": 0.42, \"p50_trip\": 1, \"fastest_trip\": 1, \"car_duration_hours\": 0.36, \"competitive_route\": 1, \"bus_multiplier\": 1.17, \"bus_difference\": 3.6, \"num_trips\": 13, \"num_competitive\": 13, \"pct_trips_competitive\": 1.0, \"bus_difference_spread\": 0.0, \"route_group\": \"short\", \"max_trip_hrs\": 0.42, \"max_trip_route_group\": 0.92, \"name\": \"City of Petaluma\", \"caltrans_district\": \"04 - Oakland\", \"drmt_organization_name\": null, \"cutoff2\": 20, \"cutoff\": 2}, {\"calitp_itp_id\": 247, \"trip_key\": -4229502014465830665, \"trip_id\": \"t_216259_b_33569_tn_2\", \"shape_id\": \"p_4758\", \"route_id\": \"2037\", \"service_hours\": 0.42, \"trip_first_departure_ts\": 27000, \"trip_last_arrival_ts\": 28500, \"departure_hour\": 7, \"time_of_day\": \"AM Peak\", \"p25\": 0.42, \"p50\": 0.42, \"p75\": 0.42, \"p50_trip\": 1, \"fastest_trip\": 0, \"car_duration_hours\": 0.36, \"competitive_route\": 1, \"bus_multiplier\": 1.17, \"bus_difference\": 3.6, \"num_trips\": 13, \"num_competitive\": 13, \"pct_trips_competitive\": 1.0, \"bus_difference_spread\": 0.0, \"route_group\": \"short\", \"max_trip_hrs\": 0.42, \"max_trip_route_group\": 0.92, \"name\": \"City of Petaluma\", \"caltrans_district\": \"04 - Oakland\", \"drmt_organization_name\": null, \"cutoff2\": 20, \"cutoff\": 2}, {\"calitp_itp_id\": 247, \"trip_key\": 2632971781282648233, \"trip_id\": \"t_216259_b_33569_tn_6\", \"shape_id\": \"p_4758\", \"route_id\": \"2037\", \"service_hours\": 0.42, \"trip_first_departure_ts\": 41400, \"trip_last_arrival_ts\": 42900, \"departure_hour\": 11, \"time_of_day\": \"Midday\", \"p25\": 0.42, \"p50\": 0.42, \"p75\": 0.42, \"p50_trip\": 1, \"fastest_trip\": 0, \"car_duration_hours\": 0.36, \"competitive_route\": 1, \"bus_multiplier\": 1.17, \"bus_difference\": 3.6, \"num_trips\": 13, \"num_competitive\": 13, \"pct_trips_competitive\": 1.0, \"bus_difference_spread\": 0.0, \"route_group\": \"short\", \"max_trip_hrs\": 0.42, \"max_trip_route_group\": 0.92, \"name\": \"City of Petaluma\", \"caltrans_district\": \"04 - Oakland\", \"drmt_organization_name\": null, \"cutoff2\": 20, \"cutoff\": 2}, {\"calitp_itp_id\": 247, \"trip_key\": -6641074142415182016, \"trip_id\": \"t_216260_b_33569_tn_0\", \"shape_id\": \"p_4758\", \"route_id\": \"2037\", \"service_hours\": 0.42, \"trip_first_departure_ts\": 57300, \"trip_last_arrival_ts\": 58800, \"departure_hour\": 15, \"time_of_day\": \"Midday\", \"p25\": 0.42, \"p50\": 0.42, \"p75\": 0.42, \"p50_trip\": 1, \"fastest_trip\": 0, \"car_duration_hours\": 0.36, \"competitive_route\": 1, \"bus_multiplier\": 1.17, \"bus_difference\": 3.6, \"num_trips\": 13, \"num_competitive\": 13, \"pct_trips_competitive\": 1.0, \"bus_difference_spread\": 0.0, \"route_group\": \"short\", \"max_trip_hrs\": 0.42, \"max_trip_route_group\": 0.92, \"name\": \"City of Petaluma\", \"caltrans_district\": \"04 - Oakland\", \"drmt_organization_name\": null, \"cutoff2\": 20, \"cutoff\": 2}, {\"calitp_itp_id\": 247, \"trip_key\": -3875756986578688303, \"trip_id\": \"t_216261_b_33569_tn_0\", \"shape_id\": \"p_4758\", \"route_id\": \"2037\", \"service_hours\": 0.42, \"trip_first_departure_ts\": 62100, \"trip_last_arrival_ts\": 63600, \"departure_hour\": 17, \"time_of_day\": \"PM Peak\", \"p25\": 0.42, \"p50\": 0.42, \"p75\": 0.42, \"p50_trip\": 1, \"fastest_trip\": 0, \"car_duration_hours\": 0.36, \"competitive_route\": 1, \"bus_multiplier\": 1.17, \"bus_difference\": 3.6, \"num_trips\": 13, \"num_competitive\": 13, \"pct_trips_competitive\": 1.0, \"bus_difference_spread\": 0.0, \"route_group\": \"short\", \"max_trip_hrs\": 0.42, \"max_trip_route_group\": 0.92, \"name\": \"City of Petaluma\", \"caltrans_district\": \"04 - Oakland\", \"drmt_organization_name\": null, \"cutoff2\": 20, \"cutoff\": 2}, {\"calitp_itp_id\": 247, \"trip_key\": 7266456860689447603, \"trip_id\": \"t_216259_b_33569_tn_5\", \"shape_id\": \"p_4758\", \"route_id\": \"2037\", \"service_hours\": 0.42, \"trip_first_departure_ts\": 37800, \"trip_last_arrival_ts\": 39300, \"departure_hour\": 10, \"time_of_day\": \"Midday\", \"p25\": 0.42, \"p50\": 0.42, \"p75\": 0.42, \"p50_trip\": 1, \"fastest_trip\": 0, \"car_duration_hours\": 0.36, \"competitive_route\": 1, \"bus_multiplier\": 1.17, \"bus_difference\": 3.6, \"num_trips\": 13, \"num_competitive\": 13, \"pct_trips_competitive\": 1.0, \"bus_difference_spread\": 0.0, \"route_group\": \"short\", \"max_trip_hrs\": 0.42, \"max_trip_route_group\": 0.92, \"name\": \"City of Petaluma\", \"caltrans_district\": \"04 - Oakland\", \"drmt_organization_name\": null, \"cutoff2\": 20, \"cutoff\": 2}, {\"calitp_itp_id\": 247, \"trip_key\": 6205893451698149432, \"trip_id\": \"t_216259_b_33569_tn_1\", \"shape_id\": \"p_4758\", \"route_id\": \"2037\", \"service_hours\": 0.42, \"trip_first_departure_ts\": 23400, \"trip_last_arrival_ts\": 24900, \"departure_hour\": 6, \"time_of_day\": \"Owl Service\", \"p25\": 0.42, \"p50\": 0.42, \"p75\": 0.42, \"p50_trip\": 1, \"fastest_trip\": 0, \"car_duration_hours\": 0.36, \"competitive_route\": 1, \"bus_multiplier\": 1.17, \"bus_difference\": 3.6, \"num_trips\": 13, \"num_competitive\": 13, \"pct_trips_competitive\": 1.0, \"bus_difference_spread\": 0.0, \"route_group\": \"short\", \"max_trip_hrs\": 0.42, \"max_trip_route_group\": 0.92, \"name\": \"City of Petaluma\", \"caltrans_district\": \"04 - Oakland\", \"drmt_organization_name\": null, \"cutoff2\": 20, \"cutoff\": 2}, {\"calitp_itp_id\": 247, \"trip_key\": -3010902739249077310, \"trip_id\": \"t_216259_b_33569_tn_8\", \"shape_id\": \"p_4758\", \"route_id\": \"2037\", \"service_hours\": 0.42, \"trip_first_departure_ts\": 48600, \"trip_last_arrival_ts\": 50100, \"departure_hour\": 13, \"time_of_day\": \"Midday\", \"p25\": 0.42, \"p50\": 0.42, \"p75\": 0.42, \"p50_trip\": 1, \"fastest_trip\": 0, \"car_duration_hours\": 0.36, \"competitive_route\": 1, \"bus_multiplier\": 1.17, \"bus_difference\": 3.6, \"num_trips\": 13, \"num_competitive\": 13, \"pct_trips_competitive\": 1.0, \"bus_difference_spread\": 0.0, \"route_group\": \"short\", \"max_trip_hrs\": 0.42, \"max_trip_route_group\": 0.92, \"name\": \"City of Petaluma\", \"caltrans_district\": \"04 - Oakland\", \"drmt_organization_name\": null, \"cutoff2\": 20, \"cutoff\": 2}, {\"calitp_itp_id\": 247, \"trip_key\": -2982889411677610998, \"trip_id\": \"t_216259_b_33569_tn_3\", \"shape_id\": \"p_4758\", \"route_id\": \"2037\", \"service_hours\": 0.42, \"trip_first_departure_ts\": 30600, \"trip_last_arrival_ts\": 32100, \"departure_hour\": 8, \"time_of_day\": \"AM Peak\", \"p25\": 0.42, \"p50\": 0.42, \"p75\": 0.42, \"p50_trip\": 1, \"fastest_trip\": 0, \"car_duration_hours\": 0.36, \"competitive_route\": 1, \"bus_multiplier\": 1.17, \"bus_difference\": 3.6, \"num_trips\": 13, \"num_competitive\": 13, \"pct_trips_competitive\": 1.0, \"bus_difference_spread\": 0.0, \"route_group\": \"short\", \"max_trip_hrs\": 0.42, \"max_trip_route_group\": 0.92, \"name\": \"City of Petaluma\", \"caltrans_district\": \"04 - Oakland\", \"drmt_organization_name\": null, \"cutoff2\": 20, \"cutoff\": 2}, {\"calitp_itp_id\": 247, \"trip_key\": 2538557862994929057, \"trip_id\": \"t_216259_b_33569_tn_9\", \"shape_id\": \"p_4758\", \"route_id\": \"2037\", \"service_hours\": 0.42, \"trip_first_departure_ts\": 52200, \"trip_last_arrival_ts\": 53700, \"departure_hour\": 14, \"time_of_day\": \"Midday\", \"p25\": 0.42, \"p50\": 0.42, \"p75\": 0.42, \"p50_trip\": 1, \"fastest_trip\": 0, \"car_duration_hours\": 0.36, \"competitive_route\": 1, \"bus_multiplier\": 1.17, \"bus_difference\": 3.6, \"num_trips\": 13, \"num_competitive\": 13, \"pct_trips_competitive\": 1.0, \"bus_difference_spread\": 0.0, \"route_group\": \"short\", \"max_trip_hrs\": 0.42, \"max_trip_route_group\": 0.92, \"name\": \"City of Petaluma\", \"caltrans_district\": \"04 - Oakland\", \"drmt_organization_name\": null, \"cutoff2\": 20, \"cutoff\": 2}, {\"calitp_itp_id\": 247, \"trip_key\": -2108287277331060576, \"trip_id\": \"t_216379_b_33569_tn_2\", \"shape_id\": \"p_4761\", \"route_id\": \"2038\", \"service_hours\": 0.42, \"trip_first_departure_ts\": 32400, \"trip_last_arrival_ts\": 33900, \"departure_hour\": 9, \"time_of_day\": \"AM Peak\", \"p25\": 0.42, \"p50\": 0.42, \"p75\": 0.42, \"p50_trip\": 1, \"fastest_trip\": 0, \"car_duration_hours\": 0.35, \"competitive_route\": 1, \"bus_multiplier\": 1.2, \"bus_difference\": 4.2, \"num_trips\": 13, \"num_competitive\": 13, \"pct_trips_competitive\": 1.0, \"bus_difference_spread\": 0.0, \"route_group\": \"short\", \"max_trip_hrs\": 0.42, \"max_trip_route_group\": 0.92, \"name\": \"City of Petaluma\", \"caltrans_district\": \"04 - Oakland\", \"drmt_organization_name\": null, \"cutoff2\": 20, \"cutoff\": 2}, {\"calitp_itp_id\": 247, \"trip_key\": -2575018057491903405, \"trip_id\": \"t_216379_b_33569_tn_4\", \"shape_id\": \"p_4761\", \"route_id\": \"2038\", \"service_hours\": 0.42, \"trip_first_departure_ts\": 39600, \"trip_last_arrival_ts\": 41100, \"departure_hour\": 11, \"time_of_day\": \"Midday\", \"p25\": 0.42, \"p50\": 0.42, \"p75\": 0.42, \"p50_trip\": 1, \"fastest_trip\": 0, \"car_duration_hours\": 0.35, \"competitive_route\": 1, \"bus_multiplier\": 1.2, \"bus_difference\": 4.2, \"num_trips\": 13, \"num_competitive\": 13, \"pct_trips_competitive\": 1.0, \"bus_difference_spread\": 0.0, \"route_group\": \"short\", \"max_trip_hrs\": 0.42, \"max_trip_route_group\": 0.92, \"name\": \"City of Petaluma\", \"caltrans_district\": \"04 - Oakland\", \"drmt_organization_name\": null, \"cutoff2\": 20, \"cutoff\": 2}, {\"calitp_itp_id\": 247, \"trip_key\": -2478166994407151805, \"trip_id\": \"t_216379_b_33569_tn_1\", \"shape_id\": \"p_4761\", \"route_id\": \"2038\", \"service_hours\": 0.42, \"trip_first_departure_ts\": 28800, \"trip_last_arrival_ts\": 30300, \"departure_hour\": 8, \"time_of_day\": \"AM Peak\", \"p25\": 0.42, \"p50\": 0.42, \"p75\": 0.42, \"p50_trip\": 1, \"fastest_trip\": 0, \"car_duration_hours\": 0.35, \"competitive_route\": 1, \"bus_multiplier\": 1.2, \"bus_difference\": 4.2, \"num_trips\": 13, \"num_competitive\": 13, \"pct_trips_competitive\": 1.0, \"bus_difference_spread\": 0.0, \"route_group\": \"short\", \"max_trip_hrs\": 0.42, \"max_trip_route_group\": 0.92, \"name\": \"City of Petaluma\", \"caltrans_district\": \"04 - Oakland\", \"drmt_organization_name\": null, \"cutoff2\": 20, \"cutoff\": 2}, {\"calitp_itp_id\": 247, \"trip_key\": 4527531421604169302, \"trip_id\": \"t_216379_b_33569_tn_6\", \"shape_id\": \"p_4761\", \"route_id\": \"2038\", \"service_hours\": 0.42, \"trip_first_departure_ts\": 46800, \"trip_last_arrival_ts\": 48300, \"departure_hour\": 13, \"time_of_day\": \"Midday\", \"p25\": 0.42, \"p50\": 0.42, \"p75\": 0.42, \"p50_trip\": 1, \"fastest_trip\": 0, \"car_duration_hours\": 0.35, \"competitive_route\": 1, \"bus_multiplier\": 1.2, \"bus_difference\": 4.2, \"num_trips\": 13, \"num_competitive\": 13, \"pct_trips_competitive\": 1.0, \"bus_difference_spread\": 0.0, \"route_group\": \"short\", \"max_trip_hrs\": 0.42, \"max_trip_route_group\": 0.92, \"name\": \"City of Petaluma\", \"caltrans_district\": \"04 - Oakland\", \"drmt_organization_name\": null, \"cutoff2\": 20, \"cutoff\": 2}, {\"calitp_itp_id\": 247, \"trip_key\": 4497899107465775762, \"trip_id\": \"t_216371_b_33569_tn_0\", \"shape_id\": \"p_4761\", \"route_id\": \"2038\", \"service_hours\": 0.42, \"trip_first_departure_ts\": 54900, \"trip_last_arrival_ts\": 56400, \"departure_hour\": 15, \"time_of_day\": \"Midday\", \"p25\": 0.42, \"p50\": 0.42, \"p75\": 0.42, \"p50_trip\": 1, \"fastest_trip\": 0, \"car_duration_hours\": 0.35, \"competitive_route\": 1, \"bus_multiplier\": 1.2, \"bus_difference\": 4.2, \"num_trips\": 13, \"num_competitive\": 13, \"pct_trips_competitive\": 1.0, \"bus_difference_spread\": 0.0, \"route_group\": \"short\", \"max_trip_hrs\": 0.42, \"max_trip_route_group\": 0.92, \"name\": \"City of Petaluma\", \"caltrans_district\": \"04 - Oakland\", \"drmt_organization_name\": null, \"cutoff2\": 20, \"cutoff\": 2}, {\"calitp_itp_id\": 247, \"trip_key\": 8124997173371916077, \"trip_id\": \"t_216375_b_33569_tn_0\", \"shape_id\": \"p_177271\", \"route_id\": \"2038\", \"service_hours\": 0.42, \"trip_first_departure_ts\": 25200, \"trip_last_arrival_ts\": 26700, \"departure_hour\": 7, \"time_of_day\": \"AM Peak\", \"p25\": 0.42, \"p50\": 0.42, \"p75\": 0.42, \"p50_trip\": 1, \"fastest_trip\": 0, \"car_duration_hours\": 0.35, \"competitive_route\": 1, \"bus_multiplier\": 1.2, \"bus_difference\": 4.2, \"num_trips\": 13, \"num_competitive\": 13, \"pct_trips_competitive\": 1.0, \"bus_difference_spread\": 0.0, \"route_group\": \"short\", \"max_trip_hrs\": 0.42, \"max_trip_route_group\": 0.92, \"name\": \"City of Petaluma\", \"caltrans_district\": \"04 - Oakland\", \"drmt_organization_name\": null, \"cutoff2\": 20, \"cutoff\": 2}, {\"calitp_itp_id\": 247, \"trip_key\": -7223981016971492127, \"trip_id\": \"t_216379_b_33569_tn_5\", \"shape_id\": \"p_4761\", \"route_id\": \"2038\", \"service_hours\": 0.42, \"trip_first_departure_ts\": 43200, \"trip_last_arrival_ts\": 44700, \"departure_hour\": 12, \"time_of_day\": \"Midday\", \"p25\": 0.42, \"p50\": 0.42, \"p75\": 0.42, \"p50_trip\": 1, \"fastest_trip\": 0, \"car_duration_hours\": 0.35, \"competitive_route\": 1, \"bus_multiplier\": 1.2, \"bus_difference\": 4.2, \"num_trips\": 13, \"num_competitive\": 13, \"pct_trips_competitive\": 1.0, \"bus_difference_spread\": 0.0, \"route_group\": \"short\", \"max_trip_hrs\": 0.42, \"max_trip_route_group\": 0.92, \"name\": \"City of Petaluma\", \"caltrans_district\": \"04 - Oakland\", \"drmt_organization_name\": null, \"cutoff2\": 20, \"cutoff\": 2}, {\"calitp_itp_id\": 247, \"trip_key\": 5684065742895373217, \"trip_id\": \"t_216379_b_33569_tn_7\", \"shape_id\": \"p_4761\", \"route_id\": \"2038\", \"service_hours\": 0.42, \"trip_first_departure_ts\": 50400, \"trip_last_arrival_ts\": 51900, \"departure_hour\": 14, \"time_of_day\": \"Midday\", \"p25\": 0.42, \"p50\": 0.42, \"p75\": 0.42, \"p50_trip\": 1, \"fastest_trip\": 0, \"car_duration_hours\": 0.35, \"competitive_route\": 1, \"bus_multiplier\": 1.2, \"bus_difference\": 4.2, \"num_trips\": 13, \"num_competitive\": 13, \"pct_trips_competitive\": 1.0, \"bus_difference_spread\": 0.0, \"route_group\": \"short\", \"max_trip_hrs\": 0.42, \"max_trip_route_group\": 0.92, \"name\": \"City of Petaluma\", \"caltrans_district\": \"04 - Oakland\", \"drmt_organization_name\": null, \"cutoff2\": 20, \"cutoff\": 2}, {\"calitp_itp_id\": 247, \"trip_key\": -6950231050159511586, \"trip_id\": \"t_216373_b_33569_tn_2\", \"shape_id\": \"p_4761\", \"route_id\": \"2038\", \"service_hours\": 0.42, \"trip_first_departure_ts\": 68400, \"trip_last_arrival_ts\": 69900, \"departure_hour\": 19, \"time_of_day\": \"PM Peak\", \"p25\": 0.42, \"p50\": 0.42, \"p75\": 0.42, \"p50_trip\": 1, \"fastest_trip\": 0, \"car_duration_hours\": 0.35, \"competitive_route\": 1, \"bus_multiplier\": 1.2, \"bus_difference\": 4.2, \"num_trips\": 13, \"num_competitive\": 13, \"pct_trips_competitive\": 1.0, \"bus_difference_spread\": 0.0, \"route_group\": \"short\", \"max_trip_hrs\": 0.42, \"max_trip_route_group\": 0.92, \"name\": \"City of Petaluma\", \"caltrans_district\": \"04 - Oakland\", \"drmt_organization_name\": null, \"cutoff2\": 20, \"cutoff\": 2}, {\"calitp_itp_id\": 247, \"trip_key\": 2133293619556040335, \"trip_id\": \"t_216379_b_33569_tn_3\", \"shape_id\": \"p_4761\", \"route_id\": \"2038\", \"service_hours\": 0.42, \"trip_first_departure_ts\": 36000, \"trip_last_arrival_ts\": 37500, \"departure_hour\": 10, \"time_of_day\": \"Midday\", \"p25\": 0.42, \"p50\": 0.42, \"p75\": 0.42, \"p50_trip\": 1, \"fastest_trip\": 0, \"car_duration_hours\": 0.35, \"competitive_route\": 1, \"bus_multiplier\": 1.2, \"bus_difference\": 4.2, \"num_trips\": 13, \"num_competitive\": 13, \"pct_trips_competitive\": 1.0, \"bus_difference_spread\": 0.0, \"route_group\": \"short\", \"max_trip_hrs\": 0.42, \"max_trip_route_group\": 0.92, \"name\": \"City of Petaluma\", \"caltrans_district\": \"04 - Oakland\", \"drmt_organization_name\": null, \"cutoff2\": 20, \"cutoff\": 2}, {\"calitp_itp_id\": 247, \"trip_key\": 4855882027186445984, \"trip_id\": \"t_216373_b_33569_tn_3\", \"shape_id\": \"p_4761\", \"route_id\": \"2038\", \"service_hours\": 0.42, \"trip_first_departure_ts\": 72000, \"trip_last_arrival_ts\": 73500, \"departure_hour\": 20, \"time_of_day\": \"Owl Service\", \"p25\": 0.42, \"p50\": 0.42, \"p75\": 0.42, \"p50_trip\": 1, \"fastest_trip\": 1, \"car_duration_hours\": 0.35, \"competitive_route\": 1, \"bus_multiplier\": 1.2, \"bus_difference\": 4.2, \"num_trips\": 13, \"num_competitive\": 13, \"pct_trips_competitive\": 1.0, \"bus_difference_spread\": 0.0, \"route_group\": \"short\", \"max_trip_hrs\": 0.42, \"max_trip_route_group\": 0.92, \"name\": \"City of Petaluma\", \"caltrans_district\": \"04 - Oakland\", \"drmt_organization_name\": null, \"cutoff2\": 20, \"cutoff\": 2}, {\"calitp_itp_id\": 247, \"trip_key\": 699798207918204687, \"trip_id\": \"t_216373_b_33569_tn_1\", \"shape_id\": \"p_4761\", \"route_id\": \"2038\", \"service_hours\": 0.42, \"trip_first_departure_ts\": 64800, \"trip_last_arrival_ts\": 66300, \"departure_hour\": 18, \"time_of_day\": \"PM Peak\", \"p25\": 0.42, \"p50\": 0.42, \"p75\": 0.42, \"p50_trip\": 1, \"fastest_trip\": 0, \"car_duration_hours\": 0.35, \"competitive_route\": 1, \"bus_multiplier\": 1.2, \"bus_difference\": 4.2, \"num_trips\": 13, \"num_competitive\": 13, \"pct_trips_competitive\": 1.0, \"bus_difference_spread\": 0.0, \"route_group\": \"short\", \"max_trip_hrs\": 0.42, \"max_trip_route_group\": 0.92, \"name\": \"City of Petaluma\", \"caltrans_district\": \"04 - Oakland\", \"drmt_organization_name\": null, \"cutoff2\": 20, \"cutoff\": 2}, {\"calitp_itp_id\": 247, \"trip_key\": -8330273589701382888, \"trip_id\": \"t_216372_b_33569_tn_0\", \"shape_id\": \"p_4761\", \"route_id\": \"2038\", \"service_hours\": 0.42, \"trip_first_departure_ts\": 59700, \"trip_last_arrival_ts\": 61200, \"departure_hour\": 16, \"time_of_day\": \"Midday\", \"p25\": 0.42, \"p50\": 0.42, \"p75\": 0.42, \"p50_trip\": 1, \"fastest_trip\": 0, \"car_duration_hours\": 0.35, \"competitive_route\": 1, \"bus_multiplier\": 1.2, \"bus_difference\": 4.2, \"num_trips\": 13, \"num_competitive\": 13, \"pct_trips_competitive\": 1.0, \"bus_difference_spread\": 0.0, \"route_group\": \"short\", \"max_trip_hrs\": 0.42, \"max_trip_route_group\": 0.92, \"name\": \"City of Petaluma\", \"caltrans_district\": \"04 - Oakland\", \"drmt_organization_name\": null, \"cutoff2\": 20, \"cutoff\": 2}]}}, {\"mode\": \"vega-lite\"});\n",
       "</script>"
      ],
      "text/plain": [
       "alt.FacetChart(...)"
      ]
     },
     "metadata": {},
     "output_type": "display_data"
    },
    {
     "data": {
      "text/html": [
       "\n",
       "<div id=\"altair-viz-678bac18d1e54acdb8653d5a054c2171\"></div>\n",
       "<script type=\"text/javascript\">\n",
       "  var VEGA_DEBUG = (typeof VEGA_DEBUG == \"undefined\") ? {} : VEGA_DEBUG;\n",
       "  (function(spec, embedOpt){\n",
       "    let outputDiv = document.currentScript.previousElementSibling;\n",
       "    if (outputDiv.id !== \"altair-viz-678bac18d1e54acdb8653d5a054c2171\") {\n",
       "      outputDiv = document.getElementById(\"altair-viz-678bac18d1e54acdb8653d5a054c2171\");\n",
       "    }\n",
       "    const paths = {\n",
       "      \"vega\": \"https://cdn.jsdelivr.net/npm//vega@5?noext\",\n",
       "      \"vega-lib\": \"https://cdn.jsdelivr.net/npm//vega-lib?noext\",\n",
       "      \"vega-lite\": \"https://cdn.jsdelivr.net/npm//vega-lite@4.17.0?noext\",\n",
       "      \"vega-embed\": \"https://cdn.jsdelivr.net/npm//vega-embed@6?noext\",\n",
       "    };\n",
       "\n",
       "    function maybeLoadScript(lib, version) {\n",
       "      var key = `${lib.replace(\"-\", \"\")}_version`;\n",
       "      return (VEGA_DEBUG[key] == version) ?\n",
       "        Promise.resolve(paths[lib]) :\n",
       "        new Promise(function(resolve, reject) {\n",
       "          var s = document.createElement('script');\n",
       "          document.getElementsByTagName(\"head\")[0].appendChild(s);\n",
       "          s.async = true;\n",
       "          s.onload = () => {\n",
       "            VEGA_DEBUG[key] = version;\n",
       "            return resolve(paths[lib]);\n",
       "          };\n",
       "          s.onerror = () => reject(`Error loading script: ${paths[lib]}`);\n",
       "          s.src = paths[lib];\n",
       "        });\n",
       "    }\n",
       "\n",
       "    function showError(err) {\n",
       "      outputDiv.innerHTML = `<div class=\"error\" style=\"color:red;\">${err}</div>`;\n",
       "      throw err;\n",
       "    }\n",
       "\n",
       "    function displayChart(vegaEmbed) {\n",
       "      vegaEmbed(outputDiv, spec, embedOpt)\n",
       "        .catch(err => showError(`Javascript Error: ${err.message}<br>This usually means there's a typo in your chart specification. See the javascript console for the full traceback.`));\n",
       "    }\n",
       "\n",
       "    if(typeof define === \"function\" && define.amd) {\n",
       "      requirejs.config({paths});\n",
       "      require([\"vega-embed\"], displayChart, err => showError(`Error loading script: ${err.message}`));\n",
       "    } else {\n",
       "      maybeLoadScript(\"vega\", \"5\")\n",
       "        .then(() => maybeLoadScript(\"vega-lite\", \"4.17.0\"))\n",
       "        .then(() => maybeLoadScript(\"vega-embed\", \"6\"))\n",
       "        .catch(showError)\n",
       "        .then(() => displayChart(vegaEmbed));\n",
       "    }\n",
       "  })({\"config\": {\"view\": {\"continuousWidth\": 400, \"continuousHeight\": 300, \"stroke\": null}, \"facet\": {\"spacing\": 0}}, \"data\": {\"name\": \"data-4d40c6eaa2bc0d005bd40961c83419ca\"}, \"facet\": {\"column\": {\"field\": \"route_id\", \"sort\": [\"2037\", \"2038\"], \"title\": \"Route ID\", \"type\": \"nominal\"}}, \"spec\": {\"layer\": [{\"mark\": {\"type\": \"point\", \"opacity\": 0.65, \"size\": 12, \"strokeWidth\": 1.1}, \"encoding\": {\"color\": {\"field\": \"time_of_day\", \"scale\": {\"range\": [\"#136C97\", \"#E16B26\", \"#F6BF16\", \"#00896B\", \"#7790A3\", \"#5B559C\"]}, \"sort\": [\"AM Peak\", \"Midday\", \"PM Peak\", \"Owl Service\"], \"title\": \"Time of Day\", \"type\": \"nominal\"}, \"tooltip\": [{\"field\": \"route_id\", \"type\": \"nominal\"}, {\"field\": \"trip_id\", \"type\": \"nominal\"}, {\"field\": \"service_hours\", \"type\": \"quantitative\"}, {\"field\": \"car_duration_hours\", \"type\": \"quantitative\"}, {\"field\": \"bus_multiplier\", \"type\": \"quantitative\"}, {\"field\": \"bus_difference\", \"type\": \"quantitative\"}, {\"field\": \"num_trips\", \"type\": \"quantitative\"}, {\"field\": \"num_competitive\", \"type\": \"quantitative\"}, {\"field\": \"pct_trips_competitive\", \"type\": \"quantitative\"}, {\"field\": \"p25\", \"type\": \"quantitative\"}, {\"field\": \"p50\", \"type\": \"quantitative\"}, {\"field\": \"p75\", \"type\": \"quantitative\"}], \"x\": {\"axis\": {\"grid\": false, \"labels\": false, \"ticks\": true, \"values\": [0]}, \"field\": \"jitter\", \"scale\": {}, \"title\": null, \"type\": \"quantitative\"}, \"y\": {\"field\": \"bus_difference\", \"scale\": {\"domain\": [-5, 25.8]}, \"title\": \"Difference in Bus to Car Travel Time (min)\", \"type\": \"quantitative\"}}, \"selection\": {\"selector002\": {\"type\": \"interval\", \"bind\": \"scales\", \"encodings\": [\"x\", \"y\"]}}, \"transform\": [{\"calculate\": \"sqrt(-2*log(random()))*cos(2*PI*random())\", \"as\": \"jitter\"}], \"width\": 60}, {\"layer\": [{\"mark\": {\"type\": \"point\", \"opacity\": 0.6, \"size\": 20, \"strokeWidth\": 1.3}, \"encoding\": {\"color\": {\"value\": \"#323434\"}, \"y\": {\"field\": \"bus_difference\", \"type\": \"quantitative\"}}, \"transform\": [{\"filter\": \"(datum.p50_trip === 1)\"}]}, {\"mark\": {\"type\": \"rule\", \"strokeDash\": [2, 3]}, \"encoding\": {\"color\": {\"value\": \"#323434\"}, \"y\": {\"field\": \"cutoff\", \"type\": \"quantitative\"}}}, {\"mark\": {\"type\": \"rule\", \"strokeDash\": [2, 3]}, \"encoding\": {\"color\": {\"value\": \"#136C97\"}, \"y\": {\"field\": \"cutoff2\", \"type\": \"quantitative\"}}}, {\"mark\": {\"type\": \"text\", \"align\": \"center\", \"baseline\": \"middle\"}, \"encoding\": {\"color\": {\"value\": \"black\"}, \"text\": {\"field\": \"pct_trips_competitive\", \"format\": \".0%\", \"type\": \"quantitative\"}, \"tooltip\": [{\"field\": \"route_id\", \"type\": \"nominal\"}, {\"field\": \"trip_id\", \"type\": \"nominal\"}, {\"field\": \"service_hours\", \"type\": \"quantitative\"}, {\"field\": \"car_duration_hours\", \"type\": \"quantitative\"}, {\"field\": \"bus_multiplier\", \"type\": \"quantitative\"}, {\"field\": \"bus_difference\", \"type\": \"quantitative\"}, {\"field\": \"num_trips\", \"type\": \"quantitative\"}, {\"field\": \"num_competitive\", \"type\": \"quantitative\"}, {\"field\": \"pct_trips_competitive\", \"type\": \"quantitative\"}, {\"field\": \"p25\", \"type\": \"quantitative\"}, {\"field\": \"p50\", \"type\": \"quantitative\"}, {\"field\": \"p75\", \"type\": \"quantitative\"}], \"x\": {\"value\": 30}, \"y\": {\"value\": 15}}, \"transform\": [{\"calculate\": \"sqrt(-2*log(random()))*cos(2*PI*random())\", \"as\": \"jitter\"}, {\"filter\": \"(datum.fastest_trip === 1)\"}]}]}]}, \"resolve\": {\"scale\": {\"y\": \"shared\"}}, \"title\": \"Difference in Bus to Car Travel Time (min)\", \"$schema\": \"https://vega.github.io/schema/vega-lite/v4.17.0.json\", \"datasets\": {\"data-4d40c6eaa2bc0d005bd40961c83419ca\": [{\"calitp_itp_id\": 247, \"trip_key\": 4910658147341730292, \"trip_id\": \"t_216259_b_33569_tn_4\", \"shape_id\": \"p_4758\", \"route_id\": \"2037\", \"service_hours\": 0.42, \"trip_first_departure_ts\": 34200, \"trip_last_arrival_ts\": 35700, \"departure_hour\": 9, \"time_of_day\": \"AM Peak\", \"p25\": 0.42, \"p50\": 0.42, \"p75\": 0.42, \"p50_trip\": 1, \"fastest_trip\": 0, \"car_duration_hours\": 0.36, \"competitive_route\": 1, \"bus_multiplier\": 1.17, \"bus_difference\": 3.6, \"num_trips\": 13, \"num_competitive\": 13, \"pct_trips_competitive\": 1.0, \"bus_difference_spread\": 0.0, \"route_group\": \"short\", \"max_trip_hrs\": 0.42, \"max_trip_route_group\": 0.92, \"name\": \"City of Petaluma\", \"caltrans_district\": \"04 - Oakland\", \"drmt_organization_name\": null, \"cutoff2\": 20, \"cutoff\": 0}, {\"calitp_itp_id\": 247, \"trip_key\": -4397066177698929427, \"trip_id\": \"t_216259_b_33569_tn_7\", \"shape_id\": \"p_4758\", \"route_id\": \"2037\", \"service_hours\": 0.42, \"trip_first_departure_ts\": 45000, \"trip_last_arrival_ts\": 46500, \"departure_hour\": 12, \"time_of_day\": \"Midday\", \"p25\": 0.42, \"p50\": 0.42, \"p75\": 0.42, \"p50_trip\": 1, \"fastest_trip\": 0, \"car_duration_hours\": 0.36, \"competitive_route\": 1, \"bus_multiplier\": 1.17, \"bus_difference\": 3.6, \"num_trips\": 13, \"num_competitive\": 13, \"pct_trips_competitive\": 1.0, \"bus_difference_spread\": 0.0, \"route_group\": \"short\", \"max_trip_hrs\": 0.42, \"max_trip_route_group\": 0.92, \"name\": \"City of Petaluma\", \"caltrans_district\": \"04 - Oakland\", \"drmt_organization_name\": null, \"cutoff2\": 20, \"cutoff\": 0}, {\"calitp_itp_id\": 247, \"trip_key\": 440561389976145412, \"trip_id\": \"t_216262_b_33569_tn_0\", \"shape_id\": \"p_4758\", \"route_id\": \"2037\", \"service_hours\": 0.42, \"trip_first_departure_ts\": 66600, \"trip_last_arrival_ts\": 68100, \"departure_hour\": 18, \"time_of_day\": \"PM Peak\", \"p25\": 0.42, \"p50\": 0.42, \"p75\": 0.42, \"p50_trip\": 1, \"fastest_trip\": 0, \"car_duration_hours\": 0.36, \"competitive_route\": 1, \"bus_multiplier\": 1.17, \"bus_difference\": 3.6, \"num_trips\": 13, \"num_competitive\": 13, \"pct_trips_competitive\": 1.0, \"bus_difference_spread\": 0.0, \"route_group\": \"short\", \"max_trip_hrs\": 0.42, \"max_trip_route_group\": 0.92, \"name\": \"City of Petaluma\", \"caltrans_district\": \"04 - Oakland\", \"drmt_organization_name\": null, \"cutoff2\": 20, \"cutoff\": 0}, {\"calitp_itp_id\": 247, \"trip_key\": 6245398234400737570, \"trip_id\": \"t_216263_b_33569_tn_0\", \"shape_id\": \"p_4758\", \"route_id\": \"2037\", \"service_hours\": 0.42, \"trip_first_departure_ts\": 70200, \"trip_last_arrival_ts\": 71700, \"departure_hour\": 19, \"time_of_day\": \"PM Peak\", \"p25\": 0.42, \"p50\": 0.42, \"p75\": 0.42, \"p50_trip\": 1, \"fastest_trip\": 1, \"car_duration_hours\": 0.36, \"competitive_route\": 1, \"bus_multiplier\": 1.17, \"bus_difference\": 3.6, \"num_trips\": 13, \"num_competitive\": 13, \"pct_trips_competitive\": 1.0, \"bus_difference_spread\": 0.0, \"route_group\": \"short\", \"max_trip_hrs\": 0.42, \"max_trip_route_group\": 0.92, \"name\": \"City of Petaluma\", \"caltrans_district\": \"04 - Oakland\", \"drmt_organization_name\": null, \"cutoff2\": 20, \"cutoff\": 0}, {\"calitp_itp_id\": 247, \"trip_key\": -4229502014465830665, \"trip_id\": \"t_216259_b_33569_tn_2\", \"shape_id\": \"p_4758\", \"route_id\": \"2037\", \"service_hours\": 0.42, \"trip_first_departure_ts\": 27000, \"trip_last_arrival_ts\": 28500, \"departure_hour\": 7, \"time_of_day\": \"AM Peak\", \"p25\": 0.42, \"p50\": 0.42, \"p75\": 0.42, \"p50_trip\": 1, \"fastest_trip\": 0, \"car_duration_hours\": 0.36, \"competitive_route\": 1, \"bus_multiplier\": 1.17, \"bus_difference\": 3.6, \"num_trips\": 13, \"num_competitive\": 13, \"pct_trips_competitive\": 1.0, \"bus_difference_spread\": 0.0, \"route_group\": \"short\", \"max_trip_hrs\": 0.42, \"max_trip_route_group\": 0.92, \"name\": \"City of Petaluma\", \"caltrans_district\": \"04 - Oakland\", \"drmt_organization_name\": null, \"cutoff2\": 20, \"cutoff\": 0}, {\"calitp_itp_id\": 247, \"trip_key\": 2632971781282648233, \"trip_id\": \"t_216259_b_33569_tn_6\", \"shape_id\": \"p_4758\", \"route_id\": \"2037\", \"service_hours\": 0.42, \"trip_first_departure_ts\": 41400, \"trip_last_arrival_ts\": 42900, \"departure_hour\": 11, \"time_of_day\": \"Midday\", \"p25\": 0.42, \"p50\": 0.42, \"p75\": 0.42, \"p50_trip\": 1, \"fastest_trip\": 0, \"car_duration_hours\": 0.36, \"competitive_route\": 1, \"bus_multiplier\": 1.17, \"bus_difference\": 3.6, \"num_trips\": 13, \"num_competitive\": 13, \"pct_trips_competitive\": 1.0, \"bus_difference_spread\": 0.0, \"route_group\": \"short\", \"max_trip_hrs\": 0.42, \"max_trip_route_group\": 0.92, \"name\": \"City of Petaluma\", \"caltrans_district\": \"04 - Oakland\", \"drmt_organization_name\": null, \"cutoff2\": 20, \"cutoff\": 0}, {\"calitp_itp_id\": 247, \"trip_key\": -6641074142415182016, \"trip_id\": \"t_216260_b_33569_tn_0\", \"shape_id\": \"p_4758\", \"route_id\": \"2037\", \"service_hours\": 0.42, \"trip_first_departure_ts\": 57300, \"trip_last_arrival_ts\": 58800, \"departure_hour\": 15, \"time_of_day\": \"Midday\", \"p25\": 0.42, \"p50\": 0.42, \"p75\": 0.42, \"p50_trip\": 1, \"fastest_trip\": 0, \"car_duration_hours\": 0.36, \"competitive_route\": 1, \"bus_multiplier\": 1.17, \"bus_difference\": 3.6, \"num_trips\": 13, \"num_competitive\": 13, \"pct_trips_competitive\": 1.0, \"bus_difference_spread\": 0.0, \"route_group\": \"short\", \"max_trip_hrs\": 0.42, \"max_trip_route_group\": 0.92, \"name\": \"City of Petaluma\", \"caltrans_district\": \"04 - Oakland\", \"drmt_organization_name\": null, \"cutoff2\": 20, \"cutoff\": 0}, {\"calitp_itp_id\": 247, \"trip_key\": -3875756986578688303, \"trip_id\": \"t_216261_b_33569_tn_0\", \"shape_id\": \"p_4758\", \"route_id\": \"2037\", \"service_hours\": 0.42, \"trip_first_departure_ts\": 62100, \"trip_last_arrival_ts\": 63600, \"departure_hour\": 17, \"time_of_day\": \"PM Peak\", \"p25\": 0.42, \"p50\": 0.42, \"p75\": 0.42, \"p50_trip\": 1, \"fastest_trip\": 0, \"car_duration_hours\": 0.36, \"competitive_route\": 1, \"bus_multiplier\": 1.17, \"bus_difference\": 3.6, \"num_trips\": 13, \"num_competitive\": 13, \"pct_trips_competitive\": 1.0, \"bus_difference_spread\": 0.0, \"route_group\": \"short\", \"max_trip_hrs\": 0.42, \"max_trip_route_group\": 0.92, \"name\": \"City of Petaluma\", \"caltrans_district\": \"04 - Oakland\", \"drmt_organization_name\": null, \"cutoff2\": 20, \"cutoff\": 0}, {\"calitp_itp_id\": 247, \"trip_key\": 7266456860689447603, \"trip_id\": \"t_216259_b_33569_tn_5\", \"shape_id\": \"p_4758\", \"route_id\": \"2037\", \"service_hours\": 0.42, \"trip_first_departure_ts\": 37800, \"trip_last_arrival_ts\": 39300, \"departure_hour\": 10, \"time_of_day\": \"Midday\", \"p25\": 0.42, \"p50\": 0.42, \"p75\": 0.42, \"p50_trip\": 1, \"fastest_trip\": 0, \"car_duration_hours\": 0.36, \"competitive_route\": 1, \"bus_multiplier\": 1.17, \"bus_difference\": 3.6, \"num_trips\": 13, \"num_competitive\": 13, \"pct_trips_competitive\": 1.0, \"bus_difference_spread\": 0.0, \"route_group\": \"short\", \"max_trip_hrs\": 0.42, \"max_trip_route_group\": 0.92, \"name\": \"City of Petaluma\", \"caltrans_district\": \"04 - Oakland\", \"drmt_organization_name\": null, \"cutoff2\": 20, \"cutoff\": 0}, {\"calitp_itp_id\": 247, \"trip_key\": 6205893451698149432, \"trip_id\": \"t_216259_b_33569_tn_1\", \"shape_id\": \"p_4758\", \"route_id\": \"2037\", \"service_hours\": 0.42, \"trip_first_departure_ts\": 23400, \"trip_last_arrival_ts\": 24900, \"departure_hour\": 6, \"time_of_day\": \"Owl Service\", \"p25\": 0.42, \"p50\": 0.42, \"p75\": 0.42, \"p50_trip\": 1, \"fastest_trip\": 0, \"car_duration_hours\": 0.36, \"competitive_route\": 1, \"bus_multiplier\": 1.17, \"bus_difference\": 3.6, \"num_trips\": 13, \"num_competitive\": 13, \"pct_trips_competitive\": 1.0, \"bus_difference_spread\": 0.0, \"route_group\": \"short\", \"max_trip_hrs\": 0.42, \"max_trip_route_group\": 0.92, \"name\": \"City of Petaluma\", \"caltrans_district\": \"04 - Oakland\", \"drmt_organization_name\": null, \"cutoff2\": 20, \"cutoff\": 0}, {\"calitp_itp_id\": 247, \"trip_key\": -3010902739249077310, \"trip_id\": \"t_216259_b_33569_tn_8\", \"shape_id\": \"p_4758\", \"route_id\": \"2037\", \"service_hours\": 0.42, \"trip_first_departure_ts\": 48600, \"trip_last_arrival_ts\": 50100, \"departure_hour\": 13, \"time_of_day\": \"Midday\", \"p25\": 0.42, \"p50\": 0.42, \"p75\": 0.42, \"p50_trip\": 1, \"fastest_trip\": 0, \"car_duration_hours\": 0.36, \"competitive_route\": 1, \"bus_multiplier\": 1.17, \"bus_difference\": 3.6, \"num_trips\": 13, \"num_competitive\": 13, \"pct_trips_competitive\": 1.0, \"bus_difference_spread\": 0.0, \"route_group\": \"short\", \"max_trip_hrs\": 0.42, \"max_trip_route_group\": 0.92, \"name\": \"City of Petaluma\", \"caltrans_district\": \"04 - Oakland\", \"drmt_organization_name\": null, \"cutoff2\": 20, \"cutoff\": 0}, {\"calitp_itp_id\": 247, \"trip_key\": -2982889411677610998, \"trip_id\": \"t_216259_b_33569_tn_3\", \"shape_id\": \"p_4758\", \"route_id\": \"2037\", \"service_hours\": 0.42, \"trip_first_departure_ts\": 30600, \"trip_last_arrival_ts\": 32100, \"departure_hour\": 8, \"time_of_day\": \"AM Peak\", \"p25\": 0.42, \"p50\": 0.42, \"p75\": 0.42, \"p50_trip\": 1, \"fastest_trip\": 0, \"car_duration_hours\": 0.36, \"competitive_route\": 1, \"bus_multiplier\": 1.17, \"bus_difference\": 3.6, \"num_trips\": 13, \"num_competitive\": 13, \"pct_trips_competitive\": 1.0, \"bus_difference_spread\": 0.0, \"route_group\": \"short\", \"max_trip_hrs\": 0.42, \"max_trip_route_group\": 0.92, \"name\": \"City of Petaluma\", \"caltrans_district\": \"04 - Oakland\", \"drmt_organization_name\": null, \"cutoff2\": 20, \"cutoff\": 0}, {\"calitp_itp_id\": 247, \"trip_key\": 2538557862994929057, \"trip_id\": \"t_216259_b_33569_tn_9\", \"shape_id\": \"p_4758\", \"route_id\": \"2037\", \"service_hours\": 0.42, \"trip_first_departure_ts\": 52200, \"trip_last_arrival_ts\": 53700, \"departure_hour\": 14, \"time_of_day\": \"Midday\", \"p25\": 0.42, \"p50\": 0.42, \"p75\": 0.42, \"p50_trip\": 1, \"fastest_trip\": 0, \"car_duration_hours\": 0.36, \"competitive_route\": 1, \"bus_multiplier\": 1.17, \"bus_difference\": 3.6, \"num_trips\": 13, \"num_competitive\": 13, \"pct_trips_competitive\": 1.0, \"bus_difference_spread\": 0.0, \"route_group\": \"short\", \"max_trip_hrs\": 0.42, \"max_trip_route_group\": 0.92, \"name\": \"City of Petaluma\", \"caltrans_district\": \"04 - Oakland\", \"drmt_organization_name\": null, \"cutoff2\": 20, \"cutoff\": 0}, {\"calitp_itp_id\": 247, \"trip_key\": -2108287277331060576, \"trip_id\": \"t_216379_b_33569_tn_2\", \"shape_id\": \"p_4761\", \"route_id\": \"2038\", \"service_hours\": 0.42, \"trip_first_departure_ts\": 32400, \"trip_last_arrival_ts\": 33900, \"departure_hour\": 9, \"time_of_day\": \"AM Peak\", \"p25\": 0.42, \"p50\": 0.42, \"p75\": 0.42, \"p50_trip\": 1, \"fastest_trip\": 0, \"car_duration_hours\": 0.35, \"competitive_route\": 1, \"bus_multiplier\": 1.2, \"bus_difference\": 4.2, \"num_trips\": 13, \"num_competitive\": 13, \"pct_trips_competitive\": 1.0, \"bus_difference_spread\": 0.0, \"route_group\": \"short\", \"max_trip_hrs\": 0.42, \"max_trip_route_group\": 0.92, \"name\": \"City of Petaluma\", \"caltrans_district\": \"04 - Oakland\", \"drmt_organization_name\": null, \"cutoff2\": 20, \"cutoff\": 0}, {\"calitp_itp_id\": 247, \"trip_key\": -2575018057491903405, \"trip_id\": \"t_216379_b_33569_tn_4\", \"shape_id\": \"p_4761\", \"route_id\": \"2038\", \"service_hours\": 0.42, \"trip_first_departure_ts\": 39600, \"trip_last_arrival_ts\": 41100, \"departure_hour\": 11, \"time_of_day\": \"Midday\", \"p25\": 0.42, \"p50\": 0.42, \"p75\": 0.42, \"p50_trip\": 1, \"fastest_trip\": 0, \"car_duration_hours\": 0.35, \"competitive_route\": 1, \"bus_multiplier\": 1.2, \"bus_difference\": 4.2, \"num_trips\": 13, \"num_competitive\": 13, \"pct_trips_competitive\": 1.0, \"bus_difference_spread\": 0.0, \"route_group\": \"short\", \"max_trip_hrs\": 0.42, \"max_trip_route_group\": 0.92, \"name\": \"City of Petaluma\", \"caltrans_district\": \"04 - Oakland\", \"drmt_organization_name\": null, \"cutoff2\": 20, \"cutoff\": 0}, {\"calitp_itp_id\": 247, \"trip_key\": -2478166994407151805, \"trip_id\": \"t_216379_b_33569_tn_1\", \"shape_id\": \"p_4761\", \"route_id\": \"2038\", \"service_hours\": 0.42, \"trip_first_departure_ts\": 28800, \"trip_last_arrival_ts\": 30300, \"departure_hour\": 8, \"time_of_day\": \"AM Peak\", \"p25\": 0.42, \"p50\": 0.42, \"p75\": 0.42, \"p50_trip\": 1, \"fastest_trip\": 0, \"car_duration_hours\": 0.35, \"competitive_route\": 1, \"bus_multiplier\": 1.2, \"bus_difference\": 4.2, \"num_trips\": 13, \"num_competitive\": 13, \"pct_trips_competitive\": 1.0, \"bus_difference_spread\": 0.0, \"route_group\": \"short\", \"max_trip_hrs\": 0.42, \"max_trip_route_group\": 0.92, \"name\": \"City of Petaluma\", \"caltrans_district\": \"04 - Oakland\", \"drmt_organization_name\": null, \"cutoff2\": 20, \"cutoff\": 0}, {\"calitp_itp_id\": 247, \"trip_key\": 4527531421604169302, \"trip_id\": \"t_216379_b_33569_tn_6\", \"shape_id\": \"p_4761\", \"route_id\": \"2038\", \"service_hours\": 0.42, \"trip_first_departure_ts\": 46800, \"trip_last_arrival_ts\": 48300, \"departure_hour\": 13, \"time_of_day\": \"Midday\", \"p25\": 0.42, \"p50\": 0.42, \"p75\": 0.42, \"p50_trip\": 1, \"fastest_trip\": 0, \"car_duration_hours\": 0.35, \"competitive_route\": 1, \"bus_multiplier\": 1.2, \"bus_difference\": 4.2, \"num_trips\": 13, \"num_competitive\": 13, \"pct_trips_competitive\": 1.0, \"bus_difference_spread\": 0.0, \"route_group\": \"short\", \"max_trip_hrs\": 0.42, \"max_trip_route_group\": 0.92, \"name\": \"City of Petaluma\", \"caltrans_district\": \"04 - Oakland\", \"drmt_organization_name\": null, \"cutoff2\": 20, \"cutoff\": 0}, {\"calitp_itp_id\": 247, \"trip_key\": 4497899107465775762, \"trip_id\": \"t_216371_b_33569_tn_0\", \"shape_id\": \"p_4761\", \"route_id\": \"2038\", \"service_hours\": 0.42, \"trip_first_departure_ts\": 54900, \"trip_last_arrival_ts\": 56400, \"departure_hour\": 15, \"time_of_day\": \"Midday\", \"p25\": 0.42, \"p50\": 0.42, \"p75\": 0.42, \"p50_trip\": 1, \"fastest_trip\": 0, \"car_duration_hours\": 0.35, \"competitive_route\": 1, \"bus_multiplier\": 1.2, \"bus_difference\": 4.2, \"num_trips\": 13, \"num_competitive\": 13, \"pct_trips_competitive\": 1.0, \"bus_difference_spread\": 0.0, \"route_group\": \"short\", \"max_trip_hrs\": 0.42, \"max_trip_route_group\": 0.92, \"name\": \"City of Petaluma\", \"caltrans_district\": \"04 - Oakland\", \"drmt_organization_name\": null, \"cutoff2\": 20, \"cutoff\": 0}, {\"calitp_itp_id\": 247, \"trip_key\": 8124997173371916077, \"trip_id\": \"t_216375_b_33569_tn_0\", \"shape_id\": \"p_177271\", \"route_id\": \"2038\", \"service_hours\": 0.42, \"trip_first_departure_ts\": 25200, \"trip_last_arrival_ts\": 26700, \"departure_hour\": 7, \"time_of_day\": \"AM Peak\", \"p25\": 0.42, \"p50\": 0.42, \"p75\": 0.42, \"p50_trip\": 1, \"fastest_trip\": 0, \"car_duration_hours\": 0.35, \"competitive_route\": 1, \"bus_multiplier\": 1.2, \"bus_difference\": 4.2, \"num_trips\": 13, \"num_competitive\": 13, \"pct_trips_competitive\": 1.0, \"bus_difference_spread\": 0.0, \"route_group\": \"short\", \"max_trip_hrs\": 0.42, \"max_trip_route_group\": 0.92, \"name\": \"City of Petaluma\", \"caltrans_district\": \"04 - Oakland\", \"drmt_organization_name\": null, \"cutoff2\": 20, \"cutoff\": 0}, {\"calitp_itp_id\": 247, \"trip_key\": -7223981016971492127, \"trip_id\": \"t_216379_b_33569_tn_5\", \"shape_id\": \"p_4761\", \"route_id\": \"2038\", \"service_hours\": 0.42, \"trip_first_departure_ts\": 43200, \"trip_last_arrival_ts\": 44700, \"departure_hour\": 12, \"time_of_day\": \"Midday\", \"p25\": 0.42, \"p50\": 0.42, \"p75\": 0.42, \"p50_trip\": 1, \"fastest_trip\": 0, \"car_duration_hours\": 0.35, \"competitive_route\": 1, \"bus_multiplier\": 1.2, \"bus_difference\": 4.2, \"num_trips\": 13, \"num_competitive\": 13, \"pct_trips_competitive\": 1.0, \"bus_difference_spread\": 0.0, \"route_group\": \"short\", \"max_trip_hrs\": 0.42, \"max_trip_route_group\": 0.92, \"name\": \"City of Petaluma\", \"caltrans_district\": \"04 - Oakland\", \"drmt_organization_name\": null, \"cutoff2\": 20, \"cutoff\": 0}, {\"calitp_itp_id\": 247, \"trip_key\": 5684065742895373217, \"trip_id\": \"t_216379_b_33569_tn_7\", \"shape_id\": \"p_4761\", \"route_id\": \"2038\", \"service_hours\": 0.42, \"trip_first_departure_ts\": 50400, \"trip_last_arrival_ts\": 51900, \"departure_hour\": 14, \"time_of_day\": \"Midday\", \"p25\": 0.42, \"p50\": 0.42, \"p75\": 0.42, \"p50_trip\": 1, \"fastest_trip\": 0, \"car_duration_hours\": 0.35, \"competitive_route\": 1, \"bus_multiplier\": 1.2, \"bus_difference\": 4.2, \"num_trips\": 13, \"num_competitive\": 13, \"pct_trips_competitive\": 1.0, \"bus_difference_spread\": 0.0, \"route_group\": \"short\", \"max_trip_hrs\": 0.42, \"max_trip_route_group\": 0.92, \"name\": \"City of Petaluma\", \"caltrans_district\": \"04 - Oakland\", \"drmt_organization_name\": null, \"cutoff2\": 20, \"cutoff\": 0}, {\"calitp_itp_id\": 247, \"trip_key\": -6950231050159511586, \"trip_id\": \"t_216373_b_33569_tn_2\", \"shape_id\": \"p_4761\", \"route_id\": \"2038\", \"service_hours\": 0.42, \"trip_first_departure_ts\": 68400, \"trip_last_arrival_ts\": 69900, \"departure_hour\": 19, \"time_of_day\": \"PM Peak\", \"p25\": 0.42, \"p50\": 0.42, \"p75\": 0.42, \"p50_trip\": 1, \"fastest_trip\": 0, \"car_duration_hours\": 0.35, \"competitive_route\": 1, \"bus_multiplier\": 1.2, \"bus_difference\": 4.2, \"num_trips\": 13, \"num_competitive\": 13, \"pct_trips_competitive\": 1.0, \"bus_difference_spread\": 0.0, \"route_group\": \"short\", \"max_trip_hrs\": 0.42, \"max_trip_route_group\": 0.92, \"name\": \"City of Petaluma\", \"caltrans_district\": \"04 - Oakland\", \"drmt_organization_name\": null, \"cutoff2\": 20, \"cutoff\": 0}, {\"calitp_itp_id\": 247, \"trip_key\": 2133293619556040335, \"trip_id\": \"t_216379_b_33569_tn_3\", \"shape_id\": \"p_4761\", \"route_id\": \"2038\", \"service_hours\": 0.42, \"trip_first_departure_ts\": 36000, \"trip_last_arrival_ts\": 37500, \"departure_hour\": 10, \"time_of_day\": \"Midday\", \"p25\": 0.42, \"p50\": 0.42, \"p75\": 0.42, \"p50_trip\": 1, \"fastest_trip\": 0, \"car_duration_hours\": 0.35, \"competitive_route\": 1, \"bus_multiplier\": 1.2, \"bus_difference\": 4.2, \"num_trips\": 13, \"num_competitive\": 13, \"pct_trips_competitive\": 1.0, \"bus_difference_spread\": 0.0, \"route_group\": \"short\", \"max_trip_hrs\": 0.42, \"max_trip_route_group\": 0.92, \"name\": \"City of Petaluma\", \"caltrans_district\": \"04 - Oakland\", \"drmt_organization_name\": null, \"cutoff2\": 20, \"cutoff\": 0}, {\"calitp_itp_id\": 247, \"trip_key\": 4855882027186445984, \"trip_id\": \"t_216373_b_33569_tn_3\", \"shape_id\": \"p_4761\", \"route_id\": \"2038\", \"service_hours\": 0.42, \"trip_first_departure_ts\": 72000, \"trip_last_arrival_ts\": 73500, \"departure_hour\": 20, \"time_of_day\": \"Owl Service\", \"p25\": 0.42, \"p50\": 0.42, \"p75\": 0.42, \"p50_trip\": 1, \"fastest_trip\": 1, \"car_duration_hours\": 0.35, \"competitive_route\": 1, \"bus_multiplier\": 1.2, \"bus_difference\": 4.2, \"num_trips\": 13, \"num_competitive\": 13, \"pct_trips_competitive\": 1.0, \"bus_difference_spread\": 0.0, \"route_group\": \"short\", \"max_trip_hrs\": 0.42, \"max_trip_route_group\": 0.92, \"name\": \"City of Petaluma\", \"caltrans_district\": \"04 - Oakland\", \"drmt_organization_name\": null, \"cutoff2\": 20, \"cutoff\": 0}, {\"calitp_itp_id\": 247, \"trip_key\": 699798207918204687, \"trip_id\": \"t_216373_b_33569_tn_1\", \"shape_id\": \"p_4761\", \"route_id\": \"2038\", \"service_hours\": 0.42, \"trip_first_departure_ts\": 64800, \"trip_last_arrival_ts\": 66300, \"departure_hour\": 18, \"time_of_day\": \"PM Peak\", \"p25\": 0.42, \"p50\": 0.42, \"p75\": 0.42, \"p50_trip\": 1, \"fastest_trip\": 0, \"car_duration_hours\": 0.35, \"competitive_route\": 1, \"bus_multiplier\": 1.2, \"bus_difference\": 4.2, \"num_trips\": 13, \"num_competitive\": 13, \"pct_trips_competitive\": 1.0, \"bus_difference_spread\": 0.0, \"route_group\": \"short\", \"max_trip_hrs\": 0.42, \"max_trip_route_group\": 0.92, \"name\": \"City of Petaluma\", \"caltrans_district\": \"04 - Oakland\", \"drmt_organization_name\": null, \"cutoff2\": 20, \"cutoff\": 0}, {\"calitp_itp_id\": 247, \"trip_key\": -8330273589701382888, \"trip_id\": \"t_216372_b_33569_tn_0\", \"shape_id\": \"p_4761\", \"route_id\": \"2038\", \"service_hours\": 0.42, \"trip_first_departure_ts\": 59700, \"trip_last_arrival_ts\": 61200, \"departure_hour\": 16, \"time_of_day\": \"Midday\", \"p25\": 0.42, \"p50\": 0.42, \"p75\": 0.42, \"p50_trip\": 1, \"fastest_trip\": 0, \"car_duration_hours\": 0.35, \"competitive_route\": 1, \"bus_multiplier\": 1.2, \"bus_difference\": 4.2, \"num_trips\": 13, \"num_competitive\": 13, \"pct_trips_competitive\": 1.0, \"bus_difference_spread\": 0.0, \"route_group\": \"short\", \"max_trip_hrs\": 0.42, \"max_trip_route_group\": 0.92, \"name\": \"City of Petaluma\", \"caltrans_district\": \"04 - Oakland\", \"drmt_organization_name\": null, \"cutoff2\": 20, \"cutoff\": 0}]}}, {\"mode\": \"vega-lite\"});\n",
       "</script>"
      ],
      "text/plain": [
       "alt.FacetChart(...)"
      ]
     },
     "metadata": {},
     "output_type": "display_data"
    }
   ],
   "source": [
    "# Allow for possibility that operator doesn't have routes that fall into certain route_groups\n",
    "# But, jupyterbook will not like markdown with f-string\n",
    "# separate out route_group and put in each cell, and use try/except + if to display...\n",
    "# but all 3 route groups must be displayed. just add sentence about why no routes were returned at the end\n",
    "route_group = \"short\"\n",
    "try:\n",
    "    subset_routes, mult, diff  = setup_charts(df, PCT_COMPETITIVE_THRESHOLD, route_group)\n",
    "    \n",
    "    if len(subset_routes) > 0:\n",
    "        display(\n",
    "            Markdown(\n",
    "                f\"{CAPTIONS_DICT[route_group]}\"\n",
    "                \"Within each route group, routes are sorted in descending order \"\n",
    "                \"by % competitive trips and # trips below the additional time cut-off.\"\n",
    "            )\n",
    "        )\n",
    "\n",
    "        display(mult)\n",
    "        display(diff)\n",
    "except:\n",
    "    print(\"No routes meet this criteria.\")"
   ]
  },
  {
   "cell_type": "markdown",
   "id": "c2931b6f-034d-4384-9e14-80b925e3b820",
   "metadata": {
    "papermill": {
     "duration": 0.014042,
     "end_time": "2022-05-08T15:51:13.135399",
     "exception": false,
     "start_time": "2022-05-08T15:51:13.121357",
     "status": "completed"
    },
    "tags": []
   },
   "source": [
    "### Medium Routes (1-1.5 hrs)"
   ]
  },
  {
   "cell_type": "code",
   "execution_count": 13,
   "id": "480edddc-4de0-48c2-ae4c-b0ceef8f28b5",
   "metadata": {
    "execution": {
     "iopub.execute_input": "2022-05-08T15:51:13.164163Z",
     "iopub.status.busy": "2022-05-08T15:51:13.163849Z",
     "iopub.status.idle": "2022-05-08T15:51:13.179160Z",
     "shell.execute_reply": "2022-05-08T15:51:13.178552Z"
    },
    "jupyter": {
     "source_hidden": true
    },
    "papermill": {
     "duration": 0.03223,
     "end_time": "2022-05-08T15:51:13.180811",
     "exception": false,
     "start_time": "2022-05-08T15:51:13.148581",
     "status": "completed"
    },
    "tags": [
     "remove_input"
    ]
   },
   "outputs": [
    {
     "name": "stdout",
     "output_type": "stream",
     "text": [
      "No routes meet this criteria.\n"
     ]
    }
   ],
   "source": [
    "route_group = \"medium\"\n",
    "try:\n",
    "    subset_routes, mult, diff  = setup_charts(df, PCT_COMPETITIVE_THRESHOLD, route_group)\n",
    "    if len(subset_routes) > 0:\n",
    "        display(\n",
    "            Markdown(\n",
    "                f\"{CAPTIONS_DICT[route_group]}\"\n",
    "                \"Within each route group, routes are sorted in descending order \"\n",
    "                \"by % competitive trips and # trips below the additional time cut-off.\"\n",
    "            )\n",
    "        )\n",
    "\n",
    "        display(mult)\n",
    "        display(diff)\n",
    "except:\n",
    "    print(\"No routes meet this criteria.\")"
   ]
  },
  {
   "cell_type": "markdown",
   "id": "124b76d0-886c-4d03-92ac-f1bda3cda182",
   "metadata": {
    "papermill": {
     "duration": 0.026894,
     "end_time": "2022-05-08T15:51:13.221073",
     "exception": false,
     "start_time": "2022-05-08T15:51:13.194179",
     "status": "completed"
    },
    "tags": []
   },
   "source": [
    "### Long Routes (> 1.5 hrs)"
   ]
  },
  {
   "cell_type": "code",
   "execution_count": 14,
   "id": "ddc81b19-4c45-4c81-8b7a-5e0f394aa7a3",
   "metadata": {
    "execution": {
     "iopub.execute_input": "2022-05-08T15:51:13.251003Z",
     "iopub.status.busy": "2022-05-08T15:51:13.250744Z",
     "iopub.status.idle": "2022-05-08T15:51:13.263635Z",
     "shell.execute_reply": "2022-05-08T15:51:13.262744Z"
    },
    "jupyter": {
     "source_hidden": true
    },
    "papermill": {
     "duration": 0.030026,
     "end_time": "2022-05-08T15:51:13.265467",
     "exception": false,
     "start_time": "2022-05-08T15:51:13.235441",
     "status": "completed"
    },
    "tags": [
     "remove_input"
    ]
   },
   "outputs": [
    {
     "name": "stdout",
     "output_type": "stream",
     "text": [
      "No routes meet this criteria.\n"
     ]
    }
   ],
   "source": [
    "route_group = \"long\"\n",
    "try:\n",
    "    subset_routes, mult, diff  = setup_charts(df, PCT_COMPETITIVE_THRESHOLD, route_group)\n",
    "    if len(subset_routes) > 0:\n",
    "        display(\n",
    "            Markdown(\n",
    "                f\"{CAPTIONS_DICT[route_group]}\"\n",
    "                \"Within each route group, routes are sorted in descending order \"\n",
    "                \"by % competitive trips and # trips below the additional time cut-off.\"\n",
    "            )\n",
    "        )\n",
    "\n",
    "        display(mult)\n",
    "        display(diff)\n",
    "except:\n",
    "    print(\"No routes meet this criteria.\")"
   ]
  }
 ],
 "metadata": {
  "kernelspec": {
   "display_name": "Python 3 (ipykernel)",
   "language": "python",
   "name": "python3"
  },
  "language_info": {
   "codemirror_mode": {
    "name": "ipython",
    "version": 3
   },
   "file_extension": ".py",
   "mimetype": "text/x-python",
   "name": "python",
   "nbconvert_exporter": "python",
   "pygments_lexer": "ipython3",
   "version": "3.9.12"
  },
  "papermill": {
   "default_parameters": {},
   "duration": 21.46365,
   "end_time": "2022-05-08T15:51:14.300865",
   "environment_variables": {},
   "exception": null,
   "input_path": "bus_service_increase/competitive-parallel-routes.ipynb",
   "output_path": "portfolio/parallel_corridors/district_04-oakland/competitive-parallel-routes__itp_id_247.ipynb",
   "parameters": {
    "district": "04 - Oakland",
    "itp_id": 247
   },
   "start_time": "2022-05-08T15:50:52.837215",
   "version": "2.3.4"
  }
 },
 "nbformat": 4,
 "nbformat_minor": 5
}