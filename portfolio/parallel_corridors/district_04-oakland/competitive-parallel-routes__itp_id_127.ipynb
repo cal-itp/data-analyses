{
 "cells": [
  {
   "cell_type": "code",
   "execution_count": 1,
   "id": "95d00857-6a20-4529-a519-2cc7182928a9",
   "metadata": {
    "execution": {
     "iopub.execute_input": "2022-05-09T16:39:31.670049Z",
     "iopub.status.busy": "2022-05-09T16:39:31.669226Z",
     "iopub.status.idle": "2022-05-09T16:39:41.093627Z",
     "shell.execute_reply": "2022-05-09T16:39:41.092459Z"
    },
    "jupyter": {
     "source_hidden": true
    },
    "papermill": {
     "duration": 9.447914,
     "end_time": "2022-05-09T16:39:41.097396",
     "exception": false,
     "start_time": "2022-05-09T16:39:31.649482",
     "status": "completed"
    },
    "tags": [
     "remove_input"
    ]
   },
   "outputs": [],
   "source": [
    "%%capture\n",
    "import warnings\n",
    "warnings.filterwarnings('ignore')\n",
    "\n",
    "import altair as alt\n",
    "import calitp.magics\n",
    "import geopandas as gpd\n",
    "import intake\n",
    "import pandas as pd\n",
    "\n",
    "from IPython.display import display, Markdown, HTML\n",
    "\n",
    "import parallel_corridors_utils\n",
    "from shared_utils import styleguide\n",
    "import deploy_portfolio_yaml\n",
    "\n",
    "catalog = intake.open_catalog(\"./*.yml\")\n",
    "alt.renderers.enable(\"html\")"
   ]
  },
  {
   "cell_type": "code",
   "execution_count": 2,
   "id": "8af2a0c1-f3da-408d-9bea-11d9fbf8695d",
   "metadata": {
    "execution": {
     "iopub.execute_input": "2022-05-09T16:39:41.128262Z",
     "iopub.status.busy": "2022-05-09T16:39:41.127784Z",
     "iopub.status.idle": "2022-05-09T16:39:41.133184Z",
     "shell.execute_reply": "2022-05-09T16:39:41.132058Z"
    },
    "jupyter": {
     "source_hidden": true
    },
    "papermill": {
     "duration": 0.025336,
     "end_time": "2022-05-09T16:39:41.136645",
     "exception": false,
     "start_time": "2022-05-09T16:39:41.111309",
     "status": "completed"
    },
    "tags": [
     "parameters",
     "remove_input"
    ]
   },
   "outputs": [],
   "source": [
    "# parameters cell\n",
    "itp_id = 182"
   ]
  },
  {
   "cell_type": "code",
   "execution_count": 3,
   "id": "a79fe5f5",
   "metadata": {
    "execution": {
     "iopub.execute_input": "2022-05-09T16:39:41.169043Z",
     "iopub.status.busy": "2022-05-09T16:39:41.168661Z",
     "iopub.status.idle": "2022-05-09T16:39:41.173314Z",
     "shell.execute_reply": "2022-05-09T16:39:41.172316Z"
    },
    "jupyter": {
     "source_hidden": true
    },
    "papermill": {
     "duration": 0.021714,
     "end_time": "2022-05-09T16:39:41.175442",
     "exception": false,
     "start_time": "2022-05-09T16:39:41.153728",
     "status": "completed"
    },
    "tags": [
     "injected-parameters",
     "remove_input"
    ]
   },
   "outputs": [],
   "source": [
    "# Parameters\n",
    "district = \"04 - Oakland\"\n",
    "itp_id = 127\n"
   ]
  },
  {
   "cell_type": "code",
   "execution_count": 4,
   "id": "9582aaf4-79ff-412a-b248-8d8d693ebd4f",
   "metadata": {
    "execution": {
     "iopub.execute_input": "2022-05-09T16:39:41.207776Z",
     "iopub.status.busy": "2022-05-09T16:39:41.207099Z",
     "iopub.status.idle": "2022-05-09T16:39:42.650443Z",
     "shell.execute_reply": "2022-05-09T16:39:42.649268Z"
    },
    "jupyter": {
     "source_hidden": true
    },
    "papermill": {
     "duration": 1.463982,
     "end_time": "2022-05-09T16:39:42.653524",
     "exception": false,
     "start_time": "2022-05-09T16:39:41.189542",
     "status": "completed"
    },
    "tags": [
     "remove_input"
    ]
   },
   "outputs": [],
   "source": [
    "df = catalog.competitive_route_variability.read()\n",
    "\n",
    "df = (df[(df.calitp_itp_id == itp_id) & \n",
    "         (df.route_group.notna())]\n",
    "      .reset_index(drop=True)\n",
    "     )\n",
    "\n",
    "\n",
    "if itp_id == 182:\n",
    "    df = df.assign(\n",
    "        route_id = df.route_id.str.replace('-13153', '').astype(int)\n",
    "    )"
   ]
  },
  {
   "cell_type": "code",
   "execution_count": 5,
   "id": "33ac4b06-f647-4dce-a625-8f2c1b37cc60",
   "metadata": {
    "execution": {
     "iopub.execute_input": "2022-05-09T16:39:42.686362Z",
     "iopub.status.busy": "2022-05-09T16:39:42.685394Z",
     "iopub.status.idle": "2022-05-09T16:39:42.695828Z",
     "shell.execute_reply": "2022-05-09T16:39:42.694743Z"
    },
    "jupyter": {
     "source_hidden": true
    },
    "papermill": {
     "duration": 0.039299,
     "end_time": "2022-05-09T16:39:42.708292",
     "exception": false,
     "start_time": "2022-05-09T16:39:42.668993",
     "status": "completed"
    },
    "tags": [
     "remove_input"
    ]
   },
   "outputs": [],
   "source": [
    "%%capture_parameters\n",
    "operator_name = df.name.iloc[0]\n",
    "district_number = f\"{df.caltrans_district.iloc[0].split('-')[0].strip()}\"\n",
    "district_name = f\"{df.caltrans_district.iloc[0].split('-')[1].strip().lower().replace(' ', '-')}\"\n",
    "\n",
    "itp_id, operator_name, district_number, district_name"
   ]
  },
  {
   "cell_type": "markdown",
   "id": "65bc6f5c-8348-42ee-b2dd-52057c406852",
   "metadata": {
    "papermill": {
     "duration": 0.013836,
     "end_time": "2022-05-09T16:39:42.734900",
     "exception": false,
     "start_time": "2022-05-09T16:39:42.721064",
     "status": "completed"
    },
    "tags": []
   },
   "source": [
    "# Golden Gate Bridge, Highway and Transportation District (ITP ID: 127)"
   ]
  },
  {
   "cell_type": "code",
   "execution_count": 6,
   "id": "a689c1ab-2c6c-4831-8d64-897f5986f571",
   "metadata": {
    "execution": {
     "iopub.execute_input": "2022-05-09T16:39:42.763432Z",
     "iopub.status.busy": "2022-05-09T16:39:42.762421Z",
     "iopub.status.idle": "2022-05-09T16:39:42.770818Z",
     "shell.execute_reply": "2022-05-09T16:39:42.769506Z"
    },
    "jupyter": {
     "source_hidden": true
    },
    "papermill": {
     "duration": 0.025385,
     "end_time": "2022-05-09T16:39:42.772997",
     "exception": false,
     "start_time": "2022-05-09T16:39:42.747612",
     "status": "completed"
    },
    "tags": [
     "remove_input"
    ]
   },
   "outputs": [
    {
     "data": {
      "text/html": [
       "<h1>Competitive & Parallel Routes</h1>"
      ],
      "text/plain": [
       "<IPython.core.display.HTML object>"
      ]
     },
     "metadata": {},
     "output_type": "display_data"
    }
   ],
   "source": [
    "display(HTML(\"<h1>Competitive & Parallel Routes</h1>\")) "
   ]
  },
  {
   "cell_type": "code",
   "execution_count": 7,
   "id": "2cb4d8d5-4760-40e4-85b1-cb833d8bb648",
   "metadata": {
    "execution": {
     "iopub.execute_input": "2022-05-09T16:39:42.812997Z",
     "iopub.status.busy": "2022-05-09T16:39:42.811869Z",
     "iopub.status.idle": "2022-05-09T16:39:55.911671Z",
     "shell.execute_reply": "2022-05-09T16:39:55.910394Z"
    },
    "jupyter": {
     "source_hidden": true
    },
    "papermill": {
     "duration": 13.127673,
     "end_time": "2022-05-09T16:39:55.915175",
     "exception": false,
     "start_time": "2022-05-09T16:39:42.787502",
     "status": "completed"
    },
    "tags": [
     "remove_input"
    ]
   },
   "outputs": [],
   "source": [
    "# Grab parameters for narrative text - clean up formatting here \n",
    "district = df.caltrans_district.iloc[0]\n",
    "formatted_date = pd.to_datetime(parallel_corridors_utils.SELECTED_DATE).strftime('%m-%d-%Y')\n",
    "\n",
    "PCT_COMPETITIVE_THRESHOLD = 0.75\n",
    "\n",
    "stats = parallel_corridors_utils.operator_parallel_competitive_stats(\n",
    "    itp_id, PCT_COMPETITIVE_THRESHOLD)\n",
    "\n",
    "pct_parallel = round(stats['parallel_routes'] / stats['num_routes'] * 100,1 )\n",
    "pct_competitive =  round(stats['competitive_routes'] / stats['num_routes'] * 100,1 )"
   ]
  },
  {
   "cell_type": "markdown",
   "id": "ab667928-5274-4490-82d9-4c39293209a4",
   "metadata": {
    "papermill": {
     "duration": 0.013632,
     "end_time": "2022-05-09T16:39:55.943096",
     "exception": false,
     "start_time": "2022-05-09T16:39:55.929464",
     "status": "completed"
    },
    "tags": []
   },
   "source": [
    "## Quick Stats"
   ]
  },
  {
   "cell_type": "code",
   "execution_count": 8,
   "id": "0416509d-dc62-4165-b62e-64f8b26e8b8e",
   "metadata": {
    "execution": {
     "iopub.execute_input": "2022-05-09T16:39:55.975473Z",
     "iopub.status.busy": "2022-05-09T16:39:55.975094Z",
     "iopub.status.idle": "2022-05-09T16:39:55.982650Z",
     "shell.execute_reply": "2022-05-09T16:39:55.981352Z"
    },
    "jupyter": {
     "source_hidden": true
    },
    "papermill": {
     "duration": 0.025652,
     "end_time": "2022-05-09T16:39:55.984865",
     "exception": false,
     "start_time": "2022-05-09T16:39:55.959213",
     "status": "completed"
    },
    "tags": [
     "remove_input"
    ]
   },
   "outputs": [
    {
     "data": {
      "text/markdown": [
       "**Bus routes in service**: 22 <br>**Parallel routes** to State Highway Network (SHN): 5 routes (22.7%)<br>**Competitive routes** against car travel: 1 routes (4.5%)"
      ],
      "text/plain": [
       "<IPython.core.display.Markdown object>"
      ]
     },
     "metadata": {},
     "output_type": "display_data"
    }
   ],
   "source": [
    "display(\n",
    "    Markdown(\n",
    "        f\"**Bus routes in service**: {stats['num_routes']} \"\n",
    "        \"<br>**Parallel routes** to State Highway Network (SHN): \"\n",
    "        f\"{stats['parallel_routes']} routes ({pct_parallel}%)\"\n",
    "        f\"<br>**Competitive routes** against car travel: {stats['competitive_routes']} routes ({pct_competitive}%)\"\n",
    "    )\n",
    ")"
   ]
  },
  {
   "cell_type": "code",
   "execution_count": 9,
   "id": "f9d6ab58-f0ee-460c-b6de-657490e1f386",
   "metadata": {
    "execution": {
     "iopub.execute_input": "2022-05-09T16:39:56.026099Z",
     "iopub.status.busy": "2022-05-09T16:39:56.025328Z",
     "iopub.status.idle": "2022-05-09T16:39:56.037119Z",
     "shell.execute_reply": "2022-05-09T16:39:56.036218Z"
    },
    "jupyter": {
     "source_hidden": true
    },
    "papermill": {
     "duration": 0.041058,
     "end_time": "2022-05-09T16:39:56.039779",
     "exception": false,
     "start_time": "2022-05-09T16:39:55.998721",
     "status": "completed"
    },
    "tags": [
     "remove_input"
    ]
   },
   "outputs": [],
   "source": [
    "def set_yaxis_range(df, y_col):\n",
    "    Y_MIN = df[y_col].min()\n",
    "    Y_MAX = df[y_col].max()\n",
    "    \n",
    "    return Y_MIN, Y_MAX\n",
    "\n",
    "# Rather than set it according to the operator, which can vary,\n",
    "# just use set thresholds for each group\n",
    "diff_cutoffs = parallel_corridors_utils.diff_cutoffs\n",
    "\n",
    "PCT_TRIPS_BELOW_CUTOFF = 0.25\n",
    "\n",
    "def top15_routes(df, route_group):\n",
    "    df2 = (df[df.route_group==route_group])\n",
    "    # Set a cut-off to enable sorting, where most of the trips are \n",
    "    # below a certain time difference cut-off, \n",
    "    # grab top 15 routes where majority of trips are below that cut-off \n",
    "\n",
    "    route_cols = [\"calitp_itp_id\", \"route_id\"]\n",
    "\n",
    "    df2 = df2.assign(\n",
    "        below_cutoff = df2.apply(lambda x: 1 if x.bus_difference <= diff_cutoffs[route_group] \n",
    "                                 else 0, axis=1),\n",
    "        num_trips = df2.groupby(route_cols)[\"trip_id\"].transform(\"count\")\n",
    "    )\n",
    "\n",
    "    df2[\"below_cutoff\"] = df2.groupby(route_cols)[\"below_cutoff\"].transform(\"sum\")\n",
    "    df2[\"pct_below_cutoff\"] = df2.below_cutoff.divide(df2.num_trips)\n",
    "\n",
    "    # At least half the trips are below that cut-off\n",
    "    # but show 15 max, otherwise, show less, since these won't be as interesting to operators\n",
    "    df3 = (df2[df2.pct_below_cutoff >= PCT_TRIPS_BELOW_CUTOFF]\n",
    "           .sort_values([\"calitp_itp_id\", \"below_cutoff\", \n",
    "                         \"pct_below_cutoff\", \"route_id\"],\n",
    "                        ascending = [True, False, False, True]\n",
    "                       )\n",
    "           .drop_duplicates(subset=[\"calitp_itp_id\", \"route_id\"])\n",
    "          ).head(15)\n",
    "    \n",
    "    return list(df3.route_id)"
   ]
  },
  {
   "cell_type": "code",
   "execution_count": 10,
   "id": "cf36d559-3349-4144-8086-8ac9ce937a5a",
   "metadata": {
    "execution": {
     "iopub.execute_input": "2022-05-09T16:39:56.074377Z",
     "iopub.status.busy": "2022-05-09T16:39:56.073740Z",
     "iopub.status.idle": "2022-05-09T16:39:56.080197Z",
     "shell.execute_reply": "2022-05-09T16:39:56.079229Z"
    },
    "jupyter": {
     "source_hidden": true
    },
    "papermill": {
     "duration": 0.027921,
     "end_time": "2022-05-09T16:39:56.083264",
     "exception": false,
     "start_time": "2022-05-09T16:39:56.055343",
     "status": "completed"
    },
    "tags": [
     "remove_input"
    ]
   },
   "outputs": [],
   "source": [
    "def caption_with_cutoff(cutoff):\n",
    "    sentence = (\n",
    "        f\"<br>These are routes that have **at least {int(PCT_TRIPS_BELOW_CUTOFF*100)}% \"\n",
    "        \"of their trips take no more than an \"\n",
    "        f\"additional {cutoff} min** compared to a car \"\n",
    "        \"(up to 15 routes) are shown.\"\n",
    "        \"<br>Within each route group, routes are sorted in descending order \"\n",
    "        \"by % competitive trips and # trips below the additional time cut-off.\"\n",
    "    )\n",
    "    return sentence\n",
    "\n",
    "CAPTIONS_DICT = {\n",
    "    \"short\": caption_with_cutoff(diff_cutoffs['short']),\n",
    "    \"medium\": caption_with_cutoff(diff_cutoffs['medium']),\n",
    "    \"long\": caption_with_cutoff(diff_cutoffs['long']),\n",
    "}"
   ]
  },
  {
   "cell_type": "code",
   "execution_count": 11,
   "id": "e4306d58-6944-47e9-afef-5d5b524c751f",
   "metadata": {
    "execution": {
     "iopub.execute_input": "2022-05-09T16:39:56.131910Z",
     "iopub.status.busy": "2022-05-09T16:39:56.131490Z",
     "iopub.status.idle": "2022-05-09T16:39:56.145230Z",
     "shell.execute_reply": "2022-05-09T16:39:56.144251Z"
    },
    "jupyter": {
     "source_hidden": true
    },
    "papermill": {
     "duration": 0.035878,
     "end_time": "2022-05-09T16:39:56.148631",
     "exception": false,
     "start_time": "2022-05-09T16:39:56.112753",
     "status": "completed"
    },
    "tags": [
     "remove_input"
    ]
   },
   "outputs": [],
   "source": [
    "def setup_charts(df, PCT_COMPETITIVE_THRESHOLD, route_group):\n",
    "    # Set up df for charting (cut-off at some threshold to show most competitive routes)\n",
    "    plot_me = (df[df.pct_trips_competitive > PCT_COMPETITIVE_THRESHOLD]\n",
    "           .drop(columns = \"geometry\")\n",
    "    )\n",
    "    \n",
    "    y_col1 = \"bus_multiplier\"\n",
    "    Y_MIN1, Y_MAX1 = set_yaxis_range(plot_me, y_col1)\n",
    "\n",
    "    y_col2 = \"bus_difference\"\n",
    "    Y_MIN2, Y_MAX2 = set_yaxis_range(plot_me, y_col2)\n",
    "     \n",
    "    subset_routes = top15_routes(plot_me, route_group)\n",
    "    \n",
    "    multiplier_chart = parallel_corridors_utils.make_stripplot(\n",
    "        plot_me[plot_me.route_id.isin(subset_routes)], \n",
    "        y_col1, Y_MIN = Y_MIN1, Y_MAX = Y_MAX1\n",
    "    )\n",
    "    \n",
    "    difference_chart = parallel_corridors_utils.make_stripplot(\n",
    "        plot_me[plot_me.route_id.isin(subset_routes)], \n",
    "        y_col2, Y_MIN = Y_MIN2, Y_MAX = Y_MAX2\n",
    "    )\n",
    "    \n",
    "    return subset_routes, multiplier_chart, difference_chart            "
   ]
  },
  {
   "cell_type": "code",
   "execution_count": 12,
   "id": "33a710e8-504c-4942-aa75-ff69f216956e",
   "metadata": {
    "execution": {
     "iopub.execute_input": "2022-05-09T16:39:56.197098Z",
     "iopub.status.busy": "2022-05-09T16:39:56.196663Z",
     "iopub.status.idle": "2022-05-09T16:39:56.207946Z",
     "shell.execute_reply": "2022-05-09T16:39:56.206780Z"
    },
    "jupyter": {
     "source_hidden": true
    },
    "papermill": {
     "duration": 0.04035,
     "end_time": "2022-05-09T16:39:56.211388",
     "exception": false,
     "start_time": "2022-05-09T16:39:56.171038",
     "status": "completed"
    },
    "tags": [
     "remove_input"
    ]
   },
   "outputs": [],
   "source": [
    "def display_charts_for_route_group(df, route_group):    \n",
    "    subset_routes, mult, diff  = setup_charts(df, PCT_COMPETITIVE_THRESHOLD, route_group)\n",
    "\n",
    "    if len(subset_routes) > 0:\n",
    "        display(Markdown(f\"{CAPTIONS_DICT[route_group]}\"))\n",
    "\n",
    "        display(mult)\n",
    "        display(diff)"
   ]
  },
  {
   "cell_type": "markdown",
   "id": "525f9b38-072b-46d1-96a8-1aa4b038357c",
   "metadata": {
    "papermill": {
     "duration": 0.02254,
     "end_time": "2022-05-09T16:39:56.258268",
     "exception": false,
     "start_time": "2022-05-09T16:39:56.235728",
     "status": "completed"
    },
    "tags": []
   },
   "source": [
    "## Viable Competitive Routes\n",
    "### Short Routes (< 1 hr)"
   ]
  },
  {
   "cell_type": "code",
   "execution_count": 13,
   "id": "57f7084c-2cf7-45c6-ba08-1609e0bd6ca5",
   "metadata": {
    "execution": {
     "iopub.execute_input": "2022-05-09T16:39:56.314416Z",
     "iopub.status.busy": "2022-05-09T16:39:56.313279Z",
     "iopub.status.idle": "2022-05-09T16:39:56.679572Z",
     "shell.execute_reply": "2022-05-09T16:39:56.678560Z"
    },
    "jupyter": {
     "source_hidden": true
    },
    "papermill": {
     "duration": 0.399667,
     "end_time": "2022-05-09T16:39:56.681871",
     "exception": false,
     "start_time": "2022-05-09T16:39:56.282204",
     "status": "completed"
    },
    "tags": [
     "remove_input"
    ]
   },
   "outputs": [
    {
     "data": {
      "text/markdown": [
       "<br>These are routes that have **at least 25% of their trips take no more than an additional 20 min** compared to a car (up to 15 routes) are shown.<br>Within each route group, routes are sorted in descending order by % competitive trips and # trips below the additional time cut-off."
      ],
      "text/plain": [
       "<IPython.core.display.Markdown object>"
      ]
     },
     "metadata": {},
     "output_type": "display_data"
    },
    {
     "data": {
      "text/html": [
       "\n",
       "<div id=\"altair-viz-76e76d3303494ddc89e8bb7ab1b8cb14\"></div>\n",
       "<script type=\"text/javascript\">\n",
       "  var VEGA_DEBUG = (typeof VEGA_DEBUG == \"undefined\") ? {} : VEGA_DEBUG;\n",
       "  (function(spec, embedOpt){\n",
       "    let outputDiv = document.currentScript.previousElementSibling;\n",
       "    if (outputDiv.id !== \"altair-viz-76e76d3303494ddc89e8bb7ab1b8cb14\") {\n",
       "      outputDiv = document.getElementById(\"altair-viz-76e76d3303494ddc89e8bb7ab1b8cb14\");\n",
       "    }\n",
       "    const paths = {\n",
       "      \"vega\": \"https://cdn.jsdelivr.net/npm//vega@5?noext\",\n",
       "      \"vega-lib\": \"https://cdn.jsdelivr.net/npm//vega-lib?noext\",\n",
       "      \"vega-lite\": \"https://cdn.jsdelivr.net/npm//vega-lite@4.17.0?noext\",\n",
       "      \"vega-embed\": \"https://cdn.jsdelivr.net/npm//vega-embed@6?noext\",\n",
       "    };\n",
       "\n",
       "    function maybeLoadScript(lib, version) {\n",
       "      var key = `${lib.replace(\"-\", \"\")}_version`;\n",
       "      return (VEGA_DEBUG[key] == version) ?\n",
       "        Promise.resolve(paths[lib]) :\n",
       "        new Promise(function(resolve, reject) {\n",
       "          var s = document.createElement('script');\n",
       "          document.getElementsByTagName(\"head\")[0].appendChild(s);\n",
       "          s.async = true;\n",
       "          s.onload = () => {\n",
       "            VEGA_DEBUG[key] = version;\n",
       "            return resolve(paths[lib]);\n",
       "          };\n",
       "          s.onerror = () => reject(`Error loading script: ${paths[lib]}`);\n",
       "          s.src = paths[lib];\n",
       "        });\n",
       "    }\n",
       "\n",
       "    function showError(err) {\n",
       "      outputDiv.innerHTML = `<div class=\"error\" style=\"color:red;\">${err}</div>`;\n",
       "      throw err;\n",
       "    }\n",
       "\n",
       "    function displayChart(vegaEmbed) {\n",
       "      vegaEmbed(outputDiv, spec, embedOpt)\n",
       "        .catch(err => showError(`Javascript Error: ${err.message}<br>This usually means there's a typo in your chart specification. See the javascript console for the full traceback.`));\n",
       "    }\n",
       "\n",
       "    if(typeof define === \"function\" && define.amd) {\n",
       "      requirejs.config({paths});\n",
       "      require([\"vega-embed\"], displayChart, err => showError(`Error loading script: ${err.message}`));\n",
       "    } else {\n",
       "      maybeLoadScript(\"vega\", \"5\")\n",
       "        .then(() => maybeLoadScript(\"vega-lite\", \"4.17.0\"))\n",
       "        .then(() => maybeLoadScript(\"vega-embed\", \"6\"))\n",
       "        .catch(showError)\n",
       "        .then(() => displayChart(vegaEmbed));\n",
       "    }\n",
       "  })({\"config\": {\"view\": {\"continuousWidth\": 400, \"continuousHeight\": 300, \"stroke\": null}, \"facet\": {\"spacing\": 0}}, \"data\": {\"name\": \"data-54c2a24468aaa3b8cbf5e02b289e5a01\"}, \"facet\": {\"column\": {\"field\": \"route_id\", \"sort\": [\"580-231\"], \"title\": \"Route ID\", \"type\": \"nominal\"}}, \"spec\": {\"layer\": [{\"mark\": \"rule\", \"encoding\": {\"color\": {\"value\": \"black\"}, \"y\": {\"field\": \"cutoff\", \"type\": \"quantitative\"}}, \"selection\": {\"selector001\": {\"type\": \"interval\", \"bind\": \"scales\", \"encodings\": [\"x\", \"y\"]}}}, {\"mark\": {\"type\": \"point\", \"opacity\": 0.65, \"size\": 12, \"strokeWidth\": 1.1}, \"encoding\": {\"color\": {\"field\": \"time_of_day\", \"scale\": {\"range\": [\"#136C97\", \"#E16B26\", \"#F6BF16\", \"#00896B\", \"#7790A3\", \"#5B559C\"]}, \"sort\": [\"AM Peak\", \"Midday\", \"PM Peak\", \"Owl Service\"], \"title\": \"Time of Day\", \"type\": \"nominal\"}, \"tooltip\": [{\"field\": \"route_id\", \"type\": \"nominal\"}, {\"field\": \"trip_id\", \"type\": \"nominal\"}, {\"field\": \"service_hours\", \"type\": \"quantitative\"}, {\"field\": \"car_duration_hours\", \"type\": \"quantitative\"}, {\"field\": \"bus_multiplier\", \"type\": \"quantitative\"}, {\"field\": \"bus_difference\", \"type\": \"quantitative\"}, {\"field\": \"num_trips\", \"type\": \"quantitative\"}, {\"field\": \"num_competitive\", \"type\": \"quantitative\"}, {\"field\": \"pct_trips_competitive\", \"type\": \"quantitative\"}, {\"field\": \"p25\", \"type\": \"quantitative\"}, {\"field\": \"p50\", \"type\": \"quantitative\"}, {\"field\": \"p75\", \"type\": \"quantitative\"}], \"x\": {\"axis\": {\"grid\": false, \"labels\": false, \"ticks\": true, \"values\": [0]}, \"field\": \"jitter\", \"scale\": {}, \"title\": null, \"type\": \"quantitative\"}, \"y\": {\"field\": \"bus_multiplier\", \"scale\": {\"domain\": [-0.25, 2.5]}, \"title\": \"Ratio of Bus to Car Travel Time\", \"type\": \"quantitative\"}}, \"transform\": [{\"calculate\": \"sqrt(-2*log(random()))*cos(2*PI*random())\", \"as\": \"jitter\"}], \"width\": 50}, {\"layer\": [{\"mark\": {\"type\": \"point\", \"opacity\": 0.6, \"size\": 20, \"strokeWidth\": 1.3}, \"encoding\": {\"color\": {\"value\": \"#323434\"}, \"y\": {\"field\": \"bus_multiplier\", \"type\": \"quantitative\"}}, \"transform\": [{\"filter\": \"(datum.p50_trip === 1)\"}]}, {\"mark\": {\"type\": \"text\", \"align\": \"center\", \"baseline\": \"middle\"}, \"encoding\": {\"color\": {\"value\": \"black\"}, \"text\": {\"field\": \"pct_trips_competitive\", \"format\": \".0%\", \"type\": \"quantitative\"}, \"tooltip\": [{\"field\": \"route_id\", \"type\": \"nominal\"}, {\"field\": \"trip_id\", \"type\": \"nominal\"}, {\"field\": \"service_hours\", \"type\": \"quantitative\"}, {\"field\": \"car_duration_hours\", \"type\": \"quantitative\"}, {\"field\": \"bus_multiplier\", \"type\": \"quantitative\"}, {\"field\": \"bus_difference\", \"type\": \"quantitative\"}, {\"field\": \"num_trips\", \"type\": \"quantitative\"}, {\"field\": \"num_competitive\", \"type\": \"quantitative\"}, {\"field\": \"pct_trips_competitive\", \"type\": \"quantitative\"}, {\"field\": \"p25\", \"type\": \"quantitative\"}, {\"field\": \"p50\", \"type\": \"quantitative\"}, {\"field\": \"p75\", \"type\": \"quantitative\"}], \"x\": {\"value\": 30}, \"y\": {\"value\": 15}}, \"transform\": [{\"calculate\": \"sqrt(-2*log(random()))*cos(2*PI*random())\", \"as\": \"jitter\"}, {\"filter\": \"(datum.fastest_trip === 1)\"}]}]}]}, \"resolve\": {\"scale\": {\"y\": \"shared\"}}, \"title\": \"Ratio of Bus to Car Travel Time\", \"$schema\": \"https://vega.github.io/schema/vega-lite/v4.17.0.json\", \"datasets\": {\"data-54c2a24468aaa3b8cbf5e02b289e5a01\": [{\"calitp_itp_id\": 127, \"trip_key\": -5960469048000926751, \"trip_id\": \"7447139\", \"shape_id\": \"5800017\", \"route_id\": \"580-231\", \"service_hours\": 0.55, \"trip_first_departure_ts\": 66600, \"trip_last_arrival_ts\": 68580, \"departure_hour\": 18, \"time_of_day\": \"PM Peak\", \"p25\": 0.6, \"p50\": 0.61, \"p75\": 0.67, \"p50_trip\": 0, \"fastest_trip\": 0, \"car_duration_hours\": 0.46, \"competitive_route\": 1, \"bus_multiplier\": 1.2, \"bus_difference\": 5.4, \"num_trips\": 44, \"num_competitive\": 44, \"pct_trips_competitive\": 1.0, \"bus_difference_spread\": 18.0, \"route_group\": \"short\", \"max_trip_hrs\": 0.85, \"max_trip_route_group\": 0.85, \"name\": \"Golden Gate Bridge, Highway and Transportation District\", \"caltrans_district\": \"04 - Oakland\", \"drmt_organization_name\": null, \"cutoff2\": 20, \"cutoff\": 2}, {\"calitp_itp_id\": 127, \"trip_key\": 6982045990522996432, \"trip_id\": \"7447141\", \"shape_id\": \"5800017\", \"route_id\": \"580-231\", \"service_hours\": 0.55, \"trip_first_departure_ts\": 73800, \"trip_last_arrival_ts\": 75780, \"departure_hour\": 20, \"time_of_day\": \"Owl Service\", \"p25\": 0.6, \"p50\": 0.61, \"p75\": 0.67, \"p50_trip\": 0, \"fastest_trip\": 0, \"car_duration_hours\": 0.46, \"competitive_route\": 1, \"bus_multiplier\": 1.2, \"bus_difference\": 5.4, \"num_trips\": 44, \"num_competitive\": 44, \"pct_trips_competitive\": 1.0, \"bus_difference_spread\": 18.0, \"route_group\": \"short\", \"max_trip_hrs\": 0.85, \"max_trip_route_group\": 0.85, \"name\": \"Golden Gate Bridge, Highway and Transportation District\", \"caltrans_district\": \"04 - Oakland\", \"drmt_organization_name\": null, \"cutoff2\": 20, \"cutoff\": 2}, {\"calitp_itp_id\": 127, \"trip_key\": 2043191468455544494, \"trip_id\": \"7447140\", \"shape_id\": \"5800017\", \"route_id\": \"580-231\", \"service_hours\": 0.55, \"trip_first_departure_ts\": 70200, \"trip_last_arrival_ts\": 72180, \"departure_hour\": 19, \"time_of_day\": \"PM Peak\", \"p25\": 0.6, \"p50\": 0.61, \"p75\": 0.67, \"p50_trip\": 0, \"fastest_trip\": 0, \"car_duration_hours\": 0.46, \"competitive_route\": 1, \"bus_multiplier\": 1.2, \"bus_difference\": 5.4, \"num_trips\": 44, \"num_competitive\": 44, \"pct_trips_competitive\": 1.0, \"bus_difference_spread\": 18.0, \"route_group\": \"short\", \"max_trip_hrs\": 0.85, \"max_trip_route_group\": 0.85, \"name\": \"Golden Gate Bridge, Highway and Transportation District\", \"caltrans_district\": \"04 - Oakland\", \"drmt_organization_name\": null, \"cutoff2\": 20, \"cutoff\": 2}, {\"calitp_itp_id\": 127, \"trip_key\": 221256979963220968, \"trip_id\": \"7447142\", \"shape_id\": \"5800017\", \"route_id\": \"580-231\", \"service_hours\": 0.55, \"trip_first_departure_ts\": 77400, \"trip_last_arrival_ts\": 79380, \"departure_hour\": 21, \"time_of_day\": \"Owl Service\", \"p25\": 0.6, \"p50\": 0.61, \"p75\": 0.67, \"p50_trip\": 0, \"fastest_trip\": 1, \"car_duration_hours\": 0.46, \"competitive_route\": 1, \"bus_multiplier\": 1.2, \"bus_difference\": 5.4, \"num_trips\": 44, \"num_competitive\": 44, \"pct_trips_competitive\": 1.0, \"bus_difference_spread\": 18.0, \"route_group\": \"short\", \"max_trip_hrs\": 0.85, \"max_trip_route_group\": 0.85, \"name\": \"Golden Gate Bridge, Highway and Transportation District\", \"caltrans_district\": \"04 - Oakland\", \"drmt_organization_name\": null, \"cutoff2\": 20, \"cutoff\": 2}, {\"calitp_itp_id\": 127, \"trip_key\": -7535333187450927192, \"trip_id\": \"7447122\", \"shape_id\": \"5800017\", \"route_id\": \"580-231\", \"service_hours\": 0.55, \"trip_first_departure_ts\": 23400, \"trip_last_arrival_ts\": 25380, \"departure_hour\": 6, \"time_of_day\": \"Owl Service\", \"p25\": 0.6, \"p50\": 0.61, \"p75\": 0.67, \"p50_trip\": 0, \"fastest_trip\": 0, \"car_duration_hours\": 0.46, \"competitive_route\": 1, \"bus_multiplier\": 1.2, \"bus_difference\": 5.4, \"num_trips\": 44, \"num_competitive\": 44, \"pct_trips_competitive\": 1.0, \"bus_difference_spread\": 18.0, \"route_group\": \"short\", \"max_trip_hrs\": 0.85, \"max_trip_route_group\": 0.85, \"name\": \"Golden Gate Bridge, Highway and Transportation District\", \"caltrans_district\": \"04 - Oakland\", \"drmt_organization_name\": null, \"cutoff2\": 20, \"cutoff\": 2}, {\"calitp_itp_id\": 127, \"trip_key\": -2639098362276155818, \"trip_id\": \"7447164\", \"shape_id\": \"5800018\", \"route_id\": \"580-231\", \"service_hours\": 0.55, \"trip_first_departure_ts\": 73320, \"trip_last_arrival_ts\": 75300, \"departure_hour\": 20, \"time_of_day\": \"Owl Service\", \"p25\": 0.6, \"p50\": 0.61, \"p75\": 0.67, \"p50_trip\": 0, \"fastest_trip\": 0, \"car_duration_hours\": 0.46, \"competitive_route\": 1, \"bus_multiplier\": 1.2, \"bus_difference\": 5.4, \"num_trips\": 44, \"num_competitive\": 44, \"pct_trips_competitive\": 1.0, \"bus_difference_spread\": 18.0, \"route_group\": \"short\", \"max_trip_hrs\": 0.85, \"max_trip_route_group\": 0.85, \"name\": \"Golden Gate Bridge, Highway and Transportation District\", \"caltrans_district\": \"04 - Oakland\", \"drmt_organization_name\": null, \"cutoff2\": 20, \"cutoff\": 2}, {\"calitp_itp_id\": 127, \"trip_key\": 6409246810387134148, \"trip_id\": \"7447165\", \"shape_id\": \"5800018\", \"route_id\": \"580-231\", \"service_hours\": 0.55, \"trip_first_departure_ts\": 76920, \"trip_last_arrival_ts\": 78900, \"departure_hour\": 21, \"time_of_day\": \"Owl Service\", \"p25\": 0.6, \"p50\": 0.61, \"p75\": 0.67, \"p50_trip\": 0, \"fastest_trip\": 0, \"car_duration_hours\": 0.46, \"competitive_route\": 1, \"bus_multiplier\": 1.2, \"bus_difference\": 5.4, \"num_trips\": 44, \"num_competitive\": 44, \"pct_trips_competitive\": 1.0, \"bus_difference_spread\": 18.0, \"route_group\": \"short\", \"max_trip_hrs\": 0.85, \"max_trip_route_group\": 0.85, \"name\": \"Golden Gate Bridge, Highway and Transportation District\", \"caltrans_district\": \"04 - Oakland\", \"drmt_organization_name\": null, \"cutoff2\": 20, \"cutoff\": 2}, {\"calitp_itp_id\": 127, \"trip_key\": 6272189300716645190, \"trip_id\": \"7447162\", \"shape_id\": \"5800018\", \"route_id\": \"580-231\", \"service_hours\": 0.58, \"trip_first_departure_ts\": 67800, \"trip_last_arrival_ts\": 69900, \"departure_hour\": 18, \"time_of_day\": \"PM Peak\", \"p25\": 0.6, \"p50\": 0.61, \"p75\": 0.67, \"p50_trip\": 0, \"fastest_trip\": 0, \"car_duration_hours\": 0.46, \"competitive_route\": 1, \"bus_multiplier\": 1.26, \"bus_difference\": 7.2, \"num_trips\": 44, \"num_competitive\": 44, \"pct_trips_competitive\": 1.0, \"bus_difference_spread\": 18.0, \"route_group\": \"short\", \"max_trip_hrs\": 0.85, \"max_trip_route_group\": 0.85, \"name\": \"Golden Gate Bridge, Highway and Transportation District\", \"caltrans_district\": \"04 - Oakland\", \"drmt_organization_name\": null, \"cutoff2\": 20, \"cutoff\": 2}, {\"calitp_itp_id\": 127, \"trip_key\": -4507652546464230118, \"trip_id\": \"7447163\", \"shape_id\": \"5800018\", \"route_id\": \"580-231\", \"service_hours\": 0.58, \"trip_first_departure_ts\": 69600, \"trip_last_arrival_ts\": 71700, \"departure_hour\": 19, \"time_of_day\": \"PM Peak\", \"p25\": 0.6, \"p50\": 0.61, \"p75\": 0.67, \"p50_trip\": 0, \"fastest_trip\": 0, \"car_duration_hours\": 0.46, \"competitive_route\": 1, \"bus_multiplier\": 1.26, \"bus_difference\": 7.2, \"num_trips\": 44, \"num_competitive\": 44, \"pct_trips_competitive\": 1.0, \"bus_difference_spread\": 18.0, \"route_group\": \"short\", \"max_trip_hrs\": 0.85, \"max_trip_route_group\": 0.85, \"name\": \"Golden Gate Bridge, Highway and Transportation District\", \"caltrans_district\": \"04 - Oakland\", \"drmt_organization_name\": null, \"cutoff2\": 20, \"cutoff\": 2}, {\"calitp_itp_id\": 127, \"trip_key\": 2031878191708973655, \"trip_id\": \"7447126\", \"shape_id\": \"5800017\", \"route_id\": \"580-231\", \"service_hours\": 0.6, \"trip_first_departure_ts\": 34200, \"trip_last_arrival_ts\": 36360, \"departure_hour\": 9, \"time_of_day\": \"AM Peak\", \"p25\": 0.6, \"p50\": 0.61, \"p75\": 0.67, \"p50_trip\": 1, \"fastest_trip\": 0, \"car_duration_hours\": 0.46, \"competitive_route\": 1, \"bus_multiplier\": 1.3, \"bus_difference\": 8.4, \"num_trips\": 44, \"num_competitive\": 44, \"pct_trips_competitive\": 1.0, \"bus_difference_spread\": 18.0, \"route_group\": \"short\", \"max_trip_hrs\": 0.85, \"max_trip_route_group\": 0.85, \"name\": \"Golden Gate Bridge, Highway and Transportation District\", \"caltrans_district\": \"04 - Oakland\", \"drmt_organization_name\": null, \"cutoff2\": 20, \"cutoff\": 2}, {\"calitp_itp_id\": 127, \"trip_key\": 1174030107670898917, \"trip_id\": \"7447138\", \"shape_id\": \"5800017\", \"route_id\": \"580-231\", \"service_hours\": 0.6, \"trip_first_departure_ts\": 64800, \"trip_last_arrival_ts\": 66960, \"departure_hour\": 18, \"time_of_day\": \"PM Peak\", \"p25\": 0.6, \"p50\": 0.61, \"p75\": 0.67, \"p50_trip\": 1, \"fastest_trip\": 0, \"car_duration_hours\": 0.46, \"competitive_route\": 1, \"bus_multiplier\": 1.3, \"bus_difference\": 8.4, \"num_trips\": 44, \"num_competitive\": 44, \"pct_trips_competitive\": 1.0, \"bus_difference_spread\": 18.0, \"route_group\": \"short\", \"max_trip_hrs\": 0.85, \"max_trip_route_group\": 0.85, \"name\": \"Golden Gate Bridge, Highway and Transportation District\", \"caltrans_district\": \"04 - Oakland\", \"drmt_organization_name\": null, \"cutoff2\": 20, \"cutoff\": 2}, {\"calitp_itp_id\": 127, \"trip_key\": 7323187451178455924, \"trip_id\": \"7447129\", \"shape_id\": \"5800017\", \"route_id\": \"580-231\", \"service_hours\": 0.6, \"trip_first_departure_ts\": 45000, \"trip_last_arrival_ts\": 47160, \"departure_hour\": 12, \"time_of_day\": \"Midday\", \"p25\": 0.6, \"p50\": 0.61, \"p75\": 0.67, \"p50_trip\": 1, \"fastest_trip\": 0, \"car_duration_hours\": 0.46, \"competitive_route\": 1, \"bus_multiplier\": 1.3, \"bus_difference\": 8.4, \"num_trips\": 44, \"num_competitive\": 44, \"pct_trips_competitive\": 1.0, \"bus_difference_spread\": 18.0, \"route_group\": \"short\", \"max_trip_hrs\": 0.85, \"max_trip_route_group\": 0.85, \"name\": \"Golden Gate Bridge, Highway and Transportation District\", \"caltrans_district\": \"04 - Oakland\", \"drmt_organization_name\": null, \"cutoff2\": 20, \"cutoff\": 2}, {\"calitp_itp_id\": 127, \"trip_key\": -1866921117610011331, \"trip_id\": \"7447150\", \"shape_id\": \"5800018\", \"route_id\": \"580-231\", \"service_hours\": 0.6, \"trip_first_departure_ts\": 33540, \"trip_last_arrival_ts\": 35700, \"departure_hour\": 9, \"time_of_day\": \"AM Peak\", \"p25\": 0.6, \"p50\": 0.61, \"p75\": 0.67, \"p50_trip\": 1, \"fastest_trip\": 0, \"car_duration_hours\": 0.46, \"competitive_route\": 1, \"bus_multiplier\": 1.3, \"bus_difference\": 8.4, \"num_trips\": 44, \"num_competitive\": 44, \"pct_trips_competitive\": 1.0, \"bus_difference_spread\": 18.0, \"route_group\": \"short\", \"max_trip_hrs\": 0.85, \"max_trip_route_group\": 0.85, \"name\": \"Golden Gate Bridge, Highway and Transportation District\", \"caltrans_district\": \"04 - Oakland\", \"drmt_organization_name\": null, \"cutoff2\": 20, \"cutoff\": 2}, {\"calitp_itp_id\": 127, \"trip_key\": 830272018643698373, \"trip_id\": \"7447123\", \"shape_id\": \"5800017\", \"route_id\": \"580-231\", \"service_hours\": 0.6, \"trip_first_departure_ts\": 27000, \"trip_last_arrival_ts\": 29160, \"departure_hour\": 7, \"time_of_day\": \"AM Peak\", \"p25\": 0.6, \"p50\": 0.61, \"p75\": 0.67, \"p50_trip\": 1, \"fastest_trip\": 0, \"car_duration_hours\": 0.46, \"competitive_route\": 1, \"bus_multiplier\": 1.3, \"bus_difference\": 8.4, \"num_trips\": 44, \"num_competitive\": 44, \"pct_trips_competitive\": 1.0, \"bus_difference_spread\": 18.0, \"route_group\": \"short\", \"max_trip_hrs\": 0.85, \"max_trip_route_group\": 0.85, \"name\": \"Golden Gate Bridge, Highway and Transportation District\", \"caltrans_district\": \"04 - Oakland\", \"drmt_organization_name\": null, \"cutoff2\": 20, \"cutoff\": 2}, {\"calitp_itp_id\": 127, \"trip_key\": -5946641572353613230, \"trip_id\": \"7447130\", \"shape_id\": \"5800017\", \"route_id\": \"580-231\", \"service_hours\": 0.6, \"trip_first_departure_ts\": 48600, \"trip_last_arrival_ts\": 50760, \"departure_hour\": 13, \"time_of_day\": \"Midday\", \"p25\": 0.6, \"p50\": 0.61, \"p75\": 0.67, \"p50_trip\": 1, \"fastest_trip\": 0, \"car_duration_hours\": 0.46, \"competitive_route\": 1, \"bus_multiplier\": 1.3, \"bus_difference\": 8.4, \"num_trips\": 44, \"num_competitive\": 44, \"pct_trips_competitive\": 1.0, \"bus_difference_spread\": 18.0, \"route_group\": \"short\", \"max_trip_hrs\": 0.85, \"max_trip_route_group\": 0.85, \"name\": \"Golden Gate Bridge, Highway and Transportation District\", \"caltrans_district\": \"04 - Oakland\", \"drmt_organization_name\": null, \"cutoff2\": 20, \"cutoff\": 2}, {\"calitp_itp_id\": 127, \"trip_key\": -5809668120445869998, \"trip_id\": \"7447151\", \"shape_id\": \"5800018\", \"route_id\": \"580-231\", \"service_hours\": 0.6, \"trip_first_departure_ts\": 37140, \"trip_last_arrival_ts\": 39300, \"departure_hour\": 10, \"time_of_day\": \"Midday\", \"p25\": 0.6, \"p50\": 0.61, \"p75\": 0.67, \"p50_trip\": 1, \"fastest_trip\": 0, \"car_duration_hours\": 0.46, \"competitive_route\": 1, \"bus_multiplier\": 1.3, \"bus_difference\": 8.4, \"num_trips\": 44, \"num_competitive\": 44, \"pct_trips_competitive\": 1.0, \"bus_difference_spread\": 18.0, \"route_group\": \"short\", \"max_trip_hrs\": 0.85, \"max_trip_route_group\": 0.85, \"name\": \"Golden Gate Bridge, Highway and Transportation District\", \"caltrans_district\": \"04 - Oakland\", \"drmt_organization_name\": null, \"cutoff2\": 20, \"cutoff\": 2}, {\"calitp_itp_id\": 127, \"trip_key\": 7550437053024520981, \"trip_id\": \"7447152\", \"shape_id\": \"5800018\", \"route_id\": \"580-231\", \"service_hours\": 0.6, \"trip_first_departure_ts\": 40740, \"trip_last_arrival_ts\": 42900, \"departure_hour\": 11, \"time_of_day\": \"Midday\", \"p25\": 0.6, \"p50\": 0.61, \"p75\": 0.67, \"p50_trip\": 1, \"fastest_trip\": 0, \"car_duration_hours\": 0.46, \"competitive_route\": 1, \"bus_multiplier\": 1.3, \"bus_difference\": 8.4, \"num_trips\": 44, \"num_competitive\": 44, \"pct_trips_competitive\": 1.0, \"bus_difference_spread\": 18.0, \"route_group\": \"short\", \"max_trip_hrs\": 0.85, \"max_trip_route_group\": 0.85, \"name\": \"Golden Gate Bridge, Highway and Transportation District\", \"caltrans_district\": \"04 - Oakland\", \"drmt_organization_name\": null, \"cutoff2\": 20, \"cutoff\": 2}, {\"calitp_itp_id\": 127, \"trip_key\": 6043046660711386614, \"trip_id\": \"7447149\", \"shape_id\": \"5800018\", \"route_id\": \"580-231\", \"service_hours\": 0.6, \"trip_first_departure_ts\": 31740, \"trip_last_arrival_ts\": 33900, \"departure_hour\": 8, \"time_of_day\": \"AM Peak\", \"p25\": 0.6, \"p50\": 0.61, \"p75\": 0.67, \"p50_trip\": 1, \"fastest_trip\": 0, \"car_duration_hours\": 0.46, \"competitive_route\": 1, \"bus_multiplier\": 1.3, \"bus_difference\": 8.4, \"num_trips\": 44, \"num_competitive\": 44, \"pct_trips_competitive\": 1.0, \"bus_difference_spread\": 18.0, \"route_group\": \"short\", \"max_trip_hrs\": 0.85, \"max_trip_route_group\": 0.85, \"name\": \"Golden Gate Bridge, Highway and Transportation District\", \"caltrans_district\": \"04 - Oakland\", \"drmt_organization_name\": null, \"cutoff2\": 20, \"cutoff\": 2}, {\"calitp_itp_id\": 127, \"trip_key\": -7223694274153425403, \"trip_id\": \"7447128\", \"shape_id\": \"5800017\", \"route_id\": \"580-231\", \"service_hours\": 0.6, \"trip_first_departure_ts\": 41400, \"trip_last_arrival_ts\": 43560, \"departure_hour\": 11, \"time_of_day\": \"Midday\", \"p25\": 0.6, \"p50\": 0.61, \"p75\": 0.67, \"p50_trip\": 1, \"fastest_trip\": 0, \"car_duration_hours\": 0.46, \"competitive_route\": 1, \"bus_multiplier\": 1.3, \"bus_difference\": 8.4, \"num_trips\": 44, \"num_competitive\": 44, \"pct_trips_competitive\": 1.0, \"bus_difference_spread\": 18.0, \"route_group\": \"short\", \"max_trip_hrs\": 0.85, \"max_trip_route_group\": 0.85, \"name\": \"Golden Gate Bridge, Highway and Transportation District\", \"caltrans_district\": \"04 - Oakland\", \"drmt_organization_name\": null, \"cutoff2\": 20, \"cutoff\": 2}, {\"calitp_itp_id\": 127, \"trip_key\": 751167457947054012, \"trip_id\": \"7447125\", \"shape_id\": \"5800017\", \"route_id\": \"580-231\", \"service_hours\": 0.6, \"trip_first_departure_ts\": 30600, \"trip_last_arrival_ts\": 32760, \"departure_hour\": 8, \"time_of_day\": \"AM Peak\", \"p25\": 0.6, \"p50\": 0.61, \"p75\": 0.67, \"p50_trip\": 1, \"fastest_trip\": 0, \"car_duration_hours\": 0.46, \"competitive_route\": 1, \"bus_multiplier\": 1.3, \"bus_difference\": 8.4, \"num_trips\": 44, \"num_competitive\": 44, \"pct_trips_competitive\": 1.0, \"bus_difference_spread\": 18.0, \"route_group\": \"short\", \"max_trip_hrs\": 0.85, \"max_trip_route_group\": 0.85, \"name\": \"Golden Gate Bridge, Highway and Transportation District\", \"caltrans_district\": \"04 - Oakland\", \"drmt_organization_name\": null, \"cutoff2\": 20, \"cutoff\": 2}, {\"calitp_itp_id\": 127, \"trip_key\": 6954732081577497585, \"trip_id\": \"7447124\", \"shape_id\": \"5800017\", \"route_id\": \"580-231\", \"service_hours\": 0.6, \"trip_first_departure_ts\": 28800, \"trip_last_arrival_ts\": 30960, \"departure_hour\": 8, \"time_of_day\": \"AM Peak\", \"p25\": 0.6, \"p50\": 0.61, \"p75\": 0.67, \"p50_trip\": 1, \"fastest_trip\": 0, \"car_duration_hours\": 0.46, \"competitive_route\": 1, \"bus_multiplier\": 1.3, \"bus_difference\": 8.4, \"num_trips\": 44, \"num_competitive\": 44, \"pct_trips_competitive\": 1.0, \"bus_difference_spread\": 18.0, \"route_group\": \"short\", \"max_trip_hrs\": 0.85, \"max_trip_route_group\": 0.85, \"name\": \"Golden Gate Bridge, Highway and Transportation District\", \"caltrans_district\": \"04 - Oakland\", \"drmt_organization_name\": null, \"cutoff2\": 20, \"cutoff\": 2}, {\"calitp_itp_id\": 127, \"trip_key\": 1114685775789416298, \"trip_id\": \"7447127\", \"shape_id\": \"5800017\", \"route_id\": \"580-231\", \"service_hours\": 0.6, \"trip_first_departure_ts\": 37800, \"trip_last_arrival_ts\": 39960, \"departure_hour\": 10, \"time_of_day\": \"Midday\", \"p25\": 0.6, \"p50\": 0.61, \"p75\": 0.67, \"p50_trip\": 1, \"fastest_trip\": 0, \"car_duration_hours\": 0.46, \"competitive_route\": 1, \"bus_multiplier\": 1.3, \"bus_difference\": 8.4, \"num_trips\": 44, \"num_competitive\": 44, \"pct_trips_competitive\": 1.0, \"bus_difference_spread\": 18.0, \"route_group\": \"short\", \"max_trip_hrs\": 0.85, \"max_trip_route_group\": 0.85, \"name\": \"Golden Gate Bridge, Highway and Transportation District\", \"caltrans_district\": \"04 - Oakland\", \"drmt_organization_name\": null, \"cutoff2\": 20, \"cutoff\": 2}, {\"calitp_itp_id\": 127, \"trip_key\": -7261446674277429200, \"trip_id\": \"7447143\", \"shape_id\": \"5800018\", \"route_id\": \"580-231\", \"service_hours\": 0.62, \"trip_first_departure_ts\": 20880, \"trip_last_arrival_ts\": 23100, \"departure_hour\": 5, \"time_of_day\": \"Owl Service\", \"p25\": 0.6, \"p50\": 0.61, \"p75\": 0.67, \"p50_trip\": 1, \"fastest_trip\": 0, \"car_duration_hours\": 0.46, \"competitive_route\": 1, \"bus_multiplier\": 1.35, \"bus_difference\": 9.6, \"num_trips\": 44, \"num_competitive\": 44, \"pct_trips_competitive\": 1.0, \"bus_difference_spread\": 18.0, \"route_group\": \"short\", \"max_trip_hrs\": 0.85, \"max_trip_route_group\": 0.85, \"name\": \"Golden Gate Bridge, Highway and Transportation District\", \"caltrans_district\": \"04 - Oakland\", \"drmt_organization_name\": null, \"cutoff2\": 20, \"cutoff\": 2}, {\"calitp_itp_id\": 127, \"trip_key\": -7932754228444894157, \"trip_id\": \"7447155\", \"shape_id\": \"5800018\", \"route_id\": \"580-231\", \"service_hours\": 0.63, \"trip_first_departure_ts\": 51420, \"trip_last_arrival_ts\": 53700, \"departure_hour\": 14, \"time_of_day\": \"Midday\", \"p25\": 0.6, \"p50\": 0.61, \"p75\": 0.67, \"p50_trip\": 0, \"fastest_trip\": 0, \"car_duration_hours\": 0.46, \"competitive_route\": 1, \"bus_multiplier\": 1.37, \"bus_difference\": 10.2, \"num_trips\": 44, \"num_competitive\": 44, \"pct_trips_competitive\": 1.0, \"bus_difference_spread\": 18.0, \"route_group\": \"short\", \"max_trip_hrs\": 0.85, \"max_trip_route_group\": 0.85, \"name\": \"Golden Gate Bridge, Highway and Transportation District\", \"caltrans_district\": \"04 - Oakland\", \"drmt_organization_name\": null, \"cutoff2\": 20, \"cutoff\": 2}, {\"calitp_itp_id\": 127, \"trip_key\": -7511483731307908451, \"trip_id\": \"7447153\", \"shape_id\": \"5800018\", \"route_id\": \"580-231\", \"service_hours\": 0.63, \"trip_first_departure_ts\": 44220, \"trip_last_arrival_ts\": 46500, \"departure_hour\": 12, \"time_of_day\": \"Midday\", \"p25\": 0.6, \"p50\": 0.61, \"p75\": 0.67, \"p50_trip\": 0, \"fastest_trip\": 0, \"car_duration_hours\": 0.46, \"competitive_route\": 1, \"bus_multiplier\": 1.37, \"bus_difference\": 10.2, \"num_trips\": 44, \"num_competitive\": 44, \"pct_trips_competitive\": 1.0, \"bus_difference_spread\": 18.0, \"route_group\": \"short\", \"max_trip_hrs\": 0.85, \"max_trip_route_group\": 0.85, \"name\": \"Golden Gate Bridge, Highway and Transportation District\", \"caltrans_district\": \"04 - Oakland\", \"drmt_organization_name\": null, \"cutoff2\": 20, \"cutoff\": 2}, {\"calitp_itp_id\": 127, \"trip_key\": 3136324560828579004, \"trip_id\": \"7447154\", \"shape_id\": \"5800018\", \"route_id\": \"580-231\", \"service_hours\": 0.63, \"trip_first_departure_ts\": 47820, \"trip_last_arrival_ts\": 50100, \"departure_hour\": 13, \"time_of_day\": \"Midday\", \"p25\": 0.6, \"p50\": 0.61, \"p75\": 0.67, \"p50_trip\": 0, \"fastest_trip\": 0, \"car_duration_hours\": 0.46, \"competitive_route\": 1, \"bus_multiplier\": 1.37, \"bus_difference\": 10.2, \"num_trips\": 44, \"num_competitive\": 44, \"pct_trips_competitive\": 1.0, \"bus_difference_spread\": 18.0, \"route_group\": \"short\", \"max_trip_hrs\": 0.85, \"max_trip_route_group\": 0.85, \"name\": \"Golden Gate Bridge, Highway and Transportation District\", \"caltrans_district\": \"04 - Oakland\", \"drmt_organization_name\": null, \"cutoff2\": 20, \"cutoff\": 2}, {\"calitp_itp_id\": 127, \"trip_key\": 8852874754234130072, \"trip_id\": \"7447131\", \"shape_id\": \"5800017\", \"route_id\": \"580-231\", \"service_hours\": 0.67, \"trip_first_departure_ts\": 52200, \"trip_last_arrival_ts\": 54600, \"departure_hour\": 14, \"time_of_day\": \"Midday\", \"p25\": 0.6, \"p50\": 0.61, \"p75\": 0.67, \"p50_trip\": 0, \"fastest_trip\": 0, \"car_duration_hours\": 0.46, \"competitive_route\": 1, \"bus_multiplier\": 1.46, \"bus_difference\": 12.6, \"num_trips\": 44, \"num_competitive\": 44, \"pct_trips_competitive\": 1.0, \"bus_difference_spread\": 18.0, \"route_group\": \"short\", \"max_trip_hrs\": 0.85, \"max_trip_route_group\": 0.85, \"name\": \"Golden Gate Bridge, Highway and Transportation District\", \"caltrans_district\": \"04 - Oakland\", \"drmt_organization_name\": null, \"cutoff2\": 20, \"cutoff\": 2}, {\"calitp_itp_id\": 127, \"trip_key\": 7907127109321789406, \"trip_id\": \"7447156\", \"shape_id\": \"5800018\", \"route_id\": \"580-231\", \"service_hours\": 0.67, \"trip_first_departure_ts\": 54900, \"trip_last_arrival_ts\": 57300, \"departure_hour\": 15, \"time_of_day\": \"Midday\", \"p25\": 0.6, \"p50\": 0.61, \"p75\": 0.67, \"p50_trip\": 0, \"fastest_trip\": 0, \"car_duration_hours\": 0.46, \"competitive_route\": 1, \"bus_multiplier\": 1.46, \"bus_difference\": 12.6, \"num_trips\": 44, \"num_competitive\": 44, \"pct_trips_competitive\": 1.0, \"bus_difference_spread\": 18.0, \"route_group\": \"short\", \"max_trip_hrs\": 0.85, \"max_trip_route_group\": 0.85, \"name\": \"Golden Gate Bridge, Highway and Transportation District\", \"caltrans_district\": \"04 - Oakland\", \"drmt_organization_name\": null, \"cutoff2\": 20, \"cutoff\": 2}, {\"calitp_itp_id\": 127, \"trip_key\": 8708268876067923016, \"trip_id\": \"7447160\", \"shape_id\": \"5800018\", \"route_id\": \"580-231\", \"service_hours\": 0.67, \"trip_first_departure_ts\": 63900, \"trip_last_arrival_ts\": 66300, \"departure_hour\": 17, \"time_of_day\": \"PM Peak\", \"p25\": 0.6, \"p50\": 0.61, \"p75\": 0.67, \"p50_trip\": 0, \"fastest_trip\": 0, \"car_duration_hours\": 0.46, \"competitive_route\": 1, \"bus_multiplier\": 1.46, \"bus_difference\": 12.6, \"num_trips\": 44, \"num_competitive\": 44, \"pct_trips_competitive\": 1.0, \"bus_difference_spread\": 18.0, \"route_group\": \"short\", \"max_trip_hrs\": 0.85, \"max_trip_route_group\": 0.85, \"name\": \"Golden Gate Bridge, Highway and Transportation District\", \"caltrans_district\": \"04 - Oakland\", \"drmt_organization_name\": null, \"cutoff2\": 20, \"cutoff\": 2}, {\"calitp_itp_id\": 127, \"trip_key\": 7785789488397027812, \"trip_id\": \"7447158\", \"shape_id\": \"5800018\", \"route_id\": \"580-231\", \"service_hours\": 0.67, \"trip_first_departure_ts\": 60300, \"trip_last_arrival_ts\": 62700, \"departure_hour\": 16, \"time_of_day\": \"Midday\", \"p25\": 0.6, \"p50\": 0.61, \"p75\": 0.67, \"p50_trip\": 0, \"fastest_trip\": 0, \"car_duration_hours\": 0.46, \"competitive_route\": 1, \"bus_multiplier\": 1.46, \"bus_difference\": 12.6, \"num_trips\": 44, \"num_competitive\": 44, \"pct_trips_competitive\": 1.0, \"bus_difference_spread\": 18.0, \"route_group\": \"short\", \"max_trip_hrs\": 0.85, \"max_trip_route_group\": 0.85, \"name\": \"Golden Gate Bridge, Highway and Transportation District\", \"caltrans_district\": \"04 - Oakland\", \"drmt_organization_name\": null, \"cutoff2\": 20, \"cutoff\": 2}, {\"calitp_itp_id\": 127, \"trip_key\": -4406036492388978954, \"trip_id\": \"7447133\", \"shape_id\": \"5800017\", \"route_id\": \"580-231\", \"service_hours\": 0.67, \"trip_first_departure_ts\": 55800, \"trip_last_arrival_ts\": 58200, \"departure_hour\": 15, \"time_of_day\": \"Midday\", \"p25\": 0.6, \"p50\": 0.61, \"p75\": 0.67, \"p50_trip\": 0, \"fastest_trip\": 0, \"car_duration_hours\": 0.46, \"competitive_route\": 1, \"bus_multiplier\": 1.46, \"bus_difference\": 12.6, \"num_trips\": 44, \"num_competitive\": 44, \"pct_trips_competitive\": 1.0, \"bus_difference_spread\": 18.0, \"route_group\": \"short\", \"max_trip_hrs\": 0.85, \"max_trip_route_group\": 0.85, \"name\": \"Golden Gate Bridge, Highway and Transportation District\", \"caltrans_district\": \"04 - Oakland\", \"drmt_organization_name\": null, \"cutoff2\": 20, \"cutoff\": 2}, {\"calitp_itp_id\": 127, \"trip_key\": 1961121891373322761, \"trip_id\": \"7447132\", \"shape_id\": \"5800017\", \"route_id\": \"580-231\", \"service_hours\": 0.67, \"trip_first_departure_ts\": 54000, \"trip_last_arrival_ts\": 56400, \"departure_hour\": 15, \"time_of_day\": \"Midday\", \"p25\": 0.6, \"p50\": 0.61, \"p75\": 0.67, \"p50_trip\": 0, \"fastest_trip\": 0, \"car_duration_hours\": 0.46, \"competitive_route\": 1, \"bus_multiplier\": 1.46, \"bus_difference\": 12.6, \"num_trips\": 44, \"num_competitive\": 44, \"pct_trips_competitive\": 1.0, \"bus_difference_spread\": 18.0, \"route_group\": \"short\", \"max_trip_hrs\": 0.85, \"max_trip_route_group\": 0.85, \"name\": \"Golden Gate Bridge, Highway and Transportation District\", \"caltrans_district\": \"04 - Oakland\", \"drmt_organization_name\": null, \"cutoff2\": 20, \"cutoff\": 2}, {\"calitp_itp_id\": 127, \"trip_key\": -517985365585282309, \"trip_id\": \"7447135\", \"shape_id\": \"5800017\", \"route_id\": \"580-231\", \"service_hours\": 0.67, \"trip_first_departure_ts\": 59400, \"trip_last_arrival_ts\": 61800, \"departure_hour\": 16, \"time_of_day\": \"Midday\", \"p25\": 0.6, \"p50\": 0.61, \"p75\": 0.67, \"p50_trip\": 0, \"fastest_trip\": 0, \"car_duration_hours\": 0.46, \"competitive_route\": 1, \"bus_multiplier\": 1.46, \"bus_difference\": 12.6, \"num_trips\": 44, \"num_competitive\": 44, \"pct_trips_competitive\": 1.0, \"bus_difference_spread\": 18.0, \"route_group\": \"short\", \"max_trip_hrs\": 0.85, \"max_trip_route_group\": 0.85, \"name\": \"Golden Gate Bridge, Highway and Transportation District\", \"caltrans_district\": \"04 - Oakland\", \"drmt_organization_name\": null, \"cutoff2\": 20, \"cutoff\": 2}, {\"calitp_itp_id\": 127, \"trip_key\": 4308247893729181750, \"trip_id\": \"7447159\", \"shape_id\": \"5800018\", \"route_id\": \"580-231\", \"service_hours\": 0.67, \"trip_first_departure_ts\": 62100, \"trip_last_arrival_ts\": 64500, \"departure_hour\": 17, \"time_of_day\": \"PM Peak\", \"p25\": 0.6, \"p50\": 0.61, \"p75\": 0.67, \"p50_trip\": 0, \"fastest_trip\": 0, \"car_duration_hours\": 0.46, \"competitive_route\": 1, \"bus_multiplier\": 1.46, \"bus_difference\": 12.6, \"num_trips\": 44, \"num_competitive\": 44, \"pct_trips_competitive\": 1.0, \"bus_difference_spread\": 18.0, \"route_group\": \"short\", \"max_trip_hrs\": 0.85, \"max_trip_route_group\": 0.85, \"name\": \"Golden Gate Bridge, Highway and Transportation District\", \"caltrans_district\": \"04 - Oakland\", \"drmt_organization_name\": null, \"cutoff2\": 20, \"cutoff\": 2}, {\"calitp_itp_id\": 127, \"trip_key\": -3532360314480155150, \"trip_id\": \"7447136\", \"shape_id\": \"5800017\", \"route_id\": \"580-231\", \"service_hours\": 0.67, \"trip_first_departure_ts\": 61200, \"trip_last_arrival_ts\": 63600, \"departure_hour\": 17, \"time_of_day\": \"PM Peak\", \"p25\": 0.6, \"p50\": 0.61, \"p75\": 0.67, \"p50_trip\": 0, \"fastest_trip\": 0, \"car_duration_hours\": 0.46, \"competitive_route\": 1, \"bus_multiplier\": 1.46, \"bus_difference\": 12.6, \"num_trips\": 44, \"num_competitive\": 44, \"pct_trips_competitive\": 1.0, \"bus_difference_spread\": 18.0, \"route_group\": \"short\", \"max_trip_hrs\": 0.85, \"max_trip_route_group\": 0.85, \"name\": \"Golden Gate Bridge, Highway and Transportation District\", \"caltrans_district\": \"04 - Oakland\", \"drmt_organization_name\": null, \"cutoff2\": 20, \"cutoff\": 2}, {\"calitp_itp_id\": 127, \"trip_key\": -325506061019536589, \"trip_id\": \"7447134\", \"shape_id\": \"5800017\", \"route_id\": \"580-231\", \"service_hours\": 0.67, \"trip_first_departure_ts\": 57600, \"trip_last_arrival_ts\": 60000, \"departure_hour\": 16, \"time_of_day\": \"Midday\", \"p25\": 0.6, \"p50\": 0.61, \"p75\": 0.67, \"p50_trip\": 0, \"fastest_trip\": 0, \"car_duration_hours\": 0.46, \"competitive_route\": 1, \"bus_multiplier\": 1.46, \"bus_difference\": 12.6, \"num_trips\": 44, \"num_competitive\": 44, \"pct_trips_competitive\": 1.0, \"bus_difference_spread\": 18.0, \"route_group\": \"short\", \"max_trip_hrs\": 0.85, \"max_trip_route_group\": 0.85, \"name\": \"Golden Gate Bridge, Highway and Transportation District\", \"caltrans_district\": \"04 - Oakland\", \"drmt_organization_name\": null, \"cutoff2\": 20, \"cutoff\": 2}, {\"calitp_itp_id\": 127, \"trip_key\": -7803886371878077595, \"trip_id\": \"7447157\", \"shape_id\": \"5800018\", \"route_id\": \"580-231\", \"service_hours\": 0.67, \"trip_first_departure_ts\": 58500, \"trip_last_arrival_ts\": 60900, \"departure_hour\": 16, \"time_of_day\": \"Midday\", \"p25\": 0.6, \"p50\": 0.61, \"p75\": 0.67, \"p50_trip\": 0, \"fastest_trip\": 0, \"car_duration_hours\": 0.46, \"competitive_route\": 1, \"bus_multiplier\": 1.46, \"bus_difference\": 12.6, \"num_trips\": 44, \"num_competitive\": 44, \"pct_trips_competitive\": 1.0, \"bus_difference_spread\": 18.0, \"route_group\": \"short\", \"max_trip_hrs\": 0.85, \"max_trip_route_group\": 0.85, \"name\": \"Golden Gate Bridge, Highway and Transportation District\", \"caltrans_district\": \"04 - Oakland\", \"drmt_organization_name\": null, \"cutoff2\": 20, \"cutoff\": 2}, {\"calitp_itp_id\": 127, \"trip_key\": -6898205317477365917, \"trip_id\": \"7447137\", \"shape_id\": \"5800017\", \"route_id\": \"580-231\", \"service_hours\": 0.67, \"trip_first_departure_ts\": 63000, \"trip_last_arrival_ts\": 65400, \"departure_hour\": 17, \"time_of_day\": \"PM Peak\", \"p25\": 0.6, \"p50\": 0.61, \"p75\": 0.67, \"p50_trip\": 0, \"fastest_trip\": 0, \"car_duration_hours\": 0.46, \"competitive_route\": 1, \"bus_multiplier\": 1.46, \"bus_difference\": 12.6, \"num_trips\": 44, \"num_competitive\": 44, \"pct_trips_competitive\": 1.0, \"bus_difference_spread\": 18.0, \"route_group\": \"short\", \"max_trip_hrs\": 0.85, \"max_trip_route_group\": 0.85, \"name\": \"Golden Gate Bridge, Highway and Transportation District\", \"caltrans_district\": \"04 - Oakland\", \"drmt_organization_name\": null, \"cutoff2\": 20, \"cutoff\": 2}, {\"calitp_itp_id\": 127, \"trip_key\": 3517244943361444895, \"trip_id\": \"7447161\", \"shape_id\": \"5800018\", \"route_id\": \"580-231\", \"service_hours\": 0.67, \"trip_first_departure_ts\": 65700, \"trip_last_arrival_ts\": 68100, \"departure_hour\": 18, \"time_of_day\": \"PM Peak\", \"p25\": 0.6, \"p50\": 0.61, \"p75\": 0.67, \"p50_trip\": 0, \"fastest_trip\": 0, \"car_duration_hours\": 0.46, \"competitive_route\": 1, \"bus_multiplier\": 1.46, \"bus_difference\": 12.6, \"num_trips\": 44, \"num_competitive\": 44, \"pct_trips_competitive\": 1.0, \"bus_difference_spread\": 18.0, \"route_group\": \"short\", \"max_trip_hrs\": 0.85, \"max_trip_route_group\": 0.85, \"name\": \"Golden Gate Bridge, Highway and Transportation District\", \"caltrans_district\": \"04 - Oakland\", \"drmt_organization_name\": null, \"cutoff2\": 20, \"cutoff\": 2}, {\"calitp_itp_id\": 127, \"trip_key\": -8115565182089392768, \"trip_id\": \"7447148\", \"shape_id\": \"5800018\", \"route_id\": \"580-231\", \"service_hours\": 0.72, \"trip_first_departure_ts\": 29520, \"trip_last_arrival_ts\": 32100, \"departure_hour\": 8, \"time_of_day\": \"AM Peak\", \"p25\": 0.6, \"p50\": 0.61, \"p75\": 0.67, \"p50_trip\": 0, \"fastest_trip\": 0, \"car_duration_hours\": 0.46, \"competitive_route\": 1, \"bus_multiplier\": 1.57, \"bus_difference\": 15.6, \"num_trips\": 44, \"num_competitive\": 44, \"pct_trips_competitive\": 1.0, \"bus_difference_spread\": 18.0, \"route_group\": \"short\", \"max_trip_hrs\": 0.85, \"max_trip_route_group\": 0.85, \"name\": \"Golden Gate Bridge, Highway and Transportation District\", \"caltrans_district\": \"04 - Oakland\", \"drmt_organization_name\": null, \"cutoff2\": 20, \"cutoff\": 2}, {\"calitp_itp_id\": 127, \"trip_key\": 6785495457132930713, \"trip_id\": \"7447144\", \"shape_id\": \"5800018\", \"route_id\": \"580-231\", \"service_hours\": 0.85, \"trip_first_departure_ts\": 21840, \"trip_last_arrival_ts\": 24900, \"departure_hour\": 6, \"time_of_day\": \"Owl Service\", \"p25\": 0.6, \"p50\": 0.61, \"p75\": 0.67, \"p50_trip\": 0, \"fastest_trip\": 0, \"car_duration_hours\": 0.46, \"competitive_route\": 1, \"bus_multiplier\": 1.85, \"bus_difference\": 23.4, \"num_trips\": 44, \"num_competitive\": 44, \"pct_trips_competitive\": 1.0, \"bus_difference_spread\": 18.0, \"route_group\": \"short\", \"max_trip_hrs\": 0.85, \"max_trip_route_group\": 0.85, \"name\": \"Golden Gate Bridge, Highway and Transportation District\", \"caltrans_district\": \"04 - Oakland\", \"drmt_organization_name\": null, \"cutoff2\": 20, \"cutoff\": 2}, {\"calitp_itp_id\": 127, \"trip_key\": -3803382172035585074, \"trip_id\": \"7447146\", \"shape_id\": \"5800018\", \"route_id\": \"580-231\", \"service_hours\": 0.85, \"trip_first_departure_ts\": 25440, \"trip_last_arrival_ts\": 28500, \"departure_hour\": 7, \"time_of_day\": \"AM Peak\", \"p25\": 0.6, \"p50\": 0.61, \"p75\": 0.67, \"p50_trip\": 0, \"fastest_trip\": 0, \"car_duration_hours\": 0.46, \"competitive_route\": 1, \"bus_multiplier\": 1.85, \"bus_difference\": 23.4, \"num_trips\": 44, \"num_competitive\": 44, \"pct_trips_competitive\": 1.0, \"bus_difference_spread\": 18.0, \"route_group\": \"short\", \"max_trip_hrs\": 0.85, \"max_trip_route_group\": 0.85, \"name\": \"Golden Gate Bridge, Highway and Transportation District\", \"caltrans_district\": \"04 - Oakland\", \"drmt_organization_name\": null, \"cutoff2\": 20, \"cutoff\": 2}, {\"calitp_itp_id\": 127, \"trip_key\": 5537051156108821865, \"trip_id\": \"7447147\", \"shape_id\": \"5800018\", \"route_id\": \"580-231\", \"service_hours\": 0.85, \"trip_first_departure_ts\": 27240, \"trip_last_arrival_ts\": 30300, \"departure_hour\": 7, \"time_of_day\": \"AM Peak\", \"p25\": 0.6, \"p50\": 0.61, \"p75\": 0.67, \"p50_trip\": 0, \"fastest_trip\": 0, \"car_duration_hours\": 0.46, \"competitive_route\": 1, \"bus_multiplier\": 1.85, \"bus_difference\": 23.4, \"num_trips\": 44, \"num_competitive\": 44, \"pct_trips_competitive\": 1.0, \"bus_difference_spread\": 18.0, \"route_group\": \"short\", \"max_trip_hrs\": 0.85, \"max_trip_route_group\": 0.85, \"name\": \"Golden Gate Bridge, Highway and Transportation District\", \"caltrans_district\": \"04 - Oakland\", \"drmt_organization_name\": null, \"cutoff2\": 20, \"cutoff\": 2}, {\"calitp_itp_id\": 127, \"trip_key\": 6537514563491858345, \"trip_id\": \"7447145\", \"shape_id\": \"5800018\", \"route_id\": \"580-231\", \"service_hours\": 0.85, \"trip_first_departure_ts\": 23640, \"trip_last_arrival_ts\": 26700, \"departure_hour\": 6, \"time_of_day\": \"Owl Service\", \"p25\": 0.6, \"p50\": 0.61, \"p75\": 0.67, \"p50_trip\": 0, \"fastest_trip\": 0, \"car_duration_hours\": 0.46, \"competitive_route\": 1, \"bus_multiplier\": 1.85, \"bus_difference\": 23.4, \"num_trips\": 44, \"num_competitive\": 44, \"pct_trips_competitive\": 1.0, \"bus_difference_spread\": 18.0, \"route_group\": \"short\", \"max_trip_hrs\": 0.85, \"max_trip_route_group\": 0.85, \"name\": \"Golden Gate Bridge, Highway and Transportation District\", \"caltrans_district\": \"04 - Oakland\", \"drmt_organization_name\": null, \"cutoff2\": 20, \"cutoff\": 2}]}}, {\"mode\": \"vega-lite\"});\n",
       "</script>"
      ],
      "text/plain": [
       "alt.FacetChart(...)"
      ]
     },
     "metadata": {},
     "output_type": "display_data"
    },
    {
     "data": {
      "text/html": [
       "\n",
       "<div id=\"altair-viz-2ee72d9d1e3d4b90a667e0fab9983745\"></div>\n",
       "<script type=\"text/javascript\">\n",
       "  var VEGA_DEBUG = (typeof VEGA_DEBUG == \"undefined\") ? {} : VEGA_DEBUG;\n",
       "  (function(spec, embedOpt){\n",
       "    let outputDiv = document.currentScript.previousElementSibling;\n",
       "    if (outputDiv.id !== \"altair-viz-2ee72d9d1e3d4b90a667e0fab9983745\") {\n",
       "      outputDiv = document.getElementById(\"altair-viz-2ee72d9d1e3d4b90a667e0fab9983745\");\n",
       "    }\n",
       "    const paths = {\n",
       "      \"vega\": \"https://cdn.jsdelivr.net/npm//vega@5?noext\",\n",
       "      \"vega-lib\": \"https://cdn.jsdelivr.net/npm//vega-lib?noext\",\n",
       "      \"vega-lite\": \"https://cdn.jsdelivr.net/npm//vega-lite@4.17.0?noext\",\n",
       "      \"vega-embed\": \"https://cdn.jsdelivr.net/npm//vega-embed@6?noext\",\n",
       "    };\n",
       "\n",
       "    function maybeLoadScript(lib, version) {\n",
       "      var key = `${lib.replace(\"-\", \"\")}_version`;\n",
       "      return (VEGA_DEBUG[key] == version) ?\n",
       "        Promise.resolve(paths[lib]) :\n",
       "        new Promise(function(resolve, reject) {\n",
       "          var s = document.createElement('script');\n",
       "          document.getElementsByTagName(\"head\")[0].appendChild(s);\n",
       "          s.async = true;\n",
       "          s.onload = () => {\n",
       "            VEGA_DEBUG[key] = version;\n",
       "            return resolve(paths[lib]);\n",
       "          };\n",
       "          s.onerror = () => reject(`Error loading script: ${paths[lib]}`);\n",
       "          s.src = paths[lib];\n",
       "        });\n",
       "    }\n",
       "\n",
       "    function showError(err) {\n",
       "      outputDiv.innerHTML = `<div class=\"error\" style=\"color:red;\">${err}</div>`;\n",
       "      throw err;\n",
       "    }\n",
       "\n",
       "    function displayChart(vegaEmbed) {\n",
       "      vegaEmbed(outputDiv, spec, embedOpt)\n",
       "        .catch(err => showError(`Javascript Error: ${err.message}<br>This usually means there's a typo in your chart specification. See the javascript console for the full traceback.`));\n",
       "    }\n",
       "\n",
       "    if(typeof define === \"function\" && define.amd) {\n",
       "      requirejs.config({paths});\n",
       "      require([\"vega-embed\"], displayChart, err => showError(`Error loading script: ${err.message}`));\n",
       "    } else {\n",
       "      maybeLoadScript(\"vega\", \"5\")\n",
       "        .then(() => maybeLoadScript(\"vega-lite\", \"4.17.0\"))\n",
       "        .then(() => maybeLoadScript(\"vega-embed\", \"6\"))\n",
       "        .catch(showError)\n",
       "        .then(() => displayChart(vegaEmbed));\n",
       "    }\n",
       "  })({\"config\": {\"view\": {\"continuousWidth\": 400, \"continuousHeight\": 300, \"stroke\": null}, \"facet\": {\"spacing\": 0}}, \"data\": {\"name\": \"data-ed8a87c924b9bad1d694f4c788412b81\"}, \"facet\": {\"column\": {\"field\": \"route_id\", \"sort\": [\"580-231\"], \"title\": \"Route ID\", \"type\": \"nominal\"}}, \"spec\": {\"layer\": [{\"mark\": \"rule\", \"encoding\": {\"color\": {\"value\": \"black\"}, \"y\": {\"field\": \"cutoff\", \"type\": \"quantitative\"}}, \"selection\": {\"selector002\": {\"type\": \"interval\", \"bind\": \"scales\", \"encodings\": [\"x\", \"y\"]}}}, {\"mark\": {\"type\": \"rule\", \"strokeDash\": [3, 3]}, \"encoding\": {\"color\": {\"value\": \"#323434\"}, \"y\": {\"field\": \"cutoff2\", \"type\": \"quantitative\"}}}, {\"mark\": {\"type\": \"point\", \"opacity\": 0.65, \"size\": 12, \"strokeWidth\": 1.1}, \"encoding\": {\"color\": {\"field\": \"time_of_day\", \"scale\": {\"range\": [\"#136C97\", \"#E16B26\", \"#F6BF16\", \"#00896B\", \"#7790A3\", \"#5B559C\"]}, \"sort\": [\"AM Peak\", \"Midday\", \"PM Peak\", \"Owl Service\"], \"title\": \"Time of Day\", \"type\": \"nominal\"}, \"tooltip\": [{\"field\": \"route_id\", \"type\": \"nominal\"}, {\"field\": \"trip_id\", \"type\": \"nominal\"}, {\"field\": \"service_hours\", \"type\": \"quantitative\"}, {\"field\": \"car_duration_hours\", \"type\": \"quantitative\"}, {\"field\": \"bus_multiplier\", \"type\": \"quantitative\"}, {\"field\": \"bus_difference\", \"type\": \"quantitative\"}, {\"field\": \"num_trips\", \"type\": \"quantitative\"}, {\"field\": \"num_competitive\", \"type\": \"quantitative\"}, {\"field\": \"pct_trips_competitive\", \"type\": \"quantitative\"}, {\"field\": \"p25\", \"type\": \"quantitative\"}, {\"field\": \"p50\", \"type\": \"quantitative\"}, {\"field\": \"p75\", \"type\": \"quantitative\"}], \"x\": {\"axis\": {\"grid\": false, \"labels\": false, \"ticks\": true, \"values\": [0]}, \"field\": \"jitter\", \"scale\": {}, \"title\": null, \"type\": \"quantitative\"}, \"y\": {\"field\": \"bus_difference\", \"scale\": {\"domain\": [-5, 25.0]}, \"title\": \"Difference in Bus to Car Travel Time (min)\", \"type\": \"quantitative\"}}, \"transform\": [{\"calculate\": \"sqrt(-2*log(random()))*cos(2*PI*random())\", \"as\": \"jitter\"}], \"width\": 50}, {\"layer\": [{\"mark\": {\"type\": \"point\", \"opacity\": 0.6, \"size\": 20, \"strokeWidth\": 1.3}, \"encoding\": {\"color\": {\"value\": \"#323434\"}, \"y\": {\"field\": \"bus_difference\", \"type\": \"quantitative\"}}, \"transform\": [{\"filter\": \"(datum.p50_trip === 1)\"}]}, {\"mark\": {\"type\": \"text\", \"align\": \"center\", \"baseline\": \"middle\"}, \"encoding\": {\"color\": {\"value\": \"black\"}, \"text\": {\"field\": \"pct_trips_competitive\", \"format\": \".0%\", \"type\": \"quantitative\"}, \"tooltip\": [{\"field\": \"route_id\", \"type\": \"nominal\"}, {\"field\": \"trip_id\", \"type\": \"nominal\"}, {\"field\": \"service_hours\", \"type\": \"quantitative\"}, {\"field\": \"car_duration_hours\", \"type\": \"quantitative\"}, {\"field\": \"bus_multiplier\", \"type\": \"quantitative\"}, {\"field\": \"bus_difference\", \"type\": \"quantitative\"}, {\"field\": \"num_trips\", \"type\": \"quantitative\"}, {\"field\": \"num_competitive\", \"type\": \"quantitative\"}, {\"field\": \"pct_trips_competitive\", \"type\": \"quantitative\"}, {\"field\": \"p25\", \"type\": \"quantitative\"}, {\"field\": \"p50\", \"type\": \"quantitative\"}, {\"field\": \"p75\", \"type\": \"quantitative\"}], \"x\": {\"value\": 30}, \"y\": {\"value\": 15}}, \"transform\": [{\"calculate\": \"sqrt(-2*log(random()))*cos(2*PI*random())\", \"as\": \"jitter\"}, {\"filter\": \"(datum.fastest_trip === 1)\"}]}]}]}, \"resolve\": {\"scale\": {\"y\": \"shared\"}}, \"title\": \"Difference in Bus to Car Travel Time (min)\", \"$schema\": \"https://vega.github.io/schema/vega-lite/v4.17.0.json\", \"datasets\": {\"data-ed8a87c924b9bad1d694f4c788412b81\": [{\"calitp_itp_id\": 127, \"trip_key\": -5960469048000926751, \"trip_id\": \"7447139\", \"shape_id\": \"5800017\", \"route_id\": \"580-231\", \"service_hours\": 0.55, \"trip_first_departure_ts\": 66600, \"trip_last_arrival_ts\": 68580, \"departure_hour\": 18, \"time_of_day\": \"PM Peak\", \"p25\": 0.6, \"p50\": 0.61, \"p75\": 0.67, \"p50_trip\": 0, \"fastest_trip\": 0, \"car_duration_hours\": 0.46, \"competitive_route\": 1, \"bus_multiplier\": 1.2, \"bus_difference\": 5.4, \"num_trips\": 44, \"num_competitive\": 44, \"pct_trips_competitive\": 1.0, \"bus_difference_spread\": 18.0, \"route_group\": \"short\", \"max_trip_hrs\": 0.85, \"max_trip_route_group\": 0.85, \"name\": \"Golden Gate Bridge, Highway and Transportation District\", \"caltrans_district\": \"04 - Oakland\", \"drmt_organization_name\": null, \"cutoff2\": 20, \"cutoff\": 0}, {\"calitp_itp_id\": 127, \"trip_key\": 6982045990522996432, \"trip_id\": \"7447141\", \"shape_id\": \"5800017\", \"route_id\": \"580-231\", \"service_hours\": 0.55, \"trip_first_departure_ts\": 73800, \"trip_last_arrival_ts\": 75780, \"departure_hour\": 20, \"time_of_day\": \"Owl Service\", \"p25\": 0.6, \"p50\": 0.61, \"p75\": 0.67, \"p50_trip\": 0, \"fastest_trip\": 0, \"car_duration_hours\": 0.46, \"competitive_route\": 1, \"bus_multiplier\": 1.2, \"bus_difference\": 5.4, \"num_trips\": 44, \"num_competitive\": 44, \"pct_trips_competitive\": 1.0, \"bus_difference_spread\": 18.0, \"route_group\": \"short\", \"max_trip_hrs\": 0.85, \"max_trip_route_group\": 0.85, \"name\": \"Golden Gate Bridge, Highway and Transportation District\", \"caltrans_district\": \"04 - Oakland\", \"drmt_organization_name\": null, \"cutoff2\": 20, \"cutoff\": 0}, {\"calitp_itp_id\": 127, \"trip_key\": 2043191468455544494, \"trip_id\": \"7447140\", \"shape_id\": \"5800017\", \"route_id\": \"580-231\", \"service_hours\": 0.55, \"trip_first_departure_ts\": 70200, \"trip_last_arrival_ts\": 72180, \"departure_hour\": 19, \"time_of_day\": \"PM Peak\", \"p25\": 0.6, \"p50\": 0.61, \"p75\": 0.67, \"p50_trip\": 0, \"fastest_trip\": 0, \"car_duration_hours\": 0.46, \"competitive_route\": 1, \"bus_multiplier\": 1.2, \"bus_difference\": 5.4, \"num_trips\": 44, \"num_competitive\": 44, \"pct_trips_competitive\": 1.0, \"bus_difference_spread\": 18.0, \"route_group\": \"short\", \"max_trip_hrs\": 0.85, \"max_trip_route_group\": 0.85, \"name\": \"Golden Gate Bridge, Highway and Transportation District\", \"caltrans_district\": \"04 - Oakland\", \"drmt_organization_name\": null, \"cutoff2\": 20, \"cutoff\": 0}, {\"calitp_itp_id\": 127, \"trip_key\": 221256979963220968, \"trip_id\": \"7447142\", \"shape_id\": \"5800017\", \"route_id\": \"580-231\", \"service_hours\": 0.55, \"trip_first_departure_ts\": 77400, \"trip_last_arrival_ts\": 79380, \"departure_hour\": 21, \"time_of_day\": \"Owl Service\", \"p25\": 0.6, \"p50\": 0.61, \"p75\": 0.67, \"p50_trip\": 0, \"fastest_trip\": 1, \"car_duration_hours\": 0.46, \"competitive_route\": 1, \"bus_multiplier\": 1.2, \"bus_difference\": 5.4, \"num_trips\": 44, \"num_competitive\": 44, \"pct_trips_competitive\": 1.0, \"bus_difference_spread\": 18.0, \"route_group\": \"short\", \"max_trip_hrs\": 0.85, \"max_trip_route_group\": 0.85, \"name\": \"Golden Gate Bridge, Highway and Transportation District\", \"caltrans_district\": \"04 - Oakland\", \"drmt_organization_name\": null, \"cutoff2\": 20, \"cutoff\": 0}, {\"calitp_itp_id\": 127, \"trip_key\": -7535333187450927192, \"trip_id\": \"7447122\", \"shape_id\": \"5800017\", \"route_id\": \"580-231\", \"service_hours\": 0.55, \"trip_first_departure_ts\": 23400, \"trip_last_arrival_ts\": 25380, \"departure_hour\": 6, \"time_of_day\": \"Owl Service\", \"p25\": 0.6, \"p50\": 0.61, \"p75\": 0.67, \"p50_trip\": 0, \"fastest_trip\": 0, \"car_duration_hours\": 0.46, \"competitive_route\": 1, \"bus_multiplier\": 1.2, \"bus_difference\": 5.4, \"num_trips\": 44, \"num_competitive\": 44, \"pct_trips_competitive\": 1.0, \"bus_difference_spread\": 18.0, \"route_group\": \"short\", \"max_trip_hrs\": 0.85, \"max_trip_route_group\": 0.85, \"name\": \"Golden Gate Bridge, Highway and Transportation District\", \"caltrans_district\": \"04 - Oakland\", \"drmt_organization_name\": null, \"cutoff2\": 20, \"cutoff\": 0}, {\"calitp_itp_id\": 127, \"trip_key\": -2639098362276155818, \"trip_id\": \"7447164\", \"shape_id\": \"5800018\", \"route_id\": \"580-231\", \"service_hours\": 0.55, \"trip_first_departure_ts\": 73320, \"trip_last_arrival_ts\": 75300, \"departure_hour\": 20, \"time_of_day\": \"Owl Service\", \"p25\": 0.6, \"p50\": 0.61, \"p75\": 0.67, \"p50_trip\": 0, \"fastest_trip\": 0, \"car_duration_hours\": 0.46, \"competitive_route\": 1, \"bus_multiplier\": 1.2, \"bus_difference\": 5.4, \"num_trips\": 44, \"num_competitive\": 44, \"pct_trips_competitive\": 1.0, \"bus_difference_spread\": 18.0, \"route_group\": \"short\", \"max_trip_hrs\": 0.85, \"max_trip_route_group\": 0.85, \"name\": \"Golden Gate Bridge, Highway and Transportation District\", \"caltrans_district\": \"04 - Oakland\", \"drmt_organization_name\": null, \"cutoff2\": 20, \"cutoff\": 0}, {\"calitp_itp_id\": 127, \"trip_key\": 6409246810387134148, \"trip_id\": \"7447165\", \"shape_id\": \"5800018\", \"route_id\": \"580-231\", \"service_hours\": 0.55, \"trip_first_departure_ts\": 76920, \"trip_last_arrival_ts\": 78900, \"departure_hour\": 21, \"time_of_day\": \"Owl Service\", \"p25\": 0.6, \"p50\": 0.61, \"p75\": 0.67, \"p50_trip\": 0, \"fastest_trip\": 0, \"car_duration_hours\": 0.46, \"competitive_route\": 1, \"bus_multiplier\": 1.2, \"bus_difference\": 5.4, \"num_trips\": 44, \"num_competitive\": 44, \"pct_trips_competitive\": 1.0, \"bus_difference_spread\": 18.0, \"route_group\": \"short\", \"max_trip_hrs\": 0.85, \"max_trip_route_group\": 0.85, \"name\": \"Golden Gate Bridge, Highway and Transportation District\", \"caltrans_district\": \"04 - Oakland\", \"drmt_organization_name\": null, \"cutoff2\": 20, \"cutoff\": 0}, {\"calitp_itp_id\": 127, \"trip_key\": 6272189300716645190, \"trip_id\": \"7447162\", \"shape_id\": \"5800018\", \"route_id\": \"580-231\", \"service_hours\": 0.58, \"trip_first_departure_ts\": 67800, \"trip_last_arrival_ts\": 69900, \"departure_hour\": 18, \"time_of_day\": \"PM Peak\", \"p25\": 0.6, \"p50\": 0.61, \"p75\": 0.67, \"p50_trip\": 0, \"fastest_trip\": 0, \"car_duration_hours\": 0.46, \"competitive_route\": 1, \"bus_multiplier\": 1.26, \"bus_difference\": 7.2, \"num_trips\": 44, \"num_competitive\": 44, \"pct_trips_competitive\": 1.0, \"bus_difference_spread\": 18.0, \"route_group\": \"short\", \"max_trip_hrs\": 0.85, \"max_trip_route_group\": 0.85, \"name\": \"Golden Gate Bridge, Highway and Transportation District\", \"caltrans_district\": \"04 - Oakland\", \"drmt_organization_name\": null, \"cutoff2\": 20, \"cutoff\": 0}, {\"calitp_itp_id\": 127, \"trip_key\": -4507652546464230118, \"trip_id\": \"7447163\", \"shape_id\": \"5800018\", \"route_id\": \"580-231\", \"service_hours\": 0.58, \"trip_first_departure_ts\": 69600, \"trip_last_arrival_ts\": 71700, \"departure_hour\": 19, \"time_of_day\": \"PM Peak\", \"p25\": 0.6, \"p50\": 0.61, \"p75\": 0.67, \"p50_trip\": 0, \"fastest_trip\": 0, \"car_duration_hours\": 0.46, \"competitive_route\": 1, \"bus_multiplier\": 1.26, \"bus_difference\": 7.2, \"num_trips\": 44, \"num_competitive\": 44, \"pct_trips_competitive\": 1.0, \"bus_difference_spread\": 18.0, \"route_group\": \"short\", \"max_trip_hrs\": 0.85, \"max_trip_route_group\": 0.85, \"name\": \"Golden Gate Bridge, Highway and Transportation District\", \"caltrans_district\": \"04 - Oakland\", \"drmt_organization_name\": null, \"cutoff2\": 20, \"cutoff\": 0}, {\"calitp_itp_id\": 127, \"trip_key\": 2031878191708973655, \"trip_id\": \"7447126\", \"shape_id\": \"5800017\", \"route_id\": \"580-231\", \"service_hours\": 0.6, \"trip_first_departure_ts\": 34200, \"trip_last_arrival_ts\": 36360, \"departure_hour\": 9, \"time_of_day\": \"AM Peak\", \"p25\": 0.6, \"p50\": 0.61, \"p75\": 0.67, \"p50_trip\": 1, \"fastest_trip\": 0, \"car_duration_hours\": 0.46, \"competitive_route\": 1, \"bus_multiplier\": 1.3, \"bus_difference\": 8.4, \"num_trips\": 44, \"num_competitive\": 44, \"pct_trips_competitive\": 1.0, \"bus_difference_spread\": 18.0, \"route_group\": \"short\", \"max_trip_hrs\": 0.85, \"max_trip_route_group\": 0.85, \"name\": \"Golden Gate Bridge, Highway and Transportation District\", \"caltrans_district\": \"04 - Oakland\", \"drmt_organization_name\": null, \"cutoff2\": 20, \"cutoff\": 0}, {\"calitp_itp_id\": 127, \"trip_key\": 1174030107670898917, \"trip_id\": \"7447138\", \"shape_id\": \"5800017\", \"route_id\": \"580-231\", \"service_hours\": 0.6, \"trip_first_departure_ts\": 64800, \"trip_last_arrival_ts\": 66960, \"departure_hour\": 18, \"time_of_day\": \"PM Peak\", \"p25\": 0.6, \"p50\": 0.61, \"p75\": 0.67, \"p50_trip\": 1, \"fastest_trip\": 0, \"car_duration_hours\": 0.46, \"competitive_route\": 1, \"bus_multiplier\": 1.3, \"bus_difference\": 8.4, \"num_trips\": 44, \"num_competitive\": 44, \"pct_trips_competitive\": 1.0, \"bus_difference_spread\": 18.0, \"route_group\": \"short\", \"max_trip_hrs\": 0.85, \"max_trip_route_group\": 0.85, \"name\": \"Golden Gate Bridge, Highway and Transportation District\", \"caltrans_district\": \"04 - Oakland\", \"drmt_organization_name\": null, \"cutoff2\": 20, \"cutoff\": 0}, {\"calitp_itp_id\": 127, \"trip_key\": 7323187451178455924, \"trip_id\": \"7447129\", \"shape_id\": \"5800017\", \"route_id\": \"580-231\", \"service_hours\": 0.6, \"trip_first_departure_ts\": 45000, \"trip_last_arrival_ts\": 47160, \"departure_hour\": 12, \"time_of_day\": \"Midday\", \"p25\": 0.6, \"p50\": 0.61, \"p75\": 0.67, \"p50_trip\": 1, \"fastest_trip\": 0, \"car_duration_hours\": 0.46, \"competitive_route\": 1, \"bus_multiplier\": 1.3, \"bus_difference\": 8.4, \"num_trips\": 44, \"num_competitive\": 44, \"pct_trips_competitive\": 1.0, \"bus_difference_spread\": 18.0, \"route_group\": \"short\", \"max_trip_hrs\": 0.85, \"max_trip_route_group\": 0.85, \"name\": \"Golden Gate Bridge, Highway and Transportation District\", \"caltrans_district\": \"04 - Oakland\", \"drmt_organization_name\": null, \"cutoff2\": 20, \"cutoff\": 0}, {\"calitp_itp_id\": 127, \"trip_key\": -1866921117610011331, \"trip_id\": \"7447150\", \"shape_id\": \"5800018\", \"route_id\": \"580-231\", \"service_hours\": 0.6, \"trip_first_departure_ts\": 33540, \"trip_last_arrival_ts\": 35700, \"departure_hour\": 9, \"time_of_day\": \"AM Peak\", \"p25\": 0.6, \"p50\": 0.61, \"p75\": 0.67, \"p50_trip\": 1, \"fastest_trip\": 0, \"car_duration_hours\": 0.46, \"competitive_route\": 1, \"bus_multiplier\": 1.3, \"bus_difference\": 8.4, \"num_trips\": 44, \"num_competitive\": 44, \"pct_trips_competitive\": 1.0, \"bus_difference_spread\": 18.0, \"route_group\": \"short\", \"max_trip_hrs\": 0.85, \"max_trip_route_group\": 0.85, \"name\": \"Golden Gate Bridge, Highway and Transportation District\", \"caltrans_district\": \"04 - Oakland\", \"drmt_organization_name\": null, \"cutoff2\": 20, \"cutoff\": 0}, {\"calitp_itp_id\": 127, \"trip_key\": 830272018643698373, \"trip_id\": \"7447123\", \"shape_id\": \"5800017\", \"route_id\": \"580-231\", \"service_hours\": 0.6, \"trip_first_departure_ts\": 27000, \"trip_last_arrival_ts\": 29160, \"departure_hour\": 7, \"time_of_day\": \"AM Peak\", \"p25\": 0.6, \"p50\": 0.61, \"p75\": 0.67, \"p50_trip\": 1, \"fastest_trip\": 0, \"car_duration_hours\": 0.46, \"competitive_route\": 1, \"bus_multiplier\": 1.3, \"bus_difference\": 8.4, \"num_trips\": 44, \"num_competitive\": 44, \"pct_trips_competitive\": 1.0, \"bus_difference_spread\": 18.0, \"route_group\": \"short\", \"max_trip_hrs\": 0.85, \"max_trip_route_group\": 0.85, \"name\": \"Golden Gate Bridge, Highway and Transportation District\", \"caltrans_district\": \"04 - Oakland\", \"drmt_organization_name\": null, \"cutoff2\": 20, \"cutoff\": 0}, {\"calitp_itp_id\": 127, \"trip_key\": -5946641572353613230, \"trip_id\": \"7447130\", \"shape_id\": \"5800017\", \"route_id\": \"580-231\", \"service_hours\": 0.6, \"trip_first_departure_ts\": 48600, \"trip_last_arrival_ts\": 50760, \"departure_hour\": 13, \"time_of_day\": \"Midday\", \"p25\": 0.6, \"p50\": 0.61, \"p75\": 0.67, \"p50_trip\": 1, \"fastest_trip\": 0, \"car_duration_hours\": 0.46, \"competitive_route\": 1, \"bus_multiplier\": 1.3, \"bus_difference\": 8.4, \"num_trips\": 44, \"num_competitive\": 44, \"pct_trips_competitive\": 1.0, \"bus_difference_spread\": 18.0, \"route_group\": \"short\", \"max_trip_hrs\": 0.85, \"max_trip_route_group\": 0.85, \"name\": \"Golden Gate Bridge, Highway and Transportation District\", \"caltrans_district\": \"04 - Oakland\", \"drmt_organization_name\": null, \"cutoff2\": 20, \"cutoff\": 0}, {\"calitp_itp_id\": 127, \"trip_key\": -5809668120445869998, \"trip_id\": \"7447151\", \"shape_id\": \"5800018\", \"route_id\": \"580-231\", \"service_hours\": 0.6, \"trip_first_departure_ts\": 37140, \"trip_last_arrival_ts\": 39300, \"departure_hour\": 10, \"time_of_day\": \"Midday\", \"p25\": 0.6, \"p50\": 0.61, \"p75\": 0.67, \"p50_trip\": 1, \"fastest_trip\": 0, \"car_duration_hours\": 0.46, \"competitive_route\": 1, \"bus_multiplier\": 1.3, \"bus_difference\": 8.4, \"num_trips\": 44, \"num_competitive\": 44, \"pct_trips_competitive\": 1.0, \"bus_difference_spread\": 18.0, \"route_group\": \"short\", \"max_trip_hrs\": 0.85, \"max_trip_route_group\": 0.85, \"name\": \"Golden Gate Bridge, Highway and Transportation District\", \"caltrans_district\": \"04 - Oakland\", \"drmt_organization_name\": null, \"cutoff2\": 20, \"cutoff\": 0}, {\"calitp_itp_id\": 127, \"trip_key\": 7550437053024520981, \"trip_id\": \"7447152\", \"shape_id\": \"5800018\", \"route_id\": \"580-231\", \"service_hours\": 0.6, \"trip_first_departure_ts\": 40740, \"trip_last_arrival_ts\": 42900, \"departure_hour\": 11, \"time_of_day\": \"Midday\", \"p25\": 0.6, \"p50\": 0.61, \"p75\": 0.67, \"p50_trip\": 1, \"fastest_trip\": 0, \"car_duration_hours\": 0.46, \"competitive_route\": 1, \"bus_multiplier\": 1.3, \"bus_difference\": 8.4, \"num_trips\": 44, \"num_competitive\": 44, \"pct_trips_competitive\": 1.0, \"bus_difference_spread\": 18.0, \"route_group\": \"short\", \"max_trip_hrs\": 0.85, \"max_trip_route_group\": 0.85, \"name\": \"Golden Gate Bridge, Highway and Transportation District\", \"caltrans_district\": \"04 - Oakland\", \"drmt_organization_name\": null, \"cutoff2\": 20, \"cutoff\": 0}, {\"calitp_itp_id\": 127, \"trip_key\": 6043046660711386614, \"trip_id\": \"7447149\", \"shape_id\": \"5800018\", \"route_id\": \"580-231\", \"service_hours\": 0.6, \"trip_first_departure_ts\": 31740, \"trip_last_arrival_ts\": 33900, \"departure_hour\": 8, \"time_of_day\": \"AM Peak\", \"p25\": 0.6, \"p50\": 0.61, \"p75\": 0.67, \"p50_trip\": 1, \"fastest_trip\": 0, \"car_duration_hours\": 0.46, \"competitive_route\": 1, \"bus_multiplier\": 1.3, \"bus_difference\": 8.4, \"num_trips\": 44, \"num_competitive\": 44, \"pct_trips_competitive\": 1.0, \"bus_difference_spread\": 18.0, \"route_group\": \"short\", \"max_trip_hrs\": 0.85, \"max_trip_route_group\": 0.85, \"name\": \"Golden Gate Bridge, Highway and Transportation District\", \"caltrans_district\": \"04 - Oakland\", \"drmt_organization_name\": null, \"cutoff2\": 20, \"cutoff\": 0}, {\"calitp_itp_id\": 127, \"trip_key\": -7223694274153425403, \"trip_id\": \"7447128\", \"shape_id\": \"5800017\", \"route_id\": \"580-231\", \"service_hours\": 0.6, \"trip_first_departure_ts\": 41400, \"trip_last_arrival_ts\": 43560, \"departure_hour\": 11, \"time_of_day\": \"Midday\", \"p25\": 0.6, \"p50\": 0.61, \"p75\": 0.67, \"p50_trip\": 1, \"fastest_trip\": 0, \"car_duration_hours\": 0.46, \"competitive_route\": 1, \"bus_multiplier\": 1.3, \"bus_difference\": 8.4, \"num_trips\": 44, \"num_competitive\": 44, \"pct_trips_competitive\": 1.0, \"bus_difference_spread\": 18.0, \"route_group\": \"short\", \"max_trip_hrs\": 0.85, \"max_trip_route_group\": 0.85, \"name\": \"Golden Gate Bridge, Highway and Transportation District\", \"caltrans_district\": \"04 - Oakland\", \"drmt_organization_name\": null, \"cutoff2\": 20, \"cutoff\": 0}, {\"calitp_itp_id\": 127, \"trip_key\": 751167457947054012, \"trip_id\": \"7447125\", \"shape_id\": \"5800017\", \"route_id\": \"580-231\", \"service_hours\": 0.6, \"trip_first_departure_ts\": 30600, \"trip_last_arrival_ts\": 32760, \"departure_hour\": 8, \"time_of_day\": \"AM Peak\", \"p25\": 0.6, \"p50\": 0.61, \"p75\": 0.67, \"p50_trip\": 1, \"fastest_trip\": 0, \"car_duration_hours\": 0.46, \"competitive_route\": 1, \"bus_multiplier\": 1.3, \"bus_difference\": 8.4, \"num_trips\": 44, \"num_competitive\": 44, \"pct_trips_competitive\": 1.0, \"bus_difference_spread\": 18.0, \"route_group\": \"short\", \"max_trip_hrs\": 0.85, \"max_trip_route_group\": 0.85, \"name\": \"Golden Gate Bridge, Highway and Transportation District\", \"caltrans_district\": \"04 - Oakland\", \"drmt_organization_name\": null, \"cutoff2\": 20, \"cutoff\": 0}, {\"calitp_itp_id\": 127, \"trip_key\": 6954732081577497585, \"trip_id\": \"7447124\", \"shape_id\": \"5800017\", \"route_id\": \"580-231\", \"service_hours\": 0.6, \"trip_first_departure_ts\": 28800, \"trip_last_arrival_ts\": 30960, \"departure_hour\": 8, \"time_of_day\": \"AM Peak\", \"p25\": 0.6, \"p50\": 0.61, \"p75\": 0.67, \"p50_trip\": 1, \"fastest_trip\": 0, \"car_duration_hours\": 0.46, \"competitive_route\": 1, \"bus_multiplier\": 1.3, \"bus_difference\": 8.4, \"num_trips\": 44, \"num_competitive\": 44, \"pct_trips_competitive\": 1.0, \"bus_difference_spread\": 18.0, \"route_group\": \"short\", \"max_trip_hrs\": 0.85, \"max_trip_route_group\": 0.85, \"name\": \"Golden Gate Bridge, Highway and Transportation District\", \"caltrans_district\": \"04 - Oakland\", \"drmt_organization_name\": null, \"cutoff2\": 20, \"cutoff\": 0}, {\"calitp_itp_id\": 127, \"trip_key\": 1114685775789416298, \"trip_id\": \"7447127\", \"shape_id\": \"5800017\", \"route_id\": \"580-231\", \"service_hours\": 0.6, \"trip_first_departure_ts\": 37800, \"trip_last_arrival_ts\": 39960, \"departure_hour\": 10, \"time_of_day\": \"Midday\", \"p25\": 0.6, \"p50\": 0.61, \"p75\": 0.67, \"p50_trip\": 1, \"fastest_trip\": 0, \"car_duration_hours\": 0.46, \"competitive_route\": 1, \"bus_multiplier\": 1.3, \"bus_difference\": 8.4, \"num_trips\": 44, \"num_competitive\": 44, \"pct_trips_competitive\": 1.0, \"bus_difference_spread\": 18.0, \"route_group\": \"short\", \"max_trip_hrs\": 0.85, \"max_trip_route_group\": 0.85, \"name\": \"Golden Gate Bridge, Highway and Transportation District\", \"caltrans_district\": \"04 - Oakland\", \"drmt_organization_name\": null, \"cutoff2\": 20, \"cutoff\": 0}, {\"calitp_itp_id\": 127, \"trip_key\": -7261446674277429200, \"trip_id\": \"7447143\", \"shape_id\": \"5800018\", \"route_id\": \"580-231\", \"service_hours\": 0.62, \"trip_first_departure_ts\": 20880, \"trip_last_arrival_ts\": 23100, \"departure_hour\": 5, \"time_of_day\": \"Owl Service\", \"p25\": 0.6, \"p50\": 0.61, \"p75\": 0.67, \"p50_trip\": 1, \"fastest_trip\": 0, \"car_duration_hours\": 0.46, \"competitive_route\": 1, \"bus_multiplier\": 1.35, \"bus_difference\": 9.6, \"num_trips\": 44, \"num_competitive\": 44, \"pct_trips_competitive\": 1.0, \"bus_difference_spread\": 18.0, \"route_group\": \"short\", \"max_trip_hrs\": 0.85, \"max_trip_route_group\": 0.85, \"name\": \"Golden Gate Bridge, Highway and Transportation District\", \"caltrans_district\": \"04 - Oakland\", \"drmt_organization_name\": null, \"cutoff2\": 20, \"cutoff\": 0}, {\"calitp_itp_id\": 127, \"trip_key\": -7932754228444894157, \"trip_id\": \"7447155\", \"shape_id\": \"5800018\", \"route_id\": \"580-231\", \"service_hours\": 0.63, \"trip_first_departure_ts\": 51420, \"trip_last_arrival_ts\": 53700, \"departure_hour\": 14, \"time_of_day\": \"Midday\", \"p25\": 0.6, \"p50\": 0.61, \"p75\": 0.67, \"p50_trip\": 0, \"fastest_trip\": 0, \"car_duration_hours\": 0.46, \"competitive_route\": 1, \"bus_multiplier\": 1.37, \"bus_difference\": 10.2, \"num_trips\": 44, \"num_competitive\": 44, \"pct_trips_competitive\": 1.0, \"bus_difference_spread\": 18.0, \"route_group\": \"short\", \"max_trip_hrs\": 0.85, \"max_trip_route_group\": 0.85, \"name\": \"Golden Gate Bridge, Highway and Transportation District\", \"caltrans_district\": \"04 - Oakland\", \"drmt_organization_name\": null, \"cutoff2\": 20, \"cutoff\": 0}, {\"calitp_itp_id\": 127, \"trip_key\": -7511483731307908451, \"trip_id\": \"7447153\", \"shape_id\": \"5800018\", \"route_id\": \"580-231\", \"service_hours\": 0.63, \"trip_first_departure_ts\": 44220, \"trip_last_arrival_ts\": 46500, \"departure_hour\": 12, \"time_of_day\": \"Midday\", \"p25\": 0.6, \"p50\": 0.61, \"p75\": 0.67, \"p50_trip\": 0, \"fastest_trip\": 0, \"car_duration_hours\": 0.46, \"competitive_route\": 1, \"bus_multiplier\": 1.37, \"bus_difference\": 10.2, \"num_trips\": 44, \"num_competitive\": 44, \"pct_trips_competitive\": 1.0, \"bus_difference_spread\": 18.0, \"route_group\": \"short\", \"max_trip_hrs\": 0.85, \"max_trip_route_group\": 0.85, \"name\": \"Golden Gate Bridge, Highway and Transportation District\", \"caltrans_district\": \"04 - Oakland\", \"drmt_organization_name\": null, \"cutoff2\": 20, \"cutoff\": 0}, {\"calitp_itp_id\": 127, \"trip_key\": 3136324560828579004, \"trip_id\": \"7447154\", \"shape_id\": \"5800018\", \"route_id\": \"580-231\", \"service_hours\": 0.63, \"trip_first_departure_ts\": 47820, \"trip_last_arrival_ts\": 50100, \"departure_hour\": 13, \"time_of_day\": \"Midday\", \"p25\": 0.6, \"p50\": 0.61, \"p75\": 0.67, \"p50_trip\": 0, \"fastest_trip\": 0, \"car_duration_hours\": 0.46, \"competitive_route\": 1, \"bus_multiplier\": 1.37, \"bus_difference\": 10.2, \"num_trips\": 44, \"num_competitive\": 44, \"pct_trips_competitive\": 1.0, \"bus_difference_spread\": 18.0, \"route_group\": \"short\", \"max_trip_hrs\": 0.85, \"max_trip_route_group\": 0.85, \"name\": \"Golden Gate Bridge, Highway and Transportation District\", \"caltrans_district\": \"04 - Oakland\", \"drmt_organization_name\": null, \"cutoff2\": 20, \"cutoff\": 0}, {\"calitp_itp_id\": 127, \"trip_key\": 8852874754234130072, \"trip_id\": \"7447131\", \"shape_id\": \"5800017\", \"route_id\": \"580-231\", \"service_hours\": 0.67, \"trip_first_departure_ts\": 52200, \"trip_last_arrival_ts\": 54600, \"departure_hour\": 14, \"time_of_day\": \"Midday\", \"p25\": 0.6, \"p50\": 0.61, \"p75\": 0.67, \"p50_trip\": 0, \"fastest_trip\": 0, \"car_duration_hours\": 0.46, \"competitive_route\": 1, \"bus_multiplier\": 1.46, \"bus_difference\": 12.6, \"num_trips\": 44, \"num_competitive\": 44, \"pct_trips_competitive\": 1.0, \"bus_difference_spread\": 18.0, \"route_group\": \"short\", \"max_trip_hrs\": 0.85, \"max_trip_route_group\": 0.85, \"name\": \"Golden Gate Bridge, Highway and Transportation District\", \"caltrans_district\": \"04 - Oakland\", \"drmt_organization_name\": null, \"cutoff2\": 20, \"cutoff\": 0}, {\"calitp_itp_id\": 127, \"trip_key\": 7907127109321789406, \"trip_id\": \"7447156\", \"shape_id\": \"5800018\", \"route_id\": \"580-231\", \"service_hours\": 0.67, \"trip_first_departure_ts\": 54900, \"trip_last_arrival_ts\": 57300, \"departure_hour\": 15, \"time_of_day\": \"Midday\", \"p25\": 0.6, \"p50\": 0.61, \"p75\": 0.67, \"p50_trip\": 0, \"fastest_trip\": 0, \"car_duration_hours\": 0.46, \"competitive_route\": 1, \"bus_multiplier\": 1.46, \"bus_difference\": 12.6, \"num_trips\": 44, \"num_competitive\": 44, \"pct_trips_competitive\": 1.0, \"bus_difference_spread\": 18.0, \"route_group\": \"short\", \"max_trip_hrs\": 0.85, \"max_trip_route_group\": 0.85, \"name\": \"Golden Gate Bridge, Highway and Transportation District\", \"caltrans_district\": \"04 - Oakland\", \"drmt_organization_name\": null, \"cutoff2\": 20, \"cutoff\": 0}, {\"calitp_itp_id\": 127, \"trip_key\": 8708268876067923016, \"trip_id\": \"7447160\", \"shape_id\": \"5800018\", \"route_id\": \"580-231\", \"service_hours\": 0.67, \"trip_first_departure_ts\": 63900, \"trip_last_arrival_ts\": 66300, \"departure_hour\": 17, \"time_of_day\": \"PM Peak\", \"p25\": 0.6, \"p50\": 0.61, \"p75\": 0.67, \"p50_trip\": 0, \"fastest_trip\": 0, \"car_duration_hours\": 0.46, \"competitive_route\": 1, \"bus_multiplier\": 1.46, \"bus_difference\": 12.6, \"num_trips\": 44, \"num_competitive\": 44, \"pct_trips_competitive\": 1.0, \"bus_difference_spread\": 18.0, \"route_group\": \"short\", \"max_trip_hrs\": 0.85, \"max_trip_route_group\": 0.85, \"name\": \"Golden Gate Bridge, Highway and Transportation District\", \"caltrans_district\": \"04 - Oakland\", \"drmt_organization_name\": null, \"cutoff2\": 20, \"cutoff\": 0}, {\"calitp_itp_id\": 127, \"trip_key\": 7785789488397027812, \"trip_id\": \"7447158\", \"shape_id\": \"5800018\", \"route_id\": \"580-231\", \"service_hours\": 0.67, \"trip_first_departure_ts\": 60300, \"trip_last_arrival_ts\": 62700, \"departure_hour\": 16, \"time_of_day\": \"Midday\", \"p25\": 0.6, \"p50\": 0.61, \"p75\": 0.67, \"p50_trip\": 0, \"fastest_trip\": 0, \"car_duration_hours\": 0.46, \"competitive_route\": 1, \"bus_multiplier\": 1.46, \"bus_difference\": 12.6, \"num_trips\": 44, \"num_competitive\": 44, \"pct_trips_competitive\": 1.0, \"bus_difference_spread\": 18.0, \"route_group\": \"short\", \"max_trip_hrs\": 0.85, \"max_trip_route_group\": 0.85, \"name\": \"Golden Gate Bridge, Highway and Transportation District\", \"caltrans_district\": \"04 - Oakland\", \"drmt_organization_name\": null, \"cutoff2\": 20, \"cutoff\": 0}, {\"calitp_itp_id\": 127, \"trip_key\": -4406036492388978954, \"trip_id\": \"7447133\", \"shape_id\": \"5800017\", \"route_id\": \"580-231\", \"service_hours\": 0.67, \"trip_first_departure_ts\": 55800, \"trip_last_arrival_ts\": 58200, \"departure_hour\": 15, \"time_of_day\": \"Midday\", \"p25\": 0.6, \"p50\": 0.61, \"p75\": 0.67, \"p50_trip\": 0, \"fastest_trip\": 0, \"car_duration_hours\": 0.46, \"competitive_route\": 1, \"bus_multiplier\": 1.46, \"bus_difference\": 12.6, \"num_trips\": 44, \"num_competitive\": 44, \"pct_trips_competitive\": 1.0, \"bus_difference_spread\": 18.0, \"route_group\": \"short\", \"max_trip_hrs\": 0.85, \"max_trip_route_group\": 0.85, \"name\": \"Golden Gate Bridge, Highway and Transportation District\", \"caltrans_district\": \"04 - Oakland\", \"drmt_organization_name\": null, \"cutoff2\": 20, \"cutoff\": 0}, {\"calitp_itp_id\": 127, \"trip_key\": 1961121891373322761, \"trip_id\": \"7447132\", \"shape_id\": \"5800017\", \"route_id\": \"580-231\", \"service_hours\": 0.67, \"trip_first_departure_ts\": 54000, \"trip_last_arrival_ts\": 56400, \"departure_hour\": 15, \"time_of_day\": \"Midday\", \"p25\": 0.6, \"p50\": 0.61, \"p75\": 0.67, \"p50_trip\": 0, \"fastest_trip\": 0, \"car_duration_hours\": 0.46, \"competitive_route\": 1, \"bus_multiplier\": 1.46, \"bus_difference\": 12.6, \"num_trips\": 44, \"num_competitive\": 44, \"pct_trips_competitive\": 1.0, \"bus_difference_spread\": 18.0, \"route_group\": \"short\", \"max_trip_hrs\": 0.85, \"max_trip_route_group\": 0.85, \"name\": \"Golden Gate Bridge, Highway and Transportation District\", \"caltrans_district\": \"04 - Oakland\", \"drmt_organization_name\": null, \"cutoff2\": 20, \"cutoff\": 0}, {\"calitp_itp_id\": 127, \"trip_key\": -517985365585282309, \"trip_id\": \"7447135\", \"shape_id\": \"5800017\", \"route_id\": \"580-231\", \"service_hours\": 0.67, \"trip_first_departure_ts\": 59400, \"trip_last_arrival_ts\": 61800, \"departure_hour\": 16, \"time_of_day\": \"Midday\", \"p25\": 0.6, \"p50\": 0.61, \"p75\": 0.67, \"p50_trip\": 0, \"fastest_trip\": 0, \"car_duration_hours\": 0.46, \"competitive_route\": 1, \"bus_multiplier\": 1.46, \"bus_difference\": 12.6, \"num_trips\": 44, \"num_competitive\": 44, \"pct_trips_competitive\": 1.0, \"bus_difference_spread\": 18.0, \"route_group\": \"short\", \"max_trip_hrs\": 0.85, \"max_trip_route_group\": 0.85, \"name\": \"Golden Gate Bridge, Highway and Transportation District\", \"caltrans_district\": \"04 - Oakland\", \"drmt_organization_name\": null, \"cutoff2\": 20, \"cutoff\": 0}, {\"calitp_itp_id\": 127, \"trip_key\": 4308247893729181750, \"trip_id\": \"7447159\", \"shape_id\": \"5800018\", \"route_id\": \"580-231\", \"service_hours\": 0.67, \"trip_first_departure_ts\": 62100, \"trip_last_arrival_ts\": 64500, \"departure_hour\": 17, \"time_of_day\": \"PM Peak\", \"p25\": 0.6, \"p50\": 0.61, \"p75\": 0.67, \"p50_trip\": 0, \"fastest_trip\": 0, \"car_duration_hours\": 0.46, \"competitive_route\": 1, \"bus_multiplier\": 1.46, \"bus_difference\": 12.6, \"num_trips\": 44, \"num_competitive\": 44, \"pct_trips_competitive\": 1.0, \"bus_difference_spread\": 18.0, \"route_group\": \"short\", \"max_trip_hrs\": 0.85, \"max_trip_route_group\": 0.85, \"name\": \"Golden Gate Bridge, Highway and Transportation District\", \"caltrans_district\": \"04 - Oakland\", \"drmt_organization_name\": null, \"cutoff2\": 20, \"cutoff\": 0}, {\"calitp_itp_id\": 127, \"trip_key\": -3532360314480155150, \"trip_id\": \"7447136\", \"shape_id\": \"5800017\", \"route_id\": \"580-231\", \"service_hours\": 0.67, \"trip_first_departure_ts\": 61200, \"trip_last_arrival_ts\": 63600, \"departure_hour\": 17, \"time_of_day\": \"PM Peak\", \"p25\": 0.6, \"p50\": 0.61, \"p75\": 0.67, \"p50_trip\": 0, \"fastest_trip\": 0, \"car_duration_hours\": 0.46, \"competitive_route\": 1, \"bus_multiplier\": 1.46, \"bus_difference\": 12.6, \"num_trips\": 44, \"num_competitive\": 44, \"pct_trips_competitive\": 1.0, \"bus_difference_spread\": 18.0, \"route_group\": \"short\", \"max_trip_hrs\": 0.85, \"max_trip_route_group\": 0.85, \"name\": \"Golden Gate Bridge, Highway and Transportation District\", \"caltrans_district\": \"04 - Oakland\", \"drmt_organization_name\": null, \"cutoff2\": 20, \"cutoff\": 0}, {\"calitp_itp_id\": 127, \"trip_key\": -325506061019536589, \"trip_id\": \"7447134\", \"shape_id\": \"5800017\", \"route_id\": \"580-231\", \"service_hours\": 0.67, \"trip_first_departure_ts\": 57600, \"trip_last_arrival_ts\": 60000, \"departure_hour\": 16, \"time_of_day\": \"Midday\", \"p25\": 0.6, \"p50\": 0.61, \"p75\": 0.67, \"p50_trip\": 0, \"fastest_trip\": 0, \"car_duration_hours\": 0.46, \"competitive_route\": 1, \"bus_multiplier\": 1.46, \"bus_difference\": 12.6, \"num_trips\": 44, \"num_competitive\": 44, \"pct_trips_competitive\": 1.0, \"bus_difference_spread\": 18.0, \"route_group\": \"short\", \"max_trip_hrs\": 0.85, \"max_trip_route_group\": 0.85, \"name\": \"Golden Gate Bridge, Highway and Transportation District\", \"caltrans_district\": \"04 - Oakland\", \"drmt_organization_name\": null, \"cutoff2\": 20, \"cutoff\": 0}, {\"calitp_itp_id\": 127, \"trip_key\": -7803886371878077595, \"trip_id\": \"7447157\", \"shape_id\": \"5800018\", \"route_id\": \"580-231\", \"service_hours\": 0.67, \"trip_first_departure_ts\": 58500, \"trip_last_arrival_ts\": 60900, \"departure_hour\": 16, \"time_of_day\": \"Midday\", \"p25\": 0.6, \"p50\": 0.61, \"p75\": 0.67, \"p50_trip\": 0, \"fastest_trip\": 0, \"car_duration_hours\": 0.46, \"competitive_route\": 1, \"bus_multiplier\": 1.46, \"bus_difference\": 12.6, \"num_trips\": 44, \"num_competitive\": 44, \"pct_trips_competitive\": 1.0, \"bus_difference_spread\": 18.0, \"route_group\": \"short\", \"max_trip_hrs\": 0.85, \"max_trip_route_group\": 0.85, \"name\": \"Golden Gate Bridge, Highway and Transportation District\", \"caltrans_district\": \"04 - Oakland\", \"drmt_organization_name\": null, \"cutoff2\": 20, \"cutoff\": 0}, {\"calitp_itp_id\": 127, \"trip_key\": -6898205317477365917, \"trip_id\": \"7447137\", \"shape_id\": \"5800017\", \"route_id\": \"580-231\", \"service_hours\": 0.67, \"trip_first_departure_ts\": 63000, \"trip_last_arrival_ts\": 65400, \"departure_hour\": 17, \"time_of_day\": \"PM Peak\", \"p25\": 0.6, \"p50\": 0.61, \"p75\": 0.67, \"p50_trip\": 0, \"fastest_trip\": 0, \"car_duration_hours\": 0.46, \"competitive_route\": 1, \"bus_multiplier\": 1.46, \"bus_difference\": 12.6, \"num_trips\": 44, \"num_competitive\": 44, \"pct_trips_competitive\": 1.0, \"bus_difference_spread\": 18.0, \"route_group\": \"short\", \"max_trip_hrs\": 0.85, \"max_trip_route_group\": 0.85, \"name\": \"Golden Gate Bridge, Highway and Transportation District\", \"caltrans_district\": \"04 - Oakland\", \"drmt_organization_name\": null, \"cutoff2\": 20, \"cutoff\": 0}, {\"calitp_itp_id\": 127, \"trip_key\": 3517244943361444895, \"trip_id\": \"7447161\", \"shape_id\": \"5800018\", \"route_id\": \"580-231\", \"service_hours\": 0.67, \"trip_first_departure_ts\": 65700, \"trip_last_arrival_ts\": 68100, \"departure_hour\": 18, \"time_of_day\": \"PM Peak\", \"p25\": 0.6, \"p50\": 0.61, \"p75\": 0.67, \"p50_trip\": 0, \"fastest_trip\": 0, \"car_duration_hours\": 0.46, \"competitive_route\": 1, \"bus_multiplier\": 1.46, \"bus_difference\": 12.6, \"num_trips\": 44, \"num_competitive\": 44, \"pct_trips_competitive\": 1.0, \"bus_difference_spread\": 18.0, \"route_group\": \"short\", \"max_trip_hrs\": 0.85, \"max_trip_route_group\": 0.85, \"name\": \"Golden Gate Bridge, Highway and Transportation District\", \"caltrans_district\": \"04 - Oakland\", \"drmt_organization_name\": null, \"cutoff2\": 20, \"cutoff\": 0}, {\"calitp_itp_id\": 127, \"trip_key\": -8115565182089392768, \"trip_id\": \"7447148\", \"shape_id\": \"5800018\", \"route_id\": \"580-231\", \"service_hours\": 0.72, \"trip_first_departure_ts\": 29520, \"trip_last_arrival_ts\": 32100, \"departure_hour\": 8, \"time_of_day\": \"AM Peak\", \"p25\": 0.6, \"p50\": 0.61, \"p75\": 0.67, \"p50_trip\": 0, \"fastest_trip\": 0, \"car_duration_hours\": 0.46, \"competitive_route\": 1, \"bus_multiplier\": 1.57, \"bus_difference\": 15.6, \"num_trips\": 44, \"num_competitive\": 44, \"pct_trips_competitive\": 1.0, \"bus_difference_spread\": 18.0, \"route_group\": \"short\", \"max_trip_hrs\": 0.85, \"max_trip_route_group\": 0.85, \"name\": \"Golden Gate Bridge, Highway and Transportation District\", \"caltrans_district\": \"04 - Oakland\", \"drmt_organization_name\": null, \"cutoff2\": 20, \"cutoff\": 0}, {\"calitp_itp_id\": 127, \"trip_key\": 6785495457132930713, \"trip_id\": \"7447144\", \"shape_id\": \"5800018\", \"route_id\": \"580-231\", \"service_hours\": 0.85, \"trip_first_departure_ts\": 21840, \"trip_last_arrival_ts\": 24900, \"departure_hour\": 6, \"time_of_day\": \"Owl Service\", \"p25\": 0.6, \"p50\": 0.61, \"p75\": 0.67, \"p50_trip\": 0, \"fastest_trip\": 0, \"car_duration_hours\": 0.46, \"competitive_route\": 1, \"bus_multiplier\": 1.85, \"bus_difference\": 23.4, \"num_trips\": 44, \"num_competitive\": 44, \"pct_trips_competitive\": 1.0, \"bus_difference_spread\": 18.0, \"route_group\": \"short\", \"max_trip_hrs\": 0.85, \"max_trip_route_group\": 0.85, \"name\": \"Golden Gate Bridge, Highway and Transportation District\", \"caltrans_district\": \"04 - Oakland\", \"drmt_organization_name\": null, \"cutoff2\": 20, \"cutoff\": 0}, {\"calitp_itp_id\": 127, \"trip_key\": -3803382172035585074, \"trip_id\": \"7447146\", \"shape_id\": \"5800018\", \"route_id\": \"580-231\", \"service_hours\": 0.85, \"trip_first_departure_ts\": 25440, \"trip_last_arrival_ts\": 28500, \"departure_hour\": 7, \"time_of_day\": \"AM Peak\", \"p25\": 0.6, \"p50\": 0.61, \"p75\": 0.67, \"p50_trip\": 0, \"fastest_trip\": 0, \"car_duration_hours\": 0.46, \"competitive_route\": 1, \"bus_multiplier\": 1.85, \"bus_difference\": 23.4, \"num_trips\": 44, \"num_competitive\": 44, \"pct_trips_competitive\": 1.0, \"bus_difference_spread\": 18.0, \"route_group\": \"short\", \"max_trip_hrs\": 0.85, \"max_trip_route_group\": 0.85, \"name\": \"Golden Gate Bridge, Highway and Transportation District\", \"caltrans_district\": \"04 - Oakland\", \"drmt_organization_name\": null, \"cutoff2\": 20, \"cutoff\": 0}, {\"calitp_itp_id\": 127, \"trip_key\": 5537051156108821865, \"trip_id\": \"7447147\", \"shape_id\": \"5800018\", \"route_id\": \"580-231\", \"service_hours\": 0.85, \"trip_first_departure_ts\": 27240, \"trip_last_arrival_ts\": 30300, \"departure_hour\": 7, \"time_of_day\": \"AM Peak\", \"p25\": 0.6, \"p50\": 0.61, \"p75\": 0.67, \"p50_trip\": 0, \"fastest_trip\": 0, \"car_duration_hours\": 0.46, \"competitive_route\": 1, \"bus_multiplier\": 1.85, \"bus_difference\": 23.4, \"num_trips\": 44, \"num_competitive\": 44, \"pct_trips_competitive\": 1.0, \"bus_difference_spread\": 18.0, \"route_group\": \"short\", \"max_trip_hrs\": 0.85, \"max_trip_route_group\": 0.85, \"name\": \"Golden Gate Bridge, Highway and Transportation District\", \"caltrans_district\": \"04 - Oakland\", \"drmt_organization_name\": null, \"cutoff2\": 20, \"cutoff\": 0}, {\"calitp_itp_id\": 127, \"trip_key\": 6537514563491858345, \"trip_id\": \"7447145\", \"shape_id\": \"5800018\", \"route_id\": \"580-231\", \"service_hours\": 0.85, \"trip_first_departure_ts\": 23640, \"trip_last_arrival_ts\": 26700, \"departure_hour\": 6, \"time_of_day\": \"Owl Service\", \"p25\": 0.6, \"p50\": 0.61, \"p75\": 0.67, \"p50_trip\": 0, \"fastest_trip\": 0, \"car_duration_hours\": 0.46, \"competitive_route\": 1, \"bus_multiplier\": 1.85, \"bus_difference\": 23.4, \"num_trips\": 44, \"num_competitive\": 44, \"pct_trips_competitive\": 1.0, \"bus_difference_spread\": 18.0, \"route_group\": \"short\", \"max_trip_hrs\": 0.85, \"max_trip_route_group\": 0.85, \"name\": \"Golden Gate Bridge, Highway and Transportation District\", \"caltrans_district\": \"04 - Oakland\", \"drmt_organization_name\": null, \"cutoff2\": 20, \"cutoff\": 0}]}}, {\"mode\": \"vega-lite\"});\n",
       "</script>"
      ],
      "text/plain": [
       "alt.FacetChart(...)"
      ]
     },
     "metadata": {},
     "output_type": "display_data"
    }
   ],
   "source": [
    "# Allow for possibility that operator doesn't have routes that fall into certain route_groups\n",
    "# But, jupyterbook will not like markdown with f-string\n",
    "# separate out route_group and put in each cell, and use try/except + if to display...\n",
    "# but all 3 route groups must be displayed. just add sentence about why no routes were returned at the end\n",
    "route_group = \"short\"\n",
    "try:\n",
    "    display_charts_for_route_group(df, route_group)\n",
    "except:\n",
    "    print(\"No routes meet this criteria.\")"
   ]
  },
  {
   "cell_type": "markdown",
   "id": "c2931b6f-034d-4384-9e14-80b925e3b820",
   "metadata": {
    "papermill": {
     "duration": 0.02586,
     "end_time": "2022-05-09T16:39:56.726627",
     "exception": false,
     "start_time": "2022-05-09T16:39:56.700767",
     "status": "completed"
    },
    "tags": []
   },
   "source": [
    "### Medium Routes (1-1.5 hrs)"
   ]
  },
  {
   "cell_type": "code",
   "execution_count": 14,
   "id": "480edddc-4de0-48c2-ae4c-b0ceef8f28b5",
   "metadata": {
    "execution": {
     "iopub.execute_input": "2022-05-09T16:39:56.767418Z",
     "iopub.status.busy": "2022-05-09T16:39:56.766585Z",
     "iopub.status.idle": "2022-05-09T16:39:56.781847Z",
     "shell.execute_reply": "2022-05-09T16:39:56.780905Z"
    },
    "jupyter": {
     "source_hidden": true
    },
    "papermill": {
     "duration": 0.037471,
     "end_time": "2022-05-09T16:39:56.784342",
     "exception": false,
     "start_time": "2022-05-09T16:39:56.746871",
     "status": "completed"
    },
    "tags": [
     "remove_input"
    ]
   },
   "outputs": [
    {
     "name": "stdout",
     "output_type": "stream",
     "text": [
      "No routes meet this criteria.\n"
     ]
    }
   ],
   "source": [
    "route_group = \"medium\"\n",
    "try:\n",
    "    display_charts_for_route_group(df, route_group)\n",
    "except:\n",
    "    print(\"No routes meet this criteria.\")"
   ]
  },
  {
   "cell_type": "markdown",
   "id": "124b76d0-886c-4d03-92ac-f1bda3cda182",
   "metadata": {
    "papermill": {
     "duration": 0.018821,
     "end_time": "2022-05-09T16:39:56.832920",
     "exception": false,
     "start_time": "2022-05-09T16:39:56.814099",
     "status": "completed"
    },
    "tags": []
   },
   "source": [
    "### Long Routes (> 1.5 hrs)"
   ]
  },
  {
   "cell_type": "code",
   "execution_count": 15,
   "id": "ddc81b19-4c45-4c81-8b7a-5e0f394aa7a3",
   "metadata": {
    "execution": {
     "iopub.execute_input": "2022-05-09T16:39:56.877611Z",
     "iopub.status.busy": "2022-05-09T16:39:56.876790Z",
     "iopub.status.idle": "2022-05-09T16:39:56.892548Z",
     "shell.execute_reply": "2022-05-09T16:39:56.891462Z"
    },
    "jupyter": {
     "source_hidden": true
    },
    "papermill": {
     "duration": 0.051027,
     "end_time": "2022-05-09T16:39:56.907234",
     "exception": false,
     "start_time": "2022-05-09T16:39:56.856207",
     "status": "completed"
    },
    "tags": [
     "remove_input"
    ]
   },
   "outputs": [
    {
     "name": "stdout",
     "output_type": "stream",
     "text": [
      "No routes meet this criteria.\n"
     ]
    }
   ],
   "source": [
    "route_group = \"long\"\n",
    "try:\n",
    "    display_charts_for_route_group(df, route_group)\n",
    "except:\n",
    "    print(\"No routes meet this criteria.\")"
   ]
  },
  {
   "cell_type": "markdown",
   "id": "ace75b5f-0442-4fbe-aebd-6c3a13ae13a7",
   "metadata": {
    "papermill": {
     "duration": 0.020803,
     "end_time": "2022-05-09T16:39:56.948876",
     "exception": false,
     "start_time": "2022-05-09T16:39:56.928073",
     "status": "completed"
    },
    "tags": []
   },
   "source": [
    "### GTFS Real-Time Speedmaps"
   ]
  },
  {
   "cell_type": "code",
   "execution_count": 16,
   "id": "3f06fdc4-d5a8-41f5-9b72-ed7e8a2dd2fc",
   "metadata": {
    "execution": {
     "iopub.execute_input": "2022-05-09T16:39:57.008417Z",
     "iopub.status.busy": "2022-05-09T16:39:56.997592Z",
     "iopub.status.idle": "2022-05-09T16:39:57.119732Z",
     "shell.execute_reply": "2022-05-09T16:39:57.117785Z"
    },
    "jupyter": {
     "source_hidden": true
    },
    "papermill": {
     "duration": 0.153023,
     "end_time": "2022-05-09T16:39:57.124233",
     "exception": false,
     "start_time": "2022-05-09T16:39:56.971210",
     "status": "completed"
    },
    "tags": [
     "remove_input"
    ]
   },
   "outputs": [
    {
     "data": {
      "text/html": [
       "<a href=RT_URL>GTFS RT speedmaps here.</a>"
      ],
      "text/plain": [
       "<IPython.core.display.HTML object>"
      ]
     },
     "metadata": {},
     "output_type": "display_data"
    }
   ],
   "source": [
    "PORTFOLIO_SITE_YAML = \"../portfolio/analyses.yml\"\n",
    "\n",
    "# Grab list of ITP IDs with GTFS RT speedmaps\n",
    "rt_itp_id = deploy_portfolio_yaml.check_if_rt_data_available(PORTFOLIO_SITE_YAML)\n",
    "\n",
    "# Construct the URL \n",
    "RT_URL = (\"https://analysis.calitp.org/rt/\"\n",
    "          f\"district_{district_number}-{district_name}/\"\n",
    "          f\"speedmaps__itp_id_{itp_id}.html\"\n",
    "         ) \n",
    "\n",
    "if itp_id in rt_itp_id:\n",
    "    display(HTML('<a href=RT_URL>GTFS RT speedmaps here.</a>'))\n",
    "else:\n",
    "    display(HTML(\"No GTFS RT data available.\"))"
   ]
  },
  {
   "cell_type": "code",
   "execution_count": null,
   "id": "4664fe87-4e5e-4414-9602-a5c9c2a14072",
   "metadata": {
    "jupyter": {
     "source_hidden": true
    },
    "papermill": {
     "duration": 0.023217,
     "end_time": "2022-05-09T16:39:57.172136",
     "exception": false,
     "start_time": "2022-05-09T16:39:57.148919",
     "status": "completed"
    },
    "tags": [
     "remove_input"
    ]
   },
   "outputs": [],
   "source": []
  }
 ],
 "metadata": {
  "kernelspec": {
   "display_name": "Python 3 (ipykernel)",
   "language": "python",
   "name": "python3"
  },
  "language_info": {
   "codemirror_mode": {
    "name": "ipython",
    "version": 3
   },
   "file_extension": ".py",
   "mimetype": "text/x-python",
   "name": "python",
   "nbconvert_exporter": "python",
   "pygments_lexer": "ipython3",
   "version": "3.9.12"
  },
  "papermill": {
   "default_parameters": {},
   "duration": 29.137876,
   "end_time": "2022-05-09T16:39:59.523955",
   "environment_variables": {},
   "exception": null,
   "input_path": "bus_service_increase/competitive-parallel-routes.ipynb",
   "output_path": "portfolio/parallel_corridors/district_04-oakland/competitive-parallel-routes__itp_id_127.ipynb",
   "parameters": {
    "district": "04 - Oakland",
    "itp_id": 127
   },
   "start_time": "2022-05-09T16:39:30.386079",
   "version": "2.3.4"
  }
 },
 "nbformat": 4,
 "nbformat_minor": 5
}