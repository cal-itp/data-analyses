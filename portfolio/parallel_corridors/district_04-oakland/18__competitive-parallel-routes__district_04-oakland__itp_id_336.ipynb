{
 "cells": [
  {
   "cell_type": "code",
   "execution_count": 1,
   "id": "95d00857-6a20-4529-a519-2cc7182928a9",
   "metadata": {
    "execution": {
     "iopub.execute_input": "2022-06-03T20:37:25.346220Z",
     "iopub.status.busy": "2022-06-03T20:37:25.345566Z",
     "iopub.status.idle": "2022-06-03T20:37:34.019917Z",
     "shell.execute_reply": "2022-06-03T20:37:34.019027Z"
    },
    "jupyter": {
     "source_hidden": true
    },
    "papermill": {
     "duration": 8.703655,
     "end_time": "2022-06-03T20:37:34.022679",
     "exception": false,
     "start_time": "2022-06-03T20:37:25.319024",
     "status": "completed"
    },
    "tags": [
     "remove_input"
    ]
   },
   "outputs": [],
   "source": [
    "%%capture\n",
    "import warnings\n",
    "warnings.filterwarnings('ignore')\n",
    "\n",
    "import altair as alt\n",
    "import calitp.magics\n",
    "import geopandas as gpd\n",
    "import intake\n",
    "import pandas as pd\n",
    "\n",
    "from IPython.display import display, Markdown, HTML\n",
    "\n",
    "import parallel_corridors_utils\n",
    "import deploy_portfolio_yaml\n",
    "from shared_utils import styleguide, geography_utils\n",
    "from E5_make_stripplot_data import diff_cutoffs\n",
    "\n",
    "catalog = intake.open_catalog(\"./*.yml\")\n",
    "alt.renderers.enable(\"html\")"
   ]
  },
  {
   "cell_type": "code",
   "execution_count": 2,
   "id": "a1939dd3-6c5b-4ef7-b49f-e3f30c8bd8bd",
   "metadata": {
    "execution": {
     "iopub.execute_input": "2022-06-03T20:37:34.055579Z",
     "iopub.status.busy": "2022-06-03T20:37:34.055029Z",
     "iopub.status.idle": "2022-06-03T20:37:34.059704Z",
     "shell.execute_reply": "2022-06-03T20:37:34.058871Z"
    },
    "jupyter": {
     "source_hidden": true
    },
    "papermill": {
     "duration": 0.023719,
     "end_time": "2022-06-03T20:37:34.061624",
     "exception": false,
     "start_time": "2022-06-03T20:37:34.037905",
     "status": "completed"
    },
    "tags": [
     "remove_input"
    ]
   },
   "outputs": [],
   "source": [
    "from calitp.tables import tbl\n",
    "from siuba import *"
   ]
  },
  {
   "cell_type": "code",
   "execution_count": 3,
   "id": "8af2a0c1-f3da-408d-9bea-11d9fbf8695d",
   "metadata": {
    "execution": {
     "iopub.execute_input": "2022-06-03T20:37:34.089430Z",
     "iopub.status.busy": "2022-06-03T20:37:34.089154Z",
     "iopub.status.idle": "2022-06-03T20:37:34.094599Z",
     "shell.execute_reply": "2022-06-03T20:37:34.093592Z"
    },
    "jupyter": {
     "source_hidden": true
    },
    "papermill": {
     "duration": 0.022764,
     "end_time": "2022-06-03T20:37:34.097104",
     "exception": false,
     "start_time": "2022-06-03T20:37:34.074340",
     "status": "completed"
    },
    "tags": [
     "parameters",
     "remove_input"
    ]
   },
   "outputs": [],
   "source": [
    "# parameters cell\n",
    "itp_id = 182"
   ]
  },
  {
   "cell_type": "code",
   "execution_count": 4,
   "id": "a02e73f1",
   "metadata": {
    "execution": {
     "iopub.execute_input": "2022-06-03T20:37:34.127780Z",
     "iopub.status.busy": "2022-06-03T20:37:34.127489Z",
     "iopub.status.idle": "2022-06-03T20:37:34.131747Z",
     "shell.execute_reply": "2022-06-03T20:37:34.131111Z"
    },
    "jupyter": {
     "source_hidden": true
    },
    "papermill": {
     "duration": 0.030462,
     "end_time": "2022-06-03T20:37:34.142001",
     "exception": false,
     "start_time": "2022-06-03T20:37:34.111539",
     "status": "completed"
    },
    "tags": [
     "injected-parameters",
     "remove_input"
    ]
   },
   "outputs": [],
   "source": [
    "# Parameters\n",
    "district = \"04 - Oakland\"\n",
    "itp_id = 336\n"
   ]
  },
  {
   "cell_type": "code",
   "execution_count": 5,
   "id": "9582aaf4-79ff-412a-b248-8d8d693ebd4f",
   "metadata": {
    "execution": {
     "iopub.execute_input": "2022-06-03T20:37:34.174429Z",
     "iopub.status.busy": "2022-06-03T20:37:34.174025Z",
     "iopub.status.idle": "2022-06-03T20:37:35.806598Z",
     "shell.execute_reply": "2022-06-03T20:37:35.805801Z"
    },
    "jupyter": {
     "source_hidden": true
    },
    "papermill": {
     "duration": 1.650512,
     "end_time": "2022-06-03T20:37:35.809115",
     "exception": false,
     "start_time": "2022-06-03T20:37:34.158603",
     "status": "completed"
    },
    "tags": [
     "remove_input"
    ]
   },
   "outputs": [],
   "source": [
    "df = catalog.competitive_route_variability.read()\n",
    "\n",
    "df = (df[(df.calitp_itp_id == itp_id) & \n",
    "         (df.route_group.notna())]\n",
    "      .rename(columns = {\"route_name_used\": \"route_name\"})\n",
    "      .reset_index(drop=True)\n",
    "     )\n",
    "\n",
    "\n",
    "if itp_id == 182:\n",
    "    df = df.assign(\n",
    "        route_id = df.route_id.str.replace('-13153', '')\n",
    "    )\n",
    "\n",
    "# Use route_short_name instead\n",
    "# But where route_short_name is missing, use route_id\n",
    "df = df.assign(\n",
    "    route_id2 = df.apply(lambda x: x.route_short_name if x.route_short_name is not None\n",
    "                        else x.route_id, axis=1),\n",
    ")"
   ]
  },
  {
   "cell_type": "code",
   "execution_count": 6,
   "id": "33ac4b06-f647-4dce-a625-8f2c1b37cc60",
   "metadata": {
    "execution": {
     "iopub.execute_input": "2022-06-03T20:37:35.839800Z",
     "iopub.status.busy": "2022-06-03T20:37:35.839514Z",
     "iopub.status.idle": "2022-06-03T20:37:35.848591Z",
     "shell.execute_reply": "2022-06-03T20:37:35.847563Z"
    },
    "jupyter": {
     "source_hidden": true
    },
    "papermill": {
     "duration": 0.027127,
     "end_time": "2022-06-03T20:37:35.850716",
     "exception": false,
     "start_time": "2022-06-03T20:37:35.823589",
     "status": "completed"
    },
    "tags": [
     "remove_input"
    ]
   },
   "outputs": [],
   "source": [
    "%%capture_parameters\n",
    "operator_name = df.calitp_agency_name.iloc[0]\n",
    "district_number = f\"{df.caltrans_district.iloc[0].split('-')[0].strip()}\"\n",
    "district_name = f\"{df.caltrans_district.iloc[0].split('-')[1].strip().lower().replace(' ', '-')}\"\n",
    "\n",
    "itp_id, operator_name, district_number, district_name"
   ]
  },
  {
   "cell_type": "markdown",
   "id": "65bc6f5c-8348-42ee-b2dd-52057c406852",
   "metadata": {
    "papermill": {
     "duration": 0.015695,
     "end_time": "2022-06-03T20:37:35.884680",
     "exception": false,
     "start_time": "2022-06-03T20:37:35.868985",
     "status": "completed"
    },
    "tags": []
   },
   "source": [
    "# Tri Delta Transit"
   ]
  },
  {
   "cell_type": "code",
   "execution_count": 7,
   "id": "a689c1ab-2c6c-4831-8d64-897f5986f571",
   "metadata": {
    "execution": {
     "iopub.execute_input": "2022-06-03T20:37:35.917358Z",
     "iopub.status.busy": "2022-06-03T20:37:35.917004Z",
     "iopub.status.idle": "2022-06-03T20:37:35.923339Z",
     "shell.execute_reply": "2022-06-03T20:37:35.922511Z"
    },
    "jupyter": {
     "source_hidden": true
    },
    "papermill": {
     "duration": 0.026343,
     "end_time": "2022-06-03T20:37:35.926656",
     "exception": false,
     "start_time": "2022-06-03T20:37:35.900313",
     "status": "completed"
    },
    "tags": [
     "remove_input"
    ]
   },
   "outputs": [
    {
     "data": {
      "text/html": [
       "<h1>Competitive & Parallel Routes</h1>"
      ],
      "text/plain": [
       "<IPython.core.display.HTML object>"
      ]
     },
     "metadata": {},
     "output_type": "display_data"
    }
   ],
   "source": [
    "display(HTML(\"<h1>Competitive & Parallel Routes</h1>\")) "
   ]
  },
  {
   "cell_type": "code",
   "execution_count": 8,
   "id": "2cb4d8d5-4760-40e4-85b1-cb833d8bb648",
   "metadata": {
    "execution": {
     "iopub.execute_input": "2022-06-03T20:37:35.961896Z",
     "iopub.status.busy": "2022-06-03T20:37:35.961594Z",
     "iopub.status.idle": "2022-06-03T20:37:46.961565Z",
     "shell.execute_reply": "2022-06-03T20:37:46.960639Z"
    },
    "jupyter": {
     "source_hidden": true
    },
    "papermill": {
     "duration": 11.021004,
     "end_time": "2022-06-03T20:37:46.964342",
     "exception": false,
     "start_time": "2022-06-03T20:37:35.943338",
     "status": "completed"
    },
    "tags": [
     "remove_input"
    ]
   },
   "outputs": [],
   "source": [
    "# Grab parameters for narrative text - clean up formatting here \n",
    "district = df.caltrans_district.iloc[0]\n",
    "formatted_date = pd.to_datetime(parallel_corridors_utils.SELECTED_DATE).strftime('%m-%d-%Y')\n",
    "\n",
    "PCT_COMPETITIVE_THRESHOLD = parallel_corridors_utils.PCT_COMPETITIVE_THRESHOLD\n",
    "PCT_TRIPS_BELOW_CUTOFF = parallel_corridors_utils.PCT_TRIPS_BELOW_CUTOFF\n",
    "\n",
    "stats = parallel_corridors_utils.operator_parallel_competitive_stats(\n",
    "    itp_id, PCT_COMPETITIVE_THRESHOLD, PCT_TRIPS_BELOW_CUTOFF)\n",
    "\n",
    "pct_parallel = round(stats['parallel_routes'] / stats['num_routes'] * 100, 1 )\n",
    "pct_competitive =  round(stats['competitive_routes'] / stats['num_routes'] * 100, 1 )\n",
    "pct_viable =  round(stats['viable_competitive_routes'] / stats['num_routes'] * 100, 1 )"
   ]
  },
  {
   "cell_type": "code",
   "execution_count": 9,
   "id": "8bf30c8f-6aa5-47bb-82ae-a906732e81fd",
   "metadata": {
    "execution": {
     "iopub.execute_input": "2022-06-03T20:37:46.996636Z",
     "iopub.status.busy": "2022-06-03T20:37:46.996336Z",
     "iopub.status.idle": "2022-06-03T20:37:47.027759Z",
     "shell.execute_reply": "2022-06-03T20:37:47.026832Z"
    },
    "jupyter": {
     "source_hidden": true
    },
    "papermill": {
     "duration": 0.051184,
     "end_time": "2022-06-03T20:37:47.030165",
     "exception": false,
     "start_time": "2022-06-03T20:37:46.978981",
     "status": "completed"
    },
    "tags": [
     "remove_input"
    ]
   },
   "outputs": [],
   "source": [
    "# Display a table of route-level stats for each route_group\n",
    "# Displaying route_name makes chart too crowded\n",
    "\n",
    "# Get route stats (for entire df)\n",
    "route_stats = parallel_corridors_utils.competitive_route_level_stats(df)\n",
    "    \n",
    "def style_route_stats(df, top15_routes):\n",
    "    df = df[df.route_id.isin(top15_routes)]\n",
    "    \n",
    "    # Rename columns for display\n",
    "    rename_cols = {\n",
    "        \"route_id2\": \"Route ID\",\n",
    "        \"route_name\": \"Route Name\",\n",
    "        \"route_group\": \"Route Group\",\n",
    "        \"num_trips\": \"# trips\",\n",
    "        \"daily_avg_freq\": \"Daily Avg Freq (trips per hr)\",\n",
    "        \"pm_peak_freq\": \"PM Peak Avg Freq (trips per hr)\",\n",
    "        \"percentiles\": \"25th, 50th, 75th ptile (hrs)\",\n",
    "    }\n",
    "    \n",
    "    # Style it\n",
    "    drop_cols = [\n",
    "        \"calitp_itp_id\", \"below_cutoff\", \"route_group\", \n",
    "        \"pct_trips_competitive\", \"pct_below_cutoff\",\n",
    "        \"p25\", \"p50\", \"p75\",\n",
    "    ]\n",
    "    \n",
    "    # Change alignment for some columns\n",
    "    # https://stackoverflow.com/questions/59453091/left-align-the-first-column-and-center-align-the-other-columns-in-a-pandas-table\n",
    "    df_style = (df.sort_values(\n",
    "        [\"pct_trips_competitive\", \"below_cutoff\", \n",
    "        \"pct_below_cutoff\", \"route_id\"], \n",
    "        ascending=[False, False, False, True])\n",
    "           .drop(columns = drop_cols)\n",
    "           .rename(columns = rename_cols)\n",
    "           .style.format(\n",
    "               subset=['Daily Avg Freq (trips per hr)', \n",
    "                       'PM Peak Avg Freq (trips per hr)'], \n",
    "               **{'formatter': '{:,.3}'})\n",
    "                .set_properties(subset=['Route ID', 'Route Name'], \n",
    "                                **{'text-align': 'left'})\n",
    "                .set_properties(subset=['# trips', 'Daily Avg Freq (trips per hr)', \n",
    "                                       'PM Peak Avg Freq (trips per hr)'], \n",
    "                               **{'text-align': 'center'})\n",
    "                .set_table_styles([dict(selector='th', \n",
    "                                        props=[('text-align', 'center')])\n",
    "                                        ])\n",
    "           .hide(axis=\"index\")\n",
    "           .to_html()\n",
    "          )\n",
    "    \n",
    "    display(HTML(\"<h4>Route Stats</h4>\"))\n",
    "    display(HTML(df_style))"
   ]
  },
  {
   "cell_type": "markdown",
   "id": "ab667928-5274-4490-82d9-4c39293209a4",
   "metadata": {
    "papermill": {
     "duration": 0.015522,
     "end_time": "2022-06-03T20:37:47.065661",
     "exception": false,
     "start_time": "2022-06-03T20:37:47.050139",
     "status": "completed"
    },
    "tags": []
   },
   "source": [
    "## Quick Stats"
   ]
  },
  {
   "cell_type": "code",
   "execution_count": 10,
   "id": "0416509d-dc62-4165-b62e-64f8b26e8b8e",
   "metadata": {
    "execution": {
     "iopub.execute_input": "2022-06-03T20:37:47.101533Z",
     "iopub.status.busy": "2022-06-03T20:37:47.101235Z",
     "iopub.status.idle": "2022-06-03T20:37:47.109719Z",
     "shell.execute_reply": "2022-06-03T20:37:47.109123Z"
    },
    "jupyter": {
     "source_hidden": true
    },
    "papermill": {
     "duration": 0.026414,
     "end_time": "2022-06-03T20:37:47.111513",
     "exception": false,
     "start_time": "2022-06-03T20:37:47.085099",
     "status": "completed"
    },
    "tags": [
     "remove_input"
    ]
   },
   "outputs": [
    {
     "data": {
      "text/markdown": [
       "**Bus routes in service: 15**<br>**Parallel routes** to State Highway Network (SHN): **11 routes (73.3%)**<br>**Competitive routes** against car travel (within 2x car travel time): **6 routes (40.0%)**<br>**Viable competitive routes** against car travel (within 2x car travel time and within 20, 30, or 40 min cut-off): **3 routes (20.0%)**"
      ],
      "text/plain": [
       "<IPython.core.display.Markdown object>"
      ]
     },
     "metadata": {},
     "output_type": "display_data"
    }
   ],
   "source": [
    "display(\n",
    "    Markdown(\n",
    "        f\"**Bus routes in service: {stats['num_routes']}**\"\n",
    "        \"<br>**Parallel routes** to State Highway Network (SHN): \"\n",
    "        f\"**{stats['parallel_routes']} routes ({pct_parallel}%)**\"\n",
    "        \"<br>**Competitive routes** against car travel (within 2x car travel time): \"\n",
    "        f\"**{stats['competitive_routes']} routes ({pct_competitive}%)**\"\n",
    "        \"<br>**Viable competitive routes** against car travel \"\n",
    "        \"(within 2x car travel time and within 20, 30, or 40 min cut-off): \"\n",
    "        f\"**{stats['viable_competitive_routes']} routes ({pct_viable}%)**\"\n",
    "    )\n",
    ")"
   ]
  },
  {
   "cell_type": "code",
   "execution_count": 11,
   "id": "f9d6ab58-f0ee-460c-b6de-657490e1f386",
   "metadata": {
    "execution": {
     "iopub.execute_input": "2022-06-03T20:37:47.157013Z",
     "iopub.status.busy": "2022-06-03T20:37:47.156690Z",
     "iopub.status.idle": "2022-06-03T20:37:47.164333Z",
     "shell.execute_reply": "2022-06-03T20:37:47.163159Z"
    },
    "jupyter": {
     "source_hidden": true
    },
    "papermill": {
     "duration": 0.041159,
     "end_time": "2022-06-03T20:37:47.168620",
     "exception": false,
     "start_time": "2022-06-03T20:37:47.127461",
     "status": "completed"
    },
    "tags": [
     "remove_input"
    ]
   },
   "outputs": [],
   "source": [
    "def set_yaxis_range(df, y_col):\n",
    "    Y_MIN = df[y_col].min()\n",
    "    Y_MAX = df[y_col].max()\n",
    "    \n",
    "    return Y_MIN, Y_MAX\n",
    "\n",
    "# Rather than set it according to the operator, which can vary,\n",
    "# just use set thresholds for each group\n",
    "def top15_routes(df, route_group):\n",
    "    # grab top 15 routes where majority of trips are below that cut-off \n",
    "    # but show 15 max, otherwise, show less, since these won't be as interesting to operators\n",
    "    df2 = (df[(df.route_group==route_group) &\n",
    "              (df.pct_below_cutoff >= PCT_TRIPS_BELOW_CUTOFF)]\n",
    "           .sort_values([\"calitp_itp_id\", \"below_cutoff\", \n",
    "                         \"pct_below_cutoff\", \"route_id\"],\n",
    "                        ascending = [True, False, False, True]\n",
    "                       )\n",
    "           .drop_duplicates(subset=[\"calitp_itp_id\", \"route_id\"])\n",
    "          ).head(15)\n",
    "    \n",
    "    if len(df2) > 1:\n",
    "        return list(df2.route_id)"
   ]
  },
  {
   "cell_type": "code",
   "execution_count": 12,
   "id": "cf36d559-3349-4144-8086-8ac9ce937a5a",
   "metadata": {
    "execution": {
     "iopub.execute_input": "2022-06-03T20:37:47.241010Z",
     "iopub.status.busy": "2022-06-03T20:37:47.213629Z",
     "iopub.status.idle": "2022-06-03T20:37:47.246634Z",
     "shell.execute_reply": "2022-06-03T20:37:47.245684Z"
    },
    "jupyter": {
     "source_hidden": true
    },
    "papermill": {
     "duration": 0.059894,
     "end_time": "2022-06-03T20:37:47.248766",
     "exception": false,
     "start_time": "2022-06-03T20:37:47.188872",
     "status": "completed"
    },
    "tags": [
     "remove_input"
    ]
   },
   "outputs": [],
   "source": [
    "def caption_with_cutoff(cutoff):\n",
    "    sentence = (\n",
    "        f\"<br>These are routes that have **{int(PCT_TRIPS_BELOW_CUTOFF*100)}% \"\n",
    "        \"of their trips take no more than an \"\n",
    "        f\"additional {cutoff} min** compared to a car \"\n",
    "        \"(up to 15 routes) are shown.\"\n",
    "        \"<br>Within each route group, routes are sorted in descending order \"\n",
    "        \"by % competitive trips and # trips below the additional time cut-off.\"\n",
    "    )\n",
    "    return sentence\n",
    "\n",
    "CAPTIONS_DICT = {\n",
    "    \"short\": caption_with_cutoff(diff_cutoffs['short']),\n",
    "    \"medium\": caption_with_cutoff(diff_cutoffs['medium']),\n",
    "    \"long\": caption_with_cutoff(diff_cutoffs['long']),\n",
    "}"
   ]
  },
  {
   "cell_type": "code",
   "execution_count": 13,
   "id": "e4306d58-6944-47e9-afef-5d5b524c751f",
   "metadata": {
    "execution": {
     "iopub.execute_input": "2022-06-03T20:37:47.282041Z",
     "iopub.status.busy": "2022-06-03T20:37:47.281730Z",
     "iopub.status.idle": "2022-06-03T20:37:47.289005Z",
     "shell.execute_reply": "2022-06-03T20:37:47.288108Z"
    },
    "jupyter": {
     "source_hidden": true
    },
    "papermill": {
     "duration": 0.02636,
     "end_time": "2022-06-03T20:37:47.291070",
     "exception": false,
     "start_time": "2022-06-03T20:37:47.264710",
     "status": "completed"
    },
    "tags": [
     "remove_input"
    ]
   },
   "outputs": [],
   "source": [
    "def setup_charts(df, PCT_COMPETITIVE_THRESHOLD, route_group):\n",
    "    # Set up df for charting (cut-off at some threshold to show most competitive routes)\n",
    "    plot_me = (df[df.pct_trips_competitive > PCT_COMPETITIVE_THRESHOLD]\n",
    "           .drop(columns = \"geometry\")\n",
    "    )\n",
    "    \n",
    "    # Set y-ranges to be the same across route_groups, \n",
    "    # otherwise charts fluctuate too much, even within operator\n",
    "    y_col1 = \"bus_multiplier\"\n",
    "    Y_MIN1, Y_MAX1 = set_yaxis_range(plot_me, y_col1)\n",
    "\n",
    "    y_col2 = \"bus_difference\"\n",
    "    Y_MIN2, Y_MAX2 = set_yaxis_range(plot_me, y_col2)\n",
    "    \n",
    "    # Grab the routes to plot\n",
    "    subset_routes = top15_routes(plot_me, route_group)\n",
    "        \n",
    "    # Display charts\n",
    "    multiplier_chart = parallel_corridors_utils.make_stripplot(\n",
    "        plot_me[plot_me.route_id.isin(subset_routes)], \n",
    "        y_col1, Y_MIN = Y_MIN1, Y_MAX = Y_MAX1\n",
    "    )\n",
    "    \n",
    "    difference_chart = parallel_corridors_utils.make_stripplot(\n",
    "        plot_me[plot_me.route_id.isin(subset_routes)], \n",
    "        y_col2, Y_MIN = Y_MIN2, Y_MAX = Y_MAX2\n",
    "    )\n",
    "    \n",
    "    return subset_routes, multiplier_chart, difference_chart            "
   ]
  },
  {
   "cell_type": "code",
   "execution_count": 14,
   "id": "33a710e8-504c-4942-aa75-ff69f216956e",
   "metadata": {
    "execution": {
     "iopub.execute_input": "2022-06-03T20:37:47.323727Z",
     "iopub.status.busy": "2022-06-03T20:37:47.323442Z",
     "iopub.status.idle": "2022-06-03T20:37:47.329020Z",
     "shell.execute_reply": "2022-06-03T20:37:47.328140Z"
    },
    "jupyter": {
     "source_hidden": true
    },
    "papermill": {
     "duration": 0.024277,
     "end_time": "2022-06-03T20:37:47.330914",
     "exception": false,
     "start_time": "2022-06-03T20:37:47.306637",
     "status": "completed"
    },
    "tags": [
     "remove_input"
    ]
   },
   "outputs": [],
   "source": [
    "def display_charts_for_route_group(df, route_group):    \n",
    "    subset_routes, mult, diff  = setup_charts(df, PCT_COMPETITIVE_THRESHOLD, route_group)\n",
    "\n",
    "    if len(subset_routes) > 1:\n",
    "        display(Markdown(f\"{CAPTIONS_DICT[route_group]}\"))\n",
    "\n",
    "        display(mult)\n",
    "        display(diff)\n",
    "        \n",
    "        # Display route stats for just plotted routes\n",
    "        style_route_stats(route_stats, subset_routes)"
   ]
  },
  {
   "cell_type": "code",
   "execution_count": 15,
   "id": "33954352-1d8b-4d9e-9eba-3ff7e3ad4bf1",
   "metadata": {
    "execution": {
     "iopub.execute_input": "2022-06-03T20:37:47.379184Z",
     "iopub.status.busy": "2022-06-03T20:37:47.378371Z",
     "iopub.status.idle": "2022-06-03T20:37:47.383786Z",
     "shell.execute_reply": "2022-06-03T20:37:47.383228Z"
    },
    "jupyter": {
     "source_hidden": true
    },
    "papermill": {
     "duration": 0.030172,
     "end_time": "2022-06-03T20:37:47.385648",
     "exception": false,
     "start_time": "2022-06-03T20:37:47.355476",
     "status": "completed"
    },
    "tags": [
     "remove_input"
    ]
   },
   "outputs": [],
   "source": [
    "# Allow for possibility that operator doesn't have routes that fall into certain route_groups\n",
    "# But, jupyterbook will not like markdown with f-string\n",
    "# separate out route_group and put in each cell, and use try/except + if to display...\n",
    "# but all 3 route groups must be displayed. \n",
    "# just add sentence about why no routes were returned at the end\n",
    "# Change to fewer than 2 routes, instead of no routes, because we don't want to show just 1 route\n",
    "no_display_statement = \"Fewer than 2 routes meet this criteria.\""
   ]
  },
  {
   "cell_type": "markdown",
   "id": "525f9b38-072b-46d1-96a8-1aa4b038357c",
   "metadata": {
    "papermill": {
     "duration": 0.014871,
     "end_time": "2022-06-03T20:37:47.415507",
     "exception": false,
     "start_time": "2022-06-03T20:37:47.400636",
     "status": "completed"
    },
    "tags": []
   },
   "source": [
    "## Viable Competitive Routes\n",
    "### Short Routes (< 1 hr)"
   ]
  },
  {
   "cell_type": "code",
   "execution_count": 16,
   "id": "57f7084c-2cf7-45c6-ba08-1609e0bd6ca5",
   "metadata": {
    "execution": {
     "iopub.execute_input": "2022-06-03T20:37:47.454325Z",
     "iopub.status.busy": "2022-06-03T20:37:47.453478Z",
     "iopub.status.idle": "2022-06-03T20:37:47.844534Z",
     "shell.execute_reply": "2022-06-03T20:37:47.843811Z"
    },
    "jupyter": {
     "source_hidden": true
    },
    "papermill": {
     "duration": 0.416194,
     "end_time": "2022-06-03T20:37:47.846741",
     "exception": false,
     "start_time": "2022-06-03T20:37:47.430547",
     "status": "completed"
    },
    "tags": [
     "remove_input"
    ]
   },
   "outputs": [
    {
     "data": {
      "text/markdown": [
       "<br>These are routes that have **100% of their trips take no more than an additional 20 min** compared to a car (up to 15 routes) are shown.<br>Within each route group, routes are sorted in descending order by % competitive trips and # trips below the additional time cut-off."
      ],
      "text/plain": [
       "<IPython.core.display.Markdown object>"
      ]
     },
     "metadata": {},
     "output_type": "display_data"
    },
    {
     "data": {
      "text/html": [
       "\n",
       "<div id=\"altair-viz-837e9f38b118405198cd119cf3e5c3f2\"></div>\n",
       "<script type=\"text/javascript\">\n",
       "  var VEGA_DEBUG = (typeof VEGA_DEBUG == \"undefined\") ? {} : VEGA_DEBUG;\n",
       "  (function(spec, embedOpt){\n",
       "    let outputDiv = document.currentScript.previousElementSibling;\n",
       "    if (outputDiv.id !== \"altair-viz-837e9f38b118405198cd119cf3e5c3f2\") {\n",
       "      outputDiv = document.getElementById(\"altair-viz-837e9f38b118405198cd119cf3e5c3f2\");\n",
       "    }\n",
       "    const paths = {\n",
       "      \"vega\": \"https://cdn.jsdelivr.net/npm//vega@5?noext\",\n",
       "      \"vega-lib\": \"https://cdn.jsdelivr.net/npm//vega-lib?noext\",\n",
       "      \"vega-lite\": \"https://cdn.jsdelivr.net/npm//vega-lite@4.17.0?noext\",\n",
       "      \"vega-embed\": \"https://cdn.jsdelivr.net/npm//vega-embed@6?noext\",\n",
       "    };\n",
       "\n",
       "    function maybeLoadScript(lib, version) {\n",
       "      var key = `${lib.replace(\"-\", \"\")}_version`;\n",
       "      return (VEGA_DEBUG[key] == version) ?\n",
       "        Promise.resolve(paths[lib]) :\n",
       "        new Promise(function(resolve, reject) {\n",
       "          var s = document.createElement('script');\n",
       "          document.getElementsByTagName(\"head\")[0].appendChild(s);\n",
       "          s.async = true;\n",
       "          s.onload = () => {\n",
       "            VEGA_DEBUG[key] = version;\n",
       "            return resolve(paths[lib]);\n",
       "          };\n",
       "          s.onerror = () => reject(`Error loading script: ${paths[lib]}`);\n",
       "          s.src = paths[lib];\n",
       "        });\n",
       "    }\n",
       "\n",
       "    function showError(err) {\n",
       "      outputDiv.innerHTML = `<div class=\"error\" style=\"color:red;\">${err}</div>`;\n",
       "      throw err;\n",
       "    }\n",
       "\n",
       "    function displayChart(vegaEmbed) {\n",
       "      vegaEmbed(outputDiv, spec, embedOpt)\n",
       "        .catch(err => showError(`Javascript Error: ${err.message}<br>This usually means there's a typo in your chart specification. See the javascript console for the full traceback.`));\n",
       "    }\n",
       "\n",
       "    if(typeof define === \"function\" && define.amd) {\n",
       "      requirejs.config({paths});\n",
       "      require([\"vega-embed\"], displayChart, err => showError(`Error loading script: ${err.message}`));\n",
       "    } else {\n",
       "      maybeLoadScript(\"vega\", \"5\")\n",
       "        .then(() => maybeLoadScript(\"vega-lite\", \"4.17.0\"))\n",
       "        .then(() => maybeLoadScript(\"vega-embed\", \"6\"))\n",
       "        .catch(showError)\n",
       "        .then(() => displayChart(vegaEmbed));\n",
       "    }\n",
       "  })({\"config\": {\"view\": {\"continuousWidth\": 400, \"continuousHeight\": 300, \"stroke\": null}, \"facet\": {\"spacing\": 0}}, \"data\": {\"name\": \"data-8d373da885d362dab427604ad90ad171\"}, \"facet\": {\"column\": {\"field\": \"route_id2\", \"sort\": [\"300\", \"389\", \"390\"], \"title\": \"Route ID\", \"type\": \"nominal\"}}, \"spec\": {\"layer\": [{\"mark\": \"rule\", \"encoding\": {\"color\": {\"value\": \"black\"}, \"y\": {\"field\": \"cutoff\", \"type\": \"quantitative\"}}, \"selection\": {\"selector001\": {\"type\": \"interval\", \"bind\": \"scales\", \"encodings\": [\"x\", \"y\"]}}}, {\"mark\": {\"type\": \"point\", \"opacity\": 0.65, \"size\": 20, \"strokeWidth\": 1.1}, \"encoding\": {\"color\": {\"field\": \"time_of_day\", \"scale\": {\"range\": [\"#136C97\", \"#E16B26\", \"#F6BF16\", \"#00896B\", \"#7790A3\", \"#5B559C\"]}, \"sort\": [\"AM Peak\", \"Midday\", \"PM Peak\", \"Owl Service\"], \"title\": \"Time of Day\", \"type\": \"nominal\"}, \"tooltip\": [{\"field\": \"route_id2\", \"title\": \"route_id\", \"type\": \"nominal\"}, {\"field\": \"route_name\", \"type\": \"nominal\"}, {\"field\": \"trip_id\", \"type\": \"nominal\"}, {\"field\": \"service_hours\", \"type\": \"quantitative\"}, {\"field\": \"car_duration_hours\", \"type\": \"quantitative\"}, {\"field\": \"bus_multiplier\", \"type\": \"quantitative\"}, {\"field\": \"bus_difference\", \"type\": \"quantitative\"}, {\"field\": \"num_trips\", \"type\": \"quantitative\"}, {\"field\": \"num_competitive\", \"type\": \"quantitative\"}, {\"field\": \"pct_trips_competitive\", \"type\": \"quantitative\"}, {\"field\": \"pct_below_cutoff\", \"type\": \"quantitative\"}, {\"field\": \"p25\", \"type\": \"quantitative\"}, {\"field\": \"p50\", \"type\": \"quantitative\"}, {\"field\": \"p75\", \"type\": \"quantitative\"}], \"x\": {\"axis\": {\"grid\": false, \"labels\": false, \"ticks\": true, \"values\": [0]}, \"field\": \"jitter\", \"scale\": {}, \"title\": null, \"type\": \"quantitative\"}, \"y\": {\"field\": \"bus_multiplier\", \"scale\": {\"domain\": [0, 3.0]}, \"title\": \"Ratio of Bus to Car Travel Time\", \"type\": \"quantitative\"}}, \"transform\": [{\"calculate\": \"sqrt(-2*log(random()))*cos(2*PI*random())\", \"as\": \"jitter\"}], \"width\": 50}, {\"layer\": [{\"mark\": {\"type\": \"point\", \"opacity\": 0.6, \"size\": 20, \"strokeWidth\": 1.3}, \"encoding\": {\"color\": {\"value\": \"#323434\"}, \"y\": {\"field\": \"bus_multiplier\", \"type\": \"quantitative\"}}, \"transform\": [{\"filter\": \"(datum.p50_trip === 1)\"}]}, {\"mark\": {\"type\": \"text\", \"align\": \"center\", \"baseline\": \"middle\"}, \"encoding\": {\"color\": {\"value\": \"black\"}, \"text\": {\"field\": \"pct_trips_competitive\", \"format\": \".0%\", \"type\": \"quantitative\"}, \"tooltip\": [{\"field\": \"route_id2\", \"title\": \"route_id\", \"type\": \"nominal\"}, {\"field\": \"route_name\", \"type\": \"nominal\"}, {\"field\": \"trip_id\", \"type\": \"nominal\"}, {\"field\": \"service_hours\", \"type\": \"quantitative\"}, {\"field\": \"car_duration_hours\", \"type\": \"quantitative\"}, {\"field\": \"bus_multiplier\", \"type\": \"quantitative\"}, {\"field\": \"bus_difference\", \"type\": \"quantitative\"}, {\"field\": \"num_trips\", \"type\": \"quantitative\"}, {\"field\": \"num_competitive\", \"type\": \"quantitative\"}, {\"field\": \"pct_trips_competitive\", \"type\": \"quantitative\"}, {\"field\": \"pct_below_cutoff\", \"type\": \"quantitative\"}, {\"field\": \"p25\", \"type\": \"quantitative\"}, {\"field\": \"p50\", \"type\": \"quantitative\"}, {\"field\": \"p75\", \"type\": \"quantitative\"}], \"x\": {\"value\": 30}, \"y\": {\"value\": 15}}, \"transform\": [{\"calculate\": \"sqrt(-2*log(random()))*cos(2*PI*random())\", \"as\": \"jitter\"}, {\"filter\": \"(datum.fastest_trip === 1)\"}]}]}]}, \"resolve\": {\"scale\": {\"y\": \"shared\"}}, \"title\": \"Ratio of Bus to Car Travel Time\", \"$schema\": \"https://vega.github.io/schema/vega-lite/v4.17.0.json\", \"datasets\": {\"data-8d373da885d362dab427604ad90ad171\": [{\"calitp_itp_id\": 336, \"trip_key\": -3595603566866389641, \"trip_id\": \"168\", \"shape_id\": \"26\", \"route_id\": \"300\", \"service_hours\": 0.48, \"trip_first_departure_ts\": 57120, \"trip_last_arrival_ts\": 58860, \"departure_hour\": 15, \"time_of_day\": \"Midday\", \"p25\": 0.48, \"p50\": 0.62, \"p75\": 0.63, \"p50_trip\": 0, \"fastest_trip\": 0, \"car_duration_hours\": 0.4, \"competitive_route\": 1, \"bus_multiplier\": 1.2, \"bus_difference\": 4.8, \"num_trips\": 21, \"num_competitive\": 21, \"pct_trips_competitive\": 1.0, \"bus_difference_spread\": 9.0, \"route_group\": \"short\", \"max_trip_hrs\": 0.63, \"max_trip_route_group\": 0.63, \"below_cutoff\": 21, \"pct_below_cutoff\": 1.0, \"calitp_agency_name\": \"Tri Delta Transit\", \"caltrans_district\": \"04 - Oakland\", \"route_name\": \"Brentwood Park & Ride / Antioch Bart\", \"route_short_name\": \"300\", \"route_id2\": \"300\", \"cutoff2\": 20, \"cutoff\": 2}, {\"calitp_itp_id\": 336, \"trip_key\": 4657302171917732366, \"trip_id\": \"355\", \"shape_id\": \"26\", \"route_id\": \"300\", \"service_hours\": 0.48, \"trip_first_departure_ts\": 67020, \"trip_last_arrival_ts\": 68760, \"departure_hour\": 18, \"time_of_day\": \"PM Peak\", \"p25\": 0.48, \"p50\": 0.62, \"p75\": 0.63, \"p50_trip\": 0, \"fastest_trip\": 0, \"car_duration_hours\": 0.4, \"competitive_route\": 1, \"bus_multiplier\": 1.2, \"bus_difference\": 4.8, \"num_trips\": 21, \"num_competitive\": 21, \"pct_trips_competitive\": 1.0, \"bus_difference_spread\": 9.0, \"route_group\": \"short\", \"max_trip_hrs\": 0.63, \"max_trip_route_group\": 0.63, \"below_cutoff\": 21, \"pct_below_cutoff\": 1.0, \"calitp_agency_name\": \"Tri Delta Transit\", \"caltrans_district\": \"04 - Oakland\", \"route_name\": \"Brentwood Park & Ride / Antioch Bart\", \"route_short_name\": \"300\", \"route_id2\": \"300\", \"cutoff2\": 20, \"cutoff\": 2}, {\"calitp_itp_id\": 336, \"trip_key\": 3008143892178479368, \"trip_id\": \"230\", \"shape_id\": \"26\", \"route_id\": \"300\", \"service_hours\": 0.48, \"trip_first_departure_ts\": 53520, \"trip_last_arrival_ts\": 55260, \"departure_hour\": 14, \"time_of_day\": \"Midday\", \"p25\": 0.48, \"p50\": 0.62, \"p75\": 0.63, \"p50_trip\": 0, \"fastest_trip\": 0, \"car_duration_hours\": 0.4, \"competitive_route\": 1, \"bus_multiplier\": 1.2, \"bus_difference\": 4.8, \"num_trips\": 21, \"num_competitive\": 21, \"pct_trips_competitive\": 1.0, \"bus_difference_spread\": 9.0, \"route_group\": \"short\", \"max_trip_hrs\": 0.63, \"max_trip_route_group\": 0.63, \"below_cutoff\": 21, \"pct_below_cutoff\": 1.0, \"calitp_agency_name\": \"Tri Delta Transit\", \"caltrans_district\": \"04 - Oakland\", \"route_name\": \"Brentwood Park & Ride / Antioch Bart\", \"route_short_name\": \"300\", \"route_id2\": \"300\", \"cutoff2\": 20, \"cutoff\": 2}, {\"calitp_itp_id\": 336, \"trip_key\": -6493340004722924860, \"trip_id\": \"326\", \"shape_id\": \"26\", \"route_id\": \"300\", \"service_hours\": 0.48, \"trip_first_departure_ts\": 64320, \"trip_last_arrival_ts\": 66060, \"departure_hour\": 17, \"time_of_day\": \"PM Peak\", \"p25\": 0.48, \"p50\": 0.62, \"p75\": 0.63, \"p50_trip\": 0, \"fastest_trip\": 0, \"car_duration_hours\": 0.4, \"competitive_route\": 1, \"bus_multiplier\": 1.2, \"bus_difference\": 4.8, \"num_trips\": 21, \"num_competitive\": 21, \"pct_trips_competitive\": 1.0, \"bus_difference_spread\": 9.0, \"route_group\": \"short\", \"max_trip_hrs\": 0.63, \"max_trip_route_group\": 0.63, \"below_cutoff\": 21, \"pct_below_cutoff\": 1.0, \"calitp_agency_name\": \"Tri Delta Transit\", \"caltrans_district\": \"04 - Oakland\", \"route_name\": \"Brentwood Park & Ride / Antioch Bart\", \"route_short_name\": \"300\", \"route_id2\": \"300\", \"cutoff2\": 20, \"cutoff\": 2}, {\"calitp_itp_id\": 336, \"trip_key\": -5421682565614449464, \"trip_id\": \"208\", \"shape_id\": \"26\", \"route_id\": \"300\", \"service_hours\": 0.48, \"trip_first_departure_ts\": 59820, \"trip_last_arrival_ts\": 61560, \"departure_hour\": 16, \"time_of_day\": \"Midday\", \"p25\": 0.48, \"p50\": 0.62, \"p75\": 0.63, \"p50_trip\": 0, \"fastest_trip\": 0, \"car_duration_hours\": 0.4, \"competitive_route\": 1, \"bus_multiplier\": 1.2, \"bus_difference\": 4.8, \"num_trips\": 21, \"num_competitive\": 21, \"pct_trips_competitive\": 1.0, \"bus_difference_spread\": 9.0, \"route_group\": \"short\", \"max_trip_hrs\": 0.63, \"max_trip_route_group\": 0.63, \"below_cutoff\": 21, \"pct_below_cutoff\": 1.0, \"calitp_agency_name\": \"Tri Delta Transit\", \"caltrans_district\": \"04 - Oakland\", \"route_name\": \"Brentwood Park & Ride / Antioch Bart\", \"route_short_name\": \"300\", \"route_id2\": \"300\", \"cutoff2\": 20, \"cutoff\": 2}, {\"calitp_itp_id\": 336, \"trip_key\": -7512179716726553911, \"trip_id\": \"268\", \"shape_id\": \"26\", \"route_id\": \"300\", \"service_hours\": 0.48, \"trip_first_departure_ts\": 49920, \"trip_last_arrival_ts\": 51660, \"departure_hour\": 13, \"time_of_day\": \"Midday\", \"p25\": 0.48, \"p50\": 0.62, \"p75\": 0.63, \"p50_trip\": 0, \"fastest_trip\": 0, \"car_duration_hours\": 0.4, \"competitive_route\": 1, \"bus_multiplier\": 1.2, \"bus_difference\": 4.8, \"num_trips\": 21, \"num_competitive\": 21, \"pct_trips_competitive\": 1.0, \"bus_difference_spread\": 9.0, \"route_group\": \"short\", \"max_trip_hrs\": 0.63, \"max_trip_route_group\": 0.63, \"below_cutoff\": 21, \"pct_below_cutoff\": 1.0, \"calitp_agency_name\": \"Tri Delta Transit\", \"caltrans_district\": \"04 - Oakland\", \"route_name\": \"Brentwood Park & Ride / Antioch Bart\", \"route_short_name\": \"300\", \"route_id2\": \"300\", \"cutoff2\": 20, \"cutoff\": 2}, {\"calitp_itp_id\": 336, \"trip_key\": -8184735084160256341, \"trip_id\": \"221\", \"shape_id\": \"26\", \"route_id\": \"300\", \"service_hours\": 0.48, \"trip_first_departure_ts\": 70920, \"trip_last_arrival_ts\": 72660, \"departure_hour\": 19, \"time_of_day\": \"PM Peak\", \"p25\": 0.48, \"p50\": 0.62, \"p75\": 0.63, \"p50_trip\": 0, \"fastest_trip\": 1, \"car_duration_hours\": 0.4, \"competitive_route\": 1, \"bus_multiplier\": 1.2, \"bus_difference\": 4.8, \"num_trips\": 21, \"num_competitive\": 21, \"pct_trips_competitive\": 1.0, \"bus_difference_spread\": 9.0, \"route_group\": \"short\", \"max_trip_hrs\": 0.63, \"max_trip_route_group\": 0.63, \"below_cutoff\": 21, \"pct_below_cutoff\": 1.0, \"calitp_agency_name\": \"Tri Delta Transit\", \"caltrans_district\": \"04 - Oakland\", \"route_name\": \"Brentwood Park & Ride / Antioch Bart\", \"route_short_name\": \"300\", \"route_id2\": \"300\", \"cutoff2\": 20, \"cutoff\": 2}, {\"calitp_itp_id\": 336, \"trip_key\": -1838353877336545997, \"trip_id\": \"149\", \"shape_id\": \"26\", \"route_id\": \"300\", \"service_hours\": 0.58, \"trip_first_departure_ts\": 28020, \"trip_last_arrival_ts\": 30120, \"departure_hour\": 7, \"time_of_day\": \"AM Peak\", \"p25\": 0.48, \"p50\": 0.62, \"p75\": 0.63, \"p50_trip\": 0, \"fastest_trip\": 0, \"car_duration_hours\": 0.4, \"competitive_route\": 1, \"bus_multiplier\": 1.45, \"bus_difference\": 10.8, \"num_trips\": 21, \"num_competitive\": 21, \"pct_trips_competitive\": 1.0, \"bus_difference_spread\": 9.0, \"route_group\": \"short\", \"max_trip_hrs\": 0.63, \"max_trip_route_group\": 0.63, \"below_cutoff\": 21, \"pct_below_cutoff\": 1.0, \"calitp_agency_name\": \"Tri Delta Transit\", \"caltrans_district\": \"04 - Oakland\", \"route_name\": \"Brentwood Park & Ride / Antioch Bart\", \"route_short_name\": \"300\", \"route_id2\": \"300\", \"cutoff2\": 20, \"cutoff\": 2}, {\"calitp_itp_id\": 336, \"trip_key\": -5840321913192008023, \"trip_id\": \"150\", \"shape_id\": \"26\", \"route_id\": \"300\", \"service_hours\": 0.58, \"trip_first_departure_ts\": 24420, \"trip_last_arrival_ts\": 26520, \"departure_hour\": 6, \"time_of_day\": \"Owl Service\", \"p25\": 0.48, \"p50\": 0.62, \"p75\": 0.63, \"p50_trip\": 0, \"fastest_trip\": 0, \"car_duration_hours\": 0.4, \"competitive_route\": 1, \"bus_multiplier\": 1.45, \"bus_difference\": 10.8, \"num_trips\": 21, \"num_competitive\": 21, \"pct_trips_competitive\": 1.0, \"bus_difference_spread\": 9.0, \"route_group\": \"short\", \"max_trip_hrs\": 0.63, \"max_trip_route_group\": 0.63, \"below_cutoff\": 21, \"pct_below_cutoff\": 1.0, \"calitp_agency_name\": \"Tri Delta Transit\", \"caltrans_district\": \"04 - Oakland\", \"route_name\": \"Brentwood Park & Ride / Antioch Bart\", \"route_short_name\": \"300\", \"route_id2\": \"300\", \"cutoff2\": 20, \"cutoff\": 2}, {\"calitp_itp_id\": 336, \"trip_key\": -3518438896911662483, \"trip_id\": \"316\", \"shape_id\": \"26\", \"route_id\": \"300\", \"service_hours\": 0.62, \"trip_first_departure_ts\": 20700, \"trip_last_arrival_ts\": 22920, \"departure_hour\": 5, \"time_of_day\": \"Owl Service\", \"p25\": 0.48, \"p50\": 0.62, \"p75\": 0.63, \"p50_trip\": 1, \"fastest_trip\": 0, \"car_duration_hours\": 0.4, \"competitive_route\": 1, \"bus_multiplier\": 1.55, \"bus_difference\": 13.2, \"num_trips\": 21, \"num_competitive\": 21, \"pct_trips_competitive\": 1.0, \"bus_difference_spread\": 9.0, \"route_group\": \"short\", \"max_trip_hrs\": 0.63, \"max_trip_route_group\": 0.63, \"below_cutoff\": 21, \"pct_below_cutoff\": 1.0, \"calitp_agency_name\": \"Tri Delta Transit\", \"caltrans_district\": \"04 - Oakland\", \"route_name\": \"Brentwood Park & Ride / Antioch Bart\", \"route_short_name\": \"300\", \"route_id2\": \"300\", \"cutoff2\": 20, \"cutoff\": 2}, {\"calitp_itp_id\": 336, \"trip_key\": 1218564745994879517, \"trip_id\": \"1\", \"shape_id\": \"26\", \"route_id\": \"300\", \"service_hours\": 0.62, \"trip_first_departure_ts\": 14400, \"trip_last_arrival_ts\": 16620, \"departure_hour\": 4, \"time_of_day\": \"Owl Service\", \"p25\": 0.48, \"p50\": 0.62, \"p75\": 0.63, \"p50_trip\": 1, \"fastest_trip\": 0, \"car_duration_hours\": 0.4, \"competitive_route\": 1, \"bus_multiplier\": 1.55, \"bus_difference\": 13.2, \"num_trips\": 21, \"num_competitive\": 21, \"pct_trips_competitive\": 1.0, \"bus_difference_spread\": 9.0, \"route_group\": \"short\", \"max_trip_hrs\": 0.63, \"max_trip_route_group\": 0.63, \"below_cutoff\": 21, \"pct_below_cutoff\": 1.0, \"calitp_agency_name\": \"Tri Delta Transit\", \"caltrans_district\": \"04 - Oakland\", \"route_name\": \"Brentwood Park & Ride / Antioch Bart\", \"route_short_name\": \"300\", \"route_id2\": \"300\", \"cutoff2\": 20, \"cutoff\": 2}, {\"calitp_itp_id\": 336, \"trip_key\": -1790837578518963843, \"trip_id\": \"315\", \"shape_id\": \"26\", \"route_id\": \"300\", \"service_hours\": 0.62, \"trip_first_departure_ts\": 17100, \"trip_last_arrival_ts\": 19320, \"departure_hour\": 4, \"time_of_day\": \"Owl Service\", \"p25\": 0.48, \"p50\": 0.62, \"p75\": 0.63, \"p50_trip\": 1, \"fastest_trip\": 0, \"car_duration_hours\": 0.4, \"competitive_route\": 1, \"bus_multiplier\": 1.55, \"bus_difference\": 13.2, \"num_trips\": 21, \"num_competitive\": 21, \"pct_trips_competitive\": 1.0, \"bus_difference_spread\": 9.0, \"route_group\": \"short\", \"max_trip_hrs\": 0.63, \"max_trip_route_group\": 0.63, \"below_cutoff\": 21, \"pct_below_cutoff\": 1.0, \"calitp_agency_name\": \"Tri Delta Transit\", \"caltrans_district\": \"04 - Oakland\", \"route_name\": \"Brentwood Park & Ride / Antioch Bart\", \"route_short_name\": \"300\", \"route_id2\": \"300\", \"cutoff2\": 20, \"cutoff\": 2}, {\"calitp_itp_id\": 336, \"trip_key\": 3846904125504800904, \"trip_id\": \"262\", \"shape_id\": \"27\", \"route_id\": \"300\", \"service_hours\": 0.63, \"trip_first_departure_ts\": 61260, \"trip_last_arrival_ts\": 63540, \"departure_hour\": 17, \"time_of_day\": \"PM Peak\", \"p25\": 0.48, \"p50\": 0.62, \"p75\": 0.63, \"p50_trip\": 0, \"fastest_trip\": 0, \"car_duration_hours\": 0.4, \"competitive_route\": 1, \"bus_multiplier\": 1.58, \"bus_difference\": 13.8, \"num_trips\": 21, \"num_competitive\": 21, \"pct_trips_competitive\": 1.0, \"bus_difference_spread\": 9.0, \"route_group\": \"short\", \"max_trip_hrs\": 0.63, \"max_trip_route_group\": 0.63, \"below_cutoff\": 21, \"pct_below_cutoff\": 1.0, \"calitp_agency_name\": \"Tri Delta Transit\", \"caltrans_district\": \"04 - Oakland\", \"route_name\": \"Brentwood Park & Ride / Antioch Bart\", \"route_short_name\": \"300\", \"route_id2\": \"300\", \"cutoff2\": 20, \"cutoff\": 2}, {\"calitp_itp_id\": 336, \"trip_key\": -8962764604675280277, \"trip_id\": \"339\", \"shape_id\": \"27\", \"route_id\": \"300\", \"service_hours\": 0.63, \"trip_first_departure_ts\": 76620, \"trip_last_arrival_ts\": 78900, \"departure_hour\": 21, \"time_of_day\": \"Owl Service\", \"p25\": 0.48, \"p50\": 0.62, \"p75\": 0.63, \"p50_trip\": 0, \"fastest_trip\": 0, \"car_duration_hours\": 0.4, \"competitive_route\": 1, \"bus_multiplier\": 1.58, \"bus_difference\": 13.8, \"num_trips\": 21, \"num_competitive\": 21, \"pct_trips_competitive\": 1.0, \"bus_difference_spread\": 9.0, \"route_group\": \"short\", \"max_trip_hrs\": 0.63, \"max_trip_route_group\": 0.63, \"below_cutoff\": 21, \"pct_below_cutoff\": 1.0, \"calitp_agency_name\": \"Tri Delta Transit\", \"caltrans_district\": \"04 - Oakland\", \"route_name\": \"Brentwood Park & Ride / Antioch Bart\", \"route_short_name\": \"300\", \"route_id2\": \"300\", \"cutoff2\": 20, \"cutoff\": 2}, {\"calitp_itp_id\": 336, \"trip_key\": 6717230009727780825, \"trip_id\": \"203\", \"shape_id\": \"27\", \"route_id\": \"300\", \"service_hours\": 0.63, \"trip_first_departure_ts\": 31080, \"trip_last_arrival_ts\": 33360, \"departure_hour\": 8, \"time_of_day\": \"AM Peak\", \"p25\": 0.48, \"p50\": 0.62, \"p75\": 0.63, \"p50_trip\": 0, \"fastest_trip\": 0, \"car_duration_hours\": 0.4, \"competitive_route\": 1, \"bus_multiplier\": 1.58, \"bus_difference\": 13.8, \"num_trips\": 21, \"num_competitive\": 21, \"pct_trips_competitive\": 1.0, \"bus_difference_spread\": 9.0, \"route_group\": \"short\", \"max_trip_hrs\": 0.63, \"max_trip_route_group\": 0.63, \"below_cutoff\": 21, \"pct_below_cutoff\": 1.0, \"calitp_agency_name\": \"Tri Delta Transit\", \"caltrans_district\": \"04 - Oakland\", \"route_name\": \"Brentwood Park & Ride / Antioch Bart\", \"route_short_name\": \"300\", \"route_id2\": \"300\", \"cutoff2\": 20, \"cutoff\": 2}, {\"calitp_itp_id\": 336, \"trip_key\": -5519573577282112704, \"trip_id\": \"182\", \"shape_id\": \"27\", \"route_id\": \"300\", \"service_hours\": 0.63, \"trip_first_departure_ts\": 27480, \"trip_last_arrival_ts\": 29760, \"departure_hour\": 7, \"time_of_day\": \"AM Peak\", \"p25\": 0.48, \"p50\": 0.62, \"p75\": 0.63, \"p50_trip\": 0, \"fastest_trip\": 0, \"car_duration_hours\": 0.4, \"competitive_route\": 1, \"bus_multiplier\": 1.58, \"bus_difference\": 13.8, \"num_trips\": 21, \"num_competitive\": 21, \"pct_trips_competitive\": 1.0, \"bus_difference_spread\": 9.0, \"route_group\": \"short\", \"max_trip_hrs\": 0.63, \"max_trip_route_group\": 0.63, \"below_cutoff\": 21, \"pct_below_cutoff\": 1.0, \"calitp_agency_name\": \"Tri Delta Transit\", \"caltrans_district\": \"04 - Oakland\", \"route_name\": \"Brentwood Park & Ride / Antioch Bart\", \"route_short_name\": \"300\", \"route_id2\": \"300\", \"cutoff2\": 20, \"cutoff\": 2}, {\"calitp_itp_id\": 336, \"trip_key\": -6819929112498501461, \"trip_id\": \"122\", \"shape_id\": \"27\", \"route_id\": \"300\", \"service_hours\": 0.63, \"trip_first_departure_ts\": 64860, \"trip_last_arrival_ts\": 67140, \"departure_hour\": 18, \"time_of_day\": \"PM Peak\", \"p25\": 0.48, \"p50\": 0.62, \"p75\": 0.63, \"p50_trip\": 0, \"fastest_trip\": 0, \"car_duration_hours\": 0.4, \"competitive_route\": 1, \"bus_multiplier\": 1.58, \"bus_difference\": 13.8, \"num_trips\": 21, \"num_competitive\": 21, \"pct_trips_competitive\": 1.0, \"bus_difference_spread\": 9.0, \"route_group\": \"short\", \"max_trip_hrs\": 0.63, \"max_trip_route_group\": 0.63, \"below_cutoff\": 21, \"pct_below_cutoff\": 1.0, \"calitp_agency_name\": \"Tri Delta Transit\", \"caltrans_district\": \"04 - Oakland\", \"route_name\": \"Brentwood Park & Ride / Antioch Bart\", \"route_short_name\": \"300\", \"route_id2\": \"300\", \"cutoff2\": 20, \"cutoff\": 2}, {\"calitp_itp_id\": 336, \"trip_key\": 8051377406893178400, \"trip_id\": \"317\", \"shape_id\": \"27\", \"route_id\": \"300\", \"service_hours\": 0.63, \"trip_first_departure_ts\": 23880, \"trip_last_arrival_ts\": 26160, \"departure_hour\": 6, \"time_of_day\": \"Owl Service\", \"p25\": 0.48, \"p50\": 0.62, \"p75\": 0.63, \"p50_trip\": 0, \"fastest_trip\": 0, \"car_duration_hours\": 0.4, \"competitive_route\": 1, \"bus_multiplier\": 1.58, \"bus_difference\": 13.8, \"num_trips\": 21, \"num_competitive\": 21, \"pct_trips_competitive\": 1.0, \"bus_difference_spread\": 9.0, \"route_group\": \"short\", \"max_trip_hrs\": 0.63, \"max_trip_route_group\": 0.63, \"below_cutoff\": 21, \"pct_below_cutoff\": 1.0, \"calitp_agency_name\": \"Tri Delta Transit\", \"caltrans_district\": \"04 - Oakland\", \"route_name\": \"Brentwood Park & Ride / Antioch Bart\", \"route_short_name\": \"300\", \"route_id2\": \"300\", \"cutoff2\": 20, \"cutoff\": 2}, {\"calitp_itp_id\": 336, \"trip_key\": 757683327285874106, \"trip_id\": \"288\", \"shape_id\": \"27\", \"route_id\": \"300\", \"service_hours\": 0.63, \"trip_first_departure_ts\": 72960, \"trip_last_arrival_ts\": 75240, \"departure_hour\": 20, \"time_of_day\": \"Owl Service\", \"p25\": 0.48, \"p50\": 0.62, \"p75\": 0.63, \"p50_trip\": 0, \"fastest_trip\": 0, \"car_duration_hours\": 0.4, \"competitive_route\": 1, \"bus_multiplier\": 1.58, \"bus_difference\": 13.8, \"num_trips\": 21, \"num_competitive\": 21, \"pct_trips_competitive\": 1.0, \"bus_difference_spread\": 9.0, \"route_group\": \"short\", \"max_trip_hrs\": 0.63, \"max_trip_route_group\": 0.63, \"below_cutoff\": 21, \"pct_below_cutoff\": 1.0, \"calitp_agency_name\": \"Tri Delta Transit\", \"caltrans_district\": \"04 - Oakland\", \"route_name\": \"Brentwood Park & Ride / Antioch Bart\", \"route_short_name\": \"300\", \"route_id2\": \"300\", \"cutoff2\": 20, \"cutoff\": 2}, {\"calitp_itp_id\": 336, \"trip_key\": -3183400236879323333, \"trip_id\": \"189\", \"shape_id\": \"27\", \"route_id\": \"300\", \"service_hours\": 0.63, \"trip_first_departure_ts\": 57660, \"trip_last_arrival_ts\": 59940, \"departure_hour\": 16, \"time_of_day\": \"Midday\", \"p25\": 0.48, \"p50\": 0.62, \"p75\": 0.63, \"p50_trip\": 0, \"fastest_trip\": 0, \"car_duration_hours\": 0.4, \"competitive_route\": 1, \"bus_multiplier\": 1.58, \"bus_difference\": 13.8, \"num_trips\": 21, \"num_competitive\": 21, \"pct_trips_competitive\": 1.0, \"bus_difference_spread\": 9.0, \"route_group\": \"short\", \"max_trip_hrs\": 0.63, \"max_trip_route_group\": 0.63, \"below_cutoff\": 21, \"pct_below_cutoff\": 1.0, \"calitp_agency_name\": \"Tri Delta Transit\", \"caltrans_district\": \"04 - Oakland\", \"route_name\": \"Brentwood Park & Ride / Antioch Bart\", \"route_short_name\": \"300\", \"route_id2\": \"300\", \"cutoff2\": 20, \"cutoff\": 2}, {\"calitp_itp_id\": 336, \"trip_key\": -7499672029503248281, \"trip_id\": \"220\", \"shape_id\": \"27\", \"route_id\": \"300\", \"service_hours\": 0.63, \"trip_first_departure_ts\": 68460, \"trip_last_arrival_ts\": 70740, \"departure_hour\": 19, \"time_of_day\": \"PM Peak\", \"p25\": 0.48, \"p50\": 0.62, \"p75\": 0.63, \"p50_trip\": 0, \"fastest_trip\": 0, \"car_duration_hours\": 0.4, \"competitive_route\": 1, \"bus_multiplier\": 1.58, \"bus_difference\": 13.8, \"num_trips\": 21, \"num_competitive\": 21, \"pct_trips_competitive\": 1.0, \"bus_difference_spread\": 9.0, \"route_group\": \"short\", \"max_trip_hrs\": 0.63, \"max_trip_route_group\": 0.63, \"below_cutoff\": 21, \"pct_below_cutoff\": 1.0, \"calitp_agency_name\": \"Tri Delta Transit\", \"caltrans_district\": \"04 - Oakland\", \"route_name\": \"Brentwood Park & Ride / Antioch Bart\", \"route_short_name\": \"300\", \"route_id2\": \"300\", \"cutoff2\": 20, \"cutoff\": 2}, {\"calitp_itp_id\": 336, \"trip_key\": -4516334964978892887, \"trip_id\": \"159\", \"shape_id\": \"63\", \"route_id\": \"389\", \"service_hours\": 0.75, \"trip_first_departure_ts\": 66360, \"trip_last_arrival_ts\": 69060, \"departure_hour\": 18, \"time_of_day\": \"PM Peak\", \"p25\": 0.75, \"p50\": 0.75, \"p75\": 0.75, \"p50_trip\": 1, \"fastest_trip\": 0, \"car_duration_hours\": 0.5, \"competitive_route\": 1, \"bus_multiplier\": 1.5, \"bus_difference\": 15.0, \"num_trips\": 17, \"num_competitive\": 17, \"pct_trips_competitive\": 1.0, \"bus_difference_spread\": 0.0, \"route_group\": \"short\", \"max_trip_hrs\": 0.75, \"max_trip_route_group\": 0.75, \"below_cutoff\": 17, \"pct_below_cutoff\": 1.0, \"calitp_agency_name\": \"Tri Delta Transit\", \"caltrans_district\": \"04 - Oakland\", \"route_name\": \"Pittsburg-Bay Point Bart / Bay Point\", \"route_short_name\": \"389\", \"route_id2\": \"389\", \"cutoff2\": 20, \"cutoff\": 2}, {\"calitp_itp_id\": 336, \"trip_key\": 6248804897629426958, \"trip_id\": \"299\", \"shape_id\": \"63\", \"route_id\": \"389\", \"service_hours\": 0.75, \"trip_first_departure_ts\": 19560, \"trip_last_arrival_ts\": 22260, \"departure_hour\": 5, \"time_of_day\": \"Owl Service\", \"p25\": 0.75, \"p50\": 0.75, \"p75\": 0.75, \"p50_trip\": 1, \"fastest_trip\": 0, \"car_duration_hours\": 0.5, \"competitive_route\": 1, \"bus_multiplier\": 1.5, \"bus_difference\": 15.0, \"num_trips\": 17, \"num_competitive\": 17, \"pct_trips_competitive\": 1.0, \"bus_difference_spread\": 0.0, \"route_group\": \"short\", \"max_trip_hrs\": 0.75, \"max_trip_route_group\": 0.75, \"below_cutoff\": 17, \"pct_below_cutoff\": 1.0, \"calitp_agency_name\": \"Tri Delta Transit\", \"caltrans_district\": \"04 - Oakland\", \"route_name\": \"Pittsburg-Bay Point Bart / Bay Point\", \"route_short_name\": \"389\", \"route_id2\": \"389\", \"cutoff2\": 20, \"cutoff\": 2}, {\"calitp_itp_id\": 336, \"trip_key\": -6368022821152303573, \"trip_id\": \"335\", \"shape_id\": \"63\", \"route_id\": \"389\", \"service_hours\": 0.75, \"trip_first_departure_ts\": 55560, \"trip_last_arrival_ts\": 58260, \"departure_hour\": 15, \"time_of_day\": \"Midday\", \"p25\": 0.75, \"p50\": 0.75, \"p75\": 0.75, \"p50_trip\": 1, \"fastest_trip\": 0, \"car_duration_hours\": 0.5, \"competitive_route\": 1, \"bus_multiplier\": 1.5, \"bus_difference\": 15.0, \"num_trips\": 17, \"num_competitive\": 17, \"pct_trips_competitive\": 1.0, \"bus_difference_spread\": 0.0, \"route_group\": \"short\", \"max_trip_hrs\": 0.75, \"max_trip_route_group\": 0.75, \"below_cutoff\": 17, \"pct_below_cutoff\": 1.0, \"calitp_agency_name\": \"Tri Delta Transit\", \"caltrans_district\": \"04 - Oakland\", \"route_name\": \"Pittsburg-Bay Point Bart / Bay Point\", \"route_short_name\": \"389\", \"route_id2\": \"389\", \"cutoff2\": 20, \"cutoff\": 2}, {\"calitp_itp_id\": 336, \"trip_key\": 1841101944480048605, \"trip_id\": \"165\", \"shape_id\": \"63\", \"route_id\": \"389\", \"service_hours\": 0.75, \"trip_first_departure_ts\": 38160, \"trip_last_arrival_ts\": 40860, \"departure_hour\": 10, \"time_of_day\": \"Midday\", \"p25\": 0.75, \"p50\": 0.75, \"p75\": 0.75, \"p50_trip\": 1, \"fastest_trip\": 0, \"car_duration_hours\": 0.5, \"competitive_route\": 1, \"bus_multiplier\": 1.5, \"bus_difference\": 15.0, \"num_trips\": 17, \"num_competitive\": 17, \"pct_trips_competitive\": 1.0, \"bus_difference_spread\": 0.0, \"route_group\": \"short\", \"max_trip_hrs\": 0.75, \"max_trip_route_group\": 0.75, \"below_cutoff\": 17, \"pct_below_cutoff\": 1.0, \"calitp_agency_name\": \"Tri Delta Transit\", \"caltrans_district\": \"04 - Oakland\", \"route_name\": \"Pittsburg-Bay Point Bart / Bay Point\", \"route_short_name\": \"389\", \"route_id2\": \"389\", \"cutoff2\": 20, \"cutoff\": 2}, {\"calitp_itp_id\": 336, \"trip_key\": -2363506806830337797, \"trip_id\": \"349\", \"shape_id\": \"63\", \"route_id\": \"389\", \"service_hours\": 0.75, \"trip_first_departure_ts\": 30960, \"trip_last_arrival_ts\": 33660, \"departure_hour\": 8, \"time_of_day\": \"AM Peak\", \"p25\": 0.75, \"p50\": 0.75, \"p75\": 0.75, \"p50_trip\": 1, \"fastest_trip\": 0, \"car_duration_hours\": 0.5, \"competitive_route\": 1, \"bus_multiplier\": 1.5, \"bus_difference\": 15.0, \"num_trips\": 17, \"num_competitive\": 17, \"pct_trips_competitive\": 1.0, \"bus_difference_spread\": 0.0, \"route_group\": \"short\", \"max_trip_hrs\": 0.75, \"max_trip_route_group\": 0.75, \"below_cutoff\": 17, \"pct_below_cutoff\": 1.0, \"calitp_agency_name\": \"Tri Delta Transit\", \"caltrans_district\": \"04 - Oakland\", \"route_name\": \"Pittsburg-Bay Point Bart / Bay Point\", \"route_short_name\": \"389\", \"route_id2\": \"389\", \"cutoff2\": 20, \"cutoff\": 2}, {\"calitp_itp_id\": 336, \"trip_key\": -9169638097397790159, \"trip_id\": \"211\", \"shape_id\": \"63\", \"route_id\": \"389\", \"service_hours\": 0.75, \"trip_first_departure_ts\": 74400, \"trip_last_arrival_ts\": 77100, \"departure_hour\": 20, \"time_of_day\": \"Owl Service\", \"p25\": 0.75, \"p50\": 0.75, \"p75\": 0.75, \"p50_trip\": 1, \"fastest_trip\": 1, \"car_duration_hours\": 0.5, \"competitive_route\": 1, \"bus_multiplier\": 1.5, \"bus_difference\": 15.0, \"num_trips\": 17, \"num_competitive\": 17, \"pct_trips_competitive\": 1.0, \"bus_difference_spread\": 0.0, \"route_group\": \"short\", \"max_trip_hrs\": 0.75, \"max_trip_route_group\": 0.75, \"below_cutoff\": 17, \"pct_below_cutoff\": 1.0, \"calitp_agency_name\": \"Tri Delta Transit\", \"caltrans_district\": \"04 - Oakland\", \"route_name\": \"Pittsburg-Bay Point Bart / Bay Point\", \"route_short_name\": \"389\", \"route_id2\": \"389\", \"cutoff2\": 20, \"cutoff\": 2}, {\"calitp_itp_id\": 336, \"trip_key\": -4028122471752396186, \"trip_id\": \"215\", \"shape_id\": \"63\", \"route_id\": \"389\", \"service_hours\": 0.75, \"trip_first_departure_ts\": 34560, \"trip_last_arrival_ts\": 37260, \"departure_hour\": 9, \"time_of_day\": \"AM Peak\", \"p25\": 0.75, \"p50\": 0.75, \"p75\": 0.75, \"p50_trip\": 1, \"fastest_trip\": 0, \"car_duration_hours\": 0.5, \"competitive_route\": 1, \"bus_multiplier\": 1.5, \"bus_difference\": 15.0, \"num_trips\": 17, \"num_competitive\": 17, \"pct_trips_competitive\": 1.0, \"bus_difference_spread\": 0.0, \"route_group\": \"short\", \"max_trip_hrs\": 0.75, \"max_trip_route_group\": 0.75, \"below_cutoff\": 17, \"pct_below_cutoff\": 1.0, \"calitp_agency_name\": \"Tri Delta Transit\", \"caltrans_district\": \"04 - Oakland\", \"route_name\": \"Pittsburg-Bay Point Bart / Bay Point\", \"route_short_name\": \"389\", \"route_id2\": \"389\", \"cutoff2\": 20, \"cutoff\": 2}, {\"calitp_itp_id\": 336, \"trip_key\": -3876890318065204347, \"trip_id\": \"50\", \"shape_id\": \"63\", \"route_id\": \"389\", \"service_hours\": 0.75, \"trip_first_departure_ts\": 70800, \"trip_last_arrival_ts\": 73500, \"departure_hour\": 19, \"time_of_day\": \"PM Peak\", \"p25\": 0.75, \"p50\": 0.75, \"p75\": 0.75, \"p50_trip\": 1, \"fastest_trip\": 0, \"car_duration_hours\": 0.5, \"competitive_route\": 1, \"bus_multiplier\": 1.5, \"bus_difference\": 15.0, \"num_trips\": 17, \"num_competitive\": 17, \"pct_trips_competitive\": 1.0, \"bus_difference_spread\": 0.0, \"route_group\": \"short\", \"max_trip_hrs\": 0.75, \"max_trip_route_group\": 0.75, \"below_cutoff\": 17, \"pct_below_cutoff\": 1.0, \"calitp_agency_name\": \"Tri Delta Transit\", \"caltrans_district\": \"04 - Oakland\", \"route_name\": \"Pittsburg-Bay Point Bart / Bay Point\", \"route_short_name\": \"389\", \"route_id2\": \"389\", \"cutoff2\": 20, \"cutoff\": 2}, {\"calitp_itp_id\": 336, \"trip_key\": 9006479579654062379, \"trip_id\": \"18\", \"shape_id\": \"63\", \"route_id\": \"389\", \"service_hours\": 0.75, \"trip_first_departure_ts\": 41760, \"trip_last_arrival_ts\": 44460, \"departure_hour\": 11, \"time_of_day\": \"Midday\", \"p25\": 0.75, \"p50\": 0.75, \"p75\": 0.75, \"p50_trip\": 1, \"fastest_trip\": 0, \"car_duration_hours\": 0.5, \"competitive_route\": 1, \"bus_multiplier\": 1.5, \"bus_difference\": 15.0, \"num_trips\": 17, \"num_competitive\": 17, \"pct_trips_competitive\": 1.0, \"bus_difference_spread\": 0.0, \"route_group\": \"short\", \"max_trip_hrs\": 0.75, \"max_trip_route_group\": 0.75, \"below_cutoff\": 17, \"pct_below_cutoff\": 1.0, \"calitp_agency_name\": \"Tri Delta Transit\", \"caltrans_district\": \"04 - Oakland\", \"route_name\": \"Pittsburg-Bay Point Bart / Bay Point\", \"route_short_name\": \"389\", \"route_id2\": \"389\", \"cutoff2\": 20, \"cutoff\": 2}, {\"calitp_itp_id\": 336, \"trip_key\": 2533656649093970127, \"trip_id\": \"298\", \"shape_id\": \"63\", \"route_id\": \"389\", \"service_hours\": 0.75, \"trip_first_departure_ts\": 16560, \"trip_last_arrival_ts\": 19260, \"departure_hour\": 4, \"time_of_day\": \"Owl Service\", \"p25\": 0.75, \"p50\": 0.75, \"p75\": 0.75, \"p50_trip\": 1, \"fastest_trip\": 0, \"car_duration_hours\": 0.5, \"competitive_route\": 1, \"bus_multiplier\": 1.5, \"bus_difference\": 15.0, \"num_trips\": 17, \"num_competitive\": 17, \"pct_trips_competitive\": 1.0, \"bus_difference_spread\": 0.0, \"route_group\": \"short\", \"max_trip_hrs\": 0.75, \"max_trip_route_group\": 0.75, \"below_cutoff\": 17, \"pct_below_cutoff\": 1.0, \"calitp_agency_name\": \"Tri Delta Transit\", \"caltrans_district\": \"04 - Oakland\", \"route_name\": \"Pittsburg-Bay Point Bart / Bay Point\", \"route_short_name\": \"389\", \"route_id2\": \"389\", \"cutoff2\": 20, \"cutoff\": 2}, {\"calitp_itp_id\": 336, \"trip_key\": -8533807750394997149, \"trip_id\": \"286\", \"shape_id\": \"63\", \"route_id\": \"389\", \"service_hours\": 0.75, \"trip_first_departure_ts\": 63180, \"trip_last_arrival_ts\": 65880, \"departure_hour\": 17, \"time_of_day\": \"PM Peak\", \"p25\": 0.75, \"p50\": 0.75, \"p75\": 0.75, \"p50_trip\": 1, \"fastest_trip\": 0, \"car_duration_hours\": 0.5, \"competitive_route\": 1, \"bus_multiplier\": 1.5, \"bus_difference\": 15.0, \"num_trips\": 17, \"num_competitive\": 17, \"pct_trips_competitive\": 1.0, \"bus_difference_spread\": 0.0, \"route_group\": \"short\", \"max_trip_hrs\": 0.75, \"max_trip_route_group\": 0.75, \"below_cutoff\": 17, \"pct_below_cutoff\": 1.0, \"calitp_agency_name\": \"Tri Delta Transit\", \"caltrans_district\": \"04 - Oakland\", \"route_name\": \"Pittsburg-Bay Point Bart / Bay Point\", \"route_short_name\": \"389\", \"route_id2\": \"389\", \"cutoff2\": 20, \"cutoff\": 2}, {\"calitp_itp_id\": 336, \"trip_key\": -3226386426991294876, \"trip_id\": \"5\", \"shape_id\": \"63\", \"route_id\": \"389\", \"service_hours\": 0.75, \"trip_first_departure_ts\": 48960, \"trip_last_arrival_ts\": 51660, \"departure_hour\": 13, \"time_of_day\": \"Midday\", \"p25\": 0.75, \"p50\": 0.75, \"p75\": 0.75, \"p50_trip\": 1, \"fastest_trip\": 0, \"car_duration_hours\": 0.5, \"competitive_route\": 1, \"bus_multiplier\": 1.5, \"bus_difference\": 15.0, \"num_trips\": 17, \"num_competitive\": 17, \"pct_trips_competitive\": 1.0, \"bus_difference_spread\": 0.0, \"route_group\": \"short\", \"max_trip_hrs\": 0.75, \"max_trip_route_group\": 0.75, \"below_cutoff\": 17, \"pct_below_cutoff\": 1.0, \"calitp_agency_name\": \"Tri Delta Transit\", \"caltrans_district\": \"04 - Oakland\", \"route_name\": \"Pittsburg-Bay Point Bart / Bay Point\", \"route_short_name\": \"389\", \"route_id2\": \"389\", \"cutoff2\": 20, \"cutoff\": 2}, {\"calitp_itp_id\": 336, \"trip_key\": -8567373102071165085, \"trip_id\": \"206\", \"shape_id\": \"63\", \"route_id\": \"389\", \"service_hours\": 0.75, \"trip_first_departure_ts\": 45360, \"trip_last_arrival_ts\": 48060, \"departure_hour\": 12, \"time_of_day\": \"Midday\", \"p25\": 0.75, \"p50\": 0.75, \"p75\": 0.75, \"p50_trip\": 1, \"fastest_trip\": 0, \"car_duration_hours\": 0.5, \"competitive_route\": 1, \"bus_multiplier\": 1.5, \"bus_difference\": 15.0, \"num_trips\": 17, \"num_competitive\": 17, \"pct_trips_competitive\": 1.0, \"bus_difference_spread\": 0.0, \"route_group\": \"short\", \"max_trip_hrs\": 0.75, \"max_trip_route_group\": 0.75, \"below_cutoff\": 17, \"pct_below_cutoff\": 1.0, \"calitp_agency_name\": \"Tri Delta Transit\", \"caltrans_district\": \"04 - Oakland\", \"route_name\": \"Pittsburg-Bay Point Bart / Bay Point\", \"route_short_name\": \"389\", \"route_id2\": \"389\", \"cutoff2\": 20, \"cutoff\": 2}, {\"calitp_itp_id\": 336, \"trip_key\": 654490563874909058, \"trip_id\": \"343\", \"shape_id\": \"63\", \"route_id\": \"389\", \"service_hours\": 0.75, \"trip_first_departure_ts\": 23160, \"trip_last_arrival_ts\": 25860, \"departure_hour\": 6, \"time_of_day\": \"Owl Service\", \"p25\": 0.75, \"p50\": 0.75, \"p75\": 0.75, \"p50_trip\": 1, \"fastest_trip\": 0, \"car_duration_hours\": 0.5, \"competitive_route\": 1, \"bus_multiplier\": 1.5, \"bus_difference\": 15.0, \"num_trips\": 17, \"num_competitive\": 17, \"pct_trips_competitive\": 1.0, \"bus_difference_spread\": 0.0, \"route_group\": \"short\", \"max_trip_hrs\": 0.75, \"max_trip_route_group\": 0.75, \"below_cutoff\": 17, \"pct_below_cutoff\": 1.0, \"calitp_agency_name\": \"Tri Delta Transit\", \"caltrans_district\": \"04 - Oakland\", \"route_name\": \"Pittsburg-Bay Point Bart / Bay Point\", \"route_short_name\": \"389\", \"route_id2\": \"389\", \"cutoff2\": 20, \"cutoff\": 2}, {\"calitp_itp_id\": 336, \"trip_key\": -1427182616917798899, \"trip_id\": \"344\", \"shape_id\": \"63\", \"route_id\": \"389\", \"service_hours\": 0.75, \"trip_first_departure_ts\": 26340, \"trip_last_arrival_ts\": 29040, \"departure_hour\": 7, \"time_of_day\": \"AM Peak\", \"p25\": 0.75, \"p50\": 0.75, \"p75\": 0.75, \"p50_trip\": 1, \"fastest_trip\": 0, \"car_duration_hours\": 0.5, \"competitive_route\": 1, \"bus_multiplier\": 1.5, \"bus_difference\": 15.0, \"num_trips\": 17, \"num_competitive\": 17, \"pct_trips_competitive\": 1.0, \"bus_difference_spread\": 0.0, \"route_group\": \"short\", \"max_trip_hrs\": 0.75, \"max_trip_route_group\": 0.75, \"below_cutoff\": 17, \"pct_below_cutoff\": 1.0, \"calitp_agency_name\": \"Tri Delta Transit\", \"caltrans_district\": \"04 - Oakland\", \"route_name\": \"Pittsburg-Bay Point Bart / Bay Point\", \"route_short_name\": \"389\", \"route_id2\": \"389\", \"cutoff2\": 20, \"cutoff\": 2}, {\"calitp_itp_id\": 336, \"trip_key\": 7578027158838420240, \"trip_id\": \"276\", \"shape_id\": \"63\", \"route_id\": \"389\", \"service_hours\": 0.75, \"trip_first_departure_ts\": 59160, \"trip_last_arrival_ts\": 61860, \"departure_hour\": 16, \"time_of_day\": \"Midday\", \"p25\": 0.75, \"p50\": 0.75, \"p75\": 0.75, \"p50_trip\": 1, \"fastest_trip\": 0, \"car_duration_hours\": 0.5, \"competitive_route\": 1, \"bus_multiplier\": 1.5, \"bus_difference\": 15.0, \"num_trips\": 17, \"num_competitive\": 17, \"pct_trips_competitive\": 1.0, \"bus_difference_spread\": 0.0, \"route_group\": \"short\", \"max_trip_hrs\": 0.75, \"max_trip_route_group\": 0.75, \"below_cutoff\": 17, \"pct_below_cutoff\": 1.0, \"calitp_agency_name\": \"Tri Delta Transit\", \"caltrans_district\": \"04 - Oakland\", \"route_name\": \"Pittsburg-Bay Point Bart / Bay Point\", \"route_short_name\": \"389\", \"route_id2\": \"389\", \"cutoff2\": 20, \"cutoff\": 2}, {\"calitp_itp_id\": 336, \"trip_key\": -677869521889259212, \"trip_id\": \"334\", \"shape_id\": \"63\", \"route_id\": \"389\", \"service_hours\": 0.75, \"trip_first_departure_ts\": 52560, \"trip_last_arrival_ts\": 55260, \"departure_hour\": 14, \"time_of_day\": \"Midday\", \"p25\": 0.75, \"p50\": 0.75, \"p75\": 0.75, \"p50_trip\": 1, \"fastest_trip\": 0, \"car_duration_hours\": 0.5, \"competitive_route\": 1, \"bus_multiplier\": 1.5, \"bus_difference\": 15.0, \"num_trips\": 17, \"num_competitive\": 17, \"pct_trips_competitive\": 1.0, \"bus_difference_spread\": 0.0, \"route_group\": \"short\", \"max_trip_hrs\": 0.75, \"max_trip_route_group\": 0.75, \"below_cutoff\": 17, \"pct_below_cutoff\": 1.0, \"calitp_agency_name\": \"Tri Delta Transit\", \"caltrans_district\": \"04 - Oakland\", \"route_name\": \"Pittsburg-Bay Point Bart / Bay Point\", \"route_short_name\": \"389\", \"route_id2\": \"389\", \"cutoff2\": 20, \"cutoff\": 2}, {\"calitp_itp_id\": 336, \"trip_key\": -6260223717104600245, \"trip_id\": \"39\", \"shape_id\": \"7\", \"route_id\": \"390\", \"service_hours\": 0.78, \"trip_first_departure_ts\": 71100, \"trip_last_arrival_ts\": 73920, \"departure_hour\": 19, \"time_of_day\": \"PM Peak\", \"p25\": 0.82, \"p50\": 0.9, \"p75\": 0.92, \"p50_trip\": 0, \"fastest_trip\": 1, \"car_duration_hours\": 0.63, \"competitive_route\": 1, \"bus_multiplier\": 1.24, \"bus_difference\": 9.0, \"num_trips\": 9, \"num_competitive\": 9, \"pct_trips_competitive\": 1.0, \"bus_difference_spread\": 10.2, \"route_group\": \"short\", \"max_trip_hrs\": 0.95, \"max_trip_route_group\": 0.95, \"below_cutoff\": 9, \"pct_below_cutoff\": 1.0, \"calitp_agency_name\": \"Tri Delta Transit\", \"caltrans_district\": \"04 - Oakland\", \"route_name\": \"Antioch Bart / Pittsburg-Bay Point Bart\", \"route_short_name\": \"390\", \"route_id2\": \"390\", \"cutoff2\": 20, \"cutoff\": 2}, {\"calitp_itp_id\": 336, \"trip_key\": -3387021444805663653, \"trip_id\": \"295\", \"shape_id\": \"7\", \"route_id\": \"390\", \"service_hours\": 0.82, \"trip_first_departure_ts\": 67500, \"trip_last_arrival_ts\": 70440, \"departure_hour\": 18, \"time_of_day\": \"PM Peak\", \"p25\": 0.82, \"p50\": 0.9, \"p75\": 0.92, \"p50_trip\": 0, \"fastest_trip\": 0, \"car_duration_hours\": 0.63, \"competitive_route\": 1, \"bus_multiplier\": 1.3, \"bus_difference\": 11.4, \"num_trips\": 9, \"num_competitive\": 9, \"pct_trips_competitive\": 1.0, \"bus_difference_spread\": 10.2, \"route_group\": \"short\", \"max_trip_hrs\": 0.95, \"max_trip_route_group\": 0.95, \"below_cutoff\": 9, \"pct_below_cutoff\": 1.0, \"calitp_agency_name\": \"Tri Delta Transit\", \"caltrans_district\": \"04 - Oakland\", \"route_name\": \"Antioch Bart / Pittsburg-Bay Point Bart\", \"route_short_name\": \"390\", \"route_id2\": \"390\", \"cutoff2\": 20, \"cutoff\": 2}, {\"calitp_itp_id\": 336, \"trip_key\": 9123605031033432589, \"trip_id\": \"209\", \"shape_id\": \"7\", \"route_id\": \"390\", \"service_hours\": 0.82, \"trip_first_departure_ts\": 63900, \"trip_last_arrival_ts\": 66840, \"departure_hour\": 17, \"time_of_day\": \"PM Peak\", \"p25\": 0.82, \"p50\": 0.9, \"p75\": 0.92, \"p50_trip\": 0, \"fastest_trip\": 0, \"car_duration_hours\": 0.63, \"competitive_route\": 1, \"bus_multiplier\": 1.3, \"bus_difference\": 11.4, \"num_trips\": 9, \"num_competitive\": 9, \"pct_trips_competitive\": 1.0, \"bus_difference_spread\": 10.2, \"route_group\": \"short\", \"max_trip_hrs\": 0.95, \"max_trip_route_group\": 0.95, \"below_cutoff\": 9, \"pct_below_cutoff\": 1.0, \"calitp_agency_name\": \"Tri Delta Transit\", \"caltrans_district\": \"04 - Oakland\", \"route_name\": \"Antioch Bart / Pittsburg-Bay Point Bart\", \"route_short_name\": \"390\", \"route_id2\": \"390\", \"cutoff2\": 20, \"cutoff\": 2}, {\"calitp_itp_id\": 336, \"trip_key\": -3181578854684854068, \"trip_id\": \"336\", \"shape_id\": \"7\", \"route_id\": \"390\", \"service_hours\": 0.82, \"trip_first_departure_ts\": 60300, \"trip_last_arrival_ts\": 63240, \"departure_hour\": 16, \"time_of_day\": \"Midday\", \"p25\": 0.82, \"p50\": 0.9, \"p75\": 0.92, \"p50_trip\": 0, \"fastest_trip\": 0, \"car_duration_hours\": 0.63, \"competitive_route\": 1, \"bus_multiplier\": 1.3, \"bus_difference\": 11.4, \"num_trips\": 9, \"num_competitive\": 9, \"pct_trips_competitive\": 1.0, \"bus_difference_spread\": 10.2, \"route_group\": \"short\", \"max_trip_hrs\": 0.95, \"max_trip_route_group\": 0.95, \"below_cutoff\": 9, \"pct_below_cutoff\": 1.0, \"calitp_agency_name\": \"Tri Delta Transit\", \"caltrans_district\": \"04 - Oakland\", \"route_name\": \"Antioch Bart / Pittsburg-Bay Point Bart\", \"route_short_name\": \"390\", \"route_id2\": \"390\", \"cutoff2\": 20, \"cutoff\": 2}, {\"calitp_itp_id\": 336, \"trip_key\": -3398492314336586397, \"trip_id\": \"183\", \"shape_id\": \"16\", \"route_id\": \"390\", \"service_hours\": 0.9, \"trip_first_departure_ts\": 24120, \"trip_last_arrival_ts\": 27360, \"departure_hour\": 6, \"time_of_day\": \"Owl Service\", \"p25\": 0.82, \"p50\": 0.9, \"p75\": 0.92, \"p50_trip\": 1, \"fastest_trip\": 0, \"car_duration_hours\": 0.63, \"competitive_route\": 1, \"bus_multiplier\": 1.43, \"bus_difference\": 16.2, \"num_trips\": 9, \"num_competitive\": 9, \"pct_trips_competitive\": 1.0, \"bus_difference_spread\": 10.2, \"route_group\": \"short\", \"max_trip_hrs\": 0.95, \"max_trip_route_group\": 0.95, \"below_cutoff\": 9, \"pct_below_cutoff\": 1.0, \"calitp_agency_name\": \"Tri Delta Transit\", \"caltrans_district\": \"04 - Oakland\", \"route_name\": \"Antioch Bart / Pittsburg-Bay Point Bart\", \"route_short_name\": \"390\", \"route_id2\": \"390\", \"cutoff2\": 20, \"cutoff\": 2}, {\"calitp_itp_id\": 336, \"trip_key\": -6074753833568489764, \"trip_id\": \"306\", \"shape_id\": \"16\", \"route_id\": \"390\", \"service_hours\": 0.92, \"trip_first_departure_ts\": 17400, \"trip_last_arrival_ts\": 20700, \"departure_hour\": 4, \"time_of_day\": \"Owl Service\", \"p25\": 0.82, \"p50\": 0.9, \"p75\": 0.92, \"p50_trip\": 0, \"fastest_trip\": 0, \"car_duration_hours\": 0.63, \"competitive_route\": 1, \"bus_multiplier\": 1.46, \"bus_difference\": 17.4, \"num_trips\": 9, \"num_competitive\": 9, \"pct_trips_competitive\": 1.0, \"bus_difference_spread\": 10.2, \"route_group\": \"short\", \"max_trip_hrs\": 0.95, \"max_trip_route_group\": 0.95, \"below_cutoff\": 9, \"pct_below_cutoff\": 1.0, \"calitp_agency_name\": \"Tri Delta Transit\", \"caltrans_district\": \"04 - Oakland\", \"route_name\": \"Antioch Bart / Pittsburg-Bay Point Bart\", \"route_short_name\": \"390\", \"route_id2\": \"390\", \"cutoff2\": 20, \"cutoff\": 2}, {\"calitp_itp_id\": 336, \"trip_key\": -2530239657630680185, \"trip_id\": \"297\", \"shape_id\": \"16\", \"route_id\": \"390\", \"service_hours\": 0.92, \"trip_first_departure_ts\": 12900, \"trip_last_arrival_ts\": 16200, \"departure_hour\": 3, \"time_of_day\": \"Owl Service\", \"p25\": 0.82, \"p50\": 0.9, \"p75\": 0.92, \"p50_trip\": 0, \"fastest_trip\": 0, \"car_duration_hours\": 0.63, \"competitive_route\": 1, \"bus_multiplier\": 1.46, \"bus_difference\": 17.4, \"num_trips\": 9, \"num_competitive\": 9, \"pct_trips_competitive\": 1.0, \"bus_difference_spread\": 10.2, \"route_group\": \"short\", \"max_trip_hrs\": 0.95, \"max_trip_route_group\": 0.95, \"below_cutoff\": 9, \"pct_below_cutoff\": 1.0, \"calitp_agency_name\": \"Tri Delta Transit\", \"caltrans_district\": \"04 - Oakland\", \"route_name\": \"Antioch Bart / Pittsburg-Bay Point Bart\", \"route_short_name\": \"390\", \"route_id2\": \"390\", \"cutoff2\": 20, \"cutoff\": 2}, {\"calitp_itp_id\": 336, \"trip_key\": -7904319697205535131, \"trip_id\": \"78\", \"shape_id\": \"16\", \"route_id\": \"390\", \"service_hours\": 0.95, \"trip_first_departure_ts\": 21000, \"trip_last_arrival_ts\": 24420, \"departure_hour\": 5, \"time_of_day\": \"Owl Service\", \"p25\": 0.82, \"p50\": 0.9, \"p75\": 0.92, \"p50_trip\": 0, \"fastest_trip\": 0, \"car_duration_hours\": 0.63, \"competitive_route\": 1, \"bus_multiplier\": 1.51, \"bus_difference\": 19.2, \"num_trips\": 9, \"num_competitive\": 9, \"pct_trips_competitive\": 1.0, \"bus_difference_spread\": 10.2, \"route_group\": \"short\", \"max_trip_hrs\": 0.95, \"max_trip_route_group\": 0.95, \"below_cutoff\": 9, \"pct_below_cutoff\": 1.0, \"calitp_agency_name\": \"Tri Delta Transit\", \"caltrans_district\": \"04 - Oakland\", \"route_name\": \"Antioch Bart / Pittsburg-Bay Point Bart\", \"route_short_name\": \"390\", \"route_id2\": \"390\", \"cutoff2\": 20, \"cutoff\": 2}, {\"calitp_itp_id\": 336, \"trip_key\": 9104313909335265965, \"trip_id\": \"124\", \"shape_id\": \"16\", \"route_id\": \"390\", \"service_hours\": 0.95, \"trip_first_departure_ts\": 25740, \"trip_last_arrival_ts\": 29160, \"departure_hour\": 7, \"time_of_day\": \"AM Peak\", \"p25\": 0.82, \"p50\": 0.9, \"p75\": 0.92, \"p50_trip\": 0, \"fastest_trip\": 0, \"car_duration_hours\": 0.63, \"competitive_route\": 1, \"bus_multiplier\": 1.51, \"bus_difference\": 19.2, \"num_trips\": 9, \"num_competitive\": 9, \"pct_trips_competitive\": 1.0, \"bus_difference_spread\": 10.2, \"route_group\": \"short\", \"max_trip_hrs\": 0.95, \"max_trip_route_group\": 0.95, \"below_cutoff\": 9, \"pct_below_cutoff\": 1.0, \"calitp_agency_name\": \"Tri Delta Transit\", \"caltrans_district\": \"04 - Oakland\", \"route_name\": \"Antioch Bart / Pittsburg-Bay Point Bart\", \"route_short_name\": \"390\", \"route_id2\": \"390\", \"cutoff2\": 20, \"cutoff\": 2}]}}, {\"mode\": \"vega-lite\"});\n",
       "</script>"
      ],
      "text/plain": [
       "alt.FacetChart(...)"
      ]
     },
     "metadata": {},
     "output_type": "display_data"
    },
    {
     "data": {
      "text/html": [
       "\n",
       "<div id=\"altair-viz-32a2cc8059404c2c97dfd4ed97c782a8\"></div>\n",
       "<script type=\"text/javascript\">\n",
       "  var VEGA_DEBUG = (typeof VEGA_DEBUG == \"undefined\") ? {} : VEGA_DEBUG;\n",
       "  (function(spec, embedOpt){\n",
       "    let outputDiv = document.currentScript.previousElementSibling;\n",
       "    if (outputDiv.id !== \"altair-viz-32a2cc8059404c2c97dfd4ed97c782a8\") {\n",
       "      outputDiv = document.getElementById(\"altair-viz-32a2cc8059404c2c97dfd4ed97c782a8\");\n",
       "    }\n",
       "    const paths = {\n",
       "      \"vega\": \"https://cdn.jsdelivr.net/npm//vega@5?noext\",\n",
       "      \"vega-lib\": \"https://cdn.jsdelivr.net/npm//vega-lib?noext\",\n",
       "      \"vega-lite\": \"https://cdn.jsdelivr.net/npm//vega-lite@4.17.0?noext\",\n",
       "      \"vega-embed\": \"https://cdn.jsdelivr.net/npm//vega-embed@6?noext\",\n",
       "    };\n",
       "\n",
       "    function maybeLoadScript(lib, version) {\n",
       "      var key = `${lib.replace(\"-\", \"\")}_version`;\n",
       "      return (VEGA_DEBUG[key] == version) ?\n",
       "        Promise.resolve(paths[lib]) :\n",
       "        new Promise(function(resolve, reject) {\n",
       "          var s = document.createElement('script');\n",
       "          document.getElementsByTagName(\"head\")[0].appendChild(s);\n",
       "          s.async = true;\n",
       "          s.onload = () => {\n",
       "            VEGA_DEBUG[key] = version;\n",
       "            return resolve(paths[lib]);\n",
       "          };\n",
       "          s.onerror = () => reject(`Error loading script: ${paths[lib]}`);\n",
       "          s.src = paths[lib];\n",
       "        });\n",
       "    }\n",
       "\n",
       "    function showError(err) {\n",
       "      outputDiv.innerHTML = `<div class=\"error\" style=\"color:red;\">${err}</div>`;\n",
       "      throw err;\n",
       "    }\n",
       "\n",
       "    function displayChart(vegaEmbed) {\n",
       "      vegaEmbed(outputDiv, spec, embedOpt)\n",
       "        .catch(err => showError(`Javascript Error: ${err.message}<br>This usually means there's a typo in your chart specification. See the javascript console for the full traceback.`));\n",
       "    }\n",
       "\n",
       "    if(typeof define === \"function\" && define.amd) {\n",
       "      requirejs.config({paths});\n",
       "      require([\"vega-embed\"], displayChart, err => showError(`Error loading script: ${err.message}`));\n",
       "    } else {\n",
       "      maybeLoadScript(\"vega\", \"5\")\n",
       "        .then(() => maybeLoadScript(\"vega-lite\", \"4.17.0\"))\n",
       "        .then(() => maybeLoadScript(\"vega-embed\", \"6\"))\n",
       "        .catch(showError)\n",
       "        .then(() => displayChart(vegaEmbed));\n",
       "    }\n",
       "  })({\"config\": {\"view\": {\"continuousWidth\": 400, \"continuousHeight\": 300, \"stroke\": null}, \"facet\": {\"spacing\": 0}}, \"data\": {\"name\": \"data-28864e1550bb0fb408c93204c4f4deea\"}, \"facet\": {\"column\": {\"field\": \"route_id2\", \"sort\": [\"300\", \"389\", \"390\"], \"title\": \"Route ID\", \"type\": \"nominal\"}}, \"spec\": {\"layer\": [{\"mark\": \"rule\", \"encoding\": {\"color\": {\"value\": \"black\"}, \"y\": {\"field\": \"cutoff\", \"type\": \"quantitative\"}}, \"selection\": {\"selector002\": {\"type\": \"interval\", \"bind\": \"scales\", \"encodings\": [\"x\", \"y\"]}}}, {\"mark\": {\"type\": \"rule\", \"strokeDash\": [3, 3]}, \"encoding\": {\"color\": {\"value\": \"#323434\"}, \"y\": {\"field\": \"cutoff2\", \"type\": \"quantitative\"}}}, {\"mark\": {\"type\": \"point\", \"opacity\": 0.65, \"size\": 20, \"strokeWidth\": 1.1}, \"encoding\": {\"color\": {\"field\": \"time_of_day\", \"scale\": {\"range\": [\"#136C97\", \"#E16B26\", \"#F6BF16\", \"#00896B\", \"#7790A3\", \"#5B559C\"]}, \"sort\": [\"AM Peak\", \"Midday\", \"PM Peak\", \"Owl Service\"], \"title\": \"Time of Day\", \"type\": \"nominal\"}, \"tooltip\": [{\"field\": \"route_id2\", \"title\": \"route_id\", \"type\": \"nominal\"}, {\"field\": \"route_name\", \"type\": \"nominal\"}, {\"field\": \"trip_id\", \"type\": \"nominal\"}, {\"field\": \"service_hours\", \"type\": \"quantitative\"}, {\"field\": \"car_duration_hours\", \"type\": \"quantitative\"}, {\"field\": \"bus_multiplier\", \"type\": \"quantitative\"}, {\"field\": \"bus_difference\", \"type\": \"quantitative\"}, {\"field\": \"num_trips\", \"type\": \"quantitative\"}, {\"field\": \"num_competitive\", \"type\": \"quantitative\"}, {\"field\": \"pct_trips_competitive\", \"type\": \"quantitative\"}, {\"field\": \"pct_below_cutoff\", \"type\": \"quantitative\"}, {\"field\": \"p25\", \"type\": \"quantitative\"}, {\"field\": \"p50\", \"type\": \"quantitative\"}, {\"field\": \"p75\", \"type\": \"quantitative\"}], \"x\": {\"axis\": {\"grid\": false, \"labels\": false, \"ticks\": true, \"values\": [0]}, \"field\": \"jitter\", \"scale\": {}, \"title\": null, \"type\": \"quantitative\"}, \"y\": {\"field\": \"bus_difference\", \"scale\": {\"domain\": [-5, 51.6]}, \"title\": \"Difference in Bus to Car Travel Time (min)\", \"type\": \"quantitative\"}}, \"transform\": [{\"calculate\": \"sqrt(-2*log(random()))*cos(2*PI*random())\", \"as\": \"jitter\"}], \"width\": 50}, {\"layer\": [{\"mark\": {\"type\": \"point\", \"opacity\": 0.6, \"size\": 20, \"strokeWidth\": 1.3}, \"encoding\": {\"color\": {\"value\": \"#323434\"}, \"y\": {\"field\": \"bus_difference\", \"type\": \"quantitative\"}}, \"transform\": [{\"filter\": \"(datum.p50_trip === 1)\"}]}, {\"mark\": {\"type\": \"text\", \"align\": \"center\", \"baseline\": \"middle\"}, \"encoding\": {\"color\": {\"value\": \"black\"}, \"text\": {\"field\": \"pct_trips_competitive\", \"format\": \".0%\", \"type\": \"quantitative\"}, \"tooltip\": [{\"field\": \"route_id2\", \"title\": \"route_id\", \"type\": \"nominal\"}, {\"field\": \"route_name\", \"type\": \"nominal\"}, {\"field\": \"trip_id\", \"type\": \"nominal\"}, {\"field\": \"service_hours\", \"type\": \"quantitative\"}, {\"field\": \"car_duration_hours\", \"type\": \"quantitative\"}, {\"field\": \"bus_multiplier\", \"type\": \"quantitative\"}, {\"field\": \"bus_difference\", \"type\": \"quantitative\"}, {\"field\": \"num_trips\", \"type\": \"quantitative\"}, {\"field\": \"num_competitive\", \"type\": \"quantitative\"}, {\"field\": \"pct_trips_competitive\", \"type\": \"quantitative\"}, {\"field\": \"pct_below_cutoff\", \"type\": \"quantitative\"}, {\"field\": \"p25\", \"type\": \"quantitative\"}, {\"field\": \"p50\", \"type\": \"quantitative\"}, {\"field\": \"p75\", \"type\": \"quantitative\"}], \"x\": {\"value\": 30}, \"y\": {\"value\": 15}}, \"transform\": [{\"calculate\": \"sqrt(-2*log(random()))*cos(2*PI*random())\", \"as\": \"jitter\"}, {\"filter\": \"(datum.fastest_trip === 1)\"}]}]}]}, \"resolve\": {\"scale\": {\"y\": \"shared\"}}, \"title\": \"Difference in Bus to Car Travel Time (min)\", \"$schema\": \"https://vega.github.io/schema/vega-lite/v4.17.0.json\", \"datasets\": {\"data-28864e1550bb0fb408c93204c4f4deea\": [{\"calitp_itp_id\": 336, \"trip_key\": -3595603566866389641, \"trip_id\": \"168\", \"shape_id\": \"26\", \"route_id\": \"300\", \"service_hours\": 0.48, \"trip_first_departure_ts\": 57120, \"trip_last_arrival_ts\": 58860, \"departure_hour\": 15, \"time_of_day\": \"Midday\", \"p25\": 0.48, \"p50\": 0.62, \"p75\": 0.63, \"p50_trip\": 0, \"fastest_trip\": 0, \"car_duration_hours\": 0.4, \"competitive_route\": 1, \"bus_multiplier\": 1.2, \"bus_difference\": 4.8, \"num_trips\": 21, \"num_competitive\": 21, \"pct_trips_competitive\": 1.0, \"bus_difference_spread\": 9.0, \"route_group\": \"short\", \"max_trip_hrs\": 0.63, \"max_trip_route_group\": 0.63, \"below_cutoff\": 21, \"pct_below_cutoff\": 1.0, \"calitp_agency_name\": \"Tri Delta Transit\", \"caltrans_district\": \"04 - Oakland\", \"route_name\": \"Brentwood Park & Ride / Antioch Bart\", \"route_short_name\": \"300\", \"route_id2\": \"300\", \"cutoff2\": 20, \"cutoff\": 0}, {\"calitp_itp_id\": 336, \"trip_key\": 4657302171917732366, \"trip_id\": \"355\", \"shape_id\": \"26\", \"route_id\": \"300\", \"service_hours\": 0.48, \"trip_first_departure_ts\": 67020, \"trip_last_arrival_ts\": 68760, \"departure_hour\": 18, \"time_of_day\": \"PM Peak\", \"p25\": 0.48, \"p50\": 0.62, \"p75\": 0.63, \"p50_trip\": 0, \"fastest_trip\": 0, \"car_duration_hours\": 0.4, \"competitive_route\": 1, \"bus_multiplier\": 1.2, \"bus_difference\": 4.8, \"num_trips\": 21, \"num_competitive\": 21, \"pct_trips_competitive\": 1.0, \"bus_difference_spread\": 9.0, \"route_group\": \"short\", \"max_trip_hrs\": 0.63, \"max_trip_route_group\": 0.63, \"below_cutoff\": 21, \"pct_below_cutoff\": 1.0, \"calitp_agency_name\": \"Tri Delta Transit\", \"caltrans_district\": \"04 - Oakland\", \"route_name\": \"Brentwood Park & Ride / Antioch Bart\", \"route_short_name\": \"300\", \"route_id2\": \"300\", \"cutoff2\": 20, \"cutoff\": 0}, {\"calitp_itp_id\": 336, \"trip_key\": 3008143892178479368, \"trip_id\": \"230\", \"shape_id\": \"26\", \"route_id\": \"300\", \"service_hours\": 0.48, \"trip_first_departure_ts\": 53520, \"trip_last_arrival_ts\": 55260, \"departure_hour\": 14, \"time_of_day\": \"Midday\", \"p25\": 0.48, \"p50\": 0.62, \"p75\": 0.63, \"p50_trip\": 0, \"fastest_trip\": 0, \"car_duration_hours\": 0.4, \"competitive_route\": 1, \"bus_multiplier\": 1.2, \"bus_difference\": 4.8, \"num_trips\": 21, \"num_competitive\": 21, \"pct_trips_competitive\": 1.0, \"bus_difference_spread\": 9.0, \"route_group\": \"short\", \"max_trip_hrs\": 0.63, \"max_trip_route_group\": 0.63, \"below_cutoff\": 21, \"pct_below_cutoff\": 1.0, \"calitp_agency_name\": \"Tri Delta Transit\", \"caltrans_district\": \"04 - Oakland\", \"route_name\": \"Brentwood Park & Ride / Antioch Bart\", \"route_short_name\": \"300\", \"route_id2\": \"300\", \"cutoff2\": 20, \"cutoff\": 0}, {\"calitp_itp_id\": 336, \"trip_key\": -6493340004722924860, \"trip_id\": \"326\", \"shape_id\": \"26\", \"route_id\": \"300\", \"service_hours\": 0.48, \"trip_first_departure_ts\": 64320, \"trip_last_arrival_ts\": 66060, \"departure_hour\": 17, \"time_of_day\": \"PM Peak\", \"p25\": 0.48, \"p50\": 0.62, \"p75\": 0.63, \"p50_trip\": 0, \"fastest_trip\": 0, \"car_duration_hours\": 0.4, \"competitive_route\": 1, \"bus_multiplier\": 1.2, \"bus_difference\": 4.8, \"num_trips\": 21, \"num_competitive\": 21, \"pct_trips_competitive\": 1.0, \"bus_difference_spread\": 9.0, \"route_group\": \"short\", \"max_trip_hrs\": 0.63, \"max_trip_route_group\": 0.63, \"below_cutoff\": 21, \"pct_below_cutoff\": 1.0, \"calitp_agency_name\": \"Tri Delta Transit\", \"caltrans_district\": \"04 - Oakland\", \"route_name\": \"Brentwood Park & Ride / Antioch Bart\", \"route_short_name\": \"300\", \"route_id2\": \"300\", \"cutoff2\": 20, \"cutoff\": 0}, {\"calitp_itp_id\": 336, \"trip_key\": -5421682565614449464, \"trip_id\": \"208\", \"shape_id\": \"26\", \"route_id\": \"300\", \"service_hours\": 0.48, \"trip_first_departure_ts\": 59820, \"trip_last_arrival_ts\": 61560, \"departure_hour\": 16, \"time_of_day\": \"Midday\", \"p25\": 0.48, \"p50\": 0.62, \"p75\": 0.63, \"p50_trip\": 0, \"fastest_trip\": 0, \"car_duration_hours\": 0.4, \"competitive_route\": 1, \"bus_multiplier\": 1.2, \"bus_difference\": 4.8, \"num_trips\": 21, \"num_competitive\": 21, \"pct_trips_competitive\": 1.0, \"bus_difference_spread\": 9.0, \"route_group\": \"short\", \"max_trip_hrs\": 0.63, \"max_trip_route_group\": 0.63, \"below_cutoff\": 21, \"pct_below_cutoff\": 1.0, \"calitp_agency_name\": \"Tri Delta Transit\", \"caltrans_district\": \"04 - Oakland\", \"route_name\": \"Brentwood Park & Ride / Antioch Bart\", \"route_short_name\": \"300\", \"route_id2\": \"300\", \"cutoff2\": 20, \"cutoff\": 0}, {\"calitp_itp_id\": 336, \"trip_key\": -7512179716726553911, \"trip_id\": \"268\", \"shape_id\": \"26\", \"route_id\": \"300\", \"service_hours\": 0.48, \"trip_first_departure_ts\": 49920, \"trip_last_arrival_ts\": 51660, \"departure_hour\": 13, \"time_of_day\": \"Midday\", \"p25\": 0.48, \"p50\": 0.62, \"p75\": 0.63, \"p50_trip\": 0, \"fastest_trip\": 0, \"car_duration_hours\": 0.4, \"competitive_route\": 1, \"bus_multiplier\": 1.2, \"bus_difference\": 4.8, \"num_trips\": 21, \"num_competitive\": 21, \"pct_trips_competitive\": 1.0, \"bus_difference_spread\": 9.0, \"route_group\": \"short\", \"max_trip_hrs\": 0.63, \"max_trip_route_group\": 0.63, \"below_cutoff\": 21, \"pct_below_cutoff\": 1.0, \"calitp_agency_name\": \"Tri Delta Transit\", \"caltrans_district\": \"04 - Oakland\", \"route_name\": \"Brentwood Park & Ride / Antioch Bart\", \"route_short_name\": \"300\", \"route_id2\": \"300\", \"cutoff2\": 20, \"cutoff\": 0}, {\"calitp_itp_id\": 336, \"trip_key\": -8184735084160256341, \"trip_id\": \"221\", \"shape_id\": \"26\", \"route_id\": \"300\", \"service_hours\": 0.48, \"trip_first_departure_ts\": 70920, \"trip_last_arrival_ts\": 72660, \"departure_hour\": 19, \"time_of_day\": \"PM Peak\", \"p25\": 0.48, \"p50\": 0.62, \"p75\": 0.63, \"p50_trip\": 0, \"fastest_trip\": 1, \"car_duration_hours\": 0.4, \"competitive_route\": 1, \"bus_multiplier\": 1.2, \"bus_difference\": 4.8, \"num_trips\": 21, \"num_competitive\": 21, \"pct_trips_competitive\": 1.0, \"bus_difference_spread\": 9.0, \"route_group\": \"short\", \"max_trip_hrs\": 0.63, \"max_trip_route_group\": 0.63, \"below_cutoff\": 21, \"pct_below_cutoff\": 1.0, \"calitp_agency_name\": \"Tri Delta Transit\", \"caltrans_district\": \"04 - Oakland\", \"route_name\": \"Brentwood Park & Ride / Antioch Bart\", \"route_short_name\": \"300\", \"route_id2\": \"300\", \"cutoff2\": 20, \"cutoff\": 0}, {\"calitp_itp_id\": 336, \"trip_key\": -1838353877336545997, \"trip_id\": \"149\", \"shape_id\": \"26\", \"route_id\": \"300\", \"service_hours\": 0.58, \"trip_first_departure_ts\": 28020, \"trip_last_arrival_ts\": 30120, \"departure_hour\": 7, \"time_of_day\": \"AM Peak\", \"p25\": 0.48, \"p50\": 0.62, \"p75\": 0.63, \"p50_trip\": 0, \"fastest_trip\": 0, \"car_duration_hours\": 0.4, \"competitive_route\": 1, \"bus_multiplier\": 1.45, \"bus_difference\": 10.8, \"num_trips\": 21, \"num_competitive\": 21, \"pct_trips_competitive\": 1.0, \"bus_difference_spread\": 9.0, \"route_group\": \"short\", \"max_trip_hrs\": 0.63, \"max_trip_route_group\": 0.63, \"below_cutoff\": 21, \"pct_below_cutoff\": 1.0, \"calitp_agency_name\": \"Tri Delta Transit\", \"caltrans_district\": \"04 - Oakland\", \"route_name\": \"Brentwood Park & Ride / Antioch Bart\", \"route_short_name\": \"300\", \"route_id2\": \"300\", \"cutoff2\": 20, \"cutoff\": 0}, {\"calitp_itp_id\": 336, \"trip_key\": -5840321913192008023, \"trip_id\": \"150\", \"shape_id\": \"26\", \"route_id\": \"300\", \"service_hours\": 0.58, \"trip_first_departure_ts\": 24420, \"trip_last_arrival_ts\": 26520, \"departure_hour\": 6, \"time_of_day\": \"Owl Service\", \"p25\": 0.48, \"p50\": 0.62, \"p75\": 0.63, \"p50_trip\": 0, \"fastest_trip\": 0, \"car_duration_hours\": 0.4, \"competitive_route\": 1, \"bus_multiplier\": 1.45, \"bus_difference\": 10.8, \"num_trips\": 21, \"num_competitive\": 21, \"pct_trips_competitive\": 1.0, \"bus_difference_spread\": 9.0, \"route_group\": \"short\", \"max_trip_hrs\": 0.63, \"max_trip_route_group\": 0.63, \"below_cutoff\": 21, \"pct_below_cutoff\": 1.0, \"calitp_agency_name\": \"Tri Delta Transit\", \"caltrans_district\": \"04 - Oakland\", \"route_name\": \"Brentwood Park & Ride / Antioch Bart\", \"route_short_name\": \"300\", \"route_id2\": \"300\", \"cutoff2\": 20, \"cutoff\": 0}, {\"calitp_itp_id\": 336, \"trip_key\": -3518438896911662483, \"trip_id\": \"316\", \"shape_id\": \"26\", \"route_id\": \"300\", \"service_hours\": 0.62, \"trip_first_departure_ts\": 20700, \"trip_last_arrival_ts\": 22920, \"departure_hour\": 5, \"time_of_day\": \"Owl Service\", \"p25\": 0.48, \"p50\": 0.62, \"p75\": 0.63, \"p50_trip\": 1, \"fastest_trip\": 0, \"car_duration_hours\": 0.4, \"competitive_route\": 1, \"bus_multiplier\": 1.55, \"bus_difference\": 13.2, \"num_trips\": 21, \"num_competitive\": 21, \"pct_trips_competitive\": 1.0, \"bus_difference_spread\": 9.0, \"route_group\": \"short\", \"max_trip_hrs\": 0.63, \"max_trip_route_group\": 0.63, \"below_cutoff\": 21, \"pct_below_cutoff\": 1.0, \"calitp_agency_name\": \"Tri Delta Transit\", \"caltrans_district\": \"04 - Oakland\", \"route_name\": \"Brentwood Park & Ride / Antioch Bart\", \"route_short_name\": \"300\", \"route_id2\": \"300\", \"cutoff2\": 20, \"cutoff\": 0}, {\"calitp_itp_id\": 336, \"trip_key\": 1218564745994879517, \"trip_id\": \"1\", \"shape_id\": \"26\", \"route_id\": \"300\", \"service_hours\": 0.62, \"trip_first_departure_ts\": 14400, \"trip_last_arrival_ts\": 16620, \"departure_hour\": 4, \"time_of_day\": \"Owl Service\", \"p25\": 0.48, \"p50\": 0.62, \"p75\": 0.63, \"p50_trip\": 1, \"fastest_trip\": 0, \"car_duration_hours\": 0.4, \"competitive_route\": 1, \"bus_multiplier\": 1.55, \"bus_difference\": 13.2, \"num_trips\": 21, \"num_competitive\": 21, \"pct_trips_competitive\": 1.0, \"bus_difference_spread\": 9.0, \"route_group\": \"short\", \"max_trip_hrs\": 0.63, \"max_trip_route_group\": 0.63, \"below_cutoff\": 21, \"pct_below_cutoff\": 1.0, \"calitp_agency_name\": \"Tri Delta Transit\", \"caltrans_district\": \"04 - Oakland\", \"route_name\": \"Brentwood Park & Ride / Antioch Bart\", \"route_short_name\": \"300\", \"route_id2\": \"300\", \"cutoff2\": 20, \"cutoff\": 0}, {\"calitp_itp_id\": 336, \"trip_key\": -1790837578518963843, \"trip_id\": \"315\", \"shape_id\": \"26\", \"route_id\": \"300\", \"service_hours\": 0.62, \"trip_first_departure_ts\": 17100, \"trip_last_arrival_ts\": 19320, \"departure_hour\": 4, \"time_of_day\": \"Owl Service\", \"p25\": 0.48, \"p50\": 0.62, \"p75\": 0.63, \"p50_trip\": 1, \"fastest_trip\": 0, \"car_duration_hours\": 0.4, \"competitive_route\": 1, \"bus_multiplier\": 1.55, \"bus_difference\": 13.2, \"num_trips\": 21, \"num_competitive\": 21, \"pct_trips_competitive\": 1.0, \"bus_difference_spread\": 9.0, \"route_group\": \"short\", \"max_trip_hrs\": 0.63, \"max_trip_route_group\": 0.63, \"below_cutoff\": 21, \"pct_below_cutoff\": 1.0, \"calitp_agency_name\": \"Tri Delta Transit\", \"caltrans_district\": \"04 - Oakland\", \"route_name\": \"Brentwood Park & Ride / Antioch Bart\", \"route_short_name\": \"300\", \"route_id2\": \"300\", \"cutoff2\": 20, \"cutoff\": 0}, {\"calitp_itp_id\": 336, \"trip_key\": 3846904125504800904, \"trip_id\": \"262\", \"shape_id\": \"27\", \"route_id\": \"300\", \"service_hours\": 0.63, \"trip_first_departure_ts\": 61260, \"trip_last_arrival_ts\": 63540, \"departure_hour\": 17, \"time_of_day\": \"PM Peak\", \"p25\": 0.48, \"p50\": 0.62, \"p75\": 0.63, \"p50_trip\": 0, \"fastest_trip\": 0, \"car_duration_hours\": 0.4, \"competitive_route\": 1, \"bus_multiplier\": 1.58, \"bus_difference\": 13.8, \"num_trips\": 21, \"num_competitive\": 21, \"pct_trips_competitive\": 1.0, \"bus_difference_spread\": 9.0, \"route_group\": \"short\", \"max_trip_hrs\": 0.63, \"max_trip_route_group\": 0.63, \"below_cutoff\": 21, \"pct_below_cutoff\": 1.0, \"calitp_agency_name\": \"Tri Delta Transit\", \"caltrans_district\": \"04 - Oakland\", \"route_name\": \"Brentwood Park & Ride / Antioch Bart\", \"route_short_name\": \"300\", \"route_id2\": \"300\", \"cutoff2\": 20, \"cutoff\": 0}, {\"calitp_itp_id\": 336, \"trip_key\": -8962764604675280277, \"trip_id\": \"339\", \"shape_id\": \"27\", \"route_id\": \"300\", \"service_hours\": 0.63, \"trip_first_departure_ts\": 76620, \"trip_last_arrival_ts\": 78900, \"departure_hour\": 21, \"time_of_day\": \"Owl Service\", \"p25\": 0.48, \"p50\": 0.62, \"p75\": 0.63, \"p50_trip\": 0, \"fastest_trip\": 0, \"car_duration_hours\": 0.4, \"competitive_route\": 1, \"bus_multiplier\": 1.58, \"bus_difference\": 13.8, \"num_trips\": 21, \"num_competitive\": 21, \"pct_trips_competitive\": 1.0, \"bus_difference_spread\": 9.0, \"route_group\": \"short\", \"max_trip_hrs\": 0.63, \"max_trip_route_group\": 0.63, \"below_cutoff\": 21, \"pct_below_cutoff\": 1.0, \"calitp_agency_name\": \"Tri Delta Transit\", \"caltrans_district\": \"04 - Oakland\", \"route_name\": \"Brentwood Park & Ride / Antioch Bart\", \"route_short_name\": \"300\", \"route_id2\": \"300\", \"cutoff2\": 20, \"cutoff\": 0}, {\"calitp_itp_id\": 336, \"trip_key\": 6717230009727780825, \"trip_id\": \"203\", \"shape_id\": \"27\", \"route_id\": \"300\", \"service_hours\": 0.63, \"trip_first_departure_ts\": 31080, \"trip_last_arrival_ts\": 33360, \"departure_hour\": 8, \"time_of_day\": \"AM Peak\", \"p25\": 0.48, \"p50\": 0.62, \"p75\": 0.63, \"p50_trip\": 0, \"fastest_trip\": 0, \"car_duration_hours\": 0.4, \"competitive_route\": 1, \"bus_multiplier\": 1.58, \"bus_difference\": 13.8, \"num_trips\": 21, \"num_competitive\": 21, \"pct_trips_competitive\": 1.0, \"bus_difference_spread\": 9.0, \"route_group\": \"short\", \"max_trip_hrs\": 0.63, \"max_trip_route_group\": 0.63, \"below_cutoff\": 21, \"pct_below_cutoff\": 1.0, \"calitp_agency_name\": \"Tri Delta Transit\", \"caltrans_district\": \"04 - Oakland\", \"route_name\": \"Brentwood Park & Ride / Antioch Bart\", \"route_short_name\": \"300\", \"route_id2\": \"300\", \"cutoff2\": 20, \"cutoff\": 0}, {\"calitp_itp_id\": 336, \"trip_key\": -5519573577282112704, \"trip_id\": \"182\", \"shape_id\": \"27\", \"route_id\": \"300\", \"service_hours\": 0.63, \"trip_first_departure_ts\": 27480, \"trip_last_arrival_ts\": 29760, \"departure_hour\": 7, \"time_of_day\": \"AM Peak\", \"p25\": 0.48, \"p50\": 0.62, \"p75\": 0.63, \"p50_trip\": 0, \"fastest_trip\": 0, \"car_duration_hours\": 0.4, \"competitive_route\": 1, \"bus_multiplier\": 1.58, \"bus_difference\": 13.8, \"num_trips\": 21, \"num_competitive\": 21, \"pct_trips_competitive\": 1.0, \"bus_difference_spread\": 9.0, \"route_group\": \"short\", \"max_trip_hrs\": 0.63, \"max_trip_route_group\": 0.63, \"below_cutoff\": 21, \"pct_below_cutoff\": 1.0, \"calitp_agency_name\": \"Tri Delta Transit\", \"caltrans_district\": \"04 - Oakland\", \"route_name\": \"Brentwood Park & Ride / Antioch Bart\", \"route_short_name\": \"300\", \"route_id2\": \"300\", \"cutoff2\": 20, \"cutoff\": 0}, {\"calitp_itp_id\": 336, \"trip_key\": -6819929112498501461, \"trip_id\": \"122\", \"shape_id\": \"27\", \"route_id\": \"300\", \"service_hours\": 0.63, \"trip_first_departure_ts\": 64860, \"trip_last_arrival_ts\": 67140, \"departure_hour\": 18, \"time_of_day\": \"PM Peak\", \"p25\": 0.48, \"p50\": 0.62, \"p75\": 0.63, \"p50_trip\": 0, \"fastest_trip\": 0, \"car_duration_hours\": 0.4, \"competitive_route\": 1, \"bus_multiplier\": 1.58, \"bus_difference\": 13.8, \"num_trips\": 21, \"num_competitive\": 21, \"pct_trips_competitive\": 1.0, \"bus_difference_spread\": 9.0, \"route_group\": \"short\", \"max_trip_hrs\": 0.63, \"max_trip_route_group\": 0.63, \"below_cutoff\": 21, \"pct_below_cutoff\": 1.0, \"calitp_agency_name\": \"Tri Delta Transit\", \"caltrans_district\": \"04 - Oakland\", \"route_name\": \"Brentwood Park & Ride / Antioch Bart\", \"route_short_name\": \"300\", \"route_id2\": \"300\", \"cutoff2\": 20, \"cutoff\": 0}, {\"calitp_itp_id\": 336, \"trip_key\": 8051377406893178400, \"trip_id\": \"317\", \"shape_id\": \"27\", \"route_id\": \"300\", \"service_hours\": 0.63, \"trip_first_departure_ts\": 23880, \"trip_last_arrival_ts\": 26160, \"departure_hour\": 6, \"time_of_day\": \"Owl Service\", \"p25\": 0.48, \"p50\": 0.62, \"p75\": 0.63, \"p50_trip\": 0, \"fastest_trip\": 0, \"car_duration_hours\": 0.4, \"competitive_route\": 1, \"bus_multiplier\": 1.58, \"bus_difference\": 13.8, \"num_trips\": 21, \"num_competitive\": 21, \"pct_trips_competitive\": 1.0, \"bus_difference_spread\": 9.0, \"route_group\": \"short\", \"max_trip_hrs\": 0.63, \"max_trip_route_group\": 0.63, \"below_cutoff\": 21, \"pct_below_cutoff\": 1.0, \"calitp_agency_name\": \"Tri Delta Transit\", \"caltrans_district\": \"04 - Oakland\", \"route_name\": \"Brentwood Park & Ride / Antioch Bart\", \"route_short_name\": \"300\", \"route_id2\": \"300\", \"cutoff2\": 20, \"cutoff\": 0}, {\"calitp_itp_id\": 336, \"trip_key\": 757683327285874106, \"trip_id\": \"288\", \"shape_id\": \"27\", \"route_id\": \"300\", \"service_hours\": 0.63, \"trip_first_departure_ts\": 72960, \"trip_last_arrival_ts\": 75240, \"departure_hour\": 20, \"time_of_day\": \"Owl Service\", \"p25\": 0.48, \"p50\": 0.62, \"p75\": 0.63, \"p50_trip\": 0, \"fastest_trip\": 0, \"car_duration_hours\": 0.4, \"competitive_route\": 1, \"bus_multiplier\": 1.58, \"bus_difference\": 13.8, \"num_trips\": 21, \"num_competitive\": 21, \"pct_trips_competitive\": 1.0, \"bus_difference_spread\": 9.0, \"route_group\": \"short\", \"max_trip_hrs\": 0.63, \"max_trip_route_group\": 0.63, \"below_cutoff\": 21, \"pct_below_cutoff\": 1.0, \"calitp_agency_name\": \"Tri Delta Transit\", \"caltrans_district\": \"04 - Oakland\", \"route_name\": \"Brentwood Park & Ride / Antioch Bart\", \"route_short_name\": \"300\", \"route_id2\": \"300\", \"cutoff2\": 20, \"cutoff\": 0}, {\"calitp_itp_id\": 336, \"trip_key\": -3183400236879323333, \"trip_id\": \"189\", \"shape_id\": \"27\", \"route_id\": \"300\", \"service_hours\": 0.63, \"trip_first_departure_ts\": 57660, \"trip_last_arrival_ts\": 59940, \"departure_hour\": 16, \"time_of_day\": \"Midday\", \"p25\": 0.48, \"p50\": 0.62, \"p75\": 0.63, \"p50_trip\": 0, \"fastest_trip\": 0, \"car_duration_hours\": 0.4, \"competitive_route\": 1, \"bus_multiplier\": 1.58, \"bus_difference\": 13.8, \"num_trips\": 21, \"num_competitive\": 21, \"pct_trips_competitive\": 1.0, \"bus_difference_spread\": 9.0, \"route_group\": \"short\", \"max_trip_hrs\": 0.63, \"max_trip_route_group\": 0.63, \"below_cutoff\": 21, \"pct_below_cutoff\": 1.0, \"calitp_agency_name\": \"Tri Delta Transit\", \"caltrans_district\": \"04 - Oakland\", \"route_name\": \"Brentwood Park & Ride / Antioch Bart\", \"route_short_name\": \"300\", \"route_id2\": \"300\", \"cutoff2\": 20, \"cutoff\": 0}, {\"calitp_itp_id\": 336, \"trip_key\": -7499672029503248281, \"trip_id\": \"220\", \"shape_id\": \"27\", \"route_id\": \"300\", \"service_hours\": 0.63, \"trip_first_departure_ts\": 68460, \"trip_last_arrival_ts\": 70740, \"departure_hour\": 19, \"time_of_day\": \"PM Peak\", \"p25\": 0.48, \"p50\": 0.62, \"p75\": 0.63, \"p50_trip\": 0, \"fastest_trip\": 0, \"car_duration_hours\": 0.4, \"competitive_route\": 1, \"bus_multiplier\": 1.58, \"bus_difference\": 13.8, \"num_trips\": 21, \"num_competitive\": 21, \"pct_trips_competitive\": 1.0, \"bus_difference_spread\": 9.0, \"route_group\": \"short\", \"max_trip_hrs\": 0.63, \"max_trip_route_group\": 0.63, \"below_cutoff\": 21, \"pct_below_cutoff\": 1.0, \"calitp_agency_name\": \"Tri Delta Transit\", \"caltrans_district\": \"04 - Oakland\", \"route_name\": \"Brentwood Park & Ride / Antioch Bart\", \"route_short_name\": \"300\", \"route_id2\": \"300\", \"cutoff2\": 20, \"cutoff\": 0}, {\"calitp_itp_id\": 336, \"trip_key\": -4516334964978892887, \"trip_id\": \"159\", \"shape_id\": \"63\", \"route_id\": \"389\", \"service_hours\": 0.75, \"trip_first_departure_ts\": 66360, \"trip_last_arrival_ts\": 69060, \"departure_hour\": 18, \"time_of_day\": \"PM Peak\", \"p25\": 0.75, \"p50\": 0.75, \"p75\": 0.75, \"p50_trip\": 1, \"fastest_trip\": 0, \"car_duration_hours\": 0.5, \"competitive_route\": 1, \"bus_multiplier\": 1.5, \"bus_difference\": 15.0, \"num_trips\": 17, \"num_competitive\": 17, \"pct_trips_competitive\": 1.0, \"bus_difference_spread\": 0.0, \"route_group\": \"short\", \"max_trip_hrs\": 0.75, \"max_trip_route_group\": 0.75, \"below_cutoff\": 17, \"pct_below_cutoff\": 1.0, \"calitp_agency_name\": \"Tri Delta Transit\", \"caltrans_district\": \"04 - Oakland\", \"route_name\": \"Pittsburg-Bay Point Bart / Bay Point\", \"route_short_name\": \"389\", \"route_id2\": \"389\", \"cutoff2\": 20, \"cutoff\": 0}, {\"calitp_itp_id\": 336, \"trip_key\": 6248804897629426958, \"trip_id\": \"299\", \"shape_id\": \"63\", \"route_id\": \"389\", \"service_hours\": 0.75, \"trip_first_departure_ts\": 19560, \"trip_last_arrival_ts\": 22260, \"departure_hour\": 5, \"time_of_day\": \"Owl Service\", \"p25\": 0.75, \"p50\": 0.75, \"p75\": 0.75, \"p50_trip\": 1, \"fastest_trip\": 0, \"car_duration_hours\": 0.5, \"competitive_route\": 1, \"bus_multiplier\": 1.5, \"bus_difference\": 15.0, \"num_trips\": 17, \"num_competitive\": 17, \"pct_trips_competitive\": 1.0, \"bus_difference_spread\": 0.0, \"route_group\": \"short\", \"max_trip_hrs\": 0.75, \"max_trip_route_group\": 0.75, \"below_cutoff\": 17, \"pct_below_cutoff\": 1.0, \"calitp_agency_name\": \"Tri Delta Transit\", \"caltrans_district\": \"04 - Oakland\", \"route_name\": \"Pittsburg-Bay Point Bart / Bay Point\", \"route_short_name\": \"389\", \"route_id2\": \"389\", \"cutoff2\": 20, \"cutoff\": 0}, {\"calitp_itp_id\": 336, \"trip_key\": -6368022821152303573, \"trip_id\": \"335\", \"shape_id\": \"63\", \"route_id\": \"389\", \"service_hours\": 0.75, \"trip_first_departure_ts\": 55560, \"trip_last_arrival_ts\": 58260, \"departure_hour\": 15, \"time_of_day\": \"Midday\", \"p25\": 0.75, \"p50\": 0.75, \"p75\": 0.75, \"p50_trip\": 1, \"fastest_trip\": 0, \"car_duration_hours\": 0.5, \"competitive_route\": 1, \"bus_multiplier\": 1.5, \"bus_difference\": 15.0, \"num_trips\": 17, \"num_competitive\": 17, \"pct_trips_competitive\": 1.0, \"bus_difference_spread\": 0.0, \"route_group\": \"short\", \"max_trip_hrs\": 0.75, \"max_trip_route_group\": 0.75, \"below_cutoff\": 17, \"pct_below_cutoff\": 1.0, \"calitp_agency_name\": \"Tri Delta Transit\", \"caltrans_district\": \"04 - Oakland\", \"route_name\": \"Pittsburg-Bay Point Bart / Bay Point\", \"route_short_name\": \"389\", \"route_id2\": \"389\", \"cutoff2\": 20, \"cutoff\": 0}, {\"calitp_itp_id\": 336, \"trip_key\": 1841101944480048605, \"trip_id\": \"165\", \"shape_id\": \"63\", \"route_id\": \"389\", \"service_hours\": 0.75, \"trip_first_departure_ts\": 38160, \"trip_last_arrival_ts\": 40860, \"departure_hour\": 10, \"time_of_day\": \"Midday\", \"p25\": 0.75, \"p50\": 0.75, \"p75\": 0.75, \"p50_trip\": 1, \"fastest_trip\": 0, \"car_duration_hours\": 0.5, \"competitive_route\": 1, \"bus_multiplier\": 1.5, \"bus_difference\": 15.0, \"num_trips\": 17, \"num_competitive\": 17, \"pct_trips_competitive\": 1.0, \"bus_difference_spread\": 0.0, \"route_group\": \"short\", \"max_trip_hrs\": 0.75, \"max_trip_route_group\": 0.75, \"below_cutoff\": 17, \"pct_below_cutoff\": 1.0, \"calitp_agency_name\": \"Tri Delta Transit\", \"caltrans_district\": \"04 - Oakland\", \"route_name\": \"Pittsburg-Bay Point Bart / Bay Point\", \"route_short_name\": \"389\", \"route_id2\": \"389\", \"cutoff2\": 20, \"cutoff\": 0}, {\"calitp_itp_id\": 336, \"trip_key\": -2363506806830337797, \"trip_id\": \"349\", \"shape_id\": \"63\", \"route_id\": \"389\", \"service_hours\": 0.75, \"trip_first_departure_ts\": 30960, \"trip_last_arrival_ts\": 33660, \"departure_hour\": 8, \"time_of_day\": \"AM Peak\", \"p25\": 0.75, \"p50\": 0.75, \"p75\": 0.75, \"p50_trip\": 1, \"fastest_trip\": 0, \"car_duration_hours\": 0.5, \"competitive_route\": 1, \"bus_multiplier\": 1.5, \"bus_difference\": 15.0, \"num_trips\": 17, \"num_competitive\": 17, \"pct_trips_competitive\": 1.0, \"bus_difference_spread\": 0.0, \"route_group\": \"short\", \"max_trip_hrs\": 0.75, \"max_trip_route_group\": 0.75, \"below_cutoff\": 17, \"pct_below_cutoff\": 1.0, \"calitp_agency_name\": \"Tri Delta Transit\", \"caltrans_district\": \"04 - Oakland\", \"route_name\": \"Pittsburg-Bay Point Bart / Bay Point\", \"route_short_name\": \"389\", \"route_id2\": \"389\", \"cutoff2\": 20, \"cutoff\": 0}, {\"calitp_itp_id\": 336, \"trip_key\": -9169638097397790159, \"trip_id\": \"211\", \"shape_id\": \"63\", \"route_id\": \"389\", \"service_hours\": 0.75, \"trip_first_departure_ts\": 74400, \"trip_last_arrival_ts\": 77100, \"departure_hour\": 20, \"time_of_day\": \"Owl Service\", \"p25\": 0.75, \"p50\": 0.75, \"p75\": 0.75, \"p50_trip\": 1, \"fastest_trip\": 1, \"car_duration_hours\": 0.5, \"competitive_route\": 1, \"bus_multiplier\": 1.5, \"bus_difference\": 15.0, \"num_trips\": 17, \"num_competitive\": 17, \"pct_trips_competitive\": 1.0, \"bus_difference_spread\": 0.0, \"route_group\": \"short\", \"max_trip_hrs\": 0.75, \"max_trip_route_group\": 0.75, \"below_cutoff\": 17, \"pct_below_cutoff\": 1.0, \"calitp_agency_name\": \"Tri Delta Transit\", \"caltrans_district\": \"04 - Oakland\", \"route_name\": \"Pittsburg-Bay Point Bart / Bay Point\", \"route_short_name\": \"389\", \"route_id2\": \"389\", \"cutoff2\": 20, \"cutoff\": 0}, {\"calitp_itp_id\": 336, \"trip_key\": -4028122471752396186, \"trip_id\": \"215\", \"shape_id\": \"63\", \"route_id\": \"389\", \"service_hours\": 0.75, \"trip_first_departure_ts\": 34560, \"trip_last_arrival_ts\": 37260, \"departure_hour\": 9, \"time_of_day\": \"AM Peak\", \"p25\": 0.75, \"p50\": 0.75, \"p75\": 0.75, \"p50_trip\": 1, \"fastest_trip\": 0, \"car_duration_hours\": 0.5, \"competitive_route\": 1, \"bus_multiplier\": 1.5, \"bus_difference\": 15.0, \"num_trips\": 17, \"num_competitive\": 17, \"pct_trips_competitive\": 1.0, \"bus_difference_spread\": 0.0, \"route_group\": \"short\", \"max_trip_hrs\": 0.75, \"max_trip_route_group\": 0.75, \"below_cutoff\": 17, \"pct_below_cutoff\": 1.0, \"calitp_agency_name\": \"Tri Delta Transit\", \"caltrans_district\": \"04 - Oakland\", \"route_name\": \"Pittsburg-Bay Point Bart / Bay Point\", \"route_short_name\": \"389\", \"route_id2\": \"389\", \"cutoff2\": 20, \"cutoff\": 0}, {\"calitp_itp_id\": 336, \"trip_key\": -3876890318065204347, \"trip_id\": \"50\", \"shape_id\": \"63\", \"route_id\": \"389\", \"service_hours\": 0.75, \"trip_first_departure_ts\": 70800, \"trip_last_arrival_ts\": 73500, \"departure_hour\": 19, \"time_of_day\": \"PM Peak\", \"p25\": 0.75, \"p50\": 0.75, \"p75\": 0.75, \"p50_trip\": 1, \"fastest_trip\": 0, \"car_duration_hours\": 0.5, \"competitive_route\": 1, \"bus_multiplier\": 1.5, \"bus_difference\": 15.0, \"num_trips\": 17, \"num_competitive\": 17, \"pct_trips_competitive\": 1.0, \"bus_difference_spread\": 0.0, \"route_group\": \"short\", \"max_trip_hrs\": 0.75, \"max_trip_route_group\": 0.75, \"below_cutoff\": 17, \"pct_below_cutoff\": 1.0, \"calitp_agency_name\": \"Tri Delta Transit\", \"caltrans_district\": \"04 - Oakland\", \"route_name\": \"Pittsburg-Bay Point Bart / Bay Point\", \"route_short_name\": \"389\", \"route_id2\": \"389\", \"cutoff2\": 20, \"cutoff\": 0}, {\"calitp_itp_id\": 336, \"trip_key\": 9006479579654062379, \"trip_id\": \"18\", \"shape_id\": \"63\", \"route_id\": \"389\", \"service_hours\": 0.75, \"trip_first_departure_ts\": 41760, \"trip_last_arrival_ts\": 44460, \"departure_hour\": 11, \"time_of_day\": \"Midday\", \"p25\": 0.75, \"p50\": 0.75, \"p75\": 0.75, \"p50_trip\": 1, \"fastest_trip\": 0, \"car_duration_hours\": 0.5, \"competitive_route\": 1, \"bus_multiplier\": 1.5, \"bus_difference\": 15.0, \"num_trips\": 17, \"num_competitive\": 17, \"pct_trips_competitive\": 1.0, \"bus_difference_spread\": 0.0, \"route_group\": \"short\", \"max_trip_hrs\": 0.75, \"max_trip_route_group\": 0.75, \"below_cutoff\": 17, \"pct_below_cutoff\": 1.0, \"calitp_agency_name\": \"Tri Delta Transit\", \"caltrans_district\": \"04 - Oakland\", \"route_name\": \"Pittsburg-Bay Point Bart / Bay Point\", \"route_short_name\": \"389\", \"route_id2\": \"389\", \"cutoff2\": 20, \"cutoff\": 0}, {\"calitp_itp_id\": 336, \"trip_key\": 2533656649093970127, \"trip_id\": \"298\", \"shape_id\": \"63\", \"route_id\": \"389\", \"service_hours\": 0.75, \"trip_first_departure_ts\": 16560, \"trip_last_arrival_ts\": 19260, \"departure_hour\": 4, \"time_of_day\": \"Owl Service\", \"p25\": 0.75, \"p50\": 0.75, \"p75\": 0.75, \"p50_trip\": 1, \"fastest_trip\": 0, \"car_duration_hours\": 0.5, \"competitive_route\": 1, \"bus_multiplier\": 1.5, \"bus_difference\": 15.0, \"num_trips\": 17, \"num_competitive\": 17, \"pct_trips_competitive\": 1.0, \"bus_difference_spread\": 0.0, \"route_group\": \"short\", \"max_trip_hrs\": 0.75, \"max_trip_route_group\": 0.75, \"below_cutoff\": 17, \"pct_below_cutoff\": 1.0, \"calitp_agency_name\": \"Tri Delta Transit\", \"caltrans_district\": \"04 - Oakland\", \"route_name\": \"Pittsburg-Bay Point Bart / Bay Point\", \"route_short_name\": \"389\", \"route_id2\": \"389\", \"cutoff2\": 20, \"cutoff\": 0}, {\"calitp_itp_id\": 336, \"trip_key\": -8533807750394997149, \"trip_id\": \"286\", \"shape_id\": \"63\", \"route_id\": \"389\", \"service_hours\": 0.75, \"trip_first_departure_ts\": 63180, \"trip_last_arrival_ts\": 65880, \"departure_hour\": 17, \"time_of_day\": \"PM Peak\", \"p25\": 0.75, \"p50\": 0.75, \"p75\": 0.75, \"p50_trip\": 1, \"fastest_trip\": 0, \"car_duration_hours\": 0.5, \"competitive_route\": 1, \"bus_multiplier\": 1.5, \"bus_difference\": 15.0, \"num_trips\": 17, \"num_competitive\": 17, \"pct_trips_competitive\": 1.0, \"bus_difference_spread\": 0.0, \"route_group\": \"short\", \"max_trip_hrs\": 0.75, \"max_trip_route_group\": 0.75, \"below_cutoff\": 17, \"pct_below_cutoff\": 1.0, \"calitp_agency_name\": \"Tri Delta Transit\", \"caltrans_district\": \"04 - Oakland\", \"route_name\": \"Pittsburg-Bay Point Bart / Bay Point\", \"route_short_name\": \"389\", \"route_id2\": \"389\", \"cutoff2\": 20, \"cutoff\": 0}, {\"calitp_itp_id\": 336, \"trip_key\": -3226386426991294876, \"trip_id\": \"5\", \"shape_id\": \"63\", \"route_id\": \"389\", \"service_hours\": 0.75, \"trip_first_departure_ts\": 48960, \"trip_last_arrival_ts\": 51660, \"departure_hour\": 13, \"time_of_day\": \"Midday\", \"p25\": 0.75, \"p50\": 0.75, \"p75\": 0.75, \"p50_trip\": 1, \"fastest_trip\": 0, \"car_duration_hours\": 0.5, \"competitive_route\": 1, \"bus_multiplier\": 1.5, \"bus_difference\": 15.0, \"num_trips\": 17, \"num_competitive\": 17, \"pct_trips_competitive\": 1.0, \"bus_difference_spread\": 0.0, \"route_group\": \"short\", \"max_trip_hrs\": 0.75, \"max_trip_route_group\": 0.75, \"below_cutoff\": 17, \"pct_below_cutoff\": 1.0, \"calitp_agency_name\": \"Tri Delta Transit\", \"caltrans_district\": \"04 - Oakland\", \"route_name\": \"Pittsburg-Bay Point Bart / Bay Point\", \"route_short_name\": \"389\", \"route_id2\": \"389\", \"cutoff2\": 20, \"cutoff\": 0}, {\"calitp_itp_id\": 336, \"trip_key\": -8567373102071165085, \"trip_id\": \"206\", \"shape_id\": \"63\", \"route_id\": \"389\", \"service_hours\": 0.75, \"trip_first_departure_ts\": 45360, \"trip_last_arrival_ts\": 48060, \"departure_hour\": 12, \"time_of_day\": \"Midday\", \"p25\": 0.75, \"p50\": 0.75, \"p75\": 0.75, \"p50_trip\": 1, \"fastest_trip\": 0, \"car_duration_hours\": 0.5, \"competitive_route\": 1, \"bus_multiplier\": 1.5, \"bus_difference\": 15.0, \"num_trips\": 17, \"num_competitive\": 17, \"pct_trips_competitive\": 1.0, \"bus_difference_spread\": 0.0, \"route_group\": \"short\", \"max_trip_hrs\": 0.75, \"max_trip_route_group\": 0.75, \"below_cutoff\": 17, \"pct_below_cutoff\": 1.0, \"calitp_agency_name\": \"Tri Delta Transit\", \"caltrans_district\": \"04 - Oakland\", \"route_name\": \"Pittsburg-Bay Point Bart / Bay Point\", \"route_short_name\": \"389\", \"route_id2\": \"389\", \"cutoff2\": 20, \"cutoff\": 0}, {\"calitp_itp_id\": 336, \"trip_key\": 654490563874909058, \"trip_id\": \"343\", \"shape_id\": \"63\", \"route_id\": \"389\", \"service_hours\": 0.75, \"trip_first_departure_ts\": 23160, \"trip_last_arrival_ts\": 25860, \"departure_hour\": 6, \"time_of_day\": \"Owl Service\", \"p25\": 0.75, \"p50\": 0.75, \"p75\": 0.75, \"p50_trip\": 1, \"fastest_trip\": 0, \"car_duration_hours\": 0.5, \"competitive_route\": 1, \"bus_multiplier\": 1.5, \"bus_difference\": 15.0, \"num_trips\": 17, \"num_competitive\": 17, \"pct_trips_competitive\": 1.0, \"bus_difference_spread\": 0.0, \"route_group\": \"short\", \"max_trip_hrs\": 0.75, \"max_trip_route_group\": 0.75, \"below_cutoff\": 17, \"pct_below_cutoff\": 1.0, \"calitp_agency_name\": \"Tri Delta Transit\", \"caltrans_district\": \"04 - Oakland\", \"route_name\": \"Pittsburg-Bay Point Bart / Bay Point\", \"route_short_name\": \"389\", \"route_id2\": \"389\", \"cutoff2\": 20, \"cutoff\": 0}, {\"calitp_itp_id\": 336, \"trip_key\": -1427182616917798899, \"trip_id\": \"344\", \"shape_id\": \"63\", \"route_id\": \"389\", \"service_hours\": 0.75, \"trip_first_departure_ts\": 26340, \"trip_last_arrival_ts\": 29040, \"departure_hour\": 7, \"time_of_day\": \"AM Peak\", \"p25\": 0.75, \"p50\": 0.75, \"p75\": 0.75, \"p50_trip\": 1, \"fastest_trip\": 0, \"car_duration_hours\": 0.5, \"competitive_route\": 1, \"bus_multiplier\": 1.5, \"bus_difference\": 15.0, \"num_trips\": 17, \"num_competitive\": 17, \"pct_trips_competitive\": 1.0, \"bus_difference_spread\": 0.0, \"route_group\": \"short\", \"max_trip_hrs\": 0.75, \"max_trip_route_group\": 0.75, \"below_cutoff\": 17, \"pct_below_cutoff\": 1.0, \"calitp_agency_name\": \"Tri Delta Transit\", \"caltrans_district\": \"04 - Oakland\", \"route_name\": \"Pittsburg-Bay Point Bart / Bay Point\", \"route_short_name\": \"389\", \"route_id2\": \"389\", \"cutoff2\": 20, \"cutoff\": 0}, {\"calitp_itp_id\": 336, \"trip_key\": 7578027158838420240, \"trip_id\": \"276\", \"shape_id\": \"63\", \"route_id\": \"389\", \"service_hours\": 0.75, \"trip_first_departure_ts\": 59160, \"trip_last_arrival_ts\": 61860, \"departure_hour\": 16, \"time_of_day\": \"Midday\", \"p25\": 0.75, \"p50\": 0.75, \"p75\": 0.75, \"p50_trip\": 1, \"fastest_trip\": 0, \"car_duration_hours\": 0.5, \"competitive_route\": 1, \"bus_multiplier\": 1.5, \"bus_difference\": 15.0, \"num_trips\": 17, \"num_competitive\": 17, \"pct_trips_competitive\": 1.0, \"bus_difference_spread\": 0.0, \"route_group\": \"short\", \"max_trip_hrs\": 0.75, \"max_trip_route_group\": 0.75, \"below_cutoff\": 17, \"pct_below_cutoff\": 1.0, \"calitp_agency_name\": \"Tri Delta Transit\", \"caltrans_district\": \"04 - Oakland\", \"route_name\": \"Pittsburg-Bay Point Bart / Bay Point\", \"route_short_name\": \"389\", \"route_id2\": \"389\", \"cutoff2\": 20, \"cutoff\": 0}, {\"calitp_itp_id\": 336, \"trip_key\": -677869521889259212, \"trip_id\": \"334\", \"shape_id\": \"63\", \"route_id\": \"389\", \"service_hours\": 0.75, \"trip_first_departure_ts\": 52560, \"trip_last_arrival_ts\": 55260, \"departure_hour\": 14, \"time_of_day\": \"Midday\", \"p25\": 0.75, \"p50\": 0.75, \"p75\": 0.75, \"p50_trip\": 1, \"fastest_trip\": 0, \"car_duration_hours\": 0.5, \"competitive_route\": 1, \"bus_multiplier\": 1.5, \"bus_difference\": 15.0, \"num_trips\": 17, \"num_competitive\": 17, \"pct_trips_competitive\": 1.0, \"bus_difference_spread\": 0.0, \"route_group\": \"short\", \"max_trip_hrs\": 0.75, \"max_trip_route_group\": 0.75, \"below_cutoff\": 17, \"pct_below_cutoff\": 1.0, \"calitp_agency_name\": \"Tri Delta Transit\", \"caltrans_district\": \"04 - Oakland\", \"route_name\": \"Pittsburg-Bay Point Bart / Bay Point\", \"route_short_name\": \"389\", \"route_id2\": \"389\", \"cutoff2\": 20, \"cutoff\": 0}, {\"calitp_itp_id\": 336, \"trip_key\": -6260223717104600245, \"trip_id\": \"39\", \"shape_id\": \"7\", \"route_id\": \"390\", \"service_hours\": 0.78, \"trip_first_departure_ts\": 71100, \"trip_last_arrival_ts\": 73920, \"departure_hour\": 19, \"time_of_day\": \"PM Peak\", \"p25\": 0.82, \"p50\": 0.9, \"p75\": 0.92, \"p50_trip\": 0, \"fastest_trip\": 1, \"car_duration_hours\": 0.63, \"competitive_route\": 1, \"bus_multiplier\": 1.24, \"bus_difference\": 9.0, \"num_trips\": 9, \"num_competitive\": 9, \"pct_trips_competitive\": 1.0, \"bus_difference_spread\": 10.2, \"route_group\": \"short\", \"max_trip_hrs\": 0.95, \"max_trip_route_group\": 0.95, \"below_cutoff\": 9, \"pct_below_cutoff\": 1.0, \"calitp_agency_name\": \"Tri Delta Transit\", \"caltrans_district\": \"04 - Oakland\", \"route_name\": \"Antioch Bart / Pittsburg-Bay Point Bart\", \"route_short_name\": \"390\", \"route_id2\": \"390\", \"cutoff2\": 20, \"cutoff\": 0}, {\"calitp_itp_id\": 336, \"trip_key\": -3387021444805663653, \"trip_id\": \"295\", \"shape_id\": \"7\", \"route_id\": \"390\", \"service_hours\": 0.82, \"trip_first_departure_ts\": 67500, \"trip_last_arrival_ts\": 70440, \"departure_hour\": 18, \"time_of_day\": \"PM Peak\", \"p25\": 0.82, \"p50\": 0.9, \"p75\": 0.92, \"p50_trip\": 0, \"fastest_trip\": 0, \"car_duration_hours\": 0.63, \"competitive_route\": 1, \"bus_multiplier\": 1.3, \"bus_difference\": 11.4, \"num_trips\": 9, \"num_competitive\": 9, \"pct_trips_competitive\": 1.0, \"bus_difference_spread\": 10.2, \"route_group\": \"short\", \"max_trip_hrs\": 0.95, \"max_trip_route_group\": 0.95, \"below_cutoff\": 9, \"pct_below_cutoff\": 1.0, \"calitp_agency_name\": \"Tri Delta Transit\", \"caltrans_district\": \"04 - Oakland\", \"route_name\": \"Antioch Bart / Pittsburg-Bay Point Bart\", \"route_short_name\": \"390\", \"route_id2\": \"390\", \"cutoff2\": 20, \"cutoff\": 0}, {\"calitp_itp_id\": 336, \"trip_key\": 9123605031033432589, \"trip_id\": \"209\", \"shape_id\": \"7\", \"route_id\": \"390\", \"service_hours\": 0.82, \"trip_first_departure_ts\": 63900, \"trip_last_arrival_ts\": 66840, \"departure_hour\": 17, \"time_of_day\": \"PM Peak\", \"p25\": 0.82, \"p50\": 0.9, \"p75\": 0.92, \"p50_trip\": 0, \"fastest_trip\": 0, \"car_duration_hours\": 0.63, \"competitive_route\": 1, \"bus_multiplier\": 1.3, \"bus_difference\": 11.4, \"num_trips\": 9, \"num_competitive\": 9, \"pct_trips_competitive\": 1.0, \"bus_difference_spread\": 10.2, \"route_group\": \"short\", \"max_trip_hrs\": 0.95, \"max_trip_route_group\": 0.95, \"below_cutoff\": 9, \"pct_below_cutoff\": 1.0, \"calitp_agency_name\": \"Tri Delta Transit\", \"caltrans_district\": \"04 - Oakland\", \"route_name\": \"Antioch Bart / Pittsburg-Bay Point Bart\", \"route_short_name\": \"390\", \"route_id2\": \"390\", \"cutoff2\": 20, \"cutoff\": 0}, {\"calitp_itp_id\": 336, \"trip_key\": -3181578854684854068, \"trip_id\": \"336\", \"shape_id\": \"7\", \"route_id\": \"390\", \"service_hours\": 0.82, \"trip_first_departure_ts\": 60300, \"trip_last_arrival_ts\": 63240, \"departure_hour\": 16, \"time_of_day\": \"Midday\", \"p25\": 0.82, \"p50\": 0.9, \"p75\": 0.92, \"p50_trip\": 0, \"fastest_trip\": 0, \"car_duration_hours\": 0.63, \"competitive_route\": 1, \"bus_multiplier\": 1.3, \"bus_difference\": 11.4, \"num_trips\": 9, \"num_competitive\": 9, \"pct_trips_competitive\": 1.0, \"bus_difference_spread\": 10.2, \"route_group\": \"short\", \"max_trip_hrs\": 0.95, \"max_trip_route_group\": 0.95, \"below_cutoff\": 9, \"pct_below_cutoff\": 1.0, \"calitp_agency_name\": \"Tri Delta Transit\", \"caltrans_district\": \"04 - Oakland\", \"route_name\": \"Antioch Bart / Pittsburg-Bay Point Bart\", \"route_short_name\": \"390\", \"route_id2\": \"390\", \"cutoff2\": 20, \"cutoff\": 0}, {\"calitp_itp_id\": 336, \"trip_key\": -3398492314336586397, \"trip_id\": \"183\", \"shape_id\": \"16\", \"route_id\": \"390\", \"service_hours\": 0.9, \"trip_first_departure_ts\": 24120, \"trip_last_arrival_ts\": 27360, \"departure_hour\": 6, \"time_of_day\": \"Owl Service\", \"p25\": 0.82, \"p50\": 0.9, \"p75\": 0.92, \"p50_trip\": 1, \"fastest_trip\": 0, \"car_duration_hours\": 0.63, \"competitive_route\": 1, \"bus_multiplier\": 1.43, \"bus_difference\": 16.2, \"num_trips\": 9, \"num_competitive\": 9, \"pct_trips_competitive\": 1.0, \"bus_difference_spread\": 10.2, \"route_group\": \"short\", \"max_trip_hrs\": 0.95, \"max_trip_route_group\": 0.95, \"below_cutoff\": 9, \"pct_below_cutoff\": 1.0, \"calitp_agency_name\": \"Tri Delta Transit\", \"caltrans_district\": \"04 - Oakland\", \"route_name\": \"Antioch Bart / Pittsburg-Bay Point Bart\", \"route_short_name\": \"390\", \"route_id2\": \"390\", \"cutoff2\": 20, \"cutoff\": 0}, {\"calitp_itp_id\": 336, \"trip_key\": -6074753833568489764, \"trip_id\": \"306\", \"shape_id\": \"16\", \"route_id\": \"390\", \"service_hours\": 0.92, \"trip_first_departure_ts\": 17400, \"trip_last_arrival_ts\": 20700, \"departure_hour\": 4, \"time_of_day\": \"Owl Service\", \"p25\": 0.82, \"p50\": 0.9, \"p75\": 0.92, \"p50_trip\": 0, \"fastest_trip\": 0, \"car_duration_hours\": 0.63, \"competitive_route\": 1, \"bus_multiplier\": 1.46, \"bus_difference\": 17.4, \"num_trips\": 9, \"num_competitive\": 9, \"pct_trips_competitive\": 1.0, \"bus_difference_spread\": 10.2, \"route_group\": \"short\", \"max_trip_hrs\": 0.95, \"max_trip_route_group\": 0.95, \"below_cutoff\": 9, \"pct_below_cutoff\": 1.0, \"calitp_agency_name\": \"Tri Delta Transit\", \"caltrans_district\": \"04 - Oakland\", \"route_name\": \"Antioch Bart / Pittsburg-Bay Point Bart\", \"route_short_name\": \"390\", \"route_id2\": \"390\", \"cutoff2\": 20, \"cutoff\": 0}, {\"calitp_itp_id\": 336, \"trip_key\": -2530239657630680185, \"trip_id\": \"297\", \"shape_id\": \"16\", \"route_id\": \"390\", \"service_hours\": 0.92, \"trip_first_departure_ts\": 12900, \"trip_last_arrival_ts\": 16200, \"departure_hour\": 3, \"time_of_day\": \"Owl Service\", \"p25\": 0.82, \"p50\": 0.9, \"p75\": 0.92, \"p50_trip\": 0, \"fastest_trip\": 0, \"car_duration_hours\": 0.63, \"competitive_route\": 1, \"bus_multiplier\": 1.46, \"bus_difference\": 17.4, \"num_trips\": 9, \"num_competitive\": 9, \"pct_trips_competitive\": 1.0, \"bus_difference_spread\": 10.2, \"route_group\": \"short\", \"max_trip_hrs\": 0.95, \"max_trip_route_group\": 0.95, \"below_cutoff\": 9, \"pct_below_cutoff\": 1.0, \"calitp_agency_name\": \"Tri Delta Transit\", \"caltrans_district\": \"04 - Oakland\", \"route_name\": \"Antioch Bart / Pittsburg-Bay Point Bart\", \"route_short_name\": \"390\", \"route_id2\": \"390\", \"cutoff2\": 20, \"cutoff\": 0}, {\"calitp_itp_id\": 336, \"trip_key\": -7904319697205535131, \"trip_id\": \"78\", \"shape_id\": \"16\", \"route_id\": \"390\", \"service_hours\": 0.95, \"trip_first_departure_ts\": 21000, \"trip_last_arrival_ts\": 24420, \"departure_hour\": 5, \"time_of_day\": \"Owl Service\", \"p25\": 0.82, \"p50\": 0.9, \"p75\": 0.92, \"p50_trip\": 0, \"fastest_trip\": 0, \"car_duration_hours\": 0.63, \"competitive_route\": 1, \"bus_multiplier\": 1.51, \"bus_difference\": 19.2, \"num_trips\": 9, \"num_competitive\": 9, \"pct_trips_competitive\": 1.0, \"bus_difference_spread\": 10.2, \"route_group\": \"short\", \"max_trip_hrs\": 0.95, \"max_trip_route_group\": 0.95, \"below_cutoff\": 9, \"pct_below_cutoff\": 1.0, \"calitp_agency_name\": \"Tri Delta Transit\", \"caltrans_district\": \"04 - Oakland\", \"route_name\": \"Antioch Bart / Pittsburg-Bay Point Bart\", \"route_short_name\": \"390\", \"route_id2\": \"390\", \"cutoff2\": 20, \"cutoff\": 0}, {\"calitp_itp_id\": 336, \"trip_key\": 9104313909335265965, \"trip_id\": \"124\", \"shape_id\": \"16\", \"route_id\": \"390\", \"service_hours\": 0.95, \"trip_first_departure_ts\": 25740, \"trip_last_arrival_ts\": 29160, \"departure_hour\": 7, \"time_of_day\": \"AM Peak\", \"p25\": 0.82, \"p50\": 0.9, \"p75\": 0.92, \"p50_trip\": 0, \"fastest_trip\": 0, \"car_duration_hours\": 0.63, \"competitive_route\": 1, \"bus_multiplier\": 1.51, \"bus_difference\": 19.2, \"num_trips\": 9, \"num_competitive\": 9, \"pct_trips_competitive\": 1.0, \"bus_difference_spread\": 10.2, \"route_group\": \"short\", \"max_trip_hrs\": 0.95, \"max_trip_route_group\": 0.95, \"below_cutoff\": 9, \"pct_below_cutoff\": 1.0, \"calitp_agency_name\": \"Tri Delta Transit\", \"caltrans_district\": \"04 - Oakland\", \"route_name\": \"Antioch Bart / Pittsburg-Bay Point Bart\", \"route_short_name\": \"390\", \"route_id2\": \"390\", \"cutoff2\": 20, \"cutoff\": 0}]}}, {\"mode\": \"vega-lite\"});\n",
       "</script>"
      ],
      "text/plain": [
       "alt.FacetChart(...)"
      ]
     },
     "metadata": {},
     "output_type": "display_data"
    },
    {
     "name": "stdout",
     "output_type": "stream",
     "text": [
      "Fewer than 2 routes meet this criteria.\n"
     ]
    }
   ],
   "source": [
    "route_group = \"short\"\n",
    "try:\n",
    "    display_charts_for_route_group(df, route_group)\n",
    "except:\n",
    "    print(no_display_statement)"
   ]
  },
  {
   "cell_type": "markdown",
   "id": "c2931b6f-034d-4384-9e14-80b925e3b820",
   "metadata": {
    "papermill": {
     "duration": 0.019084,
     "end_time": "2022-06-03T20:37:47.885015",
     "exception": false,
     "start_time": "2022-06-03T20:37:47.865931",
     "status": "completed"
    },
    "tags": []
   },
   "source": [
    "### Medium Routes (1-1.5 hrs)"
   ]
  },
  {
   "cell_type": "code",
   "execution_count": 17,
   "id": "480edddc-4de0-48c2-ae4c-b0ceef8f28b5",
   "metadata": {
    "execution": {
     "iopub.execute_input": "2022-06-03T20:37:47.925257Z",
     "iopub.status.busy": "2022-06-03T20:37:47.924479Z",
     "iopub.status.idle": "2022-06-03T20:37:47.942680Z",
     "shell.execute_reply": "2022-06-03T20:37:47.941913Z"
    },
    "jupyter": {
     "source_hidden": true
    },
    "papermill": {
     "duration": 0.040662,
     "end_time": "2022-06-03T20:37:47.944546",
     "exception": false,
     "start_time": "2022-06-03T20:37:47.903884",
     "status": "completed"
    },
    "tags": [
     "remove_input"
    ]
   },
   "outputs": [
    {
     "name": "stdout",
     "output_type": "stream",
     "text": [
      "Fewer than 2 routes meet this criteria.\n"
     ]
    }
   ],
   "source": [
    "route_group = \"medium\"\n",
    "try:\n",
    "    display_charts_for_route_group(df, route_group)\n",
    "except:\n",
    "    print(no_display_statement)"
   ]
  },
  {
   "cell_type": "markdown",
   "id": "124b76d0-886c-4d03-92ac-f1bda3cda182",
   "metadata": {
    "papermill": {
     "duration": 0.019476,
     "end_time": "2022-06-03T20:37:47.983958",
     "exception": false,
     "start_time": "2022-06-03T20:37:47.964482",
     "status": "completed"
    },
    "tags": []
   },
   "source": [
    "### Long Routes (> 1.5 hrs)"
   ]
  },
  {
   "cell_type": "code",
   "execution_count": 18,
   "id": "ddc81b19-4c45-4c81-8b7a-5e0f394aa7a3",
   "metadata": {
    "execution": {
     "iopub.execute_input": "2022-06-03T20:37:48.026298Z",
     "iopub.status.busy": "2022-06-03T20:37:48.024728Z",
     "iopub.status.idle": "2022-06-03T20:37:48.043203Z",
     "shell.execute_reply": "2022-06-03T20:37:48.042267Z"
    },
    "jupyter": {
     "source_hidden": true
    },
    "papermill": {
     "duration": 0.041198,
     "end_time": "2022-06-03T20:37:48.045167",
     "exception": false,
     "start_time": "2022-06-03T20:37:48.003969",
     "status": "completed"
    },
    "tags": [
     "remove_input"
    ]
   },
   "outputs": [
    {
     "name": "stdout",
     "output_type": "stream",
     "text": [
      "Fewer than 2 routes meet this criteria.\n"
     ]
    }
   ],
   "source": [
    "route_group = \"long\"\n",
    "try:\n",
    "    display_charts_for_route_group(df, route_group)\n",
    "except:\n",
    "    print(no_display_statement)"
   ]
  },
  {
   "cell_type": "markdown",
   "id": "ace75b5f-0442-4fbe-aebd-6c3a13ae13a7",
   "metadata": {
    "papermill": {
     "duration": 0.020121,
     "end_time": "2022-06-03T20:37:48.085139",
     "exception": false,
     "start_time": "2022-06-03T20:37:48.065018",
     "status": "completed"
    },
    "tags": []
   },
   "source": [
    "### GTFS Real-Time Speedmaps"
   ]
  },
  {
   "cell_type": "code",
   "execution_count": 19,
   "id": "a0a114a1-e975-4027-9daf-50029f5ef59f",
   "metadata": {
    "execution": {
     "iopub.execute_input": "2022-06-03T20:37:48.127127Z",
     "iopub.status.busy": "2022-06-03T20:37:48.126191Z",
     "iopub.status.idle": "2022-06-03T20:37:48.159625Z",
     "shell.execute_reply": "2022-06-03T20:37:48.159030Z"
    },
    "jupyter": {
     "source_hidden": true
    },
    "papermill": {
     "duration": 0.056678,
     "end_time": "2022-06-03T20:37:48.161490",
     "exception": false,
     "start_time": "2022-06-03T20:37:48.104812",
     "status": "completed"
    },
    "tags": [
     "remove_input"
    ]
   },
   "outputs": [
    {
     "data": {
      "text/html": [
       "<a href=https://analysis.calitp.org/rt/district_04-oakland/speedmaps__itp_id_336.html>GTFS RT speedmaps here.</a>"
      ],
      "text/plain": [
       "<IPython.core.display.HTML object>"
      ]
     },
     "metadata": {},
     "output_type": "display_data"
    }
   ],
   "source": [
    "RT_SITE_YAML = \"../portfolio/sites/rt.yml\"\n",
    "\n",
    "# Grab list of ITP IDs with GTFS RT speedmaps\n",
    "rt_itp_id = deploy_portfolio_yaml.check_if_rt_data_available(RT_SITE_YAML)\n",
    "\n",
    "# Construct the URL \n",
    "RT_URL = (\"https://analysis.calitp.org/rt/\"\n",
    "          f\"district_{district_number}-{district_name}/\"\n",
    "          f\"speedmaps__itp_id_{itp_id}.html\"\n",
    "         ) \n",
    "\n",
    "# If this ITP ID is found in RT analysis, give URL to that operator in analysis.calitp.org\n",
    "if itp_id in rt_itp_id:\n",
    "    display(HTML(f'''<a href={RT_URL}>GTFS RT speedmaps here.</a>'''))\n",
    "\n",
    "else:\n",
    "    display(HTML(\"No GTFS RT data available.\"))"
   ]
  },
  {
   "cell_type": "code",
   "execution_count": null,
   "id": "5b680565-2230-4f2e-817c-718fad48d64c",
   "metadata": {
    "jupyter": {
     "source_hidden": true
    },
    "papermill": {
     "duration": 0.036639,
     "end_time": "2022-06-03T20:37:48.217862",
     "exception": false,
     "start_time": "2022-06-03T20:37:48.181223",
     "status": "completed"
    },
    "tags": [
     "remove_input"
    ]
   },
   "outputs": [],
   "source": []
  }
 ],
 "metadata": {
  "kernelspec": {
   "display_name": "Python 3 (ipykernel)",
   "language": "python",
   "name": "python3"
  },
  "language_info": {
   "codemirror_mode": {
    "name": "ipython",
    "version": 3
   },
   "file_extension": ".py",
   "mimetype": "text/x-python",
   "name": "python",
   "nbconvert_exporter": "python",
   "pygments_lexer": "ipython3",
   "version": "3.9.12"
  },
  "papermill": {
   "default_parameters": {},
   "duration": 25.503749,
   "end_time": "2022-06-03T20:37:49.564355",
   "environment_variables": {},
   "exception": null,
   "input_path": "bus_service_increase/competitive-parallel-routes.ipynb",
   "output_path": "portfolio/parallel_corridors/district_04-oakland/18__competitive-parallel-routes__district_04-oakland__itp_id_336.ipynb",
   "parameters": {
    "district": "04 - Oakland",
    "itp_id": 336
   },
   "start_time": "2022-06-03T20:37:24.060606",
   "version": "2.3.4"
  }
 },
 "nbformat": 4,
 "nbformat_minor": 5
}