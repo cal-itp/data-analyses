{
 "cells": [
  {
   "cell_type": "code",
   "execution_count": 1,
   "id": "95d00857-6a20-4529-a519-2cc7182928a9",
   "metadata": {
    "execution": {
     "iopub.execute_input": "2022-06-03T21:52:51.514012Z",
     "iopub.status.busy": "2022-06-03T21:52:51.513670Z",
     "iopub.status.idle": "2022-06-03T21:53:00.163277Z",
     "shell.execute_reply": "2022-06-03T21:53:00.162170Z"
    },
    "jupyter": {
     "source_hidden": true
    },
    "papermill": {
     "duration": 8.667385,
     "end_time": "2022-06-03T21:53:00.166134",
     "exception": false,
     "start_time": "2022-06-03T21:52:51.498749",
     "status": "completed"
    },
    "tags": [
     "remove_input"
    ]
   },
   "outputs": [],
   "source": [
    "%%capture\n",
    "import warnings\n",
    "warnings.filterwarnings('ignore')\n",
    "\n",
    "import altair as alt\n",
    "import calitp.magics\n",
    "import geopandas as gpd\n",
    "import intake\n",
    "import pandas as pd\n",
    "\n",
    "from IPython.display import display, Markdown, HTML\n",
    "\n",
    "import parallel_corridors_utils\n",
    "import deploy_portfolio_yaml\n",
    "from shared_utils import styleguide, geography_utils\n",
    "from E5_make_stripplot_data import diff_cutoffs\n",
    "\n",
    "catalog = intake.open_catalog(\"./*.yml\")\n",
    "alt.renderers.enable(\"html\")"
   ]
  },
  {
   "cell_type": "code",
   "execution_count": 2,
   "id": "8af2a0c1-f3da-408d-9bea-11d9fbf8695d",
   "metadata": {
    "execution": {
     "iopub.execute_input": "2022-06-03T21:53:00.194304Z",
     "iopub.status.busy": "2022-06-03T21:53:00.193963Z",
     "iopub.status.idle": "2022-06-03T21:53:00.198379Z",
     "shell.execute_reply": "2022-06-03T21:53:00.197468Z"
    },
    "jupyter": {
     "source_hidden": true
    },
    "papermill": {
     "duration": 0.020086,
     "end_time": "2022-06-03T21:53:00.200225",
     "exception": false,
     "start_time": "2022-06-03T21:53:00.180139",
     "status": "completed"
    },
    "tags": [
     "parameters",
     "remove_input"
    ]
   },
   "outputs": [],
   "source": [
    "# parameters cell\n",
    "itp_id = 182"
   ]
  },
  {
   "cell_type": "code",
   "execution_count": 3,
   "id": "c3a87f7a",
   "metadata": {
    "execution": {
     "iopub.execute_input": "2022-06-03T21:53:00.230366Z",
     "iopub.status.busy": "2022-06-03T21:53:00.229687Z",
     "iopub.status.idle": "2022-06-03T21:53:00.242398Z",
     "shell.execute_reply": "2022-06-03T21:53:00.241625Z"
    },
    "jupyter": {
     "source_hidden": true
    },
    "papermill": {
     "duration": 0.029549,
     "end_time": "2022-06-03T21:53:00.244583",
     "exception": false,
     "start_time": "2022-06-03T21:53:00.215034",
     "status": "completed"
    },
    "tags": [
     "injected-parameters",
     "remove_input"
    ]
   },
   "outputs": [],
   "source": [
    "# Parameters\n",
    "district = \"04 - Oakland\"\n",
    "itp_id = 246\n"
   ]
  },
  {
   "cell_type": "code",
   "execution_count": 4,
   "id": "9582aaf4-79ff-412a-b248-8d8d693ebd4f",
   "metadata": {
    "execution": {
     "iopub.execute_input": "2022-06-03T21:53:00.271537Z",
     "iopub.status.busy": "2022-06-03T21:53:00.270547Z",
     "iopub.status.idle": "2022-06-03T21:53:01.604033Z",
     "shell.execute_reply": "2022-06-03T21:53:01.603036Z"
    },
    "jupyter": {
     "source_hidden": true
    },
    "papermill": {
     "duration": 1.349939,
     "end_time": "2022-06-03T21:53:01.606761",
     "exception": false,
     "start_time": "2022-06-03T21:53:00.256822",
     "status": "completed"
    },
    "tags": [
     "remove_input"
    ]
   },
   "outputs": [],
   "source": [
    "df = catalog.competitive_route_variability.read()\n",
    "\n",
    "df = (df[(df.calitp_itp_id == itp_id) & \n",
    "         (df.route_group.notna())]\n",
    "      .rename(columns = {\"route_name_used\": \"route_name\"})\n",
    "      .reset_index(drop=True)\n",
    "     )\n",
    "\n",
    "\n",
    "if itp_id == 182:\n",
    "    df = df.assign(\n",
    "        route_id = df.route_id.str.replace('-13153', '')\n",
    "    )\n",
    "\n",
    "# Use route_short_name instead\n",
    "# But where route_short_name is missing, use route_id\n",
    "df = df.assign(\n",
    "    route_id2 = df.apply(lambda x: x.route_short_name if x.route_short_name is not None\n",
    "                        else x.route_id, axis=1),\n",
    ")"
   ]
  },
  {
   "cell_type": "code",
   "execution_count": 5,
   "id": "33ac4b06-f647-4dce-a625-8f2c1b37cc60",
   "metadata": {
    "execution": {
     "iopub.execute_input": "2022-06-03T21:53:01.634652Z",
     "iopub.status.busy": "2022-06-03T21:53:01.634374Z",
     "iopub.status.idle": "2022-06-03T21:53:01.642161Z",
     "shell.execute_reply": "2022-06-03T21:53:01.641183Z"
    },
    "jupyter": {
     "source_hidden": true
    },
    "papermill": {
     "duration": 0.027684,
     "end_time": "2022-06-03T21:53:01.647824",
     "exception": false,
     "start_time": "2022-06-03T21:53:01.620140",
     "status": "completed"
    },
    "tags": [
     "remove_input"
    ]
   },
   "outputs": [],
   "source": [
    "%%capture_parameters\n",
    "operator_name = df.calitp_agency_name.iloc[0]\n",
    "district_number = f\"{df.caltrans_district.iloc[0].split('-')[0].strip()}\"\n",
    "district_name = f\"{df.caltrans_district.iloc[0].split('-')[1].strip().lower().replace(' ', '-')}\"\n",
    "\n",
    "itp_id, operator_name, district_number, district_name"
   ]
  },
  {
   "cell_type": "markdown",
   "id": "65bc6f5c-8348-42ee-b2dd-52057c406852",
   "metadata": {
    "papermill": {
     "duration": 0.012778,
     "end_time": "2022-06-03T21:53:01.673842",
     "exception": false,
     "start_time": "2022-06-03T21:53:01.661064",
     "status": "completed"
    },
    "tags": []
   },
   "source": [
    "# Caltrain"
   ]
  },
  {
   "cell_type": "code",
   "execution_count": 6,
   "id": "a689c1ab-2c6c-4831-8d64-897f5986f571",
   "metadata": {
    "execution": {
     "iopub.execute_input": "2022-06-03T21:53:01.702190Z",
     "iopub.status.busy": "2022-06-03T21:53:01.701875Z",
     "iopub.status.idle": "2022-06-03T21:53:01.707788Z",
     "shell.execute_reply": "2022-06-03T21:53:01.706882Z"
    },
    "jupyter": {
     "source_hidden": true
    },
    "papermill": {
     "duration": 0.023841,
     "end_time": "2022-06-03T21:53:01.710942",
     "exception": false,
     "start_time": "2022-06-03T21:53:01.687101",
     "status": "completed"
    },
    "tags": [
     "remove_input"
    ]
   },
   "outputs": [
    {
     "data": {
      "text/html": [
       "<h1>Competitive & Parallel Routes</h1>"
      ],
      "text/plain": [
       "<IPython.core.display.HTML object>"
      ]
     },
     "metadata": {},
     "output_type": "display_data"
    }
   ],
   "source": [
    "display(HTML(\"<h1>Competitive & Parallel Routes</h1>\")) "
   ]
  },
  {
   "cell_type": "code",
   "execution_count": 7,
   "id": "2cb4d8d5-4760-40e4-85b1-cb833d8bb648",
   "metadata": {
    "execution": {
     "iopub.execute_input": "2022-06-03T21:53:01.750524Z",
     "iopub.status.busy": "2022-06-03T21:53:01.750215Z",
     "iopub.status.idle": "2022-06-03T21:53:12.459713Z",
     "shell.execute_reply": "2022-06-03T21:53:12.458673Z"
    },
    "jupyter": {
     "source_hidden": true
    },
    "papermill": {
     "duration": 10.735559,
     "end_time": "2022-06-03T21:53:12.462991",
     "exception": false,
     "start_time": "2022-06-03T21:53:01.727432",
     "status": "completed"
    },
    "tags": [
     "remove_input"
    ]
   },
   "outputs": [],
   "source": [
    "# Grab parameters for narrative text - clean up formatting here \n",
    "district = df.caltrans_district.iloc[0]\n",
    "formatted_date = pd.to_datetime(parallel_corridors_utils.SELECTED_DATE).strftime('%m-%d-%Y')\n",
    "\n",
    "PCT_COMPETITIVE_THRESHOLD = parallel_corridors_utils.PCT_COMPETITIVE_THRESHOLD\n",
    "PCT_TRIPS_BELOW_CUTOFF = parallel_corridors_utils.PCT_TRIPS_BELOW_CUTOFF\n",
    "\n",
    "stats = parallel_corridors_utils.operator_parallel_competitive_stats(\n",
    "    itp_id, PCT_COMPETITIVE_THRESHOLD, PCT_TRIPS_BELOW_CUTOFF)\n",
    "\n",
    "pct_parallel = round(stats['parallel_routes'] / stats['num_routes'] * 100, 1 )\n",
    "pct_competitive =  round(stats['competitive_routes'] / stats['num_routes'] * 100, 1 )\n",
    "pct_viable =  round(stats['viable_competitive_routes'] / stats['num_routes'] * 100, 1 )"
   ]
  },
  {
   "cell_type": "code",
   "execution_count": 8,
   "id": "8bf30c8f-6aa5-47bb-82ae-a906732e81fd",
   "metadata": {
    "execution": {
     "iopub.execute_input": "2022-06-03T21:53:12.494775Z",
     "iopub.status.busy": "2022-06-03T21:53:12.494206Z",
     "iopub.status.idle": "2022-06-03T21:53:12.526485Z",
     "shell.execute_reply": "2022-06-03T21:53:12.525701Z"
    },
    "jupyter": {
     "source_hidden": true
    },
    "papermill": {
     "duration": 0.050642,
     "end_time": "2022-06-03T21:53:12.528672",
     "exception": false,
     "start_time": "2022-06-03T21:53:12.478030",
     "status": "completed"
    },
    "tags": [
     "remove_input"
    ]
   },
   "outputs": [],
   "source": [
    "# Display a table of route-level stats for each route_group\n",
    "# Displaying route_name makes chart too crowded\n",
    "\n",
    "# Get route stats (for entire df)\n",
    "route_stats = parallel_corridors_utils.competitive_route_level_stats(df)\n",
    "    \n",
    "def style_route_stats(df, top15_routes):\n",
    "    df = df[df.route_id.isin(top15_routes)]\n",
    "    \n",
    "    # Rename columns for display\n",
    "    rename_cols = {\n",
    "        \"route_id2\": \"Route ID\",\n",
    "        \"route_name\": \"Route Name\",\n",
    "        \"route_group\": \"Route Group\",\n",
    "        \"num_trips\": \"# trips\",\n",
    "        \"daily_avg_freq\": \"Daily Avg Freq (trips per hr)\",\n",
    "        \"pm_peak_freq\": \"PM Peak Avg Freq (trips per hr)\",\n",
    "        \"percentiles\": \"25th, 50th, 75th ptile (hrs)\",\n",
    "    }\n",
    "    \n",
    "    # Style it\n",
    "    drop_cols = [\n",
    "        \"calitp_itp_id\", \"route_id\", \"below_cutoff\", \"route_group\", \n",
    "        \"pct_trips_competitive\", \"pct_below_cutoff\",\n",
    "        \"p25\", \"p50\", \"p75\",\n",
    "    ]\n",
    "    \n",
    "    # Change alignment for some columns\n",
    "    # https://stackoverflow.com/questions/59453091/left-align-the-first-column-and-center-align-the-other-columns-in-a-pandas-table\n",
    "    df_style = (df.sort_values(\n",
    "        [\"pct_trips_competitive\", \"below_cutoff\", \n",
    "        \"pct_below_cutoff\", \"route_id2\"], \n",
    "        ascending=[False, False, False, True])\n",
    "           .drop(columns = drop_cols)\n",
    "           .rename(columns = rename_cols)\n",
    "           .style.format(\n",
    "               subset=['Daily Avg Freq (trips per hr)', \n",
    "                       'PM Peak Avg Freq (trips per hr)'], \n",
    "               **{'formatter': '{:,.3}'})\n",
    "                .set_properties(subset=['Route ID', 'Route Name'], \n",
    "                                **{'text-align': 'left'})\n",
    "                .set_properties(subset=['# trips', 'Daily Avg Freq (trips per hr)', \n",
    "                                       'PM Peak Avg Freq (trips per hr)'], \n",
    "                               **{'text-align': 'center'})\n",
    "                .set_table_styles([dict(selector='th', \n",
    "                                        props=[('text-align', 'center')])\n",
    "                                        ])\n",
    "           .hide(axis=\"index\")\n",
    "           .to_html()\n",
    "          )\n",
    "    \n",
    "    display(HTML(\"<h4>Route Stats</h4>\"))\n",
    "    display(HTML(df_style))"
   ]
  },
  {
   "cell_type": "markdown",
   "id": "ab667928-5274-4490-82d9-4c39293209a4",
   "metadata": {
    "papermill": {
     "duration": 0.013543,
     "end_time": "2022-06-03T21:53:12.566287",
     "exception": false,
     "start_time": "2022-06-03T21:53:12.552744",
     "status": "completed"
    },
    "tags": []
   },
   "source": [
    "## Quick Stats"
   ]
  },
  {
   "cell_type": "code",
   "execution_count": 9,
   "id": "0416509d-dc62-4165-b62e-64f8b26e8b8e",
   "metadata": {
    "execution": {
     "iopub.execute_input": "2022-06-03T21:53:12.595674Z",
     "iopub.status.busy": "2022-06-03T21:53:12.595336Z",
     "iopub.status.idle": "2022-06-03T21:53:12.608011Z",
     "shell.execute_reply": "2022-06-03T21:53:12.607201Z"
    },
    "jupyter": {
     "source_hidden": true
    },
    "papermill": {
     "duration": 0.031568,
     "end_time": "2022-06-03T21:53:12.610879",
     "exception": false,
     "start_time": "2022-06-03T21:53:12.579311",
     "status": "completed"
    },
    "tags": [
     "remove_input"
    ]
   },
   "outputs": [
    {
     "data": {
      "text/markdown": [
       "**Bus routes in service: 10**<br>**Parallel routes** to State Highway Network (SHN): **5 routes (50.0%)**<br>**Competitive routes** against car travel (within 2x car travel time): **5 routes (50.0%)**<br>**Viable competitive routes** against car travel (within 2x car travel time and within 20, 30, or 40 min cut-off): **3 routes (30.0%)**"
      ],
      "text/plain": [
       "<IPython.core.display.Markdown object>"
      ]
     },
     "metadata": {},
     "output_type": "display_data"
    }
   ],
   "source": [
    "display(\n",
    "    Markdown(\n",
    "        f\"**Bus routes in service: {stats['num_routes']}**\"\n",
    "        \"<br>**Parallel routes** to State Highway Network (SHN): \"\n",
    "        f\"**{stats['parallel_routes']} routes ({pct_parallel}%)**\"\n",
    "        \"<br>**Competitive routes** against car travel (within 2x car travel time): \"\n",
    "        f\"**{stats['competitive_routes']} routes ({pct_competitive}%)**\"\n",
    "        \"<br>**Viable competitive routes** against car travel \"\n",
    "        \"(within 2x car travel time and within 20, 30, or 40 min cut-off): \"\n",
    "        f\"**{stats['viable_competitive_routes']} routes ({pct_viable}%)**\"\n",
    "    )\n",
    ")"
   ]
  },
  {
   "cell_type": "code",
   "execution_count": 10,
   "id": "f9d6ab58-f0ee-460c-b6de-657490e1f386",
   "metadata": {
    "execution": {
     "iopub.execute_input": "2022-06-03T21:53:12.662137Z",
     "iopub.status.busy": "2022-06-03T21:53:12.661819Z",
     "iopub.status.idle": "2022-06-03T21:53:12.668741Z",
     "shell.execute_reply": "2022-06-03T21:53:12.667784Z"
    },
    "jupyter": {
     "source_hidden": true
    },
    "papermill": {
     "duration": 0.024666,
     "end_time": "2022-06-03T21:53:12.671159",
     "exception": false,
     "start_time": "2022-06-03T21:53:12.646493",
     "status": "completed"
    },
    "tags": [
     "remove_input"
    ]
   },
   "outputs": [],
   "source": [
    "def set_yaxis_range(df, y_col):\n",
    "    Y_MIN = df[y_col].min()\n",
    "    Y_MAX = df[y_col].max()\n",
    "    \n",
    "    return Y_MIN, Y_MAX\n",
    "\n",
    "# Rather than set it according to the operator, which can vary,\n",
    "# just use set thresholds for each group\n",
    "def top15_routes(df, route_group):\n",
    "    # grab top 15 routes where majority of trips are below that cut-off \n",
    "    # but show 15 max, otherwise, show less, since these won't be as interesting to operators\n",
    "    df2 = (df[(df.route_group==route_group) &\n",
    "              (df.pct_below_cutoff >= PCT_TRIPS_BELOW_CUTOFF)]\n",
    "           .sort_values([\"calitp_itp_id\", \"below_cutoff\", \n",
    "                         \"pct_below_cutoff\", \"route_id\"],\n",
    "                        ascending = [True, False, False, True]\n",
    "                       )\n",
    "           .drop_duplicates(subset=[\"calitp_itp_id\", \"route_id\"])\n",
    "          ).head(15)\n",
    "    \n",
    "    if len(df2) > 1:\n",
    "        return list(df2.route_id)"
   ]
  },
  {
   "cell_type": "code",
   "execution_count": 11,
   "id": "cf36d559-3349-4144-8086-8ac9ce937a5a",
   "metadata": {
    "execution": {
     "iopub.execute_input": "2022-06-03T21:53:12.701402Z",
     "iopub.status.busy": "2022-06-03T21:53:12.700977Z",
     "iopub.status.idle": "2022-06-03T21:53:12.706686Z",
     "shell.execute_reply": "2022-06-03T21:53:12.706113Z"
    },
    "jupyter": {
     "source_hidden": true
    },
    "papermill": {
     "duration": 0.023183,
     "end_time": "2022-06-03T21:53:12.708355",
     "exception": false,
     "start_time": "2022-06-03T21:53:12.685172",
     "status": "completed"
    },
    "tags": [
     "remove_input"
    ]
   },
   "outputs": [],
   "source": [
    "def caption_with_cutoff(cutoff):\n",
    "    sentence = (\n",
    "        f\"<br>These are routes that have **{int(PCT_TRIPS_BELOW_CUTOFF*100)}% \"\n",
    "        \"of their trips take no more than an \"\n",
    "        f\"additional {cutoff} min** compared to a car \"\n",
    "        \"(up to 15 routes) are shown.\"\n",
    "        \"<br>Within each route group, routes are sorted in descending order \"\n",
    "        \"by % competitive trips and # trips below the additional time cut-off.\"\n",
    "    )\n",
    "    return sentence\n",
    "\n",
    "CAPTIONS_DICT = {\n",
    "    \"short\": caption_with_cutoff(diff_cutoffs['short']),\n",
    "    \"medium\": caption_with_cutoff(diff_cutoffs['medium']),\n",
    "    \"long\": caption_with_cutoff(diff_cutoffs['long']),\n",
    "}"
   ]
  },
  {
   "cell_type": "code",
   "execution_count": 12,
   "id": "e4306d58-6944-47e9-afef-5d5b524c751f",
   "metadata": {
    "execution": {
     "iopub.execute_input": "2022-06-03T21:53:12.746184Z",
     "iopub.status.busy": "2022-06-03T21:53:12.745198Z",
     "iopub.status.idle": "2022-06-03T21:53:12.753611Z",
     "shell.execute_reply": "2022-06-03T21:53:12.752669Z"
    },
    "jupyter": {
     "source_hidden": true
    },
    "papermill": {
     "duration": 0.033575,
     "end_time": "2022-06-03T21:53:12.755712",
     "exception": false,
     "start_time": "2022-06-03T21:53:12.722137",
     "status": "completed"
    },
    "tags": [
     "remove_input"
    ]
   },
   "outputs": [],
   "source": [
    "def setup_charts(df, PCT_COMPETITIVE_THRESHOLD, route_group):\n",
    "    # Set up df for charting (cut-off at some threshold to show most competitive routes)\n",
    "    plot_me = (df[df.pct_trips_competitive > PCT_COMPETITIVE_THRESHOLD]\n",
    "           .drop(columns = \"geometry\")\n",
    "    )\n",
    "    \n",
    "    # Set y-ranges to be the same across route_groups, \n",
    "    # otherwise charts fluctuate too much, even within operator\n",
    "    y_col1 = \"bus_multiplier\"\n",
    "    Y_MIN1, Y_MAX1 = set_yaxis_range(plot_me, y_col1)\n",
    "\n",
    "    y_col2 = \"bus_difference\"\n",
    "    Y_MIN2, Y_MAX2 = set_yaxis_range(plot_me, y_col2)\n",
    "    \n",
    "    # Grab the routes to plot\n",
    "    subset_routes = top15_routes(plot_me, route_group)\n",
    "        \n",
    "    # Display charts\n",
    "    multiplier_chart = parallel_corridors_utils.make_stripplot(\n",
    "        plot_me[plot_me.route_id.isin(subset_routes)], \n",
    "        y_col1, Y_MIN = Y_MIN1, Y_MAX = Y_MAX1\n",
    "    )\n",
    "    \n",
    "    difference_chart = parallel_corridors_utils.make_stripplot(\n",
    "        plot_me[plot_me.route_id.isin(subset_routes)], \n",
    "        y_col2, Y_MIN = Y_MIN2, Y_MAX = Y_MAX2\n",
    "    )\n",
    "    \n",
    "    return subset_routes, multiplier_chart, difference_chart            "
   ]
  },
  {
   "cell_type": "code",
   "execution_count": 13,
   "id": "33a710e8-504c-4942-aa75-ff69f216956e",
   "metadata": {
    "execution": {
     "iopub.execute_input": "2022-06-03T21:53:12.789881Z",
     "iopub.status.busy": "2022-06-03T21:53:12.789573Z",
     "iopub.status.idle": "2022-06-03T21:53:12.798353Z",
     "shell.execute_reply": "2022-06-03T21:53:12.796374Z"
    },
    "jupyter": {
     "source_hidden": true
    },
    "papermill": {
     "duration": 0.026791,
     "end_time": "2022-06-03T21:53:12.800853",
     "exception": false,
     "start_time": "2022-06-03T21:53:12.774062",
     "status": "completed"
    },
    "tags": [
     "remove_input"
    ]
   },
   "outputs": [],
   "source": [
    "# Allow for possibility that operator doesn't have routes that fall into certain route_groups\n",
    "# But, jupyterbook will not like markdown with f-string\n",
    "# separate out route_group and put in each cell, and use try/except + if to display...\n",
    "# but all 3 route groups must be displayed. \n",
    "# just add sentence about why no routes were returned at the end\n",
    "# Change to fewer than 2 routes, instead of no routes, because we don't want to show just 1 route\n",
    "\n",
    "def display_charts_for_route_group(df, route_group):\n",
    "    try:\n",
    "        subset_routes, mult, diff  = setup_charts(df, PCT_COMPETITIVE_THRESHOLD, route_group)\n",
    "    \n",
    "        if len(subset_routes) > 1:\n",
    "            display(Markdown(f\"{CAPTIONS_DICT[route_group]}\"))\n",
    "\n",
    "            display(mult)\n",
    "            display(diff)\n",
    "\n",
    "            # Display route stats for just plotted routes\n",
    "            style_route_stats(route_stats, subset_routes)\n",
    "        else: \n",
    "            print(\"Fewer than 2 routes meet this criteria.\")\n",
    "    except:\n",
    "        print(\"No routes meet this criteria.\")"
   ]
  },
  {
   "cell_type": "markdown",
   "id": "525f9b38-072b-46d1-96a8-1aa4b038357c",
   "metadata": {
    "papermill": {
     "duration": 0.016501,
     "end_time": "2022-06-03T21:53:12.832029",
     "exception": false,
     "start_time": "2022-06-03T21:53:12.815528",
     "status": "completed"
    },
    "tags": []
   },
   "source": [
    "## Viable Competitive Routes\n",
    "### Short Routes (< 1 hr)"
   ]
  },
  {
   "cell_type": "code",
   "execution_count": 14,
   "id": "57f7084c-2cf7-45c6-ba08-1609e0bd6ca5",
   "metadata": {
    "execution": {
     "iopub.execute_input": "2022-06-03T21:53:12.867636Z",
     "iopub.status.busy": "2022-06-03T21:53:12.867323Z",
     "iopub.status.idle": "2022-06-03T21:53:12.880763Z",
     "shell.execute_reply": "2022-06-03T21:53:12.879762Z"
    },
    "jupyter": {
     "source_hidden": true
    },
    "papermill": {
     "duration": 0.034077,
     "end_time": "2022-06-03T21:53:12.885321",
     "exception": false,
     "start_time": "2022-06-03T21:53:12.851244",
     "status": "completed"
    },
    "tags": [
     "remove_input"
    ]
   },
   "outputs": [
    {
     "name": "stdout",
     "output_type": "stream",
     "text": [
      "No routes meet this criteria.\n"
     ]
    }
   ],
   "source": [
    "route_group = \"short\"\n",
    "display_charts_for_route_group(df, route_group)"
   ]
  },
  {
   "cell_type": "markdown",
   "id": "c2931b6f-034d-4384-9e14-80b925e3b820",
   "metadata": {
    "papermill": {
     "duration": 0.015218,
     "end_time": "2022-06-03T21:53:12.915615",
     "exception": false,
     "start_time": "2022-06-03T21:53:12.900397",
     "status": "completed"
    },
    "tags": []
   },
   "source": [
    "### Medium Routes (1-1.5 hrs)"
   ]
  },
  {
   "cell_type": "code",
   "execution_count": 15,
   "id": "480edddc-4de0-48c2-ae4c-b0ceef8f28b5",
   "metadata": {
    "execution": {
     "iopub.execute_input": "2022-06-03T21:53:12.954648Z",
     "iopub.status.busy": "2022-06-03T21:53:12.954333Z",
     "iopub.status.idle": "2022-06-03T21:53:13.363284Z",
     "shell.execute_reply": "2022-06-03T21:53:13.362619Z"
    },
    "jupyter": {
     "source_hidden": true
    },
    "papermill": {
     "duration": 0.434848,
     "end_time": "2022-06-03T21:53:13.365221",
     "exception": false,
     "start_time": "2022-06-03T21:53:12.930373",
     "status": "completed"
    },
    "tags": [
     "remove_input"
    ]
   },
   "outputs": [
    {
     "data": {
      "text/markdown": [
       "<br>These are routes that have **100% of their trips take no more than an additional 30 min** compared to a car (up to 15 routes) are shown.<br>Within each route group, routes are sorted in descending order by % competitive trips and # trips below the additional time cut-off."
      ],
      "text/plain": [
       "<IPython.core.display.Markdown object>"
      ]
     },
     "metadata": {},
     "output_type": "display_data"
    },
    {
     "data": {
      "text/html": [
       "\n",
       "<div id=\"altair-viz-63bc05cbb9524343a42097908fce7df1\"></div>\n",
       "<script type=\"text/javascript\">\n",
       "  var VEGA_DEBUG = (typeof VEGA_DEBUG == \"undefined\") ? {} : VEGA_DEBUG;\n",
       "  (function(spec, embedOpt){\n",
       "    let outputDiv = document.currentScript.previousElementSibling;\n",
       "    if (outputDiv.id !== \"altair-viz-63bc05cbb9524343a42097908fce7df1\") {\n",
       "      outputDiv = document.getElementById(\"altair-viz-63bc05cbb9524343a42097908fce7df1\");\n",
       "    }\n",
       "    const paths = {\n",
       "      \"vega\": \"https://cdn.jsdelivr.net/npm//vega@5?noext\",\n",
       "      \"vega-lib\": \"https://cdn.jsdelivr.net/npm//vega-lib?noext\",\n",
       "      \"vega-lite\": \"https://cdn.jsdelivr.net/npm//vega-lite@4.17.0?noext\",\n",
       "      \"vega-embed\": \"https://cdn.jsdelivr.net/npm//vega-embed@6?noext\",\n",
       "    };\n",
       "\n",
       "    function maybeLoadScript(lib, version) {\n",
       "      var key = `${lib.replace(\"-\", \"\")}_version`;\n",
       "      return (VEGA_DEBUG[key] == version) ?\n",
       "        Promise.resolve(paths[lib]) :\n",
       "        new Promise(function(resolve, reject) {\n",
       "          var s = document.createElement('script');\n",
       "          document.getElementsByTagName(\"head\")[0].appendChild(s);\n",
       "          s.async = true;\n",
       "          s.onload = () => {\n",
       "            VEGA_DEBUG[key] = version;\n",
       "            return resolve(paths[lib]);\n",
       "          };\n",
       "          s.onerror = () => reject(`Error loading script: ${paths[lib]}`);\n",
       "          s.src = paths[lib];\n",
       "        });\n",
       "    }\n",
       "\n",
       "    function showError(err) {\n",
       "      outputDiv.innerHTML = `<div class=\"error\" style=\"color:red;\">${err}</div>`;\n",
       "      throw err;\n",
       "    }\n",
       "\n",
       "    function displayChart(vegaEmbed) {\n",
       "      vegaEmbed(outputDiv, spec, embedOpt)\n",
       "        .catch(err => showError(`Javascript Error: ${err.message}<br>This usually means there's a typo in your chart specification. See the javascript console for the full traceback.`));\n",
       "    }\n",
       "\n",
       "    if(typeof define === \"function\" && define.amd) {\n",
       "      requirejs.config({paths});\n",
       "      require([\"vega-embed\"], displayChart, err => showError(`Error loading script: ${err.message}`));\n",
       "    } else {\n",
       "      maybeLoadScript(\"vega\", \"5\")\n",
       "        .then(() => maybeLoadScript(\"vega-lite\", \"4.17.0\"))\n",
       "        .then(() => maybeLoadScript(\"vega-embed\", \"6\"))\n",
       "        .catch(showError)\n",
       "        .then(() => displayChart(vegaEmbed));\n",
       "    }\n",
       "  })({\"config\": {\"view\": {\"continuousWidth\": 400, \"continuousHeight\": 300, \"stroke\": null}, \"facet\": {\"spacing\": 0}}, \"data\": {\"name\": \"data-ec9e420199ebe323507d09abd618805f\"}, \"facet\": {\"column\": {\"field\": \"route_id2\", \"sort\": [\"L5\", \"B7\"], \"title\": \"Route ID\", \"type\": \"nominal\"}}, \"spec\": {\"layer\": [{\"mark\": \"rule\", \"encoding\": {\"color\": {\"value\": \"black\"}, \"y\": {\"field\": \"cutoff\", \"type\": \"quantitative\"}}, \"selection\": {\"selector001\": {\"type\": \"interval\", \"bind\": \"scales\", \"encodings\": [\"x\", \"y\"]}}}, {\"mark\": {\"type\": \"point\", \"opacity\": 0.65, \"size\": 20, \"strokeWidth\": 1.1}, \"encoding\": {\"color\": {\"field\": \"time_of_day\", \"scale\": {\"range\": [\"#136C97\", \"#E16B26\", \"#F6BF16\", \"#00896B\", \"#7790A3\", \"#5B559C\"]}, \"sort\": [\"AM Peak\", \"Midday\", \"PM Peak\", \"Owl Service\"], \"title\": \"Time of Day\", \"type\": \"nominal\"}, \"tooltip\": [{\"field\": \"route_id2\", \"title\": \"route_id\", \"type\": \"nominal\"}, {\"field\": \"route_name\", \"type\": \"nominal\"}, {\"field\": \"trip_id\", \"type\": \"nominal\"}, {\"field\": \"service_hours\", \"type\": \"quantitative\"}, {\"field\": \"car_duration_hours\", \"type\": \"quantitative\"}, {\"field\": \"bus_multiplier\", \"type\": \"quantitative\"}, {\"field\": \"bus_difference\", \"type\": \"quantitative\"}, {\"field\": \"num_trips\", \"type\": \"quantitative\"}, {\"field\": \"num_competitive\", \"type\": \"quantitative\"}, {\"field\": \"pct_trips_competitive\", \"type\": \"quantitative\"}, {\"field\": \"pct_below_cutoff\", \"type\": \"quantitative\"}, {\"field\": \"p25\", \"type\": \"quantitative\"}, {\"field\": \"p50\", \"type\": \"quantitative\"}, {\"field\": \"p75\", \"type\": \"quantitative\"}], \"x\": {\"axis\": {\"grid\": false, \"labels\": false, \"ticks\": true, \"values\": [0]}, \"field\": \"jitter\", \"scale\": {}, \"title\": null, \"type\": \"quantitative\"}, \"y\": {\"field\": \"bus_multiplier\", \"scale\": {\"domain\": [0, 3.0]}, \"title\": \"Ratio of Bus to Car Travel Time\", \"type\": \"quantitative\"}}, \"transform\": [{\"calculate\": \"sqrt(-2*log(random()))*cos(2*PI*random())\", \"as\": \"jitter\"}], \"width\": 50}, {\"layer\": [{\"mark\": {\"type\": \"point\", \"opacity\": 0.6, \"size\": 20, \"strokeWidth\": 1.3}, \"encoding\": {\"color\": {\"value\": \"#323434\"}, \"y\": {\"field\": \"bus_multiplier\", \"type\": \"quantitative\"}}, \"transform\": [{\"filter\": \"(datum.p50_trip === 1)\"}]}, {\"mark\": {\"type\": \"text\", \"align\": \"center\", \"baseline\": \"middle\"}, \"encoding\": {\"color\": {\"value\": \"black\"}, \"text\": {\"field\": \"pct_trips_competitive\", \"format\": \".0%\", \"type\": \"quantitative\"}, \"tooltip\": [{\"field\": \"route_id2\", \"title\": \"route_id\", \"type\": \"nominal\"}, {\"field\": \"route_name\", \"type\": \"nominal\"}, {\"field\": \"trip_id\", \"type\": \"nominal\"}, {\"field\": \"service_hours\", \"type\": \"quantitative\"}, {\"field\": \"car_duration_hours\", \"type\": \"quantitative\"}, {\"field\": \"bus_multiplier\", \"type\": \"quantitative\"}, {\"field\": \"bus_difference\", \"type\": \"quantitative\"}, {\"field\": \"num_trips\", \"type\": \"quantitative\"}, {\"field\": \"num_competitive\", \"type\": \"quantitative\"}, {\"field\": \"pct_trips_competitive\", \"type\": \"quantitative\"}, {\"field\": \"pct_below_cutoff\", \"type\": \"quantitative\"}, {\"field\": \"p25\", \"type\": \"quantitative\"}, {\"field\": \"p50\", \"type\": \"quantitative\"}, {\"field\": \"p75\", \"type\": \"quantitative\"}], \"x\": {\"value\": 30}, \"y\": {\"value\": 15}}, \"transform\": [{\"calculate\": \"sqrt(-2*log(random()))*cos(2*PI*random())\", \"as\": \"jitter\"}, {\"filter\": \"(datum.fastest_trip === 1)\"}]}]}]}, \"resolve\": {\"scale\": {\"y\": \"shared\"}}, \"title\": \"Ratio of Bus to Car Travel Time\", \"$schema\": \"https://vega.github.io/schema/vega-lite/v4.17.0.json\", \"datasets\": {\"data-ec9e420199ebe323507d09abd618805f\": [{\"calitp_itp_id\": 246, \"trip_key\": -3712933218407617241, \"trip_id\": \"708\", \"shape_id\": \"p_1277433\", \"route_id\": \"12867\", \"service_hours\": 1.08, \"trip_first_departure_ts\": 57960, \"trip_last_arrival_ts\": 61860, \"departure_hour\": 16, \"time_of_day\": \"Midday\", \"p25\": 1.08, \"p50\": 1.1, \"p75\": 1.1, \"p50_trip\": 0, \"fastest_trip\": 0, \"car_duration_hours\": 0.97, \"competitive_route\": 1, \"bus_multiplier\": 1.11, \"bus_difference\": 6.6, \"num_trips\": 12, \"num_competitive\": 12, \"pct_trips_competitive\": 1.0, \"bus_difference_spread\": 1.2000000000000002, \"route_group\": \"medium\", \"max_trip_hrs\": 1.1, \"max_trip_route_group\": 1.1, \"below_cutoff\": 12, \"pct_below_cutoff\": 1.0, \"calitp_agency_name\": \"Caltrain\", \"caltrans_district\": \"04 - Oakland\", \"route_name\": \"Bullet\", \"route_short_name\": \"B7\", \"route_id2\": \"B7\", \"cutoff2\": 30, \"cutoff\": 2}, {\"calitp_itp_id\": 246, \"trip_key\": 136785568874585897, \"trip_id\": \"706\", \"shape_id\": \"p_1277388\", \"route_id\": \"12867\", \"service_hours\": 1.08, \"trip_first_departure_ts\": 29160, \"trip_last_arrival_ts\": 33060, \"departure_hour\": 8, \"time_of_day\": \"AM Peak\", \"p25\": 1.08, \"p50\": 1.1, \"p75\": 1.1, \"p50_trip\": 0, \"fastest_trip\": 0, \"car_duration_hours\": 0.97, \"competitive_route\": 1, \"bus_multiplier\": 1.11, \"bus_difference\": 6.6, \"num_trips\": 12, \"num_competitive\": 12, \"pct_trips_competitive\": 1.0, \"bus_difference_spread\": 1.2000000000000002, \"route_group\": \"medium\", \"max_trip_hrs\": 1.1, \"max_trip_route_group\": 1.1, \"below_cutoff\": 12, \"pct_below_cutoff\": 1.0, \"calitp_agency_name\": \"Caltrain\", \"caltrans_district\": \"04 - Oakland\", \"route_name\": \"Bullet\", \"route_short_name\": \"B7\", \"route_id2\": \"B7\", \"cutoff2\": 30, \"cutoff\": 2}, {\"calitp_itp_id\": 246, \"trip_key\": -347509947834498038, \"trip_id\": \"710\", \"shape_id\": \"p_1277433\", \"route_id\": \"12867\", \"service_hours\": 1.08, \"trip_first_departure_ts\": 61560, \"trip_last_arrival_ts\": 65460, \"departure_hour\": 17, \"time_of_day\": \"PM Peak\", \"p25\": 1.08, \"p50\": 1.1, \"p75\": 1.1, \"p50_trip\": 0, \"fastest_trip\": 0, \"car_duration_hours\": 0.97, \"competitive_route\": 1, \"bus_multiplier\": 1.11, \"bus_difference\": 6.6, \"num_trips\": 12, \"num_competitive\": 12, \"pct_trips_competitive\": 1.0, \"bus_difference_spread\": 1.2000000000000002, \"route_group\": \"medium\", \"max_trip_hrs\": 1.1, \"max_trip_route_group\": 1.1, \"below_cutoff\": 12, \"pct_below_cutoff\": 1.0, \"calitp_agency_name\": \"Caltrain\", \"caltrans_district\": \"04 - Oakland\", \"route_name\": \"Bullet\", \"route_short_name\": \"B7\", \"route_id2\": \"B7\", \"cutoff2\": 30, \"cutoff\": 2}, {\"calitp_itp_id\": 246, \"trip_key\": 9046849969465289342, \"trip_id\": \"712\", \"shape_id\": \"p_1277433\", \"route_id\": \"12867\", \"service_hours\": 1.08, \"trip_first_departure_ts\": 65160, \"trip_last_arrival_ts\": 69060, \"departure_hour\": 18, \"time_of_day\": \"PM Peak\", \"p25\": 1.08, \"p50\": 1.1, \"p75\": 1.1, \"p50_trip\": 0, \"fastest_trip\": 1, \"car_duration_hours\": 0.97, \"competitive_route\": 1, \"bus_multiplier\": 1.11, \"bus_difference\": 6.6, \"num_trips\": 12, \"num_competitive\": 12, \"pct_trips_competitive\": 1.0, \"bus_difference_spread\": 1.2000000000000002, \"route_group\": \"medium\", \"max_trip_hrs\": 1.1, \"max_trip_route_group\": 1.1, \"below_cutoff\": 12, \"pct_below_cutoff\": 1.0, \"calitp_agency_name\": \"Caltrain\", \"caltrans_district\": \"04 - Oakland\", \"route_name\": \"Bullet\", \"route_short_name\": \"B7\", \"route_id2\": \"B7\", \"cutoff2\": 30, \"cutoff\": 2}, {\"calitp_itp_id\": 246, \"trip_key\": 2161684919597157983, \"trip_id\": \"711\", \"shape_id\": \"p_1277387\", \"route_id\": \"12867\", \"service_hours\": 1.1, \"trip_first_departure_ts\": 64740, \"trip_last_arrival_ts\": 68700, \"departure_hour\": 17, \"time_of_day\": \"PM Peak\", \"p25\": 1.08, \"p50\": 1.1, \"p75\": 1.1, \"p50_trip\": 1, \"fastest_trip\": 0, \"car_duration_hours\": 0.97, \"competitive_route\": 1, \"bus_multiplier\": 1.13, \"bus_difference\": 7.8, \"num_trips\": 12, \"num_competitive\": 12, \"pct_trips_competitive\": 1.0, \"bus_difference_spread\": 1.2000000000000002, \"route_group\": \"medium\", \"max_trip_hrs\": 1.1, \"max_trip_route_group\": 1.1, \"below_cutoff\": 12, \"pct_below_cutoff\": 1.0, \"calitp_agency_name\": \"Caltrain\", \"caltrans_district\": \"04 - Oakland\", \"route_name\": \"Bullet\", \"route_short_name\": \"B7\", \"route_id2\": \"B7\", \"cutoff2\": 30, \"cutoff\": 2}, {\"calitp_itp_id\": 246, \"trip_key\": -2398720786655942030, \"trip_id\": \"704\", \"shape_id\": \"p_1277388\", \"route_id\": \"12867\", \"service_hours\": 1.1, \"trip_first_departure_ts\": 25560, \"trip_last_arrival_ts\": 29520, \"departure_hour\": 7, \"time_of_day\": \"AM Peak\", \"p25\": 1.08, \"p50\": 1.1, \"p75\": 1.1, \"p50_trip\": 1, \"fastest_trip\": 0, \"car_duration_hours\": 0.97, \"competitive_route\": 1, \"bus_multiplier\": 1.13, \"bus_difference\": 7.8, \"num_trips\": 12, \"num_competitive\": 12, \"pct_trips_competitive\": 1.0, \"bus_difference_spread\": 1.2000000000000002, \"route_group\": \"medium\", \"max_trip_hrs\": 1.1, \"max_trip_route_group\": 1.1, \"below_cutoff\": 12, \"pct_below_cutoff\": 1.0, \"calitp_agency_name\": \"Caltrain\", \"caltrans_district\": \"04 - Oakland\", \"route_name\": \"Bullet\", \"route_short_name\": \"B7\", \"route_id2\": \"B7\", \"cutoff2\": 30, \"cutoff\": 2}, {\"calitp_itp_id\": 246, \"trip_key\": 702326641816309491, \"trip_id\": \"705\", \"shape_id\": \"p_1277413\", \"route_id\": \"12867\", \"service_hours\": 1.1, \"trip_first_departure_ts\": 28740, \"trip_last_arrival_ts\": 32700, \"departure_hour\": 7, \"time_of_day\": \"AM Peak\", \"p25\": 1.08, \"p50\": 1.1, \"p75\": 1.1, \"p50_trip\": 1, \"fastest_trip\": 0, \"car_duration_hours\": 0.97, \"competitive_route\": 1, \"bus_multiplier\": 1.13, \"bus_difference\": 7.8, \"num_trips\": 12, \"num_competitive\": 12, \"pct_trips_competitive\": 1.0, \"bus_difference_spread\": 1.2000000000000002, \"route_group\": \"medium\", \"max_trip_hrs\": 1.1, \"max_trip_route_group\": 1.1, \"below_cutoff\": 12, \"pct_below_cutoff\": 1.0, \"calitp_agency_name\": \"Caltrain\", \"caltrans_district\": \"04 - Oakland\", \"route_name\": \"Bullet\", \"route_short_name\": \"B7\", \"route_id2\": \"B7\", \"cutoff2\": 30, \"cutoff\": 2}, {\"calitp_itp_id\": 246, \"trip_key\": -1089053019550801506, \"trip_id\": \"707\", \"shape_id\": \"p_1277387\", \"route_id\": \"12867\", \"service_hours\": 1.1, \"trip_first_departure_ts\": 57540, \"trip_last_arrival_ts\": 61500, \"departure_hour\": 15, \"time_of_day\": \"Midday\", \"p25\": 1.08, \"p50\": 1.1, \"p75\": 1.1, \"p50_trip\": 1, \"fastest_trip\": 0, \"car_duration_hours\": 0.97, \"competitive_route\": 1, \"bus_multiplier\": 1.13, \"bus_difference\": 7.8, \"num_trips\": 12, \"num_competitive\": 12, \"pct_trips_competitive\": 1.0, \"bus_difference_spread\": 1.2000000000000002, \"route_group\": \"medium\", \"max_trip_hrs\": 1.1, \"max_trip_route_group\": 1.1, \"below_cutoff\": 12, \"pct_below_cutoff\": 1.0, \"calitp_agency_name\": \"Caltrain\", \"caltrans_district\": \"04 - Oakland\", \"route_name\": \"Bullet\", \"route_short_name\": \"B7\", \"route_id2\": \"B7\", \"cutoff2\": 30, \"cutoff\": 2}, {\"calitp_itp_id\": 246, \"trip_key\": -6553605669663007201, \"trip_id\": \"703\", \"shape_id\": \"p_1277413\", \"route_id\": \"12867\", \"service_hours\": 1.1, \"trip_first_departure_ts\": 25140, \"trip_last_arrival_ts\": 29100, \"departure_hour\": 6, \"time_of_day\": \"Owl Service\", \"p25\": 1.08, \"p50\": 1.1, \"p75\": 1.1, \"p50_trip\": 1, \"fastest_trip\": 0, \"car_duration_hours\": 0.97, \"competitive_route\": 1, \"bus_multiplier\": 1.13, \"bus_difference\": 7.8, \"num_trips\": 12, \"num_competitive\": 12, \"pct_trips_competitive\": 1.0, \"bus_difference_spread\": 1.2000000000000002, \"route_group\": \"medium\", \"max_trip_hrs\": 1.1, \"max_trip_route_group\": 1.1, \"below_cutoff\": 12, \"pct_below_cutoff\": 1.0, \"calitp_agency_name\": \"Caltrain\", \"caltrans_district\": \"04 - Oakland\", \"route_name\": \"Bullet\", \"route_short_name\": \"B7\", \"route_id2\": \"B7\", \"cutoff2\": 30, \"cutoff\": 2}, {\"calitp_itp_id\": 246, \"trip_key\": -7094297710612193942, \"trip_id\": \"702\", \"shape_id\": \"p_1277388\", \"route_id\": \"12867\", \"service_hours\": 1.1, \"trip_first_departure_ts\": 21960, \"trip_last_arrival_ts\": 25920, \"departure_hour\": 6, \"time_of_day\": \"Owl Service\", \"p25\": 1.08, \"p50\": 1.1, \"p75\": 1.1, \"p50_trip\": 1, \"fastest_trip\": 0, \"car_duration_hours\": 0.97, \"competitive_route\": 1, \"bus_multiplier\": 1.13, \"bus_difference\": 7.8, \"num_trips\": 12, \"num_competitive\": 12, \"pct_trips_competitive\": 1.0, \"bus_difference_spread\": 1.2000000000000002, \"route_group\": \"medium\", \"max_trip_hrs\": 1.1, \"max_trip_route_group\": 1.1, \"below_cutoff\": 12, \"pct_below_cutoff\": 1.0, \"calitp_agency_name\": \"Caltrain\", \"caltrans_district\": \"04 - Oakland\", \"route_name\": \"Bullet\", \"route_short_name\": \"B7\", \"route_id2\": \"B7\", \"cutoff2\": 30, \"cutoff\": 2}, {\"calitp_itp_id\": 246, \"trip_key\": -7470321154795650450, \"trip_id\": \"709\", \"shape_id\": \"p_1277387\", \"route_id\": \"12867\", \"service_hours\": 1.1, \"trip_first_departure_ts\": 61140, \"trip_last_arrival_ts\": 65100, \"departure_hour\": 16, \"time_of_day\": \"Midday\", \"p25\": 1.08, \"p50\": 1.1, \"p75\": 1.1, \"p50_trip\": 1, \"fastest_trip\": 0, \"car_duration_hours\": 0.97, \"competitive_route\": 1, \"bus_multiplier\": 1.13, \"bus_difference\": 7.8, \"num_trips\": 12, \"num_competitive\": 12, \"pct_trips_competitive\": 1.0, \"bus_difference_spread\": 1.2000000000000002, \"route_group\": \"medium\", \"max_trip_hrs\": 1.1, \"max_trip_route_group\": 1.1, \"below_cutoff\": 12, \"pct_below_cutoff\": 1.0, \"calitp_agency_name\": \"Caltrain\", \"caltrans_district\": \"04 - Oakland\", \"route_name\": \"Bullet\", \"route_short_name\": \"B7\", \"route_id2\": \"B7\", \"cutoff2\": 30, \"cutoff\": 2}, {\"calitp_itp_id\": 246, \"trip_key\": 8482997763863316294, \"trip_id\": \"701\", \"shape_id\": \"p_1277413\", \"route_id\": \"12867\", \"service_hours\": 1.1, \"trip_first_departure_ts\": 21540, \"trip_last_arrival_ts\": 25500, \"departure_hour\": 5, \"time_of_day\": \"Owl Service\", \"p25\": 1.08, \"p50\": 1.1, \"p75\": 1.1, \"p50_trip\": 1, \"fastest_trip\": 0, \"car_duration_hours\": 0.97, \"competitive_route\": 1, \"bus_multiplier\": 1.13, \"bus_difference\": 7.8, \"num_trips\": 12, \"num_competitive\": 12, \"pct_trips_competitive\": 1.0, \"bus_difference_spread\": 1.2000000000000002, \"route_group\": \"medium\", \"max_trip_hrs\": 1.1, \"max_trip_route_group\": 1.1, \"below_cutoff\": 12, \"pct_below_cutoff\": 1.0, \"calitp_agency_name\": \"Caltrain\", \"caltrans_district\": \"04 - Oakland\", \"route_name\": \"Bullet\", \"route_short_name\": \"B7\", \"route_id2\": \"B7\", \"cutoff2\": 30, \"cutoff\": 2}, {\"calitp_itp_id\": 246, \"trip_key\": 9149517822258321180, \"trip_id\": \"502\", \"shape_id\": \"p_1277350\", \"route_id\": \"19601\", \"service_hours\": 1.22, \"trip_first_departure_ts\": 19800, \"trip_last_arrival_ts\": 24180, \"departure_hour\": 5, \"time_of_day\": \"Owl Service\", \"p25\": 1.23, \"p50\": 1.23, \"p75\": 1.23, \"p50_trip\": 0, \"fastest_trip\": 1, \"car_duration_hours\": 1.22, \"competitive_route\": 1, \"bus_multiplier\": 1.0, \"bus_difference\": 0.0, \"num_trips\": 17, \"num_competitive\": 17, \"pct_trips_competitive\": 1.0, \"bus_difference_spread\": 6.6, \"route_group\": \"medium\", \"max_trip_hrs\": 1.33, \"max_trip_route_group\": 1.33, \"below_cutoff\": 17, \"pct_below_cutoff\": 1.0, \"calitp_agency_name\": \"Caltrain\", \"caltrans_district\": \"04 - Oakland\", \"route_name\": \"Ltd 5\", \"route_short_name\": \"L5\", \"route_id2\": \"L5\", \"cutoff2\": 30, \"cutoff\": 2}, {\"calitp_itp_id\": 246, \"trip_key\": -3265062529563700995, \"trip_id\": \"511\", \"shape_id\": \"p_1277345\", \"route_id\": \"19601\", \"service_hours\": 1.23, \"trip_first_departure_ts\": 49380, \"trip_last_arrival_ts\": 53820, \"departure_hour\": 13, \"time_of_day\": \"Midday\", \"p25\": 1.23, \"p50\": 1.23, \"p75\": 1.23, \"p50_trip\": 1, \"fastest_trip\": 0, \"car_duration_hours\": 1.22, \"competitive_route\": 1, \"bus_multiplier\": 1.01, \"bus_difference\": 0.6, \"num_trips\": 17, \"num_competitive\": 17, \"pct_trips_competitive\": 1.0, \"bus_difference_spread\": 6.6, \"route_group\": \"medium\", \"max_trip_hrs\": 1.33, \"max_trip_route_group\": 1.33, \"below_cutoff\": 17, \"pct_below_cutoff\": 1.0, \"calitp_agency_name\": \"Caltrain\", \"caltrans_district\": \"04 - Oakland\", \"route_name\": \"Ltd 5\", \"route_short_name\": \"L5\", \"route_id2\": \"L5\", \"cutoff2\": 30, \"cutoff\": 2}, {\"calitp_itp_id\": 246, \"trip_key\": -6963403278907329206, \"trip_id\": \"504\", \"shape_id\": \"p_1277350\", \"route_id\": \"19601\", \"service_hours\": 1.23, \"trip_first_departure_ts\": 33240, \"trip_last_arrival_ts\": 37680, \"departure_hour\": 9, \"time_of_day\": \"AM Peak\", \"p25\": 1.23, \"p50\": 1.23, \"p75\": 1.23, \"p50_trip\": 1, \"fastest_trip\": 0, \"car_duration_hours\": 1.22, \"competitive_route\": 1, \"bus_multiplier\": 1.01, \"bus_difference\": 0.6, \"num_trips\": 17, \"num_competitive\": 17, \"pct_trips_competitive\": 1.0, \"bus_difference_spread\": 6.6, \"route_group\": \"medium\", \"max_trip_hrs\": 1.33, \"max_trip_route_group\": 1.33, \"below_cutoff\": 17, \"pct_below_cutoff\": 1.0, \"calitp_agency_name\": \"Caltrain\", \"caltrans_district\": \"04 - Oakland\", \"route_name\": \"Ltd 5\", \"route_short_name\": \"L5\", \"route_id2\": \"L5\", \"cutoff2\": 30, \"cutoff\": 2}, {\"calitp_itp_id\": 246, \"trip_key\": 7008740332156166630, \"trip_id\": \"516\", \"shape_id\": \"p_1277350\", \"route_id\": \"19601\", \"service_hours\": 1.23, \"trip_first_departure_ts\": 69240, \"trip_last_arrival_ts\": 73680, \"departure_hour\": 19, \"time_of_day\": \"PM Peak\", \"p25\": 1.23, \"p50\": 1.23, \"p75\": 1.23, \"p50_trip\": 1, \"fastest_trip\": 0, \"car_duration_hours\": 1.22, \"competitive_route\": 1, \"bus_multiplier\": 1.01, \"bus_difference\": 0.6, \"num_trips\": 17, \"num_competitive\": 17, \"pct_trips_competitive\": 1.0, \"bus_difference_spread\": 6.6, \"route_group\": \"medium\", \"max_trip_hrs\": 1.33, \"max_trip_route_group\": 1.33, \"below_cutoff\": 17, \"pct_below_cutoff\": 1.0, \"calitp_agency_name\": \"Caltrain\", \"caltrans_district\": \"04 - Oakland\", \"route_name\": \"Ltd 5\", \"route_short_name\": \"L5\", \"route_id2\": \"L5\", \"cutoff2\": 30, \"cutoff\": 2}, {\"calitp_itp_id\": 246, \"trip_key\": -2304653092082877345, \"trip_id\": \"506\", \"shape_id\": \"p_1277350\", \"route_id\": \"19601\", \"service_hours\": 1.23, \"trip_first_departure_ts\": 36840, \"trip_last_arrival_ts\": 41280, \"departure_hour\": 10, \"time_of_day\": \"Midday\", \"p25\": 1.23, \"p50\": 1.23, \"p75\": 1.23, \"p50_trip\": 1, \"fastest_trip\": 0, \"car_duration_hours\": 1.22, \"competitive_route\": 1, \"bus_multiplier\": 1.01, \"bus_difference\": 0.6, \"num_trips\": 17, \"num_competitive\": 17, \"pct_trips_competitive\": 1.0, \"bus_difference_spread\": 6.6, \"route_group\": \"medium\", \"max_trip_hrs\": 1.33, \"max_trip_route_group\": 1.33, \"below_cutoff\": 17, \"pct_below_cutoff\": 1.0, \"calitp_agency_name\": \"Caltrain\", \"caltrans_district\": \"04 - Oakland\", \"route_name\": \"Ltd 5\", \"route_short_name\": \"L5\", \"route_id2\": \"L5\", \"cutoff2\": 30, \"cutoff\": 2}, {\"calitp_itp_id\": 246, \"trip_key\": 955322695236507663, \"trip_id\": \"507\", \"shape_id\": \"p_1277345\", \"route_id\": \"19601\", \"service_hours\": 1.23, \"trip_first_departure_ts\": 42180, \"trip_last_arrival_ts\": 46620, \"departure_hour\": 11, \"time_of_day\": \"Midday\", \"p25\": 1.23, \"p50\": 1.23, \"p75\": 1.23, \"p50_trip\": 1, \"fastest_trip\": 0, \"car_duration_hours\": 1.22, \"competitive_route\": 1, \"bus_multiplier\": 1.01, \"bus_difference\": 0.6, \"num_trips\": 17, \"num_competitive\": 17, \"pct_trips_competitive\": 1.0, \"bus_difference_spread\": 6.6, \"route_group\": \"medium\", \"max_trip_hrs\": 1.33, \"max_trip_route_group\": 1.33, \"below_cutoff\": 17, \"pct_below_cutoff\": 1.0, \"calitp_agency_name\": \"Caltrain\", \"caltrans_district\": \"04 - Oakland\", \"route_name\": \"Ltd 5\", \"route_short_name\": \"L5\", \"route_id2\": \"L5\", \"cutoff2\": 30, \"cutoff\": 2}, {\"calitp_itp_id\": 246, \"trip_key\": 2880390379151674985, \"trip_id\": \"514\", \"shape_id\": \"p_1277350\", \"route_id\": \"19601\", \"service_hours\": 1.23, \"trip_first_departure_ts\": 51240, \"trip_last_arrival_ts\": 55680, \"departure_hour\": 14, \"time_of_day\": \"Midday\", \"p25\": 1.23, \"p50\": 1.23, \"p75\": 1.23, \"p50_trip\": 1, \"fastest_trip\": 0, \"car_duration_hours\": 1.22, \"competitive_route\": 1, \"bus_multiplier\": 1.01, \"bus_difference\": 0.6, \"num_trips\": 17, \"num_competitive\": 17, \"pct_trips_competitive\": 1.0, \"bus_difference_spread\": 6.6, \"route_group\": \"medium\", \"max_trip_hrs\": 1.33, \"max_trip_route_group\": 1.33, \"below_cutoff\": 17, \"pct_below_cutoff\": 1.0, \"calitp_agency_name\": \"Caltrain\", \"caltrans_district\": \"04 - Oakland\", \"route_name\": \"Ltd 5\", \"route_short_name\": \"L5\", \"route_id2\": \"L5\", \"cutoff2\": 30, \"cutoff\": 2}, {\"calitp_itp_id\": 246, \"trip_key\": 553268175740742960, \"trip_id\": \"503\", \"shape_id\": \"p_1277345\", \"route_id\": \"19601\", \"service_hours\": 1.23, \"trip_first_departure_ts\": 34980, \"trip_last_arrival_ts\": 39420, \"departure_hour\": 9, \"time_of_day\": \"AM Peak\", \"p25\": 1.23, \"p50\": 1.23, \"p75\": 1.23, \"p50_trip\": 1, \"fastest_trip\": 0, \"car_duration_hours\": 1.22, \"competitive_route\": 1, \"bus_multiplier\": 1.01, \"bus_difference\": 0.6, \"num_trips\": 17, \"num_competitive\": 17, \"pct_trips_competitive\": 1.0, \"bus_difference_spread\": 6.6, \"route_group\": \"medium\", \"max_trip_hrs\": 1.33, \"max_trip_route_group\": 1.33, \"below_cutoff\": 17, \"pct_below_cutoff\": 1.0, \"calitp_agency_name\": \"Caltrain\", \"caltrans_district\": \"04 - Oakland\", \"route_name\": \"Ltd 5\", \"route_short_name\": \"L5\", \"route_id2\": \"L5\", \"cutoff2\": 30, \"cutoff\": 2}, {\"calitp_itp_id\": 246, \"trip_key\": -4721818240216371953, \"trip_id\": \"510\", \"shape_id\": \"p_1277350\", \"route_id\": \"19601\", \"service_hours\": 1.23, \"trip_first_departure_ts\": 44040, \"trip_last_arrival_ts\": 48480, \"departure_hour\": 12, \"time_of_day\": \"Midday\", \"p25\": 1.23, \"p50\": 1.23, \"p75\": 1.23, \"p50_trip\": 1, \"fastest_trip\": 0, \"car_duration_hours\": 1.22, \"competitive_route\": 1, \"bus_multiplier\": 1.01, \"bus_difference\": 0.6, \"num_trips\": 17, \"num_competitive\": 17, \"pct_trips_competitive\": 1.0, \"bus_difference_spread\": 6.6, \"route_group\": \"medium\", \"max_trip_hrs\": 1.33, \"max_trip_route_group\": 1.33, \"below_cutoff\": 17, \"pct_below_cutoff\": 1.0, \"calitp_agency_name\": \"Caltrain\", \"caltrans_district\": \"04 - Oakland\", \"route_name\": \"Ltd 5\", \"route_short_name\": \"L5\", \"route_id2\": \"L5\", \"cutoff2\": 30, \"cutoff\": 2}, {\"calitp_itp_id\": 246, \"trip_key\": -4931343439422682093, \"trip_id\": \"512\", \"shape_id\": \"p_1277350\", \"route_id\": \"19601\", \"service_hours\": 1.23, \"trip_first_departure_ts\": 47640, \"trip_last_arrival_ts\": 52080, \"departure_hour\": 13, \"time_of_day\": \"Midday\", \"p25\": 1.23, \"p50\": 1.23, \"p75\": 1.23, \"p50_trip\": 1, \"fastest_trip\": 0, \"car_duration_hours\": 1.22, \"competitive_route\": 1, \"bus_multiplier\": 1.01, \"bus_difference\": 0.6, \"num_trips\": 17, \"num_competitive\": 17, \"pct_trips_competitive\": 1.0, \"bus_difference_spread\": 6.6, \"route_group\": \"medium\", \"max_trip_hrs\": 1.33, \"max_trip_route_group\": 1.33, \"below_cutoff\": 17, \"pct_below_cutoff\": 1.0, \"calitp_agency_name\": \"Caltrain\", \"caltrans_district\": \"04 - Oakland\", \"route_name\": \"Ltd 5\", \"route_short_name\": \"L5\", \"route_id2\": \"L5\", \"cutoff2\": 30, \"cutoff\": 2}, {\"calitp_itp_id\": 246, \"trip_key\": -9121745674402020511, \"trip_id\": \"515\", \"shape_id\": \"p_1277345\", \"route_id\": \"19601\", \"service_hours\": 1.23, \"trip_first_departure_ts\": 70980, \"trip_last_arrival_ts\": 75420, \"departure_hour\": 19, \"time_of_day\": \"PM Peak\", \"p25\": 1.23, \"p50\": 1.23, \"p75\": 1.23, \"p50_trip\": 1, \"fastest_trip\": 0, \"car_duration_hours\": 1.22, \"competitive_route\": 1, \"bus_multiplier\": 1.01, \"bus_difference\": 0.6, \"num_trips\": 17, \"num_competitive\": 17, \"pct_trips_competitive\": 1.0, \"bus_difference_spread\": 6.6, \"route_group\": \"medium\", \"max_trip_hrs\": 1.33, \"max_trip_route_group\": 1.33, \"below_cutoff\": 17, \"pct_below_cutoff\": 1.0, \"calitp_agency_name\": \"Caltrain\", \"caltrans_district\": \"04 - Oakland\", \"route_name\": \"Ltd 5\", \"route_short_name\": \"L5\", \"route_id2\": \"L5\", \"cutoff2\": 30, \"cutoff\": 2}, {\"calitp_itp_id\": 246, \"trip_key\": -3589814024653243936, \"trip_id\": \"509\", \"shape_id\": \"p_1277345\", \"route_id\": \"19601\", \"service_hours\": 1.23, \"trip_first_departure_ts\": 45780, \"trip_last_arrival_ts\": 50220, \"departure_hour\": 12, \"time_of_day\": \"Midday\", \"p25\": 1.23, \"p50\": 1.23, \"p75\": 1.23, \"p50_trip\": 1, \"fastest_trip\": 0, \"car_duration_hours\": 1.22, \"competitive_route\": 1, \"bus_multiplier\": 1.01, \"bus_difference\": 0.6, \"num_trips\": 17, \"num_competitive\": 17, \"pct_trips_competitive\": 1.0, \"bus_difference_spread\": 6.6, \"route_group\": \"medium\", \"max_trip_hrs\": 1.33, \"max_trip_route_group\": 1.33, \"below_cutoff\": 17, \"pct_below_cutoff\": 1.0, \"calitp_agency_name\": \"Caltrain\", \"caltrans_district\": \"04 - Oakland\", \"route_name\": \"Ltd 5\", \"route_short_name\": \"L5\", \"route_id2\": \"L5\", \"cutoff2\": 30, \"cutoff\": 2}, {\"calitp_itp_id\": 246, \"trip_key\": 1164964554527929344, \"trip_id\": \"518\", \"shape_id\": \"p_1277350\", \"route_id\": \"19601\", \"service_hours\": 1.23, \"trip_first_departure_ts\": 72840, \"trip_last_arrival_ts\": 77280, \"departure_hour\": 20, \"time_of_day\": \"Owl Service\", \"p25\": 1.23, \"p50\": 1.23, \"p75\": 1.23, \"p50_trip\": 1, \"fastest_trip\": 0, \"car_duration_hours\": 1.22, \"competitive_route\": 1, \"bus_multiplier\": 1.01, \"bus_difference\": 0.6, \"num_trips\": 17, \"num_competitive\": 17, \"pct_trips_competitive\": 1.0, \"bus_difference_spread\": 6.6, \"route_group\": \"medium\", \"max_trip_hrs\": 1.33, \"max_trip_route_group\": 1.33, \"below_cutoff\": 17, \"pct_below_cutoff\": 1.0, \"calitp_agency_name\": \"Caltrain\", \"caltrans_district\": \"04 - Oakland\", \"route_name\": \"Ltd 5\", \"route_short_name\": \"L5\", \"route_id2\": \"L5\", \"cutoff2\": 30, \"cutoff\": 2}, {\"calitp_itp_id\": 246, \"trip_key\": -2895236252452015639, \"trip_id\": \"513\", \"shape_id\": \"p_1277345\", \"route_id\": \"19601\", \"service_hours\": 1.23, \"trip_first_departure_ts\": 52980, \"trip_last_arrival_ts\": 57420, \"departure_hour\": 14, \"time_of_day\": \"Midday\", \"p25\": 1.23, \"p50\": 1.23, \"p75\": 1.23, \"p50_trip\": 1, \"fastest_trip\": 0, \"car_duration_hours\": 1.22, \"competitive_route\": 1, \"bus_multiplier\": 1.01, \"bus_difference\": 0.6, \"num_trips\": 17, \"num_competitive\": 17, \"pct_trips_competitive\": 1.0, \"bus_difference_spread\": 6.6, \"route_group\": \"medium\", \"max_trip_hrs\": 1.33, \"max_trip_route_group\": 1.33, \"below_cutoff\": 17, \"pct_below_cutoff\": 1.0, \"calitp_agency_name\": \"Caltrain\", \"caltrans_district\": \"04 - Oakland\", \"route_name\": \"Ltd 5\", \"route_short_name\": \"L5\", \"route_id2\": \"L5\", \"cutoff2\": 30, \"cutoff\": 2}, {\"calitp_itp_id\": 246, \"trip_key\": -3606529219655603771, \"trip_id\": \"508\", \"shape_id\": \"p_1277350\", \"route_id\": \"19601\", \"service_hours\": 1.23, \"trip_first_departure_ts\": 40440, \"trip_last_arrival_ts\": 44880, \"departure_hour\": 11, \"time_of_day\": \"Midday\", \"p25\": 1.23, \"p50\": 1.23, \"p75\": 1.23, \"p50_trip\": 1, \"fastest_trip\": 0, \"car_duration_hours\": 1.22, \"competitive_route\": 1, \"bus_multiplier\": 1.01, \"bus_difference\": 0.6, \"num_trips\": 17, \"num_competitive\": 17, \"pct_trips_competitive\": 1.0, \"bus_difference_spread\": 6.6, \"route_group\": \"medium\", \"max_trip_hrs\": 1.33, \"max_trip_route_group\": 1.33, \"below_cutoff\": 17, \"pct_below_cutoff\": 1.0, \"calitp_agency_name\": \"Caltrain\", \"caltrans_district\": \"04 - Oakland\", \"route_name\": \"Ltd 5\", \"route_short_name\": \"L5\", \"route_id2\": \"L5\", \"cutoff2\": 30, \"cutoff\": 2}, {\"calitp_itp_id\": 246, \"trip_key\": 1744670112445261467, \"trip_id\": \"505\", \"shape_id\": \"p_1277345\", \"route_id\": \"19601\", \"service_hours\": 1.23, \"trip_first_departure_ts\": 38580, \"trip_last_arrival_ts\": 43020, \"departure_hour\": 10, \"time_of_day\": \"Midday\", \"p25\": 1.23, \"p50\": 1.23, \"p75\": 1.23, \"p50_trip\": 1, \"fastest_trip\": 0, \"car_duration_hours\": 1.22, \"competitive_route\": 1, \"bus_multiplier\": 1.01, \"bus_difference\": 0.6, \"num_trips\": 17, \"num_competitive\": 17, \"pct_trips_competitive\": 1.0, \"bus_difference_spread\": 6.6, \"route_group\": \"medium\", \"max_trip_hrs\": 1.33, \"max_trip_route_group\": 1.33, \"below_cutoff\": 17, \"pct_below_cutoff\": 1.0, \"calitp_agency_name\": \"Caltrain\", \"caltrans_district\": \"04 - Oakland\", \"route_name\": \"Ltd 5\", \"route_short_name\": \"L5\", \"route_id2\": \"L5\", \"cutoff2\": 30, \"cutoff\": 2}, {\"calitp_itp_id\": 246, \"trip_key\": -3300211462706906779, \"trip_id\": \"501\", \"shape_id\": \"p_1277346\", \"route_id\": \"19601\", \"service_hours\": 1.33, \"trip_first_departure_ts\": 18120, \"trip_last_arrival_ts\": 22920, \"departure_hour\": 5, \"time_of_day\": \"Owl Service\", \"p25\": 1.23, \"p50\": 1.23, \"p75\": 1.23, \"p50_trip\": 0, \"fastest_trip\": 0, \"car_duration_hours\": 1.22, \"competitive_route\": 1, \"bus_multiplier\": 1.09, \"bus_difference\": 6.6, \"num_trips\": 17, \"num_competitive\": 17, \"pct_trips_competitive\": 1.0, \"bus_difference_spread\": 6.6, \"route_group\": \"medium\", \"max_trip_hrs\": 1.33, \"max_trip_route_group\": 1.33, \"below_cutoff\": 17, \"pct_below_cutoff\": 1.0, \"calitp_agency_name\": \"Caltrain\", \"caltrans_district\": \"04 - Oakland\", \"route_name\": \"Ltd 5\", \"route_short_name\": \"L5\", \"route_id2\": \"L5\", \"cutoff2\": 30, \"cutoff\": 2}]}}, {\"mode\": \"vega-lite\"});\n",
       "</script>"
      ],
      "text/plain": [
       "alt.FacetChart(...)"
      ]
     },
     "metadata": {},
     "output_type": "display_data"
    },
    {
     "data": {
      "text/html": [
       "\n",
       "<div id=\"altair-viz-a7e763fa813d4febbcffc8c3aa505192\"></div>\n",
       "<script type=\"text/javascript\">\n",
       "  var VEGA_DEBUG = (typeof VEGA_DEBUG == \"undefined\") ? {} : VEGA_DEBUG;\n",
       "  (function(spec, embedOpt){\n",
       "    let outputDiv = document.currentScript.previousElementSibling;\n",
       "    if (outputDiv.id !== \"altair-viz-a7e763fa813d4febbcffc8c3aa505192\") {\n",
       "      outputDiv = document.getElementById(\"altair-viz-a7e763fa813d4febbcffc8c3aa505192\");\n",
       "    }\n",
       "    const paths = {\n",
       "      \"vega\": \"https://cdn.jsdelivr.net/npm//vega@5?noext\",\n",
       "      \"vega-lib\": \"https://cdn.jsdelivr.net/npm//vega-lib?noext\",\n",
       "      \"vega-lite\": \"https://cdn.jsdelivr.net/npm//vega-lite@4.17.0?noext\",\n",
       "      \"vega-embed\": \"https://cdn.jsdelivr.net/npm//vega-embed@6?noext\",\n",
       "    };\n",
       "\n",
       "    function maybeLoadScript(lib, version) {\n",
       "      var key = `${lib.replace(\"-\", \"\")}_version`;\n",
       "      return (VEGA_DEBUG[key] == version) ?\n",
       "        Promise.resolve(paths[lib]) :\n",
       "        new Promise(function(resolve, reject) {\n",
       "          var s = document.createElement('script');\n",
       "          document.getElementsByTagName(\"head\")[0].appendChild(s);\n",
       "          s.async = true;\n",
       "          s.onload = () => {\n",
       "            VEGA_DEBUG[key] = version;\n",
       "            return resolve(paths[lib]);\n",
       "          };\n",
       "          s.onerror = () => reject(`Error loading script: ${paths[lib]}`);\n",
       "          s.src = paths[lib];\n",
       "        });\n",
       "    }\n",
       "\n",
       "    function showError(err) {\n",
       "      outputDiv.innerHTML = `<div class=\"error\" style=\"color:red;\">${err}</div>`;\n",
       "      throw err;\n",
       "    }\n",
       "\n",
       "    function displayChart(vegaEmbed) {\n",
       "      vegaEmbed(outputDiv, spec, embedOpt)\n",
       "        .catch(err => showError(`Javascript Error: ${err.message}<br>This usually means there's a typo in your chart specification. See the javascript console for the full traceback.`));\n",
       "    }\n",
       "\n",
       "    if(typeof define === \"function\" && define.amd) {\n",
       "      requirejs.config({paths});\n",
       "      require([\"vega-embed\"], displayChart, err => showError(`Error loading script: ${err.message}`));\n",
       "    } else {\n",
       "      maybeLoadScript(\"vega\", \"5\")\n",
       "        .then(() => maybeLoadScript(\"vega-lite\", \"4.17.0\"))\n",
       "        .then(() => maybeLoadScript(\"vega-embed\", \"6\"))\n",
       "        .catch(showError)\n",
       "        .then(() => displayChart(vegaEmbed));\n",
       "    }\n",
       "  })({\"config\": {\"view\": {\"continuousWidth\": 400, \"continuousHeight\": 300, \"stroke\": null}, \"facet\": {\"spacing\": 0}}, \"data\": {\"name\": \"data-a3ec8bff1b9768eac4508d2fc7c075d8\"}, \"facet\": {\"column\": {\"field\": \"route_id2\", \"sort\": [\"L5\", \"B7\"], \"title\": \"Route ID\", \"type\": \"nominal\"}}, \"spec\": {\"layer\": [{\"mark\": \"rule\", \"encoding\": {\"color\": {\"value\": \"black\"}, \"y\": {\"field\": \"cutoff\", \"type\": \"quantitative\"}}, \"selection\": {\"selector002\": {\"type\": \"interval\", \"bind\": \"scales\", \"encodings\": [\"x\", \"y\"]}}}, {\"mark\": {\"type\": \"rule\", \"strokeDash\": [3, 3]}, \"encoding\": {\"color\": {\"value\": \"#323434\"}, \"y\": {\"field\": \"cutoff2\", \"type\": \"quantitative\"}}}, {\"mark\": {\"type\": \"point\", \"opacity\": 0.65, \"size\": 20, \"strokeWidth\": 1.1}, \"encoding\": {\"color\": {\"field\": \"time_of_day\", \"scale\": {\"range\": [\"#136C97\", \"#E16B26\", \"#F6BF16\", \"#00896B\", \"#7790A3\", \"#5B559C\"]}, \"sort\": [\"AM Peak\", \"Midday\", \"PM Peak\", \"Owl Service\"], \"title\": \"Time of Day\", \"type\": \"nominal\"}, \"tooltip\": [{\"field\": \"route_id2\", \"title\": \"route_id\", \"type\": \"nominal\"}, {\"field\": \"route_name\", \"type\": \"nominal\"}, {\"field\": \"trip_id\", \"type\": \"nominal\"}, {\"field\": \"service_hours\", \"type\": \"quantitative\"}, {\"field\": \"car_duration_hours\", \"type\": \"quantitative\"}, {\"field\": \"bus_multiplier\", \"type\": \"quantitative\"}, {\"field\": \"bus_difference\", \"type\": \"quantitative\"}, {\"field\": \"num_trips\", \"type\": \"quantitative\"}, {\"field\": \"num_competitive\", \"type\": \"quantitative\"}, {\"field\": \"pct_trips_competitive\", \"type\": \"quantitative\"}, {\"field\": \"pct_below_cutoff\", \"type\": \"quantitative\"}, {\"field\": \"p25\", \"type\": \"quantitative\"}, {\"field\": \"p50\", \"type\": \"quantitative\"}, {\"field\": \"p75\", \"type\": \"quantitative\"}], \"x\": {\"axis\": {\"grid\": false, \"labels\": false, \"ticks\": true, \"values\": [0]}, \"field\": \"jitter\", \"scale\": {}, \"title\": null, \"type\": \"quantitative\"}, \"y\": {\"field\": \"bus_difference\", \"scale\": {\"domain\": [-8.4, 48.0]}, \"title\": \"Difference in Bus to Car Travel Time (min)\", \"type\": \"quantitative\"}}, \"transform\": [{\"calculate\": \"sqrt(-2*log(random()))*cos(2*PI*random())\", \"as\": \"jitter\"}], \"width\": 50}, {\"layer\": [{\"mark\": {\"type\": \"point\", \"opacity\": 0.6, \"size\": 20, \"strokeWidth\": 1.3}, \"encoding\": {\"color\": {\"value\": \"#323434\"}, \"y\": {\"field\": \"bus_difference\", \"type\": \"quantitative\"}}, \"transform\": [{\"filter\": \"(datum.p50_trip === 1)\"}]}, {\"mark\": {\"type\": \"text\", \"align\": \"center\", \"baseline\": \"middle\"}, \"encoding\": {\"color\": {\"value\": \"black\"}, \"text\": {\"field\": \"pct_trips_competitive\", \"format\": \".0%\", \"type\": \"quantitative\"}, \"tooltip\": [{\"field\": \"route_id2\", \"title\": \"route_id\", \"type\": \"nominal\"}, {\"field\": \"route_name\", \"type\": \"nominal\"}, {\"field\": \"trip_id\", \"type\": \"nominal\"}, {\"field\": \"service_hours\", \"type\": \"quantitative\"}, {\"field\": \"car_duration_hours\", \"type\": \"quantitative\"}, {\"field\": \"bus_multiplier\", \"type\": \"quantitative\"}, {\"field\": \"bus_difference\", \"type\": \"quantitative\"}, {\"field\": \"num_trips\", \"type\": \"quantitative\"}, {\"field\": \"num_competitive\", \"type\": \"quantitative\"}, {\"field\": \"pct_trips_competitive\", \"type\": \"quantitative\"}, {\"field\": \"pct_below_cutoff\", \"type\": \"quantitative\"}, {\"field\": \"p25\", \"type\": \"quantitative\"}, {\"field\": \"p50\", \"type\": \"quantitative\"}, {\"field\": \"p75\", \"type\": \"quantitative\"}], \"x\": {\"value\": 30}, \"y\": {\"value\": 15}}, \"transform\": [{\"calculate\": \"sqrt(-2*log(random()))*cos(2*PI*random())\", \"as\": \"jitter\"}, {\"filter\": \"(datum.fastest_trip === 1)\"}]}]}]}, \"resolve\": {\"scale\": {\"y\": \"shared\"}}, \"title\": \"Difference in Bus to Car Travel Time (min)\", \"$schema\": \"https://vega.github.io/schema/vega-lite/v4.17.0.json\", \"datasets\": {\"data-a3ec8bff1b9768eac4508d2fc7c075d8\": [{\"calitp_itp_id\": 246, \"trip_key\": -3712933218407617241, \"trip_id\": \"708\", \"shape_id\": \"p_1277433\", \"route_id\": \"12867\", \"service_hours\": 1.08, \"trip_first_departure_ts\": 57960, \"trip_last_arrival_ts\": 61860, \"departure_hour\": 16, \"time_of_day\": \"Midday\", \"p25\": 1.08, \"p50\": 1.1, \"p75\": 1.1, \"p50_trip\": 0, \"fastest_trip\": 0, \"car_duration_hours\": 0.97, \"competitive_route\": 1, \"bus_multiplier\": 1.11, \"bus_difference\": 6.6, \"num_trips\": 12, \"num_competitive\": 12, \"pct_trips_competitive\": 1.0, \"bus_difference_spread\": 1.2000000000000002, \"route_group\": \"medium\", \"max_trip_hrs\": 1.1, \"max_trip_route_group\": 1.1, \"below_cutoff\": 12, \"pct_below_cutoff\": 1.0, \"calitp_agency_name\": \"Caltrain\", \"caltrans_district\": \"04 - Oakland\", \"route_name\": \"Bullet\", \"route_short_name\": \"B7\", \"route_id2\": \"B7\", \"cutoff2\": 30, \"cutoff\": 0}, {\"calitp_itp_id\": 246, \"trip_key\": 136785568874585897, \"trip_id\": \"706\", \"shape_id\": \"p_1277388\", \"route_id\": \"12867\", \"service_hours\": 1.08, \"trip_first_departure_ts\": 29160, \"trip_last_arrival_ts\": 33060, \"departure_hour\": 8, \"time_of_day\": \"AM Peak\", \"p25\": 1.08, \"p50\": 1.1, \"p75\": 1.1, \"p50_trip\": 0, \"fastest_trip\": 0, \"car_duration_hours\": 0.97, \"competitive_route\": 1, \"bus_multiplier\": 1.11, \"bus_difference\": 6.6, \"num_trips\": 12, \"num_competitive\": 12, \"pct_trips_competitive\": 1.0, \"bus_difference_spread\": 1.2000000000000002, \"route_group\": \"medium\", \"max_trip_hrs\": 1.1, \"max_trip_route_group\": 1.1, \"below_cutoff\": 12, \"pct_below_cutoff\": 1.0, \"calitp_agency_name\": \"Caltrain\", \"caltrans_district\": \"04 - Oakland\", \"route_name\": \"Bullet\", \"route_short_name\": \"B7\", \"route_id2\": \"B7\", \"cutoff2\": 30, \"cutoff\": 0}, {\"calitp_itp_id\": 246, \"trip_key\": -347509947834498038, \"trip_id\": \"710\", \"shape_id\": \"p_1277433\", \"route_id\": \"12867\", \"service_hours\": 1.08, \"trip_first_departure_ts\": 61560, \"trip_last_arrival_ts\": 65460, \"departure_hour\": 17, \"time_of_day\": \"PM Peak\", \"p25\": 1.08, \"p50\": 1.1, \"p75\": 1.1, \"p50_trip\": 0, \"fastest_trip\": 0, \"car_duration_hours\": 0.97, \"competitive_route\": 1, \"bus_multiplier\": 1.11, \"bus_difference\": 6.6, \"num_trips\": 12, \"num_competitive\": 12, \"pct_trips_competitive\": 1.0, \"bus_difference_spread\": 1.2000000000000002, \"route_group\": \"medium\", \"max_trip_hrs\": 1.1, \"max_trip_route_group\": 1.1, \"below_cutoff\": 12, \"pct_below_cutoff\": 1.0, \"calitp_agency_name\": \"Caltrain\", \"caltrans_district\": \"04 - Oakland\", \"route_name\": \"Bullet\", \"route_short_name\": \"B7\", \"route_id2\": \"B7\", \"cutoff2\": 30, \"cutoff\": 0}, {\"calitp_itp_id\": 246, \"trip_key\": 9046849969465289342, \"trip_id\": \"712\", \"shape_id\": \"p_1277433\", \"route_id\": \"12867\", \"service_hours\": 1.08, \"trip_first_departure_ts\": 65160, \"trip_last_arrival_ts\": 69060, \"departure_hour\": 18, \"time_of_day\": \"PM Peak\", \"p25\": 1.08, \"p50\": 1.1, \"p75\": 1.1, \"p50_trip\": 0, \"fastest_trip\": 1, \"car_duration_hours\": 0.97, \"competitive_route\": 1, \"bus_multiplier\": 1.11, \"bus_difference\": 6.6, \"num_trips\": 12, \"num_competitive\": 12, \"pct_trips_competitive\": 1.0, \"bus_difference_spread\": 1.2000000000000002, \"route_group\": \"medium\", \"max_trip_hrs\": 1.1, \"max_trip_route_group\": 1.1, \"below_cutoff\": 12, \"pct_below_cutoff\": 1.0, \"calitp_agency_name\": \"Caltrain\", \"caltrans_district\": \"04 - Oakland\", \"route_name\": \"Bullet\", \"route_short_name\": \"B7\", \"route_id2\": \"B7\", \"cutoff2\": 30, \"cutoff\": 0}, {\"calitp_itp_id\": 246, \"trip_key\": 2161684919597157983, \"trip_id\": \"711\", \"shape_id\": \"p_1277387\", \"route_id\": \"12867\", \"service_hours\": 1.1, \"trip_first_departure_ts\": 64740, \"trip_last_arrival_ts\": 68700, \"departure_hour\": 17, \"time_of_day\": \"PM Peak\", \"p25\": 1.08, \"p50\": 1.1, \"p75\": 1.1, \"p50_trip\": 1, \"fastest_trip\": 0, \"car_duration_hours\": 0.97, \"competitive_route\": 1, \"bus_multiplier\": 1.13, \"bus_difference\": 7.8, \"num_trips\": 12, \"num_competitive\": 12, \"pct_trips_competitive\": 1.0, \"bus_difference_spread\": 1.2000000000000002, \"route_group\": \"medium\", \"max_trip_hrs\": 1.1, \"max_trip_route_group\": 1.1, \"below_cutoff\": 12, \"pct_below_cutoff\": 1.0, \"calitp_agency_name\": \"Caltrain\", \"caltrans_district\": \"04 - Oakland\", \"route_name\": \"Bullet\", \"route_short_name\": \"B7\", \"route_id2\": \"B7\", \"cutoff2\": 30, \"cutoff\": 0}, {\"calitp_itp_id\": 246, \"trip_key\": -2398720786655942030, \"trip_id\": \"704\", \"shape_id\": \"p_1277388\", \"route_id\": \"12867\", \"service_hours\": 1.1, \"trip_first_departure_ts\": 25560, \"trip_last_arrival_ts\": 29520, \"departure_hour\": 7, \"time_of_day\": \"AM Peak\", \"p25\": 1.08, \"p50\": 1.1, \"p75\": 1.1, \"p50_trip\": 1, \"fastest_trip\": 0, \"car_duration_hours\": 0.97, \"competitive_route\": 1, \"bus_multiplier\": 1.13, \"bus_difference\": 7.8, \"num_trips\": 12, \"num_competitive\": 12, \"pct_trips_competitive\": 1.0, \"bus_difference_spread\": 1.2000000000000002, \"route_group\": \"medium\", \"max_trip_hrs\": 1.1, \"max_trip_route_group\": 1.1, \"below_cutoff\": 12, \"pct_below_cutoff\": 1.0, \"calitp_agency_name\": \"Caltrain\", \"caltrans_district\": \"04 - Oakland\", \"route_name\": \"Bullet\", \"route_short_name\": \"B7\", \"route_id2\": \"B7\", \"cutoff2\": 30, \"cutoff\": 0}, {\"calitp_itp_id\": 246, \"trip_key\": 702326641816309491, \"trip_id\": \"705\", \"shape_id\": \"p_1277413\", \"route_id\": \"12867\", \"service_hours\": 1.1, \"trip_first_departure_ts\": 28740, \"trip_last_arrival_ts\": 32700, \"departure_hour\": 7, \"time_of_day\": \"AM Peak\", \"p25\": 1.08, \"p50\": 1.1, \"p75\": 1.1, \"p50_trip\": 1, \"fastest_trip\": 0, \"car_duration_hours\": 0.97, \"competitive_route\": 1, \"bus_multiplier\": 1.13, \"bus_difference\": 7.8, \"num_trips\": 12, \"num_competitive\": 12, \"pct_trips_competitive\": 1.0, \"bus_difference_spread\": 1.2000000000000002, \"route_group\": \"medium\", \"max_trip_hrs\": 1.1, \"max_trip_route_group\": 1.1, \"below_cutoff\": 12, \"pct_below_cutoff\": 1.0, \"calitp_agency_name\": \"Caltrain\", \"caltrans_district\": \"04 - Oakland\", \"route_name\": \"Bullet\", \"route_short_name\": \"B7\", \"route_id2\": \"B7\", \"cutoff2\": 30, \"cutoff\": 0}, {\"calitp_itp_id\": 246, \"trip_key\": -1089053019550801506, \"trip_id\": \"707\", \"shape_id\": \"p_1277387\", \"route_id\": \"12867\", \"service_hours\": 1.1, \"trip_first_departure_ts\": 57540, \"trip_last_arrival_ts\": 61500, \"departure_hour\": 15, \"time_of_day\": \"Midday\", \"p25\": 1.08, \"p50\": 1.1, \"p75\": 1.1, \"p50_trip\": 1, \"fastest_trip\": 0, \"car_duration_hours\": 0.97, \"competitive_route\": 1, \"bus_multiplier\": 1.13, \"bus_difference\": 7.8, \"num_trips\": 12, \"num_competitive\": 12, \"pct_trips_competitive\": 1.0, \"bus_difference_spread\": 1.2000000000000002, \"route_group\": \"medium\", \"max_trip_hrs\": 1.1, \"max_trip_route_group\": 1.1, \"below_cutoff\": 12, \"pct_below_cutoff\": 1.0, \"calitp_agency_name\": \"Caltrain\", \"caltrans_district\": \"04 - Oakland\", \"route_name\": \"Bullet\", \"route_short_name\": \"B7\", \"route_id2\": \"B7\", \"cutoff2\": 30, \"cutoff\": 0}, {\"calitp_itp_id\": 246, \"trip_key\": -6553605669663007201, \"trip_id\": \"703\", \"shape_id\": \"p_1277413\", \"route_id\": \"12867\", \"service_hours\": 1.1, \"trip_first_departure_ts\": 25140, \"trip_last_arrival_ts\": 29100, \"departure_hour\": 6, \"time_of_day\": \"Owl Service\", \"p25\": 1.08, \"p50\": 1.1, \"p75\": 1.1, \"p50_trip\": 1, \"fastest_trip\": 0, \"car_duration_hours\": 0.97, \"competitive_route\": 1, \"bus_multiplier\": 1.13, \"bus_difference\": 7.8, \"num_trips\": 12, \"num_competitive\": 12, \"pct_trips_competitive\": 1.0, \"bus_difference_spread\": 1.2000000000000002, \"route_group\": \"medium\", \"max_trip_hrs\": 1.1, \"max_trip_route_group\": 1.1, \"below_cutoff\": 12, \"pct_below_cutoff\": 1.0, \"calitp_agency_name\": \"Caltrain\", \"caltrans_district\": \"04 - Oakland\", \"route_name\": \"Bullet\", \"route_short_name\": \"B7\", \"route_id2\": \"B7\", \"cutoff2\": 30, \"cutoff\": 0}, {\"calitp_itp_id\": 246, \"trip_key\": -7094297710612193942, \"trip_id\": \"702\", \"shape_id\": \"p_1277388\", \"route_id\": \"12867\", \"service_hours\": 1.1, \"trip_first_departure_ts\": 21960, \"trip_last_arrival_ts\": 25920, \"departure_hour\": 6, \"time_of_day\": \"Owl Service\", \"p25\": 1.08, \"p50\": 1.1, \"p75\": 1.1, \"p50_trip\": 1, \"fastest_trip\": 0, \"car_duration_hours\": 0.97, \"competitive_route\": 1, \"bus_multiplier\": 1.13, \"bus_difference\": 7.8, \"num_trips\": 12, \"num_competitive\": 12, \"pct_trips_competitive\": 1.0, \"bus_difference_spread\": 1.2000000000000002, \"route_group\": \"medium\", \"max_trip_hrs\": 1.1, \"max_trip_route_group\": 1.1, \"below_cutoff\": 12, \"pct_below_cutoff\": 1.0, \"calitp_agency_name\": \"Caltrain\", \"caltrans_district\": \"04 - Oakland\", \"route_name\": \"Bullet\", \"route_short_name\": \"B7\", \"route_id2\": \"B7\", \"cutoff2\": 30, \"cutoff\": 0}, {\"calitp_itp_id\": 246, \"trip_key\": -7470321154795650450, \"trip_id\": \"709\", \"shape_id\": \"p_1277387\", \"route_id\": \"12867\", \"service_hours\": 1.1, \"trip_first_departure_ts\": 61140, \"trip_last_arrival_ts\": 65100, \"departure_hour\": 16, \"time_of_day\": \"Midday\", \"p25\": 1.08, \"p50\": 1.1, \"p75\": 1.1, \"p50_trip\": 1, \"fastest_trip\": 0, \"car_duration_hours\": 0.97, \"competitive_route\": 1, \"bus_multiplier\": 1.13, \"bus_difference\": 7.8, \"num_trips\": 12, \"num_competitive\": 12, \"pct_trips_competitive\": 1.0, \"bus_difference_spread\": 1.2000000000000002, \"route_group\": \"medium\", \"max_trip_hrs\": 1.1, \"max_trip_route_group\": 1.1, \"below_cutoff\": 12, \"pct_below_cutoff\": 1.0, \"calitp_agency_name\": \"Caltrain\", \"caltrans_district\": \"04 - Oakland\", \"route_name\": \"Bullet\", \"route_short_name\": \"B7\", \"route_id2\": \"B7\", \"cutoff2\": 30, \"cutoff\": 0}, {\"calitp_itp_id\": 246, \"trip_key\": 8482997763863316294, \"trip_id\": \"701\", \"shape_id\": \"p_1277413\", \"route_id\": \"12867\", \"service_hours\": 1.1, \"trip_first_departure_ts\": 21540, \"trip_last_arrival_ts\": 25500, \"departure_hour\": 5, \"time_of_day\": \"Owl Service\", \"p25\": 1.08, \"p50\": 1.1, \"p75\": 1.1, \"p50_trip\": 1, \"fastest_trip\": 0, \"car_duration_hours\": 0.97, \"competitive_route\": 1, \"bus_multiplier\": 1.13, \"bus_difference\": 7.8, \"num_trips\": 12, \"num_competitive\": 12, \"pct_trips_competitive\": 1.0, \"bus_difference_spread\": 1.2000000000000002, \"route_group\": \"medium\", \"max_trip_hrs\": 1.1, \"max_trip_route_group\": 1.1, \"below_cutoff\": 12, \"pct_below_cutoff\": 1.0, \"calitp_agency_name\": \"Caltrain\", \"caltrans_district\": \"04 - Oakland\", \"route_name\": \"Bullet\", \"route_short_name\": \"B7\", \"route_id2\": \"B7\", \"cutoff2\": 30, \"cutoff\": 0}, {\"calitp_itp_id\": 246, \"trip_key\": 9149517822258321180, \"trip_id\": \"502\", \"shape_id\": \"p_1277350\", \"route_id\": \"19601\", \"service_hours\": 1.22, \"trip_first_departure_ts\": 19800, \"trip_last_arrival_ts\": 24180, \"departure_hour\": 5, \"time_of_day\": \"Owl Service\", \"p25\": 1.23, \"p50\": 1.23, \"p75\": 1.23, \"p50_trip\": 0, \"fastest_trip\": 1, \"car_duration_hours\": 1.22, \"competitive_route\": 1, \"bus_multiplier\": 1.0, \"bus_difference\": 0.0, \"num_trips\": 17, \"num_competitive\": 17, \"pct_trips_competitive\": 1.0, \"bus_difference_spread\": 6.6, \"route_group\": \"medium\", \"max_trip_hrs\": 1.33, \"max_trip_route_group\": 1.33, \"below_cutoff\": 17, \"pct_below_cutoff\": 1.0, \"calitp_agency_name\": \"Caltrain\", \"caltrans_district\": \"04 - Oakland\", \"route_name\": \"Ltd 5\", \"route_short_name\": \"L5\", \"route_id2\": \"L5\", \"cutoff2\": 30, \"cutoff\": 0}, {\"calitp_itp_id\": 246, \"trip_key\": -3265062529563700995, \"trip_id\": \"511\", \"shape_id\": \"p_1277345\", \"route_id\": \"19601\", \"service_hours\": 1.23, \"trip_first_departure_ts\": 49380, \"trip_last_arrival_ts\": 53820, \"departure_hour\": 13, \"time_of_day\": \"Midday\", \"p25\": 1.23, \"p50\": 1.23, \"p75\": 1.23, \"p50_trip\": 1, \"fastest_trip\": 0, \"car_duration_hours\": 1.22, \"competitive_route\": 1, \"bus_multiplier\": 1.01, \"bus_difference\": 0.6, \"num_trips\": 17, \"num_competitive\": 17, \"pct_trips_competitive\": 1.0, \"bus_difference_spread\": 6.6, \"route_group\": \"medium\", \"max_trip_hrs\": 1.33, \"max_trip_route_group\": 1.33, \"below_cutoff\": 17, \"pct_below_cutoff\": 1.0, \"calitp_agency_name\": \"Caltrain\", \"caltrans_district\": \"04 - Oakland\", \"route_name\": \"Ltd 5\", \"route_short_name\": \"L5\", \"route_id2\": \"L5\", \"cutoff2\": 30, \"cutoff\": 0}, {\"calitp_itp_id\": 246, \"trip_key\": -6963403278907329206, \"trip_id\": \"504\", \"shape_id\": \"p_1277350\", \"route_id\": \"19601\", \"service_hours\": 1.23, \"trip_first_departure_ts\": 33240, \"trip_last_arrival_ts\": 37680, \"departure_hour\": 9, \"time_of_day\": \"AM Peak\", \"p25\": 1.23, \"p50\": 1.23, \"p75\": 1.23, \"p50_trip\": 1, \"fastest_trip\": 0, \"car_duration_hours\": 1.22, \"competitive_route\": 1, \"bus_multiplier\": 1.01, \"bus_difference\": 0.6, \"num_trips\": 17, \"num_competitive\": 17, \"pct_trips_competitive\": 1.0, \"bus_difference_spread\": 6.6, \"route_group\": \"medium\", \"max_trip_hrs\": 1.33, \"max_trip_route_group\": 1.33, \"below_cutoff\": 17, \"pct_below_cutoff\": 1.0, \"calitp_agency_name\": \"Caltrain\", \"caltrans_district\": \"04 - Oakland\", \"route_name\": \"Ltd 5\", \"route_short_name\": \"L5\", \"route_id2\": \"L5\", \"cutoff2\": 30, \"cutoff\": 0}, {\"calitp_itp_id\": 246, \"trip_key\": 7008740332156166630, \"trip_id\": \"516\", \"shape_id\": \"p_1277350\", \"route_id\": \"19601\", \"service_hours\": 1.23, \"trip_first_departure_ts\": 69240, \"trip_last_arrival_ts\": 73680, \"departure_hour\": 19, \"time_of_day\": \"PM Peak\", \"p25\": 1.23, \"p50\": 1.23, \"p75\": 1.23, \"p50_trip\": 1, \"fastest_trip\": 0, \"car_duration_hours\": 1.22, \"competitive_route\": 1, \"bus_multiplier\": 1.01, \"bus_difference\": 0.6, \"num_trips\": 17, \"num_competitive\": 17, \"pct_trips_competitive\": 1.0, \"bus_difference_spread\": 6.6, \"route_group\": \"medium\", \"max_trip_hrs\": 1.33, \"max_trip_route_group\": 1.33, \"below_cutoff\": 17, \"pct_below_cutoff\": 1.0, \"calitp_agency_name\": \"Caltrain\", \"caltrans_district\": \"04 - Oakland\", \"route_name\": \"Ltd 5\", \"route_short_name\": \"L5\", \"route_id2\": \"L5\", \"cutoff2\": 30, \"cutoff\": 0}, {\"calitp_itp_id\": 246, \"trip_key\": -2304653092082877345, \"trip_id\": \"506\", \"shape_id\": \"p_1277350\", \"route_id\": \"19601\", \"service_hours\": 1.23, \"trip_first_departure_ts\": 36840, \"trip_last_arrival_ts\": 41280, \"departure_hour\": 10, \"time_of_day\": \"Midday\", \"p25\": 1.23, \"p50\": 1.23, \"p75\": 1.23, \"p50_trip\": 1, \"fastest_trip\": 0, \"car_duration_hours\": 1.22, \"competitive_route\": 1, \"bus_multiplier\": 1.01, \"bus_difference\": 0.6, \"num_trips\": 17, \"num_competitive\": 17, \"pct_trips_competitive\": 1.0, \"bus_difference_spread\": 6.6, \"route_group\": \"medium\", \"max_trip_hrs\": 1.33, \"max_trip_route_group\": 1.33, \"below_cutoff\": 17, \"pct_below_cutoff\": 1.0, \"calitp_agency_name\": \"Caltrain\", \"caltrans_district\": \"04 - Oakland\", \"route_name\": \"Ltd 5\", \"route_short_name\": \"L5\", \"route_id2\": \"L5\", \"cutoff2\": 30, \"cutoff\": 0}, {\"calitp_itp_id\": 246, \"trip_key\": 955322695236507663, \"trip_id\": \"507\", \"shape_id\": \"p_1277345\", \"route_id\": \"19601\", \"service_hours\": 1.23, \"trip_first_departure_ts\": 42180, \"trip_last_arrival_ts\": 46620, \"departure_hour\": 11, \"time_of_day\": \"Midday\", \"p25\": 1.23, \"p50\": 1.23, \"p75\": 1.23, \"p50_trip\": 1, \"fastest_trip\": 0, \"car_duration_hours\": 1.22, \"competitive_route\": 1, \"bus_multiplier\": 1.01, \"bus_difference\": 0.6, \"num_trips\": 17, \"num_competitive\": 17, \"pct_trips_competitive\": 1.0, \"bus_difference_spread\": 6.6, \"route_group\": \"medium\", \"max_trip_hrs\": 1.33, \"max_trip_route_group\": 1.33, \"below_cutoff\": 17, \"pct_below_cutoff\": 1.0, \"calitp_agency_name\": \"Caltrain\", \"caltrans_district\": \"04 - Oakland\", \"route_name\": \"Ltd 5\", \"route_short_name\": \"L5\", \"route_id2\": \"L5\", \"cutoff2\": 30, \"cutoff\": 0}, {\"calitp_itp_id\": 246, \"trip_key\": 2880390379151674985, \"trip_id\": \"514\", \"shape_id\": \"p_1277350\", \"route_id\": \"19601\", \"service_hours\": 1.23, \"trip_first_departure_ts\": 51240, \"trip_last_arrival_ts\": 55680, \"departure_hour\": 14, \"time_of_day\": \"Midday\", \"p25\": 1.23, \"p50\": 1.23, \"p75\": 1.23, \"p50_trip\": 1, \"fastest_trip\": 0, \"car_duration_hours\": 1.22, \"competitive_route\": 1, \"bus_multiplier\": 1.01, \"bus_difference\": 0.6, \"num_trips\": 17, \"num_competitive\": 17, \"pct_trips_competitive\": 1.0, \"bus_difference_spread\": 6.6, \"route_group\": \"medium\", \"max_trip_hrs\": 1.33, \"max_trip_route_group\": 1.33, \"below_cutoff\": 17, \"pct_below_cutoff\": 1.0, \"calitp_agency_name\": \"Caltrain\", \"caltrans_district\": \"04 - Oakland\", \"route_name\": \"Ltd 5\", \"route_short_name\": \"L5\", \"route_id2\": \"L5\", \"cutoff2\": 30, \"cutoff\": 0}, {\"calitp_itp_id\": 246, \"trip_key\": 553268175740742960, \"trip_id\": \"503\", \"shape_id\": \"p_1277345\", \"route_id\": \"19601\", \"service_hours\": 1.23, \"trip_first_departure_ts\": 34980, \"trip_last_arrival_ts\": 39420, \"departure_hour\": 9, \"time_of_day\": \"AM Peak\", \"p25\": 1.23, \"p50\": 1.23, \"p75\": 1.23, \"p50_trip\": 1, \"fastest_trip\": 0, \"car_duration_hours\": 1.22, \"competitive_route\": 1, \"bus_multiplier\": 1.01, \"bus_difference\": 0.6, \"num_trips\": 17, \"num_competitive\": 17, \"pct_trips_competitive\": 1.0, \"bus_difference_spread\": 6.6, \"route_group\": \"medium\", \"max_trip_hrs\": 1.33, \"max_trip_route_group\": 1.33, \"below_cutoff\": 17, \"pct_below_cutoff\": 1.0, \"calitp_agency_name\": \"Caltrain\", \"caltrans_district\": \"04 - Oakland\", \"route_name\": \"Ltd 5\", \"route_short_name\": \"L5\", \"route_id2\": \"L5\", \"cutoff2\": 30, \"cutoff\": 0}, {\"calitp_itp_id\": 246, \"trip_key\": -4721818240216371953, \"trip_id\": \"510\", \"shape_id\": \"p_1277350\", \"route_id\": \"19601\", \"service_hours\": 1.23, \"trip_first_departure_ts\": 44040, \"trip_last_arrival_ts\": 48480, \"departure_hour\": 12, \"time_of_day\": \"Midday\", \"p25\": 1.23, \"p50\": 1.23, \"p75\": 1.23, \"p50_trip\": 1, \"fastest_trip\": 0, \"car_duration_hours\": 1.22, \"competitive_route\": 1, \"bus_multiplier\": 1.01, \"bus_difference\": 0.6, \"num_trips\": 17, \"num_competitive\": 17, \"pct_trips_competitive\": 1.0, \"bus_difference_spread\": 6.6, \"route_group\": \"medium\", \"max_trip_hrs\": 1.33, \"max_trip_route_group\": 1.33, \"below_cutoff\": 17, \"pct_below_cutoff\": 1.0, \"calitp_agency_name\": \"Caltrain\", \"caltrans_district\": \"04 - Oakland\", \"route_name\": \"Ltd 5\", \"route_short_name\": \"L5\", \"route_id2\": \"L5\", \"cutoff2\": 30, \"cutoff\": 0}, {\"calitp_itp_id\": 246, \"trip_key\": -4931343439422682093, \"trip_id\": \"512\", \"shape_id\": \"p_1277350\", \"route_id\": \"19601\", \"service_hours\": 1.23, \"trip_first_departure_ts\": 47640, \"trip_last_arrival_ts\": 52080, \"departure_hour\": 13, \"time_of_day\": \"Midday\", \"p25\": 1.23, \"p50\": 1.23, \"p75\": 1.23, \"p50_trip\": 1, \"fastest_trip\": 0, \"car_duration_hours\": 1.22, \"competitive_route\": 1, \"bus_multiplier\": 1.01, \"bus_difference\": 0.6, \"num_trips\": 17, \"num_competitive\": 17, \"pct_trips_competitive\": 1.0, \"bus_difference_spread\": 6.6, \"route_group\": \"medium\", \"max_trip_hrs\": 1.33, \"max_trip_route_group\": 1.33, \"below_cutoff\": 17, \"pct_below_cutoff\": 1.0, \"calitp_agency_name\": \"Caltrain\", \"caltrans_district\": \"04 - Oakland\", \"route_name\": \"Ltd 5\", \"route_short_name\": \"L5\", \"route_id2\": \"L5\", \"cutoff2\": 30, \"cutoff\": 0}, {\"calitp_itp_id\": 246, \"trip_key\": -9121745674402020511, \"trip_id\": \"515\", \"shape_id\": \"p_1277345\", \"route_id\": \"19601\", \"service_hours\": 1.23, \"trip_first_departure_ts\": 70980, \"trip_last_arrival_ts\": 75420, \"departure_hour\": 19, \"time_of_day\": \"PM Peak\", \"p25\": 1.23, \"p50\": 1.23, \"p75\": 1.23, \"p50_trip\": 1, \"fastest_trip\": 0, \"car_duration_hours\": 1.22, \"competitive_route\": 1, \"bus_multiplier\": 1.01, \"bus_difference\": 0.6, \"num_trips\": 17, \"num_competitive\": 17, \"pct_trips_competitive\": 1.0, \"bus_difference_spread\": 6.6, \"route_group\": \"medium\", \"max_trip_hrs\": 1.33, \"max_trip_route_group\": 1.33, \"below_cutoff\": 17, \"pct_below_cutoff\": 1.0, \"calitp_agency_name\": \"Caltrain\", \"caltrans_district\": \"04 - Oakland\", \"route_name\": \"Ltd 5\", \"route_short_name\": \"L5\", \"route_id2\": \"L5\", \"cutoff2\": 30, \"cutoff\": 0}, {\"calitp_itp_id\": 246, \"trip_key\": -3589814024653243936, \"trip_id\": \"509\", \"shape_id\": \"p_1277345\", \"route_id\": \"19601\", \"service_hours\": 1.23, \"trip_first_departure_ts\": 45780, \"trip_last_arrival_ts\": 50220, \"departure_hour\": 12, \"time_of_day\": \"Midday\", \"p25\": 1.23, \"p50\": 1.23, \"p75\": 1.23, \"p50_trip\": 1, \"fastest_trip\": 0, \"car_duration_hours\": 1.22, \"competitive_route\": 1, \"bus_multiplier\": 1.01, \"bus_difference\": 0.6, \"num_trips\": 17, \"num_competitive\": 17, \"pct_trips_competitive\": 1.0, \"bus_difference_spread\": 6.6, \"route_group\": \"medium\", \"max_trip_hrs\": 1.33, \"max_trip_route_group\": 1.33, \"below_cutoff\": 17, \"pct_below_cutoff\": 1.0, \"calitp_agency_name\": \"Caltrain\", \"caltrans_district\": \"04 - Oakland\", \"route_name\": \"Ltd 5\", \"route_short_name\": \"L5\", \"route_id2\": \"L5\", \"cutoff2\": 30, \"cutoff\": 0}, {\"calitp_itp_id\": 246, \"trip_key\": 1164964554527929344, \"trip_id\": \"518\", \"shape_id\": \"p_1277350\", \"route_id\": \"19601\", \"service_hours\": 1.23, \"trip_first_departure_ts\": 72840, \"trip_last_arrival_ts\": 77280, \"departure_hour\": 20, \"time_of_day\": \"Owl Service\", \"p25\": 1.23, \"p50\": 1.23, \"p75\": 1.23, \"p50_trip\": 1, \"fastest_trip\": 0, \"car_duration_hours\": 1.22, \"competitive_route\": 1, \"bus_multiplier\": 1.01, \"bus_difference\": 0.6, \"num_trips\": 17, \"num_competitive\": 17, \"pct_trips_competitive\": 1.0, \"bus_difference_spread\": 6.6, \"route_group\": \"medium\", \"max_trip_hrs\": 1.33, \"max_trip_route_group\": 1.33, \"below_cutoff\": 17, \"pct_below_cutoff\": 1.0, \"calitp_agency_name\": \"Caltrain\", \"caltrans_district\": \"04 - Oakland\", \"route_name\": \"Ltd 5\", \"route_short_name\": \"L5\", \"route_id2\": \"L5\", \"cutoff2\": 30, \"cutoff\": 0}, {\"calitp_itp_id\": 246, \"trip_key\": -2895236252452015639, \"trip_id\": \"513\", \"shape_id\": \"p_1277345\", \"route_id\": \"19601\", \"service_hours\": 1.23, \"trip_first_departure_ts\": 52980, \"trip_last_arrival_ts\": 57420, \"departure_hour\": 14, \"time_of_day\": \"Midday\", \"p25\": 1.23, \"p50\": 1.23, \"p75\": 1.23, \"p50_trip\": 1, \"fastest_trip\": 0, \"car_duration_hours\": 1.22, \"competitive_route\": 1, \"bus_multiplier\": 1.01, \"bus_difference\": 0.6, \"num_trips\": 17, \"num_competitive\": 17, \"pct_trips_competitive\": 1.0, \"bus_difference_spread\": 6.6, \"route_group\": \"medium\", \"max_trip_hrs\": 1.33, \"max_trip_route_group\": 1.33, \"below_cutoff\": 17, \"pct_below_cutoff\": 1.0, \"calitp_agency_name\": \"Caltrain\", \"caltrans_district\": \"04 - Oakland\", \"route_name\": \"Ltd 5\", \"route_short_name\": \"L5\", \"route_id2\": \"L5\", \"cutoff2\": 30, \"cutoff\": 0}, {\"calitp_itp_id\": 246, \"trip_key\": -3606529219655603771, \"trip_id\": \"508\", \"shape_id\": \"p_1277350\", \"route_id\": \"19601\", \"service_hours\": 1.23, \"trip_first_departure_ts\": 40440, \"trip_last_arrival_ts\": 44880, \"departure_hour\": 11, \"time_of_day\": \"Midday\", \"p25\": 1.23, \"p50\": 1.23, \"p75\": 1.23, \"p50_trip\": 1, \"fastest_trip\": 0, \"car_duration_hours\": 1.22, \"competitive_route\": 1, \"bus_multiplier\": 1.01, \"bus_difference\": 0.6, \"num_trips\": 17, \"num_competitive\": 17, \"pct_trips_competitive\": 1.0, \"bus_difference_spread\": 6.6, \"route_group\": \"medium\", \"max_trip_hrs\": 1.33, \"max_trip_route_group\": 1.33, \"below_cutoff\": 17, \"pct_below_cutoff\": 1.0, \"calitp_agency_name\": \"Caltrain\", \"caltrans_district\": \"04 - Oakland\", \"route_name\": \"Ltd 5\", \"route_short_name\": \"L5\", \"route_id2\": \"L5\", \"cutoff2\": 30, \"cutoff\": 0}, {\"calitp_itp_id\": 246, \"trip_key\": 1744670112445261467, \"trip_id\": \"505\", \"shape_id\": \"p_1277345\", \"route_id\": \"19601\", \"service_hours\": 1.23, \"trip_first_departure_ts\": 38580, \"trip_last_arrival_ts\": 43020, \"departure_hour\": 10, \"time_of_day\": \"Midday\", \"p25\": 1.23, \"p50\": 1.23, \"p75\": 1.23, \"p50_trip\": 1, \"fastest_trip\": 0, \"car_duration_hours\": 1.22, \"competitive_route\": 1, \"bus_multiplier\": 1.01, \"bus_difference\": 0.6, \"num_trips\": 17, \"num_competitive\": 17, \"pct_trips_competitive\": 1.0, \"bus_difference_spread\": 6.6, \"route_group\": \"medium\", \"max_trip_hrs\": 1.33, \"max_trip_route_group\": 1.33, \"below_cutoff\": 17, \"pct_below_cutoff\": 1.0, \"calitp_agency_name\": \"Caltrain\", \"caltrans_district\": \"04 - Oakland\", \"route_name\": \"Ltd 5\", \"route_short_name\": \"L5\", \"route_id2\": \"L5\", \"cutoff2\": 30, \"cutoff\": 0}, {\"calitp_itp_id\": 246, \"trip_key\": -3300211462706906779, \"trip_id\": \"501\", \"shape_id\": \"p_1277346\", \"route_id\": \"19601\", \"service_hours\": 1.33, \"trip_first_departure_ts\": 18120, \"trip_last_arrival_ts\": 22920, \"departure_hour\": 5, \"time_of_day\": \"Owl Service\", \"p25\": 1.23, \"p50\": 1.23, \"p75\": 1.23, \"p50_trip\": 0, \"fastest_trip\": 0, \"car_duration_hours\": 1.22, \"competitive_route\": 1, \"bus_multiplier\": 1.09, \"bus_difference\": 6.6, \"num_trips\": 17, \"num_competitive\": 17, \"pct_trips_competitive\": 1.0, \"bus_difference_spread\": 6.6, \"route_group\": \"medium\", \"max_trip_hrs\": 1.33, \"max_trip_route_group\": 1.33, \"below_cutoff\": 17, \"pct_below_cutoff\": 1.0, \"calitp_agency_name\": \"Caltrain\", \"caltrans_district\": \"04 - Oakland\", \"route_name\": \"Ltd 5\", \"route_short_name\": \"L5\", \"route_id2\": \"L5\", \"cutoff2\": 30, \"cutoff\": 0}]}}, {\"mode\": \"vega-lite\"});\n",
       "</script>"
      ],
      "text/plain": [
       "alt.FacetChart(...)"
      ]
     },
     "metadata": {},
     "output_type": "display_data"
    },
    {
     "data": {
      "text/html": [
       "<h4>Route Stats</h4>"
      ],
      "text/plain": [
       "<IPython.core.display.HTML object>"
      ]
     },
     "metadata": {},
     "output_type": "display_data"
    },
    {
     "data": {
      "text/html": [
       "<style type=\"text/css\">\n",
       "#T_6b170 th {\n",
       "  text-align: center;\n",
       "}\n",
       "#T_6b170_row0_col0, #T_6b170_row0_col1, #T_6b170_row1_col0, #T_6b170_row1_col1 {\n",
       "  text-align: left;\n",
       "}\n",
       "#T_6b170_row0_col2, #T_6b170_row0_col3, #T_6b170_row0_col5, #T_6b170_row1_col2, #T_6b170_row1_col3, #T_6b170_row1_col5 {\n",
       "  text-align: center;\n",
       "}\n",
       "</style>\n",
       "<table id=\"T_6b170\">\n",
       "  <thead>\n",
       "    <tr>\n",
       "      <th id=\"T_6b170_level0_col0\" class=\"col_heading level0 col0\" >Route ID</th>\n",
       "      <th id=\"T_6b170_level0_col1\" class=\"col_heading level0 col1\" >Route Name</th>\n",
       "      <th id=\"T_6b170_level0_col2\" class=\"col_heading level0 col2\" ># trips</th>\n",
       "      <th id=\"T_6b170_level0_col3\" class=\"col_heading level0 col3\" >Daily Avg Freq (trips per hr)</th>\n",
       "      <th id=\"T_6b170_level0_col4\" class=\"col_heading level0 col4\" >25th, 50th, 75th ptile (hrs)</th>\n",
       "      <th id=\"T_6b170_level0_col5\" class=\"col_heading level0 col5\" >PM Peak Avg Freq (trips per hr)</th>\n",
       "    </tr>\n",
       "  </thead>\n",
       "  <tbody>\n",
       "    <tr>\n",
       "      <td id=\"T_6b170_row0_col0\" class=\"data row0 col0\" >L5</td>\n",
       "      <td id=\"T_6b170_row0_col1\" class=\"data row0 col1\" >Ltd 5</td>\n",
       "      <td id=\"T_6b170_row0_col2\" class=\"data row0 col2\" >17</td>\n",
       "      <td id=\"T_6b170_row0_col3\" class=\"data row0 col3\" >0.71</td>\n",
       "      <td id=\"T_6b170_row0_col4\" class=\"data row0 col4\" >1.23, 1.23, 1.23</td>\n",
       "      <td id=\"T_6b170_row0_col5\" class=\"data row0 col5\" >0.67</td>\n",
       "    </tr>\n",
       "    <tr>\n",
       "      <td id=\"T_6b170_row1_col0\" class=\"data row1 col0\" >B7</td>\n",
       "      <td id=\"T_6b170_row1_col1\" class=\"data row1 col1\" >Bullet</td>\n",
       "      <td id=\"T_6b170_row1_col2\" class=\"data row1 col2\" >12</td>\n",
       "      <td id=\"T_6b170_row1_col3\" class=\"data row1 col3\" >0.5</td>\n",
       "      <td id=\"T_6b170_row1_col4\" class=\"data row1 col4\" >1.08, 1.1, 1.1</td>\n",
       "      <td id=\"T_6b170_row1_col5\" class=\"data row1 col5\" >1.0</td>\n",
       "    </tr>\n",
       "  </tbody>\n",
       "</table>\n"
      ],
      "text/plain": [
       "<IPython.core.display.HTML object>"
      ]
     },
     "metadata": {},
     "output_type": "display_data"
    }
   ],
   "source": [
    "route_group = \"medium\"\n",
    "display_charts_for_route_group(df, route_group)"
   ]
  },
  {
   "cell_type": "markdown",
   "id": "124b76d0-886c-4d03-92ac-f1bda3cda182",
   "metadata": {
    "papermill": {
     "duration": 0.018319,
     "end_time": "2022-06-03T21:53:13.403601",
     "exception": false,
     "start_time": "2022-06-03T21:53:13.385282",
     "status": "completed"
    },
    "tags": []
   },
   "source": [
    "### Long Routes (> 1.5 hrs)"
   ]
  },
  {
   "cell_type": "code",
   "execution_count": 16,
   "id": "ddc81b19-4c45-4c81-8b7a-5e0f394aa7a3",
   "metadata": {
    "execution": {
     "iopub.execute_input": "2022-06-03T21:53:13.447878Z",
     "iopub.status.busy": "2022-06-03T21:53:13.446973Z",
     "iopub.status.idle": "2022-06-03T21:53:13.461823Z",
     "shell.execute_reply": "2022-06-03T21:53:13.461226Z"
    },
    "jupyter": {
     "source_hidden": true
    },
    "papermill": {
     "duration": 0.042107,
     "end_time": "2022-06-03T21:53:13.464225",
     "exception": false,
     "start_time": "2022-06-03T21:53:13.422118",
     "status": "completed"
    },
    "tags": [
     "remove_input"
    ]
   },
   "outputs": [
    {
     "name": "stdout",
     "output_type": "stream",
     "text": [
      "No routes meet this criteria.\n"
     ]
    }
   ],
   "source": [
    "route_group = \"long\"\n",
    "display_charts_for_route_group(df, route_group)"
   ]
  },
  {
   "cell_type": "markdown",
   "id": "ace75b5f-0442-4fbe-aebd-6c3a13ae13a7",
   "metadata": {
    "papermill": {
     "duration": 0.019428,
     "end_time": "2022-06-03T21:53:13.502696",
     "exception": false,
     "start_time": "2022-06-03T21:53:13.483268",
     "status": "completed"
    },
    "tags": []
   },
   "source": [
    "### GTFS Real-Time Speedmaps"
   ]
  },
  {
   "cell_type": "code",
   "execution_count": 17,
   "id": "a0a114a1-e975-4027-9daf-50029f5ef59f",
   "metadata": {
    "execution": {
     "iopub.execute_input": "2022-06-03T21:53:13.551664Z",
     "iopub.status.busy": "2022-06-03T21:53:13.551280Z",
     "iopub.status.idle": "2022-06-03T21:53:13.574413Z",
     "shell.execute_reply": "2022-06-03T21:53:13.573480Z"
    },
    "jupyter": {
     "source_hidden": true
    },
    "papermill": {
     "duration": 0.054228,
     "end_time": "2022-06-03T21:53:13.576847",
     "exception": false,
     "start_time": "2022-06-03T21:53:13.522619",
     "status": "completed"
    },
    "tags": [
     "remove_input"
    ]
   },
   "outputs": [
    {
     "data": {
      "text/html": [
       "No GTFS RT data available."
      ],
      "text/plain": [
       "<IPython.core.display.HTML object>"
      ]
     },
     "metadata": {},
     "output_type": "display_data"
    }
   ],
   "source": [
    "RT_SITE_YAML = \"../portfolio/sites/rt.yml\"\n",
    "\n",
    "# Grab list of ITP IDs with GTFS RT speedmaps\n",
    "rt_itp_id = deploy_portfolio_yaml.check_if_rt_data_available(RT_SITE_YAML)\n",
    "\n",
    "# Construct the URL \n",
    "RT_URL = (\"https://analysis.calitp.org/rt/\"\n",
    "          f\"district_{district_number}-{district_name}/\"\n",
    "          f\"speedmaps__itp_id_{itp_id}.html\"\n",
    "         ) \n",
    "\n",
    "# If this ITP ID is found in RT analysis, give URL to that operator in analysis.calitp.org\n",
    "if itp_id in rt_itp_id:\n",
    "    display(HTML(f'''<a href={RT_URL}>GTFS RT speedmaps here.</a>'''))\n",
    "\n",
    "else:\n",
    "    display(HTML(\"No GTFS RT data available.\"))"
   ]
  },
  {
   "cell_type": "code",
   "execution_count": null,
   "id": "5b680565-2230-4f2e-817c-718fad48d64c",
   "metadata": {
    "jupyter": {
     "source_hidden": true
    },
    "papermill": {
     "duration": 0.019782,
     "end_time": "2022-06-03T21:53:13.615830",
     "exception": false,
     "start_time": "2022-06-03T21:53:13.596048",
     "status": "completed"
    },
    "tags": [
     "remove_input"
    ]
   },
   "outputs": [],
   "source": []
  }
 ],
 "metadata": {
  "kernelspec": {
   "display_name": "Python 3 (ipykernel)",
   "language": "python",
   "name": "python3"
  },
  "language_info": {
   "codemirror_mode": {
    "name": "ipython",
    "version": 3
   },
   "file_extension": ".py",
   "mimetype": "text/x-python",
   "name": "python",
   "nbconvert_exporter": "python",
   "pygments_lexer": "ipython3",
   "version": "3.9.12"
  },
  "papermill": {
   "default_parameters": {},
   "duration": 24.661561,
   "end_time": "2022-06-03T21:53:15.066369",
   "environment_variables": {},
   "exception": null,
   "input_path": "bus_service_increase/competitive-parallel-routes.ipynb",
   "output_path": "portfolio/parallel_corridors/district_04-oakland/7__competitive-parallel-routes__district_04-oakland__itp_id_246.ipynb",
   "parameters": {
    "district": "04 - Oakland",
    "itp_id": 246
   },
   "start_time": "2022-06-03T21:52:50.404808",
   "version": "2.3.4"
  }
 },
 "nbformat": 4,
 "nbformat_minor": 5
}