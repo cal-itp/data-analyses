{
 "cells": [
  {
   "cell_type": "code",
   "execution_count": 1,
   "id": "a244917f-f784-477f-83e3-f9068b92f668",
   "metadata": {
    "execution": {
     "iopub.execute_input": "2022-04-28T18:26:25.293717Z",
     "iopub.status.busy": "2022-04-28T18:26:25.293173Z",
     "iopub.status.idle": "2022-04-28T18:26:34.617823Z",
     "shell.execute_reply": "2022-04-28T18:26:34.617090Z"
    },
    "jupyter": {
     "source_hidden": true
    },
    "papermill": {
     "duration": 9.336292,
     "end_time": "2022-04-28T18:26:34.620657",
     "exception": false,
     "start_time": "2022-04-28T18:26:25.284365",
     "status": "completed"
    },
    "tags": [
     "remove_input"
    ]
   },
   "outputs": [],
   "source": [
    "%%capture\n",
    "import warnings\n",
    "warnings.filterwarnings('ignore')\n",
    "\n",
    "import altair as alt\n",
    "import calitp.magics\n",
    "import geopandas as gpd\n",
    "import intake\n",
    "import pandas as pd\n",
    "\n",
    "from IPython.display import display, Markdown, HTML\n",
    "\n",
    "import parallel_corridors_utils\n",
    "from shared_utils import styleguide\n",
    "from shared_utils import calitp_color_palette as cp\n",
    "\n",
    "catalog = intake.open_catalog(\"./*.yml\")\n",
    "alt.renderers.enable(\"html\")\n",
    "alt.themes.register(\"calitp_theme\", styleguide.calitp_theme)"
   ]
  },
  {
   "cell_type": "code",
   "execution_count": 2,
   "id": "8bdfead1-a7b7-4399-9fc2-5592829c79b1",
   "metadata": {
    "execution": {
     "iopub.execute_input": "2022-04-28T18:26:34.645991Z",
     "iopub.status.busy": "2022-04-28T18:26:34.644376Z",
     "iopub.status.idle": "2022-04-28T18:26:34.649874Z",
     "shell.execute_reply": "2022-04-28T18:26:34.649200Z"
    },
    "jupyter": {
     "source_hidden": true
    },
    "papermill": {
     "duration": 0.020647,
     "end_time": "2022-04-28T18:26:34.652243",
     "exception": false,
     "start_time": "2022-04-28T18:26:34.631596",
     "status": "completed"
    },
    "tags": [
     "parameters",
     "remove_input"
    ]
   },
   "outputs": [],
   "source": [
    "# parameters cell\n",
    "itp_id = 182\n",
    "district = 7"
   ]
  },
  {
   "cell_type": "code",
   "execution_count": 3,
   "id": "2b39647e",
   "metadata": {
    "execution": {
     "iopub.execute_input": "2022-04-28T18:26:34.675310Z",
     "iopub.status.busy": "2022-04-28T18:26:34.674837Z",
     "iopub.status.idle": "2022-04-28T18:26:34.679010Z",
     "shell.execute_reply": "2022-04-28T18:26:34.678301Z"
    },
    "jupyter": {
     "source_hidden": true
    },
    "papermill": {
     "duration": 0.021637,
     "end_time": "2022-04-28T18:26:34.681105",
     "exception": false,
     "start_time": "2022-04-28T18:26:34.659468",
     "status": "completed"
    },
    "tags": [
     "injected-parameters",
     "remove_input"
    ]
   },
   "outputs": [],
   "source": [
    "# Parameters\n",
    "district = 4\n",
    "itp_id = 4\n"
   ]
  },
  {
   "cell_type": "code",
   "execution_count": 4,
   "id": "634a4571-3431-4786-913f-c44624fe7265",
   "metadata": {
    "execution": {
     "iopub.execute_input": "2022-04-28T18:26:34.699417Z",
     "iopub.status.busy": "2022-04-28T18:26:34.699118Z",
     "iopub.status.idle": "2022-04-28T18:26:34.704921Z",
     "shell.execute_reply": "2022-04-28T18:26:34.703973Z"
    },
    "jupyter": {
     "source_hidden": true
    },
    "papermill": {
     "duration": 0.017492,
     "end_time": "2022-04-28T18:26:34.708103",
     "exception": false,
     "start_time": "2022-04-28T18:26:34.690611",
     "status": "completed"
    },
    "tags": [
     "remove_input"
    ]
   },
   "outputs": [],
   "source": [
    "%%capture_parameters\n",
    "itp_id, district"
   ]
  },
  {
   "cell_type": "markdown",
   "id": "a421489f-b3ea-482b-bb8e-e7a9bdbca402",
   "metadata": {
    "papermill": {
     "duration": 0.007135,
     "end_time": "2022-04-28T18:26:34.722741",
     "exception": false,
     "start_time": "2022-04-28T18:26:34.715606",
     "status": "completed"
    },
    "tags": []
   },
   "source": [
    "# Parameterized: 4 in district 4\n",
    "\n",
    "Test if altair chart renders."
   ]
  },
  {
   "cell_type": "code",
   "execution_count": 5,
   "id": "e6257b82-2e84-411d-a967-42d2b866878c",
   "metadata": {
    "execution": {
     "iopub.execute_input": "2022-04-28T18:26:34.738367Z",
     "iopub.status.busy": "2022-04-28T18:26:34.737961Z",
     "iopub.status.idle": "2022-04-28T18:26:36.226155Z",
     "shell.execute_reply": "2022-04-28T18:26:36.225423Z"
    },
    "jupyter": {
     "source_hidden": true
    },
    "papermill": {
     "duration": 1.498641,
     "end_time": "2022-04-28T18:26:36.228244",
     "exception": false,
     "start_time": "2022-04-28T18:26:34.729603",
     "status": "completed"
    },
    "tags": [
     "remove_input"
    ]
   },
   "outputs": [],
   "source": [
    "df = catalog.competitive_route_variability.read()\n",
    "\n",
    "df = (df[(df.calitp_itp_id == itp_id) & \n",
    "         (df.route_group.notna())]\n",
    "      .reset_index(drop=True)\n",
    "     )\n",
    "\n",
    "\n",
    "if itp_id == 182:\n",
    "    df = df.assign(\n",
    "        route_id = df.route_id.str.replace('-13153', '').astype(int)\n",
    "    )"
   ]
  },
  {
   "cell_type": "code",
   "execution_count": 6,
   "id": "7507a2c5-0e9b-4872-98ac-c35981221d06",
   "metadata": {
    "execution": {
     "iopub.execute_input": "2022-04-28T18:26:36.243608Z",
     "iopub.status.busy": "2022-04-28T18:26:36.243134Z",
     "iopub.status.idle": "2022-04-28T18:26:36.252803Z",
     "shell.execute_reply": "2022-04-28T18:26:36.252069Z"
    },
    "jupyter": {
     "source_hidden": true
    },
    "papermill": {
     "duration": 0.020446,
     "end_time": "2022-04-28T18:26:36.255259",
     "exception": false,
     "start_time": "2022-04-28T18:26:36.234813",
     "status": "completed"
    },
    "tags": [
     "remove_input"
    ]
   },
   "outputs": [],
   "source": [
    "agg_df = df.groupby([\"route_id\"]).agg({\"service_hours\": \"sum\"}).reset_index()"
   ]
  },
  {
   "cell_type": "code",
   "execution_count": 7,
   "id": "3160f5dd-3dd7-4dd9-a6cb-b80f385eb7ea",
   "metadata": {
    "execution": {
     "iopub.execute_input": "2022-04-28T18:26:36.271686Z",
     "iopub.status.busy": "2022-04-28T18:26:36.271158Z",
     "iopub.status.idle": "2022-04-28T18:26:36.307457Z",
     "shell.execute_reply": "2022-04-28T18:26:36.305176Z"
    },
    "jupyter": {
     "source_hidden": true
    },
    "papermill": {
     "duration": 0.0528,
     "end_time": "2022-04-28T18:26:36.315279",
     "exception": false,
     "start_time": "2022-04-28T18:26:36.262479",
     "status": "completed"
    },
    "tags": [
     "remove_input"
    ]
   },
   "outputs": [
    {
     "data": {
      "text/html": [
       "\n",
       "<div id=\"altair-viz-b9962e77820442beb4a3516c685ce4d2\"></div>\n",
       "<script type=\"text/javascript\">\n",
       "  var VEGA_DEBUG = (typeof VEGA_DEBUG == \"undefined\") ? {} : VEGA_DEBUG;\n",
       "  (function(spec, embedOpt){\n",
       "    let outputDiv = document.currentScript.previousElementSibling;\n",
       "    if (outputDiv.id !== \"altair-viz-b9962e77820442beb4a3516c685ce4d2\") {\n",
       "      outputDiv = document.getElementById(\"altair-viz-b9962e77820442beb4a3516c685ce4d2\");\n",
       "    }\n",
       "    const paths = {\n",
       "      \"vega\": \"https://cdn.jsdelivr.net/npm//vega@5?noext\",\n",
       "      \"vega-lib\": \"https://cdn.jsdelivr.net/npm//vega-lib?noext\",\n",
       "      \"vega-lite\": \"https://cdn.jsdelivr.net/npm//vega-lite@4.17.0?noext\",\n",
       "      \"vega-embed\": \"https://cdn.jsdelivr.net/npm//vega-embed@6?noext\",\n",
       "    };\n",
       "\n",
       "    function maybeLoadScript(lib, version) {\n",
       "      var key = `${lib.replace(\"-\", \"\")}_version`;\n",
       "      return (VEGA_DEBUG[key] == version) ?\n",
       "        Promise.resolve(paths[lib]) :\n",
       "        new Promise(function(resolve, reject) {\n",
       "          var s = document.createElement('script');\n",
       "          document.getElementsByTagName(\"head\")[0].appendChild(s);\n",
       "          s.async = true;\n",
       "          s.onload = () => {\n",
       "            VEGA_DEBUG[key] = version;\n",
       "            return resolve(paths[lib]);\n",
       "          };\n",
       "          s.onerror = () => reject(`Error loading script: ${paths[lib]}`);\n",
       "          s.src = paths[lib];\n",
       "        });\n",
       "    }\n",
       "\n",
       "    function showError(err) {\n",
       "      outputDiv.innerHTML = `<div class=\"error\" style=\"color:red;\">${err}</div>`;\n",
       "      throw err;\n",
       "    }\n",
       "\n",
       "    function displayChart(vegaEmbed) {\n",
       "      vegaEmbed(outputDiv, spec, embedOpt)\n",
       "        .catch(err => showError(`Javascript Error: ${err.message}<br>This usually means there's a typo in your chart specification. See the javascript console for the full traceback.`));\n",
       "    }\n",
       "\n",
       "    if(typeof define === \"function\" && define.amd) {\n",
       "      requirejs.config({paths});\n",
       "      require([\"vega-embed\"], displayChart, err => showError(`Error loading script: ${err.message}`));\n",
       "    } else {\n",
       "      maybeLoadScript(\"vega\", \"5\")\n",
       "        .then(() => maybeLoadScript(\"vega-lite\", \"4.17.0\"))\n",
       "        .then(() => maybeLoadScript(\"vega-embed\", \"6\"))\n",
       "        .catch(showError)\n",
       "        .then(() => displayChart(vegaEmbed));\n",
       "    }\n",
       "  })({\"config\": {\"view\": {\"continuousWidth\": 400, \"continuousHeight\": 300}}, \"data\": {\"name\": \"data-ba9a0550b896ef7383f4e381fa627c33\"}, \"mark\": \"bar\", \"encoding\": {\"color\": {\"field\": \"route_id\", \"scale\": {\"range\": [\"#2EA8CE\", \"#EB9F3C\", \"#F4D837\", \"#51BF9D\", \"#8CBCCB\", \"#9487C0\"]}, \"type\": \"nominal\"}, \"x\": {\"field\": \"route_id\", \"type\": \"nominal\"}, \"y\": {\"field\": \"service_hours\", \"type\": \"quantitative\"}}, \"title\": \"Chart Title\", \"width\": 800, \"$schema\": \"https://vega.github.io/schema/vega-lite/v4.17.0.json\", \"datasets\": {\"data-ba9a0550b896ef7383f4e381fa627c33\": [{\"route_id\": \"10\", \"service_hours\": 72.13}, {\"route_id\": \"12\", \"service_hours\": 71.21000000000001}, {\"route_id\": \"14\", \"service_hours\": 108.19}, {\"route_id\": \"18\", \"service_hours\": 87.62}, {\"route_id\": \"19\", \"service_hours\": 20.22}, {\"route_id\": \"1T\", \"service_hours\": 172.59}, {\"route_id\": \"20\", \"service_hours\": 60.64}, {\"route_id\": \"200\", \"service_hours\": 86.35}, {\"route_id\": \"21\", \"service_hours\": 50.26}, {\"route_id\": \"210\", \"service_hours\": 48.21}, {\"route_id\": \"215\", \"service_hours\": 19.9}, {\"route_id\": \"216\", \"service_hours\": 19.67}, {\"route_id\": \"217\", \"service_hours\": 53.45}, {\"route_id\": \"232\", \"service_hours\": 21.73}, {\"route_id\": \"239\", \"service_hours\": 46.379999999999995}, {\"route_id\": \"251\", \"service_hours\": 10.4}, {\"route_id\": \"28\", \"service_hours\": 32.73}, {\"route_id\": \"29\", \"service_hours\": 48.33}, {\"route_id\": \"33\", \"service_hours\": 65.78}, {\"route_id\": \"34\", \"service_hours\": 30.28}, {\"route_id\": \"35\", \"service_hours\": 27.82}, {\"route_id\": \"36\", \"service_hours\": 56.46}, {\"route_id\": \"376\", \"service_hours\": 23.69}, {\"route_id\": \"39\", \"service_hours\": 11.8}, {\"route_id\": \"40\", \"service_hours\": 140.42}, {\"route_id\": \"41\", \"service_hours\": 21.72}, {\"route_id\": \"45\", \"service_hours\": 63.269999999999996}, {\"route_id\": \"46L\", \"service_hours\": 11.34}, {\"route_id\": \"51A\", \"service_hours\": 135.85999999999999}, {\"route_id\": \"51B\", \"service_hours\": 94.42999999999999}, {\"route_id\": \"52\", \"service_hours\": 62.29}, {\"route_id\": \"54\", \"service_hours\": 37.89}, {\"route_id\": \"56\", \"service_hours\": 22.35}, {\"route_id\": \"57\", \"service_hours\": 140.6}, {\"route_id\": \"6\", \"service_hours\": 97.68}, {\"route_id\": \"60\", \"service_hours\": 43.0}, {\"route_id\": \"604\", \"service_hours\": 2.02}, {\"route_id\": \"605\", \"service_hours\": 1.49}, {\"route_id\": \"606\", \"service_hours\": 0.8}, {\"route_id\": \"607\", \"service_hours\": 0.57}, {\"route_id\": \"611\", \"service_hours\": 1.16}, {\"route_id\": \"617\", \"service_hours\": 1.6099999999999999}, {\"route_id\": \"62\", \"service_hours\": 70.13}, {\"route_id\": \"620\", \"service_hours\": 0.72}, {\"route_id\": \"626\", \"service_hours\": 0.6699999999999999}, {\"route_id\": \"628\", \"service_hours\": 0.5800000000000001}, {\"route_id\": \"631\", \"service_hours\": 2.1799999999999997}, {\"route_id\": \"638\", \"service_hours\": 0.96}, {\"route_id\": \"642\", \"service_hours\": 0.42}, {\"route_id\": \"648\", \"service_hours\": 2.8}, {\"route_id\": \"649\", \"service_hours\": 2.11}, {\"route_id\": \"650\", \"service_hours\": 0.82}, {\"route_id\": \"653\", \"service_hours\": 1.27}, {\"route_id\": \"654\", \"service_hours\": 3.19}, {\"route_id\": \"655\", \"service_hours\": 1.0699999999999998}, {\"route_id\": \"657\", \"service_hours\": 4.39}, {\"route_id\": \"658\", \"service_hours\": 2.96}, {\"route_id\": \"660\", \"service_hours\": 1.02}, {\"route_id\": \"662\", \"service_hours\": 1.27}, {\"route_id\": \"663\", \"service_hours\": 0.87}, {\"route_id\": \"667\", \"service_hours\": 2.05}, {\"route_id\": \"669\", \"service_hours\": 2.37}, {\"route_id\": \"671\", \"service_hours\": 1.42}, {\"route_id\": \"672\", \"service_hours\": 1.15}, {\"route_id\": \"675\", \"service_hours\": 4.390000000000001}, {\"route_id\": \"676\", \"service_hours\": 1.23}, {\"route_id\": \"677\", \"service_hours\": 0.94}, {\"route_id\": \"680\", \"service_hours\": 1.1}, {\"route_id\": \"681\", \"service_hours\": 0.84}, {\"route_id\": \"682\", \"service_hours\": 3.5999999999999996}, {\"route_id\": \"684\", \"service_hours\": 1.7200000000000002}, {\"route_id\": \"687\", \"service_hours\": 0.92}, {\"route_id\": \"688\", \"service_hours\": 1.6}, {\"route_id\": \"696\", \"service_hours\": 1.61}, {\"route_id\": \"7\", \"service_hours\": 25.86}, {\"route_id\": \"70\", \"service_hours\": 16.18}, {\"route_id\": \"71\", \"service_hours\": 29.13}, {\"route_id\": \"72\", \"service_hours\": 98.99}, {\"route_id\": \"72M\", \"service_hours\": 89.09}, {\"route_id\": \"72R\", \"service_hours\": 128.1}, {\"route_id\": \"73\", \"service_hours\": 44.64}, {\"route_id\": \"74\", \"service_hours\": 51.31}, {\"route_id\": \"76\", \"service_hours\": 60.87}, {\"route_id\": \"78\", \"service_hours\": 12.31}, {\"route_id\": \"79\", \"service_hours\": 34.5}, {\"route_id\": \"800\", \"service_hours\": 38.44}, {\"route_id\": \"801\", \"service_hours\": 30.06}, {\"route_id\": \"802\", \"service_hours\": 3.12}, {\"route_id\": \"805\", \"service_hours\": 9.75}, {\"route_id\": \"840\", \"service_hours\": 4.08}, {\"route_id\": \"851\", \"service_hours\": 7.3}, {\"route_id\": \"86\", \"service_hours\": 39.98}, {\"route_id\": \"88\", \"service_hours\": 57.71}, {\"route_id\": \"90\", \"service_hours\": 26.720000000000002}, {\"route_id\": \"93\", \"service_hours\": 37.47}, {\"route_id\": \"96\", \"service_hours\": 50.13}, {\"route_id\": \"97\", \"service_hours\": 109.03}, {\"route_id\": \"98\", \"service_hours\": 47.23}, {\"route_id\": \"E\", \"service_hours\": 4.56}, {\"route_id\": \"F\", \"service_hours\": 63.4}, {\"route_id\": \"FS\", \"service_hours\": 3.2800000000000002}, {\"route_id\": \"G\", \"service_hours\": 6.55}, {\"route_id\": \"J\", \"service_hours\": 5.5}, {\"route_id\": \"L\", \"service_hours\": 4.98}, {\"route_id\": \"LA\", \"service_hours\": 7.15}, {\"route_id\": \"NL\", \"service_hours\": 99.37}, {\"route_id\": \"NX\", \"service_hours\": 4.82}, {\"route_id\": \"NX3\", \"service_hours\": 7.390000000000001}, {\"route_id\": \"O\", \"service_hours\": 48.59}, {\"route_id\": \"OX\", \"service_hours\": 7.41}, {\"route_id\": \"P\", \"service_hours\": 7.01}, {\"route_id\": \"U\", \"service_hours\": 14.6}, {\"route_id\": \"V\", \"service_hours\": 6.1499999999999995}, {\"route_id\": \"W\", \"service_hours\": 7.35}]}}, {\"mode\": \"vega-lite\"});\n",
       "</script>"
      ],
      "text/plain": [
       "alt.Chart(...)"
      ]
     },
     "execution_count": 7,
     "metadata": {},
     "output_type": "execute_result"
    }
   ],
   "source": [
    "chart = (alt.Chart(agg_df)\n",
    "         .mark_bar()\n",
    "         .encode(\n",
    "             x=\"route_id:N\",\n",
    "             y=\"service_hours:Q\",\n",
    "             color=alt.Color(\"route_id:N\",\n",
    "                 scale=alt.Scale(range=cp.CALITP_CATEGORY_BRIGHT_COLORS))\n",
    "         ).properties(title=\"Chart Title\", width=800)\n",
    "        )\n",
    "\n",
    "chart"
   ]
  },
  {
   "cell_type": "code",
   "execution_count": null,
   "id": "5abd10fb-d850-4c80-aec9-2ad931423399",
   "metadata": {
    "jupyter": {
     "source_hidden": true
    },
    "papermill": {
     "duration": 0.013572,
     "end_time": "2022-04-28T18:26:36.344440",
     "exception": false,
     "start_time": "2022-04-28T18:26:36.330868",
     "status": "completed"
    },
    "tags": [
     "remove_input"
    ]
   },
   "outputs": [],
   "source": []
  }
 ],
 "metadata": {
  "kernelspec": {
   "display_name": "Python 3 (ipykernel)",
   "language": "python",
   "name": "python3"
  },
  "language_info": {
   "codemirror_mode": {
    "name": "ipython",
    "version": 3
   },
   "file_extension": ".py",
   "mimetype": "text/x-python",
   "name": "python",
   "nbconvert_exporter": "python",
   "pygments_lexer": "ipython3",
   "version": "3.9.10"
  },
  "papermill": {
   "default_parameters": {},
   "duration": 14.536947,
   "end_time": "2022-04-28T18:26:37.789515",
   "environment_variables": {},
   "exception": null,
   "input_path": "bus_service_increase/test-chart.ipynb",
   "output_path": "portfolio/parallel_corridors/district_4/test-chart__itp_id_4.ipynb",
   "parameters": {
    "district": 4,
    "itp_id": 4
   },
   "start_time": "2022-04-28T18:26:23.252568",
   "version": "2.3.4"
  }
 },
 "nbformat": 4,
 "nbformat_minor": 5
}