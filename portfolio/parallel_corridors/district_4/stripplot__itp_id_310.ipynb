{
 "cells": [
  {
   "cell_type": "code",
   "execution_count": 1,
   "id": "95d00857-6a20-4529-a519-2cc7182928a9",
   "metadata": {
    "execution": {
     "iopub.execute_input": "2022-04-28T18:21:08.640965Z",
     "iopub.status.busy": "2022-04-28T18:21:08.640602Z",
     "iopub.status.idle": "2022-04-28T18:21:18.202461Z",
     "shell.execute_reply": "2022-04-28T18:21:18.201354Z"
    },
    "jupyter": {
     "source_hidden": true
    },
    "papermill": {
     "duration": 9.574405,
     "end_time": "2022-04-28T18:21:18.205238",
     "exception": false,
     "start_time": "2022-04-28T18:21:08.630833",
     "status": "completed"
    },
    "tags": [
     "remove_input"
    ]
   },
   "outputs": [],
   "source": [
    "%%capture\n",
    "import warnings\n",
    "warnings.filterwarnings('ignore')\n",
    "\n",
    "import altair as alt\n",
    "import calitp.magics\n",
    "import geopandas as gpd\n",
    "import intake\n",
    "import pandas as pd\n",
    "\n",
    "from IPython.display import display, Markdown, HTML\n",
    "\n",
    "import parallel_corridors_utils\n",
    "from shared_utils import styleguide\n",
    "\n",
    "catalog = intake.open_catalog(\"./*.yml\")\n",
    "alt.renderers.enable(\"html\")"
   ]
  },
  {
   "cell_type": "code",
   "execution_count": 2,
   "id": "8af2a0c1-f3da-408d-9bea-11d9fbf8695d",
   "metadata": {
    "execution": {
     "iopub.execute_input": "2022-04-28T18:21:18.223252Z",
     "iopub.status.busy": "2022-04-28T18:21:18.222954Z",
     "iopub.status.idle": "2022-04-28T18:21:18.230279Z",
     "shell.execute_reply": "2022-04-28T18:21:18.229357Z"
    },
    "jupyter": {
     "source_hidden": true
    },
    "papermill": {
     "duration": 0.019368,
     "end_time": "2022-04-28T18:21:18.232495",
     "exception": false,
     "start_time": "2022-04-28T18:21:18.213127",
     "status": "completed"
    },
    "tags": [
     "parameters",
     "remove_input"
    ]
   },
   "outputs": [],
   "source": [
    "# parameters cell\n",
    "itp_id = 182"
   ]
  },
  {
   "cell_type": "code",
   "execution_count": 3,
   "id": "789d60d5",
   "metadata": {
    "execution": {
     "iopub.execute_input": "2022-04-28T18:21:18.249718Z",
     "iopub.status.busy": "2022-04-28T18:21:18.249443Z",
     "iopub.status.idle": "2022-04-28T18:21:18.253677Z",
     "shell.execute_reply": "2022-04-28T18:21:18.252745Z"
    },
    "jupyter": {
     "source_hidden": true
    },
    "papermill": {
     "duration": 0.016188,
     "end_time": "2022-04-28T18:21:18.256581",
     "exception": false,
     "start_time": "2022-04-28T18:21:18.240393",
     "status": "completed"
    },
    "tags": [
     "injected-parameters",
     "remove_input"
    ]
   },
   "outputs": [],
   "source": [
    "# Parameters\n",
    "district = 4\n",
    "itp_id = 310\n"
   ]
  },
  {
   "cell_type": "code",
   "execution_count": 4,
   "id": "33ac4b06-f647-4dce-a625-8f2c1b37cc60",
   "metadata": {
    "execution": {
     "iopub.execute_input": "2022-04-28T18:21:18.273315Z",
     "iopub.status.busy": "2022-04-28T18:21:18.273034Z",
     "iopub.status.idle": "2022-04-28T18:21:18.279064Z",
     "shell.execute_reply": "2022-04-28T18:21:18.278498Z"
    },
    "jupyter": {
     "source_hidden": true
    },
    "papermill": {
     "duration": 0.016583,
     "end_time": "2022-04-28T18:21:18.280738",
     "exception": false,
     "start_time": "2022-04-28T18:21:18.264155",
     "status": "completed"
    },
    "tags": [
     "remove_input"
    ]
   },
   "outputs": [],
   "source": [
    "%%capture_parameters\n",
    "itp_id"
   ]
  },
  {
   "cell_type": "markdown",
   "id": "21321fce-c5a6-4b60-b935-2f0d656e03ee",
   "metadata": {
    "papermill": {
     "duration": 0.007293,
     "end_time": "2022-04-28T18:21:18.295390",
     "exception": false,
     "start_time": "2022-04-28T18:21:18.288097",
     "status": "completed"
    },
    "tags": []
   },
   "source": [
    "# Markdown title 310"
   ]
  },
  {
   "cell_type": "code",
   "execution_count": 5,
   "id": "a08c408b-8664-4ab7-9750-9e07a245ecdd",
   "metadata": {
    "execution": {
     "iopub.execute_input": "2022-04-28T18:21:18.312339Z",
     "iopub.status.busy": "2022-04-28T18:21:18.311548Z",
     "iopub.status.idle": "2022-04-28T18:21:18.317921Z",
     "shell.execute_reply": "2022-04-28T18:21:18.317081Z"
    },
    "jupyter": {
     "source_hidden": true
    },
    "papermill": {
     "duration": 0.01705,
     "end_time": "2022-04-28T18:21:18.319680",
     "exception": false,
     "start_time": "2022-04-28T18:21:18.302630",
     "status": "completed"
    },
    "tags": [
     "remove_input"
    ]
   },
   "outputs": [
    {
     "data": {
      "text/html": [
       "<h1>HTML title 310</h1>"
      ],
      "text/plain": [
       "<IPython.core.display.HTML object>"
      ]
     },
     "metadata": {},
     "output_type": "display_data"
    }
   ],
   "source": [
    "display(HTML(f\"<h1>HTML title {itp_id}</h1>\"))"
   ]
  },
  {
   "cell_type": "code",
   "execution_count": 6,
   "id": "9582aaf4-79ff-412a-b248-8d8d693ebd4f",
   "metadata": {
    "execution": {
     "iopub.execute_input": "2022-04-28T18:21:18.344468Z",
     "iopub.status.busy": "2022-04-28T18:21:18.337378Z",
     "iopub.status.idle": "2022-04-28T18:21:19.705577Z",
     "shell.execute_reply": "2022-04-28T18:21:19.704744Z"
    },
    "jupyter": {
     "source_hidden": true
    },
    "papermill": {
     "duration": 1.380378,
     "end_time": "2022-04-28T18:21:19.708538",
     "exception": false,
     "start_time": "2022-04-28T18:21:18.328160",
     "status": "completed"
    },
    "tags": [
     "remove_input"
    ]
   },
   "outputs": [],
   "source": [
    "df = catalog.competitive_route_variability.read()\n",
    "\n",
    "df = (df[(df.calitp_itp_id == itp_id) & \n",
    "         (df.route_group.notna())]\n",
    "      .reset_index(drop=True)\n",
    "     )\n",
    "\n",
    "\n",
    "if itp_id == 182:\n",
    "    df = df.assign(\n",
    "        route_id = df.route_id.str.replace('-13153', '').astype(int)\n",
    "    )"
   ]
  },
  {
   "cell_type": "code",
   "execution_count": 7,
   "id": "2cb4d8d5-4760-40e4-85b1-cb833d8bb648",
   "metadata": {
    "execution": {
     "iopub.execute_input": "2022-04-28T18:21:19.726164Z",
     "iopub.status.busy": "2022-04-28T18:21:19.725836Z",
     "iopub.status.idle": "2022-04-28T18:21:30.765715Z",
     "shell.execute_reply": "2022-04-28T18:21:30.764717Z"
    },
    "jupyter": {
     "source_hidden": true
    },
    "papermill": {
     "duration": 11.051802,
     "end_time": "2022-04-28T18:21:30.768258",
     "exception": false,
     "start_time": "2022-04-28T18:21:19.716456",
     "status": "completed"
    },
    "tags": [
     "remove_input"
    ]
   },
   "outputs": [],
   "source": [
    "# Grab parameters for narrative text - clean up formatting here \n",
    "operator_name = df.name.iloc[0]\n",
    "district = df.caltrans_district.iloc[0]\n",
    "formatted_date = pd.to_datetime(parallel_corridors_utils.SELECTED_DATE).strftime('%m-%d-%Y')\n",
    "\n",
    "PCT_COMPETITIVE_THRESHOLD = 0.75\n",
    "\n",
    "stats = parallel_corridors_utils.operator_parallel_competitive_stats(\n",
    "    itp_id, PCT_COMPETITIVE_THRESHOLD)\n",
    "\n",
    "pct_parallel = round(stats['parallel_routes'] / stats['num_routes'] * 100,1 )\n",
    "pct_competitive =  round(stats['competitive_routes'] / stats['num_routes'] * 100,1 )"
   ]
  },
  {
   "cell_type": "code",
   "execution_count": 8,
   "id": "0416509d-dc62-4165-b62e-64f8b26e8b8e",
   "metadata": {
    "execution": {
     "iopub.execute_input": "2022-04-28T18:21:30.787590Z",
     "iopub.status.busy": "2022-04-28T18:21:30.787312Z",
     "iopub.status.idle": "2022-04-28T18:21:30.794767Z",
     "shell.execute_reply": "2022-04-28T18:21:30.793834Z"
    },
    "jupyter": {
     "source_hidden": true
    },
    "papermill": {
     "duration": 0.020708,
     "end_time": "2022-04-28T18:21:30.797787",
     "exception": false,
     "start_time": "2022-04-28T18:21:30.777079",
     "status": "completed"
    },
    "tags": [
     "remove_input"
    ]
   },
   "outputs": [
    {
     "data": {
      "text/markdown": [
       "**Bus routes in service**: 15 <br>**Parallel routes** to State Highway Network (SHN): 14 routes (93.3%)<br>**Competitive routes** against car travel: 2 routes (13.3%)<br>Notes: <br>*Parallel routes* are routes where at least 30% of the route falls  within 1 mile of the SHN and cover at least 10% of the highway's length.<br><br>*Competitive routes* are routes where at least 75% of the trips on that route take no more than 2x the car would. The fastest trip for the bus route is selected to estimate against the car traveling along the same path at the same departure hour on the same day. A ratio of bus travel time to car travel time is taken for all other trips using that car travel time, and a percentage of all trips that fall within the no-more-than-twice-the-car-travel threshold is calculated for the route."
      ],
      "text/plain": [
       "<IPython.core.display.Markdown object>"
      ]
     },
     "metadata": {},
     "output_type": "display_data"
    }
   ],
   "source": [
    "display(\n",
    "    Markdown(\n",
    "        f\"**Bus routes in service**: {stats['num_routes']} \"\n",
    "        \"<br>**Parallel routes** to State Highway Network (SHN): \"\n",
    "        f\"{stats['parallel_routes']} routes ({pct_parallel}%)\"\n",
    "        f\"<br>**Competitive routes** against car travel: {stats['competitive_routes']} routes ({pct_competitive}%)\"\n",
    "        \"<br>\"\n",
    "        \"Notes: <br>*Parallel routes* are routes where at least 30% of the route falls \"\n",
    "        \" within 1 mile of the SHN \"\n",
    "        \"and cover at least 10% of the highway's length.\"\n",
    "        \"<br>\"\n",
    "        \"<br>*Competitive routes* are routes where at least \"\n",
    "        f\"{int(PCT_COMPETITIVE_THRESHOLD*100)}% of the trips on that route take \"\n",
    "        \"no more than 2x the car would. The fastest trip for the bus route is \"\n",
    "        \"selected to estimate against the car traveling along the same path \"\n",
    "        \"at the same departure hour on the same day. A ratio of bus travel time \"\n",
    "        \"to car travel time is taken for all other trips using that car travel time, \"\n",
    "        \"and a percentage of all trips that fall within the no-more-than-twice-the-car-travel threshold is calculated for the route.\"\n",
    "    )\n",
    ")"
   ]
  },
  {
   "cell_type": "code",
   "execution_count": 9,
   "id": "97a60d10-9361-4125-b6b5-da6d420cec9b",
   "metadata": {
    "execution": {
     "iopub.execute_input": "2022-04-28T18:21:30.819861Z",
     "iopub.status.busy": "2022-04-28T18:21:30.819558Z",
     "iopub.status.idle": "2022-04-28T18:21:31.083513Z",
     "shell.execute_reply": "2022-04-28T18:21:31.082799Z"
    },
    "jupyter": {
     "source_hidden": true
    },
    "papermill": {
     "duration": 0.278485,
     "end_time": "2022-04-28T18:21:31.085971",
     "exception": false,
     "start_time": "2022-04-28T18:21:30.807486",
     "status": "completed"
    },
    "tags": [
     "remove_input"
    ]
   },
   "outputs": [
    {
     "data": {
      "text/markdown": [
       "Short Routes"
      ],
      "text/plain": [
       "<IPython.core.display.Markdown object>"
      ]
     },
     "metadata": {},
     "output_type": "display_data"
    },
    {
     "data": {
      "text/html": [
       "\n",
       "<div id=\"altair-viz-90313ef77de041a8a2f61ae0bf1db71f\"></div>\n",
       "<script type=\"text/javascript\">\n",
       "  var VEGA_DEBUG = (typeof VEGA_DEBUG == \"undefined\") ? {} : VEGA_DEBUG;\n",
       "  (function(spec, embedOpt){\n",
       "    let outputDiv = document.currentScript.previousElementSibling;\n",
       "    if (outputDiv.id !== \"altair-viz-90313ef77de041a8a2f61ae0bf1db71f\") {\n",
       "      outputDiv = document.getElementById(\"altair-viz-90313ef77de041a8a2f61ae0bf1db71f\");\n",
       "    }\n",
       "    const paths = {\n",
       "      \"vega\": \"https://cdn.jsdelivr.net/npm//vega@5?noext\",\n",
       "      \"vega-lib\": \"https://cdn.jsdelivr.net/npm//vega-lib?noext\",\n",
       "      \"vega-lite\": \"https://cdn.jsdelivr.net/npm//vega-lite@4.17.0?noext\",\n",
       "      \"vega-embed\": \"https://cdn.jsdelivr.net/npm//vega-embed@6?noext\",\n",
       "    };\n",
       "\n",
       "    function maybeLoadScript(lib, version) {\n",
       "      var key = `${lib.replace(\"-\", \"\")}_version`;\n",
       "      return (VEGA_DEBUG[key] == version) ?\n",
       "        Promise.resolve(paths[lib]) :\n",
       "        new Promise(function(resolve, reject) {\n",
       "          var s = document.createElement('script');\n",
       "          document.getElementsByTagName(\"head\")[0].appendChild(s);\n",
       "          s.async = true;\n",
       "          s.onload = () => {\n",
       "            VEGA_DEBUG[key] = version;\n",
       "            return resolve(paths[lib]);\n",
       "          };\n",
       "          s.onerror = () => reject(`Error loading script: ${paths[lib]}`);\n",
       "          s.src = paths[lib];\n",
       "        });\n",
       "    }\n",
       "\n",
       "    function showError(err) {\n",
       "      outputDiv.innerHTML = `<div class=\"error\" style=\"color:red;\">${err}</div>`;\n",
       "      throw err;\n",
       "    }\n",
       "\n",
       "    function displayChart(vegaEmbed) {\n",
       "      vegaEmbed(outputDiv, spec, embedOpt)\n",
       "        .catch(err => showError(`Javascript Error: ${err.message}<br>This usually means there's a typo in your chart specification. See the javascript console for the full traceback.`));\n",
       "    }\n",
       "\n",
       "    if(typeof define === \"function\" && define.amd) {\n",
       "      requirejs.config({paths});\n",
       "      require([\"vega-embed\"], displayChart, err => showError(`Error loading script: ${err.message}`));\n",
       "    } else {\n",
       "      maybeLoadScript(\"vega\", \"5\")\n",
       "        .then(() => maybeLoadScript(\"vega-lite\", \"4.17.0\"))\n",
       "        .then(() => maybeLoadScript(\"vega-embed\", \"6\"))\n",
       "        .catch(showError)\n",
       "        .then(() => displayChart(vegaEmbed));\n",
       "    }\n",
       "  })({\"config\": {\"view\": {\"continuousWidth\": 400, \"continuousHeight\": 300, \"stroke\": null}, \"facet\": {\"spacing\": 0}}, \"data\": {\"name\": \"data-9e17a688c8063463ddac758db414fc2d\"}, \"facet\": {\"column\": {\"field\": \"route_id\", \"sort\": [\"7A\", \"38\"], \"title\": \"Route ID\", \"type\": \"nominal\"}}, \"spec\": {\"layer\": [{\"mark\": {\"type\": \"point\", \"opacity\": 0.65, \"size\": 12, \"strokeWidth\": 1.1}, \"encoding\": {\"color\": {\"field\": \"time_of_day\", \"scale\": {\"range\": [\"#136C97\", \"#E16B26\", \"#F6BF16\", \"#00896B\", \"#7790A3\", \"#5B559C\"]}, \"sort\": [\"AM Peak\", \"Midday\", \"PM Peak\", \"Owl Service\"], \"title\": \"Time of Day\", \"type\": \"nominal\"}, \"tooltip\": [{\"field\": \"route_id\", \"type\": \"nominal\"}, {\"field\": \"trip_id\", \"type\": \"nominal\"}, {\"field\": \"service_hours\", \"type\": \"quantitative\"}, {\"field\": \"car_duration_hours\", \"type\": \"quantitative\"}, {\"field\": \"bus_multiplier\", \"type\": \"quantitative\"}, {\"field\": \"bus_difference\", \"type\": \"quantitative\"}, {\"field\": \"num_trips\", \"type\": \"quantitative\"}, {\"field\": \"num_competitive\", \"type\": \"quantitative\"}, {\"field\": \"pct_trips_competitive\", \"type\": \"quantitative\"}, {\"field\": \"p25\", \"type\": \"quantitative\"}, {\"field\": \"p50\", \"type\": \"quantitative\"}, {\"field\": \"p75\", \"type\": \"quantitative\"}], \"x\": {\"axis\": {\"grid\": false, \"labels\": false, \"ticks\": true, \"values\": [0]}, \"field\": \"jitter\", \"scale\": {}, \"title\": null, \"type\": \"quantitative\"}, \"y\": {\"field\": \"bus_multiplier\", \"scale\": {\"domain\": [1.3, 1.71]}, \"title\": \"Ratio of Bus to Car Travel Time\", \"type\": \"quantitative\"}}, \"selection\": {\"selector001\": {\"type\": \"interval\", \"bind\": \"scales\", \"encodings\": [\"x\", \"y\"]}}, \"transform\": [{\"calculate\": \"sqrt(-2*log(random()))*cos(2*PI*random())\", \"as\": \"jitter\"}], \"width\": 60}, {\"mark\": {\"type\": \"point\", \"opacity\": 0.6, \"size\": 20, \"strokeWidth\": 1.3}, \"encoding\": {\"color\": {\"value\": \"#323434\"}, \"y\": {\"field\": \"bus_multiplier\", \"type\": \"quantitative\"}}, \"transform\": [{\"filter\": \"(datum.p50_trip === 1)\"}]}, {\"mark\": {\"type\": \"rule\", \"strokeDash\": [2, 3]}, \"encoding\": {\"color\": {\"value\": \"#323434\"}, \"y\": {\"field\": \"cutoff\", \"type\": \"quantitative\"}}}, {\"mark\": {\"type\": \"text\", \"align\": \"center\", \"baseline\": \"middle\"}, \"encoding\": {\"color\": {\"value\": \"black\"}, \"text\": {\"field\": \"pct_trips_competitive\", \"format\": \".0%\", \"type\": \"quantitative\"}, \"tooltip\": [{\"field\": \"route_id\", \"type\": \"nominal\"}, {\"field\": \"trip_id\", \"type\": \"nominal\"}, {\"field\": \"service_hours\", \"type\": \"quantitative\"}, {\"field\": \"car_duration_hours\", \"type\": \"quantitative\"}, {\"field\": \"bus_multiplier\", \"type\": \"quantitative\"}, {\"field\": \"bus_difference\", \"type\": \"quantitative\"}, {\"field\": \"num_trips\", \"type\": \"quantitative\"}, {\"field\": \"num_competitive\", \"type\": \"quantitative\"}, {\"field\": \"pct_trips_competitive\", \"type\": \"quantitative\"}, {\"field\": \"p25\", \"type\": \"quantitative\"}, {\"field\": \"p50\", \"type\": \"quantitative\"}, {\"field\": \"p75\", \"type\": \"quantitative\"}], \"x\": {\"value\": 30}, \"y\": {\"value\": 15}}, \"transform\": [{\"calculate\": \"sqrt(-2*log(random()))*cos(2*PI*random())\", \"as\": \"jitter\"}, {\"filter\": \"(datum.fastest_trip === 1)\"}]}]}, \"resolve\": {\"scale\": {\"y\": \"shared\"}}, \"title\": \"Ratio of Bus to Car Travel Time\", \"$schema\": \"https://vega.github.io/schema/vega-lite/v4.17.0.json\", \"datasets\": {\"data-9e17a688c8063463ddac758db414fc2d\": [{\"calitp_itp_id\": 310, \"trip_key\": -5574743277464453139, \"trip_id\": \"919\", \"shape_id\": \"22\", \"route_id\": \"38\", \"service_hours\": 0.47, \"trip_first_departure_ts\": 27120, \"trip_last_arrival_ts\": 28800, \"departure_hour\": 7, \"time_of_day\": \"AM Peak\", \"p25\": 0.485, \"p50\": 0.5, \"p75\": 0.515, \"p50_trip\": 1, \"fastest_trip\": 1, \"car_duration_hours\": 0.31, \"competitive_route\": 1, \"bus_multiplier\": 1.52, \"bus_difference\": 9.6, \"num_trips\": 2, \"num_competitive\": 2, \"pct_trips_competitive\": 1.0, \"bus_multiplier_spread\": 0.19, \"bus_difference_spread\": 3.6, \"route_group\": \"short\", \"name\": \"Solano County Transit\", \"caltrans_district\": \"04 - Oakland\", \"drmt_organization_name\": \"['recT79ohBnTB1fKsX']\", \"cutoff\": 2}, {\"calitp_itp_id\": 310, \"trip_key\": -3715552762660780122, \"trip_id\": \"920\", \"shape_id\": \"24\", \"route_id\": \"38\", \"service_hours\": 0.53, \"trip_first_departure_ts\": 24960, \"trip_last_arrival_ts\": 26880, \"departure_hour\": 6, \"time_of_day\": \"Owl Service\", \"p25\": 0.485, \"p50\": 0.5, \"p75\": 0.515, \"p50_trip\": 1, \"fastest_trip\": 0, \"car_duration_hours\": 0.31, \"competitive_route\": 1, \"bus_multiplier\": 1.71, \"bus_difference\": 13.2, \"num_trips\": 2, \"num_competitive\": 2, \"pct_trips_competitive\": 1.0, \"bus_multiplier_spread\": 0.19, \"bus_difference_spread\": 3.6, \"route_group\": \"short\", \"name\": \"Solano County Transit\", \"caltrans_district\": \"04 - Oakland\", \"drmt_organization_name\": \"['recT79ohBnTB1fKsX']\", \"cutoff\": 2}, {\"calitp_itp_id\": 310, \"trip_key\": -2242253959501436434, \"trip_id\": \"1078\", \"shape_id\": \"10\", \"route_id\": \"7A\", \"service_hours\": 1.0, \"trip_first_departure_ts\": 42300, \"trip_last_arrival_ts\": 45900, \"departure_hour\": 11, \"time_of_day\": \"Midday\", \"p25\": 1.0, \"p50\": 1.0, \"p75\": 1.0, \"p50_trip\": 1, \"fastest_trip\": 0, \"car_duration_hours\": 0.77, \"competitive_route\": 1, \"bus_multiplier\": 1.3, \"bus_difference\": 13.8, \"num_trips\": 15, \"num_competitive\": 15, \"pct_trips_competitive\": 1.0, \"bus_multiplier_spread\": 0.0, \"bus_difference_spread\": 0.0, \"route_group\": \"short\", \"name\": \"Solano County Transit\", \"caltrans_district\": \"04 - Oakland\", \"drmt_organization_name\": \"['recT79ohBnTB1fKsX']\", \"cutoff\": 2}, {\"calitp_itp_id\": 310, \"trip_key\": 1553366806666314761, \"trip_id\": \"1097\", \"shape_id\": \"10\", \"route_id\": \"7A\", \"service_hours\": 1.0, \"trip_first_departure_ts\": 67500, \"trip_last_arrival_ts\": 71100, \"departure_hour\": 18, \"time_of_day\": \"PM Peak\", \"p25\": 1.0, \"p50\": 1.0, \"p75\": 1.0, \"p50_trip\": 1, \"fastest_trip\": 0, \"car_duration_hours\": 0.77, \"competitive_route\": 1, \"bus_multiplier\": 1.3, \"bus_difference\": 13.8, \"num_trips\": 15, \"num_competitive\": 15, \"pct_trips_competitive\": 1.0, \"bus_multiplier_spread\": 0.0, \"bus_difference_spread\": 0.0, \"route_group\": \"short\", \"name\": \"Solano County Transit\", \"caltrans_district\": \"04 - Oakland\", \"drmt_organization_name\": \"['recT79ohBnTB1fKsX']\", \"cutoff\": 2}, {\"calitp_itp_id\": 310, \"trip_key\": 5736745841295953016, \"trip_id\": \"1099\", \"shape_id\": \"10\", \"route_id\": \"7A\", \"service_hours\": 1.0, \"trip_first_departure_ts\": 74700, \"trip_last_arrival_ts\": 78300, \"departure_hour\": 20, \"time_of_day\": \"Owl Service\", \"p25\": 1.0, \"p50\": 1.0, \"p75\": 1.0, \"p50_trip\": 1, \"fastest_trip\": 1, \"car_duration_hours\": 0.77, \"competitive_route\": 1, \"bus_multiplier\": 1.3, \"bus_difference\": 13.8, \"num_trips\": 15, \"num_competitive\": 15, \"pct_trips_competitive\": 1.0, \"bus_multiplier_spread\": 0.0, \"bus_difference_spread\": 0.0, \"route_group\": \"short\", \"name\": \"Solano County Transit\", \"caltrans_district\": \"04 - Oakland\", \"drmt_organization_name\": \"['recT79ohBnTB1fKsX']\", \"cutoff\": 2}, {\"calitp_itp_id\": 310, \"trip_key\": 7541199008754798528, \"trip_id\": \"1065\", \"shape_id\": \"10\", \"route_id\": \"7A\", \"service_hours\": 1.0, \"trip_first_departure_ts\": 24300, \"trip_last_arrival_ts\": 27900, \"departure_hour\": 6, \"time_of_day\": \"Owl Service\", \"p25\": 1.0, \"p50\": 1.0, \"p75\": 1.0, \"p50_trip\": 1, \"fastest_trip\": 0, \"car_duration_hours\": 0.77, \"competitive_route\": 1, \"bus_multiplier\": 1.3, \"bus_difference\": 13.8, \"num_trips\": 15, \"num_competitive\": 15, \"pct_trips_competitive\": 1.0, \"bus_multiplier_spread\": 0.0, \"bus_difference_spread\": 0.0, \"route_group\": \"short\", \"name\": \"Solano County Transit\", \"caltrans_district\": \"04 - Oakland\", \"drmt_organization_name\": \"['recT79ohBnTB1fKsX']\", \"cutoff\": 2}, {\"calitp_itp_id\": 310, \"trip_key\": -2774837895713846595, \"trip_id\": \"1081\", \"shape_id\": \"10\", \"route_id\": \"7A\", \"service_hours\": 1.0, \"trip_first_departure_ts\": 45900, \"trip_last_arrival_ts\": 49500, \"departure_hour\": 12, \"time_of_day\": \"Midday\", \"p25\": 1.0, \"p50\": 1.0, \"p75\": 1.0, \"p50_trip\": 1, \"fastest_trip\": 0, \"car_duration_hours\": 0.77, \"competitive_route\": 1, \"bus_multiplier\": 1.3, \"bus_difference\": 13.8, \"num_trips\": 15, \"num_competitive\": 15, \"pct_trips_competitive\": 1.0, \"bus_multiplier_spread\": 0.0, \"bus_difference_spread\": 0.0, \"route_group\": \"short\", \"name\": \"Solano County Transit\", \"caltrans_district\": \"04 - Oakland\", \"drmt_organization_name\": \"['recT79ohBnTB1fKsX']\", \"cutoff\": 2}, {\"calitp_itp_id\": 310, \"trip_key\": -7128689078602650873, \"trip_id\": \"1066\", \"shape_id\": \"10\", \"route_id\": \"7A\", \"service_hours\": 1.0, \"trip_first_departure_ts\": 27900, \"trip_last_arrival_ts\": 31500, \"departure_hour\": 7, \"time_of_day\": \"AM Peak\", \"p25\": 1.0, \"p50\": 1.0, \"p75\": 1.0, \"p50_trip\": 1, \"fastest_trip\": 0, \"car_duration_hours\": 0.77, \"competitive_route\": 1, \"bus_multiplier\": 1.3, \"bus_difference\": 13.8, \"num_trips\": 15, \"num_competitive\": 15, \"pct_trips_competitive\": 1.0, \"bus_multiplier_spread\": 0.0, \"bus_difference_spread\": 0.0, \"route_group\": \"short\", \"name\": \"Solano County Transit\", \"caltrans_district\": \"04 - Oakland\", \"drmt_organization_name\": \"['recT79ohBnTB1fKsX']\", \"cutoff\": 2}, {\"calitp_itp_id\": 310, \"trip_key\": -3801396718114747764, \"trip_id\": \"1075\", \"shape_id\": \"10\", \"route_id\": \"7A\", \"service_hours\": 1.0, \"trip_first_departure_ts\": 38700, \"trip_last_arrival_ts\": 42300, \"departure_hour\": 10, \"time_of_day\": \"Midday\", \"p25\": 1.0, \"p50\": 1.0, \"p75\": 1.0, \"p50_trip\": 1, \"fastest_trip\": 0, \"car_duration_hours\": 0.77, \"competitive_route\": 1, \"bus_multiplier\": 1.3, \"bus_difference\": 13.8, \"num_trips\": 15, \"num_competitive\": 15, \"pct_trips_competitive\": 1.0, \"bus_multiplier_spread\": 0.0, \"bus_difference_spread\": 0.0, \"route_group\": \"short\", \"name\": \"Solano County Transit\", \"caltrans_district\": \"04 - Oakland\", \"drmt_organization_name\": \"['recT79ohBnTB1fKsX']\", \"cutoff\": 2}, {\"calitp_itp_id\": 310, \"trip_key\": 3555369193555928407, \"trip_id\": \"1098\", \"shape_id\": \"10\", \"route_id\": \"7A\", \"service_hours\": 1.0, \"trip_first_departure_ts\": 71100, \"trip_last_arrival_ts\": 74700, \"departure_hour\": 19, \"time_of_day\": \"PM Peak\", \"p25\": 1.0, \"p50\": 1.0, \"p75\": 1.0, \"p50_trip\": 1, \"fastest_trip\": 0, \"car_duration_hours\": 0.77, \"competitive_route\": 1, \"bus_multiplier\": 1.3, \"bus_difference\": 13.8, \"num_trips\": 15, \"num_competitive\": 15, \"pct_trips_competitive\": 1.0, \"bus_multiplier_spread\": 0.0, \"bus_difference_spread\": 0.0, \"route_group\": \"short\", \"name\": \"Solano County Transit\", \"caltrans_district\": \"04 - Oakland\", \"drmt_organization_name\": \"['recT79ohBnTB1fKsX']\", \"cutoff\": 2}, {\"calitp_itp_id\": 310, \"trip_key\": -7612102933413698873, \"trip_id\": \"1084\", \"shape_id\": \"10\", \"route_id\": \"7A\", \"service_hours\": 1.0, \"trip_first_departure_ts\": 49500, \"trip_last_arrival_ts\": 53100, \"departure_hour\": 13, \"time_of_day\": \"Midday\", \"p25\": 1.0, \"p50\": 1.0, \"p75\": 1.0, \"p50_trip\": 1, \"fastest_trip\": 0, \"car_duration_hours\": 0.77, \"competitive_route\": 1, \"bus_multiplier\": 1.3, \"bus_difference\": 13.8, \"num_trips\": 15, \"num_competitive\": 15, \"pct_trips_competitive\": 1.0, \"bus_multiplier_spread\": 0.0, \"bus_difference_spread\": 0.0, \"route_group\": \"short\", \"name\": \"Solano County Transit\", \"caltrans_district\": \"04 - Oakland\", \"drmt_organization_name\": \"['recT79ohBnTB1fKsX']\", \"cutoff\": 2}, {\"calitp_itp_id\": 310, \"trip_key\": 9090745400368182860, \"trip_id\": \"1069\", \"shape_id\": \"10\", \"route_id\": \"7A\", \"service_hours\": 1.0, \"trip_first_departure_ts\": 31500, \"trip_last_arrival_ts\": 35100, \"departure_hour\": 8, \"time_of_day\": \"AM Peak\", \"p25\": 1.0, \"p50\": 1.0, \"p75\": 1.0, \"p50_trip\": 1, \"fastest_trip\": 0, \"car_duration_hours\": 0.77, \"competitive_route\": 1, \"bus_multiplier\": 1.3, \"bus_difference\": 13.8, \"num_trips\": 15, \"num_competitive\": 15, \"pct_trips_competitive\": 1.0, \"bus_multiplier_spread\": 0.0, \"bus_difference_spread\": 0.0, \"route_group\": \"short\", \"name\": \"Solano County Transit\", \"caltrans_district\": \"04 - Oakland\", \"drmt_organization_name\": \"['recT79ohBnTB1fKsX']\", \"cutoff\": 2}, {\"calitp_itp_id\": 310, \"trip_key\": -6662624582280621192, \"trip_id\": \"1087\", \"shape_id\": \"10\", \"route_id\": \"7A\", \"service_hours\": 1.0, \"trip_first_departure_ts\": 53100, \"trip_last_arrival_ts\": 56700, \"departure_hour\": 14, \"time_of_day\": \"Midday\", \"p25\": 1.0, \"p50\": 1.0, \"p75\": 1.0, \"p50_trip\": 1, \"fastest_trip\": 0, \"car_duration_hours\": 0.77, \"competitive_route\": 1, \"bus_multiplier\": 1.3, \"bus_difference\": 13.8, \"num_trips\": 15, \"num_competitive\": 15, \"pct_trips_competitive\": 1.0, \"bus_multiplier_spread\": 0.0, \"bus_difference_spread\": 0.0, \"route_group\": \"short\", \"name\": \"Solano County Transit\", \"caltrans_district\": \"04 - Oakland\", \"drmt_organization_name\": \"['recT79ohBnTB1fKsX']\", \"cutoff\": 2}, {\"calitp_itp_id\": 310, \"trip_key\": -6607227710157058801, \"trip_id\": \"1096\", \"shape_id\": \"10\", \"route_id\": \"7A\", \"service_hours\": 1.0, \"trip_first_departure_ts\": 63900, \"trip_last_arrival_ts\": 67500, \"departure_hour\": 17, \"time_of_day\": \"PM Peak\", \"p25\": 1.0, \"p50\": 1.0, \"p75\": 1.0, \"p50_trip\": 1, \"fastest_trip\": 0, \"car_duration_hours\": 0.77, \"competitive_route\": 1, \"bus_multiplier\": 1.3, \"bus_difference\": 13.8, \"num_trips\": 15, \"num_competitive\": 15, \"pct_trips_competitive\": 1.0, \"bus_multiplier_spread\": 0.0, \"bus_difference_spread\": 0.0, \"route_group\": \"short\", \"name\": \"Solano County Transit\", \"caltrans_district\": \"04 - Oakland\", \"drmt_organization_name\": \"['recT79ohBnTB1fKsX']\", \"cutoff\": 2}, {\"calitp_itp_id\": 310, \"trip_key\": 75175244298657360, \"trip_id\": \"1090\", \"shape_id\": \"10\", \"route_id\": \"7A\", \"service_hours\": 1.0, \"trip_first_departure_ts\": 56700, \"trip_last_arrival_ts\": 60300, \"departure_hour\": 15, \"time_of_day\": \"Midday\", \"p25\": 1.0, \"p50\": 1.0, \"p75\": 1.0, \"p50_trip\": 1, \"fastest_trip\": 0, \"car_duration_hours\": 0.77, \"competitive_route\": 1, \"bus_multiplier\": 1.3, \"bus_difference\": 13.8, \"num_trips\": 15, \"num_competitive\": 15, \"pct_trips_competitive\": 1.0, \"bus_multiplier_spread\": 0.0, \"bus_difference_spread\": 0.0, \"route_group\": \"short\", \"name\": \"Solano County Transit\", \"caltrans_district\": \"04 - Oakland\", \"drmt_organization_name\": \"['recT79ohBnTB1fKsX']\", \"cutoff\": 2}, {\"calitp_itp_id\": 310, \"trip_key\": 8811729153955021229, \"trip_id\": \"1072\", \"shape_id\": \"10\", \"route_id\": \"7A\", \"service_hours\": 1.0, \"trip_first_departure_ts\": 35100, \"trip_last_arrival_ts\": 38700, \"departure_hour\": 9, \"time_of_day\": \"AM Peak\", \"p25\": 1.0, \"p50\": 1.0, \"p75\": 1.0, \"p50_trip\": 1, \"fastest_trip\": 0, \"car_duration_hours\": 0.77, \"competitive_route\": 1, \"bus_multiplier\": 1.3, \"bus_difference\": 13.8, \"num_trips\": 15, \"num_competitive\": 15, \"pct_trips_competitive\": 1.0, \"bus_multiplier_spread\": 0.0, \"bus_difference_spread\": 0.0, \"route_group\": \"short\", \"name\": \"Solano County Transit\", \"caltrans_district\": \"04 - Oakland\", \"drmt_organization_name\": \"['recT79ohBnTB1fKsX']\", \"cutoff\": 2}, {\"calitp_itp_id\": 310, \"trip_key\": -4539065179735711766, \"trip_id\": \"1093\", \"shape_id\": \"10\", \"route_id\": \"7A\", \"service_hours\": 1.0, \"trip_first_departure_ts\": 60300, \"trip_last_arrival_ts\": 63900, \"departure_hour\": 16, \"time_of_day\": \"Midday\", \"p25\": 1.0, \"p50\": 1.0, \"p75\": 1.0, \"p50_trip\": 1, \"fastest_trip\": 0, \"car_duration_hours\": 0.77, \"competitive_route\": 1, \"bus_multiplier\": 1.3, \"bus_difference\": 13.8, \"num_trips\": 15, \"num_competitive\": 15, \"pct_trips_competitive\": 1.0, \"bus_multiplier_spread\": 0.0, \"bus_difference_spread\": 0.0, \"route_group\": \"short\", \"name\": \"Solano County Transit\", \"caltrans_district\": \"04 - Oakland\", \"drmt_organization_name\": \"['recT79ohBnTB1fKsX']\", \"cutoff\": 2}]}}, {\"mode\": \"vega-lite\"});\n",
       "</script>"
      ],
      "text/plain": [
       "alt.FacetChart(...)"
      ]
     },
     "metadata": {},
     "output_type": "display_data"
    },
    {
     "data": {
      "text/html": [
       "\n",
       "<div id=\"altair-viz-528d0c94b1d84722932c013f8c4779f0\"></div>\n",
       "<script type=\"text/javascript\">\n",
       "  var VEGA_DEBUG = (typeof VEGA_DEBUG == \"undefined\") ? {} : VEGA_DEBUG;\n",
       "  (function(spec, embedOpt){\n",
       "    let outputDiv = document.currentScript.previousElementSibling;\n",
       "    if (outputDiv.id !== \"altair-viz-528d0c94b1d84722932c013f8c4779f0\") {\n",
       "      outputDiv = document.getElementById(\"altair-viz-528d0c94b1d84722932c013f8c4779f0\");\n",
       "    }\n",
       "    const paths = {\n",
       "      \"vega\": \"https://cdn.jsdelivr.net/npm//vega@5?noext\",\n",
       "      \"vega-lib\": \"https://cdn.jsdelivr.net/npm//vega-lib?noext\",\n",
       "      \"vega-lite\": \"https://cdn.jsdelivr.net/npm//vega-lite@4.17.0?noext\",\n",
       "      \"vega-embed\": \"https://cdn.jsdelivr.net/npm//vega-embed@6?noext\",\n",
       "    };\n",
       "\n",
       "    function maybeLoadScript(lib, version) {\n",
       "      var key = `${lib.replace(\"-\", \"\")}_version`;\n",
       "      return (VEGA_DEBUG[key] == version) ?\n",
       "        Promise.resolve(paths[lib]) :\n",
       "        new Promise(function(resolve, reject) {\n",
       "          var s = document.createElement('script');\n",
       "          document.getElementsByTagName(\"head\")[0].appendChild(s);\n",
       "          s.async = true;\n",
       "          s.onload = () => {\n",
       "            VEGA_DEBUG[key] = version;\n",
       "            return resolve(paths[lib]);\n",
       "          };\n",
       "          s.onerror = () => reject(`Error loading script: ${paths[lib]}`);\n",
       "          s.src = paths[lib];\n",
       "        });\n",
       "    }\n",
       "\n",
       "    function showError(err) {\n",
       "      outputDiv.innerHTML = `<div class=\"error\" style=\"color:red;\">${err}</div>`;\n",
       "      throw err;\n",
       "    }\n",
       "\n",
       "    function displayChart(vegaEmbed) {\n",
       "      vegaEmbed(outputDiv, spec, embedOpt)\n",
       "        .catch(err => showError(`Javascript Error: ${err.message}<br>This usually means there's a typo in your chart specification. See the javascript console for the full traceback.`));\n",
       "    }\n",
       "\n",
       "    if(typeof define === \"function\" && define.amd) {\n",
       "      requirejs.config({paths});\n",
       "      require([\"vega-embed\"], displayChart, err => showError(`Error loading script: ${err.message}`));\n",
       "    } else {\n",
       "      maybeLoadScript(\"vega\", \"5\")\n",
       "        .then(() => maybeLoadScript(\"vega-lite\", \"4.17.0\"))\n",
       "        .then(() => maybeLoadScript(\"vega-embed\", \"6\"))\n",
       "        .catch(showError)\n",
       "        .then(() => displayChart(vegaEmbed));\n",
       "    }\n",
       "  })({\"config\": {\"view\": {\"continuousWidth\": 400, \"continuousHeight\": 300, \"stroke\": null}, \"facet\": {\"spacing\": 0}}, \"data\": {\"name\": \"data-d8e5a7ea2a143185b2b713765d1b794b\"}, \"facet\": {\"column\": {\"field\": \"route_id\", \"sort\": [\"7A\", \"38\"], \"title\": \"Route ID\", \"type\": \"nominal\"}}, \"spec\": {\"layer\": [{\"mark\": {\"type\": \"point\", \"opacity\": 0.65, \"size\": 12, \"strokeWidth\": 1.1}, \"encoding\": {\"color\": {\"field\": \"time_of_day\", \"scale\": {\"range\": [\"#136C97\", \"#E16B26\", \"#F6BF16\", \"#00896B\", \"#7790A3\", \"#5B559C\"]}, \"sort\": [\"AM Peak\", \"Midday\", \"PM Peak\", \"Owl Service\"], \"title\": \"Time of Day\", \"type\": \"nominal\"}, \"tooltip\": [{\"field\": \"route_id\", \"type\": \"nominal\"}, {\"field\": \"trip_id\", \"type\": \"nominal\"}, {\"field\": \"service_hours\", \"type\": \"quantitative\"}, {\"field\": \"car_duration_hours\", \"type\": \"quantitative\"}, {\"field\": \"bus_multiplier\", \"type\": \"quantitative\"}, {\"field\": \"bus_difference\", \"type\": \"quantitative\"}, {\"field\": \"num_trips\", \"type\": \"quantitative\"}, {\"field\": \"num_competitive\", \"type\": \"quantitative\"}, {\"field\": \"pct_trips_competitive\", \"type\": \"quantitative\"}, {\"field\": \"p25\", \"type\": \"quantitative\"}, {\"field\": \"p50\", \"type\": \"quantitative\"}, {\"field\": \"p75\", \"type\": \"quantitative\"}], \"x\": {\"axis\": {\"grid\": false, \"labels\": false, \"ticks\": true, \"values\": [0]}, \"field\": \"jitter\", \"scale\": {}, \"title\": null, \"type\": \"quantitative\"}, \"y\": {\"field\": \"bus_difference\", \"scale\": {\"domain\": [9.6, 13.8]}, \"title\": \"Difference in Bus to Car Travel Time (min)\", \"type\": \"quantitative\"}}, \"selection\": {\"selector002\": {\"type\": \"interval\", \"bind\": \"scales\", \"encodings\": [\"x\", \"y\"]}}, \"transform\": [{\"calculate\": \"sqrt(-2*log(random()))*cos(2*PI*random())\", \"as\": \"jitter\"}], \"width\": 60}, {\"mark\": {\"type\": \"point\", \"opacity\": 0.6, \"size\": 20, \"strokeWidth\": 1.3}, \"encoding\": {\"color\": {\"value\": \"#323434\"}, \"y\": {\"field\": \"bus_difference\", \"type\": \"quantitative\"}}, \"transform\": [{\"filter\": \"(datum.p50_trip === 1)\"}]}, {\"mark\": {\"type\": \"rule\", \"strokeDash\": [2, 3]}, \"encoding\": {\"color\": {\"value\": \"#323434\"}, \"y\": {\"field\": \"cutoff\", \"type\": \"quantitative\"}}}, {\"mark\": {\"type\": \"text\", \"align\": \"center\", \"baseline\": \"middle\"}, \"encoding\": {\"color\": {\"value\": \"black\"}, \"text\": {\"field\": \"pct_trips_competitive\", \"format\": \".0%\", \"type\": \"quantitative\"}, \"tooltip\": [{\"field\": \"route_id\", \"type\": \"nominal\"}, {\"field\": \"trip_id\", \"type\": \"nominal\"}, {\"field\": \"service_hours\", \"type\": \"quantitative\"}, {\"field\": \"car_duration_hours\", \"type\": \"quantitative\"}, {\"field\": \"bus_multiplier\", \"type\": \"quantitative\"}, {\"field\": \"bus_difference\", \"type\": \"quantitative\"}, {\"field\": \"num_trips\", \"type\": \"quantitative\"}, {\"field\": \"num_competitive\", \"type\": \"quantitative\"}, {\"field\": \"pct_trips_competitive\", \"type\": \"quantitative\"}, {\"field\": \"p25\", \"type\": \"quantitative\"}, {\"field\": \"p50\", \"type\": \"quantitative\"}, {\"field\": \"p75\", \"type\": \"quantitative\"}], \"x\": {\"value\": 30}, \"y\": {\"value\": 15}}, \"transform\": [{\"calculate\": \"sqrt(-2*log(random()))*cos(2*PI*random())\", \"as\": \"jitter\"}, {\"filter\": \"(datum.fastest_trip === 1)\"}]}]}, \"resolve\": {\"scale\": {\"y\": \"shared\"}}, \"title\": \"Difference in Bus to Car Travel Time (min)\", \"$schema\": \"https://vega.github.io/schema/vega-lite/v4.17.0.json\", \"datasets\": {\"data-d8e5a7ea2a143185b2b713765d1b794b\": [{\"calitp_itp_id\": 310, \"trip_key\": -5574743277464453139, \"trip_id\": \"919\", \"shape_id\": \"22\", \"route_id\": \"38\", \"service_hours\": 0.47, \"trip_first_departure_ts\": 27120, \"trip_last_arrival_ts\": 28800, \"departure_hour\": 7, \"time_of_day\": \"AM Peak\", \"p25\": 0.485, \"p50\": 0.5, \"p75\": 0.515, \"p50_trip\": 1, \"fastest_trip\": 1, \"car_duration_hours\": 0.31, \"competitive_route\": 1, \"bus_multiplier\": 1.52, \"bus_difference\": 9.6, \"num_trips\": 2, \"num_competitive\": 2, \"pct_trips_competitive\": 1.0, \"bus_multiplier_spread\": 0.19, \"bus_difference_spread\": 3.6, \"route_group\": \"short\", \"name\": \"Solano County Transit\", \"caltrans_district\": \"04 - Oakland\", \"drmt_organization_name\": \"['recT79ohBnTB1fKsX']\", \"cutoff\": 0}, {\"calitp_itp_id\": 310, \"trip_key\": -3715552762660780122, \"trip_id\": \"920\", \"shape_id\": \"24\", \"route_id\": \"38\", \"service_hours\": 0.53, \"trip_first_departure_ts\": 24960, \"trip_last_arrival_ts\": 26880, \"departure_hour\": 6, \"time_of_day\": \"Owl Service\", \"p25\": 0.485, \"p50\": 0.5, \"p75\": 0.515, \"p50_trip\": 1, \"fastest_trip\": 0, \"car_duration_hours\": 0.31, \"competitive_route\": 1, \"bus_multiplier\": 1.71, \"bus_difference\": 13.2, \"num_trips\": 2, \"num_competitive\": 2, \"pct_trips_competitive\": 1.0, \"bus_multiplier_spread\": 0.19, \"bus_difference_spread\": 3.6, \"route_group\": \"short\", \"name\": \"Solano County Transit\", \"caltrans_district\": \"04 - Oakland\", \"drmt_organization_name\": \"['recT79ohBnTB1fKsX']\", \"cutoff\": 0}, {\"calitp_itp_id\": 310, \"trip_key\": -2242253959501436434, \"trip_id\": \"1078\", \"shape_id\": \"10\", \"route_id\": \"7A\", \"service_hours\": 1.0, \"trip_first_departure_ts\": 42300, \"trip_last_arrival_ts\": 45900, \"departure_hour\": 11, \"time_of_day\": \"Midday\", \"p25\": 1.0, \"p50\": 1.0, \"p75\": 1.0, \"p50_trip\": 1, \"fastest_trip\": 0, \"car_duration_hours\": 0.77, \"competitive_route\": 1, \"bus_multiplier\": 1.3, \"bus_difference\": 13.8, \"num_trips\": 15, \"num_competitive\": 15, \"pct_trips_competitive\": 1.0, \"bus_multiplier_spread\": 0.0, \"bus_difference_spread\": 0.0, \"route_group\": \"short\", \"name\": \"Solano County Transit\", \"caltrans_district\": \"04 - Oakland\", \"drmt_organization_name\": \"['recT79ohBnTB1fKsX']\", \"cutoff\": 0}, {\"calitp_itp_id\": 310, \"trip_key\": 1553366806666314761, \"trip_id\": \"1097\", \"shape_id\": \"10\", \"route_id\": \"7A\", \"service_hours\": 1.0, \"trip_first_departure_ts\": 67500, \"trip_last_arrival_ts\": 71100, \"departure_hour\": 18, \"time_of_day\": \"PM Peak\", \"p25\": 1.0, \"p50\": 1.0, \"p75\": 1.0, \"p50_trip\": 1, \"fastest_trip\": 0, \"car_duration_hours\": 0.77, \"competitive_route\": 1, \"bus_multiplier\": 1.3, \"bus_difference\": 13.8, \"num_trips\": 15, \"num_competitive\": 15, \"pct_trips_competitive\": 1.0, \"bus_multiplier_spread\": 0.0, \"bus_difference_spread\": 0.0, \"route_group\": \"short\", \"name\": \"Solano County Transit\", \"caltrans_district\": \"04 - Oakland\", \"drmt_organization_name\": \"['recT79ohBnTB1fKsX']\", \"cutoff\": 0}, {\"calitp_itp_id\": 310, \"trip_key\": 5736745841295953016, \"trip_id\": \"1099\", \"shape_id\": \"10\", \"route_id\": \"7A\", \"service_hours\": 1.0, \"trip_first_departure_ts\": 74700, \"trip_last_arrival_ts\": 78300, \"departure_hour\": 20, \"time_of_day\": \"Owl Service\", \"p25\": 1.0, \"p50\": 1.0, \"p75\": 1.0, \"p50_trip\": 1, \"fastest_trip\": 1, \"car_duration_hours\": 0.77, \"competitive_route\": 1, \"bus_multiplier\": 1.3, \"bus_difference\": 13.8, \"num_trips\": 15, \"num_competitive\": 15, \"pct_trips_competitive\": 1.0, \"bus_multiplier_spread\": 0.0, \"bus_difference_spread\": 0.0, \"route_group\": \"short\", \"name\": \"Solano County Transit\", \"caltrans_district\": \"04 - Oakland\", \"drmt_organization_name\": \"['recT79ohBnTB1fKsX']\", \"cutoff\": 0}, {\"calitp_itp_id\": 310, \"trip_key\": 7541199008754798528, \"trip_id\": \"1065\", \"shape_id\": \"10\", \"route_id\": \"7A\", \"service_hours\": 1.0, \"trip_first_departure_ts\": 24300, \"trip_last_arrival_ts\": 27900, \"departure_hour\": 6, \"time_of_day\": \"Owl Service\", \"p25\": 1.0, \"p50\": 1.0, \"p75\": 1.0, \"p50_trip\": 1, \"fastest_trip\": 0, \"car_duration_hours\": 0.77, \"competitive_route\": 1, \"bus_multiplier\": 1.3, \"bus_difference\": 13.8, \"num_trips\": 15, \"num_competitive\": 15, \"pct_trips_competitive\": 1.0, \"bus_multiplier_spread\": 0.0, \"bus_difference_spread\": 0.0, \"route_group\": \"short\", \"name\": \"Solano County Transit\", \"caltrans_district\": \"04 - Oakland\", \"drmt_organization_name\": \"['recT79ohBnTB1fKsX']\", \"cutoff\": 0}, {\"calitp_itp_id\": 310, \"trip_key\": -2774837895713846595, \"trip_id\": \"1081\", \"shape_id\": \"10\", \"route_id\": \"7A\", \"service_hours\": 1.0, \"trip_first_departure_ts\": 45900, \"trip_last_arrival_ts\": 49500, \"departure_hour\": 12, \"time_of_day\": \"Midday\", \"p25\": 1.0, \"p50\": 1.0, \"p75\": 1.0, \"p50_trip\": 1, \"fastest_trip\": 0, \"car_duration_hours\": 0.77, \"competitive_route\": 1, \"bus_multiplier\": 1.3, \"bus_difference\": 13.8, \"num_trips\": 15, \"num_competitive\": 15, \"pct_trips_competitive\": 1.0, \"bus_multiplier_spread\": 0.0, \"bus_difference_spread\": 0.0, \"route_group\": \"short\", \"name\": \"Solano County Transit\", \"caltrans_district\": \"04 - Oakland\", \"drmt_organization_name\": \"['recT79ohBnTB1fKsX']\", \"cutoff\": 0}, {\"calitp_itp_id\": 310, \"trip_key\": -7128689078602650873, \"trip_id\": \"1066\", \"shape_id\": \"10\", \"route_id\": \"7A\", \"service_hours\": 1.0, \"trip_first_departure_ts\": 27900, \"trip_last_arrival_ts\": 31500, \"departure_hour\": 7, \"time_of_day\": \"AM Peak\", \"p25\": 1.0, \"p50\": 1.0, \"p75\": 1.0, \"p50_trip\": 1, \"fastest_trip\": 0, \"car_duration_hours\": 0.77, \"competitive_route\": 1, \"bus_multiplier\": 1.3, \"bus_difference\": 13.8, \"num_trips\": 15, \"num_competitive\": 15, \"pct_trips_competitive\": 1.0, \"bus_multiplier_spread\": 0.0, \"bus_difference_spread\": 0.0, \"route_group\": \"short\", \"name\": \"Solano County Transit\", \"caltrans_district\": \"04 - Oakland\", \"drmt_organization_name\": \"['recT79ohBnTB1fKsX']\", \"cutoff\": 0}, {\"calitp_itp_id\": 310, \"trip_key\": -3801396718114747764, \"trip_id\": \"1075\", \"shape_id\": \"10\", \"route_id\": \"7A\", \"service_hours\": 1.0, \"trip_first_departure_ts\": 38700, \"trip_last_arrival_ts\": 42300, \"departure_hour\": 10, \"time_of_day\": \"Midday\", \"p25\": 1.0, \"p50\": 1.0, \"p75\": 1.0, \"p50_trip\": 1, \"fastest_trip\": 0, \"car_duration_hours\": 0.77, \"competitive_route\": 1, \"bus_multiplier\": 1.3, \"bus_difference\": 13.8, \"num_trips\": 15, \"num_competitive\": 15, \"pct_trips_competitive\": 1.0, \"bus_multiplier_spread\": 0.0, \"bus_difference_spread\": 0.0, \"route_group\": \"short\", \"name\": \"Solano County Transit\", \"caltrans_district\": \"04 - Oakland\", \"drmt_organization_name\": \"['recT79ohBnTB1fKsX']\", \"cutoff\": 0}, {\"calitp_itp_id\": 310, \"trip_key\": 3555369193555928407, \"trip_id\": \"1098\", \"shape_id\": \"10\", \"route_id\": \"7A\", \"service_hours\": 1.0, \"trip_first_departure_ts\": 71100, \"trip_last_arrival_ts\": 74700, \"departure_hour\": 19, \"time_of_day\": \"PM Peak\", \"p25\": 1.0, \"p50\": 1.0, \"p75\": 1.0, \"p50_trip\": 1, \"fastest_trip\": 0, \"car_duration_hours\": 0.77, \"competitive_route\": 1, \"bus_multiplier\": 1.3, \"bus_difference\": 13.8, \"num_trips\": 15, \"num_competitive\": 15, \"pct_trips_competitive\": 1.0, \"bus_multiplier_spread\": 0.0, \"bus_difference_spread\": 0.0, \"route_group\": \"short\", \"name\": \"Solano County Transit\", \"caltrans_district\": \"04 - Oakland\", \"drmt_organization_name\": \"['recT79ohBnTB1fKsX']\", \"cutoff\": 0}, {\"calitp_itp_id\": 310, \"trip_key\": -7612102933413698873, \"trip_id\": \"1084\", \"shape_id\": \"10\", \"route_id\": \"7A\", \"service_hours\": 1.0, \"trip_first_departure_ts\": 49500, \"trip_last_arrival_ts\": 53100, \"departure_hour\": 13, \"time_of_day\": \"Midday\", \"p25\": 1.0, \"p50\": 1.0, \"p75\": 1.0, \"p50_trip\": 1, \"fastest_trip\": 0, \"car_duration_hours\": 0.77, \"competitive_route\": 1, \"bus_multiplier\": 1.3, \"bus_difference\": 13.8, \"num_trips\": 15, \"num_competitive\": 15, \"pct_trips_competitive\": 1.0, \"bus_multiplier_spread\": 0.0, \"bus_difference_spread\": 0.0, \"route_group\": \"short\", \"name\": \"Solano County Transit\", \"caltrans_district\": \"04 - Oakland\", \"drmt_organization_name\": \"['recT79ohBnTB1fKsX']\", \"cutoff\": 0}, {\"calitp_itp_id\": 310, \"trip_key\": 9090745400368182860, \"trip_id\": \"1069\", \"shape_id\": \"10\", \"route_id\": \"7A\", \"service_hours\": 1.0, \"trip_first_departure_ts\": 31500, \"trip_last_arrival_ts\": 35100, \"departure_hour\": 8, \"time_of_day\": \"AM Peak\", \"p25\": 1.0, \"p50\": 1.0, \"p75\": 1.0, \"p50_trip\": 1, \"fastest_trip\": 0, \"car_duration_hours\": 0.77, \"competitive_route\": 1, \"bus_multiplier\": 1.3, \"bus_difference\": 13.8, \"num_trips\": 15, \"num_competitive\": 15, \"pct_trips_competitive\": 1.0, \"bus_multiplier_spread\": 0.0, \"bus_difference_spread\": 0.0, \"route_group\": \"short\", \"name\": \"Solano County Transit\", \"caltrans_district\": \"04 - Oakland\", \"drmt_organization_name\": \"['recT79ohBnTB1fKsX']\", \"cutoff\": 0}, {\"calitp_itp_id\": 310, \"trip_key\": -6662624582280621192, \"trip_id\": \"1087\", \"shape_id\": \"10\", \"route_id\": \"7A\", \"service_hours\": 1.0, \"trip_first_departure_ts\": 53100, \"trip_last_arrival_ts\": 56700, \"departure_hour\": 14, \"time_of_day\": \"Midday\", \"p25\": 1.0, \"p50\": 1.0, \"p75\": 1.0, \"p50_trip\": 1, \"fastest_trip\": 0, \"car_duration_hours\": 0.77, \"competitive_route\": 1, \"bus_multiplier\": 1.3, \"bus_difference\": 13.8, \"num_trips\": 15, \"num_competitive\": 15, \"pct_trips_competitive\": 1.0, \"bus_multiplier_spread\": 0.0, \"bus_difference_spread\": 0.0, \"route_group\": \"short\", \"name\": \"Solano County Transit\", \"caltrans_district\": \"04 - Oakland\", \"drmt_organization_name\": \"['recT79ohBnTB1fKsX']\", \"cutoff\": 0}, {\"calitp_itp_id\": 310, \"trip_key\": -6607227710157058801, \"trip_id\": \"1096\", \"shape_id\": \"10\", \"route_id\": \"7A\", \"service_hours\": 1.0, \"trip_first_departure_ts\": 63900, \"trip_last_arrival_ts\": 67500, \"departure_hour\": 17, \"time_of_day\": \"PM Peak\", \"p25\": 1.0, \"p50\": 1.0, \"p75\": 1.0, \"p50_trip\": 1, \"fastest_trip\": 0, \"car_duration_hours\": 0.77, \"competitive_route\": 1, \"bus_multiplier\": 1.3, \"bus_difference\": 13.8, \"num_trips\": 15, \"num_competitive\": 15, \"pct_trips_competitive\": 1.0, \"bus_multiplier_spread\": 0.0, \"bus_difference_spread\": 0.0, \"route_group\": \"short\", \"name\": \"Solano County Transit\", \"caltrans_district\": \"04 - Oakland\", \"drmt_organization_name\": \"['recT79ohBnTB1fKsX']\", \"cutoff\": 0}, {\"calitp_itp_id\": 310, \"trip_key\": 75175244298657360, \"trip_id\": \"1090\", \"shape_id\": \"10\", \"route_id\": \"7A\", \"service_hours\": 1.0, \"trip_first_departure_ts\": 56700, \"trip_last_arrival_ts\": 60300, \"departure_hour\": 15, \"time_of_day\": \"Midday\", \"p25\": 1.0, \"p50\": 1.0, \"p75\": 1.0, \"p50_trip\": 1, \"fastest_trip\": 0, \"car_duration_hours\": 0.77, \"competitive_route\": 1, \"bus_multiplier\": 1.3, \"bus_difference\": 13.8, \"num_trips\": 15, \"num_competitive\": 15, \"pct_trips_competitive\": 1.0, \"bus_multiplier_spread\": 0.0, \"bus_difference_spread\": 0.0, \"route_group\": \"short\", \"name\": \"Solano County Transit\", \"caltrans_district\": \"04 - Oakland\", \"drmt_organization_name\": \"['recT79ohBnTB1fKsX']\", \"cutoff\": 0}, {\"calitp_itp_id\": 310, \"trip_key\": 8811729153955021229, \"trip_id\": \"1072\", \"shape_id\": \"10\", \"route_id\": \"7A\", \"service_hours\": 1.0, \"trip_first_departure_ts\": 35100, \"trip_last_arrival_ts\": 38700, \"departure_hour\": 9, \"time_of_day\": \"AM Peak\", \"p25\": 1.0, \"p50\": 1.0, \"p75\": 1.0, \"p50_trip\": 1, \"fastest_trip\": 0, \"car_duration_hours\": 0.77, \"competitive_route\": 1, \"bus_multiplier\": 1.3, \"bus_difference\": 13.8, \"num_trips\": 15, \"num_competitive\": 15, \"pct_trips_competitive\": 1.0, \"bus_multiplier_spread\": 0.0, \"bus_difference_spread\": 0.0, \"route_group\": \"short\", \"name\": \"Solano County Transit\", \"caltrans_district\": \"04 - Oakland\", \"drmt_organization_name\": \"['recT79ohBnTB1fKsX']\", \"cutoff\": 0}, {\"calitp_itp_id\": 310, \"trip_key\": -4539065179735711766, \"trip_id\": \"1093\", \"shape_id\": \"10\", \"route_id\": \"7A\", \"service_hours\": 1.0, \"trip_first_departure_ts\": 60300, \"trip_last_arrival_ts\": 63900, \"departure_hour\": 16, \"time_of_day\": \"Midday\", \"p25\": 1.0, \"p50\": 1.0, \"p75\": 1.0, \"p50_trip\": 1, \"fastest_trip\": 0, \"car_duration_hours\": 0.77, \"competitive_route\": 1, \"bus_multiplier\": 1.3, \"bus_difference\": 13.8, \"num_trips\": 15, \"num_competitive\": 15, \"pct_trips_competitive\": 1.0, \"bus_multiplier_spread\": 0.0, \"bus_difference_spread\": 0.0, \"route_group\": \"short\", \"name\": \"Solano County Transit\", \"caltrans_district\": \"04 - Oakland\", \"drmt_organization_name\": \"['recT79ohBnTB1fKsX']\", \"cutoff\": 0}]}}, {\"mode\": \"vega-lite\"});\n",
       "</script>"
      ],
      "text/plain": [
       "alt.FacetChart(...)"
      ]
     },
     "metadata": {},
     "output_type": "display_data"
    }
   ],
   "source": [
    "parallel_corridors_utils.generate_report(df)"
   ]
  },
  {
   "cell_type": "code",
   "execution_count": null,
   "id": "5b2de243-1ec5-4745-a257-eb2dc5f8543d",
   "metadata": {
    "jupyter": {
     "source_hidden": true
    },
    "papermill": {
     "duration": 0.011448,
     "end_time": "2022-04-28T18:21:31.108730",
     "exception": false,
     "start_time": "2022-04-28T18:21:31.097282",
     "status": "completed"
    },
    "tags": [
     "remove_input"
    ]
   },
   "outputs": [],
   "source": []
  }
 ],
 "metadata": {
  "kernelspec": {
   "display_name": "Python 3 (ipykernel)",
   "language": "python",
   "name": "python3"
  },
  "language_info": {
   "codemirror_mode": {
    "name": "ipython",
    "version": 3
   },
   "file_extension": ".py",
   "mimetype": "text/x-python",
   "name": "python",
   "nbconvert_exporter": "python",
   "pygments_lexer": "ipython3",
   "version": "3.9.10"
  },
  "papermill": {
   "default_parameters": {},
   "duration": 26.105119,
   "end_time": "2022-04-28T18:21:33.451305",
   "environment_variables": {},
   "exception": null,
   "input_path": "bus_service_increase/stripplot.ipynb",
   "output_path": "portfolio/parallel_corridors/district_4/stripplot__itp_id_310.ipynb",
   "parameters": {
    "district": 4,
    "itp_id": 310
   },
   "start_time": "2022-04-28T18:21:07.346186",
   "version": "2.3.4"
  }
 },
 "nbformat": 4,
 "nbformat_minor": 5
}