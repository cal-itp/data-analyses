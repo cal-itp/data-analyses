{
 "cells": [
  {
   "cell_type": "code",
   "execution_count": 1,
   "id": "95d00857-6a20-4529-a519-2cc7182928a9",
   "metadata": {
    "execution": {
     "iopub.execute_input": "2022-05-06T16:25:54.342985Z",
     "iopub.status.busy": "2022-05-06T16:25:54.342561Z",
     "iopub.status.idle": "2022-05-06T16:26:06.018372Z",
     "shell.execute_reply": "2022-05-06T16:26:06.017411Z"
    },
    "jupyter": {
     "source_hidden": true
    },
    "papermill": {
     "duration": 11.695568,
     "end_time": "2022-05-06T16:26:06.021617",
     "exception": false,
     "start_time": "2022-05-06T16:25:54.326049",
     "status": "completed"
    },
    "tags": [
     "remove_input"
    ]
   },
   "outputs": [],
   "source": [
    "%%capture\n",
    "import warnings\n",
    "warnings.filterwarnings('ignore')\n",
    "\n",
    "import altair as alt\n",
    "import calitp.magics\n",
    "import geopandas as gpd\n",
    "import intake\n",
    "import pandas as pd\n",
    "\n",
    "from IPython.display import display, Markdown, HTML\n",
    "\n",
    "import parallel_corridors_utils\n",
    "from shared_utils import styleguide\n",
    "\n",
    "catalog = intake.open_catalog(\"./*.yml\")\n",
    "alt.renderers.enable(\"html\")"
   ]
  },
  {
   "cell_type": "code",
   "execution_count": 2,
   "id": "8af2a0c1-f3da-408d-9bea-11d9fbf8695d",
   "metadata": {
    "execution": {
     "iopub.execute_input": "2022-05-06T16:26:06.055441Z",
     "iopub.status.busy": "2022-05-06T16:26:06.054976Z",
     "iopub.status.idle": "2022-05-06T16:26:06.063973Z",
     "shell.execute_reply": "2022-05-06T16:26:06.063154Z"
    },
    "jupyter": {
     "source_hidden": true
    },
    "papermill": {
     "duration": 0.03041,
     "end_time": "2022-05-06T16:26:06.069034",
     "exception": false,
     "start_time": "2022-05-06T16:26:06.038624",
     "status": "completed"
    },
    "tags": [
     "parameters",
     "remove_input"
    ]
   },
   "outputs": [],
   "source": [
    "# parameters cell\n",
    "itp_id = 182"
   ]
  },
  {
   "cell_type": "code",
   "execution_count": 3,
   "id": "22fb6b4c",
   "metadata": {
    "execution": {
     "iopub.execute_input": "2022-05-06T16:26:06.095744Z",
     "iopub.status.busy": "2022-05-06T16:26:06.095364Z",
     "iopub.status.idle": "2022-05-06T16:26:06.099864Z",
     "shell.execute_reply": "2022-05-06T16:26:06.099184Z"
    },
    "jupyter": {
     "source_hidden": true
    },
    "papermill": {
     "duration": 0.021415,
     "end_time": "2022-05-06T16:26:06.103879",
     "exception": false,
     "start_time": "2022-05-06T16:26:06.082464",
     "status": "completed"
    },
    "tags": [
     "injected-parameters",
     "remove_input"
    ]
   },
   "outputs": [],
   "source": [
    "# Parameters\n",
    "district = 4\n",
    "itp_id = 310\n"
   ]
  },
  {
   "cell_type": "code",
   "execution_count": 4,
   "id": "9582aaf4-79ff-412a-b248-8d8d693ebd4f",
   "metadata": {
    "execution": {
     "iopub.execute_input": "2022-05-06T16:26:06.135044Z",
     "iopub.status.busy": "2022-05-06T16:26:06.134715Z",
     "iopub.status.idle": "2022-05-06T16:26:07.859597Z",
     "shell.execute_reply": "2022-05-06T16:26:07.858548Z"
    },
    "jupyter": {
     "source_hidden": true
    },
    "papermill": {
     "duration": 1.745187,
     "end_time": "2022-05-06T16:26:07.863387",
     "exception": false,
     "start_time": "2022-05-06T16:26:06.118200",
     "status": "completed"
    },
    "tags": [
     "remove_input"
    ]
   },
   "outputs": [],
   "source": [
    "df = catalog.competitive_route_variability.read()\n",
    "\n",
    "df = (df[(df.calitp_itp_id == itp_id) & \n",
    "         (df.route_group.notna())]\n",
    "      .reset_index(drop=True)\n",
    "     )\n",
    "\n",
    "\n",
    "if itp_id == 182:\n",
    "    df = df.assign(\n",
    "        route_id = df.route_id.str.replace('-13153', '').astype(int)\n",
    "    )"
   ]
  },
  {
   "cell_type": "code",
   "execution_count": 5,
   "id": "33ac4b06-f647-4dce-a625-8f2c1b37cc60",
   "metadata": {
    "execution": {
     "iopub.execute_input": "2022-05-06T16:26:07.894117Z",
     "iopub.status.busy": "2022-05-06T16:26:07.893750Z",
     "iopub.status.idle": "2022-05-06T16:26:07.902336Z",
     "shell.execute_reply": "2022-05-06T16:26:07.901541Z"
    },
    "jupyter": {
     "source_hidden": true
    },
    "papermill": {
     "duration": 0.027804,
     "end_time": "2022-05-06T16:26:07.906559",
     "exception": false,
     "start_time": "2022-05-06T16:26:07.878755",
     "status": "completed"
    },
    "tags": [
     "remove_input"
    ]
   },
   "outputs": [],
   "source": [
    "%%capture_parameters\n",
    "operator_name = df.name.iloc[0]\n",
    "\n",
    "itp_id, operator_name"
   ]
  },
  {
   "cell_type": "markdown",
   "id": "21321fce-c5a6-4b60-b935-2f0d656e03ee",
   "metadata": {
    "papermill": {
     "duration": 0.012175,
     "end_time": "2022-05-06T16:26:07.931918",
     "exception": false,
     "start_time": "2022-05-06T16:26:07.919743",
     "status": "completed"
    },
    "tags": []
   },
   "source": [
    "# Competitive & Parallel Routes for Solano County Transit (ITP ID: 310)"
   ]
  },
  {
   "cell_type": "code",
   "execution_count": 6,
   "id": "2cb4d8d5-4760-40e4-85b1-cb833d8bb648",
   "metadata": {
    "execution": {
     "iopub.execute_input": "2022-05-06T16:26:07.961743Z",
     "iopub.status.busy": "2022-05-06T16:26:07.961357Z",
     "iopub.status.idle": "2022-05-06T16:26:21.916310Z",
     "shell.execute_reply": "2022-05-06T16:26:21.915401Z"
    },
    "jupyter": {
     "source_hidden": true
    },
    "papermill": {
     "duration": 13.973659,
     "end_time": "2022-05-06T16:26:21.919599",
     "exception": false,
     "start_time": "2022-05-06T16:26:07.945940",
     "status": "completed"
    },
    "tags": [
     "remove_input"
    ]
   },
   "outputs": [],
   "source": [
    "# Grab parameters for narrative text - clean up formatting here \n",
    "district = df.caltrans_district.iloc[0]\n",
    "formatted_date = pd.to_datetime(parallel_corridors_utils.SELECTED_DATE).strftime('%m-%d-%Y')\n",
    "\n",
    "PCT_COMPETITIVE_THRESHOLD = 0.75\n",
    "\n",
    "stats = parallel_corridors_utils.operator_parallel_competitive_stats(\n",
    "    itp_id, PCT_COMPETITIVE_THRESHOLD)\n",
    "\n",
    "pct_parallel = round(stats['parallel_routes'] / stats['num_routes'] * 100,1 )\n",
    "pct_competitive =  round(stats['competitive_routes'] / stats['num_routes'] * 100,1 )"
   ]
  },
  {
   "cell_type": "code",
   "execution_count": 7,
   "id": "0416509d-dc62-4165-b62e-64f8b26e8b8e",
   "metadata": {
    "execution": {
     "iopub.execute_input": "2022-05-06T16:26:21.952188Z",
     "iopub.status.busy": "2022-05-06T16:26:21.951835Z",
     "iopub.status.idle": "2022-05-06T16:26:21.960279Z",
     "shell.execute_reply": "2022-05-06T16:26:21.959543Z"
    },
    "jupyter": {
     "source_hidden": true
    },
    "papermill": {
     "duration": 0.030211,
     "end_time": "2022-05-06T16:26:21.964829",
     "exception": false,
     "start_time": "2022-05-06T16:26:21.934618",
     "status": "completed"
    },
    "tags": [
     "remove_input"
    ]
   },
   "outputs": [
    {
     "data": {
      "text/markdown": [
       "**Bus routes in service**: 15 <br>**Parallel routes** to State Highway Network (SHN): 14 routes (93.3%)<br>**Competitive routes** against car travel: 2 routes (13.3%)"
      ],
      "text/plain": [
       "<IPython.core.display.Markdown object>"
      ]
     },
     "metadata": {},
     "output_type": "display_data"
    }
   ],
   "source": [
    "display(\n",
    "    Markdown(\n",
    "        f\"**Bus routes in service**: {stats['num_routes']} \"\n",
    "        \"<br>**Parallel routes** to State Highway Network (SHN): \"\n",
    "        f\"{stats['parallel_routes']} routes ({pct_parallel}%)\"\n",
    "        f\"<br>**Competitive routes** against car travel: {stats['competitive_routes']} routes ({pct_competitive}%)\"\n",
    "    )\n",
    ")"
   ]
  },
  {
   "cell_type": "code",
   "execution_count": 8,
   "id": "f9d6ab58-f0ee-460c-b6de-657490e1f386",
   "metadata": {
    "execution": {
     "iopub.execute_input": "2022-05-06T16:26:21.997875Z",
     "iopub.status.busy": "2022-05-06T16:26:21.997353Z",
     "iopub.status.idle": "2022-05-06T16:26:22.016279Z",
     "shell.execute_reply": "2022-05-06T16:26:22.015402Z"
    },
    "jupyter": {
     "source_hidden": true
    },
    "papermill": {
     "duration": 0.038673,
     "end_time": "2022-05-06T16:26:22.019055",
     "exception": false,
     "start_time": "2022-05-06T16:26:21.980382",
     "status": "completed"
    },
    "tags": [
     "remove_input"
    ]
   },
   "outputs": [],
   "source": [
    "def set_yaxis_range(df, y_col):\n",
    "    Y_MIN = df[y_col].min()\n",
    "    Y_MAX = df[y_col].max()\n",
    "    \n",
    "    return Y_MIN, Y_MAX\n",
    "\n",
    "# Rather than set it according to the operator, which can vary,\n",
    "# just use set thresholds for each group\n",
    "diff_cutoffs = {\n",
    "    \"short\": 20,\n",
    "    \"medium\": 30,\n",
    "    \"long\": 40,\n",
    "}\n",
    "\n",
    "PCT_TRIPS_BELOW_CUTOFF = 0.25\n",
    "\n",
    "def top15_routes(df, route_group):\n",
    "    df2 = (df[df.route_group==route_group])\n",
    "    # Set a cut-off to enable sorting, where most of the trips are \n",
    "    # below a certain time difference cut-off, \n",
    "    # grab top 15 routes where majority of trips are below that cut-off \n",
    "\n",
    "    route_cols = [\"calitp_itp_id\", \"route_id\"]\n",
    "\n",
    "    df2 = df2.assign(\n",
    "        below_cutoff = df2.apply(lambda x: 1 if x.bus_difference <= diff_cutoffs[route_group] \n",
    "                                 else 0, axis=1),\n",
    "        num_trips = df2.groupby(route_cols)[\"trip_id\"].transform(\"count\")\n",
    "    )\n",
    "\n",
    "    df2[\"below_cutoff\"] = df2.groupby(route_cols)[\"below_cutoff\"].transform(\"sum\")\n",
    "    df2[\"pct_below_cutoff\"] = df2.below_cutoff.divide(df2.num_trips)\n",
    "\n",
    "    # At least half the trips are below that cut-off\n",
    "    # but show 15 max, otherwise, show less, since these won't be as interesting to operators\n",
    "    df3 = (df2[df2.pct_below_cutoff >= PCT_TRIPS_BELOW_CUTOFF]\n",
    "           .sort_values([\"calitp_itp_id\", \"below_cutoff\", \n",
    "                         \"pct_below_cutoff\", \"route_id\"],\n",
    "                        ascending = [True, False, False, True]\n",
    "                       )\n",
    "           .drop_duplicates(subset=[\"calitp_itp_id\", \"route_id\"])\n",
    "          ).head(15)\n",
    "    \n",
    "    return list(df3.route_id)"
   ]
  },
  {
   "cell_type": "code",
   "execution_count": 9,
   "id": "cf36d559-3349-4144-8086-8ac9ce937a5a",
   "metadata": {
    "execution": {
     "iopub.execute_input": "2022-05-06T16:26:22.062226Z",
     "iopub.status.busy": "2022-05-06T16:26:22.061868Z",
     "iopub.status.idle": "2022-05-06T16:26:22.072842Z",
     "shell.execute_reply": "2022-05-06T16:26:22.071968Z"
    },
    "jupyter": {
     "source_hidden": true
    },
    "papermill": {
     "duration": 0.042543,
     "end_time": "2022-05-06T16:26:22.077838",
     "exception": false,
     "start_time": "2022-05-06T16:26:22.035295",
     "status": "completed"
    },
    "tags": [
     "remove_input"
    ]
   },
   "outputs": [],
   "source": [
    "short_caption = (\n",
    "    \"Short routes travel time: <= 1 hr\"\n",
    "    f\"<br>These are routes that have at least {int(PCT_TRIPS_BELOW_CUTOFF*100)}% of their trips \"\n",
    "    f\"take no more than an additional {diff_cutoffs['short']} min compared to a car \"\n",
    "    \"(up to 15 routes) are shown.\"\n",
    ")\n",
    "\n",
    "med_caption = (\n",
    "    \"Medium routes travel time: 1-1.5 hrs\"\n",
    "    f\"<br>These are routes that have at least {int(PCT_TRIPS_BELOW_CUTOFF*100)}% of their trips \"\n",
    "    f\"take no more than an additional {diff_cutoffs['medium']} min compared to a car \"\n",
    "    \"(up to 15 routes) are shown.\"\n",
    ")\n",
    "\n",
    "long_caption = (\n",
    "    \"Long routes travel time: > 1.5 hrs\"\n",
    "    f\"<br>These are routes that have at least {int(PCT_TRIPS_BELOW_CUTOFF*100)}% of their trips \"\n",
    "    f\"take no more than an additional {diff_cutoffs['long']} min compared to a car \"\n",
    "    \"(up to 15 routes) are shown.\")\n",
    "\n",
    "\n",
    "CAPTIONS_DICT = {\n",
    "    \"short\": short_caption,\n",
    "    \"medium\": med_caption,\n",
    "    \"long\": long_caption,\n",
    "}"
   ]
  },
  {
   "cell_type": "code",
   "execution_count": 10,
   "id": "97a60d10-9361-4125-b6b5-da6d420cec9b",
   "metadata": {
    "execution": {
     "iopub.execute_input": "2022-05-06T16:26:22.135386Z",
     "iopub.status.busy": "2022-05-06T16:26:22.135016Z",
     "iopub.status.idle": "2022-05-06T16:26:22.159882Z",
     "shell.execute_reply": "2022-05-06T16:26:22.156055Z"
    },
    "jupyter": {
     "source_hidden": true
    },
    "papermill": {
     "duration": 0.061108,
     "end_time": "2022-05-06T16:26:22.163383",
     "exception": false,
     "start_time": "2022-05-06T16:26:22.102275",
     "status": "completed"
    },
    "tags": [
     "remove_input"
    ]
   },
   "outputs": [],
   "source": [
    "def generate_report(df, PCT_COMPETITIVE_THRESHOLD):\n",
    "    # Set up df for charting (cut-off at some threshold to show most competitive routes)\n",
    "    plot_me = (df[df.pct_trips_competitive > PCT_COMPETITIVE_THRESHOLD]\n",
    "           .drop(columns = \"geometry\")\n",
    "    )\n",
    "    \n",
    "    y_col1 = \"bus_multiplier\"\n",
    "    Y_MIN1, Y_MAX1 = set_yaxis_range(plot_me, y_col1)\n",
    "\n",
    "    y_col2 = \"bus_difference\"\n",
    "    Y_MIN2, Y_MAX2 = set_yaxis_range(plot_me, y_col2)\n",
    "    \n",
    "    def combine_stripplots(df):\n",
    "        multiplier_chart = parallel_corridors_utils.make_stripplot(\n",
    "            df, y_col1, Y_MIN = Y_MIN1, Y_MAX = Y_MAX1\n",
    "        )\n",
    "\n",
    "\n",
    "        difference_chart = parallel_corridors_utils.make_stripplot(\n",
    "            df, y_col2, Y_MIN = Y_MIN2, Y_MAX = Y_MAX2\n",
    "        )\n",
    "            \n",
    "        return multiplier_chart, difference_chart\n",
    "    \n",
    "    for r in [\"short\", \"medium\", \"long\"]:\n",
    "        try:\n",
    "            subset_routes = top15_routes(plot_me, r)\n",
    "\n",
    "            # Allow for possibility that operator doesn't have routes that fall into certain route_groups\n",
    "            if len(subset_routes) > 0:\n",
    "                mult, diff = combine_stripplots(plot_me[plot_me.route_id.isin(subset_routes)])\n",
    "                \n",
    "                display(HTML(f\"<h3>{r.title()} Routes</h3>\"))\n",
    "                display(\n",
    "                    Markdown(\n",
    "                        f\"{CAPTIONS_DICT[r]}\"\n",
    "                        \"Within each route group, routes are sorted in descending order \"\n",
    "                        \"by % competitive trips and # trips below the additional time cut-off.\"\n",
    "                    )\n",
    "                )\n",
    "                \n",
    "                display(mult)\n",
    "                display(diff)\n",
    "        except:\n",
    "            print(f\"No routes in the {r} route_group\")"
   ]
  },
  {
   "cell_type": "code",
   "execution_count": 11,
   "id": "5b2de243-1ec5-4745-a257-eb2dc5f8543d",
   "metadata": {
    "execution": {
     "iopub.execute_input": "2022-05-06T16:26:22.234046Z",
     "iopub.status.busy": "2022-05-06T16:26:22.233711Z",
     "iopub.status.idle": "2022-05-06T16:26:22.808599Z",
     "shell.execute_reply": "2022-05-06T16:26:22.807662Z"
    },
    "jupyter": {
     "source_hidden": true
    },
    "papermill": {
     "duration": 0.618205,
     "end_time": "2022-05-06T16:26:22.814020",
     "exception": false,
     "start_time": "2022-05-06T16:26:22.195815",
     "status": "completed"
    },
    "tags": [
     "remove_input"
    ]
   },
   "outputs": [
    {
     "data": {
      "text/html": [
       "<h3>Short Routes</h3>"
      ],
      "text/plain": [
       "<IPython.core.display.HTML object>"
      ]
     },
     "metadata": {},
     "output_type": "display_data"
    },
    {
     "data": {
      "text/markdown": [
       "Short routes travel time: <= 1 hr<br>These are routes that have at least 25% of their trips take no more than an additional 20 min compared to a car (up to 15 routes) are shown.Within each route group, routes are sorted in descending order by % competitive trips and # trips below the additional time cut-off."
      ],
      "text/plain": [
       "<IPython.core.display.Markdown object>"
      ]
     },
     "metadata": {},
     "output_type": "display_data"
    },
    {
     "data": {
      "text/html": [
       "\n",
       "<div id=\"altair-viz-0c5114d1ae824bc3ac6482e899c92994\"></div>\n",
       "<script type=\"text/javascript\">\n",
       "  var VEGA_DEBUG = (typeof VEGA_DEBUG == \"undefined\") ? {} : VEGA_DEBUG;\n",
       "  (function(spec, embedOpt){\n",
       "    let outputDiv = document.currentScript.previousElementSibling;\n",
       "    if (outputDiv.id !== \"altair-viz-0c5114d1ae824bc3ac6482e899c92994\") {\n",
       "      outputDiv = document.getElementById(\"altair-viz-0c5114d1ae824bc3ac6482e899c92994\");\n",
       "    }\n",
       "    const paths = {\n",
       "      \"vega\": \"https://cdn.jsdelivr.net/npm//vega@5?noext\",\n",
       "      \"vega-lib\": \"https://cdn.jsdelivr.net/npm//vega-lib?noext\",\n",
       "      \"vega-lite\": \"https://cdn.jsdelivr.net/npm//vega-lite@4.17.0?noext\",\n",
       "      \"vega-embed\": \"https://cdn.jsdelivr.net/npm//vega-embed@6?noext\",\n",
       "    };\n",
       "\n",
       "    function maybeLoadScript(lib, version) {\n",
       "      var key = `${lib.replace(\"-\", \"\")}_version`;\n",
       "      return (VEGA_DEBUG[key] == version) ?\n",
       "        Promise.resolve(paths[lib]) :\n",
       "        new Promise(function(resolve, reject) {\n",
       "          var s = document.createElement('script');\n",
       "          document.getElementsByTagName(\"head\")[0].appendChild(s);\n",
       "          s.async = true;\n",
       "          s.onload = () => {\n",
       "            VEGA_DEBUG[key] = version;\n",
       "            return resolve(paths[lib]);\n",
       "          };\n",
       "          s.onerror = () => reject(`Error loading script: ${paths[lib]}`);\n",
       "          s.src = paths[lib];\n",
       "        });\n",
       "    }\n",
       "\n",
       "    function showError(err) {\n",
       "      outputDiv.innerHTML = `<div class=\"error\" style=\"color:red;\">${err}</div>`;\n",
       "      throw err;\n",
       "    }\n",
       "\n",
       "    function displayChart(vegaEmbed) {\n",
       "      vegaEmbed(outputDiv, spec, embedOpt)\n",
       "        .catch(err => showError(`Javascript Error: ${err.message}<br>This usually means there's a typo in your chart specification. See the javascript console for the full traceback.`));\n",
       "    }\n",
       "\n",
       "    if(typeof define === \"function\" && define.amd) {\n",
       "      requirejs.config({paths});\n",
       "      require([\"vega-embed\"], displayChart, err => showError(`Error loading script: ${err.message}`));\n",
       "    } else {\n",
       "      maybeLoadScript(\"vega\", \"5\")\n",
       "        .then(() => maybeLoadScript(\"vega-lite\", \"4.17.0\"))\n",
       "        .then(() => maybeLoadScript(\"vega-embed\", \"6\"))\n",
       "        .catch(showError)\n",
       "        .then(() => displayChart(vegaEmbed));\n",
       "    }\n",
       "  })({\"config\": {\"view\": {\"continuousWidth\": 400, \"continuousHeight\": 300, \"stroke\": null}, \"facet\": {\"spacing\": 0}}, \"data\": {\"name\": \"data-dbc6798ffed187f39dc86f9133f57a4d\"}, \"facet\": {\"column\": {\"field\": \"route_id\", \"sort\": [\"7A\", \"38\"], \"title\": \"Route ID\", \"type\": \"nominal\"}}, \"spec\": {\"layer\": [{\"mark\": {\"type\": \"point\", \"opacity\": 0.65, \"size\": 12, \"strokeWidth\": 1.1}, \"encoding\": {\"color\": {\"field\": \"time_of_day\", \"scale\": {\"range\": [\"#136C97\", \"#E16B26\", \"#F6BF16\", \"#00896B\", \"#7790A3\", \"#5B559C\"]}, \"sort\": [\"AM Peak\", \"Midday\", \"PM Peak\", \"Owl Service\"], \"title\": \"Time of Day\", \"type\": \"nominal\"}, \"tooltip\": [{\"field\": \"route_id\", \"type\": \"nominal\"}, {\"field\": \"trip_id\", \"type\": \"nominal\"}, {\"field\": \"service_hours\", \"type\": \"quantitative\"}, {\"field\": \"car_duration_hours\", \"type\": \"quantitative\"}, {\"field\": \"bus_multiplier\", \"type\": \"quantitative\"}, {\"field\": \"bus_difference\", \"type\": \"quantitative\"}, {\"field\": \"num_trips\", \"type\": \"quantitative\"}, {\"field\": \"num_competitive\", \"type\": \"quantitative\"}, {\"field\": \"pct_trips_competitive\", \"type\": \"quantitative\"}, {\"field\": \"p25\", \"type\": \"quantitative\"}, {\"field\": \"p50\", \"type\": \"quantitative\"}, {\"field\": \"p75\", \"type\": \"quantitative\"}], \"x\": {\"axis\": {\"grid\": false, \"labels\": false, \"ticks\": true, \"values\": [0]}, \"field\": \"jitter\", \"scale\": {}, \"title\": null, \"type\": \"quantitative\"}, \"y\": {\"field\": \"bus_multiplier\", \"scale\": {\"domain\": [-0.25, 2.5]}, \"title\": \"Ratio of Bus to Car Travel Time\", \"type\": \"quantitative\"}}, \"selection\": {\"selector001\": {\"type\": \"interval\", \"bind\": \"scales\", \"encodings\": [\"x\", \"y\"]}}, \"transform\": [{\"calculate\": \"sqrt(-2*log(random()))*cos(2*PI*random())\", \"as\": \"jitter\"}], \"width\": 60}, {\"layer\": [{\"mark\": {\"type\": \"point\", \"opacity\": 0.6, \"size\": 20, \"strokeWidth\": 1.3}, \"encoding\": {\"color\": {\"value\": \"#323434\"}, \"y\": {\"field\": \"bus_multiplier\", \"type\": \"quantitative\"}}, \"transform\": [{\"filter\": \"(datum.p50_trip === 1)\"}]}, {\"mark\": {\"type\": \"rule\", \"strokeDash\": [2, 3]}, \"encoding\": {\"color\": {\"value\": \"#323434\"}, \"y\": {\"field\": \"cutoff\", \"type\": \"quantitative\"}}}, {\"mark\": {\"type\": \"text\", \"align\": \"center\", \"baseline\": \"middle\"}, \"encoding\": {\"color\": {\"value\": \"black\"}, \"text\": {\"field\": \"pct_trips_competitive\", \"format\": \".0%\", \"type\": \"quantitative\"}, \"tooltip\": [{\"field\": \"route_id\", \"type\": \"nominal\"}, {\"field\": \"trip_id\", \"type\": \"nominal\"}, {\"field\": \"service_hours\", \"type\": \"quantitative\"}, {\"field\": \"car_duration_hours\", \"type\": \"quantitative\"}, {\"field\": \"bus_multiplier\", \"type\": \"quantitative\"}, {\"field\": \"bus_difference\", \"type\": \"quantitative\"}, {\"field\": \"num_trips\", \"type\": \"quantitative\"}, {\"field\": \"num_competitive\", \"type\": \"quantitative\"}, {\"field\": \"pct_trips_competitive\", \"type\": \"quantitative\"}, {\"field\": \"p25\", \"type\": \"quantitative\"}, {\"field\": \"p50\", \"type\": \"quantitative\"}, {\"field\": \"p75\", \"type\": \"quantitative\"}], \"x\": {\"value\": 30}, \"y\": {\"value\": 15}}, \"transform\": [{\"calculate\": \"sqrt(-2*log(random()))*cos(2*PI*random())\", \"as\": \"jitter\"}, {\"filter\": \"(datum.fastest_trip === 1)\"}]}]}]}, \"resolve\": {\"scale\": {\"y\": \"shared\"}}, \"title\": \"Ratio of Bus to Car Travel Time\", \"$schema\": \"https://vega.github.io/schema/vega-lite/v4.17.0.json\", \"datasets\": {\"data-dbc6798ffed187f39dc86f9133f57a4d\": [{\"calitp_itp_id\": 310, \"trip_key\": -5574743277464453139, \"trip_id\": \"919\", \"shape_id\": \"22\", \"route_id\": \"38\", \"service_hours\": 0.47, \"trip_first_departure_ts\": 27120, \"trip_last_arrival_ts\": 28800, \"departure_hour\": 7, \"time_of_day\": \"AM Peak\", \"p25\": 0.485, \"p50\": 0.5, \"p75\": 0.515, \"p50_trip\": 1, \"fastest_trip\": 1, \"car_duration_hours\": 0.31, \"competitive_route\": 1, \"bus_multiplier\": 1.52, \"bus_difference\": 9.6, \"num_trips\": 2, \"num_competitive\": 2, \"pct_trips_competitive\": 1.0, \"bus_difference_spread\": 3.6, \"route_group\": \"short\", \"max_trip_hrs\": 0.53, \"max_trip_route_group\": 1.0, \"name\": \"Solano County Transit\", \"caltrans_district\": \"04 - Oakland\", \"drmt_organization_name\": \"['recT79ohBnTB1fKsX']\", \"cutoff2\": 15.0, \"cutoff\": 2}, {\"calitp_itp_id\": 310, \"trip_key\": -3715552762660780122, \"trip_id\": \"920\", \"shape_id\": \"24\", \"route_id\": \"38\", \"service_hours\": 0.53, \"trip_first_departure_ts\": 24960, \"trip_last_arrival_ts\": 26880, \"departure_hour\": 6, \"time_of_day\": \"Owl Service\", \"p25\": 0.485, \"p50\": 0.5, \"p75\": 0.515, \"p50_trip\": 1, \"fastest_trip\": 0, \"car_duration_hours\": 0.31, \"competitive_route\": 1, \"bus_multiplier\": 1.71, \"bus_difference\": 13.2, \"num_trips\": 2, \"num_competitive\": 2, \"pct_trips_competitive\": 1.0, \"bus_difference_spread\": 3.6, \"route_group\": \"short\", \"max_trip_hrs\": 0.53, \"max_trip_route_group\": 1.0, \"name\": \"Solano County Transit\", \"caltrans_district\": \"04 - Oakland\", \"drmt_organization_name\": \"['recT79ohBnTB1fKsX']\", \"cutoff2\": 15.0, \"cutoff\": 2}, {\"calitp_itp_id\": 310, \"trip_key\": -2242253959501436434, \"trip_id\": \"1078\", \"shape_id\": \"10\", \"route_id\": \"7A\", \"service_hours\": 1.0, \"trip_first_departure_ts\": 42300, \"trip_last_arrival_ts\": 45900, \"departure_hour\": 11, \"time_of_day\": \"Midday\", \"p25\": 1.0, \"p50\": 1.0, \"p75\": 1.0, \"p50_trip\": 1, \"fastest_trip\": 0, \"car_duration_hours\": 0.77, \"competitive_route\": 1, \"bus_multiplier\": 1.3, \"bus_difference\": 13.8, \"num_trips\": 15, \"num_competitive\": 15, \"pct_trips_competitive\": 1.0, \"bus_difference_spread\": 0.0, \"route_group\": \"short\", \"max_trip_hrs\": 1.0, \"max_trip_route_group\": 1.0, \"name\": \"Solano County Transit\", \"caltrans_district\": \"04 - Oakland\", \"drmt_organization_name\": \"['recT79ohBnTB1fKsX']\", \"cutoff2\": 15.0, \"cutoff\": 2}, {\"calitp_itp_id\": 310, \"trip_key\": 1553366806666314761, \"trip_id\": \"1097\", \"shape_id\": \"10\", \"route_id\": \"7A\", \"service_hours\": 1.0, \"trip_first_departure_ts\": 67500, \"trip_last_arrival_ts\": 71100, \"departure_hour\": 18, \"time_of_day\": \"PM Peak\", \"p25\": 1.0, \"p50\": 1.0, \"p75\": 1.0, \"p50_trip\": 1, \"fastest_trip\": 0, \"car_duration_hours\": 0.77, \"competitive_route\": 1, \"bus_multiplier\": 1.3, \"bus_difference\": 13.8, \"num_trips\": 15, \"num_competitive\": 15, \"pct_trips_competitive\": 1.0, \"bus_difference_spread\": 0.0, \"route_group\": \"short\", \"max_trip_hrs\": 1.0, \"max_trip_route_group\": 1.0, \"name\": \"Solano County Transit\", \"caltrans_district\": \"04 - Oakland\", \"drmt_organization_name\": \"['recT79ohBnTB1fKsX']\", \"cutoff2\": 15.0, \"cutoff\": 2}, {\"calitp_itp_id\": 310, \"trip_key\": 5736745841295953016, \"trip_id\": \"1099\", \"shape_id\": \"10\", \"route_id\": \"7A\", \"service_hours\": 1.0, \"trip_first_departure_ts\": 74700, \"trip_last_arrival_ts\": 78300, \"departure_hour\": 20, \"time_of_day\": \"Owl Service\", \"p25\": 1.0, \"p50\": 1.0, \"p75\": 1.0, \"p50_trip\": 1, \"fastest_trip\": 1, \"car_duration_hours\": 0.77, \"competitive_route\": 1, \"bus_multiplier\": 1.3, \"bus_difference\": 13.8, \"num_trips\": 15, \"num_competitive\": 15, \"pct_trips_competitive\": 1.0, \"bus_difference_spread\": 0.0, \"route_group\": \"short\", \"max_trip_hrs\": 1.0, \"max_trip_route_group\": 1.0, \"name\": \"Solano County Transit\", \"caltrans_district\": \"04 - Oakland\", \"drmt_organization_name\": \"['recT79ohBnTB1fKsX']\", \"cutoff2\": 15.0, \"cutoff\": 2}, {\"calitp_itp_id\": 310, \"trip_key\": 7541199008754798528, \"trip_id\": \"1065\", \"shape_id\": \"10\", \"route_id\": \"7A\", \"service_hours\": 1.0, \"trip_first_departure_ts\": 24300, \"trip_last_arrival_ts\": 27900, \"departure_hour\": 6, \"time_of_day\": \"Owl Service\", \"p25\": 1.0, \"p50\": 1.0, \"p75\": 1.0, \"p50_trip\": 1, \"fastest_trip\": 0, \"car_duration_hours\": 0.77, \"competitive_route\": 1, \"bus_multiplier\": 1.3, \"bus_difference\": 13.8, \"num_trips\": 15, \"num_competitive\": 15, \"pct_trips_competitive\": 1.0, \"bus_difference_spread\": 0.0, \"route_group\": \"short\", \"max_trip_hrs\": 1.0, \"max_trip_route_group\": 1.0, \"name\": \"Solano County Transit\", \"caltrans_district\": \"04 - Oakland\", \"drmt_organization_name\": \"['recT79ohBnTB1fKsX']\", \"cutoff2\": 15.0, \"cutoff\": 2}, {\"calitp_itp_id\": 310, \"trip_key\": -2774837895713846595, \"trip_id\": \"1081\", \"shape_id\": \"10\", \"route_id\": \"7A\", \"service_hours\": 1.0, \"trip_first_departure_ts\": 45900, \"trip_last_arrival_ts\": 49500, \"departure_hour\": 12, \"time_of_day\": \"Midday\", \"p25\": 1.0, \"p50\": 1.0, \"p75\": 1.0, \"p50_trip\": 1, \"fastest_trip\": 0, \"car_duration_hours\": 0.77, \"competitive_route\": 1, \"bus_multiplier\": 1.3, \"bus_difference\": 13.8, \"num_trips\": 15, \"num_competitive\": 15, \"pct_trips_competitive\": 1.0, \"bus_difference_spread\": 0.0, \"route_group\": \"short\", \"max_trip_hrs\": 1.0, \"max_trip_route_group\": 1.0, \"name\": \"Solano County Transit\", \"caltrans_district\": \"04 - Oakland\", \"drmt_organization_name\": \"['recT79ohBnTB1fKsX']\", \"cutoff2\": 15.0, \"cutoff\": 2}, {\"calitp_itp_id\": 310, \"trip_key\": -7128689078602650873, \"trip_id\": \"1066\", \"shape_id\": \"10\", \"route_id\": \"7A\", \"service_hours\": 1.0, \"trip_first_departure_ts\": 27900, \"trip_last_arrival_ts\": 31500, \"departure_hour\": 7, \"time_of_day\": \"AM Peak\", \"p25\": 1.0, \"p50\": 1.0, \"p75\": 1.0, \"p50_trip\": 1, \"fastest_trip\": 0, \"car_duration_hours\": 0.77, \"competitive_route\": 1, \"bus_multiplier\": 1.3, \"bus_difference\": 13.8, \"num_trips\": 15, \"num_competitive\": 15, \"pct_trips_competitive\": 1.0, \"bus_difference_spread\": 0.0, \"route_group\": \"short\", \"max_trip_hrs\": 1.0, \"max_trip_route_group\": 1.0, \"name\": \"Solano County Transit\", \"caltrans_district\": \"04 - Oakland\", \"drmt_organization_name\": \"['recT79ohBnTB1fKsX']\", \"cutoff2\": 15.0, \"cutoff\": 2}, {\"calitp_itp_id\": 310, \"trip_key\": -3801396718114747764, \"trip_id\": \"1075\", \"shape_id\": \"10\", \"route_id\": \"7A\", \"service_hours\": 1.0, \"trip_first_departure_ts\": 38700, \"trip_last_arrival_ts\": 42300, \"departure_hour\": 10, \"time_of_day\": \"Midday\", \"p25\": 1.0, \"p50\": 1.0, \"p75\": 1.0, \"p50_trip\": 1, \"fastest_trip\": 0, \"car_duration_hours\": 0.77, \"competitive_route\": 1, \"bus_multiplier\": 1.3, \"bus_difference\": 13.8, \"num_trips\": 15, \"num_competitive\": 15, \"pct_trips_competitive\": 1.0, \"bus_difference_spread\": 0.0, \"route_group\": \"short\", \"max_trip_hrs\": 1.0, \"max_trip_route_group\": 1.0, \"name\": \"Solano County Transit\", \"caltrans_district\": \"04 - Oakland\", \"drmt_organization_name\": \"['recT79ohBnTB1fKsX']\", \"cutoff2\": 15.0, \"cutoff\": 2}, {\"calitp_itp_id\": 310, \"trip_key\": 3555369193555928407, \"trip_id\": \"1098\", \"shape_id\": \"10\", \"route_id\": \"7A\", \"service_hours\": 1.0, \"trip_first_departure_ts\": 71100, \"trip_last_arrival_ts\": 74700, \"departure_hour\": 19, \"time_of_day\": \"PM Peak\", \"p25\": 1.0, \"p50\": 1.0, \"p75\": 1.0, \"p50_trip\": 1, \"fastest_trip\": 0, \"car_duration_hours\": 0.77, \"competitive_route\": 1, \"bus_multiplier\": 1.3, \"bus_difference\": 13.8, \"num_trips\": 15, \"num_competitive\": 15, \"pct_trips_competitive\": 1.0, \"bus_difference_spread\": 0.0, \"route_group\": \"short\", \"max_trip_hrs\": 1.0, \"max_trip_route_group\": 1.0, \"name\": \"Solano County Transit\", \"caltrans_district\": \"04 - Oakland\", \"drmt_organization_name\": \"['recT79ohBnTB1fKsX']\", \"cutoff2\": 15.0, \"cutoff\": 2}, {\"calitp_itp_id\": 310, \"trip_key\": -7612102933413698873, \"trip_id\": \"1084\", \"shape_id\": \"10\", \"route_id\": \"7A\", \"service_hours\": 1.0, \"trip_first_departure_ts\": 49500, \"trip_last_arrival_ts\": 53100, \"departure_hour\": 13, \"time_of_day\": \"Midday\", \"p25\": 1.0, \"p50\": 1.0, \"p75\": 1.0, \"p50_trip\": 1, \"fastest_trip\": 0, \"car_duration_hours\": 0.77, \"competitive_route\": 1, \"bus_multiplier\": 1.3, \"bus_difference\": 13.8, \"num_trips\": 15, \"num_competitive\": 15, \"pct_trips_competitive\": 1.0, \"bus_difference_spread\": 0.0, \"route_group\": \"short\", \"max_trip_hrs\": 1.0, \"max_trip_route_group\": 1.0, \"name\": \"Solano County Transit\", \"caltrans_district\": \"04 - Oakland\", \"drmt_organization_name\": \"['recT79ohBnTB1fKsX']\", \"cutoff2\": 15.0, \"cutoff\": 2}, {\"calitp_itp_id\": 310, \"trip_key\": 9090745400368182860, \"trip_id\": \"1069\", \"shape_id\": \"10\", \"route_id\": \"7A\", \"service_hours\": 1.0, \"trip_first_departure_ts\": 31500, \"trip_last_arrival_ts\": 35100, \"departure_hour\": 8, \"time_of_day\": \"AM Peak\", \"p25\": 1.0, \"p50\": 1.0, \"p75\": 1.0, \"p50_trip\": 1, \"fastest_trip\": 0, \"car_duration_hours\": 0.77, \"competitive_route\": 1, \"bus_multiplier\": 1.3, \"bus_difference\": 13.8, \"num_trips\": 15, \"num_competitive\": 15, \"pct_trips_competitive\": 1.0, \"bus_difference_spread\": 0.0, \"route_group\": \"short\", \"max_trip_hrs\": 1.0, \"max_trip_route_group\": 1.0, \"name\": \"Solano County Transit\", \"caltrans_district\": \"04 - Oakland\", \"drmt_organization_name\": \"['recT79ohBnTB1fKsX']\", \"cutoff2\": 15.0, \"cutoff\": 2}, {\"calitp_itp_id\": 310, \"trip_key\": -6662624582280621192, \"trip_id\": \"1087\", \"shape_id\": \"10\", \"route_id\": \"7A\", \"service_hours\": 1.0, \"trip_first_departure_ts\": 53100, \"trip_last_arrival_ts\": 56700, \"departure_hour\": 14, \"time_of_day\": \"Midday\", \"p25\": 1.0, \"p50\": 1.0, \"p75\": 1.0, \"p50_trip\": 1, \"fastest_trip\": 0, \"car_duration_hours\": 0.77, \"competitive_route\": 1, \"bus_multiplier\": 1.3, \"bus_difference\": 13.8, \"num_trips\": 15, \"num_competitive\": 15, \"pct_trips_competitive\": 1.0, \"bus_difference_spread\": 0.0, \"route_group\": \"short\", \"max_trip_hrs\": 1.0, \"max_trip_route_group\": 1.0, \"name\": \"Solano County Transit\", \"caltrans_district\": \"04 - Oakland\", \"drmt_organization_name\": \"['recT79ohBnTB1fKsX']\", \"cutoff2\": 15.0, \"cutoff\": 2}, {\"calitp_itp_id\": 310, \"trip_key\": -6607227710157058801, \"trip_id\": \"1096\", \"shape_id\": \"10\", \"route_id\": \"7A\", \"service_hours\": 1.0, \"trip_first_departure_ts\": 63900, \"trip_last_arrival_ts\": 67500, \"departure_hour\": 17, \"time_of_day\": \"PM Peak\", \"p25\": 1.0, \"p50\": 1.0, \"p75\": 1.0, \"p50_trip\": 1, \"fastest_trip\": 0, \"car_duration_hours\": 0.77, \"competitive_route\": 1, \"bus_multiplier\": 1.3, \"bus_difference\": 13.8, \"num_trips\": 15, \"num_competitive\": 15, \"pct_trips_competitive\": 1.0, \"bus_difference_spread\": 0.0, \"route_group\": \"short\", \"max_trip_hrs\": 1.0, \"max_trip_route_group\": 1.0, \"name\": \"Solano County Transit\", \"caltrans_district\": \"04 - Oakland\", \"drmt_organization_name\": \"['recT79ohBnTB1fKsX']\", \"cutoff2\": 15.0, \"cutoff\": 2}, {\"calitp_itp_id\": 310, \"trip_key\": 75175244298657360, \"trip_id\": \"1090\", \"shape_id\": \"10\", \"route_id\": \"7A\", \"service_hours\": 1.0, \"trip_first_departure_ts\": 56700, \"trip_last_arrival_ts\": 60300, \"departure_hour\": 15, \"time_of_day\": \"Midday\", \"p25\": 1.0, \"p50\": 1.0, \"p75\": 1.0, \"p50_trip\": 1, \"fastest_trip\": 0, \"car_duration_hours\": 0.77, \"competitive_route\": 1, \"bus_multiplier\": 1.3, \"bus_difference\": 13.8, \"num_trips\": 15, \"num_competitive\": 15, \"pct_trips_competitive\": 1.0, \"bus_difference_spread\": 0.0, \"route_group\": \"short\", \"max_trip_hrs\": 1.0, \"max_trip_route_group\": 1.0, \"name\": \"Solano County Transit\", \"caltrans_district\": \"04 - Oakland\", \"drmt_organization_name\": \"['recT79ohBnTB1fKsX']\", \"cutoff2\": 15.0, \"cutoff\": 2}, {\"calitp_itp_id\": 310, \"trip_key\": 8811729153955021229, \"trip_id\": \"1072\", \"shape_id\": \"10\", \"route_id\": \"7A\", \"service_hours\": 1.0, \"trip_first_departure_ts\": 35100, \"trip_last_arrival_ts\": 38700, \"departure_hour\": 9, \"time_of_day\": \"AM Peak\", \"p25\": 1.0, \"p50\": 1.0, \"p75\": 1.0, \"p50_trip\": 1, \"fastest_trip\": 0, \"car_duration_hours\": 0.77, \"competitive_route\": 1, \"bus_multiplier\": 1.3, \"bus_difference\": 13.8, \"num_trips\": 15, \"num_competitive\": 15, \"pct_trips_competitive\": 1.0, \"bus_difference_spread\": 0.0, \"route_group\": \"short\", \"max_trip_hrs\": 1.0, \"max_trip_route_group\": 1.0, \"name\": \"Solano County Transit\", \"caltrans_district\": \"04 - Oakland\", \"drmt_organization_name\": \"['recT79ohBnTB1fKsX']\", \"cutoff2\": 15.0, \"cutoff\": 2}, {\"calitp_itp_id\": 310, \"trip_key\": -4539065179735711766, \"trip_id\": \"1093\", \"shape_id\": \"10\", \"route_id\": \"7A\", \"service_hours\": 1.0, \"trip_first_departure_ts\": 60300, \"trip_last_arrival_ts\": 63900, \"departure_hour\": 16, \"time_of_day\": \"Midday\", \"p25\": 1.0, \"p50\": 1.0, \"p75\": 1.0, \"p50_trip\": 1, \"fastest_trip\": 0, \"car_duration_hours\": 0.77, \"competitive_route\": 1, \"bus_multiplier\": 1.3, \"bus_difference\": 13.8, \"num_trips\": 15, \"num_competitive\": 15, \"pct_trips_competitive\": 1.0, \"bus_difference_spread\": 0.0, \"route_group\": \"short\", \"max_trip_hrs\": 1.0, \"max_trip_route_group\": 1.0, \"name\": \"Solano County Transit\", \"caltrans_district\": \"04 - Oakland\", \"drmt_organization_name\": \"['recT79ohBnTB1fKsX']\", \"cutoff2\": 15.0, \"cutoff\": 2}]}}, {\"mode\": \"vega-lite\"});\n",
       "</script>"
      ],
      "text/plain": [
       "alt.FacetChart(...)"
      ]
     },
     "metadata": {},
     "output_type": "display_data"
    },
    {
     "data": {
      "text/html": [
       "\n",
       "<div id=\"altair-viz-22aae0c53a8b4d71aa0bcc4aad5f6af8\"></div>\n",
       "<script type=\"text/javascript\">\n",
       "  var VEGA_DEBUG = (typeof VEGA_DEBUG == \"undefined\") ? {} : VEGA_DEBUG;\n",
       "  (function(spec, embedOpt){\n",
       "    let outputDiv = document.currentScript.previousElementSibling;\n",
       "    if (outputDiv.id !== \"altair-viz-22aae0c53a8b4d71aa0bcc4aad5f6af8\") {\n",
       "      outputDiv = document.getElementById(\"altair-viz-22aae0c53a8b4d71aa0bcc4aad5f6af8\");\n",
       "    }\n",
       "    const paths = {\n",
       "      \"vega\": \"https://cdn.jsdelivr.net/npm//vega@5?noext\",\n",
       "      \"vega-lib\": \"https://cdn.jsdelivr.net/npm//vega-lib?noext\",\n",
       "      \"vega-lite\": \"https://cdn.jsdelivr.net/npm//vega-lite@4.17.0?noext\",\n",
       "      \"vega-embed\": \"https://cdn.jsdelivr.net/npm//vega-embed@6?noext\",\n",
       "    };\n",
       "\n",
       "    function maybeLoadScript(lib, version) {\n",
       "      var key = `${lib.replace(\"-\", \"\")}_version`;\n",
       "      return (VEGA_DEBUG[key] == version) ?\n",
       "        Promise.resolve(paths[lib]) :\n",
       "        new Promise(function(resolve, reject) {\n",
       "          var s = document.createElement('script');\n",
       "          document.getElementsByTagName(\"head\")[0].appendChild(s);\n",
       "          s.async = true;\n",
       "          s.onload = () => {\n",
       "            VEGA_DEBUG[key] = version;\n",
       "            return resolve(paths[lib]);\n",
       "          };\n",
       "          s.onerror = () => reject(`Error loading script: ${paths[lib]}`);\n",
       "          s.src = paths[lib];\n",
       "        });\n",
       "    }\n",
       "\n",
       "    function showError(err) {\n",
       "      outputDiv.innerHTML = `<div class=\"error\" style=\"color:red;\">${err}</div>`;\n",
       "      throw err;\n",
       "    }\n",
       "\n",
       "    function displayChart(vegaEmbed) {\n",
       "      vegaEmbed(outputDiv, spec, embedOpt)\n",
       "        .catch(err => showError(`Javascript Error: ${err.message}<br>This usually means there's a typo in your chart specification. See the javascript console for the full traceback.`));\n",
       "    }\n",
       "\n",
       "    if(typeof define === \"function\" && define.amd) {\n",
       "      requirejs.config({paths});\n",
       "      require([\"vega-embed\"], displayChart, err => showError(`Error loading script: ${err.message}`));\n",
       "    } else {\n",
       "      maybeLoadScript(\"vega\", \"5\")\n",
       "        .then(() => maybeLoadScript(\"vega-lite\", \"4.17.0\"))\n",
       "        .then(() => maybeLoadScript(\"vega-embed\", \"6\"))\n",
       "        .catch(showError)\n",
       "        .then(() => displayChart(vegaEmbed));\n",
       "    }\n",
       "  })({\"config\": {\"view\": {\"continuousWidth\": 400, \"continuousHeight\": 300, \"stroke\": null}, \"facet\": {\"spacing\": 0}}, \"data\": {\"name\": \"data-922a4b065804fc6fe69bbf5e6f455c68\"}, \"facet\": {\"column\": {\"field\": \"route_id\", \"sort\": [\"7A\", \"38\"], \"title\": \"Route ID\", \"type\": \"nominal\"}}, \"spec\": {\"layer\": [{\"mark\": {\"type\": \"point\", \"opacity\": 0.65, \"size\": 12, \"strokeWidth\": 1.1}, \"encoding\": {\"color\": {\"field\": \"time_of_day\", \"scale\": {\"range\": [\"#136C97\", \"#E16B26\", \"#F6BF16\", \"#00896B\", \"#7790A3\", \"#5B559C\"]}, \"sort\": [\"AM Peak\", \"Midday\", \"PM Peak\", \"Owl Service\"], \"title\": \"Time of Day\", \"type\": \"nominal\"}, \"tooltip\": [{\"field\": \"route_id\", \"type\": \"nominal\"}, {\"field\": \"trip_id\", \"type\": \"nominal\"}, {\"field\": \"service_hours\", \"type\": \"quantitative\"}, {\"field\": \"car_duration_hours\", \"type\": \"quantitative\"}, {\"field\": \"bus_multiplier\", \"type\": \"quantitative\"}, {\"field\": \"bus_difference\", \"type\": \"quantitative\"}, {\"field\": \"num_trips\", \"type\": \"quantitative\"}, {\"field\": \"num_competitive\", \"type\": \"quantitative\"}, {\"field\": \"pct_trips_competitive\", \"type\": \"quantitative\"}, {\"field\": \"p25\", \"type\": \"quantitative\"}, {\"field\": \"p50\", \"type\": \"quantitative\"}, {\"field\": \"p75\", \"type\": \"quantitative\"}], \"x\": {\"axis\": {\"grid\": false, \"labels\": false, \"ticks\": true, \"values\": [0]}, \"field\": \"jitter\", \"scale\": {}, \"title\": null, \"type\": \"quantitative\"}, \"y\": {\"field\": \"bus_difference\", \"scale\": {\"domain\": [-5, 20.0]}, \"title\": \"Difference in Bus to Car Travel Time (min)\", \"type\": \"quantitative\"}}, \"selection\": {\"selector002\": {\"type\": \"interval\", \"bind\": \"scales\", \"encodings\": [\"x\", \"y\"]}}, \"transform\": [{\"calculate\": \"sqrt(-2*log(random()))*cos(2*PI*random())\", \"as\": \"jitter\"}], \"width\": 60}, {\"layer\": [{\"mark\": {\"type\": \"point\", \"opacity\": 0.6, \"size\": 20, \"strokeWidth\": 1.3}, \"encoding\": {\"color\": {\"value\": \"#323434\"}, \"y\": {\"field\": \"bus_difference\", \"type\": \"quantitative\"}}, \"transform\": [{\"filter\": \"(datum.p50_trip === 1)\"}]}, {\"mark\": {\"type\": \"rule\", \"strokeDash\": [2, 3]}, \"encoding\": {\"color\": {\"value\": \"#323434\"}, \"y\": {\"field\": \"cutoff\", \"type\": \"quantitative\"}}}, {\"mark\": {\"type\": \"rule\", \"strokeDash\": [2, 3]}, \"encoding\": {\"color\": {\"value\": \"#136C97\"}, \"y\": {\"field\": \"cutoff2\", \"type\": \"quantitative\"}}}, {\"mark\": {\"type\": \"text\", \"align\": \"center\", \"baseline\": \"middle\"}, \"encoding\": {\"color\": {\"value\": \"black\"}, \"text\": {\"field\": \"pct_trips_competitive\", \"format\": \".0%\", \"type\": \"quantitative\"}, \"tooltip\": [{\"field\": \"route_id\", \"type\": \"nominal\"}, {\"field\": \"trip_id\", \"type\": \"nominal\"}, {\"field\": \"service_hours\", \"type\": \"quantitative\"}, {\"field\": \"car_duration_hours\", \"type\": \"quantitative\"}, {\"field\": \"bus_multiplier\", \"type\": \"quantitative\"}, {\"field\": \"bus_difference\", \"type\": \"quantitative\"}, {\"field\": \"num_trips\", \"type\": \"quantitative\"}, {\"field\": \"num_competitive\", \"type\": \"quantitative\"}, {\"field\": \"pct_trips_competitive\", \"type\": \"quantitative\"}, {\"field\": \"p25\", \"type\": \"quantitative\"}, {\"field\": \"p50\", \"type\": \"quantitative\"}, {\"field\": \"p75\", \"type\": \"quantitative\"}], \"x\": {\"value\": 30}, \"y\": {\"value\": 15}}, \"transform\": [{\"calculate\": \"sqrt(-2*log(random()))*cos(2*PI*random())\", \"as\": \"jitter\"}, {\"filter\": \"(datum.fastest_trip === 1)\"}]}]}]}, \"resolve\": {\"scale\": {\"y\": \"shared\"}}, \"title\": \"Difference in Bus to Car Travel Time (min)\", \"$schema\": \"https://vega.github.io/schema/vega-lite/v4.17.0.json\", \"datasets\": {\"data-922a4b065804fc6fe69bbf5e6f455c68\": [{\"calitp_itp_id\": 310, \"trip_key\": -5574743277464453139, \"trip_id\": \"919\", \"shape_id\": \"22\", \"route_id\": \"38\", \"service_hours\": 0.47, \"trip_first_departure_ts\": 27120, \"trip_last_arrival_ts\": 28800, \"departure_hour\": 7, \"time_of_day\": \"AM Peak\", \"p25\": 0.485, \"p50\": 0.5, \"p75\": 0.515, \"p50_trip\": 1, \"fastest_trip\": 1, \"car_duration_hours\": 0.31, \"competitive_route\": 1, \"bus_multiplier\": 1.52, \"bus_difference\": 9.6, \"num_trips\": 2, \"num_competitive\": 2, \"pct_trips_competitive\": 1.0, \"bus_difference_spread\": 3.6, \"route_group\": \"short\", \"max_trip_hrs\": 0.53, \"max_trip_route_group\": 1.0, \"name\": \"Solano County Transit\", \"caltrans_district\": \"04 - Oakland\", \"drmt_organization_name\": \"['recT79ohBnTB1fKsX']\", \"cutoff2\": 15.0, \"cutoff\": 0}, {\"calitp_itp_id\": 310, \"trip_key\": -3715552762660780122, \"trip_id\": \"920\", \"shape_id\": \"24\", \"route_id\": \"38\", \"service_hours\": 0.53, \"trip_first_departure_ts\": 24960, \"trip_last_arrival_ts\": 26880, \"departure_hour\": 6, \"time_of_day\": \"Owl Service\", \"p25\": 0.485, \"p50\": 0.5, \"p75\": 0.515, \"p50_trip\": 1, \"fastest_trip\": 0, \"car_duration_hours\": 0.31, \"competitive_route\": 1, \"bus_multiplier\": 1.71, \"bus_difference\": 13.2, \"num_trips\": 2, \"num_competitive\": 2, \"pct_trips_competitive\": 1.0, \"bus_difference_spread\": 3.6, \"route_group\": \"short\", \"max_trip_hrs\": 0.53, \"max_trip_route_group\": 1.0, \"name\": \"Solano County Transit\", \"caltrans_district\": \"04 - Oakland\", \"drmt_organization_name\": \"['recT79ohBnTB1fKsX']\", \"cutoff2\": 15.0, \"cutoff\": 0}, {\"calitp_itp_id\": 310, \"trip_key\": -2242253959501436434, \"trip_id\": \"1078\", \"shape_id\": \"10\", \"route_id\": \"7A\", \"service_hours\": 1.0, \"trip_first_departure_ts\": 42300, \"trip_last_arrival_ts\": 45900, \"departure_hour\": 11, \"time_of_day\": \"Midday\", \"p25\": 1.0, \"p50\": 1.0, \"p75\": 1.0, \"p50_trip\": 1, \"fastest_trip\": 0, \"car_duration_hours\": 0.77, \"competitive_route\": 1, \"bus_multiplier\": 1.3, \"bus_difference\": 13.8, \"num_trips\": 15, \"num_competitive\": 15, \"pct_trips_competitive\": 1.0, \"bus_difference_spread\": 0.0, \"route_group\": \"short\", \"max_trip_hrs\": 1.0, \"max_trip_route_group\": 1.0, \"name\": \"Solano County Transit\", \"caltrans_district\": \"04 - Oakland\", \"drmt_organization_name\": \"['recT79ohBnTB1fKsX']\", \"cutoff2\": 15.0, \"cutoff\": 0}, {\"calitp_itp_id\": 310, \"trip_key\": 1553366806666314761, \"trip_id\": \"1097\", \"shape_id\": \"10\", \"route_id\": \"7A\", \"service_hours\": 1.0, \"trip_first_departure_ts\": 67500, \"trip_last_arrival_ts\": 71100, \"departure_hour\": 18, \"time_of_day\": \"PM Peak\", \"p25\": 1.0, \"p50\": 1.0, \"p75\": 1.0, \"p50_trip\": 1, \"fastest_trip\": 0, \"car_duration_hours\": 0.77, \"competitive_route\": 1, \"bus_multiplier\": 1.3, \"bus_difference\": 13.8, \"num_trips\": 15, \"num_competitive\": 15, \"pct_trips_competitive\": 1.0, \"bus_difference_spread\": 0.0, \"route_group\": \"short\", \"max_trip_hrs\": 1.0, \"max_trip_route_group\": 1.0, \"name\": \"Solano County Transit\", \"caltrans_district\": \"04 - Oakland\", \"drmt_organization_name\": \"['recT79ohBnTB1fKsX']\", \"cutoff2\": 15.0, \"cutoff\": 0}, {\"calitp_itp_id\": 310, \"trip_key\": 5736745841295953016, \"trip_id\": \"1099\", \"shape_id\": \"10\", \"route_id\": \"7A\", \"service_hours\": 1.0, \"trip_first_departure_ts\": 74700, \"trip_last_arrival_ts\": 78300, \"departure_hour\": 20, \"time_of_day\": \"Owl Service\", \"p25\": 1.0, \"p50\": 1.0, \"p75\": 1.0, \"p50_trip\": 1, \"fastest_trip\": 1, \"car_duration_hours\": 0.77, \"competitive_route\": 1, \"bus_multiplier\": 1.3, \"bus_difference\": 13.8, \"num_trips\": 15, \"num_competitive\": 15, \"pct_trips_competitive\": 1.0, \"bus_difference_spread\": 0.0, \"route_group\": \"short\", \"max_trip_hrs\": 1.0, \"max_trip_route_group\": 1.0, \"name\": \"Solano County Transit\", \"caltrans_district\": \"04 - Oakland\", \"drmt_organization_name\": \"['recT79ohBnTB1fKsX']\", \"cutoff2\": 15.0, \"cutoff\": 0}, {\"calitp_itp_id\": 310, \"trip_key\": 7541199008754798528, \"trip_id\": \"1065\", \"shape_id\": \"10\", \"route_id\": \"7A\", \"service_hours\": 1.0, \"trip_first_departure_ts\": 24300, \"trip_last_arrival_ts\": 27900, \"departure_hour\": 6, \"time_of_day\": \"Owl Service\", \"p25\": 1.0, \"p50\": 1.0, \"p75\": 1.0, \"p50_trip\": 1, \"fastest_trip\": 0, \"car_duration_hours\": 0.77, \"competitive_route\": 1, \"bus_multiplier\": 1.3, \"bus_difference\": 13.8, \"num_trips\": 15, \"num_competitive\": 15, \"pct_trips_competitive\": 1.0, \"bus_difference_spread\": 0.0, \"route_group\": \"short\", \"max_trip_hrs\": 1.0, \"max_trip_route_group\": 1.0, \"name\": \"Solano County Transit\", \"caltrans_district\": \"04 - Oakland\", \"drmt_organization_name\": \"['recT79ohBnTB1fKsX']\", \"cutoff2\": 15.0, \"cutoff\": 0}, {\"calitp_itp_id\": 310, \"trip_key\": -2774837895713846595, \"trip_id\": \"1081\", \"shape_id\": \"10\", \"route_id\": \"7A\", \"service_hours\": 1.0, \"trip_first_departure_ts\": 45900, \"trip_last_arrival_ts\": 49500, \"departure_hour\": 12, \"time_of_day\": \"Midday\", \"p25\": 1.0, \"p50\": 1.0, \"p75\": 1.0, \"p50_trip\": 1, \"fastest_trip\": 0, \"car_duration_hours\": 0.77, \"competitive_route\": 1, \"bus_multiplier\": 1.3, \"bus_difference\": 13.8, \"num_trips\": 15, \"num_competitive\": 15, \"pct_trips_competitive\": 1.0, \"bus_difference_spread\": 0.0, \"route_group\": \"short\", \"max_trip_hrs\": 1.0, \"max_trip_route_group\": 1.0, \"name\": \"Solano County Transit\", \"caltrans_district\": \"04 - Oakland\", \"drmt_organization_name\": \"['recT79ohBnTB1fKsX']\", \"cutoff2\": 15.0, \"cutoff\": 0}, {\"calitp_itp_id\": 310, \"trip_key\": -7128689078602650873, \"trip_id\": \"1066\", \"shape_id\": \"10\", \"route_id\": \"7A\", \"service_hours\": 1.0, \"trip_first_departure_ts\": 27900, \"trip_last_arrival_ts\": 31500, \"departure_hour\": 7, \"time_of_day\": \"AM Peak\", \"p25\": 1.0, \"p50\": 1.0, \"p75\": 1.0, \"p50_trip\": 1, \"fastest_trip\": 0, \"car_duration_hours\": 0.77, \"competitive_route\": 1, \"bus_multiplier\": 1.3, \"bus_difference\": 13.8, \"num_trips\": 15, \"num_competitive\": 15, \"pct_trips_competitive\": 1.0, \"bus_difference_spread\": 0.0, \"route_group\": \"short\", \"max_trip_hrs\": 1.0, \"max_trip_route_group\": 1.0, \"name\": \"Solano County Transit\", \"caltrans_district\": \"04 - Oakland\", \"drmt_organization_name\": \"['recT79ohBnTB1fKsX']\", \"cutoff2\": 15.0, \"cutoff\": 0}, {\"calitp_itp_id\": 310, \"trip_key\": -3801396718114747764, \"trip_id\": \"1075\", \"shape_id\": \"10\", \"route_id\": \"7A\", \"service_hours\": 1.0, \"trip_first_departure_ts\": 38700, \"trip_last_arrival_ts\": 42300, \"departure_hour\": 10, \"time_of_day\": \"Midday\", \"p25\": 1.0, \"p50\": 1.0, \"p75\": 1.0, \"p50_trip\": 1, \"fastest_trip\": 0, \"car_duration_hours\": 0.77, \"competitive_route\": 1, \"bus_multiplier\": 1.3, \"bus_difference\": 13.8, \"num_trips\": 15, \"num_competitive\": 15, \"pct_trips_competitive\": 1.0, \"bus_difference_spread\": 0.0, \"route_group\": \"short\", \"max_trip_hrs\": 1.0, \"max_trip_route_group\": 1.0, \"name\": \"Solano County Transit\", \"caltrans_district\": \"04 - Oakland\", \"drmt_organization_name\": \"['recT79ohBnTB1fKsX']\", \"cutoff2\": 15.0, \"cutoff\": 0}, {\"calitp_itp_id\": 310, \"trip_key\": 3555369193555928407, \"trip_id\": \"1098\", \"shape_id\": \"10\", \"route_id\": \"7A\", \"service_hours\": 1.0, \"trip_first_departure_ts\": 71100, \"trip_last_arrival_ts\": 74700, \"departure_hour\": 19, \"time_of_day\": \"PM Peak\", \"p25\": 1.0, \"p50\": 1.0, \"p75\": 1.0, \"p50_trip\": 1, \"fastest_trip\": 0, \"car_duration_hours\": 0.77, \"competitive_route\": 1, \"bus_multiplier\": 1.3, \"bus_difference\": 13.8, \"num_trips\": 15, \"num_competitive\": 15, \"pct_trips_competitive\": 1.0, \"bus_difference_spread\": 0.0, \"route_group\": \"short\", \"max_trip_hrs\": 1.0, \"max_trip_route_group\": 1.0, \"name\": \"Solano County Transit\", \"caltrans_district\": \"04 - Oakland\", \"drmt_organization_name\": \"['recT79ohBnTB1fKsX']\", \"cutoff2\": 15.0, \"cutoff\": 0}, {\"calitp_itp_id\": 310, \"trip_key\": -7612102933413698873, \"trip_id\": \"1084\", \"shape_id\": \"10\", \"route_id\": \"7A\", \"service_hours\": 1.0, \"trip_first_departure_ts\": 49500, \"trip_last_arrival_ts\": 53100, \"departure_hour\": 13, \"time_of_day\": \"Midday\", \"p25\": 1.0, \"p50\": 1.0, \"p75\": 1.0, \"p50_trip\": 1, \"fastest_trip\": 0, \"car_duration_hours\": 0.77, \"competitive_route\": 1, \"bus_multiplier\": 1.3, \"bus_difference\": 13.8, \"num_trips\": 15, \"num_competitive\": 15, \"pct_trips_competitive\": 1.0, \"bus_difference_spread\": 0.0, \"route_group\": \"short\", \"max_trip_hrs\": 1.0, \"max_trip_route_group\": 1.0, \"name\": \"Solano County Transit\", \"caltrans_district\": \"04 - Oakland\", \"drmt_organization_name\": \"['recT79ohBnTB1fKsX']\", \"cutoff2\": 15.0, \"cutoff\": 0}, {\"calitp_itp_id\": 310, \"trip_key\": 9090745400368182860, \"trip_id\": \"1069\", \"shape_id\": \"10\", \"route_id\": \"7A\", \"service_hours\": 1.0, \"trip_first_departure_ts\": 31500, \"trip_last_arrival_ts\": 35100, \"departure_hour\": 8, \"time_of_day\": \"AM Peak\", \"p25\": 1.0, \"p50\": 1.0, \"p75\": 1.0, \"p50_trip\": 1, \"fastest_trip\": 0, \"car_duration_hours\": 0.77, \"competitive_route\": 1, \"bus_multiplier\": 1.3, \"bus_difference\": 13.8, \"num_trips\": 15, \"num_competitive\": 15, \"pct_trips_competitive\": 1.0, \"bus_difference_spread\": 0.0, \"route_group\": \"short\", \"max_trip_hrs\": 1.0, \"max_trip_route_group\": 1.0, \"name\": \"Solano County Transit\", \"caltrans_district\": \"04 - Oakland\", \"drmt_organization_name\": \"['recT79ohBnTB1fKsX']\", \"cutoff2\": 15.0, \"cutoff\": 0}, {\"calitp_itp_id\": 310, \"trip_key\": -6662624582280621192, \"trip_id\": \"1087\", \"shape_id\": \"10\", \"route_id\": \"7A\", \"service_hours\": 1.0, \"trip_first_departure_ts\": 53100, \"trip_last_arrival_ts\": 56700, \"departure_hour\": 14, \"time_of_day\": \"Midday\", \"p25\": 1.0, \"p50\": 1.0, \"p75\": 1.0, \"p50_trip\": 1, \"fastest_trip\": 0, \"car_duration_hours\": 0.77, \"competitive_route\": 1, \"bus_multiplier\": 1.3, \"bus_difference\": 13.8, \"num_trips\": 15, \"num_competitive\": 15, \"pct_trips_competitive\": 1.0, \"bus_difference_spread\": 0.0, \"route_group\": \"short\", \"max_trip_hrs\": 1.0, \"max_trip_route_group\": 1.0, \"name\": \"Solano County Transit\", \"caltrans_district\": \"04 - Oakland\", \"drmt_organization_name\": \"['recT79ohBnTB1fKsX']\", \"cutoff2\": 15.0, \"cutoff\": 0}, {\"calitp_itp_id\": 310, \"trip_key\": -6607227710157058801, \"trip_id\": \"1096\", \"shape_id\": \"10\", \"route_id\": \"7A\", \"service_hours\": 1.0, \"trip_first_departure_ts\": 63900, \"trip_last_arrival_ts\": 67500, \"departure_hour\": 17, \"time_of_day\": \"PM Peak\", \"p25\": 1.0, \"p50\": 1.0, \"p75\": 1.0, \"p50_trip\": 1, \"fastest_trip\": 0, \"car_duration_hours\": 0.77, \"competitive_route\": 1, \"bus_multiplier\": 1.3, \"bus_difference\": 13.8, \"num_trips\": 15, \"num_competitive\": 15, \"pct_trips_competitive\": 1.0, \"bus_difference_spread\": 0.0, \"route_group\": \"short\", \"max_trip_hrs\": 1.0, \"max_trip_route_group\": 1.0, \"name\": \"Solano County Transit\", \"caltrans_district\": \"04 - Oakland\", \"drmt_organization_name\": \"['recT79ohBnTB1fKsX']\", \"cutoff2\": 15.0, \"cutoff\": 0}, {\"calitp_itp_id\": 310, \"trip_key\": 75175244298657360, \"trip_id\": \"1090\", \"shape_id\": \"10\", \"route_id\": \"7A\", \"service_hours\": 1.0, \"trip_first_departure_ts\": 56700, \"trip_last_arrival_ts\": 60300, \"departure_hour\": 15, \"time_of_day\": \"Midday\", \"p25\": 1.0, \"p50\": 1.0, \"p75\": 1.0, \"p50_trip\": 1, \"fastest_trip\": 0, \"car_duration_hours\": 0.77, \"competitive_route\": 1, \"bus_multiplier\": 1.3, \"bus_difference\": 13.8, \"num_trips\": 15, \"num_competitive\": 15, \"pct_trips_competitive\": 1.0, \"bus_difference_spread\": 0.0, \"route_group\": \"short\", \"max_trip_hrs\": 1.0, \"max_trip_route_group\": 1.0, \"name\": \"Solano County Transit\", \"caltrans_district\": \"04 - Oakland\", \"drmt_organization_name\": \"['recT79ohBnTB1fKsX']\", \"cutoff2\": 15.0, \"cutoff\": 0}, {\"calitp_itp_id\": 310, \"trip_key\": 8811729153955021229, \"trip_id\": \"1072\", \"shape_id\": \"10\", \"route_id\": \"7A\", \"service_hours\": 1.0, \"trip_first_departure_ts\": 35100, \"trip_last_arrival_ts\": 38700, \"departure_hour\": 9, \"time_of_day\": \"AM Peak\", \"p25\": 1.0, \"p50\": 1.0, \"p75\": 1.0, \"p50_trip\": 1, \"fastest_trip\": 0, \"car_duration_hours\": 0.77, \"competitive_route\": 1, \"bus_multiplier\": 1.3, \"bus_difference\": 13.8, \"num_trips\": 15, \"num_competitive\": 15, \"pct_trips_competitive\": 1.0, \"bus_difference_spread\": 0.0, \"route_group\": \"short\", \"max_trip_hrs\": 1.0, \"max_trip_route_group\": 1.0, \"name\": \"Solano County Transit\", \"caltrans_district\": \"04 - Oakland\", \"drmt_organization_name\": \"['recT79ohBnTB1fKsX']\", \"cutoff2\": 15.0, \"cutoff\": 0}, {\"calitp_itp_id\": 310, \"trip_key\": -4539065179735711766, \"trip_id\": \"1093\", \"shape_id\": \"10\", \"route_id\": \"7A\", \"service_hours\": 1.0, \"trip_first_departure_ts\": 60300, \"trip_last_arrival_ts\": 63900, \"departure_hour\": 16, \"time_of_day\": \"Midday\", \"p25\": 1.0, \"p50\": 1.0, \"p75\": 1.0, \"p50_trip\": 1, \"fastest_trip\": 0, \"car_duration_hours\": 0.77, \"competitive_route\": 1, \"bus_multiplier\": 1.3, \"bus_difference\": 13.8, \"num_trips\": 15, \"num_competitive\": 15, \"pct_trips_competitive\": 1.0, \"bus_difference_spread\": 0.0, \"route_group\": \"short\", \"max_trip_hrs\": 1.0, \"max_trip_route_group\": 1.0, \"name\": \"Solano County Transit\", \"caltrans_district\": \"04 - Oakland\", \"drmt_organization_name\": \"['recT79ohBnTB1fKsX']\", \"cutoff2\": 15.0, \"cutoff\": 0}]}}, {\"mode\": \"vega-lite\"});\n",
       "</script>"
      ],
      "text/plain": [
       "alt.FacetChart(...)"
      ]
     },
     "metadata": {},
     "output_type": "display_data"
    },
    {
     "name": "stdout",
     "output_type": "stream",
     "text": [
      "No routes in the medium route_group\n",
      "No routes in the long route_group\n"
     ]
    }
   ],
   "source": [
    "generate_report(df, PCT_COMPETITIVE_THRESHOLD)"
   ]
  },
  {
   "cell_type": "code",
   "execution_count": null,
   "id": "7a648b1b-7668-42d1-916e-8e763cd92d02",
   "metadata": {
    "jupyter": {
     "source_hidden": true
    },
    "papermill": {
     "duration": 0.035521,
     "end_time": "2022-05-06T16:26:22.888287",
     "exception": false,
     "start_time": "2022-05-06T16:26:22.852766",
     "status": "completed"
    },
    "tags": [
     "remove_input"
    ]
   },
   "outputs": [],
   "source": []
  }
 ],
 "metadata": {
  "kernelspec": {
   "display_name": "Python 3 (ipykernel)",
   "language": "python",
   "name": "python3"
  },
  "language_info": {
   "codemirror_mode": {
    "name": "ipython",
    "version": 3
   },
   "file_extension": ".py",
   "mimetype": "text/x-python",
   "name": "python",
   "nbconvert_exporter": "python",
   "pygments_lexer": "ipython3",
   "version": "3.9.12"
  },
  "papermill": {
   "default_parameters": {},
   "duration": 31.694613,
   "end_time": "2022-05-06T16:26:24.464029",
   "environment_variables": {},
   "exception": null,
   "input_path": "bus_service_increase/stripplot.ipynb",
   "output_path": "portfolio/parallel_corridors/district_4/stripplot__itp_id_310.ipynb",
   "parameters": {
    "district": 4,
    "itp_id": 310
   },
   "start_time": "2022-05-06T16:25:52.769416",
   "version": "2.3.4"
  }
 },
 "nbformat": 4,
 "nbformat_minor": 5
}