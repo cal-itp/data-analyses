{
 "cells": [
  {
   "cell_type": "code",
   "execution_count": 1,
   "id": "95d00857-6a20-4529-a519-2cc7182928a9",
   "metadata": {
    "execution": {
     "iopub.execute_input": "2022-04-27T23:14:05.401373Z",
     "iopub.status.busy": "2022-04-27T23:14:05.400957Z",
     "iopub.status.idle": "2022-04-27T23:14:18.772207Z",
     "shell.execute_reply": "2022-04-27T23:14:18.771154Z"
    },
    "jupyter": {
     "source_hidden": true
    },
    "papermill": {
     "duration": 13.393901,
     "end_time": "2022-04-27T23:14:18.779161",
     "exception": false,
     "start_time": "2022-04-27T23:14:05.385260",
     "status": "completed"
    },
    "tags": [
     "remove_input"
    ]
   },
   "outputs": [],
   "source": [
    "%%capture\n",
    "import warnings\n",
    "warnings.filterwarnings('ignore')\n",
    "\n",
    "import altair as alt\n",
    "import calitp.magics\n",
    "import geopandas as gpd\n",
    "import intake\n",
    "import pandas as pd\n",
    "\n",
    "from IPython.display import display, Markdown, HTML\n",
    "\n",
    "import parallel_corridors_utils\n",
    "from shared_utils import styleguide\n",
    "\n",
    "catalog = intake.open_catalog(\"./*.yml\")\n",
    "alt.renderers.enable(\"html\")"
   ]
  },
  {
   "cell_type": "code",
   "execution_count": 2,
   "id": "8af2a0c1-f3da-408d-9bea-11d9fbf8695d",
   "metadata": {
    "execution": {
     "iopub.execute_input": "2022-04-27T23:14:18.823086Z",
     "iopub.status.busy": "2022-04-27T23:14:18.822660Z",
     "iopub.status.idle": "2022-04-27T23:14:18.828535Z",
     "shell.execute_reply": "2022-04-27T23:14:18.826526Z"
    },
    "jupyter": {
     "source_hidden": true
    },
    "papermill": {
     "duration": 0.041606,
     "end_time": "2022-04-27T23:14:18.838114",
     "exception": false,
     "start_time": "2022-04-27T23:14:18.796508",
     "status": "completed"
    },
    "tags": [
     "parameters",
     "remove_input"
    ]
   },
   "outputs": [],
   "source": [
    "# parameters cell\n",
    "itp_id = 182"
   ]
  },
  {
   "cell_type": "code",
   "execution_count": 3,
   "id": "70115cab",
   "metadata": {
    "execution": {
     "iopub.execute_input": "2022-04-27T23:14:18.875659Z",
     "iopub.status.busy": "2022-04-27T23:14:18.875284Z",
     "iopub.status.idle": "2022-04-27T23:14:18.879878Z",
     "shell.execute_reply": "2022-04-27T23:14:18.879097Z"
    },
    "jupyter": {
     "source_hidden": true
    },
    "papermill": {
     "duration": 0.027047,
     "end_time": "2022-04-27T23:14:18.884592",
     "exception": false,
     "start_time": "2022-04-27T23:14:18.857545",
     "status": "completed"
    },
    "tags": [
     "injected-parameters",
     "remove_input"
    ]
   },
   "outputs": [],
   "source": [
    "# Parameters\n",
    "district = 4\n",
    "itp_id = 310\n"
   ]
  },
  {
   "cell_type": "code",
   "execution_count": 4,
   "id": "33ac4b06-f647-4dce-a625-8f2c1b37cc60",
   "metadata": {
    "execution": {
     "iopub.execute_input": "2022-04-27T23:14:18.921738Z",
     "iopub.status.busy": "2022-04-27T23:14:18.921338Z",
     "iopub.status.idle": "2022-04-27T23:14:18.934591Z",
     "shell.execute_reply": "2022-04-27T23:14:18.933702Z"
    },
    "jupyter": {
     "source_hidden": true
    },
    "papermill": {
     "duration": 0.035169,
     "end_time": "2022-04-27T23:14:18.937478",
     "exception": false,
     "start_time": "2022-04-27T23:14:18.902309",
     "status": "completed"
    },
    "tags": [
     "remove_input"
    ]
   },
   "outputs": [],
   "source": [
    "%%capture_parameters\n",
    "itp_id"
   ]
  },
  {
   "cell_type": "markdown",
   "id": "21321fce-c5a6-4b60-b935-2f0d656e03ee",
   "metadata": {
    "papermill": {
     "duration": 0.017605,
     "end_time": "2022-04-27T23:14:18.974324",
     "exception": false,
     "start_time": "2022-04-27T23:14:18.956719",
     "status": "completed"
    },
    "tags": []
   },
   "source": [
    "# Markdown title 310"
   ]
  },
  {
   "cell_type": "code",
   "execution_count": 5,
   "id": "a08c408b-8664-4ab7-9750-9e07a245ecdd",
   "metadata": {
    "execution": {
     "iopub.execute_input": "2022-04-27T23:14:19.010652Z",
     "iopub.status.busy": "2022-04-27T23:14:19.010215Z",
     "iopub.status.idle": "2022-04-27T23:14:19.022032Z",
     "shell.execute_reply": "2022-04-27T23:14:19.020983Z"
    },
    "jupyter": {
     "source_hidden": true
    },
    "papermill": {
     "duration": 0.034588,
     "end_time": "2022-04-27T23:14:19.025716",
     "exception": false,
     "start_time": "2022-04-27T23:14:18.991128",
     "status": "completed"
    },
    "tags": [
     "remove_input"
    ]
   },
   "outputs": [
    {
     "data": {
      "text/html": [
       "<h1>HTML title 310</h1>"
      ],
      "text/plain": [
       "<IPython.core.display.HTML object>"
      ]
     },
     "metadata": {},
     "output_type": "display_data"
    }
   ],
   "source": [
    "display(HTML(f\"<h1>HTML title {itp_id}</h1>\"))"
   ]
  },
  {
   "cell_type": "code",
   "execution_count": 6,
   "id": "9582aaf4-79ff-412a-b248-8d8d693ebd4f",
   "metadata": {
    "execution": {
     "iopub.execute_input": "2022-04-27T23:14:19.063989Z",
     "iopub.status.busy": "2022-04-27T23:14:19.063481Z",
     "iopub.status.idle": "2022-04-27T23:14:21.268602Z",
     "shell.execute_reply": "2022-04-27T23:14:21.267633Z"
    },
    "jupyter": {
     "source_hidden": true
    },
    "papermill": {
     "duration": 2.228026,
     "end_time": "2022-04-27T23:14:21.272396",
     "exception": false,
     "start_time": "2022-04-27T23:14:19.044370",
     "status": "completed"
    },
    "tags": [
     "remove_input"
    ]
   },
   "outputs": [],
   "source": [
    "df = catalog.competitive_route_variability.read()\n",
    "\n",
    "df = (df[(df.calitp_itp_id == itp_id) & \n",
    "         (df.route_group.notna())]\n",
    "      .reset_index(drop=True)\n",
    "     )\n",
    "\n",
    "\n",
    "if itp_id == 182:\n",
    "    df = df.assign(\n",
    "        route_id = df.route_id.str.replace('-13153', '').astype(int)\n",
    "    )"
   ]
  },
  {
   "cell_type": "code",
   "execution_count": 7,
   "id": "2cb4d8d5-4760-40e4-85b1-cb833d8bb648",
   "metadata": {
    "execution": {
     "iopub.execute_input": "2022-04-27T23:14:21.316959Z",
     "iopub.status.busy": "2022-04-27T23:14:21.316493Z",
     "iopub.status.idle": "2022-04-27T23:14:35.577869Z",
     "shell.execute_reply": "2022-04-27T23:14:35.576858Z"
    },
    "jupyter": {
     "source_hidden": true
    },
    "papermill": {
     "duration": 14.285925,
     "end_time": "2022-04-27T23:14:35.580680",
     "exception": false,
     "start_time": "2022-04-27T23:14:21.294755",
     "status": "completed"
    },
    "tags": [
     "remove_input"
    ]
   },
   "outputs": [],
   "source": [
    "# Grab parameters for narrative text - clean up formatting here\n",
    "\n",
    "# Set up df for charting (cut-off at some threshold to show most competitive routes)\n",
    "PCT_COMPETITIVE_THRESHOLD = 0.75\n",
    "plot_me = (df[df.pct_trips_competitive > PCT_COMPETITIVE_THRESHOLD]\n",
    "           .drop(columns = \"geometry\")\n",
    "          )\n",
    "    \n",
    "operator_name = df.name.iloc[0]\n",
    "district = df.caltrans_district.iloc[0]\n",
    "formatted_date = pd.to_datetime(parallel_corridors_utils.SELECTED_DATE).strftime('%m-%d-%Y')\n",
    "\n",
    "\n",
    "stats = parallel_corridors_utils.operator_parallel_competitive_stats(\n",
    "    itp_id, PCT_COMPETITIVE_THRESHOLD)\n",
    "\n",
    "pct_parallel = round(stats['parallel_routes'] / stats['num_routes'] * 100,1 )\n",
    "pct_competitive =  round(stats['competitive_routes'] / stats['num_routes'] * 100,1 )"
   ]
  },
  {
   "cell_type": "code",
   "execution_count": 8,
   "id": "0416509d-dc62-4165-b62e-64f8b26e8b8e",
   "metadata": {
    "execution": {
     "iopub.execute_input": "2022-04-27T23:14:35.602549Z",
     "iopub.status.busy": "2022-04-27T23:14:35.602278Z",
     "iopub.status.idle": "2022-04-27T23:14:35.611514Z",
     "shell.execute_reply": "2022-04-27T23:14:35.610768Z"
    },
    "jupyter": {
     "source_hidden": true
    },
    "papermill": {
     "duration": 0.022665,
     "end_time": "2022-04-27T23:14:35.613331",
     "exception": false,
     "start_time": "2022-04-27T23:14:35.590666",
     "status": "completed"
    },
    "tags": [
     "remove_input"
    ]
   },
   "outputs": [
    {
     "data": {
      "text/markdown": [
       "**Bus routes in service**: 15 <br>**Parallel routes** to State Highway Network (SHN): 14 routes (93.3%)<br>**Competitive routes** against car travel: 2 routes (13.3%)<br>Notes: <br>*Parallel routes* are routes where at least 30% of the route falls  within 1 mile of the SHN and cover at least 10% of the highway's length.<br><br>*Competitive routes* are routes where at least 75% of the trips on that route take no more than 2x the car would. The fastest trip for the bus route is selected to estimate against the car traveling along the same path at the same departure hour on the same day. A ratio of bus travel time to car travel time is taken for all other trips using that car travel time, and a percentage of all trips that fall within the no-more-than-twice-the-car-travel threshold is calculated for the route."
      ],
      "text/plain": [
       "<IPython.core.display.Markdown object>"
      ]
     },
     "metadata": {},
     "output_type": "display_data"
    }
   ],
   "source": [
    "display(\n",
    "    Markdown(\n",
    "        f\"**Bus routes in service**: {stats['num_routes']} \"\n",
    "        \"<br>**Parallel routes** to State Highway Network (SHN): \"\n",
    "        f\"{stats['parallel_routes']} routes ({pct_parallel}%)\"\n",
    "        f\"<br>**Competitive routes** against car travel: {stats['competitive_routes']} routes ({pct_competitive}%)\"\n",
    "        \"<br>\"\n",
    "        \"Notes: <br>*Parallel routes* are routes where at least 30% of the route falls \"\n",
    "        \" within 1 mile of the SHN \"\n",
    "        \"and cover at least 10% of the highway's length.\"\n",
    "        \"<br>\"\n",
    "        \"<br>*Competitive routes* are routes where at least \"\n",
    "        f\"{int(PCT_COMPETITIVE_THRESHOLD*100)}% of the trips on that route take \"\n",
    "        \"no more than 2x the car would. The fastest trip for the bus route is \"\n",
    "        \"selected to estimate against the car traveling along the same path \"\n",
    "        \"at the same departure hour on the same day. A ratio of bus travel time \"\n",
    "        \"to car travel time is taken for all other trips using that car travel time, \"\n",
    "        \"and a percentage of all trips that fall within the no-more-than-twice-the-car-travel threshold is calculated for the route.\"\n",
    "    )\n",
    ")"
   ]
  },
  {
   "cell_type": "code",
   "execution_count": 9,
   "id": "d4614f54-e492-4852-a7dc-b2e8d66785da",
   "metadata": {
    "execution": {
     "iopub.execute_input": "2022-04-27T23:14:35.636592Z",
     "iopub.status.busy": "2022-04-27T23:14:35.636304Z",
     "iopub.status.idle": "2022-04-27T23:14:35.646809Z",
     "shell.execute_reply": "2022-04-27T23:14:35.645234Z"
    },
    "jupyter": {
     "source_hidden": true
    },
    "papermill": {
     "duration": 0.02435,
     "end_time": "2022-04-27T23:14:35.649026",
     "exception": false,
     "start_time": "2022-04-27T23:14:35.624676",
     "status": "completed"
    },
    "tags": [
     "remove_input"
    ]
   },
   "outputs": [],
   "source": [
    "y_col1 = \"bus_multiplier\"\n",
    "Y_MIN1, Y_MAX1 = parallel_corridors_utils.set_yaxis_range(plot_me, y_col1)\n",
    "\n",
    "y_col2 = \"bus_difference\"\n",
    "Y_MIN2, Y_MAX2 = parallel_corridors_utils.set_yaxis_range(plot_me, y_col2)"
   ]
  },
  {
   "cell_type": "code",
   "execution_count": 10,
   "id": "9534b3bb-29eb-4f3f-b5d7-92c7e864002e",
   "metadata": {
    "execution": {
     "iopub.execute_input": "2022-04-27T23:14:35.673214Z",
     "iopub.status.busy": "2022-04-27T23:14:35.672868Z",
     "iopub.status.idle": "2022-04-27T23:14:35.677849Z",
     "shell.execute_reply": "2022-04-27T23:14:35.677006Z"
    },
    "jupyter": {
     "source_hidden": true
    },
    "papermill": {
     "duration": 0.018918,
     "end_time": "2022-04-27T23:14:35.679998",
     "exception": false,
     "start_time": "2022-04-27T23:14:35.661080",
     "status": "completed"
    },
    "tags": [
     "remove_input"
    ]
   },
   "outputs": [],
   "source": [
    "def combine_stripplots(df):\n",
    "    multiplier_chart = parallel_corridors_utils.make_stripplot(\n",
    "        df, y_col1, Y_MIN = Y_MIN1, Y_MAX = Y_MAX1\n",
    "    )\n",
    "    \n",
    "    difference_chart = parallel_corridors_utils.make_stripplot(\n",
    "        df, y_col2, Y_MIN = Y_MIN2, Y_MAX = Y_MAX2\n",
    "    )\n",
    "    \n",
    "    return multiplier_chart, difference_chart"
   ]
  },
  {
   "cell_type": "code",
   "execution_count": 11,
   "id": "97a60d10-9361-4125-b6b5-da6d420cec9b",
   "metadata": {
    "execution": {
     "iopub.execute_input": "2022-04-27T23:14:35.702267Z",
     "iopub.status.busy": "2022-04-27T23:14:35.701491Z",
     "iopub.status.idle": "2022-04-27T23:14:35.793363Z",
     "shell.execute_reply": "2022-04-27T23:14:35.792395Z"
    },
    "jupyter": {
     "source_hidden": true
    },
    "papermill": {
     "duration": 0.105572,
     "end_time": "2022-04-27T23:14:35.795605",
     "exception": false,
     "start_time": "2022-04-27T23:14:35.690033",
     "status": "completed"
    },
    "tags": [
     "remove_input"
    ]
   },
   "outputs": [],
   "source": [
    "s1, s2 = combine_stripplots(plot_me[plot_me.route_group==\"short\"])"
   ]
  },
  {
   "cell_type": "code",
   "execution_count": 12,
   "id": "5b2de243-1ec5-4745-a257-eb2dc5f8543d",
   "metadata": {
    "execution": {
     "iopub.execute_input": "2022-04-27T23:14:35.824385Z",
     "iopub.status.busy": "2022-04-27T23:14:35.824085Z",
     "iopub.status.idle": "2022-04-27T23:14:35.830255Z",
     "shell.execute_reply": "2022-04-27T23:14:35.829305Z"
    },
    "jupyter": {
     "source_hidden": true
    },
    "papermill": {
     "duration": 0.026007,
     "end_time": "2022-04-27T23:14:35.833173",
     "exception": false,
     "start_time": "2022-04-27T23:14:35.807166",
     "status": "completed"
    },
    "tags": [
     "remove_input"
    ]
   },
   "outputs": [
    {
     "data": {
      "text/html": [
       "<h2>Short Routes</h2>"
      ],
      "text/plain": [
       "<IPython.core.display.HTML object>"
      ]
     },
     "metadata": {},
     "output_type": "display_data"
    }
   ],
   "source": [
    "display(HTML(\"<h2>Short Routes</h2>\"))"
   ]
  },
  {
   "cell_type": "code",
   "execution_count": 13,
   "id": "42dd25ab-5f9d-4865-b37c-ef18c47bac9c",
   "metadata": {
    "execution": {
     "iopub.execute_input": "2022-04-27T23:14:35.858035Z",
     "iopub.status.busy": "2022-04-27T23:14:35.857168Z",
     "iopub.status.idle": "2022-04-27T23:14:35.925761Z",
     "shell.execute_reply": "2022-04-27T23:14:35.923158Z"
    },
    "jupyter": {
     "source_hidden": true
    },
    "papermill": {
     "duration": 0.083517,
     "end_time": "2022-04-27T23:14:35.928233",
     "exception": false,
     "start_time": "2022-04-27T23:14:35.844716",
     "status": "completed"
    },
    "tags": [
     "remove_input"
    ]
   },
   "outputs": [
    {
     "data": {
      "text/html": [
       "\n",
       "<div id=\"altair-viz-c1f0c37fc5e44cc6be634594cf351c63\"></div>\n",
       "<script type=\"text/javascript\">\n",
       "  var VEGA_DEBUG = (typeof VEGA_DEBUG == \"undefined\") ? {} : VEGA_DEBUG;\n",
       "  (function(spec, embedOpt){\n",
       "    let outputDiv = document.currentScript.previousElementSibling;\n",
       "    if (outputDiv.id !== \"altair-viz-c1f0c37fc5e44cc6be634594cf351c63\") {\n",
       "      outputDiv = document.getElementById(\"altair-viz-c1f0c37fc5e44cc6be634594cf351c63\");\n",
       "    }\n",
       "    const paths = {\n",
       "      \"vega\": \"https://cdn.jsdelivr.net/npm//vega@5?noext\",\n",
       "      \"vega-lib\": \"https://cdn.jsdelivr.net/npm//vega-lib?noext\",\n",
       "      \"vega-lite\": \"https://cdn.jsdelivr.net/npm//vega-lite@4.17.0?noext\",\n",
       "      \"vega-embed\": \"https://cdn.jsdelivr.net/npm//vega-embed@6?noext\",\n",
       "    };\n",
       "\n",
       "    function maybeLoadScript(lib, version) {\n",
       "      var key = `${lib.replace(\"-\", \"\")}_version`;\n",
       "      return (VEGA_DEBUG[key] == version) ?\n",
       "        Promise.resolve(paths[lib]) :\n",
       "        new Promise(function(resolve, reject) {\n",
       "          var s = document.createElement('script');\n",
       "          document.getElementsByTagName(\"head\")[0].appendChild(s);\n",
       "          s.async = true;\n",
       "          s.onload = () => {\n",
       "            VEGA_DEBUG[key] = version;\n",
       "            return resolve(paths[lib]);\n",
       "          };\n",
       "          s.onerror = () => reject(`Error loading script: ${paths[lib]}`);\n",
       "          s.src = paths[lib];\n",
       "        });\n",
       "    }\n",
       "\n",
       "    function showError(err) {\n",
       "      outputDiv.innerHTML = `<div class=\"error\" style=\"color:red;\">${err}</div>`;\n",
       "      throw err;\n",
       "    }\n",
       "\n",
       "    function displayChart(vegaEmbed) {\n",
       "      vegaEmbed(outputDiv, spec, embedOpt)\n",
       "        .catch(err => showError(`Javascript Error: ${err.message}<br>This usually means there's a typo in your chart specification. See the javascript console for the full traceback.`));\n",
       "    }\n",
       "\n",
       "    if(typeof define === \"function\" && define.amd) {\n",
       "      requirejs.config({paths});\n",
       "      require([\"vega-embed\"], displayChart, err => showError(`Error loading script: ${err.message}`));\n",
       "    } else {\n",
       "      maybeLoadScript(\"vega\", \"5\")\n",
       "        .then(() => maybeLoadScript(\"vega-lite\", \"4.17.0\"))\n",
       "        .then(() => maybeLoadScript(\"vega-embed\", \"6\"))\n",
       "        .catch(showError)\n",
       "        .then(() => displayChart(vegaEmbed));\n",
       "    }\n",
       "  })({\"config\": {\"view\": {\"continuousWidth\": 400, \"continuousHeight\": 300, \"stroke\": null}, \"facet\": {\"spacing\": 0}}, \"data\": {\"name\": \"data-9e17a688c8063463ddac758db414fc2d\"}, \"facet\": {\"column\": {\"field\": \"route_id\", \"sort\": [\"7A\", \"38\"], \"title\": \"Route ID\", \"type\": \"nominal\"}}, \"spec\": {\"layer\": [{\"mark\": {\"type\": \"point\", \"opacity\": 0.65, \"size\": 12, \"strokeWidth\": 1.1}, \"encoding\": {\"color\": {\"field\": \"time_of_day\", \"scale\": {\"range\": [\"#136C97\", \"#E16B26\", \"#F6BF16\", \"#00896B\", \"#7790A3\", \"#5B559C\"]}, \"sort\": [\"AM Peak\", \"Midday\", \"PM Peak\", \"Owl Service\"], \"title\": \"Time of Day\", \"type\": \"nominal\"}, \"tooltip\": [{\"field\": \"route_id\", \"type\": \"nominal\"}, {\"field\": \"trip_id\", \"type\": \"nominal\"}, {\"field\": \"service_hours\", \"type\": \"quantitative\"}, {\"field\": \"car_duration_hours\", \"type\": \"quantitative\"}, {\"field\": \"bus_multiplier\", \"type\": \"quantitative\"}, {\"field\": \"bus_difference\", \"type\": \"quantitative\"}, {\"field\": \"num_trips\", \"type\": \"quantitative\"}, {\"field\": \"num_competitive\", \"type\": \"quantitative\"}, {\"field\": \"pct_trips_competitive\", \"type\": \"quantitative\"}, {\"field\": \"p25\", \"type\": \"quantitative\"}, {\"field\": \"p50\", \"type\": \"quantitative\"}, {\"field\": \"p75\", \"type\": \"quantitative\"}], \"x\": {\"axis\": {\"grid\": false, \"labels\": false, \"ticks\": true, \"values\": [0]}, \"field\": \"jitter\", \"scale\": {}, \"title\": null, \"type\": \"quantitative\"}, \"y\": {\"field\": \"bus_multiplier\", \"scale\": {\"domain\": [1.3, 1.71]}, \"title\": \"Ratio of Bus to Car Travel Time\", \"type\": \"quantitative\"}}, \"selection\": {\"selector001\": {\"type\": \"interval\", \"bind\": \"scales\", \"encodings\": [\"x\", \"y\"]}}, \"transform\": [{\"calculate\": \"sqrt(-2*log(random()))*cos(2*PI*random())\", \"as\": \"jitter\"}], \"width\": 60}, {\"mark\": {\"type\": \"point\", \"opacity\": 0.6, \"size\": 20, \"strokeWidth\": 1.3}, \"encoding\": {\"color\": {\"value\": \"#323434\"}, \"y\": {\"field\": \"bus_multiplier\", \"type\": \"quantitative\"}}, \"transform\": [{\"filter\": \"(datum.p50_trip === 1)\"}]}, {\"mark\": {\"type\": \"rule\", \"strokeDash\": [2, 3]}, \"encoding\": {\"color\": {\"value\": \"#323434\"}, \"y\": {\"field\": \"cutoff\", \"type\": \"quantitative\"}}}, {\"mark\": {\"type\": \"text\", \"align\": \"center\", \"baseline\": \"middle\"}, \"encoding\": {\"color\": {\"value\": \"black\"}, \"text\": {\"field\": \"pct_trips_competitive\", \"format\": \".0%\", \"type\": \"quantitative\"}, \"tooltip\": [{\"field\": \"route_id\", \"type\": \"nominal\"}, {\"field\": \"trip_id\", \"type\": \"nominal\"}, {\"field\": \"service_hours\", \"type\": \"quantitative\"}, {\"field\": \"car_duration_hours\", \"type\": \"quantitative\"}, {\"field\": \"bus_multiplier\", \"type\": \"quantitative\"}, {\"field\": \"bus_difference\", \"type\": \"quantitative\"}, {\"field\": \"num_trips\", \"type\": \"quantitative\"}, {\"field\": \"num_competitive\", \"type\": \"quantitative\"}, {\"field\": \"pct_trips_competitive\", \"type\": \"quantitative\"}, {\"field\": \"p25\", \"type\": \"quantitative\"}, {\"field\": \"p50\", \"type\": \"quantitative\"}, {\"field\": \"p75\", \"type\": \"quantitative\"}], \"x\": {\"value\": 30}, \"y\": {\"value\": 15}}, \"transform\": [{\"calculate\": \"sqrt(-2*log(random()))*cos(2*PI*random())\", \"as\": \"jitter\"}, {\"filter\": \"(datum.fastest_trip === 1)\"}]}]}, \"resolve\": {\"scale\": {\"y\": \"shared\"}}, \"title\": \"Ratio of Bus to Car Travel Time\", \"$schema\": \"https://vega.github.io/schema/vega-lite/v4.17.0.json\", \"datasets\": {\"data-9e17a688c8063463ddac758db414fc2d\": [{\"calitp_itp_id\": 310, \"trip_key\": -5574743277464453139, \"trip_id\": \"919\", \"shape_id\": \"22\", \"route_id\": \"38\", \"service_hours\": 0.47, \"trip_first_departure_ts\": 27120, \"trip_last_arrival_ts\": 28800, \"departure_hour\": 7, \"time_of_day\": \"AM Peak\", \"p25\": 0.485, \"p50\": 0.5, \"p75\": 0.515, \"p50_trip\": 1, \"fastest_trip\": 1, \"car_duration_hours\": 0.31, \"competitive_route\": 1, \"bus_multiplier\": 1.52, \"bus_difference\": 9.6, \"num_trips\": 2, \"num_competitive\": 2, \"pct_trips_competitive\": 1.0, \"bus_multiplier_spread\": 0.19, \"bus_difference_spread\": 3.6, \"route_group\": \"short\", \"name\": \"Solano County Transit\", \"caltrans_district\": \"04 - Oakland\", \"drmt_organization_name\": \"['recT79ohBnTB1fKsX']\", \"cutoff\": 2}, {\"calitp_itp_id\": 310, \"trip_key\": -3715552762660780122, \"trip_id\": \"920\", \"shape_id\": \"24\", \"route_id\": \"38\", \"service_hours\": 0.53, \"trip_first_departure_ts\": 24960, \"trip_last_arrival_ts\": 26880, \"departure_hour\": 6, \"time_of_day\": \"Owl Service\", \"p25\": 0.485, \"p50\": 0.5, \"p75\": 0.515, \"p50_trip\": 1, \"fastest_trip\": 0, \"car_duration_hours\": 0.31, \"competitive_route\": 1, \"bus_multiplier\": 1.71, \"bus_difference\": 13.2, \"num_trips\": 2, \"num_competitive\": 2, \"pct_trips_competitive\": 1.0, \"bus_multiplier_spread\": 0.19, \"bus_difference_spread\": 3.6, \"route_group\": \"short\", \"name\": \"Solano County Transit\", \"caltrans_district\": \"04 - Oakland\", \"drmt_organization_name\": \"['recT79ohBnTB1fKsX']\", \"cutoff\": 2}, {\"calitp_itp_id\": 310, \"trip_key\": -2242253959501436434, \"trip_id\": \"1078\", \"shape_id\": \"10\", \"route_id\": \"7A\", \"service_hours\": 1.0, \"trip_first_departure_ts\": 42300, \"trip_last_arrival_ts\": 45900, \"departure_hour\": 11, \"time_of_day\": \"Midday\", \"p25\": 1.0, \"p50\": 1.0, \"p75\": 1.0, \"p50_trip\": 1, \"fastest_trip\": 0, \"car_duration_hours\": 0.77, \"competitive_route\": 1, \"bus_multiplier\": 1.3, \"bus_difference\": 13.8, \"num_trips\": 15, \"num_competitive\": 15, \"pct_trips_competitive\": 1.0, \"bus_multiplier_spread\": 0.0, \"bus_difference_spread\": 0.0, \"route_group\": \"short\", \"name\": \"Solano County Transit\", \"caltrans_district\": \"04 - Oakland\", \"drmt_organization_name\": \"['recT79ohBnTB1fKsX']\", \"cutoff\": 2}, {\"calitp_itp_id\": 310, \"trip_key\": 1553366806666314761, \"trip_id\": \"1097\", \"shape_id\": \"10\", \"route_id\": \"7A\", \"service_hours\": 1.0, \"trip_first_departure_ts\": 67500, \"trip_last_arrival_ts\": 71100, \"departure_hour\": 18, \"time_of_day\": \"PM Peak\", \"p25\": 1.0, \"p50\": 1.0, \"p75\": 1.0, \"p50_trip\": 1, \"fastest_trip\": 0, \"car_duration_hours\": 0.77, \"competitive_route\": 1, \"bus_multiplier\": 1.3, \"bus_difference\": 13.8, \"num_trips\": 15, \"num_competitive\": 15, \"pct_trips_competitive\": 1.0, \"bus_multiplier_spread\": 0.0, \"bus_difference_spread\": 0.0, \"route_group\": \"short\", \"name\": \"Solano County Transit\", \"caltrans_district\": \"04 - Oakland\", \"drmt_organization_name\": \"['recT79ohBnTB1fKsX']\", \"cutoff\": 2}, {\"calitp_itp_id\": 310, \"trip_key\": 5736745841295953016, \"trip_id\": \"1099\", \"shape_id\": \"10\", \"route_id\": \"7A\", \"service_hours\": 1.0, \"trip_first_departure_ts\": 74700, \"trip_last_arrival_ts\": 78300, \"departure_hour\": 20, \"time_of_day\": \"Owl Service\", \"p25\": 1.0, \"p50\": 1.0, \"p75\": 1.0, \"p50_trip\": 1, \"fastest_trip\": 1, \"car_duration_hours\": 0.77, \"competitive_route\": 1, \"bus_multiplier\": 1.3, \"bus_difference\": 13.8, \"num_trips\": 15, \"num_competitive\": 15, \"pct_trips_competitive\": 1.0, \"bus_multiplier_spread\": 0.0, \"bus_difference_spread\": 0.0, \"route_group\": \"short\", \"name\": \"Solano County Transit\", \"caltrans_district\": \"04 - Oakland\", \"drmt_organization_name\": \"['recT79ohBnTB1fKsX']\", \"cutoff\": 2}, {\"calitp_itp_id\": 310, \"trip_key\": 7541199008754798528, \"trip_id\": \"1065\", \"shape_id\": \"10\", \"route_id\": \"7A\", \"service_hours\": 1.0, \"trip_first_departure_ts\": 24300, \"trip_last_arrival_ts\": 27900, \"departure_hour\": 6, \"time_of_day\": \"Owl Service\", \"p25\": 1.0, \"p50\": 1.0, \"p75\": 1.0, \"p50_trip\": 1, \"fastest_trip\": 0, \"car_duration_hours\": 0.77, \"competitive_route\": 1, \"bus_multiplier\": 1.3, \"bus_difference\": 13.8, \"num_trips\": 15, \"num_competitive\": 15, \"pct_trips_competitive\": 1.0, \"bus_multiplier_spread\": 0.0, \"bus_difference_spread\": 0.0, \"route_group\": \"short\", \"name\": \"Solano County Transit\", \"caltrans_district\": \"04 - Oakland\", \"drmt_organization_name\": \"['recT79ohBnTB1fKsX']\", \"cutoff\": 2}, {\"calitp_itp_id\": 310, \"trip_key\": -2774837895713846595, \"trip_id\": \"1081\", \"shape_id\": \"10\", \"route_id\": \"7A\", \"service_hours\": 1.0, \"trip_first_departure_ts\": 45900, \"trip_last_arrival_ts\": 49500, \"departure_hour\": 12, \"time_of_day\": \"Midday\", \"p25\": 1.0, \"p50\": 1.0, \"p75\": 1.0, \"p50_trip\": 1, \"fastest_trip\": 0, \"car_duration_hours\": 0.77, \"competitive_route\": 1, \"bus_multiplier\": 1.3, \"bus_difference\": 13.8, \"num_trips\": 15, \"num_competitive\": 15, \"pct_trips_competitive\": 1.0, \"bus_multiplier_spread\": 0.0, \"bus_difference_spread\": 0.0, \"route_group\": \"short\", \"name\": \"Solano County Transit\", \"caltrans_district\": \"04 - Oakland\", \"drmt_organization_name\": \"['recT79ohBnTB1fKsX']\", \"cutoff\": 2}, {\"calitp_itp_id\": 310, \"trip_key\": -7128689078602650873, \"trip_id\": \"1066\", \"shape_id\": \"10\", \"route_id\": \"7A\", \"service_hours\": 1.0, \"trip_first_departure_ts\": 27900, \"trip_last_arrival_ts\": 31500, \"departure_hour\": 7, \"time_of_day\": \"AM Peak\", \"p25\": 1.0, \"p50\": 1.0, \"p75\": 1.0, \"p50_trip\": 1, \"fastest_trip\": 0, \"car_duration_hours\": 0.77, \"competitive_route\": 1, \"bus_multiplier\": 1.3, \"bus_difference\": 13.8, \"num_trips\": 15, \"num_competitive\": 15, \"pct_trips_competitive\": 1.0, \"bus_multiplier_spread\": 0.0, \"bus_difference_spread\": 0.0, \"route_group\": \"short\", \"name\": \"Solano County Transit\", \"caltrans_district\": \"04 - Oakland\", \"drmt_organization_name\": \"['recT79ohBnTB1fKsX']\", \"cutoff\": 2}, {\"calitp_itp_id\": 310, \"trip_key\": -3801396718114747764, \"trip_id\": \"1075\", \"shape_id\": \"10\", \"route_id\": \"7A\", \"service_hours\": 1.0, \"trip_first_departure_ts\": 38700, \"trip_last_arrival_ts\": 42300, \"departure_hour\": 10, \"time_of_day\": \"Midday\", \"p25\": 1.0, \"p50\": 1.0, \"p75\": 1.0, \"p50_trip\": 1, \"fastest_trip\": 0, \"car_duration_hours\": 0.77, \"competitive_route\": 1, \"bus_multiplier\": 1.3, \"bus_difference\": 13.8, \"num_trips\": 15, \"num_competitive\": 15, \"pct_trips_competitive\": 1.0, \"bus_multiplier_spread\": 0.0, \"bus_difference_spread\": 0.0, \"route_group\": \"short\", \"name\": \"Solano County Transit\", \"caltrans_district\": \"04 - Oakland\", \"drmt_organization_name\": \"['recT79ohBnTB1fKsX']\", \"cutoff\": 2}, {\"calitp_itp_id\": 310, \"trip_key\": 3555369193555928407, \"trip_id\": \"1098\", \"shape_id\": \"10\", \"route_id\": \"7A\", \"service_hours\": 1.0, \"trip_first_departure_ts\": 71100, \"trip_last_arrival_ts\": 74700, \"departure_hour\": 19, \"time_of_day\": \"PM Peak\", \"p25\": 1.0, \"p50\": 1.0, \"p75\": 1.0, \"p50_trip\": 1, \"fastest_trip\": 0, \"car_duration_hours\": 0.77, \"competitive_route\": 1, \"bus_multiplier\": 1.3, \"bus_difference\": 13.8, \"num_trips\": 15, \"num_competitive\": 15, \"pct_trips_competitive\": 1.0, \"bus_multiplier_spread\": 0.0, \"bus_difference_spread\": 0.0, \"route_group\": \"short\", \"name\": \"Solano County Transit\", \"caltrans_district\": \"04 - Oakland\", \"drmt_organization_name\": \"['recT79ohBnTB1fKsX']\", \"cutoff\": 2}, {\"calitp_itp_id\": 310, \"trip_key\": -7612102933413698873, \"trip_id\": \"1084\", \"shape_id\": \"10\", \"route_id\": \"7A\", \"service_hours\": 1.0, \"trip_first_departure_ts\": 49500, \"trip_last_arrival_ts\": 53100, \"departure_hour\": 13, \"time_of_day\": \"Midday\", \"p25\": 1.0, \"p50\": 1.0, \"p75\": 1.0, \"p50_trip\": 1, \"fastest_trip\": 0, \"car_duration_hours\": 0.77, \"competitive_route\": 1, \"bus_multiplier\": 1.3, \"bus_difference\": 13.8, \"num_trips\": 15, \"num_competitive\": 15, \"pct_trips_competitive\": 1.0, \"bus_multiplier_spread\": 0.0, \"bus_difference_spread\": 0.0, \"route_group\": \"short\", \"name\": \"Solano County Transit\", \"caltrans_district\": \"04 - Oakland\", \"drmt_organization_name\": \"['recT79ohBnTB1fKsX']\", \"cutoff\": 2}, {\"calitp_itp_id\": 310, \"trip_key\": 9090745400368182860, \"trip_id\": \"1069\", \"shape_id\": \"10\", \"route_id\": \"7A\", \"service_hours\": 1.0, \"trip_first_departure_ts\": 31500, \"trip_last_arrival_ts\": 35100, \"departure_hour\": 8, \"time_of_day\": \"AM Peak\", \"p25\": 1.0, \"p50\": 1.0, \"p75\": 1.0, \"p50_trip\": 1, \"fastest_trip\": 0, \"car_duration_hours\": 0.77, \"competitive_route\": 1, \"bus_multiplier\": 1.3, \"bus_difference\": 13.8, \"num_trips\": 15, \"num_competitive\": 15, \"pct_trips_competitive\": 1.0, \"bus_multiplier_spread\": 0.0, \"bus_difference_spread\": 0.0, \"route_group\": \"short\", \"name\": \"Solano County Transit\", \"caltrans_district\": \"04 - Oakland\", \"drmt_organization_name\": \"['recT79ohBnTB1fKsX']\", \"cutoff\": 2}, {\"calitp_itp_id\": 310, \"trip_key\": -6662624582280621192, \"trip_id\": \"1087\", \"shape_id\": \"10\", \"route_id\": \"7A\", \"service_hours\": 1.0, \"trip_first_departure_ts\": 53100, \"trip_last_arrival_ts\": 56700, \"departure_hour\": 14, \"time_of_day\": \"Midday\", \"p25\": 1.0, \"p50\": 1.0, \"p75\": 1.0, \"p50_trip\": 1, \"fastest_trip\": 0, \"car_duration_hours\": 0.77, \"competitive_route\": 1, \"bus_multiplier\": 1.3, \"bus_difference\": 13.8, \"num_trips\": 15, \"num_competitive\": 15, \"pct_trips_competitive\": 1.0, \"bus_multiplier_spread\": 0.0, \"bus_difference_spread\": 0.0, \"route_group\": \"short\", \"name\": \"Solano County Transit\", \"caltrans_district\": \"04 - Oakland\", \"drmt_organization_name\": \"['recT79ohBnTB1fKsX']\", \"cutoff\": 2}, {\"calitp_itp_id\": 310, \"trip_key\": -6607227710157058801, \"trip_id\": \"1096\", \"shape_id\": \"10\", \"route_id\": \"7A\", \"service_hours\": 1.0, \"trip_first_departure_ts\": 63900, \"trip_last_arrival_ts\": 67500, \"departure_hour\": 17, \"time_of_day\": \"PM Peak\", \"p25\": 1.0, \"p50\": 1.0, \"p75\": 1.0, \"p50_trip\": 1, \"fastest_trip\": 0, \"car_duration_hours\": 0.77, \"competitive_route\": 1, \"bus_multiplier\": 1.3, \"bus_difference\": 13.8, \"num_trips\": 15, \"num_competitive\": 15, \"pct_trips_competitive\": 1.0, \"bus_multiplier_spread\": 0.0, \"bus_difference_spread\": 0.0, \"route_group\": \"short\", \"name\": \"Solano County Transit\", \"caltrans_district\": \"04 - Oakland\", \"drmt_organization_name\": \"['recT79ohBnTB1fKsX']\", \"cutoff\": 2}, {\"calitp_itp_id\": 310, \"trip_key\": 75175244298657360, \"trip_id\": \"1090\", \"shape_id\": \"10\", \"route_id\": \"7A\", \"service_hours\": 1.0, \"trip_first_departure_ts\": 56700, \"trip_last_arrival_ts\": 60300, \"departure_hour\": 15, \"time_of_day\": \"Midday\", \"p25\": 1.0, \"p50\": 1.0, \"p75\": 1.0, \"p50_trip\": 1, \"fastest_trip\": 0, \"car_duration_hours\": 0.77, \"competitive_route\": 1, \"bus_multiplier\": 1.3, \"bus_difference\": 13.8, \"num_trips\": 15, \"num_competitive\": 15, \"pct_trips_competitive\": 1.0, \"bus_multiplier_spread\": 0.0, \"bus_difference_spread\": 0.0, \"route_group\": \"short\", \"name\": \"Solano County Transit\", \"caltrans_district\": \"04 - Oakland\", \"drmt_organization_name\": \"['recT79ohBnTB1fKsX']\", \"cutoff\": 2}, {\"calitp_itp_id\": 310, \"trip_key\": 8811729153955021229, \"trip_id\": \"1072\", \"shape_id\": \"10\", \"route_id\": \"7A\", \"service_hours\": 1.0, \"trip_first_departure_ts\": 35100, \"trip_last_arrival_ts\": 38700, \"departure_hour\": 9, \"time_of_day\": \"AM Peak\", \"p25\": 1.0, \"p50\": 1.0, \"p75\": 1.0, \"p50_trip\": 1, \"fastest_trip\": 0, \"car_duration_hours\": 0.77, \"competitive_route\": 1, \"bus_multiplier\": 1.3, \"bus_difference\": 13.8, \"num_trips\": 15, \"num_competitive\": 15, \"pct_trips_competitive\": 1.0, \"bus_multiplier_spread\": 0.0, \"bus_difference_spread\": 0.0, \"route_group\": \"short\", \"name\": \"Solano County Transit\", \"caltrans_district\": \"04 - Oakland\", \"drmt_organization_name\": \"['recT79ohBnTB1fKsX']\", \"cutoff\": 2}, {\"calitp_itp_id\": 310, \"trip_key\": -4539065179735711766, \"trip_id\": \"1093\", \"shape_id\": \"10\", \"route_id\": \"7A\", \"service_hours\": 1.0, \"trip_first_departure_ts\": 60300, \"trip_last_arrival_ts\": 63900, \"departure_hour\": 16, \"time_of_day\": \"Midday\", \"p25\": 1.0, \"p50\": 1.0, \"p75\": 1.0, \"p50_trip\": 1, \"fastest_trip\": 0, \"car_duration_hours\": 0.77, \"competitive_route\": 1, \"bus_multiplier\": 1.3, \"bus_difference\": 13.8, \"num_trips\": 15, \"num_competitive\": 15, \"pct_trips_competitive\": 1.0, \"bus_multiplier_spread\": 0.0, \"bus_difference_spread\": 0.0, \"route_group\": \"short\", \"name\": \"Solano County Transit\", \"caltrans_district\": \"04 - Oakland\", \"drmt_organization_name\": \"['recT79ohBnTB1fKsX']\", \"cutoff\": 2}]}}, {\"mode\": \"vega-lite\"});\n",
       "</script>"
      ],
      "text/plain": [
       "alt.FacetChart(...)"
      ]
     },
     "execution_count": 13,
     "metadata": {},
     "output_type": "execute_result"
    }
   ],
   "source": [
    "s1"
   ]
  },
  {
   "cell_type": "code",
   "execution_count": 14,
   "id": "7dc36db6-eb6f-424e-ac33-44100baa338e",
   "metadata": {
    "execution": {
     "iopub.execute_input": "2022-04-27T23:14:35.963157Z",
     "iopub.status.busy": "2022-04-27T23:14:35.962824Z",
     "iopub.status.idle": "2022-04-27T23:14:36.019647Z",
     "shell.execute_reply": "2022-04-27T23:14:36.018853Z"
    },
    "jupyter": {
     "source_hidden": true
    },
    "papermill": {
     "duration": 0.073713,
     "end_time": "2022-04-27T23:14:36.021941",
     "exception": false,
     "start_time": "2022-04-27T23:14:35.948228",
     "status": "completed"
    },
    "tags": [
     "remove_input"
    ]
   },
   "outputs": [
    {
     "data": {
      "text/html": [
       "\n",
       "<div id=\"altair-viz-4b884a4e3b784d3a80c17003519296eb\"></div>\n",
       "<script type=\"text/javascript\">\n",
       "  var VEGA_DEBUG = (typeof VEGA_DEBUG == \"undefined\") ? {} : VEGA_DEBUG;\n",
       "  (function(spec, embedOpt){\n",
       "    let outputDiv = document.currentScript.previousElementSibling;\n",
       "    if (outputDiv.id !== \"altair-viz-4b884a4e3b784d3a80c17003519296eb\") {\n",
       "      outputDiv = document.getElementById(\"altair-viz-4b884a4e3b784d3a80c17003519296eb\");\n",
       "    }\n",
       "    const paths = {\n",
       "      \"vega\": \"https://cdn.jsdelivr.net/npm//vega@5?noext\",\n",
       "      \"vega-lib\": \"https://cdn.jsdelivr.net/npm//vega-lib?noext\",\n",
       "      \"vega-lite\": \"https://cdn.jsdelivr.net/npm//vega-lite@4.17.0?noext\",\n",
       "      \"vega-embed\": \"https://cdn.jsdelivr.net/npm//vega-embed@6?noext\",\n",
       "    };\n",
       "\n",
       "    function maybeLoadScript(lib, version) {\n",
       "      var key = `${lib.replace(\"-\", \"\")}_version`;\n",
       "      return (VEGA_DEBUG[key] == version) ?\n",
       "        Promise.resolve(paths[lib]) :\n",
       "        new Promise(function(resolve, reject) {\n",
       "          var s = document.createElement('script');\n",
       "          document.getElementsByTagName(\"head\")[0].appendChild(s);\n",
       "          s.async = true;\n",
       "          s.onload = () => {\n",
       "            VEGA_DEBUG[key] = version;\n",
       "            return resolve(paths[lib]);\n",
       "          };\n",
       "          s.onerror = () => reject(`Error loading script: ${paths[lib]}`);\n",
       "          s.src = paths[lib];\n",
       "        });\n",
       "    }\n",
       "\n",
       "    function showError(err) {\n",
       "      outputDiv.innerHTML = `<div class=\"error\" style=\"color:red;\">${err}</div>`;\n",
       "      throw err;\n",
       "    }\n",
       "\n",
       "    function displayChart(vegaEmbed) {\n",
       "      vegaEmbed(outputDiv, spec, embedOpt)\n",
       "        .catch(err => showError(`Javascript Error: ${err.message}<br>This usually means there's a typo in your chart specification. See the javascript console for the full traceback.`));\n",
       "    }\n",
       "\n",
       "    if(typeof define === \"function\" && define.amd) {\n",
       "      requirejs.config({paths});\n",
       "      require([\"vega-embed\"], displayChart, err => showError(`Error loading script: ${err.message}`));\n",
       "    } else {\n",
       "      maybeLoadScript(\"vega\", \"5\")\n",
       "        .then(() => maybeLoadScript(\"vega-lite\", \"4.17.0\"))\n",
       "        .then(() => maybeLoadScript(\"vega-embed\", \"6\"))\n",
       "        .catch(showError)\n",
       "        .then(() => displayChart(vegaEmbed));\n",
       "    }\n",
       "  })({\"config\": {\"view\": {\"continuousWidth\": 400, \"continuousHeight\": 300, \"stroke\": null}, \"facet\": {\"spacing\": 0}}, \"data\": {\"name\": \"data-d8e5a7ea2a143185b2b713765d1b794b\"}, \"facet\": {\"column\": {\"field\": \"route_id\", \"sort\": [\"7A\", \"38\"], \"title\": \"Route ID\", \"type\": \"nominal\"}}, \"spec\": {\"layer\": [{\"mark\": {\"type\": \"point\", \"opacity\": 0.65, \"size\": 12, \"strokeWidth\": 1.1}, \"encoding\": {\"color\": {\"field\": \"time_of_day\", \"scale\": {\"range\": [\"#136C97\", \"#E16B26\", \"#F6BF16\", \"#00896B\", \"#7790A3\", \"#5B559C\"]}, \"sort\": [\"AM Peak\", \"Midday\", \"PM Peak\", \"Owl Service\"], \"title\": \"Time of Day\", \"type\": \"nominal\"}, \"tooltip\": [{\"field\": \"route_id\", \"type\": \"nominal\"}, {\"field\": \"trip_id\", \"type\": \"nominal\"}, {\"field\": \"service_hours\", \"type\": \"quantitative\"}, {\"field\": \"car_duration_hours\", \"type\": \"quantitative\"}, {\"field\": \"bus_multiplier\", \"type\": \"quantitative\"}, {\"field\": \"bus_difference\", \"type\": \"quantitative\"}, {\"field\": \"num_trips\", \"type\": \"quantitative\"}, {\"field\": \"num_competitive\", \"type\": \"quantitative\"}, {\"field\": \"pct_trips_competitive\", \"type\": \"quantitative\"}, {\"field\": \"p25\", \"type\": \"quantitative\"}, {\"field\": \"p50\", \"type\": \"quantitative\"}, {\"field\": \"p75\", \"type\": \"quantitative\"}], \"x\": {\"axis\": {\"grid\": false, \"labels\": false, \"ticks\": true, \"values\": [0]}, \"field\": \"jitter\", \"scale\": {}, \"title\": null, \"type\": \"quantitative\"}, \"y\": {\"field\": \"bus_difference\", \"scale\": {\"domain\": [9.6, 13.8]}, \"title\": \"Difference in Bus to Car Travel Time (min)\", \"type\": \"quantitative\"}}, \"selection\": {\"selector002\": {\"type\": \"interval\", \"bind\": \"scales\", \"encodings\": [\"x\", \"y\"]}}, \"transform\": [{\"calculate\": \"sqrt(-2*log(random()))*cos(2*PI*random())\", \"as\": \"jitter\"}], \"width\": 60}, {\"mark\": {\"type\": \"point\", \"opacity\": 0.6, \"size\": 20, \"strokeWidth\": 1.3}, \"encoding\": {\"color\": {\"value\": \"#323434\"}, \"y\": {\"field\": \"bus_difference\", \"type\": \"quantitative\"}}, \"transform\": [{\"filter\": \"(datum.p50_trip === 1)\"}]}, {\"mark\": {\"type\": \"rule\", \"strokeDash\": [2, 3]}, \"encoding\": {\"color\": {\"value\": \"#323434\"}, \"y\": {\"field\": \"cutoff\", \"type\": \"quantitative\"}}}, {\"mark\": {\"type\": \"text\", \"align\": \"center\", \"baseline\": \"middle\"}, \"encoding\": {\"color\": {\"value\": \"black\"}, \"text\": {\"field\": \"pct_trips_competitive\", \"format\": \".0%\", \"type\": \"quantitative\"}, \"tooltip\": [{\"field\": \"route_id\", \"type\": \"nominal\"}, {\"field\": \"trip_id\", \"type\": \"nominal\"}, {\"field\": \"service_hours\", \"type\": \"quantitative\"}, {\"field\": \"car_duration_hours\", \"type\": \"quantitative\"}, {\"field\": \"bus_multiplier\", \"type\": \"quantitative\"}, {\"field\": \"bus_difference\", \"type\": \"quantitative\"}, {\"field\": \"num_trips\", \"type\": \"quantitative\"}, {\"field\": \"num_competitive\", \"type\": \"quantitative\"}, {\"field\": \"pct_trips_competitive\", \"type\": \"quantitative\"}, {\"field\": \"p25\", \"type\": \"quantitative\"}, {\"field\": \"p50\", \"type\": \"quantitative\"}, {\"field\": \"p75\", \"type\": \"quantitative\"}], \"x\": {\"value\": 30}, \"y\": {\"value\": 15}}, \"transform\": [{\"calculate\": \"sqrt(-2*log(random()))*cos(2*PI*random())\", \"as\": \"jitter\"}, {\"filter\": \"(datum.fastest_trip === 1)\"}]}]}, \"resolve\": {\"scale\": {\"y\": \"shared\"}}, \"title\": \"Difference in Bus to Car Travel Time (min)\", \"$schema\": \"https://vega.github.io/schema/vega-lite/v4.17.0.json\", \"datasets\": {\"data-d8e5a7ea2a143185b2b713765d1b794b\": [{\"calitp_itp_id\": 310, \"trip_key\": -5574743277464453139, \"trip_id\": \"919\", \"shape_id\": \"22\", \"route_id\": \"38\", \"service_hours\": 0.47, \"trip_first_departure_ts\": 27120, \"trip_last_arrival_ts\": 28800, \"departure_hour\": 7, \"time_of_day\": \"AM Peak\", \"p25\": 0.485, \"p50\": 0.5, \"p75\": 0.515, \"p50_trip\": 1, \"fastest_trip\": 1, \"car_duration_hours\": 0.31, \"competitive_route\": 1, \"bus_multiplier\": 1.52, \"bus_difference\": 9.6, \"num_trips\": 2, \"num_competitive\": 2, \"pct_trips_competitive\": 1.0, \"bus_multiplier_spread\": 0.19, \"bus_difference_spread\": 3.6, \"route_group\": \"short\", \"name\": \"Solano County Transit\", \"caltrans_district\": \"04 - Oakland\", \"drmt_organization_name\": \"['recT79ohBnTB1fKsX']\", \"cutoff\": 0}, {\"calitp_itp_id\": 310, \"trip_key\": -3715552762660780122, \"trip_id\": \"920\", \"shape_id\": \"24\", \"route_id\": \"38\", \"service_hours\": 0.53, \"trip_first_departure_ts\": 24960, \"trip_last_arrival_ts\": 26880, \"departure_hour\": 6, \"time_of_day\": \"Owl Service\", \"p25\": 0.485, \"p50\": 0.5, \"p75\": 0.515, \"p50_trip\": 1, \"fastest_trip\": 0, \"car_duration_hours\": 0.31, \"competitive_route\": 1, \"bus_multiplier\": 1.71, \"bus_difference\": 13.2, \"num_trips\": 2, \"num_competitive\": 2, \"pct_trips_competitive\": 1.0, \"bus_multiplier_spread\": 0.19, \"bus_difference_spread\": 3.6, \"route_group\": \"short\", \"name\": \"Solano County Transit\", \"caltrans_district\": \"04 - Oakland\", \"drmt_organization_name\": \"['recT79ohBnTB1fKsX']\", \"cutoff\": 0}, {\"calitp_itp_id\": 310, \"trip_key\": -2242253959501436434, \"trip_id\": \"1078\", \"shape_id\": \"10\", \"route_id\": \"7A\", \"service_hours\": 1.0, \"trip_first_departure_ts\": 42300, \"trip_last_arrival_ts\": 45900, \"departure_hour\": 11, \"time_of_day\": \"Midday\", \"p25\": 1.0, \"p50\": 1.0, \"p75\": 1.0, \"p50_trip\": 1, \"fastest_trip\": 0, \"car_duration_hours\": 0.77, \"competitive_route\": 1, \"bus_multiplier\": 1.3, \"bus_difference\": 13.8, \"num_trips\": 15, \"num_competitive\": 15, \"pct_trips_competitive\": 1.0, \"bus_multiplier_spread\": 0.0, \"bus_difference_spread\": 0.0, \"route_group\": \"short\", \"name\": \"Solano County Transit\", \"caltrans_district\": \"04 - Oakland\", \"drmt_organization_name\": \"['recT79ohBnTB1fKsX']\", \"cutoff\": 0}, {\"calitp_itp_id\": 310, \"trip_key\": 1553366806666314761, \"trip_id\": \"1097\", \"shape_id\": \"10\", \"route_id\": \"7A\", \"service_hours\": 1.0, \"trip_first_departure_ts\": 67500, \"trip_last_arrival_ts\": 71100, \"departure_hour\": 18, \"time_of_day\": \"PM Peak\", \"p25\": 1.0, \"p50\": 1.0, \"p75\": 1.0, \"p50_trip\": 1, \"fastest_trip\": 0, \"car_duration_hours\": 0.77, \"competitive_route\": 1, \"bus_multiplier\": 1.3, \"bus_difference\": 13.8, \"num_trips\": 15, \"num_competitive\": 15, \"pct_trips_competitive\": 1.0, \"bus_multiplier_spread\": 0.0, \"bus_difference_spread\": 0.0, \"route_group\": \"short\", \"name\": \"Solano County Transit\", \"caltrans_district\": \"04 - Oakland\", \"drmt_organization_name\": \"['recT79ohBnTB1fKsX']\", \"cutoff\": 0}, {\"calitp_itp_id\": 310, \"trip_key\": 5736745841295953016, \"trip_id\": \"1099\", \"shape_id\": \"10\", \"route_id\": \"7A\", \"service_hours\": 1.0, \"trip_first_departure_ts\": 74700, \"trip_last_arrival_ts\": 78300, \"departure_hour\": 20, \"time_of_day\": \"Owl Service\", \"p25\": 1.0, \"p50\": 1.0, \"p75\": 1.0, \"p50_trip\": 1, \"fastest_trip\": 1, \"car_duration_hours\": 0.77, \"competitive_route\": 1, \"bus_multiplier\": 1.3, \"bus_difference\": 13.8, \"num_trips\": 15, \"num_competitive\": 15, \"pct_trips_competitive\": 1.0, \"bus_multiplier_spread\": 0.0, \"bus_difference_spread\": 0.0, \"route_group\": \"short\", \"name\": \"Solano County Transit\", \"caltrans_district\": \"04 - Oakland\", \"drmt_organization_name\": \"['recT79ohBnTB1fKsX']\", \"cutoff\": 0}, {\"calitp_itp_id\": 310, \"trip_key\": 7541199008754798528, \"trip_id\": \"1065\", \"shape_id\": \"10\", \"route_id\": \"7A\", \"service_hours\": 1.0, \"trip_first_departure_ts\": 24300, \"trip_last_arrival_ts\": 27900, \"departure_hour\": 6, \"time_of_day\": \"Owl Service\", \"p25\": 1.0, \"p50\": 1.0, \"p75\": 1.0, \"p50_trip\": 1, \"fastest_trip\": 0, \"car_duration_hours\": 0.77, \"competitive_route\": 1, \"bus_multiplier\": 1.3, \"bus_difference\": 13.8, \"num_trips\": 15, \"num_competitive\": 15, \"pct_trips_competitive\": 1.0, \"bus_multiplier_spread\": 0.0, \"bus_difference_spread\": 0.0, \"route_group\": \"short\", \"name\": \"Solano County Transit\", \"caltrans_district\": \"04 - Oakland\", \"drmt_organization_name\": \"['recT79ohBnTB1fKsX']\", \"cutoff\": 0}, {\"calitp_itp_id\": 310, \"trip_key\": -2774837895713846595, \"trip_id\": \"1081\", \"shape_id\": \"10\", \"route_id\": \"7A\", \"service_hours\": 1.0, \"trip_first_departure_ts\": 45900, \"trip_last_arrival_ts\": 49500, \"departure_hour\": 12, \"time_of_day\": \"Midday\", \"p25\": 1.0, \"p50\": 1.0, \"p75\": 1.0, \"p50_trip\": 1, \"fastest_trip\": 0, \"car_duration_hours\": 0.77, \"competitive_route\": 1, \"bus_multiplier\": 1.3, \"bus_difference\": 13.8, \"num_trips\": 15, \"num_competitive\": 15, \"pct_trips_competitive\": 1.0, \"bus_multiplier_spread\": 0.0, \"bus_difference_spread\": 0.0, \"route_group\": \"short\", \"name\": \"Solano County Transit\", \"caltrans_district\": \"04 - Oakland\", \"drmt_organization_name\": \"['recT79ohBnTB1fKsX']\", \"cutoff\": 0}, {\"calitp_itp_id\": 310, \"trip_key\": -7128689078602650873, \"trip_id\": \"1066\", \"shape_id\": \"10\", \"route_id\": \"7A\", \"service_hours\": 1.0, \"trip_first_departure_ts\": 27900, \"trip_last_arrival_ts\": 31500, \"departure_hour\": 7, \"time_of_day\": \"AM Peak\", \"p25\": 1.0, \"p50\": 1.0, \"p75\": 1.0, \"p50_trip\": 1, \"fastest_trip\": 0, \"car_duration_hours\": 0.77, \"competitive_route\": 1, \"bus_multiplier\": 1.3, \"bus_difference\": 13.8, \"num_trips\": 15, \"num_competitive\": 15, \"pct_trips_competitive\": 1.0, \"bus_multiplier_spread\": 0.0, \"bus_difference_spread\": 0.0, \"route_group\": \"short\", \"name\": \"Solano County Transit\", \"caltrans_district\": \"04 - Oakland\", \"drmt_organization_name\": \"['recT79ohBnTB1fKsX']\", \"cutoff\": 0}, {\"calitp_itp_id\": 310, \"trip_key\": -3801396718114747764, \"trip_id\": \"1075\", \"shape_id\": \"10\", \"route_id\": \"7A\", \"service_hours\": 1.0, \"trip_first_departure_ts\": 38700, \"trip_last_arrival_ts\": 42300, \"departure_hour\": 10, \"time_of_day\": \"Midday\", \"p25\": 1.0, \"p50\": 1.0, \"p75\": 1.0, \"p50_trip\": 1, \"fastest_trip\": 0, \"car_duration_hours\": 0.77, \"competitive_route\": 1, \"bus_multiplier\": 1.3, \"bus_difference\": 13.8, \"num_trips\": 15, \"num_competitive\": 15, \"pct_trips_competitive\": 1.0, \"bus_multiplier_spread\": 0.0, \"bus_difference_spread\": 0.0, \"route_group\": \"short\", \"name\": \"Solano County Transit\", \"caltrans_district\": \"04 - Oakland\", \"drmt_organization_name\": \"['recT79ohBnTB1fKsX']\", \"cutoff\": 0}, {\"calitp_itp_id\": 310, \"trip_key\": 3555369193555928407, \"trip_id\": \"1098\", \"shape_id\": \"10\", \"route_id\": \"7A\", \"service_hours\": 1.0, \"trip_first_departure_ts\": 71100, \"trip_last_arrival_ts\": 74700, \"departure_hour\": 19, \"time_of_day\": \"PM Peak\", \"p25\": 1.0, \"p50\": 1.0, \"p75\": 1.0, \"p50_trip\": 1, \"fastest_trip\": 0, \"car_duration_hours\": 0.77, \"competitive_route\": 1, \"bus_multiplier\": 1.3, \"bus_difference\": 13.8, \"num_trips\": 15, \"num_competitive\": 15, \"pct_trips_competitive\": 1.0, \"bus_multiplier_spread\": 0.0, \"bus_difference_spread\": 0.0, \"route_group\": \"short\", \"name\": \"Solano County Transit\", \"caltrans_district\": \"04 - Oakland\", \"drmt_organization_name\": \"['recT79ohBnTB1fKsX']\", \"cutoff\": 0}, {\"calitp_itp_id\": 310, \"trip_key\": -7612102933413698873, \"trip_id\": \"1084\", \"shape_id\": \"10\", \"route_id\": \"7A\", \"service_hours\": 1.0, \"trip_first_departure_ts\": 49500, \"trip_last_arrival_ts\": 53100, \"departure_hour\": 13, \"time_of_day\": \"Midday\", \"p25\": 1.0, \"p50\": 1.0, \"p75\": 1.0, \"p50_trip\": 1, \"fastest_trip\": 0, \"car_duration_hours\": 0.77, \"competitive_route\": 1, \"bus_multiplier\": 1.3, \"bus_difference\": 13.8, \"num_trips\": 15, \"num_competitive\": 15, \"pct_trips_competitive\": 1.0, \"bus_multiplier_spread\": 0.0, \"bus_difference_spread\": 0.0, \"route_group\": \"short\", \"name\": \"Solano County Transit\", \"caltrans_district\": \"04 - Oakland\", \"drmt_organization_name\": \"['recT79ohBnTB1fKsX']\", \"cutoff\": 0}, {\"calitp_itp_id\": 310, \"trip_key\": 9090745400368182860, \"trip_id\": \"1069\", \"shape_id\": \"10\", \"route_id\": \"7A\", \"service_hours\": 1.0, \"trip_first_departure_ts\": 31500, \"trip_last_arrival_ts\": 35100, \"departure_hour\": 8, \"time_of_day\": \"AM Peak\", \"p25\": 1.0, \"p50\": 1.0, \"p75\": 1.0, \"p50_trip\": 1, \"fastest_trip\": 0, \"car_duration_hours\": 0.77, \"competitive_route\": 1, \"bus_multiplier\": 1.3, \"bus_difference\": 13.8, \"num_trips\": 15, \"num_competitive\": 15, \"pct_trips_competitive\": 1.0, \"bus_multiplier_spread\": 0.0, \"bus_difference_spread\": 0.0, \"route_group\": \"short\", \"name\": \"Solano County Transit\", \"caltrans_district\": \"04 - Oakland\", \"drmt_organization_name\": \"['recT79ohBnTB1fKsX']\", \"cutoff\": 0}, {\"calitp_itp_id\": 310, \"trip_key\": -6662624582280621192, \"trip_id\": \"1087\", \"shape_id\": \"10\", \"route_id\": \"7A\", \"service_hours\": 1.0, \"trip_first_departure_ts\": 53100, \"trip_last_arrival_ts\": 56700, \"departure_hour\": 14, \"time_of_day\": \"Midday\", \"p25\": 1.0, \"p50\": 1.0, \"p75\": 1.0, \"p50_trip\": 1, \"fastest_trip\": 0, \"car_duration_hours\": 0.77, \"competitive_route\": 1, \"bus_multiplier\": 1.3, \"bus_difference\": 13.8, \"num_trips\": 15, \"num_competitive\": 15, \"pct_trips_competitive\": 1.0, \"bus_multiplier_spread\": 0.0, \"bus_difference_spread\": 0.0, \"route_group\": \"short\", \"name\": \"Solano County Transit\", \"caltrans_district\": \"04 - Oakland\", \"drmt_organization_name\": \"['recT79ohBnTB1fKsX']\", \"cutoff\": 0}, {\"calitp_itp_id\": 310, \"trip_key\": -6607227710157058801, \"trip_id\": \"1096\", \"shape_id\": \"10\", \"route_id\": \"7A\", \"service_hours\": 1.0, \"trip_first_departure_ts\": 63900, \"trip_last_arrival_ts\": 67500, \"departure_hour\": 17, \"time_of_day\": \"PM Peak\", \"p25\": 1.0, \"p50\": 1.0, \"p75\": 1.0, \"p50_trip\": 1, \"fastest_trip\": 0, \"car_duration_hours\": 0.77, \"competitive_route\": 1, \"bus_multiplier\": 1.3, \"bus_difference\": 13.8, \"num_trips\": 15, \"num_competitive\": 15, \"pct_trips_competitive\": 1.0, \"bus_multiplier_spread\": 0.0, \"bus_difference_spread\": 0.0, \"route_group\": \"short\", \"name\": \"Solano County Transit\", \"caltrans_district\": \"04 - Oakland\", \"drmt_organization_name\": \"['recT79ohBnTB1fKsX']\", \"cutoff\": 0}, {\"calitp_itp_id\": 310, \"trip_key\": 75175244298657360, \"trip_id\": \"1090\", \"shape_id\": \"10\", \"route_id\": \"7A\", \"service_hours\": 1.0, \"trip_first_departure_ts\": 56700, \"trip_last_arrival_ts\": 60300, \"departure_hour\": 15, \"time_of_day\": \"Midday\", \"p25\": 1.0, \"p50\": 1.0, \"p75\": 1.0, \"p50_trip\": 1, \"fastest_trip\": 0, \"car_duration_hours\": 0.77, \"competitive_route\": 1, \"bus_multiplier\": 1.3, \"bus_difference\": 13.8, \"num_trips\": 15, \"num_competitive\": 15, \"pct_trips_competitive\": 1.0, \"bus_multiplier_spread\": 0.0, \"bus_difference_spread\": 0.0, \"route_group\": \"short\", \"name\": \"Solano County Transit\", \"caltrans_district\": \"04 - Oakland\", \"drmt_organization_name\": \"['recT79ohBnTB1fKsX']\", \"cutoff\": 0}, {\"calitp_itp_id\": 310, \"trip_key\": 8811729153955021229, \"trip_id\": \"1072\", \"shape_id\": \"10\", \"route_id\": \"7A\", \"service_hours\": 1.0, \"trip_first_departure_ts\": 35100, \"trip_last_arrival_ts\": 38700, \"departure_hour\": 9, \"time_of_day\": \"AM Peak\", \"p25\": 1.0, \"p50\": 1.0, \"p75\": 1.0, \"p50_trip\": 1, \"fastest_trip\": 0, \"car_duration_hours\": 0.77, \"competitive_route\": 1, \"bus_multiplier\": 1.3, \"bus_difference\": 13.8, \"num_trips\": 15, \"num_competitive\": 15, \"pct_trips_competitive\": 1.0, \"bus_multiplier_spread\": 0.0, \"bus_difference_spread\": 0.0, \"route_group\": \"short\", \"name\": \"Solano County Transit\", \"caltrans_district\": \"04 - Oakland\", \"drmt_organization_name\": \"['recT79ohBnTB1fKsX']\", \"cutoff\": 0}, {\"calitp_itp_id\": 310, \"trip_key\": -4539065179735711766, \"trip_id\": \"1093\", \"shape_id\": \"10\", \"route_id\": \"7A\", \"service_hours\": 1.0, \"trip_first_departure_ts\": 60300, \"trip_last_arrival_ts\": 63900, \"departure_hour\": 16, \"time_of_day\": \"Midday\", \"p25\": 1.0, \"p50\": 1.0, \"p75\": 1.0, \"p50_trip\": 1, \"fastest_trip\": 0, \"car_duration_hours\": 0.77, \"competitive_route\": 1, \"bus_multiplier\": 1.3, \"bus_difference\": 13.8, \"num_trips\": 15, \"num_competitive\": 15, \"pct_trips_competitive\": 1.0, \"bus_multiplier_spread\": 0.0, \"bus_difference_spread\": 0.0, \"route_group\": \"short\", \"name\": \"Solano County Transit\", \"caltrans_district\": \"04 - Oakland\", \"drmt_organization_name\": \"['recT79ohBnTB1fKsX']\", \"cutoff\": 0}]}}, {\"mode\": \"vega-lite\"});\n",
       "</script>"
      ],
      "text/plain": [
       "alt.FacetChart(...)"
      ]
     },
     "execution_count": 14,
     "metadata": {},
     "output_type": "execute_result"
    }
   ],
   "source": [
    "s2"
   ]
  }
 ],
 "metadata": {
  "kernelspec": {
   "display_name": "Python 3 (ipykernel)",
   "language": "python",
   "name": "python3"
  },
  "language_info": {
   "codemirror_mode": {
    "name": "ipython",
    "version": 3
   },
   "file_extension": ".py",
   "mimetype": "text/x-python",
   "name": "python",
   "nbconvert_exporter": "python",
   "pygments_lexer": "ipython3",
   "version": "3.9.10"
  },
  "papermill": {
   "default_parameters": {},
   "duration": 34.0815,
   "end_time": "2022-04-27T23:14:37.576518",
   "environment_variables": {},
   "exception": null,
   "input_path": "bus_service_increase/stripplot.ipynb",
   "output_path": "portfolio/parallel_corridors/district_4/stripplot__itp_id_310.ipynb",
   "parameters": {
    "district": 4,
    "itp_id": 310
   },
   "start_time": "2022-04-27T23:14:03.495018",
   "version": "2.3.4"
  }
 },
 "nbformat": 4,
 "nbformat_minor": 5
}