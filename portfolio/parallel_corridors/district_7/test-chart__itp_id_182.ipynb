{
 "cells": [
  {
   "cell_type": "code",
   "execution_count": 1,
   "id": "a244917f-f784-477f-83e3-f9068b92f668",
   "metadata": {
    "execution": {
     "iopub.execute_input": "2022-04-28T18:26:52.724947Z",
     "iopub.status.busy": "2022-04-28T18:26:52.724353Z",
     "iopub.status.idle": "2022-04-28T18:27:02.006265Z",
     "shell.execute_reply": "2022-04-28T18:27:02.005192Z"
    },
    "jupyter": {
     "source_hidden": true
    },
    "papermill": {
     "duration": 9.293452,
     "end_time": "2022-04-28T18:27:02.008978",
     "exception": false,
     "start_time": "2022-04-28T18:26:52.715526",
     "status": "completed"
    },
    "tags": [
     "remove_input"
    ]
   },
   "outputs": [],
   "source": [
    "%%capture\n",
    "import warnings\n",
    "warnings.filterwarnings('ignore')\n",
    "\n",
    "import altair as alt\n",
    "import calitp.magics\n",
    "import geopandas as gpd\n",
    "import intake\n",
    "import pandas as pd\n",
    "\n",
    "from IPython.display import display, Markdown, HTML\n",
    "\n",
    "import parallel_corridors_utils\n",
    "from shared_utils import styleguide\n",
    "from shared_utils import calitp_color_palette as cp\n",
    "\n",
    "catalog = intake.open_catalog(\"./*.yml\")\n",
    "alt.renderers.enable(\"html\")\n",
    "alt.themes.register(\"calitp_theme\", styleguide.calitp_theme)"
   ]
  },
  {
   "cell_type": "code",
   "execution_count": 2,
   "id": "8bdfead1-a7b7-4399-9fc2-5592829c79b1",
   "metadata": {
    "execution": {
     "iopub.execute_input": "2022-04-28T18:27:02.023676Z",
     "iopub.status.busy": "2022-04-28T18:27:02.023360Z",
     "iopub.status.idle": "2022-04-28T18:27:02.027811Z",
     "shell.execute_reply": "2022-04-28T18:27:02.026849Z"
    },
    "jupyter": {
     "source_hidden": true
    },
    "papermill": {
     "duration": 0.014515,
     "end_time": "2022-04-28T18:27:02.030060",
     "exception": false,
     "start_time": "2022-04-28T18:27:02.015545",
     "status": "completed"
    },
    "tags": [
     "parameters",
     "remove_input"
    ]
   },
   "outputs": [],
   "source": [
    "# parameters cell\n",
    "itp_id = 182\n",
    "district = 7"
   ]
  },
  {
   "cell_type": "code",
   "execution_count": 3,
   "id": "ee18a138",
   "metadata": {
    "execution": {
     "iopub.execute_input": "2022-04-28T18:27:02.046663Z",
     "iopub.status.busy": "2022-04-28T18:27:02.046189Z",
     "iopub.status.idle": "2022-04-28T18:27:02.052452Z",
     "shell.execute_reply": "2022-04-28T18:27:02.051565Z"
    },
    "jupyter": {
     "source_hidden": true
    },
    "papermill": {
     "duration": 0.019045,
     "end_time": "2022-04-28T18:27:02.055017",
     "exception": false,
     "start_time": "2022-04-28T18:27:02.035972",
     "status": "completed"
    },
    "tags": [
     "injected-parameters",
     "remove_input"
    ]
   },
   "outputs": [],
   "source": [
    "# Parameters\n",
    "district = 7\n",
    "itp_id = 182\n"
   ]
  },
  {
   "cell_type": "code",
   "execution_count": 4,
   "id": "634a4571-3431-4786-913f-c44624fe7265",
   "metadata": {
    "execution": {
     "iopub.execute_input": "2022-04-28T18:27:02.069611Z",
     "iopub.status.busy": "2022-04-28T18:27:02.069104Z",
     "iopub.status.idle": "2022-04-28T18:27:02.074556Z",
     "shell.execute_reply": "2022-04-28T18:27:02.073957Z"
    },
    "jupyter": {
     "source_hidden": true
    },
    "papermill": {
     "duration": 0.014797,
     "end_time": "2022-04-28T18:27:02.076345",
     "exception": false,
     "start_time": "2022-04-28T18:27:02.061548",
     "status": "completed"
    },
    "tags": [
     "remove_input"
    ]
   },
   "outputs": [],
   "source": [
    "%%capture_parameters\n",
    "itp_id, district"
   ]
  },
  {
   "cell_type": "markdown",
   "id": "a421489f-b3ea-482b-bb8e-e7a9bdbca402",
   "metadata": {
    "papermill": {
     "duration": 0.006328,
     "end_time": "2022-04-28T18:27:02.089089",
     "exception": false,
     "start_time": "2022-04-28T18:27:02.082761",
     "status": "completed"
    },
    "tags": []
   },
   "source": [
    "# Parameterized: 182 in district 7\n",
    "\n",
    "Test if altair chart renders."
   ]
  },
  {
   "cell_type": "code",
   "execution_count": 5,
   "id": "e6257b82-2e84-411d-a967-42d2b866878c",
   "metadata": {
    "execution": {
     "iopub.execute_input": "2022-04-28T18:27:02.104832Z",
     "iopub.status.busy": "2022-04-28T18:27:02.104297Z",
     "iopub.status.idle": "2022-04-28T18:27:03.410440Z",
     "shell.execute_reply": "2022-04-28T18:27:03.409817Z"
    },
    "jupyter": {
     "source_hidden": true
    },
    "papermill": {
     "duration": 1.316163,
     "end_time": "2022-04-28T18:27:03.412587",
     "exception": false,
     "start_time": "2022-04-28T18:27:02.096424",
     "status": "completed"
    },
    "tags": [
     "remove_input"
    ]
   },
   "outputs": [],
   "source": [
    "df = catalog.competitive_route_variability.read()\n",
    "\n",
    "df = (df[(df.calitp_itp_id == itp_id) & \n",
    "         (df.route_group.notna())]\n",
    "      .reset_index(drop=True)\n",
    "     )\n",
    "\n",
    "\n",
    "if itp_id == 182:\n",
    "    df = df.assign(\n",
    "        route_id = df.route_id.str.replace('-13153', '').astype(int)\n",
    "    )"
   ]
  },
  {
   "cell_type": "code",
   "execution_count": 6,
   "id": "7507a2c5-0e9b-4872-98ac-c35981221d06",
   "metadata": {
    "execution": {
     "iopub.execute_input": "2022-04-28T18:27:03.428510Z",
     "iopub.status.busy": "2022-04-28T18:27:03.428219Z",
     "iopub.status.idle": "2022-04-28T18:27:03.437083Z",
     "shell.execute_reply": "2022-04-28T18:27:03.436158Z"
    },
    "jupyter": {
     "source_hidden": true
    },
    "papermill": {
     "duration": 0.019309,
     "end_time": "2022-04-28T18:27:03.439282",
     "exception": false,
     "start_time": "2022-04-28T18:27:03.419973",
     "status": "completed"
    },
    "tags": [
     "remove_input"
    ]
   },
   "outputs": [],
   "source": [
    "agg_df = df.groupby([\"route_id\"]).agg({\"service_hours\": \"sum\"}).reset_index()"
   ]
  },
  {
   "cell_type": "code",
   "execution_count": 7,
   "id": "3160f5dd-3dd7-4dd9-a6cb-b80f385eb7ea",
   "metadata": {
    "execution": {
     "iopub.execute_input": "2022-04-28T18:27:03.459627Z",
     "iopub.status.busy": "2022-04-28T18:27:03.459347Z",
     "iopub.status.idle": "2022-04-28T18:27:03.494354Z",
     "shell.execute_reply": "2022-04-28T18:27:03.493401Z"
    },
    "jupyter": {
     "source_hidden": true
    },
    "papermill": {
     "duration": 0.047022,
     "end_time": "2022-04-28T18:27:03.497534",
     "exception": false,
     "start_time": "2022-04-28T18:27:03.450512",
     "status": "completed"
    },
    "tags": [
     "remove_input"
    ]
   },
   "outputs": [
    {
     "data": {
      "text/html": [
       "\n",
       "<div id=\"altair-viz-fc4a6fc766f541f294f1f4a5d7a77f3d\"></div>\n",
       "<script type=\"text/javascript\">\n",
       "  var VEGA_DEBUG = (typeof VEGA_DEBUG == \"undefined\") ? {} : VEGA_DEBUG;\n",
       "  (function(spec, embedOpt){\n",
       "    let outputDiv = document.currentScript.previousElementSibling;\n",
       "    if (outputDiv.id !== \"altair-viz-fc4a6fc766f541f294f1f4a5d7a77f3d\") {\n",
       "      outputDiv = document.getElementById(\"altair-viz-fc4a6fc766f541f294f1f4a5d7a77f3d\");\n",
       "    }\n",
       "    const paths = {\n",
       "      \"vega\": \"https://cdn.jsdelivr.net/npm//vega@5?noext\",\n",
       "      \"vega-lib\": \"https://cdn.jsdelivr.net/npm//vega-lib?noext\",\n",
       "      \"vega-lite\": \"https://cdn.jsdelivr.net/npm//vega-lite@4.17.0?noext\",\n",
       "      \"vega-embed\": \"https://cdn.jsdelivr.net/npm//vega-embed@6?noext\",\n",
       "    };\n",
       "\n",
       "    function maybeLoadScript(lib, version) {\n",
       "      var key = `${lib.replace(\"-\", \"\")}_version`;\n",
       "      return (VEGA_DEBUG[key] == version) ?\n",
       "        Promise.resolve(paths[lib]) :\n",
       "        new Promise(function(resolve, reject) {\n",
       "          var s = document.createElement('script');\n",
       "          document.getElementsByTagName(\"head\")[0].appendChild(s);\n",
       "          s.async = true;\n",
       "          s.onload = () => {\n",
       "            VEGA_DEBUG[key] = version;\n",
       "            return resolve(paths[lib]);\n",
       "          };\n",
       "          s.onerror = () => reject(`Error loading script: ${paths[lib]}`);\n",
       "          s.src = paths[lib];\n",
       "        });\n",
       "    }\n",
       "\n",
       "    function showError(err) {\n",
       "      outputDiv.innerHTML = `<div class=\"error\" style=\"color:red;\">${err}</div>`;\n",
       "      throw err;\n",
       "    }\n",
       "\n",
       "    function displayChart(vegaEmbed) {\n",
       "      vegaEmbed(outputDiv, spec, embedOpt)\n",
       "        .catch(err => showError(`Javascript Error: ${err.message}<br>This usually means there's a typo in your chart specification. See the javascript console for the full traceback.`));\n",
       "    }\n",
       "\n",
       "    if(typeof define === \"function\" && define.amd) {\n",
       "      requirejs.config({paths});\n",
       "      require([\"vega-embed\"], displayChart, err => showError(`Error loading script: ${err.message}`));\n",
       "    } else {\n",
       "      maybeLoadScript(\"vega\", \"5\")\n",
       "        .then(() => maybeLoadScript(\"vega-lite\", \"4.17.0\"))\n",
       "        .then(() => maybeLoadScript(\"vega-embed\", \"6\"))\n",
       "        .catch(showError)\n",
       "        .then(() => displayChart(vegaEmbed));\n",
       "    }\n",
       "  })({\"config\": {\"view\": {\"continuousWidth\": 400, \"continuousHeight\": 300}}, \"data\": {\"name\": \"data-7331f64cf73c05297cbb99b23bd93e88\"}, \"mark\": \"bar\", \"encoding\": {\"color\": {\"field\": \"route_id\", \"scale\": {\"range\": [\"#2EA8CE\", \"#EB9F3C\", \"#F4D837\", \"#51BF9D\", \"#8CBCCB\", \"#9487C0\"]}, \"type\": \"nominal\"}, \"x\": {\"field\": \"route_id\", \"type\": \"nominal\"}, \"y\": {\"field\": \"service_hours\", \"type\": \"quantitative\"}}, \"title\": \"Chart Title\", \"width\": 800, \"$schema\": \"https://vega.github.io/schema/vega-lite/v4.17.0.json\", \"datasets\": {\"data-7331f64cf73c05297cbb99b23bd93e88\": [{\"route_id\": 2, \"service_hours\": 412.96999999999997}, {\"route_id\": 4, \"service_hours\": 528.8}, {\"route_id\": 10, \"service_hours\": 171.85}, {\"route_id\": 14, \"service_hours\": 232.6}, {\"route_id\": 16, \"service_hours\": 318.53}, {\"route_id\": 18, \"service_hours\": 341.18}, {\"route_id\": 28, \"service_hours\": 258.06}, {\"route_id\": 30, \"service_hours\": 221.93}, {\"route_id\": 33, \"service_hours\": 407.46999999999997}, {\"route_id\": 35, \"service_hours\": 115.24}, {\"route_id\": 40, \"service_hours\": 393.08}, {\"route_id\": 45, \"service_hours\": 280.24}, {\"route_id\": 51, \"service_hours\": 346.52}, {\"route_id\": 55, \"service_hours\": 166.13}, {\"route_id\": 62, \"service_hours\": 109.94}, {\"route_id\": 66, \"service_hours\": 237.94}, {\"route_id\": 70, \"service_hours\": 361.6}, {\"route_id\": 76, \"service_hours\": 168.24}, {\"route_id\": 81, \"service_hours\": 215.71}, {\"route_id\": 92, \"service_hours\": 183.60999999999999}, {\"route_id\": 94, \"service_hours\": 183.89}, {\"route_id\": 96, \"service_hours\": 40.41}, {\"route_id\": 106, \"service_hours\": 142.69}, {\"route_id\": 117, \"service_hours\": 191.07999999999998}, {\"route_id\": 120, \"service_hours\": 107.03}, {\"route_id\": 125, \"service_hours\": 142.88}, {\"route_id\": 128, \"service_hours\": 34.97}, {\"route_id\": 130, \"service_hours\": 31.46}, {\"route_id\": 150, \"service_hours\": 86.52}, {\"route_id\": 154, \"service_hours\": 28.61}, {\"route_id\": 155, \"service_hours\": 55.59}, {\"route_id\": 161, \"service_hours\": 48.769999999999996}, {\"route_id\": 177, \"service_hours\": 14.399999999999999}, {\"route_id\": 180, \"service_hours\": 279.03000000000003}, {\"route_id\": 182, \"service_hours\": 70.13}, {\"route_id\": 202, \"service_hours\": 20.11}, {\"route_id\": 204, \"service_hours\": 270.36}, {\"route_id\": 205, \"service_hours\": 129.35999999999999}, {\"route_id\": 211, \"service_hours\": 21.67}, {\"route_id\": 222, \"service_hours\": 68.97}, {\"route_id\": 224, \"service_hours\": 139.75}, {\"route_id\": 230, \"service_hours\": 69.07000000000001}, {\"route_id\": 232, \"service_hours\": 170.25}, {\"route_id\": 233, \"service_hours\": 218.05}, {\"route_id\": 234, \"service_hours\": 214.77}, {\"route_id\": 236, \"service_hours\": 65.6}, {\"route_id\": 237, \"service_hours\": 57.51}, {\"route_id\": 240, \"service_hours\": 265.73}, {\"route_id\": 244, \"service_hours\": 38.85}, {\"route_id\": 246, \"service_hours\": 73.26}, {\"route_id\": 256, \"service_hours\": 54.08}, {\"route_id\": 258, \"service_hours\": 82.39}, {\"route_id\": 260, \"service_hours\": 245.9}, {\"route_id\": 267, \"service_hours\": 41.88}, {\"route_id\": 287, \"service_hours\": 48.88}, {\"route_id\": 294, \"service_hours\": 59.93}, {\"route_id\": 344, \"service_hours\": 48.55}, {\"route_id\": 460, \"service_hours\": 154.10999999999999}, {\"route_id\": 487, \"service_hours\": 56.36}, {\"route_id\": 501, \"service_hours\": 71.15}, {\"route_id\": 534, \"service_hours\": 46.34}, {\"route_id\": 550, \"service_hours\": 34.8}, {\"route_id\": 577, \"service_hours\": 58.0}, {\"route_id\": 601, \"service_hours\": 23.23}, {\"route_id\": 611, \"service_hours\": 41.16}, {\"route_id\": 660, \"service_hours\": 27.09}, {\"route_id\": 662, \"service_hours\": 68.45}, {\"route_id\": 665, \"service_hours\": 11.34}, {\"route_id\": 690, \"service_hours\": 59.36}, {\"route_id\": 754, \"service_hours\": 177.2}, {\"route_id\": 761, \"service_hours\": 230.92}, {\"route_id\": 901, \"service_hours\": 224.3}]}}, {\"mode\": \"vega-lite\"});\n",
       "</script>"
      ],
      "text/plain": [
       "alt.Chart(...)"
      ]
     },
     "execution_count": 7,
     "metadata": {},
     "output_type": "execute_result"
    }
   ],
   "source": [
    "chart = (alt.Chart(agg_df)\n",
    "         .mark_bar()\n",
    "         .encode(\n",
    "             x=\"route_id:N\",\n",
    "             y=\"service_hours:Q\",\n",
    "             color=alt.Color(\"route_id:N\",\n",
    "                 scale=alt.Scale(range=cp.CALITP_CATEGORY_BRIGHT_COLORS))\n",
    "         ).properties(title=\"Chart Title\", width=800)\n",
    "        )\n",
    "\n",
    "chart"
   ]
  },
  {
   "cell_type": "code",
   "execution_count": null,
   "id": "5abd10fb-d850-4c80-aec9-2ad931423399",
   "metadata": {
    "jupyter": {
     "source_hidden": true
    },
    "papermill": {
     "duration": 0.007001,
     "end_time": "2022-04-28T18:27:03.513067",
     "exception": false,
     "start_time": "2022-04-28T18:27:03.506066",
     "status": "completed"
    },
    "tags": [
     "remove_input"
    ]
   },
   "outputs": [],
   "source": []
  }
 ],
 "metadata": {
  "kernelspec": {
   "display_name": "Python 3 (ipykernel)",
   "language": "python",
   "name": "python3"
  },
  "language_info": {
   "codemirror_mode": {
    "name": "ipython",
    "version": 3
   },
   "file_extension": ".py",
   "mimetype": "text/x-python",
   "name": "python",
   "nbconvert_exporter": "python",
   "pygments_lexer": "ipython3",
   "version": "3.9.10"
  },
  "papermill": {
   "default_parameters": {},
   "duration": 13.289057,
   "end_time": "2022-04-28T18:27:04.646644",
   "environment_variables": {},
   "exception": null,
   "input_path": "bus_service_increase/test-chart.ipynb",
   "output_path": "portfolio/parallel_corridors/district_7/test-chart__itp_id_182.ipynb",
   "parameters": {
    "district": 7,
    "itp_id": 182
   },
   "start_time": "2022-04-28T18:26:51.357587",
   "version": "2.3.4"
  }
 },
 "nbformat": 4,
 "nbformat_minor": 5
}