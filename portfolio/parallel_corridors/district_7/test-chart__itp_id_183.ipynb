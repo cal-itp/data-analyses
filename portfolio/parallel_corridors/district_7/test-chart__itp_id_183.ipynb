{
 "cells": [
  {
   "cell_type": "code",
   "execution_count": 1,
   "id": "a244917f-f784-477f-83e3-f9068b92f668",
   "metadata": {
    "execution": {
     "iopub.execute_input": "2022-04-28T18:27:05.955693Z",
     "iopub.status.busy": "2022-04-28T18:27:05.954997Z",
     "iopub.status.idle": "2022-04-28T18:27:15.055254Z",
     "shell.execute_reply": "2022-04-28T18:27:15.054228Z"
    },
    "jupyter": {
     "source_hidden": true
    },
    "papermill": {
     "duration": 9.111241,
     "end_time": "2022-04-28T18:27:15.057821",
     "exception": false,
     "start_time": "2022-04-28T18:27:05.946580",
     "status": "completed"
    },
    "tags": [
     "remove_input"
    ]
   },
   "outputs": [],
   "source": [
    "%%capture\n",
    "import warnings\n",
    "warnings.filterwarnings('ignore')\n",
    "\n",
    "import altair as alt\n",
    "import calitp.magics\n",
    "import geopandas as gpd\n",
    "import intake\n",
    "import pandas as pd\n",
    "\n",
    "from IPython.display import display, Markdown, HTML\n",
    "\n",
    "import parallel_corridors_utils\n",
    "from shared_utils import styleguide\n",
    "from shared_utils import calitp_color_palette as cp\n",
    "\n",
    "catalog = intake.open_catalog(\"./*.yml\")\n",
    "alt.renderers.enable(\"html\")\n",
    "alt.themes.register(\"calitp_theme\", styleguide.calitp_theme)"
   ]
  },
  {
   "cell_type": "code",
   "execution_count": 2,
   "id": "8bdfead1-a7b7-4399-9fc2-5592829c79b1",
   "metadata": {
    "execution": {
     "iopub.execute_input": "2022-04-28T18:27:15.072928Z",
     "iopub.status.busy": "2022-04-28T18:27:15.071954Z",
     "iopub.status.idle": "2022-04-28T18:27:15.077049Z",
     "shell.execute_reply": "2022-04-28T18:27:15.075937Z"
    },
    "jupyter": {
     "source_hidden": true
    },
    "papermill": {
     "duration": 0.014742,
     "end_time": "2022-04-28T18:27:15.078924",
     "exception": false,
     "start_time": "2022-04-28T18:27:15.064182",
     "status": "completed"
    },
    "tags": [
     "parameters",
     "remove_input"
    ]
   },
   "outputs": [],
   "source": [
    "# parameters cell\n",
    "itp_id = 182\n",
    "district = 7"
   ]
  },
  {
   "cell_type": "code",
   "execution_count": 3,
   "id": "10345982",
   "metadata": {
    "execution": {
     "iopub.execute_input": "2022-04-28T18:27:15.093831Z",
     "iopub.status.busy": "2022-04-28T18:27:15.092906Z",
     "iopub.status.idle": "2022-04-28T18:27:15.097311Z",
     "shell.execute_reply": "2022-04-28T18:27:15.096757Z"
    },
    "jupyter": {
     "source_hidden": true
    },
    "papermill": {
     "duration": 0.013437,
     "end_time": "2022-04-28T18:27:15.099005",
     "exception": false,
     "start_time": "2022-04-28T18:27:15.085568",
     "status": "completed"
    },
    "tags": [
     "injected-parameters",
     "remove_input"
    ]
   },
   "outputs": [],
   "source": [
    "# Parameters\n",
    "district = 7\n",
    "itp_id = 183\n"
   ]
  },
  {
   "cell_type": "code",
   "execution_count": 4,
   "id": "634a4571-3431-4786-913f-c44624fe7265",
   "metadata": {
    "execution": {
     "iopub.execute_input": "2022-04-28T18:27:15.112972Z",
     "iopub.status.busy": "2022-04-28T18:27:15.112170Z",
     "iopub.status.idle": "2022-04-28T18:27:15.118856Z",
     "shell.execute_reply": "2022-04-28T18:27:15.117988Z"
    },
    "jupyter": {
     "source_hidden": true
    },
    "papermill": {
     "duration": 0.016408,
     "end_time": "2022-04-28T18:27:15.121266",
     "exception": false,
     "start_time": "2022-04-28T18:27:15.104858",
     "status": "completed"
    },
    "tags": [
     "remove_input"
    ]
   },
   "outputs": [],
   "source": [
    "%%capture_parameters\n",
    "itp_id, district"
   ]
  },
  {
   "cell_type": "markdown",
   "id": "a421489f-b3ea-482b-bb8e-e7a9bdbca402",
   "metadata": {
    "papermill": {
     "duration": 0.006353,
     "end_time": "2022-04-28T18:27:15.134149",
     "exception": false,
     "start_time": "2022-04-28T18:27:15.127796",
     "status": "completed"
    },
    "tags": []
   },
   "source": [
    "# Parameterized: 183 in district 7\n",
    "\n",
    "Test if altair chart renders."
   ]
  },
  {
   "cell_type": "code",
   "execution_count": 5,
   "id": "e6257b82-2e84-411d-a967-42d2b866878c",
   "metadata": {
    "execution": {
     "iopub.execute_input": "2022-04-28T18:27:15.158575Z",
     "iopub.status.busy": "2022-04-28T18:27:15.158291Z",
     "iopub.status.idle": "2022-04-28T18:27:16.411149Z",
     "shell.execute_reply": "2022-04-28T18:27:16.410460Z"
    },
    "jupyter": {
     "source_hidden": true
    },
    "papermill": {
     "duration": 1.263343,
     "end_time": "2022-04-28T18:27:16.413575",
     "exception": false,
     "start_time": "2022-04-28T18:27:15.150232",
     "status": "completed"
    },
    "tags": [
     "remove_input"
    ]
   },
   "outputs": [],
   "source": [
    "df = catalog.competitive_route_variability.read()\n",
    "\n",
    "df = (df[(df.calitp_itp_id == itp_id) & \n",
    "         (df.route_group.notna())]\n",
    "      .reset_index(drop=True)\n",
    "     )\n",
    "\n",
    "\n",
    "if itp_id == 182:\n",
    "    df = df.assign(\n",
    "        route_id = df.route_id.str.replace('-13153', '').astype(int)\n",
    "    )"
   ]
  },
  {
   "cell_type": "code",
   "execution_count": 6,
   "id": "7507a2c5-0e9b-4872-98ac-c35981221d06",
   "metadata": {
    "execution": {
     "iopub.execute_input": "2022-04-28T18:27:16.430428Z",
     "iopub.status.busy": "2022-04-28T18:27:16.430163Z",
     "iopub.status.idle": "2022-04-28T18:27:16.444225Z",
     "shell.execute_reply": "2022-04-28T18:27:16.438403Z"
    },
    "jupyter": {
     "source_hidden": true
    },
    "papermill": {
     "duration": 0.02665,
     "end_time": "2022-04-28T18:27:16.446934",
     "exception": false,
     "start_time": "2022-04-28T18:27:16.420284",
     "status": "completed"
    },
    "tags": [
     "remove_input"
    ]
   },
   "outputs": [],
   "source": [
    "agg_df = df.groupby([\"route_id\"]).agg({\"service_hours\": \"sum\"}).reset_index()"
   ]
  },
  {
   "cell_type": "code",
   "execution_count": 7,
   "id": "3160f5dd-3dd7-4dd9-a6cb-b80f385eb7ea",
   "metadata": {
    "execution": {
     "iopub.execute_input": "2022-04-28T18:27:16.462177Z",
     "iopub.status.busy": "2022-04-28T18:27:16.461901Z",
     "iopub.status.idle": "2022-04-28T18:27:16.496356Z",
     "shell.execute_reply": "2022-04-28T18:27:16.495327Z"
    },
    "jupyter": {
     "source_hidden": true
    },
    "papermill": {
     "duration": 0.04555,
     "end_time": "2022-04-28T18:27:16.498892",
     "exception": false,
     "start_time": "2022-04-28T18:27:16.453342",
     "status": "completed"
    },
    "tags": [
     "remove_input"
    ]
   },
   "outputs": [
    {
     "data": {
      "text/html": [
       "\n",
       "<div id=\"altair-viz-887e7603fd8c4756aa6310748dff6eaa\"></div>\n",
       "<script type=\"text/javascript\">\n",
       "  var VEGA_DEBUG = (typeof VEGA_DEBUG == \"undefined\") ? {} : VEGA_DEBUG;\n",
       "  (function(spec, embedOpt){\n",
       "    let outputDiv = document.currentScript.previousElementSibling;\n",
       "    if (outputDiv.id !== \"altair-viz-887e7603fd8c4756aa6310748dff6eaa\") {\n",
       "      outputDiv = document.getElementById(\"altair-viz-887e7603fd8c4756aa6310748dff6eaa\");\n",
       "    }\n",
       "    const paths = {\n",
       "      \"vega\": \"https://cdn.jsdelivr.net/npm//vega@5?noext\",\n",
       "      \"vega-lib\": \"https://cdn.jsdelivr.net/npm//vega-lib?noext\",\n",
       "      \"vega-lite\": \"https://cdn.jsdelivr.net/npm//vega-lite@4.17.0?noext\",\n",
       "      \"vega-embed\": \"https://cdn.jsdelivr.net/npm//vega-embed@6?noext\",\n",
       "    };\n",
       "\n",
       "    function maybeLoadScript(lib, version) {\n",
       "      var key = `${lib.replace(\"-\", \"\")}_version`;\n",
       "      return (VEGA_DEBUG[key] == version) ?\n",
       "        Promise.resolve(paths[lib]) :\n",
       "        new Promise(function(resolve, reject) {\n",
       "          var s = document.createElement('script');\n",
       "          document.getElementsByTagName(\"head\")[0].appendChild(s);\n",
       "          s.async = true;\n",
       "          s.onload = () => {\n",
       "            VEGA_DEBUG[key] = version;\n",
       "            return resolve(paths[lib]);\n",
       "          };\n",
       "          s.onerror = () => reject(`Error loading script: ${paths[lib]}`);\n",
       "          s.src = paths[lib];\n",
       "        });\n",
       "    }\n",
       "\n",
       "    function showError(err) {\n",
       "      outputDiv.innerHTML = `<div class=\"error\" style=\"color:red;\">${err}</div>`;\n",
       "      throw err;\n",
       "    }\n",
       "\n",
       "    function displayChart(vegaEmbed) {\n",
       "      vegaEmbed(outputDiv, spec, embedOpt)\n",
       "        .catch(err => showError(`Javascript Error: ${err.message}<br>This usually means there's a typo in your chart specification. See the javascript console for the full traceback.`));\n",
       "    }\n",
       "\n",
       "    if(typeof define === \"function\" && define.amd) {\n",
       "      requirejs.config({paths});\n",
       "      require([\"vega-embed\"], displayChart, err => showError(`Error loading script: ${err.message}`));\n",
       "    } else {\n",
       "      maybeLoadScript(\"vega\", \"5\")\n",
       "        .then(() => maybeLoadScript(\"vega-lite\", \"4.17.0\"))\n",
       "        .then(() => maybeLoadScript(\"vega-embed\", \"6\"))\n",
       "        .catch(showError)\n",
       "        .then(() => displayChart(vegaEmbed));\n",
       "    }\n",
       "  })({\"config\": {\"view\": {\"continuousWidth\": 400, \"continuousHeight\": 300}}, \"data\": {\"name\": \"data-91e1c9639828248c017e1971c97fa034\"}, \"mark\": \"bar\", \"encoding\": {\"color\": {\"field\": \"route_id\", \"scale\": {\"range\": [\"#2EA8CE\", \"#EB9F3C\", \"#F4D837\", \"#51BF9D\", \"#8CBCCB\", \"#9487C0\"]}, \"type\": \"nominal\"}, \"x\": {\"field\": \"route_id\", \"type\": \"nominal\"}, \"y\": {\"field\": \"service_hours\", \"type\": \"quantitative\"}}, \"title\": \"Chart Title\", \"width\": 800, \"$schema\": \"https://vega.github.io/schema/vega-lite/v4.17.0.json\", \"datasets\": {\"data-91e1c9639828248c017e1971c97fa034\": [{\"route_id\": \"1524\", \"service_hours\": 2.7199999999999998}, {\"route_id\": \"1757\", \"service_hours\": 50.019999999999996}, {\"route_id\": \"1758\", \"service_hours\": 50.019999999999996}, {\"route_id\": \"26\", \"service_hours\": 7.94}, {\"route_id\": \"28\", \"service_hours\": 19.37}, {\"route_id\": \"29\", \"service_hours\": 20.29}, {\"route_id\": \"30\", \"service_hours\": 53.12}, {\"route_id\": \"31\", \"service_hours\": 34.32}, {\"route_id\": \"4290\", \"service_hours\": 5.14}, {\"route_id\": \"4291\", \"service_hours\": 9.15}, {\"route_id\": \"4443\", \"service_hours\": 107.58000000000001}, {\"route_id\": \"4444\", \"service_hours\": 200.91}, {\"route_id\": \"4445\", \"service_hours\": 77.05}, {\"route_id\": \"4446\", \"service_hours\": 123.83999999999999}, {\"route_id\": \"4447\", \"service_hours\": 133.59}, {\"route_id\": \"4868\", \"service_hours\": 87.41}, {\"route_id\": \"4869\", \"service_hours\": 159.1}, {\"route_id\": \"564\", \"service_hours\": 22.41}, {\"route_id\": \"566\", \"service_hours\": 57.28}, {\"route_id\": \"567\", \"service_hours\": 23.86}, {\"route_id\": \"568\", \"service_hours\": 23.82}, {\"route_id\": \"574\", \"service_hours\": 23.2}, {\"route_id\": \"576\", \"service_hours\": 35.1}, {\"route_id\": \"603\", \"service_hours\": 22.41}, {\"route_id\": \"604\", \"service_hours\": 23.2}, {\"route_id\": \"708\", \"service_hours\": 25.650000000000002}, {\"route_id\": \"710\", \"service_hours\": 25.52}, {\"route_id\": \"711\", \"service_hours\": 48.0}, {\"route_id\": \"712\", \"service_hours\": 58.51}, {\"route_id\": \"713\", \"service_hours\": 33.93}, {\"route_id\": \"714\", \"service_hours\": 35.05}, {\"route_id\": \"715\", \"service_hours\": 35.510000000000005}, {\"route_id\": \"716\", \"service_hours\": 35.510000000000005}, {\"route_id\": \"799\", \"service_hours\": 24.23}, {\"route_id\": \"800\", \"service_hours\": 24.18}, {\"route_id\": \"856\", \"service_hours\": 27.22}, {\"route_id\": \"858\", \"service_hours\": 14.87}, {\"route_id\": \"867\", \"service_hours\": 27.27}, {\"route_id\": \"868\", \"service_hours\": 43.49}, {\"route_id\": \"869\", \"service_hours\": 17.4}, {\"route_id\": \"870\", \"service_hours\": 29.24}]}}, {\"mode\": \"vega-lite\"});\n",
       "</script>"
      ],
      "text/plain": [
       "alt.Chart(...)"
      ]
     },
     "execution_count": 7,
     "metadata": {},
     "output_type": "execute_result"
    }
   ],
   "source": [
    "chart = (alt.Chart(agg_df)\n",
    "         .mark_bar()\n",
    "         .encode(\n",
    "             x=\"route_id:N\",\n",
    "             y=\"service_hours:Q\",\n",
    "             color=alt.Color(\"route_id:N\",\n",
    "                 scale=alt.Scale(range=cp.CALITP_CATEGORY_BRIGHT_COLORS))\n",
    "         ).properties(title=\"Chart Title\", width=800)\n",
    "        )\n",
    "\n",
    "chart"
   ]
  },
  {
   "cell_type": "code",
   "execution_count": null,
   "id": "5abd10fb-d850-4c80-aec9-2ad931423399",
   "metadata": {
    "jupyter": {
     "source_hidden": true
    },
    "papermill": {
     "duration": 0.006984,
     "end_time": "2022-04-28T18:27:16.513114",
     "exception": false,
     "start_time": "2022-04-28T18:27:16.506130",
     "status": "completed"
    },
    "tags": [
     "remove_input"
    ]
   },
   "outputs": [],
   "source": []
  }
 ],
 "metadata": {
  "kernelspec": {
   "display_name": "Python 3 (ipykernel)",
   "language": "python",
   "name": "python3"
  },
  "language_info": {
   "codemirror_mode": {
    "name": "ipython",
    "version": 3
   },
   "file_extension": ".py",
   "mimetype": "text/x-python",
   "name": "python",
   "nbconvert_exporter": "python",
   "pygments_lexer": "ipython3",
   "version": "3.9.10"
  },
  "papermill": {
   "default_parameters": {},
   "duration": 13.073921,
   "end_time": "2022-04-28T18:27:17.745308",
   "environment_variables": {},
   "exception": null,
   "input_path": "bus_service_increase/test-chart.ipynb",
   "output_path": "portfolio/parallel_corridors/district_7/test-chart__itp_id_183.ipynb",
   "parameters": {
    "district": 7,
    "itp_id": 183
   },
   "start_time": "2022-04-28T18:27:04.671387",
   "version": "2.3.4"
  }
 },
 "nbformat": 4,
 "nbformat_minor": 5
}