version https://git-lfs.github.com/spec/v1
oid sha256:9edd8da2a9b20c22451b47de492f8b3f0a945bc25ee7019534f3b478d148e51f
size 665603
