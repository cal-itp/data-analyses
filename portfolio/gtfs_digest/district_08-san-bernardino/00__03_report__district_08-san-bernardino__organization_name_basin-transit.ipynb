version https://git-lfs.github.com/spec/v1
oid sha256:e527022bef14fbef5565cd03e8d5aa87188e982880b180dc46cb8e61eed33ca6
size 246390
