version https://git-lfs.github.com/spec/v1
oid sha256:d678babf2b1db400d85aa02830befdfadf8eb82f1a30b583c3d2e591842b6299
size 1377263
