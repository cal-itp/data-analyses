version https://git-lfs.github.com/spec/v1
oid sha256:3cc9ac5516cec97a15a678741700aec3cc92377f4c1581b12cb91ecc57b72727
size 1584003
