version https://git-lfs.github.com/spec/v1
oid sha256:32b6d45022ad8b6aa7b29a9dd5cd85458ea0ee8f452b700477a8ca7e584d2d14
size 1272678
