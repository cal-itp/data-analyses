version https://git-lfs.github.com/spec/v1
oid sha256:6608d062abc8e3f4a825484911f747990c74caed329d6ef586d196ee7292d1a7
size 319593
