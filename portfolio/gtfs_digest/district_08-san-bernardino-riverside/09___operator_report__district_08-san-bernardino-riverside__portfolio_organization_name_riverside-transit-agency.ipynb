version https://git-lfs.github.com/spec/v1
oid sha256:dc827dc0bf596cfb8d3cbebc41bd4cc56747d5a9a33ddbeefac0118493688376
size 12178240
