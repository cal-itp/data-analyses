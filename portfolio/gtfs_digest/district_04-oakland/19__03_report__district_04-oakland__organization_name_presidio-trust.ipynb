version https://git-lfs.github.com/spec/v1
oid sha256:1fd6c55eb0e6f93b84a105af940813708cc2647ab465b9cfb463ba1e1f84dcfc
size 584672
