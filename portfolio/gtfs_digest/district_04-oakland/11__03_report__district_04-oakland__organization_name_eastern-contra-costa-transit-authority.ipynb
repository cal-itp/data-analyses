version https://git-lfs.github.com/spec/v1
oid sha256:b1fa0e25507817793502ed7e8ba0368435825f11337da7c089b001834baa4a52
size 19965686
