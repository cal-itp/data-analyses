version https://git-lfs.github.com/spec/v1
oid sha256:a27d0fdb01d66edc6fdac843eae360ffd81d5e664c2b8a051cf5390df25ddbc2
size 2443416
