version https://git-lfs.github.com/spec/v1
oid sha256:fca4dda4efc6345a7b00719bb651b26e1ca54eb9f04fd518de165ea63c4c6149
size 106498
