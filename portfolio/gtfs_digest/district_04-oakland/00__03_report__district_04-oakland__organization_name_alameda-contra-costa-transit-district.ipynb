version https://git-lfs.github.com/spec/v1
oid sha256:cc2ceea8205f8d18b6970177e25743a5b9efde59b3230a4ffdc2a338fedc0dbd
size 62757933
