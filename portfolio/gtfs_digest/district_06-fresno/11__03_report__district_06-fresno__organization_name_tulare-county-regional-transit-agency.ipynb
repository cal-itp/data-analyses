version https://git-lfs.github.com/spec/v1
oid sha256:e71dc97827b649965a8a10f49e0bd4fe482d141991b2b1cd652e50686917203b
size 140574
