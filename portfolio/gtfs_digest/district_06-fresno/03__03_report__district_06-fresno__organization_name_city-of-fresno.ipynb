version https://git-lfs.github.com/spec/v1
oid sha256:7873bb24fc30481bcf35f6f6ad242c11192b6e795a06094b6dbac26c5b729ad3
size 10830830
