version https://git-lfs.github.com/spec/v1
oid sha256:f55274e2e437995f9477d1cc413c2cfd9df4af26dac4a4520d35e74e78bbf235
size 5253243
