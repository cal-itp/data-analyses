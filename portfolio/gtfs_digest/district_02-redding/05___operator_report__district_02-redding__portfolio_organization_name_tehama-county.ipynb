version https://git-lfs.github.com/spec/v1
oid sha256:bbe7f8f222aeef1d9265c0ffc5fa7772d8e534ef2e455fb7a7261d88601eb88b
size 411214
