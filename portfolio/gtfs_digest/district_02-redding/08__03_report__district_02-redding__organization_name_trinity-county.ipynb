version https://git-lfs.github.com/spec/v1
oid sha256:06bba4cd3fb23a60b340131c66d4da14875e69364e762ee9219202ad23388f0a
size 357428
