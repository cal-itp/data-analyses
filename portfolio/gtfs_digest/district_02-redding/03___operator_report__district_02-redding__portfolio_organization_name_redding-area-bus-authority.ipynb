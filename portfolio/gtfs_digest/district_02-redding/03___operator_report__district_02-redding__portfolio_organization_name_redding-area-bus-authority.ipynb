version https://git-lfs.github.com/spec/v1
oid sha256:6b15cd3946f8c73f0de72f373be16f91be7c2bb83cfc11fb9b3df21c7ebd61a4
size 3191124
