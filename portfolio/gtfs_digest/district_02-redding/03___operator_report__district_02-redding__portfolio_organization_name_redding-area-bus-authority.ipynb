version https://git-lfs.github.com/spec/v1
oid sha256:65213d8309744b1fd85f7708d36a4cf3b78640ddb6af89af20a99b151d9c7de2
size 3191054
