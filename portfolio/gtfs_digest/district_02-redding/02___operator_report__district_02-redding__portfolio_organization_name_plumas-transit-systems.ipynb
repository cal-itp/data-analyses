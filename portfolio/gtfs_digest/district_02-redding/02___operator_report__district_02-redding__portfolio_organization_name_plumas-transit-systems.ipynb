version https://git-lfs.github.com/spec/v1
oid sha256:0598170981b3c0b6499806d93a64738a5e7b734fcfc1d17ca1be3c70cc0f5f6c
size 207309
