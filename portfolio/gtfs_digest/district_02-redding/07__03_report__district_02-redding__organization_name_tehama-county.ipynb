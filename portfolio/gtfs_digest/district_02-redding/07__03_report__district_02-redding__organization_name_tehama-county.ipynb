version https://git-lfs.github.com/spec/v1
oid sha256:67e3b322003371d693cc4a6a7df2dfd1c0fc810d2f13354b7d0487b1ccf3ece5
size 864748
