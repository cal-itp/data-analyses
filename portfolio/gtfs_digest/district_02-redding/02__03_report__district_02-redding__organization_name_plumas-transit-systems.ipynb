version https://git-lfs.github.com/spec/v1
oid sha256:6d28e72ae310dd1e480d09cc84e752094ffa26a6532edcdda4cd4ffa5db46692
size 245351
