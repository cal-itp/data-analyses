version https://git-lfs.github.com/spec/v1
oid sha256:84357c3061e3b0b0c9b65980d921eb1a9ccd2ad31d204b244fcab2e460e8cf44
size 310477
