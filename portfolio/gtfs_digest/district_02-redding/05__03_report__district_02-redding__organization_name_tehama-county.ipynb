version https://git-lfs.github.com/spec/v1
oid sha256:493f245a101fa195ae326327d6614b255ec632e7839c08bb23b40c6a2f7f25ec
size 476666
