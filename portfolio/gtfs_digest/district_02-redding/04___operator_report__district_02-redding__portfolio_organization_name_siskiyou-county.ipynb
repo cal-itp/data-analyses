version https://git-lfs.github.com/spec/v1
oid sha256:6f30adb4191e8095d4b33fb9a3a95c0a80dcf82b904daaa243dcdf13bb024dc2
size 528809
