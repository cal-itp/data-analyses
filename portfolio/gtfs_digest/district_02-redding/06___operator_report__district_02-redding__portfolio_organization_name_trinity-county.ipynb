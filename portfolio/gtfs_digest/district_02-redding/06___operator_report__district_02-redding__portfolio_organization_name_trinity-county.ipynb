version https://git-lfs.github.com/spec/v1
oid sha256:01af4c78a358cbcd72ce2a9acdc7b346ab36e3e184e5b50d500c9608afeaec64
size 296996
