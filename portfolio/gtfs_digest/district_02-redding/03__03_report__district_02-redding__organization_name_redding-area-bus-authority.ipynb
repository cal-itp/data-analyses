version https://git-lfs.github.com/spec/v1
oid sha256:24b58a59c174d97148703bd397bd2a241f417623b8bbfbff475e73731fb0f9bc
size 7938064
