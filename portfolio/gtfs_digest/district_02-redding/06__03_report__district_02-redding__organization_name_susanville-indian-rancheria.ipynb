version https://git-lfs.github.com/spec/v1
oid sha256:8bda6d7229fd15d56b39784ccca312c793d6a05eb57ab4a50cb82b2a2c24b258
size 1710787
