version https://git-lfs.github.com/spec/v1
oid sha256:62199f1e47bdd1217f29de0a24686dcdbe7ae9f1fd0b63fe0141df3b9a6ef5d8
size 22682306
