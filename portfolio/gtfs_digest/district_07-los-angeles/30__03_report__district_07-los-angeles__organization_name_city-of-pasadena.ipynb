version https://git-lfs.github.com/spec/v1
oid sha256:f1674712c593628b0eb4e31c6838be138be312b909dda5d8777923f4b48ee553
size 4317572
