version https://git-lfs.github.com/spec/v1
oid sha256:71dd261d505799e5f89690ffc19dd8bd99645598bbf103ef8b01a9ea43ed9ed2
size 673352
