version https://git-lfs.github.com/spec/v1
oid sha256:c8a2517faa01905ddf139e8e35687955f1575028d830f2f02c45bce1e7427e61
size 10049428
