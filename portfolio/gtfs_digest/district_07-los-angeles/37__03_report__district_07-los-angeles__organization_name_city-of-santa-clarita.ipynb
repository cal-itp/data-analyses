version https://git-lfs.github.com/spec/v1
oid sha256:52f41e1ef93a427904cb0eb64edfac2a69ce452097ba206738aae30e550ec4b8
size 16081457
