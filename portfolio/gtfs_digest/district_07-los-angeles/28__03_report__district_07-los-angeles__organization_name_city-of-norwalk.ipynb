version https://git-lfs.github.com/spec/v1
oid sha256:da93f3dc8eaef23a1f96d45e74344d4b14dcf4e53b45b7075ae0796c3682a430
size 2509484
