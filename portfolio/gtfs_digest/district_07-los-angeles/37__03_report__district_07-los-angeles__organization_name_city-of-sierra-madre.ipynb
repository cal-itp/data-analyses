version https://git-lfs.github.com/spec/v1
oid sha256:e5a4926bc57e980959d9ac767ad0c3c0c4a89c3f54922c5306d2d3ab1fc44f05
size 62392
