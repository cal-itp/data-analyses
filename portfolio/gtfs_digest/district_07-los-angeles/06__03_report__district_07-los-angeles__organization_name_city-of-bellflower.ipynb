version https://git-lfs.github.com/spec/v1
oid sha256:6dc13cc1a4982c035e360a07b56fe713ebe4cfe297ecfa396bda77ddb005a84a
size 110693
