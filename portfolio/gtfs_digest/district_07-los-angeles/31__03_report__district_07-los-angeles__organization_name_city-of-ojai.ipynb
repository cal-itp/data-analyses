version https://git-lfs.github.com/spec/v1
oid sha256:bf58248d5848a9e2c4b85762f6d1e6273006c2b32268813576bd792def36e311
size 22222010
