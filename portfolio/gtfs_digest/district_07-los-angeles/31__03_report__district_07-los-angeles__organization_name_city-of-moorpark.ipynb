version https://git-lfs.github.com/spec/v1
oid sha256:6f432b5b3b8ea4fcd5a410dba79e9997f5597faaab86450ce8b4c957b561c412
size 27111637
