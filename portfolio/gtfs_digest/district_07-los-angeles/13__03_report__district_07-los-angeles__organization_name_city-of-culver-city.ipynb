version https://git-lfs.github.com/spec/v1
oid sha256:fc1e5f092cbb999cdda98712e764d373f4aef3b9d8083ffca1b283210f400ef2
size 6899372
