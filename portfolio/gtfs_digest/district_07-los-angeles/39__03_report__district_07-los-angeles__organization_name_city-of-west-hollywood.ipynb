version https://git-lfs.github.com/spec/v1
oid sha256:1142d2bef4071fd426d2b3b8a6d08b66a611c053f67d6ddcf1900938db714b79
size 873864
