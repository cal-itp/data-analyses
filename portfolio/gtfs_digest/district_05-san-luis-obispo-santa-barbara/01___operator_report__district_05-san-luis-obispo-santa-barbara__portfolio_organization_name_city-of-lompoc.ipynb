version https://git-lfs.github.com/spec/v1
oid sha256:6ef20f31ed338fee93c95928b6df629600b8b094c1ab8d27b4f4a4079372c492
size 218719
