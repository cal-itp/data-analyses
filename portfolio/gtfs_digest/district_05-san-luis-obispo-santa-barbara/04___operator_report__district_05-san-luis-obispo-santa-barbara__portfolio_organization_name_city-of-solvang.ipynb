version https://git-lfs.github.com/spec/v1
oid sha256:030cb4b7a38da2a53af6dfbac6a00d57bc7868283ea12fbbefd3bc1a92a9d42d
size 377136
