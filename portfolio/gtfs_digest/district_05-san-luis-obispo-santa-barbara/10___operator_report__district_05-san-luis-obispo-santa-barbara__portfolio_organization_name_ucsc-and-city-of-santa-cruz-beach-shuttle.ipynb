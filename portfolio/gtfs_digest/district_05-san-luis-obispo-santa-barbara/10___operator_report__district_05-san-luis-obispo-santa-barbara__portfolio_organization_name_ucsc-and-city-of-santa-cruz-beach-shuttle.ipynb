version https://git-lfs.github.com/spec/v1
oid sha256:80faa27b90c00d90ef9d536ed6a7b80a0f8fb267721fdcb587b57199217f8801
size 4761078
