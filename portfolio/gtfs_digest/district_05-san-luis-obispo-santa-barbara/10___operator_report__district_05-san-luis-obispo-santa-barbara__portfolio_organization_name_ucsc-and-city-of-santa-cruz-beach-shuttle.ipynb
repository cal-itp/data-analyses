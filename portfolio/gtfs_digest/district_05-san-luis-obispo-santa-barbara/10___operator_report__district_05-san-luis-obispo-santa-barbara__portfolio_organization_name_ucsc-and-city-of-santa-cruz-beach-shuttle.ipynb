version https://git-lfs.github.com/spec/v1
oid sha256:67a11b4b278eefc86cbd3b11acb4de50fe9e527dbf41895019244546173ca1a8
size 4872351
