version https://git-lfs.github.com/spec/v1
oid sha256:d893a7c4413af164f78eae16ac9c0e0ab40fff7d6ed4be5ad5e2ab3ccfd31b3b
size 3790774
