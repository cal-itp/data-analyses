version https://git-lfs.github.com/spec/v1
oid sha256:a3ddecdcc5926270dc54dad85219c839bd43e317cf77dcba1712aa2239a386b3
size 494684
