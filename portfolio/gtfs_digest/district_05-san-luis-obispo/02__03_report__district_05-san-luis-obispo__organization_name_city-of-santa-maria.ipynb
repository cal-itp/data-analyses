version https://git-lfs.github.com/spec/v1
oid sha256:52d96a8b78a9c7d8259aec5ac9a019b1f77e6e074631c83052c892042bc7495e
size 475522
