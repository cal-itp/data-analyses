version https://git-lfs.github.com/spec/v1
oid sha256:5b8fb10004d4c0801092a9c0c910e0bfa38b6a2c6f5051a38b7948dd79cfaef6
size 17259784
