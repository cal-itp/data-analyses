version https://git-lfs.github.com/spec/v1
oid sha256:c95d6b592f9767fc9ac1d242255dd6d1d7c52eabf041944a4f49339949d384a8
size 8604861
