version https://git-lfs.github.com/spec/v1
oid sha256:67beda9ec287ccbc0f847b5b0b40b3eaa977218172f4823f88c4e3267beb0b1f
size 22340960
