version https://git-lfs.github.com/spec/v1
oid sha256:39af84eaf8810811fa0f2e771c803c793961180c02bf41f25fbca0109ff0793b
size 25540726
