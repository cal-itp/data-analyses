version https://git-lfs.github.com/spec/v1
oid sha256:b688fc345d922a77fdb8a0c1800ee1093bafd46722f2b584d3975b9c40069ad3
size 3283003
