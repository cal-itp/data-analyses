version https://git-lfs.github.com/spec/v1
oid sha256:24e3b82428ff01064e3b0344ef3e633c745261e6491df9b6d2432471945a69a8
size 3425480
