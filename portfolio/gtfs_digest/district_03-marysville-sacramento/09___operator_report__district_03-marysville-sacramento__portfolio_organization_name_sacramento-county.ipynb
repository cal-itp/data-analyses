version https://git-lfs.github.com/spec/v1
oid sha256:171ae3999eaad3a9646dd1ad237a3fb6f8b16f97c88ec0de0a4422032c3b79f5
size 289487
