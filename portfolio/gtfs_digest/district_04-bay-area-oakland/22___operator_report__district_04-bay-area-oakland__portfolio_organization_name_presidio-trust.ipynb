version https://git-lfs.github.com/spec/v1
oid sha256:3112e0723dd28035067aed68504eb5b0cf3896032b7f6412add00069176234ba
size 146855
