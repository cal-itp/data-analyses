version https://git-lfs.github.com/spec/v1
oid sha256:ffa58b26db14eb23166887ab2a7ad8b1bd1de9b80a3a95aa936b4440c5fb7680
size 16910937
