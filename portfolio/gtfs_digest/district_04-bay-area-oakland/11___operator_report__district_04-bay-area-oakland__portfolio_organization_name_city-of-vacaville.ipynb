version https://git-lfs.github.com/spec/v1
oid sha256:ecc688b00ecc96d183ce974de300c2633f394274a565937e73637e34854938f1
size 336854
