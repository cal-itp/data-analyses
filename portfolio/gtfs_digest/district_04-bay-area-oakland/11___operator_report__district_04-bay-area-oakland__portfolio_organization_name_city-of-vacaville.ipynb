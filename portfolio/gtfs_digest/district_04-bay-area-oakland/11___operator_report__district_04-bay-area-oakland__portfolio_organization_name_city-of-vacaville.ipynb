version https://git-lfs.github.com/spec/v1
oid sha256:5d3115a64b734b9599fc29e3da64e654a58cd54e7b41eb6c01758cc400954996
size 336786
