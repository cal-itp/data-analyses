version https://git-lfs.github.com/spec/v1
oid sha256:f44cabac0a5ebe5a7b2384a1a06be1cc16d65ce6c665e41aa5b5da8e78a4dec4
size 185333
