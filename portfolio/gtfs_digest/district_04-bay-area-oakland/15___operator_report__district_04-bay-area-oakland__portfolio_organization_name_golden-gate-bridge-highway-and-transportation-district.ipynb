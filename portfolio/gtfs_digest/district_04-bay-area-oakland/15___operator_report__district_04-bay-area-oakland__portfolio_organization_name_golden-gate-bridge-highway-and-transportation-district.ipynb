version https://git-lfs.github.com/spec/v1
oid sha256:27d0e925c407fac0ba58fb2cdf335402db5c57cd75b54b915256ec99df8c657c
size 3794430
