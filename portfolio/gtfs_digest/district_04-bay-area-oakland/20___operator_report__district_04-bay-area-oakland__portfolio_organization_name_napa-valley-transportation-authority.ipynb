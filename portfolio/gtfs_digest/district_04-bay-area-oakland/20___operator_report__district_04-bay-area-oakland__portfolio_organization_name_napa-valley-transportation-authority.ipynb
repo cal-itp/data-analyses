version https://git-lfs.github.com/spec/v1
oid sha256:07e5f49f5fcf86bde619de9a15297aa24e33ed186aac0664d8bee06e944c4741
size 1967426
