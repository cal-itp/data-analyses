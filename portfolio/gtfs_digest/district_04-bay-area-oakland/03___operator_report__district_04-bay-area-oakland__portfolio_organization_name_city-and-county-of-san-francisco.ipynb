version https://git-lfs.github.com/spec/v1
oid sha256:102c549dd131d9ffab8fb90b7bb8aacc77ebdb7ac5feed9d2c48e5d15510de2d
size 16101852
