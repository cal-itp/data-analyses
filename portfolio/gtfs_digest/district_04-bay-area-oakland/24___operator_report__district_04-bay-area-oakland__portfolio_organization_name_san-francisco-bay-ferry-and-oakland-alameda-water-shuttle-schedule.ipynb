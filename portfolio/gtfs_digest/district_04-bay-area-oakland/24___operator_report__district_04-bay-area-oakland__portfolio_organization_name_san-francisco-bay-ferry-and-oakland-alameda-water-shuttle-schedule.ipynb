version https://git-lfs.github.com/spec/v1
oid sha256:0daff9b579610955bac1caae5afb50675b7355a75a48595d467226520c07aec5
size 1893546
