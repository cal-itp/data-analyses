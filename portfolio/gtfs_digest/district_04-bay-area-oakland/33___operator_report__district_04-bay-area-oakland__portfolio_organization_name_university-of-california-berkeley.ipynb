version https://git-lfs.github.com/spec/v1
oid sha256:2bf8a26ccacfec0652512f3c146b5099c75e55a8ecef92844d1f687e98ffa164
size 175414
