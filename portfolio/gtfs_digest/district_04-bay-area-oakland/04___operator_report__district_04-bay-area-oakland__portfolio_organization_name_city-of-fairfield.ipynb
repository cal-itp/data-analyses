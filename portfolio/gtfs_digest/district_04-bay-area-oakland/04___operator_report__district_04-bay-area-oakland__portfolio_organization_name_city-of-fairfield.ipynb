version https://git-lfs.github.com/spec/v1
oid sha256:50420b00bc0c735a05ae5c9b84979dcee8632a405af6a7db16284b4ee02baa97
size 1512721
