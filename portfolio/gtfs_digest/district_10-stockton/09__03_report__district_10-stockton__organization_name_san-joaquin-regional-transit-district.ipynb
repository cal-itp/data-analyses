version https://git-lfs.github.com/spec/v1
oid sha256:42921635ed5eeb27a4086e0c9d1450c006a8ef51f6501c4d8e6920f5a78c9500
size 24100129
