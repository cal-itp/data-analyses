version https://git-lfs.github.com/spec/v1
oid sha256:322ca1acf015e6136bb783b78bb080ad1f4deeac44b6514ea0c542ee99ef56b5
size 11550718
