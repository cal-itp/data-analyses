version https://git-lfs.github.com/spec/v1
oid sha256:2a8c0c2cb7744e08778089eb26447d94f369e800111ea871139b3d03faacfe89
size 526802
