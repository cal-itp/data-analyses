version https://git-lfs.github.com/spec/v1
oid sha256:c16c42c303719b1234b32a7660fb20352ed5246e2372e244209be8060c7b1d15
size 21276070
