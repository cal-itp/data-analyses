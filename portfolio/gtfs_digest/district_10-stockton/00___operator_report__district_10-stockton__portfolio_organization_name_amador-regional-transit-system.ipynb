version https://git-lfs.github.com/spec/v1
oid sha256:2e3f6faa9cb6edfd852419693a75c3ed0424b24bc97a53f3e8aeb80786f6f1e9
size 310427
