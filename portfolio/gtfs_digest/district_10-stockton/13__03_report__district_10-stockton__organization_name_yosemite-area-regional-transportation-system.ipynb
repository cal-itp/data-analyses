version https://git-lfs.github.com/spec/v1
oid sha256:871fa5c6ece14de82f34b2b62b452c1814b6f9361fee59c85c35736e6288dd05
size 680667
