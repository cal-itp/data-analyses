version https://git-lfs.github.com/spec/v1
oid sha256:86afbbca9e48c5dec355de5c8ca7c01ed678ffec610270635d7ae61b625f9eff
size 368409
