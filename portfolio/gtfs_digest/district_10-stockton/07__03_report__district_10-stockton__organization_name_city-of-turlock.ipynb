version https://git-lfs.github.com/spec/v1
oid sha256:aa12e1223dac28f4ecfa09a681625035b39105e71b596a5c05ebae6bd67369e6
size 3485692
