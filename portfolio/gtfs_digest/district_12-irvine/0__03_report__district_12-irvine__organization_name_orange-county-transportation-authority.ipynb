version https://git-lfs.github.com/spec/v1
oid sha256:9051ebe51dbd4d2ab7afd3dff3f0ed524e6d2aabf5b83c44662bf4116eee5103
size 17998392
