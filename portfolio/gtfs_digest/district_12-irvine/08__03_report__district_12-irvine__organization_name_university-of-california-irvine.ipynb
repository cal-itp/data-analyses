version https://git-lfs.github.com/spec/v1
oid sha256:580b16d0da50f204ca80f37eae9f42e6a4be7f5617491c6f7343fbd847d245c0
size 193768
