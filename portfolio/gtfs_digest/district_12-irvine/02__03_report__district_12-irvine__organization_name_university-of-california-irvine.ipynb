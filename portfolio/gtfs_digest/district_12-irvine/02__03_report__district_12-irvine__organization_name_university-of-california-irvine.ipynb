version https://git-lfs.github.com/spec/v1
oid sha256:4df823dfd55b55d08cd2d8589d2535eed0a3c44e4f7189df15db6e11b38827c8
size 193321
