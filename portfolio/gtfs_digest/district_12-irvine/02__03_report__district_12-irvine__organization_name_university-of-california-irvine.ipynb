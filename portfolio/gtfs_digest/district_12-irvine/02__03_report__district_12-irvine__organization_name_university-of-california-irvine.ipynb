version https://git-lfs.github.com/spec/v1
oid sha256:1fcf64d076124133de37bf16ebe19bc498933fa56796bbeb69337f5bfafde565
size 193458
