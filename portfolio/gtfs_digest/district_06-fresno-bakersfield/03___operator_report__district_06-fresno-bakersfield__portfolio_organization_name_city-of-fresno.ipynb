version https://git-lfs.github.com/spec/v1
oid sha256:06dd8805d8c46176f133d09eb28dd386ea5379e0063e8e6c274f47b7c06ddae0
size 4881782
