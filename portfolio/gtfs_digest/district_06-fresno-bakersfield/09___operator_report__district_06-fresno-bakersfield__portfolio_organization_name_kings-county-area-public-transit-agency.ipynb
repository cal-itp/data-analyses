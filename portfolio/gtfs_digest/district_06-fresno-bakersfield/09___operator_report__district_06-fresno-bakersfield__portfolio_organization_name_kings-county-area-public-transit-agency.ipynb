version https://git-lfs.github.com/spec/v1
oid sha256:e1d642f88fad2d1a69c8d48e5063e71086ec86e9eb05c50fb4ef6ac2d4f3755c
size 2296190
