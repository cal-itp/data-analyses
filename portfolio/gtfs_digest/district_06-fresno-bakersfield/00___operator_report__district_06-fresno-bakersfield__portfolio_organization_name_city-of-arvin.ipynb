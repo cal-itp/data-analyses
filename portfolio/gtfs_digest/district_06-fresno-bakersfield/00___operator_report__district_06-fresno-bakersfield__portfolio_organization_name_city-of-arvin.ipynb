version https://git-lfs.github.com/spec/v1
oid sha256:b2b3c05d5f1480e74b6a3bc2fff36263b061d33b1f43a4f539f6dc2d1e98d58d
size 111780
