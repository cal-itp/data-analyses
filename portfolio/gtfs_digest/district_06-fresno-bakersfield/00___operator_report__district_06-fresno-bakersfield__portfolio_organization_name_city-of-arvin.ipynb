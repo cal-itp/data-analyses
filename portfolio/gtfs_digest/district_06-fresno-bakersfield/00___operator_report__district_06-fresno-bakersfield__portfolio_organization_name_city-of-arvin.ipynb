version https://git-lfs.github.com/spec/v1
oid sha256:d6d0e908ba470941c5d42f902d7b673f1f06c4daacfd6d11e2d0d8ebefa2ef7c
size 111801
