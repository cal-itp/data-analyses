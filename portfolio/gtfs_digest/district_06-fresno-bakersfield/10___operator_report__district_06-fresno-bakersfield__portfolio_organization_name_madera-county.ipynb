version https://git-lfs.github.com/spec/v1
oid sha256:b66ee0f21381b7bc5ccfa133e828ffd9cbd8aea00b648e7a108e610517da313c
size 999784
