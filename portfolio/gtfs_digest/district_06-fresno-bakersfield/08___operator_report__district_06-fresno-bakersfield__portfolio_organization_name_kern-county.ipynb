version https://git-lfs.github.com/spec/v1
oid sha256:e52905eb67039aa38fd249da67f7fe2edb2415508512f2b91392b7e910ca6c2d
size 1746093
