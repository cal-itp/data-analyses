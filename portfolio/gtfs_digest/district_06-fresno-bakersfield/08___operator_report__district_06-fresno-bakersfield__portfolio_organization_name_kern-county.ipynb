version https://git-lfs.github.com/spec/v1
oid sha256:39ebfec16b736f8d3313ccb92cd9129c8c7b7fb0f881c7684d68dc5b223bfca6
size 1634585
