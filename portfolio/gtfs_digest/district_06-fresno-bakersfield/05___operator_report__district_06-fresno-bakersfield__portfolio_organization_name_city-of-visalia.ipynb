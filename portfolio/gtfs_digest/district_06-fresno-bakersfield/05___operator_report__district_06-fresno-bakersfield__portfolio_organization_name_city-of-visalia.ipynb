version https://git-lfs.github.com/spec/v1
oid sha256:927f1558168b34e5b1f327ef6bb60e018ac6a668381eebfdb53510b1362e2d42
size 2920187
