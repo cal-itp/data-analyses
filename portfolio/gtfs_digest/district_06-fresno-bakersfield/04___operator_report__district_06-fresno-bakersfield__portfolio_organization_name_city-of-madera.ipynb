version https://git-lfs.github.com/spec/v1
oid sha256:e5f0b8427535c3245aefd592e7f375e734075ea1e99516f5014aef9f7bacc989
size 157416
