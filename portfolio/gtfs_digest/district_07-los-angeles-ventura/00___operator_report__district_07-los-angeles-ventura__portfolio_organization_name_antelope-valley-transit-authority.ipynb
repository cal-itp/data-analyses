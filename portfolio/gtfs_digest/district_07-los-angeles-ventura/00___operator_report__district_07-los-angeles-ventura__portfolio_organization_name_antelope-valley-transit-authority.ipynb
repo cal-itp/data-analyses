version https://git-lfs.github.com/spec/v1
oid sha256:6e8438cb6b2f31a4314a3d880192f306db74c5b4cfaf67cbff1cef4f015a182a
size 4599681
