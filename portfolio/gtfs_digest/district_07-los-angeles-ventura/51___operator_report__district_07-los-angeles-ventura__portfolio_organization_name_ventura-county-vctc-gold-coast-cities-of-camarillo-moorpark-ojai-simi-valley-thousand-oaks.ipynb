version https://git-lfs.github.com/spec/v1
oid sha256:a8e4bb06de184b17d5443720b1fe86d17f7137b42aeac10e4ec118ba1be575a1
size 13099581
