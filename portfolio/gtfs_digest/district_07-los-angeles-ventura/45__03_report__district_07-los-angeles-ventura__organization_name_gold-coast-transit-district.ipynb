version https://git-lfs.github.com/spec/v1
oid sha256:66e2db7b88e6f64c452eff22a53a794e9782463a1afe682c5917382ea39eed02
size 22777546
