version https://git-lfs.github.com/spec/v1
oid sha256:1c4d8f00cc4b54e97e84bce4e282c2ffe5f9e6d4455e29d8ed823fabf9b8720e
size 1021123
