version https://git-lfs.github.com/spec/v1
oid sha256:b8c0fe667fdb7ce7a03b4ccaf1b5856cc1f4ae2173f0a69d77c92b00e1c00413
size 238665
