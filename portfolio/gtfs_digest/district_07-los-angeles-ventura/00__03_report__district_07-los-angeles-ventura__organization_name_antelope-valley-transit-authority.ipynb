version https://git-lfs.github.com/spec/v1
oid sha256:b54c92df7ca64c2e1242949bd2c57a807128d671be2af330044f300cbec13f86
size 12527628
