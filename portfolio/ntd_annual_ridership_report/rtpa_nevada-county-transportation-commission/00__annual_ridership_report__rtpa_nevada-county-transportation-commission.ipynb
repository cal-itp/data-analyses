version https://git-lfs.github.com/spec/v1
oid sha256:69b60c4dc1b552ded4c4a798a40026c157ec1e0918581044baa5fc4a3af7d104
size 102074
