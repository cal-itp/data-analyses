version https://git-lfs.github.com/spec/v1
oid sha256:4fe287f6043f373a449259707db69888b4a8b5a9f016ab22787b9580ce47ebe6
size 104484
