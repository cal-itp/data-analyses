version https://git-lfs.github.com/spec/v1
oid sha256:592caa54635dc2de36fecdf2d7a5435f4341fe9b68f9c8eff2d092e1929797e2
size 97206
