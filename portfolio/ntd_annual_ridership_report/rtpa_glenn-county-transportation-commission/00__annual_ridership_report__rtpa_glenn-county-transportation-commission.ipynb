version https://git-lfs.github.com/spec/v1
oid sha256:4c9ddc4f0330dcaf4defdde4810bd52f68b12580a99a25e24637c8f569c148e3
size 97744
