version https://git-lfs.github.com/spec/v1
oid sha256:6903583d3635821cebbac19d7000c005211313a01e83e9611a0a04f23baf0d11
size 103442
