version https://git-lfs.github.com/spec/v1
oid sha256:0dde631dfcf4abb4869a3c25feb560f60cd6a84d4504bb6b056839f718be15e9
size 93752
