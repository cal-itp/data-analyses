version https://git-lfs.github.com/spec/v1
oid sha256:9245930b4a65bb3f17a005967f0a40200065f1346fe54e43a31eb9c258a315b9
size 96900
