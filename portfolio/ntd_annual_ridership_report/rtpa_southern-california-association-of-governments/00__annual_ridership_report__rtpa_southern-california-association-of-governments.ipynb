version https://git-lfs.github.com/spec/v1
oid sha256:e3c59ddbacebdd2da0f1db259c5cf98131ee7e62e3c3170da5c1ecda6751ecd8
size 493962
