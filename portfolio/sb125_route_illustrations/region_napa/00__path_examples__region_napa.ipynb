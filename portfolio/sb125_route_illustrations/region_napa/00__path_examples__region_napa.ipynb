version https://git-lfs.github.com/spec/v1
oid sha256:e714e2a148c10e2a8b9caa1140a991c40775de097adbfe25d86d4fb1754e09b9
size 1606878
