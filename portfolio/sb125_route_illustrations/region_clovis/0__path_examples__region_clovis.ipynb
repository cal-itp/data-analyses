version https://git-lfs.github.com/spec/v1
oid sha256:fccca00f229a7dbad20c5c3ed4b466c1124af651890eef8e70d7127c81f25fb8
size 340694
