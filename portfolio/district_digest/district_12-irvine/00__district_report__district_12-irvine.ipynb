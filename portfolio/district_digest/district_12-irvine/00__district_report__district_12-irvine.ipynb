version https://git-lfs.github.com/spec/v1
oid sha256:b0a9491c58494bbd3d28461a154229e12e4c795bcc12ec3500a57420012f1306
size 1998531
