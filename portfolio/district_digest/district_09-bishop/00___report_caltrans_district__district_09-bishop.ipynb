version https://git-lfs.github.com/spec/v1
oid sha256:e9031731b2241d96e032801c1ef3fa05379670e583a1d368ee12ec831e3e1ed1
size 146929
