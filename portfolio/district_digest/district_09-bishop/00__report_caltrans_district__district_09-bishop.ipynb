version https://git-lfs.github.com/spec/v1
oid sha256:cd1607d05ec1cc599cef1d57c2fcf9ff7958691973a262e54cb4f35cf07763e0
size 148329
