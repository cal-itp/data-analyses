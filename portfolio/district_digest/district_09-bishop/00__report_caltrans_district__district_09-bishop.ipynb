version https://git-lfs.github.com/spec/v1
oid sha256:b8dcff97d394dc5a04fd03e6773b813c26e8295840e019d13c472b90ad1159a7
size 145401
