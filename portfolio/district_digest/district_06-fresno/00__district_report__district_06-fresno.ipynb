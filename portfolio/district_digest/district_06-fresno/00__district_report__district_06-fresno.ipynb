version https://git-lfs.github.com/spec/v1
oid sha256:e529d5deec6cf49776cf895c691f843e4185e718a1108a3069b78541617eb5ad
size 2434792
