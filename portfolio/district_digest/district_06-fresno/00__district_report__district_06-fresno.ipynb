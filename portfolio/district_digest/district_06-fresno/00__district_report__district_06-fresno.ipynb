version https://git-lfs.github.com/spec/v1
oid sha256:8bb11255a58bbc1777b3c6f60caf574528c48d6889a059ec4546f7f2c9a77bd9
size 2433114
