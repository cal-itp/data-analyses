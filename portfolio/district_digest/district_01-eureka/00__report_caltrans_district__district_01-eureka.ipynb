version https://git-lfs.github.com/spec/v1
oid sha256:c9688a37c7fc702319d4e503b03790692a5e153dfed1ba8a9df06b2af8295690
size 179781
