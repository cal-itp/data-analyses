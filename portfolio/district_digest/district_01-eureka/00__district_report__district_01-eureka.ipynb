version https://git-lfs.github.com/spec/v1
oid sha256:8b3e3d16010abe5521b35ba8666a5648eb5c777d8256fa1c8d2d9a2d5f6933aa
size 177039
