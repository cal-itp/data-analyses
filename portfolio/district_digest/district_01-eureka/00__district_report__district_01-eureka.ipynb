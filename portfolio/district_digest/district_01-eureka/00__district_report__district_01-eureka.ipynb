version https://git-lfs.github.com/spec/v1
oid sha256:3a19de1265d7652de69f576b2d45310c12c2f0280c5f55226e295d5dfd2336ba
size 3058190
