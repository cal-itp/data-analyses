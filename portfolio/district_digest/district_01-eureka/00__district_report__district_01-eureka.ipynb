version https://git-lfs.github.com/spec/v1
oid sha256:dd35d20e3556862370a14d47f7c39d33644eb1f881aa92d8799ab526bf013a08
size 176875
