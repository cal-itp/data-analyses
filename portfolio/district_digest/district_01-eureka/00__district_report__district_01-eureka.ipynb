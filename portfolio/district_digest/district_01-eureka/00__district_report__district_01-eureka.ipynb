version https://git-lfs.github.com/spec/v1
oid sha256:7992b1592066f102280a8f52dd9a4e27e49d87aef444ebf029fe17bfe239809c
size 3448222
