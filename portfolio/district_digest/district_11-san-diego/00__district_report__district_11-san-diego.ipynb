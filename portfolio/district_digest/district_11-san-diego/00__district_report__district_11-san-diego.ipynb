version https://git-lfs.github.com/spec/v1
oid sha256:575a0ac024648e4edad28f247083571cbd7f01bf49ae79a457ead8cb84d0f866
size 2231960
