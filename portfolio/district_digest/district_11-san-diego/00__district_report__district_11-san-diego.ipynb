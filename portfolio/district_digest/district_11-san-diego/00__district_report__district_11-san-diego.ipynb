version https://git-lfs.github.com/spec/v1
oid sha256:f6eb0c825adac31b49c365b9147c483815ad86521e0c0b0b436907a7c2bfa527
size 2333298
