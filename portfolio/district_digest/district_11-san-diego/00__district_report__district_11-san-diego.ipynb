version https://git-lfs.github.com/spec/v1
oid sha256:69c9a2edc6ed2f6e954f39651522a7ae69398253d79a702f029ce3683b4fbda2
size 2333295
