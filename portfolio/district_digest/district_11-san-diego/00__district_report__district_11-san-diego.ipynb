version https://git-lfs.github.com/spec/v1
oid sha256:6513a0b1c46934dab35a9d23679635ae878b795a3f8c19b88eaabda8e413ae6c
size 2231960
