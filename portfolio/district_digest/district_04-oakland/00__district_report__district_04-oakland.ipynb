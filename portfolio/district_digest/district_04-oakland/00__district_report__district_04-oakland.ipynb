version https://git-lfs.github.com/spec/v1
oid sha256:ded7cb13f5fd1275bcf1db935d62293d49489c938d9892dbf1f84cb4f4d5f2f2
size 24922202
