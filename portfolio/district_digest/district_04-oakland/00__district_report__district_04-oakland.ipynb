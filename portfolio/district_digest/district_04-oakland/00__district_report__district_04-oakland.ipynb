version https://git-lfs.github.com/spec/v1
oid sha256:4632e60561af2904873a8c09af6de3bffddcbb743173f1d1e02295fa889baca9
size 22801090
