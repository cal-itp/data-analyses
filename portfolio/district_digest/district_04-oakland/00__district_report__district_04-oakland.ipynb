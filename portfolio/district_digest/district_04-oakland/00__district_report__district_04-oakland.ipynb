version https://git-lfs.github.com/spec/v1
oid sha256:1a28eb410e0f3efb1c3e6a3d349758c7c7b0cc3b0a1f30b151317834fdb5172f
size 22719965
