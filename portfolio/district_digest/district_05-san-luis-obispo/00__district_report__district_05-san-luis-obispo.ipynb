version https://git-lfs.github.com/spec/v1
oid sha256:a36b2df16ece6d430ff124eb2a2f367df9fabe5619dcd339545c4e65c0611ed9
size 6519016
