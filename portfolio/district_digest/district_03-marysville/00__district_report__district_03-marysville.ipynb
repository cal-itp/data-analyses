version https://git-lfs.github.com/spec/v1
oid sha256:108b218bf6650f8cf9af702281b20c6563570301cf6cf140b405ae07eef06802
size 10466073
