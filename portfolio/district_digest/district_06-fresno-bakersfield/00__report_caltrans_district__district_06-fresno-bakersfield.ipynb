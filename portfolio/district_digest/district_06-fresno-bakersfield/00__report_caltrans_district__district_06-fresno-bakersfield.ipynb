version https://git-lfs.github.com/spec/v1
oid sha256:d083e34ffdc94febda0285da1f703ad812db0436a0301a89873b6fbdda83f203
size 215283
