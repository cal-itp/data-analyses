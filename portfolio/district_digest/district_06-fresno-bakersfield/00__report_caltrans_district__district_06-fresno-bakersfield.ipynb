version https://git-lfs.github.com/spec/v1
oid sha256:60266113bba1fdacd55eff4048ceaf1cd7e9c61a150a58c3dc7fba378835f2e1
size 215334
