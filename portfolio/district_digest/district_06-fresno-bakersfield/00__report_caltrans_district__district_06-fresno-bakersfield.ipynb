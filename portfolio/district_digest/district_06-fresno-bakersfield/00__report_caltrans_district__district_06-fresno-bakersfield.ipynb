version https://git-lfs.github.com/spec/v1
oid sha256:8f4f45a9c2a81fce4957db4da0c9bb5acc5c1434a1ac7a31ffb2747dcd55c197
size 219200
