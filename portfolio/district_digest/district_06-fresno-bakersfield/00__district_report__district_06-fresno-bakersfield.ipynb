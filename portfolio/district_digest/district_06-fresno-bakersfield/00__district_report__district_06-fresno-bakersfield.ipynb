version https://git-lfs.github.com/spec/v1
oid sha256:de331da1961cf2df3dcd2f7251771ae9af2c65cda443084ce20646d50ece18fb
size 17848877
