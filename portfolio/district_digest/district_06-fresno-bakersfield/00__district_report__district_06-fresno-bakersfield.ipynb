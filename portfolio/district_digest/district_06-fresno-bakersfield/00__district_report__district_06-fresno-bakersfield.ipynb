version https://git-lfs.github.com/spec/v1
oid sha256:f85ccab9f1cfcfe510b97904e15240f38e21319b6b71166c37a75392dd4860db
size 19267123
