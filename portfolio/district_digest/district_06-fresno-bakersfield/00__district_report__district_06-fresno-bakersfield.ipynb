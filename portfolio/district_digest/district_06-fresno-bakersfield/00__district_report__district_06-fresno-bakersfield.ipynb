version https://git-lfs.github.com/spec/v1
oid sha256:344094ca16b4f8a4b3fa66112b76f16c0b08b8ca20768215325a2a9cc1d3130e
size 217304
