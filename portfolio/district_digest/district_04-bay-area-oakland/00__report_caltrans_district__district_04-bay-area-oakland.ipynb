version https://git-lfs.github.com/spec/v1
oid sha256:3bec27a9613e0f5a854a9afe1240b244729fc2131827ea0f63a6833e02730000
size 358072
