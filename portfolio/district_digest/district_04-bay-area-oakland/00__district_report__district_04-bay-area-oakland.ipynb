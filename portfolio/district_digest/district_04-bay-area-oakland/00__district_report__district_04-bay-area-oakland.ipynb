version https://git-lfs.github.com/spec/v1
oid sha256:bea055fb7df1206a64d7ccf756ff3c68ea4c7b6c2787eec0e2cccf944a59650a
size 352913
