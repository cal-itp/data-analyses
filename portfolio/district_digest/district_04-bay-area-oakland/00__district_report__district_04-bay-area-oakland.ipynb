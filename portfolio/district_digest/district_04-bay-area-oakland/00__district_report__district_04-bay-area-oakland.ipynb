version https://git-lfs.github.com/spec/v1
oid sha256:ecccd900f1abf127bd579267186304f709e03985a62d49f0dfddc68a8a614ccb
size 50106330
