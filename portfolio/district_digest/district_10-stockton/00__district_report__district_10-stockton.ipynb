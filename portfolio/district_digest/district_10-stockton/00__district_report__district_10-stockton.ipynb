version https://git-lfs.github.com/spec/v1
oid sha256:94dcda966429252de0187796dda4dad90756caa4836f558861a86980a989bf33
size 4903262
