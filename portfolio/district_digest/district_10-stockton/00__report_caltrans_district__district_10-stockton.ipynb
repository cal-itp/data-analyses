version https://git-lfs.github.com/spec/v1
oid sha256:4ccd4cf2217654b77eb5d8fd373ed01f0b84ad602a6e398aea0181dd142fbf46
size 238059
