version https://git-lfs.github.com/spec/v1
oid sha256:e7a744710ae00be5427be11e7c24aad78fc2dc8105ce2c905b35bb03071d70c1
size 184269
