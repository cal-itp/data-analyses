version https://git-lfs.github.com/spec/v1
oid sha256:d0c4a7d7273210c68d4d31d95760f8c9c1add529a4f918c34aa00341dcd417ae
size 2392286
