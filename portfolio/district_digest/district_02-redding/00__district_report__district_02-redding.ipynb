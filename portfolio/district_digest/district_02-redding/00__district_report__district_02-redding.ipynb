version https://git-lfs.github.com/spec/v1
oid sha256:b2128e7ef992890b9168f7ab1c8bfff7a8d13f1cf2e1cdadb5be0bb75505548a
size 2194724
