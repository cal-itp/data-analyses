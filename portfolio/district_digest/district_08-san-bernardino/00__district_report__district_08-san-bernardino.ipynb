version https://git-lfs.github.com/spec/v1
oid sha256:597dd9b251e82ad9b803a0501b70adbce344825cccd45e97c90fd82eb384ba0f
size 9123984
