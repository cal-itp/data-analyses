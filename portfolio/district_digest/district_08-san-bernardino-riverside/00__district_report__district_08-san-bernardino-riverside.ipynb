version https://git-lfs.github.com/spec/v1
oid sha256:504351028a4076f7d549d9ac080db5accf2d1ee06f15ff25008382105e55afff
size 22967871
