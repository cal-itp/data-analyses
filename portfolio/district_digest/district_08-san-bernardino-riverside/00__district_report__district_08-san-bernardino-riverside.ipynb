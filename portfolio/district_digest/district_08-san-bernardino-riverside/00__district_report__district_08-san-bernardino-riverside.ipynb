version https://git-lfs.github.com/spec/v1
oid sha256:a4b1bdf205247aeab9a93fb5ef1415723b61a5618bd8c78a20d86b587e1fd3b5
size 23443878
