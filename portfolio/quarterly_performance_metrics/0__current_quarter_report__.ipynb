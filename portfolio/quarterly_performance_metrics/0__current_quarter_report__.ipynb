version https://git-lfs.github.com/spec/v1
oid sha256:bac63a44c40a43993fa1c76b887572dfe7b3f36f3fb3febac076323aea78c85f
size 27599096
