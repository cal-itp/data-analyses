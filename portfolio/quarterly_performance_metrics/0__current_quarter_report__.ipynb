version https://git-lfs.github.com/spec/v1
oid sha256:3f747915f70cbb2dcc89a7f70d07eae1754619adc240f770a481b6412626ad64
size 28927221
