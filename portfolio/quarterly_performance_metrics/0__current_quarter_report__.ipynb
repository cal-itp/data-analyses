version https://git-lfs.github.com/spec/v1
oid sha256:f4465402727bb3bec6e302772a7dc93c25ce663d00d6011b3009490ab3523d13
size 69983484
