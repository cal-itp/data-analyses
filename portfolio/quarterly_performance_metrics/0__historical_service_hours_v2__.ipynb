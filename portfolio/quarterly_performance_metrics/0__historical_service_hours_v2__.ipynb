version https://git-lfs.github.com/spec/v1
oid sha256:b38bc85d09c6fa0e5dea6a05895d73de4957373d9f8f9f375f9f2fdb10d2cfe0
size 94112
