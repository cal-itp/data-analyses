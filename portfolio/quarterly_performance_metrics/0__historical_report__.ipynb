version https://git-lfs.github.com/spec/v1
oid sha256:5db53b3056b5624ca8c8afbf4afadef251788d329bf52eb2f08291b6c040fe8d
size 90132
