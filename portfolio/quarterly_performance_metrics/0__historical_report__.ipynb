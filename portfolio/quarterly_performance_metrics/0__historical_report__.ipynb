version https://git-lfs.github.com/spec/v1
oid sha256:e92ba832ebc9fb0f3eb26cb086f5bc68b3500d051d827d0a54449044efb952c3
size 40050
