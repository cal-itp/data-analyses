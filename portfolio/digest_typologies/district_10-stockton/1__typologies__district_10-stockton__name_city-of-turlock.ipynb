version https://git-lfs.github.com/spec/v1
oid sha256:e23241867e0e7371f47665d1161cd28471b9328182a7b8921ed6f05cb4644361
size 20047
