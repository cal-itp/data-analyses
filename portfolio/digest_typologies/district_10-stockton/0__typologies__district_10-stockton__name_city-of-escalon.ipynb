version https://git-lfs.github.com/spec/v1
oid sha256:db60bb68a57f9ba3a3c72473e265a3c7063d9a9ecd75ba4ea7cd4dc9a38335ed
size 20049
