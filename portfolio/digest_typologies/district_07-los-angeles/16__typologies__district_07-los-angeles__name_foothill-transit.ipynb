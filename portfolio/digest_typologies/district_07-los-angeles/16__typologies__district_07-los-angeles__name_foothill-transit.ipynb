version https://git-lfs.github.com/spec/v1
oid sha256:493f9b2ec5a3f1ff416f00060fb90bdb2e649685f315e0197cb679195e44ed66
size 20067
