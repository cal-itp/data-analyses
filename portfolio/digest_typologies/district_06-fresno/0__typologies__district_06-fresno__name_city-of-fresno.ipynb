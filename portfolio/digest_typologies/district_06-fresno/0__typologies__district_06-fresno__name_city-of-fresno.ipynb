version https://git-lfs.github.com/spec/v1
oid sha256:4160e45b6c4b052873e826e82ebd92a4c2d10af8b59883636acfc983e641d10b
size 20037
