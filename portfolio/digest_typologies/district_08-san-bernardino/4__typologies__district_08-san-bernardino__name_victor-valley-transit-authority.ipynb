version https://git-lfs.github.com/spec/v1
oid sha256:eff505f02aac5efca993dc3187788ee8589d59b0f46a017a5576ef324d38e28e
size 20132
