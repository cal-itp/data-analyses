version https://git-lfs.github.com/spec/v1
oid sha256:b3b8b1172c30472762b20fe87bbb16653c30e7f21c38114606af41b087c97e2c
size 4497864
