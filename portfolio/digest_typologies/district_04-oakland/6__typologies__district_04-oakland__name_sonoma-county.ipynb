version https://git-lfs.github.com/spec/v1
oid sha256:05d2cdf6ca57f45fb00c5dedbce8287fba685f851e14157d7eb024a15792d5a0
size 928009
