version https://git-lfs.github.com/spec/v1
oid sha256:6323accb0d3d2d2bcf9a3db694a37199950a421c4a02417fb8146b02244958a6
size 20050
