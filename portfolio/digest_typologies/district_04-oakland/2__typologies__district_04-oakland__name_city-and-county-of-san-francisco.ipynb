version https://git-lfs.github.com/spec/v1
oid sha256:cc540a2dd844682ca186eea5d48e4824863af7ba4697530ee850c9d100755fff
size 22601868
