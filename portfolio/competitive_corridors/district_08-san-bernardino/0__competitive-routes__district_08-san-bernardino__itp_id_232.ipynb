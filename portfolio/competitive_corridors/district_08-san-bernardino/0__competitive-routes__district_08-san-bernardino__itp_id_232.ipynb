version https://git-lfs.github.com/spec/v1
oid sha256:4956e0449dd29bdcfe0fcf89c05e451fa520e2c541a3a5e03ce29607fcb2fd3c
size 246637
