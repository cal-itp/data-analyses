version https://git-lfs.github.com/spec/v1
oid sha256:1f50e4ecb7026b60f9ece41d5f98d110cdb87a88d59e2f13d4b0790eeac84015
size 3307018
