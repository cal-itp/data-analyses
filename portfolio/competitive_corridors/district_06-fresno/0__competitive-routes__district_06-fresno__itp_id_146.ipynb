version https://git-lfs.github.com/spec/v1
oid sha256:59dcde87c95012cfa1486d8cd2664ede6dddf38e312acfd378c76831076a6279
size 62894
