version https://git-lfs.github.com/spec/v1
oid sha256:19c5b3ae13f61b6c6ad8a65af41960352b92d6213845bc8c6a487c9e3879948e
size 23367418
