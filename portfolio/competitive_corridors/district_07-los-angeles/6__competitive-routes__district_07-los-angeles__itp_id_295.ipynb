version https://git-lfs.github.com/spec/v1
oid sha256:697d1661657b913e5dee76a244d26ff3fb2c141ada06a2c3e28be6f211b0d5e0
size 1441721
