version https://git-lfs.github.com/spec/v1
oid sha256:3fd943b03890d24c519847f2ff2a3e045255f1268449693b1ed8845e1cfaf5d4
size 1004776
