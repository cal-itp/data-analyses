version https://git-lfs.github.com/spec/v1
oid sha256:3b15f6495f5cc2bf9063d554ba99b280aca72f9fa2ab9e35051183dcbf933fc7
size 60418
