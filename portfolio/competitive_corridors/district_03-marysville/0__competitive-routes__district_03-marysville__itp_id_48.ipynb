version https://git-lfs.github.com/spec/v1
oid sha256:d6425ac55971e9386492fe6db5b84eeb92fd78597c9a975c6c53dccd8a3cd1ff
size 681100
