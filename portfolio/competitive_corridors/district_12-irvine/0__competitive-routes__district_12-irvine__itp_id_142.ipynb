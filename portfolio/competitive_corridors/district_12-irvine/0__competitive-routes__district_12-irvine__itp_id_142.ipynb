version https://git-lfs.github.com/spec/v1
oid sha256:3191f82e9eaf97345e630a3690b5558a61bde45902d26971b781fb2b4e575e0e
size 19052691
