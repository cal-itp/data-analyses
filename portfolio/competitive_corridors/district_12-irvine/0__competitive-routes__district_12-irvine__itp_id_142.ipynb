version https://git-lfs.github.com/spec/v1
oid sha256:379ef677bcaa9411e19c35ebc929bec984c25023ff37bb350d4bce8236f42716
size 19051585
