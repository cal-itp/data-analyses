version https://git-lfs.github.com/spec/v1
oid sha256:326ff77acfd7ffeef376ffafac780369fe7e43b5474ae6d1c5a420adb4ee60fc
size 4124884
