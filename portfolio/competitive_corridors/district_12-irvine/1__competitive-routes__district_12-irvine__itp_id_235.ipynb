version https://git-lfs.github.com/spec/v1
oid sha256:bf801c9461387992506cc0c6372203c667f28847cf05161ef5bd7f6800e8cf57
size 4125226
