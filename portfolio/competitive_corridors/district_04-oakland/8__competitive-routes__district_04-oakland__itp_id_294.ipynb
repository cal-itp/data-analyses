version https://git-lfs.github.com/spec/v1
oid sha256:9ff328be87a99a11043cdce494ff301eaf9db1ee77eec3af2bd4a3b0342b4620
size 22899660
