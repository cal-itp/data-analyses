version https://git-lfs.github.com/spec/v1
oid sha256:e4e4b9db8c0b006913f0ec7135113ba8e9d5fab8c5e05a1d007337cb40177530
size 22901363
