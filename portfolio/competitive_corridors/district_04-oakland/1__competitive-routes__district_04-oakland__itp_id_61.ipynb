version https://git-lfs.github.com/spec/v1
oid sha256:103ed1cf6990f0365fc954c5ee9516947868c24a689d8e7c982aab6d0d7112ad
size 78661950
