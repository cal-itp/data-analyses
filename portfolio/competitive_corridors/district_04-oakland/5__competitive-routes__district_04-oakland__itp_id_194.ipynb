version https://git-lfs.github.com/spec/v1
oid sha256:97cf47ce47a7b69221ae5cd97f82a86066c747b7df439aa5a7d1f1be505e6f45
size 1294860
