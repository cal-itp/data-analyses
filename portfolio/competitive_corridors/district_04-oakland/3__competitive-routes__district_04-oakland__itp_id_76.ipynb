version https://git-lfs.github.com/spec/v1
oid sha256:a08d234aca69ad851004a7697ced1f8cee2c805708217d6500717c709e177d52
size 28992
