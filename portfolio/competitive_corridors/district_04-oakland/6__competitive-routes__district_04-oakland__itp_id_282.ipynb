version https://git-lfs.github.com/spec/v1
oid sha256:5a0fbb190ebda038b0b76a393df9e15f83d13805a907ca68ad9ed7f74d6de6a5
size 18032980
