version https://git-lfs.github.com/spec/v1
oid sha256:61d3885e86ac90b2a75caf13ff1ac24c3abcd39371ea63e55ef03c0002e1dc4c
size 18033973
