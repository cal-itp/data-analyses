version https://git-lfs.github.com/spec/v1
oid sha256:a5ca9b88b24f624bfdcca74a6f30669b566a98f9f4c6e87a7324b96e1d582d8b
size 18032931
