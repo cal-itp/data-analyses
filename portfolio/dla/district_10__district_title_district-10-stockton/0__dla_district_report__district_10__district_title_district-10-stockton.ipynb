{
 "cells": [
  {
   "cell_type": "markdown",
   "id": "c3cd7980",
   "metadata": {
    "tags": [
     "papermill-error-cell-tag"
    ]
   },
   "source": [
    "<span style=\"color:red; font-family:Helvetica Neue, Helvetica, Arial, sans-serif; font-size:2em;\">An Exception was encountered at '<a href=\"#papermill-error-cell\">In [16]</a>'.</span>"
   ]
  },
  {
   "cell_type": "markdown",
   "id": "c52ac033",
   "metadata": {
    "papermill": {
     "duration": 0.007664,
     "end_time": "2022-05-18T18:00:07.604791",
     "exception": false,
     "start_time": "2022-05-18T18:00:07.597127",
     "status": "completed"
    },
    "pycharm": {
     "name": "#%% md\n"
    },
    "tags": []
   },
   "source": [
    "# **District 10 - Stockton**"
   ]
  },
  {
   "cell_type": "markdown",
   "id": "178948e4-f2ee-4978-87a6-e2eb560b0feb",
   "metadata": {
    "papermill": {
     "duration": 0.009002,
     "end_time": "2022-05-18T18:00:07.620682",
     "exception": false,
     "start_time": "2022-05-18T18:00:07.611680",
     "status": "completed"
    },
    "tags": []
   },
   "source": [
    "How does funding for local agencies differ district to district? Using E-76 obligation data, we can gain insight to how agencies in District 10 use federal program funds, and help identify DLA‘s core customers."
   ]
  },
  {
   "cell_type": "code",
   "execution_count": 1,
   "id": "92c5c56a",
   "metadata": {
    "collapsed": false,
    "execution": {
     "iopub.execute_input": "2022-05-18T18:00:07.639281Z",
     "iopub.status.busy": "2022-05-18T18:00:07.638907Z",
     "iopub.status.idle": "2022-05-18T18:00:21.749719Z",
     "shell.execute_reply": "2022-05-18T18:00:21.748982Z"
    },
    "jupyter": {
     "source_hidden": true
    },
    "papermill": {
     "duration": 14.125022,
     "end_time": "2022-05-18T18:00:21.752424",
     "exception": false,
     "start_time": "2022-05-18T18:00:07.627402",
     "status": "completed"
    },
    "pycharm": {
     "name": "#%%\n"
    },
    "tags": [
     "remove_input"
    ]
   },
   "outputs": [],
   "source": [
    "%%capture\n",
    "\n",
    "import numpy as np\n",
    "import pandas as pd\n",
    "from siuba import *\n",
    "\n",
    "import altair as alt\n",
    "import altair_saver\n",
    "from plotnine import *\n",
    "\n",
    "from IPython.display import Markdown, HTML, Image\n",
    "import ipywidgets as widgets\n",
    "from ipywidgets import interact, interactive\n",
    "\n",
    "from shared_utils import altair_utils\n",
    "from shared_utils import geography_utils\n",
    "from shared_utils import calitp_color_palette as cp\n",
    "from shared_utils import styleguide\n",
    "\n",
    "from calitp import to_snakecase\n",
    "import intake\n",
    "\n",
    "import _dla_utils_reports\n"
   ]
  },
  {
   "cell_type": "code",
   "execution_count": 2,
   "id": "82cf8245-73d2-4ed3-93cf-7ee01661b024",
   "metadata": {
    "execution": {
     "iopub.execute_input": "2022-05-18T18:00:21.771787Z",
     "iopub.status.busy": "2022-05-18T18:00:21.771437Z",
     "iopub.status.idle": "2022-05-18T18:00:21.774922Z",
     "shell.execute_reply": "2022-05-18T18:00:21.774409Z"
    },
    "jupyter": {
     "source_hidden": true
    },
    "papermill": {
     "duration": 0.017977,
     "end_time": "2022-05-18T18:00:21.777438",
     "exception": false,
     "start_time": "2022-05-18T18:00:21.759461",
     "status": "completed"
    },
    "tags": [
     "parameters",
     "remove_input"
    ]
   },
   "outputs": [],
   "source": [
    "#Parameter Cell\n",
    "\n",
    "district = 2"
   ]
  },
  {
   "cell_type": "code",
   "execution_count": 3,
   "id": "773a9147",
   "metadata": {
    "execution": {
     "iopub.execute_input": "2022-05-18T18:00:21.793053Z",
     "iopub.status.busy": "2022-05-18T18:00:21.792782Z",
     "iopub.status.idle": "2022-05-18T18:00:21.796873Z",
     "shell.execute_reply": "2022-05-18T18:00:21.795643Z"
    },
    "jupyter": {
     "source_hidden": true
    },
    "papermill": {
     "duration": 0.014839,
     "end_time": "2022-05-18T18:00:21.800147",
     "exception": false,
     "start_time": "2022-05-18T18:00:21.785308",
     "status": "completed"
    },
    "tags": [
     "injected-parameters",
     "remove_input"
    ]
   },
   "outputs": [],
   "source": [
    "# Parameters\n",
    "district = 10\n",
    "district_title = \"District 10 - Stockton\"\n"
   ]
  },
  {
   "cell_type": "code",
   "execution_count": 4,
   "id": "948b2b4f-ef9b-48ff-b109-e7b76361066c",
   "metadata": {
    "execution": {
     "iopub.execute_input": "2022-05-18T18:00:21.816790Z",
     "iopub.status.busy": "2022-05-18T18:00:21.816552Z",
     "iopub.status.idle": "2022-05-18T18:00:24.728485Z",
     "shell.execute_reply": "2022-05-18T18:00:24.727920Z"
    },
    "jupyter": {
     "source_hidden": true
    },
    "papermill": {
     "duration": 2.921416,
     "end_time": "2022-05-18T18:00:24.730451",
     "exception": false,
     "start_time": "2022-05-18T18:00:21.809035",
     "status": "completed"
    },
    "tags": [
     "remove_input"
    ]
   },
   "outputs": [],
   "source": [
    "df= pd.read_parquet(\"gs://calitp-analytics-data/data-analyses/dla/e-76Obligated/dla_df.parquet\")\n"
   ]
  },
  {
   "cell_type": "code",
   "execution_count": 5,
   "id": "be910f27-7608-4522-8d8d-ef93611cb748",
   "metadata": {
    "execution": {
     "iopub.execute_input": "2022-05-18T18:00:24.747013Z",
     "iopub.status.busy": "2022-05-18T18:00:24.746322Z",
     "iopub.status.idle": "2022-05-18T18:00:24.819270Z",
     "shell.execute_reply": "2022-05-18T18:00:24.818610Z"
    },
    "jupyter": {
     "source_hidden": true
    },
    "papermill": {
     "duration": 0.082307,
     "end_time": "2022-05-18T18:00:24.821200",
     "exception": false,
     "start_time": "2022-05-18T18:00:24.738893",
     "status": "completed"
    },
    "tags": [
     "remove_input"
    ]
   },
   "outputs": [],
   "source": [
    "df = (df>>filter(_.dist==district))\n",
    "    \n",
    "    \n",
    "#subsetting the data\n",
    "df_years = _dla_utils_reports.count_all_years(df)\n",
    "df_top = _dla_utils_reports.find_top(df)\n",
    "    "
   ]
  },
  {
   "cell_type": "code",
   "execution_count": 6,
   "id": "7f5ac0a1-a951-4072-8f85-d2c90290907f",
   "metadata": {
    "execution": {
     "iopub.execute_input": "2022-05-18T18:00:24.835789Z",
     "iopub.status.busy": "2022-05-18T18:00:24.835480Z",
     "iopub.status.idle": "2022-05-18T18:00:24.947220Z",
     "shell.execute_reply": "2022-05-18T18:00:24.946793Z"
    },
    "jupyter": {
     "source_hidden": true
    },
    "papermill": {
     "duration": 0.120968,
     "end_time": "2022-05-18T18:00:24.948968",
     "exception": false,
     "start_time": "2022-05-18T18:00:24.828000",
     "status": "completed"
    },
    "tags": [
     "remove_input"
    ]
   },
   "outputs": [
    {
     "data": {
      "text/html": [
       "<h2>Quick Stats</h2>"
      ],
      "text/plain": [
       "<IPython.core.display.HTML object>"
      ]
     },
     "metadata": {},
     "output_type": "display_data"
    },
    {
     "data": {
      "text/html": [
       "There are <strong>56 Unique Agencies</strong>"
      ],
      "text/plain": [
       "<IPython.core.display.HTML object>"
      ]
     },
     "metadata": {},
     "output_type": "display_data"
    },
    {
     "data": {
      "text/html": [
       "Out of <strong>2352</strong> obligations, <strong>86 are transit-related</strong>.<br><strong>Stanislaus County</strong> has the <strong>highest transit</strong> obligations."
      ],
      "text/plain": [
       "<IPython.core.display.HTML object>"
      ]
     },
     "metadata": {},
     "output_type": "display_data"
    },
    {
     "data": {
      "text/html": [
       "There are <strong>3 agencies have over 228.75</strong>obligations (95th percentile) since 2013.0"
      ],
      "text/plain": [
       "<IPython.core.display.HTML object>"
      ]
     },
     "metadata": {},
     "output_type": "display_data"
    },
    {
     "data": {
      "text/html": [
       "There are <strong>1 agencies have less than 2.00</strong> obligations (5th percentile) since 2013.0"
      ],
      "text/plain": [
       "<IPython.core.display.HTML object>"
      ]
     },
     "metadata": {},
     "output_type": "display_data"
    },
    {
     "data": {
      "text/html": [
       "<h4><strong>Number of Unique Prefix Codes by Agency</strong></h4>"
      ],
      "text/plain": [
       "<IPython.core.display.HTML object>"
      ]
     },
     "metadata": {},
     "output_type": "display_data"
    },
    {
     "data": {
      "text/html": [
       "<table border=\"1\" class=\"dataframe\">\n",
       "  <thead>\n",
       "    <tr style=\"text-align: right;\">\n",
       "      <th>Agency</th>\n",
       "      <th>Number of Unqiue Prefix Codes</th>\n",
       "    </tr>\n",
       "  </thead>\n",
       "  <tbody>\n",
       "    <tr>\n",
       "      <td>Stockton</td>\n",
       "      <td>23</td>\n",
       "    </tr>\n",
       "    <tr>\n",
       "      <td>Modesto</td>\n",
       "      <td>17</td>\n",
       "    </tr>\n",
       "    <tr>\n",
       "      <td>Stanislaus County</td>\n",
       "      <td>15</td>\n",
       "    </tr>\n",
       "    <tr>\n",
       "      <td>Calaveras County</td>\n",
       "      <td>12</td>\n",
       "    </tr>\n",
       "    <tr>\n",
       "      <td>Mariposa County</td>\n",
       "      <td>11</td>\n",
       "    </tr>\n",
       "  </tbody>\n",
       "</table>"
      ],
      "text/plain": [
       "<IPython.core.display.HTML object>"
      ]
     },
     "metadata": {},
     "output_type": "display_data"
    },
    {
     "data": {
      "text/html": [
       "<h4><strong>Number of Unique Agencies by Prefix Codes</strong></h4>"
      ],
      "text/plain": [
       "<IPython.core.display.HTML object>"
      ]
     },
     "metadata": {},
     "output_type": "display_data"
    },
    {
     "data": {
      "text/html": [
       "<table border=\"1\" class=\"dataframe\">\n",
       "  <thead>\n",
       "    <tr style=\"text-align: right;\">\n",
       "      <th>Prefix</th>\n",
       "      <th>Number of Unqiue Agencies</th>\n",
       "    </tr>\n",
       "  </thead>\n",
       "  <tbody>\n",
       "    <tr>\n",
       "      <td>CML</td>\n",
       "      <td>38</td>\n",
       "    </tr>\n",
       "    <tr>\n",
       "      <td>STPL</td>\n",
       "      <td>20</td>\n",
       "    </tr>\n",
       "    <tr>\n",
       "      <td>HSIPL</td>\n",
       "      <td>16</td>\n",
       "    </tr>\n",
       "    <tr>\n",
       "      <td>BRLS</td>\n",
       "      <td>14</td>\n",
       "    </tr>\n",
       "    <tr>\n",
       "      <td>BRLO</td>\n",
       "      <td>11</td>\n",
       "    </tr>\n",
       "  </tbody>\n",
       "</table>"
      ],
      "text/plain": [
       "<IPython.core.display.HTML object>"
      ]
     },
     "metadata": {},
     "output_type": "display_data"
    },
    {
     "data": {
      "text/html": [
       "<h4><strong>Top 5 Types of Work</strong></h4>"
      ],
      "text/plain": [
       "<IPython.core.display.HTML object>"
      ]
     },
     "metadata": {},
     "output_type": "display_data"
    },
    {
     "data": {
      "text/html": [
       "<table border=\"1\" class=\"dataframe\">\n",
       "  <thead>\n",
       "    <tr style=\"text-align: right;\">\n",
       "      <th>Type of Work</th>\n",
       "    </tr>\n",
       "  </thead>\n",
       "  <tbody>\n",
       "    <tr>\n",
       "      <td>Bridge Replacement (tc)</td>\n",
       "    </tr>\n",
       "    <tr>\n",
       "      <td>Bridge Replacement</td>\n",
       "    </tr>\n",
       "    <tr>\n",
       "      <td>Bridge Preventive Maintenance</td>\n",
       "    </tr>\n",
       "    <tr>\n",
       "      <td>Pavement Rehabilitation (tc)</td>\n",
       "    </tr>\n",
       "    <tr>\n",
       "      <td>FTA Transfer</td>\n",
       "    </tr>\n",
       "  </tbody>\n",
       "</table>"
      ],
      "text/plain": [
       "<IPython.core.display.HTML object>"
      ]
     },
     "metadata": {},
     "output_type": "display_data"
    }
   ],
   "source": [
    "display(HTML(\"<h2>Quick Stats</h2>\"))\n",
    "\n",
    "display(\n",
    "    HTML(\n",
    "        f\"There are <strong>{(df.primary_agency_name.nunique())} Unique Agencies</strong>\"\n",
    "    )\n",
    ")\n",
    "\n",
    "transit = df >> filter(_.transit == 1)\n",
    "\n",
    "def find_transit(df):\n",
    "    if (len(transit)) == 0: \n",
    "        return display((HTML(f\"Out of <strong>{len(df)}</strong> obligations,\" \n",
    "                             f\" <strong>0 are transit realted</strong>\")))\n",
    "    \n",
    "    else:\n",
    "        return display(\n",
    "            HTML(\n",
    "                f\"Out of <strong>{len(df)}</strong> obligations, <strong>{len(transit)} are transit-related</strong>.\"\n",
    "                f\"<br><strong>{(transit>>count(_.primary_agency_name)>>arrange(-_.n)).iloc[0, 0]}</strong> \"\n",
    "                f\"has the <strong>highest transit</strong> obligations.\"\n",
    "            ))\n",
    "    \n",
    "find_transit(df)\n",
    "\n",
    "\n",
    "\n",
    "\n",
    "q = df >> count(_.primary_agency_name) >> arrange(_.n)\n",
    "\n",
    "q2 = q.n.quantile(0.95)\n",
    "\n",
    "display(\n",
    "    HTML(\n",
    "        f\"There are <strong>{len(q>>filter(_.n> (q2)))} agencies have over {('%.2f'%(q2))}</strong>\" \n",
    "        f\"obligations (95th percentile) since {(df.prepared_y.min())}\"\n",
    "    )\n",
    ")\n",
    "\n",
    "q3 = q.n.quantile(0.1)\n",
    "display(\n",
    "    HTML(\n",
    "        (\n",
    "            f\"There are <strong>{len(q>>filter(_.n< (q3)))} agencies have less than\"\n",
    "            f\" {('%.2f'%(q3))}</strong> obligations (5th percentile) since {(df.prepared_y.min())}\"\n",
    "        )\n",
    "    )\n",
    ")\n",
    "\n",
    "## tables\n",
    "display(HTML(\"<h4><strong>Number of Unique Prefix Codes by Agency</strong></h4>\"))\n",
    "nunique_prefix_codes = ((_dla_utils_reports.get_nunique(df, \"prefix\", \"primary_agency_name\"))\n",
    "                        .rename(columns={\"primary_agency_name\": \"Agency\", \"n\": \"Number of Unqiue Prefix Codes\"})\n",
    "                        .head(5))\n",
    "display(HTML(nunique_prefix_codes.to_html(index=False)))\n",
    "\n",
    "display(HTML(\"<h4><strong>Number of Unique Agencies by Prefix Codes</strong></h4>\"))\n",
    "prefix_codes = ((_dla_utils_reports.get_nunique(df, \"primary_agency_name\", \"prefix\"))\n",
    "                .rename(columns={\"prefix\": \"Prefix\", \"n\": \"Number of Unqiue Agencies\"})\n",
    "                .head(5))\n",
    "display(HTML(prefix_codes.to_html(index=False)))\n",
    "\n",
    "display(HTML(\"<h4><strong>Top 5 Types of Work</strong></h4>\"))\n",
    "work_types = (\n",
    "    (df >> count(_.type_of_work) >> arrange(-_.n) >> select(_.type_of_work))\n",
    "    .rename(columns={\"type_of_work\": \"Type of Work\"})\n",
    "    .head(5)\n",
    ")\n",
    "#display(work_types)\n",
    "\n",
    "# get rid of index using:\n",
    "## https://stackoverflow.com/questions/24644656/how-to-print-pandas-dataframe-without-index\n",
    "display(HTML(work_types.to_html(index=False)))\n"
   ]
  },
  {
   "cell_type": "markdown",
   "id": "52a161a2-876a-4b42-9c93-3221dce17638",
   "metadata": {
    "papermill": {
     "duration": 0.009176,
     "end_time": "2022-05-18T18:00:24.966165",
     "exception": false,
     "start_time": "2022-05-18T18:00:24.956989",
     "status": "completed"
    },
    "tags": []
   },
   "source": [
    "## Number of Obligations"
   ]
  },
  {
   "cell_type": "markdown",
   "id": "379b61e3-1c1b-4683-b78f-8dee0683f064",
   "metadata": {
    "papermill": {
     "duration": 0.009495,
     "end_time": "2022-05-18T18:00:24.987651",
     "exception": false,
     "start_time": "2022-05-18T18:00:24.978156",
     "status": "completed"
    },
    "tags": []
   },
   "source": [
    "Obligations indicate a unique entry in the E-76 dataset. By counting the obligations for each year, district, and organization, we can see what the volume each as well which organizations are the most and last frequent customers. \n",
    "\n",
    "Metrics:\n",
    "* Obligations by Year\n",
    "* Number of Unique Agencies by District\n",
    "* Agencies With The Most Obligations"
   ]
  },
  {
   "cell_type": "markdown",
   "id": "81ad520b-db91-45b8-a598-a6577cccc24e",
   "metadata": {
    "papermill": {
     "duration": 0.008464,
     "end_time": "2022-05-18T18:00:25.006444",
     "exception": false,
     "start_time": "2022-05-18T18:00:24.997980",
     "status": "completed"
    },
    "tags": []
   },
   "source": [
    "### Obligations by Year"
   ]
  },
  {
   "cell_type": "code",
   "execution_count": 7,
   "id": "ae85287b-0772-4595-8ea2-ccba83dd22cf",
   "metadata": {
    "execution": {
     "iopub.execute_input": "2022-05-18T18:00:25.025457Z",
     "iopub.status.busy": "2022-05-18T18:00:25.025093Z",
     "iopub.status.idle": "2022-05-18T18:00:25.102903Z",
     "shell.execute_reply": "2022-05-18T18:00:25.102388Z"
    },
    "jupyter": {
     "source_hidden": true
    },
    "papermill": {
     "duration": 0.088585,
     "end_time": "2022-05-18T18:00:25.104718",
     "exception": false,
     "start_time": "2022-05-18T18:00:25.016133",
     "status": "completed"
    },
    "tags": [
     "remove_input"
    ]
   },
   "outputs": [
    {
     "data": {
      "text/html": [
       "\n",
       "<div id=\"altair-viz-4f2cd15e3fb344c68e41f504064792c4\"></div>\n",
       "<script type=\"text/javascript\">\n",
       "  var VEGA_DEBUG = (typeof VEGA_DEBUG == \"undefined\") ? {} : VEGA_DEBUG;\n",
       "  (function(spec, embedOpt){\n",
       "    let outputDiv = document.currentScript.previousElementSibling;\n",
       "    if (outputDiv.id !== \"altair-viz-4f2cd15e3fb344c68e41f504064792c4\") {\n",
       "      outputDiv = document.getElementById(\"altair-viz-4f2cd15e3fb344c68e41f504064792c4\");\n",
       "    }\n",
       "    const paths = {\n",
       "      \"vega\": \"https://cdn.jsdelivr.net/npm//vega@5?noext\",\n",
       "      \"vega-lib\": \"https://cdn.jsdelivr.net/npm//vega-lib?noext\",\n",
       "      \"vega-lite\": \"https://cdn.jsdelivr.net/npm//vega-lite@4.17.0?noext\",\n",
       "      \"vega-embed\": \"https://cdn.jsdelivr.net/npm//vega-embed@6?noext\",\n",
       "    };\n",
       "\n",
       "    function maybeLoadScript(lib, version) {\n",
       "      var key = `${lib.replace(\"-\", \"\")}_version`;\n",
       "      return (VEGA_DEBUG[key] == version) ?\n",
       "        Promise.resolve(paths[lib]) :\n",
       "        new Promise(function(resolve, reject) {\n",
       "          var s = document.createElement('script');\n",
       "          document.getElementsByTagName(\"head\")[0].appendChild(s);\n",
       "          s.async = true;\n",
       "          s.onload = () => {\n",
       "            VEGA_DEBUG[key] = version;\n",
       "            return resolve(paths[lib]);\n",
       "          };\n",
       "          s.onerror = () => reject(`Error loading script: ${paths[lib]}`);\n",
       "          s.src = paths[lib];\n",
       "        });\n",
       "    }\n",
       "\n",
       "    function showError(err) {\n",
       "      outputDiv.innerHTML = `<div class=\"error\" style=\"color:red;\">${err}</div>`;\n",
       "      throw err;\n",
       "    }\n",
       "\n",
       "    function displayChart(vegaEmbed) {\n",
       "      vegaEmbed(outputDiv, spec, embedOpt)\n",
       "        .catch(err => showError(`Javascript Error: ${err.message}<br>This usually means there's a typo in your chart specification. See the javascript console for the full traceback.`));\n",
       "    }\n",
       "\n",
       "    if(typeof define === \"function\" && define.amd) {\n",
       "      requirejs.config({paths});\n",
       "      require([\"vega-embed\"], displayChart, err => showError(`Error loading script: ${err.message}`));\n",
       "    } else {\n",
       "      maybeLoadScript(\"vega\", \"5\")\n",
       "        .then(() => maybeLoadScript(\"vega-lite\", \"4.17.0\"))\n",
       "        .then(() => maybeLoadScript(\"vega-embed\", \"6\"))\n",
       "        .catch(showError)\n",
       "        .then(() => displayChart(vegaEmbed));\n",
       "    }\n",
       "  })({\"config\": {\"view\": {\"continuousWidth\": 400, \"continuousHeight\": 300}, \"axis\": {\"domainColor\": \"#cbcbcb\", \"grid\": true, \"gridColor\": \"#cbcbcb\", \"gridWidth\": 1, \"labelColor\": \"#474747\", \"labelFont\": \"Nunito Sans\", \"labelFontSize\": 10, \"labelPadding\": 4, \"tickColor\": \"#cbcbcb\", \"tickSize\": 10, \"titleColor\": \"#333\", \"titleFont\": \"Raleway\", \"titleFontSize\": 12, \"titlePadding\": 10}, \"axisBand\": {\"grid\": false}, \"background\": \"white\", \"font\": \"Raleway\", \"header\": {\"labelFont\": \"Nunito Sans\", \"titleFont\": \"Raleway\"}, \"legend\": {\"labelColor\": \"#333\", \"labelFont\": \"Nunito Sans\", \"labelFontSize\": 11, \"labelLimit\": 0, \"padding\": 1, \"symbolSize\": 30, \"symbolType\": \"square\", \"titleColor\": \"#333\", \"titleFont\": \"Raleway\", \"titleFontSize\": 14, \"titlePadding\": 10}, \"title\": {\"anchor\": \"middle\", \"font\": \"Raleway\", \"fontSize\": 18, \"fontWeight\": 300, \"offset\": 20}}, \"data\": {\"name\": \"data-ea6afd526d44d9cd3d24dedbad584f46\"}, \"mark\": \"line\", \"encoding\": {\"tooltip\": [{\"field\": \"Year\", \"type\": \"quantitative\"}, {\"field\": \"count\", \"type\": \"quantitative\"}], \"x\": {\"field\": \"Year\", \"title\": \"Prepared Year\", \"type\": \"ordinal\"}, \"y\": {\"field\": \"count\", \"title\": \"Count\", \"type\": \"quantitative\"}}, \"height\": 250, \"width\": 400, \"$schema\": \"https://vega.github.io/schema/vega-lite/v4.17.0.json\", \"datasets\": {\"data-ea6afd526d44d9cd3d24dedbad584f46\": [{\"Year\": 2018.0, \"count\": 335, \"variable\": \"prepared_y\"}, {\"Year\": 2014.0, \"count\": 296, \"variable\": \"prepared_y\"}, {\"Year\": 2019.0, \"count\": 281, \"variable\": \"prepared_y\"}, {\"Year\": 2017.0, \"count\": 277, \"variable\": \"prepared_y\"}, {\"Year\": 2021.0, \"count\": 276, \"variable\": \"prepared_y\"}, {\"Year\": 2016.0, \"count\": 275, \"variable\": \"prepared_y\"}, {\"Year\": 2020.0, \"count\": 265, \"variable\": \"prepared_y\"}, {\"Year\": 2015.0, \"count\": 261, \"variable\": \"prepared_y\"}, {\"Year\": 2022.0, \"count\": 81, \"variable\": \"prepared_y\"}, {\"Year\": 2013.0, \"count\": 5, \"variable\": \"prepared_y\"}]}}, {\"mode\": \"vega-lite\"});\n",
       "</script>"
      ],
      "text/plain": [
       "alt.Chart(...)"
      ]
     },
     "metadata": {},
     "output_type": "display_data"
    }
   ],
   "source": [
    " #Line chart for Obligations by Year\n",
    "chart_df = (df_top>>filter(_.variable=='prepared_y')).rename(columns= {\"value\":\"Year\"})\n",
    "    \n",
    "chart1= (_dla_utils_reports.basic_line_chart_test_no_save(chart_df, 'Year', 'count', district)).encode(x=alt.X('Year:O', title='Prepared Year'))\n",
    "display(chart1)"
   ]
  },
  {
   "cell_type": "markdown",
   "id": "ff0a6bf9-ddc9-4b6c-b2e1-77de18cf6f80",
   "metadata": {
    "papermill": {
     "duration": 0.007799,
     "end_time": "2022-05-18T18:00:25.120820",
     "exception": false,
     "start_time": "2022-05-18T18:00:25.113021",
     "status": "completed"
    },
    "tags": []
   },
   "source": [
    "### Number of Unique Agencies by District"
   ]
  },
  {
   "cell_type": "code",
   "execution_count": 8,
   "id": "0bc7e34d-545e-4afd-92e9-a17630d0ae89",
   "metadata": {
    "execution": {
     "iopub.execute_input": "2022-05-18T18:00:25.140787Z",
     "iopub.status.busy": "2022-05-18T18:00:25.140534Z",
     "iopub.status.idle": "2022-05-18T18:00:25.242045Z",
     "shell.execute_reply": "2022-05-18T18:00:25.241558Z"
    },
    "jupyter": {
     "source_hidden": true
    },
    "papermill": {
     "duration": 0.113788,
     "end_time": "2022-05-18T18:00:25.243774",
     "exception": false,
     "start_time": "2022-05-18T18:00:25.129986",
     "status": "completed"
    },
    "tags": [
     "remove_input"
    ]
   },
   "outputs": [
    {
     "data": {
      "text/html": [
       "\n",
       "<div id=\"altair-viz-96c5e18164f542abb02ac02ce20858b2\"></div>\n",
       "<script type=\"text/javascript\">\n",
       "  var VEGA_DEBUG = (typeof VEGA_DEBUG == \"undefined\") ? {} : VEGA_DEBUG;\n",
       "  (function(spec, embedOpt){\n",
       "    let outputDiv = document.currentScript.previousElementSibling;\n",
       "    if (outputDiv.id !== \"altair-viz-96c5e18164f542abb02ac02ce20858b2\") {\n",
       "      outputDiv = document.getElementById(\"altair-viz-96c5e18164f542abb02ac02ce20858b2\");\n",
       "    }\n",
       "    const paths = {\n",
       "      \"vega\": \"https://cdn.jsdelivr.net/npm//vega@5?noext\",\n",
       "      \"vega-lib\": \"https://cdn.jsdelivr.net/npm//vega-lib?noext\",\n",
       "      \"vega-lite\": \"https://cdn.jsdelivr.net/npm//vega-lite@4.17.0?noext\",\n",
       "      \"vega-embed\": \"https://cdn.jsdelivr.net/npm//vega-embed@6?noext\",\n",
       "    };\n",
       "\n",
       "    function maybeLoadScript(lib, version) {\n",
       "      var key = `${lib.replace(\"-\", \"\")}_version`;\n",
       "      return (VEGA_DEBUG[key] == version) ?\n",
       "        Promise.resolve(paths[lib]) :\n",
       "        new Promise(function(resolve, reject) {\n",
       "          var s = document.createElement('script');\n",
       "          document.getElementsByTagName(\"head\")[0].appendChild(s);\n",
       "          s.async = true;\n",
       "          s.onload = () => {\n",
       "            VEGA_DEBUG[key] = version;\n",
       "            return resolve(paths[lib]);\n",
       "          };\n",
       "          s.onerror = () => reject(`Error loading script: ${paths[lib]}`);\n",
       "          s.src = paths[lib];\n",
       "        });\n",
       "    }\n",
       "\n",
       "    function showError(err) {\n",
       "      outputDiv.innerHTML = `<div class=\"error\" style=\"color:red;\">${err}</div>`;\n",
       "      throw err;\n",
       "    }\n",
       "\n",
       "    function displayChart(vegaEmbed) {\n",
       "      vegaEmbed(outputDiv, spec, embedOpt)\n",
       "        .catch(err => showError(`Javascript Error: ${err.message}<br>This usually means there's a typo in your chart specification. See the javascript console for the full traceback.`));\n",
       "    }\n",
       "\n",
       "    if(typeof define === \"function\" && define.amd) {\n",
       "      requirejs.config({paths});\n",
       "      require([\"vega-embed\"], displayChart, err => showError(`Error loading script: ${err.message}`));\n",
       "    } else {\n",
       "      maybeLoadScript(\"vega\", \"5\")\n",
       "        .then(() => maybeLoadScript(\"vega-lite\", \"4.17.0\"))\n",
       "        .then(() => maybeLoadScript(\"vega-embed\", \"6\"))\n",
       "        .catch(showError)\n",
       "        .then(() => displayChart(vegaEmbed));\n",
       "    }\n",
       "  })({\"config\": {\"view\": {\"continuousWidth\": 400, \"continuousHeight\": 300}, \"axis\": {\"domainColor\": \"#cbcbcb\", \"grid\": true, \"gridColor\": \"#cbcbcb\", \"gridWidth\": 1, \"labelColor\": \"#474747\", \"labelFont\": \"Nunito Sans\", \"labelFontSize\": 10, \"labelPadding\": 4, \"tickColor\": \"#cbcbcb\", \"tickSize\": 10, \"titleColor\": \"#333\", \"titleFont\": \"Raleway\", \"titleFontSize\": 12, \"titlePadding\": 10}, \"axisBand\": {\"grid\": false}, \"background\": \"white\", \"font\": \"Raleway\", \"header\": {\"labelFont\": \"Nunito Sans\", \"titleFont\": \"Raleway\"}, \"legend\": {\"labelColor\": \"#333\", \"labelFont\": \"Nunito Sans\", \"labelFontSize\": 11, \"labelLimit\": 0, \"padding\": 1, \"symbolSize\": 30, \"symbolType\": \"square\", \"titleColor\": \"#333\", \"titleFont\": \"Raleway\", \"titleFontSize\": 14, \"titlePadding\": 10}, \"title\": {\"anchor\": \"middle\", \"font\": \"Raleway\", \"fontSize\": 18, \"fontWeight\": 300, \"offset\": 20}}, \"data\": {\"name\": \"data-f6b2abdee293419855f6d3e05b57e974\"}, \"mark\": \"bar\", \"encoding\": {\"color\": {\"field\": \"District\", \"legend\": {\"title\": \"Prepared Year\"}, \"scale\": {\"range\": [\"#B9D6DF\", \"#8CBCCB\", \"#2EA8CE\", \"#136C97\", \"#0B405B\"]}, \"type\": \"nominal\"}, \"column\": {\"field\": \"District\", \"type\": \"nominal\"}, \"tooltip\": [{\"field\": \"prepared_y\", \"type\": \"quantitative\"}, {\"field\": \"Count\", \"type\": \"quantitative\"}], \"x\": {\"field\": \"prepared_y\", \"title\": \"Prepared Year\", \"type\": \"ordinal\"}, \"y\": {\"field\": \"Count\", \"title\": \"Number of Unique Agencies\", \"type\": \"quantitative\"}}, \"height\": 250, \"width\": 400, \"$schema\": \"https://vega.github.io/schema/vega-lite/v4.17.0.json\", \"datasets\": {\"data-f6b2abdee293419855f6d3e05b57e974\": [{\"prepared_y\": 2022.0, \"District\": 10, \"Count\": 21}, {\"prepared_y\": 2021.0, \"District\": 10, \"Count\": 37}, {\"prepared_y\": 2020.0, \"District\": 10, \"Count\": 38}, {\"prepared_y\": 2019.0, \"District\": 10, \"Count\": 44}, {\"prepared_y\": 2018.0, \"District\": 10, \"Count\": 44}, {\"prepared_y\": 2017.0, \"District\": 10, \"Count\": 39}, {\"prepared_y\": 2016.0, \"District\": 10, \"Count\": 39}, {\"prepared_y\": 2015.0, \"District\": 10, \"Count\": 40}, {\"prepared_y\": 2014.0, \"District\": 10, \"Count\": 42}, {\"prepared_y\": 2013.0, \"District\": 10, \"Count\": 5}]}}, {\"mode\": \"vega-lite\"});\n",
       "</script>"
      ],
      "text/plain": [
       "alt.Chart(...)"
      ]
     },
     "metadata": {},
     "output_type": "display_data"
    }
   ],
   "source": [
    "# Unique Agencies by Dist\n",
    "dist_years_agency = ((\n",
    "        df\n",
    "        >> group_by(_.prepared_y, _.dist)\n",
    "        >> summarize(n=_.primary_agency_name.nunique())\n",
    "        >> arrange(-_.prepared_y)\n",
    "    )\n",
    "        .rename(columns={'dist':'District', 'n':'Count'})\n",
    "    )\n",
    "chart10 = (alt.Chart(dist_years_agency).mark_bar().encode(\n",
    "        column='District:N',\n",
    "        x=alt.X('prepared_y:O', title='Prepared Year'),\n",
    "        y=alt.Y('Count:Q', title='Number of Unique Agencies'),\n",
    "        color = alt.Color(\"District:N\", \n",
    "                              scale=alt.Scale(\n",
    "                                  range=altair_utils.CALITP_SEQUENTIAL_COLORS),  \n",
    "                               legend=alt.Legend(title=\"Prepared Year\")\n",
    "                              )))\n",
    "                              \n",
    "chart10 = styleguide.preset_chart_config(chart10)\n",
    "chart10 = _dla_utils_reports.add_tooltip(chart10, 'prepared_y', 'Count')\n",
    "\n",
    "display(chart10)"
   ]
  },
  {
   "cell_type": "markdown",
   "id": "70c59c39-590d-4136-aa09-ee6ed5afc872",
   "metadata": {
    "papermill": {
     "duration": 0.008905,
     "end_time": "2022-05-18T18:00:25.261123",
     "exception": false,
     "start_time": "2022-05-18T18:00:25.252218",
     "status": "completed"
    },
    "tags": []
   },
   "source": [
    "### Agencies With The Most Obligations"
   ]
  },
  {
   "cell_type": "code",
   "execution_count": 9,
   "id": "faa4758e-8a41-44f8-aec4-b8cc4d75d906",
   "metadata": {
    "execution": {
     "iopub.execute_input": "2022-05-18T18:00:25.283733Z",
     "iopub.status.busy": "2022-05-18T18:00:25.283271Z",
     "iopub.status.idle": "2022-05-18T18:00:25.373578Z",
     "shell.execute_reply": "2022-05-18T18:00:25.373117Z"
    },
    "jupyter": {
     "source_hidden": true
    },
    "papermill": {
     "duration": 0.102223,
     "end_time": "2022-05-18T18:00:25.375456",
     "exception": false,
     "start_time": "2022-05-18T18:00:25.273233",
     "status": "completed"
    },
    "tags": [
     "remove_input"
    ]
   },
   "outputs": [
    {
     "data": {
      "text/html": [
       "\n",
       "<div id=\"altair-viz-6585cc22588d471cb51d61a2b7665bec\"></div>\n",
       "<script type=\"text/javascript\">\n",
       "  var VEGA_DEBUG = (typeof VEGA_DEBUG == \"undefined\") ? {} : VEGA_DEBUG;\n",
       "  (function(spec, embedOpt){\n",
       "    let outputDiv = document.currentScript.previousElementSibling;\n",
       "    if (outputDiv.id !== \"altair-viz-6585cc22588d471cb51d61a2b7665bec\") {\n",
       "      outputDiv = document.getElementById(\"altair-viz-6585cc22588d471cb51d61a2b7665bec\");\n",
       "    }\n",
       "    const paths = {\n",
       "      \"vega\": \"https://cdn.jsdelivr.net/npm//vega@5?noext\",\n",
       "      \"vega-lib\": \"https://cdn.jsdelivr.net/npm//vega-lib?noext\",\n",
       "      \"vega-lite\": \"https://cdn.jsdelivr.net/npm//vega-lite@4.17.0?noext\",\n",
       "      \"vega-embed\": \"https://cdn.jsdelivr.net/npm//vega-embed@6?noext\",\n",
       "    };\n",
       "\n",
       "    function maybeLoadScript(lib, version) {\n",
       "      var key = `${lib.replace(\"-\", \"\")}_version`;\n",
       "      return (VEGA_DEBUG[key] == version) ?\n",
       "        Promise.resolve(paths[lib]) :\n",
       "        new Promise(function(resolve, reject) {\n",
       "          var s = document.createElement('script');\n",
       "          document.getElementsByTagName(\"head\")[0].appendChild(s);\n",
       "          s.async = true;\n",
       "          s.onload = () => {\n",
       "            VEGA_DEBUG[key] = version;\n",
       "            return resolve(paths[lib]);\n",
       "          };\n",
       "          s.onerror = () => reject(`Error loading script: ${paths[lib]}`);\n",
       "          s.src = paths[lib];\n",
       "        });\n",
       "    }\n",
       "\n",
       "    function showError(err) {\n",
       "      outputDiv.innerHTML = `<div class=\"error\" style=\"color:red;\">${err}</div>`;\n",
       "      throw err;\n",
       "    }\n",
       "\n",
       "    function displayChart(vegaEmbed) {\n",
       "      vegaEmbed(outputDiv, spec, embedOpt)\n",
       "        .catch(err => showError(`Javascript Error: ${err.message}<br>This usually means there's a typo in your chart specification. See the javascript console for the full traceback.`));\n",
       "    }\n",
       "\n",
       "    if(typeof define === \"function\" && define.amd) {\n",
       "      requirejs.config({paths});\n",
       "      require([\"vega-embed\"], displayChart, err => showError(`Error loading script: ${err.message}`));\n",
       "    } else {\n",
       "      maybeLoadScript(\"vega\", \"5\")\n",
       "        .then(() => maybeLoadScript(\"vega-lite\", \"4.17.0\"))\n",
       "        .then(() => maybeLoadScript(\"vega-embed\", \"6\"))\n",
       "        .catch(showError)\n",
       "        .then(() => displayChart(vegaEmbed));\n",
       "    }\n",
       "  })({\"config\": {\"view\": {\"continuousWidth\": 400, \"continuousHeight\": 300}, \"axis\": {\"domainColor\": \"#cbcbcb\", \"grid\": true, \"gridColor\": \"#cbcbcb\", \"gridWidth\": 1, \"labelColor\": \"#474747\", \"labelFont\": \"Nunito Sans\", \"labelFontSize\": 10, \"labelPadding\": 4, \"tickColor\": \"#cbcbcb\", \"tickSize\": 10, \"titleColor\": \"#333\", \"titleFont\": \"Raleway\", \"titleFontSize\": 12, \"titlePadding\": 10}, \"axisBand\": {\"grid\": false}, \"background\": \"white\", \"font\": \"Raleway\", \"header\": {\"labelFont\": \"Nunito Sans\", \"titleFont\": \"Raleway\"}, \"legend\": {\"labelColor\": \"#333\", \"labelFont\": \"Nunito Sans\", \"labelFontSize\": 11, \"labelLimit\": 0, \"padding\": 1, \"symbolSize\": 30, \"symbolType\": \"square\", \"titleColor\": \"#333\", \"titleFont\": \"Raleway\", \"titleFontSize\": 14, \"titlePadding\": 10}, \"title\": {\"anchor\": \"middle\", \"font\": \"Raleway\", \"fontSize\": 18, \"fontWeight\": 300, \"offset\": 20}}, \"data\": {\"name\": \"data-c392b3ff7d3a1491e0e6350855bab2a7\"}, \"mark\": \"bar\", \"encoding\": {\"color\": {\"field\": \"Agency\", \"legend\": {\"symbolLimit\": 10, \"title\": \"Agency\"}, \"scale\": {\"range\": [\"#2EA8CE\", \"#EB9F3C\", \"#F4D837\", \"#51BF9D\", \"#8CBCCB\", \"#9487C0\"]}, \"type\": \"nominal\"}, \"tooltip\": [{\"field\": \"Agency\", \"type\": \"nominal\"}, {\"field\": \"Number of Obligations\", \"type\": \"quantitative\"}], \"x\": {\"field\": \"Agency\", \"sort\": \"-y\", \"title\": \"Agency\", \"type\": \"nominal\"}, \"y\": {\"field\": \"Number of Obligations\", \"title\": \"Number Of Obligations\", \"type\": \"quantitative\"}}, \"height\": 250, \"width\": 400, \"$schema\": \"https://vega.github.io/schema/vega-lite/v4.17.0.json\", \"datasets\": {\"data-c392b3ff7d3a1491e0e6350855bab2a7\": [{\"Agency\": \"Stockton\", \"Number of Obligations\": 277, \"variable\": \"primary_agency_name\"}, {\"Agency\": \"San Joaquin County\", \"Number of Obligations\": 274, \"variable\": \"primary_agency_name\"}, {\"Agency\": \"Modesto\", \"Number of Obligations\": 252, \"variable\": \"primary_agency_name\"}, {\"Agency\": \"Stanislaus County\", \"Number of Obligations\": 221, \"variable\": \"primary_agency_name\"}, {\"Agency\": \"Calaveras County\", \"Number of Obligations\": 130, \"variable\": \"primary_agency_name\"}, {\"Agency\": \"Merced County\", \"Number of Obligations\": 128, \"variable\": \"primary_agency_name\"}, {\"Agency\": \"Turlock\", \"Number of Obligations\": 92, \"variable\": \"primary_agency_name\"}, {\"Agency\": \"Tuolumne County\", \"Number of Obligations\": 87, \"variable\": \"primary_agency_name\"}, {\"Agency\": \"Ceres\", \"Number of Obligations\": 86, \"variable\": \"primary_agency_name\"}, {\"Agency\": \"Merced\", \"Number of Obligations\": 69, \"variable\": \"primary_agency_name\"}, {\"Agency\": \"Mariposa County\", \"Number of Obligations\": 66, \"variable\": \"primary_agency_name\"}, {\"Agency\": \"Riverbank\", \"Number of Obligations\": 46, \"variable\": \"primary_agency_name\"}, {\"Agency\": \"Tracy\", \"Number of Obligations\": 43, \"variable\": \"primary_agency_name\"}, {\"Agency\": \"Stanislaus Council of Governments\", \"Number of Obligations\": 40, \"variable\": \"primary_agency_name\"}, {\"Agency\": \"Atwater\", \"Number of Obligations\": 39, \"variable\": \"primary_agency_name\"}, {\"Agency\": \"Amador County\", \"Number of Obligations\": 38, \"variable\": \"primary_agency_name\"}, {\"Agency\": \"Oakdale\", \"Number of Obligations\": 32, \"variable\": \"primary_agency_name\"}, {\"Agency\": \"Gustine\", \"Number of Obligations\": 31, \"variable\": \"primary_agency_name\"}, {\"Agency\": \"Patterson\", \"Number of Obligations\": 31, \"variable\": \"primary_agency_name\"}, {\"Agency\": \"Newman\", \"Number of Obligations\": 26, \"variable\": \"primary_agency_name\"}]}}, {\"mode\": \"vega-lite\"});\n",
       "</script>"
      ],
      "text/plain": [
       "alt.Chart(...)"
      ]
     },
     "metadata": {},
     "output_type": "display_data"
    }
   ],
   "source": [
    "#Bar chart Agencies With The Most Obligations\n",
    "chart_df = (df_top>>filter(_.variable=='primary_agency_name')).rename(columns={\"value\":\"Agency\",\n",
    "                                 \"count\":\"Number of Obligations\"})\n",
    "chart2 = (_dla_utils_reports.basic_bar_chart_no_save(chart_df, 'Agency', 'Number of Obligations', 'Agency', district))\n",
    "    \n",
    "\n",
    "display(chart2)\n"
   ]
  },
  {
   "cell_type": "markdown",
   "id": "5a3bed5f-4325-47af-9cc7-683f9872817f",
   "metadata": {
    "papermill": {
     "duration": 0.008441,
     "end_time": "2022-05-18T18:00:25.392606",
     "exception": false,
     "start_time": "2022-05-18T18:00:25.384165",
     "status": "completed"
    },
    "tags": []
   },
   "source": [
    "## Prefix Codes"
   ]
  },
  {
   "cell_type": "markdown",
   "id": "cfded756-3c93-4089-be41-68e19d28b304",
   "metadata": {
    "papermill": {
     "duration": 0.008412,
     "end_time": "2022-05-18T18:00:25.412330",
     "exception": false,
     "start_time": "2022-05-18T18:00:25.403918",
     "status": "completed"
    },
    "tags": []
   },
   "source": [
    "Prefix Codes refer to the program an obligation is in. Similar to the number of obligations, calcuating the unique prefix codes provides insight to how many progams DLA is involved in each year as well as workload at the district and organization level.\n",
    "\n",
    "Metrics: \n",
    "* Number of Unique Prefix Codes by Districts\n",
    "* Most Used Prefix Codes\n",
    "* Agencies With The Most Unique Prefix Codes"
   ]
  },
  {
   "cell_type": "markdown",
   "id": "f8cb2832-947d-4631-9b4c-c81fb118cab3",
   "metadata": {
    "papermill": {
     "duration": 0.008416,
     "end_time": "2022-05-18T18:00:25.432320",
     "exception": false,
     "start_time": "2022-05-18T18:00:25.423904",
     "status": "completed"
    },
    "tags": []
   },
   "source": [
    "### Number of Unique Prefix Codes by District"
   ]
  },
  {
   "cell_type": "code",
   "execution_count": 10,
   "id": "f661bd63-f8aa-4048-b035-03d5bf1b7e95",
   "metadata": {
    "execution": {
     "iopub.execute_input": "2022-05-18T18:00:25.452091Z",
     "iopub.status.busy": "2022-05-18T18:00:25.451895Z",
     "iopub.status.idle": "2022-05-18T18:00:25.546552Z",
     "shell.execute_reply": "2022-05-18T18:00:25.545817Z"
    },
    "jupyter": {
     "source_hidden": true
    },
    "papermill": {
     "duration": 0.106613,
     "end_time": "2022-05-18T18:00:25.548554",
     "exception": false,
     "start_time": "2022-05-18T18:00:25.441941",
     "status": "completed"
    },
    "tags": [
     "remove_input"
    ]
   },
   "outputs": [
    {
     "data": {
      "text/html": [
       "\n",
       "<div id=\"altair-viz-4a64a91780c8442ea6733509b643ae88\"></div>\n",
       "<script type=\"text/javascript\">\n",
       "  var VEGA_DEBUG = (typeof VEGA_DEBUG == \"undefined\") ? {} : VEGA_DEBUG;\n",
       "  (function(spec, embedOpt){\n",
       "    let outputDiv = document.currentScript.previousElementSibling;\n",
       "    if (outputDiv.id !== \"altair-viz-4a64a91780c8442ea6733509b643ae88\") {\n",
       "      outputDiv = document.getElementById(\"altair-viz-4a64a91780c8442ea6733509b643ae88\");\n",
       "    }\n",
       "    const paths = {\n",
       "      \"vega\": \"https://cdn.jsdelivr.net/npm//vega@5?noext\",\n",
       "      \"vega-lib\": \"https://cdn.jsdelivr.net/npm//vega-lib?noext\",\n",
       "      \"vega-lite\": \"https://cdn.jsdelivr.net/npm//vega-lite@4.17.0?noext\",\n",
       "      \"vega-embed\": \"https://cdn.jsdelivr.net/npm//vega-embed@6?noext\",\n",
       "    };\n",
       "\n",
       "    function maybeLoadScript(lib, version) {\n",
       "      var key = `${lib.replace(\"-\", \"\")}_version`;\n",
       "      return (VEGA_DEBUG[key] == version) ?\n",
       "        Promise.resolve(paths[lib]) :\n",
       "        new Promise(function(resolve, reject) {\n",
       "          var s = document.createElement('script');\n",
       "          document.getElementsByTagName(\"head\")[0].appendChild(s);\n",
       "          s.async = true;\n",
       "          s.onload = () => {\n",
       "            VEGA_DEBUG[key] = version;\n",
       "            return resolve(paths[lib]);\n",
       "          };\n",
       "          s.onerror = () => reject(`Error loading script: ${paths[lib]}`);\n",
       "          s.src = paths[lib];\n",
       "        });\n",
       "    }\n",
       "\n",
       "    function showError(err) {\n",
       "      outputDiv.innerHTML = `<div class=\"error\" style=\"color:red;\">${err}</div>`;\n",
       "      throw err;\n",
       "    }\n",
       "\n",
       "    function displayChart(vegaEmbed) {\n",
       "      vegaEmbed(outputDiv, spec, embedOpt)\n",
       "        .catch(err => showError(`Javascript Error: ${err.message}<br>This usually means there's a typo in your chart specification. See the javascript console for the full traceback.`));\n",
       "    }\n",
       "\n",
       "    if(typeof define === \"function\" && define.amd) {\n",
       "      requirejs.config({paths});\n",
       "      require([\"vega-embed\"], displayChart, err => showError(`Error loading script: ${err.message}`));\n",
       "    } else {\n",
       "      maybeLoadScript(\"vega\", \"5\")\n",
       "        .then(() => maybeLoadScript(\"vega-lite\", \"4.17.0\"))\n",
       "        .then(() => maybeLoadScript(\"vega-embed\", \"6\"))\n",
       "        .catch(showError)\n",
       "        .then(() => displayChart(vegaEmbed));\n",
       "    }\n",
       "  })({\"config\": {\"view\": {\"continuousWidth\": 400, \"continuousHeight\": 300}, \"axis\": {\"domainColor\": \"#cbcbcb\", \"grid\": true, \"gridColor\": \"#cbcbcb\", \"gridWidth\": 1, \"labelColor\": \"#474747\", \"labelFont\": \"Nunito Sans\", \"labelFontSize\": 10, \"labelPadding\": 4, \"tickColor\": \"#cbcbcb\", \"tickSize\": 10, \"titleColor\": \"#333\", \"titleFont\": \"Raleway\", \"titleFontSize\": 12, \"titlePadding\": 10}, \"axisBand\": {\"grid\": false}, \"background\": \"white\", \"font\": \"Raleway\", \"header\": {\"labelFont\": \"Nunito Sans\", \"titleFont\": \"Raleway\"}, \"legend\": {\"labelColor\": \"#333\", \"labelFont\": \"Nunito Sans\", \"labelFontSize\": 11, \"labelLimit\": 0, \"padding\": 1, \"symbolSize\": 30, \"symbolType\": \"square\", \"titleColor\": \"#333\", \"titleFont\": \"Raleway\", \"titleFontSize\": 14, \"titlePadding\": 10}, \"title\": {\"anchor\": \"middle\", \"font\": \"Raleway\", \"fontSize\": 18, \"fontWeight\": 300, \"offset\": 20}}, \"data\": {\"name\": \"data-2f657d526ec551b108b11522575c76f1\"}, \"mark\": \"bar\", \"encoding\": {\"color\": {\"field\": \"District\", \"legend\": {\"title\": \"District\"}, \"scale\": {\"range\": [\"#B9D6DF\", \"#8CBCCB\", \"#2EA8CE\", \"#136C97\", \"#0B405B\"]}, \"type\": \"nominal\"}, \"column\": {\"field\": \"District\", \"type\": \"nominal\"}, \"tooltip\": [{\"field\": \"prepared_y\", \"type\": \"quantitative\"}, {\"field\": \"Count\", \"type\": \"quantitative\"}], \"x\": {\"field\": \"prepared_y\", \"title\": \"Prepared Year\", \"type\": \"ordinal\"}, \"y\": {\"field\": \"Count\", \"title\": \"Number of Unique Agencies\", \"type\": \"quantitative\"}}, \"height\": 250, \"width\": 400, \"$schema\": \"https://vega.github.io/schema/vega-lite/v4.17.0.json\", \"datasets\": {\"data-2f657d526ec551b108b11522575c76f1\": [{\"prepared_y\": 2022.0, \"District\": 10, \"Count\": 12}, {\"prepared_y\": 2021.0, \"District\": 10, \"Count\": 27}, {\"prepared_y\": 2020.0, \"District\": 10, \"Count\": 25}, {\"prepared_y\": 2019.0, \"District\": 10, \"Count\": 31}, {\"prepared_y\": 2018.0, \"District\": 10, \"Count\": 27}, {\"prepared_y\": 2017.0, \"District\": 10, \"Count\": 26}, {\"prepared_y\": 2016.0, \"District\": 10, \"Count\": 23}, {\"prepared_y\": 2015.0, \"District\": 10, \"Count\": 29}, {\"prepared_y\": 2014.0, \"District\": 10, \"Count\": 30}, {\"prepared_y\": 2013.0, \"District\": 10, \"Count\": 4}]}}, {\"mode\": \"vega-lite\"});\n",
       "</script>"
      ],
      "text/plain": [
       "alt.Chart(...)"
      ]
     },
     "metadata": {},
     "output_type": "display_data"
    }
   ],
   "source": [
    "#Unique Prefixes by Dist\n",
    "dist_years_prefix = ((\n",
    "        df\n",
    "        >> group_by(_.prepared_y, _.dist)\n",
    "        >> summarize(n=_.prefix.nunique())\n",
    "        >> arrange(-_.prepared_y)\n",
    "    ).rename(columns={'dist':'District', 'n':'Count'}))\n",
    "\n",
    "chart11 = (alt.Chart(dist_years_prefix).mark_bar().encode(\n",
    "        column='District:N',\n",
    "        x=alt.X('prepared_y:O', title='Prepared Year'),\n",
    "        y=alt.Y('Count:Q', title='Number of Unique Agencies'),\n",
    "        color = alt.Color(\"District:N\", \n",
    "                              scale=alt.Scale(\n",
    "                                  range=altair_utils.CALITP_SEQUENTIAL_COLORS),  \n",
    "                               legend=alt.Legend(title=\"District\")\n",
    "                              )\n",
    "                              ))\n",
    "chart11 = styleguide.preset_chart_config(chart11)\n",
    "chart11 = _dla_utils_reports.add_tooltip(chart11, 'prepared_y','Count')\n",
    "    \n",
    "\n",
    "display(chart11)"
   ]
  },
  {
   "cell_type": "markdown",
   "id": "c52b3650-9c49-4ab9-a72d-52ecf36d4b7a",
   "metadata": {
    "papermill": {
     "duration": 0.008492,
     "end_time": "2022-05-18T18:00:25.565556",
     "exception": false,
     "start_time": "2022-05-18T18:00:25.557064",
     "status": "completed"
    },
    "tags": []
   },
   "source": [
    "## Most Used Prefix Codes"
   ]
  },
  {
   "cell_type": "code",
   "execution_count": 11,
   "id": "0aca2d9a-062a-4c12-9489-5f9de10f3462",
   "metadata": {
    "execution": {
     "iopub.execute_input": "2022-05-18T18:00:25.588931Z",
     "iopub.status.busy": "2022-05-18T18:00:25.588487Z",
     "iopub.status.idle": "2022-05-18T18:00:25.666505Z",
     "shell.execute_reply": "2022-05-18T18:00:25.665930Z"
    },
    "jupyter": {
     "source_hidden": true
    },
    "papermill": {
     "duration": 0.092218,
     "end_time": "2022-05-18T18:00:25.668294",
     "exception": false,
     "start_time": "2022-05-18T18:00:25.576076",
     "status": "completed"
    },
    "tags": [
     "remove_input"
    ]
   },
   "outputs": [
    {
     "data": {
      "text/html": [
       "\n",
       "<div id=\"altair-viz-e6991324f8a44008a831982a4b4b3a35\"></div>\n",
       "<script type=\"text/javascript\">\n",
       "  var VEGA_DEBUG = (typeof VEGA_DEBUG == \"undefined\") ? {} : VEGA_DEBUG;\n",
       "  (function(spec, embedOpt){\n",
       "    let outputDiv = document.currentScript.previousElementSibling;\n",
       "    if (outputDiv.id !== \"altair-viz-e6991324f8a44008a831982a4b4b3a35\") {\n",
       "      outputDiv = document.getElementById(\"altair-viz-e6991324f8a44008a831982a4b4b3a35\");\n",
       "    }\n",
       "    const paths = {\n",
       "      \"vega\": \"https://cdn.jsdelivr.net/npm//vega@5?noext\",\n",
       "      \"vega-lib\": \"https://cdn.jsdelivr.net/npm//vega-lib?noext\",\n",
       "      \"vega-lite\": \"https://cdn.jsdelivr.net/npm//vega-lite@4.17.0?noext\",\n",
       "      \"vega-embed\": \"https://cdn.jsdelivr.net/npm//vega-embed@6?noext\",\n",
       "    };\n",
       "\n",
       "    function maybeLoadScript(lib, version) {\n",
       "      var key = `${lib.replace(\"-\", \"\")}_version`;\n",
       "      return (VEGA_DEBUG[key] == version) ?\n",
       "        Promise.resolve(paths[lib]) :\n",
       "        new Promise(function(resolve, reject) {\n",
       "          var s = document.createElement('script');\n",
       "          document.getElementsByTagName(\"head\")[0].appendChild(s);\n",
       "          s.async = true;\n",
       "          s.onload = () => {\n",
       "            VEGA_DEBUG[key] = version;\n",
       "            return resolve(paths[lib]);\n",
       "          };\n",
       "          s.onerror = () => reject(`Error loading script: ${paths[lib]}`);\n",
       "          s.src = paths[lib];\n",
       "        });\n",
       "    }\n",
       "\n",
       "    function showError(err) {\n",
       "      outputDiv.innerHTML = `<div class=\"error\" style=\"color:red;\">${err}</div>`;\n",
       "      throw err;\n",
       "    }\n",
       "\n",
       "    function displayChart(vegaEmbed) {\n",
       "      vegaEmbed(outputDiv, spec, embedOpt)\n",
       "        .catch(err => showError(`Javascript Error: ${err.message}<br>This usually means there's a typo in your chart specification. See the javascript console for the full traceback.`));\n",
       "    }\n",
       "\n",
       "    if(typeof define === \"function\" && define.amd) {\n",
       "      requirejs.config({paths});\n",
       "      require([\"vega-embed\"], displayChart, err => showError(`Error loading script: ${err.message}`));\n",
       "    } else {\n",
       "      maybeLoadScript(\"vega\", \"5\")\n",
       "        .then(() => maybeLoadScript(\"vega-lite\", \"4.17.0\"))\n",
       "        .then(() => maybeLoadScript(\"vega-embed\", \"6\"))\n",
       "        .catch(showError)\n",
       "        .then(() => displayChart(vegaEmbed));\n",
       "    }\n",
       "  })({\"config\": {\"view\": {\"continuousWidth\": 400, \"continuousHeight\": 300}, \"axis\": {\"domainColor\": \"#cbcbcb\", \"grid\": true, \"gridColor\": \"#cbcbcb\", \"gridWidth\": 1, \"labelColor\": \"#474747\", \"labelFont\": \"Nunito Sans\", \"labelFontSize\": 10, \"labelPadding\": 4, \"tickColor\": \"#cbcbcb\", \"tickSize\": 10, \"titleColor\": \"#333\", \"titleFont\": \"Raleway\", \"titleFontSize\": 12, \"titlePadding\": 10}, \"axisBand\": {\"grid\": false}, \"background\": \"white\", \"font\": \"Raleway\", \"header\": {\"labelFont\": \"Nunito Sans\", \"titleFont\": \"Raleway\"}, \"legend\": {\"labelColor\": \"#333\", \"labelFont\": \"Nunito Sans\", \"labelFontSize\": 11, \"labelLimit\": 0, \"padding\": 1, \"symbolSize\": 30, \"symbolType\": \"square\", \"titleColor\": \"#333\", \"titleFont\": \"Raleway\", \"titleFontSize\": 14, \"titlePadding\": 10}, \"title\": {\"anchor\": \"middle\", \"font\": \"Raleway\", \"fontSize\": 18, \"fontWeight\": 300, \"offset\": 20}}, \"data\": {\"name\": \"data-b34a29ceb20e926e6493178dfe551067\"}, \"mark\": \"bar\", \"encoding\": {\"color\": {\"field\": \"Prefix\", \"legend\": {\"symbolLimit\": 10, \"title\": \"Prefix\"}, \"scale\": {\"range\": [\"#2EA8CE\", \"#EB9F3C\", \"#F4D837\", \"#51BF9D\", \"#8CBCCB\", \"#9487C0\"]}, \"type\": \"nominal\"}, \"tooltip\": [{\"field\": \"Prefix\", \"type\": \"nominal\"}, {\"field\": \"Number of Obligations\", \"type\": \"quantitative\"}], \"x\": {\"field\": \"Prefix\", \"sort\": \"-y\", \"title\": \"Prefix\", \"type\": \"nominal\"}, \"y\": {\"field\": \"Number of Obligations\", \"title\": \"Number Of Obligations\", \"type\": \"quantitative\"}}, \"height\": 250, \"width\": 400, \"$schema\": \"https://vega.github.io/schema/vega-lite/v4.17.0.json\", \"datasets\": {\"data-b34a29ceb20e926e6493178dfe551067\": [{\"Prefix\": \"CML\", \"Number of Obligations\": 813, \"variable\": \"prefix\"}, {\"Prefix\": \"STPL\", \"Number of Obligations\": 390, \"variable\": \"prefix\"}, {\"Prefix\": \"HSIPL\", \"Number of Obligations\": 239, \"variable\": \"prefix\"}, {\"Prefix\": \"BRLO\", \"Number of Obligations\": 230, \"variable\": \"prefix\"}, {\"Prefix\": \"BRLS\", \"Number of Obligations\": 113, \"variable\": \"prefix\"}, {\"Prefix\": \"ER\", \"Number of Obligations\": 87, \"variable\": \"prefix\"}, {\"Prefix\": \"HRRRL\", \"Number of Obligations\": 81, \"variable\": \"prefix\"}, {\"Prefix\": \"BPMPL\", \"Number of Obligations\": 62, \"variable\": \"prefix\"}, {\"Prefix\": \"ATPL\", \"Number of Obligations\": 34, \"variable\": \"prefix\"}, {\"Prefix\": \"RPSTPL\", \"Number of Obligations\": 31, \"variable\": \"prefix\"}, {\"Prefix\": \"HPLUL\", \"Number of Obligations\": 26, \"variable\": \"prefix\"}, {\"Prefix\": \"CMLNI\", \"Number of Obligations\": 22, \"variable\": \"prefix\"}, {\"Prefix\": \"FTACML\", \"Number of Obligations\": 19, \"variable\": \"prefix\"}, {\"Prefix\": \"BPMP\", \"Number of Obligations\": 18, \"variable\": \"prefix\"}, {\"Prefix\": \"ATPCML\", \"Number of Obligations\": 16, \"variable\": \"prefix\"}, {\"Prefix\": \"ACSTP\", \"Number of Obligations\": 12, \"variable\": \"prefix\"}, {\"Prefix\": \"FERPL\", \"Number of Obligations\": 12, \"variable\": \"prefix\"}, {\"Prefix\": \"SRTSL\", \"Number of Obligations\": 11, \"variable\": \"prefix\"}, {\"Prefix\": \"STPCML\", \"Number of Obligations\": 10, \"variable\": \"prefix\"}, {\"Prefix\": \"BR\", \"Number of Obligations\": 9, \"variable\": \"prefix\"}]}}, {\"mode\": \"vega-lite\"});\n",
       "</script>"
      ],
      "text/plain": [
       "alt.Chart(...)"
      ]
     },
     "metadata": {},
     "output_type": "display_data"
    }
   ],
   "source": [
    "#Bar chart with the Most Used Prefix Counts\n",
    "chart_df = (df_top>>filter(_.variable=='prefix')).rename(columns={\"value\":\"Prefix\",\n",
    "                                 \"count\":\"Number of Obligations\"})\n",
    "chart9= (_dla_utils_reports.basic_bar_chart_no_save(chart_df, 'Prefix', 'Number of Obligations', 'Prefix', district))\n",
    "    \n",
    "\n",
    "display(chart9)\n",
    "    "
   ]
  },
  {
   "cell_type": "markdown",
   "id": "46030e63-c1ae-4834-b538-b09937074207",
   "metadata": {
    "papermill": {
     "duration": 0.009072,
     "end_time": "2022-05-18T18:00:25.686633",
     "exception": false,
     "start_time": "2022-05-18T18:00:25.677561",
     "status": "completed"
    },
    "tags": []
   },
   "source": [
    "## Agencies With The Most Unique Prefix Codes"
   ]
  },
  {
   "cell_type": "code",
   "execution_count": 12,
   "id": "3d21c9b2-833b-463a-9a03-a9c83d727d2e",
   "metadata": {
    "execution": {
     "iopub.execute_input": "2022-05-18T18:00:25.707529Z",
     "iopub.status.busy": "2022-05-18T18:00:25.707307Z",
     "iopub.status.idle": "2022-05-18T18:00:25.818124Z",
     "shell.execute_reply": "2022-05-18T18:00:25.817598Z"
    },
    "jupyter": {
     "source_hidden": true
    },
    "papermill": {
     "duration": 0.123478,
     "end_time": "2022-05-18T18:00:25.819845",
     "exception": false,
     "start_time": "2022-05-18T18:00:25.696367",
     "status": "completed"
    },
    "tags": [
     "remove_input"
    ]
   },
   "outputs": [
    {
     "data": {
      "text/html": [
       "\n",
       "<div id=\"altair-viz-ba1b1e7b0dfc456ea806cc0d0eade212\"></div>\n",
       "<script type=\"text/javascript\">\n",
       "  var VEGA_DEBUG = (typeof VEGA_DEBUG == \"undefined\") ? {} : VEGA_DEBUG;\n",
       "  (function(spec, embedOpt){\n",
       "    let outputDiv = document.currentScript.previousElementSibling;\n",
       "    if (outputDiv.id !== \"altair-viz-ba1b1e7b0dfc456ea806cc0d0eade212\") {\n",
       "      outputDiv = document.getElementById(\"altair-viz-ba1b1e7b0dfc456ea806cc0d0eade212\");\n",
       "    }\n",
       "    const paths = {\n",
       "      \"vega\": \"https://cdn.jsdelivr.net/npm//vega@5?noext\",\n",
       "      \"vega-lib\": \"https://cdn.jsdelivr.net/npm//vega-lib?noext\",\n",
       "      \"vega-lite\": \"https://cdn.jsdelivr.net/npm//vega-lite@4.17.0?noext\",\n",
       "      \"vega-embed\": \"https://cdn.jsdelivr.net/npm//vega-embed@6?noext\",\n",
       "    };\n",
       "\n",
       "    function maybeLoadScript(lib, version) {\n",
       "      var key = `${lib.replace(\"-\", \"\")}_version`;\n",
       "      return (VEGA_DEBUG[key] == version) ?\n",
       "        Promise.resolve(paths[lib]) :\n",
       "        new Promise(function(resolve, reject) {\n",
       "          var s = document.createElement('script');\n",
       "          document.getElementsByTagName(\"head\")[0].appendChild(s);\n",
       "          s.async = true;\n",
       "          s.onload = () => {\n",
       "            VEGA_DEBUG[key] = version;\n",
       "            return resolve(paths[lib]);\n",
       "          };\n",
       "          s.onerror = () => reject(`Error loading script: ${paths[lib]}`);\n",
       "          s.src = paths[lib];\n",
       "        });\n",
       "    }\n",
       "\n",
       "    function showError(err) {\n",
       "      outputDiv.innerHTML = `<div class=\"error\" style=\"color:red;\">${err}</div>`;\n",
       "      throw err;\n",
       "    }\n",
       "\n",
       "    function displayChart(vegaEmbed) {\n",
       "      vegaEmbed(outputDiv, spec, embedOpt)\n",
       "        .catch(err => showError(`Javascript Error: ${err.message}<br>This usually means there's a typo in your chart specification. See the javascript console for the full traceback.`));\n",
       "    }\n",
       "\n",
       "    if(typeof define === \"function\" && define.amd) {\n",
       "      requirejs.config({paths});\n",
       "      require([\"vega-embed\"], displayChart, err => showError(`Error loading script: ${err.message}`));\n",
       "    } else {\n",
       "      maybeLoadScript(\"vega\", \"5\")\n",
       "        .then(() => maybeLoadScript(\"vega-lite\", \"4.17.0\"))\n",
       "        .then(() => maybeLoadScript(\"vega-embed\", \"6\"))\n",
       "        .catch(showError)\n",
       "        .then(() => displayChart(vegaEmbed));\n",
       "    }\n",
       "  })({\"config\": {\"view\": {\"continuousWidth\": 400, \"continuousHeight\": 300}, \"axis\": {\"domainColor\": \"#cbcbcb\", \"grid\": true, \"gridColor\": \"#cbcbcb\", \"gridWidth\": 1, \"labelColor\": \"#474747\", \"labelFont\": \"Nunito Sans\", \"labelFontSize\": 10, \"labelPadding\": 4, \"tickColor\": \"#cbcbcb\", \"tickSize\": 10, \"titleColor\": \"#333\", \"titleFont\": \"Raleway\", \"titleFontSize\": 12, \"titlePadding\": 10}, \"axisBand\": {\"grid\": false}, \"background\": \"white\", \"font\": \"Raleway\", \"header\": {\"labelFont\": \"Nunito Sans\", \"titleFont\": \"Raleway\"}, \"legend\": {\"labelColor\": \"#333\", \"labelFont\": \"Nunito Sans\", \"labelFontSize\": 11, \"labelLimit\": 0, \"padding\": 1, \"symbolSize\": 30, \"symbolType\": \"square\", \"titleColor\": \"#333\", \"titleFont\": \"Raleway\", \"titleFontSize\": 14, \"titlePadding\": 10}, \"title\": {\"anchor\": \"middle\", \"font\": \"Raleway\", \"fontSize\": 18, \"fontWeight\": 300, \"offset\": 20}}, \"data\": {\"name\": \"data-8c30eff7f2a00014e565d4bb68c88ca9\"}, \"mark\": \"bar\", \"encoding\": {\"color\": {\"field\": \"primary_agency_name\", \"legend\": {\"symbolLimit\": 10, \"title\": \"Agency\"}, \"scale\": {\"range\": [\"#2EA8CE\", \"#EB9F3C\", \"#F4D837\", \"#51BF9D\", \"#8CBCCB\", \"#9487C0\"]}, \"type\": \"nominal\"}, \"tooltip\": [{\"field\": \"primary_agency_name\", \"type\": \"nominal\"}, {\"field\": \"n\", \"type\": \"quantitative\"}], \"x\": {\"field\": \"primary_agency_name\", \"sort\": \"-y\", \"title\": \"Agency\", \"type\": \"nominal\"}, \"y\": {\"field\": \"n\", \"title\": \"Count\", \"type\": \"quantitative\"}}, \"height\": 250, \"width\": 400, \"$schema\": \"https://vega.github.io/schema/vega-lite/v4.17.0.json\", \"datasets\": {\"data-8c30eff7f2a00014e565d4bb68c88ca9\": [{\"primary_agency_name\": \"Stockton\", \"n\": 23}, {\"primary_agency_name\": \"Modesto\", \"n\": 17}, {\"primary_agency_name\": \"Stanislaus County\", \"n\": 15}, {\"primary_agency_name\": \"Calaveras County\", \"n\": 12}, {\"primary_agency_name\": \"Mariposa County\", \"n\": 11}, {\"primary_agency_name\": \"Merced County\", \"n\": 11}, {\"primary_agency_name\": \"San Joaquin County\", \"n\": 11}, {\"primary_agency_name\": \"Tuolumne County\", \"n\": 10}, {\"primary_agency_name\": \"Amador County\", \"n\": 8}, {\"primary_agency_name\": \"Ceres\", \"n\": 7}, {\"primary_agency_name\": \"Tracy\", \"n\": 7}, {\"primary_agency_name\": \"Jackson\", \"n\": 6}, {\"primary_agency_name\": \"Merced\", \"n\": 5}, {\"primary_agency_name\": \"Ripon\", \"n\": 5}, {\"primary_agency_name\": \"San Joaquin Council of Governments\", \"n\": 5}, {\"primary_agency_name\": \"Stanislaus Council of Governments\", \"n\": 5}, {\"primary_agency_name\": \"Turlock\", \"n\": 5}, {\"primary_agency_name\": \"Alpine County\", \"n\": 4}, {\"primary_agency_name\": \"Calaveras Council of Governments\", \"n\": 4}, {\"primary_agency_name\": \"Lodi\", \"n\": 4}, {\"primary_agency_name\": \"Merced County Association of Governments\", \"n\": 4}, {\"primary_agency_name\": \"Patterson\", \"n\": 4}, {\"primary_agency_name\": \"San Joaquin Regional Rail Commission\", \"n\": 4}, {\"primary_agency_name\": \"Angels\", \"n\": 3}, {\"primary_agency_name\": \"Hughson\", \"n\": 3}, {\"primary_agency_name\": \"Lathrop\", \"n\": 3}, {\"primary_agency_name\": \"Los Banos\", \"n\": 3}, {\"primary_agency_name\": \"Manteca\", \"n\": 3}, {\"primary_agency_name\": \"Oakdale\", \"n\": 3}, {\"primary_agency_name\": \"Riverbank\", \"n\": 3}]}}, {\"mode\": \"vega-lite\"});\n",
       "</script>"
      ],
      "text/plain": [
       "alt.Chart(...)"
      ]
     },
     "metadata": {},
     "output_type": "display_data"
    }
   ],
   "source": [
    "#Bar chart Agencies With The Most Unique Prefix Codes\n",
    "    \n",
    "chart3 = (_dla_utils_reports.basic_bar_chart_no_save(((_dla_utils_reports.get_nunique(df, 'prefix', 'primary_agency_name')).head(30)),\n",
    "                            'primary_agency_name', 'n', 'primary_agency_name', district))\n",
    "    \n",
    "display(chart3)"
   ]
  },
  {
   "cell_type": "markdown",
   "id": "409d25d0-88ee-4eff-ae1f-ca9127618b4d",
   "metadata": {
    "papermill": {
     "duration": 0.009637,
     "end_time": "2022-05-18T18:00:25.838516",
     "exception": false,
     "start_time": "2022-05-18T18:00:25.828879",
     "status": "completed"
    },
    "tags": []
   },
   "source": [
    "## Funding Distribution"
   ]
  },
  {
   "cell_type": "markdown",
   "id": "eacca297-667a-4649-b6ac-351e81729e0d",
   "metadata": {
    "papermill": {
     "duration": 0.010581,
     "end_time": "2022-05-18T18:00:25.860832",
     "exception": false,
     "start_time": "2022-05-18T18:00:25.850251",
     "status": "completed"
    },
    "tags": []
   },
   "source": [
    "With each E-76, three types of funding amounts are included in the obligations: \n",
    "* Total Requested (`total_requested`)\n",
    "* Advance Construction Requested (`ac_requested`)\n",
    "* Federal Requested (`fed_requested`)\n",
    "\n",
    "Using this information, we can determine how much on average an organization recieves with these funds, and the distribution of the funds.\n",
    "\n",
    "\n",
    "Metrics:\n",
    "* Average Total Requested Funds by Agency\n",
    "* Lowest Average Total Funds by Agency\n",
    "* Average Total Requested Funds by Prefix"
   ]
  },
  {
   "cell_type": "markdown",
   "id": "d3caa5e9-9126-4572-8140-f81543c7d26a",
   "metadata": {
    "papermill": {
     "duration": 0.008606,
     "end_time": "2022-05-18T18:00:25.881452",
     "exception": false,
     "start_time": "2022-05-18T18:00:25.872846",
     "status": "completed"
    },
    "tags": []
   },
   "source": [
    "### Average Total Requested Funds by Agency ($2021)"
   ]
  },
  {
   "cell_type": "code",
   "execution_count": 13,
   "id": "3745ca4d-8dd4-4c09-b46b-a2f6db6358ad",
   "metadata": {
    "execution": {
     "iopub.execute_input": "2022-05-18T18:00:25.902597Z",
     "iopub.status.busy": "2022-05-18T18:00:25.902354Z",
     "iopub.status.idle": "2022-05-18T18:00:25.982286Z",
     "shell.execute_reply": "2022-05-18T18:00:25.981526Z"
    },
    "jupyter": {
     "source_hidden": true
    },
    "papermill": {
     "duration": 0.091236,
     "end_time": "2022-05-18T18:00:25.984016",
     "exception": false,
     "start_time": "2022-05-18T18:00:25.892780",
     "status": "completed"
    },
    "tags": [
     "remove_input"
    ]
   },
   "outputs": [
    {
     "data": {
      "text/html": [
       "\n",
       "<div id=\"altair-viz-de355c2e609048c3a02f3423ea7b07a7\"></div>\n",
       "<script type=\"text/javascript\">\n",
       "  var VEGA_DEBUG = (typeof VEGA_DEBUG == \"undefined\") ? {} : VEGA_DEBUG;\n",
       "  (function(spec, embedOpt){\n",
       "    let outputDiv = document.currentScript.previousElementSibling;\n",
       "    if (outputDiv.id !== \"altair-viz-de355c2e609048c3a02f3423ea7b07a7\") {\n",
       "      outputDiv = document.getElementById(\"altair-viz-de355c2e609048c3a02f3423ea7b07a7\");\n",
       "    }\n",
       "    const paths = {\n",
       "      \"vega\": \"https://cdn.jsdelivr.net/npm//vega@5?noext\",\n",
       "      \"vega-lib\": \"https://cdn.jsdelivr.net/npm//vega-lib?noext\",\n",
       "      \"vega-lite\": \"https://cdn.jsdelivr.net/npm//vega-lite@4.17.0?noext\",\n",
       "      \"vega-embed\": \"https://cdn.jsdelivr.net/npm//vega-embed@6?noext\",\n",
       "    };\n",
       "\n",
       "    function maybeLoadScript(lib, version) {\n",
       "      var key = `${lib.replace(\"-\", \"\")}_version`;\n",
       "      return (VEGA_DEBUG[key] == version) ?\n",
       "        Promise.resolve(paths[lib]) :\n",
       "        new Promise(function(resolve, reject) {\n",
       "          var s = document.createElement('script');\n",
       "          document.getElementsByTagName(\"head\")[0].appendChild(s);\n",
       "          s.async = true;\n",
       "          s.onload = () => {\n",
       "            VEGA_DEBUG[key] = version;\n",
       "            return resolve(paths[lib]);\n",
       "          };\n",
       "          s.onerror = () => reject(`Error loading script: ${paths[lib]}`);\n",
       "          s.src = paths[lib];\n",
       "        });\n",
       "    }\n",
       "\n",
       "    function showError(err) {\n",
       "      outputDiv.innerHTML = `<div class=\"error\" style=\"color:red;\">${err}</div>`;\n",
       "      throw err;\n",
       "    }\n",
       "\n",
       "    function displayChart(vegaEmbed) {\n",
       "      vegaEmbed(outputDiv, spec, embedOpt)\n",
       "        .catch(err => showError(`Javascript Error: ${err.message}<br>This usually means there's a typo in your chart specification. See the javascript console for the full traceback.`));\n",
       "    }\n",
       "\n",
       "    if(typeof define === \"function\" && define.amd) {\n",
       "      requirejs.config({paths});\n",
       "      require([\"vega-embed\"], displayChart, err => showError(`Error loading script: ${err.message}`));\n",
       "    } else {\n",
       "      maybeLoadScript(\"vega\", \"5\")\n",
       "        .then(() => maybeLoadScript(\"vega-lite\", \"4.17.0\"))\n",
       "        .then(() => maybeLoadScript(\"vega-embed\", \"6\"))\n",
       "        .catch(showError)\n",
       "        .then(() => displayChart(vegaEmbed));\n",
       "    }\n",
       "  })({\"config\": {\"view\": {\"continuousWidth\": 400, \"continuousHeight\": 300}, \"axis\": {\"domainColor\": \"#cbcbcb\", \"grid\": true, \"gridColor\": \"#cbcbcb\", \"gridWidth\": 1, \"labelColor\": \"#474747\", \"labelFont\": \"Nunito Sans\", \"labelFontSize\": 10, \"labelPadding\": 4, \"tickColor\": \"#cbcbcb\", \"tickSize\": 10, \"titleColor\": \"#333\", \"titleFont\": \"Raleway\", \"titleFontSize\": 12, \"titlePadding\": 10}, \"axisBand\": {\"grid\": false}, \"background\": \"white\", \"font\": \"Raleway\", \"header\": {\"labelFont\": \"Nunito Sans\", \"titleFont\": \"Raleway\"}, \"legend\": {\"labelColor\": \"#333\", \"labelFont\": \"Nunito Sans\", \"labelFontSize\": 11, \"labelLimit\": 0, \"padding\": 1, \"symbolSize\": 30, \"symbolType\": \"square\", \"titleColor\": \"#333\", \"titleFont\": \"Raleway\", \"titleFontSize\": 14, \"titlePadding\": 10}, \"title\": {\"anchor\": \"middle\", \"font\": \"Raleway\", \"fontSize\": 18, \"fontWeight\": 300, \"offset\": 20}}, \"data\": {\"name\": \"data-e2a92bd8f01ecd701fb776edb57c5d1c\"}, \"mark\": \"bar\", \"encoding\": {\"color\": {\"field\": \"primary_agency_name\", \"legend\": {\"symbolLimit\": 10, \"title\": \"Agency\"}, \"scale\": {\"range\": [\"#2EA8CE\", \"#EB9F3C\", \"#F4D837\", \"#51BF9D\", \"#8CBCCB\", \"#9487C0\"]}, \"type\": \"nominal\"}, \"tooltip\": [{\"field\": \"primary_agency_name\", \"type\": \"nominal\"}, {\"field\": \"adjusted_total_requested\", \"type\": \"quantitative\"}], \"x\": {\"field\": \"primary_agency_name\", \"sort\": \"-y\", \"title\": \"Agency\", \"type\": \"nominal\"}, \"y\": {\"field\": \"adjusted_total_requested\", \"title\": \"Adjusted Total Requested\", \"type\": \"quantitative\"}}, \"height\": 250, \"width\": 400, \"$schema\": \"https://vega.github.io/schema/vega-lite/v4.17.0.json\", \"datasets\": {\"data-e2a92bd8f01ecd701fb776edb57c5d1c\": [{\"primary_agency_name\": \"San Joaquin Regional Transit District\", \"adjusted_total_requested\": 4103565.1119478587}, {\"primary_agency_name\": \"Caltrans\", \"adjusted_total_requested\": 3347109.091318753}, {\"primary_agency_name\": \"Stockton Port District\", \"adjusted_total_requested\": 2803175.320311091}, {\"primary_agency_name\": \"San Joaquin Regional Rail Commission\", \"adjusted_total_requested\": 2126393.489129124}, {\"primary_agency_name\": \"Stanislaus County\", \"adjusted_total_requested\": 2098703.6443335693}, {\"primary_agency_name\": \"Lodi\", \"adjusted_total_requested\": 1564329.5090775716}, {\"primary_agency_name\": \"Tracy\", \"adjusted_total_requested\": 1519024.6552204003}, {\"primary_agency_name\": \"Lodi Unified School District\", \"adjusted_total_requested\": 1314075.8856296923}, {\"primary_agency_name\": \"Lathrop\", \"adjusted_total_requested\": 1216421.8054210793}, {\"primary_agency_name\": \"San Joaquin Council of Governments\", \"adjusted_total_requested\": 962383.7223090744}, {\"primary_agency_name\": \"Alpine County\", \"adjusted_total_requested\": 835882.4902757797}, {\"primary_agency_name\": \"Manteca\", \"adjusted_total_requested\": 685574.5832384634}, {\"primary_agency_name\": \"Sutter Creek\", \"adjusted_total_requested\": 614623.3072149361}, {\"primary_agency_name\": \"Calabasas\", \"adjusted_total_requested\": 588099.9570639266}, {\"primary_agency_name\": \"Plymouth\", \"adjusted_total_requested\": 587556.8701620852}, {\"primary_agency_name\": \"San Joaquin County\", \"adjusted_total_requested\": 473317.8609055729}, {\"primary_agency_name\": \"Ripon\", \"adjusted_total_requested\": 378270.2949200179}, {\"primary_agency_name\": \"Tuolumne County Transportation Council\", \"adjusted_total_requested\": 371753.3208166503}, {\"primary_agency_name\": \"Sonora\", \"adjusted_total_requested\": 312057.99110175314}, {\"primary_agency_name\": \"Amador County\", \"adjusted_total_requested\": 311667.10090807464}, {\"primary_agency_name\": \"Modesto\", \"adjusted_total_requested\": 310372.706607394}, {\"primary_agency_name\": \"Transit Joint Powers Authority For Merced County\", \"adjusted_total_requested\": 307956.16753127787}, {\"primary_agency_name\": \"Merced County\", \"adjusted_total_requested\": 272014.7971080289}, {\"primary_agency_name\": \"Patterson\", \"adjusted_total_requested\": 267987.3075359724}, {\"primary_agency_name\": \"Mariposa County\", \"adjusted_total_requested\": 228018.63805493538}, {\"primary_agency_name\": \"Amador Rapid Transit System\", \"adjusted_total_requested\": 221048.80431083552}, {\"primary_agency_name\": \"Turlock\", \"adjusted_total_requested\": 219820.86425974555}, {\"primary_agency_name\": \"Tuolumne County\", \"adjusted_total_requested\": 217137.2798083478}, {\"primary_agency_name\": \"Los Banos\", \"adjusted_total_requested\": 214676.57033414373}, {\"primary_agency_name\": \"Stockton\", \"adjusted_total_requested\": 206100.59479679904}]}}, {\"mode\": \"vega-lite\"});\n",
       "</script>"
      ],
      "text/plain": [
       "alt.Chart(...)"
      ]
     },
     "metadata": {},
     "output_type": "display_data"
    }
   ],
   "source": [
    "#Bar chart Average Total Requested Funds by Agency\n",
    "chart4=(_dla_utils_reports.basic_bar_chart_no_save((((_dla_utils_reports.calculate_data_all(df, 'adjusted_total_requested', 'primary_agency_name', aggfunc=\"mean\"))\n",
    "                          >>arrange(-_.adjusted_total_requested)).head(30)\n",
    "                        ), 'primary_agency_name','adjusted_total_requested', 'primary_agency_name', district\n",
    "                          \n",
    "                       ))\n",
    "    \n",
    "display(chart4)"
   ]
  },
  {
   "cell_type": "markdown",
   "id": "84702987-c63c-40c9-aad7-c2d8c1b8ee49",
   "metadata": {
    "papermill": {
     "duration": 0.009969,
     "end_time": "2022-05-18T18:00:26.003446",
     "exception": false,
     "start_time": "2022-05-18T18:00:25.993477",
     "status": "completed"
    },
    "tags": []
   },
   "source": [
    "### Lowest Average Total Funds by Agency ($2021)"
   ]
  },
  {
   "cell_type": "code",
   "execution_count": 14,
   "id": "ce18a74b-9908-40f8-84f1-806552936465",
   "metadata": {
    "execution": {
     "iopub.execute_input": "2022-05-18T18:00:26.027843Z",
     "iopub.status.busy": "2022-05-18T18:00:26.027241Z",
     "iopub.status.idle": "2022-05-18T18:00:26.134164Z",
     "shell.execute_reply": "2022-05-18T18:00:26.133673Z"
    },
    "jupyter": {
     "source_hidden": true
    },
    "papermill": {
     "duration": 0.121541,
     "end_time": "2022-05-18T18:00:26.135917",
     "exception": false,
     "start_time": "2022-05-18T18:00:26.014376",
     "status": "completed"
    },
    "tags": [
     "remove_input"
    ]
   },
   "outputs": [
    {
     "data": {
      "text/html": [
       "\n",
       "<div id=\"altair-viz-59aab231d47341a58d16db317672da6c\"></div>\n",
       "<script type=\"text/javascript\">\n",
       "  var VEGA_DEBUG = (typeof VEGA_DEBUG == \"undefined\") ? {} : VEGA_DEBUG;\n",
       "  (function(spec, embedOpt){\n",
       "    let outputDiv = document.currentScript.previousElementSibling;\n",
       "    if (outputDiv.id !== \"altair-viz-59aab231d47341a58d16db317672da6c\") {\n",
       "      outputDiv = document.getElementById(\"altair-viz-59aab231d47341a58d16db317672da6c\");\n",
       "    }\n",
       "    const paths = {\n",
       "      \"vega\": \"https://cdn.jsdelivr.net/npm//vega@5?noext\",\n",
       "      \"vega-lib\": \"https://cdn.jsdelivr.net/npm//vega-lib?noext\",\n",
       "      \"vega-lite\": \"https://cdn.jsdelivr.net/npm//vega-lite@4.17.0?noext\",\n",
       "      \"vega-embed\": \"https://cdn.jsdelivr.net/npm//vega-embed@6?noext\",\n",
       "    };\n",
       "\n",
       "    function maybeLoadScript(lib, version) {\n",
       "      var key = `${lib.replace(\"-\", \"\")}_version`;\n",
       "      return (VEGA_DEBUG[key] == version) ?\n",
       "        Promise.resolve(paths[lib]) :\n",
       "        new Promise(function(resolve, reject) {\n",
       "          var s = document.createElement('script');\n",
       "          document.getElementsByTagName(\"head\")[0].appendChild(s);\n",
       "          s.async = true;\n",
       "          s.onload = () => {\n",
       "            VEGA_DEBUG[key] = version;\n",
       "            return resolve(paths[lib]);\n",
       "          };\n",
       "          s.onerror = () => reject(`Error loading script: ${paths[lib]}`);\n",
       "          s.src = paths[lib];\n",
       "        });\n",
       "    }\n",
       "\n",
       "    function showError(err) {\n",
       "      outputDiv.innerHTML = `<div class=\"error\" style=\"color:red;\">${err}</div>`;\n",
       "      throw err;\n",
       "    }\n",
       "\n",
       "    function displayChart(vegaEmbed) {\n",
       "      vegaEmbed(outputDiv, spec, embedOpt)\n",
       "        .catch(err => showError(`Javascript Error: ${err.message}<br>This usually means there's a typo in your chart specification. See the javascript console for the full traceback.`));\n",
       "    }\n",
       "\n",
       "    if(typeof define === \"function\" && define.amd) {\n",
       "      requirejs.config({paths});\n",
       "      require([\"vega-embed\"], displayChart, err => showError(`Error loading script: ${err.message}`));\n",
       "    } else {\n",
       "      maybeLoadScript(\"vega\", \"5\")\n",
       "        .then(() => maybeLoadScript(\"vega-lite\", \"4.17.0\"))\n",
       "        .then(() => maybeLoadScript(\"vega-embed\", \"6\"))\n",
       "        .catch(showError)\n",
       "        .then(() => displayChart(vegaEmbed));\n",
       "    }\n",
       "  })({\"config\": {\"view\": {\"continuousWidth\": 400, \"continuousHeight\": 300}, \"axis\": {\"domainColor\": \"#cbcbcb\", \"grid\": true, \"gridColor\": \"#cbcbcb\", \"gridWidth\": 1, \"labelColor\": \"#474747\", \"labelFont\": \"Nunito Sans\", \"labelFontSize\": 10, \"labelPadding\": 4, \"tickColor\": \"#cbcbcb\", \"tickSize\": 10, \"titleColor\": \"#333\", \"titleFont\": \"Raleway\", \"titleFontSize\": 12, \"titlePadding\": 10}, \"axisBand\": {\"grid\": false}, \"background\": \"white\", \"font\": \"Raleway\", \"header\": {\"labelFont\": \"Nunito Sans\", \"titleFont\": \"Raleway\"}, \"legend\": {\"labelColor\": \"#333\", \"labelFont\": \"Nunito Sans\", \"labelFontSize\": 11, \"labelLimit\": 0, \"padding\": 1, \"symbolSize\": 30, \"symbolType\": \"square\", \"titleColor\": \"#333\", \"titleFont\": \"Raleway\", \"titleFontSize\": 14, \"titlePadding\": 10}, \"title\": {\"anchor\": \"middle\", \"font\": \"Raleway\", \"fontSize\": 18, \"fontWeight\": 300, \"offset\": 20}}, \"data\": {\"name\": \"data-949da25e9592055c0e2cc2a31d16c07b\"}, \"mark\": \"bar\", \"encoding\": {\"color\": {\"field\": \"primary_agency_name\", \"legend\": {\"symbolLimit\": 10, \"title\": \"Agency\"}, \"scale\": {\"range\": [\"#2EA8CE\", \"#EB9F3C\", \"#F4D837\", \"#51BF9D\", \"#8CBCCB\", \"#9487C0\"]}, \"type\": \"nominal\"}, \"tooltip\": [{\"field\": \"primary_agency_name\", \"type\": \"nominal\"}, {\"field\": \"avg_funds\", \"type\": \"quantitative\"}], \"x\": {\"field\": \"primary_agency_name\", \"sort\": \"-y\", \"title\": \"Agency\", \"type\": \"nominal\"}, \"y\": {\"field\": \"avg_funds\", \"title\": \"Avg Funds\", \"type\": \"quantitative\"}}, \"height\": 250, \"width\": 400, \"$schema\": \"https://vega.github.io/schema/vega-lite/v4.17.0.json\", \"datasets\": {\"data-949da25e9592055c0e2cc2a31d16c07b\": [{\"primary_agency_name\": \"Ripon\", \"avg_funds\": 378270.2949200178}, {\"primary_agency_name\": \"Tuolumne County Transportation Council\", \"avg_funds\": 371753.3208166503}, {\"primary_agency_name\": \"Sonora\", \"avg_funds\": 312057.99110175314}, {\"primary_agency_name\": \"Amador County\", \"avg_funds\": 311667.1009080747}, {\"primary_agency_name\": \"Modesto\", \"avg_funds\": 310372.7066073939}, {\"primary_agency_name\": \"Transit Joint Powers Authority For Merced County\", \"avg_funds\": 307956.1675312778}, {\"primary_agency_name\": \"Merced County\", \"avg_funds\": 272014.7971080289}, {\"primary_agency_name\": \"Patterson\", \"avg_funds\": 267987.3075359724}, {\"primary_agency_name\": \"Mariposa County\", \"avg_funds\": 228018.63805493538}, {\"primary_agency_name\": \"Amador Rapid Transit System\", \"avg_funds\": 221048.80431083552}, {\"primary_agency_name\": \"Turlock\", \"avg_funds\": 219820.86425974555}, {\"primary_agency_name\": \"Tuolumne County\", \"avg_funds\": 217137.2798083478}, {\"primary_agency_name\": \"Los Banos\", \"avg_funds\": 214676.57033414373}, {\"primary_agency_name\": \"Stockton\", \"avg_funds\": 206100.594796799}, {\"primary_agency_name\": \"Ceres\", \"avg_funds\": 181805.69968550454}, {\"primary_agency_name\": \"Gustine\", \"avg_funds\": 181491.8358113502}, {\"primary_agency_name\": \"Merced\", \"avg_funds\": 174951.92141537348}, {\"primary_agency_name\": \"Oakdale\", \"avg_funds\": 147914.60109624232}, {\"primary_agency_name\": \"Calaveras County\", \"avg_funds\": 146387.1336997544}, {\"primary_agency_name\": \"Newman\", \"avg_funds\": 135832.63722888994}, {\"primary_agency_name\": \"Riverbank\", \"avg_funds\": 133076.46947228114}, {\"primary_agency_name\": \"Stanislaus Council of Governments\", \"avg_funds\": 111422.61180707665}, {\"primary_agency_name\": \"Atwater\", \"avg_funds\": 103729.17771190825}, {\"primary_agency_name\": \"Jackson\", \"avg_funds\": 100953.81726385195}, {\"primary_agency_name\": \"Angels\", \"avg_funds\": 98909.00929729255}, {\"primary_agency_name\": \"Livingston\", \"avg_funds\": 93549.99728702435}, {\"primary_agency_name\": \"Waterford\", \"avg_funds\": 69790.46675325675}, {\"primary_agency_name\": \"Escalon\", \"avg_funds\": 63265.052857203154}, {\"primary_agency_name\": \"Hughson\", \"avg_funds\": 53345.28785410573}, {\"primary_agency_name\": \"Yosemite Area Regional Transportation System JPA\", \"avg_funds\": 48905.82866459605}, {\"primary_agency_name\": \"Merced County Association of Governments\", \"avg_funds\": 40746.21620315517}, {\"primary_agency_name\": \"Ione\", \"avg_funds\": 29848.025341186174}, {\"primary_agency_name\": \"Yuba County\", \"avg_funds\": 29211.33669626267}, {\"primary_agency_name\": \"Modoc County\", \"avg_funds\": 18798.3234851402}, {\"primary_agency_name\": \"Dos Palos\", \"avg_funds\": 18560.334380705688}, {\"primary_agency_name\": \"U.S. Forest Service, Pacific Southwest Region\", \"avg_funds\": 8814.389634632089}, {\"primary_agency_name\": \"Amador County Transportation Commission\", \"avg_funds\": -809.0893964536702}, {\"primary_agency_name\": \"Calaveras Council of Governments\", \"avg_funds\": -16280.340572340538}, {\"primary_agency_name\": \"Department of Water Resources\", \"avg_funds\": -60250.66483498437}, {\"primary_agency_name\": \"Amador City\", \"avg_funds\": -107216.82241172782}]}}, {\"mode\": \"vega-lite\"});\n",
       "</script>"
      ],
      "text/plain": [
       "alt.Chart(...)"
      ]
     },
     "metadata": {},
     "output_type": "display_data"
    }
   ],
   "source": [
    "#Bar chart Bottom Average Total Requested Funds by Agency\n",
    "avg_funds_bottom = (df>>group_by(_.primary_agency_name)>>summarize(avg_funds=_.adjusted_total_requested.mean())>>arrange(-_.avg_funds)).tail(50)\n",
    "\n",
    "chart5=( _dla_utils_reports.basic_bar_chart_no_save((avg_funds_bottom.tail(40)), 'primary_agency_name','avg_funds', 'primary_agency_name', district))\n",
    "    \n",
    "display(chart5)"
   ]
  },
  {
   "cell_type": "markdown",
   "id": "32fb0fb4-2cd3-453d-8be1-cf99fb52f56f",
   "metadata": {
    "papermill": {
     "duration": 0.009853,
     "end_time": "2022-05-18T18:00:26.155087",
     "exception": false,
     "start_time": "2022-05-18T18:00:26.145234",
     "status": "completed"
    },
    "tags": []
   },
   "source": [
    "### Average Total Requested Funds by Prefix ($2021)"
   ]
  },
  {
   "cell_type": "code",
   "execution_count": 15,
   "id": "d18938e5-6fc5-4e53-87b2-7140df57e5a0",
   "metadata": {
    "execution": {
     "iopub.execute_input": "2022-05-18T18:00:26.179140Z",
     "iopub.status.busy": "2022-05-18T18:00:26.178696Z",
     "iopub.status.idle": "2022-05-18T18:00:26.256379Z",
     "shell.execute_reply": "2022-05-18T18:00:26.255797Z"
    },
    "jupyter": {
     "source_hidden": true
    },
    "papermill": {
     "duration": 0.091549,
     "end_time": "2022-05-18T18:00:26.258456",
     "exception": false,
     "start_time": "2022-05-18T18:00:26.166907",
     "status": "completed"
    },
    "tags": [
     "remove_input"
    ]
   },
   "outputs": [
    {
     "data": {
      "text/html": [
       "\n",
       "<div id=\"altair-viz-7ada3587c9f941beaba6e863ebdc43ff\"></div>\n",
       "<script type=\"text/javascript\">\n",
       "  var VEGA_DEBUG = (typeof VEGA_DEBUG == \"undefined\") ? {} : VEGA_DEBUG;\n",
       "  (function(spec, embedOpt){\n",
       "    let outputDiv = document.currentScript.previousElementSibling;\n",
       "    if (outputDiv.id !== \"altair-viz-7ada3587c9f941beaba6e863ebdc43ff\") {\n",
       "      outputDiv = document.getElementById(\"altair-viz-7ada3587c9f941beaba6e863ebdc43ff\");\n",
       "    }\n",
       "    const paths = {\n",
       "      \"vega\": \"https://cdn.jsdelivr.net/npm//vega@5?noext\",\n",
       "      \"vega-lib\": \"https://cdn.jsdelivr.net/npm//vega-lib?noext\",\n",
       "      \"vega-lite\": \"https://cdn.jsdelivr.net/npm//vega-lite@4.17.0?noext\",\n",
       "      \"vega-embed\": \"https://cdn.jsdelivr.net/npm//vega-embed@6?noext\",\n",
       "    };\n",
       "\n",
       "    function maybeLoadScript(lib, version) {\n",
       "      var key = `${lib.replace(\"-\", \"\")}_version`;\n",
       "      return (VEGA_DEBUG[key] == version) ?\n",
       "        Promise.resolve(paths[lib]) :\n",
       "        new Promise(function(resolve, reject) {\n",
       "          var s = document.createElement('script');\n",
       "          document.getElementsByTagName(\"head\")[0].appendChild(s);\n",
       "          s.async = true;\n",
       "          s.onload = () => {\n",
       "            VEGA_DEBUG[key] = version;\n",
       "            return resolve(paths[lib]);\n",
       "          };\n",
       "          s.onerror = () => reject(`Error loading script: ${paths[lib]}`);\n",
       "          s.src = paths[lib];\n",
       "        });\n",
       "    }\n",
       "\n",
       "    function showError(err) {\n",
       "      outputDiv.innerHTML = `<div class=\"error\" style=\"color:red;\">${err}</div>`;\n",
       "      throw err;\n",
       "    }\n",
       "\n",
       "    function displayChart(vegaEmbed) {\n",
       "      vegaEmbed(outputDiv, spec, embedOpt)\n",
       "        .catch(err => showError(`Javascript Error: ${err.message}<br>This usually means there's a typo in your chart specification. See the javascript console for the full traceback.`));\n",
       "    }\n",
       "\n",
       "    if(typeof define === \"function\" && define.amd) {\n",
       "      requirejs.config({paths});\n",
       "      require([\"vega-embed\"], displayChart, err => showError(`Error loading script: ${err.message}`));\n",
       "    } else {\n",
       "      maybeLoadScript(\"vega\", \"5\")\n",
       "        .then(() => maybeLoadScript(\"vega-lite\", \"4.17.0\"))\n",
       "        .then(() => maybeLoadScript(\"vega-embed\", \"6\"))\n",
       "        .catch(showError)\n",
       "        .then(() => displayChart(vegaEmbed));\n",
       "    }\n",
       "  })({\"config\": {\"view\": {\"continuousWidth\": 400, \"continuousHeight\": 300}, \"axis\": {\"domainColor\": \"#cbcbcb\", \"grid\": true, \"gridColor\": \"#cbcbcb\", \"gridWidth\": 1, \"labelColor\": \"#474747\", \"labelFont\": \"Nunito Sans\", \"labelFontSize\": 10, \"labelPadding\": 4, \"tickColor\": \"#cbcbcb\", \"tickSize\": 10, \"titleColor\": \"#333\", \"titleFont\": \"Raleway\", \"titleFontSize\": 12, \"titlePadding\": 10}, \"axisBand\": {\"grid\": false}, \"background\": \"white\", \"font\": \"Raleway\", \"header\": {\"labelFont\": \"Nunito Sans\", \"titleFont\": \"Raleway\"}, \"legend\": {\"labelColor\": \"#333\", \"labelFont\": \"Nunito Sans\", \"labelFontSize\": 11, \"labelLimit\": 0, \"padding\": 1, \"symbolSize\": 30, \"symbolType\": \"square\", \"titleColor\": \"#333\", \"titleFont\": \"Raleway\", \"titleFontSize\": 14, \"titlePadding\": 10}, \"title\": {\"anchor\": \"middle\", \"font\": \"Raleway\", \"fontSize\": 18, \"fontWeight\": 300, \"offset\": 20}}, \"data\": {\"name\": \"data-ddd56026af5a9163a821405fd3b6c6ba\"}, \"mark\": \"bar\", \"encoding\": {\"color\": {\"field\": \"prefix\", \"legend\": {\"symbolLimit\": 10, \"title\": \"Prefix\"}, \"scale\": {\"range\": [\"#2EA8CE\", \"#EB9F3C\", \"#F4D837\", \"#51BF9D\", \"#8CBCCB\", \"#9487C0\"]}, \"type\": \"nominal\"}, \"tooltip\": [{\"field\": \"prefix\", \"type\": \"nominal\"}, {\"field\": \"adjusted_total_requested\", \"type\": \"quantitative\"}], \"x\": {\"field\": \"prefix\", \"sort\": \"-y\", \"title\": \"Prefix\", \"type\": \"nominal\"}, \"y\": {\"field\": \"adjusted_total_requested\", \"title\": \"Adjusted Total Requested\", \"type\": \"quantitative\"}}, \"height\": 250, \"width\": 400, \"$schema\": \"https://vega.github.io/schema/vega-lite/v4.17.0.json\", \"datasets\": {\"data-ddd56026af5a9163a821405fd3b6c6ba\": [{\"prefix\": \"BDGL\", \"adjusted_total_requested\": 271740638.9232214}, {\"prefix\": \"TGHPLUL\", \"adjusted_total_requested\": 15430437.242052617}, {\"prefix\": \"BHLS\", \"adjusted_total_requested\": 6774054.7713974165}, {\"prefix\": \"DEM03LN\", \"adjusted_total_requested\": 4939865.206993003}, {\"prefix\": \"STPLZ\", \"adjusted_total_requested\": 4446824.405261923}, {\"prefix\": \"BRNBIF\", \"adjusted_total_requested\": 4081939.6730754743}, {\"prefix\": \"FTFERPL16\", \"adjusted_total_requested\": 3645873.1461923504}, {\"prefix\": \"RPSTCML\", \"adjusted_total_requested\": 3401720.842101579}, {\"prefix\": \"STPLR\", \"adjusted_total_requested\": 3198902.72431753}, {\"prefix\": \"NCPD\", \"adjusted_total_requested\": 2559077.9023520453}, {\"prefix\": \"FTACML\", \"adjusted_total_requested\": 2474506.797031117}, {\"prefix\": \"HIPLPPSB\", \"adjusted_total_requested\": 2416762.058214272}, {\"prefix\": \"BRLS\", \"adjusted_total_requested\": 1531941.6086813197}, {\"prefix\": \"HSIP\", \"adjusted_total_requested\": 768601.562759801}, {\"prefix\": \"BRLSZ\", \"adjusted_total_requested\": 764916.4457095106}, {\"prefix\": \"STPCML\", \"adjusted_total_requested\": 684086.2959032032}, {\"prefix\": \"HIPL\", \"adjusted_total_requested\": 603486.1518628413}, {\"prefix\": \"BR\", \"adjusted_total_requested\": 588099.9570639266}, {\"prefix\": \"ACSTP\", \"adjusted_total_requested\": 558903.4642976022}, {\"prefix\": \"ATPSTPL\", \"adjusted_total_requested\": 538721.1361808539}, {\"prefix\": \"STPL\", \"adjusted_total_requested\": 429343.399823646}, {\"prefix\": \"HPLUL\", \"adjusted_total_requested\": 405735.8325115129}, {\"prefix\": \"DEMO10\", \"adjusted_total_requested\": 377621.0933807215}, {\"prefix\": \"ATPL\", \"adjusted_total_requested\": 371766.305791918}, {\"prefix\": \"BRLO\", \"adjusted_total_requested\": 330103.9523197923}, {\"prefix\": \"SPTL\", \"adjusted_total_requested\": 323730.7195925486}, {\"prefix\": \"HRRRL\", \"adjusted_total_requested\": 298640.34793184994}, {\"prefix\": \"CMLNI\", \"adjusted_total_requested\": 296731.6868386613}, {\"prefix\": \"FTASTPL\", \"adjusted_total_requested\": 280116.8709412513}, {\"prefix\": \"RPSTPL\", \"adjusted_total_requested\": 265519.8413356045}]}}, {\"mode\": \"vega-lite\"});\n",
       "</script>"
      ],
      "text/plain": [
       "alt.Chart(...)"
      ]
     },
     "metadata": {},
     "output_type": "display_data"
    }
   ],
   "source": [
    "# Bar chart Average Total Requested Funds by Prefix\n",
    "chart8 = (_dla_utils_reports.basic_bar_chart_no_save((((_dla_utils_reports.calculate_data_all(df, 'adjusted_total_requested', 'prefix', aggfunc=\"mean\"))\n",
    "                          >>arrange(-_.adjusted_total_requested)).head(30)), 'prefix','adjusted_total_requested', 'prefix', district\n",
    "                       ))\n",
    "    \n",
    "display(chart8)\n",
    "    "
   ]
  },
  {
   "cell_type": "markdown",
   "id": "c4218a37-675e-40be-9659-d1297a62dc1b",
   "metadata": {
    "papermill": {
     "duration": 0.010034,
     "end_time": "2022-05-18T18:00:26.278441",
     "exception": false,
     "start_time": "2022-05-18T18:00:26.268407",
     "status": "completed"
    },
    "tags": []
   },
   "source": [
    "\n",
    "## Work Categories"
   ]
  },
  {
   "cell_type": "markdown",
   "id": "d41b493b-2ab7-4c43-96ee-8e64a7c3e11a",
   "metadata": {
    "papermill": {
     "duration": 0.009721,
     "end_time": "2022-05-18T18:00:26.301295",
     "exception": false,
     "start_time": "2022-05-18T18:00:26.291574",
     "status": "completed"
    },
    "tags": []
   },
   "source": [
    "While the data includes a description column, organizations have the option to manually input the descriptions. Using the organizations descriptions of the obligattion type, we can categorize the obligations in terms of types of work. We used the following type of work categories:\n",
    "* Active Transportation\n",
    "* Transit\n",
    "* Bridge\n",
    "* Street\n",
    "* Freeway\n",
    "* Infrastructure/Resiliency/Emergency Relief \n",
    "* Congestion Relief\n",
    "\n",
    "With these categories, we can determine which organizations have the most obligations in that category and what percent of the category that organization accounts for. "
   ]
  },
  {
   "cell_type": "markdown",
   "id": "ab29a1b6",
   "metadata": {
    "tags": [
     "papermill-error-cell-tag"
    ]
   },
   "source": [
    "<span id=\"papermill-error-cell\" style=\"color:red; font-family:Helvetica Neue, Helvetica, Arial, sans-serif; font-size:2em;\">Execution using papermill encountered an exception here and stopped:</span>"
   ]
  },
  {
   "cell_type": "code",
   "execution_count": 16,
   "id": "50a1cf08-17eb-4b2b-9dc0-671ee7551f2d",
   "metadata": {
    "execution": {
     "iopub.execute_input": "2022-05-18T18:00:26.325333Z",
     "iopub.status.busy": "2022-05-18T18:00:26.324993Z",
     "iopub.status.idle": "2022-05-18T18:00:26.772853Z",
     "shell.execute_reply": "2022-05-18T18:00:26.771989Z"
    },
    "jupyter": {
     "source_hidden": true
    },
    "papermill": {
     "duration": 0.459794,
     "end_time": "2022-05-18T18:00:26.774166",
     "exception": true,
     "start_time": "2022-05-18T18:00:26.314372",
     "status": "failed"
    },
    "tags": [
     "remove_input"
    ]
   },
   "outputs": [
    {
     "ename": "AttributeError",
     "evalue": "'Styler' object has no attribute 'hide'",
     "output_type": "error",
     "traceback": [
      "\u001b[0;31m---------------------------------------------------------------------------\u001b[0m",
      "\u001b[0;31mAttributeError\u001b[0m                            Traceback (most recent call last)",
      "\u001b[0;32m/var/folders/ls/cdr1pq6n7yn9m0cb41zkflk80000gn/T/ipykernel_30243/4195605666.py\u001b[0m in \u001b[0;36m<module>\u001b[0;34m\u001b[0m\n\u001b[1;32m      4\u001b[0m \u001b[0;34m\u001b[0m\u001b[0m\n\u001b[1;32m      5\u001b[0m \u001b[0;32mfor\u001b[0m \u001b[0mcat\u001b[0m \u001b[0;32min\u001b[0m \u001b[0mwork_cat\u001b[0m\u001b[0;34m:\u001b[0m\u001b[0;34m\u001b[0m\u001b[0;34m\u001b[0m\u001b[0m\n\u001b[0;32m----> 6\u001b[0;31m     \u001b[0m_dla_utils_reports\u001b[0m\u001b[0;34m.\u001b[0m\u001b[0mproject_cat\u001b[0m\u001b[0;34m(\u001b[0m\u001b[0mdf\u001b[0m\u001b[0;34m,\u001b[0m \u001b[0mcat\u001b[0m\u001b[0;34m,\u001b[0m \u001b[0mdistrict\u001b[0m\u001b[0;34m)\u001b[0m\u001b[0;34m\u001b[0m\u001b[0;34m\u001b[0m\u001b[0m\n\u001b[0m",
      "\u001b[0;32m~/go/src/github.com/cal-itp/data-analyses/dla/e76_obligated_funds/reports/_dla_utils_reports.py\u001b[0m in \u001b[0;36mproject_cat\u001b[0;34m(df, i, district)\u001b[0m\n\u001b[1;32m    235\u001b[0m     \u001b[0;31m#path = (f'/chart_outputs/project_cat/bar_{district}_{i}.png')\u001b[0m\u001b[0;34m\u001b[0m\u001b[0;34m\u001b[0m\u001b[0;34m\u001b[0m\u001b[0m\n\u001b[1;32m    236\u001b[0m     \u001b[0;31m#path2= ('/chart_outputs/project_cat/bar_4_active_transp.png')\u001b[0m\u001b[0;34m\u001b[0m\u001b[0;34m\u001b[0m\u001b[0;34m\u001b[0m\u001b[0m\n\u001b[0;32m--> 237\u001b[0;31m     \u001b[0mtable\u001b[0m \u001b[0;34m=\u001b[0m \u001b[0msubset_2\u001b[0m\u001b[0;34m.\u001b[0m\u001b[0mstyle\u001b[0m\u001b[0;34m.\u001b[0m\u001b[0mformat\u001b[0m\u001b[0;34m(\u001b[0m\u001b[0mformatter\u001b[0m\u001b[0;34m=\u001b[0m\u001b[0;34m{\u001b[0m\u001b[0;34m(\u001b[0m\u001b[0;34m\"Percent of Category\"\u001b[0m\u001b[0;34m)\u001b[0m\u001b[0;34m:\u001b[0m \u001b[0;34m\"{:.2f}%\"\u001b[0m\u001b[0;34m}\u001b[0m\u001b[0;34m)\u001b[0m\u001b[0;34m.\u001b[0m\u001b[0mhide\u001b[0m\u001b[0;34m(\u001b[0m\u001b[0maxis\u001b[0m\u001b[0;34m=\u001b[0m\u001b[0;34m'index'\u001b[0m\u001b[0;34m)\u001b[0m\u001b[0;34m\u001b[0m\u001b[0;34m\u001b[0m\u001b[0m\n\u001b[0m\u001b[1;32m    238\u001b[0m     \u001b[0mdisplay\u001b[0m\u001b[0;34m(\u001b[0m\u001b[0mHTML\u001b[0m\u001b[0;34m(\u001b[0m\u001b[0;34mf\"<h3> Top Agencies using {labeling(i)} Projects </h3>\"\u001b[0m\u001b[0;34m)\u001b[0m\u001b[0;34m)\u001b[0m\u001b[0;34m\u001b[0m\u001b[0;34m\u001b[0m\u001b[0m\n\u001b[1;32m    239\u001b[0m     display(table \n",
      "\u001b[0;31mAttributeError\u001b[0m: 'Styler' object has no attribute 'hide'"
     ]
    }
   ],
   "source": [
    "# create loop:\n",
    "\n",
    "work_cat = ['active_transp', 'transit', 'bridge', 'street','freeway', 'infra_resiliency_er','congestion_relief']\n",
    "\n",
    "for cat in work_cat:\n",
    "    _dla_utils_reports.project_cat(df, cat, district)"
   ]
  },
  {
   "cell_type": "code",
   "execution_count": null,
   "id": "5a50e751-dd3f-498f-9a28-2edc321b534f",
   "metadata": {
    "jupyter": {
     "source_hidden": true
    },
    "papermill": {
     "duration": null,
     "end_time": null,
     "exception": null,
     "start_time": null,
     "status": "pending"
    },
    "tags": [
     "remove_input"
    ]
   },
   "outputs": [],
   "source": []
  },
  {
   "cell_type": "code",
   "execution_count": null,
   "id": "cb2f6ba9-df0b-495e-82c5-54743d879743",
   "metadata": {
    "jupyter": {
     "source_hidden": true
    },
    "papermill": {
     "duration": null,
     "end_time": null,
     "exception": null,
     "start_time": null,
     "status": "pending"
    },
    "tags": [
     "remove_input"
    ]
   },
   "outputs": [],
   "source": [
    "#  # code help: https://stackoverflow.com/questions/50842160/how-to-display-matplotlib-plots-in-a-jupyter-tab-widget\n",
    "    \n",
    "# work_cat = ['active_transp', 'transit', 'bridge', 'street','freeway', 'infra_resiliency_er','congestion_relief']\n",
    "\n",
    "# out1 = widgets.Output()\n",
    "# out2 = widgets.Output()\n",
    "# out3 = widgets.Output()\n",
    "# out4 = widgets.Output()\n",
    "# out5 = widgets.Output()\n",
    "# out6 = widgets.Output()\n",
    "# out7 = widgets.Output()\n",
    "\n",
    "#     # children2 = [widgets.Text(description=name) for name in work_cat]\n",
    "#     # tab2 = widgets.Tab(children2)\n",
    "# tab2 = widgets.Tab(children = [out1, out2, out3, out4, out5, out6, out7])\n",
    "\n",
    "# for ii in enumerate(work_cat): \n",
    "#     tab2.set_title(ii[0], f\"{_dla_utils_reports.labeling(ii[1])}\")\n",
    "\n",
    "# display(tab2)\n",
    "    \n",
    "    \n",
    "# with out1:\n",
    "#      _dla_utils_reports.project_cat(df, 'active_transp', district) \n",
    "\n",
    "# #out1.append_display_data(_dla_utils_reports.project_cat(df, 'active_transp', district))\n",
    "# #out1.append_display_data(Image(filename=(f'./chart_outputs/project_cat/bar_{district}_active_transp.png')))\n",
    "\n",
    "# with out2:\n",
    "#      _dla_utils_reports.project_cat(df, 'transit', district)\n",
    "# with out3: \n",
    "#      _dla_utils_reports.project_cat(df, 'bridge', district)\n",
    "# with out4:\n",
    "#     _dla_utils_reports.project_cat(df, 'street', district)\n",
    "# with out5:\n",
    "#      _dla_utils_reports.project_cat(df, 'freeway', district)\n",
    "# with out6:\n",
    "#     _dla_utils_reports.project_cat(df, 'infra_resiliency_er', district)\n",
    "# with out7:\n",
    "#     _dla_utils_reports.project_cat(df, 'congestion_relief', district)\n",
    "    "
   ]
  },
  {
   "cell_type": "code",
   "execution_count": null,
   "id": "b4562eb7-a3e1-4829-a23c-058f2f0e30d9",
   "metadata": {
    "jupyter": {
     "source_hidden": true
    },
    "papermill": {
     "duration": null,
     "end_time": null,
     "exception": null,
     "start_time": null,
     "status": "pending"
    },
    "tags": [
     "remove_input"
    ]
   },
   "outputs": [],
   "source": [
    "# # work_cat = ['active_transp', 'transit', 'bridge', 'street','freeway', 'infra_resiliency_er','congestion_relief']\n",
    "\n",
    "# # out1 = widgets.Output()\n",
    "# # out2 = widgets.Output()\n",
    "# # out3 = widgets.Output()\n",
    "# # out4 = widgets.Output()\n",
    "# # out5 = widgets.Output()\n",
    "# # out6 = widgets.Output()\n",
    "# # out7 = widgets.Output()\n",
    "\n",
    "# # tab2 = widgets.Tab(children = [out1, out2, out3, out4, out5, out6, out7])\n",
    "\n",
    "# # for ii in enumerate(work_cat): \n",
    "# #     tab2.set_title(ii[0], f\"{_dla_utils.labeling(ii[1])}\")\n",
    "\n",
    "# # display(tab2)\n",
    "    \n",
    "# # with out1:\n",
    "# #     _dla_utils.project_cat(df, 'active_transp', district) \n",
    "# # with out2:\n",
    "# #      _dla_utils.project_cat(df, 'transit', district)\n",
    "# # with out3: \n",
    "# #      _dla_utils.project_cat(df, 'bridge', district)\n",
    "# # with out4:\n",
    "# #     _dla_utils.project_cat(df, 'street', district)\n",
    "# # with out5:\n",
    "# #      _dla_utils.project_cat(df, 'freeway', district)\n",
    "# # with out6:\n",
    "# #     _dla_utils.project_cat(df, 'infra_resiliency_er', district)\n",
    "# # with out7:\n",
    "# #     _dla_utils.project_cat(df, 'congestion_relief', district)\n",
    "    \n",
    "    \n",
    "# ## https://medium.com/analytics-vidhya/how-to-use-python-to-build-an-image-display-app-in-jupyter-notebook-337c4fd3775f\n",
    "# def show_im():\n",
    "#     CSS = \"\"\"\n",
    "#     .output {\n",
    "#         flex-direction: row;\n",
    "#     }\n",
    "#     \"\"\"\n",
    "#     HTML('<style>{}</style>'.format(CSS))\n",
    "\n",
    "# def image_viewer(district, i): \n",
    "#     image_grid = Image(filename=(f'./chart_outputs/project_cat/bar_{district}_{i}.png'))\n",
    "#     #image_grid_html = HTML(image_grid.to_html(escape=False ,formatters=dict(a=path_to_image_html, \n",
    "#     #b=path_to_image_html)))\n",
    "#     #display(image_grid_html)\n",
    "#     show_im()    \n",
    "    \n",
    "\n",
    "# tab_nest = widgets.Tab()\n",
    "\n",
    "\n",
    "# #interact function in isolation\n",
    "\n",
    "# image = (image_viewer(district, 'active_transp'))\n",
    "# f1 = interactive(image);\n",
    "# tab_nest.children = [widgets.VBox(children = f1.children)]\n",
    "# display(tab_nest)"
   ]
  },
  {
   "cell_type": "code",
   "execution_count": null,
   "id": "8b015c8d-378b-456e-b486-f8b1f5446a21",
   "metadata": {
    "jupyter": {
     "source_hidden": true
    },
    "papermill": {
     "duration": null,
     "end_time": null,
     "exception": null,
     "start_time": null,
     "status": "pending"
    },
    "tags": [
     "remove_input"
    ]
   },
   "outputs": [],
   "source": [
    "# Image(filename=('./chart_outputs/project_cat/bar_4_active_transp.png'))"
   ]
  },
  {
   "cell_type": "code",
   "execution_count": null,
   "id": "f2da39a6-73d0-4293-b13f-267514cfbc4e",
   "metadata": {
    "jupyter": {
     "source_hidden": true
    },
    "papermill": {
     "duration": null,
     "end_time": null,
     "exception": null,
     "start_time": null,
     "status": "pending"
    },
    "tags": [
     "remove_input"
    ]
   },
   "outputs": [],
   "source": [
    "## to markdown\n",
    "#![pic](./chart_outputs/project_cat/bar_4_active_transp.png)\n"
   ]
  }
 ],
 "metadata": {
  "kernelspec": {
   "display_name": "Python 3 (ipykernel)",
   "language": "python",
   "name": "python3"
  },
  "language_info": {
   "codemirror_mode": {
    "name": "ipython",
    "version": 3
   },
   "file_extension": ".py",
   "mimetype": "text/x-python",
   "name": "python",
   "nbconvert_exporter": "python",
   "pygments_lexer": "ipython3",
   "version": "3.7.13"
  },
  "papermill": {
   "default_parameters": {},
   "duration": 20.644271,
   "end_time": "2022-05-18T18:00:27.304767",
   "environment_variables": {},
   "exception": true,
   "input_path": "dla/e76_obligated_funds/reports/dla_district_report.ipynb",
   "output_path": "portfolio/dla/district_10__district_title_district-10-stockton/0__dla_district_report__district_10__district_title_district-10-stockton.ipynb",
   "parameters": {
    "district": 10,
    "district_title": "District 10 - Stockton"
   },
   "start_time": "2022-05-18T18:00:06.660496",
   "version": "2.3.4"
  },
  "widgets": {
   "application/vnd.jupyter.widget-state+json": {
    "state": {
     "05e8742d644a41d0b442eb985d06dac8": {
      "model_module": "@jupyter-widgets/controls",
      "model_module_version": "1.5.0",
      "model_name": "HTMLModel",
      "state": {
       "layout": "IPY_MODEL_6ee9c02f6c5a4ee99bce8bc35d50aaaf",
       "style": "IPY_MODEL_09522532b22749a4bed93f7d59807e50",
       "value": "<h3> Top Agencies using Transit Projects </h3>"
      }
     },
     "06888684be714b8dbb97e4260e39b155": {
      "model_module": "@jupyter-widgets/controls",
      "model_module_version": "1.5.0",
      "model_name": "DescriptionStyleModel",
      "state": {
       "description_width": ""
      }
     },
     "09522532b22749a4bed93f7d59807e50": {
      "model_module": "@jupyter-widgets/controls",
      "model_module_version": "1.5.0",
      "model_name": "DescriptionStyleModel",
      "state": {
       "description_width": ""
      }
     },
     "2578ea0e0e9d4da18ad5e6139f6c0224": {
      "model_module": "@jupyter-widgets/controls",
      "model_module_version": "1.5.0",
      "model_name": "HTMLModel",
      "state": {
       "layout": "IPY_MODEL_db38b0f6b58243c1867d1656b7911129",
       "style": "IPY_MODEL_68cbd7126819477c8bc8dd93c8908464",
       "value": "<h3> Top Agencies using Infrastructure & Emergency Relief Projects </h3>"
      }
     },
     "2d5ed4f15e7e4861a3c43d24c1457542": {
      "model_module": "@jupyter-widgets/base",
      "model_module_version": "1.2.0",
      "model_name": "LayoutModel",
      "state": {}
     },
     "362f7d5d1b794ea9a64e10ed50a73ce0": {
      "model_module": "@jupyter-widgets/controls",
      "model_module_version": "1.5.0",
      "model_name": "HTMLModel",
      "state": {
       "layout": "IPY_MODEL_b5aec39c2dce476fbeb7335bb6ece7f3",
       "style": "IPY_MODEL_e7cd0d4bba994eebbf78ca7c15d0e911",
       "value": "<h3> Top Agencies using Bridge Projects </h3>"
      }
     },
     "49cf0bb9a7cf4a4581252cb99cd2640c": {
      "model_module": "@jupyter-widgets/controls",
      "model_module_version": "1.5.0",
      "model_name": "HTMLModel",
      "state": {
       "layout": "IPY_MODEL_86a7a1b47814410fae1dd3e3a1cf3c23",
       "style": "IPY_MODEL_06888684be714b8dbb97e4260e39b155",
       "value": "<h3> Top Agencies using Freeway Projects </h3>"
      }
     },
     "4a61244cce774d28a9566067fa35760a": {
      "model_module": "@jupyter-widgets/base",
      "model_module_version": "1.2.0",
      "model_name": "LayoutModel",
      "state": {}
     },
     "57d384c77eae42f4bdf20d928b823b53": {
      "model_module": "@jupyter-widgets/base",
      "model_module_version": "1.2.0",
      "model_name": "LayoutModel",
      "state": {}
     },
     "68cbd7126819477c8bc8dd93c8908464": {
      "model_module": "@jupyter-widgets/controls",
      "model_module_version": "1.5.0",
      "model_name": "DescriptionStyleModel",
      "state": {
       "description_width": ""
      }
     },
     "6ee9c02f6c5a4ee99bce8bc35d50aaaf": {
      "model_module": "@jupyter-widgets/base",
      "model_module_version": "1.2.0",
      "model_name": "LayoutModel",
      "state": {}
     },
     "830e981c8ed54810941a86c7f156df52": {
      "model_module": "@jupyter-widgets/controls",
      "model_module_version": "1.5.0",
      "model_name": "HTMLModel",
      "state": {
       "layout": "IPY_MODEL_57d384c77eae42f4bdf20d928b823b53",
       "style": "IPY_MODEL_d0580583478248448abac26d1d32801b",
       "value": "<h3> Top Agencies using Active Transportation Projects </h3>"
      }
     },
     "86a7a1b47814410fae1dd3e3a1cf3c23": {
      "model_module": "@jupyter-widgets/base",
      "model_module_version": "1.2.0",
      "model_name": "LayoutModel",
      "state": {}
     },
     "8be45dae5ae743f7b7ba51219440adaf": {
      "model_module": "@jupyter-widgets/controls",
      "model_module_version": "1.5.0",
      "model_name": "DescriptionStyleModel",
      "state": {
       "description_width": ""
      }
     },
     "b5aec39c2dce476fbeb7335bb6ece7f3": {
      "model_module": "@jupyter-widgets/base",
      "model_module_version": "1.2.0",
      "model_name": "LayoutModel",
      "state": {}
     },
     "cf633f453d804025af7510f1abeafb39": {
      "model_module": "@jupyter-widgets/controls",
      "model_module_version": "1.5.0",
      "model_name": "DescriptionStyleModel",
      "state": {
       "description_width": ""
      }
     },
     "d0580583478248448abac26d1d32801b": {
      "model_module": "@jupyter-widgets/controls",
      "model_module_version": "1.5.0",
      "model_name": "DescriptionStyleModel",
      "state": {
       "description_width": ""
      }
     },
     "db38b0f6b58243c1867d1656b7911129": {
      "model_module": "@jupyter-widgets/base",
      "model_module_version": "1.2.0",
      "model_name": "LayoutModel",
      "state": {}
     },
     "e7cd0d4bba994eebbf78ca7c15d0e911": {
      "model_module": "@jupyter-widgets/controls",
      "model_module_version": "1.5.0",
      "model_name": "DescriptionStyleModel",
      "state": {
       "description_width": ""
      }
     },
     "edb95a5dfab04f9a8c05a3c30b74a4b7": {
      "model_module": "@jupyter-widgets/controls",
      "model_module_version": "1.5.0",
      "model_name": "HTMLModel",
      "state": {
       "layout": "IPY_MODEL_2d5ed4f15e7e4861a3c43d24c1457542",
       "style": "IPY_MODEL_8be45dae5ae743f7b7ba51219440adaf",
       "value": "<h3> Top Agencies using Congestion Relief Projects </h3>"
      }
     },
     "f4d3c364ee5a4197b523ca3091963104": {
      "model_module": "@jupyter-widgets/controls",
      "model_module_version": "1.5.0",
      "model_name": "HTMLModel",
      "state": {
       "layout": "IPY_MODEL_4a61244cce774d28a9566067fa35760a",
       "style": "IPY_MODEL_cf633f453d804025af7510f1abeafb39",
       "value": "<h3> Top Agencies using Street Projects </h3>"
      }
     }
    },
    "version_major": 2,
    "version_minor": 0
   }
  }
 },
 "nbformat": 4,
 "nbformat_minor": 5
}