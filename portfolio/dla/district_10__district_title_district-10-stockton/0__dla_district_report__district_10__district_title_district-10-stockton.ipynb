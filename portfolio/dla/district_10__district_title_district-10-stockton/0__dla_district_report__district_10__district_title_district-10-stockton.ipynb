{
 "cells": [
  {
   "cell_type": "markdown",
   "id": "c52ac033",
   "metadata": {
    "papermill": {
     "duration": 0.020986,
     "end_time": "2022-06-02T22:24:50.824141",
     "exception": false,
     "start_time": "2022-06-02T22:24:50.803155",
     "status": "completed"
    },
    "pycharm": {
     "name": "#%% md\n"
    },
    "tags": []
   },
   "source": [
    "# **District 10 - Stockton**"
   ]
  },
  {
   "cell_type": "markdown",
   "id": "69a79097-e42c-4e22-aec5-62594d3f008f",
   "metadata": {
    "papermill": {
     "duration": 0.018452,
     "end_time": "2022-06-02T22:24:50.861468",
     "exception": false,
     "start_time": "2022-06-02T22:24:50.843016",
     "status": "completed"
    },
    "tags": []
   },
   "source": [
    "<hr style=\"height: 2px; background-color:#136C97; border: none\">\n"
   ]
  },
  {
   "cell_type": "markdown",
   "id": "178948e4-f2ee-4978-87a6-e2eb560b0feb",
   "metadata": {
    "papermill": {
     "duration": 0.017603,
     "end_time": "2022-06-02T22:24:50.897071",
     "exception": false,
     "start_time": "2022-06-02T22:24:50.879468",
     "status": "completed"
    },
    "tags": []
   },
   "source": [
    "How does funding for local agencies differ district to district? Using E-76 obligation data, we can gain insight to how agencies in District 10 use federal program funds, and help identify DLA‘s core customers."
   ]
  },
  {
   "cell_type": "code",
   "execution_count": 1,
   "id": "92c5c56a",
   "metadata": {
    "collapsed": false,
    "execution": {
     "iopub.execute_input": "2022-06-02T22:24:50.935182Z",
     "iopub.status.busy": "2022-06-02T22:24:50.934386Z",
     "iopub.status.idle": "2022-06-02T22:25:00.391449Z",
     "shell.execute_reply": "2022-06-02T22:25:00.390364Z"
    },
    "jupyter": {
     "source_hidden": true
    },
    "papermill": {
     "duration": 9.479472,
     "end_time": "2022-06-02T22:25:00.394192",
     "exception": false,
     "start_time": "2022-06-02T22:24:50.914720",
     "status": "completed"
    },
    "pycharm": {
     "name": "#%%\n"
    },
    "tags": [
     "remove_input"
    ]
   },
   "outputs": [],
   "source": [
    "%%capture\n",
    "\n",
    "import numpy as np\n",
    "import pandas as pd\n",
    "from siuba import *\n",
    "\n",
    "import altair as alt\n",
    "import altair_saver\n",
    "from plotnine import *\n",
    "\n",
    "from IPython.display import Markdown, HTML, Image\n",
    "import ipywidgets as widgets\n",
    "from ipywidgets import interact, interactive\n",
    "\n",
    "from calitp import to_snakecase\n",
    "import intake\n",
    "\n",
    "from shared_utils import altair_utils\n",
    "from shared_utils import styleguide\n",
    "\n",
    "from dla_utils import _dla_utils\n"
   ]
  },
  {
   "cell_type": "code",
   "execution_count": 2,
   "id": "82cf8245-73d2-4ed3-93cf-7ee01661b024",
   "metadata": {
    "execution": {
     "iopub.execute_input": "2022-06-02T22:25:00.436964Z",
     "iopub.status.busy": "2022-06-02T22:25:00.435837Z",
     "iopub.status.idle": "2022-06-02T22:25:00.441489Z",
     "shell.execute_reply": "2022-06-02T22:25:00.440705Z"
    },
    "jupyter": {
     "source_hidden": true
    },
    "papermill": {
     "duration": 0.028316,
     "end_time": "2022-06-02T22:25:00.443710",
     "exception": false,
     "start_time": "2022-06-02T22:25:00.415394",
     "status": "completed"
    },
    "tags": [
     "parameters",
     "remove_input"
    ]
   },
   "outputs": [],
   "source": [
    "#Parameter Cell\n",
    "\n",
    "district = 4"
   ]
  },
  {
   "cell_type": "code",
   "execution_count": 3,
   "id": "2df464ef",
   "metadata": {
    "execution": {
     "iopub.execute_input": "2022-06-02T22:25:00.487582Z",
     "iopub.status.busy": "2022-06-02T22:25:00.486694Z",
     "iopub.status.idle": "2022-06-02T22:25:00.492267Z",
     "shell.execute_reply": "2022-06-02T22:25:00.491543Z"
    },
    "jupyter": {
     "source_hidden": true
    },
    "papermill": {
     "duration": 0.029664,
     "end_time": "2022-06-02T22:25:00.494455",
     "exception": false,
     "start_time": "2022-06-02T22:25:00.464791",
     "status": "completed"
    },
    "tags": [
     "injected-parameters",
     "remove_input"
    ]
   },
   "outputs": [],
   "source": [
    "# Parameters\n",
    "district = 10\n",
    "district_title = \"District 10 - Stockton\"\n"
   ]
  },
  {
   "cell_type": "code",
   "execution_count": 4,
   "id": "948b2b4f-ef9b-48ff-b109-e7b76361066c",
   "metadata": {
    "execution": {
     "iopub.execute_input": "2022-06-02T22:25:00.533513Z",
     "iopub.status.busy": "2022-06-02T22:25:00.532913Z",
     "iopub.status.idle": "2022-06-02T22:25:00.965286Z",
     "shell.execute_reply": "2022-06-02T22:25:00.963803Z"
    },
    "jupyter": {
     "source_hidden": true
    },
    "papermill": {
     "duration": 0.475928,
     "end_time": "2022-06-02T22:25:00.988636",
     "exception": false,
     "start_time": "2022-06-02T22:25:00.512708",
     "status": "completed"
    },
    "tags": [
     "remove_input"
    ]
   },
   "outputs": [],
   "source": [
    "df= pd.read_parquet(\"gs://calitp-analytics-data/data-analyses/dla/e-76Obligated/dla_df.parquet\")\n"
   ]
  },
  {
   "cell_type": "code",
   "execution_count": 5,
   "id": "be910f27-7608-4522-8d8d-ef93611cb748",
   "metadata": {
    "execution": {
     "iopub.execute_input": "2022-06-02T22:25:01.029799Z",
     "iopub.status.busy": "2022-06-02T22:25:01.028681Z",
     "iopub.status.idle": "2022-06-02T22:25:01.140300Z",
     "shell.execute_reply": "2022-06-02T22:25:01.139598Z"
    },
    "jupyter": {
     "source_hidden": true
    },
    "papermill": {
     "duration": 0.133945,
     "end_time": "2022-06-02T22:25:01.142726",
     "exception": false,
     "start_time": "2022-06-02T22:25:01.008781",
     "status": "completed"
    },
    "tags": [
     "remove_input"
    ]
   },
   "outputs": [],
   "source": [
    "df = (df>>filter(_.dist==district))\n",
    "    \n",
    "    \n",
    "#subsetting the data\n",
    "df_years = _dla_utils.count_all_years(df)\n",
    "df_top = _dla_utils.find_top(df)\n",
    "    "
   ]
  },
  {
   "cell_type": "code",
   "execution_count": 6,
   "id": "a5850431-4942-45ef-a3ea-6cb3f07d628e",
   "metadata": {
    "execution": {
     "iopub.execute_input": "2022-06-02T22:25:01.188183Z",
     "iopub.status.busy": "2022-06-02T22:25:01.187200Z",
     "iopub.status.idle": "2022-06-02T22:25:01.195008Z",
     "shell.execute_reply": "2022-06-02T22:25:01.194090Z"
    },
    "jupyter": {
     "source_hidden": true
    },
    "papermill": {
     "duration": 0.035374,
     "end_time": "2022-06-02T22:25:01.196813",
     "exception": false,
     "start_time": "2022-06-02T22:25:01.161439",
     "status": "completed"
    },
    "tags": [
     "remove_input"
    ]
   },
   "outputs": [],
   "source": [
    "df['prepared_y'] = df['prepared_y'].map('{:.0f}'.format)"
   ]
  },
  {
   "cell_type": "code",
   "execution_count": 7,
   "id": "7f5ac0a1-a951-4072-8f85-d2c90290907f",
   "metadata": {
    "execution": {
     "iopub.execute_input": "2022-06-02T22:25:01.237201Z",
     "iopub.status.busy": "2022-06-02T22:25:01.236094Z",
     "iopub.status.idle": "2022-06-02T22:25:01.458868Z",
     "shell.execute_reply": "2022-06-02T22:25:01.457879Z"
    },
    "jupyter": {
     "source_hidden": true
    },
    "papermill": {
     "duration": 0.246484,
     "end_time": "2022-06-02T22:25:01.461367",
     "exception": false,
     "start_time": "2022-06-02T22:25:01.214883",
     "status": "completed"
    },
    "tags": [
     "remove_input"
    ]
   },
   "outputs": [
    {
     "data": {
      "text/html": [
       "<h3>Quick Stats</h3>"
      ],
      "text/plain": [
       "<IPython.core.display.HTML object>"
      ]
     },
     "metadata": {},
     "output_type": "display_data"
    },
    {
     "data": {
      "text/html": [
       "There are <strong>56 Unique Agencies</strong>"
      ],
      "text/plain": [
       "<IPython.core.display.HTML object>"
      ]
     },
     "metadata": {},
     "output_type": "display_data"
    },
    {
     "data": {
      "text/html": [
       "Out of <strong>2,352</strong> obligations, <strong>86 have transit-related</strong> project types<br><strong>Stanislaus County</strong> has the <strong>highest transit</strong> obligations"
      ],
      "text/plain": [
       "<IPython.core.display.HTML object>"
      ]
     },
     "metadata": {},
     "output_type": "display_data"
    },
    {
     "data": {
      "text/html": [
       "There are <strong>3 agencies have over 228.75</strong> obligations (95th percentile) since 2013"
      ],
      "text/plain": [
       "<IPython.core.display.HTML object>"
      ]
     },
     "metadata": {},
     "output_type": "display_data"
    },
    {
     "data": {
      "text/html": [
       "There are <strong>1 agencies have less than 2.00</strong> obligations (5th percentile) since 2013"
      ],
      "text/plain": [
       "<IPython.core.display.HTML object>"
      ]
     },
     "metadata": {},
     "output_type": "display_data"
    },
    {
     "data": {
      "text/html": [
       "<h4>Number of Unique Prefix Codes by Agency</h4>"
      ],
      "text/plain": [
       "<IPython.core.display.HTML object>"
      ]
     },
     "metadata": {},
     "output_type": "display_data"
    },
    {
     "data": {
      "text/html": [
       "<style type=\"text/css\">\n",
       "#T_7850d th {\n",
       "  text-align: center;\n",
       "}\n",
       "#T_7850d_row0_col0, #T_7850d_row0_col1, #T_7850d_row1_col0, #T_7850d_row1_col1, #T_7850d_row2_col0, #T_7850d_row2_col1, #T_7850d_row3_col0, #T_7850d_row3_col1, #T_7850d_row4_col0, #T_7850d_row4_col1 {\n",
       "  text-align: center;\n",
       "}\n",
       "</style>\n",
       "<table id=\"T_7850d\">\n",
       "  <thead>\n",
       "    <tr>\n",
       "      <th id=\"T_7850d_level0_col0\" class=\"col_heading level0 col0\" >Agency</th>\n",
       "      <th id=\"T_7850d_level0_col1\" class=\"col_heading level0 col1\" >Number Of Unqiue Prefix Codes</th>\n",
       "    </tr>\n",
       "  </thead>\n",
       "  <tbody>\n",
       "    <tr>\n",
       "      <td id=\"T_7850d_row0_col0\" class=\"data row0 col0\" >Stockton</td>\n",
       "      <td id=\"T_7850d_row0_col1\" class=\"data row0 col1\" >23</td>\n",
       "    </tr>\n",
       "    <tr>\n",
       "      <td id=\"T_7850d_row1_col0\" class=\"data row1 col0\" >Modesto</td>\n",
       "      <td id=\"T_7850d_row1_col1\" class=\"data row1 col1\" >17</td>\n",
       "    </tr>\n",
       "    <tr>\n",
       "      <td id=\"T_7850d_row2_col0\" class=\"data row2 col0\" >Stanislaus County</td>\n",
       "      <td id=\"T_7850d_row2_col1\" class=\"data row2 col1\" >15</td>\n",
       "    </tr>\n",
       "    <tr>\n",
       "      <td id=\"T_7850d_row3_col0\" class=\"data row3 col0\" >Calaveras County</td>\n",
       "      <td id=\"T_7850d_row3_col1\" class=\"data row3 col1\" >12</td>\n",
       "    </tr>\n",
       "    <tr>\n",
       "      <td id=\"T_7850d_row4_col0\" class=\"data row4 col0\" >Mariposa County</td>\n",
       "      <td id=\"T_7850d_row4_col1\" class=\"data row4 col1\" >11</td>\n",
       "    </tr>\n",
       "  </tbody>\n",
       "</table>\n"
      ],
      "text/plain": [
       "<IPython.core.display.HTML object>"
      ]
     },
     "metadata": {},
     "output_type": "display_data"
    },
    {
     "data": {
      "text/html": [
       "<h4>Number of Unique Agencies by Prefix Codes</h4>"
      ],
      "text/plain": [
       "<IPython.core.display.HTML object>"
      ]
     },
     "metadata": {},
     "output_type": "display_data"
    },
    {
     "data": {
      "text/html": [
       "<style type=\"text/css\">\n",
       "#T_47d2f th {\n",
       "  text-align: center;\n",
       "}\n",
       "#T_47d2f_row0_col0, #T_47d2f_row0_col1, #T_47d2f_row1_col0, #T_47d2f_row1_col1, #T_47d2f_row2_col0, #T_47d2f_row2_col1, #T_47d2f_row3_col0, #T_47d2f_row3_col1, #T_47d2f_row4_col0, #T_47d2f_row4_col1 {\n",
       "  text-align: center;\n",
       "}\n",
       "</style>\n",
       "<table id=\"T_47d2f\">\n",
       "  <thead>\n",
       "    <tr>\n",
       "      <th id=\"T_47d2f_level0_col0\" class=\"col_heading level0 col0\" >Prefix</th>\n",
       "      <th id=\"T_47d2f_level0_col1\" class=\"col_heading level0 col1\" >Number Of Unqiue Agencies</th>\n",
       "    </tr>\n",
       "  </thead>\n",
       "  <tbody>\n",
       "    <tr>\n",
       "      <td id=\"T_47d2f_row0_col0\" class=\"data row0 col0\" >CML</td>\n",
       "      <td id=\"T_47d2f_row0_col1\" class=\"data row0 col1\" >38</td>\n",
       "    </tr>\n",
       "    <tr>\n",
       "      <td id=\"T_47d2f_row1_col0\" class=\"data row1 col0\" >STPL</td>\n",
       "      <td id=\"T_47d2f_row1_col1\" class=\"data row1 col1\" >20</td>\n",
       "    </tr>\n",
       "    <tr>\n",
       "      <td id=\"T_47d2f_row2_col0\" class=\"data row2 col0\" >HSIPL</td>\n",
       "      <td id=\"T_47d2f_row2_col1\" class=\"data row2 col1\" >16</td>\n",
       "    </tr>\n",
       "    <tr>\n",
       "      <td id=\"T_47d2f_row3_col0\" class=\"data row3 col0\" >BRLS</td>\n",
       "      <td id=\"T_47d2f_row3_col1\" class=\"data row3 col1\" >14</td>\n",
       "    </tr>\n",
       "    <tr>\n",
       "      <td id=\"T_47d2f_row4_col0\" class=\"data row4 col0\" >BRLO</td>\n",
       "      <td id=\"T_47d2f_row4_col1\" class=\"data row4 col1\" >11</td>\n",
       "    </tr>\n",
       "  </tbody>\n",
       "</table>\n"
      ],
      "text/plain": [
       "<IPython.core.display.HTML object>"
      ]
     },
     "metadata": {},
     "output_type": "display_data"
    },
    {
     "data": {
      "text/html": [
       "<h4>Top 5 Types of Work</h4>"
      ],
      "text/plain": [
       "<IPython.core.display.HTML object>"
      ]
     },
     "metadata": {},
     "output_type": "display_data"
    },
    {
     "data": {
      "text/html": [
       "<style type=\"text/css\">\n",
       "#T_6c62d th {\n",
       "  text-align: center;\n",
       "}\n",
       "#T_6c62d_row0_col0, #T_6c62d_row1_col0, #T_6c62d_row2_col0, #T_6c62d_row3_col0, #T_6c62d_row4_col0 {\n",
       "  text-align: center;\n",
       "}\n",
       "</style>\n",
       "<table id=\"T_6c62d\">\n",
       "  <thead>\n",
       "    <tr>\n",
       "      <th id=\"T_6c62d_level0_col0\" class=\"col_heading level0 col0\" >Type Of Work</th>\n",
       "    </tr>\n",
       "  </thead>\n",
       "  <tbody>\n",
       "    <tr>\n",
       "      <td id=\"T_6c62d_row0_col0\" class=\"data row0 col0\" >Bridge Replacement (tc)</td>\n",
       "    </tr>\n",
       "    <tr>\n",
       "      <td id=\"T_6c62d_row1_col0\" class=\"data row1 col0\" >Bridge Replacement</td>\n",
       "    </tr>\n",
       "    <tr>\n",
       "      <td id=\"T_6c62d_row2_col0\" class=\"data row2 col0\" >Bridge Preventive Maintenance</td>\n",
       "    </tr>\n",
       "    <tr>\n",
       "      <td id=\"T_6c62d_row3_col0\" class=\"data row3 col0\" >Pavement Rehabilitation (tc)</td>\n",
       "    </tr>\n",
       "    <tr>\n",
       "      <td id=\"T_6c62d_row4_col0\" class=\"data row4 col0\" >FTA Transfer</td>\n",
       "    </tr>\n",
       "  </tbody>\n",
       "</table>\n"
      ],
      "text/plain": [
       "<IPython.core.display.HTML object>"
      ]
     },
     "metadata": {},
     "output_type": "display_data"
    }
   ],
   "source": [
    "display(HTML(\"<h3>Quick Stats</h3>\"))\n",
    "\n",
    "display(\n",
    "    HTML(\n",
    "        f\"There are <strong>{(df.primary_agency_name.nunique())} Unique Agencies</strong>\"\n",
    "    )\n",
    ")\n",
    "\n",
    "transit = df >> filter(_.transit == 1)\n",
    "\n",
    "def find_transit(df):\n",
    "    if (len(transit)) == 0: \n",
    "        return display((HTML(f\"Out of <strong>{len(df):,}</strong> obligations,\" \n",
    "                             f\" there are <strong>0 transit realted</strong> project types\")))\n",
    "    \n",
    "    else:\n",
    "        return display(\n",
    "            HTML(\n",
    "                f\"Out of <strong>{len(df):,}</strong> obligations, <strong>{len(transit)} have \"\n",
    "                f\"transit-related</strong> project types\"\n",
    "                f\"<br><strong>{(transit>>count(_.primary_agency_name)>>arrange(-_.n)).iloc[0, 0]}</strong> \"\n",
    "                f\"has the <strong>highest transit</strong> obligations\"\n",
    "            ))\n",
    "    \n",
    "find_transit(df)\n",
    "\n",
    "q = df >> count(_.primary_agency_name) >> arrange(_.n)\n",
    "\n",
    "q2 = q.n.quantile(0.95)\n",
    "\n",
    "display(\n",
    "    HTML(\n",
    "        f\"There are <strong>{len(q>>filter(_.n> (q2)))} agencies have over {('%.2f'%(q2))}</strong> \" \n",
    "        f\"obligations (95th percentile) since {(df.prepared_y.min())}\"\n",
    "    )\n",
    ")\n",
    "\n",
    "q3 = q.n.quantile(0.1)\n",
    "display(\n",
    "    HTML(\n",
    "        (\n",
    "            f\"There are <strong>{len(q>>filter(_.n< (q3)))} agencies have less than\"\n",
    "            f\" {('%.2f'%(q3))}</strong> obligations (5th percentile) since {(df.prepared_y.min())}\"\n",
    "        )\n",
    "    )\n",
    ")\n",
    "\n",
    "## tables\n",
    "display(HTML(\"<h4>Number of Unique Prefix Codes by Agency</h4>\"))\n",
    "nunique_prefix_codes = ((_dla_utils.get_nunique(df, \"prefix\", \"primary_agency_name\"))\n",
    "                        .rename(columns={\"primary_agency_name\": \"Agency\", \"n\": \"Number of Unqiue Prefix Codes\"})\n",
    "                        .head(5))\n",
    "display(HTML(_dla_utils.pretify_tables(nunique_prefix_codes)))\n",
    "\n",
    "display(HTML(\"<h4>Number of Unique Agencies by Prefix Codes</h4>\"))\n",
    "prefix_codes = ((_dla_utils.get_nunique(df, \"primary_agency_name\", \"prefix\"))\n",
    "                .rename(columns={\"prefix\": \"Prefix\", \"n\": \"Number of Unqiue Agencies\"})\n",
    "                .head(5))\n",
    "display(HTML(_dla_utils.pretify_tables(prefix_codes)))\n",
    "\n",
    "\n",
    "display(HTML(\"<h4>Top 5 Types of Work</h4>\"))\n",
    "work_types = (\n",
    "    (df >> count(_.type_of_work) >> arrange(-_.n) >> select(_.type_of_work))\n",
    "    .rename(columns={\"type_of_work\": \"Type of Work\"})\n",
    "    .head(5)\n",
    ")\n",
    "display(HTML(_dla_utils.pretify_tables(work_types)))\n",
    "# get rid of index using:\n",
    "## https://stackoverflow.com/questions/24644656/how-to-print-pandas-dataframe-without-index\n"
   ]
  },
  {
   "cell_type": "markdown",
   "id": "52a161a2-876a-4b42-9c93-3221dce17638",
   "metadata": {
    "papermill": {
     "duration": 0.022136,
     "end_time": "2022-06-02T22:25:01.517264",
     "exception": false,
     "start_time": "2022-06-02T22:25:01.495128",
     "status": "completed"
    },
    "tags": []
   },
   "source": [
    "## Obligations"
   ]
  },
  {
   "cell_type": "markdown",
   "id": "c9d55b3c-f6b6-4980-957c-77d458068fe3",
   "metadata": {
    "papermill": {
     "duration": 0.027262,
     "end_time": "2022-06-02T22:25:01.568057",
     "exception": false,
     "start_time": "2022-06-02T22:25:01.540795",
     "status": "completed"
    },
    "tags": []
   },
   "source": [
    "<hr style=\"height: 2px; background-color:#136C97; border: none\">"
   ]
  },
  {
   "cell_type": "markdown",
   "id": "379b61e3-1c1b-4683-b78f-8dee0683f064",
   "metadata": {
    "papermill": {
     "duration": 0.021431,
     "end_time": "2022-06-02T22:25:01.613847",
     "exception": false,
     "start_time": "2022-06-02T22:25:01.592416",
     "status": "completed"
    },
    "tags": []
   },
   "source": [
    "Obligations indicate a unique entry in the E-76 dataset. By counting the obligations for each year, district, and organization, we can see what the volume each as well which organizations are the most and last frequent customers. \n",
    "\n",
    "Metrics:\n",
    "* Obligations by Year\n",
    "* Number of Unique Agencies by District\n",
    "* Agencies With The Most Obligations"
   ]
  },
  {
   "cell_type": "markdown",
   "id": "81ad520b-db91-45b8-a598-a6577cccc24e",
   "metadata": {
    "papermill": {
     "duration": 0.021985,
     "end_time": "2022-06-02T22:25:01.658880",
     "exception": false,
     "start_time": "2022-06-02T22:25:01.636895",
     "status": "completed"
    },
    "tags": []
   },
   "source": [
    "### Number of Obligations by Year"
   ]
  },
  {
   "cell_type": "code",
   "execution_count": 8,
   "id": "ae85287b-0772-4595-8ea2-ccba83dd22cf",
   "metadata": {
    "execution": {
     "iopub.execute_input": "2022-06-02T22:25:01.709094Z",
     "iopub.status.busy": "2022-06-02T22:25:01.708058Z",
     "iopub.status.idle": "2022-06-02T22:25:01.741954Z",
     "shell.execute_reply": "2022-06-02T22:25:01.741078Z"
    },
    "jupyter": {
     "source_hidden": true
    },
    "papermill": {
     "duration": 0.062109,
     "end_time": "2022-06-02T22:25:01.744021",
     "exception": false,
     "start_time": "2022-06-02T22:25:01.681912",
     "status": "completed"
    },
    "tags": [
     "remove_input"
    ]
   },
   "outputs": [
    {
     "data": {
      "text/html": [
       "\n",
       "<div id=\"altair-viz-8c754f1938c84a7497086cbbc54564dc\"></div>\n",
       "<script type=\"text/javascript\">\n",
       "  var VEGA_DEBUG = (typeof VEGA_DEBUG == \"undefined\") ? {} : VEGA_DEBUG;\n",
       "  (function(spec, embedOpt){\n",
       "    let outputDiv = document.currentScript.previousElementSibling;\n",
       "    if (outputDiv.id !== \"altair-viz-8c754f1938c84a7497086cbbc54564dc\") {\n",
       "      outputDiv = document.getElementById(\"altair-viz-8c754f1938c84a7497086cbbc54564dc\");\n",
       "    }\n",
       "    const paths = {\n",
       "      \"vega\": \"https://cdn.jsdelivr.net/npm//vega@5?noext\",\n",
       "      \"vega-lib\": \"https://cdn.jsdelivr.net/npm//vega-lib?noext\",\n",
       "      \"vega-lite\": \"https://cdn.jsdelivr.net/npm//vega-lite@4.17.0?noext\",\n",
       "      \"vega-embed\": \"https://cdn.jsdelivr.net/npm//vega-embed@6?noext\",\n",
       "    };\n",
       "\n",
       "    function maybeLoadScript(lib, version) {\n",
       "      var key = `${lib.replace(\"-\", \"\")}_version`;\n",
       "      return (VEGA_DEBUG[key] == version) ?\n",
       "        Promise.resolve(paths[lib]) :\n",
       "        new Promise(function(resolve, reject) {\n",
       "          var s = document.createElement('script');\n",
       "          document.getElementsByTagName(\"head\")[0].appendChild(s);\n",
       "          s.async = true;\n",
       "          s.onload = () => {\n",
       "            VEGA_DEBUG[key] = version;\n",
       "            return resolve(paths[lib]);\n",
       "          };\n",
       "          s.onerror = () => reject(`Error loading script: ${paths[lib]}`);\n",
       "          s.src = paths[lib];\n",
       "        });\n",
       "    }\n",
       "\n",
       "    function showError(err) {\n",
       "      outputDiv.innerHTML = `<div class=\"error\" style=\"color:red;\">${err}</div>`;\n",
       "      throw err;\n",
       "    }\n",
       "\n",
       "    function displayChart(vegaEmbed) {\n",
       "      vegaEmbed(outputDiv, spec, embedOpt)\n",
       "        .catch(err => showError(`Javascript Error: ${err.message}<br>This usually means there's a typo in your chart specification. See the javascript console for the full traceback.`));\n",
       "    }\n",
       "\n",
       "    if(typeof define === \"function\" && define.amd) {\n",
       "      requirejs.config({paths});\n",
       "      require([\"vega-embed\"], displayChart, err => showError(`Error loading script: ${err.message}`));\n",
       "    } else {\n",
       "      maybeLoadScript(\"vega\", \"5\")\n",
       "        .then(() => maybeLoadScript(\"vega-lite\", \"4.17.0\"))\n",
       "        .then(() => maybeLoadScript(\"vega-embed\", \"6\"))\n",
       "        .catch(showError)\n",
       "        .then(() => displayChart(vegaEmbed));\n",
       "    }\n",
       "  })({\"config\": {\"view\": {\"continuousWidth\": 400, \"continuousHeight\": 300}, \"axis\": {\"domainColor\": \"#cbcbcb\", \"grid\": true, \"gridColor\": \"#cbcbcb\", \"gridWidth\": 1, \"labelColor\": \"#474747\", \"labelFont\": \"Nunito Sans\", \"labelFontSize\": 10, \"labelPadding\": 4, \"tickColor\": \"#cbcbcb\", \"tickSize\": 10, \"titleColor\": \"#333\", \"titleFont\": \"Raleway\", \"titleFontSize\": 12, \"titlePadding\": 10}, \"axisBand\": {\"grid\": false}, \"background\": \"white\", \"font\": \"Raleway\", \"header\": {\"labelFont\": \"Nunito Sans\", \"titleFont\": \"Raleway\"}, \"legend\": {\"labelColor\": \"#333\", \"labelFont\": \"Nunito Sans\", \"labelFontSize\": 11, \"labelLimit\": 0, \"padding\": 1, \"symbolSize\": 30, \"symbolType\": \"square\", \"titleColor\": \"#333\", \"titleFont\": \"Raleway\", \"titleFontSize\": 14, \"titlePadding\": 10}, \"title\": {\"anchor\": \"middle\", \"font\": \"Raleway\", \"fontSize\": 18, \"fontWeight\": 300, \"offset\": 20}}, \"data\": {\"name\": \"data-ea6afd526d44d9cd3d24dedbad584f46\"}, \"mark\": \"line\", \"encoding\": {\"tooltip\": [{\"field\": \"Year\", \"title\": \"Year\", \"type\": \"quantitative\"}, {\"field\": \"count\", \"title\": \"Count\", \"type\": \"quantitative\"}], \"x\": {\"field\": \"Year\", \"title\": \"Prepared Year\", \"type\": \"ordinal\"}, \"y\": {\"field\": \"count\", \"title\": \"Count\", \"type\": \"quantitative\"}}, \"height\": 250, \"width\": 400, \"$schema\": \"https://vega.github.io/schema/vega-lite/v4.17.0.json\", \"datasets\": {\"data-ea6afd526d44d9cd3d24dedbad584f46\": [{\"Year\": 2018.0, \"count\": 335, \"variable\": \"prepared_y\"}, {\"Year\": 2014.0, \"count\": 296, \"variable\": \"prepared_y\"}, {\"Year\": 2019.0, \"count\": 281, \"variable\": \"prepared_y\"}, {\"Year\": 2017.0, \"count\": 277, \"variable\": \"prepared_y\"}, {\"Year\": 2021.0, \"count\": 276, \"variable\": \"prepared_y\"}, {\"Year\": 2016.0, \"count\": 275, \"variable\": \"prepared_y\"}, {\"Year\": 2020.0, \"count\": 265, \"variable\": \"prepared_y\"}, {\"Year\": 2015.0, \"count\": 261, \"variable\": \"prepared_y\"}, {\"Year\": 2022.0, \"count\": 81, \"variable\": \"prepared_y\"}, {\"Year\": 2013.0, \"count\": 5, \"variable\": \"prepared_y\"}]}}, {\"mode\": \"vega-lite\"});\n",
       "</script>"
      ],
      "text/plain": [
       "alt.Chart(...)"
      ]
     },
     "metadata": {},
     "output_type": "display_data"
    }
   ],
   "source": [
    " #Line chart for Obligations by Year\n",
    "chart_df = (df_top>>filter(_.variable=='prepared_y')).rename(columns= {\"value\":\"Year\"})\n",
    "    \n",
    "chart1= (_dla_utils.basic_line_chart_test_no_save(chart_df, 'Year', 'count', district)).encode(x=alt.X('Year:O', title='Prepared Year'))\n",
    "display(chart1)"
   ]
  },
  {
   "cell_type": "markdown",
   "id": "ff0a6bf9-ddc9-4b6c-b2e1-77de18cf6f80",
   "metadata": {
    "papermill": {
     "duration": 0.032781,
     "end_time": "2022-06-02T22:25:01.799609",
     "exception": false,
     "start_time": "2022-06-02T22:25:01.766828",
     "status": "completed"
    },
    "tags": []
   },
   "source": [
    "### Number of Unique Agencies by District"
   ]
  },
  {
   "cell_type": "code",
   "execution_count": 9,
   "id": "0bc7e34d-545e-4afd-92e9-a17630d0ae89",
   "metadata": {
    "execution": {
     "iopub.execute_input": "2022-06-02T22:25:01.847960Z",
     "iopub.status.busy": "2022-06-02T22:25:01.847587Z",
     "iopub.status.idle": "2022-06-02T22:25:01.901515Z",
     "shell.execute_reply": "2022-06-02T22:25:01.900698Z"
    },
    "jupyter": {
     "source_hidden": true
    },
    "papermill": {
     "duration": 0.081358,
     "end_time": "2022-06-02T22:25:01.903608",
     "exception": false,
     "start_time": "2022-06-02T22:25:01.822250",
     "status": "completed"
    },
    "tags": [
     "remove_input"
    ]
   },
   "outputs": [
    {
     "data": {
      "text/html": [
       "\n",
       "<div id=\"altair-viz-2cfb34fa850d4c988ebf4ad71b4a275d\"></div>\n",
       "<script type=\"text/javascript\">\n",
       "  var VEGA_DEBUG = (typeof VEGA_DEBUG == \"undefined\") ? {} : VEGA_DEBUG;\n",
       "  (function(spec, embedOpt){\n",
       "    let outputDiv = document.currentScript.previousElementSibling;\n",
       "    if (outputDiv.id !== \"altair-viz-2cfb34fa850d4c988ebf4ad71b4a275d\") {\n",
       "      outputDiv = document.getElementById(\"altair-viz-2cfb34fa850d4c988ebf4ad71b4a275d\");\n",
       "    }\n",
       "    const paths = {\n",
       "      \"vega\": \"https://cdn.jsdelivr.net/npm//vega@5?noext\",\n",
       "      \"vega-lib\": \"https://cdn.jsdelivr.net/npm//vega-lib?noext\",\n",
       "      \"vega-lite\": \"https://cdn.jsdelivr.net/npm//vega-lite@4.17.0?noext\",\n",
       "      \"vega-embed\": \"https://cdn.jsdelivr.net/npm//vega-embed@6?noext\",\n",
       "    };\n",
       "\n",
       "    function maybeLoadScript(lib, version) {\n",
       "      var key = `${lib.replace(\"-\", \"\")}_version`;\n",
       "      return (VEGA_DEBUG[key] == version) ?\n",
       "        Promise.resolve(paths[lib]) :\n",
       "        new Promise(function(resolve, reject) {\n",
       "          var s = document.createElement('script');\n",
       "          document.getElementsByTagName(\"head\")[0].appendChild(s);\n",
       "          s.async = true;\n",
       "          s.onload = () => {\n",
       "            VEGA_DEBUG[key] = version;\n",
       "            return resolve(paths[lib]);\n",
       "          };\n",
       "          s.onerror = () => reject(`Error loading script: ${paths[lib]}`);\n",
       "          s.src = paths[lib];\n",
       "        });\n",
       "    }\n",
       "\n",
       "    function showError(err) {\n",
       "      outputDiv.innerHTML = `<div class=\"error\" style=\"color:red;\">${err}</div>`;\n",
       "      throw err;\n",
       "    }\n",
       "\n",
       "    function displayChart(vegaEmbed) {\n",
       "      vegaEmbed(outputDiv, spec, embedOpt)\n",
       "        .catch(err => showError(`Javascript Error: ${err.message}<br>This usually means there's a typo in your chart specification. See the javascript console for the full traceback.`));\n",
       "    }\n",
       "\n",
       "    if(typeof define === \"function\" && define.amd) {\n",
       "      requirejs.config({paths});\n",
       "      require([\"vega-embed\"], displayChart, err => showError(`Error loading script: ${err.message}`));\n",
       "    } else {\n",
       "      maybeLoadScript(\"vega\", \"5\")\n",
       "        .then(() => maybeLoadScript(\"vega-lite\", \"4.17.0\"))\n",
       "        .then(() => maybeLoadScript(\"vega-embed\", \"6\"))\n",
       "        .catch(showError)\n",
       "        .then(() => displayChart(vegaEmbed));\n",
       "    }\n",
       "  })({\"config\": {\"view\": {\"continuousWidth\": 400, \"continuousHeight\": 300}, \"axis\": {\"domainColor\": \"#cbcbcb\", \"grid\": true, \"gridColor\": \"#cbcbcb\", \"gridWidth\": 1, \"labelColor\": \"#474747\", \"labelFont\": \"Nunito Sans\", \"labelFontSize\": 10, \"labelPadding\": 4, \"tickColor\": \"#cbcbcb\", \"tickSize\": 10, \"titleColor\": \"#333\", \"titleFont\": \"Raleway\", \"titleFontSize\": 12, \"titlePadding\": 10}, \"axisBand\": {\"grid\": false}, \"background\": \"white\", \"font\": \"Raleway\", \"header\": {\"labelFont\": \"Nunito Sans\", \"titleFont\": \"Raleway\"}, \"legend\": {\"labelColor\": \"#333\", \"labelFont\": \"Nunito Sans\", \"labelFontSize\": 11, \"labelLimit\": 0, \"padding\": 1, \"symbolSize\": 30, \"symbolType\": \"square\", \"titleColor\": \"#333\", \"titleFont\": \"Raleway\", \"titleFontSize\": 14, \"titlePadding\": 10}, \"title\": {\"anchor\": \"middle\", \"font\": \"Raleway\", \"fontSize\": 18, \"fontWeight\": 300, \"offset\": 20}}, \"data\": {\"name\": \"data-6e4f841536d1ff389a49185c83eeeef0\"}, \"mark\": \"bar\", \"encoding\": {\"color\": {\"field\": \"District\", \"legend\": {\"title\": \"Prepared Year\"}, \"scale\": {\"range\": [\"#B9D6DF\", \"#8CBCCB\", \"#2EA8CE\", \"#136C97\", \"#0B405B\"]}, \"type\": \"nominal\"}, \"column\": {\"field\": \"District\", \"type\": \"nominal\"}, \"tooltip\": [{\"field\": \"prepared_y\", \"title\": \"Year\", \"type\": \"nominal\"}, {\"field\": \"Count\", \"title\": \"Count\", \"type\": \"quantitative\"}], \"x\": {\"field\": \"prepared_y\", \"title\": \"Prepared Year\", \"type\": \"ordinal\"}, \"y\": {\"field\": \"Count\", \"title\": \"Number of Unique Agencies\", \"type\": \"quantitative\"}}, \"height\": 250, \"width\": 400, \"$schema\": \"https://vega.github.io/schema/vega-lite/v4.17.0.json\", \"datasets\": {\"data-6e4f841536d1ff389a49185c83eeeef0\": [{\"prepared_y\": \"2022\", \"District\": 10, \"Count\": 21}, {\"prepared_y\": \"2021\", \"District\": 10, \"Count\": 37}, {\"prepared_y\": \"2020\", \"District\": 10, \"Count\": 38}, {\"prepared_y\": \"2019\", \"District\": 10, \"Count\": 44}, {\"prepared_y\": \"2018\", \"District\": 10, \"Count\": 44}, {\"prepared_y\": \"2017\", \"District\": 10, \"Count\": 39}, {\"prepared_y\": \"2016\", \"District\": 10, \"Count\": 39}, {\"prepared_y\": \"2015\", \"District\": 10, \"Count\": 40}, {\"prepared_y\": \"2014\", \"District\": 10, \"Count\": 42}, {\"prepared_y\": \"2013\", \"District\": 10, \"Count\": 5}]}}, {\"mode\": \"vega-lite\"});\n",
       "</script>"
      ],
      "text/plain": [
       "alt.Chart(...)"
      ]
     },
     "metadata": {},
     "output_type": "display_data"
    }
   ],
   "source": [
    "# Unique Agencies by Dist\n",
    "dist_years_agency = ((\n",
    "        df\n",
    "        >> group_by(_.prepared_y, _.dist)\n",
    "        >> summarize(n=_.primary_agency_name.nunique())\n",
    "        >> arrange(-_.prepared_y)\n",
    "    )\n",
    "        .rename(columns={'dist':'District', 'n':'Count'})\n",
    "    )\n",
    "chart10 = (alt.Chart(dist_years_agency).mark_bar().encode(\n",
    "        column='District:N',\n",
    "        x=alt.X('prepared_y:O', title='Prepared Year'),\n",
    "        y=alt.Y('Count:Q', title='Number of Unique Agencies'),\n",
    "        color = alt.Color(\"District:N\", \n",
    "                              scale=alt.Scale(\n",
    "                                  range=altair_utils.CALITP_SEQUENTIAL_COLORS),  \n",
    "                               legend=alt.Legend(title=\"Prepared Year\")\n",
    "                              )))\n",
    "                              \n",
    "chart10 = styleguide.preset_chart_config(chart10)\n",
    "chart10 = _dla_utils.add_tooltip(chart10, 'prepared_y', 'Count')\n",
    "\n",
    "display(chart10)"
   ]
  },
  {
   "cell_type": "markdown",
   "id": "70c59c39-590d-4136-aa09-ee6ed5afc872",
   "metadata": {
    "papermill": {
     "duration": 0.023385,
     "end_time": "2022-06-02T22:25:01.950220",
     "exception": false,
     "start_time": "2022-06-02T22:25:01.926835",
     "status": "completed"
    },
    "tags": []
   },
   "source": [
    "### Agencies With The Most Obligations"
   ]
  },
  {
   "cell_type": "code",
   "execution_count": 10,
   "id": "faa4758e-8a41-44f8-aec4-b8cc4d75d906",
   "metadata": {
    "execution": {
     "iopub.execute_input": "2022-06-02T22:25:02.004574Z",
     "iopub.status.busy": "2022-06-02T22:25:02.003469Z",
     "iopub.status.idle": "2022-06-02T22:25:02.031629Z",
     "shell.execute_reply": "2022-06-02T22:25:02.030789Z"
    },
    "jupyter": {
     "source_hidden": true
    },
    "papermill": {
     "duration": 0.059632,
     "end_time": "2022-06-02T22:25:02.033699",
     "exception": false,
     "start_time": "2022-06-02T22:25:01.974067",
     "status": "completed"
    },
    "tags": [
     "remove_input"
    ]
   },
   "outputs": [
    {
     "data": {
      "text/html": [
       "\n",
       "<div id=\"altair-viz-e1e0712b6c6f4e438dd0726bc6c302a5\"></div>\n",
       "<script type=\"text/javascript\">\n",
       "  var VEGA_DEBUG = (typeof VEGA_DEBUG == \"undefined\") ? {} : VEGA_DEBUG;\n",
       "  (function(spec, embedOpt){\n",
       "    let outputDiv = document.currentScript.previousElementSibling;\n",
       "    if (outputDiv.id !== \"altair-viz-e1e0712b6c6f4e438dd0726bc6c302a5\") {\n",
       "      outputDiv = document.getElementById(\"altair-viz-e1e0712b6c6f4e438dd0726bc6c302a5\");\n",
       "    }\n",
       "    const paths = {\n",
       "      \"vega\": \"https://cdn.jsdelivr.net/npm//vega@5?noext\",\n",
       "      \"vega-lib\": \"https://cdn.jsdelivr.net/npm//vega-lib?noext\",\n",
       "      \"vega-lite\": \"https://cdn.jsdelivr.net/npm//vega-lite@4.17.0?noext\",\n",
       "      \"vega-embed\": \"https://cdn.jsdelivr.net/npm//vega-embed@6?noext\",\n",
       "    };\n",
       "\n",
       "    function maybeLoadScript(lib, version) {\n",
       "      var key = `${lib.replace(\"-\", \"\")}_version`;\n",
       "      return (VEGA_DEBUG[key] == version) ?\n",
       "        Promise.resolve(paths[lib]) :\n",
       "        new Promise(function(resolve, reject) {\n",
       "          var s = document.createElement('script');\n",
       "          document.getElementsByTagName(\"head\")[0].appendChild(s);\n",
       "          s.async = true;\n",
       "          s.onload = () => {\n",
       "            VEGA_DEBUG[key] = version;\n",
       "            return resolve(paths[lib]);\n",
       "          };\n",
       "          s.onerror = () => reject(`Error loading script: ${paths[lib]}`);\n",
       "          s.src = paths[lib];\n",
       "        });\n",
       "    }\n",
       "\n",
       "    function showError(err) {\n",
       "      outputDiv.innerHTML = `<div class=\"error\" style=\"color:red;\">${err}</div>`;\n",
       "      throw err;\n",
       "    }\n",
       "\n",
       "    function displayChart(vegaEmbed) {\n",
       "      vegaEmbed(outputDiv, spec, embedOpt)\n",
       "        .catch(err => showError(`Javascript Error: ${err.message}<br>This usually means there's a typo in your chart specification. See the javascript console for the full traceback.`));\n",
       "    }\n",
       "\n",
       "    if(typeof define === \"function\" && define.amd) {\n",
       "      requirejs.config({paths});\n",
       "      require([\"vega-embed\"], displayChart, err => showError(`Error loading script: ${err.message}`));\n",
       "    } else {\n",
       "      maybeLoadScript(\"vega\", \"5\")\n",
       "        .then(() => maybeLoadScript(\"vega-lite\", \"4.17.0\"))\n",
       "        .then(() => maybeLoadScript(\"vega-embed\", \"6\"))\n",
       "        .catch(showError)\n",
       "        .then(() => displayChart(vegaEmbed));\n",
       "    }\n",
       "  })({\"config\": {\"view\": {\"continuousWidth\": 400, \"continuousHeight\": 300}, \"axis\": {\"domainColor\": \"#cbcbcb\", \"grid\": true, \"gridColor\": \"#cbcbcb\", \"gridWidth\": 1, \"labelColor\": \"#474747\", \"labelFont\": \"Nunito Sans\", \"labelFontSize\": 10, \"labelPadding\": 4, \"tickColor\": \"#cbcbcb\", \"tickSize\": 10, \"titleColor\": \"#333\", \"titleFont\": \"Raleway\", \"titleFontSize\": 12, \"titlePadding\": 10}, \"axisBand\": {\"grid\": false}, \"background\": \"white\", \"font\": \"Raleway\", \"header\": {\"labelFont\": \"Nunito Sans\", \"titleFont\": \"Raleway\"}, \"legend\": {\"labelColor\": \"#333\", \"labelFont\": \"Nunito Sans\", \"labelFontSize\": 11, \"labelLimit\": 0, \"padding\": 1, \"symbolSize\": 30, \"symbolType\": \"square\", \"titleColor\": \"#333\", \"titleFont\": \"Raleway\", \"titleFontSize\": 14, \"titlePadding\": 10}, \"title\": {\"anchor\": \"middle\", \"font\": \"Raleway\", \"fontSize\": 18, \"fontWeight\": 300, \"offset\": 20}}, \"data\": {\"name\": \"data-c392b3ff7d3a1491e0e6350855bab2a7\"}, \"mark\": \"bar\", \"encoding\": {\"color\": {\"field\": \"Agency\", \"legend\": {\"symbolLimit\": 10, \"title\": \"Agency\"}, \"scale\": {\"range\": [\"#2EA8CE\", \"#EB9F3C\", \"#F4D837\", \"#51BF9D\", \"#8CBCCB\", \"#9487C0\"]}, \"type\": \"nominal\"}, \"tooltip\": [{\"field\": \"Agency\", \"title\": \"Agency\", \"type\": \"nominal\"}, {\"field\": \"Number of Obligations\", \"title\": \"Number Of Obligations\", \"type\": \"quantitative\"}], \"x\": {\"field\": \"Agency\", \"sort\": \"-y\", \"title\": \"Agency\", \"type\": \"nominal\"}, \"y\": {\"field\": \"Number of Obligations\", \"title\": \"Number Of Obligations\", \"type\": \"quantitative\"}}, \"height\": 250, \"width\": 400, \"$schema\": \"https://vega.github.io/schema/vega-lite/v4.17.0.json\", \"datasets\": {\"data-c392b3ff7d3a1491e0e6350855bab2a7\": [{\"Agency\": \"Stockton\", \"Number of Obligations\": 277, \"variable\": \"primary_agency_name\"}, {\"Agency\": \"San Joaquin County\", \"Number of Obligations\": 274, \"variable\": \"primary_agency_name\"}, {\"Agency\": \"Modesto\", \"Number of Obligations\": 252, \"variable\": \"primary_agency_name\"}, {\"Agency\": \"Stanislaus County\", \"Number of Obligations\": 221, \"variable\": \"primary_agency_name\"}, {\"Agency\": \"Calaveras County\", \"Number of Obligations\": 130, \"variable\": \"primary_agency_name\"}, {\"Agency\": \"Merced County\", \"Number of Obligations\": 128, \"variable\": \"primary_agency_name\"}, {\"Agency\": \"Turlock\", \"Number of Obligations\": 92, \"variable\": \"primary_agency_name\"}, {\"Agency\": \"Tuolumne County\", \"Number of Obligations\": 87, \"variable\": \"primary_agency_name\"}, {\"Agency\": \"Ceres\", \"Number of Obligations\": 86, \"variable\": \"primary_agency_name\"}, {\"Agency\": \"Merced\", \"Number of Obligations\": 69, \"variable\": \"primary_agency_name\"}, {\"Agency\": \"Mariposa County\", \"Number of Obligations\": 66, \"variable\": \"primary_agency_name\"}, {\"Agency\": \"Riverbank\", \"Number of Obligations\": 46, \"variable\": \"primary_agency_name\"}, {\"Agency\": \"Tracy\", \"Number of Obligations\": 43, \"variable\": \"primary_agency_name\"}, {\"Agency\": \"Stanislaus Council of Governments\", \"Number of Obligations\": 40, \"variable\": \"primary_agency_name\"}, {\"Agency\": \"Atwater\", \"Number of Obligations\": 39, \"variable\": \"primary_agency_name\"}, {\"Agency\": \"Amador County\", \"Number of Obligations\": 38, \"variable\": \"primary_agency_name\"}, {\"Agency\": \"Oakdale\", \"Number of Obligations\": 32, \"variable\": \"primary_agency_name\"}, {\"Agency\": \"Gustine\", \"Number of Obligations\": 31, \"variable\": \"primary_agency_name\"}, {\"Agency\": \"Patterson\", \"Number of Obligations\": 31, \"variable\": \"primary_agency_name\"}, {\"Agency\": \"Newman\", \"Number of Obligations\": 26, \"variable\": \"primary_agency_name\"}]}}, {\"mode\": \"vega-lite\"});\n",
       "</script>"
      ],
      "text/plain": [
       "alt.Chart(...)"
      ]
     },
     "metadata": {},
     "output_type": "display_data"
    }
   ],
   "source": [
    "#Bar chart Agencies With The Most Obligations\n",
    "chart_df = (df_top>>filter(_.variable=='primary_agency_name')).rename(columns={\"value\":\"Agency\",\n",
    "                                 \"count\":\"Number of Obligations\"})\n",
    "chart2 = (_dla_utils.basic_bar_chart_no_save(chart_df, 'Agency', 'Number of Obligations', 'Agency', district))\n",
    "    \n",
    "\n",
    "display(chart2)\n"
   ]
  },
  {
   "cell_type": "markdown",
   "id": "5a3bed5f-4325-47af-9cc7-683f9872817f",
   "metadata": {
    "papermill": {
     "duration": 0.031069,
     "end_time": "2022-06-02T22:25:02.089242",
     "exception": false,
     "start_time": "2022-06-02T22:25:02.058173",
     "status": "completed"
    },
    "tags": []
   },
   "source": [
    "## Prefix Codes"
   ]
  },
  {
   "cell_type": "markdown",
   "id": "339b20d8-68c6-43bd-8aaf-491772bc0995",
   "metadata": {
    "papermill": {
     "duration": 0.023774,
     "end_time": "2022-06-02T22:25:02.137063",
     "exception": false,
     "start_time": "2022-06-02T22:25:02.113289",
     "status": "completed"
    },
    "tags": []
   },
   "source": [
    "<hr style=\"height: 2px; background-color:#8CBCCB; border: none\">\n"
   ]
  },
  {
   "cell_type": "markdown",
   "id": "cfded756-3c93-4089-be41-68e19d28b304",
   "metadata": {
    "papermill": {
     "duration": 0.024341,
     "end_time": "2022-06-02T22:25:02.186262",
     "exception": false,
     "start_time": "2022-06-02T22:25:02.161921",
     "status": "completed"
    },
    "tags": []
   },
   "source": [
    "Prefix Codes refer to the program an obligation is in. Similar to the number of obligations, calcuating the unique prefix codes provides insight to how many progams DLA is involved in each year as well as workload at the district and organization level.\n",
    "\n",
    "Metrics: \n",
    "* Number of Unique Prefix Codes by Districts\n",
    "* Most Used Prefix Codes\n",
    "* Agencies With The Most Unique Prefix Codes"
   ]
  },
  {
   "cell_type": "markdown",
   "id": "f8cb2832-947d-4631-9b4c-c81fb118cab3",
   "metadata": {
    "papermill": {
     "duration": 0.040319,
     "end_time": "2022-06-02T22:25:02.251086",
     "exception": false,
     "start_time": "2022-06-02T22:25:02.210767",
     "status": "completed"
    },
    "tags": []
   },
   "source": [
    "### Number of Unique Prefix Codes by District"
   ]
  },
  {
   "cell_type": "code",
   "execution_count": 11,
   "id": "f661bd63-f8aa-4048-b035-03d5bf1b7e95",
   "metadata": {
    "execution": {
     "iopub.execute_input": "2022-06-02T22:25:02.319058Z",
     "iopub.status.busy": "2022-06-02T22:25:02.318709Z",
     "iopub.status.idle": "2022-06-02T22:25:02.370393Z",
     "shell.execute_reply": "2022-06-02T22:25:02.369431Z"
    },
    "jupyter": {
     "source_hidden": true
    },
    "papermill": {
     "duration": 0.086787,
     "end_time": "2022-06-02T22:25:02.373978",
     "exception": false,
     "start_time": "2022-06-02T22:25:02.287191",
     "status": "completed"
    },
    "tags": [
     "remove_input"
    ]
   },
   "outputs": [
    {
     "data": {
      "text/html": [
       "\n",
       "<div id=\"altair-viz-439cdabb641b4ade931e8d7e03b302aa\"></div>\n",
       "<script type=\"text/javascript\">\n",
       "  var VEGA_DEBUG = (typeof VEGA_DEBUG == \"undefined\") ? {} : VEGA_DEBUG;\n",
       "  (function(spec, embedOpt){\n",
       "    let outputDiv = document.currentScript.previousElementSibling;\n",
       "    if (outputDiv.id !== \"altair-viz-439cdabb641b4ade931e8d7e03b302aa\") {\n",
       "      outputDiv = document.getElementById(\"altair-viz-439cdabb641b4ade931e8d7e03b302aa\");\n",
       "    }\n",
       "    const paths = {\n",
       "      \"vega\": \"https://cdn.jsdelivr.net/npm//vega@5?noext\",\n",
       "      \"vega-lib\": \"https://cdn.jsdelivr.net/npm//vega-lib?noext\",\n",
       "      \"vega-lite\": \"https://cdn.jsdelivr.net/npm//vega-lite@4.17.0?noext\",\n",
       "      \"vega-embed\": \"https://cdn.jsdelivr.net/npm//vega-embed@6?noext\",\n",
       "    };\n",
       "\n",
       "    function maybeLoadScript(lib, version) {\n",
       "      var key = `${lib.replace(\"-\", \"\")}_version`;\n",
       "      return (VEGA_DEBUG[key] == version) ?\n",
       "        Promise.resolve(paths[lib]) :\n",
       "        new Promise(function(resolve, reject) {\n",
       "          var s = document.createElement('script');\n",
       "          document.getElementsByTagName(\"head\")[0].appendChild(s);\n",
       "          s.async = true;\n",
       "          s.onload = () => {\n",
       "            VEGA_DEBUG[key] = version;\n",
       "            return resolve(paths[lib]);\n",
       "          };\n",
       "          s.onerror = () => reject(`Error loading script: ${paths[lib]}`);\n",
       "          s.src = paths[lib];\n",
       "        });\n",
       "    }\n",
       "\n",
       "    function showError(err) {\n",
       "      outputDiv.innerHTML = `<div class=\"error\" style=\"color:red;\">${err}</div>`;\n",
       "      throw err;\n",
       "    }\n",
       "\n",
       "    function displayChart(vegaEmbed) {\n",
       "      vegaEmbed(outputDiv, spec, embedOpt)\n",
       "        .catch(err => showError(`Javascript Error: ${err.message}<br>This usually means there's a typo in your chart specification. See the javascript console for the full traceback.`));\n",
       "    }\n",
       "\n",
       "    if(typeof define === \"function\" && define.amd) {\n",
       "      requirejs.config({paths});\n",
       "      require([\"vega-embed\"], displayChart, err => showError(`Error loading script: ${err.message}`));\n",
       "    } else {\n",
       "      maybeLoadScript(\"vega\", \"5\")\n",
       "        .then(() => maybeLoadScript(\"vega-lite\", \"4.17.0\"))\n",
       "        .then(() => maybeLoadScript(\"vega-embed\", \"6\"))\n",
       "        .catch(showError)\n",
       "        .then(() => displayChart(vegaEmbed));\n",
       "    }\n",
       "  })({\"config\": {\"view\": {\"continuousWidth\": 400, \"continuousHeight\": 300}, \"axis\": {\"domainColor\": \"#cbcbcb\", \"grid\": true, \"gridColor\": \"#cbcbcb\", \"gridWidth\": 1, \"labelColor\": \"#474747\", \"labelFont\": \"Nunito Sans\", \"labelFontSize\": 10, \"labelPadding\": 4, \"tickColor\": \"#cbcbcb\", \"tickSize\": 10, \"titleColor\": \"#333\", \"titleFont\": \"Raleway\", \"titleFontSize\": 12, \"titlePadding\": 10}, \"axisBand\": {\"grid\": false}, \"background\": \"white\", \"font\": \"Raleway\", \"header\": {\"labelFont\": \"Nunito Sans\", \"titleFont\": \"Raleway\"}, \"legend\": {\"labelColor\": \"#333\", \"labelFont\": \"Nunito Sans\", \"labelFontSize\": 11, \"labelLimit\": 0, \"padding\": 1, \"symbolSize\": 30, \"symbolType\": \"square\", \"titleColor\": \"#333\", \"titleFont\": \"Raleway\", \"titleFontSize\": 14, \"titlePadding\": 10}, \"title\": {\"anchor\": \"middle\", \"font\": \"Raleway\", \"fontSize\": 18, \"fontWeight\": 300, \"offset\": 20}}, \"data\": {\"name\": \"data-9b9827e9dc26f4e0133faa57e5b438df\"}, \"mark\": \"bar\", \"encoding\": {\"color\": {\"field\": \"District\", \"legend\": {\"title\": \"District\"}, \"scale\": {\"range\": [\"#B9D6DF\", \"#8CBCCB\", \"#2EA8CE\", \"#136C97\", \"#0B405B\"]}, \"type\": \"nominal\"}, \"column\": {\"field\": \"District\", \"type\": \"nominal\"}, \"tooltip\": [{\"field\": \"prepared_y\", \"title\": \"Prepared Year\", \"type\": \"nominal\"}, {\"field\": \"Count\", \"title\": \"Number\", \"type\": \"quantitative\"}], \"x\": {\"field\": \"prepared_y\", \"title\": \"Prepared Year\", \"type\": \"ordinal\"}, \"y\": {\"field\": \"Count\", \"title\": \"Number of Unique Agencies\", \"type\": \"quantitative\"}}, \"height\": 250, \"width\": 400, \"$schema\": \"https://vega.github.io/schema/vega-lite/v4.17.0.json\", \"datasets\": {\"data-9b9827e9dc26f4e0133faa57e5b438df\": [{\"prepared_y\": \"2022\", \"District\": 10, \"Count\": 12}, {\"prepared_y\": \"2021\", \"District\": 10, \"Count\": 27}, {\"prepared_y\": \"2020\", \"District\": 10, \"Count\": 25}, {\"prepared_y\": \"2019\", \"District\": 10, \"Count\": 31}, {\"prepared_y\": \"2018\", \"District\": 10, \"Count\": 27}, {\"prepared_y\": \"2017\", \"District\": 10, \"Count\": 26}, {\"prepared_y\": \"2016\", \"District\": 10, \"Count\": 23}, {\"prepared_y\": \"2015\", \"District\": 10, \"Count\": 29}, {\"prepared_y\": \"2014\", \"District\": 10, \"Count\": 30}, {\"prepared_y\": \"2013\", \"District\": 10, \"Count\": 4}]}}, {\"mode\": \"vega-lite\"});\n",
       "</script>"
      ],
      "text/plain": [
       "alt.Chart(...)"
      ]
     },
     "metadata": {},
     "output_type": "display_data"
    }
   ],
   "source": [
    "#Unique Prefixes by Dist\n",
    "dist_years_prefix = ((\n",
    "        df\n",
    "        >> group_by(_.prepared_y, _.dist)\n",
    "        >> summarize(n=_.prefix.nunique())\n",
    "        >> arrange(-_.prepared_y)\n",
    "    ).rename(columns={'dist':'District', 'n':'Count'}))\n",
    "\n",
    "chart11 = (alt.Chart(dist_years_prefix).mark_bar().encode(\n",
    "        column='District:N',\n",
    "        x=alt.X('prepared_y:O', title='Prepared Year'),\n",
    "        y=alt.Y('Count:Q', title='Number of Unique Agencies'),\n",
    "        color = alt.Color(\"District:N\", \n",
    "                              scale=alt.Scale(\n",
    "                                  range=altair_utils.CALITP_SEQUENTIAL_COLORS),  \n",
    "                               legend=alt.Legend(title=\"District\")\n",
    "                              ),\n",
    "       # tooltip=[alt.Tooltip('prepared_y', title='Prepared Year'), \n",
    "       #         alt.Tooltip('Count', title='Number')],\n",
    "                              ))\n",
    "chart11 = styleguide.preset_chart_config(chart11)\n",
    "#chart11 = _dla_utils.add_tooltip(chart11, 'prepared_y','Count')\n",
    "chart11 = chart11.encode(tooltip=[alt.Tooltip('prepared_y', title='Prepared Year'), \n",
    "                alt.Tooltip('Count', title='Number')])\n",
    "    \n",
    "\n",
    "display(chart11)"
   ]
  },
  {
   "cell_type": "markdown",
   "id": "c52b3650-9c49-4ab9-a72d-52ecf36d4b7a",
   "metadata": {
    "papermill": {
     "duration": 0.027022,
     "end_time": "2022-06-02T22:25:02.431349",
     "exception": false,
     "start_time": "2022-06-02T22:25:02.404327",
     "status": "completed"
    },
    "tags": []
   },
   "source": [
    "### Most Used Prefix Codes"
   ]
  },
  {
   "cell_type": "code",
   "execution_count": 12,
   "id": "0aca2d9a-062a-4c12-9489-5f9de10f3462",
   "metadata": {
    "execution": {
     "iopub.execute_input": "2022-06-02T22:25:02.487099Z",
     "iopub.status.busy": "2022-06-02T22:25:02.486200Z",
     "iopub.status.idle": "2022-06-02T22:25:02.512550Z",
     "shell.execute_reply": "2022-06-02T22:25:02.511640Z"
    },
    "jupyter": {
     "source_hidden": true
    },
    "papermill": {
     "duration": 0.05797,
     "end_time": "2022-06-02T22:25:02.514650",
     "exception": false,
     "start_time": "2022-06-02T22:25:02.456680",
     "status": "completed"
    },
    "tags": [
     "remove_input"
    ]
   },
   "outputs": [
    {
     "data": {
      "text/html": [
       "\n",
       "<div id=\"altair-viz-8055aaa4aabc480b9bbee9bf2c4c3c98\"></div>\n",
       "<script type=\"text/javascript\">\n",
       "  var VEGA_DEBUG = (typeof VEGA_DEBUG == \"undefined\") ? {} : VEGA_DEBUG;\n",
       "  (function(spec, embedOpt){\n",
       "    let outputDiv = document.currentScript.previousElementSibling;\n",
       "    if (outputDiv.id !== \"altair-viz-8055aaa4aabc480b9bbee9bf2c4c3c98\") {\n",
       "      outputDiv = document.getElementById(\"altair-viz-8055aaa4aabc480b9bbee9bf2c4c3c98\");\n",
       "    }\n",
       "    const paths = {\n",
       "      \"vega\": \"https://cdn.jsdelivr.net/npm//vega@5?noext\",\n",
       "      \"vega-lib\": \"https://cdn.jsdelivr.net/npm//vega-lib?noext\",\n",
       "      \"vega-lite\": \"https://cdn.jsdelivr.net/npm//vega-lite@4.17.0?noext\",\n",
       "      \"vega-embed\": \"https://cdn.jsdelivr.net/npm//vega-embed@6?noext\",\n",
       "    };\n",
       "\n",
       "    function maybeLoadScript(lib, version) {\n",
       "      var key = `${lib.replace(\"-\", \"\")}_version`;\n",
       "      return (VEGA_DEBUG[key] == version) ?\n",
       "        Promise.resolve(paths[lib]) :\n",
       "        new Promise(function(resolve, reject) {\n",
       "          var s = document.createElement('script');\n",
       "          document.getElementsByTagName(\"head\")[0].appendChild(s);\n",
       "          s.async = true;\n",
       "          s.onload = () => {\n",
       "            VEGA_DEBUG[key] = version;\n",
       "            return resolve(paths[lib]);\n",
       "          };\n",
       "          s.onerror = () => reject(`Error loading script: ${paths[lib]}`);\n",
       "          s.src = paths[lib];\n",
       "        });\n",
       "    }\n",
       "\n",
       "    function showError(err) {\n",
       "      outputDiv.innerHTML = `<div class=\"error\" style=\"color:red;\">${err}</div>`;\n",
       "      throw err;\n",
       "    }\n",
       "\n",
       "    function displayChart(vegaEmbed) {\n",
       "      vegaEmbed(outputDiv, spec, embedOpt)\n",
       "        .catch(err => showError(`Javascript Error: ${err.message}<br>This usually means there's a typo in your chart specification. See the javascript console for the full traceback.`));\n",
       "    }\n",
       "\n",
       "    if(typeof define === \"function\" && define.amd) {\n",
       "      requirejs.config({paths});\n",
       "      require([\"vega-embed\"], displayChart, err => showError(`Error loading script: ${err.message}`));\n",
       "    } else {\n",
       "      maybeLoadScript(\"vega\", \"5\")\n",
       "        .then(() => maybeLoadScript(\"vega-lite\", \"4.17.0\"))\n",
       "        .then(() => maybeLoadScript(\"vega-embed\", \"6\"))\n",
       "        .catch(showError)\n",
       "        .then(() => displayChart(vegaEmbed));\n",
       "    }\n",
       "  })({\"config\": {\"view\": {\"continuousWidth\": 400, \"continuousHeight\": 300}, \"axis\": {\"domainColor\": \"#cbcbcb\", \"grid\": true, \"gridColor\": \"#cbcbcb\", \"gridWidth\": 1, \"labelColor\": \"#474747\", \"labelFont\": \"Nunito Sans\", \"labelFontSize\": 10, \"labelPadding\": 4, \"tickColor\": \"#cbcbcb\", \"tickSize\": 10, \"titleColor\": \"#333\", \"titleFont\": \"Raleway\", \"titleFontSize\": 12, \"titlePadding\": 10}, \"axisBand\": {\"grid\": false}, \"background\": \"white\", \"font\": \"Raleway\", \"header\": {\"labelFont\": \"Nunito Sans\", \"titleFont\": \"Raleway\"}, \"legend\": {\"labelColor\": \"#333\", \"labelFont\": \"Nunito Sans\", \"labelFontSize\": 11, \"labelLimit\": 0, \"padding\": 1, \"symbolSize\": 30, \"symbolType\": \"square\", \"titleColor\": \"#333\", \"titleFont\": \"Raleway\", \"titleFontSize\": 14, \"titlePadding\": 10}, \"title\": {\"anchor\": \"middle\", \"font\": \"Raleway\", \"fontSize\": 18, \"fontWeight\": 300, \"offset\": 20}}, \"data\": {\"name\": \"data-b34a29ceb20e926e6493178dfe551067\"}, \"mark\": \"bar\", \"encoding\": {\"color\": {\"field\": \"Prefix\", \"legend\": {\"symbolLimit\": 10, \"title\": \"Prefix\"}, \"scale\": {\"range\": [\"#2EA8CE\", \"#EB9F3C\", \"#F4D837\", \"#51BF9D\", \"#8CBCCB\", \"#9487C0\"]}, \"type\": \"nominal\"}, \"tooltip\": [{\"field\": \"Prefix\", \"title\": \"Prefix\", \"type\": \"nominal\"}, {\"field\": \"Number of Obligations\", \"title\": \"Number Of Obligations\", \"type\": \"quantitative\"}], \"x\": {\"field\": \"Prefix\", \"sort\": \"-y\", \"title\": \"Prefix\", \"type\": \"nominal\"}, \"y\": {\"field\": \"Number of Obligations\", \"title\": \"Number Of Obligations\", \"type\": \"quantitative\"}}, \"height\": 250, \"width\": 400, \"$schema\": \"https://vega.github.io/schema/vega-lite/v4.17.0.json\", \"datasets\": {\"data-b34a29ceb20e926e6493178dfe551067\": [{\"Prefix\": \"CML\", \"Number of Obligations\": 813, \"variable\": \"prefix\"}, {\"Prefix\": \"STPL\", \"Number of Obligations\": 390, \"variable\": \"prefix\"}, {\"Prefix\": \"HSIPL\", \"Number of Obligations\": 239, \"variable\": \"prefix\"}, {\"Prefix\": \"BRLO\", \"Number of Obligations\": 230, \"variable\": \"prefix\"}, {\"Prefix\": \"BRLS\", \"Number of Obligations\": 113, \"variable\": \"prefix\"}, {\"Prefix\": \"ER\", \"Number of Obligations\": 87, \"variable\": \"prefix\"}, {\"Prefix\": \"HRRRL\", \"Number of Obligations\": 81, \"variable\": \"prefix\"}, {\"Prefix\": \"BPMPL\", \"Number of Obligations\": 62, \"variable\": \"prefix\"}, {\"Prefix\": \"ATPL\", \"Number of Obligations\": 34, \"variable\": \"prefix\"}, {\"Prefix\": \"RPSTPL\", \"Number of Obligations\": 31, \"variable\": \"prefix\"}, {\"Prefix\": \"HPLUL\", \"Number of Obligations\": 26, \"variable\": \"prefix\"}, {\"Prefix\": \"CMLNI\", \"Number of Obligations\": 22, \"variable\": \"prefix\"}, {\"Prefix\": \"FTACML\", \"Number of Obligations\": 19, \"variable\": \"prefix\"}, {\"Prefix\": \"BPMP\", \"Number of Obligations\": 18, \"variable\": \"prefix\"}, {\"Prefix\": \"ATPCML\", \"Number of Obligations\": 16, \"variable\": \"prefix\"}, {\"Prefix\": \"ACSTP\", \"Number of Obligations\": 12, \"variable\": \"prefix\"}, {\"Prefix\": \"FERPL\", \"Number of Obligations\": 12, \"variable\": \"prefix\"}, {\"Prefix\": \"SRTSL\", \"Number of Obligations\": 11, \"variable\": \"prefix\"}, {\"Prefix\": \"STPCML\", \"Number of Obligations\": 10, \"variable\": \"prefix\"}, {\"Prefix\": \"BR\", \"Number of Obligations\": 9, \"variable\": \"prefix\"}]}}, {\"mode\": \"vega-lite\"});\n",
       "</script>"
      ],
      "text/plain": [
       "alt.Chart(...)"
      ]
     },
     "metadata": {},
     "output_type": "display_data"
    }
   ],
   "source": [
    "#Bar chart with the Most Used Prefix Counts\n",
    "chart_df = (df_top>>filter(_.variable=='prefix')).rename(columns={\"value\":\"Prefix\",\n",
    "                                 \"count\":\"Number of Obligations\"})\n",
    "chart9= (_dla_utils.basic_bar_chart_no_save(chart_df, 'Prefix', 'Number of Obligations', 'Prefix', district))\n",
    "    \n",
    "\n",
    "display(chart9)\n",
    "    "
   ]
  },
  {
   "cell_type": "markdown",
   "id": "46030e63-c1ae-4834-b538-b09937074207",
   "metadata": {
    "papermill": {
     "duration": 0.026328,
     "end_time": "2022-06-02T22:25:02.566613",
     "exception": false,
     "start_time": "2022-06-02T22:25:02.540285",
     "status": "completed"
    },
    "tags": []
   },
   "source": [
    "### Agencies With The Most Unique Prefix Codes"
   ]
  },
  {
   "cell_type": "code",
   "execution_count": 13,
   "id": "3d21c9b2-833b-463a-9a03-a9c83d727d2e",
   "metadata": {
    "execution": {
     "iopub.execute_input": "2022-06-02T22:25:02.625624Z",
     "iopub.status.busy": "2022-06-02T22:25:02.624647Z",
     "iopub.status.idle": "2022-06-02T22:25:02.717141Z",
     "shell.execute_reply": "2022-06-02T22:25:02.716307Z"
    },
    "jupyter": {
     "source_hidden": true
    },
    "papermill": {
     "duration": 0.121852,
     "end_time": "2022-06-02T22:25:02.719259",
     "exception": false,
     "start_time": "2022-06-02T22:25:02.597407",
     "status": "completed"
    },
    "tags": [
     "remove_input"
    ]
   },
   "outputs": [
    {
     "data": {
      "text/html": [
       "\n",
       "<div id=\"altair-viz-dba64900f48e4fd09afe37aedf7d4624\"></div>\n",
       "<script type=\"text/javascript\">\n",
       "  var VEGA_DEBUG = (typeof VEGA_DEBUG == \"undefined\") ? {} : VEGA_DEBUG;\n",
       "  (function(spec, embedOpt){\n",
       "    let outputDiv = document.currentScript.previousElementSibling;\n",
       "    if (outputDiv.id !== \"altair-viz-dba64900f48e4fd09afe37aedf7d4624\") {\n",
       "      outputDiv = document.getElementById(\"altair-viz-dba64900f48e4fd09afe37aedf7d4624\");\n",
       "    }\n",
       "    const paths = {\n",
       "      \"vega\": \"https://cdn.jsdelivr.net/npm//vega@5?noext\",\n",
       "      \"vega-lib\": \"https://cdn.jsdelivr.net/npm//vega-lib?noext\",\n",
       "      \"vega-lite\": \"https://cdn.jsdelivr.net/npm//vega-lite@4.17.0?noext\",\n",
       "      \"vega-embed\": \"https://cdn.jsdelivr.net/npm//vega-embed@6?noext\",\n",
       "    };\n",
       "\n",
       "    function maybeLoadScript(lib, version) {\n",
       "      var key = `${lib.replace(\"-\", \"\")}_version`;\n",
       "      return (VEGA_DEBUG[key] == version) ?\n",
       "        Promise.resolve(paths[lib]) :\n",
       "        new Promise(function(resolve, reject) {\n",
       "          var s = document.createElement('script');\n",
       "          document.getElementsByTagName(\"head\")[0].appendChild(s);\n",
       "          s.async = true;\n",
       "          s.onload = () => {\n",
       "            VEGA_DEBUG[key] = version;\n",
       "            return resolve(paths[lib]);\n",
       "          };\n",
       "          s.onerror = () => reject(`Error loading script: ${paths[lib]}`);\n",
       "          s.src = paths[lib];\n",
       "        });\n",
       "    }\n",
       "\n",
       "    function showError(err) {\n",
       "      outputDiv.innerHTML = `<div class=\"error\" style=\"color:red;\">${err}</div>`;\n",
       "      throw err;\n",
       "    }\n",
       "\n",
       "    function displayChart(vegaEmbed) {\n",
       "      vegaEmbed(outputDiv, spec, embedOpt)\n",
       "        .catch(err => showError(`Javascript Error: ${err.message}<br>This usually means there's a typo in your chart specification. See the javascript console for the full traceback.`));\n",
       "    }\n",
       "\n",
       "    if(typeof define === \"function\" && define.amd) {\n",
       "      requirejs.config({paths});\n",
       "      require([\"vega-embed\"], displayChart, err => showError(`Error loading script: ${err.message}`));\n",
       "    } else {\n",
       "      maybeLoadScript(\"vega\", \"5\")\n",
       "        .then(() => maybeLoadScript(\"vega-lite\", \"4.17.0\"))\n",
       "        .then(() => maybeLoadScript(\"vega-embed\", \"6\"))\n",
       "        .catch(showError)\n",
       "        .then(() => displayChart(vegaEmbed));\n",
       "    }\n",
       "  })({\"config\": {\"view\": {\"continuousWidth\": 400, \"continuousHeight\": 300}, \"axis\": {\"domainColor\": \"#cbcbcb\", \"grid\": true, \"gridColor\": \"#cbcbcb\", \"gridWidth\": 1, \"labelColor\": \"#474747\", \"labelFont\": \"Nunito Sans\", \"labelFontSize\": 10, \"labelPadding\": 4, \"tickColor\": \"#cbcbcb\", \"tickSize\": 10, \"titleColor\": \"#333\", \"titleFont\": \"Raleway\", \"titleFontSize\": 12, \"titlePadding\": 10}, \"axisBand\": {\"grid\": false}, \"background\": \"white\", \"font\": \"Raleway\", \"header\": {\"labelFont\": \"Nunito Sans\", \"titleFont\": \"Raleway\"}, \"legend\": {\"labelColor\": \"#333\", \"labelFont\": \"Nunito Sans\", \"labelFontSize\": 11, \"labelLimit\": 0, \"padding\": 1, \"symbolSize\": 30, \"symbolType\": \"square\", \"titleColor\": \"#333\", \"titleFont\": \"Raleway\", \"titleFontSize\": 14, \"titlePadding\": 10}, \"title\": {\"anchor\": \"middle\", \"font\": \"Raleway\", \"fontSize\": 18, \"fontWeight\": 300, \"offset\": 20}}, \"data\": {\"name\": \"data-8c30eff7f2a00014e565d4bb68c88ca9\"}, \"mark\": \"bar\", \"encoding\": {\"color\": {\"field\": \"primary_agency_name\", \"legend\": {\"symbolLimit\": 10, \"title\": \"Agency\"}, \"scale\": {\"range\": [\"#2EA8CE\", \"#EB9F3C\", \"#F4D837\", \"#51BF9D\", \"#8CBCCB\", \"#9487C0\"]}, \"type\": \"nominal\"}, \"tooltip\": [{\"field\": \"primary_agency_name\", \"title\": \"Agency\", \"type\": \"nominal\"}, {\"field\": \"n\", \"title\": \"Count\", \"type\": \"quantitative\"}], \"x\": {\"field\": \"primary_agency_name\", \"sort\": \"-y\", \"title\": \"Agency\", \"type\": \"nominal\"}, \"y\": {\"field\": \"n\", \"title\": \"Count\", \"type\": \"quantitative\"}}, \"height\": 250, \"width\": 400, \"$schema\": \"https://vega.github.io/schema/vega-lite/v4.17.0.json\", \"datasets\": {\"data-8c30eff7f2a00014e565d4bb68c88ca9\": [{\"primary_agency_name\": \"Stockton\", \"n\": 23}, {\"primary_agency_name\": \"Modesto\", \"n\": 17}, {\"primary_agency_name\": \"Stanislaus County\", \"n\": 15}, {\"primary_agency_name\": \"Calaveras County\", \"n\": 12}, {\"primary_agency_name\": \"Mariposa County\", \"n\": 11}, {\"primary_agency_name\": \"Merced County\", \"n\": 11}, {\"primary_agency_name\": \"San Joaquin County\", \"n\": 11}, {\"primary_agency_name\": \"Tuolumne County\", \"n\": 10}, {\"primary_agency_name\": \"Amador County\", \"n\": 8}, {\"primary_agency_name\": \"Ceres\", \"n\": 7}, {\"primary_agency_name\": \"Tracy\", \"n\": 7}, {\"primary_agency_name\": \"Jackson\", \"n\": 6}, {\"primary_agency_name\": \"Merced\", \"n\": 5}, {\"primary_agency_name\": \"Ripon\", \"n\": 5}, {\"primary_agency_name\": \"San Joaquin Council of Governments\", \"n\": 5}, {\"primary_agency_name\": \"Stanislaus Council of Governments\", \"n\": 5}, {\"primary_agency_name\": \"Turlock\", \"n\": 5}, {\"primary_agency_name\": \"Alpine County\", \"n\": 4}, {\"primary_agency_name\": \"Calaveras Council of Governments\", \"n\": 4}, {\"primary_agency_name\": \"Lodi\", \"n\": 4}, {\"primary_agency_name\": \"Merced County Association of Governments\", \"n\": 4}, {\"primary_agency_name\": \"Patterson\", \"n\": 4}, {\"primary_agency_name\": \"San Joaquin Regional Rail Commission\", \"n\": 4}, {\"primary_agency_name\": \"Angels\", \"n\": 3}, {\"primary_agency_name\": \"Hughson\", \"n\": 3}, {\"primary_agency_name\": \"Lathrop\", \"n\": 3}, {\"primary_agency_name\": \"Los Banos\", \"n\": 3}, {\"primary_agency_name\": \"Manteca\", \"n\": 3}, {\"primary_agency_name\": \"Oakdale\", \"n\": 3}, {\"primary_agency_name\": \"Riverbank\", \"n\": 3}]}}, {\"mode\": \"vega-lite\"});\n",
       "</script>"
      ],
      "text/plain": [
       "alt.Chart(...)"
      ]
     },
     "metadata": {},
     "output_type": "display_data"
    }
   ],
   "source": [
    "#Bar chart Agencies With The Most Unique Prefix Codes\n",
    "    \n",
    "chart3 = (_dla_utils.basic_bar_chart_no_save(((_dla_utils.get_nunique(df, 'prefix', 'primary_agency_name')).head(30)),\n",
    "                            'primary_agency_name', 'n', 'primary_agency_name', district))\n",
    "    \n",
    "display(chart3)"
   ]
  },
  {
   "cell_type": "markdown",
   "id": "409d25d0-88ee-4eff-ae1f-ca9127618b4d",
   "metadata": {
    "papermill": {
     "duration": 0.025446,
     "end_time": "2022-06-02T22:25:02.771177",
     "exception": false,
     "start_time": "2022-06-02T22:25:02.745731",
     "status": "completed"
    },
    "tags": []
   },
   "source": [
    "## Funding Distributions"
   ]
  },
  {
   "cell_type": "markdown",
   "id": "4ffab2b2-4af7-476b-abe1-8c6c2534b3fb",
   "metadata": {
    "papermill": {
     "duration": 0.026637,
     "end_time": "2022-06-02T22:25:02.831127",
     "exception": false,
     "start_time": "2022-06-02T22:25:02.804490",
     "status": "completed"
    },
    "tags": []
   },
   "source": [
    "<hr style=\"height: 2px; background-color:#136C97; border: none\">"
   ]
  },
  {
   "cell_type": "markdown",
   "id": "eacca297-667a-4649-b6ac-351e81729e0d",
   "metadata": {
    "papermill": {
     "duration": 0.029689,
     "end_time": "2022-06-02T22:25:02.886870",
     "exception": false,
     "start_time": "2022-06-02T22:25:02.857181",
     "status": "completed"
    },
    "tags": []
   },
   "source": [
    "With each E-76, three types of funding amounts are included in the obligations: \n",
    "* Total Requested (`total_requested`)\n",
    "* Advance Construction Requested (`ac_requested`)\n",
    "* Federal Requested (`fed_requested`)\n",
    "\n",
    "Using this information, we can determine how much on average an organization recieves with these funds, and the distribution of the funds.\n",
    "\n",
    "\n",
    "Metrics:\n",
    "* Average Total Requested Funds by Agency\n",
    "* Lowest Average Total Funds by Agency\n",
    "* Average Total Requested Funds by Prefix"
   ]
  },
  {
   "cell_type": "markdown",
   "id": "d3caa5e9-9126-4572-8140-f81543c7d26a",
   "metadata": {
    "papermill": {
     "duration": 0.025652,
     "end_time": "2022-06-02T22:25:02.940656",
     "exception": false,
     "start_time": "2022-06-02T22:25:02.915004",
     "status": "completed"
    },
    "tags": []
   },
   "source": [
    "### Average Total Requested Funds by Agency ($2021)"
   ]
  },
  {
   "cell_type": "code",
   "execution_count": 14,
   "id": "3745ca4d-8dd4-4c09-b46b-a2f6db6358ad",
   "metadata": {
    "execution": {
     "iopub.execute_input": "2022-06-02T22:25:02.997504Z",
     "iopub.status.busy": "2022-06-02T22:25:02.996410Z",
     "iopub.status.idle": "2022-06-02T22:25:03.026891Z",
     "shell.execute_reply": "2022-06-02T22:25:03.026046Z"
    },
    "jupyter": {
     "source_hidden": true
    },
    "papermill": {
     "duration": 0.062629,
     "end_time": "2022-06-02T22:25:03.029026",
     "exception": false,
     "start_time": "2022-06-02T22:25:02.966397",
     "status": "completed"
    },
    "tags": [
     "remove_input"
    ]
   },
   "outputs": [
    {
     "data": {
      "text/html": [
       "\n",
       "<div id=\"altair-viz-08566c82ee274e5dadf9e77960947132\"></div>\n",
       "<script type=\"text/javascript\">\n",
       "  var VEGA_DEBUG = (typeof VEGA_DEBUG == \"undefined\") ? {} : VEGA_DEBUG;\n",
       "  (function(spec, embedOpt){\n",
       "    let outputDiv = document.currentScript.previousElementSibling;\n",
       "    if (outputDiv.id !== \"altair-viz-08566c82ee274e5dadf9e77960947132\") {\n",
       "      outputDiv = document.getElementById(\"altair-viz-08566c82ee274e5dadf9e77960947132\");\n",
       "    }\n",
       "    const paths = {\n",
       "      \"vega\": \"https://cdn.jsdelivr.net/npm//vega@5?noext\",\n",
       "      \"vega-lib\": \"https://cdn.jsdelivr.net/npm//vega-lib?noext\",\n",
       "      \"vega-lite\": \"https://cdn.jsdelivr.net/npm//vega-lite@4.17.0?noext\",\n",
       "      \"vega-embed\": \"https://cdn.jsdelivr.net/npm//vega-embed@6?noext\",\n",
       "    };\n",
       "\n",
       "    function maybeLoadScript(lib, version) {\n",
       "      var key = `${lib.replace(\"-\", \"\")}_version`;\n",
       "      return (VEGA_DEBUG[key] == version) ?\n",
       "        Promise.resolve(paths[lib]) :\n",
       "        new Promise(function(resolve, reject) {\n",
       "          var s = document.createElement('script');\n",
       "          document.getElementsByTagName(\"head\")[0].appendChild(s);\n",
       "          s.async = true;\n",
       "          s.onload = () => {\n",
       "            VEGA_DEBUG[key] = version;\n",
       "            return resolve(paths[lib]);\n",
       "          };\n",
       "          s.onerror = () => reject(`Error loading script: ${paths[lib]}`);\n",
       "          s.src = paths[lib];\n",
       "        });\n",
       "    }\n",
       "\n",
       "    function showError(err) {\n",
       "      outputDiv.innerHTML = `<div class=\"error\" style=\"color:red;\">${err}</div>`;\n",
       "      throw err;\n",
       "    }\n",
       "\n",
       "    function displayChart(vegaEmbed) {\n",
       "      vegaEmbed(outputDiv, spec, embedOpt)\n",
       "        .catch(err => showError(`Javascript Error: ${err.message}<br>This usually means there's a typo in your chart specification. See the javascript console for the full traceback.`));\n",
       "    }\n",
       "\n",
       "    if(typeof define === \"function\" && define.amd) {\n",
       "      requirejs.config({paths});\n",
       "      require([\"vega-embed\"], displayChart, err => showError(`Error loading script: ${err.message}`));\n",
       "    } else {\n",
       "      maybeLoadScript(\"vega\", \"5\")\n",
       "        .then(() => maybeLoadScript(\"vega-lite\", \"4.17.0\"))\n",
       "        .then(() => maybeLoadScript(\"vega-embed\", \"6\"))\n",
       "        .catch(showError)\n",
       "        .then(() => displayChart(vegaEmbed));\n",
       "    }\n",
       "  })({\"config\": {\"view\": {\"continuousWidth\": 400, \"continuousHeight\": 300}, \"axis\": {\"domainColor\": \"#cbcbcb\", \"grid\": true, \"gridColor\": \"#cbcbcb\", \"gridWidth\": 1, \"labelColor\": \"#474747\", \"labelFont\": \"Nunito Sans\", \"labelFontSize\": 10, \"labelPadding\": 4, \"tickColor\": \"#cbcbcb\", \"tickSize\": 10, \"titleColor\": \"#333\", \"titleFont\": \"Raleway\", \"titleFontSize\": 12, \"titlePadding\": 10}, \"axisBand\": {\"grid\": false}, \"background\": \"white\", \"font\": \"Raleway\", \"header\": {\"labelFont\": \"Nunito Sans\", \"titleFont\": \"Raleway\"}, \"legend\": {\"labelColor\": \"#333\", \"labelFont\": \"Nunito Sans\", \"labelFontSize\": 11, \"labelLimit\": 0, \"padding\": 1, \"symbolSize\": 30, \"symbolType\": \"square\", \"titleColor\": \"#333\", \"titleFont\": \"Raleway\", \"titleFontSize\": 14, \"titlePadding\": 10}, \"title\": {\"anchor\": \"middle\", \"font\": \"Raleway\", \"fontSize\": 18, \"fontWeight\": 300, \"offset\": 20}}, \"data\": {\"name\": \"data-e2a92bd8f01ecd701fb776edb57c5d1c\"}, \"mark\": \"bar\", \"encoding\": {\"color\": {\"field\": \"primary_agency_name\", \"legend\": {\"symbolLimit\": 10, \"title\": \"Agency\"}, \"scale\": {\"range\": [\"#2EA8CE\", \"#EB9F3C\", \"#F4D837\", \"#51BF9D\", \"#8CBCCB\", \"#9487C0\"]}, \"type\": \"nominal\"}, \"tooltip\": [{\"field\": \"primary_agency_name\", \"title\": \"Agency\", \"type\": \"nominal\"}, {\"field\": \"adjusted_total_requested\", \"format\": \"$,.2f\", \"title\": \"Total Requested\", \"type\": \"quantitative\"}], \"x\": {\"field\": \"primary_agency_name\", \"sort\": \"-y\", \"title\": \"Agency\", \"type\": \"nominal\"}, \"y\": {\"field\": \"adjusted_total_requested\", \"title\": \"Total Requested\", \"type\": \"quantitative\"}}, \"height\": 250, \"width\": 400, \"$schema\": \"https://vega.github.io/schema/vega-lite/v4.17.0.json\", \"datasets\": {\"data-e2a92bd8f01ecd701fb776edb57c5d1c\": [{\"primary_agency_name\": \"San Joaquin Regional Transit District\", \"adjusted_total_requested\": 4103565.1119478587}, {\"primary_agency_name\": \"Caltrans\", \"adjusted_total_requested\": 3347109.091318753}, {\"primary_agency_name\": \"Stockton Port District\", \"adjusted_total_requested\": 2803175.320311091}, {\"primary_agency_name\": \"San Joaquin Regional Rail Commission\", \"adjusted_total_requested\": 2126393.489129124}, {\"primary_agency_name\": \"Stanislaus County\", \"adjusted_total_requested\": 2098703.6443335693}, {\"primary_agency_name\": \"Lodi\", \"adjusted_total_requested\": 1564329.5090775716}, {\"primary_agency_name\": \"Tracy\", \"adjusted_total_requested\": 1519024.6552204003}, {\"primary_agency_name\": \"Lodi Unified School District\", \"adjusted_total_requested\": 1314075.8856296923}, {\"primary_agency_name\": \"Lathrop\", \"adjusted_total_requested\": 1216421.8054210793}, {\"primary_agency_name\": \"San Joaquin Council of Governments\", \"adjusted_total_requested\": 962383.7223090744}, {\"primary_agency_name\": \"Alpine County\", \"adjusted_total_requested\": 835882.4902757797}, {\"primary_agency_name\": \"Manteca\", \"adjusted_total_requested\": 685574.5832384634}, {\"primary_agency_name\": \"Sutter Creek\", \"adjusted_total_requested\": 614623.3072149361}, {\"primary_agency_name\": \"Calabasas\", \"adjusted_total_requested\": 588099.9570639266}, {\"primary_agency_name\": \"Plymouth\", \"adjusted_total_requested\": 587556.8701620852}, {\"primary_agency_name\": \"San Joaquin County\", \"adjusted_total_requested\": 473317.8609055729}, {\"primary_agency_name\": \"Ripon\", \"adjusted_total_requested\": 378270.2949200179}, {\"primary_agency_name\": \"Tuolumne County Transportation Council\", \"adjusted_total_requested\": 371753.3208166503}, {\"primary_agency_name\": \"Sonora\", \"adjusted_total_requested\": 312057.99110175314}, {\"primary_agency_name\": \"Amador County\", \"adjusted_total_requested\": 311667.10090807464}, {\"primary_agency_name\": \"Modesto\", \"adjusted_total_requested\": 310372.706607394}, {\"primary_agency_name\": \"Transit Joint Powers Authority For Merced County\", \"adjusted_total_requested\": 307956.16753127787}, {\"primary_agency_name\": \"Merced County\", \"adjusted_total_requested\": 272014.7971080289}, {\"primary_agency_name\": \"Patterson\", \"adjusted_total_requested\": 267987.3075359724}, {\"primary_agency_name\": \"Mariposa County\", \"adjusted_total_requested\": 228018.63805493538}, {\"primary_agency_name\": \"Amador Rapid Transit System\", \"adjusted_total_requested\": 221048.80431083552}, {\"primary_agency_name\": \"Turlock\", \"adjusted_total_requested\": 219820.86425974555}, {\"primary_agency_name\": \"Tuolumne County\", \"adjusted_total_requested\": 217137.2798083478}, {\"primary_agency_name\": \"Los Banos\", \"adjusted_total_requested\": 214676.57033414373}, {\"primary_agency_name\": \"Stockton\", \"adjusted_total_requested\": 206100.59479679904}]}}, {\"mode\": \"vega-lite\"});\n",
       "</script>"
      ],
      "text/plain": [
       "alt.Chart(...)"
      ]
     },
     "metadata": {},
     "output_type": "display_data"
    }
   ],
   "source": [
    "#Bar chart Average Total Requested Funds by Agency\n",
    "chart4=(_dla_utils.basic_bar_chart_no_save((((_dla_utils.calculate_data_all(df, 'adjusted_total_requested', 'primary_agency_name', aggfunc=\"mean\"))\n",
    "                          >>arrange(-_.adjusted_total_requested)).head(30)\n",
    "                        ), 'primary_agency_name','adjusted_total_requested', 'primary_agency_name', district\n",
    "                       ))\n",
    "chart4=chart4.encode([alt.Tooltip('primary_agency_name', title=_dla_utils.labeling('primary_agency_name')),\n",
    "    alt.Tooltip('adjusted_total_requested', title=_dla_utils.labeling('adjusted_total_requested'), format=\"$,.2f\"),\n",
    "                          ])\n",
    "display(chart4)"
   ]
  },
  {
   "cell_type": "markdown",
   "id": "84702987-c63c-40c9-aad7-c2d8c1b8ee49",
   "metadata": {
    "papermill": {
     "duration": 0.034282,
     "end_time": "2022-06-02T22:25:03.090005",
     "exception": false,
     "start_time": "2022-06-02T22:25:03.055723",
     "status": "completed"
    },
    "tags": []
   },
   "source": [
    "### Lowest Average Total Funds by Agency ($2021)"
   ]
  },
  {
   "cell_type": "code",
   "execution_count": 15,
   "id": "ce18a74b-9908-40f8-84f1-806552936465",
   "metadata": {
    "execution": {
     "iopub.execute_input": "2022-06-02T22:25:03.149762Z",
     "iopub.status.busy": "2022-06-02T22:25:03.148692Z",
     "iopub.status.idle": "2022-06-02T22:25:03.216833Z",
     "shell.execute_reply": "2022-06-02T22:25:03.215982Z"
    },
    "jupyter": {
     "source_hidden": true
    },
    "papermill": {
     "duration": 0.099888,
     "end_time": "2022-06-02T22:25:03.218873",
     "exception": false,
     "start_time": "2022-06-02T22:25:03.118985",
     "status": "completed"
    },
    "tags": [
     "remove_input"
    ]
   },
   "outputs": [
    {
     "data": {
      "text/html": [
       "\n",
       "<div id=\"altair-viz-a742d470390a4d848ade8b44b91f70c8\"></div>\n",
       "<script type=\"text/javascript\">\n",
       "  var VEGA_DEBUG = (typeof VEGA_DEBUG == \"undefined\") ? {} : VEGA_DEBUG;\n",
       "  (function(spec, embedOpt){\n",
       "    let outputDiv = document.currentScript.previousElementSibling;\n",
       "    if (outputDiv.id !== \"altair-viz-a742d470390a4d848ade8b44b91f70c8\") {\n",
       "      outputDiv = document.getElementById(\"altair-viz-a742d470390a4d848ade8b44b91f70c8\");\n",
       "    }\n",
       "    const paths = {\n",
       "      \"vega\": \"https://cdn.jsdelivr.net/npm//vega@5?noext\",\n",
       "      \"vega-lib\": \"https://cdn.jsdelivr.net/npm//vega-lib?noext\",\n",
       "      \"vega-lite\": \"https://cdn.jsdelivr.net/npm//vega-lite@4.17.0?noext\",\n",
       "      \"vega-embed\": \"https://cdn.jsdelivr.net/npm//vega-embed@6?noext\",\n",
       "    };\n",
       "\n",
       "    function maybeLoadScript(lib, version) {\n",
       "      var key = `${lib.replace(\"-\", \"\")}_version`;\n",
       "      return (VEGA_DEBUG[key] == version) ?\n",
       "        Promise.resolve(paths[lib]) :\n",
       "        new Promise(function(resolve, reject) {\n",
       "          var s = document.createElement('script');\n",
       "          document.getElementsByTagName(\"head\")[0].appendChild(s);\n",
       "          s.async = true;\n",
       "          s.onload = () => {\n",
       "            VEGA_DEBUG[key] = version;\n",
       "            return resolve(paths[lib]);\n",
       "          };\n",
       "          s.onerror = () => reject(`Error loading script: ${paths[lib]}`);\n",
       "          s.src = paths[lib];\n",
       "        });\n",
       "    }\n",
       "\n",
       "    function showError(err) {\n",
       "      outputDiv.innerHTML = `<div class=\"error\" style=\"color:red;\">${err}</div>`;\n",
       "      throw err;\n",
       "    }\n",
       "\n",
       "    function displayChart(vegaEmbed) {\n",
       "      vegaEmbed(outputDiv, spec, embedOpt)\n",
       "        .catch(err => showError(`Javascript Error: ${err.message}<br>This usually means there's a typo in your chart specification. See the javascript console for the full traceback.`));\n",
       "    }\n",
       "\n",
       "    if(typeof define === \"function\" && define.amd) {\n",
       "      requirejs.config({paths});\n",
       "      require([\"vega-embed\"], displayChart, err => showError(`Error loading script: ${err.message}`));\n",
       "    } else {\n",
       "      maybeLoadScript(\"vega\", \"5\")\n",
       "        .then(() => maybeLoadScript(\"vega-lite\", \"4.17.0\"))\n",
       "        .then(() => maybeLoadScript(\"vega-embed\", \"6\"))\n",
       "        .catch(showError)\n",
       "        .then(() => displayChart(vegaEmbed));\n",
       "    }\n",
       "  })({\"config\": {\"view\": {\"continuousWidth\": 400, \"continuousHeight\": 300}, \"axis\": {\"domainColor\": \"#cbcbcb\", \"grid\": true, \"gridColor\": \"#cbcbcb\", \"gridWidth\": 1, \"labelColor\": \"#474747\", \"labelFont\": \"Nunito Sans\", \"labelFontSize\": 10, \"labelPadding\": 4, \"tickColor\": \"#cbcbcb\", \"tickSize\": 10, \"titleColor\": \"#333\", \"titleFont\": \"Raleway\", \"titleFontSize\": 12, \"titlePadding\": 10}, \"axisBand\": {\"grid\": false}, \"background\": \"white\", \"font\": \"Raleway\", \"header\": {\"labelFont\": \"Nunito Sans\", \"titleFont\": \"Raleway\"}, \"legend\": {\"labelColor\": \"#333\", \"labelFont\": \"Nunito Sans\", \"labelFontSize\": 11, \"labelLimit\": 0, \"padding\": 1, \"symbolSize\": 30, \"symbolType\": \"square\", \"titleColor\": \"#333\", \"titleFont\": \"Raleway\", \"titleFontSize\": 14, \"titlePadding\": 10}, \"title\": {\"anchor\": \"middle\", \"font\": \"Raleway\", \"fontSize\": 18, \"fontWeight\": 300, \"offset\": 20}}, \"data\": {\"name\": \"data-0de693f96ddb3a9d0b502ce4359cab90\"}, \"mark\": \"bar\", \"encoding\": {\"color\": {\"field\": \"primary_agency_name\", \"legend\": {\"symbolLimit\": 10, \"title\": \"Agency\"}, \"scale\": {\"range\": [\"#2EA8CE\", \"#EB9F3C\", \"#F4D837\", \"#51BF9D\", \"#8CBCCB\", \"#9487C0\"]}, \"type\": \"nominal\"}, \"tooltip\": [{\"field\": \"primary_agency_name\", \"title\": \"Agency\", \"type\": \"nominal\"}, {\"field\": \"avg_funds\", \"format\": \"$,.2f\", \"title\": \"Average Funds\", \"type\": \"quantitative\"}], \"x\": {\"field\": \"primary_agency_name\", \"sort\": \"-y\", \"title\": \"Agency\", \"type\": \"nominal\"}, \"y\": {\"field\": \"avg_funds\", \"title\": \"Average Funds\", \"type\": \"quantitative\"}}, \"height\": 250, \"width\": 400, \"$schema\": \"https://vega.github.io/schema/vega-lite/v4.17.0.json\", \"datasets\": {\"data-0de693f96ddb3a9d0b502ce4359cab90\": [{\"primary_agency_name\": \"Ripon\", \"avg_funds\": 378270.2949200179}, {\"primary_agency_name\": \"Tuolumne County Transportation Council\", \"avg_funds\": 371753.3208166503}, {\"primary_agency_name\": \"Sonora\", \"avg_funds\": 312057.9911017532}, {\"primary_agency_name\": \"Amador County\", \"avg_funds\": 311667.1009080747}, {\"primary_agency_name\": \"Modesto\", \"avg_funds\": 310372.70660739404}, {\"primary_agency_name\": \"Transit Joint Powers Authority For Merced County\", \"avg_funds\": 307956.1675312778}, {\"primary_agency_name\": \"Merced County\", \"avg_funds\": 272014.7971080289}, {\"primary_agency_name\": \"Patterson\", \"avg_funds\": 267987.30753597245}, {\"primary_agency_name\": \"Mariposa County\", \"avg_funds\": 228018.63805493538}, {\"primary_agency_name\": \"Amador Rapid Transit System\", \"avg_funds\": 221048.80431083552}, {\"primary_agency_name\": \"Turlock\", \"avg_funds\": 219820.8642597455}, {\"primary_agency_name\": \"Tuolumne County\", \"avg_funds\": 217137.2798083478}, {\"primary_agency_name\": \"Los Banos\", \"avg_funds\": 214676.57033414373}, {\"primary_agency_name\": \"Stockton\", \"avg_funds\": 206100.5947967991}, {\"primary_agency_name\": \"Ceres\", \"avg_funds\": 181805.69968550463}, {\"primary_agency_name\": \"Gustine\", \"avg_funds\": 181491.83581135026}, {\"primary_agency_name\": \"Merced\", \"avg_funds\": 174951.9214153735}, {\"primary_agency_name\": \"Oakdale\", \"avg_funds\": 147914.6010962423}, {\"primary_agency_name\": \"Calaveras County\", \"avg_funds\": 146387.13369975434}, {\"primary_agency_name\": \"Newman\", \"avg_funds\": 135832.63722888994}, {\"primary_agency_name\": \"Riverbank\", \"avg_funds\": 133076.46947228117}, {\"primary_agency_name\": \"Stanislaus Council of Governments\", \"avg_funds\": 111422.61180707665}, {\"primary_agency_name\": \"Atwater\", \"avg_funds\": 103729.17771190821}, {\"primary_agency_name\": \"Jackson\", \"avg_funds\": 100953.81726385198}, {\"primary_agency_name\": \"Angels\", \"avg_funds\": 98909.00929729253}, {\"primary_agency_name\": \"Livingston\", \"avg_funds\": 93549.99728702432}, {\"primary_agency_name\": \"Waterford\", \"avg_funds\": 69790.46675325674}, {\"primary_agency_name\": \"Escalon\", \"avg_funds\": 63265.052857203154}, {\"primary_agency_name\": \"Hughson\", \"avg_funds\": 53345.287854105736}, {\"primary_agency_name\": \"Yosemite Area Regional Transportation System JPA\", \"avg_funds\": 48905.828664596054}, {\"primary_agency_name\": \"Merced County Association of Governments\", \"avg_funds\": 40746.21620315517}, {\"primary_agency_name\": \"Ione\", \"avg_funds\": 29848.025341186174}, {\"primary_agency_name\": \"Yuba County\", \"avg_funds\": 29211.33669626267}, {\"primary_agency_name\": \"Modoc County\", \"avg_funds\": 18798.3234851402}, {\"primary_agency_name\": \"Dos Palos\", \"avg_funds\": 18560.334380705688}, {\"primary_agency_name\": \"U.S. Forest Service, Pacific Southwest Region\", \"avg_funds\": 8814.389634632089}, {\"primary_agency_name\": \"Amador County Transportation Commission\", \"avg_funds\": -809.0893964536702}, {\"primary_agency_name\": \"Calaveras Council of Governments\", \"avg_funds\": -16280.340572340538}, {\"primary_agency_name\": \"Department of Water Resources\", \"avg_funds\": -60250.66483498437}, {\"primary_agency_name\": \"Amador City\", \"avg_funds\": -107216.82241172782}]}}, {\"mode\": \"vega-lite\"});\n",
       "</script>"
      ],
      "text/plain": [
       "alt.Chart(...)"
      ]
     },
     "metadata": {},
     "output_type": "display_data"
    }
   ],
   "source": [
    "#Bar chart Bottom Average Total Requested Funds by Agency\n",
    "avg_funds_bottom = (df>>group_by(_.primary_agency_name)>>summarize(avg_funds=_.adjusted_total_requested.mean())>>arrange(-_.avg_funds)).tail(50)\n",
    "\n",
    "chart5=( _dla_utils.basic_bar_chart_no_save((avg_funds_bottom.tail(40)), 'primary_agency_name','avg_funds', 'primary_agency_name', district))\n",
    "\n",
    "chart5=chart5.encode([alt.Tooltip('primary_agency_name', title=_dla_utils.labeling('primary_agency_name')),\n",
    "                alt.Tooltip('avg_funds', title=_dla_utils.labeling('avg_funds'), format=\"$,.2f\")\n",
    "                          ]\n",
    "                                   )\n",
    "display(chart5)"
   ]
  },
  {
   "cell_type": "markdown",
   "id": "32fb0fb4-2cd3-453d-8be1-cf99fb52f56f",
   "metadata": {
    "papermill": {
     "duration": 0.028213,
     "end_time": "2022-06-02T22:25:03.274968",
     "exception": false,
     "start_time": "2022-06-02T22:25:03.246755",
     "status": "completed"
    },
    "tags": []
   },
   "source": [
    "### Average Total Requested Funds by Prefix ($2021)"
   ]
  },
  {
   "cell_type": "code",
   "execution_count": 16,
   "id": "d18938e5-6fc5-4e53-87b2-7140df57e5a0",
   "metadata": {
    "execution": {
     "iopub.execute_input": "2022-06-02T22:25:03.335501Z",
     "iopub.status.busy": "2022-06-02T22:25:03.334750Z",
     "iopub.status.idle": "2022-06-02T22:25:03.367685Z",
     "shell.execute_reply": "2022-06-02T22:25:03.366881Z"
    },
    "jupyter": {
     "source_hidden": true
    },
    "papermill": {
     "duration": 0.065636,
     "end_time": "2022-06-02T22:25:03.369767",
     "exception": false,
     "start_time": "2022-06-02T22:25:03.304131",
     "status": "completed"
    },
    "tags": [
     "remove_input"
    ]
   },
   "outputs": [
    {
     "data": {
      "text/html": [
       "\n",
       "<div id=\"altair-viz-1c49b82b407e4d46963cfacbc5f17f67\"></div>\n",
       "<script type=\"text/javascript\">\n",
       "  var VEGA_DEBUG = (typeof VEGA_DEBUG == \"undefined\") ? {} : VEGA_DEBUG;\n",
       "  (function(spec, embedOpt){\n",
       "    let outputDiv = document.currentScript.previousElementSibling;\n",
       "    if (outputDiv.id !== \"altair-viz-1c49b82b407e4d46963cfacbc5f17f67\") {\n",
       "      outputDiv = document.getElementById(\"altair-viz-1c49b82b407e4d46963cfacbc5f17f67\");\n",
       "    }\n",
       "    const paths = {\n",
       "      \"vega\": \"https://cdn.jsdelivr.net/npm//vega@5?noext\",\n",
       "      \"vega-lib\": \"https://cdn.jsdelivr.net/npm//vega-lib?noext\",\n",
       "      \"vega-lite\": \"https://cdn.jsdelivr.net/npm//vega-lite@4.17.0?noext\",\n",
       "      \"vega-embed\": \"https://cdn.jsdelivr.net/npm//vega-embed@6?noext\",\n",
       "    };\n",
       "\n",
       "    function maybeLoadScript(lib, version) {\n",
       "      var key = `${lib.replace(\"-\", \"\")}_version`;\n",
       "      return (VEGA_DEBUG[key] == version) ?\n",
       "        Promise.resolve(paths[lib]) :\n",
       "        new Promise(function(resolve, reject) {\n",
       "          var s = document.createElement('script');\n",
       "          document.getElementsByTagName(\"head\")[0].appendChild(s);\n",
       "          s.async = true;\n",
       "          s.onload = () => {\n",
       "            VEGA_DEBUG[key] = version;\n",
       "            return resolve(paths[lib]);\n",
       "          };\n",
       "          s.onerror = () => reject(`Error loading script: ${paths[lib]}`);\n",
       "          s.src = paths[lib];\n",
       "        });\n",
       "    }\n",
       "\n",
       "    function showError(err) {\n",
       "      outputDiv.innerHTML = `<div class=\"error\" style=\"color:red;\">${err}</div>`;\n",
       "      throw err;\n",
       "    }\n",
       "\n",
       "    function displayChart(vegaEmbed) {\n",
       "      vegaEmbed(outputDiv, spec, embedOpt)\n",
       "        .catch(err => showError(`Javascript Error: ${err.message}<br>This usually means there's a typo in your chart specification. See the javascript console for the full traceback.`));\n",
       "    }\n",
       "\n",
       "    if(typeof define === \"function\" && define.amd) {\n",
       "      requirejs.config({paths});\n",
       "      require([\"vega-embed\"], displayChart, err => showError(`Error loading script: ${err.message}`));\n",
       "    } else {\n",
       "      maybeLoadScript(\"vega\", \"5\")\n",
       "        .then(() => maybeLoadScript(\"vega-lite\", \"4.17.0\"))\n",
       "        .then(() => maybeLoadScript(\"vega-embed\", \"6\"))\n",
       "        .catch(showError)\n",
       "        .then(() => displayChart(vegaEmbed));\n",
       "    }\n",
       "  })({\"config\": {\"view\": {\"continuousWidth\": 400, \"continuousHeight\": 300}, \"axis\": {\"domainColor\": \"#cbcbcb\", \"grid\": true, \"gridColor\": \"#cbcbcb\", \"gridWidth\": 1, \"labelColor\": \"#474747\", \"labelFont\": \"Nunito Sans\", \"labelFontSize\": 10, \"labelPadding\": 4, \"tickColor\": \"#cbcbcb\", \"tickSize\": 10, \"titleColor\": \"#333\", \"titleFont\": \"Raleway\", \"titleFontSize\": 12, \"titlePadding\": 10}, \"axisBand\": {\"grid\": false}, \"background\": \"white\", \"font\": \"Raleway\", \"header\": {\"labelFont\": \"Nunito Sans\", \"titleFont\": \"Raleway\"}, \"legend\": {\"labelColor\": \"#333\", \"labelFont\": \"Nunito Sans\", \"labelFontSize\": 11, \"labelLimit\": 0, \"padding\": 1, \"symbolSize\": 30, \"symbolType\": \"square\", \"titleColor\": \"#333\", \"titleFont\": \"Raleway\", \"titleFontSize\": 14, \"titlePadding\": 10}, \"title\": {\"anchor\": \"middle\", \"font\": \"Raleway\", \"fontSize\": 18, \"fontWeight\": 300, \"offset\": 20}}, \"data\": {\"name\": \"data-ddd56026af5a9163a821405fd3b6c6ba\"}, \"mark\": \"bar\", \"encoding\": {\"color\": {\"field\": \"prefix\", \"legend\": {\"symbolLimit\": 10, \"title\": \"Prefix Code\"}, \"scale\": {\"range\": [\"#2EA8CE\", \"#EB9F3C\", \"#F4D837\", \"#51BF9D\", \"#8CBCCB\", \"#9487C0\"]}, \"type\": \"nominal\"}, \"tooltip\": [{\"field\": \"prefix\", \"title\": \"Prefix Code\", \"type\": \"nominal\"}, {\"field\": \"adjusted_total_requested\", \"format\": \"$,.2f\", \"title\": \"Total Requested\", \"type\": \"quantitative\"}], \"x\": {\"field\": \"prefix\", \"sort\": \"-y\", \"title\": \"Prefix Code\", \"type\": \"nominal\"}, \"y\": {\"field\": \"adjusted_total_requested\", \"title\": \"Total Requested\", \"type\": \"quantitative\"}}, \"height\": 250, \"width\": 400, \"$schema\": \"https://vega.github.io/schema/vega-lite/v4.17.0.json\", \"datasets\": {\"data-ddd56026af5a9163a821405fd3b6c6ba\": [{\"prefix\": \"BDGL\", \"adjusted_total_requested\": 271740638.9232214}, {\"prefix\": \"TGHPLUL\", \"adjusted_total_requested\": 15430437.242052617}, {\"prefix\": \"BHLS\", \"adjusted_total_requested\": 6774054.7713974165}, {\"prefix\": \"DEM03LN\", \"adjusted_total_requested\": 4939865.206993003}, {\"prefix\": \"STPLZ\", \"adjusted_total_requested\": 4446824.405261923}, {\"prefix\": \"BRNBIF\", \"adjusted_total_requested\": 4081939.6730754743}, {\"prefix\": \"FTFERPL16\", \"adjusted_total_requested\": 3645873.1461923504}, {\"prefix\": \"RPSTCML\", \"adjusted_total_requested\": 3401720.842101579}, {\"prefix\": \"STPLR\", \"adjusted_total_requested\": 3198902.72431753}, {\"prefix\": \"NCPD\", \"adjusted_total_requested\": 2559077.9023520453}, {\"prefix\": \"FTACML\", \"adjusted_total_requested\": 2474506.797031117}, {\"prefix\": \"HIPLPPSB\", \"adjusted_total_requested\": 2416762.058214272}, {\"prefix\": \"BRLS\", \"adjusted_total_requested\": 1531941.6086813197}, {\"prefix\": \"HSIP\", \"adjusted_total_requested\": 768601.562759801}, {\"prefix\": \"BRLSZ\", \"adjusted_total_requested\": 764916.4457095106}, {\"prefix\": \"STPCML\", \"adjusted_total_requested\": 684086.2959032032}, {\"prefix\": \"HIPL\", \"adjusted_total_requested\": 603486.1518628413}, {\"prefix\": \"BR\", \"adjusted_total_requested\": 588099.9570639266}, {\"prefix\": \"ACSTP\", \"adjusted_total_requested\": 558903.4642976022}, {\"prefix\": \"ATPSTPL\", \"adjusted_total_requested\": 538721.1361808539}, {\"prefix\": \"STPL\", \"adjusted_total_requested\": 429343.399823646}, {\"prefix\": \"HPLUL\", \"adjusted_total_requested\": 405735.8325115129}, {\"prefix\": \"DEMO10\", \"adjusted_total_requested\": 377621.0933807215}, {\"prefix\": \"ATPL\", \"adjusted_total_requested\": 371766.305791918}, {\"prefix\": \"BRLO\", \"adjusted_total_requested\": 330103.9523197923}, {\"prefix\": \"SPTL\", \"adjusted_total_requested\": 323730.7195925486}, {\"prefix\": \"HRRRL\", \"adjusted_total_requested\": 298640.34793184994}, {\"prefix\": \"CMLNI\", \"adjusted_total_requested\": 296731.6868386613}, {\"prefix\": \"FTASTPL\", \"adjusted_total_requested\": 280116.8709412513}, {\"prefix\": \"RPSTPL\", \"adjusted_total_requested\": 265519.8413356045}]}}, {\"mode\": \"vega-lite\"});\n",
       "</script>"
      ],
      "text/plain": [
       "alt.Chart(...)"
      ]
     },
     "metadata": {},
     "output_type": "display_data"
    }
   ],
   "source": [
    "# Bar chart Average Total Requested Funds by Prefix\n",
    "chart8 = (_dla_utils.basic_bar_chart_no_save((((_dla_utils.calculate_data_all(df, 'adjusted_total_requested', 'prefix', aggfunc=\"mean\"))\n",
    "                          >>arrange(-_.adjusted_total_requested)).head(30)), 'prefix','adjusted_total_requested', 'prefix', district\n",
    "                       ))\n",
    "chart8=chart8.encode([alt.Tooltip('prefix', title=_dla_utils.labeling('prefix')),\n",
    "                      alt.Tooltip('adjusted_total_requested', title=_dla_utils.labeling('adjusted_total_requested'), format=\"$,.2f\")\n",
    "                          ]\n",
    "                                   )\n",
    "display(chart8)\n",
    "    "
   ]
  },
  {
   "cell_type": "markdown",
   "id": "c4218a37-675e-40be-9659-d1297a62dc1b",
   "metadata": {
    "papermill": {
     "duration": 0.030768,
     "end_time": "2022-06-02T22:25:03.434568",
     "exception": false,
     "start_time": "2022-06-02T22:25:03.403800",
     "status": "completed"
    },
    "tags": []
   },
   "source": [
    "\n",
    "## Work Categories"
   ]
  },
  {
   "cell_type": "markdown",
   "id": "188d7213-7e0a-4873-8d28-76b86052a06b",
   "metadata": {
    "papermill": {
     "duration": 0.02857,
     "end_time": "2022-06-02T22:25:03.490564",
     "exception": false,
     "start_time": "2022-06-02T22:25:03.461994",
     "status": "completed"
    },
    "tags": []
   },
   "source": [
    "<hr style=\"height: 2px; background-color:#136C97; border: none\">"
   ]
  },
  {
   "cell_type": "markdown",
   "id": "d41b493b-2ab7-4c43-96ee-8e64a7c3e11a",
   "metadata": {
    "papermill": {
     "duration": 0.027964,
     "end_time": "2022-06-02T22:25:03.546692",
     "exception": false,
     "start_time": "2022-06-02T22:25:03.518728",
     "status": "completed"
    },
    "tags": []
   },
   "source": [
    "While the data includes a description column, organizations have the option to manually input the descriptions. Using the organizations descriptions of the obligattion type, we can categorize the obligations in terms of types of work. We used the following type of work categories:\n",
    "* Active Transportation\n",
    "* Transit\n",
    "* Bridge\n",
    "* Street\n",
    "* Freeway\n",
    "* Infrastructure/Resiliency/Emergency Relief \n",
    "* Congestion Relief\n",
    "\n",
    "With these categories, we can determine which organizations have the most obligations in that category and what percent of the category that organization accounts for. "
   ]
  },
  {
   "cell_type": "code",
   "execution_count": 17,
   "id": "50a1cf08-17eb-4b2b-9dc0-671ee7551f2d",
   "metadata": {
    "execution": {
     "iopub.execute_input": "2022-06-02T22:25:03.638557Z",
     "iopub.status.busy": "2022-06-02T22:25:03.637583Z",
     "iopub.status.idle": "2022-06-02T22:25:04.418755Z",
     "shell.execute_reply": "2022-06-02T22:25:04.417811Z"
    },
    "jupyter": {
     "source_hidden": true
    },
    "papermill": {
     "duration": 0.827574,
     "end_time": "2022-06-02T22:25:04.421756",
     "exception": false,
     "start_time": "2022-06-02T22:25:03.594182",
     "status": "completed"
    },
    "tags": [
     "remove_input"
    ]
   },
   "outputs": [
    {
     "data": {
      "application/vnd.jupyter.widget-view+json": {
       "model_id": "f79bb34aa891414aa3b815888cdac3a5",
       "version_major": 2,
       "version_minor": 0
      },
      "text/plain": [
       "HTML(value='<h3> Top Agencies using Active Transportation Projects </h3>')"
      ]
     },
     "metadata": {},
     "output_type": "display_data"
    },
    {
     "data": {
      "application/vnd.jupyter.widget-view+json": {
       "model_id": "6587f399c40e494f815b197604a4435d",
       "version_major": 2,
       "version_minor": 0
      },
      "text/plain": [
       "HTML(value='<style type=\"text/css\">\\n#T_45a14 th {\\n  text-align: center;\\n}\\n#T_45a14_row0_col0, #T_45a14_row…"
      ]
     },
     "metadata": {},
     "output_type": "display_data"
    },
    {
     "data": {
      "text/html": [
       "\n",
       "<div id=\"altair-viz-0f3bcdef14e542b6bae01d240a2ff942\"></div>\n",
       "<script type=\"text/javascript\">\n",
       "  var VEGA_DEBUG = (typeof VEGA_DEBUG == \"undefined\") ? {} : VEGA_DEBUG;\n",
       "  (function(spec, embedOpt){\n",
       "    let outputDiv = document.currentScript.previousElementSibling;\n",
       "    if (outputDiv.id !== \"altair-viz-0f3bcdef14e542b6bae01d240a2ff942\") {\n",
       "      outputDiv = document.getElementById(\"altair-viz-0f3bcdef14e542b6bae01d240a2ff942\");\n",
       "    }\n",
       "    const paths = {\n",
       "      \"vega\": \"https://cdn.jsdelivr.net/npm//vega@5?noext\",\n",
       "      \"vega-lib\": \"https://cdn.jsdelivr.net/npm//vega-lib?noext\",\n",
       "      \"vega-lite\": \"https://cdn.jsdelivr.net/npm//vega-lite@4.17.0?noext\",\n",
       "      \"vega-embed\": \"https://cdn.jsdelivr.net/npm//vega-embed@6?noext\",\n",
       "    };\n",
       "\n",
       "    function maybeLoadScript(lib, version) {\n",
       "      var key = `${lib.replace(\"-\", \"\")}_version`;\n",
       "      return (VEGA_DEBUG[key] == version) ?\n",
       "        Promise.resolve(paths[lib]) :\n",
       "        new Promise(function(resolve, reject) {\n",
       "          var s = document.createElement('script');\n",
       "          document.getElementsByTagName(\"head\")[0].appendChild(s);\n",
       "          s.async = true;\n",
       "          s.onload = () => {\n",
       "            VEGA_DEBUG[key] = version;\n",
       "            return resolve(paths[lib]);\n",
       "          };\n",
       "          s.onerror = () => reject(`Error loading script: ${paths[lib]}`);\n",
       "          s.src = paths[lib];\n",
       "        });\n",
       "    }\n",
       "\n",
       "    function showError(err) {\n",
       "      outputDiv.innerHTML = `<div class=\"error\" style=\"color:red;\">${err}</div>`;\n",
       "      throw err;\n",
       "    }\n",
       "\n",
       "    function displayChart(vegaEmbed) {\n",
       "      vegaEmbed(outputDiv, spec, embedOpt)\n",
       "        .catch(err => showError(`Javascript Error: ${err.message}<br>This usually means there's a typo in your chart specification. See the javascript console for the full traceback.`));\n",
       "    }\n",
       "\n",
       "    if(typeof define === \"function\" && define.amd) {\n",
       "      requirejs.config({paths});\n",
       "      require([\"vega-embed\"], displayChart, err => showError(`Error loading script: ${err.message}`));\n",
       "    } else {\n",
       "      maybeLoadScript(\"vega\", \"5\")\n",
       "        .then(() => maybeLoadScript(\"vega-lite\", \"4.17.0\"))\n",
       "        .then(() => maybeLoadScript(\"vega-embed\", \"6\"))\n",
       "        .catch(showError)\n",
       "        .then(() => displayChart(vegaEmbed));\n",
       "    }\n",
       "  })({\"config\": {\"view\": {\"continuousWidth\": 400, \"continuousHeight\": 300}}, \"data\": {\"name\": \"data-3531b1136c63f3332aa75f8803437bf9\"}, \"mark\": \"bar\", \"encoding\": {\"color\": {\"field\": \"Categories\", \"scale\": {\"range\": [\"#2EA8CE\", \"#EB9F3C\", \"#F4D837\", \"#51BF9D\", \"#8CBCCB\", \"#9487C0\"]}, \"type\": \"nominal\"}, \"row\": {\"field\": \"Categories\", \"type\": \"nominal\"}, \"tooltip\": [{\"field\": \"Agency\", \"title\": \"Agency\", \"type\": \"nominal\"}, {\"field\": \"Funding Amount\", \"format\": \"$,.2f\", \"title\": \"Funding Amount\", \"type\": \"quantitative\"}], \"x\": {\"axis\": {\"format\": \"$.2s\", \"title\": \"Obligated Funding ($2021)\"}, \"field\": \"Funding Amount\", \"type\": \"quantitative\"}, \"y\": {\"field\": \"Agency\", \"type\": \"nominal\"}}, \"height\": 70, \"width\": 400, \"$schema\": \"https://vega.github.io/schema/vega-lite/v4.17.0.json\", \"datasets\": {\"data-3531b1136c63f3332aa75f8803437bf9\": [{\"Agency\": \"Stockton\", \"Categories\": \"Total Requested\", \"Funding Amount\": 341598.52695754374}, {\"Agency\": \"Merced\", \"Categories\": \"Total Requested\", \"Funding Amount\": 105860.33518210152}, {\"Agency\": \"Ceres\", \"Categories\": \"Total Requested\", \"Funding Amount\": 157774.26380128914}, {\"Agency\": \"Merced County\", \"Categories\": \"Total Requested\", \"Funding Amount\": 145155.65622481905}, {\"Agency\": \"Atwater\", \"Categories\": \"Total Requested\", \"Funding Amount\": 111781.06167773006}, {\"Agency\": \"Stockton\", \"Categories\": \"Fed Requested\", \"Funding Amount\": 267750.4550913969}, {\"Agency\": \"Merced\", \"Categories\": \"Fed Requested\", \"Funding Amount\": 90306.22302271852}, {\"Agency\": \"Ceres\", \"Categories\": \"Fed Requested\", \"Funding Amount\": 134983.00389788137}, {\"Agency\": \"Merced County\", \"Categories\": \"Fed Requested\", \"Funding Amount\": 111970.83678518014}, {\"Agency\": \"Atwater\", \"Categories\": \"Fed Requested\", \"Funding Amount\": 90218.3807451274}, {\"Agency\": \"Stockton\", \"Categories\": \"AC Requested\", \"Funding Amount\": 5722.285090452105}, {\"Agency\": \"Merced\", \"Categories\": \"AC Requested\", \"Funding Amount\": 0.0}, {\"Agency\": \"Ceres\", \"Categories\": \"AC Requested\", \"Funding Amount\": 0.0}, {\"Agency\": \"Merced County\", \"Categories\": \"AC Requested\", \"Funding Amount\": 0.0}, {\"Agency\": \"Atwater\", \"Categories\": \"AC Requested\", \"Funding Amount\": 0.0}]}}, {\"mode\": \"vega-lite\"});\n",
       "</script>"
      ],
      "text/plain": [
       "alt.Chart(...)"
      ]
     },
     "metadata": {},
     "output_type": "display_data"
    },
    {
     "data": {
      "application/vnd.jupyter.widget-view+json": {
       "model_id": "8573c7f52815486f86eee5e3bfd5256e",
       "version_major": 2,
       "version_minor": 0
      },
      "text/plain": [
       "HTML(value='<h3> Top Agencies using Transit Projects </h3>')"
      ]
     },
     "metadata": {},
     "output_type": "display_data"
    },
    {
     "data": {
      "application/vnd.jupyter.widget-view+json": {
       "model_id": "271d9e59fb7340128fb12074a6c875ca",
       "version_major": 2,
       "version_minor": 0
      },
      "text/plain": [
       "HTML(value='<style type=\"text/css\">\\n#T_863e7 th {\\n  text-align: center;\\n}\\n#T_863e7_row0_col0, #T_863e7_row…"
      ]
     },
     "metadata": {},
     "output_type": "display_data"
    },
    {
     "data": {
      "text/html": [
       "\n",
       "<div id=\"altair-viz-35375142db484fc9bcc4a2ae417b1ac6\"></div>\n",
       "<script type=\"text/javascript\">\n",
       "  var VEGA_DEBUG = (typeof VEGA_DEBUG == \"undefined\") ? {} : VEGA_DEBUG;\n",
       "  (function(spec, embedOpt){\n",
       "    let outputDiv = document.currentScript.previousElementSibling;\n",
       "    if (outputDiv.id !== \"altair-viz-35375142db484fc9bcc4a2ae417b1ac6\") {\n",
       "      outputDiv = document.getElementById(\"altair-viz-35375142db484fc9bcc4a2ae417b1ac6\");\n",
       "    }\n",
       "    const paths = {\n",
       "      \"vega\": \"https://cdn.jsdelivr.net/npm//vega@5?noext\",\n",
       "      \"vega-lib\": \"https://cdn.jsdelivr.net/npm//vega-lib?noext\",\n",
       "      \"vega-lite\": \"https://cdn.jsdelivr.net/npm//vega-lite@4.17.0?noext\",\n",
       "      \"vega-embed\": \"https://cdn.jsdelivr.net/npm//vega-embed@6?noext\",\n",
       "    };\n",
       "\n",
       "    function maybeLoadScript(lib, version) {\n",
       "      var key = `${lib.replace(\"-\", \"\")}_version`;\n",
       "      return (VEGA_DEBUG[key] == version) ?\n",
       "        Promise.resolve(paths[lib]) :\n",
       "        new Promise(function(resolve, reject) {\n",
       "          var s = document.createElement('script');\n",
       "          document.getElementsByTagName(\"head\")[0].appendChild(s);\n",
       "          s.async = true;\n",
       "          s.onload = () => {\n",
       "            VEGA_DEBUG[key] = version;\n",
       "            return resolve(paths[lib]);\n",
       "          };\n",
       "          s.onerror = () => reject(`Error loading script: ${paths[lib]}`);\n",
       "          s.src = paths[lib];\n",
       "        });\n",
       "    }\n",
       "\n",
       "    function showError(err) {\n",
       "      outputDiv.innerHTML = `<div class=\"error\" style=\"color:red;\">${err}</div>`;\n",
       "      throw err;\n",
       "    }\n",
       "\n",
       "    function displayChart(vegaEmbed) {\n",
       "      vegaEmbed(outputDiv, spec, embedOpt)\n",
       "        .catch(err => showError(`Javascript Error: ${err.message}<br>This usually means there's a typo in your chart specification. See the javascript console for the full traceback.`));\n",
       "    }\n",
       "\n",
       "    if(typeof define === \"function\" && define.amd) {\n",
       "      requirejs.config({paths});\n",
       "      require([\"vega-embed\"], displayChart, err => showError(`Error loading script: ${err.message}`));\n",
       "    } else {\n",
       "      maybeLoadScript(\"vega\", \"5\")\n",
       "        .then(() => maybeLoadScript(\"vega-lite\", \"4.17.0\"))\n",
       "        .then(() => maybeLoadScript(\"vega-embed\", \"6\"))\n",
       "        .catch(showError)\n",
       "        .then(() => displayChart(vegaEmbed));\n",
       "    }\n",
       "  })({\"config\": {\"view\": {\"continuousWidth\": 400, \"continuousHeight\": 300}}, \"data\": {\"name\": \"data-1664b88ae860571ff6fa4fbf5f7604fa\"}, \"mark\": \"bar\", \"encoding\": {\"color\": {\"field\": \"Categories\", \"scale\": {\"range\": [\"#2EA8CE\", \"#EB9F3C\", \"#F4D837\", \"#51BF9D\", \"#8CBCCB\", \"#9487C0\"]}, \"type\": \"nominal\"}, \"row\": {\"field\": \"Categories\", \"type\": \"nominal\"}, \"tooltip\": [{\"field\": \"Agency\", \"title\": \"Agency\", \"type\": \"nominal\"}, {\"field\": \"Funding Amount\", \"format\": \"$,.2f\", \"title\": \"Funding Amount\", \"type\": \"quantitative\"}], \"x\": {\"axis\": {\"format\": \"$.2s\", \"title\": \"Obligated Funding ($2021)\"}, \"field\": \"Funding Amount\", \"type\": \"quantitative\"}, \"y\": {\"field\": \"Agency\", \"type\": \"nominal\"}}, \"height\": 70, \"width\": 400, \"$schema\": \"https://vega.github.io/schema/vega-lite/v4.17.0.json\", \"datasets\": {\"data-1664b88ae860571ff6fa4fbf5f7604fa\": [{\"Agency\": \"Stanislaus County\", \"Categories\": \"Total Requested\", \"Funding Amount\": 108458.56673491154}, {\"Agency\": \"Stockton\", \"Categories\": \"Total Requested\", \"Funding Amount\": 569177.9480138095}, {\"Agency\": \"Yosemite Area Regional Transportation System JPA\", \"Categories\": \"Total Requested\", \"Funding Amount\": 52833.955958112674}, {\"Agency\": \"Transit Joint Powers Authority For Merced County\", \"Categories\": \"Total Requested\", \"Funding Amount\": 43258.515638108154}, {\"Agency\": \"Modesto\", \"Categories\": \"Total Requested\", \"Funding Amount\": 84343.16383259186}, {\"Agency\": \"Stanislaus County\", \"Categories\": \"Fed Requested\", \"Funding Amount\": 96438.50060762244}, {\"Agency\": \"Stockton\", \"Categories\": \"Fed Requested\", \"Funding Amount\": 487210.1448278926}, {\"Agency\": \"Yosemite Area Regional Transportation System JPA\", \"Categories\": \"Fed Requested\", \"Funding Amount\": 52833.955958112674}, {\"Agency\": \"Transit Joint Powers Authority For Merced County\", \"Categories\": \"Fed Requested\", \"Funding Amount\": 43258.515638108154}, {\"Agency\": \"Modesto\", \"Categories\": \"Fed Requested\", \"Funding Amount\": 61305.88663786756}, {\"Agency\": \"Stanislaus County\", \"Categories\": \"AC Requested\", \"Funding Amount\": 0.0}, {\"Agency\": \"Stockton\", \"Categories\": \"AC Requested\", \"Funding Amount\": 0.0}, {\"Agency\": \"Yosemite Area Regional Transportation System JPA\", \"Categories\": \"AC Requested\", \"Funding Amount\": 0.0}, {\"Agency\": \"Transit Joint Powers Authority For Merced County\", \"Categories\": \"AC Requested\", \"Funding Amount\": 0.0}, {\"Agency\": \"Modesto\", \"Categories\": \"AC Requested\", \"Funding Amount\": 0.0}]}}, {\"mode\": \"vega-lite\"});\n",
       "</script>"
      ],
      "text/plain": [
       "alt.Chart(...)"
      ]
     },
     "metadata": {},
     "output_type": "display_data"
    },
    {
     "data": {
      "application/vnd.jupyter.widget-view+json": {
       "model_id": "fbeca25afb4b4256b91668a32ede4b61",
       "version_major": 2,
       "version_minor": 0
      },
      "text/plain": [
       "HTML(value='<h3> Top Agencies using Bridge Projects </h3>')"
      ]
     },
     "metadata": {},
     "output_type": "display_data"
    },
    {
     "data": {
      "application/vnd.jupyter.widget-view+json": {
       "model_id": "91d2b99436e54af39c1359af37a98031",
       "version_major": 2,
       "version_minor": 0
      },
      "text/plain": [
       "HTML(value='<style type=\"text/css\">\\n#T_47490 th {\\n  text-align: center;\\n}\\n#T_47490_row0_col0, #T_47490_row…"
      ]
     },
     "metadata": {},
     "output_type": "display_data"
    },
    {
     "data": {
      "text/html": [
       "\n",
       "<div id=\"altair-viz-60bbaf0005c94ab19c6189826e9ae5cd\"></div>\n",
       "<script type=\"text/javascript\">\n",
       "  var VEGA_DEBUG = (typeof VEGA_DEBUG == \"undefined\") ? {} : VEGA_DEBUG;\n",
       "  (function(spec, embedOpt){\n",
       "    let outputDiv = document.currentScript.previousElementSibling;\n",
       "    if (outputDiv.id !== \"altair-viz-60bbaf0005c94ab19c6189826e9ae5cd\") {\n",
       "      outputDiv = document.getElementById(\"altair-viz-60bbaf0005c94ab19c6189826e9ae5cd\");\n",
       "    }\n",
       "    const paths = {\n",
       "      \"vega\": \"https://cdn.jsdelivr.net/npm//vega@5?noext\",\n",
       "      \"vega-lib\": \"https://cdn.jsdelivr.net/npm//vega-lib?noext\",\n",
       "      \"vega-lite\": \"https://cdn.jsdelivr.net/npm//vega-lite@4.17.0?noext\",\n",
       "      \"vega-embed\": \"https://cdn.jsdelivr.net/npm//vega-embed@6?noext\",\n",
       "    };\n",
       "\n",
       "    function maybeLoadScript(lib, version) {\n",
       "      var key = `${lib.replace(\"-\", \"\")}_version`;\n",
       "      return (VEGA_DEBUG[key] == version) ?\n",
       "        Promise.resolve(paths[lib]) :\n",
       "        new Promise(function(resolve, reject) {\n",
       "          var s = document.createElement('script');\n",
       "          document.getElementsByTagName(\"head\")[0].appendChild(s);\n",
       "          s.async = true;\n",
       "          s.onload = () => {\n",
       "            VEGA_DEBUG[key] = version;\n",
       "            return resolve(paths[lib]);\n",
       "          };\n",
       "          s.onerror = () => reject(`Error loading script: ${paths[lib]}`);\n",
       "          s.src = paths[lib];\n",
       "        });\n",
       "    }\n",
       "\n",
       "    function showError(err) {\n",
       "      outputDiv.innerHTML = `<div class=\"error\" style=\"color:red;\">${err}</div>`;\n",
       "      throw err;\n",
       "    }\n",
       "\n",
       "    function displayChart(vegaEmbed) {\n",
       "      vegaEmbed(outputDiv, spec, embedOpt)\n",
       "        .catch(err => showError(`Javascript Error: ${err.message}<br>This usually means there's a typo in your chart specification. See the javascript console for the full traceback.`));\n",
       "    }\n",
       "\n",
       "    if(typeof define === \"function\" && define.amd) {\n",
       "      requirejs.config({paths});\n",
       "      require([\"vega-embed\"], displayChart, err => showError(`Error loading script: ${err.message}`));\n",
       "    } else {\n",
       "      maybeLoadScript(\"vega\", \"5\")\n",
       "        .then(() => maybeLoadScript(\"vega-lite\", \"4.17.0\"))\n",
       "        .then(() => maybeLoadScript(\"vega-embed\", \"6\"))\n",
       "        .catch(showError)\n",
       "        .then(() => displayChart(vegaEmbed));\n",
       "    }\n",
       "  })({\"config\": {\"view\": {\"continuousWidth\": 400, \"continuousHeight\": 300}}, \"data\": {\"name\": \"data-6c0e6f98c6a6ca5112565820c2dd54d2\"}, \"mark\": \"bar\", \"encoding\": {\"color\": {\"field\": \"Categories\", \"scale\": {\"range\": [\"#2EA8CE\", \"#EB9F3C\", \"#F4D837\", \"#51BF9D\", \"#8CBCCB\", \"#9487C0\"]}, \"type\": \"nominal\"}, \"row\": {\"field\": \"Categories\", \"type\": \"nominal\"}, \"tooltip\": [{\"field\": \"Agency\", \"title\": \"Agency\", \"type\": \"nominal\"}, {\"field\": \"Funding Amount\", \"format\": \"$,.2f\", \"title\": \"Funding Amount\", \"type\": \"quantitative\"}], \"x\": {\"axis\": {\"format\": \"$.2s\", \"title\": \"Obligated Funding ($2021)\"}, \"field\": \"Funding Amount\", \"type\": \"quantitative\"}, \"y\": {\"field\": \"Agency\", \"type\": \"nominal\"}}, \"height\": 70, \"width\": 400, \"$schema\": \"https://vega.github.io/schema/vega-lite/v4.17.0.json\", \"datasets\": {\"data-6c0e6f98c6a6ca5112565820c2dd54d2\": [{\"Agency\": \"San Joaquin County\", \"Categories\": \"Total Requested\", \"Funding Amount\": 646640.5449097285}, {\"Agency\": \"Merced County\", \"Categories\": \"Total Requested\", \"Funding Amount\": 472773.5473652291}, {\"Agency\": \"Stanislaus County\", \"Categories\": \"Total Requested\", \"Funding Amount\": 1705804.1953970667}, {\"Agency\": \"Calaveras County\", \"Categories\": \"Total Requested\", \"Funding Amount\": 274268.4449566664}, {\"Agency\": \"Tuolumne County\", \"Categories\": \"Total Requested\", \"Funding Amount\": 295891.3054756024}, {\"Agency\": \"San Joaquin County\", \"Categories\": \"Fed Requested\", \"Funding Amount\": 552514.7609840465}, {\"Agency\": \"Merced County\", \"Categories\": \"Fed Requested\", \"Funding Amount\": 430275.7431487013}, {\"Agency\": \"Stanislaus County\", \"Categories\": \"Fed Requested\", \"Funding Amount\": 1137679.5177140888}, {\"Agency\": \"Calaveras County\", \"Categories\": \"Fed Requested\", \"Funding Amount\": 262090.94300222854}, {\"Agency\": \"Tuolumne County\", \"Categories\": \"Fed Requested\", \"Funding Amount\": 318802.5896925667}, {\"Agency\": \"San Joaquin County\", \"Categories\": \"AC Requested\", \"Funding Amount\": 32339.321659147536}, {\"Agency\": \"Merced County\", \"Categories\": \"AC Requested\", \"Funding Amount\": 0.0}, {\"Agency\": \"Stanislaus County\", \"Categories\": \"AC Requested\", \"Funding Amount\": 343490.41786068585}, {\"Agency\": \"Calaveras County\", \"Categories\": \"AC Requested\", \"Funding Amount\": 0.0}, {\"Agency\": \"Tuolumne County\", \"Categories\": \"AC Requested\", \"Funding Amount\": 0.0}]}}, {\"mode\": \"vega-lite\"});\n",
       "</script>"
      ],
      "text/plain": [
       "alt.Chart(...)"
      ]
     },
     "metadata": {},
     "output_type": "display_data"
    },
    {
     "data": {
      "application/vnd.jupyter.widget-view+json": {
       "model_id": "b0a5c7863ca944e5b5bfa697c9f12e06",
       "version_major": 2,
       "version_minor": 0
      },
      "text/plain": [
       "HTML(value='<h3> Top Agencies using Street Projects </h3>')"
      ]
     },
     "metadata": {},
     "output_type": "display_data"
    },
    {
     "data": {
      "application/vnd.jupyter.widget-view+json": {
       "model_id": "04467b65424743428176e149052cbcd8",
       "version_major": 2,
       "version_minor": 0
      },
      "text/plain": [
       "HTML(value='<style type=\"text/css\">\\n#T_ef163 th {\\n  text-align: center;\\n}\\n#T_ef163_row0_col0, #T_ef163_row…"
      ]
     },
     "metadata": {},
     "output_type": "display_data"
    },
    {
     "data": {
      "text/html": [
       "\n",
       "<div id=\"altair-viz-632269c16d524059a77e52e4c2dbcf99\"></div>\n",
       "<script type=\"text/javascript\">\n",
       "  var VEGA_DEBUG = (typeof VEGA_DEBUG == \"undefined\") ? {} : VEGA_DEBUG;\n",
       "  (function(spec, embedOpt){\n",
       "    let outputDiv = document.currentScript.previousElementSibling;\n",
       "    if (outputDiv.id !== \"altair-viz-632269c16d524059a77e52e4c2dbcf99\") {\n",
       "      outputDiv = document.getElementById(\"altair-viz-632269c16d524059a77e52e4c2dbcf99\");\n",
       "    }\n",
       "    const paths = {\n",
       "      \"vega\": \"https://cdn.jsdelivr.net/npm//vega@5?noext\",\n",
       "      \"vega-lib\": \"https://cdn.jsdelivr.net/npm//vega-lib?noext\",\n",
       "      \"vega-lite\": \"https://cdn.jsdelivr.net/npm//vega-lite@4.17.0?noext\",\n",
       "      \"vega-embed\": \"https://cdn.jsdelivr.net/npm//vega-embed@6?noext\",\n",
       "    };\n",
       "\n",
       "    function maybeLoadScript(lib, version) {\n",
       "      var key = `${lib.replace(\"-\", \"\")}_version`;\n",
       "      return (VEGA_DEBUG[key] == version) ?\n",
       "        Promise.resolve(paths[lib]) :\n",
       "        new Promise(function(resolve, reject) {\n",
       "          var s = document.createElement('script');\n",
       "          document.getElementsByTagName(\"head\")[0].appendChild(s);\n",
       "          s.async = true;\n",
       "          s.onload = () => {\n",
       "            VEGA_DEBUG[key] = version;\n",
       "            return resolve(paths[lib]);\n",
       "          };\n",
       "          s.onerror = () => reject(`Error loading script: ${paths[lib]}`);\n",
       "          s.src = paths[lib];\n",
       "        });\n",
       "    }\n",
       "\n",
       "    function showError(err) {\n",
       "      outputDiv.innerHTML = `<div class=\"error\" style=\"color:red;\">${err}</div>`;\n",
       "      throw err;\n",
       "    }\n",
       "\n",
       "    function displayChart(vegaEmbed) {\n",
       "      vegaEmbed(outputDiv, spec, embedOpt)\n",
       "        .catch(err => showError(`Javascript Error: ${err.message}<br>This usually means there's a typo in your chart specification. See the javascript console for the full traceback.`));\n",
       "    }\n",
       "\n",
       "    if(typeof define === \"function\" && define.amd) {\n",
       "      requirejs.config({paths});\n",
       "      require([\"vega-embed\"], displayChart, err => showError(`Error loading script: ${err.message}`));\n",
       "    } else {\n",
       "      maybeLoadScript(\"vega\", \"5\")\n",
       "        .then(() => maybeLoadScript(\"vega-lite\", \"4.17.0\"))\n",
       "        .then(() => maybeLoadScript(\"vega-embed\", \"6\"))\n",
       "        .catch(showError)\n",
       "        .then(() => displayChart(vegaEmbed));\n",
       "    }\n",
       "  })({\"config\": {\"view\": {\"continuousWidth\": 400, \"continuousHeight\": 300}}, \"data\": {\"name\": \"data-562abfddc5a316ca12b20a40fb98d2cf\"}, \"mark\": \"bar\", \"encoding\": {\"color\": {\"field\": \"Categories\", \"scale\": {\"range\": [\"#2EA8CE\", \"#EB9F3C\", \"#F4D837\", \"#51BF9D\", \"#8CBCCB\", \"#9487C0\"]}, \"type\": \"nominal\"}, \"row\": {\"field\": \"Categories\", \"type\": \"nominal\"}, \"tooltip\": [{\"field\": \"Agency\", \"title\": \"Agency\", \"type\": \"nominal\"}, {\"field\": \"Funding Amount\", \"format\": \"$,.2f\", \"title\": \"Funding Amount\", \"type\": \"quantitative\"}], \"x\": {\"axis\": {\"format\": \"$.2s\", \"title\": \"Obligated Funding ($2021)\"}, \"field\": \"Funding Amount\", \"type\": \"quantitative\"}, \"y\": {\"field\": \"Agency\", \"type\": \"nominal\"}}, \"height\": 70, \"width\": 400, \"$schema\": \"https://vega.github.io/schema/vega-lite/v4.17.0.json\", \"datasets\": {\"data-562abfddc5a316ca12b20a40fb98d2cf\": [{\"Agency\": \"Stockton\", \"Categories\": \"Total Requested\", \"Funding Amount\": 350106.7922618318}, {\"Agency\": \"Modesto\", \"Categories\": \"Total Requested\", \"Funding Amount\": 226396.0136103267}, {\"Agency\": \"San Joaquin County\", \"Categories\": \"Total Requested\", \"Funding Amount\": 304806.60167958867}, {\"Agency\": \"Stanislaus County\", \"Categories\": \"Total Requested\", \"Funding Amount\": 494180.2280287113}, {\"Agency\": \"Turlock\", \"Categories\": \"Total Requested\", \"Funding Amount\": 225205.29585159314}, {\"Agency\": \"Stockton\", \"Categories\": \"Fed Requested\", \"Funding Amount\": 288305.8312539394}, {\"Agency\": \"Modesto\", \"Categories\": \"Fed Requested\", \"Funding Amount\": 214061.44054540707}, {\"Agency\": \"San Joaquin County\", \"Categories\": \"Fed Requested\", \"Funding Amount\": 257220.63934814924}, {\"Agency\": \"Stanislaus County\", \"Categories\": \"Fed Requested\", \"Funding Amount\": 298186.06182145583}, {\"Agency\": \"Turlock\", \"Categories\": \"Fed Requested\", \"Funding Amount\": 155471.86631454257}, {\"Agency\": \"Stockton\", \"Categories\": \"AC Requested\", \"Funding Amount\": 0.0}, {\"Agency\": \"Modesto\", \"Categories\": \"AC Requested\", \"Funding Amount\": 0.0}, {\"Agency\": \"San Joaquin County\", \"Categories\": \"AC Requested\", \"Funding Amount\": 0.0}, {\"Agency\": \"Stanislaus County\", \"Categories\": \"AC Requested\", \"Funding Amount\": 0.0}, {\"Agency\": \"Turlock\", \"Categories\": \"AC Requested\", \"Funding Amount\": 0.0}]}}, {\"mode\": \"vega-lite\"});\n",
       "</script>"
      ],
      "text/plain": [
       "alt.Chart(...)"
      ]
     },
     "metadata": {},
     "output_type": "display_data"
    },
    {
     "data": {
      "application/vnd.jupyter.widget-view+json": {
       "model_id": "0bac4dcaf70e45a8a7f43081f3975fd8",
       "version_major": 2,
       "version_minor": 0
      },
      "text/plain": [
       "HTML(value='<h3> Top Agencies using Freeway Projects </h3>')"
      ]
     },
     "metadata": {},
     "output_type": "display_data"
    },
    {
     "data": {
      "application/vnd.jupyter.widget-view+json": {
       "model_id": "48852bce71e54e85a34e04516c4a978f",
       "version_major": 2,
       "version_minor": 0
      },
      "text/plain": [
       "HTML(value='<style type=\"text/css\">\\n#T_d82c9 th {\\n  text-align: center;\\n}\\n#T_d82c9_row0_col0, #T_d82c9_row…"
      ]
     },
     "metadata": {},
     "output_type": "display_data"
    },
    {
     "data": {
      "text/html": [
       "\n",
       "<div id=\"altair-viz-394a02e8798f43478e214f79e8428feb\"></div>\n",
       "<script type=\"text/javascript\">\n",
       "  var VEGA_DEBUG = (typeof VEGA_DEBUG == \"undefined\") ? {} : VEGA_DEBUG;\n",
       "  (function(spec, embedOpt){\n",
       "    let outputDiv = document.currentScript.previousElementSibling;\n",
       "    if (outputDiv.id !== \"altair-viz-394a02e8798f43478e214f79e8428feb\") {\n",
       "      outputDiv = document.getElementById(\"altair-viz-394a02e8798f43478e214f79e8428feb\");\n",
       "    }\n",
       "    const paths = {\n",
       "      \"vega\": \"https://cdn.jsdelivr.net/npm//vega@5?noext\",\n",
       "      \"vega-lib\": \"https://cdn.jsdelivr.net/npm//vega-lib?noext\",\n",
       "      \"vega-lite\": \"https://cdn.jsdelivr.net/npm//vega-lite@4.17.0?noext\",\n",
       "      \"vega-embed\": \"https://cdn.jsdelivr.net/npm//vega-embed@6?noext\",\n",
       "    };\n",
       "\n",
       "    function maybeLoadScript(lib, version) {\n",
       "      var key = `${lib.replace(\"-\", \"\")}_version`;\n",
       "      return (VEGA_DEBUG[key] == version) ?\n",
       "        Promise.resolve(paths[lib]) :\n",
       "        new Promise(function(resolve, reject) {\n",
       "          var s = document.createElement('script');\n",
       "          document.getElementsByTagName(\"head\")[0].appendChild(s);\n",
       "          s.async = true;\n",
       "          s.onload = () => {\n",
       "            VEGA_DEBUG[key] = version;\n",
       "            return resolve(paths[lib]);\n",
       "          };\n",
       "          s.onerror = () => reject(`Error loading script: ${paths[lib]}`);\n",
       "          s.src = paths[lib];\n",
       "        });\n",
       "    }\n",
       "\n",
       "    function showError(err) {\n",
       "      outputDiv.innerHTML = `<div class=\"error\" style=\"color:red;\">${err}</div>`;\n",
       "      throw err;\n",
       "    }\n",
       "\n",
       "    function displayChart(vegaEmbed) {\n",
       "      vegaEmbed(outputDiv, spec, embedOpt)\n",
       "        .catch(err => showError(`Javascript Error: ${err.message}<br>This usually means there's a typo in your chart specification. See the javascript console for the full traceback.`));\n",
       "    }\n",
       "\n",
       "    if(typeof define === \"function\" && define.amd) {\n",
       "      requirejs.config({paths});\n",
       "      require([\"vega-embed\"], displayChart, err => showError(`Error loading script: ${err.message}`));\n",
       "    } else {\n",
       "      maybeLoadScript(\"vega\", \"5\")\n",
       "        .then(() => maybeLoadScript(\"vega-lite\", \"4.17.0\"))\n",
       "        .then(() => maybeLoadScript(\"vega-embed\", \"6\"))\n",
       "        .catch(showError)\n",
       "        .then(() => displayChart(vegaEmbed));\n",
       "    }\n",
       "  })({\"config\": {\"view\": {\"continuousWidth\": 400, \"continuousHeight\": 300}}, \"data\": {\"name\": \"data-baf3a8e7d1bc99a194633d86a829776e\"}, \"mark\": \"bar\", \"encoding\": {\"color\": {\"field\": \"Categories\", \"scale\": {\"range\": [\"#2EA8CE\", \"#EB9F3C\", \"#F4D837\", \"#51BF9D\", \"#8CBCCB\", \"#9487C0\"]}, \"type\": \"nominal\"}, \"row\": {\"field\": \"Categories\", \"type\": \"nominal\"}, \"tooltip\": [{\"field\": \"Agency\", \"title\": \"Agency\", \"type\": \"nominal\"}, {\"field\": \"Funding Amount\", \"format\": \"$,.2f\", \"title\": \"Funding Amount\", \"type\": \"quantitative\"}], \"x\": {\"axis\": {\"format\": \"$.2s\", \"title\": \"Obligated Funding ($2021)\"}, \"field\": \"Funding Amount\", \"type\": \"quantitative\"}, \"y\": {\"field\": \"Agency\", \"type\": \"nominal\"}}, \"height\": 70, \"width\": 400, \"$schema\": \"https://vega.github.io/schema/vega-lite/v4.17.0.json\", \"datasets\": {\"data-baf3a8e7d1bc99a194633d86a829776e\": [{\"Agency\": \"San Joaquin County\", \"Categories\": \"Total Requested\", \"Funding Amount\": 468048.21705752384}, {\"Agency\": \"Modesto\", \"Categories\": \"Total Requested\", \"Funding Amount\": 11813474.759227917}, {\"Agency\": \"Calaveras County\", \"Categories\": \"Total Requested\", \"Funding Amount\": -16779.24915043362}, {\"Agency\": \"Stanislaus Council of Governments\", \"Categories\": \"Total Requested\", \"Funding Amount\": 12921.711672536576}, {\"Agency\": \"Stockton\", \"Categories\": \"Total Requested\", \"Funding Amount\": 3198902.72431753}, {\"Agency\": \"San Joaquin County\", \"Categories\": \"Fed Requested\", \"Funding Amount\": 464266.8454661331}, {\"Agency\": \"Modesto\", \"Categories\": \"Fed Requested\", \"Funding Amount\": 7830326.807450865}, {\"Agency\": \"Calaveras County\", \"Categories\": \"Fed Requested\", \"Funding Amount\": -104667.46269352119}, {\"Agency\": \"Stanislaus Council of Governments\", \"Categories\": \"Fed Requested\", \"Funding Amount\": 0.0}, {\"Agency\": \"Stockton\", \"Categories\": \"Fed Requested\", \"Funding Amount\": 3198902.72431753}, {\"Agency\": \"San Joaquin County\", \"Categories\": \"AC Requested\", \"Funding Amount\": 0.0}, {\"Agency\": \"Modesto\", \"Categories\": \"AC Requested\", \"Funding Amount\": 0.0}, {\"Agency\": \"Calaveras County\", \"Categories\": \"AC Requested\", \"Funding Amount\": 0.0}, {\"Agency\": \"Stanislaus Council of Governments\", \"Categories\": \"AC Requested\", \"Funding Amount\": 0.0}, {\"Agency\": \"Stockton\", \"Categories\": \"AC Requested\", \"Funding Amount\": 0.0}]}}, {\"mode\": \"vega-lite\"});\n",
       "</script>"
      ],
      "text/plain": [
       "alt.Chart(...)"
      ]
     },
     "metadata": {},
     "output_type": "display_data"
    },
    {
     "data": {
      "application/vnd.jupyter.widget-view+json": {
       "model_id": "d9babafc139c4ca98a59e59a775576cb",
       "version_major": 2,
       "version_minor": 0
      },
      "text/plain": [
       "HTML(value='<h3> Top Agencies using Infrastructure & Emergency Relief Projects </h3>')"
      ]
     },
     "metadata": {},
     "output_type": "display_data"
    },
    {
     "data": {
      "application/vnd.jupyter.widget-view+json": {
       "model_id": "902a46d0eeb442d39484d3d51160103c",
       "version_major": 2,
       "version_minor": 0
      },
      "text/plain": [
       "HTML(value='<style type=\"text/css\">\\n#T_1b60b th {\\n  text-align: center;\\n}\\n#T_1b60b_row0_col0, #T_1b60b_row…"
      ]
     },
     "metadata": {},
     "output_type": "display_data"
    },
    {
     "data": {
      "text/html": [
       "\n",
       "<div id=\"altair-viz-5cd5d22758b949ff8979a42d7fc90060\"></div>\n",
       "<script type=\"text/javascript\">\n",
       "  var VEGA_DEBUG = (typeof VEGA_DEBUG == \"undefined\") ? {} : VEGA_DEBUG;\n",
       "  (function(spec, embedOpt){\n",
       "    let outputDiv = document.currentScript.previousElementSibling;\n",
       "    if (outputDiv.id !== \"altair-viz-5cd5d22758b949ff8979a42d7fc90060\") {\n",
       "      outputDiv = document.getElementById(\"altair-viz-5cd5d22758b949ff8979a42d7fc90060\");\n",
       "    }\n",
       "    const paths = {\n",
       "      \"vega\": \"https://cdn.jsdelivr.net/npm//vega@5?noext\",\n",
       "      \"vega-lib\": \"https://cdn.jsdelivr.net/npm//vega-lib?noext\",\n",
       "      \"vega-lite\": \"https://cdn.jsdelivr.net/npm//vega-lite@4.17.0?noext\",\n",
       "      \"vega-embed\": \"https://cdn.jsdelivr.net/npm//vega-embed@6?noext\",\n",
       "    };\n",
       "\n",
       "    function maybeLoadScript(lib, version) {\n",
       "      var key = `${lib.replace(\"-\", \"\")}_version`;\n",
       "      return (VEGA_DEBUG[key] == version) ?\n",
       "        Promise.resolve(paths[lib]) :\n",
       "        new Promise(function(resolve, reject) {\n",
       "          var s = document.createElement('script');\n",
       "          document.getElementsByTagName(\"head\")[0].appendChild(s);\n",
       "          s.async = true;\n",
       "          s.onload = () => {\n",
       "            VEGA_DEBUG[key] = version;\n",
       "            return resolve(paths[lib]);\n",
       "          };\n",
       "          s.onerror = () => reject(`Error loading script: ${paths[lib]}`);\n",
       "          s.src = paths[lib];\n",
       "        });\n",
       "    }\n",
       "\n",
       "    function showError(err) {\n",
       "      outputDiv.innerHTML = `<div class=\"error\" style=\"color:red;\">${err}</div>`;\n",
       "      throw err;\n",
       "    }\n",
       "\n",
       "    function displayChart(vegaEmbed) {\n",
       "      vegaEmbed(outputDiv, spec, embedOpt)\n",
       "        .catch(err => showError(`Javascript Error: ${err.message}<br>This usually means there's a typo in your chart specification. See the javascript console for the full traceback.`));\n",
       "    }\n",
       "\n",
       "    if(typeof define === \"function\" && define.amd) {\n",
       "      requirejs.config({paths});\n",
       "      require([\"vega-embed\"], displayChart, err => showError(`Error loading script: ${err.message}`));\n",
       "    } else {\n",
       "      maybeLoadScript(\"vega\", \"5\")\n",
       "        .then(() => maybeLoadScript(\"vega-lite\", \"4.17.0\"))\n",
       "        .then(() => maybeLoadScript(\"vega-embed\", \"6\"))\n",
       "        .catch(showError)\n",
       "        .then(() => displayChart(vegaEmbed));\n",
       "    }\n",
       "  })({\"config\": {\"view\": {\"continuousWidth\": 400, \"continuousHeight\": 300}}, \"data\": {\"name\": \"data-31e5296a3b15e8fe3418211601c621a8\"}, \"mark\": \"bar\", \"encoding\": {\"color\": {\"field\": \"Categories\", \"scale\": {\"range\": [\"#2EA8CE\", \"#EB9F3C\", \"#F4D837\", \"#51BF9D\", \"#8CBCCB\", \"#9487C0\"]}, \"type\": \"nominal\"}, \"row\": {\"field\": \"Categories\", \"type\": \"nominal\"}, \"tooltip\": [{\"field\": \"Agency\", \"title\": \"Agency\", \"type\": \"nominal\"}, {\"field\": \"Funding Amount\", \"format\": \"$,.2f\", \"title\": \"Funding Amount\", \"type\": \"quantitative\"}], \"x\": {\"axis\": {\"format\": \"$.2s\", \"title\": \"Obligated Funding ($2021)\"}, \"field\": \"Funding Amount\", \"type\": \"quantitative\"}, \"y\": {\"field\": \"Agency\", \"type\": \"nominal\"}}, \"height\": 70, \"width\": 400, \"$schema\": \"https://vega.github.io/schema/vega-lite/v4.17.0.json\", \"datasets\": {\"data-31e5296a3b15e8fe3418211601c621a8\": [{\"Agency\": \"San Joaquin County\", \"Categories\": \"Total Requested\", \"Funding Amount\": 564786.7595438377}, {\"Agency\": \"Stanislaus County\", \"Categories\": \"Total Requested\", \"Funding Amount\": 961813.710675181}, {\"Agency\": \"Stockton\", \"Categories\": \"Total Requested\", \"Funding Amount\": 121954.17920131944}, {\"Agency\": \"Calaveras County\", \"Categories\": \"Total Requested\", \"Funding Amount\": 151724.0430882596}, {\"Agency\": \"Merced County\", \"Categories\": \"Total Requested\", \"Funding Amount\": 275824.2326626375}, {\"Agency\": \"San Joaquin County\", \"Categories\": \"Fed Requested\", \"Funding Amount\": 492545.900126253}, {\"Agency\": \"Stanislaus County\", \"Categories\": \"Fed Requested\", \"Funding Amount\": 649571.7464957807}, {\"Agency\": \"Stockton\", \"Categories\": \"Fed Requested\", \"Funding Amount\": 270174.23776696954}, {\"Agency\": \"Calaveras County\", \"Categories\": \"Fed Requested\", \"Funding Amount\": 133047.8698180993}, {\"Agency\": \"Merced County\", \"Categories\": \"Fed Requested\", \"Funding Amount\": 324790.6033567811}, {\"Agency\": \"San Joaquin County\", \"Categories\": \"AC Requested\", \"Funding Amount\": 20435.017624011856}, {\"Agency\": \"Stanislaus County\", \"Categories\": \"AC Requested\", \"Funding Amount\": 138090.96446014388}, {\"Agency\": \"Stockton\", \"Categories\": \"AC Requested\", \"Funding Amount\": 2592.9104316111097}, {\"Agency\": \"Calaveras County\", \"Categories\": \"AC Requested\", \"Funding Amount\": 4030.6180011413094}, {\"Agency\": \"Merced County\", \"Categories\": \"AC Requested\", \"Funding Amount\": 0.0}]}}, {\"mode\": \"vega-lite\"});\n",
       "</script>"
      ],
      "text/plain": [
       "alt.Chart(...)"
      ]
     },
     "metadata": {},
     "output_type": "display_data"
    },
    {
     "data": {
      "application/vnd.jupyter.widget-view+json": {
       "model_id": "eed948c16bc74f408dca7c52fffefa29",
       "version_major": 2,
       "version_minor": 0
      },
      "text/plain": [
       "HTML(value='<h3> Top Agencies using Congestion Relief Projects </h3>')"
      ]
     },
     "metadata": {},
     "output_type": "display_data"
    },
    {
     "data": {
      "application/vnd.jupyter.widget-view+json": {
       "model_id": "48609ac36aef4b5eab6f4ef3693dff7f",
       "version_major": 2,
       "version_minor": 0
      },
      "text/plain": [
       "HTML(value='<style type=\"text/css\">\\n#T_259cf th {\\n  text-align: center;\\n}\\n#T_259cf_row0_col0, #T_259cf_row…"
      ]
     },
     "metadata": {},
     "output_type": "display_data"
    },
    {
     "data": {
      "text/html": [
       "\n",
       "<div id=\"altair-viz-d744919247f24b01ae2466e9ab81e2fc\"></div>\n",
       "<script type=\"text/javascript\">\n",
       "  var VEGA_DEBUG = (typeof VEGA_DEBUG == \"undefined\") ? {} : VEGA_DEBUG;\n",
       "  (function(spec, embedOpt){\n",
       "    let outputDiv = document.currentScript.previousElementSibling;\n",
       "    if (outputDiv.id !== \"altair-viz-d744919247f24b01ae2466e9ab81e2fc\") {\n",
       "      outputDiv = document.getElementById(\"altair-viz-d744919247f24b01ae2466e9ab81e2fc\");\n",
       "    }\n",
       "    const paths = {\n",
       "      \"vega\": \"https://cdn.jsdelivr.net/npm//vega@5?noext\",\n",
       "      \"vega-lib\": \"https://cdn.jsdelivr.net/npm//vega-lib?noext\",\n",
       "      \"vega-lite\": \"https://cdn.jsdelivr.net/npm//vega-lite@4.17.0?noext\",\n",
       "      \"vega-embed\": \"https://cdn.jsdelivr.net/npm//vega-embed@6?noext\",\n",
       "    };\n",
       "\n",
       "    function maybeLoadScript(lib, version) {\n",
       "      var key = `${lib.replace(\"-\", \"\")}_version`;\n",
       "      return (VEGA_DEBUG[key] == version) ?\n",
       "        Promise.resolve(paths[lib]) :\n",
       "        new Promise(function(resolve, reject) {\n",
       "          var s = document.createElement('script');\n",
       "          document.getElementsByTagName(\"head\")[0].appendChild(s);\n",
       "          s.async = true;\n",
       "          s.onload = () => {\n",
       "            VEGA_DEBUG[key] = version;\n",
       "            return resolve(paths[lib]);\n",
       "          };\n",
       "          s.onerror = () => reject(`Error loading script: ${paths[lib]}`);\n",
       "          s.src = paths[lib];\n",
       "        });\n",
       "    }\n",
       "\n",
       "    function showError(err) {\n",
       "      outputDiv.innerHTML = `<div class=\"error\" style=\"color:red;\">${err}</div>`;\n",
       "      throw err;\n",
       "    }\n",
       "\n",
       "    function displayChart(vegaEmbed) {\n",
       "      vegaEmbed(outputDiv, spec, embedOpt)\n",
       "        .catch(err => showError(`Javascript Error: ${err.message}<br>This usually means there's a typo in your chart specification. See the javascript console for the full traceback.`));\n",
       "    }\n",
       "\n",
       "    if(typeof define === \"function\" && define.amd) {\n",
       "      requirejs.config({paths});\n",
       "      require([\"vega-embed\"], displayChart, err => showError(`Error loading script: ${err.message}`));\n",
       "    } else {\n",
       "      maybeLoadScript(\"vega\", \"5\")\n",
       "        .then(() => maybeLoadScript(\"vega-lite\", \"4.17.0\"))\n",
       "        .then(() => maybeLoadScript(\"vega-embed\", \"6\"))\n",
       "        .catch(showError)\n",
       "        .then(() => displayChart(vegaEmbed));\n",
       "    }\n",
       "  })({\"config\": {\"view\": {\"continuousWidth\": 400, \"continuousHeight\": 300}}, \"data\": {\"name\": \"data-7d63aefe7236110473bfbcb79f17f803\"}, \"mark\": \"bar\", \"encoding\": {\"color\": {\"field\": \"Categories\", \"scale\": {\"range\": [\"#2EA8CE\", \"#EB9F3C\", \"#F4D837\", \"#51BF9D\", \"#8CBCCB\", \"#9487C0\"]}, \"type\": \"nominal\"}, \"row\": {\"field\": \"Categories\", \"type\": \"nominal\"}, \"tooltip\": [{\"field\": \"Agency\", \"title\": \"Agency\", \"type\": \"nominal\"}, {\"field\": \"Funding Amount\", \"format\": \"$,.2f\", \"title\": \"Funding Amount\", \"type\": \"quantitative\"}], \"x\": {\"axis\": {\"format\": \"$.2s\", \"title\": \"Obligated Funding ($2021)\"}, \"field\": \"Funding Amount\", \"type\": \"quantitative\"}, \"y\": {\"field\": \"Agency\", \"type\": \"nominal\"}}, \"height\": 70, \"width\": 400, \"$schema\": \"https://vega.github.io/schema/vega-lite/v4.17.0.json\", \"datasets\": {\"data-7d63aefe7236110473bfbcb79f17f803\": [{\"Agency\": \"Stanislaus Council of Governments\", \"Categories\": \"Total Requested\", \"Funding Amount\": 132441.14390518022}, {\"Agency\": \"Modesto\", \"Categories\": \"Total Requested\", \"Funding Amount\": 35763.664240797494}, {\"Agency\": \"San Joaquin Council of Governments\", \"Categories\": \"Total Requested\", \"Funding Amount\": 360027.22351851146}, {\"Agency\": \"Merced County Association of Governments\", \"Categories\": \"Total Requested\", \"Funding Amount\": 68795.45216447805}, {\"Agency\": \"Stanislaus County\", \"Categories\": \"Total Requested\", \"Funding Amount\": 30317.096291664548}, {\"Agency\": \"Stanislaus Council of Governments\", \"Categories\": \"Fed Requested\", \"Funding Amount\": 122145.54438367426}, {\"Agency\": \"Modesto\", \"Categories\": \"Fed Requested\", \"Funding Amount\": 35261.771786810976}, {\"Agency\": \"San Joaquin Council of Governments\", \"Categories\": \"Fed Requested\", \"Funding Amount\": 360084.58617833635}, {\"Agency\": \"Merced County Association of Governments\", \"Categories\": \"Fed Requested\", \"Funding Amount\": 68795.45216447805}, {\"Agency\": \"Stanislaus County\", \"Categories\": \"Fed Requested\", \"Funding Amount\": 26839.716560154793}, {\"Agency\": \"Stanislaus Council of Governments\", \"Categories\": \"AC Requested\", \"Funding Amount\": 0.0}, {\"Agency\": \"Modesto\", \"Categories\": \"AC Requested\", \"Funding Amount\": 0.0}, {\"Agency\": \"San Joaquin Council of Governments\", \"Categories\": \"AC Requested\", \"Funding Amount\": 0.0}, {\"Agency\": \"Merced County Association of Governments\", \"Categories\": \"AC Requested\", \"Funding Amount\": 0.0}, {\"Agency\": \"Stanislaus County\", \"Categories\": \"AC Requested\", \"Funding Amount\": 0.0}]}}, {\"mode\": \"vega-lite\"});\n",
       "</script>"
      ],
      "text/plain": [
       "alt.Chart(...)"
      ]
     },
     "metadata": {},
     "output_type": "display_data"
    }
   ],
   "source": [
    "# create loop:\n",
    "\n",
    "work_cat = ['active_transp', 'transit', 'bridge', 'street','freeway', 'infra_resiliency_er','congestion_relief']\n",
    "\n",
    "for cat in work_cat:\n",
    "    _dla_utils.project_cat(df, cat, district)"
   ]
  },
  {
   "cell_type": "code",
   "execution_count": null,
   "id": "5a50e751-dd3f-498f-9a28-2edc321b534f",
   "metadata": {
    "jupyter": {
     "source_hidden": true
    },
    "papermill": {
     "duration": 0.050741,
     "end_time": "2022-06-02T22:25:04.508491",
     "exception": false,
     "start_time": "2022-06-02T22:25:04.457750",
     "status": "completed"
    },
    "tags": [
     "remove_input"
    ]
   },
   "outputs": [],
   "source": []
  },
  {
   "cell_type": "code",
   "execution_count": null,
   "id": "9ecbddcd-3d8e-4955-9294-5a63a98ca2a7",
   "metadata": {
    "jupyter": {
     "source_hidden": true
    },
    "papermill": {
     "duration": 0.036891,
     "end_time": "2022-06-02T22:25:04.581626",
     "exception": false,
     "start_time": "2022-06-02T22:25:04.544735",
     "status": "completed"
    },
    "tags": [
     "remove_input"
    ]
   },
   "outputs": [],
   "source": []
  }
 ],
 "metadata": {
  "kernelspec": {
   "display_name": "Python 3 (ipykernel)",
   "language": "python",
   "name": "python3"
  },
  "language_info": {
   "codemirror_mode": {
    "name": "ipython",
    "version": 3
   },
   "file_extension": ".py",
   "mimetype": "text/x-python",
   "name": "python",
   "nbconvert_exporter": "python",
   "pygments_lexer": "ipython3",
   "version": "3.9.12"
  },
  "papermill": {
   "default_parameters": {},
   "duration": 16.276001,
   "end_time": "2022-06-02T22:25:05.743859",
   "environment_variables": {},
   "exception": null,
   "input_path": "dla/e76_obligated_funds/reports/dla_district_report.ipynb",
   "output_path": "portfolio/dla/district_10__district_title_district-10-stockton/0__dla_district_report__district_10__district_title_district-10-stockton.ipynb",
   "parameters": {
    "district": 10,
    "district_title": "District 10 - Stockton"
   },
   "start_time": "2022-06-02T22:24:49.467858",
   "version": "2.3.4"
  },
  "widgets": {
   "application/vnd.jupyter.widget-state+json": {
    "state": {
     "04467b65424743428176e149052cbcd8": {
      "model_module": "@jupyter-widgets/controls",
      "model_module_version": "1.5.0",
      "model_name": "HTMLModel",
      "state": {
       "_dom_classes": [],
       "_model_module": "@jupyter-widgets/controls",
       "_model_module_version": "1.5.0",
       "_model_name": "HTMLModel",
       "_view_count": null,
       "_view_module": "@jupyter-widgets/controls",
       "_view_module_version": "1.5.0",
       "_view_name": "HTMLView",
       "description": "",
       "description_tooltip": null,
       "layout": "IPY_MODEL_221f1a5b3d3948f48747bf911e6618e0",
       "placeholder": "​",
       "style": "IPY_MODEL_e373aab8af9845c2aa2ca99a51e047e6",
       "value": "<style type=\"text/css\">\n#T_ef163 th {\n  text-align: center;\n}\n#T_ef163_row0_col0, #T_ef163_row0_col1, #T_ef163_row0_col2, #T_ef163_row1_col0, #T_ef163_row1_col1, #T_ef163_row1_col2, #T_ef163_row2_col0, #T_ef163_row2_col1, #T_ef163_row2_col2, #T_ef163_row3_col0, #T_ef163_row3_col1, #T_ef163_row3_col2, #T_ef163_row4_col0, #T_ef163_row4_col1, #T_ef163_row4_col2 {\n  text-align: center;\n}\n</style>\n<table id=\"T_ef163\">\n  <thead>\n    <tr>\n      <th id=\"T_ef163_level0_col0\" class=\"col_heading level0 col0\" >Agency</th>\n      <th id=\"T_ef163_level0_col1\" class=\"col_heading level0 col1\" >Street Obligations</th>\n      <th id=\"T_ef163_level0_col2\" class=\"col_heading level0 col2\" >Percent Of Category</th>\n    </tr>\n  </thead>\n  <tbody>\n    <tr>\n      <td id=\"T_ef163_row0_col0\" class=\"data row0 col0\" >Stockton</td>\n      <td id=\"T_ef163_row0_col1\" class=\"data row0 col1\" >182</td>\n      <td id=\"T_ef163_row0_col2\" class=\"data row0 col2\" >$18.06</td>\n    </tr>\n    <tr>\n      <td id=\"T_ef163_row1_col0\" class=\"data row1 col0\" >Modesto</td>\n      <td id=\"T_ef163_row1_col1\" class=\"data row1 col1\" >136</td>\n      <td id=\"T_ef163_row1_col2\" class=\"data row1 col2\" >$13.49</td>\n    </tr>\n    <tr>\n      <td id=\"T_ef163_row2_col0\" class=\"data row2 col0\" >San Joaquin County</td>\n      <td id=\"T_ef163_row2_col1\" class=\"data row2 col1\" >120</td>\n      <td id=\"T_ef163_row2_col2\" class=\"data row2 col2\" >$11.90</td>\n    </tr>\n    <tr>\n      <td id=\"T_ef163_row3_col0\" class=\"data row3 col0\" >Stanislaus County</td>\n      <td id=\"T_ef163_row3_col1\" class=\"data row3 col1\" >84</td>\n      <td id=\"T_ef163_row3_col2\" class=\"data row3 col2\" >$8.33</td>\n    </tr>\n    <tr>\n      <td id=\"T_ef163_row4_col0\" class=\"data row4 col0\" >Turlock</td>\n      <td id=\"T_ef163_row4_col1\" class=\"data row4 col1\" >73</td>\n      <td id=\"T_ef163_row4_col2\" class=\"data row4 col2\" >$7.24</td>\n    </tr>\n  </tbody>\n</table>\n"
      }
     },
     "0bac4dcaf70e45a8a7f43081f3975fd8": {
      "model_module": "@jupyter-widgets/controls",
      "model_module_version": "1.5.0",
      "model_name": "HTMLModel",
      "state": {
       "_dom_classes": [],
       "_model_module": "@jupyter-widgets/controls",
       "_model_module_version": "1.5.0",
       "_model_name": "HTMLModel",
       "_view_count": null,
       "_view_module": "@jupyter-widgets/controls",
       "_view_module_version": "1.5.0",
       "_view_name": "HTMLView",
       "description": "",
       "description_tooltip": null,
       "layout": "IPY_MODEL_d6d78204209644d18ee7d2e2eb185b28",
       "placeholder": "​",
       "style": "IPY_MODEL_9f387f7819d04f0ebd95ba5334302e98",
       "value": "<h3> Top Agencies using Freeway Projects </h3>"
      }
     },
     "0d81005feeb44e68a554618a784c422e": {
      "model_module": "@jupyter-widgets/base",
      "model_module_version": "1.2.0",
      "model_name": "LayoutModel",
      "state": {
       "_model_module": "@jupyter-widgets/base",
       "_model_module_version": "1.2.0",
       "_model_name": "LayoutModel",
       "_view_count": null,
       "_view_module": "@jupyter-widgets/base",
       "_view_module_version": "1.2.0",
       "_view_name": "LayoutView",
       "align_content": null,
       "align_items": null,
       "align_self": null,
       "border": null,
       "bottom": null,
       "display": null,
       "flex": null,
       "flex_flow": null,
       "grid_area": null,
       "grid_auto_columns": null,
       "grid_auto_flow": null,
       "grid_auto_rows": null,
       "grid_column": null,
       "grid_gap": null,
       "grid_row": null,
       "grid_template_areas": null,
       "grid_template_columns": null,
       "grid_template_rows": null,
       "height": null,
       "justify_content": null,
       "justify_items": null,
       "left": null,
       "margin": null,
       "max_height": null,
       "max_width": null,
       "min_height": null,
       "min_width": null,
       "object_fit": null,
       "object_position": null,
       "order": null,
       "overflow": null,
       "overflow_x": null,
       "overflow_y": null,
       "padding": null,
       "right": null,
       "top": null,
       "visibility": null,
       "width": null
      }
     },
     "13cbe82cc06e4c1ca49a9386448e2f68": {
      "model_module": "@jupyter-widgets/base",
      "model_module_version": "1.2.0",
      "model_name": "LayoutModel",
      "state": {
       "_model_module": "@jupyter-widgets/base",
       "_model_module_version": "1.2.0",
       "_model_name": "LayoutModel",
       "_view_count": null,
       "_view_module": "@jupyter-widgets/base",
       "_view_module_version": "1.2.0",
       "_view_name": "LayoutView",
       "align_content": null,
       "align_items": null,
       "align_self": null,
       "border": null,
       "bottom": null,
       "display": null,
       "flex": null,
       "flex_flow": null,
       "grid_area": null,
       "grid_auto_columns": null,
       "grid_auto_flow": null,
       "grid_auto_rows": null,
       "grid_column": null,
       "grid_gap": null,
       "grid_row": null,
       "grid_template_areas": null,
       "grid_template_columns": null,
       "grid_template_rows": null,
       "height": null,
       "justify_content": null,
       "justify_items": null,
       "left": null,
       "margin": null,
       "max_height": null,
       "max_width": null,
       "min_height": null,
       "min_width": null,
       "object_fit": null,
       "object_position": null,
       "order": null,
       "overflow": null,
       "overflow_x": null,
       "overflow_y": null,
       "padding": null,
       "right": null,
       "top": null,
       "visibility": null,
       "width": null
      }
     },
     "20449c4ddc8d4ccebdd08f23070c36f0": {
      "model_module": "@jupyter-widgets/base",
      "model_module_version": "1.2.0",
      "model_name": "LayoutModel",
      "state": {
       "_model_module": "@jupyter-widgets/base",
       "_model_module_version": "1.2.0",
       "_model_name": "LayoutModel",
       "_view_count": null,
       "_view_module": "@jupyter-widgets/base",
       "_view_module_version": "1.2.0",
       "_view_name": "LayoutView",
       "align_content": null,
       "align_items": null,
       "align_self": null,
       "border": null,
       "bottom": null,
       "display": null,
       "flex": null,
       "flex_flow": null,
       "grid_area": null,
       "grid_auto_columns": null,
       "grid_auto_flow": null,
       "grid_auto_rows": null,
       "grid_column": null,
       "grid_gap": null,
       "grid_row": null,
       "grid_template_areas": null,
       "grid_template_columns": null,
       "grid_template_rows": null,
       "height": null,
       "justify_content": null,
       "justify_items": null,
       "left": null,
       "margin": null,
       "max_height": null,
       "max_width": null,
       "min_height": null,
       "min_width": null,
       "object_fit": null,
       "object_position": null,
       "order": null,
       "overflow": null,
       "overflow_x": null,
       "overflow_y": null,
       "padding": null,
       "right": null,
       "top": null,
       "visibility": null,
       "width": null
      }
     },
     "221f1a5b3d3948f48747bf911e6618e0": {
      "model_module": "@jupyter-widgets/base",
      "model_module_version": "1.2.0",
      "model_name": "LayoutModel",
      "state": {
       "_model_module": "@jupyter-widgets/base",
       "_model_module_version": "1.2.0",
       "_model_name": "LayoutModel",
       "_view_count": null,
       "_view_module": "@jupyter-widgets/base",
       "_view_module_version": "1.2.0",
       "_view_name": "LayoutView",
       "align_content": null,
       "align_items": null,
       "align_self": null,
       "border": null,
       "bottom": null,
       "display": null,
       "flex": null,
       "flex_flow": null,
       "grid_area": null,
       "grid_auto_columns": null,
       "grid_auto_flow": null,
       "grid_auto_rows": null,
       "grid_column": null,
       "grid_gap": null,
       "grid_row": null,
       "grid_template_areas": null,
       "grid_template_columns": null,
       "grid_template_rows": null,
       "height": null,
       "justify_content": null,
       "justify_items": null,
       "left": null,
       "margin": null,
       "max_height": null,
       "max_width": null,
       "min_height": null,
       "min_width": null,
       "object_fit": null,
       "object_position": null,
       "order": null,
       "overflow": null,
       "overflow_x": null,
       "overflow_y": null,
       "padding": null,
       "right": null,
       "top": null,
       "visibility": null,
       "width": null
      }
     },
     "271d9e59fb7340128fb12074a6c875ca": {
      "model_module": "@jupyter-widgets/controls",
      "model_module_version": "1.5.0",
      "model_name": "HTMLModel",
      "state": {
       "_dom_classes": [],
       "_model_module": "@jupyter-widgets/controls",
       "_model_module_version": "1.5.0",
       "_model_name": "HTMLModel",
       "_view_count": null,
       "_view_module": "@jupyter-widgets/controls",
       "_view_module_version": "1.5.0",
       "_view_name": "HTMLView",
       "description": "",
       "description_tooltip": null,
       "layout": "IPY_MODEL_0d81005feeb44e68a554618a784c422e",
       "placeholder": "​",
       "style": "IPY_MODEL_55df6b16e40e4751a802c9af72b9ef3f",
       "value": "<style type=\"text/css\">\n#T_863e7 th {\n  text-align: center;\n}\n#T_863e7_row0_col0, #T_863e7_row0_col1, #T_863e7_row0_col2, #T_863e7_row1_col0, #T_863e7_row1_col1, #T_863e7_row1_col2, #T_863e7_row2_col0, #T_863e7_row2_col1, #T_863e7_row2_col2, #T_863e7_row3_col0, #T_863e7_row3_col1, #T_863e7_row3_col2, #T_863e7_row4_col0, #T_863e7_row4_col1, #T_863e7_row4_col2 {\n  text-align: center;\n}\n</style>\n<table id=\"T_863e7\">\n  <thead>\n    <tr>\n      <th id=\"T_863e7_level0_col0\" class=\"col_heading level0 col0\" >Agency</th>\n      <th id=\"T_863e7_level0_col1\" class=\"col_heading level0 col1\" >Transit Obligations</th>\n      <th id=\"T_863e7_level0_col2\" class=\"col_heading level0 col2\" >Percent Of Category</th>\n    </tr>\n  </thead>\n  <tbody>\n    <tr>\n      <td id=\"T_863e7_row0_col0\" class=\"data row0 col0\" >Stanislaus County</td>\n      <td id=\"T_863e7_row0_col1\" class=\"data row0 col1\" >18</td>\n      <td id=\"T_863e7_row0_col2\" class=\"data row0 col2\" >$20.93</td>\n    </tr>\n    <tr>\n      <td id=\"T_863e7_row1_col0\" class=\"data row1 col0\" >Stockton</td>\n      <td id=\"T_863e7_row1_col1\" class=\"data row1 col1\" >14</td>\n      <td id=\"T_863e7_row1_col2\" class=\"data row1 col2\" >$16.28</td>\n    </tr>\n    <tr>\n      <td id=\"T_863e7_row2_col0\" class=\"data row2 col0\" >Yosemite Area Regional Transportation System JPA</td>\n      <td id=\"T_863e7_row2_col1\" class=\"data row2 col1\" >14</td>\n      <td id=\"T_863e7_row2_col2\" class=\"data row2 col2\" >$16.28</td>\n    </tr>\n    <tr>\n      <td id=\"T_863e7_row3_col0\" class=\"data row3 col0\" >Transit Joint Powers Authority For Merced County</td>\n      <td id=\"T_863e7_row3_col1\" class=\"data row3 col1\" >12</td>\n      <td id=\"T_863e7_row3_col2\" class=\"data row3 col2\" >$13.95</td>\n    </tr>\n    <tr>\n      <td id=\"T_863e7_row4_col0\" class=\"data row4 col0\" >Modesto</td>\n      <td id=\"T_863e7_row4_col1\" class=\"data row4 col1\" >8</td>\n      <td id=\"T_863e7_row4_col2\" class=\"data row4 col2\" >$9.30</td>\n    </tr>\n  </tbody>\n</table>\n"
      }
     },
     "386c72e625da41fe8adfe8b5fc80981b": {
      "model_module": "@jupyter-widgets/base",
      "model_module_version": "1.2.0",
      "model_name": "LayoutModel",
      "state": {
       "_model_module": "@jupyter-widgets/base",
       "_model_module_version": "1.2.0",
       "_model_name": "LayoutModel",
       "_view_count": null,
       "_view_module": "@jupyter-widgets/base",
       "_view_module_version": "1.2.0",
       "_view_name": "LayoutView",
       "align_content": null,
       "align_items": null,
       "align_self": null,
       "border": null,
       "bottom": null,
       "display": null,
       "flex": null,
       "flex_flow": null,
       "grid_area": null,
       "grid_auto_columns": null,
       "grid_auto_flow": null,
       "grid_auto_rows": null,
       "grid_column": null,
       "grid_gap": null,
       "grid_row": null,
       "grid_template_areas": null,
       "grid_template_columns": null,
       "grid_template_rows": null,
       "height": null,
       "justify_content": null,
       "justify_items": null,
       "left": null,
       "margin": null,
       "max_height": null,
       "max_width": null,
       "min_height": null,
       "min_width": null,
       "object_fit": null,
       "object_position": null,
       "order": null,
       "overflow": null,
       "overflow_x": null,
       "overflow_y": null,
       "padding": null,
       "right": null,
       "top": null,
       "visibility": null,
       "width": null
      }
     },
     "39aebae767214a7dad74e84d37aad34f": {
      "model_module": "@jupyter-widgets/controls",
      "model_module_version": "1.5.0",
      "model_name": "DescriptionStyleModel",
      "state": {
       "_model_module": "@jupyter-widgets/controls",
       "_model_module_version": "1.5.0",
       "_model_name": "DescriptionStyleModel",
       "_view_count": null,
       "_view_module": "@jupyter-widgets/base",
       "_view_module_version": "1.2.0",
       "_view_name": "StyleView",
       "description_width": ""
      }
     },
     "432f176780e74be7843e5a7f8e76fc5b": {
      "model_module": "@jupyter-widgets/controls",
      "model_module_version": "1.5.0",
      "model_name": "DescriptionStyleModel",
      "state": {
       "_model_module": "@jupyter-widgets/controls",
       "_model_module_version": "1.5.0",
       "_model_name": "DescriptionStyleModel",
       "_view_count": null,
       "_view_module": "@jupyter-widgets/base",
       "_view_module_version": "1.2.0",
       "_view_name": "StyleView",
       "description_width": ""
      }
     },
     "48609ac36aef4b5eab6f4ef3693dff7f": {
      "model_module": "@jupyter-widgets/controls",
      "model_module_version": "1.5.0",
      "model_name": "HTMLModel",
      "state": {
       "_dom_classes": [],
       "_model_module": "@jupyter-widgets/controls",
       "_model_module_version": "1.5.0",
       "_model_name": "HTMLModel",
       "_view_count": null,
       "_view_module": "@jupyter-widgets/controls",
       "_view_module_version": "1.5.0",
       "_view_name": "HTMLView",
       "description": "",
       "description_tooltip": null,
       "layout": "IPY_MODEL_55edfdcc4fe64ca788f5e90188ea9af7",
       "placeholder": "​",
       "style": "IPY_MODEL_432f176780e74be7843e5a7f8e76fc5b",
       "value": "<style type=\"text/css\">\n#T_259cf th {\n  text-align: center;\n}\n#T_259cf_row0_col0, #T_259cf_row0_col1, #T_259cf_row0_col2, #T_259cf_row1_col0, #T_259cf_row1_col1, #T_259cf_row1_col2, #T_259cf_row2_col0, #T_259cf_row2_col1, #T_259cf_row2_col2, #T_259cf_row3_col0, #T_259cf_row3_col1, #T_259cf_row3_col2, #T_259cf_row4_col0, #T_259cf_row4_col1, #T_259cf_row4_col2 {\n  text-align: center;\n}\n</style>\n<table id=\"T_259cf\">\n  <thead>\n    <tr>\n      <th id=\"T_259cf_level0_col0\" class=\"col_heading level0 col0\" >Agency</th>\n      <th id=\"T_259cf_level0_col1\" class=\"col_heading level0 col1\" >Congestion Relief Obligations</th>\n      <th id=\"T_259cf_level0_col2\" class=\"col_heading level0 col2\" >Percent Of Category</th>\n    </tr>\n  </thead>\n  <tbody>\n    <tr>\n      <td id=\"T_259cf_row0_col0\" class=\"data row0 col0\" >Stanislaus Council of Governments</td>\n      <td id=\"T_259cf_row0_col1\" class=\"data row0 col1\" >18</td>\n      <td id=\"T_259cf_row0_col2\" class=\"data row0 col2\" >$32.14</td>\n    </tr>\n    <tr>\n      <td id=\"T_259cf_row1_col0\" class=\"data row1 col0\" >Modesto</td>\n      <td id=\"T_259cf_row1_col1\" class=\"data row1 col1\" >17</td>\n      <td id=\"T_259cf_row1_col2\" class=\"data row1 col2\" >$30.36</td>\n    </tr>\n    <tr>\n      <td id=\"T_259cf_row2_col0\" class=\"data row2 col0\" >San Joaquin Council of Governments</td>\n      <td id=\"T_259cf_row2_col1\" class=\"data row2 col1\" >8</td>\n      <td id=\"T_259cf_row2_col2\" class=\"data row2 col2\" >$14.29</td>\n    </tr>\n    <tr>\n      <td id=\"T_259cf_row3_col0\" class=\"data row3 col0\" >Merced County Association of Governments</td>\n      <td id=\"T_259cf_row3_col1\" class=\"data row3 col1\" >7</td>\n      <td id=\"T_259cf_row3_col2\" class=\"data row3 col2\" >$12.50</td>\n    </tr>\n    <tr>\n      <td id=\"T_259cf_row4_col0\" class=\"data row4 col0\" >Stanislaus County</td>\n      <td id=\"T_259cf_row4_col1\" class=\"data row4 col1\" >6</td>\n      <td id=\"T_259cf_row4_col2\" class=\"data row4 col2\" >$10.71</td>\n    </tr>\n  </tbody>\n</table>\n"
      }
     },
     "48852bce71e54e85a34e04516c4a978f": {
      "model_module": "@jupyter-widgets/controls",
      "model_module_version": "1.5.0",
      "model_name": "HTMLModel",
      "state": {
       "_dom_classes": [],
       "_model_module": "@jupyter-widgets/controls",
       "_model_module_version": "1.5.0",
       "_model_name": "HTMLModel",
       "_view_count": null,
       "_view_module": "@jupyter-widgets/controls",
       "_view_module_version": "1.5.0",
       "_view_name": "HTMLView",
       "description": "",
       "description_tooltip": null,
       "layout": "IPY_MODEL_dddae8b428a54dde9e2a704d8acb425c",
       "placeholder": "​",
       "style": "IPY_MODEL_4d9e6dcca41d48b2871a79f8c7541f99",
       "value": "<style type=\"text/css\">\n#T_d82c9 th {\n  text-align: center;\n}\n#T_d82c9_row0_col0, #T_d82c9_row0_col1, #T_d82c9_row0_col2, #T_d82c9_row1_col0, #T_d82c9_row1_col1, #T_d82c9_row1_col2, #T_d82c9_row2_col0, #T_d82c9_row2_col1, #T_d82c9_row2_col2, #T_d82c9_row3_col0, #T_d82c9_row3_col1, #T_d82c9_row3_col2, #T_d82c9_row4_col0, #T_d82c9_row4_col1, #T_d82c9_row4_col2 {\n  text-align: center;\n}\n</style>\n<table id=\"T_d82c9\">\n  <thead>\n    <tr>\n      <th id=\"T_d82c9_level0_col0\" class=\"col_heading level0 col0\" >Agency</th>\n      <th id=\"T_d82c9_level0_col1\" class=\"col_heading level0 col1\" >Freeway Obligations</th>\n      <th id=\"T_d82c9_level0_col2\" class=\"col_heading level0 col2\" >Percent Of Category</th>\n    </tr>\n  </thead>\n  <tbody>\n    <tr>\n      <td id=\"T_d82c9_row0_col0\" class=\"data row0 col0\" >San Joaquin County</td>\n      <td id=\"T_d82c9_row0_col1\" class=\"data row0 col1\" >9</td>\n      <td id=\"T_d82c9_row0_col2\" class=\"data row0 col2\" >$60.00</td>\n    </tr>\n    <tr>\n      <td id=\"T_d82c9_row1_col0\" class=\"data row1 col0\" >Modesto</td>\n      <td id=\"T_d82c9_row1_col1\" class=\"data row1 col1\" >3</td>\n      <td id=\"T_d82c9_row1_col2\" class=\"data row1 col2\" >$20.00</td>\n    </tr>\n    <tr>\n      <td id=\"T_d82c9_row2_col0\" class=\"data row2 col0\" >Calaveras County</td>\n      <td id=\"T_d82c9_row2_col1\" class=\"data row2 col1\" >1</td>\n      <td id=\"T_d82c9_row2_col2\" class=\"data row2 col2\" >$6.67</td>\n    </tr>\n    <tr>\n      <td id=\"T_d82c9_row3_col0\" class=\"data row3 col0\" >Stanislaus Council of Governments</td>\n      <td id=\"T_d82c9_row3_col1\" class=\"data row3 col1\" >1</td>\n      <td id=\"T_d82c9_row3_col2\" class=\"data row3 col2\" >$6.67</td>\n    </tr>\n    <tr>\n      <td id=\"T_d82c9_row4_col0\" class=\"data row4 col0\" >Stockton</td>\n      <td id=\"T_d82c9_row4_col1\" class=\"data row4 col1\" >1</td>\n      <td id=\"T_d82c9_row4_col2\" class=\"data row4 col2\" >$6.67</td>\n    </tr>\n  </tbody>\n</table>\n"
      }
     },
     "4a9d60160cb54cd6a1b7e83aeaab0562": {
      "model_module": "@jupyter-widgets/base",
      "model_module_version": "1.2.0",
      "model_name": "LayoutModel",
      "state": {
       "_model_module": "@jupyter-widgets/base",
       "_model_module_version": "1.2.0",
       "_model_name": "LayoutModel",
       "_view_count": null,
       "_view_module": "@jupyter-widgets/base",
       "_view_module_version": "1.2.0",
       "_view_name": "LayoutView",
       "align_content": null,
       "align_items": null,
       "align_self": null,
       "border": null,
       "bottom": null,
       "display": null,
       "flex": null,
       "flex_flow": null,
       "grid_area": null,
       "grid_auto_columns": null,
       "grid_auto_flow": null,
       "grid_auto_rows": null,
       "grid_column": null,
       "grid_gap": null,
       "grid_row": null,
       "grid_template_areas": null,
       "grid_template_columns": null,
       "grid_template_rows": null,
       "height": null,
       "justify_content": null,
       "justify_items": null,
       "left": null,
       "margin": null,
       "max_height": null,
       "max_width": null,
       "min_height": null,
       "min_width": null,
       "object_fit": null,
       "object_position": null,
       "order": null,
       "overflow": null,
       "overflow_x": null,
       "overflow_y": null,
       "padding": null,
       "right": null,
       "top": null,
       "visibility": null,
       "width": null
      }
     },
     "4cd6d5f2cb604b08ac4be4408574a64f": {
      "model_module": "@jupyter-widgets/base",
      "model_module_version": "1.2.0",
      "model_name": "LayoutModel",
      "state": {
       "_model_module": "@jupyter-widgets/base",
       "_model_module_version": "1.2.0",
       "_model_name": "LayoutModel",
       "_view_count": null,
       "_view_module": "@jupyter-widgets/base",
       "_view_module_version": "1.2.0",
       "_view_name": "LayoutView",
       "align_content": null,
       "align_items": null,
       "align_self": null,
       "border": null,
       "bottom": null,
       "display": null,
       "flex": null,
       "flex_flow": null,
       "grid_area": null,
       "grid_auto_columns": null,
       "grid_auto_flow": null,
       "grid_auto_rows": null,
       "grid_column": null,
       "grid_gap": null,
       "grid_row": null,
       "grid_template_areas": null,
       "grid_template_columns": null,
       "grid_template_rows": null,
       "height": null,
       "justify_content": null,
       "justify_items": null,
       "left": null,
       "margin": null,
       "max_height": null,
       "max_width": null,
       "min_height": null,
       "min_width": null,
       "object_fit": null,
       "object_position": null,
       "order": null,
       "overflow": null,
       "overflow_x": null,
       "overflow_y": null,
       "padding": null,
       "right": null,
       "top": null,
       "visibility": null,
       "width": null
      }
     },
     "4d9e6dcca41d48b2871a79f8c7541f99": {
      "model_module": "@jupyter-widgets/controls",
      "model_module_version": "1.5.0",
      "model_name": "DescriptionStyleModel",
      "state": {
       "_model_module": "@jupyter-widgets/controls",
       "_model_module_version": "1.5.0",
       "_model_name": "DescriptionStyleModel",
       "_view_count": null,
       "_view_module": "@jupyter-widgets/base",
       "_view_module_version": "1.2.0",
       "_view_name": "StyleView",
       "description_width": ""
      }
     },
     "53e502ab3b7447019d1684d52aca6d0b": {
      "model_module": "@jupyter-widgets/base",
      "model_module_version": "1.2.0",
      "model_name": "LayoutModel",
      "state": {
       "_model_module": "@jupyter-widgets/base",
       "_model_module_version": "1.2.0",
       "_model_name": "LayoutModel",
       "_view_count": null,
       "_view_module": "@jupyter-widgets/base",
       "_view_module_version": "1.2.0",
       "_view_name": "LayoutView",
       "align_content": null,
       "align_items": null,
       "align_self": null,
       "border": null,
       "bottom": null,
       "display": null,
       "flex": null,
       "flex_flow": null,
       "grid_area": null,
       "grid_auto_columns": null,
       "grid_auto_flow": null,
       "grid_auto_rows": null,
       "grid_column": null,
       "grid_gap": null,
       "grid_row": null,
       "grid_template_areas": null,
       "grid_template_columns": null,
       "grid_template_rows": null,
       "height": null,
       "justify_content": null,
       "justify_items": null,
       "left": null,
       "margin": null,
       "max_height": null,
       "max_width": null,
       "min_height": null,
       "min_width": null,
       "object_fit": null,
       "object_position": null,
       "order": null,
       "overflow": null,
       "overflow_x": null,
       "overflow_y": null,
       "padding": null,
       "right": null,
       "top": null,
       "visibility": null,
       "width": null
      }
     },
     "55df6b16e40e4751a802c9af72b9ef3f": {
      "model_module": "@jupyter-widgets/controls",
      "model_module_version": "1.5.0",
      "model_name": "DescriptionStyleModel",
      "state": {
       "_model_module": "@jupyter-widgets/controls",
       "_model_module_version": "1.5.0",
       "_model_name": "DescriptionStyleModel",
       "_view_count": null,
       "_view_module": "@jupyter-widgets/base",
       "_view_module_version": "1.2.0",
       "_view_name": "StyleView",
       "description_width": ""
      }
     },
     "55edfdcc4fe64ca788f5e90188ea9af7": {
      "model_module": "@jupyter-widgets/base",
      "model_module_version": "1.2.0",
      "model_name": "LayoutModel",
      "state": {
       "_model_module": "@jupyter-widgets/base",
       "_model_module_version": "1.2.0",
       "_model_name": "LayoutModel",
       "_view_count": null,
       "_view_module": "@jupyter-widgets/base",
       "_view_module_version": "1.2.0",
       "_view_name": "LayoutView",
       "align_content": null,
       "align_items": null,
       "align_self": null,
       "border": null,
       "bottom": null,
       "display": null,
       "flex": null,
       "flex_flow": null,
       "grid_area": null,
       "grid_auto_columns": null,
       "grid_auto_flow": null,
       "grid_auto_rows": null,
       "grid_column": null,
       "grid_gap": null,
       "grid_row": null,
       "grid_template_areas": null,
       "grid_template_columns": null,
       "grid_template_rows": null,
       "height": null,
       "justify_content": null,
       "justify_items": null,
       "left": null,
       "margin": null,
       "max_height": null,
       "max_width": null,
       "min_height": null,
       "min_width": null,
       "object_fit": null,
       "object_position": null,
       "order": null,
       "overflow": null,
       "overflow_x": null,
       "overflow_y": null,
       "padding": null,
       "right": null,
       "top": null,
       "visibility": null,
       "width": null
      }
     },
     "6587f399c40e494f815b197604a4435d": {
      "model_module": "@jupyter-widgets/controls",
      "model_module_version": "1.5.0",
      "model_name": "HTMLModel",
      "state": {
       "_dom_classes": [],
       "_model_module": "@jupyter-widgets/controls",
       "_model_module_version": "1.5.0",
       "_model_name": "HTMLModel",
       "_view_count": null,
       "_view_module": "@jupyter-widgets/controls",
       "_view_module_version": "1.5.0",
       "_view_name": "HTMLView",
       "description": "",
       "description_tooltip": null,
       "layout": "IPY_MODEL_13cbe82cc06e4c1ca49a9386448e2f68",
       "placeholder": "​",
       "style": "IPY_MODEL_e93a937e058b4dbdbea81079dd7d10ad",
       "value": "<style type=\"text/css\">\n#T_45a14 th {\n  text-align: center;\n}\n#T_45a14_row0_col0, #T_45a14_row0_col1, #T_45a14_row0_col2, #T_45a14_row1_col0, #T_45a14_row1_col1, #T_45a14_row1_col2, #T_45a14_row2_col0, #T_45a14_row2_col1, #T_45a14_row2_col2, #T_45a14_row3_col0, #T_45a14_row3_col1, #T_45a14_row3_col2, #T_45a14_row4_col0, #T_45a14_row4_col1, #T_45a14_row4_col2 {\n  text-align: center;\n}\n</style>\n<table id=\"T_45a14\">\n  <thead>\n    <tr>\n      <th id=\"T_45a14_level0_col0\" class=\"col_heading level0 col0\" >Agency</th>\n      <th id=\"T_45a14_level0_col1\" class=\"col_heading level0 col1\" >Active Transportation Obligations</th>\n      <th id=\"T_45a14_level0_col2\" class=\"col_heading level0 col2\" >Percent Of Category</th>\n    </tr>\n  </thead>\n  <tbody>\n    <tr>\n      <td id=\"T_45a14_row0_col0\" class=\"data row0 col0\" >Stockton</td>\n      <td id=\"T_45a14_row0_col1\" class=\"data row0 col1\" >58</td>\n      <td id=\"T_45a14_row0_col2\" class=\"data row0 col2\" >$15.22</td>\n    </tr>\n    <tr>\n      <td id=\"T_45a14_row1_col0\" class=\"data row1 col0\" >Merced</td>\n      <td id=\"T_45a14_row1_col1\" class=\"data row1 col1\" >46</td>\n      <td id=\"T_45a14_row1_col2\" class=\"data row1 col2\" >$12.07</td>\n    </tr>\n    <tr>\n      <td id=\"T_45a14_row2_col0\" class=\"data row2 col0\" >Ceres</td>\n      <td id=\"T_45a14_row2_col1\" class=\"data row2 col1\" >29</td>\n      <td id=\"T_45a14_row2_col2\" class=\"data row2 col2\" >$7.61</td>\n    </tr>\n    <tr>\n      <td id=\"T_45a14_row3_col0\" class=\"data row3 col0\" >Merced County</td>\n      <td id=\"T_45a14_row3_col1\" class=\"data row3 col1\" >25</td>\n      <td id=\"T_45a14_row3_col2\" class=\"data row3 col2\" >$6.56</td>\n    </tr>\n    <tr>\n      <td id=\"T_45a14_row4_col0\" class=\"data row4 col0\" >Atwater</td>\n      <td id=\"T_45a14_row4_col1\" class=\"data row4 col1\" >24</td>\n      <td id=\"T_45a14_row4_col2\" class=\"data row4 col2\" >$6.30</td>\n    </tr>\n  </tbody>\n</table>\n"
      }
     },
     "7a6ea8d01a7843449bde8fe52b21eddd": {
      "model_module": "@jupyter-widgets/base",
      "model_module_version": "1.2.0",
      "model_name": "LayoutModel",
      "state": {
       "_model_module": "@jupyter-widgets/base",
       "_model_module_version": "1.2.0",
       "_model_name": "LayoutModel",
       "_view_count": null,
       "_view_module": "@jupyter-widgets/base",
       "_view_module_version": "1.2.0",
       "_view_name": "LayoutView",
       "align_content": null,
       "align_items": null,
       "align_self": null,
       "border": null,
       "bottom": null,
       "display": null,
       "flex": null,
       "flex_flow": null,
       "grid_area": null,
       "grid_auto_columns": null,
       "grid_auto_flow": null,
       "grid_auto_rows": null,
       "grid_column": null,
       "grid_gap": null,
       "grid_row": null,
       "grid_template_areas": null,
       "grid_template_columns": null,
       "grid_template_rows": null,
       "height": null,
       "justify_content": null,
       "justify_items": null,
       "left": null,
       "margin": null,
       "max_height": null,
       "max_width": null,
       "min_height": null,
       "min_width": null,
       "object_fit": null,
       "object_position": null,
       "order": null,
       "overflow": null,
       "overflow_x": null,
       "overflow_y": null,
       "padding": null,
       "right": null,
       "top": null,
       "visibility": null,
       "width": null
      }
     },
     "802e1a27ad24495c9d5533f882fc66e7": {
      "model_module": "@jupyter-widgets/controls",
      "model_module_version": "1.5.0",
      "model_name": "DescriptionStyleModel",
      "state": {
       "_model_module": "@jupyter-widgets/controls",
       "_model_module_version": "1.5.0",
       "_model_name": "DescriptionStyleModel",
       "_view_count": null,
       "_view_module": "@jupyter-widgets/base",
       "_view_module_version": "1.2.0",
       "_view_name": "StyleView",
       "description_width": ""
      }
     },
     "8573c7f52815486f86eee5e3bfd5256e": {
      "model_module": "@jupyter-widgets/controls",
      "model_module_version": "1.5.0",
      "model_name": "HTMLModel",
      "state": {
       "_dom_classes": [],
       "_model_module": "@jupyter-widgets/controls",
       "_model_module_version": "1.5.0",
       "_model_name": "HTMLModel",
       "_view_count": null,
       "_view_module": "@jupyter-widgets/controls",
       "_view_module_version": "1.5.0",
       "_view_name": "HTMLView",
       "description": "",
       "description_tooltip": null,
       "layout": "IPY_MODEL_53e502ab3b7447019d1684d52aca6d0b",
       "placeholder": "​",
       "style": "IPY_MODEL_39aebae767214a7dad74e84d37aad34f",
       "value": "<h3> Top Agencies using Transit Projects </h3>"
      }
     },
     "902a46d0eeb442d39484d3d51160103c": {
      "model_module": "@jupyter-widgets/controls",
      "model_module_version": "1.5.0",
      "model_name": "HTMLModel",
      "state": {
       "_dom_classes": [],
       "_model_module": "@jupyter-widgets/controls",
       "_model_module_version": "1.5.0",
       "_model_name": "HTMLModel",
       "_view_count": null,
       "_view_module": "@jupyter-widgets/controls",
       "_view_module_version": "1.5.0",
       "_view_name": "HTMLView",
       "description": "",
       "description_tooltip": null,
       "layout": "IPY_MODEL_386c72e625da41fe8adfe8b5fc80981b",
       "placeholder": "​",
       "style": "IPY_MODEL_cbadf9537d0842c6b110c247f4054a56",
       "value": "<style type=\"text/css\">\n#T_1b60b th {\n  text-align: center;\n}\n#T_1b60b_row0_col0, #T_1b60b_row0_col1, #T_1b60b_row0_col2, #T_1b60b_row1_col0, #T_1b60b_row1_col1, #T_1b60b_row1_col2, #T_1b60b_row2_col0, #T_1b60b_row2_col1, #T_1b60b_row2_col2, #T_1b60b_row3_col0, #T_1b60b_row3_col1, #T_1b60b_row3_col2, #T_1b60b_row4_col0, #T_1b60b_row4_col1, #T_1b60b_row4_col2 {\n  text-align: center;\n}\n</style>\n<table id=\"T_1b60b\">\n  <thead>\n    <tr>\n      <th id=\"T_1b60b_level0_col0\" class=\"col_heading level0 col0\" >Agency</th>\n      <th id=\"T_1b60b_level0_col1\" class=\"col_heading level0 col1\" >Infrastructure & Emergency Relief Obligations</th>\n      <th id=\"T_1b60b_level0_col2\" class=\"col_heading level0 col2\" >Percent Of Category</th>\n    </tr>\n  </thead>\n  <tbody>\n    <tr>\n      <td id=\"T_1b60b_row0_col0\" class=\"data row0 col0\" >San Joaquin County</td>\n      <td id=\"T_1b60b_row0_col1\" class=\"data row0 col1\" >178</td>\n      <td id=\"T_1b60b_row0_col2\" class=\"data row0 col2\" >$13.09</td>\n    </tr>\n    <tr>\n      <td id=\"T_1b60b_row1_col0\" class=\"data row1 col0\" >Stanislaus County</td>\n      <td id=\"T_1b60b_row1_col1\" class=\"data row1 col1\" >147</td>\n      <td id=\"T_1b60b_row1_col2\" class=\"data row1 col2\" >$10.81</td>\n    </tr>\n    <tr>\n      <td id=\"T_1b60b_row2_col0\" class=\"data row2 col0\" >Stockton</td>\n      <td id=\"T_1b60b_row2_col1\" class=\"data row2 col1\" >128</td>\n      <td id=\"T_1b60b_row2_col2\" class=\"data row2 col2\" >$9.41</td>\n    </tr>\n    <tr>\n      <td id=\"T_1b60b_row3_col0\" class=\"data row3 col0\" >Calaveras County</td>\n      <td id=\"T_1b60b_row3_col1\" class=\"data row3 col1\" >109</td>\n      <td id=\"T_1b60b_row3_col2\" class=\"data row3 col2\" >$8.01</td>\n    </tr>\n    <tr>\n      <td id=\"T_1b60b_row4_col0\" class=\"data row4 col0\" >Merced County</td>\n      <td id=\"T_1b60b_row4_col1\" class=\"data row4 col1\" >90</td>\n      <td id=\"T_1b60b_row4_col2\" class=\"data row4 col2\" >$6.62</td>\n    </tr>\n  </tbody>\n</table>\n"
      }
     },
     "91d2b99436e54af39c1359af37a98031": {
      "model_module": "@jupyter-widgets/controls",
      "model_module_version": "1.5.0",
      "model_name": "HTMLModel",
      "state": {
       "_dom_classes": [],
       "_model_module": "@jupyter-widgets/controls",
       "_model_module_version": "1.5.0",
       "_model_name": "HTMLModel",
       "_view_count": null,
       "_view_module": "@jupyter-widgets/controls",
       "_view_module_version": "1.5.0",
       "_view_name": "HTMLView",
       "description": "",
       "description_tooltip": null,
       "layout": "IPY_MODEL_20449c4ddc8d4ccebdd08f23070c36f0",
       "placeholder": "​",
       "style": "IPY_MODEL_f3d7fbfec5154ab39ede301294609f6c",
       "value": "<style type=\"text/css\">\n#T_47490 th {\n  text-align: center;\n}\n#T_47490_row0_col0, #T_47490_row0_col1, #T_47490_row0_col2, #T_47490_row1_col0, #T_47490_row1_col1, #T_47490_row1_col2, #T_47490_row2_col0, #T_47490_row2_col1, #T_47490_row2_col2, #T_47490_row3_col0, #T_47490_row3_col1, #T_47490_row3_col2, #T_47490_row4_col0, #T_47490_row4_col1, #T_47490_row4_col2 {\n  text-align: center;\n}\n</style>\n<table id=\"T_47490\">\n  <thead>\n    <tr>\n      <th id=\"T_47490_level0_col0\" class=\"col_heading level0 col0\" >Agency</th>\n      <th id=\"T_47490_level0_col1\" class=\"col_heading level0 col1\" >Bridge Obligations</th>\n      <th id=\"T_47490_level0_col2\" class=\"col_heading level0 col2\" >Percent Of Category</th>\n    </tr>\n  </thead>\n  <tbody>\n    <tr>\n      <td id=\"T_47490_row0_col0\" class=\"data row0 col0\" >San Joaquin County</td>\n      <td id=\"T_47490_row0_col1\" class=\"data row0 col1\" >85</td>\n      <td id=\"T_47490_row0_col2\" class=\"data row0 col2\" >$21.91</td>\n    </tr>\n    <tr>\n      <td id=\"T_47490_row1_col0\" class=\"data row1 col0\" >Merced County</td>\n      <td id=\"T_47490_row1_col1\" class=\"data row1 col1\" >61</td>\n      <td id=\"T_47490_row1_col2\" class=\"data row1 col2\" >$15.72</td>\n    </tr>\n    <tr>\n      <td id=\"T_47490_row2_col0\" class=\"data row2 col0\" >Stanislaus County</td>\n      <td id=\"T_47490_row2_col1\" class=\"data row2 col1\" >59</td>\n      <td id=\"T_47490_row2_col2\" class=\"data row2 col2\" >$15.21</td>\n    </tr>\n    <tr>\n      <td id=\"T_47490_row3_col0\" class=\"data row3 col0\" >Calaveras County</td>\n      <td id=\"T_47490_row3_col1\" class=\"data row3 col1\" >38</td>\n      <td id=\"T_47490_row3_col2\" class=\"data row3 col2\" >$9.79</td>\n    </tr>\n    <tr>\n      <td id=\"T_47490_row4_col0\" class=\"data row4 col0\" >Tuolumne County</td>\n      <td id=\"T_47490_row4_col1\" class=\"data row4 col1\" >38</td>\n      <td id=\"T_47490_row4_col2\" class=\"data row4 col2\" >$9.79</td>\n    </tr>\n  </tbody>\n</table>\n"
      }
     },
     "933d548f167d49509bdd24b4a855cd85": {
      "model_module": "@jupyter-widgets/controls",
      "model_module_version": "1.5.0",
      "model_name": "DescriptionStyleModel",
      "state": {
       "_model_module": "@jupyter-widgets/controls",
       "_model_module_version": "1.5.0",
       "_model_name": "DescriptionStyleModel",
       "_view_count": null,
       "_view_module": "@jupyter-widgets/base",
       "_view_module_version": "1.2.0",
       "_view_name": "StyleView",
       "description_width": ""
      }
     },
     "9f387f7819d04f0ebd95ba5334302e98": {
      "model_module": "@jupyter-widgets/controls",
      "model_module_version": "1.5.0",
      "model_name": "DescriptionStyleModel",
      "state": {
       "_model_module": "@jupyter-widgets/controls",
       "_model_module_version": "1.5.0",
       "_model_name": "DescriptionStyleModel",
       "_view_count": null,
       "_view_module": "@jupyter-widgets/base",
       "_view_module_version": "1.2.0",
       "_view_name": "StyleView",
       "description_width": ""
      }
     },
     "b0a5c7863ca944e5b5bfa697c9f12e06": {
      "model_module": "@jupyter-widgets/controls",
      "model_module_version": "1.5.0",
      "model_name": "HTMLModel",
      "state": {
       "_dom_classes": [],
       "_model_module": "@jupyter-widgets/controls",
       "_model_module_version": "1.5.0",
       "_model_name": "HTMLModel",
       "_view_count": null,
       "_view_module": "@jupyter-widgets/controls",
       "_view_module_version": "1.5.0",
       "_view_name": "HTMLView",
       "description": "",
       "description_tooltip": null,
       "layout": "IPY_MODEL_7a6ea8d01a7843449bde8fe52b21eddd",
       "placeholder": "​",
       "style": "IPY_MODEL_802e1a27ad24495c9d5533f882fc66e7",
       "value": "<h3> Top Agencies using Street Projects </h3>"
      }
     },
     "bf2cec0183b34e1f89b7b19aae6ff1a0": {
      "model_module": "@jupyter-widgets/controls",
      "model_module_version": "1.5.0",
      "model_name": "DescriptionStyleModel",
      "state": {
       "_model_module": "@jupyter-widgets/controls",
       "_model_module_version": "1.5.0",
       "_model_name": "DescriptionStyleModel",
       "_view_count": null,
       "_view_module": "@jupyter-widgets/base",
       "_view_module_version": "1.2.0",
       "_view_name": "StyleView",
       "description_width": ""
      }
     },
     "cbadf9537d0842c6b110c247f4054a56": {
      "model_module": "@jupyter-widgets/controls",
      "model_module_version": "1.5.0",
      "model_name": "DescriptionStyleModel",
      "state": {
       "_model_module": "@jupyter-widgets/controls",
       "_model_module_version": "1.5.0",
       "_model_name": "DescriptionStyleModel",
       "_view_count": null,
       "_view_module": "@jupyter-widgets/base",
       "_view_module_version": "1.2.0",
       "_view_name": "StyleView",
       "description_width": ""
      }
     },
     "d6d78204209644d18ee7d2e2eb185b28": {
      "model_module": "@jupyter-widgets/base",
      "model_module_version": "1.2.0",
      "model_name": "LayoutModel",
      "state": {
       "_model_module": "@jupyter-widgets/base",
       "_model_module_version": "1.2.0",
       "_model_name": "LayoutModel",
       "_view_count": null,
       "_view_module": "@jupyter-widgets/base",
       "_view_module_version": "1.2.0",
       "_view_name": "LayoutView",
       "align_content": null,
       "align_items": null,
       "align_self": null,
       "border": null,
       "bottom": null,
       "display": null,
       "flex": null,
       "flex_flow": null,
       "grid_area": null,
       "grid_auto_columns": null,
       "grid_auto_flow": null,
       "grid_auto_rows": null,
       "grid_column": null,
       "grid_gap": null,
       "grid_row": null,
       "grid_template_areas": null,
       "grid_template_columns": null,
       "grid_template_rows": null,
       "height": null,
       "justify_content": null,
       "justify_items": null,
       "left": null,
       "margin": null,
       "max_height": null,
       "max_width": null,
       "min_height": null,
       "min_width": null,
       "object_fit": null,
       "object_position": null,
       "order": null,
       "overflow": null,
       "overflow_x": null,
       "overflow_y": null,
       "padding": null,
       "right": null,
       "top": null,
       "visibility": null,
       "width": null
      }
     },
     "d9babafc139c4ca98a59e59a775576cb": {
      "model_module": "@jupyter-widgets/controls",
      "model_module_version": "1.5.0",
      "model_name": "HTMLModel",
      "state": {
       "_dom_classes": [],
       "_model_module": "@jupyter-widgets/controls",
       "_model_module_version": "1.5.0",
       "_model_name": "HTMLModel",
       "_view_count": null,
       "_view_module": "@jupyter-widgets/controls",
       "_view_module_version": "1.5.0",
       "_view_name": "HTMLView",
       "description": "",
       "description_tooltip": null,
       "layout": "IPY_MODEL_fc3925e87e514ea0be5de8dc478a2d99",
       "placeholder": "​",
       "style": "IPY_MODEL_f98357cc422a4465b3d5d6d2b852e8aa",
       "value": "<h3> Top Agencies using Infrastructure & Emergency Relief Projects </h3>"
      }
     },
     "dddae8b428a54dde9e2a704d8acb425c": {
      "model_module": "@jupyter-widgets/base",
      "model_module_version": "1.2.0",
      "model_name": "LayoutModel",
      "state": {
       "_model_module": "@jupyter-widgets/base",
       "_model_module_version": "1.2.0",
       "_model_name": "LayoutModel",
       "_view_count": null,
       "_view_module": "@jupyter-widgets/base",
       "_view_module_version": "1.2.0",
       "_view_name": "LayoutView",
       "align_content": null,
       "align_items": null,
       "align_self": null,
       "border": null,
       "bottom": null,
       "display": null,
       "flex": null,
       "flex_flow": null,
       "grid_area": null,
       "grid_auto_columns": null,
       "grid_auto_flow": null,
       "grid_auto_rows": null,
       "grid_column": null,
       "grid_gap": null,
       "grid_row": null,
       "grid_template_areas": null,
       "grid_template_columns": null,
       "grid_template_rows": null,
       "height": null,
       "justify_content": null,
       "justify_items": null,
       "left": null,
       "margin": null,
       "max_height": null,
       "max_width": null,
       "min_height": null,
       "min_width": null,
       "object_fit": null,
       "object_position": null,
       "order": null,
       "overflow": null,
       "overflow_x": null,
       "overflow_y": null,
       "padding": null,
       "right": null,
       "top": null,
       "visibility": null,
       "width": null
      }
     },
     "e0420d4b74de4a30b9853a086c710c96": {
      "model_module": "@jupyter-widgets/base",
      "model_module_version": "1.2.0",
      "model_name": "LayoutModel",
      "state": {
       "_model_module": "@jupyter-widgets/base",
       "_model_module_version": "1.2.0",
       "_model_name": "LayoutModel",
       "_view_count": null,
       "_view_module": "@jupyter-widgets/base",
       "_view_module_version": "1.2.0",
       "_view_name": "LayoutView",
       "align_content": null,
       "align_items": null,
       "align_self": null,
       "border": null,
       "bottom": null,
       "display": null,
       "flex": null,
       "flex_flow": null,
       "grid_area": null,
       "grid_auto_columns": null,
       "grid_auto_flow": null,
       "grid_auto_rows": null,
       "grid_column": null,
       "grid_gap": null,
       "grid_row": null,
       "grid_template_areas": null,
       "grid_template_columns": null,
       "grid_template_rows": null,
       "height": null,
       "justify_content": null,
       "justify_items": null,
       "left": null,
       "margin": null,
       "max_height": null,
       "max_width": null,
       "min_height": null,
       "min_width": null,
       "object_fit": null,
       "object_position": null,
       "order": null,
       "overflow": null,
       "overflow_x": null,
       "overflow_y": null,
       "padding": null,
       "right": null,
       "top": null,
       "visibility": null,
       "width": null
      }
     },
     "e373aab8af9845c2aa2ca99a51e047e6": {
      "model_module": "@jupyter-widgets/controls",
      "model_module_version": "1.5.0",
      "model_name": "DescriptionStyleModel",
      "state": {
       "_model_module": "@jupyter-widgets/controls",
       "_model_module_version": "1.5.0",
       "_model_name": "DescriptionStyleModel",
       "_view_count": null,
       "_view_module": "@jupyter-widgets/base",
       "_view_module_version": "1.2.0",
       "_view_name": "StyleView",
       "description_width": ""
      }
     },
     "e93a937e058b4dbdbea81079dd7d10ad": {
      "model_module": "@jupyter-widgets/controls",
      "model_module_version": "1.5.0",
      "model_name": "DescriptionStyleModel",
      "state": {
       "_model_module": "@jupyter-widgets/controls",
       "_model_module_version": "1.5.0",
       "_model_name": "DescriptionStyleModel",
       "_view_count": null,
       "_view_module": "@jupyter-widgets/base",
       "_view_module_version": "1.2.0",
       "_view_name": "StyleView",
       "description_width": ""
      }
     },
     "eed948c16bc74f408dca7c52fffefa29": {
      "model_module": "@jupyter-widgets/controls",
      "model_module_version": "1.5.0",
      "model_name": "HTMLModel",
      "state": {
       "_dom_classes": [],
       "_model_module": "@jupyter-widgets/controls",
       "_model_module_version": "1.5.0",
       "_model_name": "HTMLModel",
       "_view_count": null,
       "_view_module": "@jupyter-widgets/controls",
       "_view_module_version": "1.5.0",
       "_view_name": "HTMLView",
       "description": "",
       "description_tooltip": null,
       "layout": "IPY_MODEL_4cd6d5f2cb604b08ac4be4408574a64f",
       "placeholder": "​",
       "style": "IPY_MODEL_bf2cec0183b34e1f89b7b19aae6ff1a0",
       "value": "<h3> Top Agencies using Congestion Relief Projects </h3>"
      }
     },
     "f3d7fbfec5154ab39ede301294609f6c": {
      "model_module": "@jupyter-widgets/controls",
      "model_module_version": "1.5.0",
      "model_name": "DescriptionStyleModel",
      "state": {
       "_model_module": "@jupyter-widgets/controls",
       "_model_module_version": "1.5.0",
       "_model_name": "DescriptionStyleModel",
       "_view_count": null,
       "_view_module": "@jupyter-widgets/base",
       "_view_module_version": "1.2.0",
       "_view_name": "StyleView",
       "description_width": ""
      }
     },
     "f79bb34aa891414aa3b815888cdac3a5": {
      "model_module": "@jupyter-widgets/controls",
      "model_module_version": "1.5.0",
      "model_name": "HTMLModel",
      "state": {
       "_dom_classes": [],
       "_model_module": "@jupyter-widgets/controls",
       "_model_module_version": "1.5.0",
       "_model_name": "HTMLModel",
       "_view_count": null,
       "_view_module": "@jupyter-widgets/controls",
       "_view_module_version": "1.5.0",
       "_view_name": "HTMLView",
       "description": "",
       "description_tooltip": null,
       "layout": "IPY_MODEL_4a9d60160cb54cd6a1b7e83aeaab0562",
       "placeholder": "​",
       "style": "IPY_MODEL_933d548f167d49509bdd24b4a855cd85",
       "value": "<h3> Top Agencies using Active Transportation Projects </h3>"
      }
     },
     "f98357cc422a4465b3d5d6d2b852e8aa": {
      "model_module": "@jupyter-widgets/controls",
      "model_module_version": "1.5.0",
      "model_name": "DescriptionStyleModel",
      "state": {
       "_model_module": "@jupyter-widgets/controls",
       "_model_module_version": "1.5.0",
       "_model_name": "DescriptionStyleModel",
       "_view_count": null,
       "_view_module": "@jupyter-widgets/base",
       "_view_module_version": "1.2.0",
       "_view_name": "StyleView",
       "description_width": ""
      }
     },
     "fada167aef8541a8ac367ba8c949e0ec": {
      "model_module": "@jupyter-widgets/controls",
      "model_module_version": "1.5.0",
      "model_name": "DescriptionStyleModel",
      "state": {
       "_model_module": "@jupyter-widgets/controls",
       "_model_module_version": "1.5.0",
       "_model_name": "DescriptionStyleModel",
       "_view_count": null,
       "_view_module": "@jupyter-widgets/base",
       "_view_module_version": "1.2.0",
       "_view_name": "StyleView",
       "description_width": ""
      }
     },
     "fbeca25afb4b4256b91668a32ede4b61": {
      "model_module": "@jupyter-widgets/controls",
      "model_module_version": "1.5.0",
      "model_name": "HTMLModel",
      "state": {
       "_dom_classes": [],
       "_model_module": "@jupyter-widgets/controls",
       "_model_module_version": "1.5.0",
       "_model_name": "HTMLModel",
       "_view_count": null,
       "_view_module": "@jupyter-widgets/controls",
       "_view_module_version": "1.5.0",
       "_view_name": "HTMLView",
       "description": "",
       "description_tooltip": null,
       "layout": "IPY_MODEL_e0420d4b74de4a30b9853a086c710c96",
       "placeholder": "​",
       "style": "IPY_MODEL_fada167aef8541a8ac367ba8c949e0ec",
       "value": "<h3> Top Agencies using Bridge Projects </h3>"
      }
     },
     "fc3925e87e514ea0be5de8dc478a2d99": {
      "model_module": "@jupyter-widgets/base",
      "model_module_version": "1.2.0",
      "model_name": "LayoutModel",
      "state": {
       "_model_module": "@jupyter-widgets/base",
       "_model_module_version": "1.2.0",
       "_model_name": "LayoutModel",
       "_view_count": null,
       "_view_module": "@jupyter-widgets/base",
       "_view_module_version": "1.2.0",
       "_view_name": "LayoutView",
       "align_content": null,
       "align_items": null,
       "align_self": null,
       "border": null,
       "bottom": null,
       "display": null,
       "flex": null,
       "flex_flow": null,
       "grid_area": null,
       "grid_auto_columns": null,
       "grid_auto_flow": null,
       "grid_auto_rows": null,
       "grid_column": null,
       "grid_gap": null,
       "grid_row": null,
       "grid_template_areas": null,
       "grid_template_columns": null,
       "grid_template_rows": null,
       "height": null,
       "justify_content": null,
       "justify_items": null,
       "left": null,
       "margin": null,
       "max_height": null,
       "max_width": null,
       "min_height": null,
       "min_width": null,
       "object_fit": null,
       "object_position": null,
       "order": null,
       "overflow": null,
       "overflow_x": null,
       "overflow_y": null,
       "padding": null,
       "right": null,
       "top": null,
       "visibility": null,
       "width": null
      }
     }
    },
    "version_major": 2,
    "version_minor": 0
   }
  }
 },
 "nbformat": 4,
 "nbformat_minor": 5
}