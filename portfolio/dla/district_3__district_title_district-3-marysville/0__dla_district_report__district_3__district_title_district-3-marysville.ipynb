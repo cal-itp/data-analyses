{
 "cells": [
  {
   "cell_type": "markdown",
   "id": "c52ac033",
   "metadata": {
    "papermill": {
     "duration": 0.019363,
     "end_time": "2022-06-02T22:22:46.902749",
     "exception": false,
     "start_time": "2022-06-02T22:22:46.883386",
     "status": "completed"
    },
    "pycharm": {
     "name": "#%% md\n"
    },
    "tags": []
   },
   "source": [
    "# **District 3 - Marysville**"
   ]
  },
  {
   "cell_type": "markdown",
   "id": "69a79097-e42c-4e22-aec5-62594d3f008f",
   "metadata": {
    "papermill": {
     "duration": 0.018523,
     "end_time": "2022-06-02T22:22:46.941949",
     "exception": false,
     "start_time": "2022-06-02T22:22:46.923426",
     "status": "completed"
    },
    "tags": []
   },
   "source": [
    "<hr style=\"height: 2px; background-color:#136C97; border: none\">\n"
   ]
  },
  {
   "cell_type": "markdown",
   "id": "178948e4-f2ee-4978-87a6-e2eb560b0feb",
   "metadata": {
    "papermill": {
     "duration": 0.018755,
     "end_time": "2022-06-02T22:22:46.978929",
     "exception": false,
     "start_time": "2022-06-02T22:22:46.960174",
     "status": "completed"
    },
    "tags": []
   },
   "source": [
    "How does funding for local agencies differ district to district? Using E-76 obligation data, we can gain insight to how agencies in District 3 use federal program funds, and help identify DLA‘s core customers."
   ]
  },
  {
   "cell_type": "code",
   "execution_count": 1,
   "id": "92c5c56a",
   "metadata": {
    "collapsed": false,
    "execution": {
     "iopub.execute_input": "2022-06-02T22:22:47.019514Z",
     "iopub.status.busy": "2022-06-02T22:22:47.018956Z",
     "iopub.status.idle": "2022-06-02T22:22:56.852391Z",
     "shell.execute_reply": "2022-06-02T22:22:56.851367Z"
    },
    "jupyter": {
     "source_hidden": true
    },
    "papermill": {
     "duration": 9.858293,
     "end_time": "2022-06-02T22:22:56.855122",
     "exception": false,
     "start_time": "2022-06-02T22:22:46.996829",
     "status": "completed"
    },
    "pycharm": {
     "name": "#%%\n"
    },
    "tags": [
     "remove_input"
    ]
   },
   "outputs": [],
   "source": [
    "%%capture\n",
    "\n",
    "import numpy as np\n",
    "import pandas as pd\n",
    "from siuba import *\n",
    "\n",
    "import altair as alt\n",
    "import altair_saver\n",
    "from plotnine import *\n",
    "\n",
    "from IPython.display import Markdown, HTML, Image\n",
    "import ipywidgets as widgets\n",
    "from ipywidgets import interact, interactive\n",
    "\n",
    "from calitp import to_snakecase\n",
    "import intake\n",
    "\n",
    "from shared_utils import altair_utils\n",
    "from shared_utils import styleguide\n",
    "\n",
    "from dla_utils import _dla_utils\n"
   ]
  },
  {
   "cell_type": "code",
   "execution_count": 2,
   "id": "82cf8245-73d2-4ed3-93cf-7ee01661b024",
   "metadata": {
    "execution": {
     "iopub.execute_input": "2022-06-02T22:22:56.895327Z",
     "iopub.status.busy": "2022-06-02T22:22:56.894707Z",
     "iopub.status.idle": "2022-06-02T22:22:56.899248Z",
     "shell.execute_reply": "2022-06-02T22:22:56.898662Z"
    },
    "jupyter": {
     "source_hidden": true
    },
    "papermill": {
     "duration": 0.026432,
     "end_time": "2022-06-02T22:22:56.901027",
     "exception": false,
     "start_time": "2022-06-02T22:22:56.874595",
     "status": "completed"
    },
    "tags": [
     "parameters",
     "remove_input"
    ]
   },
   "outputs": [],
   "source": [
    "#Parameter Cell\n",
    "\n",
    "district = 4"
   ]
  },
  {
   "cell_type": "code",
   "execution_count": 3,
   "id": "24dd5b39",
   "metadata": {
    "execution": {
     "iopub.execute_input": "2022-06-02T22:22:56.941683Z",
     "iopub.status.busy": "2022-06-02T22:22:56.941363Z",
     "iopub.status.idle": "2022-06-02T22:22:56.945153Z",
     "shell.execute_reply": "2022-06-02T22:22:56.944342Z"
    },
    "jupyter": {
     "source_hidden": true
    },
    "papermill": {
     "duration": 0.027261,
     "end_time": "2022-06-02T22:22:56.946933",
     "exception": false,
     "start_time": "2022-06-02T22:22:56.919672",
     "status": "completed"
    },
    "tags": [
     "injected-parameters",
     "remove_input"
    ]
   },
   "outputs": [],
   "source": [
    "# Parameters\n",
    "district = 3\n",
    "district_title = \"District 3 - Marysville\"\n"
   ]
  },
  {
   "cell_type": "code",
   "execution_count": 4,
   "id": "948b2b4f-ef9b-48ff-b109-e7b76361066c",
   "metadata": {
    "execution": {
     "iopub.execute_input": "2022-06-02T22:22:56.987814Z",
     "iopub.status.busy": "2022-06-02T22:22:56.987265Z",
     "iopub.status.idle": "2022-06-02T22:22:57.555328Z",
     "shell.execute_reply": "2022-06-02T22:22:57.554582Z"
    },
    "jupyter": {
     "source_hidden": true
    },
    "papermill": {
     "duration": 0.59392,
     "end_time": "2022-06-02T22:22:57.559766",
     "exception": false,
     "start_time": "2022-06-02T22:22:56.965846",
     "status": "completed"
    },
    "tags": [
     "remove_input"
    ]
   },
   "outputs": [],
   "source": [
    "df= pd.read_parquet(\"gs://calitp-analytics-data/data-analyses/dla/e-76Obligated/dla_df.parquet\")\n"
   ]
  },
  {
   "cell_type": "code",
   "execution_count": 5,
   "id": "be910f27-7608-4522-8d8d-ef93611cb748",
   "metadata": {
    "execution": {
     "iopub.execute_input": "2022-06-02T22:22:57.615324Z",
     "iopub.status.busy": "2022-06-02T22:22:57.615022Z",
     "iopub.status.idle": "2022-06-02T22:22:57.719442Z",
     "shell.execute_reply": "2022-06-02T22:22:57.718511Z"
    },
    "jupyter": {
     "source_hidden": true
    },
    "papermill": {
     "duration": 0.126151,
     "end_time": "2022-06-02T22:22:57.721594",
     "exception": false,
     "start_time": "2022-06-02T22:22:57.595443",
     "status": "completed"
    },
    "tags": [
     "remove_input"
    ]
   },
   "outputs": [],
   "source": [
    "df = (df>>filter(_.dist==district))\n",
    "    \n",
    "    \n",
    "#subsetting the data\n",
    "df_years = _dla_utils.count_all_years(df)\n",
    "df_top = _dla_utils.find_top(df)\n",
    "    "
   ]
  },
  {
   "cell_type": "code",
   "execution_count": 6,
   "id": "a5850431-4942-45ef-a3ea-6cb3f07d628e",
   "metadata": {
    "execution": {
     "iopub.execute_input": "2022-06-02T22:22:57.762428Z",
     "iopub.status.busy": "2022-06-02T22:22:57.761473Z",
     "iopub.status.idle": "2022-06-02T22:22:57.768278Z",
     "shell.execute_reply": "2022-06-02T22:22:57.767735Z"
    },
    "jupyter": {
     "source_hidden": true
    },
    "papermill": {
     "duration": 0.029792,
     "end_time": "2022-06-02T22:22:57.770201",
     "exception": false,
     "start_time": "2022-06-02T22:22:57.740409",
     "status": "completed"
    },
    "tags": [
     "remove_input"
    ]
   },
   "outputs": [],
   "source": [
    "df['prepared_y'] = df['prepared_y'].map('{:.0f}'.format)"
   ]
  },
  {
   "cell_type": "code",
   "execution_count": 7,
   "id": "7f5ac0a1-a951-4072-8f85-d2c90290907f",
   "metadata": {
    "execution": {
     "iopub.execute_input": "2022-06-02T22:22:57.813263Z",
     "iopub.status.busy": "2022-06-02T22:22:57.812969Z",
     "iopub.status.idle": "2022-06-02T22:22:58.119848Z",
     "shell.execute_reply": "2022-06-02T22:22:58.118817Z"
    },
    "jupyter": {
     "source_hidden": true
    },
    "papermill": {
     "duration": 0.329553,
     "end_time": "2022-06-02T22:22:58.123427",
     "exception": false,
     "start_time": "2022-06-02T22:22:57.793874",
     "status": "completed"
    },
    "tags": [
     "remove_input"
    ]
   },
   "outputs": [
    {
     "data": {
      "text/html": [
       "<h3>Quick Stats</h3>"
      ],
      "text/plain": [
       "<IPython.core.display.HTML object>"
      ]
     },
     "metadata": {},
     "output_type": "display_data"
    },
    {
     "data": {
      "text/html": [
       "There are <strong>62 Unique Agencies</strong>"
      ],
      "text/plain": [
       "<IPython.core.display.HTML object>"
      ]
     },
     "metadata": {},
     "output_type": "display_data"
    },
    {
     "data": {
      "text/html": [
       "Out of <strong>2,660</strong> obligations, <strong>19 have transit-related</strong> project types<br><strong>Tahoe Transportation District</strong> has the <strong>highest transit</strong> obligations"
      ],
      "text/plain": [
       "<IPython.core.display.HTML object>"
      ]
     },
     "metadata": {},
     "output_type": "display_data"
    },
    {
     "data": {
      "text/html": [
       "There are <strong>4 agencies have over 178.45</strong> obligations (95th percentile) since 2013"
      ],
      "text/plain": [
       "<IPython.core.display.HTML object>"
      ]
     },
     "metadata": {},
     "output_type": "display_data"
    },
    {
     "data": {
      "text/html": [
       "There are <strong>7 agencies have less than 3.10</strong> obligations (5th percentile) since 2013"
      ],
      "text/plain": [
       "<IPython.core.display.HTML object>"
      ]
     },
     "metadata": {},
     "output_type": "display_data"
    },
    {
     "data": {
      "text/html": [
       "<h4>Number of Unique Prefix Codes by Agency</h4>"
      ],
      "text/plain": [
       "<IPython.core.display.HTML object>"
      ]
     },
     "metadata": {},
     "output_type": "display_data"
    },
    {
     "data": {
      "text/html": [
       "<style type=\"text/css\">\n",
       "#T_34163 th {\n",
       "  text-align: center;\n",
       "}\n",
       "#T_34163_row0_col0, #T_34163_row0_col1, #T_34163_row1_col0, #T_34163_row1_col1, #T_34163_row2_col0, #T_34163_row2_col1, #T_34163_row3_col0, #T_34163_row3_col1, #T_34163_row4_col0, #T_34163_row4_col1 {\n",
       "  text-align: center;\n",
       "}\n",
       "</style>\n",
       "<table id=\"T_34163\">\n",
       "  <thead>\n",
       "    <tr>\n",
       "      <th id=\"T_34163_level0_col0\" class=\"col_heading level0 col0\" >Agency</th>\n",
       "      <th id=\"T_34163_level0_col1\" class=\"col_heading level0 col1\" >Number Of Unqiue Prefix Codes</th>\n",
       "    </tr>\n",
       "  </thead>\n",
       "  <tbody>\n",
       "    <tr>\n",
       "      <td id=\"T_34163_row0_col0\" class=\"data row0 col0\" >El Dorado County</td>\n",
       "      <td id=\"T_34163_row0_col1\" class=\"data row0 col1\" >21</td>\n",
       "    </tr>\n",
       "    <tr>\n",
       "      <td id=\"T_34163_row1_col0\" class=\"data row1 col0\" >Sacramento</td>\n",
       "      <td id=\"T_34163_row1_col1\" class=\"data row1 col1\" >19</td>\n",
       "    </tr>\n",
       "    <tr>\n",
       "      <td id=\"T_34163_row2_col0\" class=\"data row2 col0\" >Sacramento County</td>\n",
       "      <td id=\"T_34163_row2_col1\" class=\"data row2 col1\" >18</td>\n",
       "    </tr>\n",
       "    <tr>\n",
       "      <td id=\"T_34163_row3_col0\" class=\"data row3 col0\" >Placer County</td>\n",
       "      <td id=\"T_34163_row3_col1\" class=\"data row3 col1\" >14</td>\n",
       "    </tr>\n",
       "    <tr>\n",
       "      <td id=\"T_34163_row4_col0\" class=\"data row4 col0\" >Butte County</td>\n",
       "      <td id=\"T_34163_row4_col1\" class=\"data row4 col1\" >13</td>\n",
       "    </tr>\n",
       "  </tbody>\n",
       "</table>\n"
      ],
      "text/plain": [
       "<IPython.core.display.HTML object>"
      ]
     },
     "metadata": {},
     "output_type": "display_data"
    },
    {
     "data": {
      "text/html": [
       "<h4>Number of Unique Agencies by Prefix Codes</h4>"
      ],
      "text/plain": [
       "<IPython.core.display.HTML object>"
      ]
     },
     "metadata": {},
     "output_type": "display_data"
    },
    {
     "data": {
      "text/html": [
       "<style type=\"text/css\">\n",
       "#T_96979 th {\n",
       "  text-align: center;\n",
       "}\n",
       "#T_96979_row0_col0, #T_96979_row0_col1, #T_96979_row1_col0, #T_96979_row1_col1, #T_96979_row2_col0, #T_96979_row2_col1, #T_96979_row3_col0, #T_96979_row3_col1, #T_96979_row4_col0, #T_96979_row4_col1 {\n",
       "  text-align: center;\n",
       "}\n",
       "</style>\n",
       "<table id=\"T_96979\">\n",
       "  <thead>\n",
       "    <tr>\n",
       "      <th id=\"T_96979_level0_col0\" class=\"col_heading level0 col0\" >Prefix</th>\n",
       "      <th id=\"T_96979_level0_col1\" class=\"col_heading level0 col1\" >Number Of Unqiue Agencies</th>\n",
       "    </tr>\n",
       "  </thead>\n",
       "  <tbody>\n",
       "    <tr>\n",
       "      <td id=\"T_96979_row0_col0\" class=\"data row0 col0\" >CML</td>\n",
       "      <td id=\"T_96979_row0_col1\" class=\"data row0 col1\" >34</td>\n",
       "    </tr>\n",
       "    <tr>\n",
       "      <td id=\"T_96979_row1_col0\" class=\"data row1 col0\" >STPL</td>\n",
       "      <td id=\"T_96979_row1_col1\" class=\"data row1 col1\" >27</td>\n",
       "    </tr>\n",
       "    <tr>\n",
       "      <td id=\"T_96979_row2_col0\" class=\"data row2 col0\" >HSIPL</td>\n",
       "      <td id=\"T_96979_row2_col1\" class=\"data row2 col1\" >24</td>\n",
       "    </tr>\n",
       "    <tr>\n",
       "      <td id=\"T_96979_row3_col0\" class=\"data row3 col0\" >RPSTPL</td>\n",
       "      <td id=\"T_96979_row3_col1\" class=\"data row3 col1\" >17</td>\n",
       "    </tr>\n",
       "    <tr>\n",
       "      <td id=\"T_96979_row4_col0\" class=\"data row4 col0\" >BRLO</td>\n",
       "      <td id=\"T_96979_row4_col1\" class=\"data row4 col1\" >16</td>\n",
       "    </tr>\n",
       "  </tbody>\n",
       "</table>\n"
      ],
      "text/plain": [
       "<IPython.core.display.HTML object>"
      ]
     },
     "metadata": {},
     "output_type": "display_data"
    },
    {
     "data": {
      "text/html": [
       "<h4>Top 5 Types of Work</h4>"
      ],
      "text/plain": [
       "<IPython.core.display.HTML object>"
      ]
     },
     "metadata": {},
     "output_type": "display_data"
    },
    {
     "data": {
      "text/html": [
       "<style type=\"text/css\">\n",
       "#T_acc73 th {\n",
       "  text-align: center;\n",
       "}\n",
       "#T_acc73_row0_col0, #T_acc73_row1_col0, #T_acc73_row2_col0, #T_acc73_row3_col0, #T_acc73_row4_col0 {\n",
       "  text-align: center;\n",
       "}\n",
       "</style>\n",
       "<table id=\"T_acc73\">\n",
       "  <thead>\n",
       "    <tr>\n",
       "      <th id=\"T_acc73_level0_col0\" class=\"col_heading level0 col0\" >Type Of Work</th>\n",
       "    </tr>\n",
       "  </thead>\n",
       "  <tbody>\n",
       "    <tr>\n",
       "      <td id=\"T_acc73_row0_col0\" class=\"data row0 col0\" >Bridge Replacement (tc)</td>\n",
       "    </tr>\n",
       "    <tr>\n",
       "      <td id=\"T_acc73_row1_col0\" class=\"data row1 col0\" >Bridge Replacement</td>\n",
       "    </tr>\n",
       "    <tr>\n",
       "      <td id=\"T_acc73_row2_col0\" class=\"data row2 col0\" >FTA Transfer</td>\n",
       "    </tr>\n",
       "    <tr>\n",
       "      <td id=\"T_acc73_row3_col0\" class=\"data row3 col0\" >Bridge Rehabilitation</td>\n",
       "    </tr>\n",
       "    <tr>\n",
       "      <td id=\"T_acc73_row4_col0\" class=\"data row4 col0\" >Bridge Rehabilitation (tc)</td>\n",
       "    </tr>\n",
       "  </tbody>\n",
       "</table>\n"
      ],
      "text/plain": [
       "<IPython.core.display.HTML object>"
      ]
     },
     "metadata": {},
     "output_type": "display_data"
    }
   ],
   "source": [
    "display(HTML(\"<h3>Quick Stats</h3>\"))\n",
    "\n",
    "display(\n",
    "    HTML(\n",
    "        f\"There are <strong>{(df.primary_agency_name.nunique())} Unique Agencies</strong>\"\n",
    "    )\n",
    ")\n",
    "\n",
    "transit = df >> filter(_.transit == 1)\n",
    "\n",
    "def find_transit(df):\n",
    "    if (len(transit)) == 0: \n",
    "        return display((HTML(f\"Out of <strong>{len(df):,}</strong> obligations,\" \n",
    "                             f\" there are <strong>0 transit realted</strong> project types\")))\n",
    "    \n",
    "    else:\n",
    "        return display(\n",
    "            HTML(\n",
    "                f\"Out of <strong>{len(df):,}</strong> obligations, <strong>{len(transit)} have \"\n",
    "                f\"transit-related</strong> project types\"\n",
    "                f\"<br><strong>{(transit>>count(_.primary_agency_name)>>arrange(-_.n)).iloc[0, 0]}</strong> \"\n",
    "                f\"has the <strong>highest transit</strong> obligations\"\n",
    "            ))\n",
    "    \n",
    "find_transit(df)\n",
    "\n",
    "q = df >> count(_.primary_agency_name) >> arrange(_.n)\n",
    "\n",
    "q2 = q.n.quantile(0.95)\n",
    "\n",
    "display(\n",
    "    HTML(\n",
    "        f\"There are <strong>{len(q>>filter(_.n> (q2)))} agencies have over {('%.2f'%(q2))}</strong> \" \n",
    "        f\"obligations (95th percentile) since {(df.prepared_y.min())}\"\n",
    "    )\n",
    ")\n",
    "\n",
    "q3 = q.n.quantile(0.1)\n",
    "display(\n",
    "    HTML(\n",
    "        (\n",
    "            f\"There are <strong>{len(q>>filter(_.n< (q3)))} agencies have less than\"\n",
    "            f\" {('%.2f'%(q3))}</strong> obligations (5th percentile) since {(df.prepared_y.min())}\"\n",
    "        )\n",
    "    )\n",
    ")\n",
    "\n",
    "## tables\n",
    "display(HTML(\"<h4>Number of Unique Prefix Codes by Agency</h4>\"))\n",
    "nunique_prefix_codes = ((_dla_utils.get_nunique(df, \"prefix\", \"primary_agency_name\"))\n",
    "                        .rename(columns={\"primary_agency_name\": \"Agency\", \"n\": \"Number of Unqiue Prefix Codes\"})\n",
    "                        .head(5))\n",
    "display(HTML(_dla_utils.pretify_tables(nunique_prefix_codes)))\n",
    "\n",
    "display(HTML(\"<h4>Number of Unique Agencies by Prefix Codes</h4>\"))\n",
    "prefix_codes = ((_dla_utils.get_nunique(df, \"primary_agency_name\", \"prefix\"))\n",
    "                .rename(columns={\"prefix\": \"Prefix\", \"n\": \"Number of Unqiue Agencies\"})\n",
    "                .head(5))\n",
    "display(HTML(_dla_utils.pretify_tables(prefix_codes)))\n",
    "\n",
    "\n",
    "display(HTML(\"<h4>Top 5 Types of Work</h4>\"))\n",
    "work_types = (\n",
    "    (df >> count(_.type_of_work) >> arrange(-_.n) >> select(_.type_of_work))\n",
    "    .rename(columns={\"type_of_work\": \"Type of Work\"})\n",
    "    .head(5)\n",
    ")\n",
    "display(HTML(_dla_utils.pretify_tables(work_types)))\n",
    "# get rid of index using:\n",
    "## https://stackoverflow.com/questions/24644656/how-to-print-pandas-dataframe-without-index\n"
   ]
  },
  {
   "cell_type": "markdown",
   "id": "52a161a2-876a-4b42-9c93-3221dce17638",
   "metadata": {
    "papermill": {
     "duration": 0.039132,
     "end_time": "2022-06-02T22:22:58.204003",
     "exception": false,
     "start_time": "2022-06-02T22:22:58.164871",
     "status": "completed"
    },
    "tags": []
   },
   "source": [
    "## Obligations"
   ]
  },
  {
   "cell_type": "markdown",
   "id": "c9d55b3c-f6b6-4980-957c-77d458068fe3",
   "metadata": {
    "papermill": {
     "duration": 0.037394,
     "end_time": "2022-06-02T22:22:58.277827",
     "exception": false,
     "start_time": "2022-06-02T22:22:58.240433",
     "status": "completed"
    },
    "tags": []
   },
   "source": [
    "<hr style=\"height: 2px; background-color:#136C97; border: none\">"
   ]
  },
  {
   "cell_type": "markdown",
   "id": "379b61e3-1c1b-4683-b78f-8dee0683f064",
   "metadata": {
    "papermill": {
     "duration": 0.036581,
     "end_time": "2022-06-02T22:22:58.351316",
     "exception": false,
     "start_time": "2022-06-02T22:22:58.314735",
     "status": "completed"
    },
    "tags": []
   },
   "source": [
    "Obligations indicate a unique entry in the E-76 dataset. By counting the obligations for each year, district, and organization, we can see what the volume each as well which organizations are the most and last frequent customers. \n",
    "\n",
    "Metrics:\n",
    "* Obligations by Year\n",
    "* Number of Unique Agencies by District\n",
    "* Agencies With The Most Obligations"
   ]
  },
  {
   "cell_type": "markdown",
   "id": "81ad520b-db91-45b8-a598-a6577cccc24e",
   "metadata": {
    "papermill": {
     "duration": 0.025017,
     "end_time": "2022-06-02T22:22:58.399456",
     "exception": false,
     "start_time": "2022-06-02T22:22:58.374439",
     "status": "completed"
    },
    "tags": []
   },
   "source": [
    "### Number of Obligations by Year"
   ]
  },
  {
   "cell_type": "code",
   "execution_count": 8,
   "id": "ae85287b-0772-4595-8ea2-ccba83dd22cf",
   "metadata": {
    "execution": {
     "iopub.execute_input": "2022-06-02T22:22:58.447852Z",
     "iopub.status.busy": "2022-06-02T22:22:58.447494Z",
     "iopub.status.idle": "2022-06-02T22:22:58.488762Z",
     "shell.execute_reply": "2022-06-02T22:22:58.487796Z"
    },
    "jupyter": {
     "source_hidden": true
    },
    "papermill": {
     "duration": 0.071204,
     "end_time": "2022-06-02T22:22:58.492517",
     "exception": false,
     "start_time": "2022-06-02T22:22:58.421313",
     "status": "completed"
    },
    "tags": [
     "remove_input"
    ]
   },
   "outputs": [
    {
     "data": {
      "text/html": [
       "\n",
       "<div id=\"altair-viz-24dd8e35fd7d46dfb1361d92885f49bb\"></div>\n",
       "<script type=\"text/javascript\">\n",
       "  var VEGA_DEBUG = (typeof VEGA_DEBUG == \"undefined\") ? {} : VEGA_DEBUG;\n",
       "  (function(spec, embedOpt){\n",
       "    let outputDiv = document.currentScript.previousElementSibling;\n",
       "    if (outputDiv.id !== \"altair-viz-24dd8e35fd7d46dfb1361d92885f49bb\") {\n",
       "      outputDiv = document.getElementById(\"altair-viz-24dd8e35fd7d46dfb1361d92885f49bb\");\n",
       "    }\n",
       "    const paths = {\n",
       "      \"vega\": \"https://cdn.jsdelivr.net/npm//vega@5?noext\",\n",
       "      \"vega-lib\": \"https://cdn.jsdelivr.net/npm//vega-lib?noext\",\n",
       "      \"vega-lite\": \"https://cdn.jsdelivr.net/npm//vega-lite@4.17.0?noext\",\n",
       "      \"vega-embed\": \"https://cdn.jsdelivr.net/npm//vega-embed@6?noext\",\n",
       "    };\n",
       "\n",
       "    function maybeLoadScript(lib, version) {\n",
       "      var key = `${lib.replace(\"-\", \"\")}_version`;\n",
       "      return (VEGA_DEBUG[key] == version) ?\n",
       "        Promise.resolve(paths[lib]) :\n",
       "        new Promise(function(resolve, reject) {\n",
       "          var s = document.createElement('script');\n",
       "          document.getElementsByTagName(\"head\")[0].appendChild(s);\n",
       "          s.async = true;\n",
       "          s.onload = () => {\n",
       "            VEGA_DEBUG[key] = version;\n",
       "            return resolve(paths[lib]);\n",
       "          };\n",
       "          s.onerror = () => reject(`Error loading script: ${paths[lib]}`);\n",
       "          s.src = paths[lib];\n",
       "        });\n",
       "    }\n",
       "\n",
       "    function showError(err) {\n",
       "      outputDiv.innerHTML = `<div class=\"error\" style=\"color:red;\">${err}</div>`;\n",
       "      throw err;\n",
       "    }\n",
       "\n",
       "    function displayChart(vegaEmbed) {\n",
       "      vegaEmbed(outputDiv, spec, embedOpt)\n",
       "        .catch(err => showError(`Javascript Error: ${err.message}<br>This usually means there's a typo in your chart specification. See the javascript console for the full traceback.`));\n",
       "    }\n",
       "\n",
       "    if(typeof define === \"function\" && define.amd) {\n",
       "      requirejs.config({paths});\n",
       "      require([\"vega-embed\"], displayChart, err => showError(`Error loading script: ${err.message}`));\n",
       "    } else {\n",
       "      maybeLoadScript(\"vega\", \"5\")\n",
       "        .then(() => maybeLoadScript(\"vega-lite\", \"4.17.0\"))\n",
       "        .then(() => maybeLoadScript(\"vega-embed\", \"6\"))\n",
       "        .catch(showError)\n",
       "        .then(() => displayChart(vegaEmbed));\n",
       "    }\n",
       "  })({\"config\": {\"view\": {\"continuousWidth\": 400, \"continuousHeight\": 300}, \"axis\": {\"domainColor\": \"#cbcbcb\", \"grid\": true, \"gridColor\": \"#cbcbcb\", \"gridWidth\": 1, \"labelColor\": \"#474747\", \"labelFont\": \"Nunito Sans\", \"labelFontSize\": 10, \"labelPadding\": 4, \"tickColor\": \"#cbcbcb\", \"tickSize\": 10, \"titleColor\": \"#333\", \"titleFont\": \"Raleway\", \"titleFontSize\": 12, \"titlePadding\": 10}, \"axisBand\": {\"grid\": false}, \"background\": \"white\", \"font\": \"Raleway\", \"header\": {\"labelFont\": \"Nunito Sans\", \"titleFont\": \"Raleway\"}, \"legend\": {\"labelColor\": \"#333\", \"labelFont\": \"Nunito Sans\", \"labelFontSize\": 11, \"labelLimit\": 0, \"padding\": 1, \"symbolSize\": 30, \"symbolType\": \"square\", \"titleColor\": \"#333\", \"titleFont\": \"Raleway\", \"titleFontSize\": 14, \"titlePadding\": 10}, \"title\": {\"anchor\": \"middle\", \"font\": \"Raleway\", \"fontSize\": 18, \"fontWeight\": 300, \"offset\": 20}}, \"data\": {\"name\": \"data-a1492c2091ac1313962583ff1fce1dde\"}, \"mark\": \"line\", \"encoding\": {\"tooltip\": [{\"field\": \"Year\", \"title\": \"Year\", \"type\": \"quantitative\"}, {\"field\": \"count\", \"title\": \"Count\", \"type\": \"quantitative\"}], \"x\": {\"field\": \"Year\", \"title\": \"Prepared Year\", \"type\": \"ordinal\"}, \"y\": {\"field\": \"count\", \"title\": \"Count\", \"type\": \"quantitative\"}}, \"height\": 250, \"width\": 400, \"$schema\": \"https://vega.github.io/schema/vega-lite/v4.17.0.json\", \"datasets\": {\"data-a1492c2091ac1313962583ff1fce1dde\": [{\"Year\": 2019.0, \"count\": 400, \"variable\": \"prepared_y\"}, {\"Year\": 2018.0, \"count\": 343, \"variable\": \"prepared_y\"}, {\"Year\": 2014.0, \"count\": 319, \"variable\": \"prepared_y\"}, {\"Year\": 2017.0, \"count\": 309, \"variable\": \"prepared_y\"}, {\"Year\": 2016.0, \"count\": 306, \"variable\": \"prepared_y\"}, {\"Year\": 2020.0, \"count\": 299, \"variable\": \"prepared_y\"}, {\"Year\": 2015.0, \"count\": 272, \"variable\": \"prepared_y\"}, {\"Year\": 2021.0, \"count\": 271, \"variable\": \"prepared_y\"}, {\"Year\": 2022.0, \"count\": 126, \"variable\": \"prepared_y\"}, {\"Year\": 2013.0, \"count\": 12, \"variable\": \"prepared_y\"}]}}, {\"mode\": \"vega-lite\"});\n",
       "</script>"
      ],
      "text/plain": [
       "alt.Chart(...)"
      ]
     },
     "metadata": {},
     "output_type": "display_data"
    }
   ],
   "source": [
    " #Line chart for Obligations by Year\n",
    "chart_df = (df_top>>filter(_.variable=='prepared_y')).rename(columns= {\"value\":\"Year\"})\n",
    "    \n",
    "chart1= (_dla_utils.basic_line_chart_test_no_save(chart_df, 'Year', 'count', district)).encode(x=alt.X('Year:O', title='Prepared Year'))\n",
    "display(chart1)"
   ]
  },
  {
   "cell_type": "markdown",
   "id": "ff0a6bf9-ddc9-4b6c-b2e1-77de18cf6f80",
   "metadata": {
    "papermill": {
     "duration": 0.023701,
     "end_time": "2022-06-02T22:22:58.542691",
     "exception": false,
     "start_time": "2022-06-02T22:22:58.518990",
     "status": "completed"
    },
    "tags": []
   },
   "source": [
    "### Number of Unique Agencies by District"
   ]
  },
  {
   "cell_type": "code",
   "execution_count": 9,
   "id": "0bc7e34d-545e-4afd-92e9-a17630d0ae89",
   "metadata": {
    "execution": {
     "iopub.execute_input": "2022-06-02T22:22:58.598485Z",
     "iopub.status.busy": "2022-06-02T22:22:58.598133Z",
     "iopub.status.idle": "2022-06-02T22:22:58.647599Z",
     "shell.execute_reply": "2022-06-02T22:22:58.646750Z"
    },
    "jupyter": {
     "source_hidden": true
    },
    "papermill": {
     "duration": 0.084743,
     "end_time": "2022-06-02T22:22:58.649804",
     "exception": false,
     "start_time": "2022-06-02T22:22:58.565061",
     "status": "completed"
    },
    "tags": [
     "remove_input"
    ]
   },
   "outputs": [
    {
     "data": {
      "text/html": [
       "\n",
       "<div id=\"altair-viz-ebcbc5dcea65497091748398b414c89b\"></div>\n",
       "<script type=\"text/javascript\">\n",
       "  var VEGA_DEBUG = (typeof VEGA_DEBUG == \"undefined\") ? {} : VEGA_DEBUG;\n",
       "  (function(spec, embedOpt){\n",
       "    let outputDiv = document.currentScript.previousElementSibling;\n",
       "    if (outputDiv.id !== \"altair-viz-ebcbc5dcea65497091748398b414c89b\") {\n",
       "      outputDiv = document.getElementById(\"altair-viz-ebcbc5dcea65497091748398b414c89b\");\n",
       "    }\n",
       "    const paths = {\n",
       "      \"vega\": \"https://cdn.jsdelivr.net/npm//vega@5?noext\",\n",
       "      \"vega-lib\": \"https://cdn.jsdelivr.net/npm//vega-lib?noext\",\n",
       "      \"vega-lite\": \"https://cdn.jsdelivr.net/npm//vega-lite@4.17.0?noext\",\n",
       "      \"vega-embed\": \"https://cdn.jsdelivr.net/npm//vega-embed@6?noext\",\n",
       "    };\n",
       "\n",
       "    function maybeLoadScript(lib, version) {\n",
       "      var key = `${lib.replace(\"-\", \"\")}_version`;\n",
       "      return (VEGA_DEBUG[key] == version) ?\n",
       "        Promise.resolve(paths[lib]) :\n",
       "        new Promise(function(resolve, reject) {\n",
       "          var s = document.createElement('script');\n",
       "          document.getElementsByTagName(\"head\")[0].appendChild(s);\n",
       "          s.async = true;\n",
       "          s.onload = () => {\n",
       "            VEGA_DEBUG[key] = version;\n",
       "            return resolve(paths[lib]);\n",
       "          };\n",
       "          s.onerror = () => reject(`Error loading script: ${paths[lib]}`);\n",
       "          s.src = paths[lib];\n",
       "        });\n",
       "    }\n",
       "\n",
       "    function showError(err) {\n",
       "      outputDiv.innerHTML = `<div class=\"error\" style=\"color:red;\">${err}</div>`;\n",
       "      throw err;\n",
       "    }\n",
       "\n",
       "    function displayChart(vegaEmbed) {\n",
       "      vegaEmbed(outputDiv, spec, embedOpt)\n",
       "        .catch(err => showError(`Javascript Error: ${err.message}<br>This usually means there's a typo in your chart specification. See the javascript console for the full traceback.`));\n",
       "    }\n",
       "\n",
       "    if(typeof define === \"function\" && define.amd) {\n",
       "      requirejs.config({paths});\n",
       "      require([\"vega-embed\"], displayChart, err => showError(`Error loading script: ${err.message}`));\n",
       "    } else {\n",
       "      maybeLoadScript(\"vega\", \"5\")\n",
       "        .then(() => maybeLoadScript(\"vega-lite\", \"4.17.0\"))\n",
       "        .then(() => maybeLoadScript(\"vega-embed\", \"6\"))\n",
       "        .catch(showError)\n",
       "        .then(() => displayChart(vegaEmbed));\n",
       "    }\n",
       "  })({\"config\": {\"view\": {\"continuousWidth\": 400, \"continuousHeight\": 300}, \"axis\": {\"domainColor\": \"#cbcbcb\", \"grid\": true, \"gridColor\": \"#cbcbcb\", \"gridWidth\": 1, \"labelColor\": \"#474747\", \"labelFont\": \"Nunito Sans\", \"labelFontSize\": 10, \"labelPadding\": 4, \"tickColor\": \"#cbcbcb\", \"tickSize\": 10, \"titleColor\": \"#333\", \"titleFont\": \"Raleway\", \"titleFontSize\": 12, \"titlePadding\": 10}, \"axisBand\": {\"grid\": false}, \"background\": \"white\", \"font\": \"Raleway\", \"header\": {\"labelFont\": \"Nunito Sans\", \"titleFont\": \"Raleway\"}, \"legend\": {\"labelColor\": \"#333\", \"labelFont\": \"Nunito Sans\", \"labelFontSize\": 11, \"labelLimit\": 0, \"padding\": 1, \"symbolSize\": 30, \"symbolType\": \"square\", \"titleColor\": \"#333\", \"titleFont\": \"Raleway\", \"titleFontSize\": 14, \"titlePadding\": 10}, \"title\": {\"anchor\": \"middle\", \"font\": \"Raleway\", \"fontSize\": 18, \"fontWeight\": 300, \"offset\": 20}}, \"data\": {\"name\": \"data-e734ae0e1fa3ebc2504f9a092f16e6b2\"}, \"mark\": \"bar\", \"encoding\": {\"color\": {\"field\": \"District\", \"legend\": {\"title\": \"Prepared Year\"}, \"scale\": {\"range\": [\"#B9D6DF\", \"#8CBCCB\", \"#2EA8CE\", \"#136C97\", \"#0B405B\"]}, \"type\": \"nominal\"}, \"column\": {\"field\": \"District\", \"type\": \"nominal\"}, \"tooltip\": [{\"field\": \"prepared_y\", \"title\": \"Year\", \"type\": \"nominal\"}, {\"field\": \"Count\", \"title\": \"Count\", \"type\": \"quantitative\"}], \"x\": {\"field\": \"prepared_y\", \"title\": \"Prepared Year\", \"type\": \"ordinal\"}, \"y\": {\"field\": \"Count\", \"title\": \"Number of Unique Agencies\", \"type\": \"quantitative\"}}, \"height\": 250, \"width\": 400, \"$schema\": \"https://vega.github.io/schema/vega-lite/v4.17.0.json\", \"datasets\": {\"data-e734ae0e1fa3ebc2504f9a092f16e6b2\": [{\"prepared_y\": \"nan\", \"District\": 3, \"Count\": 1}, {\"prepared_y\": \"2022\", \"District\": 3, \"Count\": 29}, {\"prepared_y\": \"2021\", \"District\": 3, \"Count\": 45}, {\"prepared_y\": \"2020\", \"District\": 3, \"Count\": 43}, {\"prepared_y\": \"2019\", \"District\": 3, \"Count\": 46}, {\"prepared_y\": \"2018\", \"District\": 3, \"Count\": 47}, {\"prepared_y\": \"2017\", \"District\": 3, \"Count\": 44}, {\"prepared_y\": \"2016\", \"District\": 3, \"Count\": 47}, {\"prepared_y\": \"2015\", \"District\": 3, \"Count\": 46}, {\"prepared_y\": \"2014\", \"District\": 3, \"Count\": 43}, {\"prepared_y\": \"2013\", \"District\": 3, \"Count\": 10}]}}, {\"mode\": \"vega-lite\"});\n",
       "</script>"
      ],
      "text/plain": [
       "alt.Chart(...)"
      ]
     },
     "metadata": {},
     "output_type": "display_data"
    }
   ],
   "source": [
    "# Unique Agencies by Dist\n",
    "dist_years_agency = ((\n",
    "        df\n",
    "        >> group_by(_.prepared_y, _.dist)\n",
    "        >> summarize(n=_.primary_agency_name.nunique())\n",
    "        >> arrange(-_.prepared_y)\n",
    "    )\n",
    "        .rename(columns={'dist':'District', 'n':'Count'})\n",
    "    )\n",
    "chart10 = (alt.Chart(dist_years_agency).mark_bar().encode(\n",
    "        column='District:N',\n",
    "        x=alt.X('prepared_y:O', title='Prepared Year'),\n",
    "        y=alt.Y('Count:Q', title='Number of Unique Agencies'),\n",
    "        color = alt.Color(\"District:N\", \n",
    "                              scale=alt.Scale(\n",
    "                                  range=altair_utils.CALITP_SEQUENTIAL_COLORS),  \n",
    "                               legend=alt.Legend(title=\"Prepared Year\")\n",
    "                              )))\n",
    "                              \n",
    "chart10 = styleguide.preset_chart_config(chart10)\n",
    "chart10 = _dla_utils.add_tooltip(chart10, 'prepared_y', 'Count')\n",
    "\n",
    "display(chart10)"
   ]
  },
  {
   "cell_type": "markdown",
   "id": "70c59c39-590d-4136-aa09-ee6ed5afc872",
   "metadata": {
    "papermill": {
     "duration": 0.030723,
     "end_time": "2022-06-02T22:22:58.706239",
     "exception": false,
     "start_time": "2022-06-02T22:22:58.675516",
     "status": "completed"
    },
    "tags": []
   },
   "source": [
    "### Agencies With The Most Obligations"
   ]
  },
  {
   "cell_type": "code",
   "execution_count": 10,
   "id": "faa4758e-8a41-44f8-aec4-b8cc4d75d906",
   "metadata": {
    "execution": {
     "iopub.execute_input": "2022-06-02T22:22:58.763330Z",
     "iopub.status.busy": "2022-06-02T22:22:58.762319Z",
     "iopub.status.idle": "2022-06-02T22:22:58.797436Z",
     "shell.execute_reply": "2022-06-02T22:22:58.796387Z"
    },
    "jupyter": {
     "source_hidden": true
    },
    "papermill": {
     "duration": 0.062525,
     "end_time": "2022-06-02T22:22:58.799817",
     "exception": false,
     "start_time": "2022-06-02T22:22:58.737292",
     "status": "completed"
    },
    "tags": [
     "remove_input"
    ]
   },
   "outputs": [
    {
     "data": {
      "text/html": [
       "\n",
       "<div id=\"altair-viz-aa7a70727efc45ac8186ea0d1b340416\"></div>\n",
       "<script type=\"text/javascript\">\n",
       "  var VEGA_DEBUG = (typeof VEGA_DEBUG == \"undefined\") ? {} : VEGA_DEBUG;\n",
       "  (function(spec, embedOpt){\n",
       "    let outputDiv = document.currentScript.previousElementSibling;\n",
       "    if (outputDiv.id !== \"altair-viz-aa7a70727efc45ac8186ea0d1b340416\") {\n",
       "      outputDiv = document.getElementById(\"altair-viz-aa7a70727efc45ac8186ea0d1b340416\");\n",
       "    }\n",
       "    const paths = {\n",
       "      \"vega\": \"https://cdn.jsdelivr.net/npm//vega@5?noext\",\n",
       "      \"vega-lib\": \"https://cdn.jsdelivr.net/npm//vega-lib?noext\",\n",
       "      \"vega-lite\": \"https://cdn.jsdelivr.net/npm//vega-lite@4.17.0?noext\",\n",
       "      \"vega-embed\": \"https://cdn.jsdelivr.net/npm//vega-embed@6?noext\",\n",
       "    };\n",
       "\n",
       "    function maybeLoadScript(lib, version) {\n",
       "      var key = `${lib.replace(\"-\", \"\")}_version`;\n",
       "      return (VEGA_DEBUG[key] == version) ?\n",
       "        Promise.resolve(paths[lib]) :\n",
       "        new Promise(function(resolve, reject) {\n",
       "          var s = document.createElement('script');\n",
       "          document.getElementsByTagName(\"head\")[0].appendChild(s);\n",
       "          s.async = true;\n",
       "          s.onload = () => {\n",
       "            VEGA_DEBUG[key] = version;\n",
       "            return resolve(paths[lib]);\n",
       "          };\n",
       "          s.onerror = () => reject(`Error loading script: ${paths[lib]}`);\n",
       "          s.src = paths[lib];\n",
       "        });\n",
       "    }\n",
       "\n",
       "    function showError(err) {\n",
       "      outputDiv.innerHTML = `<div class=\"error\" style=\"color:red;\">${err}</div>`;\n",
       "      throw err;\n",
       "    }\n",
       "\n",
       "    function displayChart(vegaEmbed) {\n",
       "      vegaEmbed(outputDiv, spec, embedOpt)\n",
       "        .catch(err => showError(`Javascript Error: ${err.message}<br>This usually means there's a typo in your chart specification. See the javascript console for the full traceback.`));\n",
       "    }\n",
       "\n",
       "    if(typeof define === \"function\" && define.amd) {\n",
       "      requirejs.config({paths});\n",
       "      require([\"vega-embed\"], displayChart, err => showError(`Error loading script: ${err.message}`));\n",
       "    } else {\n",
       "      maybeLoadScript(\"vega\", \"5\")\n",
       "        .then(() => maybeLoadScript(\"vega-lite\", \"4.17.0\"))\n",
       "        .then(() => maybeLoadScript(\"vega-embed\", \"6\"))\n",
       "        .catch(showError)\n",
       "        .then(() => displayChart(vegaEmbed));\n",
       "    }\n",
       "  })({\"config\": {\"view\": {\"continuousWidth\": 400, \"continuousHeight\": 300}, \"axis\": {\"domainColor\": \"#cbcbcb\", \"grid\": true, \"gridColor\": \"#cbcbcb\", \"gridWidth\": 1, \"labelColor\": \"#474747\", \"labelFont\": \"Nunito Sans\", \"labelFontSize\": 10, \"labelPadding\": 4, \"tickColor\": \"#cbcbcb\", \"tickSize\": 10, \"titleColor\": \"#333\", \"titleFont\": \"Raleway\", \"titleFontSize\": 12, \"titlePadding\": 10}, \"axisBand\": {\"grid\": false}, \"background\": \"white\", \"font\": \"Raleway\", \"header\": {\"labelFont\": \"Nunito Sans\", \"titleFont\": \"Raleway\"}, \"legend\": {\"labelColor\": \"#333\", \"labelFont\": \"Nunito Sans\", \"labelFontSize\": 11, \"labelLimit\": 0, \"padding\": 1, \"symbolSize\": 30, \"symbolType\": \"square\", \"titleColor\": \"#333\", \"titleFont\": \"Raleway\", \"titleFontSize\": 14, \"titlePadding\": 10}, \"title\": {\"anchor\": \"middle\", \"font\": \"Raleway\", \"fontSize\": 18, \"fontWeight\": 300, \"offset\": 20}}, \"data\": {\"name\": \"data-1ac3621dd710874810d5997b84a2d92b\"}, \"mark\": \"bar\", \"encoding\": {\"color\": {\"field\": \"Agency\", \"legend\": {\"symbolLimit\": 10, \"title\": \"Agency\"}, \"scale\": {\"range\": [\"#2EA8CE\", \"#EB9F3C\", \"#F4D837\", \"#51BF9D\", \"#8CBCCB\", \"#9487C0\"]}, \"type\": \"nominal\"}, \"tooltip\": [{\"field\": \"Agency\", \"title\": \"Agency\", \"type\": \"nominal\"}, {\"field\": \"Number of Obligations\", \"title\": \"Number Of Obligations\", \"type\": \"quantitative\"}], \"x\": {\"field\": \"Agency\", \"sort\": \"-y\", \"title\": \"Agency\", \"type\": \"nominal\"}, \"y\": {\"field\": \"Number of Obligations\", \"title\": \"Number Of Obligations\", \"type\": \"quantitative\"}}, \"height\": 250, \"width\": 400, \"$schema\": \"https://vega.github.io/schema/vega-lite/v4.17.0.json\", \"datasets\": {\"data-1ac3621dd710874810d5997b84a2d92b\": [{\"Agency\": \"El Dorado County\", \"Number of Obligations\": 311, \"variable\": \"primary_agency_name\"}, {\"Agency\": \"Sacramento County\", \"Number of Obligations\": 234, \"variable\": \"primary_agency_name\"}, {\"Agency\": \"Sacramento\", \"Number of Obligations\": 191, \"variable\": \"primary_agency_name\"}, {\"Agency\": \"Placer County\", \"Number of Obligations\": 180, \"variable\": \"primary_agency_name\"}, {\"Agency\": \"Yuba County\", \"Number of Obligations\": 149, \"variable\": \"primary_agency_name\"}, {\"Agency\": \"Butte County\", \"Number of Obligations\": 146, \"variable\": \"primary_agency_name\"}, {\"Agency\": \"Nevada County\", \"Number of Obligations\": 143, \"variable\": \"primary_agency_name\"}, {\"Agency\": \"Yolo County\", \"Number of Obligations\": 91, \"variable\": \"primary_agency_name\"}, {\"Agency\": \"Elk Grove\", \"Number of Obligations\": 68, \"variable\": \"primary_agency_name\"}, {\"Agency\": \"Sierra County\", \"Number of Obligations\": 65, \"variable\": \"primary_agency_name\"}, {\"Agency\": \"Paradise\", \"Number of Obligations\": 62, \"variable\": \"primary_agency_name\"}, {\"Agency\": \"Rancho Cordova\", \"Number of Obligations\": 60, \"variable\": \"primary_agency_name\"}, {\"Agency\": \"Sacramento Area Council of Governments\", \"Number of Obligations\": 57, \"variable\": \"primary_agency_name\"}, {\"Agency\": \"Placerville\", \"Number of Obligations\": 55, \"variable\": \"primary_agency_name\"}, {\"Agency\": \"Roseville\", \"Number of Obligations\": 53, \"variable\": \"primary_agency_name\"}, {\"Agency\": \"Sutter County\", \"Number of Obligations\": 48, \"variable\": \"primary_agency_name\"}, {\"Agency\": \"Placer County Transportation Planning Agency\", \"Number of Obligations\": 46, \"variable\": \"primary_agency_name\"}, {\"Agency\": \"Folsom\", \"Number of Obligations\": 43, \"variable\": \"primary_agency_name\"}, {\"Agency\": \"Glenn County\", \"Number of Obligations\": 42, \"variable\": \"primary_agency_name\"}, {\"Agency\": \"Chico\", \"Number of Obligations\": 40, \"variable\": \"primary_agency_name\"}]}}, {\"mode\": \"vega-lite\"});\n",
       "</script>"
      ],
      "text/plain": [
       "alt.Chart(...)"
      ]
     },
     "metadata": {},
     "output_type": "display_data"
    }
   ],
   "source": [
    "#Bar chart Agencies With The Most Obligations\n",
    "chart_df = (df_top>>filter(_.variable=='primary_agency_name')).rename(columns={\"value\":\"Agency\",\n",
    "                                 \"count\":\"Number of Obligations\"})\n",
    "chart2 = (_dla_utils.basic_bar_chart_no_save(chart_df, 'Agency', 'Number of Obligations', 'Agency', district))\n",
    "    \n",
    "\n",
    "display(chart2)\n"
   ]
  },
  {
   "cell_type": "markdown",
   "id": "5a3bed5f-4325-47af-9cc7-683f9872817f",
   "metadata": {
    "papermill": {
     "duration": 0.03503,
     "end_time": "2022-06-02T22:22:58.859770",
     "exception": false,
     "start_time": "2022-06-02T22:22:58.824740",
     "status": "completed"
    },
    "tags": []
   },
   "source": [
    "## Prefix Codes"
   ]
  },
  {
   "cell_type": "markdown",
   "id": "339b20d8-68c6-43bd-8aaf-491772bc0995",
   "metadata": {
    "papermill": {
     "duration": 0.02427,
     "end_time": "2022-06-02T22:22:58.911235",
     "exception": false,
     "start_time": "2022-06-02T22:22:58.886965",
     "status": "completed"
    },
    "tags": []
   },
   "source": [
    "<hr style=\"height: 2px; background-color:#8CBCCB; border: none\">\n"
   ]
  },
  {
   "cell_type": "markdown",
   "id": "cfded756-3c93-4089-be41-68e19d28b304",
   "metadata": {
    "papermill": {
     "duration": 0.023644,
     "end_time": "2022-06-02T22:22:58.960646",
     "exception": false,
     "start_time": "2022-06-02T22:22:58.937002",
     "status": "completed"
    },
    "tags": []
   },
   "source": [
    "Prefix Codes refer to the program an obligation is in. Similar to the number of obligations, calcuating the unique prefix codes provides insight to how many progams DLA is involved in each year as well as workload at the district and organization level.\n",
    "\n",
    "Metrics: \n",
    "* Number of Unique Prefix Codes by Districts\n",
    "* Most Used Prefix Codes\n",
    "* Agencies With The Most Unique Prefix Codes"
   ]
  },
  {
   "cell_type": "markdown",
   "id": "f8cb2832-947d-4631-9b4c-c81fb118cab3",
   "metadata": {
    "papermill": {
     "duration": 0.024833,
     "end_time": "2022-06-02T22:22:59.012470",
     "exception": false,
     "start_time": "2022-06-02T22:22:58.987637",
     "status": "completed"
    },
    "tags": []
   },
   "source": [
    "### Number of Unique Prefix Codes by District"
   ]
  },
  {
   "cell_type": "code",
   "execution_count": 11,
   "id": "f661bd63-f8aa-4048-b035-03d5bf1b7e95",
   "metadata": {
    "execution": {
     "iopub.execute_input": "2022-06-02T22:22:59.064484Z",
     "iopub.status.busy": "2022-06-02T22:22:59.063495Z",
     "iopub.status.idle": "2022-06-02T22:22:59.119367Z",
     "shell.execute_reply": "2022-06-02T22:22:59.118447Z"
    },
    "jupyter": {
     "source_hidden": true
    },
    "papermill": {
     "duration": 0.084428,
     "end_time": "2022-06-02T22:22:59.122028",
     "exception": false,
     "start_time": "2022-06-02T22:22:59.037600",
     "status": "completed"
    },
    "tags": [
     "remove_input"
    ]
   },
   "outputs": [
    {
     "data": {
      "text/html": [
       "\n",
       "<div id=\"altair-viz-208eafa2fcea45919fd2514fd12c9afa\"></div>\n",
       "<script type=\"text/javascript\">\n",
       "  var VEGA_DEBUG = (typeof VEGA_DEBUG == \"undefined\") ? {} : VEGA_DEBUG;\n",
       "  (function(spec, embedOpt){\n",
       "    let outputDiv = document.currentScript.previousElementSibling;\n",
       "    if (outputDiv.id !== \"altair-viz-208eafa2fcea45919fd2514fd12c9afa\") {\n",
       "      outputDiv = document.getElementById(\"altair-viz-208eafa2fcea45919fd2514fd12c9afa\");\n",
       "    }\n",
       "    const paths = {\n",
       "      \"vega\": \"https://cdn.jsdelivr.net/npm//vega@5?noext\",\n",
       "      \"vega-lib\": \"https://cdn.jsdelivr.net/npm//vega-lib?noext\",\n",
       "      \"vega-lite\": \"https://cdn.jsdelivr.net/npm//vega-lite@4.17.0?noext\",\n",
       "      \"vega-embed\": \"https://cdn.jsdelivr.net/npm//vega-embed@6?noext\",\n",
       "    };\n",
       "\n",
       "    function maybeLoadScript(lib, version) {\n",
       "      var key = `${lib.replace(\"-\", \"\")}_version`;\n",
       "      return (VEGA_DEBUG[key] == version) ?\n",
       "        Promise.resolve(paths[lib]) :\n",
       "        new Promise(function(resolve, reject) {\n",
       "          var s = document.createElement('script');\n",
       "          document.getElementsByTagName(\"head\")[0].appendChild(s);\n",
       "          s.async = true;\n",
       "          s.onload = () => {\n",
       "            VEGA_DEBUG[key] = version;\n",
       "            return resolve(paths[lib]);\n",
       "          };\n",
       "          s.onerror = () => reject(`Error loading script: ${paths[lib]}`);\n",
       "          s.src = paths[lib];\n",
       "        });\n",
       "    }\n",
       "\n",
       "    function showError(err) {\n",
       "      outputDiv.innerHTML = `<div class=\"error\" style=\"color:red;\">${err}</div>`;\n",
       "      throw err;\n",
       "    }\n",
       "\n",
       "    function displayChart(vegaEmbed) {\n",
       "      vegaEmbed(outputDiv, spec, embedOpt)\n",
       "        .catch(err => showError(`Javascript Error: ${err.message}<br>This usually means there's a typo in your chart specification. See the javascript console for the full traceback.`));\n",
       "    }\n",
       "\n",
       "    if(typeof define === \"function\" && define.amd) {\n",
       "      requirejs.config({paths});\n",
       "      require([\"vega-embed\"], displayChart, err => showError(`Error loading script: ${err.message}`));\n",
       "    } else {\n",
       "      maybeLoadScript(\"vega\", \"5\")\n",
       "        .then(() => maybeLoadScript(\"vega-lite\", \"4.17.0\"))\n",
       "        .then(() => maybeLoadScript(\"vega-embed\", \"6\"))\n",
       "        .catch(showError)\n",
       "        .then(() => displayChart(vegaEmbed));\n",
       "    }\n",
       "  })({\"config\": {\"view\": {\"continuousWidth\": 400, \"continuousHeight\": 300}, \"axis\": {\"domainColor\": \"#cbcbcb\", \"grid\": true, \"gridColor\": \"#cbcbcb\", \"gridWidth\": 1, \"labelColor\": \"#474747\", \"labelFont\": \"Nunito Sans\", \"labelFontSize\": 10, \"labelPadding\": 4, \"tickColor\": \"#cbcbcb\", \"tickSize\": 10, \"titleColor\": \"#333\", \"titleFont\": \"Raleway\", \"titleFontSize\": 12, \"titlePadding\": 10}, \"axisBand\": {\"grid\": false}, \"background\": \"white\", \"font\": \"Raleway\", \"header\": {\"labelFont\": \"Nunito Sans\", \"titleFont\": \"Raleway\"}, \"legend\": {\"labelColor\": \"#333\", \"labelFont\": \"Nunito Sans\", \"labelFontSize\": 11, \"labelLimit\": 0, \"padding\": 1, \"symbolSize\": 30, \"symbolType\": \"square\", \"titleColor\": \"#333\", \"titleFont\": \"Raleway\", \"titleFontSize\": 14, \"titlePadding\": 10}, \"title\": {\"anchor\": \"middle\", \"font\": \"Raleway\", \"fontSize\": 18, \"fontWeight\": 300, \"offset\": 20}}, \"data\": {\"name\": \"data-37a06d760cabe03061a00aa6bc17eac4\"}, \"mark\": \"bar\", \"encoding\": {\"color\": {\"field\": \"District\", \"legend\": {\"title\": \"District\"}, \"scale\": {\"range\": [\"#B9D6DF\", \"#8CBCCB\", \"#2EA8CE\", \"#136C97\", \"#0B405B\"]}, \"type\": \"nominal\"}, \"column\": {\"field\": \"District\", \"type\": \"nominal\"}, \"tooltip\": [{\"field\": \"prepared_y\", \"title\": \"Prepared Year\", \"type\": \"nominal\"}, {\"field\": \"Count\", \"title\": \"Number\", \"type\": \"quantitative\"}], \"x\": {\"field\": \"prepared_y\", \"title\": \"Prepared Year\", \"type\": \"ordinal\"}, \"y\": {\"field\": \"Count\", \"title\": \"Number of Unique Agencies\", \"type\": \"quantitative\"}}, \"height\": 250, \"width\": 400, \"$schema\": \"https://vega.github.io/schema/vega-lite/v4.17.0.json\", \"datasets\": {\"data-37a06d760cabe03061a00aa6bc17eac4\": [{\"prepared_y\": \"nan\", \"District\": 3, \"Count\": 2}, {\"prepared_y\": \"2022\", \"District\": 3, \"Count\": 29}, {\"prepared_y\": \"2021\", \"District\": 3, \"Count\": 34}, {\"prepared_y\": \"2020\", \"District\": 3, \"Count\": 37}, {\"prepared_y\": \"2019\", \"District\": 3, \"Count\": 51}, {\"prepared_y\": \"2018\", \"District\": 3, \"Count\": 38}, {\"prepared_y\": \"2017\", \"District\": 3, \"Count\": 42}, {\"prepared_y\": \"2016\", \"District\": 3, \"Count\": 44}, {\"prepared_y\": \"2015\", \"District\": 3, \"Count\": 36}, {\"prepared_y\": \"2014\", \"District\": 3, \"Count\": 34}, {\"prepared_y\": \"2013\", \"District\": 3, \"Count\": 11}]}}, {\"mode\": \"vega-lite\"});\n",
       "</script>"
      ],
      "text/plain": [
       "alt.Chart(...)"
      ]
     },
     "metadata": {},
     "output_type": "display_data"
    }
   ],
   "source": [
    "#Unique Prefixes by Dist\n",
    "dist_years_prefix = ((\n",
    "        df\n",
    "        >> group_by(_.prepared_y, _.dist)\n",
    "        >> summarize(n=_.prefix.nunique())\n",
    "        >> arrange(-_.prepared_y)\n",
    "    ).rename(columns={'dist':'District', 'n':'Count'}))\n",
    "\n",
    "chart11 = (alt.Chart(dist_years_prefix).mark_bar().encode(\n",
    "        column='District:N',\n",
    "        x=alt.X('prepared_y:O', title='Prepared Year'),\n",
    "        y=alt.Y('Count:Q', title='Number of Unique Agencies'),\n",
    "        color = alt.Color(\"District:N\", \n",
    "                              scale=alt.Scale(\n",
    "                                  range=altair_utils.CALITP_SEQUENTIAL_COLORS),  \n",
    "                               legend=alt.Legend(title=\"District\")\n",
    "                              ),\n",
    "       # tooltip=[alt.Tooltip('prepared_y', title='Prepared Year'), \n",
    "       #         alt.Tooltip('Count', title='Number')],\n",
    "                              ))\n",
    "chart11 = styleguide.preset_chart_config(chart11)\n",
    "#chart11 = _dla_utils.add_tooltip(chart11, 'prepared_y','Count')\n",
    "chart11 = chart11.encode(tooltip=[alt.Tooltip('prepared_y', title='Prepared Year'), \n",
    "                alt.Tooltip('Count', title='Number')])\n",
    "    \n",
    "\n",
    "display(chart11)"
   ]
  },
  {
   "cell_type": "markdown",
   "id": "c52b3650-9c49-4ab9-a72d-52ecf36d4b7a",
   "metadata": {
    "papermill": {
     "duration": 0.024421,
     "end_time": "2022-06-02T22:22:59.172266",
     "exception": false,
     "start_time": "2022-06-02T22:22:59.147845",
     "status": "completed"
    },
    "tags": []
   },
   "source": [
    "### Most Used Prefix Codes"
   ]
  },
  {
   "cell_type": "code",
   "execution_count": 12,
   "id": "0aca2d9a-062a-4c12-9489-5f9de10f3462",
   "metadata": {
    "execution": {
     "iopub.execute_input": "2022-06-02T22:22:59.225463Z",
     "iopub.status.busy": "2022-06-02T22:22:59.225130Z",
     "iopub.status.idle": "2022-06-02T22:22:59.252061Z",
     "shell.execute_reply": "2022-06-02T22:22:59.251131Z"
    },
    "jupyter": {
     "source_hidden": true
    },
    "papermill": {
     "duration": 0.055191,
     "end_time": "2022-06-02T22:22:59.253878",
     "exception": false,
     "start_time": "2022-06-02T22:22:59.198687",
     "status": "completed"
    },
    "tags": [
     "remove_input"
    ]
   },
   "outputs": [
    {
     "data": {
      "text/html": [
       "\n",
       "<div id=\"altair-viz-2196b28eac8746b3b54d5101a42ded67\"></div>\n",
       "<script type=\"text/javascript\">\n",
       "  var VEGA_DEBUG = (typeof VEGA_DEBUG == \"undefined\") ? {} : VEGA_DEBUG;\n",
       "  (function(spec, embedOpt){\n",
       "    let outputDiv = document.currentScript.previousElementSibling;\n",
       "    if (outputDiv.id !== \"altair-viz-2196b28eac8746b3b54d5101a42ded67\") {\n",
       "      outputDiv = document.getElementById(\"altair-viz-2196b28eac8746b3b54d5101a42ded67\");\n",
       "    }\n",
       "    const paths = {\n",
       "      \"vega\": \"https://cdn.jsdelivr.net/npm//vega@5?noext\",\n",
       "      \"vega-lib\": \"https://cdn.jsdelivr.net/npm//vega-lib?noext\",\n",
       "      \"vega-lite\": \"https://cdn.jsdelivr.net/npm//vega-lite@4.17.0?noext\",\n",
       "      \"vega-embed\": \"https://cdn.jsdelivr.net/npm//vega-embed@6?noext\",\n",
       "    };\n",
       "\n",
       "    function maybeLoadScript(lib, version) {\n",
       "      var key = `${lib.replace(\"-\", \"\")}_version`;\n",
       "      return (VEGA_DEBUG[key] == version) ?\n",
       "        Promise.resolve(paths[lib]) :\n",
       "        new Promise(function(resolve, reject) {\n",
       "          var s = document.createElement('script');\n",
       "          document.getElementsByTagName(\"head\")[0].appendChild(s);\n",
       "          s.async = true;\n",
       "          s.onload = () => {\n",
       "            VEGA_DEBUG[key] = version;\n",
       "            return resolve(paths[lib]);\n",
       "          };\n",
       "          s.onerror = () => reject(`Error loading script: ${paths[lib]}`);\n",
       "          s.src = paths[lib];\n",
       "        });\n",
       "    }\n",
       "\n",
       "    function showError(err) {\n",
       "      outputDiv.innerHTML = `<div class=\"error\" style=\"color:red;\">${err}</div>`;\n",
       "      throw err;\n",
       "    }\n",
       "\n",
       "    function displayChart(vegaEmbed) {\n",
       "      vegaEmbed(outputDiv, spec, embedOpt)\n",
       "        .catch(err => showError(`Javascript Error: ${err.message}<br>This usually means there's a typo in your chart specification. See the javascript console for the full traceback.`));\n",
       "    }\n",
       "\n",
       "    if(typeof define === \"function\" && define.amd) {\n",
       "      requirejs.config({paths});\n",
       "      require([\"vega-embed\"], displayChart, err => showError(`Error loading script: ${err.message}`));\n",
       "    } else {\n",
       "      maybeLoadScript(\"vega\", \"5\")\n",
       "        .then(() => maybeLoadScript(\"vega-lite\", \"4.17.0\"))\n",
       "        .then(() => maybeLoadScript(\"vega-embed\", \"6\"))\n",
       "        .catch(showError)\n",
       "        .then(() => displayChart(vegaEmbed));\n",
       "    }\n",
       "  })({\"config\": {\"view\": {\"continuousWidth\": 400, \"continuousHeight\": 300}, \"axis\": {\"domainColor\": \"#cbcbcb\", \"grid\": true, \"gridColor\": \"#cbcbcb\", \"gridWidth\": 1, \"labelColor\": \"#474747\", \"labelFont\": \"Nunito Sans\", \"labelFontSize\": 10, \"labelPadding\": 4, \"tickColor\": \"#cbcbcb\", \"tickSize\": 10, \"titleColor\": \"#333\", \"titleFont\": \"Raleway\", \"titleFontSize\": 12, \"titlePadding\": 10}, \"axisBand\": {\"grid\": false}, \"background\": \"white\", \"font\": \"Raleway\", \"header\": {\"labelFont\": \"Nunito Sans\", \"titleFont\": \"Raleway\"}, \"legend\": {\"labelColor\": \"#333\", \"labelFont\": \"Nunito Sans\", \"labelFontSize\": 11, \"labelLimit\": 0, \"padding\": 1, \"symbolSize\": 30, \"symbolType\": \"square\", \"titleColor\": \"#333\", \"titleFont\": \"Raleway\", \"titleFontSize\": 14, \"titlePadding\": 10}, \"title\": {\"anchor\": \"middle\", \"font\": \"Raleway\", \"fontSize\": 18, \"fontWeight\": 300, \"offset\": 20}}, \"data\": {\"name\": \"data-79902faf54293d54387270187240d323\"}, \"mark\": \"bar\", \"encoding\": {\"color\": {\"field\": \"Prefix\", \"legend\": {\"symbolLimit\": 10, \"title\": \"Prefix\"}, \"scale\": {\"range\": [\"#2EA8CE\", \"#EB9F3C\", \"#F4D837\", \"#51BF9D\", \"#8CBCCB\", \"#9487C0\"]}, \"type\": \"nominal\"}, \"tooltip\": [{\"field\": \"Prefix\", \"title\": \"Prefix\", \"type\": \"nominal\"}, {\"field\": \"Number of Obligations\", \"title\": \"Number Of Obligations\", \"type\": \"quantitative\"}], \"x\": {\"field\": \"Prefix\", \"sort\": \"-y\", \"title\": \"Prefix\", \"type\": \"nominal\"}, \"y\": {\"field\": \"Number of Obligations\", \"title\": \"Number Of Obligations\", \"type\": \"quantitative\"}}, \"height\": 250, \"width\": 400, \"$schema\": \"https://vega.github.io/schema/vega-lite/v4.17.0.json\", \"datasets\": {\"data-79902faf54293d54387270187240d323\": [{\"Prefix\": \"BRLO\", \"Number of Obligations\": 408, \"variable\": \"prefix\"}, {\"Prefix\": \"CML\", \"Number of Obligations\": 405, \"variable\": \"prefix\"}, {\"Prefix\": \"HSIPL\", \"Number of Obligations\": 401, \"variable\": \"prefix\"}, {\"Prefix\": \"STPL\", \"Number of Obligations\": 296, \"variable\": \"prefix\"}, {\"Prefix\": \"ER\", \"Number of Obligations\": 180, \"variable\": \"prefix\"}, {\"Prefix\": \"BRLS\", \"Number of Obligations\": 161, \"variable\": \"prefix\"}, {\"Prefix\": \"RPSTPL\", \"Number of Obligations\": 66, \"variable\": \"prefix\"}, {\"Prefix\": \"HRRRL\", \"Number of Obligations\": 61, \"variable\": \"prefix\"}, {\"Prefix\": \"BPMP\", \"Number of Obligations\": 51, \"variable\": \"prefix\"}, {\"Prefix\": \"ACSTP\", \"Number of Obligations\": 45, \"variable\": \"prefix\"}, {\"Prefix\": \"ATPL\", \"Number of Obligations\": 45, \"variable\": \"prefix\"}, {\"Prefix\": \"STPCML\", \"Number of Obligations\": 39, \"variable\": \"prefix\"}, {\"Prefix\": \"CMLNI\", \"Number of Obligations\": 36, \"variable\": \"prefix\"}, {\"Prefix\": \"FTACML\", \"Number of Obligations\": 34, \"variable\": \"prefix\"}, {\"Prefix\": \"ATPCML\", \"Number of Obligations\": 31, \"variable\": \"prefix\"}, {\"Prefix\": \"ACSTER\", \"Number of Obligations\": 30, \"variable\": \"prefix\"}, {\"Prefix\": \"SRTSL\", \"Number of Obligations\": 29, \"variable\": \"prefix\"}, {\"Prefix\": \"HPLUL\", \"Number of Obligations\": 27, \"variable\": \"prefix\"}, {\"Prefix\": \"HP21L\", \"Number of Obligations\": 16, \"variable\": \"prefix\"}, {\"Prefix\": \"STPLNI\", \"Number of Obligations\": 15, \"variable\": \"prefix\"}]}}, {\"mode\": \"vega-lite\"});\n",
       "</script>"
      ],
      "text/plain": [
       "alt.Chart(...)"
      ]
     },
     "metadata": {},
     "output_type": "display_data"
    }
   ],
   "source": [
    "#Bar chart with the Most Used Prefix Counts\n",
    "chart_df = (df_top>>filter(_.variable=='prefix')).rename(columns={\"value\":\"Prefix\",\n",
    "                                 \"count\":\"Number of Obligations\"})\n",
    "chart9= (_dla_utils.basic_bar_chart_no_save(chart_df, 'Prefix', 'Number of Obligations', 'Prefix', district))\n",
    "    \n",
    "\n",
    "display(chart9)\n",
    "    "
   ]
  },
  {
   "cell_type": "markdown",
   "id": "46030e63-c1ae-4834-b538-b09937074207",
   "metadata": {
    "papermill": {
     "duration": 0.028122,
     "end_time": "2022-06-02T22:22:59.307796",
     "exception": false,
     "start_time": "2022-06-02T22:22:59.279674",
     "status": "completed"
    },
    "tags": []
   },
   "source": [
    "### Agencies With The Most Unique Prefix Codes"
   ]
  },
  {
   "cell_type": "code",
   "execution_count": 13,
   "id": "3d21c9b2-833b-463a-9a03-a9c83d727d2e",
   "metadata": {
    "execution": {
     "iopub.execute_input": "2022-06-02T22:22:59.362378Z",
     "iopub.status.busy": "2022-06-02T22:22:59.362049Z",
     "iopub.status.idle": "2022-06-02T22:22:59.435300Z",
     "shell.execute_reply": "2022-06-02T22:22:59.434104Z"
    },
    "jupyter": {
     "source_hidden": true
    },
    "papermill": {
     "duration": 0.107006,
     "end_time": "2022-06-02T22:22:59.440641",
     "exception": false,
     "start_time": "2022-06-02T22:22:59.333635",
     "status": "completed"
    },
    "tags": [
     "remove_input"
    ]
   },
   "outputs": [
    {
     "data": {
      "text/html": [
       "\n",
       "<div id=\"altair-viz-dc54b73b82cc4ff8aa58bb7c7ac6b579\"></div>\n",
       "<script type=\"text/javascript\">\n",
       "  var VEGA_DEBUG = (typeof VEGA_DEBUG == \"undefined\") ? {} : VEGA_DEBUG;\n",
       "  (function(spec, embedOpt){\n",
       "    let outputDiv = document.currentScript.previousElementSibling;\n",
       "    if (outputDiv.id !== \"altair-viz-dc54b73b82cc4ff8aa58bb7c7ac6b579\") {\n",
       "      outputDiv = document.getElementById(\"altair-viz-dc54b73b82cc4ff8aa58bb7c7ac6b579\");\n",
       "    }\n",
       "    const paths = {\n",
       "      \"vega\": \"https://cdn.jsdelivr.net/npm//vega@5?noext\",\n",
       "      \"vega-lib\": \"https://cdn.jsdelivr.net/npm//vega-lib?noext\",\n",
       "      \"vega-lite\": \"https://cdn.jsdelivr.net/npm//vega-lite@4.17.0?noext\",\n",
       "      \"vega-embed\": \"https://cdn.jsdelivr.net/npm//vega-embed@6?noext\",\n",
       "    };\n",
       "\n",
       "    function maybeLoadScript(lib, version) {\n",
       "      var key = `${lib.replace(\"-\", \"\")}_version`;\n",
       "      return (VEGA_DEBUG[key] == version) ?\n",
       "        Promise.resolve(paths[lib]) :\n",
       "        new Promise(function(resolve, reject) {\n",
       "          var s = document.createElement('script');\n",
       "          document.getElementsByTagName(\"head\")[0].appendChild(s);\n",
       "          s.async = true;\n",
       "          s.onload = () => {\n",
       "            VEGA_DEBUG[key] = version;\n",
       "            return resolve(paths[lib]);\n",
       "          };\n",
       "          s.onerror = () => reject(`Error loading script: ${paths[lib]}`);\n",
       "          s.src = paths[lib];\n",
       "        });\n",
       "    }\n",
       "\n",
       "    function showError(err) {\n",
       "      outputDiv.innerHTML = `<div class=\"error\" style=\"color:red;\">${err}</div>`;\n",
       "      throw err;\n",
       "    }\n",
       "\n",
       "    function displayChart(vegaEmbed) {\n",
       "      vegaEmbed(outputDiv, spec, embedOpt)\n",
       "        .catch(err => showError(`Javascript Error: ${err.message}<br>This usually means there's a typo in your chart specification. See the javascript console for the full traceback.`));\n",
       "    }\n",
       "\n",
       "    if(typeof define === \"function\" && define.amd) {\n",
       "      requirejs.config({paths});\n",
       "      require([\"vega-embed\"], displayChart, err => showError(`Error loading script: ${err.message}`));\n",
       "    } else {\n",
       "      maybeLoadScript(\"vega\", \"5\")\n",
       "        .then(() => maybeLoadScript(\"vega-lite\", \"4.17.0\"))\n",
       "        .then(() => maybeLoadScript(\"vega-embed\", \"6\"))\n",
       "        .catch(showError)\n",
       "        .then(() => displayChart(vegaEmbed));\n",
       "    }\n",
       "  })({\"config\": {\"view\": {\"continuousWidth\": 400, \"continuousHeight\": 300}, \"axis\": {\"domainColor\": \"#cbcbcb\", \"grid\": true, \"gridColor\": \"#cbcbcb\", \"gridWidth\": 1, \"labelColor\": \"#474747\", \"labelFont\": \"Nunito Sans\", \"labelFontSize\": 10, \"labelPadding\": 4, \"tickColor\": \"#cbcbcb\", \"tickSize\": 10, \"titleColor\": \"#333\", \"titleFont\": \"Raleway\", \"titleFontSize\": 12, \"titlePadding\": 10}, \"axisBand\": {\"grid\": false}, \"background\": \"white\", \"font\": \"Raleway\", \"header\": {\"labelFont\": \"Nunito Sans\", \"titleFont\": \"Raleway\"}, \"legend\": {\"labelColor\": \"#333\", \"labelFont\": \"Nunito Sans\", \"labelFontSize\": 11, \"labelLimit\": 0, \"padding\": 1, \"symbolSize\": 30, \"symbolType\": \"square\", \"titleColor\": \"#333\", \"titleFont\": \"Raleway\", \"titleFontSize\": 14, \"titlePadding\": 10}, \"title\": {\"anchor\": \"middle\", \"font\": \"Raleway\", \"fontSize\": 18, \"fontWeight\": 300, \"offset\": 20}}, \"data\": {\"name\": \"data-67a4869092c8db22b7249b60d20f3359\"}, \"mark\": \"bar\", \"encoding\": {\"color\": {\"field\": \"primary_agency_name\", \"legend\": {\"symbolLimit\": 10, \"title\": \"Agency\"}, \"scale\": {\"range\": [\"#2EA8CE\", \"#EB9F3C\", \"#F4D837\", \"#51BF9D\", \"#8CBCCB\", \"#9487C0\"]}, \"type\": \"nominal\"}, \"tooltip\": [{\"field\": \"primary_agency_name\", \"title\": \"Agency\", \"type\": \"nominal\"}, {\"field\": \"n\", \"title\": \"Count\", \"type\": \"quantitative\"}], \"x\": {\"field\": \"primary_agency_name\", \"sort\": \"-y\", \"title\": \"Agency\", \"type\": \"nominal\"}, \"y\": {\"field\": \"n\", \"title\": \"Count\", \"type\": \"quantitative\"}}, \"height\": 250, \"width\": 400, \"$schema\": \"https://vega.github.io/schema/vega-lite/v4.17.0.json\", \"datasets\": {\"data-67a4869092c8db22b7249b60d20f3359\": [{\"primary_agency_name\": \"El Dorado County\", \"n\": 21}, {\"primary_agency_name\": \"Sacramento\", \"n\": 19}, {\"primary_agency_name\": \"Sacramento County\", \"n\": 18}, {\"primary_agency_name\": \"Placer County\", \"n\": 14}, {\"primary_agency_name\": \"Butte County\", \"n\": 13}, {\"primary_agency_name\": \"Elk Grove\", \"n\": 12}, {\"primary_agency_name\": \"Roseville\", \"n\": 12}, {\"primary_agency_name\": \"Yuba County\", \"n\": 12}, {\"primary_agency_name\": \"Nevada County\", \"n\": 11}, {\"primary_agency_name\": \"Placerville\", \"n\": 11}, {\"primary_agency_name\": \"Rancho Cordova\", \"n\": 11}, {\"primary_agency_name\": \"Placer County Transportation Planning Agency\", \"n\": 10}, {\"primary_agency_name\": \"West Sacramento\", \"n\": 10}, {\"primary_agency_name\": \"Citrus Heights\", \"n\": 9}, {\"primary_agency_name\": \"Davis\", \"n\": 9}, {\"primary_agency_name\": \"Folsom\", \"n\": 9}, {\"primary_agency_name\": \"Sacramento Area Council of Governments\", \"n\": 9}, {\"primary_agency_name\": \"Yolo County\", \"n\": 9}, {\"primary_agency_name\": \"Caltrans\", \"n\": 8}, {\"primary_agency_name\": \"Glenn County\", \"n\": 7}, {\"primary_agency_name\": \"Paradise\", \"n\": 7}, {\"primary_agency_name\": \"Sierra County\", \"n\": 7}, {\"primary_agency_name\": \"Sutter County\", \"n\": 7}, {\"primary_agency_name\": \"Woodland\", \"n\": 7}, {\"primary_agency_name\": \"Yuba City\", \"n\": 7}, {\"primary_agency_name\": \"Butte County Association of Governments\", \"n\": 6}, {\"primary_agency_name\": \"South Lake Tahoe\", \"n\": 6}, {\"primary_agency_name\": \"Tahoe Transportation District\", \"n\": 6}, {\"primary_agency_name\": \"Chico\", \"n\": 5}, {\"primary_agency_name\": \"Lincoln\", \"n\": 5}]}}, {\"mode\": \"vega-lite\"});\n",
       "</script>"
      ],
      "text/plain": [
       "alt.Chart(...)"
      ]
     },
     "metadata": {},
     "output_type": "display_data"
    }
   ],
   "source": [
    "#Bar chart Agencies With The Most Unique Prefix Codes\n",
    "    \n",
    "chart3 = (_dla_utils.basic_bar_chart_no_save(((_dla_utils.get_nunique(df, 'prefix', 'primary_agency_name')).head(30)),\n",
    "                            'primary_agency_name', 'n', 'primary_agency_name', district))\n",
    "    \n",
    "display(chart3)"
   ]
  },
  {
   "cell_type": "markdown",
   "id": "409d25d0-88ee-4eff-ae1f-ca9127618b4d",
   "metadata": {
    "papermill": {
     "duration": 0.028267,
     "end_time": "2022-06-02T22:22:59.495882",
     "exception": false,
     "start_time": "2022-06-02T22:22:59.467615",
     "status": "completed"
    },
    "tags": []
   },
   "source": [
    "## Funding Distributions"
   ]
  },
  {
   "cell_type": "markdown",
   "id": "4ffab2b2-4af7-476b-abe1-8c6c2534b3fb",
   "metadata": {
    "papermill": {
     "duration": 0.0254,
     "end_time": "2022-06-02T22:22:59.547194",
     "exception": false,
     "start_time": "2022-06-02T22:22:59.521794",
     "status": "completed"
    },
    "tags": []
   },
   "source": [
    "<hr style=\"height: 2px; background-color:#136C97; border: none\">"
   ]
  },
  {
   "cell_type": "markdown",
   "id": "eacca297-667a-4649-b6ac-351e81729e0d",
   "metadata": {
    "papermill": {
     "duration": 0.027532,
     "end_time": "2022-06-02T22:22:59.614425",
     "exception": false,
     "start_time": "2022-06-02T22:22:59.586893",
     "status": "completed"
    },
    "tags": []
   },
   "source": [
    "With each E-76, three types of funding amounts are included in the obligations: \n",
    "* Total Requested (`total_requested`)\n",
    "* Advance Construction Requested (`ac_requested`)\n",
    "* Federal Requested (`fed_requested`)\n",
    "\n",
    "Using this information, we can determine how much on average an organization recieves with these funds, and the distribution of the funds.\n",
    "\n",
    "\n",
    "Metrics:\n",
    "* Average Total Requested Funds by Agency\n",
    "* Lowest Average Total Funds by Agency\n",
    "* Average Total Requested Funds by Prefix"
   ]
  },
  {
   "cell_type": "markdown",
   "id": "d3caa5e9-9126-4572-8140-f81543c7d26a",
   "metadata": {
    "papermill": {
     "duration": 0.027862,
     "end_time": "2022-06-02T22:22:59.669099",
     "exception": false,
     "start_time": "2022-06-02T22:22:59.641237",
     "status": "completed"
    },
    "tags": []
   },
   "source": [
    "### Average Total Requested Funds by Agency ($2021)"
   ]
  },
  {
   "cell_type": "code",
   "execution_count": 14,
   "id": "3745ca4d-8dd4-4c09-b46b-a2f6db6358ad",
   "metadata": {
    "execution": {
     "iopub.execute_input": "2022-06-02T22:22:59.726662Z",
     "iopub.status.busy": "2022-06-02T22:22:59.726311Z",
     "iopub.status.idle": "2022-06-02T22:22:59.760285Z",
     "shell.execute_reply": "2022-06-02T22:22:59.759385Z"
    },
    "jupyter": {
     "source_hidden": true
    },
    "papermill": {
     "duration": 0.065023,
     "end_time": "2022-06-02T22:22:59.763053",
     "exception": false,
     "start_time": "2022-06-02T22:22:59.698030",
     "status": "completed"
    },
    "tags": [
     "remove_input"
    ]
   },
   "outputs": [
    {
     "data": {
      "text/html": [
       "\n",
       "<div id=\"altair-viz-5538e8de24f648eb88881ff55a0c3de4\"></div>\n",
       "<script type=\"text/javascript\">\n",
       "  var VEGA_DEBUG = (typeof VEGA_DEBUG == \"undefined\") ? {} : VEGA_DEBUG;\n",
       "  (function(spec, embedOpt){\n",
       "    let outputDiv = document.currentScript.previousElementSibling;\n",
       "    if (outputDiv.id !== \"altair-viz-5538e8de24f648eb88881ff55a0c3de4\") {\n",
       "      outputDiv = document.getElementById(\"altair-viz-5538e8de24f648eb88881ff55a0c3de4\");\n",
       "    }\n",
       "    const paths = {\n",
       "      \"vega\": \"https://cdn.jsdelivr.net/npm//vega@5?noext\",\n",
       "      \"vega-lib\": \"https://cdn.jsdelivr.net/npm//vega-lib?noext\",\n",
       "      \"vega-lite\": \"https://cdn.jsdelivr.net/npm//vega-lite@4.17.0?noext\",\n",
       "      \"vega-embed\": \"https://cdn.jsdelivr.net/npm//vega-embed@6?noext\",\n",
       "    };\n",
       "\n",
       "    function maybeLoadScript(lib, version) {\n",
       "      var key = `${lib.replace(\"-\", \"\")}_version`;\n",
       "      return (VEGA_DEBUG[key] == version) ?\n",
       "        Promise.resolve(paths[lib]) :\n",
       "        new Promise(function(resolve, reject) {\n",
       "          var s = document.createElement('script');\n",
       "          document.getElementsByTagName(\"head\")[0].appendChild(s);\n",
       "          s.async = true;\n",
       "          s.onload = () => {\n",
       "            VEGA_DEBUG[key] = version;\n",
       "            return resolve(paths[lib]);\n",
       "          };\n",
       "          s.onerror = () => reject(`Error loading script: ${paths[lib]}`);\n",
       "          s.src = paths[lib];\n",
       "        });\n",
       "    }\n",
       "\n",
       "    function showError(err) {\n",
       "      outputDiv.innerHTML = `<div class=\"error\" style=\"color:red;\">${err}</div>`;\n",
       "      throw err;\n",
       "    }\n",
       "\n",
       "    function displayChart(vegaEmbed) {\n",
       "      vegaEmbed(outputDiv, spec, embedOpt)\n",
       "        .catch(err => showError(`Javascript Error: ${err.message}<br>This usually means there's a typo in your chart specification. See the javascript console for the full traceback.`));\n",
       "    }\n",
       "\n",
       "    if(typeof define === \"function\" && define.amd) {\n",
       "      requirejs.config({paths});\n",
       "      require([\"vega-embed\"], displayChart, err => showError(`Error loading script: ${err.message}`));\n",
       "    } else {\n",
       "      maybeLoadScript(\"vega\", \"5\")\n",
       "        .then(() => maybeLoadScript(\"vega-lite\", \"4.17.0\"))\n",
       "        .then(() => maybeLoadScript(\"vega-embed\", \"6\"))\n",
       "        .catch(showError)\n",
       "        .then(() => displayChart(vegaEmbed));\n",
       "    }\n",
       "  })({\"config\": {\"view\": {\"continuousWidth\": 400, \"continuousHeight\": 300}, \"axis\": {\"domainColor\": \"#cbcbcb\", \"grid\": true, \"gridColor\": \"#cbcbcb\", \"gridWidth\": 1, \"labelColor\": \"#474747\", \"labelFont\": \"Nunito Sans\", \"labelFontSize\": 10, \"labelPadding\": 4, \"tickColor\": \"#cbcbcb\", \"tickSize\": 10, \"titleColor\": \"#333\", \"titleFont\": \"Raleway\", \"titleFontSize\": 12, \"titlePadding\": 10}, \"axisBand\": {\"grid\": false}, \"background\": \"white\", \"font\": \"Raleway\", \"header\": {\"labelFont\": \"Nunito Sans\", \"titleFont\": \"Raleway\"}, \"legend\": {\"labelColor\": \"#333\", \"labelFont\": \"Nunito Sans\", \"labelFontSize\": 11, \"labelLimit\": 0, \"padding\": 1, \"symbolSize\": 30, \"symbolType\": \"square\", \"titleColor\": \"#333\", \"titleFont\": \"Raleway\", \"titleFontSize\": 14, \"titlePadding\": 10}, \"title\": {\"anchor\": \"middle\", \"font\": \"Raleway\", \"fontSize\": 18, \"fontWeight\": 300, \"offset\": 20}}, \"data\": {\"name\": \"data-9f865c46034895b75349ef5a4aeaaedb\"}, \"mark\": \"bar\", \"encoding\": {\"color\": {\"field\": \"primary_agency_name\", \"legend\": {\"symbolLimit\": 10, \"title\": \"Agency\"}, \"scale\": {\"range\": [\"#2EA8CE\", \"#EB9F3C\", \"#F4D837\", \"#51BF9D\", \"#8CBCCB\", \"#9487C0\"]}, \"type\": \"nominal\"}, \"tooltip\": [{\"field\": \"primary_agency_name\", \"title\": \"Agency\", \"type\": \"nominal\"}, {\"field\": \"adjusted_total_requested\", \"format\": \"$,.2f\", \"title\": \"Total Requested\", \"type\": \"quantitative\"}], \"x\": {\"field\": \"primary_agency_name\", \"sort\": \"-y\", \"title\": \"Agency\", \"type\": \"nominal\"}, \"y\": {\"field\": \"adjusted_total_requested\", \"title\": \"Total Requested\", \"type\": \"quantitative\"}}, \"height\": 250, \"width\": 400, \"$schema\": \"https://vega.github.io/schema/vega-lite/v4.17.0.json\", \"datasets\": {\"data-9f865c46034895b75349ef5a4aeaaedb\": [{\"primary_agency_name\": \"University of California - Davis\", \"adjusted_total_requested\": 2802379.7695926568}, {\"primary_agency_name\": \"Sacramento Regional Transit District\", \"adjusted_total_requested\": 2772311.640194282}, {\"primary_agency_name\": \"Yuba City\", \"adjusted_total_requested\": 2675729.8460023296}, {\"primary_agency_name\": \"Woodland\", \"adjusted_total_requested\": 1703408.39386919}, {\"primary_agency_name\": \"Yolo County Transportation District\", \"adjusted_total_requested\": 1700605.3859979971}, {\"primary_agency_name\": \"Marysville\", \"adjusted_total_requested\": 1660724.3363345482}, {\"primary_agency_name\": \"Folsom\", \"adjusted_total_requested\": 1249490.4168425123}, {\"primary_agency_name\": \"Sacramento County\", \"adjusted_total_requested\": 1117449.5768377874}, {\"primary_agency_name\": \"Sacramento Metropolitan Air Quality Management District\", \"adjusted_total_requested\": 1096066.4182141242}, {\"primary_agency_name\": \"Paradise\", \"adjusted_total_requested\": 1087504.5729144455}, {\"primary_agency_name\": \"Roseville\", \"adjusted_total_requested\": 1013833.8743494182}, {\"primary_agency_name\": \"West Sacramento\", \"adjusted_total_requested\": 1008030.2912925017}, {\"primary_agency_name\": \"Tahoe Transportation District\", \"adjusted_total_requested\": 964880.4458678174}, {\"primary_agency_name\": \"Auburn\", \"adjusted_total_requested\": 927595.8037496802}, {\"primary_agency_name\": \"Sacramento\", \"adjusted_total_requested\": 876612.5575287691}, {\"primary_agency_name\": \"Capital Southeast Connector\", \"adjusted_total_requested\": 868211.260639639}, {\"primary_agency_name\": \"Elk Grove\", \"adjusted_total_requested\": 821044.246072337}, {\"primary_agency_name\": \"Davis\", \"adjusted_total_requested\": 815303.2873199856}, {\"primary_agency_name\": \"Truckee\", \"adjusted_total_requested\": 778088.0849359209}, {\"primary_agency_name\": \"Lincoln\", \"adjusted_total_requested\": 770488.2418926997}, {\"primary_agency_name\": \"Citrus Heights\", \"adjusted_total_requested\": 755690.4227107504}, {\"primary_agency_name\": \"Rancho Cordova\", \"adjusted_total_requested\": 736318.4731487675}, {\"primary_agency_name\": \"Galt\", \"adjusted_total_requested\": 731666.8833879004}, {\"primary_agency_name\": \"Department of Parks and Recreation\", \"adjusted_total_requested\": 702510.5699186437}, {\"primary_agency_name\": \"El Dorado County\", \"adjusted_total_requested\": 639331.2952135394}, {\"primary_agency_name\": \"Placerville\", \"adjusted_total_requested\": 621888.4747795882}, {\"primary_agency_name\": \"Chico\", \"adjusted_total_requested\": 578544.7261849154}, {\"primary_agency_name\": \"Butte County\", \"adjusted_total_requested\": 572832.6383449553}, {\"primary_agency_name\": \"South Lake Tahoe\", \"adjusted_total_requested\": 554312.0616269775}, {\"primary_agency_name\": \"Yuba County\", \"adjusted_total_requested\": 481886.89351431414}]}}, {\"mode\": \"vega-lite\"});\n",
       "</script>"
      ],
      "text/plain": [
       "alt.Chart(...)"
      ]
     },
     "metadata": {},
     "output_type": "display_data"
    }
   ],
   "source": [
    "#Bar chart Average Total Requested Funds by Agency\n",
    "chart4=(_dla_utils.basic_bar_chart_no_save((((_dla_utils.calculate_data_all(df, 'adjusted_total_requested', 'primary_agency_name', aggfunc=\"mean\"))\n",
    "                          >>arrange(-_.adjusted_total_requested)).head(30)\n",
    "                        ), 'primary_agency_name','adjusted_total_requested', 'primary_agency_name', district\n",
    "                       ))\n",
    "chart4=chart4.encode([alt.Tooltip('primary_agency_name', title=_dla_utils.labeling('primary_agency_name')),\n",
    "    alt.Tooltip('adjusted_total_requested', title=_dla_utils.labeling('adjusted_total_requested'), format=\"$,.2f\"),\n",
    "                          ])\n",
    "display(chart4)"
   ]
  },
  {
   "cell_type": "markdown",
   "id": "84702987-c63c-40c9-aad7-c2d8c1b8ee49",
   "metadata": {
    "papermill": {
     "duration": 0.027051,
     "end_time": "2022-06-02T22:22:59.823915",
     "exception": false,
     "start_time": "2022-06-02T22:22:59.796864",
     "status": "completed"
    },
    "tags": []
   },
   "source": [
    "### Lowest Average Total Funds by Agency ($2021)"
   ]
  },
  {
   "cell_type": "code",
   "execution_count": 15,
   "id": "ce18a74b-9908-40f8-84f1-806552936465",
   "metadata": {
    "execution": {
     "iopub.execute_input": "2022-06-02T22:22:59.894895Z",
     "iopub.status.busy": "2022-06-02T22:22:59.894516Z",
     "iopub.status.idle": "2022-06-02T22:22:59.974222Z",
     "shell.execute_reply": "2022-06-02T22:22:59.973547Z"
    },
    "jupyter": {
     "source_hidden": true
    },
    "papermill": {
     "duration": 0.1183,
     "end_time": "2022-06-02T22:22:59.976350",
     "exception": false,
     "start_time": "2022-06-02T22:22:59.858050",
     "status": "completed"
    },
    "tags": [
     "remove_input"
    ]
   },
   "outputs": [
    {
     "data": {
      "text/html": [
       "\n",
       "<div id=\"altair-viz-3fc94eb30171481dabb46ba00dda3d4a\"></div>\n",
       "<script type=\"text/javascript\">\n",
       "  var VEGA_DEBUG = (typeof VEGA_DEBUG == \"undefined\") ? {} : VEGA_DEBUG;\n",
       "  (function(spec, embedOpt){\n",
       "    let outputDiv = document.currentScript.previousElementSibling;\n",
       "    if (outputDiv.id !== \"altair-viz-3fc94eb30171481dabb46ba00dda3d4a\") {\n",
       "      outputDiv = document.getElementById(\"altair-viz-3fc94eb30171481dabb46ba00dda3d4a\");\n",
       "    }\n",
       "    const paths = {\n",
       "      \"vega\": \"https://cdn.jsdelivr.net/npm//vega@5?noext\",\n",
       "      \"vega-lib\": \"https://cdn.jsdelivr.net/npm//vega-lib?noext\",\n",
       "      \"vega-lite\": \"https://cdn.jsdelivr.net/npm//vega-lite@4.17.0?noext\",\n",
       "      \"vega-embed\": \"https://cdn.jsdelivr.net/npm//vega-embed@6?noext\",\n",
       "    };\n",
       "\n",
       "    function maybeLoadScript(lib, version) {\n",
       "      var key = `${lib.replace(\"-\", \"\")}_version`;\n",
       "      return (VEGA_DEBUG[key] == version) ?\n",
       "        Promise.resolve(paths[lib]) :\n",
       "        new Promise(function(resolve, reject) {\n",
       "          var s = document.createElement('script');\n",
       "          document.getElementsByTagName(\"head\")[0].appendChild(s);\n",
       "          s.async = true;\n",
       "          s.onload = () => {\n",
       "            VEGA_DEBUG[key] = version;\n",
       "            return resolve(paths[lib]);\n",
       "          };\n",
       "          s.onerror = () => reject(`Error loading script: ${paths[lib]}`);\n",
       "          s.src = paths[lib];\n",
       "        });\n",
       "    }\n",
       "\n",
       "    function showError(err) {\n",
       "      outputDiv.innerHTML = `<div class=\"error\" style=\"color:red;\">${err}</div>`;\n",
       "      throw err;\n",
       "    }\n",
       "\n",
       "    function displayChart(vegaEmbed) {\n",
       "      vegaEmbed(outputDiv, spec, embedOpt)\n",
       "        .catch(err => showError(`Javascript Error: ${err.message}<br>This usually means there's a typo in your chart specification. See the javascript console for the full traceback.`));\n",
       "    }\n",
       "\n",
       "    if(typeof define === \"function\" && define.amd) {\n",
       "      requirejs.config({paths});\n",
       "      require([\"vega-embed\"], displayChart, err => showError(`Error loading script: ${err.message}`));\n",
       "    } else {\n",
       "      maybeLoadScript(\"vega\", \"5\")\n",
       "        .then(() => maybeLoadScript(\"vega-lite\", \"4.17.0\"))\n",
       "        .then(() => maybeLoadScript(\"vega-embed\", \"6\"))\n",
       "        .catch(showError)\n",
       "        .then(() => displayChart(vegaEmbed));\n",
       "    }\n",
       "  })({\"config\": {\"view\": {\"continuousWidth\": 400, \"continuousHeight\": 300}, \"axis\": {\"domainColor\": \"#cbcbcb\", \"grid\": true, \"gridColor\": \"#cbcbcb\", \"gridWidth\": 1, \"labelColor\": \"#474747\", \"labelFont\": \"Nunito Sans\", \"labelFontSize\": 10, \"labelPadding\": 4, \"tickColor\": \"#cbcbcb\", \"tickSize\": 10, \"titleColor\": \"#333\", \"titleFont\": \"Raleway\", \"titleFontSize\": 12, \"titlePadding\": 10}, \"axisBand\": {\"grid\": false}, \"background\": \"white\", \"font\": \"Raleway\", \"header\": {\"labelFont\": \"Nunito Sans\", \"titleFont\": \"Raleway\"}, \"legend\": {\"labelColor\": \"#333\", \"labelFont\": \"Nunito Sans\", \"labelFontSize\": 11, \"labelLimit\": 0, \"padding\": 1, \"symbolSize\": 30, \"symbolType\": \"square\", \"titleColor\": \"#333\", \"titleFont\": \"Raleway\", \"titleFontSize\": 14, \"titlePadding\": 10}, \"title\": {\"anchor\": \"middle\", \"font\": \"Raleway\", \"fontSize\": 18, \"fontWeight\": 300, \"offset\": 20}}, \"data\": {\"name\": \"data-1e21e2401348a9399bddfd99c35dd1d3\"}, \"mark\": \"bar\", \"encoding\": {\"color\": {\"field\": \"primary_agency_name\", \"legend\": {\"symbolLimit\": 10, \"title\": \"Agency\"}, \"scale\": {\"range\": [\"#2EA8CE\", \"#EB9F3C\", \"#F4D837\", \"#51BF9D\", \"#8CBCCB\", \"#9487C0\"]}, \"type\": \"nominal\"}, \"tooltip\": [{\"field\": \"primary_agency_name\", \"title\": \"Agency\", \"type\": \"nominal\"}, {\"field\": \"avg_funds\", \"format\": \"$,.2f\", \"title\": \"Average Funds\", \"type\": \"quantitative\"}], \"x\": {\"field\": \"primary_agency_name\", \"sort\": \"-y\", \"title\": \"Agency\", \"type\": \"nominal\"}, \"y\": {\"field\": \"avg_funds\", \"title\": \"Average Funds\", \"type\": \"quantitative\"}}, \"height\": 250, \"width\": 400, \"$schema\": \"https://vega.github.io/schema/vega-lite/v4.17.0.json\", \"datasets\": {\"data-1e21e2401348a9399bddfd99c35dd1d3\": [{\"primary_agency_name\": \"Galt\", \"avg_funds\": 731666.8833879004}, {\"primary_agency_name\": \"Department of Parks and Recreation\", \"avg_funds\": 702510.5699186437}, {\"primary_agency_name\": \"El Dorado County\", \"avg_funds\": 639331.2952135396}, {\"primary_agency_name\": \"Placerville\", \"avg_funds\": 621888.4747795882}, {\"primary_agency_name\": \"Chico\", \"avg_funds\": 578544.7261849154}, {\"primary_agency_name\": \"Butte County\", \"avg_funds\": 572832.6383449552}, {\"primary_agency_name\": \"South Lake Tahoe\", \"avg_funds\": 554312.0616269775}, {\"primary_agency_name\": \"Yuba County\", \"avg_funds\": 481886.89351431414}, {\"primary_agency_name\": \"Caltrans\", \"avg_funds\": 460189.42022702855}, {\"primary_agency_name\": \"Colfax\", \"avg_funds\": 444817.3002938296}, {\"primary_agency_name\": \"Rocklin\", \"avg_funds\": 423563.0752376041}, {\"primary_agency_name\": \"Placer County\", \"avg_funds\": 388343.0042367535}, {\"primary_agency_name\": \"Sacramento Area Council of Governments\", \"avg_funds\": 385196.536312952}, {\"primary_agency_name\": \"Loomis\", \"avg_funds\": 374297.98959398596}, {\"primary_agency_name\": \"Winters\", \"avg_funds\": 368994.3529324028}, {\"primary_agency_name\": \"Los Angeles County\", \"avg_funds\": 351880.5993101826}, {\"primary_agency_name\": \"Yolo County\", \"avg_funds\": 328438.12287025066}, {\"primary_agency_name\": \"Oroville\", \"avg_funds\": 322172.5895504991}, {\"primary_agency_name\": \"Placer County Transportation Planning Agency\", \"avg_funds\": 289466.23975608515}, {\"primary_agency_name\": \"Modoc County\", \"avg_funds\": 232028.44931840515}, {\"primary_agency_name\": \"Butte County Association of Governments\", \"avg_funds\": 211018.28176057656}, {\"primary_agency_name\": \"Nevada County\", \"avg_funds\": 200022.89619021124}, {\"primary_agency_name\": \"Sutter County\", \"avg_funds\": 195541.28137961382}, {\"primary_agency_name\": \"Willows\", \"avg_funds\": 175028.80714436635}, {\"primary_agency_name\": \"Biggs\", \"avg_funds\": 169614.98540653905}, {\"primary_agency_name\": \"Wheatland\", \"avg_funds\": 140482.80095080184}, {\"primary_agency_name\": \"California State University, Sacramento\", \"avg_funds\": 126059.34970283}, {\"primary_agency_name\": \"Sierra County\", \"avg_funds\": 111557.06359951108}, {\"primary_agency_name\": \"Glenn County\", \"avg_funds\": 83088.89983255252}, {\"primary_agency_name\": \"Live Oak\", \"avg_funds\": 63834.965282367055}, {\"primary_agency_name\": \"Nevada City\", \"avg_funds\": 56129.64095379971}, {\"primary_agency_name\": \"Gridley\", \"avg_funds\": 48139.90561898953}, {\"primary_agency_name\": \"Orland\", \"avg_funds\": 8832.458865721534}, {\"primary_agency_name\": \"California Tahoe Conservancy\", \"avg_funds\": 3841.466951048933}, {\"primary_agency_name\": \"Tahoe Regional Planning Agency\", \"avg_funds\": 0.0}, {\"primary_agency_name\": \"Natomas Unified School District\", \"avg_funds\": -491.77331053914105}, {\"primary_agency_name\": \"Colusa County\", \"avg_funds\": -3165.610277302872}, {\"primary_agency_name\": \"U.S. Forest Service, Pacific Southwest Region\", \"avg_funds\": -11628.946722808914}, {\"primary_agency_name\": \"Grass Valley\", \"avg_funds\": -819119.4771659792}, {\"primary_agency_name\": \"Dixon\", \"avg_funds\": -1477542.8813526907}]}}, {\"mode\": \"vega-lite\"});\n",
       "</script>"
      ],
      "text/plain": [
       "alt.Chart(...)"
      ]
     },
     "metadata": {},
     "output_type": "display_data"
    }
   ],
   "source": [
    "#Bar chart Bottom Average Total Requested Funds by Agency\n",
    "avg_funds_bottom = (df>>group_by(_.primary_agency_name)>>summarize(avg_funds=_.adjusted_total_requested.mean())>>arrange(-_.avg_funds)).tail(50)\n",
    "\n",
    "chart5=( _dla_utils.basic_bar_chart_no_save((avg_funds_bottom.tail(40)), 'primary_agency_name','avg_funds', 'primary_agency_name', district))\n",
    "\n",
    "chart5=chart5.encode([alt.Tooltip('primary_agency_name', title=_dla_utils.labeling('primary_agency_name')),\n",
    "                alt.Tooltip('avg_funds', title=_dla_utils.labeling('avg_funds'), format=\"$,.2f\")\n",
    "                          ]\n",
    "                                   )\n",
    "display(chart5)"
   ]
  },
  {
   "cell_type": "markdown",
   "id": "32fb0fb4-2cd3-453d-8be1-cf99fb52f56f",
   "metadata": {
    "papermill": {
     "duration": 0.028614,
     "end_time": "2022-06-02T22:23:00.034616",
     "exception": false,
     "start_time": "2022-06-02T22:23:00.006002",
     "status": "completed"
    },
    "tags": []
   },
   "source": [
    "### Average Total Requested Funds by Prefix ($2021)"
   ]
  },
  {
   "cell_type": "code",
   "execution_count": 16,
   "id": "d18938e5-6fc5-4e53-87b2-7140df57e5a0",
   "metadata": {
    "execution": {
     "iopub.execute_input": "2022-06-02T22:23:00.095160Z",
     "iopub.status.busy": "2022-06-02T22:23:00.094316Z",
     "iopub.status.idle": "2022-06-02T22:23:00.126284Z",
     "shell.execute_reply": "2022-06-02T22:23:00.125466Z"
    },
    "jupyter": {
     "source_hidden": true
    },
    "papermill": {
     "duration": 0.06551,
     "end_time": "2022-06-02T22:23:00.128792",
     "exception": false,
     "start_time": "2022-06-02T22:23:00.063282",
     "status": "completed"
    },
    "tags": [
     "remove_input"
    ]
   },
   "outputs": [
    {
     "data": {
      "text/html": [
       "\n",
       "<div id=\"altair-viz-9a76671ff5e64e4aae24e37764831e44\"></div>\n",
       "<script type=\"text/javascript\">\n",
       "  var VEGA_DEBUG = (typeof VEGA_DEBUG == \"undefined\") ? {} : VEGA_DEBUG;\n",
       "  (function(spec, embedOpt){\n",
       "    let outputDiv = document.currentScript.previousElementSibling;\n",
       "    if (outputDiv.id !== \"altair-viz-9a76671ff5e64e4aae24e37764831e44\") {\n",
       "      outputDiv = document.getElementById(\"altair-viz-9a76671ff5e64e4aae24e37764831e44\");\n",
       "    }\n",
       "    const paths = {\n",
       "      \"vega\": \"https://cdn.jsdelivr.net/npm//vega@5?noext\",\n",
       "      \"vega-lib\": \"https://cdn.jsdelivr.net/npm//vega-lib?noext\",\n",
       "      \"vega-lite\": \"https://cdn.jsdelivr.net/npm//vega-lite@4.17.0?noext\",\n",
       "      \"vega-embed\": \"https://cdn.jsdelivr.net/npm//vega-embed@6?noext\",\n",
       "    };\n",
       "\n",
       "    function maybeLoadScript(lib, version) {\n",
       "      var key = `${lib.replace(\"-\", \"\")}_version`;\n",
       "      return (VEGA_DEBUG[key] == version) ?\n",
       "        Promise.resolve(paths[lib]) :\n",
       "        new Promise(function(resolve, reject) {\n",
       "          var s = document.createElement('script');\n",
       "          document.getElementsByTagName(\"head\")[0].appendChild(s);\n",
       "          s.async = true;\n",
       "          s.onload = () => {\n",
       "            VEGA_DEBUG[key] = version;\n",
       "            return resolve(paths[lib]);\n",
       "          };\n",
       "          s.onerror = () => reject(`Error loading script: ${paths[lib]}`);\n",
       "          s.src = paths[lib];\n",
       "        });\n",
       "    }\n",
       "\n",
       "    function showError(err) {\n",
       "      outputDiv.innerHTML = `<div class=\"error\" style=\"color:red;\">${err}</div>`;\n",
       "      throw err;\n",
       "    }\n",
       "\n",
       "    function displayChart(vegaEmbed) {\n",
       "      vegaEmbed(outputDiv, spec, embedOpt)\n",
       "        .catch(err => showError(`Javascript Error: ${err.message}<br>This usually means there's a typo in your chart specification. See the javascript console for the full traceback.`));\n",
       "    }\n",
       "\n",
       "    if(typeof define === \"function\" && define.amd) {\n",
       "      requirejs.config({paths});\n",
       "      require([\"vega-embed\"], displayChart, err => showError(`Error loading script: ${err.message}`));\n",
       "    } else {\n",
       "      maybeLoadScript(\"vega\", \"5\")\n",
       "        .then(() => maybeLoadScript(\"vega-lite\", \"4.17.0\"))\n",
       "        .then(() => maybeLoadScript(\"vega-embed\", \"6\"))\n",
       "        .catch(showError)\n",
       "        .then(() => displayChart(vegaEmbed));\n",
       "    }\n",
       "  })({\"config\": {\"view\": {\"continuousWidth\": 400, \"continuousHeight\": 300}, \"axis\": {\"domainColor\": \"#cbcbcb\", \"grid\": true, \"gridColor\": \"#cbcbcb\", \"gridWidth\": 1, \"labelColor\": \"#474747\", \"labelFont\": \"Nunito Sans\", \"labelFontSize\": 10, \"labelPadding\": 4, \"tickColor\": \"#cbcbcb\", \"tickSize\": 10, \"titleColor\": \"#333\", \"titleFont\": \"Raleway\", \"titleFontSize\": 12, \"titlePadding\": 10}, \"axisBand\": {\"grid\": false}, \"background\": \"white\", \"font\": \"Raleway\", \"header\": {\"labelFont\": \"Nunito Sans\", \"titleFont\": \"Raleway\"}, \"legend\": {\"labelColor\": \"#333\", \"labelFont\": \"Nunito Sans\", \"labelFontSize\": 11, \"labelLimit\": 0, \"padding\": 1, \"symbolSize\": 30, \"symbolType\": \"square\", \"titleColor\": \"#333\", \"titleFont\": \"Raleway\", \"titleFontSize\": 14, \"titlePadding\": 10}, \"title\": {\"anchor\": \"middle\", \"font\": \"Raleway\", \"fontSize\": 18, \"fontWeight\": 300, \"offset\": 20}}, \"data\": {\"name\": \"data-8d96352a4371cb643a8bd8e95b840748\"}, \"mark\": \"bar\", \"encoding\": {\"color\": {\"field\": \"prefix\", \"legend\": {\"symbolLimit\": 10, \"title\": \"Prefix Code\"}, \"scale\": {\"range\": [\"#2EA8CE\", \"#EB9F3C\", \"#F4D837\", \"#51BF9D\", \"#8CBCCB\", \"#9487C0\"]}, \"type\": \"nominal\"}, \"tooltip\": [{\"field\": \"prefix\", \"title\": \"Prefix Code\", \"type\": \"nominal\"}, {\"field\": \"adjusted_total_requested\", \"format\": \"$,.2f\", \"title\": \"Total Requested\", \"type\": \"quantitative\"}], \"x\": {\"field\": \"prefix\", \"sort\": \"-y\", \"title\": \"Prefix Code\", \"type\": \"nominal\"}, \"y\": {\"field\": \"adjusted_total_requested\", \"title\": \"Total Requested\", \"type\": \"quantitative\"}}, \"height\": 250, \"width\": 400, \"$schema\": \"https://vega.github.io/schema/vega-lite/v4.17.0.json\", \"datasets\": {\"data-8d96352a4371cb643a8bd8e95b840748\": [{\"prefix\": \"LPPRPSB1\", \"adjusted_total_requested\": 27995972.931703992}, {\"prefix\": \"HSIPSTPL\", \"adjusted_total_requested\": 8355857.435196453}, {\"prefix\": \"ATPSTC\", \"adjusted_total_requested\": 6978813.895190889}, {\"prefix\": \"RPSTPLE\", \"adjusted_total_requested\": 6533935.9694555765}, {\"prefix\": \"TCSP\", \"adjusted_total_requested\": 4362007.563726815}, {\"prefix\": \"ESPLSE\", \"adjusted_total_requested\": 4133254.2046583556}, {\"prefix\": \"TGR2DG\", \"adjusted_total_requested\": 3387024.0406295587}, {\"prefix\": \"ESPLCM\", \"adjusted_total_requested\": 3246940.2081158743}, {\"prefix\": \"DEM05L\", \"adjusted_total_requested\": 2898763.664604705}, {\"prefix\": \"STPCML\", \"adjusted_total_requested\": 2851801.526753373}, {\"prefix\": \"LPPSB1L\", \"adjusted_total_requested\": 2733954.5289742774}, {\"prefix\": \"ATPSB1L\", \"adjusted_total_requested\": 2659515.996057557}, {\"prefix\": \"ACSTER\", \"adjusted_total_requested\": 2560100.2097289762}, {\"prefix\": \"FTACML\", \"adjusted_total_requested\": 2547538.6207864806}, {\"prefix\": \"DEMO5L\", \"adjusted_total_requested\": 2466386.917644032}, {\"prefix\": \"FTASTPL\", \"adjusted_total_requested\": 1912876.7483742586}, {\"prefix\": \"HIPSTPL\", \"adjusted_total_requested\": 1789632.815372497}, {\"prefix\": \"HICMSTPL\", \"adjusted_total_requested\": 1696032.157411843}, {\"prefix\": \"BRLS\", \"adjusted_total_requested\": 1607198.204111769}, {\"prefix\": \"NHCBPL\", \"adjusted_total_requested\": 1322356.1697487948}, {\"prefix\": \"STPLN\", \"adjusted_total_requested\": 1283025.8468074193}, {\"prefix\": \"ATPCML\", \"adjusted_total_requested\": 1149396.6758516005}, {\"prefix\": \"HSIPCML\", \"adjusted_total_requested\": 1113740.5713314738}, {\"prefix\": \"RPSTPL\", \"adjusted_total_requested\": 1050811.7233835235}, {\"prefix\": \"DEM10L\", \"adjusted_total_requested\": 1001591.6303703389}, {\"prefix\": \"CMSTPLNI\", \"adjusted_total_requested\": 941795.323782265}, {\"prefix\": \"ATPL\", \"adjusted_total_requested\": 932216.760115725}, {\"prefix\": \"FTASTCML\", \"adjusted_total_requested\": 905500.771161813}, {\"prefix\": \"HP21L\", \"adjusted_total_requested\": 854515.4884848305}, {\"prefix\": \"HIPL\", \"adjusted_total_requested\": 759680.9684543854}]}}, {\"mode\": \"vega-lite\"});\n",
       "</script>"
      ],
      "text/plain": [
       "alt.Chart(...)"
      ]
     },
     "metadata": {},
     "output_type": "display_data"
    }
   ],
   "source": [
    "# Bar chart Average Total Requested Funds by Prefix\n",
    "chart8 = (_dla_utils.basic_bar_chart_no_save((((_dla_utils.calculate_data_all(df, 'adjusted_total_requested', 'prefix', aggfunc=\"mean\"))\n",
    "                          >>arrange(-_.adjusted_total_requested)).head(30)), 'prefix','adjusted_total_requested', 'prefix', district\n",
    "                       ))\n",
    "chart8=chart8.encode([alt.Tooltip('prefix', title=_dla_utils.labeling('prefix')),\n",
    "                      alt.Tooltip('adjusted_total_requested', title=_dla_utils.labeling('adjusted_total_requested'), format=\"$,.2f\")\n",
    "                          ]\n",
    "                                   )\n",
    "display(chart8)\n",
    "    "
   ]
  },
  {
   "cell_type": "markdown",
   "id": "c4218a37-675e-40be-9659-d1297a62dc1b",
   "metadata": {
    "papermill": {
     "duration": 0.031333,
     "end_time": "2022-06-02T22:23:00.189788",
     "exception": false,
     "start_time": "2022-06-02T22:23:00.158455",
     "status": "completed"
    },
    "tags": []
   },
   "source": [
    "\n",
    "## Work Categories"
   ]
  },
  {
   "cell_type": "markdown",
   "id": "188d7213-7e0a-4873-8d28-76b86052a06b",
   "metadata": {
    "papermill": {
     "duration": 0.030408,
     "end_time": "2022-06-02T22:23:00.252786",
     "exception": false,
     "start_time": "2022-06-02T22:23:00.222378",
     "status": "completed"
    },
    "tags": []
   },
   "source": [
    "<hr style=\"height: 2px; background-color:#136C97; border: none\">"
   ]
  },
  {
   "cell_type": "markdown",
   "id": "d41b493b-2ab7-4c43-96ee-8e64a7c3e11a",
   "metadata": {
    "papermill": {
     "duration": 0.037149,
     "end_time": "2022-06-02T22:23:00.332049",
     "exception": false,
     "start_time": "2022-06-02T22:23:00.294900",
     "status": "completed"
    },
    "tags": []
   },
   "source": [
    "While the data includes a description column, organizations have the option to manually input the descriptions. Using the organizations descriptions of the obligattion type, we can categorize the obligations in terms of types of work. We used the following type of work categories:\n",
    "* Active Transportation\n",
    "* Transit\n",
    "* Bridge\n",
    "* Street\n",
    "* Freeway\n",
    "* Infrastructure/Resiliency/Emergency Relief \n",
    "* Congestion Relief\n",
    "\n",
    "With these categories, we can determine which organizations have the most obligations in that category and what percent of the category that organization accounts for. "
   ]
  },
  {
   "cell_type": "code",
   "execution_count": 17,
   "id": "50a1cf08-17eb-4b2b-9dc0-671ee7551f2d",
   "metadata": {
    "execution": {
     "iopub.execute_input": "2022-06-02T22:23:00.395447Z",
     "iopub.status.busy": "2022-06-02T22:23:00.394381Z",
     "iopub.status.idle": "2022-06-02T22:23:01.198079Z",
     "shell.execute_reply": "2022-06-02T22:23:01.197132Z"
    },
    "jupyter": {
     "source_hidden": true
    },
    "papermill": {
     "duration": 0.838412,
     "end_time": "2022-06-02T22:23:01.200493",
     "exception": false,
     "start_time": "2022-06-02T22:23:00.362081",
     "status": "completed"
    },
    "tags": [
     "remove_input"
    ]
   },
   "outputs": [
    {
     "data": {
      "application/vnd.jupyter.widget-view+json": {
       "model_id": "891557ba355f48719211e969c00abfd4",
       "version_major": 2,
       "version_minor": 0
      },
      "text/plain": [
       "HTML(value='<h3> Top Agencies using Active Transportation Projects </h3>')"
      ]
     },
     "metadata": {},
     "output_type": "display_data"
    },
    {
     "data": {
      "application/vnd.jupyter.widget-view+json": {
       "model_id": "3c9af1efac9f4860ac610590d2f8359d",
       "version_major": 2,
       "version_minor": 0
      },
      "text/plain": [
       "HTML(value='<style type=\"text/css\">\\n#T_23628 th {\\n  text-align: center;\\n}\\n#T_23628_row0_col0, #T_23628_row…"
      ]
     },
     "metadata": {},
     "output_type": "display_data"
    },
    {
     "data": {
      "text/html": [
       "\n",
       "<div id=\"altair-viz-a2209b14cad248049279ac7ba04e68fc\"></div>\n",
       "<script type=\"text/javascript\">\n",
       "  var VEGA_DEBUG = (typeof VEGA_DEBUG == \"undefined\") ? {} : VEGA_DEBUG;\n",
       "  (function(spec, embedOpt){\n",
       "    let outputDiv = document.currentScript.previousElementSibling;\n",
       "    if (outputDiv.id !== \"altair-viz-a2209b14cad248049279ac7ba04e68fc\") {\n",
       "      outputDiv = document.getElementById(\"altair-viz-a2209b14cad248049279ac7ba04e68fc\");\n",
       "    }\n",
       "    const paths = {\n",
       "      \"vega\": \"https://cdn.jsdelivr.net/npm//vega@5?noext\",\n",
       "      \"vega-lib\": \"https://cdn.jsdelivr.net/npm//vega-lib?noext\",\n",
       "      \"vega-lite\": \"https://cdn.jsdelivr.net/npm//vega-lite@4.17.0?noext\",\n",
       "      \"vega-embed\": \"https://cdn.jsdelivr.net/npm//vega-embed@6?noext\",\n",
       "    };\n",
       "\n",
       "    function maybeLoadScript(lib, version) {\n",
       "      var key = `${lib.replace(\"-\", \"\")}_version`;\n",
       "      return (VEGA_DEBUG[key] == version) ?\n",
       "        Promise.resolve(paths[lib]) :\n",
       "        new Promise(function(resolve, reject) {\n",
       "          var s = document.createElement('script');\n",
       "          document.getElementsByTagName(\"head\")[0].appendChild(s);\n",
       "          s.async = true;\n",
       "          s.onload = () => {\n",
       "            VEGA_DEBUG[key] = version;\n",
       "            return resolve(paths[lib]);\n",
       "          };\n",
       "          s.onerror = () => reject(`Error loading script: ${paths[lib]}`);\n",
       "          s.src = paths[lib];\n",
       "        });\n",
       "    }\n",
       "\n",
       "    function showError(err) {\n",
       "      outputDiv.innerHTML = `<div class=\"error\" style=\"color:red;\">${err}</div>`;\n",
       "      throw err;\n",
       "    }\n",
       "\n",
       "    function displayChart(vegaEmbed) {\n",
       "      vegaEmbed(outputDiv, spec, embedOpt)\n",
       "        .catch(err => showError(`Javascript Error: ${err.message}<br>This usually means there's a typo in your chart specification. See the javascript console for the full traceback.`));\n",
       "    }\n",
       "\n",
       "    if(typeof define === \"function\" && define.amd) {\n",
       "      requirejs.config({paths});\n",
       "      require([\"vega-embed\"], displayChart, err => showError(`Error loading script: ${err.message}`));\n",
       "    } else {\n",
       "      maybeLoadScript(\"vega\", \"5\")\n",
       "        .then(() => maybeLoadScript(\"vega-lite\", \"4.17.0\"))\n",
       "        .then(() => maybeLoadScript(\"vega-embed\", \"6\"))\n",
       "        .catch(showError)\n",
       "        .then(() => displayChart(vegaEmbed));\n",
       "    }\n",
       "  })({\"config\": {\"view\": {\"continuousWidth\": 400, \"continuousHeight\": 300}}, \"data\": {\"name\": \"data-5c91db238424d0150af1f85b9bc6704d\"}, \"mark\": \"bar\", \"encoding\": {\"color\": {\"field\": \"Categories\", \"scale\": {\"range\": [\"#2EA8CE\", \"#EB9F3C\", \"#F4D837\", \"#51BF9D\", \"#8CBCCB\", \"#9487C0\"]}, \"type\": \"nominal\"}, \"row\": {\"field\": \"Categories\", \"type\": \"nominal\"}, \"tooltip\": [{\"field\": \"Agency\", \"title\": \"Agency\", \"type\": \"nominal\"}, {\"field\": \"Funding Amount\", \"format\": \"$,.2f\", \"title\": \"Funding Amount\", \"type\": \"quantitative\"}], \"x\": {\"axis\": {\"format\": \"$.2s\", \"title\": \"Obligated Funding ($2021)\"}, \"field\": \"Funding Amount\", \"type\": \"quantitative\"}, \"y\": {\"field\": \"Agency\", \"type\": \"nominal\"}}, \"height\": 70, \"width\": 400, \"$schema\": \"https://vega.github.io/schema/vega-lite/v4.17.0.json\", \"datasets\": {\"data-5c91db238424d0150af1f85b9bc6704d\": [{\"Agency\": \"Sacramento County\", \"Categories\": \"Total Requested\", \"Funding Amount\": 1006838.9208737164}, {\"Agency\": \"El Dorado County\", \"Categories\": \"Total Requested\", \"Funding Amount\": 397715.0546323286}, {\"Agency\": \"Sacramento\", \"Categories\": \"Total Requested\", \"Funding Amount\": 653335.7769433504}, {\"Agency\": \"Rancho Cordova\", \"Categories\": \"Total Requested\", \"Funding Amount\": 842344.4249561034}, {\"Agency\": \"Elk Grove\", \"Categories\": \"Total Requested\", \"Funding Amount\": 585678.4057700611}, {\"Agency\": \"Sacramento County\", \"Categories\": \"Fed Requested\", \"Funding Amount\": 544852.142491614}, {\"Agency\": \"El Dorado County\", \"Categories\": \"Fed Requested\", \"Funding Amount\": 206841.3810279618}, {\"Agency\": \"Sacramento\", \"Categories\": \"Fed Requested\", \"Funding Amount\": 594180.2482801522}, {\"Agency\": \"Rancho Cordova\", \"Categories\": \"Fed Requested\", \"Funding Amount\": 777780.4328056024}, {\"Agency\": \"Elk Grove\", \"Categories\": \"Fed Requested\", \"Funding Amount\": 397589.59243191796}, {\"Agency\": \"Sacramento County\", \"Categories\": \"AC Requested\", \"Funding Amount\": 36577.17810886606}, {\"Agency\": \"El Dorado County\", \"Categories\": \"AC Requested\", \"Funding Amount\": 2658.70316148895}, {\"Agency\": \"Sacramento\", \"Categories\": \"AC Requested\", \"Funding Amount\": -85929.73661712708}, {\"Agency\": \"Rancho Cordova\", \"Categories\": \"AC Requested\", \"Funding Amount\": 297118.56882790447}, {\"Agency\": \"Elk Grove\", \"Categories\": \"AC Requested\", \"Funding Amount\": 133.35860167428177}]}}, {\"mode\": \"vega-lite\"});\n",
       "</script>"
      ],
      "text/plain": [
       "alt.Chart(...)"
      ]
     },
     "metadata": {},
     "output_type": "display_data"
    },
    {
     "data": {
      "application/vnd.jupyter.widget-view+json": {
       "model_id": "c80d5953ab60487998633802f72ce95d",
       "version_major": 2,
       "version_minor": 0
      },
      "text/plain": [
       "HTML(value='<h3> Top Agencies using Transit Projects </h3>')"
      ]
     },
     "metadata": {},
     "output_type": "display_data"
    },
    {
     "data": {
      "application/vnd.jupyter.widget-view+json": {
       "model_id": "485edc6a892f4c489cb8c612e6c77c3c",
       "version_major": 2,
       "version_minor": 0
      },
      "text/plain": [
       "HTML(value='<style type=\"text/css\">\\n#T_e5580 th {\\n  text-align: center;\\n}\\n#T_e5580_row0_col0, #T_e5580_row…"
      ]
     },
     "metadata": {},
     "output_type": "display_data"
    },
    {
     "data": {
      "text/html": [
       "\n",
       "<div id=\"altair-viz-b99b5bf3d32146f8823fbe3d6862f8cd\"></div>\n",
       "<script type=\"text/javascript\">\n",
       "  var VEGA_DEBUG = (typeof VEGA_DEBUG == \"undefined\") ? {} : VEGA_DEBUG;\n",
       "  (function(spec, embedOpt){\n",
       "    let outputDiv = document.currentScript.previousElementSibling;\n",
       "    if (outputDiv.id !== \"altair-viz-b99b5bf3d32146f8823fbe3d6862f8cd\") {\n",
       "      outputDiv = document.getElementById(\"altair-viz-b99b5bf3d32146f8823fbe3d6862f8cd\");\n",
       "    }\n",
       "    const paths = {\n",
       "      \"vega\": \"https://cdn.jsdelivr.net/npm//vega@5?noext\",\n",
       "      \"vega-lib\": \"https://cdn.jsdelivr.net/npm//vega-lib?noext\",\n",
       "      \"vega-lite\": \"https://cdn.jsdelivr.net/npm//vega-lite@4.17.0?noext\",\n",
       "      \"vega-embed\": \"https://cdn.jsdelivr.net/npm//vega-embed@6?noext\",\n",
       "    };\n",
       "\n",
       "    function maybeLoadScript(lib, version) {\n",
       "      var key = `${lib.replace(\"-\", \"\")}_version`;\n",
       "      return (VEGA_DEBUG[key] == version) ?\n",
       "        Promise.resolve(paths[lib]) :\n",
       "        new Promise(function(resolve, reject) {\n",
       "          var s = document.createElement('script');\n",
       "          document.getElementsByTagName(\"head\")[0].appendChild(s);\n",
       "          s.async = true;\n",
       "          s.onload = () => {\n",
       "            VEGA_DEBUG[key] = version;\n",
       "            return resolve(paths[lib]);\n",
       "          };\n",
       "          s.onerror = () => reject(`Error loading script: ${paths[lib]}`);\n",
       "          s.src = paths[lib];\n",
       "        });\n",
       "    }\n",
       "\n",
       "    function showError(err) {\n",
       "      outputDiv.innerHTML = `<div class=\"error\" style=\"color:red;\">${err}</div>`;\n",
       "      throw err;\n",
       "    }\n",
       "\n",
       "    function displayChart(vegaEmbed) {\n",
       "      vegaEmbed(outputDiv, spec, embedOpt)\n",
       "        .catch(err => showError(`Javascript Error: ${err.message}<br>This usually means there's a typo in your chart specification. See the javascript console for the full traceback.`));\n",
       "    }\n",
       "\n",
       "    if(typeof define === \"function\" && define.amd) {\n",
       "      requirejs.config({paths});\n",
       "      require([\"vega-embed\"], displayChart, err => showError(`Error loading script: ${err.message}`));\n",
       "    } else {\n",
       "      maybeLoadScript(\"vega\", \"5\")\n",
       "        .then(() => maybeLoadScript(\"vega-lite\", \"4.17.0\"))\n",
       "        .then(() => maybeLoadScript(\"vega-embed\", \"6\"))\n",
       "        .catch(showError)\n",
       "        .then(() => displayChart(vegaEmbed));\n",
       "    }\n",
       "  })({\"config\": {\"view\": {\"continuousWidth\": 400, \"continuousHeight\": 300}}, \"data\": {\"name\": \"data-2bdb41d6c283b017d9d85fc8d4919b43\"}, \"mark\": \"bar\", \"encoding\": {\"color\": {\"field\": \"Categories\", \"scale\": {\"range\": [\"#2EA8CE\", \"#EB9F3C\", \"#F4D837\", \"#51BF9D\", \"#8CBCCB\", \"#9487C0\"]}, \"type\": \"nominal\"}, \"row\": {\"field\": \"Categories\", \"type\": \"nominal\"}, \"tooltip\": [{\"field\": \"Agency\", \"title\": \"Agency\", \"type\": \"nominal\"}, {\"field\": \"Funding Amount\", \"format\": \"$,.2f\", \"title\": \"Funding Amount\", \"type\": \"quantitative\"}], \"x\": {\"axis\": {\"format\": \"$.2s\", \"title\": \"Obligated Funding ($2021)\"}, \"field\": \"Funding Amount\", \"type\": \"quantitative\"}, \"y\": {\"field\": \"Agency\", \"type\": \"nominal\"}}, \"height\": 70, \"width\": 400, \"$schema\": \"https://vega.github.io/schema/vega-lite/v4.17.0.json\", \"datasets\": {\"data-2bdb41d6c283b017d9d85fc8d4919b43\": [{\"Agency\": \"Tahoe Transportation District\", \"Categories\": \"Total Requested\", \"Funding Amount\": 772230.0087389185}, {\"Agency\": \"Caltrans\", \"Categories\": \"Total Requested\", \"Funding Amount\": 1505344.0180575813}, {\"Agency\": \"Chico\", \"Categories\": \"Total Requested\", \"Funding Amount\": 285348.24301433575}, {\"Agency\": \"Citrus Heights\", \"Categories\": \"Total Requested\", \"Funding Amount\": 95746.06560485839}, {\"Agency\": \"Sacramento Area Council of Governments\", \"Categories\": \"Total Requested\", \"Funding Amount\": 328786.5489787876}, {\"Agency\": \"Tahoe Transportation District\", \"Categories\": \"Fed Requested\", \"Funding Amount\": 771012.7134958974}, {\"Agency\": \"Caltrans\", \"Categories\": \"Fed Requested\", \"Funding Amount\": 1514363.7684518592}, {\"Agency\": \"Chico\", \"Categories\": \"Fed Requested\", \"Funding Amount\": 481034.9096691741}, {\"Agency\": \"Citrus Heights\", \"Categories\": \"Fed Requested\", \"Funding Amount\": 84482.71974893435}, {\"Agency\": \"Sacramento Area Council of Governments\", \"Categories\": \"Fed Requested\", \"Funding Amount\": 142906.41599547712}, {\"Agency\": \"Tahoe Transportation District\", \"Categories\": \"AC Requested\", \"Funding Amount\": 89.11665627821203}, {\"Agency\": \"Caltrans\", \"Categories\": \"AC Requested\", \"Funding Amount\": 0.0}, {\"Agency\": \"Chico\", \"Categories\": \"AC Requested\", \"Funding Amount\": -195686.66665483837}, {\"Agency\": \"Citrus Heights\", \"Categories\": \"AC Requested\", \"Funding Amount\": 0.0}, {\"Agency\": \"Sacramento Area Council of Governments\", \"Categories\": \"AC Requested\", \"Funding Amount\": 0.0}]}}, {\"mode\": \"vega-lite\"});\n",
       "</script>"
      ],
      "text/plain": [
       "alt.Chart(...)"
      ]
     },
     "metadata": {},
     "output_type": "display_data"
    },
    {
     "data": {
      "application/vnd.jupyter.widget-view+json": {
       "model_id": "658687568d2049f6bb4c6037ea6fa114",
       "version_major": 2,
       "version_minor": 0
      },
      "text/plain": [
       "HTML(value='<h3> Top Agencies using Bridge Projects </h3>')"
      ]
     },
     "metadata": {},
     "output_type": "display_data"
    },
    {
     "data": {
      "application/vnd.jupyter.widget-view+json": {
       "model_id": "5448159530194ef297919f69aa3dec58",
       "version_major": 2,
       "version_minor": 0
      },
      "text/plain": [
       "HTML(value='<style type=\"text/css\">\\n#T_fcff1 th {\\n  text-align: center;\\n}\\n#T_fcff1_row0_col0, #T_fcff1_row…"
      ]
     },
     "metadata": {},
     "output_type": "display_data"
    },
    {
     "data": {
      "text/html": [
       "\n",
       "<div id=\"altair-viz-3a36166dfe874acd91487d438e29d292\"></div>\n",
       "<script type=\"text/javascript\">\n",
       "  var VEGA_DEBUG = (typeof VEGA_DEBUG == \"undefined\") ? {} : VEGA_DEBUG;\n",
       "  (function(spec, embedOpt){\n",
       "    let outputDiv = document.currentScript.previousElementSibling;\n",
       "    if (outputDiv.id !== \"altair-viz-3a36166dfe874acd91487d438e29d292\") {\n",
       "      outputDiv = document.getElementById(\"altair-viz-3a36166dfe874acd91487d438e29d292\");\n",
       "    }\n",
       "    const paths = {\n",
       "      \"vega\": \"https://cdn.jsdelivr.net/npm//vega@5?noext\",\n",
       "      \"vega-lib\": \"https://cdn.jsdelivr.net/npm//vega-lib?noext\",\n",
       "      \"vega-lite\": \"https://cdn.jsdelivr.net/npm//vega-lite@4.17.0?noext\",\n",
       "      \"vega-embed\": \"https://cdn.jsdelivr.net/npm//vega-embed@6?noext\",\n",
       "    };\n",
       "\n",
       "    function maybeLoadScript(lib, version) {\n",
       "      var key = `${lib.replace(\"-\", \"\")}_version`;\n",
       "      return (VEGA_DEBUG[key] == version) ?\n",
       "        Promise.resolve(paths[lib]) :\n",
       "        new Promise(function(resolve, reject) {\n",
       "          var s = document.createElement('script');\n",
       "          document.getElementsByTagName(\"head\")[0].appendChild(s);\n",
       "          s.async = true;\n",
       "          s.onload = () => {\n",
       "            VEGA_DEBUG[key] = version;\n",
       "            return resolve(paths[lib]);\n",
       "          };\n",
       "          s.onerror = () => reject(`Error loading script: ${paths[lib]}`);\n",
       "          s.src = paths[lib];\n",
       "        });\n",
       "    }\n",
       "\n",
       "    function showError(err) {\n",
       "      outputDiv.innerHTML = `<div class=\"error\" style=\"color:red;\">${err}</div>`;\n",
       "      throw err;\n",
       "    }\n",
       "\n",
       "    function displayChart(vegaEmbed) {\n",
       "      vegaEmbed(outputDiv, spec, embedOpt)\n",
       "        .catch(err => showError(`Javascript Error: ${err.message}<br>This usually means there's a typo in your chart specification. See the javascript console for the full traceback.`));\n",
       "    }\n",
       "\n",
       "    if(typeof define === \"function\" && define.amd) {\n",
       "      requirejs.config({paths});\n",
       "      require([\"vega-embed\"], displayChart, err => showError(`Error loading script: ${err.message}`));\n",
       "    } else {\n",
       "      maybeLoadScript(\"vega\", \"5\")\n",
       "        .then(() => maybeLoadScript(\"vega-lite\", \"4.17.0\"))\n",
       "        .then(() => maybeLoadScript(\"vega-embed\", \"6\"))\n",
       "        .catch(showError)\n",
       "        .then(() => displayChart(vegaEmbed));\n",
       "    }\n",
       "  })({\"config\": {\"view\": {\"continuousWidth\": 400, \"continuousHeight\": 300}}, \"data\": {\"name\": \"data-c97f8e8b4868666e5112687da73b88c2\"}, \"mark\": \"bar\", \"encoding\": {\"color\": {\"field\": \"Categories\", \"scale\": {\"range\": [\"#2EA8CE\", \"#EB9F3C\", \"#F4D837\", \"#51BF9D\", \"#8CBCCB\", \"#9487C0\"]}, \"type\": \"nominal\"}, \"row\": {\"field\": \"Categories\", \"type\": \"nominal\"}, \"tooltip\": [{\"field\": \"Agency\", \"title\": \"Agency\", \"type\": \"nominal\"}, {\"field\": \"Funding Amount\", \"format\": \"$,.2f\", \"title\": \"Funding Amount\", \"type\": \"quantitative\"}], \"x\": {\"axis\": {\"format\": \"$.2s\", \"title\": \"Obligated Funding ($2021)\"}, \"field\": \"Funding Amount\", \"type\": \"quantitative\"}, \"y\": {\"field\": \"Agency\", \"type\": \"nominal\"}}, \"height\": 70, \"width\": 400, \"$schema\": \"https://vega.github.io/schema/vega-lite/v4.17.0.json\", \"datasets\": {\"data-c97f8e8b4868666e5112687da73b88c2\": [{\"Agency\": \"El Dorado County\", \"Categories\": \"Total Requested\", \"Funding Amount\": 1307073.268009884}, {\"Agency\": \"Placer County\", \"Categories\": \"Total Requested\", \"Funding Amount\": 715610.2238875834}, {\"Agency\": \"Nevada County\", \"Categories\": \"Total Requested\", \"Funding Amount\": 264654.6318489046}, {\"Agency\": \"Sacramento County\", \"Categories\": \"Total Requested\", \"Funding Amount\": 1213991.6999276623}, {\"Agency\": \"Yuba County\", \"Categories\": \"Total Requested\", \"Funding Amount\": 398679.0596316367}, {\"Agency\": \"El Dorado County\", \"Categories\": \"Fed Requested\", \"Funding Amount\": 690985.2528894894}, {\"Agency\": \"Placer County\", \"Categories\": \"Fed Requested\", \"Funding Amount\": 1158334.093159623}, {\"Agency\": \"Nevada County\", \"Categories\": \"Fed Requested\", \"Funding Amount\": 258216.56512708103}, {\"Agency\": \"Sacramento County\", \"Categories\": \"Fed Requested\", \"Funding Amount\": 681887.5738685245}, {\"Agency\": \"Yuba County\", \"Categories\": \"Fed Requested\", \"Funding Amount\": 393393.36443069915}, {\"Agency\": \"El Dorado County\", \"Categories\": \"AC Requested\", \"Funding Amount\": 583328.0832098748}, {\"Agency\": \"Placer County\", \"Categories\": \"AC Requested\", \"Funding Amount\": 18777.694475791308}, {\"Agency\": \"Nevada County\", \"Categories\": \"AC Requested\", \"Funding Amount\": 556.9483666472546}, {\"Agency\": \"Sacramento County\", \"Categories\": \"AC Requested\", \"Funding Amount\": 192156.52498968827}, {\"Agency\": \"Yuba County\", \"Categories\": \"AC Requested\", \"Funding Amount\": 0.0}]}}, {\"mode\": \"vega-lite\"});\n",
       "</script>"
      ],
      "text/plain": [
       "alt.Chart(...)"
      ]
     },
     "metadata": {},
     "output_type": "display_data"
    },
    {
     "data": {
      "application/vnd.jupyter.widget-view+json": {
       "model_id": "5c4cb491cd2d4f06b76b510837a81cf6",
       "version_major": 2,
       "version_minor": 0
      },
      "text/plain": [
       "HTML(value='<h3> Top Agencies using Street Projects </h3>')"
      ]
     },
     "metadata": {},
     "output_type": "display_data"
    },
    {
     "data": {
      "application/vnd.jupyter.widget-view+json": {
       "model_id": "6f36b1e9f65f49ed9d7d0ed586baab7f",
       "version_major": 2,
       "version_minor": 0
      },
      "text/plain": [
       "HTML(value='<style type=\"text/css\">\\n#T_548b0 th {\\n  text-align: center;\\n}\\n#T_548b0_row0_col0, #T_548b0_row…"
      ]
     },
     "metadata": {},
     "output_type": "display_data"
    },
    {
     "data": {
      "text/html": [
       "\n",
       "<div id=\"altair-viz-f254ef0a4aee44cda8c359c519766c4a\"></div>\n",
       "<script type=\"text/javascript\">\n",
       "  var VEGA_DEBUG = (typeof VEGA_DEBUG == \"undefined\") ? {} : VEGA_DEBUG;\n",
       "  (function(spec, embedOpt){\n",
       "    let outputDiv = document.currentScript.previousElementSibling;\n",
       "    if (outputDiv.id !== \"altair-viz-f254ef0a4aee44cda8c359c519766c4a\") {\n",
       "      outputDiv = document.getElementById(\"altair-viz-f254ef0a4aee44cda8c359c519766c4a\");\n",
       "    }\n",
       "    const paths = {\n",
       "      \"vega\": \"https://cdn.jsdelivr.net/npm//vega@5?noext\",\n",
       "      \"vega-lib\": \"https://cdn.jsdelivr.net/npm//vega-lib?noext\",\n",
       "      \"vega-lite\": \"https://cdn.jsdelivr.net/npm//vega-lite@4.17.0?noext\",\n",
       "      \"vega-embed\": \"https://cdn.jsdelivr.net/npm//vega-embed@6?noext\",\n",
       "    };\n",
       "\n",
       "    function maybeLoadScript(lib, version) {\n",
       "      var key = `${lib.replace(\"-\", \"\")}_version`;\n",
       "      return (VEGA_DEBUG[key] == version) ?\n",
       "        Promise.resolve(paths[lib]) :\n",
       "        new Promise(function(resolve, reject) {\n",
       "          var s = document.createElement('script');\n",
       "          document.getElementsByTagName(\"head\")[0].appendChild(s);\n",
       "          s.async = true;\n",
       "          s.onload = () => {\n",
       "            VEGA_DEBUG[key] = version;\n",
       "            return resolve(paths[lib]);\n",
       "          };\n",
       "          s.onerror = () => reject(`Error loading script: ${paths[lib]}`);\n",
       "          s.src = paths[lib];\n",
       "        });\n",
       "    }\n",
       "\n",
       "    function showError(err) {\n",
       "      outputDiv.innerHTML = `<div class=\"error\" style=\"color:red;\">${err}</div>`;\n",
       "      throw err;\n",
       "    }\n",
       "\n",
       "    function displayChart(vegaEmbed) {\n",
       "      vegaEmbed(outputDiv, spec, embedOpt)\n",
       "        .catch(err => showError(`Javascript Error: ${err.message}<br>This usually means there's a typo in your chart specification. See the javascript console for the full traceback.`));\n",
       "    }\n",
       "\n",
       "    if(typeof define === \"function\" && define.amd) {\n",
       "      requirejs.config({paths});\n",
       "      require([\"vega-embed\"], displayChart, err => showError(`Error loading script: ${err.message}`));\n",
       "    } else {\n",
       "      maybeLoadScript(\"vega\", \"5\")\n",
       "        .then(() => maybeLoadScript(\"vega-lite\", \"4.17.0\"))\n",
       "        .then(() => maybeLoadScript(\"vega-embed\", \"6\"))\n",
       "        .catch(showError)\n",
       "        .then(() => displayChart(vegaEmbed));\n",
       "    }\n",
       "  })({\"config\": {\"view\": {\"continuousWidth\": 400, \"continuousHeight\": 300}}, \"data\": {\"name\": \"data-f12c8cf43f647c559e40a8745fcc8861\"}, \"mark\": \"bar\", \"encoding\": {\"color\": {\"field\": \"Categories\", \"scale\": {\"range\": [\"#2EA8CE\", \"#EB9F3C\", \"#F4D837\", \"#51BF9D\", \"#8CBCCB\", \"#9487C0\"]}, \"type\": \"nominal\"}, \"row\": {\"field\": \"Categories\", \"type\": \"nominal\"}, \"tooltip\": [{\"field\": \"Agency\", \"title\": \"Agency\", \"type\": \"nominal\"}, {\"field\": \"Funding Amount\", \"format\": \"$,.2f\", \"title\": \"Funding Amount\", \"type\": \"quantitative\"}], \"x\": {\"axis\": {\"format\": \"$.2s\", \"title\": \"Obligated Funding ($2021)\"}, \"field\": \"Funding Amount\", \"type\": \"quantitative\"}, \"y\": {\"field\": \"Agency\", \"type\": \"nominal\"}}, \"height\": 70, \"width\": 400, \"$schema\": \"https://vega.github.io/schema/vega-lite/v4.17.0.json\", \"datasets\": {\"data-f12c8cf43f647c559e40a8745fcc8861\": [{\"Agency\": \"Sacramento County\", \"Categories\": \"Total Requested\", \"Funding Amount\": 1293596.036194243}, {\"Agency\": \"Sacramento\", \"Categories\": \"Total Requested\", \"Funding Amount\": 860723.2354775334}, {\"Agency\": \"Butte County\", \"Categories\": \"Total Requested\", \"Funding Amount\": 510554.3697403261}, {\"Agency\": \"Yuba County\", \"Categories\": \"Total Requested\", \"Funding Amount\": 685871.7881751625}, {\"Agency\": \"El Dorado County\", \"Categories\": \"Total Requested\", \"Funding Amount\": 190086.63183238363}, {\"Agency\": \"Sacramento County\", \"Categories\": \"Fed Requested\", \"Funding Amount\": 770561.4136691388}, {\"Agency\": \"Sacramento\", \"Categories\": \"Fed Requested\", \"Funding Amount\": 604527.8798072578}, {\"Agency\": \"Butte County\", \"Categories\": \"Fed Requested\", \"Funding Amount\": 414927.57935865194}, {\"Agency\": \"Yuba County\", \"Categories\": \"Fed Requested\", \"Funding Amount\": 285447.30037705007}, {\"Agency\": \"El Dorado County\", \"Categories\": \"Fed Requested\", \"Funding Amount\": 150363.26349577255}, {\"Agency\": \"Sacramento County\", \"Categories\": \"AC Requested\", \"Funding Amount\": 12339.914372363259}, {\"Agency\": \"Sacramento\", \"Categories\": \"AC Requested\", \"Funding Amount\": 17846.68547807708}, {\"Agency\": \"Butte County\", \"Categories\": \"AC Requested\", \"Funding Amount\": 15863.207585207765}, {\"Agency\": \"Yuba County\", \"Categories\": \"AC Requested\", \"Funding Amount\": 104201.63606517398}, {\"Agency\": \"El Dorado County\", \"Categories\": \"AC Requested\", \"Funding Amount\": 593.526040286967}]}}, {\"mode\": \"vega-lite\"});\n",
       "</script>"
      ],
      "text/plain": [
       "alt.Chart(...)"
      ]
     },
     "metadata": {},
     "output_type": "display_data"
    },
    {
     "data": {
      "application/vnd.jupyter.widget-view+json": {
       "model_id": "fe34f3cce8994b1cb01a1e007e47b827",
       "version_major": 2,
       "version_minor": 0
      },
      "text/plain": [
       "HTML(value='<h3> Top Agencies using Freeway Projects </h3>')"
      ]
     },
     "metadata": {},
     "output_type": "display_data"
    },
    {
     "data": {
      "application/vnd.jupyter.widget-view+json": {
       "model_id": "0ff3922d86534d7ab63a0067e428b480",
       "version_major": 2,
       "version_minor": 0
      },
      "text/plain": [
       "HTML(value='<style type=\"text/css\">\\n#T_f79c1 th {\\n  text-align: center;\\n}\\n#T_f79c1_row0_col0, #T_f79c1_row…"
      ]
     },
     "metadata": {},
     "output_type": "display_data"
    },
    {
     "data": {
      "text/html": [
       "\n",
       "<div id=\"altair-viz-3221b04855b743f0b5526d275f1b5a50\"></div>\n",
       "<script type=\"text/javascript\">\n",
       "  var VEGA_DEBUG = (typeof VEGA_DEBUG == \"undefined\") ? {} : VEGA_DEBUG;\n",
       "  (function(spec, embedOpt){\n",
       "    let outputDiv = document.currentScript.previousElementSibling;\n",
       "    if (outputDiv.id !== \"altair-viz-3221b04855b743f0b5526d275f1b5a50\") {\n",
       "      outputDiv = document.getElementById(\"altair-viz-3221b04855b743f0b5526d275f1b5a50\");\n",
       "    }\n",
       "    const paths = {\n",
       "      \"vega\": \"https://cdn.jsdelivr.net/npm//vega@5?noext\",\n",
       "      \"vega-lib\": \"https://cdn.jsdelivr.net/npm//vega-lib?noext\",\n",
       "      \"vega-lite\": \"https://cdn.jsdelivr.net/npm//vega-lite@4.17.0?noext\",\n",
       "      \"vega-embed\": \"https://cdn.jsdelivr.net/npm//vega-embed@6?noext\",\n",
       "    };\n",
       "\n",
       "    function maybeLoadScript(lib, version) {\n",
       "      var key = `${lib.replace(\"-\", \"\")}_version`;\n",
       "      return (VEGA_DEBUG[key] == version) ?\n",
       "        Promise.resolve(paths[lib]) :\n",
       "        new Promise(function(resolve, reject) {\n",
       "          var s = document.createElement('script');\n",
       "          document.getElementsByTagName(\"head\")[0].appendChild(s);\n",
       "          s.async = true;\n",
       "          s.onload = () => {\n",
       "            VEGA_DEBUG[key] = version;\n",
       "            return resolve(paths[lib]);\n",
       "          };\n",
       "          s.onerror = () => reject(`Error loading script: ${paths[lib]}`);\n",
       "          s.src = paths[lib];\n",
       "        });\n",
       "    }\n",
       "\n",
       "    function showError(err) {\n",
       "      outputDiv.innerHTML = `<div class=\"error\" style=\"color:red;\">${err}</div>`;\n",
       "      throw err;\n",
       "    }\n",
       "\n",
       "    function displayChart(vegaEmbed) {\n",
       "      vegaEmbed(outputDiv, spec, embedOpt)\n",
       "        .catch(err => showError(`Javascript Error: ${err.message}<br>This usually means there's a typo in your chart specification. See the javascript console for the full traceback.`));\n",
       "    }\n",
       "\n",
       "    if(typeof define === \"function\" && define.amd) {\n",
       "      requirejs.config({paths});\n",
       "      require([\"vega-embed\"], displayChart, err => showError(`Error loading script: ${err.message}`));\n",
       "    } else {\n",
       "      maybeLoadScript(\"vega\", \"5\")\n",
       "        .then(() => maybeLoadScript(\"vega-lite\", \"4.17.0\"))\n",
       "        .then(() => maybeLoadScript(\"vega-embed\", \"6\"))\n",
       "        .catch(showError)\n",
       "        .then(() => displayChart(vegaEmbed));\n",
       "    }\n",
       "  })({\"config\": {\"view\": {\"continuousWidth\": 400, \"continuousHeight\": 300}}, \"data\": {\"name\": \"data-11aead06ae8ad15402c4a60d4b7e98a1\"}, \"mark\": \"bar\", \"encoding\": {\"color\": {\"field\": \"Categories\", \"scale\": {\"range\": [\"#2EA8CE\", \"#EB9F3C\", \"#F4D837\", \"#51BF9D\", \"#8CBCCB\", \"#9487C0\"]}, \"type\": \"nominal\"}, \"row\": {\"field\": \"Categories\", \"type\": \"nominal\"}, \"tooltip\": [{\"field\": \"Agency\", \"title\": \"Agency\", \"type\": \"nominal\"}, {\"field\": \"Funding Amount\", \"format\": \"$,.2f\", \"title\": \"Funding Amount\", \"type\": \"quantitative\"}], \"x\": {\"axis\": {\"format\": \"$.2s\", \"title\": \"Obligated Funding ($2021)\"}, \"field\": \"Funding Amount\", \"type\": \"quantitative\"}, \"y\": {\"field\": \"Agency\", \"type\": \"nominal\"}}, \"height\": 70, \"width\": 400, \"$schema\": \"https://vega.github.io/schema/vega-lite/v4.17.0.json\", \"datasets\": {\"data-11aead06ae8ad15402c4a60d4b7e98a1\": [{\"Agency\": \"Placer County Transportation Planning Agency\", \"Categories\": \"Total Requested\", \"Funding Amount\": 237094.8753356244}, {\"Agency\": \"Caltrans\", \"Categories\": \"Total Requested\", \"Funding Amount\": -11307.22990686659}, {\"Agency\": \"El Dorado County\", \"Categories\": \"Total Requested\", \"Funding Amount\": 5062525.19953784}, {\"Agency\": \"Marysville\", \"Categories\": \"Total Requested\", \"Funding Amount\": 1660724.3363345482}, {\"Agency\": \"Placer County Transportation Planning Agency\", \"Categories\": \"Fed Requested\", \"Funding Amount\": 52213.419553959095}, {\"Agency\": \"Caltrans\", \"Categories\": \"Fed Requested\", \"Funding Amount\": -85798.71453882741}, {\"Agency\": \"El Dorado County\", \"Categories\": \"Fed Requested\", \"Funding Amount\": -425428.8144202034}, {\"Agency\": \"Marysville\", \"Categories\": \"Fed Requested\", \"Funding Amount\": 1645153.8692925903}, {\"Agency\": \"Placer County Transportation Planning Agency\", \"Categories\": \"AC Requested\", \"Funding Amount\": 0.0}, {\"Agency\": \"Caltrans\", \"Categories\": \"AC Requested\", \"Funding Amount\": 0.0}, {\"Agency\": \"El Dorado County\", \"Categories\": \"AC Requested\", \"Funding Amount\": 0.0}, {\"Agency\": \"Marysville\", \"Categories\": \"AC Requested\", \"Funding Amount\": 0.0}]}}, {\"mode\": \"vega-lite\"});\n",
       "</script>"
      ],
      "text/plain": [
       "alt.Chart(...)"
      ]
     },
     "metadata": {},
     "output_type": "display_data"
    },
    {
     "data": {
      "application/vnd.jupyter.widget-view+json": {
       "model_id": "5c4a19fd139444e0b3fab948f9860445",
       "version_major": 2,
       "version_minor": 0
      },
      "text/plain": [
       "HTML(value='<h3> Top Agencies using Infrastructure & Emergency Relief Projects </h3>')"
      ]
     },
     "metadata": {},
     "output_type": "display_data"
    },
    {
     "data": {
      "application/vnd.jupyter.widget-view+json": {
       "model_id": "b297d3e2d2cb45c69a7f3adcf69e06a1",
       "version_major": 2,
       "version_minor": 0
      },
      "text/plain": [
       "HTML(value='<style type=\"text/css\">\\n#T_79c6f th {\\n  text-align: center;\\n}\\n#T_79c6f_row0_col0, #T_79c6f_row…"
      ]
     },
     "metadata": {},
     "output_type": "display_data"
    },
    {
     "data": {
      "text/html": [
       "\n",
       "<div id=\"altair-viz-720c0a4ede4b4fc380aa69c87f3e4d6b\"></div>\n",
       "<script type=\"text/javascript\">\n",
       "  var VEGA_DEBUG = (typeof VEGA_DEBUG == \"undefined\") ? {} : VEGA_DEBUG;\n",
       "  (function(spec, embedOpt){\n",
       "    let outputDiv = document.currentScript.previousElementSibling;\n",
       "    if (outputDiv.id !== \"altair-viz-720c0a4ede4b4fc380aa69c87f3e4d6b\") {\n",
       "      outputDiv = document.getElementById(\"altair-viz-720c0a4ede4b4fc380aa69c87f3e4d6b\");\n",
       "    }\n",
       "    const paths = {\n",
       "      \"vega\": \"https://cdn.jsdelivr.net/npm//vega@5?noext\",\n",
       "      \"vega-lib\": \"https://cdn.jsdelivr.net/npm//vega-lib?noext\",\n",
       "      \"vega-lite\": \"https://cdn.jsdelivr.net/npm//vega-lite@4.17.0?noext\",\n",
       "      \"vega-embed\": \"https://cdn.jsdelivr.net/npm//vega-embed@6?noext\",\n",
       "    };\n",
       "\n",
       "    function maybeLoadScript(lib, version) {\n",
       "      var key = `${lib.replace(\"-\", \"\")}_version`;\n",
       "      return (VEGA_DEBUG[key] == version) ?\n",
       "        Promise.resolve(paths[lib]) :\n",
       "        new Promise(function(resolve, reject) {\n",
       "          var s = document.createElement('script');\n",
       "          document.getElementsByTagName(\"head\")[0].appendChild(s);\n",
       "          s.async = true;\n",
       "          s.onload = () => {\n",
       "            VEGA_DEBUG[key] = version;\n",
       "            return resolve(paths[lib]);\n",
       "          };\n",
       "          s.onerror = () => reject(`Error loading script: ${paths[lib]}`);\n",
       "          s.src = paths[lib];\n",
       "        });\n",
       "    }\n",
       "\n",
       "    function showError(err) {\n",
       "      outputDiv.innerHTML = `<div class=\"error\" style=\"color:red;\">${err}</div>`;\n",
       "      throw err;\n",
       "    }\n",
       "\n",
       "    function displayChart(vegaEmbed) {\n",
       "      vegaEmbed(outputDiv, spec, embedOpt)\n",
       "        .catch(err => showError(`Javascript Error: ${err.message}<br>This usually means there's a typo in your chart specification. See the javascript console for the full traceback.`));\n",
       "    }\n",
       "\n",
       "    if(typeof define === \"function\" && define.amd) {\n",
       "      requirejs.config({paths});\n",
       "      require([\"vega-embed\"], displayChart, err => showError(`Error loading script: ${err.message}`));\n",
       "    } else {\n",
       "      maybeLoadScript(\"vega\", \"5\")\n",
       "        .then(() => maybeLoadScript(\"vega-lite\", \"4.17.0\"))\n",
       "        .then(() => maybeLoadScript(\"vega-embed\", \"6\"))\n",
       "        .catch(showError)\n",
       "        .then(() => displayChart(vegaEmbed));\n",
       "    }\n",
       "  })({\"config\": {\"view\": {\"continuousWidth\": 400, \"continuousHeight\": 300}}, \"data\": {\"name\": \"data-b5fe99ade67bc3ae3c7fca45780f6eb7\"}, \"mark\": \"bar\", \"encoding\": {\"color\": {\"field\": \"Categories\", \"scale\": {\"range\": [\"#2EA8CE\", \"#EB9F3C\", \"#F4D837\", \"#51BF9D\", \"#8CBCCB\", \"#9487C0\"]}, \"type\": \"nominal\"}, \"row\": {\"field\": \"Categories\", \"type\": \"nominal\"}, \"tooltip\": [{\"field\": \"Agency\", \"title\": \"Agency\", \"type\": \"nominal\"}, {\"field\": \"Funding Amount\", \"format\": \"$,.2f\", \"title\": \"Funding Amount\", \"type\": \"quantitative\"}], \"x\": {\"axis\": {\"format\": \"$.2s\", \"title\": \"Obligated Funding ($2021)\"}, \"field\": \"Funding Amount\", \"type\": \"quantitative\"}, \"y\": {\"field\": \"Agency\", \"type\": \"nominal\"}}, \"height\": 70, \"width\": 400, \"$schema\": \"https://vega.github.io/schema/vega-lite/v4.17.0.json\", \"datasets\": {\"data-b5fe99ade67bc3ae3c7fca45780f6eb7\": [{\"Agency\": \"El Dorado County\", \"Categories\": \"Total Requested\", \"Funding Amount\": 848113.0309743851}, {\"Agency\": \"Sacramento County\", \"Categories\": \"Total Requested\", \"Funding Amount\": 974316.5690673786}, {\"Agency\": \"Yuba County\", \"Categories\": \"Total Requested\", \"Funding Amount\": 525280.1075668224}, {\"Agency\": \"Placer County\", \"Categories\": \"Total Requested\", \"Funding Amount\": 779668.2907743807}, {\"Agency\": \"Butte County\", \"Categories\": \"Total Requested\", \"Funding Amount\": 712790.6264970427}, {\"Agency\": \"El Dorado County\", \"Categories\": \"Fed Requested\", \"Funding Amount\": 405766.33154290897}, {\"Agency\": \"Sacramento County\", \"Categories\": \"Fed Requested\", \"Funding Amount\": 592415.7327688196}, {\"Agency\": \"Yuba County\", \"Categories\": \"Fed Requested\", \"Funding Amount\": 309968.50515706243}, {\"Agency\": \"Placer County\", \"Categories\": \"Fed Requested\", \"Funding Amount\": 888888.5051683302}, {\"Agency\": \"Butte County\", \"Categories\": \"Fed Requested\", \"Funding Amount\": 586926.2020595035}, {\"Agency\": \"El Dorado County\", \"Categories\": \"AC Requested\", \"Funding Amount\": 278733.55914690305}, {\"Agency\": \"Sacramento County\", \"Categories\": \"AC Requested\", \"Funding Amount\": 75514.62725348031}, {\"Agency\": \"Yuba County\", \"Categories\": \"AC Requested\", \"Funding Amount\": 54999.46959618986}, {\"Agency\": \"Placer County\", \"Categories\": \"AC Requested\", \"Funding Amount\": 12623.660151792476}, {\"Agency\": \"Butte County\", \"Categories\": \"AC Requested\", \"Funding Amount\": 28511.186820825253}]}}, {\"mode\": \"vega-lite\"});\n",
       "</script>"
      ],
      "text/plain": [
       "alt.Chart(...)"
      ]
     },
     "metadata": {},
     "output_type": "display_data"
    },
    {
     "data": {
      "application/vnd.jupyter.widget-view+json": {
       "model_id": "b0e03726c1724634aabc8a49a9bc9741",
       "version_major": 2,
       "version_minor": 0
      },
      "text/plain": [
       "HTML(value='<h3> Top Agencies using Congestion Relief Projects </h3>')"
      ]
     },
     "metadata": {},
     "output_type": "display_data"
    },
    {
     "data": {
      "application/vnd.jupyter.widget-view+json": {
       "model_id": "4c6114ee2095472692e48029b6e493c2",
       "version_major": 2,
       "version_minor": 0
      },
      "text/plain": [
       "HTML(value='<style type=\"text/css\">\\n#T_86ac2 th {\\n  text-align: center;\\n}\\n#T_86ac2_row0_col0, #T_86ac2_row…"
      ]
     },
     "metadata": {},
     "output_type": "display_data"
    },
    {
     "data": {
      "text/html": [
       "\n",
       "<div id=\"altair-viz-069a18b5062b476bb12e517e87a6c71e\"></div>\n",
       "<script type=\"text/javascript\">\n",
       "  var VEGA_DEBUG = (typeof VEGA_DEBUG == \"undefined\") ? {} : VEGA_DEBUG;\n",
       "  (function(spec, embedOpt){\n",
       "    let outputDiv = document.currentScript.previousElementSibling;\n",
       "    if (outputDiv.id !== \"altair-viz-069a18b5062b476bb12e517e87a6c71e\") {\n",
       "      outputDiv = document.getElementById(\"altair-viz-069a18b5062b476bb12e517e87a6c71e\");\n",
       "    }\n",
       "    const paths = {\n",
       "      \"vega\": \"https://cdn.jsdelivr.net/npm//vega@5?noext\",\n",
       "      \"vega-lib\": \"https://cdn.jsdelivr.net/npm//vega-lib?noext\",\n",
       "      \"vega-lite\": \"https://cdn.jsdelivr.net/npm//vega-lite@4.17.0?noext\",\n",
       "      \"vega-embed\": \"https://cdn.jsdelivr.net/npm//vega-embed@6?noext\",\n",
       "    };\n",
       "\n",
       "    function maybeLoadScript(lib, version) {\n",
       "      var key = `${lib.replace(\"-\", \"\")}_version`;\n",
       "      return (VEGA_DEBUG[key] == version) ?\n",
       "        Promise.resolve(paths[lib]) :\n",
       "        new Promise(function(resolve, reject) {\n",
       "          var s = document.createElement('script');\n",
       "          document.getElementsByTagName(\"head\")[0].appendChild(s);\n",
       "          s.async = true;\n",
       "          s.onload = () => {\n",
       "            VEGA_DEBUG[key] = version;\n",
       "            return resolve(paths[lib]);\n",
       "          };\n",
       "          s.onerror = () => reject(`Error loading script: ${paths[lib]}`);\n",
       "          s.src = paths[lib];\n",
       "        });\n",
       "    }\n",
       "\n",
       "    function showError(err) {\n",
       "      outputDiv.innerHTML = `<div class=\"error\" style=\"color:red;\">${err}</div>`;\n",
       "      throw err;\n",
       "    }\n",
       "\n",
       "    function displayChart(vegaEmbed) {\n",
       "      vegaEmbed(outputDiv, spec, embedOpt)\n",
       "        .catch(err => showError(`Javascript Error: ${err.message}<br>This usually means there's a typo in your chart specification. See the javascript console for the full traceback.`));\n",
       "    }\n",
       "\n",
       "    if(typeof define === \"function\" && define.amd) {\n",
       "      requirejs.config({paths});\n",
       "      require([\"vega-embed\"], displayChart, err => showError(`Error loading script: ${err.message}`));\n",
       "    } else {\n",
       "      maybeLoadScript(\"vega\", \"5\")\n",
       "        .then(() => maybeLoadScript(\"vega-lite\", \"4.17.0\"))\n",
       "        .then(() => maybeLoadScript(\"vega-embed\", \"6\"))\n",
       "        .catch(showError)\n",
       "        .then(() => displayChart(vegaEmbed));\n",
       "    }\n",
       "  })({\"config\": {\"view\": {\"continuousWidth\": 400, \"continuousHeight\": 300}}, \"data\": {\"name\": \"data-3fcca54f08c61d3b53d9de38db2c1027\"}, \"mark\": \"bar\", \"encoding\": {\"color\": {\"field\": \"Categories\", \"scale\": {\"range\": [\"#2EA8CE\", \"#EB9F3C\", \"#F4D837\", \"#51BF9D\", \"#8CBCCB\", \"#9487C0\"]}, \"type\": \"nominal\"}, \"row\": {\"field\": \"Categories\", \"type\": \"nominal\"}, \"tooltip\": [{\"field\": \"Agency\", \"title\": \"Agency\", \"type\": \"nominal\"}, {\"field\": \"Funding Amount\", \"format\": \"$,.2f\", \"title\": \"Funding Amount\", \"type\": \"quantitative\"}], \"x\": {\"axis\": {\"format\": \"$.2s\", \"title\": \"Obligated Funding ($2021)\"}, \"field\": \"Funding Amount\", \"type\": \"quantitative\"}, \"y\": {\"field\": \"Agency\", \"type\": \"nominal\"}}, \"height\": 70, \"width\": 400, \"$schema\": \"https://vega.github.io/schema/vega-lite/v4.17.0.json\", \"datasets\": {\"data-3fcca54f08c61d3b53d9de38db2c1027\": [{\"Agency\": \"Placer County Transportation Planning Agency\", \"Categories\": \"Total Requested\", \"Funding Amount\": 62551.39455038918}, {\"Agency\": \"El Dorado County\", \"Categories\": \"Total Requested\", \"Funding Amount\": 235251.6774560987}, {\"Agency\": \"Placer County Transportation Planning Agency\", \"Categories\": \"Fed Requested\", \"Funding Amount\": 54568.91093419697}, {\"Agency\": \"El Dorado County\", \"Categories\": \"Fed Requested\", \"Funding Amount\": 183972.73147263902}, {\"Agency\": \"Placer County Transportation Planning Agency\", \"Categories\": \"AC Requested\", \"Funding Amount\": 0.0}, {\"Agency\": \"El Dorado County\", \"Categories\": \"AC Requested\", \"Funding Amount\": 38847.68635110583}]}}, {\"mode\": \"vega-lite\"});\n",
       "</script>"
      ],
      "text/plain": [
       "alt.Chart(...)"
      ]
     },
     "metadata": {},
     "output_type": "display_data"
    }
   ],
   "source": [
    "# create loop:\n",
    "\n",
    "work_cat = ['active_transp', 'transit', 'bridge', 'street','freeway', 'infra_resiliency_er','congestion_relief']\n",
    "\n",
    "for cat in work_cat:\n",
    "    _dla_utils.project_cat(df, cat, district)"
   ]
  },
  {
   "cell_type": "code",
   "execution_count": null,
   "id": "5a50e751-dd3f-498f-9a28-2edc321b534f",
   "metadata": {
    "jupyter": {
     "source_hidden": true
    },
    "papermill": {
     "duration": 0.035218,
     "end_time": "2022-06-02T22:23:01.270560",
     "exception": false,
     "start_time": "2022-06-02T22:23:01.235342",
     "status": "completed"
    },
    "tags": [
     "remove_input"
    ]
   },
   "outputs": [],
   "source": []
  },
  {
   "cell_type": "code",
   "execution_count": null,
   "id": "9ecbddcd-3d8e-4955-9294-5a63a98ca2a7",
   "metadata": {
    "jupyter": {
     "source_hidden": true
    },
    "papermill": {
     "duration": 0.04462,
     "end_time": "2022-06-02T22:23:01.352442",
     "exception": false,
     "start_time": "2022-06-02T22:23:01.307822",
     "status": "completed"
    },
    "tags": [
     "remove_input"
    ]
   },
   "outputs": [],
   "source": []
  }
 ],
 "metadata": {
  "kernelspec": {
   "display_name": "Python 3 (ipykernel)",
   "language": "python",
   "name": "python3"
  },
  "language_info": {
   "codemirror_mode": {
    "name": "ipython",
    "version": 3
   },
   "file_extension": ".py",
   "mimetype": "text/x-python",
   "name": "python",
   "nbconvert_exporter": "python",
   "pygments_lexer": "ipython3",
   "version": "3.9.12"
  },
  "papermill": {
   "default_parameters": {},
   "duration": 17.241605,
   "end_time": "2022-06-02T22:23:02.735493",
   "environment_variables": {},
   "exception": null,
   "input_path": "dla/e76_obligated_funds/reports/dla_district_report.ipynb",
   "output_path": "portfolio/dla/district_3__district_title_district-3-marysville/0__dla_district_report__district_3__district_title_district-3-marysville.ipynb",
   "parameters": {
    "district": 3,
    "district_title": "District 3 - Marysville"
   },
   "start_time": "2022-06-02T22:22:45.493888",
   "version": "2.3.4"
  },
  "widgets": {
   "application/vnd.jupyter.widget-state+json": {
    "state": {
     "0ff3922d86534d7ab63a0067e428b480": {
      "model_module": "@jupyter-widgets/controls",
      "model_module_version": "1.5.0",
      "model_name": "HTMLModel",
      "state": {
       "_dom_classes": [],
       "_model_module": "@jupyter-widgets/controls",
       "_model_module_version": "1.5.0",
       "_model_name": "HTMLModel",
       "_view_count": null,
       "_view_module": "@jupyter-widgets/controls",
       "_view_module_version": "1.5.0",
       "_view_name": "HTMLView",
       "description": "",
       "description_tooltip": null,
       "layout": "IPY_MODEL_9cab81911bb44f0db0147081f08f3970",
       "placeholder": "​",
       "style": "IPY_MODEL_ca87ee5e3885403ab4bb02205dcdf0ee",
       "value": "<style type=\"text/css\">\n#T_f79c1 th {\n  text-align: center;\n}\n#T_f79c1_row0_col0, #T_f79c1_row0_col1, #T_f79c1_row0_col2, #T_f79c1_row1_col0, #T_f79c1_row1_col1, #T_f79c1_row1_col2, #T_f79c1_row2_col0, #T_f79c1_row2_col1, #T_f79c1_row2_col2, #T_f79c1_row3_col0, #T_f79c1_row3_col1, #T_f79c1_row3_col2 {\n  text-align: center;\n}\n</style>\n<table id=\"T_f79c1\">\n  <thead>\n    <tr>\n      <th id=\"T_f79c1_level0_col0\" class=\"col_heading level0 col0\" >Agency</th>\n      <th id=\"T_f79c1_level0_col1\" class=\"col_heading level0 col1\" >Freeway Obligations</th>\n      <th id=\"T_f79c1_level0_col2\" class=\"col_heading level0 col2\" >Percent Of Category</th>\n    </tr>\n  </thead>\n  <tbody>\n    <tr>\n      <td id=\"T_f79c1_row0_col0\" class=\"data row0 col0\" >Placer County Transportation Planning Agency</td>\n      <td id=\"T_f79c1_row0_col1\" class=\"data row0 col1\" >15</td>\n      <td id=\"T_f79c1_row0_col2\" class=\"data row0 col2\" >$57.69</td>\n    </tr>\n    <tr>\n      <td id=\"T_f79c1_row1_col0\" class=\"data row1 col0\" >Caltrans</td>\n      <td id=\"T_f79c1_row1_col1\" class=\"data row1 col1\" >6</td>\n      <td id=\"T_f79c1_row1_col2\" class=\"data row1 col2\" >$23.08</td>\n    </tr>\n    <tr>\n      <td id=\"T_f79c1_row2_col0\" class=\"data row2 col0\" >El Dorado County</td>\n      <td id=\"T_f79c1_row2_col1\" class=\"data row2 col1\" >3</td>\n      <td id=\"T_f79c1_row2_col2\" class=\"data row2 col2\" >$11.54</td>\n    </tr>\n    <tr>\n      <td id=\"T_f79c1_row3_col0\" class=\"data row3 col0\" >Marysville</td>\n      <td id=\"T_f79c1_row3_col1\" class=\"data row3 col1\" >2</td>\n      <td id=\"T_f79c1_row3_col2\" class=\"data row3 col2\" >$7.69</td>\n    </tr>\n  </tbody>\n</table>\n"
      }
     },
     "1a0a963de7b64dddab129e0810a60aae": {
      "model_module": "@jupyter-widgets/base",
      "model_module_version": "1.2.0",
      "model_name": "LayoutModel",
      "state": {
       "_model_module": "@jupyter-widgets/base",
       "_model_module_version": "1.2.0",
       "_model_name": "LayoutModel",
       "_view_count": null,
       "_view_module": "@jupyter-widgets/base",
       "_view_module_version": "1.2.0",
       "_view_name": "LayoutView",
       "align_content": null,
       "align_items": null,
       "align_self": null,
       "border": null,
       "bottom": null,
       "display": null,
       "flex": null,
       "flex_flow": null,
       "grid_area": null,
       "grid_auto_columns": null,
       "grid_auto_flow": null,
       "grid_auto_rows": null,
       "grid_column": null,
       "grid_gap": null,
       "grid_row": null,
       "grid_template_areas": null,
       "grid_template_columns": null,
       "grid_template_rows": null,
       "height": null,
       "justify_content": null,
       "justify_items": null,
       "left": null,
       "margin": null,
       "max_height": null,
       "max_width": null,
       "min_height": null,
       "min_width": null,
       "object_fit": null,
       "object_position": null,
       "order": null,
       "overflow": null,
       "overflow_x": null,
       "overflow_y": null,
       "padding": null,
       "right": null,
       "top": null,
       "visibility": null,
       "width": null
      }
     },
     "28b2a91c54544b9596ae4170c9974bfa": {
      "model_module": "@jupyter-widgets/controls",
      "model_module_version": "1.5.0",
      "model_name": "DescriptionStyleModel",
      "state": {
       "_model_module": "@jupyter-widgets/controls",
       "_model_module_version": "1.5.0",
       "_model_name": "DescriptionStyleModel",
       "_view_count": null,
       "_view_module": "@jupyter-widgets/base",
       "_view_module_version": "1.2.0",
       "_view_name": "StyleView",
       "description_width": ""
      }
     },
     "3c5f7f61c7f5487cbc5928521479aa08": {
      "model_module": "@jupyter-widgets/base",
      "model_module_version": "1.2.0",
      "model_name": "LayoutModel",
      "state": {
       "_model_module": "@jupyter-widgets/base",
       "_model_module_version": "1.2.0",
       "_model_name": "LayoutModel",
       "_view_count": null,
       "_view_module": "@jupyter-widgets/base",
       "_view_module_version": "1.2.0",
       "_view_name": "LayoutView",
       "align_content": null,
       "align_items": null,
       "align_self": null,
       "border": null,
       "bottom": null,
       "display": null,
       "flex": null,
       "flex_flow": null,
       "grid_area": null,
       "grid_auto_columns": null,
       "grid_auto_flow": null,
       "grid_auto_rows": null,
       "grid_column": null,
       "grid_gap": null,
       "grid_row": null,
       "grid_template_areas": null,
       "grid_template_columns": null,
       "grid_template_rows": null,
       "height": null,
       "justify_content": null,
       "justify_items": null,
       "left": null,
       "margin": null,
       "max_height": null,
       "max_width": null,
       "min_height": null,
       "min_width": null,
       "object_fit": null,
       "object_position": null,
       "order": null,
       "overflow": null,
       "overflow_x": null,
       "overflow_y": null,
       "padding": null,
       "right": null,
       "top": null,
       "visibility": null,
       "width": null
      }
     },
     "3c9af1efac9f4860ac610590d2f8359d": {
      "model_module": "@jupyter-widgets/controls",
      "model_module_version": "1.5.0",
      "model_name": "HTMLModel",
      "state": {
       "_dom_classes": [],
       "_model_module": "@jupyter-widgets/controls",
       "_model_module_version": "1.5.0",
       "_model_name": "HTMLModel",
       "_view_count": null,
       "_view_module": "@jupyter-widgets/controls",
       "_view_module_version": "1.5.0",
       "_view_name": "HTMLView",
       "description": "",
       "description_tooltip": null,
       "layout": "IPY_MODEL_8f5dc4962e8f427bbaecffa7af14967c",
       "placeholder": "​",
       "style": "IPY_MODEL_986448407ded4f4199473fe9dd52b2a6",
       "value": "<style type=\"text/css\">\n#T_23628 th {\n  text-align: center;\n}\n#T_23628_row0_col0, #T_23628_row0_col1, #T_23628_row0_col2, #T_23628_row1_col0, #T_23628_row1_col1, #T_23628_row1_col2, #T_23628_row2_col0, #T_23628_row2_col1, #T_23628_row2_col2, #T_23628_row3_col0, #T_23628_row3_col1, #T_23628_row3_col2, #T_23628_row4_col0, #T_23628_row4_col1, #T_23628_row4_col2 {\n  text-align: center;\n}\n</style>\n<table id=\"T_23628\">\n  <thead>\n    <tr>\n      <th id=\"T_23628_level0_col0\" class=\"col_heading level0 col0\" >Agency</th>\n      <th id=\"T_23628_level0_col1\" class=\"col_heading level0 col1\" >Active Transportation Obligations</th>\n      <th id=\"T_23628_level0_col2\" class=\"col_heading level0 col2\" >Percent Of Category</th>\n    </tr>\n  </thead>\n  <tbody>\n    <tr>\n      <td id=\"T_23628_row0_col0\" class=\"data row0 col0\" >Sacramento County</td>\n      <td id=\"T_23628_row0_col1\" class=\"data row0 col1\" >112</td>\n      <td id=\"T_23628_row0_col2\" class=\"data row0 col2\" >$13.79</td>\n    </tr>\n    <tr>\n      <td id=\"T_23628_row1_col0\" class=\"data row1 col0\" >El Dorado County</td>\n      <td id=\"T_23628_row1_col1\" class=\"data row1 col1\" >94</td>\n      <td id=\"T_23628_row1_col2\" class=\"data row1 col2\" >$11.58</td>\n    </tr>\n    <tr>\n      <td id=\"T_23628_row2_col0\" class=\"data row2 col0\" >Sacramento</td>\n      <td id=\"T_23628_row2_col1\" class=\"data row2 col1\" >81</td>\n      <td id=\"T_23628_row2_col2\" class=\"data row2 col2\" >$9.98</td>\n    </tr>\n    <tr>\n      <td id=\"T_23628_row3_col0\" class=\"data row3 col0\" >Rancho Cordova</td>\n      <td id=\"T_23628_row3_col1\" class=\"data row3 col1\" >38</td>\n      <td id=\"T_23628_row3_col2\" class=\"data row3 col2\" >$4.68</td>\n    </tr>\n    <tr>\n      <td id=\"T_23628_row4_col0\" class=\"data row4 col0\" >Elk Grove</td>\n      <td id=\"T_23628_row4_col1\" class=\"data row4 col1\" >37</td>\n      <td id=\"T_23628_row4_col2\" class=\"data row4 col2\" >$4.56</td>\n    </tr>\n  </tbody>\n</table>\n"
      }
     },
     "46e3405c27ef4b6e82ecdd5a3b3a3791": {
      "model_module": "@jupyter-widgets/controls",
      "model_module_version": "1.5.0",
      "model_name": "DescriptionStyleModel",
      "state": {
       "_model_module": "@jupyter-widgets/controls",
       "_model_module_version": "1.5.0",
       "_model_name": "DescriptionStyleModel",
       "_view_count": null,
       "_view_module": "@jupyter-widgets/base",
       "_view_module_version": "1.2.0",
       "_view_name": "StyleView",
       "description_width": ""
      }
     },
     "471b25b307a2422faa2afb73a26805d6": {
      "model_module": "@jupyter-widgets/base",
      "model_module_version": "1.2.0",
      "model_name": "LayoutModel",
      "state": {
       "_model_module": "@jupyter-widgets/base",
       "_model_module_version": "1.2.0",
       "_model_name": "LayoutModel",
       "_view_count": null,
       "_view_module": "@jupyter-widgets/base",
       "_view_module_version": "1.2.0",
       "_view_name": "LayoutView",
       "align_content": null,
       "align_items": null,
       "align_self": null,
       "border": null,
       "bottom": null,
       "display": null,
       "flex": null,
       "flex_flow": null,
       "grid_area": null,
       "grid_auto_columns": null,
       "grid_auto_flow": null,
       "grid_auto_rows": null,
       "grid_column": null,
       "grid_gap": null,
       "grid_row": null,
       "grid_template_areas": null,
       "grid_template_columns": null,
       "grid_template_rows": null,
       "height": null,
       "justify_content": null,
       "justify_items": null,
       "left": null,
       "margin": null,
       "max_height": null,
       "max_width": null,
       "min_height": null,
       "min_width": null,
       "object_fit": null,
       "object_position": null,
       "order": null,
       "overflow": null,
       "overflow_x": null,
       "overflow_y": null,
       "padding": null,
       "right": null,
       "top": null,
       "visibility": null,
       "width": null
      }
     },
     "485edc6a892f4c489cb8c612e6c77c3c": {
      "model_module": "@jupyter-widgets/controls",
      "model_module_version": "1.5.0",
      "model_name": "HTMLModel",
      "state": {
       "_dom_classes": [],
       "_model_module": "@jupyter-widgets/controls",
       "_model_module_version": "1.5.0",
       "_model_name": "HTMLModel",
       "_view_count": null,
       "_view_module": "@jupyter-widgets/controls",
       "_view_module_version": "1.5.0",
       "_view_name": "HTMLView",
       "description": "",
       "description_tooltip": null,
       "layout": "IPY_MODEL_b968f574cc8e478bb6e4e60c1dafd652",
       "placeholder": "​",
       "style": "IPY_MODEL_c9c2bf12fcfe45febf873477c4b7642f",
       "value": "<style type=\"text/css\">\n#T_e5580 th {\n  text-align: center;\n}\n#T_e5580_row0_col0, #T_e5580_row0_col1, #T_e5580_row0_col2, #T_e5580_row1_col0, #T_e5580_row1_col1, #T_e5580_row1_col2, #T_e5580_row2_col0, #T_e5580_row2_col1, #T_e5580_row2_col2, #T_e5580_row3_col0, #T_e5580_row3_col1, #T_e5580_row3_col2, #T_e5580_row4_col0, #T_e5580_row4_col1, #T_e5580_row4_col2 {\n  text-align: center;\n}\n</style>\n<table id=\"T_e5580\">\n  <thead>\n    <tr>\n      <th id=\"T_e5580_level0_col0\" class=\"col_heading level0 col0\" >Agency</th>\n      <th id=\"T_e5580_level0_col1\" class=\"col_heading level0 col1\" >Transit Obligations</th>\n      <th id=\"T_e5580_level0_col2\" class=\"col_heading level0 col2\" >Percent Of Category</th>\n    </tr>\n  </thead>\n  <tbody>\n    <tr>\n      <td id=\"T_e5580_row0_col0\" class=\"data row0 col0\" >Tahoe Transportation District</td>\n      <td id=\"T_e5580_row0_col1\" class=\"data row0 col1\" >10</td>\n      <td id=\"T_e5580_row0_col2\" class=\"data row0 col2\" >$52.63</td>\n    </tr>\n    <tr>\n      <td id=\"T_e5580_row1_col0\" class=\"data row1 col0\" >Caltrans</td>\n      <td id=\"T_e5580_row1_col1\" class=\"data row1 col1\" >3</td>\n      <td id=\"T_e5580_row1_col2\" class=\"data row1 col2\" >$15.79</td>\n    </tr>\n    <tr>\n      <td id=\"T_e5580_row2_col0\" class=\"data row2 col0\" >Chico</td>\n      <td id=\"T_e5580_row2_col1\" class=\"data row2 col1\" >2</td>\n      <td id=\"T_e5580_row2_col2\" class=\"data row2 col2\" >$10.53</td>\n    </tr>\n    <tr>\n      <td id=\"T_e5580_row3_col0\" class=\"data row3 col0\" >Citrus Heights</td>\n      <td id=\"T_e5580_row3_col1\" class=\"data row3 col1\" >2</td>\n      <td id=\"T_e5580_row3_col2\" class=\"data row3 col2\" >$10.53</td>\n    </tr>\n    <tr>\n      <td id=\"T_e5580_row4_col0\" class=\"data row4 col0\" >Sacramento Area Council of Governments</td>\n      <td id=\"T_e5580_row4_col1\" class=\"data row4 col1\" >2</td>\n      <td id=\"T_e5580_row4_col2\" class=\"data row4 col2\" >$10.53</td>\n    </tr>\n  </tbody>\n</table>\n"
      }
     },
     "495f5086be9d4ee885aea628d314c38d": {
      "model_module": "@jupyter-widgets/base",
      "model_module_version": "1.2.0",
      "model_name": "LayoutModel",
      "state": {
       "_model_module": "@jupyter-widgets/base",
       "_model_module_version": "1.2.0",
       "_model_name": "LayoutModel",
       "_view_count": null,
       "_view_module": "@jupyter-widgets/base",
       "_view_module_version": "1.2.0",
       "_view_name": "LayoutView",
       "align_content": null,
       "align_items": null,
       "align_self": null,
       "border": null,
       "bottom": null,
       "display": null,
       "flex": null,
       "flex_flow": null,
       "grid_area": null,
       "grid_auto_columns": null,
       "grid_auto_flow": null,
       "grid_auto_rows": null,
       "grid_column": null,
       "grid_gap": null,
       "grid_row": null,
       "grid_template_areas": null,
       "grid_template_columns": null,
       "grid_template_rows": null,
       "height": null,
       "justify_content": null,
       "justify_items": null,
       "left": null,
       "margin": null,
       "max_height": null,
       "max_width": null,
       "min_height": null,
       "min_width": null,
       "object_fit": null,
       "object_position": null,
       "order": null,
       "overflow": null,
       "overflow_x": null,
       "overflow_y": null,
       "padding": null,
       "right": null,
       "top": null,
       "visibility": null,
       "width": null
      }
     },
     "4c6114ee2095472692e48029b6e493c2": {
      "model_module": "@jupyter-widgets/controls",
      "model_module_version": "1.5.0",
      "model_name": "HTMLModel",
      "state": {
       "_dom_classes": [],
       "_model_module": "@jupyter-widgets/controls",
       "_model_module_version": "1.5.0",
       "_model_name": "HTMLModel",
       "_view_count": null,
       "_view_module": "@jupyter-widgets/controls",
       "_view_module_version": "1.5.0",
       "_view_name": "HTMLView",
       "description": "",
       "description_tooltip": null,
       "layout": "IPY_MODEL_904461af32fd49f99dc1cf20e2b08824",
       "placeholder": "​",
       "style": "IPY_MODEL_89106aea4cf94b429c9187e8ee24d934",
       "value": "<style type=\"text/css\">\n#T_86ac2 th {\n  text-align: center;\n}\n#T_86ac2_row0_col0, #T_86ac2_row0_col1, #T_86ac2_row0_col2, #T_86ac2_row1_col0, #T_86ac2_row1_col1, #T_86ac2_row1_col2 {\n  text-align: center;\n}\n</style>\n<table id=\"T_86ac2\">\n  <thead>\n    <tr>\n      <th id=\"T_86ac2_level0_col0\" class=\"col_heading level0 col0\" >Agency</th>\n      <th id=\"T_86ac2_level0_col1\" class=\"col_heading level0 col1\" >Congestion Relief Obligations</th>\n      <th id=\"T_86ac2_level0_col2\" class=\"col_heading level0 col2\" >Percent Of Category</th>\n    </tr>\n  </thead>\n  <tbody>\n    <tr>\n      <td id=\"T_86ac2_row0_col0\" class=\"data row0 col0\" >Placer County Transportation Planning Agency</td>\n      <td id=\"T_86ac2_row0_col1\" class=\"data row0 col1\" >7</td>\n      <td id=\"T_86ac2_row0_col2\" class=\"data row0 col2\" >$58.33</td>\n    </tr>\n    <tr>\n      <td id=\"T_86ac2_row1_col0\" class=\"data row1 col0\" >El Dorado County</td>\n      <td id=\"T_86ac2_row1_col1\" class=\"data row1 col1\" >5</td>\n      <td id=\"T_86ac2_row1_col2\" class=\"data row1 col2\" >$41.67</td>\n    </tr>\n  </tbody>\n</table>\n"
      }
     },
     "519fa3517a0c4d01b968528e4369ef35": {
      "model_module": "@jupyter-widgets/controls",
      "model_module_version": "1.5.0",
      "model_name": "DescriptionStyleModel",
      "state": {
       "_model_module": "@jupyter-widgets/controls",
       "_model_module_version": "1.5.0",
       "_model_name": "DescriptionStyleModel",
       "_view_count": null,
       "_view_module": "@jupyter-widgets/base",
       "_view_module_version": "1.2.0",
       "_view_name": "StyleView",
       "description_width": ""
      }
     },
     "5448159530194ef297919f69aa3dec58": {
      "model_module": "@jupyter-widgets/controls",
      "model_module_version": "1.5.0",
      "model_name": "HTMLModel",
      "state": {
       "_dom_classes": [],
       "_model_module": "@jupyter-widgets/controls",
       "_model_module_version": "1.5.0",
       "_model_name": "HTMLModel",
       "_view_count": null,
       "_view_module": "@jupyter-widgets/controls",
       "_view_module_version": "1.5.0",
       "_view_name": "HTMLView",
       "description": "",
       "description_tooltip": null,
       "layout": "IPY_MODEL_59e3f9c364ad4ed0a4f6d4e77faceb94",
       "placeholder": "​",
       "style": "IPY_MODEL_641fb606313f4254b24ab05c8041e0b8",
       "value": "<style type=\"text/css\">\n#T_fcff1 th {\n  text-align: center;\n}\n#T_fcff1_row0_col0, #T_fcff1_row0_col1, #T_fcff1_row0_col2, #T_fcff1_row1_col0, #T_fcff1_row1_col1, #T_fcff1_row1_col2, #T_fcff1_row2_col0, #T_fcff1_row2_col1, #T_fcff1_row2_col2, #T_fcff1_row3_col0, #T_fcff1_row3_col1, #T_fcff1_row3_col2, #T_fcff1_row4_col0, #T_fcff1_row4_col1, #T_fcff1_row4_col2 {\n  text-align: center;\n}\n</style>\n<table id=\"T_fcff1\">\n  <thead>\n    <tr>\n      <th id=\"T_fcff1_level0_col0\" class=\"col_heading level0 col0\" >Agency</th>\n      <th id=\"T_fcff1_level0_col1\" class=\"col_heading level0 col1\" >Bridge Obligations</th>\n      <th id=\"T_fcff1_level0_col2\" class=\"col_heading level0 col2\" >Percent Of Category</th>\n    </tr>\n  </thead>\n  <tbody>\n    <tr>\n      <td id=\"T_fcff1_row0_col0\" class=\"data row0 col0\" >El Dorado County</td>\n      <td id=\"T_fcff1_row0_col1\" class=\"data row0 col1\" >95</td>\n      <td id=\"T_fcff1_row0_col2\" class=\"data row0 col2\" >$15.03</td>\n    </tr>\n    <tr>\n      <td id=\"T_fcff1_row1_col0\" class=\"data row1 col0\" >Placer County</td>\n      <td id=\"T_fcff1_row1_col1\" class=\"data row1 col1\" >80</td>\n      <td id=\"T_fcff1_row1_col2\" class=\"data row1 col2\" >$12.66</td>\n    </tr>\n    <tr>\n      <td id=\"T_fcff1_row2_col0\" class=\"data row2 col0\" >Nevada County</td>\n      <td id=\"T_fcff1_row2_col1\" class=\"data row2 col1\" >66</td>\n      <td id=\"T_fcff1_row2_col2\" class=\"data row2 col2\" >$10.44</td>\n    </tr>\n    <tr>\n      <td id=\"T_fcff1_row3_col0\" class=\"data row3 col0\" >Sacramento County</td>\n      <td id=\"T_fcff1_row3_col1\" class=\"data row3 col1\" >49</td>\n      <td id=\"T_fcff1_row3_col2\" class=\"data row3 col2\" >$7.75</td>\n    </tr>\n    <tr>\n      <td id=\"T_fcff1_row4_col0\" class=\"data row4 col0\" >Yuba County</td>\n      <td id=\"T_fcff1_row4_col1\" class=\"data row4 col1\" >46</td>\n      <td id=\"T_fcff1_row4_col2\" class=\"data row4 col2\" >$7.28</td>\n    </tr>\n  </tbody>\n</table>\n"
      }
     },
     "595408dade6e4392886957fe8177f00f": {
      "model_module": "@jupyter-widgets/base",
      "model_module_version": "1.2.0",
      "model_name": "LayoutModel",
      "state": {
       "_model_module": "@jupyter-widgets/base",
       "_model_module_version": "1.2.0",
       "_model_name": "LayoutModel",
       "_view_count": null,
       "_view_module": "@jupyter-widgets/base",
       "_view_module_version": "1.2.0",
       "_view_name": "LayoutView",
       "align_content": null,
       "align_items": null,
       "align_self": null,
       "border": null,
       "bottom": null,
       "display": null,
       "flex": null,
       "flex_flow": null,
       "grid_area": null,
       "grid_auto_columns": null,
       "grid_auto_flow": null,
       "grid_auto_rows": null,
       "grid_column": null,
       "grid_gap": null,
       "grid_row": null,
       "grid_template_areas": null,
       "grid_template_columns": null,
       "grid_template_rows": null,
       "height": null,
       "justify_content": null,
       "justify_items": null,
       "left": null,
       "margin": null,
       "max_height": null,
       "max_width": null,
       "min_height": null,
       "min_width": null,
       "object_fit": null,
       "object_position": null,
       "order": null,
       "overflow": null,
       "overflow_x": null,
       "overflow_y": null,
       "padding": null,
       "right": null,
       "top": null,
       "visibility": null,
       "width": null
      }
     },
     "59e3f9c364ad4ed0a4f6d4e77faceb94": {
      "model_module": "@jupyter-widgets/base",
      "model_module_version": "1.2.0",
      "model_name": "LayoutModel",
      "state": {
       "_model_module": "@jupyter-widgets/base",
       "_model_module_version": "1.2.0",
       "_model_name": "LayoutModel",
       "_view_count": null,
       "_view_module": "@jupyter-widgets/base",
       "_view_module_version": "1.2.0",
       "_view_name": "LayoutView",
       "align_content": null,
       "align_items": null,
       "align_self": null,
       "border": null,
       "bottom": null,
       "display": null,
       "flex": null,
       "flex_flow": null,
       "grid_area": null,
       "grid_auto_columns": null,
       "grid_auto_flow": null,
       "grid_auto_rows": null,
       "grid_column": null,
       "grid_gap": null,
       "grid_row": null,
       "grid_template_areas": null,
       "grid_template_columns": null,
       "grid_template_rows": null,
       "height": null,
       "justify_content": null,
       "justify_items": null,
       "left": null,
       "margin": null,
       "max_height": null,
       "max_width": null,
       "min_height": null,
       "min_width": null,
       "object_fit": null,
       "object_position": null,
       "order": null,
       "overflow": null,
       "overflow_x": null,
       "overflow_y": null,
       "padding": null,
       "right": null,
       "top": null,
       "visibility": null,
       "width": null
      }
     },
     "5c4a19fd139444e0b3fab948f9860445": {
      "model_module": "@jupyter-widgets/controls",
      "model_module_version": "1.5.0",
      "model_name": "HTMLModel",
      "state": {
       "_dom_classes": [],
       "_model_module": "@jupyter-widgets/controls",
       "_model_module_version": "1.5.0",
       "_model_name": "HTMLModel",
       "_view_count": null,
       "_view_module": "@jupyter-widgets/controls",
       "_view_module_version": "1.5.0",
       "_view_name": "HTMLView",
       "description": "",
       "description_tooltip": null,
       "layout": "IPY_MODEL_d5d804d2d6434cf994fa0111651e48b7",
       "placeholder": "​",
       "style": "IPY_MODEL_86d19efeee78436994f20f6a0a8eaf93",
       "value": "<h3> Top Agencies using Infrastructure & Emergency Relief Projects </h3>"
      }
     },
     "5c4cb491cd2d4f06b76b510837a81cf6": {
      "model_module": "@jupyter-widgets/controls",
      "model_module_version": "1.5.0",
      "model_name": "HTMLModel",
      "state": {
       "_dom_classes": [],
       "_model_module": "@jupyter-widgets/controls",
       "_model_module_version": "1.5.0",
       "_model_name": "HTMLModel",
       "_view_count": null,
       "_view_module": "@jupyter-widgets/controls",
       "_view_module_version": "1.5.0",
       "_view_name": "HTMLView",
       "description": "",
       "description_tooltip": null,
       "layout": "IPY_MODEL_495f5086be9d4ee885aea628d314c38d",
       "placeholder": "​",
       "style": "IPY_MODEL_28b2a91c54544b9596ae4170c9974bfa",
       "value": "<h3> Top Agencies using Street Projects </h3>"
      }
     },
     "5df29a19dcf2495a87c8592836334e41": {
      "model_module": "@jupyter-widgets/base",
      "model_module_version": "1.2.0",
      "model_name": "LayoutModel",
      "state": {
       "_model_module": "@jupyter-widgets/base",
       "_model_module_version": "1.2.0",
       "_model_name": "LayoutModel",
       "_view_count": null,
       "_view_module": "@jupyter-widgets/base",
       "_view_module_version": "1.2.0",
       "_view_name": "LayoutView",
       "align_content": null,
       "align_items": null,
       "align_self": null,
       "border": null,
       "bottom": null,
       "display": null,
       "flex": null,
       "flex_flow": null,
       "grid_area": null,
       "grid_auto_columns": null,
       "grid_auto_flow": null,
       "grid_auto_rows": null,
       "grid_column": null,
       "grid_gap": null,
       "grid_row": null,
       "grid_template_areas": null,
       "grid_template_columns": null,
       "grid_template_rows": null,
       "height": null,
       "justify_content": null,
       "justify_items": null,
       "left": null,
       "margin": null,
       "max_height": null,
       "max_width": null,
       "min_height": null,
       "min_width": null,
       "object_fit": null,
       "object_position": null,
       "order": null,
       "overflow": null,
       "overflow_x": null,
       "overflow_y": null,
       "padding": null,
       "right": null,
       "top": null,
       "visibility": null,
       "width": null
      }
     },
     "641fb606313f4254b24ab05c8041e0b8": {
      "model_module": "@jupyter-widgets/controls",
      "model_module_version": "1.5.0",
      "model_name": "DescriptionStyleModel",
      "state": {
       "_model_module": "@jupyter-widgets/controls",
       "_model_module_version": "1.5.0",
       "_model_name": "DescriptionStyleModel",
       "_view_count": null,
       "_view_module": "@jupyter-widgets/base",
       "_view_module_version": "1.2.0",
       "_view_name": "StyleView",
       "description_width": ""
      }
     },
     "658687568d2049f6bb4c6037ea6fa114": {
      "model_module": "@jupyter-widgets/controls",
      "model_module_version": "1.5.0",
      "model_name": "HTMLModel",
      "state": {
       "_dom_classes": [],
       "_model_module": "@jupyter-widgets/controls",
       "_model_module_version": "1.5.0",
       "_model_name": "HTMLModel",
       "_view_count": null,
       "_view_module": "@jupyter-widgets/controls",
       "_view_module_version": "1.5.0",
       "_view_name": "HTMLView",
       "description": "",
       "description_tooltip": null,
       "layout": "IPY_MODEL_3c5f7f61c7f5487cbc5928521479aa08",
       "placeholder": "​",
       "style": "IPY_MODEL_519fa3517a0c4d01b968528e4369ef35",
       "value": "<h3> Top Agencies using Bridge Projects </h3>"
      }
     },
     "6d6f7b62d869433d8d49ab9a2c48c31e": {
      "model_module": "@jupyter-widgets/base",
      "model_module_version": "1.2.0",
      "model_name": "LayoutModel",
      "state": {
       "_model_module": "@jupyter-widgets/base",
       "_model_module_version": "1.2.0",
       "_model_name": "LayoutModel",
       "_view_count": null,
       "_view_module": "@jupyter-widgets/base",
       "_view_module_version": "1.2.0",
       "_view_name": "LayoutView",
       "align_content": null,
       "align_items": null,
       "align_self": null,
       "border": null,
       "bottom": null,
       "display": null,
       "flex": null,
       "flex_flow": null,
       "grid_area": null,
       "grid_auto_columns": null,
       "grid_auto_flow": null,
       "grid_auto_rows": null,
       "grid_column": null,
       "grid_gap": null,
       "grid_row": null,
       "grid_template_areas": null,
       "grid_template_columns": null,
       "grid_template_rows": null,
       "height": null,
       "justify_content": null,
       "justify_items": null,
       "left": null,
       "margin": null,
       "max_height": null,
       "max_width": null,
       "min_height": null,
       "min_width": null,
       "object_fit": null,
       "object_position": null,
       "order": null,
       "overflow": null,
       "overflow_x": null,
       "overflow_y": null,
       "padding": null,
       "right": null,
       "top": null,
       "visibility": null,
       "width": null
      }
     },
     "6f36b1e9f65f49ed9d7d0ed586baab7f": {
      "model_module": "@jupyter-widgets/controls",
      "model_module_version": "1.5.0",
      "model_name": "HTMLModel",
      "state": {
       "_dom_classes": [],
       "_model_module": "@jupyter-widgets/controls",
       "_model_module_version": "1.5.0",
       "_model_name": "HTMLModel",
       "_view_count": null,
       "_view_module": "@jupyter-widgets/controls",
       "_view_module_version": "1.5.0",
       "_view_name": "HTMLView",
       "description": "",
       "description_tooltip": null,
       "layout": "IPY_MODEL_5df29a19dcf2495a87c8592836334e41",
       "placeholder": "​",
       "style": "IPY_MODEL_46e3405c27ef4b6e82ecdd5a3b3a3791",
       "value": "<style type=\"text/css\">\n#T_548b0 th {\n  text-align: center;\n}\n#T_548b0_row0_col0, #T_548b0_row0_col1, #T_548b0_row0_col2, #T_548b0_row1_col0, #T_548b0_row1_col1, #T_548b0_row1_col2, #T_548b0_row2_col0, #T_548b0_row2_col1, #T_548b0_row2_col2, #T_548b0_row3_col0, #T_548b0_row3_col1, #T_548b0_row3_col2, #T_548b0_row4_col0, #T_548b0_row4_col1, #T_548b0_row4_col2 {\n  text-align: center;\n}\n</style>\n<table id=\"T_548b0\">\n  <thead>\n    <tr>\n      <th id=\"T_548b0_level0_col0\" class=\"col_heading level0 col0\" >Agency</th>\n      <th id=\"T_548b0_level0_col1\" class=\"col_heading level0 col1\" >Street Obligations</th>\n      <th id=\"T_548b0_level0_col2\" class=\"col_heading level0 col2\" >Percent Of Category</th>\n    </tr>\n  </thead>\n  <tbody>\n    <tr>\n      <td id=\"T_548b0_row0_col0\" class=\"data row0 col0\" >Sacramento County</td>\n      <td id=\"T_548b0_row0_col1\" class=\"data row0 col1\" >124</td>\n      <td id=\"T_548b0_row0_col2\" class=\"data row0 col2\" >$12.84</td>\n    </tr>\n    <tr>\n      <td id=\"T_548b0_row1_col0\" class=\"data row1 col0\" >Sacramento</td>\n      <td id=\"T_548b0_row1_col1\" class=\"data row1 col1\" >99</td>\n      <td id=\"T_548b0_row1_col2\" class=\"data row1 col2\" >$10.25</td>\n    </tr>\n    <tr>\n      <td id=\"T_548b0_row2_col0\" class=\"data row2 col0\" >Butte County</td>\n      <td id=\"T_548b0_row2_col1\" class=\"data row2 col1\" >74</td>\n      <td id=\"T_548b0_row2_col2\" class=\"data row2 col2\" >$7.66</td>\n    </tr>\n    <tr>\n      <td id=\"T_548b0_row3_col0\" class=\"data row3 col0\" >Yuba County</td>\n      <td id=\"T_548b0_row3_col1\" class=\"data row3 col1\" >67</td>\n      <td id=\"T_548b0_row3_col2\" class=\"data row3 col2\" >$6.94</td>\n    </tr>\n    <tr>\n      <td id=\"T_548b0_row4_col0\" class=\"data row4 col0\" >El Dorado County</td>\n      <td id=\"T_548b0_row4_col1\" class=\"data row4 col1\" >61</td>\n      <td id=\"T_548b0_row4_col2\" class=\"data row4 col2\" >$6.31</td>\n    </tr>\n  </tbody>\n</table>\n"
      }
     },
     "81f2003bc0054ad7be0487151a783dbc": {
      "model_module": "@jupyter-widgets/controls",
      "model_module_version": "1.5.0",
      "model_name": "DescriptionStyleModel",
      "state": {
       "_model_module": "@jupyter-widgets/controls",
       "_model_module_version": "1.5.0",
       "_model_name": "DescriptionStyleModel",
       "_view_count": null,
       "_view_module": "@jupyter-widgets/base",
       "_view_module_version": "1.2.0",
       "_view_name": "StyleView",
       "description_width": ""
      }
     },
     "86d19efeee78436994f20f6a0a8eaf93": {
      "model_module": "@jupyter-widgets/controls",
      "model_module_version": "1.5.0",
      "model_name": "DescriptionStyleModel",
      "state": {
       "_model_module": "@jupyter-widgets/controls",
       "_model_module_version": "1.5.0",
       "_model_name": "DescriptionStyleModel",
       "_view_count": null,
       "_view_module": "@jupyter-widgets/base",
       "_view_module_version": "1.2.0",
       "_view_name": "StyleView",
       "description_width": ""
      }
     },
     "89106aea4cf94b429c9187e8ee24d934": {
      "model_module": "@jupyter-widgets/controls",
      "model_module_version": "1.5.0",
      "model_name": "DescriptionStyleModel",
      "state": {
       "_model_module": "@jupyter-widgets/controls",
       "_model_module_version": "1.5.0",
       "_model_name": "DescriptionStyleModel",
       "_view_count": null,
       "_view_module": "@jupyter-widgets/base",
       "_view_module_version": "1.2.0",
       "_view_name": "StyleView",
       "description_width": ""
      }
     },
     "891557ba355f48719211e969c00abfd4": {
      "model_module": "@jupyter-widgets/controls",
      "model_module_version": "1.5.0",
      "model_name": "HTMLModel",
      "state": {
       "_dom_classes": [],
       "_model_module": "@jupyter-widgets/controls",
       "_model_module_version": "1.5.0",
       "_model_name": "HTMLModel",
       "_view_count": null,
       "_view_module": "@jupyter-widgets/controls",
       "_view_module_version": "1.5.0",
       "_view_name": "HTMLView",
       "description": "",
       "description_tooltip": null,
       "layout": "IPY_MODEL_595408dade6e4392886957fe8177f00f",
       "placeholder": "​",
       "style": "IPY_MODEL_afe32633be464ffbacd84bd81b03d4ab",
       "value": "<h3> Top Agencies using Active Transportation Projects </h3>"
      }
     },
     "8cceb6beb5384a12b4ca433f3b86e870": {
      "model_module": "@jupyter-widgets/controls",
      "model_module_version": "1.5.0",
      "model_name": "DescriptionStyleModel",
      "state": {
       "_model_module": "@jupyter-widgets/controls",
       "_model_module_version": "1.5.0",
       "_model_name": "DescriptionStyleModel",
       "_view_count": null,
       "_view_module": "@jupyter-widgets/base",
       "_view_module_version": "1.2.0",
       "_view_name": "StyleView",
       "description_width": ""
      }
     },
     "8f5dc4962e8f427bbaecffa7af14967c": {
      "model_module": "@jupyter-widgets/base",
      "model_module_version": "1.2.0",
      "model_name": "LayoutModel",
      "state": {
       "_model_module": "@jupyter-widgets/base",
       "_model_module_version": "1.2.0",
       "_model_name": "LayoutModel",
       "_view_count": null,
       "_view_module": "@jupyter-widgets/base",
       "_view_module_version": "1.2.0",
       "_view_name": "LayoutView",
       "align_content": null,
       "align_items": null,
       "align_self": null,
       "border": null,
       "bottom": null,
       "display": null,
       "flex": null,
       "flex_flow": null,
       "grid_area": null,
       "grid_auto_columns": null,
       "grid_auto_flow": null,
       "grid_auto_rows": null,
       "grid_column": null,
       "grid_gap": null,
       "grid_row": null,
       "grid_template_areas": null,
       "grid_template_columns": null,
       "grid_template_rows": null,
       "height": null,
       "justify_content": null,
       "justify_items": null,
       "left": null,
       "margin": null,
       "max_height": null,
       "max_width": null,
       "min_height": null,
       "min_width": null,
       "object_fit": null,
       "object_position": null,
       "order": null,
       "overflow": null,
       "overflow_x": null,
       "overflow_y": null,
       "padding": null,
       "right": null,
       "top": null,
       "visibility": null,
       "width": null
      }
     },
     "904461af32fd49f99dc1cf20e2b08824": {
      "model_module": "@jupyter-widgets/base",
      "model_module_version": "1.2.0",
      "model_name": "LayoutModel",
      "state": {
       "_model_module": "@jupyter-widgets/base",
       "_model_module_version": "1.2.0",
       "_model_name": "LayoutModel",
       "_view_count": null,
       "_view_module": "@jupyter-widgets/base",
       "_view_module_version": "1.2.0",
       "_view_name": "LayoutView",
       "align_content": null,
       "align_items": null,
       "align_self": null,
       "border": null,
       "bottom": null,
       "display": null,
       "flex": null,
       "flex_flow": null,
       "grid_area": null,
       "grid_auto_columns": null,
       "grid_auto_flow": null,
       "grid_auto_rows": null,
       "grid_column": null,
       "grid_gap": null,
       "grid_row": null,
       "grid_template_areas": null,
       "grid_template_columns": null,
       "grid_template_rows": null,
       "height": null,
       "justify_content": null,
       "justify_items": null,
       "left": null,
       "margin": null,
       "max_height": null,
       "max_width": null,
       "min_height": null,
       "min_width": null,
       "object_fit": null,
       "object_position": null,
       "order": null,
       "overflow": null,
       "overflow_x": null,
       "overflow_y": null,
       "padding": null,
       "right": null,
       "top": null,
       "visibility": null,
       "width": null
      }
     },
     "986448407ded4f4199473fe9dd52b2a6": {
      "model_module": "@jupyter-widgets/controls",
      "model_module_version": "1.5.0",
      "model_name": "DescriptionStyleModel",
      "state": {
       "_model_module": "@jupyter-widgets/controls",
       "_model_module_version": "1.5.0",
       "_model_name": "DescriptionStyleModel",
       "_view_count": null,
       "_view_module": "@jupyter-widgets/base",
       "_view_module_version": "1.2.0",
       "_view_name": "StyleView",
       "description_width": ""
      }
     },
     "9cab81911bb44f0db0147081f08f3970": {
      "model_module": "@jupyter-widgets/base",
      "model_module_version": "1.2.0",
      "model_name": "LayoutModel",
      "state": {
       "_model_module": "@jupyter-widgets/base",
       "_model_module_version": "1.2.0",
       "_model_name": "LayoutModel",
       "_view_count": null,
       "_view_module": "@jupyter-widgets/base",
       "_view_module_version": "1.2.0",
       "_view_name": "LayoutView",
       "align_content": null,
       "align_items": null,
       "align_self": null,
       "border": null,
       "bottom": null,
       "display": null,
       "flex": null,
       "flex_flow": null,
       "grid_area": null,
       "grid_auto_columns": null,
       "grid_auto_flow": null,
       "grid_auto_rows": null,
       "grid_column": null,
       "grid_gap": null,
       "grid_row": null,
       "grid_template_areas": null,
       "grid_template_columns": null,
       "grid_template_rows": null,
       "height": null,
       "justify_content": null,
       "justify_items": null,
       "left": null,
       "margin": null,
       "max_height": null,
       "max_width": null,
       "min_height": null,
       "min_width": null,
       "object_fit": null,
       "object_position": null,
       "order": null,
       "overflow": null,
       "overflow_x": null,
       "overflow_y": null,
       "padding": null,
       "right": null,
       "top": null,
       "visibility": null,
       "width": null
      }
     },
     "afe32633be464ffbacd84bd81b03d4ab": {
      "model_module": "@jupyter-widgets/controls",
      "model_module_version": "1.5.0",
      "model_name": "DescriptionStyleModel",
      "state": {
       "_model_module": "@jupyter-widgets/controls",
       "_model_module_version": "1.5.0",
       "_model_name": "DescriptionStyleModel",
       "_view_count": null,
       "_view_module": "@jupyter-widgets/base",
       "_view_module_version": "1.2.0",
       "_view_name": "StyleView",
       "description_width": ""
      }
     },
     "b0e03726c1724634aabc8a49a9bc9741": {
      "model_module": "@jupyter-widgets/controls",
      "model_module_version": "1.5.0",
      "model_name": "HTMLModel",
      "state": {
       "_dom_classes": [],
       "_model_module": "@jupyter-widgets/controls",
       "_model_module_version": "1.5.0",
       "_model_name": "HTMLModel",
       "_view_count": null,
       "_view_module": "@jupyter-widgets/controls",
       "_view_module_version": "1.5.0",
       "_view_name": "HTMLView",
       "description": "",
       "description_tooltip": null,
       "layout": "IPY_MODEL_6d6f7b62d869433d8d49ab9a2c48c31e",
       "placeholder": "​",
       "style": "IPY_MODEL_8cceb6beb5384a12b4ca433f3b86e870",
       "value": "<h3> Top Agencies using Congestion Relief Projects </h3>"
      }
     },
     "b297d3e2d2cb45c69a7f3adcf69e06a1": {
      "model_module": "@jupyter-widgets/controls",
      "model_module_version": "1.5.0",
      "model_name": "HTMLModel",
      "state": {
       "_dom_classes": [],
       "_model_module": "@jupyter-widgets/controls",
       "_model_module_version": "1.5.0",
       "_model_name": "HTMLModel",
       "_view_count": null,
       "_view_module": "@jupyter-widgets/controls",
       "_view_module_version": "1.5.0",
       "_view_name": "HTMLView",
       "description": "",
       "description_tooltip": null,
       "layout": "IPY_MODEL_471b25b307a2422faa2afb73a26805d6",
       "placeholder": "​",
       "style": "IPY_MODEL_81f2003bc0054ad7be0487151a783dbc",
       "value": "<style type=\"text/css\">\n#T_79c6f th {\n  text-align: center;\n}\n#T_79c6f_row0_col0, #T_79c6f_row0_col1, #T_79c6f_row0_col2, #T_79c6f_row1_col0, #T_79c6f_row1_col1, #T_79c6f_row1_col2, #T_79c6f_row2_col0, #T_79c6f_row2_col1, #T_79c6f_row2_col2, #T_79c6f_row3_col0, #T_79c6f_row3_col1, #T_79c6f_row3_col2, #T_79c6f_row4_col0, #T_79c6f_row4_col1, #T_79c6f_row4_col2 {\n  text-align: center;\n}\n</style>\n<table id=\"T_79c6f\">\n  <thead>\n    <tr>\n      <th id=\"T_79c6f_level0_col0\" class=\"col_heading level0 col0\" >Agency</th>\n      <th id=\"T_79c6f_level0_col1\" class=\"col_heading level0 col1\" >Infrastructure & Emergency Relief Obligations</th>\n      <th id=\"T_79c6f_level0_col2\" class=\"col_heading level0 col2\" >Percent Of Category</th>\n    </tr>\n  </thead>\n  <tbody>\n    <tr>\n      <td id=\"T_79c6f_row0_col0\" class=\"data row0 col0\" >El Dorado County</td>\n      <td id=\"T_79c6f_row0_col1\" class=\"data row0 col1\" >199</td>\n      <td id=\"T_79c6f_row0_col2\" class=\"data row0 col2\" >$12.13</td>\n    </tr>\n    <tr>\n      <td id=\"T_79c6f_row1_col0\" class=\"data row1 col0\" >Sacramento County</td>\n      <td id=\"T_79c6f_row1_col1\" class=\"data row1 col1\" >136</td>\n      <td id=\"T_79c6f_row1_col2\" class=\"data row1 col2\" >$8.29</td>\n    </tr>\n    <tr>\n      <td id=\"T_79c6f_row2_col0\" class=\"data row2 col0\" >Yuba County</td>\n      <td id=\"T_79c6f_row2_col1\" class=\"data row2 col1\" >127</td>\n      <td id=\"T_79c6f_row2_col2\" class=\"data row2 col2\" >$7.74</td>\n    </tr>\n    <tr>\n      <td id=\"T_79c6f_row3_col0\" class=\"data row3 col0\" >Placer County</td>\n      <td id=\"T_79c6f_row3_col1\" class=\"data row3 col1\" >119</td>\n      <td id=\"T_79c6f_row3_col2\" class=\"data row3 col2\" >$7.26</td>\n    </tr>\n    <tr>\n      <td id=\"T_79c6f_row4_col0\" class=\"data row4 col0\" >Butte County</td>\n      <td id=\"T_79c6f_row4_col1\" class=\"data row4 col1\" >112</td>\n      <td id=\"T_79c6f_row4_col2\" class=\"data row4 col2\" >$6.83</td>\n    </tr>\n  </tbody>\n</table>\n"
      }
     },
     "b968f574cc8e478bb6e4e60c1dafd652": {
      "model_module": "@jupyter-widgets/base",
      "model_module_version": "1.2.0",
      "model_name": "LayoutModel",
      "state": {
       "_model_module": "@jupyter-widgets/base",
       "_model_module_version": "1.2.0",
       "_model_name": "LayoutModel",
       "_view_count": null,
       "_view_module": "@jupyter-widgets/base",
       "_view_module_version": "1.2.0",
       "_view_name": "LayoutView",
       "align_content": null,
       "align_items": null,
       "align_self": null,
       "border": null,
       "bottom": null,
       "display": null,
       "flex": null,
       "flex_flow": null,
       "grid_area": null,
       "grid_auto_columns": null,
       "grid_auto_flow": null,
       "grid_auto_rows": null,
       "grid_column": null,
       "grid_gap": null,
       "grid_row": null,
       "grid_template_areas": null,
       "grid_template_columns": null,
       "grid_template_rows": null,
       "height": null,
       "justify_content": null,
       "justify_items": null,
       "left": null,
       "margin": null,
       "max_height": null,
       "max_width": null,
       "min_height": null,
       "min_width": null,
       "object_fit": null,
       "object_position": null,
       "order": null,
       "overflow": null,
       "overflow_x": null,
       "overflow_y": null,
       "padding": null,
       "right": null,
       "top": null,
       "visibility": null,
       "width": null
      }
     },
     "c41448746d7a4f2889e77d0b83bc1bd2": {
      "model_module": "@jupyter-widgets/controls",
      "model_module_version": "1.5.0",
      "model_name": "DescriptionStyleModel",
      "state": {
       "_model_module": "@jupyter-widgets/controls",
       "_model_module_version": "1.5.0",
       "_model_name": "DescriptionStyleModel",
       "_view_count": null,
       "_view_module": "@jupyter-widgets/base",
       "_view_module_version": "1.2.0",
       "_view_name": "StyleView",
       "description_width": ""
      }
     },
     "c80d5953ab60487998633802f72ce95d": {
      "model_module": "@jupyter-widgets/controls",
      "model_module_version": "1.5.0",
      "model_name": "HTMLModel",
      "state": {
       "_dom_classes": [],
       "_model_module": "@jupyter-widgets/controls",
       "_model_module_version": "1.5.0",
       "_model_name": "HTMLModel",
       "_view_count": null,
       "_view_module": "@jupyter-widgets/controls",
       "_view_module_version": "1.5.0",
       "_view_name": "HTMLView",
       "description": "",
       "description_tooltip": null,
       "layout": "IPY_MODEL_1a0a963de7b64dddab129e0810a60aae",
       "placeholder": "​",
       "style": "IPY_MODEL_d2d11936d4a643dbb8f7d704d175554f",
       "value": "<h3> Top Agencies using Transit Projects </h3>"
      }
     },
     "c9c2bf12fcfe45febf873477c4b7642f": {
      "model_module": "@jupyter-widgets/controls",
      "model_module_version": "1.5.0",
      "model_name": "DescriptionStyleModel",
      "state": {
       "_model_module": "@jupyter-widgets/controls",
       "_model_module_version": "1.5.0",
       "_model_name": "DescriptionStyleModel",
       "_view_count": null,
       "_view_module": "@jupyter-widgets/base",
       "_view_module_version": "1.2.0",
       "_view_name": "StyleView",
       "description_width": ""
      }
     },
     "ca87ee5e3885403ab4bb02205dcdf0ee": {
      "model_module": "@jupyter-widgets/controls",
      "model_module_version": "1.5.0",
      "model_name": "DescriptionStyleModel",
      "state": {
       "_model_module": "@jupyter-widgets/controls",
       "_model_module_version": "1.5.0",
       "_model_name": "DescriptionStyleModel",
       "_view_count": null,
       "_view_module": "@jupyter-widgets/base",
       "_view_module_version": "1.2.0",
       "_view_name": "StyleView",
       "description_width": ""
      }
     },
     "d2d11936d4a643dbb8f7d704d175554f": {
      "model_module": "@jupyter-widgets/controls",
      "model_module_version": "1.5.0",
      "model_name": "DescriptionStyleModel",
      "state": {
       "_model_module": "@jupyter-widgets/controls",
       "_model_module_version": "1.5.0",
       "_model_name": "DescriptionStyleModel",
       "_view_count": null,
       "_view_module": "@jupyter-widgets/base",
       "_view_module_version": "1.2.0",
       "_view_name": "StyleView",
       "description_width": ""
      }
     },
     "d5d804d2d6434cf994fa0111651e48b7": {
      "model_module": "@jupyter-widgets/base",
      "model_module_version": "1.2.0",
      "model_name": "LayoutModel",
      "state": {
       "_model_module": "@jupyter-widgets/base",
       "_model_module_version": "1.2.0",
       "_model_name": "LayoutModel",
       "_view_count": null,
       "_view_module": "@jupyter-widgets/base",
       "_view_module_version": "1.2.0",
       "_view_name": "LayoutView",
       "align_content": null,
       "align_items": null,
       "align_self": null,
       "border": null,
       "bottom": null,
       "display": null,
       "flex": null,
       "flex_flow": null,
       "grid_area": null,
       "grid_auto_columns": null,
       "grid_auto_flow": null,
       "grid_auto_rows": null,
       "grid_column": null,
       "grid_gap": null,
       "grid_row": null,
       "grid_template_areas": null,
       "grid_template_columns": null,
       "grid_template_rows": null,
       "height": null,
       "justify_content": null,
       "justify_items": null,
       "left": null,
       "margin": null,
       "max_height": null,
       "max_width": null,
       "min_height": null,
       "min_width": null,
       "object_fit": null,
       "object_position": null,
       "order": null,
       "overflow": null,
       "overflow_x": null,
       "overflow_y": null,
       "padding": null,
       "right": null,
       "top": null,
       "visibility": null,
       "width": null
      }
     },
     "fbc4f9aa6b8c4393b03a524e5bebbad9": {
      "model_module": "@jupyter-widgets/base",
      "model_module_version": "1.2.0",
      "model_name": "LayoutModel",
      "state": {
       "_model_module": "@jupyter-widgets/base",
       "_model_module_version": "1.2.0",
       "_model_name": "LayoutModel",
       "_view_count": null,
       "_view_module": "@jupyter-widgets/base",
       "_view_module_version": "1.2.0",
       "_view_name": "LayoutView",
       "align_content": null,
       "align_items": null,
       "align_self": null,
       "border": null,
       "bottom": null,
       "display": null,
       "flex": null,
       "flex_flow": null,
       "grid_area": null,
       "grid_auto_columns": null,
       "grid_auto_flow": null,
       "grid_auto_rows": null,
       "grid_column": null,
       "grid_gap": null,
       "grid_row": null,
       "grid_template_areas": null,
       "grid_template_columns": null,
       "grid_template_rows": null,
       "height": null,
       "justify_content": null,
       "justify_items": null,
       "left": null,
       "margin": null,
       "max_height": null,
       "max_width": null,
       "min_height": null,
       "min_width": null,
       "object_fit": null,
       "object_position": null,
       "order": null,
       "overflow": null,
       "overflow_x": null,
       "overflow_y": null,
       "padding": null,
       "right": null,
       "top": null,
       "visibility": null,
       "width": null
      }
     },
     "fe34f3cce8994b1cb01a1e007e47b827": {
      "model_module": "@jupyter-widgets/controls",
      "model_module_version": "1.5.0",
      "model_name": "HTMLModel",
      "state": {
       "_dom_classes": [],
       "_model_module": "@jupyter-widgets/controls",
       "_model_module_version": "1.5.0",
       "_model_name": "HTMLModel",
       "_view_count": null,
       "_view_module": "@jupyter-widgets/controls",
       "_view_module_version": "1.5.0",
       "_view_name": "HTMLView",
       "description": "",
       "description_tooltip": null,
       "layout": "IPY_MODEL_fbc4f9aa6b8c4393b03a524e5bebbad9",
       "placeholder": "​",
       "style": "IPY_MODEL_c41448746d7a4f2889e77d0b83bc1bd2",
       "value": "<h3> Top Agencies using Freeway Projects </h3>"
      }
     }
    },
    "version_major": 2,
    "version_minor": 0
   }
  }
 },
 "nbformat": 4,
 "nbformat_minor": 5
}