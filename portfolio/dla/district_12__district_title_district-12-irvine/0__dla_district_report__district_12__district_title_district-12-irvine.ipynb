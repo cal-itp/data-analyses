{
 "cells": [
  {
   "cell_type": "markdown",
   "id": "168d6ea5",
   "metadata": {
    "tags": [
     "papermill-error-cell-tag"
    ]
   },
   "source": [
    "<span style=\"color:red; font-family:Helvetica Neue, Helvetica, Arial, sans-serif; font-size:2em;\">An Exception was encountered at '<a href=\"#papermill-error-cell\">In [16]</a>'.</span>"
   ]
  },
  {
   "cell_type": "markdown",
   "id": "c52ac033",
   "metadata": {
    "papermill": {
     "duration": 0.007496,
     "end_time": "2022-05-18T18:00:50.121272",
     "exception": false,
     "start_time": "2022-05-18T18:00:50.113776",
     "status": "completed"
    },
    "pycharm": {
     "name": "#%% md\n"
    },
    "tags": []
   },
   "source": [
    "# **District 12 - Irvine**"
   ]
  },
  {
   "cell_type": "markdown",
   "id": "178948e4-f2ee-4978-87a6-e2eb560b0feb",
   "metadata": {
    "papermill": {
     "duration": 0.00915,
     "end_time": "2022-05-18T18:00:50.137183",
     "exception": false,
     "start_time": "2022-05-18T18:00:50.128033",
     "status": "completed"
    },
    "tags": []
   },
   "source": [
    "How does funding for local agencies differ district to district? Using E-76 obligation data, we can gain insight to how agencies in District 12 use federal program funds, and help identify DLA‘s core customers."
   ]
  },
  {
   "cell_type": "code",
   "execution_count": 1,
   "id": "92c5c56a",
   "metadata": {
    "collapsed": false,
    "execution": {
     "iopub.execute_input": "2022-05-18T18:00:50.156200Z",
     "iopub.status.busy": "2022-05-18T18:00:50.155872Z",
     "iopub.status.idle": "2022-05-18T18:01:04.642064Z",
     "shell.execute_reply": "2022-05-18T18:01:04.641120Z"
    },
    "jupyter": {
     "source_hidden": true
    },
    "papermill": {
     "duration": 14.500857,
     "end_time": "2022-05-18T18:01:04.644985",
     "exception": false,
     "start_time": "2022-05-18T18:00:50.144128",
     "status": "completed"
    },
    "pycharm": {
     "name": "#%%\n"
    },
    "tags": [
     "remove_input"
    ]
   },
   "outputs": [],
   "source": [
    "%%capture\n",
    "\n",
    "import numpy as np\n",
    "import pandas as pd\n",
    "from siuba import *\n",
    "\n",
    "import altair as alt\n",
    "import altair_saver\n",
    "from plotnine import *\n",
    "\n",
    "from IPython.display import Markdown, HTML, Image\n",
    "import ipywidgets as widgets\n",
    "from ipywidgets import interact, interactive\n",
    "\n",
    "from shared_utils import altair_utils\n",
    "from shared_utils import geography_utils\n",
    "from shared_utils import calitp_color_palette as cp\n",
    "from shared_utils import styleguide\n",
    "\n",
    "from calitp import to_snakecase\n",
    "import intake\n",
    "\n",
    "import _dla_utils_reports\n"
   ]
  },
  {
   "cell_type": "code",
   "execution_count": 2,
   "id": "82cf8245-73d2-4ed3-93cf-7ee01661b024",
   "metadata": {
    "execution": {
     "iopub.execute_input": "2022-05-18T18:01:04.663162Z",
     "iopub.status.busy": "2022-05-18T18:01:04.662714Z",
     "iopub.status.idle": "2022-05-18T18:01:04.666852Z",
     "shell.execute_reply": "2022-05-18T18:01:04.666297Z"
    },
    "jupyter": {
     "source_hidden": true
    },
    "papermill": {
     "duration": 0.016346,
     "end_time": "2022-05-18T18:01:04.668486",
     "exception": false,
     "start_time": "2022-05-18T18:01:04.652140",
     "status": "completed"
    },
    "tags": [
     "parameters",
     "remove_input"
    ]
   },
   "outputs": [],
   "source": [
    "#Parameter Cell\n",
    "\n",
    "district = 2"
   ]
  },
  {
   "cell_type": "code",
   "execution_count": 3,
   "id": "b3b0601e",
   "metadata": {
    "execution": {
     "iopub.execute_input": "2022-05-18T18:01:04.685002Z",
     "iopub.status.busy": "2022-05-18T18:01:04.684701Z",
     "iopub.status.idle": "2022-05-18T18:01:04.688307Z",
     "shell.execute_reply": "2022-05-18T18:01:04.687295Z"
    },
    "jupyter": {
     "source_hidden": true
    },
    "papermill": {
     "duration": 0.014351,
     "end_time": "2022-05-18T18:01:04.691256",
     "exception": false,
     "start_time": "2022-05-18T18:01:04.676905",
     "status": "completed"
    },
    "tags": [
     "injected-parameters",
     "remove_input"
    ]
   },
   "outputs": [],
   "source": [
    "# Parameters\n",
    "district = 12\n",
    "district_title = \"District 12 - Irvine\"\n"
   ]
  },
  {
   "cell_type": "code",
   "execution_count": 4,
   "id": "948b2b4f-ef9b-48ff-b109-e7b76361066c",
   "metadata": {
    "execution": {
     "iopub.execute_input": "2022-05-18T18:01:04.706752Z",
     "iopub.status.busy": "2022-05-18T18:01:04.706554Z",
     "iopub.status.idle": "2022-05-18T18:01:07.693337Z",
     "shell.execute_reply": "2022-05-18T18:01:07.692701Z"
    },
    "jupyter": {
     "source_hidden": true
    },
    "papermill": {
     "duration": 2.996215,
     "end_time": "2022-05-18T18:01:07.695187",
     "exception": false,
     "start_time": "2022-05-18T18:01:04.698972",
     "status": "completed"
    },
    "tags": [
     "remove_input"
    ]
   },
   "outputs": [],
   "source": [
    "df= pd.read_parquet(\"gs://calitp-analytics-data/data-analyses/dla/e-76Obligated/dla_df.parquet\")\n"
   ]
  },
  {
   "cell_type": "code",
   "execution_count": 5,
   "id": "be910f27-7608-4522-8d8d-ef93611cb748",
   "metadata": {
    "execution": {
     "iopub.execute_input": "2022-05-18T18:01:07.710766Z",
     "iopub.status.busy": "2022-05-18T18:01:07.710515Z",
     "iopub.status.idle": "2022-05-18T18:01:07.779677Z",
     "shell.execute_reply": "2022-05-18T18:01:07.779098Z"
    },
    "jupyter": {
     "source_hidden": true
    },
    "papermill": {
     "duration": 0.079363,
     "end_time": "2022-05-18T18:01:07.781558",
     "exception": false,
     "start_time": "2022-05-18T18:01:07.702195",
     "status": "completed"
    },
    "tags": [
     "remove_input"
    ]
   },
   "outputs": [],
   "source": [
    "df = (df>>filter(_.dist==district))\n",
    "    \n",
    "    \n",
    "#subsetting the data\n",
    "df_years = _dla_utils_reports.count_all_years(df)\n",
    "df_top = _dla_utils_reports.find_top(df)\n",
    "    "
   ]
  },
  {
   "cell_type": "code",
   "execution_count": 6,
   "id": "7f5ac0a1-a951-4072-8f85-d2c90290907f",
   "metadata": {
    "execution": {
     "iopub.execute_input": "2022-05-18T18:01:07.796591Z",
     "iopub.status.busy": "2022-05-18T18:01:07.796328Z",
     "iopub.status.idle": "2022-05-18T18:01:07.884996Z",
     "shell.execute_reply": "2022-05-18T18:01:07.884550Z"
    },
    "jupyter": {
     "source_hidden": true
    },
    "papermill": {
     "duration": 0.098178,
     "end_time": "2022-05-18T18:01:07.886674",
     "exception": false,
     "start_time": "2022-05-18T18:01:07.788496",
     "status": "completed"
    },
    "tags": [
     "remove_input"
    ]
   },
   "outputs": [
    {
     "data": {
      "text/html": [
       "<h2>Quick Stats</h2>"
      ],
      "text/plain": [
       "<IPython.core.display.HTML object>"
      ]
     },
     "metadata": {},
     "output_type": "display_data"
    },
    {
     "data": {
      "text/html": [
       "There are <strong>36 Unique Agencies</strong>"
      ],
      "text/plain": [
       "<IPython.core.display.HTML object>"
      ]
     },
     "metadata": {},
     "output_type": "display_data"
    },
    {
     "data": {
      "text/html": [
       "Out of <strong>708</strong> obligations, <strong>1 are transit-related</strong>.<br><strong>Santa Ana</strong> has the <strong>highest transit</strong> obligations."
      ],
      "text/plain": [
       "<IPython.core.display.HTML object>"
      ]
     },
     "metadata": {},
     "output_type": "display_data"
    },
    {
     "data": {
      "text/html": [
       "There are <strong>2 agencies have over 72.25</strong>obligations (95th percentile) since 2013.0"
      ],
      "text/plain": [
       "<IPython.core.display.HTML object>"
      ]
     },
     "metadata": {},
     "output_type": "display_data"
    },
    {
     "data": {
      "text/html": [
       "There are <strong>3 agencies have less than 2.00</strong> obligations (5th percentile) since 2013.0"
      ],
      "text/plain": [
       "<IPython.core.display.HTML object>"
      ]
     },
     "metadata": {},
     "output_type": "display_data"
    },
    {
     "data": {
      "text/html": [
       "<h4><strong>Number of Unique Prefix Codes by Agency</strong></h4>"
      ],
      "text/plain": [
       "<IPython.core.display.HTML object>"
      ]
     },
     "metadata": {},
     "output_type": "display_data"
    },
    {
     "data": {
      "text/html": [
       "<table border=\"1\" class=\"dataframe\">\n",
       "  <thead>\n",
       "    <tr style=\"text-align: right;\">\n",
       "      <th>Agency</th>\n",
       "      <th>Number of Unqiue Prefix Codes</th>\n",
       "    </tr>\n",
       "  </thead>\n",
       "  <tbody>\n",
       "    <tr>\n",
       "      <td>Orange County Transportation Authority</td>\n",
       "      <td>16</td>\n",
       "    </tr>\n",
       "    <tr>\n",
       "      <td>Anaheim</td>\n",
       "      <td>13</td>\n",
       "    </tr>\n",
       "    <tr>\n",
       "      <td>Orange County</td>\n",
       "      <td>11</td>\n",
       "    </tr>\n",
       "    <tr>\n",
       "      <td>Santa Ana</td>\n",
       "      <td>11</td>\n",
       "    </tr>\n",
       "    <tr>\n",
       "      <td>Costa Mesa</td>\n",
       "      <td>8</td>\n",
       "    </tr>\n",
       "  </tbody>\n",
       "</table>"
      ],
      "text/plain": [
       "<IPython.core.display.HTML object>"
      ]
     },
     "metadata": {},
     "output_type": "display_data"
    },
    {
     "data": {
      "text/html": [
       "<h4><strong>Number of Unique Agencies by Prefix Codes</strong></h4>"
      ],
      "text/plain": [
       "<IPython.core.display.HTML object>"
      ]
     },
     "metadata": {},
     "output_type": "display_data"
    },
    {
     "data": {
      "text/html": [
       "<table border=\"1\" class=\"dataframe\">\n",
       "  <thead>\n",
       "    <tr style=\"text-align: right;\">\n",
       "      <th>Prefix</th>\n",
       "      <th>Number of Unqiue Agencies</th>\n",
       "    </tr>\n",
       "  </thead>\n",
       "  <tbody>\n",
       "    <tr>\n",
       "      <td>STPL</td>\n",
       "      <td>30</td>\n",
       "    </tr>\n",
       "    <tr>\n",
       "      <td>HSIPL</td>\n",
       "      <td>16</td>\n",
       "    </tr>\n",
       "    <tr>\n",
       "      <td>CML</td>\n",
       "      <td>14</td>\n",
       "    </tr>\n",
       "    <tr>\n",
       "      <td>RPSTPL</td>\n",
       "      <td>10</td>\n",
       "    </tr>\n",
       "    <tr>\n",
       "      <td>SRTSL</td>\n",
       "      <td>7</td>\n",
       "    </tr>\n",
       "  </tbody>\n",
       "</table>"
      ],
      "text/plain": [
       "<IPython.core.display.HTML object>"
      ]
     },
     "metadata": {},
     "output_type": "display_data"
    },
    {
     "data": {
      "text/html": [
       "<h4><strong>Top 5 Types of Work</strong></h4>"
      ],
      "text/plain": [
       "<IPython.core.display.HTML object>"
      ]
     },
     "metadata": {},
     "output_type": "display_data"
    },
    {
     "data": {
      "text/html": [
       "<table border=\"1\" class=\"dataframe\">\n",
       "  <thead>\n",
       "    <tr style=\"text-align: right;\">\n",
       "      <th>Type of Work</th>\n",
       "    </tr>\n",
       "  </thead>\n",
       "  <tbody>\n",
       "    <tr>\n",
       "      <td>Road Rehabilitation</td>\n",
       "    </tr>\n",
       "    <tr>\n",
       "      <td>FTA Transfer</td>\n",
       "    </tr>\n",
       "    <tr>\n",
       "      <td>Left-turn Signal Phasing</td>\n",
       "    </tr>\n",
       "    <tr>\n",
       "      <td>Install Protected Left Turn Signal Phasing</td>\n",
       "    </tr>\n",
       "    <tr>\n",
       "      <td>Install Signal Interconnect Conduit And Upgrade Intersection Traffic Signals</td>\n",
       "    </tr>\n",
       "  </tbody>\n",
       "</table>"
      ],
      "text/plain": [
       "<IPython.core.display.HTML object>"
      ]
     },
     "metadata": {},
     "output_type": "display_data"
    }
   ],
   "source": [
    "display(HTML(\"<h2>Quick Stats</h2>\"))\n",
    "\n",
    "display(\n",
    "    HTML(\n",
    "        f\"There are <strong>{(df.primary_agency_name.nunique())} Unique Agencies</strong>\"\n",
    "    )\n",
    ")\n",
    "\n",
    "transit = df >> filter(_.transit == 1)\n",
    "\n",
    "def find_transit(df):\n",
    "    if (len(transit)) == 0: \n",
    "        return display((HTML(f\"Out of <strong>{len(df)}</strong> obligations,\" \n",
    "                             f\" <strong>0 are transit realted</strong>\")))\n",
    "    \n",
    "    else:\n",
    "        return display(\n",
    "            HTML(\n",
    "                f\"Out of <strong>{len(df)}</strong> obligations, <strong>{len(transit)} are transit-related</strong>.\"\n",
    "                f\"<br><strong>{(transit>>count(_.primary_agency_name)>>arrange(-_.n)).iloc[0, 0]}</strong> \"\n",
    "                f\"has the <strong>highest transit</strong> obligations.\"\n",
    "            ))\n",
    "    \n",
    "find_transit(df)\n",
    "\n",
    "\n",
    "\n",
    "\n",
    "q = df >> count(_.primary_agency_name) >> arrange(_.n)\n",
    "\n",
    "q2 = q.n.quantile(0.95)\n",
    "\n",
    "display(\n",
    "    HTML(\n",
    "        f\"There are <strong>{len(q>>filter(_.n> (q2)))} agencies have over {('%.2f'%(q2))}</strong>\" \n",
    "        f\"obligations (95th percentile) since {(df.prepared_y.min())}\"\n",
    "    )\n",
    ")\n",
    "\n",
    "q3 = q.n.quantile(0.1)\n",
    "display(\n",
    "    HTML(\n",
    "        (\n",
    "            f\"There are <strong>{len(q>>filter(_.n< (q3)))} agencies have less than\"\n",
    "            f\" {('%.2f'%(q3))}</strong> obligations (5th percentile) since {(df.prepared_y.min())}\"\n",
    "        )\n",
    "    )\n",
    ")\n",
    "\n",
    "## tables\n",
    "display(HTML(\"<h4><strong>Number of Unique Prefix Codes by Agency</strong></h4>\"))\n",
    "nunique_prefix_codes = ((_dla_utils_reports.get_nunique(df, \"prefix\", \"primary_agency_name\"))\n",
    "                        .rename(columns={\"primary_agency_name\": \"Agency\", \"n\": \"Number of Unqiue Prefix Codes\"})\n",
    "                        .head(5))\n",
    "display(HTML(nunique_prefix_codes.to_html(index=False)))\n",
    "\n",
    "display(HTML(\"<h4><strong>Number of Unique Agencies by Prefix Codes</strong></h4>\"))\n",
    "prefix_codes = ((_dla_utils_reports.get_nunique(df, \"primary_agency_name\", \"prefix\"))\n",
    "                .rename(columns={\"prefix\": \"Prefix\", \"n\": \"Number of Unqiue Agencies\"})\n",
    "                .head(5))\n",
    "display(HTML(prefix_codes.to_html(index=False)))\n",
    "\n",
    "display(HTML(\"<h4><strong>Top 5 Types of Work</strong></h4>\"))\n",
    "work_types = (\n",
    "    (df >> count(_.type_of_work) >> arrange(-_.n) >> select(_.type_of_work))\n",
    "    .rename(columns={\"type_of_work\": \"Type of Work\"})\n",
    "    .head(5)\n",
    ")\n",
    "#display(work_types)\n",
    "\n",
    "# get rid of index using:\n",
    "## https://stackoverflow.com/questions/24644656/how-to-print-pandas-dataframe-without-index\n",
    "display(HTML(work_types.to_html(index=False)))\n"
   ]
  },
  {
   "cell_type": "markdown",
   "id": "52a161a2-876a-4b42-9c93-3221dce17638",
   "metadata": {
    "papermill": {
     "duration": 0.017324,
     "end_time": "2022-05-18T18:01:07.912402",
     "exception": false,
     "start_time": "2022-05-18T18:01:07.895078",
     "status": "completed"
    },
    "tags": []
   },
   "source": [
    "## Number of Obligations"
   ]
  },
  {
   "cell_type": "markdown",
   "id": "379b61e3-1c1b-4683-b78f-8dee0683f064",
   "metadata": {
    "papermill": {
     "duration": 0.009085,
     "end_time": "2022-05-18T18:01:07.933371",
     "exception": false,
     "start_time": "2022-05-18T18:01:07.924286",
     "status": "completed"
    },
    "tags": []
   },
   "source": [
    "Obligations indicate a unique entry in the E-76 dataset. By counting the obligations for each year, district, and organization, we can see what the volume each as well which organizations are the most and last frequent customers. \n",
    "\n",
    "Metrics:\n",
    "* Obligations by Year\n",
    "* Number of Unique Agencies by District\n",
    "* Agencies With The Most Obligations"
   ]
  },
  {
   "cell_type": "markdown",
   "id": "81ad520b-db91-45b8-a598-a6577cccc24e",
   "metadata": {
    "papermill": {
     "duration": 0.007745,
     "end_time": "2022-05-18T18:01:07.950065",
     "exception": false,
     "start_time": "2022-05-18T18:01:07.942320",
     "status": "completed"
    },
    "tags": []
   },
   "source": [
    "### Obligations by Year"
   ]
  },
  {
   "cell_type": "code",
   "execution_count": 7,
   "id": "ae85287b-0772-4595-8ea2-ccba83dd22cf",
   "metadata": {
    "execution": {
     "iopub.execute_input": "2022-05-18T18:01:07.971664Z",
     "iopub.status.busy": "2022-05-18T18:01:07.971410Z",
     "iopub.status.idle": "2022-05-18T18:01:08.049350Z",
     "shell.execute_reply": "2022-05-18T18:01:08.048682Z"
    },
    "jupyter": {
     "source_hidden": true
    },
    "papermill": {
     "duration": 0.090273,
     "end_time": "2022-05-18T18:01:08.051173",
     "exception": false,
     "start_time": "2022-05-18T18:01:07.960900",
     "status": "completed"
    },
    "tags": [
     "remove_input"
    ]
   },
   "outputs": [
    {
     "data": {
      "text/html": [
       "\n",
       "<div id=\"altair-viz-9d493fc00622460a847a4602588a4102\"></div>\n",
       "<script type=\"text/javascript\">\n",
       "  var VEGA_DEBUG = (typeof VEGA_DEBUG == \"undefined\") ? {} : VEGA_DEBUG;\n",
       "  (function(spec, embedOpt){\n",
       "    let outputDiv = document.currentScript.previousElementSibling;\n",
       "    if (outputDiv.id !== \"altair-viz-9d493fc00622460a847a4602588a4102\") {\n",
       "      outputDiv = document.getElementById(\"altair-viz-9d493fc00622460a847a4602588a4102\");\n",
       "    }\n",
       "    const paths = {\n",
       "      \"vega\": \"https://cdn.jsdelivr.net/npm//vega@5?noext\",\n",
       "      \"vega-lib\": \"https://cdn.jsdelivr.net/npm//vega-lib?noext\",\n",
       "      \"vega-lite\": \"https://cdn.jsdelivr.net/npm//vega-lite@4.17.0?noext\",\n",
       "      \"vega-embed\": \"https://cdn.jsdelivr.net/npm//vega-embed@6?noext\",\n",
       "    };\n",
       "\n",
       "    function maybeLoadScript(lib, version) {\n",
       "      var key = `${lib.replace(\"-\", \"\")}_version`;\n",
       "      return (VEGA_DEBUG[key] == version) ?\n",
       "        Promise.resolve(paths[lib]) :\n",
       "        new Promise(function(resolve, reject) {\n",
       "          var s = document.createElement('script');\n",
       "          document.getElementsByTagName(\"head\")[0].appendChild(s);\n",
       "          s.async = true;\n",
       "          s.onload = () => {\n",
       "            VEGA_DEBUG[key] = version;\n",
       "            return resolve(paths[lib]);\n",
       "          };\n",
       "          s.onerror = () => reject(`Error loading script: ${paths[lib]}`);\n",
       "          s.src = paths[lib];\n",
       "        });\n",
       "    }\n",
       "\n",
       "    function showError(err) {\n",
       "      outputDiv.innerHTML = `<div class=\"error\" style=\"color:red;\">${err}</div>`;\n",
       "      throw err;\n",
       "    }\n",
       "\n",
       "    function displayChart(vegaEmbed) {\n",
       "      vegaEmbed(outputDiv, spec, embedOpt)\n",
       "        .catch(err => showError(`Javascript Error: ${err.message}<br>This usually means there's a typo in your chart specification. See the javascript console for the full traceback.`));\n",
       "    }\n",
       "\n",
       "    if(typeof define === \"function\" && define.amd) {\n",
       "      requirejs.config({paths});\n",
       "      require([\"vega-embed\"], displayChart, err => showError(`Error loading script: ${err.message}`));\n",
       "    } else {\n",
       "      maybeLoadScript(\"vega\", \"5\")\n",
       "        .then(() => maybeLoadScript(\"vega-lite\", \"4.17.0\"))\n",
       "        .then(() => maybeLoadScript(\"vega-embed\", \"6\"))\n",
       "        .catch(showError)\n",
       "        .then(() => displayChart(vegaEmbed));\n",
       "    }\n",
       "  })({\"config\": {\"view\": {\"continuousWidth\": 400, \"continuousHeight\": 300}, \"axis\": {\"domainColor\": \"#cbcbcb\", \"grid\": true, \"gridColor\": \"#cbcbcb\", \"gridWidth\": 1, \"labelColor\": \"#474747\", \"labelFont\": \"Nunito Sans\", \"labelFontSize\": 10, \"labelPadding\": 4, \"tickColor\": \"#cbcbcb\", \"tickSize\": 10, \"titleColor\": \"#333\", \"titleFont\": \"Raleway\", \"titleFontSize\": 12, \"titlePadding\": 10}, \"axisBand\": {\"grid\": false}, \"background\": \"white\", \"font\": \"Raleway\", \"header\": {\"labelFont\": \"Nunito Sans\", \"titleFont\": \"Raleway\"}, \"legend\": {\"labelColor\": \"#333\", \"labelFont\": \"Nunito Sans\", \"labelFontSize\": 11, \"labelLimit\": 0, \"padding\": 1, \"symbolSize\": 30, \"symbolType\": \"square\", \"titleColor\": \"#333\", \"titleFont\": \"Raleway\", \"titleFontSize\": 14, \"titlePadding\": 10}, \"title\": {\"anchor\": \"middle\", \"font\": \"Raleway\", \"fontSize\": 18, \"fontWeight\": 300, \"offset\": 20}}, \"data\": {\"name\": \"data-31e1800fed9d6d4d24d2e36a9cd2e284\"}, \"mark\": \"line\", \"encoding\": {\"tooltip\": [{\"field\": \"Year\", \"type\": \"quantitative\"}, {\"field\": \"count\", \"type\": \"quantitative\"}], \"x\": {\"field\": \"Year\", \"title\": \"Prepared Year\", \"type\": \"ordinal\"}, \"y\": {\"field\": \"count\", \"title\": \"Count\", \"type\": \"quantitative\"}}, \"height\": 250, \"width\": 400, \"$schema\": \"https://vega.github.io/schema/vega-lite/v4.17.0.json\", \"datasets\": {\"data-31e1800fed9d6d4d24d2e36a9cd2e284\": [{\"Year\": 2018.0, \"count\": 111, \"variable\": \"prepared_y\"}, {\"Year\": 2016.0, \"count\": 103, \"variable\": \"prepared_y\"}, {\"Year\": 2020.0, \"count\": 93, \"variable\": \"prepared_y\"}, {\"Year\": 2019.0, \"count\": 83, \"variable\": \"prepared_y\"}, {\"Year\": 2021.0, \"count\": 81, \"variable\": \"prepared_y\"}, {\"Year\": 2014.0, \"count\": 73, \"variable\": \"prepared_y\"}, {\"Year\": 2015.0, \"count\": 71, \"variable\": \"prepared_y\"}, {\"Year\": 2017.0, \"count\": 49, \"variable\": \"prepared_y\"}, {\"Year\": 2022.0, \"count\": 26, \"variable\": \"prepared_y\"}, {\"Year\": 2013.0, \"count\": 18, \"variable\": \"prepared_y\"}]}}, {\"mode\": \"vega-lite\"});\n",
       "</script>"
      ],
      "text/plain": [
       "alt.Chart(...)"
      ]
     },
     "metadata": {},
     "output_type": "display_data"
    }
   ],
   "source": [
    " #Line chart for Obligations by Year\n",
    "chart_df = (df_top>>filter(_.variable=='prepared_y')).rename(columns= {\"value\":\"Year\"})\n",
    "    \n",
    "chart1= (_dla_utils_reports.basic_line_chart_test_no_save(chart_df, 'Year', 'count', district)).encode(x=alt.X('Year:O', title='Prepared Year'))\n",
    "display(chart1)"
   ]
  },
  {
   "cell_type": "markdown",
   "id": "ff0a6bf9-ddc9-4b6c-b2e1-77de18cf6f80",
   "metadata": {
    "papermill": {
     "duration": 0.008146,
     "end_time": "2022-05-18T18:01:08.068286",
     "exception": false,
     "start_time": "2022-05-18T18:01:08.060140",
     "status": "completed"
    },
    "tags": []
   },
   "source": [
    "### Number of Unique Agencies by District"
   ]
  },
  {
   "cell_type": "code",
   "execution_count": 8,
   "id": "0bc7e34d-545e-4afd-92e9-a17630d0ae89",
   "metadata": {
    "execution": {
     "iopub.execute_input": "2022-05-18T18:01:08.088549Z",
     "iopub.status.busy": "2022-05-18T18:01:08.088281Z",
     "iopub.status.idle": "2022-05-18T18:01:08.177702Z",
     "shell.execute_reply": "2022-05-18T18:01:08.177221Z"
    },
    "jupyter": {
     "source_hidden": true
    },
    "papermill": {
     "duration": 0.101075,
     "end_time": "2022-05-18T18:01:08.179468",
     "exception": false,
     "start_time": "2022-05-18T18:01:08.078393",
     "status": "completed"
    },
    "tags": [
     "remove_input"
    ]
   },
   "outputs": [
    {
     "data": {
      "text/html": [
       "\n",
       "<div id=\"altair-viz-902a6aca219b4cf3ac6c49650b60a2ef\"></div>\n",
       "<script type=\"text/javascript\">\n",
       "  var VEGA_DEBUG = (typeof VEGA_DEBUG == \"undefined\") ? {} : VEGA_DEBUG;\n",
       "  (function(spec, embedOpt){\n",
       "    let outputDiv = document.currentScript.previousElementSibling;\n",
       "    if (outputDiv.id !== \"altair-viz-902a6aca219b4cf3ac6c49650b60a2ef\") {\n",
       "      outputDiv = document.getElementById(\"altair-viz-902a6aca219b4cf3ac6c49650b60a2ef\");\n",
       "    }\n",
       "    const paths = {\n",
       "      \"vega\": \"https://cdn.jsdelivr.net/npm//vega@5?noext\",\n",
       "      \"vega-lib\": \"https://cdn.jsdelivr.net/npm//vega-lib?noext\",\n",
       "      \"vega-lite\": \"https://cdn.jsdelivr.net/npm//vega-lite@4.17.0?noext\",\n",
       "      \"vega-embed\": \"https://cdn.jsdelivr.net/npm//vega-embed@6?noext\",\n",
       "    };\n",
       "\n",
       "    function maybeLoadScript(lib, version) {\n",
       "      var key = `${lib.replace(\"-\", \"\")}_version`;\n",
       "      return (VEGA_DEBUG[key] == version) ?\n",
       "        Promise.resolve(paths[lib]) :\n",
       "        new Promise(function(resolve, reject) {\n",
       "          var s = document.createElement('script');\n",
       "          document.getElementsByTagName(\"head\")[0].appendChild(s);\n",
       "          s.async = true;\n",
       "          s.onload = () => {\n",
       "            VEGA_DEBUG[key] = version;\n",
       "            return resolve(paths[lib]);\n",
       "          };\n",
       "          s.onerror = () => reject(`Error loading script: ${paths[lib]}`);\n",
       "          s.src = paths[lib];\n",
       "        });\n",
       "    }\n",
       "\n",
       "    function showError(err) {\n",
       "      outputDiv.innerHTML = `<div class=\"error\" style=\"color:red;\">${err}</div>`;\n",
       "      throw err;\n",
       "    }\n",
       "\n",
       "    function displayChart(vegaEmbed) {\n",
       "      vegaEmbed(outputDiv, spec, embedOpt)\n",
       "        .catch(err => showError(`Javascript Error: ${err.message}<br>This usually means there's a typo in your chart specification. See the javascript console for the full traceback.`));\n",
       "    }\n",
       "\n",
       "    if(typeof define === \"function\" && define.amd) {\n",
       "      requirejs.config({paths});\n",
       "      require([\"vega-embed\"], displayChart, err => showError(`Error loading script: ${err.message}`));\n",
       "    } else {\n",
       "      maybeLoadScript(\"vega\", \"5\")\n",
       "        .then(() => maybeLoadScript(\"vega-lite\", \"4.17.0\"))\n",
       "        .then(() => maybeLoadScript(\"vega-embed\", \"6\"))\n",
       "        .catch(showError)\n",
       "        .then(() => displayChart(vegaEmbed));\n",
       "    }\n",
       "  })({\"config\": {\"view\": {\"continuousWidth\": 400, \"continuousHeight\": 300}, \"axis\": {\"domainColor\": \"#cbcbcb\", \"grid\": true, \"gridColor\": \"#cbcbcb\", \"gridWidth\": 1, \"labelColor\": \"#474747\", \"labelFont\": \"Nunito Sans\", \"labelFontSize\": 10, \"labelPadding\": 4, \"tickColor\": \"#cbcbcb\", \"tickSize\": 10, \"titleColor\": \"#333\", \"titleFont\": \"Raleway\", \"titleFontSize\": 12, \"titlePadding\": 10}, \"axisBand\": {\"grid\": false}, \"background\": \"white\", \"font\": \"Raleway\", \"header\": {\"labelFont\": \"Nunito Sans\", \"titleFont\": \"Raleway\"}, \"legend\": {\"labelColor\": \"#333\", \"labelFont\": \"Nunito Sans\", \"labelFontSize\": 11, \"labelLimit\": 0, \"padding\": 1, \"symbolSize\": 30, \"symbolType\": \"square\", \"titleColor\": \"#333\", \"titleFont\": \"Raleway\", \"titleFontSize\": 14, \"titlePadding\": 10}, \"title\": {\"anchor\": \"middle\", \"font\": \"Raleway\", \"fontSize\": 18, \"fontWeight\": 300, \"offset\": 20}}, \"data\": {\"name\": \"data-4d5e7d64e7482f2249a8f705826190ff\"}, \"mark\": \"bar\", \"encoding\": {\"color\": {\"field\": \"District\", \"legend\": {\"title\": \"Prepared Year\"}, \"scale\": {\"range\": [\"#B9D6DF\", \"#8CBCCB\", \"#2EA8CE\", \"#136C97\", \"#0B405B\"]}, \"type\": \"nominal\"}, \"column\": {\"field\": \"District\", \"type\": \"nominal\"}, \"tooltip\": [{\"field\": \"prepared_y\", \"type\": \"quantitative\"}, {\"field\": \"Count\", \"type\": \"quantitative\"}], \"x\": {\"field\": \"prepared_y\", \"title\": \"Prepared Year\", \"type\": \"ordinal\"}, \"y\": {\"field\": \"Count\", \"title\": \"Number of Unique Agencies\", \"type\": \"quantitative\"}}, \"height\": 250, \"width\": 400, \"$schema\": \"https://vega.github.io/schema/vega-lite/v4.17.0.json\", \"datasets\": {\"data-4d5e7d64e7482f2249a8f705826190ff\": [{\"prepared_y\": 2022.0, \"District\": 12, \"Count\": 11}, {\"prepared_y\": 2021.0, \"District\": 12, \"Count\": 19}, {\"prepared_y\": 2020.0, \"District\": 12, \"Count\": 16}, {\"prepared_y\": 2019.0, \"District\": 12, \"Count\": 21}, {\"prepared_y\": 2018.0, \"District\": 12, \"Count\": 28}, {\"prepared_y\": 2017.0, \"District\": 12, \"Count\": 13}, {\"prepared_y\": 2016.0, \"District\": 12, \"Count\": 29}, {\"prepared_y\": 2015.0, \"District\": 12, \"Count\": 18}, {\"prepared_y\": 2014.0, \"District\": 12, \"Count\": 25}, {\"prepared_y\": 2013.0, \"District\": 12, \"Count\": 9}]}}, {\"mode\": \"vega-lite\"});\n",
       "</script>"
      ],
      "text/plain": [
       "alt.Chart(...)"
      ]
     },
     "metadata": {},
     "output_type": "display_data"
    }
   ],
   "source": [
    "# Unique Agencies by Dist\n",
    "dist_years_agency = ((\n",
    "        df\n",
    "        >> group_by(_.prepared_y, _.dist)\n",
    "        >> summarize(n=_.primary_agency_name.nunique())\n",
    "        >> arrange(-_.prepared_y)\n",
    "    )\n",
    "        .rename(columns={'dist':'District', 'n':'Count'})\n",
    "    )\n",
    "chart10 = (alt.Chart(dist_years_agency).mark_bar().encode(\n",
    "        column='District:N',\n",
    "        x=alt.X('prepared_y:O', title='Prepared Year'),\n",
    "        y=alt.Y('Count:Q', title='Number of Unique Agencies'),\n",
    "        color = alt.Color(\"District:N\", \n",
    "                              scale=alt.Scale(\n",
    "                                  range=altair_utils.CALITP_SEQUENTIAL_COLORS),  \n",
    "                               legend=alt.Legend(title=\"Prepared Year\")\n",
    "                              )))\n",
    "                              \n",
    "chart10 = styleguide.preset_chart_config(chart10)\n",
    "chart10 = _dla_utils_reports.add_tooltip(chart10, 'prepared_y', 'Count')\n",
    "\n",
    "display(chart10)"
   ]
  },
  {
   "cell_type": "markdown",
   "id": "70c59c39-590d-4136-aa09-ee6ed5afc872",
   "metadata": {
    "papermill": {
     "duration": 0.010975,
     "end_time": "2022-05-18T18:01:08.198893",
     "exception": false,
     "start_time": "2022-05-18T18:01:08.187918",
     "status": "completed"
    },
    "tags": []
   },
   "source": [
    "### Agencies With The Most Obligations"
   ]
  },
  {
   "cell_type": "code",
   "execution_count": 9,
   "id": "faa4758e-8a41-44f8-aec4-b8cc4d75d906",
   "metadata": {
    "execution": {
     "iopub.execute_input": "2022-05-18T18:01:08.221266Z",
     "iopub.status.busy": "2022-05-18T18:01:08.220988Z",
     "iopub.status.idle": "2022-05-18T18:01:08.297626Z",
     "shell.execute_reply": "2022-05-18T18:01:08.297151Z"
    },
    "jupyter": {
     "source_hidden": true
    },
    "papermill": {
     "duration": 0.090881,
     "end_time": "2022-05-18T18:01:08.299239",
     "exception": false,
     "start_time": "2022-05-18T18:01:08.208358",
     "status": "completed"
    },
    "tags": [
     "remove_input"
    ]
   },
   "outputs": [
    {
     "data": {
      "text/html": [
       "\n",
       "<div id=\"altair-viz-e07d7b580e604c088166477886dd9344\"></div>\n",
       "<script type=\"text/javascript\">\n",
       "  var VEGA_DEBUG = (typeof VEGA_DEBUG == \"undefined\") ? {} : VEGA_DEBUG;\n",
       "  (function(spec, embedOpt){\n",
       "    let outputDiv = document.currentScript.previousElementSibling;\n",
       "    if (outputDiv.id !== \"altair-viz-e07d7b580e604c088166477886dd9344\") {\n",
       "      outputDiv = document.getElementById(\"altair-viz-e07d7b580e604c088166477886dd9344\");\n",
       "    }\n",
       "    const paths = {\n",
       "      \"vega\": \"https://cdn.jsdelivr.net/npm//vega@5?noext\",\n",
       "      \"vega-lib\": \"https://cdn.jsdelivr.net/npm//vega-lib?noext\",\n",
       "      \"vega-lite\": \"https://cdn.jsdelivr.net/npm//vega-lite@4.17.0?noext\",\n",
       "      \"vega-embed\": \"https://cdn.jsdelivr.net/npm//vega-embed@6?noext\",\n",
       "    };\n",
       "\n",
       "    function maybeLoadScript(lib, version) {\n",
       "      var key = `${lib.replace(\"-\", \"\")}_version`;\n",
       "      return (VEGA_DEBUG[key] == version) ?\n",
       "        Promise.resolve(paths[lib]) :\n",
       "        new Promise(function(resolve, reject) {\n",
       "          var s = document.createElement('script');\n",
       "          document.getElementsByTagName(\"head\")[0].appendChild(s);\n",
       "          s.async = true;\n",
       "          s.onload = () => {\n",
       "            VEGA_DEBUG[key] = version;\n",
       "            return resolve(paths[lib]);\n",
       "          };\n",
       "          s.onerror = () => reject(`Error loading script: ${paths[lib]}`);\n",
       "          s.src = paths[lib];\n",
       "        });\n",
       "    }\n",
       "\n",
       "    function showError(err) {\n",
       "      outputDiv.innerHTML = `<div class=\"error\" style=\"color:red;\">${err}</div>`;\n",
       "      throw err;\n",
       "    }\n",
       "\n",
       "    function displayChart(vegaEmbed) {\n",
       "      vegaEmbed(outputDiv, spec, embedOpt)\n",
       "        .catch(err => showError(`Javascript Error: ${err.message}<br>This usually means there's a typo in your chart specification. See the javascript console for the full traceback.`));\n",
       "    }\n",
       "\n",
       "    if(typeof define === \"function\" && define.amd) {\n",
       "      requirejs.config({paths});\n",
       "      require([\"vega-embed\"], displayChart, err => showError(`Error loading script: ${err.message}`));\n",
       "    } else {\n",
       "      maybeLoadScript(\"vega\", \"5\")\n",
       "        .then(() => maybeLoadScript(\"vega-lite\", \"4.17.0\"))\n",
       "        .then(() => maybeLoadScript(\"vega-embed\", \"6\"))\n",
       "        .catch(showError)\n",
       "        .then(() => displayChart(vegaEmbed));\n",
       "    }\n",
       "  })({\"config\": {\"view\": {\"continuousWidth\": 400, \"continuousHeight\": 300}, \"axis\": {\"domainColor\": \"#cbcbcb\", \"grid\": true, \"gridColor\": \"#cbcbcb\", \"gridWidth\": 1, \"labelColor\": \"#474747\", \"labelFont\": \"Nunito Sans\", \"labelFontSize\": 10, \"labelPadding\": 4, \"tickColor\": \"#cbcbcb\", \"tickSize\": 10, \"titleColor\": \"#333\", \"titleFont\": \"Raleway\", \"titleFontSize\": 12, \"titlePadding\": 10}, \"axisBand\": {\"grid\": false}, \"background\": \"white\", \"font\": \"Raleway\", \"header\": {\"labelFont\": \"Nunito Sans\", \"titleFont\": \"Raleway\"}, \"legend\": {\"labelColor\": \"#333\", \"labelFont\": \"Nunito Sans\", \"labelFontSize\": 11, \"labelLimit\": 0, \"padding\": 1, \"symbolSize\": 30, \"symbolType\": \"square\", \"titleColor\": \"#333\", \"titleFont\": \"Raleway\", \"titleFontSize\": 14, \"titlePadding\": 10}, \"title\": {\"anchor\": \"middle\", \"font\": \"Raleway\", \"fontSize\": 18, \"fontWeight\": 300, \"offset\": 20}}, \"data\": {\"name\": \"data-d5eb78c166e1ff6bb8ab7e48e1f54734\"}, \"mark\": \"bar\", \"encoding\": {\"color\": {\"field\": \"Agency\", \"legend\": {\"symbolLimit\": 10, \"title\": \"Agency\"}, \"scale\": {\"range\": [\"#2EA8CE\", \"#EB9F3C\", \"#F4D837\", \"#51BF9D\", \"#8CBCCB\", \"#9487C0\"]}, \"type\": \"nominal\"}, \"tooltip\": [{\"field\": \"Agency\", \"type\": \"nominal\"}, {\"field\": \"Number of Obligations\", \"type\": \"quantitative\"}], \"x\": {\"field\": \"Agency\", \"sort\": \"-y\", \"title\": \"Agency\", \"type\": \"nominal\"}, \"y\": {\"field\": \"Number of Obligations\", \"title\": \"Number Of Obligations\", \"type\": \"quantitative\"}}, \"height\": 250, \"width\": 400, \"$schema\": \"https://vega.github.io/schema/vega-lite/v4.17.0.json\", \"datasets\": {\"data-d5eb78c166e1ff6bb8ab7e48e1f54734\": [{\"Agency\": \"Santa Ana\", \"Number of Obligations\": 101, \"variable\": \"primary_agency_name\"}, {\"Agency\": \"Orange County Transportation Authority\", \"Number of Obligations\": 97, \"variable\": \"primary_agency_name\"}, {\"Agency\": \"Orange\", \"Number of Obligations\": 64, \"variable\": \"primary_agency_name\"}, {\"Agency\": \"Huntington Beach\", \"Number of Obligations\": 62, \"variable\": \"primary_agency_name\"}, {\"Agency\": \"Orange County\", \"Number of Obligations\": 49, \"variable\": \"primary_agency_name\"}, {\"Agency\": \"Costa Mesa\", \"Number of Obligations\": 45, \"variable\": \"primary_agency_name\"}, {\"Agency\": \"Anaheim\", \"Number of Obligations\": 42, \"variable\": \"primary_agency_name\"}, {\"Agency\": \"Garden Grove\", \"Number of Obligations\": 34, \"variable\": \"primary_agency_name\"}, {\"Agency\": \"Irvine\", \"Number of Obligations\": 20, \"variable\": \"primary_agency_name\"}, {\"Agency\": \"Fullerton\", \"Number of Obligations\": 17, \"variable\": \"primary_agency_name\"}, {\"Agency\": \"Brea\", \"Number of Obligations\": 16, \"variable\": \"primary_agency_name\"}, {\"Agency\": \"Westminster\", \"Number of Obligations\": 16, \"variable\": \"primary_agency_name\"}, {\"Agency\": \"Caltrans\", \"Number of Obligations\": 15, \"variable\": \"primary_agency_name\"}, {\"Agency\": \"Mission Viejo\", \"Number of Obligations\": 15, \"variable\": \"primary_agency_name\"}, {\"Agency\": \"Newport Beach\", \"Number of Obligations\": 13, \"variable\": \"primary_agency_name\"}, {\"Agency\": \"Rancho Santa Margarita\", \"Number of Obligations\": 11, \"variable\": \"primary_agency_name\"}, {\"Agency\": \"La Habra\", \"Number of Obligations\": 10, \"variable\": \"primary_agency_name\"}, {\"Agency\": \"Placentia\", \"Number of Obligations\": 10, \"variable\": \"primary_agency_name\"}, {\"Agency\": \"San Juan Capistrano\", \"Number of Obligations\": 9, \"variable\": \"primary_agency_name\"}, {\"Agency\": \"Seal Beach\", \"Number of Obligations\": 9, \"variable\": \"primary_agency_name\"}]}}, {\"mode\": \"vega-lite\"});\n",
       "</script>"
      ],
      "text/plain": [
       "alt.Chart(...)"
      ]
     },
     "metadata": {},
     "output_type": "display_data"
    }
   ],
   "source": [
    "#Bar chart Agencies With The Most Obligations\n",
    "chart_df = (df_top>>filter(_.variable=='primary_agency_name')).rename(columns={\"value\":\"Agency\",\n",
    "                                 \"count\":\"Number of Obligations\"})\n",
    "chart2 = (_dla_utils_reports.basic_bar_chart_no_save(chart_df, 'Agency', 'Number of Obligations', 'Agency', district))\n",
    "    \n",
    "\n",
    "display(chart2)\n"
   ]
  },
  {
   "cell_type": "markdown",
   "id": "5a3bed5f-4325-47af-9cc7-683f9872817f",
   "metadata": {
    "papermill": {
     "duration": 0.009817,
     "end_time": "2022-05-18T18:01:08.317749",
     "exception": false,
     "start_time": "2022-05-18T18:01:08.307932",
     "status": "completed"
    },
    "tags": []
   },
   "source": [
    "## Prefix Codes"
   ]
  },
  {
   "cell_type": "markdown",
   "id": "cfded756-3c93-4089-be41-68e19d28b304",
   "metadata": {
    "papermill": {
     "duration": 0.008929,
     "end_time": "2022-05-18T18:01:08.338183",
     "exception": false,
     "start_time": "2022-05-18T18:01:08.329254",
     "status": "completed"
    },
    "tags": []
   },
   "source": [
    "Prefix Codes refer to the program an obligation is in. Similar to the number of obligations, calcuating the unique prefix codes provides insight to how many progams DLA is involved in each year as well as workload at the district and organization level.\n",
    "\n",
    "Metrics: \n",
    "* Number of Unique Prefix Codes by Districts\n",
    "* Most Used Prefix Codes\n",
    "* Agencies With The Most Unique Prefix Codes"
   ]
  },
  {
   "cell_type": "markdown",
   "id": "f8cb2832-947d-4631-9b4c-c81fb118cab3",
   "metadata": {
    "papermill": {
     "duration": 0.008621,
     "end_time": "2022-05-18T18:01:08.357290",
     "exception": false,
     "start_time": "2022-05-18T18:01:08.348669",
     "status": "completed"
    },
    "tags": []
   },
   "source": [
    "### Number of Unique Prefix Codes by District"
   ]
  },
  {
   "cell_type": "code",
   "execution_count": 10,
   "id": "f661bd63-f8aa-4048-b035-03d5bf1b7e95",
   "metadata": {
    "execution": {
     "iopub.execute_input": "2022-05-18T18:01:08.377464Z",
     "iopub.status.busy": "2022-05-18T18:01:08.377260Z",
     "iopub.status.idle": "2022-05-18T18:01:08.469785Z",
     "shell.execute_reply": "2022-05-18T18:01:08.469287Z"
    },
    "jupyter": {
     "source_hidden": true
    },
    "papermill": {
     "duration": 0.103511,
     "end_time": "2022-05-18T18:01:08.471717",
     "exception": false,
     "start_time": "2022-05-18T18:01:08.368206",
     "status": "completed"
    },
    "tags": [
     "remove_input"
    ]
   },
   "outputs": [
    {
     "data": {
      "text/html": [
       "\n",
       "<div id=\"altair-viz-69f5e09ab0e14ead9f53287f009e762f\"></div>\n",
       "<script type=\"text/javascript\">\n",
       "  var VEGA_DEBUG = (typeof VEGA_DEBUG == \"undefined\") ? {} : VEGA_DEBUG;\n",
       "  (function(spec, embedOpt){\n",
       "    let outputDiv = document.currentScript.previousElementSibling;\n",
       "    if (outputDiv.id !== \"altair-viz-69f5e09ab0e14ead9f53287f009e762f\") {\n",
       "      outputDiv = document.getElementById(\"altair-viz-69f5e09ab0e14ead9f53287f009e762f\");\n",
       "    }\n",
       "    const paths = {\n",
       "      \"vega\": \"https://cdn.jsdelivr.net/npm//vega@5?noext\",\n",
       "      \"vega-lib\": \"https://cdn.jsdelivr.net/npm//vega-lib?noext\",\n",
       "      \"vega-lite\": \"https://cdn.jsdelivr.net/npm//vega-lite@4.17.0?noext\",\n",
       "      \"vega-embed\": \"https://cdn.jsdelivr.net/npm//vega-embed@6?noext\",\n",
       "    };\n",
       "\n",
       "    function maybeLoadScript(lib, version) {\n",
       "      var key = `${lib.replace(\"-\", \"\")}_version`;\n",
       "      return (VEGA_DEBUG[key] == version) ?\n",
       "        Promise.resolve(paths[lib]) :\n",
       "        new Promise(function(resolve, reject) {\n",
       "          var s = document.createElement('script');\n",
       "          document.getElementsByTagName(\"head\")[0].appendChild(s);\n",
       "          s.async = true;\n",
       "          s.onload = () => {\n",
       "            VEGA_DEBUG[key] = version;\n",
       "            return resolve(paths[lib]);\n",
       "          };\n",
       "          s.onerror = () => reject(`Error loading script: ${paths[lib]}`);\n",
       "          s.src = paths[lib];\n",
       "        });\n",
       "    }\n",
       "\n",
       "    function showError(err) {\n",
       "      outputDiv.innerHTML = `<div class=\"error\" style=\"color:red;\">${err}</div>`;\n",
       "      throw err;\n",
       "    }\n",
       "\n",
       "    function displayChart(vegaEmbed) {\n",
       "      vegaEmbed(outputDiv, spec, embedOpt)\n",
       "        .catch(err => showError(`Javascript Error: ${err.message}<br>This usually means there's a typo in your chart specification. See the javascript console for the full traceback.`));\n",
       "    }\n",
       "\n",
       "    if(typeof define === \"function\" && define.amd) {\n",
       "      requirejs.config({paths});\n",
       "      require([\"vega-embed\"], displayChart, err => showError(`Error loading script: ${err.message}`));\n",
       "    } else {\n",
       "      maybeLoadScript(\"vega\", \"5\")\n",
       "        .then(() => maybeLoadScript(\"vega-lite\", \"4.17.0\"))\n",
       "        .then(() => maybeLoadScript(\"vega-embed\", \"6\"))\n",
       "        .catch(showError)\n",
       "        .then(() => displayChart(vegaEmbed));\n",
       "    }\n",
       "  })({\"config\": {\"view\": {\"continuousWidth\": 400, \"continuousHeight\": 300}, \"axis\": {\"domainColor\": \"#cbcbcb\", \"grid\": true, \"gridColor\": \"#cbcbcb\", \"gridWidth\": 1, \"labelColor\": \"#474747\", \"labelFont\": \"Nunito Sans\", \"labelFontSize\": 10, \"labelPadding\": 4, \"tickColor\": \"#cbcbcb\", \"tickSize\": 10, \"titleColor\": \"#333\", \"titleFont\": \"Raleway\", \"titleFontSize\": 12, \"titlePadding\": 10}, \"axisBand\": {\"grid\": false}, \"background\": \"white\", \"font\": \"Raleway\", \"header\": {\"labelFont\": \"Nunito Sans\", \"titleFont\": \"Raleway\"}, \"legend\": {\"labelColor\": \"#333\", \"labelFont\": \"Nunito Sans\", \"labelFontSize\": 11, \"labelLimit\": 0, \"padding\": 1, \"symbolSize\": 30, \"symbolType\": \"square\", \"titleColor\": \"#333\", \"titleFont\": \"Raleway\", \"titleFontSize\": 14, \"titlePadding\": 10}, \"title\": {\"anchor\": \"middle\", \"font\": \"Raleway\", \"fontSize\": 18, \"fontWeight\": 300, \"offset\": 20}}, \"data\": {\"name\": \"data-06d30f80c06890246325ec5bec2918a3\"}, \"mark\": \"bar\", \"encoding\": {\"color\": {\"field\": \"District\", \"legend\": {\"title\": \"District\"}, \"scale\": {\"range\": [\"#B9D6DF\", \"#8CBCCB\", \"#2EA8CE\", \"#136C97\", \"#0B405B\"]}, \"type\": \"nominal\"}, \"column\": {\"field\": \"District\", \"type\": \"nominal\"}, \"tooltip\": [{\"field\": \"prepared_y\", \"type\": \"quantitative\"}, {\"field\": \"Count\", \"type\": \"quantitative\"}], \"x\": {\"field\": \"prepared_y\", \"title\": \"Prepared Year\", \"type\": \"ordinal\"}, \"y\": {\"field\": \"Count\", \"title\": \"Number of Unique Agencies\", \"type\": \"quantitative\"}}, \"height\": 250, \"width\": 400, \"$schema\": \"https://vega.github.io/schema/vega-lite/v4.17.0.json\", \"datasets\": {\"data-06d30f80c06890246325ec5bec2918a3\": [{\"prepared_y\": 2022.0, \"District\": 12, \"Count\": 9}, {\"prepared_y\": 2021.0, \"District\": 12, \"Count\": 19}, {\"prepared_y\": 2020.0, \"District\": 12, \"Count\": 19}, {\"prepared_y\": 2019.0, \"District\": 12, \"Count\": 18}, {\"prepared_y\": 2018.0, \"District\": 12, \"Count\": 19}, {\"prepared_y\": 2017.0, \"District\": 12, \"Count\": 15}, {\"prepared_y\": 2016.0, \"District\": 12, \"Count\": 16}, {\"prepared_y\": 2015.0, \"District\": 12, \"Count\": 16}, {\"prepared_y\": 2014.0, \"District\": 12, \"Count\": 17}, {\"prepared_y\": 2013.0, \"District\": 12, \"Count\": 9}]}}, {\"mode\": \"vega-lite\"});\n",
       "</script>"
      ],
      "text/plain": [
       "alt.Chart(...)"
      ]
     },
     "metadata": {},
     "output_type": "display_data"
    }
   ],
   "source": [
    "#Unique Prefixes by Dist\n",
    "dist_years_prefix = ((\n",
    "        df\n",
    "        >> group_by(_.prepared_y, _.dist)\n",
    "        >> summarize(n=_.prefix.nunique())\n",
    "        >> arrange(-_.prepared_y)\n",
    "    ).rename(columns={'dist':'District', 'n':'Count'}))\n",
    "\n",
    "chart11 = (alt.Chart(dist_years_prefix).mark_bar().encode(\n",
    "        column='District:N',\n",
    "        x=alt.X('prepared_y:O', title='Prepared Year'),\n",
    "        y=alt.Y('Count:Q', title='Number of Unique Agencies'),\n",
    "        color = alt.Color(\"District:N\", \n",
    "                              scale=alt.Scale(\n",
    "                                  range=altair_utils.CALITP_SEQUENTIAL_COLORS),  \n",
    "                               legend=alt.Legend(title=\"District\")\n",
    "                              )\n",
    "                              ))\n",
    "chart11 = styleguide.preset_chart_config(chart11)\n",
    "chart11 = _dla_utils_reports.add_tooltip(chart11, 'prepared_y','Count')\n",
    "    \n",
    "\n",
    "display(chart11)"
   ]
  },
  {
   "cell_type": "markdown",
   "id": "c52b3650-9c49-4ab9-a72d-52ecf36d4b7a",
   "metadata": {
    "papermill": {
     "duration": 0.008346,
     "end_time": "2022-05-18T18:01:08.489008",
     "exception": false,
     "start_time": "2022-05-18T18:01:08.480662",
     "status": "completed"
    },
    "tags": []
   },
   "source": [
    "## Most Used Prefix Codes"
   ]
  },
  {
   "cell_type": "code",
   "execution_count": 11,
   "id": "0aca2d9a-062a-4c12-9489-5f9de10f3462",
   "metadata": {
    "execution": {
     "iopub.execute_input": "2022-05-18T18:01:08.511492Z",
     "iopub.status.busy": "2022-05-18T18:01:08.511027Z",
     "iopub.status.idle": "2022-05-18T18:01:08.589021Z",
     "shell.execute_reply": "2022-05-18T18:01:08.588048Z"
    },
    "jupyter": {
     "source_hidden": true
    },
    "papermill": {
     "duration": 0.092032,
     "end_time": "2022-05-18T18:01:08.590892",
     "exception": false,
     "start_time": "2022-05-18T18:01:08.498860",
     "status": "completed"
    },
    "tags": [
     "remove_input"
    ]
   },
   "outputs": [
    {
     "data": {
      "text/html": [
       "\n",
       "<div id=\"altair-viz-eca6b098ef2e45088227bc461e8ec7e4\"></div>\n",
       "<script type=\"text/javascript\">\n",
       "  var VEGA_DEBUG = (typeof VEGA_DEBUG == \"undefined\") ? {} : VEGA_DEBUG;\n",
       "  (function(spec, embedOpt){\n",
       "    let outputDiv = document.currentScript.previousElementSibling;\n",
       "    if (outputDiv.id !== \"altair-viz-eca6b098ef2e45088227bc461e8ec7e4\") {\n",
       "      outputDiv = document.getElementById(\"altair-viz-eca6b098ef2e45088227bc461e8ec7e4\");\n",
       "    }\n",
       "    const paths = {\n",
       "      \"vega\": \"https://cdn.jsdelivr.net/npm//vega@5?noext\",\n",
       "      \"vega-lib\": \"https://cdn.jsdelivr.net/npm//vega-lib?noext\",\n",
       "      \"vega-lite\": \"https://cdn.jsdelivr.net/npm//vega-lite@4.17.0?noext\",\n",
       "      \"vega-embed\": \"https://cdn.jsdelivr.net/npm//vega-embed@6?noext\",\n",
       "    };\n",
       "\n",
       "    function maybeLoadScript(lib, version) {\n",
       "      var key = `${lib.replace(\"-\", \"\")}_version`;\n",
       "      return (VEGA_DEBUG[key] == version) ?\n",
       "        Promise.resolve(paths[lib]) :\n",
       "        new Promise(function(resolve, reject) {\n",
       "          var s = document.createElement('script');\n",
       "          document.getElementsByTagName(\"head\")[0].appendChild(s);\n",
       "          s.async = true;\n",
       "          s.onload = () => {\n",
       "            VEGA_DEBUG[key] = version;\n",
       "            return resolve(paths[lib]);\n",
       "          };\n",
       "          s.onerror = () => reject(`Error loading script: ${paths[lib]}`);\n",
       "          s.src = paths[lib];\n",
       "        });\n",
       "    }\n",
       "\n",
       "    function showError(err) {\n",
       "      outputDiv.innerHTML = `<div class=\"error\" style=\"color:red;\">${err}</div>`;\n",
       "      throw err;\n",
       "    }\n",
       "\n",
       "    function displayChart(vegaEmbed) {\n",
       "      vegaEmbed(outputDiv, spec, embedOpt)\n",
       "        .catch(err => showError(`Javascript Error: ${err.message}<br>This usually means there's a typo in your chart specification. See the javascript console for the full traceback.`));\n",
       "    }\n",
       "\n",
       "    if(typeof define === \"function\" && define.amd) {\n",
       "      requirejs.config({paths});\n",
       "      require([\"vega-embed\"], displayChart, err => showError(`Error loading script: ${err.message}`));\n",
       "    } else {\n",
       "      maybeLoadScript(\"vega\", \"5\")\n",
       "        .then(() => maybeLoadScript(\"vega-lite\", \"4.17.0\"))\n",
       "        .then(() => maybeLoadScript(\"vega-embed\", \"6\"))\n",
       "        .catch(showError)\n",
       "        .then(() => displayChart(vegaEmbed));\n",
       "    }\n",
       "  })({\"config\": {\"view\": {\"continuousWidth\": 400, \"continuousHeight\": 300}, \"axis\": {\"domainColor\": \"#cbcbcb\", \"grid\": true, \"gridColor\": \"#cbcbcb\", \"gridWidth\": 1, \"labelColor\": \"#474747\", \"labelFont\": \"Nunito Sans\", \"labelFontSize\": 10, \"labelPadding\": 4, \"tickColor\": \"#cbcbcb\", \"tickSize\": 10, \"titleColor\": \"#333\", \"titleFont\": \"Raleway\", \"titleFontSize\": 12, \"titlePadding\": 10}, \"axisBand\": {\"grid\": false}, \"background\": \"white\", \"font\": \"Raleway\", \"header\": {\"labelFont\": \"Nunito Sans\", \"titleFont\": \"Raleway\"}, \"legend\": {\"labelColor\": \"#333\", \"labelFont\": \"Nunito Sans\", \"labelFontSize\": 11, \"labelLimit\": 0, \"padding\": 1, \"symbolSize\": 30, \"symbolType\": \"square\", \"titleColor\": \"#333\", \"titleFont\": \"Raleway\", \"titleFontSize\": 14, \"titlePadding\": 10}, \"title\": {\"anchor\": \"middle\", \"font\": \"Raleway\", \"fontSize\": 18, \"fontWeight\": 300, \"offset\": 20}}, \"data\": {\"name\": \"data-ad3891bf0808a819f8dde828278fcf55\"}, \"mark\": \"bar\", \"encoding\": {\"color\": {\"field\": \"Prefix\", \"legend\": {\"symbolLimit\": 10, \"title\": \"Prefix\"}, \"scale\": {\"range\": [\"#2EA8CE\", \"#EB9F3C\", \"#F4D837\", \"#51BF9D\", \"#8CBCCB\", \"#9487C0\"]}, \"type\": \"nominal\"}, \"tooltip\": [{\"field\": \"Prefix\", \"type\": \"nominal\"}, {\"field\": \"Number of Obligations\", \"type\": \"quantitative\"}], \"x\": {\"field\": \"Prefix\", \"sort\": \"-y\", \"title\": \"Prefix\", \"type\": \"nominal\"}, \"y\": {\"field\": \"Number of Obligations\", \"title\": \"Number Of Obligations\", \"type\": \"quantitative\"}}, \"height\": 250, \"width\": 400, \"$schema\": \"https://vega.github.io/schema/vega-lite/v4.17.0.json\", \"datasets\": {\"data-ad3891bf0808a819f8dde828278fcf55\": [{\"Prefix\": \"HSIPL\", \"Number of Obligations\": 245, \"variable\": \"prefix\"}, {\"Prefix\": \"STPL\", \"Number of Obligations\": 100, \"variable\": \"prefix\"}, {\"Prefix\": \"CML\", \"Number of Obligations\": 77, \"variable\": \"prefix\"}, {\"Prefix\": \"STPLN\", \"Number of Obligations\": 38, \"variable\": \"prefix\"}, {\"Prefix\": \"BPMPL\", \"Number of Obligations\": 29, \"variable\": \"prefix\"}, {\"Prefix\": \"CMLN\", \"Number of Obligations\": 27, \"variable\": \"prefix\"}, {\"Prefix\": \"FTACML\", \"Number of Obligations\": 24, \"variable\": \"prefix\"}, {\"Prefix\": \"RPSTPL\", \"Number of Obligations\": 24, \"variable\": \"prefix\"}, {\"Prefix\": \"SRTSL\", \"Number of Obligations\": 21, \"variable\": \"prefix\"}, {\"Prefix\": \"ATPL\", \"Number of Obligations\": 17, \"variable\": \"prefix\"}, {\"Prefix\": \"BRLS\", \"Number of Obligations\": 12, \"variable\": \"prefix\"}, {\"Prefix\": \"BRLO\", \"Number of Obligations\": 11, \"variable\": \"prefix\"}, {\"Prefix\": \"ATPCML\", \"Number of Obligations\": 6, \"variable\": \"prefix\"}, {\"Prefix\": \"CMHPLULN\", \"Number of Obligations\": 6, \"variable\": \"prefix\"}, {\"Prefix\": \"CMSTPLN\", \"Number of Obligations\": 5, \"variable\": \"prefix\"}, {\"Prefix\": \"HP21L\", \"Number of Obligations\": 5, \"variable\": \"prefix\"}, {\"Prefix\": \"HRRRL\", \"Number of Obligations\": 5, \"variable\": \"prefix\"}, {\"Prefix\": \"ATPSB1L\", \"Number of Obligations\": 4, \"variable\": \"prefix\"}, {\"Prefix\": \"PNRSCML\", \"Number of Obligations\": 4, \"variable\": \"prefix\"}, {\"Prefix\": \"SRTSLNI\", \"Number of Obligations\": 4, \"variable\": \"prefix\"}]}}, {\"mode\": \"vega-lite\"});\n",
       "</script>"
      ],
      "text/plain": [
       "alt.Chart(...)"
      ]
     },
     "metadata": {},
     "output_type": "display_data"
    }
   ],
   "source": [
    "#Bar chart with the Most Used Prefix Counts\n",
    "chart_df = (df_top>>filter(_.variable=='prefix')).rename(columns={\"value\":\"Prefix\",\n",
    "                                 \"count\":\"Number of Obligations\"})\n",
    "chart9= (_dla_utils_reports.basic_bar_chart_no_save(chart_df, 'Prefix', 'Number of Obligations', 'Prefix', district))\n",
    "    \n",
    "\n",
    "display(chart9)\n",
    "    "
   ]
  },
  {
   "cell_type": "markdown",
   "id": "46030e63-c1ae-4834-b538-b09937074207",
   "metadata": {
    "papermill": {
     "duration": 0.011381,
     "end_time": "2022-05-18T18:01:08.611987",
     "exception": false,
     "start_time": "2022-05-18T18:01:08.600606",
     "status": "completed"
    },
    "tags": []
   },
   "source": [
    "## Agencies With The Most Unique Prefix Codes"
   ]
  },
  {
   "cell_type": "code",
   "execution_count": 12,
   "id": "3d21c9b2-833b-463a-9a03-a9c83d727d2e",
   "metadata": {
    "execution": {
     "iopub.execute_input": "2022-05-18T18:01:08.635533Z",
     "iopub.status.busy": "2022-05-18T18:01:08.635066Z",
     "iopub.status.idle": "2022-05-18T18:01:08.734015Z",
     "shell.execute_reply": "2022-05-18T18:01:08.733572Z"
    },
    "jupyter": {
     "source_hidden": true
    },
    "papermill": {
     "duration": 0.111503,
     "end_time": "2022-05-18T18:01:08.735807",
     "exception": false,
     "start_time": "2022-05-18T18:01:08.624304",
     "status": "completed"
    },
    "tags": [
     "remove_input"
    ]
   },
   "outputs": [
    {
     "data": {
      "text/html": [
       "\n",
       "<div id=\"altair-viz-27cb1908468f47c3a1656acbf90a1bbb\"></div>\n",
       "<script type=\"text/javascript\">\n",
       "  var VEGA_DEBUG = (typeof VEGA_DEBUG == \"undefined\") ? {} : VEGA_DEBUG;\n",
       "  (function(spec, embedOpt){\n",
       "    let outputDiv = document.currentScript.previousElementSibling;\n",
       "    if (outputDiv.id !== \"altair-viz-27cb1908468f47c3a1656acbf90a1bbb\") {\n",
       "      outputDiv = document.getElementById(\"altair-viz-27cb1908468f47c3a1656acbf90a1bbb\");\n",
       "    }\n",
       "    const paths = {\n",
       "      \"vega\": \"https://cdn.jsdelivr.net/npm//vega@5?noext\",\n",
       "      \"vega-lib\": \"https://cdn.jsdelivr.net/npm//vega-lib?noext\",\n",
       "      \"vega-lite\": \"https://cdn.jsdelivr.net/npm//vega-lite@4.17.0?noext\",\n",
       "      \"vega-embed\": \"https://cdn.jsdelivr.net/npm//vega-embed@6?noext\",\n",
       "    };\n",
       "\n",
       "    function maybeLoadScript(lib, version) {\n",
       "      var key = `${lib.replace(\"-\", \"\")}_version`;\n",
       "      return (VEGA_DEBUG[key] == version) ?\n",
       "        Promise.resolve(paths[lib]) :\n",
       "        new Promise(function(resolve, reject) {\n",
       "          var s = document.createElement('script');\n",
       "          document.getElementsByTagName(\"head\")[0].appendChild(s);\n",
       "          s.async = true;\n",
       "          s.onload = () => {\n",
       "            VEGA_DEBUG[key] = version;\n",
       "            return resolve(paths[lib]);\n",
       "          };\n",
       "          s.onerror = () => reject(`Error loading script: ${paths[lib]}`);\n",
       "          s.src = paths[lib];\n",
       "        });\n",
       "    }\n",
       "\n",
       "    function showError(err) {\n",
       "      outputDiv.innerHTML = `<div class=\"error\" style=\"color:red;\">${err}</div>`;\n",
       "      throw err;\n",
       "    }\n",
       "\n",
       "    function displayChart(vegaEmbed) {\n",
       "      vegaEmbed(outputDiv, spec, embedOpt)\n",
       "        .catch(err => showError(`Javascript Error: ${err.message}<br>This usually means there's a typo in your chart specification. See the javascript console for the full traceback.`));\n",
       "    }\n",
       "\n",
       "    if(typeof define === \"function\" && define.amd) {\n",
       "      requirejs.config({paths});\n",
       "      require([\"vega-embed\"], displayChart, err => showError(`Error loading script: ${err.message}`));\n",
       "    } else {\n",
       "      maybeLoadScript(\"vega\", \"5\")\n",
       "        .then(() => maybeLoadScript(\"vega-lite\", \"4.17.0\"))\n",
       "        .then(() => maybeLoadScript(\"vega-embed\", \"6\"))\n",
       "        .catch(showError)\n",
       "        .then(() => displayChart(vegaEmbed));\n",
       "    }\n",
       "  })({\"config\": {\"view\": {\"continuousWidth\": 400, \"continuousHeight\": 300}, \"axis\": {\"domainColor\": \"#cbcbcb\", \"grid\": true, \"gridColor\": \"#cbcbcb\", \"gridWidth\": 1, \"labelColor\": \"#474747\", \"labelFont\": \"Nunito Sans\", \"labelFontSize\": 10, \"labelPadding\": 4, \"tickColor\": \"#cbcbcb\", \"tickSize\": 10, \"titleColor\": \"#333\", \"titleFont\": \"Raleway\", \"titleFontSize\": 12, \"titlePadding\": 10}, \"axisBand\": {\"grid\": false}, \"background\": \"white\", \"font\": \"Raleway\", \"header\": {\"labelFont\": \"Nunito Sans\", \"titleFont\": \"Raleway\"}, \"legend\": {\"labelColor\": \"#333\", \"labelFont\": \"Nunito Sans\", \"labelFontSize\": 11, \"labelLimit\": 0, \"padding\": 1, \"symbolSize\": 30, \"symbolType\": \"square\", \"titleColor\": \"#333\", \"titleFont\": \"Raleway\", \"titleFontSize\": 14, \"titlePadding\": 10}, \"title\": {\"anchor\": \"middle\", \"font\": \"Raleway\", \"fontSize\": 18, \"fontWeight\": 300, \"offset\": 20}}, \"data\": {\"name\": \"data-d955e7d4a08ccea06e5763d360949937\"}, \"mark\": \"bar\", \"encoding\": {\"color\": {\"field\": \"primary_agency_name\", \"legend\": {\"symbolLimit\": 10, \"title\": \"Agency\"}, \"scale\": {\"range\": [\"#2EA8CE\", \"#EB9F3C\", \"#F4D837\", \"#51BF9D\", \"#8CBCCB\", \"#9487C0\"]}, \"type\": \"nominal\"}, \"tooltip\": [{\"field\": \"primary_agency_name\", \"type\": \"nominal\"}, {\"field\": \"n\", \"type\": \"quantitative\"}], \"x\": {\"field\": \"primary_agency_name\", \"sort\": \"-y\", \"title\": \"Agency\", \"type\": \"nominal\"}, \"y\": {\"field\": \"n\", \"title\": \"Count\", \"type\": \"quantitative\"}}, \"height\": 250, \"width\": 400, \"$schema\": \"https://vega.github.io/schema/vega-lite/v4.17.0.json\", \"datasets\": {\"data-d955e7d4a08ccea06e5763d360949937\": [{\"primary_agency_name\": \"Orange County Transportation Authority\", \"n\": 16}, {\"primary_agency_name\": \"Anaheim\", \"n\": 13}, {\"primary_agency_name\": \"Orange County\", \"n\": 11}, {\"primary_agency_name\": \"Santa Ana\", \"n\": 11}, {\"primary_agency_name\": \"Costa Mesa\", \"n\": 8}, {\"primary_agency_name\": \"Mission Viejo\", \"n\": 8}, {\"primary_agency_name\": \"Irvine\", \"n\": 7}, {\"primary_agency_name\": \"Brea\", \"n\": 6}, {\"primary_agency_name\": \"Garden Grove\", \"n\": 5}, {\"primary_agency_name\": \"Huntington Beach\", \"n\": 5}, {\"primary_agency_name\": \"Fullerton\", \"n\": 4}, {\"primary_agency_name\": \"Orange\", \"n\": 4}, {\"primary_agency_name\": \"Placentia\", \"n\": 4}, {\"primary_agency_name\": \"Newport Beach\", \"n\": 3}, {\"primary_agency_name\": \"Rancho Santa Margarita\", \"n\": 3}, {\"primary_agency_name\": \"San Juan Capistrano\", \"n\": 3}, {\"primary_agency_name\": \"Seal Beach\", \"n\": 3}, {\"primary_agency_name\": \"Westminster\", \"n\": 3}, {\"primary_agency_name\": \"Caltrans\", \"n\": 2}, {\"primary_agency_name\": \"Dana Point\", \"n\": 2}, {\"primary_agency_name\": \"Fountain Valley\", \"n\": 2}, {\"primary_agency_name\": \"La Habra\", \"n\": 2}, {\"primary_agency_name\": \"La Palma\", \"n\": 2}, {\"primary_agency_name\": \"Laguna Niguel\", \"n\": 2}, {\"primary_agency_name\": \"Morro Bay\", \"n\": 2}, {\"primary_agency_name\": \"San Clemente\", \"n\": 2}, {\"primary_agency_name\": \"Yorba Linda\", \"n\": 2}, {\"primary_agency_name\": \"Buena Park\", \"n\": 1}, {\"primary_agency_name\": \"Cypress\", \"n\": 1}, {\"primary_agency_name\": \"Foothill Eastern Transportation Corridor\", \"n\": 1}]}}, {\"mode\": \"vega-lite\"});\n",
       "</script>"
      ],
      "text/plain": [
       "alt.Chart(...)"
      ]
     },
     "metadata": {},
     "output_type": "display_data"
    }
   ],
   "source": [
    "#Bar chart Agencies With The Most Unique Prefix Codes\n",
    "    \n",
    "chart3 = (_dla_utils_reports.basic_bar_chart_no_save(((_dla_utils_reports.get_nunique(df, 'prefix', 'primary_agency_name')).head(30)),\n",
    "                            'primary_agency_name', 'n', 'primary_agency_name', district))\n",
    "    \n",
    "display(chart3)"
   ]
  },
  {
   "cell_type": "markdown",
   "id": "409d25d0-88ee-4eff-ae1f-ca9127618b4d",
   "metadata": {
    "papermill": {
     "duration": 0.009215,
     "end_time": "2022-05-18T18:01:08.754263",
     "exception": false,
     "start_time": "2022-05-18T18:01:08.745048",
     "status": "completed"
    },
    "tags": []
   },
   "source": [
    "## Funding Distribution"
   ]
  },
  {
   "cell_type": "markdown",
   "id": "eacca297-667a-4649-b6ac-351e81729e0d",
   "metadata": {
    "papermill": {
     "duration": 0.009309,
     "end_time": "2022-05-18T18:01:08.775526",
     "exception": false,
     "start_time": "2022-05-18T18:01:08.766217",
     "status": "completed"
    },
    "tags": []
   },
   "source": [
    "With each E-76, three types of funding amounts are included in the obligations: \n",
    "* Total Requested (`total_requested`)\n",
    "* Advance Construction Requested (`ac_requested`)\n",
    "* Federal Requested (`fed_requested`)\n",
    "\n",
    "Using this information, we can determine how much on average an organization recieves with these funds, and the distribution of the funds.\n",
    "\n",
    "\n",
    "Metrics:\n",
    "* Average Total Requested Funds by Agency\n",
    "* Lowest Average Total Funds by Agency\n",
    "* Average Total Requested Funds by Prefix"
   ]
  },
  {
   "cell_type": "markdown",
   "id": "d3caa5e9-9126-4572-8140-f81543c7d26a",
   "metadata": {
    "papermill": {
     "duration": 0.008792,
     "end_time": "2022-05-18T18:01:08.795362",
     "exception": false,
     "start_time": "2022-05-18T18:01:08.786570",
     "status": "completed"
    },
    "tags": []
   },
   "source": [
    "### Average Total Requested Funds by Agency ($2021)"
   ]
  },
  {
   "cell_type": "code",
   "execution_count": 13,
   "id": "3745ca4d-8dd4-4c09-b46b-a2f6db6358ad",
   "metadata": {
    "execution": {
     "iopub.execute_input": "2022-05-18T18:01:08.819152Z",
     "iopub.status.busy": "2022-05-18T18:01:08.818604Z",
     "iopub.status.idle": "2022-05-18T18:01:08.898287Z",
     "shell.execute_reply": "2022-05-18T18:01:08.897672Z"
    },
    "jupyter": {
     "source_hidden": true
    },
    "papermill": {
     "duration": 0.094038,
     "end_time": "2022-05-18T18:01:08.900313",
     "exception": false,
     "start_time": "2022-05-18T18:01:08.806275",
     "status": "completed"
    },
    "tags": [
     "remove_input"
    ]
   },
   "outputs": [
    {
     "data": {
      "text/html": [
       "\n",
       "<div id=\"altair-viz-cd6195cff87f41049c35ccd54137ced8\"></div>\n",
       "<script type=\"text/javascript\">\n",
       "  var VEGA_DEBUG = (typeof VEGA_DEBUG == \"undefined\") ? {} : VEGA_DEBUG;\n",
       "  (function(spec, embedOpt){\n",
       "    let outputDiv = document.currentScript.previousElementSibling;\n",
       "    if (outputDiv.id !== \"altair-viz-cd6195cff87f41049c35ccd54137ced8\") {\n",
       "      outputDiv = document.getElementById(\"altair-viz-cd6195cff87f41049c35ccd54137ced8\");\n",
       "    }\n",
       "    const paths = {\n",
       "      \"vega\": \"https://cdn.jsdelivr.net/npm//vega@5?noext\",\n",
       "      \"vega-lib\": \"https://cdn.jsdelivr.net/npm//vega-lib?noext\",\n",
       "      \"vega-lite\": \"https://cdn.jsdelivr.net/npm//vega-lite@4.17.0?noext\",\n",
       "      \"vega-embed\": \"https://cdn.jsdelivr.net/npm//vega-embed@6?noext\",\n",
       "    };\n",
       "\n",
       "    function maybeLoadScript(lib, version) {\n",
       "      var key = `${lib.replace(\"-\", \"\")}_version`;\n",
       "      return (VEGA_DEBUG[key] == version) ?\n",
       "        Promise.resolve(paths[lib]) :\n",
       "        new Promise(function(resolve, reject) {\n",
       "          var s = document.createElement('script');\n",
       "          document.getElementsByTagName(\"head\")[0].appendChild(s);\n",
       "          s.async = true;\n",
       "          s.onload = () => {\n",
       "            VEGA_DEBUG[key] = version;\n",
       "            return resolve(paths[lib]);\n",
       "          };\n",
       "          s.onerror = () => reject(`Error loading script: ${paths[lib]}`);\n",
       "          s.src = paths[lib];\n",
       "        });\n",
       "    }\n",
       "\n",
       "    function showError(err) {\n",
       "      outputDiv.innerHTML = `<div class=\"error\" style=\"color:red;\">${err}</div>`;\n",
       "      throw err;\n",
       "    }\n",
       "\n",
       "    function displayChart(vegaEmbed) {\n",
       "      vegaEmbed(outputDiv, spec, embedOpt)\n",
       "        .catch(err => showError(`Javascript Error: ${err.message}<br>This usually means there's a typo in your chart specification. See the javascript console for the full traceback.`));\n",
       "    }\n",
       "\n",
       "    if(typeof define === \"function\" && define.amd) {\n",
       "      requirejs.config({paths});\n",
       "      require([\"vega-embed\"], displayChart, err => showError(`Error loading script: ${err.message}`));\n",
       "    } else {\n",
       "      maybeLoadScript(\"vega\", \"5\")\n",
       "        .then(() => maybeLoadScript(\"vega-lite\", \"4.17.0\"))\n",
       "        .then(() => maybeLoadScript(\"vega-embed\", \"6\"))\n",
       "        .catch(showError)\n",
       "        .then(() => displayChart(vegaEmbed));\n",
       "    }\n",
       "  })({\"config\": {\"view\": {\"continuousWidth\": 400, \"continuousHeight\": 300}, \"axis\": {\"domainColor\": \"#cbcbcb\", \"grid\": true, \"gridColor\": \"#cbcbcb\", \"gridWidth\": 1, \"labelColor\": \"#474747\", \"labelFont\": \"Nunito Sans\", \"labelFontSize\": 10, \"labelPadding\": 4, \"tickColor\": \"#cbcbcb\", \"tickSize\": 10, \"titleColor\": \"#333\", \"titleFont\": \"Raleway\", \"titleFontSize\": 12, \"titlePadding\": 10}, \"axisBand\": {\"grid\": false}, \"background\": \"white\", \"font\": \"Raleway\", \"header\": {\"labelFont\": \"Nunito Sans\", \"titleFont\": \"Raleway\"}, \"legend\": {\"labelColor\": \"#333\", \"labelFont\": \"Nunito Sans\", \"labelFontSize\": 11, \"labelLimit\": 0, \"padding\": 1, \"symbolSize\": 30, \"symbolType\": \"square\", \"titleColor\": \"#333\", \"titleFont\": \"Raleway\", \"titleFontSize\": 14, \"titlePadding\": 10}, \"title\": {\"anchor\": \"middle\", \"font\": \"Raleway\", \"fontSize\": 18, \"fontWeight\": 300, \"offset\": 20}}, \"data\": {\"name\": \"data-41536bc5328ce99f09e60fb3df7c189d\"}, \"mark\": \"bar\", \"encoding\": {\"color\": {\"field\": \"primary_agency_name\", \"legend\": {\"symbolLimit\": 10, \"title\": \"Agency\"}, \"scale\": {\"range\": [\"#2EA8CE\", \"#EB9F3C\", \"#F4D837\", \"#51BF9D\", \"#8CBCCB\", \"#9487C0\"]}, \"type\": \"nominal\"}, \"tooltip\": [{\"field\": \"primary_agency_name\", \"type\": \"nominal\"}, {\"field\": \"adjusted_total_requested\", \"type\": \"quantitative\"}], \"x\": {\"field\": \"primary_agency_name\", \"sort\": \"-y\", \"title\": \"Agency\", \"type\": \"nominal\"}, \"y\": {\"field\": \"adjusted_total_requested\", \"title\": \"Adjusted Total Requested\", \"type\": \"quantitative\"}}, \"height\": 250, \"width\": 400, \"$schema\": \"https://vega.github.io/schema/vega-lite/v4.17.0.json\", \"datasets\": {\"data-41536bc5328ce99f09e60fb3df7c189d\": [{\"primary_agency_name\": \"Orange County Transportation Authority\", \"adjusted_total_requested\": 26658393.772875313}, {\"primary_agency_name\": \"Caltrans\", \"adjusted_total_requested\": 19768111.924718022}, {\"primary_agency_name\": \"Costa Mesa\", \"adjusted_total_requested\": 1746235.1809904533}, {\"primary_agency_name\": \"Newport Beach\", \"adjusted_total_requested\": 1599938.321387898}, {\"primary_agency_name\": \"Orange County\", \"adjusted_total_requested\": 1204606.3924900559}, {\"primary_agency_name\": \"Fountain Valley\", \"adjusted_total_requested\": 1176340.378581346}, {\"primary_agency_name\": \"Brea\", \"adjusted_total_requested\": 853811.7746790565}, {\"primary_agency_name\": \"Laguna Niguel\", \"adjusted_total_requested\": 826074.4561631999}, {\"primary_agency_name\": \"Mission Viejo\", \"adjusted_total_requested\": 803424.0576452378}, {\"primary_agency_name\": \"San Clemente\", \"adjusted_total_requested\": 746634.211428366}, {\"primary_agency_name\": \"Fullerton\", \"adjusted_total_requested\": 742820.1409104319}, {\"primary_agency_name\": \"Lake Forest\", \"adjusted_total_requested\": 627595.9909850052}, {\"primary_agency_name\": \"Laguna Hills\", \"adjusted_total_requested\": 603771.5388447774}, {\"primary_agency_name\": \"Garden Grove\", \"adjusted_total_requested\": 586376.7057929616}, {\"primary_agency_name\": \"Westminster\", \"adjusted_total_requested\": 522846.75771845237}, {\"primary_agency_name\": \"Rancho Santa Margarita\", \"adjusted_total_requested\": 505276.43256088195}, {\"primary_agency_name\": \"Yorba Linda\", \"adjusted_total_requested\": 488974.3578723982}, {\"primary_agency_name\": \"Anaheim\", \"adjusted_total_requested\": 449570.6537520144}, {\"primary_agency_name\": \"Placentia\", \"adjusted_total_requested\": 417700.5503008169}, {\"primary_agency_name\": \"Santa Ana\", \"adjusted_total_requested\": 404032.5870495242}, {\"primary_agency_name\": \"Dana Point\", \"adjusted_total_requested\": 382707.898018534}, {\"primary_agency_name\": \"Morro Bay\", \"adjusted_total_requested\": 302176.40541076235}, {\"primary_agency_name\": \"Seal Beach\", \"adjusted_total_requested\": 300659.5974879822}, {\"primary_agency_name\": \"La Palma\", \"adjusted_total_requested\": 299726.4895544477}, {\"primary_agency_name\": \"Huntington Beach\", \"adjusted_total_requested\": 268251.1999584866}, {\"primary_agency_name\": \"Villa Park\", \"adjusted_total_requested\": 259197.8521813857}, {\"primary_agency_name\": \"Cypress\", \"adjusted_total_requested\": 170405.95894062385}, {\"primary_agency_name\": \"Buena Park\", \"adjusted_total_requested\": 130570.13349238093}, {\"primary_agency_name\": \"Orange\", \"adjusted_total_requested\": 127900.32690500918}, {\"primary_agency_name\": \"La Habra\", \"adjusted_total_requested\": 118543.96423788727}]}}, {\"mode\": \"vega-lite\"});\n",
       "</script>"
      ],
      "text/plain": [
       "alt.Chart(...)"
      ]
     },
     "metadata": {},
     "output_type": "display_data"
    }
   ],
   "source": [
    "#Bar chart Average Total Requested Funds by Agency\n",
    "chart4=(_dla_utils_reports.basic_bar_chart_no_save((((_dla_utils_reports.calculate_data_all(df, 'adjusted_total_requested', 'primary_agency_name', aggfunc=\"mean\"))\n",
    "                          >>arrange(-_.adjusted_total_requested)).head(30)\n",
    "                        ), 'primary_agency_name','adjusted_total_requested', 'primary_agency_name', district\n",
    "                          \n",
    "                       ))\n",
    "    \n",
    "display(chart4)"
   ]
  },
  {
   "cell_type": "markdown",
   "id": "84702987-c63c-40c9-aad7-c2d8c1b8ee49",
   "metadata": {
    "papermill": {
     "duration": 0.009407,
     "end_time": "2022-05-18T18:01:08.919215",
     "exception": false,
     "start_time": "2022-05-18T18:01:08.909808",
     "status": "completed"
    },
    "tags": []
   },
   "source": [
    "### Lowest Average Total Funds by Agency ($2021)"
   ]
  },
  {
   "cell_type": "code",
   "execution_count": 14,
   "id": "ce18a74b-9908-40f8-84f1-806552936465",
   "metadata": {
    "execution": {
     "iopub.execute_input": "2022-05-18T18:01:08.942756Z",
     "iopub.status.busy": "2022-05-18T18:01:08.942293Z",
     "iopub.status.idle": "2022-05-18T18:01:09.036169Z",
     "shell.execute_reply": "2022-05-18T18:01:09.035639Z"
    },
    "jupyter": {
     "source_hidden": true
    },
    "papermill": {
     "duration": 0.1084,
     "end_time": "2022-05-18T18:01:09.038362",
     "exception": false,
     "start_time": "2022-05-18T18:01:08.929962",
     "status": "completed"
    },
    "tags": [
     "remove_input"
    ]
   },
   "outputs": [
    {
     "data": {
      "text/html": [
       "\n",
       "<div id=\"altair-viz-b6deb6ea29064bd0adffd405830f50f1\"></div>\n",
       "<script type=\"text/javascript\">\n",
       "  var VEGA_DEBUG = (typeof VEGA_DEBUG == \"undefined\") ? {} : VEGA_DEBUG;\n",
       "  (function(spec, embedOpt){\n",
       "    let outputDiv = document.currentScript.previousElementSibling;\n",
       "    if (outputDiv.id !== \"altair-viz-b6deb6ea29064bd0adffd405830f50f1\") {\n",
       "      outputDiv = document.getElementById(\"altair-viz-b6deb6ea29064bd0adffd405830f50f1\");\n",
       "    }\n",
       "    const paths = {\n",
       "      \"vega\": \"https://cdn.jsdelivr.net/npm//vega@5?noext\",\n",
       "      \"vega-lib\": \"https://cdn.jsdelivr.net/npm//vega-lib?noext\",\n",
       "      \"vega-lite\": \"https://cdn.jsdelivr.net/npm//vega-lite@4.17.0?noext\",\n",
       "      \"vega-embed\": \"https://cdn.jsdelivr.net/npm//vega-embed@6?noext\",\n",
       "    };\n",
       "\n",
       "    function maybeLoadScript(lib, version) {\n",
       "      var key = `${lib.replace(\"-\", \"\")}_version`;\n",
       "      return (VEGA_DEBUG[key] == version) ?\n",
       "        Promise.resolve(paths[lib]) :\n",
       "        new Promise(function(resolve, reject) {\n",
       "          var s = document.createElement('script');\n",
       "          document.getElementsByTagName(\"head\")[0].appendChild(s);\n",
       "          s.async = true;\n",
       "          s.onload = () => {\n",
       "            VEGA_DEBUG[key] = version;\n",
       "            return resolve(paths[lib]);\n",
       "          };\n",
       "          s.onerror = () => reject(`Error loading script: ${paths[lib]}`);\n",
       "          s.src = paths[lib];\n",
       "        });\n",
       "    }\n",
       "\n",
       "    function showError(err) {\n",
       "      outputDiv.innerHTML = `<div class=\"error\" style=\"color:red;\">${err}</div>`;\n",
       "      throw err;\n",
       "    }\n",
       "\n",
       "    function displayChart(vegaEmbed) {\n",
       "      vegaEmbed(outputDiv, spec, embedOpt)\n",
       "        .catch(err => showError(`Javascript Error: ${err.message}<br>This usually means there's a typo in your chart specification. See the javascript console for the full traceback.`));\n",
       "    }\n",
       "\n",
       "    if(typeof define === \"function\" && define.amd) {\n",
       "      requirejs.config({paths});\n",
       "      require([\"vega-embed\"], displayChart, err => showError(`Error loading script: ${err.message}`));\n",
       "    } else {\n",
       "      maybeLoadScript(\"vega\", \"5\")\n",
       "        .then(() => maybeLoadScript(\"vega-lite\", \"4.17.0\"))\n",
       "        .then(() => maybeLoadScript(\"vega-embed\", \"6\"))\n",
       "        .catch(showError)\n",
       "        .then(() => displayChart(vegaEmbed));\n",
       "    }\n",
       "  })({\"config\": {\"view\": {\"continuousWidth\": 400, \"continuousHeight\": 300}, \"axis\": {\"domainColor\": \"#cbcbcb\", \"grid\": true, \"gridColor\": \"#cbcbcb\", \"gridWidth\": 1, \"labelColor\": \"#474747\", \"labelFont\": \"Nunito Sans\", \"labelFontSize\": 10, \"labelPadding\": 4, \"tickColor\": \"#cbcbcb\", \"tickSize\": 10, \"titleColor\": \"#333\", \"titleFont\": \"Raleway\", \"titleFontSize\": 12, \"titlePadding\": 10}, \"axisBand\": {\"grid\": false}, \"background\": \"white\", \"font\": \"Raleway\", \"header\": {\"labelFont\": \"Nunito Sans\", \"titleFont\": \"Raleway\"}, \"legend\": {\"labelColor\": \"#333\", \"labelFont\": \"Nunito Sans\", \"labelFontSize\": 11, \"labelLimit\": 0, \"padding\": 1, \"symbolSize\": 30, \"symbolType\": \"square\", \"titleColor\": \"#333\", \"titleFont\": \"Raleway\", \"titleFontSize\": 14, \"titlePadding\": 10}, \"title\": {\"anchor\": \"middle\", \"font\": \"Raleway\", \"fontSize\": 18, \"fontWeight\": 300, \"offset\": 20}}, \"data\": {\"name\": \"data-7abbf3beb6fe7151399f6bcaac55c30c\"}, \"mark\": \"bar\", \"encoding\": {\"color\": {\"field\": \"primary_agency_name\", \"legend\": {\"symbolLimit\": 10, \"title\": \"Agency\"}, \"scale\": {\"range\": [\"#2EA8CE\", \"#EB9F3C\", \"#F4D837\", \"#51BF9D\", \"#8CBCCB\", \"#9487C0\"]}, \"type\": \"nominal\"}, \"tooltip\": [{\"field\": \"primary_agency_name\", \"type\": \"nominal\"}, {\"field\": \"avg_funds\", \"type\": \"quantitative\"}], \"x\": {\"field\": \"primary_agency_name\", \"sort\": \"-y\", \"title\": \"Agency\", \"type\": \"nominal\"}, \"y\": {\"field\": \"avg_funds\", \"title\": \"Avg Funds\", \"type\": \"quantitative\"}}, \"height\": 250, \"width\": 400, \"$schema\": \"https://vega.github.io/schema/vega-lite/v4.17.0.json\", \"datasets\": {\"data-7abbf3beb6fe7151399f6bcaac55c30c\": [{\"primary_agency_name\": \"Orange County Transportation Authority\", \"avg_funds\": 26658393.772875313}, {\"primary_agency_name\": \"Caltrans\", \"avg_funds\": 19768111.92471802}, {\"primary_agency_name\": \"Costa Mesa\", \"avg_funds\": 1746235.1809904536}, {\"primary_agency_name\": \"Newport Beach\", \"avg_funds\": 1599938.3213878982}, {\"primary_agency_name\": \"Orange County\", \"avg_funds\": 1204606.392490056}, {\"primary_agency_name\": \"Fountain Valley\", \"avg_funds\": 1176340.378581346}, {\"primary_agency_name\": \"Brea\", \"avg_funds\": 853811.7746790564}, {\"primary_agency_name\": \"Laguna Niguel\", \"avg_funds\": 826074.4561631999}, {\"primary_agency_name\": \"Mission Viejo\", \"avg_funds\": 803424.0576452379}, {\"primary_agency_name\": \"San Clemente\", \"avg_funds\": 746634.211428366}, {\"primary_agency_name\": \"Fullerton\", \"avg_funds\": 742820.1409104317}, {\"primary_agency_name\": \"Lake Forest\", \"avg_funds\": 627595.9909850052}, {\"primary_agency_name\": \"Laguna Hills\", \"avg_funds\": 603771.5388447774}, {\"primary_agency_name\": \"Garden Grove\", \"avg_funds\": 586376.7057929618}, {\"primary_agency_name\": \"Westminster\", \"avg_funds\": 522846.75771845237}, {\"primary_agency_name\": \"Rancho Santa Margarita\", \"avg_funds\": 505276.43256088195}, {\"primary_agency_name\": \"Yorba Linda\", \"avg_funds\": 488974.3578723982}, {\"primary_agency_name\": \"Anaheim\", \"avg_funds\": 449570.6537520144}, {\"primary_agency_name\": \"Placentia\", \"avg_funds\": 417700.5503008169}, {\"primary_agency_name\": \"Santa Ana\", \"avg_funds\": 404032.58704952424}, {\"primary_agency_name\": \"Dana Point\", \"avg_funds\": 382707.898018534}, {\"primary_agency_name\": \"Morro Bay\", \"avg_funds\": 302176.40541076235}, {\"primary_agency_name\": \"Seal Beach\", \"avg_funds\": 300659.59748798213}, {\"primary_agency_name\": \"La Palma\", \"avg_funds\": 299726.4895544477}, {\"primary_agency_name\": \"Huntington Beach\", \"avg_funds\": 268251.1999584866}, {\"primary_agency_name\": \"Villa Park\", \"avg_funds\": 259197.8521813857}, {\"primary_agency_name\": \"Cypress\", \"avg_funds\": 170405.95894062385}, {\"primary_agency_name\": \"Buena Park\", \"avg_funds\": 130570.13349238093}, {\"primary_agency_name\": \"Orange\", \"avg_funds\": 127900.32690500919}, {\"primary_agency_name\": \"La Habra\", \"avg_funds\": 118543.96423788725}, {\"primary_agency_name\": \"San Juan Capistrano\", \"avg_funds\": 86122.09838328866}, {\"primary_agency_name\": \"Laguna Woods\", \"avg_funds\": 0.0572303798126444}, {\"primary_agency_name\": \"Irvine\", \"avg_funds\": -6151.3478160545}, {\"primary_agency_name\": \"Laguna Beach\", \"avg_funds\": -20243.661577202147}, {\"primary_agency_name\": \"Foothill Eastern Transportation Corridor\", \"avg_funds\": -215531.51042302858}, {\"primary_agency_name\": \"Tustin\", \"avg_funds\": -451239.7244990742}]}}, {\"mode\": \"vega-lite\"});\n",
       "</script>"
      ],
      "text/plain": [
       "alt.Chart(...)"
      ]
     },
     "metadata": {},
     "output_type": "display_data"
    }
   ],
   "source": [
    "#Bar chart Bottom Average Total Requested Funds by Agency\n",
    "avg_funds_bottom = (df>>group_by(_.primary_agency_name)>>summarize(avg_funds=_.adjusted_total_requested.mean())>>arrange(-_.avg_funds)).tail(50)\n",
    "\n",
    "chart5=( _dla_utils_reports.basic_bar_chart_no_save((avg_funds_bottom.tail(40)), 'primary_agency_name','avg_funds', 'primary_agency_name', district))\n",
    "    \n",
    "display(chart5)"
   ]
  },
  {
   "cell_type": "markdown",
   "id": "32fb0fb4-2cd3-453d-8be1-cf99fb52f56f",
   "metadata": {
    "papermill": {
     "duration": 0.012902,
     "end_time": "2022-05-18T18:01:09.060582",
     "exception": false,
     "start_time": "2022-05-18T18:01:09.047680",
     "status": "completed"
    },
    "tags": []
   },
   "source": [
    "### Average Total Requested Funds by Prefix ($2021)"
   ]
  },
  {
   "cell_type": "code",
   "execution_count": 15,
   "id": "d18938e5-6fc5-4e53-87b2-7140df57e5a0",
   "metadata": {
    "execution": {
     "iopub.execute_input": "2022-05-18T18:01:09.086862Z",
     "iopub.status.busy": "2022-05-18T18:01:09.086576Z",
     "iopub.status.idle": "2022-05-18T18:01:09.167345Z",
     "shell.execute_reply": "2022-05-18T18:01:09.166868Z"
    },
    "jupyter": {
     "source_hidden": true
    },
    "papermill": {
     "duration": 0.096601,
     "end_time": "2022-05-18T18:01:09.169274",
     "exception": false,
     "start_time": "2022-05-18T18:01:09.072673",
     "status": "completed"
    },
    "tags": [
     "remove_input"
    ]
   },
   "outputs": [
    {
     "data": {
      "text/html": [
       "\n",
       "<div id=\"altair-viz-c35d8aa87df140a79947cf5938ac38c7\"></div>\n",
       "<script type=\"text/javascript\">\n",
       "  var VEGA_DEBUG = (typeof VEGA_DEBUG == \"undefined\") ? {} : VEGA_DEBUG;\n",
       "  (function(spec, embedOpt){\n",
       "    let outputDiv = document.currentScript.previousElementSibling;\n",
       "    if (outputDiv.id !== \"altair-viz-c35d8aa87df140a79947cf5938ac38c7\") {\n",
       "      outputDiv = document.getElementById(\"altair-viz-c35d8aa87df140a79947cf5938ac38c7\");\n",
       "    }\n",
       "    const paths = {\n",
       "      \"vega\": \"https://cdn.jsdelivr.net/npm//vega@5?noext\",\n",
       "      \"vega-lib\": \"https://cdn.jsdelivr.net/npm//vega-lib?noext\",\n",
       "      \"vega-lite\": \"https://cdn.jsdelivr.net/npm//vega-lite@4.17.0?noext\",\n",
       "      \"vega-embed\": \"https://cdn.jsdelivr.net/npm//vega-embed@6?noext\",\n",
       "    };\n",
       "\n",
       "    function maybeLoadScript(lib, version) {\n",
       "      var key = `${lib.replace(\"-\", \"\")}_version`;\n",
       "      return (VEGA_DEBUG[key] == version) ?\n",
       "        Promise.resolve(paths[lib]) :\n",
       "        new Promise(function(resolve, reject) {\n",
       "          var s = document.createElement('script');\n",
       "          document.getElementsByTagName(\"head\")[0].appendChild(s);\n",
       "          s.async = true;\n",
       "          s.onload = () => {\n",
       "            VEGA_DEBUG[key] = version;\n",
       "            return resolve(paths[lib]);\n",
       "          };\n",
       "          s.onerror = () => reject(`Error loading script: ${paths[lib]}`);\n",
       "          s.src = paths[lib];\n",
       "        });\n",
       "    }\n",
       "\n",
       "    function showError(err) {\n",
       "      outputDiv.innerHTML = `<div class=\"error\" style=\"color:red;\">${err}</div>`;\n",
       "      throw err;\n",
       "    }\n",
       "\n",
       "    function displayChart(vegaEmbed) {\n",
       "      vegaEmbed(outputDiv, spec, embedOpt)\n",
       "        .catch(err => showError(`Javascript Error: ${err.message}<br>This usually means there's a typo in your chart specification. See the javascript console for the full traceback.`));\n",
       "    }\n",
       "\n",
       "    if(typeof define === \"function\" && define.amd) {\n",
       "      requirejs.config({paths});\n",
       "      require([\"vega-embed\"], displayChart, err => showError(`Error loading script: ${err.message}`));\n",
       "    } else {\n",
       "      maybeLoadScript(\"vega\", \"5\")\n",
       "        .then(() => maybeLoadScript(\"vega-lite\", \"4.17.0\"))\n",
       "        .then(() => maybeLoadScript(\"vega-embed\", \"6\"))\n",
       "        .catch(showError)\n",
       "        .then(() => displayChart(vegaEmbed));\n",
       "    }\n",
       "  })({\"config\": {\"view\": {\"continuousWidth\": 400, \"continuousHeight\": 300}, \"axis\": {\"domainColor\": \"#cbcbcb\", \"grid\": true, \"gridColor\": \"#cbcbcb\", \"gridWidth\": 1, \"labelColor\": \"#474747\", \"labelFont\": \"Nunito Sans\", \"labelFontSize\": 10, \"labelPadding\": 4, \"tickColor\": \"#cbcbcb\", \"tickSize\": 10, \"titleColor\": \"#333\", \"titleFont\": \"Raleway\", \"titleFontSize\": 12, \"titlePadding\": 10}, \"axisBand\": {\"grid\": false}, \"background\": \"white\", \"font\": \"Raleway\", \"header\": {\"labelFont\": \"Nunito Sans\", \"titleFont\": \"Raleway\"}, \"legend\": {\"labelColor\": \"#333\", \"labelFont\": \"Nunito Sans\", \"labelFontSize\": 11, \"labelLimit\": 0, \"padding\": 1, \"symbolSize\": 30, \"symbolType\": \"square\", \"titleColor\": \"#333\", \"titleFont\": \"Raleway\", \"titleFontSize\": 14, \"titlePadding\": 10}, \"title\": {\"anchor\": \"middle\", \"font\": \"Raleway\", \"fontSize\": 18, \"fontWeight\": 300, \"offset\": 20}}, \"data\": {\"name\": \"data-7becd29432dd63a02ce6a1f0f39776e7\"}, \"mark\": \"bar\", \"encoding\": {\"color\": {\"field\": \"prefix\", \"legend\": {\"symbolLimit\": 10, \"title\": \"Prefix\"}, \"scale\": {\"range\": [\"#2EA8CE\", \"#EB9F3C\", \"#F4D837\", \"#51BF9D\", \"#8CBCCB\", \"#9487C0\"]}, \"type\": \"nominal\"}, \"tooltip\": [{\"field\": \"prefix\", \"type\": \"nominal\"}, {\"field\": \"adjusted_total_requested\", \"type\": \"quantitative\"}], \"x\": {\"field\": \"prefix\", \"sort\": \"-y\", \"title\": \"Prefix\", \"type\": \"nominal\"}, \"y\": {\"field\": \"adjusted_total_requested\", \"title\": \"Adjusted Total Requested\", \"type\": \"quantitative\"}}, \"height\": 250, \"width\": 400, \"$schema\": \"https://vega.github.io/schema/vega-lite/v4.17.0.json\", \"datasets\": {\"data-7becd29432dd63a02ce6a1f0f39776e7\": [{\"prefix\": \"STPLN\", \"adjusted_total_requested\": 68456919.1688811}, {\"prefix\": \"CMSTPL\", \"adjusted_total_requested\": 63340110.72211217}, {\"prefix\": \"CMSTPLN\", \"adjusted_total_requested\": 19329239.87601928}, {\"prefix\": \"FTACML\", \"adjusted_total_requested\": 12833759.596771134}, {\"prefix\": \"HPLULN\", \"adjusted_total_requested\": 11825831.887053913}, {\"prefix\": \"DEM05L\", \"adjusted_total_requested\": 7333583.472675212}, {\"prefix\": \"PNRSCML\", \"adjusted_total_requested\": 6131734.07336066}, {\"prefix\": \"BHLS\", \"adjusted_total_requested\": 4438384.279911158}, {\"prefix\": \"BRLS\", \"adjusted_total_requested\": 1693530.8396903158}, {\"prefix\": \"CMHPLULN\", \"adjusted_total_requested\": 1489939.6762568841}, {\"prefix\": \"STPTCIFL\", \"adjusted_total_requested\": 1483622.8918475385}, {\"prefix\": \"ATPCML\", \"adjusted_total_requested\": 1455754.523768898}, {\"prefix\": \"FTASTPL\", \"adjusted_total_requested\": 1421940.9313199304}, {\"prefix\": \"ATPL\", \"adjusted_total_requested\": 1306637.0405603582}, {\"prefix\": \"BRLSZ\", \"adjusted_total_requested\": 1147272.2682928415}, {\"prefix\": \"BRLO\", \"adjusted_total_requested\": 1089139.9075778986}, {\"prefix\": \"HP21L\", \"adjusted_total_requested\": 941598.7236555718}, {\"prefix\": \"RPMSTPL\", \"adjusted_total_requested\": 874148.9663087878}, {\"prefix\": \"HRRRL\", \"adjusted_total_requested\": 861310.0579001738}, {\"prefix\": \"TCSP\", \"adjusted_total_requested\": 833770.6927489594}, {\"prefix\": \"BRLOZE\", \"adjusted_total_requested\": 808987.8269550309}, {\"prefix\": \"ATPSB1L\", \"adjusted_total_requested\": 712927.2678555814}, {\"prefix\": \"ACNHPI\", \"adjusted_total_requested\": 604352.8108215247}, {\"prefix\": \"FTAFER16\", \"adjusted_total_requested\": 492672.77356848406}, {\"prefix\": \"CML\", \"adjusted_total_requested\": 410344.7118463723}, {\"prefix\": \"STPL\", \"adjusted_total_requested\": 381913.8718270426}, {\"prefix\": \"BPMPL\", \"adjusted_total_requested\": 337314.3145292647}, {\"prefix\": \"SRTSL\", \"adjusted_total_requested\": 273881.3572605744}, {\"prefix\": \"HSIPL\", \"adjusted_total_requested\": 240443.98667888562}, {\"prefix\": \"ATPLNI\", \"adjusted_total_requested\": 97002.76262355213}]}}, {\"mode\": \"vega-lite\"});\n",
       "</script>"
      ],
      "text/plain": [
       "alt.Chart(...)"
      ]
     },
     "metadata": {},
     "output_type": "display_data"
    }
   ],
   "source": [
    "# Bar chart Average Total Requested Funds by Prefix\n",
    "chart8 = (_dla_utils_reports.basic_bar_chart_no_save((((_dla_utils_reports.calculate_data_all(df, 'adjusted_total_requested', 'prefix', aggfunc=\"mean\"))\n",
    "                          >>arrange(-_.adjusted_total_requested)).head(30)), 'prefix','adjusted_total_requested', 'prefix', district\n",
    "                       ))\n",
    "    \n",
    "display(chart8)\n",
    "    "
   ]
  },
  {
   "cell_type": "markdown",
   "id": "c4218a37-675e-40be-9659-d1297a62dc1b",
   "metadata": {
    "papermill": {
     "duration": 0.010793,
     "end_time": "2022-05-18T18:01:09.189990",
     "exception": false,
     "start_time": "2022-05-18T18:01:09.179197",
     "status": "completed"
    },
    "tags": []
   },
   "source": [
    "\n",
    "## Work Categories"
   ]
  },
  {
   "cell_type": "markdown",
   "id": "d41b493b-2ab7-4c43-96ee-8e64a7c3e11a",
   "metadata": {
    "papermill": {
     "duration": 0.009787,
     "end_time": "2022-05-18T18:01:09.211388",
     "exception": false,
     "start_time": "2022-05-18T18:01:09.201601",
     "status": "completed"
    },
    "tags": []
   },
   "source": [
    "While the data includes a description column, organizations have the option to manually input the descriptions. Using the organizations descriptions of the obligattion type, we can categorize the obligations in terms of types of work. We used the following type of work categories:\n",
    "* Active Transportation\n",
    "* Transit\n",
    "* Bridge\n",
    "* Street\n",
    "* Freeway\n",
    "* Infrastructure/Resiliency/Emergency Relief \n",
    "* Congestion Relief\n",
    "\n",
    "With these categories, we can determine which organizations have the most obligations in that category and what percent of the category that organization accounts for. "
   ]
  },
  {
   "cell_type": "markdown",
   "id": "2b838c62",
   "metadata": {
    "tags": [
     "papermill-error-cell-tag"
    ]
   },
   "source": [
    "<span id=\"papermill-error-cell\" style=\"color:red; font-family:Helvetica Neue, Helvetica, Arial, sans-serif; font-size:2em;\">Execution using papermill encountered an exception here and stopped:</span>"
   ]
  },
  {
   "cell_type": "code",
   "execution_count": 16,
   "id": "50a1cf08-17eb-4b2b-9dc0-671ee7551f2d",
   "metadata": {
    "execution": {
     "iopub.execute_input": "2022-05-18T18:01:09.234524Z",
     "iopub.status.busy": "2022-05-18T18:01:09.234092Z",
     "iopub.status.idle": "2022-05-18T18:01:09.720562Z",
     "shell.execute_reply": "2022-05-18T18:01:09.719585Z"
    },
    "jupyter": {
     "source_hidden": true
    },
    "papermill": {
     "duration": 0.499046,
     "end_time": "2022-05-18T18:01:09.722079",
     "exception": true,
     "start_time": "2022-05-18T18:01:09.223033",
     "status": "failed"
    },
    "tags": [
     "remove_input"
    ]
   },
   "outputs": [
    {
     "ename": "AttributeError",
     "evalue": "'Styler' object has no attribute 'hide'",
     "output_type": "error",
     "traceback": [
      "\u001b[0;31m---------------------------------------------------------------------------\u001b[0m",
      "\u001b[0;31mAttributeError\u001b[0m                            Traceback (most recent call last)",
      "\u001b[0;32m/var/folders/ls/cdr1pq6n7yn9m0cb41zkflk80000gn/T/ipykernel_30371/4195605666.py\u001b[0m in \u001b[0;36m<module>\u001b[0;34m\u001b[0m\n\u001b[1;32m      4\u001b[0m \u001b[0;34m\u001b[0m\u001b[0m\n\u001b[1;32m      5\u001b[0m \u001b[0;32mfor\u001b[0m \u001b[0mcat\u001b[0m \u001b[0;32min\u001b[0m \u001b[0mwork_cat\u001b[0m\u001b[0;34m:\u001b[0m\u001b[0;34m\u001b[0m\u001b[0;34m\u001b[0m\u001b[0m\n\u001b[0;32m----> 6\u001b[0;31m     \u001b[0m_dla_utils_reports\u001b[0m\u001b[0;34m.\u001b[0m\u001b[0mproject_cat\u001b[0m\u001b[0;34m(\u001b[0m\u001b[0mdf\u001b[0m\u001b[0;34m,\u001b[0m \u001b[0mcat\u001b[0m\u001b[0;34m,\u001b[0m \u001b[0mdistrict\u001b[0m\u001b[0;34m)\u001b[0m\u001b[0;34m\u001b[0m\u001b[0;34m\u001b[0m\u001b[0m\n\u001b[0m",
      "\u001b[0;32m~/go/src/github.com/cal-itp/data-analyses/dla/e76_obligated_funds/reports/_dla_utils_reports.py\u001b[0m in \u001b[0;36mproject_cat\u001b[0;34m(df, i, district)\u001b[0m\n\u001b[1;32m    235\u001b[0m     \u001b[0;31m#path = (f'/chart_outputs/project_cat/bar_{district}_{i}.png')\u001b[0m\u001b[0;34m\u001b[0m\u001b[0;34m\u001b[0m\u001b[0;34m\u001b[0m\u001b[0m\n\u001b[1;32m    236\u001b[0m     \u001b[0;31m#path2= ('/chart_outputs/project_cat/bar_4_active_transp.png')\u001b[0m\u001b[0;34m\u001b[0m\u001b[0;34m\u001b[0m\u001b[0;34m\u001b[0m\u001b[0m\n\u001b[0;32m--> 237\u001b[0;31m     \u001b[0mtable\u001b[0m \u001b[0;34m=\u001b[0m \u001b[0msubset_2\u001b[0m\u001b[0;34m.\u001b[0m\u001b[0mstyle\u001b[0m\u001b[0;34m.\u001b[0m\u001b[0mformat\u001b[0m\u001b[0;34m(\u001b[0m\u001b[0mformatter\u001b[0m\u001b[0;34m=\u001b[0m\u001b[0;34m{\u001b[0m\u001b[0;34m(\u001b[0m\u001b[0;34m\"Percent of Category\"\u001b[0m\u001b[0;34m)\u001b[0m\u001b[0;34m:\u001b[0m \u001b[0;34m\"{:.2f}%\"\u001b[0m\u001b[0;34m}\u001b[0m\u001b[0;34m)\u001b[0m\u001b[0;34m.\u001b[0m\u001b[0mhide\u001b[0m\u001b[0;34m(\u001b[0m\u001b[0maxis\u001b[0m\u001b[0;34m=\u001b[0m\u001b[0;34m'index'\u001b[0m\u001b[0;34m)\u001b[0m\u001b[0;34m\u001b[0m\u001b[0;34m\u001b[0m\u001b[0m\n\u001b[0m\u001b[1;32m    238\u001b[0m     \u001b[0mdisplay\u001b[0m\u001b[0;34m(\u001b[0m\u001b[0mHTML\u001b[0m\u001b[0;34m(\u001b[0m\u001b[0;34mf\"<h3> Top Agencies using {labeling(i)} Projects </h3>\"\u001b[0m\u001b[0;34m)\u001b[0m\u001b[0;34m)\u001b[0m\u001b[0;34m\u001b[0m\u001b[0;34m\u001b[0m\u001b[0m\n\u001b[1;32m    239\u001b[0m     display(table \n",
      "\u001b[0;31mAttributeError\u001b[0m: 'Styler' object has no attribute 'hide'"
     ]
    }
   ],
   "source": [
    "# create loop:\n",
    "\n",
    "work_cat = ['active_transp', 'transit', 'bridge', 'street','freeway', 'infra_resiliency_er','congestion_relief']\n",
    "\n",
    "for cat in work_cat:\n",
    "    _dla_utils_reports.project_cat(df, cat, district)"
   ]
  },
  {
   "cell_type": "code",
   "execution_count": null,
   "id": "5a50e751-dd3f-498f-9a28-2edc321b534f",
   "metadata": {
    "jupyter": {
     "source_hidden": true
    },
    "papermill": {
     "duration": null,
     "end_time": null,
     "exception": null,
     "start_time": null,
     "status": "pending"
    },
    "tags": [
     "remove_input"
    ]
   },
   "outputs": [],
   "source": []
  },
  {
   "cell_type": "code",
   "execution_count": null,
   "id": "cb2f6ba9-df0b-495e-82c5-54743d879743",
   "metadata": {
    "jupyter": {
     "source_hidden": true
    },
    "papermill": {
     "duration": null,
     "end_time": null,
     "exception": null,
     "start_time": null,
     "status": "pending"
    },
    "tags": [
     "remove_input"
    ]
   },
   "outputs": [],
   "source": [
    "#  # code help: https://stackoverflow.com/questions/50842160/how-to-display-matplotlib-plots-in-a-jupyter-tab-widget\n",
    "    \n",
    "# work_cat = ['active_transp', 'transit', 'bridge', 'street','freeway', 'infra_resiliency_er','congestion_relief']\n",
    "\n",
    "# out1 = widgets.Output()\n",
    "# out2 = widgets.Output()\n",
    "# out3 = widgets.Output()\n",
    "# out4 = widgets.Output()\n",
    "# out5 = widgets.Output()\n",
    "# out6 = widgets.Output()\n",
    "# out7 = widgets.Output()\n",
    "\n",
    "#     # children2 = [widgets.Text(description=name) for name in work_cat]\n",
    "#     # tab2 = widgets.Tab(children2)\n",
    "# tab2 = widgets.Tab(children = [out1, out2, out3, out4, out5, out6, out7])\n",
    "\n",
    "# for ii in enumerate(work_cat): \n",
    "#     tab2.set_title(ii[0], f\"{_dla_utils_reports.labeling(ii[1])}\")\n",
    "\n",
    "# display(tab2)\n",
    "    \n",
    "    \n",
    "# with out1:\n",
    "#      _dla_utils_reports.project_cat(df, 'active_transp', district) \n",
    "\n",
    "# #out1.append_display_data(_dla_utils_reports.project_cat(df, 'active_transp', district))\n",
    "# #out1.append_display_data(Image(filename=(f'./chart_outputs/project_cat/bar_{district}_active_transp.png')))\n",
    "\n",
    "# with out2:\n",
    "#      _dla_utils_reports.project_cat(df, 'transit', district)\n",
    "# with out3: \n",
    "#      _dla_utils_reports.project_cat(df, 'bridge', district)\n",
    "# with out4:\n",
    "#     _dla_utils_reports.project_cat(df, 'street', district)\n",
    "# with out5:\n",
    "#      _dla_utils_reports.project_cat(df, 'freeway', district)\n",
    "# with out6:\n",
    "#     _dla_utils_reports.project_cat(df, 'infra_resiliency_er', district)\n",
    "# with out7:\n",
    "#     _dla_utils_reports.project_cat(df, 'congestion_relief', district)\n",
    "    "
   ]
  },
  {
   "cell_type": "code",
   "execution_count": null,
   "id": "b4562eb7-a3e1-4829-a23c-058f2f0e30d9",
   "metadata": {
    "jupyter": {
     "source_hidden": true
    },
    "papermill": {
     "duration": null,
     "end_time": null,
     "exception": null,
     "start_time": null,
     "status": "pending"
    },
    "tags": [
     "remove_input"
    ]
   },
   "outputs": [],
   "source": [
    "# # work_cat = ['active_transp', 'transit', 'bridge', 'street','freeway', 'infra_resiliency_er','congestion_relief']\n",
    "\n",
    "# # out1 = widgets.Output()\n",
    "# # out2 = widgets.Output()\n",
    "# # out3 = widgets.Output()\n",
    "# # out4 = widgets.Output()\n",
    "# # out5 = widgets.Output()\n",
    "# # out6 = widgets.Output()\n",
    "# # out7 = widgets.Output()\n",
    "\n",
    "# # tab2 = widgets.Tab(children = [out1, out2, out3, out4, out5, out6, out7])\n",
    "\n",
    "# # for ii in enumerate(work_cat): \n",
    "# #     tab2.set_title(ii[0], f\"{_dla_utils.labeling(ii[1])}\")\n",
    "\n",
    "# # display(tab2)\n",
    "    \n",
    "# # with out1:\n",
    "# #     _dla_utils.project_cat(df, 'active_transp', district) \n",
    "# # with out2:\n",
    "# #      _dla_utils.project_cat(df, 'transit', district)\n",
    "# # with out3: \n",
    "# #      _dla_utils.project_cat(df, 'bridge', district)\n",
    "# # with out4:\n",
    "# #     _dla_utils.project_cat(df, 'street', district)\n",
    "# # with out5:\n",
    "# #      _dla_utils.project_cat(df, 'freeway', district)\n",
    "# # with out6:\n",
    "# #     _dla_utils.project_cat(df, 'infra_resiliency_er', district)\n",
    "# # with out7:\n",
    "# #     _dla_utils.project_cat(df, 'congestion_relief', district)\n",
    "    \n",
    "    \n",
    "# ## https://medium.com/analytics-vidhya/how-to-use-python-to-build-an-image-display-app-in-jupyter-notebook-337c4fd3775f\n",
    "# def show_im():\n",
    "#     CSS = \"\"\"\n",
    "#     .output {\n",
    "#         flex-direction: row;\n",
    "#     }\n",
    "#     \"\"\"\n",
    "#     HTML('<style>{}</style>'.format(CSS))\n",
    "\n",
    "# def image_viewer(district, i): \n",
    "#     image_grid = Image(filename=(f'./chart_outputs/project_cat/bar_{district}_{i}.png'))\n",
    "#     #image_grid_html = HTML(image_grid.to_html(escape=False ,formatters=dict(a=path_to_image_html, \n",
    "#     #b=path_to_image_html)))\n",
    "#     #display(image_grid_html)\n",
    "#     show_im()    \n",
    "    \n",
    "\n",
    "# tab_nest = widgets.Tab()\n",
    "\n",
    "\n",
    "# #interact function in isolation\n",
    "\n",
    "# image = (image_viewer(district, 'active_transp'))\n",
    "# f1 = interactive(image);\n",
    "# tab_nest.children = [widgets.VBox(children = f1.children)]\n",
    "# display(tab_nest)"
   ]
  },
  {
   "cell_type": "code",
   "execution_count": null,
   "id": "8b015c8d-378b-456e-b486-f8b1f5446a21",
   "metadata": {
    "jupyter": {
     "source_hidden": true
    },
    "papermill": {
     "duration": null,
     "end_time": null,
     "exception": null,
     "start_time": null,
     "status": "pending"
    },
    "tags": [
     "remove_input"
    ]
   },
   "outputs": [],
   "source": [
    "# Image(filename=('./chart_outputs/project_cat/bar_4_active_transp.png'))"
   ]
  },
  {
   "cell_type": "code",
   "execution_count": null,
   "id": "f2da39a6-73d0-4293-b13f-267514cfbc4e",
   "metadata": {
    "jupyter": {
     "source_hidden": true
    },
    "papermill": {
     "duration": null,
     "end_time": null,
     "exception": null,
     "start_time": null,
     "status": "pending"
    },
    "tags": [
     "remove_input"
    ]
   },
   "outputs": [],
   "source": [
    "## to markdown\n",
    "#![pic](./chart_outputs/project_cat/bar_4_active_transp.png)\n"
   ]
  }
 ],
 "metadata": {
  "kernelspec": {
   "display_name": "Python 3 (ipykernel)",
   "language": "python",
   "name": "python3"
  },
  "language_info": {
   "codemirror_mode": {
    "name": "ipython",
    "version": 3
   },
   "file_extension": ".py",
   "mimetype": "text/x-python",
   "name": "python",
   "nbconvert_exporter": "python",
   "pygments_lexer": "ipython3",
   "version": "3.7.13"
  },
  "papermill": {
   "default_parameters": {},
   "duration": 21.188027,
   "end_time": "2022-05-18T18:01:10.254077",
   "environment_variables": {},
   "exception": true,
   "input_path": "dla/e76_obligated_funds/reports/dla_district_report.ipynb",
   "output_path": "portfolio/dla/district_12__district_title_district-12-irvine/0__dla_district_report__district_12__district_title_district-12-irvine.ipynb",
   "parameters": {
    "district": 12,
    "district_title": "District 12 - Irvine"
   },
   "start_time": "2022-05-18T18:00:49.066050",
   "version": "2.3.4"
  },
  "widgets": {
   "application/vnd.jupyter.widget-state+json": {
    "state": {
     "05e8742d644a41d0b442eb985d06dac8": {
      "model_module": "@jupyter-widgets/controls",
      "model_module_version": "1.5.0",
      "model_name": "HTMLModel",
      "state": {
       "layout": "IPY_MODEL_6ee9c02f6c5a4ee99bce8bc35d50aaaf",
       "style": "IPY_MODEL_09522532b22749a4bed93f7d59807e50",
       "value": "<h3> Top Agencies using Transit Projects </h3>"
      }
     },
     "06888684be714b8dbb97e4260e39b155": {
      "model_module": "@jupyter-widgets/controls",
      "model_module_version": "1.5.0",
      "model_name": "DescriptionStyleModel",
      "state": {
       "description_width": ""
      }
     },
     "09522532b22749a4bed93f7d59807e50": {
      "model_module": "@jupyter-widgets/controls",
      "model_module_version": "1.5.0",
      "model_name": "DescriptionStyleModel",
      "state": {
       "description_width": ""
      }
     },
     "2578ea0e0e9d4da18ad5e6139f6c0224": {
      "model_module": "@jupyter-widgets/controls",
      "model_module_version": "1.5.0",
      "model_name": "HTMLModel",
      "state": {
       "layout": "IPY_MODEL_db38b0f6b58243c1867d1656b7911129",
       "style": "IPY_MODEL_68cbd7126819477c8bc8dd93c8908464",
       "value": "<h3> Top Agencies using Infrastructure & Emergency Relief Projects </h3>"
      }
     },
     "2d5ed4f15e7e4861a3c43d24c1457542": {
      "model_module": "@jupyter-widgets/base",
      "model_module_version": "1.2.0",
      "model_name": "LayoutModel",
      "state": {}
     },
     "362f7d5d1b794ea9a64e10ed50a73ce0": {
      "model_module": "@jupyter-widgets/controls",
      "model_module_version": "1.5.0",
      "model_name": "HTMLModel",
      "state": {
       "layout": "IPY_MODEL_b5aec39c2dce476fbeb7335bb6ece7f3",
       "style": "IPY_MODEL_e7cd0d4bba994eebbf78ca7c15d0e911",
       "value": "<h3> Top Agencies using Bridge Projects </h3>"
      }
     },
     "49cf0bb9a7cf4a4581252cb99cd2640c": {
      "model_module": "@jupyter-widgets/controls",
      "model_module_version": "1.5.0",
      "model_name": "HTMLModel",
      "state": {
       "layout": "IPY_MODEL_86a7a1b47814410fae1dd3e3a1cf3c23",
       "style": "IPY_MODEL_06888684be714b8dbb97e4260e39b155",
       "value": "<h3> Top Agencies using Freeway Projects </h3>"
      }
     },
     "4a61244cce774d28a9566067fa35760a": {
      "model_module": "@jupyter-widgets/base",
      "model_module_version": "1.2.0",
      "model_name": "LayoutModel",
      "state": {}
     },
     "57d384c77eae42f4bdf20d928b823b53": {
      "model_module": "@jupyter-widgets/base",
      "model_module_version": "1.2.0",
      "model_name": "LayoutModel",
      "state": {}
     },
     "68cbd7126819477c8bc8dd93c8908464": {
      "model_module": "@jupyter-widgets/controls",
      "model_module_version": "1.5.0",
      "model_name": "DescriptionStyleModel",
      "state": {
       "description_width": ""
      }
     },
     "6ee9c02f6c5a4ee99bce8bc35d50aaaf": {
      "model_module": "@jupyter-widgets/base",
      "model_module_version": "1.2.0",
      "model_name": "LayoutModel",
      "state": {}
     },
     "830e981c8ed54810941a86c7f156df52": {
      "model_module": "@jupyter-widgets/controls",
      "model_module_version": "1.5.0",
      "model_name": "HTMLModel",
      "state": {
       "layout": "IPY_MODEL_57d384c77eae42f4bdf20d928b823b53",
       "style": "IPY_MODEL_d0580583478248448abac26d1d32801b",
       "value": "<h3> Top Agencies using Active Transportation Projects </h3>"
      }
     },
     "86a7a1b47814410fae1dd3e3a1cf3c23": {
      "model_module": "@jupyter-widgets/base",
      "model_module_version": "1.2.0",
      "model_name": "LayoutModel",
      "state": {}
     },
     "8be45dae5ae743f7b7ba51219440adaf": {
      "model_module": "@jupyter-widgets/controls",
      "model_module_version": "1.5.0",
      "model_name": "DescriptionStyleModel",
      "state": {
       "description_width": ""
      }
     },
     "b5aec39c2dce476fbeb7335bb6ece7f3": {
      "model_module": "@jupyter-widgets/base",
      "model_module_version": "1.2.0",
      "model_name": "LayoutModel",
      "state": {}
     },
     "cf633f453d804025af7510f1abeafb39": {
      "model_module": "@jupyter-widgets/controls",
      "model_module_version": "1.5.0",
      "model_name": "DescriptionStyleModel",
      "state": {
       "description_width": ""
      }
     },
     "d0580583478248448abac26d1d32801b": {
      "model_module": "@jupyter-widgets/controls",
      "model_module_version": "1.5.0",
      "model_name": "DescriptionStyleModel",
      "state": {
       "description_width": ""
      }
     },
     "db38b0f6b58243c1867d1656b7911129": {
      "model_module": "@jupyter-widgets/base",
      "model_module_version": "1.2.0",
      "model_name": "LayoutModel",
      "state": {}
     },
     "e7cd0d4bba994eebbf78ca7c15d0e911": {
      "model_module": "@jupyter-widgets/controls",
      "model_module_version": "1.5.0",
      "model_name": "DescriptionStyleModel",
      "state": {
       "description_width": ""
      }
     },
     "edb95a5dfab04f9a8c05a3c30b74a4b7": {
      "model_module": "@jupyter-widgets/controls",
      "model_module_version": "1.5.0",
      "model_name": "HTMLModel",
      "state": {
       "layout": "IPY_MODEL_2d5ed4f15e7e4861a3c43d24c1457542",
       "style": "IPY_MODEL_8be45dae5ae743f7b7ba51219440adaf",
       "value": "<h3> Top Agencies using Congestion Relief Projects </h3>"
      }
     },
     "f4d3c364ee5a4197b523ca3091963104": {
      "model_module": "@jupyter-widgets/controls",
      "model_module_version": "1.5.0",
      "model_name": "HTMLModel",
      "state": {
       "layout": "IPY_MODEL_4a61244cce774d28a9566067fa35760a",
       "style": "IPY_MODEL_cf633f453d804025af7510f1abeafb39",
       "value": "<h3> Top Agencies using Street Projects </h3>"
      }
     }
    },
    "version_major": 2,
    "version_minor": 0
   }
  }
 },
 "nbformat": 4,
 "nbformat_minor": 5
}