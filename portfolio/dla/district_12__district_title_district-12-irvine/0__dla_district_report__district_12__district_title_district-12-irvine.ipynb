version https://git-lfs.github.com/spec/v1
oid sha256:f93c91ab32fc9110b27e2fce0e76f4b30d41e71fc3a11f0dd42ea189ee1214bf
size 203190
