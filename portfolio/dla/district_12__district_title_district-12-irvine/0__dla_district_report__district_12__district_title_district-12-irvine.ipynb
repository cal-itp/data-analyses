{
 "cells": [
  {
   "cell_type": "markdown",
   "id": "c52ac033",
   "metadata": {
    "papermill": {
     "duration": 0.022213,
     "end_time": "2022-06-02T22:25:23.859179",
     "exception": false,
     "start_time": "2022-06-02T22:25:23.836966",
     "status": "completed"
    },
    "pycharm": {
     "name": "#%% md\n"
    },
    "tags": []
   },
   "source": [
    "# **District 12 - Irvine**"
   ]
  },
  {
   "cell_type": "markdown",
   "id": "69a79097-e42c-4e22-aec5-62594d3f008f",
   "metadata": {
    "papermill": {
     "duration": 0.017945,
     "end_time": "2022-06-02T22:25:23.895490",
     "exception": false,
     "start_time": "2022-06-02T22:25:23.877545",
     "status": "completed"
    },
    "tags": []
   },
   "source": [
    "<hr style=\"height: 2px; background-color:#136C97; border: none\">\n"
   ]
  },
  {
   "cell_type": "markdown",
   "id": "178948e4-f2ee-4978-87a6-e2eb560b0feb",
   "metadata": {
    "papermill": {
     "duration": 0.017664,
     "end_time": "2022-06-02T22:25:23.930712",
     "exception": false,
     "start_time": "2022-06-02T22:25:23.913048",
     "status": "completed"
    },
    "tags": []
   },
   "source": [
    "How does funding for local agencies differ district to district? Using E-76 obligation data, we can gain insight to how agencies in District 12 use federal program funds, and help identify DLA‘s core customers."
   ]
  },
  {
   "cell_type": "code",
   "execution_count": 1,
   "id": "92c5c56a",
   "metadata": {
    "collapsed": false,
    "execution": {
     "iopub.execute_input": "2022-06-02T22:25:23.970147Z",
     "iopub.status.busy": "2022-06-02T22:25:23.969757Z",
     "iopub.status.idle": "2022-06-02T22:25:34.421308Z",
     "shell.execute_reply": "2022-06-02T22:25:34.420136Z"
    },
    "jupyter": {
     "source_hidden": true
    },
    "papermill": {
     "duration": 10.475198,
     "end_time": "2022-06-02T22:25:34.424001",
     "exception": false,
     "start_time": "2022-06-02T22:25:23.948803",
     "status": "completed"
    },
    "pycharm": {
     "name": "#%%\n"
    },
    "tags": [
     "remove_input"
    ]
   },
   "outputs": [],
   "source": [
    "%%capture\n",
    "\n",
    "import numpy as np\n",
    "import pandas as pd\n",
    "from siuba import *\n",
    "\n",
    "import altair as alt\n",
    "import altair_saver\n",
    "from plotnine import *\n",
    "\n",
    "from IPython.display import Markdown, HTML, Image\n",
    "import ipywidgets as widgets\n",
    "from ipywidgets import interact, interactive\n",
    "\n",
    "from calitp import to_snakecase\n",
    "import intake\n",
    "\n",
    "from shared_utils import altair_utils\n",
    "from shared_utils import styleguide\n",
    "\n",
    "from dla_utils import _dla_utils\n"
   ]
  },
  {
   "cell_type": "code",
   "execution_count": 2,
   "id": "82cf8245-73d2-4ed3-93cf-7ee01661b024",
   "metadata": {
    "execution": {
     "iopub.execute_input": "2022-06-02T22:25:34.461906Z",
     "iopub.status.busy": "2022-06-02T22:25:34.461574Z",
     "iopub.status.idle": "2022-06-02T22:25:34.465789Z",
     "shell.execute_reply": "2022-06-02T22:25:34.465006Z"
    },
    "jupyter": {
     "source_hidden": true
    },
    "papermill": {
     "duration": 0.025661,
     "end_time": "2022-06-02T22:25:34.467583",
     "exception": false,
     "start_time": "2022-06-02T22:25:34.441922",
     "status": "completed"
    },
    "tags": [
     "parameters",
     "remove_input"
    ]
   },
   "outputs": [],
   "source": [
    "#Parameter Cell\n",
    "\n",
    "district = 4"
   ]
  },
  {
   "cell_type": "code",
   "execution_count": 3,
   "id": "716a4fac",
   "metadata": {
    "execution": {
     "iopub.execute_input": "2022-06-02T22:25:34.510580Z",
     "iopub.status.busy": "2022-06-02T22:25:34.509631Z",
     "iopub.status.idle": "2022-06-02T22:25:34.514037Z",
     "shell.execute_reply": "2022-06-02T22:25:34.513556Z"
    },
    "jupyter": {
     "source_hidden": true
    },
    "papermill": {
     "duration": 0.025803,
     "end_time": "2022-06-02T22:25:34.515774",
     "exception": false,
     "start_time": "2022-06-02T22:25:34.489971",
     "status": "completed"
    },
    "tags": [
     "injected-parameters",
     "remove_input"
    ]
   },
   "outputs": [],
   "source": [
    "# Parameters\n",
    "district = 12\n",
    "district_title = \"District 12 - Irvine\"\n"
   ]
  },
  {
   "cell_type": "code",
   "execution_count": 4,
   "id": "948b2b4f-ef9b-48ff-b109-e7b76361066c",
   "metadata": {
    "execution": {
     "iopub.execute_input": "2022-06-02T22:25:34.554446Z",
     "iopub.status.busy": "2022-06-02T22:25:34.553727Z",
     "iopub.status.idle": "2022-06-02T22:25:34.959196Z",
     "shell.execute_reply": "2022-06-02T22:25:34.958509Z"
    },
    "jupyter": {
     "source_hidden": true
    },
    "papermill": {
     "duration": 0.427423,
     "end_time": "2022-06-02T22:25:34.961505",
     "exception": false,
     "start_time": "2022-06-02T22:25:34.534082",
     "status": "completed"
    },
    "tags": [
     "remove_input"
    ]
   },
   "outputs": [],
   "source": [
    "df= pd.read_parquet(\"gs://calitp-analytics-data/data-analyses/dla/e-76Obligated/dla_df.parquet\")\n"
   ]
  },
  {
   "cell_type": "code",
   "execution_count": 5,
   "id": "be910f27-7608-4522-8d8d-ef93611cb748",
   "metadata": {
    "execution": {
     "iopub.execute_input": "2022-06-02T22:25:35.013815Z",
     "iopub.status.busy": "2022-06-02T22:25:35.013247Z",
     "iopub.status.idle": "2022-06-02T22:25:35.114453Z",
     "shell.execute_reply": "2022-06-02T22:25:35.113738Z"
    },
    "jupyter": {
     "source_hidden": true
    },
    "papermill": {
     "duration": 0.12569,
     "end_time": "2022-06-02T22:25:35.116715",
     "exception": false,
     "start_time": "2022-06-02T22:25:34.991025",
     "status": "completed"
    },
    "tags": [
     "remove_input"
    ]
   },
   "outputs": [],
   "source": [
    "df = (df>>filter(_.dist==district))\n",
    "    \n",
    "    \n",
    "#subsetting the data\n",
    "df_years = _dla_utils.count_all_years(df)\n",
    "df_top = _dla_utils.find_top(df)\n",
    "    "
   ]
  },
  {
   "cell_type": "code",
   "execution_count": 6,
   "id": "a5850431-4942-45ef-a3ea-6cb3f07d628e",
   "metadata": {
    "execution": {
     "iopub.execute_input": "2022-06-02T22:25:35.159403Z",
     "iopub.status.busy": "2022-06-02T22:25:35.158684Z",
     "iopub.status.idle": "2022-06-02T22:25:35.164807Z",
     "shell.execute_reply": "2022-06-02T22:25:35.164026Z"
    },
    "jupyter": {
     "source_hidden": true
    },
    "papermill": {
     "duration": 0.030855,
     "end_time": "2022-06-02T22:25:35.166902",
     "exception": false,
     "start_time": "2022-06-02T22:25:35.136047",
     "status": "completed"
    },
    "tags": [
     "remove_input"
    ]
   },
   "outputs": [],
   "source": [
    "df['prepared_y'] = df['prepared_y'].map('{:.0f}'.format)"
   ]
  },
  {
   "cell_type": "code",
   "execution_count": 7,
   "id": "7f5ac0a1-a951-4072-8f85-d2c90290907f",
   "metadata": {
    "execution": {
     "iopub.execute_input": "2022-06-02T22:25:35.206637Z",
     "iopub.status.busy": "2022-06-02T22:25:35.206082Z",
     "iopub.status.idle": "2022-06-02T22:25:35.394511Z",
     "shell.execute_reply": "2022-06-02T22:25:35.393609Z"
    },
    "jupyter": {
     "source_hidden": true
    },
    "papermill": {
     "duration": 0.210837,
     "end_time": "2022-06-02T22:25:35.396839",
     "exception": false,
     "start_time": "2022-06-02T22:25:35.186002",
     "status": "completed"
    },
    "tags": [
     "remove_input"
    ]
   },
   "outputs": [
    {
     "data": {
      "text/html": [
       "<h3>Quick Stats</h3>"
      ],
      "text/plain": [
       "<IPython.core.display.HTML object>"
      ]
     },
     "metadata": {},
     "output_type": "display_data"
    },
    {
     "data": {
      "text/html": [
       "There are <strong>36 Unique Agencies</strong>"
      ],
      "text/plain": [
       "<IPython.core.display.HTML object>"
      ]
     },
     "metadata": {},
     "output_type": "display_data"
    },
    {
     "data": {
      "text/html": [
       "Out of <strong>708</strong> obligations, <strong>1 have transit-related</strong> project types<br><strong>Santa Ana</strong> has the <strong>highest transit</strong> obligations"
      ],
      "text/plain": [
       "<IPython.core.display.HTML object>"
      ]
     },
     "metadata": {},
     "output_type": "display_data"
    },
    {
     "data": {
      "text/html": [
       "There are <strong>2 agencies have over 72.25</strong> obligations (95th percentile) since 2013"
      ],
      "text/plain": [
       "<IPython.core.display.HTML object>"
      ]
     },
     "metadata": {},
     "output_type": "display_data"
    },
    {
     "data": {
      "text/html": [
       "There are <strong>3 agencies have less than 2.00</strong> obligations (5th percentile) since 2013"
      ],
      "text/plain": [
       "<IPython.core.display.HTML object>"
      ]
     },
     "metadata": {},
     "output_type": "display_data"
    },
    {
     "data": {
      "text/html": [
       "<h4>Number of Unique Prefix Codes by Agency</h4>"
      ],
      "text/plain": [
       "<IPython.core.display.HTML object>"
      ]
     },
     "metadata": {},
     "output_type": "display_data"
    },
    {
     "data": {
      "text/html": [
       "<style type=\"text/css\">\n",
       "#T_2a688 th {\n",
       "  text-align: center;\n",
       "}\n",
       "#T_2a688_row0_col0, #T_2a688_row0_col1, #T_2a688_row1_col0, #T_2a688_row1_col1, #T_2a688_row2_col0, #T_2a688_row2_col1, #T_2a688_row3_col0, #T_2a688_row3_col1, #T_2a688_row4_col0, #T_2a688_row4_col1 {\n",
       "  text-align: center;\n",
       "}\n",
       "</style>\n",
       "<table id=\"T_2a688\">\n",
       "  <thead>\n",
       "    <tr>\n",
       "      <th id=\"T_2a688_level0_col0\" class=\"col_heading level0 col0\" >Agency</th>\n",
       "      <th id=\"T_2a688_level0_col1\" class=\"col_heading level0 col1\" >Number Of Unqiue Prefix Codes</th>\n",
       "    </tr>\n",
       "  </thead>\n",
       "  <tbody>\n",
       "    <tr>\n",
       "      <td id=\"T_2a688_row0_col0\" class=\"data row0 col0\" >Orange County Transportation Authority</td>\n",
       "      <td id=\"T_2a688_row0_col1\" class=\"data row0 col1\" >16</td>\n",
       "    </tr>\n",
       "    <tr>\n",
       "      <td id=\"T_2a688_row1_col0\" class=\"data row1 col0\" >Anaheim</td>\n",
       "      <td id=\"T_2a688_row1_col1\" class=\"data row1 col1\" >13</td>\n",
       "    </tr>\n",
       "    <tr>\n",
       "      <td id=\"T_2a688_row2_col0\" class=\"data row2 col0\" >Orange County</td>\n",
       "      <td id=\"T_2a688_row2_col1\" class=\"data row2 col1\" >11</td>\n",
       "    </tr>\n",
       "    <tr>\n",
       "      <td id=\"T_2a688_row3_col0\" class=\"data row3 col0\" >Santa Ana</td>\n",
       "      <td id=\"T_2a688_row3_col1\" class=\"data row3 col1\" >11</td>\n",
       "    </tr>\n",
       "    <tr>\n",
       "      <td id=\"T_2a688_row4_col0\" class=\"data row4 col0\" >Costa Mesa</td>\n",
       "      <td id=\"T_2a688_row4_col1\" class=\"data row4 col1\" >8</td>\n",
       "    </tr>\n",
       "  </tbody>\n",
       "</table>\n"
      ],
      "text/plain": [
       "<IPython.core.display.HTML object>"
      ]
     },
     "metadata": {},
     "output_type": "display_data"
    },
    {
     "data": {
      "text/html": [
       "<h4>Number of Unique Agencies by Prefix Codes</h4>"
      ],
      "text/plain": [
       "<IPython.core.display.HTML object>"
      ]
     },
     "metadata": {},
     "output_type": "display_data"
    },
    {
     "data": {
      "text/html": [
       "<style type=\"text/css\">\n",
       "#T_f87de th {\n",
       "  text-align: center;\n",
       "}\n",
       "#T_f87de_row0_col0, #T_f87de_row0_col1, #T_f87de_row1_col0, #T_f87de_row1_col1, #T_f87de_row2_col0, #T_f87de_row2_col1, #T_f87de_row3_col0, #T_f87de_row3_col1, #T_f87de_row4_col0, #T_f87de_row4_col1 {\n",
       "  text-align: center;\n",
       "}\n",
       "</style>\n",
       "<table id=\"T_f87de\">\n",
       "  <thead>\n",
       "    <tr>\n",
       "      <th id=\"T_f87de_level0_col0\" class=\"col_heading level0 col0\" >Prefix</th>\n",
       "      <th id=\"T_f87de_level0_col1\" class=\"col_heading level0 col1\" >Number Of Unqiue Agencies</th>\n",
       "    </tr>\n",
       "  </thead>\n",
       "  <tbody>\n",
       "    <tr>\n",
       "      <td id=\"T_f87de_row0_col0\" class=\"data row0 col0\" >STPL</td>\n",
       "      <td id=\"T_f87de_row0_col1\" class=\"data row0 col1\" >30</td>\n",
       "    </tr>\n",
       "    <tr>\n",
       "      <td id=\"T_f87de_row1_col0\" class=\"data row1 col0\" >HSIPL</td>\n",
       "      <td id=\"T_f87de_row1_col1\" class=\"data row1 col1\" >16</td>\n",
       "    </tr>\n",
       "    <tr>\n",
       "      <td id=\"T_f87de_row2_col0\" class=\"data row2 col0\" >CML</td>\n",
       "      <td id=\"T_f87de_row2_col1\" class=\"data row2 col1\" >14</td>\n",
       "    </tr>\n",
       "    <tr>\n",
       "      <td id=\"T_f87de_row3_col0\" class=\"data row3 col0\" >RPSTPL</td>\n",
       "      <td id=\"T_f87de_row3_col1\" class=\"data row3 col1\" >10</td>\n",
       "    </tr>\n",
       "    <tr>\n",
       "      <td id=\"T_f87de_row4_col0\" class=\"data row4 col0\" >SRTSL</td>\n",
       "      <td id=\"T_f87de_row4_col1\" class=\"data row4 col1\" >7</td>\n",
       "    </tr>\n",
       "  </tbody>\n",
       "</table>\n"
      ],
      "text/plain": [
       "<IPython.core.display.HTML object>"
      ]
     },
     "metadata": {},
     "output_type": "display_data"
    },
    {
     "data": {
      "text/html": [
       "<h4>Top 5 Types of Work</h4>"
      ],
      "text/plain": [
       "<IPython.core.display.HTML object>"
      ]
     },
     "metadata": {},
     "output_type": "display_data"
    },
    {
     "data": {
      "text/html": [
       "<style type=\"text/css\">\n",
       "#T_390c5 th {\n",
       "  text-align: center;\n",
       "}\n",
       "#T_390c5_row0_col0, #T_390c5_row1_col0, #T_390c5_row2_col0, #T_390c5_row3_col0, #T_390c5_row4_col0 {\n",
       "  text-align: center;\n",
       "}\n",
       "</style>\n",
       "<table id=\"T_390c5\">\n",
       "  <thead>\n",
       "    <tr>\n",
       "      <th id=\"T_390c5_level0_col0\" class=\"col_heading level0 col0\" >Type Of Work</th>\n",
       "    </tr>\n",
       "  </thead>\n",
       "  <tbody>\n",
       "    <tr>\n",
       "      <td id=\"T_390c5_row0_col0\" class=\"data row0 col0\" >Road Rehabilitation</td>\n",
       "    </tr>\n",
       "    <tr>\n",
       "      <td id=\"T_390c5_row1_col0\" class=\"data row1 col0\" >FTA Transfer</td>\n",
       "    </tr>\n",
       "    <tr>\n",
       "      <td id=\"T_390c5_row2_col0\" class=\"data row2 col0\" >Left-turn Signal Phasing</td>\n",
       "    </tr>\n",
       "    <tr>\n",
       "      <td id=\"T_390c5_row3_col0\" class=\"data row3 col0\" >Install Protected Left Turn Signal Phasing</td>\n",
       "    </tr>\n",
       "    <tr>\n",
       "      <td id=\"T_390c5_row4_col0\" class=\"data row4 col0\" >Install Signal Interconnect Conduit And Upgrade Intersection Traffic Signals </td>\n",
       "    </tr>\n",
       "  </tbody>\n",
       "</table>\n"
      ],
      "text/plain": [
       "<IPython.core.display.HTML object>"
      ]
     },
     "metadata": {},
     "output_type": "display_data"
    }
   ],
   "source": [
    "display(HTML(\"<h3>Quick Stats</h3>\"))\n",
    "\n",
    "display(\n",
    "    HTML(\n",
    "        f\"There are <strong>{(df.primary_agency_name.nunique())} Unique Agencies</strong>\"\n",
    "    )\n",
    ")\n",
    "\n",
    "transit = df >> filter(_.transit == 1)\n",
    "\n",
    "def find_transit(df):\n",
    "    if (len(transit)) == 0: \n",
    "        return display((HTML(f\"Out of <strong>{len(df):,}</strong> obligations,\" \n",
    "                             f\" there are <strong>0 transit realted</strong> project types\")))\n",
    "    \n",
    "    else:\n",
    "        return display(\n",
    "            HTML(\n",
    "                f\"Out of <strong>{len(df):,}</strong> obligations, <strong>{len(transit)} have \"\n",
    "                f\"transit-related</strong> project types\"\n",
    "                f\"<br><strong>{(transit>>count(_.primary_agency_name)>>arrange(-_.n)).iloc[0, 0]}</strong> \"\n",
    "                f\"has the <strong>highest transit</strong> obligations\"\n",
    "            ))\n",
    "    \n",
    "find_transit(df)\n",
    "\n",
    "q = df >> count(_.primary_agency_name) >> arrange(_.n)\n",
    "\n",
    "q2 = q.n.quantile(0.95)\n",
    "\n",
    "display(\n",
    "    HTML(\n",
    "        f\"There are <strong>{len(q>>filter(_.n> (q2)))} agencies have over {('%.2f'%(q2))}</strong> \" \n",
    "        f\"obligations (95th percentile) since {(df.prepared_y.min())}\"\n",
    "    )\n",
    ")\n",
    "\n",
    "q3 = q.n.quantile(0.1)\n",
    "display(\n",
    "    HTML(\n",
    "        (\n",
    "            f\"There are <strong>{len(q>>filter(_.n< (q3)))} agencies have less than\"\n",
    "            f\" {('%.2f'%(q3))}</strong> obligations (5th percentile) since {(df.prepared_y.min())}\"\n",
    "        )\n",
    "    )\n",
    ")\n",
    "\n",
    "## tables\n",
    "display(HTML(\"<h4>Number of Unique Prefix Codes by Agency</h4>\"))\n",
    "nunique_prefix_codes = ((_dla_utils.get_nunique(df, \"prefix\", \"primary_agency_name\"))\n",
    "                        .rename(columns={\"primary_agency_name\": \"Agency\", \"n\": \"Number of Unqiue Prefix Codes\"})\n",
    "                        .head(5))\n",
    "display(HTML(_dla_utils.pretify_tables(nunique_prefix_codes)))\n",
    "\n",
    "display(HTML(\"<h4>Number of Unique Agencies by Prefix Codes</h4>\"))\n",
    "prefix_codes = ((_dla_utils.get_nunique(df, \"primary_agency_name\", \"prefix\"))\n",
    "                .rename(columns={\"prefix\": \"Prefix\", \"n\": \"Number of Unqiue Agencies\"})\n",
    "                .head(5))\n",
    "display(HTML(_dla_utils.pretify_tables(prefix_codes)))\n",
    "\n",
    "\n",
    "display(HTML(\"<h4>Top 5 Types of Work</h4>\"))\n",
    "work_types = (\n",
    "    (df >> count(_.type_of_work) >> arrange(-_.n) >> select(_.type_of_work))\n",
    "    .rename(columns={\"type_of_work\": \"Type of Work\"})\n",
    "    .head(5)\n",
    ")\n",
    "display(HTML(_dla_utils.pretify_tables(work_types)))\n",
    "# get rid of index using:\n",
    "## https://stackoverflow.com/questions/24644656/how-to-print-pandas-dataframe-without-index\n"
   ]
  },
  {
   "cell_type": "markdown",
   "id": "52a161a2-876a-4b42-9c93-3221dce17638",
   "metadata": {
    "papermill": {
     "duration": 0.022319,
     "end_time": "2022-06-02T22:25:35.441771",
     "exception": false,
     "start_time": "2022-06-02T22:25:35.419452",
     "status": "completed"
    },
    "tags": []
   },
   "source": [
    "## Obligations"
   ]
  },
  {
   "cell_type": "markdown",
   "id": "c9d55b3c-f6b6-4980-957c-77d458068fe3",
   "metadata": {
    "papermill": {
     "duration": 0.021677,
     "end_time": "2022-06-02T22:25:35.485037",
     "exception": false,
     "start_time": "2022-06-02T22:25:35.463360",
     "status": "completed"
    },
    "tags": []
   },
   "source": [
    "<hr style=\"height: 2px; background-color:#136C97; border: none\">"
   ]
  },
  {
   "cell_type": "markdown",
   "id": "379b61e3-1c1b-4683-b78f-8dee0683f064",
   "metadata": {
    "papermill": {
     "duration": 0.021422,
     "end_time": "2022-06-02T22:25:35.533400",
     "exception": false,
     "start_time": "2022-06-02T22:25:35.511978",
     "status": "completed"
    },
    "tags": []
   },
   "source": [
    "Obligations indicate a unique entry in the E-76 dataset. By counting the obligations for each year, district, and organization, we can see what the volume each as well which organizations are the most and last frequent customers. \n",
    "\n",
    "Metrics:\n",
    "* Obligations by Year\n",
    "* Number of Unique Agencies by District\n",
    "* Agencies With The Most Obligations"
   ]
  },
  {
   "cell_type": "markdown",
   "id": "81ad520b-db91-45b8-a598-a6577cccc24e",
   "metadata": {
    "papermill": {
     "duration": 0.028076,
     "end_time": "2022-06-02T22:25:35.585925",
     "exception": false,
     "start_time": "2022-06-02T22:25:35.557849",
     "status": "completed"
    },
    "tags": []
   },
   "source": [
    "### Number of Obligations by Year"
   ]
  },
  {
   "cell_type": "code",
   "execution_count": 8,
   "id": "ae85287b-0772-4595-8ea2-ccba83dd22cf",
   "metadata": {
    "execution": {
     "iopub.execute_input": "2022-06-02T22:25:35.634049Z",
     "iopub.status.busy": "2022-06-02T22:25:35.633695Z",
     "iopub.status.idle": "2022-06-02T22:25:35.668117Z",
     "shell.execute_reply": "2022-06-02T22:25:35.667220Z"
    },
    "jupyter": {
     "source_hidden": true
    },
    "papermill": {
     "duration": 0.061866,
     "end_time": "2022-06-02T22:25:35.671052",
     "exception": false,
     "start_time": "2022-06-02T22:25:35.609186",
     "status": "completed"
    },
    "tags": [
     "remove_input"
    ]
   },
   "outputs": [
    {
     "data": {
      "text/html": [
       "\n",
       "<div id=\"altair-viz-2d053b850ca7487a90976b4c297d9d6f\"></div>\n",
       "<script type=\"text/javascript\">\n",
       "  var VEGA_DEBUG = (typeof VEGA_DEBUG == \"undefined\") ? {} : VEGA_DEBUG;\n",
       "  (function(spec, embedOpt){\n",
       "    let outputDiv = document.currentScript.previousElementSibling;\n",
       "    if (outputDiv.id !== \"altair-viz-2d053b850ca7487a90976b4c297d9d6f\") {\n",
       "      outputDiv = document.getElementById(\"altair-viz-2d053b850ca7487a90976b4c297d9d6f\");\n",
       "    }\n",
       "    const paths = {\n",
       "      \"vega\": \"https://cdn.jsdelivr.net/npm//vega@5?noext\",\n",
       "      \"vega-lib\": \"https://cdn.jsdelivr.net/npm//vega-lib?noext\",\n",
       "      \"vega-lite\": \"https://cdn.jsdelivr.net/npm//vega-lite@4.17.0?noext\",\n",
       "      \"vega-embed\": \"https://cdn.jsdelivr.net/npm//vega-embed@6?noext\",\n",
       "    };\n",
       "\n",
       "    function maybeLoadScript(lib, version) {\n",
       "      var key = `${lib.replace(\"-\", \"\")}_version`;\n",
       "      return (VEGA_DEBUG[key] == version) ?\n",
       "        Promise.resolve(paths[lib]) :\n",
       "        new Promise(function(resolve, reject) {\n",
       "          var s = document.createElement('script');\n",
       "          document.getElementsByTagName(\"head\")[0].appendChild(s);\n",
       "          s.async = true;\n",
       "          s.onload = () => {\n",
       "            VEGA_DEBUG[key] = version;\n",
       "            return resolve(paths[lib]);\n",
       "          };\n",
       "          s.onerror = () => reject(`Error loading script: ${paths[lib]}`);\n",
       "          s.src = paths[lib];\n",
       "        });\n",
       "    }\n",
       "\n",
       "    function showError(err) {\n",
       "      outputDiv.innerHTML = `<div class=\"error\" style=\"color:red;\">${err}</div>`;\n",
       "      throw err;\n",
       "    }\n",
       "\n",
       "    function displayChart(vegaEmbed) {\n",
       "      vegaEmbed(outputDiv, spec, embedOpt)\n",
       "        .catch(err => showError(`Javascript Error: ${err.message}<br>This usually means there's a typo in your chart specification. See the javascript console for the full traceback.`));\n",
       "    }\n",
       "\n",
       "    if(typeof define === \"function\" && define.amd) {\n",
       "      requirejs.config({paths});\n",
       "      require([\"vega-embed\"], displayChart, err => showError(`Error loading script: ${err.message}`));\n",
       "    } else {\n",
       "      maybeLoadScript(\"vega\", \"5\")\n",
       "        .then(() => maybeLoadScript(\"vega-lite\", \"4.17.0\"))\n",
       "        .then(() => maybeLoadScript(\"vega-embed\", \"6\"))\n",
       "        .catch(showError)\n",
       "        .then(() => displayChart(vegaEmbed));\n",
       "    }\n",
       "  })({\"config\": {\"view\": {\"continuousWidth\": 400, \"continuousHeight\": 300}, \"axis\": {\"domainColor\": \"#cbcbcb\", \"grid\": true, \"gridColor\": \"#cbcbcb\", \"gridWidth\": 1, \"labelColor\": \"#474747\", \"labelFont\": \"Nunito Sans\", \"labelFontSize\": 10, \"labelPadding\": 4, \"tickColor\": \"#cbcbcb\", \"tickSize\": 10, \"titleColor\": \"#333\", \"titleFont\": \"Raleway\", \"titleFontSize\": 12, \"titlePadding\": 10}, \"axisBand\": {\"grid\": false}, \"background\": \"white\", \"font\": \"Raleway\", \"header\": {\"labelFont\": \"Nunito Sans\", \"titleFont\": \"Raleway\"}, \"legend\": {\"labelColor\": \"#333\", \"labelFont\": \"Nunito Sans\", \"labelFontSize\": 11, \"labelLimit\": 0, \"padding\": 1, \"symbolSize\": 30, \"symbolType\": \"square\", \"titleColor\": \"#333\", \"titleFont\": \"Raleway\", \"titleFontSize\": 14, \"titlePadding\": 10}, \"title\": {\"anchor\": \"middle\", \"font\": \"Raleway\", \"fontSize\": 18, \"fontWeight\": 300, \"offset\": 20}}, \"data\": {\"name\": \"data-31e1800fed9d6d4d24d2e36a9cd2e284\"}, \"mark\": \"line\", \"encoding\": {\"tooltip\": [{\"field\": \"Year\", \"title\": \"Year\", \"type\": \"quantitative\"}, {\"field\": \"count\", \"title\": \"Count\", \"type\": \"quantitative\"}], \"x\": {\"field\": \"Year\", \"title\": \"Prepared Year\", \"type\": \"ordinal\"}, \"y\": {\"field\": \"count\", \"title\": \"Count\", \"type\": \"quantitative\"}}, \"height\": 250, \"width\": 400, \"$schema\": \"https://vega.github.io/schema/vega-lite/v4.17.0.json\", \"datasets\": {\"data-31e1800fed9d6d4d24d2e36a9cd2e284\": [{\"Year\": 2018.0, \"count\": 111, \"variable\": \"prepared_y\"}, {\"Year\": 2016.0, \"count\": 103, \"variable\": \"prepared_y\"}, {\"Year\": 2020.0, \"count\": 93, \"variable\": \"prepared_y\"}, {\"Year\": 2019.0, \"count\": 83, \"variable\": \"prepared_y\"}, {\"Year\": 2021.0, \"count\": 81, \"variable\": \"prepared_y\"}, {\"Year\": 2014.0, \"count\": 73, \"variable\": \"prepared_y\"}, {\"Year\": 2015.0, \"count\": 71, \"variable\": \"prepared_y\"}, {\"Year\": 2017.0, \"count\": 49, \"variable\": \"prepared_y\"}, {\"Year\": 2022.0, \"count\": 26, \"variable\": \"prepared_y\"}, {\"Year\": 2013.0, \"count\": 18, \"variable\": \"prepared_y\"}]}}, {\"mode\": \"vega-lite\"});\n",
       "</script>"
      ],
      "text/plain": [
       "alt.Chart(...)"
      ]
     },
     "metadata": {},
     "output_type": "display_data"
    }
   ],
   "source": [
    " #Line chart for Obligations by Year\n",
    "chart_df = (df_top>>filter(_.variable=='prepared_y')).rename(columns= {\"value\":\"Year\"})\n",
    "    \n",
    "chart1= (_dla_utils.basic_line_chart_test_no_save(chart_df, 'Year', 'count', district)).encode(x=alt.X('Year:O', title='Prepared Year'))\n",
    "display(chart1)"
   ]
  },
  {
   "cell_type": "markdown",
   "id": "ff0a6bf9-ddc9-4b6c-b2e1-77de18cf6f80",
   "metadata": {
    "papermill": {
     "duration": 0.024677,
     "end_time": "2022-06-02T22:25:35.726026",
     "exception": false,
     "start_time": "2022-06-02T22:25:35.701349",
     "status": "completed"
    },
    "tags": []
   },
   "source": [
    "### Number of Unique Agencies by District"
   ]
  },
  {
   "cell_type": "code",
   "execution_count": 9,
   "id": "0bc7e34d-545e-4afd-92e9-a17630d0ae89",
   "metadata": {
    "execution": {
     "iopub.execute_input": "2022-06-02T22:25:35.779843Z",
     "iopub.status.busy": "2022-06-02T22:25:35.778919Z",
     "iopub.status.idle": "2022-06-02T22:25:35.836075Z",
     "shell.execute_reply": "2022-06-02T22:25:35.834873Z"
    },
    "jupyter": {
     "source_hidden": true
    },
    "papermill": {
     "duration": 0.090026,
     "end_time": "2022-06-02T22:25:35.839424",
     "exception": false,
     "start_time": "2022-06-02T22:25:35.749398",
     "status": "completed"
    },
    "tags": [
     "remove_input"
    ]
   },
   "outputs": [
    {
     "data": {
      "text/html": [
       "\n",
       "<div id=\"altair-viz-caa7c8ff75d042ef95827269c13996d3\"></div>\n",
       "<script type=\"text/javascript\">\n",
       "  var VEGA_DEBUG = (typeof VEGA_DEBUG == \"undefined\") ? {} : VEGA_DEBUG;\n",
       "  (function(spec, embedOpt){\n",
       "    let outputDiv = document.currentScript.previousElementSibling;\n",
       "    if (outputDiv.id !== \"altair-viz-caa7c8ff75d042ef95827269c13996d3\") {\n",
       "      outputDiv = document.getElementById(\"altair-viz-caa7c8ff75d042ef95827269c13996d3\");\n",
       "    }\n",
       "    const paths = {\n",
       "      \"vega\": \"https://cdn.jsdelivr.net/npm//vega@5?noext\",\n",
       "      \"vega-lib\": \"https://cdn.jsdelivr.net/npm//vega-lib?noext\",\n",
       "      \"vega-lite\": \"https://cdn.jsdelivr.net/npm//vega-lite@4.17.0?noext\",\n",
       "      \"vega-embed\": \"https://cdn.jsdelivr.net/npm//vega-embed@6?noext\",\n",
       "    };\n",
       "\n",
       "    function maybeLoadScript(lib, version) {\n",
       "      var key = `${lib.replace(\"-\", \"\")}_version`;\n",
       "      return (VEGA_DEBUG[key] == version) ?\n",
       "        Promise.resolve(paths[lib]) :\n",
       "        new Promise(function(resolve, reject) {\n",
       "          var s = document.createElement('script');\n",
       "          document.getElementsByTagName(\"head\")[0].appendChild(s);\n",
       "          s.async = true;\n",
       "          s.onload = () => {\n",
       "            VEGA_DEBUG[key] = version;\n",
       "            return resolve(paths[lib]);\n",
       "          };\n",
       "          s.onerror = () => reject(`Error loading script: ${paths[lib]}`);\n",
       "          s.src = paths[lib];\n",
       "        });\n",
       "    }\n",
       "\n",
       "    function showError(err) {\n",
       "      outputDiv.innerHTML = `<div class=\"error\" style=\"color:red;\">${err}</div>`;\n",
       "      throw err;\n",
       "    }\n",
       "\n",
       "    function displayChart(vegaEmbed) {\n",
       "      vegaEmbed(outputDiv, spec, embedOpt)\n",
       "        .catch(err => showError(`Javascript Error: ${err.message}<br>This usually means there's a typo in your chart specification. See the javascript console for the full traceback.`));\n",
       "    }\n",
       "\n",
       "    if(typeof define === \"function\" && define.amd) {\n",
       "      requirejs.config({paths});\n",
       "      require([\"vega-embed\"], displayChart, err => showError(`Error loading script: ${err.message}`));\n",
       "    } else {\n",
       "      maybeLoadScript(\"vega\", \"5\")\n",
       "        .then(() => maybeLoadScript(\"vega-lite\", \"4.17.0\"))\n",
       "        .then(() => maybeLoadScript(\"vega-embed\", \"6\"))\n",
       "        .catch(showError)\n",
       "        .then(() => displayChart(vegaEmbed));\n",
       "    }\n",
       "  })({\"config\": {\"view\": {\"continuousWidth\": 400, \"continuousHeight\": 300}, \"axis\": {\"domainColor\": \"#cbcbcb\", \"grid\": true, \"gridColor\": \"#cbcbcb\", \"gridWidth\": 1, \"labelColor\": \"#474747\", \"labelFont\": \"Nunito Sans\", \"labelFontSize\": 10, \"labelPadding\": 4, \"tickColor\": \"#cbcbcb\", \"tickSize\": 10, \"titleColor\": \"#333\", \"titleFont\": \"Raleway\", \"titleFontSize\": 12, \"titlePadding\": 10}, \"axisBand\": {\"grid\": false}, \"background\": \"white\", \"font\": \"Raleway\", \"header\": {\"labelFont\": \"Nunito Sans\", \"titleFont\": \"Raleway\"}, \"legend\": {\"labelColor\": \"#333\", \"labelFont\": \"Nunito Sans\", \"labelFontSize\": 11, \"labelLimit\": 0, \"padding\": 1, \"symbolSize\": 30, \"symbolType\": \"square\", \"titleColor\": \"#333\", \"titleFont\": \"Raleway\", \"titleFontSize\": 14, \"titlePadding\": 10}, \"title\": {\"anchor\": \"middle\", \"font\": \"Raleway\", \"fontSize\": 18, \"fontWeight\": 300, \"offset\": 20}}, \"data\": {\"name\": \"data-8910692139c1494dfa894bc9f1ef297f\"}, \"mark\": \"bar\", \"encoding\": {\"color\": {\"field\": \"District\", \"legend\": {\"title\": \"Prepared Year\"}, \"scale\": {\"range\": [\"#B9D6DF\", \"#8CBCCB\", \"#2EA8CE\", \"#136C97\", \"#0B405B\"]}, \"type\": \"nominal\"}, \"column\": {\"field\": \"District\", \"type\": \"nominal\"}, \"tooltip\": [{\"field\": \"prepared_y\", \"title\": \"Year\", \"type\": \"nominal\"}, {\"field\": \"Count\", \"title\": \"Count\", \"type\": \"quantitative\"}], \"x\": {\"field\": \"prepared_y\", \"title\": \"Prepared Year\", \"type\": \"ordinal\"}, \"y\": {\"field\": \"Count\", \"title\": \"Number of Unique Agencies\", \"type\": \"quantitative\"}}, \"height\": 250, \"width\": 400, \"$schema\": \"https://vega.github.io/schema/vega-lite/v4.17.0.json\", \"datasets\": {\"data-8910692139c1494dfa894bc9f1ef297f\": [{\"prepared_y\": \"2022\", \"District\": 12, \"Count\": 11}, {\"prepared_y\": \"2021\", \"District\": 12, \"Count\": 19}, {\"prepared_y\": \"2020\", \"District\": 12, \"Count\": 16}, {\"prepared_y\": \"2019\", \"District\": 12, \"Count\": 21}, {\"prepared_y\": \"2018\", \"District\": 12, \"Count\": 28}, {\"prepared_y\": \"2017\", \"District\": 12, \"Count\": 13}, {\"prepared_y\": \"2016\", \"District\": 12, \"Count\": 29}, {\"prepared_y\": \"2015\", \"District\": 12, \"Count\": 18}, {\"prepared_y\": \"2014\", \"District\": 12, \"Count\": 25}, {\"prepared_y\": \"2013\", \"District\": 12, \"Count\": 9}]}}, {\"mode\": \"vega-lite\"});\n",
       "</script>"
      ],
      "text/plain": [
       "alt.Chart(...)"
      ]
     },
     "metadata": {},
     "output_type": "display_data"
    }
   ],
   "source": [
    "# Unique Agencies by Dist\n",
    "dist_years_agency = ((\n",
    "        df\n",
    "        >> group_by(_.prepared_y, _.dist)\n",
    "        >> summarize(n=_.primary_agency_name.nunique())\n",
    "        >> arrange(-_.prepared_y)\n",
    "    )\n",
    "        .rename(columns={'dist':'District', 'n':'Count'})\n",
    "    )\n",
    "chart10 = (alt.Chart(dist_years_agency).mark_bar().encode(\n",
    "        column='District:N',\n",
    "        x=alt.X('prepared_y:O', title='Prepared Year'),\n",
    "        y=alt.Y('Count:Q', title='Number of Unique Agencies'),\n",
    "        color = alt.Color(\"District:N\", \n",
    "                              scale=alt.Scale(\n",
    "                                  range=altair_utils.CALITP_SEQUENTIAL_COLORS),  \n",
    "                               legend=alt.Legend(title=\"Prepared Year\")\n",
    "                              )))\n",
    "                              \n",
    "chart10 = styleguide.preset_chart_config(chart10)\n",
    "chart10 = _dla_utils.add_tooltip(chart10, 'prepared_y', 'Count')\n",
    "\n",
    "display(chart10)"
   ]
  },
  {
   "cell_type": "markdown",
   "id": "70c59c39-590d-4136-aa09-ee6ed5afc872",
   "metadata": {
    "papermill": {
     "duration": 0.032539,
     "end_time": "2022-06-02T22:25:35.896297",
     "exception": false,
     "start_time": "2022-06-02T22:25:35.863758",
     "status": "completed"
    },
    "tags": []
   },
   "source": [
    "### Agencies With The Most Obligations"
   ]
  },
  {
   "cell_type": "code",
   "execution_count": 10,
   "id": "faa4758e-8a41-44f8-aec4-b8cc4d75d906",
   "metadata": {
    "execution": {
     "iopub.execute_input": "2022-06-02T22:25:35.947436Z",
     "iopub.status.busy": "2022-06-02T22:25:35.947067Z",
     "iopub.status.idle": "2022-06-02T22:25:35.976931Z",
     "shell.execute_reply": "2022-06-02T22:25:35.976040Z"
    },
    "jupyter": {
     "source_hidden": true
    },
    "papermill": {
     "duration": 0.058131,
     "end_time": "2022-06-02T22:25:35.979204",
     "exception": false,
     "start_time": "2022-06-02T22:25:35.921073",
     "status": "completed"
    },
    "tags": [
     "remove_input"
    ]
   },
   "outputs": [
    {
     "data": {
      "text/html": [
       "\n",
       "<div id=\"altair-viz-b411b58633524c6993f33bc5163bc672\"></div>\n",
       "<script type=\"text/javascript\">\n",
       "  var VEGA_DEBUG = (typeof VEGA_DEBUG == \"undefined\") ? {} : VEGA_DEBUG;\n",
       "  (function(spec, embedOpt){\n",
       "    let outputDiv = document.currentScript.previousElementSibling;\n",
       "    if (outputDiv.id !== \"altair-viz-b411b58633524c6993f33bc5163bc672\") {\n",
       "      outputDiv = document.getElementById(\"altair-viz-b411b58633524c6993f33bc5163bc672\");\n",
       "    }\n",
       "    const paths = {\n",
       "      \"vega\": \"https://cdn.jsdelivr.net/npm//vega@5?noext\",\n",
       "      \"vega-lib\": \"https://cdn.jsdelivr.net/npm//vega-lib?noext\",\n",
       "      \"vega-lite\": \"https://cdn.jsdelivr.net/npm//vega-lite@4.17.0?noext\",\n",
       "      \"vega-embed\": \"https://cdn.jsdelivr.net/npm//vega-embed@6?noext\",\n",
       "    };\n",
       "\n",
       "    function maybeLoadScript(lib, version) {\n",
       "      var key = `${lib.replace(\"-\", \"\")}_version`;\n",
       "      return (VEGA_DEBUG[key] == version) ?\n",
       "        Promise.resolve(paths[lib]) :\n",
       "        new Promise(function(resolve, reject) {\n",
       "          var s = document.createElement('script');\n",
       "          document.getElementsByTagName(\"head\")[0].appendChild(s);\n",
       "          s.async = true;\n",
       "          s.onload = () => {\n",
       "            VEGA_DEBUG[key] = version;\n",
       "            return resolve(paths[lib]);\n",
       "          };\n",
       "          s.onerror = () => reject(`Error loading script: ${paths[lib]}`);\n",
       "          s.src = paths[lib];\n",
       "        });\n",
       "    }\n",
       "\n",
       "    function showError(err) {\n",
       "      outputDiv.innerHTML = `<div class=\"error\" style=\"color:red;\">${err}</div>`;\n",
       "      throw err;\n",
       "    }\n",
       "\n",
       "    function displayChart(vegaEmbed) {\n",
       "      vegaEmbed(outputDiv, spec, embedOpt)\n",
       "        .catch(err => showError(`Javascript Error: ${err.message}<br>This usually means there's a typo in your chart specification. See the javascript console for the full traceback.`));\n",
       "    }\n",
       "\n",
       "    if(typeof define === \"function\" && define.amd) {\n",
       "      requirejs.config({paths});\n",
       "      require([\"vega-embed\"], displayChart, err => showError(`Error loading script: ${err.message}`));\n",
       "    } else {\n",
       "      maybeLoadScript(\"vega\", \"5\")\n",
       "        .then(() => maybeLoadScript(\"vega-lite\", \"4.17.0\"))\n",
       "        .then(() => maybeLoadScript(\"vega-embed\", \"6\"))\n",
       "        .catch(showError)\n",
       "        .then(() => displayChart(vegaEmbed));\n",
       "    }\n",
       "  })({\"config\": {\"view\": {\"continuousWidth\": 400, \"continuousHeight\": 300}, \"axis\": {\"domainColor\": \"#cbcbcb\", \"grid\": true, \"gridColor\": \"#cbcbcb\", \"gridWidth\": 1, \"labelColor\": \"#474747\", \"labelFont\": \"Nunito Sans\", \"labelFontSize\": 10, \"labelPadding\": 4, \"tickColor\": \"#cbcbcb\", \"tickSize\": 10, \"titleColor\": \"#333\", \"titleFont\": \"Raleway\", \"titleFontSize\": 12, \"titlePadding\": 10}, \"axisBand\": {\"grid\": false}, \"background\": \"white\", \"font\": \"Raleway\", \"header\": {\"labelFont\": \"Nunito Sans\", \"titleFont\": \"Raleway\"}, \"legend\": {\"labelColor\": \"#333\", \"labelFont\": \"Nunito Sans\", \"labelFontSize\": 11, \"labelLimit\": 0, \"padding\": 1, \"symbolSize\": 30, \"symbolType\": \"square\", \"titleColor\": \"#333\", \"titleFont\": \"Raleway\", \"titleFontSize\": 14, \"titlePadding\": 10}, \"title\": {\"anchor\": \"middle\", \"font\": \"Raleway\", \"fontSize\": 18, \"fontWeight\": 300, \"offset\": 20}}, \"data\": {\"name\": \"data-d5eb78c166e1ff6bb8ab7e48e1f54734\"}, \"mark\": \"bar\", \"encoding\": {\"color\": {\"field\": \"Agency\", \"legend\": {\"symbolLimit\": 10, \"title\": \"Agency\"}, \"scale\": {\"range\": [\"#2EA8CE\", \"#EB9F3C\", \"#F4D837\", \"#51BF9D\", \"#8CBCCB\", \"#9487C0\"]}, \"type\": \"nominal\"}, \"tooltip\": [{\"field\": \"Agency\", \"title\": \"Agency\", \"type\": \"nominal\"}, {\"field\": \"Number of Obligations\", \"title\": \"Number Of Obligations\", \"type\": \"quantitative\"}], \"x\": {\"field\": \"Agency\", \"sort\": \"-y\", \"title\": \"Agency\", \"type\": \"nominal\"}, \"y\": {\"field\": \"Number of Obligations\", \"title\": \"Number Of Obligations\", \"type\": \"quantitative\"}}, \"height\": 250, \"width\": 400, \"$schema\": \"https://vega.github.io/schema/vega-lite/v4.17.0.json\", \"datasets\": {\"data-d5eb78c166e1ff6bb8ab7e48e1f54734\": [{\"Agency\": \"Santa Ana\", \"Number of Obligations\": 101, \"variable\": \"primary_agency_name\"}, {\"Agency\": \"Orange County Transportation Authority\", \"Number of Obligations\": 97, \"variable\": \"primary_agency_name\"}, {\"Agency\": \"Orange\", \"Number of Obligations\": 64, \"variable\": \"primary_agency_name\"}, {\"Agency\": \"Huntington Beach\", \"Number of Obligations\": 62, \"variable\": \"primary_agency_name\"}, {\"Agency\": \"Orange County\", \"Number of Obligations\": 49, \"variable\": \"primary_agency_name\"}, {\"Agency\": \"Costa Mesa\", \"Number of Obligations\": 45, \"variable\": \"primary_agency_name\"}, {\"Agency\": \"Anaheim\", \"Number of Obligations\": 42, \"variable\": \"primary_agency_name\"}, {\"Agency\": \"Garden Grove\", \"Number of Obligations\": 34, \"variable\": \"primary_agency_name\"}, {\"Agency\": \"Irvine\", \"Number of Obligations\": 20, \"variable\": \"primary_agency_name\"}, {\"Agency\": \"Fullerton\", \"Number of Obligations\": 17, \"variable\": \"primary_agency_name\"}, {\"Agency\": \"Brea\", \"Number of Obligations\": 16, \"variable\": \"primary_agency_name\"}, {\"Agency\": \"Westminster\", \"Number of Obligations\": 16, \"variable\": \"primary_agency_name\"}, {\"Agency\": \"Caltrans\", \"Number of Obligations\": 15, \"variable\": \"primary_agency_name\"}, {\"Agency\": \"Mission Viejo\", \"Number of Obligations\": 15, \"variable\": \"primary_agency_name\"}, {\"Agency\": \"Newport Beach\", \"Number of Obligations\": 13, \"variable\": \"primary_agency_name\"}, {\"Agency\": \"Rancho Santa Margarita\", \"Number of Obligations\": 11, \"variable\": \"primary_agency_name\"}, {\"Agency\": \"La Habra\", \"Number of Obligations\": 10, \"variable\": \"primary_agency_name\"}, {\"Agency\": \"Placentia\", \"Number of Obligations\": 10, \"variable\": \"primary_agency_name\"}, {\"Agency\": \"San Juan Capistrano\", \"Number of Obligations\": 9, \"variable\": \"primary_agency_name\"}, {\"Agency\": \"Seal Beach\", \"Number of Obligations\": 9, \"variable\": \"primary_agency_name\"}]}}, {\"mode\": \"vega-lite\"});\n",
       "</script>"
      ],
      "text/plain": [
       "alt.Chart(...)"
      ]
     },
     "metadata": {},
     "output_type": "display_data"
    }
   ],
   "source": [
    "#Bar chart Agencies With The Most Obligations\n",
    "chart_df = (df_top>>filter(_.variable=='primary_agency_name')).rename(columns={\"value\":\"Agency\",\n",
    "                                 \"count\":\"Number of Obligations\"})\n",
    "chart2 = (_dla_utils.basic_bar_chart_no_save(chart_df, 'Agency', 'Number of Obligations', 'Agency', district))\n",
    "    \n",
    "\n",
    "display(chart2)\n"
   ]
  },
  {
   "cell_type": "markdown",
   "id": "5a3bed5f-4325-47af-9cc7-683f9872817f",
   "metadata": {
    "papermill": {
     "duration": 0.026745,
     "end_time": "2022-06-02T22:25:36.041169",
     "exception": false,
     "start_time": "2022-06-02T22:25:36.014424",
     "status": "completed"
    },
    "tags": []
   },
   "source": [
    "## Prefix Codes"
   ]
  },
  {
   "cell_type": "markdown",
   "id": "339b20d8-68c6-43bd-8aaf-491772bc0995",
   "metadata": {
    "papermill": {
     "duration": 0.033077,
     "end_time": "2022-06-02T22:25:36.099295",
     "exception": false,
     "start_time": "2022-06-02T22:25:36.066218",
     "status": "completed"
    },
    "tags": []
   },
   "source": [
    "<hr style=\"height: 2px; background-color:#8CBCCB; border: none\">\n"
   ]
  },
  {
   "cell_type": "markdown",
   "id": "cfded756-3c93-4089-be41-68e19d28b304",
   "metadata": {
    "papermill": {
     "duration": 0.025318,
     "end_time": "2022-06-02T22:25:36.157711",
     "exception": false,
     "start_time": "2022-06-02T22:25:36.132393",
     "status": "completed"
    },
    "tags": []
   },
   "source": [
    "Prefix Codes refer to the program an obligation is in. Similar to the number of obligations, calcuating the unique prefix codes provides insight to how many progams DLA is involved in each year as well as workload at the district and organization level.\n",
    "\n",
    "Metrics: \n",
    "* Number of Unique Prefix Codes by Districts\n",
    "* Most Used Prefix Codes\n",
    "* Agencies With The Most Unique Prefix Codes"
   ]
  },
  {
   "cell_type": "markdown",
   "id": "f8cb2832-947d-4631-9b4c-c81fb118cab3",
   "metadata": {
    "papermill": {
     "duration": 0.024341,
     "end_time": "2022-06-02T22:25:36.205831",
     "exception": false,
     "start_time": "2022-06-02T22:25:36.181490",
     "status": "completed"
    },
    "tags": []
   },
   "source": [
    "### Number of Unique Prefix Codes by District"
   ]
  },
  {
   "cell_type": "code",
   "execution_count": 11,
   "id": "f661bd63-f8aa-4048-b035-03d5bf1b7e95",
   "metadata": {
    "execution": {
     "iopub.execute_input": "2022-06-02T22:25:36.258341Z",
     "iopub.status.busy": "2022-06-02T22:25:36.257923Z",
     "iopub.status.idle": "2022-06-02T22:25:36.311306Z",
     "shell.execute_reply": "2022-06-02T22:25:36.310402Z"
    },
    "jupyter": {
     "source_hidden": true
    },
    "papermill": {
     "duration": 0.082768,
     "end_time": "2022-06-02T22:25:36.313512",
     "exception": false,
     "start_time": "2022-06-02T22:25:36.230744",
     "status": "completed"
    },
    "tags": [
     "remove_input"
    ]
   },
   "outputs": [
    {
     "data": {
      "text/html": [
       "\n",
       "<div id=\"altair-viz-573fb8e55619406b8bcb762ab265dc3b\"></div>\n",
       "<script type=\"text/javascript\">\n",
       "  var VEGA_DEBUG = (typeof VEGA_DEBUG == \"undefined\") ? {} : VEGA_DEBUG;\n",
       "  (function(spec, embedOpt){\n",
       "    let outputDiv = document.currentScript.previousElementSibling;\n",
       "    if (outputDiv.id !== \"altair-viz-573fb8e55619406b8bcb762ab265dc3b\") {\n",
       "      outputDiv = document.getElementById(\"altair-viz-573fb8e55619406b8bcb762ab265dc3b\");\n",
       "    }\n",
       "    const paths = {\n",
       "      \"vega\": \"https://cdn.jsdelivr.net/npm//vega@5?noext\",\n",
       "      \"vega-lib\": \"https://cdn.jsdelivr.net/npm//vega-lib?noext\",\n",
       "      \"vega-lite\": \"https://cdn.jsdelivr.net/npm//vega-lite@4.17.0?noext\",\n",
       "      \"vega-embed\": \"https://cdn.jsdelivr.net/npm//vega-embed@6?noext\",\n",
       "    };\n",
       "\n",
       "    function maybeLoadScript(lib, version) {\n",
       "      var key = `${lib.replace(\"-\", \"\")}_version`;\n",
       "      return (VEGA_DEBUG[key] == version) ?\n",
       "        Promise.resolve(paths[lib]) :\n",
       "        new Promise(function(resolve, reject) {\n",
       "          var s = document.createElement('script');\n",
       "          document.getElementsByTagName(\"head\")[0].appendChild(s);\n",
       "          s.async = true;\n",
       "          s.onload = () => {\n",
       "            VEGA_DEBUG[key] = version;\n",
       "            return resolve(paths[lib]);\n",
       "          };\n",
       "          s.onerror = () => reject(`Error loading script: ${paths[lib]}`);\n",
       "          s.src = paths[lib];\n",
       "        });\n",
       "    }\n",
       "\n",
       "    function showError(err) {\n",
       "      outputDiv.innerHTML = `<div class=\"error\" style=\"color:red;\">${err}</div>`;\n",
       "      throw err;\n",
       "    }\n",
       "\n",
       "    function displayChart(vegaEmbed) {\n",
       "      vegaEmbed(outputDiv, spec, embedOpt)\n",
       "        .catch(err => showError(`Javascript Error: ${err.message}<br>This usually means there's a typo in your chart specification. See the javascript console for the full traceback.`));\n",
       "    }\n",
       "\n",
       "    if(typeof define === \"function\" && define.amd) {\n",
       "      requirejs.config({paths});\n",
       "      require([\"vega-embed\"], displayChart, err => showError(`Error loading script: ${err.message}`));\n",
       "    } else {\n",
       "      maybeLoadScript(\"vega\", \"5\")\n",
       "        .then(() => maybeLoadScript(\"vega-lite\", \"4.17.0\"))\n",
       "        .then(() => maybeLoadScript(\"vega-embed\", \"6\"))\n",
       "        .catch(showError)\n",
       "        .then(() => displayChart(vegaEmbed));\n",
       "    }\n",
       "  })({\"config\": {\"view\": {\"continuousWidth\": 400, \"continuousHeight\": 300}, \"axis\": {\"domainColor\": \"#cbcbcb\", \"grid\": true, \"gridColor\": \"#cbcbcb\", \"gridWidth\": 1, \"labelColor\": \"#474747\", \"labelFont\": \"Nunito Sans\", \"labelFontSize\": 10, \"labelPadding\": 4, \"tickColor\": \"#cbcbcb\", \"tickSize\": 10, \"titleColor\": \"#333\", \"titleFont\": \"Raleway\", \"titleFontSize\": 12, \"titlePadding\": 10}, \"axisBand\": {\"grid\": false}, \"background\": \"white\", \"font\": \"Raleway\", \"header\": {\"labelFont\": \"Nunito Sans\", \"titleFont\": \"Raleway\"}, \"legend\": {\"labelColor\": \"#333\", \"labelFont\": \"Nunito Sans\", \"labelFontSize\": 11, \"labelLimit\": 0, \"padding\": 1, \"symbolSize\": 30, \"symbolType\": \"square\", \"titleColor\": \"#333\", \"titleFont\": \"Raleway\", \"titleFontSize\": 14, \"titlePadding\": 10}, \"title\": {\"anchor\": \"middle\", \"font\": \"Raleway\", \"fontSize\": 18, \"fontWeight\": 300, \"offset\": 20}}, \"data\": {\"name\": \"data-f030e9baa409e300421721dfa80ae9a3\"}, \"mark\": \"bar\", \"encoding\": {\"color\": {\"field\": \"District\", \"legend\": {\"title\": \"District\"}, \"scale\": {\"range\": [\"#B9D6DF\", \"#8CBCCB\", \"#2EA8CE\", \"#136C97\", \"#0B405B\"]}, \"type\": \"nominal\"}, \"column\": {\"field\": \"District\", \"type\": \"nominal\"}, \"tooltip\": [{\"field\": \"prepared_y\", \"title\": \"Prepared Year\", \"type\": \"nominal\"}, {\"field\": \"Count\", \"title\": \"Number\", \"type\": \"quantitative\"}], \"x\": {\"field\": \"prepared_y\", \"title\": \"Prepared Year\", \"type\": \"ordinal\"}, \"y\": {\"field\": \"Count\", \"title\": \"Number of Unique Agencies\", \"type\": \"quantitative\"}}, \"height\": 250, \"width\": 400, \"$schema\": \"https://vega.github.io/schema/vega-lite/v4.17.0.json\", \"datasets\": {\"data-f030e9baa409e300421721dfa80ae9a3\": [{\"prepared_y\": \"2022\", \"District\": 12, \"Count\": 9}, {\"prepared_y\": \"2021\", \"District\": 12, \"Count\": 19}, {\"prepared_y\": \"2020\", \"District\": 12, \"Count\": 19}, {\"prepared_y\": \"2019\", \"District\": 12, \"Count\": 18}, {\"prepared_y\": \"2018\", \"District\": 12, \"Count\": 19}, {\"prepared_y\": \"2017\", \"District\": 12, \"Count\": 15}, {\"prepared_y\": \"2016\", \"District\": 12, \"Count\": 16}, {\"prepared_y\": \"2015\", \"District\": 12, \"Count\": 16}, {\"prepared_y\": \"2014\", \"District\": 12, \"Count\": 17}, {\"prepared_y\": \"2013\", \"District\": 12, \"Count\": 9}]}}, {\"mode\": \"vega-lite\"});\n",
       "</script>"
      ],
      "text/plain": [
       "alt.Chart(...)"
      ]
     },
     "metadata": {},
     "output_type": "display_data"
    }
   ],
   "source": [
    "#Unique Prefixes by Dist\n",
    "dist_years_prefix = ((\n",
    "        df\n",
    "        >> group_by(_.prepared_y, _.dist)\n",
    "        >> summarize(n=_.prefix.nunique())\n",
    "        >> arrange(-_.prepared_y)\n",
    "    ).rename(columns={'dist':'District', 'n':'Count'}))\n",
    "\n",
    "chart11 = (alt.Chart(dist_years_prefix).mark_bar().encode(\n",
    "        column='District:N',\n",
    "        x=alt.X('prepared_y:O', title='Prepared Year'),\n",
    "        y=alt.Y('Count:Q', title='Number of Unique Agencies'),\n",
    "        color = alt.Color(\"District:N\", \n",
    "                              scale=alt.Scale(\n",
    "                                  range=altair_utils.CALITP_SEQUENTIAL_COLORS),  \n",
    "                               legend=alt.Legend(title=\"District\")\n",
    "                              ),\n",
    "       # tooltip=[alt.Tooltip('prepared_y', title='Prepared Year'), \n",
    "       #         alt.Tooltip('Count', title='Number')],\n",
    "                              ))\n",
    "chart11 = styleguide.preset_chart_config(chart11)\n",
    "#chart11 = _dla_utils.add_tooltip(chart11, 'prepared_y','Count')\n",
    "chart11 = chart11.encode(tooltip=[alt.Tooltip('prepared_y', title='Prepared Year'), \n",
    "                alt.Tooltip('Count', title='Number')])\n",
    "    \n",
    "\n",
    "display(chart11)"
   ]
  },
  {
   "cell_type": "markdown",
   "id": "c52b3650-9c49-4ab9-a72d-52ecf36d4b7a",
   "metadata": {
    "papermill": {
     "duration": 0.02788,
     "end_time": "2022-06-02T22:25:36.373317",
     "exception": false,
     "start_time": "2022-06-02T22:25:36.345437",
     "status": "completed"
    },
    "tags": []
   },
   "source": [
    "### Most Used Prefix Codes"
   ]
  },
  {
   "cell_type": "code",
   "execution_count": 12,
   "id": "0aca2d9a-062a-4c12-9489-5f9de10f3462",
   "metadata": {
    "execution": {
     "iopub.execute_input": "2022-06-02T22:25:36.431866Z",
     "iopub.status.busy": "2022-06-02T22:25:36.431244Z",
     "iopub.status.idle": "2022-06-02T22:25:36.459380Z",
     "shell.execute_reply": "2022-06-02T22:25:36.458398Z"
    },
    "jupyter": {
     "source_hidden": true
    },
    "papermill": {
     "duration": 0.059865,
     "end_time": "2022-06-02T22:25:36.461586",
     "exception": false,
     "start_time": "2022-06-02T22:25:36.401721",
     "status": "completed"
    },
    "tags": [
     "remove_input"
    ]
   },
   "outputs": [
    {
     "data": {
      "text/html": [
       "\n",
       "<div id=\"altair-viz-2387bae9b5214b20822a9877a9507903\"></div>\n",
       "<script type=\"text/javascript\">\n",
       "  var VEGA_DEBUG = (typeof VEGA_DEBUG == \"undefined\") ? {} : VEGA_DEBUG;\n",
       "  (function(spec, embedOpt){\n",
       "    let outputDiv = document.currentScript.previousElementSibling;\n",
       "    if (outputDiv.id !== \"altair-viz-2387bae9b5214b20822a9877a9507903\") {\n",
       "      outputDiv = document.getElementById(\"altair-viz-2387bae9b5214b20822a9877a9507903\");\n",
       "    }\n",
       "    const paths = {\n",
       "      \"vega\": \"https://cdn.jsdelivr.net/npm//vega@5?noext\",\n",
       "      \"vega-lib\": \"https://cdn.jsdelivr.net/npm//vega-lib?noext\",\n",
       "      \"vega-lite\": \"https://cdn.jsdelivr.net/npm//vega-lite@4.17.0?noext\",\n",
       "      \"vega-embed\": \"https://cdn.jsdelivr.net/npm//vega-embed@6?noext\",\n",
       "    };\n",
       "\n",
       "    function maybeLoadScript(lib, version) {\n",
       "      var key = `${lib.replace(\"-\", \"\")}_version`;\n",
       "      return (VEGA_DEBUG[key] == version) ?\n",
       "        Promise.resolve(paths[lib]) :\n",
       "        new Promise(function(resolve, reject) {\n",
       "          var s = document.createElement('script');\n",
       "          document.getElementsByTagName(\"head\")[0].appendChild(s);\n",
       "          s.async = true;\n",
       "          s.onload = () => {\n",
       "            VEGA_DEBUG[key] = version;\n",
       "            return resolve(paths[lib]);\n",
       "          };\n",
       "          s.onerror = () => reject(`Error loading script: ${paths[lib]}`);\n",
       "          s.src = paths[lib];\n",
       "        });\n",
       "    }\n",
       "\n",
       "    function showError(err) {\n",
       "      outputDiv.innerHTML = `<div class=\"error\" style=\"color:red;\">${err}</div>`;\n",
       "      throw err;\n",
       "    }\n",
       "\n",
       "    function displayChart(vegaEmbed) {\n",
       "      vegaEmbed(outputDiv, spec, embedOpt)\n",
       "        .catch(err => showError(`Javascript Error: ${err.message}<br>This usually means there's a typo in your chart specification. See the javascript console for the full traceback.`));\n",
       "    }\n",
       "\n",
       "    if(typeof define === \"function\" && define.amd) {\n",
       "      requirejs.config({paths});\n",
       "      require([\"vega-embed\"], displayChart, err => showError(`Error loading script: ${err.message}`));\n",
       "    } else {\n",
       "      maybeLoadScript(\"vega\", \"5\")\n",
       "        .then(() => maybeLoadScript(\"vega-lite\", \"4.17.0\"))\n",
       "        .then(() => maybeLoadScript(\"vega-embed\", \"6\"))\n",
       "        .catch(showError)\n",
       "        .then(() => displayChart(vegaEmbed));\n",
       "    }\n",
       "  })({\"config\": {\"view\": {\"continuousWidth\": 400, \"continuousHeight\": 300}, \"axis\": {\"domainColor\": \"#cbcbcb\", \"grid\": true, \"gridColor\": \"#cbcbcb\", \"gridWidth\": 1, \"labelColor\": \"#474747\", \"labelFont\": \"Nunito Sans\", \"labelFontSize\": 10, \"labelPadding\": 4, \"tickColor\": \"#cbcbcb\", \"tickSize\": 10, \"titleColor\": \"#333\", \"titleFont\": \"Raleway\", \"titleFontSize\": 12, \"titlePadding\": 10}, \"axisBand\": {\"grid\": false}, \"background\": \"white\", \"font\": \"Raleway\", \"header\": {\"labelFont\": \"Nunito Sans\", \"titleFont\": \"Raleway\"}, \"legend\": {\"labelColor\": \"#333\", \"labelFont\": \"Nunito Sans\", \"labelFontSize\": 11, \"labelLimit\": 0, \"padding\": 1, \"symbolSize\": 30, \"symbolType\": \"square\", \"titleColor\": \"#333\", \"titleFont\": \"Raleway\", \"titleFontSize\": 14, \"titlePadding\": 10}, \"title\": {\"anchor\": \"middle\", \"font\": \"Raleway\", \"fontSize\": 18, \"fontWeight\": 300, \"offset\": 20}}, \"data\": {\"name\": \"data-ad3891bf0808a819f8dde828278fcf55\"}, \"mark\": \"bar\", \"encoding\": {\"color\": {\"field\": \"Prefix\", \"legend\": {\"symbolLimit\": 10, \"title\": \"Prefix\"}, \"scale\": {\"range\": [\"#2EA8CE\", \"#EB9F3C\", \"#F4D837\", \"#51BF9D\", \"#8CBCCB\", \"#9487C0\"]}, \"type\": \"nominal\"}, \"tooltip\": [{\"field\": \"Prefix\", \"title\": \"Prefix\", \"type\": \"nominal\"}, {\"field\": \"Number of Obligations\", \"title\": \"Number Of Obligations\", \"type\": \"quantitative\"}], \"x\": {\"field\": \"Prefix\", \"sort\": \"-y\", \"title\": \"Prefix\", \"type\": \"nominal\"}, \"y\": {\"field\": \"Number of Obligations\", \"title\": \"Number Of Obligations\", \"type\": \"quantitative\"}}, \"height\": 250, \"width\": 400, \"$schema\": \"https://vega.github.io/schema/vega-lite/v4.17.0.json\", \"datasets\": {\"data-ad3891bf0808a819f8dde828278fcf55\": [{\"Prefix\": \"HSIPL\", \"Number of Obligations\": 245, \"variable\": \"prefix\"}, {\"Prefix\": \"STPL\", \"Number of Obligations\": 100, \"variable\": \"prefix\"}, {\"Prefix\": \"CML\", \"Number of Obligations\": 77, \"variable\": \"prefix\"}, {\"Prefix\": \"STPLN\", \"Number of Obligations\": 38, \"variable\": \"prefix\"}, {\"Prefix\": \"BPMPL\", \"Number of Obligations\": 29, \"variable\": \"prefix\"}, {\"Prefix\": \"CMLN\", \"Number of Obligations\": 27, \"variable\": \"prefix\"}, {\"Prefix\": \"FTACML\", \"Number of Obligations\": 24, \"variable\": \"prefix\"}, {\"Prefix\": \"RPSTPL\", \"Number of Obligations\": 24, \"variable\": \"prefix\"}, {\"Prefix\": \"SRTSL\", \"Number of Obligations\": 21, \"variable\": \"prefix\"}, {\"Prefix\": \"ATPL\", \"Number of Obligations\": 17, \"variable\": \"prefix\"}, {\"Prefix\": \"BRLS\", \"Number of Obligations\": 12, \"variable\": \"prefix\"}, {\"Prefix\": \"BRLO\", \"Number of Obligations\": 11, \"variable\": \"prefix\"}, {\"Prefix\": \"ATPCML\", \"Number of Obligations\": 6, \"variable\": \"prefix\"}, {\"Prefix\": \"CMHPLULN\", \"Number of Obligations\": 6, \"variable\": \"prefix\"}, {\"Prefix\": \"CMSTPLN\", \"Number of Obligations\": 5, \"variable\": \"prefix\"}, {\"Prefix\": \"HP21L\", \"Number of Obligations\": 5, \"variable\": \"prefix\"}, {\"Prefix\": \"HRRRL\", \"Number of Obligations\": 5, \"variable\": \"prefix\"}, {\"Prefix\": \"ATPSB1L\", \"Number of Obligations\": 4, \"variable\": \"prefix\"}, {\"Prefix\": \"PNRSCML\", \"Number of Obligations\": 4, \"variable\": \"prefix\"}, {\"Prefix\": \"SRTSLNI\", \"Number of Obligations\": 4, \"variable\": \"prefix\"}]}}, {\"mode\": \"vega-lite\"});\n",
       "</script>"
      ],
      "text/plain": [
       "alt.Chart(...)"
      ]
     },
     "metadata": {},
     "output_type": "display_data"
    }
   ],
   "source": [
    "#Bar chart with the Most Used Prefix Counts\n",
    "chart_df = (df_top>>filter(_.variable=='prefix')).rename(columns={\"value\":\"Prefix\",\n",
    "                                 \"count\":\"Number of Obligations\"})\n",
    "chart9= (_dla_utils.basic_bar_chart_no_save(chart_df, 'Prefix', 'Number of Obligations', 'Prefix', district))\n",
    "    \n",
    "\n",
    "display(chart9)\n",
    "    "
   ]
  },
  {
   "cell_type": "markdown",
   "id": "46030e63-c1ae-4834-b538-b09937074207",
   "metadata": {
    "papermill": {
     "duration": 0.027792,
     "end_time": "2022-06-02T22:25:36.522838",
     "exception": false,
     "start_time": "2022-06-02T22:25:36.495046",
     "status": "completed"
    },
    "tags": []
   },
   "source": [
    "### Agencies With The Most Unique Prefix Codes"
   ]
  },
  {
   "cell_type": "code",
   "execution_count": 13,
   "id": "3d21c9b2-833b-463a-9a03-a9c83d727d2e",
   "metadata": {
    "execution": {
     "iopub.execute_input": "2022-06-02T22:25:36.578058Z",
     "iopub.status.busy": "2022-06-02T22:25:36.577289Z",
     "iopub.status.idle": "2022-06-02T22:25:36.633123Z",
     "shell.execute_reply": "2022-06-02T22:25:36.632242Z"
    },
    "jupyter": {
     "source_hidden": true
    },
    "papermill": {
     "duration": 0.086965,
     "end_time": "2022-06-02T22:25:36.635210",
     "exception": false,
     "start_time": "2022-06-02T22:25:36.548245",
     "status": "completed"
    },
    "tags": [
     "remove_input"
    ]
   },
   "outputs": [
    {
     "data": {
      "text/html": [
       "\n",
       "<div id=\"altair-viz-ea96cad3ac604d738446b41db82a7501\"></div>\n",
       "<script type=\"text/javascript\">\n",
       "  var VEGA_DEBUG = (typeof VEGA_DEBUG == \"undefined\") ? {} : VEGA_DEBUG;\n",
       "  (function(spec, embedOpt){\n",
       "    let outputDiv = document.currentScript.previousElementSibling;\n",
       "    if (outputDiv.id !== \"altair-viz-ea96cad3ac604d738446b41db82a7501\") {\n",
       "      outputDiv = document.getElementById(\"altair-viz-ea96cad3ac604d738446b41db82a7501\");\n",
       "    }\n",
       "    const paths = {\n",
       "      \"vega\": \"https://cdn.jsdelivr.net/npm//vega@5?noext\",\n",
       "      \"vega-lib\": \"https://cdn.jsdelivr.net/npm//vega-lib?noext\",\n",
       "      \"vega-lite\": \"https://cdn.jsdelivr.net/npm//vega-lite@4.17.0?noext\",\n",
       "      \"vega-embed\": \"https://cdn.jsdelivr.net/npm//vega-embed@6?noext\",\n",
       "    };\n",
       "\n",
       "    function maybeLoadScript(lib, version) {\n",
       "      var key = `${lib.replace(\"-\", \"\")}_version`;\n",
       "      return (VEGA_DEBUG[key] == version) ?\n",
       "        Promise.resolve(paths[lib]) :\n",
       "        new Promise(function(resolve, reject) {\n",
       "          var s = document.createElement('script');\n",
       "          document.getElementsByTagName(\"head\")[0].appendChild(s);\n",
       "          s.async = true;\n",
       "          s.onload = () => {\n",
       "            VEGA_DEBUG[key] = version;\n",
       "            return resolve(paths[lib]);\n",
       "          };\n",
       "          s.onerror = () => reject(`Error loading script: ${paths[lib]}`);\n",
       "          s.src = paths[lib];\n",
       "        });\n",
       "    }\n",
       "\n",
       "    function showError(err) {\n",
       "      outputDiv.innerHTML = `<div class=\"error\" style=\"color:red;\">${err}</div>`;\n",
       "      throw err;\n",
       "    }\n",
       "\n",
       "    function displayChart(vegaEmbed) {\n",
       "      vegaEmbed(outputDiv, spec, embedOpt)\n",
       "        .catch(err => showError(`Javascript Error: ${err.message}<br>This usually means there's a typo in your chart specification. See the javascript console for the full traceback.`));\n",
       "    }\n",
       "\n",
       "    if(typeof define === \"function\" && define.amd) {\n",
       "      requirejs.config({paths});\n",
       "      require([\"vega-embed\"], displayChart, err => showError(`Error loading script: ${err.message}`));\n",
       "    } else {\n",
       "      maybeLoadScript(\"vega\", \"5\")\n",
       "        .then(() => maybeLoadScript(\"vega-lite\", \"4.17.0\"))\n",
       "        .then(() => maybeLoadScript(\"vega-embed\", \"6\"))\n",
       "        .catch(showError)\n",
       "        .then(() => displayChart(vegaEmbed));\n",
       "    }\n",
       "  })({\"config\": {\"view\": {\"continuousWidth\": 400, \"continuousHeight\": 300}, \"axis\": {\"domainColor\": \"#cbcbcb\", \"grid\": true, \"gridColor\": \"#cbcbcb\", \"gridWidth\": 1, \"labelColor\": \"#474747\", \"labelFont\": \"Nunito Sans\", \"labelFontSize\": 10, \"labelPadding\": 4, \"tickColor\": \"#cbcbcb\", \"tickSize\": 10, \"titleColor\": \"#333\", \"titleFont\": \"Raleway\", \"titleFontSize\": 12, \"titlePadding\": 10}, \"axisBand\": {\"grid\": false}, \"background\": \"white\", \"font\": \"Raleway\", \"header\": {\"labelFont\": \"Nunito Sans\", \"titleFont\": \"Raleway\"}, \"legend\": {\"labelColor\": \"#333\", \"labelFont\": \"Nunito Sans\", \"labelFontSize\": 11, \"labelLimit\": 0, \"padding\": 1, \"symbolSize\": 30, \"symbolType\": \"square\", \"titleColor\": \"#333\", \"titleFont\": \"Raleway\", \"titleFontSize\": 14, \"titlePadding\": 10}, \"title\": {\"anchor\": \"middle\", \"font\": \"Raleway\", \"fontSize\": 18, \"fontWeight\": 300, \"offset\": 20}}, \"data\": {\"name\": \"data-d955e7d4a08ccea06e5763d360949937\"}, \"mark\": \"bar\", \"encoding\": {\"color\": {\"field\": \"primary_agency_name\", \"legend\": {\"symbolLimit\": 10, \"title\": \"Agency\"}, \"scale\": {\"range\": [\"#2EA8CE\", \"#EB9F3C\", \"#F4D837\", \"#51BF9D\", \"#8CBCCB\", \"#9487C0\"]}, \"type\": \"nominal\"}, \"tooltip\": [{\"field\": \"primary_agency_name\", \"title\": \"Agency\", \"type\": \"nominal\"}, {\"field\": \"n\", \"title\": \"Count\", \"type\": \"quantitative\"}], \"x\": {\"field\": \"primary_agency_name\", \"sort\": \"-y\", \"title\": \"Agency\", \"type\": \"nominal\"}, \"y\": {\"field\": \"n\", \"title\": \"Count\", \"type\": \"quantitative\"}}, \"height\": 250, \"width\": 400, \"$schema\": \"https://vega.github.io/schema/vega-lite/v4.17.0.json\", \"datasets\": {\"data-d955e7d4a08ccea06e5763d360949937\": [{\"primary_agency_name\": \"Orange County Transportation Authority\", \"n\": 16}, {\"primary_agency_name\": \"Anaheim\", \"n\": 13}, {\"primary_agency_name\": \"Orange County\", \"n\": 11}, {\"primary_agency_name\": \"Santa Ana\", \"n\": 11}, {\"primary_agency_name\": \"Costa Mesa\", \"n\": 8}, {\"primary_agency_name\": \"Mission Viejo\", \"n\": 8}, {\"primary_agency_name\": \"Irvine\", \"n\": 7}, {\"primary_agency_name\": \"Brea\", \"n\": 6}, {\"primary_agency_name\": \"Garden Grove\", \"n\": 5}, {\"primary_agency_name\": \"Huntington Beach\", \"n\": 5}, {\"primary_agency_name\": \"Fullerton\", \"n\": 4}, {\"primary_agency_name\": \"Orange\", \"n\": 4}, {\"primary_agency_name\": \"Placentia\", \"n\": 4}, {\"primary_agency_name\": \"Newport Beach\", \"n\": 3}, {\"primary_agency_name\": \"Rancho Santa Margarita\", \"n\": 3}, {\"primary_agency_name\": \"San Juan Capistrano\", \"n\": 3}, {\"primary_agency_name\": \"Seal Beach\", \"n\": 3}, {\"primary_agency_name\": \"Westminster\", \"n\": 3}, {\"primary_agency_name\": \"Caltrans\", \"n\": 2}, {\"primary_agency_name\": \"Dana Point\", \"n\": 2}, {\"primary_agency_name\": \"Fountain Valley\", \"n\": 2}, {\"primary_agency_name\": \"La Habra\", \"n\": 2}, {\"primary_agency_name\": \"La Palma\", \"n\": 2}, {\"primary_agency_name\": \"Laguna Niguel\", \"n\": 2}, {\"primary_agency_name\": \"Morro Bay\", \"n\": 2}, {\"primary_agency_name\": \"San Clemente\", \"n\": 2}, {\"primary_agency_name\": \"Yorba Linda\", \"n\": 2}, {\"primary_agency_name\": \"Buena Park\", \"n\": 1}, {\"primary_agency_name\": \"Cypress\", \"n\": 1}, {\"primary_agency_name\": \"Foothill Eastern Transportation Corridor\", \"n\": 1}]}}, {\"mode\": \"vega-lite\"});\n",
       "</script>"
      ],
      "text/plain": [
       "alt.Chart(...)"
      ]
     },
     "metadata": {},
     "output_type": "display_data"
    }
   ],
   "source": [
    "#Bar chart Agencies With The Most Unique Prefix Codes\n",
    "    \n",
    "chart3 = (_dla_utils.basic_bar_chart_no_save(((_dla_utils.get_nunique(df, 'prefix', 'primary_agency_name')).head(30)),\n",
    "                            'primary_agency_name', 'n', 'primary_agency_name', district))\n",
    "    \n",
    "display(chart3)"
   ]
  },
  {
   "cell_type": "markdown",
   "id": "409d25d0-88ee-4eff-ae1f-ca9127618b4d",
   "metadata": {
    "papermill": {
     "duration": 0.030548,
     "end_time": "2022-06-02T22:25:36.691860",
     "exception": false,
     "start_time": "2022-06-02T22:25:36.661312",
     "status": "completed"
    },
    "tags": []
   },
   "source": [
    "## Funding Distributions"
   ]
  },
  {
   "cell_type": "markdown",
   "id": "4ffab2b2-4af7-476b-abe1-8c6c2534b3fb",
   "metadata": {
    "papermill": {
     "duration": 0.025997,
     "end_time": "2022-06-02T22:25:36.743899",
     "exception": false,
     "start_time": "2022-06-02T22:25:36.717902",
     "status": "completed"
    },
    "tags": []
   },
   "source": [
    "<hr style=\"height: 2px; background-color:#136C97; border: none\">"
   ]
  },
  {
   "cell_type": "markdown",
   "id": "eacca297-667a-4649-b6ac-351e81729e0d",
   "metadata": {
    "papermill": {
     "duration": 0.038277,
     "end_time": "2022-06-02T22:25:36.810305",
     "exception": false,
     "start_time": "2022-06-02T22:25:36.772028",
     "status": "completed"
    },
    "tags": []
   },
   "source": [
    "With each E-76, three types of funding amounts are included in the obligations: \n",
    "* Total Requested (`total_requested`)\n",
    "* Advance Construction Requested (`ac_requested`)\n",
    "* Federal Requested (`fed_requested`)\n",
    "\n",
    "Using this information, we can determine how much on average an organization recieves with these funds, and the distribution of the funds.\n",
    "\n",
    "\n",
    "Metrics:\n",
    "* Average Total Requested Funds by Agency\n",
    "* Lowest Average Total Funds by Agency\n",
    "* Average Total Requested Funds by Prefix"
   ]
  },
  {
   "cell_type": "markdown",
   "id": "d3caa5e9-9126-4572-8140-f81543c7d26a",
   "metadata": {
    "papermill": {
     "duration": 0.029524,
     "end_time": "2022-06-02T22:25:36.876479",
     "exception": false,
     "start_time": "2022-06-02T22:25:36.846955",
     "status": "completed"
    },
    "tags": []
   },
   "source": [
    "### Average Total Requested Funds by Agency ($2021)"
   ]
  },
  {
   "cell_type": "code",
   "execution_count": 14,
   "id": "3745ca4d-8dd4-4c09-b46b-a2f6db6358ad",
   "metadata": {
    "execution": {
     "iopub.execute_input": "2022-06-02T22:25:36.942207Z",
     "iopub.status.busy": "2022-06-02T22:25:36.941852Z",
     "iopub.status.idle": "2022-06-02T22:25:36.976116Z",
     "shell.execute_reply": "2022-06-02T22:25:36.975175Z"
    },
    "jupyter": {
     "source_hidden": true
    },
    "papermill": {
     "duration": 0.067489,
     "end_time": "2022-06-02T22:25:36.978227",
     "exception": false,
     "start_time": "2022-06-02T22:25:36.910738",
     "status": "completed"
    },
    "tags": [
     "remove_input"
    ]
   },
   "outputs": [
    {
     "data": {
      "text/html": [
       "\n",
       "<div id=\"altair-viz-e30837b0895441c5844df33c06fd95e7\"></div>\n",
       "<script type=\"text/javascript\">\n",
       "  var VEGA_DEBUG = (typeof VEGA_DEBUG == \"undefined\") ? {} : VEGA_DEBUG;\n",
       "  (function(spec, embedOpt){\n",
       "    let outputDiv = document.currentScript.previousElementSibling;\n",
       "    if (outputDiv.id !== \"altair-viz-e30837b0895441c5844df33c06fd95e7\") {\n",
       "      outputDiv = document.getElementById(\"altair-viz-e30837b0895441c5844df33c06fd95e7\");\n",
       "    }\n",
       "    const paths = {\n",
       "      \"vega\": \"https://cdn.jsdelivr.net/npm//vega@5?noext\",\n",
       "      \"vega-lib\": \"https://cdn.jsdelivr.net/npm//vega-lib?noext\",\n",
       "      \"vega-lite\": \"https://cdn.jsdelivr.net/npm//vega-lite@4.17.0?noext\",\n",
       "      \"vega-embed\": \"https://cdn.jsdelivr.net/npm//vega-embed@6?noext\",\n",
       "    };\n",
       "\n",
       "    function maybeLoadScript(lib, version) {\n",
       "      var key = `${lib.replace(\"-\", \"\")}_version`;\n",
       "      return (VEGA_DEBUG[key] == version) ?\n",
       "        Promise.resolve(paths[lib]) :\n",
       "        new Promise(function(resolve, reject) {\n",
       "          var s = document.createElement('script');\n",
       "          document.getElementsByTagName(\"head\")[0].appendChild(s);\n",
       "          s.async = true;\n",
       "          s.onload = () => {\n",
       "            VEGA_DEBUG[key] = version;\n",
       "            return resolve(paths[lib]);\n",
       "          };\n",
       "          s.onerror = () => reject(`Error loading script: ${paths[lib]}`);\n",
       "          s.src = paths[lib];\n",
       "        });\n",
       "    }\n",
       "\n",
       "    function showError(err) {\n",
       "      outputDiv.innerHTML = `<div class=\"error\" style=\"color:red;\">${err}</div>`;\n",
       "      throw err;\n",
       "    }\n",
       "\n",
       "    function displayChart(vegaEmbed) {\n",
       "      vegaEmbed(outputDiv, spec, embedOpt)\n",
       "        .catch(err => showError(`Javascript Error: ${err.message}<br>This usually means there's a typo in your chart specification. See the javascript console for the full traceback.`));\n",
       "    }\n",
       "\n",
       "    if(typeof define === \"function\" && define.amd) {\n",
       "      requirejs.config({paths});\n",
       "      require([\"vega-embed\"], displayChart, err => showError(`Error loading script: ${err.message}`));\n",
       "    } else {\n",
       "      maybeLoadScript(\"vega\", \"5\")\n",
       "        .then(() => maybeLoadScript(\"vega-lite\", \"4.17.0\"))\n",
       "        .then(() => maybeLoadScript(\"vega-embed\", \"6\"))\n",
       "        .catch(showError)\n",
       "        .then(() => displayChart(vegaEmbed));\n",
       "    }\n",
       "  })({\"config\": {\"view\": {\"continuousWidth\": 400, \"continuousHeight\": 300}, \"axis\": {\"domainColor\": \"#cbcbcb\", \"grid\": true, \"gridColor\": \"#cbcbcb\", \"gridWidth\": 1, \"labelColor\": \"#474747\", \"labelFont\": \"Nunito Sans\", \"labelFontSize\": 10, \"labelPadding\": 4, \"tickColor\": \"#cbcbcb\", \"tickSize\": 10, \"titleColor\": \"#333\", \"titleFont\": \"Raleway\", \"titleFontSize\": 12, \"titlePadding\": 10}, \"axisBand\": {\"grid\": false}, \"background\": \"white\", \"font\": \"Raleway\", \"header\": {\"labelFont\": \"Nunito Sans\", \"titleFont\": \"Raleway\"}, \"legend\": {\"labelColor\": \"#333\", \"labelFont\": \"Nunito Sans\", \"labelFontSize\": 11, \"labelLimit\": 0, \"padding\": 1, \"symbolSize\": 30, \"symbolType\": \"square\", \"titleColor\": \"#333\", \"titleFont\": \"Raleway\", \"titleFontSize\": 14, \"titlePadding\": 10}, \"title\": {\"anchor\": \"middle\", \"font\": \"Raleway\", \"fontSize\": 18, \"fontWeight\": 300, \"offset\": 20}}, \"data\": {\"name\": \"data-41536bc5328ce99f09e60fb3df7c189d\"}, \"mark\": \"bar\", \"encoding\": {\"color\": {\"field\": \"primary_agency_name\", \"legend\": {\"symbolLimit\": 10, \"title\": \"Agency\"}, \"scale\": {\"range\": [\"#2EA8CE\", \"#EB9F3C\", \"#F4D837\", \"#51BF9D\", \"#8CBCCB\", \"#9487C0\"]}, \"type\": \"nominal\"}, \"tooltip\": [{\"field\": \"primary_agency_name\", \"title\": \"Agency\", \"type\": \"nominal\"}, {\"field\": \"adjusted_total_requested\", \"format\": \"$,.2f\", \"title\": \"Total Requested\", \"type\": \"quantitative\"}], \"x\": {\"field\": \"primary_agency_name\", \"sort\": \"-y\", \"title\": \"Agency\", \"type\": \"nominal\"}, \"y\": {\"field\": \"adjusted_total_requested\", \"title\": \"Total Requested\", \"type\": \"quantitative\"}}, \"height\": 250, \"width\": 400, \"$schema\": \"https://vega.github.io/schema/vega-lite/v4.17.0.json\", \"datasets\": {\"data-41536bc5328ce99f09e60fb3df7c189d\": [{\"primary_agency_name\": \"Orange County Transportation Authority\", \"adjusted_total_requested\": 26658393.772875313}, {\"primary_agency_name\": \"Caltrans\", \"adjusted_total_requested\": 19768111.924718022}, {\"primary_agency_name\": \"Costa Mesa\", \"adjusted_total_requested\": 1746235.1809904533}, {\"primary_agency_name\": \"Newport Beach\", \"adjusted_total_requested\": 1599938.321387898}, {\"primary_agency_name\": \"Orange County\", \"adjusted_total_requested\": 1204606.3924900559}, {\"primary_agency_name\": \"Fountain Valley\", \"adjusted_total_requested\": 1176340.378581346}, {\"primary_agency_name\": \"Brea\", \"adjusted_total_requested\": 853811.7746790565}, {\"primary_agency_name\": \"Laguna Niguel\", \"adjusted_total_requested\": 826074.4561631999}, {\"primary_agency_name\": \"Mission Viejo\", \"adjusted_total_requested\": 803424.0576452378}, {\"primary_agency_name\": \"San Clemente\", \"adjusted_total_requested\": 746634.211428366}, {\"primary_agency_name\": \"Fullerton\", \"adjusted_total_requested\": 742820.1409104319}, {\"primary_agency_name\": \"Lake Forest\", \"adjusted_total_requested\": 627595.9909850052}, {\"primary_agency_name\": \"Laguna Hills\", \"adjusted_total_requested\": 603771.5388447774}, {\"primary_agency_name\": \"Garden Grove\", \"adjusted_total_requested\": 586376.7057929616}, {\"primary_agency_name\": \"Westminster\", \"adjusted_total_requested\": 522846.75771845237}, {\"primary_agency_name\": \"Rancho Santa Margarita\", \"adjusted_total_requested\": 505276.43256088195}, {\"primary_agency_name\": \"Yorba Linda\", \"adjusted_total_requested\": 488974.3578723982}, {\"primary_agency_name\": \"Anaheim\", \"adjusted_total_requested\": 449570.6537520144}, {\"primary_agency_name\": \"Placentia\", \"adjusted_total_requested\": 417700.5503008169}, {\"primary_agency_name\": \"Santa Ana\", \"adjusted_total_requested\": 404032.5870495242}, {\"primary_agency_name\": \"Dana Point\", \"adjusted_total_requested\": 382707.898018534}, {\"primary_agency_name\": \"Morro Bay\", \"adjusted_total_requested\": 302176.40541076235}, {\"primary_agency_name\": \"Seal Beach\", \"adjusted_total_requested\": 300659.5974879822}, {\"primary_agency_name\": \"La Palma\", \"adjusted_total_requested\": 299726.4895544477}, {\"primary_agency_name\": \"Huntington Beach\", \"adjusted_total_requested\": 268251.1999584866}, {\"primary_agency_name\": \"Villa Park\", \"adjusted_total_requested\": 259197.8521813857}, {\"primary_agency_name\": \"Cypress\", \"adjusted_total_requested\": 170405.95894062385}, {\"primary_agency_name\": \"Buena Park\", \"adjusted_total_requested\": 130570.13349238093}, {\"primary_agency_name\": \"Orange\", \"adjusted_total_requested\": 127900.32690500918}, {\"primary_agency_name\": \"La Habra\", \"adjusted_total_requested\": 118543.96423788727}]}}, {\"mode\": \"vega-lite\"});\n",
       "</script>"
      ],
      "text/plain": [
       "alt.Chart(...)"
      ]
     },
     "metadata": {},
     "output_type": "display_data"
    }
   ],
   "source": [
    "#Bar chart Average Total Requested Funds by Agency\n",
    "chart4=(_dla_utils.basic_bar_chart_no_save((((_dla_utils.calculate_data_all(df, 'adjusted_total_requested', 'primary_agency_name', aggfunc=\"mean\"))\n",
    "                          >>arrange(-_.adjusted_total_requested)).head(30)\n",
    "                        ), 'primary_agency_name','adjusted_total_requested', 'primary_agency_name', district\n",
    "                       ))\n",
    "chart4=chart4.encode([alt.Tooltip('primary_agency_name', title=_dla_utils.labeling('primary_agency_name')),\n",
    "    alt.Tooltip('adjusted_total_requested', title=_dla_utils.labeling('adjusted_total_requested'), format=\"$,.2f\"),\n",
    "                          ])\n",
    "display(chart4)"
   ]
  },
  {
   "cell_type": "markdown",
   "id": "84702987-c63c-40c9-aad7-c2d8c1b8ee49",
   "metadata": {
    "papermill": {
     "duration": 0.028118,
     "end_time": "2022-06-02T22:25:37.043203",
     "exception": false,
     "start_time": "2022-06-02T22:25:37.015085",
     "status": "completed"
    },
    "tags": []
   },
   "source": [
    "### Lowest Average Total Funds by Agency ($2021)"
   ]
  },
  {
   "cell_type": "code",
   "execution_count": 15,
   "id": "ce18a74b-9908-40f8-84f1-806552936465",
   "metadata": {
    "execution": {
     "iopub.execute_input": "2022-06-02T22:25:37.134381Z",
     "iopub.status.busy": "2022-06-02T22:25:37.134067Z",
     "iopub.status.idle": "2022-06-02T22:25:37.189309Z",
     "shell.execute_reply": "2022-06-02T22:25:37.188122Z"
    },
    "jupyter": {
     "source_hidden": true
    },
    "papermill": {
     "duration": 0.115524,
     "end_time": "2022-06-02T22:25:37.192780",
     "exception": false,
     "start_time": "2022-06-02T22:25:37.077256",
     "status": "completed"
    },
    "tags": [
     "remove_input"
    ]
   },
   "outputs": [
    {
     "data": {
      "text/html": [
       "\n",
       "<div id=\"altair-viz-e7971cde9e46490d92e4e4ca909efea7\"></div>\n",
       "<script type=\"text/javascript\">\n",
       "  var VEGA_DEBUG = (typeof VEGA_DEBUG == \"undefined\") ? {} : VEGA_DEBUG;\n",
       "  (function(spec, embedOpt){\n",
       "    let outputDiv = document.currentScript.previousElementSibling;\n",
       "    if (outputDiv.id !== \"altair-viz-e7971cde9e46490d92e4e4ca909efea7\") {\n",
       "      outputDiv = document.getElementById(\"altair-viz-e7971cde9e46490d92e4e4ca909efea7\");\n",
       "    }\n",
       "    const paths = {\n",
       "      \"vega\": \"https://cdn.jsdelivr.net/npm//vega@5?noext\",\n",
       "      \"vega-lib\": \"https://cdn.jsdelivr.net/npm//vega-lib?noext\",\n",
       "      \"vega-lite\": \"https://cdn.jsdelivr.net/npm//vega-lite@4.17.0?noext\",\n",
       "      \"vega-embed\": \"https://cdn.jsdelivr.net/npm//vega-embed@6?noext\",\n",
       "    };\n",
       "\n",
       "    function maybeLoadScript(lib, version) {\n",
       "      var key = `${lib.replace(\"-\", \"\")}_version`;\n",
       "      return (VEGA_DEBUG[key] == version) ?\n",
       "        Promise.resolve(paths[lib]) :\n",
       "        new Promise(function(resolve, reject) {\n",
       "          var s = document.createElement('script');\n",
       "          document.getElementsByTagName(\"head\")[0].appendChild(s);\n",
       "          s.async = true;\n",
       "          s.onload = () => {\n",
       "            VEGA_DEBUG[key] = version;\n",
       "            return resolve(paths[lib]);\n",
       "          };\n",
       "          s.onerror = () => reject(`Error loading script: ${paths[lib]}`);\n",
       "          s.src = paths[lib];\n",
       "        });\n",
       "    }\n",
       "\n",
       "    function showError(err) {\n",
       "      outputDiv.innerHTML = `<div class=\"error\" style=\"color:red;\">${err}</div>`;\n",
       "      throw err;\n",
       "    }\n",
       "\n",
       "    function displayChart(vegaEmbed) {\n",
       "      vegaEmbed(outputDiv, spec, embedOpt)\n",
       "        .catch(err => showError(`Javascript Error: ${err.message}<br>This usually means there's a typo in your chart specification. See the javascript console for the full traceback.`));\n",
       "    }\n",
       "\n",
       "    if(typeof define === \"function\" && define.amd) {\n",
       "      requirejs.config({paths});\n",
       "      require([\"vega-embed\"], displayChart, err => showError(`Error loading script: ${err.message}`));\n",
       "    } else {\n",
       "      maybeLoadScript(\"vega\", \"5\")\n",
       "        .then(() => maybeLoadScript(\"vega-lite\", \"4.17.0\"))\n",
       "        .then(() => maybeLoadScript(\"vega-embed\", \"6\"))\n",
       "        .catch(showError)\n",
       "        .then(() => displayChart(vegaEmbed));\n",
       "    }\n",
       "  })({\"config\": {\"view\": {\"continuousWidth\": 400, \"continuousHeight\": 300}, \"axis\": {\"domainColor\": \"#cbcbcb\", \"grid\": true, \"gridColor\": \"#cbcbcb\", \"gridWidth\": 1, \"labelColor\": \"#474747\", \"labelFont\": \"Nunito Sans\", \"labelFontSize\": 10, \"labelPadding\": 4, \"tickColor\": \"#cbcbcb\", \"tickSize\": 10, \"titleColor\": \"#333\", \"titleFont\": \"Raleway\", \"titleFontSize\": 12, \"titlePadding\": 10}, \"axisBand\": {\"grid\": false}, \"background\": \"white\", \"font\": \"Raleway\", \"header\": {\"labelFont\": \"Nunito Sans\", \"titleFont\": \"Raleway\"}, \"legend\": {\"labelColor\": \"#333\", \"labelFont\": \"Nunito Sans\", \"labelFontSize\": 11, \"labelLimit\": 0, \"padding\": 1, \"symbolSize\": 30, \"symbolType\": \"square\", \"titleColor\": \"#333\", \"titleFont\": \"Raleway\", \"titleFontSize\": 14, \"titlePadding\": 10}, \"title\": {\"anchor\": \"middle\", \"font\": \"Raleway\", \"fontSize\": 18, \"fontWeight\": 300, \"offset\": 20}}, \"data\": {\"name\": \"data-0bd0940b42914d9dffbdd60af9252000\"}, \"mark\": \"bar\", \"encoding\": {\"color\": {\"field\": \"primary_agency_name\", \"legend\": {\"symbolLimit\": 10, \"title\": \"Agency\"}, \"scale\": {\"range\": [\"#2EA8CE\", \"#EB9F3C\", \"#F4D837\", \"#51BF9D\", \"#8CBCCB\", \"#9487C0\"]}, \"type\": \"nominal\"}, \"tooltip\": [{\"field\": \"primary_agency_name\", \"title\": \"Agency\", \"type\": \"nominal\"}, {\"field\": \"avg_funds\", \"format\": \"$,.2f\", \"title\": \"Average Funds\", \"type\": \"quantitative\"}], \"x\": {\"field\": \"primary_agency_name\", \"sort\": \"-y\", \"title\": \"Agency\", \"type\": \"nominal\"}, \"y\": {\"field\": \"avg_funds\", \"title\": \"Average Funds\", \"type\": \"quantitative\"}}, \"height\": 250, \"width\": 400, \"$schema\": \"https://vega.github.io/schema/vega-lite/v4.17.0.json\", \"datasets\": {\"data-0bd0940b42914d9dffbdd60af9252000\": [{\"primary_agency_name\": \"Orange County Transportation Authority\", \"avg_funds\": 26658393.772875298}, {\"primary_agency_name\": \"Caltrans\", \"avg_funds\": 19768111.92471802}, {\"primary_agency_name\": \"Costa Mesa\", \"avg_funds\": 1746235.1809904529}, {\"primary_agency_name\": \"Newport Beach\", \"avg_funds\": 1599938.321387898}, {\"primary_agency_name\": \"Orange County\", \"avg_funds\": 1204606.3924900559}, {\"primary_agency_name\": \"Fountain Valley\", \"avg_funds\": 1176340.378581346}, {\"primary_agency_name\": \"Brea\", \"avg_funds\": 853811.7746790566}, {\"primary_agency_name\": \"Laguna Niguel\", \"avg_funds\": 826074.4561631999}, {\"primary_agency_name\": \"Mission Viejo\", \"avg_funds\": 803424.0576452378}, {\"primary_agency_name\": \"San Clemente\", \"avg_funds\": 746634.211428366}, {\"primary_agency_name\": \"Fullerton\", \"avg_funds\": 742820.140910432}, {\"primary_agency_name\": \"Lake Forest\", \"avg_funds\": 627595.9909850052}, {\"primary_agency_name\": \"Laguna Hills\", \"avg_funds\": 603771.5388447774}, {\"primary_agency_name\": \"Garden Grove\", \"avg_funds\": 586376.705792962}, {\"primary_agency_name\": \"Westminster\", \"avg_funds\": 522846.75771845237}, {\"primary_agency_name\": \"Rancho Santa Margarita\", \"avg_funds\": 505276.43256088195}, {\"primary_agency_name\": \"Yorba Linda\", \"avg_funds\": 488974.3578723982}, {\"primary_agency_name\": \"Anaheim\", \"avg_funds\": 449570.65375201433}, {\"primary_agency_name\": \"Placentia\", \"avg_funds\": 417700.55030081683}, {\"primary_agency_name\": \"Santa Ana\", \"avg_funds\": 404032.5870495242}, {\"primary_agency_name\": \"Dana Point\", \"avg_funds\": 382707.898018534}, {\"primary_agency_name\": \"Morro Bay\", \"avg_funds\": 302176.40541076235}, {\"primary_agency_name\": \"Seal Beach\", \"avg_funds\": 300659.5974879822}, {\"primary_agency_name\": \"La Palma\", \"avg_funds\": 299726.4895544477}, {\"primary_agency_name\": \"Huntington Beach\", \"avg_funds\": 268251.19995848654}, {\"primary_agency_name\": \"Villa Park\", \"avg_funds\": 259197.8521813857}, {\"primary_agency_name\": \"Cypress\", \"avg_funds\": 170405.95894062385}, {\"primary_agency_name\": \"Buena Park\", \"avg_funds\": 130570.13349238093}, {\"primary_agency_name\": \"Orange\", \"avg_funds\": 127900.32690500919}, {\"primary_agency_name\": \"La Habra\", \"avg_funds\": 118543.96423788725}, {\"primary_agency_name\": \"San Juan Capistrano\", \"avg_funds\": 86122.09838328866}, {\"primary_agency_name\": \"Laguna Woods\", \"avg_funds\": 0.0572303798126444}, {\"primary_agency_name\": \"Irvine\", \"avg_funds\": -6151.347816054494}, {\"primary_agency_name\": \"Laguna Beach\", \"avg_funds\": -20243.661577202147}, {\"primary_agency_name\": \"Foothill Eastern Transportation Corridor\", \"avg_funds\": -215531.51042302858}, {\"primary_agency_name\": \"Tustin\", \"avg_funds\": -451239.7244990742}]}}, {\"mode\": \"vega-lite\"});\n",
       "</script>"
      ],
      "text/plain": [
       "alt.Chart(...)"
      ]
     },
     "metadata": {},
     "output_type": "display_data"
    }
   ],
   "source": [
    "#Bar chart Bottom Average Total Requested Funds by Agency\n",
    "avg_funds_bottom = (df>>group_by(_.primary_agency_name)>>summarize(avg_funds=_.adjusted_total_requested.mean())>>arrange(-_.avg_funds)).tail(50)\n",
    "\n",
    "chart5=( _dla_utils.basic_bar_chart_no_save((avg_funds_bottom.tail(40)), 'primary_agency_name','avg_funds', 'primary_agency_name', district))\n",
    "\n",
    "chart5=chart5.encode([alt.Tooltip('primary_agency_name', title=_dla_utils.labeling('primary_agency_name')),\n",
    "                alt.Tooltip('avg_funds', title=_dla_utils.labeling('avg_funds'), format=\"$,.2f\")\n",
    "                          ]\n",
    "                                   )\n",
    "display(chart5)"
   ]
  },
  {
   "cell_type": "markdown",
   "id": "32fb0fb4-2cd3-453d-8be1-cf99fb52f56f",
   "metadata": {
    "papermill": {
     "duration": 0.028712,
     "end_time": "2022-06-02T22:25:37.251367",
     "exception": false,
     "start_time": "2022-06-02T22:25:37.222655",
     "status": "completed"
    },
    "tags": []
   },
   "source": [
    "### Average Total Requested Funds by Prefix ($2021)"
   ]
  },
  {
   "cell_type": "code",
   "execution_count": 16,
   "id": "d18938e5-6fc5-4e53-87b2-7140df57e5a0",
   "metadata": {
    "execution": {
     "iopub.execute_input": "2022-06-02T22:25:37.332438Z",
     "iopub.status.busy": "2022-06-02T22:25:37.332089Z",
     "iopub.status.idle": "2022-06-02T22:25:37.365054Z",
     "shell.execute_reply": "2022-06-02T22:25:37.364119Z"
    },
    "jupyter": {
     "source_hidden": true
    },
    "papermill": {
     "duration": 0.065889,
     "end_time": "2022-06-02T22:25:37.367255",
     "exception": false,
     "start_time": "2022-06-02T22:25:37.301366",
     "status": "completed"
    },
    "tags": [
     "remove_input"
    ]
   },
   "outputs": [
    {
     "data": {
      "text/html": [
       "\n",
       "<div id=\"altair-viz-e709a31bc55042bc8682a4a0cd027650\"></div>\n",
       "<script type=\"text/javascript\">\n",
       "  var VEGA_DEBUG = (typeof VEGA_DEBUG == \"undefined\") ? {} : VEGA_DEBUG;\n",
       "  (function(spec, embedOpt){\n",
       "    let outputDiv = document.currentScript.previousElementSibling;\n",
       "    if (outputDiv.id !== \"altair-viz-e709a31bc55042bc8682a4a0cd027650\") {\n",
       "      outputDiv = document.getElementById(\"altair-viz-e709a31bc55042bc8682a4a0cd027650\");\n",
       "    }\n",
       "    const paths = {\n",
       "      \"vega\": \"https://cdn.jsdelivr.net/npm//vega@5?noext\",\n",
       "      \"vega-lib\": \"https://cdn.jsdelivr.net/npm//vega-lib?noext\",\n",
       "      \"vega-lite\": \"https://cdn.jsdelivr.net/npm//vega-lite@4.17.0?noext\",\n",
       "      \"vega-embed\": \"https://cdn.jsdelivr.net/npm//vega-embed@6?noext\",\n",
       "    };\n",
       "\n",
       "    function maybeLoadScript(lib, version) {\n",
       "      var key = `${lib.replace(\"-\", \"\")}_version`;\n",
       "      return (VEGA_DEBUG[key] == version) ?\n",
       "        Promise.resolve(paths[lib]) :\n",
       "        new Promise(function(resolve, reject) {\n",
       "          var s = document.createElement('script');\n",
       "          document.getElementsByTagName(\"head\")[0].appendChild(s);\n",
       "          s.async = true;\n",
       "          s.onload = () => {\n",
       "            VEGA_DEBUG[key] = version;\n",
       "            return resolve(paths[lib]);\n",
       "          };\n",
       "          s.onerror = () => reject(`Error loading script: ${paths[lib]}`);\n",
       "          s.src = paths[lib];\n",
       "        });\n",
       "    }\n",
       "\n",
       "    function showError(err) {\n",
       "      outputDiv.innerHTML = `<div class=\"error\" style=\"color:red;\">${err}</div>`;\n",
       "      throw err;\n",
       "    }\n",
       "\n",
       "    function displayChart(vegaEmbed) {\n",
       "      vegaEmbed(outputDiv, spec, embedOpt)\n",
       "        .catch(err => showError(`Javascript Error: ${err.message}<br>This usually means there's a typo in your chart specification. See the javascript console for the full traceback.`));\n",
       "    }\n",
       "\n",
       "    if(typeof define === \"function\" && define.amd) {\n",
       "      requirejs.config({paths});\n",
       "      require([\"vega-embed\"], displayChart, err => showError(`Error loading script: ${err.message}`));\n",
       "    } else {\n",
       "      maybeLoadScript(\"vega\", \"5\")\n",
       "        .then(() => maybeLoadScript(\"vega-lite\", \"4.17.0\"))\n",
       "        .then(() => maybeLoadScript(\"vega-embed\", \"6\"))\n",
       "        .catch(showError)\n",
       "        .then(() => displayChart(vegaEmbed));\n",
       "    }\n",
       "  })({\"config\": {\"view\": {\"continuousWidth\": 400, \"continuousHeight\": 300}, \"axis\": {\"domainColor\": \"#cbcbcb\", \"grid\": true, \"gridColor\": \"#cbcbcb\", \"gridWidth\": 1, \"labelColor\": \"#474747\", \"labelFont\": \"Nunito Sans\", \"labelFontSize\": 10, \"labelPadding\": 4, \"tickColor\": \"#cbcbcb\", \"tickSize\": 10, \"titleColor\": \"#333\", \"titleFont\": \"Raleway\", \"titleFontSize\": 12, \"titlePadding\": 10}, \"axisBand\": {\"grid\": false}, \"background\": \"white\", \"font\": \"Raleway\", \"header\": {\"labelFont\": \"Nunito Sans\", \"titleFont\": \"Raleway\"}, \"legend\": {\"labelColor\": \"#333\", \"labelFont\": \"Nunito Sans\", \"labelFontSize\": 11, \"labelLimit\": 0, \"padding\": 1, \"symbolSize\": 30, \"symbolType\": \"square\", \"titleColor\": \"#333\", \"titleFont\": \"Raleway\", \"titleFontSize\": 14, \"titlePadding\": 10}, \"title\": {\"anchor\": \"middle\", \"font\": \"Raleway\", \"fontSize\": 18, \"fontWeight\": 300, \"offset\": 20}}, \"data\": {\"name\": \"data-7becd29432dd63a02ce6a1f0f39776e7\"}, \"mark\": \"bar\", \"encoding\": {\"color\": {\"field\": \"prefix\", \"legend\": {\"symbolLimit\": 10, \"title\": \"Prefix Code\"}, \"scale\": {\"range\": [\"#2EA8CE\", \"#EB9F3C\", \"#F4D837\", \"#51BF9D\", \"#8CBCCB\", \"#9487C0\"]}, \"type\": \"nominal\"}, \"tooltip\": [{\"field\": \"prefix\", \"title\": \"Prefix Code\", \"type\": \"nominal\"}, {\"field\": \"adjusted_total_requested\", \"format\": \"$,.2f\", \"title\": \"Total Requested\", \"type\": \"quantitative\"}], \"x\": {\"field\": \"prefix\", \"sort\": \"-y\", \"title\": \"Prefix Code\", \"type\": \"nominal\"}, \"y\": {\"field\": \"adjusted_total_requested\", \"title\": \"Total Requested\", \"type\": \"quantitative\"}}, \"height\": 250, \"width\": 400, \"$schema\": \"https://vega.github.io/schema/vega-lite/v4.17.0.json\", \"datasets\": {\"data-7becd29432dd63a02ce6a1f0f39776e7\": [{\"prefix\": \"STPLN\", \"adjusted_total_requested\": 68456919.1688811}, {\"prefix\": \"CMSTPL\", \"adjusted_total_requested\": 63340110.72211217}, {\"prefix\": \"CMSTPLN\", \"adjusted_total_requested\": 19329239.87601928}, {\"prefix\": \"FTACML\", \"adjusted_total_requested\": 12833759.596771134}, {\"prefix\": \"HPLULN\", \"adjusted_total_requested\": 11825831.887053913}, {\"prefix\": \"DEM05L\", \"adjusted_total_requested\": 7333583.472675212}, {\"prefix\": \"PNRSCML\", \"adjusted_total_requested\": 6131734.07336066}, {\"prefix\": \"BHLS\", \"adjusted_total_requested\": 4438384.279911158}, {\"prefix\": \"BRLS\", \"adjusted_total_requested\": 1693530.8396903158}, {\"prefix\": \"CMHPLULN\", \"adjusted_total_requested\": 1489939.6762568841}, {\"prefix\": \"STPTCIFL\", \"adjusted_total_requested\": 1483622.8918475385}, {\"prefix\": \"ATPCML\", \"adjusted_total_requested\": 1455754.523768898}, {\"prefix\": \"FTASTPL\", \"adjusted_total_requested\": 1421940.9313199304}, {\"prefix\": \"ATPL\", \"adjusted_total_requested\": 1306637.0405603582}, {\"prefix\": \"BRLSZ\", \"adjusted_total_requested\": 1147272.2682928415}, {\"prefix\": \"BRLO\", \"adjusted_total_requested\": 1089139.9075778986}, {\"prefix\": \"HP21L\", \"adjusted_total_requested\": 941598.7236555718}, {\"prefix\": \"RPMSTPL\", \"adjusted_total_requested\": 874148.9663087878}, {\"prefix\": \"HRRRL\", \"adjusted_total_requested\": 861310.0579001738}, {\"prefix\": \"TCSP\", \"adjusted_total_requested\": 833770.6927489594}, {\"prefix\": \"BRLOZE\", \"adjusted_total_requested\": 808987.8269550309}, {\"prefix\": \"ATPSB1L\", \"adjusted_total_requested\": 712927.2678555814}, {\"prefix\": \"ACNHPI\", \"adjusted_total_requested\": 604352.8108215247}, {\"prefix\": \"FTAFER16\", \"adjusted_total_requested\": 492672.77356848406}, {\"prefix\": \"CML\", \"adjusted_total_requested\": 410344.7118463723}, {\"prefix\": \"STPL\", \"adjusted_total_requested\": 381913.8718270426}, {\"prefix\": \"BPMPL\", \"adjusted_total_requested\": 337314.3145292647}, {\"prefix\": \"SRTSL\", \"adjusted_total_requested\": 273881.3572605744}, {\"prefix\": \"HSIPL\", \"adjusted_total_requested\": 240443.98667888562}, {\"prefix\": \"ATPLNI\", \"adjusted_total_requested\": 97002.76262355213}]}}, {\"mode\": \"vega-lite\"});\n",
       "</script>"
      ],
      "text/plain": [
       "alt.Chart(...)"
      ]
     },
     "metadata": {},
     "output_type": "display_data"
    }
   ],
   "source": [
    "# Bar chart Average Total Requested Funds by Prefix\n",
    "chart8 = (_dla_utils.basic_bar_chart_no_save((((_dla_utils.calculate_data_all(df, 'adjusted_total_requested', 'prefix', aggfunc=\"mean\"))\n",
    "                          >>arrange(-_.adjusted_total_requested)).head(30)), 'prefix','adjusted_total_requested', 'prefix', district\n",
    "                       ))\n",
    "chart8=chart8.encode([alt.Tooltip('prefix', title=_dla_utils.labeling('prefix')),\n",
    "                      alt.Tooltip('adjusted_total_requested', title=_dla_utils.labeling('adjusted_total_requested'), format=\"$,.2f\")\n",
    "                          ]\n",
    "                                   )\n",
    "display(chart8)\n",
    "    "
   ]
  },
  {
   "cell_type": "markdown",
   "id": "c4218a37-675e-40be-9659-d1297a62dc1b",
   "metadata": {
    "papermill": {
     "duration": 0.029743,
     "end_time": "2022-06-02T22:25:37.434990",
     "exception": false,
     "start_time": "2022-06-02T22:25:37.405247",
     "status": "completed"
    },
    "tags": []
   },
   "source": [
    "\n",
    "## Work Categories"
   ]
  },
  {
   "cell_type": "markdown",
   "id": "188d7213-7e0a-4873-8d28-76b86052a06b",
   "metadata": {
    "papermill": {
     "duration": 0.028102,
     "end_time": "2022-06-02T22:25:37.492671",
     "exception": false,
     "start_time": "2022-06-02T22:25:37.464569",
     "status": "completed"
    },
    "tags": []
   },
   "source": [
    "<hr style=\"height: 2px; background-color:#136C97; border: none\">"
   ]
  },
  {
   "cell_type": "markdown",
   "id": "d41b493b-2ab7-4c43-96ee-8e64a7c3e11a",
   "metadata": {
    "papermill": {
     "duration": 0.02972,
     "end_time": "2022-06-02T22:25:37.551069",
     "exception": false,
     "start_time": "2022-06-02T22:25:37.521349",
     "status": "completed"
    },
    "tags": []
   },
   "source": [
    "While the data includes a description column, organizations have the option to manually input the descriptions. Using the organizations descriptions of the obligattion type, we can categorize the obligations in terms of types of work. We used the following type of work categories:\n",
    "* Active Transportation\n",
    "* Transit\n",
    "* Bridge\n",
    "* Street\n",
    "* Freeway\n",
    "* Infrastructure/Resiliency/Emergency Relief \n",
    "* Congestion Relief\n",
    "\n",
    "With these categories, we can determine which organizations have the most obligations in that category and what percent of the category that organization accounts for. "
   ]
  },
  {
   "cell_type": "code",
   "execution_count": 17,
   "id": "50a1cf08-17eb-4b2b-9dc0-671ee7551f2d",
   "metadata": {
    "execution": {
     "iopub.execute_input": "2022-06-02T22:25:37.616250Z",
     "iopub.status.busy": "2022-06-02T22:25:37.615181Z",
     "iopub.status.idle": "2022-06-02T22:25:38.610836Z",
     "shell.execute_reply": "2022-06-02T22:25:38.609911Z"
    },
    "jupyter": {
     "source_hidden": true
    },
    "papermill": {
     "duration": 1.028802,
     "end_time": "2022-06-02T22:25:38.612987",
     "exception": false,
     "start_time": "2022-06-02T22:25:37.584185",
     "status": "completed"
    },
    "tags": [
     "remove_input"
    ]
   },
   "outputs": [
    {
     "data": {
      "application/vnd.jupyter.widget-view+json": {
       "model_id": "d8b5f23e5d0049fabfd20a986e31f747",
       "version_major": 2,
       "version_minor": 0
      },
      "text/plain": [
       "HTML(value='<h3> Top Agencies using Active Transportation Projects </h3>')"
      ]
     },
     "metadata": {},
     "output_type": "display_data"
    },
    {
     "data": {
      "application/vnd.jupyter.widget-view+json": {
       "model_id": "da15feec6e2541df968d93b6e46503f7",
       "version_major": 2,
       "version_minor": 0
      },
      "text/plain": [
       "HTML(value='<style type=\"text/css\">\\n#T_c8a5e th {\\n  text-align: center;\\n}\\n#T_c8a5e_row0_col0, #T_c8a5e_row…"
      ]
     },
     "metadata": {},
     "output_type": "display_data"
    },
    {
     "data": {
      "text/html": [
       "\n",
       "<div id=\"altair-viz-d90e9a40811e402785e1f7009ad4649a\"></div>\n",
       "<script type=\"text/javascript\">\n",
       "  var VEGA_DEBUG = (typeof VEGA_DEBUG == \"undefined\") ? {} : VEGA_DEBUG;\n",
       "  (function(spec, embedOpt){\n",
       "    let outputDiv = document.currentScript.previousElementSibling;\n",
       "    if (outputDiv.id !== \"altair-viz-d90e9a40811e402785e1f7009ad4649a\") {\n",
       "      outputDiv = document.getElementById(\"altair-viz-d90e9a40811e402785e1f7009ad4649a\");\n",
       "    }\n",
       "    const paths = {\n",
       "      \"vega\": \"https://cdn.jsdelivr.net/npm//vega@5?noext\",\n",
       "      \"vega-lib\": \"https://cdn.jsdelivr.net/npm//vega-lib?noext\",\n",
       "      \"vega-lite\": \"https://cdn.jsdelivr.net/npm//vega-lite@4.17.0?noext\",\n",
       "      \"vega-embed\": \"https://cdn.jsdelivr.net/npm//vega-embed@6?noext\",\n",
       "    };\n",
       "\n",
       "    function maybeLoadScript(lib, version) {\n",
       "      var key = `${lib.replace(\"-\", \"\")}_version`;\n",
       "      return (VEGA_DEBUG[key] == version) ?\n",
       "        Promise.resolve(paths[lib]) :\n",
       "        new Promise(function(resolve, reject) {\n",
       "          var s = document.createElement('script');\n",
       "          document.getElementsByTagName(\"head\")[0].appendChild(s);\n",
       "          s.async = true;\n",
       "          s.onload = () => {\n",
       "            VEGA_DEBUG[key] = version;\n",
       "            return resolve(paths[lib]);\n",
       "          };\n",
       "          s.onerror = () => reject(`Error loading script: ${paths[lib]}`);\n",
       "          s.src = paths[lib];\n",
       "        });\n",
       "    }\n",
       "\n",
       "    function showError(err) {\n",
       "      outputDiv.innerHTML = `<div class=\"error\" style=\"color:red;\">${err}</div>`;\n",
       "      throw err;\n",
       "    }\n",
       "\n",
       "    function displayChart(vegaEmbed) {\n",
       "      vegaEmbed(outputDiv, spec, embedOpt)\n",
       "        .catch(err => showError(`Javascript Error: ${err.message}<br>This usually means there's a typo in your chart specification. See the javascript console for the full traceback.`));\n",
       "    }\n",
       "\n",
       "    if(typeof define === \"function\" && define.amd) {\n",
       "      requirejs.config({paths});\n",
       "      require([\"vega-embed\"], displayChart, err => showError(`Error loading script: ${err.message}`));\n",
       "    } else {\n",
       "      maybeLoadScript(\"vega\", \"5\")\n",
       "        .then(() => maybeLoadScript(\"vega-lite\", \"4.17.0\"))\n",
       "        .then(() => maybeLoadScript(\"vega-embed\", \"6\"))\n",
       "        .catch(showError)\n",
       "        .then(() => displayChart(vegaEmbed));\n",
       "    }\n",
       "  })({\"config\": {\"view\": {\"continuousWidth\": 400, \"continuousHeight\": 300}}, \"data\": {\"name\": \"data-1d3859a692922e8c6b678aeb28ad272b\"}, \"mark\": \"bar\", \"encoding\": {\"color\": {\"field\": \"Categories\", \"scale\": {\"range\": [\"#2EA8CE\", \"#EB9F3C\", \"#F4D837\", \"#51BF9D\", \"#8CBCCB\", \"#9487C0\"]}, \"type\": \"nominal\"}, \"row\": {\"field\": \"Categories\", \"type\": \"nominal\"}, \"tooltip\": [{\"field\": \"Agency\", \"title\": \"Agency\", \"type\": \"nominal\"}, {\"field\": \"Funding Amount\", \"format\": \"$,.2f\", \"title\": \"Funding Amount\", \"type\": \"quantitative\"}], \"x\": {\"axis\": {\"format\": \"$.2s\", \"title\": \"Obligated Funding ($2021)\"}, \"field\": \"Funding Amount\", \"type\": \"quantitative\"}, \"y\": {\"field\": \"Agency\", \"type\": \"nominal\"}}, \"height\": 70, \"width\": 400, \"$schema\": \"https://vega.github.io/schema/vega-lite/v4.17.0.json\", \"datasets\": {\"data-1d3859a692922e8c6b678aeb28ad272b\": [{\"Agency\": \"Santa Ana\", \"Categories\": \"Total Requested\", \"Funding Amount\": 284053.8054890457}, {\"Agency\": \"Costa Mesa\", \"Categories\": \"Total Requested\", \"Funding Amount\": 260552.82704946492}, {\"Agency\": \"Anaheim\", \"Categories\": \"Total Requested\", \"Funding Amount\": 412926.06092801655}, {\"Agency\": \"Orange County\", \"Categories\": \"Total Requested\", \"Funding Amount\": 1174852.1324786642}, {\"Agency\": \"Orange\", \"Categories\": \"Total Requested\", \"Funding Amount\": 86760.56282760149}, {\"Agency\": \"Santa Ana\", \"Categories\": \"Fed Requested\", \"Funding Amount\": 247078.71061803197}, {\"Agency\": \"Costa Mesa\", \"Categories\": \"Fed Requested\", \"Funding Amount\": 132733.4739328976}, {\"Agency\": \"Anaheim\", \"Categories\": \"Fed Requested\", \"Funding Amount\": 299029.16661887814}, {\"Agency\": \"Orange County\", \"Categories\": \"Fed Requested\", \"Funding Amount\": 625994.6089477395}, {\"Agency\": \"Orange\", \"Categories\": \"Fed Requested\", \"Funding Amount\": 74292.3498342269}, {\"Agency\": \"Santa Ana\", \"Categories\": \"AC Requested\", \"Funding Amount\": 507.25459062706506}, {\"Agency\": \"Costa Mesa\", \"Categories\": \"AC Requested\", \"Funding Amount\": 0.0}, {\"Agency\": \"Anaheim\", \"Categories\": \"AC Requested\", \"Funding Amount\": 0.0}, {\"Agency\": \"Orange County\", \"Categories\": \"AC Requested\", \"Funding Amount\": 0.0}, {\"Agency\": \"Orange\", \"Categories\": \"AC Requested\", \"Funding Amount\": 1160.3551101285182}]}}, {\"mode\": \"vega-lite\"});\n",
       "</script>"
      ],
      "text/plain": [
       "alt.Chart(...)"
      ]
     },
     "metadata": {},
     "output_type": "display_data"
    },
    {
     "data": {
      "application/vnd.jupyter.widget-view+json": {
       "model_id": "8c001688b7b34a2fa90e1c350495c082",
       "version_major": 2,
       "version_minor": 0
      },
      "text/plain": [
       "HTML(value='<h3> Top Agencies using Transit Projects </h3>')"
      ]
     },
     "metadata": {},
     "output_type": "display_data"
    },
    {
     "data": {
      "application/vnd.jupyter.widget-view+json": {
       "model_id": "7b8dcfc24d234a5e9f337e47be30fb2d",
       "version_major": 2,
       "version_minor": 0
      },
      "text/plain": [
       "HTML(value='<style type=\"text/css\">\\n#T_58a5c th {\\n  text-align: center;\\n}\\n#T_58a5c_row0_col0, #T_58a5c_row…"
      ]
     },
     "metadata": {},
     "output_type": "display_data"
    },
    {
     "data": {
      "text/html": [
       "\n",
       "<div id=\"altair-viz-eea1d9c23a834e27b4e2a40bc5dd1734\"></div>\n",
       "<script type=\"text/javascript\">\n",
       "  var VEGA_DEBUG = (typeof VEGA_DEBUG == \"undefined\") ? {} : VEGA_DEBUG;\n",
       "  (function(spec, embedOpt){\n",
       "    let outputDiv = document.currentScript.previousElementSibling;\n",
       "    if (outputDiv.id !== \"altair-viz-eea1d9c23a834e27b4e2a40bc5dd1734\") {\n",
       "      outputDiv = document.getElementById(\"altair-viz-eea1d9c23a834e27b4e2a40bc5dd1734\");\n",
       "    }\n",
       "    const paths = {\n",
       "      \"vega\": \"https://cdn.jsdelivr.net/npm//vega@5?noext\",\n",
       "      \"vega-lib\": \"https://cdn.jsdelivr.net/npm//vega-lib?noext\",\n",
       "      \"vega-lite\": \"https://cdn.jsdelivr.net/npm//vega-lite@4.17.0?noext\",\n",
       "      \"vega-embed\": \"https://cdn.jsdelivr.net/npm//vega-embed@6?noext\",\n",
       "    };\n",
       "\n",
       "    function maybeLoadScript(lib, version) {\n",
       "      var key = `${lib.replace(\"-\", \"\")}_version`;\n",
       "      return (VEGA_DEBUG[key] == version) ?\n",
       "        Promise.resolve(paths[lib]) :\n",
       "        new Promise(function(resolve, reject) {\n",
       "          var s = document.createElement('script');\n",
       "          document.getElementsByTagName(\"head\")[0].appendChild(s);\n",
       "          s.async = true;\n",
       "          s.onload = () => {\n",
       "            VEGA_DEBUG[key] = version;\n",
       "            return resolve(paths[lib]);\n",
       "          };\n",
       "          s.onerror = () => reject(`Error loading script: ${paths[lib]}`);\n",
       "          s.src = paths[lib];\n",
       "        });\n",
       "    }\n",
       "\n",
       "    function showError(err) {\n",
       "      outputDiv.innerHTML = `<div class=\"error\" style=\"color:red;\">${err}</div>`;\n",
       "      throw err;\n",
       "    }\n",
       "\n",
       "    function displayChart(vegaEmbed) {\n",
       "      vegaEmbed(outputDiv, spec, embedOpt)\n",
       "        .catch(err => showError(`Javascript Error: ${err.message}<br>This usually means there's a typo in your chart specification. See the javascript console for the full traceback.`));\n",
       "    }\n",
       "\n",
       "    if(typeof define === \"function\" && define.amd) {\n",
       "      requirejs.config({paths});\n",
       "      require([\"vega-embed\"], displayChart, err => showError(`Error loading script: ${err.message}`));\n",
       "    } else {\n",
       "      maybeLoadScript(\"vega\", \"5\")\n",
       "        .then(() => maybeLoadScript(\"vega-lite\", \"4.17.0\"))\n",
       "        .then(() => maybeLoadScript(\"vega-embed\", \"6\"))\n",
       "        .catch(showError)\n",
       "        .then(() => displayChart(vegaEmbed));\n",
       "    }\n",
       "  })({\"config\": {\"view\": {\"continuousWidth\": 400, \"continuousHeight\": 300}}, \"data\": {\"name\": \"data-59ee6ba124d7e00100458fe12b870108\"}, \"mark\": \"bar\", \"encoding\": {\"color\": {\"field\": \"Categories\", \"scale\": {\"range\": [\"#2EA8CE\", \"#EB9F3C\", \"#F4D837\", \"#51BF9D\", \"#8CBCCB\", \"#9487C0\"]}, \"type\": \"nominal\"}, \"row\": {\"field\": \"Categories\", \"type\": \"nominal\"}, \"tooltip\": [{\"field\": \"Agency\", \"title\": \"Agency\", \"type\": \"nominal\"}, {\"field\": \"Funding Amount\", \"format\": \"$,.2f\", \"title\": \"Funding Amount\", \"type\": \"quantitative\"}], \"x\": {\"axis\": {\"format\": \"$.2s\", \"title\": \"Obligated Funding ($2021)\"}, \"field\": \"Funding Amount\", \"type\": \"quantitative\"}, \"y\": {\"field\": \"Agency\", \"type\": \"nominal\"}}, \"height\": 70, \"width\": 400, \"$schema\": \"https://vega.github.io/schema/vega-lite/v4.17.0.json\", \"datasets\": {\"data-59ee6ba124d7e00100458fe12b870108\": [{\"Agency\": \"Santa Ana\", \"Categories\": \"Total Requested\", \"Funding Amount\": 2894932.1151953684}, {\"Agency\": \"Santa Ana\", \"Categories\": \"Fed Requested\", \"Funding Amount\": 2201564.6359225395}, {\"Agency\": \"Santa Ana\", \"Categories\": \"AC Requested\", \"Funding Amount\": 0.0}]}}, {\"mode\": \"vega-lite\"});\n",
       "</script>"
      ],
      "text/plain": [
       "alt.Chart(...)"
      ]
     },
     "metadata": {},
     "output_type": "display_data"
    },
    {
     "data": {
      "application/vnd.jupyter.widget-view+json": {
       "model_id": "8cd25b7c4cce4fdd9975af2d70ae0e42",
       "version_major": 2,
       "version_minor": 0
      },
      "text/plain": [
       "HTML(value='<h3> Top Agencies using Bridge Projects </h3>')"
      ]
     },
     "metadata": {},
     "output_type": "display_data"
    },
    {
     "data": {
      "application/vnd.jupyter.widget-view+json": {
       "model_id": "90da0140359a466ead031b2a53c7ab92",
       "version_major": 2,
       "version_minor": 0
      },
      "text/plain": [
       "HTML(value='<style type=\"text/css\">\\n#T_8955c th {\\n  text-align: center;\\n}\\n#T_8955c_row0_col0, #T_8955c_row…"
      ]
     },
     "metadata": {},
     "output_type": "display_data"
    },
    {
     "data": {
      "text/html": [
       "\n",
       "<div id=\"altair-viz-c7d69905556547998a46967cf9669634\"></div>\n",
       "<script type=\"text/javascript\">\n",
       "  var VEGA_DEBUG = (typeof VEGA_DEBUG == \"undefined\") ? {} : VEGA_DEBUG;\n",
       "  (function(spec, embedOpt){\n",
       "    let outputDiv = document.currentScript.previousElementSibling;\n",
       "    if (outputDiv.id !== \"altair-viz-c7d69905556547998a46967cf9669634\") {\n",
       "      outputDiv = document.getElementById(\"altair-viz-c7d69905556547998a46967cf9669634\");\n",
       "    }\n",
       "    const paths = {\n",
       "      \"vega\": \"https://cdn.jsdelivr.net/npm//vega@5?noext\",\n",
       "      \"vega-lib\": \"https://cdn.jsdelivr.net/npm//vega-lib?noext\",\n",
       "      \"vega-lite\": \"https://cdn.jsdelivr.net/npm//vega-lite@4.17.0?noext\",\n",
       "      \"vega-embed\": \"https://cdn.jsdelivr.net/npm//vega-embed@6?noext\",\n",
       "    };\n",
       "\n",
       "    function maybeLoadScript(lib, version) {\n",
       "      var key = `${lib.replace(\"-\", \"\")}_version`;\n",
       "      return (VEGA_DEBUG[key] == version) ?\n",
       "        Promise.resolve(paths[lib]) :\n",
       "        new Promise(function(resolve, reject) {\n",
       "          var s = document.createElement('script');\n",
       "          document.getElementsByTagName(\"head\")[0].appendChild(s);\n",
       "          s.async = true;\n",
       "          s.onload = () => {\n",
       "            VEGA_DEBUG[key] = version;\n",
       "            return resolve(paths[lib]);\n",
       "          };\n",
       "          s.onerror = () => reject(`Error loading script: ${paths[lib]}`);\n",
       "          s.src = paths[lib];\n",
       "        });\n",
       "    }\n",
       "\n",
       "    function showError(err) {\n",
       "      outputDiv.innerHTML = `<div class=\"error\" style=\"color:red;\">${err}</div>`;\n",
       "      throw err;\n",
       "    }\n",
       "\n",
       "    function displayChart(vegaEmbed) {\n",
       "      vegaEmbed(outputDiv, spec, embedOpt)\n",
       "        .catch(err => showError(`Javascript Error: ${err.message}<br>This usually means there's a typo in your chart specification. See the javascript console for the full traceback.`));\n",
       "    }\n",
       "\n",
       "    if(typeof define === \"function\" && define.amd) {\n",
       "      requirejs.config({paths});\n",
       "      require([\"vega-embed\"], displayChart, err => showError(`Error loading script: ${err.message}`));\n",
       "    } else {\n",
       "      maybeLoadScript(\"vega\", \"5\")\n",
       "        .then(() => maybeLoadScript(\"vega-lite\", \"4.17.0\"))\n",
       "        .then(() => maybeLoadScript(\"vega-embed\", \"6\"))\n",
       "        .catch(showError)\n",
       "        .then(() => displayChart(vegaEmbed));\n",
       "    }\n",
       "  })({\"config\": {\"view\": {\"continuousWidth\": 400, \"continuousHeight\": 300}}, \"data\": {\"name\": \"data-865ac8ba2286a2295eb1a88037ef5690\"}, \"mark\": \"bar\", \"encoding\": {\"color\": {\"field\": \"Categories\", \"scale\": {\"range\": [\"#2EA8CE\", \"#EB9F3C\", \"#F4D837\", \"#51BF9D\", \"#8CBCCB\", \"#9487C0\"]}, \"type\": \"nominal\"}, \"row\": {\"field\": \"Categories\", \"type\": \"nominal\"}, \"tooltip\": [{\"field\": \"Agency\", \"title\": \"Agency\", \"type\": \"nominal\"}, {\"field\": \"Funding Amount\", \"format\": \"$,.2f\", \"title\": \"Funding Amount\", \"type\": \"quantitative\"}], \"x\": {\"axis\": {\"format\": \"$.2s\", \"title\": \"Obligated Funding ($2021)\"}, \"field\": \"Funding Amount\", \"type\": \"quantitative\"}, \"y\": {\"field\": \"Agency\", \"type\": \"nominal\"}}, \"height\": 70, \"width\": 400, \"$schema\": \"https://vega.github.io/schema/vega-lite/v4.17.0.json\", \"datasets\": {\"data-865ac8ba2286a2295eb1a88037ef5690\": [{\"Agency\": \"Orange County\", \"Categories\": \"Total Requested\", \"Funding Amount\": 1880379.5362046862}, {\"Agency\": \"Huntington Beach\", \"Categories\": \"Total Requested\", \"Funding Amount\": 418363.86535572435}, {\"Agency\": \"Santa Ana\", \"Categories\": \"Total Requested\", \"Funding Amount\": -14075.784994812471}, {\"Agency\": \"Rancho Santa Margarita\", \"Categories\": \"Total Requested\", \"Funding Amount\": 613363.7959034937}, {\"Agency\": \"Newport Beach\", \"Categories\": \"Total Requested\", \"Funding Amount\": 2583496.66766644}, {\"Agency\": \"Orange County\", \"Categories\": \"Fed Requested\", \"Funding Amount\": 1380176.0311926806}, {\"Agency\": \"Huntington Beach\", \"Categories\": \"Fed Requested\", \"Funding Amount\": 357180.77917349385}, {\"Agency\": \"Santa Ana\", \"Categories\": \"Fed Requested\", \"Funding Amount\": -37560.98057218406}, {\"Agency\": \"Rancho Santa Margarita\", \"Categories\": \"Fed Requested\", \"Funding Amount\": 543010.5025300246}, {\"Agency\": \"Newport Beach\", \"Categories\": \"Fed Requested\", \"Funding Amount\": 2522231.4949943754}, {\"Agency\": \"Orange County\", \"Categories\": \"AC Requested\", \"Funding Amount\": 0.0}, {\"Agency\": \"Huntington Beach\", \"Categories\": \"AC Requested\", \"Funding Amount\": 0.0}, {\"Agency\": \"Santa Ana\", \"Categories\": \"AC Requested\", \"Funding Amount\": 0.0}, {\"Agency\": \"Rancho Santa Margarita\", \"Categories\": \"AC Requested\", \"Funding Amount\": 0.0}, {\"Agency\": \"Newport Beach\", \"Categories\": \"AC Requested\", \"Funding Amount\": 0.0}]}}, {\"mode\": \"vega-lite\"});\n",
       "</script>"
      ],
      "text/plain": [
       "alt.Chart(...)"
      ]
     },
     "metadata": {},
     "output_type": "display_data"
    },
    {
     "data": {
      "application/vnd.jupyter.widget-view+json": {
       "model_id": "bf3b7ce5d8f245de807138b71a451e88",
       "version_major": 2,
       "version_minor": 0
      },
      "text/plain": [
       "HTML(value='<h3> Top Agencies using Street Projects </h3>')"
      ]
     },
     "metadata": {},
     "output_type": "display_data"
    },
    {
     "data": {
      "application/vnd.jupyter.widget-view+json": {
       "model_id": "32e4edb1481c474285410221540250e8",
       "version_major": 2,
       "version_minor": 0
      },
      "text/plain": [
       "HTML(value='<style type=\"text/css\">\\n#T_38aa6 th {\\n  text-align: center;\\n}\\n#T_38aa6_row0_col0, #T_38aa6_row…"
      ]
     },
     "metadata": {},
     "output_type": "display_data"
    },
    {
     "data": {
      "text/html": [
       "\n",
       "<div id=\"altair-viz-100f7ad0cb064bc69c9d998d3545b79c\"></div>\n",
       "<script type=\"text/javascript\">\n",
       "  var VEGA_DEBUG = (typeof VEGA_DEBUG == \"undefined\") ? {} : VEGA_DEBUG;\n",
       "  (function(spec, embedOpt){\n",
       "    let outputDiv = document.currentScript.previousElementSibling;\n",
       "    if (outputDiv.id !== \"altair-viz-100f7ad0cb064bc69c9d998d3545b79c\") {\n",
       "      outputDiv = document.getElementById(\"altair-viz-100f7ad0cb064bc69c9d998d3545b79c\");\n",
       "    }\n",
       "    const paths = {\n",
       "      \"vega\": \"https://cdn.jsdelivr.net/npm//vega@5?noext\",\n",
       "      \"vega-lib\": \"https://cdn.jsdelivr.net/npm//vega-lib?noext\",\n",
       "      \"vega-lite\": \"https://cdn.jsdelivr.net/npm//vega-lite@4.17.0?noext\",\n",
       "      \"vega-embed\": \"https://cdn.jsdelivr.net/npm//vega-embed@6?noext\",\n",
       "    };\n",
       "\n",
       "    function maybeLoadScript(lib, version) {\n",
       "      var key = `${lib.replace(\"-\", \"\")}_version`;\n",
       "      return (VEGA_DEBUG[key] == version) ?\n",
       "        Promise.resolve(paths[lib]) :\n",
       "        new Promise(function(resolve, reject) {\n",
       "          var s = document.createElement('script');\n",
       "          document.getElementsByTagName(\"head\")[0].appendChild(s);\n",
       "          s.async = true;\n",
       "          s.onload = () => {\n",
       "            VEGA_DEBUG[key] = version;\n",
       "            return resolve(paths[lib]);\n",
       "          };\n",
       "          s.onerror = () => reject(`Error loading script: ${paths[lib]}`);\n",
       "          s.src = paths[lib];\n",
       "        });\n",
       "    }\n",
       "\n",
       "    function showError(err) {\n",
       "      outputDiv.innerHTML = `<div class=\"error\" style=\"color:red;\">${err}</div>`;\n",
       "      throw err;\n",
       "    }\n",
       "\n",
       "    function displayChart(vegaEmbed) {\n",
       "      vegaEmbed(outputDiv, spec, embedOpt)\n",
       "        .catch(err => showError(`Javascript Error: ${err.message}<br>This usually means there's a typo in your chart specification. See the javascript console for the full traceback.`));\n",
       "    }\n",
       "\n",
       "    if(typeof define === \"function\" && define.amd) {\n",
       "      requirejs.config({paths});\n",
       "      require([\"vega-embed\"], displayChart, err => showError(`Error loading script: ${err.message}`));\n",
       "    } else {\n",
       "      maybeLoadScript(\"vega\", \"5\")\n",
       "        .then(() => maybeLoadScript(\"vega-lite\", \"4.17.0\"))\n",
       "        .then(() => maybeLoadScript(\"vega-embed\", \"6\"))\n",
       "        .catch(showError)\n",
       "        .then(() => displayChart(vegaEmbed));\n",
       "    }\n",
       "  })({\"config\": {\"view\": {\"continuousWidth\": 400, \"continuousHeight\": 300}}, \"data\": {\"name\": \"data-9a5dfc059da0c92c5979726339834931\"}, \"mark\": \"bar\", \"encoding\": {\"color\": {\"field\": \"Categories\", \"scale\": {\"range\": [\"#2EA8CE\", \"#EB9F3C\", \"#F4D837\", \"#51BF9D\", \"#8CBCCB\", \"#9487C0\"]}, \"type\": \"nominal\"}, \"row\": {\"field\": \"Categories\", \"type\": \"nominal\"}, \"tooltip\": [{\"field\": \"Agency\", \"title\": \"Agency\", \"type\": \"nominal\"}, {\"field\": \"Funding Amount\", \"format\": \"$,.2f\", \"title\": \"Funding Amount\", \"type\": \"quantitative\"}], \"x\": {\"axis\": {\"format\": \"$.2s\", \"title\": \"Obligated Funding ($2021)\"}, \"field\": \"Funding Amount\", \"type\": \"quantitative\"}, \"y\": {\"field\": \"Agency\", \"type\": \"nominal\"}}, \"height\": 70, \"width\": 400, \"$schema\": \"https://vega.github.io/schema/vega-lite/v4.17.0.json\", \"datasets\": {\"data-9a5dfc059da0c92c5979726339834931\": [{\"Agency\": \"Huntington Beach\", \"Categories\": \"Total Requested\", \"Funding Amount\": 247791.02440880434}, {\"Agency\": \"Orange\", \"Categories\": \"Total Requested\", \"Funding Amount\": 134482.46592784283}, {\"Agency\": \"Santa Ana\", \"Categories\": \"Total Requested\", \"Funding Amount\": 734244.6912294986}, {\"Agency\": \"Costa Mesa\", \"Categories\": \"Total Requested\", \"Funding Amount\": 346216.64036073146}, {\"Agency\": \"Anaheim\", \"Categories\": \"Total Requested\", \"Funding Amount\": 552494.7035975001}, {\"Agency\": \"Huntington Beach\", \"Categories\": \"Fed Requested\", \"Funding Amount\": 143386.93651379936}, {\"Agency\": \"Orange\", \"Categories\": \"Fed Requested\", \"Funding Amount\": 91854.15938840753}, {\"Agency\": \"Santa Ana\", \"Categories\": \"Fed Requested\", \"Funding Amount\": 301955.38759418705}, {\"Agency\": \"Costa Mesa\", \"Categories\": \"Fed Requested\", \"Funding Amount\": 202208.95191135025}, {\"Agency\": \"Anaheim\", \"Categories\": \"Fed Requested\", \"Funding Amount\": 269384.7114847224}, {\"Agency\": \"Huntington Beach\", \"Categories\": \"AC Requested\", \"Funding Amount\": 0.0}, {\"Agency\": \"Orange\", \"Categories\": \"AC Requested\", \"Funding Amount\": 0.0}, {\"Agency\": \"Santa Ana\", \"Categories\": \"AC Requested\", \"Funding Amount\": -20828.211319901846}, {\"Agency\": \"Costa Mesa\", \"Categories\": \"AC Requested\", \"Funding Amount\": -35768.98738290274}, {\"Agency\": \"Anaheim\", \"Categories\": \"AC Requested\", \"Funding Amount\": 0.0}]}}, {\"mode\": \"vega-lite\"});\n",
       "</script>"
      ],
      "text/plain": [
       "alt.Chart(...)"
      ]
     },
     "metadata": {},
     "output_type": "display_data"
    },
    {
     "data": {
      "application/vnd.jupyter.widget-view+json": {
       "model_id": "88b405736c1d430fa286c960f33a3e2b",
       "version_major": 2,
       "version_minor": 0
      },
      "text/plain": [
       "HTML(value='<h3> Top Agencies using Freeway Projects </h3>')"
      ]
     },
     "metadata": {},
     "output_type": "display_data"
    },
    {
     "data": {
      "application/vnd.jupyter.widget-view+json": {
       "model_id": "26cf824b5d7c4869ac96b5d18af7f861",
       "version_major": 2,
       "version_minor": 0
      },
      "text/plain": [
       "HTML(value='<style type=\"text/css\">\\n#T_e8313 th {\\n  text-align: center;\\n}\\n#T_e8313_row0_col0, #T_e8313_row…"
      ]
     },
     "metadata": {},
     "output_type": "display_data"
    },
    {
     "data": {
      "text/html": [
       "\n",
       "<div id=\"altair-viz-ba54a464e3854940b4a1da2a915fc78d\"></div>\n",
       "<script type=\"text/javascript\">\n",
       "  var VEGA_DEBUG = (typeof VEGA_DEBUG == \"undefined\") ? {} : VEGA_DEBUG;\n",
       "  (function(spec, embedOpt){\n",
       "    let outputDiv = document.currentScript.previousElementSibling;\n",
       "    if (outputDiv.id !== \"altair-viz-ba54a464e3854940b4a1da2a915fc78d\") {\n",
       "      outputDiv = document.getElementById(\"altair-viz-ba54a464e3854940b4a1da2a915fc78d\");\n",
       "    }\n",
       "    const paths = {\n",
       "      \"vega\": \"https://cdn.jsdelivr.net/npm//vega@5?noext\",\n",
       "      \"vega-lib\": \"https://cdn.jsdelivr.net/npm//vega-lib?noext\",\n",
       "      \"vega-lite\": \"https://cdn.jsdelivr.net/npm//vega-lite@4.17.0?noext\",\n",
       "      \"vega-embed\": \"https://cdn.jsdelivr.net/npm//vega-embed@6?noext\",\n",
       "    };\n",
       "\n",
       "    function maybeLoadScript(lib, version) {\n",
       "      var key = `${lib.replace(\"-\", \"\")}_version`;\n",
       "      return (VEGA_DEBUG[key] == version) ?\n",
       "        Promise.resolve(paths[lib]) :\n",
       "        new Promise(function(resolve, reject) {\n",
       "          var s = document.createElement('script');\n",
       "          document.getElementsByTagName(\"head\")[0].appendChild(s);\n",
       "          s.async = true;\n",
       "          s.onload = () => {\n",
       "            VEGA_DEBUG[key] = version;\n",
       "            return resolve(paths[lib]);\n",
       "          };\n",
       "          s.onerror = () => reject(`Error loading script: ${paths[lib]}`);\n",
       "          s.src = paths[lib];\n",
       "        });\n",
       "    }\n",
       "\n",
       "    function showError(err) {\n",
       "      outputDiv.innerHTML = `<div class=\"error\" style=\"color:red;\">${err}</div>`;\n",
       "      throw err;\n",
       "    }\n",
       "\n",
       "    function displayChart(vegaEmbed) {\n",
       "      vegaEmbed(outputDiv, spec, embedOpt)\n",
       "        .catch(err => showError(`Javascript Error: ${err.message}<br>This usually means there's a typo in your chart specification. See the javascript console for the full traceback.`));\n",
       "    }\n",
       "\n",
       "    if(typeof define === \"function\" && define.amd) {\n",
       "      requirejs.config({paths});\n",
       "      require([\"vega-embed\"], displayChart, err => showError(`Error loading script: ${err.message}`));\n",
       "    } else {\n",
       "      maybeLoadScript(\"vega\", \"5\")\n",
       "        .then(() => maybeLoadScript(\"vega-lite\", \"4.17.0\"))\n",
       "        .then(() => maybeLoadScript(\"vega-embed\", \"6\"))\n",
       "        .catch(showError)\n",
       "        .then(() => displayChart(vegaEmbed));\n",
       "    }\n",
       "  })({\"config\": {\"view\": {\"continuousWidth\": 400, \"continuousHeight\": 300}}, \"data\": {\"name\": \"data-00c72462b34c598786a43a961de521a0\"}, \"mark\": \"bar\", \"encoding\": {\"color\": {\"field\": \"Categories\", \"scale\": {\"range\": [\"#2EA8CE\", \"#EB9F3C\", \"#F4D837\", \"#51BF9D\", \"#8CBCCB\", \"#9487C0\"]}, \"type\": \"nominal\"}, \"row\": {\"field\": \"Categories\", \"type\": \"nominal\"}, \"tooltip\": [{\"field\": \"Agency\", \"title\": \"Agency\", \"type\": \"nominal\"}, {\"field\": \"Funding Amount\", \"format\": \"$,.2f\", \"title\": \"Funding Amount\", \"type\": \"quantitative\"}], \"x\": {\"axis\": {\"format\": \"$.2s\", \"title\": \"Obligated Funding ($2021)\"}, \"field\": \"Funding Amount\", \"type\": \"quantitative\"}, \"y\": {\"field\": \"Agency\", \"type\": \"nominal\"}}, \"height\": 70, \"width\": 400, \"$schema\": \"https://vega.github.io/schema/vega-lite/v4.17.0.json\", \"datasets\": {\"data-00c72462b34c598786a43a961de521a0\": [{\"Agency\": \"Orange County Transportation Authority\", \"Categories\": \"Total Requested\", \"Funding Amount\": -15203685.128665438}, {\"Agency\": \"Caltrans\", \"Categories\": \"Total Requested\", \"Funding Amount\": -2507575.308518317}, {\"Agency\": \"Orange County Transportation Authority\", \"Categories\": \"Fed Requested\", \"Funding Amount\": 21944394.24301589}, {\"Agency\": \"Caltrans\", \"Categories\": \"Fed Requested\", \"Funding Amount\": 201706.96108382402}, {\"Agency\": \"Orange County Transportation Authority\", \"Categories\": \"AC Requested\", \"Funding Amount\": 0.0}, {\"Agency\": \"Caltrans\", \"Categories\": \"AC Requested\", \"Funding Amount\": 0.0}]}}, {\"mode\": \"vega-lite\"});\n",
       "</script>"
      ],
      "text/plain": [
       "alt.Chart(...)"
      ]
     },
     "metadata": {},
     "output_type": "display_data"
    },
    {
     "data": {
      "application/vnd.jupyter.widget-view+json": {
       "model_id": "49f265d2a522458e99bc019515d5029a",
       "version_major": 2,
       "version_minor": 0
      },
      "text/plain": [
       "HTML(value='<h3> Top Agencies using Infrastructure & Emergency Relief Projects </h3>')"
      ]
     },
     "metadata": {},
     "output_type": "display_data"
    },
    {
     "data": {
      "application/vnd.jupyter.widget-view+json": {
       "model_id": "52c3000283534778aa522e6db9e490d3",
       "version_major": 2,
       "version_minor": 0
      },
      "text/plain": [
       "HTML(value='<style type=\"text/css\">\\n#T_53914 th {\\n  text-align: center;\\n}\\n#T_53914_row0_col0, #T_53914_row…"
      ]
     },
     "metadata": {},
     "output_type": "display_data"
    },
    {
     "data": {
      "text/html": [
       "\n",
       "<div id=\"altair-viz-ceaea3796d7944d7a7a5e1cb25c756df\"></div>\n",
       "<script type=\"text/javascript\">\n",
       "  var VEGA_DEBUG = (typeof VEGA_DEBUG == \"undefined\") ? {} : VEGA_DEBUG;\n",
       "  (function(spec, embedOpt){\n",
       "    let outputDiv = document.currentScript.previousElementSibling;\n",
       "    if (outputDiv.id !== \"altair-viz-ceaea3796d7944d7a7a5e1cb25c756df\") {\n",
       "      outputDiv = document.getElementById(\"altair-viz-ceaea3796d7944d7a7a5e1cb25c756df\");\n",
       "    }\n",
       "    const paths = {\n",
       "      \"vega\": \"https://cdn.jsdelivr.net/npm//vega@5?noext\",\n",
       "      \"vega-lib\": \"https://cdn.jsdelivr.net/npm//vega-lib?noext\",\n",
       "      \"vega-lite\": \"https://cdn.jsdelivr.net/npm//vega-lite@4.17.0?noext\",\n",
       "      \"vega-embed\": \"https://cdn.jsdelivr.net/npm//vega-embed@6?noext\",\n",
       "    };\n",
       "\n",
       "    function maybeLoadScript(lib, version) {\n",
       "      var key = `${lib.replace(\"-\", \"\")}_version`;\n",
       "      return (VEGA_DEBUG[key] == version) ?\n",
       "        Promise.resolve(paths[lib]) :\n",
       "        new Promise(function(resolve, reject) {\n",
       "          var s = document.createElement('script');\n",
       "          document.getElementsByTagName(\"head\")[0].appendChild(s);\n",
       "          s.async = true;\n",
       "          s.onload = () => {\n",
       "            VEGA_DEBUG[key] = version;\n",
       "            return resolve(paths[lib]);\n",
       "          };\n",
       "          s.onerror = () => reject(`Error loading script: ${paths[lib]}`);\n",
       "          s.src = paths[lib];\n",
       "        });\n",
       "    }\n",
       "\n",
       "    function showError(err) {\n",
       "      outputDiv.innerHTML = `<div class=\"error\" style=\"color:red;\">${err}</div>`;\n",
       "      throw err;\n",
       "    }\n",
       "\n",
       "    function displayChart(vegaEmbed) {\n",
       "      vegaEmbed(outputDiv, spec, embedOpt)\n",
       "        .catch(err => showError(`Javascript Error: ${err.message}<br>This usually means there's a typo in your chart specification. See the javascript console for the full traceback.`));\n",
       "    }\n",
       "\n",
       "    if(typeof define === \"function\" && define.amd) {\n",
       "      requirejs.config({paths});\n",
       "      require([\"vega-embed\"], displayChart, err => showError(`Error loading script: ${err.message}`));\n",
       "    } else {\n",
       "      maybeLoadScript(\"vega\", \"5\")\n",
       "        .then(() => maybeLoadScript(\"vega-lite\", \"4.17.0\"))\n",
       "        .then(() => maybeLoadScript(\"vega-embed\", \"6\"))\n",
       "        .catch(showError)\n",
       "        .then(() => displayChart(vegaEmbed));\n",
       "    }\n",
       "  })({\"config\": {\"view\": {\"continuousWidth\": 400, \"continuousHeight\": 300}}, \"data\": {\"name\": \"data-4979e469f0735408834557df567add8b\"}, \"mark\": \"bar\", \"encoding\": {\"color\": {\"field\": \"Categories\", \"scale\": {\"range\": [\"#2EA8CE\", \"#EB9F3C\", \"#F4D837\", \"#51BF9D\", \"#8CBCCB\", \"#9487C0\"]}, \"type\": \"nominal\"}, \"row\": {\"field\": \"Categories\", \"type\": \"nominal\"}, \"tooltip\": [{\"field\": \"Agency\", \"title\": \"Agency\", \"type\": \"nominal\"}, {\"field\": \"Funding Amount\", \"format\": \"$,.2f\", \"title\": \"Funding Amount\", \"type\": \"quantitative\"}], \"x\": {\"axis\": {\"format\": \"$.2s\", \"title\": \"Obligated Funding ($2021)\"}, \"field\": \"Funding Amount\", \"type\": \"quantitative\"}, \"y\": {\"field\": \"Agency\", \"type\": \"nominal\"}}, \"height\": 70, \"width\": 400, \"$schema\": \"https://vega.github.io/schema/vega-lite/v4.17.0.json\", \"datasets\": {\"data-4979e469f0735408834557df567add8b\": [{\"Agency\": \"Orange County Transportation Authority\", \"Categories\": \"Total Requested\", \"Funding Amount\": 10424712.322328975}, {\"Agency\": \"Huntington Beach\", \"Categories\": \"Total Requested\", \"Funding Amount\": 200050.5769504644}, {\"Agency\": \"Orange County\", \"Categories\": \"Total Requested\", \"Funding Amount\": 1152933.4666046419}, {\"Agency\": \"Santa Ana\", \"Categories\": \"Total Requested\", \"Funding Amount\": 512207.60010914505}, {\"Agency\": \"Anaheim\", \"Categories\": \"Total Requested\", \"Funding Amount\": 685166.9431767105}, {\"Agency\": \"Orange County Transportation Authority\", \"Categories\": \"Fed Requested\", \"Funding Amount\": 27020023.48139596}, {\"Agency\": \"Huntington Beach\", \"Categories\": \"Fed Requested\", \"Funding Amount\": 118630.55026649316}, {\"Agency\": \"Orange County\", \"Categories\": \"Fed Requested\", \"Funding Amount\": 837335.7869208686}, {\"Agency\": \"Santa Ana\", \"Categories\": \"Fed Requested\", \"Funding Amount\": 301475.21071313164}, {\"Agency\": \"Anaheim\", \"Categories\": \"Fed Requested\", \"Funding Amount\": 304178.64679201465}, {\"Agency\": \"Orange County Transportation Authority\", \"Categories\": \"AC Requested\", \"Funding Amount\": 162155.04672694518}, {\"Agency\": \"Huntington Beach\", \"Categories\": \"AC Requested\", \"Funding Amount\": 0.0}, {\"Agency\": \"Orange County\", \"Categories\": \"AC Requested\", \"Funding Amount\": 0.0}, {\"Agency\": \"Santa Ana\", \"Categories\": \"AC Requested\", \"Funding Amount\": -46615.52057311366}, {\"Agency\": \"Anaheim\", \"Categories\": \"AC Requested\", \"Funding Amount\": 0.0}]}}, {\"mode\": \"vega-lite\"});\n",
       "</script>"
      ],
      "text/plain": [
       "alt.Chart(...)"
      ]
     },
     "metadata": {},
     "output_type": "display_data"
    },
    {
     "data": {
      "application/vnd.jupyter.widget-view+json": {
       "model_id": "68ef0420cae342f8b72e9f0be493f4bd",
       "version_major": 2,
       "version_minor": 0
      },
      "text/plain": [
       "HTML(value='<h3> Top Agencies using Congestion Relief Projects </h3>')"
      ]
     },
     "metadata": {},
     "output_type": "display_data"
    },
    {
     "data": {
      "application/vnd.jupyter.widget-view+json": {
       "model_id": "5b2f1facc3d0464d826001e23ebb690d",
       "version_major": 2,
       "version_minor": 0
      },
      "text/plain": [
       "HTML(value='<style type=\"text/css\">\\n#T_39688 th {\\n  text-align: center;\\n}\\n</style>\\n<table id=\"T_39688\">\\n…"
      ]
     },
     "metadata": {},
     "output_type": "display_data"
    },
    {
     "name": "stderr",
     "output_type": "stream",
     "text": [
      "/opt/conda/lib/python3.9/site-packages/altair/utils/core.py:219: UserWarning: I don't know how to infer vegalite type from 'empty'.  Defaulting to nominal.\n"
     ]
    },
    {
     "data": {
      "text/html": [
       "\n",
       "<div id=\"altair-viz-11e47a01336941d4b90034477f26674e\"></div>\n",
       "<script type=\"text/javascript\">\n",
       "  var VEGA_DEBUG = (typeof VEGA_DEBUG == \"undefined\") ? {} : VEGA_DEBUG;\n",
       "  (function(spec, embedOpt){\n",
       "    let outputDiv = document.currentScript.previousElementSibling;\n",
       "    if (outputDiv.id !== \"altair-viz-11e47a01336941d4b90034477f26674e\") {\n",
       "      outputDiv = document.getElementById(\"altair-viz-11e47a01336941d4b90034477f26674e\");\n",
       "    }\n",
       "    const paths = {\n",
       "      \"vega\": \"https://cdn.jsdelivr.net/npm//vega@5?noext\",\n",
       "      \"vega-lib\": \"https://cdn.jsdelivr.net/npm//vega-lib?noext\",\n",
       "      \"vega-lite\": \"https://cdn.jsdelivr.net/npm//vega-lite@4.17.0?noext\",\n",
       "      \"vega-embed\": \"https://cdn.jsdelivr.net/npm//vega-embed@6?noext\",\n",
       "    };\n",
       "\n",
       "    function maybeLoadScript(lib, version) {\n",
       "      var key = `${lib.replace(\"-\", \"\")}_version`;\n",
       "      return (VEGA_DEBUG[key] == version) ?\n",
       "        Promise.resolve(paths[lib]) :\n",
       "        new Promise(function(resolve, reject) {\n",
       "          var s = document.createElement('script');\n",
       "          document.getElementsByTagName(\"head\")[0].appendChild(s);\n",
       "          s.async = true;\n",
       "          s.onload = () => {\n",
       "            VEGA_DEBUG[key] = version;\n",
       "            return resolve(paths[lib]);\n",
       "          };\n",
       "          s.onerror = () => reject(`Error loading script: ${paths[lib]}`);\n",
       "          s.src = paths[lib];\n",
       "        });\n",
       "    }\n",
       "\n",
       "    function showError(err) {\n",
       "      outputDiv.innerHTML = `<div class=\"error\" style=\"color:red;\">${err}</div>`;\n",
       "      throw err;\n",
       "    }\n",
       "\n",
       "    function displayChart(vegaEmbed) {\n",
       "      vegaEmbed(outputDiv, spec, embedOpt)\n",
       "        .catch(err => showError(`Javascript Error: ${err.message}<br>This usually means there's a typo in your chart specification. See the javascript console for the full traceback.`));\n",
       "    }\n",
       "\n",
       "    if(typeof define === \"function\" && define.amd) {\n",
       "      requirejs.config({paths});\n",
       "      require([\"vega-embed\"], displayChart, err => showError(`Error loading script: ${err.message}`));\n",
       "    } else {\n",
       "      maybeLoadScript(\"vega\", \"5\")\n",
       "        .then(() => maybeLoadScript(\"vega-lite\", \"4.17.0\"))\n",
       "        .then(() => maybeLoadScript(\"vega-embed\", \"6\"))\n",
       "        .catch(showError)\n",
       "        .then(() => displayChart(vegaEmbed));\n",
       "    }\n",
       "  })({\"config\": {\"view\": {\"continuousWidth\": 400, \"continuousHeight\": 300}}, \"data\": {\"name\": \"data-d751713988987e9331980363e24189ce\"}, \"mark\": \"bar\", \"encoding\": {\"color\": {\"field\": \"Categories\", \"scale\": {\"range\": [\"#2EA8CE\", \"#EB9F3C\", \"#F4D837\", \"#51BF9D\", \"#8CBCCB\", \"#9487C0\"]}, \"type\": \"nominal\"}, \"row\": {\"field\": \"Categories\", \"type\": \"nominal\"}, \"tooltip\": [{\"field\": \"Agency\", \"title\": \"Agency\", \"type\": \"nominal\"}, {\"field\": \"Funding Amount\", \"format\": \"$,.2f\", \"title\": \"Funding Amount\", \"type\": \"quantitative\"}], \"x\": {\"axis\": {\"format\": \"$.2s\", \"title\": \"Obligated Funding ($2021)\"}, \"field\": \"Funding Amount\", \"type\": \"quantitative\"}, \"y\": {\"field\": \"Agency\", \"type\": \"nominal\"}}, \"height\": 70, \"width\": 400, \"$schema\": \"https://vega.github.io/schema/vega-lite/v4.17.0.json\", \"datasets\": {\"data-d751713988987e9331980363e24189ce\": []}}, {\"mode\": \"vega-lite\"});\n",
       "</script>"
      ],
      "text/plain": [
       "alt.Chart(...)"
      ]
     },
     "metadata": {},
     "output_type": "display_data"
    }
   ],
   "source": [
    "# create loop:\n",
    "\n",
    "work_cat = ['active_transp', 'transit', 'bridge', 'street','freeway', 'infra_resiliency_er','congestion_relief']\n",
    "\n",
    "for cat in work_cat:\n",
    "    _dla_utils.project_cat(df, cat, district)"
   ]
  },
  {
   "cell_type": "code",
   "execution_count": null,
   "id": "5a50e751-dd3f-498f-9a28-2edc321b534f",
   "metadata": {
    "jupyter": {
     "source_hidden": true
    },
    "papermill": {
     "duration": 0.047689,
     "end_time": "2022-06-02T22:25:38.699279",
     "exception": false,
     "start_time": "2022-06-02T22:25:38.651590",
     "status": "completed"
    },
    "tags": [
     "remove_input"
    ]
   },
   "outputs": [],
   "source": []
  },
  {
   "cell_type": "code",
   "execution_count": null,
   "id": "9ecbddcd-3d8e-4955-9294-5a63a98ca2a7",
   "metadata": {
    "jupyter": {
     "source_hidden": true
    },
    "papermill": {
     "duration": 0.037514,
     "end_time": "2022-06-02T22:25:38.773250",
     "exception": false,
     "start_time": "2022-06-02T22:25:38.735736",
     "status": "completed"
    },
    "tags": [
     "remove_input"
    ]
   },
   "outputs": [],
   "source": []
  }
 ],
 "metadata": {
  "kernelspec": {
   "display_name": "Python 3 (ipykernel)",
   "language": "python",
   "name": "python3"
  },
  "language_info": {
   "codemirror_mode": {
    "name": "ipython",
    "version": 3
   },
   "file_extension": ".py",
   "mimetype": "text/x-python",
   "name": "python",
   "nbconvert_exporter": "python",
   "pygments_lexer": "ipython3",
   "version": "3.9.12"
  },
  "papermill": {
   "default_parameters": {},
   "duration": 17.45901,
   "end_time": "2022-06-02T22:25:40.146598",
   "environment_variables": {},
   "exception": null,
   "input_path": "dla/e76_obligated_funds/reports/dla_district_report.ipynb",
   "output_path": "portfolio/dla/district_12__district_title_district-12-irvine/0__dla_district_report__district_12__district_title_district-12-irvine.ipynb",
   "parameters": {
    "district": 12,
    "district_title": "District 12 - Irvine"
   },
   "start_time": "2022-06-02T22:25:22.687588",
   "version": "2.3.4"
  },
  "widgets": {
   "application/vnd.jupyter.widget-state+json": {
    "state": {
     "20dcdcb7ee1e41efbeeef5ef94762c3f": {
      "model_module": "@jupyter-widgets/controls",
      "model_module_version": "1.5.0",
      "model_name": "DescriptionStyleModel",
      "state": {
       "_model_module": "@jupyter-widgets/controls",
       "_model_module_version": "1.5.0",
       "_model_name": "DescriptionStyleModel",
       "_view_count": null,
       "_view_module": "@jupyter-widgets/base",
       "_view_module_version": "1.2.0",
       "_view_name": "StyleView",
       "description_width": ""
      }
     },
     "23aa96b5f2c6423c94aeeade48070990": {
      "model_module": "@jupyter-widgets/base",
      "model_module_version": "1.2.0",
      "model_name": "LayoutModel",
      "state": {
       "_model_module": "@jupyter-widgets/base",
       "_model_module_version": "1.2.0",
       "_model_name": "LayoutModel",
       "_view_count": null,
       "_view_module": "@jupyter-widgets/base",
       "_view_module_version": "1.2.0",
       "_view_name": "LayoutView",
       "align_content": null,
       "align_items": null,
       "align_self": null,
       "border": null,
       "bottom": null,
       "display": null,
       "flex": null,
       "flex_flow": null,
       "grid_area": null,
       "grid_auto_columns": null,
       "grid_auto_flow": null,
       "grid_auto_rows": null,
       "grid_column": null,
       "grid_gap": null,
       "grid_row": null,
       "grid_template_areas": null,
       "grid_template_columns": null,
       "grid_template_rows": null,
       "height": null,
       "justify_content": null,
       "justify_items": null,
       "left": null,
       "margin": null,
       "max_height": null,
       "max_width": null,
       "min_height": null,
       "min_width": null,
       "object_fit": null,
       "object_position": null,
       "order": null,
       "overflow": null,
       "overflow_x": null,
       "overflow_y": null,
       "padding": null,
       "right": null,
       "top": null,
       "visibility": null,
       "width": null
      }
     },
     "26cf824b5d7c4869ac96b5d18af7f861": {
      "model_module": "@jupyter-widgets/controls",
      "model_module_version": "1.5.0",
      "model_name": "HTMLModel",
      "state": {
       "_dom_classes": [],
       "_model_module": "@jupyter-widgets/controls",
       "_model_module_version": "1.5.0",
       "_model_name": "HTMLModel",
       "_view_count": null,
       "_view_module": "@jupyter-widgets/controls",
       "_view_module_version": "1.5.0",
       "_view_name": "HTMLView",
       "description": "",
       "description_tooltip": null,
       "layout": "IPY_MODEL_7930c03cfee7468d88e8cb1e7f357296",
       "placeholder": "​",
       "style": "IPY_MODEL_6a0ce353623945628e3ea54342e495f8",
       "value": "<style type=\"text/css\">\n#T_e8313 th {\n  text-align: center;\n}\n#T_e8313_row0_col0, #T_e8313_row0_col1, #T_e8313_row0_col2, #T_e8313_row1_col0, #T_e8313_row1_col1, #T_e8313_row1_col2 {\n  text-align: center;\n}\n</style>\n<table id=\"T_e8313\">\n  <thead>\n    <tr>\n      <th id=\"T_e8313_level0_col0\" class=\"col_heading level0 col0\" >Agency</th>\n      <th id=\"T_e8313_level0_col1\" class=\"col_heading level0 col1\" >Freeway Obligations</th>\n      <th id=\"T_e8313_level0_col2\" class=\"col_heading level0 col2\" >Percent Of Category</th>\n    </tr>\n  </thead>\n  <tbody>\n    <tr>\n      <td id=\"T_e8313_row0_col0\" class=\"data row0 col0\" >Orange County Transportation Authority</td>\n      <td id=\"T_e8313_row0_col1\" class=\"data row0 col1\" >14</td>\n      <td id=\"T_e8313_row0_col2\" class=\"data row0 col2\" >$60.87</td>\n    </tr>\n    <tr>\n      <td id=\"T_e8313_row1_col0\" class=\"data row1 col0\" >Caltrans</td>\n      <td id=\"T_e8313_row1_col1\" class=\"data row1 col1\" >9</td>\n      <td id=\"T_e8313_row1_col2\" class=\"data row1 col2\" >$39.13</td>\n    </tr>\n  </tbody>\n</table>\n"
      }
     },
     "2d4395c82d47480ab92b012e1556ccd2": {
      "model_module": "@jupyter-widgets/base",
      "model_module_version": "1.2.0",
      "model_name": "LayoutModel",
      "state": {
       "_model_module": "@jupyter-widgets/base",
       "_model_module_version": "1.2.0",
       "_model_name": "LayoutModel",
       "_view_count": null,
       "_view_module": "@jupyter-widgets/base",
       "_view_module_version": "1.2.0",
       "_view_name": "LayoutView",
       "align_content": null,
       "align_items": null,
       "align_self": null,
       "border": null,
       "bottom": null,
       "display": null,
       "flex": null,
       "flex_flow": null,
       "grid_area": null,
       "grid_auto_columns": null,
       "grid_auto_flow": null,
       "grid_auto_rows": null,
       "grid_column": null,
       "grid_gap": null,
       "grid_row": null,
       "grid_template_areas": null,
       "grid_template_columns": null,
       "grid_template_rows": null,
       "height": null,
       "justify_content": null,
       "justify_items": null,
       "left": null,
       "margin": null,
       "max_height": null,
       "max_width": null,
       "min_height": null,
       "min_width": null,
       "object_fit": null,
       "object_position": null,
       "order": null,
       "overflow": null,
       "overflow_x": null,
       "overflow_y": null,
       "padding": null,
       "right": null,
       "top": null,
       "visibility": null,
       "width": null
      }
     },
     "32e4edb1481c474285410221540250e8": {
      "model_module": "@jupyter-widgets/controls",
      "model_module_version": "1.5.0",
      "model_name": "HTMLModel",
      "state": {
       "_dom_classes": [],
       "_model_module": "@jupyter-widgets/controls",
       "_model_module_version": "1.5.0",
       "_model_name": "HTMLModel",
       "_view_count": null,
       "_view_module": "@jupyter-widgets/controls",
       "_view_module_version": "1.5.0",
       "_view_name": "HTMLView",
       "description": "",
       "description_tooltip": null,
       "layout": "IPY_MODEL_8c6a5713dcc746e09cb0624706b88665",
       "placeholder": "​",
       "style": "IPY_MODEL_a3e82c9c386346bc993d2299e708bda4",
       "value": "<style type=\"text/css\">\n#T_38aa6 th {\n  text-align: center;\n}\n#T_38aa6_row0_col0, #T_38aa6_row0_col1, #T_38aa6_row0_col2, #T_38aa6_row1_col0, #T_38aa6_row1_col1, #T_38aa6_row1_col2, #T_38aa6_row2_col0, #T_38aa6_row2_col1, #T_38aa6_row2_col2, #T_38aa6_row3_col0, #T_38aa6_row3_col1, #T_38aa6_row3_col2, #T_38aa6_row4_col0, #T_38aa6_row4_col1, #T_38aa6_row4_col2 {\n  text-align: center;\n}\n</style>\n<table id=\"T_38aa6\">\n  <thead>\n    <tr>\n      <th id=\"T_38aa6_level0_col0\" class=\"col_heading level0 col0\" >Agency</th>\n      <th id=\"T_38aa6_level0_col1\" class=\"col_heading level0 col1\" >Street Obligations</th>\n      <th id=\"T_38aa6_level0_col2\" class=\"col_heading level0 col2\" >Percent Of Category</th>\n    </tr>\n  </thead>\n  <tbody>\n    <tr>\n      <td id=\"T_38aa6_row0_col0\" class=\"data row0 col0\" >Huntington Beach</td>\n      <td id=\"T_38aa6_row0_col1\" class=\"data row0 col1\" >50</td>\n      <td id=\"T_38aa6_row0_col2\" class=\"data row0 col2\" >$13.81</td>\n    </tr>\n    <tr>\n      <td id=\"T_38aa6_row1_col0\" class=\"data row1 col0\" >Orange</td>\n      <td id=\"T_38aa6_row1_col1\" class=\"data row1 col1\" >50</td>\n      <td id=\"T_38aa6_row1_col2\" class=\"data row1 col2\" >$13.81</td>\n    </tr>\n    <tr>\n      <td id=\"T_38aa6_row2_col0\" class=\"data row2 col0\" >Santa Ana</td>\n      <td id=\"T_38aa6_row2_col1\" class=\"data row2 col1\" >47</td>\n      <td id=\"T_38aa6_row2_col2\" class=\"data row2 col2\" >$12.98</td>\n    </tr>\n    <tr>\n      <td id=\"T_38aa6_row3_col0\" class=\"data row3 col0\" >Costa Mesa</td>\n      <td id=\"T_38aa6_row3_col1\" class=\"data row3 col1\" >32</td>\n      <td id=\"T_38aa6_row3_col2\" class=\"data row3 col2\" >$8.84</td>\n    </tr>\n    <tr>\n      <td id=\"T_38aa6_row4_col0\" class=\"data row4 col0\" >Anaheim</td>\n      <td id=\"T_38aa6_row4_col1\" class=\"data row4 col1\" >27</td>\n      <td id=\"T_38aa6_row4_col2\" class=\"data row4 col2\" >$7.46</td>\n    </tr>\n  </tbody>\n</table>\n"
      }
     },
     "3e5c892c0f3945bda43c3c314e44dd0d": {
      "model_module": "@jupyter-widgets/base",
      "model_module_version": "1.2.0",
      "model_name": "LayoutModel",
      "state": {
       "_model_module": "@jupyter-widgets/base",
       "_model_module_version": "1.2.0",
       "_model_name": "LayoutModel",
       "_view_count": null,
       "_view_module": "@jupyter-widgets/base",
       "_view_module_version": "1.2.0",
       "_view_name": "LayoutView",
       "align_content": null,
       "align_items": null,
       "align_self": null,
       "border": null,
       "bottom": null,
       "display": null,
       "flex": null,
       "flex_flow": null,
       "grid_area": null,
       "grid_auto_columns": null,
       "grid_auto_flow": null,
       "grid_auto_rows": null,
       "grid_column": null,
       "grid_gap": null,
       "grid_row": null,
       "grid_template_areas": null,
       "grid_template_columns": null,
       "grid_template_rows": null,
       "height": null,
       "justify_content": null,
       "justify_items": null,
       "left": null,
       "margin": null,
       "max_height": null,
       "max_width": null,
       "min_height": null,
       "min_width": null,
       "object_fit": null,
       "object_position": null,
       "order": null,
       "overflow": null,
       "overflow_x": null,
       "overflow_y": null,
       "padding": null,
       "right": null,
       "top": null,
       "visibility": null,
       "width": null
      }
     },
     "49f265d2a522458e99bc019515d5029a": {
      "model_module": "@jupyter-widgets/controls",
      "model_module_version": "1.5.0",
      "model_name": "HTMLModel",
      "state": {
       "_dom_classes": [],
       "_model_module": "@jupyter-widgets/controls",
       "_model_module_version": "1.5.0",
       "_model_name": "HTMLModel",
       "_view_count": null,
       "_view_module": "@jupyter-widgets/controls",
       "_view_module_version": "1.5.0",
       "_view_name": "HTMLView",
       "description": "",
       "description_tooltip": null,
       "layout": "IPY_MODEL_5fabcc608d96468096c572d33db66b66",
       "placeholder": "​",
       "style": "IPY_MODEL_c1b1f169a92c47ceb0056a770db75a1d",
       "value": "<h3> Top Agencies using Infrastructure & Emergency Relief Projects </h3>"
      }
     },
     "4a20c39ad48e4a0596bd84a0af803a3b": {
      "model_module": "@jupyter-widgets/controls",
      "model_module_version": "1.5.0",
      "model_name": "DescriptionStyleModel",
      "state": {
       "_model_module": "@jupyter-widgets/controls",
       "_model_module_version": "1.5.0",
       "_model_name": "DescriptionStyleModel",
       "_view_count": null,
       "_view_module": "@jupyter-widgets/base",
       "_view_module_version": "1.2.0",
       "_view_name": "StyleView",
       "description_width": ""
      }
     },
     "4a8c1ebf59224282ace5acf438a4be0f": {
      "model_module": "@jupyter-widgets/base",
      "model_module_version": "1.2.0",
      "model_name": "LayoutModel",
      "state": {
       "_model_module": "@jupyter-widgets/base",
       "_model_module_version": "1.2.0",
       "_model_name": "LayoutModel",
       "_view_count": null,
       "_view_module": "@jupyter-widgets/base",
       "_view_module_version": "1.2.0",
       "_view_name": "LayoutView",
       "align_content": null,
       "align_items": null,
       "align_self": null,
       "border": null,
       "bottom": null,
       "display": null,
       "flex": null,
       "flex_flow": null,
       "grid_area": null,
       "grid_auto_columns": null,
       "grid_auto_flow": null,
       "grid_auto_rows": null,
       "grid_column": null,
       "grid_gap": null,
       "grid_row": null,
       "grid_template_areas": null,
       "grid_template_columns": null,
       "grid_template_rows": null,
       "height": null,
       "justify_content": null,
       "justify_items": null,
       "left": null,
       "margin": null,
       "max_height": null,
       "max_width": null,
       "min_height": null,
       "min_width": null,
       "object_fit": null,
       "object_position": null,
       "order": null,
       "overflow": null,
       "overflow_x": null,
       "overflow_y": null,
       "padding": null,
       "right": null,
       "top": null,
       "visibility": null,
       "width": null
      }
     },
     "4ef7d88fdcb342138176b5f7c2e4039a": {
      "model_module": "@jupyter-widgets/base",
      "model_module_version": "1.2.0",
      "model_name": "LayoutModel",
      "state": {
       "_model_module": "@jupyter-widgets/base",
       "_model_module_version": "1.2.0",
       "_model_name": "LayoutModel",
       "_view_count": null,
       "_view_module": "@jupyter-widgets/base",
       "_view_module_version": "1.2.0",
       "_view_name": "LayoutView",
       "align_content": null,
       "align_items": null,
       "align_self": null,
       "border": null,
       "bottom": null,
       "display": null,
       "flex": null,
       "flex_flow": null,
       "grid_area": null,
       "grid_auto_columns": null,
       "grid_auto_flow": null,
       "grid_auto_rows": null,
       "grid_column": null,
       "grid_gap": null,
       "grid_row": null,
       "grid_template_areas": null,
       "grid_template_columns": null,
       "grid_template_rows": null,
       "height": null,
       "justify_content": null,
       "justify_items": null,
       "left": null,
       "margin": null,
       "max_height": null,
       "max_width": null,
       "min_height": null,
       "min_width": null,
       "object_fit": null,
       "object_position": null,
       "order": null,
       "overflow": null,
       "overflow_x": null,
       "overflow_y": null,
       "padding": null,
       "right": null,
       "top": null,
       "visibility": null,
       "width": null
      }
     },
     "52c3000283534778aa522e6db9e490d3": {
      "model_module": "@jupyter-widgets/controls",
      "model_module_version": "1.5.0",
      "model_name": "HTMLModel",
      "state": {
       "_dom_classes": [],
       "_model_module": "@jupyter-widgets/controls",
       "_model_module_version": "1.5.0",
       "_model_name": "HTMLModel",
       "_view_count": null,
       "_view_module": "@jupyter-widgets/controls",
       "_view_module_version": "1.5.0",
       "_view_name": "HTMLView",
       "description": "",
       "description_tooltip": null,
       "layout": "IPY_MODEL_caa0769bba8e4a2cac8d396ebdb2d750",
       "placeholder": "​",
       "style": "IPY_MODEL_d6a1f93716754b80911d6aa088080576",
       "value": "<style type=\"text/css\">\n#T_53914 th {\n  text-align: center;\n}\n#T_53914_row0_col0, #T_53914_row0_col1, #T_53914_row0_col2, #T_53914_row1_col0, #T_53914_row1_col1, #T_53914_row1_col2, #T_53914_row2_col0, #T_53914_row2_col1, #T_53914_row2_col2, #T_53914_row3_col0, #T_53914_row3_col1, #T_53914_row3_col2, #T_53914_row4_col0, #T_53914_row4_col1, #T_53914_row4_col2 {\n  text-align: center;\n}\n</style>\n<table id=\"T_53914\">\n  <thead>\n    <tr>\n      <th id=\"T_53914_level0_col0\" class=\"col_heading level0 col0\" >Agency</th>\n      <th id=\"T_53914_level0_col1\" class=\"col_heading level0 col1\" >Infrastructure & Emergency Relief Obligations</th>\n      <th id=\"T_53914_level0_col2\" class=\"col_heading level0 col2\" >Percent Of Category</th>\n    </tr>\n  </thead>\n  <tbody>\n    <tr>\n      <td id=\"T_53914_row0_col0\" class=\"data row0 col0\" >Orange County Transportation Authority</td>\n      <td id=\"T_53914_row0_col1\" class=\"data row0 col1\" >48</td>\n      <td id=\"T_53914_row0_col2\" class=\"data row0 col2\" >$16.05</td>\n    </tr>\n    <tr>\n      <td id=\"T_53914_row1_col0\" class=\"data row1 col0\" >Huntington Beach</td>\n      <td id=\"T_53914_row1_col1\" class=\"data row1 col1\" >31</td>\n      <td id=\"T_53914_row1_col2\" class=\"data row1 col2\" >$10.37</td>\n    </tr>\n    <tr>\n      <td id=\"T_53914_row2_col0\" class=\"data row2 col0\" >Orange County</td>\n      <td id=\"T_53914_row2_col1\" class=\"data row2 col1\" >28</td>\n      <td id=\"T_53914_row2_col2\" class=\"data row2 col2\" >$9.36</td>\n    </tr>\n    <tr>\n      <td id=\"T_53914_row3_col0\" class=\"data row3 col0\" >Santa Ana</td>\n      <td id=\"T_53914_row3_col1\" class=\"data row3 col1\" >21</td>\n      <td id=\"T_53914_row3_col2\" class=\"data row3 col2\" >$7.02</td>\n    </tr>\n    <tr>\n      <td id=\"T_53914_row4_col0\" class=\"data row4 col0\" >Anaheim</td>\n      <td id=\"T_53914_row4_col1\" class=\"data row4 col1\" >19</td>\n      <td id=\"T_53914_row4_col2\" class=\"data row4 col2\" >$6.35</td>\n    </tr>\n  </tbody>\n</table>\n"
      }
     },
     "5b2f1facc3d0464d826001e23ebb690d": {
      "model_module": "@jupyter-widgets/controls",
      "model_module_version": "1.5.0",
      "model_name": "HTMLModel",
      "state": {
       "_dom_classes": [],
       "_model_module": "@jupyter-widgets/controls",
       "_model_module_version": "1.5.0",
       "_model_name": "HTMLModel",
       "_view_count": null,
       "_view_module": "@jupyter-widgets/controls",
       "_view_module_version": "1.5.0",
       "_view_name": "HTMLView",
       "description": "",
       "description_tooltip": null,
       "layout": "IPY_MODEL_4ef7d88fdcb342138176b5f7c2e4039a",
       "placeholder": "​",
       "style": "IPY_MODEL_7a21d16790d143bcbd8f060463225be3",
       "value": "<style type=\"text/css\">\n#T_39688 th {\n  text-align: center;\n}\n</style>\n<table id=\"T_39688\">\n  <thead>\n    <tr>\n      <th id=\"T_39688_level0_col0\" class=\"col_heading level0 col0\" >Agency</th>\n      <th id=\"T_39688_level0_col1\" class=\"col_heading level0 col1\" >Congestion Relief Obligations</th>\n      <th id=\"T_39688_level0_col2\" class=\"col_heading level0 col2\" >Percent Of Category</th>\n    </tr>\n  </thead>\n  <tbody>\n  </tbody>\n</table>\n"
      }
     },
     "5fabcc608d96468096c572d33db66b66": {
      "model_module": "@jupyter-widgets/base",
      "model_module_version": "1.2.0",
      "model_name": "LayoutModel",
      "state": {
       "_model_module": "@jupyter-widgets/base",
       "_model_module_version": "1.2.0",
       "_model_name": "LayoutModel",
       "_view_count": null,
       "_view_module": "@jupyter-widgets/base",
       "_view_module_version": "1.2.0",
       "_view_name": "LayoutView",
       "align_content": null,
       "align_items": null,
       "align_self": null,
       "border": null,
       "bottom": null,
       "display": null,
       "flex": null,
       "flex_flow": null,
       "grid_area": null,
       "grid_auto_columns": null,
       "grid_auto_flow": null,
       "grid_auto_rows": null,
       "grid_column": null,
       "grid_gap": null,
       "grid_row": null,
       "grid_template_areas": null,
       "grid_template_columns": null,
       "grid_template_rows": null,
       "height": null,
       "justify_content": null,
       "justify_items": null,
       "left": null,
       "margin": null,
       "max_height": null,
       "max_width": null,
       "min_height": null,
       "min_width": null,
       "object_fit": null,
       "object_position": null,
       "order": null,
       "overflow": null,
       "overflow_x": null,
       "overflow_y": null,
       "padding": null,
       "right": null,
       "top": null,
       "visibility": null,
       "width": null
      }
     },
     "68ef0420cae342f8b72e9f0be493f4bd": {
      "model_module": "@jupyter-widgets/controls",
      "model_module_version": "1.5.0",
      "model_name": "HTMLModel",
      "state": {
       "_dom_classes": [],
       "_model_module": "@jupyter-widgets/controls",
       "_model_module_version": "1.5.0",
       "_model_name": "HTMLModel",
       "_view_count": null,
       "_view_module": "@jupyter-widgets/controls",
       "_view_module_version": "1.5.0",
       "_view_name": "HTMLView",
       "description": "",
       "description_tooltip": null,
       "layout": "IPY_MODEL_23aa96b5f2c6423c94aeeade48070990",
       "placeholder": "​",
       "style": "IPY_MODEL_6f83dfd4ac22426b8b8afd0981a570e4",
       "value": "<h3> Top Agencies using Congestion Relief Projects </h3>"
      }
     },
     "6a0ce353623945628e3ea54342e495f8": {
      "model_module": "@jupyter-widgets/controls",
      "model_module_version": "1.5.0",
      "model_name": "DescriptionStyleModel",
      "state": {
       "_model_module": "@jupyter-widgets/controls",
       "_model_module_version": "1.5.0",
       "_model_name": "DescriptionStyleModel",
       "_view_count": null,
       "_view_module": "@jupyter-widgets/base",
       "_view_module_version": "1.2.0",
       "_view_name": "StyleView",
       "description_width": ""
      }
     },
     "6f83dfd4ac22426b8b8afd0981a570e4": {
      "model_module": "@jupyter-widgets/controls",
      "model_module_version": "1.5.0",
      "model_name": "DescriptionStyleModel",
      "state": {
       "_model_module": "@jupyter-widgets/controls",
       "_model_module_version": "1.5.0",
       "_model_name": "DescriptionStyleModel",
       "_view_count": null,
       "_view_module": "@jupyter-widgets/base",
       "_view_module_version": "1.2.0",
       "_view_name": "StyleView",
       "description_width": ""
      }
     },
     "715e068449494873b08adac90e2933c5": {
      "model_module": "@jupyter-widgets/controls",
      "model_module_version": "1.5.0",
      "model_name": "DescriptionStyleModel",
      "state": {
       "_model_module": "@jupyter-widgets/controls",
       "_model_module_version": "1.5.0",
       "_model_name": "DescriptionStyleModel",
       "_view_count": null,
       "_view_module": "@jupyter-widgets/base",
       "_view_module_version": "1.2.0",
       "_view_name": "StyleView",
       "description_width": ""
      }
     },
     "78e8707c21074aec953968892bf0cd58": {
      "model_module": "@jupyter-widgets/controls",
      "model_module_version": "1.5.0",
      "model_name": "DescriptionStyleModel",
      "state": {
       "_model_module": "@jupyter-widgets/controls",
       "_model_module_version": "1.5.0",
       "_model_name": "DescriptionStyleModel",
       "_view_count": null,
       "_view_module": "@jupyter-widgets/base",
       "_view_module_version": "1.2.0",
       "_view_name": "StyleView",
       "description_width": ""
      }
     },
     "7930c03cfee7468d88e8cb1e7f357296": {
      "model_module": "@jupyter-widgets/base",
      "model_module_version": "1.2.0",
      "model_name": "LayoutModel",
      "state": {
       "_model_module": "@jupyter-widgets/base",
       "_model_module_version": "1.2.0",
       "_model_name": "LayoutModel",
       "_view_count": null,
       "_view_module": "@jupyter-widgets/base",
       "_view_module_version": "1.2.0",
       "_view_name": "LayoutView",
       "align_content": null,
       "align_items": null,
       "align_self": null,
       "border": null,
       "bottom": null,
       "display": null,
       "flex": null,
       "flex_flow": null,
       "grid_area": null,
       "grid_auto_columns": null,
       "grid_auto_flow": null,
       "grid_auto_rows": null,
       "grid_column": null,
       "grid_gap": null,
       "grid_row": null,
       "grid_template_areas": null,
       "grid_template_columns": null,
       "grid_template_rows": null,
       "height": null,
       "justify_content": null,
       "justify_items": null,
       "left": null,
       "margin": null,
       "max_height": null,
       "max_width": null,
       "min_height": null,
       "min_width": null,
       "object_fit": null,
       "object_position": null,
       "order": null,
       "overflow": null,
       "overflow_x": null,
       "overflow_y": null,
       "padding": null,
       "right": null,
       "top": null,
       "visibility": null,
       "width": null
      }
     },
     "7a21d16790d143bcbd8f060463225be3": {
      "model_module": "@jupyter-widgets/controls",
      "model_module_version": "1.5.0",
      "model_name": "DescriptionStyleModel",
      "state": {
       "_model_module": "@jupyter-widgets/controls",
       "_model_module_version": "1.5.0",
       "_model_name": "DescriptionStyleModel",
       "_view_count": null,
       "_view_module": "@jupyter-widgets/base",
       "_view_module_version": "1.2.0",
       "_view_name": "StyleView",
       "description_width": ""
      }
     },
     "7af27aa4063d419b90aeadd5af79cebc": {
      "model_module": "@jupyter-widgets/controls",
      "model_module_version": "1.5.0",
      "model_name": "DescriptionStyleModel",
      "state": {
       "_model_module": "@jupyter-widgets/controls",
       "_model_module_version": "1.5.0",
       "_model_name": "DescriptionStyleModel",
       "_view_count": null,
       "_view_module": "@jupyter-widgets/base",
       "_view_module_version": "1.2.0",
       "_view_name": "StyleView",
       "description_width": ""
      }
     },
     "7b8dcfc24d234a5e9f337e47be30fb2d": {
      "model_module": "@jupyter-widgets/controls",
      "model_module_version": "1.5.0",
      "model_name": "HTMLModel",
      "state": {
       "_dom_classes": [],
       "_model_module": "@jupyter-widgets/controls",
       "_model_module_version": "1.5.0",
       "_model_name": "HTMLModel",
       "_view_count": null,
       "_view_module": "@jupyter-widgets/controls",
       "_view_module_version": "1.5.0",
       "_view_name": "HTMLView",
       "description": "",
       "description_tooltip": null,
       "layout": "IPY_MODEL_ec4f79c1c83f4474bfdeaf964b28b363",
       "placeholder": "​",
       "style": "IPY_MODEL_4a20c39ad48e4a0596bd84a0af803a3b",
       "value": "<style type=\"text/css\">\n#T_58a5c th {\n  text-align: center;\n}\n#T_58a5c_row0_col0, #T_58a5c_row0_col1, #T_58a5c_row0_col2 {\n  text-align: center;\n}\n</style>\n<table id=\"T_58a5c\">\n  <thead>\n    <tr>\n      <th id=\"T_58a5c_level0_col0\" class=\"col_heading level0 col0\" >Agency</th>\n      <th id=\"T_58a5c_level0_col1\" class=\"col_heading level0 col1\" >Transit Obligations</th>\n      <th id=\"T_58a5c_level0_col2\" class=\"col_heading level0 col2\" >Percent Of Category</th>\n    </tr>\n  </thead>\n  <tbody>\n    <tr>\n      <td id=\"T_58a5c_row0_col0\" class=\"data row0 col0\" >Santa Ana</td>\n      <td id=\"T_58a5c_row0_col1\" class=\"data row0 col1\" >1</td>\n      <td id=\"T_58a5c_row0_col2\" class=\"data row0 col2\" >$100.00</td>\n    </tr>\n  </tbody>\n</table>\n"
      }
     },
     "7d734c86254849b2be966ef94be8df0c": {
      "model_module": "@jupyter-widgets/controls",
      "model_module_version": "1.5.0",
      "model_name": "DescriptionStyleModel",
      "state": {
       "_model_module": "@jupyter-widgets/controls",
       "_model_module_version": "1.5.0",
       "_model_name": "DescriptionStyleModel",
       "_view_count": null,
       "_view_module": "@jupyter-widgets/base",
       "_view_module_version": "1.2.0",
       "_view_name": "StyleView",
       "description_width": ""
      }
     },
     "88b405736c1d430fa286c960f33a3e2b": {
      "model_module": "@jupyter-widgets/controls",
      "model_module_version": "1.5.0",
      "model_name": "HTMLModel",
      "state": {
       "_dom_classes": [],
       "_model_module": "@jupyter-widgets/controls",
       "_model_module_version": "1.5.0",
       "_model_name": "HTMLModel",
       "_view_count": null,
       "_view_module": "@jupyter-widgets/controls",
       "_view_module_version": "1.5.0",
       "_view_name": "HTMLView",
       "description": "",
       "description_tooltip": null,
       "layout": "IPY_MODEL_8e0ab4eb8785494abc8b1ffcb607458e",
       "placeholder": "​",
       "style": "IPY_MODEL_78e8707c21074aec953968892bf0cd58",
       "value": "<h3> Top Agencies using Freeway Projects </h3>"
      }
     },
     "8a7c2d5f13644717b225d0eb76c3795c": {
      "model_module": "@jupyter-widgets/base",
      "model_module_version": "1.2.0",
      "model_name": "LayoutModel",
      "state": {
       "_model_module": "@jupyter-widgets/base",
       "_model_module_version": "1.2.0",
       "_model_name": "LayoutModel",
       "_view_count": null,
       "_view_module": "@jupyter-widgets/base",
       "_view_module_version": "1.2.0",
       "_view_name": "LayoutView",
       "align_content": null,
       "align_items": null,
       "align_self": null,
       "border": null,
       "bottom": null,
       "display": null,
       "flex": null,
       "flex_flow": null,
       "grid_area": null,
       "grid_auto_columns": null,
       "grid_auto_flow": null,
       "grid_auto_rows": null,
       "grid_column": null,
       "grid_gap": null,
       "grid_row": null,
       "grid_template_areas": null,
       "grid_template_columns": null,
       "grid_template_rows": null,
       "height": null,
       "justify_content": null,
       "justify_items": null,
       "left": null,
       "margin": null,
       "max_height": null,
       "max_width": null,
       "min_height": null,
       "min_width": null,
       "object_fit": null,
       "object_position": null,
       "order": null,
       "overflow": null,
       "overflow_x": null,
       "overflow_y": null,
       "padding": null,
       "right": null,
       "top": null,
       "visibility": null,
       "width": null
      }
     },
     "8c001688b7b34a2fa90e1c350495c082": {
      "model_module": "@jupyter-widgets/controls",
      "model_module_version": "1.5.0",
      "model_name": "HTMLModel",
      "state": {
       "_dom_classes": [],
       "_model_module": "@jupyter-widgets/controls",
       "_model_module_version": "1.5.0",
       "_model_name": "HTMLModel",
       "_view_count": null,
       "_view_module": "@jupyter-widgets/controls",
       "_view_module_version": "1.5.0",
       "_view_name": "HTMLView",
       "description": "",
       "description_tooltip": null,
       "layout": "IPY_MODEL_bf7a5cd269d54ea7a64b0575bf3caf28",
       "placeholder": "​",
       "style": "IPY_MODEL_92309fd492ac4791b6ea6cd32d5adee6",
       "value": "<h3> Top Agencies using Transit Projects </h3>"
      }
     },
     "8c6a5713dcc746e09cb0624706b88665": {
      "model_module": "@jupyter-widgets/base",
      "model_module_version": "1.2.0",
      "model_name": "LayoutModel",
      "state": {
       "_model_module": "@jupyter-widgets/base",
       "_model_module_version": "1.2.0",
       "_model_name": "LayoutModel",
       "_view_count": null,
       "_view_module": "@jupyter-widgets/base",
       "_view_module_version": "1.2.0",
       "_view_name": "LayoutView",
       "align_content": null,
       "align_items": null,
       "align_self": null,
       "border": null,
       "bottom": null,
       "display": null,
       "flex": null,
       "flex_flow": null,
       "grid_area": null,
       "grid_auto_columns": null,
       "grid_auto_flow": null,
       "grid_auto_rows": null,
       "grid_column": null,
       "grid_gap": null,
       "grid_row": null,
       "grid_template_areas": null,
       "grid_template_columns": null,
       "grid_template_rows": null,
       "height": null,
       "justify_content": null,
       "justify_items": null,
       "left": null,
       "margin": null,
       "max_height": null,
       "max_width": null,
       "min_height": null,
       "min_width": null,
       "object_fit": null,
       "object_position": null,
       "order": null,
       "overflow": null,
       "overflow_x": null,
       "overflow_y": null,
       "padding": null,
       "right": null,
       "top": null,
       "visibility": null,
       "width": null
      }
     },
     "8cd25b7c4cce4fdd9975af2d70ae0e42": {
      "model_module": "@jupyter-widgets/controls",
      "model_module_version": "1.5.0",
      "model_name": "HTMLModel",
      "state": {
       "_dom_classes": [],
       "_model_module": "@jupyter-widgets/controls",
       "_model_module_version": "1.5.0",
       "_model_name": "HTMLModel",
       "_view_count": null,
       "_view_module": "@jupyter-widgets/controls",
       "_view_module_version": "1.5.0",
       "_view_name": "HTMLView",
       "description": "",
       "description_tooltip": null,
       "layout": "IPY_MODEL_3e5c892c0f3945bda43c3c314e44dd0d",
       "placeholder": "​",
       "style": "IPY_MODEL_7d734c86254849b2be966ef94be8df0c",
       "value": "<h3> Top Agencies using Bridge Projects </h3>"
      }
     },
     "8e0ab4eb8785494abc8b1ffcb607458e": {
      "model_module": "@jupyter-widgets/base",
      "model_module_version": "1.2.0",
      "model_name": "LayoutModel",
      "state": {
       "_model_module": "@jupyter-widgets/base",
       "_model_module_version": "1.2.0",
       "_model_name": "LayoutModel",
       "_view_count": null,
       "_view_module": "@jupyter-widgets/base",
       "_view_module_version": "1.2.0",
       "_view_name": "LayoutView",
       "align_content": null,
       "align_items": null,
       "align_self": null,
       "border": null,
       "bottom": null,
       "display": null,
       "flex": null,
       "flex_flow": null,
       "grid_area": null,
       "grid_auto_columns": null,
       "grid_auto_flow": null,
       "grid_auto_rows": null,
       "grid_column": null,
       "grid_gap": null,
       "grid_row": null,
       "grid_template_areas": null,
       "grid_template_columns": null,
       "grid_template_rows": null,
       "height": null,
       "justify_content": null,
       "justify_items": null,
       "left": null,
       "margin": null,
       "max_height": null,
       "max_width": null,
       "min_height": null,
       "min_width": null,
       "object_fit": null,
       "object_position": null,
       "order": null,
       "overflow": null,
       "overflow_x": null,
       "overflow_y": null,
       "padding": null,
       "right": null,
       "top": null,
       "visibility": null,
       "width": null
      }
     },
     "90da0140359a466ead031b2a53c7ab92": {
      "model_module": "@jupyter-widgets/controls",
      "model_module_version": "1.5.0",
      "model_name": "HTMLModel",
      "state": {
       "_dom_classes": [],
       "_model_module": "@jupyter-widgets/controls",
       "_model_module_version": "1.5.0",
       "_model_name": "HTMLModel",
       "_view_count": null,
       "_view_module": "@jupyter-widgets/controls",
       "_view_module_version": "1.5.0",
       "_view_name": "HTMLView",
       "description": "",
       "description_tooltip": null,
       "layout": "IPY_MODEL_deb15a85d8a74d4bade3a43e01075a10",
       "placeholder": "​",
       "style": "IPY_MODEL_9279c2e616f2462a91d5055dd345f876",
       "value": "<style type=\"text/css\">\n#T_8955c th {\n  text-align: center;\n}\n#T_8955c_row0_col0, #T_8955c_row0_col1, #T_8955c_row0_col2, #T_8955c_row1_col0, #T_8955c_row1_col1, #T_8955c_row1_col2, #T_8955c_row2_col0, #T_8955c_row2_col1, #T_8955c_row2_col2, #T_8955c_row3_col0, #T_8955c_row3_col1, #T_8955c_row3_col2, #T_8955c_row4_col0, #T_8955c_row4_col1, #T_8955c_row4_col2 {\n  text-align: center;\n}\n</style>\n<table id=\"T_8955c\">\n  <thead>\n    <tr>\n      <th id=\"T_8955c_level0_col0\" class=\"col_heading level0 col0\" >Agency</th>\n      <th id=\"T_8955c_level0_col1\" class=\"col_heading level0 col1\" >Bridge Obligations</th>\n      <th id=\"T_8955c_level0_col2\" class=\"col_heading level0 col2\" >Percent Of Category</th>\n    </tr>\n  </thead>\n  <tbody>\n    <tr>\n      <td id=\"T_8955c_row0_col0\" class=\"data row0 col0\" >Orange County</td>\n      <td id=\"T_8955c_row0_col1\" class=\"data row0 col1\" >14</td>\n      <td id=\"T_8955c_row0_col2\" class=\"data row0 col2\" >$24.14</td>\n    </tr>\n    <tr>\n      <td id=\"T_8955c_row1_col0\" class=\"data row1 col0\" >Huntington Beach</td>\n      <td id=\"T_8955c_row1_col1\" class=\"data row1 col1\" >10</td>\n      <td id=\"T_8955c_row1_col2\" class=\"data row1 col2\" >$17.24</td>\n    </tr>\n    <tr>\n      <td id=\"T_8955c_row2_col0\" class=\"data row2 col0\" >Santa Ana</td>\n      <td id=\"T_8955c_row2_col1\" class=\"data row2 col1\" >9</td>\n      <td id=\"T_8955c_row2_col2\" class=\"data row2 col2\" >$15.52</td>\n    </tr>\n    <tr>\n      <td id=\"T_8955c_row3_col0\" class=\"data row3 col0\" >Rancho Santa Margarita</td>\n      <td id=\"T_8955c_row3_col1\" class=\"data row3 col1\" >8</td>\n      <td id=\"T_8955c_row3_col2\" class=\"data row3 col2\" >$13.79</td>\n    </tr>\n    <tr>\n      <td id=\"T_8955c_row4_col0\" class=\"data row4 col0\" >Newport Beach</td>\n      <td id=\"T_8955c_row4_col1\" class=\"data row4 col1\" >4</td>\n      <td id=\"T_8955c_row4_col2\" class=\"data row4 col2\" >$6.90</td>\n    </tr>\n  </tbody>\n</table>\n"
      }
     },
     "92309fd492ac4791b6ea6cd32d5adee6": {
      "model_module": "@jupyter-widgets/controls",
      "model_module_version": "1.5.0",
      "model_name": "DescriptionStyleModel",
      "state": {
       "_model_module": "@jupyter-widgets/controls",
       "_model_module_version": "1.5.0",
       "_model_name": "DescriptionStyleModel",
       "_view_count": null,
       "_view_module": "@jupyter-widgets/base",
       "_view_module_version": "1.2.0",
       "_view_name": "StyleView",
       "description_width": ""
      }
     },
     "9279c2e616f2462a91d5055dd345f876": {
      "model_module": "@jupyter-widgets/controls",
      "model_module_version": "1.5.0",
      "model_name": "DescriptionStyleModel",
      "state": {
       "_model_module": "@jupyter-widgets/controls",
       "_model_module_version": "1.5.0",
       "_model_name": "DescriptionStyleModel",
       "_view_count": null,
       "_view_module": "@jupyter-widgets/base",
       "_view_module_version": "1.2.0",
       "_view_name": "StyleView",
       "description_width": ""
      }
     },
     "a3e82c9c386346bc993d2299e708bda4": {
      "model_module": "@jupyter-widgets/controls",
      "model_module_version": "1.5.0",
      "model_name": "DescriptionStyleModel",
      "state": {
       "_model_module": "@jupyter-widgets/controls",
       "_model_module_version": "1.5.0",
       "_model_name": "DescriptionStyleModel",
       "_view_count": null,
       "_view_module": "@jupyter-widgets/base",
       "_view_module_version": "1.2.0",
       "_view_name": "StyleView",
       "description_width": ""
      }
     },
     "bf3b7ce5d8f245de807138b71a451e88": {
      "model_module": "@jupyter-widgets/controls",
      "model_module_version": "1.5.0",
      "model_name": "HTMLModel",
      "state": {
       "_dom_classes": [],
       "_model_module": "@jupyter-widgets/controls",
       "_model_module_version": "1.5.0",
       "_model_name": "HTMLModel",
       "_view_count": null,
       "_view_module": "@jupyter-widgets/controls",
       "_view_module_version": "1.5.0",
       "_view_name": "HTMLView",
       "description": "",
       "description_tooltip": null,
       "layout": "IPY_MODEL_8a7c2d5f13644717b225d0eb76c3795c",
       "placeholder": "​",
       "style": "IPY_MODEL_715e068449494873b08adac90e2933c5",
       "value": "<h3> Top Agencies using Street Projects </h3>"
      }
     },
     "bf7a5cd269d54ea7a64b0575bf3caf28": {
      "model_module": "@jupyter-widgets/base",
      "model_module_version": "1.2.0",
      "model_name": "LayoutModel",
      "state": {
       "_model_module": "@jupyter-widgets/base",
       "_model_module_version": "1.2.0",
       "_model_name": "LayoutModel",
       "_view_count": null,
       "_view_module": "@jupyter-widgets/base",
       "_view_module_version": "1.2.0",
       "_view_name": "LayoutView",
       "align_content": null,
       "align_items": null,
       "align_self": null,
       "border": null,
       "bottom": null,
       "display": null,
       "flex": null,
       "flex_flow": null,
       "grid_area": null,
       "grid_auto_columns": null,
       "grid_auto_flow": null,
       "grid_auto_rows": null,
       "grid_column": null,
       "grid_gap": null,
       "grid_row": null,
       "grid_template_areas": null,
       "grid_template_columns": null,
       "grid_template_rows": null,
       "height": null,
       "justify_content": null,
       "justify_items": null,
       "left": null,
       "margin": null,
       "max_height": null,
       "max_width": null,
       "min_height": null,
       "min_width": null,
       "object_fit": null,
       "object_position": null,
       "order": null,
       "overflow": null,
       "overflow_x": null,
       "overflow_y": null,
       "padding": null,
       "right": null,
       "top": null,
       "visibility": null,
       "width": null
      }
     },
     "c1b1f169a92c47ceb0056a770db75a1d": {
      "model_module": "@jupyter-widgets/controls",
      "model_module_version": "1.5.0",
      "model_name": "DescriptionStyleModel",
      "state": {
       "_model_module": "@jupyter-widgets/controls",
       "_model_module_version": "1.5.0",
       "_model_name": "DescriptionStyleModel",
       "_view_count": null,
       "_view_module": "@jupyter-widgets/base",
       "_view_module_version": "1.2.0",
       "_view_name": "StyleView",
       "description_width": ""
      }
     },
     "caa0769bba8e4a2cac8d396ebdb2d750": {
      "model_module": "@jupyter-widgets/base",
      "model_module_version": "1.2.0",
      "model_name": "LayoutModel",
      "state": {
       "_model_module": "@jupyter-widgets/base",
       "_model_module_version": "1.2.0",
       "_model_name": "LayoutModel",
       "_view_count": null,
       "_view_module": "@jupyter-widgets/base",
       "_view_module_version": "1.2.0",
       "_view_name": "LayoutView",
       "align_content": null,
       "align_items": null,
       "align_self": null,
       "border": null,
       "bottom": null,
       "display": null,
       "flex": null,
       "flex_flow": null,
       "grid_area": null,
       "grid_auto_columns": null,
       "grid_auto_flow": null,
       "grid_auto_rows": null,
       "grid_column": null,
       "grid_gap": null,
       "grid_row": null,
       "grid_template_areas": null,
       "grid_template_columns": null,
       "grid_template_rows": null,
       "height": null,
       "justify_content": null,
       "justify_items": null,
       "left": null,
       "margin": null,
       "max_height": null,
       "max_width": null,
       "min_height": null,
       "min_width": null,
       "object_fit": null,
       "object_position": null,
       "order": null,
       "overflow": null,
       "overflow_x": null,
       "overflow_y": null,
       "padding": null,
       "right": null,
       "top": null,
       "visibility": null,
       "width": null
      }
     },
     "d6a1f93716754b80911d6aa088080576": {
      "model_module": "@jupyter-widgets/controls",
      "model_module_version": "1.5.0",
      "model_name": "DescriptionStyleModel",
      "state": {
       "_model_module": "@jupyter-widgets/controls",
       "_model_module_version": "1.5.0",
       "_model_name": "DescriptionStyleModel",
       "_view_count": null,
       "_view_module": "@jupyter-widgets/base",
       "_view_module_version": "1.2.0",
       "_view_name": "StyleView",
       "description_width": ""
      }
     },
     "d8b5f23e5d0049fabfd20a986e31f747": {
      "model_module": "@jupyter-widgets/controls",
      "model_module_version": "1.5.0",
      "model_name": "HTMLModel",
      "state": {
       "_dom_classes": [],
       "_model_module": "@jupyter-widgets/controls",
       "_model_module_version": "1.5.0",
       "_model_name": "HTMLModel",
       "_view_count": null,
       "_view_module": "@jupyter-widgets/controls",
       "_view_module_version": "1.5.0",
       "_view_name": "HTMLView",
       "description": "",
       "description_tooltip": null,
       "layout": "IPY_MODEL_2d4395c82d47480ab92b012e1556ccd2",
       "placeholder": "​",
       "style": "IPY_MODEL_20dcdcb7ee1e41efbeeef5ef94762c3f",
       "value": "<h3> Top Agencies using Active Transportation Projects </h3>"
      }
     },
     "da15feec6e2541df968d93b6e46503f7": {
      "model_module": "@jupyter-widgets/controls",
      "model_module_version": "1.5.0",
      "model_name": "HTMLModel",
      "state": {
       "_dom_classes": [],
       "_model_module": "@jupyter-widgets/controls",
       "_model_module_version": "1.5.0",
       "_model_name": "HTMLModel",
       "_view_count": null,
       "_view_module": "@jupyter-widgets/controls",
       "_view_module_version": "1.5.0",
       "_view_name": "HTMLView",
       "description": "",
       "description_tooltip": null,
       "layout": "IPY_MODEL_4a8c1ebf59224282ace5acf438a4be0f",
       "placeholder": "​",
       "style": "IPY_MODEL_7af27aa4063d419b90aeadd5af79cebc",
       "value": "<style type=\"text/css\">\n#T_c8a5e th {\n  text-align: center;\n}\n#T_c8a5e_row0_col0, #T_c8a5e_row0_col1, #T_c8a5e_row0_col2, #T_c8a5e_row1_col0, #T_c8a5e_row1_col1, #T_c8a5e_row1_col2, #T_c8a5e_row2_col0, #T_c8a5e_row2_col1, #T_c8a5e_row2_col2, #T_c8a5e_row3_col0, #T_c8a5e_row3_col1, #T_c8a5e_row3_col2, #T_c8a5e_row4_col0, #T_c8a5e_row4_col1, #T_c8a5e_row4_col2 {\n  text-align: center;\n}\n</style>\n<table id=\"T_c8a5e\">\n  <thead>\n    <tr>\n      <th id=\"T_c8a5e_level0_col0\" class=\"col_heading level0 col0\" >Agency</th>\n      <th id=\"T_c8a5e_level0_col1\" class=\"col_heading level0 col1\" >Active Transportation Obligations</th>\n      <th id=\"T_c8a5e_level0_col2\" class=\"col_heading level0 col2\" >Percent Of Category</th>\n    </tr>\n  </thead>\n  <tbody>\n    <tr>\n      <td id=\"T_c8a5e_row0_col0\" class=\"data row0 col0\" >Santa Ana</td>\n      <td id=\"T_c8a5e_row0_col1\" class=\"data row0 col1\" >40</td>\n      <td id=\"T_c8a5e_row0_col2\" class=\"data row0 col2\" >$20.51</td>\n    </tr>\n    <tr>\n      <td id=\"T_c8a5e_row1_col0\" class=\"data row1 col0\" >Costa Mesa</td>\n      <td id=\"T_c8a5e_row1_col1\" class=\"data row1 col1\" >22</td>\n      <td id=\"T_c8a5e_row1_col2\" class=\"data row1 col2\" >$11.28</td>\n    </tr>\n    <tr>\n      <td id=\"T_c8a5e_row2_col0\" class=\"data row2 col0\" >Anaheim</td>\n      <td id=\"T_c8a5e_row2_col1\" class=\"data row2 col1\" >20</td>\n      <td id=\"T_c8a5e_row2_col2\" class=\"data row2 col2\" >$10.26</td>\n    </tr>\n    <tr>\n      <td id=\"T_c8a5e_row3_col0\" class=\"data row3 col0\" >Orange County</td>\n      <td id=\"T_c8a5e_row3_col1\" class=\"data row3 col1\" >18</td>\n      <td id=\"T_c8a5e_row3_col2\" class=\"data row3 col2\" >$9.23</td>\n    </tr>\n    <tr>\n      <td id=\"T_c8a5e_row4_col0\" class=\"data row4 col0\" >Orange</td>\n      <td id=\"T_c8a5e_row4_col1\" class=\"data row4 col1\" >14</td>\n      <td id=\"T_c8a5e_row4_col2\" class=\"data row4 col2\" >$7.18</td>\n    </tr>\n  </tbody>\n</table>\n"
      }
     },
     "deb15a85d8a74d4bade3a43e01075a10": {
      "model_module": "@jupyter-widgets/base",
      "model_module_version": "1.2.0",
      "model_name": "LayoutModel",
      "state": {
       "_model_module": "@jupyter-widgets/base",
       "_model_module_version": "1.2.0",
       "_model_name": "LayoutModel",
       "_view_count": null,
       "_view_module": "@jupyter-widgets/base",
       "_view_module_version": "1.2.0",
       "_view_name": "LayoutView",
       "align_content": null,
       "align_items": null,
       "align_self": null,
       "border": null,
       "bottom": null,
       "display": null,
       "flex": null,
       "flex_flow": null,
       "grid_area": null,
       "grid_auto_columns": null,
       "grid_auto_flow": null,
       "grid_auto_rows": null,
       "grid_column": null,
       "grid_gap": null,
       "grid_row": null,
       "grid_template_areas": null,
       "grid_template_columns": null,
       "grid_template_rows": null,
       "height": null,
       "justify_content": null,
       "justify_items": null,
       "left": null,
       "margin": null,
       "max_height": null,
       "max_width": null,
       "min_height": null,
       "min_width": null,
       "object_fit": null,
       "object_position": null,
       "order": null,
       "overflow": null,
       "overflow_x": null,
       "overflow_y": null,
       "padding": null,
       "right": null,
       "top": null,
       "visibility": null,
       "width": null
      }
     },
     "ec4f79c1c83f4474bfdeaf964b28b363": {
      "model_module": "@jupyter-widgets/base",
      "model_module_version": "1.2.0",
      "model_name": "LayoutModel",
      "state": {
       "_model_module": "@jupyter-widgets/base",
       "_model_module_version": "1.2.0",
       "_model_name": "LayoutModel",
       "_view_count": null,
       "_view_module": "@jupyter-widgets/base",
       "_view_module_version": "1.2.0",
       "_view_name": "LayoutView",
       "align_content": null,
       "align_items": null,
       "align_self": null,
       "border": null,
       "bottom": null,
       "display": null,
       "flex": null,
       "flex_flow": null,
       "grid_area": null,
       "grid_auto_columns": null,
       "grid_auto_flow": null,
       "grid_auto_rows": null,
       "grid_column": null,
       "grid_gap": null,
       "grid_row": null,
       "grid_template_areas": null,
       "grid_template_columns": null,
       "grid_template_rows": null,
       "height": null,
       "justify_content": null,
       "justify_items": null,
       "left": null,
       "margin": null,
       "max_height": null,
       "max_width": null,
       "min_height": null,
       "min_width": null,
       "object_fit": null,
       "object_position": null,
       "order": null,
       "overflow": null,
       "overflow_x": null,
       "overflow_y": null,
       "padding": null,
       "right": null,
       "top": null,
       "visibility": null,
       "width": null
      }
     }
    },
    "version_major": 2,
    "version_minor": 0
   }
  }
 },
 "nbformat": 4,
 "nbformat_minor": 5
}