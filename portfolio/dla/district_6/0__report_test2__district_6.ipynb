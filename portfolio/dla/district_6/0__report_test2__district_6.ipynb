{
 "cells": [
  {
   "cell_type": "markdown",
   "id": "06141f15",
   "metadata": {
    "collapsed": false,
    "papermill": {
     "duration": 0.006299,
     "end_time": "2022-05-09T21:55:11.952291",
     "exception": false,
     "start_time": "2022-05-09T21:55:11.945992",
     "status": "completed"
    },
    "pycharm": {
     "name": "#%% md\n"
    },
    "tags": []
   },
   "source": [
    "# District 6"
   ]
  },
  {
   "cell_type": "code",
   "execution_count": 1,
   "id": "435b1c04",
   "metadata": {
    "collapsed": false,
    "execution": {
     "iopub.execute_input": "2022-05-09T21:55:11.964733Z",
     "iopub.status.busy": "2022-05-09T21:55:11.964447Z",
     "iopub.status.idle": "2022-05-09T21:55:25.976005Z",
     "shell.execute_reply": "2022-05-09T21:55:25.975349Z"
    },
    "jupyter": {
     "source_hidden": true
    },
    "papermill": {
     "duration": 14.0203,
     "end_time": "2022-05-09T21:55:25.978199",
     "exception": false,
     "start_time": "2022-05-09T21:55:11.957899",
     "status": "completed"
    },
    "pycharm": {
     "name": "#%%\n"
    },
    "tags": [
     "remove_input"
    ]
   },
   "outputs": [],
   "source": [
    "%%capture\n",
    "\n",
    "import numpy as np\n",
    "import pandas as pd\n",
    "from siuba import *\n",
    "\n",
    "import altair as alt\n",
    "import altair_saver\n",
    "from plotnine import *\n",
    "\n",
    "from IPython.display import Markdown, HTML, Image\n",
    "import ipywidgets as widgets\n",
    "from ipywidgets import interact, interactive\n",
    "\n",
    "from shared_utils import altair_utils\n",
    "from shared_utils import geography_utils\n",
    "from shared_utils import calitp_color_palette as cp\n",
    "from shared_utils import styleguide\n",
    "\n",
    "from calitp import to_snakecase\n",
    "import intake\n",
    "\n",
    "import _dla_utils_reports\n",
    "\n",
    "\n"
   ]
  },
  {
   "cell_type": "code",
   "execution_count": 2,
   "id": "82cf8245-73d2-4ed3-93cf-7ee01661b024",
   "metadata": {
    "execution": {
     "iopub.execute_input": "2022-05-09T21:55:25.991723Z",
     "iopub.status.busy": "2022-05-09T21:55:25.991418Z",
     "iopub.status.idle": "2022-05-09T21:55:25.995188Z",
     "shell.execute_reply": "2022-05-09T21:55:25.994337Z"
    },
    "jupyter": {
     "source_hidden": true
    },
    "papermill": {
     "duration": 0.013348,
     "end_time": "2022-05-09T21:55:25.997479",
     "exception": false,
     "start_time": "2022-05-09T21:55:25.984131",
     "status": "completed"
    },
    "tags": [
     "parameters",
     "remove_input"
    ]
   },
   "outputs": [],
   "source": [
    "#Parameter Cell\n",
    "\n",
    "district = 4"
   ]
  },
  {
   "cell_type": "code",
   "execution_count": 3,
   "id": "b83f602e",
   "metadata": {
    "execution": {
     "iopub.execute_input": "2022-05-09T21:55:26.009883Z",
     "iopub.status.busy": "2022-05-09T21:55:26.009606Z",
     "iopub.status.idle": "2022-05-09T21:55:26.013063Z",
     "shell.execute_reply": "2022-05-09T21:55:26.012381Z"
    },
    "jupyter": {
     "source_hidden": true
    },
    "papermill": {
     "duration": 0.01198,
     "end_time": "2022-05-09T21:55:26.015075",
     "exception": false,
     "start_time": "2022-05-09T21:55:26.003095",
     "status": "completed"
    },
    "tags": [
     "injected-parameters",
     "remove_input"
    ]
   },
   "outputs": [],
   "source": [
    "# Parameters\n",
    "district = 6\n"
   ]
  },
  {
   "cell_type": "code",
   "execution_count": 4,
   "id": "948b2b4f-ef9b-48ff-b109-e7b76361066c",
   "metadata": {
    "execution": {
     "iopub.execute_input": "2022-05-09T21:55:26.027436Z",
     "iopub.status.busy": "2022-05-09T21:55:26.027189Z",
     "iopub.status.idle": "2022-05-09T21:55:28.633361Z",
     "shell.execute_reply": "2022-05-09T21:55:28.632494Z"
    },
    "jupyter": {
     "source_hidden": true
    },
    "papermill": {
     "duration": 2.614726,
     "end_time": "2022-05-09T21:55:28.635590",
     "exception": false,
     "start_time": "2022-05-09T21:55:26.020864",
     "status": "completed"
    },
    "tags": [
     "remove_input"
    ]
   },
   "outputs": [],
   "source": [
    "df= pd.read_parquet(\"gs://calitp-analytics-data/data-analyses/dla/e-76Obligated/dla_df.parquet\")\n"
   ]
  },
  {
   "cell_type": "code",
   "execution_count": 5,
   "id": "be910f27-7608-4522-8d8d-ef93611cb748",
   "metadata": {
    "execution": {
     "iopub.execute_input": "2022-05-09T21:55:28.648184Z",
     "iopub.status.busy": "2022-05-09T21:55:28.647946Z",
     "iopub.status.idle": "2022-05-09T21:55:28.727845Z",
     "shell.execute_reply": "2022-05-09T21:55:28.727256Z"
    },
    "jupyter": {
     "source_hidden": true
    },
    "papermill": {
     "duration": 0.088159,
     "end_time": "2022-05-09T21:55:28.729654",
     "exception": false,
     "start_time": "2022-05-09T21:55:28.641495",
     "status": "completed"
    },
    "tags": [
     "remove_input"
    ]
   },
   "outputs": [],
   "source": [
    "df = (df>>filter(_.dist==district))\n",
    "    \n",
    "    \n",
    "#subsetting the data\n",
    "df_years = _dla_utils_reports.count_all_years(df)\n",
    "df_top = _dla_utils_reports.find_top(df)\n",
    "    "
   ]
  },
  {
   "cell_type": "code",
   "execution_count": 6,
   "id": "7f5ac0a1-a951-4072-8f85-d2c90290907f",
   "metadata": {
    "execution": {
     "iopub.execute_input": "2022-05-09T21:55:28.741351Z",
     "iopub.status.busy": "2022-05-09T21:55:28.741141Z",
     "iopub.status.idle": "2022-05-09T21:55:28.891550Z",
     "shell.execute_reply": "2022-05-09T21:55:28.891027Z"
    },
    "jupyter": {
     "source_hidden": true
    },
    "papermill": {
     "duration": 0.158224,
     "end_time": "2022-05-09T21:55:28.893231",
     "exception": false,
     "start_time": "2022-05-09T21:55:28.735007",
     "status": "completed"
    },
    "tags": [
     "remove_input"
    ]
   },
   "outputs": [
    {
     "data": {
      "text/html": [
       "<h2>Quick Stats</h2>"
      ],
      "text/plain": [
       "<IPython.core.display.HTML object>"
      ]
     },
     "metadata": {},
     "output_type": "display_data"
    },
    {
     "data": {
      "text/html": [
       "There are <strong>55 Unique Agencies</strong>"
      ],
      "text/plain": [
       "<IPython.core.display.HTML object>"
      ]
     },
     "metadata": {},
     "output_type": "display_data"
    },
    {
     "data": {
      "text/html": [
       "Out of <strong>3206</strong> obligations, <strong>27 are transit-related</strong>."
      ],
      "text/plain": [
       "<IPython.core.display.HTML object>"
      ]
     },
     "metadata": {},
     "output_type": "display_data"
    },
    {
     "data": {
      "text/html": [
       "<strong>Kingsburg</strong> has the <strong>highest transit</strong> obligations"
      ],
      "text/plain": [
       "<IPython.core.display.HTML object>"
      ]
     },
     "metadata": {},
     "output_type": "display_data"
    },
    {
     "data": {
      "text/html": [
       "There are <strong>2 agencies have over 280.00</strong> obligations (95th percentile) since 2013.0"
      ],
      "text/plain": [
       "<IPython.core.display.HTML object>"
      ]
     },
     "metadata": {},
     "output_type": "display_data"
    },
    {
     "data": {
      "text/html": [
       "There are <strong>5 agencies have less than 3.00</strong> obligations (5th percentile) since 2013.0"
      ],
      "text/plain": [
       "<IPython.core.display.HTML object>"
      ]
     },
     "metadata": {},
     "output_type": "display_data"
    },
    {
     "data": {
      "text/html": [
       "<h4><strong>Number of Unique Prefix Codes by Agency</strong></h4>"
      ],
      "text/plain": [
       "<IPython.core.display.HTML object>"
      ]
     },
     "metadata": {},
     "output_type": "display_data"
    },
    {
     "data": {
      "text/html": [
       "<div>\n",
       "<style scoped>\n",
       "    .dataframe tbody tr th:only-of-type {\n",
       "        vertical-align: middle;\n",
       "    }\n",
       "\n",
       "    .dataframe tbody tr th {\n",
       "        vertical-align: top;\n",
       "    }\n",
       "\n",
       "    .dataframe thead th {\n",
       "        text-align: right;\n",
       "    }\n",
       "</style>\n",
       "<table border=\"1\" class=\"dataframe\">\n",
       "  <thead>\n",
       "    <tr style=\"text-align: right;\">\n",
       "      <th></th>\n",
       "      <th>Agency</th>\n",
       "      <th>Number of Unqiue Prefix Codes</th>\n",
       "    </tr>\n",
       "  </thead>\n",
       "  <tbody>\n",
       "    <tr>\n",
       "      <th>19</th>\n",
       "      <td>Fresno County</td>\n",
       "      <td>16</td>\n",
       "    </tr>\n",
       "    <tr>\n",
       "      <th>26</th>\n",
       "      <td>Kern County</td>\n",
       "      <td>16</td>\n",
       "    </tr>\n",
       "    <tr>\n",
       "      <th>51</th>\n",
       "      <td>Tulare County</td>\n",
       "      <td>16</td>\n",
       "    </tr>\n",
       "    <tr>\n",
       "      <th>2</th>\n",
       "      <td>Bakersfield</td>\n",
       "      <td>15</td>\n",
       "    </tr>\n",
       "    <tr>\n",
       "      <th>18</th>\n",
       "      <td>Fresno</td>\n",
       "      <td>15</td>\n",
       "    </tr>\n",
       "  </tbody>\n",
       "</table>\n",
       "</div>"
      ],
      "text/plain": [
       "           Agency  Number of Unqiue Prefix Codes\n",
       "19  Fresno County                             16\n",
       "26    Kern County                             16\n",
       "51  Tulare County                             16\n",
       "2     Bakersfield                             15\n",
       "18         Fresno                             15"
      ]
     },
     "metadata": {},
     "output_type": "display_data"
    },
    {
     "data": {
      "text/html": [
       "<h4><strong>Number of Unique Agencies by Prefix Codes</strong></h4>"
      ],
      "text/plain": [
       "<IPython.core.display.HTML object>"
      ]
     },
     "metadata": {},
     "output_type": "display_data"
    },
    {
     "data": {
      "text/html": [
       "<div>\n",
       "<style scoped>\n",
       "    .dataframe tbody tr th:only-of-type {\n",
       "        vertical-align: middle;\n",
       "    }\n",
       "\n",
       "    .dataframe tbody tr th {\n",
       "        vertical-align: top;\n",
       "    }\n",
       "\n",
       "    .dataframe thead th {\n",
       "        text-align: right;\n",
       "    }\n",
       "</style>\n",
       "<table border=\"1\" class=\"dataframe\">\n",
       "  <thead>\n",
       "    <tr style=\"text-align: right;\">\n",
       "      <th></th>\n",
       "      <th>Prefix</th>\n",
       "      <th>Number of Unqiue Agencies</th>\n",
       "    </tr>\n",
       "  </thead>\n",
       "  <tbody>\n",
       "    <tr>\n",
       "      <th>20</th>\n",
       "      <td>CML</td>\n",
       "      <td>45</td>\n",
       "    </tr>\n",
       "    <tr>\n",
       "      <th>67</th>\n",
       "      <td>STPL</td>\n",
       "      <td>29</td>\n",
       "    </tr>\n",
       "    <tr>\n",
       "      <th>46</th>\n",
       "      <td>HSIPL</td>\n",
       "      <td>26</td>\n",
       "    </tr>\n",
       "    <tr>\n",
       "      <th>23</th>\n",
       "      <td>CMLNI</td>\n",
       "      <td>23</td>\n",
       "    </tr>\n",
       "    <tr>\n",
       "      <th>54</th>\n",
       "      <td>RPSTPL</td>\n",
       "      <td>16</td>\n",
       "    </tr>\n",
       "  </tbody>\n",
       "</table>\n",
       "</div>"
      ],
      "text/plain": [
       "    Prefix  Number of Unqiue Agencies\n",
       "20     CML                         45\n",
       "67    STPL                         29\n",
       "46   HSIPL                         26\n",
       "23   CMLNI                         23\n",
       "54  RPSTPL                         16"
      ]
     },
     "metadata": {},
     "output_type": "display_data"
    },
    {
     "data": {
      "text/html": [
       "<h4><strong>Top 5 Types of Work</strong></h4>"
      ],
      "text/plain": [
       "<IPython.core.display.HTML object>"
      ]
     },
     "metadata": {},
     "output_type": "display_data"
    },
    {
     "data": {
      "text/html": [
       "<style type=\"text/css\">\n",
       "</style>\n",
       "<table id=\"T_c398f_\">\n",
       "  <thead>\n",
       "    <tr>\n",
       "      <th class=\"blank level0\" >&nbsp;</th>\n",
       "      <th class=\"col_heading level0 col0\" >Type of Work</th>\n",
       "    </tr>\n",
       "  </thead>\n",
       "  <tbody>\n",
       "    <tr>\n",
       "      <th id=\"T_c398f_level0_row0\" class=\"row_heading level0 row0\" >747</th>\n",
       "      <td id=\"T_c398f_row0_col0\" class=\"data row0 col0\" >Replace 2 Lane Bridge With 2 Lane Bridge (tc)</td>\n",
       "    </tr>\n",
       "    <tr>\n",
       "      <th id=\"T_c398f_level0_row1\" class=\"row_heading level0 row1\" >19</th>\n",
       "      <td id=\"T_c398f_row1_col0\" class=\"data row1 col0\" >Ac Overlay (tc)</td>\n",
       "    </tr>\n",
       "    <tr>\n",
       "      <th id=\"T_c398f_level0_row2\" class=\"row_heading level0 row2\" >810</th>\n",
       "      <td id=\"T_c398f_row2_col0\" class=\"data row2 col0\" >Road Reconstruction</td>\n",
       "    </tr>\n",
       "    <tr>\n",
       "      <th id=\"T_c398f_level0_row3\" class=\"row_heading level0 row3\" >435</th>\n",
       "      <td id=\"T_c398f_row3_col0\" class=\"data row3 col0\" >Install Traffic Signal</td>\n",
       "    </tr>\n",
       "    <tr>\n",
       "      <th id=\"T_c398f_level0_row4\" class=\"row_heading level0 row4\" >306</th>\n",
       "      <td id=\"T_c398f_row4_col0\" class=\"data row4 col0\" >FTA Transfer</td>\n",
       "    </tr>\n",
       "  </tbody>\n",
       "</table>\n"
      ],
      "text/plain": [
       "<pandas.io.formats.style.Styler at 0x7f7e08d47690>"
      ]
     },
     "metadata": {},
     "output_type": "display_data"
    }
   ],
   "source": [
    "display(HTML(\"<h2>Quick Stats</h2>\"))\n",
    "\n",
    "display(\n",
    "    HTML(\n",
    "        f\"There are <strong>{(df.primary_agency_name.nunique())} Unique Agencies</strong>\"\n",
    "    )\n",
    ")\n",
    "\n",
    "transit = df >> filter(_.transit == 1)\n",
    "\n",
    "display(\n",
    "    HTML(\n",
    "        f\"Out of <strong>{len(df)}</strong> obligations, <strong>{len(transit)} are transit-related</strong>.\"\n",
    "    )\n",
    ")\n",
    "display(\n",
    "    HTML(\n",
    "        f\"<strong>{(transit>>count(_.primary_agency_name)>>arrange(-_.n)).iloc[0, 0]}</strong> has the <strong>highest transit</strong> obligations\"\n",
    "    )\n",
    ")\n",
    "\n",
    "q = df >> count(_.primary_agency_name) >> arrange(_.n)\n",
    "\n",
    "q2 = q.n.quantile(0.95)\n",
    "\n",
    "display(\n",
    "    HTML(\n",
    "        f\"There are <strong>{len(q>>filter(_.n> (q2)))} agencies have over {('%.2f'%(q2))}</strong> obligations (95th percentile) since {(df.prepared_y.min())}\"\n",
    "    )\n",
    ")\n",
    "\n",
    "q3 = q.n.quantile(0.1)\n",
    "display(\n",
    "    HTML(\n",
    "        (\n",
    "            f\"There are <strong>{len(q>>filter(_.n< (q3)))} agencies have less than {('%.2f'%(q3))}</strong> obligations (5th percentile) since {(df.prepared_y.min())}\"\n",
    "        )\n",
    "    )\n",
    ")\n",
    "\n",
    "## tables\n",
    "display(HTML(\"<h4><strong>Number of Unique Prefix Codes by Agency</strong></h4>\"))\n",
    "display(\n",
    "    (_dla_utils_reports.get_nunique(df, \"prefix\", \"primary_agency_name\"))\n",
    "    .rename(\n",
    "        columns={\"primary_agency_name\": \"Agency\", \"n\": \"Number of Unqiue Prefix Codes\"}\n",
    "    )\n",
    "    .head(5)\n",
    ")\n",
    "\n",
    "display(HTML(\"<h4><strong>Number of Unique Agencies by Prefix Codes</strong></h4>\"))\n",
    "display(\n",
    "    (_dla_utils_reports.get_nunique(df, \"primary_agency_name\", \"prefix\"))\n",
    "    .rename(columns={\"prefix\": \"Prefix\", \"n\": \"Number of Unqiue Agencies\"})\n",
    "    .head(5)\n",
    ")\n",
    "\n",
    "display(HTML(\"<h4><strong>Top 5 Types of Work</strong></h4>\"))\n",
    "work_types = (\n",
    "    (df >> count(_.type_of_work) >> arrange(-_.n) >> select(_.type_of_work))\n",
    "    .rename(columns={\"type_of_work\": \"Type of Work\"})\n",
    "    .head(5)\n",
    ")\n",
    "display(work_types.style)"
   ]
  },
  {
   "cell_type": "code",
   "execution_count": 7,
   "id": "88ad1708-b3c0-40b1-859c-67e50724b983",
   "metadata": {
    "execution": {
     "iopub.execute_input": "2022-05-09T21:55:28.906112Z",
     "iopub.status.busy": "2022-05-09T21:55:28.905914Z",
     "iopub.status.idle": "2022-05-09T21:55:28.909553Z",
     "shell.execute_reply": "2022-05-09T21:55:28.909076Z"
    },
    "jupyter": {
     "source_hidden": true
    },
    "papermill": {
     "duration": 0.013423,
     "end_time": "2022-05-09T21:55:28.912646",
     "exception": false,
     "start_time": "2022-05-09T21:55:28.899223",
     "status": "completed"
    },
    "tags": [
     "remove_input"
    ]
   },
   "outputs": [
    {
     "data": {
      "text/markdown": [
       "<h2> Number of Obligations </h2>"
      ],
      "text/plain": [
       "<IPython.core.display.Markdown object>"
      ]
     },
     "metadata": {},
     "output_type": "display_data"
    }
   ],
   "source": [
    " #Visual Charts\n",
    "\n",
    "display(Markdown(\"<h2> Number of Obligations </h2>\"))"
   ]
  },
  {
   "cell_type": "code",
   "execution_count": 8,
   "id": "ae85287b-0772-4595-8ea2-ccba83dd22cf",
   "metadata": {
    "execution": {
     "iopub.execute_input": "2022-05-09T21:55:28.927840Z",
     "iopub.status.busy": "2022-05-09T21:55:28.927638Z",
     "iopub.status.idle": "2022-05-09T21:55:29.004988Z",
     "shell.execute_reply": "2022-05-09T21:55:29.004533Z"
    },
    "jupyter": {
     "source_hidden": true
    },
    "papermill": {
     "duration": 0.08686,
     "end_time": "2022-05-09T21:55:29.006716",
     "exception": false,
     "start_time": "2022-05-09T21:55:28.919856",
     "status": "completed"
    },
    "tags": [
     "remove_input"
    ]
   },
   "outputs": [
    {
     "data": {
      "text/html": [
       "<h4><strong>Obligations by Year</strong></h4>"
      ],
      "text/plain": [
       "<IPython.core.display.HTML object>"
      ]
     },
     "metadata": {},
     "output_type": "display_data"
    },
    {
     "data": {
      "text/html": [
       "\n",
       "<div id=\"altair-viz-23524c6dd2ee4c2a83079ec0d8c2e41a\"></div>\n",
       "<script type=\"text/javascript\">\n",
       "  var VEGA_DEBUG = (typeof VEGA_DEBUG == \"undefined\") ? {} : VEGA_DEBUG;\n",
       "  (function(spec, embedOpt){\n",
       "    let outputDiv = document.currentScript.previousElementSibling;\n",
       "    if (outputDiv.id !== \"altair-viz-23524c6dd2ee4c2a83079ec0d8c2e41a\") {\n",
       "      outputDiv = document.getElementById(\"altair-viz-23524c6dd2ee4c2a83079ec0d8c2e41a\");\n",
       "    }\n",
       "    const paths = {\n",
       "      \"vega\": \"https://cdn.jsdelivr.net/npm//vega@5?noext\",\n",
       "      \"vega-lib\": \"https://cdn.jsdelivr.net/npm//vega-lib?noext\",\n",
       "      \"vega-lite\": \"https://cdn.jsdelivr.net/npm//vega-lite@4.17.0?noext\",\n",
       "      \"vega-embed\": \"https://cdn.jsdelivr.net/npm//vega-embed@6?noext\",\n",
       "    };\n",
       "\n",
       "    function maybeLoadScript(lib, version) {\n",
       "      var key = `${lib.replace(\"-\", \"\")}_version`;\n",
       "      return (VEGA_DEBUG[key] == version) ?\n",
       "        Promise.resolve(paths[lib]) :\n",
       "        new Promise(function(resolve, reject) {\n",
       "          var s = document.createElement('script');\n",
       "          document.getElementsByTagName(\"head\")[0].appendChild(s);\n",
       "          s.async = true;\n",
       "          s.onload = () => {\n",
       "            VEGA_DEBUG[key] = version;\n",
       "            return resolve(paths[lib]);\n",
       "          };\n",
       "          s.onerror = () => reject(`Error loading script: ${paths[lib]}`);\n",
       "          s.src = paths[lib];\n",
       "        });\n",
       "    }\n",
       "\n",
       "    function showError(err) {\n",
       "      outputDiv.innerHTML = `<div class=\"error\" style=\"color:red;\">${err}</div>`;\n",
       "      throw err;\n",
       "    }\n",
       "\n",
       "    function displayChart(vegaEmbed) {\n",
       "      vegaEmbed(outputDiv, spec, embedOpt)\n",
       "        .catch(err => showError(`Javascript Error: ${err.message}<br>This usually means there's a typo in your chart specification. See the javascript console for the full traceback.`));\n",
       "    }\n",
       "\n",
       "    if(typeof define === \"function\" && define.amd) {\n",
       "      requirejs.config({paths});\n",
       "      require([\"vega-embed\"], displayChart, err => showError(`Error loading script: ${err.message}`));\n",
       "    } else {\n",
       "      maybeLoadScript(\"vega\", \"5\")\n",
       "        .then(() => maybeLoadScript(\"vega-lite\", \"4.17.0\"))\n",
       "        .then(() => maybeLoadScript(\"vega-embed\", \"6\"))\n",
       "        .catch(showError)\n",
       "        .then(() => displayChart(vegaEmbed));\n",
       "    }\n",
       "  })({\"config\": {\"view\": {\"continuousWidth\": 400, \"continuousHeight\": 300}, \"axis\": {\"domainColor\": \"#cbcbcb\", \"grid\": true, \"gridColor\": \"#cbcbcb\", \"gridWidth\": 1, \"labelColor\": \"#474747\", \"labelFont\": \"Nunito Sans\", \"labelFontSize\": 10, \"labelPadding\": 4, \"tickColor\": \"#cbcbcb\", \"tickSize\": 10, \"titleColor\": \"#333\", \"titleFont\": \"Raleway\", \"titleFontSize\": 12, \"titlePadding\": 10}, \"axisBand\": {\"grid\": false}, \"background\": \"white\", \"font\": \"Raleway\", \"header\": {\"labelFont\": \"Nunito Sans\", \"titleFont\": \"Raleway\"}, \"legend\": {\"labelColor\": \"#333\", \"labelFont\": \"Nunito Sans\", \"labelFontSize\": 11, \"labelLimit\": 0, \"padding\": 1, \"symbolSize\": 30, \"symbolType\": \"square\", \"titleColor\": \"#333\", \"titleFont\": \"Raleway\", \"titleFontSize\": 14, \"titlePadding\": 10}, \"title\": {\"anchor\": \"middle\", \"font\": \"Raleway\", \"fontSize\": 18, \"fontWeight\": 300, \"offset\": 20}}, \"data\": {\"name\": \"data-bd79701c9999d99562f2815abdbac302\"}, \"mark\": \"line\", \"encoding\": {\"tooltip\": [{\"field\": \"Year\", \"type\": \"quantitative\"}, {\"field\": \"count\", \"type\": \"quantitative\"}], \"x\": {\"field\": \"Year\", \"title\": \"Prepared Year\", \"type\": \"ordinal\"}, \"y\": {\"field\": \"count\", \"title\": \"Count\", \"type\": \"quantitative\"}}, \"height\": 250, \"width\": 400, \"$schema\": \"https://vega.github.io/schema/vega-lite/v4.17.0.json\", \"datasets\": {\"data-bd79701c9999d99562f2815abdbac302\": [{\"Year\": 2015.0, \"count\": 485, \"variable\": \"prepared_y\"}, {\"Year\": 2014.0, \"count\": 412, \"variable\": \"prepared_y\"}, {\"Year\": 2016.0, \"count\": 403, \"variable\": \"prepared_y\"}, {\"Year\": 2018.0, \"count\": 392, \"variable\": \"prepared_y\"}, {\"Year\": 2017.0, \"count\": 380, \"variable\": \"prepared_y\"}, {\"Year\": 2019.0, \"count\": 348, \"variable\": \"prepared_y\"}, {\"Year\": 2021.0, \"count\": 338, \"variable\": \"prepared_y\"}, {\"Year\": 2020.0, \"count\": 335, \"variable\": \"prepared_y\"}, {\"Year\": 2022.0, \"count\": 82, \"variable\": \"prepared_y\"}, {\"Year\": 2013.0, \"count\": 31, \"variable\": \"prepared_y\"}]}}, {\"mode\": \"vega-lite\"});\n",
       "</script>"
      ],
      "text/plain": [
       "alt.Chart(...)"
      ]
     },
     "metadata": {},
     "output_type": "display_data"
    }
   ],
   "source": [
    " #Line chart for Obligations by Year\n",
    "chart_df = (df_top>>filter(_.variable=='prepared_y')).rename(columns= {\"value\":\"Year\"})\n",
    "    \n",
    "chart1= (_dla_utils_reports.basic_line_chart_test_no_save(chart_df, 'Year', 'count', district)).encode(x=alt.X('Year:O', title='Prepared Year'))\n",
    "    \n",
    "display(HTML(\"<h4><strong>Obligations by Year</strong></h4>\"))\n",
    "display(chart1)"
   ]
  },
  {
   "cell_type": "code",
   "execution_count": 9,
   "id": "0bc7e34d-545e-4afd-92e9-a17630d0ae89",
   "metadata": {
    "execution": {
     "iopub.execute_input": "2022-05-09T21:55:29.026064Z",
     "iopub.status.busy": "2022-05-09T21:55:29.025791Z",
     "iopub.status.idle": "2022-05-09T21:55:29.125832Z",
     "shell.execute_reply": "2022-05-09T21:55:29.125396Z"
    },
    "jupyter": {
     "source_hidden": true
    },
    "papermill": {
     "duration": 0.111369,
     "end_time": "2022-05-09T21:55:29.127401",
     "exception": false,
     "start_time": "2022-05-09T21:55:29.016032",
     "status": "completed"
    },
    "tags": [
     "remove_input"
    ]
   },
   "outputs": [
    {
     "data": {
      "text/html": [
       "<h4><strong>Number of Unique Agencies by District</strong></h4>"
      ],
      "text/plain": [
       "<IPython.core.display.HTML object>"
      ]
     },
     "metadata": {},
     "output_type": "display_data"
    },
    {
     "data": {
      "text/html": [
       "\n",
       "<div id=\"altair-viz-19f390fcdb6a4f31a07c0a6e6ae9503a\"></div>\n",
       "<script type=\"text/javascript\">\n",
       "  var VEGA_DEBUG = (typeof VEGA_DEBUG == \"undefined\") ? {} : VEGA_DEBUG;\n",
       "  (function(spec, embedOpt){\n",
       "    let outputDiv = document.currentScript.previousElementSibling;\n",
       "    if (outputDiv.id !== \"altair-viz-19f390fcdb6a4f31a07c0a6e6ae9503a\") {\n",
       "      outputDiv = document.getElementById(\"altair-viz-19f390fcdb6a4f31a07c0a6e6ae9503a\");\n",
       "    }\n",
       "    const paths = {\n",
       "      \"vega\": \"https://cdn.jsdelivr.net/npm//vega@5?noext\",\n",
       "      \"vega-lib\": \"https://cdn.jsdelivr.net/npm//vega-lib?noext\",\n",
       "      \"vega-lite\": \"https://cdn.jsdelivr.net/npm//vega-lite@4.17.0?noext\",\n",
       "      \"vega-embed\": \"https://cdn.jsdelivr.net/npm//vega-embed@6?noext\",\n",
       "    };\n",
       "\n",
       "    function maybeLoadScript(lib, version) {\n",
       "      var key = `${lib.replace(\"-\", \"\")}_version`;\n",
       "      return (VEGA_DEBUG[key] == version) ?\n",
       "        Promise.resolve(paths[lib]) :\n",
       "        new Promise(function(resolve, reject) {\n",
       "          var s = document.createElement('script');\n",
       "          document.getElementsByTagName(\"head\")[0].appendChild(s);\n",
       "          s.async = true;\n",
       "          s.onload = () => {\n",
       "            VEGA_DEBUG[key] = version;\n",
       "            return resolve(paths[lib]);\n",
       "          };\n",
       "          s.onerror = () => reject(`Error loading script: ${paths[lib]}`);\n",
       "          s.src = paths[lib];\n",
       "        });\n",
       "    }\n",
       "\n",
       "    function showError(err) {\n",
       "      outputDiv.innerHTML = `<div class=\"error\" style=\"color:red;\">${err}</div>`;\n",
       "      throw err;\n",
       "    }\n",
       "\n",
       "    function displayChart(vegaEmbed) {\n",
       "      vegaEmbed(outputDiv, spec, embedOpt)\n",
       "        .catch(err => showError(`Javascript Error: ${err.message}<br>This usually means there's a typo in your chart specification. See the javascript console for the full traceback.`));\n",
       "    }\n",
       "\n",
       "    if(typeof define === \"function\" && define.amd) {\n",
       "      requirejs.config({paths});\n",
       "      require([\"vega-embed\"], displayChart, err => showError(`Error loading script: ${err.message}`));\n",
       "    } else {\n",
       "      maybeLoadScript(\"vega\", \"5\")\n",
       "        .then(() => maybeLoadScript(\"vega-lite\", \"4.17.0\"))\n",
       "        .then(() => maybeLoadScript(\"vega-embed\", \"6\"))\n",
       "        .catch(showError)\n",
       "        .then(() => displayChart(vegaEmbed));\n",
       "    }\n",
       "  })({\"config\": {\"view\": {\"continuousWidth\": 400, \"continuousHeight\": 300}, \"axis\": {\"domainColor\": \"#cbcbcb\", \"grid\": true, \"gridColor\": \"#cbcbcb\", \"gridWidth\": 1, \"labelColor\": \"#474747\", \"labelFont\": \"Nunito Sans\", \"labelFontSize\": 10, \"labelPadding\": 4, \"tickColor\": \"#cbcbcb\", \"tickSize\": 10, \"titleColor\": \"#333\", \"titleFont\": \"Raleway\", \"titleFontSize\": 12, \"titlePadding\": 10}, \"axisBand\": {\"grid\": false}, \"background\": \"white\", \"font\": \"Raleway\", \"header\": {\"labelFont\": \"Nunito Sans\", \"titleFont\": \"Raleway\"}, \"legend\": {\"labelColor\": \"#333\", \"labelFont\": \"Nunito Sans\", \"labelFontSize\": 11, \"labelLimit\": 0, \"padding\": 1, \"symbolSize\": 30, \"symbolType\": \"square\", \"titleColor\": \"#333\", \"titleFont\": \"Raleway\", \"titleFontSize\": 14, \"titlePadding\": 10}, \"title\": {\"anchor\": \"middle\", \"font\": \"Raleway\", \"fontSize\": 18, \"fontWeight\": 300, \"offset\": 20}}, \"data\": {\"name\": \"data-8e1b8dd5a66a24f70fba9f356817d82d\"}, \"mark\": \"bar\", \"encoding\": {\"color\": {\"field\": \"District\", \"legend\": {\"title\": \"Prepared Year\"}, \"scale\": {\"range\": [\"#B9D6DF\", \"#8CBCCB\", \"#2EA8CE\", \"#136C97\", \"#0B405B\"]}, \"type\": \"nominal\"}, \"column\": {\"field\": \"District\", \"type\": \"nominal\"}, \"tooltip\": [{\"field\": \"prepared_y\", \"type\": \"quantitative\"}, {\"field\": \"Count\", \"type\": \"quantitative\"}], \"x\": {\"field\": \"prepared_y\", \"title\": \"Prepared Year\", \"type\": \"ordinal\"}, \"y\": {\"field\": \"Count\", \"title\": \"Number of Unique Agencies\", \"type\": \"quantitative\"}}, \"height\": 250, \"width\": 400, \"$schema\": \"https://vega.github.io/schema/vega-lite/v4.17.0.json\", \"datasets\": {\"data-8e1b8dd5a66a24f70fba9f356817d82d\": [{\"prepared_y\": 2022.0, \"District\": 6, \"Count\": 26}, {\"prepared_y\": 2021.0, \"District\": 6, \"Count\": 40}, {\"prepared_y\": 2020.0, \"District\": 6, \"Count\": 42}, {\"prepared_y\": 2019.0, \"District\": 6, \"Count\": 40}, {\"prepared_y\": 2018.0, \"District\": 6, \"Count\": 42}, {\"prepared_y\": 2017.0, \"District\": 6, \"Count\": 41}, {\"prepared_y\": 2016.0, \"District\": 6, \"Count\": 47}, {\"prepared_y\": 2015.0, \"District\": 6, \"Count\": 49}, {\"prepared_y\": 2014.0, \"District\": 6, \"Count\": 44}, {\"prepared_y\": 2013.0, \"District\": 6, \"Count\": 17}]}}, {\"mode\": \"vega-lite\"});\n",
       "</script>"
      ],
      "text/plain": [
       "alt.Chart(...)"
      ]
     },
     "metadata": {},
     "output_type": "display_data"
    }
   ],
   "source": [
    "# Unique Agencies by Dist\n",
    "dist_years_agency = ((\n",
    "        df\n",
    "        >> group_by(_.prepared_y, _.dist)\n",
    "        >> summarize(n=_.primary_agency_name.nunique())\n",
    "        >> arrange(-_.prepared_y)\n",
    "    )\n",
    "        .rename(columns={'dist':'District', 'n':'Count'})\n",
    "    )\n",
    "chart10 = (alt.Chart(dist_years_agency).mark_bar().encode(\n",
    "        column='District:N',\n",
    "        x=alt.X('prepared_y:O', title='Prepared Year'),\n",
    "        y=alt.Y('Count:Q', title='Number of Unique Agencies'),\n",
    "        color = alt.Color(\"District:N\", \n",
    "                              scale=alt.Scale(\n",
    "                                  range=altair_utils.CALITP_SEQUENTIAL_COLORS),  \n",
    "                               legend=alt.Legend(title=\"Prepared Year\")\n",
    "                              )))\n",
    "                              \n",
    "chart10 = styleguide.preset_chart_config(chart10)\n",
    "chart10 = _dla_utils_reports.add_tooltip(chart10, 'prepared_y', 'Count')\n",
    "    \n",
    "display(HTML(\"<h4><strong>Number of Unique Agencies by District</strong></h4>\"))\n",
    "display(chart10)"
   ]
  },
  {
   "cell_type": "code",
   "execution_count": 10,
   "id": "faa4758e-8a41-44f8-aec4-b8cc4d75d906",
   "metadata": {
    "execution": {
     "iopub.execute_input": "2022-05-09T21:55:29.141621Z",
     "iopub.status.busy": "2022-05-09T21:55:29.141418Z",
     "iopub.status.idle": "2022-05-09T21:55:29.223084Z",
     "shell.execute_reply": "2022-05-09T21:55:29.222633Z"
    },
    "jupyter": {
     "source_hidden": true
    },
    "papermill": {
     "duration": 0.090372,
     "end_time": "2022-05-09T21:55:29.224672",
     "exception": false,
     "start_time": "2022-05-09T21:55:29.134300",
     "status": "completed"
    },
    "tags": [
     "remove_input"
    ]
   },
   "outputs": [
    {
     "data": {
      "text/html": [
       "<h4><strong>Agencies With The Most Obligations</strong></h4>"
      ],
      "text/plain": [
       "<IPython.core.display.HTML object>"
      ]
     },
     "metadata": {},
     "output_type": "display_data"
    },
    {
     "data": {
      "text/html": [
       "\n",
       "<div id=\"altair-viz-8fb89f92e1c54ed4a7481cf0432f9452\"></div>\n",
       "<script type=\"text/javascript\">\n",
       "  var VEGA_DEBUG = (typeof VEGA_DEBUG == \"undefined\") ? {} : VEGA_DEBUG;\n",
       "  (function(spec, embedOpt){\n",
       "    let outputDiv = document.currentScript.previousElementSibling;\n",
       "    if (outputDiv.id !== \"altair-viz-8fb89f92e1c54ed4a7481cf0432f9452\") {\n",
       "      outputDiv = document.getElementById(\"altair-viz-8fb89f92e1c54ed4a7481cf0432f9452\");\n",
       "    }\n",
       "    const paths = {\n",
       "      \"vega\": \"https://cdn.jsdelivr.net/npm//vega@5?noext\",\n",
       "      \"vega-lib\": \"https://cdn.jsdelivr.net/npm//vega-lib?noext\",\n",
       "      \"vega-lite\": \"https://cdn.jsdelivr.net/npm//vega-lite@4.17.0?noext\",\n",
       "      \"vega-embed\": \"https://cdn.jsdelivr.net/npm//vega-embed@6?noext\",\n",
       "    };\n",
       "\n",
       "    function maybeLoadScript(lib, version) {\n",
       "      var key = `${lib.replace(\"-\", \"\")}_version`;\n",
       "      return (VEGA_DEBUG[key] == version) ?\n",
       "        Promise.resolve(paths[lib]) :\n",
       "        new Promise(function(resolve, reject) {\n",
       "          var s = document.createElement('script');\n",
       "          document.getElementsByTagName(\"head\")[0].appendChild(s);\n",
       "          s.async = true;\n",
       "          s.onload = () => {\n",
       "            VEGA_DEBUG[key] = version;\n",
       "            return resolve(paths[lib]);\n",
       "          };\n",
       "          s.onerror = () => reject(`Error loading script: ${paths[lib]}`);\n",
       "          s.src = paths[lib];\n",
       "        });\n",
       "    }\n",
       "\n",
       "    function showError(err) {\n",
       "      outputDiv.innerHTML = `<div class=\"error\" style=\"color:red;\">${err}</div>`;\n",
       "      throw err;\n",
       "    }\n",
       "\n",
       "    function displayChart(vegaEmbed) {\n",
       "      vegaEmbed(outputDiv, spec, embedOpt)\n",
       "        .catch(err => showError(`Javascript Error: ${err.message}<br>This usually means there's a typo in your chart specification. See the javascript console for the full traceback.`));\n",
       "    }\n",
       "\n",
       "    if(typeof define === \"function\" && define.amd) {\n",
       "      requirejs.config({paths});\n",
       "      require([\"vega-embed\"], displayChart, err => showError(`Error loading script: ${err.message}`));\n",
       "    } else {\n",
       "      maybeLoadScript(\"vega\", \"5\")\n",
       "        .then(() => maybeLoadScript(\"vega-lite\", \"4.17.0\"))\n",
       "        .then(() => maybeLoadScript(\"vega-embed\", \"6\"))\n",
       "        .catch(showError)\n",
       "        .then(() => displayChart(vegaEmbed));\n",
       "    }\n",
       "  })({\"config\": {\"view\": {\"continuousWidth\": 400, \"continuousHeight\": 300}, \"axis\": {\"domainColor\": \"#cbcbcb\", \"grid\": true, \"gridColor\": \"#cbcbcb\", \"gridWidth\": 1, \"labelColor\": \"#474747\", \"labelFont\": \"Nunito Sans\", \"labelFontSize\": 10, \"labelPadding\": 4, \"tickColor\": \"#cbcbcb\", \"tickSize\": 10, \"titleColor\": \"#333\", \"titleFont\": \"Raleway\", \"titleFontSize\": 12, \"titlePadding\": 10}, \"axisBand\": {\"grid\": false}, \"background\": \"white\", \"font\": \"Raleway\", \"header\": {\"labelFont\": \"Nunito Sans\", \"titleFont\": \"Raleway\"}, \"legend\": {\"labelColor\": \"#333\", \"labelFont\": \"Nunito Sans\", \"labelFontSize\": 11, \"labelLimit\": 0, \"padding\": 1, \"symbolSize\": 30, \"symbolType\": \"square\", \"titleColor\": \"#333\", \"titleFont\": \"Raleway\", \"titleFontSize\": 14, \"titlePadding\": 10}, \"title\": {\"anchor\": \"middle\", \"font\": \"Raleway\", \"fontSize\": 18, \"fontWeight\": 300, \"offset\": 20}}, \"data\": {\"name\": \"data-0eb4d1014a36c90b4958449c30252088\"}, \"mark\": \"bar\", \"encoding\": {\"color\": {\"field\": \"Agency\", \"legend\": {\"symbolLimit\": 10, \"title\": \"Agency\"}, \"scale\": {\"range\": [\"#2EA8CE\", \"#EB9F3C\", \"#F4D837\", \"#51BF9D\", \"#8CBCCB\", \"#9487C0\"]}, \"type\": \"nominal\"}, \"tooltip\": [{\"field\": \"Agency\", \"type\": \"nominal\"}, {\"field\": \"Number of Obligations\", \"type\": \"quantitative\"}], \"x\": {\"field\": \"Agency\", \"sort\": \"-y\", \"title\": \"Agency\", \"type\": \"nominal\"}, \"y\": {\"field\": \"Number of Obligations\", \"title\": \"Number Of Obligations\", \"type\": \"quantitative\"}}, \"height\": 250, \"width\": 400, \"$schema\": \"https://vega.github.io/schema/vega-lite/v4.17.0.json\", \"datasets\": {\"data-0eb4d1014a36c90b4958449c30252088\": [{\"Agency\": \"Fresno\", \"Number of Obligations\": 471, \"variable\": \"primary_agency_name\"}, {\"Agency\": \"Kern County\", \"Number of Obligations\": 301, \"variable\": \"primary_agency_name\"}, {\"Agency\": \"Bakersfield\", \"Number of Obligations\": 280, \"variable\": \"primary_agency_name\"}, {\"Agency\": \"Fresno County\", \"Number of Obligations\": 280, \"variable\": \"primary_agency_name\"}, {\"Agency\": \"Tulare County\", \"Number of Obligations\": 222, \"variable\": \"primary_agency_name\"}, {\"Agency\": \"Clovis\", \"Number of Obligations\": 164, \"variable\": \"primary_agency_name\"}, {\"Agency\": \"Visalia\", \"Number of Obligations\": 145, \"variable\": \"primary_agency_name\"}, {\"Agency\": \"Madera County\", \"Number of Obligations\": 109, \"variable\": \"primary_agency_name\"}, {\"Agency\": \"Madera\", \"Number of Obligations\": 72, \"variable\": \"primary_agency_name\"}, {\"Agency\": \"Sanger\", \"Number of Obligations\": 69, \"variable\": \"primary_agency_name\"}, {\"Agency\": \"Wasco\", \"Number of Obligations\": 64, \"variable\": \"primary_agency_name\"}, {\"Agency\": \"Kingsburg\", \"Number of Obligations\": 62, \"variable\": \"primary_agency_name\"}, {\"Agency\": \"Kings County\", \"Number of Obligations\": 52, \"variable\": \"primary_agency_name\"}, {\"Agency\": \"Kerman\", \"Number of Obligations\": 46, \"variable\": \"primary_agency_name\"}, {\"Agency\": \"Porterville\", \"Number of Obligations\": 45, \"variable\": \"primary_agency_name\"}, {\"Agency\": \"Reedley\", \"Number of Obligations\": 45, \"variable\": \"primary_agency_name\"}, {\"Agency\": \"Delano\", \"Number of Obligations\": 43, \"variable\": \"primary_agency_name\"}, {\"Agency\": \"Kern County Council of Governments\", \"Number of Obligations\": 43, \"variable\": \"primary_agency_name\"}, {\"Agency\": \"Parlier\", \"Number of Obligations\": 43, \"variable\": \"primary_agency_name\"}, {\"Agency\": \"Hanford\", \"Number of Obligations\": 41, \"variable\": \"primary_agency_name\"}]}}, {\"mode\": \"vega-lite\"});\n",
       "</script>"
      ],
      "text/plain": [
       "alt.Chart(...)"
      ]
     },
     "metadata": {},
     "output_type": "display_data"
    }
   ],
   "source": [
    "#Bar chart Agencies With The Most Obligations\n",
    "chart_df = (df_top>>filter(_.variable=='primary_agency_name')).rename(columns={\"value\":\"Agency\",\n",
    "                                 \"count\":\"Number of Obligations\"})\n",
    "chart2 = (_dla_utils_reports.basic_bar_chart_no_save(chart_df, 'Agency', 'Number of Obligations', 'Agency', district))\n",
    "    \n",
    "display(HTML(\"<h4><strong>Agencies With The Most Obligations</strong></h4>\"))\n",
    "display(chart2)\n"
   ]
  },
  {
   "cell_type": "code",
   "execution_count": 11,
   "id": "7e78de32-e647-4823-905f-da3ad190a248",
   "metadata": {
    "execution": {
     "iopub.execute_input": "2022-05-09T21:55:29.240247Z",
     "iopub.status.busy": "2022-05-09T21:55:29.240049Z",
     "iopub.status.idle": "2022-05-09T21:55:29.244838Z",
     "shell.execute_reply": "2022-05-09T21:55:29.243630Z"
    },
    "jupyter": {
     "source_hidden": true
    },
    "papermill": {
     "duration": 0.015187,
     "end_time": "2022-05-09T21:55:29.247385",
     "exception": false,
     "start_time": "2022-05-09T21:55:29.232198",
     "status": "completed"
    },
    "tags": [
     "remove_input"
    ]
   },
   "outputs": [
    {
     "data": {
      "text/html": [
       "<h2>Prefix Codes</h2>"
      ],
      "text/plain": [
       "<IPython.core.display.HTML object>"
      ]
     },
     "metadata": {},
     "output_type": "display_data"
    }
   ],
   "source": [
    "display(HTML(\"<h2>Prefix Codes</h2>\"))"
   ]
  },
  {
   "cell_type": "code",
   "execution_count": 12,
   "id": "f661bd63-f8aa-4048-b035-03d5bf1b7e95",
   "metadata": {
    "execution": {
     "iopub.execute_input": "2022-05-09T21:55:29.262876Z",
     "iopub.status.busy": "2022-05-09T21:55:29.262674Z",
     "iopub.status.idle": "2022-05-09T21:55:29.365705Z",
     "shell.execute_reply": "2022-05-09T21:55:29.365217Z"
    },
    "jupyter": {
     "source_hidden": true
    },
    "papermill": {
     "duration": 0.112295,
     "end_time": "2022-05-09T21:55:29.367410",
     "exception": false,
     "start_time": "2022-05-09T21:55:29.255115",
     "status": "completed"
    },
    "tags": [
     "remove_input"
    ]
   },
   "outputs": [
    {
     "data": {
      "text/html": [
       "<h4><strong>Number of Unique Prefix Codes by District</strong></h4>"
      ],
      "text/plain": [
       "<IPython.core.display.HTML object>"
      ]
     },
     "metadata": {},
     "output_type": "display_data"
    },
    {
     "data": {
      "text/html": [
       "\n",
       "<div id=\"altair-viz-3ed48cce855b413c814595f8c3bf00f9\"></div>\n",
       "<script type=\"text/javascript\">\n",
       "  var VEGA_DEBUG = (typeof VEGA_DEBUG == \"undefined\") ? {} : VEGA_DEBUG;\n",
       "  (function(spec, embedOpt){\n",
       "    let outputDiv = document.currentScript.previousElementSibling;\n",
       "    if (outputDiv.id !== \"altair-viz-3ed48cce855b413c814595f8c3bf00f9\") {\n",
       "      outputDiv = document.getElementById(\"altair-viz-3ed48cce855b413c814595f8c3bf00f9\");\n",
       "    }\n",
       "    const paths = {\n",
       "      \"vega\": \"https://cdn.jsdelivr.net/npm//vega@5?noext\",\n",
       "      \"vega-lib\": \"https://cdn.jsdelivr.net/npm//vega-lib?noext\",\n",
       "      \"vega-lite\": \"https://cdn.jsdelivr.net/npm//vega-lite@4.17.0?noext\",\n",
       "      \"vega-embed\": \"https://cdn.jsdelivr.net/npm//vega-embed@6?noext\",\n",
       "    };\n",
       "\n",
       "    function maybeLoadScript(lib, version) {\n",
       "      var key = `${lib.replace(\"-\", \"\")}_version`;\n",
       "      return (VEGA_DEBUG[key] == version) ?\n",
       "        Promise.resolve(paths[lib]) :\n",
       "        new Promise(function(resolve, reject) {\n",
       "          var s = document.createElement('script');\n",
       "          document.getElementsByTagName(\"head\")[0].appendChild(s);\n",
       "          s.async = true;\n",
       "          s.onload = () => {\n",
       "            VEGA_DEBUG[key] = version;\n",
       "            return resolve(paths[lib]);\n",
       "          };\n",
       "          s.onerror = () => reject(`Error loading script: ${paths[lib]}`);\n",
       "          s.src = paths[lib];\n",
       "        });\n",
       "    }\n",
       "\n",
       "    function showError(err) {\n",
       "      outputDiv.innerHTML = `<div class=\"error\" style=\"color:red;\">${err}</div>`;\n",
       "      throw err;\n",
       "    }\n",
       "\n",
       "    function displayChart(vegaEmbed) {\n",
       "      vegaEmbed(outputDiv, spec, embedOpt)\n",
       "        .catch(err => showError(`Javascript Error: ${err.message}<br>This usually means there's a typo in your chart specification. See the javascript console for the full traceback.`));\n",
       "    }\n",
       "\n",
       "    if(typeof define === \"function\" && define.amd) {\n",
       "      requirejs.config({paths});\n",
       "      require([\"vega-embed\"], displayChart, err => showError(`Error loading script: ${err.message}`));\n",
       "    } else {\n",
       "      maybeLoadScript(\"vega\", \"5\")\n",
       "        .then(() => maybeLoadScript(\"vega-lite\", \"4.17.0\"))\n",
       "        .then(() => maybeLoadScript(\"vega-embed\", \"6\"))\n",
       "        .catch(showError)\n",
       "        .then(() => displayChart(vegaEmbed));\n",
       "    }\n",
       "  })({\"config\": {\"view\": {\"continuousWidth\": 400, \"continuousHeight\": 300}, \"axis\": {\"domainColor\": \"#cbcbcb\", \"grid\": true, \"gridColor\": \"#cbcbcb\", \"gridWidth\": 1, \"labelColor\": \"#474747\", \"labelFont\": \"Nunito Sans\", \"labelFontSize\": 10, \"labelPadding\": 4, \"tickColor\": \"#cbcbcb\", \"tickSize\": 10, \"titleColor\": \"#333\", \"titleFont\": \"Raleway\", \"titleFontSize\": 12, \"titlePadding\": 10}, \"axisBand\": {\"grid\": false}, \"background\": \"white\", \"font\": \"Raleway\", \"header\": {\"labelFont\": \"Nunito Sans\", \"titleFont\": \"Raleway\"}, \"legend\": {\"labelColor\": \"#333\", \"labelFont\": \"Nunito Sans\", \"labelFontSize\": 11, \"labelLimit\": 0, \"padding\": 1, \"symbolSize\": 30, \"symbolType\": \"square\", \"titleColor\": \"#333\", \"titleFont\": \"Raleway\", \"titleFontSize\": 14, \"titlePadding\": 10}, \"title\": {\"anchor\": \"middle\", \"font\": \"Raleway\", \"fontSize\": 18, \"fontWeight\": 300, \"offset\": 20}}, \"data\": {\"name\": \"data-2f69b625fe25e2bcb1750c4914095732\"}, \"mark\": \"bar\", \"encoding\": {\"color\": {\"field\": \"District\", \"legend\": {\"title\": \"District\"}, \"scale\": {\"range\": [\"#B9D6DF\", \"#8CBCCB\", \"#2EA8CE\", \"#136C97\", \"#0B405B\"]}, \"type\": \"nominal\"}, \"column\": {\"field\": \"District\", \"type\": \"nominal\"}, \"tooltip\": [{\"field\": \"prepared_y\", \"type\": \"quantitative\"}, {\"field\": \"Count\", \"type\": \"quantitative\"}], \"x\": {\"field\": \"prepared_y\", \"title\": \"Prepared Year\", \"type\": \"ordinal\"}, \"y\": {\"field\": \"Count\", \"title\": \"Number of Unique Agencies\", \"type\": \"quantitative\"}}, \"height\": 250, \"width\": 400, \"$schema\": \"https://vega.github.io/schema/vega-lite/v4.17.0.json\", \"datasets\": {\"data-2f69b625fe25e2bcb1750c4914095732\": [{\"prepared_y\": 2022.0, \"District\": 6, \"Count\": 19}, {\"prepared_y\": 2021.0, \"District\": 6, \"Count\": 26}, {\"prepared_y\": 2020.0, \"District\": 6, \"Count\": 27}, {\"prepared_y\": 2019.0, \"District\": 6, \"Count\": 28}, {\"prepared_y\": 2018.0, \"District\": 6, \"Count\": 27}, {\"prepared_y\": 2017.0, \"District\": 6, \"Count\": 29}, {\"prepared_y\": 2016.0, \"District\": 6, \"Count\": 30}, {\"prepared_y\": 2015.0, \"District\": 6, \"Count\": 32}, {\"prepared_y\": 2014.0, \"District\": 6, \"Count\": 36}, {\"prepared_y\": 2013.0, \"District\": 6, \"Count\": 10}]}}, {\"mode\": \"vega-lite\"});\n",
       "</script>"
      ],
      "text/plain": [
       "alt.Chart(...)"
      ]
     },
     "metadata": {},
     "output_type": "display_data"
    }
   ],
   "source": [
    "#Unique Prefixes by Dist\n",
    "dist_years_prefix = ((\n",
    "        df\n",
    "        >> group_by(_.prepared_y, _.dist)\n",
    "        >> summarize(n=_.prefix.nunique())\n",
    "        >> arrange(-_.prepared_y)\n",
    "    ).rename(columns={'dist':'District', 'n':'Count'}))\n",
    "\n",
    "chart11 = (alt.Chart(dist_years_prefix).mark_bar().encode(\n",
    "        column='District:N',\n",
    "        x=alt.X('prepared_y:O', title='Prepared Year'),\n",
    "        y=alt.Y('Count:Q', title='Number of Unique Agencies'),\n",
    "        color = alt.Color(\"District:N\", \n",
    "                              scale=alt.Scale(\n",
    "                                  range=altair_utils.CALITP_SEQUENTIAL_COLORS),  \n",
    "                               legend=alt.Legend(title=\"District\")\n",
    "                              )\n",
    "                              ))\n",
    "chart11 = styleguide.preset_chart_config(chart11)\n",
    "chart11 = _dla_utils_reports.add_tooltip(chart11, 'prepared_y','Count')\n",
    "    \n",
    "display(HTML(\"<h4><strong>Number of Unique Prefix Codes by District</strong></h4>\"))\n",
    "display(chart11)"
   ]
  },
  {
   "cell_type": "code",
   "execution_count": 13,
   "id": "0aca2d9a-062a-4c12-9489-5f9de10f3462",
   "metadata": {
    "execution": {
     "iopub.execute_input": "2022-05-09T21:55:29.383875Z",
     "iopub.status.busy": "2022-05-09T21:55:29.383670Z",
     "iopub.status.idle": "2022-05-09T21:55:29.461151Z",
     "shell.execute_reply": "2022-05-09T21:55:29.460595Z"
    },
    "jupyter": {
     "source_hidden": true
    },
    "papermill": {
     "duration": 0.087424,
     "end_time": "2022-05-09T21:55:29.463019",
     "exception": false,
     "start_time": "2022-05-09T21:55:29.375595",
     "status": "completed"
    },
    "tags": [
     "remove_input"
    ]
   },
   "outputs": [
    {
     "data": {
      "text/html": [
       "<h4><strong>Most Used Prefix Codes</strong></h4>"
      ],
      "text/plain": [
       "<IPython.core.display.HTML object>"
      ]
     },
     "metadata": {},
     "output_type": "display_data"
    },
    {
     "data": {
      "text/html": [
       "\n",
       "<div id=\"altair-viz-e7a135e36b2f48e49228d5176a6db781\"></div>\n",
       "<script type=\"text/javascript\">\n",
       "  var VEGA_DEBUG = (typeof VEGA_DEBUG == \"undefined\") ? {} : VEGA_DEBUG;\n",
       "  (function(spec, embedOpt){\n",
       "    let outputDiv = document.currentScript.previousElementSibling;\n",
       "    if (outputDiv.id !== \"altair-viz-e7a135e36b2f48e49228d5176a6db781\") {\n",
       "      outputDiv = document.getElementById(\"altair-viz-e7a135e36b2f48e49228d5176a6db781\");\n",
       "    }\n",
       "    const paths = {\n",
       "      \"vega\": \"https://cdn.jsdelivr.net/npm//vega@5?noext\",\n",
       "      \"vega-lib\": \"https://cdn.jsdelivr.net/npm//vega-lib?noext\",\n",
       "      \"vega-lite\": \"https://cdn.jsdelivr.net/npm//vega-lite@4.17.0?noext\",\n",
       "      \"vega-embed\": \"https://cdn.jsdelivr.net/npm//vega-embed@6?noext\",\n",
       "    };\n",
       "\n",
       "    function maybeLoadScript(lib, version) {\n",
       "      var key = `${lib.replace(\"-\", \"\")}_version`;\n",
       "      return (VEGA_DEBUG[key] == version) ?\n",
       "        Promise.resolve(paths[lib]) :\n",
       "        new Promise(function(resolve, reject) {\n",
       "          var s = document.createElement('script');\n",
       "          document.getElementsByTagName(\"head\")[0].appendChild(s);\n",
       "          s.async = true;\n",
       "          s.onload = () => {\n",
       "            VEGA_DEBUG[key] = version;\n",
       "            return resolve(paths[lib]);\n",
       "          };\n",
       "          s.onerror = () => reject(`Error loading script: ${paths[lib]}`);\n",
       "          s.src = paths[lib];\n",
       "        });\n",
       "    }\n",
       "\n",
       "    function showError(err) {\n",
       "      outputDiv.innerHTML = `<div class=\"error\" style=\"color:red;\">${err}</div>`;\n",
       "      throw err;\n",
       "    }\n",
       "\n",
       "    function displayChart(vegaEmbed) {\n",
       "      vegaEmbed(outputDiv, spec, embedOpt)\n",
       "        .catch(err => showError(`Javascript Error: ${err.message}<br>This usually means there's a typo in your chart specification. See the javascript console for the full traceback.`));\n",
       "    }\n",
       "\n",
       "    if(typeof define === \"function\" && define.amd) {\n",
       "      requirejs.config({paths});\n",
       "      require([\"vega-embed\"], displayChart, err => showError(`Error loading script: ${err.message}`));\n",
       "    } else {\n",
       "      maybeLoadScript(\"vega\", \"5\")\n",
       "        .then(() => maybeLoadScript(\"vega-lite\", \"4.17.0\"))\n",
       "        .then(() => maybeLoadScript(\"vega-embed\", \"6\"))\n",
       "        .catch(showError)\n",
       "        .then(() => displayChart(vegaEmbed));\n",
       "    }\n",
       "  })({\"config\": {\"view\": {\"continuousWidth\": 400, \"continuousHeight\": 300}, \"axis\": {\"domainColor\": \"#cbcbcb\", \"grid\": true, \"gridColor\": \"#cbcbcb\", \"gridWidth\": 1, \"labelColor\": \"#474747\", \"labelFont\": \"Nunito Sans\", \"labelFontSize\": 10, \"labelPadding\": 4, \"tickColor\": \"#cbcbcb\", \"tickSize\": 10, \"titleColor\": \"#333\", \"titleFont\": \"Raleway\", \"titleFontSize\": 12, \"titlePadding\": 10}, \"axisBand\": {\"grid\": false}, \"background\": \"white\", \"font\": \"Raleway\", \"header\": {\"labelFont\": \"Nunito Sans\", \"titleFont\": \"Raleway\"}, \"legend\": {\"labelColor\": \"#333\", \"labelFont\": \"Nunito Sans\", \"labelFontSize\": 11, \"labelLimit\": 0, \"padding\": 1, \"symbolSize\": 30, \"symbolType\": \"square\", \"titleColor\": \"#333\", \"titleFont\": \"Raleway\", \"titleFontSize\": 14, \"titlePadding\": 10}, \"title\": {\"anchor\": \"middle\", \"font\": \"Raleway\", \"fontSize\": 18, \"fontWeight\": 300, \"offset\": 20}}, \"data\": {\"name\": \"data-08107c06fc86c6dde0b71209014f1ac6\"}, \"mark\": \"bar\", \"encoding\": {\"color\": {\"field\": \"Prefix\", \"legend\": {\"symbolLimit\": 10, \"title\": \"Prefix\"}, \"scale\": {\"range\": [\"#2EA8CE\", \"#EB9F3C\", \"#F4D837\", \"#51BF9D\", \"#8CBCCB\", \"#9487C0\"]}, \"type\": \"nominal\"}, \"tooltip\": [{\"field\": \"Prefix\", \"type\": \"nominal\"}, {\"field\": \"Number of Obligations\", \"type\": \"quantitative\"}], \"x\": {\"field\": \"Prefix\", \"sort\": \"-y\", \"title\": \"Prefix\", \"type\": \"nominal\"}, \"y\": {\"field\": \"Number of Obligations\", \"title\": \"Number Of Obligations\", \"type\": \"quantitative\"}}, \"height\": 250, \"width\": 400, \"$schema\": \"https://vega.github.io/schema/vega-lite/v4.17.0.json\", \"datasets\": {\"data-08107c06fc86c6dde0b71209014f1ac6\": [{\"Prefix\": \"CML\", \"Number of Obligations\": 1051, \"variable\": \"prefix\"}, {\"Prefix\": \"STPL\", \"Number of Obligations\": 748, \"variable\": \"prefix\"}, {\"Prefix\": \"HSIPL\", \"Number of Obligations\": 320, \"variable\": \"prefix\"}, {\"Prefix\": \"BRLO\", \"Number of Obligations\": 210, \"variable\": \"prefix\"}, {\"Prefix\": \"CMLNI\", \"Number of Obligations\": 141, \"variable\": \"prefix\"}, {\"Prefix\": \"ATPL\", \"Number of Obligations\": 120, \"variable\": \"prefix\"}, {\"Prefix\": \"BPMP\", \"Number of Obligations\": 76, \"variable\": \"prefix\"}, {\"Prefix\": \"BRLS\", \"Number of Obligations\": 76, \"variable\": \"prefix\"}, {\"Prefix\": \"RPSTPL\", \"Number of Obligations\": 66, \"variable\": \"prefix\"}, {\"Prefix\": \"NCIIPL\", \"Number of Obligations\": 43, \"variable\": \"prefix\"}, {\"Prefix\": \"SRTSL\", \"Number of Obligations\": 37, \"variable\": \"prefix\"}, {\"Prefix\": \"STPCML\", \"Number of Obligations\": 30, \"variable\": \"prefix\"}, {\"Prefix\": \"BHLSZ\", \"Number of Obligations\": 27, \"variable\": \"prefix\"}, {\"Prefix\": \"FTACML\", \"Number of Obligations\": 26, \"variable\": \"prefix\"}, {\"Prefix\": \"STPHIPL\", \"Number of Obligations\": 20, \"variable\": \"prefix\"}, {\"Prefix\": \"STPLNI\", \"Number of Obligations\": 18, \"variable\": \"prefix\"}, {\"Prefix\": \"BHLS\", \"Number of Obligations\": 13, \"variable\": \"prefix\"}, {\"Prefix\": \"PRNSL\", \"Number of Obligations\": 13, \"variable\": \"prefix\"}, {\"Prefix\": \"ER\", \"Number of Obligations\": 10, \"variable\": \"prefix\"}, {\"Prefix\": \"HPLUL\", \"Number of Obligations\": 10, \"variable\": \"prefix\"}]}}, {\"mode\": \"vega-lite\"});\n",
       "</script>"
      ],
      "text/plain": [
       "alt.Chart(...)"
      ]
     },
     "metadata": {},
     "output_type": "display_data"
    }
   ],
   "source": [
    "#Bar chart with the Most Used Prefix Counts\n",
    "chart_df = (df_top>>filter(_.variable=='prefix')).rename(columns={\"value\":\"Prefix\",\n",
    "                                 \"count\":\"Number of Obligations\"})\n",
    "chart9= (_dla_utils_reports.basic_bar_chart_no_save(chart_df, 'Prefix', 'Number of Obligations', 'Prefix', district))\n",
    "    \n",
    "display(HTML(\"<h4><strong>Most Used Prefix Codes</strong></h4>\"))\n",
    "display(chart9)\n",
    "    "
   ]
  },
  {
   "cell_type": "code",
   "execution_count": 14,
   "id": "3d21c9b2-833b-463a-9a03-a9c83d727d2e",
   "metadata": {
    "execution": {
     "iopub.execute_input": "2022-05-09T21:55:29.480488Z",
     "iopub.status.busy": "2022-05-09T21:55:29.480292Z",
     "iopub.status.idle": "2022-05-09T21:55:29.590232Z",
     "shell.execute_reply": "2022-05-09T21:55:29.589744Z"
    },
    "jupyter": {
     "source_hidden": true
    },
    "papermill": {
     "duration": 0.119908,
     "end_time": "2022-05-09T21:55:29.591831",
     "exception": false,
     "start_time": "2022-05-09T21:55:29.471923",
     "status": "completed"
    },
    "tags": [
     "remove_input"
    ]
   },
   "outputs": [
    {
     "data": {
      "text/html": [
       "<h4><strong>Agencies With The Most Unique Prefix Codes</strong></h4>"
      ],
      "text/plain": [
       "<IPython.core.display.HTML object>"
      ]
     },
     "metadata": {},
     "output_type": "display_data"
    },
    {
     "data": {
      "text/html": [
       "\n",
       "<div id=\"altair-viz-668de40bdb7c452ba85f842f68727e50\"></div>\n",
       "<script type=\"text/javascript\">\n",
       "  var VEGA_DEBUG = (typeof VEGA_DEBUG == \"undefined\") ? {} : VEGA_DEBUG;\n",
       "  (function(spec, embedOpt){\n",
       "    let outputDiv = document.currentScript.previousElementSibling;\n",
       "    if (outputDiv.id !== \"altair-viz-668de40bdb7c452ba85f842f68727e50\") {\n",
       "      outputDiv = document.getElementById(\"altair-viz-668de40bdb7c452ba85f842f68727e50\");\n",
       "    }\n",
       "    const paths = {\n",
       "      \"vega\": \"https://cdn.jsdelivr.net/npm//vega@5?noext\",\n",
       "      \"vega-lib\": \"https://cdn.jsdelivr.net/npm//vega-lib?noext\",\n",
       "      \"vega-lite\": \"https://cdn.jsdelivr.net/npm//vega-lite@4.17.0?noext\",\n",
       "      \"vega-embed\": \"https://cdn.jsdelivr.net/npm//vega-embed@6?noext\",\n",
       "    };\n",
       "\n",
       "    function maybeLoadScript(lib, version) {\n",
       "      var key = `${lib.replace(\"-\", \"\")}_version`;\n",
       "      return (VEGA_DEBUG[key] == version) ?\n",
       "        Promise.resolve(paths[lib]) :\n",
       "        new Promise(function(resolve, reject) {\n",
       "          var s = document.createElement('script');\n",
       "          document.getElementsByTagName(\"head\")[0].appendChild(s);\n",
       "          s.async = true;\n",
       "          s.onload = () => {\n",
       "            VEGA_DEBUG[key] = version;\n",
       "            return resolve(paths[lib]);\n",
       "          };\n",
       "          s.onerror = () => reject(`Error loading script: ${paths[lib]}`);\n",
       "          s.src = paths[lib];\n",
       "        });\n",
       "    }\n",
       "\n",
       "    function showError(err) {\n",
       "      outputDiv.innerHTML = `<div class=\"error\" style=\"color:red;\">${err}</div>`;\n",
       "      throw err;\n",
       "    }\n",
       "\n",
       "    function displayChart(vegaEmbed) {\n",
       "      vegaEmbed(outputDiv, spec, embedOpt)\n",
       "        .catch(err => showError(`Javascript Error: ${err.message}<br>This usually means there's a typo in your chart specification. See the javascript console for the full traceback.`));\n",
       "    }\n",
       "\n",
       "    if(typeof define === \"function\" && define.amd) {\n",
       "      requirejs.config({paths});\n",
       "      require([\"vega-embed\"], displayChart, err => showError(`Error loading script: ${err.message}`));\n",
       "    } else {\n",
       "      maybeLoadScript(\"vega\", \"5\")\n",
       "        .then(() => maybeLoadScript(\"vega-lite\", \"4.17.0\"))\n",
       "        .then(() => maybeLoadScript(\"vega-embed\", \"6\"))\n",
       "        .catch(showError)\n",
       "        .then(() => displayChart(vegaEmbed));\n",
       "    }\n",
       "  })({\"config\": {\"view\": {\"continuousWidth\": 400, \"continuousHeight\": 300}, \"axis\": {\"domainColor\": \"#cbcbcb\", \"grid\": true, \"gridColor\": \"#cbcbcb\", \"gridWidth\": 1, \"labelColor\": \"#474747\", \"labelFont\": \"Nunito Sans\", \"labelFontSize\": 10, \"labelPadding\": 4, \"tickColor\": \"#cbcbcb\", \"tickSize\": 10, \"titleColor\": \"#333\", \"titleFont\": \"Raleway\", \"titleFontSize\": 12, \"titlePadding\": 10}, \"axisBand\": {\"grid\": false}, \"background\": \"white\", \"font\": \"Raleway\", \"header\": {\"labelFont\": \"Nunito Sans\", \"titleFont\": \"Raleway\"}, \"legend\": {\"labelColor\": \"#333\", \"labelFont\": \"Nunito Sans\", \"labelFontSize\": 11, \"labelLimit\": 0, \"padding\": 1, \"symbolSize\": 30, \"symbolType\": \"square\", \"titleColor\": \"#333\", \"titleFont\": \"Raleway\", \"titleFontSize\": 14, \"titlePadding\": 10}, \"title\": {\"anchor\": \"middle\", \"font\": \"Raleway\", \"fontSize\": 18, \"fontWeight\": 300, \"offset\": 20}}, \"data\": {\"name\": \"data-d239b4836c9e010704a0543a5c9a0f5b\"}, \"mark\": \"bar\", \"encoding\": {\"color\": {\"field\": \"primary_agency_name\", \"legend\": {\"symbolLimit\": 10, \"title\": \"Agency\"}, \"scale\": {\"range\": [\"#2EA8CE\", \"#EB9F3C\", \"#F4D837\", \"#51BF9D\", \"#8CBCCB\", \"#9487C0\"]}, \"type\": \"nominal\"}, \"tooltip\": [{\"field\": \"primary_agency_name\", \"type\": \"nominal\"}, {\"field\": \"n\", \"type\": \"quantitative\"}], \"x\": {\"field\": \"primary_agency_name\", \"sort\": \"-y\", \"title\": \"Agency\", \"type\": \"nominal\"}, \"y\": {\"field\": \"n\", \"title\": \"Count\", \"type\": \"quantitative\"}}, \"height\": 250, \"width\": 400, \"$schema\": \"https://vega.github.io/schema/vega-lite/v4.17.0.json\", \"datasets\": {\"data-d239b4836c9e010704a0543a5c9a0f5b\": [{\"primary_agency_name\": \"Fresno County\", \"n\": 16}, {\"primary_agency_name\": \"Kern County\", \"n\": 16}, {\"primary_agency_name\": \"Tulare County\", \"n\": 16}, {\"primary_agency_name\": \"Bakersfield\", \"n\": 15}, {\"primary_agency_name\": \"Fresno\", \"n\": 15}, {\"primary_agency_name\": \"Visalia\", \"n\": 12}, {\"primary_agency_name\": \"Madera\", \"n\": 9}, {\"primary_agency_name\": \"Clovis\", \"n\": 8}, {\"primary_agency_name\": \"Madera County\", \"n\": 8}, {\"primary_agency_name\": \"Reedley\", \"n\": 8}, {\"primary_agency_name\": \"Wasco\", \"n\": 8}, {\"primary_agency_name\": \"Kings County\", \"n\": 7}, {\"primary_agency_name\": \"Porterville\", \"n\": 7}, {\"primary_agency_name\": \"Shafter\", \"n\": 7}, {\"primary_agency_name\": \"Delano\", \"n\": 6}, {\"primary_agency_name\": \"Dinuba\", \"n\": 6}, {\"primary_agency_name\": \"Fowler\", \"n\": 6}, {\"primary_agency_name\": \"Mendota\", \"n\": 6}, {\"primary_agency_name\": \"Parlier\", \"n\": 6}, {\"primary_agency_name\": \"Tulare\", \"n\": 6}, {\"primary_agency_name\": \"Chowchilla\", \"n\": 5}, {\"primary_agency_name\": \"Kerman\", \"n\": 5}, {\"primary_agency_name\": \"Kern County Council of Governments\", \"n\": 5}, {\"primary_agency_name\": \"Kingsburg\", \"n\": 5}, {\"primary_agency_name\": \"San Joaquin\", \"n\": 5}, {\"primary_agency_name\": \"Selma\", \"n\": 5}, {\"primary_agency_name\": \"Taft\", \"n\": 5}, {\"primary_agency_name\": \"Arvin\", \"n\": 4}, {\"primary_agency_name\": \"Coalinga\", \"n\": 4}, {\"primary_agency_name\": \"Department of Water Resources\", \"n\": 4}]}}, {\"mode\": \"vega-lite\"});\n",
       "</script>"
      ],
      "text/plain": [
       "alt.Chart(...)"
      ]
     },
     "metadata": {},
     "output_type": "display_data"
    }
   ],
   "source": [
    "#Bar chart Agencies With The Most Unique Prefix Codes\n",
    "    \n",
    "chart3 = (_dla_utils_reports.basic_bar_chart_no_save(((_dla_utils_reports.get_nunique(df, 'prefix', 'primary_agency_name')).head(30)),\n",
    "                            'primary_agency_name', 'n', 'primary_agency_name', district))\n",
    "    \n",
    "display(HTML(\"<h4><strong>Agencies With The Most Unique Prefix Codes</strong></h4>\"))\n",
    "display(chart3)"
   ]
  },
  {
   "cell_type": "code",
   "execution_count": 15,
   "id": "8c744cb5-e4f5-4e8e-8cd8-c59641845299",
   "metadata": {
    "execution": {
     "iopub.execute_input": "2022-05-09T21:55:29.607704Z",
     "iopub.status.busy": "2022-05-09T21:55:29.607514Z",
     "iopub.status.idle": "2022-05-09T21:55:29.612397Z",
     "shell.execute_reply": "2022-05-09T21:55:29.611123Z"
    },
    "jupyter": {
     "source_hidden": true
    },
    "papermill": {
     "duration": 0.015057,
     "end_time": "2022-05-09T21:55:29.614466",
     "exception": false,
     "start_time": "2022-05-09T21:55:29.599409",
     "status": "completed"
    },
    "tags": [
     "remove_input"
    ]
   },
   "outputs": [
    {
     "data": {
      "text/html": [
       "<h2>Funding Distribution</h2>"
      ],
      "text/plain": [
       "<IPython.core.display.HTML object>"
      ]
     },
     "metadata": {},
     "output_type": "display_data"
    }
   ],
   "source": [
    "display(HTML(\"<h2>Funding Distribution</h2>\"))"
   ]
  },
  {
   "cell_type": "code",
   "execution_count": 16,
   "id": "3745ca4d-8dd4-4c09-b46b-a2f6db6358ad",
   "metadata": {
    "execution": {
     "iopub.execute_input": "2022-05-09T21:55:29.632046Z",
     "iopub.status.busy": "2022-05-09T21:55:29.631839Z",
     "iopub.status.idle": "2022-05-09T21:55:29.719697Z",
     "shell.execute_reply": "2022-05-09T21:55:29.719085Z"
    },
    "jupyter": {
     "source_hidden": true
    },
    "papermill": {
     "duration": 0.098162,
     "end_time": "2022-05-09T21:55:29.721544",
     "exception": false,
     "start_time": "2022-05-09T21:55:29.623382",
     "status": "completed"
    },
    "tags": [
     "remove_input"
    ]
   },
   "outputs": [
    {
     "data": {
      "text/html": [
       "<h4><strong>Average Total Requested Funds by Agency ($2021)</strong></h4>"
      ],
      "text/plain": [
       "<IPython.core.display.HTML object>"
      ]
     },
     "metadata": {},
     "output_type": "display_data"
    },
    {
     "data": {
      "text/html": [
       "\n",
       "<div id=\"altair-viz-b37829bcef8e420ea4fb19ba462cfb3f\"></div>\n",
       "<script type=\"text/javascript\">\n",
       "  var VEGA_DEBUG = (typeof VEGA_DEBUG == \"undefined\") ? {} : VEGA_DEBUG;\n",
       "  (function(spec, embedOpt){\n",
       "    let outputDiv = document.currentScript.previousElementSibling;\n",
       "    if (outputDiv.id !== \"altair-viz-b37829bcef8e420ea4fb19ba462cfb3f\") {\n",
       "      outputDiv = document.getElementById(\"altair-viz-b37829bcef8e420ea4fb19ba462cfb3f\");\n",
       "    }\n",
       "    const paths = {\n",
       "      \"vega\": \"https://cdn.jsdelivr.net/npm//vega@5?noext\",\n",
       "      \"vega-lib\": \"https://cdn.jsdelivr.net/npm//vega-lib?noext\",\n",
       "      \"vega-lite\": \"https://cdn.jsdelivr.net/npm//vega-lite@4.17.0?noext\",\n",
       "      \"vega-embed\": \"https://cdn.jsdelivr.net/npm//vega-embed@6?noext\",\n",
       "    };\n",
       "\n",
       "    function maybeLoadScript(lib, version) {\n",
       "      var key = `${lib.replace(\"-\", \"\")}_version`;\n",
       "      return (VEGA_DEBUG[key] == version) ?\n",
       "        Promise.resolve(paths[lib]) :\n",
       "        new Promise(function(resolve, reject) {\n",
       "          var s = document.createElement('script');\n",
       "          document.getElementsByTagName(\"head\")[0].appendChild(s);\n",
       "          s.async = true;\n",
       "          s.onload = () => {\n",
       "            VEGA_DEBUG[key] = version;\n",
       "            return resolve(paths[lib]);\n",
       "          };\n",
       "          s.onerror = () => reject(`Error loading script: ${paths[lib]}`);\n",
       "          s.src = paths[lib];\n",
       "        });\n",
       "    }\n",
       "\n",
       "    function showError(err) {\n",
       "      outputDiv.innerHTML = `<div class=\"error\" style=\"color:red;\">${err}</div>`;\n",
       "      throw err;\n",
       "    }\n",
       "\n",
       "    function displayChart(vegaEmbed) {\n",
       "      vegaEmbed(outputDiv, spec, embedOpt)\n",
       "        .catch(err => showError(`Javascript Error: ${err.message}<br>This usually means there's a typo in your chart specification. See the javascript console for the full traceback.`));\n",
       "    }\n",
       "\n",
       "    if(typeof define === \"function\" && define.amd) {\n",
       "      requirejs.config({paths});\n",
       "      require([\"vega-embed\"], displayChart, err => showError(`Error loading script: ${err.message}`));\n",
       "    } else {\n",
       "      maybeLoadScript(\"vega\", \"5\")\n",
       "        .then(() => maybeLoadScript(\"vega-lite\", \"4.17.0\"))\n",
       "        .then(() => maybeLoadScript(\"vega-embed\", \"6\"))\n",
       "        .catch(showError)\n",
       "        .then(() => displayChart(vegaEmbed));\n",
       "    }\n",
       "  })({\"config\": {\"view\": {\"continuousWidth\": 400, \"continuousHeight\": 300}, \"axis\": {\"domainColor\": \"#cbcbcb\", \"grid\": true, \"gridColor\": \"#cbcbcb\", \"gridWidth\": 1, \"labelColor\": \"#474747\", \"labelFont\": \"Nunito Sans\", \"labelFontSize\": 10, \"labelPadding\": 4, \"tickColor\": \"#cbcbcb\", \"tickSize\": 10, \"titleColor\": \"#333\", \"titleFont\": \"Raleway\", \"titleFontSize\": 12, \"titlePadding\": 10}, \"axisBand\": {\"grid\": false}, \"background\": \"white\", \"font\": \"Raleway\", \"header\": {\"labelFont\": \"Nunito Sans\", \"titleFont\": \"Raleway\"}, \"legend\": {\"labelColor\": \"#333\", \"labelFont\": \"Nunito Sans\", \"labelFontSize\": 11, \"labelLimit\": 0, \"padding\": 1, \"symbolSize\": 30, \"symbolType\": \"square\", \"titleColor\": \"#333\", \"titleFont\": \"Raleway\", \"titleFontSize\": 14, \"titlePadding\": 10}, \"title\": {\"anchor\": \"middle\", \"font\": \"Raleway\", \"fontSize\": 18, \"fontWeight\": 300, \"offset\": 20}}, \"data\": {\"name\": \"data-c5f3717055447fe8148af9f1d1ade1bd\"}, \"mark\": \"bar\", \"encoding\": {\"color\": {\"field\": \"primary_agency_name\", \"legend\": {\"symbolLimit\": 10, \"title\": \"Agency\"}, \"scale\": {\"range\": [\"#2EA8CE\", \"#EB9F3C\", \"#F4D837\", \"#51BF9D\", \"#8CBCCB\", \"#9487C0\"]}, \"type\": \"nominal\"}, \"tooltip\": [{\"field\": \"primary_agency_name\", \"type\": \"nominal\"}, {\"field\": \"adjusted_total_requested\", \"type\": \"quantitative\"}], \"x\": {\"field\": \"primary_agency_name\", \"sort\": \"-y\", \"title\": \"Agency\", \"type\": \"nominal\"}, \"y\": {\"field\": \"adjusted_total_requested\", \"title\": \"Adjusted Total Requested\", \"type\": \"quantitative\"}}, \"height\": 250, \"width\": 400, \"$schema\": \"https://vega.github.io/schema/vega-lite/v4.17.0.json\", \"datasets\": {\"data-c5f3717055447fe8148af9f1d1ade1bd\": [{\"primary_agency_name\": \"Caltrans\", \"adjusted_total_requested\": 19308706.319729827}, {\"primary_agency_name\": \"Bakersfield\", \"adjusted_total_requested\": 3267594.4735935167}, {\"primary_agency_name\": \"Golden Empire Transit District\", \"adjusted_total_requested\": 1245389.091646646}, {\"primary_agency_name\": \"Kern Regional Transit\", \"adjusted_total_requested\": 1197363.0888950778}, {\"primary_agency_name\": \"Council of Fresno County Governments\", \"adjusted_total_requested\": 908785.9144913657}, {\"primary_agency_name\": \"Woodlake\", \"adjusted_total_requested\": 713923.392417072}, {\"primary_agency_name\": \"Farmersville\", \"adjusted_total_requested\": 645912.2777016698}, {\"primary_agency_name\": \"Kern County Superintendent of Schools\", \"adjusted_total_requested\": 476057.0320497761}, {\"primary_agency_name\": \"Porterville\", \"adjusted_total_requested\": 454358.79390452895}, {\"primary_agency_name\": \"Kings County Area Public Transit Agency\", \"adjusted_total_requested\": 440145.39218638884}, {\"primary_agency_name\": \"Fresno\", \"adjusted_total_requested\": 435600.7151628189}, {\"primary_agency_name\": \"Kern County\", \"adjusted_total_requested\": 419186.697343355}, {\"primary_agency_name\": \"Fresno County\", \"adjusted_total_requested\": 410275.27784219896}, {\"primary_agency_name\": \"Visalia\", \"adjusted_total_requested\": 389994.49829880096}, {\"primary_agency_name\": \"Avenal\", \"adjusted_total_requested\": 364248.8102093138}, {\"primary_agency_name\": \"Central Unified School District\", \"adjusted_total_requested\": 345638.7072344707}, {\"primary_agency_name\": \"Dinuba\", \"adjusted_total_requested\": 296107.80179796455}, {\"primary_agency_name\": \"Fresno County Rural Transit Agency\", \"adjusted_total_requested\": 291529.0886307733}, {\"primary_agency_name\": \"Sanger\", \"adjusted_total_requested\": 288394.7535344351}, {\"primary_agency_name\": \"Coalinga\", \"adjusted_total_requested\": 288308.9077652601}, {\"primary_agency_name\": \"Exeter\", \"adjusted_total_requested\": 284527.3146255975}, {\"primary_agency_name\": \"Tulare County\", \"adjusted_total_requested\": 279815.9180430304}, {\"primary_agency_name\": \"Arvin\", \"adjusted_total_requested\": 279105.6401502471}, {\"primary_agency_name\": \"Reedley\", \"adjusted_total_requested\": 259099.10871553753}, {\"primary_agency_name\": \"Kings Canyon Unified School District\", \"adjusted_total_requested\": 225499.48008540773}, {\"primary_agency_name\": \"Clovis Unified School District\", \"adjusted_total_requested\": 225417.7926542717}, {\"primary_agency_name\": \"Fresno Unified School District\", \"adjusted_total_requested\": 208779.6916702239}, {\"primary_agency_name\": \"Delano\", \"adjusted_total_requested\": 208766.72898471917}, {\"primary_agency_name\": \"Tulare\", \"adjusted_total_requested\": 203358.10248310806}, {\"primary_agency_name\": \"Hanford\", \"adjusted_total_requested\": 201477.21346516733}]}}, {\"mode\": \"vega-lite\"});\n",
       "</script>"
      ],
      "text/plain": [
       "alt.Chart(...)"
      ]
     },
     "metadata": {},
     "output_type": "display_data"
    }
   ],
   "source": [
    "#Bar chart Average Total Requested Funds by Agency\n",
    "chart4=(_dla_utils_reports.basic_bar_chart_no_save((((_dla_utils_reports.calculate_data_all(df, 'adjusted_total_requested', 'primary_agency_name', aggfunc=\"mean\"))\n",
    "                          >>arrange(-_.adjusted_total_requested)).head(30)\n",
    "                        ), 'primary_agency_name','adjusted_total_requested', 'primary_agency_name', district\n",
    "                          \n",
    "                       ))\n",
    "    \n",
    "display(HTML(\"<h4><strong>Average Total Requested Funds by Agency ($2021)</strong></h4>\"))\n",
    "display(chart4)"
   ]
  },
  {
   "cell_type": "code",
   "execution_count": 17,
   "id": "ce18a74b-9908-40f8-84f1-806552936465",
   "metadata": {
    "execution": {
     "iopub.execute_input": "2022-05-09T21:55:29.739749Z",
     "iopub.status.busy": "2022-05-09T21:55:29.739548Z",
     "iopub.status.idle": "2022-05-09T21:55:29.843346Z",
     "shell.execute_reply": "2022-05-09T21:55:29.842849Z"
    },
    "jupyter": {
     "source_hidden": true
    },
    "papermill": {
     "duration": 0.11449,
     "end_time": "2022-05-09T21:55:29.845080",
     "exception": false,
     "start_time": "2022-05-09T21:55:29.730590",
     "status": "completed"
    },
    "tags": [
     "remove_input"
    ]
   },
   "outputs": [
    {
     "data": {
      "text/html": [
       "<h4><strong>Lowest Average Total Funds by Agency ($2021)</strong></h4>"
      ],
      "text/plain": [
       "<IPython.core.display.HTML object>"
      ]
     },
     "metadata": {},
     "output_type": "display_data"
    },
    {
     "data": {
      "text/html": [
       "\n",
       "<div id=\"altair-viz-2c801ba2e638435eb3662905dbbecf38\"></div>\n",
       "<script type=\"text/javascript\">\n",
       "  var VEGA_DEBUG = (typeof VEGA_DEBUG == \"undefined\") ? {} : VEGA_DEBUG;\n",
       "  (function(spec, embedOpt){\n",
       "    let outputDiv = document.currentScript.previousElementSibling;\n",
       "    if (outputDiv.id !== \"altair-viz-2c801ba2e638435eb3662905dbbecf38\") {\n",
       "      outputDiv = document.getElementById(\"altair-viz-2c801ba2e638435eb3662905dbbecf38\");\n",
       "    }\n",
       "    const paths = {\n",
       "      \"vega\": \"https://cdn.jsdelivr.net/npm//vega@5?noext\",\n",
       "      \"vega-lib\": \"https://cdn.jsdelivr.net/npm//vega-lib?noext\",\n",
       "      \"vega-lite\": \"https://cdn.jsdelivr.net/npm//vega-lite@4.17.0?noext\",\n",
       "      \"vega-embed\": \"https://cdn.jsdelivr.net/npm//vega-embed@6?noext\",\n",
       "    };\n",
       "\n",
       "    function maybeLoadScript(lib, version) {\n",
       "      var key = `${lib.replace(\"-\", \"\")}_version`;\n",
       "      return (VEGA_DEBUG[key] == version) ?\n",
       "        Promise.resolve(paths[lib]) :\n",
       "        new Promise(function(resolve, reject) {\n",
       "          var s = document.createElement('script');\n",
       "          document.getElementsByTagName(\"head\")[0].appendChild(s);\n",
       "          s.async = true;\n",
       "          s.onload = () => {\n",
       "            VEGA_DEBUG[key] = version;\n",
       "            return resolve(paths[lib]);\n",
       "          };\n",
       "          s.onerror = () => reject(`Error loading script: ${paths[lib]}`);\n",
       "          s.src = paths[lib];\n",
       "        });\n",
       "    }\n",
       "\n",
       "    function showError(err) {\n",
       "      outputDiv.innerHTML = `<div class=\"error\" style=\"color:red;\">${err}</div>`;\n",
       "      throw err;\n",
       "    }\n",
       "\n",
       "    function displayChart(vegaEmbed) {\n",
       "      vegaEmbed(outputDiv, spec, embedOpt)\n",
       "        .catch(err => showError(`Javascript Error: ${err.message}<br>This usually means there's a typo in your chart specification. See the javascript console for the full traceback.`));\n",
       "    }\n",
       "\n",
       "    if(typeof define === \"function\" && define.amd) {\n",
       "      requirejs.config({paths});\n",
       "      require([\"vega-embed\"], displayChart, err => showError(`Error loading script: ${err.message}`));\n",
       "    } else {\n",
       "      maybeLoadScript(\"vega\", \"5\")\n",
       "        .then(() => maybeLoadScript(\"vega-lite\", \"4.17.0\"))\n",
       "        .then(() => maybeLoadScript(\"vega-embed\", \"6\"))\n",
       "        .catch(showError)\n",
       "        .then(() => displayChart(vegaEmbed));\n",
       "    }\n",
       "  })({\"config\": {\"view\": {\"continuousWidth\": 400, \"continuousHeight\": 300}, \"axis\": {\"domainColor\": \"#cbcbcb\", \"grid\": true, \"gridColor\": \"#cbcbcb\", \"gridWidth\": 1, \"labelColor\": \"#474747\", \"labelFont\": \"Nunito Sans\", \"labelFontSize\": 10, \"labelPadding\": 4, \"tickColor\": \"#cbcbcb\", \"tickSize\": 10, \"titleColor\": \"#333\", \"titleFont\": \"Raleway\", \"titleFontSize\": 12, \"titlePadding\": 10}, \"axisBand\": {\"grid\": false}, \"background\": \"white\", \"font\": \"Raleway\", \"header\": {\"labelFont\": \"Nunito Sans\", \"titleFont\": \"Raleway\"}, \"legend\": {\"labelColor\": \"#333\", \"labelFont\": \"Nunito Sans\", \"labelFontSize\": 11, \"labelLimit\": 0, \"padding\": 1, \"symbolSize\": 30, \"symbolType\": \"square\", \"titleColor\": \"#333\", \"titleFont\": \"Raleway\", \"titleFontSize\": 14, \"titlePadding\": 10}, \"title\": {\"anchor\": \"middle\", \"font\": \"Raleway\", \"fontSize\": 18, \"fontWeight\": 300, \"offset\": 20}}, \"data\": {\"name\": \"data-242809f8a2894e50575e9ed1557c1e04\"}, \"mark\": \"bar\", \"encoding\": {\"color\": {\"field\": \"primary_agency_name\", \"legend\": {\"symbolLimit\": 10, \"title\": \"Agency\"}, \"scale\": {\"range\": [\"#2EA8CE\", \"#EB9F3C\", \"#F4D837\", \"#51BF9D\", \"#8CBCCB\", \"#9487C0\"]}, \"type\": \"nominal\"}, \"tooltip\": [{\"field\": \"primary_agency_name\", \"type\": \"nominal\"}, {\"field\": \"avg_funds\", \"type\": \"quantitative\"}], \"x\": {\"field\": \"primary_agency_name\", \"sort\": \"-y\", \"title\": \"Agency\", \"type\": \"nominal\"}, \"y\": {\"field\": \"avg_funds\", \"title\": \"Avg Funds\", \"type\": \"quantitative\"}}, \"height\": 250, \"width\": 400, \"$schema\": \"https://vega.github.io/schema/vega-lite/v4.17.0.json\", \"datasets\": {\"data-242809f8a2894e50575e9ed1557c1e04\": [{\"primary_agency_name\": \"Central Unified School District\", \"avg_funds\": 345638.70723447076}, {\"primary_agency_name\": \"Dinuba\", \"avg_funds\": 296107.80179796455}, {\"primary_agency_name\": \"Fresno County Rural Transit Agency\", \"avg_funds\": 291529.0886307733}, {\"primary_agency_name\": \"Sanger\", \"avg_funds\": 288394.7535344351}, {\"primary_agency_name\": \"Coalinga\", \"avg_funds\": 288308.9077652601}, {\"primary_agency_name\": \"Exeter\", \"avg_funds\": 284527.3146255975}, {\"primary_agency_name\": \"Tulare County\", \"avg_funds\": 279815.91804303037}, {\"primary_agency_name\": \"Arvin\", \"avg_funds\": 279105.6401502471}, {\"primary_agency_name\": \"Reedley\", \"avg_funds\": 259099.10871553756}, {\"primary_agency_name\": \"Kings Canyon Unified School District\", \"avg_funds\": 225499.48008540773}, {\"primary_agency_name\": \"Clovis Unified School District\", \"avg_funds\": 225417.7926542717}, {\"primary_agency_name\": \"Fresno Unified School District\", \"avg_funds\": 208779.6916702239}, {\"primary_agency_name\": \"Delano\", \"avg_funds\": 208766.72898471917}, {\"primary_agency_name\": \"Tulare\", \"avg_funds\": 203358.10248310806}, {\"primary_agency_name\": \"Hanford\", \"avg_funds\": 201477.2134651673}, {\"primary_agency_name\": \"Selma\", \"avg_funds\": 197066.33100593885}, {\"primary_agency_name\": \"Shafter\", \"avg_funds\": 192754.4873059109}, {\"primary_agency_name\": \"Kings County\", \"avg_funds\": 182081.1807845971}, {\"primary_agency_name\": \"Chowchilla\", \"avg_funds\": 171838.89657519545}, {\"primary_agency_name\": \"Clovis\", \"avg_funds\": 168448.0494757523}, {\"primary_agency_name\": \"SouthWest Transportation Agency\", \"avg_funds\": 168268.5894475504}, {\"primary_agency_name\": \"Fowler\", \"avg_funds\": 162266.67804238317}, {\"primary_agency_name\": \"Madera County\", \"avg_funds\": 157536.47577781393}, {\"primary_agency_name\": \"Mendota\", \"avg_funds\": 142002.72411776686}, {\"primary_agency_name\": \"Lemoore\", \"avg_funds\": 137633.91496273092}, {\"primary_agency_name\": \"Mcfarland\", \"avg_funds\": 135328.5017953278}, {\"primary_agency_name\": \"Parlier\", \"avg_funds\": 133254.15436592128}, {\"primary_agency_name\": \"Wasco\", \"avg_funds\": 124511.63053830463}, {\"primary_agency_name\": \"Taft\", \"avg_funds\": 112465.53489517412}, {\"primary_agency_name\": \"Kerman\", \"avg_funds\": 109596.53198546237}, {\"primary_agency_name\": \"Madera\", \"avg_funds\": 98511.11267936911}, {\"primary_agency_name\": \"Kern County Council of Governments\", \"avg_funds\": 79832.52962301859}, {\"primary_agency_name\": \"Firebaugh\", \"avg_funds\": 75911.09500627454}, {\"primary_agency_name\": \"Huron\", \"avg_funds\": 75672.75684484857}, {\"primary_agency_name\": \"Orange Cove\", \"avg_funds\": 72031.79212176515}, {\"primary_agency_name\": \"Kingsburg\", \"avg_funds\": 52856.247166137364}, {\"primary_agency_name\": \"San Joaquin\", \"avg_funds\": 42310.213690345714}, {\"primary_agency_name\": \"Corcoran\", \"avg_funds\": 31675.617244369474}, {\"primary_agency_name\": \"Parlier Unified School District\", \"avg_funds\": 4201.85659546731}, {\"primary_agency_name\": \"Department of Water Resources\", \"avg_funds\": -87684.44320173922}]}}, {\"mode\": \"vega-lite\"});\n",
       "</script>"
      ],
      "text/plain": [
       "alt.Chart(...)"
      ]
     },
     "metadata": {},
     "output_type": "display_data"
    }
   ],
   "source": [
    "#Bar chart Bottom Average Total Requested Funds by Agency\n",
    "avg_funds_bottom = (df>>group_by(_.primary_agency_name)>>summarize(avg_funds=_.adjusted_total_requested.mean())>>arrange(-_.avg_funds)).tail(50)\n",
    "\n",
    "chart5=( _dla_utils_reports.basic_bar_chart_no_save((avg_funds_bottom.tail(40)), 'primary_agency_name','avg_funds', 'primary_agency_name', district))\n",
    "    \n",
    "display(HTML(\"<h4><strong>Lowest Average Total Funds by Agency ($2021)</strong></h4>\"))\n",
    "display(chart5)"
   ]
  },
  {
   "cell_type": "code",
   "execution_count": 18,
   "id": "d18938e5-6fc5-4e53-87b2-7140df57e5a0",
   "metadata": {
    "execution": {
     "iopub.execute_input": "2022-05-09T21:55:29.864013Z",
     "iopub.status.busy": "2022-05-09T21:55:29.863800Z",
     "iopub.status.idle": "2022-05-09T21:55:29.950566Z",
     "shell.execute_reply": "2022-05-09T21:55:29.949989Z"
    },
    "jupyter": {
     "source_hidden": true
    },
    "papermill": {
     "duration": 0.098003,
     "end_time": "2022-05-09T21:55:29.952466",
     "exception": false,
     "start_time": "2022-05-09T21:55:29.854463",
     "status": "completed"
    },
    "tags": [
     "remove_input"
    ]
   },
   "outputs": [
    {
     "data": {
      "text/html": [
       "<h4><strong>Average Total Requested Funds by Prefix ($2021)</strong></h4>"
      ],
      "text/plain": [
       "<IPython.core.display.HTML object>"
      ]
     },
     "metadata": {},
     "output_type": "display_data"
    },
    {
     "data": {
      "text/html": [
       "\n",
       "<div id=\"altair-viz-299367ebe70f4dd8945d3c1f1ca2bbcc\"></div>\n",
       "<script type=\"text/javascript\">\n",
       "  var VEGA_DEBUG = (typeof VEGA_DEBUG == \"undefined\") ? {} : VEGA_DEBUG;\n",
       "  (function(spec, embedOpt){\n",
       "    let outputDiv = document.currentScript.previousElementSibling;\n",
       "    if (outputDiv.id !== \"altair-viz-299367ebe70f4dd8945d3c1f1ca2bbcc\") {\n",
       "      outputDiv = document.getElementById(\"altair-viz-299367ebe70f4dd8945d3c1f1ca2bbcc\");\n",
       "    }\n",
       "    const paths = {\n",
       "      \"vega\": \"https://cdn.jsdelivr.net/npm//vega@5?noext\",\n",
       "      \"vega-lib\": \"https://cdn.jsdelivr.net/npm//vega-lib?noext\",\n",
       "      \"vega-lite\": \"https://cdn.jsdelivr.net/npm//vega-lite@4.17.0?noext\",\n",
       "      \"vega-embed\": \"https://cdn.jsdelivr.net/npm//vega-embed@6?noext\",\n",
       "    };\n",
       "\n",
       "    function maybeLoadScript(lib, version) {\n",
       "      var key = `${lib.replace(\"-\", \"\")}_version`;\n",
       "      return (VEGA_DEBUG[key] == version) ?\n",
       "        Promise.resolve(paths[lib]) :\n",
       "        new Promise(function(resolve, reject) {\n",
       "          var s = document.createElement('script');\n",
       "          document.getElementsByTagName(\"head\")[0].appendChild(s);\n",
       "          s.async = true;\n",
       "          s.onload = () => {\n",
       "            VEGA_DEBUG[key] = version;\n",
       "            return resolve(paths[lib]);\n",
       "          };\n",
       "          s.onerror = () => reject(`Error loading script: ${paths[lib]}`);\n",
       "          s.src = paths[lib];\n",
       "        });\n",
       "    }\n",
       "\n",
       "    function showError(err) {\n",
       "      outputDiv.innerHTML = `<div class=\"error\" style=\"color:red;\">${err}</div>`;\n",
       "      throw err;\n",
       "    }\n",
       "\n",
       "    function displayChart(vegaEmbed) {\n",
       "      vegaEmbed(outputDiv, spec, embedOpt)\n",
       "        .catch(err => showError(`Javascript Error: ${err.message}<br>This usually means there's a typo in your chart specification. See the javascript console for the full traceback.`));\n",
       "    }\n",
       "\n",
       "    if(typeof define === \"function\" && define.amd) {\n",
       "      requirejs.config({paths});\n",
       "      require([\"vega-embed\"], displayChart, err => showError(`Error loading script: ${err.message}`));\n",
       "    } else {\n",
       "      maybeLoadScript(\"vega\", \"5\")\n",
       "        .then(() => maybeLoadScript(\"vega-lite\", \"4.17.0\"))\n",
       "        .then(() => maybeLoadScript(\"vega-embed\", \"6\"))\n",
       "        .catch(showError)\n",
       "        .then(() => displayChart(vegaEmbed));\n",
       "    }\n",
       "  })({\"config\": {\"view\": {\"continuousWidth\": 400, \"continuousHeight\": 300}, \"axis\": {\"domainColor\": \"#cbcbcb\", \"grid\": true, \"gridColor\": \"#cbcbcb\", \"gridWidth\": 1, \"labelColor\": \"#474747\", \"labelFont\": \"Nunito Sans\", \"labelFontSize\": 10, \"labelPadding\": 4, \"tickColor\": \"#cbcbcb\", \"tickSize\": 10, \"titleColor\": \"#333\", \"titleFont\": \"Raleway\", \"titleFontSize\": 12, \"titlePadding\": 10}, \"axisBand\": {\"grid\": false}, \"background\": \"white\", \"font\": \"Raleway\", \"header\": {\"labelFont\": \"Nunito Sans\", \"titleFont\": \"Raleway\"}, \"legend\": {\"labelColor\": \"#333\", \"labelFont\": \"Nunito Sans\", \"labelFontSize\": 11, \"labelLimit\": 0, \"padding\": 1, \"symbolSize\": 30, \"symbolType\": \"square\", \"titleColor\": \"#333\", \"titleFont\": \"Raleway\", \"titleFontSize\": 14, \"titlePadding\": 10}, \"title\": {\"anchor\": \"middle\", \"font\": \"Raleway\", \"fontSize\": 18, \"fontWeight\": 300, \"offset\": 20}}, \"data\": {\"name\": \"data-deabe45b14b416e15139f5057b32121c\"}, \"mark\": \"bar\", \"encoding\": {\"color\": {\"field\": \"prefix\", \"legend\": {\"symbolLimit\": 10, \"title\": \"Prefix\"}, \"scale\": {\"range\": [\"#2EA8CE\", \"#EB9F3C\", \"#F4D837\", \"#51BF9D\", \"#8CBCCB\", \"#9487C0\"]}, \"type\": \"nominal\"}, \"tooltip\": [{\"field\": \"prefix\", \"type\": \"nominal\"}, {\"field\": \"adjusted_total_requested\", \"type\": \"quantitative\"}], \"x\": {\"field\": \"prefix\", \"sort\": \"-y\", \"title\": \"Prefix\", \"type\": \"nominal\"}, \"y\": {\"field\": \"adjusted_total_requested\", \"title\": \"Adjusted Total Requested\", \"type\": \"quantitative\"}}, \"height\": 250, \"width\": 400, \"$schema\": \"https://vega.github.io/schema/vega-lite/v4.17.0.json\", \"datasets\": {\"data-deabe45b14b416e15139f5057b32121c\": [{\"prefix\": \"BGFL\", \"adjusted_total_requested\": 59151208.37560933}, {\"prefix\": \"HP21L\", \"adjusted_total_requested\": 39240124.230500266}, {\"prefix\": \"FERPL\", \"adjusted_total_requested\": 19446845.97638971}, {\"prefix\": \"PNRSL\", \"adjusted_total_requested\": 13204114.105341025}, {\"prefix\": \"PRNSL\", \"adjusted_total_requested\": 12465758.112280505}, {\"prefix\": \"NCIIPL\", \"adjusted_total_requested\": 11572342.333132634}, {\"prefix\": \"TCSPL\", \"adjusted_total_requested\": 5862941.753884197}, {\"prefix\": \"STBHIPL\", \"adjusted_total_requested\": 5567451.967682502}, {\"prefix\": \"CMLSBCG\", \"adjusted_total_requested\": 3769127.6302174595}, {\"prefix\": \"FTACMLST\", \"adjusted_total_requested\": 2531993.772657306}, {\"prefix\": \"FTACML14\", \"adjusted_total_requested\": 2383553.750588939}, {\"prefix\": \"CMLFTA\", \"adjusted_total_requested\": 1501116.041066799}, {\"prefix\": \"HPLUL\", \"adjusted_total_requested\": 1241884.8773156046}, {\"prefix\": \"STHIPCML\", \"adjusted_total_requested\": 1145627.5564091834}, {\"prefix\": \"CMHSIPL\", \"adjusted_total_requested\": 1098245.1361047656}, {\"prefix\": \"STPLR\", \"adjusted_total_requested\": 1046027.9041640569}, {\"prefix\": \"BR\", \"adjusted_total_requested\": 1032196.4797616319}, {\"prefix\": \"RPSTPL\", \"adjusted_total_requested\": 1019470.6831659684}, {\"prefix\": \"FTACML\", \"adjusted_total_requested\": 884126.244782705}, {\"prefix\": \"HSIPLN\", \"adjusted_total_requested\": 850693.7644845598}, {\"prefix\": \"STPCML\", \"adjusted_total_requested\": 754983.8876169164}, {\"prefix\": \"6140000\", \"adjusted_total_requested\": 738983.2732041839}, {\"prefix\": \"STPHIPL\", \"adjusted_total_requested\": 675702.82664139}, {\"prefix\": \"DEMO17\", \"adjusted_total_requested\": 635591.3128000371}, {\"prefix\": \"ATPCML\", \"adjusted_total_requested\": 632240.3664139844}, {\"prefix\": \"BHLS\", \"adjusted_total_requested\": 624405.8351208738}, {\"prefix\": \"HIP\", \"adjusted_total_requested\": 590133.5025820368}, {\"prefix\": \"RSTPL\", \"adjusted_total_requested\": 543466.8210218261}, {\"prefix\": \"BPMPL\", \"adjusted_total_requested\": 447698.1631112435}, {\"prefix\": \"FTACMLNI\", \"adjusted_total_requested\": 427844.30745555105}]}}, {\"mode\": \"vega-lite\"});\n",
       "</script>"
      ],
      "text/plain": [
       "alt.Chart(...)"
      ]
     },
     "metadata": {},
     "output_type": "display_data"
    }
   ],
   "source": [
    "# Bar chart Average Total Requested Funds by Prefix\n",
    "chart8 = (_dla_utils_reports.basic_bar_chart_no_save((((_dla_utils_reports.calculate_data_all(df, 'adjusted_total_requested', 'prefix', aggfunc=\"mean\"))\n",
    "                          >>arrange(-_.adjusted_total_requested)).head(30)), 'prefix','adjusted_total_requested', 'prefix', district\n",
    "                       ))\n",
    "    \n",
    "display(HTML(\"<h4><strong>Average Total Requested Funds by Prefix ($2021)</strong></h4>\"))\n",
    "display(chart8)\n",
    "    "
   ]
  },
  {
   "cell_type": "code",
   "execution_count": 19,
   "id": "fba57d98-39a1-4a63-bc94-cecf0841aa75",
   "metadata": {
    "execution": {
     "iopub.execute_input": "2022-05-09T21:55:29.971424Z",
     "iopub.status.busy": "2022-05-09T21:55:29.971222Z",
     "iopub.status.idle": "2022-05-09T21:55:29.976923Z",
     "shell.execute_reply": "2022-05-09T21:55:29.976156Z"
    },
    "jupyter": {
     "source_hidden": true
    },
    "papermill": {
     "duration": 0.016844,
     "end_time": "2022-05-09T21:55:29.978634",
     "exception": false,
     "start_time": "2022-05-09T21:55:29.961790",
     "status": "completed"
    },
    "tags": [
     "remove_input"
    ]
   },
   "outputs": [
    {
     "data": {
      "text/html": [
       "<h2>Work Categories</h2>"
      ],
      "text/plain": [
       "<IPython.core.display.HTML object>"
      ]
     },
     "metadata": {},
     "output_type": "display_data"
    }
   ],
   "source": [
    "#work categories info and charts\n",
    "display(HTML(\"<h2>Work Categories</h2>\"))"
   ]
  },
  {
   "cell_type": "code",
   "execution_count": 20,
   "id": "50a1cf08-17eb-4b2b-9dc0-671ee7551f2d",
   "metadata": {
    "execution": {
     "iopub.execute_input": "2022-05-09T21:55:29.998123Z",
     "iopub.status.busy": "2022-05-09T21:55:29.997903Z",
     "iopub.status.idle": "2022-05-09T21:55:30.610311Z",
     "shell.execute_reply": "2022-05-09T21:55:30.609747Z"
    },
    "jupyter": {
     "source_hidden": true
    },
    "papermill": {
     "duration": 0.623903,
     "end_time": "2022-05-09T21:55:30.611927",
     "exception": false,
     "start_time": "2022-05-09T21:55:29.988024",
     "status": "completed"
    },
    "tags": [
     "remove_input"
    ]
   },
   "outputs": [
    {
     "data": {
      "application/vnd.jupyter.widget-view+json": {
       "model_id": "552ee05ab5df495f952262dcc63621e2",
       "version_major": 2,
       "version_minor": 0
      },
      "text/plain": [
       "HTML(value='<h3> Top Agencies using Active Transportation Projects </h3>')"
      ]
     },
     "metadata": {},
     "output_type": "display_data"
    },
    {
     "data": {
      "text/html": [
       "<style type=\"text/css\">\n",
       "</style>\n",
       "<table id=\"T_b7cc2_\">\n",
       "  <thead>\n",
       "    <tr>\n",
       "      <th class=\"blank level0\" >&nbsp;</th>\n",
       "      <th class=\"col_heading level0 col0\" >Agency</th>\n",
       "      <th class=\"col_heading level0 col1\" >Active Transportation Obligations</th>\n",
       "      <th class=\"col_heading level0 col2\" >Percent of Category</th>\n",
       "    </tr>\n",
       "  </thead>\n",
       "  <tbody>\n",
       "    <tr>\n",
       "      <th id=\"T_b7cc2_level0_row0\" class=\"row_heading level0 row0\" >0</th>\n",
       "      <td id=\"T_b7cc2_row0_col0\" class=\"data row0 col0\" >Fresno</td>\n",
       "      <td id=\"T_b7cc2_row0_col1\" class=\"data row0 col1\" >94</td>\n",
       "      <td id=\"T_b7cc2_row0_col2\" class=\"data row0 col2\" >12.97%</td>\n",
       "    </tr>\n",
       "    <tr>\n",
       "      <th id=\"T_b7cc2_level0_row1\" class=\"row_heading level0 row1\" >1</th>\n",
       "      <td id=\"T_b7cc2_row1_col0\" class=\"data row1 col0\" >Kern County</td>\n",
       "      <td id=\"T_b7cc2_row1_col1\" class=\"data row1 col1\" >54</td>\n",
       "      <td id=\"T_b7cc2_row1_col2\" class=\"data row1 col2\" >7.45%</td>\n",
       "    </tr>\n",
       "    <tr>\n",
       "      <th id=\"T_b7cc2_level0_row2\" class=\"row_heading level0 row2\" >2</th>\n",
       "      <td id=\"T_b7cc2_row2_col0\" class=\"data row2 col0\" >Visalia</td>\n",
       "      <td id=\"T_b7cc2_row2_col1\" class=\"data row2 col1\" >50</td>\n",
       "      <td id=\"T_b7cc2_row2_col2\" class=\"data row2 col2\" >6.90%</td>\n",
       "    </tr>\n",
       "    <tr>\n",
       "      <th id=\"T_b7cc2_level0_row3\" class=\"row_heading level0 row3\" >3</th>\n",
       "      <td id=\"T_b7cc2_row3_col0\" class=\"data row3 col0\" >Clovis</td>\n",
       "      <td id=\"T_b7cc2_row3_col1\" class=\"data row3 col1\" >39</td>\n",
       "      <td id=\"T_b7cc2_row3_col2\" class=\"data row3 col2\" >5.38%</td>\n",
       "    </tr>\n",
       "    <tr>\n",
       "      <th id=\"T_b7cc2_level0_row4\" class=\"row_heading level0 row4\" >4</th>\n",
       "      <td id=\"T_b7cc2_row4_col0\" class=\"data row4 col0\" >Sanger</td>\n",
       "      <td id=\"T_b7cc2_row4_col1\" class=\"data row4 col1\" >33</td>\n",
       "      <td id=\"T_b7cc2_row4_col2\" class=\"data row4 col2\" >4.55%</td>\n",
       "    </tr>\n",
       "  </tbody>\n",
       "</table>\n"
      ],
      "text/plain": [
       "<pandas.io.formats.style.Styler at 0x7f7e494d09d0>"
      ]
     },
     "metadata": {},
     "output_type": "display_data"
    },
    {
     "data": {
      "text/html": [
       "\n",
       "<div id=\"altair-viz-7690b4beb8a4464c8f71507df63f09c8\"></div>\n",
       "<script type=\"text/javascript\">\n",
       "  var VEGA_DEBUG = (typeof VEGA_DEBUG == \"undefined\") ? {} : VEGA_DEBUG;\n",
       "  (function(spec, embedOpt){\n",
       "    let outputDiv = document.currentScript.previousElementSibling;\n",
       "    if (outputDiv.id !== \"altair-viz-7690b4beb8a4464c8f71507df63f09c8\") {\n",
       "      outputDiv = document.getElementById(\"altair-viz-7690b4beb8a4464c8f71507df63f09c8\");\n",
       "    }\n",
       "    const paths = {\n",
       "      \"vega\": \"https://cdn.jsdelivr.net/npm//vega@5?noext\",\n",
       "      \"vega-lib\": \"https://cdn.jsdelivr.net/npm//vega-lib?noext\",\n",
       "      \"vega-lite\": \"https://cdn.jsdelivr.net/npm//vega-lite@4.17.0?noext\",\n",
       "      \"vega-embed\": \"https://cdn.jsdelivr.net/npm//vega-embed@6?noext\",\n",
       "    };\n",
       "\n",
       "    function maybeLoadScript(lib, version) {\n",
       "      var key = `${lib.replace(\"-\", \"\")}_version`;\n",
       "      return (VEGA_DEBUG[key] == version) ?\n",
       "        Promise.resolve(paths[lib]) :\n",
       "        new Promise(function(resolve, reject) {\n",
       "          var s = document.createElement('script');\n",
       "          document.getElementsByTagName(\"head\")[0].appendChild(s);\n",
       "          s.async = true;\n",
       "          s.onload = () => {\n",
       "            VEGA_DEBUG[key] = version;\n",
       "            return resolve(paths[lib]);\n",
       "          };\n",
       "          s.onerror = () => reject(`Error loading script: ${paths[lib]}`);\n",
       "          s.src = paths[lib];\n",
       "        });\n",
       "    }\n",
       "\n",
       "    function showError(err) {\n",
       "      outputDiv.innerHTML = `<div class=\"error\" style=\"color:red;\">${err}</div>`;\n",
       "      throw err;\n",
       "    }\n",
       "\n",
       "    function displayChart(vegaEmbed) {\n",
       "      vegaEmbed(outputDiv, spec, embedOpt)\n",
       "        .catch(err => showError(`Javascript Error: ${err.message}<br>This usually means there's a typo in your chart specification. See the javascript console for the full traceback.`));\n",
       "    }\n",
       "\n",
       "    if(typeof define === \"function\" && define.amd) {\n",
       "      requirejs.config({paths});\n",
       "      require([\"vega-embed\"], displayChart, err => showError(`Error loading script: ${err.message}`));\n",
       "    } else {\n",
       "      maybeLoadScript(\"vega\", \"5\")\n",
       "        .then(() => maybeLoadScript(\"vega-lite\", \"4.17.0\"))\n",
       "        .then(() => maybeLoadScript(\"vega-embed\", \"6\"))\n",
       "        .catch(showError)\n",
       "        .then(() => displayChart(vegaEmbed));\n",
       "    }\n",
       "  })({\"config\": {\"view\": {\"continuousWidth\": 400, \"continuousHeight\": 300}}, \"data\": {\"name\": \"data-7501fb19e39c51fcdba456b70dd09423\"}, \"mark\": \"bar\", \"encoding\": {\"color\": {\"field\": \"Categories\", \"scale\": {\"range\": [\"#2EA8CE\", \"#EB9F3C\", \"#F4D837\", \"#51BF9D\", \"#8CBCCB\", \"#9487C0\"]}, \"type\": \"nominal\"}, \"row\": {\"field\": \"Categories\", \"type\": \"nominal\"}, \"tooltip\": [{\"field\": \"Agency\", \"type\": \"nominal\"}, {\"field\": \"Funding Amount\", \"type\": \"quantitative\"}], \"x\": {\"axis\": {\"format\": \"$.2s\", \"title\": \"Obligated Funding ($2021)\"}, \"field\": \"Funding Amount\", \"type\": \"quantitative\"}, \"y\": {\"field\": \"Agency\", \"type\": \"nominal\"}}, \"$schema\": \"https://vega.github.io/schema/vega-lite/v4.17.0.json\", \"datasets\": {\"data-7501fb19e39c51fcdba456b70dd09423\": [{\"Agency\": \"Fresno\", \"Categories\": \"Total Requested\", \"Funding Amount\": 171243.34544623905}, {\"Agency\": \"Kern County\", \"Categories\": \"Total Requested\", \"Funding Amount\": 441598.85665938683}, {\"Agency\": \"Visalia\", \"Categories\": \"Total Requested\", \"Funding Amount\": 247656.8960295821}, {\"Agency\": \"Clovis\", \"Categories\": \"Total Requested\", \"Funding Amount\": 163045.42185109569}, {\"Agency\": \"Sanger\", \"Categories\": \"Total Requested\", \"Funding Amount\": 213448.48957482315}, {\"Agency\": \"Fresno\", \"Categories\": \"Fed Requested\", \"Funding Amount\": 109030.47137264804}, {\"Agency\": \"Kern County\", \"Categories\": \"Fed Requested\", \"Funding Amount\": 340048.4611018664}, {\"Agency\": \"Visalia\", \"Categories\": \"Fed Requested\", \"Funding Amount\": 152089.67249607493}, {\"Agency\": \"Clovis\", \"Categories\": \"Fed Requested\", \"Funding Amount\": 200222.0562570446}, {\"Agency\": \"Sanger\", \"Categories\": \"Fed Requested\", \"Funding Amount\": 127703.03042020767}, {\"Agency\": \"Fresno\", \"Categories\": \"AC Requested\", \"Funding Amount\": 0.0}, {\"Agency\": \"Kern County\", \"Categories\": \"AC Requested\", \"Funding Amount\": 0.0}, {\"Agency\": \"Visalia\", \"Categories\": \"AC Requested\", \"Funding Amount\": 116.5073119361879}, {\"Agency\": \"Clovis\", \"Categories\": \"AC Requested\", \"Funding Amount\": -55674.88743824944}, {\"Agency\": \"Sanger\", \"Categories\": \"AC Requested\", \"Funding Amount\": 0.0}]}}, {\"mode\": \"vega-lite\"});\n",
       "</script>"
      ],
      "text/plain": [
       "alt.Chart(...)"
      ]
     },
     "metadata": {},
     "output_type": "display_data"
    },
    {
     "data": {
      "application/vnd.jupyter.widget-view+json": {
       "model_id": "c65a4fee77614a98b80bf64ea2cada86",
       "version_major": 2,
       "version_minor": 0
      },
      "text/plain": [
       "HTML(value='<h3> Top Agencies using Transit Projects </h3>')"
      ]
     },
     "metadata": {},
     "output_type": "display_data"
    },
    {
     "data": {
      "text/html": [
       "<style type=\"text/css\">\n",
       "</style>\n",
       "<table id=\"T_beeb0_\">\n",
       "  <thead>\n",
       "    <tr>\n",
       "      <th class=\"blank level0\" >&nbsp;</th>\n",
       "      <th class=\"col_heading level0 col0\" >Agency</th>\n",
       "      <th class=\"col_heading level0 col1\" >Transit Obligations</th>\n",
       "      <th class=\"col_heading level0 col2\" >Percent of Category</th>\n",
       "    </tr>\n",
       "  </thead>\n",
       "  <tbody>\n",
       "    <tr>\n",
       "      <th id=\"T_beeb0_level0_row0\" class=\"row_heading level0 row0\" >0</th>\n",
       "      <td id=\"T_beeb0_row0_col0\" class=\"data row0 col0\" >Kingsburg</td>\n",
       "      <td id=\"T_beeb0_row0_col1\" class=\"data row0 col1\" >4</td>\n",
       "      <td id=\"T_beeb0_row0_col2\" class=\"data row0 col2\" >14.81%</td>\n",
       "    </tr>\n",
       "    <tr>\n",
       "      <th id=\"T_beeb0_level0_row1\" class=\"row_heading level0 row1\" >1</th>\n",
       "      <td id=\"T_beeb0_row1_col0\" class=\"data row1 col0\" >Visalia</td>\n",
       "      <td id=\"T_beeb0_row1_col1\" class=\"data row1 col1\" >4</td>\n",
       "      <td id=\"T_beeb0_row1_col2\" class=\"data row1 col2\" >14.81%</td>\n",
       "    </tr>\n",
       "    <tr>\n",
       "      <th id=\"T_beeb0_level0_row2\" class=\"row_heading level0 row2\" >2</th>\n",
       "      <td id=\"T_beeb0_row2_col0\" class=\"data row2 col0\" >Taft</td>\n",
       "      <td id=\"T_beeb0_row2_col1\" class=\"data row2 col1\" >3</td>\n",
       "      <td id=\"T_beeb0_row2_col2\" class=\"data row2 col2\" >11.11%</td>\n",
       "    </tr>\n",
       "    <tr>\n",
       "      <th id=\"T_beeb0_level0_row3\" class=\"row_heading level0 row3\" >3</th>\n",
       "      <td id=\"T_beeb0_row3_col0\" class=\"data row3 col0\" >Chowchilla</td>\n",
       "      <td id=\"T_beeb0_row3_col1\" class=\"data row3 col1\" >2</td>\n",
       "      <td id=\"T_beeb0_row3_col2\" class=\"data row3 col2\" >7.41%</td>\n",
       "    </tr>\n",
       "    <tr>\n",
       "      <th id=\"T_beeb0_level0_row4\" class=\"row_heading level0 row4\" >4</th>\n",
       "      <td id=\"T_beeb0_row4_col0\" class=\"data row4 col0\" >Clovis Unified School District</td>\n",
       "      <td id=\"T_beeb0_row4_col1\" class=\"data row4 col1\" >2</td>\n",
       "      <td id=\"T_beeb0_row4_col2\" class=\"data row4 col2\" >7.41%</td>\n",
       "    </tr>\n",
       "  </tbody>\n",
       "</table>\n"
      ],
      "text/plain": [
       "<pandas.io.formats.style.Styler at 0x7f7e494d19d0>"
      ]
     },
     "metadata": {},
     "output_type": "display_data"
    },
    {
     "data": {
      "text/html": [
       "\n",
       "<div id=\"altair-viz-ef46d1c3e33b4a0a8e7e94b8247c9309\"></div>\n",
       "<script type=\"text/javascript\">\n",
       "  var VEGA_DEBUG = (typeof VEGA_DEBUG == \"undefined\") ? {} : VEGA_DEBUG;\n",
       "  (function(spec, embedOpt){\n",
       "    let outputDiv = document.currentScript.previousElementSibling;\n",
       "    if (outputDiv.id !== \"altair-viz-ef46d1c3e33b4a0a8e7e94b8247c9309\") {\n",
       "      outputDiv = document.getElementById(\"altair-viz-ef46d1c3e33b4a0a8e7e94b8247c9309\");\n",
       "    }\n",
       "    const paths = {\n",
       "      \"vega\": \"https://cdn.jsdelivr.net/npm//vega@5?noext\",\n",
       "      \"vega-lib\": \"https://cdn.jsdelivr.net/npm//vega-lib?noext\",\n",
       "      \"vega-lite\": \"https://cdn.jsdelivr.net/npm//vega-lite@4.17.0?noext\",\n",
       "      \"vega-embed\": \"https://cdn.jsdelivr.net/npm//vega-embed@6?noext\",\n",
       "    };\n",
       "\n",
       "    function maybeLoadScript(lib, version) {\n",
       "      var key = `${lib.replace(\"-\", \"\")}_version`;\n",
       "      return (VEGA_DEBUG[key] == version) ?\n",
       "        Promise.resolve(paths[lib]) :\n",
       "        new Promise(function(resolve, reject) {\n",
       "          var s = document.createElement('script');\n",
       "          document.getElementsByTagName(\"head\")[0].appendChild(s);\n",
       "          s.async = true;\n",
       "          s.onload = () => {\n",
       "            VEGA_DEBUG[key] = version;\n",
       "            return resolve(paths[lib]);\n",
       "          };\n",
       "          s.onerror = () => reject(`Error loading script: ${paths[lib]}`);\n",
       "          s.src = paths[lib];\n",
       "        });\n",
       "    }\n",
       "\n",
       "    function showError(err) {\n",
       "      outputDiv.innerHTML = `<div class=\"error\" style=\"color:red;\">${err}</div>`;\n",
       "      throw err;\n",
       "    }\n",
       "\n",
       "    function displayChart(vegaEmbed) {\n",
       "      vegaEmbed(outputDiv, spec, embedOpt)\n",
       "        .catch(err => showError(`Javascript Error: ${err.message}<br>This usually means there's a typo in your chart specification. See the javascript console for the full traceback.`));\n",
       "    }\n",
       "\n",
       "    if(typeof define === \"function\" && define.amd) {\n",
       "      requirejs.config({paths});\n",
       "      require([\"vega-embed\"], displayChart, err => showError(`Error loading script: ${err.message}`));\n",
       "    } else {\n",
       "      maybeLoadScript(\"vega\", \"5\")\n",
       "        .then(() => maybeLoadScript(\"vega-lite\", \"4.17.0\"))\n",
       "        .then(() => maybeLoadScript(\"vega-embed\", \"6\"))\n",
       "        .catch(showError)\n",
       "        .then(() => displayChart(vegaEmbed));\n",
       "    }\n",
       "  })({\"config\": {\"view\": {\"continuousWidth\": 400, \"continuousHeight\": 300}}, \"data\": {\"name\": \"data-a1a37abe18c4d35bf113d738ca51a834\"}, \"mark\": \"bar\", \"encoding\": {\"color\": {\"field\": \"Categories\", \"scale\": {\"range\": [\"#2EA8CE\", \"#EB9F3C\", \"#F4D837\", \"#51BF9D\", \"#8CBCCB\", \"#9487C0\"]}, \"type\": \"nominal\"}, \"row\": {\"field\": \"Categories\", \"type\": \"nominal\"}, \"tooltip\": [{\"field\": \"Agency\", \"type\": \"nominal\"}, {\"field\": \"Funding Amount\", \"type\": \"quantitative\"}], \"x\": {\"axis\": {\"format\": \"$.2s\", \"title\": \"Obligated Funding ($2021)\"}, \"field\": \"Funding Amount\", \"type\": \"quantitative\"}, \"y\": {\"field\": \"Agency\", \"type\": \"nominal\"}}, \"$schema\": \"https://vega.github.io/schema/vega-lite/v4.17.0.json\", \"datasets\": {\"data-a1a37abe18c4d35bf113d738ca51a834\": [{\"Agency\": \"Kingsburg\", \"Categories\": \"Total Requested\", \"Funding Amount\": -12347.356701943452}, {\"Agency\": \"Visalia\", \"Categories\": \"Total Requested\", \"Funding Amount\": 455877.2320923731}, {\"Agency\": \"Taft\", \"Categories\": \"Total Requested\", \"Funding Amount\": 17440.360628642065}, {\"Agency\": \"Chowchilla\", \"Categories\": \"Total Requested\", \"Funding Amount\": 340550.29620269267}, {\"Agency\": \"Clovis Unified School District\", \"Categories\": \"Total Requested\", \"Funding Amount\": 102514.72787097371}, {\"Agency\": \"Kingsburg\", \"Categories\": \"Fed Requested\", \"Funding Amount\": -18929.866618055203}, {\"Agency\": \"Visalia\", \"Categories\": \"Fed Requested\", \"Funding Amount\": 451876.67873452377}, {\"Agency\": \"Taft\", \"Categories\": \"Fed Requested\", \"Funding Amount\": 9387.080622648771}, {\"Agency\": \"Chowchilla\", \"Categories\": \"Fed Requested\", \"Funding Amount\": 301486.5352487452}, {\"Agency\": \"Clovis Unified School District\", \"Categories\": \"Fed Requested\", \"Funding Amount\": 90756.28858417303}, {\"Agency\": \"Kingsburg\", \"Categories\": \"AC Requested\", \"Funding Amount\": 0.0}, {\"Agency\": \"Visalia\", \"Categories\": \"AC Requested\", \"Funding Amount\": 0.0}, {\"Agency\": \"Taft\", \"Categories\": \"AC Requested\", \"Funding Amount\": 0.0}, {\"Agency\": \"Chowchilla\", \"Categories\": \"AC Requested\", \"Funding Amount\": 0.0}, {\"Agency\": \"Clovis Unified School District\", \"Categories\": \"AC Requested\", \"Funding Amount\": 0.0}]}}, {\"mode\": \"vega-lite\"});\n",
       "</script>"
      ],
      "text/plain": [
       "alt.Chart(...)"
      ]
     },
     "metadata": {},
     "output_type": "display_data"
    },
    {
     "data": {
      "application/vnd.jupyter.widget-view+json": {
       "model_id": "92471b1c65474dab8d7efa512bcd651e",
       "version_major": 2,
       "version_minor": 0
      },
      "text/plain": [
       "HTML(value='<h3> Top Agencies using Bridge Projects </h3>')"
      ]
     },
     "metadata": {},
     "output_type": "display_data"
    },
    {
     "data": {
      "text/html": [
       "<style type=\"text/css\">\n",
       "</style>\n",
       "<table id=\"T_07f7c_\">\n",
       "  <thead>\n",
       "    <tr>\n",
       "      <th class=\"blank level0\" >&nbsp;</th>\n",
       "      <th class=\"col_heading level0 col0\" >Agency</th>\n",
       "      <th class=\"col_heading level0 col1\" >Bridge Obligations</th>\n",
       "      <th class=\"col_heading level0 col2\" >Percent of Category</th>\n",
       "    </tr>\n",
       "  </thead>\n",
       "  <tbody>\n",
       "    <tr>\n",
       "      <th id=\"T_07f7c_level0_row0\" class=\"row_heading level0 row0\" >0</th>\n",
       "      <td id=\"T_07f7c_row0_col0\" class=\"data row0 col0\" >Tulare County</td>\n",
       "      <td id=\"T_07f7c_row0_col1\" class=\"data row0 col1\" >112</td>\n",
       "      <td id=\"T_07f7c_row0_col2\" class=\"data row0 col2\" >31.28%</td>\n",
       "    </tr>\n",
       "    <tr>\n",
       "      <th id=\"T_07f7c_level0_row1\" class=\"row_heading level0 row1\" >1</th>\n",
       "      <td id=\"T_07f7c_row1_col0\" class=\"data row1 col0\" >Fresno County</td>\n",
       "      <td id=\"T_07f7c_row1_col1\" class=\"data row1 col1\" >108</td>\n",
       "      <td id=\"T_07f7c_row1_col2\" class=\"data row1 col2\" >30.17%</td>\n",
       "    </tr>\n",
       "    <tr>\n",
       "      <th id=\"T_07f7c_level0_row2\" class=\"row_heading level0 row2\" >2</th>\n",
       "      <td id=\"T_07f7c_row2_col0\" class=\"data row2 col0\" >Madera County</td>\n",
       "      <td id=\"T_07f7c_row2_col1\" class=\"data row2 col1\" >43</td>\n",
       "      <td id=\"T_07f7c_row2_col2\" class=\"data row2 col2\" >12.01%</td>\n",
       "    </tr>\n",
       "    <tr>\n",
       "      <th id=\"T_07f7c_level0_row3\" class=\"row_heading level0 row3\" >3</th>\n",
       "      <td id=\"T_07f7c_row3_col0\" class=\"data row3 col0\" >Fresno</td>\n",
       "      <td id=\"T_07f7c_row3_col1\" class=\"data row3 col1\" >18</td>\n",
       "      <td id=\"T_07f7c_row3_col2\" class=\"data row3 col2\" >5.03%</td>\n",
       "    </tr>\n",
       "    <tr>\n",
       "      <th id=\"T_07f7c_level0_row4\" class=\"row_heading level0 row4\" >4</th>\n",
       "      <td id=\"T_07f7c_row4_col0\" class=\"data row4 col0\" >Kings County</td>\n",
       "      <td id=\"T_07f7c_row4_col1\" class=\"data row4 col1\" >18</td>\n",
       "      <td id=\"T_07f7c_row4_col2\" class=\"data row4 col2\" >5.03%</td>\n",
       "    </tr>\n",
       "  </tbody>\n",
       "</table>\n"
      ],
      "text/plain": [
       "<pandas.io.formats.style.Styler at 0x7f7e494cb690>"
      ]
     },
     "metadata": {},
     "output_type": "display_data"
    },
    {
     "data": {
      "text/html": [
       "\n",
       "<div id=\"altair-viz-9eba35c660de41edbcac3df779082aed\"></div>\n",
       "<script type=\"text/javascript\">\n",
       "  var VEGA_DEBUG = (typeof VEGA_DEBUG == \"undefined\") ? {} : VEGA_DEBUG;\n",
       "  (function(spec, embedOpt){\n",
       "    let outputDiv = document.currentScript.previousElementSibling;\n",
       "    if (outputDiv.id !== \"altair-viz-9eba35c660de41edbcac3df779082aed\") {\n",
       "      outputDiv = document.getElementById(\"altair-viz-9eba35c660de41edbcac3df779082aed\");\n",
       "    }\n",
       "    const paths = {\n",
       "      \"vega\": \"https://cdn.jsdelivr.net/npm//vega@5?noext\",\n",
       "      \"vega-lib\": \"https://cdn.jsdelivr.net/npm//vega-lib?noext\",\n",
       "      \"vega-lite\": \"https://cdn.jsdelivr.net/npm//vega-lite@4.17.0?noext\",\n",
       "      \"vega-embed\": \"https://cdn.jsdelivr.net/npm//vega-embed@6?noext\",\n",
       "    };\n",
       "\n",
       "    function maybeLoadScript(lib, version) {\n",
       "      var key = `${lib.replace(\"-\", \"\")}_version`;\n",
       "      return (VEGA_DEBUG[key] == version) ?\n",
       "        Promise.resolve(paths[lib]) :\n",
       "        new Promise(function(resolve, reject) {\n",
       "          var s = document.createElement('script');\n",
       "          document.getElementsByTagName(\"head\")[0].appendChild(s);\n",
       "          s.async = true;\n",
       "          s.onload = () => {\n",
       "            VEGA_DEBUG[key] = version;\n",
       "            return resolve(paths[lib]);\n",
       "          };\n",
       "          s.onerror = () => reject(`Error loading script: ${paths[lib]}`);\n",
       "          s.src = paths[lib];\n",
       "        });\n",
       "    }\n",
       "\n",
       "    function showError(err) {\n",
       "      outputDiv.innerHTML = `<div class=\"error\" style=\"color:red;\">${err}</div>`;\n",
       "      throw err;\n",
       "    }\n",
       "\n",
       "    function displayChart(vegaEmbed) {\n",
       "      vegaEmbed(outputDiv, spec, embedOpt)\n",
       "        .catch(err => showError(`Javascript Error: ${err.message}<br>This usually means there's a typo in your chart specification. See the javascript console for the full traceback.`));\n",
       "    }\n",
       "\n",
       "    if(typeof define === \"function\" && define.amd) {\n",
       "      requirejs.config({paths});\n",
       "      require([\"vega-embed\"], displayChart, err => showError(`Error loading script: ${err.message}`));\n",
       "    } else {\n",
       "      maybeLoadScript(\"vega\", \"5\")\n",
       "        .then(() => maybeLoadScript(\"vega-lite\", \"4.17.0\"))\n",
       "        .then(() => maybeLoadScript(\"vega-embed\", \"6\"))\n",
       "        .catch(showError)\n",
       "        .then(() => displayChart(vegaEmbed));\n",
       "    }\n",
       "  })({\"config\": {\"view\": {\"continuousWidth\": 400, \"continuousHeight\": 300}}, \"data\": {\"name\": \"data-bb452b0592819d4f5aa4939d8758e6b3\"}, \"mark\": \"bar\", \"encoding\": {\"color\": {\"field\": \"Categories\", \"scale\": {\"range\": [\"#2EA8CE\", \"#EB9F3C\", \"#F4D837\", \"#51BF9D\", \"#8CBCCB\", \"#9487C0\"]}, \"type\": \"nominal\"}, \"row\": {\"field\": \"Categories\", \"type\": \"nominal\"}, \"tooltip\": [{\"field\": \"Agency\", \"type\": \"nominal\"}, {\"field\": \"Funding Amount\", \"type\": \"quantitative\"}], \"x\": {\"axis\": {\"format\": \"$.2s\", \"title\": \"Obligated Funding ($2021)\"}, \"field\": \"Funding Amount\", \"type\": \"quantitative\"}, \"y\": {\"field\": \"Agency\", \"type\": \"nominal\"}}, \"$schema\": \"https://vega.github.io/schema/vega-lite/v4.17.0.json\", \"datasets\": {\"data-bb452b0592819d4f5aa4939d8758e6b3\": [{\"Agency\": \"Tulare County\", \"Categories\": \"Total Requested\", \"Funding Amount\": 352244.57931445265}, {\"Agency\": \"Fresno County\", \"Categories\": \"Total Requested\", \"Funding Amount\": 464876.6787461888}, {\"Agency\": \"Madera County\", \"Categories\": \"Total Requested\", \"Funding Amount\": 186638.6871380262}, {\"Agency\": \"Fresno\", \"Categories\": \"Total Requested\", \"Funding Amount\": -2627.9690844085408}, {\"Agency\": \"Kings County\", \"Categories\": \"Total Requested\", \"Funding Amount\": 47569.47812933442}, {\"Agency\": \"Tulare County\", \"Categories\": \"Fed Requested\", \"Funding Amount\": 333411.85059795587}, {\"Agency\": \"Fresno County\", \"Categories\": \"Fed Requested\", \"Funding Amount\": 410531.25251010834}, {\"Agency\": \"Madera County\", \"Categories\": \"Fed Requested\", \"Funding Amount\": 170656.98376013647}, {\"Agency\": \"Fresno\", \"Categories\": \"Fed Requested\", \"Funding Amount\": -3239.6444601321246}, {\"Agency\": \"Kings County\", \"Categories\": \"Fed Requested\", \"Funding Amount\": 43597.333852092386}, {\"Agency\": \"Tulare County\", \"Categories\": \"AC Requested\", \"Funding Amount\": 11466.322356282111}, {\"Agency\": \"Fresno County\", \"Categories\": \"AC Requested\", \"Funding Amount\": 23363.187655061465}, {\"Agency\": \"Madera County\", \"Categories\": \"AC Requested\", \"Funding Amount\": 0.0}, {\"Agency\": \"Fresno\", \"Categories\": \"AC Requested\", \"Funding Amount\": 0.0}, {\"Agency\": \"Kings County\", \"Categories\": \"AC Requested\", \"Funding Amount\": 0.0}]}}, {\"mode\": \"vega-lite\"});\n",
       "</script>"
      ],
      "text/plain": [
       "alt.Chart(...)"
      ]
     },
     "metadata": {},
     "output_type": "display_data"
    },
    {
     "data": {
      "application/vnd.jupyter.widget-view+json": {
       "model_id": "bbf4b359a4c9436f84be48b3508e9be3",
       "version_major": 2,
       "version_minor": 0
      },
      "text/plain": [
       "HTML(value='<h3> Top Agencies using Street Projects </h3>')"
      ]
     },
     "metadata": {},
     "output_type": "display_data"
    },
    {
     "data": {
      "text/html": [
       "<style type=\"text/css\">\n",
       "</style>\n",
       "<table id=\"T_45a0f_\">\n",
       "  <thead>\n",
       "    <tr>\n",
       "      <th class=\"blank level0\" >&nbsp;</th>\n",
       "      <th class=\"col_heading level0 col0\" >Agency</th>\n",
       "      <th class=\"col_heading level0 col1\" >Street Obligations</th>\n",
       "      <th class=\"col_heading level0 col2\" >Percent of Category</th>\n",
       "    </tr>\n",
       "  </thead>\n",
       "  <tbody>\n",
       "    <tr>\n",
       "      <th id=\"T_45a0f_level0_row0\" class=\"row_heading level0 row0\" >0</th>\n",
       "      <td id=\"T_45a0f_row0_col0\" class=\"data row0 col0\" >Fresno</td>\n",
       "      <td id=\"T_45a0f_row0_col1\" class=\"data row0 col1\" >196</td>\n",
       "      <td id=\"T_45a0f_row0_col2\" class=\"data row0 col2\" >12.94%</td>\n",
       "    </tr>\n",
       "    <tr>\n",
       "      <th id=\"T_45a0f_level0_row1\" class=\"row_heading level0 row1\" >1</th>\n",
       "      <td id=\"T_45a0f_row1_col0\" class=\"data row1 col0\" >Kern County</td>\n",
       "      <td id=\"T_45a0f_row1_col1\" class=\"data row1 col1\" >178</td>\n",
       "      <td id=\"T_45a0f_row1_col2\" class=\"data row1 col2\" >11.75%</td>\n",
       "    </tr>\n",
       "    <tr>\n",
       "      <th id=\"T_45a0f_level0_row2\" class=\"row_heading level0 row2\" >2</th>\n",
       "      <td id=\"T_45a0f_row2_col0\" class=\"data row2 col0\" >Bakersfield</td>\n",
       "      <td id=\"T_45a0f_row2_col1\" class=\"data row2 col1\" >177</td>\n",
       "      <td id=\"T_45a0f_row2_col2\" class=\"data row2 col2\" >11.68%</td>\n",
       "    </tr>\n",
       "    <tr>\n",
       "      <th id=\"T_45a0f_level0_row3\" class=\"row_heading level0 row3\" >3</th>\n",
       "      <td id=\"T_45a0f_row3_col0\" class=\"data row3 col0\" >Clovis</td>\n",
       "      <td id=\"T_45a0f_row3_col1\" class=\"data row3 col1\" >115</td>\n",
       "      <td id=\"T_45a0f_row3_col2\" class=\"data row3 col2\" >7.59%</td>\n",
       "    </tr>\n",
       "    <tr>\n",
       "      <th id=\"T_45a0f_level0_row4\" class=\"row_heading level0 row4\" >4</th>\n",
       "      <td id=\"T_45a0f_row4_col0\" class=\"data row4 col0\" >Visalia</td>\n",
       "      <td id=\"T_45a0f_row4_col1\" class=\"data row4 col1\" >75</td>\n",
       "      <td id=\"T_45a0f_row4_col2\" class=\"data row4 col2\" >4.95%</td>\n",
       "    </tr>\n",
       "  </tbody>\n",
       "</table>\n"
      ],
      "text/plain": [
       "<pandas.io.formats.style.Styler at 0x7f7e494cf110>"
      ]
     },
     "metadata": {},
     "output_type": "display_data"
    },
    {
     "data": {
      "text/html": [
       "\n",
       "<div id=\"altair-viz-6a54cccf80f348888a66a62edc8f853e\"></div>\n",
       "<script type=\"text/javascript\">\n",
       "  var VEGA_DEBUG = (typeof VEGA_DEBUG == \"undefined\") ? {} : VEGA_DEBUG;\n",
       "  (function(spec, embedOpt){\n",
       "    let outputDiv = document.currentScript.previousElementSibling;\n",
       "    if (outputDiv.id !== \"altair-viz-6a54cccf80f348888a66a62edc8f853e\") {\n",
       "      outputDiv = document.getElementById(\"altair-viz-6a54cccf80f348888a66a62edc8f853e\");\n",
       "    }\n",
       "    const paths = {\n",
       "      \"vega\": \"https://cdn.jsdelivr.net/npm//vega@5?noext\",\n",
       "      \"vega-lib\": \"https://cdn.jsdelivr.net/npm//vega-lib?noext\",\n",
       "      \"vega-lite\": \"https://cdn.jsdelivr.net/npm//vega-lite@4.17.0?noext\",\n",
       "      \"vega-embed\": \"https://cdn.jsdelivr.net/npm//vega-embed@6?noext\",\n",
       "    };\n",
       "\n",
       "    function maybeLoadScript(lib, version) {\n",
       "      var key = `${lib.replace(\"-\", \"\")}_version`;\n",
       "      return (VEGA_DEBUG[key] == version) ?\n",
       "        Promise.resolve(paths[lib]) :\n",
       "        new Promise(function(resolve, reject) {\n",
       "          var s = document.createElement('script');\n",
       "          document.getElementsByTagName(\"head\")[0].appendChild(s);\n",
       "          s.async = true;\n",
       "          s.onload = () => {\n",
       "            VEGA_DEBUG[key] = version;\n",
       "            return resolve(paths[lib]);\n",
       "          };\n",
       "          s.onerror = () => reject(`Error loading script: ${paths[lib]}`);\n",
       "          s.src = paths[lib];\n",
       "        });\n",
       "    }\n",
       "\n",
       "    function showError(err) {\n",
       "      outputDiv.innerHTML = `<div class=\"error\" style=\"color:red;\">${err}</div>`;\n",
       "      throw err;\n",
       "    }\n",
       "\n",
       "    function displayChart(vegaEmbed) {\n",
       "      vegaEmbed(outputDiv, spec, embedOpt)\n",
       "        .catch(err => showError(`Javascript Error: ${err.message}<br>This usually means there's a typo in your chart specification. See the javascript console for the full traceback.`));\n",
       "    }\n",
       "\n",
       "    if(typeof define === \"function\" && define.amd) {\n",
       "      requirejs.config({paths});\n",
       "      require([\"vega-embed\"], displayChart, err => showError(`Error loading script: ${err.message}`));\n",
       "    } else {\n",
       "      maybeLoadScript(\"vega\", \"5\")\n",
       "        .then(() => maybeLoadScript(\"vega-lite\", \"4.17.0\"))\n",
       "        .then(() => maybeLoadScript(\"vega-embed\", \"6\"))\n",
       "        .catch(showError)\n",
       "        .then(() => displayChart(vegaEmbed));\n",
       "    }\n",
       "  })({\"config\": {\"view\": {\"continuousWidth\": 400, \"continuousHeight\": 300}}, \"data\": {\"name\": \"data-d400ce0dcd1c0db9f8b85fb8d4098fe6\"}, \"mark\": \"bar\", \"encoding\": {\"color\": {\"field\": \"Categories\", \"scale\": {\"range\": [\"#2EA8CE\", \"#EB9F3C\", \"#F4D837\", \"#51BF9D\", \"#8CBCCB\", \"#9487C0\"]}, \"type\": \"nominal\"}, \"row\": {\"field\": \"Categories\", \"type\": \"nominal\"}, \"tooltip\": [{\"field\": \"Agency\", \"type\": \"nominal\"}, {\"field\": \"Funding Amount\", \"type\": \"quantitative\"}], \"x\": {\"axis\": {\"format\": \"$.2s\", \"title\": \"Obligated Funding ($2021)\"}, \"field\": \"Funding Amount\", \"type\": \"quantitative\"}, \"y\": {\"field\": \"Agency\", \"type\": \"nominal\"}}, \"$schema\": \"https://vega.github.io/schema/vega-lite/v4.17.0.json\", \"datasets\": {\"data-d400ce0dcd1c0db9f8b85fb8d4098fe6\": [{\"Agency\": \"Fresno\", \"Categories\": \"Total Requested\", \"Funding Amount\": 366259.90489483724}, {\"Agency\": \"Kern County\", \"Categories\": \"Total Requested\", \"Funding Amount\": 354543.94386171794}, {\"Agency\": \"Bakersfield\", \"Categories\": \"Total Requested\", \"Funding Amount\": 1724239.3894654308}, {\"Agency\": \"Clovis\", \"Categories\": \"Total Requested\", \"Funding Amount\": 192482.84466065658}, {\"Agency\": \"Visalia\", \"Categories\": \"Total Requested\", \"Funding Amount\": 423949.36076081806}, {\"Agency\": \"Fresno\", \"Categories\": \"Fed Requested\", \"Funding Amount\": 287870.4204237698}, {\"Agency\": \"Kern County\", \"Categories\": \"Fed Requested\", \"Funding Amount\": 292006.87510360475}, {\"Agency\": \"Bakersfield\", \"Categories\": \"Fed Requested\", \"Funding Amount\": 1132896.2863213671}, {\"Agency\": \"Clovis\", \"Categories\": \"Fed Requested\", \"Funding Amount\": 165939.52040842178}, {\"Agency\": \"Visalia\", \"Categories\": \"Fed Requested\", \"Funding Amount\": 313767.6329354662}, {\"Agency\": \"Fresno\", \"Categories\": \"AC Requested\", \"Funding Amount\": 0.0}, {\"Agency\": \"Kern County\", \"Categories\": \"AC Requested\", \"Funding Amount\": 0.0}, {\"Agency\": \"Bakersfield\", \"Categories\": \"AC Requested\", \"Funding Amount\": 0.0}, {\"Agency\": \"Clovis\", \"Categories\": \"AC Requested\", \"Funding Amount\": -5.061535731605862e-13}, {\"Agency\": \"Visalia\", \"Categories\": \"AC Requested\", \"Funding Amount\": 141.9520882716771}]}}, {\"mode\": \"vega-lite\"});\n",
       "</script>"
      ],
      "text/plain": [
       "alt.Chart(...)"
      ]
     },
     "metadata": {},
     "output_type": "display_data"
    },
    {
     "data": {
      "application/vnd.jupyter.widget-view+json": {
       "model_id": "656e4ad6f6ec455f9cb234c38a9d95c4",
       "version_major": 2,
       "version_minor": 0
      },
      "text/plain": [
       "HTML(value='<h3> Top Agencies using Freeway Projects </h3>')"
      ]
     },
     "metadata": {},
     "output_type": "display_data"
    },
    {
     "data": {
      "text/html": [
       "<style type=\"text/css\">\n",
       "</style>\n",
       "<table id=\"T_af8b9_\">\n",
       "  <thead>\n",
       "    <tr>\n",
       "      <th class=\"blank level0\" >&nbsp;</th>\n",
       "      <th class=\"col_heading level0 col0\" >Agency</th>\n",
       "      <th class=\"col_heading level0 col1\" >Freeway Obligations</th>\n",
       "      <th class=\"col_heading level0 col2\" >Percent of Category</th>\n",
       "    </tr>\n",
       "  </thead>\n",
       "  <tbody>\n",
       "    <tr>\n",
       "      <th id=\"T_af8b9_level0_row0\" class=\"row_heading level0 row0\" >0</th>\n",
       "      <td id=\"T_af8b9_row0_col0\" class=\"data row0 col0\" >Bakersfield</td>\n",
       "      <td id=\"T_af8b9_row0_col1\" class=\"data row0 col1\" >13</td>\n",
       "      <td id=\"T_af8b9_row0_col2\" class=\"data row0 col2\" >44.83%</td>\n",
       "    </tr>\n",
       "    <tr>\n",
       "      <th id=\"T_af8b9_level0_row1\" class=\"row_heading level0 row1\" >1</th>\n",
       "      <td id=\"T_af8b9_row1_col0\" class=\"data row1 col0\" >Kern County</td>\n",
       "      <td id=\"T_af8b9_row1_col1\" class=\"data row1 col1\" >10</td>\n",
       "      <td id=\"T_af8b9_row1_col2\" class=\"data row1 col2\" >34.48%</td>\n",
       "    </tr>\n",
       "    <tr>\n",
       "      <th id=\"T_af8b9_level0_row2\" class=\"row_heading level0 row2\" >2</th>\n",
       "      <td id=\"T_af8b9_row2_col0\" class=\"data row2 col0\" >Fowler</td>\n",
       "      <td id=\"T_af8b9_row2_col1\" class=\"data row2 col1\" >2</td>\n",
       "      <td id=\"T_af8b9_row2_col2\" class=\"data row2 col2\" >6.90%</td>\n",
       "    </tr>\n",
       "    <tr>\n",
       "      <th id=\"T_af8b9_level0_row3\" class=\"row_heading level0 row3\" >3</th>\n",
       "      <td id=\"T_af8b9_row3_col0\" class=\"data row3 col0\" >Fresno</td>\n",
       "      <td id=\"T_af8b9_row3_col1\" class=\"data row3 col1\" >2</td>\n",
       "      <td id=\"T_af8b9_row3_col2\" class=\"data row3 col2\" >6.90%</td>\n",
       "    </tr>\n",
       "    <tr>\n",
       "      <th id=\"T_af8b9_level0_row4\" class=\"row_heading level0 row4\" >4</th>\n",
       "      <td id=\"T_af8b9_row4_col0\" class=\"data row4 col0\" >Mendota</td>\n",
       "      <td id=\"T_af8b9_row4_col1\" class=\"data row4 col1\" >2</td>\n",
       "      <td id=\"T_af8b9_row4_col2\" class=\"data row4 col2\" >6.90%</td>\n",
       "    </tr>\n",
       "  </tbody>\n",
       "</table>\n"
      ],
      "text/plain": [
       "<pandas.io.formats.style.Styler at 0x7f7e494d32d0>"
      ]
     },
     "metadata": {},
     "output_type": "display_data"
    },
    {
     "data": {
      "text/html": [
       "\n",
       "<div id=\"altair-viz-ce17684bf55240a8b9723d449553f98e\"></div>\n",
       "<script type=\"text/javascript\">\n",
       "  var VEGA_DEBUG = (typeof VEGA_DEBUG == \"undefined\") ? {} : VEGA_DEBUG;\n",
       "  (function(spec, embedOpt){\n",
       "    let outputDiv = document.currentScript.previousElementSibling;\n",
       "    if (outputDiv.id !== \"altair-viz-ce17684bf55240a8b9723d449553f98e\") {\n",
       "      outputDiv = document.getElementById(\"altair-viz-ce17684bf55240a8b9723d449553f98e\");\n",
       "    }\n",
       "    const paths = {\n",
       "      \"vega\": \"https://cdn.jsdelivr.net/npm//vega@5?noext\",\n",
       "      \"vega-lib\": \"https://cdn.jsdelivr.net/npm//vega-lib?noext\",\n",
       "      \"vega-lite\": \"https://cdn.jsdelivr.net/npm//vega-lite@4.17.0?noext\",\n",
       "      \"vega-embed\": \"https://cdn.jsdelivr.net/npm//vega-embed@6?noext\",\n",
       "    };\n",
       "\n",
       "    function maybeLoadScript(lib, version) {\n",
       "      var key = `${lib.replace(\"-\", \"\")}_version`;\n",
       "      return (VEGA_DEBUG[key] == version) ?\n",
       "        Promise.resolve(paths[lib]) :\n",
       "        new Promise(function(resolve, reject) {\n",
       "          var s = document.createElement('script');\n",
       "          document.getElementsByTagName(\"head\")[0].appendChild(s);\n",
       "          s.async = true;\n",
       "          s.onload = () => {\n",
       "            VEGA_DEBUG[key] = version;\n",
       "            return resolve(paths[lib]);\n",
       "          };\n",
       "          s.onerror = () => reject(`Error loading script: ${paths[lib]}`);\n",
       "          s.src = paths[lib];\n",
       "        });\n",
       "    }\n",
       "\n",
       "    function showError(err) {\n",
       "      outputDiv.innerHTML = `<div class=\"error\" style=\"color:red;\">${err}</div>`;\n",
       "      throw err;\n",
       "    }\n",
       "\n",
       "    function displayChart(vegaEmbed) {\n",
       "      vegaEmbed(outputDiv, spec, embedOpt)\n",
       "        .catch(err => showError(`Javascript Error: ${err.message}<br>This usually means there's a typo in your chart specification. See the javascript console for the full traceback.`));\n",
       "    }\n",
       "\n",
       "    if(typeof define === \"function\" && define.amd) {\n",
       "      requirejs.config({paths});\n",
       "      require([\"vega-embed\"], displayChart, err => showError(`Error loading script: ${err.message}`));\n",
       "    } else {\n",
       "      maybeLoadScript(\"vega\", \"5\")\n",
       "        .then(() => maybeLoadScript(\"vega-lite\", \"4.17.0\"))\n",
       "        .then(() => maybeLoadScript(\"vega-embed\", \"6\"))\n",
       "        .catch(showError)\n",
       "        .then(() => displayChart(vegaEmbed));\n",
       "    }\n",
       "  })({\"config\": {\"view\": {\"continuousWidth\": 400, \"continuousHeight\": 300}}, \"data\": {\"name\": \"data-19d2230fe3c8488879d9b9e822b21726\"}, \"mark\": \"bar\", \"encoding\": {\"color\": {\"field\": \"Categories\", \"scale\": {\"range\": [\"#2EA8CE\", \"#EB9F3C\", \"#F4D837\", \"#51BF9D\", \"#8CBCCB\", \"#9487C0\"]}, \"type\": \"nominal\"}, \"row\": {\"field\": \"Categories\", \"type\": \"nominal\"}, \"tooltip\": [{\"field\": \"Agency\", \"type\": \"nominal\"}, {\"field\": \"Funding Amount\", \"type\": \"quantitative\"}], \"x\": {\"axis\": {\"format\": \"$.2s\", \"title\": \"Obligated Funding ($2021)\"}, \"field\": \"Funding Amount\", \"type\": \"quantitative\"}, \"y\": {\"field\": \"Agency\", \"type\": \"nominal\"}}, \"$schema\": \"https://vega.github.io/schema/vega-lite/v4.17.0.json\", \"datasets\": {\"data-19d2230fe3c8488879d9b9e822b21726\": [{\"Agency\": \"Bakersfield\", \"Categories\": \"Total Requested\", \"Funding Amount\": 9091334.582296444}, {\"Agency\": \"Kern County\", \"Categories\": \"Total Requested\", \"Funding Amount\": 976515.7893736267}, {\"Agency\": \"Fowler\", \"Categories\": \"Total Requested\", \"Funding Amount\": 1046027.9041640569}, {\"Agency\": \"Fresno\", \"Categories\": \"Total Requested\", \"Funding Amount\": 2490680.731894096}, {\"Agency\": \"Mendota\", \"Categories\": \"Total Requested\", \"Funding Amount\": 51907.40864495485}, {\"Agency\": \"Bakersfield\", \"Categories\": \"Fed Requested\", \"Funding Amount\": 4817598.376437968}, {\"Agency\": \"Kern County\", \"Categories\": \"Fed Requested\", \"Funding Amount\": 851407.0763159422}, {\"Agency\": \"Fowler\", \"Categories\": \"Fed Requested\", \"Funding Amount\": 1046027.9041640569}, {\"Agency\": \"Fresno\", \"Categories\": \"Fed Requested\", \"Funding Amount\": -226409.52311731604}, {\"Agency\": \"Mendota\", \"Categories\": \"Fed Requested\", \"Funding Amount\": 45953.570579150015}, {\"Agency\": \"Bakersfield\", \"Categories\": \"AC Requested\", \"Funding Amount\": 0.0}, {\"Agency\": \"Kern County\", \"Categories\": \"AC Requested\", \"Funding Amount\": 0.0}, {\"Agency\": \"Fowler\", \"Categories\": \"AC Requested\", \"Funding Amount\": 0.0}, {\"Agency\": \"Fresno\", \"Categories\": \"AC Requested\", \"Funding Amount\": 0.0}, {\"Agency\": \"Mendota\", \"Categories\": \"AC Requested\", \"Funding Amount\": 0.0}]}}, {\"mode\": \"vega-lite\"});\n",
       "</script>"
      ],
      "text/plain": [
       "alt.Chart(...)"
      ]
     },
     "metadata": {},
     "output_type": "display_data"
    },
    {
     "data": {
      "application/vnd.jupyter.widget-view+json": {
       "model_id": "90f0c9ebb14147b5809e96933997cddb",
       "version_major": 2,
       "version_minor": 0
      },
      "text/plain": [
       "HTML(value='<h3> Top Agencies using Infrastructure & Emergency Relief Projects </h3>')"
      ]
     },
     "metadata": {},
     "output_type": "display_data"
    },
    {
     "data": {
      "text/html": [
       "<style type=\"text/css\">\n",
       "</style>\n",
       "<table id=\"T_01ef5_\">\n",
       "  <thead>\n",
       "    <tr>\n",
       "      <th class=\"blank level0\" >&nbsp;</th>\n",
       "      <th class=\"col_heading level0 col0\" >Agency</th>\n",
       "      <th class=\"col_heading level0 col1\" >Infrastructure & Emergency Relief Obligations</th>\n",
       "      <th class=\"col_heading level0 col2\" >Percent of Category</th>\n",
       "    </tr>\n",
       "  </thead>\n",
       "  <tbody>\n",
       "    <tr>\n",
       "      <th id=\"T_01ef5_level0_row0\" class=\"row_heading level0 row0\" >0</th>\n",
       "      <td id=\"T_01ef5_row0_col0\" class=\"data row0 col0\" >Fresno</td>\n",
       "      <td id=\"T_01ef5_row0_col1\" class=\"data row0 col1\" >212</td>\n",
       "      <td id=\"T_01ef5_row0_col2\" class=\"data row0 col2\" >11.64%</td>\n",
       "    </tr>\n",
       "    <tr>\n",
       "      <th id=\"T_01ef5_level0_row1\" class=\"row_heading level0 row1\" >1</th>\n",
       "      <td id=\"T_01ef5_row1_col0\" class=\"data row1 col0\" >Fresno County</td>\n",
       "      <td id=\"T_01ef5_row1_col1\" class=\"data row1 col1\" >206</td>\n",
       "      <td id=\"T_01ef5_row1_col2\" class=\"data row1 col2\" >11.31%</td>\n",
       "    </tr>\n",
       "    <tr>\n",
       "      <th id=\"T_01ef5_level0_row2\" class=\"row_heading level0 row2\" >2</th>\n",
       "      <td id=\"T_01ef5_row2_col0\" class=\"data row2 col0\" >Kern County</td>\n",
       "      <td id=\"T_01ef5_row2_col1\" class=\"data row2 col1\" >199</td>\n",
       "      <td id=\"T_01ef5_row2_col2\" class=\"data row2 col2\" >10.92%</td>\n",
       "    </tr>\n",
       "    <tr>\n",
       "      <th id=\"T_01ef5_level0_row3\" class=\"row_heading level0 row3\" >3</th>\n",
       "      <td id=\"T_01ef5_row3_col0\" class=\"data row3 col0\" >Bakersfield</td>\n",
       "      <td id=\"T_01ef5_row3_col1\" class=\"data row3 col1\" >179</td>\n",
       "      <td id=\"T_01ef5_row3_col2\" class=\"data row3 col2\" >9.82%</td>\n",
       "    </tr>\n",
       "    <tr>\n",
       "      <th id=\"T_01ef5_level0_row4\" class=\"row_heading level0 row4\" >4</th>\n",
       "      <td id=\"T_01ef5_row4_col0\" class=\"data row4 col0\" >Tulare County</td>\n",
       "      <td id=\"T_01ef5_row4_col1\" class=\"data row4 col1\" >151</td>\n",
       "      <td id=\"T_01ef5_row4_col2\" class=\"data row4 col2\" >8.29%</td>\n",
       "    </tr>\n",
       "  </tbody>\n",
       "</table>\n"
      ],
      "text/plain": [
       "<pandas.io.formats.style.Styler at 0x7f7e494c1110>"
      ]
     },
     "metadata": {},
     "output_type": "display_data"
    },
    {
     "data": {
      "text/html": [
       "\n",
       "<div id=\"altair-viz-9acd05c48a77405699a46dae10bd70e8\"></div>\n",
       "<script type=\"text/javascript\">\n",
       "  var VEGA_DEBUG = (typeof VEGA_DEBUG == \"undefined\") ? {} : VEGA_DEBUG;\n",
       "  (function(spec, embedOpt){\n",
       "    let outputDiv = document.currentScript.previousElementSibling;\n",
       "    if (outputDiv.id !== \"altair-viz-9acd05c48a77405699a46dae10bd70e8\") {\n",
       "      outputDiv = document.getElementById(\"altair-viz-9acd05c48a77405699a46dae10bd70e8\");\n",
       "    }\n",
       "    const paths = {\n",
       "      \"vega\": \"https://cdn.jsdelivr.net/npm//vega@5?noext\",\n",
       "      \"vega-lib\": \"https://cdn.jsdelivr.net/npm//vega-lib?noext\",\n",
       "      \"vega-lite\": \"https://cdn.jsdelivr.net/npm//vega-lite@4.17.0?noext\",\n",
       "      \"vega-embed\": \"https://cdn.jsdelivr.net/npm//vega-embed@6?noext\",\n",
       "    };\n",
       "\n",
       "    function maybeLoadScript(lib, version) {\n",
       "      var key = `${lib.replace(\"-\", \"\")}_version`;\n",
       "      return (VEGA_DEBUG[key] == version) ?\n",
       "        Promise.resolve(paths[lib]) :\n",
       "        new Promise(function(resolve, reject) {\n",
       "          var s = document.createElement('script');\n",
       "          document.getElementsByTagName(\"head\")[0].appendChild(s);\n",
       "          s.async = true;\n",
       "          s.onload = () => {\n",
       "            VEGA_DEBUG[key] = version;\n",
       "            return resolve(paths[lib]);\n",
       "          };\n",
       "          s.onerror = () => reject(`Error loading script: ${paths[lib]}`);\n",
       "          s.src = paths[lib];\n",
       "        });\n",
       "    }\n",
       "\n",
       "    function showError(err) {\n",
       "      outputDiv.innerHTML = `<div class=\"error\" style=\"color:red;\">${err}</div>`;\n",
       "      throw err;\n",
       "    }\n",
       "\n",
       "    function displayChart(vegaEmbed) {\n",
       "      vegaEmbed(outputDiv, spec, embedOpt)\n",
       "        .catch(err => showError(`Javascript Error: ${err.message}<br>This usually means there's a typo in your chart specification. See the javascript console for the full traceback.`));\n",
       "    }\n",
       "\n",
       "    if(typeof define === \"function\" && define.amd) {\n",
       "      requirejs.config({paths});\n",
       "      require([\"vega-embed\"], displayChart, err => showError(`Error loading script: ${err.message}`));\n",
       "    } else {\n",
       "      maybeLoadScript(\"vega\", \"5\")\n",
       "        .then(() => maybeLoadScript(\"vega-lite\", \"4.17.0\"))\n",
       "        .then(() => maybeLoadScript(\"vega-embed\", \"6\"))\n",
       "        .catch(showError)\n",
       "        .then(() => displayChart(vegaEmbed));\n",
       "    }\n",
       "  })({\"config\": {\"view\": {\"continuousWidth\": 400, \"continuousHeight\": 300}}, \"data\": {\"name\": \"data-fbdddab25b016f0bd953625b3ae6207f\"}, \"mark\": \"bar\", \"encoding\": {\"color\": {\"field\": \"Categories\", \"scale\": {\"range\": [\"#2EA8CE\", \"#EB9F3C\", \"#F4D837\", \"#51BF9D\", \"#8CBCCB\", \"#9487C0\"]}, \"type\": \"nominal\"}, \"row\": {\"field\": \"Categories\", \"type\": \"nominal\"}, \"tooltip\": [{\"field\": \"Agency\", \"type\": \"nominal\"}, {\"field\": \"Funding Amount\", \"type\": \"quantitative\"}], \"x\": {\"axis\": {\"format\": \"$.2s\", \"title\": \"Obligated Funding ($2021)\"}, \"field\": \"Funding Amount\", \"type\": \"quantitative\"}, \"y\": {\"field\": \"Agency\", \"type\": \"nominal\"}}, \"$schema\": \"https://vega.github.io/schema/vega-lite/v4.17.0.json\", \"datasets\": {\"data-fbdddab25b016f0bd953625b3ae6207f\": [{\"Agency\": \"Fresno\", \"Categories\": \"Total Requested\", \"Funding Amount\": 725990.8042886088}, {\"Agency\": \"Fresno County\", \"Categories\": \"Total Requested\", \"Funding Amount\": 450647.9456472654}, {\"Agency\": \"Kern County\", \"Categories\": \"Total Requested\", \"Funding Amount\": 395463.0749537989}, {\"Agency\": \"Bakersfield\", \"Categories\": \"Total Requested\", \"Funding Amount\": 3128991.201689057}, {\"Agency\": \"Tulare County\", \"Categories\": \"Total Requested\", \"Funding Amount\": 304419.5573225443}, {\"Agency\": \"Fresno\", \"Categories\": \"Fed Requested\", \"Funding Amount\": 402766.836727435}, {\"Agency\": \"Fresno County\", \"Categories\": \"Fed Requested\", \"Funding Amount\": 387978.9088436067}, {\"Agency\": \"Kern County\", \"Categories\": \"Fed Requested\", \"Funding Amount\": 335464.8218337851}, {\"Agency\": \"Bakersfield\", \"Categories\": \"Fed Requested\", \"Funding Amount\": 1897060.794921481}, {\"Agency\": \"Tulare County\", \"Categories\": \"Fed Requested\", \"Funding Amount\": 277238.06854263647}, {\"Agency\": \"Fresno\", \"Categories\": \"AC Requested\", \"Funding Amount\": 0.0}, {\"Agency\": \"Fresno County\", \"Categories\": \"AC Requested\", \"Funding Amount\": 12248.661489061351}, {\"Agency\": \"Kern County\", \"Categories\": \"AC Requested\", \"Funding Amount\": 0.0}, {\"Agency\": \"Bakersfield\", \"Categories\": \"AC Requested\", \"Funding Amount\": 0.0}, {\"Agency\": \"Tulare County\", \"Categories\": \"AC Requested\", \"Funding Amount\": 2725.156428153405}]}}, {\"mode\": \"vega-lite\"});\n",
       "</script>"
      ],
      "text/plain": [
       "alt.Chart(...)"
      ]
     },
     "metadata": {},
     "output_type": "display_data"
    },
    {
     "data": {
      "application/vnd.jupyter.widget-view+json": {
       "model_id": "5ab3caea26d84b62acbfc9490a8c939f",
       "version_major": 2,
       "version_minor": 0
      },
      "text/plain": [
       "HTML(value='<h3> Top Agencies using Congestion Relief Projects </h3>')"
      ]
     },
     "metadata": {},
     "output_type": "display_data"
    },
    {
     "data": {
      "text/html": [
       "<style type=\"text/css\">\n",
       "</style>\n",
       "<table id=\"T_763ac_\">\n",
       "  <thead>\n",
       "    <tr>\n",
       "      <th class=\"blank level0\" >&nbsp;</th>\n",
       "      <th class=\"col_heading level0 col0\" >Agency</th>\n",
       "      <th class=\"col_heading level0 col1\" >Congestion Relief Obligations</th>\n",
       "      <th class=\"col_heading level0 col2\" >Percent of Category</th>\n",
       "    </tr>\n",
       "  </thead>\n",
       "  <tbody>\n",
       "    <tr>\n",
       "      <th id=\"T_763ac_level0_row0\" class=\"row_heading level0 row0\" >0</th>\n",
       "      <td id=\"T_763ac_row0_col0\" class=\"data row0 col0\" >Kern County Council of Governments</td>\n",
       "      <td id=\"T_763ac_row0_col1\" class=\"data row0 col1\" >20</td>\n",
       "      <td id=\"T_763ac_row0_col2\" class=\"data row0 col2\" >100.00%</td>\n",
       "    </tr>\n",
       "  </tbody>\n",
       "</table>\n"
      ],
      "text/plain": [
       "<pandas.io.formats.style.Styler at 0x7f7e494bef90>"
      ]
     },
     "metadata": {},
     "output_type": "display_data"
    },
    {
     "data": {
      "text/html": [
       "\n",
       "<div id=\"altair-viz-f87fe9f10f9447ab89bca0d4415978ba\"></div>\n",
       "<script type=\"text/javascript\">\n",
       "  var VEGA_DEBUG = (typeof VEGA_DEBUG == \"undefined\") ? {} : VEGA_DEBUG;\n",
       "  (function(spec, embedOpt){\n",
       "    let outputDiv = document.currentScript.previousElementSibling;\n",
       "    if (outputDiv.id !== \"altair-viz-f87fe9f10f9447ab89bca0d4415978ba\") {\n",
       "      outputDiv = document.getElementById(\"altair-viz-f87fe9f10f9447ab89bca0d4415978ba\");\n",
       "    }\n",
       "    const paths = {\n",
       "      \"vega\": \"https://cdn.jsdelivr.net/npm//vega@5?noext\",\n",
       "      \"vega-lib\": \"https://cdn.jsdelivr.net/npm//vega-lib?noext\",\n",
       "      \"vega-lite\": \"https://cdn.jsdelivr.net/npm//vega-lite@4.17.0?noext\",\n",
       "      \"vega-embed\": \"https://cdn.jsdelivr.net/npm//vega-embed@6?noext\",\n",
       "    };\n",
       "\n",
       "    function maybeLoadScript(lib, version) {\n",
       "      var key = `${lib.replace(\"-\", \"\")}_version`;\n",
       "      return (VEGA_DEBUG[key] == version) ?\n",
       "        Promise.resolve(paths[lib]) :\n",
       "        new Promise(function(resolve, reject) {\n",
       "          var s = document.createElement('script');\n",
       "          document.getElementsByTagName(\"head\")[0].appendChild(s);\n",
       "          s.async = true;\n",
       "          s.onload = () => {\n",
       "            VEGA_DEBUG[key] = version;\n",
       "            return resolve(paths[lib]);\n",
       "          };\n",
       "          s.onerror = () => reject(`Error loading script: ${paths[lib]}`);\n",
       "          s.src = paths[lib];\n",
       "        });\n",
       "    }\n",
       "\n",
       "    function showError(err) {\n",
       "      outputDiv.innerHTML = `<div class=\"error\" style=\"color:red;\">${err}</div>`;\n",
       "      throw err;\n",
       "    }\n",
       "\n",
       "    function displayChart(vegaEmbed) {\n",
       "      vegaEmbed(outputDiv, spec, embedOpt)\n",
       "        .catch(err => showError(`Javascript Error: ${err.message}<br>This usually means there's a typo in your chart specification. See the javascript console for the full traceback.`));\n",
       "    }\n",
       "\n",
       "    if(typeof define === \"function\" && define.amd) {\n",
       "      requirejs.config({paths});\n",
       "      require([\"vega-embed\"], displayChart, err => showError(`Error loading script: ${err.message}`));\n",
       "    } else {\n",
       "      maybeLoadScript(\"vega\", \"5\")\n",
       "        .then(() => maybeLoadScript(\"vega-lite\", \"4.17.0\"))\n",
       "        .then(() => maybeLoadScript(\"vega-embed\", \"6\"))\n",
       "        .catch(showError)\n",
       "        .then(() => displayChart(vegaEmbed));\n",
       "    }\n",
       "  })({\"config\": {\"view\": {\"continuousWidth\": 400, \"continuousHeight\": 300}}, \"data\": {\"name\": \"data-f7d2ea793cafc52be2472596d4bca089\"}, \"mark\": \"bar\", \"encoding\": {\"color\": {\"field\": \"Categories\", \"scale\": {\"range\": [\"#2EA8CE\", \"#EB9F3C\", \"#F4D837\", \"#51BF9D\", \"#8CBCCB\", \"#9487C0\"]}, \"type\": \"nominal\"}, \"row\": {\"field\": \"Categories\", \"type\": \"nominal\"}, \"tooltip\": [{\"field\": \"Agency\", \"type\": \"nominal\"}, {\"field\": \"Funding Amount\", \"type\": \"quantitative\"}], \"x\": {\"axis\": {\"format\": \"$.2s\", \"title\": \"Obligated Funding ($2021)\"}, \"field\": \"Funding Amount\", \"type\": \"quantitative\"}, \"y\": {\"field\": \"Agency\", \"type\": \"nominal\"}}, \"$schema\": \"https://vega.github.io/schema/vega-lite/v4.17.0.json\", \"datasets\": {\"data-f7d2ea793cafc52be2472596d4bca089\": [{\"Agency\": \"Kern County Council of Governments\", \"Categories\": \"Total Requested\", \"Funding Amount\": 106713.26431775067}, {\"Agency\": \"Kern County Council of Governments\", \"Categories\": \"Fed Requested\", \"Funding Amount\": 88109.98406027674}, {\"Agency\": \"Kern County Council of Governments\", \"Categories\": \"AC Requested\", \"Funding Amount\": 0.0}]}}, {\"mode\": \"vega-lite\"});\n",
       "</script>"
      ],
      "text/plain": [
       "alt.Chart(...)"
      ]
     },
     "metadata": {},
     "output_type": "display_data"
    }
   ],
   "source": [
    "# create loop:\n",
    "\n",
    "work_cat = ['active_transp', 'transit', 'bridge', 'street','freeway', 'infra_resiliency_er','congestion_relief']\n",
    "\n",
    "for cat in work_cat:\n",
    "    _dla_utils_reports.project_cat(df, cat, district)"
   ]
  },
  {
   "cell_type": "code",
   "execution_count": null,
   "id": "5a50e751-dd3f-498f-9a28-2edc321b534f",
   "metadata": {
    "jupyter": {
     "source_hidden": true
    },
    "papermill": {
     "duration": 0.010685,
     "end_time": "2022-05-09T21:55:30.633520",
     "exception": false,
     "start_time": "2022-05-09T21:55:30.622835",
     "status": "completed"
    },
    "tags": [
     "remove_input"
    ]
   },
   "outputs": [],
   "source": []
  },
  {
   "cell_type": "code",
   "execution_count": 21,
   "id": "cb2f6ba9-df0b-495e-82c5-54743d879743",
   "metadata": {
    "execution": {
     "iopub.execute_input": "2022-05-09T21:55:30.664201Z",
     "iopub.status.busy": "2022-05-09T21:55:30.663854Z",
     "iopub.status.idle": "2022-05-09T21:55:30.668417Z",
     "shell.execute_reply": "2022-05-09T21:55:30.667650Z"
    },
    "jupyter": {
     "source_hidden": true
    },
    "papermill": {
     "duration": 0.021666,
     "end_time": "2022-05-09T21:55:30.670417",
     "exception": false,
     "start_time": "2022-05-09T21:55:30.648751",
     "status": "completed"
    },
    "tags": [
     "remove_input"
    ]
   },
   "outputs": [],
   "source": [
    "#  # code help: https://stackoverflow.com/questions/50842160/how-to-display-matplotlib-plots-in-a-jupyter-tab-widget\n",
    "    \n",
    "# work_cat = ['active_transp', 'transit', 'bridge', 'street','freeway', 'infra_resiliency_er','congestion_relief']\n",
    "\n",
    "# out1 = widgets.Output()\n",
    "# out2 = widgets.Output()\n",
    "# out3 = widgets.Output()\n",
    "# out4 = widgets.Output()\n",
    "# out5 = widgets.Output()\n",
    "# out6 = widgets.Output()\n",
    "# out7 = widgets.Output()\n",
    "\n",
    "#     # children2 = [widgets.Text(description=name) for name in work_cat]\n",
    "#     # tab2 = widgets.Tab(children2)\n",
    "# tab2 = widgets.Tab(children = [out1, out2, out3, out4, out5, out6, out7])\n",
    "\n",
    "# for ii in enumerate(work_cat): \n",
    "#     tab2.set_title(ii[0], f\"{_dla_utils_reports.labeling(ii[1])}\")\n",
    "\n",
    "# display(tab2)\n",
    "    \n",
    "    \n",
    "# with out1:\n",
    "#      _dla_utils_reports.project_cat(df, 'active_transp', district) \n",
    "\n",
    "# #out1.append_display_data(_dla_utils_reports.project_cat(df, 'active_transp', district))\n",
    "# #out1.append_display_data(Image(filename=(f'./chart_outputs/project_cat/bar_{district}_active_transp.png')))\n",
    "\n",
    "# with out2:\n",
    "#      _dla_utils_reports.project_cat(df, 'transit', district)\n",
    "# with out3: \n",
    "#      _dla_utils_reports.project_cat(df, 'bridge', district)\n",
    "# with out4:\n",
    "#     _dla_utils_reports.project_cat(df, 'street', district)\n",
    "# with out5:\n",
    "#      _dla_utils_reports.project_cat(df, 'freeway', district)\n",
    "# with out6:\n",
    "#     _dla_utils_reports.project_cat(df, 'infra_resiliency_er', district)\n",
    "# with out7:\n",
    "#     _dla_utils_reports.project_cat(df, 'congestion_relief', district)\n",
    "    "
   ]
  },
  {
   "cell_type": "code",
   "execution_count": null,
   "id": "d0a253bb-00a4-45d7-875b-7a39bb794219",
   "metadata": {
    "jupyter": {
     "source_hidden": true
    },
    "papermill": {
     "duration": 0.012673,
     "end_time": "2022-05-09T21:55:30.695777",
     "exception": false,
     "start_time": "2022-05-09T21:55:30.683104",
     "status": "completed"
    },
    "tags": [
     "remove_input"
    ]
   },
   "outputs": [],
   "source": []
  },
  {
   "cell_type": "code",
   "execution_count": 22,
   "id": "b4562eb7-a3e1-4829-a23c-058f2f0e30d9",
   "metadata": {
    "execution": {
     "iopub.execute_input": "2022-05-09T21:55:30.722649Z",
     "iopub.status.busy": "2022-05-09T21:55:30.722415Z",
     "iopub.status.idle": "2022-05-09T21:55:30.726499Z",
     "shell.execute_reply": "2022-05-09T21:55:30.725984Z"
    },
    "jupyter": {
     "source_hidden": true
    },
    "papermill": {
     "duration": 0.019923,
     "end_time": "2022-05-09T21:55:30.728137",
     "exception": false,
     "start_time": "2022-05-09T21:55:30.708214",
     "status": "completed"
    },
    "tags": [
     "remove_input"
    ]
   },
   "outputs": [],
   "source": [
    "# # work_cat = ['active_transp', 'transit', 'bridge', 'street','freeway', 'infra_resiliency_er','congestion_relief']\n",
    "\n",
    "# # out1 = widgets.Output()\n",
    "# # out2 = widgets.Output()\n",
    "# # out3 = widgets.Output()\n",
    "# # out4 = widgets.Output()\n",
    "# # out5 = widgets.Output()\n",
    "# # out6 = widgets.Output()\n",
    "# # out7 = widgets.Output()\n",
    "\n",
    "# # tab2 = widgets.Tab(children = [out1, out2, out3, out4, out5, out6, out7])\n",
    "\n",
    "# # for ii in enumerate(work_cat): \n",
    "# #     tab2.set_title(ii[0], f\"{_dla_utils.labeling(ii[1])}\")\n",
    "\n",
    "# # display(tab2)\n",
    "    \n",
    "# # with out1:\n",
    "# #     _dla_utils.project_cat(df, 'active_transp', district) \n",
    "# # with out2:\n",
    "# #      _dla_utils.project_cat(df, 'transit', district)\n",
    "# # with out3: \n",
    "# #      _dla_utils.project_cat(df, 'bridge', district)\n",
    "# # with out4:\n",
    "# #     _dla_utils.project_cat(df, 'street', district)\n",
    "# # with out5:\n",
    "# #      _dla_utils.project_cat(df, 'freeway', district)\n",
    "# # with out6:\n",
    "# #     _dla_utils.project_cat(df, 'infra_resiliency_er', district)\n",
    "# # with out7:\n",
    "# #     _dla_utils.project_cat(df, 'congestion_relief', district)\n",
    "    \n",
    "    \n",
    "# ## https://medium.com/analytics-vidhya/how-to-use-python-to-build-an-image-display-app-in-jupyter-notebook-337c4fd3775f\n",
    "# def show_im():\n",
    "#     CSS = \"\"\"\n",
    "#     .output {\n",
    "#         flex-direction: row;\n",
    "#     }\n",
    "#     \"\"\"\n",
    "#     HTML('<style>{}</style>'.format(CSS))\n",
    "\n",
    "# def image_viewer(district, i): \n",
    "#     image_grid = Image(filename=(f'./chart_outputs/project_cat/bar_{district}_{i}.png'))\n",
    "#     #image_grid_html = HTML(image_grid.to_html(escape=False ,formatters=dict(a=path_to_image_html, \n",
    "#     #b=path_to_image_html)))\n",
    "#     #display(image_grid_html)\n",
    "#     show_im()    \n",
    "    \n",
    "\n",
    "# tab_nest = widgets.Tab()\n",
    "\n",
    "\n",
    "# #interact function in isolation\n",
    "\n",
    "# image = (image_viewer(district, 'active_transp'))\n",
    "# f1 = interactive(image);\n",
    "# tab_nest.children = [widgets.VBox(children = f1.children)]\n",
    "# display(tab_nest)"
   ]
  },
  {
   "cell_type": "code",
   "execution_count": 23,
   "id": "8b015c8d-378b-456e-b486-f8b1f5446a21",
   "metadata": {
    "execution": {
     "iopub.execute_input": "2022-05-09T21:55:30.755645Z",
     "iopub.status.busy": "2022-05-09T21:55:30.755437Z",
     "iopub.status.idle": "2022-05-09T21:55:30.758239Z",
     "shell.execute_reply": "2022-05-09T21:55:30.757779Z"
    },
    "jupyter": {
     "source_hidden": true
    },
    "papermill": {
     "duration": 0.018524,
     "end_time": "2022-05-09T21:55:30.760007",
     "exception": false,
     "start_time": "2022-05-09T21:55:30.741483",
     "status": "completed"
    },
    "tags": [
     "remove_input"
    ]
   },
   "outputs": [],
   "source": [
    "# Image(filename=('./chart_outputs/project_cat/bar_4_active_transp.png'))"
   ]
  },
  {
   "cell_type": "code",
   "execution_count": null,
   "id": "47213b64-555f-4e09-9b1d-fae403f8f595",
   "metadata": {
    "jupyter": {
     "source_hidden": true
    },
    "papermill": {
     "duration": 0.013053,
     "end_time": "2022-05-09T21:55:30.785881",
     "exception": false,
     "start_time": "2022-05-09T21:55:30.772828",
     "status": "completed"
    },
    "tags": [
     "remove_input"
    ]
   },
   "outputs": [],
   "source": []
  },
  {
   "cell_type": "code",
   "execution_count": null,
   "id": "3925b8ed-1cd0-4479-9f6d-4f461ffd70ae",
   "metadata": {
    "jupyter": {
     "source_hidden": true
    },
    "papermill": {
     "duration": 0.013332,
     "end_time": "2022-05-09T21:55:30.812385",
     "exception": false,
     "start_time": "2022-05-09T21:55:30.799053",
     "status": "completed"
    },
    "tags": [
     "remove_input"
    ]
   },
   "outputs": [],
   "source": []
  },
  {
   "cell_type": "code",
   "execution_count": 24,
   "id": "f2da39a6-73d0-4293-b13f-267514cfbc4e",
   "metadata": {
    "execution": {
     "iopub.execute_input": "2022-05-09T21:55:30.839607Z",
     "iopub.status.busy": "2022-05-09T21:55:30.839392Z",
     "iopub.status.idle": "2022-05-09T21:55:30.841972Z",
     "shell.execute_reply": "2022-05-09T21:55:30.841479Z"
    },
    "jupyter": {
     "source_hidden": true
    },
    "papermill": {
     "duration": 0.018463,
     "end_time": "2022-05-09T21:55:30.843692",
     "exception": false,
     "start_time": "2022-05-09T21:55:30.825229",
     "status": "completed"
    },
    "tags": [
     "remove_input"
    ]
   },
   "outputs": [],
   "source": [
    "## to markdown\n",
    "#![pic](./chart_outputs/project_cat/bar_4_active_transp.png)"
   ]
  },
  {
   "cell_type": "code",
   "execution_count": null,
   "id": "10e45722-6789-4357-8d9d-a2f424ba7655",
   "metadata": {
    "jupyter": {
     "source_hidden": true
    },
    "papermill": {
     "duration": 0.015662,
     "end_time": "2022-05-09T21:55:30.896484",
     "exception": false,
     "start_time": "2022-05-09T21:55:30.880822",
     "status": "completed"
    },
    "tags": [
     "remove_input"
    ]
   },
   "outputs": [],
   "source": []
  }
 ],
 "metadata": {
  "kernelspec": {
   "display_name": "Python 3 (ipykernel)",
   "language": "python",
   "name": "python3"
  },
  "language_info": {
   "codemirror_mode": {
    "name": "ipython",
    "version": 3
   },
   "file_extension": ".py",
   "mimetype": "text/x-python",
   "name": "python",
   "nbconvert_exporter": "python",
   "pygments_lexer": "ipython3",
   "version": "3.7.9"
  },
  "papermill": {
   "default_parameters": {},
   "duration": 20.586095,
   "end_time": "2022-05-09T21:55:31.431354",
   "environment_variables": {},
   "exception": null,
   "input_path": "dla/e76_obligated_funds/reports/report_test2.ipynb",
   "output_path": "portfolio/dla/district_6/0__report_test2__district_6.ipynb",
   "parameters": {
    "district": 6
   },
   "start_time": "2022-05-09T21:55:10.845259",
   "version": "2.3.4"
  },
  "widgets": {
   "application/vnd.jupyter.widget-state+json": {
    "state": {
     "17fc74663278459dad7f4be09b009ab8": {
      "model_module": "@jupyter-widgets/base",
      "model_module_version": "1.2.0",
      "model_name": "LayoutModel",
      "state": {
       "_model_module": "@jupyter-widgets/base",
       "_model_module_version": "1.2.0",
       "_model_name": "LayoutModel",
       "_view_count": null,
       "_view_module": "@jupyter-widgets/base",
       "_view_module_version": "1.2.0",
       "_view_name": "LayoutView",
       "align_content": null,
       "align_items": null,
       "align_self": null,
       "border": null,
       "bottom": null,
       "display": null,
       "flex": null,
       "flex_flow": null,
       "grid_area": null,
       "grid_auto_columns": null,
       "grid_auto_flow": null,
       "grid_auto_rows": null,
       "grid_column": null,
       "grid_gap": null,
       "grid_row": null,
       "grid_template_areas": null,
       "grid_template_columns": null,
       "grid_template_rows": null,
       "height": null,
       "justify_content": null,
       "justify_items": null,
       "left": null,
       "margin": null,
       "max_height": null,
       "max_width": null,
       "min_height": null,
       "min_width": null,
       "object_fit": null,
       "object_position": null,
       "order": null,
       "overflow": null,
       "overflow_x": null,
       "overflow_y": null,
       "padding": null,
       "right": null,
       "top": null,
       "visibility": null,
       "width": null
      }
     },
     "1eb70f9320c74f40b325ca260005ed6d": {
      "model_module": "@jupyter-widgets/base",
      "model_module_version": "1.2.0",
      "model_name": "LayoutModel",
      "state": {
       "_model_module": "@jupyter-widgets/base",
       "_model_module_version": "1.2.0",
       "_model_name": "LayoutModel",
       "_view_count": null,
       "_view_module": "@jupyter-widgets/base",
       "_view_module_version": "1.2.0",
       "_view_name": "LayoutView",
       "align_content": null,
       "align_items": null,
       "align_self": null,
       "border": null,
       "bottom": null,
       "display": null,
       "flex": null,
       "flex_flow": null,
       "grid_area": null,
       "grid_auto_columns": null,
       "grid_auto_flow": null,
       "grid_auto_rows": null,
       "grid_column": null,
       "grid_gap": null,
       "grid_row": null,
       "grid_template_areas": null,
       "grid_template_columns": null,
       "grid_template_rows": null,
       "height": null,
       "justify_content": null,
       "justify_items": null,
       "left": null,
       "margin": null,
       "max_height": null,
       "max_width": null,
       "min_height": null,
       "min_width": null,
       "object_fit": null,
       "object_position": null,
       "order": null,
       "overflow": null,
       "overflow_x": null,
       "overflow_y": null,
       "padding": null,
       "right": null,
       "top": null,
       "visibility": null,
       "width": null
      }
     },
     "405a48b8f4254963811850eed82ab10c": {
      "model_module": "@jupyter-widgets/base",
      "model_module_version": "1.2.0",
      "model_name": "LayoutModel",
      "state": {
       "_model_module": "@jupyter-widgets/base",
       "_model_module_version": "1.2.0",
       "_model_name": "LayoutModel",
       "_view_count": null,
       "_view_module": "@jupyter-widgets/base",
       "_view_module_version": "1.2.0",
       "_view_name": "LayoutView",
       "align_content": null,
       "align_items": null,
       "align_self": null,
       "border": null,
       "bottom": null,
       "display": null,
       "flex": null,
       "flex_flow": null,
       "grid_area": null,
       "grid_auto_columns": null,
       "grid_auto_flow": null,
       "grid_auto_rows": null,
       "grid_column": null,
       "grid_gap": null,
       "grid_row": null,
       "grid_template_areas": null,
       "grid_template_columns": null,
       "grid_template_rows": null,
       "height": null,
       "justify_content": null,
       "justify_items": null,
       "left": null,
       "margin": null,
       "max_height": null,
       "max_width": null,
       "min_height": null,
       "min_width": null,
       "object_fit": null,
       "object_position": null,
       "order": null,
       "overflow": null,
       "overflow_x": null,
       "overflow_y": null,
       "padding": null,
       "right": null,
       "top": null,
       "visibility": null,
       "width": null
      }
     },
     "474af8004c1e4d1893af4a08c0cb2915": {
      "model_module": "@jupyter-widgets/controls",
      "model_module_version": "1.5.0",
      "model_name": "DescriptionStyleModel",
      "state": {
       "_model_module": "@jupyter-widgets/controls",
       "_model_module_version": "1.5.0",
       "_model_name": "DescriptionStyleModel",
       "_view_count": null,
       "_view_module": "@jupyter-widgets/base",
       "_view_module_version": "1.2.0",
       "_view_name": "StyleView",
       "description_width": ""
      }
     },
     "552ee05ab5df495f952262dcc63621e2": {
      "model_module": "@jupyter-widgets/controls",
      "model_module_version": "1.5.0",
      "model_name": "HTMLModel",
      "state": {
       "_dom_classes": [],
       "_model_module": "@jupyter-widgets/controls",
       "_model_module_version": "1.5.0",
       "_model_name": "HTMLModel",
       "_view_count": null,
       "_view_module": "@jupyter-widgets/controls",
       "_view_module_version": "1.5.0",
       "_view_name": "HTMLView",
       "description": "",
       "description_tooltip": null,
       "layout": "IPY_MODEL_1eb70f9320c74f40b325ca260005ed6d",
       "placeholder": "​",
       "style": "IPY_MODEL_7355ed64ebbf4277bf9d4333c50bf08c",
       "value": "<h3> Top Agencies using Active Transportation Projects </h3>"
      }
     },
     "5ab3caea26d84b62acbfc9490a8c939f": {
      "model_module": "@jupyter-widgets/controls",
      "model_module_version": "1.5.0",
      "model_name": "HTMLModel",
      "state": {
       "_dom_classes": [],
       "_model_module": "@jupyter-widgets/controls",
       "_model_module_version": "1.5.0",
       "_model_name": "HTMLModel",
       "_view_count": null,
       "_view_module": "@jupyter-widgets/controls",
       "_view_module_version": "1.5.0",
       "_view_name": "HTMLView",
       "description": "",
       "description_tooltip": null,
       "layout": "IPY_MODEL_bcbaf6a142dd445b8a8d232728455e55",
       "placeholder": "​",
       "style": "IPY_MODEL_e8ec3111c35f4385b6623f13a4f13a4f",
       "value": "<h3> Top Agencies using Congestion Relief Projects </h3>"
      }
     },
     "61d627d68ad649ea8d3a6946cd964300": {
      "model_module": "@jupyter-widgets/controls",
      "model_module_version": "1.5.0",
      "model_name": "DescriptionStyleModel",
      "state": {
       "_model_module": "@jupyter-widgets/controls",
       "_model_module_version": "1.5.0",
       "_model_name": "DescriptionStyleModel",
       "_view_count": null,
       "_view_module": "@jupyter-widgets/base",
       "_view_module_version": "1.2.0",
       "_view_name": "StyleView",
       "description_width": ""
      }
     },
     "62ed3d1537ae4046be3e88cfd32ebb56": {
      "model_module": "@jupyter-widgets/base",
      "model_module_version": "1.2.0",
      "model_name": "LayoutModel",
      "state": {
       "_model_module": "@jupyter-widgets/base",
       "_model_module_version": "1.2.0",
       "_model_name": "LayoutModel",
       "_view_count": null,
       "_view_module": "@jupyter-widgets/base",
       "_view_module_version": "1.2.0",
       "_view_name": "LayoutView",
       "align_content": null,
       "align_items": null,
       "align_self": null,
       "border": null,
       "bottom": null,
       "display": null,
       "flex": null,
       "flex_flow": null,
       "grid_area": null,
       "grid_auto_columns": null,
       "grid_auto_flow": null,
       "grid_auto_rows": null,
       "grid_column": null,
       "grid_gap": null,
       "grid_row": null,
       "grid_template_areas": null,
       "grid_template_columns": null,
       "grid_template_rows": null,
       "height": null,
       "justify_content": null,
       "justify_items": null,
       "left": null,
       "margin": null,
       "max_height": null,
       "max_width": null,
       "min_height": null,
       "min_width": null,
       "object_fit": null,
       "object_position": null,
       "order": null,
       "overflow": null,
       "overflow_x": null,
       "overflow_y": null,
       "padding": null,
       "right": null,
       "top": null,
       "visibility": null,
       "width": null
      }
     },
     "656e4ad6f6ec455f9cb234c38a9d95c4": {
      "model_module": "@jupyter-widgets/controls",
      "model_module_version": "1.5.0",
      "model_name": "HTMLModel",
      "state": {
       "_dom_classes": [],
       "_model_module": "@jupyter-widgets/controls",
       "_model_module_version": "1.5.0",
       "_model_name": "HTMLModel",
       "_view_count": null,
       "_view_module": "@jupyter-widgets/controls",
       "_view_module_version": "1.5.0",
       "_view_name": "HTMLView",
       "description": "",
       "description_tooltip": null,
       "layout": "IPY_MODEL_405a48b8f4254963811850eed82ab10c",
       "placeholder": "​",
       "style": "IPY_MODEL_474af8004c1e4d1893af4a08c0cb2915",
       "value": "<h3> Top Agencies using Freeway Projects </h3>"
      }
     },
     "7355ed64ebbf4277bf9d4333c50bf08c": {
      "model_module": "@jupyter-widgets/controls",
      "model_module_version": "1.5.0",
      "model_name": "DescriptionStyleModel",
      "state": {
       "_model_module": "@jupyter-widgets/controls",
       "_model_module_version": "1.5.0",
       "_model_name": "DescriptionStyleModel",
       "_view_count": null,
       "_view_module": "@jupyter-widgets/base",
       "_view_module_version": "1.2.0",
       "_view_name": "StyleView",
       "description_width": ""
      }
     },
     "90f0c9ebb14147b5809e96933997cddb": {
      "model_module": "@jupyter-widgets/controls",
      "model_module_version": "1.5.0",
      "model_name": "HTMLModel",
      "state": {
       "_dom_classes": [],
       "_model_module": "@jupyter-widgets/controls",
       "_model_module_version": "1.5.0",
       "_model_name": "HTMLModel",
       "_view_count": null,
       "_view_module": "@jupyter-widgets/controls",
       "_view_module_version": "1.5.0",
       "_view_name": "HTMLView",
       "description": "",
       "description_tooltip": null,
       "layout": "IPY_MODEL_62ed3d1537ae4046be3e88cfd32ebb56",
       "placeholder": "​",
       "style": "IPY_MODEL_61d627d68ad649ea8d3a6946cd964300",
       "value": "<h3> Top Agencies using Infrastructure & Emergency Relief Projects </h3>"
      }
     },
     "92471b1c65474dab8d7efa512bcd651e": {
      "model_module": "@jupyter-widgets/controls",
      "model_module_version": "1.5.0",
      "model_name": "HTMLModel",
      "state": {
       "_dom_classes": [],
       "_model_module": "@jupyter-widgets/controls",
       "_model_module_version": "1.5.0",
       "_model_name": "HTMLModel",
       "_view_count": null,
       "_view_module": "@jupyter-widgets/controls",
       "_view_module_version": "1.5.0",
       "_view_name": "HTMLView",
       "description": "",
       "description_tooltip": null,
       "layout": "IPY_MODEL_9a80a931b74e4440bfbef2fddb54d720",
       "placeholder": "​",
       "style": "IPY_MODEL_aaa213f6feb943978a9379807754bacb",
       "value": "<h3> Top Agencies using Bridge Projects </h3>"
      }
     },
     "92ace2b20fa341948a9b0e8a20426afc": {
      "model_module": "@jupyter-widgets/controls",
      "model_module_version": "1.5.0",
      "model_name": "DescriptionStyleModel",
      "state": {
       "_model_module": "@jupyter-widgets/controls",
       "_model_module_version": "1.5.0",
       "_model_name": "DescriptionStyleModel",
       "_view_count": null,
       "_view_module": "@jupyter-widgets/base",
       "_view_module_version": "1.2.0",
       "_view_name": "StyleView",
       "description_width": ""
      }
     },
     "9a80a931b74e4440bfbef2fddb54d720": {
      "model_module": "@jupyter-widgets/base",
      "model_module_version": "1.2.0",
      "model_name": "LayoutModel",
      "state": {
       "_model_module": "@jupyter-widgets/base",
       "_model_module_version": "1.2.0",
       "_model_name": "LayoutModel",
       "_view_count": null,
       "_view_module": "@jupyter-widgets/base",
       "_view_module_version": "1.2.0",
       "_view_name": "LayoutView",
       "align_content": null,
       "align_items": null,
       "align_self": null,
       "border": null,
       "bottom": null,
       "display": null,
       "flex": null,
       "flex_flow": null,
       "grid_area": null,
       "grid_auto_columns": null,
       "grid_auto_flow": null,
       "grid_auto_rows": null,
       "grid_column": null,
       "grid_gap": null,
       "grid_row": null,
       "grid_template_areas": null,
       "grid_template_columns": null,
       "grid_template_rows": null,
       "height": null,
       "justify_content": null,
       "justify_items": null,
       "left": null,
       "margin": null,
       "max_height": null,
       "max_width": null,
       "min_height": null,
       "min_width": null,
       "object_fit": null,
       "object_position": null,
       "order": null,
       "overflow": null,
       "overflow_x": null,
       "overflow_y": null,
       "padding": null,
       "right": null,
       "top": null,
       "visibility": null,
       "width": null
      }
     },
     "a7f58f6d290b405e87c354e218ea7ff1": {
      "model_module": "@jupyter-widgets/controls",
      "model_module_version": "1.5.0",
      "model_name": "DescriptionStyleModel",
      "state": {
       "_model_module": "@jupyter-widgets/controls",
       "_model_module_version": "1.5.0",
       "_model_name": "DescriptionStyleModel",
       "_view_count": null,
       "_view_module": "@jupyter-widgets/base",
       "_view_module_version": "1.2.0",
       "_view_name": "StyleView",
       "description_width": ""
      }
     },
     "aaa213f6feb943978a9379807754bacb": {
      "model_module": "@jupyter-widgets/controls",
      "model_module_version": "1.5.0",
      "model_name": "DescriptionStyleModel",
      "state": {
       "_model_module": "@jupyter-widgets/controls",
       "_model_module_version": "1.5.0",
       "_model_name": "DescriptionStyleModel",
       "_view_count": null,
       "_view_module": "@jupyter-widgets/base",
       "_view_module_version": "1.2.0",
       "_view_name": "StyleView",
       "description_width": ""
      }
     },
     "bbf4b359a4c9436f84be48b3508e9be3": {
      "model_module": "@jupyter-widgets/controls",
      "model_module_version": "1.5.0",
      "model_name": "HTMLModel",
      "state": {
       "_dom_classes": [],
       "_model_module": "@jupyter-widgets/controls",
       "_model_module_version": "1.5.0",
       "_model_name": "HTMLModel",
       "_view_count": null,
       "_view_module": "@jupyter-widgets/controls",
       "_view_module_version": "1.5.0",
       "_view_name": "HTMLView",
       "description": "",
       "description_tooltip": null,
       "layout": "IPY_MODEL_c8044478df3f4f92a9316fa3f1ed2b0a",
       "placeholder": "​",
       "style": "IPY_MODEL_a7f58f6d290b405e87c354e218ea7ff1",
       "value": "<h3> Top Agencies using Street Projects </h3>"
      }
     },
     "bcbaf6a142dd445b8a8d232728455e55": {
      "model_module": "@jupyter-widgets/base",
      "model_module_version": "1.2.0",
      "model_name": "LayoutModel",
      "state": {
       "_model_module": "@jupyter-widgets/base",
       "_model_module_version": "1.2.0",
       "_model_name": "LayoutModel",
       "_view_count": null,
       "_view_module": "@jupyter-widgets/base",
       "_view_module_version": "1.2.0",
       "_view_name": "LayoutView",
       "align_content": null,
       "align_items": null,
       "align_self": null,
       "border": null,
       "bottom": null,
       "display": null,
       "flex": null,
       "flex_flow": null,
       "grid_area": null,
       "grid_auto_columns": null,
       "grid_auto_flow": null,
       "grid_auto_rows": null,
       "grid_column": null,
       "grid_gap": null,
       "grid_row": null,
       "grid_template_areas": null,
       "grid_template_columns": null,
       "grid_template_rows": null,
       "height": null,
       "justify_content": null,
       "justify_items": null,
       "left": null,
       "margin": null,
       "max_height": null,
       "max_width": null,
       "min_height": null,
       "min_width": null,
       "object_fit": null,
       "object_position": null,
       "order": null,
       "overflow": null,
       "overflow_x": null,
       "overflow_y": null,
       "padding": null,
       "right": null,
       "top": null,
       "visibility": null,
       "width": null
      }
     },
     "c65a4fee77614a98b80bf64ea2cada86": {
      "model_module": "@jupyter-widgets/controls",
      "model_module_version": "1.5.0",
      "model_name": "HTMLModel",
      "state": {
       "_dom_classes": [],
       "_model_module": "@jupyter-widgets/controls",
       "_model_module_version": "1.5.0",
       "_model_name": "HTMLModel",
       "_view_count": null,
       "_view_module": "@jupyter-widgets/controls",
       "_view_module_version": "1.5.0",
       "_view_name": "HTMLView",
       "description": "",
       "description_tooltip": null,
       "layout": "IPY_MODEL_17fc74663278459dad7f4be09b009ab8",
       "placeholder": "​",
       "style": "IPY_MODEL_92ace2b20fa341948a9b0e8a20426afc",
       "value": "<h3> Top Agencies using Transit Projects </h3>"
      }
     },
     "c8044478df3f4f92a9316fa3f1ed2b0a": {
      "model_module": "@jupyter-widgets/base",
      "model_module_version": "1.2.0",
      "model_name": "LayoutModel",
      "state": {
       "_model_module": "@jupyter-widgets/base",
       "_model_module_version": "1.2.0",
       "_model_name": "LayoutModel",
       "_view_count": null,
       "_view_module": "@jupyter-widgets/base",
       "_view_module_version": "1.2.0",
       "_view_name": "LayoutView",
       "align_content": null,
       "align_items": null,
       "align_self": null,
       "border": null,
       "bottom": null,
       "display": null,
       "flex": null,
       "flex_flow": null,
       "grid_area": null,
       "grid_auto_columns": null,
       "grid_auto_flow": null,
       "grid_auto_rows": null,
       "grid_column": null,
       "grid_gap": null,
       "grid_row": null,
       "grid_template_areas": null,
       "grid_template_columns": null,
       "grid_template_rows": null,
       "height": null,
       "justify_content": null,
       "justify_items": null,
       "left": null,
       "margin": null,
       "max_height": null,
       "max_width": null,
       "min_height": null,
       "min_width": null,
       "object_fit": null,
       "object_position": null,
       "order": null,
       "overflow": null,
       "overflow_x": null,
       "overflow_y": null,
       "padding": null,
       "right": null,
       "top": null,
       "visibility": null,
       "width": null
      }
     },
     "e8ec3111c35f4385b6623f13a4f13a4f": {
      "model_module": "@jupyter-widgets/controls",
      "model_module_version": "1.5.0",
      "model_name": "DescriptionStyleModel",
      "state": {
       "_model_module": "@jupyter-widgets/controls",
       "_model_module_version": "1.5.0",
       "_model_name": "DescriptionStyleModel",
       "_view_count": null,
       "_view_module": "@jupyter-widgets/base",
       "_view_module_version": "1.2.0",
       "_view_name": "StyleView",
       "description_width": ""
      }
     }
    },
    "version_major": 2,
    "version_minor": 0
   }
  }
 },
 "nbformat": 4,
 "nbformat_minor": 5
}