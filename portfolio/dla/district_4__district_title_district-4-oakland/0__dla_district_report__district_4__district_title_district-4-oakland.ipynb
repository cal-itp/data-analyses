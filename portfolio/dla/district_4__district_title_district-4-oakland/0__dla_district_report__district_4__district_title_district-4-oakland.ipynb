{
 "cells": [
  {
   "cell_type": "markdown",
   "id": "c52ac033",
   "metadata": {
    "papermill": {
     "duration": 0.020044,
     "end_time": "2022-05-27T19:59:53.622936",
     "exception": false,
     "start_time": "2022-05-27T19:59:53.602892",
     "status": "completed"
    },
    "pycharm": {
     "name": "#%% md\n"
    },
    "tags": []
   },
   "source": [
    "# **District 4 - Oakland**\n",
    "***"
   ]
  },
  {
   "cell_type": "markdown",
   "id": "178948e4-f2ee-4978-87a6-e2eb560b0feb",
   "metadata": {
    "papermill": {
     "duration": 0.018685,
     "end_time": "2022-05-27T19:59:53.663783",
     "exception": false,
     "start_time": "2022-05-27T19:59:53.645098",
     "status": "completed"
    },
    "tags": []
   },
   "source": [
    "How does funding for local agencies differ district to district? Using E-76 obligation data, we can gain insight to how agencies in District 4 use federal program funds, and help identify DLA‘s core customers."
   ]
  },
  {
   "cell_type": "code",
   "execution_count": 1,
   "id": "92c5c56a",
   "metadata": {
    "collapsed": false,
    "execution": {
     "iopub.execute_input": "2022-05-27T19:59:53.704249Z",
     "iopub.status.busy": "2022-05-27T19:59:53.703696Z",
     "iopub.status.idle": "2022-05-27T20:00:01.851170Z",
     "shell.execute_reply": "2022-05-27T20:00:01.849991Z"
    },
    "jupyter": {
     "source_hidden": true
    },
    "papermill": {
     "duration": 8.171103,
     "end_time": "2022-05-27T20:00:01.854326",
     "exception": false,
     "start_time": "2022-05-27T19:59:53.683223",
     "status": "completed"
    },
    "pycharm": {
     "name": "#%%\n"
    },
    "tags": [
     "remove_input"
    ]
   },
   "outputs": [],
   "source": [
    "%%capture\n",
    "\n",
    "import numpy as np\n",
    "import pandas as pd\n",
    "from siuba import *\n",
    "\n",
    "import altair as alt\n",
    "import altair_saver\n",
    "from plotnine import *\n",
    "\n",
    "from IPython.display import Markdown, HTML, Image\n",
    "import ipywidgets as widgets\n",
    "from ipywidgets import interact, interactive\n",
    "\n",
    "from calitp import to_snakecase\n",
    "import intake\n",
    "\n",
    "from shared_utils import altair_utils\n",
    "from shared_utils import styleguide\n",
    "\n",
    "from dla_utils import _dla_utils\n"
   ]
  },
  {
   "cell_type": "code",
   "execution_count": 2,
   "id": "82cf8245-73d2-4ed3-93cf-7ee01661b024",
   "metadata": {
    "execution": {
     "iopub.execute_input": "2022-05-27T20:00:01.896678Z",
     "iopub.status.busy": "2022-05-27T20:00:01.896345Z",
     "iopub.status.idle": "2022-05-27T20:00:01.900730Z",
     "shell.execute_reply": "2022-05-27T20:00:01.899922Z"
    },
    "jupyter": {
     "source_hidden": true
    },
    "papermill": {
     "duration": 0.028622,
     "end_time": "2022-05-27T20:00:01.902558",
     "exception": false,
     "start_time": "2022-05-27T20:00:01.873936",
     "status": "completed"
    },
    "tags": [
     "parameters",
     "remove_input"
    ]
   },
   "outputs": [],
   "source": [
    "#Parameter Cell\n",
    "\n",
    "district = 2"
   ]
  },
  {
   "cell_type": "code",
   "execution_count": 3,
   "id": "c04c361c",
   "metadata": {
    "execution": {
     "iopub.execute_input": "2022-05-27T20:00:01.944594Z",
     "iopub.status.busy": "2022-05-27T20:00:01.943936Z",
     "iopub.status.idle": "2022-05-27T20:00:01.948792Z",
     "shell.execute_reply": "2022-05-27T20:00:01.947930Z"
    },
    "jupyter": {
     "source_hidden": true
    },
    "papermill": {
     "duration": 0.028368,
     "end_time": "2022-05-27T20:00:01.950611",
     "exception": false,
     "start_time": "2022-05-27T20:00:01.922243",
     "status": "completed"
    },
    "tags": [
     "injected-parameters",
     "remove_input"
    ]
   },
   "outputs": [],
   "source": [
    "# Parameters\n",
    "district = 4\n",
    "district_title = \"District 4 - Oakland\"\n"
   ]
  },
  {
   "cell_type": "code",
   "execution_count": 4,
   "id": "948b2b4f-ef9b-48ff-b109-e7b76361066c",
   "metadata": {
    "execution": {
     "iopub.execute_input": "2022-05-27T20:00:01.995388Z",
     "iopub.status.busy": "2022-05-27T20:00:01.994376Z",
     "iopub.status.idle": "2022-05-27T20:00:02.404666Z",
     "shell.execute_reply": "2022-05-27T20:00:02.403668Z"
    },
    "jupyter": {
     "source_hidden": true
    },
    "papermill": {
     "duration": 0.438088,
     "end_time": "2022-05-27T20:00:02.407114",
     "exception": false,
     "start_time": "2022-05-27T20:00:01.969026",
     "status": "completed"
    },
    "tags": [
     "remove_input"
    ]
   },
   "outputs": [],
   "source": [
    "df= pd.read_parquet(\"gs://calitp-analytics-data/data-analyses/dla/e-76Obligated/dla_df.parquet\")\n"
   ]
  },
  {
   "cell_type": "code",
   "execution_count": 5,
   "id": "be910f27-7608-4522-8d8d-ef93611cb748",
   "metadata": {
    "execution": {
     "iopub.execute_input": "2022-05-27T20:00:02.448257Z",
     "iopub.status.busy": "2022-05-27T20:00:02.447977Z",
     "iopub.status.idle": "2022-05-27T20:00:02.555811Z",
     "shell.execute_reply": "2022-05-27T20:00:02.554330Z"
    },
    "jupyter": {
     "source_hidden": true
    },
    "papermill": {
     "duration": 0.131435,
     "end_time": "2022-05-27T20:00:02.558609",
     "exception": false,
     "start_time": "2022-05-27T20:00:02.427174",
     "status": "completed"
    },
    "tags": [
     "remove_input"
    ]
   },
   "outputs": [],
   "source": [
    "df = (df>>filter(_.dist==district))\n",
    "    \n",
    "    \n",
    "#subsetting the data\n",
    "df_years = _dla_utils.count_all_years(df)\n",
    "df_top = _dla_utils.find_top(df)\n",
    "    "
   ]
  },
  {
   "cell_type": "code",
   "execution_count": 6,
   "id": "7f5ac0a1-a951-4072-8f85-d2c90290907f",
   "metadata": {
    "execution": {
     "iopub.execute_input": "2022-05-27T20:00:02.603188Z",
     "iopub.status.busy": "2022-05-27T20:00:02.602641Z",
     "iopub.status.idle": "2022-05-27T20:00:02.896361Z",
     "shell.execute_reply": "2022-05-27T20:00:02.895467Z"
    },
    "jupyter": {
     "source_hidden": true
    },
    "papermill": {
     "duration": 0.317462,
     "end_time": "2022-05-27T20:00:02.898455",
     "exception": false,
     "start_time": "2022-05-27T20:00:02.580993",
     "status": "completed"
    },
    "tags": [
     "remove_input"
    ]
   },
   "outputs": [
    {
     "data": {
      "text/html": [
       "<h2>Quick Stats</h2>"
      ],
      "text/plain": [
       "<IPython.core.display.HTML object>"
      ]
     },
     "metadata": {},
     "output_type": "display_data"
    },
    {
     "data": {
      "text/html": [
       "There are <strong>151 Unique Agencies</strong>"
      ],
      "text/plain": [
       "<IPython.core.display.HTML object>"
      ]
     },
     "metadata": {},
     "output_type": "display_data"
    },
    {
     "data": {
      "text/html": [
       "Out of <strong>3457</strong> obligations, <strong>65 are transit-related</strong>.<br><strong>Metropolitan Transportation Commission</strong> has the <strong>highest transit</strong> obligations."
      ],
      "text/plain": [
       "<IPython.core.display.HTML object>"
      ]
     },
     "metadata": {},
     "output_type": "display_data"
    },
    {
     "data": {
      "text/html": [
       "There are <strong>8 agencies have over 93.00</strong>obligations (95th percentile) since 2011.0"
      ],
      "text/plain": [
       "<IPython.core.display.HTML object>"
      ]
     },
     "metadata": {},
     "output_type": "display_data"
    },
    {
     "data": {
      "text/html": [
       "There are <strong>9 agencies have less than 2.00</strong> obligations (5th percentile) since 2011.0"
      ],
      "text/plain": [
       "<IPython.core.display.HTML object>"
      ]
     },
     "metadata": {},
     "output_type": "display_data"
    },
    {
     "data": {
      "text/html": [
       "<h4><strong>Number of Unique Prefix Codes by Agency</strong></h4>"
      ],
      "text/plain": [
       "<IPython.core.display.HTML object>"
      ]
     },
     "metadata": {},
     "output_type": "display_data"
    },
    {
     "data": {
      "text/html": [
       "<style type=\"text/css\">\n",
       "#T_5bb8b th {\n",
       "  text-align: center;\n",
       "}\n",
       "#T_5bb8b_row0_col0, #T_5bb8b_row0_col1, #T_5bb8b_row1_col0, #T_5bb8b_row1_col1, #T_5bb8b_row2_col0, #T_5bb8b_row2_col1, #T_5bb8b_row3_col0, #T_5bb8b_row3_col1, #T_5bb8b_row4_col0, #T_5bb8b_row4_col1 {\n",
       "  text-align: center;\n",
       "}\n",
       "</style>\n",
       "<table id=\"T_5bb8b\">\n",
       "  <thead>\n",
       "    <tr>\n",
       "      <th id=\"T_5bb8b_level0_col0\" class=\"col_heading level0 col0\" >Agency</th>\n",
       "      <th id=\"T_5bb8b_level0_col1\" class=\"col_heading level0 col1\" >Number Of Unqiue Prefix Codes</th>\n",
       "    </tr>\n",
       "  </thead>\n",
       "  <tbody>\n",
       "    <tr>\n",
       "      <td id=\"T_5bb8b_row0_col0\" class=\"data row0 col0\" >Contra Costa County</td>\n",
       "      <td id=\"T_5bb8b_row0_col1\" class=\"data row0 col1\" >18</td>\n",
       "    </tr>\n",
       "    <tr>\n",
       "      <td id=\"T_5bb8b_row1_col0\" class=\"data row1 col0\" >San Francisco County</td>\n",
       "      <td id=\"T_5bb8b_row1_col1\" class=\"data row1 col1\" >17</td>\n",
       "    </tr>\n",
       "    <tr>\n",
       "      <td id=\"T_5bb8b_row2_col0\" class=\"data row2 col0\" >San Jose</td>\n",
       "      <td id=\"T_5bb8b_row2_col1\" class=\"data row2 col1\" >17</td>\n",
       "    </tr>\n",
       "    <tr>\n",
       "      <td id=\"T_5bb8b_row3_col0\" class=\"data row3 col0\" >Santa Clara County</td>\n",
       "      <td id=\"T_5bb8b_row3_col1\" class=\"data row3 col1\" >17</td>\n",
       "    </tr>\n",
       "    <tr>\n",
       "      <td id=\"T_5bb8b_row4_col0\" class=\"data row4 col0\" >Alameda County</td>\n",
       "      <td id=\"T_5bb8b_row4_col1\" class=\"data row4 col1\" >16</td>\n",
       "    </tr>\n",
       "  </tbody>\n",
       "</table>\n"
      ],
      "text/plain": [
       "<IPython.core.display.HTML object>"
      ]
     },
     "metadata": {},
     "output_type": "display_data"
    },
    {
     "data": {
      "text/html": [
       "<h4><strong>Number of Unique Agencies by Prefix Codes</strong></h4>"
      ],
      "text/plain": [
       "<IPython.core.display.HTML object>"
      ]
     },
     "metadata": {},
     "output_type": "display_data"
    },
    {
     "data": {
      "text/html": [
       "<style type=\"text/css\">\n",
       "#T_b57e7 th {\n",
       "  text-align: center;\n",
       "}\n",
       "#T_b57e7_row0_col0, #T_b57e7_row0_col1, #T_b57e7_row1_col0, #T_b57e7_row1_col1, #T_b57e7_row2_col0, #T_b57e7_row2_col1, #T_b57e7_row3_col0, #T_b57e7_row3_col1, #T_b57e7_row4_col0, #T_b57e7_row4_col1 {\n",
       "  text-align: center;\n",
       "}\n",
       "</style>\n",
       "<table id=\"T_b57e7\">\n",
       "  <thead>\n",
       "    <tr>\n",
       "      <th id=\"T_b57e7_level0_col0\" class=\"col_heading level0 col0\" >Prefix</th>\n",
       "      <th id=\"T_b57e7_level0_col1\" class=\"col_heading level0 col1\" >Number Of Unqiue Agencies</th>\n",
       "    </tr>\n",
       "  </thead>\n",
       "  <tbody>\n",
       "    <tr>\n",
       "      <td id=\"T_b57e7_row0_col0\" class=\"data row0 col0\" >STPL</td>\n",
       "      <td id=\"T_b57e7_row0_col1\" class=\"data row0 col1\" >112</td>\n",
       "    </tr>\n",
       "    <tr>\n",
       "      <td id=\"T_b57e7_row1_col0\" class=\"data row1 col0\" >CML</td>\n",
       "      <td id=\"T_b57e7_row1_col1\" class=\"data row1 col1\" >90</td>\n",
       "    </tr>\n",
       "    <tr>\n",
       "      <td id=\"T_b57e7_row2_col0\" class=\"data row2 col0\" >HSIPL</td>\n",
       "      <td id=\"T_b57e7_row2_col1\" class=\"data row2 col1\" >52</td>\n",
       "    </tr>\n",
       "    <tr>\n",
       "      <td id=\"T_b57e7_row3_col0\" class=\"data row3 col0\" >BRLS</td>\n",
       "      <td id=\"T_b57e7_row3_col1\" class=\"data row3 col1\" >32</td>\n",
       "    </tr>\n",
       "    <tr>\n",
       "      <td id=\"T_b57e7_row4_col0\" class=\"data row4 col0\" >RPSTPL</td>\n",
       "      <td id=\"T_b57e7_row4_col1\" class=\"data row4 col1\" >30</td>\n",
       "    </tr>\n",
       "  </tbody>\n",
       "</table>\n"
      ],
      "text/plain": [
       "<IPython.core.display.HTML object>"
      ]
     },
     "metadata": {},
     "output_type": "display_data"
    },
    {
     "data": {
      "text/html": [
       "<h4><strong>Top 5 Types of Work</strong></h4>"
      ],
      "text/plain": [
       "<IPython.core.display.HTML object>"
      ]
     },
     "metadata": {},
     "output_type": "display_data"
    },
    {
     "data": {
      "text/html": [
       "<style type=\"text/css\">\n",
       "#T_12c00 th {\n",
       "  text-align: center;\n",
       "}\n",
       "#T_12c00_row0_col0, #T_12c00_row1_col0, #T_12c00_row2_col0, #T_12c00_row3_col0, #T_12c00_row4_col0 {\n",
       "  text-align: center;\n",
       "}\n",
       "</style>\n",
       "<table id=\"T_12c00\">\n",
       "  <thead>\n",
       "    <tr>\n",
       "      <th id=\"T_12c00_level0_col0\" class=\"col_heading level0 col0\" >Type Of Work</th>\n",
       "    </tr>\n",
       "  </thead>\n",
       "  <tbody>\n",
       "    <tr>\n",
       "      <td id=\"T_12c00_row0_col0\" class=\"data row0 col0\" >FTA Transfer</td>\n",
       "    </tr>\n",
       "    <tr>\n",
       "      <td id=\"T_12c00_row1_col0\" class=\"data row1 col0\" >Bridge Replacement</td>\n",
       "    </tr>\n",
       "    <tr>\n",
       "      <td id=\"T_12c00_row2_col0\" class=\"data row2 col0\" >Road Rehabilitation</td>\n",
       "    </tr>\n",
       "    <tr>\n",
       "      <td id=\"T_12c00_row3_col0\" class=\"data row3 col0\" >Pavement Rehabilitation</td>\n",
       "    </tr>\n",
       "    <tr>\n",
       "      <td id=\"T_12c00_row4_col0\" class=\"data row4 col0\" >Seismic Retrofit</td>\n",
       "    </tr>\n",
       "  </tbody>\n",
       "</table>\n"
      ],
      "text/plain": [
       "<IPython.core.display.HTML object>"
      ]
     },
     "metadata": {},
     "output_type": "display_data"
    }
   ],
   "source": [
    "display(HTML(\"<h2>Quick Stats</h2>\"))\n",
    "\n",
    "display(\n",
    "    HTML(\n",
    "        f\"There are <strong>{(df.primary_agency_name.nunique())} Unique Agencies</strong>\"\n",
    "    )\n",
    ")\n",
    "\n",
    "transit = df >> filter(_.transit == 1)\n",
    "\n",
    "def find_transit(df):\n",
    "    if (len(transit)) == 0: \n",
    "        return display((HTML(f\"Out of <strong>{len(df)}</strong> obligations,\" \n",
    "                             f\" <strong>0 are transit realted</strong>\")))\n",
    "    \n",
    "    else:\n",
    "        return display(\n",
    "            HTML(\n",
    "                f\"Out of <strong>{len(df)}</strong> obligations, <strong>{len(transit)} are transit-related</strong>.\"\n",
    "                f\"<br><strong>{(transit>>count(_.primary_agency_name)>>arrange(-_.n)).iloc[0, 0]}</strong> \"\n",
    "                f\"has the <strong>highest transit</strong> obligations.\"\n",
    "            ))\n",
    "    \n",
    "find_transit(df)\n",
    "\n",
    "q = df >> count(_.primary_agency_name) >> arrange(_.n)\n",
    "\n",
    "q2 = q.n.quantile(0.95)\n",
    "\n",
    "display(\n",
    "    HTML(\n",
    "        f\"There are <strong>{len(q>>filter(_.n> (q2)))} agencies have over {('%.2f'%(q2))}</strong>\" \n",
    "        f\"obligations (95th percentile) since {(df.prepared_y.min())}\"\n",
    "    )\n",
    ")\n",
    "\n",
    "q3 = q.n.quantile(0.1)\n",
    "display(\n",
    "    HTML(\n",
    "        (\n",
    "            f\"There are <strong>{len(q>>filter(_.n< (q3)))} agencies have less than\"\n",
    "            f\" {('%.2f'%(q3))}</strong> obligations (5th percentile) since {(df.prepared_y.min())}\"\n",
    "        )\n",
    "    )\n",
    ")\n",
    "\n",
    "## tables\n",
    "display(HTML(\"<h4><strong>Number of Unique Prefix Codes by Agency</strong></h4>\"))\n",
    "nunique_prefix_codes = ((_dla_utils.get_nunique(df, \"prefix\", \"primary_agency_name\"))\n",
    "                        .rename(columns={\"primary_agency_name\": \"Agency\", \"n\": \"Number of Unqiue Prefix Codes\"})\n",
    "                        .head(5))\n",
    "display(HTML(_dla_utils.pretify_tables(nunique_prefix_codes)))\n",
    "\n",
    "display(HTML(\"<h4><strong>Number of Unique Agencies by Prefix Codes</strong></h4>\"))\n",
    "prefix_codes = ((_dla_utils.get_nunique(df, \"primary_agency_name\", \"prefix\"))\n",
    "                .rename(columns={\"prefix\": \"Prefix\", \"n\": \"Number of Unqiue Agencies\"})\n",
    "                .head(5))\n",
    "display(HTML(_dla_utils.pretify_tables(prefix_codes)))\n",
    "\n",
    "\n",
    "display(HTML(\"<h4><strong>Top 5 Types of Work</strong></h4>\"))\n",
    "work_types = (\n",
    "    (df >> count(_.type_of_work) >> arrange(-_.n) >> select(_.type_of_work))\n",
    "    .rename(columns={\"type_of_work\": \"Type of Work\"})\n",
    "    .head(5)\n",
    ")\n",
    "display(HTML(_dla_utils.pretify_tables(work_types)))\n",
    "# get rid of index using:\n",
    "## https://stackoverflow.com/questions/24644656/how-to-print-pandas-dataframe-without-index\n"
   ]
  },
  {
   "cell_type": "markdown",
   "id": "52a161a2-876a-4b42-9c93-3221dce17638",
   "metadata": {
    "papermill": {
     "duration": 0.024327,
     "end_time": "2022-05-27T20:00:02.949145",
     "exception": false,
     "start_time": "2022-05-27T20:00:02.924818",
     "status": "completed"
    },
    "tags": []
   },
   "source": [
    "## Obligations\n",
    "***"
   ]
  },
  {
   "cell_type": "markdown",
   "id": "379b61e3-1c1b-4683-b78f-8dee0683f064",
   "metadata": {
    "papermill": {
     "duration": 0.02329,
     "end_time": "2022-05-27T20:00:02.994956",
     "exception": false,
     "start_time": "2022-05-27T20:00:02.971666",
     "status": "completed"
    },
    "tags": []
   },
   "source": [
    "Obligations indicate a unique entry in the E-76 dataset. By counting the obligations for each year, district, and organization, we can see what the volume each as well which organizations are the most and last frequent customers. \n",
    "\n",
    "Metrics:\n",
    "* Obligations by Year\n",
    "* Number of Unique Agencies by District\n",
    "* Agencies With The Most Obligations"
   ]
  },
  {
   "cell_type": "markdown",
   "id": "81ad520b-db91-45b8-a598-a6577cccc24e",
   "metadata": {
    "papermill": {
     "duration": 0.023233,
     "end_time": "2022-05-27T20:00:03.044164",
     "exception": false,
     "start_time": "2022-05-27T20:00:03.020931",
     "status": "completed"
    },
    "tags": []
   },
   "source": [
    "### Number of Obligations by Year"
   ]
  },
  {
   "cell_type": "code",
   "execution_count": 7,
   "id": "ae85287b-0772-4595-8ea2-ccba83dd22cf",
   "metadata": {
    "execution": {
     "iopub.execute_input": "2022-05-27T20:00:03.095911Z",
     "iopub.status.busy": "2022-05-27T20:00:03.095002Z",
     "iopub.status.idle": "2022-05-27T20:00:03.135177Z",
     "shell.execute_reply": "2022-05-27T20:00:03.134380Z"
    },
    "jupyter": {
     "source_hidden": true
    },
    "papermill": {
     "duration": 0.070071,
     "end_time": "2022-05-27T20:00:03.136996",
     "exception": false,
     "start_time": "2022-05-27T20:00:03.066925",
     "status": "completed"
    },
    "tags": [
     "remove_input"
    ]
   },
   "outputs": [
    {
     "data": {
      "text/html": [
       "\n",
       "<div id=\"altair-viz-34258d4f4f7e4138997e215030a5742f\"></div>\n",
       "<script type=\"text/javascript\">\n",
       "  var VEGA_DEBUG = (typeof VEGA_DEBUG == \"undefined\") ? {} : VEGA_DEBUG;\n",
       "  (function(spec, embedOpt){\n",
       "    let outputDiv = document.currentScript.previousElementSibling;\n",
       "    if (outputDiv.id !== \"altair-viz-34258d4f4f7e4138997e215030a5742f\") {\n",
       "      outputDiv = document.getElementById(\"altair-viz-34258d4f4f7e4138997e215030a5742f\");\n",
       "    }\n",
       "    const paths = {\n",
       "      \"vega\": \"https://cdn.jsdelivr.net/npm//vega@5?noext\",\n",
       "      \"vega-lib\": \"https://cdn.jsdelivr.net/npm//vega-lib?noext\",\n",
       "      \"vega-lite\": \"https://cdn.jsdelivr.net/npm//vega-lite@4.17.0?noext\",\n",
       "      \"vega-embed\": \"https://cdn.jsdelivr.net/npm//vega-embed@6?noext\",\n",
       "    };\n",
       "\n",
       "    function maybeLoadScript(lib, version) {\n",
       "      var key = `${lib.replace(\"-\", \"\")}_version`;\n",
       "      return (VEGA_DEBUG[key] == version) ?\n",
       "        Promise.resolve(paths[lib]) :\n",
       "        new Promise(function(resolve, reject) {\n",
       "          var s = document.createElement('script');\n",
       "          document.getElementsByTagName(\"head\")[0].appendChild(s);\n",
       "          s.async = true;\n",
       "          s.onload = () => {\n",
       "            VEGA_DEBUG[key] = version;\n",
       "            return resolve(paths[lib]);\n",
       "          };\n",
       "          s.onerror = () => reject(`Error loading script: ${paths[lib]}`);\n",
       "          s.src = paths[lib];\n",
       "        });\n",
       "    }\n",
       "\n",
       "    function showError(err) {\n",
       "      outputDiv.innerHTML = `<div class=\"error\" style=\"color:red;\">${err}</div>`;\n",
       "      throw err;\n",
       "    }\n",
       "\n",
       "    function displayChart(vegaEmbed) {\n",
       "      vegaEmbed(outputDiv, spec, embedOpt)\n",
       "        .catch(err => showError(`Javascript Error: ${err.message}<br>This usually means there's a typo in your chart specification. See the javascript console for the full traceback.`));\n",
       "    }\n",
       "\n",
       "    if(typeof define === \"function\" && define.amd) {\n",
       "      requirejs.config({paths});\n",
       "      require([\"vega-embed\"], displayChart, err => showError(`Error loading script: ${err.message}`));\n",
       "    } else {\n",
       "      maybeLoadScript(\"vega\", \"5\")\n",
       "        .then(() => maybeLoadScript(\"vega-lite\", \"4.17.0\"))\n",
       "        .then(() => maybeLoadScript(\"vega-embed\", \"6\"))\n",
       "        .catch(showError)\n",
       "        .then(() => displayChart(vegaEmbed));\n",
       "    }\n",
       "  })({\"config\": {\"view\": {\"continuousWidth\": 400, \"continuousHeight\": 300}, \"axis\": {\"domainColor\": \"#cbcbcb\", \"grid\": true, \"gridColor\": \"#cbcbcb\", \"gridWidth\": 1, \"labelColor\": \"#474747\", \"labelFont\": \"Nunito Sans\", \"labelFontSize\": 10, \"labelPadding\": 4, \"tickColor\": \"#cbcbcb\", \"tickSize\": 10, \"titleColor\": \"#333\", \"titleFont\": \"Raleway\", \"titleFontSize\": 12, \"titlePadding\": 10}, \"axisBand\": {\"grid\": false}, \"background\": \"white\", \"font\": \"Raleway\", \"header\": {\"labelFont\": \"Nunito Sans\", \"titleFont\": \"Raleway\"}, \"legend\": {\"labelColor\": \"#333\", \"labelFont\": \"Nunito Sans\", \"labelFontSize\": 11, \"labelLimit\": 0, \"padding\": 1, \"symbolSize\": 30, \"symbolType\": \"square\", \"titleColor\": \"#333\", \"titleFont\": \"Raleway\", \"titleFontSize\": 14, \"titlePadding\": 10}, \"title\": {\"anchor\": \"middle\", \"font\": \"Raleway\", \"fontSize\": 18, \"fontWeight\": 300, \"offset\": 20}}, \"data\": {\"name\": \"data-5744e5ff367795da3891b7c87fa82cbd\"}, \"mark\": \"line\", \"encoding\": {\"tooltip\": [{\"field\": \"Year\", \"type\": \"quantitative\"}, {\"field\": \"count\", \"type\": \"quantitative\"}], \"x\": {\"field\": \"Year\", \"title\": \"Prepared Year\", \"type\": \"ordinal\"}, \"y\": {\"field\": \"count\", \"title\": \"Count\", \"type\": \"quantitative\"}}, \"height\": 250, \"width\": 400, \"$schema\": \"https://vega.github.io/schema/vega-lite/v4.17.0.json\", \"datasets\": {\"data-5744e5ff367795da3891b7c87fa82cbd\": [{\"Year\": 2014.0, \"count\": 487, \"variable\": \"prepared_y\"}, {\"Year\": 2018.0, \"count\": 454, \"variable\": \"prepared_y\"}, {\"Year\": 2015.0, \"count\": 449, \"variable\": \"prepared_y\"}, {\"Year\": 2016.0, \"count\": 414, \"variable\": \"prepared_y\"}, {\"Year\": 2021.0, \"count\": 409, \"variable\": \"prepared_y\"}, {\"Year\": 2019.0, \"count\": 400, \"variable\": \"prepared_y\"}, {\"Year\": 2017.0, \"count\": 367, \"variable\": \"prepared_y\"}, {\"Year\": 2020.0, \"count\": 286, \"variable\": \"prepared_y\"}, {\"Year\": 2022.0, \"count\": 146, \"variable\": \"prepared_y\"}, {\"Year\": 2013.0, \"count\": 38, \"variable\": \"prepared_y\"}, {\"Year\": 2012.0, \"count\": 4, \"variable\": \"prepared_y\"}, {\"Year\": 2011.0, \"count\": 1, \"variable\": \"prepared_y\"}]}}, {\"mode\": \"vega-lite\"});\n",
       "</script>"
      ],
      "text/plain": [
       "alt.Chart(...)"
      ]
     },
     "metadata": {},
     "output_type": "display_data"
    }
   ],
   "source": [
    " #Line chart for Obligations by Year\n",
    "chart_df = (df_top>>filter(_.variable=='prepared_y')).rename(columns= {\"value\":\"Year\"})\n",
    "    \n",
    "chart1= (_dla_utils.basic_line_chart_test_no_save(chart_df, 'Year', 'count', district)).encode(x=alt.X('Year:O', title='Prepared Year'))\n",
    "display(chart1)"
   ]
  },
  {
   "cell_type": "markdown",
   "id": "ff0a6bf9-ddc9-4b6c-b2e1-77de18cf6f80",
   "metadata": {
    "papermill": {
     "duration": 0.028398,
     "end_time": "2022-05-27T20:00:03.188596",
     "exception": false,
     "start_time": "2022-05-27T20:00:03.160198",
     "status": "completed"
    },
    "tags": []
   },
   "source": [
    "### Number of Unique Agencies by District"
   ]
  },
  {
   "cell_type": "code",
   "execution_count": 8,
   "id": "0bc7e34d-545e-4afd-92e9-a17630d0ae89",
   "metadata": {
    "execution": {
     "iopub.execute_input": "2022-05-27T20:00:03.243260Z",
     "iopub.status.busy": "2022-05-27T20:00:03.242400Z",
     "iopub.status.idle": "2022-05-27T20:00:03.297228Z",
     "shell.execute_reply": "2022-05-27T20:00:03.296314Z"
    },
    "jupyter": {
     "source_hidden": true
    },
    "papermill": {
     "duration": 0.084525,
     "end_time": "2022-05-27T20:00:03.299173",
     "exception": false,
     "start_time": "2022-05-27T20:00:03.214648",
     "status": "completed"
    },
    "tags": [
     "remove_input"
    ]
   },
   "outputs": [
    {
     "data": {
      "text/html": [
       "\n",
       "<div id=\"altair-viz-7e929d0104cd45e99589a271cae28bed\"></div>\n",
       "<script type=\"text/javascript\">\n",
       "  var VEGA_DEBUG = (typeof VEGA_DEBUG == \"undefined\") ? {} : VEGA_DEBUG;\n",
       "  (function(spec, embedOpt){\n",
       "    let outputDiv = document.currentScript.previousElementSibling;\n",
       "    if (outputDiv.id !== \"altair-viz-7e929d0104cd45e99589a271cae28bed\") {\n",
       "      outputDiv = document.getElementById(\"altair-viz-7e929d0104cd45e99589a271cae28bed\");\n",
       "    }\n",
       "    const paths = {\n",
       "      \"vega\": \"https://cdn.jsdelivr.net/npm//vega@5?noext\",\n",
       "      \"vega-lib\": \"https://cdn.jsdelivr.net/npm//vega-lib?noext\",\n",
       "      \"vega-lite\": \"https://cdn.jsdelivr.net/npm//vega-lite@4.17.0?noext\",\n",
       "      \"vega-embed\": \"https://cdn.jsdelivr.net/npm//vega-embed@6?noext\",\n",
       "    };\n",
       "\n",
       "    function maybeLoadScript(lib, version) {\n",
       "      var key = `${lib.replace(\"-\", \"\")}_version`;\n",
       "      return (VEGA_DEBUG[key] == version) ?\n",
       "        Promise.resolve(paths[lib]) :\n",
       "        new Promise(function(resolve, reject) {\n",
       "          var s = document.createElement('script');\n",
       "          document.getElementsByTagName(\"head\")[0].appendChild(s);\n",
       "          s.async = true;\n",
       "          s.onload = () => {\n",
       "            VEGA_DEBUG[key] = version;\n",
       "            return resolve(paths[lib]);\n",
       "          };\n",
       "          s.onerror = () => reject(`Error loading script: ${paths[lib]}`);\n",
       "          s.src = paths[lib];\n",
       "        });\n",
       "    }\n",
       "\n",
       "    function showError(err) {\n",
       "      outputDiv.innerHTML = `<div class=\"error\" style=\"color:red;\">${err}</div>`;\n",
       "      throw err;\n",
       "    }\n",
       "\n",
       "    function displayChart(vegaEmbed) {\n",
       "      vegaEmbed(outputDiv, spec, embedOpt)\n",
       "        .catch(err => showError(`Javascript Error: ${err.message}<br>This usually means there's a typo in your chart specification. See the javascript console for the full traceback.`));\n",
       "    }\n",
       "\n",
       "    if(typeof define === \"function\" && define.amd) {\n",
       "      requirejs.config({paths});\n",
       "      require([\"vega-embed\"], displayChart, err => showError(`Error loading script: ${err.message}`));\n",
       "    } else {\n",
       "      maybeLoadScript(\"vega\", \"5\")\n",
       "        .then(() => maybeLoadScript(\"vega-lite\", \"4.17.0\"))\n",
       "        .then(() => maybeLoadScript(\"vega-embed\", \"6\"))\n",
       "        .catch(showError)\n",
       "        .then(() => displayChart(vegaEmbed));\n",
       "    }\n",
       "  })({\"config\": {\"view\": {\"continuousWidth\": 400, \"continuousHeight\": 300}, \"axis\": {\"domainColor\": \"#cbcbcb\", \"grid\": true, \"gridColor\": \"#cbcbcb\", \"gridWidth\": 1, \"labelColor\": \"#474747\", \"labelFont\": \"Nunito Sans\", \"labelFontSize\": 10, \"labelPadding\": 4, \"tickColor\": \"#cbcbcb\", \"tickSize\": 10, \"titleColor\": \"#333\", \"titleFont\": \"Raleway\", \"titleFontSize\": 12, \"titlePadding\": 10}, \"axisBand\": {\"grid\": false}, \"background\": \"white\", \"font\": \"Raleway\", \"header\": {\"labelFont\": \"Nunito Sans\", \"titleFont\": \"Raleway\"}, \"legend\": {\"labelColor\": \"#333\", \"labelFont\": \"Nunito Sans\", \"labelFontSize\": 11, \"labelLimit\": 0, \"padding\": 1, \"symbolSize\": 30, \"symbolType\": \"square\", \"titleColor\": \"#333\", \"titleFont\": \"Raleway\", \"titleFontSize\": 14, \"titlePadding\": 10}, \"title\": {\"anchor\": \"middle\", \"font\": \"Raleway\", \"fontSize\": 18, \"fontWeight\": 300, \"offset\": 20}}, \"data\": {\"name\": \"data-8015118ff12d4cacf13808efaa6ceafb\"}, \"mark\": \"bar\", \"encoding\": {\"color\": {\"field\": \"District\", \"legend\": {\"title\": \"Prepared Year\"}, \"scale\": {\"range\": [\"#B9D6DF\", \"#8CBCCB\", \"#2EA8CE\", \"#136C97\", \"#0B405B\"]}, \"type\": \"nominal\"}, \"column\": {\"field\": \"District\", \"type\": \"nominal\"}, \"tooltip\": [{\"field\": \"prepared_y\", \"type\": \"quantitative\"}, {\"field\": \"Count\", \"type\": \"quantitative\"}], \"x\": {\"field\": \"prepared_y\", \"title\": \"Prepared Year\", \"type\": \"ordinal\"}, \"y\": {\"field\": \"Count\", \"title\": \"Number of Unique Agencies\", \"type\": \"quantitative\"}}, \"height\": 250, \"width\": 400, \"$schema\": \"https://vega.github.io/schema/vega-lite/v4.17.0.json\", \"datasets\": {\"data-8015118ff12d4cacf13808efaa6ceafb\": [{\"prepared_y\": 2022.0, \"District\": 4, \"Count\": 66}, {\"prepared_y\": 2021.0, \"District\": 4, \"Count\": 102}, {\"prepared_y\": 2020.0, \"District\": 4, \"Count\": 89}, {\"prepared_y\": 2019.0, \"District\": 4, \"Count\": 93}, {\"prepared_y\": 2018.0, \"District\": 4, \"Count\": 97}, {\"prepared_y\": 2017.0, \"District\": 4, \"Count\": 97}, {\"prepared_y\": 2016.0, \"District\": 4, \"Count\": 113}, {\"prepared_y\": 2015.0, \"District\": 4, \"Count\": 109}, {\"prepared_y\": 2014.0, \"District\": 4, \"Count\": 108}, {\"prepared_y\": 2013.0, \"District\": 4, \"Count\": 28}, {\"prepared_y\": 2012.0, \"District\": 4, \"Count\": 3}, {\"prepared_y\": 2011.0, \"District\": 4, \"Count\": 1}]}}, {\"mode\": \"vega-lite\"});\n",
       "</script>"
      ],
      "text/plain": [
       "alt.Chart(...)"
      ]
     },
     "metadata": {},
     "output_type": "display_data"
    }
   ],
   "source": [
    "# Unique Agencies by Dist\n",
    "dist_years_agency = ((\n",
    "        df\n",
    "        >> group_by(_.prepared_y, _.dist)\n",
    "        >> summarize(n=_.primary_agency_name.nunique())\n",
    "        >> arrange(-_.prepared_y)\n",
    "    )\n",
    "        .rename(columns={'dist':'District', 'n':'Count'})\n",
    "    )\n",
    "chart10 = (alt.Chart(dist_years_agency).mark_bar().encode(\n",
    "        column='District:N',\n",
    "        x=alt.X('prepared_y:O', title='Prepared Year'),\n",
    "        y=alt.Y('Count:Q', title='Number of Unique Agencies'),\n",
    "        color = alt.Color(\"District:N\", \n",
    "                              scale=alt.Scale(\n",
    "                                  range=altair_utils.CALITP_SEQUENTIAL_COLORS),  \n",
    "                               legend=alt.Legend(title=\"Prepared Year\")\n",
    "                              )))\n",
    "                              \n",
    "chart10 = styleguide.preset_chart_config(chart10)\n",
    "chart10 = _dla_utils.add_tooltip(chart10, 'prepared_y', 'Count')\n",
    "\n",
    "display(chart10)"
   ]
  },
  {
   "cell_type": "markdown",
   "id": "70c59c39-590d-4136-aa09-ee6ed5afc872",
   "metadata": {
    "papermill": {
     "duration": 0.02783,
     "end_time": "2022-05-27T20:00:03.351310",
     "exception": false,
     "start_time": "2022-05-27T20:00:03.323480",
     "status": "completed"
    },
    "tags": []
   },
   "source": [
    "### Agencies With The Most Obligations"
   ]
  },
  {
   "cell_type": "code",
   "execution_count": 9,
   "id": "faa4758e-8a41-44f8-aec4-b8cc4d75d906",
   "metadata": {
    "execution": {
     "iopub.execute_input": "2022-05-27T20:00:03.407250Z",
     "iopub.status.busy": "2022-05-27T20:00:03.406374Z",
     "iopub.status.idle": "2022-05-27T20:00:03.437324Z",
     "shell.execute_reply": "2022-05-27T20:00:03.436460Z"
    },
    "jupyter": {
     "source_hidden": true
    },
    "papermill": {
     "duration": 0.063204,
     "end_time": "2022-05-27T20:00:03.440894",
     "exception": false,
     "start_time": "2022-05-27T20:00:03.377690",
     "status": "completed"
    },
    "tags": [
     "remove_input"
    ]
   },
   "outputs": [
    {
     "data": {
      "text/html": [
       "\n",
       "<div id=\"altair-viz-47dae88bc0614476bf520e8a057b92e4\"></div>\n",
       "<script type=\"text/javascript\">\n",
       "  var VEGA_DEBUG = (typeof VEGA_DEBUG == \"undefined\") ? {} : VEGA_DEBUG;\n",
       "  (function(spec, embedOpt){\n",
       "    let outputDiv = document.currentScript.previousElementSibling;\n",
       "    if (outputDiv.id !== \"altair-viz-47dae88bc0614476bf520e8a057b92e4\") {\n",
       "      outputDiv = document.getElementById(\"altair-viz-47dae88bc0614476bf520e8a057b92e4\");\n",
       "    }\n",
       "    const paths = {\n",
       "      \"vega\": \"https://cdn.jsdelivr.net/npm//vega@5?noext\",\n",
       "      \"vega-lib\": \"https://cdn.jsdelivr.net/npm//vega-lib?noext\",\n",
       "      \"vega-lite\": \"https://cdn.jsdelivr.net/npm//vega-lite@4.17.0?noext\",\n",
       "      \"vega-embed\": \"https://cdn.jsdelivr.net/npm//vega-embed@6?noext\",\n",
       "    };\n",
       "\n",
       "    function maybeLoadScript(lib, version) {\n",
       "      var key = `${lib.replace(\"-\", \"\")}_version`;\n",
       "      return (VEGA_DEBUG[key] == version) ?\n",
       "        Promise.resolve(paths[lib]) :\n",
       "        new Promise(function(resolve, reject) {\n",
       "          var s = document.createElement('script');\n",
       "          document.getElementsByTagName(\"head\")[0].appendChild(s);\n",
       "          s.async = true;\n",
       "          s.onload = () => {\n",
       "            VEGA_DEBUG[key] = version;\n",
       "            return resolve(paths[lib]);\n",
       "          };\n",
       "          s.onerror = () => reject(`Error loading script: ${paths[lib]}`);\n",
       "          s.src = paths[lib];\n",
       "        });\n",
       "    }\n",
       "\n",
       "    function showError(err) {\n",
       "      outputDiv.innerHTML = `<div class=\"error\" style=\"color:red;\">${err}</div>`;\n",
       "      throw err;\n",
       "    }\n",
       "\n",
       "    function displayChart(vegaEmbed) {\n",
       "      vegaEmbed(outputDiv, spec, embedOpt)\n",
       "        .catch(err => showError(`Javascript Error: ${err.message}<br>This usually means there's a typo in your chart specification. See the javascript console for the full traceback.`));\n",
       "    }\n",
       "\n",
       "    if(typeof define === \"function\" && define.amd) {\n",
       "      requirejs.config({paths});\n",
       "      require([\"vega-embed\"], displayChart, err => showError(`Error loading script: ${err.message}`));\n",
       "    } else {\n",
       "      maybeLoadScript(\"vega\", \"5\")\n",
       "        .then(() => maybeLoadScript(\"vega-lite\", \"4.17.0\"))\n",
       "        .then(() => maybeLoadScript(\"vega-embed\", \"6\"))\n",
       "        .catch(showError)\n",
       "        .then(() => displayChart(vegaEmbed));\n",
       "    }\n",
       "  })({\"config\": {\"view\": {\"continuousWidth\": 400, \"continuousHeight\": 300}, \"axis\": {\"domainColor\": \"#cbcbcb\", \"grid\": true, \"gridColor\": \"#cbcbcb\", \"gridWidth\": 1, \"labelColor\": \"#474747\", \"labelFont\": \"Nunito Sans\", \"labelFontSize\": 10, \"labelPadding\": 4, \"tickColor\": \"#cbcbcb\", \"tickSize\": 10, \"titleColor\": \"#333\", \"titleFont\": \"Raleway\", \"titleFontSize\": 12, \"titlePadding\": 10}, \"axisBand\": {\"grid\": false}, \"background\": \"white\", \"font\": \"Raleway\", \"header\": {\"labelFont\": \"Nunito Sans\", \"titleFont\": \"Raleway\"}, \"legend\": {\"labelColor\": \"#333\", \"labelFont\": \"Nunito Sans\", \"labelFontSize\": 11, \"labelLimit\": 0, \"padding\": 1, \"symbolSize\": 30, \"symbolType\": \"square\", \"titleColor\": \"#333\", \"titleFont\": \"Raleway\", \"titleFontSize\": 14, \"titlePadding\": 10}, \"title\": {\"anchor\": \"middle\", \"font\": \"Raleway\", \"fontSize\": 18, \"fontWeight\": 300, \"offset\": 20}}, \"data\": {\"name\": \"data-61de40ccd4312f891cca6fbc94562b46\"}, \"mark\": \"bar\", \"encoding\": {\"color\": {\"field\": \"Agency\", \"legend\": {\"symbolLimit\": 10, \"title\": \"Agency\"}, \"scale\": {\"range\": [\"#2EA8CE\", \"#EB9F3C\", \"#F4D837\", \"#51BF9D\", \"#8CBCCB\", \"#9487C0\"]}, \"type\": \"nominal\"}, \"tooltip\": [{\"field\": \"Agency\", \"type\": \"nominal\"}, {\"field\": \"Number of Obligations\", \"type\": \"quantitative\"}], \"x\": {\"field\": \"Agency\", \"sort\": \"-y\", \"title\": \"Agency\", \"type\": \"nominal\"}, \"y\": {\"field\": \"Number of Obligations\", \"title\": \"Number Of Obligations\", \"type\": \"quantitative\"}}, \"height\": 250, \"width\": 400, \"$schema\": \"https://vega.github.io/schema/vega-lite/v4.17.0.json\", \"datasets\": {\"data-61de40ccd4312f891cca6fbc94562b46\": [{\"Agency\": \"Contra Costa County\", \"Number of Obligations\": 155, \"variable\": \"primary_agency_name\"}, {\"Agency\": \"Oakland\", \"Number of Obligations\": 147, \"variable\": \"primary_agency_name\"}, {\"Agency\": \"Metropolitan Transportation Commission\", \"Number of Obligations\": 145, \"variable\": \"primary_agency_name\"}, {\"Agency\": \"San Jose\", \"Number of Obligations\": 137, \"variable\": \"primary_agency_name\"}, {\"Agency\": \"Santa Clara County\", \"Number of Obligations\": 136, \"variable\": \"primary_agency_name\"}, {\"Agency\": \"Napa County\", \"Number of Obligations\": 116, \"variable\": \"primary_agency_name\"}, {\"Agency\": \"Sonoma County\", \"Number of Obligations\": 102, \"variable\": \"primary_agency_name\"}, {\"Agency\": \"City & County of San Francisco, MTA/Parking & Traffic\", \"Number of Obligations\": 96, \"variable\": \"primary_agency_name\"}, {\"Agency\": \"Marin County\", \"Number of Obligations\": 90, \"variable\": \"primary_agency_name\"}, {\"Agency\": \"Sunnyvale\", \"Number of Obligations\": 90, \"variable\": \"primary_agency_name\"}, {\"Agency\": \"Alameda County\", \"Number of Obligations\": 86, \"variable\": \"primary_agency_name\"}, {\"Agency\": \"San Francisco County\", \"Number of Obligations\": 79, \"variable\": \"primary_agency_name\"}, {\"Agency\": \"Solano County\", \"Number of Obligations\": 72, \"variable\": \"primary_agency_name\"}, {\"Agency\": \"Santa Clara Valley Transportation Authority\", \"Number of Obligations\": 56, \"variable\": \"primary_agency_name\"}, {\"Agency\": \"Vacaville\", \"Number of Obligations\": 48, \"variable\": \"primary_agency_name\"}, {\"Agency\": \"Fremont\", \"Number of Obligations\": 46, \"variable\": \"primary_agency_name\"}, {\"Agency\": \"Golden Gate Bridge, Highway And Transportation Distri\", \"Number of Obligations\": 44, \"variable\": \"primary_agency_name\"}, {\"Agency\": \"San Francisco Bay Area Rapid Transit District\", \"Number of Obligations\": 42, \"variable\": \"primary_agency_name\"}, {\"Agency\": \"Concord\", \"Number of Obligations\": 39, \"variable\": \"primary_agency_name\"}, {\"Agency\": \"Vallejo\", \"Number of Obligations\": 37, \"variable\": \"primary_agency_name\"}]}}, {\"mode\": \"vega-lite\"});\n",
       "</script>"
      ],
      "text/plain": [
       "alt.Chart(...)"
      ]
     },
     "metadata": {},
     "output_type": "display_data"
    }
   ],
   "source": [
    "#Bar chart Agencies With The Most Obligations\n",
    "chart_df = (df_top>>filter(_.variable=='primary_agency_name')).rename(columns={\"value\":\"Agency\",\n",
    "                                 \"count\":\"Number of Obligations\"})\n",
    "chart2 = (_dla_utils.basic_bar_chart_no_save(chart_df, 'Agency', 'Number of Obligations', 'Agency', district))\n",
    "    \n",
    "\n",
    "display(chart2)\n"
   ]
  },
  {
   "cell_type": "markdown",
   "id": "5a3bed5f-4325-47af-9cc7-683f9872817f",
   "metadata": {
    "papermill": {
     "duration": 0.026274,
     "end_time": "2022-05-27T20:00:03.492279",
     "exception": false,
     "start_time": "2022-05-27T20:00:03.466005",
     "status": "completed"
    },
    "tags": []
   },
   "source": [
    "## Prefix Codes\n",
    "***"
   ]
  },
  {
   "cell_type": "markdown",
   "id": "cfded756-3c93-4089-be41-68e19d28b304",
   "metadata": {
    "papermill": {
     "duration": 0.02477,
     "end_time": "2022-05-27T20:00:03.543679",
     "exception": false,
     "start_time": "2022-05-27T20:00:03.518909",
     "status": "completed"
    },
    "tags": []
   },
   "source": [
    "Prefix Codes refer to the program an obligation is in. Similar to the number of obligations, calcuating the unique prefix codes provides insight to how many progams DLA is involved in each year as well as workload at the district and organization level.\n",
    "\n",
    "Metrics: \n",
    "* Number of Unique Prefix Codes by Districts\n",
    "* Most Used Prefix Codes\n",
    "* Agencies With The Most Unique Prefix Codes"
   ]
  },
  {
   "cell_type": "markdown",
   "id": "f8cb2832-947d-4631-9b4c-c81fb118cab3",
   "metadata": {
    "papermill": {
     "duration": 0.025204,
     "end_time": "2022-05-27T20:00:03.596895",
     "exception": false,
     "start_time": "2022-05-27T20:00:03.571691",
     "status": "completed"
    },
    "tags": []
   },
   "source": [
    "### Number of Unique Prefix Codes by District"
   ]
  },
  {
   "cell_type": "code",
   "execution_count": 10,
   "id": "f661bd63-f8aa-4048-b035-03d5bf1b7e95",
   "metadata": {
    "execution": {
     "iopub.execute_input": "2022-05-27T20:00:03.651763Z",
     "iopub.status.busy": "2022-05-27T20:00:03.650790Z",
     "iopub.status.idle": "2022-05-27T20:00:03.708409Z",
     "shell.execute_reply": "2022-05-27T20:00:03.707616Z"
    },
    "jupyter": {
     "source_hidden": true
    },
    "papermill": {
     "duration": 0.087638,
     "end_time": "2022-05-27T20:00:03.710449",
     "exception": false,
     "start_time": "2022-05-27T20:00:03.622811",
     "status": "completed"
    },
    "tags": [
     "remove_input"
    ]
   },
   "outputs": [
    {
     "data": {
      "text/html": [
       "\n",
       "<div id=\"altair-viz-e3d885ab0f48426e9fcab4898d16a8be\"></div>\n",
       "<script type=\"text/javascript\">\n",
       "  var VEGA_DEBUG = (typeof VEGA_DEBUG == \"undefined\") ? {} : VEGA_DEBUG;\n",
       "  (function(spec, embedOpt){\n",
       "    let outputDiv = document.currentScript.previousElementSibling;\n",
       "    if (outputDiv.id !== \"altair-viz-e3d885ab0f48426e9fcab4898d16a8be\") {\n",
       "      outputDiv = document.getElementById(\"altair-viz-e3d885ab0f48426e9fcab4898d16a8be\");\n",
       "    }\n",
       "    const paths = {\n",
       "      \"vega\": \"https://cdn.jsdelivr.net/npm//vega@5?noext\",\n",
       "      \"vega-lib\": \"https://cdn.jsdelivr.net/npm//vega-lib?noext\",\n",
       "      \"vega-lite\": \"https://cdn.jsdelivr.net/npm//vega-lite@4.17.0?noext\",\n",
       "      \"vega-embed\": \"https://cdn.jsdelivr.net/npm//vega-embed@6?noext\",\n",
       "    };\n",
       "\n",
       "    function maybeLoadScript(lib, version) {\n",
       "      var key = `${lib.replace(\"-\", \"\")}_version`;\n",
       "      return (VEGA_DEBUG[key] == version) ?\n",
       "        Promise.resolve(paths[lib]) :\n",
       "        new Promise(function(resolve, reject) {\n",
       "          var s = document.createElement('script');\n",
       "          document.getElementsByTagName(\"head\")[0].appendChild(s);\n",
       "          s.async = true;\n",
       "          s.onload = () => {\n",
       "            VEGA_DEBUG[key] = version;\n",
       "            return resolve(paths[lib]);\n",
       "          };\n",
       "          s.onerror = () => reject(`Error loading script: ${paths[lib]}`);\n",
       "          s.src = paths[lib];\n",
       "        });\n",
       "    }\n",
       "\n",
       "    function showError(err) {\n",
       "      outputDiv.innerHTML = `<div class=\"error\" style=\"color:red;\">${err}</div>`;\n",
       "      throw err;\n",
       "    }\n",
       "\n",
       "    function displayChart(vegaEmbed) {\n",
       "      vegaEmbed(outputDiv, spec, embedOpt)\n",
       "        .catch(err => showError(`Javascript Error: ${err.message}<br>This usually means there's a typo in your chart specification. See the javascript console for the full traceback.`));\n",
       "    }\n",
       "\n",
       "    if(typeof define === \"function\" && define.amd) {\n",
       "      requirejs.config({paths});\n",
       "      require([\"vega-embed\"], displayChart, err => showError(`Error loading script: ${err.message}`));\n",
       "    } else {\n",
       "      maybeLoadScript(\"vega\", \"5\")\n",
       "        .then(() => maybeLoadScript(\"vega-lite\", \"4.17.0\"))\n",
       "        .then(() => maybeLoadScript(\"vega-embed\", \"6\"))\n",
       "        .catch(showError)\n",
       "        .then(() => displayChart(vegaEmbed));\n",
       "    }\n",
       "  })({\"config\": {\"view\": {\"continuousWidth\": 400, \"continuousHeight\": 300}, \"axis\": {\"domainColor\": \"#cbcbcb\", \"grid\": true, \"gridColor\": \"#cbcbcb\", \"gridWidth\": 1, \"labelColor\": \"#474747\", \"labelFont\": \"Nunito Sans\", \"labelFontSize\": 10, \"labelPadding\": 4, \"tickColor\": \"#cbcbcb\", \"tickSize\": 10, \"titleColor\": \"#333\", \"titleFont\": \"Raleway\", \"titleFontSize\": 12, \"titlePadding\": 10}, \"axisBand\": {\"grid\": false}, \"background\": \"white\", \"font\": \"Raleway\", \"header\": {\"labelFont\": \"Nunito Sans\", \"titleFont\": \"Raleway\"}, \"legend\": {\"labelColor\": \"#333\", \"labelFont\": \"Nunito Sans\", \"labelFontSize\": 11, \"labelLimit\": 0, \"padding\": 1, \"symbolSize\": 30, \"symbolType\": \"square\", \"titleColor\": \"#333\", \"titleFont\": \"Raleway\", \"titleFontSize\": 14, \"titlePadding\": 10}, \"title\": {\"anchor\": \"middle\", \"font\": \"Raleway\", \"fontSize\": 18, \"fontWeight\": 300, \"offset\": 20}}, \"data\": {\"name\": \"data-95534a96a6c3103bb4ba29867cebe80f\"}, \"mark\": \"bar\", \"encoding\": {\"color\": {\"field\": \"District\", \"legend\": {\"title\": \"District\"}, \"scale\": {\"range\": [\"#B9D6DF\", \"#8CBCCB\", \"#2EA8CE\", \"#136C97\", \"#0B405B\"]}, \"type\": \"nominal\"}, \"column\": {\"field\": \"District\", \"type\": \"nominal\"}, \"tooltip\": [{\"field\": \"prepared_y\", \"type\": \"quantitative\"}, {\"field\": \"Count\", \"type\": \"quantitative\"}], \"x\": {\"field\": \"prepared_y\", \"title\": \"Prepared Year\", \"type\": \"ordinal\"}, \"y\": {\"field\": \"Count\", \"title\": \"Number of Unique Agencies\", \"type\": \"quantitative\"}}, \"height\": 250, \"width\": 400, \"$schema\": \"https://vega.github.io/schema/vega-lite/v4.17.0.json\", \"datasets\": {\"data-95534a96a6c3103bb4ba29867cebe80f\": [{\"prepared_y\": 2022.0, \"District\": 4, \"Count\": 24}, {\"prepared_y\": 2021.0, \"District\": 4, \"Count\": 42}, {\"prepared_y\": 2020.0, \"District\": 4, \"Count\": 34}, {\"prepared_y\": 2019.0, \"District\": 4, \"Count\": 41}, {\"prepared_y\": 2018.0, \"District\": 4, \"Count\": 51}, {\"prepared_y\": 2017.0, \"District\": 4, \"Count\": 43}, {\"prepared_y\": 2016.0, \"District\": 4, \"Count\": 50}, {\"prepared_y\": 2015.0, \"District\": 4, \"Count\": 48}, {\"prepared_y\": 2014.0, \"District\": 4, \"Count\": 52}, {\"prepared_y\": 2013.0, \"District\": 4, \"Count\": 15}, {\"prepared_y\": 2012.0, \"District\": 4, \"Count\": 2}, {\"prepared_y\": 2011.0, \"District\": 4, \"Count\": 1}]}}, {\"mode\": \"vega-lite\"});\n",
       "</script>"
      ],
      "text/plain": [
       "alt.Chart(...)"
      ]
     },
     "metadata": {},
     "output_type": "display_data"
    }
   ],
   "source": [
    "#Unique Prefixes by Dist\n",
    "dist_years_prefix = ((\n",
    "        df\n",
    "        >> group_by(_.prepared_y, _.dist)\n",
    "        >> summarize(n=_.prefix.nunique())\n",
    "        >> arrange(-_.prepared_y)\n",
    "    ).rename(columns={'dist':'District', 'n':'Count'}))\n",
    "\n",
    "chart11 = (alt.Chart(dist_years_prefix).mark_bar().encode(\n",
    "        column='District:N',\n",
    "        x=alt.X('prepared_y:O', title='Prepared Year'),\n",
    "        y=alt.Y('Count:Q', title='Number of Unique Agencies'),\n",
    "        color = alt.Color(\"District:N\", \n",
    "                              scale=alt.Scale(\n",
    "                                  range=altair_utils.CALITP_SEQUENTIAL_COLORS),  \n",
    "                               legend=alt.Legend(title=\"District\")\n",
    "                              )\n",
    "                              ))\n",
    "chart11 = styleguide.preset_chart_config(chart11)\n",
    "chart11 = _dla_utils.add_tooltip(chart11, 'prepared_y','Count')\n",
    "    \n",
    "\n",
    "display(chart11)"
   ]
  },
  {
   "cell_type": "markdown",
   "id": "c52b3650-9c49-4ab9-a72d-52ecf36d4b7a",
   "metadata": {
    "papermill": {
     "duration": 0.026081,
     "end_time": "2022-05-27T20:00:03.762421",
     "exception": false,
     "start_time": "2022-05-27T20:00:03.736340",
     "status": "completed"
    },
    "tags": []
   },
   "source": [
    "### Most Used Prefix Codes"
   ]
  },
  {
   "cell_type": "code",
   "execution_count": 11,
   "id": "0aca2d9a-062a-4c12-9489-5f9de10f3462",
   "metadata": {
    "execution": {
     "iopub.execute_input": "2022-05-27T20:00:03.818204Z",
     "iopub.status.busy": "2022-05-27T20:00:03.817548Z",
     "iopub.status.idle": "2022-05-27T20:00:03.850172Z",
     "shell.execute_reply": "2022-05-27T20:00:03.849562Z"
    },
    "jupyter": {
     "source_hidden": true
    },
    "papermill": {
     "duration": 0.061497,
     "end_time": "2022-05-27T20:00:03.851891",
     "exception": false,
     "start_time": "2022-05-27T20:00:03.790394",
     "status": "completed"
    },
    "tags": [
     "remove_input"
    ]
   },
   "outputs": [
    {
     "data": {
      "text/html": [
       "\n",
       "<div id=\"altair-viz-edf02d201f9e4d00a4e95e15bc11ef00\"></div>\n",
       "<script type=\"text/javascript\">\n",
       "  var VEGA_DEBUG = (typeof VEGA_DEBUG == \"undefined\") ? {} : VEGA_DEBUG;\n",
       "  (function(spec, embedOpt){\n",
       "    let outputDiv = document.currentScript.previousElementSibling;\n",
       "    if (outputDiv.id !== \"altair-viz-edf02d201f9e4d00a4e95e15bc11ef00\") {\n",
       "      outputDiv = document.getElementById(\"altair-viz-edf02d201f9e4d00a4e95e15bc11ef00\");\n",
       "    }\n",
       "    const paths = {\n",
       "      \"vega\": \"https://cdn.jsdelivr.net/npm//vega@5?noext\",\n",
       "      \"vega-lib\": \"https://cdn.jsdelivr.net/npm//vega-lib?noext\",\n",
       "      \"vega-lite\": \"https://cdn.jsdelivr.net/npm//vega-lite@4.17.0?noext\",\n",
       "      \"vega-embed\": \"https://cdn.jsdelivr.net/npm//vega-embed@6?noext\",\n",
       "    };\n",
       "\n",
       "    function maybeLoadScript(lib, version) {\n",
       "      var key = `${lib.replace(\"-\", \"\")}_version`;\n",
       "      return (VEGA_DEBUG[key] == version) ?\n",
       "        Promise.resolve(paths[lib]) :\n",
       "        new Promise(function(resolve, reject) {\n",
       "          var s = document.createElement('script');\n",
       "          document.getElementsByTagName(\"head\")[0].appendChild(s);\n",
       "          s.async = true;\n",
       "          s.onload = () => {\n",
       "            VEGA_DEBUG[key] = version;\n",
       "            return resolve(paths[lib]);\n",
       "          };\n",
       "          s.onerror = () => reject(`Error loading script: ${paths[lib]}`);\n",
       "          s.src = paths[lib];\n",
       "        });\n",
       "    }\n",
       "\n",
       "    function showError(err) {\n",
       "      outputDiv.innerHTML = `<div class=\"error\" style=\"color:red;\">${err}</div>`;\n",
       "      throw err;\n",
       "    }\n",
       "\n",
       "    function displayChart(vegaEmbed) {\n",
       "      vegaEmbed(outputDiv, spec, embedOpt)\n",
       "        .catch(err => showError(`Javascript Error: ${err.message}<br>This usually means there's a typo in your chart specification. See the javascript console for the full traceback.`));\n",
       "    }\n",
       "\n",
       "    if(typeof define === \"function\" && define.amd) {\n",
       "      requirejs.config({paths});\n",
       "      require([\"vega-embed\"], displayChart, err => showError(`Error loading script: ${err.message}`));\n",
       "    } else {\n",
       "      maybeLoadScript(\"vega\", \"5\")\n",
       "        .then(() => maybeLoadScript(\"vega-lite\", \"4.17.0\"))\n",
       "        .then(() => maybeLoadScript(\"vega-embed\", \"6\"))\n",
       "        .catch(showError)\n",
       "        .then(() => displayChart(vegaEmbed));\n",
       "    }\n",
       "  })({\"config\": {\"view\": {\"continuousWidth\": 400, \"continuousHeight\": 300}, \"axis\": {\"domainColor\": \"#cbcbcb\", \"grid\": true, \"gridColor\": \"#cbcbcb\", \"gridWidth\": 1, \"labelColor\": \"#474747\", \"labelFont\": \"Nunito Sans\", \"labelFontSize\": 10, \"labelPadding\": 4, \"tickColor\": \"#cbcbcb\", \"tickSize\": 10, \"titleColor\": \"#333\", \"titleFont\": \"Raleway\", \"titleFontSize\": 12, \"titlePadding\": 10}, \"axisBand\": {\"grid\": false}, \"background\": \"white\", \"font\": \"Raleway\", \"header\": {\"labelFont\": \"Nunito Sans\", \"titleFont\": \"Raleway\"}, \"legend\": {\"labelColor\": \"#333\", \"labelFont\": \"Nunito Sans\", \"labelFontSize\": 11, \"labelLimit\": 0, \"padding\": 1, \"symbolSize\": 30, \"symbolType\": \"square\", \"titleColor\": \"#333\", \"titleFont\": \"Raleway\", \"titleFontSize\": 14, \"titlePadding\": 10}, \"title\": {\"anchor\": \"middle\", \"font\": \"Raleway\", \"fontSize\": 18, \"fontWeight\": 300, \"offset\": 20}}, \"data\": {\"name\": \"data-1e184ce015ae8673093cd51d69b46664\"}, \"mark\": \"bar\", \"encoding\": {\"color\": {\"field\": \"Prefix\", \"legend\": {\"symbolLimit\": 10, \"title\": \"Prefix\"}, \"scale\": {\"range\": [\"#2EA8CE\", \"#EB9F3C\", \"#F4D837\", \"#51BF9D\", \"#8CBCCB\", \"#9487C0\"]}, \"type\": \"nominal\"}, \"tooltip\": [{\"field\": \"Prefix\", \"type\": \"nominal\"}, {\"field\": \"Number of Obligations\", \"type\": \"quantitative\"}], \"x\": {\"field\": \"Prefix\", \"sort\": \"-y\", \"title\": \"Prefix\", \"type\": \"nominal\"}, \"y\": {\"field\": \"Number of Obligations\", \"title\": \"Number Of Obligations\", \"type\": \"quantitative\"}}, \"height\": 250, \"width\": 400, \"$schema\": \"https://vega.github.io/schema/vega-lite/v4.17.0.json\", \"datasets\": {\"data-1e184ce015ae8673093cd51d69b46664\": [{\"Prefix\": \"STPL\", \"Number of Obligations\": 685, \"variable\": \"prefix\"}, {\"Prefix\": \"CML\", \"Number of Obligations\": 557, \"variable\": \"prefix\"}, {\"Prefix\": \"HSIPL\", \"Number of Obligations\": 466, \"variable\": \"prefix\"}, {\"Prefix\": \"BRLS\", \"Number of Obligations\": 172, \"variable\": \"prefix\"}, {\"Prefix\": \"ER\", \"Number of Obligations\": 148, \"variable\": \"prefix\"}, {\"Prefix\": \"BRLO\", \"Number of Obligations\": 130, \"variable\": \"prefix\"}, {\"Prefix\": \"STPLZ\", \"Number of Obligations\": 124, \"variable\": \"prefix\"}, {\"Prefix\": \"RPSTPL\", \"Number of Obligations\": 95, \"variable\": \"prefix\"}, {\"Prefix\": \"BPMP\", \"Number of Obligations\": 94, \"variable\": \"prefix\"}, {\"Prefix\": \"ATPL\", \"Number of Obligations\": 89, \"variable\": \"prefix\"}, {\"Prefix\": \"HPLUL\", \"Number of Obligations\": 83, \"variable\": \"prefix\"}, {\"Prefix\": \"BHLS\", \"Number of Obligations\": 66, \"variable\": \"prefix\"}, {\"Prefix\": \"SRTSL\", \"Number of Obligations\": 64, \"variable\": \"prefix\"}, {\"Prefix\": \"CMLNI\", \"Number of Obligations\": 52, \"variable\": \"prefix\"}, {\"Prefix\": \"FTASTPL\", \"Number of Obligations\": 48, \"variable\": \"prefix\"}, {\"Prefix\": \"STPLNI\", \"Number of Obligations\": 42, \"variable\": \"prefix\"}, {\"Prefix\": \"HRRRL\", \"Number of Obligations\": 38, \"variable\": \"prefix\"}, {\"Prefix\": \"ACSTP\", \"Number of Obligations\": 37, \"variable\": \"prefix\"}, {\"Prefix\": \"FTACML\", \"Number of Obligations\": 34, \"variable\": \"prefix\"}, {\"Prefix\": \"BHLO\", \"Number of Obligations\": 31, \"variable\": \"prefix\"}]}}, {\"mode\": \"vega-lite\"});\n",
       "</script>"
      ],
      "text/plain": [
       "alt.Chart(...)"
      ]
     },
     "metadata": {},
     "output_type": "display_data"
    }
   ],
   "source": [
    "#Bar chart with the Most Used Prefix Counts\n",
    "chart_df = (df_top>>filter(_.variable=='prefix')).rename(columns={\"value\":\"Prefix\",\n",
    "                                 \"count\":\"Number of Obligations\"})\n",
    "chart9= (_dla_utils.basic_bar_chart_no_save(chart_df, 'Prefix', 'Number of Obligations', 'Prefix', district))\n",
    "    \n",
    "\n",
    "display(chart9)\n",
    "    "
   ]
  },
  {
   "cell_type": "markdown",
   "id": "46030e63-c1ae-4834-b538-b09937074207",
   "metadata": {
    "papermill": {
     "duration": 0.032988,
     "end_time": "2022-05-27T20:00:03.910275",
     "exception": false,
     "start_time": "2022-05-27T20:00:03.877287",
     "status": "completed"
    },
    "tags": []
   },
   "source": [
    "### Agencies With The Most Unique Prefix Codes"
   ]
  },
  {
   "cell_type": "code",
   "execution_count": 12,
   "id": "3d21c9b2-833b-463a-9a03-a9c83d727d2e",
   "metadata": {
    "execution": {
     "iopub.execute_input": "2022-05-27T20:00:03.968455Z",
     "iopub.status.busy": "2022-05-27T20:00:03.967991Z",
     "iopub.status.idle": "2022-05-27T20:00:04.098971Z",
     "shell.execute_reply": "2022-05-27T20:00:04.098274Z"
    },
    "jupyter": {
     "source_hidden": true
    },
    "papermill": {
     "duration": 0.161747,
     "end_time": "2022-05-27T20:00:04.100820",
     "exception": false,
     "start_time": "2022-05-27T20:00:03.939073",
     "status": "completed"
    },
    "tags": [
     "remove_input"
    ]
   },
   "outputs": [
    {
     "data": {
      "text/html": [
       "\n",
       "<div id=\"altair-viz-669a220e89a84b9fad99beb06c1f037a\"></div>\n",
       "<script type=\"text/javascript\">\n",
       "  var VEGA_DEBUG = (typeof VEGA_DEBUG == \"undefined\") ? {} : VEGA_DEBUG;\n",
       "  (function(spec, embedOpt){\n",
       "    let outputDiv = document.currentScript.previousElementSibling;\n",
       "    if (outputDiv.id !== \"altair-viz-669a220e89a84b9fad99beb06c1f037a\") {\n",
       "      outputDiv = document.getElementById(\"altair-viz-669a220e89a84b9fad99beb06c1f037a\");\n",
       "    }\n",
       "    const paths = {\n",
       "      \"vega\": \"https://cdn.jsdelivr.net/npm//vega@5?noext\",\n",
       "      \"vega-lib\": \"https://cdn.jsdelivr.net/npm//vega-lib?noext\",\n",
       "      \"vega-lite\": \"https://cdn.jsdelivr.net/npm//vega-lite@4.17.0?noext\",\n",
       "      \"vega-embed\": \"https://cdn.jsdelivr.net/npm//vega-embed@6?noext\",\n",
       "    };\n",
       "\n",
       "    function maybeLoadScript(lib, version) {\n",
       "      var key = `${lib.replace(\"-\", \"\")}_version`;\n",
       "      return (VEGA_DEBUG[key] == version) ?\n",
       "        Promise.resolve(paths[lib]) :\n",
       "        new Promise(function(resolve, reject) {\n",
       "          var s = document.createElement('script');\n",
       "          document.getElementsByTagName(\"head\")[0].appendChild(s);\n",
       "          s.async = true;\n",
       "          s.onload = () => {\n",
       "            VEGA_DEBUG[key] = version;\n",
       "            return resolve(paths[lib]);\n",
       "          };\n",
       "          s.onerror = () => reject(`Error loading script: ${paths[lib]}`);\n",
       "          s.src = paths[lib];\n",
       "        });\n",
       "    }\n",
       "\n",
       "    function showError(err) {\n",
       "      outputDiv.innerHTML = `<div class=\"error\" style=\"color:red;\">${err}</div>`;\n",
       "      throw err;\n",
       "    }\n",
       "\n",
       "    function displayChart(vegaEmbed) {\n",
       "      vegaEmbed(outputDiv, spec, embedOpt)\n",
       "        .catch(err => showError(`Javascript Error: ${err.message}<br>This usually means there's a typo in your chart specification. See the javascript console for the full traceback.`));\n",
       "    }\n",
       "\n",
       "    if(typeof define === \"function\" && define.amd) {\n",
       "      requirejs.config({paths});\n",
       "      require([\"vega-embed\"], displayChart, err => showError(`Error loading script: ${err.message}`));\n",
       "    } else {\n",
       "      maybeLoadScript(\"vega\", \"5\")\n",
       "        .then(() => maybeLoadScript(\"vega-lite\", \"4.17.0\"))\n",
       "        .then(() => maybeLoadScript(\"vega-embed\", \"6\"))\n",
       "        .catch(showError)\n",
       "        .then(() => displayChart(vegaEmbed));\n",
       "    }\n",
       "  })({\"config\": {\"view\": {\"continuousWidth\": 400, \"continuousHeight\": 300}, \"axis\": {\"domainColor\": \"#cbcbcb\", \"grid\": true, \"gridColor\": \"#cbcbcb\", \"gridWidth\": 1, \"labelColor\": \"#474747\", \"labelFont\": \"Nunito Sans\", \"labelFontSize\": 10, \"labelPadding\": 4, \"tickColor\": \"#cbcbcb\", \"tickSize\": 10, \"titleColor\": \"#333\", \"titleFont\": \"Raleway\", \"titleFontSize\": 12, \"titlePadding\": 10}, \"axisBand\": {\"grid\": false}, \"background\": \"white\", \"font\": \"Raleway\", \"header\": {\"labelFont\": \"Nunito Sans\", \"titleFont\": \"Raleway\"}, \"legend\": {\"labelColor\": \"#333\", \"labelFont\": \"Nunito Sans\", \"labelFontSize\": 11, \"labelLimit\": 0, \"padding\": 1, \"symbolSize\": 30, \"symbolType\": \"square\", \"titleColor\": \"#333\", \"titleFont\": \"Raleway\", \"titleFontSize\": 14, \"titlePadding\": 10}, \"title\": {\"anchor\": \"middle\", \"font\": \"Raleway\", \"fontSize\": 18, \"fontWeight\": 300, \"offset\": 20}}, \"data\": {\"name\": \"data-349d380901e5c625b780dae31a2f39c5\"}, \"mark\": \"bar\", \"encoding\": {\"color\": {\"field\": \"primary_agency_name\", \"legend\": {\"symbolLimit\": 10, \"title\": \"Agency\"}, \"scale\": {\"range\": [\"#2EA8CE\", \"#EB9F3C\", \"#F4D837\", \"#51BF9D\", \"#8CBCCB\", \"#9487C0\"]}, \"type\": \"nominal\"}, \"tooltip\": [{\"field\": \"primary_agency_name\", \"type\": \"nominal\"}, {\"field\": \"n\", \"type\": \"quantitative\"}], \"x\": {\"field\": \"primary_agency_name\", \"sort\": \"-y\", \"title\": \"Agency\", \"type\": \"nominal\"}, \"y\": {\"field\": \"n\", \"title\": \"Count\", \"type\": \"quantitative\"}}, \"height\": 250, \"width\": 400, \"$schema\": \"https://vega.github.io/schema/vega-lite/v4.17.0.json\", \"datasets\": {\"data-349d380901e5c625b780dae31a2f39c5\": [{\"primary_agency_name\": \"Contra Costa County\", \"n\": 18}, {\"primary_agency_name\": \"San Francisco County\", \"n\": 17}, {\"primary_agency_name\": \"San Jose\", \"n\": 17}, {\"primary_agency_name\": \"Santa Clara County\", \"n\": 17}, {\"primary_agency_name\": \"Alameda County\", \"n\": 16}, {\"primary_agency_name\": \"Sonoma County\", \"n\": 16}, {\"primary_agency_name\": \"Metropolitan Transportation Commission\", \"n\": 15}, {\"primary_agency_name\": \"Oakland\", \"n\": 15}, {\"primary_agency_name\": \"City & County of San Francisco, MTA/Parking & Traffic\", \"n\": 14}, {\"primary_agency_name\": \"Marin County\", \"n\": 13}, {\"primary_agency_name\": \"Santa Clara Valley Transportation Authority\", \"n\": 13}, {\"primary_agency_name\": \"Vallejo\", \"n\": 11}, {\"primary_agency_name\": \"Alameda County Transportation Commission\", \"n\": 10}, {\"primary_agency_name\": \"Solano County\", \"n\": 10}, {\"primary_agency_name\": \"Pleasant Hill\", \"n\": 9}, {\"primary_agency_name\": \"Sunnyvale\", \"n\": 9}, {\"primary_agency_name\": \"Alameda\", \"n\": 8}, {\"primary_agency_name\": \"Alameda County Congestion Management Agency\", \"n\": 8}, {\"primary_agency_name\": \"Fairfield\", \"n\": 8}, {\"primary_agency_name\": \"Golden Gate Bridge, Highway And Transportation Distri\", \"n\": 8}, {\"primary_agency_name\": \"Napa\", \"n\": 8}, {\"primary_agency_name\": \"Napa County\", \"n\": 8}, {\"primary_agency_name\": \"Richmond\", \"n\": 8}, {\"primary_agency_name\": \"San Francisco Bay Area Rapid Transit District\", \"n\": 8}, {\"primary_agency_name\": \"San Rafael\", \"n\": 8}, {\"primary_agency_name\": \"Santa Rosa\", \"n\": 8}, {\"primary_agency_name\": \"El Cerrito\", \"n\": 7}, {\"primary_agency_name\": \"San Mateo\", \"n\": 7}, {\"primary_agency_name\": \"Sonoma Marin Area Rail Transit District\", \"n\": 7}, {\"primary_agency_name\": \"South San Francisco\", \"n\": 7}]}}, {\"mode\": \"vega-lite\"});\n",
       "</script>"
      ],
      "text/plain": [
       "alt.Chart(...)"
      ]
     },
     "metadata": {},
     "output_type": "display_data"
    }
   ],
   "source": [
    "#Bar chart Agencies With The Most Unique Prefix Codes\n",
    "    \n",
    "chart3 = (_dla_utils.basic_bar_chart_no_save(((_dla_utils.get_nunique(df, 'prefix', 'primary_agency_name')).head(30)),\n",
    "                            'primary_agency_name', 'n', 'primary_agency_name', district))\n",
    "    \n",
    "display(chart3)"
   ]
  },
  {
   "cell_type": "markdown",
   "id": "409d25d0-88ee-4eff-ae1f-ca9127618b4d",
   "metadata": {
    "papermill": {
     "duration": 0.029483,
     "end_time": "2022-05-27T20:00:04.157354",
     "exception": false,
     "start_time": "2022-05-27T20:00:04.127871",
     "status": "completed"
    },
    "tags": []
   },
   "source": [
    "## Funding Distributions\n",
    "***"
   ]
  },
  {
   "cell_type": "markdown",
   "id": "eacca297-667a-4649-b6ac-351e81729e0d",
   "metadata": {
    "papermill": {
     "duration": 0.026732,
     "end_time": "2022-05-27T20:00:04.211074",
     "exception": false,
     "start_time": "2022-05-27T20:00:04.184342",
     "status": "completed"
    },
    "tags": []
   },
   "source": [
    "With each E-76, three types of funding amounts are included in the obligations: \n",
    "* Total Requested (`total_requested`)\n",
    "* Advance Construction Requested (`ac_requested`)\n",
    "* Federal Requested (`fed_requested`)\n",
    "\n",
    "Using this information, we can determine how much on average an organization recieves with these funds, and the distribution of the funds.\n",
    "\n",
    "\n",
    "Metrics:\n",
    "* Average Total Requested Funds by Agency\n",
    "* Lowest Average Total Funds by Agency\n",
    "* Average Total Requested Funds by Prefix"
   ]
  },
  {
   "cell_type": "markdown",
   "id": "d3caa5e9-9126-4572-8140-f81543c7d26a",
   "metadata": {
    "papermill": {
     "duration": 0.026623,
     "end_time": "2022-05-27T20:00:04.264510",
     "exception": false,
     "start_time": "2022-05-27T20:00:04.237887",
     "status": "completed"
    },
    "tags": []
   },
   "source": [
    "### Average Total Requested Funds by Agency ($2021)"
   ]
  },
  {
   "cell_type": "code",
   "execution_count": 13,
   "id": "3745ca4d-8dd4-4c09-b46b-a2f6db6358ad",
   "metadata": {
    "execution": {
     "iopub.execute_input": "2022-05-27T20:00:04.320776Z",
     "iopub.status.busy": "2022-05-27T20:00:04.320421Z",
     "iopub.status.idle": "2022-05-27T20:00:04.357259Z",
     "shell.execute_reply": "2022-05-27T20:00:04.356567Z"
    },
    "jupyter": {
     "source_hidden": true
    },
    "papermill": {
     "duration": 0.066375,
     "end_time": "2022-05-27T20:00:04.359024",
     "exception": false,
     "start_time": "2022-05-27T20:00:04.292649",
     "status": "completed"
    },
    "tags": [
     "remove_input"
    ]
   },
   "outputs": [
    {
     "data": {
      "text/html": [
       "\n",
       "<div id=\"altair-viz-2985fd450374471b86caef6e0be2f9e4\"></div>\n",
       "<script type=\"text/javascript\">\n",
       "  var VEGA_DEBUG = (typeof VEGA_DEBUG == \"undefined\") ? {} : VEGA_DEBUG;\n",
       "  (function(spec, embedOpt){\n",
       "    let outputDiv = document.currentScript.previousElementSibling;\n",
       "    if (outputDiv.id !== \"altair-viz-2985fd450374471b86caef6e0be2f9e4\") {\n",
       "      outputDiv = document.getElementById(\"altair-viz-2985fd450374471b86caef6e0be2f9e4\");\n",
       "    }\n",
       "    const paths = {\n",
       "      \"vega\": \"https://cdn.jsdelivr.net/npm//vega@5?noext\",\n",
       "      \"vega-lib\": \"https://cdn.jsdelivr.net/npm//vega-lib?noext\",\n",
       "      \"vega-lite\": \"https://cdn.jsdelivr.net/npm//vega-lite@4.17.0?noext\",\n",
       "      \"vega-embed\": \"https://cdn.jsdelivr.net/npm//vega-embed@6?noext\",\n",
       "    };\n",
       "\n",
       "    function maybeLoadScript(lib, version) {\n",
       "      var key = `${lib.replace(\"-\", \"\")}_version`;\n",
       "      return (VEGA_DEBUG[key] == version) ?\n",
       "        Promise.resolve(paths[lib]) :\n",
       "        new Promise(function(resolve, reject) {\n",
       "          var s = document.createElement('script');\n",
       "          document.getElementsByTagName(\"head\")[0].appendChild(s);\n",
       "          s.async = true;\n",
       "          s.onload = () => {\n",
       "            VEGA_DEBUG[key] = version;\n",
       "            return resolve(paths[lib]);\n",
       "          };\n",
       "          s.onerror = () => reject(`Error loading script: ${paths[lib]}`);\n",
       "          s.src = paths[lib];\n",
       "        });\n",
       "    }\n",
       "\n",
       "    function showError(err) {\n",
       "      outputDiv.innerHTML = `<div class=\"error\" style=\"color:red;\">${err}</div>`;\n",
       "      throw err;\n",
       "    }\n",
       "\n",
       "    function displayChart(vegaEmbed) {\n",
       "      vegaEmbed(outputDiv, spec, embedOpt)\n",
       "        .catch(err => showError(`Javascript Error: ${err.message}<br>This usually means there's a typo in your chart specification. See the javascript console for the full traceback.`));\n",
       "    }\n",
       "\n",
       "    if(typeof define === \"function\" && define.amd) {\n",
       "      requirejs.config({paths});\n",
       "      require([\"vega-embed\"], displayChart, err => showError(`Error loading script: ${err.message}`));\n",
       "    } else {\n",
       "      maybeLoadScript(\"vega\", \"5\")\n",
       "        .then(() => maybeLoadScript(\"vega-lite\", \"4.17.0\"))\n",
       "        .then(() => maybeLoadScript(\"vega-embed\", \"6\"))\n",
       "        .catch(showError)\n",
       "        .then(() => displayChart(vegaEmbed));\n",
       "    }\n",
       "  })({\"config\": {\"view\": {\"continuousWidth\": 400, \"continuousHeight\": 300}, \"axis\": {\"domainColor\": \"#cbcbcb\", \"grid\": true, \"gridColor\": \"#cbcbcb\", \"gridWidth\": 1, \"labelColor\": \"#474747\", \"labelFont\": \"Nunito Sans\", \"labelFontSize\": 10, \"labelPadding\": 4, \"tickColor\": \"#cbcbcb\", \"tickSize\": 10, \"titleColor\": \"#333\", \"titleFont\": \"Raleway\", \"titleFontSize\": 12, \"titlePadding\": 10}, \"axisBand\": {\"grid\": false}, \"background\": \"white\", \"font\": \"Raleway\", \"header\": {\"labelFont\": \"Nunito Sans\", \"titleFont\": \"Raleway\"}, \"legend\": {\"labelColor\": \"#333\", \"labelFont\": \"Nunito Sans\", \"labelFontSize\": 11, \"labelLimit\": 0, \"padding\": 1, \"symbolSize\": 30, \"symbolType\": \"square\", \"titleColor\": \"#333\", \"titleFont\": \"Raleway\", \"titleFontSize\": 14, \"titlePadding\": 10}, \"title\": {\"anchor\": \"middle\", \"font\": \"Raleway\", \"fontSize\": 18, \"fontWeight\": 300, \"offset\": 20}}, \"data\": {\"name\": \"data-e19198f08699412de932215a93d6482d\"}, \"mark\": \"bar\", \"encoding\": {\"color\": {\"field\": \"primary_agency_name\", \"legend\": {\"symbolLimit\": 10, \"title\": \"Agency\"}, \"scale\": {\"range\": [\"#2EA8CE\", \"#EB9F3C\", \"#F4D837\", \"#51BF9D\", \"#8CBCCB\", \"#9487C0\"]}, \"type\": \"nominal\"}, \"tooltip\": [{\"field\": \"primary_agency_name\", \"type\": \"nominal\"}, {\"field\": \"adjusted_total_requested\", \"type\": \"quantitative\"}], \"x\": {\"field\": \"primary_agency_name\", \"sort\": \"-y\", \"title\": \"Agency\", \"type\": \"nominal\"}, \"y\": {\"field\": \"adjusted_total_requested\", \"title\": \"Total Requested\", \"type\": \"quantitative\"}}, \"height\": 250, \"width\": 400, \"$schema\": \"https://vega.github.io/schema/vega-lite/v4.17.0.json\", \"datasets\": {\"data-e19198f08699412de932215a93d6482d\": [{\"primary_agency_name\": \"La Jolla Band of Luiseno Indians\", \"adjusted_total_requested\": 7877447.510085349}, {\"primary_agency_name\": \"Caltrans\", \"adjusted_total_requested\": 7200866.508663196}, {\"primary_agency_name\": \"Golden Gate Bridge, Highway And Transportation Distri\", \"adjusted_total_requested\": 5313344.985743881}, {\"primary_agency_name\": \"San Francisco Bay Area Rapid Transit District\", \"adjusted_total_requested\": 4633078.104318425}, {\"primary_agency_name\": \"Alameda - Contra Costa Transit District\", \"adjusted_total_requested\": 4071873.1967900246}, {\"primary_agency_name\": \"San Francisco County\", \"adjusted_total_requested\": 3671723.9662809093}, {\"primary_agency_name\": \"Belmont\", \"adjusted_total_requested\": 3012808.7818640335}, {\"primary_agency_name\": \"Metropolitan Transportation Commission\", \"adjusted_total_requested\": 2638724.170988925}, {\"primary_agency_name\": \"Napa Valley Transportation Authority\", \"adjusted_total_requested\": 2634244.293428272}, {\"primary_agency_name\": \"Alameda County Transportation Commission\", \"adjusted_total_requested\": 2480429.7119186674}, {\"primary_agency_name\": \"Larkspur\", \"adjusted_total_requested\": 2005254.579818498}, {\"primary_agency_name\": \"San Francisco County Transportation Authority\", \"adjusted_total_requested\": 1908216.468473383}, {\"primary_agency_name\": \"Contra Costa Transportation Authority\", \"adjusted_total_requested\": 1846718.0845602741}, {\"primary_agency_name\": \"Sonoma Marin Area Rail Transit District\", \"adjusted_total_requested\": 1683648.6311413457}, {\"primary_agency_name\": \"East Palo Alto\", \"adjusted_total_requested\": 1649833.6643088532}, {\"primary_agency_name\": \"Port of San Francisco\", \"adjusted_total_requested\": 1617689.7604029668}, {\"primary_agency_name\": \"Healdsburg\", \"adjusted_total_requested\": 1561188.8819585806}, {\"primary_agency_name\": \"Metropolitan Transportation Commission - SAFE\", \"adjusted_total_requested\": 1511663.353550646}, {\"primary_agency_name\": \"San Francisco Bay Area Water Transit Authority\", \"adjusted_total_requested\": 1496461.7356790327}, {\"primary_agency_name\": \"San Pablo\", \"adjusted_total_requested\": 1399475.0690035704}, {\"primary_agency_name\": \"Fairfield\", \"adjusted_total_requested\": 1341094.2357861293}, {\"primary_agency_name\": \"Western Contra Costa Transit Authority\", \"adjusted_total_requested\": 1295883.005146624}, {\"primary_agency_name\": \"Calistoga\", \"adjusted_total_requested\": 1285845.194684056}, {\"primary_agency_name\": \"Morgan Hill\", \"adjusted_total_requested\": 1264783.0232990193}, {\"primary_agency_name\": \"Richmond\", \"adjusted_total_requested\": 1175593.6509493336}, {\"primary_agency_name\": \"Bay Area Air Quality Management District\", \"adjusted_total_requested\": 1156260.885675769}, {\"primary_agency_name\": \"Colma\", \"adjusted_total_requested\": 1146915.3705764515}, {\"primary_agency_name\": \"Peninsula Joint Powers Board\", \"adjusted_total_requested\": 1096244.0408426924}, {\"primary_agency_name\": \"Corte Madera\", \"adjusted_total_requested\": 1084937.8520869836}, {\"primary_agency_name\": \"City & County of San Francisco, MTA/Parking & Traffic\", \"adjusted_total_requested\": 1058727.8748630048}]}}, {\"mode\": \"vega-lite\"});\n",
       "</script>"
      ],
      "text/plain": [
       "alt.Chart(...)"
      ]
     },
     "metadata": {},
     "output_type": "display_data"
    }
   ],
   "source": [
    "#Bar chart Average Total Requested Funds by Agency\n",
    "chart4=(_dla_utils.basic_bar_chart_no_save((((_dla_utils.calculate_data_all(df, 'adjusted_total_requested', 'primary_agency_name', aggfunc=\"mean\"))\n",
    "                          >>arrange(-_.adjusted_total_requested)).head(30)\n",
    "                        ), 'primary_agency_name','adjusted_total_requested', 'primary_agency_name', district\n",
    "                          \n",
    "                       ))\n",
    "    \n",
    "display(chart4)"
   ]
  },
  {
   "cell_type": "markdown",
   "id": "84702987-c63c-40c9-aad7-c2d8c1b8ee49",
   "metadata": {
    "papermill": {
     "duration": 0.026791,
     "end_time": "2022-05-27T20:00:04.418079",
     "exception": false,
     "start_time": "2022-05-27T20:00:04.391288",
     "status": "completed"
    },
    "tags": []
   },
   "source": [
    "### Lowest Average Total Funds by Agency ($2021)"
   ]
  },
  {
   "cell_type": "code",
   "execution_count": 14,
   "id": "ce18a74b-9908-40f8-84f1-806552936465",
   "metadata": {
    "execution": {
     "iopub.execute_input": "2022-05-27T20:00:04.474087Z",
     "iopub.status.busy": "2022-05-27T20:00:04.473477Z",
     "iopub.status.idle": "2022-05-27T20:00:04.597970Z",
     "shell.execute_reply": "2022-05-27T20:00:04.597085Z"
    },
    "jupyter": {
     "source_hidden": true
    },
    "papermill": {
     "duration": 0.154748,
     "end_time": "2022-05-27T20:00:04.599988",
     "exception": false,
     "start_time": "2022-05-27T20:00:04.445240",
     "status": "completed"
    },
    "tags": [
     "remove_input"
    ]
   },
   "outputs": [
    {
     "data": {
      "text/html": [
       "\n",
       "<div id=\"altair-viz-ffa90f8479504b5e8e37262ae3b39b39\"></div>\n",
       "<script type=\"text/javascript\">\n",
       "  var VEGA_DEBUG = (typeof VEGA_DEBUG == \"undefined\") ? {} : VEGA_DEBUG;\n",
       "  (function(spec, embedOpt){\n",
       "    let outputDiv = document.currentScript.previousElementSibling;\n",
       "    if (outputDiv.id !== \"altair-viz-ffa90f8479504b5e8e37262ae3b39b39\") {\n",
       "      outputDiv = document.getElementById(\"altair-viz-ffa90f8479504b5e8e37262ae3b39b39\");\n",
       "    }\n",
       "    const paths = {\n",
       "      \"vega\": \"https://cdn.jsdelivr.net/npm//vega@5?noext\",\n",
       "      \"vega-lib\": \"https://cdn.jsdelivr.net/npm//vega-lib?noext\",\n",
       "      \"vega-lite\": \"https://cdn.jsdelivr.net/npm//vega-lite@4.17.0?noext\",\n",
       "      \"vega-embed\": \"https://cdn.jsdelivr.net/npm//vega-embed@6?noext\",\n",
       "    };\n",
       "\n",
       "    function maybeLoadScript(lib, version) {\n",
       "      var key = `${lib.replace(\"-\", \"\")}_version`;\n",
       "      return (VEGA_DEBUG[key] == version) ?\n",
       "        Promise.resolve(paths[lib]) :\n",
       "        new Promise(function(resolve, reject) {\n",
       "          var s = document.createElement('script');\n",
       "          document.getElementsByTagName(\"head\")[0].appendChild(s);\n",
       "          s.async = true;\n",
       "          s.onload = () => {\n",
       "            VEGA_DEBUG[key] = version;\n",
       "            return resolve(paths[lib]);\n",
       "          };\n",
       "          s.onerror = () => reject(`Error loading script: ${paths[lib]}`);\n",
       "          s.src = paths[lib];\n",
       "        });\n",
       "    }\n",
       "\n",
       "    function showError(err) {\n",
       "      outputDiv.innerHTML = `<div class=\"error\" style=\"color:red;\">${err}</div>`;\n",
       "      throw err;\n",
       "    }\n",
       "\n",
       "    function displayChart(vegaEmbed) {\n",
       "      vegaEmbed(outputDiv, spec, embedOpt)\n",
       "        .catch(err => showError(`Javascript Error: ${err.message}<br>This usually means there's a typo in your chart specification. See the javascript console for the full traceback.`));\n",
       "    }\n",
       "\n",
       "    if(typeof define === \"function\" && define.amd) {\n",
       "      requirejs.config({paths});\n",
       "      require([\"vega-embed\"], displayChart, err => showError(`Error loading script: ${err.message}`));\n",
       "    } else {\n",
       "      maybeLoadScript(\"vega\", \"5\")\n",
       "        .then(() => maybeLoadScript(\"vega-lite\", \"4.17.0\"))\n",
       "        .then(() => maybeLoadScript(\"vega-embed\", \"6\"))\n",
       "        .catch(showError)\n",
       "        .then(() => displayChart(vegaEmbed));\n",
       "    }\n",
       "  })({\"config\": {\"view\": {\"continuousWidth\": 400, \"continuousHeight\": 300}, \"axis\": {\"domainColor\": \"#cbcbcb\", \"grid\": true, \"gridColor\": \"#cbcbcb\", \"gridWidth\": 1, \"labelColor\": \"#474747\", \"labelFont\": \"Nunito Sans\", \"labelFontSize\": 10, \"labelPadding\": 4, \"tickColor\": \"#cbcbcb\", \"tickSize\": 10, \"titleColor\": \"#333\", \"titleFont\": \"Raleway\", \"titleFontSize\": 12, \"titlePadding\": 10}, \"axisBand\": {\"grid\": false}, \"background\": \"white\", \"font\": \"Raleway\", \"header\": {\"labelFont\": \"Nunito Sans\", \"titleFont\": \"Raleway\"}, \"legend\": {\"labelColor\": \"#333\", \"labelFont\": \"Nunito Sans\", \"labelFontSize\": 11, \"labelLimit\": 0, \"padding\": 1, \"symbolSize\": 30, \"symbolType\": \"square\", \"titleColor\": \"#333\", \"titleFont\": \"Raleway\", \"titleFontSize\": 14, \"titlePadding\": 10}, \"title\": {\"anchor\": \"middle\", \"font\": \"Raleway\", \"fontSize\": 18, \"fontWeight\": 300, \"offset\": 20}}, \"data\": {\"name\": \"data-39828f3f67601c5dc278bcc2524a07f9\"}, \"mark\": \"bar\", \"encoding\": {\"color\": {\"field\": \"primary_agency_name\", \"legend\": {\"symbolLimit\": 10, \"title\": \"Agency\"}, \"scale\": {\"range\": [\"#2EA8CE\", \"#EB9F3C\", \"#F4D837\", \"#51BF9D\", \"#8CBCCB\", \"#9487C0\"]}, \"type\": \"nominal\"}, \"tooltip\": [{\"field\": \"primary_agency_name\", \"type\": \"nominal\"}, {\"field\": \"avg_funds\", \"type\": \"quantitative\"}], \"x\": {\"field\": \"primary_agency_name\", \"sort\": \"-y\", \"title\": \"Agency\", \"type\": \"nominal\"}, \"y\": {\"field\": \"avg_funds\", \"title\": \"Avg Funds\", \"type\": \"quantitative\"}}, \"height\": 250, \"width\": 400, \"$schema\": \"https://vega.github.io/schema/vega-lite/v4.17.0.json\", \"datasets\": {\"data-39828f3f67601c5dc278bcc2524a07f9\": [{\"primary_agency_name\": \"San Carlos\", \"avg_funds\": 195167.37746176423}, {\"primary_agency_name\": \"Piedmont\", \"avg_funds\": 190760.41726856382}, {\"primary_agency_name\": \"Atherton\", \"avg_funds\": 189494.51669009333}, {\"primary_agency_name\": \"Half Moon Bay\", \"avg_funds\": 183097.36457084562}, {\"primary_agency_name\": \"American Canyon\", \"avg_funds\": 181783.35619090492}, {\"primary_agency_name\": \"Newark\", \"avg_funds\": 168405.74753546432}, {\"primary_agency_name\": \"Dixon\", \"avg_funds\": 159895.18332872592}, {\"primary_agency_name\": \"Sausalito\", \"avg_funds\": 157473.10502418404}, {\"primary_agency_name\": \"Martinez\", \"avg_funds\": 156009.86914391367}, {\"primary_agency_name\": \"Union City\", \"avg_funds\": 155611.1086336373}, {\"primary_agency_name\": \"Central Contra Costa Transit Authority\", \"avg_funds\": 154217.75605234606}, {\"primary_agency_name\": \"San Bruno\", \"avg_funds\": 152407.82923896099}, {\"primary_agency_name\": \"Suisun City\", \"avg_funds\": 151414.6405832022}, {\"primary_agency_name\": \"Benicia\", \"avg_funds\": 147780.2993583272}, {\"primary_agency_name\": \"San Leandro\", \"avg_funds\": 141063.9265435573}, {\"primary_agency_name\": \"Marin County Transit District\", \"avg_funds\": 133607.7554954071}, {\"primary_agency_name\": \"Los Altos Hills\", \"avg_funds\": 126359.46557868482}, {\"primary_agency_name\": \"Los Gatos\", \"avg_funds\": 125622.25316714107}, {\"primary_agency_name\": \"Lafayette\", \"avg_funds\": 113795.81923695427}, {\"primary_agency_name\": \"Brisbane\", \"avg_funds\": 112588.71503767227}, {\"primary_agency_name\": \"Mill Valley\", \"avg_funds\": 109664.46894297254}, {\"primary_agency_name\": \"Yountville\", \"avg_funds\": 84679.82503576957}, {\"primary_agency_name\": \"Portola Valley\", \"avg_funds\": 67766.31412368998}, {\"primary_agency_name\": \"Ross\", \"avg_funds\": 67288.6177957387}, {\"primary_agency_name\": \"Monte Sereno\", \"avg_funds\": 67187.74602751632}, {\"primary_agency_name\": \"University Of California\", \"avg_funds\": 57010.98024172055}, {\"primary_agency_name\": \"Rio Vista\", \"avg_funds\": 54416.69340448155}, {\"primary_agency_name\": \"San Anselmo\", \"avg_funds\": 45621.3531559128}, {\"primary_agency_name\": \"Sebastopol\", \"avg_funds\": 43484.853863406526}, {\"primary_agency_name\": \"Cloverdale\", \"avg_funds\": 39069.59647595368}, {\"primary_agency_name\": \"St Helena\", \"avg_funds\": 37096.32723603044}, {\"primary_agency_name\": \"Albany\", \"avg_funds\": 36486.32899944957}, {\"primary_agency_name\": \"Department of Parks and Recreation\", \"avg_funds\": 5390.479102014346}, {\"primary_agency_name\": \"Napa County Office of Education\", \"avg_funds\": 2289.2037464298137}, {\"primary_agency_name\": \"Alameda County Transportation Improvement Authority\", \"avg_funds\": 0.0}, {\"primary_agency_name\": \"Alameda County Waste Management Authority\", \"avg_funds\": 0.0}, {\"primary_agency_name\": \"Santa Cruz\", \"avg_funds\": -1527.5478423239308}, {\"primary_agency_name\": \"University of California at San Francisco\", \"avg_funds\": -6367.502687761783}, {\"primary_agency_name\": \"Santa Clara Valley Transportation Authority\", \"avg_funds\": -227188.16034039212}, {\"primary_agency_name\": \"Port Of Oakland\", \"avg_funds\": -325706.2192806022}]}}, {\"mode\": \"vega-lite\"});\n",
       "</script>"
      ],
      "text/plain": [
       "alt.Chart(...)"
      ]
     },
     "metadata": {},
     "output_type": "display_data"
    }
   ],
   "source": [
    "#Bar chart Bottom Average Total Requested Funds by Agency\n",
    "avg_funds_bottom = (df>>group_by(_.primary_agency_name)>>summarize(avg_funds=_.adjusted_total_requested.mean())>>arrange(-_.avg_funds)).tail(50)\n",
    "\n",
    "chart5=( _dla_utils.basic_bar_chart_no_save((avg_funds_bottom.tail(40)), 'primary_agency_name','avg_funds', 'primary_agency_name', district))\n",
    "    \n",
    "display(chart5)"
   ]
  },
  {
   "cell_type": "markdown",
   "id": "32fb0fb4-2cd3-453d-8be1-cf99fb52f56f",
   "metadata": {
    "papermill": {
     "duration": 0.029666,
     "end_time": "2022-05-27T20:00:04.657851",
     "exception": false,
     "start_time": "2022-05-27T20:00:04.628185",
     "status": "completed"
    },
    "tags": []
   },
   "source": [
    "### Average Total Requested Funds by Prefix ($2021)"
   ]
  },
  {
   "cell_type": "code",
   "execution_count": 15,
   "id": "d18938e5-6fc5-4e53-87b2-7140df57e5a0",
   "metadata": {
    "execution": {
     "iopub.execute_input": "2022-05-27T20:00:04.719624Z",
     "iopub.status.busy": "2022-05-27T20:00:04.719304Z",
     "iopub.status.idle": "2022-05-27T20:00:04.755940Z",
     "shell.execute_reply": "2022-05-27T20:00:04.755154Z"
    },
    "jupyter": {
     "source_hidden": true
    },
    "papermill": {
     "duration": 0.068997,
     "end_time": "2022-05-27T20:00:04.757770",
     "exception": false,
     "start_time": "2022-05-27T20:00:04.688773",
     "status": "completed"
    },
    "tags": [
     "remove_input"
    ]
   },
   "outputs": [
    {
     "data": {
      "text/html": [
       "\n",
       "<div id=\"altair-viz-d1686b1b378c4284821efc98850dc6d5\"></div>\n",
       "<script type=\"text/javascript\">\n",
       "  var VEGA_DEBUG = (typeof VEGA_DEBUG == \"undefined\") ? {} : VEGA_DEBUG;\n",
       "  (function(spec, embedOpt){\n",
       "    let outputDiv = document.currentScript.previousElementSibling;\n",
       "    if (outputDiv.id !== \"altair-viz-d1686b1b378c4284821efc98850dc6d5\") {\n",
       "      outputDiv = document.getElementById(\"altair-viz-d1686b1b378c4284821efc98850dc6d5\");\n",
       "    }\n",
       "    const paths = {\n",
       "      \"vega\": \"https://cdn.jsdelivr.net/npm//vega@5?noext\",\n",
       "      \"vega-lib\": \"https://cdn.jsdelivr.net/npm//vega-lib?noext\",\n",
       "      \"vega-lite\": \"https://cdn.jsdelivr.net/npm//vega-lite@4.17.0?noext\",\n",
       "      \"vega-embed\": \"https://cdn.jsdelivr.net/npm//vega-embed@6?noext\",\n",
       "    };\n",
       "\n",
       "    function maybeLoadScript(lib, version) {\n",
       "      var key = `${lib.replace(\"-\", \"\")}_version`;\n",
       "      return (VEGA_DEBUG[key] == version) ?\n",
       "        Promise.resolve(paths[lib]) :\n",
       "        new Promise(function(resolve, reject) {\n",
       "          var s = document.createElement('script');\n",
       "          document.getElementsByTagName(\"head\")[0].appendChild(s);\n",
       "          s.async = true;\n",
       "          s.onload = () => {\n",
       "            VEGA_DEBUG[key] = version;\n",
       "            return resolve(paths[lib]);\n",
       "          };\n",
       "          s.onerror = () => reject(`Error loading script: ${paths[lib]}`);\n",
       "          s.src = paths[lib];\n",
       "        });\n",
       "    }\n",
       "\n",
       "    function showError(err) {\n",
       "      outputDiv.innerHTML = `<div class=\"error\" style=\"color:red;\">${err}</div>`;\n",
       "      throw err;\n",
       "    }\n",
       "\n",
       "    function displayChart(vegaEmbed) {\n",
       "      vegaEmbed(outputDiv, spec, embedOpt)\n",
       "        .catch(err => showError(`Javascript Error: ${err.message}<br>This usually means there's a typo in your chart specification. See the javascript console for the full traceback.`));\n",
       "    }\n",
       "\n",
       "    if(typeof define === \"function\" && define.amd) {\n",
       "      requirejs.config({paths});\n",
       "      require([\"vega-embed\"], displayChart, err => showError(`Error loading script: ${err.message}`));\n",
       "    } else {\n",
       "      maybeLoadScript(\"vega\", \"5\")\n",
       "        .then(() => maybeLoadScript(\"vega-lite\", \"4.17.0\"))\n",
       "        .then(() => maybeLoadScript(\"vega-embed\", \"6\"))\n",
       "        .catch(showError)\n",
       "        .then(() => displayChart(vegaEmbed));\n",
       "    }\n",
       "  })({\"config\": {\"view\": {\"continuousWidth\": 400, \"continuousHeight\": 300}, \"axis\": {\"domainColor\": \"#cbcbcb\", \"grid\": true, \"gridColor\": \"#cbcbcb\", \"gridWidth\": 1, \"labelColor\": \"#474747\", \"labelFont\": \"Nunito Sans\", \"labelFontSize\": 10, \"labelPadding\": 4, \"tickColor\": \"#cbcbcb\", \"tickSize\": 10, \"titleColor\": \"#333\", \"titleFont\": \"Raleway\", \"titleFontSize\": 12, \"titlePadding\": 10}, \"axisBand\": {\"grid\": false}, \"background\": \"white\", \"font\": \"Raleway\", \"header\": {\"labelFont\": \"Nunito Sans\", \"titleFont\": \"Raleway\"}, \"legend\": {\"labelColor\": \"#333\", \"labelFont\": \"Nunito Sans\", \"labelFontSize\": 11, \"labelLimit\": 0, \"padding\": 1, \"symbolSize\": 30, \"symbolType\": \"square\", \"titleColor\": \"#333\", \"titleFont\": \"Raleway\", \"titleFontSize\": 14, \"titlePadding\": 10}, \"title\": {\"anchor\": \"middle\", \"font\": \"Raleway\", \"fontSize\": 18, \"fontWeight\": 300, \"offset\": 20}}, \"data\": {\"name\": \"data-f2e172eea0607d65b368c03345257a48\"}, \"mark\": \"bar\", \"encoding\": {\"color\": {\"field\": \"prefix\", \"legend\": {\"symbolLimit\": 10, \"title\": \"Prefix Code\"}, \"scale\": {\"range\": [\"#2EA8CE\", \"#EB9F3C\", \"#F4D837\", \"#51BF9D\", \"#8CBCCB\", \"#9487C0\"]}, \"type\": \"nominal\"}, \"tooltip\": [{\"field\": \"prefix\", \"type\": \"nominal\"}, {\"field\": \"adjusted_total_requested\", \"type\": \"quantitative\"}], \"x\": {\"field\": \"prefix\", \"sort\": \"-y\", \"title\": \"Prefix Code\", \"type\": \"nominal\"}, \"y\": {\"field\": \"adjusted_total_requested\", \"title\": \"Total Requested\", \"type\": \"quantitative\"}}, \"height\": 250, \"width\": 400, \"$schema\": \"https://vega.github.io/schema/vega-lite/v4.17.0.json\", \"datasets\": {\"data-f2e172eea0607d65b368c03345257a48\": [{\"prefix\": \"BUILDL\", \"adjusted_total_requested\": 100043553.12716283}, {\"prefix\": \"NCIIPL\", \"adjusted_total_requested\": 31030822.136926275}, {\"prefix\": \"ATCMTD\", \"adjusted_total_requested\": 23274080.53390696}, {\"prefix\": \"ESPLEH\", \"adjusted_total_requested\": 22793698.273744546}, {\"prefix\": \"FTASTPCM\", \"adjusted_total_requested\": 9244428.96573825}, {\"prefix\": \"HPLUN\", \"adjusted_total_requested\": 9022468.88374991}, {\"prefix\": \"FERPL\", \"adjusted_total_requested\": 8784520.256495953}, {\"prefix\": \"ESPSEH\", \"adjusted_total_requested\": 6979458.783465311}, {\"prefix\": \"FTACML\", \"adjusted_total_requested\": 6165360.437716389}, {\"prefix\": \"BHLS\", \"adjusted_total_requested\": 4871659.659887092}, {\"prefix\": \"FTACRRSA\", \"adjusted_total_requested\": 4335003.691867984}, {\"prefix\": \"FTAFERPL\", \"adjusted_total_requested\": 3543087.546328245}, {\"prefix\": \"STPLNI\", \"adjusted_total_requested\": 2887262.5781427315}, {\"prefix\": \"STP\", \"adjusted_total_requested\": 2625815.8366951165}, {\"prefix\": \"TCESB1L\", \"adjusted_total_requested\": 2451624.9202911104}, {\"prefix\": \"FTACMSPL\", \"adjusted_total_requested\": 2439230.897893468}, {\"prefix\": \"ATPSB1L\", \"adjusted_total_requested\": 2239865.8713008775}, {\"prefix\": \"LPPSTPL\", \"adjusted_total_requested\": 2220723.5114695076}, {\"prefix\": \"FTACRAL\", \"adjusted_total_requested\": 1899083.3805674575}, {\"prefix\": \"BRLZ\", \"adjusted_total_requested\": 1850302.659280733}, {\"prefix\": \"FTASTPL\", \"adjusted_total_requested\": 1707635.4716058492}, {\"prefix\": \"ATPL\", \"adjusted_total_requested\": 1678603.7530004312}, {\"prefix\": \"HP21L\", \"adjusted_total_requested\": 1439664.981378112}, {\"prefix\": \"FTAATP\", \"adjusted_total_requested\": 1436033.4443832503}, {\"prefix\": \"STPLR\", \"adjusted_total_requested\": 1345244.3103119866}, {\"prefix\": \"STPLZ\", \"adjusted_total_requested\": 1297009.4177017878}, {\"prefix\": \"TCSPCM\", \"adjusted_total_requested\": 1207841.576513245}, {\"prefix\": \"ATPHSIP\", \"adjusted_total_requested\": 1205629.5794587855}, {\"prefix\": \"BRLS\", \"adjusted_total_requested\": 1196411.6237351694}, {\"prefix\": \"CMSTPL\", \"adjusted_total_requested\": 1178893.2241298074}]}}, {\"mode\": \"vega-lite\"});\n",
       "</script>"
      ],
      "text/plain": [
       "alt.Chart(...)"
      ]
     },
     "metadata": {},
     "output_type": "display_data"
    }
   ],
   "source": [
    "# Bar chart Average Total Requested Funds by Prefix\n",
    "chart8 = (_dla_utils.basic_bar_chart_no_save((((_dla_utils.calculate_data_all(df, 'adjusted_total_requested', 'prefix', aggfunc=\"mean\"))\n",
    "                          >>arrange(-_.adjusted_total_requested)).head(30)), 'prefix','adjusted_total_requested', 'prefix', district\n",
    "                       ))\n",
    "    \n",
    "display(chart8)\n",
    "    "
   ]
  },
  {
   "cell_type": "markdown",
   "id": "c4218a37-675e-40be-9659-d1297a62dc1b",
   "metadata": {
    "papermill": {
     "duration": 0.029208,
     "end_time": "2022-05-27T20:00:04.818245",
     "exception": false,
     "start_time": "2022-05-27T20:00:04.789037",
     "status": "completed"
    },
    "tags": []
   },
   "source": [
    "\n",
    "## Work Categories\n",
    "***"
   ]
  },
  {
   "cell_type": "markdown",
   "id": "d41b493b-2ab7-4c43-96ee-8e64a7c3e11a",
   "metadata": {
    "papermill": {
     "duration": 0.027815,
     "end_time": "2022-05-27T20:00:04.876208",
     "exception": false,
     "start_time": "2022-05-27T20:00:04.848393",
     "status": "completed"
    },
    "tags": []
   },
   "source": [
    "While the data includes a description column, organizations have the option to manually input the descriptions. Using the organizations descriptions of the obligattion type, we can categorize the obligations in terms of types of work. We used the following type of work categories:\n",
    "* Active Transportation\n",
    "* Transit\n",
    "* Bridge\n",
    "* Street\n",
    "* Freeway\n",
    "* Infrastructure/Resiliency/Emergency Relief \n",
    "* Congestion Relief\n",
    "\n",
    "With these categories, we can determine which organizations have the most obligations in that category and what percent of the category that organization accounts for. "
   ]
  },
  {
   "cell_type": "code",
   "execution_count": 16,
   "id": "50a1cf08-17eb-4b2b-9dc0-671ee7551f2d",
   "metadata": {
    "execution": {
     "iopub.execute_input": "2022-05-27T20:00:04.936487Z",
     "iopub.status.busy": "2022-05-27T20:00:04.935930Z",
     "iopub.status.idle": "2022-05-27T20:00:05.711966Z",
     "shell.execute_reply": "2022-05-27T20:00:05.711054Z"
    },
    "jupyter": {
     "source_hidden": true
    },
    "papermill": {
     "duration": 0.809648,
     "end_time": "2022-05-27T20:00:05.714393",
     "exception": false,
     "start_time": "2022-05-27T20:00:04.904745",
     "status": "completed"
    },
    "tags": [
     "remove_input"
    ]
   },
   "outputs": [
    {
     "data": {
      "application/vnd.jupyter.widget-view+json": {
       "model_id": "449fd66d88c5485e9f1cc0a99e3d39de",
       "version_major": 2,
       "version_minor": 0
      },
      "text/plain": [
       "HTML(value='<h3> Top Agencies using Active Transportation Projects </h3>')"
      ]
     },
     "metadata": {},
     "output_type": "display_data"
    },
    {
     "data": {
      "application/vnd.jupyter.widget-view+json": {
       "model_id": "25de3f32b2b54e73b510a2dcc4171cdf",
       "version_major": 2,
       "version_minor": 0
      },
      "text/plain": [
       "HTML(value='<style type=\"text/css\">\\n#T_654c2 th {\\n  text-align: center;\\n}\\n#T_654c2_row0_col0, #T_654c2_row…"
      ]
     },
     "metadata": {},
     "output_type": "display_data"
    },
    {
     "data": {
      "text/html": [
       "\n",
       "<div id=\"altair-viz-f96afae0efc749d6a585489af9c6ef81\"></div>\n",
       "<script type=\"text/javascript\">\n",
       "  var VEGA_DEBUG = (typeof VEGA_DEBUG == \"undefined\") ? {} : VEGA_DEBUG;\n",
       "  (function(spec, embedOpt){\n",
       "    let outputDiv = document.currentScript.previousElementSibling;\n",
       "    if (outputDiv.id !== \"altair-viz-f96afae0efc749d6a585489af9c6ef81\") {\n",
       "      outputDiv = document.getElementById(\"altair-viz-f96afae0efc749d6a585489af9c6ef81\");\n",
       "    }\n",
       "    const paths = {\n",
       "      \"vega\": \"https://cdn.jsdelivr.net/npm//vega@5?noext\",\n",
       "      \"vega-lib\": \"https://cdn.jsdelivr.net/npm//vega-lib?noext\",\n",
       "      \"vega-lite\": \"https://cdn.jsdelivr.net/npm//vega-lite@4.17.0?noext\",\n",
       "      \"vega-embed\": \"https://cdn.jsdelivr.net/npm//vega-embed@6?noext\",\n",
       "    };\n",
       "\n",
       "    function maybeLoadScript(lib, version) {\n",
       "      var key = `${lib.replace(\"-\", \"\")}_version`;\n",
       "      return (VEGA_DEBUG[key] == version) ?\n",
       "        Promise.resolve(paths[lib]) :\n",
       "        new Promise(function(resolve, reject) {\n",
       "          var s = document.createElement('script');\n",
       "          document.getElementsByTagName(\"head\")[0].appendChild(s);\n",
       "          s.async = true;\n",
       "          s.onload = () => {\n",
       "            VEGA_DEBUG[key] = version;\n",
       "            return resolve(paths[lib]);\n",
       "          };\n",
       "          s.onerror = () => reject(`Error loading script: ${paths[lib]}`);\n",
       "          s.src = paths[lib];\n",
       "        });\n",
       "    }\n",
       "\n",
       "    function showError(err) {\n",
       "      outputDiv.innerHTML = `<div class=\"error\" style=\"color:red;\">${err}</div>`;\n",
       "      throw err;\n",
       "    }\n",
       "\n",
       "    function displayChart(vegaEmbed) {\n",
       "      vegaEmbed(outputDiv, spec, embedOpt)\n",
       "        .catch(err => showError(`Javascript Error: ${err.message}<br>This usually means there's a typo in your chart specification. See the javascript console for the full traceback.`));\n",
       "    }\n",
       "\n",
       "    if(typeof define === \"function\" && define.amd) {\n",
       "      requirejs.config({paths});\n",
       "      require([\"vega-embed\"], displayChart, err => showError(`Error loading script: ${err.message}`));\n",
       "    } else {\n",
       "      maybeLoadScript(\"vega\", \"5\")\n",
       "        .then(() => maybeLoadScript(\"vega-lite\", \"4.17.0\"))\n",
       "        .then(() => maybeLoadScript(\"vega-embed\", \"6\"))\n",
       "        .catch(showError)\n",
       "        .then(() => displayChart(vegaEmbed));\n",
       "    }\n",
       "  })({\"config\": {\"view\": {\"continuousWidth\": 400, \"continuousHeight\": 300}}, \"data\": {\"name\": \"data-d956a486d52d4b30d4be419d26f57225\"}, \"mark\": \"bar\", \"encoding\": {\"color\": {\"field\": \"Categories\", \"scale\": {\"range\": [\"#2EA8CE\", \"#EB9F3C\", \"#F4D837\", \"#51BF9D\", \"#8CBCCB\", \"#9487C0\"]}, \"type\": \"nominal\"}, \"row\": {\"field\": \"Categories\", \"type\": \"nominal\"}, \"tooltip\": [{\"field\": \"Agency\", \"type\": \"nominal\"}, {\"field\": \"Funding Amount\", \"type\": \"quantitative\"}], \"x\": {\"axis\": {\"format\": \"$.2s\", \"title\": \"Obligated Funding ($2021)\"}, \"field\": \"Funding Amount\", \"type\": \"quantitative\"}, \"y\": {\"field\": \"Agency\", \"type\": \"nominal\"}}, \"height\": 70, \"width\": 400, \"$schema\": \"https://vega.github.io/schema/vega-lite/v4.17.0.json\", \"datasets\": {\"data-d956a486d52d4b30d4be419d26f57225\": [{\"Agency\": \"San Jose\", \"Categories\": \"Total Requested\", \"Funding Amount\": 814137.7836283975}, {\"Agency\": \"Oakland\", \"Categories\": \"Total Requested\", \"Funding Amount\": 1180434.5391466669}, {\"Agency\": \"Sunnyvale\", \"Categories\": \"Total Requested\", \"Funding Amount\": 300003.0639059774}, {\"Agency\": \"City & County of San Francisco, MTA/Parking & Traffic\", \"Categories\": \"Total Requested\", \"Funding Amount\": 399422.13886393333}, {\"Agency\": \"Contra Costa County\", \"Categories\": \"Total Requested\", \"Funding Amount\": 898201.5835452286}, {\"Agency\": \"San Jose\", \"Categories\": \"Fed Requested\", \"Funding Amount\": 608959.3462479156}, {\"Agency\": \"Oakland\", \"Categories\": \"Fed Requested\", \"Funding Amount\": 756409.0152040451}, {\"Agency\": \"Sunnyvale\", \"Categories\": \"Fed Requested\", \"Funding Amount\": 239122.05118814087}, {\"Agency\": \"City & County of San Francisco, MTA/Parking & Traffic\", \"Categories\": \"Fed Requested\", \"Funding Amount\": 275973.90511533467}, {\"Agency\": \"Contra Costa County\", \"Categories\": \"Fed Requested\", \"Funding Amount\": 421340.42988505145}, {\"Agency\": \"San Jose\", \"Categories\": \"AC Requested\", \"Funding Amount\": 1556.8402544351802}, {\"Agency\": \"Oakland\", \"Categories\": \"AC Requested\", \"Funding Amount\": 0.0}, {\"Agency\": \"Sunnyvale\", \"Categories\": \"AC Requested\", \"Funding Amount\": 0.0}, {\"Agency\": \"City & County of San Francisco, MTA/Parking & Traffic\", \"Categories\": \"AC Requested\", \"Funding Amount\": 0.0}, {\"Agency\": \"Contra Costa County\", \"Categories\": \"AC Requested\", \"Funding Amount\": 0.0}]}}, {\"mode\": \"vega-lite\"});\n",
       "</script>"
      ],
      "text/plain": [
       "alt.Chart(...)"
      ]
     },
     "metadata": {},
     "output_type": "display_data"
    },
    {
     "data": {
      "application/vnd.jupyter.widget-view+json": {
       "model_id": "34fafbb5a87e4f85be951f1f4471ac96",
       "version_major": 2,
       "version_minor": 0
      },
      "text/plain": [
       "HTML(value='<h3> Top Agencies using Transit Projects </h3>')"
      ]
     },
     "metadata": {},
     "output_type": "display_data"
    },
    {
     "data": {
      "application/vnd.jupyter.widget-view+json": {
       "model_id": "ca9ecc93b8774b6db4fb17434865c1c3",
       "version_major": 2,
       "version_minor": 0
      },
      "text/plain": [
       "HTML(value='<style type=\"text/css\">\\n#T_94ed9 th {\\n  text-align: center;\\n}\\n#T_94ed9_row0_col0, #T_94ed9_row…"
      ]
     },
     "metadata": {},
     "output_type": "display_data"
    },
    {
     "data": {
      "text/html": [
       "\n",
       "<div id=\"altair-viz-8efefa9a0a1b4cf29c174770dc818eb8\"></div>\n",
       "<script type=\"text/javascript\">\n",
       "  var VEGA_DEBUG = (typeof VEGA_DEBUG == \"undefined\") ? {} : VEGA_DEBUG;\n",
       "  (function(spec, embedOpt){\n",
       "    let outputDiv = document.currentScript.previousElementSibling;\n",
       "    if (outputDiv.id !== \"altair-viz-8efefa9a0a1b4cf29c174770dc818eb8\") {\n",
       "      outputDiv = document.getElementById(\"altair-viz-8efefa9a0a1b4cf29c174770dc818eb8\");\n",
       "    }\n",
       "    const paths = {\n",
       "      \"vega\": \"https://cdn.jsdelivr.net/npm//vega@5?noext\",\n",
       "      \"vega-lib\": \"https://cdn.jsdelivr.net/npm//vega-lib?noext\",\n",
       "      \"vega-lite\": \"https://cdn.jsdelivr.net/npm//vega-lite@4.17.0?noext\",\n",
       "      \"vega-embed\": \"https://cdn.jsdelivr.net/npm//vega-embed@6?noext\",\n",
       "    };\n",
       "\n",
       "    function maybeLoadScript(lib, version) {\n",
       "      var key = `${lib.replace(\"-\", \"\")}_version`;\n",
       "      return (VEGA_DEBUG[key] == version) ?\n",
       "        Promise.resolve(paths[lib]) :\n",
       "        new Promise(function(resolve, reject) {\n",
       "          var s = document.createElement('script');\n",
       "          document.getElementsByTagName(\"head\")[0].appendChild(s);\n",
       "          s.async = true;\n",
       "          s.onload = () => {\n",
       "            VEGA_DEBUG[key] = version;\n",
       "            return resolve(paths[lib]);\n",
       "          };\n",
       "          s.onerror = () => reject(`Error loading script: ${paths[lib]}`);\n",
       "          s.src = paths[lib];\n",
       "        });\n",
       "    }\n",
       "\n",
       "    function showError(err) {\n",
       "      outputDiv.innerHTML = `<div class=\"error\" style=\"color:red;\">${err}</div>`;\n",
       "      throw err;\n",
       "    }\n",
       "\n",
       "    function displayChart(vegaEmbed) {\n",
       "      vegaEmbed(outputDiv, spec, embedOpt)\n",
       "        .catch(err => showError(`Javascript Error: ${err.message}<br>This usually means there's a typo in your chart specification. See the javascript console for the full traceback.`));\n",
       "    }\n",
       "\n",
       "    if(typeof define === \"function\" && define.amd) {\n",
       "      requirejs.config({paths});\n",
       "      require([\"vega-embed\"], displayChart, err => showError(`Error loading script: ${err.message}`));\n",
       "    } else {\n",
       "      maybeLoadScript(\"vega\", \"5\")\n",
       "        .then(() => maybeLoadScript(\"vega-lite\", \"4.17.0\"))\n",
       "        .then(() => maybeLoadScript(\"vega-embed\", \"6\"))\n",
       "        .catch(showError)\n",
       "        .then(() => displayChart(vegaEmbed));\n",
       "    }\n",
       "  })({\"config\": {\"view\": {\"continuousWidth\": 400, \"continuousHeight\": 300}}, \"data\": {\"name\": \"data-eb4745273a69abb8dad139c9c12434d4\"}, \"mark\": \"bar\", \"encoding\": {\"color\": {\"field\": \"Categories\", \"scale\": {\"range\": [\"#2EA8CE\", \"#EB9F3C\", \"#F4D837\", \"#51BF9D\", \"#8CBCCB\", \"#9487C0\"]}, \"type\": \"nominal\"}, \"row\": {\"field\": \"Categories\", \"type\": \"nominal\"}, \"tooltip\": [{\"field\": \"Agency\", \"type\": \"nominal\"}, {\"field\": \"Funding Amount\", \"type\": \"quantitative\"}], \"x\": {\"axis\": {\"format\": \"$.2s\", \"title\": \"Obligated Funding ($2021)\"}, \"field\": \"Funding Amount\", \"type\": \"quantitative\"}, \"y\": {\"field\": \"Agency\", \"type\": \"nominal\"}}, \"height\": 70, \"width\": 400, \"$schema\": \"https://vega.github.io/schema/vega-lite/v4.17.0.json\", \"datasets\": {\"data-eb4745273a69abb8dad139c9c12434d4\": [{\"Agency\": \"Metropolitan Transportation Commission\", \"Categories\": \"Total Requested\", \"Funding Amount\": 1891120.7657899645}, {\"Agency\": \"Sunnyvale\", \"Categories\": \"Total Requested\", \"Funding Amount\": 922649.8091449104}, {\"Agency\": \"Oakland\", \"Categories\": \"Total Requested\", \"Funding Amount\": 1799536.078974054}, {\"Agency\": \"San Jose\", \"Categories\": \"Total Requested\", \"Funding Amount\": 295984.4092976527}, {\"Agency\": \"San Leandro\", \"Categories\": \"Total Requested\", \"Funding Amount\": 143582.35902528386}, {\"Agency\": \"Metropolitan Transportation Commission\", \"Categories\": \"Fed Requested\", \"Funding Amount\": 1879749.0219219865}, {\"Agency\": \"Sunnyvale\", \"Categories\": \"Fed Requested\", \"Funding Amount\": 717417.7793744908}, {\"Agency\": \"Oakland\", \"Categories\": \"Fed Requested\", \"Funding Amount\": 1204808.1708253678}, {\"Agency\": \"San Jose\", \"Categories\": \"Fed Requested\", \"Funding Amount\": 270786.4812614909}, {\"Agency\": \"San Leandro\", \"Categories\": \"Fed Requested\", \"Funding Amount\": -328.53984403832146}, {\"Agency\": \"Metropolitan Transportation Commission\", \"Categories\": \"AC Requested\", \"Funding Amount\": 0.0}, {\"Agency\": \"Sunnyvale\", \"Categories\": \"AC Requested\", \"Funding Amount\": 0.0}, {\"Agency\": \"Oakland\", \"Categories\": \"AC Requested\", \"Funding Amount\": 0.0}, {\"Agency\": \"San Jose\", \"Categories\": \"AC Requested\", \"Funding Amount\": 0.0}, {\"Agency\": \"San Leandro\", \"Categories\": \"AC Requested\", \"Funding Amount\": 0.0}]}}, {\"mode\": \"vega-lite\"});\n",
       "</script>"
      ],
      "text/plain": [
       "alt.Chart(...)"
      ]
     },
     "metadata": {},
     "output_type": "display_data"
    },
    {
     "data": {
      "application/vnd.jupyter.widget-view+json": {
       "model_id": "90b33fdb8bb444db9329b11a608f89bc",
       "version_major": 2,
       "version_minor": 0
      },
      "text/plain": [
       "HTML(value='<h3> Top Agencies using Bridge Projects </h3>')"
      ]
     },
     "metadata": {},
     "output_type": "display_data"
    },
    {
     "data": {
      "application/vnd.jupyter.widget-view+json": {
       "model_id": "b78880591b4a4e0e9a0b4aaf315d312d",
       "version_major": 2,
       "version_minor": 0
      },
      "text/plain": [
       "HTML(value='<style type=\"text/css\">\\n#T_c0d4f th {\\n  text-align: center;\\n}\\n#T_c0d4f_row0_col0, #T_c0d4f_row…"
      ]
     },
     "metadata": {},
     "output_type": "display_data"
    },
    {
     "data": {
      "text/html": [
       "\n",
       "<div id=\"altair-viz-ac48c0f6fbec4c9a915ebc9899d2acb9\"></div>\n",
       "<script type=\"text/javascript\">\n",
       "  var VEGA_DEBUG = (typeof VEGA_DEBUG == \"undefined\") ? {} : VEGA_DEBUG;\n",
       "  (function(spec, embedOpt){\n",
       "    let outputDiv = document.currentScript.previousElementSibling;\n",
       "    if (outputDiv.id !== \"altair-viz-ac48c0f6fbec4c9a915ebc9899d2acb9\") {\n",
       "      outputDiv = document.getElementById(\"altair-viz-ac48c0f6fbec4c9a915ebc9899d2acb9\");\n",
       "    }\n",
       "    const paths = {\n",
       "      \"vega\": \"https://cdn.jsdelivr.net/npm//vega@5?noext\",\n",
       "      \"vega-lib\": \"https://cdn.jsdelivr.net/npm//vega-lib?noext\",\n",
       "      \"vega-lite\": \"https://cdn.jsdelivr.net/npm//vega-lite@4.17.0?noext\",\n",
       "      \"vega-embed\": \"https://cdn.jsdelivr.net/npm//vega-embed@6?noext\",\n",
       "    };\n",
       "\n",
       "    function maybeLoadScript(lib, version) {\n",
       "      var key = `${lib.replace(\"-\", \"\")}_version`;\n",
       "      return (VEGA_DEBUG[key] == version) ?\n",
       "        Promise.resolve(paths[lib]) :\n",
       "        new Promise(function(resolve, reject) {\n",
       "          var s = document.createElement('script');\n",
       "          document.getElementsByTagName(\"head\")[0].appendChild(s);\n",
       "          s.async = true;\n",
       "          s.onload = () => {\n",
       "            VEGA_DEBUG[key] = version;\n",
       "            return resolve(paths[lib]);\n",
       "          };\n",
       "          s.onerror = () => reject(`Error loading script: ${paths[lib]}`);\n",
       "          s.src = paths[lib];\n",
       "        });\n",
       "    }\n",
       "\n",
       "    function showError(err) {\n",
       "      outputDiv.innerHTML = `<div class=\"error\" style=\"color:red;\">${err}</div>`;\n",
       "      throw err;\n",
       "    }\n",
       "\n",
       "    function displayChart(vegaEmbed) {\n",
       "      vegaEmbed(outputDiv, spec, embedOpt)\n",
       "        .catch(err => showError(`Javascript Error: ${err.message}<br>This usually means there's a typo in your chart specification. See the javascript console for the full traceback.`));\n",
       "    }\n",
       "\n",
       "    if(typeof define === \"function\" && define.amd) {\n",
       "      requirejs.config({paths});\n",
       "      require([\"vega-embed\"], displayChart, err => showError(`Error loading script: ${err.message}`));\n",
       "    } else {\n",
       "      maybeLoadScript(\"vega\", \"5\")\n",
       "        .then(() => maybeLoadScript(\"vega-lite\", \"4.17.0\"))\n",
       "        .then(() => maybeLoadScript(\"vega-embed\", \"6\"))\n",
       "        .catch(showError)\n",
       "        .then(() => displayChart(vegaEmbed));\n",
       "    }\n",
       "  })({\"config\": {\"view\": {\"continuousWidth\": 400, \"continuousHeight\": 300}}, \"data\": {\"name\": \"data-7ea4d45fcee2336759842593388b44ad\"}, \"mark\": \"bar\", \"encoding\": {\"color\": {\"field\": \"Categories\", \"scale\": {\"range\": [\"#2EA8CE\", \"#EB9F3C\", \"#F4D837\", \"#51BF9D\", \"#8CBCCB\", \"#9487C0\"]}, \"type\": \"nominal\"}, \"row\": {\"field\": \"Categories\", \"type\": \"nominal\"}, \"tooltip\": [{\"field\": \"Agency\", \"type\": \"nominal\"}, {\"field\": \"Funding Amount\", \"type\": \"quantitative\"}], \"x\": {\"axis\": {\"format\": \"$.2s\", \"title\": \"Obligated Funding ($2021)\"}, \"field\": \"Funding Amount\", \"type\": \"quantitative\"}, \"y\": {\"field\": \"Agency\", \"type\": \"nominal\"}}, \"height\": 70, \"width\": 400, \"$schema\": \"https://vega.github.io/schema/vega-lite/v4.17.0.json\", \"datasets\": {\"data-7ea4d45fcee2336759842593388b44ad\": [{\"Agency\": \"Santa Clara County\", \"Categories\": \"Total Requested\", \"Funding Amount\": 625981.7295367706}, {\"Agency\": \"Contra Costa County\", \"Categories\": \"Total Requested\", \"Funding Amount\": 1317188.5515120777}, {\"Agency\": \"Sonoma County\", \"Categories\": \"Total Requested\", \"Funding Amount\": 774888.3407791113}, {\"Agency\": \"Napa County\", \"Categories\": \"Total Requested\", \"Funding Amount\": 402386.58303412487}, {\"Agency\": \"Oakland\", \"Categories\": \"Total Requested\", \"Funding Amount\": 1567186.3367742712}, {\"Agency\": \"Santa Clara County\", \"Categories\": \"Fed Requested\", \"Funding Amount\": 549473.7829282236}, {\"Agency\": \"Contra Costa County\", \"Categories\": \"Fed Requested\", \"Funding Amount\": 1044075.7366779107}, {\"Agency\": \"Sonoma County\", \"Categories\": \"Fed Requested\", \"Funding Amount\": 576898.2425370909}, {\"Agency\": \"Napa County\", \"Categories\": \"Fed Requested\", \"Funding Amount\": 408801.1153606121}, {\"Agency\": \"Oakland\", \"Categories\": \"Fed Requested\", \"Funding Amount\": 1259324.924989911}, {\"Agency\": \"Santa Clara County\", \"Categories\": \"AC Requested\", \"Funding Amount\": 6877.785921315498}, {\"Agency\": \"Contra Costa County\", \"Categories\": \"AC Requested\", \"Funding Amount\": 106533.47492573563}, {\"Agency\": \"Sonoma County\", \"Categories\": \"AC Requested\", \"Funding Amount\": 112759.46963405376}, {\"Agency\": \"Napa County\", \"Categories\": \"AC Requested\", \"Funding Amount\": 214.03911686026547}, {\"Agency\": \"Oakland\", \"Categories\": \"AC Requested\", \"Funding Amount\": 0.0}]}}, {\"mode\": \"vega-lite\"});\n",
       "</script>"
      ],
      "text/plain": [
       "alt.Chart(...)"
      ]
     },
     "metadata": {},
     "output_type": "display_data"
    },
    {
     "data": {
      "application/vnd.jupyter.widget-view+json": {
       "model_id": "087fce43d30f467db6a6bafc697d4773",
       "version_major": 2,
       "version_minor": 0
      },
      "text/plain": [
       "HTML(value='<h3> Top Agencies using Street Projects </h3>')"
      ]
     },
     "metadata": {},
     "output_type": "display_data"
    },
    {
     "data": {
      "application/vnd.jupyter.widget-view+json": {
       "model_id": "12079f4bb82542c79068192046bb4fc7",
       "version_major": 2,
       "version_minor": 0
      },
      "text/plain": [
       "HTML(value='<style type=\"text/css\">\\n#T_57e1d th {\\n  text-align: center;\\n}\\n#T_57e1d_row0_col0, #T_57e1d_row…"
      ]
     },
     "metadata": {},
     "output_type": "display_data"
    },
    {
     "data": {
      "text/html": [
       "\n",
       "<div id=\"altair-viz-5001d7432ec043c08abb29b09a8b2b87\"></div>\n",
       "<script type=\"text/javascript\">\n",
       "  var VEGA_DEBUG = (typeof VEGA_DEBUG == \"undefined\") ? {} : VEGA_DEBUG;\n",
       "  (function(spec, embedOpt){\n",
       "    let outputDiv = document.currentScript.previousElementSibling;\n",
       "    if (outputDiv.id !== \"altair-viz-5001d7432ec043c08abb29b09a8b2b87\") {\n",
       "      outputDiv = document.getElementById(\"altair-viz-5001d7432ec043c08abb29b09a8b2b87\");\n",
       "    }\n",
       "    const paths = {\n",
       "      \"vega\": \"https://cdn.jsdelivr.net/npm//vega@5?noext\",\n",
       "      \"vega-lib\": \"https://cdn.jsdelivr.net/npm//vega-lib?noext\",\n",
       "      \"vega-lite\": \"https://cdn.jsdelivr.net/npm//vega-lite@4.17.0?noext\",\n",
       "      \"vega-embed\": \"https://cdn.jsdelivr.net/npm//vega-embed@6?noext\",\n",
       "    };\n",
       "\n",
       "    function maybeLoadScript(lib, version) {\n",
       "      var key = `${lib.replace(\"-\", \"\")}_version`;\n",
       "      return (VEGA_DEBUG[key] == version) ?\n",
       "        Promise.resolve(paths[lib]) :\n",
       "        new Promise(function(resolve, reject) {\n",
       "          var s = document.createElement('script');\n",
       "          document.getElementsByTagName(\"head\")[0].appendChild(s);\n",
       "          s.async = true;\n",
       "          s.onload = () => {\n",
       "            VEGA_DEBUG[key] = version;\n",
       "            return resolve(paths[lib]);\n",
       "          };\n",
       "          s.onerror = () => reject(`Error loading script: ${paths[lib]}`);\n",
       "          s.src = paths[lib];\n",
       "        });\n",
       "    }\n",
       "\n",
       "    function showError(err) {\n",
       "      outputDiv.innerHTML = `<div class=\"error\" style=\"color:red;\">${err}</div>`;\n",
       "      throw err;\n",
       "    }\n",
       "\n",
       "    function displayChart(vegaEmbed) {\n",
       "      vegaEmbed(outputDiv, spec, embedOpt)\n",
       "        .catch(err => showError(`Javascript Error: ${err.message}<br>This usually means there's a typo in your chart specification. See the javascript console for the full traceback.`));\n",
       "    }\n",
       "\n",
       "    if(typeof define === \"function\" && define.amd) {\n",
       "      requirejs.config({paths});\n",
       "      require([\"vega-embed\"], displayChart, err => showError(`Error loading script: ${err.message}`));\n",
       "    } else {\n",
       "      maybeLoadScript(\"vega\", \"5\")\n",
       "        .then(() => maybeLoadScript(\"vega-lite\", \"4.17.0\"))\n",
       "        .then(() => maybeLoadScript(\"vega-embed\", \"6\"))\n",
       "        .catch(showError)\n",
       "        .then(() => displayChart(vegaEmbed));\n",
       "    }\n",
       "  })({\"config\": {\"view\": {\"continuousWidth\": 400, \"continuousHeight\": 300}}, \"data\": {\"name\": \"data-a4d2f19893f71277b11329d8d9b60d5a\"}, \"mark\": \"bar\", \"encoding\": {\"color\": {\"field\": \"Categories\", \"scale\": {\"range\": [\"#2EA8CE\", \"#EB9F3C\", \"#F4D837\", \"#51BF9D\", \"#8CBCCB\", \"#9487C0\"]}, \"type\": \"nominal\"}, \"row\": {\"field\": \"Categories\", \"type\": \"nominal\"}, \"tooltip\": [{\"field\": \"Agency\", \"type\": \"nominal\"}, {\"field\": \"Funding Amount\", \"type\": \"quantitative\"}], \"x\": {\"axis\": {\"format\": \"$.2s\", \"title\": \"Obligated Funding ($2021)\"}, \"field\": \"Funding Amount\", \"type\": \"quantitative\"}, \"y\": {\"field\": \"Agency\", \"type\": \"nominal\"}}, \"height\": 70, \"width\": 400, \"$schema\": \"https://vega.github.io/schema/vega-lite/v4.17.0.json\", \"datasets\": {\"data-a4d2f19893f71277b11329d8d9b60d5a\": [{\"Agency\": \"Oakland\", \"Categories\": \"Total Requested\", \"Funding Amount\": 940637.6250873761}, {\"Agency\": \"Contra Costa County\", \"Categories\": \"Total Requested\", \"Funding Amount\": 650861.0871543201}, {\"Agency\": \"San Jose\", \"Categories\": \"Total Requested\", \"Funding Amount\": 1164065.2129504825}, {\"Agency\": \"San Francisco County\", \"Categories\": \"Total Requested\", \"Funding Amount\": 4830651.670678332}, {\"Agency\": \"Sunnyvale\", \"Categories\": \"Total Requested\", \"Funding Amount\": 263230.4439052576}, {\"Agency\": \"Oakland\", \"Categories\": \"Fed Requested\", \"Funding Amount\": 649593.376831439}, {\"Agency\": \"Contra Costa County\", \"Categories\": \"Fed Requested\", \"Funding Amount\": 446281.77568683936}, {\"Agency\": \"San Jose\", \"Categories\": \"Fed Requested\", \"Funding Amount\": 948888.6578596915}, {\"Agency\": \"San Francisco County\", \"Categories\": \"Fed Requested\", \"Funding Amount\": 596351.3825193458}, {\"Agency\": \"Sunnyvale\", \"Categories\": \"Fed Requested\", \"Funding Amount\": 218961.48645088891}, {\"Agency\": \"Oakland\", \"Categories\": \"AC Requested\", \"Funding Amount\": 0.0}, {\"Agency\": \"Contra Costa County\", \"Categories\": \"AC Requested\", \"Funding Amount\": 226.21061060518215}, {\"Agency\": \"San Jose\", \"Categories\": \"AC Requested\", \"Funding Amount\": 0.0}, {\"Agency\": \"San Francisco County\", \"Categories\": \"AC Requested\", \"Funding Amount\": 3762.4890021642877}, {\"Agency\": \"Sunnyvale\", \"Categories\": \"AC Requested\", \"Funding Amount\": 0.0}]}}, {\"mode\": \"vega-lite\"});\n",
       "</script>"
      ],
      "text/plain": [
       "alt.Chart(...)"
      ]
     },
     "metadata": {},
     "output_type": "display_data"
    },
    {
     "data": {
      "application/vnd.jupyter.widget-view+json": {
       "model_id": "79d3e982783841a6820f86753c4a7dd7",
       "version_major": 2,
       "version_minor": 0
      },
      "text/plain": [
       "HTML(value='<h3> Top Agencies using Freeway Projects </h3>')"
      ]
     },
     "metadata": {},
     "output_type": "display_data"
    },
    {
     "data": {
      "application/vnd.jupyter.widget-view+json": {
       "model_id": "4659bdbf9bf24a82b742a83f9449c3c0",
       "version_major": 2,
       "version_minor": 0
      },
      "text/plain": [
       "HTML(value='<style type=\"text/css\">\\n#T_c85f5 th {\\n  text-align: center;\\n}\\n#T_c85f5_row0_col0, #T_c85f5_row…"
      ]
     },
     "metadata": {},
     "output_type": "display_data"
    },
    {
     "data": {
      "text/html": [
       "\n",
       "<div id=\"altair-viz-037b4240a29d457e80667a34ffa215a1\"></div>\n",
       "<script type=\"text/javascript\">\n",
       "  var VEGA_DEBUG = (typeof VEGA_DEBUG == \"undefined\") ? {} : VEGA_DEBUG;\n",
       "  (function(spec, embedOpt){\n",
       "    let outputDiv = document.currentScript.previousElementSibling;\n",
       "    if (outputDiv.id !== \"altair-viz-037b4240a29d457e80667a34ffa215a1\") {\n",
       "      outputDiv = document.getElementById(\"altair-viz-037b4240a29d457e80667a34ffa215a1\");\n",
       "    }\n",
       "    const paths = {\n",
       "      \"vega\": \"https://cdn.jsdelivr.net/npm//vega@5?noext\",\n",
       "      \"vega-lib\": \"https://cdn.jsdelivr.net/npm//vega-lib?noext\",\n",
       "      \"vega-lite\": \"https://cdn.jsdelivr.net/npm//vega-lite@4.17.0?noext\",\n",
       "      \"vega-embed\": \"https://cdn.jsdelivr.net/npm//vega-embed@6?noext\",\n",
       "    };\n",
       "\n",
       "    function maybeLoadScript(lib, version) {\n",
       "      var key = `${lib.replace(\"-\", \"\")}_version`;\n",
       "      return (VEGA_DEBUG[key] == version) ?\n",
       "        Promise.resolve(paths[lib]) :\n",
       "        new Promise(function(resolve, reject) {\n",
       "          var s = document.createElement('script');\n",
       "          document.getElementsByTagName(\"head\")[0].appendChild(s);\n",
       "          s.async = true;\n",
       "          s.onload = () => {\n",
       "            VEGA_DEBUG[key] = version;\n",
       "            return resolve(paths[lib]);\n",
       "          };\n",
       "          s.onerror = () => reject(`Error loading script: ${paths[lib]}`);\n",
       "          s.src = paths[lib];\n",
       "        });\n",
       "    }\n",
       "\n",
       "    function showError(err) {\n",
       "      outputDiv.innerHTML = `<div class=\"error\" style=\"color:red;\">${err}</div>`;\n",
       "      throw err;\n",
       "    }\n",
       "\n",
       "    function displayChart(vegaEmbed) {\n",
       "      vegaEmbed(outputDiv, spec, embedOpt)\n",
       "        .catch(err => showError(`Javascript Error: ${err.message}<br>This usually means there's a typo in your chart specification. See the javascript console for the full traceback.`));\n",
       "    }\n",
       "\n",
       "    if(typeof define === \"function\" && define.amd) {\n",
       "      requirejs.config({paths});\n",
       "      require([\"vega-embed\"], displayChart, err => showError(`Error loading script: ${err.message}`));\n",
       "    } else {\n",
       "      maybeLoadScript(\"vega\", \"5\")\n",
       "        .then(() => maybeLoadScript(\"vega-lite\", \"4.17.0\"))\n",
       "        .then(() => maybeLoadScript(\"vega-embed\", \"6\"))\n",
       "        .catch(showError)\n",
       "        .then(() => displayChart(vegaEmbed));\n",
       "    }\n",
       "  })({\"config\": {\"view\": {\"continuousWidth\": 400, \"continuousHeight\": 300}}, \"data\": {\"name\": \"data-ebf3376bce130b2c6735942d9f81fd59\"}, \"mark\": \"bar\", \"encoding\": {\"color\": {\"field\": \"Categories\", \"scale\": {\"range\": [\"#2EA8CE\", \"#EB9F3C\", \"#F4D837\", \"#51BF9D\", \"#8CBCCB\", \"#9487C0\"]}, \"type\": \"nominal\"}, \"row\": {\"field\": \"Categories\", \"type\": \"nominal\"}, \"tooltip\": [{\"field\": \"Agency\", \"type\": \"nominal\"}, {\"field\": \"Funding Amount\", \"type\": \"quantitative\"}], \"x\": {\"axis\": {\"format\": \"$.2s\", \"title\": \"Obligated Funding ($2021)\"}, \"field\": \"Funding Amount\", \"type\": \"quantitative\"}, \"y\": {\"field\": \"Agency\", \"type\": \"nominal\"}}, \"height\": 70, \"width\": 400, \"$schema\": \"https://vega.github.io/schema/vega-lite/v4.17.0.json\", \"datasets\": {\"data-ebf3376bce130b2c6735942d9f81fd59\": [{\"Agency\": \"Metropolitan Transportation Commission\", \"Categories\": \"Total Requested\", \"Funding Amount\": 1909345.253368442}, {\"Agency\": \"Contra Costa County\", \"Categories\": \"Total Requested\", \"Funding Amount\": 1041396.7377879982}, {\"Agency\": \"Caltrans\", \"Categories\": \"Total Requested\", \"Funding Amount\": 7155873.948324381}, {\"Agency\": \"Metropolitan Transportation Commission - SAFE\", \"Categories\": \"Total Requested\", \"Funding Amount\": 5607282.0964267}, {\"Agency\": \"Alameda County Congestion Management Agency\", \"Categories\": \"Total Requested\", \"Funding Amount\": 771698.7792291272}, {\"Agency\": \"Metropolitan Transportation Commission\", \"Categories\": \"Fed Requested\", \"Funding Amount\": 1890540.1407647512}, {\"Agency\": \"Contra Costa County\", \"Categories\": \"Fed Requested\", \"Funding Amount\": 690949.2652206112}, {\"Agency\": \"Caltrans\", \"Categories\": \"Fed Requested\", \"Funding Amount\": 3977675.6275673257}, {\"Agency\": \"Metropolitan Transportation Commission - SAFE\", \"Categories\": \"Fed Requested\", \"Funding Amount\": 5607282.0964267}, {\"Agency\": \"Alameda County Congestion Management Agency\", \"Categories\": \"Fed Requested\", \"Funding Amount\": 571275.1031109582}, {\"Agency\": \"Metropolitan Transportation Commission\", \"Categories\": \"AC Requested\", \"Funding Amount\": 0.0}, {\"Agency\": \"Contra Costa County\", \"Categories\": \"AC Requested\", \"Funding Amount\": 26482.60130270215}, {\"Agency\": \"Caltrans\", \"Categories\": \"AC Requested\", \"Funding Amount\": 0.0}, {\"Agency\": \"Metropolitan Transportation Commission - SAFE\", \"Categories\": \"AC Requested\", \"Funding Amount\": 0.0}, {\"Agency\": \"Alameda County Congestion Management Agency\", \"Categories\": \"AC Requested\", \"Funding Amount\": 0.0}]}}, {\"mode\": \"vega-lite\"});\n",
       "</script>"
      ],
      "text/plain": [
       "alt.Chart(...)"
      ]
     },
     "metadata": {},
     "output_type": "display_data"
    },
    {
     "data": {
      "application/vnd.jupyter.widget-view+json": {
       "model_id": "21a0750cc06c4ecd8dadb41c620615a2",
       "version_major": 2,
       "version_minor": 0
      },
      "text/plain": [
       "HTML(value='<h3> Top Agencies using Infrastructure & Emergency Relief Projects </h3>')"
      ]
     },
     "metadata": {},
     "output_type": "display_data"
    },
    {
     "data": {
      "application/vnd.jupyter.widget-view+json": {
       "model_id": "1ad3b9d4d95943d3b5129f06667e790a",
       "version_major": 2,
       "version_minor": 0
      },
      "text/plain": [
       "HTML(value='<style type=\"text/css\">\\n#T_feedd th {\\n  text-align: center;\\n}\\n#T_feedd_row0_col0, #T_feedd_row…"
      ]
     },
     "metadata": {},
     "output_type": "display_data"
    },
    {
     "data": {
      "text/html": [
       "\n",
       "<div id=\"altair-viz-32fc56798c31413f9f40fd2823cd9a61\"></div>\n",
       "<script type=\"text/javascript\">\n",
       "  var VEGA_DEBUG = (typeof VEGA_DEBUG == \"undefined\") ? {} : VEGA_DEBUG;\n",
       "  (function(spec, embedOpt){\n",
       "    let outputDiv = document.currentScript.previousElementSibling;\n",
       "    if (outputDiv.id !== \"altair-viz-32fc56798c31413f9f40fd2823cd9a61\") {\n",
       "      outputDiv = document.getElementById(\"altair-viz-32fc56798c31413f9f40fd2823cd9a61\");\n",
       "    }\n",
       "    const paths = {\n",
       "      \"vega\": \"https://cdn.jsdelivr.net/npm//vega@5?noext\",\n",
       "      \"vega-lib\": \"https://cdn.jsdelivr.net/npm//vega-lib?noext\",\n",
       "      \"vega-lite\": \"https://cdn.jsdelivr.net/npm//vega-lite@4.17.0?noext\",\n",
       "      \"vega-embed\": \"https://cdn.jsdelivr.net/npm//vega-embed@6?noext\",\n",
       "    };\n",
       "\n",
       "    function maybeLoadScript(lib, version) {\n",
       "      var key = `${lib.replace(\"-\", \"\")}_version`;\n",
       "      return (VEGA_DEBUG[key] == version) ?\n",
       "        Promise.resolve(paths[lib]) :\n",
       "        new Promise(function(resolve, reject) {\n",
       "          var s = document.createElement('script');\n",
       "          document.getElementsByTagName(\"head\")[0].appendChild(s);\n",
       "          s.async = true;\n",
       "          s.onload = () => {\n",
       "            VEGA_DEBUG[key] = version;\n",
       "            return resolve(paths[lib]);\n",
       "          };\n",
       "          s.onerror = () => reject(`Error loading script: ${paths[lib]}`);\n",
       "          s.src = paths[lib];\n",
       "        });\n",
       "    }\n",
       "\n",
       "    function showError(err) {\n",
       "      outputDiv.innerHTML = `<div class=\"error\" style=\"color:red;\">${err}</div>`;\n",
       "      throw err;\n",
       "    }\n",
       "\n",
       "    function displayChart(vegaEmbed) {\n",
       "      vegaEmbed(outputDiv, spec, embedOpt)\n",
       "        .catch(err => showError(`Javascript Error: ${err.message}<br>This usually means there's a typo in your chart specification. See the javascript console for the full traceback.`));\n",
       "    }\n",
       "\n",
       "    if(typeof define === \"function\" && define.amd) {\n",
       "      requirejs.config({paths});\n",
       "      require([\"vega-embed\"], displayChart, err => showError(`Error loading script: ${err.message}`));\n",
       "    } else {\n",
       "      maybeLoadScript(\"vega\", \"5\")\n",
       "        .then(() => maybeLoadScript(\"vega-lite\", \"4.17.0\"))\n",
       "        .then(() => maybeLoadScript(\"vega-embed\", \"6\"))\n",
       "        .catch(showError)\n",
       "        .then(() => displayChart(vegaEmbed));\n",
       "    }\n",
       "  })({\"config\": {\"view\": {\"continuousWidth\": 400, \"continuousHeight\": 300}}, \"data\": {\"name\": \"data-56a8a34dbe1df6b4f5c7ff7a562a8278\"}, \"mark\": \"bar\", \"encoding\": {\"color\": {\"field\": \"Categories\", \"scale\": {\"range\": [\"#2EA8CE\", \"#EB9F3C\", \"#F4D837\", \"#51BF9D\", \"#8CBCCB\", \"#9487C0\"]}, \"type\": \"nominal\"}, \"row\": {\"field\": \"Categories\", \"type\": \"nominal\"}, \"tooltip\": [{\"field\": \"Agency\", \"type\": \"nominal\"}, {\"field\": \"Funding Amount\", \"type\": \"quantitative\"}], \"x\": {\"axis\": {\"format\": \"$.2s\", \"title\": \"Obligated Funding ($2021)\"}, \"field\": \"Funding Amount\", \"type\": \"quantitative\"}, \"y\": {\"field\": \"Agency\", \"type\": \"nominal\"}}, \"height\": 70, \"width\": 400, \"$schema\": \"https://vega.github.io/schema/vega-lite/v4.17.0.json\", \"datasets\": {\"data-56a8a34dbe1df6b4f5c7ff7a562a8278\": [{\"Agency\": \"Contra Costa County\", \"Categories\": \"Total Requested\", \"Funding Amount\": 872104.7252264078}, {\"Agency\": \"Napa County\", \"Categories\": \"Total Requested\", \"Funding Amount\": 291095.4202397304}, {\"Agency\": \"Santa Clara County\", \"Categories\": \"Total Requested\", \"Funding Amount\": 647359.1994069506}, {\"Agency\": \"Sonoma County\", \"Categories\": \"Total Requested\", \"Funding Amount\": 637457.6722527122}, {\"Agency\": \"Oakland\", \"Categories\": \"Total Requested\", \"Funding Amount\": 1542699.8687761286}, {\"Agency\": \"Contra Costa County\", \"Categories\": \"Fed Requested\", \"Funding Amount\": 651406.6456476225}, {\"Agency\": \"Napa County\", \"Categories\": \"Fed Requested\", \"Funding Amount\": 254997.36234883772}, {\"Agency\": \"Santa Clara County\", \"Categories\": \"Fed Requested\", \"Funding Amount\": 543850.8145175731}, {\"Agency\": \"Sonoma County\", \"Categories\": \"Fed Requested\", \"Funding Amount\": 484494.9270347963}, {\"Agency\": \"Oakland\", \"Categories\": \"Fed Requested\", \"Funding Amount\": 1122347.41316687}, {\"Agency\": \"Contra Costa County\", \"Categories\": \"AC Requested\", \"Funding Amount\": 46043.54363145558}, {\"Agency\": \"Napa County\", \"Categories\": \"AC Requested\", \"Funding Amount\": 5630.493532174769}, {\"Agency\": \"Santa Clara County\", \"Categories\": \"AC Requested\", \"Funding Amount\": 5502.228737052398}, {\"Agency\": \"Sonoma County\", \"Categories\": \"AC Requested\", \"Funding Amount\": 57679.68928337597}, {\"Agency\": \"Oakland\", \"Categories\": \"AC Requested\", \"Funding Amount\": 0.0}]}}, {\"mode\": \"vega-lite\"});\n",
       "</script>"
      ],
      "text/plain": [
       "alt.Chart(...)"
      ]
     },
     "metadata": {},
     "output_type": "display_data"
    },
    {
     "data": {
      "application/vnd.jupyter.widget-view+json": {
       "model_id": "b1e141ed55b947439803b9633fa8a10e",
       "version_major": 2,
       "version_minor": 0
      },
      "text/plain": [
       "HTML(value='<h3> Top Agencies using Congestion Relief Projects </h3>')"
      ]
     },
     "metadata": {},
     "output_type": "display_data"
    },
    {
     "data": {
      "application/vnd.jupyter.widget-view+json": {
       "model_id": "72b471d4d9854b4c92c8309b13b4bc92",
       "version_major": 2,
       "version_minor": 0
      },
      "text/plain": [
       "HTML(value='<style type=\"text/css\">\\n#T_3a259 th {\\n  text-align: center;\\n}\\n#T_3a259_row0_col0, #T_3a259_row…"
      ]
     },
     "metadata": {},
     "output_type": "display_data"
    },
    {
     "data": {
      "text/html": [
       "\n",
       "<div id=\"altair-viz-21860ea5e8a944b1b98d1d4f574b9aa5\"></div>\n",
       "<script type=\"text/javascript\">\n",
       "  var VEGA_DEBUG = (typeof VEGA_DEBUG == \"undefined\") ? {} : VEGA_DEBUG;\n",
       "  (function(spec, embedOpt){\n",
       "    let outputDiv = document.currentScript.previousElementSibling;\n",
       "    if (outputDiv.id !== \"altair-viz-21860ea5e8a944b1b98d1d4f574b9aa5\") {\n",
       "      outputDiv = document.getElementById(\"altair-viz-21860ea5e8a944b1b98d1d4f574b9aa5\");\n",
       "    }\n",
       "    const paths = {\n",
       "      \"vega\": \"https://cdn.jsdelivr.net/npm//vega@5?noext\",\n",
       "      \"vega-lib\": \"https://cdn.jsdelivr.net/npm//vega-lib?noext\",\n",
       "      \"vega-lite\": \"https://cdn.jsdelivr.net/npm//vega-lite@4.17.0?noext\",\n",
       "      \"vega-embed\": \"https://cdn.jsdelivr.net/npm//vega-embed@6?noext\",\n",
       "    };\n",
       "\n",
       "    function maybeLoadScript(lib, version) {\n",
       "      var key = `${lib.replace(\"-\", \"\")}_version`;\n",
       "      return (VEGA_DEBUG[key] == version) ?\n",
       "        Promise.resolve(paths[lib]) :\n",
       "        new Promise(function(resolve, reject) {\n",
       "          var s = document.createElement('script');\n",
       "          document.getElementsByTagName(\"head\")[0].appendChild(s);\n",
       "          s.async = true;\n",
       "          s.onload = () => {\n",
       "            VEGA_DEBUG[key] = version;\n",
       "            return resolve(paths[lib]);\n",
       "          };\n",
       "          s.onerror = () => reject(`Error loading script: ${paths[lib]}`);\n",
       "          s.src = paths[lib];\n",
       "        });\n",
       "    }\n",
       "\n",
       "    function showError(err) {\n",
       "      outputDiv.innerHTML = `<div class=\"error\" style=\"color:red;\">${err}</div>`;\n",
       "      throw err;\n",
       "    }\n",
       "\n",
       "    function displayChart(vegaEmbed) {\n",
       "      vegaEmbed(outputDiv, spec, embedOpt)\n",
       "        .catch(err => showError(`Javascript Error: ${err.message}<br>This usually means there's a typo in your chart specification. See the javascript console for the full traceback.`));\n",
       "    }\n",
       "\n",
       "    if(typeof define === \"function\" && define.amd) {\n",
       "      requirejs.config({paths});\n",
       "      require([\"vega-embed\"], displayChart, err => showError(`Error loading script: ${err.message}`));\n",
       "    } else {\n",
       "      maybeLoadScript(\"vega\", \"5\")\n",
       "        .then(() => maybeLoadScript(\"vega-lite\", \"4.17.0\"))\n",
       "        .then(() => maybeLoadScript(\"vega-embed\", \"6\"))\n",
       "        .catch(showError)\n",
       "        .then(() => displayChart(vegaEmbed));\n",
       "    }\n",
       "  })({\"config\": {\"view\": {\"continuousWidth\": 400, \"continuousHeight\": 300}}, \"data\": {\"name\": \"data-288e035acb4bd3ef567cff5d4068697a\"}, \"mark\": \"bar\", \"encoding\": {\"color\": {\"field\": \"Categories\", \"scale\": {\"range\": [\"#2EA8CE\", \"#EB9F3C\", \"#F4D837\", \"#51BF9D\", \"#8CBCCB\", \"#9487C0\"]}, \"type\": \"nominal\"}, \"row\": {\"field\": \"Categories\", \"type\": \"nominal\"}, \"tooltip\": [{\"field\": \"Agency\", \"type\": \"nominal\"}, {\"field\": \"Funding Amount\", \"type\": \"quantitative\"}], \"x\": {\"axis\": {\"format\": \"$.2s\", \"title\": \"Obligated Funding ($2021)\"}, \"field\": \"Funding Amount\", \"type\": \"quantitative\"}, \"y\": {\"field\": \"Agency\", \"type\": \"nominal\"}}, \"height\": 70, \"width\": 400, \"$schema\": \"https://vega.github.io/schema/vega-lite/v4.17.0.json\", \"datasets\": {\"data-288e035acb4bd3ef567cff5d4068697a\": [{\"Agency\": \"Contra Costa Transportation Authority\", \"Categories\": \"Total Requested\", \"Funding Amount\": 197250.95617523268}, {\"Agency\": \"Metropolitan Transportation Commission\", \"Categories\": \"Total Requested\", \"Funding Amount\": 2873575.211728853}, {\"Agency\": \"Sonoma County Transportation Authority\", \"Categories\": \"Total Requested\", \"Funding Amount\": 24784.0927036328}, {\"Agency\": \"San Mateo\", \"Categories\": \"Total Requested\", \"Funding Amount\": 50566.77608965471}, {\"Agency\": \"Solano Transportation Authority\", \"Categories\": \"Total Requested\", \"Funding Amount\": 156006.74522970387}, {\"Agency\": \"Contra Costa Transportation Authority\", \"Categories\": \"Fed Requested\", \"Funding Amount\": 158480.104075906}, {\"Agency\": \"Metropolitan Transportation Commission\", \"Categories\": \"Fed Requested\", \"Funding Amount\": 2873576.667669716}, {\"Agency\": \"Sonoma County Transportation Authority\", \"Categories\": \"Fed Requested\", \"Funding Amount\": 24773.560430762882}, {\"Agency\": \"San Mateo\", \"Categories\": \"Fed Requested\", \"Funding Amount\": 42627.45791136464}, {\"Agency\": \"Solano Transportation Authority\", \"Categories\": \"Fed Requested\", \"Funding Amount\": 203358.6054765724}, {\"Agency\": \"Contra Costa Transportation Authority\", \"Categories\": \"AC Requested\", \"Funding Amount\": 0.0}, {\"Agency\": \"Metropolitan Transportation Commission\", \"Categories\": \"AC Requested\", \"Funding Amount\": 0.0}, {\"Agency\": \"Sonoma County Transportation Authority\", \"Categories\": \"AC Requested\", \"Funding Amount\": 0.0}, {\"Agency\": \"San Mateo\", \"Categories\": \"AC Requested\", \"Funding Amount\": 0.0}, {\"Agency\": \"Solano Transportation Authority\", \"Categories\": \"AC Requested\", \"Funding Amount\": 0.0}]}}, {\"mode\": \"vega-lite\"});\n",
       "</script>"
      ],
      "text/plain": [
       "alt.Chart(...)"
      ]
     },
     "metadata": {},
     "output_type": "display_data"
    }
   ],
   "source": [
    "# create loop:\n",
    "\n",
    "work_cat = ['active_transp', 'transit', 'bridge', 'street','freeway', 'infra_resiliency_er','congestion_relief']\n",
    "\n",
    "for cat in work_cat:\n",
    "    _dla_utils.project_cat(df, cat, district)"
   ]
  },
  {
   "cell_type": "code",
   "execution_count": null,
   "id": "5a50e751-dd3f-498f-9a28-2edc321b534f",
   "metadata": {
    "jupyter": {
     "source_hidden": true
    },
    "papermill": {
     "duration": 0.047987,
     "end_time": "2022-05-27T20:00:05.800433",
     "exception": false,
     "start_time": "2022-05-27T20:00:05.752446",
     "status": "completed"
    },
    "tags": [
     "remove_input"
    ]
   },
   "outputs": [],
   "source": []
  },
  {
   "cell_type": "code",
   "execution_count": null,
   "id": "746ad86c-3a73-4679-af9c-291559135d5f",
   "metadata": {
    "jupyter": {
     "source_hidden": true
    },
    "papermill": {
     "duration": 0.038865,
     "end_time": "2022-05-27T20:00:05.877960",
     "exception": false,
     "start_time": "2022-05-27T20:00:05.839095",
     "status": "completed"
    },
    "tags": [
     "remove_input"
    ]
   },
   "outputs": [],
   "source": []
  },
  {
   "cell_type": "code",
   "execution_count": null,
   "id": "7e448ea3-e05f-4608-8ce9-7e1d42ff8ecd",
   "metadata": {
    "jupyter": {
     "source_hidden": true
    },
    "papermill": {
     "duration": 0.040747,
     "end_time": "2022-05-27T20:00:05.958567",
     "exception": false,
     "start_time": "2022-05-27T20:00:05.917820",
     "status": "completed"
    },
    "tags": [
     "remove_input"
    ]
   },
   "outputs": [],
   "source": []
  },
  {
   "cell_type": "code",
   "execution_count": null,
   "id": "c7bfc0b4-7f24-40bc-af7b-806641ccd810",
   "metadata": {
    "jupyter": {
     "source_hidden": true
    },
    "papermill": {
     "duration": 0.040557,
     "end_time": "2022-05-27T20:00:06.042475",
     "exception": false,
     "start_time": "2022-05-27T20:00:06.001918",
     "status": "completed"
    },
    "tags": [
     "remove_input"
    ]
   },
   "outputs": [],
   "source": []
  }
 ],
 "metadata": {
  "kernelspec": {
   "display_name": "Python 3 (ipykernel)",
   "language": "python",
   "name": "python3"
  },
  "language_info": {
   "codemirror_mode": {
    "name": "ipython",
    "version": 3
   },
   "file_extension": ".py",
   "mimetype": "text/x-python",
   "name": "python",
   "nbconvert_exporter": "python",
   "pygments_lexer": "ipython3",
   "version": "3.9.12"
  },
  "papermill": {
   "default_parameters": {},
   "duration": 14.975499,
   "end_time": "2022-05-27T20:00:07.511181",
   "environment_variables": {},
   "exception": null,
   "input_path": "dla/e76_obligated_funds/reports/dla_district_report.ipynb",
   "output_path": "portfolio/dla/district_4__district_title_district-4-oakland/0__dla_district_report__district_4__district_title_district-4-oakland.ipynb",
   "parameters": {
    "district": 4,
    "district_title": "District 4 - Oakland"
   },
   "start_time": "2022-05-27T19:59:52.535682",
   "version": "2.3.4"
  },
  "widgets": {
   "application/vnd.jupyter.widget-state+json": {
    "state": {
     "087fce43d30f467db6a6bafc697d4773": {
      "model_module": "@jupyter-widgets/controls",
      "model_module_version": "1.5.0",
      "model_name": "HTMLModel",
      "state": {
       "_dom_classes": [],
       "_model_module": "@jupyter-widgets/controls",
       "_model_module_version": "1.5.0",
       "_model_name": "HTMLModel",
       "_view_count": null,
       "_view_module": "@jupyter-widgets/controls",
       "_view_module_version": "1.5.0",
       "_view_name": "HTMLView",
       "description": "",
       "description_tooltip": null,
       "layout": "IPY_MODEL_b58d3923b5e540b09effc8493ff51038",
       "placeholder": "​",
       "style": "IPY_MODEL_4ff9f823e36a49a4b1f181e53e8a40ee",
       "value": "<h3> Top Agencies using Street Projects </h3>"
      }
     },
     "099fb18554a74d1688abdbf900306690": {
      "model_module": "@jupyter-widgets/base",
      "model_module_version": "1.2.0",
      "model_name": "LayoutModel",
      "state": {
       "_model_module": "@jupyter-widgets/base",
       "_model_module_version": "1.2.0",
       "_model_name": "LayoutModel",
       "_view_count": null,
       "_view_module": "@jupyter-widgets/base",
       "_view_module_version": "1.2.0",
       "_view_name": "LayoutView",
       "align_content": null,
       "align_items": null,
       "align_self": null,
       "border": null,
       "bottom": null,
       "display": null,
       "flex": null,
       "flex_flow": null,
       "grid_area": null,
       "grid_auto_columns": null,
       "grid_auto_flow": null,
       "grid_auto_rows": null,
       "grid_column": null,
       "grid_gap": null,
       "grid_row": null,
       "grid_template_areas": null,
       "grid_template_columns": null,
       "grid_template_rows": null,
       "height": null,
       "justify_content": null,
       "justify_items": null,
       "left": null,
       "margin": null,
       "max_height": null,
       "max_width": null,
       "min_height": null,
       "min_width": null,
       "object_fit": null,
       "object_position": null,
       "order": null,
       "overflow": null,
       "overflow_x": null,
       "overflow_y": null,
       "padding": null,
       "right": null,
       "top": null,
       "visibility": null,
       "width": null
      }
     },
     "110b3d4112c14a229cc6f89ed4678547": {
      "model_module": "@jupyter-widgets/base",
      "model_module_version": "1.2.0",
      "model_name": "LayoutModel",
      "state": {
       "_model_module": "@jupyter-widgets/base",
       "_model_module_version": "1.2.0",
       "_model_name": "LayoutModel",
       "_view_count": null,
       "_view_module": "@jupyter-widgets/base",
       "_view_module_version": "1.2.0",
       "_view_name": "LayoutView",
       "align_content": null,
       "align_items": null,
       "align_self": null,
       "border": null,
       "bottom": null,
       "display": null,
       "flex": null,
       "flex_flow": null,
       "grid_area": null,
       "grid_auto_columns": null,
       "grid_auto_flow": null,
       "grid_auto_rows": null,
       "grid_column": null,
       "grid_gap": null,
       "grid_row": null,
       "grid_template_areas": null,
       "grid_template_columns": null,
       "grid_template_rows": null,
       "height": null,
       "justify_content": null,
       "justify_items": null,
       "left": null,
       "margin": null,
       "max_height": null,
       "max_width": null,
       "min_height": null,
       "min_width": null,
       "object_fit": null,
       "object_position": null,
       "order": null,
       "overflow": null,
       "overflow_x": null,
       "overflow_y": null,
       "padding": null,
       "right": null,
       "top": null,
       "visibility": null,
       "width": null
      }
     },
     "12079f4bb82542c79068192046bb4fc7": {
      "model_module": "@jupyter-widgets/controls",
      "model_module_version": "1.5.0",
      "model_name": "HTMLModel",
      "state": {
       "_dom_classes": [],
       "_model_module": "@jupyter-widgets/controls",
       "_model_module_version": "1.5.0",
       "_model_name": "HTMLModel",
       "_view_count": null,
       "_view_module": "@jupyter-widgets/controls",
       "_view_module_version": "1.5.0",
       "_view_name": "HTMLView",
       "description": "",
       "description_tooltip": null,
       "layout": "IPY_MODEL_e65a8637a1674949b8cbb3a49ab03c29",
       "placeholder": "​",
       "style": "IPY_MODEL_df51a90bb4634b7ab6cc63d295b599bd",
       "value": "<style type=\"text/css\">\n#T_57e1d th {\n  text-align: center;\n}\n#T_57e1d_row0_col0, #T_57e1d_row0_col1, #T_57e1d_row0_col2, #T_57e1d_row1_col0, #T_57e1d_row1_col1, #T_57e1d_row1_col2, #T_57e1d_row2_col0, #T_57e1d_row2_col1, #T_57e1d_row2_col2, #T_57e1d_row3_col0, #T_57e1d_row3_col1, #T_57e1d_row3_col2, #T_57e1d_row4_col0, #T_57e1d_row4_col1, #T_57e1d_row4_col2 {\n  text-align: center;\n}\n</style>\n<table id=\"T_57e1d\">\n  <thead>\n    <tr>\n      <th id=\"T_57e1d_level0_col0\" class=\"col_heading level0 col0\" >Agency</th>\n      <th id=\"T_57e1d_level0_col1\" class=\"col_heading level0 col1\" >Street Obligations</th>\n      <th id=\"T_57e1d_level0_col2\" class=\"col_heading level0 col2\" >Percent Of Category</th>\n    </tr>\n  </thead>\n  <tbody>\n    <tr>\n      <td id=\"T_57e1d_row0_col0\" class=\"data row0 col0\" >Oakland</td>\n      <td id=\"T_57e1d_row0_col1\" class=\"data row0 col1\" >84</td>\n      <td id=\"T_57e1d_row0_col2\" class=\"data row0 col2\" >$6.30</td>\n    </tr>\n    <tr>\n      <td id=\"T_57e1d_row1_col0\" class=\"data row1 col0\" >Contra Costa County</td>\n      <td id=\"T_57e1d_row1_col1\" class=\"data row1 col1\" >82</td>\n      <td id=\"T_57e1d_row1_col2\" class=\"data row1 col2\" >$6.15</td>\n    </tr>\n    <tr>\n      <td id=\"T_57e1d_row2_col0\" class=\"data row2 col0\" >San Jose</td>\n      <td id=\"T_57e1d_row2_col1\" class=\"data row2 col1\" >66</td>\n      <td id=\"T_57e1d_row2_col2\" class=\"data row2 col2\" >$4.95</td>\n    </tr>\n    <tr>\n      <td id=\"T_57e1d_row3_col0\" class=\"data row3 col0\" >San Francisco County</td>\n      <td id=\"T_57e1d_row3_col1\" class=\"data row3 col1\" >45</td>\n      <td id=\"T_57e1d_row3_col2\" class=\"data row3 col2\" >$3.37</td>\n    </tr>\n    <tr>\n      <td id=\"T_57e1d_row4_col0\" class=\"data row4 col0\" >Sunnyvale</td>\n      <td id=\"T_57e1d_row4_col1\" class=\"data row4 col1\" >45</td>\n      <td id=\"T_57e1d_row4_col2\" class=\"data row4 col2\" >$3.37</td>\n    </tr>\n  </tbody>\n</table>\n"
      }
     },
     "1ad3b9d4d95943d3b5129f06667e790a": {
      "model_module": "@jupyter-widgets/controls",
      "model_module_version": "1.5.0",
      "model_name": "HTMLModel",
      "state": {
       "_dom_classes": [],
       "_model_module": "@jupyter-widgets/controls",
       "_model_module_version": "1.5.0",
       "_model_name": "HTMLModel",
       "_view_count": null,
       "_view_module": "@jupyter-widgets/controls",
       "_view_module_version": "1.5.0",
       "_view_name": "HTMLView",
       "description": "",
       "description_tooltip": null,
       "layout": "IPY_MODEL_9ade2179221e4838b604449f6ae88cdd",
       "placeholder": "​",
       "style": "IPY_MODEL_da86d8d635ee4e41bb998eb2676867f8",
       "value": "<style type=\"text/css\">\n#T_feedd th {\n  text-align: center;\n}\n#T_feedd_row0_col0, #T_feedd_row0_col1, #T_feedd_row0_col2, #T_feedd_row1_col0, #T_feedd_row1_col1, #T_feedd_row1_col2, #T_feedd_row2_col0, #T_feedd_row2_col1, #T_feedd_row2_col2, #T_feedd_row3_col0, #T_feedd_row3_col1, #T_feedd_row3_col2, #T_feedd_row4_col0, #T_feedd_row4_col1, #T_feedd_row4_col2 {\n  text-align: center;\n}\n</style>\n<table id=\"T_feedd\">\n  <thead>\n    <tr>\n      <th id=\"T_feedd_level0_col0\" class=\"col_heading level0 col0\" >Agency</th>\n      <th id=\"T_feedd_level0_col1\" class=\"col_heading level0 col1\" >Infrastructure & Emergency Relief Obligations</th>\n      <th id=\"T_feedd_level0_col2\" class=\"col_heading level0 col2\" >Percent Of Category</th>\n    </tr>\n  </thead>\n  <tbody>\n    <tr>\n      <td id=\"T_feedd_row0_col0\" class=\"data row0 col0\" >Contra Costa County</td>\n      <td id=\"T_feedd_row0_col1\" class=\"data row0 col1\" >103</td>\n      <td id=\"T_feedd_row0_col2\" class=\"data row0 col2\" >$5.20</td>\n    </tr>\n    <tr>\n      <td id=\"T_feedd_row1_col0\" class=\"data row1 col0\" >Napa County</td>\n      <td id=\"T_feedd_row1_col1\" class=\"data row1 col1\" >89</td>\n      <td id=\"T_feedd_row1_col2\" class=\"data row1 col2\" >$4.49</td>\n    </tr>\n    <tr>\n      <td id=\"T_feedd_row2_col0\" class=\"data row2 col0\" >Santa Clara County</td>\n      <td id=\"T_feedd_row2_col1\" class=\"data row2 col1\" >85</td>\n      <td id=\"T_feedd_row2_col2\" class=\"data row2 col2\" >$4.29</td>\n    </tr>\n    <tr>\n      <td id=\"T_feedd_row3_col0\" class=\"data row3 col0\" >Sonoma County</td>\n      <td id=\"T_feedd_row3_col1\" class=\"data row3 col1\" >74</td>\n      <td id=\"T_feedd_row3_col2\" class=\"data row3 col2\" >$3.74</td>\n    </tr>\n    <tr>\n      <td id=\"T_feedd_row4_col0\" class=\"data row4 col0\" >Oakland</td>\n      <td id=\"T_feedd_row4_col1\" class=\"data row4 col1\" >70</td>\n      <td id=\"T_feedd_row4_col2\" class=\"data row4 col2\" >$3.53</td>\n    </tr>\n  </tbody>\n</table>\n"
      }
     },
     "21a0750cc06c4ecd8dadb41c620615a2": {
      "model_module": "@jupyter-widgets/controls",
      "model_module_version": "1.5.0",
      "model_name": "HTMLModel",
      "state": {
       "_dom_classes": [],
       "_model_module": "@jupyter-widgets/controls",
       "_model_module_version": "1.5.0",
       "_model_name": "HTMLModel",
       "_view_count": null,
       "_view_module": "@jupyter-widgets/controls",
       "_view_module_version": "1.5.0",
       "_view_name": "HTMLView",
       "description": "",
       "description_tooltip": null,
       "layout": "IPY_MODEL_099fb18554a74d1688abdbf900306690",
       "placeholder": "​",
       "style": "IPY_MODEL_3d16d7aa0a2049d2a64d00297a875eda",
       "value": "<h3> Top Agencies using Infrastructure & Emergency Relief Projects </h3>"
      }
     },
     "25de3f32b2b54e73b510a2dcc4171cdf": {
      "model_module": "@jupyter-widgets/controls",
      "model_module_version": "1.5.0",
      "model_name": "HTMLModel",
      "state": {
       "_dom_classes": [],
       "_model_module": "@jupyter-widgets/controls",
       "_model_module_version": "1.5.0",
       "_model_name": "HTMLModel",
       "_view_count": null,
       "_view_module": "@jupyter-widgets/controls",
       "_view_module_version": "1.5.0",
       "_view_name": "HTMLView",
       "description": "",
       "description_tooltip": null,
       "layout": "IPY_MODEL_4e9697a29abf41a7a53814ea0c1c86b2",
       "placeholder": "​",
       "style": "IPY_MODEL_883e9c24f3c8473c8a51b922a67bd4b7",
       "value": "<style type=\"text/css\">\n#T_654c2 th {\n  text-align: center;\n}\n#T_654c2_row0_col0, #T_654c2_row0_col1, #T_654c2_row0_col2, #T_654c2_row1_col0, #T_654c2_row1_col1, #T_654c2_row1_col2, #T_654c2_row2_col0, #T_654c2_row2_col1, #T_654c2_row2_col2, #T_654c2_row3_col0, #T_654c2_row3_col1, #T_654c2_row3_col2, #T_654c2_row4_col0, #T_654c2_row4_col1, #T_654c2_row4_col2 {\n  text-align: center;\n}\n</style>\n<table id=\"T_654c2\">\n  <thead>\n    <tr>\n      <th id=\"T_654c2_level0_col0\" class=\"col_heading level0 col0\" >Agency</th>\n      <th id=\"T_654c2_level0_col1\" class=\"col_heading level0 col1\" >Active Transportation Obligations</th>\n      <th id=\"T_654c2_level0_col2\" class=\"col_heading level0 col2\" >Percent Of Category</th>\n    </tr>\n  </thead>\n  <tbody>\n    <tr>\n      <td id=\"T_654c2_row0_col0\" class=\"data row0 col0\" >San Jose</td>\n      <td id=\"T_654c2_row0_col1\" class=\"data row0 col1\" >79</td>\n      <td id=\"T_654c2_row0_col2\" class=\"data row0 col2\" >$7.31</td>\n    </tr>\n    <tr>\n      <td id=\"T_654c2_row1_col0\" class=\"data row1 col0\" >Oakland</td>\n      <td id=\"T_654c2_row1_col1\" class=\"data row1 col1\" >66</td>\n      <td id=\"T_654c2_row1_col2\" class=\"data row1 col2\" >$6.11</td>\n    </tr>\n    <tr>\n      <td id=\"T_654c2_row2_col0\" class=\"data row2 col0\" >Sunnyvale</td>\n      <td id=\"T_654c2_row2_col1\" class=\"data row2 col1\" >47</td>\n      <td id=\"T_654c2_row2_col2\" class=\"data row2 col2\" >$4.35</td>\n    </tr>\n    <tr>\n      <td id=\"T_654c2_row3_col0\" class=\"data row3 col0\" >City & County of San Francisco, MTA/Parking & Traffic</td>\n      <td id=\"T_654c2_row3_col1\" class=\"data row3 col1\" >46</td>\n      <td id=\"T_654c2_row3_col2\" class=\"data row3 col2\" >$4.26</td>\n    </tr>\n    <tr>\n      <td id=\"T_654c2_row4_col0\" class=\"data row4 col0\" >Contra Costa County</td>\n      <td id=\"T_654c2_row4_col1\" class=\"data row4 col1\" >39</td>\n      <td id=\"T_654c2_row4_col2\" class=\"data row4 col2\" >$3.61</td>\n    </tr>\n  </tbody>\n</table>\n"
      }
     },
     "318a771e2724442e8e15007fd2896643": {
      "model_module": "@jupyter-widgets/controls",
      "model_module_version": "1.5.0",
      "model_name": "DescriptionStyleModel",
      "state": {
       "_model_module": "@jupyter-widgets/controls",
       "_model_module_version": "1.5.0",
       "_model_name": "DescriptionStyleModel",
       "_view_count": null,
       "_view_module": "@jupyter-widgets/base",
       "_view_module_version": "1.2.0",
       "_view_name": "StyleView",
       "description_width": ""
      }
     },
     "34fafbb5a87e4f85be951f1f4471ac96": {
      "model_module": "@jupyter-widgets/controls",
      "model_module_version": "1.5.0",
      "model_name": "HTMLModel",
      "state": {
       "_dom_classes": [],
       "_model_module": "@jupyter-widgets/controls",
       "_model_module_version": "1.5.0",
       "_model_name": "HTMLModel",
       "_view_count": null,
       "_view_module": "@jupyter-widgets/controls",
       "_view_module_version": "1.5.0",
       "_view_name": "HTMLView",
       "description": "",
       "description_tooltip": null,
       "layout": "IPY_MODEL_bdaaa7ac59e6439694351db7c2d3da0b",
       "placeholder": "​",
       "style": "IPY_MODEL_6399419865ad4f2baa91ac22c7b41ff8",
       "value": "<h3> Top Agencies using Transit Projects </h3>"
      }
     },
     "361e01eaa95b423ab21d485b0f9aead9": {
      "model_module": "@jupyter-widgets/controls",
      "model_module_version": "1.5.0",
      "model_name": "DescriptionStyleModel",
      "state": {
       "_model_module": "@jupyter-widgets/controls",
       "_model_module_version": "1.5.0",
       "_model_name": "DescriptionStyleModel",
       "_view_count": null,
       "_view_module": "@jupyter-widgets/base",
       "_view_module_version": "1.2.0",
       "_view_name": "StyleView",
       "description_width": ""
      }
     },
     "3af1bce24e3147bb8fa00bc8d05c4a02": {
      "model_module": "@jupyter-widgets/controls",
      "model_module_version": "1.5.0",
      "model_name": "DescriptionStyleModel",
      "state": {
       "_model_module": "@jupyter-widgets/controls",
       "_model_module_version": "1.5.0",
       "_model_name": "DescriptionStyleModel",
       "_view_count": null,
       "_view_module": "@jupyter-widgets/base",
       "_view_module_version": "1.2.0",
       "_view_name": "StyleView",
       "description_width": ""
      }
     },
     "3d16d7aa0a2049d2a64d00297a875eda": {
      "model_module": "@jupyter-widgets/controls",
      "model_module_version": "1.5.0",
      "model_name": "DescriptionStyleModel",
      "state": {
       "_model_module": "@jupyter-widgets/controls",
       "_model_module_version": "1.5.0",
       "_model_name": "DescriptionStyleModel",
       "_view_count": null,
       "_view_module": "@jupyter-widgets/base",
       "_view_module_version": "1.2.0",
       "_view_name": "StyleView",
       "description_width": ""
      }
     },
     "449fd66d88c5485e9f1cc0a99e3d39de": {
      "model_module": "@jupyter-widgets/controls",
      "model_module_version": "1.5.0",
      "model_name": "HTMLModel",
      "state": {
       "_dom_classes": [],
       "_model_module": "@jupyter-widgets/controls",
       "_model_module_version": "1.5.0",
       "_model_name": "HTMLModel",
       "_view_count": null,
       "_view_module": "@jupyter-widgets/controls",
       "_view_module_version": "1.5.0",
       "_view_name": "HTMLView",
       "description": "",
       "description_tooltip": null,
       "layout": "IPY_MODEL_dfa40154700a474aa55604747a3bb811",
       "placeholder": "​",
       "style": "IPY_MODEL_bdf7450631dc4729abd52cf51703a473",
       "value": "<h3> Top Agencies using Active Transportation Projects </h3>"
      }
     },
     "4659bdbf9bf24a82b742a83f9449c3c0": {
      "model_module": "@jupyter-widgets/controls",
      "model_module_version": "1.5.0",
      "model_name": "HTMLModel",
      "state": {
       "_dom_classes": [],
       "_model_module": "@jupyter-widgets/controls",
       "_model_module_version": "1.5.0",
       "_model_name": "HTMLModel",
       "_view_count": null,
       "_view_module": "@jupyter-widgets/controls",
       "_view_module_version": "1.5.0",
       "_view_name": "HTMLView",
       "description": "",
       "description_tooltip": null,
       "layout": "IPY_MODEL_479faa9deb7b4655909af1bfec9c3cfd",
       "placeholder": "​",
       "style": "IPY_MODEL_896a579021cc43f39fa27a9176d7e1aa",
       "value": "<style type=\"text/css\">\n#T_c85f5 th {\n  text-align: center;\n}\n#T_c85f5_row0_col0, #T_c85f5_row0_col1, #T_c85f5_row0_col2, #T_c85f5_row1_col0, #T_c85f5_row1_col1, #T_c85f5_row1_col2, #T_c85f5_row2_col0, #T_c85f5_row2_col1, #T_c85f5_row2_col2, #T_c85f5_row3_col0, #T_c85f5_row3_col1, #T_c85f5_row3_col2, #T_c85f5_row4_col0, #T_c85f5_row4_col1, #T_c85f5_row4_col2 {\n  text-align: center;\n}\n</style>\n<table id=\"T_c85f5\">\n  <thead>\n    <tr>\n      <th id=\"T_c85f5_level0_col0\" class=\"col_heading level0 col0\" >Agency</th>\n      <th id=\"T_c85f5_level0_col1\" class=\"col_heading level0 col1\" >Freeway Obligations</th>\n      <th id=\"T_c85f5_level0_col2\" class=\"col_heading level0 col2\" >Percent Of Category</th>\n    </tr>\n  </thead>\n  <tbody>\n    <tr>\n      <td id=\"T_c85f5_row0_col0\" class=\"data row0 col0\" >Metropolitan Transportation Commission</td>\n      <td id=\"T_c85f5_row0_col1\" class=\"data row0 col1\" >11</td>\n      <td id=\"T_c85f5_row0_col2\" class=\"data row0 col2\" >$28.21</td>\n    </tr>\n    <tr>\n      <td id=\"T_c85f5_row1_col0\" class=\"data row1 col0\" >Contra Costa County</td>\n      <td id=\"T_c85f5_row1_col1\" class=\"data row1 col1\" >7</td>\n      <td id=\"T_c85f5_row1_col2\" class=\"data row1 col2\" >$17.95</td>\n    </tr>\n    <tr>\n      <td id=\"T_c85f5_row2_col0\" class=\"data row2 col0\" >Caltrans</td>\n      <td id=\"T_c85f5_row2_col1\" class=\"data row2 col1\" >4</td>\n      <td id=\"T_c85f5_row2_col2\" class=\"data row2 col2\" >$10.26</td>\n    </tr>\n    <tr>\n      <td id=\"T_c85f5_row3_col0\" class=\"data row3 col0\" >Metropolitan Transportation Commission - SAFE</td>\n      <td id=\"T_c85f5_row3_col1\" class=\"data row3 col1\" >3</td>\n      <td id=\"T_c85f5_row3_col2\" class=\"data row3 col2\" >$7.69</td>\n    </tr>\n    <tr>\n      <td id=\"T_c85f5_row4_col0\" class=\"data row4 col0\" >Alameda County Congestion Management Agency</td>\n      <td id=\"T_c85f5_row4_col1\" class=\"data row4 col1\" >2</td>\n      <td id=\"T_c85f5_row4_col2\" class=\"data row4 col2\" >$5.13</td>\n    </tr>\n  </tbody>\n</table>\n"
      }
     },
     "479faa9deb7b4655909af1bfec9c3cfd": {
      "model_module": "@jupyter-widgets/base",
      "model_module_version": "1.2.0",
      "model_name": "LayoutModel",
      "state": {
       "_model_module": "@jupyter-widgets/base",
       "_model_module_version": "1.2.0",
       "_model_name": "LayoutModel",
       "_view_count": null,
       "_view_module": "@jupyter-widgets/base",
       "_view_module_version": "1.2.0",
       "_view_name": "LayoutView",
       "align_content": null,
       "align_items": null,
       "align_self": null,
       "border": null,
       "bottom": null,
       "display": null,
       "flex": null,
       "flex_flow": null,
       "grid_area": null,
       "grid_auto_columns": null,
       "grid_auto_flow": null,
       "grid_auto_rows": null,
       "grid_column": null,
       "grid_gap": null,
       "grid_row": null,
       "grid_template_areas": null,
       "grid_template_columns": null,
       "grid_template_rows": null,
       "height": null,
       "justify_content": null,
       "justify_items": null,
       "left": null,
       "margin": null,
       "max_height": null,
       "max_width": null,
       "min_height": null,
       "min_width": null,
       "object_fit": null,
       "object_position": null,
       "order": null,
       "overflow": null,
       "overflow_x": null,
       "overflow_y": null,
       "padding": null,
       "right": null,
       "top": null,
       "visibility": null,
       "width": null
      }
     },
     "4e9697a29abf41a7a53814ea0c1c86b2": {
      "model_module": "@jupyter-widgets/base",
      "model_module_version": "1.2.0",
      "model_name": "LayoutModel",
      "state": {
       "_model_module": "@jupyter-widgets/base",
       "_model_module_version": "1.2.0",
       "_model_name": "LayoutModel",
       "_view_count": null,
       "_view_module": "@jupyter-widgets/base",
       "_view_module_version": "1.2.0",
       "_view_name": "LayoutView",
       "align_content": null,
       "align_items": null,
       "align_self": null,
       "border": null,
       "bottom": null,
       "display": null,
       "flex": null,
       "flex_flow": null,
       "grid_area": null,
       "grid_auto_columns": null,
       "grid_auto_flow": null,
       "grid_auto_rows": null,
       "grid_column": null,
       "grid_gap": null,
       "grid_row": null,
       "grid_template_areas": null,
       "grid_template_columns": null,
       "grid_template_rows": null,
       "height": null,
       "justify_content": null,
       "justify_items": null,
       "left": null,
       "margin": null,
       "max_height": null,
       "max_width": null,
       "min_height": null,
       "min_width": null,
       "object_fit": null,
       "object_position": null,
       "order": null,
       "overflow": null,
       "overflow_x": null,
       "overflow_y": null,
       "padding": null,
       "right": null,
       "top": null,
       "visibility": null,
       "width": null
      }
     },
     "4ff9f823e36a49a4b1f181e53e8a40ee": {
      "model_module": "@jupyter-widgets/controls",
      "model_module_version": "1.5.0",
      "model_name": "DescriptionStyleModel",
      "state": {
       "_model_module": "@jupyter-widgets/controls",
       "_model_module_version": "1.5.0",
       "_model_name": "DescriptionStyleModel",
       "_view_count": null,
       "_view_module": "@jupyter-widgets/base",
       "_view_module_version": "1.2.0",
       "_view_name": "StyleView",
       "description_width": ""
      }
     },
     "5423eacb5e5a40eba36543ab41f2b0c6": {
      "model_module": "@jupyter-widgets/base",
      "model_module_version": "1.2.0",
      "model_name": "LayoutModel",
      "state": {
       "_model_module": "@jupyter-widgets/base",
       "_model_module_version": "1.2.0",
       "_model_name": "LayoutModel",
       "_view_count": null,
       "_view_module": "@jupyter-widgets/base",
       "_view_module_version": "1.2.0",
       "_view_name": "LayoutView",
       "align_content": null,
       "align_items": null,
       "align_self": null,
       "border": null,
       "bottom": null,
       "display": null,
       "flex": null,
       "flex_flow": null,
       "grid_area": null,
       "grid_auto_columns": null,
       "grid_auto_flow": null,
       "grid_auto_rows": null,
       "grid_column": null,
       "grid_gap": null,
       "grid_row": null,
       "grid_template_areas": null,
       "grid_template_columns": null,
       "grid_template_rows": null,
       "height": null,
       "justify_content": null,
       "justify_items": null,
       "left": null,
       "margin": null,
       "max_height": null,
       "max_width": null,
       "min_height": null,
       "min_width": null,
       "object_fit": null,
       "object_position": null,
       "order": null,
       "overflow": null,
       "overflow_x": null,
       "overflow_y": null,
       "padding": null,
       "right": null,
       "top": null,
       "visibility": null,
       "width": null
      }
     },
     "6399419865ad4f2baa91ac22c7b41ff8": {
      "model_module": "@jupyter-widgets/controls",
      "model_module_version": "1.5.0",
      "model_name": "DescriptionStyleModel",
      "state": {
       "_model_module": "@jupyter-widgets/controls",
       "_model_module_version": "1.5.0",
       "_model_name": "DescriptionStyleModel",
       "_view_count": null,
       "_view_module": "@jupyter-widgets/base",
       "_view_module_version": "1.2.0",
       "_view_name": "StyleView",
       "description_width": ""
      }
     },
     "64108cab528343da9491672e1d9e33eb": {
      "model_module": "@jupyter-widgets/base",
      "model_module_version": "1.2.0",
      "model_name": "LayoutModel",
      "state": {
       "_model_module": "@jupyter-widgets/base",
       "_model_module_version": "1.2.0",
       "_model_name": "LayoutModel",
       "_view_count": null,
       "_view_module": "@jupyter-widgets/base",
       "_view_module_version": "1.2.0",
       "_view_name": "LayoutView",
       "align_content": null,
       "align_items": null,
       "align_self": null,
       "border": null,
       "bottom": null,
       "display": null,
       "flex": null,
       "flex_flow": null,
       "grid_area": null,
       "grid_auto_columns": null,
       "grid_auto_flow": null,
       "grid_auto_rows": null,
       "grid_column": null,
       "grid_gap": null,
       "grid_row": null,
       "grid_template_areas": null,
       "grid_template_columns": null,
       "grid_template_rows": null,
       "height": null,
       "justify_content": null,
       "justify_items": null,
       "left": null,
       "margin": null,
       "max_height": null,
       "max_width": null,
       "min_height": null,
       "min_width": null,
       "object_fit": null,
       "object_position": null,
       "order": null,
       "overflow": null,
       "overflow_x": null,
       "overflow_y": null,
       "padding": null,
       "right": null,
       "top": null,
       "visibility": null,
       "width": null
      }
     },
     "6b46cc457dc646ada2d85d0320b397bd": {
      "model_module": "@jupyter-widgets/controls",
      "model_module_version": "1.5.0",
      "model_name": "DescriptionStyleModel",
      "state": {
       "_model_module": "@jupyter-widgets/controls",
       "_model_module_version": "1.5.0",
       "_model_name": "DescriptionStyleModel",
       "_view_count": null,
       "_view_module": "@jupyter-widgets/base",
       "_view_module_version": "1.2.0",
       "_view_name": "StyleView",
       "description_width": ""
      }
     },
     "72b471d4d9854b4c92c8309b13b4bc92": {
      "model_module": "@jupyter-widgets/controls",
      "model_module_version": "1.5.0",
      "model_name": "HTMLModel",
      "state": {
       "_dom_classes": [],
       "_model_module": "@jupyter-widgets/controls",
       "_model_module_version": "1.5.0",
       "_model_name": "HTMLModel",
       "_view_count": null,
       "_view_module": "@jupyter-widgets/controls",
       "_view_module_version": "1.5.0",
       "_view_name": "HTMLView",
       "description": "",
       "description_tooltip": null,
       "layout": "IPY_MODEL_fb4136e1c0974dd89d6e92e9ab15bbbf",
       "placeholder": "​",
       "style": "IPY_MODEL_318a771e2724442e8e15007fd2896643",
       "value": "<style type=\"text/css\">\n#T_3a259 th {\n  text-align: center;\n}\n#T_3a259_row0_col0, #T_3a259_row0_col1, #T_3a259_row0_col2, #T_3a259_row1_col0, #T_3a259_row1_col1, #T_3a259_row1_col2, #T_3a259_row2_col0, #T_3a259_row2_col1, #T_3a259_row2_col2, #T_3a259_row3_col0, #T_3a259_row3_col1, #T_3a259_row3_col2, #T_3a259_row4_col0, #T_3a259_row4_col1, #T_3a259_row4_col2 {\n  text-align: center;\n}\n</style>\n<table id=\"T_3a259\">\n  <thead>\n    <tr>\n      <th id=\"T_3a259_level0_col0\" class=\"col_heading level0 col0\" >Agency</th>\n      <th id=\"T_3a259_level0_col1\" class=\"col_heading level0 col1\" >Congestion Relief Obligations</th>\n      <th id=\"T_3a259_level0_col2\" class=\"col_heading level0 col2\" >Percent Of Category</th>\n    </tr>\n  </thead>\n  <tbody>\n    <tr>\n      <td id=\"T_3a259_row0_col0\" class=\"data row0 col0\" >Contra Costa Transportation Authority</td>\n      <td id=\"T_3a259_row0_col1\" class=\"data row0 col1\" >6</td>\n      <td id=\"T_3a259_row0_col2\" class=\"data row0 col2\" >$22.22</td>\n    </tr>\n    <tr>\n      <td id=\"T_3a259_row1_col0\" class=\"data row1 col0\" >Metropolitan Transportation Commission</td>\n      <td id=\"T_3a259_row1_col1\" class=\"data row1 col1\" >5</td>\n      <td id=\"T_3a259_row1_col2\" class=\"data row1 col2\" >$18.52</td>\n    </tr>\n    <tr>\n      <td id=\"T_3a259_row2_col0\" class=\"data row2 col0\" >Sonoma County Transportation Authority</td>\n      <td id=\"T_3a259_row2_col1\" class=\"data row2 col1\" >4</td>\n      <td id=\"T_3a259_row2_col2\" class=\"data row2 col2\" >$14.81</td>\n    </tr>\n    <tr>\n      <td id=\"T_3a259_row3_col0\" class=\"data row3 col0\" >San Mateo</td>\n      <td id=\"T_3a259_row3_col1\" class=\"data row3 col1\" >3</td>\n      <td id=\"T_3a259_row3_col2\" class=\"data row3 col2\" >$11.11</td>\n    </tr>\n    <tr>\n      <td id=\"T_3a259_row4_col0\" class=\"data row4 col0\" >Solano Transportation Authority</td>\n      <td id=\"T_3a259_row4_col1\" class=\"data row4 col1\" >3</td>\n      <td id=\"T_3a259_row4_col2\" class=\"data row4 col2\" >$11.11</td>\n    </tr>\n  </tbody>\n</table>\n"
      }
     },
     "79d3e982783841a6820f86753c4a7dd7": {
      "model_module": "@jupyter-widgets/controls",
      "model_module_version": "1.5.0",
      "model_name": "HTMLModel",
      "state": {
       "_dom_classes": [],
       "_model_module": "@jupyter-widgets/controls",
       "_model_module_version": "1.5.0",
       "_model_name": "HTMLModel",
       "_view_count": null,
       "_view_module": "@jupyter-widgets/controls",
       "_view_module_version": "1.5.0",
       "_view_name": "HTMLView",
       "description": "",
       "description_tooltip": null,
       "layout": "IPY_MODEL_e301ce5b2f374196b07912f18ec248e3",
       "placeholder": "​",
       "style": "IPY_MODEL_3af1bce24e3147bb8fa00bc8d05c4a02",
       "value": "<h3> Top Agencies using Freeway Projects </h3>"
      }
     },
     "883e9c24f3c8473c8a51b922a67bd4b7": {
      "model_module": "@jupyter-widgets/controls",
      "model_module_version": "1.5.0",
      "model_name": "DescriptionStyleModel",
      "state": {
       "_model_module": "@jupyter-widgets/controls",
       "_model_module_version": "1.5.0",
       "_model_name": "DescriptionStyleModel",
       "_view_count": null,
       "_view_module": "@jupyter-widgets/base",
       "_view_module_version": "1.2.0",
       "_view_name": "StyleView",
       "description_width": ""
      }
     },
     "896a579021cc43f39fa27a9176d7e1aa": {
      "model_module": "@jupyter-widgets/controls",
      "model_module_version": "1.5.0",
      "model_name": "DescriptionStyleModel",
      "state": {
       "_model_module": "@jupyter-widgets/controls",
       "_model_module_version": "1.5.0",
       "_model_name": "DescriptionStyleModel",
       "_view_count": null,
       "_view_module": "@jupyter-widgets/base",
       "_view_module_version": "1.2.0",
       "_view_name": "StyleView",
       "description_width": ""
      }
     },
     "90b33fdb8bb444db9329b11a608f89bc": {
      "model_module": "@jupyter-widgets/controls",
      "model_module_version": "1.5.0",
      "model_name": "HTMLModel",
      "state": {
       "_dom_classes": [],
       "_model_module": "@jupyter-widgets/controls",
       "_model_module_version": "1.5.0",
       "_model_name": "HTMLModel",
       "_view_count": null,
       "_view_module": "@jupyter-widgets/controls",
       "_view_module_version": "1.5.0",
       "_view_name": "HTMLView",
       "description": "",
       "description_tooltip": null,
       "layout": "IPY_MODEL_5423eacb5e5a40eba36543ab41f2b0c6",
       "placeholder": "​",
       "style": "IPY_MODEL_361e01eaa95b423ab21d485b0f9aead9",
       "value": "<h3> Top Agencies using Bridge Projects </h3>"
      }
     },
     "918b1d12447b4d9fb1f9307678f51c06": {
      "model_module": "@jupyter-widgets/controls",
      "model_module_version": "1.5.0",
      "model_name": "DescriptionStyleModel",
      "state": {
       "_model_module": "@jupyter-widgets/controls",
       "_model_module_version": "1.5.0",
       "_model_name": "DescriptionStyleModel",
       "_view_count": null,
       "_view_module": "@jupyter-widgets/base",
       "_view_module_version": "1.2.0",
       "_view_name": "StyleView",
       "description_width": ""
      }
     },
     "988d90915f984eecbcf75cd90a63ea41": {
      "model_module": "@jupyter-widgets/controls",
      "model_module_version": "1.5.0",
      "model_name": "DescriptionStyleModel",
      "state": {
       "_model_module": "@jupyter-widgets/controls",
       "_model_module_version": "1.5.0",
       "_model_name": "DescriptionStyleModel",
       "_view_count": null,
       "_view_module": "@jupyter-widgets/base",
       "_view_module_version": "1.2.0",
       "_view_name": "StyleView",
       "description_width": ""
      }
     },
     "9ade2179221e4838b604449f6ae88cdd": {
      "model_module": "@jupyter-widgets/base",
      "model_module_version": "1.2.0",
      "model_name": "LayoutModel",
      "state": {
       "_model_module": "@jupyter-widgets/base",
       "_model_module_version": "1.2.0",
       "_model_name": "LayoutModel",
       "_view_count": null,
       "_view_module": "@jupyter-widgets/base",
       "_view_module_version": "1.2.0",
       "_view_name": "LayoutView",
       "align_content": null,
       "align_items": null,
       "align_self": null,
       "border": null,
       "bottom": null,
       "display": null,
       "flex": null,
       "flex_flow": null,
       "grid_area": null,
       "grid_auto_columns": null,
       "grid_auto_flow": null,
       "grid_auto_rows": null,
       "grid_column": null,
       "grid_gap": null,
       "grid_row": null,
       "grid_template_areas": null,
       "grid_template_columns": null,
       "grid_template_rows": null,
       "height": null,
       "justify_content": null,
       "justify_items": null,
       "left": null,
       "margin": null,
       "max_height": null,
       "max_width": null,
       "min_height": null,
       "min_width": null,
       "object_fit": null,
       "object_position": null,
       "order": null,
       "overflow": null,
       "overflow_x": null,
       "overflow_y": null,
       "padding": null,
       "right": null,
       "top": null,
       "visibility": null,
       "width": null
      }
     },
     "b1e141ed55b947439803b9633fa8a10e": {
      "model_module": "@jupyter-widgets/controls",
      "model_module_version": "1.5.0",
      "model_name": "HTMLModel",
      "state": {
       "_dom_classes": [],
       "_model_module": "@jupyter-widgets/controls",
       "_model_module_version": "1.5.0",
       "_model_name": "HTMLModel",
       "_view_count": null,
       "_view_module": "@jupyter-widgets/controls",
       "_view_module_version": "1.5.0",
       "_view_name": "HTMLView",
       "description": "",
       "description_tooltip": null,
       "layout": "IPY_MODEL_110b3d4112c14a229cc6f89ed4678547",
       "placeholder": "​",
       "style": "IPY_MODEL_988d90915f984eecbcf75cd90a63ea41",
       "value": "<h3> Top Agencies using Congestion Relief Projects </h3>"
      }
     },
     "b58d3923b5e540b09effc8493ff51038": {
      "model_module": "@jupyter-widgets/base",
      "model_module_version": "1.2.0",
      "model_name": "LayoutModel",
      "state": {
       "_model_module": "@jupyter-widgets/base",
       "_model_module_version": "1.2.0",
       "_model_name": "LayoutModel",
       "_view_count": null,
       "_view_module": "@jupyter-widgets/base",
       "_view_module_version": "1.2.0",
       "_view_name": "LayoutView",
       "align_content": null,
       "align_items": null,
       "align_self": null,
       "border": null,
       "bottom": null,
       "display": null,
       "flex": null,
       "flex_flow": null,
       "grid_area": null,
       "grid_auto_columns": null,
       "grid_auto_flow": null,
       "grid_auto_rows": null,
       "grid_column": null,
       "grid_gap": null,
       "grid_row": null,
       "grid_template_areas": null,
       "grid_template_columns": null,
       "grid_template_rows": null,
       "height": null,
       "justify_content": null,
       "justify_items": null,
       "left": null,
       "margin": null,
       "max_height": null,
       "max_width": null,
       "min_height": null,
       "min_width": null,
       "object_fit": null,
       "object_position": null,
       "order": null,
       "overflow": null,
       "overflow_x": null,
       "overflow_y": null,
       "padding": null,
       "right": null,
       "top": null,
       "visibility": null,
       "width": null
      }
     },
     "b78880591b4a4e0e9a0b4aaf315d312d": {
      "model_module": "@jupyter-widgets/controls",
      "model_module_version": "1.5.0",
      "model_name": "HTMLModel",
      "state": {
       "_dom_classes": [],
       "_model_module": "@jupyter-widgets/controls",
       "_model_module_version": "1.5.0",
       "_model_name": "HTMLModel",
       "_view_count": null,
       "_view_module": "@jupyter-widgets/controls",
       "_view_module_version": "1.5.0",
       "_view_name": "HTMLView",
       "description": "",
       "description_tooltip": null,
       "layout": "IPY_MODEL_64108cab528343da9491672e1d9e33eb",
       "placeholder": "​",
       "style": "IPY_MODEL_918b1d12447b4d9fb1f9307678f51c06",
       "value": "<style type=\"text/css\">\n#T_c0d4f th {\n  text-align: center;\n}\n#T_c0d4f_row0_col0, #T_c0d4f_row0_col1, #T_c0d4f_row0_col2, #T_c0d4f_row1_col0, #T_c0d4f_row1_col1, #T_c0d4f_row1_col2, #T_c0d4f_row2_col0, #T_c0d4f_row2_col1, #T_c0d4f_row2_col2, #T_c0d4f_row3_col0, #T_c0d4f_row3_col1, #T_c0d4f_row3_col2, #T_c0d4f_row4_col0, #T_c0d4f_row4_col1, #T_c0d4f_row4_col2 {\n  text-align: center;\n}\n</style>\n<table id=\"T_c0d4f\">\n  <thead>\n    <tr>\n      <th id=\"T_c0d4f_level0_col0\" class=\"col_heading level0 col0\" >Agency</th>\n      <th id=\"T_c0d4f_level0_col1\" class=\"col_heading level0 col1\" >Bridge Obligations</th>\n      <th id=\"T_c0d4f_level0_col2\" class=\"col_heading level0 col2\" >Percent Of Category</th>\n    </tr>\n  </thead>\n  <tbody>\n    <tr>\n      <td id=\"T_c0d4f_row0_col0\" class=\"data row0 col0\" >Santa Clara County</td>\n      <td id=\"T_c0d4f_row0_col1\" class=\"data row0 col1\" >68</td>\n      <td id=\"T_c0d4f_row0_col2\" class=\"data row0 col2\" >$14.02</td>\n    </tr>\n    <tr>\n      <td id=\"T_c0d4f_row1_col0\" class=\"data row1 col0\" >Contra Costa County</td>\n      <td id=\"T_c0d4f_row1_col1\" class=\"data row1 col1\" >44</td>\n      <td id=\"T_c0d4f_row1_col2\" class=\"data row1 col2\" >$9.07</td>\n    </tr>\n    <tr>\n      <td id=\"T_c0d4f_row2_col0\" class=\"data row2 col0\" >Sonoma County</td>\n      <td id=\"T_c0d4f_row2_col1\" class=\"data row2 col1\" >35</td>\n      <td id=\"T_c0d4f_row2_col2\" class=\"data row2 col2\" >$7.22</td>\n    </tr>\n    <tr>\n      <td id=\"T_c0d4f_row3_col0\" class=\"data row3 col0\" >Napa County</td>\n      <td id=\"T_c0d4f_row3_col1\" class=\"data row3 col1\" >26</td>\n      <td id=\"T_c0d4f_row3_col2\" class=\"data row3 col2\" >$5.36</td>\n    </tr>\n    <tr>\n      <td id=\"T_c0d4f_row4_col0\" class=\"data row4 col0\" >Oakland</td>\n      <td id=\"T_c0d4f_row4_col1\" class=\"data row4 col1\" >22</td>\n      <td id=\"T_c0d4f_row4_col2\" class=\"data row4 col2\" >$4.54</td>\n    </tr>\n  </tbody>\n</table>\n"
      }
     },
     "bdaaa7ac59e6439694351db7c2d3da0b": {
      "model_module": "@jupyter-widgets/base",
      "model_module_version": "1.2.0",
      "model_name": "LayoutModel",
      "state": {
       "_model_module": "@jupyter-widgets/base",
       "_model_module_version": "1.2.0",
       "_model_name": "LayoutModel",
       "_view_count": null,
       "_view_module": "@jupyter-widgets/base",
       "_view_module_version": "1.2.0",
       "_view_name": "LayoutView",
       "align_content": null,
       "align_items": null,
       "align_self": null,
       "border": null,
       "bottom": null,
       "display": null,
       "flex": null,
       "flex_flow": null,
       "grid_area": null,
       "grid_auto_columns": null,
       "grid_auto_flow": null,
       "grid_auto_rows": null,
       "grid_column": null,
       "grid_gap": null,
       "grid_row": null,
       "grid_template_areas": null,
       "grid_template_columns": null,
       "grid_template_rows": null,
       "height": null,
       "justify_content": null,
       "justify_items": null,
       "left": null,
       "margin": null,
       "max_height": null,
       "max_width": null,
       "min_height": null,
       "min_width": null,
       "object_fit": null,
       "object_position": null,
       "order": null,
       "overflow": null,
       "overflow_x": null,
       "overflow_y": null,
       "padding": null,
       "right": null,
       "top": null,
       "visibility": null,
       "width": null
      }
     },
     "bdf7450631dc4729abd52cf51703a473": {
      "model_module": "@jupyter-widgets/controls",
      "model_module_version": "1.5.0",
      "model_name": "DescriptionStyleModel",
      "state": {
       "_model_module": "@jupyter-widgets/controls",
       "_model_module_version": "1.5.0",
       "_model_name": "DescriptionStyleModel",
       "_view_count": null,
       "_view_module": "@jupyter-widgets/base",
       "_view_module_version": "1.2.0",
       "_view_name": "StyleView",
       "description_width": ""
      }
     },
     "c04c9a47cb4e4d67b0a03a7f0456eda4": {
      "model_module": "@jupyter-widgets/base",
      "model_module_version": "1.2.0",
      "model_name": "LayoutModel",
      "state": {
       "_model_module": "@jupyter-widgets/base",
       "_model_module_version": "1.2.0",
       "_model_name": "LayoutModel",
       "_view_count": null,
       "_view_module": "@jupyter-widgets/base",
       "_view_module_version": "1.2.0",
       "_view_name": "LayoutView",
       "align_content": null,
       "align_items": null,
       "align_self": null,
       "border": null,
       "bottom": null,
       "display": null,
       "flex": null,
       "flex_flow": null,
       "grid_area": null,
       "grid_auto_columns": null,
       "grid_auto_flow": null,
       "grid_auto_rows": null,
       "grid_column": null,
       "grid_gap": null,
       "grid_row": null,
       "grid_template_areas": null,
       "grid_template_columns": null,
       "grid_template_rows": null,
       "height": null,
       "justify_content": null,
       "justify_items": null,
       "left": null,
       "margin": null,
       "max_height": null,
       "max_width": null,
       "min_height": null,
       "min_width": null,
       "object_fit": null,
       "object_position": null,
       "order": null,
       "overflow": null,
       "overflow_x": null,
       "overflow_y": null,
       "padding": null,
       "right": null,
       "top": null,
       "visibility": null,
       "width": null
      }
     },
     "ca9ecc93b8774b6db4fb17434865c1c3": {
      "model_module": "@jupyter-widgets/controls",
      "model_module_version": "1.5.0",
      "model_name": "HTMLModel",
      "state": {
       "_dom_classes": [],
       "_model_module": "@jupyter-widgets/controls",
       "_model_module_version": "1.5.0",
       "_model_name": "HTMLModel",
       "_view_count": null,
       "_view_module": "@jupyter-widgets/controls",
       "_view_module_version": "1.5.0",
       "_view_name": "HTMLView",
       "description": "",
       "description_tooltip": null,
       "layout": "IPY_MODEL_c04c9a47cb4e4d67b0a03a7f0456eda4",
       "placeholder": "​",
       "style": "IPY_MODEL_6b46cc457dc646ada2d85d0320b397bd",
       "value": "<style type=\"text/css\">\n#T_94ed9 th {\n  text-align: center;\n}\n#T_94ed9_row0_col0, #T_94ed9_row0_col1, #T_94ed9_row0_col2, #T_94ed9_row1_col0, #T_94ed9_row1_col1, #T_94ed9_row1_col2, #T_94ed9_row2_col0, #T_94ed9_row2_col1, #T_94ed9_row2_col2, #T_94ed9_row3_col0, #T_94ed9_row3_col1, #T_94ed9_row3_col2, #T_94ed9_row4_col0, #T_94ed9_row4_col1, #T_94ed9_row4_col2 {\n  text-align: center;\n}\n</style>\n<table id=\"T_94ed9\">\n  <thead>\n    <tr>\n      <th id=\"T_94ed9_level0_col0\" class=\"col_heading level0 col0\" >Agency</th>\n      <th id=\"T_94ed9_level0_col1\" class=\"col_heading level0 col1\" >Transit Obligations</th>\n      <th id=\"T_94ed9_level0_col2\" class=\"col_heading level0 col2\" >Percent Of Category</th>\n    </tr>\n  </thead>\n  <tbody>\n    <tr>\n      <td id=\"T_94ed9_row0_col0\" class=\"data row0 col0\" >Metropolitan Transportation Commission</td>\n      <td id=\"T_94ed9_row0_col1\" class=\"data row0 col1\" >18</td>\n      <td id=\"T_94ed9_row0_col2\" class=\"data row0 col2\" >$27.69</td>\n    </tr>\n    <tr>\n      <td id=\"T_94ed9_row1_col0\" class=\"data row1 col0\" >Sunnyvale</td>\n      <td id=\"T_94ed9_row1_col1\" class=\"data row1 col1\" >6</td>\n      <td id=\"T_94ed9_row1_col2\" class=\"data row1 col2\" >$9.23</td>\n    </tr>\n    <tr>\n      <td id=\"T_94ed9_row2_col0\" class=\"data row2 col0\" >Oakland</td>\n      <td id=\"T_94ed9_row2_col1\" class=\"data row2 col1\" >4</td>\n      <td id=\"T_94ed9_row2_col2\" class=\"data row2 col2\" >$6.15</td>\n    </tr>\n    <tr>\n      <td id=\"T_94ed9_row3_col0\" class=\"data row3 col0\" >San Jose</td>\n      <td id=\"T_94ed9_row3_col1\" class=\"data row3 col1\" >4</td>\n      <td id=\"T_94ed9_row3_col2\" class=\"data row3 col2\" >$6.15</td>\n    </tr>\n    <tr>\n      <td id=\"T_94ed9_row4_col0\" class=\"data row4 col0\" >San Leandro</td>\n      <td id=\"T_94ed9_row4_col1\" class=\"data row4 col1\" >4</td>\n      <td id=\"T_94ed9_row4_col2\" class=\"data row4 col2\" >$6.15</td>\n    </tr>\n  </tbody>\n</table>\n"
      }
     },
     "da86d8d635ee4e41bb998eb2676867f8": {
      "model_module": "@jupyter-widgets/controls",
      "model_module_version": "1.5.0",
      "model_name": "DescriptionStyleModel",
      "state": {
       "_model_module": "@jupyter-widgets/controls",
       "_model_module_version": "1.5.0",
       "_model_name": "DescriptionStyleModel",
       "_view_count": null,
       "_view_module": "@jupyter-widgets/base",
       "_view_module_version": "1.2.0",
       "_view_name": "StyleView",
       "description_width": ""
      }
     },
     "df51a90bb4634b7ab6cc63d295b599bd": {
      "model_module": "@jupyter-widgets/controls",
      "model_module_version": "1.5.0",
      "model_name": "DescriptionStyleModel",
      "state": {
       "_model_module": "@jupyter-widgets/controls",
       "_model_module_version": "1.5.0",
       "_model_name": "DescriptionStyleModel",
       "_view_count": null,
       "_view_module": "@jupyter-widgets/base",
       "_view_module_version": "1.2.0",
       "_view_name": "StyleView",
       "description_width": ""
      }
     },
     "dfa40154700a474aa55604747a3bb811": {
      "model_module": "@jupyter-widgets/base",
      "model_module_version": "1.2.0",
      "model_name": "LayoutModel",
      "state": {
       "_model_module": "@jupyter-widgets/base",
       "_model_module_version": "1.2.0",
       "_model_name": "LayoutModel",
       "_view_count": null,
       "_view_module": "@jupyter-widgets/base",
       "_view_module_version": "1.2.0",
       "_view_name": "LayoutView",
       "align_content": null,
       "align_items": null,
       "align_self": null,
       "border": null,
       "bottom": null,
       "display": null,
       "flex": null,
       "flex_flow": null,
       "grid_area": null,
       "grid_auto_columns": null,
       "grid_auto_flow": null,
       "grid_auto_rows": null,
       "grid_column": null,
       "grid_gap": null,
       "grid_row": null,
       "grid_template_areas": null,
       "grid_template_columns": null,
       "grid_template_rows": null,
       "height": null,
       "justify_content": null,
       "justify_items": null,
       "left": null,
       "margin": null,
       "max_height": null,
       "max_width": null,
       "min_height": null,
       "min_width": null,
       "object_fit": null,
       "object_position": null,
       "order": null,
       "overflow": null,
       "overflow_x": null,
       "overflow_y": null,
       "padding": null,
       "right": null,
       "top": null,
       "visibility": null,
       "width": null
      }
     },
     "e301ce5b2f374196b07912f18ec248e3": {
      "model_module": "@jupyter-widgets/base",
      "model_module_version": "1.2.0",
      "model_name": "LayoutModel",
      "state": {
       "_model_module": "@jupyter-widgets/base",
       "_model_module_version": "1.2.0",
       "_model_name": "LayoutModel",
       "_view_count": null,
       "_view_module": "@jupyter-widgets/base",
       "_view_module_version": "1.2.0",
       "_view_name": "LayoutView",
       "align_content": null,
       "align_items": null,
       "align_self": null,
       "border": null,
       "bottom": null,
       "display": null,
       "flex": null,
       "flex_flow": null,
       "grid_area": null,
       "grid_auto_columns": null,
       "grid_auto_flow": null,
       "grid_auto_rows": null,
       "grid_column": null,
       "grid_gap": null,
       "grid_row": null,
       "grid_template_areas": null,
       "grid_template_columns": null,
       "grid_template_rows": null,
       "height": null,
       "justify_content": null,
       "justify_items": null,
       "left": null,
       "margin": null,
       "max_height": null,
       "max_width": null,
       "min_height": null,
       "min_width": null,
       "object_fit": null,
       "object_position": null,
       "order": null,
       "overflow": null,
       "overflow_x": null,
       "overflow_y": null,
       "padding": null,
       "right": null,
       "top": null,
       "visibility": null,
       "width": null
      }
     },
     "e65a8637a1674949b8cbb3a49ab03c29": {
      "model_module": "@jupyter-widgets/base",
      "model_module_version": "1.2.0",
      "model_name": "LayoutModel",
      "state": {
       "_model_module": "@jupyter-widgets/base",
       "_model_module_version": "1.2.0",
       "_model_name": "LayoutModel",
       "_view_count": null,
       "_view_module": "@jupyter-widgets/base",
       "_view_module_version": "1.2.0",
       "_view_name": "LayoutView",
       "align_content": null,
       "align_items": null,
       "align_self": null,
       "border": null,
       "bottom": null,
       "display": null,
       "flex": null,
       "flex_flow": null,
       "grid_area": null,
       "grid_auto_columns": null,
       "grid_auto_flow": null,
       "grid_auto_rows": null,
       "grid_column": null,
       "grid_gap": null,
       "grid_row": null,
       "grid_template_areas": null,
       "grid_template_columns": null,
       "grid_template_rows": null,
       "height": null,
       "justify_content": null,
       "justify_items": null,
       "left": null,
       "margin": null,
       "max_height": null,
       "max_width": null,
       "min_height": null,
       "min_width": null,
       "object_fit": null,
       "object_position": null,
       "order": null,
       "overflow": null,
       "overflow_x": null,
       "overflow_y": null,
       "padding": null,
       "right": null,
       "top": null,
       "visibility": null,
       "width": null
      }
     },
     "fb4136e1c0974dd89d6e92e9ab15bbbf": {
      "model_module": "@jupyter-widgets/base",
      "model_module_version": "1.2.0",
      "model_name": "LayoutModel",
      "state": {
       "_model_module": "@jupyter-widgets/base",
       "_model_module_version": "1.2.0",
       "_model_name": "LayoutModel",
       "_view_count": null,
       "_view_module": "@jupyter-widgets/base",
       "_view_module_version": "1.2.0",
       "_view_name": "LayoutView",
       "align_content": null,
       "align_items": null,
       "align_self": null,
       "border": null,
       "bottom": null,
       "display": null,
       "flex": null,
       "flex_flow": null,
       "grid_area": null,
       "grid_auto_columns": null,
       "grid_auto_flow": null,
       "grid_auto_rows": null,
       "grid_column": null,
       "grid_gap": null,
       "grid_row": null,
       "grid_template_areas": null,
       "grid_template_columns": null,
       "grid_template_rows": null,
       "height": null,
       "justify_content": null,
       "justify_items": null,
       "left": null,
       "margin": null,
       "max_height": null,
       "max_width": null,
       "min_height": null,
       "min_width": null,
       "object_fit": null,
       "object_position": null,
       "order": null,
       "overflow": null,
       "overflow_x": null,
       "overflow_y": null,
       "padding": null,
       "right": null,
       "top": null,
       "visibility": null,
       "width": null
      }
     }
    },
    "version_major": 2,
    "version_minor": 0
   }
  }
 },
 "nbformat": 4,
 "nbformat_minor": 5
}