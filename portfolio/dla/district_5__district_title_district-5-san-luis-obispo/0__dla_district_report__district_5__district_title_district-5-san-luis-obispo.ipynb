{
 "cells": [
  {
   "cell_type": "markdown",
   "id": "c52ac033",
   "metadata": {
    "papermill": {
     "duration": 0.018315,
     "end_time": "2022-06-02T22:23:22.252059",
     "exception": false,
     "start_time": "2022-06-02T22:23:22.233744",
     "status": "completed"
    },
    "pycharm": {
     "name": "#%% md\n"
    },
    "tags": []
   },
   "source": [
    "# **District 5 - San Luis Obispo**"
   ]
  },
  {
   "cell_type": "markdown",
   "id": "69a79097-e42c-4e22-aec5-62594d3f008f",
   "metadata": {
    "papermill": {
     "duration": 0.017449,
     "end_time": "2022-06-02T22:23:22.287673",
     "exception": false,
     "start_time": "2022-06-02T22:23:22.270224",
     "status": "completed"
    },
    "tags": []
   },
   "source": [
    "<hr style=\"height: 2px; background-color:#136C97; border: none\">\n"
   ]
  },
  {
   "cell_type": "markdown",
   "id": "178948e4-f2ee-4978-87a6-e2eb560b0feb",
   "metadata": {
    "papermill": {
     "duration": 0.017619,
     "end_time": "2022-06-02T22:23:22.324164",
     "exception": false,
     "start_time": "2022-06-02T22:23:22.306545",
     "status": "completed"
    },
    "tags": []
   },
   "source": [
    "How does funding for local agencies differ district to district? Using E-76 obligation data, we can gain insight to how agencies in District 5 use federal program funds, and help identify DLA‘s core customers."
   ]
  },
  {
   "cell_type": "code",
   "execution_count": 1,
   "id": "92c5c56a",
   "metadata": {
    "collapsed": false,
    "execution": {
     "iopub.execute_input": "2022-06-02T22:23:22.361617Z",
     "iopub.status.busy": "2022-06-02T22:23:22.360984Z",
     "iopub.status.idle": "2022-06-02T22:23:32.464853Z",
     "shell.execute_reply": "2022-06-02T22:23:32.463908Z"
    },
    "jupyter": {
     "source_hidden": true
    },
    "papermill": {
     "duration": 10.125958,
     "end_time": "2022-06-02T22:23:32.467592",
     "exception": false,
     "start_time": "2022-06-02T22:23:22.341634",
     "status": "completed"
    },
    "pycharm": {
     "name": "#%%\n"
    },
    "tags": [
     "remove_input"
    ]
   },
   "outputs": [],
   "source": [
    "%%capture\n",
    "\n",
    "import numpy as np\n",
    "import pandas as pd\n",
    "from siuba import *\n",
    "\n",
    "import altair as alt\n",
    "import altair_saver\n",
    "from plotnine import *\n",
    "\n",
    "from IPython.display import Markdown, HTML, Image\n",
    "import ipywidgets as widgets\n",
    "from ipywidgets import interact, interactive\n",
    "\n",
    "from calitp import to_snakecase\n",
    "import intake\n",
    "\n",
    "from shared_utils import altair_utils\n",
    "from shared_utils import styleguide\n",
    "\n",
    "from dla_utils import _dla_utils\n"
   ]
  },
  {
   "cell_type": "code",
   "execution_count": 2,
   "id": "82cf8245-73d2-4ed3-93cf-7ee01661b024",
   "metadata": {
    "execution": {
     "iopub.execute_input": "2022-06-02T22:23:32.508231Z",
     "iopub.status.busy": "2022-06-02T22:23:32.507585Z",
     "iopub.status.idle": "2022-06-02T22:23:32.512283Z",
     "shell.execute_reply": "2022-06-02T22:23:32.511708Z"
    },
    "jupyter": {
     "source_hidden": true
    },
    "papermill": {
     "duration": 0.028018,
     "end_time": "2022-06-02T22:23:32.514138",
     "exception": false,
     "start_time": "2022-06-02T22:23:32.486120",
     "status": "completed"
    },
    "tags": [
     "parameters",
     "remove_input"
    ]
   },
   "outputs": [],
   "source": [
    "#Parameter Cell\n",
    "\n",
    "district = 4"
   ]
  },
  {
   "cell_type": "code",
   "execution_count": 3,
   "id": "8836e4fb",
   "metadata": {
    "execution": {
     "iopub.execute_input": "2022-06-02T22:23:32.553954Z",
     "iopub.status.busy": "2022-06-02T22:23:32.553635Z",
     "iopub.status.idle": "2022-06-02T22:23:32.558019Z",
     "shell.execute_reply": "2022-06-02T22:23:32.557146Z"
    },
    "jupyter": {
     "source_hidden": true
    },
    "papermill": {
     "duration": 0.026033,
     "end_time": "2022-06-02T22:23:32.560205",
     "exception": false,
     "start_time": "2022-06-02T22:23:32.534172",
     "status": "completed"
    },
    "tags": [
     "injected-parameters",
     "remove_input"
    ]
   },
   "outputs": [],
   "source": [
    "# Parameters\n",
    "district = 5\n",
    "district_title = \"District 5 - San Luis Obispo\"\n"
   ]
  },
  {
   "cell_type": "code",
   "execution_count": 4,
   "id": "948b2b4f-ef9b-48ff-b109-e7b76361066c",
   "metadata": {
    "execution": {
     "iopub.execute_input": "2022-06-02T22:23:32.602373Z",
     "iopub.status.busy": "2022-06-02T22:23:32.601511Z",
     "iopub.status.idle": "2022-06-02T22:23:33.147712Z",
     "shell.execute_reply": "2022-06-02T22:23:33.146790Z"
    },
    "jupyter": {
     "source_hidden": true
    },
    "papermill": {
     "duration": 0.572313,
     "end_time": "2022-06-02T22:23:33.150698",
     "exception": false,
     "start_time": "2022-06-02T22:23:32.578385",
     "status": "completed"
    },
    "tags": [
     "remove_input"
    ]
   },
   "outputs": [],
   "source": [
    "df= pd.read_parquet(\"gs://calitp-analytics-data/data-analyses/dla/e-76Obligated/dla_df.parquet\")\n"
   ]
  },
  {
   "cell_type": "code",
   "execution_count": 5,
   "id": "be910f27-7608-4522-8d8d-ef93611cb748",
   "metadata": {
    "execution": {
     "iopub.execute_input": "2022-06-02T22:23:33.216040Z",
     "iopub.status.busy": "2022-06-02T22:23:33.215389Z",
     "iopub.status.idle": "2022-06-02T22:23:33.321811Z",
     "shell.execute_reply": "2022-06-02T22:23:33.321025Z"
    },
    "jupyter": {
     "source_hidden": true
    },
    "papermill": {
     "duration": 0.129504,
     "end_time": "2022-06-02T22:23:33.324234",
     "exception": false,
     "start_time": "2022-06-02T22:23:33.194730",
     "status": "completed"
    },
    "tags": [
     "remove_input"
    ]
   },
   "outputs": [],
   "source": [
    "df = (df>>filter(_.dist==district))\n",
    "    \n",
    "    \n",
    "#subsetting the data\n",
    "df_years = _dla_utils.count_all_years(df)\n",
    "df_top = _dla_utils.find_top(df)\n",
    "    "
   ]
  },
  {
   "cell_type": "code",
   "execution_count": 6,
   "id": "a5850431-4942-45ef-a3ea-6cb3f07d628e",
   "metadata": {
    "execution": {
     "iopub.execute_input": "2022-06-02T22:23:33.367614Z",
     "iopub.status.busy": "2022-06-02T22:23:33.366909Z",
     "iopub.status.idle": "2022-06-02T22:23:33.373708Z",
     "shell.execute_reply": "2022-06-02T22:23:33.373085Z"
    },
    "jupyter": {
     "source_hidden": true
    },
    "papermill": {
     "duration": 0.03205,
     "end_time": "2022-06-02T22:23:33.375626",
     "exception": false,
     "start_time": "2022-06-02T22:23:33.343576",
     "status": "completed"
    },
    "tags": [
     "remove_input"
    ]
   },
   "outputs": [],
   "source": [
    "df['prepared_y'] = df['prepared_y'].map('{:.0f}'.format)"
   ]
  },
  {
   "cell_type": "code",
   "execution_count": 7,
   "id": "7f5ac0a1-a951-4072-8f85-d2c90290907f",
   "metadata": {
    "execution": {
     "iopub.execute_input": "2022-06-02T22:23:33.423714Z",
     "iopub.status.busy": "2022-06-02T22:23:33.423081Z",
     "iopub.status.idle": "2022-06-02T22:23:33.623945Z",
     "shell.execute_reply": "2022-06-02T22:23:33.623124Z"
    },
    "jupyter": {
     "source_hidden": true
    },
    "papermill": {
     "duration": 0.223629,
     "end_time": "2022-06-02T22:23:33.625998",
     "exception": false,
     "start_time": "2022-06-02T22:23:33.402369",
     "status": "completed"
    },
    "tags": [
     "remove_input"
    ]
   },
   "outputs": [
    {
     "data": {
      "text/html": [
       "<h3>Quick Stats</h3>"
      ],
      "text/plain": [
       "<IPython.core.display.HTML object>"
      ]
     },
     "metadata": {},
     "output_type": "display_data"
    },
    {
     "data": {
      "text/html": [
       "There are <strong>39 Unique Agencies</strong>"
      ],
      "text/plain": [
       "<IPython.core.display.HTML object>"
      ]
     },
     "metadata": {},
     "output_type": "display_data"
    },
    {
     "data": {
      "text/html": [
       "Out of <strong>1,440</strong> obligations, <strong>6 have transit-related</strong> project types<br><strong>Grover Beach</strong> has the <strong>highest transit</strong> obligations"
      ],
      "text/plain": [
       "<IPython.core.display.HTML object>"
      ]
     },
     "metadata": {},
     "output_type": "display_data"
    },
    {
     "data": {
      "text/html": [
       "There are <strong>2 agencies have over 140.30</strong> obligations (95th percentile) since 2013"
      ],
      "text/plain": [
       "<IPython.core.display.HTML object>"
      ]
     },
     "metadata": {},
     "output_type": "display_data"
    },
    {
     "data": {
      "text/html": [
       "There are <strong>3 agencies have less than 2.00</strong> obligations (5th percentile) since 2013"
      ],
      "text/plain": [
       "<IPython.core.display.HTML object>"
      ]
     },
     "metadata": {},
     "output_type": "display_data"
    },
    {
     "data": {
      "text/html": [
       "<h4>Number of Unique Prefix Codes by Agency</h4>"
      ],
      "text/plain": [
       "<IPython.core.display.HTML object>"
      ]
     },
     "metadata": {},
     "output_type": "display_data"
    },
    {
     "data": {
      "text/html": [
       "<style type=\"text/css\">\n",
       "#T_48675 th {\n",
       "  text-align: center;\n",
       "}\n",
       "#T_48675_row0_col0, #T_48675_row0_col1, #T_48675_row1_col0, #T_48675_row1_col1, #T_48675_row2_col0, #T_48675_row2_col1, #T_48675_row3_col0, #T_48675_row3_col1, #T_48675_row4_col0, #T_48675_row4_col1 {\n",
       "  text-align: center;\n",
       "}\n",
       "</style>\n",
       "<table id=\"T_48675\">\n",
       "  <thead>\n",
       "    <tr>\n",
       "      <th id=\"T_48675_level0_col0\" class=\"col_heading level0 col0\" >Agency</th>\n",
       "      <th id=\"T_48675_level0_col1\" class=\"col_heading level0 col1\" >Number Of Unqiue Prefix Codes</th>\n",
       "    </tr>\n",
       "  </thead>\n",
       "  <tbody>\n",
       "    <tr>\n",
       "      <td id=\"T_48675_row0_col0\" class=\"data row0 col0\" >San Luis Obispo County</td>\n",
       "      <td id=\"T_48675_row0_col1\" class=\"data row0 col1\" >22</td>\n",
       "    </tr>\n",
       "    <tr>\n",
       "      <td id=\"T_48675_row1_col0\" class=\"data row1 col0\" >Monterey County</td>\n",
       "      <td id=\"T_48675_row1_col1\" class=\"data row1 col1\" >19</td>\n",
       "    </tr>\n",
       "    <tr>\n",
       "      <td id=\"T_48675_row2_col0\" class=\"data row2 col0\" >Santa Barbara County</td>\n",
       "      <td id=\"T_48675_row2_col1\" class=\"data row2 col1\" >17</td>\n",
       "    </tr>\n",
       "    <tr>\n",
       "      <td id=\"T_48675_row3_col0\" class=\"data row3 col0\" >Santa Cruz County</td>\n",
       "      <td id=\"T_48675_row3_col1\" class=\"data row3 col1\" >13</td>\n",
       "    </tr>\n",
       "    <tr>\n",
       "      <td id=\"T_48675_row4_col0\" class=\"data row4 col0\" >Santa Cruz</td>\n",
       "      <td id=\"T_48675_row4_col1\" class=\"data row4 col1\" >11</td>\n",
       "    </tr>\n",
       "  </tbody>\n",
       "</table>\n"
      ],
      "text/plain": [
       "<IPython.core.display.HTML object>"
      ]
     },
     "metadata": {},
     "output_type": "display_data"
    },
    {
     "data": {
      "text/html": [
       "<h4>Number of Unique Agencies by Prefix Codes</h4>"
      ],
      "text/plain": [
       "<IPython.core.display.HTML object>"
      ]
     },
     "metadata": {},
     "output_type": "display_data"
    },
    {
     "data": {
      "text/html": [
       "<style type=\"text/css\">\n",
       "#T_42a19 th {\n",
       "  text-align: center;\n",
       "}\n",
       "#T_42a19_row0_col0, #T_42a19_row0_col1, #T_42a19_row1_col0, #T_42a19_row1_col1, #T_42a19_row2_col0, #T_42a19_row2_col1, #T_42a19_row3_col0, #T_42a19_row3_col1, #T_42a19_row4_col0, #T_42a19_row4_col1 {\n",
       "  text-align: center;\n",
       "}\n",
       "</style>\n",
       "<table id=\"T_42a19\">\n",
       "  <thead>\n",
       "    <tr>\n",
       "      <th id=\"T_42a19_level0_col0\" class=\"col_heading level0 col0\" >Prefix</th>\n",
       "      <th id=\"T_42a19_level0_col1\" class=\"col_heading level0 col1\" >Number Of Unqiue Agencies</th>\n",
       "    </tr>\n",
       "  </thead>\n",
       "  <tbody>\n",
       "    <tr>\n",
       "      <td id=\"T_42a19_row0_col0\" class=\"data row0 col0\" >HSIPL</td>\n",
       "      <td id=\"T_42a19_row0_col1\" class=\"data row0 col1\" >18</td>\n",
       "    </tr>\n",
       "    <tr>\n",
       "      <td id=\"T_42a19_row1_col0\" class=\"data row1 col0\" >ER</td>\n",
       "      <td id=\"T_42a19_row1_col1\" class=\"data row1 col1\" >13</td>\n",
       "    </tr>\n",
       "    <tr>\n",
       "      <td id=\"T_42a19_row2_col0\" class=\"data row2 col0\" >RPSTPL</td>\n",
       "      <td id=\"T_42a19_row2_col1\" class=\"data row2 col1\" >12</td>\n",
       "    </tr>\n",
       "    <tr>\n",
       "      <td id=\"T_42a19_row3_col0\" class=\"data row3 col0\" >ACSTER</td>\n",
       "      <td id=\"T_42a19_row3_col1\" class=\"data row3 col1\" >10</td>\n",
       "    </tr>\n",
       "    <tr>\n",
       "      <td id=\"T_42a19_row4_col0\" class=\"data row4 col0\" >BRLS</td>\n",
       "      <td id=\"T_42a19_row4_col1\" class=\"data row4 col1\" >10</td>\n",
       "    </tr>\n",
       "  </tbody>\n",
       "</table>\n"
      ],
      "text/plain": [
       "<IPython.core.display.HTML object>"
      ]
     },
     "metadata": {},
     "output_type": "display_data"
    },
    {
     "data": {
      "text/html": [
       "<h4>Top 5 Types of Work</h4>"
      ],
      "text/plain": [
       "<IPython.core.display.HTML object>"
      ]
     },
     "metadata": {},
     "output_type": "display_data"
    },
    {
     "data": {
      "text/html": [
       "<style type=\"text/css\">\n",
       "#T_9a132 th {\n",
       "  text-align: center;\n",
       "}\n",
       "#T_9a132_row0_col0, #T_9a132_row1_col0, #T_9a132_row2_col0, #T_9a132_row3_col0, #T_9a132_row4_col0 {\n",
       "  text-align: center;\n",
       "}\n",
       "</style>\n",
       "<table id=\"T_9a132\">\n",
       "  <thead>\n",
       "    <tr>\n",
       "      <th id=\"T_9a132_level0_col0\" class=\"col_heading level0 col0\" >Type Of Work</th>\n",
       "    </tr>\n",
       "  </thead>\n",
       "  <tbody>\n",
       "    <tr>\n",
       "      <td id=\"T_9a132_row0_col0\" class=\"data row0 col0\" >Bridge Replacement (tc)</td>\n",
       "    </tr>\n",
       "    <tr>\n",
       "      <td id=\"T_9a132_row1_col0\" class=\"data row1 col0\" >Bridge Replacement</td>\n",
       "    </tr>\n",
       "    <tr>\n",
       "      <td id=\"T_9a132_row2_col0\" class=\"data row2 col0\" >Stabilize And Reconstruct Roadway</td>\n",
       "    </tr>\n",
       "    <tr>\n",
       "      <td id=\"T_9a132_row3_col0\" class=\"data row3 col0\" >Stabilize Slope And Reconstruct Roadway</td>\n",
       "    </tr>\n",
       "    <tr>\n",
       "      <td id=\"T_9a132_row4_col0\" class=\"data row4 col0\" >Bridge Preventive Maintenance</td>\n",
       "    </tr>\n",
       "  </tbody>\n",
       "</table>\n"
      ],
      "text/plain": [
       "<IPython.core.display.HTML object>"
      ]
     },
     "metadata": {},
     "output_type": "display_data"
    }
   ],
   "source": [
    "display(HTML(\"<h3>Quick Stats</h3>\"))\n",
    "\n",
    "display(\n",
    "    HTML(\n",
    "        f\"There are <strong>{(df.primary_agency_name.nunique())} Unique Agencies</strong>\"\n",
    "    )\n",
    ")\n",
    "\n",
    "transit = df >> filter(_.transit == 1)\n",
    "\n",
    "def find_transit(df):\n",
    "    if (len(transit)) == 0: \n",
    "        return display((HTML(f\"Out of <strong>{len(df):,}</strong> obligations,\" \n",
    "                             f\" there are <strong>0 transit realted</strong> project types\")))\n",
    "    \n",
    "    else:\n",
    "        return display(\n",
    "            HTML(\n",
    "                f\"Out of <strong>{len(df):,}</strong> obligations, <strong>{len(transit)} have \"\n",
    "                f\"transit-related</strong> project types\"\n",
    "                f\"<br><strong>{(transit>>count(_.primary_agency_name)>>arrange(-_.n)).iloc[0, 0]}</strong> \"\n",
    "                f\"has the <strong>highest transit</strong> obligations\"\n",
    "            ))\n",
    "    \n",
    "find_transit(df)\n",
    "\n",
    "q = df >> count(_.primary_agency_name) >> arrange(_.n)\n",
    "\n",
    "q2 = q.n.quantile(0.95)\n",
    "\n",
    "display(\n",
    "    HTML(\n",
    "        f\"There are <strong>{len(q>>filter(_.n> (q2)))} agencies have over {('%.2f'%(q2))}</strong> \" \n",
    "        f\"obligations (95th percentile) since {(df.prepared_y.min())}\"\n",
    "    )\n",
    ")\n",
    "\n",
    "q3 = q.n.quantile(0.1)\n",
    "display(\n",
    "    HTML(\n",
    "        (\n",
    "            f\"There are <strong>{len(q>>filter(_.n< (q3)))} agencies have less than\"\n",
    "            f\" {('%.2f'%(q3))}</strong> obligations (5th percentile) since {(df.prepared_y.min())}\"\n",
    "        )\n",
    "    )\n",
    ")\n",
    "\n",
    "## tables\n",
    "display(HTML(\"<h4>Number of Unique Prefix Codes by Agency</h4>\"))\n",
    "nunique_prefix_codes = ((_dla_utils.get_nunique(df, \"prefix\", \"primary_agency_name\"))\n",
    "                        .rename(columns={\"primary_agency_name\": \"Agency\", \"n\": \"Number of Unqiue Prefix Codes\"})\n",
    "                        .head(5))\n",
    "display(HTML(_dla_utils.pretify_tables(nunique_prefix_codes)))\n",
    "\n",
    "display(HTML(\"<h4>Number of Unique Agencies by Prefix Codes</h4>\"))\n",
    "prefix_codes = ((_dla_utils.get_nunique(df, \"primary_agency_name\", \"prefix\"))\n",
    "                .rename(columns={\"prefix\": \"Prefix\", \"n\": \"Number of Unqiue Agencies\"})\n",
    "                .head(5))\n",
    "display(HTML(_dla_utils.pretify_tables(prefix_codes)))\n",
    "\n",
    "\n",
    "display(HTML(\"<h4>Top 5 Types of Work</h4>\"))\n",
    "work_types = (\n",
    "    (df >> count(_.type_of_work) >> arrange(-_.n) >> select(_.type_of_work))\n",
    "    .rename(columns={\"type_of_work\": \"Type of Work\"})\n",
    "    .head(5)\n",
    ")\n",
    "display(HTML(_dla_utils.pretify_tables(work_types)))\n",
    "# get rid of index using:\n",
    "## https://stackoverflow.com/questions/24644656/how-to-print-pandas-dataframe-without-index\n"
   ]
  },
  {
   "cell_type": "markdown",
   "id": "52a161a2-876a-4b42-9c93-3221dce17638",
   "metadata": {
    "papermill": {
     "duration": 0.022477,
     "end_time": "2022-06-02T22:23:33.671309",
     "exception": false,
     "start_time": "2022-06-02T22:23:33.648832",
     "status": "completed"
    },
    "tags": []
   },
   "source": [
    "## Obligations"
   ]
  },
  {
   "cell_type": "markdown",
   "id": "c9d55b3c-f6b6-4980-957c-77d458068fe3",
   "metadata": {
    "papermill": {
     "duration": 0.0257,
     "end_time": "2022-06-02T22:23:33.727645",
     "exception": false,
     "start_time": "2022-06-02T22:23:33.701945",
     "status": "completed"
    },
    "tags": []
   },
   "source": [
    "<hr style=\"height: 2px; background-color:#136C97; border: none\">"
   ]
  },
  {
   "cell_type": "markdown",
   "id": "379b61e3-1c1b-4683-b78f-8dee0683f064",
   "metadata": {
    "papermill": {
     "duration": 0.02251,
     "end_time": "2022-06-02T22:23:33.777482",
     "exception": false,
     "start_time": "2022-06-02T22:23:33.754972",
     "status": "completed"
    },
    "tags": []
   },
   "source": [
    "Obligations indicate a unique entry in the E-76 dataset. By counting the obligations for each year, district, and organization, we can see what the volume each as well which organizations are the most and last frequent customers. \n",
    "\n",
    "Metrics:\n",
    "* Obligations by Year\n",
    "* Number of Unique Agencies by District\n",
    "* Agencies With The Most Obligations"
   ]
  },
  {
   "cell_type": "markdown",
   "id": "81ad520b-db91-45b8-a598-a6577cccc24e",
   "metadata": {
    "papermill": {
     "duration": 0.024133,
     "end_time": "2022-06-02T22:23:33.828118",
     "exception": false,
     "start_time": "2022-06-02T22:23:33.803985",
     "status": "completed"
    },
    "tags": []
   },
   "source": [
    "### Number of Obligations by Year"
   ]
  },
  {
   "cell_type": "code",
   "execution_count": 8,
   "id": "ae85287b-0772-4595-8ea2-ccba83dd22cf",
   "metadata": {
    "execution": {
     "iopub.execute_input": "2022-06-02T22:23:33.874750Z",
     "iopub.status.busy": "2022-06-02T22:23:33.874137Z",
     "iopub.status.idle": "2022-06-02T22:23:33.911589Z",
     "shell.execute_reply": "2022-06-02T22:23:33.910567Z"
    },
    "jupyter": {
     "source_hidden": true
    },
    "papermill": {
     "duration": 0.063912,
     "end_time": "2022-06-02T22:23:33.914048",
     "exception": false,
     "start_time": "2022-06-02T22:23:33.850136",
     "status": "completed"
    },
    "tags": [
     "remove_input"
    ]
   },
   "outputs": [
    {
     "data": {
      "text/html": [
       "\n",
       "<div id=\"altair-viz-299db473b1b74fe5b7b40c0c89021079\"></div>\n",
       "<script type=\"text/javascript\">\n",
       "  var VEGA_DEBUG = (typeof VEGA_DEBUG == \"undefined\") ? {} : VEGA_DEBUG;\n",
       "  (function(spec, embedOpt){\n",
       "    let outputDiv = document.currentScript.previousElementSibling;\n",
       "    if (outputDiv.id !== \"altair-viz-299db473b1b74fe5b7b40c0c89021079\") {\n",
       "      outputDiv = document.getElementById(\"altair-viz-299db473b1b74fe5b7b40c0c89021079\");\n",
       "    }\n",
       "    const paths = {\n",
       "      \"vega\": \"https://cdn.jsdelivr.net/npm//vega@5?noext\",\n",
       "      \"vega-lib\": \"https://cdn.jsdelivr.net/npm//vega-lib?noext\",\n",
       "      \"vega-lite\": \"https://cdn.jsdelivr.net/npm//vega-lite@4.17.0?noext\",\n",
       "      \"vega-embed\": \"https://cdn.jsdelivr.net/npm//vega-embed@6?noext\",\n",
       "    };\n",
       "\n",
       "    function maybeLoadScript(lib, version) {\n",
       "      var key = `${lib.replace(\"-\", \"\")}_version`;\n",
       "      return (VEGA_DEBUG[key] == version) ?\n",
       "        Promise.resolve(paths[lib]) :\n",
       "        new Promise(function(resolve, reject) {\n",
       "          var s = document.createElement('script');\n",
       "          document.getElementsByTagName(\"head\")[0].appendChild(s);\n",
       "          s.async = true;\n",
       "          s.onload = () => {\n",
       "            VEGA_DEBUG[key] = version;\n",
       "            return resolve(paths[lib]);\n",
       "          };\n",
       "          s.onerror = () => reject(`Error loading script: ${paths[lib]}`);\n",
       "          s.src = paths[lib];\n",
       "        });\n",
       "    }\n",
       "\n",
       "    function showError(err) {\n",
       "      outputDiv.innerHTML = `<div class=\"error\" style=\"color:red;\">${err}</div>`;\n",
       "      throw err;\n",
       "    }\n",
       "\n",
       "    function displayChart(vegaEmbed) {\n",
       "      vegaEmbed(outputDiv, spec, embedOpt)\n",
       "        .catch(err => showError(`Javascript Error: ${err.message}<br>This usually means there's a typo in your chart specification. See the javascript console for the full traceback.`));\n",
       "    }\n",
       "\n",
       "    if(typeof define === \"function\" && define.amd) {\n",
       "      requirejs.config({paths});\n",
       "      require([\"vega-embed\"], displayChart, err => showError(`Error loading script: ${err.message}`));\n",
       "    } else {\n",
       "      maybeLoadScript(\"vega\", \"5\")\n",
       "        .then(() => maybeLoadScript(\"vega-lite\", \"4.17.0\"))\n",
       "        .then(() => maybeLoadScript(\"vega-embed\", \"6\"))\n",
       "        .catch(showError)\n",
       "        .then(() => displayChart(vegaEmbed));\n",
       "    }\n",
       "  })({\"config\": {\"view\": {\"continuousWidth\": 400, \"continuousHeight\": 300}, \"axis\": {\"domainColor\": \"#cbcbcb\", \"grid\": true, \"gridColor\": \"#cbcbcb\", \"gridWidth\": 1, \"labelColor\": \"#474747\", \"labelFont\": \"Nunito Sans\", \"labelFontSize\": 10, \"labelPadding\": 4, \"tickColor\": \"#cbcbcb\", \"tickSize\": 10, \"titleColor\": \"#333\", \"titleFont\": \"Raleway\", \"titleFontSize\": 12, \"titlePadding\": 10}, \"axisBand\": {\"grid\": false}, \"background\": \"white\", \"font\": \"Raleway\", \"header\": {\"labelFont\": \"Nunito Sans\", \"titleFont\": \"Raleway\"}, \"legend\": {\"labelColor\": \"#333\", \"labelFont\": \"Nunito Sans\", \"labelFontSize\": 11, \"labelLimit\": 0, \"padding\": 1, \"symbolSize\": 30, \"symbolType\": \"square\", \"titleColor\": \"#333\", \"titleFont\": \"Raleway\", \"titleFontSize\": 14, \"titlePadding\": 10}, \"title\": {\"anchor\": \"middle\", \"font\": \"Raleway\", \"fontSize\": 18, \"fontWeight\": 300, \"offset\": 20}}, \"data\": {\"name\": \"data-1d2b068479622f8f269a490fe1b287db\"}, \"mark\": \"line\", \"encoding\": {\"tooltip\": [{\"field\": \"Year\", \"title\": \"Year\", \"type\": \"quantitative\"}, {\"field\": \"count\", \"title\": \"Count\", \"type\": \"quantitative\"}], \"x\": {\"field\": \"Year\", \"title\": \"Prepared Year\", \"type\": \"ordinal\"}, \"y\": {\"field\": \"count\", \"title\": \"Count\", \"type\": \"quantitative\"}}, \"height\": 250, \"width\": 400, \"$schema\": \"https://vega.github.io/schema/vega-lite/v4.17.0.json\", \"datasets\": {\"data-1d2b068479622f8f269a490fe1b287db\": [{\"Year\": 2018.0, \"count\": 240, \"variable\": \"prepared_y\"}, {\"Year\": 2019.0, \"count\": 233, \"variable\": \"prepared_y\"}, {\"Year\": 2020.0, \"count\": 177, \"variable\": \"prepared_y\"}, {\"Year\": 2017.0, \"count\": 167, \"variable\": \"prepared_y\"}, {\"Year\": 2015.0, \"count\": 162, \"variable\": \"prepared_y\"}, {\"Year\": 2014.0, \"count\": 140, \"variable\": \"prepared_y\"}, {\"Year\": 2016.0, \"count\": 128, \"variable\": \"prepared_y\"}, {\"Year\": 2021.0, \"count\": 125, \"variable\": \"prepared_y\"}, {\"Year\": 2022.0, \"count\": 62, \"variable\": \"prepared_y\"}, {\"Year\": 2013.0, \"count\": 6, \"variable\": \"prepared_y\"}]}}, {\"mode\": \"vega-lite\"});\n",
       "</script>"
      ],
      "text/plain": [
       "alt.Chart(...)"
      ]
     },
     "metadata": {},
     "output_type": "display_data"
    }
   ],
   "source": [
    " #Line chart for Obligations by Year\n",
    "chart_df = (df_top>>filter(_.variable=='prepared_y')).rename(columns= {\"value\":\"Year\"})\n",
    "    \n",
    "chart1= (_dla_utils.basic_line_chart_test_no_save(chart_df, 'Year', 'count', district)).encode(x=alt.X('Year:O', title='Prepared Year'))\n",
    "display(chart1)"
   ]
  },
  {
   "cell_type": "markdown",
   "id": "ff0a6bf9-ddc9-4b6c-b2e1-77de18cf6f80",
   "metadata": {
    "papermill": {
     "duration": 0.022375,
     "end_time": "2022-06-02T22:23:33.961826",
     "exception": false,
     "start_time": "2022-06-02T22:23:33.939451",
     "status": "completed"
    },
    "tags": []
   },
   "source": [
    "### Number of Unique Agencies by District"
   ]
  },
  {
   "cell_type": "code",
   "execution_count": 9,
   "id": "0bc7e34d-545e-4afd-92e9-a17630d0ae89",
   "metadata": {
    "execution": {
     "iopub.execute_input": "2022-06-02T22:23:34.011495Z",
     "iopub.status.busy": "2022-06-02T22:23:34.010378Z",
     "iopub.status.idle": "2022-06-02T22:23:34.057135Z",
     "shell.execute_reply": "2022-06-02T22:23:34.056250Z"
    },
    "jupyter": {
     "source_hidden": true
    },
    "papermill": {
     "duration": 0.075559,
     "end_time": "2022-06-02T22:23:34.059498",
     "exception": false,
     "start_time": "2022-06-02T22:23:33.983939",
     "status": "completed"
    },
    "tags": [
     "remove_input"
    ]
   },
   "outputs": [
    {
     "data": {
      "text/html": [
       "\n",
       "<div id=\"altair-viz-07a420d1305e40e68d7fdbe2a83f1778\"></div>\n",
       "<script type=\"text/javascript\">\n",
       "  var VEGA_DEBUG = (typeof VEGA_DEBUG == \"undefined\") ? {} : VEGA_DEBUG;\n",
       "  (function(spec, embedOpt){\n",
       "    let outputDiv = document.currentScript.previousElementSibling;\n",
       "    if (outputDiv.id !== \"altair-viz-07a420d1305e40e68d7fdbe2a83f1778\") {\n",
       "      outputDiv = document.getElementById(\"altair-viz-07a420d1305e40e68d7fdbe2a83f1778\");\n",
       "    }\n",
       "    const paths = {\n",
       "      \"vega\": \"https://cdn.jsdelivr.net/npm//vega@5?noext\",\n",
       "      \"vega-lib\": \"https://cdn.jsdelivr.net/npm//vega-lib?noext\",\n",
       "      \"vega-lite\": \"https://cdn.jsdelivr.net/npm//vega-lite@4.17.0?noext\",\n",
       "      \"vega-embed\": \"https://cdn.jsdelivr.net/npm//vega-embed@6?noext\",\n",
       "    };\n",
       "\n",
       "    function maybeLoadScript(lib, version) {\n",
       "      var key = `${lib.replace(\"-\", \"\")}_version`;\n",
       "      return (VEGA_DEBUG[key] == version) ?\n",
       "        Promise.resolve(paths[lib]) :\n",
       "        new Promise(function(resolve, reject) {\n",
       "          var s = document.createElement('script');\n",
       "          document.getElementsByTagName(\"head\")[0].appendChild(s);\n",
       "          s.async = true;\n",
       "          s.onload = () => {\n",
       "            VEGA_DEBUG[key] = version;\n",
       "            return resolve(paths[lib]);\n",
       "          };\n",
       "          s.onerror = () => reject(`Error loading script: ${paths[lib]}`);\n",
       "          s.src = paths[lib];\n",
       "        });\n",
       "    }\n",
       "\n",
       "    function showError(err) {\n",
       "      outputDiv.innerHTML = `<div class=\"error\" style=\"color:red;\">${err}</div>`;\n",
       "      throw err;\n",
       "    }\n",
       "\n",
       "    function displayChart(vegaEmbed) {\n",
       "      vegaEmbed(outputDiv, spec, embedOpt)\n",
       "        .catch(err => showError(`Javascript Error: ${err.message}<br>This usually means there's a typo in your chart specification. See the javascript console for the full traceback.`));\n",
       "    }\n",
       "\n",
       "    if(typeof define === \"function\" && define.amd) {\n",
       "      requirejs.config({paths});\n",
       "      require([\"vega-embed\"], displayChart, err => showError(`Error loading script: ${err.message}`));\n",
       "    } else {\n",
       "      maybeLoadScript(\"vega\", \"5\")\n",
       "        .then(() => maybeLoadScript(\"vega-lite\", \"4.17.0\"))\n",
       "        .then(() => maybeLoadScript(\"vega-embed\", \"6\"))\n",
       "        .catch(showError)\n",
       "        .then(() => displayChart(vegaEmbed));\n",
       "    }\n",
       "  })({\"config\": {\"view\": {\"continuousWidth\": 400, \"continuousHeight\": 300}, \"axis\": {\"domainColor\": \"#cbcbcb\", \"grid\": true, \"gridColor\": \"#cbcbcb\", \"gridWidth\": 1, \"labelColor\": \"#474747\", \"labelFont\": \"Nunito Sans\", \"labelFontSize\": 10, \"labelPadding\": 4, \"tickColor\": \"#cbcbcb\", \"tickSize\": 10, \"titleColor\": \"#333\", \"titleFont\": \"Raleway\", \"titleFontSize\": 12, \"titlePadding\": 10}, \"axisBand\": {\"grid\": false}, \"background\": \"white\", \"font\": \"Raleway\", \"header\": {\"labelFont\": \"Nunito Sans\", \"titleFont\": \"Raleway\"}, \"legend\": {\"labelColor\": \"#333\", \"labelFont\": \"Nunito Sans\", \"labelFontSize\": 11, \"labelLimit\": 0, \"padding\": 1, \"symbolSize\": 30, \"symbolType\": \"square\", \"titleColor\": \"#333\", \"titleFont\": \"Raleway\", \"titleFontSize\": 14, \"titlePadding\": 10}, \"title\": {\"anchor\": \"middle\", \"font\": \"Raleway\", \"fontSize\": 18, \"fontWeight\": 300, \"offset\": 20}}, \"data\": {\"name\": \"data-b8507d9cee110c152e760dfdd3db1601\"}, \"mark\": \"bar\", \"encoding\": {\"color\": {\"field\": \"District\", \"legend\": {\"title\": \"Prepared Year\"}, \"scale\": {\"range\": [\"#B9D6DF\", \"#8CBCCB\", \"#2EA8CE\", \"#136C97\", \"#0B405B\"]}, \"type\": \"nominal\"}, \"column\": {\"field\": \"District\", \"type\": \"nominal\"}, \"tooltip\": [{\"field\": \"prepared_y\", \"title\": \"Year\", \"type\": \"nominal\"}, {\"field\": \"Count\", \"title\": \"Count\", \"type\": \"quantitative\"}], \"x\": {\"field\": \"prepared_y\", \"title\": \"Prepared Year\", \"type\": \"ordinal\"}, \"y\": {\"field\": \"Count\", \"title\": \"Number of Unique Agencies\", \"type\": \"quantitative\"}}, \"height\": 250, \"width\": 400, \"$schema\": \"https://vega.github.io/schema/vega-lite/v4.17.0.json\", \"datasets\": {\"data-b8507d9cee110c152e760dfdd3db1601\": [{\"prepared_y\": \"2022\", \"District\": 5, \"Count\": 13}, {\"prepared_y\": \"2021\", \"District\": 5, \"Count\": 16}, {\"prepared_y\": \"2020\", \"District\": 5, \"Count\": 22}, {\"prepared_y\": \"2019\", \"District\": 5, \"Count\": 22}, {\"prepared_y\": \"2018\", \"District\": 5, \"Count\": 27}, {\"prepared_y\": \"2017\", \"District\": 5, \"Count\": 24}, {\"prepared_y\": \"2016\", \"District\": 5, \"Count\": 27}, {\"prepared_y\": \"2015\", \"District\": 5, \"Count\": 29}, {\"prepared_y\": \"2014\", \"District\": 5, \"Count\": 29}, {\"prepared_y\": \"2013\", \"District\": 5, \"Count\": 3}]}}, {\"mode\": \"vega-lite\"});\n",
       "</script>"
      ],
      "text/plain": [
       "alt.Chart(...)"
      ]
     },
     "metadata": {},
     "output_type": "display_data"
    }
   ],
   "source": [
    "# Unique Agencies by Dist\n",
    "dist_years_agency = ((\n",
    "        df\n",
    "        >> group_by(_.prepared_y, _.dist)\n",
    "        >> summarize(n=_.primary_agency_name.nunique())\n",
    "        >> arrange(-_.prepared_y)\n",
    "    )\n",
    "        .rename(columns={'dist':'District', 'n':'Count'})\n",
    "    )\n",
    "chart10 = (alt.Chart(dist_years_agency).mark_bar().encode(\n",
    "        column='District:N',\n",
    "        x=alt.X('prepared_y:O', title='Prepared Year'),\n",
    "        y=alt.Y('Count:Q', title='Number of Unique Agencies'),\n",
    "        color = alt.Color(\"District:N\", \n",
    "                              scale=alt.Scale(\n",
    "                                  range=altair_utils.CALITP_SEQUENTIAL_COLORS),  \n",
    "                               legend=alt.Legend(title=\"Prepared Year\")\n",
    "                              )))\n",
    "                              \n",
    "chart10 = styleguide.preset_chart_config(chart10)\n",
    "chart10 = _dla_utils.add_tooltip(chart10, 'prepared_y', 'Count')\n",
    "\n",
    "display(chart10)"
   ]
  },
  {
   "cell_type": "markdown",
   "id": "70c59c39-590d-4136-aa09-ee6ed5afc872",
   "metadata": {
    "papermill": {
     "duration": 0.024008,
     "end_time": "2022-06-02T22:23:34.115588",
     "exception": false,
     "start_time": "2022-06-02T22:23:34.091580",
     "status": "completed"
    },
    "tags": []
   },
   "source": [
    "### Agencies With The Most Obligations"
   ]
  },
  {
   "cell_type": "code",
   "execution_count": 10,
   "id": "faa4758e-8a41-44f8-aec4-b8cc4d75d906",
   "metadata": {
    "execution": {
     "iopub.execute_input": "2022-06-02T22:23:34.168126Z",
     "iopub.status.busy": "2022-06-02T22:23:34.167482Z",
     "iopub.status.idle": "2022-06-02T22:23:34.197705Z",
     "shell.execute_reply": "2022-06-02T22:23:34.196989Z"
    },
    "jupyter": {
     "source_hidden": true
    },
    "papermill": {
     "duration": 0.05962,
     "end_time": "2022-06-02T22:23:34.199559",
     "exception": false,
     "start_time": "2022-06-02T22:23:34.139939",
     "status": "completed"
    },
    "tags": [
     "remove_input"
    ]
   },
   "outputs": [
    {
     "data": {
      "text/html": [
       "\n",
       "<div id=\"altair-viz-02274441af664381aa78edb1053f455b\"></div>\n",
       "<script type=\"text/javascript\">\n",
       "  var VEGA_DEBUG = (typeof VEGA_DEBUG == \"undefined\") ? {} : VEGA_DEBUG;\n",
       "  (function(spec, embedOpt){\n",
       "    let outputDiv = document.currentScript.previousElementSibling;\n",
       "    if (outputDiv.id !== \"altair-viz-02274441af664381aa78edb1053f455b\") {\n",
       "      outputDiv = document.getElementById(\"altair-viz-02274441af664381aa78edb1053f455b\");\n",
       "    }\n",
       "    const paths = {\n",
       "      \"vega\": \"https://cdn.jsdelivr.net/npm//vega@5?noext\",\n",
       "      \"vega-lib\": \"https://cdn.jsdelivr.net/npm//vega-lib?noext\",\n",
       "      \"vega-lite\": \"https://cdn.jsdelivr.net/npm//vega-lite@4.17.0?noext\",\n",
       "      \"vega-embed\": \"https://cdn.jsdelivr.net/npm//vega-embed@6?noext\",\n",
       "    };\n",
       "\n",
       "    function maybeLoadScript(lib, version) {\n",
       "      var key = `${lib.replace(\"-\", \"\")}_version`;\n",
       "      return (VEGA_DEBUG[key] == version) ?\n",
       "        Promise.resolve(paths[lib]) :\n",
       "        new Promise(function(resolve, reject) {\n",
       "          var s = document.createElement('script');\n",
       "          document.getElementsByTagName(\"head\")[0].appendChild(s);\n",
       "          s.async = true;\n",
       "          s.onload = () => {\n",
       "            VEGA_DEBUG[key] = version;\n",
       "            return resolve(paths[lib]);\n",
       "          };\n",
       "          s.onerror = () => reject(`Error loading script: ${paths[lib]}`);\n",
       "          s.src = paths[lib];\n",
       "        });\n",
       "    }\n",
       "\n",
       "    function showError(err) {\n",
       "      outputDiv.innerHTML = `<div class=\"error\" style=\"color:red;\">${err}</div>`;\n",
       "      throw err;\n",
       "    }\n",
       "\n",
       "    function displayChart(vegaEmbed) {\n",
       "      vegaEmbed(outputDiv, spec, embedOpt)\n",
       "        .catch(err => showError(`Javascript Error: ${err.message}<br>This usually means there's a typo in your chart specification. See the javascript console for the full traceback.`));\n",
       "    }\n",
       "\n",
       "    if(typeof define === \"function\" && define.amd) {\n",
       "      requirejs.config({paths});\n",
       "      require([\"vega-embed\"], displayChart, err => showError(`Error loading script: ${err.message}`));\n",
       "    } else {\n",
       "      maybeLoadScript(\"vega\", \"5\")\n",
       "        .then(() => maybeLoadScript(\"vega-lite\", \"4.17.0\"))\n",
       "        .then(() => maybeLoadScript(\"vega-embed\", \"6\"))\n",
       "        .catch(showError)\n",
       "        .then(() => displayChart(vegaEmbed));\n",
       "    }\n",
       "  })({\"config\": {\"view\": {\"continuousWidth\": 400, \"continuousHeight\": 300}, \"axis\": {\"domainColor\": \"#cbcbcb\", \"grid\": true, \"gridColor\": \"#cbcbcb\", \"gridWidth\": 1, \"labelColor\": \"#474747\", \"labelFont\": \"Nunito Sans\", \"labelFontSize\": 10, \"labelPadding\": 4, \"tickColor\": \"#cbcbcb\", \"tickSize\": 10, \"titleColor\": \"#333\", \"titleFont\": \"Raleway\", \"titleFontSize\": 12, \"titlePadding\": 10}, \"axisBand\": {\"grid\": false}, \"background\": \"white\", \"font\": \"Raleway\", \"header\": {\"labelFont\": \"Nunito Sans\", \"titleFont\": \"Raleway\"}, \"legend\": {\"labelColor\": \"#333\", \"labelFont\": \"Nunito Sans\", \"labelFontSize\": 11, \"labelLimit\": 0, \"padding\": 1, \"symbolSize\": 30, \"symbolType\": \"square\", \"titleColor\": \"#333\", \"titleFont\": \"Raleway\", \"titleFontSize\": 14, \"titlePadding\": 10}, \"title\": {\"anchor\": \"middle\", \"font\": \"Raleway\", \"fontSize\": 18, \"fontWeight\": 300, \"offset\": 20}}, \"data\": {\"name\": \"data-70210f87a8ebc800245b3a2a70fa8c78\"}, \"mark\": \"bar\", \"encoding\": {\"color\": {\"field\": \"Agency\", \"legend\": {\"symbolLimit\": 10, \"title\": \"Agency\"}, \"scale\": {\"range\": [\"#2EA8CE\", \"#EB9F3C\", \"#F4D837\", \"#51BF9D\", \"#8CBCCB\", \"#9487C0\"]}, \"type\": \"nominal\"}, \"tooltip\": [{\"field\": \"Agency\", \"title\": \"Agency\", \"type\": \"nominal\"}, {\"field\": \"Number of Obligations\", \"title\": \"Number Of Obligations\", \"type\": \"quantitative\"}], \"x\": {\"field\": \"Agency\", \"sort\": \"-y\", \"title\": \"Agency\", \"type\": \"nominal\"}, \"y\": {\"field\": \"Number of Obligations\", \"title\": \"Number Of Obligations\", \"type\": \"quantitative\"}}, \"height\": 250, \"width\": 400, \"$schema\": \"https://vega.github.io/schema/vega-lite/v4.17.0.json\", \"datasets\": {\"data-70210f87a8ebc800245b3a2a70fa8c78\": [{\"Agency\": \"Santa Cruz County\", \"Number of Obligations\": 485, \"variable\": \"primary_agency_name\"}, {\"Agency\": \"Santa Barbara County\", \"Number of Obligations\": 170, \"variable\": \"primary_agency_name\"}, {\"Agency\": \"San Luis Obispo County\", \"Number of Obligations\": 137, \"variable\": \"primary_agency_name\"}, {\"Agency\": \"Monterey County\", \"Number of Obligations\": 124, \"variable\": \"primary_agency_name\"}, {\"Agency\": \"Santa Barbara\", \"Number of Obligations\": 113, \"variable\": \"primary_agency_name\"}, {\"Agency\": \"San Benito County\", \"Number of Obligations\": 52, \"variable\": \"primary_agency_name\"}, {\"Agency\": \"Santa Cruz\", \"Number of Obligations\": 47, \"variable\": \"primary_agency_name\"}, {\"Agency\": \"Salinas\", \"Number of Obligations\": 32, \"variable\": \"primary_agency_name\"}, {\"Agency\": \"Santa Maria\", \"Number of Obligations\": 27, \"variable\": \"primary_agency_name\"}, {\"Agency\": \"Pismo Beach\", \"Number of Obligations\": 24, \"variable\": \"primary_agency_name\"}, {\"Agency\": \"San Luis Obispo\", \"Number of Obligations\": 19, \"variable\": \"primary_agency_name\"}, {\"Agency\": \"Goleta\", \"Number of Obligations\": 18, \"variable\": \"primary_agency_name\"}, {\"Agency\": \"Arroyo Grande\", \"Number of Obligations\": 17, \"variable\": \"primary_agency_name\"}, {\"Agency\": \"San Luis Obispo Council of Governments\", \"Number of Obligations\": 16, \"variable\": \"primary_agency_name\"}, {\"Agency\": \"Lompoc\", \"Number of Obligations\": 15, \"variable\": \"primary_agency_name\"}, {\"Agency\": \"Atascadero\", \"Number of Obligations\": 14, \"variable\": \"primary_agency_name\"}, {\"Agency\": \"Watsonville\", \"Number of Obligations\": 12, \"variable\": \"primary_agency_name\"}, {\"Agency\": \"Santa Barbara County Association of Governments\", \"Number of Obligations\": 11, \"variable\": \"primary_agency_name\"}, {\"Agency\": \"El Paso De Robles\", \"Number of Obligations\": 10, \"variable\": \"primary_agency_name\"}, {\"Agency\": \"Grover Beach\", \"Number of Obligations\": 9, \"variable\": \"primary_agency_name\"}]}}, {\"mode\": \"vega-lite\"});\n",
       "</script>"
      ],
      "text/plain": [
       "alt.Chart(...)"
      ]
     },
     "metadata": {},
     "output_type": "display_data"
    }
   ],
   "source": [
    "#Bar chart Agencies With The Most Obligations\n",
    "chart_df = (df_top>>filter(_.variable=='primary_agency_name')).rename(columns={\"value\":\"Agency\",\n",
    "                                 \"count\":\"Number of Obligations\"})\n",
    "chart2 = (_dla_utils.basic_bar_chart_no_save(chart_df, 'Agency', 'Number of Obligations', 'Agency', district))\n",
    "    \n",
    "\n",
    "display(chart2)\n"
   ]
  },
  {
   "cell_type": "markdown",
   "id": "5a3bed5f-4325-47af-9cc7-683f9872817f",
   "metadata": {
    "papermill": {
     "duration": 0.024112,
     "end_time": "2022-06-02T22:23:34.247462",
     "exception": false,
     "start_time": "2022-06-02T22:23:34.223350",
     "status": "completed"
    },
    "tags": []
   },
   "source": [
    "## Prefix Codes"
   ]
  },
  {
   "cell_type": "markdown",
   "id": "339b20d8-68c6-43bd-8aaf-491772bc0995",
   "metadata": {
    "papermill": {
     "duration": 0.026947,
     "end_time": "2022-06-02T22:23:34.298103",
     "exception": false,
     "start_time": "2022-06-02T22:23:34.271156",
     "status": "completed"
    },
    "tags": []
   },
   "source": [
    "<hr style=\"height: 2px; background-color:#8CBCCB; border: none\">\n"
   ]
  },
  {
   "cell_type": "markdown",
   "id": "cfded756-3c93-4089-be41-68e19d28b304",
   "metadata": {
    "papermill": {
     "duration": 0.024632,
     "end_time": "2022-06-02T22:23:34.347305",
     "exception": false,
     "start_time": "2022-06-02T22:23:34.322673",
     "status": "completed"
    },
    "tags": []
   },
   "source": [
    "Prefix Codes refer to the program an obligation is in. Similar to the number of obligations, calcuating the unique prefix codes provides insight to how many progams DLA is involved in each year as well as workload at the district and organization level.\n",
    "\n",
    "Metrics: \n",
    "* Number of Unique Prefix Codes by Districts\n",
    "* Most Used Prefix Codes\n",
    "* Agencies With The Most Unique Prefix Codes"
   ]
  },
  {
   "cell_type": "markdown",
   "id": "f8cb2832-947d-4631-9b4c-c81fb118cab3",
   "metadata": {
    "papermill": {
     "duration": 0.028798,
     "end_time": "2022-06-02T22:23:34.400594",
     "exception": false,
     "start_time": "2022-06-02T22:23:34.371796",
     "status": "completed"
    },
    "tags": []
   },
   "source": [
    "### Number of Unique Prefix Codes by District"
   ]
  },
  {
   "cell_type": "code",
   "execution_count": 11,
   "id": "f661bd63-f8aa-4048-b035-03d5bf1b7e95",
   "metadata": {
    "execution": {
     "iopub.execute_input": "2022-06-02T22:23:34.450912Z",
     "iopub.status.busy": "2022-06-02T22:23:34.450284Z",
     "iopub.status.idle": "2022-06-02T22:23:34.497563Z",
     "shell.execute_reply": "2022-06-02T22:23:34.496439Z"
    },
    "jupyter": {
     "source_hidden": true
    },
    "papermill": {
     "duration": 0.075347,
     "end_time": "2022-06-02T22:23:34.499828",
     "exception": false,
     "start_time": "2022-06-02T22:23:34.424481",
     "status": "completed"
    },
    "tags": [
     "remove_input"
    ]
   },
   "outputs": [
    {
     "data": {
      "text/html": [
       "\n",
       "<div id=\"altair-viz-0dad851b91dc454a93585c0a3dd27f0b\"></div>\n",
       "<script type=\"text/javascript\">\n",
       "  var VEGA_DEBUG = (typeof VEGA_DEBUG == \"undefined\") ? {} : VEGA_DEBUG;\n",
       "  (function(spec, embedOpt){\n",
       "    let outputDiv = document.currentScript.previousElementSibling;\n",
       "    if (outputDiv.id !== \"altair-viz-0dad851b91dc454a93585c0a3dd27f0b\") {\n",
       "      outputDiv = document.getElementById(\"altair-viz-0dad851b91dc454a93585c0a3dd27f0b\");\n",
       "    }\n",
       "    const paths = {\n",
       "      \"vega\": \"https://cdn.jsdelivr.net/npm//vega@5?noext\",\n",
       "      \"vega-lib\": \"https://cdn.jsdelivr.net/npm//vega-lib?noext\",\n",
       "      \"vega-lite\": \"https://cdn.jsdelivr.net/npm//vega-lite@4.17.0?noext\",\n",
       "      \"vega-embed\": \"https://cdn.jsdelivr.net/npm//vega-embed@6?noext\",\n",
       "    };\n",
       "\n",
       "    function maybeLoadScript(lib, version) {\n",
       "      var key = `${lib.replace(\"-\", \"\")}_version`;\n",
       "      return (VEGA_DEBUG[key] == version) ?\n",
       "        Promise.resolve(paths[lib]) :\n",
       "        new Promise(function(resolve, reject) {\n",
       "          var s = document.createElement('script');\n",
       "          document.getElementsByTagName(\"head\")[0].appendChild(s);\n",
       "          s.async = true;\n",
       "          s.onload = () => {\n",
       "            VEGA_DEBUG[key] = version;\n",
       "            return resolve(paths[lib]);\n",
       "          };\n",
       "          s.onerror = () => reject(`Error loading script: ${paths[lib]}`);\n",
       "          s.src = paths[lib];\n",
       "        });\n",
       "    }\n",
       "\n",
       "    function showError(err) {\n",
       "      outputDiv.innerHTML = `<div class=\"error\" style=\"color:red;\">${err}</div>`;\n",
       "      throw err;\n",
       "    }\n",
       "\n",
       "    function displayChart(vegaEmbed) {\n",
       "      vegaEmbed(outputDiv, spec, embedOpt)\n",
       "        .catch(err => showError(`Javascript Error: ${err.message}<br>This usually means there's a typo in your chart specification. See the javascript console for the full traceback.`));\n",
       "    }\n",
       "\n",
       "    if(typeof define === \"function\" && define.amd) {\n",
       "      requirejs.config({paths});\n",
       "      require([\"vega-embed\"], displayChart, err => showError(`Error loading script: ${err.message}`));\n",
       "    } else {\n",
       "      maybeLoadScript(\"vega\", \"5\")\n",
       "        .then(() => maybeLoadScript(\"vega-lite\", \"4.17.0\"))\n",
       "        .then(() => maybeLoadScript(\"vega-embed\", \"6\"))\n",
       "        .catch(showError)\n",
       "        .then(() => displayChart(vegaEmbed));\n",
       "    }\n",
       "  })({\"config\": {\"view\": {\"continuousWidth\": 400, \"continuousHeight\": 300}, \"axis\": {\"domainColor\": \"#cbcbcb\", \"grid\": true, \"gridColor\": \"#cbcbcb\", \"gridWidth\": 1, \"labelColor\": \"#474747\", \"labelFont\": \"Nunito Sans\", \"labelFontSize\": 10, \"labelPadding\": 4, \"tickColor\": \"#cbcbcb\", \"tickSize\": 10, \"titleColor\": \"#333\", \"titleFont\": \"Raleway\", \"titleFontSize\": 12, \"titlePadding\": 10}, \"axisBand\": {\"grid\": false}, \"background\": \"white\", \"font\": \"Raleway\", \"header\": {\"labelFont\": \"Nunito Sans\", \"titleFont\": \"Raleway\"}, \"legend\": {\"labelColor\": \"#333\", \"labelFont\": \"Nunito Sans\", \"labelFontSize\": 11, \"labelLimit\": 0, \"padding\": 1, \"symbolSize\": 30, \"symbolType\": \"square\", \"titleColor\": \"#333\", \"titleFont\": \"Raleway\", \"titleFontSize\": 14, \"titlePadding\": 10}, \"title\": {\"anchor\": \"middle\", \"font\": \"Raleway\", \"fontSize\": 18, \"fontWeight\": 300, \"offset\": 20}}, \"data\": {\"name\": \"data-92e9898965c003d90f211e3f096724de\"}, \"mark\": \"bar\", \"encoding\": {\"color\": {\"field\": \"District\", \"legend\": {\"title\": \"District\"}, \"scale\": {\"range\": [\"#B9D6DF\", \"#8CBCCB\", \"#2EA8CE\", \"#136C97\", \"#0B405B\"]}, \"type\": \"nominal\"}, \"column\": {\"field\": \"District\", \"type\": \"nominal\"}, \"tooltip\": [{\"field\": \"prepared_y\", \"title\": \"Prepared Year\", \"type\": \"nominal\"}, {\"field\": \"Count\", \"title\": \"Number\", \"type\": \"quantitative\"}], \"x\": {\"field\": \"prepared_y\", \"title\": \"Prepared Year\", \"type\": \"ordinal\"}, \"y\": {\"field\": \"Count\", \"title\": \"Number of Unique Agencies\", \"type\": \"quantitative\"}}, \"height\": 250, \"width\": 400, \"$schema\": \"https://vega.github.io/schema/vega-lite/v4.17.0.json\", \"datasets\": {\"data-92e9898965c003d90f211e3f096724de\": [{\"prepared_y\": \"2022\", \"District\": 5, \"Count\": 10}, {\"prepared_y\": \"2021\", \"District\": 5, \"Count\": 18}, {\"prepared_y\": \"2020\", \"District\": 5, \"Count\": 21}, {\"prepared_y\": \"2019\", \"District\": 5, \"Count\": 26}, {\"prepared_y\": \"2018\", \"District\": 5, \"Count\": 27}, {\"prepared_y\": \"2017\", \"District\": 5, \"Count\": 26}, {\"prepared_y\": \"2016\", \"District\": 5, \"Count\": 33}, {\"prepared_y\": \"2015\", \"District\": 5, \"Count\": 38}, {\"prepared_y\": \"2014\", \"District\": 5, \"Count\": 35}, {\"prepared_y\": \"2013\", \"District\": 5, \"Count\": 6}]}}, {\"mode\": \"vega-lite\"});\n",
       "</script>"
      ],
      "text/plain": [
       "alt.Chart(...)"
      ]
     },
     "metadata": {},
     "output_type": "display_data"
    }
   ],
   "source": [
    "#Unique Prefixes by Dist\n",
    "dist_years_prefix = ((\n",
    "        df\n",
    "        >> group_by(_.prepared_y, _.dist)\n",
    "        >> summarize(n=_.prefix.nunique())\n",
    "        >> arrange(-_.prepared_y)\n",
    "    ).rename(columns={'dist':'District', 'n':'Count'}))\n",
    "\n",
    "chart11 = (alt.Chart(dist_years_prefix).mark_bar().encode(\n",
    "        column='District:N',\n",
    "        x=alt.X('prepared_y:O', title='Prepared Year'),\n",
    "        y=alt.Y('Count:Q', title='Number of Unique Agencies'),\n",
    "        color = alt.Color(\"District:N\", \n",
    "                              scale=alt.Scale(\n",
    "                                  range=altair_utils.CALITP_SEQUENTIAL_COLORS),  \n",
    "                               legend=alt.Legend(title=\"District\")\n",
    "                              ),\n",
    "       # tooltip=[alt.Tooltip('prepared_y', title='Prepared Year'), \n",
    "       #         alt.Tooltip('Count', title='Number')],\n",
    "                              ))\n",
    "chart11 = styleguide.preset_chart_config(chart11)\n",
    "#chart11 = _dla_utils.add_tooltip(chart11, 'prepared_y','Count')\n",
    "chart11 = chart11.encode(tooltip=[alt.Tooltip('prepared_y', title='Prepared Year'), \n",
    "                alt.Tooltip('Count', title='Number')])\n",
    "    \n",
    "\n",
    "display(chart11)"
   ]
  },
  {
   "cell_type": "markdown",
   "id": "c52b3650-9c49-4ab9-a72d-52ecf36d4b7a",
   "metadata": {
    "papermill": {
     "duration": 0.029105,
     "end_time": "2022-06-02T22:23:34.553892",
     "exception": false,
     "start_time": "2022-06-02T22:23:34.524787",
     "status": "completed"
    },
    "tags": []
   },
   "source": [
    "### Most Used Prefix Codes"
   ]
  },
  {
   "cell_type": "code",
   "execution_count": 12,
   "id": "0aca2d9a-062a-4c12-9489-5f9de10f3462",
   "metadata": {
    "execution": {
     "iopub.execute_input": "2022-06-02T22:23:34.608425Z",
     "iopub.status.busy": "2022-06-02T22:23:34.607670Z",
     "iopub.status.idle": "2022-06-02T22:23:34.635110Z",
     "shell.execute_reply": "2022-06-02T22:23:34.634410Z"
    },
    "jupyter": {
     "source_hidden": true
    },
    "papermill": {
     "duration": 0.057864,
     "end_time": "2022-06-02T22:23:34.637238",
     "exception": false,
     "start_time": "2022-06-02T22:23:34.579374",
     "status": "completed"
    },
    "tags": [
     "remove_input"
    ]
   },
   "outputs": [
    {
     "data": {
      "text/html": [
       "\n",
       "<div id=\"altair-viz-4fdfb952ad974d7da8a4b808fc5b6ae2\"></div>\n",
       "<script type=\"text/javascript\">\n",
       "  var VEGA_DEBUG = (typeof VEGA_DEBUG == \"undefined\") ? {} : VEGA_DEBUG;\n",
       "  (function(spec, embedOpt){\n",
       "    let outputDiv = document.currentScript.previousElementSibling;\n",
       "    if (outputDiv.id !== \"altair-viz-4fdfb952ad974d7da8a4b808fc5b6ae2\") {\n",
       "      outputDiv = document.getElementById(\"altair-viz-4fdfb952ad974d7da8a4b808fc5b6ae2\");\n",
       "    }\n",
       "    const paths = {\n",
       "      \"vega\": \"https://cdn.jsdelivr.net/npm//vega@5?noext\",\n",
       "      \"vega-lib\": \"https://cdn.jsdelivr.net/npm//vega-lib?noext\",\n",
       "      \"vega-lite\": \"https://cdn.jsdelivr.net/npm//vega-lite@4.17.0?noext\",\n",
       "      \"vega-embed\": \"https://cdn.jsdelivr.net/npm//vega-embed@6?noext\",\n",
       "    };\n",
       "\n",
       "    function maybeLoadScript(lib, version) {\n",
       "      var key = `${lib.replace(\"-\", \"\")}_version`;\n",
       "      return (VEGA_DEBUG[key] == version) ?\n",
       "        Promise.resolve(paths[lib]) :\n",
       "        new Promise(function(resolve, reject) {\n",
       "          var s = document.createElement('script');\n",
       "          document.getElementsByTagName(\"head\")[0].appendChild(s);\n",
       "          s.async = true;\n",
       "          s.onload = () => {\n",
       "            VEGA_DEBUG[key] = version;\n",
       "            return resolve(paths[lib]);\n",
       "          };\n",
       "          s.onerror = () => reject(`Error loading script: ${paths[lib]}`);\n",
       "          s.src = paths[lib];\n",
       "        });\n",
       "    }\n",
       "\n",
       "    function showError(err) {\n",
       "      outputDiv.innerHTML = `<div class=\"error\" style=\"color:red;\">${err}</div>`;\n",
       "      throw err;\n",
       "    }\n",
       "\n",
       "    function displayChart(vegaEmbed) {\n",
       "      vegaEmbed(outputDiv, spec, embedOpt)\n",
       "        .catch(err => showError(`Javascript Error: ${err.message}<br>This usually means there's a typo in your chart specification. See the javascript console for the full traceback.`));\n",
       "    }\n",
       "\n",
       "    if(typeof define === \"function\" && define.amd) {\n",
       "      requirejs.config({paths});\n",
       "      require([\"vega-embed\"], displayChart, err => showError(`Error loading script: ${err.message}`));\n",
       "    } else {\n",
       "      maybeLoadScript(\"vega\", \"5\")\n",
       "        .then(() => maybeLoadScript(\"vega-lite\", \"4.17.0\"))\n",
       "        .then(() => maybeLoadScript(\"vega-embed\", \"6\"))\n",
       "        .catch(showError)\n",
       "        .then(() => displayChart(vegaEmbed));\n",
       "    }\n",
       "  })({\"config\": {\"view\": {\"continuousWidth\": 400, \"continuousHeight\": 300}, \"axis\": {\"domainColor\": \"#cbcbcb\", \"grid\": true, \"gridColor\": \"#cbcbcb\", \"gridWidth\": 1, \"labelColor\": \"#474747\", \"labelFont\": \"Nunito Sans\", \"labelFontSize\": 10, \"labelPadding\": 4, \"tickColor\": \"#cbcbcb\", \"tickSize\": 10, \"titleColor\": \"#333\", \"titleFont\": \"Raleway\", \"titleFontSize\": 12, \"titlePadding\": 10}, \"axisBand\": {\"grid\": false}, \"background\": \"white\", \"font\": \"Raleway\", \"header\": {\"labelFont\": \"Nunito Sans\", \"titleFont\": \"Raleway\"}, \"legend\": {\"labelColor\": \"#333\", \"labelFont\": \"Nunito Sans\", \"labelFontSize\": 11, \"labelLimit\": 0, \"padding\": 1, \"symbolSize\": 30, \"symbolType\": \"square\", \"titleColor\": \"#333\", \"titleFont\": \"Raleway\", \"titleFontSize\": 14, \"titlePadding\": 10}, \"title\": {\"anchor\": \"middle\", \"font\": \"Raleway\", \"fontSize\": 18, \"fontWeight\": 300, \"offset\": 20}}, \"data\": {\"name\": \"data-bc348a92c2e2575b9a5151774b7bbbc5\"}, \"mark\": \"bar\", \"encoding\": {\"color\": {\"field\": \"Prefix\", \"legend\": {\"symbolLimit\": 10, \"title\": \"Prefix\"}, \"scale\": {\"range\": [\"#2EA8CE\", \"#EB9F3C\", \"#F4D837\", \"#51BF9D\", \"#8CBCCB\", \"#9487C0\"]}, \"type\": \"nominal\"}, \"tooltip\": [{\"field\": \"Prefix\", \"title\": \"Prefix\", \"type\": \"nominal\"}, {\"field\": \"Number of Obligations\", \"title\": \"Number Of Obligations\", \"type\": \"quantitative\"}], \"x\": {\"field\": \"Prefix\", \"sort\": \"-y\", \"title\": \"Prefix\", \"type\": \"nominal\"}, \"y\": {\"field\": \"Number of Obligations\", \"title\": \"Number Of Obligations\", \"type\": \"quantitative\"}}, \"height\": 250, \"width\": 400, \"$schema\": \"https://vega.github.io/schema/vega-lite/v4.17.0.json\", \"datasets\": {\"data-bc348a92c2e2575b9a5151774b7bbbc5\": [{\"Prefix\": \"ER\", \"Number of Obligations\": 368, \"variable\": \"prefix\"}, {\"Prefix\": \"HSIPL\", \"Number of Obligations\": 231, \"variable\": \"prefix\"}, {\"Prefix\": \"BRLO\", \"Number of Obligations\": 142, \"variable\": \"prefix\"}, {\"Prefix\": \"ACSTER\", \"Number of Obligations\": 96, \"variable\": \"prefix\"}, {\"Prefix\": \"BRLS\", \"Number of Obligations\": 82, \"variable\": \"prefix\"}, {\"Prefix\": \"ACSTP\", \"Number of Obligations\": 74, \"variable\": \"prefix\"}, {\"Prefix\": \"BPMPL\", \"Number of Obligations\": 58, \"variable\": \"prefix\"}, {\"Prefix\": \"ATPL\", \"Number of Obligations\": 39, \"variable\": \"prefix\"}, {\"Prefix\": \"RPSTPL\", \"Number of Obligations\": 39, \"variable\": \"prefix\"}, {\"Prefix\": \"BHLS\", \"Number of Obligations\": 22, \"variable\": \"prefix\"}, {\"Prefix\": \"STPLX\", \"Number of Obligations\": 22, \"variable\": \"prefix\"}, {\"Prefix\": \"BHLO\", \"Number of Obligations\": 21, \"variable\": \"prefix\"}, {\"Prefix\": \"HPLUL\", \"Number of Obligations\": 19, \"variable\": \"prefix\"}, {\"Prefix\": \"STPLZ\", \"Number of Obligations\": 18, \"variable\": \"prefix\"}, {\"Prefix\": \"CML\", \"Number of Obligations\": 17, \"variable\": \"prefix\"}, {\"Prefix\": \"SRTSL\", \"Number of Obligations\": 17, \"variable\": \"prefix\"}, {\"Prefix\": \"BRLSZD\", \"Number of Obligations\": 15, \"variable\": \"prefix\"}, {\"Prefix\": \"CASB\", \"Number of Obligations\": 13, \"variable\": \"prefix\"}, {\"Prefix\": \"HRRRL\", \"Number of Obligations\": 12, \"variable\": \"prefix\"}, {\"Prefix\": \"BRLOZE\", \"Number of Obligations\": 11, \"variable\": \"prefix\"}]}}, {\"mode\": \"vega-lite\"});\n",
       "</script>"
      ],
      "text/plain": [
       "alt.Chart(...)"
      ]
     },
     "metadata": {},
     "output_type": "display_data"
    }
   ],
   "source": [
    "#Bar chart with the Most Used Prefix Counts\n",
    "chart_df = (df_top>>filter(_.variable=='prefix')).rename(columns={\"value\":\"Prefix\",\n",
    "                                 \"count\":\"Number of Obligations\"})\n",
    "chart9= (_dla_utils.basic_bar_chart_no_save(chart_df, 'Prefix', 'Number of Obligations', 'Prefix', district))\n",
    "    \n",
    "\n",
    "display(chart9)\n",
    "    "
   ]
  },
  {
   "cell_type": "markdown",
   "id": "46030e63-c1ae-4834-b538-b09937074207",
   "metadata": {
    "papermill": {
     "duration": 0.031796,
     "end_time": "2022-06-02T22:23:34.695608",
     "exception": false,
     "start_time": "2022-06-02T22:23:34.663812",
     "status": "completed"
    },
    "tags": []
   },
   "source": [
    "### Agencies With The Most Unique Prefix Codes"
   ]
  },
  {
   "cell_type": "code",
   "execution_count": 13,
   "id": "3d21c9b2-833b-463a-9a03-a9c83d727d2e",
   "metadata": {
    "execution": {
     "iopub.execute_input": "2022-06-02T22:23:34.757807Z",
     "iopub.status.busy": "2022-06-02T22:23:34.756808Z",
     "iopub.status.idle": "2022-06-02T22:23:34.816144Z",
     "shell.execute_reply": "2022-06-02T22:23:34.815245Z"
    },
    "jupyter": {
     "source_hidden": true
    },
    "papermill": {
     "duration": 0.096697,
     "end_time": "2022-06-02T22:23:34.818499",
     "exception": false,
     "start_time": "2022-06-02T22:23:34.721802",
     "status": "completed"
    },
    "tags": [
     "remove_input"
    ]
   },
   "outputs": [
    {
     "data": {
      "text/html": [
       "\n",
       "<div id=\"altair-viz-ef257bb1c0e8472b9d467492d9538b25\"></div>\n",
       "<script type=\"text/javascript\">\n",
       "  var VEGA_DEBUG = (typeof VEGA_DEBUG == \"undefined\") ? {} : VEGA_DEBUG;\n",
       "  (function(spec, embedOpt){\n",
       "    let outputDiv = document.currentScript.previousElementSibling;\n",
       "    if (outputDiv.id !== \"altair-viz-ef257bb1c0e8472b9d467492d9538b25\") {\n",
       "      outputDiv = document.getElementById(\"altair-viz-ef257bb1c0e8472b9d467492d9538b25\");\n",
       "    }\n",
       "    const paths = {\n",
       "      \"vega\": \"https://cdn.jsdelivr.net/npm//vega@5?noext\",\n",
       "      \"vega-lib\": \"https://cdn.jsdelivr.net/npm//vega-lib?noext\",\n",
       "      \"vega-lite\": \"https://cdn.jsdelivr.net/npm//vega-lite@4.17.0?noext\",\n",
       "      \"vega-embed\": \"https://cdn.jsdelivr.net/npm//vega-embed@6?noext\",\n",
       "    };\n",
       "\n",
       "    function maybeLoadScript(lib, version) {\n",
       "      var key = `${lib.replace(\"-\", \"\")}_version`;\n",
       "      return (VEGA_DEBUG[key] == version) ?\n",
       "        Promise.resolve(paths[lib]) :\n",
       "        new Promise(function(resolve, reject) {\n",
       "          var s = document.createElement('script');\n",
       "          document.getElementsByTagName(\"head\")[0].appendChild(s);\n",
       "          s.async = true;\n",
       "          s.onload = () => {\n",
       "            VEGA_DEBUG[key] = version;\n",
       "            return resolve(paths[lib]);\n",
       "          };\n",
       "          s.onerror = () => reject(`Error loading script: ${paths[lib]}`);\n",
       "          s.src = paths[lib];\n",
       "        });\n",
       "    }\n",
       "\n",
       "    function showError(err) {\n",
       "      outputDiv.innerHTML = `<div class=\"error\" style=\"color:red;\">${err}</div>`;\n",
       "      throw err;\n",
       "    }\n",
       "\n",
       "    function displayChart(vegaEmbed) {\n",
       "      vegaEmbed(outputDiv, spec, embedOpt)\n",
       "        .catch(err => showError(`Javascript Error: ${err.message}<br>This usually means there's a typo in your chart specification. See the javascript console for the full traceback.`));\n",
       "    }\n",
       "\n",
       "    if(typeof define === \"function\" && define.amd) {\n",
       "      requirejs.config({paths});\n",
       "      require([\"vega-embed\"], displayChart, err => showError(`Error loading script: ${err.message}`));\n",
       "    } else {\n",
       "      maybeLoadScript(\"vega\", \"5\")\n",
       "        .then(() => maybeLoadScript(\"vega-lite\", \"4.17.0\"))\n",
       "        .then(() => maybeLoadScript(\"vega-embed\", \"6\"))\n",
       "        .catch(showError)\n",
       "        .then(() => displayChart(vegaEmbed));\n",
       "    }\n",
       "  })({\"config\": {\"view\": {\"continuousWidth\": 400, \"continuousHeight\": 300}, \"axis\": {\"domainColor\": \"#cbcbcb\", \"grid\": true, \"gridColor\": \"#cbcbcb\", \"gridWidth\": 1, \"labelColor\": \"#474747\", \"labelFont\": \"Nunito Sans\", \"labelFontSize\": 10, \"labelPadding\": 4, \"tickColor\": \"#cbcbcb\", \"tickSize\": 10, \"titleColor\": \"#333\", \"titleFont\": \"Raleway\", \"titleFontSize\": 12, \"titlePadding\": 10}, \"axisBand\": {\"grid\": false}, \"background\": \"white\", \"font\": \"Raleway\", \"header\": {\"labelFont\": \"Nunito Sans\", \"titleFont\": \"Raleway\"}, \"legend\": {\"labelColor\": \"#333\", \"labelFont\": \"Nunito Sans\", \"labelFontSize\": 11, \"labelLimit\": 0, \"padding\": 1, \"symbolSize\": 30, \"symbolType\": \"square\", \"titleColor\": \"#333\", \"titleFont\": \"Raleway\", \"titleFontSize\": 14, \"titlePadding\": 10}, \"title\": {\"anchor\": \"middle\", \"font\": \"Raleway\", \"fontSize\": 18, \"fontWeight\": 300, \"offset\": 20}}, \"data\": {\"name\": \"data-abfcee5489febf814c4fbb24626f2bd7\"}, \"mark\": \"bar\", \"encoding\": {\"color\": {\"field\": \"primary_agency_name\", \"legend\": {\"symbolLimit\": 10, \"title\": \"Agency\"}, \"scale\": {\"range\": [\"#2EA8CE\", \"#EB9F3C\", \"#F4D837\", \"#51BF9D\", \"#8CBCCB\", \"#9487C0\"]}, \"type\": \"nominal\"}, \"tooltip\": [{\"field\": \"primary_agency_name\", \"title\": \"Agency\", \"type\": \"nominal\"}, {\"field\": \"n\", \"title\": \"Count\", \"type\": \"quantitative\"}], \"x\": {\"field\": \"primary_agency_name\", \"sort\": \"-y\", \"title\": \"Agency\", \"type\": \"nominal\"}, \"y\": {\"field\": \"n\", \"title\": \"Count\", \"type\": \"quantitative\"}}, \"height\": 250, \"width\": 400, \"$schema\": \"https://vega.github.io/schema/vega-lite/v4.17.0.json\", \"datasets\": {\"data-abfcee5489febf814c4fbb24626f2bd7\": [{\"primary_agency_name\": \"San Luis Obispo County\", \"n\": 22}, {\"primary_agency_name\": \"Monterey County\", \"n\": 19}, {\"primary_agency_name\": \"Santa Barbara County\", \"n\": 17}, {\"primary_agency_name\": \"Santa Cruz County\", \"n\": 13}, {\"primary_agency_name\": \"Santa Cruz\", \"n\": 11}, {\"primary_agency_name\": \"Santa Barbara\", \"n\": 9}, {\"primary_agency_name\": \"San Benito County\", \"n\": 8}, {\"primary_agency_name\": \"San Luis Obispo\", \"n\": 8}, {\"primary_agency_name\": \"Arroyo Grande\", \"n\": 6}, {\"primary_agency_name\": \"Lompoc\", \"n\": 5}, {\"primary_agency_name\": \"Atascadero\", \"n\": 4}, {\"primary_agency_name\": \"Capitola\", \"n\": 4}, {\"primary_agency_name\": \"Goleta\", \"n\": 4}, {\"primary_agency_name\": \"Pismo Beach\", \"n\": 4}, {\"primary_agency_name\": \"Salinas\", \"n\": 4}, {\"primary_agency_name\": \"San Luis Obispo Council of Governments\", \"n\": 4}, {\"primary_agency_name\": \"Santa Barbara County Association of Governments\", \"n\": 4}, {\"primary_agency_name\": \"Santa Maria\", \"n\": 4}, {\"primary_agency_name\": \"Transportation Agency for Monterey County\", \"n\": 4}, {\"primary_agency_name\": \"Association Of Monterey Bay Area Governments\", \"n\": 3}, {\"primary_agency_name\": \"El Dorado County\", \"n\": 3}, {\"primary_agency_name\": \"El Paso De Robles\", \"n\": 3}, {\"primary_agency_name\": \"Santa Cruz County Regional Transportation Commission\", \"n\": 3}, {\"primary_agency_name\": \"Alameda County\", \"n\": 2}, {\"primary_agency_name\": \"Grover Beach\", \"n\": 2}, {\"primary_agency_name\": \"Marina\", \"n\": 2}, {\"primary_agency_name\": \"Modoc County\", \"n\": 2}, {\"primary_agency_name\": \"Monterey\", \"n\": 2}, {\"primary_agency_name\": \"Morro Bay\", \"n\": 2}, {\"primary_agency_name\": \"San Luis Obispo Regional Transit Agency\", \"n\": 2}]}}, {\"mode\": \"vega-lite\"});\n",
       "</script>"
      ],
      "text/plain": [
       "alt.Chart(...)"
      ]
     },
     "metadata": {},
     "output_type": "display_data"
    }
   ],
   "source": [
    "#Bar chart Agencies With The Most Unique Prefix Codes\n",
    "    \n",
    "chart3 = (_dla_utils.basic_bar_chart_no_save(((_dla_utils.get_nunique(df, 'prefix', 'primary_agency_name')).head(30)),\n",
    "                            'primary_agency_name', 'n', 'primary_agency_name', district))\n",
    "    \n",
    "display(chart3)"
   ]
  },
  {
   "cell_type": "markdown",
   "id": "409d25d0-88ee-4eff-ae1f-ca9127618b4d",
   "metadata": {
    "papermill": {
     "duration": 0.026356,
     "end_time": "2022-06-02T22:23:34.872826",
     "exception": false,
     "start_time": "2022-06-02T22:23:34.846470",
     "status": "completed"
    },
    "tags": []
   },
   "source": [
    "## Funding Distributions"
   ]
  },
  {
   "cell_type": "markdown",
   "id": "4ffab2b2-4af7-476b-abe1-8c6c2534b3fb",
   "metadata": {
    "papermill": {
     "duration": 0.026593,
     "end_time": "2022-06-02T22:23:34.925293",
     "exception": false,
     "start_time": "2022-06-02T22:23:34.898700",
     "status": "completed"
    },
    "tags": []
   },
   "source": [
    "<hr style=\"height: 2px; background-color:#136C97; border: none\">"
   ]
  },
  {
   "cell_type": "markdown",
   "id": "eacca297-667a-4649-b6ac-351e81729e0d",
   "metadata": {
    "papermill": {
     "duration": 0.024819,
     "end_time": "2022-06-02T22:23:34.977427",
     "exception": false,
     "start_time": "2022-06-02T22:23:34.952608",
     "status": "completed"
    },
    "tags": []
   },
   "source": [
    "With each E-76, three types of funding amounts are included in the obligations: \n",
    "* Total Requested (`total_requested`)\n",
    "* Advance Construction Requested (`ac_requested`)\n",
    "* Federal Requested (`fed_requested`)\n",
    "\n",
    "Using this information, we can determine how much on average an organization recieves with these funds, and the distribution of the funds.\n",
    "\n",
    "\n",
    "Metrics:\n",
    "* Average Total Requested Funds by Agency\n",
    "* Lowest Average Total Funds by Agency\n",
    "* Average Total Requested Funds by Prefix"
   ]
  },
  {
   "cell_type": "markdown",
   "id": "d3caa5e9-9126-4572-8140-f81543c7d26a",
   "metadata": {
    "papermill": {
     "duration": 0.026317,
     "end_time": "2022-06-02T22:23:35.032288",
     "exception": false,
     "start_time": "2022-06-02T22:23:35.005971",
     "status": "completed"
    },
    "tags": []
   },
   "source": [
    "### Average Total Requested Funds by Agency ($2021)"
   ]
  },
  {
   "cell_type": "code",
   "execution_count": 14,
   "id": "3745ca4d-8dd4-4c09-b46b-a2f6db6358ad",
   "metadata": {
    "execution": {
     "iopub.execute_input": "2022-06-02T22:23:35.092621Z",
     "iopub.status.busy": "2022-06-02T22:23:35.091744Z",
     "iopub.status.idle": "2022-06-02T22:23:35.122989Z",
     "shell.execute_reply": "2022-06-02T22:23:35.122015Z"
    },
    "jupyter": {
     "source_hidden": true
    },
    "papermill": {
     "duration": 0.064489,
     "end_time": "2022-06-02T22:23:35.125253",
     "exception": false,
     "start_time": "2022-06-02T22:23:35.060764",
     "status": "completed"
    },
    "tags": [
     "remove_input"
    ]
   },
   "outputs": [
    {
     "data": {
      "text/html": [
       "\n",
       "<div id=\"altair-viz-3c4a917c160f48989ff2e8a79efea0ca\"></div>\n",
       "<script type=\"text/javascript\">\n",
       "  var VEGA_DEBUG = (typeof VEGA_DEBUG == \"undefined\") ? {} : VEGA_DEBUG;\n",
       "  (function(spec, embedOpt){\n",
       "    let outputDiv = document.currentScript.previousElementSibling;\n",
       "    if (outputDiv.id !== \"altair-viz-3c4a917c160f48989ff2e8a79efea0ca\") {\n",
       "      outputDiv = document.getElementById(\"altair-viz-3c4a917c160f48989ff2e8a79efea0ca\");\n",
       "    }\n",
       "    const paths = {\n",
       "      \"vega\": \"https://cdn.jsdelivr.net/npm//vega@5?noext\",\n",
       "      \"vega-lib\": \"https://cdn.jsdelivr.net/npm//vega-lib?noext\",\n",
       "      \"vega-lite\": \"https://cdn.jsdelivr.net/npm//vega-lite@4.17.0?noext\",\n",
       "      \"vega-embed\": \"https://cdn.jsdelivr.net/npm//vega-embed@6?noext\",\n",
       "    };\n",
       "\n",
       "    function maybeLoadScript(lib, version) {\n",
       "      var key = `${lib.replace(\"-\", \"\")}_version`;\n",
       "      return (VEGA_DEBUG[key] == version) ?\n",
       "        Promise.resolve(paths[lib]) :\n",
       "        new Promise(function(resolve, reject) {\n",
       "          var s = document.createElement('script');\n",
       "          document.getElementsByTagName(\"head\")[0].appendChild(s);\n",
       "          s.async = true;\n",
       "          s.onload = () => {\n",
       "            VEGA_DEBUG[key] = version;\n",
       "            return resolve(paths[lib]);\n",
       "          };\n",
       "          s.onerror = () => reject(`Error loading script: ${paths[lib]}`);\n",
       "          s.src = paths[lib];\n",
       "        });\n",
       "    }\n",
       "\n",
       "    function showError(err) {\n",
       "      outputDiv.innerHTML = `<div class=\"error\" style=\"color:red;\">${err}</div>`;\n",
       "      throw err;\n",
       "    }\n",
       "\n",
       "    function displayChart(vegaEmbed) {\n",
       "      vegaEmbed(outputDiv, spec, embedOpt)\n",
       "        .catch(err => showError(`Javascript Error: ${err.message}<br>This usually means there's a typo in your chart specification. See the javascript console for the full traceback.`));\n",
       "    }\n",
       "\n",
       "    if(typeof define === \"function\" && define.amd) {\n",
       "      requirejs.config({paths});\n",
       "      require([\"vega-embed\"], displayChart, err => showError(`Error loading script: ${err.message}`));\n",
       "    } else {\n",
       "      maybeLoadScript(\"vega\", \"5\")\n",
       "        .then(() => maybeLoadScript(\"vega-lite\", \"4.17.0\"))\n",
       "        .then(() => maybeLoadScript(\"vega-embed\", \"6\"))\n",
       "        .catch(showError)\n",
       "        .then(() => displayChart(vegaEmbed));\n",
       "    }\n",
       "  })({\"config\": {\"view\": {\"continuousWidth\": 400, \"continuousHeight\": 300}, \"axis\": {\"domainColor\": \"#cbcbcb\", \"grid\": true, \"gridColor\": \"#cbcbcb\", \"gridWidth\": 1, \"labelColor\": \"#474747\", \"labelFont\": \"Nunito Sans\", \"labelFontSize\": 10, \"labelPadding\": 4, \"tickColor\": \"#cbcbcb\", \"tickSize\": 10, \"titleColor\": \"#333\", \"titleFont\": \"Raleway\", \"titleFontSize\": 12, \"titlePadding\": 10}, \"axisBand\": {\"grid\": false}, \"background\": \"white\", \"font\": \"Raleway\", \"header\": {\"labelFont\": \"Nunito Sans\", \"titleFont\": \"Raleway\"}, \"legend\": {\"labelColor\": \"#333\", \"labelFont\": \"Nunito Sans\", \"labelFontSize\": 11, \"labelLimit\": 0, \"padding\": 1, \"symbolSize\": 30, \"symbolType\": \"square\", \"titleColor\": \"#333\", \"titleFont\": \"Raleway\", \"titleFontSize\": 14, \"titlePadding\": 10}, \"title\": {\"anchor\": \"middle\", \"font\": \"Raleway\", \"fontSize\": 18, \"fontWeight\": 300, \"offset\": 20}}, \"data\": {\"name\": \"data-f53bfa166243b497add7b5516cd5f2f4\"}, \"mark\": \"bar\", \"encoding\": {\"color\": {\"field\": \"primary_agency_name\", \"legend\": {\"symbolLimit\": 10, \"title\": \"Agency\"}, \"scale\": {\"range\": [\"#2EA8CE\", \"#EB9F3C\", \"#F4D837\", \"#51BF9D\", \"#8CBCCB\", \"#9487C0\"]}, \"type\": \"nominal\"}, \"tooltip\": [{\"field\": \"primary_agency_name\", \"title\": \"Agency\", \"type\": \"nominal\"}, {\"field\": \"adjusted_total_requested\", \"format\": \"$,.2f\", \"title\": \"Total Requested\", \"type\": \"quantitative\"}], \"x\": {\"field\": \"primary_agency_name\", \"sort\": \"-y\", \"title\": \"Agency\", \"type\": \"nominal\"}, \"y\": {\"field\": \"adjusted_total_requested\", \"title\": \"Total Requested\", \"type\": \"quantitative\"}}, \"height\": 250, \"width\": 400, \"$schema\": \"https://vega.github.io/schema/vega-lite/v4.17.0.json\", \"datasets\": {\"data-f53bfa166243b497add7b5516cd5f2f4\": [{\"primary_agency_name\": \"Seaside\", \"adjusted_total_requested\": 2428086.4072224773}, {\"primary_agency_name\": \"Monterey\", \"adjusted_total_requested\": 1778109.1835077712}, {\"primary_agency_name\": \"Alameda County\", \"adjusted_total_requested\": 1754521.8913018438}, {\"primary_agency_name\": \"San Luis Obispo\", \"adjusted_total_requested\": 994079.1220940962}, {\"primary_agency_name\": \"University of California - Santa Barbara\", \"adjusted_total_requested\": 894746.1574754935}, {\"primary_agency_name\": \"Santa Barbara\", \"adjusted_total_requested\": 878002.6470910823}, {\"primary_agency_name\": \"Salinas\", \"adjusted_total_requested\": 823099.8827443979}, {\"primary_agency_name\": \"Marina\", \"adjusted_total_requested\": 690427.3409274212}, {\"primary_agency_name\": \"Pismo Beach\", \"adjusted_total_requested\": 616561.9947827894}, {\"primary_agency_name\": \"Arroyo Grande\", \"adjusted_total_requested\": 587323.5898275453}, {\"primary_agency_name\": \"Monterey County\", \"adjusted_total_requested\": 542522.1238321182}, {\"primary_agency_name\": \"Carpinteria\", \"adjusted_total_requested\": 522619.4952741487}, {\"primary_agency_name\": \"Santa Barbara County\", \"adjusted_total_requested\": 508775.86107910785}, {\"primary_agency_name\": \"Morro Bay\", \"adjusted_total_requested\": 461318.67721458303}, {\"primary_agency_name\": \"Grover Beach\", \"adjusted_total_requested\": 444614.68898553395}, {\"primary_agency_name\": \"Goleta\", \"adjusted_total_requested\": 438387.7966166413}, {\"primary_agency_name\": \"Santa Cruz\", \"adjusted_total_requested\": 399406.9181478055}, {\"primary_agency_name\": \"San Luis Obispo County\", \"adjusted_total_requested\": 366110.7391984499}, {\"primary_agency_name\": \"San Benito County\", \"adjusted_total_requested\": 353372.5301668414}, {\"primary_agency_name\": \"Santa Barbara County Association of Governments\", \"adjusted_total_requested\": 353031.79399873805}, {\"primary_agency_name\": \"El Paso De Robles\", \"adjusted_total_requested\": 312777.28801565326}, {\"primary_agency_name\": \"San Luis Obispo Regional Transit Agency\", \"adjusted_total_requested\": 223543.58668155086}, {\"primary_agency_name\": \"Atascadero\", \"adjusted_total_requested\": 199381.48543378172}, {\"primary_agency_name\": \"Watsonville\", \"adjusted_total_requested\": 173874.7046012661}, {\"primary_agency_name\": \"Santa Cruz County Regional Transportation Commission\", \"adjusted_total_requested\": 160975.5764636801}, {\"primary_agency_name\": \"Solvang\", \"adjusted_total_requested\": 155633.5059173108}, {\"primary_agency_name\": \"Santa Cruz County\", \"adjusted_total_requested\": 144177.96567845764}, {\"primary_agency_name\": \"Transportation Agency for Monterey County\", \"adjusted_total_requested\": 104200.72449356884}, {\"primary_agency_name\": \"Modoc County\", \"adjusted_total_requested\": 98943.8155650644}, {\"primary_agency_name\": \"Santa Maria\", \"adjusted_total_requested\": 86841.607793501}]}}, {\"mode\": \"vega-lite\"});\n",
       "</script>"
      ],
      "text/plain": [
       "alt.Chart(...)"
      ]
     },
     "metadata": {},
     "output_type": "display_data"
    }
   ],
   "source": [
    "#Bar chart Average Total Requested Funds by Agency\n",
    "chart4=(_dla_utils.basic_bar_chart_no_save((((_dla_utils.calculate_data_all(df, 'adjusted_total_requested', 'primary_agency_name', aggfunc=\"mean\"))\n",
    "                          >>arrange(-_.adjusted_total_requested)).head(30)\n",
    "                        ), 'primary_agency_name','adjusted_total_requested', 'primary_agency_name', district\n",
    "                       ))\n",
    "chart4=chart4.encode([alt.Tooltip('primary_agency_name', title=_dla_utils.labeling('primary_agency_name')),\n",
    "    alt.Tooltip('adjusted_total_requested', title=_dla_utils.labeling('adjusted_total_requested'), format=\"$,.2f\"),\n",
    "                          ])\n",
    "display(chart4)"
   ]
  },
  {
   "cell_type": "markdown",
   "id": "84702987-c63c-40c9-aad7-c2d8c1b8ee49",
   "metadata": {
    "papermill": {
     "duration": 0.027201,
     "end_time": "2022-06-02T22:23:35.187963",
     "exception": false,
     "start_time": "2022-06-02T22:23:35.160762",
     "status": "completed"
    },
    "tags": []
   },
   "source": [
    "### Lowest Average Total Funds by Agency ($2021)"
   ]
  },
  {
   "cell_type": "code",
   "execution_count": 15,
   "id": "ce18a74b-9908-40f8-84f1-806552936465",
   "metadata": {
    "execution": {
     "iopub.execute_input": "2022-06-02T22:23:35.245310Z",
     "iopub.status.busy": "2022-06-02T22:23:35.245024Z",
     "iopub.status.idle": "2022-06-02T22:23:35.313250Z",
     "shell.execute_reply": "2022-06-02T22:23:35.312600Z"
    },
    "jupyter": {
     "source_hidden": true
    },
    "papermill": {
     "duration": 0.100117,
     "end_time": "2022-06-02T22:23:35.315251",
     "exception": false,
     "start_time": "2022-06-02T22:23:35.215134",
     "status": "completed"
    },
    "tags": [
     "remove_input"
    ]
   },
   "outputs": [
    {
     "data": {
      "text/html": [
       "\n",
       "<div id=\"altair-viz-2c11c0e80fbf4e09b3ae8428e831770e\"></div>\n",
       "<script type=\"text/javascript\">\n",
       "  var VEGA_DEBUG = (typeof VEGA_DEBUG == \"undefined\") ? {} : VEGA_DEBUG;\n",
       "  (function(spec, embedOpt){\n",
       "    let outputDiv = document.currentScript.previousElementSibling;\n",
       "    if (outputDiv.id !== \"altair-viz-2c11c0e80fbf4e09b3ae8428e831770e\") {\n",
       "      outputDiv = document.getElementById(\"altair-viz-2c11c0e80fbf4e09b3ae8428e831770e\");\n",
       "    }\n",
       "    const paths = {\n",
       "      \"vega\": \"https://cdn.jsdelivr.net/npm//vega@5?noext\",\n",
       "      \"vega-lib\": \"https://cdn.jsdelivr.net/npm//vega-lib?noext\",\n",
       "      \"vega-lite\": \"https://cdn.jsdelivr.net/npm//vega-lite@4.17.0?noext\",\n",
       "      \"vega-embed\": \"https://cdn.jsdelivr.net/npm//vega-embed@6?noext\",\n",
       "    };\n",
       "\n",
       "    function maybeLoadScript(lib, version) {\n",
       "      var key = `${lib.replace(\"-\", \"\")}_version`;\n",
       "      return (VEGA_DEBUG[key] == version) ?\n",
       "        Promise.resolve(paths[lib]) :\n",
       "        new Promise(function(resolve, reject) {\n",
       "          var s = document.createElement('script');\n",
       "          document.getElementsByTagName(\"head\")[0].appendChild(s);\n",
       "          s.async = true;\n",
       "          s.onload = () => {\n",
       "            VEGA_DEBUG[key] = version;\n",
       "            return resolve(paths[lib]);\n",
       "          };\n",
       "          s.onerror = () => reject(`Error loading script: ${paths[lib]}`);\n",
       "          s.src = paths[lib];\n",
       "        });\n",
       "    }\n",
       "\n",
       "    function showError(err) {\n",
       "      outputDiv.innerHTML = `<div class=\"error\" style=\"color:red;\">${err}</div>`;\n",
       "      throw err;\n",
       "    }\n",
       "\n",
       "    function displayChart(vegaEmbed) {\n",
       "      vegaEmbed(outputDiv, spec, embedOpt)\n",
       "        .catch(err => showError(`Javascript Error: ${err.message}<br>This usually means there's a typo in your chart specification. See the javascript console for the full traceback.`));\n",
       "    }\n",
       "\n",
       "    if(typeof define === \"function\" && define.amd) {\n",
       "      requirejs.config({paths});\n",
       "      require([\"vega-embed\"], displayChart, err => showError(`Error loading script: ${err.message}`));\n",
       "    } else {\n",
       "      maybeLoadScript(\"vega\", \"5\")\n",
       "        .then(() => maybeLoadScript(\"vega-lite\", \"4.17.0\"))\n",
       "        .then(() => maybeLoadScript(\"vega-embed\", \"6\"))\n",
       "        .catch(showError)\n",
       "        .then(() => displayChart(vegaEmbed));\n",
       "    }\n",
       "  })({\"config\": {\"view\": {\"continuousWidth\": 400, \"continuousHeight\": 300}, \"axis\": {\"domainColor\": \"#cbcbcb\", \"grid\": true, \"gridColor\": \"#cbcbcb\", \"gridWidth\": 1, \"labelColor\": \"#474747\", \"labelFont\": \"Nunito Sans\", \"labelFontSize\": 10, \"labelPadding\": 4, \"tickColor\": \"#cbcbcb\", \"tickSize\": 10, \"titleColor\": \"#333\", \"titleFont\": \"Raleway\", \"titleFontSize\": 12, \"titlePadding\": 10}, \"axisBand\": {\"grid\": false}, \"background\": \"white\", \"font\": \"Raleway\", \"header\": {\"labelFont\": \"Nunito Sans\", \"titleFont\": \"Raleway\"}, \"legend\": {\"labelColor\": \"#333\", \"labelFont\": \"Nunito Sans\", \"labelFontSize\": 11, \"labelLimit\": 0, \"padding\": 1, \"symbolSize\": 30, \"symbolType\": \"square\", \"titleColor\": \"#333\", \"titleFont\": \"Raleway\", \"titleFontSize\": 14, \"titlePadding\": 10}, \"title\": {\"anchor\": \"middle\", \"font\": \"Raleway\", \"fontSize\": 18, \"fontWeight\": 300, \"offset\": 20}}, \"data\": {\"name\": \"data-39825cd6d3b6ffcccf754ad0f57cae8b\"}, \"mark\": \"bar\", \"encoding\": {\"color\": {\"field\": \"primary_agency_name\", \"legend\": {\"symbolLimit\": 10, \"title\": \"Agency\"}, \"scale\": {\"range\": [\"#2EA8CE\", \"#EB9F3C\", \"#F4D837\", \"#51BF9D\", \"#8CBCCB\", \"#9487C0\"]}, \"type\": \"nominal\"}, \"tooltip\": [{\"field\": \"primary_agency_name\", \"title\": \"Agency\", \"type\": \"nominal\"}, {\"field\": \"avg_funds\", \"format\": \"$,.2f\", \"title\": \"Average Funds\", \"type\": \"quantitative\"}], \"x\": {\"field\": \"primary_agency_name\", \"sort\": \"-y\", \"title\": \"Agency\", \"type\": \"nominal\"}, \"y\": {\"field\": \"avg_funds\", \"title\": \"Average Funds\", \"type\": \"quantitative\"}}, \"height\": 250, \"width\": 400, \"$schema\": \"https://vega.github.io/schema/vega-lite/v4.17.0.json\", \"datasets\": {\"data-39825cd6d3b6ffcccf754ad0f57cae8b\": [{\"primary_agency_name\": \"Seaside\", \"avg_funds\": 2428086.4072224773}, {\"primary_agency_name\": \"Monterey\", \"avg_funds\": 1778109.1835077712}, {\"primary_agency_name\": \"Alameda County\", \"avg_funds\": 1754521.8913018438}, {\"primary_agency_name\": \"San Luis Obispo\", \"avg_funds\": 994079.1220940962}, {\"primary_agency_name\": \"University of California - Santa Barbara\", \"avg_funds\": 894746.1574754935}, {\"primary_agency_name\": \"Santa Barbara\", \"avg_funds\": 878002.6470910826}, {\"primary_agency_name\": \"Salinas\", \"avg_funds\": 823099.8827443977}, {\"primary_agency_name\": \"Marina\", \"avg_funds\": 690427.3409274212}, {\"primary_agency_name\": \"Pismo Beach\", \"avg_funds\": 616561.9947827894}, {\"primary_agency_name\": \"Arroyo Grande\", \"avg_funds\": 587323.5898275453}, {\"primary_agency_name\": \"Monterey County\", \"avg_funds\": 542522.1238321181}, {\"primary_agency_name\": \"Carpinteria\", \"avg_funds\": 522619.4952741487}, {\"primary_agency_name\": \"Santa Barbara County\", \"avg_funds\": 508775.8610791079}, {\"primary_agency_name\": \"Morro Bay\", \"avg_funds\": 461318.67721458303}, {\"primary_agency_name\": \"Grover Beach\", \"avg_funds\": 444614.688985534}, {\"primary_agency_name\": \"Goleta\", \"avg_funds\": 438387.7966166413}, {\"primary_agency_name\": \"Santa Cruz\", \"avg_funds\": 399406.9181478055}, {\"primary_agency_name\": \"San Luis Obispo County\", \"avg_funds\": 366110.7391984499}, {\"primary_agency_name\": \"San Benito County\", \"avg_funds\": 353372.53016684134}, {\"primary_agency_name\": \"Santa Barbara County Association of Governments\", \"avg_funds\": 353031.79399873805}, {\"primary_agency_name\": \"El Paso De Robles\", \"avg_funds\": 312777.28801565326}, {\"primary_agency_name\": \"San Luis Obispo Regional Transit Agency\", \"avg_funds\": 223543.58668155086}, {\"primary_agency_name\": \"Atascadero\", \"avg_funds\": 199381.48543378175}, {\"primary_agency_name\": \"Watsonville\", \"avg_funds\": 173874.7046012661}, {\"primary_agency_name\": \"Santa Cruz County Regional Transportation Commission\", \"avg_funds\": 160975.5764636801}, {\"primary_agency_name\": \"Solvang\", \"avg_funds\": 155633.5059173108}, {\"primary_agency_name\": \"Santa Cruz County\", \"avg_funds\": 144177.96567845767}, {\"primary_agency_name\": \"Transportation Agency for Monterey County\", \"avg_funds\": 104200.7244935688}, {\"primary_agency_name\": \"Modoc County\", \"avg_funds\": 98943.81556506439}, {\"primary_agency_name\": \"Santa Maria\", \"avg_funds\": 86841.607793501}, {\"primary_agency_name\": \"Capitola\", \"avg_funds\": 77774.9365916773}, {\"primary_agency_name\": \"El Dorado County\", \"avg_funds\": 68947.89858189777}, {\"primary_agency_name\": \"San Luis Obispo Council of Governments\", \"avg_funds\": 61008.02756318553}, {\"primary_agency_name\": \"Association Of Monterey Bay Area Governments\", \"avg_funds\": 49107.73305438325}, {\"primary_agency_name\": \"Lompoc\", \"avg_funds\": 45532.14526914822}, {\"primary_agency_name\": \"Council of San Benito County Governments\", \"avg_funds\": 39066.08679428901}, {\"primary_agency_name\": \"Caltrans\", \"avg_funds\": 9654.758495302922}, {\"primary_agency_name\": \"Santa Cruz County Health Services Agency\", \"avg_funds\": -612.0352441417613}, {\"primary_agency_name\": \"Scotts Valley\", \"avg_funds\": -4551.740837155141}]}}, {\"mode\": \"vega-lite\"});\n",
       "</script>"
      ],
      "text/plain": [
       "alt.Chart(...)"
      ]
     },
     "metadata": {},
     "output_type": "display_data"
    }
   ],
   "source": [
    "#Bar chart Bottom Average Total Requested Funds by Agency\n",
    "avg_funds_bottom = (df>>group_by(_.primary_agency_name)>>summarize(avg_funds=_.adjusted_total_requested.mean())>>arrange(-_.avg_funds)).tail(50)\n",
    "\n",
    "chart5=( _dla_utils.basic_bar_chart_no_save((avg_funds_bottom.tail(40)), 'primary_agency_name','avg_funds', 'primary_agency_name', district))\n",
    "\n",
    "chart5=chart5.encode([alt.Tooltip('primary_agency_name', title=_dla_utils.labeling('primary_agency_name')),\n",
    "                alt.Tooltip('avg_funds', title=_dla_utils.labeling('avg_funds'), format=\"$,.2f\")\n",
    "                          ]\n",
    "                                   )\n",
    "display(chart5)"
   ]
  },
  {
   "cell_type": "markdown",
   "id": "32fb0fb4-2cd3-453d-8be1-cf99fb52f56f",
   "metadata": {
    "papermill": {
     "duration": 0.027538,
     "end_time": "2022-06-02T22:23:35.371982",
     "exception": false,
     "start_time": "2022-06-02T22:23:35.344444",
     "status": "completed"
    },
    "tags": []
   },
   "source": [
    "### Average Total Requested Funds by Prefix ($2021)"
   ]
  },
  {
   "cell_type": "code",
   "execution_count": 16,
   "id": "d18938e5-6fc5-4e53-87b2-7140df57e5a0",
   "metadata": {
    "execution": {
     "iopub.execute_input": "2022-06-02T22:23:35.431965Z",
     "iopub.status.busy": "2022-06-02T22:23:35.431670Z",
     "iopub.status.idle": "2022-06-02T22:23:35.459071Z",
     "shell.execute_reply": "2022-06-02T22:23:35.458259Z"
    },
    "jupyter": {
     "source_hidden": true
    },
    "papermill": {
     "duration": 0.059879,
     "end_time": "2022-06-02T22:23:35.460974",
     "exception": false,
     "start_time": "2022-06-02T22:23:35.401095",
     "status": "completed"
    },
    "tags": [
     "remove_input"
    ]
   },
   "outputs": [
    {
     "data": {
      "text/html": [
       "\n",
       "<div id=\"altair-viz-d9d710f7f5e14238902b918f26252080\"></div>\n",
       "<script type=\"text/javascript\">\n",
       "  var VEGA_DEBUG = (typeof VEGA_DEBUG == \"undefined\") ? {} : VEGA_DEBUG;\n",
       "  (function(spec, embedOpt){\n",
       "    let outputDiv = document.currentScript.previousElementSibling;\n",
       "    if (outputDiv.id !== \"altair-viz-d9d710f7f5e14238902b918f26252080\") {\n",
       "      outputDiv = document.getElementById(\"altair-viz-d9d710f7f5e14238902b918f26252080\");\n",
       "    }\n",
       "    const paths = {\n",
       "      \"vega\": \"https://cdn.jsdelivr.net/npm//vega@5?noext\",\n",
       "      \"vega-lib\": \"https://cdn.jsdelivr.net/npm//vega-lib?noext\",\n",
       "      \"vega-lite\": \"https://cdn.jsdelivr.net/npm//vega-lite@4.17.0?noext\",\n",
       "      \"vega-embed\": \"https://cdn.jsdelivr.net/npm//vega-embed@6?noext\",\n",
       "    };\n",
       "\n",
       "    function maybeLoadScript(lib, version) {\n",
       "      var key = `${lib.replace(\"-\", \"\")}_version`;\n",
       "      return (VEGA_DEBUG[key] == version) ?\n",
       "        Promise.resolve(paths[lib]) :\n",
       "        new Promise(function(resolve, reject) {\n",
       "          var s = document.createElement('script');\n",
       "          document.getElementsByTagName(\"head\")[0].appendChild(s);\n",
       "          s.async = true;\n",
       "          s.onload = () => {\n",
       "            VEGA_DEBUG[key] = version;\n",
       "            return resolve(paths[lib]);\n",
       "          };\n",
       "          s.onerror = () => reject(`Error loading script: ${paths[lib]}`);\n",
       "          s.src = paths[lib];\n",
       "        });\n",
       "    }\n",
       "\n",
       "    function showError(err) {\n",
       "      outputDiv.innerHTML = `<div class=\"error\" style=\"color:red;\">${err}</div>`;\n",
       "      throw err;\n",
       "    }\n",
       "\n",
       "    function displayChart(vegaEmbed) {\n",
       "      vegaEmbed(outputDiv, spec, embedOpt)\n",
       "        .catch(err => showError(`Javascript Error: ${err.message}<br>This usually means there's a typo in your chart specification. See the javascript console for the full traceback.`));\n",
       "    }\n",
       "\n",
       "    if(typeof define === \"function\" && define.amd) {\n",
       "      requirejs.config({paths});\n",
       "      require([\"vega-embed\"], displayChart, err => showError(`Error loading script: ${err.message}`));\n",
       "    } else {\n",
       "      maybeLoadScript(\"vega\", \"5\")\n",
       "        .then(() => maybeLoadScript(\"vega-lite\", \"4.17.0\"))\n",
       "        .then(() => maybeLoadScript(\"vega-embed\", \"6\"))\n",
       "        .catch(showError)\n",
       "        .then(() => displayChart(vegaEmbed));\n",
       "    }\n",
       "  })({\"config\": {\"view\": {\"continuousWidth\": 400, \"continuousHeight\": 300}, \"axis\": {\"domainColor\": \"#cbcbcb\", \"grid\": true, \"gridColor\": \"#cbcbcb\", \"gridWidth\": 1, \"labelColor\": \"#474747\", \"labelFont\": \"Nunito Sans\", \"labelFontSize\": 10, \"labelPadding\": 4, \"tickColor\": \"#cbcbcb\", \"tickSize\": 10, \"titleColor\": \"#333\", \"titleFont\": \"Raleway\", \"titleFontSize\": 12, \"titlePadding\": 10}, \"axisBand\": {\"grid\": false}, \"background\": \"white\", \"font\": \"Raleway\", \"header\": {\"labelFont\": \"Nunito Sans\", \"titleFont\": \"Raleway\"}, \"legend\": {\"labelColor\": \"#333\", \"labelFont\": \"Nunito Sans\", \"labelFontSize\": 11, \"labelLimit\": 0, \"padding\": 1, \"symbolSize\": 30, \"symbolType\": \"square\", \"titleColor\": \"#333\", \"titleFont\": \"Raleway\", \"titleFontSize\": 14, \"titlePadding\": 10}, \"title\": {\"anchor\": \"middle\", \"font\": \"Raleway\", \"fontSize\": 18, \"fontWeight\": 300, \"offset\": 20}}, \"data\": {\"name\": \"data-f19c38974672a0222019842041092616\"}, \"mark\": \"bar\", \"encoding\": {\"color\": {\"field\": \"prefix\", \"legend\": {\"symbolLimit\": 10, \"title\": \"Prefix Code\"}, \"scale\": {\"range\": [\"#2EA8CE\", \"#EB9F3C\", \"#F4D837\", \"#51BF9D\", \"#8CBCCB\", \"#9487C0\"]}, \"type\": \"nominal\"}, \"tooltip\": [{\"field\": \"prefix\", \"title\": \"Prefix Code\", \"type\": \"nominal\"}, {\"field\": \"adjusted_total_requested\", \"format\": \"$,.2f\", \"title\": \"Total Requested\", \"type\": \"quantitative\"}], \"x\": {\"field\": \"prefix\", \"sort\": \"-y\", \"title\": \"Prefix Code\", \"type\": \"nominal\"}, \"y\": {\"field\": \"adjusted_total_requested\", \"title\": \"Total Requested\", \"type\": \"quantitative\"}}, \"height\": 250, \"width\": 400, \"$schema\": \"https://vega.github.io/schema/vega-lite/v4.17.0.json\", \"datasets\": {\"data-f19c38974672a0222019842041092616\": [{\"prefix\": \"ATPSB1L\", \"adjusted_total_requested\": 3303559.8492103}, {\"prefix\": \"BRLKS\", \"adjusted_total_requested\": 2495226.4523827475}, {\"prefix\": \"HIPL\", \"adjusted_total_requested\": 2259764.8925383515}, {\"prefix\": \"BRLSZD\", \"adjusted_total_requested\": 1838435.6253723614}, {\"prefix\": \"STPLR\", \"adjusted_total_requested\": 1832980.2758455556}, {\"prefix\": \"ATPL\", \"adjusted_total_requested\": 1744369.9232201816}, {\"prefix\": \"RPLCML\", \"adjusted_total_requested\": 1714962.8321929798}, {\"prefix\": \"FERPL\", \"adjusted_total_requested\": 1100000.9368061782}, {\"prefix\": \"BRLS\", \"adjusted_total_requested\": 1024617.9873190726}, {\"prefix\": \"CMFERP\", \"adjusted_total_requested\": 959656.8115117083}, {\"prefix\": \"BRLO\", \"adjusted_total_requested\": 687967.6973672186}, {\"prefix\": \"BRLOZE\", \"adjusted_total_requested\": 578358.7962040023}, {\"prefix\": \"STPLZ\", \"adjusted_total_requested\": 575500.562578821}, {\"prefix\": \"BHLO\", \"adjusted_total_requested\": 570970.3125375835}, {\"prefix\": \"ACSTER\", \"adjusted_total_requested\": 521079.78921581217}, {\"prefix\": \"RPSTPL\", \"adjusted_total_requested\": 469553.91138223157}, {\"prefix\": \"HPPLU\", \"adjusted_total_requested\": 460462.2484891245}, {\"prefix\": \"STPLX\", \"adjusted_total_requested\": 439882.48339611065}, {\"prefix\": \"FTAMCL\", \"adjusted_total_requested\": 435797.0932276699}, {\"prefix\": \"CML\", \"adjusted_total_requested\": 424778.5625181418}, {\"prefix\": \"BHLS\", \"adjusted_total_requested\": 310919.36813706154}, {\"prefix\": \"PRSTER\", \"adjusted_total_requested\": 310059.47075936524}, {\"prefix\": \"CMFERP16\", \"adjusted_total_requested\": 261744.90161373976}, {\"prefix\": \"FTACML\", \"adjusted_total_requested\": 257612.3676269547}, {\"prefix\": \"HSIPL\", \"adjusted_total_requested\": 255017.29266234464}, {\"prefix\": \"DEM10L\", \"adjusted_total_requested\": 253489.15877526323}, {\"prefix\": \"BRLSZ\", \"adjusted_total_requested\": 217887.33636747612}, {\"prefix\": \"BPMP\", \"adjusted_total_requested\": 205298.6914005179}, {\"prefix\": \"HRRRL\", \"adjusted_total_requested\": 201372.07084166494}, {\"prefix\": \"CMSTPL\", \"adjusted_total_requested\": 197480.95603259266}]}}, {\"mode\": \"vega-lite\"});\n",
       "</script>"
      ],
      "text/plain": [
       "alt.Chart(...)"
      ]
     },
     "metadata": {},
     "output_type": "display_data"
    }
   ],
   "source": [
    "# Bar chart Average Total Requested Funds by Prefix\n",
    "chart8 = (_dla_utils.basic_bar_chart_no_save((((_dla_utils.calculate_data_all(df, 'adjusted_total_requested', 'prefix', aggfunc=\"mean\"))\n",
    "                          >>arrange(-_.adjusted_total_requested)).head(30)), 'prefix','adjusted_total_requested', 'prefix', district\n",
    "                       ))\n",
    "chart8=chart8.encode([alt.Tooltip('prefix', title=_dla_utils.labeling('prefix')),\n",
    "                      alt.Tooltip('adjusted_total_requested', title=_dla_utils.labeling('adjusted_total_requested'), format=\"$,.2f\")\n",
    "                          ]\n",
    "                                   )\n",
    "display(chart8)\n",
    "    "
   ]
  },
  {
   "cell_type": "markdown",
   "id": "c4218a37-675e-40be-9659-d1297a62dc1b",
   "metadata": {
    "papermill": {
     "duration": 0.027409,
     "end_time": "2022-06-02T22:23:35.519049",
     "exception": false,
     "start_time": "2022-06-02T22:23:35.491640",
     "status": "completed"
    },
    "tags": []
   },
   "source": [
    "\n",
    "## Work Categories"
   ]
  },
  {
   "cell_type": "markdown",
   "id": "188d7213-7e0a-4873-8d28-76b86052a06b",
   "metadata": {
    "papermill": {
     "duration": 0.037629,
     "end_time": "2022-06-02T22:23:35.585424",
     "exception": false,
     "start_time": "2022-06-02T22:23:35.547795",
     "status": "completed"
    },
    "tags": []
   },
   "source": [
    "<hr style=\"height: 2px; background-color:#136C97; border: none\">"
   ]
  },
  {
   "cell_type": "markdown",
   "id": "d41b493b-2ab7-4c43-96ee-8e64a7c3e11a",
   "metadata": {
    "papermill": {
     "duration": 0.02907,
     "end_time": "2022-06-02T22:23:35.653116",
     "exception": false,
     "start_time": "2022-06-02T22:23:35.624046",
     "status": "completed"
    },
    "tags": []
   },
   "source": [
    "While the data includes a description column, organizations have the option to manually input the descriptions. Using the organizations descriptions of the obligattion type, we can categorize the obligations in terms of types of work. We used the following type of work categories:\n",
    "* Active Transportation\n",
    "* Transit\n",
    "* Bridge\n",
    "* Street\n",
    "* Freeway\n",
    "* Infrastructure/Resiliency/Emergency Relief \n",
    "* Congestion Relief\n",
    "\n",
    "With these categories, we can determine which organizations have the most obligations in that category and what percent of the category that organization accounts for. "
   ]
  },
  {
   "cell_type": "code",
   "execution_count": 17,
   "id": "50a1cf08-17eb-4b2b-9dc0-671ee7551f2d",
   "metadata": {
    "execution": {
     "iopub.execute_input": "2022-06-02T22:23:35.716483Z",
     "iopub.status.busy": "2022-06-02T22:23:35.715952Z",
     "iopub.status.idle": "2022-06-02T22:23:36.545069Z",
     "shell.execute_reply": "2022-06-02T22:23:36.544128Z"
    },
    "jupyter": {
     "source_hidden": true
    },
    "papermill": {
     "duration": 0.865071,
     "end_time": "2022-06-02T22:23:36.547110",
     "exception": false,
     "start_time": "2022-06-02T22:23:35.682039",
     "status": "completed"
    },
    "tags": [
     "remove_input"
    ]
   },
   "outputs": [
    {
     "data": {
      "application/vnd.jupyter.widget-view+json": {
       "model_id": "3eb57ef189ae407c8c553baf5511b332",
       "version_major": 2,
       "version_minor": 0
      },
      "text/plain": [
       "HTML(value='<h3> Top Agencies using Active Transportation Projects </h3>')"
      ]
     },
     "metadata": {},
     "output_type": "display_data"
    },
    {
     "data": {
      "application/vnd.jupyter.widget-view+json": {
       "model_id": "d2b2e826d7124436af036c802b9cffbe",
       "version_major": 2,
       "version_minor": 0
      },
      "text/plain": [
       "HTML(value='<style type=\"text/css\">\\n#T_5e423 th {\\n  text-align: center;\\n}\\n#T_5e423_row0_col0, #T_5e423_row…"
      ]
     },
     "metadata": {},
     "output_type": "display_data"
    },
    {
     "data": {
      "text/html": [
       "\n",
       "<div id=\"altair-viz-8438f88254c74023a3eb8bee1af2b766\"></div>\n",
       "<script type=\"text/javascript\">\n",
       "  var VEGA_DEBUG = (typeof VEGA_DEBUG == \"undefined\") ? {} : VEGA_DEBUG;\n",
       "  (function(spec, embedOpt){\n",
       "    let outputDiv = document.currentScript.previousElementSibling;\n",
       "    if (outputDiv.id !== \"altair-viz-8438f88254c74023a3eb8bee1af2b766\") {\n",
       "      outputDiv = document.getElementById(\"altair-viz-8438f88254c74023a3eb8bee1af2b766\");\n",
       "    }\n",
       "    const paths = {\n",
       "      \"vega\": \"https://cdn.jsdelivr.net/npm//vega@5?noext\",\n",
       "      \"vega-lib\": \"https://cdn.jsdelivr.net/npm//vega-lib?noext\",\n",
       "      \"vega-lite\": \"https://cdn.jsdelivr.net/npm//vega-lite@4.17.0?noext\",\n",
       "      \"vega-embed\": \"https://cdn.jsdelivr.net/npm//vega-embed@6?noext\",\n",
       "    };\n",
       "\n",
       "    function maybeLoadScript(lib, version) {\n",
       "      var key = `${lib.replace(\"-\", \"\")}_version`;\n",
       "      return (VEGA_DEBUG[key] == version) ?\n",
       "        Promise.resolve(paths[lib]) :\n",
       "        new Promise(function(resolve, reject) {\n",
       "          var s = document.createElement('script');\n",
       "          document.getElementsByTagName(\"head\")[0].appendChild(s);\n",
       "          s.async = true;\n",
       "          s.onload = () => {\n",
       "            VEGA_DEBUG[key] = version;\n",
       "            return resolve(paths[lib]);\n",
       "          };\n",
       "          s.onerror = () => reject(`Error loading script: ${paths[lib]}`);\n",
       "          s.src = paths[lib];\n",
       "        });\n",
       "    }\n",
       "\n",
       "    function showError(err) {\n",
       "      outputDiv.innerHTML = `<div class=\"error\" style=\"color:red;\">${err}</div>`;\n",
       "      throw err;\n",
       "    }\n",
       "\n",
       "    function displayChart(vegaEmbed) {\n",
       "      vegaEmbed(outputDiv, spec, embedOpt)\n",
       "        .catch(err => showError(`Javascript Error: ${err.message}<br>This usually means there's a typo in your chart specification. See the javascript console for the full traceback.`));\n",
       "    }\n",
       "\n",
       "    if(typeof define === \"function\" && define.amd) {\n",
       "      requirejs.config({paths});\n",
       "      require([\"vega-embed\"], displayChart, err => showError(`Error loading script: ${err.message}`));\n",
       "    } else {\n",
       "      maybeLoadScript(\"vega\", \"5\")\n",
       "        .then(() => maybeLoadScript(\"vega-lite\", \"4.17.0\"))\n",
       "        .then(() => maybeLoadScript(\"vega-embed\", \"6\"))\n",
       "        .catch(showError)\n",
       "        .then(() => displayChart(vegaEmbed));\n",
       "    }\n",
       "  })({\"config\": {\"view\": {\"continuousWidth\": 400, \"continuousHeight\": 300}}, \"data\": {\"name\": \"data-cea92e786852d0235e5150e73b8507bb\"}, \"mark\": \"bar\", \"encoding\": {\"color\": {\"field\": \"Categories\", \"scale\": {\"range\": [\"#2EA8CE\", \"#EB9F3C\", \"#F4D837\", \"#51BF9D\", \"#8CBCCB\", \"#9487C0\"]}, \"type\": \"nominal\"}, \"row\": {\"field\": \"Categories\", \"type\": \"nominal\"}, \"tooltip\": [{\"field\": \"Agency\", \"title\": \"Agency\", \"type\": \"nominal\"}, {\"field\": \"Funding Amount\", \"format\": \"$,.2f\", \"title\": \"Funding Amount\", \"type\": \"quantitative\"}], \"x\": {\"axis\": {\"format\": \"$.2s\", \"title\": \"Obligated Funding ($2021)\"}, \"field\": \"Funding Amount\", \"type\": \"quantitative\"}, \"y\": {\"field\": \"Agency\", \"type\": \"nominal\"}}, \"height\": 70, \"width\": 400, \"$schema\": \"https://vega.github.io/schema/vega-lite/v4.17.0.json\", \"datasets\": {\"data-cea92e786852d0235e5150e73b8507bb\": [{\"Agency\": \"Santa Barbara\", \"Categories\": \"Total Requested\", \"Funding Amount\": 827281.1559956258}, {\"Agency\": \"Santa Cruz\", \"Categories\": \"Total Requested\", \"Funding Amount\": 229500.24411091828}, {\"Agency\": \"San Luis Obispo County\", \"Categories\": \"Total Requested\", \"Funding Amount\": 830503.7293743873}, {\"Agency\": \"Monterey County\", \"Categories\": \"Total Requested\", \"Funding Amount\": 1424172.1375025187}, {\"Agency\": \"Santa Cruz County\", \"Categories\": \"Total Requested\", \"Funding Amount\": 72084.95374426687}, {\"Agency\": \"Santa Barbara\", \"Categories\": \"Fed Requested\", \"Funding Amount\": 809777.6748482096}, {\"Agency\": \"Santa Cruz\", \"Categories\": \"Fed Requested\", \"Funding Amount\": 190853.78165741725}, {\"Agency\": \"San Luis Obispo County\", \"Categories\": \"Fed Requested\", \"Funding Amount\": 596665.9952525798}, {\"Agency\": \"Monterey County\", \"Categories\": \"Fed Requested\", \"Funding Amount\": 809838.3540935019}, {\"Agency\": \"Santa Cruz County\", \"Categories\": \"Fed Requested\", \"Funding Amount\": 51285.23266898959}, {\"Agency\": \"Santa Barbara\", \"Categories\": \"AC Requested\", \"Funding Amount\": 0.0}, {\"Agency\": \"Santa Cruz\", \"Categories\": \"AC Requested\", \"Funding Amount\": 0.0}, {\"Agency\": \"San Luis Obispo County\", \"Categories\": \"AC Requested\", \"Funding Amount\": 0.0}, {\"Agency\": \"Monterey County\", \"Categories\": \"AC Requested\", \"Funding Amount\": 0.0}, {\"Agency\": \"Santa Cruz County\", \"Categories\": \"AC Requested\", \"Funding Amount\": 0.0}]}}, {\"mode\": \"vega-lite\"});\n",
       "</script>"
      ],
      "text/plain": [
       "alt.Chart(...)"
      ]
     },
     "metadata": {},
     "output_type": "display_data"
    },
    {
     "data": {
      "application/vnd.jupyter.widget-view+json": {
       "model_id": "426ce57b94934dc0ad5f8143f7aa6472",
       "version_major": 2,
       "version_minor": 0
      },
      "text/plain": [
       "HTML(value='<h3> Top Agencies using Transit Projects </h3>')"
      ]
     },
     "metadata": {},
     "output_type": "display_data"
    },
    {
     "data": {
      "application/vnd.jupyter.widget-view+json": {
       "model_id": "ae4c47859abb4d24bab510a0e47b8cfd",
       "version_major": 2,
       "version_minor": 0
      },
      "text/plain": [
       "HTML(value='<style type=\"text/css\">\\n#T_2ab59 th {\\n  text-align: center;\\n}\\n#T_2ab59_row0_col0, #T_2ab59_row…"
      ]
     },
     "metadata": {},
     "output_type": "display_data"
    },
    {
     "data": {
      "text/html": [
       "\n",
       "<div id=\"altair-viz-4544b4d9e9a94ea19f3846dded6d42da\"></div>\n",
       "<script type=\"text/javascript\">\n",
       "  var VEGA_DEBUG = (typeof VEGA_DEBUG == \"undefined\") ? {} : VEGA_DEBUG;\n",
       "  (function(spec, embedOpt){\n",
       "    let outputDiv = document.currentScript.previousElementSibling;\n",
       "    if (outputDiv.id !== \"altair-viz-4544b4d9e9a94ea19f3846dded6d42da\") {\n",
       "      outputDiv = document.getElementById(\"altair-viz-4544b4d9e9a94ea19f3846dded6d42da\");\n",
       "    }\n",
       "    const paths = {\n",
       "      \"vega\": \"https://cdn.jsdelivr.net/npm//vega@5?noext\",\n",
       "      \"vega-lib\": \"https://cdn.jsdelivr.net/npm//vega-lib?noext\",\n",
       "      \"vega-lite\": \"https://cdn.jsdelivr.net/npm//vega-lite@4.17.0?noext\",\n",
       "      \"vega-embed\": \"https://cdn.jsdelivr.net/npm//vega-embed@6?noext\",\n",
       "    };\n",
       "\n",
       "    function maybeLoadScript(lib, version) {\n",
       "      var key = `${lib.replace(\"-\", \"\")}_version`;\n",
       "      return (VEGA_DEBUG[key] == version) ?\n",
       "        Promise.resolve(paths[lib]) :\n",
       "        new Promise(function(resolve, reject) {\n",
       "          var s = document.createElement('script');\n",
       "          document.getElementsByTagName(\"head\")[0].appendChild(s);\n",
       "          s.async = true;\n",
       "          s.onload = () => {\n",
       "            VEGA_DEBUG[key] = version;\n",
       "            return resolve(paths[lib]);\n",
       "          };\n",
       "          s.onerror = () => reject(`Error loading script: ${paths[lib]}`);\n",
       "          s.src = paths[lib];\n",
       "        });\n",
       "    }\n",
       "\n",
       "    function showError(err) {\n",
       "      outputDiv.innerHTML = `<div class=\"error\" style=\"color:red;\">${err}</div>`;\n",
       "      throw err;\n",
       "    }\n",
       "\n",
       "    function displayChart(vegaEmbed) {\n",
       "      vegaEmbed(outputDiv, spec, embedOpt)\n",
       "        .catch(err => showError(`Javascript Error: ${err.message}<br>This usually means there's a typo in your chart specification. See the javascript console for the full traceback.`));\n",
       "    }\n",
       "\n",
       "    if(typeof define === \"function\" && define.amd) {\n",
       "      requirejs.config({paths});\n",
       "      require([\"vega-embed\"], displayChart, err => showError(`Error loading script: ${err.message}`));\n",
       "    } else {\n",
       "      maybeLoadScript(\"vega\", \"5\")\n",
       "        .then(() => maybeLoadScript(\"vega-lite\", \"4.17.0\"))\n",
       "        .then(() => maybeLoadScript(\"vega-embed\", \"6\"))\n",
       "        .catch(showError)\n",
       "        .then(() => displayChart(vegaEmbed));\n",
       "    }\n",
       "  })({\"config\": {\"view\": {\"continuousWidth\": 400, \"continuousHeight\": 300}}, \"data\": {\"name\": \"data-a7e5221eaf1959d67738d59495364120\"}, \"mark\": \"bar\", \"encoding\": {\"color\": {\"field\": \"Categories\", \"scale\": {\"range\": [\"#2EA8CE\", \"#EB9F3C\", \"#F4D837\", \"#51BF9D\", \"#8CBCCB\", \"#9487C0\"]}, \"type\": \"nominal\"}, \"row\": {\"field\": \"Categories\", \"type\": \"nominal\"}, \"tooltip\": [{\"field\": \"Agency\", \"title\": \"Agency\", \"type\": \"nominal\"}, {\"field\": \"Funding Amount\", \"format\": \"$,.2f\", \"title\": \"Funding Amount\", \"type\": \"quantitative\"}], \"x\": {\"axis\": {\"format\": \"$.2s\", \"title\": \"Obligated Funding ($2021)\"}, \"field\": \"Funding Amount\", \"type\": \"quantitative\"}, \"y\": {\"field\": \"Agency\", \"type\": \"nominal\"}}, \"height\": 70, \"width\": 400, \"$schema\": \"https://vega.github.io/schema/vega-lite/v4.17.0.json\", \"datasets\": {\"data-a7e5221eaf1959d67738d59495364120\": [{\"Agency\": \"Grover Beach\", \"Categories\": \"Total Requested\", \"Funding Amount\": 1005409.0439352273}, {\"Agency\": \"San Luis Obispo\", \"Categories\": \"Total Requested\", \"Funding Amount\": 1832980.2758455556}, {\"Agency\": \"San Luis Obispo County\", \"Categories\": \"Total Requested\", \"Funding Amount\": -185584.51396397728}, {\"Agency\": \"Grover Beach\", \"Categories\": \"Fed Requested\", \"Funding Amount\": 679504.0188098672}, {\"Agency\": \"San Luis Obispo\", \"Categories\": \"Fed Requested\", \"Funding Amount\": 1832980.2758455556}, {\"Agency\": \"San Luis Obispo County\", \"Categories\": \"Fed Requested\", \"Funding Amount\": -121388.66539615304}, {\"Agency\": \"Grover Beach\", \"Categories\": \"AC Requested\", \"Funding Amount\": 0.0}, {\"Agency\": \"San Luis Obispo\", \"Categories\": \"AC Requested\", \"Funding Amount\": 0.0}, {\"Agency\": \"San Luis Obispo County\", \"Categories\": \"AC Requested\", \"Funding Amount\": 0.0}]}}, {\"mode\": \"vega-lite\"});\n",
       "</script>"
      ],
      "text/plain": [
       "alt.Chart(...)"
      ]
     },
     "metadata": {},
     "output_type": "display_data"
    },
    {
     "data": {
      "application/vnd.jupyter.widget-view+json": {
       "model_id": "521336dff5e9478982a70e8f3905f8e3",
       "version_major": 2,
       "version_minor": 0
      },
      "text/plain": [
       "HTML(value='<h3> Top Agencies using Bridge Projects </h3>')"
      ]
     },
     "metadata": {},
     "output_type": "display_data"
    },
    {
     "data": {
      "application/vnd.jupyter.widget-view+json": {
       "model_id": "212c11243bba4bd687a4d7267a0a812a",
       "version_major": 2,
       "version_minor": 0
      },
      "text/plain": [
       "HTML(value='<style type=\"text/css\">\\n#T_55264 th {\\n  text-align: center;\\n}\\n#T_55264_row0_col0, #T_55264_row…"
      ]
     },
     "metadata": {},
     "output_type": "display_data"
    },
    {
     "data": {
      "text/html": [
       "\n",
       "<div id=\"altair-viz-b60f8297ae2f4a1d991b741732b74f89\"></div>\n",
       "<script type=\"text/javascript\">\n",
       "  var VEGA_DEBUG = (typeof VEGA_DEBUG == \"undefined\") ? {} : VEGA_DEBUG;\n",
       "  (function(spec, embedOpt){\n",
       "    let outputDiv = document.currentScript.previousElementSibling;\n",
       "    if (outputDiv.id !== \"altair-viz-b60f8297ae2f4a1d991b741732b74f89\") {\n",
       "      outputDiv = document.getElementById(\"altair-viz-b60f8297ae2f4a1d991b741732b74f89\");\n",
       "    }\n",
       "    const paths = {\n",
       "      \"vega\": \"https://cdn.jsdelivr.net/npm//vega@5?noext\",\n",
       "      \"vega-lib\": \"https://cdn.jsdelivr.net/npm//vega-lib?noext\",\n",
       "      \"vega-lite\": \"https://cdn.jsdelivr.net/npm//vega-lite@4.17.0?noext\",\n",
       "      \"vega-embed\": \"https://cdn.jsdelivr.net/npm//vega-embed@6?noext\",\n",
       "    };\n",
       "\n",
       "    function maybeLoadScript(lib, version) {\n",
       "      var key = `${lib.replace(\"-\", \"\")}_version`;\n",
       "      return (VEGA_DEBUG[key] == version) ?\n",
       "        Promise.resolve(paths[lib]) :\n",
       "        new Promise(function(resolve, reject) {\n",
       "          var s = document.createElement('script');\n",
       "          document.getElementsByTagName(\"head\")[0].appendChild(s);\n",
       "          s.async = true;\n",
       "          s.onload = () => {\n",
       "            VEGA_DEBUG[key] = version;\n",
       "            return resolve(paths[lib]);\n",
       "          };\n",
       "          s.onerror = () => reject(`Error loading script: ${paths[lib]}`);\n",
       "          s.src = paths[lib];\n",
       "        });\n",
       "    }\n",
       "\n",
       "    function showError(err) {\n",
       "      outputDiv.innerHTML = `<div class=\"error\" style=\"color:red;\">${err}</div>`;\n",
       "      throw err;\n",
       "    }\n",
       "\n",
       "    function displayChart(vegaEmbed) {\n",
       "      vegaEmbed(outputDiv, spec, embedOpt)\n",
       "        .catch(err => showError(`Javascript Error: ${err.message}<br>This usually means there's a typo in your chart specification. See the javascript console for the full traceback.`));\n",
       "    }\n",
       "\n",
       "    if(typeof define === \"function\" && define.amd) {\n",
       "      requirejs.config({paths});\n",
       "      require([\"vega-embed\"], displayChart, err => showError(`Error loading script: ${err.message}`));\n",
       "    } else {\n",
       "      maybeLoadScript(\"vega\", \"5\")\n",
       "        .then(() => maybeLoadScript(\"vega-lite\", \"4.17.0\"))\n",
       "        .then(() => maybeLoadScript(\"vega-embed\", \"6\"))\n",
       "        .catch(showError)\n",
       "        .then(() => displayChart(vegaEmbed));\n",
       "    }\n",
       "  })({\"config\": {\"view\": {\"continuousWidth\": 400, \"continuousHeight\": 300}}, \"data\": {\"name\": \"data-811a25295942f95b165f7ddd2607f0b9\"}, \"mark\": \"bar\", \"encoding\": {\"color\": {\"field\": \"Categories\", \"scale\": {\"range\": [\"#2EA8CE\", \"#EB9F3C\", \"#F4D837\", \"#51BF9D\", \"#8CBCCB\", \"#9487C0\"]}, \"type\": \"nominal\"}, \"row\": {\"field\": \"Categories\", \"type\": \"nominal\"}, \"tooltip\": [{\"field\": \"Agency\", \"title\": \"Agency\", \"type\": \"nominal\"}, {\"field\": \"Funding Amount\", \"format\": \"$,.2f\", \"title\": \"Funding Amount\", \"type\": \"quantitative\"}], \"x\": {\"axis\": {\"format\": \"$.2s\", \"title\": \"Obligated Funding ($2021)\"}, \"field\": \"Funding Amount\", \"type\": \"quantitative\"}, \"y\": {\"field\": \"Agency\", \"type\": \"nominal\"}}, \"height\": 70, \"width\": 400, \"$schema\": \"https://vega.github.io/schema/vega-lite/v4.17.0.json\", \"datasets\": {\"data-811a25295942f95b165f7ddd2607f0b9\": [{\"Agency\": \"Santa Barbara County\", \"Categories\": \"Total Requested\", \"Funding Amount\": 729093.7719597858}, {\"Agency\": \"Santa Barbara\", \"Categories\": \"Total Requested\", \"Funding Amount\": 1068516.4157345123}, {\"Agency\": \"San Luis Obispo County\", \"Categories\": \"Total Requested\", \"Funding Amount\": 369476.97829302953}, {\"Agency\": \"San Benito County\", \"Categories\": \"Total Requested\", \"Funding Amount\": 495451.40592711855}, {\"Agency\": \"Monterey County\", \"Categories\": \"Total Requested\", \"Funding Amount\": 1216308.0915427997}, {\"Agency\": \"Santa Barbara County\", \"Categories\": \"Fed Requested\", \"Funding Amount\": 499139.1021486389}, {\"Agency\": \"Santa Barbara\", \"Categories\": \"Fed Requested\", \"Funding Amount\": 944018.4089886203}, {\"Agency\": \"San Luis Obispo County\", \"Categories\": \"Fed Requested\", \"Funding Amount\": 350204.59530917706}, {\"Agency\": \"San Benito County\", \"Categories\": \"Fed Requested\", \"Funding Amount\": 470380.44686330005}, {\"Agency\": \"Monterey County\", \"Categories\": \"Fed Requested\", \"Funding Amount\": 870284.589229819}, {\"Agency\": \"Santa Barbara County\", \"Categories\": \"AC Requested\", \"Funding Amount\": 171084.80091399263}, {\"Agency\": \"Santa Barbara\", \"Categories\": \"AC Requested\", \"Funding Amount\": 0.0}, {\"Agency\": \"San Luis Obispo County\", \"Categories\": \"AC Requested\", \"Funding Amount\": 7872.397533502277}, {\"Agency\": \"San Benito County\", \"Categories\": \"AC Requested\", \"Funding Amount\": 10947.109498012062}, {\"Agency\": \"Monterey County\", \"Categories\": \"AC Requested\", \"Funding Amount\": 126.48470710030415}]}}, {\"mode\": \"vega-lite\"});\n",
       "</script>"
      ],
      "text/plain": [
       "alt.Chart(...)"
      ]
     },
     "metadata": {},
     "output_type": "display_data"
    },
    {
     "data": {
      "application/vnd.jupyter.widget-view+json": {
       "model_id": "1cfa1ea3048c47b8bb4c8b0c6e553e27",
       "version_major": 2,
       "version_minor": 0
      },
      "text/plain": [
       "HTML(value='<h3> Top Agencies using Street Projects </h3>')"
      ]
     },
     "metadata": {},
     "output_type": "display_data"
    },
    {
     "data": {
      "application/vnd.jupyter.widget-view+json": {
       "model_id": "8bdcc367c1ce480592aa4ba1ad25db23",
       "version_major": 2,
       "version_minor": 0
      },
      "text/plain": [
       "HTML(value='<style type=\"text/css\">\\n#T_36691 th {\\n  text-align: center;\\n}\\n#T_36691_row0_col0, #T_36691_row…"
      ]
     },
     "metadata": {},
     "output_type": "display_data"
    },
    {
     "data": {
      "text/html": [
       "\n",
       "<div id=\"altair-viz-01974e8a870e4940b6aef5f89eeef4e9\"></div>\n",
       "<script type=\"text/javascript\">\n",
       "  var VEGA_DEBUG = (typeof VEGA_DEBUG == \"undefined\") ? {} : VEGA_DEBUG;\n",
       "  (function(spec, embedOpt){\n",
       "    let outputDiv = document.currentScript.previousElementSibling;\n",
       "    if (outputDiv.id !== \"altair-viz-01974e8a870e4940b6aef5f89eeef4e9\") {\n",
       "      outputDiv = document.getElementById(\"altair-viz-01974e8a870e4940b6aef5f89eeef4e9\");\n",
       "    }\n",
       "    const paths = {\n",
       "      \"vega\": \"https://cdn.jsdelivr.net/npm//vega@5?noext\",\n",
       "      \"vega-lib\": \"https://cdn.jsdelivr.net/npm//vega-lib?noext\",\n",
       "      \"vega-lite\": \"https://cdn.jsdelivr.net/npm//vega-lite@4.17.0?noext\",\n",
       "      \"vega-embed\": \"https://cdn.jsdelivr.net/npm//vega-embed@6?noext\",\n",
       "    };\n",
       "\n",
       "    function maybeLoadScript(lib, version) {\n",
       "      var key = `${lib.replace(\"-\", \"\")}_version`;\n",
       "      return (VEGA_DEBUG[key] == version) ?\n",
       "        Promise.resolve(paths[lib]) :\n",
       "        new Promise(function(resolve, reject) {\n",
       "          var s = document.createElement('script');\n",
       "          document.getElementsByTagName(\"head\")[0].appendChild(s);\n",
       "          s.async = true;\n",
       "          s.onload = () => {\n",
       "            VEGA_DEBUG[key] = version;\n",
       "            return resolve(paths[lib]);\n",
       "          };\n",
       "          s.onerror = () => reject(`Error loading script: ${paths[lib]}`);\n",
       "          s.src = paths[lib];\n",
       "        });\n",
       "    }\n",
       "\n",
       "    function showError(err) {\n",
       "      outputDiv.innerHTML = `<div class=\"error\" style=\"color:red;\">${err}</div>`;\n",
       "      throw err;\n",
       "    }\n",
       "\n",
       "    function displayChart(vegaEmbed) {\n",
       "      vegaEmbed(outputDiv, spec, embedOpt)\n",
       "        .catch(err => showError(`Javascript Error: ${err.message}<br>This usually means there's a typo in your chart specification. See the javascript console for the full traceback.`));\n",
       "    }\n",
       "\n",
       "    if(typeof define === \"function\" && define.amd) {\n",
       "      requirejs.config({paths});\n",
       "      require([\"vega-embed\"], displayChart, err => showError(`Error loading script: ${err.message}`));\n",
       "    } else {\n",
       "      maybeLoadScript(\"vega\", \"5\")\n",
       "        .then(() => maybeLoadScript(\"vega-lite\", \"4.17.0\"))\n",
       "        .then(() => maybeLoadScript(\"vega-embed\", \"6\"))\n",
       "        .catch(showError)\n",
       "        .then(() => displayChart(vegaEmbed));\n",
       "    }\n",
       "  })({\"config\": {\"view\": {\"continuousWidth\": 400, \"continuousHeight\": 300}}, \"data\": {\"name\": \"data-0c05063300b4bf56dbcb2e2182496c15\"}, \"mark\": \"bar\", \"encoding\": {\"color\": {\"field\": \"Categories\", \"scale\": {\"range\": [\"#2EA8CE\", \"#EB9F3C\", \"#F4D837\", \"#51BF9D\", \"#8CBCCB\", \"#9487C0\"]}, \"type\": \"nominal\"}, \"row\": {\"field\": \"Categories\", \"type\": \"nominal\"}, \"tooltip\": [{\"field\": \"Agency\", \"title\": \"Agency\", \"type\": \"nominal\"}, {\"field\": \"Funding Amount\", \"format\": \"$,.2f\", \"title\": \"Funding Amount\", \"type\": \"quantitative\"}], \"x\": {\"axis\": {\"format\": \"$.2s\", \"title\": \"Obligated Funding ($2021)\"}, \"field\": \"Funding Amount\", \"type\": \"quantitative\"}, \"y\": {\"field\": \"Agency\", \"type\": \"nominal\"}}, \"height\": 70, \"width\": 400, \"$schema\": \"https://vega.github.io/schema/vega-lite/v4.17.0.json\", \"datasets\": {\"data-0c05063300b4bf56dbcb2e2182496c15\": [{\"Agency\": \"Santa Cruz County\", \"Categories\": \"Total Requested\", \"Funding Amount\": 152650.46939815226}, {\"Agency\": \"Santa Barbara County\", \"Categories\": \"Total Requested\", \"Funding Amount\": 99551.35790003315}, {\"Agency\": \"San Luis Obispo County\", \"Categories\": \"Total Requested\", \"Funding Amount\": 197303.89623887447}, {\"Agency\": \"Santa Barbara\", \"Categories\": \"Total Requested\", \"Funding Amount\": 329126.7635149869}, {\"Agency\": \"Salinas\", \"Categories\": \"Total Requested\", \"Funding Amount\": 1132120.2021233712}, {\"Agency\": \"Santa Cruz County\", \"Categories\": \"Fed Requested\", \"Funding Amount\": 156756.64557340628}, {\"Agency\": \"Santa Barbara County\", \"Categories\": \"Fed Requested\", \"Funding Amount\": 56380.99103289835}, {\"Agency\": \"San Luis Obispo County\", \"Categories\": \"Fed Requested\", \"Funding Amount\": 171934.53931965973}, {\"Agency\": \"Santa Barbara\", \"Categories\": \"Fed Requested\", \"Funding Amount\": 257113.86672166636}, {\"Agency\": \"Salinas\", \"Categories\": \"Fed Requested\", \"Funding Amount\": 583243.1685700641}, {\"Agency\": \"Santa Cruz County\", \"Categories\": \"AC Requested\", \"Funding Amount\": -25500.709314329764}, {\"Agency\": \"Santa Barbara County\", \"Categories\": \"AC Requested\", \"Funding Amount\": 2511.132863993321}, {\"Agency\": \"San Luis Obispo County\", \"Categories\": \"AC Requested\", \"Funding Amount\": 22.296301213806146}, {\"Agency\": \"Santa Barbara\", \"Categories\": \"AC Requested\", \"Funding Amount\": 0.0}, {\"Agency\": \"Salinas\", \"Categories\": \"AC Requested\", \"Funding Amount\": 0.0}]}}, {\"mode\": \"vega-lite\"});\n",
       "</script>"
      ],
      "text/plain": [
       "alt.Chart(...)"
      ]
     },
     "metadata": {},
     "output_type": "display_data"
    },
    {
     "data": {
      "application/vnd.jupyter.widget-view+json": {
       "model_id": "aecbb288cd514e30887522718aabcdb4",
       "version_major": 2,
       "version_minor": 0
      },
      "text/plain": [
       "HTML(value='<h3> Top Agencies using Freeway Projects </h3>')"
      ]
     },
     "metadata": {},
     "output_type": "display_data"
    },
    {
     "data": {
      "application/vnd.jupyter.widget-view+json": {
       "model_id": "93af831636cf4c8ea40e78cd51d334c0",
       "version_major": 2,
       "version_minor": 0
      },
      "text/plain": [
       "HTML(value='<style type=\"text/css\">\\n#T_e75e0 th {\\n  text-align: center;\\n}\\n#T_e75e0_row0_col0, #T_e75e0_row…"
      ]
     },
     "metadata": {},
     "output_type": "display_data"
    },
    {
     "data": {
      "text/html": [
       "\n",
       "<div id=\"altair-viz-8c936de08b564e1098f79a52698ca797\"></div>\n",
       "<script type=\"text/javascript\">\n",
       "  var VEGA_DEBUG = (typeof VEGA_DEBUG == \"undefined\") ? {} : VEGA_DEBUG;\n",
       "  (function(spec, embedOpt){\n",
       "    let outputDiv = document.currentScript.previousElementSibling;\n",
       "    if (outputDiv.id !== \"altair-viz-8c936de08b564e1098f79a52698ca797\") {\n",
       "      outputDiv = document.getElementById(\"altair-viz-8c936de08b564e1098f79a52698ca797\");\n",
       "    }\n",
       "    const paths = {\n",
       "      \"vega\": \"https://cdn.jsdelivr.net/npm//vega@5?noext\",\n",
       "      \"vega-lib\": \"https://cdn.jsdelivr.net/npm//vega-lib?noext\",\n",
       "      \"vega-lite\": \"https://cdn.jsdelivr.net/npm//vega-lite@4.17.0?noext\",\n",
       "      \"vega-embed\": \"https://cdn.jsdelivr.net/npm//vega-embed@6?noext\",\n",
       "    };\n",
       "\n",
       "    function maybeLoadScript(lib, version) {\n",
       "      var key = `${lib.replace(\"-\", \"\")}_version`;\n",
       "      return (VEGA_DEBUG[key] == version) ?\n",
       "        Promise.resolve(paths[lib]) :\n",
       "        new Promise(function(resolve, reject) {\n",
       "          var s = document.createElement('script');\n",
       "          document.getElementsByTagName(\"head\")[0].appendChild(s);\n",
       "          s.async = true;\n",
       "          s.onload = () => {\n",
       "            VEGA_DEBUG[key] = version;\n",
       "            return resolve(paths[lib]);\n",
       "          };\n",
       "          s.onerror = () => reject(`Error loading script: ${paths[lib]}`);\n",
       "          s.src = paths[lib];\n",
       "        });\n",
       "    }\n",
       "\n",
       "    function showError(err) {\n",
       "      outputDiv.innerHTML = `<div class=\"error\" style=\"color:red;\">${err}</div>`;\n",
       "      throw err;\n",
       "    }\n",
       "\n",
       "    function displayChart(vegaEmbed) {\n",
       "      vegaEmbed(outputDiv, spec, embedOpt)\n",
       "        .catch(err => showError(`Javascript Error: ${err.message}<br>This usually means there's a typo in your chart specification. See the javascript console for the full traceback.`));\n",
       "    }\n",
       "\n",
       "    if(typeof define === \"function\" && define.amd) {\n",
       "      requirejs.config({paths});\n",
       "      require([\"vega-embed\"], displayChart, err => showError(`Error loading script: ${err.message}`));\n",
       "    } else {\n",
       "      maybeLoadScript(\"vega\", \"5\")\n",
       "        .then(() => maybeLoadScript(\"vega-lite\", \"4.17.0\"))\n",
       "        .then(() => maybeLoadScript(\"vega-embed\", \"6\"))\n",
       "        .catch(showError)\n",
       "        .then(() => displayChart(vegaEmbed));\n",
       "    }\n",
       "  })({\"config\": {\"view\": {\"continuousWidth\": 400, \"continuousHeight\": 300}}, \"data\": {\"name\": \"data-9d9ac114736d3d6e5f0d4399930089d6\"}, \"mark\": \"bar\", \"encoding\": {\"color\": {\"field\": \"Categories\", \"scale\": {\"range\": [\"#2EA8CE\", \"#EB9F3C\", \"#F4D837\", \"#51BF9D\", \"#8CBCCB\", \"#9487C0\"]}, \"type\": \"nominal\"}, \"row\": {\"field\": \"Categories\", \"type\": \"nominal\"}, \"tooltip\": [{\"field\": \"Agency\", \"title\": \"Agency\", \"type\": \"nominal\"}, {\"field\": \"Funding Amount\", \"format\": \"$,.2f\", \"title\": \"Funding Amount\", \"type\": \"quantitative\"}], \"x\": {\"axis\": {\"format\": \"$.2s\", \"title\": \"Obligated Funding ($2021)\"}, \"field\": \"Funding Amount\", \"type\": \"quantitative\"}, \"y\": {\"field\": \"Agency\", \"type\": \"nominal\"}}, \"height\": 70, \"width\": 400, \"$schema\": \"https://vega.github.io/schema/vega-lite/v4.17.0.json\", \"datasets\": {\"data-9d9ac114736d3d6e5f0d4399930089d6\": [{\"Agency\": \"San Luis Obispo\", \"Categories\": \"Total Requested\", \"Funding Amount\": 1832980.2758455556}, {\"Agency\": \"Santa Cruz County Regional Transportation Commission\", \"Categories\": \"Total Requested\", \"Funding Amount\": 197480.95603259266}, {\"Agency\": \"San Luis Obispo\", \"Categories\": \"Fed Requested\", \"Funding Amount\": 1832980.2758455556}, {\"Agency\": \"Santa Cruz County Regional Transportation Commission\", \"Categories\": \"Fed Requested\", \"Funding Amount\": -5.728761019245704}, {\"Agency\": \"San Luis Obispo\", \"Categories\": \"AC Requested\", \"Funding Amount\": 0.0}, {\"Agency\": \"Santa Cruz County Regional Transportation Commission\", \"Categories\": \"AC Requested\", \"Funding Amount\": 0.0}]}}, {\"mode\": \"vega-lite\"});\n",
       "</script>"
      ],
      "text/plain": [
       "alt.Chart(...)"
      ]
     },
     "metadata": {},
     "output_type": "display_data"
    },
    {
     "data": {
      "application/vnd.jupyter.widget-view+json": {
       "model_id": "a6cb40bd62ab42f69cc856b6712a21be",
       "version_major": 2,
       "version_minor": 0
      },
      "text/plain": [
       "HTML(value='<h3> Top Agencies using Infrastructure & Emergency Relief Projects </h3>')"
      ]
     },
     "metadata": {},
     "output_type": "display_data"
    },
    {
     "data": {
      "application/vnd.jupyter.widget-view+json": {
       "model_id": "c55624cb95b2445aa962ad12a62c8018",
       "version_major": 2,
       "version_minor": 0
      },
      "text/plain": [
       "HTML(value='<style type=\"text/css\">\\n#T_68034 th {\\n  text-align: center;\\n}\\n#T_68034_row0_col0, #T_68034_row…"
      ]
     },
     "metadata": {},
     "output_type": "display_data"
    },
    {
     "data": {
      "text/html": [
       "\n",
       "<div id=\"altair-viz-80b7bd72c81744c98b4e55dd25053689\"></div>\n",
       "<script type=\"text/javascript\">\n",
       "  var VEGA_DEBUG = (typeof VEGA_DEBUG == \"undefined\") ? {} : VEGA_DEBUG;\n",
       "  (function(spec, embedOpt){\n",
       "    let outputDiv = document.currentScript.previousElementSibling;\n",
       "    if (outputDiv.id !== \"altair-viz-80b7bd72c81744c98b4e55dd25053689\") {\n",
       "      outputDiv = document.getElementById(\"altair-viz-80b7bd72c81744c98b4e55dd25053689\");\n",
       "    }\n",
       "    const paths = {\n",
       "      \"vega\": \"https://cdn.jsdelivr.net/npm//vega@5?noext\",\n",
       "      \"vega-lib\": \"https://cdn.jsdelivr.net/npm//vega-lib?noext\",\n",
       "      \"vega-lite\": \"https://cdn.jsdelivr.net/npm//vega-lite@4.17.0?noext\",\n",
       "      \"vega-embed\": \"https://cdn.jsdelivr.net/npm//vega-embed@6?noext\",\n",
       "    };\n",
       "\n",
       "    function maybeLoadScript(lib, version) {\n",
       "      var key = `${lib.replace(\"-\", \"\")}_version`;\n",
       "      return (VEGA_DEBUG[key] == version) ?\n",
       "        Promise.resolve(paths[lib]) :\n",
       "        new Promise(function(resolve, reject) {\n",
       "          var s = document.createElement('script');\n",
       "          document.getElementsByTagName(\"head\")[0].appendChild(s);\n",
       "          s.async = true;\n",
       "          s.onload = () => {\n",
       "            VEGA_DEBUG[key] = version;\n",
       "            return resolve(paths[lib]);\n",
       "          };\n",
       "          s.onerror = () => reject(`Error loading script: ${paths[lib]}`);\n",
       "          s.src = paths[lib];\n",
       "        });\n",
       "    }\n",
       "\n",
       "    function showError(err) {\n",
       "      outputDiv.innerHTML = `<div class=\"error\" style=\"color:red;\">${err}</div>`;\n",
       "      throw err;\n",
       "    }\n",
       "\n",
       "    function displayChart(vegaEmbed) {\n",
       "      vegaEmbed(outputDiv, spec, embedOpt)\n",
       "        .catch(err => showError(`Javascript Error: ${err.message}<br>This usually means there's a typo in your chart specification. See the javascript console for the full traceback.`));\n",
       "    }\n",
       "\n",
       "    if(typeof define === \"function\" && define.amd) {\n",
       "      requirejs.config({paths});\n",
       "      require([\"vega-embed\"], displayChart, err => showError(`Error loading script: ${err.message}`));\n",
       "    } else {\n",
       "      maybeLoadScript(\"vega\", \"5\")\n",
       "        .then(() => maybeLoadScript(\"vega-lite\", \"4.17.0\"))\n",
       "        .then(() => maybeLoadScript(\"vega-embed\", \"6\"))\n",
       "        .catch(showError)\n",
       "        .then(() => displayChart(vegaEmbed));\n",
       "    }\n",
       "  })({\"config\": {\"view\": {\"continuousWidth\": 400, \"continuousHeight\": 300}}, \"data\": {\"name\": \"data-1ff79e156733c26b165c7a909a4a0ce7\"}, \"mark\": \"bar\", \"encoding\": {\"color\": {\"field\": \"Categories\", \"scale\": {\"range\": [\"#2EA8CE\", \"#EB9F3C\", \"#F4D837\", \"#51BF9D\", \"#8CBCCB\", \"#9487C0\"]}, \"type\": \"nominal\"}, \"row\": {\"field\": \"Categories\", \"type\": \"nominal\"}, \"tooltip\": [{\"field\": \"Agency\", \"title\": \"Agency\", \"type\": \"nominal\"}, {\"field\": \"Funding Amount\", \"format\": \"$,.2f\", \"title\": \"Funding Amount\", \"type\": \"quantitative\"}], \"x\": {\"axis\": {\"format\": \"$.2s\", \"title\": \"Obligated Funding ($2021)\"}, \"field\": \"Funding Amount\", \"type\": \"quantitative\"}, \"y\": {\"field\": \"Agency\", \"type\": \"nominal\"}}, \"height\": 70, \"width\": 400, \"$schema\": \"https://vega.github.io/schema/vega-lite/v4.17.0.json\", \"datasets\": {\"data-1ff79e156733c26b165c7a909a4a0ce7\": [{\"Agency\": \"Santa Cruz County\", \"Categories\": \"Total Requested\", \"Funding Amount\": 146129.49152376282}, {\"Agency\": \"Santa Barbara County\", \"Categories\": \"Total Requested\", \"Funding Amount\": 584791.548097561}, {\"Agency\": \"San Luis Obispo County\", \"Categories\": \"Total Requested\", \"Funding Amount\": 396828.5890244528}, {\"Agency\": \"Monterey County\", \"Categories\": \"Total Requested\", \"Funding Amount\": 614908.5688943722}, {\"Agency\": \"Santa Barbara\", \"Categories\": \"Total Requested\", \"Funding Amount\": 1321013.7115539142}, {\"Agency\": \"Santa Cruz County\", \"Categories\": \"Fed Requested\", \"Funding Amount\": 147310.0148283088}, {\"Agency\": \"Santa Barbara County\", \"Categories\": \"Fed Requested\", \"Funding Amount\": 365209.51634852827}, {\"Agency\": \"San Luis Obispo County\", \"Categories\": \"Fed Requested\", \"Funding Amount\": 344353.6914578275}, {\"Agency\": \"Monterey County\", \"Categories\": \"Fed Requested\", \"Funding Amount\": 436781.6743519626}, {\"Agency\": \"Santa Barbara\", \"Categories\": \"Fed Requested\", \"Funding Amount\": 1196215.1933411318}, {\"Agency\": \"Santa Cruz County\", \"Categories\": \"AC Requested\", \"Funding Amount\": -18984.43887899868}, {\"Agency\": \"Santa Barbara County\", \"Categories\": \"AC Requested\", \"Funding Amount\": 151830.8607298803}, {\"Agency\": \"San Luis Obispo County\", \"Categories\": \"AC Requested\", \"Funding Amount\": 4430.332724909296}, {\"Agency\": \"Monterey County\", \"Categories\": \"AC Requested\", \"Funding Amount\": 1688.3531048825078}, {\"Agency\": \"Santa Barbara\", \"Categories\": \"AC Requested\", \"Funding Amount\": 0.0}]}}, {\"mode\": \"vega-lite\"});\n",
       "</script>"
      ],
      "text/plain": [
       "alt.Chart(...)"
      ]
     },
     "metadata": {},
     "output_type": "display_data"
    },
    {
     "data": {
      "application/vnd.jupyter.widget-view+json": {
       "model_id": "5b43e22710e846bba6f1ee066f34db6c",
       "version_major": 2,
       "version_minor": 0
      },
      "text/plain": [
       "HTML(value='<h3> Top Agencies using Congestion Relief Projects </h3>')"
      ]
     },
     "metadata": {},
     "output_type": "display_data"
    },
    {
     "data": {
      "application/vnd.jupyter.widget-view+json": {
       "model_id": "4df56de11ebc4f63abd40afc6275547d",
       "version_major": 2,
       "version_minor": 0
      },
      "text/plain": [
       "HTML(value='<style type=\"text/css\">\\n#T_71778 th {\\n  text-align: center;\\n}\\n#T_71778_row0_col0, #T_71778_row…"
      ]
     },
     "metadata": {},
     "output_type": "display_data"
    },
    {
     "data": {
      "text/html": [
       "\n",
       "<div id=\"altair-viz-fd5433afdc784742891d4cf53042e847\"></div>\n",
       "<script type=\"text/javascript\">\n",
       "  var VEGA_DEBUG = (typeof VEGA_DEBUG == \"undefined\") ? {} : VEGA_DEBUG;\n",
       "  (function(spec, embedOpt){\n",
       "    let outputDiv = document.currentScript.previousElementSibling;\n",
       "    if (outputDiv.id !== \"altair-viz-fd5433afdc784742891d4cf53042e847\") {\n",
       "      outputDiv = document.getElementById(\"altair-viz-fd5433afdc784742891d4cf53042e847\");\n",
       "    }\n",
       "    const paths = {\n",
       "      \"vega\": \"https://cdn.jsdelivr.net/npm//vega@5?noext\",\n",
       "      \"vega-lib\": \"https://cdn.jsdelivr.net/npm//vega-lib?noext\",\n",
       "      \"vega-lite\": \"https://cdn.jsdelivr.net/npm//vega-lite@4.17.0?noext\",\n",
       "      \"vega-embed\": \"https://cdn.jsdelivr.net/npm//vega-embed@6?noext\",\n",
       "    };\n",
       "\n",
       "    function maybeLoadScript(lib, version) {\n",
       "      var key = `${lib.replace(\"-\", \"\")}_version`;\n",
       "      return (VEGA_DEBUG[key] == version) ?\n",
       "        Promise.resolve(paths[lib]) :\n",
       "        new Promise(function(resolve, reject) {\n",
       "          var s = document.createElement('script');\n",
       "          document.getElementsByTagName(\"head\")[0].appendChild(s);\n",
       "          s.async = true;\n",
       "          s.onload = () => {\n",
       "            VEGA_DEBUG[key] = version;\n",
       "            return resolve(paths[lib]);\n",
       "          };\n",
       "          s.onerror = () => reject(`Error loading script: ${paths[lib]}`);\n",
       "          s.src = paths[lib];\n",
       "        });\n",
       "    }\n",
       "\n",
       "    function showError(err) {\n",
       "      outputDiv.innerHTML = `<div class=\"error\" style=\"color:red;\">${err}</div>`;\n",
       "      throw err;\n",
       "    }\n",
       "\n",
       "    function displayChart(vegaEmbed) {\n",
       "      vegaEmbed(outputDiv, spec, embedOpt)\n",
       "        .catch(err => showError(`Javascript Error: ${err.message}<br>This usually means there's a typo in your chart specification. See the javascript console for the full traceback.`));\n",
       "    }\n",
       "\n",
       "    if(typeof define === \"function\" && define.amd) {\n",
       "      requirejs.config({paths});\n",
       "      require([\"vega-embed\"], displayChart, err => showError(`Error loading script: ${err.message}`));\n",
       "    } else {\n",
       "      maybeLoadScript(\"vega\", \"5\")\n",
       "        .then(() => maybeLoadScript(\"vega-lite\", \"4.17.0\"))\n",
       "        .then(() => maybeLoadScript(\"vega-embed\", \"6\"))\n",
       "        .catch(showError)\n",
       "        .then(() => displayChart(vegaEmbed));\n",
       "    }\n",
       "  })({\"config\": {\"view\": {\"continuousWidth\": 400, \"continuousHeight\": 300}}, \"data\": {\"name\": \"data-fee87c5925db1a75cd609036f9f81972\"}, \"mark\": \"bar\", \"encoding\": {\"color\": {\"field\": \"Categories\", \"scale\": {\"range\": [\"#2EA8CE\", \"#EB9F3C\", \"#F4D837\", \"#51BF9D\", \"#8CBCCB\", \"#9487C0\"]}, \"type\": \"nominal\"}, \"row\": {\"field\": \"Categories\", \"type\": \"nominal\"}, \"tooltip\": [{\"field\": \"Agency\", \"title\": \"Agency\", \"type\": \"nominal\"}, {\"field\": \"Funding Amount\", \"format\": \"$,.2f\", \"title\": \"Funding Amount\", \"type\": \"quantitative\"}], \"x\": {\"axis\": {\"format\": \"$.2s\", \"title\": \"Obligated Funding ($2021)\"}, \"field\": \"Funding Amount\", \"type\": \"quantitative\"}, \"y\": {\"field\": \"Agency\", \"type\": \"nominal\"}}, \"height\": 70, \"width\": 400, \"$schema\": \"https://vega.github.io/schema/vega-lite/v4.17.0.json\", \"datasets\": {\"data-fee87c5925db1a75cd609036f9f81972\": [{\"Agency\": \"Association Of Monterey Bay Area Governments\", \"Categories\": \"Total Requested\", \"Funding Amount\": -1.2461439474805607}, {\"Agency\": \"Council of San Benito County Governments\", \"Categories\": \"Total Requested\", \"Funding Amount\": 39066.08679428901}, {\"Agency\": \"San Luis Obispo Council of Governments\", \"Categories\": \"Total Requested\", \"Funding Amount\": 4329.960243460692}, {\"Agency\": \"Santa Barbara County Association of Governments\", \"Categories\": \"Total Requested\", \"Funding Amount\": 100.82333461312902}, {\"Agency\": \"Association Of Monterey Bay Area Governments\", \"Categories\": \"Fed Requested\", \"Funding Amount\": -1.0975212748452645}, {\"Agency\": \"Council of San Benito County Governments\", \"Categories\": \"Fed Requested\", \"Funding Amount\": 0.0}, {\"Agency\": \"San Luis Obispo Council of Governments\", \"Categories\": \"Fed Requested\", \"Funding Amount\": 0.0}, {\"Agency\": \"Santa Barbara County Association of Governments\", \"Categories\": \"Fed Requested\", \"Funding Amount\": -0.05716256639819086}, {\"Agency\": \"Association Of Monterey Bay Area Governments\", \"Categories\": \"AC Requested\", \"Funding Amount\": 0.0}, {\"Agency\": \"Council of San Benito County Governments\", \"Categories\": \"AC Requested\", \"Funding Amount\": 0.0}, {\"Agency\": \"San Luis Obispo Council of Governments\", \"Categories\": \"AC Requested\", \"Funding Amount\": 0.0}, {\"Agency\": \"Santa Barbara County Association of Governments\", \"Categories\": \"AC Requested\", \"Funding Amount\": 0.0}]}}, {\"mode\": \"vega-lite\"});\n",
       "</script>"
      ],
      "text/plain": [
       "alt.Chart(...)"
      ]
     },
     "metadata": {},
     "output_type": "display_data"
    }
   ],
   "source": [
    "# create loop:\n",
    "\n",
    "work_cat = ['active_transp', 'transit', 'bridge', 'street','freeway', 'infra_resiliency_er','congestion_relief']\n",
    "\n",
    "for cat in work_cat:\n",
    "    _dla_utils.project_cat(df, cat, district)"
   ]
  },
  {
   "cell_type": "code",
   "execution_count": null,
   "id": "5a50e751-dd3f-498f-9a28-2edc321b534f",
   "metadata": {
    "jupyter": {
     "source_hidden": true
    },
    "papermill": {
     "duration": 0.036212,
     "end_time": "2022-06-02T22:23:36.629371",
     "exception": false,
     "start_time": "2022-06-02T22:23:36.593159",
     "status": "completed"
    },
    "tags": [
     "remove_input"
    ]
   },
   "outputs": [],
   "source": []
  },
  {
   "cell_type": "code",
   "execution_count": null,
   "id": "9ecbddcd-3d8e-4955-9294-5a63a98ca2a7",
   "metadata": {
    "jupyter": {
     "source_hidden": true
    },
    "papermill": {
     "duration": 0.050093,
     "end_time": "2022-06-02T22:23:36.722609",
     "exception": false,
     "start_time": "2022-06-02T22:23:36.672516",
     "status": "completed"
    },
    "tags": [
     "remove_input"
    ]
   },
   "outputs": [],
   "source": []
  }
 ],
 "metadata": {
  "kernelspec": {
   "display_name": "Python 3 (ipykernel)",
   "language": "python",
   "name": "python3"
  },
  "language_info": {
   "codemirror_mode": {
    "name": "ipython",
    "version": 3
   },
   "file_extension": ".py",
   "mimetype": "text/x-python",
   "name": "python",
   "nbconvert_exporter": "python",
   "pygments_lexer": "ipython3",
   "version": "3.9.12"
  },
  "papermill": {
   "default_parameters": {},
   "duration": 18.088706,
   "end_time": "2022-06-02T22:23:39.163547",
   "environment_variables": {},
   "exception": null,
   "input_path": "dla/e76_obligated_funds/reports/dla_district_report.ipynb",
   "output_path": "portfolio/dla/district_5__district_title_district-5-san-luis-obispo/0__dla_district_report__district_5__district_title_district-5-san-luis-obispo.ipynb",
   "parameters": {
    "district": 5,
    "district_title": "District 5 - San Luis Obispo"
   },
   "start_time": "2022-06-02T22:23:21.074841",
   "version": "2.3.4"
  },
  "widgets": {
   "application/vnd.jupyter.widget-state+json": {
    "state": {
     "1cfa1ea3048c47b8bb4c8b0c6e553e27": {
      "model_module": "@jupyter-widgets/controls",
      "model_module_version": "1.5.0",
      "model_name": "HTMLModel",
      "state": {
       "_dom_classes": [],
       "_model_module": "@jupyter-widgets/controls",
       "_model_module_version": "1.5.0",
       "_model_name": "HTMLModel",
       "_view_count": null,
       "_view_module": "@jupyter-widgets/controls",
       "_view_module_version": "1.5.0",
       "_view_name": "HTMLView",
       "description": "",
       "description_tooltip": null,
       "layout": "IPY_MODEL_fc28eca08f2e48c9844674490c2a1ed8",
       "placeholder": "​",
       "style": "IPY_MODEL_774abead7ed047c5a903fa3edafa885c",
       "value": "<h3> Top Agencies using Street Projects </h3>"
      }
     },
     "212c11243bba4bd687a4d7267a0a812a": {
      "model_module": "@jupyter-widgets/controls",
      "model_module_version": "1.5.0",
      "model_name": "HTMLModel",
      "state": {
       "_dom_classes": [],
       "_model_module": "@jupyter-widgets/controls",
       "_model_module_version": "1.5.0",
       "_model_name": "HTMLModel",
       "_view_count": null,
       "_view_module": "@jupyter-widgets/controls",
       "_view_module_version": "1.5.0",
       "_view_name": "HTMLView",
       "description": "",
       "description_tooltip": null,
       "layout": "IPY_MODEL_71a0d1cfe34a409798cb146defb88d17",
       "placeholder": "​",
       "style": "IPY_MODEL_b611e54b1c1e411ebad3c72ec2e39cbb",
       "value": "<style type=\"text/css\">\n#T_55264 th {\n  text-align: center;\n}\n#T_55264_row0_col0, #T_55264_row0_col1, #T_55264_row0_col2, #T_55264_row1_col0, #T_55264_row1_col1, #T_55264_row1_col2, #T_55264_row2_col0, #T_55264_row2_col1, #T_55264_row2_col2, #T_55264_row3_col0, #T_55264_row3_col1, #T_55264_row3_col2, #T_55264_row4_col0, #T_55264_row4_col1, #T_55264_row4_col2 {\n  text-align: center;\n}\n</style>\n<table id=\"T_55264\">\n  <thead>\n    <tr>\n      <th id=\"T_55264_level0_col0\" class=\"col_heading level0 col0\" >Agency</th>\n      <th id=\"T_55264_level0_col1\" class=\"col_heading level0 col1\" >Bridge Obligations</th>\n      <th id=\"T_55264_level0_col2\" class=\"col_heading level0 col2\" >Percent Of Category</th>\n    </tr>\n  </thead>\n  <tbody>\n    <tr>\n      <td id=\"T_55264_row0_col0\" class=\"data row0 col0\" >Santa Barbara County</td>\n      <td id=\"T_55264_row0_col1\" class=\"data row0 col1\" >73</td>\n      <td id=\"T_55264_row0_col2\" class=\"data row0 col2\" >$20.62</td>\n    </tr>\n    <tr>\n      <td id=\"T_55264_row1_col0\" class=\"data row1 col0\" >Santa Barbara</td>\n      <td id=\"T_55264_row1_col1\" class=\"data row1 col1\" >66</td>\n      <td id=\"T_55264_row1_col2\" class=\"data row1 col2\" >$18.64</td>\n    </tr>\n    <tr>\n      <td id=\"T_55264_row2_col0\" class=\"data row2 col0\" >San Luis Obispo County</td>\n      <td id=\"T_55264_row2_col1\" class=\"data row2 col1\" >59</td>\n      <td id=\"T_55264_row2_col2\" class=\"data row2 col2\" >$16.67</td>\n    </tr>\n    <tr>\n      <td id=\"T_55264_row3_col0\" class=\"data row3 col0\" >San Benito County</td>\n      <td id=\"T_55264_row3_col1\" class=\"data row3 col1\" >36</td>\n      <td id=\"T_55264_row3_col2\" class=\"data row3 col2\" >$10.17</td>\n    </tr>\n    <tr>\n      <td id=\"T_55264_row4_col0\" class=\"data row4 col0\" >Monterey County</td>\n      <td id=\"T_55264_row4_col1\" class=\"data row4 col1\" >32</td>\n      <td id=\"T_55264_row4_col2\" class=\"data row4 col2\" >$9.04</td>\n    </tr>\n  </tbody>\n</table>\n"
      }
     },
     "215e9f1ad2344460a2b34ff5145c6c89": {
      "model_module": "@jupyter-widgets/base",
      "model_module_version": "1.2.0",
      "model_name": "LayoutModel",
      "state": {
       "_model_module": "@jupyter-widgets/base",
       "_model_module_version": "1.2.0",
       "_model_name": "LayoutModel",
       "_view_count": null,
       "_view_module": "@jupyter-widgets/base",
       "_view_module_version": "1.2.0",
       "_view_name": "LayoutView",
       "align_content": null,
       "align_items": null,
       "align_self": null,
       "border": null,
       "bottom": null,
       "display": null,
       "flex": null,
       "flex_flow": null,
       "grid_area": null,
       "grid_auto_columns": null,
       "grid_auto_flow": null,
       "grid_auto_rows": null,
       "grid_column": null,
       "grid_gap": null,
       "grid_row": null,
       "grid_template_areas": null,
       "grid_template_columns": null,
       "grid_template_rows": null,
       "height": null,
       "justify_content": null,
       "justify_items": null,
       "left": null,
       "margin": null,
       "max_height": null,
       "max_width": null,
       "min_height": null,
       "min_width": null,
       "object_fit": null,
       "object_position": null,
       "order": null,
       "overflow": null,
       "overflow_x": null,
       "overflow_y": null,
       "padding": null,
       "right": null,
       "top": null,
       "visibility": null,
       "width": null
      }
     },
     "24e35c0bae1f4577b3d243ee080f8fd3": {
      "model_module": "@jupyter-widgets/controls",
      "model_module_version": "1.5.0",
      "model_name": "DescriptionStyleModel",
      "state": {
       "_model_module": "@jupyter-widgets/controls",
       "_model_module_version": "1.5.0",
       "_model_name": "DescriptionStyleModel",
       "_view_count": null,
       "_view_module": "@jupyter-widgets/base",
       "_view_module_version": "1.2.0",
       "_view_name": "StyleView",
       "description_width": ""
      }
     },
     "32eef5ba8f4a42abae5a026ce2ee2296": {
      "model_module": "@jupyter-widgets/controls",
      "model_module_version": "1.5.0",
      "model_name": "DescriptionStyleModel",
      "state": {
       "_model_module": "@jupyter-widgets/controls",
       "_model_module_version": "1.5.0",
       "_model_name": "DescriptionStyleModel",
       "_view_count": null,
       "_view_module": "@jupyter-widgets/base",
       "_view_module_version": "1.2.0",
       "_view_name": "StyleView",
       "description_width": ""
      }
     },
     "3eb57ef189ae407c8c553baf5511b332": {
      "model_module": "@jupyter-widgets/controls",
      "model_module_version": "1.5.0",
      "model_name": "HTMLModel",
      "state": {
       "_dom_classes": [],
       "_model_module": "@jupyter-widgets/controls",
       "_model_module_version": "1.5.0",
       "_model_name": "HTMLModel",
       "_view_count": null,
       "_view_module": "@jupyter-widgets/controls",
       "_view_module_version": "1.5.0",
       "_view_name": "HTMLView",
       "description": "",
       "description_tooltip": null,
       "layout": "IPY_MODEL_49f32e28b602488696c619a6d4bfec40",
       "placeholder": "​",
       "style": "IPY_MODEL_53c545848357456692fd834c9f0cb2d1",
       "value": "<h3> Top Agencies using Active Transportation Projects </h3>"
      }
     },
     "426ce57b94934dc0ad5f8143f7aa6472": {
      "model_module": "@jupyter-widgets/controls",
      "model_module_version": "1.5.0",
      "model_name": "HTMLModel",
      "state": {
       "_dom_classes": [],
       "_model_module": "@jupyter-widgets/controls",
       "_model_module_version": "1.5.0",
       "_model_name": "HTMLModel",
       "_view_count": null,
       "_view_module": "@jupyter-widgets/controls",
       "_view_module_version": "1.5.0",
       "_view_name": "HTMLView",
       "description": "",
       "description_tooltip": null,
       "layout": "IPY_MODEL_5697ee26d4f044d28179d2163e46834c",
       "placeholder": "​",
       "style": "IPY_MODEL_ba0f3ea676ca4eb791a04350322e3a0b",
       "value": "<h3> Top Agencies using Transit Projects </h3>"
      }
     },
     "4639b7ee76a64eb3aefad1b9dc6bdd7d": {
      "model_module": "@jupyter-widgets/base",
      "model_module_version": "1.2.0",
      "model_name": "LayoutModel",
      "state": {
       "_model_module": "@jupyter-widgets/base",
       "_model_module_version": "1.2.0",
       "_model_name": "LayoutModel",
       "_view_count": null,
       "_view_module": "@jupyter-widgets/base",
       "_view_module_version": "1.2.0",
       "_view_name": "LayoutView",
       "align_content": null,
       "align_items": null,
       "align_self": null,
       "border": null,
       "bottom": null,
       "display": null,
       "flex": null,
       "flex_flow": null,
       "grid_area": null,
       "grid_auto_columns": null,
       "grid_auto_flow": null,
       "grid_auto_rows": null,
       "grid_column": null,
       "grid_gap": null,
       "grid_row": null,
       "grid_template_areas": null,
       "grid_template_columns": null,
       "grid_template_rows": null,
       "height": null,
       "justify_content": null,
       "justify_items": null,
       "left": null,
       "margin": null,
       "max_height": null,
       "max_width": null,
       "min_height": null,
       "min_width": null,
       "object_fit": null,
       "object_position": null,
       "order": null,
       "overflow": null,
       "overflow_x": null,
       "overflow_y": null,
       "padding": null,
       "right": null,
       "top": null,
       "visibility": null,
       "width": null
      }
     },
     "484b467eb5cc4a8fa20e4c5eb7c59cb9": {
      "model_module": "@jupyter-widgets/controls",
      "model_module_version": "1.5.0",
      "model_name": "DescriptionStyleModel",
      "state": {
       "_model_module": "@jupyter-widgets/controls",
       "_model_module_version": "1.5.0",
       "_model_name": "DescriptionStyleModel",
       "_view_count": null,
       "_view_module": "@jupyter-widgets/base",
       "_view_module_version": "1.2.0",
       "_view_name": "StyleView",
       "description_width": ""
      }
     },
     "49f32e28b602488696c619a6d4bfec40": {
      "model_module": "@jupyter-widgets/base",
      "model_module_version": "1.2.0",
      "model_name": "LayoutModel",
      "state": {
       "_model_module": "@jupyter-widgets/base",
       "_model_module_version": "1.2.0",
       "_model_name": "LayoutModel",
       "_view_count": null,
       "_view_module": "@jupyter-widgets/base",
       "_view_module_version": "1.2.0",
       "_view_name": "LayoutView",
       "align_content": null,
       "align_items": null,
       "align_self": null,
       "border": null,
       "bottom": null,
       "display": null,
       "flex": null,
       "flex_flow": null,
       "grid_area": null,
       "grid_auto_columns": null,
       "grid_auto_flow": null,
       "grid_auto_rows": null,
       "grid_column": null,
       "grid_gap": null,
       "grid_row": null,
       "grid_template_areas": null,
       "grid_template_columns": null,
       "grid_template_rows": null,
       "height": null,
       "justify_content": null,
       "justify_items": null,
       "left": null,
       "margin": null,
       "max_height": null,
       "max_width": null,
       "min_height": null,
       "min_width": null,
       "object_fit": null,
       "object_position": null,
       "order": null,
       "overflow": null,
       "overflow_x": null,
       "overflow_y": null,
       "padding": null,
       "right": null,
       "top": null,
       "visibility": null,
       "width": null
      }
     },
     "4d58570dfc674b89baa53c0757d3ee93": {
      "model_module": "@jupyter-widgets/base",
      "model_module_version": "1.2.0",
      "model_name": "LayoutModel",
      "state": {
       "_model_module": "@jupyter-widgets/base",
       "_model_module_version": "1.2.0",
       "_model_name": "LayoutModel",
       "_view_count": null,
       "_view_module": "@jupyter-widgets/base",
       "_view_module_version": "1.2.0",
       "_view_name": "LayoutView",
       "align_content": null,
       "align_items": null,
       "align_self": null,
       "border": null,
       "bottom": null,
       "display": null,
       "flex": null,
       "flex_flow": null,
       "grid_area": null,
       "grid_auto_columns": null,
       "grid_auto_flow": null,
       "grid_auto_rows": null,
       "grid_column": null,
       "grid_gap": null,
       "grid_row": null,
       "grid_template_areas": null,
       "grid_template_columns": null,
       "grid_template_rows": null,
       "height": null,
       "justify_content": null,
       "justify_items": null,
       "left": null,
       "margin": null,
       "max_height": null,
       "max_width": null,
       "min_height": null,
       "min_width": null,
       "object_fit": null,
       "object_position": null,
       "order": null,
       "overflow": null,
       "overflow_x": null,
       "overflow_y": null,
       "padding": null,
       "right": null,
       "top": null,
       "visibility": null,
       "width": null
      }
     },
     "4df56de11ebc4f63abd40afc6275547d": {
      "model_module": "@jupyter-widgets/controls",
      "model_module_version": "1.5.0",
      "model_name": "HTMLModel",
      "state": {
       "_dom_classes": [],
       "_model_module": "@jupyter-widgets/controls",
       "_model_module_version": "1.5.0",
       "_model_name": "HTMLModel",
       "_view_count": null,
       "_view_module": "@jupyter-widgets/controls",
       "_view_module_version": "1.5.0",
       "_view_name": "HTMLView",
       "description": "",
       "description_tooltip": null,
       "layout": "IPY_MODEL_eeb4073732514b52a93e51e1893c0d4e",
       "placeholder": "​",
       "style": "IPY_MODEL_c3f02ef42e0a4fe0b3e4b26edf1e61e8",
       "value": "<style type=\"text/css\">\n#T_71778 th {\n  text-align: center;\n}\n#T_71778_row0_col0, #T_71778_row0_col1, #T_71778_row0_col2, #T_71778_row1_col0, #T_71778_row1_col1, #T_71778_row1_col2, #T_71778_row2_col0, #T_71778_row2_col1, #T_71778_row2_col2, #T_71778_row3_col0, #T_71778_row3_col1, #T_71778_row3_col2 {\n  text-align: center;\n}\n</style>\n<table id=\"T_71778\">\n  <thead>\n    <tr>\n      <th id=\"T_71778_level0_col0\" class=\"col_heading level0 col0\" >Agency</th>\n      <th id=\"T_71778_level0_col1\" class=\"col_heading level0 col1\" >Congestion Relief Obligations</th>\n      <th id=\"T_71778_level0_col2\" class=\"col_heading level0 col2\" >Percent Of Category</th>\n    </tr>\n  </thead>\n  <tbody>\n    <tr>\n      <td id=\"T_71778_row0_col0\" class=\"data row0 col0\" >Association Of Monterey Bay Area Governments</td>\n      <td id=\"T_71778_row0_col1\" class=\"data row0 col1\" >1</td>\n      <td id=\"T_71778_row0_col2\" class=\"data row0 col2\" >$25.00</td>\n    </tr>\n    <tr>\n      <td id=\"T_71778_row1_col0\" class=\"data row1 col0\" >Council of San Benito County Governments</td>\n      <td id=\"T_71778_row1_col1\" class=\"data row1 col1\" >1</td>\n      <td id=\"T_71778_row1_col2\" class=\"data row1 col2\" >$25.00</td>\n    </tr>\n    <tr>\n      <td id=\"T_71778_row2_col0\" class=\"data row2 col0\" >San Luis Obispo Council of Governments</td>\n      <td id=\"T_71778_row2_col1\" class=\"data row2 col1\" >1</td>\n      <td id=\"T_71778_row2_col2\" class=\"data row2 col2\" >$25.00</td>\n    </tr>\n    <tr>\n      <td id=\"T_71778_row3_col0\" class=\"data row3 col0\" >Santa Barbara County Association of Governments</td>\n      <td id=\"T_71778_row3_col1\" class=\"data row3 col1\" >1</td>\n      <td id=\"T_71778_row3_col2\" class=\"data row3 col2\" >$25.00</td>\n    </tr>\n  </tbody>\n</table>\n"
      }
     },
     "521336dff5e9478982a70e8f3905f8e3": {
      "model_module": "@jupyter-widgets/controls",
      "model_module_version": "1.5.0",
      "model_name": "HTMLModel",
      "state": {
       "_dom_classes": [],
       "_model_module": "@jupyter-widgets/controls",
       "_model_module_version": "1.5.0",
       "_model_name": "HTMLModel",
       "_view_count": null,
       "_view_module": "@jupyter-widgets/controls",
       "_view_module_version": "1.5.0",
       "_view_name": "HTMLView",
       "description": "",
       "description_tooltip": null,
       "layout": "IPY_MODEL_c381a7276ab44e0f8ab733a183b82c4c",
       "placeholder": "​",
       "style": "IPY_MODEL_889ec947579044c78f9739886afb6c91",
       "value": "<h3> Top Agencies using Bridge Projects </h3>"
      }
     },
     "53c545848357456692fd834c9f0cb2d1": {
      "model_module": "@jupyter-widgets/controls",
      "model_module_version": "1.5.0",
      "model_name": "DescriptionStyleModel",
      "state": {
       "_model_module": "@jupyter-widgets/controls",
       "_model_module_version": "1.5.0",
       "_model_name": "DescriptionStyleModel",
       "_view_count": null,
       "_view_module": "@jupyter-widgets/base",
       "_view_module_version": "1.2.0",
       "_view_name": "StyleView",
       "description_width": ""
      }
     },
     "5697ee26d4f044d28179d2163e46834c": {
      "model_module": "@jupyter-widgets/base",
      "model_module_version": "1.2.0",
      "model_name": "LayoutModel",
      "state": {
       "_model_module": "@jupyter-widgets/base",
       "_model_module_version": "1.2.0",
       "_model_name": "LayoutModel",
       "_view_count": null,
       "_view_module": "@jupyter-widgets/base",
       "_view_module_version": "1.2.0",
       "_view_name": "LayoutView",
       "align_content": null,
       "align_items": null,
       "align_self": null,
       "border": null,
       "bottom": null,
       "display": null,
       "flex": null,
       "flex_flow": null,
       "grid_area": null,
       "grid_auto_columns": null,
       "grid_auto_flow": null,
       "grid_auto_rows": null,
       "grid_column": null,
       "grid_gap": null,
       "grid_row": null,
       "grid_template_areas": null,
       "grid_template_columns": null,
       "grid_template_rows": null,
       "height": null,
       "justify_content": null,
       "justify_items": null,
       "left": null,
       "margin": null,
       "max_height": null,
       "max_width": null,
       "min_height": null,
       "min_width": null,
       "object_fit": null,
       "object_position": null,
       "order": null,
       "overflow": null,
       "overflow_x": null,
       "overflow_y": null,
       "padding": null,
       "right": null,
       "top": null,
       "visibility": null,
       "width": null
      }
     },
     "588366a264a24e03bf11470c2c59cd69": {
      "model_module": "@jupyter-widgets/base",
      "model_module_version": "1.2.0",
      "model_name": "LayoutModel",
      "state": {
       "_model_module": "@jupyter-widgets/base",
       "_model_module_version": "1.2.0",
       "_model_name": "LayoutModel",
       "_view_count": null,
       "_view_module": "@jupyter-widgets/base",
       "_view_module_version": "1.2.0",
       "_view_name": "LayoutView",
       "align_content": null,
       "align_items": null,
       "align_self": null,
       "border": null,
       "bottom": null,
       "display": null,
       "flex": null,
       "flex_flow": null,
       "grid_area": null,
       "grid_auto_columns": null,
       "grid_auto_flow": null,
       "grid_auto_rows": null,
       "grid_column": null,
       "grid_gap": null,
       "grid_row": null,
       "grid_template_areas": null,
       "grid_template_columns": null,
       "grid_template_rows": null,
       "height": null,
       "justify_content": null,
       "justify_items": null,
       "left": null,
       "margin": null,
       "max_height": null,
       "max_width": null,
       "min_height": null,
       "min_width": null,
       "object_fit": null,
       "object_position": null,
       "order": null,
       "overflow": null,
       "overflow_x": null,
       "overflow_y": null,
       "padding": null,
       "right": null,
       "top": null,
       "visibility": null,
       "width": null
      }
     },
     "5b43e22710e846bba6f1ee066f34db6c": {
      "model_module": "@jupyter-widgets/controls",
      "model_module_version": "1.5.0",
      "model_name": "HTMLModel",
      "state": {
       "_dom_classes": [],
       "_model_module": "@jupyter-widgets/controls",
       "_model_module_version": "1.5.0",
       "_model_name": "HTMLModel",
       "_view_count": null,
       "_view_module": "@jupyter-widgets/controls",
       "_view_module_version": "1.5.0",
       "_view_name": "HTMLView",
       "description": "",
       "description_tooltip": null,
       "layout": "IPY_MODEL_4d58570dfc674b89baa53c0757d3ee93",
       "placeholder": "​",
       "style": "IPY_MODEL_484b467eb5cc4a8fa20e4c5eb7c59cb9",
       "value": "<h3> Top Agencies using Congestion Relief Projects </h3>"
      }
     },
     "6a435a88dab346a0bdea37953e0bad03": {
      "model_module": "@jupyter-widgets/controls",
      "model_module_version": "1.5.0",
      "model_name": "DescriptionStyleModel",
      "state": {
       "_model_module": "@jupyter-widgets/controls",
       "_model_module_version": "1.5.0",
       "_model_name": "DescriptionStyleModel",
       "_view_count": null,
       "_view_module": "@jupyter-widgets/base",
       "_view_module_version": "1.2.0",
       "_view_name": "StyleView",
       "description_width": ""
      }
     },
     "706a9f34974a47c3b0b944435ad08ac5": {
      "model_module": "@jupyter-widgets/controls",
      "model_module_version": "1.5.0",
      "model_name": "DescriptionStyleModel",
      "state": {
       "_model_module": "@jupyter-widgets/controls",
       "_model_module_version": "1.5.0",
       "_model_name": "DescriptionStyleModel",
       "_view_count": null,
       "_view_module": "@jupyter-widgets/base",
       "_view_module_version": "1.2.0",
       "_view_name": "StyleView",
       "description_width": ""
      }
     },
     "71a0d1cfe34a409798cb146defb88d17": {
      "model_module": "@jupyter-widgets/base",
      "model_module_version": "1.2.0",
      "model_name": "LayoutModel",
      "state": {
       "_model_module": "@jupyter-widgets/base",
       "_model_module_version": "1.2.0",
       "_model_name": "LayoutModel",
       "_view_count": null,
       "_view_module": "@jupyter-widgets/base",
       "_view_module_version": "1.2.0",
       "_view_name": "LayoutView",
       "align_content": null,
       "align_items": null,
       "align_self": null,
       "border": null,
       "bottom": null,
       "display": null,
       "flex": null,
       "flex_flow": null,
       "grid_area": null,
       "grid_auto_columns": null,
       "grid_auto_flow": null,
       "grid_auto_rows": null,
       "grid_column": null,
       "grid_gap": null,
       "grid_row": null,
       "grid_template_areas": null,
       "grid_template_columns": null,
       "grid_template_rows": null,
       "height": null,
       "justify_content": null,
       "justify_items": null,
       "left": null,
       "margin": null,
       "max_height": null,
       "max_width": null,
       "min_height": null,
       "min_width": null,
       "object_fit": null,
       "object_position": null,
       "order": null,
       "overflow": null,
       "overflow_x": null,
       "overflow_y": null,
       "padding": null,
       "right": null,
       "top": null,
       "visibility": null,
       "width": null
      }
     },
     "774abead7ed047c5a903fa3edafa885c": {
      "model_module": "@jupyter-widgets/controls",
      "model_module_version": "1.5.0",
      "model_name": "DescriptionStyleModel",
      "state": {
       "_model_module": "@jupyter-widgets/controls",
       "_model_module_version": "1.5.0",
       "_model_name": "DescriptionStyleModel",
       "_view_count": null,
       "_view_module": "@jupyter-widgets/base",
       "_view_module_version": "1.2.0",
       "_view_name": "StyleView",
       "description_width": ""
      }
     },
     "7a5b2fe087ed48608d043ddba3ea4ffb": {
      "model_module": "@jupyter-widgets/base",
      "model_module_version": "1.2.0",
      "model_name": "LayoutModel",
      "state": {
       "_model_module": "@jupyter-widgets/base",
       "_model_module_version": "1.2.0",
       "_model_name": "LayoutModel",
       "_view_count": null,
       "_view_module": "@jupyter-widgets/base",
       "_view_module_version": "1.2.0",
       "_view_name": "LayoutView",
       "align_content": null,
       "align_items": null,
       "align_self": null,
       "border": null,
       "bottom": null,
       "display": null,
       "flex": null,
       "flex_flow": null,
       "grid_area": null,
       "grid_auto_columns": null,
       "grid_auto_flow": null,
       "grid_auto_rows": null,
       "grid_column": null,
       "grid_gap": null,
       "grid_row": null,
       "grid_template_areas": null,
       "grid_template_columns": null,
       "grid_template_rows": null,
       "height": null,
       "justify_content": null,
       "justify_items": null,
       "left": null,
       "margin": null,
       "max_height": null,
       "max_width": null,
       "min_height": null,
       "min_width": null,
       "object_fit": null,
       "object_position": null,
       "order": null,
       "overflow": null,
       "overflow_x": null,
       "overflow_y": null,
       "padding": null,
       "right": null,
       "top": null,
       "visibility": null,
       "width": null
      }
     },
     "7f1d25aee6a746378ad84ca5e9988ed9": {
      "model_module": "@jupyter-widgets/base",
      "model_module_version": "1.2.0",
      "model_name": "LayoutModel",
      "state": {
       "_model_module": "@jupyter-widgets/base",
       "_model_module_version": "1.2.0",
       "_model_name": "LayoutModel",
       "_view_count": null,
       "_view_module": "@jupyter-widgets/base",
       "_view_module_version": "1.2.0",
       "_view_name": "LayoutView",
       "align_content": null,
       "align_items": null,
       "align_self": null,
       "border": null,
       "bottom": null,
       "display": null,
       "flex": null,
       "flex_flow": null,
       "grid_area": null,
       "grid_auto_columns": null,
       "grid_auto_flow": null,
       "grid_auto_rows": null,
       "grid_column": null,
       "grid_gap": null,
       "grid_row": null,
       "grid_template_areas": null,
       "grid_template_columns": null,
       "grid_template_rows": null,
       "height": null,
       "justify_content": null,
       "justify_items": null,
       "left": null,
       "margin": null,
       "max_height": null,
       "max_width": null,
       "min_height": null,
       "min_width": null,
       "object_fit": null,
       "object_position": null,
       "order": null,
       "overflow": null,
       "overflow_x": null,
       "overflow_y": null,
       "padding": null,
       "right": null,
       "top": null,
       "visibility": null,
       "width": null
      }
     },
     "889ec947579044c78f9739886afb6c91": {
      "model_module": "@jupyter-widgets/controls",
      "model_module_version": "1.5.0",
      "model_name": "DescriptionStyleModel",
      "state": {
       "_model_module": "@jupyter-widgets/controls",
       "_model_module_version": "1.5.0",
       "_model_name": "DescriptionStyleModel",
       "_view_count": null,
       "_view_module": "@jupyter-widgets/base",
       "_view_module_version": "1.2.0",
       "_view_name": "StyleView",
       "description_width": ""
      }
     },
     "8bdcc367c1ce480592aa4ba1ad25db23": {
      "model_module": "@jupyter-widgets/controls",
      "model_module_version": "1.5.0",
      "model_name": "HTMLModel",
      "state": {
       "_dom_classes": [],
       "_model_module": "@jupyter-widgets/controls",
       "_model_module_version": "1.5.0",
       "_model_name": "HTMLModel",
       "_view_count": null,
       "_view_module": "@jupyter-widgets/controls",
       "_view_module_version": "1.5.0",
       "_view_name": "HTMLView",
       "description": "",
       "description_tooltip": null,
       "layout": "IPY_MODEL_d9a51397abf94ae79269a7e97a5c4550",
       "placeholder": "​",
       "style": "IPY_MODEL_eea13193336242499890f6f546b9aabc",
       "value": "<style type=\"text/css\">\n#T_36691 th {\n  text-align: center;\n}\n#T_36691_row0_col0, #T_36691_row0_col1, #T_36691_row0_col2, #T_36691_row1_col0, #T_36691_row1_col1, #T_36691_row1_col2, #T_36691_row2_col0, #T_36691_row2_col1, #T_36691_row2_col2, #T_36691_row3_col0, #T_36691_row3_col1, #T_36691_row3_col2, #T_36691_row4_col0, #T_36691_row4_col1, #T_36691_row4_col2 {\n  text-align: center;\n}\n</style>\n<table id=\"T_36691\">\n  <thead>\n    <tr>\n      <th id=\"T_36691_level0_col0\" class=\"col_heading level0 col0\" >Agency</th>\n      <th id=\"T_36691_level0_col1\" class=\"col_heading level0 col1\" >Street Obligations</th>\n      <th id=\"T_36691_level0_col2\" class=\"col_heading level0 col2\" >Percent Of Category</th>\n    </tr>\n  </thead>\n  <tbody>\n    <tr>\n      <td id=\"T_36691_row0_col0\" class=\"data row0 col0\" >Santa Cruz County</td>\n      <td id=\"T_36691_row0_col1\" class=\"data row0 col1\" >305</td>\n      <td id=\"T_36691_row0_col2\" class=\"data row0 col2\" >$55.15</td>\n    </tr>\n    <tr>\n      <td id=\"T_36691_row1_col0\" class=\"data row1 col0\" >Santa Barbara County</td>\n      <td id=\"T_36691_row1_col1\" class=\"data row1 col1\" >39</td>\n      <td id=\"T_36691_row1_col2\" class=\"data row1 col2\" >$7.05</td>\n    </tr>\n    <tr>\n      <td id=\"T_36691_row2_col0\" class=\"data row2 col0\" >San Luis Obispo County</td>\n      <td id=\"T_36691_row2_col1\" class=\"data row2 col1\" >32</td>\n      <td id=\"T_36691_row2_col2\" class=\"data row2 col2\" >$5.79</td>\n    </tr>\n    <tr>\n      <td id=\"T_36691_row3_col0\" class=\"data row3 col0\" >Santa Barbara</td>\n      <td id=\"T_36691_row3_col1\" class=\"data row3 col1\" >27</td>\n      <td id=\"T_36691_row3_col2\" class=\"data row3 col2\" >$4.88</td>\n    </tr>\n    <tr>\n      <td id=\"T_36691_row4_col0\" class=\"data row4 col0\" >Salinas</td>\n      <td id=\"T_36691_row4_col1\" class=\"data row4 col1\" >22</td>\n      <td id=\"T_36691_row4_col2\" class=\"data row4 col2\" >$3.98</td>\n    </tr>\n  </tbody>\n</table>\n"
      }
     },
     "93af831636cf4c8ea40e78cd51d334c0": {
      "model_module": "@jupyter-widgets/controls",
      "model_module_version": "1.5.0",
      "model_name": "HTMLModel",
      "state": {
       "_dom_classes": [],
       "_model_module": "@jupyter-widgets/controls",
       "_model_module_version": "1.5.0",
       "_model_name": "HTMLModel",
       "_view_count": null,
       "_view_module": "@jupyter-widgets/controls",
       "_view_module_version": "1.5.0",
       "_view_name": "HTMLView",
       "description": "",
       "description_tooltip": null,
       "layout": "IPY_MODEL_588366a264a24e03bf11470c2c59cd69",
       "placeholder": "​",
       "style": "IPY_MODEL_706a9f34974a47c3b0b944435ad08ac5",
       "value": "<style type=\"text/css\">\n#T_e75e0 th {\n  text-align: center;\n}\n#T_e75e0_row0_col0, #T_e75e0_row0_col1, #T_e75e0_row0_col2, #T_e75e0_row1_col0, #T_e75e0_row1_col1, #T_e75e0_row1_col2 {\n  text-align: center;\n}\n</style>\n<table id=\"T_e75e0\">\n  <thead>\n    <tr>\n      <th id=\"T_e75e0_level0_col0\" class=\"col_heading level0 col0\" >Agency</th>\n      <th id=\"T_e75e0_level0_col1\" class=\"col_heading level0 col1\" >Freeway Obligations</th>\n      <th id=\"T_e75e0_level0_col2\" class=\"col_heading level0 col2\" >Percent Of Category</th>\n    </tr>\n  </thead>\n  <tbody>\n    <tr>\n      <td id=\"T_e75e0_row0_col0\" class=\"data row0 col0\" >San Luis Obispo</td>\n      <td id=\"T_e75e0_row0_col1\" class=\"data row0 col1\" >2</td>\n      <td id=\"T_e75e0_row0_col2\" class=\"data row0 col2\" >$50.00</td>\n    </tr>\n    <tr>\n      <td id=\"T_e75e0_row1_col0\" class=\"data row1 col0\" >Santa Cruz County Regional Transportation Commission</td>\n      <td id=\"T_e75e0_row1_col1\" class=\"data row1 col1\" >2</td>\n      <td id=\"T_e75e0_row1_col2\" class=\"data row1 col2\" >$50.00</td>\n    </tr>\n  </tbody>\n</table>\n"
      }
     },
     "a5642aa8915e4ccc8b2f2ba8e262acd9": {
      "model_module": "@jupyter-widgets/controls",
      "model_module_version": "1.5.0",
      "model_name": "DescriptionStyleModel",
      "state": {
       "_model_module": "@jupyter-widgets/controls",
       "_model_module_version": "1.5.0",
       "_model_name": "DescriptionStyleModel",
       "_view_count": null,
       "_view_module": "@jupyter-widgets/base",
       "_view_module_version": "1.2.0",
       "_view_name": "StyleView",
       "description_width": ""
      }
     },
     "a6cb40bd62ab42f69cc856b6712a21be": {
      "model_module": "@jupyter-widgets/controls",
      "model_module_version": "1.5.0",
      "model_name": "HTMLModel",
      "state": {
       "_dom_classes": [],
       "_model_module": "@jupyter-widgets/controls",
       "_model_module_version": "1.5.0",
       "_model_name": "HTMLModel",
       "_view_count": null,
       "_view_module": "@jupyter-widgets/controls",
       "_view_module_version": "1.5.0",
       "_view_name": "HTMLView",
       "description": "",
       "description_tooltip": null,
       "layout": "IPY_MODEL_7f1d25aee6a746378ad84ca5e9988ed9",
       "placeholder": "​",
       "style": "IPY_MODEL_a5642aa8915e4ccc8b2f2ba8e262acd9",
       "value": "<h3> Top Agencies using Infrastructure & Emergency Relief Projects </h3>"
      }
     },
     "ae4c47859abb4d24bab510a0e47b8cfd": {
      "model_module": "@jupyter-widgets/controls",
      "model_module_version": "1.5.0",
      "model_name": "HTMLModel",
      "state": {
       "_dom_classes": [],
       "_model_module": "@jupyter-widgets/controls",
       "_model_module_version": "1.5.0",
       "_model_name": "HTMLModel",
       "_view_count": null,
       "_view_module": "@jupyter-widgets/controls",
       "_view_module_version": "1.5.0",
       "_view_name": "HTMLView",
       "description": "",
       "description_tooltip": null,
       "layout": "IPY_MODEL_4639b7ee76a64eb3aefad1b9dc6bdd7d",
       "placeholder": "​",
       "style": "IPY_MODEL_32eef5ba8f4a42abae5a026ce2ee2296",
       "value": "<style type=\"text/css\">\n#T_2ab59 th {\n  text-align: center;\n}\n#T_2ab59_row0_col0, #T_2ab59_row0_col1, #T_2ab59_row0_col2, #T_2ab59_row1_col0, #T_2ab59_row1_col1, #T_2ab59_row1_col2, #T_2ab59_row2_col0, #T_2ab59_row2_col1, #T_2ab59_row2_col2 {\n  text-align: center;\n}\n</style>\n<table id=\"T_2ab59\">\n  <thead>\n    <tr>\n      <th id=\"T_2ab59_level0_col0\" class=\"col_heading level0 col0\" >Agency</th>\n      <th id=\"T_2ab59_level0_col1\" class=\"col_heading level0 col1\" >Transit Obligations</th>\n      <th id=\"T_2ab59_level0_col2\" class=\"col_heading level0 col2\" >Percent Of Category</th>\n    </tr>\n  </thead>\n  <tbody>\n    <tr>\n      <td id=\"T_2ab59_row0_col0\" class=\"data row0 col0\" >Grover Beach</td>\n      <td id=\"T_2ab59_row0_col1\" class=\"data row0 col1\" >3</td>\n      <td id=\"T_2ab59_row0_col2\" class=\"data row0 col2\" >$50.00</td>\n    </tr>\n    <tr>\n      <td id=\"T_2ab59_row1_col0\" class=\"data row1 col0\" >San Luis Obispo</td>\n      <td id=\"T_2ab59_row1_col1\" class=\"data row1 col1\" >2</td>\n      <td id=\"T_2ab59_row1_col2\" class=\"data row1 col2\" >$33.33</td>\n    </tr>\n    <tr>\n      <td id=\"T_2ab59_row2_col0\" class=\"data row2 col0\" >San Luis Obispo County</td>\n      <td id=\"T_2ab59_row2_col1\" class=\"data row2 col1\" >1</td>\n      <td id=\"T_2ab59_row2_col2\" class=\"data row2 col2\" >$16.67</td>\n    </tr>\n  </tbody>\n</table>\n"
      }
     },
     "aecbb288cd514e30887522718aabcdb4": {
      "model_module": "@jupyter-widgets/controls",
      "model_module_version": "1.5.0",
      "model_name": "HTMLModel",
      "state": {
       "_dom_classes": [],
       "_model_module": "@jupyter-widgets/controls",
       "_model_module_version": "1.5.0",
       "_model_name": "HTMLModel",
       "_view_count": null,
       "_view_module": "@jupyter-widgets/controls",
       "_view_module_version": "1.5.0",
       "_view_name": "HTMLView",
       "description": "",
       "description_tooltip": null,
       "layout": "IPY_MODEL_7a5b2fe087ed48608d043ddba3ea4ffb",
       "placeholder": "​",
       "style": "IPY_MODEL_24e35c0bae1f4577b3d243ee080f8fd3",
       "value": "<h3> Top Agencies using Freeway Projects </h3>"
      }
     },
     "b611e54b1c1e411ebad3c72ec2e39cbb": {
      "model_module": "@jupyter-widgets/controls",
      "model_module_version": "1.5.0",
      "model_name": "DescriptionStyleModel",
      "state": {
       "_model_module": "@jupyter-widgets/controls",
       "_model_module_version": "1.5.0",
       "_model_name": "DescriptionStyleModel",
       "_view_count": null,
       "_view_module": "@jupyter-widgets/base",
       "_view_module_version": "1.2.0",
       "_view_name": "StyleView",
       "description_width": ""
      }
     },
     "ba0f3ea676ca4eb791a04350322e3a0b": {
      "model_module": "@jupyter-widgets/controls",
      "model_module_version": "1.5.0",
      "model_name": "DescriptionStyleModel",
      "state": {
       "_model_module": "@jupyter-widgets/controls",
       "_model_module_version": "1.5.0",
       "_model_name": "DescriptionStyleModel",
       "_view_count": null,
       "_view_module": "@jupyter-widgets/base",
       "_view_module_version": "1.2.0",
       "_view_name": "StyleView",
       "description_width": ""
      }
     },
     "c381a7276ab44e0f8ab733a183b82c4c": {
      "model_module": "@jupyter-widgets/base",
      "model_module_version": "1.2.0",
      "model_name": "LayoutModel",
      "state": {
       "_model_module": "@jupyter-widgets/base",
       "_model_module_version": "1.2.0",
       "_model_name": "LayoutModel",
       "_view_count": null,
       "_view_module": "@jupyter-widgets/base",
       "_view_module_version": "1.2.0",
       "_view_name": "LayoutView",
       "align_content": null,
       "align_items": null,
       "align_self": null,
       "border": null,
       "bottom": null,
       "display": null,
       "flex": null,
       "flex_flow": null,
       "grid_area": null,
       "grid_auto_columns": null,
       "grid_auto_flow": null,
       "grid_auto_rows": null,
       "grid_column": null,
       "grid_gap": null,
       "grid_row": null,
       "grid_template_areas": null,
       "grid_template_columns": null,
       "grid_template_rows": null,
       "height": null,
       "justify_content": null,
       "justify_items": null,
       "left": null,
       "margin": null,
       "max_height": null,
       "max_width": null,
       "min_height": null,
       "min_width": null,
       "object_fit": null,
       "object_position": null,
       "order": null,
       "overflow": null,
       "overflow_x": null,
       "overflow_y": null,
       "padding": null,
       "right": null,
       "top": null,
       "visibility": null,
       "width": null
      }
     },
     "c3f02ef42e0a4fe0b3e4b26edf1e61e8": {
      "model_module": "@jupyter-widgets/controls",
      "model_module_version": "1.5.0",
      "model_name": "DescriptionStyleModel",
      "state": {
       "_model_module": "@jupyter-widgets/controls",
       "_model_module_version": "1.5.0",
       "_model_name": "DescriptionStyleModel",
       "_view_count": null,
       "_view_module": "@jupyter-widgets/base",
       "_view_module_version": "1.2.0",
       "_view_name": "StyleView",
       "description_width": ""
      }
     },
     "c55624cb95b2445aa962ad12a62c8018": {
      "model_module": "@jupyter-widgets/controls",
      "model_module_version": "1.5.0",
      "model_name": "HTMLModel",
      "state": {
       "_dom_classes": [],
       "_model_module": "@jupyter-widgets/controls",
       "_model_module_version": "1.5.0",
       "_model_name": "HTMLModel",
       "_view_count": null,
       "_view_module": "@jupyter-widgets/controls",
       "_view_module_version": "1.5.0",
       "_view_name": "HTMLView",
       "description": "",
       "description_tooltip": null,
       "layout": "IPY_MODEL_ddbd8f9b091e46c49b570f3e05ea8b34",
       "placeholder": "​",
       "style": "IPY_MODEL_eb5dbc7519ff47339977229f54d3b41c",
       "value": "<style type=\"text/css\">\n#T_68034 th {\n  text-align: center;\n}\n#T_68034_row0_col0, #T_68034_row0_col1, #T_68034_row0_col2, #T_68034_row1_col0, #T_68034_row1_col1, #T_68034_row1_col2, #T_68034_row2_col0, #T_68034_row2_col1, #T_68034_row2_col2, #T_68034_row3_col0, #T_68034_row3_col1, #T_68034_row3_col2, #T_68034_row4_col0, #T_68034_row4_col1, #T_68034_row4_col2 {\n  text-align: center;\n}\n</style>\n<table id=\"T_68034\">\n  <thead>\n    <tr>\n      <th id=\"T_68034_level0_col0\" class=\"col_heading level0 col0\" >Agency</th>\n      <th id=\"T_68034_level0_col1\" class=\"col_heading level0 col1\" >Infrastructure & Emergency Relief Obligations</th>\n      <th id=\"T_68034_level0_col2\" class=\"col_heading level0 col2\" >Percent Of Category</th>\n    </tr>\n  </thead>\n  <tbody>\n    <tr>\n      <td id=\"T_68034_row0_col0\" class=\"data row0 col0\" >Santa Cruz County</td>\n      <td id=\"T_68034_row0_col1\" class=\"data row0 col1\" >416</td>\n      <td id=\"T_68034_row0_col2\" class=\"data row0 col2\" >$41.31</td>\n    </tr>\n    <tr>\n      <td id=\"T_68034_row1_col0\" class=\"data row1 col0\" >Santa Barbara County</td>\n      <td id=\"T_68034_row1_col1\" class=\"data row1 col1\" >143</td>\n      <td id=\"T_68034_row1_col2\" class=\"data row1 col2\" >$14.20</td>\n    </tr>\n    <tr>\n      <td id=\"T_68034_row2_col0\" class=\"data row2 col0\" >San Luis Obispo County</td>\n      <td id=\"T_68034_row2_col1\" class=\"data row2 col1\" >105</td>\n      <td id=\"T_68034_row2_col2\" class=\"data row2 col2\" >$10.43</td>\n    </tr>\n    <tr>\n      <td id=\"T_68034_row3_col0\" class=\"data row3 col0\" >Monterey County</td>\n      <td id=\"T_68034_row3_col1\" class=\"data row3 col1\" >70</td>\n      <td id=\"T_68034_row3_col2\" class=\"data row3 col2\" >$6.95</td>\n    </tr>\n    <tr>\n      <td id=\"T_68034_row4_col0\" class=\"data row4 col0\" >Santa Barbara</td>\n      <td id=\"T_68034_row4_col1\" class=\"data row4 col1\" >67</td>\n      <td id=\"T_68034_row4_col2\" class=\"data row4 col2\" >$6.65</td>\n    </tr>\n  </tbody>\n</table>\n"
      }
     },
     "d2b2e826d7124436af036c802b9cffbe": {
      "model_module": "@jupyter-widgets/controls",
      "model_module_version": "1.5.0",
      "model_name": "HTMLModel",
      "state": {
       "_dom_classes": [],
       "_model_module": "@jupyter-widgets/controls",
       "_model_module_version": "1.5.0",
       "_model_name": "HTMLModel",
       "_view_count": null,
       "_view_module": "@jupyter-widgets/controls",
       "_view_module_version": "1.5.0",
       "_view_name": "HTMLView",
       "description": "",
       "description_tooltip": null,
       "layout": "IPY_MODEL_215e9f1ad2344460a2b34ff5145c6c89",
       "placeholder": "​",
       "style": "IPY_MODEL_6a435a88dab346a0bdea37953e0bad03",
       "value": "<style type=\"text/css\">\n#T_5e423 th {\n  text-align: center;\n}\n#T_5e423_row0_col0, #T_5e423_row0_col1, #T_5e423_row0_col2, #T_5e423_row1_col0, #T_5e423_row1_col1, #T_5e423_row1_col2, #T_5e423_row2_col0, #T_5e423_row2_col1, #T_5e423_row2_col2, #T_5e423_row3_col0, #T_5e423_row3_col1, #T_5e423_row3_col2, #T_5e423_row4_col0, #T_5e423_row4_col1, #T_5e423_row4_col2 {\n  text-align: center;\n}\n</style>\n<table id=\"T_5e423\">\n  <thead>\n    <tr>\n      <th id=\"T_5e423_level0_col0\" class=\"col_heading level0 col0\" >Agency</th>\n      <th id=\"T_5e423_level0_col1\" class=\"col_heading level0 col1\" >Active Transportation Obligations</th>\n      <th id=\"T_5e423_level0_col2\" class=\"col_heading level0 col2\" >Percent Of Category</th>\n    </tr>\n  </thead>\n  <tbody>\n    <tr>\n      <td id=\"T_5e423_row0_col0\" class=\"data row0 col0\" >Santa Barbara</td>\n      <td id=\"T_5e423_row0_col1\" class=\"data row0 col1\" >31</td>\n      <td id=\"T_5e423_row0_col2\" class=\"data row0 col2\" >$18.24</td>\n    </tr>\n    <tr>\n      <td id=\"T_5e423_row1_col0\" class=\"data row1 col0\" >Santa Cruz</td>\n      <td id=\"T_5e423_row1_col1\" class=\"data row1 col1\" >18</td>\n      <td id=\"T_5e423_row1_col2\" class=\"data row1 col2\" >$10.59</td>\n    </tr>\n    <tr>\n      <td id=\"T_5e423_row2_col0\" class=\"data row2 col0\" >San Luis Obispo County</td>\n      <td id=\"T_5e423_row2_col1\" class=\"data row2 col1\" >17</td>\n      <td id=\"T_5e423_row2_col2\" class=\"data row2 col2\" >$10.00</td>\n    </tr>\n    <tr>\n      <td id=\"T_5e423_row3_col0\" class=\"data row3 col0\" >Monterey County</td>\n      <td id=\"T_5e423_row3_col1\" class=\"data row3 col1\" >14</td>\n      <td id=\"T_5e423_row3_col2\" class=\"data row3 col2\" >$8.24</td>\n    </tr>\n    <tr>\n      <td id=\"T_5e423_row4_col0\" class=\"data row4 col0\" >Santa Cruz County</td>\n      <td id=\"T_5e423_row4_col1\" class=\"data row4 col1\" >12</td>\n      <td id=\"T_5e423_row4_col2\" class=\"data row4 col2\" >$7.06</td>\n    </tr>\n  </tbody>\n</table>\n"
      }
     },
     "d9a51397abf94ae79269a7e97a5c4550": {
      "model_module": "@jupyter-widgets/base",
      "model_module_version": "1.2.0",
      "model_name": "LayoutModel",
      "state": {
       "_model_module": "@jupyter-widgets/base",
       "_model_module_version": "1.2.0",
       "_model_name": "LayoutModel",
       "_view_count": null,
       "_view_module": "@jupyter-widgets/base",
       "_view_module_version": "1.2.0",
       "_view_name": "LayoutView",
       "align_content": null,
       "align_items": null,
       "align_self": null,
       "border": null,
       "bottom": null,
       "display": null,
       "flex": null,
       "flex_flow": null,
       "grid_area": null,
       "grid_auto_columns": null,
       "grid_auto_flow": null,
       "grid_auto_rows": null,
       "grid_column": null,
       "grid_gap": null,
       "grid_row": null,
       "grid_template_areas": null,
       "grid_template_columns": null,
       "grid_template_rows": null,
       "height": null,
       "justify_content": null,
       "justify_items": null,
       "left": null,
       "margin": null,
       "max_height": null,
       "max_width": null,
       "min_height": null,
       "min_width": null,
       "object_fit": null,
       "object_position": null,
       "order": null,
       "overflow": null,
       "overflow_x": null,
       "overflow_y": null,
       "padding": null,
       "right": null,
       "top": null,
       "visibility": null,
       "width": null
      }
     },
     "ddbd8f9b091e46c49b570f3e05ea8b34": {
      "model_module": "@jupyter-widgets/base",
      "model_module_version": "1.2.0",
      "model_name": "LayoutModel",
      "state": {
       "_model_module": "@jupyter-widgets/base",
       "_model_module_version": "1.2.0",
       "_model_name": "LayoutModel",
       "_view_count": null,
       "_view_module": "@jupyter-widgets/base",
       "_view_module_version": "1.2.0",
       "_view_name": "LayoutView",
       "align_content": null,
       "align_items": null,
       "align_self": null,
       "border": null,
       "bottom": null,
       "display": null,
       "flex": null,
       "flex_flow": null,
       "grid_area": null,
       "grid_auto_columns": null,
       "grid_auto_flow": null,
       "grid_auto_rows": null,
       "grid_column": null,
       "grid_gap": null,
       "grid_row": null,
       "grid_template_areas": null,
       "grid_template_columns": null,
       "grid_template_rows": null,
       "height": null,
       "justify_content": null,
       "justify_items": null,
       "left": null,
       "margin": null,
       "max_height": null,
       "max_width": null,
       "min_height": null,
       "min_width": null,
       "object_fit": null,
       "object_position": null,
       "order": null,
       "overflow": null,
       "overflow_x": null,
       "overflow_y": null,
       "padding": null,
       "right": null,
       "top": null,
       "visibility": null,
       "width": null
      }
     },
     "eb5dbc7519ff47339977229f54d3b41c": {
      "model_module": "@jupyter-widgets/controls",
      "model_module_version": "1.5.0",
      "model_name": "DescriptionStyleModel",
      "state": {
       "_model_module": "@jupyter-widgets/controls",
       "_model_module_version": "1.5.0",
       "_model_name": "DescriptionStyleModel",
       "_view_count": null,
       "_view_module": "@jupyter-widgets/base",
       "_view_module_version": "1.2.0",
       "_view_name": "StyleView",
       "description_width": ""
      }
     },
     "eea13193336242499890f6f546b9aabc": {
      "model_module": "@jupyter-widgets/controls",
      "model_module_version": "1.5.0",
      "model_name": "DescriptionStyleModel",
      "state": {
       "_model_module": "@jupyter-widgets/controls",
       "_model_module_version": "1.5.0",
       "_model_name": "DescriptionStyleModel",
       "_view_count": null,
       "_view_module": "@jupyter-widgets/base",
       "_view_module_version": "1.2.0",
       "_view_name": "StyleView",
       "description_width": ""
      }
     },
     "eeb4073732514b52a93e51e1893c0d4e": {
      "model_module": "@jupyter-widgets/base",
      "model_module_version": "1.2.0",
      "model_name": "LayoutModel",
      "state": {
       "_model_module": "@jupyter-widgets/base",
       "_model_module_version": "1.2.0",
       "_model_name": "LayoutModel",
       "_view_count": null,
       "_view_module": "@jupyter-widgets/base",
       "_view_module_version": "1.2.0",
       "_view_name": "LayoutView",
       "align_content": null,
       "align_items": null,
       "align_self": null,
       "border": null,
       "bottom": null,
       "display": null,
       "flex": null,
       "flex_flow": null,
       "grid_area": null,
       "grid_auto_columns": null,
       "grid_auto_flow": null,
       "grid_auto_rows": null,
       "grid_column": null,
       "grid_gap": null,
       "grid_row": null,
       "grid_template_areas": null,
       "grid_template_columns": null,
       "grid_template_rows": null,
       "height": null,
       "justify_content": null,
       "justify_items": null,
       "left": null,
       "margin": null,
       "max_height": null,
       "max_width": null,
       "min_height": null,
       "min_width": null,
       "object_fit": null,
       "object_position": null,
       "order": null,
       "overflow": null,
       "overflow_x": null,
       "overflow_y": null,
       "padding": null,
       "right": null,
       "top": null,
       "visibility": null,
       "width": null
      }
     },
     "fc28eca08f2e48c9844674490c2a1ed8": {
      "model_module": "@jupyter-widgets/base",
      "model_module_version": "1.2.0",
      "model_name": "LayoutModel",
      "state": {
       "_model_module": "@jupyter-widgets/base",
       "_model_module_version": "1.2.0",
       "_model_name": "LayoutModel",
       "_view_count": null,
       "_view_module": "@jupyter-widgets/base",
       "_view_module_version": "1.2.0",
       "_view_name": "LayoutView",
       "align_content": null,
       "align_items": null,
       "align_self": null,
       "border": null,
       "bottom": null,
       "display": null,
       "flex": null,
       "flex_flow": null,
       "grid_area": null,
       "grid_auto_columns": null,
       "grid_auto_flow": null,
       "grid_auto_rows": null,
       "grid_column": null,
       "grid_gap": null,
       "grid_row": null,
       "grid_template_areas": null,
       "grid_template_columns": null,
       "grid_template_rows": null,
       "height": null,
       "justify_content": null,
       "justify_items": null,
       "left": null,
       "margin": null,
       "max_height": null,
       "max_width": null,
       "min_height": null,
       "min_width": null,
       "object_fit": null,
       "object_position": null,
       "order": null,
       "overflow": null,
       "overflow_x": null,
       "overflow_y": null,
       "padding": null,
       "right": null,
       "top": null,
       "visibility": null,
       "width": null
      }
     }
    },
    "version_major": 2,
    "version_minor": 0
   }
  }
 },
 "nbformat": 4,
 "nbformat_minor": 5
}