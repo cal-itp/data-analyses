{
 "cells": [
  {
   "cell_type": "markdown",
   "id": "c52ac033",
   "metadata": {
    "papermill": {
     "duration": 0.024809,
     "end_time": "2022-05-31T21:50:30.081103",
     "exception": false,
     "start_time": "2022-05-31T21:50:30.056294",
     "status": "completed"
    },
    "pycharm": {
     "name": "#%% md\n"
    },
    "tags": []
   },
   "source": [
    "# **District 5 - San Luis Obispo**"
   ]
  },
  {
   "cell_type": "markdown",
   "id": "69a79097-e42c-4e22-aec5-62594d3f008f",
   "metadata": {
    "papermill": {
     "duration": 0.021798,
     "end_time": "2022-05-31T21:50:30.125810",
     "exception": false,
     "start_time": "2022-05-31T21:50:30.104012",
     "status": "completed"
    },
    "tags": []
   },
   "source": [
    "<hr style=\"height: 2px; background-color:#136C97; border: none\">\n"
   ]
  },
  {
   "cell_type": "markdown",
   "id": "178948e4-f2ee-4978-87a6-e2eb560b0feb",
   "metadata": {
    "papermill": {
     "duration": 0.020595,
     "end_time": "2022-05-31T21:50:30.167024",
     "exception": false,
     "start_time": "2022-05-31T21:50:30.146429",
     "status": "completed"
    },
    "tags": []
   },
   "source": [
    "How does funding for local agencies differ district to district? Using E-76 obligation data, we can gain insight to how agencies in District 5 use federal program funds, and help identify DLA‘s core customers."
   ]
  },
  {
   "cell_type": "code",
   "execution_count": 1,
   "id": "92c5c56a",
   "metadata": {
    "collapsed": false,
    "execution": {
     "iopub.execute_input": "2022-05-31T21:50:30.212461Z",
     "iopub.status.busy": "2022-05-31T21:50:30.211997Z",
     "iopub.status.idle": "2022-05-31T21:50:39.278746Z",
     "shell.execute_reply": "2022-05-31T21:50:39.277784Z"
    },
    "jupyter": {
     "source_hidden": true
    },
    "papermill": {
     "duration": 9.092732,
     "end_time": "2022-05-31T21:50:39.281313",
     "exception": false,
     "start_time": "2022-05-31T21:50:30.188581",
     "status": "completed"
    },
    "pycharm": {
     "name": "#%%\n"
    },
    "tags": [
     "remove_input"
    ]
   },
   "outputs": [],
   "source": [
    "%%capture\n",
    "\n",
    "import numpy as np\n",
    "import pandas as pd\n",
    "from siuba import *\n",
    "\n",
    "import altair as alt\n",
    "import altair_saver\n",
    "from plotnine import *\n",
    "\n",
    "from IPython.display import Markdown, HTML, Image\n",
    "import ipywidgets as widgets\n",
    "from ipywidgets import interact, interactive\n",
    "\n",
    "from calitp import to_snakecase\n",
    "import intake\n",
    "\n",
    "from shared_utils import altair_utils\n",
    "from shared_utils import styleguide\n",
    "\n",
    "from dla_utils import _dla_utils\n"
   ]
  },
  {
   "cell_type": "code",
   "execution_count": 2,
   "id": "82cf8245-73d2-4ed3-93cf-7ee01661b024",
   "metadata": {
    "execution": {
     "iopub.execute_input": "2022-05-31T21:50:39.326391Z",
     "iopub.status.busy": "2022-05-31T21:50:39.325352Z",
     "iopub.status.idle": "2022-05-31T21:50:39.330303Z",
     "shell.execute_reply": "2022-05-31T21:50:39.329809Z"
    },
    "jupyter": {
     "source_hidden": true
    },
    "papermill": {
     "duration": 0.0298,
     "end_time": "2022-05-31T21:50:39.332142",
     "exception": false,
     "start_time": "2022-05-31T21:50:39.302342",
     "status": "completed"
    },
    "tags": [
     "parameters",
     "remove_input"
    ]
   },
   "outputs": [],
   "source": [
    "#Parameter Cell\n",
    "\n",
    "district = 4"
   ]
  },
  {
   "cell_type": "code",
   "execution_count": 3,
   "id": "908f80c6",
   "metadata": {
    "execution": {
     "iopub.execute_input": "2022-05-31T21:50:39.375655Z",
     "iopub.status.busy": "2022-05-31T21:50:39.374638Z",
     "iopub.status.idle": "2022-05-31T21:50:39.388183Z",
     "shell.execute_reply": "2022-05-31T21:50:39.387388Z"
    },
    "jupyter": {
     "source_hidden": true
    },
    "papermill": {
     "duration": 0.038001,
     "end_time": "2022-05-31T21:50:39.390623",
     "exception": false,
     "start_time": "2022-05-31T21:50:39.352622",
     "status": "completed"
    },
    "tags": [
     "injected-parameters",
     "remove_input"
    ]
   },
   "outputs": [],
   "source": [
    "# Parameters\n",
    "district = 5\n",
    "district_title = \"District 5 - San Luis Obispo\"\n"
   ]
  },
  {
   "cell_type": "code",
   "execution_count": 4,
   "id": "948b2b4f-ef9b-48ff-b109-e7b76361066c",
   "metadata": {
    "execution": {
     "iopub.execute_input": "2022-05-31T21:50:39.435829Z",
     "iopub.status.busy": "2022-05-31T21:50:39.434829Z",
     "iopub.status.idle": "2022-05-31T21:50:39.840660Z",
     "shell.execute_reply": "2022-05-31T21:50:39.839669Z"
    },
    "jupyter": {
     "source_hidden": true
    },
    "papermill": {
     "duration": 0.43166,
     "end_time": "2022-05-31T21:50:39.843910",
     "exception": false,
     "start_time": "2022-05-31T21:50:39.412250",
     "status": "completed"
    },
    "tags": [
     "remove_input"
    ]
   },
   "outputs": [],
   "source": [
    "df= pd.read_parquet(\"gs://calitp-analytics-data/data-analyses/dla/e-76Obligated/dla_df.parquet\")\n"
   ]
  },
  {
   "cell_type": "code",
   "execution_count": 5,
   "id": "be910f27-7608-4522-8d8d-ef93611cb748",
   "metadata": {
    "execution": {
     "iopub.execute_input": "2022-05-31T21:50:39.913740Z",
     "iopub.status.busy": "2022-05-31T21:50:39.912417Z",
     "iopub.status.idle": "2022-05-31T21:50:40.023086Z",
     "shell.execute_reply": "2022-05-31T21:50:40.022327Z"
    },
    "jupyter": {
     "source_hidden": true
    },
    "papermill": {
     "duration": 0.137324,
     "end_time": "2022-05-31T21:50:40.025511",
     "exception": false,
     "start_time": "2022-05-31T21:50:39.888187",
     "status": "completed"
    },
    "tags": [
     "remove_input"
    ]
   },
   "outputs": [],
   "source": [
    "df = (df>>filter(_.dist==district))\n",
    "    \n",
    "    \n",
    "#subsetting the data\n",
    "df_years = _dla_utils.count_all_years(df)\n",
    "df_top = _dla_utils.find_top(df)\n",
    "    "
   ]
  },
  {
   "cell_type": "code",
   "execution_count": 6,
   "id": "a5850431-4942-45ef-a3ea-6cb3f07d628e",
   "metadata": {
    "execution": {
     "iopub.execute_input": "2022-05-31T21:50:40.073329Z",
     "iopub.status.busy": "2022-05-31T21:50:40.072504Z",
     "iopub.status.idle": "2022-05-31T21:50:40.079633Z",
     "shell.execute_reply": "2022-05-31T21:50:40.078910Z"
    },
    "jupyter": {
     "source_hidden": true
    },
    "papermill": {
     "duration": 0.033557,
     "end_time": "2022-05-31T21:50:40.081688",
     "exception": false,
     "start_time": "2022-05-31T21:50:40.048131",
     "status": "completed"
    },
    "tags": [
     "remove_input"
    ]
   },
   "outputs": [],
   "source": [
    "df['prepared_y'] = df['prepared_y'].map('{:.0f}'.format)"
   ]
  },
  {
   "cell_type": "code",
   "execution_count": 7,
   "id": "7f5ac0a1-a951-4072-8f85-d2c90290907f",
   "metadata": {
    "execution": {
     "iopub.execute_input": "2022-05-31T21:50:40.130986Z",
     "iopub.status.busy": "2022-05-31T21:50:40.130100Z",
     "iopub.status.idle": "2022-05-31T21:50:40.326241Z",
     "shell.execute_reply": "2022-05-31T21:50:40.325319Z"
    },
    "jupyter": {
     "source_hidden": true
    },
    "papermill": {
     "duration": 0.222515,
     "end_time": "2022-05-31T21:50:40.328644",
     "exception": false,
     "start_time": "2022-05-31T21:50:40.106129",
     "status": "completed"
    },
    "tags": [
     "remove_input"
    ]
   },
   "outputs": [
    {
     "data": {
      "text/html": [
       "<h3>Quick Stats</h3>"
      ],
      "text/plain": [
       "<IPython.core.display.HTML object>"
      ]
     },
     "metadata": {},
     "output_type": "display_data"
    },
    {
     "data": {
      "text/html": [
       "There are <strong>39 Unique Agencies</strong>"
      ],
      "text/plain": [
       "<IPython.core.display.HTML object>"
      ]
     },
     "metadata": {},
     "output_type": "display_data"
    },
    {
     "data": {
      "text/html": [
       "Out of <strong>1,440</strong> obligations, <strong>6 have transit-related</strong> project types<br><strong>Grover Beach</strong> has the <strong>highest transit</strong> obligations"
      ],
      "text/plain": [
       "<IPython.core.display.HTML object>"
      ]
     },
     "metadata": {},
     "output_type": "display_data"
    },
    {
     "data": {
      "text/html": [
       "There are <strong>2 agencies have over 140.30</strong> obligations (95th percentile) since 2013"
      ],
      "text/plain": [
       "<IPython.core.display.HTML object>"
      ]
     },
     "metadata": {},
     "output_type": "display_data"
    },
    {
     "data": {
      "text/html": [
       "There are <strong>3 agencies have less than 2.00</strong> obligations (5th percentile) since 2013"
      ],
      "text/plain": [
       "<IPython.core.display.HTML object>"
      ]
     },
     "metadata": {},
     "output_type": "display_data"
    },
    {
     "data": {
      "text/html": [
       "<h4>Number of Unique Prefix Codes by Agency</h4>"
      ],
      "text/plain": [
       "<IPython.core.display.HTML object>"
      ]
     },
     "metadata": {},
     "output_type": "display_data"
    },
    {
     "data": {
      "text/html": [
       "<style type=\"text/css\">\n",
       "#T_dc7e4 th {\n",
       "  text-align: center;\n",
       "}\n",
       "#T_dc7e4_row0_col0, #T_dc7e4_row0_col1, #T_dc7e4_row1_col0, #T_dc7e4_row1_col1, #T_dc7e4_row2_col0, #T_dc7e4_row2_col1, #T_dc7e4_row3_col0, #T_dc7e4_row3_col1, #T_dc7e4_row4_col0, #T_dc7e4_row4_col1 {\n",
       "  text-align: center;\n",
       "}\n",
       "</style>\n",
       "<table id=\"T_dc7e4\">\n",
       "  <thead>\n",
       "    <tr>\n",
       "      <th id=\"T_dc7e4_level0_col0\" class=\"col_heading level0 col0\" >Agency</th>\n",
       "      <th id=\"T_dc7e4_level0_col1\" class=\"col_heading level0 col1\" >Number Of Unqiue Prefix Codes</th>\n",
       "    </tr>\n",
       "  </thead>\n",
       "  <tbody>\n",
       "    <tr>\n",
       "      <td id=\"T_dc7e4_row0_col0\" class=\"data row0 col0\" >San Luis Obispo County</td>\n",
       "      <td id=\"T_dc7e4_row0_col1\" class=\"data row0 col1\" >22</td>\n",
       "    </tr>\n",
       "    <tr>\n",
       "      <td id=\"T_dc7e4_row1_col0\" class=\"data row1 col0\" >Monterey County</td>\n",
       "      <td id=\"T_dc7e4_row1_col1\" class=\"data row1 col1\" >19</td>\n",
       "    </tr>\n",
       "    <tr>\n",
       "      <td id=\"T_dc7e4_row2_col0\" class=\"data row2 col0\" >Santa Barbara County</td>\n",
       "      <td id=\"T_dc7e4_row2_col1\" class=\"data row2 col1\" >17</td>\n",
       "    </tr>\n",
       "    <tr>\n",
       "      <td id=\"T_dc7e4_row3_col0\" class=\"data row3 col0\" >Santa Cruz County</td>\n",
       "      <td id=\"T_dc7e4_row3_col1\" class=\"data row3 col1\" >13</td>\n",
       "    </tr>\n",
       "    <tr>\n",
       "      <td id=\"T_dc7e4_row4_col0\" class=\"data row4 col0\" >Santa Cruz</td>\n",
       "      <td id=\"T_dc7e4_row4_col1\" class=\"data row4 col1\" >11</td>\n",
       "    </tr>\n",
       "  </tbody>\n",
       "</table>\n"
      ],
      "text/plain": [
       "<IPython.core.display.HTML object>"
      ]
     },
     "metadata": {},
     "output_type": "display_data"
    },
    {
     "data": {
      "text/html": [
       "<h4>Number of Unique Agencies by Prefix Codes</h4>"
      ],
      "text/plain": [
       "<IPython.core.display.HTML object>"
      ]
     },
     "metadata": {},
     "output_type": "display_data"
    },
    {
     "data": {
      "text/html": [
       "<style type=\"text/css\">\n",
       "#T_56238 th {\n",
       "  text-align: center;\n",
       "}\n",
       "#T_56238_row0_col0, #T_56238_row0_col1, #T_56238_row1_col0, #T_56238_row1_col1, #T_56238_row2_col0, #T_56238_row2_col1, #T_56238_row3_col0, #T_56238_row3_col1, #T_56238_row4_col0, #T_56238_row4_col1 {\n",
       "  text-align: center;\n",
       "}\n",
       "</style>\n",
       "<table id=\"T_56238\">\n",
       "  <thead>\n",
       "    <tr>\n",
       "      <th id=\"T_56238_level0_col0\" class=\"col_heading level0 col0\" >Prefix</th>\n",
       "      <th id=\"T_56238_level0_col1\" class=\"col_heading level0 col1\" >Number Of Unqiue Agencies</th>\n",
       "    </tr>\n",
       "  </thead>\n",
       "  <tbody>\n",
       "    <tr>\n",
       "      <td id=\"T_56238_row0_col0\" class=\"data row0 col0\" >HSIPL</td>\n",
       "      <td id=\"T_56238_row0_col1\" class=\"data row0 col1\" >18</td>\n",
       "    </tr>\n",
       "    <tr>\n",
       "      <td id=\"T_56238_row1_col0\" class=\"data row1 col0\" >ER</td>\n",
       "      <td id=\"T_56238_row1_col1\" class=\"data row1 col1\" >13</td>\n",
       "    </tr>\n",
       "    <tr>\n",
       "      <td id=\"T_56238_row2_col0\" class=\"data row2 col0\" >RPSTPL</td>\n",
       "      <td id=\"T_56238_row2_col1\" class=\"data row2 col1\" >12</td>\n",
       "    </tr>\n",
       "    <tr>\n",
       "      <td id=\"T_56238_row3_col0\" class=\"data row3 col0\" >ACSTER</td>\n",
       "      <td id=\"T_56238_row3_col1\" class=\"data row3 col1\" >10</td>\n",
       "    </tr>\n",
       "    <tr>\n",
       "      <td id=\"T_56238_row4_col0\" class=\"data row4 col0\" >BRLS</td>\n",
       "      <td id=\"T_56238_row4_col1\" class=\"data row4 col1\" >10</td>\n",
       "    </tr>\n",
       "  </tbody>\n",
       "</table>\n"
      ],
      "text/plain": [
       "<IPython.core.display.HTML object>"
      ]
     },
     "metadata": {},
     "output_type": "display_data"
    },
    {
     "data": {
      "text/html": [
       "<h4>Top 5 Types of Work</h4>"
      ],
      "text/plain": [
       "<IPython.core.display.HTML object>"
      ]
     },
     "metadata": {},
     "output_type": "display_data"
    },
    {
     "data": {
      "text/html": [
       "<style type=\"text/css\">\n",
       "#T_b404f th {\n",
       "  text-align: center;\n",
       "}\n",
       "#T_b404f_row0_col0, #T_b404f_row1_col0, #T_b404f_row2_col0, #T_b404f_row3_col0, #T_b404f_row4_col0 {\n",
       "  text-align: center;\n",
       "}\n",
       "</style>\n",
       "<table id=\"T_b404f\">\n",
       "  <thead>\n",
       "    <tr>\n",
       "      <th id=\"T_b404f_level0_col0\" class=\"col_heading level0 col0\" >Type Of Work</th>\n",
       "    </tr>\n",
       "  </thead>\n",
       "  <tbody>\n",
       "    <tr>\n",
       "      <td id=\"T_b404f_row0_col0\" class=\"data row0 col0\" >Bridge Replacement (tc)</td>\n",
       "    </tr>\n",
       "    <tr>\n",
       "      <td id=\"T_b404f_row1_col0\" class=\"data row1 col0\" >Bridge Replacement</td>\n",
       "    </tr>\n",
       "    <tr>\n",
       "      <td id=\"T_b404f_row2_col0\" class=\"data row2 col0\" >Stabilize And Reconstruct Roadway</td>\n",
       "    </tr>\n",
       "    <tr>\n",
       "      <td id=\"T_b404f_row3_col0\" class=\"data row3 col0\" >Stabilize Slope And Reconstruct Roadway</td>\n",
       "    </tr>\n",
       "    <tr>\n",
       "      <td id=\"T_b404f_row4_col0\" class=\"data row4 col0\" >Bridge Preventive Maintenance</td>\n",
       "    </tr>\n",
       "  </tbody>\n",
       "</table>\n"
      ],
      "text/plain": [
       "<IPython.core.display.HTML object>"
      ]
     },
     "metadata": {},
     "output_type": "display_data"
    }
   ],
   "source": [
    "display(HTML(\"<h3>Quick Stats</h3>\"))\n",
    "\n",
    "display(\n",
    "    HTML(\n",
    "        f\"There are <strong>{(df.primary_agency_name.nunique())} Unique Agencies</strong>\"\n",
    "    )\n",
    ")\n",
    "\n",
    "transit = df >> filter(_.transit == 1)\n",
    "\n",
    "def find_transit(df):\n",
    "    if (len(transit)) == 0: \n",
    "        return display((HTML(f\"Out of <strong>{len(df):,}</strong> obligations,\" \n",
    "                             f\" there are <strong>0 transit realted</strong> project types\")))\n",
    "    \n",
    "    else:\n",
    "        return display(\n",
    "            HTML(\n",
    "                f\"Out of <strong>{len(df):,}</strong> obligations, <strong>{len(transit)} have \"\n",
    "                f\"transit-related</strong> project types\"\n",
    "                f\"<br><strong>{(transit>>count(_.primary_agency_name)>>arrange(-_.n)).iloc[0, 0]}</strong> \"\n",
    "                f\"has the <strong>highest transit</strong> obligations\"\n",
    "            ))\n",
    "    \n",
    "find_transit(df)\n",
    "\n",
    "q = df >> count(_.primary_agency_name) >> arrange(_.n)\n",
    "\n",
    "q2 = q.n.quantile(0.95)\n",
    "\n",
    "display(\n",
    "    HTML(\n",
    "        f\"There are <strong>{len(q>>filter(_.n> (q2)))} agencies have over {('%.2f'%(q2))}</strong> \" \n",
    "        f\"obligations (95th percentile) since {(df.prepared_y.min())}\"\n",
    "    )\n",
    ")\n",
    "\n",
    "q3 = q.n.quantile(0.1)\n",
    "display(\n",
    "    HTML(\n",
    "        (\n",
    "            f\"There are <strong>{len(q>>filter(_.n< (q3)))} agencies have less than\"\n",
    "            f\" {('%.2f'%(q3))}</strong> obligations (5th percentile) since {(df.prepared_y.min())}\"\n",
    "        )\n",
    "    )\n",
    ")\n",
    "\n",
    "## tables\n",
    "display(HTML(\"<h4>Number of Unique Prefix Codes by Agency</h4>\"))\n",
    "nunique_prefix_codes = ((_dla_utils.get_nunique(df, \"prefix\", \"primary_agency_name\"))\n",
    "                        .rename(columns={\"primary_agency_name\": \"Agency\", \"n\": \"Number of Unqiue Prefix Codes\"})\n",
    "                        .head(5))\n",
    "display(HTML(_dla_utils.pretify_tables(nunique_prefix_codes)))\n",
    "\n",
    "display(HTML(\"<h4>Number of Unique Agencies by Prefix Codes</h4>\"))\n",
    "prefix_codes = ((_dla_utils.get_nunique(df, \"primary_agency_name\", \"prefix\"))\n",
    "                .rename(columns={\"prefix\": \"Prefix\", \"n\": \"Number of Unqiue Agencies\"})\n",
    "                .head(5))\n",
    "display(HTML(_dla_utils.pretify_tables(prefix_codes)))\n",
    "\n",
    "\n",
    "display(HTML(\"<h4>Top 5 Types of Work</h4>\"))\n",
    "work_types = (\n",
    "    (df >> count(_.type_of_work) >> arrange(-_.n) >> select(_.type_of_work))\n",
    "    .rename(columns={\"type_of_work\": \"Type of Work\"})\n",
    "    .head(5)\n",
    ")\n",
    "display(HTML(_dla_utils.pretify_tables(work_types)))\n",
    "# get rid of index using:\n",
    "## https://stackoverflow.com/questions/24644656/how-to-print-pandas-dataframe-without-index\n"
   ]
  },
  {
   "cell_type": "markdown",
   "id": "52a161a2-876a-4b42-9c93-3221dce17638",
   "metadata": {
    "papermill": {
     "duration": 0.024471,
     "end_time": "2022-05-31T21:50:40.379152",
     "exception": false,
     "start_time": "2022-05-31T21:50:40.354681",
     "status": "completed"
    },
    "tags": []
   },
   "source": [
    "## Obligations"
   ]
  },
  {
   "cell_type": "markdown",
   "id": "c9d55b3c-f6b6-4980-957c-77d458068fe3",
   "metadata": {
    "papermill": {
     "duration": 0.028587,
     "end_time": "2022-05-31T21:50:40.437587",
     "exception": false,
     "start_time": "2022-05-31T21:50:40.409000",
     "status": "completed"
    },
    "tags": []
   },
   "source": [
    "<hr style=\"height: 2px; background-color:#136C97; border: none\">"
   ]
  },
  {
   "cell_type": "markdown",
   "id": "379b61e3-1c1b-4683-b78f-8dee0683f064",
   "metadata": {
    "papermill": {
     "duration": 0.031479,
     "end_time": "2022-05-31T21:50:40.494375",
     "exception": false,
     "start_time": "2022-05-31T21:50:40.462896",
     "status": "completed"
    },
    "tags": []
   },
   "source": [
    "Obligations indicate a unique entry in the E-76 dataset. By counting the obligations for each year, district, and organization, we can see what the volume each as well which organizations are the most and last frequent customers. \n",
    "\n",
    "Metrics:\n",
    "* Obligations by Year\n",
    "* Number of Unique Agencies by District\n",
    "* Agencies With The Most Obligations"
   ]
  },
  {
   "cell_type": "markdown",
   "id": "81ad520b-db91-45b8-a598-a6577cccc24e",
   "metadata": {
    "papermill": {
     "duration": 0.025264,
     "end_time": "2022-05-31T21:50:40.545373",
     "exception": false,
     "start_time": "2022-05-31T21:50:40.520109",
     "status": "completed"
    },
    "tags": []
   },
   "source": [
    "### Number of Obligations by Year"
   ]
  },
  {
   "cell_type": "code",
   "execution_count": 8,
   "id": "ae85287b-0772-4595-8ea2-ccba83dd22cf",
   "metadata": {
    "execution": {
     "iopub.execute_input": "2022-05-31T21:50:40.598401Z",
     "iopub.status.busy": "2022-05-31T21:50:40.597649Z",
     "iopub.status.idle": "2022-05-31T21:50:40.633105Z",
     "shell.execute_reply": "2022-05-31T21:50:40.632242Z"
    },
    "jupyter": {
     "source_hidden": true
    },
    "papermill": {
     "duration": 0.064643,
     "end_time": "2022-05-31T21:50:40.635284",
     "exception": false,
     "start_time": "2022-05-31T21:50:40.570641",
     "status": "completed"
    },
    "tags": [
     "remove_input"
    ]
   },
   "outputs": [
    {
     "data": {
      "text/html": [
       "\n",
       "<div id=\"altair-viz-9e9fb041006e4e4d9eafccbe1d857f4c\"></div>\n",
       "<script type=\"text/javascript\">\n",
       "  var VEGA_DEBUG = (typeof VEGA_DEBUG == \"undefined\") ? {} : VEGA_DEBUG;\n",
       "  (function(spec, embedOpt){\n",
       "    let outputDiv = document.currentScript.previousElementSibling;\n",
       "    if (outputDiv.id !== \"altair-viz-9e9fb041006e4e4d9eafccbe1d857f4c\") {\n",
       "      outputDiv = document.getElementById(\"altair-viz-9e9fb041006e4e4d9eafccbe1d857f4c\");\n",
       "    }\n",
       "    const paths = {\n",
       "      \"vega\": \"https://cdn.jsdelivr.net/npm//vega@5?noext\",\n",
       "      \"vega-lib\": \"https://cdn.jsdelivr.net/npm//vega-lib?noext\",\n",
       "      \"vega-lite\": \"https://cdn.jsdelivr.net/npm//vega-lite@4.17.0?noext\",\n",
       "      \"vega-embed\": \"https://cdn.jsdelivr.net/npm//vega-embed@6?noext\",\n",
       "    };\n",
       "\n",
       "    function maybeLoadScript(lib, version) {\n",
       "      var key = `${lib.replace(\"-\", \"\")}_version`;\n",
       "      return (VEGA_DEBUG[key] == version) ?\n",
       "        Promise.resolve(paths[lib]) :\n",
       "        new Promise(function(resolve, reject) {\n",
       "          var s = document.createElement('script');\n",
       "          document.getElementsByTagName(\"head\")[0].appendChild(s);\n",
       "          s.async = true;\n",
       "          s.onload = () => {\n",
       "            VEGA_DEBUG[key] = version;\n",
       "            return resolve(paths[lib]);\n",
       "          };\n",
       "          s.onerror = () => reject(`Error loading script: ${paths[lib]}`);\n",
       "          s.src = paths[lib];\n",
       "        });\n",
       "    }\n",
       "\n",
       "    function showError(err) {\n",
       "      outputDiv.innerHTML = `<div class=\"error\" style=\"color:red;\">${err}</div>`;\n",
       "      throw err;\n",
       "    }\n",
       "\n",
       "    function displayChart(vegaEmbed) {\n",
       "      vegaEmbed(outputDiv, spec, embedOpt)\n",
       "        .catch(err => showError(`Javascript Error: ${err.message}<br>This usually means there's a typo in your chart specification. See the javascript console for the full traceback.`));\n",
       "    }\n",
       "\n",
       "    if(typeof define === \"function\" && define.amd) {\n",
       "      requirejs.config({paths});\n",
       "      require([\"vega-embed\"], displayChart, err => showError(`Error loading script: ${err.message}`));\n",
       "    } else {\n",
       "      maybeLoadScript(\"vega\", \"5\")\n",
       "        .then(() => maybeLoadScript(\"vega-lite\", \"4.17.0\"))\n",
       "        .then(() => maybeLoadScript(\"vega-embed\", \"6\"))\n",
       "        .catch(showError)\n",
       "        .then(() => displayChart(vegaEmbed));\n",
       "    }\n",
       "  })({\"config\": {\"view\": {\"continuousWidth\": 400, \"continuousHeight\": 300}, \"axis\": {\"domainColor\": \"#cbcbcb\", \"grid\": true, \"gridColor\": \"#cbcbcb\", \"gridWidth\": 1, \"labelColor\": \"#474747\", \"labelFont\": \"Nunito Sans\", \"labelFontSize\": 10, \"labelPadding\": 4, \"tickColor\": \"#cbcbcb\", \"tickSize\": 10, \"titleColor\": \"#333\", \"titleFont\": \"Raleway\", \"titleFontSize\": 12, \"titlePadding\": 10}, \"axisBand\": {\"grid\": false}, \"background\": \"white\", \"font\": \"Raleway\", \"header\": {\"labelFont\": \"Nunito Sans\", \"titleFont\": \"Raleway\"}, \"legend\": {\"labelColor\": \"#333\", \"labelFont\": \"Nunito Sans\", \"labelFontSize\": 11, \"labelLimit\": 0, \"padding\": 1, \"symbolSize\": 30, \"symbolType\": \"square\", \"titleColor\": \"#333\", \"titleFont\": \"Raleway\", \"titleFontSize\": 14, \"titlePadding\": 10}, \"title\": {\"anchor\": \"middle\", \"font\": \"Raleway\", \"fontSize\": 18, \"fontWeight\": 300, \"offset\": 20}}, \"data\": {\"name\": \"data-1d2b068479622f8f269a490fe1b287db\"}, \"mark\": \"line\", \"encoding\": {\"tooltip\": [{\"field\": \"Year\", \"title\": \"Year\", \"type\": \"quantitative\"}, {\"field\": \"count\", \"title\": \"Count\", \"type\": \"quantitative\"}], \"x\": {\"field\": \"Year\", \"title\": \"Prepared Year\", \"type\": \"ordinal\"}, \"y\": {\"field\": \"count\", \"title\": \"Count\", \"type\": \"quantitative\"}}, \"height\": 250, \"width\": 400, \"$schema\": \"https://vega.github.io/schema/vega-lite/v4.17.0.json\", \"datasets\": {\"data-1d2b068479622f8f269a490fe1b287db\": [{\"Year\": 2018.0, \"count\": 240, \"variable\": \"prepared_y\"}, {\"Year\": 2019.0, \"count\": 233, \"variable\": \"prepared_y\"}, {\"Year\": 2020.0, \"count\": 177, \"variable\": \"prepared_y\"}, {\"Year\": 2017.0, \"count\": 167, \"variable\": \"prepared_y\"}, {\"Year\": 2015.0, \"count\": 162, \"variable\": \"prepared_y\"}, {\"Year\": 2014.0, \"count\": 140, \"variable\": \"prepared_y\"}, {\"Year\": 2016.0, \"count\": 128, \"variable\": \"prepared_y\"}, {\"Year\": 2021.0, \"count\": 125, \"variable\": \"prepared_y\"}, {\"Year\": 2022.0, \"count\": 62, \"variable\": \"prepared_y\"}, {\"Year\": 2013.0, \"count\": 6, \"variable\": \"prepared_y\"}]}}, {\"mode\": \"vega-lite\"});\n",
       "</script>"
      ],
      "text/plain": [
       "alt.Chart(...)"
      ]
     },
     "metadata": {},
     "output_type": "display_data"
    }
   ],
   "source": [
    " #Line chart for Obligations by Year\n",
    "chart_df = (df_top>>filter(_.variable=='prepared_y')).rename(columns= {\"value\":\"Year\"})\n",
    "    \n",
    "chart1= (_dla_utils.basic_line_chart_test_no_save(chart_df, 'Year', 'count', district)).encode(x=alt.X('Year:O', title='Prepared Year'))\n",
    "display(chart1)"
   ]
  },
  {
   "cell_type": "markdown",
   "id": "ff0a6bf9-ddc9-4b6c-b2e1-77de18cf6f80",
   "metadata": {
    "papermill": {
     "duration": 0.029813,
     "end_time": "2022-05-31T21:50:40.691478",
     "exception": false,
     "start_time": "2022-05-31T21:50:40.661665",
     "status": "completed"
    },
    "tags": []
   },
   "source": [
    "### Number of Unique Agencies by District"
   ]
  },
  {
   "cell_type": "code",
   "execution_count": 9,
   "id": "0bc7e34d-545e-4afd-92e9-a17630d0ae89",
   "metadata": {
    "execution": {
     "iopub.execute_input": "2022-05-31T21:50:40.747873Z",
     "iopub.status.busy": "2022-05-31T21:50:40.747114Z",
     "iopub.status.idle": "2022-05-31T21:50:40.803346Z",
     "shell.execute_reply": "2022-05-31T21:50:40.802382Z"
    },
    "jupyter": {
     "source_hidden": true
    },
    "papermill": {
     "duration": 0.088877,
     "end_time": "2022-05-31T21:50:40.806090",
     "exception": false,
     "start_time": "2022-05-31T21:50:40.717213",
     "status": "completed"
    },
    "tags": [
     "remove_input"
    ]
   },
   "outputs": [
    {
     "data": {
      "text/html": [
       "\n",
       "<div id=\"altair-viz-1b8587ba8ed34935b83d99a6e3fdabbd\"></div>\n",
       "<script type=\"text/javascript\">\n",
       "  var VEGA_DEBUG = (typeof VEGA_DEBUG == \"undefined\") ? {} : VEGA_DEBUG;\n",
       "  (function(spec, embedOpt){\n",
       "    let outputDiv = document.currentScript.previousElementSibling;\n",
       "    if (outputDiv.id !== \"altair-viz-1b8587ba8ed34935b83d99a6e3fdabbd\") {\n",
       "      outputDiv = document.getElementById(\"altair-viz-1b8587ba8ed34935b83d99a6e3fdabbd\");\n",
       "    }\n",
       "    const paths = {\n",
       "      \"vega\": \"https://cdn.jsdelivr.net/npm//vega@5?noext\",\n",
       "      \"vega-lib\": \"https://cdn.jsdelivr.net/npm//vega-lib?noext\",\n",
       "      \"vega-lite\": \"https://cdn.jsdelivr.net/npm//vega-lite@4.17.0?noext\",\n",
       "      \"vega-embed\": \"https://cdn.jsdelivr.net/npm//vega-embed@6?noext\",\n",
       "    };\n",
       "\n",
       "    function maybeLoadScript(lib, version) {\n",
       "      var key = `${lib.replace(\"-\", \"\")}_version`;\n",
       "      return (VEGA_DEBUG[key] == version) ?\n",
       "        Promise.resolve(paths[lib]) :\n",
       "        new Promise(function(resolve, reject) {\n",
       "          var s = document.createElement('script');\n",
       "          document.getElementsByTagName(\"head\")[0].appendChild(s);\n",
       "          s.async = true;\n",
       "          s.onload = () => {\n",
       "            VEGA_DEBUG[key] = version;\n",
       "            return resolve(paths[lib]);\n",
       "          };\n",
       "          s.onerror = () => reject(`Error loading script: ${paths[lib]}`);\n",
       "          s.src = paths[lib];\n",
       "        });\n",
       "    }\n",
       "\n",
       "    function showError(err) {\n",
       "      outputDiv.innerHTML = `<div class=\"error\" style=\"color:red;\">${err}</div>`;\n",
       "      throw err;\n",
       "    }\n",
       "\n",
       "    function displayChart(vegaEmbed) {\n",
       "      vegaEmbed(outputDiv, spec, embedOpt)\n",
       "        .catch(err => showError(`Javascript Error: ${err.message}<br>This usually means there's a typo in your chart specification. See the javascript console for the full traceback.`));\n",
       "    }\n",
       "\n",
       "    if(typeof define === \"function\" && define.amd) {\n",
       "      requirejs.config({paths});\n",
       "      require([\"vega-embed\"], displayChart, err => showError(`Error loading script: ${err.message}`));\n",
       "    } else {\n",
       "      maybeLoadScript(\"vega\", \"5\")\n",
       "        .then(() => maybeLoadScript(\"vega-lite\", \"4.17.0\"))\n",
       "        .then(() => maybeLoadScript(\"vega-embed\", \"6\"))\n",
       "        .catch(showError)\n",
       "        .then(() => displayChart(vegaEmbed));\n",
       "    }\n",
       "  })({\"config\": {\"view\": {\"continuousWidth\": 400, \"continuousHeight\": 300}, \"axis\": {\"domainColor\": \"#cbcbcb\", \"grid\": true, \"gridColor\": \"#cbcbcb\", \"gridWidth\": 1, \"labelColor\": \"#474747\", \"labelFont\": \"Nunito Sans\", \"labelFontSize\": 10, \"labelPadding\": 4, \"tickColor\": \"#cbcbcb\", \"tickSize\": 10, \"titleColor\": \"#333\", \"titleFont\": \"Raleway\", \"titleFontSize\": 12, \"titlePadding\": 10}, \"axisBand\": {\"grid\": false}, \"background\": \"white\", \"font\": \"Raleway\", \"header\": {\"labelFont\": \"Nunito Sans\", \"titleFont\": \"Raleway\"}, \"legend\": {\"labelColor\": \"#333\", \"labelFont\": \"Nunito Sans\", \"labelFontSize\": 11, \"labelLimit\": 0, \"padding\": 1, \"symbolSize\": 30, \"symbolType\": \"square\", \"titleColor\": \"#333\", \"titleFont\": \"Raleway\", \"titleFontSize\": 14, \"titlePadding\": 10}, \"title\": {\"anchor\": \"middle\", \"font\": \"Raleway\", \"fontSize\": 18, \"fontWeight\": 300, \"offset\": 20}}, \"data\": {\"name\": \"data-b8507d9cee110c152e760dfdd3db1601\"}, \"mark\": \"bar\", \"encoding\": {\"color\": {\"field\": \"District\", \"legend\": {\"title\": \"Prepared Year\"}, \"scale\": {\"range\": [\"#B9D6DF\", \"#8CBCCB\", \"#2EA8CE\", \"#136C97\", \"#0B405B\"]}, \"type\": \"nominal\"}, \"column\": {\"field\": \"District\", \"type\": \"nominal\"}, \"tooltip\": [{\"field\": \"prepared_y\", \"title\": \"Year\", \"type\": \"nominal\"}, {\"field\": \"Count\", \"title\": \"Count\", \"type\": \"quantitative\"}], \"x\": {\"field\": \"prepared_y\", \"title\": \"Prepared Year\", \"type\": \"ordinal\"}, \"y\": {\"field\": \"Count\", \"title\": \"Number of Unique Agencies\", \"type\": \"quantitative\"}}, \"height\": 250, \"width\": 400, \"$schema\": \"https://vega.github.io/schema/vega-lite/v4.17.0.json\", \"datasets\": {\"data-b8507d9cee110c152e760dfdd3db1601\": [{\"prepared_y\": \"2022\", \"District\": 5, \"Count\": 13}, {\"prepared_y\": \"2021\", \"District\": 5, \"Count\": 16}, {\"prepared_y\": \"2020\", \"District\": 5, \"Count\": 22}, {\"prepared_y\": \"2019\", \"District\": 5, \"Count\": 22}, {\"prepared_y\": \"2018\", \"District\": 5, \"Count\": 27}, {\"prepared_y\": \"2017\", \"District\": 5, \"Count\": 24}, {\"prepared_y\": \"2016\", \"District\": 5, \"Count\": 27}, {\"prepared_y\": \"2015\", \"District\": 5, \"Count\": 29}, {\"prepared_y\": \"2014\", \"District\": 5, \"Count\": 29}, {\"prepared_y\": \"2013\", \"District\": 5, \"Count\": 3}]}}, {\"mode\": \"vega-lite\"});\n",
       "</script>"
      ],
      "text/plain": [
       "alt.Chart(...)"
      ]
     },
     "metadata": {},
     "output_type": "display_data"
    }
   ],
   "source": [
    "# Unique Agencies by Dist\n",
    "dist_years_agency = ((\n",
    "        df\n",
    "        >> group_by(_.prepared_y, _.dist)\n",
    "        >> summarize(n=_.primary_agency_name.nunique())\n",
    "        >> arrange(-_.prepared_y)\n",
    "    )\n",
    "        .rename(columns={'dist':'District', 'n':'Count'})\n",
    "    )\n",
    "chart10 = (alt.Chart(dist_years_agency).mark_bar().encode(\n",
    "        column='District:N',\n",
    "        x=alt.X('prepared_y:O', title='Prepared Year'),\n",
    "        y=alt.Y('Count:Q', title='Number of Unique Agencies'),\n",
    "        color = alt.Color(\"District:N\", \n",
    "                              scale=alt.Scale(\n",
    "                                  range=altair_utils.CALITP_SEQUENTIAL_COLORS),  \n",
    "                               legend=alt.Legend(title=\"Prepared Year\")\n",
    "                              )))\n",
    "                              \n",
    "chart10 = styleguide.preset_chart_config(chart10)\n",
    "chart10 = _dla_utils.add_tooltip(chart10, 'prepared_y', 'Count')\n",
    "\n",
    "display(chart10)"
   ]
  },
  {
   "cell_type": "markdown",
   "id": "70c59c39-590d-4136-aa09-ee6ed5afc872",
   "metadata": {
    "papermill": {
     "duration": 0.036425,
     "end_time": "2022-05-31T21:50:40.879665",
     "exception": false,
     "start_time": "2022-05-31T21:50:40.843240",
     "status": "completed"
    },
    "tags": []
   },
   "source": [
    "### Agencies With The Most Obligations"
   ]
  },
  {
   "cell_type": "code",
   "execution_count": 10,
   "id": "faa4758e-8a41-44f8-aec4-b8cc4d75d906",
   "metadata": {
    "execution": {
     "iopub.execute_input": "2022-05-31T21:50:40.957458Z",
     "iopub.status.busy": "2022-05-31T21:50:40.957118Z",
     "iopub.status.idle": "2022-05-31T21:50:40.987937Z",
     "shell.execute_reply": "2022-05-31T21:50:40.986964Z"
    },
    "jupyter": {
     "source_hidden": true
    },
    "papermill": {
     "duration": 0.070586,
     "end_time": "2022-05-31T21:50:40.990482",
     "exception": false,
     "start_time": "2022-05-31T21:50:40.919896",
     "status": "completed"
    },
    "tags": [
     "remove_input"
    ]
   },
   "outputs": [
    {
     "data": {
      "text/html": [
       "\n",
       "<div id=\"altair-viz-a103651b266c40b89769956984682c1e\"></div>\n",
       "<script type=\"text/javascript\">\n",
       "  var VEGA_DEBUG = (typeof VEGA_DEBUG == \"undefined\") ? {} : VEGA_DEBUG;\n",
       "  (function(spec, embedOpt){\n",
       "    let outputDiv = document.currentScript.previousElementSibling;\n",
       "    if (outputDiv.id !== \"altair-viz-a103651b266c40b89769956984682c1e\") {\n",
       "      outputDiv = document.getElementById(\"altair-viz-a103651b266c40b89769956984682c1e\");\n",
       "    }\n",
       "    const paths = {\n",
       "      \"vega\": \"https://cdn.jsdelivr.net/npm//vega@5?noext\",\n",
       "      \"vega-lib\": \"https://cdn.jsdelivr.net/npm//vega-lib?noext\",\n",
       "      \"vega-lite\": \"https://cdn.jsdelivr.net/npm//vega-lite@4.17.0?noext\",\n",
       "      \"vega-embed\": \"https://cdn.jsdelivr.net/npm//vega-embed@6?noext\",\n",
       "    };\n",
       "\n",
       "    function maybeLoadScript(lib, version) {\n",
       "      var key = `${lib.replace(\"-\", \"\")}_version`;\n",
       "      return (VEGA_DEBUG[key] == version) ?\n",
       "        Promise.resolve(paths[lib]) :\n",
       "        new Promise(function(resolve, reject) {\n",
       "          var s = document.createElement('script');\n",
       "          document.getElementsByTagName(\"head\")[0].appendChild(s);\n",
       "          s.async = true;\n",
       "          s.onload = () => {\n",
       "            VEGA_DEBUG[key] = version;\n",
       "            return resolve(paths[lib]);\n",
       "          };\n",
       "          s.onerror = () => reject(`Error loading script: ${paths[lib]}`);\n",
       "          s.src = paths[lib];\n",
       "        });\n",
       "    }\n",
       "\n",
       "    function showError(err) {\n",
       "      outputDiv.innerHTML = `<div class=\"error\" style=\"color:red;\">${err}</div>`;\n",
       "      throw err;\n",
       "    }\n",
       "\n",
       "    function displayChart(vegaEmbed) {\n",
       "      vegaEmbed(outputDiv, spec, embedOpt)\n",
       "        .catch(err => showError(`Javascript Error: ${err.message}<br>This usually means there's a typo in your chart specification. See the javascript console for the full traceback.`));\n",
       "    }\n",
       "\n",
       "    if(typeof define === \"function\" && define.amd) {\n",
       "      requirejs.config({paths});\n",
       "      require([\"vega-embed\"], displayChart, err => showError(`Error loading script: ${err.message}`));\n",
       "    } else {\n",
       "      maybeLoadScript(\"vega\", \"5\")\n",
       "        .then(() => maybeLoadScript(\"vega-lite\", \"4.17.0\"))\n",
       "        .then(() => maybeLoadScript(\"vega-embed\", \"6\"))\n",
       "        .catch(showError)\n",
       "        .then(() => displayChart(vegaEmbed));\n",
       "    }\n",
       "  })({\"config\": {\"view\": {\"continuousWidth\": 400, \"continuousHeight\": 300}, \"axis\": {\"domainColor\": \"#cbcbcb\", \"grid\": true, \"gridColor\": \"#cbcbcb\", \"gridWidth\": 1, \"labelColor\": \"#474747\", \"labelFont\": \"Nunito Sans\", \"labelFontSize\": 10, \"labelPadding\": 4, \"tickColor\": \"#cbcbcb\", \"tickSize\": 10, \"titleColor\": \"#333\", \"titleFont\": \"Raleway\", \"titleFontSize\": 12, \"titlePadding\": 10}, \"axisBand\": {\"grid\": false}, \"background\": \"white\", \"font\": \"Raleway\", \"header\": {\"labelFont\": \"Nunito Sans\", \"titleFont\": \"Raleway\"}, \"legend\": {\"labelColor\": \"#333\", \"labelFont\": \"Nunito Sans\", \"labelFontSize\": 11, \"labelLimit\": 0, \"padding\": 1, \"symbolSize\": 30, \"symbolType\": \"square\", \"titleColor\": \"#333\", \"titleFont\": \"Raleway\", \"titleFontSize\": 14, \"titlePadding\": 10}, \"title\": {\"anchor\": \"middle\", \"font\": \"Raleway\", \"fontSize\": 18, \"fontWeight\": 300, \"offset\": 20}}, \"data\": {\"name\": \"data-70210f87a8ebc800245b3a2a70fa8c78\"}, \"mark\": \"bar\", \"encoding\": {\"color\": {\"field\": \"Agency\", \"legend\": {\"symbolLimit\": 10, \"title\": \"Agency\"}, \"scale\": {\"range\": [\"#2EA8CE\", \"#EB9F3C\", \"#F4D837\", \"#51BF9D\", \"#8CBCCB\", \"#9487C0\"]}, \"type\": \"nominal\"}, \"tooltip\": [{\"field\": \"Agency\", \"title\": \"Agency\", \"type\": \"nominal\"}, {\"field\": \"Number of Obligations\", \"title\": \"Number Of Obligations\", \"type\": \"quantitative\"}], \"x\": {\"field\": \"Agency\", \"sort\": \"-y\", \"title\": \"Agency\", \"type\": \"nominal\"}, \"y\": {\"field\": \"Number of Obligations\", \"title\": \"Number Of Obligations\", \"type\": \"quantitative\"}}, \"height\": 250, \"width\": 400, \"$schema\": \"https://vega.github.io/schema/vega-lite/v4.17.0.json\", \"datasets\": {\"data-70210f87a8ebc800245b3a2a70fa8c78\": [{\"Agency\": \"Santa Cruz County\", \"Number of Obligations\": 485, \"variable\": \"primary_agency_name\"}, {\"Agency\": \"Santa Barbara County\", \"Number of Obligations\": 170, \"variable\": \"primary_agency_name\"}, {\"Agency\": \"San Luis Obispo County\", \"Number of Obligations\": 137, \"variable\": \"primary_agency_name\"}, {\"Agency\": \"Monterey County\", \"Number of Obligations\": 124, \"variable\": \"primary_agency_name\"}, {\"Agency\": \"Santa Barbara\", \"Number of Obligations\": 113, \"variable\": \"primary_agency_name\"}, {\"Agency\": \"San Benito County\", \"Number of Obligations\": 52, \"variable\": \"primary_agency_name\"}, {\"Agency\": \"Santa Cruz\", \"Number of Obligations\": 47, \"variable\": \"primary_agency_name\"}, {\"Agency\": \"Salinas\", \"Number of Obligations\": 32, \"variable\": \"primary_agency_name\"}, {\"Agency\": \"Santa Maria\", \"Number of Obligations\": 27, \"variable\": \"primary_agency_name\"}, {\"Agency\": \"Pismo Beach\", \"Number of Obligations\": 24, \"variable\": \"primary_agency_name\"}, {\"Agency\": \"San Luis Obispo\", \"Number of Obligations\": 19, \"variable\": \"primary_agency_name\"}, {\"Agency\": \"Goleta\", \"Number of Obligations\": 18, \"variable\": \"primary_agency_name\"}, {\"Agency\": \"Arroyo Grande\", \"Number of Obligations\": 17, \"variable\": \"primary_agency_name\"}, {\"Agency\": \"San Luis Obispo Council of Governments\", \"Number of Obligations\": 16, \"variable\": \"primary_agency_name\"}, {\"Agency\": \"Lompoc\", \"Number of Obligations\": 15, \"variable\": \"primary_agency_name\"}, {\"Agency\": \"Atascadero\", \"Number of Obligations\": 14, \"variable\": \"primary_agency_name\"}, {\"Agency\": \"Watsonville\", \"Number of Obligations\": 12, \"variable\": \"primary_agency_name\"}, {\"Agency\": \"Santa Barbara County Association of Governments\", \"Number of Obligations\": 11, \"variable\": \"primary_agency_name\"}, {\"Agency\": \"El Paso De Robles\", \"Number of Obligations\": 10, \"variable\": \"primary_agency_name\"}, {\"Agency\": \"Grover Beach\", \"Number of Obligations\": 9, \"variable\": \"primary_agency_name\"}]}}, {\"mode\": \"vega-lite\"});\n",
       "</script>"
      ],
      "text/plain": [
       "alt.Chart(...)"
      ]
     },
     "metadata": {},
     "output_type": "display_data"
    }
   ],
   "source": [
    "#Bar chart Agencies With The Most Obligations\n",
    "chart_df = (df_top>>filter(_.variable=='primary_agency_name')).rename(columns={\"value\":\"Agency\",\n",
    "                                 \"count\":\"Number of Obligations\"})\n",
    "chart2 = (_dla_utils.basic_bar_chart_no_save(chart_df, 'Agency', 'Number of Obligations', 'Agency', district))\n",
    "    \n",
    "\n",
    "display(chart2)\n"
   ]
  },
  {
   "cell_type": "markdown",
   "id": "5a3bed5f-4325-47af-9cc7-683f9872817f",
   "metadata": {
    "papermill": {
     "duration": 0.027785,
     "end_time": "2022-05-31T21:50:41.046879",
     "exception": false,
     "start_time": "2022-05-31T21:50:41.019094",
     "status": "completed"
    },
    "tags": []
   },
   "source": [
    "## Prefix Codes"
   ]
  },
  {
   "cell_type": "markdown",
   "id": "339b20d8-68c6-43bd-8aaf-491772bc0995",
   "metadata": {
    "papermill": {
     "duration": 0.032431,
     "end_time": "2022-05-31T21:50:41.106772",
     "exception": false,
     "start_time": "2022-05-31T21:50:41.074341",
     "status": "completed"
    },
    "tags": []
   },
   "source": [
    "<hr style=\"height: 2px; background-color:#8CBCCB; border: none\">\n"
   ]
  },
  {
   "cell_type": "markdown",
   "id": "cfded756-3c93-4089-be41-68e19d28b304",
   "metadata": {
    "papermill": {
     "duration": 0.026549,
     "end_time": "2022-05-31T21:50:41.164291",
     "exception": false,
     "start_time": "2022-05-31T21:50:41.137742",
     "status": "completed"
    },
    "tags": []
   },
   "source": [
    "Prefix Codes refer to the program an obligation is in. Similar to the number of obligations, calcuating the unique prefix codes provides insight to how many progams DLA is involved in each year as well as workload at the district and organization level.\n",
    "\n",
    "Metrics: \n",
    "* Number of Unique Prefix Codes by Districts\n",
    "* Most Used Prefix Codes\n",
    "* Agencies With The Most Unique Prefix Codes"
   ]
  },
  {
   "cell_type": "markdown",
   "id": "f8cb2832-947d-4631-9b4c-c81fb118cab3",
   "metadata": {
    "papermill": {
     "duration": 0.026541,
     "end_time": "2022-05-31T21:50:41.219215",
     "exception": false,
     "start_time": "2022-05-31T21:50:41.192674",
     "status": "completed"
    },
    "tags": []
   },
   "source": [
    "### Number of Unique Prefix Codes by District"
   ]
  },
  {
   "cell_type": "code",
   "execution_count": 11,
   "id": "f661bd63-f8aa-4048-b035-03d5bf1b7e95",
   "metadata": {
    "execution": {
     "iopub.execute_input": "2022-05-31T21:50:41.275280Z",
     "iopub.status.busy": "2022-05-31T21:50:41.274172Z",
     "iopub.status.idle": "2022-05-31T21:50:41.332095Z",
     "shell.execute_reply": "2022-05-31T21:50:41.331197Z"
    },
    "jupyter": {
     "source_hidden": true
    },
    "papermill": {
     "duration": 0.089739,
     "end_time": "2022-05-31T21:50:41.335609",
     "exception": false,
     "start_time": "2022-05-31T21:50:41.245870",
     "status": "completed"
    },
    "tags": [
     "remove_input"
    ]
   },
   "outputs": [
    {
     "data": {
      "text/html": [
       "\n",
       "<div id=\"altair-viz-e409c26ef8d44c33827c708cad4d364d\"></div>\n",
       "<script type=\"text/javascript\">\n",
       "  var VEGA_DEBUG = (typeof VEGA_DEBUG == \"undefined\") ? {} : VEGA_DEBUG;\n",
       "  (function(spec, embedOpt){\n",
       "    let outputDiv = document.currentScript.previousElementSibling;\n",
       "    if (outputDiv.id !== \"altair-viz-e409c26ef8d44c33827c708cad4d364d\") {\n",
       "      outputDiv = document.getElementById(\"altair-viz-e409c26ef8d44c33827c708cad4d364d\");\n",
       "    }\n",
       "    const paths = {\n",
       "      \"vega\": \"https://cdn.jsdelivr.net/npm//vega@5?noext\",\n",
       "      \"vega-lib\": \"https://cdn.jsdelivr.net/npm//vega-lib?noext\",\n",
       "      \"vega-lite\": \"https://cdn.jsdelivr.net/npm//vega-lite@4.17.0?noext\",\n",
       "      \"vega-embed\": \"https://cdn.jsdelivr.net/npm//vega-embed@6?noext\",\n",
       "    };\n",
       "\n",
       "    function maybeLoadScript(lib, version) {\n",
       "      var key = `${lib.replace(\"-\", \"\")}_version`;\n",
       "      return (VEGA_DEBUG[key] == version) ?\n",
       "        Promise.resolve(paths[lib]) :\n",
       "        new Promise(function(resolve, reject) {\n",
       "          var s = document.createElement('script');\n",
       "          document.getElementsByTagName(\"head\")[0].appendChild(s);\n",
       "          s.async = true;\n",
       "          s.onload = () => {\n",
       "            VEGA_DEBUG[key] = version;\n",
       "            return resolve(paths[lib]);\n",
       "          };\n",
       "          s.onerror = () => reject(`Error loading script: ${paths[lib]}`);\n",
       "          s.src = paths[lib];\n",
       "        });\n",
       "    }\n",
       "\n",
       "    function showError(err) {\n",
       "      outputDiv.innerHTML = `<div class=\"error\" style=\"color:red;\">${err}</div>`;\n",
       "      throw err;\n",
       "    }\n",
       "\n",
       "    function displayChart(vegaEmbed) {\n",
       "      vegaEmbed(outputDiv, spec, embedOpt)\n",
       "        .catch(err => showError(`Javascript Error: ${err.message}<br>This usually means there's a typo in your chart specification. See the javascript console for the full traceback.`));\n",
       "    }\n",
       "\n",
       "    if(typeof define === \"function\" && define.amd) {\n",
       "      requirejs.config({paths});\n",
       "      require([\"vega-embed\"], displayChart, err => showError(`Error loading script: ${err.message}`));\n",
       "    } else {\n",
       "      maybeLoadScript(\"vega\", \"5\")\n",
       "        .then(() => maybeLoadScript(\"vega-lite\", \"4.17.0\"))\n",
       "        .then(() => maybeLoadScript(\"vega-embed\", \"6\"))\n",
       "        .catch(showError)\n",
       "        .then(() => displayChart(vegaEmbed));\n",
       "    }\n",
       "  })({\"config\": {\"view\": {\"continuousWidth\": 400, \"continuousHeight\": 300}, \"axis\": {\"domainColor\": \"#cbcbcb\", \"grid\": true, \"gridColor\": \"#cbcbcb\", \"gridWidth\": 1, \"labelColor\": \"#474747\", \"labelFont\": \"Nunito Sans\", \"labelFontSize\": 10, \"labelPadding\": 4, \"tickColor\": \"#cbcbcb\", \"tickSize\": 10, \"titleColor\": \"#333\", \"titleFont\": \"Raleway\", \"titleFontSize\": 12, \"titlePadding\": 10}, \"axisBand\": {\"grid\": false}, \"background\": \"white\", \"font\": \"Raleway\", \"header\": {\"labelFont\": \"Nunito Sans\", \"titleFont\": \"Raleway\"}, \"legend\": {\"labelColor\": \"#333\", \"labelFont\": \"Nunito Sans\", \"labelFontSize\": 11, \"labelLimit\": 0, \"padding\": 1, \"symbolSize\": 30, \"symbolType\": \"square\", \"titleColor\": \"#333\", \"titleFont\": \"Raleway\", \"titleFontSize\": 14, \"titlePadding\": 10}, \"title\": {\"anchor\": \"middle\", \"font\": \"Raleway\", \"fontSize\": 18, \"fontWeight\": 300, \"offset\": 20}}, \"data\": {\"name\": \"data-92e9898965c003d90f211e3f096724de\"}, \"mark\": \"bar\", \"encoding\": {\"color\": {\"field\": \"District\", \"legend\": {\"title\": \"District\"}, \"scale\": {\"range\": [\"#B9D6DF\", \"#8CBCCB\", \"#2EA8CE\", \"#136C97\", \"#0B405B\"]}, \"type\": \"nominal\"}, \"column\": {\"field\": \"District\", \"type\": \"nominal\"}, \"tooltip\": [{\"field\": \"prepared_y\", \"title\": \"Prepared Year\", \"type\": \"nominal\"}, {\"field\": \"Count\", \"title\": \"Number\", \"type\": \"quantitative\"}], \"x\": {\"field\": \"prepared_y\", \"title\": \"Prepared Year\", \"type\": \"ordinal\"}, \"y\": {\"field\": \"Count\", \"title\": \"Number of Unique Agencies\", \"type\": \"quantitative\"}}, \"height\": 250, \"width\": 400, \"$schema\": \"https://vega.github.io/schema/vega-lite/v4.17.0.json\", \"datasets\": {\"data-92e9898965c003d90f211e3f096724de\": [{\"prepared_y\": \"2022\", \"District\": 5, \"Count\": 10}, {\"prepared_y\": \"2021\", \"District\": 5, \"Count\": 18}, {\"prepared_y\": \"2020\", \"District\": 5, \"Count\": 21}, {\"prepared_y\": \"2019\", \"District\": 5, \"Count\": 26}, {\"prepared_y\": \"2018\", \"District\": 5, \"Count\": 27}, {\"prepared_y\": \"2017\", \"District\": 5, \"Count\": 26}, {\"prepared_y\": \"2016\", \"District\": 5, \"Count\": 33}, {\"prepared_y\": \"2015\", \"District\": 5, \"Count\": 38}, {\"prepared_y\": \"2014\", \"District\": 5, \"Count\": 35}, {\"prepared_y\": \"2013\", \"District\": 5, \"Count\": 6}]}}, {\"mode\": \"vega-lite\"});\n",
       "</script>"
      ],
      "text/plain": [
       "alt.Chart(...)"
      ]
     },
     "metadata": {},
     "output_type": "display_data"
    }
   ],
   "source": [
    "#Unique Prefixes by Dist\n",
    "dist_years_prefix = ((\n",
    "        df\n",
    "        >> group_by(_.prepared_y, _.dist)\n",
    "        >> summarize(n=_.prefix.nunique())\n",
    "        >> arrange(-_.prepared_y)\n",
    "    ).rename(columns={'dist':'District', 'n':'Count'}))\n",
    "\n",
    "chart11 = (alt.Chart(dist_years_prefix).mark_bar().encode(\n",
    "        column='District:N',\n",
    "        x=alt.X('prepared_y:O', title='Prepared Year'),\n",
    "        y=alt.Y('Count:Q', title='Number of Unique Agencies'),\n",
    "        color = alt.Color(\"District:N\", \n",
    "                              scale=alt.Scale(\n",
    "                                  range=altair_utils.CALITP_SEQUENTIAL_COLORS),  \n",
    "                               legend=alt.Legend(title=\"District\")\n",
    "                              ),\n",
    "       # tooltip=[alt.Tooltip('prepared_y', title='Prepared Year'), \n",
    "       #         alt.Tooltip('Count', title='Number')],\n",
    "                              ))\n",
    "chart11 = styleguide.preset_chart_config(chart11)\n",
    "#chart11 = _dla_utils.add_tooltip(chart11, 'prepared_y','Count')\n",
    "chart11 = chart11.encode(tooltip=[alt.Tooltip('prepared_y', title='Prepared Year'), \n",
    "                alt.Tooltip('Count', title='Number')])\n",
    "    \n",
    "\n",
    "display(chart11)"
   ]
  },
  {
   "cell_type": "markdown",
   "id": "c52b3650-9c49-4ab9-a72d-52ecf36d4b7a",
   "metadata": {
    "papermill": {
     "duration": 0.028886,
     "end_time": "2022-05-31T21:50:41.394090",
     "exception": false,
     "start_time": "2022-05-31T21:50:41.365204",
     "status": "completed"
    },
    "tags": []
   },
   "source": [
    "### Most Used Prefix Codes"
   ]
  },
  {
   "cell_type": "code",
   "execution_count": 12,
   "id": "0aca2d9a-062a-4c12-9489-5f9de10f3462",
   "metadata": {
    "execution": {
     "iopub.execute_input": "2022-05-31T21:50:41.451345Z",
     "iopub.status.busy": "2022-05-31T21:50:41.450972Z",
     "iopub.status.idle": "2022-05-31T21:50:41.486002Z",
     "shell.execute_reply": "2022-05-31T21:50:41.477601Z"
    },
    "jupyter": {
     "source_hidden": true
    },
    "papermill": {
     "duration": 0.067652,
     "end_time": "2022-05-31T21:50:41.488542",
     "exception": false,
     "start_time": "2022-05-31T21:50:41.420890",
     "status": "completed"
    },
    "tags": [
     "remove_input"
    ]
   },
   "outputs": [
    {
     "data": {
      "text/html": [
       "\n",
       "<div id=\"altair-viz-b491374b5a6a4215a02039ab1ea873cb\"></div>\n",
       "<script type=\"text/javascript\">\n",
       "  var VEGA_DEBUG = (typeof VEGA_DEBUG == \"undefined\") ? {} : VEGA_DEBUG;\n",
       "  (function(spec, embedOpt){\n",
       "    let outputDiv = document.currentScript.previousElementSibling;\n",
       "    if (outputDiv.id !== \"altair-viz-b491374b5a6a4215a02039ab1ea873cb\") {\n",
       "      outputDiv = document.getElementById(\"altair-viz-b491374b5a6a4215a02039ab1ea873cb\");\n",
       "    }\n",
       "    const paths = {\n",
       "      \"vega\": \"https://cdn.jsdelivr.net/npm//vega@5?noext\",\n",
       "      \"vega-lib\": \"https://cdn.jsdelivr.net/npm//vega-lib?noext\",\n",
       "      \"vega-lite\": \"https://cdn.jsdelivr.net/npm//vega-lite@4.17.0?noext\",\n",
       "      \"vega-embed\": \"https://cdn.jsdelivr.net/npm//vega-embed@6?noext\",\n",
       "    };\n",
       "\n",
       "    function maybeLoadScript(lib, version) {\n",
       "      var key = `${lib.replace(\"-\", \"\")}_version`;\n",
       "      return (VEGA_DEBUG[key] == version) ?\n",
       "        Promise.resolve(paths[lib]) :\n",
       "        new Promise(function(resolve, reject) {\n",
       "          var s = document.createElement('script');\n",
       "          document.getElementsByTagName(\"head\")[0].appendChild(s);\n",
       "          s.async = true;\n",
       "          s.onload = () => {\n",
       "            VEGA_DEBUG[key] = version;\n",
       "            return resolve(paths[lib]);\n",
       "          };\n",
       "          s.onerror = () => reject(`Error loading script: ${paths[lib]}`);\n",
       "          s.src = paths[lib];\n",
       "        });\n",
       "    }\n",
       "\n",
       "    function showError(err) {\n",
       "      outputDiv.innerHTML = `<div class=\"error\" style=\"color:red;\">${err}</div>`;\n",
       "      throw err;\n",
       "    }\n",
       "\n",
       "    function displayChart(vegaEmbed) {\n",
       "      vegaEmbed(outputDiv, spec, embedOpt)\n",
       "        .catch(err => showError(`Javascript Error: ${err.message}<br>This usually means there's a typo in your chart specification. See the javascript console for the full traceback.`));\n",
       "    }\n",
       "\n",
       "    if(typeof define === \"function\" && define.amd) {\n",
       "      requirejs.config({paths});\n",
       "      require([\"vega-embed\"], displayChart, err => showError(`Error loading script: ${err.message}`));\n",
       "    } else {\n",
       "      maybeLoadScript(\"vega\", \"5\")\n",
       "        .then(() => maybeLoadScript(\"vega-lite\", \"4.17.0\"))\n",
       "        .then(() => maybeLoadScript(\"vega-embed\", \"6\"))\n",
       "        .catch(showError)\n",
       "        .then(() => displayChart(vegaEmbed));\n",
       "    }\n",
       "  })({\"config\": {\"view\": {\"continuousWidth\": 400, \"continuousHeight\": 300}, \"axis\": {\"domainColor\": \"#cbcbcb\", \"grid\": true, \"gridColor\": \"#cbcbcb\", \"gridWidth\": 1, \"labelColor\": \"#474747\", \"labelFont\": \"Nunito Sans\", \"labelFontSize\": 10, \"labelPadding\": 4, \"tickColor\": \"#cbcbcb\", \"tickSize\": 10, \"titleColor\": \"#333\", \"titleFont\": \"Raleway\", \"titleFontSize\": 12, \"titlePadding\": 10}, \"axisBand\": {\"grid\": false}, \"background\": \"white\", \"font\": \"Raleway\", \"header\": {\"labelFont\": \"Nunito Sans\", \"titleFont\": \"Raleway\"}, \"legend\": {\"labelColor\": \"#333\", \"labelFont\": \"Nunito Sans\", \"labelFontSize\": 11, \"labelLimit\": 0, \"padding\": 1, \"symbolSize\": 30, \"symbolType\": \"square\", \"titleColor\": \"#333\", \"titleFont\": \"Raleway\", \"titleFontSize\": 14, \"titlePadding\": 10}, \"title\": {\"anchor\": \"middle\", \"font\": \"Raleway\", \"fontSize\": 18, \"fontWeight\": 300, \"offset\": 20}}, \"data\": {\"name\": \"data-bc348a92c2e2575b9a5151774b7bbbc5\"}, \"mark\": \"bar\", \"encoding\": {\"color\": {\"field\": \"Prefix\", \"legend\": {\"symbolLimit\": 10, \"title\": \"Prefix\"}, \"scale\": {\"range\": [\"#2EA8CE\", \"#EB9F3C\", \"#F4D837\", \"#51BF9D\", \"#8CBCCB\", \"#9487C0\"]}, \"type\": \"nominal\"}, \"tooltip\": [{\"field\": \"Prefix\", \"title\": \"Prefix\", \"type\": \"nominal\"}, {\"field\": \"Number of Obligations\", \"title\": \"Number Of Obligations\", \"type\": \"quantitative\"}], \"x\": {\"field\": \"Prefix\", \"sort\": \"-y\", \"title\": \"Prefix\", \"type\": \"nominal\"}, \"y\": {\"field\": \"Number of Obligations\", \"title\": \"Number Of Obligations\", \"type\": \"quantitative\"}}, \"height\": 250, \"width\": 400, \"$schema\": \"https://vega.github.io/schema/vega-lite/v4.17.0.json\", \"datasets\": {\"data-bc348a92c2e2575b9a5151774b7bbbc5\": [{\"Prefix\": \"ER\", \"Number of Obligations\": 368, \"variable\": \"prefix\"}, {\"Prefix\": \"HSIPL\", \"Number of Obligations\": 231, \"variable\": \"prefix\"}, {\"Prefix\": \"BRLO\", \"Number of Obligations\": 142, \"variable\": \"prefix\"}, {\"Prefix\": \"ACSTER\", \"Number of Obligations\": 96, \"variable\": \"prefix\"}, {\"Prefix\": \"BRLS\", \"Number of Obligations\": 82, \"variable\": \"prefix\"}, {\"Prefix\": \"ACSTP\", \"Number of Obligations\": 74, \"variable\": \"prefix\"}, {\"Prefix\": \"BPMPL\", \"Number of Obligations\": 58, \"variable\": \"prefix\"}, {\"Prefix\": \"ATPL\", \"Number of Obligations\": 39, \"variable\": \"prefix\"}, {\"Prefix\": \"RPSTPL\", \"Number of Obligations\": 39, \"variable\": \"prefix\"}, {\"Prefix\": \"BHLS\", \"Number of Obligations\": 22, \"variable\": \"prefix\"}, {\"Prefix\": \"STPLX\", \"Number of Obligations\": 22, \"variable\": \"prefix\"}, {\"Prefix\": \"BHLO\", \"Number of Obligations\": 21, \"variable\": \"prefix\"}, {\"Prefix\": \"HPLUL\", \"Number of Obligations\": 19, \"variable\": \"prefix\"}, {\"Prefix\": \"STPLZ\", \"Number of Obligations\": 18, \"variable\": \"prefix\"}, {\"Prefix\": \"CML\", \"Number of Obligations\": 17, \"variable\": \"prefix\"}, {\"Prefix\": \"SRTSL\", \"Number of Obligations\": 17, \"variable\": \"prefix\"}, {\"Prefix\": \"BRLSZD\", \"Number of Obligations\": 15, \"variable\": \"prefix\"}, {\"Prefix\": \"CASB\", \"Number of Obligations\": 13, \"variable\": \"prefix\"}, {\"Prefix\": \"HRRRL\", \"Number of Obligations\": 12, \"variable\": \"prefix\"}, {\"Prefix\": \"BRLOZE\", \"Number of Obligations\": 11, \"variable\": \"prefix\"}]}}, {\"mode\": \"vega-lite\"});\n",
       "</script>"
      ],
      "text/plain": [
       "alt.Chart(...)"
      ]
     },
     "metadata": {},
     "output_type": "display_data"
    }
   ],
   "source": [
    "#Bar chart with the Most Used Prefix Counts\n",
    "chart_df = (df_top>>filter(_.variable=='prefix')).rename(columns={\"value\":\"Prefix\",\n",
    "                                 \"count\":\"Number of Obligations\"})\n",
    "chart9= (_dla_utils.basic_bar_chart_no_save(chart_df, 'Prefix', 'Number of Obligations', 'Prefix', district))\n",
    "    \n",
    "\n",
    "display(chart9)\n",
    "    "
   ]
  },
  {
   "cell_type": "markdown",
   "id": "46030e63-c1ae-4834-b538-b09937074207",
   "metadata": {
    "papermill": {
     "duration": 0.028792,
     "end_time": "2022-05-31T21:50:41.547423",
     "exception": false,
     "start_time": "2022-05-31T21:50:41.518631",
     "status": "completed"
    },
    "tags": []
   },
   "source": [
    "### Agencies With The Most Unique Prefix Codes"
   ]
  },
  {
   "cell_type": "code",
   "execution_count": 13,
   "id": "3d21c9b2-833b-463a-9a03-a9c83d727d2e",
   "metadata": {
    "execution": {
     "iopub.execute_input": "2022-05-31T21:50:41.619338Z",
     "iopub.status.busy": "2022-05-31T21:50:41.618370Z",
     "iopub.status.idle": "2022-05-31T21:50:41.672584Z",
     "shell.execute_reply": "2022-05-31T21:50:41.671343Z"
    },
    "jupyter": {
     "source_hidden": true
    },
    "papermill": {
     "duration": 0.087556,
     "end_time": "2022-05-31T21:50:41.675769",
     "exception": false,
     "start_time": "2022-05-31T21:50:41.588213",
     "status": "completed"
    },
    "tags": [
     "remove_input"
    ]
   },
   "outputs": [
    {
     "data": {
      "text/html": [
       "\n",
       "<div id=\"altair-viz-c1794f21775e45deb44839d5f5c90299\"></div>\n",
       "<script type=\"text/javascript\">\n",
       "  var VEGA_DEBUG = (typeof VEGA_DEBUG == \"undefined\") ? {} : VEGA_DEBUG;\n",
       "  (function(spec, embedOpt){\n",
       "    let outputDiv = document.currentScript.previousElementSibling;\n",
       "    if (outputDiv.id !== \"altair-viz-c1794f21775e45deb44839d5f5c90299\") {\n",
       "      outputDiv = document.getElementById(\"altair-viz-c1794f21775e45deb44839d5f5c90299\");\n",
       "    }\n",
       "    const paths = {\n",
       "      \"vega\": \"https://cdn.jsdelivr.net/npm//vega@5?noext\",\n",
       "      \"vega-lib\": \"https://cdn.jsdelivr.net/npm//vega-lib?noext\",\n",
       "      \"vega-lite\": \"https://cdn.jsdelivr.net/npm//vega-lite@4.17.0?noext\",\n",
       "      \"vega-embed\": \"https://cdn.jsdelivr.net/npm//vega-embed@6?noext\",\n",
       "    };\n",
       "\n",
       "    function maybeLoadScript(lib, version) {\n",
       "      var key = `${lib.replace(\"-\", \"\")}_version`;\n",
       "      return (VEGA_DEBUG[key] == version) ?\n",
       "        Promise.resolve(paths[lib]) :\n",
       "        new Promise(function(resolve, reject) {\n",
       "          var s = document.createElement('script');\n",
       "          document.getElementsByTagName(\"head\")[0].appendChild(s);\n",
       "          s.async = true;\n",
       "          s.onload = () => {\n",
       "            VEGA_DEBUG[key] = version;\n",
       "            return resolve(paths[lib]);\n",
       "          };\n",
       "          s.onerror = () => reject(`Error loading script: ${paths[lib]}`);\n",
       "          s.src = paths[lib];\n",
       "        });\n",
       "    }\n",
       "\n",
       "    function showError(err) {\n",
       "      outputDiv.innerHTML = `<div class=\"error\" style=\"color:red;\">${err}</div>`;\n",
       "      throw err;\n",
       "    }\n",
       "\n",
       "    function displayChart(vegaEmbed) {\n",
       "      vegaEmbed(outputDiv, spec, embedOpt)\n",
       "        .catch(err => showError(`Javascript Error: ${err.message}<br>This usually means there's a typo in your chart specification. See the javascript console for the full traceback.`));\n",
       "    }\n",
       "\n",
       "    if(typeof define === \"function\" && define.amd) {\n",
       "      requirejs.config({paths});\n",
       "      require([\"vega-embed\"], displayChart, err => showError(`Error loading script: ${err.message}`));\n",
       "    } else {\n",
       "      maybeLoadScript(\"vega\", \"5\")\n",
       "        .then(() => maybeLoadScript(\"vega-lite\", \"4.17.0\"))\n",
       "        .then(() => maybeLoadScript(\"vega-embed\", \"6\"))\n",
       "        .catch(showError)\n",
       "        .then(() => displayChart(vegaEmbed));\n",
       "    }\n",
       "  })({\"config\": {\"view\": {\"continuousWidth\": 400, \"continuousHeight\": 300}, \"axis\": {\"domainColor\": \"#cbcbcb\", \"grid\": true, \"gridColor\": \"#cbcbcb\", \"gridWidth\": 1, \"labelColor\": \"#474747\", \"labelFont\": \"Nunito Sans\", \"labelFontSize\": 10, \"labelPadding\": 4, \"tickColor\": \"#cbcbcb\", \"tickSize\": 10, \"titleColor\": \"#333\", \"titleFont\": \"Raleway\", \"titleFontSize\": 12, \"titlePadding\": 10}, \"axisBand\": {\"grid\": false}, \"background\": \"white\", \"font\": \"Raleway\", \"header\": {\"labelFont\": \"Nunito Sans\", \"titleFont\": \"Raleway\"}, \"legend\": {\"labelColor\": \"#333\", \"labelFont\": \"Nunito Sans\", \"labelFontSize\": 11, \"labelLimit\": 0, \"padding\": 1, \"symbolSize\": 30, \"symbolType\": \"square\", \"titleColor\": \"#333\", \"titleFont\": \"Raleway\", \"titleFontSize\": 14, \"titlePadding\": 10}, \"title\": {\"anchor\": \"middle\", \"font\": \"Raleway\", \"fontSize\": 18, \"fontWeight\": 300, \"offset\": 20}}, \"data\": {\"name\": \"data-abfcee5489febf814c4fbb24626f2bd7\"}, \"mark\": \"bar\", \"encoding\": {\"color\": {\"field\": \"primary_agency_name\", \"legend\": {\"symbolLimit\": 10, \"title\": \"Agency\"}, \"scale\": {\"range\": [\"#2EA8CE\", \"#EB9F3C\", \"#F4D837\", \"#51BF9D\", \"#8CBCCB\", \"#9487C0\"]}, \"type\": \"nominal\"}, \"tooltip\": [{\"field\": \"primary_agency_name\", \"title\": \"Agency\", \"type\": \"nominal\"}, {\"field\": \"n\", \"title\": \"Count\", \"type\": \"quantitative\"}], \"x\": {\"field\": \"primary_agency_name\", \"sort\": \"-y\", \"title\": \"Agency\", \"type\": \"nominal\"}, \"y\": {\"field\": \"n\", \"title\": \"Count\", \"type\": \"quantitative\"}}, \"height\": 250, \"width\": 400, \"$schema\": \"https://vega.github.io/schema/vega-lite/v4.17.0.json\", \"datasets\": {\"data-abfcee5489febf814c4fbb24626f2bd7\": [{\"primary_agency_name\": \"San Luis Obispo County\", \"n\": 22}, {\"primary_agency_name\": \"Monterey County\", \"n\": 19}, {\"primary_agency_name\": \"Santa Barbara County\", \"n\": 17}, {\"primary_agency_name\": \"Santa Cruz County\", \"n\": 13}, {\"primary_agency_name\": \"Santa Cruz\", \"n\": 11}, {\"primary_agency_name\": \"Santa Barbara\", \"n\": 9}, {\"primary_agency_name\": \"San Benito County\", \"n\": 8}, {\"primary_agency_name\": \"San Luis Obispo\", \"n\": 8}, {\"primary_agency_name\": \"Arroyo Grande\", \"n\": 6}, {\"primary_agency_name\": \"Lompoc\", \"n\": 5}, {\"primary_agency_name\": \"Atascadero\", \"n\": 4}, {\"primary_agency_name\": \"Capitola\", \"n\": 4}, {\"primary_agency_name\": \"Goleta\", \"n\": 4}, {\"primary_agency_name\": \"Pismo Beach\", \"n\": 4}, {\"primary_agency_name\": \"Salinas\", \"n\": 4}, {\"primary_agency_name\": \"San Luis Obispo Council of Governments\", \"n\": 4}, {\"primary_agency_name\": \"Santa Barbara County Association of Governments\", \"n\": 4}, {\"primary_agency_name\": \"Santa Maria\", \"n\": 4}, {\"primary_agency_name\": \"Transportation Agency for Monterey County\", \"n\": 4}, {\"primary_agency_name\": \"Association Of Monterey Bay Area Governments\", \"n\": 3}, {\"primary_agency_name\": \"El Dorado County\", \"n\": 3}, {\"primary_agency_name\": \"El Paso De Robles\", \"n\": 3}, {\"primary_agency_name\": \"Santa Cruz County Regional Transportation Commission\", \"n\": 3}, {\"primary_agency_name\": \"Alameda County\", \"n\": 2}, {\"primary_agency_name\": \"Grover Beach\", \"n\": 2}, {\"primary_agency_name\": \"Marina\", \"n\": 2}, {\"primary_agency_name\": \"Modoc County\", \"n\": 2}, {\"primary_agency_name\": \"Monterey\", \"n\": 2}, {\"primary_agency_name\": \"Morro Bay\", \"n\": 2}, {\"primary_agency_name\": \"San Luis Obispo Regional Transit Agency\", \"n\": 2}]}}, {\"mode\": \"vega-lite\"});\n",
       "</script>"
      ],
      "text/plain": [
       "alt.Chart(...)"
      ]
     },
     "metadata": {},
     "output_type": "display_data"
    }
   ],
   "source": [
    "#Bar chart Agencies With The Most Unique Prefix Codes\n",
    "    \n",
    "chart3 = (_dla_utils.basic_bar_chart_no_save(((_dla_utils.get_nunique(df, 'prefix', 'primary_agency_name')).head(30)),\n",
    "                            'primary_agency_name', 'n', 'primary_agency_name', district))\n",
    "    \n",
    "display(chart3)"
   ]
  },
  {
   "cell_type": "markdown",
   "id": "409d25d0-88ee-4eff-ae1f-ca9127618b4d",
   "metadata": {
    "papermill": {
     "duration": 0.032714,
     "end_time": "2022-05-31T21:50:41.744464",
     "exception": false,
     "start_time": "2022-05-31T21:50:41.711750",
     "status": "completed"
    },
    "tags": []
   },
   "source": [
    "## Funding Distributions"
   ]
  },
  {
   "cell_type": "markdown",
   "id": "4ffab2b2-4af7-476b-abe1-8c6c2534b3fb",
   "metadata": {
    "papermill": {
     "duration": 0.033243,
     "end_time": "2022-05-31T21:50:41.807954",
     "exception": false,
     "start_time": "2022-05-31T21:50:41.774711",
     "status": "completed"
    },
    "tags": []
   },
   "source": [
    "<hr style=\"height: 2px; background-color:#136C97; border: none\">"
   ]
  },
  {
   "cell_type": "markdown",
   "id": "eacca297-667a-4649-b6ac-351e81729e0d",
   "metadata": {
    "papermill": {
     "duration": 0.0309,
     "end_time": "2022-05-31T21:50:41.868866",
     "exception": false,
     "start_time": "2022-05-31T21:50:41.837966",
     "status": "completed"
    },
    "tags": []
   },
   "source": [
    "With each E-76, three types of funding amounts are included in the obligations: \n",
    "* Total Requested (`total_requested`)\n",
    "* Advance Construction Requested (`ac_requested`)\n",
    "* Federal Requested (`fed_requested`)\n",
    "\n",
    "Using this information, we can determine how much on average an organization recieves with these funds, and the distribution of the funds.\n",
    "\n",
    "\n",
    "Metrics:\n",
    "* Average Total Requested Funds by Agency\n",
    "* Lowest Average Total Funds by Agency\n",
    "* Average Total Requested Funds by Prefix"
   ]
  },
  {
   "cell_type": "markdown",
   "id": "d3caa5e9-9126-4572-8140-f81543c7d26a",
   "metadata": {
    "papermill": {
     "duration": 0.030496,
     "end_time": "2022-05-31T21:50:41.953901",
     "exception": false,
     "start_time": "2022-05-31T21:50:41.923405",
     "status": "completed"
    },
    "tags": []
   },
   "source": [
    "### Average Total Requested Funds by Agency ($2021)"
   ]
  },
  {
   "cell_type": "code",
   "execution_count": 14,
   "id": "3745ca4d-8dd4-4c09-b46b-a2f6db6358ad",
   "metadata": {
    "execution": {
     "iopub.execute_input": "2022-05-31T21:50:42.014635Z",
     "iopub.status.busy": "2022-05-31T21:50:42.014287Z",
     "iopub.status.idle": "2022-05-31T21:50:42.043326Z",
     "shell.execute_reply": "2022-05-31T21:50:42.042069Z"
    },
    "jupyter": {
     "source_hidden": true
    },
    "papermill": {
     "duration": 0.061438,
     "end_time": "2022-05-31T21:50:42.045906",
     "exception": false,
     "start_time": "2022-05-31T21:50:41.984468",
     "status": "completed"
    },
    "tags": [
     "remove_input"
    ]
   },
   "outputs": [
    {
     "data": {
      "text/html": [
       "\n",
       "<div id=\"altair-viz-855edb72a1b04aa080226daeb4dd5728\"></div>\n",
       "<script type=\"text/javascript\">\n",
       "  var VEGA_DEBUG = (typeof VEGA_DEBUG == \"undefined\") ? {} : VEGA_DEBUG;\n",
       "  (function(spec, embedOpt){\n",
       "    let outputDiv = document.currentScript.previousElementSibling;\n",
       "    if (outputDiv.id !== \"altair-viz-855edb72a1b04aa080226daeb4dd5728\") {\n",
       "      outputDiv = document.getElementById(\"altair-viz-855edb72a1b04aa080226daeb4dd5728\");\n",
       "    }\n",
       "    const paths = {\n",
       "      \"vega\": \"https://cdn.jsdelivr.net/npm//vega@5?noext\",\n",
       "      \"vega-lib\": \"https://cdn.jsdelivr.net/npm//vega-lib?noext\",\n",
       "      \"vega-lite\": \"https://cdn.jsdelivr.net/npm//vega-lite@4.17.0?noext\",\n",
       "      \"vega-embed\": \"https://cdn.jsdelivr.net/npm//vega-embed@6?noext\",\n",
       "    };\n",
       "\n",
       "    function maybeLoadScript(lib, version) {\n",
       "      var key = `${lib.replace(\"-\", \"\")}_version`;\n",
       "      return (VEGA_DEBUG[key] == version) ?\n",
       "        Promise.resolve(paths[lib]) :\n",
       "        new Promise(function(resolve, reject) {\n",
       "          var s = document.createElement('script');\n",
       "          document.getElementsByTagName(\"head\")[0].appendChild(s);\n",
       "          s.async = true;\n",
       "          s.onload = () => {\n",
       "            VEGA_DEBUG[key] = version;\n",
       "            return resolve(paths[lib]);\n",
       "          };\n",
       "          s.onerror = () => reject(`Error loading script: ${paths[lib]}`);\n",
       "          s.src = paths[lib];\n",
       "        });\n",
       "    }\n",
       "\n",
       "    function showError(err) {\n",
       "      outputDiv.innerHTML = `<div class=\"error\" style=\"color:red;\">${err}</div>`;\n",
       "      throw err;\n",
       "    }\n",
       "\n",
       "    function displayChart(vegaEmbed) {\n",
       "      vegaEmbed(outputDiv, spec, embedOpt)\n",
       "        .catch(err => showError(`Javascript Error: ${err.message}<br>This usually means there's a typo in your chart specification. See the javascript console for the full traceback.`));\n",
       "    }\n",
       "\n",
       "    if(typeof define === \"function\" && define.amd) {\n",
       "      requirejs.config({paths});\n",
       "      require([\"vega-embed\"], displayChart, err => showError(`Error loading script: ${err.message}`));\n",
       "    } else {\n",
       "      maybeLoadScript(\"vega\", \"5\")\n",
       "        .then(() => maybeLoadScript(\"vega-lite\", \"4.17.0\"))\n",
       "        .then(() => maybeLoadScript(\"vega-embed\", \"6\"))\n",
       "        .catch(showError)\n",
       "        .then(() => displayChart(vegaEmbed));\n",
       "    }\n",
       "  })({\"config\": {\"view\": {\"continuousWidth\": 400, \"continuousHeight\": 300}, \"axis\": {\"domainColor\": \"#cbcbcb\", \"grid\": true, \"gridColor\": \"#cbcbcb\", \"gridWidth\": 1, \"labelColor\": \"#474747\", \"labelFont\": \"Nunito Sans\", \"labelFontSize\": 10, \"labelPadding\": 4, \"tickColor\": \"#cbcbcb\", \"tickSize\": 10, \"titleColor\": \"#333\", \"titleFont\": \"Raleway\", \"titleFontSize\": 12, \"titlePadding\": 10}, \"axisBand\": {\"grid\": false}, \"background\": \"white\", \"font\": \"Raleway\", \"header\": {\"labelFont\": \"Nunito Sans\", \"titleFont\": \"Raleway\"}, \"legend\": {\"labelColor\": \"#333\", \"labelFont\": \"Nunito Sans\", \"labelFontSize\": 11, \"labelLimit\": 0, \"padding\": 1, \"symbolSize\": 30, \"symbolType\": \"square\", \"titleColor\": \"#333\", \"titleFont\": \"Raleway\", \"titleFontSize\": 14, \"titlePadding\": 10}, \"title\": {\"anchor\": \"middle\", \"font\": \"Raleway\", \"fontSize\": 18, \"fontWeight\": 300, \"offset\": 20}}, \"data\": {\"name\": \"data-f53bfa166243b497add7b5516cd5f2f4\"}, \"mark\": \"bar\", \"encoding\": {\"color\": {\"field\": \"primary_agency_name\", \"legend\": {\"symbolLimit\": 10, \"title\": \"Agency\"}, \"scale\": {\"range\": [\"#2EA8CE\", \"#EB9F3C\", \"#F4D837\", \"#51BF9D\", \"#8CBCCB\", \"#9487C0\"]}, \"type\": \"nominal\"}, \"tooltip\": [{\"field\": \"primary_agency_name\", \"title\": \"Agency\", \"type\": \"nominal\"}, {\"field\": \"adjusted_total_requested\", \"format\": \"$,.2f\", \"title\": \"Total Requested\", \"type\": \"quantitative\"}], \"x\": {\"field\": \"primary_agency_name\", \"sort\": \"-y\", \"title\": \"Agency\", \"type\": \"nominal\"}, \"y\": {\"field\": \"adjusted_total_requested\", \"title\": \"Total Requested\", \"type\": \"quantitative\"}}, \"height\": 250, \"width\": 400, \"$schema\": \"https://vega.github.io/schema/vega-lite/v4.17.0.json\", \"datasets\": {\"data-f53bfa166243b497add7b5516cd5f2f4\": [{\"primary_agency_name\": \"Seaside\", \"adjusted_total_requested\": 2428086.4072224773}, {\"primary_agency_name\": \"Monterey\", \"adjusted_total_requested\": 1778109.1835077712}, {\"primary_agency_name\": \"Alameda County\", \"adjusted_total_requested\": 1754521.8913018438}, {\"primary_agency_name\": \"San Luis Obispo\", \"adjusted_total_requested\": 994079.1220940962}, {\"primary_agency_name\": \"University of California - Santa Barbara\", \"adjusted_total_requested\": 894746.1574754935}, {\"primary_agency_name\": \"Santa Barbara\", \"adjusted_total_requested\": 878002.6470910823}, {\"primary_agency_name\": \"Salinas\", \"adjusted_total_requested\": 823099.8827443979}, {\"primary_agency_name\": \"Marina\", \"adjusted_total_requested\": 690427.3409274212}, {\"primary_agency_name\": \"Pismo Beach\", \"adjusted_total_requested\": 616561.9947827894}, {\"primary_agency_name\": \"Arroyo Grande\", \"adjusted_total_requested\": 587323.5898275453}, {\"primary_agency_name\": \"Monterey County\", \"adjusted_total_requested\": 542522.1238321182}, {\"primary_agency_name\": \"Carpinteria\", \"adjusted_total_requested\": 522619.4952741487}, {\"primary_agency_name\": \"Santa Barbara County\", \"adjusted_total_requested\": 508775.86107910785}, {\"primary_agency_name\": \"Morro Bay\", \"adjusted_total_requested\": 461318.67721458303}, {\"primary_agency_name\": \"Grover Beach\", \"adjusted_total_requested\": 444614.68898553395}, {\"primary_agency_name\": \"Goleta\", \"adjusted_total_requested\": 438387.7966166413}, {\"primary_agency_name\": \"Santa Cruz\", \"adjusted_total_requested\": 399406.9181478055}, {\"primary_agency_name\": \"San Luis Obispo County\", \"adjusted_total_requested\": 366110.7391984499}, {\"primary_agency_name\": \"San Benito County\", \"adjusted_total_requested\": 353372.5301668414}, {\"primary_agency_name\": \"Santa Barbara County Association of Governments\", \"adjusted_total_requested\": 353031.79399873805}, {\"primary_agency_name\": \"El Paso De Robles\", \"adjusted_total_requested\": 312777.28801565326}, {\"primary_agency_name\": \"San Luis Obispo Regional Transit Agency\", \"adjusted_total_requested\": 223543.58668155086}, {\"primary_agency_name\": \"Atascadero\", \"adjusted_total_requested\": 199381.48543378172}, {\"primary_agency_name\": \"Watsonville\", \"adjusted_total_requested\": 173874.7046012661}, {\"primary_agency_name\": \"Santa Cruz County Regional Transportation Commission\", \"adjusted_total_requested\": 160975.5764636801}, {\"primary_agency_name\": \"Solvang\", \"adjusted_total_requested\": 155633.5059173108}, {\"primary_agency_name\": \"Santa Cruz County\", \"adjusted_total_requested\": 144177.96567845764}, {\"primary_agency_name\": \"Transportation Agency for Monterey County\", \"adjusted_total_requested\": 104200.72449356884}, {\"primary_agency_name\": \"Modoc County\", \"adjusted_total_requested\": 98943.8155650644}, {\"primary_agency_name\": \"Santa Maria\", \"adjusted_total_requested\": 86841.607793501}]}}, {\"mode\": \"vega-lite\"});\n",
       "</script>"
      ],
      "text/plain": [
       "alt.Chart(...)"
      ]
     },
     "metadata": {},
     "output_type": "display_data"
    }
   ],
   "source": [
    "#Bar chart Average Total Requested Funds by Agency\n",
    "chart4=(_dla_utils.basic_bar_chart_no_save((((_dla_utils.calculate_data_all(df, 'adjusted_total_requested', 'primary_agency_name', aggfunc=\"mean\"))\n",
    "                          >>arrange(-_.adjusted_total_requested)).head(30)\n",
    "                        ), 'primary_agency_name','adjusted_total_requested', 'primary_agency_name', district\n",
    "                       ))\n",
    "chart4=chart4.encode([alt.Tooltip('primary_agency_name', title=_dla_utils.labeling('primary_agency_name')),\n",
    "    alt.Tooltip('adjusted_total_requested', title=_dla_utils.labeling('adjusted_total_requested'), format=\"$,.2f\"),\n",
    "                          ])\n",
    "display(chart4)"
   ]
  },
  {
   "cell_type": "markdown",
   "id": "84702987-c63c-40c9-aad7-c2d8c1b8ee49",
   "metadata": {
    "papermill": {
     "duration": 0.033052,
     "end_time": "2022-05-31T21:50:42.107246",
     "exception": false,
     "start_time": "2022-05-31T21:50:42.074194",
     "status": "completed"
    },
    "tags": []
   },
   "source": [
    "### Lowest Average Total Funds by Agency ($2021)"
   ]
  },
  {
   "cell_type": "code",
   "execution_count": 15,
   "id": "ce18a74b-9908-40f8-84f1-806552936465",
   "metadata": {
    "execution": {
     "iopub.execute_input": "2022-05-31T21:50:42.168129Z",
     "iopub.status.busy": "2022-05-31T21:50:42.167664Z",
     "iopub.status.idle": "2022-05-31T21:50:42.221276Z",
     "shell.execute_reply": "2022-05-31T21:50:42.220563Z"
    },
    "jupyter": {
     "source_hidden": true
    },
    "papermill": {
     "duration": 0.086856,
     "end_time": "2022-05-31T21:50:42.223060",
     "exception": false,
     "start_time": "2022-05-31T21:50:42.136204",
     "status": "completed"
    },
    "tags": [
     "remove_input"
    ]
   },
   "outputs": [
    {
     "data": {
      "text/html": [
       "\n",
       "<div id=\"altair-viz-d39a4cbe53154b68be8f4ae5a54a690f\"></div>\n",
       "<script type=\"text/javascript\">\n",
       "  var VEGA_DEBUG = (typeof VEGA_DEBUG == \"undefined\") ? {} : VEGA_DEBUG;\n",
       "  (function(spec, embedOpt){\n",
       "    let outputDiv = document.currentScript.previousElementSibling;\n",
       "    if (outputDiv.id !== \"altair-viz-d39a4cbe53154b68be8f4ae5a54a690f\") {\n",
       "      outputDiv = document.getElementById(\"altair-viz-d39a4cbe53154b68be8f4ae5a54a690f\");\n",
       "    }\n",
       "    const paths = {\n",
       "      \"vega\": \"https://cdn.jsdelivr.net/npm//vega@5?noext\",\n",
       "      \"vega-lib\": \"https://cdn.jsdelivr.net/npm//vega-lib?noext\",\n",
       "      \"vega-lite\": \"https://cdn.jsdelivr.net/npm//vega-lite@4.17.0?noext\",\n",
       "      \"vega-embed\": \"https://cdn.jsdelivr.net/npm//vega-embed@6?noext\",\n",
       "    };\n",
       "\n",
       "    function maybeLoadScript(lib, version) {\n",
       "      var key = `${lib.replace(\"-\", \"\")}_version`;\n",
       "      return (VEGA_DEBUG[key] == version) ?\n",
       "        Promise.resolve(paths[lib]) :\n",
       "        new Promise(function(resolve, reject) {\n",
       "          var s = document.createElement('script');\n",
       "          document.getElementsByTagName(\"head\")[0].appendChild(s);\n",
       "          s.async = true;\n",
       "          s.onload = () => {\n",
       "            VEGA_DEBUG[key] = version;\n",
       "            return resolve(paths[lib]);\n",
       "          };\n",
       "          s.onerror = () => reject(`Error loading script: ${paths[lib]}`);\n",
       "          s.src = paths[lib];\n",
       "        });\n",
       "    }\n",
       "\n",
       "    function showError(err) {\n",
       "      outputDiv.innerHTML = `<div class=\"error\" style=\"color:red;\">${err}</div>`;\n",
       "      throw err;\n",
       "    }\n",
       "\n",
       "    function displayChart(vegaEmbed) {\n",
       "      vegaEmbed(outputDiv, spec, embedOpt)\n",
       "        .catch(err => showError(`Javascript Error: ${err.message}<br>This usually means there's a typo in your chart specification. See the javascript console for the full traceback.`));\n",
       "    }\n",
       "\n",
       "    if(typeof define === \"function\" && define.amd) {\n",
       "      requirejs.config({paths});\n",
       "      require([\"vega-embed\"], displayChart, err => showError(`Error loading script: ${err.message}`));\n",
       "    } else {\n",
       "      maybeLoadScript(\"vega\", \"5\")\n",
       "        .then(() => maybeLoadScript(\"vega-lite\", \"4.17.0\"))\n",
       "        .then(() => maybeLoadScript(\"vega-embed\", \"6\"))\n",
       "        .catch(showError)\n",
       "        .then(() => displayChart(vegaEmbed));\n",
       "    }\n",
       "  })({\"config\": {\"view\": {\"continuousWidth\": 400, \"continuousHeight\": 300}, \"axis\": {\"domainColor\": \"#cbcbcb\", \"grid\": true, \"gridColor\": \"#cbcbcb\", \"gridWidth\": 1, \"labelColor\": \"#474747\", \"labelFont\": \"Nunito Sans\", \"labelFontSize\": 10, \"labelPadding\": 4, \"tickColor\": \"#cbcbcb\", \"tickSize\": 10, \"titleColor\": \"#333\", \"titleFont\": \"Raleway\", \"titleFontSize\": 12, \"titlePadding\": 10}, \"axisBand\": {\"grid\": false}, \"background\": \"white\", \"font\": \"Raleway\", \"header\": {\"labelFont\": \"Nunito Sans\", \"titleFont\": \"Raleway\"}, \"legend\": {\"labelColor\": \"#333\", \"labelFont\": \"Nunito Sans\", \"labelFontSize\": 11, \"labelLimit\": 0, \"padding\": 1, \"symbolSize\": 30, \"symbolType\": \"square\", \"titleColor\": \"#333\", \"titleFont\": \"Raleway\", \"titleFontSize\": 14, \"titlePadding\": 10}, \"title\": {\"anchor\": \"middle\", \"font\": \"Raleway\", \"fontSize\": 18, \"fontWeight\": 300, \"offset\": 20}}, \"data\": {\"name\": \"data-39825cd6d3b6ffcccf754ad0f57cae8b\"}, \"mark\": \"bar\", \"encoding\": {\"color\": {\"field\": \"primary_agency_name\", \"legend\": {\"symbolLimit\": 10, \"title\": \"Agency\"}, \"scale\": {\"range\": [\"#2EA8CE\", \"#EB9F3C\", \"#F4D837\", \"#51BF9D\", \"#8CBCCB\", \"#9487C0\"]}, \"type\": \"nominal\"}, \"tooltip\": [{\"field\": \"primary_agency_name\", \"title\": \"Agency\", \"type\": \"nominal\"}, {\"field\": \"avg_funds\", \"format\": \"$,.2f\", \"title\": \"Average Funds\", \"type\": \"quantitative\"}], \"x\": {\"field\": \"primary_agency_name\", \"sort\": \"-y\", \"title\": \"Agency\", \"type\": \"nominal\"}, \"y\": {\"field\": \"avg_funds\", \"title\": \"Average Funds\", \"type\": \"quantitative\"}}, \"height\": 250, \"width\": 400, \"$schema\": \"https://vega.github.io/schema/vega-lite/v4.17.0.json\", \"datasets\": {\"data-39825cd6d3b6ffcccf754ad0f57cae8b\": [{\"primary_agency_name\": \"Seaside\", \"avg_funds\": 2428086.4072224773}, {\"primary_agency_name\": \"Monterey\", \"avg_funds\": 1778109.1835077712}, {\"primary_agency_name\": \"Alameda County\", \"avg_funds\": 1754521.8913018438}, {\"primary_agency_name\": \"San Luis Obispo\", \"avg_funds\": 994079.1220940962}, {\"primary_agency_name\": \"University of California - Santa Barbara\", \"avg_funds\": 894746.1574754935}, {\"primary_agency_name\": \"Santa Barbara\", \"avg_funds\": 878002.6470910826}, {\"primary_agency_name\": \"Salinas\", \"avg_funds\": 823099.8827443977}, {\"primary_agency_name\": \"Marina\", \"avg_funds\": 690427.3409274212}, {\"primary_agency_name\": \"Pismo Beach\", \"avg_funds\": 616561.9947827894}, {\"primary_agency_name\": \"Arroyo Grande\", \"avg_funds\": 587323.5898275453}, {\"primary_agency_name\": \"Monterey County\", \"avg_funds\": 542522.1238321181}, {\"primary_agency_name\": \"Carpinteria\", \"avg_funds\": 522619.4952741487}, {\"primary_agency_name\": \"Santa Barbara County\", \"avg_funds\": 508775.8610791079}, {\"primary_agency_name\": \"Morro Bay\", \"avg_funds\": 461318.67721458303}, {\"primary_agency_name\": \"Grover Beach\", \"avg_funds\": 444614.688985534}, {\"primary_agency_name\": \"Goleta\", \"avg_funds\": 438387.7966166413}, {\"primary_agency_name\": \"Santa Cruz\", \"avg_funds\": 399406.9181478055}, {\"primary_agency_name\": \"San Luis Obispo County\", \"avg_funds\": 366110.7391984499}, {\"primary_agency_name\": \"San Benito County\", \"avg_funds\": 353372.53016684134}, {\"primary_agency_name\": \"Santa Barbara County Association of Governments\", \"avg_funds\": 353031.79399873805}, {\"primary_agency_name\": \"El Paso De Robles\", \"avg_funds\": 312777.28801565326}, {\"primary_agency_name\": \"San Luis Obispo Regional Transit Agency\", \"avg_funds\": 223543.58668155086}, {\"primary_agency_name\": \"Atascadero\", \"avg_funds\": 199381.48543378175}, {\"primary_agency_name\": \"Watsonville\", \"avg_funds\": 173874.7046012661}, {\"primary_agency_name\": \"Santa Cruz County Regional Transportation Commission\", \"avg_funds\": 160975.5764636801}, {\"primary_agency_name\": \"Solvang\", \"avg_funds\": 155633.5059173108}, {\"primary_agency_name\": \"Santa Cruz County\", \"avg_funds\": 144177.96567845767}, {\"primary_agency_name\": \"Transportation Agency for Monterey County\", \"avg_funds\": 104200.7244935688}, {\"primary_agency_name\": \"Modoc County\", \"avg_funds\": 98943.81556506439}, {\"primary_agency_name\": \"Santa Maria\", \"avg_funds\": 86841.607793501}, {\"primary_agency_name\": \"Capitola\", \"avg_funds\": 77774.9365916773}, {\"primary_agency_name\": \"El Dorado County\", \"avg_funds\": 68947.89858189777}, {\"primary_agency_name\": \"San Luis Obispo Council of Governments\", \"avg_funds\": 61008.02756318553}, {\"primary_agency_name\": \"Association Of Monterey Bay Area Governments\", \"avg_funds\": 49107.73305438325}, {\"primary_agency_name\": \"Lompoc\", \"avg_funds\": 45532.14526914822}, {\"primary_agency_name\": \"Council of San Benito County Governments\", \"avg_funds\": 39066.08679428901}, {\"primary_agency_name\": \"Caltrans\", \"avg_funds\": 9654.758495302922}, {\"primary_agency_name\": \"Santa Cruz County Health Services Agency\", \"avg_funds\": -612.0352441417613}, {\"primary_agency_name\": \"Scotts Valley\", \"avg_funds\": -4551.740837155141}]}}, {\"mode\": \"vega-lite\"});\n",
       "</script>"
      ],
      "text/plain": [
       "alt.Chart(...)"
      ]
     },
     "metadata": {},
     "output_type": "display_data"
    }
   ],
   "source": [
    "#Bar chart Bottom Average Total Requested Funds by Agency\n",
    "avg_funds_bottom = (df>>group_by(_.primary_agency_name)>>summarize(avg_funds=_.adjusted_total_requested.mean())>>arrange(-_.avg_funds)).tail(50)\n",
    "\n",
    "chart5=( _dla_utils.basic_bar_chart_no_save((avg_funds_bottom.tail(40)), 'primary_agency_name','avg_funds', 'primary_agency_name', district))\n",
    "\n",
    "chart5=chart5.encode([alt.Tooltip('primary_agency_name', title=_dla_utils.labeling('primary_agency_name')),\n",
    "                alt.Tooltip('avg_funds', title=_dla_utils.labeling('avg_funds'), format=\"$,.2f\")\n",
    "                          ]\n",
    "                                   )\n",
    "display(chart5)"
   ]
  },
  {
   "cell_type": "markdown",
   "id": "32fb0fb4-2cd3-453d-8be1-cf99fb52f56f",
   "metadata": {
    "papermill": {
     "duration": 0.028587,
     "end_time": "2022-05-31T21:50:42.280218",
     "exception": false,
     "start_time": "2022-05-31T21:50:42.251631",
     "status": "completed"
    },
    "tags": []
   },
   "source": [
    "### Average Total Requested Funds by Prefix ($2021)"
   ]
  },
  {
   "cell_type": "code",
   "execution_count": 16,
   "id": "d18938e5-6fc5-4e53-87b2-7140df57e5a0",
   "metadata": {
    "execution": {
     "iopub.execute_input": "2022-05-31T21:50:42.343080Z",
     "iopub.status.busy": "2022-05-31T21:50:42.342556Z",
     "iopub.status.idle": "2022-05-31T21:50:42.367940Z",
     "shell.execute_reply": "2022-05-31T21:50:42.367221Z"
    },
    "jupyter": {
     "source_hidden": true
    },
    "papermill": {
     "duration": 0.057956,
     "end_time": "2022-05-31T21:50:42.369629",
     "exception": false,
     "start_time": "2022-05-31T21:50:42.311673",
     "status": "completed"
    },
    "tags": [
     "remove_input"
    ]
   },
   "outputs": [
    {
     "data": {
      "text/html": [
       "\n",
       "<div id=\"altair-viz-ac411e42815943e0b0e0d98f7d2ec50a\"></div>\n",
       "<script type=\"text/javascript\">\n",
       "  var VEGA_DEBUG = (typeof VEGA_DEBUG == \"undefined\") ? {} : VEGA_DEBUG;\n",
       "  (function(spec, embedOpt){\n",
       "    let outputDiv = document.currentScript.previousElementSibling;\n",
       "    if (outputDiv.id !== \"altair-viz-ac411e42815943e0b0e0d98f7d2ec50a\") {\n",
       "      outputDiv = document.getElementById(\"altair-viz-ac411e42815943e0b0e0d98f7d2ec50a\");\n",
       "    }\n",
       "    const paths = {\n",
       "      \"vega\": \"https://cdn.jsdelivr.net/npm//vega@5?noext\",\n",
       "      \"vega-lib\": \"https://cdn.jsdelivr.net/npm//vega-lib?noext\",\n",
       "      \"vega-lite\": \"https://cdn.jsdelivr.net/npm//vega-lite@4.17.0?noext\",\n",
       "      \"vega-embed\": \"https://cdn.jsdelivr.net/npm//vega-embed@6?noext\",\n",
       "    };\n",
       "\n",
       "    function maybeLoadScript(lib, version) {\n",
       "      var key = `${lib.replace(\"-\", \"\")}_version`;\n",
       "      return (VEGA_DEBUG[key] == version) ?\n",
       "        Promise.resolve(paths[lib]) :\n",
       "        new Promise(function(resolve, reject) {\n",
       "          var s = document.createElement('script');\n",
       "          document.getElementsByTagName(\"head\")[0].appendChild(s);\n",
       "          s.async = true;\n",
       "          s.onload = () => {\n",
       "            VEGA_DEBUG[key] = version;\n",
       "            return resolve(paths[lib]);\n",
       "          };\n",
       "          s.onerror = () => reject(`Error loading script: ${paths[lib]}`);\n",
       "          s.src = paths[lib];\n",
       "        });\n",
       "    }\n",
       "\n",
       "    function showError(err) {\n",
       "      outputDiv.innerHTML = `<div class=\"error\" style=\"color:red;\">${err}</div>`;\n",
       "      throw err;\n",
       "    }\n",
       "\n",
       "    function displayChart(vegaEmbed) {\n",
       "      vegaEmbed(outputDiv, spec, embedOpt)\n",
       "        .catch(err => showError(`Javascript Error: ${err.message}<br>This usually means there's a typo in your chart specification. See the javascript console for the full traceback.`));\n",
       "    }\n",
       "\n",
       "    if(typeof define === \"function\" && define.amd) {\n",
       "      requirejs.config({paths});\n",
       "      require([\"vega-embed\"], displayChart, err => showError(`Error loading script: ${err.message}`));\n",
       "    } else {\n",
       "      maybeLoadScript(\"vega\", \"5\")\n",
       "        .then(() => maybeLoadScript(\"vega-lite\", \"4.17.0\"))\n",
       "        .then(() => maybeLoadScript(\"vega-embed\", \"6\"))\n",
       "        .catch(showError)\n",
       "        .then(() => displayChart(vegaEmbed));\n",
       "    }\n",
       "  })({\"config\": {\"view\": {\"continuousWidth\": 400, \"continuousHeight\": 300}, \"axis\": {\"domainColor\": \"#cbcbcb\", \"grid\": true, \"gridColor\": \"#cbcbcb\", \"gridWidth\": 1, \"labelColor\": \"#474747\", \"labelFont\": \"Nunito Sans\", \"labelFontSize\": 10, \"labelPadding\": 4, \"tickColor\": \"#cbcbcb\", \"tickSize\": 10, \"titleColor\": \"#333\", \"titleFont\": \"Raleway\", \"titleFontSize\": 12, \"titlePadding\": 10}, \"axisBand\": {\"grid\": false}, \"background\": \"white\", \"font\": \"Raleway\", \"header\": {\"labelFont\": \"Nunito Sans\", \"titleFont\": \"Raleway\"}, \"legend\": {\"labelColor\": \"#333\", \"labelFont\": \"Nunito Sans\", \"labelFontSize\": 11, \"labelLimit\": 0, \"padding\": 1, \"symbolSize\": 30, \"symbolType\": \"square\", \"titleColor\": \"#333\", \"titleFont\": \"Raleway\", \"titleFontSize\": 14, \"titlePadding\": 10}, \"title\": {\"anchor\": \"middle\", \"font\": \"Raleway\", \"fontSize\": 18, \"fontWeight\": 300, \"offset\": 20}}, \"data\": {\"name\": \"data-f19c38974672a0222019842041092616\"}, \"mark\": \"bar\", \"encoding\": {\"color\": {\"field\": \"prefix\", \"legend\": {\"symbolLimit\": 10, \"title\": \"Prefix Code\"}, \"scale\": {\"range\": [\"#2EA8CE\", \"#EB9F3C\", \"#F4D837\", \"#51BF9D\", \"#8CBCCB\", \"#9487C0\"]}, \"type\": \"nominal\"}, \"tooltip\": [{\"field\": \"prefix\", \"title\": \"Prefix Code\", \"type\": \"nominal\"}, {\"field\": \"adjusted_total_requested\", \"format\": \"$,.2f\", \"title\": \"Total Requested\", \"type\": \"quantitative\"}], \"x\": {\"field\": \"prefix\", \"sort\": \"-y\", \"title\": \"Prefix Code\", \"type\": \"nominal\"}, \"y\": {\"field\": \"adjusted_total_requested\", \"title\": \"Total Requested\", \"type\": \"quantitative\"}}, \"height\": 250, \"width\": 400, \"$schema\": \"https://vega.github.io/schema/vega-lite/v4.17.0.json\", \"datasets\": {\"data-f19c38974672a0222019842041092616\": [{\"prefix\": \"ATPSB1L\", \"adjusted_total_requested\": 3303559.8492103}, {\"prefix\": \"BRLKS\", \"adjusted_total_requested\": 2495226.4523827475}, {\"prefix\": \"HIPL\", \"adjusted_total_requested\": 2259764.8925383515}, {\"prefix\": \"BRLSZD\", \"adjusted_total_requested\": 1838435.6253723614}, {\"prefix\": \"STPLR\", \"adjusted_total_requested\": 1832980.2758455556}, {\"prefix\": \"ATPL\", \"adjusted_total_requested\": 1744369.9232201816}, {\"prefix\": \"RPLCML\", \"adjusted_total_requested\": 1714962.8321929798}, {\"prefix\": \"FERPL\", \"adjusted_total_requested\": 1100000.9368061782}, {\"prefix\": \"BRLS\", \"adjusted_total_requested\": 1024617.9873190726}, {\"prefix\": \"CMFERP\", \"adjusted_total_requested\": 959656.8115117083}, {\"prefix\": \"BRLO\", \"adjusted_total_requested\": 687967.6973672186}, {\"prefix\": \"BRLOZE\", \"adjusted_total_requested\": 578358.7962040023}, {\"prefix\": \"STPLZ\", \"adjusted_total_requested\": 575500.562578821}, {\"prefix\": \"BHLO\", \"adjusted_total_requested\": 570970.3125375835}, {\"prefix\": \"ACSTER\", \"adjusted_total_requested\": 521079.78921581217}, {\"prefix\": \"RPSTPL\", \"adjusted_total_requested\": 469553.91138223157}, {\"prefix\": \"HPPLU\", \"adjusted_total_requested\": 460462.2484891245}, {\"prefix\": \"STPLX\", \"adjusted_total_requested\": 439882.48339611065}, {\"prefix\": \"FTAMCL\", \"adjusted_total_requested\": 435797.0932276699}, {\"prefix\": \"CML\", \"adjusted_total_requested\": 424778.5625181418}, {\"prefix\": \"BHLS\", \"adjusted_total_requested\": 310919.36813706154}, {\"prefix\": \"PRSTER\", \"adjusted_total_requested\": 310059.47075936524}, {\"prefix\": \"CMFERP16\", \"adjusted_total_requested\": 261744.90161373976}, {\"prefix\": \"FTACML\", \"adjusted_total_requested\": 257612.3676269547}, {\"prefix\": \"HSIPL\", \"adjusted_total_requested\": 255017.29266234464}, {\"prefix\": \"DEM10L\", \"adjusted_total_requested\": 253489.15877526323}, {\"prefix\": \"BRLSZ\", \"adjusted_total_requested\": 217887.33636747612}, {\"prefix\": \"BPMP\", \"adjusted_total_requested\": 205298.6914005179}, {\"prefix\": \"HRRRL\", \"adjusted_total_requested\": 201372.07084166494}, {\"prefix\": \"CMSTPL\", \"adjusted_total_requested\": 197480.95603259266}]}}, {\"mode\": \"vega-lite\"});\n",
       "</script>"
      ],
      "text/plain": [
       "alt.Chart(...)"
      ]
     },
     "metadata": {},
     "output_type": "display_data"
    }
   ],
   "source": [
    "# Bar chart Average Total Requested Funds by Prefix\n",
    "chart8 = (_dla_utils.basic_bar_chart_no_save((((_dla_utils.calculate_data_all(df, 'adjusted_total_requested', 'prefix', aggfunc=\"mean\"))\n",
    "                          >>arrange(-_.adjusted_total_requested)).head(30)), 'prefix','adjusted_total_requested', 'prefix', district\n",
    "                       ))\n",
    "chart8=chart8.encode([alt.Tooltip('prefix', title=_dla_utils.labeling('prefix')),\n",
    "                      alt.Tooltip('adjusted_total_requested', title=_dla_utils.labeling('adjusted_total_requested'), format=\"$,.2f\")\n",
    "                          ]\n",
    "                                   )\n",
    "display(chart8)\n",
    "    "
   ]
  },
  {
   "cell_type": "markdown",
   "id": "c4218a37-675e-40be-9659-d1297a62dc1b",
   "metadata": {
    "papermill": {
     "duration": 0.029689,
     "end_time": "2022-05-31T21:50:42.434473",
     "exception": false,
     "start_time": "2022-05-31T21:50:42.404784",
     "status": "completed"
    },
    "tags": []
   },
   "source": [
    "\n",
    "## Work Categories"
   ]
  },
  {
   "cell_type": "markdown",
   "id": "188d7213-7e0a-4873-8d28-76b86052a06b",
   "metadata": {
    "papermill": {
     "duration": 0.029837,
     "end_time": "2022-05-31T21:50:42.495077",
     "exception": false,
     "start_time": "2022-05-31T21:50:42.465240",
     "status": "completed"
    },
    "tags": []
   },
   "source": [
    "<hr style=\"height: 2px; background-color:#136C97; border: none\">"
   ]
  },
  {
   "cell_type": "markdown",
   "id": "d41b493b-2ab7-4c43-96ee-8e64a7c3e11a",
   "metadata": {
    "papermill": {
     "duration": 0.029985,
     "end_time": "2022-05-31T21:50:42.555300",
     "exception": false,
     "start_time": "2022-05-31T21:50:42.525315",
     "status": "completed"
    },
    "tags": []
   },
   "source": [
    "While the data includes a description column, organizations have the option to manually input the descriptions. Using the organizations descriptions of the obligattion type, we can categorize the obligations in terms of types of work. We used the following type of work categories:\n",
    "* Active Transportation\n",
    "* Transit\n",
    "* Bridge\n",
    "* Street\n",
    "* Freeway\n",
    "* Infrastructure/Resiliency/Emergency Relief \n",
    "* Congestion Relief\n",
    "\n",
    "With these categories, we can determine which organizations have the most obligations in that category and what percent of the category that organization accounts for. "
   ]
  },
  {
   "cell_type": "code",
   "execution_count": 17,
   "id": "50a1cf08-17eb-4b2b-9dc0-671ee7551f2d",
   "metadata": {
    "execution": {
     "iopub.execute_input": "2022-05-31T21:50:42.617361Z",
     "iopub.status.busy": "2022-05-31T21:50:42.616900Z",
     "iopub.status.idle": "2022-05-31T21:50:43.341286Z",
     "shell.execute_reply": "2022-05-31T21:50:43.340449Z"
    },
    "jupyter": {
     "source_hidden": true
    },
    "papermill": {
     "duration": 0.757537,
     "end_time": "2022-05-31T21:50:43.343380",
     "exception": false,
     "start_time": "2022-05-31T21:50:42.585843",
     "status": "completed"
    },
    "tags": [
     "remove_input"
    ]
   },
   "outputs": [
    {
     "data": {
      "application/vnd.jupyter.widget-view+json": {
       "model_id": "5467ad359bc7487a9758e0bd55bdea82",
       "version_major": 2,
       "version_minor": 0
      },
      "text/plain": [
       "HTML(value='<h3> Top Agencies using Active Transportation Projects </h3>')"
      ]
     },
     "metadata": {},
     "output_type": "display_data"
    },
    {
     "data": {
      "application/vnd.jupyter.widget-view+json": {
       "model_id": "7b46a297f96d438c823b90863a9e4305",
       "version_major": 2,
       "version_minor": 0
      },
      "text/plain": [
       "HTML(value='<style type=\"text/css\">\\n#T_cef8b th {\\n  text-align: center;\\n}\\n#T_cef8b_row0_col0, #T_cef8b_row…"
      ]
     },
     "metadata": {},
     "output_type": "display_data"
    },
    {
     "data": {
      "text/html": [
       "\n",
       "<div id=\"altair-viz-063edb5209624173a1396d23a4ddb616\"></div>\n",
       "<script type=\"text/javascript\">\n",
       "  var VEGA_DEBUG = (typeof VEGA_DEBUG == \"undefined\") ? {} : VEGA_DEBUG;\n",
       "  (function(spec, embedOpt){\n",
       "    let outputDiv = document.currentScript.previousElementSibling;\n",
       "    if (outputDiv.id !== \"altair-viz-063edb5209624173a1396d23a4ddb616\") {\n",
       "      outputDiv = document.getElementById(\"altair-viz-063edb5209624173a1396d23a4ddb616\");\n",
       "    }\n",
       "    const paths = {\n",
       "      \"vega\": \"https://cdn.jsdelivr.net/npm//vega@5?noext\",\n",
       "      \"vega-lib\": \"https://cdn.jsdelivr.net/npm//vega-lib?noext\",\n",
       "      \"vega-lite\": \"https://cdn.jsdelivr.net/npm//vega-lite@4.17.0?noext\",\n",
       "      \"vega-embed\": \"https://cdn.jsdelivr.net/npm//vega-embed@6?noext\",\n",
       "    };\n",
       "\n",
       "    function maybeLoadScript(lib, version) {\n",
       "      var key = `${lib.replace(\"-\", \"\")}_version`;\n",
       "      return (VEGA_DEBUG[key] == version) ?\n",
       "        Promise.resolve(paths[lib]) :\n",
       "        new Promise(function(resolve, reject) {\n",
       "          var s = document.createElement('script');\n",
       "          document.getElementsByTagName(\"head\")[0].appendChild(s);\n",
       "          s.async = true;\n",
       "          s.onload = () => {\n",
       "            VEGA_DEBUG[key] = version;\n",
       "            return resolve(paths[lib]);\n",
       "          };\n",
       "          s.onerror = () => reject(`Error loading script: ${paths[lib]}`);\n",
       "          s.src = paths[lib];\n",
       "        });\n",
       "    }\n",
       "\n",
       "    function showError(err) {\n",
       "      outputDiv.innerHTML = `<div class=\"error\" style=\"color:red;\">${err}</div>`;\n",
       "      throw err;\n",
       "    }\n",
       "\n",
       "    function displayChart(vegaEmbed) {\n",
       "      vegaEmbed(outputDiv, spec, embedOpt)\n",
       "        .catch(err => showError(`Javascript Error: ${err.message}<br>This usually means there's a typo in your chart specification. See the javascript console for the full traceback.`));\n",
       "    }\n",
       "\n",
       "    if(typeof define === \"function\" && define.amd) {\n",
       "      requirejs.config({paths});\n",
       "      require([\"vega-embed\"], displayChart, err => showError(`Error loading script: ${err.message}`));\n",
       "    } else {\n",
       "      maybeLoadScript(\"vega\", \"5\")\n",
       "        .then(() => maybeLoadScript(\"vega-lite\", \"4.17.0\"))\n",
       "        .then(() => maybeLoadScript(\"vega-embed\", \"6\"))\n",
       "        .catch(showError)\n",
       "        .then(() => displayChart(vegaEmbed));\n",
       "    }\n",
       "  })({\"config\": {\"view\": {\"continuousWidth\": 400, \"continuousHeight\": 300}}, \"data\": {\"name\": \"data-cea92e786852d0235e5150e73b8507bb\"}, \"mark\": \"bar\", \"encoding\": {\"color\": {\"field\": \"Categories\", \"scale\": {\"range\": [\"#2EA8CE\", \"#EB9F3C\", \"#F4D837\", \"#51BF9D\", \"#8CBCCB\", \"#9487C0\"]}, \"type\": \"nominal\"}, \"row\": {\"field\": \"Categories\", \"type\": \"nominal\"}, \"tooltip\": [{\"field\": \"Agency\", \"title\": \"Agency\", \"type\": \"nominal\"}, {\"field\": \"Funding Amount\", \"format\": \"$,.2f\", \"title\": \"Funding Amount\", \"type\": \"quantitative\"}], \"x\": {\"axis\": {\"format\": \"$.2s\", \"title\": \"Obligated Funding ($2021)\"}, \"field\": \"Funding Amount\", \"type\": \"quantitative\"}, \"y\": {\"field\": \"Agency\", \"type\": \"nominal\"}}, \"height\": 70, \"width\": 400, \"$schema\": \"https://vega.github.io/schema/vega-lite/v4.17.0.json\", \"datasets\": {\"data-cea92e786852d0235e5150e73b8507bb\": [{\"Agency\": \"Santa Barbara\", \"Categories\": \"Total Requested\", \"Funding Amount\": 827281.1559956258}, {\"Agency\": \"Santa Cruz\", \"Categories\": \"Total Requested\", \"Funding Amount\": 229500.24411091828}, {\"Agency\": \"San Luis Obispo County\", \"Categories\": \"Total Requested\", \"Funding Amount\": 830503.7293743873}, {\"Agency\": \"Monterey County\", \"Categories\": \"Total Requested\", \"Funding Amount\": 1424172.1375025187}, {\"Agency\": \"Santa Cruz County\", \"Categories\": \"Total Requested\", \"Funding Amount\": 72084.95374426687}, {\"Agency\": \"Santa Barbara\", \"Categories\": \"Fed Requested\", \"Funding Amount\": 809777.6748482096}, {\"Agency\": \"Santa Cruz\", \"Categories\": \"Fed Requested\", \"Funding Amount\": 190853.78165741725}, {\"Agency\": \"San Luis Obispo County\", \"Categories\": \"Fed Requested\", \"Funding Amount\": 596665.9952525798}, {\"Agency\": \"Monterey County\", \"Categories\": \"Fed Requested\", \"Funding Amount\": 809838.3540935019}, {\"Agency\": \"Santa Cruz County\", \"Categories\": \"Fed Requested\", \"Funding Amount\": 51285.23266898959}, {\"Agency\": \"Santa Barbara\", \"Categories\": \"AC Requested\", \"Funding Amount\": 0.0}, {\"Agency\": \"Santa Cruz\", \"Categories\": \"AC Requested\", \"Funding Amount\": 0.0}, {\"Agency\": \"San Luis Obispo County\", \"Categories\": \"AC Requested\", \"Funding Amount\": 0.0}, {\"Agency\": \"Monterey County\", \"Categories\": \"AC Requested\", \"Funding Amount\": 0.0}, {\"Agency\": \"Santa Cruz County\", \"Categories\": \"AC Requested\", \"Funding Amount\": 0.0}]}}, {\"mode\": \"vega-lite\"});\n",
       "</script>"
      ],
      "text/plain": [
       "alt.Chart(...)"
      ]
     },
     "metadata": {},
     "output_type": "display_data"
    },
    {
     "data": {
      "application/vnd.jupyter.widget-view+json": {
       "model_id": "5aafa4a4698e4aa2923d9be9996695bd",
       "version_major": 2,
       "version_minor": 0
      },
      "text/plain": [
       "HTML(value='<h3> Top Agencies using Transit Projects </h3>')"
      ]
     },
     "metadata": {},
     "output_type": "display_data"
    },
    {
     "data": {
      "application/vnd.jupyter.widget-view+json": {
       "model_id": "1d5a644c28c845948577f02ba43b4d56",
       "version_major": 2,
       "version_minor": 0
      },
      "text/plain": [
       "HTML(value='<style type=\"text/css\">\\n#T_b427d th {\\n  text-align: center;\\n}\\n#T_b427d_row0_col0, #T_b427d_row…"
      ]
     },
     "metadata": {},
     "output_type": "display_data"
    },
    {
     "data": {
      "text/html": [
       "\n",
       "<div id=\"altair-viz-5216209d51c44d4b8a22e71d372d1d0f\"></div>\n",
       "<script type=\"text/javascript\">\n",
       "  var VEGA_DEBUG = (typeof VEGA_DEBUG == \"undefined\") ? {} : VEGA_DEBUG;\n",
       "  (function(spec, embedOpt){\n",
       "    let outputDiv = document.currentScript.previousElementSibling;\n",
       "    if (outputDiv.id !== \"altair-viz-5216209d51c44d4b8a22e71d372d1d0f\") {\n",
       "      outputDiv = document.getElementById(\"altair-viz-5216209d51c44d4b8a22e71d372d1d0f\");\n",
       "    }\n",
       "    const paths = {\n",
       "      \"vega\": \"https://cdn.jsdelivr.net/npm//vega@5?noext\",\n",
       "      \"vega-lib\": \"https://cdn.jsdelivr.net/npm//vega-lib?noext\",\n",
       "      \"vega-lite\": \"https://cdn.jsdelivr.net/npm//vega-lite@4.17.0?noext\",\n",
       "      \"vega-embed\": \"https://cdn.jsdelivr.net/npm//vega-embed@6?noext\",\n",
       "    };\n",
       "\n",
       "    function maybeLoadScript(lib, version) {\n",
       "      var key = `${lib.replace(\"-\", \"\")}_version`;\n",
       "      return (VEGA_DEBUG[key] == version) ?\n",
       "        Promise.resolve(paths[lib]) :\n",
       "        new Promise(function(resolve, reject) {\n",
       "          var s = document.createElement('script');\n",
       "          document.getElementsByTagName(\"head\")[0].appendChild(s);\n",
       "          s.async = true;\n",
       "          s.onload = () => {\n",
       "            VEGA_DEBUG[key] = version;\n",
       "            return resolve(paths[lib]);\n",
       "          };\n",
       "          s.onerror = () => reject(`Error loading script: ${paths[lib]}`);\n",
       "          s.src = paths[lib];\n",
       "        });\n",
       "    }\n",
       "\n",
       "    function showError(err) {\n",
       "      outputDiv.innerHTML = `<div class=\"error\" style=\"color:red;\">${err}</div>`;\n",
       "      throw err;\n",
       "    }\n",
       "\n",
       "    function displayChart(vegaEmbed) {\n",
       "      vegaEmbed(outputDiv, spec, embedOpt)\n",
       "        .catch(err => showError(`Javascript Error: ${err.message}<br>This usually means there's a typo in your chart specification. See the javascript console for the full traceback.`));\n",
       "    }\n",
       "\n",
       "    if(typeof define === \"function\" && define.amd) {\n",
       "      requirejs.config({paths});\n",
       "      require([\"vega-embed\"], displayChart, err => showError(`Error loading script: ${err.message}`));\n",
       "    } else {\n",
       "      maybeLoadScript(\"vega\", \"5\")\n",
       "        .then(() => maybeLoadScript(\"vega-lite\", \"4.17.0\"))\n",
       "        .then(() => maybeLoadScript(\"vega-embed\", \"6\"))\n",
       "        .catch(showError)\n",
       "        .then(() => displayChart(vegaEmbed));\n",
       "    }\n",
       "  })({\"config\": {\"view\": {\"continuousWidth\": 400, \"continuousHeight\": 300}}, \"data\": {\"name\": \"data-a7e5221eaf1959d67738d59495364120\"}, \"mark\": \"bar\", \"encoding\": {\"color\": {\"field\": \"Categories\", \"scale\": {\"range\": [\"#2EA8CE\", \"#EB9F3C\", \"#F4D837\", \"#51BF9D\", \"#8CBCCB\", \"#9487C0\"]}, \"type\": \"nominal\"}, \"row\": {\"field\": \"Categories\", \"type\": \"nominal\"}, \"tooltip\": [{\"field\": \"Agency\", \"title\": \"Agency\", \"type\": \"nominal\"}, {\"field\": \"Funding Amount\", \"format\": \"$,.2f\", \"title\": \"Funding Amount\", \"type\": \"quantitative\"}], \"x\": {\"axis\": {\"format\": \"$.2s\", \"title\": \"Obligated Funding ($2021)\"}, \"field\": \"Funding Amount\", \"type\": \"quantitative\"}, \"y\": {\"field\": \"Agency\", \"type\": \"nominal\"}}, \"height\": 70, \"width\": 400, \"$schema\": \"https://vega.github.io/schema/vega-lite/v4.17.0.json\", \"datasets\": {\"data-a7e5221eaf1959d67738d59495364120\": [{\"Agency\": \"Grover Beach\", \"Categories\": \"Total Requested\", \"Funding Amount\": 1005409.0439352273}, {\"Agency\": \"San Luis Obispo\", \"Categories\": \"Total Requested\", \"Funding Amount\": 1832980.2758455556}, {\"Agency\": \"San Luis Obispo County\", \"Categories\": \"Total Requested\", \"Funding Amount\": -185584.51396397728}, {\"Agency\": \"Grover Beach\", \"Categories\": \"Fed Requested\", \"Funding Amount\": 679504.0188098672}, {\"Agency\": \"San Luis Obispo\", \"Categories\": \"Fed Requested\", \"Funding Amount\": 1832980.2758455556}, {\"Agency\": \"San Luis Obispo County\", \"Categories\": \"Fed Requested\", \"Funding Amount\": -121388.66539615304}, {\"Agency\": \"Grover Beach\", \"Categories\": \"AC Requested\", \"Funding Amount\": 0.0}, {\"Agency\": \"San Luis Obispo\", \"Categories\": \"AC Requested\", \"Funding Amount\": 0.0}, {\"Agency\": \"San Luis Obispo County\", \"Categories\": \"AC Requested\", \"Funding Amount\": 0.0}]}}, {\"mode\": \"vega-lite\"});\n",
       "</script>"
      ],
      "text/plain": [
       "alt.Chart(...)"
      ]
     },
     "metadata": {},
     "output_type": "display_data"
    },
    {
     "data": {
      "application/vnd.jupyter.widget-view+json": {
       "model_id": "10f71348fa3c4b3282021f548c83666d",
       "version_major": 2,
       "version_minor": 0
      },
      "text/plain": [
       "HTML(value='<h3> Top Agencies using Bridge Projects </h3>')"
      ]
     },
     "metadata": {},
     "output_type": "display_data"
    },
    {
     "data": {
      "application/vnd.jupyter.widget-view+json": {
       "model_id": "06f0afa20fb44f08bd24d412f5a6bec0",
       "version_major": 2,
       "version_minor": 0
      },
      "text/plain": [
       "HTML(value='<style type=\"text/css\">\\n#T_a5036 th {\\n  text-align: center;\\n}\\n#T_a5036_row0_col0, #T_a5036_row…"
      ]
     },
     "metadata": {},
     "output_type": "display_data"
    },
    {
     "data": {
      "text/html": [
       "\n",
       "<div id=\"altair-viz-65bdc4dab54a41119bb9c165e843681b\"></div>\n",
       "<script type=\"text/javascript\">\n",
       "  var VEGA_DEBUG = (typeof VEGA_DEBUG == \"undefined\") ? {} : VEGA_DEBUG;\n",
       "  (function(spec, embedOpt){\n",
       "    let outputDiv = document.currentScript.previousElementSibling;\n",
       "    if (outputDiv.id !== \"altair-viz-65bdc4dab54a41119bb9c165e843681b\") {\n",
       "      outputDiv = document.getElementById(\"altair-viz-65bdc4dab54a41119bb9c165e843681b\");\n",
       "    }\n",
       "    const paths = {\n",
       "      \"vega\": \"https://cdn.jsdelivr.net/npm//vega@5?noext\",\n",
       "      \"vega-lib\": \"https://cdn.jsdelivr.net/npm//vega-lib?noext\",\n",
       "      \"vega-lite\": \"https://cdn.jsdelivr.net/npm//vega-lite@4.17.0?noext\",\n",
       "      \"vega-embed\": \"https://cdn.jsdelivr.net/npm//vega-embed@6?noext\",\n",
       "    };\n",
       "\n",
       "    function maybeLoadScript(lib, version) {\n",
       "      var key = `${lib.replace(\"-\", \"\")}_version`;\n",
       "      return (VEGA_DEBUG[key] == version) ?\n",
       "        Promise.resolve(paths[lib]) :\n",
       "        new Promise(function(resolve, reject) {\n",
       "          var s = document.createElement('script');\n",
       "          document.getElementsByTagName(\"head\")[0].appendChild(s);\n",
       "          s.async = true;\n",
       "          s.onload = () => {\n",
       "            VEGA_DEBUG[key] = version;\n",
       "            return resolve(paths[lib]);\n",
       "          };\n",
       "          s.onerror = () => reject(`Error loading script: ${paths[lib]}`);\n",
       "          s.src = paths[lib];\n",
       "        });\n",
       "    }\n",
       "\n",
       "    function showError(err) {\n",
       "      outputDiv.innerHTML = `<div class=\"error\" style=\"color:red;\">${err}</div>`;\n",
       "      throw err;\n",
       "    }\n",
       "\n",
       "    function displayChart(vegaEmbed) {\n",
       "      vegaEmbed(outputDiv, spec, embedOpt)\n",
       "        .catch(err => showError(`Javascript Error: ${err.message}<br>This usually means there's a typo in your chart specification. See the javascript console for the full traceback.`));\n",
       "    }\n",
       "\n",
       "    if(typeof define === \"function\" && define.amd) {\n",
       "      requirejs.config({paths});\n",
       "      require([\"vega-embed\"], displayChart, err => showError(`Error loading script: ${err.message}`));\n",
       "    } else {\n",
       "      maybeLoadScript(\"vega\", \"5\")\n",
       "        .then(() => maybeLoadScript(\"vega-lite\", \"4.17.0\"))\n",
       "        .then(() => maybeLoadScript(\"vega-embed\", \"6\"))\n",
       "        .catch(showError)\n",
       "        .then(() => displayChart(vegaEmbed));\n",
       "    }\n",
       "  })({\"config\": {\"view\": {\"continuousWidth\": 400, \"continuousHeight\": 300}}, \"data\": {\"name\": \"data-811a25295942f95b165f7ddd2607f0b9\"}, \"mark\": \"bar\", \"encoding\": {\"color\": {\"field\": \"Categories\", \"scale\": {\"range\": [\"#2EA8CE\", \"#EB9F3C\", \"#F4D837\", \"#51BF9D\", \"#8CBCCB\", \"#9487C0\"]}, \"type\": \"nominal\"}, \"row\": {\"field\": \"Categories\", \"type\": \"nominal\"}, \"tooltip\": [{\"field\": \"Agency\", \"title\": \"Agency\", \"type\": \"nominal\"}, {\"field\": \"Funding Amount\", \"format\": \"$,.2f\", \"title\": \"Funding Amount\", \"type\": \"quantitative\"}], \"x\": {\"axis\": {\"format\": \"$.2s\", \"title\": \"Obligated Funding ($2021)\"}, \"field\": \"Funding Amount\", \"type\": \"quantitative\"}, \"y\": {\"field\": \"Agency\", \"type\": \"nominal\"}}, \"height\": 70, \"width\": 400, \"$schema\": \"https://vega.github.io/schema/vega-lite/v4.17.0.json\", \"datasets\": {\"data-811a25295942f95b165f7ddd2607f0b9\": [{\"Agency\": \"Santa Barbara County\", \"Categories\": \"Total Requested\", \"Funding Amount\": 729093.7719597858}, {\"Agency\": \"Santa Barbara\", \"Categories\": \"Total Requested\", \"Funding Amount\": 1068516.4157345123}, {\"Agency\": \"San Luis Obispo County\", \"Categories\": \"Total Requested\", \"Funding Amount\": 369476.97829302953}, {\"Agency\": \"San Benito County\", \"Categories\": \"Total Requested\", \"Funding Amount\": 495451.40592711855}, {\"Agency\": \"Monterey County\", \"Categories\": \"Total Requested\", \"Funding Amount\": 1216308.0915427997}, {\"Agency\": \"Santa Barbara County\", \"Categories\": \"Fed Requested\", \"Funding Amount\": 499139.1021486389}, {\"Agency\": \"Santa Barbara\", \"Categories\": \"Fed Requested\", \"Funding Amount\": 944018.4089886203}, {\"Agency\": \"San Luis Obispo County\", \"Categories\": \"Fed Requested\", \"Funding Amount\": 350204.59530917706}, {\"Agency\": \"San Benito County\", \"Categories\": \"Fed Requested\", \"Funding Amount\": 470380.44686330005}, {\"Agency\": \"Monterey County\", \"Categories\": \"Fed Requested\", \"Funding Amount\": 870284.589229819}, {\"Agency\": \"Santa Barbara County\", \"Categories\": \"AC Requested\", \"Funding Amount\": 171084.80091399263}, {\"Agency\": \"Santa Barbara\", \"Categories\": \"AC Requested\", \"Funding Amount\": 0.0}, {\"Agency\": \"San Luis Obispo County\", \"Categories\": \"AC Requested\", \"Funding Amount\": 7872.397533502277}, {\"Agency\": \"San Benito County\", \"Categories\": \"AC Requested\", \"Funding Amount\": 10947.109498012062}, {\"Agency\": \"Monterey County\", \"Categories\": \"AC Requested\", \"Funding Amount\": 126.48470710030415}]}}, {\"mode\": \"vega-lite\"});\n",
       "</script>"
      ],
      "text/plain": [
       "alt.Chart(...)"
      ]
     },
     "metadata": {},
     "output_type": "display_data"
    },
    {
     "data": {
      "application/vnd.jupyter.widget-view+json": {
       "model_id": "dea7dfb34c8445afbb6a8c8d29d94be4",
       "version_major": 2,
       "version_minor": 0
      },
      "text/plain": [
       "HTML(value='<h3> Top Agencies using Street Projects </h3>')"
      ]
     },
     "metadata": {},
     "output_type": "display_data"
    },
    {
     "data": {
      "application/vnd.jupyter.widget-view+json": {
       "model_id": "349da9695479423d994139849d8e83a2",
       "version_major": 2,
       "version_minor": 0
      },
      "text/plain": [
       "HTML(value='<style type=\"text/css\">\\n#T_0459e th {\\n  text-align: center;\\n}\\n#T_0459e_row0_col0, #T_0459e_row…"
      ]
     },
     "metadata": {},
     "output_type": "display_data"
    },
    {
     "data": {
      "text/html": [
       "\n",
       "<div id=\"altair-viz-0b5e14bc586c4763b62502b4baed1a50\"></div>\n",
       "<script type=\"text/javascript\">\n",
       "  var VEGA_DEBUG = (typeof VEGA_DEBUG == \"undefined\") ? {} : VEGA_DEBUG;\n",
       "  (function(spec, embedOpt){\n",
       "    let outputDiv = document.currentScript.previousElementSibling;\n",
       "    if (outputDiv.id !== \"altair-viz-0b5e14bc586c4763b62502b4baed1a50\") {\n",
       "      outputDiv = document.getElementById(\"altair-viz-0b5e14bc586c4763b62502b4baed1a50\");\n",
       "    }\n",
       "    const paths = {\n",
       "      \"vega\": \"https://cdn.jsdelivr.net/npm//vega@5?noext\",\n",
       "      \"vega-lib\": \"https://cdn.jsdelivr.net/npm//vega-lib?noext\",\n",
       "      \"vega-lite\": \"https://cdn.jsdelivr.net/npm//vega-lite@4.17.0?noext\",\n",
       "      \"vega-embed\": \"https://cdn.jsdelivr.net/npm//vega-embed@6?noext\",\n",
       "    };\n",
       "\n",
       "    function maybeLoadScript(lib, version) {\n",
       "      var key = `${lib.replace(\"-\", \"\")}_version`;\n",
       "      return (VEGA_DEBUG[key] == version) ?\n",
       "        Promise.resolve(paths[lib]) :\n",
       "        new Promise(function(resolve, reject) {\n",
       "          var s = document.createElement('script');\n",
       "          document.getElementsByTagName(\"head\")[0].appendChild(s);\n",
       "          s.async = true;\n",
       "          s.onload = () => {\n",
       "            VEGA_DEBUG[key] = version;\n",
       "            return resolve(paths[lib]);\n",
       "          };\n",
       "          s.onerror = () => reject(`Error loading script: ${paths[lib]}`);\n",
       "          s.src = paths[lib];\n",
       "        });\n",
       "    }\n",
       "\n",
       "    function showError(err) {\n",
       "      outputDiv.innerHTML = `<div class=\"error\" style=\"color:red;\">${err}</div>`;\n",
       "      throw err;\n",
       "    }\n",
       "\n",
       "    function displayChart(vegaEmbed) {\n",
       "      vegaEmbed(outputDiv, spec, embedOpt)\n",
       "        .catch(err => showError(`Javascript Error: ${err.message}<br>This usually means there's a typo in your chart specification. See the javascript console for the full traceback.`));\n",
       "    }\n",
       "\n",
       "    if(typeof define === \"function\" && define.amd) {\n",
       "      requirejs.config({paths});\n",
       "      require([\"vega-embed\"], displayChart, err => showError(`Error loading script: ${err.message}`));\n",
       "    } else {\n",
       "      maybeLoadScript(\"vega\", \"5\")\n",
       "        .then(() => maybeLoadScript(\"vega-lite\", \"4.17.0\"))\n",
       "        .then(() => maybeLoadScript(\"vega-embed\", \"6\"))\n",
       "        .catch(showError)\n",
       "        .then(() => displayChart(vegaEmbed));\n",
       "    }\n",
       "  })({\"config\": {\"view\": {\"continuousWidth\": 400, \"continuousHeight\": 300}}, \"data\": {\"name\": \"data-0c05063300b4bf56dbcb2e2182496c15\"}, \"mark\": \"bar\", \"encoding\": {\"color\": {\"field\": \"Categories\", \"scale\": {\"range\": [\"#2EA8CE\", \"#EB9F3C\", \"#F4D837\", \"#51BF9D\", \"#8CBCCB\", \"#9487C0\"]}, \"type\": \"nominal\"}, \"row\": {\"field\": \"Categories\", \"type\": \"nominal\"}, \"tooltip\": [{\"field\": \"Agency\", \"title\": \"Agency\", \"type\": \"nominal\"}, {\"field\": \"Funding Amount\", \"format\": \"$,.2f\", \"title\": \"Funding Amount\", \"type\": \"quantitative\"}], \"x\": {\"axis\": {\"format\": \"$.2s\", \"title\": \"Obligated Funding ($2021)\"}, \"field\": \"Funding Amount\", \"type\": \"quantitative\"}, \"y\": {\"field\": \"Agency\", \"type\": \"nominal\"}}, \"height\": 70, \"width\": 400, \"$schema\": \"https://vega.github.io/schema/vega-lite/v4.17.0.json\", \"datasets\": {\"data-0c05063300b4bf56dbcb2e2182496c15\": [{\"Agency\": \"Santa Cruz County\", \"Categories\": \"Total Requested\", \"Funding Amount\": 152650.46939815226}, {\"Agency\": \"Santa Barbara County\", \"Categories\": \"Total Requested\", \"Funding Amount\": 99551.35790003315}, {\"Agency\": \"San Luis Obispo County\", \"Categories\": \"Total Requested\", \"Funding Amount\": 197303.89623887447}, {\"Agency\": \"Santa Barbara\", \"Categories\": \"Total Requested\", \"Funding Amount\": 329126.7635149869}, {\"Agency\": \"Salinas\", \"Categories\": \"Total Requested\", \"Funding Amount\": 1132120.2021233712}, {\"Agency\": \"Santa Cruz County\", \"Categories\": \"Fed Requested\", \"Funding Amount\": 156756.64557340628}, {\"Agency\": \"Santa Barbara County\", \"Categories\": \"Fed Requested\", \"Funding Amount\": 56380.99103289835}, {\"Agency\": \"San Luis Obispo County\", \"Categories\": \"Fed Requested\", \"Funding Amount\": 171934.53931965973}, {\"Agency\": \"Santa Barbara\", \"Categories\": \"Fed Requested\", \"Funding Amount\": 257113.86672166636}, {\"Agency\": \"Salinas\", \"Categories\": \"Fed Requested\", \"Funding Amount\": 583243.1685700641}, {\"Agency\": \"Santa Cruz County\", \"Categories\": \"AC Requested\", \"Funding Amount\": -25500.709314329764}, {\"Agency\": \"Santa Barbara County\", \"Categories\": \"AC Requested\", \"Funding Amount\": 2511.132863993321}, {\"Agency\": \"San Luis Obispo County\", \"Categories\": \"AC Requested\", \"Funding Amount\": 22.296301213806146}, {\"Agency\": \"Santa Barbara\", \"Categories\": \"AC Requested\", \"Funding Amount\": 0.0}, {\"Agency\": \"Salinas\", \"Categories\": \"AC Requested\", \"Funding Amount\": 0.0}]}}, {\"mode\": \"vega-lite\"});\n",
       "</script>"
      ],
      "text/plain": [
       "alt.Chart(...)"
      ]
     },
     "metadata": {},
     "output_type": "display_data"
    },
    {
     "data": {
      "application/vnd.jupyter.widget-view+json": {
       "model_id": "e12e2fbac5b34aa2a44ed951b597e0fc",
       "version_major": 2,
       "version_minor": 0
      },
      "text/plain": [
       "HTML(value='<h3> Top Agencies using Freeway Projects </h3>')"
      ]
     },
     "metadata": {},
     "output_type": "display_data"
    },
    {
     "data": {
      "application/vnd.jupyter.widget-view+json": {
       "model_id": "9c3350cae4ed4ac996e81b84ac53f65b",
       "version_major": 2,
       "version_minor": 0
      },
      "text/plain": [
       "HTML(value='<style type=\"text/css\">\\n#T_9c80b th {\\n  text-align: center;\\n}\\n#T_9c80b_row0_col0, #T_9c80b_row…"
      ]
     },
     "metadata": {},
     "output_type": "display_data"
    },
    {
     "data": {
      "text/html": [
       "\n",
       "<div id=\"altair-viz-c7ab7a1feb234363a4282cb25350793b\"></div>\n",
       "<script type=\"text/javascript\">\n",
       "  var VEGA_DEBUG = (typeof VEGA_DEBUG == \"undefined\") ? {} : VEGA_DEBUG;\n",
       "  (function(spec, embedOpt){\n",
       "    let outputDiv = document.currentScript.previousElementSibling;\n",
       "    if (outputDiv.id !== \"altair-viz-c7ab7a1feb234363a4282cb25350793b\") {\n",
       "      outputDiv = document.getElementById(\"altair-viz-c7ab7a1feb234363a4282cb25350793b\");\n",
       "    }\n",
       "    const paths = {\n",
       "      \"vega\": \"https://cdn.jsdelivr.net/npm//vega@5?noext\",\n",
       "      \"vega-lib\": \"https://cdn.jsdelivr.net/npm//vega-lib?noext\",\n",
       "      \"vega-lite\": \"https://cdn.jsdelivr.net/npm//vega-lite@4.17.0?noext\",\n",
       "      \"vega-embed\": \"https://cdn.jsdelivr.net/npm//vega-embed@6?noext\",\n",
       "    };\n",
       "\n",
       "    function maybeLoadScript(lib, version) {\n",
       "      var key = `${lib.replace(\"-\", \"\")}_version`;\n",
       "      return (VEGA_DEBUG[key] == version) ?\n",
       "        Promise.resolve(paths[lib]) :\n",
       "        new Promise(function(resolve, reject) {\n",
       "          var s = document.createElement('script');\n",
       "          document.getElementsByTagName(\"head\")[0].appendChild(s);\n",
       "          s.async = true;\n",
       "          s.onload = () => {\n",
       "            VEGA_DEBUG[key] = version;\n",
       "            return resolve(paths[lib]);\n",
       "          };\n",
       "          s.onerror = () => reject(`Error loading script: ${paths[lib]}`);\n",
       "          s.src = paths[lib];\n",
       "        });\n",
       "    }\n",
       "\n",
       "    function showError(err) {\n",
       "      outputDiv.innerHTML = `<div class=\"error\" style=\"color:red;\">${err}</div>`;\n",
       "      throw err;\n",
       "    }\n",
       "\n",
       "    function displayChart(vegaEmbed) {\n",
       "      vegaEmbed(outputDiv, spec, embedOpt)\n",
       "        .catch(err => showError(`Javascript Error: ${err.message}<br>This usually means there's a typo in your chart specification. See the javascript console for the full traceback.`));\n",
       "    }\n",
       "\n",
       "    if(typeof define === \"function\" && define.amd) {\n",
       "      requirejs.config({paths});\n",
       "      require([\"vega-embed\"], displayChart, err => showError(`Error loading script: ${err.message}`));\n",
       "    } else {\n",
       "      maybeLoadScript(\"vega\", \"5\")\n",
       "        .then(() => maybeLoadScript(\"vega-lite\", \"4.17.0\"))\n",
       "        .then(() => maybeLoadScript(\"vega-embed\", \"6\"))\n",
       "        .catch(showError)\n",
       "        .then(() => displayChart(vegaEmbed));\n",
       "    }\n",
       "  })({\"config\": {\"view\": {\"continuousWidth\": 400, \"continuousHeight\": 300}}, \"data\": {\"name\": \"data-9d9ac114736d3d6e5f0d4399930089d6\"}, \"mark\": \"bar\", \"encoding\": {\"color\": {\"field\": \"Categories\", \"scale\": {\"range\": [\"#2EA8CE\", \"#EB9F3C\", \"#F4D837\", \"#51BF9D\", \"#8CBCCB\", \"#9487C0\"]}, \"type\": \"nominal\"}, \"row\": {\"field\": \"Categories\", \"type\": \"nominal\"}, \"tooltip\": [{\"field\": \"Agency\", \"title\": \"Agency\", \"type\": \"nominal\"}, {\"field\": \"Funding Amount\", \"format\": \"$,.2f\", \"title\": \"Funding Amount\", \"type\": \"quantitative\"}], \"x\": {\"axis\": {\"format\": \"$.2s\", \"title\": \"Obligated Funding ($2021)\"}, \"field\": \"Funding Amount\", \"type\": \"quantitative\"}, \"y\": {\"field\": \"Agency\", \"type\": \"nominal\"}}, \"height\": 70, \"width\": 400, \"$schema\": \"https://vega.github.io/schema/vega-lite/v4.17.0.json\", \"datasets\": {\"data-9d9ac114736d3d6e5f0d4399930089d6\": [{\"Agency\": \"San Luis Obispo\", \"Categories\": \"Total Requested\", \"Funding Amount\": 1832980.2758455556}, {\"Agency\": \"Santa Cruz County Regional Transportation Commission\", \"Categories\": \"Total Requested\", \"Funding Amount\": 197480.95603259266}, {\"Agency\": \"San Luis Obispo\", \"Categories\": \"Fed Requested\", \"Funding Amount\": 1832980.2758455556}, {\"Agency\": \"Santa Cruz County Regional Transportation Commission\", \"Categories\": \"Fed Requested\", \"Funding Amount\": -5.728761019245704}, {\"Agency\": \"San Luis Obispo\", \"Categories\": \"AC Requested\", \"Funding Amount\": 0.0}, {\"Agency\": \"Santa Cruz County Regional Transportation Commission\", \"Categories\": \"AC Requested\", \"Funding Amount\": 0.0}]}}, {\"mode\": \"vega-lite\"});\n",
       "</script>"
      ],
      "text/plain": [
       "alt.Chart(...)"
      ]
     },
     "metadata": {},
     "output_type": "display_data"
    },
    {
     "data": {
      "application/vnd.jupyter.widget-view+json": {
       "model_id": "f5507fdf730b480d8cd1a46c2d3e5273",
       "version_major": 2,
       "version_minor": 0
      },
      "text/plain": [
       "HTML(value='<h3> Top Agencies using Infrastructure & Emergency Relief Projects </h3>')"
      ]
     },
     "metadata": {},
     "output_type": "display_data"
    },
    {
     "data": {
      "application/vnd.jupyter.widget-view+json": {
       "model_id": "c22f20b58acb43f187a3023eeb8b8ed9",
       "version_major": 2,
       "version_minor": 0
      },
      "text/plain": [
       "HTML(value='<style type=\"text/css\">\\n#T_210ae th {\\n  text-align: center;\\n}\\n#T_210ae_row0_col0, #T_210ae_row…"
      ]
     },
     "metadata": {},
     "output_type": "display_data"
    },
    {
     "data": {
      "text/html": [
       "\n",
       "<div id=\"altair-viz-5f0eca46b008498f9cccb2d14f5de9ce\"></div>\n",
       "<script type=\"text/javascript\">\n",
       "  var VEGA_DEBUG = (typeof VEGA_DEBUG == \"undefined\") ? {} : VEGA_DEBUG;\n",
       "  (function(spec, embedOpt){\n",
       "    let outputDiv = document.currentScript.previousElementSibling;\n",
       "    if (outputDiv.id !== \"altair-viz-5f0eca46b008498f9cccb2d14f5de9ce\") {\n",
       "      outputDiv = document.getElementById(\"altair-viz-5f0eca46b008498f9cccb2d14f5de9ce\");\n",
       "    }\n",
       "    const paths = {\n",
       "      \"vega\": \"https://cdn.jsdelivr.net/npm//vega@5?noext\",\n",
       "      \"vega-lib\": \"https://cdn.jsdelivr.net/npm//vega-lib?noext\",\n",
       "      \"vega-lite\": \"https://cdn.jsdelivr.net/npm//vega-lite@4.17.0?noext\",\n",
       "      \"vega-embed\": \"https://cdn.jsdelivr.net/npm//vega-embed@6?noext\",\n",
       "    };\n",
       "\n",
       "    function maybeLoadScript(lib, version) {\n",
       "      var key = `${lib.replace(\"-\", \"\")}_version`;\n",
       "      return (VEGA_DEBUG[key] == version) ?\n",
       "        Promise.resolve(paths[lib]) :\n",
       "        new Promise(function(resolve, reject) {\n",
       "          var s = document.createElement('script');\n",
       "          document.getElementsByTagName(\"head\")[0].appendChild(s);\n",
       "          s.async = true;\n",
       "          s.onload = () => {\n",
       "            VEGA_DEBUG[key] = version;\n",
       "            return resolve(paths[lib]);\n",
       "          };\n",
       "          s.onerror = () => reject(`Error loading script: ${paths[lib]}`);\n",
       "          s.src = paths[lib];\n",
       "        });\n",
       "    }\n",
       "\n",
       "    function showError(err) {\n",
       "      outputDiv.innerHTML = `<div class=\"error\" style=\"color:red;\">${err}</div>`;\n",
       "      throw err;\n",
       "    }\n",
       "\n",
       "    function displayChart(vegaEmbed) {\n",
       "      vegaEmbed(outputDiv, spec, embedOpt)\n",
       "        .catch(err => showError(`Javascript Error: ${err.message}<br>This usually means there's a typo in your chart specification. See the javascript console for the full traceback.`));\n",
       "    }\n",
       "\n",
       "    if(typeof define === \"function\" && define.amd) {\n",
       "      requirejs.config({paths});\n",
       "      require([\"vega-embed\"], displayChart, err => showError(`Error loading script: ${err.message}`));\n",
       "    } else {\n",
       "      maybeLoadScript(\"vega\", \"5\")\n",
       "        .then(() => maybeLoadScript(\"vega-lite\", \"4.17.0\"))\n",
       "        .then(() => maybeLoadScript(\"vega-embed\", \"6\"))\n",
       "        .catch(showError)\n",
       "        .then(() => displayChart(vegaEmbed));\n",
       "    }\n",
       "  })({\"config\": {\"view\": {\"continuousWidth\": 400, \"continuousHeight\": 300}}, \"data\": {\"name\": \"data-1ff79e156733c26b165c7a909a4a0ce7\"}, \"mark\": \"bar\", \"encoding\": {\"color\": {\"field\": \"Categories\", \"scale\": {\"range\": [\"#2EA8CE\", \"#EB9F3C\", \"#F4D837\", \"#51BF9D\", \"#8CBCCB\", \"#9487C0\"]}, \"type\": \"nominal\"}, \"row\": {\"field\": \"Categories\", \"type\": \"nominal\"}, \"tooltip\": [{\"field\": \"Agency\", \"title\": \"Agency\", \"type\": \"nominal\"}, {\"field\": \"Funding Amount\", \"format\": \"$,.2f\", \"title\": \"Funding Amount\", \"type\": \"quantitative\"}], \"x\": {\"axis\": {\"format\": \"$.2s\", \"title\": \"Obligated Funding ($2021)\"}, \"field\": \"Funding Amount\", \"type\": \"quantitative\"}, \"y\": {\"field\": \"Agency\", \"type\": \"nominal\"}}, \"height\": 70, \"width\": 400, \"$schema\": \"https://vega.github.io/schema/vega-lite/v4.17.0.json\", \"datasets\": {\"data-1ff79e156733c26b165c7a909a4a0ce7\": [{\"Agency\": \"Santa Cruz County\", \"Categories\": \"Total Requested\", \"Funding Amount\": 146129.49152376282}, {\"Agency\": \"Santa Barbara County\", \"Categories\": \"Total Requested\", \"Funding Amount\": 584791.548097561}, {\"Agency\": \"San Luis Obispo County\", \"Categories\": \"Total Requested\", \"Funding Amount\": 396828.5890244528}, {\"Agency\": \"Monterey County\", \"Categories\": \"Total Requested\", \"Funding Amount\": 614908.5688943722}, {\"Agency\": \"Santa Barbara\", \"Categories\": \"Total Requested\", \"Funding Amount\": 1321013.7115539142}, {\"Agency\": \"Santa Cruz County\", \"Categories\": \"Fed Requested\", \"Funding Amount\": 147310.0148283088}, {\"Agency\": \"Santa Barbara County\", \"Categories\": \"Fed Requested\", \"Funding Amount\": 365209.51634852827}, {\"Agency\": \"San Luis Obispo County\", \"Categories\": \"Fed Requested\", \"Funding Amount\": 344353.6914578275}, {\"Agency\": \"Monterey County\", \"Categories\": \"Fed Requested\", \"Funding Amount\": 436781.6743519626}, {\"Agency\": \"Santa Barbara\", \"Categories\": \"Fed Requested\", \"Funding Amount\": 1196215.1933411318}, {\"Agency\": \"Santa Cruz County\", \"Categories\": \"AC Requested\", \"Funding Amount\": -18984.43887899868}, {\"Agency\": \"Santa Barbara County\", \"Categories\": \"AC Requested\", \"Funding Amount\": 151830.8607298803}, {\"Agency\": \"San Luis Obispo County\", \"Categories\": \"AC Requested\", \"Funding Amount\": 4430.332724909296}, {\"Agency\": \"Monterey County\", \"Categories\": \"AC Requested\", \"Funding Amount\": 1688.3531048825078}, {\"Agency\": \"Santa Barbara\", \"Categories\": \"AC Requested\", \"Funding Amount\": 0.0}]}}, {\"mode\": \"vega-lite\"});\n",
       "</script>"
      ],
      "text/plain": [
       "alt.Chart(...)"
      ]
     },
     "metadata": {},
     "output_type": "display_data"
    },
    {
     "data": {
      "application/vnd.jupyter.widget-view+json": {
       "model_id": "6a924d42e66842efabe3f40933ab1b03",
       "version_major": 2,
       "version_minor": 0
      },
      "text/plain": [
       "HTML(value='<h3> Top Agencies using Congestion Relief Projects </h3>')"
      ]
     },
     "metadata": {},
     "output_type": "display_data"
    },
    {
     "data": {
      "application/vnd.jupyter.widget-view+json": {
       "model_id": "a67680dbbd8b4bf2b5405eb9ad4f0c7a",
       "version_major": 2,
       "version_minor": 0
      },
      "text/plain": [
       "HTML(value='<style type=\"text/css\">\\n#T_44dbc th {\\n  text-align: center;\\n}\\n#T_44dbc_row0_col0, #T_44dbc_row…"
      ]
     },
     "metadata": {},
     "output_type": "display_data"
    },
    {
     "data": {
      "text/html": [
       "\n",
       "<div id=\"altair-viz-bb82bb9c93dd406da95944be852a0cda\"></div>\n",
       "<script type=\"text/javascript\">\n",
       "  var VEGA_DEBUG = (typeof VEGA_DEBUG == \"undefined\") ? {} : VEGA_DEBUG;\n",
       "  (function(spec, embedOpt){\n",
       "    let outputDiv = document.currentScript.previousElementSibling;\n",
       "    if (outputDiv.id !== \"altair-viz-bb82bb9c93dd406da95944be852a0cda\") {\n",
       "      outputDiv = document.getElementById(\"altair-viz-bb82bb9c93dd406da95944be852a0cda\");\n",
       "    }\n",
       "    const paths = {\n",
       "      \"vega\": \"https://cdn.jsdelivr.net/npm//vega@5?noext\",\n",
       "      \"vega-lib\": \"https://cdn.jsdelivr.net/npm//vega-lib?noext\",\n",
       "      \"vega-lite\": \"https://cdn.jsdelivr.net/npm//vega-lite@4.17.0?noext\",\n",
       "      \"vega-embed\": \"https://cdn.jsdelivr.net/npm//vega-embed@6?noext\",\n",
       "    };\n",
       "\n",
       "    function maybeLoadScript(lib, version) {\n",
       "      var key = `${lib.replace(\"-\", \"\")}_version`;\n",
       "      return (VEGA_DEBUG[key] == version) ?\n",
       "        Promise.resolve(paths[lib]) :\n",
       "        new Promise(function(resolve, reject) {\n",
       "          var s = document.createElement('script');\n",
       "          document.getElementsByTagName(\"head\")[0].appendChild(s);\n",
       "          s.async = true;\n",
       "          s.onload = () => {\n",
       "            VEGA_DEBUG[key] = version;\n",
       "            return resolve(paths[lib]);\n",
       "          };\n",
       "          s.onerror = () => reject(`Error loading script: ${paths[lib]}`);\n",
       "          s.src = paths[lib];\n",
       "        });\n",
       "    }\n",
       "\n",
       "    function showError(err) {\n",
       "      outputDiv.innerHTML = `<div class=\"error\" style=\"color:red;\">${err}</div>`;\n",
       "      throw err;\n",
       "    }\n",
       "\n",
       "    function displayChart(vegaEmbed) {\n",
       "      vegaEmbed(outputDiv, spec, embedOpt)\n",
       "        .catch(err => showError(`Javascript Error: ${err.message}<br>This usually means there's a typo in your chart specification. See the javascript console for the full traceback.`));\n",
       "    }\n",
       "\n",
       "    if(typeof define === \"function\" && define.amd) {\n",
       "      requirejs.config({paths});\n",
       "      require([\"vega-embed\"], displayChart, err => showError(`Error loading script: ${err.message}`));\n",
       "    } else {\n",
       "      maybeLoadScript(\"vega\", \"5\")\n",
       "        .then(() => maybeLoadScript(\"vega-lite\", \"4.17.0\"))\n",
       "        .then(() => maybeLoadScript(\"vega-embed\", \"6\"))\n",
       "        .catch(showError)\n",
       "        .then(() => displayChart(vegaEmbed));\n",
       "    }\n",
       "  })({\"config\": {\"view\": {\"continuousWidth\": 400, \"continuousHeight\": 300}}, \"data\": {\"name\": \"data-fee87c5925db1a75cd609036f9f81972\"}, \"mark\": \"bar\", \"encoding\": {\"color\": {\"field\": \"Categories\", \"scale\": {\"range\": [\"#2EA8CE\", \"#EB9F3C\", \"#F4D837\", \"#51BF9D\", \"#8CBCCB\", \"#9487C0\"]}, \"type\": \"nominal\"}, \"row\": {\"field\": \"Categories\", \"type\": \"nominal\"}, \"tooltip\": [{\"field\": \"Agency\", \"title\": \"Agency\", \"type\": \"nominal\"}, {\"field\": \"Funding Amount\", \"format\": \"$,.2f\", \"title\": \"Funding Amount\", \"type\": \"quantitative\"}], \"x\": {\"axis\": {\"format\": \"$.2s\", \"title\": \"Obligated Funding ($2021)\"}, \"field\": \"Funding Amount\", \"type\": \"quantitative\"}, \"y\": {\"field\": \"Agency\", \"type\": \"nominal\"}}, \"height\": 70, \"width\": 400, \"$schema\": \"https://vega.github.io/schema/vega-lite/v4.17.0.json\", \"datasets\": {\"data-fee87c5925db1a75cd609036f9f81972\": [{\"Agency\": \"Association Of Monterey Bay Area Governments\", \"Categories\": \"Total Requested\", \"Funding Amount\": -1.2461439474805607}, {\"Agency\": \"Council of San Benito County Governments\", \"Categories\": \"Total Requested\", \"Funding Amount\": 39066.08679428901}, {\"Agency\": \"San Luis Obispo Council of Governments\", \"Categories\": \"Total Requested\", \"Funding Amount\": 4329.960243460692}, {\"Agency\": \"Santa Barbara County Association of Governments\", \"Categories\": \"Total Requested\", \"Funding Amount\": 100.82333461312902}, {\"Agency\": \"Association Of Monterey Bay Area Governments\", \"Categories\": \"Fed Requested\", \"Funding Amount\": -1.0975212748452645}, {\"Agency\": \"Council of San Benito County Governments\", \"Categories\": \"Fed Requested\", \"Funding Amount\": 0.0}, {\"Agency\": \"San Luis Obispo Council of Governments\", \"Categories\": \"Fed Requested\", \"Funding Amount\": 0.0}, {\"Agency\": \"Santa Barbara County Association of Governments\", \"Categories\": \"Fed Requested\", \"Funding Amount\": -0.05716256639819086}, {\"Agency\": \"Association Of Monterey Bay Area Governments\", \"Categories\": \"AC Requested\", \"Funding Amount\": 0.0}, {\"Agency\": \"Council of San Benito County Governments\", \"Categories\": \"AC Requested\", \"Funding Amount\": 0.0}, {\"Agency\": \"San Luis Obispo Council of Governments\", \"Categories\": \"AC Requested\", \"Funding Amount\": 0.0}, {\"Agency\": \"Santa Barbara County Association of Governments\", \"Categories\": \"AC Requested\", \"Funding Amount\": 0.0}]}}, {\"mode\": \"vega-lite\"});\n",
       "</script>"
      ],
      "text/plain": [
       "alt.Chart(...)"
      ]
     },
     "metadata": {},
     "output_type": "display_data"
    }
   ],
   "source": [
    "# create loop:\n",
    "\n",
    "work_cat = ['active_transp', 'transit', 'bridge', 'street','freeway', 'infra_resiliency_er','congestion_relief']\n",
    "\n",
    "for cat in work_cat:\n",
    "    _dla_utils.project_cat(df, cat, district)"
   ]
  },
  {
   "cell_type": "code",
   "execution_count": null,
   "id": "5a50e751-dd3f-498f-9a28-2edc321b534f",
   "metadata": {
    "jupyter": {
     "source_hidden": true
    },
    "papermill": {
     "duration": 0.03822,
     "end_time": "2022-05-31T21:50:43.436375",
     "exception": false,
     "start_time": "2022-05-31T21:50:43.398155",
     "status": "completed"
    },
    "tags": [
     "remove_input"
    ]
   },
   "outputs": [],
   "source": []
  },
  {
   "cell_type": "code",
   "execution_count": null,
   "id": "9ecbddcd-3d8e-4955-9294-5a63a98ca2a7",
   "metadata": {
    "jupyter": {
     "source_hidden": true
    },
    "papermill": {
     "duration": 0.039582,
     "end_time": "2022-05-31T21:50:43.514495",
     "exception": false,
     "start_time": "2022-05-31T21:50:43.474913",
     "status": "completed"
    },
    "tags": [
     "remove_input"
    ]
   },
   "outputs": [],
   "source": []
  }
 ],
 "metadata": {
  "kernelspec": {
   "display_name": "Python 3 (ipykernel)",
   "language": "python",
   "name": "python3"
  },
  "language_info": {
   "codemirror_mode": {
    "name": "ipython",
    "version": 3
   },
   "file_extension": ".py",
   "mimetype": "text/x-python",
   "name": "python",
   "nbconvert_exporter": "python",
   "pygments_lexer": "ipython3",
   "version": "3.9.12"
  },
  "papermill": {
   "default_parameters": {},
   "duration": 17.115953,
   "end_time": "2022-05-31T21:50:45.925599",
   "environment_variables": {},
   "exception": null,
   "input_path": "dla/e76_obligated_funds/reports/dla_district_report.ipynb",
   "output_path": "portfolio/dla/district_5__district_title_district-5-san-luis-obispo/0__dla_district_report__district_5__district_title_district-5-san-luis-obispo.ipynb",
   "parameters": {
    "district": 5,
    "district_title": "District 5 - San Luis Obispo"
   },
   "start_time": "2022-05-31T21:50:28.809646",
   "version": "2.3.4"
  },
  "widgets": {
   "application/vnd.jupyter.widget-state+json": {
    "state": {
     "03069ca46b1547fdb7950b051999fb4d": {
      "model_module": "@jupyter-widgets/base",
      "model_module_version": "1.2.0",
      "model_name": "LayoutModel",
      "state": {
       "_model_module": "@jupyter-widgets/base",
       "_model_module_version": "1.2.0",
       "_model_name": "LayoutModel",
       "_view_count": null,
       "_view_module": "@jupyter-widgets/base",
       "_view_module_version": "1.2.0",
       "_view_name": "LayoutView",
       "align_content": null,
       "align_items": null,
       "align_self": null,
       "border": null,
       "bottom": null,
       "display": null,
       "flex": null,
       "flex_flow": null,
       "grid_area": null,
       "grid_auto_columns": null,
       "grid_auto_flow": null,
       "grid_auto_rows": null,
       "grid_column": null,
       "grid_gap": null,
       "grid_row": null,
       "grid_template_areas": null,
       "grid_template_columns": null,
       "grid_template_rows": null,
       "height": null,
       "justify_content": null,
       "justify_items": null,
       "left": null,
       "margin": null,
       "max_height": null,
       "max_width": null,
       "min_height": null,
       "min_width": null,
       "object_fit": null,
       "object_position": null,
       "order": null,
       "overflow": null,
       "overflow_x": null,
       "overflow_y": null,
       "padding": null,
       "right": null,
       "top": null,
       "visibility": null,
       "width": null
      }
     },
     "0355c1adfd4a46fa853dd8ef28d9c02c": {
      "model_module": "@jupyter-widgets/base",
      "model_module_version": "1.2.0",
      "model_name": "LayoutModel",
      "state": {
       "_model_module": "@jupyter-widgets/base",
       "_model_module_version": "1.2.0",
       "_model_name": "LayoutModel",
       "_view_count": null,
       "_view_module": "@jupyter-widgets/base",
       "_view_module_version": "1.2.0",
       "_view_name": "LayoutView",
       "align_content": null,
       "align_items": null,
       "align_self": null,
       "border": null,
       "bottom": null,
       "display": null,
       "flex": null,
       "flex_flow": null,
       "grid_area": null,
       "grid_auto_columns": null,
       "grid_auto_flow": null,
       "grid_auto_rows": null,
       "grid_column": null,
       "grid_gap": null,
       "grid_row": null,
       "grid_template_areas": null,
       "grid_template_columns": null,
       "grid_template_rows": null,
       "height": null,
       "justify_content": null,
       "justify_items": null,
       "left": null,
       "margin": null,
       "max_height": null,
       "max_width": null,
       "min_height": null,
       "min_width": null,
       "object_fit": null,
       "object_position": null,
       "order": null,
       "overflow": null,
       "overflow_x": null,
       "overflow_y": null,
       "padding": null,
       "right": null,
       "top": null,
       "visibility": null,
       "width": null
      }
     },
     "051b0baecb0a474c9f6bbea744130431": {
      "model_module": "@jupyter-widgets/controls",
      "model_module_version": "1.5.0",
      "model_name": "DescriptionStyleModel",
      "state": {
       "_model_module": "@jupyter-widgets/controls",
       "_model_module_version": "1.5.0",
       "_model_name": "DescriptionStyleModel",
       "_view_count": null,
       "_view_module": "@jupyter-widgets/base",
       "_view_module_version": "1.2.0",
       "_view_name": "StyleView",
       "description_width": ""
      }
     },
     "06f0afa20fb44f08bd24d412f5a6bec0": {
      "model_module": "@jupyter-widgets/controls",
      "model_module_version": "1.5.0",
      "model_name": "HTMLModel",
      "state": {
       "_dom_classes": [],
       "_model_module": "@jupyter-widgets/controls",
       "_model_module_version": "1.5.0",
       "_model_name": "HTMLModel",
       "_view_count": null,
       "_view_module": "@jupyter-widgets/controls",
       "_view_module_version": "1.5.0",
       "_view_name": "HTMLView",
       "description": "",
       "description_tooltip": null,
       "layout": "IPY_MODEL_1b8183a4caf24061aa6f464b88979cdb",
       "placeholder": "​",
       "style": "IPY_MODEL_610fd7c90e7f47e69d61db342176d07c",
       "value": "<style type=\"text/css\">\n#T_a5036 th {\n  text-align: center;\n}\n#T_a5036_row0_col0, #T_a5036_row0_col1, #T_a5036_row0_col2, #T_a5036_row1_col0, #T_a5036_row1_col1, #T_a5036_row1_col2, #T_a5036_row2_col0, #T_a5036_row2_col1, #T_a5036_row2_col2, #T_a5036_row3_col0, #T_a5036_row3_col1, #T_a5036_row3_col2, #T_a5036_row4_col0, #T_a5036_row4_col1, #T_a5036_row4_col2 {\n  text-align: center;\n}\n</style>\n<table id=\"T_a5036\">\n  <thead>\n    <tr>\n      <th id=\"T_a5036_level0_col0\" class=\"col_heading level0 col0\" >Agency</th>\n      <th id=\"T_a5036_level0_col1\" class=\"col_heading level0 col1\" >Bridge Obligations</th>\n      <th id=\"T_a5036_level0_col2\" class=\"col_heading level0 col2\" >Percent Of Category</th>\n    </tr>\n  </thead>\n  <tbody>\n    <tr>\n      <td id=\"T_a5036_row0_col0\" class=\"data row0 col0\" >Santa Barbara County</td>\n      <td id=\"T_a5036_row0_col1\" class=\"data row0 col1\" >73</td>\n      <td id=\"T_a5036_row0_col2\" class=\"data row0 col2\" >$20.62</td>\n    </tr>\n    <tr>\n      <td id=\"T_a5036_row1_col0\" class=\"data row1 col0\" >Santa Barbara</td>\n      <td id=\"T_a5036_row1_col1\" class=\"data row1 col1\" >66</td>\n      <td id=\"T_a5036_row1_col2\" class=\"data row1 col2\" >$18.64</td>\n    </tr>\n    <tr>\n      <td id=\"T_a5036_row2_col0\" class=\"data row2 col0\" >San Luis Obispo County</td>\n      <td id=\"T_a5036_row2_col1\" class=\"data row2 col1\" >59</td>\n      <td id=\"T_a5036_row2_col2\" class=\"data row2 col2\" >$16.67</td>\n    </tr>\n    <tr>\n      <td id=\"T_a5036_row3_col0\" class=\"data row3 col0\" >San Benito County</td>\n      <td id=\"T_a5036_row3_col1\" class=\"data row3 col1\" >36</td>\n      <td id=\"T_a5036_row3_col2\" class=\"data row3 col2\" >$10.17</td>\n    </tr>\n    <tr>\n      <td id=\"T_a5036_row4_col0\" class=\"data row4 col0\" >Monterey County</td>\n      <td id=\"T_a5036_row4_col1\" class=\"data row4 col1\" >32</td>\n      <td id=\"T_a5036_row4_col2\" class=\"data row4 col2\" >$9.04</td>\n    </tr>\n  </tbody>\n</table>\n"
      }
     },
     "0cedf1bcd6754156ba7d3b837a989f49": {
      "model_module": "@jupyter-widgets/base",
      "model_module_version": "1.2.0",
      "model_name": "LayoutModel",
      "state": {
       "_model_module": "@jupyter-widgets/base",
       "_model_module_version": "1.2.0",
       "_model_name": "LayoutModel",
       "_view_count": null,
       "_view_module": "@jupyter-widgets/base",
       "_view_module_version": "1.2.0",
       "_view_name": "LayoutView",
       "align_content": null,
       "align_items": null,
       "align_self": null,
       "border": null,
       "bottom": null,
       "display": null,
       "flex": null,
       "flex_flow": null,
       "grid_area": null,
       "grid_auto_columns": null,
       "grid_auto_flow": null,
       "grid_auto_rows": null,
       "grid_column": null,
       "grid_gap": null,
       "grid_row": null,
       "grid_template_areas": null,
       "grid_template_columns": null,
       "grid_template_rows": null,
       "height": null,
       "justify_content": null,
       "justify_items": null,
       "left": null,
       "margin": null,
       "max_height": null,
       "max_width": null,
       "min_height": null,
       "min_width": null,
       "object_fit": null,
       "object_position": null,
       "order": null,
       "overflow": null,
       "overflow_x": null,
       "overflow_y": null,
       "padding": null,
       "right": null,
       "top": null,
       "visibility": null,
       "width": null
      }
     },
     "10f71348fa3c4b3282021f548c83666d": {
      "model_module": "@jupyter-widgets/controls",
      "model_module_version": "1.5.0",
      "model_name": "HTMLModel",
      "state": {
       "_dom_classes": [],
       "_model_module": "@jupyter-widgets/controls",
       "_model_module_version": "1.5.0",
       "_model_name": "HTMLModel",
       "_view_count": null,
       "_view_module": "@jupyter-widgets/controls",
       "_view_module_version": "1.5.0",
       "_view_name": "HTMLView",
       "description": "",
       "description_tooltip": null,
       "layout": "IPY_MODEL_1e149f0f1dd648ff836b2b6ad18fa03d",
       "placeholder": "​",
       "style": "IPY_MODEL_ae74ba6e279c4031a3807c8a143aae64",
       "value": "<h3> Top Agencies using Bridge Projects </h3>"
      }
     },
     "1a4462e4411c48ed96ce85e2925ea166": {
      "model_module": "@jupyter-widgets/controls",
      "model_module_version": "1.5.0",
      "model_name": "DescriptionStyleModel",
      "state": {
       "_model_module": "@jupyter-widgets/controls",
       "_model_module_version": "1.5.0",
       "_model_name": "DescriptionStyleModel",
       "_view_count": null,
       "_view_module": "@jupyter-widgets/base",
       "_view_module_version": "1.2.0",
       "_view_name": "StyleView",
       "description_width": ""
      }
     },
     "1b8183a4caf24061aa6f464b88979cdb": {
      "model_module": "@jupyter-widgets/base",
      "model_module_version": "1.2.0",
      "model_name": "LayoutModel",
      "state": {
       "_model_module": "@jupyter-widgets/base",
       "_model_module_version": "1.2.0",
       "_model_name": "LayoutModel",
       "_view_count": null,
       "_view_module": "@jupyter-widgets/base",
       "_view_module_version": "1.2.0",
       "_view_name": "LayoutView",
       "align_content": null,
       "align_items": null,
       "align_self": null,
       "border": null,
       "bottom": null,
       "display": null,
       "flex": null,
       "flex_flow": null,
       "grid_area": null,
       "grid_auto_columns": null,
       "grid_auto_flow": null,
       "grid_auto_rows": null,
       "grid_column": null,
       "grid_gap": null,
       "grid_row": null,
       "grid_template_areas": null,
       "grid_template_columns": null,
       "grid_template_rows": null,
       "height": null,
       "justify_content": null,
       "justify_items": null,
       "left": null,
       "margin": null,
       "max_height": null,
       "max_width": null,
       "min_height": null,
       "min_width": null,
       "object_fit": null,
       "object_position": null,
       "order": null,
       "overflow": null,
       "overflow_x": null,
       "overflow_y": null,
       "padding": null,
       "right": null,
       "top": null,
       "visibility": null,
       "width": null
      }
     },
     "1d5a644c28c845948577f02ba43b4d56": {
      "model_module": "@jupyter-widgets/controls",
      "model_module_version": "1.5.0",
      "model_name": "HTMLModel",
      "state": {
       "_dom_classes": [],
       "_model_module": "@jupyter-widgets/controls",
       "_model_module_version": "1.5.0",
       "_model_name": "HTMLModel",
       "_view_count": null,
       "_view_module": "@jupyter-widgets/controls",
       "_view_module_version": "1.5.0",
       "_view_name": "HTMLView",
       "description": "",
       "description_tooltip": null,
       "layout": "IPY_MODEL_f894d5a8013c4a55915f5f3bee66b30d",
       "placeholder": "​",
       "style": "IPY_MODEL_bc89c933ca0646a695a69c0080093e57",
       "value": "<style type=\"text/css\">\n#T_b427d th {\n  text-align: center;\n}\n#T_b427d_row0_col0, #T_b427d_row0_col1, #T_b427d_row0_col2, #T_b427d_row1_col0, #T_b427d_row1_col1, #T_b427d_row1_col2, #T_b427d_row2_col0, #T_b427d_row2_col1, #T_b427d_row2_col2 {\n  text-align: center;\n}\n</style>\n<table id=\"T_b427d\">\n  <thead>\n    <tr>\n      <th id=\"T_b427d_level0_col0\" class=\"col_heading level0 col0\" >Agency</th>\n      <th id=\"T_b427d_level0_col1\" class=\"col_heading level0 col1\" >Transit Obligations</th>\n      <th id=\"T_b427d_level0_col2\" class=\"col_heading level0 col2\" >Percent Of Category</th>\n    </tr>\n  </thead>\n  <tbody>\n    <tr>\n      <td id=\"T_b427d_row0_col0\" class=\"data row0 col0\" >Grover Beach</td>\n      <td id=\"T_b427d_row0_col1\" class=\"data row0 col1\" >3</td>\n      <td id=\"T_b427d_row0_col2\" class=\"data row0 col2\" >$50.00</td>\n    </tr>\n    <tr>\n      <td id=\"T_b427d_row1_col0\" class=\"data row1 col0\" >San Luis Obispo</td>\n      <td id=\"T_b427d_row1_col1\" class=\"data row1 col1\" >2</td>\n      <td id=\"T_b427d_row1_col2\" class=\"data row1 col2\" >$33.33</td>\n    </tr>\n    <tr>\n      <td id=\"T_b427d_row2_col0\" class=\"data row2 col0\" >San Luis Obispo County</td>\n      <td id=\"T_b427d_row2_col1\" class=\"data row2 col1\" >1</td>\n      <td id=\"T_b427d_row2_col2\" class=\"data row2 col2\" >$16.67</td>\n    </tr>\n  </tbody>\n</table>\n"
      }
     },
     "1e149f0f1dd648ff836b2b6ad18fa03d": {
      "model_module": "@jupyter-widgets/base",
      "model_module_version": "1.2.0",
      "model_name": "LayoutModel",
      "state": {
       "_model_module": "@jupyter-widgets/base",
       "_model_module_version": "1.2.0",
       "_model_name": "LayoutModel",
       "_view_count": null,
       "_view_module": "@jupyter-widgets/base",
       "_view_module_version": "1.2.0",
       "_view_name": "LayoutView",
       "align_content": null,
       "align_items": null,
       "align_self": null,
       "border": null,
       "bottom": null,
       "display": null,
       "flex": null,
       "flex_flow": null,
       "grid_area": null,
       "grid_auto_columns": null,
       "grid_auto_flow": null,
       "grid_auto_rows": null,
       "grid_column": null,
       "grid_gap": null,
       "grid_row": null,
       "grid_template_areas": null,
       "grid_template_columns": null,
       "grid_template_rows": null,
       "height": null,
       "justify_content": null,
       "justify_items": null,
       "left": null,
       "margin": null,
       "max_height": null,
       "max_width": null,
       "min_height": null,
       "min_width": null,
       "object_fit": null,
       "object_position": null,
       "order": null,
       "overflow": null,
       "overflow_x": null,
       "overflow_y": null,
       "padding": null,
       "right": null,
       "top": null,
       "visibility": null,
       "width": null
      }
     },
     "2c2eb74540834107acc468d39f68f723": {
      "model_module": "@jupyter-widgets/controls",
      "model_module_version": "1.5.0",
      "model_name": "DescriptionStyleModel",
      "state": {
       "_model_module": "@jupyter-widgets/controls",
       "_model_module_version": "1.5.0",
       "_model_name": "DescriptionStyleModel",
       "_view_count": null,
       "_view_module": "@jupyter-widgets/base",
       "_view_module_version": "1.2.0",
       "_view_name": "StyleView",
       "description_width": ""
      }
     },
     "349da9695479423d994139849d8e83a2": {
      "model_module": "@jupyter-widgets/controls",
      "model_module_version": "1.5.0",
      "model_name": "HTMLModel",
      "state": {
       "_dom_classes": [],
       "_model_module": "@jupyter-widgets/controls",
       "_model_module_version": "1.5.0",
       "_model_name": "HTMLModel",
       "_view_count": null,
       "_view_module": "@jupyter-widgets/controls",
       "_view_module_version": "1.5.0",
       "_view_name": "HTMLView",
       "description": "",
       "description_tooltip": null,
       "layout": "IPY_MODEL_97dca7e8f8b04ad796276ac6f7db5516",
       "placeholder": "​",
       "style": "IPY_MODEL_9bde46368dda404e80bbf93456588a78",
       "value": "<style type=\"text/css\">\n#T_0459e th {\n  text-align: center;\n}\n#T_0459e_row0_col0, #T_0459e_row0_col1, #T_0459e_row0_col2, #T_0459e_row1_col0, #T_0459e_row1_col1, #T_0459e_row1_col2, #T_0459e_row2_col0, #T_0459e_row2_col1, #T_0459e_row2_col2, #T_0459e_row3_col0, #T_0459e_row3_col1, #T_0459e_row3_col2, #T_0459e_row4_col0, #T_0459e_row4_col1, #T_0459e_row4_col2 {\n  text-align: center;\n}\n</style>\n<table id=\"T_0459e\">\n  <thead>\n    <tr>\n      <th id=\"T_0459e_level0_col0\" class=\"col_heading level0 col0\" >Agency</th>\n      <th id=\"T_0459e_level0_col1\" class=\"col_heading level0 col1\" >Street Obligations</th>\n      <th id=\"T_0459e_level0_col2\" class=\"col_heading level0 col2\" >Percent Of Category</th>\n    </tr>\n  </thead>\n  <tbody>\n    <tr>\n      <td id=\"T_0459e_row0_col0\" class=\"data row0 col0\" >Santa Cruz County</td>\n      <td id=\"T_0459e_row0_col1\" class=\"data row0 col1\" >305</td>\n      <td id=\"T_0459e_row0_col2\" class=\"data row0 col2\" >$55.15</td>\n    </tr>\n    <tr>\n      <td id=\"T_0459e_row1_col0\" class=\"data row1 col0\" >Santa Barbara County</td>\n      <td id=\"T_0459e_row1_col1\" class=\"data row1 col1\" >39</td>\n      <td id=\"T_0459e_row1_col2\" class=\"data row1 col2\" >$7.05</td>\n    </tr>\n    <tr>\n      <td id=\"T_0459e_row2_col0\" class=\"data row2 col0\" >San Luis Obispo County</td>\n      <td id=\"T_0459e_row2_col1\" class=\"data row2 col1\" >32</td>\n      <td id=\"T_0459e_row2_col2\" class=\"data row2 col2\" >$5.79</td>\n    </tr>\n    <tr>\n      <td id=\"T_0459e_row3_col0\" class=\"data row3 col0\" >Santa Barbara</td>\n      <td id=\"T_0459e_row3_col1\" class=\"data row3 col1\" >27</td>\n      <td id=\"T_0459e_row3_col2\" class=\"data row3 col2\" >$4.88</td>\n    </tr>\n    <tr>\n      <td id=\"T_0459e_row4_col0\" class=\"data row4 col0\" >Salinas</td>\n      <td id=\"T_0459e_row4_col1\" class=\"data row4 col1\" >22</td>\n      <td id=\"T_0459e_row4_col2\" class=\"data row4 col2\" >$3.98</td>\n    </tr>\n  </tbody>\n</table>\n"
      }
     },
     "4e3c25cd7449465ab77dd8bf3e9fea4e": {
      "model_module": "@jupyter-widgets/base",
      "model_module_version": "1.2.0",
      "model_name": "LayoutModel",
      "state": {
       "_model_module": "@jupyter-widgets/base",
       "_model_module_version": "1.2.0",
       "_model_name": "LayoutModel",
       "_view_count": null,
       "_view_module": "@jupyter-widgets/base",
       "_view_module_version": "1.2.0",
       "_view_name": "LayoutView",
       "align_content": null,
       "align_items": null,
       "align_self": null,
       "border": null,
       "bottom": null,
       "display": null,
       "flex": null,
       "flex_flow": null,
       "grid_area": null,
       "grid_auto_columns": null,
       "grid_auto_flow": null,
       "grid_auto_rows": null,
       "grid_column": null,
       "grid_gap": null,
       "grid_row": null,
       "grid_template_areas": null,
       "grid_template_columns": null,
       "grid_template_rows": null,
       "height": null,
       "justify_content": null,
       "justify_items": null,
       "left": null,
       "margin": null,
       "max_height": null,
       "max_width": null,
       "min_height": null,
       "min_width": null,
       "object_fit": null,
       "object_position": null,
       "order": null,
       "overflow": null,
       "overflow_x": null,
       "overflow_y": null,
       "padding": null,
       "right": null,
       "top": null,
       "visibility": null,
       "width": null
      }
     },
     "4fb75ba037014453b3377b253f21e856": {
      "model_module": "@jupyter-widgets/controls",
      "model_module_version": "1.5.0",
      "model_name": "DescriptionStyleModel",
      "state": {
       "_model_module": "@jupyter-widgets/controls",
       "_model_module_version": "1.5.0",
       "_model_name": "DescriptionStyleModel",
       "_view_count": null,
       "_view_module": "@jupyter-widgets/base",
       "_view_module_version": "1.2.0",
       "_view_name": "StyleView",
       "description_width": ""
      }
     },
     "5467ad359bc7487a9758e0bd55bdea82": {
      "model_module": "@jupyter-widgets/controls",
      "model_module_version": "1.5.0",
      "model_name": "HTMLModel",
      "state": {
       "_dom_classes": [],
       "_model_module": "@jupyter-widgets/controls",
       "_model_module_version": "1.5.0",
       "_model_name": "HTMLModel",
       "_view_count": null,
       "_view_module": "@jupyter-widgets/controls",
       "_view_module_version": "1.5.0",
       "_view_name": "HTMLView",
       "description": "",
       "description_tooltip": null,
       "layout": "IPY_MODEL_4e3c25cd7449465ab77dd8bf3e9fea4e",
       "placeholder": "​",
       "style": "IPY_MODEL_1a4462e4411c48ed96ce85e2925ea166",
       "value": "<h3> Top Agencies using Active Transportation Projects </h3>"
      }
     },
     "5aafa4a4698e4aa2923d9be9996695bd": {
      "model_module": "@jupyter-widgets/controls",
      "model_module_version": "1.5.0",
      "model_name": "HTMLModel",
      "state": {
       "_dom_classes": [],
       "_model_module": "@jupyter-widgets/controls",
       "_model_module_version": "1.5.0",
       "_model_name": "HTMLModel",
       "_view_count": null,
       "_view_module": "@jupyter-widgets/controls",
       "_view_module_version": "1.5.0",
       "_view_name": "HTMLView",
       "description": "",
       "description_tooltip": null,
       "layout": "IPY_MODEL_9ee67198b0b24ecf9fef7529fb7cfc19",
       "placeholder": "​",
       "style": "IPY_MODEL_2c2eb74540834107acc468d39f68f723",
       "value": "<h3> Top Agencies using Transit Projects </h3>"
      }
     },
     "5c2a7cdb290344a5ae825414f6aa2fce": {
      "model_module": "@jupyter-widgets/base",
      "model_module_version": "1.2.0",
      "model_name": "LayoutModel",
      "state": {
       "_model_module": "@jupyter-widgets/base",
       "_model_module_version": "1.2.0",
       "_model_name": "LayoutModel",
       "_view_count": null,
       "_view_module": "@jupyter-widgets/base",
       "_view_module_version": "1.2.0",
       "_view_name": "LayoutView",
       "align_content": null,
       "align_items": null,
       "align_self": null,
       "border": null,
       "bottom": null,
       "display": null,
       "flex": null,
       "flex_flow": null,
       "grid_area": null,
       "grid_auto_columns": null,
       "grid_auto_flow": null,
       "grid_auto_rows": null,
       "grid_column": null,
       "grid_gap": null,
       "grid_row": null,
       "grid_template_areas": null,
       "grid_template_columns": null,
       "grid_template_rows": null,
       "height": null,
       "justify_content": null,
       "justify_items": null,
       "left": null,
       "margin": null,
       "max_height": null,
       "max_width": null,
       "min_height": null,
       "min_width": null,
       "object_fit": null,
       "object_position": null,
       "order": null,
       "overflow": null,
       "overflow_x": null,
       "overflow_y": null,
       "padding": null,
       "right": null,
       "top": null,
       "visibility": null,
       "width": null
      }
     },
     "5f690400c1d04eb393f0be7ebdbe159a": {
      "model_module": "@jupyter-widgets/base",
      "model_module_version": "1.2.0",
      "model_name": "LayoutModel",
      "state": {
       "_model_module": "@jupyter-widgets/base",
       "_model_module_version": "1.2.0",
       "_model_name": "LayoutModel",
       "_view_count": null,
       "_view_module": "@jupyter-widgets/base",
       "_view_module_version": "1.2.0",
       "_view_name": "LayoutView",
       "align_content": null,
       "align_items": null,
       "align_self": null,
       "border": null,
       "bottom": null,
       "display": null,
       "flex": null,
       "flex_flow": null,
       "grid_area": null,
       "grid_auto_columns": null,
       "grid_auto_flow": null,
       "grid_auto_rows": null,
       "grid_column": null,
       "grid_gap": null,
       "grid_row": null,
       "grid_template_areas": null,
       "grid_template_columns": null,
       "grid_template_rows": null,
       "height": null,
       "justify_content": null,
       "justify_items": null,
       "left": null,
       "margin": null,
       "max_height": null,
       "max_width": null,
       "min_height": null,
       "min_width": null,
       "object_fit": null,
       "object_position": null,
       "order": null,
       "overflow": null,
       "overflow_x": null,
       "overflow_y": null,
       "padding": null,
       "right": null,
       "top": null,
       "visibility": null,
       "width": null
      }
     },
     "610fd7c90e7f47e69d61db342176d07c": {
      "model_module": "@jupyter-widgets/controls",
      "model_module_version": "1.5.0",
      "model_name": "DescriptionStyleModel",
      "state": {
       "_model_module": "@jupyter-widgets/controls",
       "_model_module_version": "1.5.0",
       "_model_name": "DescriptionStyleModel",
       "_view_count": null,
       "_view_module": "@jupyter-widgets/base",
       "_view_module_version": "1.2.0",
       "_view_name": "StyleView",
       "description_width": ""
      }
     },
     "6a924d42e66842efabe3f40933ab1b03": {
      "model_module": "@jupyter-widgets/controls",
      "model_module_version": "1.5.0",
      "model_name": "HTMLModel",
      "state": {
       "_dom_classes": [],
       "_model_module": "@jupyter-widgets/controls",
       "_model_module_version": "1.5.0",
       "_model_name": "HTMLModel",
       "_view_count": null,
       "_view_module": "@jupyter-widgets/controls",
       "_view_module_version": "1.5.0",
       "_view_name": "HTMLView",
       "description": "",
       "description_tooltip": null,
       "layout": "IPY_MODEL_caacdb0c241f45778019e7188da0df8a",
       "placeholder": "​",
       "style": "IPY_MODEL_d68ad200cc78412e986a0b71e0079ac7",
       "value": "<h3> Top Agencies using Congestion Relief Projects </h3>"
      }
     },
     "7854936c963044179e5531d8ca613f3b": {
      "model_module": "@jupyter-widgets/controls",
      "model_module_version": "1.5.0",
      "model_name": "DescriptionStyleModel",
      "state": {
       "_model_module": "@jupyter-widgets/controls",
       "_model_module_version": "1.5.0",
       "_model_name": "DescriptionStyleModel",
       "_view_count": null,
       "_view_module": "@jupyter-widgets/base",
       "_view_module_version": "1.2.0",
       "_view_name": "StyleView",
       "description_width": ""
      }
     },
     "7b46a297f96d438c823b90863a9e4305": {
      "model_module": "@jupyter-widgets/controls",
      "model_module_version": "1.5.0",
      "model_name": "HTMLModel",
      "state": {
       "_dom_classes": [],
       "_model_module": "@jupyter-widgets/controls",
       "_model_module_version": "1.5.0",
       "_model_name": "HTMLModel",
       "_view_count": null,
       "_view_module": "@jupyter-widgets/controls",
       "_view_module_version": "1.5.0",
       "_view_name": "HTMLView",
       "description": "",
       "description_tooltip": null,
       "layout": "IPY_MODEL_e094dbdd9cfc4f82820d46cc73b3bca8",
       "placeholder": "​",
       "style": "IPY_MODEL_7f5b7af178cb43bbb8fd826e59ec3b69",
       "value": "<style type=\"text/css\">\n#T_cef8b th {\n  text-align: center;\n}\n#T_cef8b_row0_col0, #T_cef8b_row0_col1, #T_cef8b_row0_col2, #T_cef8b_row1_col0, #T_cef8b_row1_col1, #T_cef8b_row1_col2, #T_cef8b_row2_col0, #T_cef8b_row2_col1, #T_cef8b_row2_col2, #T_cef8b_row3_col0, #T_cef8b_row3_col1, #T_cef8b_row3_col2, #T_cef8b_row4_col0, #T_cef8b_row4_col1, #T_cef8b_row4_col2 {\n  text-align: center;\n}\n</style>\n<table id=\"T_cef8b\">\n  <thead>\n    <tr>\n      <th id=\"T_cef8b_level0_col0\" class=\"col_heading level0 col0\" >Agency</th>\n      <th id=\"T_cef8b_level0_col1\" class=\"col_heading level0 col1\" >Active Transportation Obligations</th>\n      <th id=\"T_cef8b_level0_col2\" class=\"col_heading level0 col2\" >Percent Of Category</th>\n    </tr>\n  </thead>\n  <tbody>\n    <tr>\n      <td id=\"T_cef8b_row0_col0\" class=\"data row0 col0\" >Santa Barbara</td>\n      <td id=\"T_cef8b_row0_col1\" class=\"data row0 col1\" >31</td>\n      <td id=\"T_cef8b_row0_col2\" class=\"data row0 col2\" >$18.24</td>\n    </tr>\n    <tr>\n      <td id=\"T_cef8b_row1_col0\" class=\"data row1 col0\" >Santa Cruz</td>\n      <td id=\"T_cef8b_row1_col1\" class=\"data row1 col1\" >18</td>\n      <td id=\"T_cef8b_row1_col2\" class=\"data row1 col2\" >$10.59</td>\n    </tr>\n    <tr>\n      <td id=\"T_cef8b_row2_col0\" class=\"data row2 col0\" >San Luis Obispo County</td>\n      <td id=\"T_cef8b_row2_col1\" class=\"data row2 col1\" >17</td>\n      <td id=\"T_cef8b_row2_col2\" class=\"data row2 col2\" >$10.00</td>\n    </tr>\n    <tr>\n      <td id=\"T_cef8b_row3_col0\" class=\"data row3 col0\" >Monterey County</td>\n      <td id=\"T_cef8b_row3_col1\" class=\"data row3 col1\" >14</td>\n      <td id=\"T_cef8b_row3_col2\" class=\"data row3 col2\" >$8.24</td>\n    </tr>\n    <tr>\n      <td id=\"T_cef8b_row4_col0\" class=\"data row4 col0\" >Santa Cruz County</td>\n      <td id=\"T_cef8b_row4_col1\" class=\"data row4 col1\" >12</td>\n      <td id=\"T_cef8b_row4_col2\" class=\"data row4 col2\" >$7.06</td>\n    </tr>\n  </tbody>\n</table>\n"
      }
     },
     "7d8b76154a9e4ba1b6d6cc3a915a0a9d": {
      "model_module": "@jupyter-widgets/controls",
      "model_module_version": "1.5.0",
      "model_name": "DescriptionStyleModel",
      "state": {
       "_model_module": "@jupyter-widgets/controls",
       "_model_module_version": "1.5.0",
       "_model_name": "DescriptionStyleModel",
       "_view_count": null,
       "_view_module": "@jupyter-widgets/base",
       "_view_module_version": "1.2.0",
       "_view_name": "StyleView",
       "description_width": ""
      }
     },
     "7f5b7af178cb43bbb8fd826e59ec3b69": {
      "model_module": "@jupyter-widgets/controls",
      "model_module_version": "1.5.0",
      "model_name": "DescriptionStyleModel",
      "state": {
       "_model_module": "@jupyter-widgets/controls",
       "_model_module_version": "1.5.0",
       "_model_name": "DescriptionStyleModel",
       "_view_count": null,
       "_view_module": "@jupyter-widgets/base",
       "_view_module_version": "1.2.0",
       "_view_name": "StyleView",
       "description_width": ""
      }
     },
     "8b2aa14a7fbd4173ab5460a6ee7bc3e9": {
      "model_module": "@jupyter-widgets/controls",
      "model_module_version": "1.5.0",
      "model_name": "DescriptionStyleModel",
      "state": {
       "_model_module": "@jupyter-widgets/controls",
       "_model_module_version": "1.5.0",
       "_model_name": "DescriptionStyleModel",
       "_view_count": null,
       "_view_module": "@jupyter-widgets/base",
       "_view_module_version": "1.2.0",
       "_view_name": "StyleView",
       "description_width": ""
      }
     },
     "97dca7e8f8b04ad796276ac6f7db5516": {
      "model_module": "@jupyter-widgets/base",
      "model_module_version": "1.2.0",
      "model_name": "LayoutModel",
      "state": {
       "_model_module": "@jupyter-widgets/base",
       "_model_module_version": "1.2.0",
       "_model_name": "LayoutModel",
       "_view_count": null,
       "_view_module": "@jupyter-widgets/base",
       "_view_module_version": "1.2.0",
       "_view_name": "LayoutView",
       "align_content": null,
       "align_items": null,
       "align_self": null,
       "border": null,
       "bottom": null,
       "display": null,
       "flex": null,
       "flex_flow": null,
       "grid_area": null,
       "grid_auto_columns": null,
       "grid_auto_flow": null,
       "grid_auto_rows": null,
       "grid_column": null,
       "grid_gap": null,
       "grid_row": null,
       "grid_template_areas": null,
       "grid_template_columns": null,
       "grid_template_rows": null,
       "height": null,
       "justify_content": null,
       "justify_items": null,
       "left": null,
       "margin": null,
       "max_height": null,
       "max_width": null,
       "min_height": null,
       "min_width": null,
       "object_fit": null,
       "object_position": null,
       "order": null,
       "overflow": null,
       "overflow_x": null,
       "overflow_y": null,
       "padding": null,
       "right": null,
       "top": null,
       "visibility": null,
       "width": null
      }
     },
     "9bde46368dda404e80bbf93456588a78": {
      "model_module": "@jupyter-widgets/controls",
      "model_module_version": "1.5.0",
      "model_name": "DescriptionStyleModel",
      "state": {
       "_model_module": "@jupyter-widgets/controls",
       "_model_module_version": "1.5.0",
       "_model_name": "DescriptionStyleModel",
       "_view_count": null,
       "_view_module": "@jupyter-widgets/base",
       "_view_module_version": "1.2.0",
       "_view_name": "StyleView",
       "description_width": ""
      }
     },
     "9c3350cae4ed4ac996e81b84ac53f65b": {
      "model_module": "@jupyter-widgets/controls",
      "model_module_version": "1.5.0",
      "model_name": "HTMLModel",
      "state": {
       "_dom_classes": [],
       "_model_module": "@jupyter-widgets/controls",
       "_model_module_version": "1.5.0",
       "_model_name": "HTMLModel",
       "_view_count": null,
       "_view_module": "@jupyter-widgets/controls",
       "_view_module_version": "1.5.0",
       "_view_name": "HTMLView",
       "description": "",
       "description_tooltip": null,
       "layout": "IPY_MODEL_0cedf1bcd6754156ba7d3b837a989f49",
       "placeholder": "​",
       "style": "IPY_MODEL_7854936c963044179e5531d8ca613f3b",
       "value": "<style type=\"text/css\">\n#T_9c80b th {\n  text-align: center;\n}\n#T_9c80b_row0_col0, #T_9c80b_row0_col1, #T_9c80b_row0_col2, #T_9c80b_row1_col0, #T_9c80b_row1_col1, #T_9c80b_row1_col2 {\n  text-align: center;\n}\n</style>\n<table id=\"T_9c80b\">\n  <thead>\n    <tr>\n      <th id=\"T_9c80b_level0_col0\" class=\"col_heading level0 col0\" >Agency</th>\n      <th id=\"T_9c80b_level0_col1\" class=\"col_heading level0 col1\" >Freeway Obligations</th>\n      <th id=\"T_9c80b_level0_col2\" class=\"col_heading level0 col2\" >Percent Of Category</th>\n    </tr>\n  </thead>\n  <tbody>\n    <tr>\n      <td id=\"T_9c80b_row0_col0\" class=\"data row0 col0\" >San Luis Obispo</td>\n      <td id=\"T_9c80b_row0_col1\" class=\"data row0 col1\" >2</td>\n      <td id=\"T_9c80b_row0_col2\" class=\"data row0 col2\" >$50.00</td>\n    </tr>\n    <tr>\n      <td id=\"T_9c80b_row1_col0\" class=\"data row1 col0\" >Santa Cruz County Regional Transportation Commission</td>\n      <td id=\"T_9c80b_row1_col1\" class=\"data row1 col1\" >2</td>\n      <td id=\"T_9c80b_row1_col2\" class=\"data row1 col2\" >$50.00</td>\n    </tr>\n  </tbody>\n</table>\n"
      }
     },
     "9ee67198b0b24ecf9fef7529fb7cfc19": {
      "model_module": "@jupyter-widgets/base",
      "model_module_version": "1.2.0",
      "model_name": "LayoutModel",
      "state": {
       "_model_module": "@jupyter-widgets/base",
       "_model_module_version": "1.2.0",
       "_model_name": "LayoutModel",
       "_view_count": null,
       "_view_module": "@jupyter-widgets/base",
       "_view_module_version": "1.2.0",
       "_view_name": "LayoutView",
       "align_content": null,
       "align_items": null,
       "align_self": null,
       "border": null,
       "bottom": null,
       "display": null,
       "flex": null,
       "flex_flow": null,
       "grid_area": null,
       "grid_auto_columns": null,
       "grid_auto_flow": null,
       "grid_auto_rows": null,
       "grid_column": null,
       "grid_gap": null,
       "grid_row": null,
       "grid_template_areas": null,
       "grid_template_columns": null,
       "grid_template_rows": null,
       "height": null,
       "justify_content": null,
       "justify_items": null,
       "left": null,
       "margin": null,
       "max_height": null,
       "max_width": null,
       "min_height": null,
       "min_width": null,
       "object_fit": null,
       "object_position": null,
       "order": null,
       "overflow": null,
       "overflow_x": null,
       "overflow_y": null,
       "padding": null,
       "right": null,
       "top": null,
       "visibility": null,
       "width": null
      }
     },
     "9fcd66bb220b49c39b430e68dfeeb9ab": {
      "model_module": "@jupyter-widgets/base",
      "model_module_version": "1.2.0",
      "model_name": "LayoutModel",
      "state": {
       "_model_module": "@jupyter-widgets/base",
       "_model_module_version": "1.2.0",
       "_model_name": "LayoutModel",
       "_view_count": null,
       "_view_module": "@jupyter-widgets/base",
       "_view_module_version": "1.2.0",
       "_view_name": "LayoutView",
       "align_content": null,
       "align_items": null,
       "align_self": null,
       "border": null,
       "bottom": null,
       "display": null,
       "flex": null,
       "flex_flow": null,
       "grid_area": null,
       "grid_auto_columns": null,
       "grid_auto_flow": null,
       "grid_auto_rows": null,
       "grid_column": null,
       "grid_gap": null,
       "grid_row": null,
       "grid_template_areas": null,
       "grid_template_columns": null,
       "grid_template_rows": null,
       "height": null,
       "justify_content": null,
       "justify_items": null,
       "left": null,
       "margin": null,
       "max_height": null,
       "max_width": null,
       "min_height": null,
       "min_width": null,
       "object_fit": null,
       "object_position": null,
       "order": null,
       "overflow": null,
       "overflow_x": null,
       "overflow_y": null,
       "padding": null,
       "right": null,
       "top": null,
       "visibility": null,
       "width": null
      }
     },
     "a67680dbbd8b4bf2b5405eb9ad4f0c7a": {
      "model_module": "@jupyter-widgets/controls",
      "model_module_version": "1.5.0",
      "model_name": "HTMLModel",
      "state": {
       "_dom_classes": [],
       "_model_module": "@jupyter-widgets/controls",
       "_model_module_version": "1.5.0",
       "_model_name": "HTMLModel",
       "_view_count": null,
       "_view_module": "@jupyter-widgets/controls",
       "_view_module_version": "1.5.0",
       "_view_name": "HTMLView",
       "description": "",
       "description_tooltip": null,
       "layout": "IPY_MODEL_9fcd66bb220b49c39b430e68dfeeb9ab",
       "placeholder": "​",
       "style": "IPY_MODEL_051b0baecb0a474c9f6bbea744130431",
       "value": "<style type=\"text/css\">\n#T_44dbc th {\n  text-align: center;\n}\n#T_44dbc_row0_col0, #T_44dbc_row0_col1, #T_44dbc_row0_col2, #T_44dbc_row1_col0, #T_44dbc_row1_col1, #T_44dbc_row1_col2, #T_44dbc_row2_col0, #T_44dbc_row2_col1, #T_44dbc_row2_col2, #T_44dbc_row3_col0, #T_44dbc_row3_col1, #T_44dbc_row3_col2 {\n  text-align: center;\n}\n</style>\n<table id=\"T_44dbc\">\n  <thead>\n    <tr>\n      <th id=\"T_44dbc_level0_col0\" class=\"col_heading level0 col0\" >Agency</th>\n      <th id=\"T_44dbc_level0_col1\" class=\"col_heading level0 col1\" >Congestion Relief Obligations</th>\n      <th id=\"T_44dbc_level0_col2\" class=\"col_heading level0 col2\" >Percent Of Category</th>\n    </tr>\n  </thead>\n  <tbody>\n    <tr>\n      <td id=\"T_44dbc_row0_col0\" class=\"data row0 col0\" >Association Of Monterey Bay Area Governments</td>\n      <td id=\"T_44dbc_row0_col1\" class=\"data row0 col1\" >1</td>\n      <td id=\"T_44dbc_row0_col2\" class=\"data row0 col2\" >$25.00</td>\n    </tr>\n    <tr>\n      <td id=\"T_44dbc_row1_col0\" class=\"data row1 col0\" >Council of San Benito County Governments</td>\n      <td id=\"T_44dbc_row1_col1\" class=\"data row1 col1\" >1</td>\n      <td id=\"T_44dbc_row1_col2\" class=\"data row1 col2\" >$25.00</td>\n    </tr>\n    <tr>\n      <td id=\"T_44dbc_row2_col0\" class=\"data row2 col0\" >San Luis Obispo Council of Governments</td>\n      <td id=\"T_44dbc_row2_col1\" class=\"data row2 col1\" >1</td>\n      <td id=\"T_44dbc_row2_col2\" class=\"data row2 col2\" >$25.00</td>\n    </tr>\n    <tr>\n      <td id=\"T_44dbc_row3_col0\" class=\"data row3 col0\" >Santa Barbara County Association of Governments</td>\n      <td id=\"T_44dbc_row3_col1\" class=\"data row3 col1\" >1</td>\n      <td id=\"T_44dbc_row3_col2\" class=\"data row3 col2\" >$25.00</td>\n    </tr>\n  </tbody>\n</table>\n"
      }
     },
     "ae74ba6e279c4031a3807c8a143aae64": {
      "model_module": "@jupyter-widgets/controls",
      "model_module_version": "1.5.0",
      "model_name": "DescriptionStyleModel",
      "state": {
       "_model_module": "@jupyter-widgets/controls",
       "_model_module_version": "1.5.0",
       "_model_name": "DescriptionStyleModel",
       "_view_count": null,
       "_view_module": "@jupyter-widgets/base",
       "_view_module_version": "1.2.0",
       "_view_name": "StyleView",
       "description_width": ""
      }
     },
     "bc89c933ca0646a695a69c0080093e57": {
      "model_module": "@jupyter-widgets/controls",
      "model_module_version": "1.5.0",
      "model_name": "DescriptionStyleModel",
      "state": {
       "_model_module": "@jupyter-widgets/controls",
       "_model_module_version": "1.5.0",
       "_model_name": "DescriptionStyleModel",
       "_view_count": null,
       "_view_module": "@jupyter-widgets/base",
       "_view_module_version": "1.2.0",
       "_view_name": "StyleView",
       "description_width": ""
      }
     },
     "c22f20b58acb43f187a3023eeb8b8ed9": {
      "model_module": "@jupyter-widgets/controls",
      "model_module_version": "1.5.0",
      "model_name": "HTMLModel",
      "state": {
       "_dom_classes": [],
       "_model_module": "@jupyter-widgets/controls",
       "_model_module_version": "1.5.0",
       "_model_name": "HTMLModel",
       "_view_count": null,
       "_view_module": "@jupyter-widgets/controls",
       "_view_module_version": "1.5.0",
       "_view_name": "HTMLView",
       "description": "",
       "description_tooltip": null,
       "layout": "IPY_MODEL_5f690400c1d04eb393f0be7ebdbe159a",
       "placeholder": "​",
       "style": "IPY_MODEL_f59987239a5d4f99ac8c290605b8e280",
       "value": "<style type=\"text/css\">\n#T_210ae th {\n  text-align: center;\n}\n#T_210ae_row0_col0, #T_210ae_row0_col1, #T_210ae_row0_col2, #T_210ae_row1_col0, #T_210ae_row1_col1, #T_210ae_row1_col2, #T_210ae_row2_col0, #T_210ae_row2_col1, #T_210ae_row2_col2, #T_210ae_row3_col0, #T_210ae_row3_col1, #T_210ae_row3_col2, #T_210ae_row4_col0, #T_210ae_row4_col1, #T_210ae_row4_col2 {\n  text-align: center;\n}\n</style>\n<table id=\"T_210ae\">\n  <thead>\n    <tr>\n      <th id=\"T_210ae_level0_col0\" class=\"col_heading level0 col0\" >Agency</th>\n      <th id=\"T_210ae_level0_col1\" class=\"col_heading level0 col1\" >Infrastructure & Emergency Relief Obligations</th>\n      <th id=\"T_210ae_level0_col2\" class=\"col_heading level0 col2\" >Percent Of Category</th>\n    </tr>\n  </thead>\n  <tbody>\n    <tr>\n      <td id=\"T_210ae_row0_col0\" class=\"data row0 col0\" >Santa Cruz County</td>\n      <td id=\"T_210ae_row0_col1\" class=\"data row0 col1\" >416</td>\n      <td id=\"T_210ae_row0_col2\" class=\"data row0 col2\" >$41.31</td>\n    </tr>\n    <tr>\n      <td id=\"T_210ae_row1_col0\" class=\"data row1 col0\" >Santa Barbara County</td>\n      <td id=\"T_210ae_row1_col1\" class=\"data row1 col1\" >143</td>\n      <td id=\"T_210ae_row1_col2\" class=\"data row1 col2\" >$14.20</td>\n    </tr>\n    <tr>\n      <td id=\"T_210ae_row2_col0\" class=\"data row2 col0\" >San Luis Obispo County</td>\n      <td id=\"T_210ae_row2_col1\" class=\"data row2 col1\" >105</td>\n      <td id=\"T_210ae_row2_col2\" class=\"data row2 col2\" >$10.43</td>\n    </tr>\n    <tr>\n      <td id=\"T_210ae_row3_col0\" class=\"data row3 col0\" >Monterey County</td>\n      <td id=\"T_210ae_row3_col1\" class=\"data row3 col1\" >70</td>\n      <td id=\"T_210ae_row3_col2\" class=\"data row3 col2\" >$6.95</td>\n    </tr>\n    <tr>\n      <td id=\"T_210ae_row4_col0\" class=\"data row4 col0\" >Santa Barbara</td>\n      <td id=\"T_210ae_row4_col1\" class=\"data row4 col1\" >67</td>\n      <td id=\"T_210ae_row4_col2\" class=\"data row4 col2\" >$6.65</td>\n    </tr>\n  </tbody>\n</table>\n"
      }
     },
     "caacdb0c241f45778019e7188da0df8a": {
      "model_module": "@jupyter-widgets/base",
      "model_module_version": "1.2.0",
      "model_name": "LayoutModel",
      "state": {
       "_model_module": "@jupyter-widgets/base",
       "_model_module_version": "1.2.0",
       "_model_name": "LayoutModel",
       "_view_count": null,
       "_view_module": "@jupyter-widgets/base",
       "_view_module_version": "1.2.0",
       "_view_name": "LayoutView",
       "align_content": null,
       "align_items": null,
       "align_self": null,
       "border": null,
       "bottom": null,
       "display": null,
       "flex": null,
       "flex_flow": null,
       "grid_area": null,
       "grid_auto_columns": null,
       "grid_auto_flow": null,
       "grid_auto_rows": null,
       "grid_column": null,
       "grid_gap": null,
       "grid_row": null,
       "grid_template_areas": null,
       "grid_template_columns": null,
       "grid_template_rows": null,
       "height": null,
       "justify_content": null,
       "justify_items": null,
       "left": null,
       "margin": null,
       "max_height": null,
       "max_width": null,
       "min_height": null,
       "min_width": null,
       "object_fit": null,
       "object_position": null,
       "order": null,
       "overflow": null,
       "overflow_x": null,
       "overflow_y": null,
       "padding": null,
       "right": null,
       "top": null,
       "visibility": null,
       "width": null
      }
     },
     "d68ad200cc78412e986a0b71e0079ac7": {
      "model_module": "@jupyter-widgets/controls",
      "model_module_version": "1.5.0",
      "model_name": "DescriptionStyleModel",
      "state": {
       "_model_module": "@jupyter-widgets/controls",
       "_model_module_version": "1.5.0",
       "_model_name": "DescriptionStyleModel",
       "_view_count": null,
       "_view_module": "@jupyter-widgets/base",
       "_view_module_version": "1.2.0",
       "_view_name": "StyleView",
       "description_width": ""
      }
     },
     "dea7dfb34c8445afbb6a8c8d29d94be4": {
      "model_module": "@jupyter-widgets/controls",
      "model_module_version": "1.5.0",
      "model_name": "HTMLModel",
      "state": {
       "_dom_classes": [],
       "_model_module": "@jupyter-widgets/controls",
       "_model_module_version": "1.5.0",
       "_model_name": "HTMLModel",
       "_view_count": null,
       "_view_module": "@jupyter-widgets/controls",
       "_view_module_version": "1.5.0",
       "_view_name": "HTMLView",
       "description": "",
       "description_tooltip": null,
       "layout": "IPY_MODEL_0355c1adfd4a46fa853dd8ef28d9c02c",
       "placeholder": "​",
       "style": "IPY_MODEL_8b2aa14a7fbd4173ab5460a6ee7bc3e9",
       "value": "<h3> Top Agencies using Street Projects </h3>"
      }
     },
     "e094dbdd9cfc4f82820d46cc73b3bca8": {
      "model_module": "@jupyter-widgets/base",
      "model_module_version": "1.2.0",
      "model_name": "LayoutModel",
      "state": {
       "_model_module": "@jupyter-widgets/base",
       "_model_module_version": "1.2.0",
       "_model_name": "LayoutModel",
       "_view_count": null,
       "_view_module": "@jupyter-widgets/base",
       "_view_module_version": "1.2.0",
       "_view_name": "LayoutView",
       "align_content": null,
       "align_items": null,
       "align_self": null,
       "border": null,
       "bottom": null,
       "display": null,
       "flex": null,
       "flex_flow": null,
       "grid_area": null,
       "grid_auto_columns": null,
       "grid_auto_flow": null,
       "grid_auto_rows": null,
       "grid_column": null,
       "grid_gap": null,
       "grid_row": null,
       "grid_template_areas": null,
       "grid_template_columns": null,
       "grid_template_rows": null,
       "height": null,
       "justify_content": null,
       "justify_items": null,
       "left": null,
       "margin": null,
       "max_height": null,
       "max_width": null,
       "min_height": null,
       "min_width": null,
       "object_fit": null,
       "object_position": null,
       "order": null,
       "overflow": null,
       "overflow_x": null,
       "overflow_y": null,
       "padding": null,
       "right": null,
       "top": null,
       "visibility": null,
       "width": null
      }
     },
     "e12e2fbac5b34aa2a44ed951b597e0fc": {
      "model_module": "@jupyter-widgets/controls",
      "model_module_version": "1.5.0",
      "model_name": "HTMLModel",
      "state": {
       "_dom_classes": [],
       "_model_module": "@jupyter-widgets/controls",
       "_model_module_version": "1.5.0",
       "_model_name": "HTMLModel",
       "_view_count": null,
       "_view_module": "@jupyter-widgets/controls",
       "_view_module_version": "1.5.0",
       "_view_name": "HTMLView",
       "description": "",
       "description_tooltip": null,
       "layout": "IPY_MODEL_5c2a7cdb290344a5ae825414f6aa2fce",
       "placeholder": "​",
       "style": "IPY_MODEL_7d8b76154a9e4ba1b6d6cc3a915a0a9d",
       "value": "<h3> Top Agencies using Freeway Projects </h3>"
      }
     },
     "f5507fdf730b480d8cd1a46c2d3e5273": {
      "model_module": "@jupyter-widgets/controls",
      "model_module_version": "1.5.0",
      "model_name": "HTMLModel",
      "state": {
       "_dom_classes": [],
       "_model_module": "@jupyter-widgets/controls",
       "_model_module_version": "1.5.0",
       "_model_name": "HTMLModel",
       "_view_count": null,
       "_view_module": "@jupyter-widgets/controls",
       "_view_module_version": "1.5.0",
       "_view_name": "HTMLView",
       "description": "",
       "description_tooltip": null,
       "layout": "IPY_MODEL_03069ca46b1547fdb7950b051999fb4d",
       "placeholder": "​",
       "style": "IPY_MODEL_4fb75ba037014453b3377b253f21e856",
       "value": "<h3> Top Agencies using Infrastructure & Emergency Relief Projects </h3>"
      }
     },
     "f59987239a5d4f99ac8c290605b8e280": {
      "model_module": "@jupyter-widgets/controls",
      "model_module_version": "1.5.0",
      "model_name": "DescriptionStyleModel",
      "state": {
       "_model_module": "@jupyter-widgets/controls",
       "_model_module_version": "1.5.0",
       "_model_name": "DescriptionStyleModel",
       "_view_count": null,
       "_view_module": "@jupyter-widgets/base",
       "_view_module_version": "1.2.0",
       "_view_name": "StyleView",
       "description_width": ""
      }
     },
     "f894d5a8013c4a55915f5f3bee66b30d": {
      "model_module": "@jupyter-widgets/base",
      "model_module_version": "1.2.0",
      "model_name": "LayoutModel",
      "state": {
       "_model_module": "@jupyter-widgets/base",
       "_model_module_version": "1.2.0",
       "_model_name": "LayoutModel",
       "_view_count": null,
       "_view_module": "@jupyter-widgets/base",
       "_view_module_version": "1.2.0",
       "_view_name": "LayoutView",
       "align_content": null,
       "align_items": null,
       "align_self": null,
       "border": null,
       "bottom": null,
       "display": null,
       "flex": null,
       "flex_flow": null,
       "grid_area": null,
       "grid_auto_columns": null,
       "grid_auto_flow": null,
       "grid_auto_rows": null,
       "grid_column": null,
       "grid_gap": null,
       "grid_row": null,
       "grid_template_areas": null,
       "grid_template_columns": null,
       "grid_template_rows": null,
       "height": null,
       "justify_content": null,
       "justify_items": null,
       "left": null,
       "margin": null,
       "max_height": null,
       "max_width": null,
       "min_height": null,
       "min_width": null,
       "object_fit": null,
       "object_position": null,
       "order": null,
       "overflow": null,
       "overflow_x": null,
       "overflow_y": null,
       "padding": null,
       "right": null,
       "top": null,
       "visibility": null,
       "width": null
      }
     }
    },
    "version_major": 2,
    "version_minor": 0
   }
  }
 },
 "nbformat": 4,
 "nbformat_minor": 5
}