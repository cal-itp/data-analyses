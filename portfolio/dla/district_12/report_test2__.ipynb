{
 "cells": [
  {
   "cell_type": "code",
   "execution_count": 1,
   "id": "e983f1ab-ed21-4604-88a2-598cffea4ef1",
   "metadata": {
    "execution": {
     "iopub.execute_input": "2022-05-04T00:39:02.877178Z",
     "iopub.status.busy": "2022-05-04T00:39:02.876494Z",
     "iopub.status.idle": "2022-05-04T00:39:24.389724Z",
     "shell.execute_reply": "2022-05-04T00:39:24.388526Z"
    },
    "jupyter": {
     "source_hidden": true
    },
    "papermill": {
     "duration": 21.537047,
     "end_time": "2022-05-04T00:39:24.392785",
     "exception": false,
     "start_time": "2022-05-04T00:39:02.855738",
     "status": "completed"
    },
    "tags": [
     "remove_input"
    ]
   },
   "outputs": [],
   "source": [
    "%%capture\n",
    "\n",
    "import numpy as np\n",
    "import pandas as pd\n",
    "from siuba import *\n",
    "\n",
    "import altair as alt\n",
    "import altair_saver\n",
    "from plotnine import *\n",
    "\n",
    "from IPython.display import Markdown, HTML, Image\n",
    "import ipywidgets as widgets\n",
    "from ipywidgets import interact, interactive\n",
    "\n",
    "from shared_utils import altair_utils\n",
    "from shared_utils import geography_utils\n",
    "from shared_utils import calitp_color_palette as cp\n",
    "from shared_utils import styleguide\n",
    "\n",
    "from calitp import to_snakecase\n",
    "import intake\n",
    "\n",
    "import _dla_utils_reports\n",
    "\n",
    "\n"
   ]
  },
  {
   "cell_type": "code",
   "execution_count": 2,
   "id": "82cf8245-73d2-4ed3-93cf-7ee01661b024",
   "metadata": {
    "execution": {
     "iopub.execute_input": "2022-05-04T00:39:24.433779Z",
     "iopub.status.busy": "2022-05-04T00:39:24.433185Z",
     "iopub.status.idle": "2022-05-04T00:39:24.439327Z",
     "shell.execute_reply": "2022-05-04T00:39:24.438359Z"
    },
    "jupyter": {
     "source_hidden": true
    },
    "papermill": {
     "duration": 0.029797,
     "end_time": "2022-05-04T00:39:24.441523",
     "exception": false,
     "start_time": "2022-05-04T00:39:24.411726",
     "status": "completed"
    },
    "tags": [
     "parameters",
     "remove_input"
    ]
   },
   "outputs": [],
   "source": [
    "#Parameter Cell\n",
    "\n",
    "district = 2\n"
   ]
  },
  {
   "cell_type": "code",
   "execution_count": 3,
   "id": "bb7f4fcb",
   "metadata": {
    "execution": {
     "iopub.execute_input": "2022-05-04T00:39:24.479937Z",
     "iopub.status.busy": "2022-05-04T00:39:24.479156Z",
     "iopub.status.idle": "2022-05-04T00:39:24.483862Z",
     "shell.execute_reply": "2022-05-04T00:39:24.483281Z"
    },
    "jupyter": {
     "source_hidden": true
    },
    "papermill": {
     "duration": 0.025716,
     "end_time": "2022-05-04T00:39:24.485804",
     "exception": false,
     "start_time": "2022-05-04T00:39:24.460088",
     "status": "completed"
    },
    "tags": [
     "injected-parameters",
     "remove_input"
    ]
   },
   "outputs": [],
   "source": [
    "# Parameters\n",
    "district = 12\n"
   ]
  },
  {
   "cell_type": "code",
   "execution_count": 4,
   "id": "948b2b4f-ef9b-48ff-b109-e7b76361066c",
   "metadata": {
    "execution": {
     "iopub.execute_input": "2022-05-04T00:39:24.523617Z",
     "iopub.status.busy": "2022-05-04T00:39:24.522443Z",
     "iopub.status.idle": "2022-05-04T00:39:24.992005Z",
     "shell.execute_reply": "2022-05-04T00:39:24.991183Z"
    },
    "jupyter": {
     "source_hidden": true
    },
    "papermill": {
     "duration": 0.49119,
     "end_time": "2022-05-04T00:39:24.995224",
     "exception": false,
     "start_time": "2022-05-04T00:39:24.504034",
     "status": "completed"
    },
    "tags": [
     "remove_input"
    ]
   },
   "outputs": [],
   "source": [
    "df= pd.read_parquet(\"gs://calitp-analytics-data/data-analyses/dla/e-76Obligated/dla_df.parquet\")\n"
   ]
  },
  {
   "cell_type": "code",
   "execution_count": 5,
   "id": "be910f27-7608-4522-8d8d-ef93611cb748",
   "metadata": {
    "execution": {
     "iopub.execute_input": "2022-05-04T00:39:25.039290Z",
     "iopub.status.busy": "2022-05-04T00:39:25.038637Z",
     "iopub.status.idle": "2022-05-04T00:39:25.209846Z",
     "shell.execute_reply": "2022-05-04T00:39:25.208847Z"
    },
    "jupyter": {
     "source_hidden": true
    },
    "papermill": {
     "duration": 0.194899,
     "end_time": "2022-05-04T00:39:25.212871",
     "exception": false,
     "start_time": "2022-05-04T00:39:25.017972",
     "status": "completed"
    },
    "tags": [
     "remove_input"
    ]
   },
   "outputs": [],
   "source": [
    "df = (df>>filter(_.dist==district))\n",
    "    \n",
    "    \n",
    "#subsetting the data\n",
    "df_years = _dla_utils_reports.count_all_years(df)\n",
    "df_top = _dla_utils_reports.find_top(df)\n",
    "    "
   ]
  },
  {
   "cell_type": "code",
   "execution_count": 6,
   "id": "7f5ac0a1-a951-4072-8f85-d2c90290907f",
   "metadata": {
    "execution": {
     "iopub.execute_input": "2022-05-04T00:39:25.280142Z",
     "iopub.status.busy": "2022-05-04T00:39:25.279237Z",
     "iopub.status.idle": "2022-05-04T00:39:25.527100Z",
     "shell.execute_reply": "2022-05-04T00:39:25.526132Z"
    },
    "jupyter": {
     "source_hidden": true
    },
    "papermill": {
     "duration": 0.281076,
     "end_time": "2022-05-04T00:39:25.529259",
     "exception": false,
     "start_time": "2022-05-04T00:39:25.248183",
     "status": "completed"
    },
    "tags": [
     "remove_input"
    ]
   },
   "outputs": [
    {
     "data": {
      "text/html": [
       "<h2>Quick Stats</h2>"
      ],
      "text/plain": [
       "<IPython.core.display.HTML object>"
      ]
     },
     "metadata": {},
     "output_type": "display_data"
    },
    {
     "data": {
      "text/html": [
       "There are <strong>36 Unique Agencies</strong>"
      ],
      "text/plain": [
       "<IPython.core.display.HTML object>"
      ]
     },
     "metadata": {},
     "output_type": "display_data"
    },
    {
     "data": {
      "text/html": [
       "Out of <strong>700</strong> obligations, <strong>1 are transit-related</strong>."
      ],
      "text/plain": [
       "<IPython.core.display.HTML object>"
      ]
     },
     "metadata": {},
     "output_type": "display_data"
    },
    {
     "data": {
      "text/html": [
       "<strong>Santa Ana</strong> has the <strong>highest transit</strong> obligations"
      ],
      "text/plain": [
       "<IPython.core.display.HTML object>"
      ]
     },
     "metadata": {},
     "output_type": "display_data"
    },
    {
     "data": {
      "text/html": [
       "There are <strong>2 agencies have over 71.00</strong> obligations (95th percentile) since 2013.0"
      ],
      "text/plain": [
       "<IPython.core.display.HTML object>"
      ]
     },
     "metadata": {},
     "output_type": "display_data"
    },
    {
     "data": {
      "text/html": [
       "There are <strong>3 agencies have less than 2.00</strong> obligations (5th percentile) since 2013.0"
      ],
      "text/plain": [
       "<IPython.core.display.HTML object>"
      ]
     },
     "metadata": {},
     "output_type": "display_data"
    },
    {
     "data": {
      "text/html": [
       "<h4><strong>Number of Unique Prefix Codes by Agency</strong></h4>"
      ],
      "text/plain": [
       "<IPython.core.display.HTML object>"
      ]
     },
     "metadata": {},
     "output_type": "display_data"
    },
    {
     "data": {
      "text/html": [
       "<div>\n",
       "<style scoped>\n",
       "    .dataframe tbody tr th:only-of-type {\n",
       "        vertical-align: middle;\n",
       "    }\n",
       "\n",
       "    .dataframe tbody tr th {\n",
       "        vertical-align: top;\n",
       "    }\n",
       "\n",
       "    .dataframe thead th {\n",
       "        text-align: right;\n",
       "    }\n",
       "</style>\n",
       "<table border=\"1\" class=\"dataframe\">\n",
       "  <thead>\n",
       "    <tr style=\"text-align: right;\">\n",
       "      <th></th>\n",
       "      <th>Agency</th>\n",
       "      <th>Number of Unqiue Prefix Codes</th>\n",
       "    </tr>\n",
       "  </thead>\n",
       "  <tbody>\n",
       "    <tr>\n",
       "      <th>25</th>\n",
       "      <td>Orange County Transportation Authority</td>\n",
       "      <td>16</td>\n",
       "    </tr>\n",
       "    <tr>\n",
       "      <th>0</th>\n",
       "      <td>Anaheim</td>\n",
       "      <td>12</td>\n",
       "    </tr>\n",
       "    <tr>\n",
       "      <th>24</th>\n",
       "      <td>Orange County</td>\n",
       "      <td>11</td>\n",
       "    </tr>\n",
       "    <tr>\n",
       "      <th>30</th>\n",
       "      <td>Santa Ana</td>\n",
       "      <td>11</td>\n",
       "    </tr>\n",
       "    <tr>\n",
       "      <th>4</th>\n",
       "      <td>Costa Mesa</td>\n",
       "      <td>8</td>\n",
       "    </tr>\n",
       "  </tbody>\n",
       "</table>\n",
       "</div>"
      ],
      "text/plain": [
       "                                    Agency  Number of Unqiue Prefix Codes\n",
       "25  Orange County Transportation Authority                             16\n",
       "0                                  Anaheim                             12\n",
       "24                           Orange County                             11\n",
       "30                               Santa Ana                             11\n",
       "4                               Costa Mesa                              8"
      ]
     },
     "metadata": {},
     "output_type": "display_data"
    },
    {
     "data": {
      "text/html": [
       "<h4><strong>Number of Unique Agencies by Prefix Codes</strong></h4>"
      ],
      "text/plain": [
       "<IPython.core.display.HTML object>"
      ]
     },
     "metadata": {},
     "output_type": "display_data"
    },
    {
     "data": {
      "text/html": [
       "<div>\n",
       "<style scoped>\n",
       "    .dataframe tbody tr th:only-of-type {\n",
       "        vertical-align: middle;\n",
       "    }\n",
       "\n",
       "    .dataframe tbody tr th {\n",
       "        vertical-align: top;\n",
       "    }\n",
       "\n",
       "    .dataframe thead th {\n",
       "        text-align: right;\n",
       "    }\n",
       "</style>\n",
       "<table border=\"1\" class=\"dataframe\">\n",
       "  <thead>\n",
       "    <tr style=\"text-align: right;\">\n",
       "      <th></th>\n",
       "      <th>Prefix</th>\n",
       "      <th>Number of Unqiue Agencies</th>\n",
       "    </tr>\n",
       "  </thead>\n",
       "  <tbody>\n",
       "    <tr>\n",
       "      <th>37</th>\n",
       "      <td>STPL</td>\n",
       "      <td>30</td>\n",
       "    </tr>\n",
       "    <tr>\n",
       "      <th>28</th>\n",
       "      <td>HSIPL</td>\n",
       "      <td>16</td>\n",
       "    </tr>\n",
       "    <tr>\n",
       "      <th>12</th>\n",
       "      <td>CML</td>\n",
       "      <td>14</td>\n",
       "    </tr>\n",
       "    <tr>\n",
       "      <th>33</th>\n",
       "      <td>RPSTPL</td>\n",
       "      <td>10</td>\n",
       "    </tr>\n",
       "    <tr>\n",
       "      <th>35</th>\n",
       "      <td>SRTSL</td>\n",
       "      <td>7</td>\n",
       "    </tr>\n",
       "  </tbody>\n",
       "</table>\n",
       "</div>"
      ],
      "text/plain": [
       "    Prefix  Number of Unqiue Agencies\n",
       "37    STPL                         30\n",
       "28   HSIPL                         16\n",
       "12     CML                         14\n",
       "33  RPSTPL                         10\n",
       "35   SRTSL                          7"
      ]
     },
     "metadata": {},
     "output_type": "display_data"
    },
    {
     "data": {
      "text/html": [
       "<h4><strong>Top 5 Types of Work</strong></h4>"
      ],
      "text/plain": [
       "<IPython.core.display.HTML object>"
      ]
     },
     "metadata": {},
     "output_type": "display_data"
    },
    {
     "data": {
      "text/html": [
       "<style type=\"text/css\">\n",
       "</style>\n",
       "<table id=\"T_5392b\">\n",
       "  <thead>\n",
       "    <tr>\n",
       "      <th class=\"blank level0\" >&nbsp;</th>\n",
       "      <th id=\"T_5392b_level0_col0\" class=\"col_heading level0 col0\" >Type of Work</th>\n",
       "    </tr>\n",
       "  </thead>\n",
       "  <tbody>\n",
       "    <tr>\n",
       "      <th id=\"T_5392b_level0_row0\" class=\"row_heading level0 row0\" >210</th>\n",
       "      <td id=\"T_5392b_row0_col0\" class=\"data row0 col0\" >Road Rehabilitation</td>\n",
       "    </tr>\n",
       "    <tr>\n",
       "      <th id=\"T_5392b_level0_row1\" class=\"row_heading level0 row1\" >88</th>\n",
       "      <td id=\"T_5392b_row1_col0\" class=\"data row1 col0\" >FTA Transfer</td>\n",
       "    </tr>\n",
       "    <tr>\n",
       "      <th id=\"T_5392b_level0_row2\" class=\"row_heading level0 row2\" >145</th>\n",
       "      <td id=\"T_5392b_row2_col0\" class=\"data row2 col0\" >Left-turn Signal Phasing</td>\n",
       "    </tr>\n",
       "    <tr>\n",
       "      <th id=\"T_5392b_level0_row3\" class=\"row_heading level0 row3\" >122</th>\n",
       "      <td id=\"T_5392b_row3_col0\" class=\"data row3 col0\" >Install Protected Left Turn Signal Phasing</td>\n",
       "    </tr>\n",
       "    <tr>\n",
       "      <th id=\"T_5392b_level0_row4\" class=\"row_heading level0 row4\" >129</th>\n",
       "      <td id=\"T_5392b_row4_col0\" class=\"data row4 col0\" >Install Signal Interconnect Conduit And Upgrade Intersection Traffic Signals </td>\n",
       "    </tr>\n",
       "  </tbody>\n",
       "</table>\n"
      ],
      "text/plain": [
       "<pandas.io.formats.style.Styler at 0x7fc533c58ac0>"
      ]
     },
     "metadata": {},
     "output_type": "display_data"
    }
   ],
   "source": [
    "display(HTML(\"<h2>Quick Stats</h2>\"))\n",
    "\n",
    "def print_transit_statements(df):\n",
    "    transit = df >> filter(_.transit == 1)\n",
    "    \n",
    "    display(\n",
    "        HTML(f\"There are <strong>{(df.primary_agency_name.nunique())} Unique Agencies</strong>\")\n",
    "    )\n",
    "    \n",
    "    if (len(transit)==0):\n",
    "        display(HTML(\"There are <strong>0 transit-related obligations </strong>\"))\n",
    "\n",
    "    else: \n",
    "        display(\n",
    "            HTML(f\"Out of <strong>{len(df)}</strong> obligations, <strong>{len(transit)} are transit-related</strong>.\")\n",
    "        )\n",
    "        display(\n",
    "            HTML(f\"<strong>{(transit>>count(_.primary_agency_name)>>arrange(-_.n)).iloc[0, 0]}</strong> has the <strong>highest transit</strong> obligations\")\n",
    "        )\n",
    "                     \n",
    "print_transit_statements(df)\n",
    "\n",
    "q = df >> count(_.primary_agency_name) >> arrange(_.n)\n",
    "\n",
    "q2 = q.n.quantile(0.95)\n",
    "\n",
    "display(\n",
    "     HTML(f\"There are <strong>{len(q>>filter(_.n> (q2)))} agencies have over {('%.2f'%(q2))}</strong> obligations (95th percentile) since {(df.prepared_y.min())}\")\n",
    ")\n",
    "\n",
    "q3 = q.n.quantile(0.1)\n",
    "display(\n",
    "    HTML((f\"There are <strong>{len(q>>filter(_.n< (q3)))} agencies have less than {('%.2f'%(q3))}</strong> obligations (5th percentile) since {(df.prepared_y.min())}\"))\n",
    ")\n",
    "\n",
    "## tables\n",
    "display(HTML(\"<h4><strong>Number of Unique Prefix Codes by Agency</strong></h4>\"))\n",
    "display(\n",
    "    (_dla_utils_reports.get_nunique(df, \"prefix\", \"primary_agency_name\"))\n",
    "    .rename(\n",
    "        columns={\"primary_agency_name\": \"Agency\", \"n\": \"Number of Unqiue Prefix Codes\"}\n",
    "    )\n",
    "    .head(5)\n",
    ")\n",
    "\n",
    "display(HTML(\"<h4><strong>Number of Unique Agencies by Prefix Codes</strong></h4>\"))\n",
    "display(\n",
    "    (_dla_utils_reports.get_nunique(df, \"primary_agency_name\", \"prefix\"))\n",
    "    .rename(columns={\"prefix\": \"Prefix\", \"n\": \"Number of Unqiue Agencies\"})\n",
    "    .head(5)\n",
    ")\n",
    "\n",
    "display(HTML(\"<h4><strong>Top 5 Types of Work</strong></h4>\"))\n",
    "work_types = (\n",
    "    (df >> count(_.type_of_work) >> arrange(-_.n) >> select(_.type_of_work))\n",
    "    .rename(columns={\"type_of_work\": \"Type of Work\"})\n",
    "    .head(5)\n",
    ")\n",
    "display(work_types.style)"
   ]
  },
  {
   "cell_type": "code",
   "execution_count": 7,
   "id": "88ad1708-b3c0-40b1-859c-67e50724b983",
   "metadata": {
    "execution": {
     "iopub.execute_input": "2022-05-04T00:39:25.606274Z",
     "iopub.status.busy": "2022-05-04T00:39:25.605387Z",
     "iopub.status.idle": "2022-05-04T00:39:25.617184Z",
     "shell.execute_reply": "2022-05-04T00:39:25.615223Z"
    },
    "jupyter": {
     "source_hidden": true
    },
    "papermill": {
     "duration": 0.059149,
     "end_time": "2022-05-04T00:39:25.620968",
     "exception": false,
     "start_time": "2022-05-04T00:39:25.561819",
     "status": "completed"
    },
    "tags": [
     "remove_input"
    ]
   },
   "outputs": [
    {
     "data": {
      "text/markdown": [
       "<h2> Number of Obligations </h2>"
      ],
      "text/plain": [
       "<IPython.core.display.Markdown object>"
      ]
     },
     "metadata": {},
     "output_type": "display_data"
    }
   ],
   "source": [
    " #Visual Charts\n",
    "\n",
    "display(Markdown(\"<h2> Number of Obligations </h2>\"))"
   ]
  },
  {
   "cell_type": "code",
   "execution_count": 8,
   "id": "ae85287b-0772-4595-8ea2-ccba83dd22cf",
   "metadata": {
    "execution": {
     "iopub.execute_input": "2022-05-04T00:39:25.708546Z",
     "iopub.status.busy": "2022-05-04T00:39:25.708020Z",
     "iopub.status.idle": "2022-05-04T00:39:25.799653Z",
     "shell.execute_reply": "2022-05-04T00:39:25.797803Z"
    },
    "jupyter": {
     "source_hidden": true
    },
    "papermill": {
     "duration": 0.140246,
     "end_time": "2022-05-04T00:39:25.802647",
     "exception": false,
     "start_time": "2022-05-04T00:39:25.662401",
     "status": "completed"
    },
    "tags": [
     "remove_input"
    ]
   },
   "outputs": [
    {
     "data": {
      "text/html": [
       "<h4><strong>Obligations by Year</strong></h4>"
      ],
      "text/plain": [
       "<IPython.core.display.HTML object>"
      ]
     },
     "metadata": {},
     "output_type": "display_data"
    },
    {
     "data": {
      "text/html": [
       "\n",
       "<div id=\"altair-viz-309fea760c5247e0a482c06997594ac2\"></div>\n",
       "<script type=\"text/javascript\">\n",
       "  var VEGA_DEBUG = (typeof VEGA_DEBUG == \"undefined\") ? {} : VEGA_DEBUG;\n",
       "  (function(spec, embedOpt){\n",
       "    let outputDiv = document.currentScript.previousElementSibling;\n",
       "    if (outputDiv.id !== \"altair-viz-309fea760c5247e0a482c06997594ac2\") {\n",
       "      outputDiv = document.getElementById(\"altair-viz-309fea760c5247e0a482c06997594ac2\");\n",
       "    }\n",
       "    const paths = {\n",
       "      \"vega\": \"https://cdn.jsdelivr.net/npm//vega@5?noext\",\n",
       "      \"vega-lib\": \"https://cdn.jsdelivr.net/npm//vega-lib?noext\",\n",
       "      \"vega-lite\": \"https://cdn.jsdelivr.net/npm//vega-lite@4.17.0?noext\",\n",
       "      \"vega-embed\": \"https://cdn.jsdelivr.net/npm//vega-embed@6?noext\",\n",
       "    };\n",
       "\n",
       "    function maybeLoadScript(lib, version) {\n",
       "      var key = `${lib.replace(\"-\", \"\")}_version`;\n",
       "      return (VEGA_DEBUG[key] == version) ?\n",
       "        Promise.resolve(paths[lib]) :\n",
       "        new Promise(function(resolve, reject) {\n",
       "          var s = document.createElement('script');\n",
       "          document.getElementsByTagName(\"head\")[0].appendChild(s);\n",
       "          s.async = true;\n",
       "          s.onload = () => {\n",
       "            VEGA_DEBUG[key] = version;\n",
       "            return resolve(paths[lib]);\n",
       "          };\n",
       "          s.onerror = () => reject(`Error loading script: ${paths[lib]}`);\n",
       "          s.src = paths[lib];\n",
       "        });\n",
       "    }\n",
       "\n",
       "    function showError(err) {\n",
       "      outputDiv.innerHTML = `<div class=\"error\" style=\"color:red;\">${err}</div>`;\n",
       "      throw err;\n",
       "    }\n",
       "\n",
       "    function displayChart(vegaEmbed) {\n",
       "      vegaEmbed(outputDiv, spec, embedOpt)\n",
       "        .catch(err => showError(`Javascript Error: ${err.message}<br>This usually means there's a typo in your chart specification. See the javascript console for the full traceback.`));\n",
       "    }\n",
       "\n",
       "    if(typeof define === \"function\" && define.amd) {\n",
       "      requirejs.config({paths});\n",
       "      require([\"vega-embed\"], displayChart, err => showError(`Error loading script: ${err.message}`));\n",
       "    } else {\n",
       "      maybeLoadScript(\"vega\", \"5\")\n",
       "        .then(() => maybeLoadScript(\"vega-lite\", \"4.17.0\"))\n",
       "        .then(() => maybeLoadScript(\"vega-embed\", \"6\"))\n",
       "        .catch(showError)\n",
       "        .then(() => displayChart(vegaEmbed));\n",
       "    }\n",
       "  })({\"config\": {\"view\": {\"continuousWidth\": 400, \"continuousHeight\": 300}, \"axis\": {\"domainColor\": \"#cbcbcb\", \"grid\": true, \"gridColor\": \"#cbcbcb\", \"gridWidth\": 1, \"labelColor\": \"#474747\", \"labelFont\": \"Nunito Sans\", \"labelFontSize\": 10, \"labelPadding\": 4, \"tickColor\": \"#cbcbcb\", \"tickSize\": 10, \"titleColor\": \"#333\", \"titleFont\": \"Raleway\", \"titleFontSize\": 12, \"titlePadding\": 10}, \"axisBand\": {\"grid\": false}, \"background\": \"white\", \"font\": \"Raleway\", \"header\": {\"labelFont\": \"Nunito Sans\", \"titleFont\": \"Raleway\"}, \"legend\": {\"labelColor\": \"#333\", \"labelFont\": \"Nunito Sans\", \"labelFontSize\": 11, \"labelLimit\": 0, \"padding\": 1, \"symbolSize\": 30, \"symbolType\": \"square\", \"titleColor\": \"#333\", \"titleFont\": \"Raleway\", \"titleFontSize\": 14, \"titlePadding\": 10}, \"title\": {\"anchor\": \"middle\", \"font\": \"Raleway\", \"fontSize\": 18, \"fontWeight\": 300, \"offset\": 20}}, \"data\": {\"name\": \"data-9db9fbc9f558f53bf7b094f55825a337\"}, \"mark\": \"line\", \"encoding\": {\"tooltip\": [{\"field\": \"Year\", \"type\": \"quantitative\"}, {\"field\": \"count\", \"type\": \"quantitative\"}], \"x\": {\"field\": \"Year\", \"title\": \"Prepared Year\", \"type\": \"ordinal\"}, \"y\": {\"field\": \"count\", \"title\": \"Count\", \"type\": \"quantitative\"}}, \"height\": 250, \"width\": 400, \"$schema\": \"https://vega.github.io/schema/vega-lite/v4.17.0.json\", \"datasets\": {\"data-9db9fbc9f558f53bf7b094f55825a337\": [{\"Year\": 2018.0, \"count\": 111, \"variable\": \"prepared_y\"}, {\"Year\": 2016.0, \"count\": 103, \"variable\": \"prepared_y\"}, {\"Year\": 2020.0, \"count\": 93, \"variable\": \"prepared_y\"}, {\"Year\": 2019.0, \"count\": 83, \"variable\": \"prepared_y\"}, {\"Year\": 2021.0, \"count\": 80, \"variable\": \"prepared_y\"}, {\"Year\": 2014.0, \"count\": 73, \"variable\": \"prepared_y\"}, {\"Year\": 2015.0, \"count\": 71, \"variable\": \"prepared_y\"}, {\"Year\": 2017.0, \"count\": 49, \"variable\": \"prepared_y\"}, {\"Year\": 2013.0, \"count\": 18, \"variable\": \"prepared_y\"}, {\"Year\": 2022.0, \"count\": 18, \"variable\": \"prepared_y\"}]}}, {\"mode\": \"vega-lite\"});\n",
       "</script>"
      ],
      "text/plain": [
       "alt.Chart(...)"
      ]
     },
     "execution_count": 8,
     "metadata": {},
     "output_type": "execute_result"
    }
   ],
   "source": [
    " #Line chart for Obligations by Year\n",
    "chart_df = (df_top>>filter(_.variable=='prepared_y')).rename(columns= {\"value\":\"Year\"})\n",
    "    \n",
    "chart1= (_dla_utils_reports.basic_line_chart_test_no_save(chart_df, 'Year', 'count', district)).encode(x=alt.X('Year:O', title='Prepared Year'))\n",
    "    \n",
    "display(HTML(\"<h4><strong>Obligations by Year</strong></h4>\"))\n",
    "chart1"
   ]
  },
  {
   "cell_type": "code",
   "execution_count": 9,
   "id": "0bc7e34d-545e-4afd-92e9-a17630d0ae89",
   "metadata": {
    "execution": {
     "iopub.execute_input": "2022-05-04T00:39:25.862115Z",
     "iopub.status.busy": "2022-05-04T00:39:25.861725Z",
     "iopub.status.idle": "2022-05-04T00:39:25.919371Z",
     "shell.execute_reply": "2022-05-04T00:39:25.918458Z"
    },
    "jupyter": {
     "source_hidden": true
    },
    "papermill": {
     "duration": 0.083928,
     "end_time": "2022-05-04T00:39:25.921410",
     "exception": false,
     "start_time": "2022-05-04T00:39:25.837482",
     "status": "completed"
    },
    "tags": [
     "remove_input"
    ]
   },
   "outputs": [
    {
     "data": {
      "text/html": [
       "<h4><strong>Number of Unique Agencies by District</strong></h4>"
      ],
      "text/plain": [
       "<IPython.core.display.HTML object>"
      ]
     },
     "metadata": {},
     "output_type": "display_data"
    },
    {
     "data": {
      "text/html": [
       "\n",
       "<div id=\"altair-viz-e1ee9572a079478782d6fd8668a10f82\"></div>\n",
       "<script type=\"text/javascript\">\n",
       "  var VEGA_DEBUG = (typeof VEGA_DEBUG == \"undefined\") ? {} : VEGA_DEBUG;\n",
       "  (function(spec, embedOpt){\n",
       "    let outputDiv = document.currentScript.previousElementSibling;\n",
       "    if (outputDiv.id !== \"altair-viz-e1ee9572a079478782d6fd8668a10f82\") {\n",
       "      outputDiv = document.getElementById(\"altair-viz-e1ee9572a079478782d6fd8668a10f82\");\n",
       "    }\n",
       "    const paths = {\n",
       "      \"vega\": \"https://cdn.jsdelivr.net/npm//vega@5?noext\",\n",
       "      \"vega-lib\": \"https://cdn.jsdelivr.net/npm//vega-lib?noext\",\n",
       "      \"vega-lite\": \"https://cdn.jsdelivr.net/npm//vega-lite@4.17.0?noext\",\n",
       "      \"vega-embed\": \"https://cdn.jsdelivr.net/npm//vega-embed@6?noext\",\n",
       "    };\n",
       "\n",
       "    function maybeLoadScript(lib, version) {\n",
       "      var key = `${lib.replace(\"-\", \"\")}_version`;\n",
       "      return (VEGA_DEBUG[key] == version) ?\n",
       "        Promise.resolve(paths[lib]) :\n",
       "        new Promise(function(resolve, reject) {\n",
       "          var s = document.createElement('script');\n",
       "          document.getElementsByTagName(\"head\")[0].appendChild(s);\n",
       "          s.async = true;\n",
       "          s.onload = () => {\n",
       "            VEGA_DEBUG[key] = version;\n",
       "            return resolve(paths[lib]);\n",
       "          };\n",
       "          s.onerror = () => reject(`Error loading script: ${paths[lib]}`);\n",
       "          s.src = paths[lib];\n",
       "        });\n",
       "    }\n",
       "\n",
       "    function showError(err) {\n",
       "      outputDiv.innerHTML = `<div class=\"error\" style=\"color:red;\">${err}</div>`;\n",
       "      throw err;\n",
       "    }\n",
       "\n",
       "    function displayChart(vegaEmbed) {\n",
       "      vegaEmbed(outputDiv, spec, embedOpt)\n",
       "        .catch(err => showError(`Javascript Error: ${err.message}<br>This usually means there's a typo in your chart specification. See the javascript console for the full traceback.`));\n",
       "    }\n",
       "\n",
       "    if(typeof define === \"function\" && define.amd) {\n",
       "      requirejs.config({paths});\n",
       "      require([\"vega-embed\"], displayChart, err => showError(`Error loading script: ${err.message}`));\n",
       "    } else {\n",
       "      maybeLoadScript(\"vega\", \"5\")\n",
       "        .then(() => maybeLoadScript(\"vega-lite\", \"4.17.0\"))\n",
       "        .then(() => maybeLoadScript(\"vega-embed\", \"6\"))\n",
       "        .catch(showError)\n",
       "        .then(() => displayChart(vegaEmbed));\n",
       "    }\n",
       "  })({\"config\": {\"view\": {\"continuousWidth\": 400, \"continuousHeight\": 300}, \"axis\": {\"domainColor\": \"#cbcbcb\", \"grid\": true, \"gridColor\": \"#cbcbcb\", \"gridWidth\": 1, \"labelColor\": \"#474747\", \"labelFont\": \"Nunito Sans\", \"labelFontSize\": 10, \"labelPadding\": 4, \"tickColor\": \"#cbcbcb\", \"tickSize\": 10, \"titleColor\": \"#333\", \"titleFont\": \"Raleway\", \"titleFontSize\": 12, \"titlePadding\": 10}, \"axisBand\": {\"grid\": false}, \"background\": \"white\", \"font\": \"Raleway\", \"header\": {\"labelFont\": \"Nunito Sans\", \"titleFont\": \"Raleway\"}, \"legend\": {\"labelColor\": \"#333\", \"labelFont\": \"Nunito Sans\", \"labelFontSize\": 11, \"labelLimit\": 0, \"padding\": 1, \"symbolSize\": 30, \"symbolType\": \"square\", \"titleColor\": \"#333\", \"titleFont\": \"Raleway\", \"titleFontSize\": 14, \"titlePadding\": 10}, \"title\": {\"anchor\": \"middle\", \"font\": \"Raleway\", \"fontSize\": 18, \"fontWeight\": 300, \"offset\": 20}}, \"data\": {\"name\": \"data-b381369947d754d60c38e7d7289ab9b9\"}, \"mark\": \"bar\", \"encoding\": {\"color\": {\"field\": \"District\", \"legend\": {\"title\": \"Prepared Year\"}, \"scale\": {\"range\": [\"#B9D6DF\", \"#8CBCCB\", \"#2EA8CE\", \"#136C97\", \"#0B405B\"]}, \"type\": \"nominal\"}, \"column\": {\"field\": \"District\", \"type\": \"nominal\"}, \"tooltip\": [{\"field\": \"prepared_y\", \"type\": \"quantitative\"}, {\"field\": \"Count\", \"type\": \"quantitative\"}], \"x\": {\"field\": \"prepared_y\", \"title\": \"Prepared Year\", \"type\": \"ordinal\"}, \"y\": {\"field\": \"Count\", \"title\": \"Number of Unique Agencies\", \"type\": \"quantitative\"}}, \"height\": 250, \"width\": 400, \"$schema\": \"https://vega.github.io/schema/vega-lite/v4.17.0.json\", \"datasets\": {\"data-b381369947d754d60c38e7d7289ab9b9\": [{\"prepared_y\": 2022.0, \"District\": 12, \"Count\": 9}, {\"prepared_y\": 2021.0, \"District\": 12, \"Count\": 19}, {\"prepared_y\": 2020.0, \"District\": 12, \"Count\": 16}, {\"prepared_y\": 2019.0, \"District\": 12, \"Count\": 21}, {\"prepared_y\": 2018.0, \"District\": 12, \"Count\": 28}, {\"prepared_y\": 2017.0, \"District\": 12, \"Count\": 13}, {\"prepared_y\": 2016.0, \"District\": 12, \"Count\": 29}, {\"prepared_y\": 2015.0, \"District\": 12, \"Count\": 18}, {\"prepared_y\": 2014.0, \"District\": 12, \"Count\": 25}, {\"prepared_y\": 2013.0, \"District\": 12, \"Count\": 9}]}}, {\"mode\": \"vega-lite\"});\n",
       "</script>"
      ],
      "text/plain": [
       "alt.Chart(...)"
      ]
     },
     "execution_count": 9,
     "metadata": {},
     "output_type": "execute_result"
    }
   ],
   "source": [
    "# Unique Agencies by Dist\n",
    "dist_years_agency = ((\n",
    "        df\n",
    "        >> group_by(_.prepared_y, _.dist)\n",
    "        >> summarize(n=_.primary_agency_name.nunique())\n",
    "        >> arrange(-_.prepared_y)\n",
    "    )\n",
    "        .rename(columns={'dist':'District', 'n':'Count'})\n",
    "    )\n",
    "chart10 = (alt.Chart(dist_years_agency).mark_bar().encode(\n",
    "        column='District:N',\n",
    "        x=alt.X('prepared_y:O', title='Prepared Year'),\n",
    "        y=alt.Y('Count:Q', title='Number of Unique Agencies'),\n",
    "        color = alt.Color(\"District:N\", \n",
    "                              scale=alt.Scale(\n",
    "                                  range=altair_utils.CALITP_SEQUENTIAL_COLORS),  \n",
    "                               legend=alt.Legend(title=\"Prepared Year\")\n",
    "                              )))\n",
    "                              \n",
    "chart10 = styleguide.preset_chart_config(chart10)\n",
    "chart10 = _dla_utils_reports.add_tooltip(chart10, 'prepared_y', 'Count')\n",
    "    \n",
    "display(HTML(\"<h4><strong>Number of Unique Agencies by District</strong></h4>\"))\n",
    "chart10"
   ]
  },
  {
   "cell_type": "code",
   "execution_count": 10,
   "id": "faa4758e-8a41-44f8-aec4-b8cc4d75d906",
   "metadata": {
    "execution": {
     "iopub.execute_input": "2022-05-04T00:39:25.979987Z",
     "iopub.status.busy": "2022-05-04T00:39:25.978866Z",
     "iopub.status.idle": "2022-05-04T00:39:26.021233Z",
     "shell.execute_reply": "2022-05-04T00:39:26.020340Z"
    },
    "jupyter": {
     "source_hidden": true
    },
    "papermill": {
     "duration": 0.070961,
     "end_time": "2022-05-04T00:39:26.023384",
     "exception": false,
     "start_time": "2022-05-04T00:39:25.952423",
     "status": "completed"
    },
    "tags": [
     "remove_input"
    ]
   },
   "outputs": [
    {
     "data": {
      "text/html": [
       "<h4><strong>Agencies With The Most Obligations</strong></h4>"
      ],
      "text/plain": [
       "<IPython.core.display.HTML object>"
      ]
     },
     "metadata": {},
     "output_type": "display_data"
    },
    {
     "data": {
      "text/html": [
       "\n",
       "<div id=\"altair-viz-ee1d9d71bd5f4b4fa53bb881243972a9\"></div>\n",
       "<script type=\"text/javascript\">\n",
       "  var VEGA_DEBUG = (typeof VEGA_DEBUG == \"undefined\") ? {} : VEGA_DEBUG;\n",
       "  (function(spec, embedOpt){\n",
       "    let outputDiv = document.currentScript.previousElementSibling;\n",
       "    if (outputDiv.id !== \"altair-viz-ee1d9d71bd5f4b4fa53bb881243972a9\") {\n",
       "      outputDiv = document.getElementById(\"altair-viz-ee1d9d71bd5f4b4fa53bb881243972a9\");\n",
       "    }\n",
       "    const paths = {\n",
       "      \"vega\": \"https://cdn.jsdelivr.net/npm//vega@5?noext\",\n",
       "      \"vega-lib\": \"https://cdn.jsdelivr.net/npm//vega-lib?noext\",\n",
       "      \"vega-lite\": \"https://cdn.jsdelivr.net/npm//vega-lite@4.17.0?noext\",\n",
       "      \"vega-embed\": \"https://cdn.jsdelivr.net/npm//vega-embed@6?noext\",\n",
       "    };\n",
       "\n",
       "    function maybeLoadScript(lib, version) {\n",
       "      var key = `${lib.replace(\"-\", \"\")}_version`;\n",
       "      return (VEGA_DEBUG[key] == version) ?\n",
       "        Promise.resolve(paths[lib]) :\n",
       "        new Promise(function(resolve, reject) {\n",
       "          var s = document.createElement('script');\n",
       "          document.getElementsByTagName(\"head\")[0].appendChild(s);\n",
       "          s.async = true;\n",
       "          s.onload = () => {\n",
       "            VEGA_DEBUG[key] = version;\n",
       "            return resolve(paths[lib]);\n",
       "          };\n",
       "          s.onerror = () => reject(`Error loading script: ${paths[lib]}`);\n",
       "          s.src = paths[lib];\n",
       "        });\n",
       "    }\n",
       "\n",
       "    function showError(err) {\n",
       "      outputDiv.innerHTML = `<div class=\"error\" style=\"color:red;\">${err}</div>`;\n",
       "      throw err;\n",
       "    }\n",
       "\n",
       "    function displayChart(vegaEmbed) {\n",
       "      vegaEmbed(outputDiv, spec, embedOpt)\n",
       "        .catch(err => showError(`Javascript Error: ${err.message}<br>This usually means there's a typo in your chart specification. See the javascript console for the full traceback.`));\n",
       "    }\n",
       "\n",
       "    if(typeof define === \"function\" && define.amd) {\n",
       "      requirejs.config({paths});\n",
       "      require([\"vega-embed\"], displayChart, err => showError(`Error loading script: ${err.message}`));\n",
       "    } else {\n",
       "      maybeLoadScript(\"vega\", \"5\")\n",
       "        .then(() => maybeLoadScript(\"vega-lite\", \"4.17.0\"))\n",
       "        .then(() => maybeLoadScript(\"vega-embed\", \"6\"))\n",
       "        .catch(showError)\n",
       "        .then(() => displayChart(vegaEmbed));\n",
       "    }\n",
       "  })({\"config\": {\"view\": {\"continuousWidth\": 400, \"continuousHeight\": 300}, \"axis\": {\"domainColor\": \"#cbcbcb\", \"grid\": true, \"gridColor\": \"#cbcbcb\", \"gridWidth\": 1, \"labelColor\": \"#474747\", \"labelFont\": \"Nunito Sans\", \"labelFontSize\": 10, \"labelPadding\": 4, \"tickColor\": \"#cbcbcb\", \"tickSize\": 10, \"titleColor\": \"#333\", \"titleFont\": \"Raleway\", \"titleFontSize\": 12, \"titlePadding\": 10}, \"axisBand\": {\"grid\": false}, \"background\": \"white\", \"font\": \"Raleway\", \"header\": {\"labelFont\": \"Nunito Sans\", \"titleFont\": \"Raleway\"}, \"legend\": {\"labelColor\": \"#333\", \"labelFont\": \"Nunito Sans\", \"labelFontSize\": 11, \"labelLimit\": 0, \"padding\": 1, \"symbolSize\": 30, \"symbolType\": \"square\", \"titleColor\": \"#333\", \"titleFont\": \"Raleway\", \"titleFontSize\": 14, \"titlePadding\": 10}, \"title\": {\"anchor\": \"middle\", \"font\": \"Raleway\", \"fontSize\": 18, \"fontWeight\": 300, \"offset\": 20}}, \"data\": {\"name\": \"data-6f79c546dcb4e398492eae3b3971bcc1\"}, \"mark\": \"bar\", \"encoding\": {\"color\": {\"field\": \"Agency\", \"legend\": {\"symbolLimit\": 10, \"title\": \"Agency\"}, \"scale\": {\"range\": [\"#2EA8CE\", \"#EB9F3C\", \"#F4D837\", \"#51BF9D\", \"#8CBCCB\", \"#9487C0\"]}, \"type\": \"nominal\"}, \"tooltip\": [{\"field\": \"Agency\", \"type\": \"nominal\"}, {\"field\": \"Number of Obligations\", \"type\": \"quantitative\"}], \"x\": {\"field\": \"Agency\", \"sort\": \"-y\", \"title\": \"Agency\", \"type\": \"nominal\"}, \"y\": {\"field\": \"Number of Obligations\", \"title\": \"Number Of Obligations\", \"type\": \"quantitative\"}}, \"height\": 250, \"width\": 400, \"$schema\": \"https://vega.github.io/schema/vega-lite/v4.17.0.json\", \"datasets\": {\"data-6f79c546dcb4e398492eae3b3971bcc1\": [{\"Agency\": \"Santa Ana\", \"Number of Obligations\": 101, \"variable\": \"primary_agency_name\"}, {\"Agency\": \"Orange County Transportation Authority\", \"Number of Obligations\": 95, \"variable\": \"primary_agency_name\"}, {\"Agency\": \"Orange\", \"Number of Obligations\": 63, \"variable\": \"primary_agency_name\"}, {\"Agency\": \"Huntington Beach\", \"Number of Obligations\": 61, \"variable\": \"primary_agency_name\"}, {\"Agency\": \"Orange County\", \"Number of Obligations\": 49, \"variable\": \"primary_agency_name\"}, {\"Agency\": \"Costa Mesa\", \"Number of Obligations\": 45, \"variable\": \"primary_agency_name\"}, {\"Agency\": \"Anaheim\", \"Number of Obligations\": 41, \"variable\": \"primary_agency_name\"}, {\"Agency\": \"Garden Grove\", \"Number of Obligations\": 34, \"variable\": \"primary_agency_name\"}, {\"Agency\": \"Irvine\", \"Number of Obligations\": 20, \"variable\": \"primary_agency_name\"}, {\"Agency\": \"Fullerton\", \"Number of Obligations\": 17, \"variable\": \"primary_agency_name\"}, {\"Agency\": \"Brea\", \"Number of Obligations\": 16, \"variable\": \"primary_agency_name\"}, {\"Agency\": \"Westminster\", \"Number of Obligations\": 16, \"variable\": \"primary_agency_name\"}, {\"Agency\": \"Caltrans\", \"Number of Obligations\": 14, \"variable\": \"primary_agency_name\"}, {\"Agency\": \"Mission Viejo\", \"Number of Obligations\": 14, \"variable\": \"primary_agency_name\"}, {\"Agency\": \"Newport Beach\", \"Number of Obligations\": 13, \"variable\": \"primary_agency_name\"}, {\"Agency\": \"Rancho Santa Margarita\", \"Number of Obligations\": 11, \"variable\": \"primary_agency_name\"}, {\"Agency\": \"La Habra\", \"Number of Obligations\": 10, \"variable\": \"primary_agency_name\"}, {\"Agency\": \"Placentia\", \"Number of Obligations\": 10, \"variable\": \"primary_agency_name\"}, {\"Agency\": \"San Juan Capistrano\", \"Number of Obligations\": 9, \"variable\": \"primary_agency_name\"}, {\"Agency\": \"Seal Beach\", \"Number of Obligations\": 9, \"variable\": \"primary_agency_name\"}]}}, {\"mode\": \"vega-lite\"});\n",
       "</script>"
      ],
      "text/plain": [
       "alt.Chart(...)"
      ]
     },
     "execution_count": 10,
     "metadata": {},
     "output_type": "execute_result"
    }
   ],
   "source": [
    "#Bar chart Agencies With The Most Obligations\n",
    "chart_df = (df_top>>filter(_.variable=='primary_agency_name')).rename(columns={\"value\":\"Agency\",\n",
    "                                 \"count\":\"Number of Obligations\"})\n",
    "chart2 = (_dla_utils_reports.basic_bar_chart_no_save(chart_df, 'Agency', 'Number of Obligations', 'Agency', district))\n",
    "    \n",
    "display(HTML(\"<h4><strong>Agencies With The Most Obligations</strong></h4>\"))\n",
    "chart2\n"
   ]
  },
  {
   "cell_type": "code",
   "execution_count": 11,
   "id": "7e78de32-e647-4823-905f-da3ad190a248",
   "metadata": {
    "execution": {
     "iopub.execute_input": "2022-05-04T00:39:26.087998Z",
     "iopub.status.busy": "2022-05-04T00:39:26.087645Z",
     "iopub.status.idle": "2022-05-04T00:39:26.095817Z",
     "shell.execute_reply": "2022-05-04T00:39:26.094886Z"
    },
    "jupyter": {
     "source_hidden": true
    },
    "papermill": {
     "duration": 0.045215,
     "end_time": "2022-05-04T00:39:26.104736",
     "exception": false,
     "start_time": "2022-05-04T00:39:26.059521",
     "status": "completed"
    },
    "tags": [
     "remove_input"
    ]
   },
   "outputs": [
    {
     "data": {
      "text/html": [
       "<h2>Prefix Codes</h2>"
      ],
      "text/plain": [
       "<IPython.core.display.HTML object>"
      ]
     },
     "metadata": {},
     "output_type": "display_data"
    }
   ],
   "source": [
    "display(HTML(\"<h2>Prefix Codes</h2>\"))"
   ]
  },
  {
   "cell_type": "code",
   "execution_count": 12,
   "id": "f661bd63-f8aa-4048-b035-03d5bf1b7e95",
   "metadata": {
    "execution": {
     "iopub.execute_input": "2022-05-04T00:39:26.158591Z",
     "iopub.status.busy": "2022-05-04T00:39:26.158237Z",
     "iopub.status.idle": "2022-05-04T00:39:26.215776Z",
     "shell.execute_reply": "2022-05-04T00:39:26.214880Z"
    },
    "jupyter": {
     "source_hidden": true
    },
    "papermill": {
     "duration": 0.086769,
     "end_time": "2022-05-04T00:39:26.218000",
     "exception": false,
     "start_time": "2022-05-04T00:39:26.131231",
     "status": "completed"
    },
    "tags": [
     "remove_input"
    ]
   },
   "outputs": [
    {
     "data": {
      "text/html": [
       "<h4><strong>Number of Unique Prefix Codes by District</strong></h4>"
      ],
      "text/plain": [
       "<IPython.core.display.HTML object>"
      ]
     },
     "metadata": {},
     "output_type": "display_data"
    },
    {
     "data": {
      "text/html": [
       "\n",
       "<div id=\"altair-viz-f4171e73539d4adc948025d1fc4629db\"></div>\n",
       "<script type=\"text/javascript\">\n",
       "  var VEGA_DEBUG = (typeof VEGA_DEBUG == \"undefined\") ? {} : VEGA_DEBUG;\n",
       "  (function(spec, embedOpt){\n",
       "    let outputDiv = document.currentScript.previousElementSibling;\n",
       "    if (outputDiv.id !== \"altair-viz-f4171e73539d4adc948025d1fc4629db\") {\n",
       "      outputDiv = document.getElementById(\"altair-viz-f4171e73539d4adc948025d1fc4629db\");\n",
       "    }\n",
       "    const paths = {\n",
       "      \"vega\": \"https://cdn.jsdelivr.net/npm//vega@5?noext\",\n",
       "      \"vega-lib\": \"https://cdn.jsdelivr.net/npm//vega-lib?noext\",\n",
       "      \"vega-lite\": \"https://cdn.jsdelivr.net/npm//vega-lite@4.17.0?noext\",\n",
       "      \"vega-embed\": \"https://cdn.jsdelivr.net/npm//vega-embed@6?noext\",\n",
       "    };\n",
       "\n",
       "    function maybeLoadScript(lib, version) {\n",
       "      var key = `${lib.replace(\"-\", \"\")}_version`;\n",
       "      return (VEGA_DEBUG[key] == version) ?\n",
       "        Promise.resolve(paths[lib]) :\n",
       "        new Promise(function(resolve, reject) {\n",
       "          var s = document.createElement('script');\n",
       "          document.getElementsByTagName(\"head\")[0].appendChild(s);\n",
       "          s.async = true;\n",
       "          s.onload = () => {\n",
       "            VEGA_DEBUG[key] = version;\n",
       "            return resolve(paths[lib]);\n",
       "          };\n",
       "          s.onerror = () => reject(`Error loading script: ${paths[lib]}`);\n",
       "          s.src = paths[lib];\n",
       "        });\n",
       "    }\n",
       "\n",
       "    function showError(err) {\n",
       "      outputDiv.innerHTML = `<div class=\"error\" style=\"color:red;\">${err}</div>`;\n",
       "      throw err;\n",
       "    }\n",
       "\n",
       "    function displayChart(vegaEmbed) {\n",
       "      vegaEmbed(outputDiv, spec, embedOpt)\n",
       "        .catch(err => showError(`Javascript Error: ${err.message}<br>This usually means there's a typo in your chart specification. See the javascript console for the full traceback.`));\n",
       "    }\n",
       "\n",
       "    if(typeof define === \"function\" && define.amd) {\n",
       "      requirejs.config({paths});\n",
       "      require([\"vega-embed\"], displayChart, err => showError(`Error loading script: ${err.message}`));\n",
       "    } else {\n",
       "      maybeLoadScript(\"vega\", \"5\")\n",
       "        .then(() => maybeLoadScript(\"vega-lite\", \"4.17.0\"))\n",
       "        .then(() => maybeLoadScript(\"vega-embed\", \"6\"))\n",
       "        .catch(showError)\n",
       "        .then(() => displayChart(vegaEmbed));\n",
       "    }\n",
       "  })({\"config\": {\"view\": {\"continuousWidth\": 400, \"continuousHeight\": 300}, \"axis\": {\"domainColor\": \"#cbcbcb\", \"grid\": true, \"gridColor\": \"#cbcbcb\", \"gridWidth\": 1, \"labelColor\": \"#474747\", \"labelFont\": \"Nunito Sans\", \"labelFontSize\": 10, \"labelPadding\": 4, \"tickColor\": \"#cbcbcb\", \"tickSize\": 10, \"titleColor\": \"#333\", \"titleFont\": \"Raleway\", \"titleFontSize\": 12, \"titlePadding\": 10}, \"axisBand\": {\"grid\": false}, \"background\": \"white\", \"font\": \"Raleway\", \"header\": {\"labelFont\": \"Nunito Sans\", \"titleFont\": \"Raleway\"}, \"legend\": {\"labelColor\": \"#333\", \"labelFont\": \"Nunito Sans\", \"labelFontSize\": 11, \"labelLimit\": 0, \"padding\": 1, \"symbolSize\": 30, \"symbolType\": \"square\", \"titleColor\": \"#333\", \"titleFont\": \"Raleway\", \"titleFontSize\": 14, \"titlePadding\": 10}, \"title\": {\"anchor\": \"middle\", \"font\": \"Raleway\", \"fontSize\": 18, \"fontWeight\": 300, \"offset\": 20}}, \"data\": {\"name\": \"data-374e31a909d72f200e85d0c0d1120c57\"}, \"mark\": \"bar\", \"encoding\": {\"color\": {\"field\": \"District\", \"legend\": {\"title\": \"District\"}, \"scale\": {\"range\": [\"#B9D6DF\", \"#8CBCCB\", \"#2EA8CE\", \"#136C97\", \"#0B405B\"]}, \"type\": \"nominal\"}, \"column\": {\"field\": \"District\", \"type\": \"nominal\"}, \"tooltip\": [{\"field\": \"prepared_y\", \"type\": \"quantitative\"}, {\"field\": \"Count\", \"type\": \"quantitative\"}], \"x\": {\"field\": \"prepared_y\", \"title\": \"Prepared Year\", \"type\": \"ordinal\"}, \"y\": {\"field\": \"Count\", \"title\": \"Number of Unique Agencies\", \"type\": \"quantitative\"}}, \"height\": 250, \"width\": 400, \"$schema\": \"https://vega.github.io/schema/vega-lite/v4.17.0.json\", \"datasets\": {\"data-374e31a909d72f200e85d0c0d1120c57\": [{\"prepared_y\": 2022.0, \"District\": 12, \"Count\": 7}, {\"prepared_y\": 2021.0, \"District\": 12, \"Count\": 19}, {\"prepared_y\": 2020.0, \"District\": 12, \"Count\": 19}, {\"prepared_y\": 2019.0, \"District\": 12, \"Count\": 18}, {\"prepared_y\": 2018.0, \"District\": 12, \"Count\": 19}, {\"prepared_y\": 2017.0, \"District\": 12, \"Count\": 15}, {\"prepared_y\": 2016.0, \"District\": 12, \"Count\": 16}, {\"prepared_y\": 2015.0, \"District\": 12, \"Count\": 16}, {\"prepared_y\": 2014.0, \"District\": 12, \"Count\": 17}, {\"prepared_y\": 2013.0, \"District\": 12, \"Count\": 9}]}}, {\"mode\": \"vega-lite\"});\n",
       "</script>"
      ],
      "text/plain": [
       "alt.Chart(...)"
      ]
     },
     "execution_count": 12,
     "metadata": {},
     "output_type": "execute_result"
    }
   ],
   "source": [
    "#Unique Prefixes by Dist\n",
    "dist_years_prefix = ((\n",
    "        df\n",
    "        >> group_by(_.prepared_y, _.dist)\n",
    "        >> summarize(n=_.prefix.nunique())\n",
    "        >> arrange(-_.prepared_y)\n",
    "    ).rename(columns={'dist':'District', 'n':'Count'}))\n",
    "\n",
    "chart11 = (alt.Chart(dist_years_prefix).mark_bar().encode(\n",
    "        column='District:N',\n",
    "        x=alt.X('prepared_y:O', title='Prepared Year'),\n",
    "        y=alt.Y('Count:Q', title='Number of Unique Agencies'),\n",
    "        color = alt.Color(\"District:N\", \n",
    "                              scale=alt.Scale(\n",
    "                                  range=altair_utils.CALITP_SEQUENTIAL_COLORS),  \n",
    "                               legend=alt.Legend(title=\"District\")\n",
    "                              )\n",
    "                              ))\n",
    "chart11 = styleguide.preset_chart_config(chart11)\n",
    "chart11 = _dla_utils_reports.add_tooltip(chart11, 'prepared_y','Count')\n",
    "    \n",
    "display(HTML(\"<h4><strong>Number of Unique Prefix Codes by District</strong></h4>\"))\n",
    "chart11"
   ]
  },
  {
   "cell_type": "code",
   "execution_count": 13,
   "id": "0aca2d9a-062a-4c12-9489-5f9de10f3462",
   "metadata": {
    "execution": {
     "iopub.execute_input": "2022-05-04T00:39:26.281825Z",
     "iopub.status.busy": "2022-05-04T00:39:26.281192Z",
     "iopub.status.idle": "2022-05-04T00:39:26.328377Z",
     "shell.execute_reply": "2022-05-04T00:39:26.327641Z"
    },
    "jupyter": {
     "source_hidden": true
    },
    "papermill": {
     "duration": 0.078525,
     "end_time": "2022-05-04T00:39:26.330966",
     "exception": false,
     "start_time": "2022-05-04T00:39:26.252441",
     "status": "completed"
    },
    "tags": [
     "remove_input"
    ]
   },
   "outputs": [
    {
     "data": {
      "text/html": [
       "<h4><strong>Most Used Prefix Codes</strong></h4>"
      ],
      "text/plain": [
       "<IPython.core.display.HTML object>"
      ]
     },
     "metadata": {},
     "output_type": "display_data"
    },
    {
     "data": {
      "text/html": [
       "\n",
       "<div id=\"altair-viz-f7a0a61233534555877b6c3c1ccdb418\"></div>\n",
       "<script type=\"text/javascript\">\n",
       "  var VEGA_DEBUG = (typeof VEGA_DEBUG == \"undefined\") ? {} : VEGA_DEBUG;\n",
       "  (function(spec, embedOpt){\n",
       "    let outputDiv = document.currentScript.previousElementSibling;\n",
       "    if (outputDiv.id !== \"altair-viz-f7a0a61233534555877b6c3c1ccdb418\") {\n",
       "      outputDiv = document.getElementById(\"altair-viz-f7a0a61233534555877b6c3c1ccdb418\");\n",
       "    }\n",
       "    const paths = {\n",
       "      \"vega\": \"https://cdn.jsdelivr.net/npm//vega@5?noext\",\n",
       "      \"vega-lib\": \"https://cdn.jsdelivr.net/npm//vega-lib?noext\",\n",
       "      \"vega-lite\": \"https://cdn.jsdelivr.net/npm//vega-lite@4.17.0?noext\",\n",
       "      \"vega-embed\": \"https://cdn.jsdelivr.net/npm//vega-embed@6?noext\",\n",
       "    };\n",
       "\n",
       "    function maybeLoadScript(lib, version) {\n",
       "      var key = `${lib.replace(\"-\", \"\")}_version`;\n",
       "      return (VEGA_DEBUG[key] == version) ?\n",
       "        Promise.resolve(paths[lib]) :\n",
       "        new Promise(function(resolve, reject) {\n",
       "          var s = document.createElement('script');\n",
       "          document.getElementsByTagName(\"head\")[0].appendChild(s);\n",
       "          s.async = true;\n",
       "          s.onload = () => {\n",
       "            VEGA_DEBUG[key] = version;\n",
       "            return resolve(paths[lib]);\n",
       "          };\n",
       "          s.onerror = () => reject(`Error loading script: ${paths[lib]}`);\n",
       "          s.src = paths[lib];\n",
       "        });\n",
       "    }\n",
       "\n",
       "    function showError(err) {\n",
       "      outputDiv.innerHTML = `<div class=\"error\" style=\"color:red;\">${err}</div>`;\n",
       "      throw err;\n",
       "    }\n",
       "\n",
       "    function displayChart(vegaEmbed) {\n",
       "      vegaEmbed(outputDiv, spec, embedOpt)\n",
       "        .catch(err => showError(`Javascript Error: ${err.message}<br>This usually means there's a typo in your chart specification. See the javascript console for the full traceback.`));\n",
       "    }\n",
       "\n",
       "    if(typeof define === \"function\" && define.amd) {\n",
       "      requirejs.config({paths});\n",
       "      require([\"vega-embed\"], displayChart, err => showError(`Error loading script: ${err.message}`));\n",
       "    } else {\n",
       "      maybeLoadScript(\"vega\", \"5\")\n",
       "        .then(() => maybeLoadScript(\"vega-lite\", \"4.17.0\"))\n",
       "        .then(() => maybeLoadScript(\"vega-embed\", \"6\"))\n",
       "        .catch(showError)\n",
       "        .then(() => displayChart(vegaEmbed));\n",
       "    }\n",
       "  })({\"config\": {\"view\": {\"continuousWidth\": 400, \"continuousHeight\": 300}, \"axis\": {\"domainColor\": \"#cbcbcb\", \"grid\": true, \"gridColor\": \"#cbcbcb\", \"gridWidth\": 1, \"labelColor\": \"#474747\", \"labelFont\": \"Nunito Sans\", \"labelFontSize\": 10, \"labelPadding\": 4, \"tickColor\": \"#cbcbcb\", \"tickSize\": 10, \"titleColor\": \"#333\", \"titleFont\": \"Raleway\", \"titleFontSize\": 12, \"titlePadding\": 10}, \"axisBand\": {\"grid\": false}, \"background\": \"white\", \"font\": \"Raleway\", \"header\": {\"labelFont\": \"Nunito Sans\", \"titleFont\": \"Raleway\"}, \"legend\": {\"labelColor\": \"#333\", \"labelFont\": \"Nunito Sans\", \"labelFontSize\": 11, \"labelLimit\": 0, \"padding\": 1, \"symbolSize\": 30, \"symbolType\": \"square\", \"titleColor\": \"#333\", \"titleFont\": \"Raleway\", \"titleFontSize\": 14, \"titlePadding\": 10}, \"title\": {\"anchor\": \"middle\", \"font\": \"Raleway\", \"fontSize\": 18, \"fontWeight\": 300, \"offset\": 20}}, \"data\": {\"name\": \"data-4887fa9f4cc5d7b1f3dd6cc1d72e211c\"}, \"mark\": \"bar\", \"encoding\": {\"color\": {\"field\": \"Prefix\", \"legend\": {\"symbolLimit\": 10, \"title\": \"Prefix\"}, \"scale\": {\"range\": [\"#2EA8CE\", \"#EB9F3C\", \"#F4D837\", \"#51BF9D\", \"#8CBCCB\", \"#9487C0\"]}, \"type\": \"nominal\"}, \"tooltip\": [{\"field\": \"Prefix\", \"type\": \"nominal\"}, {\"field\": \"Number of Obligations\", \"type\": \"quantitative\"}], \"x\": {\"field\": \"Prefix\", \"sort\": \"-y\", \"title\": \"Prefix\", \"type\": \"nominal\"}, \"y\": {\"field\": \"Number of Obligations\", \"title\": \"Number Of Obligations\", \"type\": \"quantitative\"}}, \"height\": 250, \"width\": 400, \"$schema\": \"https://vega.github.io/schema/vega-lite/v4.17.0.json\", \"datasets\": {\"data-4887fa9f4cc5d7b1f3dd6cc1d72e211c\": [{\"Prefix\": \"HSIPL\", \"Number of Obligations\": 243, \"variable\": \"prefix\"}, {\"Prefix\": \"STPL\", \"Number of Obligations\": 100, \"variable\": \"prefix\"}, {\"Prefix\": \"CML\", \"Number of Obligations\": 75, \"variable\": \"prefix\"}, {\"Prefix\": \"STPLN\", \"Number of Obligations\": 37, \"variable\": \"prefix\"}, {\"Prefix\": \"BPMPL\", \"Number of Obligations\": 29, \"variable\": \"prefix\"}, {\"Prefix\": \"CMLN\", \"Number of Obligations\": 27, \"variable\": \"prefix\"}, {\"Prefix\": \"RPSTPL\", \"Number of Obligations\": 24, \"variable\": \"prefix\"}, {\"Prefix\": \"FTACML\", \"Number of Obligations\": 22, \"variable\": \"prefix\"}, {\"Prefix\": \"SRTSL\", \"Number of Obligations\": 21, \"variable\": \"prefix\"}, {\"Prefix\": \"ATPL\", \"Number of Obligations\": 17, \"variable\": \"prefix\"}, {\"Prefix\": \"BRLS\", \"Number of Obligations\": 12, \"variable\": \"prefix\"}, {\"Prefix\": \"BRLO\", \"Number of Obligations\": 11, \"variable\": \"prefix\"}, {\"Prefix\": \"ATPCML\", \"Number of Obligations\": 6, \"variable\": \"prefix\"}, {\"Prefix\": \"CMHPLULN\", \"Number of Obligations\": 6, \"variable\": \"prefix\"}, {\"Prefix\": \"CMSTPLN\", \"Number of Obligations\": 5, \"variable\": \"prefix\"}, {\"Prefix\": \"HP21L\", \"Number of Obligations\": 5, \"variable\": \"prefix\"}, {\"Prefix\": \"HRRRL\", \"Number of Obligations\": 5, \"variable\": \"prefix\"}, {\"Prefix\": \"PNRSCML\", \"Number of Obligations\": 4, \"variable\": \"prefix\"}, {\"Prefix\": \"SRTSLNI\", \"Number of Obligations\": 4, \"variable\": \"prefix\"}, {\"Prefix\": \"ATPLNI\", \"Number of Obligations\": 3, \"variable\": \"prefix\"}]}}, {\"mode\": \"vega-lite\"});\n",
       "</script>"
      ],
      "text/plain": [
       "alt.Chart(...)"
      ]
     },
     "execution_count": 13,
     "metadata": {},
     "output_type": "execute_result"
    }
   ],
   "source": [
    "#Bar chart with the Most Used Prefix Counts\n",
    "chart_df = (df_top>>filter(_.variable=='prefix')).rename(columns={\"value\":\"Prefix\",\n",
    "                                 \"count\":\"Number of Obligations\"})\n",
    "chart9= (_dla_utils_reports.basic_bar_chart_no_save(chart_df, 'Prefix', 'Number of Obligations', 'Prefix', district))\n",
    "    \n",
    "display(HTML(\"<h4><strong>Most Used Prefix Codes</strong></h4>\"))\n",
    "chart9\n",
    "    "
   ]
  },
  {
   "cell_type": "code",
   "execution_count": 14,
   "id": "3d21c9b2-833b-463a-9a03-a9c83d727d2e",
   "metadata": {
    "execution": {
     "iopub.execute_input": "2022-05-04T00:39:26.394419Z",
     "iopub.status.busy": "2022-05-04T00:39:26.393784Z",
     "iopub.status.idle": "2022-05-04T00:39:26.466625Z",
     "shell.execute_reply": "2022-05-04T00:39:26.465540Z"
    },
    "jupyter": {
     "source_hidden": true
    },
    "papermill": {
     "duration": 0.105668,
     "end_time": "2022-05-04T00:39:26.468946",
     "exception": false,
     "start_time": "2022-05-04T00:39:26.363278",
     "status": "completed"
    },
    "tags": [
     "remove_input"
    ]
   },
   "outputs": [
    {
     "data": {
      "text/html": [
       "<h4><strong>Agencies With The Most Unique Prefix Codes</strong></h4>"
      ],
      "text/plain": [
       "<IPython.core.display.HTML object>"
      ]
     },
     "metadata": {},
     "output_type": "display_data"
    },
    {
     "data": {
      "text/html": [
       "\n",
       "<div id=\"altair-viz-d127994b10d74f0393cba7ff96188241\"></div>\n",
       "<script type=\"text/javascript\">\n",
       "  var VEGA_DEBUG = (typeof VEGA_DEBUG == \"undefined\") ? {} : VEGA_DEBUG;\n",
       "  (function(spec, embedOpt){\n",
       "    let outputDiv = document.currentScript.previousElementSibling;\n",
       "    if (outputDiv.id !== \"altair-viz-d127994b10d74f0393cba7ff96188241\") {\n",
       "      outputDiv = document.getElementById(\"altair-viz-d127994b10d74f0393cba7ff96188241\");\n",
       "    }\n",
       "    const paths = {\n",
       "      \"vega\": \"https://cdn.jsdelivr.net/npm//vega@5?noext\",\n",
       "      \"vega-lib\": \"https://cdn.jsdelivr.net/npm//vega-lib?noext\",\n",
       "      \"vega-lite\": \"https://cdn.jsdelivr.net/npm//vega-lite@4.17.0?noext\",\n",
       "      \"vega-embed\": \"https://cdn.jsdelivr.net/npm//vega-embed@6?noext\",\n",
       "    };\n",
       "\n",
       "    function maybeLoadScript(lib, version) {\n",
       "      var key = `${lib.replace(\"-\", \"\")}_version`;\n",
       "      return (VEGA_DEBUG[key] == version) ?\n",
       "        Promise.resolve(paths[lib]) :\n",
       "        new Promise(function(resolve, reject) {\n",
       "          var s = document.createElement('script');\n",
       "          document.getElementsByTagName(\"head\")[0].appendChild(s);\n",
       "          s.async = true;\n",
       "          s.onload = () => {\n",
       "            VEGA_DEBUG[key] = version;\n",
       "            return resolve(paths[lib]);\n",
       "          };\n",
       "          s.onerror = () => reject(`Error loading script: ${paths[lib]}`);\n",
       "          s.src = paths[lib];\n",
       "        });\n",
       "    }\n",
       "\n",
       "    function showError(err) {\n",
       "      outputDiv.innerHTML = `<div class=\"error\" style=\"color:red;\">${err}</div>`;\n",
       "      throw err;\n",
       "    }\n",
       "\n",
       "    function displayChart(vegaEmbed) {\n",
       "      vegaEmbed(outputDiv, spec, embedOpt)\n",
       "        .catch(err => showError(`Javascript Error: ${err.message}<br>This usually means there's a typo in your chart specification. See the javascript console for the full traceback.`));\n",
       "    }\n",
       "\n",
       "    if(typeof define === \"function\" && define.amd) {\n",
       "      requirejs.config({paths});\n",
       "      require([\"vega-embed\"], displayChart, err => showError(`Error loading script: ${err.message}`));\n",
       "    } else {\n",
       "      maybeLoadScript(\"vega\", \"5\")\n",
       "        .then(() => maybeLoadScript(\"vega-lite\", \"4.17.0\"))\n",
       "        .then(() => maybeLoadScript(\"vega-embed\", \"6\"))\n",
       "        .catch(showError)\n",
       "        .then(() => displayChart(vegaEmbed));\n",
       "    }\n",
       "  })({\"config\": {\"view\": {\"continuousWidth\": 400, \"continuousHeight\": 300}, \"axis\": {\"domainColor\": \"#cbcbcb\", \"grid\": true, \"gridColor\": \"#cbcbcb\", \"gridWidth\": 1, \"labelColor\": \"#474747\", \"labelFont\": \"Nunito Sans\", \"labelFontSize\": 10, \"labelPadding\": 4, \"tickColor\": \"#cbcbcb\", \"tickSize\": 10, \"titleColor\": \"#333\", \"titleFont\": \"Raleway\", \"titleFontSize\": 12, \"titlePadding\": 10}, \"axisBand\": {\"grid\": false}, \"background\": \"white\", \"font\": \"Raleway\", \"header\": {\"labelFont\": \"Nunito Sans\", \"titleFont\": \"Raleway\"}, \"legend\": {\"labelColor\": \"#333\", \"labelFont\": \"Nunito Sans\", \"labelFontSize\": 11, \"labelLimit\": 0, \"padding\": 1, \"symbolSize\": 30, \"symbolType\": \"square\", \"titleColor\": \"#333\", \"titleFont\": \"Raleway\", \"titleFontSize\": 14, \"titlePadding\": 10}, \"title\": {\"anchor\": \"middle\", \"font\": \"Raleway\", \"fontSize\": 18, \"fontWeight\": 300, \"offset\": 20}}, \"data\": {\"name\": \"data-4fab242edbc851e0680e6e16901cc2b1\"}, \"mark\": \"bar\", \"encoding\": {\"color\": {\"field\": \"primary_agency_name\", \"legend\": {\"symbolLimit\": 10, \"title\": \"Agency\"}, \"scale\": {\"range\": [\"#2EA8CE\", \"#EB9F3C\", \"#F4D837\", \"#51BF9D\", \"#8CBCCB\", \"#9487C0\"]}, \"type\": \"nominal\"}, \"tooltip\": [{\"field\": \"primary_agency_name\", \"type\": \"nominal\"}, {\"field\": \"n\", \"type\": \"quantitative\"}], \"x\": {\"field\": \"primary_agency_name\", \"sort\": \"-y\", \"title\": \"Agency\", \"type\": \"nominal\"}, \"y\": {\"field\": \"n\", \"title\": \"Count\", \"type\": \"quantitative\"}}, \"height\": 250, \"width\": 400, \"$schema\": \"https://vega.github.io/schema/vega-lite/v4.17.0.json\", \"datasets\": {\"data-4fab242edbc851e0680e6e16901cc2b1\": [{\"primary_agency_name\": \"Orange County Transportation Authority\", \"n\": 16}, {\"primary_agency_name\": \"Anaheim\", \"n\": 12}, {\"primary_agency_name\": \"Orange County\", \"n\": 11}, {\"primary_agency_name\": \"Santa Ana\", \"n\": 11}, {\"primary_agency_name\": \"Costa Mesa\", \"n\": 8}, {\"primary_agency_name\": \"Mission Viejo\", \"n\": 8}, {\"primary_agency_name\": \"Irvine\", \"n\": 7}, {\"primary_agency_name\": \"Brea\", \"n\": 6}, {\"primary_agency_name\": \"Garden Grove\", \"n\": 5}, {\"primary_agency_name\": \"Huntington Beach\", \"n\": 5}, {\"primary_agency_name\": \"Fullerton\", \"n\": 4}, {\"primary_agency_name\": \"Orange\", \"n\": 4}, {\"primary_agency_name\": \"Placentia\", \"n\": 4}, {\"primary_agency_name\": \"Newport Beach\", \"n\": 3}, {\"primary_agency_name\": \"Rancho Santa Margarita\", \"n\": 3}, {\"primary_agency_name\": \"San Juan Capistrano\", \"n\": 3}, {\"primary_agency_name\": \"Seal Beach\", \"n\": 3}, {\"primary_agency_name\": \"Westminster\", \"n\": 3}, {\"primary_agency_name\": \"Caltrans\", \"n\": 2}, {\"primary_agency_name\": \"Dana Point\", \"n\": 2}, {\"primary_agency_name\": \"Fountain Valley\", \"n\": 2}, {\"primary_agency_name\": \"La Habra\", \"n\": 2}, {\"primary_agency_name\": \"La Palma\", \"n\": 2}, {\"primary_agency_name\": \"Laguna Niguel\", \"n\": 2}, {\"primary_agency_name\": \"Morro Bay\", \"n\": 2}, {\"primary_agency_name\": \"San Clemente\", \"n\": 2}, {\"primary_agency_name\": \"Yorba Linda\", \"n\": 2}, {\"primary_agency_name\": \"Buena Park\", \"n\": 1}, {\"primary_agency_name\": \"Cypress\", \"n\": 1}, {\"primary_agency_name\": \"Foothill Eastern Transportation Corridor\", \"n\": 1}]}}, {\"mode\": \"vega-lite\"});\n",
       "</script>"
      ],
      "text/plain": [
       "alt.Chart(...)"
      ]
     },
     "execution_count": 14,
     "metadata": {},
     "output_type": "execute_result"
    }
   ],
   "source": [
    "#Bar chart Agencies With The Most Unique Prefix Codes\n",
    "    \n",
    "chart3 = (_dla_utils_reports.basic_bar_chart_no_save(((_dla_utils_reports.get_nunique(df, 'prefix', 'primary_agency_name')).head(30)),\n",
    "                            'primary_agency_name', 'n', 'primary_agency_name', district))\n",
    "    \n",
    "display(HTML(\"<h4><strong>Agencies With The Most Unique Prefix Codes</strong></h4>\"))\n",
    "chart3"
   ]
  },
  {
   "cell_type": "code",
   "execution_count": 15,
   "id": "8c744cb5-e4f5-4e8e-8cd8-c59641845299",
   "metadata": {
    "execution": {
     "iopub.execute_input": "2022-05-04T00:39:26.528514Z",
     "iopub.status.busy": "2022-05-04T00:39:26.528164Z",
     "iopub.status.idle": "2022-05-04T00:39:26.537468Z",
     "shell.execute_reply": "2022-05-04T00:39:26.536586Z"
    },
    "jupyter": {
     "source_hidden": true
    },
    "papermill": {
     "duration": 0.0537,
     "end_time": "2022-05-04T00:39:26.551682",
     "exception": false,
     "start_time": "2022-05-04T00:39:26.497982",
     "status": "completed"
    },
    "tags": [
     "remove_input"
    ]
   },
   "outputs": [
    {
     "data": {
      "text/html": [
       "<h2>Funding Distribution</h2>"
      ],
      "text/plain": [
       "<IPython.core.display.HTML object>"
      ]
     },
     "metadata": {},
     "output_type": "display_data"
    }
   ],
   "source": [
    "display(HTML(\"<h2>Funding Distribution</h2>\"))"
   ]
  },
  {
   "cell_type": "code",
   "execution_count": 16,
   "id": "3745ca4d-8dd4-4c09-b46b-a2f6db6358ad",
   "metadata": {
    "execution": {
     "iopub.execute_input": "2022-05-04T00:39:26.614143Z",
     "iopub.status.busy": "2022-05-04T00:39:26.613761Z",
     "iopub.status.idle": "2022-05-04T00:39:26.660279Z",
     "shell.execute_reply": "2022-05-04T00:39:26.659239Z"
    },
    "jupyter": {
     "source_hidden": true
    },
    "papermill": {
     "duration": 0.079012,
     "end_time": "2022-05-04T00:39:26.663182",
     "exception": false,
     "start_time": "2022-05-04T00:39:26.584170",
     "status": "completed"
    },
    "tags": [
     "remove_input"
    ]
   },
   "outputs": [
    {
     "data": {
      "text/html": [
       "<h4><strong>Average Total Requested Funds by Agency ($2021)</strong></h4>"
      ],
      "text/plain": [
       "<IPython.core.display.HTML object>"
      ]
     },
     "metadata": {},
     "output_type": "display_data"
    },
    {
     "data": {
      "text/html": [
       "\n",
       "<div id=\"altair-viz-7913d7cbd67c43038b79a7fe53f99121\"></div>\n",
       "<script type=\"text/javascript\">\n",
       "  var VEGA_DEBUG = (typeof VEGA_DEBUG == \"undefined\") ? {} : VEGA_DEBUG;\n",
       "  (function(spec, embedOpt){\n",
       "    let outputDiv = document.currentScript.previousElementSibling;\n",
       "    if (outputDiv.id !== \"altair-viz-7913d7cbd67c43038b79a7fe53f99121\") {\n",
       "      outputDiv = document.getElementById(\"altair-viz-7913d7cbd67c43038b79a7fe53f99121\");\n",
       "    }\n",
       "    const paths = {\n",
       "      \"vega\": \"https://cdn.jsdelivr.net/npm//vega@5?noext\",\n",
       "      \"vega-lib\": \"https://cdn.jsdelivr.net/npm//vega-lib?noext\",\n",
       "      \"vega-lite\": \"https://cdn.jsdelivr.net/npm//vega-lite@4.17.0?noext\",\n",
       "      \"vega-embed\": \"https://cdn.jsdelivr.net/npm//vega-embed@6?noext\",\n",
       "    };\n",
       "\n",
       "    function maybeLoadScript(lib, version) {\n",
       "      var key = `${lib.replace(\"-\", \"\")}_version`;\n",
       "      return (VEGA_DEBUG[key] == version) ?\n",
       "        Promise.resolve(paths[lib]) :\n",
       "        new Promise(function(resolve, reject) {\n",
       "          var s = document.createElement('script');\n",
       "          document.getElementsByTagName(\"head\")[0].appendChild(s);\n",
       "          s.async = true;\n",
       "          s.onload = () => {\n",
       "            VEGA_DEBUG[key] = version;\n",
       "            return resolve(paths[lib]);\n",
       "          };\n",
       "          s.onerror = () => reject(`Error loading script: ${paths[lib]}`);\n",
       "          s.src = paths[lib];\n",
       "        });\n",
       "    }\n",
       "\n",
       "    function showError(err) {\n",
       "      outputDiv.innerHTML = `<div class=\"error\" style=\"color:red;\">${err}</div>`;\n",
       "      throw err;\n",
       "    }\n",
       "\n",
       "    function displayChart(vegaEmbed) {\n",
       "      vegaEmbed(outputDiv, spec, embedOpt)\n",
       "        .catch(err => showError(`Javascript Error: ${err.message}<br>This usually means there's a typo in your chart specification. See the javascript console for the full traceback.`));\n",
       "    }\n",
       "\n",
       "    if(typeof define === \"function\" && define.amd) {\n",
       "      requirejs.config({paths});\n",
       "      require([\"vega-embed\"], displayChart, err => showError(`Error loading script: ${err.message}`));\n",
       "    } else {\n",
       "      maybeLoadScript(\"vega\", \"5\")\n",
       "        .then(() => maybeLoadScript(\"vega-lite\", \"4.17.0\"))\n",
       "        .then(() => maybeLoadScript(\"vega-embed\", \"6\"))\n",
       "        .catch(showError)\n",
       "        .then(() => displayChart(vegaEmbed));\n",
       "    }\n",
       "  })({\"config\": {\"view\": {\"continuousWidth\": 400, \"continuousHeight\": 300}, \"axis\": {\"domainColor\": \"#cbcbcb\", \"grid\": true, \"gridColor\": \"#cbcbcb\", \"gridWidth\": 1, \"labelColor\": \"#474747\", \"labelFont\": \"Nunito Sans\", \"labelFontSize\": 10, \"labelPadding\": 4, \"tickColor\": \"#cbcbcb\", \"tickSize\": 10, \"titleColor\": \"#333\", \"titleFont\": \"Raleway\", \"titleFontSize\": 12, \"titlePadding\": 10}, \"axisBand\": {\"grid\": false}, \"background\": \"white\", \"font\": \"Raleway\", \"header\": {\"labelFont\": \"Nunito Sans\", \"titleFont\": \"Raleway\"}, \"legend\": {\"labelColor\": \"#333\", \"labelFont\": \"Nunito Sans\", \"labelFontSize\": 11, \"labelLimit\": 0, \"padding\": 1, \"symbolSize\": 30, \"symbolType\": \"square\", \"titleColor\": \"#333\", \"titleFont\": \"Raleway\", \"titleFontSize\": 14, \"titlePadding\": 10}, \"title\": {\"anchor\": \"middle\", \"font\": \"Raleway\", \"fontSize\": 18, \"fontWeight\": 300, \"offset\": 20}}, \"data\": {\"name\": \"data-0bf1c576f7a058197ca4b0e94980550b\"}, \"mark\": \"bar\", \"encoding\": {\"color\": {\"field\": \"primary_agency_name\", \"legend\": {\"symbolLimit\": 10, \"title\": \"Agency\"}, \"scale\": {\"range\": [\"#2EA8CE\", \"#EB9F3C\", \"#F4D837\", \"#51BF9D\", \"#8CBCCB\", \"#9487C0\"]}, \"type\": \"nominal\"}, \"tooltip\": [{\"field\": \"primary_agency_name\", \"type\": \"nominal\"}, {\"field\": \"adjusted_total_requested\", \"type\": \"quantitative\"}], \"x\": {\"field\": \"primary_agency_name\", \"sort\": \"-y\", \"title\": \"Agency\", \"type\": \"nominal\"}, \"y\": {\"field\": \"adjusted_total_requested\", \"title\": \"Adjusted Total Requested\", \"type\": \"quantitative\"}}, \"height\": 250, \"width\": 400, \"$schema\": \"https://vega.github.io/schema/vega-lite/v4.17.0.json\", \"datasets\": {\"data-0bf1c576f7a058197ca4b0e94980550b\": [{\"primary_agency_name\": \"Orange County Transportation Authority\", \"adjusted_total_requested\": 27363126.21233876}, {\"primary_agency_name\": \"Caltrans\", \"adjusted_total_requested\": 20546423.320022404}, {\"primary_agency_name\": \"Costa Mesa\", \"adjusted_total_requested\": 1746235.1809904533}, {\"primary_agency_name\": \"Newport Beach\", \"adjusted_total_requested\": 1599938.321387898}, {\"primary_agency_name\": \"Fountain Valley\", \"adjusted_total_requested\": 1408177.0333159354}, {\"primary_agency_name\": \"Orange County\", \"adjusted_total_requested\": 1205428.1072128045}, {\"primary_agency_name\": \"Mission Viejo\", \"adjusted_total_requested\": 860811.4903341836}, {\"primary_agency_name\": \"Brea\", \"adjusted_total_requested\": 853811.7746790565}, {\"primary_agency_name\": \"Laguna Niguel\", \"adjusted_total_requested\": 826074.4561631999}, {\"primary_agency_name\": \"San Clemente\", \"adjusted_total_requested\": 746634.211428366}, {\"primary_agency_name\": \"Fullerton\", \"adjusted_total_requested\": 742820.1409104319}, {\"primary_agency_name\": \"Lake Forest\", \"adjusted_total_requested\": 627595.9909850052}, {\"primary_agency_name\": \"Laguna Hills\", \"adjusted_total_requested\": 603771.5388447774}, {\"primary_agency_name\": \"Garden Grove\", \"adjusted_total_requested\": 586389.9800680882}, {\"primary_agency_name\": \"Westminster\", \"adjusted_total_requested\": 522846.75771845237}, {\"primary_agency_name\": \"Rancho Santa Margarita\", \"adjusted_total_requested\": 505400.8549856193}, {\"primary_agency_name\": \"Yorba Linda\", \"adjusted_total_requested\": 488974.3578723982}, {\"primary_agency_name\": \"Anaheim\", \"adjusted_total_requested\": 437978.386615811}, {\"primary_agency_name\": \"Placentia\", \"adjusted_total_requested\": 417700.5503008169}, {\"primary_agency_name\": \"Santa Ana\", \"adjusted_total_requested\": 400922.5713936581}, {\"primary_agency_name\": \"Dana Point\", \"adjusted_total_requested\": 382707.898018534}, {\"primary_agency_name\": \"Morro Bay\", \"adjusted_total_requested\": 302176.40541076235}, {\"primary_agency_name\": \"Seal Beach\", \"adjusted_total_requested\": 300659.5974879822}, {\"primary_agency_name\": \"La Palma\", \"adjusted_total_requested\": 299726.4895544477}, {\"primary_agency_name\": \"Huntington Beach\", \"adjusted_total_requested\": 260487.45120451902}, {\"primary_agency_name\": \"Villa Park\", \"adjusted_total_requested\": 259197.8521813857}, {\"primary_agency_name\": \"Cypress\", \"adjusted_total_requested\": 170405.95894062385}, {\"primary_agency_name\": \"Buena Park\", \"adjusted_total_requested\": 130570.13349238093}, {\"primary_agency_name\": \"Orange\", \"adjusted_total_requested\": 130082.6000175955}, {\"primary_agency_name\": \"La Habra\", \"adjusted_total_requested\": 118543.96423788727}]}}, {\"mode\": \"vega-lite\"});\n",
       "</script>"
      ],
      "text/plain": [
       "alt.Chart(...)"
      ]
     },
     "execution_count": 16,
     "metadata": {},
     "output_type": "execute_result"
    }
   ],
   "source": [
    "#Bar chart Average Total Requested Funds by Agency\n",
    "chart4=(_dla_utils_reports.basic_bar_chart_no_save((((_dla_utils_reports.calculate_data_all(df, 'adjusted_total_requested', 'primary_agency_name', aggfunc=\"mean\"))\n",
    "                          >>arrange(-_.adjusted_total_requested)).head(30)\n",
    "                        ), 'primary_agency_name','adjusted_total_requested', 'primary_agency_name', district\n",
    "                          \n",
    "                       ))\n",
    "    \n",
    "display(HTML(\"<h4><strong>Average Total Requested Funds by Agency ($2021)</strong></h4>\"))\n",
    "chart4"
   ]
  },
  {
   "cell_type": "code",
   "execution_count": 17,
   "id": "ce18a74b-9908-40f8-84f1-806552936465",
   "metadata": {
    "execution": {
     "iopub.execute_input": "2022-05-04T00:39:26.726013Z",
     "iopub.status.busy": "2022-05-04T00:39:26.725245Z",
     "iopub.status.idle": "2022-05-04T00:39:26.808121Z",
     "shell.execute_reply": "2022-05-04T00:39:26.807155Z"
    },
    "jupyter": {
     "source_hidden": true
    },
    "papermill": {
     "duration": 0.117698,
     "end_time": "2022-05-04T00:39:26.810892",
     "exception": false,
     "start_time": "2022-05-04T00:39:26.693194",
     "status": "completed"
    },
    "tags": [
     "remove_input"
    ]
   },
   "outputs": [
    {
     "data": {
      "text/html": [
       "<h4><strong>Lowest Average Total Funds by Agency ($2021)</strong></h4>"
      ],
      "text/plain": [
       "<IPython.core.display.HTML object>"
      ]
     },
     "metadata": {},
     "output_type": "display_data"
    },
    {
     "data": {
      "text/html": [
       "\n",
       "<div id=\"altair-viz-1d776f744e9b48aea1b5494f73571b0c\"></div>\n",
       "<script type=\"text/javascript\">\n",
       "  var VEGA_DEBUG = (typeof VEGA_DEBUG == \"undefined\") ? {} : VEGA_DEBUG;\n",
       "  (function(spec, embedOpt){\n",
       "    let outputDiv = document.currentScript.previousElementSibling;\n",
       "    if (outputDiv.id !== \"altair-viz-1d776f744e9b48aea1b5494f73571b0c\") {\n",
       "      outputDiv = document.getElementById(\"altair-viz-1d776f744e9b48aea1b5494f73571b0c\");\n",
       "    }\n",
       "    const paths = {\n",
       "      \"vega\": \"https://cdn.jsdelivr.net/npm//vega@5?noext\",\n",
       "      \"vega-lib\": \"https://cdn.jsdelivr.net/npm//vega-lib?noext\",\n",
       "      \"vega-lite\": \"https://cdn.jsdelivr.net/npm//vega-lite@4.17.0?noext\",\n",
       "      \"vega-embed\": \"https://cdn.jsdelivr.net/npm//vega-embed@6?noext\",\n",
       "    };\n",
       "\n",
       "    function maybeLoadScript(lib, version) {\n",
       "      var key = `${lib.replace(\"-\", \"\")}_version`;\n",
       "      return (VEGA_DEBUG[key] == version) ?\n",
       "        Promise.resolve(paths[lib]) :\n",
       "        new Promise(function(resolve, reject) {\n",
       "          var s = document.createElement('script');\n",
       "          document.getElementsByTagName(\"head\")[0].appendChild(s);\n",
       "          s.async = true;\n",
       "          s.onload = () => {\n",
       "            VEGA_DEBUG[key] = version;\n",
       "            return resolve(paths[lib]);\n",
       "          };\n",
       "          s.onerror = () => reject(`Error loading script: ${paths[lib]}`);\n",
       "          s.src = paths[lib];\n",
       "        });\n",
       "    }\n",
       "\n",
       "    function showError(err) {\n",
       "      outputDiv.innerHTML = `<div class=\"error\" style=\"color:red;\">${err}</div>`;\n",
       "      throw err;\n",
       "    }\n",
       "\n",
       "    function displayChart(vegaEmbed) {\n",
       "      vegaEmbed(outputDiv, spec, embedOpt)\n",
       "        .catch(err => showError(`Javascript Error: ${err.message}<br>This usually means there's a typo in your chart specification. See the javascript console for the full traceback.`));\n",
       "    }\n",
       "\n",
       "    if(typeof define === \"function\" && define.amd) {\n",
       "      requirejs.config({paths});\n",
       "      require([\"vega-embed\"], displayChart, err => showError(`Error loading script: ${err.message}`));\n",
       "    } else {\n",
       "      maybeLoadScript(\"vega\", \"5\")\n",
       "        .then(() => maybeLoadScript(\"vega-lite\", \"4.17.0\"))\n",
       "        .then(() => maybeLoadScript(\"vega-embed\", \"6\"))\n",
       "        .catch(showError)\n",
       "        .then(() => displayChart(vegaEmbed));\n",
       "    }\n",
       "  })({\"config\": {\"view\": {\"continuousWidth\": 400, \"continuousHeight\": 300}, \"axis\": {\"domainColor\": \"#cbcbcb\", \"grid\": true, \"gridColor\": \"#cbcbcb\", \"gridWidth\": 1, \"labelColor\": \"#474747\", \"labelFont\": \"Nunito Sans\", \"labelFontSize\": 10, \"labelPadding\": 4, \"tickColor\": \"#cbcbcb\", \"tickSize\": 10, \"titleColor\": \"#333\", \"titleFont\": \"Raleway\", \"titleFontSize\": 12, \"titlePadding\": 10}, \"axisBand\": {\"grid\": false}, \"background\": \"white\", \"font\": \"Raleway\", \"header\": {\"labelFont\": \"Nunito Sans\", \"titleFont\": \"Raleway\"}, \"legend\": {\"labelColor\": \"#333\", \"labelFont\": \"Nunito Sans\", \"labelFontSize\": 11, \"labelLimit\": 0, \"padding\": 1, \"symbolSize\": 30, \"symbolType\": \"square\", \"titleColor\": \"#333\", \"titleFont\": \"Raleway\", \"titleFontSize\": 14, \"titlePadding\": 10}, \"title\": {\"anchor\": \"middle\", \"font\": \"Raleway\", \"fontSize\": 18, \"fontWeight\": 300, \"offset\": 20}}, \"data\": {\"name\": \"data-e877692a06e83056210eeb9357e9ce1c\"}, \"mark\": \"bar\", \"encoding\": {\"color\": {\"field\": \"primary_agency_name\", \"legend\": {\"symbolLimit\": 10, \"title\": \"Agency\"}, \"scale\": {\"range\": [\"#2EA8CE\", \"#EB9F3C\", \"#F4D837\", \"#51BF9D\", \"#8CBCCB\", \"#9487C0\"]}, \"type\": \"nominal\"}, \"tooltip\": [{\"field\": \"primary_agency_name\", \"type\": \"nominal\"}, {\"field\": \"avg_funds\", \"type\": \"quantitative\"}], \"x\": {\"field\": \"primary_agency_name\", \"sort\": \"-y\", \"title\": \"Agency\", \"type\": \"nominal\"}, \"y\": {\"field\": \"avg_funds\", \"title\": \"Avg Funds\", \"type\": \"quantitative\"}}, \"height\": 250, \"width\": 400, \"$schema\": \"https://vega.github.io/schema/vega-lite/v4.17.0.json\", \"datasets\": {\"data-e877692a06e83056210eeb9357e9ce1c\": [{\"primary_agency_name\": \"Orange County Transportation Authority\", \"avg_funds\": 27363126.212338746}, {\"primary_agency_name\": \"Caltrans\", \"avg_funds\": 20546423.3200224}, {\"primary_agency_name\": \"Costa Mesa\", \"avg_funds\": 1746235.1809904529}, {\"primary_agency_name\": \"Newport Beach\", \"avg_funds\": 1599938.321387898}, {\"primary_agency_name\": \"Fountain Valley\", \"avg_funds\": 1408177.0333159354}, {\"primary_agency_name\": \"Orange County\", \"avg_funds\": 1205428.1072128043}, {\"primary_agency_name\": \"Mission Viejo\", \"avg_funds\": 860811.4903341833}, {\"primary_agency_name\": \"Brea\", \"avg_funds\": 853811.7746790566}, {\"primary_agency_name\": \"Laguna Niguel\", \"avg_funds\": 826074.4561631999}, {\"primary_agency_name\": \"San Clemente\", \"avg_funds\": 746634.211428366}, {\"primary_agency_name\": \"Fullerton\", \"avg_funds\": 742820.140910432}, {\"primary_agency_name\": \"Lake Forest\", \"avg_funds\": 627595.9909850052}, {\"primary_agency_name\": \"Laguna Hills\", \"avg_funds\": 603771.5388447774}, {\"primary_agency_name\": \"Garden Grove\", \"avg_funds\": 586389.9800680884}, {\"primary_agency_name\": \"Westminster\", \"avg_funds\": 522846.75771845237}, {\"primary_agency_name\": \"Rancho Santa Margarita\", \"avg_funds\": 505400.8549856193}, {\"primary_agency_name\": \"Yorba Linda\", \"avg_funds\": 488974.3578723982}, {\"primary_agency_name\": \"Anaheim\", \"avg_funds\": 437978.386615811}, {\"primary_agency_name\": \"Placentia\", \"avg_funds\": 417700.55030081683}, {\"primary_agency_name\": \"Santa Ana\", \"avg_funds\": 400922.57139365806}, {\"primary_agency_name\": \"Dana Point\", \"avg_funds\": 382707.898018534}, {\"primary_agency_name\": \"Morro Bay\", \"avg_funds\": 302176.40541076235}, {\"primary_agency_name\": \"Seal Beach\", \"avg_funds\": 300659.5974879822}, {\"primary_agency_name\": \"La Palma\", \"avg_funds\": 299726.4895544477}, {\"primary_agency_name\": \"Huntington Beach\", \"avg_funds\": 260487.45120451896}, {\"primary_agency_name\": \"Villa Park\", \"avg_funds\": 259197.8521813857}, {\"primary_agency_name\": \"Cypress\", \"avg_funds\": 170405.95894062385}, {\"primary_agency_name\": \"Buena Park\", \"avg_funds\": 130570.13349238093}, {\"primary_agency_name\": \"Orange\", \"avg_funds\": 130082.60001759551}, {\"primary_agency_name\": \"La Habra\", \"avg_funds\": 118543.96423788725}, {\"primary_agency_name\": \"San Juan Capistrano\", \"avg_funds\": 86122.09838328866}, {\"primary_agency_name\": \"Laguna Woods\", \"avg_funds\": 0.0572303798126444}, {\"primary_agency_name\": \"Irvine\", \"avg_funds\": -6151.347816054494}, {\"primary_agency_name\": \"Laguna Beach\", \"avg_funds\": -20243.661577202147}, {\"primary_agency_name\": \"Foothill Eastern Transportation Corridor\", \"avg_funds\": -215531.51042302858}, {\"primary_agency_name\": \"Tustin\", \"avg_funds\": -451239.7244990742}]}}, {\"mode\": \"vega-lite\"});\n",
       "</script>"
      ],
      "text/plain": [
       "alt.Chart(...)"
      ]
     },
     "execution_count": 17,
     "metadata": {},
     "output_type": "execute_result"
    }
   ],
   "source": [
    "#Bar chart Bottom Average Total Requested Funds by Agency\n",
    "avg_funds_bottom = (df>>group_by(_.primary_agency_name)>>summarize(avg_funds=_.adjusted_total_requested.mean())>>arrange(-_.avg_funds)).tail(50)\n",
    "\n",
    "chart5=( _dla_utils_reports.basic_bar_chart_no_save((avg_funds_bottom.tail(40)), 'primary_agency_name','avg_funds', 'primary_agency_name', district))\n",
    "    \n",
    "display(HTML(\"<h4><strong>Lowest Average Total Funds by Agency ($2021)</strong></h4>\"))\n",
    "chart5"
   ]
  },
  {
   "cell_type": "code",
   "execution_count": 18,
   "id": "d18938e5-6fc5-4e53-87b2-7140df57e5a0",
   "metadata": {
    "execution": {
     "iopub.execute_input": "2022-05-04T00:39:26.881996Z",
     "iopub.status.busy": "2022-05-04T00:39:26.881636Z",
     "iopub.status.idle": "2022-05-04T00:39:26.924923Z",
     "shell.execute_reply": "2022-05-04T00:39:26.923917Z"
    },
    "jupyter": {
     "source_hidden": true
    },
    "papermill": {
     "duration": 0.079674,
     "end_time": "2022-05-04T00:39:26.928064",
     "exception": false,
     "start_time": "2022-05-04T00:39:26.848390",
     "status": "completed"
    },
    "tags": [
     "remove_input"
    ]
   },
   "outputs": [
    {
     "data": {
      "text/html": [
       "<h4><strong>Average Total Requested Funds by Prefix ($2021)</strong></h4>"
      ],
      "text/plain": [
       "<IPython.core.display.HTML object>"
      ]
     },
     "metadata": {},
     "output_type": "display_data"
    },
    {
     "data": {
      "text/html": [
       "\n",
       "<div id=\"altair-viz-b921c11c7bff48a2b40744dfa96f4835\"></div>\n",
       "<script type=\"text/javascript\">\n",
       "  var VEGA_DEBUG = (typeof VEGA_DEBUG == \"undefined\") ? {} : VEGA_DEBUG;\n",
       "  (function(spec, embedOpt){\n",
       "    let outputDiv = document.currentScript.previousElementSibling;\n",
       "    if (outputDiv.id !== \"altair-viz-b921c11c7bff48a2b40744dfa96f4835\") {\n",
       "      outputDiv = document.getElementById(\"altair-viz-b921c11c7bff48a2b40744dfa96f4835\");\n",
       "    }\n",
       "    const paths = {\n",
       "      \"vega\": \"https://cdn.jsdelivr.net/npm//vega@5?noext\",\n",
       "      \"vega-lib\": \"https://cdn.jsdelivr.net/npm//vega-lib?noext\",\n",
       "      \"vega-lite\": \"https://cdn.jsdelivr.net/npm//vega-lite@4.17.0?noext\",\n",
       "      \"vega-embed\": \"https://cdn.jsdelivr.net/npm//vega-embed@6?noext\",\n",
       "    };\n",
       "\n",
       "    function maybeLoadScript(lib, version) {\n",
       "      var key = `${lib.replace(\"-\", \"\")}_version`;\n",
       "      return (VEGA_DEBUG[key] == version) ?\n",
       "        Promise.resolve(paths[lib]) :\n",
       "        new Promise(function(resolve, reject) {\n",
       "          var s = document.createElement('script');\n",
       "          document.getElementsByTagName(\"head\")[0].appendChild(s);\n",
       "          s.async = true;\n",
       "          s.onload = () => {\n",
       "            VEGA_DEBUG[key] = version;\n",
       "            return resolve(paths[lib]);\n",
       "          };\n",
       "          s.onerror = () => reject(`Error loading script: ${paths[lib]}`);\n",
       "          s.src = paths[lib];\n",
       "        });\n",
       "    }\n",
       "\n",
       "    function showError(err) {\n",
       "      outputDiv.innerHTML = `<div class=\"error\" style=\"color:red;\">${err}</div>`;\n",
       "      throw err;\n",
       "    }\n",
       "\n",
       "    function displayChart(vegaEmbed) {\n",
       "      vegaEmbed(outputDiv, spec, embedOpt)\n",
       "        .catch(err => showError(`Javascript Error: ${err.message}<br>This usually means there's a typo in your chart specification. See the javascript console for the full traceback.`));\n",
       "    }\n",
       "\n",
       "    if(typeof define === \"function\" && define.amd) {\n",
       "      requirejs.config({paths});\n",
       "      require([\"vega-embed\"], displayChart, err => showError(`Error loading script: ${err.message}`));\n",
       "    } else {\n",
       "      maybeLoadScript(\"vega\", \"5\")\n",
       "        .then(() => maybeLoadScript(\"vega-lite\", \"4.17.0\"))\n",
       "        .then(() => maybeLoadScript(\"vega-embed\", \"6\"))\n",
       "        .catch(showError)\n",
       "        .then(() => displayChart(vegaEmbed));\n",
       "    }\n",
       "  })({\"config\": {\"view\": {\"continuousWidth\": 400, \"continuousHeight\": 300}, \"axis\": {\"domainColor\": \"#cbcbcb\", \"grid\": true, \"gridColor\": \"#cbcbcb\", \"gridWidth\": 1, \"labelColor\": \"#474747\", \"labelFont\": \"Nunito Sans\", \"labelFontSize\": 10, \"labelPadding\": 4, \"tickColor\": \"#cbcbcb\", \"tickSize\": 10, \"titleColor\": \"#333\", \"titleFont\": \"Raleway\", \"titleFontSize\": 12, \"titlePadding\": 10}, \"axisBand\": {\"grid\": false}, \"background\": \"white\", \"font\": \"Raleway\", \"header\": {\"labelFont\": \"Nunito Sans\", \"titleFont\": \"Raleway\"}, \"legend\": {\"labelColor\": \"#333\", \"labelFont\": \"Nunito Sans\", \"labelFontSize\": 11, \"labelLimit\": 0, \"padding\": 1, \"symbolSize\": 30, \"symbolType\": \"square\", \"titleColor\": \"#333\", \"titleFont\": \"Raleway\", \"titleFontSize\": 14, \"titlePadding\": 10}, \"title\": {\"anchor\": \"middle\", \"font\": \"Raleway\", \"fontSize\": 18, \"fontWeight\": 300, \"offset\": 20}}, \"data\": {\"name\": \"data-6e10b96c26c123983dd4b5b0ca69febd\"}, \"mark\": \"bar\", \"encoding\": {\"color\": {\"field\": \"prefix\", \"legend\": {\"symbolLimit\": 10, \"title\": \"Prefix\"}, \"scale\": {\"range\": [\"#2EA8CE\", \"#EB9F3C\", \"#F4D837\", \"#51BF9D\", \"#8CBCCB\", \"#9487C0\"]}, \"type\": \"nominal\"}, \"tooltip\": [{\"field\": \"prefix\", \"type\": \"nominal\"}, {\"field\": \"adjusted_total_requested\", \"type\": \"quantitative\"}], \"x\": {\"field\": \"prefix\", \"sort\": \"-y\", \"title\": \"Prefix\", \"type\": \"nominal\"}, \"y\": {\"field\": \"adjusted_total_requested\", \"title\": \"Adjusted Total Requested\", \"type\": \"quantitative\"}}, \"height\": 250, \"width\": 400, \"$schema\": \"https://vega.github.io/schema/vega-lite/v4.17.0.json\", \"datasets\": {\"data-6e10b96c26c123983dd4b5b0ca69febd\": [{\"prefix\": \"STPLN\", \"adjusted_total_requested\": 70067744.67762718}, {\"prefix\": \"CMSTPL\", \"adjusted_total_requested\": 63340110.72211217}, {\"prefix\": \"CMSTPLN\", \"adjusted_total_requested\": 19329239.87601928}, {\"prefix\": \"FTACML\", \"adjusted_total_requested\": 14011291.814521035}, {\"prefix\": \"HPLULN\", \"adjusted_total_requested\": 11825831.887053913}, {\"prefix\": \"DEM05L\", \"adjusted_total_requested\": 7333583.472675212}, {\"prefix\": \"PNRSCML\", \"adjusted_total_requested\": 6131734.07336066}, {\"prefix\": \"BHLS\", \"adjusted_total_requested\": 4438384.279911158}, {\"prefix\": \"BRLS\", \"adjusted_total_requested\": 1693530.8396903158}, {\"prefix\": \"CMHPLULN\", \"adjusted_total_requested\": 1489939.6762568841}, {\"prefix\": \"STPTCIFL\", \"adjusted_total_requested\": 1483622.8918475385}, {\"prefix\": \"ATPCML\", \"adjusted_total_requested\": 1455754.523768898}, {\"prefix\": \"FTASTPL\", \"adjusted_total_requested\": 1421940.9313199304}, {\"prefix\": \"ATPL\", \"adjusted_total_requested\": 1309152.9351782086}, {\"prefix\": \"BRLSZ\", \"adjusted_total_requested\": 1147272.2682928415}, {\"prefix\": \"BRLO\", \"adjusted_total_requested\": 1089139.9075778986}, {\"prefix\": \"HP21L\", \"adjusted_total_requested\": 941598.7236555718}, {\"prefix\": \"RPMSTPL\", \"adjusted_total_requested\": 874148.9663087878}, {\"prefix\": \"HRRRL\", \"adjusted_total_requested\": 861310.0579001738}, {\"prefix\": \"TCSP\", \"adjusted_total_requested\": 833770.6927489594}, {\"prefix\": \"BRLOZE\", \"adjusted_total_requested\": 808987.8269550309}, {\"prefix\": \"ACNHPI\", \"adjusted_total_requested\": 604352.8108215247}, {\"prefix\": \"ATPSB1L\", \"adjusted_total_requested\": 538637.0890444992}, {\"prefix\": \"FTAFER16\", \"adjusted_total_requested\": 492672.77356848406}, {\"prefix\": \"CML\", \"adjusted_total_requested\": 411992.13057369966}, {\"prefix\": \"STPL\", \"adjusted_total_requested\": 381913.8718270426}, {\"prefix\": \"BPMPL\", \"adjusted_total_requested\": 337361.5092420961}, {\"prefix\": \"SRTSL\", \"adjusted_total_requested\": 273881.3572605744}, {\"prefix\": \"HSIPL\", \"adjusted_total_requested\": 241408.25911334803}, {\"prefix\": \"ATPLNI\", \"adjusted_total_requested\": 97002.76262355213}]}}, {\"mode\": \"vega-lite\"});\n",
       "</script>"
      ],
      "text/plain": [
       "alt.Chart(...)"
      ]
     },
     "execution_count": 18,
     "metadata": {},
     "output_type": "execute_result"
    }
   ],
   "source": [
    "# Bar chart Average Total Requested Funds by Prefix\n",
    "chart8 = (_dla_utils_reports.basic_bar_chart_no_save((((_dla_utils_reports.calculate_data_all(df, 'adjusted_total_requested', 'prefix', aggfunc=\"mean\"))\n",
    "                          >>arrange(-_.adjusted_total_requested)).head(30)), 'prefix','adjusted_total_requested', 'prefix', district\n",
    "                       ))\n",
    "    \n",
    "display(HTML(\"<h4><strong>Average Total Requested Funds by Prefix ($2021)</strong></h4>\"))\n",
    "chart8\n",
    "    "
   ]
  },
  {
   "cell_type": "code",
   "execution_count": 19,
   "id": "fba57d98-39a1-4a63-bc94-cecf0841aa75",
   "metadata": {
    "execution": {
     "iopub.execute_input": "2022-05-04T00:39:27.001869Z",
     "iopub.status.busy": "2022-05-04T00:39:27.001031Z",
     "iopub.status.idle": "2022-05-04T00:39:27.007938Z",
     "shell.execute_reply": "2022-05-04T00:39:27.006941Z"
    },
    "jupyter": {
     "source_hidden": true
    },
    "papermill": {
     "duration": 0.045588,
     "end_time": "2022-05-04T00:39:27.011319",
     "exception": false,
     "start_time": "2022-05-04T00:39:26.965731",
     "status": "completed"
    },
    "tags": [
     "remove_input"
    ]
   },
   "outputs": [
    {
     "data": {
      "text/html": [
       "<h2>Work Categories</h2>"
      ],
      "text/plain": [
       "<IPython.core.display.HTML object>"
      ]
     },
     "metadata": {},
     "output_type": "display_data"
    }
   ],
   "source": [
    "#work categories info and charts\n",
    "display(HTML(\"<h2>Work Categories</h2>\"))"
   ]
  },
  {
   "cell_type": "code",
   "execution_count": 20,
   "id": "50a1cf08-17eb-4b2b-9dc0-671ee7551f2d",
   "metadata": {
    "execution": {
     "iopub.execute_input": "2022-05-04T00:39:27.078723Z",
     "iopub.status.busy": "2022-05-04T00:39:27.078378Z",
     "iopub.status.idle": "2022-05-04T00:39:27.871816Z",
     "shell.execute_reply": "2022-05-04T00:39:27.870946Z"
    },
    "jupyter": {
     "source_hidden": true
    },
    "papermill": {
     "duration": 0.832121,
     "end_time": "2022-05-04T00:39:27.874412",
     "exception": false,
     "start_time": "2022-05-04T00:39:27.042291",
     "status": "completed"
    },
    "tags": [
     "remove_input"
    ]
   },
   "outputs": [
    {
     "data": {
      "application/vnd.jupyter.widget-view+json": {
       "model_id": "819f6dc37f244c1d95a207ae38666203",
       "version_major": 2,
       "version_minor": 0
      },
      "text/plain": [
       "HTML(value='<h3> Top Agencies using Active Transportation Projects </h3>')"
      ]
     },
     "metadata": {},
     "output_type": "display_data"
    },
    {
     "data": {
      "text/html": [
       "<style type=\"text/css\">\n",
       "</style>\n",
       "<table id=\"T_f30f7\">\n",
       "  <thead>\n",
       "    <tr>\n",
       "      <th class=\"blank level0\" >&nbsp;</th>\n",
       "      <th id=\"T_f30f7_level0_col0\" class=\"col_heading level0 col0\" >Agency</th>\n",
       "      <th id=\"T_f30f7_level0_col1\" class=\"col_heading level0 col1\" >Active Transportation Obligations</th>\n",
       "      <th id=\"T_f30f7_level0_col2\" class=\"col_heading level0 col2\" >Percent of Category</th>\n",
       "    </tr>\n",
       "  </thead>\n",
       "  <tbody>\n",
       "    <tr>\n",
       "      <th id=\"T_f30f7_level0_row0\" class=\"row_heading level0 row0\" >0</th>\n",
       "      <td id=\"T_f30f7_row0_col0\" class=\"data row0 col0\" >Santa Ana</td>\n",
       "      <td id=\"T_f30f7_row0_col1\" class=\"data row0 col1\" >40</td>\n",
       "      <td id=\"T_f30f7_row0_col2\" class=\"data row0 col2\" >20.83%</td>\n",
       "    </tr>\n",
       "    <tr>\n",
       "      <th id=\"T_f30f7_level0_row1\" class=\"row_heading level0 row1\" >1</th>\n",
       "      <td id=\"T_f30f7_row1_col0\" class=\"data row1 col0\" >Costa Mesa</td>\n",
       "      <td id=\"T_f30f7_row1_col1\" class=\"data row1 col1\" >22</td>\n",
       "      <td id=\"T_f30f7_row1_col2\" class=\"data row1 col2\" >11.46%</td>\n",
       "    </tr>\n",
       "    <tr>\n",
       "      <th id=\"T_f30f7_level0_row2\" class=\"row_heading level0 row2\" >2</th>\n",
       "      <td id=\"T_f30f7_row2_col0\" class=\"data row2 col0\" >Anaheim</td>\n",
       "      <td id=\"T_f30f7_row2_col1\" class=\"data row2 col1\" >19</td>\n",
       "      <td id=\"T_f30f7_row2_col2\" class=\"data row2 col2\" >9.90%</td>\n",
       "    </tr>\n",
       "    <tr>\n",
       "      <th id=\"T_f30f7_level0_row3\" class=\"row_heading level0 row3\" >3</th>\n",
       "      <td id=\"T_f30f7_row3_col0\" class=\"data row3 col0\" >Orange County</td>\n",
       "      <td id=\"T_f30f7_row3_col1\" class=\"data row3 col1\" >18</td>\n",
       "      <td id=\"T_f30f7_row3_col2\" class=\"data row3 col2\" >9.38%</td>\n",
       "    </tr>\n",
       "    <tr>\n",
       "      <th id=\"T_f30f7_level0_row4\" class=\"row_heading level0 row4\" >4</th>\n",
       "      <td id=\"T_f30f7_row4_col0\" class=\"data row4 col0\" >Orange</td>\n",
       "      <td id=\"T_f30f7_row4_col1\" class=\"data row4 col1\" >14</td>\n",
       "      <td id=\"T_f30f7_row4_col2\" class=\"data row4 col2\" >7.29%</td>\n",
       "    </tr>\n",
       "  </tbody>\n",
       "</table>\n"
      ],
      "text/plain": [
       "<pandas.io.formats.style.Styler at 0x7fc510b81fa0>"
      ]
     },
     "metadata": {},
     "output_type": "display_data"
    },
    {
     "data": {
      "text/html": [
       "\n",
       "<div id=\"altair-viz-0386172ce7a34b65b1511aa97204fa45\"></div>\n",
       "<script type=\"text/javascript\">\n",
       "  var VEGA_DEBUG = (typeof VEGA_DEBUG == \"undefined\") ? {} : VEGA_DEBUG;\n",
       "  (function(spec, embedOpt){\n",
       "    let outputDiv = document.currentScript.previousElementSibling;\n",
       "    if (outputDiv.id !== \"altair-viz-0386172ce7a34b65b1511aa97204fa45\") {\n",
       "      outputDiv = document.getElementById(\"altair-viz-0386172ce7a34b65b1511aa97204fa45\");\n",
       "    }\n",
       "    const paths = {\n",
       "      \"vega\": \"https://cdn.jsdelivr.net/npm//vega@5?noext\",\n",
       "      \"vega-lib\": \"https://cdn.jsdelivr.net/npm//vega-lib?noext\",\n",
       "      \"vega-lite\": \"https://cdn.jsdelivr.net/npm//vega-lite@4.17.0?noext\",\n",
       "      \"vega-embed\": \"https://cdn.jsdelivr.net/npm//vega-embed@6?noext\",\n",
       "    };\n",
       "\n",
       "    function maybeLoadScript(lib, version) {\n",
       "      var key = `${lib.replace(\"-\", \"\")}_version`;\n",
       "      return (VEGA_DEBUG[key] == version) ?\n",
       "        Promise.resolve(paths[lib]) :\n",
       "        new Promise(function(resolve, reject) {\n",
       "          var s = document.createElement('script');\n",
       "          document.getElementsByTagName(\"head\")[0].appendChild(s);\n",
       "          s.async = true;\n",
       "          s.onload = () => {\n",
       "            VEGA_DEBUG[key] = version;\n",
       "            return resolve(paths[lib]);\n",
       "          };\n",
       "          s.onerror = () => reject(`Error loading script: ${paths[lib]}`);\n",
       "          s.src = paths[lib];\n",
       "        });\n",
       "    }\n",
       "\n",
       "    function showError(err) {\n",
       "      outputDiv.innerHTML = `<div class=\"error\" style=\"color:red;\">${err}</div>`;\n",
       "      throw err;\n",
       "    }\n",
       "\n",
       "    function displayChart(vegaEmbed) {\n",
       "      vegaEmbed(outputDiv, spec, embedOpt)\n",
       "        .catch(err => showError(`Javascript Error: ${err.message}<br>This usually means there's a typo in your chart specification. See the javascript console for the full traceback.`));\n",
       "    }\n",
       "\n",
       "    if(typeof define === \"function\" && define.amd) {\n",
       "      requirejs.config({paths});\n",
       "      require([\"vega-embed\"], displayChart, err => showError(`Error loading script: ${err.message}`));\n",
       "    } else {\n",
       "      maybeLoadScript(\"vega\", \"5\")\n",
       "        .then(() => maybeLoadScript(\"vega-lite\", \"4.17.0\"))\n",
       "        .then(() => maybeLoadScript(\"vega-embed\", \"6\"))\n",
       "        .catch(showError)\n",
       "        .then(() => displayChart(vegaEmbed));\n",
       "    }\n",
       "  })({\"config\": {\"view\": {\"continuousWidth\": 400, \"continuousHeight\": 300}}, \"data\": {\"name\": \"data-1204de64293f4b523c90e99527c432e3\"}, \"mark\": \"bar\", \"encoding\": {\"color\": {\"field\": \"Categories\", \"scale\": {\"range\": [\"#2EA8CE\", \"#EB9F3C\", \"#F4D837\", \"#51BF9D\", \"#8CBCCB\", \"#9487C0\"]}, \"type\": \"nominal\"}, \"row\": {\"field\": \"Categories\", \"type\": \"nominal\"}, \"tooltip\": [{\"field\": \"Agency\", \"type\": \"nominal\"}, {\"field\": \"Funding Amount\", \"type\": \"quantitative\"}], \"x\": {\"axis\": {\"format\": \"$.2s\", \"title\": \"Obligated Funding ($2021)\"}, \"field\": \"Funding Amount\", \"type\": \"quantitative\"}, \"y\": {\"field\": \"Agency\", \"type\": \"nominal\"}}, \"$schema\": \"https://vega.github.io/schema/vega-lite/v4.17.0.json\", \"datasets\": {\"data-1204de64293f4b523c90e99527c432e3\": [{\"Agency\": \"Santa Ana\", \"Categories\": \"Total Requested\", \"Funding Amount\": 276280.20054023375}, {\"Agency\": \"Costa Mesa\", \"Categories\": \"Total Requested\", \"Funding Amount\": 260552.82704946492}, {\"Agency\": \"Anaheim\", \"Categories\": \"Total Requested\", \"Funding Amount\": 385982.5059065252}, {\"Agency\": \"Orange County\", \"Categories\": \"Total Requested\", \"Funding Amount\": 1177089.0225572572}, {\"Agency\": \"Orange\", \"Categories\": \"Total Requested\", \"Funding Amount\": 86760.56282760149}, {\"Agency\": \"Santa Ana\", \"Categories\": \"Fed Requested\", \"Funding Amount\": 239305.10566922007}, {\"Agency\": \"Costa Mesa\", \"Categories\": \"Fed Requested\", \"Funding Amount\": 132733.4739328976}, {\"Agency\": \"Anaheim\", \"Categories\": \"Fed Requested\", \"Funding Amount\": 266091.03821269533}, {\"Agency\": \"Orange County\", \"Categories\": \"Fed Requested\", \"Funding Amount\": 626870.7444002194}, {\"Agency\": \"Orange\", \"Categories\": \"Fed Requested\", \"Funding Amount\": 74292.3498342269}, {\"Agency\": \"Santa Ana\", \"Categories\": \"AC Requested\", \"Funding Amount\": 507.25459062706506}, {\"Agency\": \"Costa Mesa\", \"Categories\": \"AC Requested\", \"Funding Amount\": 0.0}, {\"Agency\": \"Anaheim\", \"Categories\": \"AC Requested\", \"Funding Amount\": 0.0}, {\"Agency\": \"Orange County\", \"Categories\": \"AC Requested\", \"Funding Amount\": 0.0}, {\"Agency\": \"Orange\", \"Categories\": \"AC Requested\", \"Funding Amount\": 1160.3551101285182}]}}, {\"mode\": \"vega-lite\"});\n",
       "</script>"
      ],
      "text/plain": [
       "alt.Chart(...)"
      ]
     },
     "metadata": {},
     "output_type": "display_data"
    },
    {
     "data": {
      "application/vnd.jupyter.widget-view+json": {
       "model_id": "d5bea14dfd1b46c29934e735b1e67fde",
       "version_major": 2,
       "version_minor": 0
      },
      "text/plain": [
       "HTML(value='<h3> Top Agencies using Transit Projects </h3>')"
      ]
     },
     "metadata": {},
     "output_type": "display_data"
    },
    {
     "data": {
      "text/html": [
       "<style type=\"text/css\">\n",
       "</style>\n",
       "<table id=\"T_3a90b\">\n",
       "  <thead>\n",
       "    <tr>\n",
       "      <th class=\"blank level0\" >&nbsp;</th>\n",
       "      <th id=\"T_3a90b_level0_col0\" class=\"col_heading level0 col0\" >Agency</th>\n",
       "      <th id=\"T_3a90b_level0_col1\" class=\"col_heading level0 col1\" >Transit Obligations</th>\n",
       "      <th id=\"T_3a90b_level0_col2\" class=\"col_heading level0 col2\" >Percent of Category</th>\n",
       "    </tr>\n",
       "  </thead>\n",
       "  <tbody>\n",
       "    <tr>\n",
       "      <th id=\"T_3a90b_level0_row0\" class=\"row_heading level0 row0\" >0</th>\n",
       "      <td id=\"T_3a90b_row0_col0\" class=\"data row0 col0\" >Santa Ana</td>\n",
       "      <td id=\"T_3a90b_row0_col1\" class=\"data row0 col1\" >1</td>\n",
       "      <td id=\"T_3a90b_row0_col2\" class=\"data row0 col2\" >100.00%</td>\n",
       "    </tr>\n",
       "  </tbody>\n",
       "</table>\n"
      ],
      "text/plain": [
       "<pandas.io.formats.style.Styler at 0x7fc510bd1d00>"
      ]
     },
     "metadata": {},
     "output_type": "display_data"
    },
    {
     "data": {
      "text/html": [
       "\n",
       "<div id=\"altair-viz-ab9bf7b0fcf848edbb31b9d3a21a5b51\"></div>\n",
       "<script type=\"text/javascript\">\n",
       "  var VEGA_DEBUG = (typeof VEGA_DEBUG == \"undefined\") ? {} : VEGA_DEBUG;\n",
       "  (function(spec, embedOpt){\n",
       "    let outputDiv = document.currentScript.previousElementSibling;\n",
       "    if (outputDiv.id !== \"altair-viz-ab9bf7b0fcf848edbb31b9d3a21a5b51\") {\n",
       "      outputDiv = document.getElementById(\"altair-viz-ab9bf7b0fcf848edbb31b9d3a21a5b51\");\n",
       "    }\n",
       "    const paths = {\n",
       "      \"vega\": \"https://cdn.jsdelivr.net/npm//vega@5?noext\",\n",
       "      \"vega-lib\": \"https://cdn.jsdelivr.net/npm//vega-lib?noext\",\n",
       "      \"vega-lite\": \"https://cdn.jsdelivr.net/npm//vega-lite@4.17.0?noext\",\n",
       "      \"vega-embed\": \"https://cdn.jsdelivr.net/npm//vega-embed@6?noext\",\n",
       "    };\n",
       "\n",
       "    function maybeLoadScript(lib, version) {\n",
       "      var key = `${lib.replace(\"-\", \"\")}_version`;\n",
       "      return (VEGA_DEBUG[key] == version) ?\n",
       "        Promise.resolve(paths[lib]) :\n",
       "        new Promise(function(resolve, reject) {\n",
       "          var s = document.createElement('script');\n",
       "          document.getElementsByTagName(\"head\")[0].appendChild(s);\n",
       "          s.async = true;\n",
       "          s.onload = () => {\n",
       "            VEGA_DEBUG[key] = version;\n",
       "            return resolve(paths[lib]);\n",
       "          };\n",
       "          s.onerror = () => reject(`Error loading script: ${paths[lib]}`);\n",
       "          s.src = paths[lib];\n",
       "        });\n",
       "    }\n",
       "\n",
       "    function showError(err) {\n",
       "      outputDiv.innerHTML = `<div class=\"error\" style=\"color:red;\">${err}</div>`;\n",
       "      throw err;\n",
       "    }\n",
       "\n",
       "    function displayChart(vegaEmbed) {\n",
       "      vegaEmbed(outputDiv, spec, embedOpt)\n",
       "        .catch(err => showError(`Javascript Error: ${err.message}<br>This usually means there's a typo in your chart specification. See the javascript console for the full traceback.`));\n",
       "    }\n",
       "\n",
       "    if(typeof define === \"function\" && define.amd) {\n",
       "      requirejs.config({paths});\n",
       "      require([\"vega-embed\"], displayChart, err => showError(`Error loading script: ${err.message}`));\n",
       "    } else {\n",
       "      maybeLoadScript(\"vega\", \"5\")\n",
       "        .then(() => maybeLoadScript(\"vega-lite\", \"4.17.0\"))\n",
       "        .then(() => maybeLoadScript(\"vega-embed\", \"6\"))\n",
       "        .catch(showError)\n",
       "        .then(() => displayChart(vegaEmbed));\n",
       "    }\n",
       "  })({\"config\": {\"view\": {\"continuousWidth\": 400, \"continuousHeight\": 300}}, \"data\": {\"name\": \"data-59ee6ba124d7e00100458fe12b870108\"}, \"mark\": \"bar\", \"encoding\": {\"color\": {\"field\": \"Categories\", \"scale\": {\"range\": [\"#2EA8CE\", \"#EB9F3C\", \"#F4D837\", \"#51BF9D\", \"#8CBCCB\", \"#9487C0\"]}, \"type\": \"nominal\"}, \"row\": {\"field\": \"Categories\", \"type\": \"nominal\"}, \"tooltip\": [{\"field\": \"Agency\", \"type\": \"nominal\"}, {\"field\": \"Funding Amount\", \"type\": \"quantitative\"}], \"x\": {\"axis\": {\"format\": \"$.2s\", \"title\": \"Obligated Funding ($2021)\"}, \"field\": \"Funding Amount\", \"type\": \"quantitative\"}, \"y\": {\"field\": \"Agency\", \"type\": \"nominal\"}}, \"$schema\": \"https://vega.github.io/schema/vega-lite/v4.17.0.json\", \"datasets\": {\"data-59ee6ba124d7e00100458fe12b870108\": [{\"Agency\": \"Santa Ana\", \"Categories\": \"Total Requested\", \"Funding Amount\": 2894932.1151953684}, {\"Agency\": \"Santa Ana\", \"Categories\": \"Fed Requested\", \"Funding Amount\": 2201564.6359225395}, {\"Agency\": \"Santa Ana\", \"Categories\": \"AC Requested\", \"Funding Amount\": 0.0}]}}, {\"mode\": \"vega-lite\"});\n",
       "</script>"
      ],
      "text/plain": [
       "alt.Chart(...)"
      ]
     },
     "metadata": {},
     "output_type": "display_data"
    },
    {
     "data": {
      "application/vnd.jupyter.widget-view+json": {
       "model_id": "ac4481089ced4f2d938e572a4c844712",
       "version_major": 2,
       "version_minor": 0
      },
      "text/plain": [
       "HTML(value='<h3> Top Agencies using Bridge Projects </h3>')"
      ]
     },
     "metadata": {},
     "output_type": "display_data"
    },
    {
     "data": {
      "text/html": [
       "<style type=\"text/css\">\n",
       "</style>\n",
       "<table id=\"T_ca3e5\">\n",
       "  <thead>\n",
       "    <tr>\n",
       "      <th class=\"blank level0\" >&nbsp;</th>\n",
       "      <th id=\"T_ca3e5_level0_col0\" class=\"col_heading level0 col0\" >Agency</th>\n",
       "      <th id=\"T_ca3e5_level0_col1\" class=\"col_heading level0 col1\" >Bridge Obligations</th>\n",
       "      <th id=\"T_ca3e5_level0_col2\" class=\"col_heading level0 col2\" >Percent of Category</th>\n",
       "    </tr>\n",
       "  </thead>\n",
       "  <tbody>\n",
       "    <tr>\n",
       "      <th id=\"T_ca3e5_level0_row0\" class=\"row_heading level0 row0\" >0</th>\n",
       "      <td id=\"T_ca3e5_row0_col0\" class=\"data row0 col0\" >Orange County</td>\n",
       "      <td id=\"T_ca3e5_row0_col1\" class=\"data row0 col1\" >14</td>\n",
       "      <td id=\"T_ca3e5_row0_col2\" class=\"data row0 col2\" >24.14%</td>\n",
       "    </tr>\n",
       "    <tr>\n",
       "      <th id=\"T_ca3e5_level0_row1\" class=\"row_heading level0 row1\" >1</th>\n",
       "      <td id=\"T_ca3e5_row1_col0\" class=\"data row1 col0\" >Huntington Beach</td>\n",
       "      <td id=\"T_ca3e5_row1_col1\" class=\"data row1 col1\" >10</td>\n",
       "      <td id=\"T_ca3e5_row1_col2\" class=\"data row1 col2\" >17.24%</td>\n",
       "    </tr>\n",
       "    <tr>\n",
       "      <th id=\"T_ca3e5_level0_row2\" class=\"row_heading level0 row2\" >2</th>\n",
       "      <td id=\"T_ca3e5_row2_col0\" class=\"data row2 col0\" >Santa Ana</td>\n",
       "      <td id=\"T_ca3e5_row2_col1\" class=\"data row2 col1\" >9</td>\n",
       "      <td id=\"T_ca3e5_row2_col2\" class=\"data row2 col2\" >15.52%</td>\n",
       "    </tr>\n",
       "    <tr>\n",
       "      <th id=\"T_ca3e5_level0_row3\" class=\"row_heading level0 row3\" >3</th>\n",
       "      <td id=\"T_ca3e5_row3_col0\" class=\"data row3 col0\" >Rancho Santa Margarita</td>\n",
       "      <td id=\"T_ca3e5_row3_col1\" class=\"data row3 col1\" >8</td>\n",
       "      <td id=\"T_ca3e5_row3_col2\" class=\"data row3 col2\" >13.79%</td>\n",
       "    </tr>\n",
       "    <tr>\n",
       "      <th id=\"T_ca3e5_level0_row4\" class=\"row_heading level0 row4\" >4</th>\n",
       "      <td id=\"T_ca3e5_row4_col0\" class=\"data row4 col0\" >Newport Beach</td>\n",
       "      <td id=\"T_ca3e5_row4_col1\" class=\"data row4 col1\" >4</td>\n",
       "      <td id=\"T_ca3e5_row4_col2\" class=\"data row4 col2\" >6.90%</td>\n",
       "    </tr>\n",
       "  </tbody>\n",
       "</table>\n"
      ],
      "text/plain": [
       "<pandas.io.formats.style.Styler at 0x7fc510bd1a30>"
      ]
     },
     "metadata": {},
     "output_type": "display_data"
    },
    {
     "data": {
      "text/html": [
       "\n",
       "<div id=\"altair-viz-b32f4cf4d5864878864c83149a1abda9\"></div>\n",
       "<script type=\"text/javascript\">\n",
       "  var VEGA_DEBUG = (typeof VEGA_DEBUG == \"undefined\") ? {} : VEGA_DEBUG;\n",
       "  (function(spec, embedOpt){\n",
       "    let outputDiv = document.currentScript.previousElementSibling;\n",
       "    if (outputDiv.id !== \"altair-viz-b32f4cf4d5864878864c83149a1abda9\") {\n",
       "      outputDiv = document.getElementById(\"altair-viz-b32f4cf4d5864878864c83149a1abda9\");\n",
       "    }\n",
       "    const paths = {\n",
       "      \"vega\": \"https://cdn.jsdelivr.net/npm//vega@5?noext\",\n",
       "      \"vega-lib\": \"https://cdn.jsdelivr.net/npm//vega-lib?noext\",\n",
       "      \"vega-lite\": \"https://cdn.jsdelivr.net/npm//vega-lite@4.17.0?noext\",\n",
       "      \"vega-embed\": \"https://cdn.jsdelivr.net/npm//vega-embed@6?noext\",\n",
       "    };\n",
       "\n",
       "    function maybeLoadScript(lib, version) {\n",
       "      var key = `${lib.replace(\"-\", \"\")}_version`;\n",
       "      return (VEGA_DEBUG[key] == version) ?\n",
       "        Promise.resolve(paths[lib]) :\n",
       "        new Promise(function(resolve, reject) {\n",
       "          var s = document.createElement('script');\n",
       "          document.getElementsByTagName(\"head\")[0].appendChild(s);\n",
       "          s.async = true;\n",
       "          s.onload = () => {\n",
       "            VEGA_DEBUG[key] = version;\n",
       "            return resolve(paths[lib]);\n",
       "          };\n",
       "          s.onerror = () => reject(`Error loading script: ${paths[lib]}`);\n",
       "          s.src = paths[lib];\n",
       "        });\n",
       "    }\n",
       "\n",
       "    function showError(err) {\n",
       "      outputDiv.innerHTML = `<div class=\"error\" style=\"color:red;\">${err}</div>`;\n",
       "      throw err;\n",
       "    }\n",
       "\n",
       "    function displayChart(vegaEmbed) {\n",
       "      vegaEmbed(outputDiv, spec, embedOpt)\n",
       "        .catch(err => showError(`Javascript Error: ${err.message}<br>This usually means there's a typo in your chart specification. See the javascript console for the full traceback.`));\n",
       "    }\n",
       "\n",
       "    if(typeof define === \"function\" && define.amd) {\n",
       "      requirejs.config({paths});\n",
       "      require([\"vega-embed\"], displayChart, err => showError(`Error loading script: ${err.message}`));\n",
       "    } else {\n",
       "      maybeLoadScript(\"vega\", \"5\")\n",
       "        .then(() => maybeLoadScript(\"vega-lite\", \"4.17.0\"))\n",
       "        .then(() => maybeLoadScript(\"vega-embed\", \"6\"))\n",
       "        .catch(showError)\n",
       "        .then(() => displayChart(vegaEmbed));\n",
       "    }\n",
       "  })({\"config\": {\"view\": {\"continuousWidth\": 400, \"continuousHeight\": 300}}, \"data\": {\"name\": \"data-d43ec73d041d4f034aebf7a12ab264f6\"}, \"mark\": \"bar\", \"encoding\": {\"color\": {\"field\": \"Categories\", \"scale\": {\"range\": [\"#2EA8CE\", \"#EB9F3C\", \"#F4D837\", \"#51BF9D\", \"#8CBCCB\", \"#9487C0\"]}, \"type\": \"nominal\"}, \"row\": {\"field\": \"Categories\", \"type\": \"nominal\"}, \"tooltip\": [{\"field\": \"Agency\", \"type\": \"nominal\"}, {\"field\": \"Funding Amount\", \"type\": \"quantitative\"}], \"x\": {\"axis\": {\"format\": \"$.2s\", \"title\": \"Obligated Funding ($2021)\"}, \"field\": \"Funding Amount\", \"type\": \"quantitative\"}, \"y\": {\"field\": \"Agency\", \"type\": \"nominal\"}}, \"$schema\": \"https://vega.github.io/schema/vega-lite/v4.17.0.json\", \"datasets\": {\"data-d43ec73d041d4f034aebf7a12ab264f6\": [{\"Agency\": \"Orange County\", \"Categories\": \"Total Requested\", \"Funding Amount\": 1880379.5362046862}, {\"Agency\": \"Huntington Beach\", \"Categories\": \"Total Requested\", \"Funding Amount\": 418363.86535572435}, {\"Agency\": \"Santa Ana\", \"Categories\": \"Total Requested\", \"Funding Amount\": -14075.784994812471}, {\"Agency\": \"Rancho Santa Margarita\", \"Categories\": \"Total Requested\", \"Funding Amount\": 613534.8767375075}, {\"Agency\": \"Newport Beach\", \"Categories\": \"Total Requested\", \"Funding Amount\": 2583496.66766644}, {\"Agency\": \"Orange County\", \"Categories\": \"Fed Requested\", \"Funding Amount\": 1380176.0311926806}, {\"Agency\": \"Huntington Beach\", \"Categories\": \"Fed Requested\", \"Funding Amount\": 357180.77917349385}, {\"Agency\": \"Santa Ana\", \"Categories\": \"Fed Requested\", \"Funding Amount\": -37560.98057218406}, {\"Agency\": \"Rancho Santa Margarita\", \"Categories\": \"Fed Requested\", \"Funding Amount\": 543161.9607487954}, {\"Agency\": \"Newport Beach\", \"Categories\": \"Fed Requested\", \"Funding Amount\": 2522231.4949943754}, {\"Agency\": \"Orange County\", \"Categories\": \"AC Requested\", \"Funding Amount\": 0.0}, {\"Agency\": \"Huntington Beach\", \"Categories\": \"AC Requested\", \"Funding Amount\": 0.0}, {\"Agency\": \"Santa Ana\", \"Categories\": \"AC Requested\", \"Funding Amount\": 0.0}, {\"Agency\": \"Rancho Santa Margarita\", \"Categories\": \"AC Requested\", \"Funding Amount\": 0.0}, {\"Agency\": \"Newport Beach\", \"Categories\": \"AC Requested\", \"Funding Amount\": 0.0}]}}, {\"mode\": \"vega-lite\"});\n",
       "</script>"
      ],
      "text/plain": [
       "alt.Chart(...)"
      ]
     },
     "metadata": {},
     "output_type": "display_data"
    },
    {
     "data": {
      "application/vnd.jupyter.widget-view+json": {
       "model_id": "7fc52aa484a8424ca92dda028ae4e797",
       "version_major": 2,
       "version_minor": 0
      },
      "text/plain": [
       "HTML(value='<h3> Top Agencies using Street Projects </h3>')"
      ]
     },
     "metadata": {},
     "output_type": "display_data"
    },
    {
     "data": {
      "text/html": [
       "<style type=\"text/css\">\n",
       "</style>\n",
       "<table id=\"T_78867\">\n",
       "  <thead>\n",
       "    <tr>\n",
       "      <th class=\"blank level0\" >&nbsp;</th>\n",
       "      <th id=\"T_78867_level0_col0\" class=\"col_heading level0 col0\" >Agency</th>\n",
       "      <th id=\"T_78867_level0_col1\" class=\"col_heading level0 col1\" >Street Obligations</th>\n",
       "      <th id=\"T_78867_level0_col2\" class=\"col_heading level0 col2\" >Percent of Category</th>\n",
       "    </tr>\n",
       "  </thead>\n",
       "  <tbody>\n",
       "    <tr>\n",
       "      <th id=\"T_78867_level0_row0\" class=\"row_heading level0 row0\" >0</th>\n",
       "      <td id=\"T_78867_row0_col0\" class=\"data row0 col0\" >Huntington Beach</td>\n",
       "      <td id=\"T_78867_row0_col1\" class=\"data row0 col1\" >49</td>\n",
       "      <td id=\"T_78867_row0_col2\" class=\"data row0 col2\" >13.73%</td>\n",
       "    </tr>\n",
       "    <tr>\n",
       "      <th id=\"T_78867_level0_row1\" class=\"row_heading level0 row1\" >1</th>\n",
       "      <td id=\"T_78867_row1_col0\" class=\"data row1 col0\" >Orange</td>\n",
       "      <td id=\"T_78867_row1_col1\" class=\"data row1 col1\" >49</td>\n",
       "      <td id=\"T_78867_row1_col2\" class=\"data row1 col2\" >13.73%</td>\n",
       "    </tr>\n",
       "    <tr>\n",
       "      <th id=\"T_78867_level0_row2\" class=\"row_heading level0 row2\" >2</th>\n",
       "      <td id=\"T_78867_row2_col0\" class=\"data row2 col0\" >Santa Ana</td>\n",
       "      <td id=\"T_78867_row2_col1\" class=\"data row2 col1\" >47</td>\n",
       "      <td id=\"T_78867_row2_col2\" class=\"data row2 col2\" >13.17%</td>\n",
       "    </tr>\n",
       "    <tr>\n",
       "      <th id=\"T_78867_level0_row3\" class=\"row_heading level0 row3\" >3</th>\n",
       "      <td id=\"T_78867_row3_col0\" class=\"data row3 col0\" >Costa Mesa</td>\n",
       "      <td id=\"T_78867_row3_col1\" class=\"data row3 col1\" >32</td>\n",
       "      <td id=\"T_78867_row3_col2\" class=\"data row3 col2\" >8.96%</td>\n",
       "    </tr>\n",
       "    <tr>\n",
       "      <th id=\"T_78867_level0_row4\" class=\"row_heading level0 row4\" >4</th>\n",
       "      <td id=\"T_78867_row4_col0\" class=\"data row4 col0\" >Anaheim</td>\n",
       "      <td id=\"T_78867_row4_col1\" class=\"data row4 col1\" >27</td>\n",
       "      <td id=\"T_78867_row4_col2\" class=\"data row4 col2\" >7.56%</td>\n",
       "    </tr>\n",
       "  </tbody>\n",
       "</table>\n"
      ],
      "text/plain": [
       "<pandas.io.formats.style.Styler at 0x7fc510becc70>"
      ]
     },
     "metadata": {},
     "output_type": "display_data"
    },
    {
     "data": {
      "text/html": [
       "\n",
       "<div id=\"altair-viz-7fead4bcfdb3420788b10ce33e676077\"></div>\n",
       "<script type=\"text/javascript\">\n",
       "  var VEGA_DEBUG = (typeof VEGA_DEBUG == \"undefined\") ? {} : VEGA_DEBUG;\n",
       "  (function(spec, embedOpt){\n",
       "    let outputDiv = document.currentScript.previousElementSibling;\n",
       "    if (outputDiv.id !== \"altair-viz-7fead4bcfdb3420788b10ce33e676077\") {\n",
       "      outputDiv = document.getElementById(\"altair-viz-7fead4bcfdb3420788b10ce33e676077\");\n",
       "    }\n",
       "    const paths = {\n",
       "      \"vega\": \"https://cdn.jsdelivr.net/npm//vega@5?noext\",\n",
       "      \"vega-lib\": \"https://cdn.jsdelivr.net/npm//vega-lib?noext\",\n",
       "      \"vega-lite\": \"https://cdn.jsdelivr.net/npm//vega-lite@4.17.0?noext\",\n",
       "      \"vega-embed\": \"https://cdn.jsdelivr.net/npm//vega-embed@6?noext\",\n",
       "    };\n",
       "\n",
       "    function maybeLoadScript(lib, version) {\n",
       "      var key = `${lib.replace(\"-\", \"\")}_version`;\n",
       "      return (VEGA_DEBUG[key] == version) ?\n",
       "        Promise.resolve(paths[lib]) :\n",
       "        new Promise(function(resolve, reject) {\n",
       "          var s = document.createElement('script');\n",
       "          document.getElementsByTagName(\"head\")[0].appendChild(s);\n",
       "          s.async = true;\n",
       "          s.onload = () => {\n",
       "            VEGA_DEBUG[key] = version;\n",
       "            return resolve(paths[lib]);\n",
       "          };\n",
       "          s.onerror = () => reject(`Error loading script: ${paths[lib]}`);\n",
       "          s.src = paths[lib];\n",
       "        });\n",
       "    }\n",
       "\n",
       "    function showError(err) {\n",
       "      outputDiv.innerHTML = `<div class=\"error\" style=\"color:red;\">${err}</div>`;\n",
       "      throw err;\n",
       "    }\n",
       "\n",
       "    function displayChart(vegaEmbed) {\n",
       "      vegaEmbed(outputDiv, spec, embedOpt)\n",
       "        .catch(err => showError(`Javascript Error: ${err.message}<br>This usually means there's a typo in your chart specification. See the javascript console for the full traceback.`));\n",
       "    }\n",
       "\n",
       "    if(typeof define === \"function\" && define.amd) {\n",
       "      requirejs.config({paths});\n",
       "      require([\"vega-embed\"], displayChart, err => showError(`Error loading script: ${err.message}`));\n",
       "    } else {\n",
       "      maybeLoadScript(\"vega\", \"5\")\n",
       "        .then(() => maybeLoadScript(\"vega-lite\", \"4.17.0\"))\n",
       "        .then(() => maybeLoadScript(\"vega-embed\", \"6\"))\n",
       "        .catch(showError)\n",
       "        .then(() => displayChart(vegaEmbed));\n",
       "    }\n",
       "  })({\"config\": {\"view\": {\"continuousWidth\": 400, \"continuousHeight\": 300}}, \"data\": {\"name\": \"data-99bd581bbe213f7bf633b6c67acd5702\"}, \"mark\": \"bar\", \"encoding\": {\"color\": {\"field\": \"Categories\", \"scale\": {\"range\": [\"#2EA8CE\", \"#EB9F3C\", \"#F4D837\", \"#51BF9D\", \"#8CBCCB\", \"#9487C0\"]}, \"type\": \"nominal\"}, \"row\": {\"field\": \"Categories\", \"type\": \"nominal\"}, \"tooltip\": [{\"field\": \"Agency\", \"type\": \"nominal\"}, {\"field\": \"Funding Amount\", \"type\": \"quantitative\"}], \"x\": {\"axis\": {\"format\": \"$.2s\", \"title\": \"Obligated Funding ($2021)\"}, \"field\": \"Funding Amount\", \"type\": \"quantitative\"}, \"y\": {\"field\": \"Agency\", \"type\": \"nominal\"}}, \"$schema\": \"https://vega.github.io/schema/vega-lite/v4.17.0.json\", \"datasets\": {\"data-99bd581bbe213f7bf633b6c67acd5702\": [{\"Agency\": \"Huntington Beach\", \"Categories\": \"Total Requested\", \"Funding Amount\": 237708.39482632055}, {\"Agency\": \"Orange\", \"Categories\": \"Total Requested\", \"Funding Amount\": 137422.5750118382}, {\"Agency\": \"Santa Ana\", \"Categories\": \"Total Requested\", \"Funding Amount\": 727606.4043482861}, {\"Agency\": \"Costa Mesa\", \"Categories\": \"Total Requested\", \"Funding Amount\": 346216.64036073146}, {\"Agency\": \"Anaheim\", \"Categories\": \"Total Requested\", \"Funding Amount\": 552494.7035975001}, {\"Agency\": \"Huntington Beach\", \"Categories\": \"Fed Requested\", \"Funding Amount\": 134199.09217204445}, {\"Agency\": \"Orange\", \"Categories\": \"Fed Requested\", \"Funding Amount\": 93904.2144125525}, {\"Agency\": \"Santa Ana\", \"Categories\": \"Fed Requested\", \"Funding Amount\": 295291.7734695049}, {\"Agency\": \"Costa Mesa\", \"Categories\": \"Fed Requested\", \"Funding Amount\": 202208.95191135025}, {\"Agency\": \"Anaheim\", \"Categories\": \"Fed Requested\", \"Funding Amount\": 269384.7114847224}, {\"Agency\": \"Huntington Beach\", \"Categories\": \"AC Requested\", \"Funding Amount\": 0.0}, {\"Agency\": \"Orange\", \"Categories\": \"AC Requested\", \"Funding Amount\": 0.0}, {\"Agency\": \"Santa Ana\", \"Categories\": \"AC Requested\", \"Funding Amount\": -20828.211319901846}, {\"Agency\": \"Costa Mesa\", \"Categories\": \"AC Requested\", \"Funding Amount\": -35768.98738290274}, {\"Agency\": \"Anaheim\", \"Categories\": \"AC Requested\", \"Funding Amount\": 0.0}]}}, {\"mode\": \"vega-lite\"});\n",
       "</script>"
      ],
      "text/plain": [
       "alt.Chart(...)"
      ]
     },
     "metadata": {},
     "output_type": "display_data"
    },
    {
     "data": {
      "application/vnd.jupyter.widget-view+json": {
       "model_id": "8c510b510b6244e99360aec9e75e15af",
       "version_major": 2,
       "version_minor": 0
      },
      "text/plain": [
       "HTML(value='<h3> Top Agencies using Freeway Projects </h3>')"
      ]
     },
     "metadata": {},
     "output_type": "display_data"
    },
    {
     "data": {
      "text/html": [
       "<style type=\"text/css\">\n",
       "</style>\n",
       "<table id=\"T_d95cf\">\n",
       "  <thead>\n",
       "    <tr>\n",
       "      <th class=\"blank level0\" >&nbsp;</th>\n",
       "      <th id=\"T_d95cf_level0_col0\" class=\"col_heading level0 col0\" >Agency</th>\n",
       "      <th id=\"T_d95cf_level0_col1\" class=\"col_heading level0 col1\" >Freeway Obligations</th>\n",
       "      <th id=\"T_d95cf_level0_col2\" class=\"col_heading level0 col2\" >Percent of Category</th>\n",
       "    </tr>\n",
       "  </thead>\n",
       "  <tbody>\n",
       "    <tr>\n",
       "      <th id=\"T_d95cf_level0_row0\" class=\"row_heading level0 row0\" >0</th>\n",
       "      <td id=\"T_d95cf_row0_col0\" class=\"data row0 col0\" >Orange County Transportation Authority</td>\n",
       "      <td id=\"T_d95cf_row0_col1\" class=\"data row0 col1\" >14</td>\n",
       "      <td id=\"T_d95cf_row0_col2\" class=\"data row0 col2\" >60.87%</td>\n",
       "    </tr>\n",
       "    <tr>\n",
       "      <th id=\"T_d95cf_level0_row1\" class=\"row_heading level0 row1\" >1</th>\n",
       "      <td id=\"T_d95cf_row1_col0\" class=\"data row1 col0\" >Caltrans</td>\n",
       "      <td id=\"T_d95cf_row1_col1\" class=\"data row1 col1\" >9</td>\n",
       "      <td id=\"T_d95cf_row1_col2\" class=\"data row1 col2\" >39.13%</td>\n",
       "    </tr>\n",
       "  </tbody>\n",
       "</table>\n"
      ],
      "text/plain": [
       "<pandas.io.formats.style.Styler at 0x7fc510bf04f0>"
      ]
     },
     "metadata": {},
     "output_type": "display_data"
    },
    {
     "data": {
      "text/html": [
       "\n",
       "<div id=\"altair-viz-68908a18accc4b2097ee47dd5e708f1f\"></div>\n",
       "<script type=\"text/javascript\">\n",
       "  var VEGA_DEBUG = (typeof VEGA_DEBUG == \"undefined\") ? {} : VEGA_DEBUG;\n",
       "  (function(spec, embedOpt){\n",
       "    let outputDiv = document.currentScript.previousElementSibling;\n",
       "    if (outputDiv.id !== \"altair-viz-68908a18accc4b2097ee47dd5e708f1f\") {\n",
       "      outputDiv = document.getElementById(\"altair-viz-68908a18accc4b2097ee47dd5e708f1f\");\n",
       "    }\n",
       "    const paths = {\n",
       "      \"vega\": \"https://cdn.jsdelivr.net/npm//vega@5?noext\",\n",
       "      \"vega-lib\": \"https://cdn.jsdelivr.net/npm//vega-lib?noext\",\n",
       "      \"vega-lite\": \"https://cdn.jsdelivr.net/npm//vega-lite@4.17.0?noext\",\n",
       "      \"vega-embed\": \"https://cdn.jsdelivr.net/npm//vega-embed@6?noext\",\n",
       "    };\n",
       "\n",
       "    function maybeLoadScript(lib, version) {\n",
       "      var key = `${lib.replace(\"-\", \"\")}_version`;\n",
       "      return (VEGA_DEBUG[key] == version) ?\n",
       "        Promise.resolve(paths[lib]) :\n",
       "        new Promise(function(resolve, reject) {\n",
       "          var s = document.createElement('script');\n",
       "          document.getElementsByTagName(\"head\")[0].appendChild(s);\n",
       "          s.async = true;\n",
       "          s.onload = () => {\n",
       "            VEGA_DEBUG[key] = version;\n",
       "            return resolve(paths[lib]);\n",
       "          };\n",
       "          s.onerror = () => reject(`Error loading script: ${paths[lib]}`);\n",
       "          s.src = paths[lib];\n",
       "        });\n",
       "    }\n",
       "\n",
       "    function showError(err) {\n",
       "      outputDiv.innerHTML = `<div class=\"error\" style=\"color:red;\">${err}</div>`;\n",
       "      throw err;\n",
       "    }\n",
       "\n",
       "    function displayChart(vegaEmbed) {\n",
       "      vegaEmbed(outputDiv, spec, embedOpt)\n",
       "        .catch(err => showError(`Javascript Error: ${err.message}<br>This usually means there's a typo in your chart specification. See the javascript console for the full traceback.`));\n",
       "    }\n",
       "\n",
       "    if(typeof define === \"function\" && define.amd) {\n",
       "      requirejs.config({paths});\n",
       "      require([\"vega-embed\"], displayChart, err => showError(`Error loading script: ${err.message}`));\n",
       "    } else {\n",
       "      maybeLoadScript(\"vega\", \"5\")\n",
       "        .then(() => maybeLoadScript(\"vega-lite\", \"4.17.0\"))\n",
       "        .then(() => maybeLoadScript(\"vega-embed\", \"6\"))\n",
       "        .catch(showError)\n",
       "        .then(() => displayChart(vegaEmbed));\n",
       "    }\n",
       "  })({\"config\": {\"view\": {\"continuousWidth\": 400, \"continuousHeight\": 300}}, \"data\": {\"name\": \"data-f8edfd5d3572460a7cb4e953071caf9e\"}, \"mark\": \"bar\", \"encoding\": {\"color\": {\"field\": \"Categories\", \"scale\": {\"range\": [\"#2EA8CE\", \"#EB9F3C\", \"#F4D837\", \"#51BF9D\", \"#8CBCCB\", \"#9487C0\"]}, \"type\": \"nominal\"}, \"row\": {\"field\": \"Categories\", \"type\": \"nominal\"}, \"tooltip\": [{\"field\": \"Agency\", \"type\": \"nominal\"}, {\"field\": \"Funding Amount\", \"type\": \"quantitative\"}], \"x\": {\"axis\": {\"format\": \"$.2s\", \"title\": \"Obligated Funding ($2021)\"}, \"field\": \"Funding Amount\", \"type\": \"quantitative\"}, \"y\": {\"field\": \"Agency\", \"type\": \"nominal\"}}, \"$schema\": \"https://vega.github.io/schema/vega-lite/v4.17.0.json\", \"datasets\": {\"data-f8edfd5d3572460a7cb4e953071caf9e\": [{\"Agency\": \"Orange County Transportation Authority\", \"Categories\": \"Total Requested\", \"Funding Amount\": -15203685.128665438}, {\"Agency\": \"Caltrans\", \"Categories\": \"Total Requested\", \"Funding Amount\": -2509283.8690939085}, {\"Agency\": \"Orange County Transportation Authority\", \"Categories\": \"Fed Requested\", \"Funding Amount\": 21944394.24301589}, {\"Agency\": \"Caltrans\", \"Categories\": \"Fed Requested\", \"Funding Amount\": 199998.40050823233}, {\"Agency\": \"Orange County Transportation Authority\", \"Categories\": \"AC Requested\", \"Funding Amount\": 0.0}, {\"Agency\": \"Caltrans\", \"Categories\": \"AC Requested\", \"Funding Amount\": 0.0}]}}, {\"mode\": \"vega-lite\"});\n",
       "</script>"
      ],
      "text/plain": [
       "alt.Chart(...)"
      ]
     },
     "metadata": {},
     "output_type": "display_data"
    },
    {
     "data": {
      "application/vnd.jupyter.widget-view+json": {
       "model_id": "0e3ffd74176a4be7988b0fb8570c415f",
       "version_major": 2,
       "version_minor": 0
      },
      "text/plain": [
       "HTML(value='<h3> Top Agencies using Infrastructure & Emergency Relief Projects </h3>')"
      ]
     },
     "metadata": {},
     "output_type": "display_data"
    },
    {
     "data": {
      "text/html": [
       "<style type=\"text/css\">\n",
       "</style>\n",
       "<table id=\"T_2e20d\">\n",
       "  <thead>\n",
       "    <tr>\n",
       "      <th class=\"blank level0\" >&nbsp;</th>\n",
       "      <th id=\"T_2e20d_level0_col0\" class=\"col_heading level0 col0\" >Agency</th>\n",
       "      <th id=\"T_2e20d_level0_col1\" class=\"col_heading level0 col1\" >Infrastructure & Emergency Relief Obligations</th>\n",
       "      <th id=\"T_2e20d_level0_col2\" class=\"col_heading level0 col2\" >Percent of Category</th>\n",
       "    </tr>\n",
       "  </thead>\n",
       "  <tbody>\n",
       "    <tr>\n",
       "      <th id=\"T_2e20d_level0_row0\" class=\"row_heading level0 row0\" >0</th>\n",
       "      <td id=\"T_2e20d_row0_col0\" class=\"data row0 col0\" >Orange County Transportation Authority</td>\n",
       "      <td id=\"T_2e20d_row0_col1\" class=\"data row0 col1\" >48</td>\n",
       "      <td id=\"T_2e20d_row0_col2\" class=\"data row0 col2\" >16.11%</td>\n",
       "    </tr>\n",
       "    <tr>\n",
       "      <th id=\"T_2e20d_level0_row1\" class=\"row_heading level0 row1\" >1</th>\n",
       "      <td id=\"T_2e20d_row1_col0\" class=\"data row1 col0\" >Huntington Beach</td>\n",
       "      <td id=\"T_2e20d_row1_col1\" class=\"data row1 col1\" >31</td>\n",
       "      <td id=\"T_2e20d_row1_col2\" class=\"data row1 col2\" >10.40%</td>\n",
       "    </tr>\n",
       "    <tr>\n",
       "      <th id=\"T_2e20d_level0_row2\" class=\"row_heading level0 row2\" >2</th>\n",
       "      <td id=\"T_2e20d_row2_col0\" class=\"data row2 col0\" >Orange County</td>\n",
       "      <td id=\"T_2e20d_row2_col1\" class=\"data row2 col1\" >28</td>\n",
       "      <td id=\"T_2e20d_row2_col2\" class=\"data row2 col2\" >9.40%</td>\n",
       "    </tr>\n",
       "    <tr>\n",
       "      <th id=\"T_2e20d_level0_row3\" class=\"row_heading level0 row3\" >3</th>\n",
       "      <td id=\"T_2e20d_row3_col0\" class=\"data row3 col0\" >Santa Ana</td>\n",
       "      <td id=\"T_2e20d_row3_col1\" class=\"data row3 col1\" >21</td>\n",
       "      <td id=\"T_2e20d_row3_col2\" class=\"data row3 col2\" >7.05%</td>\n",
       "    </tr>\n",
       "    <tr>\n",
       "      <th id=\"T_2e20d_level0_row4\" class=\"row_heading level0 row4\" >4</th>\n",
       "      <td id=\"T_2e20d_row4_col0\" class=\"data row4 col0\" >Anaheim</td>\n",
       "      <td id=\"T_2e20d_row4_col1\" class=\"data row4 col1\" >19</td>\n",
       "      <td id=\"T_2e20d_row4_col2\" class=\"data row4 col2\" >6.38%</td>\n",
       "    </tr>\n",
       "  </tbody>\n",
       "</table>\n"
      ],
      "text/plain": [
       "<pandas.io.formats.style.Styler at 0x7fc510bd12e0>"
      ]
     },
     "metadata": {},
     "output_type": "display_data"
    },
    {
     "data": {
      "text/html": [
       "\n",
       "<div id=\"altair-viz-42db8fef022e46e784b87900636319f1\"></div>\n",
       "<script type=\"text/javascript\">\n",
       "  var VEGA_DEBUG = (typeof VEGA_DEBUG == \"undefined\") ? {} : VEGA_DEBUG;\n",
       "  (function(spec, embedOpt){\n",
       "    let outputDiv = document.currentScript.previousElementSibling;\n",
       "    if (outputDiv.id !== \"altair-viz-42db8fef022e46e784b87900636319f1\") {\n",
       "      outputDiv = document.getElementById(\"altair-viz-42db8fef022e46e784b87900636319f1\");\n",
       "    }\n",
       "    const paths = {\n",
       "      \"vega\": \"https://cdn.jsdelivr.net/npm//vega@5?noext\",\n",
       "      \"vega-lib\": \"https://cdn.jsdelivr.net/npm//vega-lib?noext\",\n",
       "      \"vega-lite\": \"https://cdn.jsdelivr.net/npm//vega-lite@4.17.0?noext\",\n",
       "      \"vega-embed\": \"https://cdn.jsdelivr.net/npm//vega-embed@6?noext\",\n",
       "    };\n",
       "\n",
       "    function maybeLoadScript(lib, version) {\n",
       "      var key = `${lib.replace(\"-\", \"\")}_version`;\n",
       "      return (VEGA_DEBUG[key] == version) ?\n",
       "        Promise.resolve(paths[lib]) :\n",
       "        new Promise(function(resolve, reject) {\n",
       "          var s = document.createElement('script');\n",
       "          document.getElementsByTagName(\"head\")[0].appendChild(s);\n",
       "          s.async = true;\n",
       "          s.onload = () => {\n",
       "            VEGA_DEBUG[key] = version;\n",
       "            return resolve(paths[lib]);\n",
       "          };\n",
       "          s.onerror = () => reject(`Error loading script: ${paths[lib]}`);\n",
       "          s.src = paths[lib];\n",
       "        });\n",
       "    }\n",
       "\n",
       "    function showError(err) {\n",
       "      outputDiv.innerHTML = `<div class=\"error\" style=\"color:red;\">${err}</div>`;\n",
       "      throw err;\n",
       "    }\n",
       "\n",
       "    function displayChart(vegaEmbed) {\n",
       "      vegaEmbed(outputDiv, spec, embedOpt)\n",
       "        .catch(err => showError(`Javascript Error: ${err.message}<br>This usually means there's a typo in your chart specification. See the javascript console for the full traceback.`));\n",
       "    }\n",
       "\n",
       "    if(typeof define === \"function\" && define.amd) {\n",
       "      requirejs.config({paths});\n",
       "      require([\"vega-embed\"], displayChart, err => showError(`Error loading script: ${err.message}`));\n",
       "    } else {\n",
       "      maybeLoadScript(\"vega\", \"5\")\n",
       "        .then(() => maybeLoadScript(\"vega-lite\", \"4.17.0\"))\n",
       "        .then(() => maybeLoadScript(\"vega-embed\", \"6\"))\n",
       "        .catch(showError)\n",
       "        .then(() => displayChart(vegaEmbed));\n",
       "    }\n",
       "  })({\"config\": {\"view\": {\"continuousWidth\": 400, \"continuousHeight\": 300}}, \"data\": {\"name\": \"data-bedd6c2d46f45dabdfcbc9f7779ad211\"}, \"mark\": \"bar\", \"encoding\": {\"color\": {\"field\": \"Categories\", \"scale\": {\"range\": [\"#2EA8CE\", \"#EB9F3C\", \"#F4D837\", \"#51BF9D\", \"#8CBCCB\", \"#9487C0\"]}, \"type\": \"nominal\"}, \"row\": {\"field\": \"Categories\", \"type\": \"nominal\"}, \"tooltip\": [{\"field\": \"Agency\", \"type\": \"nominal\"}, {\"field\": \"Funding Amount\", \"type\": \"quantitative\"}], \"x\": {\"axis\": {\"format\": \"$.2s\", \"title\": \"Obligated Funding ($2021)\"}, \"field\": \"Funding Amount\", \"type\": \"quantitative\"}, \"y\": {\"field\": \"Agency\", \"type\": \"nominal\"}}, \"$schema\": \"https://vega.github.io/schema/vega-lite/v4.17.0.json\", \"datasets\": {\"data-bedd6c2d46f45dabdfcbc9f7779ad211\": [{\"Agency\": \"Orange County Transportation Authority\", \"Categories\": \"Total Requested\", \"Funding Amount\": 10424712.322328975}, {\"Agency\": \"Huntington Beach\", \"Categories\": \"Total Requested\", \"Funding Amount\": 200050.5769504644}, {\"Agency\": \"Orange County\", \"Categories\": \"Total Requested\", \"Funding Amount\": 1152810.1638206446}, {\"Agency\": \"Santa Ana\", \"Categories\": \"Total Requested\", \"Funding Amount\": 512207.60010914505}, {\"Agency\": \"Anaheim\", \"Categories\": \"Total Requested\", \"Funding Amount\": 685166.9431767105}, {\"Agency\": \"Orange County Transportation Authority\", \"Categories\": \"Fed Requested\", \"Funding Amount\": 27033668.486855153}, {\"Agency\": \"Huntington Beach\", \"Categories\": \"Fed Requested\", \"Funding Amount\": 118630.55026649316}, {\"Agency\": \"Orange County\", \"Categories\": \"Fed Requested\", \"Funding Amount\": 837232.7323631557}, {\"Agency\": \"Santa Ana\", \"Categories\": \"Fed Requested\", \"Funding Amount\": 301475.21071313164}, {\"Agency\": \"Anaheim\", \"Categories\": \"Fed Requested\", \"Funding Amount\": 304178.64679201465}, {\"Agency\": \"Orange County Transportation Authority\", \"Categories\": \"AC Requested\", \"Funding Amount\": 148510.04126775218}, {\"Agency\": \"Huntington Beach\", \"Categories\": \"AC Requested\", \"Funding Amount\": 0.0}, {\"Agency\": \"Orange County\", \"Categories\": \"AC Requested\", \"Funding Amount\": 0.0}, {\"Agency\": \"Santa Ana\", \"Categories\": \"AC Requested\", \"Funding Amount\": -46615.52057311366}, {\"Agency\": \"Anaheim\", \"Categories\": \"AC Requested\", \"Funding Amount\": 0.0}]}}, {\"mode\": \"vega-lite\"});\n",
       "</script>"
      ],
      "text/plain": [
       "alt.Chart(...)"
      ]
     },
     "metadata": {},
     "output_type": "display_data"
    },
    {
     "data": {
      "application/vnd.jupyter.widget-view+json": {
       "model_id": "493a81e0c8e2423db7ec5a416e18cf8d",
       "version_major": 2,
       "version_minor": 0
      },
      "text/plain": [
       "HTML(value='<h3> Top Agencies using Congestion Relief Projects </h3>')"
      ]
     },
     "metadata": {},
     "output_type": "display_data"
    },
    {
     "data": {
      "text/html": [
       "<style type=\"text/css\">\n",
       "</style>\n",
       "<table id=\"T_420f3\">\n",
       "  <thead>\n",
       "    <tr>\n",
       "      <th class=\"blank level0\" >&nbsp;</th>\n",
       "      <th id=\"T_420f3_level0_col0\" class=\"col_heading level0 col0\" >Agency</th>\n",
       "      <th id=\"T_420f3_level0_col1\" class=\"col_heading level0 col1\" >Congestion Relief Obligations</th>\n",
       "      <th id=\"T_420f3_level0_col2\" class=\"col_heading level0 col2\" >Percent of Category</th>\n",
       "    </tr>\n",
       "  </thead>\n",
       "  <tbody>\n",
       "  </tbody>\n",
       "</table>\n"
      ],
      "text/plain": [
       "<pandas.io.formats.style.Styler at 0x7fc510b990a0>"
      ]
     },
     "metadata": {},
     "output_type": "display_data"
    },
    {
     "name": "stderr",
     "output_type": "stream",
     "text": [
      "/opt/conda/lib/python3.9/site-packages/altair/utils/core.py:219: UserWarning: I don't know how to infer vegalite type from 'empty'.  Defaulting to nominal.\n"
     ]
    },
    {
     "data": {
      "text/html": [
       "\n",
       "<div id=\"altair-viz-69ffda50bc9749b38f170921d497ffc0\"></div>\n",
       "<script type=\"text/javascript\">\n",
       "  var VEGA_DEBUG = (typeof VEGA_DEBUG == \"undefined\") ? {} : VEGA_DEBUG;\n",
       "  (function(spec, embedOpt){\n",
       "    let outputDiv = document.currentScript.previousElementSibling;\n",
       "    if (outputDiv.id !== \"altair-viz-69ffda50bc9749b38f170921d497ffc0\") {\n",
       "      outputDiv = document.getElementById(\"altair-viz-69ffda50bc9749b38f170921d497ffc0\");\n",
       "    }\n",
       "    const paths = {\n",
       "      \"vega\": \"https://cdn.jsdelivr.net/npm//vega@5?noext\",\n",
       "      \"vega-lib\": \"https://cdn.jsdelivr.net/npm//vega-lib?noext\",\n",
       "      \"vega-lite\": \"https://cdn.jsdelivr.net/npm//vega-lite@4.17.0?noext\",\n",
       "      \"vega-embed\": \"https://cdn.jsdelivr.net/npm//vega-embed@6?noext\",\n",
       "    };\n",
       "\n",
       "    function maybeLoadScript(lib, version) {\n",
       "      var key = `${lib.replace(\"-\", \"\")}_version`;\n",
       "      return (VEGA_DEBUG[key] == version) ?\n",
       "        Promise.resolve(paths[lib]) :\n",
       "        new Promise(function(resolve, reject) {\n",
       "          var s = document.createElement('script');\n",
       "          document.getElementsByTagName(\"head\")[0].appendChild(s);\n",
       "          s.async = true;\n",
       "          s.onload = () => {\n",
       "            VEGA_DEBUG[key] = version;\n",
       "            return resolve(paths[lib]);\n",
       "          };\n",
       "          s.onerror = () => reject(`Error loading script: ${paths[lib]}`);\n",
       "          s.src = paths[lib];\n",
       "        });\n",
       "    }\n",
       "\n",
       "    function showError(err) {\n",
       "      outputDiv.innerHTML = `<div class=\"error\" style=\"color:red;\">${err}</div>`;\n",
       "      throw err;\n",
       "    }\n",
       "\n",
       "    function displayChart(vegaEmbed) {\n",
       "      vegaEmbed(outputDiv, spec, embedOpt)\n",
       "        .catch(err => showError(`Javascript Error: ${err.message}<br>This usually means there's a typo in your chart specification. See the javascript console for the full traceback.`));\n",
       "    }\n",
       "\n",
       "    if(typeof define === \"function\" && define.amd) {\n",
       "      requirejs.config({paths});\n",
       "      require([\"vega-embed\"], displayChart, err => showError(`Error loading script: ${err.message}`));\n",
       "    } else {\n",
       "      maybeLoadScript(\"vega\", \"5\")\n",
       "        .then(() => maybeLoadScript(\"vega-lite\", \"4.17.0\"))\n",
       "        .then(() => maybeLoadScript(\"vega-embed\", \"6\"))\n",
       "        .catch(showError)\n",
       "        .then(() => displayChart(vegaEmbed));\n",
       "    }\n",
       "  })({\"config\": {\"view\": {\"continuousWidth\": 400, \"continuousHeight\": 300}}, \"data\": {\"name\": \"data-d751713988987e9331980363e24189ce\"}, \"mark\": \"bar\", \"encoding\": {\"color\": {\"field\": \"Categories\", \"scale\": {\"range\": [\"#2EA8CE\", \"#EB9F3C\", \"#F4D837\", \"#51BF9D\", \"#8CBCCB\", \"#9487C0\"]}, \"type\": \"nominal\"}, \"row\": {\"field\": \"Categories\", \"type\": \"nominal\"}, \"tooltip\": [{\"field\": \"Agency\", \"type\": \"nominal\"}, {\"field\": \"Funding Amount\", \"type\": \"quantitative\"}], \"x\": {\"axis\": {\"format\": \"$.2s\", \"title\": \"Obligated Funding ($2021)\"}, \"field\": \"Funding Amount\", \"type\": \"quantitative\"}, \"y\": {\"field\": \"Agency\", \"type\": \"nominal\"}}, \"$schema\": \"https://vega.github.io/schema/vega-lite/v4.17.0.json\", \"datasets\": {\"data-d751713988987e9331980363e24189ce\": []}}, {\"mode\": \"vega-lite\"});\n",
       "</script>"
      ],
      "text/plain": [
       "alt.Chart(...)"
      ]
     },
     "metadata": {},
     "output_type": "display_data"
    }
   ],
   "source": [
    "# create loop:\n",
    "\n",
    "work_cat = ['active_transp', 'transit', 'bridge', 'street','freeway', 'infra_resiliency_er','congestion_relief']\n",
    "\n",
    "for cat in work_cat:\n",
    "    _dla_utils_reports.project_cat(df, cat, district)"
   ]
  },
  {
   "cell_type": "code",
   "execution_count": null,
   "id": "5a50e751-dd3f-498f-9a28-2edc321b534f",
   "metadata": {
    "jupyter": {
     "source_hidden": true
    },
    "papermill": {
     "duration": 0.049362,
     "end_time": "2022-05-04T00:39:27.963521",
     "exception": false,
     "start_time": "2022-05-04T00:39:27.914159",
     "status": "completed"
    },
    "tags": [
     "remove_input"
    ]
   },
   "outputs": [],
   "source": []
  },
  {
   "cell_type": "code",
   "execution_count": 21,
   "id": "cb2f6ba9-df0b-495e-82c5-54743d879743",
   "metadata": {
    "execution": {
     "iopub.execute_input": "2022-05-04T00:39:28.049860Z",
     "iopub.status.busy": "2022-05-04T00:39:28.048776Z",
     "iopub.status.idle": "2022-05-04T00:39:28.055534Z",
     "shell.execute_reply": "2022-05-04T00:39:28.054826Z"
    },
    "jupyter": {
     "source_hidden": true
    },
    "papermill": {
     "duration": 0.05353,
     "end_time": "2022-05-04T00:39:28.057691",
     "exception": false,
     "start_time": "2022-05-04T00:39:28.004161",
     "status": "completed"
    },
    "tags": [
     "remove_input"
    ]
   },
   "outputs": [],
   "source": [
    "#  # code help: https://stackoverflow.com/questions/50842160/how-to-display-matplotlib-plots-in-a-jupyter-tab-widget\n",
    "    \n",
    "# work_cat = ['active_transp', 'transit', 'bridge', 'street','freeway', 'infra_resiliency_er','congestion_relief']\n",
    "\n",
    "# out1 = widgets.Output()\n",
    "# out2 = widgets.Output()\n",
    "# out3 = widgets.Output()\n",
    "# out4 = widgets.Output()\n",
    "# out5 = widgets.Output()\n",
    "# out6 = widgets.Output()\n",
    "# out7 = widgets.Output()\n",
    "\n",
    "#     # children2 = [widgets.Text(description=name) for name in work_cat]\n",
    "#     # tab2 = widgets.Tab(children2)\n",
    "# tab2 = widgets.Tab(children = [out1, out2, out3, out4, out5, out6, out7])\n",
    "\n",
    "# for ii in enumerate(work_cat): \n",
    "#     tab2.set_title(ii[0], f\"{_dla_utils_reports.labeling(ii[1])}\")\n",
    "\n",
    "# display(tab2)\n",
    "    \n",
    "    \n",
    "# with out1:\n",
    "#      _dla_utils_reports.project_cat(df, 'active_transp', district) \n",
    "\n",
    "# #out1.append_display_data(_dla_utils_reports.project_cat(df, 'active_transp', district))\n",
    "# #out1.append_display_data(Image(filename=(f'./chart_outputs/project_cat/bar_{district}_active_transp.png')))\n",
    "\n",
    "# with out2:\n",
    "#      _dla_utils_reports.project_cat(df, 'transit', district)\n",
    "# with out3: \n",
    "#      _dla_utils_reports.project_cat(df, 'bridge', district)\n",
    "# with out4:\n",
    "#     _dla_utils_reports.project_cat(df, 'street', district)\n",
    "# with out5:\n",
    "#      _dla_utils_reports.project_cat(df, 'freeway', district)\n",
    "# with out6:\n",
    "#     _dla_utils_reports.project_cat(df, 'infra_resiliency_er', district)\n",
    "# with out7:\n",
    "#     _dla_utils_reports.project_cat(df, 'congestion_relief', district)\n",
    "    "
   ]
  },
  {
   "cell_type": "code",
   "execution_count": null,
   "id": "d0a253bb-00a4-45d7-875b-7a39bb794219",
   "metadata": {
    "jupyter": {
     "source_hidden": true
    },
    "papermill": {
     "duration": 0.043317,
     "end_time": "2022-05-04T00:39:28.143871",
     "exception": false,
     "start_time": "2022-05-04T00:39:28.100554",
     "status": "completed"
    },
    "tags": [
     "remove_input"
    ]
   },
   "outputs": [],
   "source": []
  },
  {
   "cell_type": "code",
   "execution_count": 22,
   "id": "b4562eb7-a3e1-4829-a23c-058f2f0e30d9",
   "metadata": {
    "execution": {
     "iopub.execute_input": "2022-05-04T00:39:28.228610Z",
     "iopub.status.busy": "2022-05-04T00:39:28.227540Z",
     "iopub.status.idle": "2022-05-04T00:39:28.233801Z",
     "shell.execute_reply": "2022-05-04T00:39:28.233116Z"
    },
    "jupyter": {
     "source_hidden": true
    },
    "papermill": {
     "duration": 0.050791,
     "end_time": "2022-05-04T00:39:28.236033",
     "exception": false,
     "start_time": "2022-05-04T00:39:28.185242",
     "status": "completed"
    },
    "tags": [
     "remove_input"
    ]
   },
   "outputs": [],
   "source": [
    "# # work_cat = ['active_transp', 'transit', 'bridge', 'street','freeway', 'infra_resiliency_er','congestion_relief']\n",
    "\n",
    "# # out1 = widgets.Output()\n",
    "# # out2 = widgets.Output()\n",
    "# # out3 = widgets.Output()\n",
    "# # out4 = widgets.Output()\n",
    "# # out5 = widgets.Output()\n",
    "# # out6 = widgets.Output()\n",
    "# # out7 = widgets.Output()\n",
    "\n",
    "# # tab2 = widgets.Tab(children = [out1, out2, out3, out4, out5, out6, out7])\n",
    "\n",
    "# # for ii in enumerate(work_cat): \n",
    "# #     tab2.set_title(ii[0], f\"{_dla_utils.labeling(ii[1])}\")\n",
    "\n",
    "# # display(tab2)\n",
    "    \n",
    "# # with out1:\n",
    "# #     _dla_utils.project_cat(df, 'active_transp', district) \n",
    "# # with out2:\n",
    "# #      _dla_utils.project_cat(df, 'transit', district)\n",
    "# # with out3: \n",
    "# #      _dla_utils.project_cat(df, 'bridge', district)\n",
    "# # with out4:\n",
    "# #     _dla_utils.project_cat(df, 'street', district)\n",
    "# # with out5:\n",
    "# #      _dla_utils.project_cat(df, 'freeway', district)\n",
    "# # with out6:\n",
    "# #     _dla_utils.project_cat(df, 'infra_resiliency_er', district)\n",
    "# # with out7:\n",
    "# #     _dla_utils.project_cat(df, 'congestion_relief', district)\n",
    "    \n",
    "    \n",
    "# ## https://medium.com/analytics-vidhya/how-to-use-python-to-build-an-image-display-app-in-jupyter-notebook-337c4fd3775f\n",
    "# def show_im():\n",
    "#     CSS = \"\"\"\n",
    "#     .output {\n",
    "#         flex-direction: row;\n",
    "#     }\n",
    "#     \"\"\"\n",
    "#     HTML('<style>{}</style>'.format(CSS))\n",
    "\n",
    "# def image_viewer(district, i): \n",
    "#     image_grid = Image(filename=(f'./chart_outputs/project_cat/bar_{district}_{i}.png'))\n",
    "#     #image_grid_html = HTML(image_grid.to_html(escape=False ,formatters=dict(a=path_to_image_html, \n",
    "#     #b=path_to_image_html)))\n",
    "#     #display(image_grid_html)\n",
    "#     show_im()    \n",
    "    \n",
    "\n",
    "# tab_nest = widgets.Tab()\n",
    "\n",
    "\n",
    "# #interact function in isolation\n",
    "\n",
    "# image = (image_viewer(district, 'active_transp'))\n",
    "# f1 = interactive(image);\n",
    "# tab_nest.children = [widgets.VBox(children = f1.children)]\n",
    "# display(tab_nest)"
   ]
  },
  {
   "cell_type": "code",
   "execution_count": 23,
   "id": "8b015c8d-378b-456e-b486-f8b1f5446a21",
   "metadata": {
    "execution": {
     "iopub.execute_input": "2022-05-04T00:39:28.326642Z",
     "iopub.status.busy": "2022-05-04T00:39:28.325551Z",
     "iopub.status.idle": "2022-05-04T00:39:28.333177Z",
     "shell.execute_reply": "2022-05-04T00:39:28.332023Z"
    },
    "jupyter": {
     "source_hidden": true
    },
    "papermill": {
     "duration": 0.052236,
     "end_time": "2022-05-04T00:39:28.335712",
     "exception": false,
     "start_time": "2022-05-04T00:39:28.283476",
     "status": "completed"
    },
    "tags": [
     "remove_input"
    ]
   },
   "outputs": [],
   "source": [
    "# Image(filename=('./chart_outputs/project_cat/bar_4_active_transp.png'))"
   ]
  },
  {
   "cell_type": "code",
   "execution_count": null,
   "id": "47213b64-555f-4e09-9b1d-fae403f8f595",
   "metadata": {
    "jupyter": {
     "source_hidden": true
    },
    "papermill": {
     "duration": 0.042444,
     "end_time": "2022-05-04T00:39:28.421979",
     "exception": false,
     "start_time": "2022-05-04T00:39:28.379535",
     "status": "completed"
    },
    "tags": [
     "remove_input"
    ]
   },
   "outputs": [],
   "source": []
  },
  {
   "cell_type": "code",
   "execution_count": null,
   "id": "3925b8ed-1cd0-4479-9f6d-4f461ffd70ae",
   "metadata": {
    "jupyter": {
     "source_hidden": true
    },
    "papermill": {
     "duration": 0.043945,
     "end_time": "2022-05-04T00:39:28.506424",
     "exception": false,
     "start_time": "2022-05-04T00:39:28.462479",
     "status": "completed"
    },
    "tags": [
     "remove_input"
    ]
   },
   "outputs": [],
   "source": []
  },
  {
   "cell_type": "code",
   "execution_count": 24,
   "id": "f2da39a6-73d0-4293-b13f-267514cfbc4e",
   "metadata": {
    "execution": {
     "iopub.execute_input": "2022-05-04T00:39:28.589280Z",
     "iopub.status.busy": "2022-05-04T00:39:28.588822Z",
     "iopub.status.idle": "2022-05-04T00:39:28.593375Z",
     "shell.execute_reply": "2022-05-04T00:39:28.592334Z"
    },
    "jupyter": {
     "source_hidden": true
    },
    "papermill": {
     "duration": 0.050531,
     "end_time": "2022-05-04T00:39:28.596286",
     "exception": false,
     "start_time": "2022-05-04T00:39:28.545755",
     "status": "completed"
    },
    "tags": [
     "remove_input"
    ]
   },
   "outputs": [],
   "source": [
    "## to markdown\n",
    "#![pic](./chart_outputs/project_cat/bar_4_active_transp.png)"
   ]
  },
  {
   "cell_type": "code",
   "execution_count": null,
   "id": "10e45722-6789-4357-8d9d-a2f424ba7655",
   "metadata": {
    "jupyter": {
     "source_hidden": true
    },
    "papermill": {
     "duration": 0.046217,
     "end_time": "2022-05-04T00:39:28.683487",
     "exception": false,
     "start_time": "2022-05-04T00:39:28.637270",
     "status": "completed"
    },
    "tags": [
     "remove_input"
    ]
   },
   "outputs": [],
   "source": []
  }
 ],
 "metadata": {
  "kernelspec": {
   "display_name": "Python 3 (ipykernel)",
   "language": "python",
   "name": "python3"
  },
  "language_info": {
   "codemirror_mode": {
    "name": "ipython",
    "version": 3
   },
   "file_extension": ".py",
   "mimetype": "text/x-python",
   "name": "python",
   "nbconvert_exporter": "python",
   "pygments_lexer": "ipython3",
   "version": "3.9.10"
  },
  "papermill": {
   "default_parameters": {},
   "duration": 28.704665,
   "end_time": "2022-05-04T00:39:30.253172",
   "environment_variables": {},
   "exception": null,
   "input_path": "dla/e76_obligated_funds/reports/report_test2.ipynb",
   "output_path": "portfolio/dla/district_12/report_test2__.ipynb",
   "parameters": {
    "district": 12
   },
   "start_time": "2022-05-04T00:39:01.548507",
   "version": "2.3.4"
  },
  "widgets": {
   "application/vnd.jupyter.widget-state+json": {
    "state": {
     "0e3ffd74176a4be7988b0fb8570c415f": {
      "model_module": "@jupyter-widgets/controls",
      "model_module_version": "1.5.0",
      "model_name": "HTMLModel",
      "state": {
       "_dom_classes": [],
       "_model_module": "@jupyter-widgets/controls",
       "_model_module_version": "1.5.0",
       "_model_name": "HTMLModel",
       "_view_count": null,
       "_view_module": "@jupyter-widgets/controls",
       "_view_module_version": "1.5.0",
       "_view_name": "HTMLView",
       "description": "",
       "description_tooltip": null,
       "layout": "IPY_MODEL_adea12b611c345b7b7223f5f4e05967b",
       "placeholder": "​",
       "style": "IPY_MODEL_d79330d7396140218b3d7d6360f077b7",
       "value": "<h3> Top Agencies using Infrastructure & Emergency Relief Projects </h3>"
      }
     },
     "21c20a6865544217a66003d0cdebe1ee": {
      "model_module": "@jupyter-widgets/base",
      "model_module_version": "1.2.0",
      "model_name": "LayoutModel",
      "state": {
       "_model_module": "@jupyter-widgets/base",
       "_model_module_version": "1.2.0",
       "_model_name": "LayoutModel",
       "_view_count": null,
       "_view_module": "@jupyter-widgets/base",
       "_view_module_version": "1.2.0",
       "_view_name": "LayoutView",
       "align_content": null,
       "align_items": null,
       "align_self": null,
       "border": null,
       "bottom": null,
       "display": null,
       "flex": null,
       "flex_flow": null,
       "grid_area": null,
       "grid_auto_columns": null,
       "grid_auto_flow": null,
       "grid_auto_rows": null,
       "grid_column": null,
       "grid_gap": null,
       "grid_row": null,
       "grid_template_areas": null,
       "grid_template_columns": null,
       "grid_template_rows": null,
       "height": null,
       "justify_content": null,
       "justify_items": null,
       "left": null,
       "margin": null,
       "max_height": null,
       "max_width": null,
       "min_height": null,
       "min_width": null,
       "object_fit": null,
       "object_position": null,
       "order": null,
       "overflow": null,
       "overflow_x": null,
       "overflow_y": null,
       "padding": null,
       "right": null,
       "top": null,
       "visibility": null,
       "width": null
      }
     },
     "32417d4c008043d78941b66e32059a12": {
      "model_module": "@jupyter-widgets/controls",
      "model_module_version": "1.5.0",
      "model_name": "DescriptionStyleModel",
      "state": {
       "_model_module": "@jupyter-widgets/controls",
       "_model_module_version": "1.5.0",
       "_model_name": "DescriptionStyleModel",
       "_view_count": null,
       "_view_module": "@jupyter-widgets/base",
       "_view_module_version": "1.2.0",
       "_view_name": "StyleView",
       "description_width": ""
      }
     },
     "3798ebb1dce64540ae4d1d176a1b208e": {
      "model_module": "@jupyter-widgets/controls",
      "model_module_version": "1.5.0",
      "model_name": "DescriptionStyleModel",
      "state": {
       "_model_module": "@jupyter-widgets/controls",
       "_model_module_version": "1.5.0",
       "_model_name": "DescriptionStyleModel",
       "_view_count": null,
       "_view_module": "@jupyter-widgets/base",
       "_view_module_version": "1.2.0",
       "_view_name": "StyleView",
       "description_width": ""
      }
     },
     "3a789f677a044e05966c3f918db48c08": {
      "model_module": "@jupyter-widgets/base",
      "model_module_version": "1.2.0",
      "model_name": "LayoutModel",
      "state": {
       "_model_module": "@jupyter-widgets/base",
       "_model_module_version": "1.2.0",
       "_model_name": "LayoutModel",
       "_view_count": null,
       "_view_module": "@jupyter-widgets/base",
       "_view_module_version": "1.2.0",
       "_view_name": "LayoutView",
       "align_content": null,
       "align_items": null,
       "align_self": null,
       "border": null,
       "bottom": null,
       "display": null,
       "flex": null,
       "flex_flow": null,
       "grid_area": null,
       "grid_auto_columns": null,
       "grid_auto_flow": null,
       "grid_auto_rows": null,
       "grid_column": null,
       "grid_gap": null,
       "grid_row": null,
       "grid_template_areas": null,
       "grid_template_columns": null,
       "grid_template_rows": null,
       "height": null,
       "justify_content": null,
       "justify_items": null,
       "left": null,
       "margin": null,
       "max_height": null,
       "max_width": null,
       "min_height": null,
       "min_width": null,
       "object_fit": null,
       "object_position": null,
       "order": null,
       "overflow": null,
       "overflow_x": null,
       "overflow_y": null,
       "padding": null,
       "right": null,
       "top": null,
       "visibility": null,
       "width": null
      }
     },
     "493a81e0c8e2423db7ec5a416e18cf8d": {
      "model_module": "@jupyter-widgets/controls",
      "model_module_version": "1.5.0",
      "model_name": "HTMLModel",
      "state": {
       "_dom_classes": [],
       "_model_module": "@jupyter-widgets/controls",
       "_model_module_version": "1.5.0",
       "_model_name": "HTMLModel",
       "_view_count": null,
       "_view_module": "@jupyter-widgets/controls",
       "_view_module_version": "1.5.0",
       "_view_name": "HTMLView",
       "description": "",
       "description_tooltip": null,
       "layout": "IPY_MODEL_580dcb2c40d04cd8a9b1b7f1491061b3",
       "placeholder": "​",
       "style": "IPY_MODEL_da339b3bcb394e1eb59ee2e7e50d1870",
       "value": "<h3> Top Agencies using Congestion Relief Projects </h3>"
      }
     },
     "580dcb2c40d04cd8a9b1b7f1491061b3": {
      "model_module": "@jupyter-widgets/base",
      "model_module_version": "1.2.0",
      "model_name": "LayoutModel",
      "state": {
       "_model_module": "@jupyter-widgets/base",
       "_model_module_version": "1.2.0",
       "_model_name": "LayoutModel",
       "_view_count": null,
       "_view_module": "@jupyter-widgets/base",
       "_view_module_version": "1.2.0",
       "_view_name": "LayoutView",
       "align_content": null,
       "align_items": null,
       "align_self": null,
       "border": null,
       "bottom": null,
       "display": null,
       "flex": null,
       "flex_flow": null,
       "grid_area": null,
       "grid_auto_columns": null,
       "grid_auto_flow": null,
       "grid_auto_rows": null,
       "grid_column": null,
       "grid_gap": null,
       "grid_row": null,
       "grid_template_areas": null,
       "grid_template_columns": null,
       "grid_template_rows": null,
       "height": null,
       "justify_content": null,
       "justify_items": null,
       "left": null,
       "margin": null,
       "max_height": null,
       "max_width": null,
       "min_height": null,
       "min_width": null,
       "object_fit": null,
       "object_position": null,
       "order": null,
       "overflow": null,
       "overflow_x": null,
       "overflow_y": null,
       "padding": null,
       "right": null,
       "top": null,
       "visibility": null,
       "width": null
      }
     },
     "67415025a8c74fb4a44f57adf433c259": {
      "model_module": "@jupyter-widgets/base",
      "model_module_version": "1.2.0",
      "model_name": "LayoutModel",
      "state": {
       "_model_module": "@jupyter-widgets/base",
       "_model_module_version": "1.2.0",
       "_model_name": "LayoutModel",
       "_view_count": null,
       "_view_module": "@jupyter-widgets/base",
       "_view_module_version": "1.2.0",
       "_view_name": "LayoutView",
       "align_content": null,
       "align_items": null,
       "align_self": null,
       "border": null,
       "bottom": null,
       "display": null,
       "flex": null,
       "flex_flow": null,
       "grid_area": null,
       "grid_auto_columns": null,
       "grid_auto_flow": null,
       "grid_auto_rows": null,
       "grid_column": null,
       "grid_gap": null,
       "grid_row": null,
       "grid_template_areas": null,
       "grid_template_columns": null,
       "grid_template_rows": null,
       "height": null,
       "justify_content": null,
       "justify_items": null,
       "left": null,
       "margin": null,
       "max_height": null,
       "max_width": null,
       "min_height": null,
       "min_width": null,
       "object_fit": null,
       "object_position": null,
       "order": null,
       "overflow": null,
       "overflow_x": null,
       "overflow_y": null,
       "padding": null,
       "right": null,
       "top": null,
       "visibility": null,
       "width": null
      }
     },
     "7fc52aa484a8424ca92dda028ae4e797": {
      "model_module": "@jupyter-widgets/controls",
      "model_module_version": "1.5.0",
      "model_name": "HTMLModel",
      "state": {
       "_dom_classes": [],
       "_model_module": "@jupyter-widgets/controls",
       "_model_module_version": "1.5.0",
       "_model_name": "HTMLModel",
       "_view_count": null,
       "_view_module": "@jupyter-widgets/controls",
       "_view_module_version": "1.5.0",
       "_view_name": "HTMLView",
       "description": "",
       "description_tooltip": null,
       "layout": "IPY_MODEL_bf02906df9954a0d91259118ebfae72b",
       "placeholder": "​",
       "style": "IPY_MODEL_cfbe31f2139141548a10797848374188",
       "value": "<h3> Top Agencies using Street Projects </h3>"
      }
     },
     "819f6dc37f244c1d95a207ae38666203": {
      "model_module": "@jupyter-widgets/controls",
      "model_module_version": "1.5.0",
      "model_name": "HTMLModel",
      "state": {
       "_dom_classes": [],
       "_model_module": "@jupyter-widgets/controls",
       "_model_module_version": "1.5.0",
       "_model_name": "HTMLModel",
       "_view_count": null,
       "_view_module": "@jupyter-widgets/controls",
       "_view_module_version": "1.5.0",
       "_view_name": "HTMLView",
       "description": "",
       "description_tooltip": null,
       "layout": "IPY_MODEL_3a789f677a044e05966c3f918db48c08",
       "placeholder": "​",
       "style": "IPY_MODEL_32417d4c008043d78941b66e32059a12",
       "value": "<h3> Top Agencies using Active Transportation Projects </h3>"
      }
     },
     "8c510b510b6244e99360aec9e75e15af": {
      "model_module": "@jupyter-widgets/controls",
      "model_module_version": "1.5.0",
      "model_name": "HTMLModel",
      "state": {
       "_dom_classes": [],
       "_model_module": "@jupyter-widgets/controls",
       "_model_module_version": "1.5.0",
       "_model_name": "HTMLModel",
       "_view_count": null,
       "_view_module": "@jupyter-widgets/controls",
       "_view_module_version": "1.5.0",
       "_view_name": "HTMLView",
       "description": "",
       "description_tooltip": null,
       "layout": "IPY_MODEL_67415025a8c74fb4a44f57adf433c259",
       "placeholder": "​",
       "style": "IPY_MODEL_c174e4e9b68e4d2282fc1cf52d65a055",
       "value": "<h3> Top Agencies using Freeway Projects </h3>"
      }
     },
     "95382bf94b644835b36b9ac98cc6ffec": {
      "model_module": "@jupyter-widgets/controls",
      "model_module_version": "1.5.0",
      "model_name": "DescriptionStyleModel",
      "state": {
       "_model_module": "@jupyter-widgets/controls",
       "_model_module_version": "1.5.0",
       "_model_name": "DescriptionStyleModel",
       "_view_count": null,
       "_view_module": "@jupyter-widgets/base",
       "_view_module_version": "1.2.0",
       "_view_name": "StyleView",
       "description_width": ""
      }
     },
     "ac4481089ced4f2d938e572a4c844712": {
      "model_module": "@jupyter-widgets/controls",
      "model_module_version": "1.5.0",
      "model_name": "HTMLModel",
      "state": {
       "_dom_classes": [],
       "_model_module": "@jupyter-widgets/controls",
       "_model_module_version": "1.5.0",
       "_model_name": "HTMLModel",
       "_view_count": null,
       "_view_module": "@jupyter-widgets/controls",
       "_view_module_version": "1.5.0",
       "_view_name": "HTMLView",
       "description": "",
       "description_tooltip": null,
       "layout": "IPY_MODEL_21c20a6865544217a66003d0cdebe1ee",
       "placeholder": "​",
       "style": "IPY_MODEL_3798ebb1dce64540ae4d1d176a1b208e",
       "value": "<h3> Top Agencies using Bridge Projects </h3>"
      }
     },
     "adea12b611c345b7b7223f5f4e05967b": {
      "model_module": "@jupyter-widgets/base",
      "model_module_version": "1.2.0",
      "model_name": "LayoutModel",
      "state": {
       "_model_module": "@jupyter-widgets/base",
       "_model_module_version": "1.2.0",
       "_model_name": "LayoutModel",
       "_view_count": null,
       "_view_module": "@jupyter-widgets/base",
       "_view_module_version": "1.2.0",
       "_view_name": "LayoutView",
       "align_content": null,
       "align_items": null,
       "align_self": null,
       "border": null,
       "bottom": null,
       "display": null,
       "flex": null,
       "flex_flow": null,
       "grid_area": null,
       "grid_auto_columns": null,
       "grid_auto_flow": null,
       "grid_auto_rows": null,
       "grid_column": null,
       "grid_gap": null,
       "grid_row": null,
       "grid_template_areas": null,
       "grid_template_columns": null,
       "grid_template_rows": null,
       "height": null,
       "justify_content": null,
       "justify_items": null,
       "left": null,
       "margin": null,
       "max_height": null,
       "max_width": null,
       "min_height": null,
       "min_width": null,
       "object_fit": null,
       "object_position": null,
       "order": null,
       "overflow": null,
       "overflow_x": null,
       "overflow_y": null,
       "padding": null,
       "right": null,
       "top": null,
       "visibility": null,
       "width": null
      }
     },
     "bf02906df9954a0d91259118ebfae72b": {
      "model_module": "@jupyter-widgets/base",
      "model_module_version": "1.2.0",
      "model_name": "LayoutModel",
      "state": {
       "_model_module": "@jupyter-widgets/base",
       "_model_module_version": "1.2.0",
       "_model_name": "LayoutModel",
       "_view_count": null,
       "_view_module": "@jupyter-widgets/base",
       "_view_module_version": "1.2.0",
       "_view_name": "LayoutView",
       "align_content": null,
       "align_items": null,
       "align_self": null,
       "border": null,
       "bottom": null,
       "display": null,
       "flex": null,
       "flex_flow": null,
       "grid_area": null,
       "grid_auto_columns": null,
       "grid_auto_flow": null,
       "grid_auto_rows": null,
       "grid_column": null,
       "grid_gap": null,
       "grid_row": null,
       "grid_template_areas": null,
       "grid_template_columns": null,
       "grid_template_rows": null,
       "height": null,
       "justify_content": null,
       "justify_items": null,
       "left": null,
       "margin": null,
       "max_height": null,
       "max_width": null,
       "min_height": null,
       "min_width": null,
       "object_fit": null,
       "object_position": null,
       "order": null,
       "overflow": null,
       "overflow_x": null,
       "overflow_y": null,
       "padding": null,
       "right": null,
       "top": null,
       "visibility": null,
       "width": null
      }
     },
     "c174e4e9b68e4d2282fc1cf52d65a055": {
      "model_module": "@jupyter-widgets/controls",
      "model_module_version": "1.5.0",
      "model_name": "DescriptionStyleModel",
      "state": {
       "_model_module": "@jupyter-widgets/controls",
       "_model_module_version": "1.5.0",
       "_model_name": "DescriptionStyleModel",
       "_view_count": null,
       "_view_module": "@jupyter-widgets/base",
       "_view_module_version": "1.2.0",
       "_view_name": "StyleView",
       "description_width": ""
      }
     },
     "cfbe31f2139141548a10797848374188": {
      "model_module": "@jupyter-widgets/controls",
      "model_module_version": "1.5.0",
      "model_name": "DescriptionStyleModel",
      "state": {
       "_model_module": "@jupyter-widgets/controls",
       "_model_module_version": "1.5.0",
       "_model_name": "DescriptionStyleModel",
       "_view_count": null,
       "_view_module": "@jupyter-widgets/base",
       "_view_module_version": "1.2.0",
       "_view_name": "StyleView",
       "description_width": ""
      }
     },
     "d5bea14dfd1b46c29934e735b1e67fde": {
      "model_module": "@jupyter-widgets/controls",
      "model_module_version": "1.5.0",
      "model_name": "HTMLModel",
      "state": {
       "_dom_classes": [],
       "_model_module": "@jupyter-widgets/controls",
       "_model_module_version": "1.5.0",
       "_model_name": "HTMLModel",
       "_view_count": null,
       "_view_module": "@jupyter-widgets/controls",
       "_view_module_version": "1.5.0",
       "_view_name": "HTMLView",
       "description": "",
       "description_tooltip": null,
       "layout": "IPY_MODEL_da901e303ecb4e8b9a60a512f45db1dd",
       "placeholder": "​",
       "style": "IPY_MODEL_95382bf94b644835b36b9ac98cc6ffec",
       "value": "<h3> Top Agencies using Transit Projects </h3>"
      }
     },
     "d79330d7396140218b3d7d6360f077b7": {
      "model_module": "@jupyter-widgets/controls",
      "model_module_version": "1.5.0",
      "model_name": "DescriptionStyleModel",
      "state": {
       "_model_module": "@jupyter-widgets/controls",
       "_model_module_version": "1.5.0",
       "_model_name": "DescriptionStyleModel",
       "_view_count": null,
       "_view_module": "@jupyter-widgets/base",
       "_view_module_version": "1.2.0",
       "_view_name": "StyleView",
       "description_width": ""
      }
     },
     "da339b3bcb394e1eb59ee2e7e50d1870": {
      "model_module": "@jupyter-widgets/controls",
      "model_module_version": "1.5.0",
      "model_name": "DescriptionStyleModel",
      "state": {
       "_model_module": "@jupyter-widgets/controls",
       "_model_module_version": "1.5.0",
       "_model_name": "DescriptionStyleModel",
       "_view_count": null,
       "_view_module": "@jupyter-widgets/base",
       "_view_module_version": "1.2.0",
       "_view_name": "StyleView",
       "description_width": ""
      }
     },
     "da901e303ecb4e8b9a60a512f45db1dd": {
      "model_module": "@jupyter-widgets/base",
      "model_module_version": "1.2.0",
      "model_name": "LayoutModel",
      "state": {
       "_model_module": "@jupyter-widgets/base",
       "_model_module_version": "1.2.0",
       "_model_name": "LayoutModel",
       "_view_count": null,
       "_view_module": "@jupyter-widgets/base",
       "_view_module_version": "1.2.0",
       "_view_name": "LayoutView",
       "align_content": null,
       "align_items": null,
       "align_self": null,
       "border": null,
       "bottom": null,
       "display": null,
       "flex": null,
       "flex_flow": null,
       "grid_area": null,
       "grid_auto_columns": null,
       "grid_auto_flow": null,
       "grid_auto_rows": null,
       "grid_column": null,
       "grid_gap": null,
       "grid_row": null,
       "grid_template_areas": null,
       "grid_template_columns": null,
       "grid_template_rows": null,
       "height": null,
       "justify_content": null,
       "justify_items": null,
       "left": null,
       "margin": null,
       "max_height": null,
       "max_width": null,
       "min_height": null,
       "min_width": null,
       "object_fit": null,
       "object_position": null,
       "order": null,
       "overflow": null,
       "overflow_x": null,
       "overflow_y": null,
       "padding": null,
       "right": null,
       "top": null,
       "visibility": null,
       "width": null
      }
     }
    },
    "version_major": 2,
    "version_minor": 0
   }
  }
 },
 "nbformat": 4,
 "nbformat_minor": 5
}