{
 "cells": [
  {
   "cell_type": "code",
   "execution_count": null,
   "id": "ee9a8b75-57fa-44b4-9850-3c5d79461d21",
   "metadata": {
    "jupyter": {
     "source_hidden": true
    },
    "papermill": {
     "duration": 0.022532,
     "end_time": "2022-05-13T04:18:59.082552",
     "exception": false,
     "start_time": "2022-05-13T04:18:59.060020",
     "status": "completed"
    },
    "tags": [
     "remove_input"
    ]
   },
   "outputs": [],
   "source": []
  },
  {
   "cell_type": "markdown",
   "id": "c52ac033",
   "metadata": {
    "papermill": {
     "duration": 0.019917,
     "end_time": "2022-05-13T04:18:59.123003",
     "exception": false,
     "start_time": "2022-05-13T04:18:59.103086",
     "status": "completed"
    },
    "pycharm": {
     "name": "#%% md\n"
    },
    "tags": []
   },
   "source": [
    "# **District 12**"
   ]
  },
  {
   "cell_type": "markdown",
   "id": "178948e4-f2ee-4978-87a6-e2eb560b0feb",
   "metadata": {
    "papermill": {
     "duration": 0.019539,
     "end_time": "2022-05-13T04:18:59.161704",
     "exception": false,
     "start_time": "2022-05-13T04:18:59.142165",
     "status": "completed"
    },
    "tags": []
   },
   "source": [
    "Description here."
   ]
  },
  {
   "cell_type": "code",
   "execution_count": 1,
   "id": "92c5c56a",
   "metadata": {
    "collapsed": false,
    "execution": {
     "iopub.execute_input": "2022-05-13T04:18:59.205517Z",
     "iopub.status.busy": "2022-05-13T04:18:59.204971Z",
     "iopub.status.idle": "2022-05-13T04:19:07.603571Z",
     "shell.execute_reply": "2022-05-13T04:19:07.602440Z"
    },
    "jupyter": {
     "source_hidden": true
    },
    "papermill": {
     "duration": 8.42531,
     "end_time": "2022-05-13T04:19:07.607006",
     "exception": false,
     "start_time": "2022-05-13T04:18:59.181696",
     "status": "completed"
    },
    "pycharm": {
     "name": "#%%\n"
    },
    "tags": [
     "remove_input"
    ]
   },
   "outputs": [],
   "source": [
    "%%capture\n",
    "\n",
    "import numpy as np\n",
    "import pandas as pd\n",
    "from siuba import *\n",
    "\n",
    "import altair as alt\n",
    "import altair_saver\n",
    "from plotnine import *\n",
    "\n",
    "from IPython.display import Markdown, HTML, Image\n",
    "import ipywidgets as widgets\n",
    "from ipywidgets import interact, interactive\n",
    "\n",
    "from shared_utils import altair_utils\n",
    "from shared_utils import geography_utils\n",
    "from shared_utils import calitp_color_palette as cp\n",
    "from shared_utils import styleguide\n",
    "\n",
    "from calitp import to_snakecase\n",
    "import intake\n",
    "\n",
    "import _dla_utils_reports\n"
   ]
  },
  {
   "cell_type": "code",
   "execution_count": 2,
   "id": "82cf8245-73d2-4ed3-93cf-7ee01661b024",
   "metadata": {
    "execution": {
     "iopub.execute_input": "2022-05-13T04:19:07.680057Z",
     "iopub.status.busy": "2022-05-13T04:19:07.679660Z",
     "iopub.status.idle": "2022-05-13T04:19:07.684807Z",
     "shell.execute_reply": "2022-05-13T04:19:07.684007Z"
    },
    "jupyter": {
     "source_hidden": true
    },
    "papermill": {
     "duration": 0.046311,
     "end_time": "2022-05-13T04:19:07.689822",
     "exception": false,
     "start_time": "2022-05-13T04:19:07.643511",
     "status": "completed"
    },
    "tags": [
     "parameters",
     "remove_input"
    ]
   },
   "outputs": [],
   "source": [
    "#Parameter Cell\n",
    "\n",
    "district = 2"
   ]
  },
  {
   "cell_type": "code",
   "execution_count": 3,
   "id": "56ebf1c0",
   "metadata": {
    "execution": {
     "iopub.execute_input": "2022-05-13T04:19:07.755671Z",
     "iopub.status.busy": "2022-05-13T04:19:07.755156Z",
     "iopub.status.idle": "2022-05-13T04:19:07.758937Z",
     "shell.execute_reply": "2022-05-13T04:19:07.758149Z"
    },
    "jupyter": {
     "source_hidden": true
    },
    "papermill": {
     "duration": 0.03685,
     "end_time": "2022-05-13T04:19:07.760908",
     "exception": false,
     "start_time": "2022-05-13T04:19:07.724058",
     "status": "completed"
    },
    "tags": [
     "injected-parameters",
     "remove_input"
    ]
   },
   "outputs": [],
   "source": [
    "# Parameters\n",
    "district = 12\n"
   ]
  },
  {
   "cell_type": "code",
   "execution_count": 4,
   "id": "948b2b4f-ef9b-48ff-b109-e7b76361066c",
   "metadata": {
    "execution": {
     "iopub.execute_input": "2022-05-13T04:19:07.807744Z",
     "iopub.status.busy": "2022-05-13T04:19:07.807108Z",
     "iopub.status.idle": "2022-05-13T04:19:08.221729Z",
     "shell.execute_reply": "2022-05-13T04:19:08.220882Z"
    },
    "jupyter": {
     "source_hidden": true
    },
    "papermill": {
     "duration": 0.440463,
     "end_time": "2022-05-13T04:19:08.224213",
     "exception": false,
     "start_time": "2022-05-13T04:19:07.783750",
     "status": "completed"
    },
    "tags": [
     "remove_input"
    ]
   },
   "outputs": [],
   "source": [
    "df= pd.read_parquet(\"gs://calitp-analytics-data/data-analyses/dla/e-76Obligated/dla_df.parquet\")\n"
   ]
  },
  {
   "cell_type": "code",
   "execution_count": 5,
   "id": "be910f27-7608-4522-8d8d-ef93611cb748",
   "metadata": {
    "execution": {
     "iopub.execute_input": "2022-05-13T04:19:08.269595Z",
     "iopub.status.busy": "2022-05-13T04:19:08.268964Z",
     "iopub.status.idle": "2022-05-13T04:19:08.362455Z",
     "shell.execute_reply": "2022-05-13T04:19:08.361786Z"
    },
    "jupyter": {
     "source_hidden": true
    },
    "papermill": {
     "duration": 0.118675,
     "end_time": "2022-05-13T04:19:08.364529",
     "exception": false,
     "start_time": "2022-05-13T04:19:08.245854",
     "status": "completed"
    },
    "tags": [
     "remove_input"
    ]
   },
   "outputs": [],
   "source": [
    "df = (df>>filter(_.dist==district))\n",
    "    \n",
    "    \n",
    "#subsetting the data\n",
    "df_years = _dla_utils_reports.count_all_years(df)\n",
    "df_top = _dla_utils_reports.find_top(df)\n",
    "    "
   ]
  },
  {
   "cell_type": "code",
   "execution_count": 6,
   "id": "7f5ac0a1-a951-4072-8f85-d2c90290907f",
   "metadata": {
    "execution": {
     "iopub.execute_input": "2022-05-13T04:19:08.413265Z",
     "iopub.status.busy": "2022-05-13T04:19:08.412951Z",
     "iopub.status.idle": "2022-05-13T04:19:08.597268Z",
     "shell.execute_reply": "2022-05-13T04:19:08.591127Z"
    },
    "jupyter": {
     "source_hidden": true
    },
    "papermill": {
     "duration": 0.213052,
     "end_time": "2022-05-13T04:19:08.599561",
     "exception": false,
     "start_time": "2022-05-13T04:19:08.386509",
     "status": "completed"
    },
    "tags": [
     "remove_input"
    ]
   },
   "outputs": [
    {
     "data": {
      "text/html": [
       "<h2>Quick Stats</h2>"
      ],
      "text/plain": [
       "<IPython.core.display.HTML object>"
      ]
     },
     "metadata": {},
     "output_type": "display_data"
    },
    {
     "data": {
      "text/html": [
       "There are <strong>36 Unique Agencies</strong>"
      ],
      "text/plain": [
       "<IPython.core.display.HTML object>"
      ]
     },
     "metadata": {},
     "output_type": "display_data"
    },
    {
     "data": {
      "text/html": [
       "Out of <strong>708</strong> obligations, <strong>1 are transit-related</strong>.<br><strong>Santa Ana</strong> has the <strong>highest transit</strong> obligations"
      ],
      "text/plain": [
       "<IPython.core.display.HTML object>"
      ]
     },
     "metadata": {},
     "output_type": "display_data"
    },
    {
     "data": {
      "text/html": [
       "There are <strong>2 agencies have over 72.25</strong> obligations (95th percentile) since 2013.0"
      ],
      "text/plain": [
       "<IPython.core.display.HTML object>"
      ]
     },
     "metadata": {},
     "output_type": "display_data"
    },
    {
     "data": {
      "text/html": [
       "There are <strong>3 agencies have less than 2.00</strong> obligations (5th percentile) since 2013.0"
      ],
      "text/plain": [
       "<IPython.core.display.HTML object>"
      ]
     },
     "metadata": {},
     "output_type": "display_data"
    },
    {
     "data": {
      "text/html": [
       "<h4><strong>Number of Unique Prefix Codes by Agency</strong></h4>"
      ],
      "text/plain": [
       "<IPython.core.display.HTML object>"
      ]
     },
     "metadata": {},
     "output_type": "display_data"
    },
    {
     "data": {
      "text/html": [
       "<div>\n",
       "<style scoped>\n",
       "    .dataframe tbody tr th:only-of-type {\n",
       "        vertical-align: middle;\n",
       "    }\n",
       "\n",
       "    .dataframe tbody tr th {\n",
       "        vertical-align: top;\n",
       "    }\n",
       "\n",
       "    .dataframe thead th {\n",
       "        text-align: right;\n",
       "    }\n",
       "</style>\n",
       "<table border=\"1\" class=\"dataframe\">\n",
       "  <thead>\n",
       "    <tr style=\"text-align: right;\">\n",
       "      <th></th>\n",
       "      <th>Agency</th>\n",
       "      <th>Number of Unqiue Prefix Codes</th>\n",
       "    </tr>\n",
       "  </thead>\n",
       "  <tbody>\n",
       "    <tr>\n",
       "      <th>25</th>\n",
       "      <td>Orange County Transportation Authority</td>\n",
       "      <td>16</td>\n",
       "    </tr>\n",
       "    <tr>\n",
       "      <th>0</th>\n",
       "      <td>Anaheim</td>\n",
       "      <td>13</td>\n",
       "    </tr>\n",
       "    <tr>\n",
       "      <th>24</th>\n",
       "      <td>Orange County</td>\n",
       "      <td>11</td>\n",
       "    </tr>\n",
       "    <tr>\n",
       "      <th>30</th>\n",
       "      <td>Santa Ana</td>\n",
       "      <td>11</td>\n",
       "    </tr>\n",
       "    <tr>\n",
       "      <th>4</th>\n",
       "      <td>Costa Mesa</td>\n",
       "      <td>8</td>\n",
       "    </tr>\n",
       "  </tbody>\n",
       "</table>\n",
       "</div>"
      ],
      "text/plain": [
       "                                    Agency  Number of Unqiue Prefix Codes\n",
       "25  Orange County Transportation Authority                             16\n",
       "0                                  Anaheim                             13\n",
       "24                           Orange County                             11\n",
       "30                               Santa Ana                             11\n",
       "4                               Costa Mesa                              8"
      ]
     },
     "metadata": {},
     "output_type": "display_data"
    },
    {
     "data": {
      "text/html": [
       "<h4><strong>Number of Unique Agencies by Prefix Codes</strong></h4>"
      ],
      "text/plain": [
       "<IPython.core.display.HTML object>"
      ]
     },
     "metadata": {},
     "output_type": "display_data"
    },
    {
     "data": {
      "text/html": [
       "<div>\n",
       "<style scoped>\n",
       "    .dataframe tbody tr th:only-of-type {\n",
       "        vertical-align: middle;\n",
       "    }\n",
       "\n",
       "    .dataframe tbody tr th {\n",
       "        vertical-align: top;\n",
       "    }\n",
       "\n",
       "    .dataframe thead th {\n",
       "        text-align: right;\n",
       "    }\n",
       "</style>\n",
       "<table border=\"1\" class=\"dataframe\">\n",
       "  <thead>\n",
       "    <tr style=\"text-align: right;\">\n",
       "      <th></th>\n",
       "      <th>Prefix</th>\n",
       "      <th>Number of Unqiue Agencies</th>\n",
       "    </tr>\n",
       "  </thead>\n",
       "  <tbody>\n",
       "    <tr>\n",
       "      <th>37</th>\n",
       "      <td>STPL</td>\n",
       "      <td>30</td>\n",
       "    </tr>\n",
       "    <tr>\n",
       "      <th>28</th>\n",
       "      <td>HSIPL</td>\n",
       "      <td>16</td>\n",
       "    </tr>\n",
       "    <tr>\n",
       "      <th>12</th>\n",
       "      <td>CML</td>\n",
       "      <td>14</td>\n",
       "    </tr>\n",
       "    <tr>\n",
       "      <th>33</th>\n",
       "      <td>RPSTPL</td>\n",
       "      <td>10</td>\n",
       "    </tr>\n",
       "    <tr>\n",
       "      <th>35</th>\n",
       "      <td>SRTSL</td>\n",
       "      <td>7</td>\n",
       "    </tr>\n",
       "  </tbody>\n",
       "</table>\n",
       "</div>"
      ],
      "text/plain": [
       "    Prefix  Number of Unqiue Agencies\n",
       "37    STPL                         30\n",
       "28   HSIPL                         16\n",
       "12     CML                         14\n",
       "33  RPSTPL                         10\n",
       "35   SRTSL                          7"
      ]
     },
     "metadata": {},
     "output_type": "display_data"
    },
    {
     "data": {
      "text/html": [
       "<h4><strong>Top 5 Types of Work</strong></h4>"
      ],
      "text/plain": [
       "<IPython.core.display.HTML object>"
      ]
     },
     "metadata": {},
     "output_type": "display_data"
    },
    {
     "data": {
      "text/html": [
       "<style type=\"text/css\">\n",
       "</style>\n",
       "<table id=\"T_3e420\">\n",
       "  <thead>\n",
       "    <tr>\n",
       "      <th class=\"blank level0\" >&nbsp;</th>\n",
       "      <th id=\"T_3e420_level0_col0\" class=\"col_heading level0 col0\" >Type of Work</th>\n",
       "    </tr>\n",
       "  </thead>\n",
       "  <tbody>\n",
       "    <tr>\n",
       "      <th id=\"T_3e420_level0_row0\" class=\"row_heading level0 row0\" >214</th>\n",
       "      <td id=\"T_3e420_row0_col0\" class=\"data row0 col0\" >Road Rehabilitation</td>\n",
       "    </tr>\n",
       "    <tr>\n",
       "      <th id=\"T_3e420_level0_row1\" class=\"row_heading level0 row1\" >90</th>\n",
       "      <td id=\"T_3e420_row1_col0\" class=\"data row1 col0\" >FTA Transfer</td>\n",
       "    </tr>\n",
       "    <tr>\n",
       "      <th id=\"T_3e420_level0_row2\" class=\"row_heading level0 row2\" >149</th>\n",
       "      <td id=\"T_3e420_row2_col0\" class=\"data row2 col0\" >Left-turn Signal Phasing</td>\n",
       "    </tr>\n",
       "    <tr>\n",
       "      <th id=\"T_3e420_level0_row3\" class=\"row_heading level0 row3\" >125</th>\n",
       "      <td id=\"T_3e420_row3_col0\" class=\"data row3 col0\" >Install Protected Left Turn Signal Phasing</td>\n",
       "    </tr>\n",
       "    <tr>\n",
       "      <th id=\"T_3e420_level0_row4\" class=\"row_heading level0 row4\" >132</th>\n",
       "      <td id=\"T_3e420_row4_col0\" class=\"data row4 col0\" >Install Signal Interconnect Conduit And Upgrade Intersection Traffic Signals </td>\n",
       "    </tr>\n",
       "  </tbody>\n",
       "</table>\n"
      ],
      "text/plain": [
       "<pandas.io.formats.style.Styler at 0x7f3e1376b970>"
      ]
     },
     "metadata": {},
     "output_type": "display_data"
    }
   ],
   "source": [
    "display(HTML(\"<h2>Quick Stats</h2>\"))\n",
    "\n",
    "display(\n",
    "    HTML(\n",
    "        f\"There are <strong>{(df.primary_agency_name.nunique())} Unique Agencies</strong>\"\n",
    "    )\n",
    ")\n",
    "\n",
    "transit = df >> filter(_.transit == 1)\n",
    "\n",
    "def find_transit(df):\n",
    "    if (len(transit)) == 0: \n",
    "        return display((HTML(f\"Out of <strong>{len(df)}</strong> obligations, <strong>0 are transit realted</strong>\")))\n",
    "    \n",
    "    else:\n",
    "        return display(\n",
    "            HTML(\n",
    "                f\"Out of <strong>{len(df)}</strong> obligations, <strong>{len(transit)} are transit-related</strong>.\"\n",
    "                f\"<br><strong>{(transit>>count(_.primary_agency_name)>>arrange(-_.n)).iloc[0, 0]}</strong> has the <strong>highest transit</strong> obligations\"\n",
    "            ))\n",
    "    \n",
    "find_transit(df)\n",
    "\n",
    "\n",
    "\n",
    "\n",
    "q = df >> count(_.primary_agency_name) >> arrange(_.n)\n",
    "\n",
    "q2 = q.n.quantile(0.95)\n",
    "\n",
    "display(\n",
    "    HTML(\n",
    "        f\"There are <strong>{len(q>>filter(_.n> (q2)))} agencies have over {('%.2f'%(q2))}</strong> obligations (95th percentile) since {(df.prepared_y.min())}\"\n",
    "    )\n",
    ")\n",
    "\n",
    "q3 = q.n.quantile(0.1)\n",
    "display(\n",
    "    HTML(\n",
    "        (\n",
    "            f\"There are <strong>{len(q>>filter(_.n< (q3)))} agencies have less than {('%.2f'%(q3))}</strong> obligations (5th percentile) since {(df.prepared_y.min())}\"\n",
    "        )\n",
    "    )\n",
    ")\n",
    "\n",
    "## tables\n",
    "display(HTML(\"<h4><strong>Number of Unique Prefix Codes by Agency</strong></h4>\"))\n",
    "display(\n",
    "    (_dla_utils_reports.get_nunique(df, \"prefix\", \"primary_agency_name\"))\n",
    "    .rename(\n",
    "        columns={\"primary_agency_name\": \"Agency\", \"n\": \"Number of Unqiue Prefix Codes\"}\n",
    "    )\n",
    "    .head(5)\n",
    ")\n",
    "\n",
    "display(HTML(\"<h4><strong>Number of Unique Agencies by Prefix Codes</strong></h4>\"))\n",
    "display(\n",
    "    (_dla_utils_reports.get_nunique(df, \"primary_agency_name\", \"prefix\"))\n",
    "    .rename(columns={\"prefix\": \"Prefix\", \"n\": \"Number of Unqiue Agencies\"})\n",
    "    .head(5)\n",
    ")\n",
    "\n",
    "display(HTML(\"<h4><strong>Top 5 Types of Work</strong></h4>\"))\n",
    "work_types = (\n",
    "    (df >> count(_.type_of_work) >> arrange(-_.n) >> select(_.type_of_work))\n",
    "    .rename(columns={\"type_of_work\": \"Type of Work\"})\n",
    "    .head(5)\n",
    ")\n",
    "display(work_types.style)"
   ]
  },
  {
   "cell_type": "markdown",
   "id": "52a161a2-876a-4b42-9c93-3221dce17638",
   "metadata": {
    "papermill": {
     "duration": 0.026307,
     "end_time": "2022-05-13T04:19:08.651560",
     "exception": false,
     "start_time": "2022-05-13T04:19:08.625253",
     "status": "completed"
    },
    "tags": []
   },
   "source": [
    "## Number of Obligations"
   ]
  },
  {
   "cell_type": "markdown",
   "id": "379b61e3-1c1b-4683-b78f-8dee0683f064",
   "metadata": {
    "papermill": {
     "duration": 0.027512,
     "end_time": "2022-05-13T04:19:08.705077",
     "exception": false,
     "start_time": "2022-05-13T04:19:08.677565",
     "status": "completed"
    },
    "tags": []
   },
   "source": [
    "Obligations indicate a unique entry in the E-76 dataset. By counting the obligations for each year, district, and organization, we can see what the volume each as well which organizations are the most and last frequent customers. \n",
    "\n",
    "Metrics:\n",
    "* Obligations by Year\n",
    "* Number of Unique Agencies by District\n",
    "* Agencies With The Most Obligations"
   ]
  },
  {
   "cell_type": "markdown",
   "id": "81ad520b-db91-45b8-a598-a6577cccc24e",
   "metadata": {
    "papermill": {
     "duration": 0.024568,
     "end_time": "2022-05-13T04:19:08.758783",
     "exception": false,
     "start_time": "2022-05-13T04:19:08.734215",
     "status": "completed"
    },
    "tags": []
   },
   "source": [
    "### Obligations by Year"
   ]
  },
  {
   "cell_type": "code",
   "execution_count": 7,
   "id": "ae85287b-0772-4595-8ea2-ccba83dd22cf",
   "metadata": {
    "execution": {
     "iopub.execute_input": "2022-05-13T04:19:08.813207Z",
     "iopub.status.busy": "2022-05-13T04:19:08.812349Z",
     "iopub.status.idle": "2022-05-13T04:19:08.856130Z",
     "shell.execute_reply": "2022-05-13T04:19:08.855417Z"
    },
    "jupyter": {
     "source_hidden": true
    },
    "papermill": {
     "duration": 0.073271,
     "end_time": "2022-05-13T04:19:08.857913",
     "exception": false,
     "start_time": "2022-05-13T04:19:08.784642",
     "status": "completed"
    },
    "tags": [
     "remove_input"
    ]
   },
   "outputs": [
    {
     "data": {
      "text/html": [
       "\n",
       "<div id=\"altair-viz-aff44df9238a4041829f79bd39cbe9a5\"></div>\n",
       "<script type=\"text/javascript\">\n",
       "  var VEGA_DEBUG = (typeof VEGA_DEBUG == \"undefined\") ? {} : VEGA_DEBUG;\n",
       "  (function(spec, embedOpt){\n",
       "    let outputDiv = document.currentScript.previousElementSibling;\n",
       "    if (outputDiv.id !== \"altair-viz-aff44df9238a4041829f79bd39cbe9a5\") {\n",
       "      outputDiv = document.getElementById(\"altair-viz-aff44df9238a4041829f79bd39cbe9a5\");\n",
       "    }\n",
       "    const paths = {\n",
       "      \"vega\": \"https://cdn.jsdelivr.net/npm//vega@5?noext\",\n",
       "      \"vega-lib\": \"https://cdn.jsdelivr.net/npm//vega-lib?noext\",\n",
       "      \"vega-lite\": \"https://cdn.jsdelivr.net/npm//vega-lite@4.17.0?noext\",\n",
       "      \"vega-embed\": \"https://cdn.jsdelivr.net/npm//vega-embed@6?noext\",\n",
       "    };\n",
       "\n",
       "    function maybeLoadScript(lib, version) {\n",
       "      var key = `${lib.replace(\"-\", \"\")}_version`;\n",
       "      return (VEGA_DEBUG[key] == version) ?\n",
       "        Promise.resolve(paths[lib]) :\n",
       "        new Promise(function(resolve, reject) {\n",
       "          var s = document.createElement('script');\n",
       "          document.getElementsByTagName(\"head\")[0].appendChild(s);\n",
       "          s.async = true;\n",
       "          s.onload = () => {\n",
       "            VEGA_DEBUG[key] = version;\n",
       "            return resolve(paths[lib]);\n",
       "          };\n",
       "          s.onerror = () => reject(`Error loading script: ${paths[lib]}`);\n",
       "          s.src = paths[lib];\n",
       "        });\n",
       "    }\n",
       "\n",
       "    function showError(err) {\n",
       "      outputDiv.innerHTML = `<div class=\"error\" style=\"color:red;\">${err}</div>`;\n",
       "      throw err;\n",
       "    }\n",
       "\n",
       "    function displayChart(vegaEmbed) {\n",
       "      vegaEmbed(outputDiv, spec, embedOpt)\n",
       "        .catch(err => showError(`Javascript Error: ${err.message}<br>This usually means there's a typo in your chart specification. See the javascript console for the full traceback.`));\n",
       "    }\n",
       "\n",
       "    if(typeof define === \"function\" && define.amd) {\n",
       "      requirejs.config({paths});\n",
       "      require([\"vega-embed\"], displayChart, err => showError(`Error loading script: ${err.message}`));\n",
       "    } else {\n",
       "      maybeLoadScript(\"vega\", \"5\")\n",
       "        .then(() => maybeLoadScript(\"vega-lite\", \"4.17.0\"))\n",
       "        .then(() => maybeLoadScript(\"vega-embed\", \"6\"))\n",
       "        .catch(showError)\n",
       "        .then(() => displayChart(vegaEmbed));\n",
       "    }\n",
       "  })({\"config\": {\"view\": {\"continuousWidth\": 400, \"continuousHeight\": 300}, \"axis\": {\"domainColor\": \"#cbcbcb\", \"grid\": true, \"gridColor\": \"#cbcbcb\", \"gridWidth\": 1, \"labelColor\": \"#474747\", \"labelFont\": \"Nunito Sans\", \"labelFontSize\": 10, \"labelPadding\": 4, \"tickColor\": \"#cbcbcb\", \"tickSize\": 10, \"titleColor\": \"#333\", \"titleFont\": \"Raleway\", \"titleFontSize\": 12, \"titlePadding\": 10}, \"axisBand\": {\"grid\": false}, \"background\": \"white\", \"font\": \"Raleway\", \"header\": {\"labelFont\": \"Nunito Sans\", \"titleFont\": \"Raleway\"}, \"legend\": {\"labelColor\": \"#333\", \"labelFont\": \"Nunito Sans\", \"labelFontSize\": 11, \"labelLimit\": 0, \"padding\": 1, \"symbolSize\": 30, \"symbolType\": \"square\", \"titleColor\": \"#333\", \"titleFont\": \"Raleway\", \"titleFontSize\": 14, \"titlePadding\": 10}, \"title\": {\"anchor\": \"middle\", \"font\": \"Raleway\", \"fontSize\": 18, \"fontWeight\": 300, \"offset\": 20}}, \"data\": {\"name\": \"data-31e1800fed9d6d4d24d2e36a9cd2e284\"}, \"mark\": \"line\", \"encoding\": {\"tooltip\": [{\"field\": \"Year\", \"type\": \"quantitative\"}, {\"field\": \"count\", \"type\": \"quantitative\"}], \"x\": {\"field\": \"Year\", \"title\": \"Prepared Year\", \"type\": \"ordinal\"}, \"y\": {\"field\": \"count\", \"title\": \"Count\", \"type\": \"quantitative\"}}, \"height\": 250, \"width\": 400, \"$schema\": \"https://vega.github.io/schema/vega-lite/v4.17.0.json\", \"datasets\": {\"data-31e1800fed9d6d4d24d2e36a9cd2e284\": [{\"Year\": 2018.0, \"count\": 111, \"variable\": \"prepared_y\"}, {\"Year\": 2016.0, \"count\": 103, \"variable\": \"prepared_y\"}, {\"Year\": 2020.0, \"count\": 93, \"variable\": \"prepared_y\"}, {\"Year\": 2019.0, \"count\": 83, \"variable\": \"prepared_y\"}, {\"Year\": 2021.0, \"count\": 81, \"variable\": \"prepared_y\"}, {\"Year\": 2014.0, \"count\": 73, \"variable\": \"prepared_y\"}, {\"Year\": 2015.0, \"count\": 71, \"variable\": \"prepared_y\"}, {\"Year\": 2017.0, \"count\": 49, \"variable\": \"prepared_y\"}, {\"Year\": 2022.0, \"count\": 26, \"variable\": \"prepared_y\"}, {\"Year\": 2013.0, \"count\": 18, \"variable\": \"prepared_y\"}]}}, {\"mode\": \"vega-lite\"});\n",
       "</script>"
      ],
      "text/plain": [
       "alt.Chart(...)"
      ]
     },
     "metadata": {},
     "output_type": "display_data"
    }
   ],
   "source": [
    " #Line chart for Obligations by Year\n",
    "chart_df = (df_top>>filter(_.variable=='prepared_y')).rename(columns= {\"value\":\"Year\"})\n",
    "    \n",
    "chart1= (_dla_utils_reports.basic_line_chart_test_no_save(chart_df, 'Year', 'count', district)).encode(x=alt.X('Year:O', title='Prepared Year'))\n",
    "display(chart1)"
   ]
  },
  {
   "cell_type": "markdown",
   "id": "ff0a6bf9-ddc9-4b6c-b2e1-77de18cf6f80",
   "metadata": {
    "papermill": {
     "duration": 0.029019,
     "end_time": "2022-05-13T04:19:08.912339",
     "exception": false,
     "start_time": "2022-05-13T04:19:08.883320",
     "status": "completed"
    },
    "tags": []
   },
   "source": [
    "### Number of Unique Agencies by District"
   ]
  },
  {
   "cell_type": "code",
   "execution_count": 8,
   "id": "0bc7e34d-545e-4afd-92e9-a17630d0ae89",
   "metadata": {
    "execution": {
     "iopub.execute_input": "2022-05-13T04:19:08.963402Z",
     "iopub.status.busy": "2022-05-13T04:19:08.962471Z",
     "iopub.status.idle": "2022-05-13T04:19:09.013170Z",
     "shell.execute_reply": "2022-05-13T04:19:09.012453Z"
    },
    "jupyter": {
     "source_hidden": true
    },
    "papermill": {
     "duration": 0.078973,
     "end_time": "2022-05-13T04:19:09.015005",
     "exception": false,
     "start_time": "2022-05-13T04:19:08.936032",
     "status": "completed"
    },
    "tags": [
     "remove_input"
    ]
   },
   "outputs": [
    {
     "data": {
      "text/html": [
       "\n",
       "<div id=\"altair-viz-b1602a24a8b14954af0e72a18ebe41cb\"></div>\n",
       "<script type=\"text/javascript\">\n",
       "  var VEGA_DEBUG = (typeof VEGA_DEBUG == \"undefined\") ? {} : VEGA_DEBUG;\n",
       "  (function(spec, embedOpt){\n",
       "    let outputDiv = document.currentScript.previousElementSibling;\n",
       "    if (outputDiv.id !== \"altair-viz-b1602a24a8b14954af0e72a18ebe41cb\") {\n",
       "      outputDiv = document.getElementById(\"altair-viz-b1602a24a8b14954af0e72a18ebe41cb\");\n",
       "    }\n",
       "    const paths = {\n",
       "      \"vega\": \"https://cdn.jsdelivr.net/npm//vega@5?noext\",\n",
       "      \"vega-lib\": \"https://cdn.jsdelivr.net/npm//vega-lib?noext\",\n",
       "      \"vega-lite\": \"https://cdn.jsdelivr.net/npm//vega-lite@4.17.0?noext\",\n",
       "      \"vega-embed\": \"https://cdn.jsdelivr.net/npm//vega-embed@6?noext\",\n",
       "    };\n",
       "\n",
       "    function maybeLoadScript(lib, version) {\n",
       "      var key = `${lib.replace(\"-\", \"\")}_version`;\n",
       "      return (VEGA_DEBUG[key] == version) ?\n",
       "        Promise.resolve(paths[lib]) :\n",
       "        new Promise(function(resolve, reject) {\n",
       "          var s = document.createElement('script');\n",
       "          document.getElementsByTagName(\"head\")[0].appendChild(s);\n",
       "          s.async = true;\n",
       "          s.onload = () => {\n",
       "            VEGA_DEBUG[key] = version;\n",
       "            return resolve(paths[lib]);\n",
       "          };\n",
       "          s.onerror = () => reject(`Error loading script: ${paths[lib]}`);\n",
       "          s.src = paths[lib];\n",
       "        });\n",
       "    }\n",
       "\n",
       "    function showError(err) {\n",
       "      outputDiv.innerHTML = `<div class=\"error\" style=\"color:red;\">${err}</div>`;\n",
       "      throw err;\n",
       "    }\n",
       "\n",
       "    function displayChart(vegaEmbed) {\n",
       "      vegaEmbed(outputDiv, spec, embedOpt)\n",
       "        .catch(err => showError(`Javascript Error: ${err.message}<br>This usually means there's a typo in your chart specification. See the javascript console for the full traceback.`));\n",
       "    }\n",
       "\n",
       "    if(typeof define === \"function\" && define.amd) {\n",
       "      requirejs.config({paths});\n",
       "      require([\"vega-embed\"], displayChart, err => showError(`Error loading script: ${err.message}`));\n",
       "    } else {\n",
       "      maybeLoadScript(\"vega\", \"5\")\n",
       "        .then(() => maybeLoadScript(\"vega-lite\", \"4.17.0\"))\n",
       "        .then(() => maybeLoadScript(\"vega-embed\", \"6\"))\n",
       "        .catch(showError)\n",
       "        .then(() => displayChart(vegaEmbed));\n",
       "    }\n",
       "  })({\"config\": {\"view\": {\"continuousWidth\": 400, \"continuousHeight\": 300}, \"axis\": {\"domainColor\": \"#cbcbcb\", \"grid\": true, \"gridColor\": \"#cbcbcb\", \"gridWidth\": 1, \"labelColor\": \"#474747\", \"labelFont\": \"Nunito Sans\", \"labelFontSize\": 10, \"labelPadding\": 4, \"tickColor\": \"#cbcbcb\", \"tickSize\": 10, \"titleColor\": \"#333\", \"titleFont\": \"Raleway\", \"titleFontSize\": 12, \"titlePadding\": 10}, \"axisBand\": {\"grid\": false}, \"background\": \"white\", \"font\": \"Raleway\", \"header\": {\"labelFont\": \"Nunito Sans\", \"titleFont\": \"Raleway\"}, \"legend\": {\"labelColor\": \"#333\", \"labelFont\": \"Nunito Sans\", \"labelFontSize\": 11, \"labelLimit\": 0, \"padding\": 1, \"symbolSize\": 30, \"symbolType\": \"square\", \"titleColor\": \"#333\", \"titleFont\": \"Raleway\", \"titleFontSize\": 14, \"titlePadding\": 10}, \"title\": {\"anchor\": \"middle\", \"font\": \"Raleway\", \"fontSize\": 18, \"fontWeight\": 300, \"offset\": 20}}, \"data\": {\"name\": \"data-4d5e7d64e7482f2249a8f705826190ff\"}, \"mark\": \"bar\", \"encoding\": {\"color\": {\"field\": \"District\", \"legend\": {\"title\": \"Prepared Year\"}, \"scale\": {\"range\": [\"#B9D6DF\", \"#8CBCCB\", \"#2EA8CE\", \"#136C97\", \"#0B405B\"]}, \"type\": \"nominal\"}, \"column\": {\"field\": \"District\", \"type\": \"nominal\"}, \"tooltip\": [{\"field\": \"prepared_y\", \"type\": \"quantitative\"}, {\"field\": \"Count\", \"type\": \"quantitative\"}], \"x\": {\"field\": \"prepared_y\", \"title\": \"Prepared Year\", \"type\": \"ordinal\"}, \"y\": {\"field\": \"Count\", \"title\": \"Number of Unique Agencies\", \"type\": \"quantitative\"}}, \"height\": 250, \"width\": 400, \"$schema\": \"https://vega.github.io/schema/vega-lite/v4.17.0.json\", \"datasets\": {\"data-4d5e7d64e7482f2249a8f705826190ff\": [{\"prepared_y\": 2022.0, \"District\": 12, \"Count\": 11}, {\"prepared_y\": 2021.0, \"District\": 12, \"Count\": 19}, {\"prepared_y\": 2020.0, \"District\": 12, \"Count\": 16}, {\"prepared_y\": 2019.0, \"District\": 12, \"Count\": 21}, {\"prepared_y\": 2018.0, \"District\": 12, \"Count\": 28}, {\"prepared_y\": 2017.0, \"District\": 12, \"Count\": 13}, {\"prepared_y\": 2016.0, \"District\": 12, \"Count\": 29}, {\"prepared_y\": 2015.0, \"District\": 12, \"Count\": 18}, {\"prepared_y\": 2014.0, \"District\": 12, \"Count\": 25}, {\"prepared_y\": 2013.0, \"District\": 12, \"Count\": 9}]}}, {\"mode\": \"vega-lite\"});\n",
       "</script>"
      ],
      "text/plain": [
       "alt.Chart(...)"
      ]
     },
     "metadata": {},
     "output_type": "display_data"
    }
   ],
   "source": [
    "# Unique Agencies by Dist\n",
    "dist_years_agency = ((\n",
    "        df\n",
    "        >> group_by(_.prepared_y, _.dist)\n",
    "        >> summarize(n=_.primary_agency_name.nunique())\n",
    "        >> arrange(-_.prepared_y)\n",
    "    )\n",
    "        .rename(columns={'dist':'District', 'n':'Count'})\n",
    "    )\n",
    "chart10 = (alt.Chart(dist_years_agency).mark_bar().encode(\n",
    "        column='District:N',\n",
    "        x=alt.X('prepared_y:O', title='Prepared Year'),\n",
    "        y=alt.Y('Count:Q', title='Number of Unique Agencies'),\n",
    "        color = alt.Color(\"District:N\", \n",
    "                              scale=alt.Scale(\n",
    "                                  range=altair_utils.CALITP_SEQUENTIAL_COLORS),  \n",
    "                               legend=alt.Legend(title=\"Prepared Year\")\n",
    "                              )))\n",
    "                              \n",
    "chart10 = styleguide.preset_chart_config(chart10)\n",
    "chart10 = _dla_utils_reports.add_tooltip(chart10, 'prepared_y', 'Count')\n",
    "\n",
    "display(chart10)"
   ]
  },
  {
   "cell_type": "markdown",
   "id": "70c59c39-590d-4136-aa09-ee6ed5afc872",
   "metadata": {
    "papermill": {
     "duration": 0.026396,
     "end_time": "2022-05-13T04:19:09.066350",
     "exception": false,
     "start_time": "2022-05-13T04:19:09.039954",
     "status": "completed"
    },
    "tags": []
   },
   "source": [
    "### Agencies With The Most Obligations"
   ]
  },
  {
   "cell_type": "code",
   "execution_count": 9,
   "id": "faa4758e-8a41-44f8-aec4-b8cc4d75d906",
   "metadata": {
    "execution": {
     "iopub.execute_input": "2022-05-13T04:19:09.125194Z",
     "iopub.status.busy": "2022-05-13T04:19:09.124290Z",
     "iopub.status.idle": "2022-05-13T04:19:09.154922Z",
     "shell.execute_reply": "2022-05-13T04:19:09.154222Z"
    },
    "jupyter": {
     "source_hidden": true
    },
    "papermill": {
     "duration": 0.065471,
     "end_time": "2022-05-13T04:19:09.156683",
     "exception": false,
     "start_time": "2022-05-13T04:19:09.091212",
     "status": "completed"
    },
    "tags": [
     "remove_input"
    ]
   },
   "outputs": [
    {
     "data": {
      "text/html": [
       "\n",
       "<div id=\"altair-viz-e99bb9ee33c24896b044ff7a241de22c\"></div>\n",
       "<script type=\"text/javascript\">\n",
       "  var VEGA_DEBUG = (typeof VEGA_DEBUG == \"undefined\") ? {} : VEGA_DEBUG;\n",
       "  (function(spec, embedOpt){\n",
       "    let outputDiv = document.currentScript.previousElementSibling;\n",
       "    if (outputDiv.id !== \"altair-viz-e99bb9ee33c24896b044ff7a241de22c\") {\n",
       "      outputDiv = document.getElementById(\"altair-viz-e99bb9ee33c24896b044ff7a241de22c\");\n",
       "    }\n",
       "    const paths = {\n",
       "      \"vega\": \"https://cdn.jsdelivr.net/npm//vega@5?noext\",\n",
       "      \"vega-lib\": \"https://cdn.jsdelivr.net/npm//vega-lib?noext\",\n",
       "      \"vega-lite\": \"https://cdn.jsdelivr.net/npm//vega-lite@4.17.0?noext\",\n",
       "      \"vega-embed\": \"https://cdn.jsdelivr.net/npm//vega-embed@6?noext\",\n",
       "    };\n",
       "\n",
       "    function maybeLoadScript(lib, version) {\n",
       "      var key = `${lib.replace(\"-\", \"\")}_version`;\n",
       "      return (VEGA_DEBUG[key] == version) ?\n",
       "        Promise.resolve(paths[lib]) :\n",
       "        new Promise(function(resolve, reject) {\n",
       "          var s = document.createElement('script');\n",
       "          document.getElementsByTagName(\"head\")[0].appendChild(s);\n",
       "          s.async = true;\n",
       "          s.onload = () => {\n",
       "            VEGA_DEBUG[key] = version;\n",
       "            return resolve(paths[lib]);\n",
       "          };\n",
       "          s.onerror = () => reject(`Error loading script: ${paths[lib]}`);\n",
       "          s.src = paths[lib];\n",
       "        });\n",
       "    }\n",
       "\n",
       "    function showError(err) {\n",
       "      outputDiv.innerHTML = `<div class=\"error\" style=\"color:red;\">${err}</div>`;\n",
       "      throw err;\n",
       "    }\n",
       "\n",
       "    function displayChart(vegaEmbed) {\n",
       "      vegaEmbed(outputDiv, spec, embedOpt)\n",
       "        .catch(err => showError(`Javascript Error: ${err.message}<br>This usually means there's a typo in your chart specification. See the javascript console for the full traceback.`));\n",
       "    }\n",
       "\n",
       "    if(typeof define === \"function\" && define.amd) {\n",
       "      requirejs.config({paths});\n",
       "      require([\"vega-embed\"], displayChart, err => showError(`Error loading script: ${err.message}`));\n",
       "    } else {\n",
       "      maybeLoadScript(\"vega\", \"5\")\n",
       "        .then(() => maybeLoadScript(\"vega-lite\", \"4.17.0\"))\n",
       "        .then(() => maybeLoadScript(\"vega-embed\", \"6\"))\n",
       "        .catch(showError)\n",
       "        .then(() => displayChart(vegaEmbed));\n",
       "    }\n",
       "  })({\"config\": {\"view\": {\"continuousWidth\": 400, \"continuousHeight\": 300}, \"axis\": {\"domainColor\": \"#cbcbcb\", \"grid\": true, \"gridColor\": \"#cbcbcb\", \"gridWidth\": 1, \"labelColor\": \"#474747\", \"labelFont\": \"Nunito Sans\", \"labelFontSize\": 10, \"labelPadding\": 4, \"tickColor\": \"#cbcbcb\", \"tickSize\": 10, \"titleColor\": \"#333\", \"titleFont\": \"Raleway\", \"titleFontSize\": 12, \"titlePadding\": 10}, \"axisBand\": {\"grid\": false}, \"background\": \"white\", \"font\": \"Raleway\", \"header\": {\"labelFont\": \"Nunito Sans\", \"titleFont\": \"Raleway\"}, \"legend\": {\"labelColor\": \"#333\", \"labelFont\": \"Nunito Sans\", \"labelFontSize\": 11, \"labelLimit\": 0, \"padding\": 1, \"symbolSize\": 30, \"symbolType\": \"square\", \"titleColor\": \"#333\", \"titleFont\": \"Raleway\", \"titleFontSize\": 14, \"titlePadding\": 10}, \"title\": {\"anchor\": \"middle\", \"font\": \"Raleway\", \"fontSize\": 18, \"fontWeight\": 300, \"offset\": 20}}, \"data\": {\"name\": \"data-d5eb78c166e1ff6bb8ab7e48e1f54734\"}, \"mark\": \"bar\", \"encoding\": {\"color\": {\"field\": \"Agency\", \"legend\": {\"symbolLimit\": 10, \"title\": \"Agency\"}, \"scale\": {\"range\": [\"#2EA8CE\", \"#EB9F3C\", \"#F4D837\", \"#51BF9D\", \"#8CBCCB\", \"#9487C0\"]}, \"type\": \"nominal\"}, \"tooltip\": [{\"field\": \"Agency\", \"type\": \"nominal\"}, {\"field\": \"Number of Obligations\", \"type\": \"quantitative\"}], \"x\": {\"field\": \"Agency\", \"sort\": \"-y\", \"title\": \"Agency\", \"type\": \"nominal\"}, \"y\": {\"field\": \"Number of Obligations\", \"title\": \"Number Of Obligations\", \"type\": \"quantitative\"}}, \"height\": 250, \"width\": 400, \"$schema\": \"https://vega.github.io/schema/vega-lite/v4.17.0.json\", \"datasets\": {\"data-d5eb78c166e1ff6bb8ab7e48e1f54734\": [{\"Agency\": \"Santa Ana\", \"Number of Obligations\": 101, \"variable\": \"primary_agency_name\"}, {\"Agency\": \"Orange County Transportation Authority\", \"Number of Obligations\": 97, \"variable\": \"primary_agency_name\"}, {\"Agency\": \"Orange\", \"Number of Obligations\": 64, \"variable\": \"primary_agency_name\"}, {\"Agency\": \"Huntington Beach\", \"Number of Obligations\": 62, \"variable\": \"primary_agency_name\"}, {\"Agency\": \"Orange County\", \"Number of Obligations\": 49, \"variable\": \"primary_agency_name\"}, {\"Agency\": \"Costa Mesa\", \"Number of Obligations\": 45, \"variable\": \"primary_agency_name\"}, {\"Agency\": \"Anaheim\", \"Number of Obligations\": 42, \"variable\": \"primary_agency_name\"}, {\"Agency\": \"Garden Grove\", \"Number of Obligations\": 34, \"variable\": \"primary_agency_name\"}, {\"Agency\": \"Irvine\", \"Number of Obligations\": 20, \"variable\": \"primary_agency_name\"}, {\"Agency\": \"Fullerton\", \"Number of Obligations\": 17, \"variable\": \"primary_agency_name\"}, {\"Agency\": \"Brea\", \"Number of Obligations\": 16, \"variable\": \"primary_agency_name\"}, {\"Agency\": \"Westminster\", \"Number of Obligations\": 16, \"variable\": \"primary_agency_name\"}, {\"Agency\": \"Caltrans\", \"Number of Obligations\": 15, \"variable\": \"primary_agency_name\"}, {\"Agency\": \"Mission Viejo\", \"Number of Obligations\": 15, \"variable\": \"primary_agency_name\"}, {\"Agency\": \"Newport Beach\", \"Number of Obligations\": 13, \"variable\": \"primary_agency_name\"}, {\"Agency\": \"Rancho Santa Margarita\", \"Number of Obligations\": 11, \"variable\": \"primary_agency_name\"}, {\"Agency\": \"La Habra\", \"Number of Obligations\": 10, \"variable\": \"primary_agency_name\"}, {\"Agency\": \"Placentia\", \"Number of Obligations\": 10, \"variable\": \"primary_agency_name\"}, {\"Agency\": \"San Juan Capistrano\", \"Number of Obligations\": 9, \"variable\": \"primary_agency_name\"}, {\"Agency\": \"Seal Beach\", \"Number of Obligations\": 9, \"variable\": \"primary_agency_name\"}]}}, {\"mode\": \"vega-lite\"});\n",
       "</script>"
      ],
      "text/plain": [
       "alt.Chart(...)"
      ]
     },
     "metadata": {},
     "output_type": "display_data"
    }
   ],
   "source": [
    "#Bar chart Agencies With The Most Obligations\n",
    "chart_df = (df_top>>filter(_.variable=='primary_agency_name')).rename(columns={\"value\":\"Agency\",\n",
    "                                 \"count\":\"Number of Obligations\"})\n",
    "chart2 = (_dla_utils_reports.basic_bar_chart_no_save(chart_df, 'Agency', 'Number of Obligations', 'Agency', district))\n",
    "    \n",
    "\n",
    "display(chart2)\n"
   ]
  },
  {
   "cell_type": "markdown",
   "id": "5a3bed5f-4325-47af-9cc7-683f9872817f",
   "metadata": {
    "papermill": {
     "duration": 0.030379,
     "end_time": "2022-05-13T04:19:09.213105",
     "exception": false,
     "start_time": "2022-05-13T04:19:09.182726",
     "status": "completed"
    },
    "tags": []
   },
   "source": [
    "## Prefix Codes"
   ]
  },
  {
   "cell_type": "markdown",
   "id": "cfded756-3c93-4089-be41-68e19d28b304",
   "metadata": {
    "papermill": {
     "duration": 0.024939,
     "end_time": "2022-05-13T04:19:09.263029",
     "exception": false,
     "start_time": "2022-05-13T04:19:09.238090",
     "status": "completed"
    },
    "tags": []
   },
   "source": [
    "Prefix Codes refer to the program an obligation is in. Similar to the number of obligations, calcuating the unique prefix codes provides insight to how many progams DLA is involved in each year as well as workload at the district and organization level.\n",
    "\n",
    "Metrics: \n",
    "* Number of Unique Prefix Codes by Districts\n",
    "* Most Used Prefix Codes\n",
    "* Agencies With The Most Unique Prefix Codes"
   ]
  },
  {
   "cell_type": "markdown",
   "id": "f8cb2832-947d-4631-9b4c-c81fb118cab3",
   "metadata": {
    "papermill": {
     "duration": 0.026432,
     "end_time": "2022-05-13T04:19:09.315679",
     "exception": false,
     "start_time": "2022-05-13T04:19:09.289247",
     "status": "completed"
    },
    "tags": []
   },
   "source": [
    "### Number of Unique Prefix Codes by District"
   ]
  },
  {
   "cell_type": "code",
   "execution_count": 10,
   "id": "f661bd63-f8aa-4048-b035-03d5bf1b7e95",
   "metadata": {
    "execution": {
     "iopub.execute_input": "2022-05-13T04:19:09.370734Z",
     "iopub.status.busy": "2022-05-13T04:19:09.369878Z",
     "iopub.status.idle": "2022-05-13T04:19:09.421599Z",
     "shell.execute_reply": "2022-05-13T04:19:09.421026Z"
    },
    "jupyter": {
     "source_hidden": true
    },
    "papermill": {
     "duration": 0.082262,
     "end_time": "2022-05-13T04:19:09.423427",
     "exception": false,
     "start_time": "2022-05-13T04:19:09.341165",
     "status": "completed"
    },
    "tags": [
     "remove_input"
    ]
   },
   "outputs": [
    {
     "data": {
      "text/html": [
       "\n",
       "<div id=\"altair-viz-50e72daf187042e3af9f63f011ff2b4d\"></div>\n",
       "<script type=\"text/javascript\">\n",
       "  var VEGA_DEBUG = (typeof VEGA_DEBUG == \"undefined\") ? {} : VEGA_DEBUG;\n",
       "  (function(spec, embedOpt){\n",
       "    let outputDiv = document.currentScript.previousElementSibling;\n",
       "    if (outputDiv.id !== \"altair-viz-50e72daf187042e3af9f63f011ff2b4d\") {\n",
       "      outputDiv = document.getElementById(\"altair-viz-50e72daf187042e3af9f63f011ff2b4d\");\n",
       "    }\n",
       "    const paths = {\n",
       "      \"vega\": \"https://cdn.jsdelivr.net/npm//vega@5?noext\",\n",
       "      \"vega-lib\": \"https://cdn.jsdelivr.net/npm//vega-lib?noext\",\n",
       "      \"vega-lite\": \"https://cdn.jsdelivr.net/npm//vega-lite@4.17.0?noext\",\n",
       "      \"vega-embed\": \"https://cdn.jsdelivr.net/npm//vega-embed@6?noext\",\n",
       "    };\n",
       "\n",
       "    function maybeLoadScript(lib, version) {\n",
       "      var key = `${lib.replace(\"-\", \"\")}_version`;\n",
       "      return (VEGA_DEBUG[key] == version) ?\n",
       "        Promise.resolve(paths[lib]) :\n",
       "        new Promise(function(resolve, reject) {\n",
       "          var s = document.createElement('script');\n",
       "          document.getElementsByTagName(\"head\")[0].appendChild(s);\n",
       "          s.async = true;\n",
       "          s.onload = () => {\n",
       "            VEGA_DEBUG[key] = version;\n",
       "            return resolve(paths[lib]);\n",
       "          };\n",
       "          s.onerror = () => reject(`Error loading script: ${paths[lib]}`);\n",
       "          s.src = paths[lib];\n",
       "        });\n",
       "    }\n",
       "\n",
       "    function showError(err) {\n",
       "      outputDiv.innerHTML = `<div class=\"error\" style=\"color:red;\">${err}</div>`;\n",
       "      throw err;\n",
       "    }\n",
       "\n",
       "    function displayChart(vegaEmbed) {\n",
       "      vegaEmbed(outputDiv, spec, embedOpt)\n",
       "        .catch(err => showError(`Javascript Error: ${err.message}<br>This usually means there's a typo in your chart specification. See the javascript console for the full traceback.`));\n",
       "    }\n",
       "\n",
       "    if(typeof define === \"function\" && define.amd) {\n",
       "      requirejs.config({paths});\n",
       "      require([\"vega-embed\"], displayChart, err => showError(`Error loading script: ${err.message}`));\n",
       "    } else {\n",
       "      maybeLoadScript(\"vega\", \"5\")\n",
       "        .then(() => maybeLoadScript(\"vega-lite\", \"4.17.0\"))\n",
       "        .then(() => maybeLoadScript(\"vega-embed\", \"6\"))\n",
       "        .catch(showError)\n",
       "        .then(() => displayChart(vegaEmbed));\n",
       "    }\n",
       "  })({\"config\": {\"view\": {\"continuousWidth\": 400, \"continuousHeight\": 300}, \"axis\": {\"domainColor\": \"#cbcbcb\", \"grid\": true, \"gridColor\": \"#cbcbcb\", \"gridWidth\": 1, \"labelColor\": \"#474747\", \"labelFont\": \"Nunito Sans\", \"labelFontSize\": 10, \"labelPadding\": 4, \"tickColor\": \"#cbcbcb\", \"tickSize\": 10, \"titleColor\": \"#333\", \"titleFont\": \"Raleway\", \"titleFontSize\": 12, \"titlePadding\": 10}, \"axisBand\": {\"grid\": false}, \"background\": \"white\", \"font\": \"Raleway\", \"header\": {\"labelFont\": \"Nunito Sans\", \"titleFont\": \"Raleway\"}, \"legend\": {\"labelColor\": \"#333\", \"labelFont\": \"Nunito Sans\", \"labelFontSize\": 11, \"labelLimit\": 0, \"padding\": 1, \"symbolSize\": 30, \"symbolType\": \"square\", \"titleColor\": \"#333\", \"titleFont\": \"Raleway\", \"titleFontSize\": 14, \"titlePadding\": 10}, \"title\": {\"anchor\": \"middle\", \"font\": \"Raleway\", \"fontSize\": 18, \"fontWeight\": 300, \"offset\": 20}}, \"data\": {\"name\": \"data-06d30f80c06890246325ec5bec2918a3\"}, \"mark\": \"bar\", \"encoding\": {\"color\": {\"field\": \"District\", \"legend\": {\"title\": \"District\"}, \"scale\": {\"range\": [\"#B9D6DF\", \"#8CBCCB\", \"#2EA8CE\", \"#136C97\", \"#0B405B\"]}, \"type\": \"nominal\"}, \"column\": {\"field\": \"District\", \"type\": \"nominal\"}, \"tooltip\": [{\"field\": \"prepared_y\", \"type\": \"quantitative\"}, {\"field\": \"Count\", \"type\": \"quantitative\"}], \"x\": {\"field\": \"prepared_y\", \"title\": \"Prepared Year\", \"type\": \"ordinal\"}, \"y\": {\"field\": \"Count\", \"title\": \"Number of Unique Agencies\", \"type\": \"quantitative\"}}, \"height\": 250, \"width\": 400, \"$schema\": \"https://vega.github.io/schema/vega-lite/v4.17.0.json\", \"datasets\": {\"data-06d30f80c06890246325ec5bec2918a3\": [{\"prepared_y\": 2022.0, \"District\": 12, \"Count\": 9}, {\"prepared_y\": 2021.0, \"District\": 12, \"Count\": 19}, {\"prepared_y\": 2020.0, \"District\": 12, \"Count\": 19}, {\"prepared_y\": 2019.0, \"District\": 12, \"Count\": 18}, {\"prepared_y\": 2018.0, \"District\": 12, \"Count\": 19}, {\"prepared_y\": 2017.0, \"District\": 12, \"Count\": 15}, {\"prepared_y\": 2016.0, \"District\": 12, \"Count\": 16}, {\"prepared_y\": 2015.0, \"District\": 12, \"Count\": 16}, {\"prepared_y\": 2014.0, \"District\": 12, \"Count\": 17}, {\"prepared_y\": 2013.0, \"District\": 12, \"Count\": 9}]}}, {\"mode\": \"vega-lite\"});\n",
       "</script>"
      ],
      "text/plain": [
       "alt.Chart(...)"
      ]
     },
     "metadata": {},
     "output_type": "display_data"
    }
   ],
   "source": [
    "#Unique Prefixes by Dist\n",
    "dist_years_prefix = ((\n",
    "        df\n",
    "        >> group_by(_.prepared_y, _.dist)\n",
    "        >> summarize(n=_.prefix.nunique())\n",
    "        >> arrange(-_.prepared_y)\n",
    "    ).rename(columns={'dist':'District', 'n':'Count'}))\n",
    "\n",
    "chart11 = (alt.Chart(dist_years_prefix).mark_bar().encode(\n",
    "        column='District:N',\n",
    "        x=alt.X('prepared_y:O', title='Prepared Year'),\n",
    "        y=alt.Y('Count:Q', title='Number of Unique Agencies'),\n",
    "        color = alt.Color(\"District:N\", \n",
    "                              scale=alt.Scale(\n",
    "                                  range=altair_utils.CALITP_SEQUENTIAL_COLORS),  \n",
    "                               legend=alt.Legend(title=\"District\")\n",
    "                              )\n",
    "                              ))\n",
    "chart11 = styleguide.preset_chart_config(chart11)\n",
    "chart11 = _dla_utils_reports.add_tooltip(chart11, 'prepared_y','Count')\n",
    "    \n",
    "\n",
    "display(chart11)"
   ]
  },
  {
   "cell_type": "markdown",
   "id": "c52b3650-9c49-4ab9-a72d-52ecf36d4b7a",
   "metadata": {
    "papermill": {
     "duration": 0.026554,
     "end_time": "2022-05-13T04:19:09.475562",
     "exception": false,
     "start_time": "2022-05-13T04:19:09.449008",
     "status": "completed"
    },
    "tags": []
   },
   "source": [
    "## Most Used Prefix Codes"
   ]
  },
  {
   "cell_type": "code",
   "execution_count": 11,
   "id": "0aca2d9a-062a-4c12-9489-5f9de10f3462",
   "metadata": {
    "execution": {
     "iopub.execute_input": "2022-05-13T04:19:09.529743Z",
     "iopub.status.busy": "2022-05-13T04:19:09.529224Z",
     "iopub.status.idle": "2022-05-13T04:19:09.561190Z",
     "shell.execute_reply": "2022-05-13T04:19:09.560483Z"
    },
    "jupyter": {
     "source_hidden": true
    },
    "papermill": {
     "duration": 0.061411,
     "end_time": "2022-05-13T04:19:09.563064",
     "exception": false,
     "start_time": "2022-05-13T04:19:09.501653",
     "status": "completed"
    },
    "tags": [
     "remove_input"
    ]
   },
   "outputs": [
    {
     "data": {
      "text/html": [
       "\n",
       "<div id=\"altair-viz-f66eac71dcc64e60b73173da1001bddc\"></div>\n",
       "<script type=\"text/javascript\">\n",
       "  var VEGA_DEBUG = (typeof VEGA_DEBUG == \"undefined\") ? {} : VEGA_DEBUG;\n",
       "  (function(spec, embedOpt){\n",
       "    let outputDiv = document.currentScript.previousElementSibling;\n",
       "    if (outputDiv.id !== \"altair-viz-f66eac71dcc64e60b73173da1001bddc\") {\n",
       "      outputDiv = document.getElementById(\"altair-viz-f66eac71dcc64e60b73173da1001bddc\");\n",
       "    }\n",
       "    const paths = {\n",
       "      \"vega\": \"https://cdn.jsdelivr.net/npm//vega@5?noext\",\n",
       "      \"vega-lib\": \"https://cdn.jsdelivr.net/npm//vega-lib?noext\",\n",
       "      \"vega-lite\": \"https://cdn.jsdelivr.net/npm//vega-lite@4.17.0?noext\",\n",
       "      \"vega-embed\": \"https://cdn.jsdelivr.net/npm//vega-embed@6?noext\",\n",
       "    };\n",
       "\n",
       "    function maybeLoadScript(lib, version) {\n",
       "      var key = `${lib.replace(\"-\", \"\")}_version`;\n",
       "      return (VEGA_DEBUG[key] == version) ?\n",
       "        Promise.resolve(paths[lib]) :\n",
       "        new Promise(function(resolve, reject) {\n",
       "          var s = document.createElement('script');\n",
       "          document.getElementsByTagName(\"head\")[0].appendChild(s);\n",
       "          s.async = true;\n",
       "          s.onload = () => {\n",
       "            VEGA_DEBUG[key] = version;\n",
       "            return resolve(paths[lib]);\n",
       "          };\n",
       "          s.onerror = () => reject(`Error loading script: ${paths[lib]}`);\n",
       "          s.src = paths[lib];\n",
       "        });\n",
       "    }\n",
       "\n",
       "    function showError(err) {\n",
       "      outputDiv.innerHTML = `<div class=\"error\" style=\"color:red;\">${err}</div>`;\n",
       "      throw err;\n",
       "    }\n",
       "\n",
       "    function displayChart(vegaEmbed) {\n",
       "      vegaEmbed(outputDiv, spec, embedOpt)\n",
       "        .catch(err => showError(`Javascript Error: ${err.message}<br>This usually means there's a typo in your chart specification. See the javascript console for the full traceback.`));\n",
       "    }\n",
       "\n",
       "    if(typeof define === \"function\" && define.amd) {\n",
       "      requirejs.config({paths});\n",
       "      require([\"vega-embed\"], displayChart, err => showError(`Error loading script: ${err.message}`));\n",
       "    } else {\n",
       "      maybeLoadScript(\"vega\", \"5\")\n",
       "        .then(() => maybeLoadScript(\"vega-lite\", \"4.17.0\"))\n",
       "        .then(() => maybeLoadScript(\"vega-embed\", \"6\"))\n",
       "        .catch(showError)\n",
       "        .then(() => displayChart(vegaEmbed));\n",
       "    }\n",
       "  })({\"config\": {\"view\": {\"continuousWidth\": 400, \"continuousHeight\": 300}, \"axis\": {\"domainColor\": \"#cbcbcb\", \"grid\": true, \"gridColor\": \"#cbcbcb\", \"gridWidth\": 1, \"labelColor\": \"#474747\", \"labelFont\": \"Nunito Sans\", \"labelFontSize\": 10, \"labelPadding\": 4, \"tickColor\": \"#cbcbcb\", \"tickSize\": 10, \"titleColor\": \"#333\", \"titleFont\": \"Raleway\", \"titleFontSize\": 12, \"titlePadding\": 10}, \"axisBand\": {\"grid\": false}, \"background\": \"white\", \"font\": \"Raleway\", \"header\": {\"labelFont\": \"Nunito Sans\", \"titleFont\": \"Raleway\"}, \"legend\": {\"labelColor\": \"#333\", \"labelFont\": \"Nunito Sans\", \"labelFontSize\": 11, \"labelLimit\": 0, \"padding\": 1, \"symbolSize\": 30, \"symbolType\": \"square\", \"titleColor\": \"#333\", \"titleFont\": \"Raleway\", \"titleFontSize\": 14, \"titlePadding\": 10}, \"title\": {\"anchor\": \"middle\", \"font\": \"Raleway\", \"fontSize\": 18, \"fontWeight\": 300, \"offset\": 20}}, \"data\": {\"name\": \"data-ad3891bf0808a819f8dde828278fcf55\"}, \"mark\": \"bar\", \"encoding\": {\"color\": {\"field\": \"Prefix\", \"legend\": {\"symbolLimit\": 10, \"title\": \"Prefix\"}, \"scale\": {\"range\": [\"#2EA8CE\", \"#EB9F3C\", \"#F4D837\", \"#51BF9D\", \"#8CBCCB\", \"#9487C0\"]}, \"type\": \"nominal\"}, \"tooltip\": [{\"field\": \"Prefix\", \"type\": \"nominal\"}, {\"field\": \"Number of Obligations\", \"type\": \"quantitative\"}], \"x\": {\"field\": \"Prefix\", \"sort\": \"-y\", \"title\": \"Prefix\", \"type\": \"nominal\"}, \"y\": {\"field\": \"Number of Obligations\", \"title\": \"Number Of Obligations\", \"type\": \"quantitative\"}}, \"height\": 250, \"width\": 400, \"$schema\": \"https://vega.github.io/schema/vega-lite/v4.17.0.json\", \"datasets\": {\"data-ad3891bf0808a819f8dde828278fcf55\": [{\"Prefix\": \"HSIPL\", \"Number of Obligations\": 245, \"variable\": \"prefix\"}, {\"Prefix\": \"STPL\", \"Number of Obligations\": 100, \"variable\": \"prefix\"}, {\"Prefix\": \"CML\", \"Number of Obligations\": 77, \"variable\": \"prefix\"}, {\"Prefix\": \"STPLN\", \"Number of Obligations\": 38, \"variable\": \"prefix\"}, {\"Prefix\": \"BPMPL\", \"Number of Obligations\": 29, \"variable\": \"prefix\"}, {\"Prefix\": \"CMLN\", \"Number of Obligations\": 27, \"variable\": \"prefix\"}, {\"Prefix\": \"FTACML\", \"Number of Obligations\": 24, \"variable\": \"prefix\"}, {\"Prefix\": \"RPSTPL\", \"Number of Obligations\": 24, \"variable\": \"prefix\"}, {\"Prefix\": \"SRTSL\", \"Number of Obligations\": 21, \"variable\": \"prefix\"}, {\"Prefix\": \"ATPL\", \"Number of Obligations\": 17, \"variable\": \"prefix\"}, {\"Prefix\": \"BRLS\", \"Number of Obligations\": 12, \"variable\": \"prefix\"}, {\"Prefix\": \"BRLO\", \"Number of Obligations\": 11, \"variable\": \"prefix\"}, {\"Prefix\": \"ATPCML\", \"Number of Obligations\": 6, \"variable\": \"prefix\"}, {\"Prefix\": \"CMHPLULN\", \"Number of Obligations\": 6, \"variable\": \"prefix\"}, {\"Prefix\": \"CMSTPLN\", \"Number of Obligations\": 5, \"variable\": \"prefix\"}, {\"Prefix\": \"HP21L\", \"Number of Obligations\": 5, \"variable\": \"prefix\"}, {\"Prefix\": \"HRRRL\", \"Number of Obligations\": 5, \"variable\": \"prefix\"}, {\"Prefix\": \"ATPSB1L\", \"Number of Obligations\": 4, \"variable\": \"prefix\"}, {\"Prefix\": \"PNRSCML\", \"Number of Obligations\": 4, \"variable\": \"prefix\"}, {\"Prefix\": \"SRTSLNI\", \"Number of Obligations\": 4, \"variable\": \"prefix\"}]}}, {\"mode\": \"vega-lite\"});\n",
       "</script>"
      ],
      "text/plain": [
       "alt.Chart(...)"
      ]
     },
     "metadata": {},
     "output_type": "display_data"
    }
   ],
   "source": [
    "#Bar chart with the Most Used Prefix Counts\n",
    "chart_df = (df_top>>filter(_.variable=='prefix')).rename(columns={\"value\":\"Prefix\",\n",
    "                                 \"count\":\"Number of Obligations\"})\n",
    "chart9= (_dla_utils_reports.basic_bar_chart_no_save(chart_df, 'Prefix', 'Number of Obligations', 'Prefix', district))\n",
    "    \n",
    "\n",
    "display(chart9)\n",
    "    "
   ]
  },
  {
   "cell_type": "markdown",
   "id": "46030e63-c1ae-4834-b538-b09937074207",
   "metadata": {
    "papermill": {
     "duration": 0.030811,
     "end_time": "2022-05-13T04:19:09.622050",
     "exception": false,
     "start_time": "2022-05-13T04:19:09.591239",
     "status": "completed"
    },
    "tags": []
   },
   "source": [
    "## Agencies With The Most Unique Prefix Codes"
   ]
  },
  {
   "cell_type": "code",
   "execution_count": 12,
   "id": "3d21c9b2-833b-463a-9a03-a9c83d727d2e",
   "metadata": {
    "execution": {
     "iopub.execute_input": "2022-05-13T04:19:09.680963Z",
     "iopub.status.busy": "2022-05-13T04:19:09.680471Z",
     "iopub.status.idle": "2022-05-13T04:19:09.742079Z",
     "shell.execute_reply": "2022-05-13T04:19:09.741345Z"
    },
    "jupyter": {
     "source_hidden": true
    },
    "papermill": {
     "duration": 0.095766,
     "end_time": "2022-05-13T04:19:09.743956",
     "exception": false,
     "start_time": "2022-05-13T04:19:09.648190",
     "status": "completed"
    },
    "tags": [
     "remove_input"
    ]
   },
   "outputs": [
    {
     "data": {
      "text/html": [
       "\n",
       "<div id=\"altair-viz-b76bcaca65c1452fa584a672cf80e90b\"></div>\n",
       "<script type=\"text/javascript\">\n",
       "  var VEGA_DEBUG = (typeof VEGA_DEBUG == \"undefined\") ? {} : VEGA_DEBUG;\n",
       "  (function(spec, embedOpt){\n",
       "    let outputDiv = document.currentScript.previousElementSibling;\n",
       "    if (outputDiv.id !== \"altair-viz-b76bcaca65c1452fa584a672cf80e90b\") {\n",
       "      outputDiv = document.getElementById(\"altair-viz-b76bcaca65c1452fa584a672cf80e90b\");\n",
       "    }\n",
       "    const paths = {\n",
       "      \"vega\": \"https://cdn.jsdelivr.net/npm//vega@5?noext\",\n",
       "      \"vega-lib\": \"https://cdn.jsdelivr.net/npm//vega-lib?noext\",\n",
       "      \"vega-lite\": \"https://cdn.jsdelivr.net/npm//vega-lite@4.17.0?noext\",\n",
       "      \"vega-embed\": \"https://cdn.jsdelivr.net/npm//vega-embed@6?noext\",\n",
       "    };\n",
       "\n",
       "    function maybeLoadScript(lib, version) {\n",
       "      var key = `${lib.replace(\"-\", \"\")}_version`;\n",
       "      return (VEGA_DEBUG[key] == version) ?\n",
       "        Promise.resolve(paths[lib]) :\n",
       "        new Promise(function(resolve, reject) {\n",
       "          var s = document.createElement('script');\n",
       "          document.getElementsByTagName(\"head\")[0].appendChild(s);\n",
       "          s.async = true;\n",
       "          s.onload = () => {\n",
       "            VEGA_DEBUG[key] = version;\n",
       "            return resolve(paths[lib]);\n",
       "          };\n",
       "          s.onerror = () => reject(`Error loading script: ${paths[lib]}`);\n",
       "          s.src = paths[lib];\n",
       "        });\n",
       "    }\n",
       "\n",
       "    function showError(err) {\n",
       "      outputDiv.innerHTML = `<div class=\"error\" style=\"color:red;\">${err}</div>`;\n",
       "      throw err;\n",
       "    }\n",
       "\n",
       "    function displayChart(vegaEmbed) {\n",
       "      vegaEmbed(outputDiv, spec, embedOpt)\n",
       "        .catch(err => showError(`Javascript Error: ${err.message}<br>This usually means there's a typo in your chart specification. See the javascript console for the full traceback.`));\n",
       "    }\n",
       "\n",
       "    if(typeof define === \"function\" && define.amd) {\n",
       "      requirejs.config({paths});\n",
       "      require([\"vega-embed\"], displayChart, err => showError(`Error loading script: ${err.message}`));\n",
       "    } else {\n",
       "      maybeLoadScript(\"vega\", \"5\")\n",
       "        .then(() => maybeLoadScript(\"vega-lite\", \"4.17.0\"))\n",
       "        .then(() => maybeLoadScript(\"vega-embed\", \"6\"))\n",
       "        .catch(showError)\n",
       "        .then(() => displayChart(vegaEmbed));\n",
       "    }\n",
       "  })({\"config\": {\"view\": {\"continuousWidth\": 400, \"continuousHeight\": 300}, \"axis\": {\"domainColor\": \"#cbcbcb\", \"grid\": true, \"gridColor\": \"#cbcbcb\", \"gridWidth\": 1, \"labelColor\": \"#474747\", \"labelFont\": \"Nunito Sans\", \"labelFontSize\": 10, \"labelPadding\": 4, \"tickColor\": \"#cbcbcb\", \"tickSize\": 10, \"titleColor\": \"#333\", \"titleFont\": \"Raleway\", \"titleFontSize\": 12, \"titlePadding\": 10}, \"axisBand\": {\"grid\": false}, \"background\": \"white\", \"font\": \"Raleway\", \"header\": {\"labelFont\": \"Nunito Sans\", \"titleFont\": \"Raleway\"}, \"legend\": {\"labelColor\": \"#333\", \"labelFont\": \"Nunito Sans\", \"labelFontSize\": 11, \"labelLimit\": 0, \"padding\": 1, \"symbolSize\": 30, \"symbolType\": \"square\", \"titleColor\": \"#333\", \"titleFont\": \"Raleway\", \"titleFontSize\": 14, \"titlePadding\": 10}, \"title\": {\"anchor\": \"middle\", \"font\": \"Raleway\", \"fontSize\": 18, \"fontWeight\": 300, \"offset\": 20}}, \"data\": {\"name\": \"data-d955e7d4a08ccea06e5763d360949937\"}, \"mark\": \"bar\", \"encoding\": {\"color\": {\"field\": \"primary_agency_name\", \"legend\": {\"symbolLimit\": 10, \"title\": \"Agency\"}, \"scale\": {\"range\": [\"#2EA8CE\", \"#EB9F3C\", \"#F4D837\", \"#51BF9D\", \"#8CBCCB\", \"#9487C0\"]}, \"type\": \"nominal\"}, \"tooltip\": [{\"field\": \"primary_agency_name\", \"type\": \"nominal\"}, {\"field\": \"n\", \"type\": \"quantitative\"}], \"x\": {\"field\": \"primary_agency_name\", \"sort\": \"-y\", \"title\": \"Agency\", \"type\": \"nominal\"}, \"y\": {\"field\": \"n\", \"title\": \"Count\", \"type\": \"quantitative\"}}, \"height\": 250, \"width\": 400, \"$schema\": \"https://vega.github.io/schema/vega-lite/v4.17.0.json\", \"datasets\": {\"data-d955e7d4a08ccea06e5763d360949937\": [{\"primary_agency_name\": \"Orange County Transportation Authority\", \"n\": 16}, {\"primary_agency_name\": \"Anaheim\", \"n\": 13}, {\"primary_agency_name\": \"Orange County\", \"n\": 11}, {\"primary_agency_name\": \"Santa Ana\", \"n\": 11}, {\"primary_agency_name\": \"Costa Mesa\", \"n\": 8}, {\"primary_agency_name\": \"Mission Viejo\", \"n\": 8}, {\"primary_agency_name\": \"Irvine\", \"n\": 7}, {\"primary_agency_name\": \"Brea\", \"n\": 6}, {\"primary_agency_name\": \"Garden Grove\", \"n\": 5}, {\"primary_agency_name\": \"Huntington Beach\", \"n\": 5}, {\"primary_agency_name\": \"Fullerton\", \"n\": 4}, {\"primary_agency_name\": \"Orange\", \"n\": 4}, {\"primary_agency_name\": \"Placentia\", \"n\": 4}, {\"primary_agency_name\": \"Newport Beach\", \"n\": 3}, {\"primary_agency_name\": \"Rancho Santa Margarita\", \"n\": 3}, {\"primary_agency_name\": \"San Juan Capistrano\", \"n\": 3}, {\"primary_agency_name\": \"Seal Beach\", \"n\": 3}, {\"primary_agency_name\": \"Westminster\", \"n\": 3}, {\"primary_agency_name\": \"Caltrans\", \"n\": 2}, {\"primary_agency_name\": \"Dana Point\", \"n\": 2}, {\"primary_agency_name\": \"Fountain Valley\", \"n\": 2}, {\"primary_agency_name\": \"La Habra\", \"n\": 2}, {\"primary_agency_name\": \"La Palma\", \"n\": 2}, {\"primary_agency_name\": \"Laguna Niguel\", \"n\": 2}, {\"primary_agency_name\": \"Morro Bay\", \"n\": 2}, {\"primary_agency_name\": \"San Clemente\", \"n\": 2}, {\"primary_agency_name\": \"Yorba Linda\", \"n\": 2}, {\"primary_agency_name\": \"Buena Park\", \"n\": 1}, {\"primary_agency_name\": \"Cypress\", \"n\": 1}, {\"primary_agency_name\": \"Foothill Eastern Transportation Corridor\", \"n\": 1}]}}, {\"mode\": \"vega-lite\"});\n",
       "</script>"
      ],
      "text/plain": [
       "alt.Chart(...)"
      ]
     },
     "metadata": {},
     "output_type": "display_data"
    }
   ],
   "source": [
    "#Bar chart Agencies With The Most Unique Prefix Codes\n",
    "    \n",
    "chart3 = (_dla_utils_reports.basic_bar_chart_no_save(((_dla_utils_reports.get_nunique(df, 'prefix', 'primary_agency_name')).head(30)),\n",
    "                            'primary_agency_name', 'n', 'primary_agency_name', district))\n",
    "    \n",
    "display(chart3)"
   ]
  },
  {
   "cell_type": "markdown",
   "id": "409d25d0-88ee-4eff-ae1f-ca9127618b4d",
   "metadata": {
    "papermill": {
     "duration": 0.031831,
     "end_time": "2022-05-13T04:19:09.804054",
     "exception": false,
     "start_time": "2022-05-13T04:19:09.772223",
     "status": "completed"
    },
    "tags": []
   },
   "source": [
    "## Funding Distribution"
   ]
  },
  {
   "cell_type": "markdown",
   "id": "eacca297-667a-4649-b6ac-351e81729e0d",
   "metadata": {
    "papermill": {
     "duration": 0.027701,
     "end_time": "2022-05-13T04:19:09.859659",
     "exception": false,
     "start_time": "2022-05-13T04:19:09.831958",
     "status": "completed"
    },
    "tags": []
   },
   "source": [
    "With each E-76, three types of funding amounts are included in the obligations: \n",
    "* Total Requested (`total_requested`)\n",
    "* Advance Construction Requested (`ac_requested`)\n",
    "* Federal Requested (`fed_requested`)\n",
    "\n",
    "Using this information, we can determine how much on average an organization recieves with these funds, and the distribution of the funds.\n",
    "\n",
    "\n",
    "Metrics:\n",
    "* Average Total Requested Funds by Agency\n",
    "* Lowest Average Total Funds by Agency\n",
    "* Average Total Requested Funds by Prefix"
   ]
  },
  {
   "cell_type": "markdown",
   "id": "d3caa5e9-9126-4572-8140-f81543c7d26a",
   "metadata": {
    "papermill": {
     "duration": 0.031216,
     "end_time": "2022-05-13T04:19:09.919860",
     "exception": false,
     "start_time": "2022-05-13T04:19:09.888644",
     "status": "completed"
    },
    "tags": []
   },
   "source": [
    "### Average Total Requested Funds by Agency ($2021)"
   ]
  },
  {
   "cell_type": "code",
   "execution_count": 13,
   "id": "3745ca4d-8dd4-4c09-b46b-a2f6db6358ad",
   "metadata": {
    "execution": {
     "iopub.execute_input": "2022-05-13T04:19:09.977366Z",
     "iopub.status.busy": "2022-05-13T04:19:09.976791Z",
     "iopub.status.idle": "2022-05-13T04:19:10.014711Z",
     "shell.execute_reply": "2022-05-13T04:19:10.013910Z"
    },
    "jupyter": {
     "source_hidden": true
    },
    "papermill": {
     "duration": 0.069652,
     "end_time": "2022-05-13T04:19:10.017209",
     "exception": false,
     "start_time": "2022-05-13T04:19:09.947557",
     "status": "completed"
    },
    "tags": [
     "remove_input"
    ]
   },
   "outputs": [
    {
     "data": {
      "text/html": [
       "\n",
       "<div id=\"altair-viz-bd204929b6384ba7a769d945c3852438\"></div>\n",
       "<script type=\"text/javascript\">\n",
       "  var VEGA_DEBUG = (typeof VEGA_DEBUG == \"undefined\") ? {} : VEGA_DEBUG;\n",
       "  (function(spec, embedOpt){\n",
       "    let outputDiv = document.currentScript.previousElementSibling;\n",
       "    if (outputDiv.id !== \"altair-viz-bd204929b6384ba7a769d945c3852438\") {\n",
       "      outputDiv = document.getElementById(\"altair-viz-bd204929b6384ba7a769d945c3852438\");\n",
       "    }\n",
       "    const paths = {\n",
       "      \"vega\": \"https://cdn.jsdelivr.net/npm//vega@5?noext\",\n",
       "      \"vega-lib\": \"https://cdn.jsdelivr.net/npm//vega-lib?noext\",\n",
       "      \"vega-lite\": \"https://cdn.jsdelivr.net/npm//vega-lite@4.17.0?noext\",\n",
       "      \"vega-embed\": \"https://cdn.jsdelivr.net/npm//vega-embed@6?noext\",\n",
       "    };\n",
       "\n",
       "    function maybeLoadScript(lib, version) {\n",
       "      var key = `${lib.replace(\"-\", \"\")}_version`;\n",
       "      return (VEGA_DEBUG[key] == version) ?\n",
       "        Promise.resolve(paths[lib]) :\n",
       "        new Promise(function(resolve, reject) {\n",
       "          var s = document.createElement('script');\n",
       "          document.getElementsByTagName(\"head\")[0].appendChild(s);\n",
       "          s.async = true;\n",
       "          s.onload = () => {\n",
       "            VEGA_DEBUG[key] = version;\n",
       "            return resolve(paths[lib]);\n",
       "          };\n",
       "          s.onerror = () => reject(`Error loading script: ${paths[lib]}`);\n",
       "          s.src = paths[lib];\n",
       "        });\n",
       "    }\n",
       "\n",
       "    function showError(err) {\n",
       "      outputDiv.innerHTML = `<div class=\"error\" style=\"color:red;\">${err}</div>`;\n",
       "      throw err;\n",
       "    }\n",
       "\n",
       "    function displayChart(vegaEmbed) {\n",
       "      vegaEmbed(outputDiv, spec, embedOpt)\n",
       "        .catch(err => showError(`Javascript Error: ${err.message}<br>This usually means there's a typo in your chart specification. See the javascript console for the full traceback.`));\n",
       "    }\n",
       "\n",
       "    if(typeof define === \"function\" && define.amd) {\n",
       "      requirejs.config({paths});\n",
       "      require([\"vega-embed\"], displayChart, err => showError(`Error loading script: ${err.message}`));\n",
       "    } else {\n",
       "      maybeLoadScript(\"vega\", \"5\")\n",
       "        .then(() => maybeLoadScript(\"vega-lite\", \"4.17.0\"))\n",
       "        .then(() => maybeLoadScript(\"vega-embed\", \"6\"))\n",
       "        .catch(showError)\n",
       "        .then(() => displayChart(vegaEmbed));\n",
       "    }\n",
       "  })({\"config\": {\"view\": {\"continuousWidth\": 400, \"continuousHeight\": 300}, \"axis\": {\"domainColor\": \"#cbcbcb\", \"grid\": true, \"gridColor\": \"#cbcbcb\", \"gridWidth\": 1, \"labelColor\": \"#474747\", \"labelFont\": \"Nunito Sans\", \"labelFontSize\": 10, \"labelPadding\": 4, \"tickColor\": \"#cbcbcb\", \"tickSize\": 10, \"titleColor\": \"#333\", \"titleFont\": \"Raleway\", \"titleFontSize\": 12, \"titlePadding\": 10}, \"axisBand\": {\"grid\": false}, \"background\": \"white\", \"font\": \"Raleway\", \"header\": {\"labelFont\": \"Nunito Sans\", \"titleFont\": \"Raleway\"}, \"legend\": {\"labelColor\": \"#333\", \"labelFont\": \"Nunito Sans\", \"labelFontSize\": 11, \"labelLimit\": 0, \"padding\": 1, \"symbolSize\": 30, \"symbolType\": \"square\", \"titleColor\": \"#333\", \"titleFont\": \"Raleway\", \"titleFontSize\": 14, \"titlePadding\": 10}, \"title\": {\"anchor\": \"middle\", \"font\": \"Raleway\", \"fontSize\": 18, \"fontWeight\": 300, \"offset\": 20}}, \"data\": {\"name\": \"data-41536bc5328ce99f09e60fb3df7c189d\"}, \"mark\": \"bar\", \"encoding\": {\"color\": {\"field\": \"primary_agency_name\", \"legend\": {\"symbolLimit\": 10, \"title\": \"Agency\"}, \"scale\": {\"range\": [\"#2EA8CE\", \"#EB9F3C\", \"#F4D837\", \"#51BF9D\", \"#8CBCCB\", \"#9487C0\"]}, \"type\": \"nominal\"}, \"tooltip\": [{\"field\": \"primary_agency_name\", \"type\": \"nominal\"}, {\"field\": \"adjusted_total_requested\", \"type\": \"quantitative\"}], \"x\": {\"field\": \"primary_agency_name\", \"sort\": \"-y\", \"title\": \"Agency\", \"type\": \"nominal\"}, \"y\": {\"field\": \"adjusted_total_requested\", \"title\": \"Adjusted Total Requested\", \"type\": \"quantitative\"}}, \"height\": 250, \"width\": 400, \"$schema\": \"https://vega.github.io/schema/vega-lite/v4.17.0.json\", \"datasets\": {\"data-41536bc5328ce99f09e60fb3df7c189d\": [{\"primary_agency_name\": \"Orange County Transportation Authority\", \"adjusted_total_requested\": 26658393.772875313}, {\"primary_agency_name\": \"Caltrans\", \"adjusted_total_requested\": 19768111.924718022}, {\"primary_agency_name\": \"Costa Mesa\", \"adjusted_total_requested\": 1746235.1809904533}, {\"primary_agency_name\": \"Newport Beach\", \"adjusted_total_requested\": 1599938.321387898}, {\"primary_agency_name\": \"Orange County\", \"adjusted_total_requested\": 1204606.3924900559}, {\"primary_agency_name\": \"Fountain Valley\", \"adjusted_total_requested\": 1176340.378581346}, {\"primary_agency_name\": \"Brea\", \"adjusted_total_requested\": 853811.7746790565}, {\"primary_agency_name\": \"Laguna Niguel\", \"adjusted_total_requested\": 826074.4561631999}, {\"primary_agency_name\": \"Mission Viejo\", \"adjusted_total_requested\": 803424.0576452378}, {\"primary_agency_name\": \"San Clemente\", \"adjusted_total_requested\": 746634.211428366}, {\"primary_agency_name\": \"Fullerton\", \"adjusted_total_requested\": 742820.1409104319}, {\"primary_agency_name\": \"Lake Forest\", \"adjusted_total_requested\": 627595.9909850052}, {\"primary_agency_name\": \"Laguna Hills\", \"adjusted_total_requested\": 603771.5388447774}, {\"primary_agency_name\": \"Garden Grove\", \"adjusted_total_requested\": 586376.7057929616}, {\"primary_agency_name\": \"Westminster\", \"adjusted_total_requested\": 522846.75771845237}, {\"primary_agency_name\": \"Rancho Santa Margarita\", \"adjusted_total_requested\": 505276.43256088195}, {\"primary_agency_name\": \"Yorba Linda\", \"adjusted_total_requested\": 488974.3578723982}, {\"primary_agency_name\": \"Anaheim\", \"adjusted_total_requested\": 449570.6537520144}, {\"primary_agency_name\": \"Placentia\", \"adjusted_total_requested\": 417700.5503008169}, {\"primary_agency_name\": \"Santa Ana\", \"adjusted_total_requested\": 404032.5870495242}, {\"primary_agency_name\": \"Dana Point\", \"adjusted_total_requested\": 382707.898018534}, {\"primary_agency_name\": \"Morro Bay\", \"adjusted_total_requested\": 302176.40541076235}, {\"primary_agency_name\": \"Seal Beach\", \"adjusted_total_requested\": 300659.5974879822}, {\"primary_agency_name\": \"La Palma\", \"adjusted_total_requested\": 299726.4895544477}, {\"primary_agency_name\": \"Huntington Beach\", \"adjusted_total_requested\": 268251.1999584866}, {\"primary_agency_name\": \"Villa Park\", \"adjusted_total_requested\": 259197.8521813857}, {\"primary_agency_name\": \"Cypress\", \"adjusted_total_requested\": 170405.95894062385}, {\"primary_agency_name\": \"Buena Park\", \"adjusted_total_requested\": 130570.13349238093}, {\"primary_agency_name\": \"Orange\", \"adjusted_total_requested\": 127900.32690500918}, {\"primary_agency_name\": \"La Habra\", \"adjusted_total_requested\": 118543.96423788727}]}}, {\"mode\": \"vega-lite\"});\n",
       "</script>"
      ],
      "text/plain": [
       "alt.Chart(...)"
      ]
     },
     "metadata": {},
     "output_type": "display_data"
    }
   ],
   "source": [
    "#Bar chart Average Total Requested Funds by Agency\n",
    "chart4=(_dla_utils_reports.basic_bar_chart_no_save((((_dla_utils_reports.calculate_data_all(df, 'adjusted_total_requested', 'primary_agency_name', aggfunc=\"mean\"))\n",
    "                          >>arrange(-_.adjusted_total_requested)).head(30)\n",
    "                        ), 'primary_agency_name','adjusted_total_requested', 'primary_agency_name', district\n",
    "                          \n",
    "                       ))\n",
    "    \n",
    "display(chart4)"
   ]
  },
  {
   "cell_type": "markdown",
   "id": "84702987-c63c-40c9-aad7-c2d8c1b8ee49",
   "metadata": {
    "papermill": {
     "duration": 0.031442,
     "end_time": "2022-05-13T04:19:10.086562",
     "exception": false,
     "start_time": "2022-05-13T04:19:10.055120",
     "status": "completed"
    },
    "tags": []
   },
   "source": [
    "### Lowest Average Total Funds by Agency ($2021)"
   ]
  },
  {
   "cell_type": "code",
   "execution_count": 14,
   "id": "ce18a74b-9908-40f8-84f1-806552936465",
   "metadata": {
    "execution": {
     "iopub.execute_input": "2022-05-13T04:19:10.147266Z",
     "iopub.status.busy": "2022-05-13T04:19:10.146975Z",
     "iopub.status.idle": "2022-05-13T04:19:10.209758Z",
     "shell.execute_reply": "2022-05-13T04:19:10.208596Z"
    },
    "jupyter": {
     "source_hidden": true
    },
    "papermill": {
     "duration": 0.095238,
     "end_time": "2022-05-13T04:19:10.212634",
     "exception": false,
     "start_time": "2022-05-13T04:19:10.117396",
     "status": "completed"
    },
    "tags": [
     "remove_input"
    ]
   },
   "outputs": [
    {
     "data": {
      "text/html": [
       "\n",
       "<div id=\"altair-viz-29e1ce8ee3984823a6431ee368b825ba\"></div>\n",
       "<script type=\"text/javascript\">\n",
       "  var VEGA_DEBUG = (typeof VEGA_DEBUG == \"undefined\") ? {} : VEGA_DEBUG;\n",
       "  (function(spec, embedOpt){\n",
       "    let outputDiv = document.currentScript.previousElementSibling;\n",
       "    if (outputDiv.id !== \"altair-viz-29e1ce8ee3984823a6431ee368b825ba\") {\n",
       "      outputDiv = document.getElementById(\"altair-viz-29e1ce8ee3984823a6431ee368b825ba\");\n",
       "    }\n",
       "    const paths = {\n",
       "      \"vega\": \"https://cdn.jsdelivr.net/npm//vega@5?noext\",\n",
       "      \"vega-lib\": \"https://cdn.jsdelivr.net/npm//vega-lib?noext\",\n",
       "      \"vega-lite\": \"https://cdn.jsdelivr.net/npm//vega-lite@4.17.0?noext\",\n",
       "      \"vega-embed\": \"https://cdn.jsdelivr.net/npm//vega-embed@6?noext\",\n",
       "    };\n",
       "\n",
       "    function maybeLoadScript(lib, version) {\n",
       "      var key = `${lib.replace(\"-\", \"\")}_version`;\n",
       "      return (VEGA_DEBUG[key] == version) ?\n",
       "        Promise.resolve(paths[lib]) :\n",
       "        new Promise(function(resolve, reject) {\n",
       "          var s = document.createElement('script');\n",
       "          document.getElementsByTagName(\"head\")[0].appendChild(s);\n",
       "          s.async = true;\n",
       "          s.onload = () => {\n",
       "            VEGA_DEBUG[key] = version;\n",
       "            return resolve(paths[lib]);\n",
       "          };\n",
       "          s.onerror = () => reject(`Error loading script: ${paths[lib]}`);\n",
       "          s.src = paths[lib];\n",
       "        });\n",
       "    }\n",
       "\n",
       "    function showError(err) {\n",
       "      outputDiv.innerHTML = `<div class=\"error\" style=\"color:red;\">${err}</div>`;\n",
       "      throw err;\n",
       "    }\n",
       "\n",
       "    function displayChart(vegaEmbed) {\n",
       "      vegaEmbed(outputDiv, spec, embedOpt)\n",
       "        .catch(err => showError(`Javascript Error: ${err.message}<br>This usually means there's a typo in your chart specification. See the javascript console for the full traceback.`));\n",
       "    }\n",
       "\n",
       "    if(typeof define === \"function\" && define.amd) {\n",
       "      requirejs.config({paths});\n",
       "      require([\"vega-embed\"], displayChart, err => showError(`Error loading script: ${err.message}`));\n",
       "    } else {\n",
       "      maybeLoadScript(\"vega\", \"5\")\n",
       "        .then(() => maybeLoadScript(\"vega-lite\", \"4.17.0\"))\n",
       "        .then(() => maybeLoadScript(\"vega-embed\", \"6\"))\n",
       "        .catch(showError)\n",
       "        .then(() => displayChart(vegaEmbed));\n",
       "    }\n",
       "  })({\"config\": {\"view\": {\"continuousWidth\": 400, \"continuousHeight\": 300}, \"axis\": {\"domainColor\": \"#cbcbcb\", \"grid\": true, \"gridColor\": \"#cbcbcb\", \"gridWidth\": 1, \"labelColor\": \"#474747\", \"labelFont\": \"Nunito Sans\", \"labelFontSize\": 10, \"labelPadding\": 4, \"tickColor\": \"#cbcbcb\", \"tickSize\": 10, \"titleColor\": \"#333\", \"titleFont\": \"Raleway\", \"titleFontSize\": 12, \"titlePadding\": 10}, \"axisBand\": {\"grid\": false}, \"background\": \"white\", \"font\": \"Raleway\", \"header\": {\"labelFont\": \"Nunito Sans\", \"titleFont\": \"Raleway\"}, \"legend\": {\"labelColor\": \"#333\", \"labelFont\": \"Nunito Sans\", \"labelFontSize\": 11, \"labelLimit\": 0, \"padding\": 1, \"symbolSize\": 30, \"symbolType\": \"square\", \"titleColor\": \"#333\", \"titleFont\": \"Raleway\", \"titleFontSize\": 14, \"titlePadding\": 10}, \"title\": {\"anchor\": \"middle\", \"font\": \"Raleway\", \"fontSize\": 18, \"fontWeight\": 300, \"offset\": 20}}, \"data\": {\"name\": \"data-0bd0940b42914d9dffbdd60af9252000\"}, \"mark\": \"bar\", \"encoding\": {\"color\": {\"field\": \"primary_agency_name\", \"legend\": {\"symbolLimit\": 10, \"title\": \"Agency\"}, \"scale\": {\"range\": [\"#2EA8CE\", \"#EB9F3C\", \"#F4D837\", \"#51BF9D\", \"#8CBCCB\", \"#9487C0\"]}, \"type\": \"nominal\"}, \"tooltip\": [{\"field\": \"primary_agency_name\", \"type\": \"nominal\"}, {\"field\": \"avg_funds\", \"type\": \"quantitative\"}], \"x\": {\"field\": \"primary_agency_name\", \"sort\": \"-y\", \"title\": \"Agency\", \"type\": \"nominal\"}, \"y\": {\"field\": \"avg_funds\", \"title\": \"Avg Funds\", \"type\": \"quantitative\"}}, \"height\": 250, \"width\": 400, \"$schema\": \"https://vega.github.io/schema/vega-lite/v4.17.0.json\", \"datasets\": {\"data-0bd0940b42914d9dffbdd60af9252000\": [{\"primary_agency_name\": \"Orange County Transportation Authority\", \"avg_funds\": 26658393.772875298}, {\"primary_agency_name\": \"Caltrans\", \"avg_funds\": 19768111.92471802}, {\"primary_agency_name\": \"Costa Mesa\", \"avg_funds\": 1746235.1809904529}, {\"primary_agency_name\": \"Newport Beach\", \"avg_funds\": 1599938.321387898}, {\"primary_agency_name\": \"Orange County\", \"avg_funds\": 1204606.3924900559}, {\"primary_agency_name\": \"Fountain Valley\", \"avg_funds\": 1176340.378581346}, {\"primary_agency_name\": \"Brea\", \"avg_funds\": 853811.7746790566}, {\"primary_agency_name\": \"Laguna Niguel\", \"avg_funds\": 826074.4561631999}, {\"primary_agency_name\": \"Mission Viejo\", \"avg_funds\": 803424.0576452378}, {\"primary_agency_name\": \"San Clemente\", \"avg_funds\": 746634.211428366}, {\"primary_agency_name\": \"Fullerton\", \"avg_funds\": 742820.140910432}, {\"primary_agency_name\": \"Lake Forest\", \"avg_funds\": 627595.9909850052}, {\"primary_agency_name\": \"Laguna Hills\", \"avg_funds\": 603771.5388447774}, {\"primary_agency_name\": \"Garden Grove\", \"avg_funds\": 586376.705792962}, {\"primary_agency_name\": \"Westminster\", \"avg_funds\": 522846.75771845237}, {\"primary_agency_name\": \"Rancho Santa Margarita\", \"avg_funds\": 505276.43256088195}, {\"primary_agency_name\": \"Yorba Linda\", \"avg_funds\": 488974.3578723982}, {\"primary_agency_name\": \"Anaheim\", \"avg_funds\": 449570.65375201433}, {\"primary_agency_name\": \"Placentia\", \"avg_funds\": 417700.55030081683}, {\"primary_agency_name\": \"Santa Ana\", \"avg_funds\": 404032.5870495242}, {\"primary_agency_name\": \"Dana Point\", \"avg_funds\": 382707.898018534}, {\"primary_agency_name\": \"Morro Bay\", \"avg_funds\": 302176.40541076235}, {\"primary_agency_name\": \"Seal Beach\", \"avg_funds\": 300659.5974879822}, {\"primary_agency_name\": \"La Palma\", \"avg_funds\": 299726.4895544477}, {\"primary_agency_name\": \"Huntington Beach\", \"avg_funds\": 268251.19995848654}, {\"primary_agency_name\": \"Villa Park\", \"avg_funds\": 259197.8521813857}, {\"primary_agency_name\": \"Cypress\", \"avg_funds\": 170405.95894062385}, {\"primary_agency_name\": \"Buena Park\", \"avg_funds\": 130570.13349238093}, {\"primary_agency_name\": \"Orange\", \"avg_funds\": 127900.32690500919}, {\"primary_agency_name\": \"La Habra\", \"avg_funds\": 118543.96423788725}, {\"primary_agency_name\": \"San Juan Capistrano\", \"avg_funds\": 86122.09838328866}, {\"primary_agency_name\": \"Laguna Woods\", \"avg_funds\": 0.0572303798126444}, {\"primary_agency_name\": \"Irvine\", \"avg_funds\": -6151.347816054494}, {\"primary_agency_name\": \"Laguna Beach\", \"avg_funds\": -20243.661577202147}, {\"primary_agency_name\": \"Foothill Eastern Transportation Corridor\", \"avg_funds\": -215531.51042302858}, {\"primary_agency_name\": \"Tustin\", \"avg_funds\": -451239.7244990742}]}}, {\"mode\": \"vega-lite\"});\n",
       "</script>"
      ],
      "text/plain": [
       "alt.Chart(...)"
      ]
     },
     "metadata": {},
     "output_type": "display_data"
    }
   ],
   "source": [
    "#Bar chart Bottom Average Total Requested Funds by Agency\n",
    "avg_funds_bottom = (df>>group_by(_.primary_agency_name)>>summarize(avg_funds=_.adjusted_total_requested.mean())>>arrange(-_.avg_funds)).tail(50)\n",
    "\n",
    "chart5=( _dla_utils_reports.basic_bar_chart_no_save((avg_funds_bottom.tail(40)), 'primary_agency_name','avg_funds', 'primary_agency_name', district))\n",
    "    \n",
    "display(chart5)"
   ]
  },
  {
   "cell_type": "markdown",
   "id": "32fb0fb4-2cd3-453d-8be1-cf99fb52f56f",
   "metadata": {
    "papermill": {
     "duration": 0.029539,
     "end_time": "2022-05-13T04:19:10.270718",
     "exception": false,
     "start_time": "2022-05-13T04:19:10.241179",
     "status": "completed"
    },
    "tags": []
   },
   "source": [
    "### Average Total Requested Funds by Prefix ($2021)"
   ]
  },
  {
   "cell_type": "code",
   "execution_count": 15,
   "id": "d18938e5-6fc5-4e53-87b2-7140df57e5a0",
   "metadata": {
    "execution": {
     "iopub.execute_input": "2022-05-13T04:19:10.334342Z",
     "iopub.status.busy": "2022-05-13T04:19:10.334034Z",
     "iopub.status.idle": "2022-05-13T04:19:10.369520Z",
     "shell.execute_reply": "2022-05-13T04:19:10.368553Z"
    },
    "jupyter": {
     "source_hidden": true
    },
    "papermill": {
     "duration": 0.067997,
     "end_time": "2022-05-13T04:19:10.371799",
     "exception": false,
     "start_time": "2022-05-13T04:19:10.303802",
     "status": "completed"
    },
    "tags": [
     "remove_input"
    ]
   },
   "outputs": [
    {
     "data": {
      "text/html": [
       "\n",
       "<div id=\"altair-viz-8cd4e3cc44a54e7c8c027f1b3fe2d04d\"></div>\n",
       "<script type=\"text/javascript\">\n",
       "  var VEGA_DEBUG = (typeof VEGA_DEBUG == \"undefined\") ? {} : VEGA_DEBUG;\n",
       "  (function(spec, embedOpt){\n",
       "    let outputDiv = document.currentScript.previousElementSibling;\n",
       "    if (outputDiv.id !== \"altair-viz-8cd4e3cc44a54e7c8c027f1b3fe2d04d\") {\n",
       "      outputDiv = document.getElementById(\"altair-viz-8cd4e3cc44a54e7c8c027f1b3fe2d04d\");\n",
       "    }\n",
       "    const paths = {\n",
       "      \"vega\": \"https://cdn.jsdelivr.net/npm//vega@5?noext\",\n",
       "      \"vega-lib\": \"https://cdn.jsdelivr.net/npm//vega-lib?noext\",\n",
       "      \"vega-lite\": \"https://cdn.jsdelivr.net/npm//vega-lite@4.17.0?noext\",\n",
       "      \"vega-embed\": \"https://cdn.jsdelivr.net/npm//vega-embed@6?noext\",\n",
       "    };\n",
       "\n",
       "    function maybeLoadScript(lib, version) {\n",
       "      var key = `${lib.replace(\"-\", \"\")}_version`;\n",
       "      return (VEGA_DEBUG[key] == version) ?\n",
       "        Promise.resolve(paths[lib]) :\n",
       "        new Promise(function(resolve, reject) {\n",
       "          var s = document.createElement('script');\n",
       "          document.getElementsByTagName(\"head\")[0].appendChild(s);\n",
       "          s.async = true;\n",
       "          s.onload = () => {\n",
       "            VEGA_DEBUG[key] = version;\n",
       "            return resolve(paths[lib]);\n",
       "          };\n",
       "          s.onerror = () => reject(`Error loading script: ${paths[lib]}`);\n",
       "          s.src = paths[lib];\n",
       "        });\n",
       "    }\n",
       "\n",
       "    function showError(err) {\n",
       "      outputDiv.innerHTML = `<div class=\"error\" style=\"color:red;\">${err}</div>`;\n",
       "      throw err;\n",
       "    }\n",
       "\n",
       "    function displayChart(vegaEmbed) {\n",
       "      vegaEmbed(outputDiv, spec, embedOpt)\n",
       "        .catch(err => showError(`Javascript Error: ${err.message}<br>This usually means there's a typo in your chart specification. See the javascript console for the full traceback.`));\n",
       "    }\n",
       "\n",
       "    if(typeof define === \"function\" && define.amd) {\n",
       "      requirejs.config({paths});\n",
       "      require([\"vega-embed\"], displayChart, err => showError(`Error loading script: ${err.message}`));\n",
       "    } else {\n",
       "      maybeLoadScript(\"vega\", \"5\")\n",
       "        .then(() => maybeLoadScript(\"vega-lite\", \"4.17.0\"))\n",
       "        .then(() => maybeLoadScript(\"vega-embed\", \"6\"))\n",
       "        .catch(showError)\n",
       "        .then(() => displayChart(vegaEmbed));\n",
       "    }\n",
       "  })({\"config\": {\"view\": {\"continuousWidth\": 400, \"continuousHeight\": 300}, \"axis\": {\"domainColor\": \"#cbcbcb\", \"grid\": true, \"gridColor\": \"#cbcbcb\", \"gridWidth\": 1, \"labelColor\": \"#474747\", \"labelFont\": \"Nunito Sans\", \"labelFontSize\": 10, \"labelPadding\": 4, \"tickColor\": \"#cbcbcb\", \"tickSize\": 10, \"titleColor\": \"#333\", \"titleFont\": \"Raleway\", \"titleFontSize\": 12, \"titlePadding\": 10}, \"axisBand\": {\"grid\": false}, \"background\": \"white\", \"font\": \"Raleway\", \"header\": {\"labelFont\": \"Nunito Sans\", \"titleFont\": \"Raleway\"}, \"legend\": {\"labelColor\": \"#333\", \"labelFont\": \"Nunito Sans\", \"labelFontSize\": 11, \"labelLimit\": 0, \"padding\": 1, \"symbolSize\": 30, \"symbolType\": \"square\", \"titleColor\": \"#333\", \"titleFont\": \"Raleway\", \"titleFontSize\": 14, \"titlePadding\": 10}, \"title\": {\"anchor\": \"middle\", \"font\": \"Raleway\", \"fontSize\": 18, \"fontWeight\": 300, \"offset\": 20}}, \"data\": {\"name\": \"data-7becd29432dd63a02ce6a1f0f39776e7\"}, \"mark\": \"bar\", \"encoding\": {\"color\": {\"field\": \"prefix\", \"legend\": {\"symbolLimit\": 10, \"title\": \"Prefix\"}, \"scale\": {\"range\": [\"#2EA8CE\", \"#EB9F3C\", \"#F4D837\", \"#51BF9D\", \"#8CBCCB\", \"#9487C0\"]}, \"type\": \"nominal\"}, \"tooltip\": [{\"field\": \"prefix\", \"type\": \"nominal\"}, {\"field\": \"adjusted_total_requested\", \"type\": \"quantitative\"}], \"x\": {\"field\": \"prefix\", \"sort\": \"-y\", \"title\": \"Prefix\", \"type\": \"nominal\"}, \"y\": {\"field\": \"adjusted_total_requested\", \"title\": \"Adjusted Total Requested\", \"type\": \"quantitative\"}}, \"height\": 250, \"width\": 400, \"$schema\": \"https://vega.github.io/schema/vega-lite/v4.17.0.json\", \"datasets\": {\"data-7becd29432dd63a02ce6a1f0f39776e7\": [{\"prefix\": \"STPLN\", \"adjusted_total_requested\": 68456919.1688811}, {\"prefix\": \"CMSTPL\", \"adjusted_total_requested\": 63340110.72211217}, {\"prefix\": \"CMSTPLN\", \"adjusted_total_requested\": 19329239.87601928}, {\"prefix\": \"FTACML\", \"adjusted_total_requested\": 12833759.596771134}, {\"prefix\": \"HPLULN\", \"adjusted_total_requested\": 11825831.887053913}, {\"prefix\": \"DEM05L\", \"adjusted_total_requested\": 7333583.472675212}, {\"prefix\": \"PNRSCML\", \"adjusted_total_requested\": 6131734.07336066}, {\"prefix\": \"BHLS\", \"adjusted_total_requested\": 4438384.279911158}, {\"prefix\": \"BRLS\", \"adjusted_total_requested\": 1693530.8396903158}, {\"prefix\": \"CMHPLULN\", \"adjusted_total_requested\": 1489939.6762568841}, {\"prefix\": \"STPTCIFL\", \"adjusted_total_requested\": 1483622.8918475385}, {\"prefix\": \"ATPCML\", \"adjusted_total_requested\": 1455754.523768898}, {\"prefix\": \"FTASTPL\", \"adjusted_total_requested\": 1421940.9313199304}, {\"prefix\": \"ATPL\", \"adjusted_total_requested\": 1306637.0405603582}, {\"prefix\": \"BRLSZ\", \"adjusted_total_requested\": 1147272.2682928415}, {\"prefix\": \"BRLO\", \"adjusted_total_requested\": 1089139.9075778986}, {\"prefix\": \"HP21L\", \"adjusted_total_requested\": 941598.7236555718}, {\"prefix\": \"RPMSTPL\", \"adjusted_total_requested\": 874148.9663087878}, {\"prefix\": \"HRRRL\", \"adjusted_total_requested\": 861310.0579001738}, {\"prefix\": \"TCSP\", \"adjusted_total_requested\": 833770.6927489594}, {\"prefix\": \"BRLOZE\", \"adjusted_total_requested\": 808987.8269550309}, {\"prefix\": \"ATPSB1L\", \"adjusted_total_requested\": 712927.2678555814}, {\"prefix\": \"ACNHPI\", \"adjusted_total_requested\": 604352.8108215247}, {\"prefix\": \"FTAFER16\", \"adjusted_total_requested\": 492672.77356848406}, {\"prefix\": \"CML\", \"adjusted_total_requested\": 410344.7118463723}, {\"prefix\": \"STPL\", \"adjusted_total_requested\": 381913.8718270426}, {\"prefix\": \"BPMPL\", \"adjusted_total_requested\": 337314.3145292647}, {\"prefix\": \"SRTSL\", \"adjusted_total_requested\": 273881.3572605744}, {\"prefix\": \"HSIPL\", \"adjusted_total_requested\": 240443.98667888562}, {\"prefix\": \"ATPLNI\", \"adjusted_total_requested\": 97002.76262355213}]}}, {\"mode\": \"vega-lite\"});\n",
       "</script>"
      ],
      "text/plain": [
       "alt.Chart(...)"
      ]
     },
     "metadata": {},
     "output_type": "display_data"
    }
   ],
   "source": [
    "# Bar chart Average Total Requested Funds by Prefix\n",
    "chart8 = (_dla_utils_reports.basic_bar_chart_no_save((((_dla_utils_reports.calculate_data_all(df, 'adjusted_total_requested', 'prefix', aggfunc=\"mean\"))\n",
    "                          >>arrange(-_.adjusted_total_requested)).head(30)), 'prefix','adjusted_total_requested', 'prefix', district\n",
    "                       ))\n",
    "    \n",
    "display(chart8)\n",
    "    "
   ]
  },
  {
   "cell_type": "markdown",
   "id": "c4218a37-675e-40be-9659-d1297a62dc1b",
   "metadata": {
    "papermill": {
     "duration": 0.028779,
     "end_time": "2022-05-13T04:19:10.436018",
     "exception": false,
     "start_time": "2022-05-13T04:19:10.407239",
     "status": "completed"
    },
    "tags": []
   },
   "source": [
    "\n",
    "## Work Categories"
   ]
  },
  {
   "cell_type": "markdown",
   "id": "d41b493b-2ab7-4c43-96ee-8e64a7c3e11a",
   "metadata": {
    "papermill": {
     "duration": 0.031409,
     "end_time": "2022-05-13T04:19:10.497056",
     "exception": false,
     "start_time": "2022-05-13T04:19:10.465647",
     "status": "completed"
    },
    "tags": []
   },
   "source": [
    "While the data includes a description column, organizations have the option to manually input the descriptions. Using the organizations descriptions of the obligattion type, we can categorize the obligations in terms of types of work. We used the following type of work categories:\n",
    "* Active Transportation\n",
    "* Transit\n",
    "* Bridge\n",
    "* Street\n",
    "* Freeway\n",
    "* Infrastructure/Resiliency/Emergency Relief \n",
    "* Congestion Relief\n",
    "\n",
    "With these categories, we can determine which organizations have the most obligations in that category and what percent of the category that organization accounts for. "
   ]
  },
  {
   "cell_type": "code",
   "execution_count": 16,
   "id": "50a1cf08-17eb-4b2b-9dc0-671ee7551f2d",
   "metadata": {
    "execution": {
     "iopub.execute_input": "2022-05-13T04:19:10.559575Z",
     "iopub.status.busy": "2022-05-13T04:19:10.558659Z",
     "iopub.status.idle": "2022-05-13T04:19:11.225998Z",
     "shell.execute_reply": "2022-05-13T04:19:11.225390Z"
    },
    "jupyter": {
     "source_hidden": true
    },
    "papermill": {
     "duration": 0.70103,
     "end_time": "2022-05-13T04:19:11.227768",
     "exception": false,
     "start_time": "2022-05-13T04:19:10.526738",
     "status": "completed"
    },
    "tags": [
     "remove_input"
    ]
   },
   "outputs": [
    {
     "data": {
      "application/vnd.jupyter.widget-view+json": {
       "model_id": "29d5b92aa1bc4120819830baccd467dd",
       "version_major": 2,
       "version_minor": 0
      },
      "text/plain": [
       "HTML(value='<h3> Top Agencies using Active Transportation Projects </h3>')"
      ]
     },
     "metadata": {},
     "output_type": "display_data"
    },
    {
     "data": {
      "text/html": [
       "<style type=\"text/css\">\n",
       "</style>\n",
       "<table id=\"T_a5226\">\n",
       "  <thead>\n",
       "    <tr>\n",
       "      <th class=\"blank level0\" >&nbsp;</th>\n",
       "      <th id=\"T_a5226_level0_col0\" class=\"col_heading level0 col0\" >Agency</th>\n",
       "      <th id=\"T_a5226_level0_col1\" class=\"col_heading level0 col1\" >Active Transportation Obligations</th>\n",
       "      <th id=\"T_a5226_level0_col2\" class=\"col_heading level0 col2\" >Percent of Category</th>\n",
       "    </tr>\n",
       "  </thead>\n",
       "  <tbody>\n",
       "    <tr>\n",
       "      <th id=\"T_a5226_level0_row0\" class=\"row_heading level0 row0\" >0</th>\n",
       "      <td id=\"T_a5226_row0_col0\" class=\"data row0 col0\" >Santa Ana</td>\n",
       "      <td id=\"T_a5226_row0_col1\" class=\"data row0 col1\" >40</td>\n",
       "      <td id=\"T_a5226_row0_col2\" class=\"data row0 col2\" >20.51%</td>\n",
       "    </tr>\n",
       "    <tr>\n",
       "      <th id=\"T_a5226_level0_row1\" class=\"row_heading level0 row1\" >1</th>\n",
       "      <td id=\"T_a5226_row1_col0\" class=\"data row1 col0\" >Costa Mesa</td>\n",
       "      <td id=\"T_a5226_row1_col1\" class=\"data row1 col1\" >22</td>\n",
       "      <td id=\"T_a5226_row1_col2\" class=\"data row1 col2\" >11.28%</td>\n",
       "    </tr>\n",
       "    <tr>\n",
       "      <th id=\"T_a5226_level0_row2\" class=\"row_heading level0 row2\" >2</th>\n",
       "      <td id=\"T_a5226_row2_col0\" class=\"data row2 col0\" >Anaheim</td>\n",
       "      <td id=\"T_a5226_row2_col1\" class=\"data row2 col1\" >20</td>\n",
       "      <td id=\"T_a5226_row2_col2\" class=\"data row2 col2\" >10.26%</td>\n",
       "    </tr>\n",
       "    <tr>\n",
       "      <th id=\"T_a5226_level0_row3\" class=\"row_heading level0 row3\" >3</th>\n",
       "      <td id=\"T_a5226_row3_col0\" class=\"data row3 col0\" >Orange County</td>\n",
       "      <td id=\"T_a5226_row3_col1\" class=\"data row3 col1\" >18</td>\n",
       "      <td id=\"T_a5226_row3_col2\" class=\"data row3 col2\" >9.23%</td>\n",
       "    </tr>\n",
       "    <tr>\n",
       "      <th id=\"T_a5226_level0_row4\" class=\"row_heading level0 row4\" >4</th>\n",
       "      <td id=\"T_a5226_row4_col0\" class=\"data row4 col0\" >Orange</td>\n",
       "      <td id=\"T_a5226_row4_col1\" class=\"data row4 col1\" >14</td>\n",
       "      <td id=\"T_a5226_row4_col2\" class=\"data row4 col2\" >7.18%</td>\n",
       "    </tr>\n",
       "  </tbody>\n",
       "</table>\n"
      ],
      "text/plain": [
       "<pandas.io.formats.style.Styler at 0x7f3e13715160>"
      ]
     },
     "metadata": {},
     "output_type": "display_data"
    },
    {
     "data": {
      "text/html": [
       "\n",
       "<div id=\"altair-viz-d10892ee1a4441fcb89f8cd05c237459\"></div>\n",
       "<script type=\"text/javascript\">\n",
       "  var VEGA_DEBUG = (typeof VEGA_DEBUG == \"undefined\") ? {} : VEGA_DEBUG;\n",
       "  (function(spec, embedOpt){\n",
       "    let outputDiv = document.currentScript.previousElementSibling;\n",
       "    if (outputDiv.id !== \"altair-viz-d10892ee1a4441fcb89f8cd05c237459\") {\n",
       "      outputDiv = document.getElementById(\"altair-viz-d10892ee1a4441fcb89f8cd05c237459\");\n",
       "    }\n",
       "    const paths = {\n",
       "      \"vega\": \"https://cdn.jsdelivr.net/npm//vega@5?noext\",\n",
       "      \"vega-lib\": \"https://cdn.jsdelivr.net/npm//vega-lib?noext\",\n",
       "      \"vega-lite\": \"https://cdn.jsdelivr.net/npm//vega-lite@4.17.0?noext\",\n",
       "      \"vega-embed\": \"https://cdn.jsdelivr.net/npm//vega-embed@6?noext\",\n",
       "    };\n",
       "\n",
       "    function maybeLoadScript(lib, version) {\n",
       "      var key = `${lib.replace(\"-\", \"\")}_version`;\n",
       "      return (VEGA_DEBUG[key] == version) ?\n",
       "        Promise.resolve(paths[lib]) :\n",
       "        new Promise(function(resolve, reject) {\n",
       "          var s = document.createElement('script');\n",
       "          document.getElementsByTagName(\"head\")[0].appendChild(s);\n",
       "          s.async = true;\n",
       "          s.onload = () => {\n",
       "            VEGA_DEBUG[key] = version;\n",
       "            return resolve(paths[lib]);\n",
       "          };\n",
       "          s.onerror = () => reject(`Error loading script: ${paths[lib]}`);\n",
       "          s.src = paths[lib];\n",
       "        });\n",
       "    }\n",
       "\n",
       "    function showError(err) {\n",
       "      outputDiv.innerHTML = `<div class=\"error\" style=\"color:red;\">${err}</div>`;\n",
       "      throw err;\n",
       "    }\n",
       "\n",
       "    function displayChart(vegaEmbed) {\n",
       "      vegaEmbed(outputDiv, spec, embedOpt)\n",
       "        .catch(err => showError(`Javascript Error: ${err.message}<br>This usually means there's a typo in your chart specification. See the javascript console for the full traceback.`));\n",
       "    }\n",
       "\n",
       "    if(typeof define === \"function\" && define.amd) {\n",
       "      requirejs.config({paths});\n",
       "      require([\"vega-embed\"], displayChart, err => showError(`Error loading script: ${err.message}`));\n",
       "    } else {\n",
       "      maybeLoadScript(\"vega\", \"5\")\n",
       "        .then(() => maybeLoadScript(\"vega-lite\", \"4.17.0\"))\n",
       "        .then(() => maybeLoadScript(\"vega-embed\", \"6\"))\n",
       "        .catch(showError)\n",
       "        .then(() => displayChart(vegaEmbed));\n",
       "    }\n",
       "  })({\"config\": {\"view\": {\"continuousWidth\": 400, \"continuousHeight\": 300}}, \"data\": {\"name\": \"data-1d3859a692922e8c6b678aeb28ad272b\"}, \"mark\": \"bar\", \"encoding\": {\"color\": {\"field\": \"Categories\", \"scale\": {\"range\": [\"#2EA8CE\", \"#EB9F3C\", \"#F4D837\", \"#51BF9D\", \"#8CBCCB\", \"#9487C0\"]}, \"type\": \"nominal\"}, \"row\": {\"field\": \"Categories\", \"type\": \"nominal\"}, \"tooltip\": [{\"field\": \"Agency\", \"type\": \"nominal\"}, {\"field\": \"Funding Amount\", \"type\": \"quantitative\"}], \"x\": {\"axis\": {\"format\": \"$.2s\", \"title\": \"Obligated Funding ($2021)\"}, \"field\": \"Funding Amount\", \"type\": \"quantitative\"}, \"y\": {\"field\": \"Agency\", \"type\": \"nominal\"}}, \"$schema\": \"https://vega.github.io/schema/vega-lite/v4.17.0.json\", \"datasets\": {\"data-1d3859a692922e8c6b678aeb28ad272b\": [{\"Agency\": \"Santa Ana\", \"Categories\": \"Total Requested\", \"Funding Amount\": 284053.8054890457}, {\"Agency\": \"Costa Mesa\", \"Categories\": \"Total Requested\", \"Funding Amount\": 260552.82704946492}, {\"Agency\": \"Anaheim\", \"Categories\": \"Total Requested\", \"Funding Amount\": 412926.06092801655}, {\"Agency\": \"Orange County\", \"Categories\": \"Total Requested\", \"Funding Amount\": 1174852.1324786642}, {\"Agency\": \"Orange\", \"Categories\": \"Total Requested\", \"Funding Amount\": 86760.56282760149}, {\"Agency\": \"Santa Ana\", \"Categories\": \"Fed Requested\", \"Funding Amount\": 247078.71061803197}, {\"Agency\": \"Costa Mesa\", \"Categories\": \"Fed Requested\", \"Funding Amount\": 132733.4739328976}, {\"Agency\": \"Anaheim\", \"Categories\": \"Fed Requested\", \"Funding Amount\": 299029.16661887814}, {\"Agency\": \"Orange County\", \"Categories\": \"Fed Requested\", \"Funding Amount\": 625994.6089477395}, {\"Agency\": \"Orange\", \"Categories\": \"Fed Requested\", \"Funding Amount\": 74292.3498342269}, {\"Agency\": \"Santa Ana\", \"Categories\": \"AC Requested\", \"Funding Amount\": 507.25459062706506}, {\"Agency\": \"Costa Mesa\", \"Categories\": \"AC Requested\", \"Funding Amount\": 0.0}, {\"Agency\": \"Anaheim\", \"Categories\": \"AC Requested\", \"Funding Amount\": 0.0}, {\"Agency\": \"Orange County\", \"Categories\": \"AC Requested\", \"Funding Amount\": 0.0}, {\"Agency\": \"Orange\", \"Categories\": \"AC Requested\", \"Funding Amount\": 1160.3551101285182}]}}, {\"mode\": \"vega-lite\"});\n",
       "</script>"
      ],
      "text/plain": [
       "alt.Chart(...)"
      ]
     },
     "metadata": {},
     "output_type": "display_data"
    },
    {
     "data": {
      "application/vnd.jupyter.widget-view+json": {
       "model_id": "97521605dcb841ab975c903ae16628f5",
       "version_major": 2,
       "version_minor": 0
      },
      "text/plain": [
       "HTML(value='<h3> Top Agencies using Transit Projects </h3>')"
      ]
     },
     "metadata": {},
     "output_type": "display_data"
    },
    {
     "data": {
      "text/html": [
       "<style type=\"text/css\">\n",
       "</style>\n",
       "<table id=\"T_086d9\">\n",
       "  <thead>\n",
       "    <tr>\n",
       "      <th class=\"blank level0\" >&nbsp;</th>\n",
       "      <th id=\"T_086d9_level0_col0\" class=\"col_heading level0 col0\" >Agency</th>\n",
       "      <th id=\"T_086d9_level0_col1\" class=\"col_heading level0 col1\" >Transit Obligations</th>\n",
       "      <th id=\"T_086d9_level0_col2\" class=\"col_heading level0 col2\" >Percent of Category</th>\n",
       "    </tr>\n",
       "  </thead>\n",
       "  <tbody>\n",
       "    <tr>\n",
       "      <th id=\"T_086d9_level0_row0\" class=\"row_heading level0 row0\" >0</th>\n",
       "      <td id=\"T_086d9_row0_col0\" class=\"data row0 col0\" >Santa Ana</td>\n",
       "      <td id=\"T_086d9_row0_col1\" class=\"data row0 col1\" >1</td>\n",
       "      <td id=\"T_086d9_row0_col2\" class=\"data row0 col2\" >100.00%</td>\n",
       "    </tr>\n",
       "  </tbody>\n",
       "</table>\n"
      ],
      "text/plain": [
       "<pandas.io.formats.style.Styler at 0x7f3e117c5040>"
      ]
     },
     "metadata": {},
     "output_type": "display_data"
    },
    {
     "data": {
      "text/html": [
       "\n",
       "<div id=\"altair-viz-b3640d4eed2d41eba7b5a0981386409c\"></div>\n",
       "<script type=\"text/javascript\">\n",
       "  var VEGA_DEBUG = (typeof VEGA_DEBUG == \"undefined\") ? {} : VEGA_DEBUG;\n",
       "  (function(spec, embedOpt){\n",
       "    let outputDiv = document.currentScript.previousElementSibling;\n",
       "    if (outputDiv.id !== \"altair-viz-b3640d4eed2d41eba7b5a0981386409c\") {\n",
       "      outputDiv = document.getElementById(\"altair-viz-b3640d4eed2d41eba7b5a0981386409c\");\n",
       "    }\n",
       "    const paths = {\n",
       "      \"vega\": \"https://cdn.jsdelivr.net/npm//vega@5?noext\",\n",
       "      \"vega-lib\": \"https://cdn.jsdelivr.net/npm//vega-lib?noext\",\n",
       "      \"vega-lite\": \"https://cdn.jsdelivr.net/npm//vega-lite@4.17.0?noext\",\n",
       "      \"vega-embed\": \"https://cdn.jsdelivr.net/npm//vega-embed@6?noext\",\n",
       "    };\n",
       "\n",
       "    function maybeLoadScript(lib, version) {\n",
       "      var key = `${lib.replace(\"-\", \"\")}_version`;\n",
       "      return (VEGA_DEBUG[key] == version) ?\n",
       "        Promise.resolve(paths[lib]) :\n",
       "        new Promise(function(resolve, reject) {\n",
       "          var s = document.createElement('script');\n",
       "          document.getElementsByTagName(\"head\")[0].appendChild(s);\n",
       "          s.async = true;\n",
       "          s.onload = () => {\n",
       "            VEGA_DEBUG[key] = version;\n",
       "            return resolve(paths[lib]);\n",
       "          };\n",
       "          s.onerror = () => reject(`Error loading script: ${paths[lib]}`);\n",
       "          s.src = paths[lib];\n",
       "        });\n",
       "    }\n",
       "\n",
       "    function showError(err) {\n",
       "      outputDiv.innerHTML = `<div class=\"error\" style=\"color:red;\">${err}</div>`;\n",
       "      throw err;\n",
       "    }\n",
       "\n",
       "    function displayChart(vegaEmbed) {\n",
       "      vegaEmbed(outputDiv, spec, embedOpt)\n",
       "        .catch(err => showError(`Javascript Error: ${err.message}<br>This usually means there's a typo in your chart specification. See the javascript console for the full traceback.`));\n",
       "    }\n",
       "\n",
       "    if(typeof define === \"function\" && define.amd) {\n",
       "      requirejs.config({paths});\n",
       "      require([\"vega-embed\"], displayChart, err => showError(`Error loading script: ${err.message}`));\n",
       "    } else {\n",
       "      maybeLoadScript(\"vega\", \"5\")\n",
       "        .then(() => maybeLoadScript(\"vega-lite\", \"4.17.0\"))\n",
       "        .then(() => maybeLoadScript(\"vega-embed\", \"6\"))\n",
       "        .catch(showError)\n",
       "        .then(() => displayChart(vegaEmbed));\n",
       "    }\n",
       "  })({\"config\": {\"view\": {\"continuousWidth\": 400, \"continuousHeight\": 300}}, \"data\": {\"name\": \"data-59ee6ba124d7e00100458fe12b870108\"}, \"mark\": \"bar\", \"encoding\": {\"color\": {\"field\": \"Categories\", \"scale\": {\"range\": [\"#2EA8CE\", \"#EB9F3C\", \"#F4D837\", \"#51BF9D\", \"#8CBCCB\", \"#9487C0\"]}, \"type\": \"nominal\"}, \"row\": {\"field\": \"Categories\", \"type\": \"nominal\"}, \"tooltip\": [{\"field\": \"Agency\", \"type\": \"nominal\"}, {\"field\": \"Funding Amount\", \"type\": \"quantitative\"}], \"x\": {\"axis\": {\"format\": \"$.2s\", \"title\": \"Obligated Funding ($2021)\"}, \"field\": \"Funding Amount\", \"type\": \"quantitative\"}, \"y\": {\"field\": \"Agency\", \"type\": \"nominal\"}}, \"$schema\": \"https://vega.github.io/schema/vega-lite/v4.17.0.json\", \"datasets\": {\"data-59ee6ba124d7e00100458fe12b870108\": [{\"Agency\": \"Santa Ana\", \"Categories\": \"Total Requested\", \"Funding Amount\": 2894932.1151953684}, {\"Agency\": \"Santa Ana\", \"Categories\": \"Fed Requested\", \"Funding Amount\": 2201564.6359225395}, {\"Agency\": \"Santa Ana\", \"Categories\": \"AC Requested\", \"Funding Amount\": 0.0}]}}, {\"mode\": \"vega-lite\"});\n",
       "</script>"
      ],
      "text/plain": [
       "alt.Chart(...)"
      ]
     },
     "metadata": {},
     "output_type": "display_data"
    },
    {
     "data": {
      "application/vnd.jupyter.widget-view+json": {
       "model_id": "8c8b9fd631fb4b03bccd3ef3f2f08bac",
       "version_major": 2,
       "version_minor": 0
      },
      "text/plain": [
       "HTML(value='<h3> Top Agencies using Bridge Projects </h3>')"
      ]
     },
     "metadata": {},
     "output_type": "display_data"
    },
    {
     "data": {
      "text/html": [
       "<style type=\"text/css\">\n",
       "</style>\n",
       "<table id=\"T_4fdb8\">\n",
       "  <thead>\n",
       "    <tr>\n",
       "      <th class=\"blank level0\" >&nbsp;</th>\n",
       "      <th id=\"T_4fdb8_level0_col0\" class=\"col_heading level0 col0\" >Agency</th>\n",
       "      <th id=\"T_4fdb8_level0_col1\" class=\"col_heading level0 col1\" >Bridge Obligations</th>\n",
       "      <th id=\"T_4fdb8_level0_col2\" class=\"col_heading level0 col2\" >Percent of Category</th>\n",
       "    </tr>\n",
       "  </thead>\n",
       "  <tbody>\n",
       "    <tr>\n",
       "      <th id=\"T_4fdb8_level0_row0\" class=\"row_heading level0 row0\" >0</th>\n",
       "      <td id=\"T_4fdb8_row0_col0\" class=\"data row0 col0\" >Orange County</td>\n",
       "      <td id=\"T_4fdb8_row0_col1\" class=\"data row0 col1\" >14</td>\n",
       "      <td id=\"T_4fdb8_row0_col2\" class=\"data row0 col2\" >24.14%</td>\n",
       "    </tr>\n",
       "    <tr>\n",
       "      <th id=\"T_4fdb8_level0_row1\" class=\"row_heading level0 row1\" >1</th>\n",
       "      <td id=\"T_4fdb8_row1_col0\" class=\"data row1 col0\" >Huntington Beach</td>\n",
       "      <td id=\"T_4fdb8_row1_col1\" class=\"data row1 col1\" >10</td>\n",
       "      <td id=\"T_4fdb8_row1_col2\" class=\"data row1 col2\" >17.24%</td>\n",
       "    </tr>\n",
       "    <tr>\n",
       "      <th id=\"T_4fdb8_level0_row2\" class=\"row_heading level0 row2\" >2</th>\n",
       "      <td id=\"T_4fdb8_row2_col0\" class=\"data row2 col0\" >Santa Ana</td>\n",
       "      <td id=\"T_4fdb8_row2_col1\" class=\"data row2 col1\" >9</td>\n",
       "      <td id=\"T_4fdb8_row2_col2\" class=\"data row2 col2\" >15.52%</td>\n",
       "    </tr>\n",
       "    <tr>\n",
       "      <th id=\"T_4fdb8_level0_row3\" class=\"row_heading level0 row3\" >3</th>\n",
       "      <td id=\"T_4fdb8_row3_col0\" class=\"data row3 col0\" >Rancho Santa Margarita</td>\n",
       "      <td id=\"T_4fdb8_row3_col1\" class=\"data row3 col1\" >8</td>\n",
       "      <td id=\"T_4fdb8_row3_col2\" class=\"data row3 col2\" >13.79%</td>\n",
       "    </tr>\n",
       "    <tr>\n",
       "      <th id=\"T_4fdb8_level0_row4\" class=\"row_heading level0 row4\" >4</th>\n",
       "      <td id=\"T_4fdb8_row4_col0\" class=\"data row4 col0\" >Newport Beach</td>\n",
       "      <td id=\"T_4fdb8_row4_col1\" class=\"data row4 col1\" >4</td>\n",
       "      <td id=\"T_4fdb8_row4_col2\" class=\"data row4 col2\" >6.90%</td>\n",
       "    </tr>\n",
       "  </tbody>\n",
       "</table>\n"
      ],
      "text/plain": [
       "<pandas.io.formats.style.Styler at 0x7f3e1371c520>"
      ]
     },
     "metadata": {},
     "output_type": "display_data"
    },
    {
     "data": {
      "text/html": [
       "\n",
       "<div id=\"altair-viz-bbf251955b094f97a87cfdadb423c9cf\"></div>\n",
       "<script type=\"text/javascript\">\n",
       "  var VEGA_DEBUG = (typeof VEGA_DEBUG == \"undefined\") ? {} : VEGA_DEBUG;\n",
       "  (function(spec, embedOpt){\n",
       "    let outputDiv = document.currentScript.previousElementSibling;\n",
       "    if (outputDiv.id !== \"altair-viz-bbf251955b094f97a87cfdadb423c9cf\") {\n",
       "      outputDiv = document.getElementById(\"altair-viz-bbf251955b094f97a87cfdadb423c9cf\");\n",
       "    }\n",
       "    const paths = {\n",
       "      \"vega\": \"https://cdn.jsdelivr.net/npm//vega@5?noext\",\n",
       "      \"vega-lib\": \"https://cdn.jsdelivr.net/npm//vega-lib?noext\",\n",
       "      \"vega-lite\": \"https://cdn.jsdelivr.net/npm//vega-lite@4.17.0?noext\",\n",
       "      \"vega-embed\": \"https://cdn.jsdelivr.net/npm//vega-embed@6?noext\",\n",
       "    };\n",
       "\n",
       "    function maybeLoadScript(lib, version) {\n",
       "      var key = `${lib.replace(\"-\", \"\")}_version`;\n",
       "      return (VEGA_DEBUG[key] == version) ?\n",
       "        Promise.resolve(paths[lib]) :\n",
       "        new Promise(function(resolve, reject) {\n",
       "          var s = document.createElement('script');\n",
       "          document.getElementsByTagName(\"head\")[0].appendChild(s);\n",
       "          s.async = true;\n",
       "          s.onload = () => {\n",
       "            VEGA_DEBUG[key] = version;\n",
       "            return resolve(paths[lib]);\n",
       "          };\n",
       "          s.onerror = () => reject(`Error loading script: ${paths[lib]}`);\n",
       "          s.src = paths[lib];\n",
       "        });\n",
       "    }\n",
       "\n",
       "    function showError(err) {\n",
       "      outputDiv.innerHTML = `<div class=\"error\" style=\"color:red;\">${err}</div>`;\n",
       "      throw err;\n",
       "    }\n",
       "\n",
       "    function displayChart(vegaEmbed) {\n",
       "      vegaEmbed(outputDiv, spec, embedOpt)\n",
       "        .catch(err => showError(`Javascript Error: ${err.message}<br>This usually means there's a typo in your chart specification. See the javascript console for the full traceback.`));\n",
       "    }\n",
       "\n",
       "    if(typeof define === \"function\" && define.amd) {\n",
       "      requirejs.config({paths});\n",
       "      require([\"vega-embed\"], displayChart, err => showError(`Error loading script: ${err.message}`));\n",
       "    } else {\n",
       "      maybeLoadScript(\"vega\", \"5\")\n",
       "        .then(() => maybeLoadScript(\"vega-lite\", \"4.17.0\"))\n",
       "        .then(() => maybeLoadScript(\"vega-embed\", \"6\"))\n",
       "        .catch(showError)\n",
       "        .then(() => displayChart(vegaEmbed));\n",
       "    }\n",
       "  })({\"config\": {\"view\": {\"continuousWidth\": 400, \"continuousHeight\": 300}}, \"data\": {\"name\": \"data-865ac8ba2286a2295eb1a88037ef5690\"}, \"mark\": \"bar\", \"encoding\": {\"color\": {\"field\": \"Categories\", \"scale\": {\"range\": [\"#2EA8CE\", \"#EB9F3C\", \"#F4D837\", \"#51BF9D\", \"#8CBCCB\", \"#9487C0\"]}, \"type\": \"nominal\"}, \"row\": {\"field\": \"Categories\", \"type\": \"nominal\"}, \"tooltip\": [{\"field\": \"Agency\", \"type\": \"nominal\"}, {\"field\": \"Funding Amount\", \"type\": \"quantitative\"}], \"x\": {\"axis\": {\"format\": \"$.2s\", \"title\": \"Obligated Funding ($2021)\"}, \"field\": \"Funding Amount\", \"type\": \"quantitative\"}, \"y\": {\"field\": \"Agency\", \"type\": \"nominal\"}}, \"$schema\": \"https://vega.github.io/schema/vega-lite/v4.17.0.json\", \"datasets\": {\"data-865ac8ba2286a2295eb1a88037ef5690\": [{\"Agency\": \"Orange County\", \"Categories\": \"Total Requested\", \"Funding Amount\": 1880379.5362046862}, {\"Agency\": \"Huntington Beach\", \"Categories\": \"Total Requested\", \"Funding Amount\": 418363.86535572435}, {\"Agency\": \"Santa Ana\", \"Categories\": \"Total Requested\", \"Funding Amount\": -14075.784994812471}, {\"Agency\": \"Rancho Santa Margarita\", \"Categories\": \"Total Requested\", \"Funding Amount\": 613363.7959034937}, {\"Agency\": \"Newport Beach\", \"Categories\": \"Total Requested\", \"Funding Amount\": 2583496.66766644}, {\"Agency\": \"Orange County\", \"Categories\": \"Fed Requested\", \"Funding Amount\": 1380176.0311926806}, {\"Agency\": \"Huntington Beach\", \"Categories\": \"Fed Requested\", \"Funding Amount\": 357180.77917349385}, {\"Agency\": \"Santa Ana\", \"Categories\": \"Fed Requested\", \"Funding Amount\": -37560.98057218406}, {\"Agency\": \"Rancho Santa Margarita\", \"Categories\": \"Fed Requested\", \"Funding Amount\": 543010.5025300246}, {\"Agency\": \"Newport Beach\", \"Categories\": \"Fed Requested\", \"Funding Amount\": 2522231.4949943754}, {\"Agency\": \"Orange County\", \"Categories\": \"AC Requested\", \"Funding Amount\": 0.0}, {\"Agency\": \"Huntington Beach\", \"Categories\": \"AC Requested\", \"Funding Amount\": 0.0}, {\"Agency\": \"Santa Ana\", \"Categories\": \"AC Requested\", \"Funding Amount\": 0.0}, {\"Agency\": \"Rancho Santa Margarita\", \"Categories\": \"AC Requested\", \"Funding Amount\": 0.0}, {\"Agency\": \"Newport Beach\", \"Categories\": \"AC Requested\", \"Funding Amount\": 0.0}]}}, {\"mode\": \"vega-lite\"});\n",
       "</script>"
      ],
      "text/plain": [
       "alt.Chart(...)"
      ]
     },
     "metadata": {},
     "output_type": "display_data"
    },
    {
     "data": {
      "application/vnd.jupyter.widget-view+json": {
       "model_id": "1992fd2c37d64bba8a097a3f68d147ad",
       "version_major": 2,
       "version_minor": 0
      },
      "text/plain": [
       "HTML(value='<h3> Top Agencies using Street Projects </h3>')"
      ]
     },
     "metadata": {},
     "output_type": "display_data"
    },
    {
     "data": {
      "text/html": [
       "<style type=\"text/css\">\n",
       "</style>\n",
       "<table id=\"T_6b974\">\n",
       "  <thead>\n",
       "    <tr>\n",
       "      <th class=\"blank level0\" >&nbsp;</th>\n",
       "      <th id=\"T_6b974_level0_col0\" class=\"col_heading level0 col0\" >Agency</th>\n",
       "      <th id=\"T_6b974_level0_col1\" class=\"col_heading level0 col1\" >Street Obligations</th>\n",
       "      <th id=\"T_6b974_level0_col2\" class=\"col_heading level0 col2\" >Percent of Category</th>\n",
       "    </tr>\n",
       "  </thead>\n",
       "  <tbody>\n",
       "    <tr>\n",
       "      <th id=\"T_6b974_level0_row0\" class=\"row_heading level0 row0\" >0</th>\n",
       "      <td id=\"T_6b974_row0_col0\" class=\"data row0 col0\" >Huntington Beach</td>\n",
       "      <td id=\"T_6b974_row0_col1\" class=\"data row0 col1\" >50</td>\n",
       "      <td id=\"T_6b974_row0_col2\" class=\"data row0 col2\" >13.81%</td>\n",
       "    </tr>\n",
       "    <tr>\n",
       "      <th id=\"T_6b974_level0_row1\" class=\"row_heading level0 row1\" >1</th>\n",
       "      <td id=\"T_6b974_row1_col0\" class=\"data row1 col0\" >Orange</td>\n",
       "      <td id=\"T_6b974_row1_col1\" class=\"data row1 col1\" >50</td>\n",
       "      <td id=\"T_6b974_row1_col2\" class=\"data row1 col2\" >13.81%</td>\n",
       "    </tr>\n",
       "    <tr>\n",
       "      <th id=\"T_6b974_level0_row2\" class=\"row_heading level0 row2\" >2</th>\n",
       "      <td id=\"T_6b974_row2_col0\" class=\"data row2 col0\" >Santa Ana</td>\n",
       "      <td id=\"T_6b974_row2_col1\" class=\"data row2 col1\" >47</td>\n",
       "      <td id=\"T_6b974_row2_col2\" class=\"data row2 col2\" >12.98%</td>\n",
       "    </tr>\n",
       "    <tr>\n",
       "      <th id=\"T_6b974_level0_row3\" class=\"row_heading level0 row3\" >3</th>\n",
       "      <td id=\"T_6b974_row3_col0\" class=\"data row3 col0\" >Costa Mesa</td>\n",
       "      <td id=\"T_6b974_row3_col1\" class=\"data row3 col1\" >32</td>\n",
       "      <td id=\"T_6b974_row3_col2\" class=\"data row3 col2\" >8.84%</td>\n",
       "    </tr>\n",
       "    <tr>\n",
       "      <th id=\"T_6b974_level0_row4\" class=\"row_heading level0 row4\" >4</th>\n",
       "      <td id=\"T_6b974_row4_col0\" class=\"data row4 col0\" >Anaheim</td>\n",
       "      <td id=\"T_6b974_row4_col1\" class=\"data row4 col1\" >27</td>\n",
       "      <td id=\"T_6b974_row4_col2\" class=\"data row4 col2\" >7.46%</td>\n",
       "    </tr>\n",
       "  </tbody>\n",
       "</table>\n"
      ],
      "text/plain": [
       "<pandas.io.formats.style.Styler at 0x7f3e1371cf40>"
      ]
     },
     "metadata": {},
     "output_type": "display_data"
    },
    {
     "data": {
      "text/html": [
       "\n",
       "<div id=\"altair-viz-1d560fa8d10941a793e93f4a2f04defd\"></div>\n",
       "<script type=\"text/javascript\">\n",
       "  var VEGA_DEBUG = (typeof VEGA_DEBUG == \"undefined\") ? {} : VEGA_DEBUG;\n",
       "  (function(spec, embedOpt){\n",
       "    let outputDiv = document.currentScript.previousElementSibling;\n",
       "    if (outputDiv.id !== \"altair-viz-1d560fa8d10941a793e93f4a2f04defd\") {\n",
       "      outputDiv = document.getElementById(\"altair-viz-1d560fa8d10941a793e93f4a2f04defd\");\n",
       "    }\n",
       "    const paths = {\n",
       "      \"vega\": \"https://cdn.jsdelivr.net/npm//vega@5?noext\",\n",
       "      \"vega-lib\": \"https://cdn.jsdelivr.net/npm//vega-lib?noext\",\n",
       "      \"vega-lite\": \"https://cdn.jsdelivr.net/npm//vega-lite@4.17.0?noext\",\n",
       "      \"vega-embed\": \"https://cdn.jsdelivr.net/npm//vega-embed@6?noext\",\n",
       "    };\n",
       "\n",
       "    function maybeLoadScript(lib, version) {\n",
       "      var key = `${lib.replace(\"-\", \"\")}_version`;\n",
       "      return (VEGA_DEBUG[key] == version) ?\n",
       "        Promise.resolve(paths[lib]) :\n",
       "        new Promise(function(resolve, reject) {\n",
       "          var s = document.createElement('script');\n",
       "          document.getElementsByTagName(\"head\")[0].appendChild(s);\n",
       "          s.async = true;\n",
       "          s.onload = () => {\n",
       "            VEGA_DEBUG[key] = version;\n",
       "            return resolve(paths[lib]);\n",
       "          };\n",
       "          s.onerror = () => reject(`Error loading script: ${paths[lib]}`);\n",
       "          s.src = paths[lib];\n",
       "        });\n",
       "    }\n",
       "\n",
       "    function showError(err) {\n",
       "      outputDiv.innerHTML = `<div class=\"error\" style=\"color:red;\">${err}</div>`;\n",
       "      throw err;\n",
       "    }\n",
       "\n",
       "    function displayChart(vegaEmbed) {\n",
       "      vegaEmbed(outputDiv, spec, embedOpt)\n",
       "        .catch(err => showError(`Javascript Error: ${err.message}<br>This usually means there's a typo in your chart specification. See the javascript console for the full traceback.`));\n",
       "    }\n",
       "\n",
       "    if(typeof define === \"function\" && define.amd) {\n",
       "      requirejs.config({paths});\n",
       "      require([\"vega-embed\"], displayChart, err => showError(`Error loading script: ${err.message}`));\n",
       "    } else {\n",
       "      maybeLoadScript(\"vega\", \"5\")\n",
       "        .then(() => maybeLoadScript(\"vega-lite\", \"4.17.0\"))\n",
       "        .then(() => maybeLoadScript(\"vega-embed\", \"6\"))\n",
       "        .catch(showError)\n",
       "        .then(() => displayChart(vegaEmbed));\n",
       "    }\n",
       "  })({\"config\": {\"view\": {\"continuousWidth\": 400, \"continuousHeight\": 300}}, \"data\": {\"name\": \"data-9a5dfc059da0c92c5979726339834931\"}, \"mark\": \"bar\", \"encoding\": {\"color\": {\"field\": \"Categories\", \"scale\": {\"range\": [\"#2EA8CE\", \"#EB9F3C\", \"#F4D837\", \"#51BF9D\", \"#8CBCCB\", \"#9487C0\"]}, \"type\": \"nominal\"}, \"row\": {\"field\": \"Categories\", \"type\": \"nominal\"}, \"tooltip\": [{\"field\": \"Agency\", \"type\": \"nominal\"}, {\"field\": \"Funding Amount\", \"type\": \"quantitative\"}], \"x\": {\"axis\": {\"format\": \"$.2s\", \"title\": \"Obligated Funding ($2021)\"}, \"field\": \"Funding Amount\", \"type\": \"quantitative\"}, \"y\": {\"field\": \"Agency\", \"type\": \"nominal\"}}, \"$schema\": \"https://vega.github.io/schema/vega-lite/v4.17.0.json\", \"datasets\": {\"data-9a5dfc059da0c92c5979726339834931\": [{\"Agency\": \"Huntington Beach\", \"Categories\": \"Total Requested\", \"Funding Amount\": 247791.02440880434}, {\"Agency\": \"Orange\", \"Categories\": \"Total Requested\", \"Funding Amount\": 134482.46592784283}, {\"Agency\": \"Santa Ana\", \"Categories\": \"Total Requested\", \"Funding Amount\": 734244.6912294986}, {\"Agency\": \"Costa Mesa\", \"Categories\": \"Total Requested\", \"Funding Amount\": 346216.64036073146}, {\"Agency\": \"Anaheim\", \"Categories\": \"Total Requested\", \"Funding Amount\": 552494.7035975001}, {\"Agency\": \"Huntington Beach\", \"Categories\": \"Fed Requested\", \"Funding Amount\": 143386.93651379936}, {\"Agency\": \"Orange\", \"Categories\": \"Fed Requested\", \"Funding Amount\": 91854.15938840753}, {\"Agency\": \"Santa Ana\", \"Categories\": \"Fed Requested\", \"Funding Amount\": 301955.38759418705}, {\"Agency\": \"Costa Mesa\", \"Categories\": \"Fed Requested\", \"Funding Amount\": 202208.95191135025}, {\"Agency\": \"Anaheim\", \"Categories\": \"Fed Requested\", \"Funding Amount\": 269384.7114847224}, {\"Agency\": \"Huntington Beach\", \"Categories\": \"AC Requested\", \"Funding Amount\": 0.0}, {\"Agency\": \"Orange\", \"Categories\": \"AC Requested\", \"Funding Amount\": 0.0}, {\"Agency\": \"Santa Ana\", \"Categories\": \"AC Requested\", \"Funding Amount\": -20828.211319901846}, {\"Agency\": \"Costa Mesa\", \"Categories\": \"AC Requested\", \"Funding Amount\": -35768.98738290274}, {\"Agency\": \"Anaheim\", \"Categories\": \"AC Requested\", \"Funding Amount\": 0.0}]}}, {\"mode\": \"vega-lite\"});\n",
       "</script>"
      ],
      "text/plain": [
       "alt.Chart(...)"
      ]
     },
     "metadata": {},
     "output_type": "display_data"
    },
    {
     "data": {
      "application/vnd.jupyter.widget-view+json": {
       "model_id": "9a922fbede5f48a6a906421526cbdcbf",
       "version_major": 2,
       "version_minor": 0
      },
      "text/plain": [
       "HTML(value='<h3> Top Agencies using Freeway Projects </h3>')"
      ]
     },
     "metadata": {},
     "output_type": "display_data"
    },
    {
     "data": {
      "text/html": [
       "<style type=\"text/css\">\n",
       "</style>\n",
       "<table id=\"T_8d37d\">\n",
       "  <thead>\n",
       "    <tr>\n",
       "      <th class=\"blank level0\" >&nbsp;</th>\n",
       "      <th id=\"T_8d37d_level0_col0\" class=\"col_heading level0 col0\" >Agency</th>\n",
       "      <th id=\"T_8d37d_level0_col1\" class=\"col_heading level0 col1\" >Freeway Obligations</th>\n",
       "      <th id=\"T_8d37d_level0_col2\" class=\"col_heading level0 col2\" >Percent of Category</th>\n",
       "    </tr>\n",
       "  </thead>\n",
       "  <tbody>\n",
       "    <tr>\n",
       "      <th id=\"T_8d37d_level0_row0\" class=\"row_heading level0 row0\" >0</th>\n",
       "      <td id=\"T_8d37d_row0_col0\" class=\"data row0 col0\" >Orange County Transportation Authority</td>\n",
       "      <td id=\"T_8d37d_row0_col1\" class=\"data row0 col1\" >14</td>\n",
       "      <td id=\"T_8d37d_row0_col2\" class=\"data row0 col2\" >60.87%</td>\n",
       "    </tr>\n",
       "    <tr>\n",
       "      <th id=\"T_8d37d_level0_row1\" class=\"row_heading level0 row1\" >1</th>\n",
       "      <td id=\"T_8d37d_row1_col0\" class=\"data row1 col0\" >Caltrans</td>\n",
       "      <td id=\"T_8d37d_row1_col1\" class=\"data row1 col1\" >9</td>\n",
       "      <td id=\"T_8d37d_row1_col2\" class=\"data row1 col2\" >39.13%</td>\n",
       "    </tr>\n",
       "  </tbody>\n",
       "</table>\n"
      ],
      "text/plain": [
       "<pandas.io.formats.style.Styler at 0x7f3e11783d60>"
      ]
     },
     "metadata": {},
     "output_type": "display_data"
    },
    {
     "data": {
      "text/html": [
       "\n",
       "<div id=\"altair-viz-efa51d18e3ba40f4873aca8098939492\"></div>\n",
       "<script type=\"text/javascript\">\n",
       "  var VEGA_DEBUG = (typeof VEGA_DEBUG == \"undefined\") ? {} : VEGA_DEBUG;\n",
       "  (function(spec, embedOpt){\n",
       "    let outputDiv = document.currentScript.previousElementSibling;\n",
       "    if (outputDiv.id !== \"altair-viz-efa51d18e3ba40f4873aca8098939492\") {\n",
       "      outputDiv = document.getElementById(\"altair-viz-efa51d18e3ba40f4873aca8098939492\");\n",
       "    }\n",
       "    const paths = {\n",
       "      \"vega\": \"https://cdn.jsdelivr.net/npm//vega@5?noext\",\n",
       "      \"vega-lib\": \"https://cdn.jsdelivr.net/npm//vega-lib?noext\",\n",
       "      \"vega-lite\": \"https://cdn.jsdelivr.net/npm//vega-lite@4.17.0?noext\",\n",
       "      \"vega-embed\": \"https://cdn.jsdelivr.net/npm//vega-embed@6?noext\",\n",
       "    };\n",
       "\n",
       "    function maybeLoadScript(lib, version) {\n",
       "      var key = `${lib.replace(\"-\", \"\")}_version`;\n",
       "      return (VEGA_DEBUG[key] == version) ?\n",
       "        Promise.resolve(paths[lib]) :\n",
       "        new Promise(function(resolve, reject) {\n",
       "          var s = document.createElement('script');\n",
       "          document.getElementsByTagName(\"head\")[0].appendChild(s);\n",
       "          s.async = true;\n",
       "          s.onload = () => {\n",
       "            VEGA_DEBUG[key] = version;\n",
       "            return resolve(paths[lib]);\n",
       "          };\n",
       "          s.onerror = () => reject(`Error loading script: ${paths[lib]}`);\n",
       "          s.src = paths[lib];\n",
       "        });\n",
       "    }\n",
       "\n",
       "    function showError(err) {\n",
       "      outputDiv.innerHTML = `<div class=\"error\" style=\"color:red;\">${err}</div>`;\n",
       "      throw err;\n",
       "    }\n",
       "\n",
       "    function displayChart(vegaEmbed) {\n",
       "      vegaEmbed(outputDiv, spec, embedOpt)\n",
       "        .catch(err => showError(`Javascript Error: ${err.message}<br>This usually means there's a typo in your chart specification. See the javascript console for the full traceback.`));\n",
       "    }\n",
       "\n",
       "    if(typeof define === \"function\" && define.amd) {\n",
       "      requirejs.config({paths});\n",
       "      require([\"vega-embed\"], displayChart, err => showError(`Error loading script: ${err.message}`));\n",
       "    } else {\n",
       "      maybeLoadScript(\"vega\", \"5\")\n",
       "        .then(() => maybeLoadScript(\"vega-lite\", \"4.17.0\"))\n",
       "        .then(() => maybeLoadScript(\"vega-embed\", \"6\"))\n",
       "        .catch(showError)\n",
       "        .then(() => displayChart(vegaEmbed));\n",
       "    }\n",
       "  })({\"config\": {\"view\": {\"continuousWidth\": 400, \"continuousHeight\": 300}}, \"data\": {\"name\": \"data-00c72462b34c598786a43a961de521a0\"}, \"mark\": \"bar\", \"encoding\": {\"color\": {\"field\": \"Categories\", \"scale\": {\"range\": [\"#2EA8CE\", \"#EB9F3C\", \"#F4D837\", \"#51BF9D\", \"#8CBCCB\", \"#9487C0\"]}, \"type\": \"nominal\"}, \"row\": {\"field\": \"Categories\", \"type\": \"nominal\"}, \"tooltip\": [{\"field\": \"Agency\", \"type\": \"nominal\"}, {\"field\": \"Funding Amount\", \"type\": \"quantitative\"}], \"x\": {\"axis\": {\"format\": \"$.2s\", \"title\": \"Obligated Funding ($2021)\"}, \"field\": \"Funding Amount\", \"type\": \"quantitative\"}, \"y\": {\"field\": \"Agency\", \"type\": \"nominal\"}}, \"$schema\": \"https://vega.github.io/schema/vega-lite/v4.17.0.json\", \"datasets\": {\"data-00c72462b34c598786a43a961de521a0\": [{\"Agency\": \"Orange County Transportation Authority\", \"Categories\": \"Total Requested\", \"Funding Amount\": -15203685.128665438}, {\"Agency\": \"Caltrans\", \"Categories\": \"Total Requested\", \"Funding Amount\": -2507575.308518317}, {\"Agency\": \"Orange County Transportation Authority\", \"Categories\": \"Fed Requested\", \"Funding Amount\": 21944394.24301589}, {\"Agency\": \"Caltrans\", \"Categories\": \"Fed Requested\", \"Funding Amount\": 201706.96108382402}, {\"Agency\": \"Orange County Transportation Authority\", \"Categories\": \"AC Requested\", \"Funding Amount\": 0.0}, {\"Agency\": \"Caltrans\", \"Categories\": \"AC Requested\", \"Funding Amount\": 0.0}]}}, {\"mode\": \"vega-lite\"});\n",
       "</script>"
      ],
      "text/plain": [
       "alt.Chart(...)"
      ]
     },
     "metadata": {},
     "output_type": "display_data"
    },
    {
     "data": {
      "application/vnd.jupyter.widget-view+json": {
       "model_id": "52d637c75ff84a40896c4ffa981eb135",
       "version_major": 2,
       "version_minor": 0
      },
      "text/plain": [
       "HTML(value='<h3> Top Agencies using Infrastructure & Emergency Relief Projects </h3>')"
      ]
     },
     "metadata": {},
     "output_type": "display_data"
    },
    {
     "data": {
      "text/html": [
       "<style type=\"text/css\">\n",
       "</style>\n",
       "<table id=\"T_a189e\">\n",
       "  <thead>\n",
       "    <tr>\n",
       "      <th class=\"blank level0\" >&nbsp;</th>\n",
       "      <th id=\"T_a189e_level0_col0\" class=\"col_heading level0 col0\" >Agency</th>\n",
       "      <th id=\"T_a189e_level0_col1\" class=\"col_heading level0 col1\" >Infrastructure & Emergency Relief Obligations</th>\n",
       "      <th id=\"T_a189e_level0_col2\" class=\"col_heading level0 col2\" >Percent of Category</th>\n",
       "    </tr>\n",
       "  </thead>\n",
       "  <tbody>\n",
       "    <tr>\n",
       "      <th id=\"T_a189e_level0_row0\" class=\"row_heading level0 row0\" >0</th>\n",
       "      <td id=\"T_a189e_row0_col0\" class=\"data row0 col0\" >Orange County Transportation Authority</td>\n",
       "      <td id=\"T_a189e_row0_col1\" class=\"data row0 col1\" >48</td>\n",
       "      <td id=\"T_a189e_row0_col2\" class=\"data row0 col2\" >16.05%</td>\n",
       "    </tr>\n",
       "    <tr>\n",
       "      <th id=\"T_a189e_level0_row1\" class=\"row_heading level0 row1\" >1</th>\n",
       "      <td id=\"T_a189e_row1_col0\" class=\"data row1 col0\" >Huntington Beach</td>\n",
       "      <td id=\"T_a189e_row1_col1\" class=\"data row1 col1\" >31</td>\n",
       "      <td id=\"T_a189e_row1_col2\" class=\"data row1 col2\" >10.37%</td>\n",
       "    </tr>\n",
       "    <tr>\n",
       "      <th id=\"T_a189e_level0_row2\" class=\"row_heading level0 row2\" >2</th>\n",
       "      <td id=\"T_a189e_row2_col0\" class=\"data row2 col0\" >Orange County</td>\n",
       "      <td id=\"T_a189e_row2_col1\" class=\"data row2 col1\" >28</td>\n",
       "      <td id=\"T_a189e_row2_col2\" class=\"data row2 col2\" >9.36%</td>\n",
       "    </tr>\n",
       "    <tr>\n",
       "      <th id=\"T_a189e_level0_row3\" class=\"row_heading level0 row3\" >3</th>\n",
       "      <td id=\"T_a189e_row3_col0\" class=\"data row3 col0\" >Santa Ana</td>\n",
       "      <td id=\"T_a189e_row3_col1\" class=\"data row3 col1\" >21</td>\n",
       "      <td id=\"T_a189e_row3_col2\" class=\"data row3 col2\" >7.02%</td>\n",
       "    </tr>\n",
       "    <tr>\n",
       "      <th id=\"T_a189e_level0_row4\" class=\"row_heading level0 row4\" >4</th>\n",
       "      <td id=\"T_a189e_row4_col0\" class=\"data row4 col0\" >Anaheim</td>\n",
       "      <td id=\"T_a189e_row4_col1\" class=\"data row4 col1\" >19</td>\n",
       "      <td id=\"T_a189e_row4_col2\" class=\"data row4 col2\" >6.35%</td>\n",
       "    </tr>\n",
       "  </tbody>\n",
       "</table>\n"
      ],
      "text/plain": [
       "<pandas.io.formats.style.Styler at 0x7f3e1220fc70>"
      ]
     },
     "metadata": {},
     "output_type": "display_data"
    },
    {
     "data": {
      "text/html": [
       "\n",
       "<div id=\"altair-viz-c901d963e5474be4ae2a27e535f32c4d\"></div>\n",
       "<script type=\"text/javascript\">\n",
       "  var VEGA_DEBUG = (typeof VEGA_DEBUG == \"undefined\") ? {} : VEGA_DEBUG;\n",
       "  (function(spec, embedOpt){\n",
       "    let outputDiv = document.currentScript.previousElementSibling;\n",
       "    if (outputDiv.id !== \"altair-viz-c901d963e5474be4ae2a27e535f32c4d\") {\n",
       "      outputDiv = document.getElementById(\"altair-viz-c901d963e5474be4ae2a27e535f32c4d\");\n",
       "    }\n",
       "    const paths = {\n",
       "      \"vega\": \"https://cdn.jsdelivr.net/npm//vega@5?noext\",\n",
       "      \"vega-lib\": \"https://cdn.jsdelivr.net/npm//vega-lib?noext\",\n",
       "      \"vega-lite\": \"https://cdn.jsdelivr.net/npm//vega-lite@4.17.0?noext\",\n",
       "      \"vega-embed\": \"https://cdn.jsdelivr.net/npm//vega-embed@6?noext\",\n",
       "    };\n",
       "\n",
       "    function maybeLoadScript(lib, version) {\n",
       "      var key = `${lib.replace(\"-\", \"\")}_version`;\n",
       "      return (VEGA_DEBUG[key] == version) ?\n",
       "        Promise.resolve(paths[lib]) :\n",
       "        new Promise(function(resolve, reject) {\n",
       "          var s = document.createElement('script');\n",
       "          document.getElementsByTagName(\"head\")[0].appendChild(s);\n",
       "          s.async = true;\n",
       "          s.onload = () => {\n",
       "            VEGA_DEBUG[key] = version;\n",
       "            return resolve(paths[lib]);\n",
       "          };\n",
       "          s.onerror = () => reject(`Error loading script: ${paths[lib]}`);\n",
       "          s.src = paths[lib];\n",
       "        });\n",
       "    }\n",
       "\n",
       "    function showError(err) {\n",
       "      outputDiv.innerHTML = `<div class=\"error\" style=\"color:red;\">${err}</div>`;\n",
       "      throw err;\n",
       "    }\n",
       "\n",
       "    function displayChart(vegaEmbed) {\n",
       "      vegaEmbed(outputDiv, spec, embedOpt)\n",
       "        .catch(err => showError(`Javascript Error: ${err.message}<br>This usually means there's a typo in your chart specification. See the javascript console for the full traceback.`));\n",
       "    }\n",
       "\n",
       "    if(typeof define === \"function\" && define.amd) {\n",
       "      requirejs.config({paths});\n",
       "      require([\"vega-embed\"], displayChart, err => showError(`Error loading script: ${err.message}`));\n",
       "    } else {\n",
       "      maybeLoadScript(\"vega\", \"5\")\n",
       "        .then(() => maybeLoadScript(\"vega-lite\", \"4.17.0\"))\n",
       "        .then(() => maybeLoadScript(\"vega-embed\", \"6\"))\n",
       "        .catch(showError)\n",
       "        .then(() => displayChart(vegaEmbed));\n",
       "    }\n",
       "  })({\"config\": {\"view\": {\"continuousWidth\": 400, \"continuousHeight\": 300}}, \"data\": {\"name\": \"data-4979e469f0735408834557df567add8b\"}, \"mark\": \"bar\", \"encoding\": {\"color\": {\"field\": \"Categories\", \"scale\": {\"range\": [\"#2EA8CE\", \"#EB9F3C\", \"#F4D837\", \"#51BF9D\", \"#8CBCCB\", \"#9487C0\"]}, \"type\": \"nominal\"}, \"row\": {\"field\": \"Categories\", \"type\": \"nominal\"}, \"tooltip\": [{\"field\": \"Agency\", \"type\": \"nominal\"}, {\"field\": \"Funding Amount\", \"type\": \"quantitative\"}], \"x\": {\"axis\": {\"format\": \"$.2s\", \"title\": \"Obligated Funding ($2021)\"}, \"field\": \"Funding Amount\", \"type\": \"quantitative\"}, \"y\": {\"field\": \"Agency\", \"type\": \"nominal\"}}, \"$schema\": \"https://vega.github.io/schema/vega-lite/v4.17.0.json\", \"datasets\": {\"data-4979e469f0735408834557df567add8b\": [{\"Agency\": \"Orange County Transportation Authority\", \"Categories\": \"Total Requested\", \"Funding Amount\": 10424712.322328975}, {\"Agency\": \"Huntington Beach\", \"Categories\": \"Total Requested\", \"Funding Amount\": 200050.5769504644}, {\"Agency\": \"Orange County\", \"Categories\": \"Total Requested\", \"Funding Amount\": 1152933.4666046419}, {\"Agency\": \"Santa Ana\", \"Categories\": \"Total Requested\", \"Funding Amount\": 512207.60010914505}, {\"Agency\": \"Anaheim\", \"Categories\": \"Total Requested\", \"Funding Amount\": 685166.9431767105}, {\"Agency\": \"Orange County Transportation Authority\", \"Categories\": \"Fed Requested\", \"Funding Amount\": 27020023.48139596}, {\"Agency\": \"Huntington Beach\", \"Categories\": \"Fed Requested\", \"Funding Amount\": 118630.55026649316}, {\"Agency\": \"Orange County\", \"Categories\": \"Fed Requested\", \"Funding Amount\": 837335.7869208686}, {\"Agency\": \"Santa Ana\", \"Categories\": \"Fed Requested\", \"Funding Amount\": 301475.21071313164}, {\"Agency\": \"Anaheim\", \"Categories\": \"Fed Requested\", \"Funding Amount\": 304178.64679201465}, {\"Agency\": \"Orange County Transportation Authority\", \"Categories\": \"AC Requested\", \"Funding Amount\": 162155.04672694518}, {\"Agency\": \"Huntington Beach\", \"Categories\": \"AC Requested\", \"Funding Amount\": 0.0}, {\"Agency\": \"Orange County\", \"Categories\": \"AC Requested\", \"Funding Amount\": 0.0}, {\"Agency\": \"Santa Ana\", \"Categories\": \"AC Requested\", \"Funding Amount\": -46615.52057311366}, {\"Agency\": \"Anaheim\", \"Categories\": \"AC Requested\", \"Funding Amount\": 0.0}]}}, {\"mode\": \"vega-lite\"});\n",
       "</script>"
      ],
      "text/plain": [
       "alt.Chart(...)"
      ]
     },
     "metadata": {},
     "output_type": "display_data"
    },
    {
     "data": {
      "application/vnd.jupyter.widget-view+json": {
       "model_id": "09c422b89d394bf296274e9a3cb6fe25",
       "version_major": 2,
       "version_minor": 0
      },
      "text/plain": [
       "HTML(value='<h3> Top Agencies using Congestion Relief Projects </h3>')"
      ]
     },
     "metadata": {},
     "output_type": "display_data"
    },
    {
     "data": {
      "text/html": [
       "<style type=\"text/css\">\n",
       "</style>\n",
       "<table id=\"T_5bf8e\">\n",
       "  <thead>\n",
       "    <tr>\n",
       "      <th class=\"blank level0\" >&nbsp;</th>\n",
       "      <th id=\"T_5bf8e_level0_col0\" class=\"col_heading level0 col0\" >Agency</th>\n",
       "      <th id=\"T_5bf8e_level0_col1\" class=\"col_heading level0 col1\" >Congestion Relief Obligations</th>\n",
       "      <th id=\"T_5bf8e_level0_col2\" class=\"col_heading level0 col2\" >Percent of Category</th>\n",
       "    </tr>\n",
       "  </thead>\n",
       "  <tbody>\n",
       "  </tbody>\n",
       "</table>\n"
      ],
      "text/plain": [
       "<pandas.io.formats.style.Styler at 0x7f3e117ede50>"
      ]
     },
     "metadata": {},
     "output_type": "display_data"
    },
    {
     "name": "stderr",
     "output_type": "stream",
     "text": [
      "/opt/conda/lib/python3.9/site-packages/altair/utils/core.py:219: UserWarning: I don't know how to infer vegalite type from 'empty'.  Defaulting to nominal.\n"
     ]
    },
    {
     "data": {
      "text/html": [
       "\n",
       "<div id=\"altair-viz-964ff432ed1b4dd7a5e702fc14d577b8\"></div>\n",
       "<script type=\"text/javascript\">\n",
       "  var VEGA_DEBUG = (typeof VEGA_DEBUG == \"undefined\") ? {} : VEGA_DEBUG;\n",
       "  (function(spec, embedOpt){\n",
       "    let outputDiv = document.currentScript.previousElementSibling;\n",
       "    if (outputDiv.id !== \"altair-viz-964ff432ed1b4dd7a5e702fc14d577b8\") {\n",
       "      outputDiv = document.getElementById(\"altair-viz-964ff432ed1b4dd7a5e702fc14d577b8\");\n",
       "    }\n",
       "    const paths = {\n",
       "      \"vega\": \"https://cdn.jsdelivr.net/npm//vega@5?noext\",\n",
       "      \"vega-lib\": \"https://cdn.jsdelivr.net/npm//vega-lib?noext\",\n",
       "      \"vega-lite\": \"https://cdn.jsdelivr.net/npm//vega-lite@4.17.0?noext\",\n",
       "      \"vega-embed\": \"https://cdn.jsdelivr.net/npm//vega-embed@6?noext\",\n",
       "    };\n",
       "\n",
       "    function maybeLoadScript(lib, version) {\n",
       "      var key = `${lib.replace(\"-\", \"\")}_version`;\n",
       "      return (VEGA_DEBUG[key] == version) ?\n",
       "        Promise.resolve(paths[lib]) :\n",
       "        new Promise(function(resolve, reject) {\n",
       "          var s = document.createElement('script');\n",
       "          document.getElementsByTagName(\"head\")[0].appendChild(s);\n",
       "          s.async = true;\n",
       "          s.onload = () => {\n",
       "            VEGA_DEBUG[key] = version;\n",
       "            return resolve(paths[lib]);\n",
       "          };\n",
       "          s.onerror = () => reject(`Error loading script: ${paths[lib]}`);\n",
       "          s.src = paths[lib];\n",
       "        });\n",
       "    }\n",
       "\n",
       "    function showError(err) {\n",
       "      outputDiv.innerHTML = `<div class=\"error\" style=\"color:red;\">${err}</div>`;\n",
       "      throw err;\n",
       "    }\n",
       "\n",
       "    function displayChart(vegaEmbed) {\n",
       "      vegaEmbed(outputDiv, spec, embedOpt)\n",
       "        .catch(err => showError(`Javascript Error: ${err.message}<br>This usually means there's a typo in your chart specification. See the javascript console for the full traceback.`));\n",
       "    }\n",
       "\n",
       "    if(typeof define === \"function\" && define.amd) {\n",
       "      requirejs.config({paths});\n",
       "      require([\"vega-embed\"], displayChart, err => showError(`Error loading script: ${err.message}`));\n",
       "    } else {\n",
       "      maybeLoadScript(\"vega\", \"5\")\n",
       "        .then(() => maybeLoadScript(\"vega-lite\", \"4.17.0\"))\n",
       "        .then(() => maybeLoadScript(\"vega-embed\", \"6\"))\n",
       "        .catch(showError)\n",
       "        .then(() => displayChart(vegaEmbed));\n",
       "    }\n",
       "  })({\"config\": {\"view\": {\"continuousWidth\": 400, \"continuousHeight\": 300}}, \"data\": {\"name\": \"data-d751713988987e9331980363e24189ce\"}, \"mark\": \"bar\", \"encoding\": {\"color\": {\"field\": \"Categories\", \"scale\": {\"range\": [\"#2EA8CE\", \"#EB9F3C\", \"#F4D837\", \"#51BF9D\", \"#8CBCCB\", \"#9487C0\"]}, \"type\": \"nominal\"}, \"row\": {\"field\": \"Categories\", \"type\": \"nominal\"}, \"tooltip\": [{\"field\": \"Agency\", \"type\": \"nominal\"}, {\"field\": \"Funding Amount\", \"type\": \"quantitative\"}], \"x\": {\"axis\": {\"format\": \"$.2s\", \"title\": \"Obligated Funding ($2021)\"}, \"field\": \"Funding Amount\", \"type\": \"quantitative\"}, \"y\": {\"field\": \"Agency\", \"type\": \"nominal\"}}, \"$schema\": \"https://vega.github.io/schema/vega-lite/v4.17.0.json\", \"datasets\": {\"data-d751713988987e9331980363e24189ce\": []}}, {\"mode\": \"vega-lite\"});\n",
       "</script>"
      ],
      "text/plain": [
       "alt.Chart(...)"
      ]
     },
     "metadata": {},
     "output_type": "display_data"
    }
   ],
   "source": [
    "# create loop:\n",
    "\n",
    "work_cat = ['active_transp', 'transit', 'bridge', 'street','freeway', 'infra_resiliency_er','congestion_relief']\n",
    "\n",
    "for cat in work_cat:\n",
    "    _dla_utils_reports.project_cat(df, cat, district)"
   ]
  },
  {
   "cell_type": "code",
   "execution_count": null,
   "id": "5a50e751-dd3f-498f-9a28-2edc321b534f",
   "metadata": {
    "jupyter": {
     "source_hidden": true
    },
    "papermill": {
     "duration": 0.051172,
     "end_time": "2022-05-13T04:19:11.317884",
     "exception": false,
     "start_time": "2022-05-13T04:19:11.266712",
     "status": "completed"
    },
    "tags": [
     "remove_input"
    ]
   },
   "outputs": [],
   "source": []
  },
  {
   "cell_type": "code",
   "execution_count": 17,
   "id": "cb2f6ba9-df0b-495e-82c5-54743d879743",
   "metadata": {
    "execution": {
     "iopub.execute_input": "2022-05-13T04:19:11.402263Z",
     "iopub.status.busy": "2022-05-13T04:19:11.401402Z",
     "iopub.status.idle": "2022-05-13T04:19:11.406796Z",
     "shell.execute_reply": "2022-05-13T04:19:11.406222Z"
    },
    "jupyter": {
     "source_hidden": true
    },
    "papermill": {
     "duration": 0.052861,
     "end_time": "2022-05-13T04:19:11.408599",
     "exception": false,
     "start_time": "2022-05-13T04:19:11.355738",
     "status": "completed"
    },
    "tags": [
     "remove_input"
    ]
   },
   "outputs": [],
   "source": [
    "#  # code help: https://stackoverflow.com/questions/50842160/how-to-display-matplotlib-plots-in-a-jupyter-tab-widget\n",
    "    \n",
    "# work_cat = ['active_transp', 'transit', 'bridge', 'street','freeway', 'infra_resiliency_er','congestion_relief']\n",
    "\n",
    "# out1 = widgets.Output()\n",
    "# out2 = widgets.Output()\n",
    "# out3 = widgets.Output()\n",
    "# out4 = widgets.Output()\n",
    "# out5 = widgets.Output()\n",
    "# out6 = widgets.Output()\n",
    "# out7 = widgets.Output()\n",
    "\n",
    "#     # children2 = [widgets.Text(description=name) for name in work_cat]\n",
    "#     # tab2 = widgets.Tab(children2)\n",
    "# tab2 = widgets.Tab(children = [out1, out2, out3, out4, out5, out6, out7])\n",
    "\n",
    "# for ii in enumerate(work_cat): \n",
    "#     tab2.set_title(ii[0], f\"{_dla_utils_reports.labeling(ii[1])}\")\n",
    "\n",
    "# display(tab2)\n",
    "    \n",
    "    \n",
    "# with out1:\n",
    "#      _dla_utils_reports.project_cat(df, 'active_transp', district) \n",
    "\n",
    "# #out1.append_display_data(_dla_utils_reports.project_cat(df, 'active_transp', district))\n",
    "# #out1.append_display_data(Image(filename=(f'./chart_outputs/project_cat/bar_{district}_active_transp.png')))\n",
    "\n",
    "# with out2:\n",
    "#      _dla_utils_reports.project_cat(df, 'transit', district)\n",
    "# with out3: \n",
    "#      _dla_utils_reports.project_cat(df, 'bridge', district)\n",
    "# with out4:\n",
    "#     _dla_utils_reports.project_cat(df, 'street', district)\n",
    "# with out5:\n",
    "#      _dla_utils_reports.project_cat(df, 'freeway', district)\n",
    "# with out6:\n",
    "#     _dla_utils_reports.project_cat(df, 'infra_resiliency_er', district)\n",
    "# with out7:\n",
    "#     _dla_utils_reports.project_cat(df, 'congestion_relief', district)\n",
    "    "
   ]
  },
  {
   "cell_type": "code",
   "execution_count": null,
   "id": "d0a253bb-00a4-45d7-875b-7a39bb794219",
   "metadata": {
    "jupyter": {
     "source_hidden": true
    },
    "papermill": {
     "duration": 0.038339,
     "end_time": "2022-05-13T04:19:11.486598",
     "exception": false,
     "start_time": "2022-05-13T04:19:11.448259",
     "status": "completed"
    },
    "tags": [
     "remove_input"
    ]
   },
   "outputs": [],
   "source": []
  },
  {
   "cell_type": "code",
   "execution_count": 18,
   "id": "b4562eb7-a3e1-4829-a23c-058f2f0e30d9",
   "metadata": {
    "execution": {
     "iopub.execute_input": "2022-05-13T04:19:11.574497Z",
     "iopub.status.busy": "2022-05-13T04:19:11.572828Z",
     "iopub.status.idle": "2022-05-13T04:19:11.578719Z",
     "shell.execute_reply": "2022-05-13T04:19:11.578168Z"
    },
    "jupyter": {
     "source_hidden": true
    },
    "papermill": {
     "duration": 0.047234,
     "end_time": "2022-05-13T04:19:11.580413",
     "exception": false,
     "start_time": "2022-05-13T04:19:11.533179",
     "status": "completed"
    },
    "tags": [
     "remove_input"
    ]
   },
   "outputs": [],
   "source": [
    "# # work_cat = ['active_transp', 'transit', 'bridge', 'street','freeway', 'infra_resiliency_er','congestion_relief']\n",
    "\n",
    "# # out1 = widgets.Output()\n",
    "# # out2 = widgets.Output()\n",
    "# # out3 = widgets.Output()\n",
    "# # out4 = widgets.Output()\n",
    "# # out5 = widgets.Output()\n",
    "# # out6 = widgets.Output()\n",
    "# # out7 = widgets.Output()\n",
    "\n",
    "# # tab2 = widgets.Tab(children = [out1, out2, out3, out4, out5, out6, out7])\n",
    "\n",
    "# # for ii in enumerate(work_cat): \n",
    "# #     tab2.set_title(ii[0], f\"{_dla_utils.labeling(ii[1])}\")\n",
    "\n",
    "# # display(tab2)\n",
    "    \n",
    "# # with out1:\n",
    "# #     _dla_utils.project_cat(df, 'active_transp', district) \n",
    "# # with out2:\n",
    "# #      _dla_utils.project_cat(df, 'transit', district)\n",
    "# # with out3: \n",
    "# #      _dla_utils.project_cat(df, 'bridge', district)\n",
    "# # with out4:\n",
    "# #     _dla_utils.project_cat(df, 'street', district)\n",
    "# # with out5:\n",
    "# #      _dla_utils.project_cat(df, 'freeway', district)\n",
    "# # with out6:\n",
    "# #     _dla_utils.project_cat(df, 'infra_resiliency_er', district)\n",
    "# # with out7:\n",
    "# #     _dla_utils.project_cat(df, 'congestion_relief', district)\n",
    "    \n",
    "    \n",
    "# ## https://medium.com/analytics-vidhya/how-to-use-python-to-build-an-image-display-app-in-jupyter-notebook-337c4fd3775f\n",
    "# def show_im():\n",
    "#     CSS = \"\"\"\n",
    "#     .output {\n",
    "#         flex-direction: row;\n",
    "#     }\n",
    "#     \"\"\"\n",
    "#     HTML('<style>{}</style>'.format(CSS))\n",
    "\n",
    "# def image_viewer(district, i): \n",
    "#     image_grid = Image(filename=(f'./chart_outputs/project_cat/bar_{district}_{i}.png'))\n",
    "#     #image_grid_html = HTML(image_grid.to_html(escape=False ,formatters=dict(a=path_to_image_html, \n",
    "#     #b=path_to_image_html)))\n",
    "#     #display(image_grid_html)\n",
    "#     show_im()    \n",
    "    \n",
    "\n",
    "# tab_nest = widgets.Tab()\n",
    "\n",
    "\n",
    "# #interact function in isolation\n",
    "\n",
    "# image = (image_viewer(district, 'active_transp'))\n",
    "# f1 = interactive(image);\n",
    "# tab_nest.children = [widgets.VBox(children = f1.children)]\n",
    "# display(tab_nest)"
   ]
  },
  {
   "cell_type": "code",
   "execution_count": 19,
   "id": "8b015c8d-378b-456e-b486-f8b1f5446a21",
   "metadata": {
    "execution": {
     "iopub.execute_input": "2022-05-13T04:19:11.661756Z",
     "iopub.status.busy": "2022-05-13T04:19:11.661264Z",
     "iopub.status.idle": "2022-05-13T04:19:11.665237Z",
     "shell.execute_reply": "2022-05-13T04:19:11.664641Z"
    },
    "jupyter": {
     "source_hidden": true
    },
    "papermill": {
     "duration": 0.045894,
     "end_time": "2022-05-13T04:19:11.667037",
     "exception": false,
     "start_time": "2022-05-13T04:19:11.621143",
     "status": "completed"
    },
    "tags": [
     "remove_input"
    ]
   },
   "outputs": [],
   "source": [
    "# Image(filename=('./chart_outputs/project_cat/bar_4_active_transp.png'))"
   ]
  },
  {
   "cell_type": "code",
   "execution_count": null,
   "id": "47213b64-555f-4e09-9b1d-fae403f8f595",
   "metadata": {
    "jupyter": {
     "source_hidden": true
    },
    "papermill": {
     "duration": 0.041611,
     "end_time": "2022-05-13T04:19:11.750040",
     "exception": false,
     "start_time": "2022-05-13T04:19:11.708429",
     "status": "completed"
    },
    "tags": [
     "remove_input"
    ]
   },
   "outputs": [],
   "source": []
  },
  {
   "cell_type": "code",
   "execution_count": 20,
   "id": "f2da39a6-73d0-4293-b13f-267514cfbc4e",
   "metadata": {
    "execution": {
     "iopub.execute_input": "2022-05-13T04:19:11.828565Z",
     "iopub.status.busy": "2022-05-13T04:19:11.828282Z",
     "iopub.status.idle": "2022-05-13T04:19:11.831690Z",
     "shell.execute_reply": "2022-05-13T04:19:11.830915Z"
    },
    "jupyter": {
     "source_hidden": true
    },
    "papermill": {
     "duration": 0.0452,
     "end_time": "2022-05-13T04:19:11.833319",
     "exception": false,
     "start_time": "2022-05-13T04:19:11.788119",
     "status": "completed"
    },
    "tags": [
     "remove_input"
    ]
   },
   "outputs": [],
   "source": [
    "## to markdown\n",
    "#![pic](./chart_outputs/project_cat/bar_4_active_transp.png)"
   ]
  },
  {
   "cell_type": "code",
   "execution_count": null,
   "id": "10e45722-6789-4357-8d9d-a2f424ba7655",
   "metadata": {
    "jupyter": {
     "source_hidden": true
    },
    "papermill": {
     "duration": 0.042023,
     "end_time": "2022-05-13T04:19:11.916895",
     "exception": false,
     "start_time": "2022-05-13T04:19:11.874872",
     "status": "completed"
    },
    "tags": [
     "remove_input"
    ]
   },
   "outputs": [],
   "source": []
  }
 ],
 "metadata": {
  "kernelspec": {
   "display_name": "Python 3 (ipykernel)",
   "language": "python",
   "name": "python3"
  },
  "language_info": {
   "codemirror_mode": {
    "name": "ipython",
    "version": 3
   },
   "file_extension": ".py",
   "mimetype": "text/x-python",
   "name": "python",
   "nbconvert_exporter": "python",
   "pygments_lexer": "ipython3",
   "version": "3.9.12"
  },
  "papermill": {
   "default_parameters": {},
   "duration": 15.282428,
   "end_time": "2022-05-13T04:19:13.077106",
   "environment_variables": {},
   "exception": null,
   "input_path": "dla/e76_obligated_funds/reports/report_test2.ipynb",
   "output_path": "portfolio/dla/district_12/0__report_test2__district_12.ipynb",
   "parameters": {
    "district": 12
   },
   "start_time": "2022-05-13T04:18:57.794678",
   "version": "2.3.4"
  },
  "widgets": {
   "application/vnd.jupyter.widget-state+json": {
    "state": {
     "09c422b89d394bf296274e9a3cb6fe25": {
      "model_module": "@jupyter-widgets/controls",
      "model_module_version": "1.5.0",
      "model_name": "HTMLModel",
      "state": {
       "_dom_classes": [],
       "_model_module": "@jupyter-widgets/controls",
       "_model_module_version": "1.5.0",
       "_model_name": "HTMLModel",
       "_view_count": null,
       "_view_module": "@jupyter-widgets/controls",
       "_view_module_version": "1.5.0",
       "_view_name": "HTMLView",
       "description": "",
       "description_tooltip": null,
       "layout": "IPY_MODEL_1d2af25b8a1645dfbce3f754416fc8b6",
       "placeholder": "​",
       "style": "IPY_MODEL_72b188f480c04cfd8aeca55171e6ac81",
       "value": "<h3> Top Agencies using Congestion Relief Projects </h3>"
      }
     },
     "1992fd2c37d64bba8a097a3f68d147ad": {
      "model_module": "@jupyter-widgets/controls",
      "model_module_version": "1.5.0",
      "model_name": "HTMLModel",
      "state": {
       "_dom_classes": [],
       "_model_module": "@jupyter-widgets/controls",
       "_model_module_version": "1.5.0",
       "_model_name": "HTMLModel",
       "_view_count": null,
       "_view_module": "@jupyter-widgets/controls",
       "_view_module_version": "1.5.0",
       "_view_name": "HTMLView",
       "description": "",
       "description_tooltip": null,
       "layout": "IPY_MODEL_8be02301f25f49a6a27bfa5b5170f41d",
       "placeholder": "​",
       "style": "IPY_MODEL_9970ddd8d4b9474497ab438947faf61a",
       "value": "<h3> Top Agencies using Street Projects </h3>"
      }
     },
     "1d2af25b8a1645dfbce3f754416fc8b6": {
      "model_module": "@jupyter-widgets/base",
      "model_module_version": "1.2.0",
      "model_name": "LayoutModel",
      "state": {
       "_model_module": "@jupyter-widgets/base",
       "_model_module_version": "1.2.0",
       "_model_name": "LayoutModel",
       "_view_count": null,
       "_view_module": "@jupyter-widgets/base",
       "_view_module_version": "1.2.0",
       "_view_name": "LayoutView",
       "align_content": null,
       "align_items": null,
       "align_self": null,
       "border": null,
       "bottom": null,
       "display": null,
       "flex": null,
       "flex_flow": null,
       "grid_area": null,
       "grid_auto_columns": null,
       "grid_auto_flow": null,
       "grid_auto_rows": null,
       "grid_column": null,
       "grid_gap": null,
       "grid_row": null,
       "grid_template_areas": null,
       "grid_template_columns": null,
       "grid_template_rows": null,
       "height": null,
       "justify_content": null,
       "justify_items": null,
       "left": null,
       "margin": null,
       "max_height": null,
       "max_width": null,
       "min_height": null,
       "min_width": null,
       "object_fit": null,
       "object_position": null,
       "order": null,
       "overflow": null,
       "overflow_x": null,
       "overflow_y": null,
       "padding": null,
       "right": null,
       "top": null,
       "visibility": null,
       "width": null
      }
     },
     "29d5b92aa1bc4120819830baccd467dd": {
      "model_module": "@jupyter-widgets/controls",
      "model_module_version": "1.5.0",
      "model_name": "HTMLModel",
      "state": {
       "_dom_classes": [],
       "_model_module": "@jupyter-widgets/controls",
       "_model_module_version": "1.5.0",
       "_model_name": "HTMLModel",
       "_view_count": null,
       "_view_module": "@jupyter-widgets/controls",
       "_view_module_version": "1.5.0",
       "_view_name": "HTMLView",
       "description": "",
       "description_tooltip": null,
       "layout": "IPY_MODEL_f6d2242da5e045acaef9f57ec69cdd47",
       "placeholder": "​",
       "style": "IPY_MODEL_e4249a1370bc498690e2a538e472e3f2",
       "value": "<h3> Top Agencies using Active Transportation Projects </h3>"
      }
     },
     "2b0af55399a348309ed837e8e5798717": {
      "model_module": "@jupyter-widgets/controls",
      "model_module_version": "1.5.0",
      "model_name": "DescriptionStyleModel",
      "state": {
       "_model_module": "@jupyter-widgets/controls",
       "_model_module_version": "1.5.0",
       "_model_name": "DescriptionStyleModel",
       "_view_count": null,
       "_view_module": "@jupyter-widgets/base",
       "_view_module_version": "1.2.0",
       "_view_name": "StyleView",
       "description_width": ""
      }
     },
     "4c6c661d27eb4045a3fe70e780b75342": {
      "model_module": "@jupyter-widgets/controls",
      "model_module_version": "1.5.0",
      "model_name": "DescriptionStyleModel",
      "state": {
       "_model_module": "@jupyter-widgets/controls",
       "_model_module_version": "1.5.0",
       "_model_name": "DescriptionStyleModel",
       "_view_count": null,
       "_view_module": "@jupyter-widgets/base",
       "_view_module_version": "1.2.0",
       "_view_name": "StyleView",
       "description_width": ""
      }
     },
     "52d637c75ff84a40896c4ffa981eb135": {
      "model_module": "@jupyter-widgets/controls",
      "model_module_version": "1.5.0",
      "model_name": "HTMLModel",
      "state": {
       "_dom_classes": [],
       "_model_module": "@jupyter-widgets/controls",
       "_model_module_version": "1.5.0",
       "_model_name": "HTMLModel",
       "_view_count": null,
       "_view_module": "@jupyter-widgets/controls",
       "_view_module_version": "1.5.0",
       "_view_name": "HTMLView",
       "description": "",
       "description_tooltip": null,
       "layout": "IPY_MODEL_dc7357f095f24736a5a3c060a25b374d",
       "placeholder": "​",
       "style": "IPY_MODEL_626d9d8c73524f798d891408465671e0",
       "value": "<h3> Top Agencies using Infrastructure & Emergency Relief Projects </h3>"
      }
     },
     "558ce5e1d55c44eead5f4678ac07ff4e": {
      "model_module": "@jupyter-widgets/base",
      "model_module_version": "1.2.0",
      "model_name": "LayoutModel",
      "state": {
       "_model_module": "@jupyter-widgets/base",
       "_model_module_version": "1.2.0",
       "_model_name": "LayoutModel",
       "_view_count": null,
       "_view_module": "@jupyter-widgets/base",
       "_view_module_version": "1.2.0",
       "_view_name": "LayoutView",
       "align_content": null,
       "align_items": null,
       "align_self": null,
       "border": null,
       "bottom": null,
       "display": null,
       "flex": null,
       "flex_flow": null,
       "grid_area": null,
       "grid_auto_columns": null,
       "grid_auto_flow": null,
       "grid_auto_rows": null,
       "grid_column": null,
       "grid_gap": null,
       "grid_row": null,
       "grid_template_areas": null,
       "grid_template_columns": null,
       "grid_template_rows": null,
       "height": null,
       "justify_content": null,
       "justify_items": null,
       "left": null,
       "margin": null,
       "max_height": null,
       "max_width": null,
       "min_height": null,
       "min_width": null,
       "object_fit": null,
       "object_position": null,
       "order": null,
       "overflow": null,
       "overflow_x": null,
       "overflow_y": null,
       "padding": null,
       "right": null,
       "top": null,
       "visibility": null,
       "width": null
      }
     },
     "626d9d8c73524f798d891408465671e0": {
      "model_module": "@jupyter-widgets/controls",
      "model_module_version": "1.5.0",
      "model_name": "DescriptionStyleModel",
      "state": {
       "_model_module": "@jupyter-widgets/controls",
       "_model_module_version": "1.5.0",
       "_model_name": "DescriptionStyleModel",
       "_view_count": null,
       "_view_module": "@jupyter-widgets/base",
       "_view_module_version": "1.2.0",
       "_view_name": "StyleView",
       "description_width": ""
      }
     },
     "72b188f480c04cfd8aeca55171e6ac81": {
      "model_module": "@jupyter-widgets/controls",
      "model_module_version": "1.5.0",
      "model_name": "DescriptionStyleModel",
      "state": {
       "_model_module": "@jupyter-widgets/controls",
       "_model_module_version": "1.5.0",
       "_model_name": "DescriptionStyleModel",
       "_view_count": null,
       "_view_module": "@jupyter-widgets/base",
       "_view_module_version": "1.2.0",
       "_view_name": "StyleView",
       "description_width": ""
      }
     },
     "8be02301f25f49a6a27bfa5b5170f41d": {
      "model_module": "@jupyter-widgets/base",
      "model_module_version": "1.2.0",
      "model_name": "LayoutModel",
      "state": {
       "_model_module": "@jupyter-widgets/base",
       "_model_module_version": "1.2.0",
       "_model_name": "LayoutModel",
       "_view_count": null,
       "_view_module": "@jupyter-widgets/base",
       "_view_module_version": "1.2.0",
       "_view_name": "LayoutView",
       "align_content": null,
       "align_items": null,
       "align_self": null,
       "border": null,
       "bottom": null,
       "display": null,
       "flex": null,
       "flex_flow": null,
       "grid_area": null,
       "grid_auto_columns": null,
       "grid_auto_flow": null,
       "grid_auto_rows": null,
       "grid_column": null,
       "grid_gap": null,
       "grid_row": null,
       "grid_template_areas": null,
       "grid_template_columns": null,
       "grid_template_rows": null,
       "height": null,
       "justify_content": null,
       "justify_items": null,
       "left": null,
       "margin": null,
       "max_height": null,
       "max_width": null,
       "min_height": null,
       "min_width": null,
       "object_fit": null,
       "object_position": null,
       "order": null,
       "overflow": null,
       "overflow_x": null,
       "overflow_y": null,
       "padding": null,
       "right": null,
       "top": null,
       "visibility": null,
       "width": null
      }
     },
     "8c8b9fd631fb4b03bccd3ef3f2f08bac": {
      "model_module": "@jupyter-widgets/controls",
      "model_module_version": "1.5.0",
      "model_name": "HTMLModel",
      "state": {
       "_dom_classes": [],
       "_model_module": "@jupyter-widgets/controls",
       "_model_module_version": "1.5.0",
       "_model_name": "HTMLModel",
       "_view_count": null,
       "_view_module": "@jupyter-widgets/controls",
       "_view_module_version": "1.5.0",
       "_view_name": "HTMLView",
       "description": "",
       "description_tooltip": null,
       "layout": "IPY_MODEL_558ce5e1d55c44eead5f4678ac07ff4e",
       "placeholder": "​",
       "style": "IPY_MODEL_2b0af55399a348309ed837e8e5798717",
       "value": "<h3> Top Agencies using Bridge Projects </h3>"
      }
     },
     "97521605dcb841ab975c903ae16628f5": {
      "model_module": "@jupyter-widgets/controls",
      "model_module_version": "1.5.0",
      "model_name": "HTMLModel",
      "state": {
       "_dom_classes": [],
       "_model_module": "@jupyter-widgets/controls",
       "_model_module_version": "1.5.0",
       "_model_name": "HTMLModel",
       "_view_count": null,
       "_view_module": "@jupyter-widgets/controls",
       "_view_module_version": "1.5.0",
       "_view_name": "HTMLView",
       "description": "",
       "description_tooltip": null,
       "layout": "IPY_MODEL_e04474f2ec254d83a690d8aafd769f4a",
       "placeholder": "​",
       "style": "IPY_MODEL_4c6c661d27eb4045a3fe70e780b75342",
       "value": "<h3> Top Agencies using Transit Projects </h3>"
      }
     },
     "9970ddd8d4b9474497ab438947faf61a": {
      "model_module": "@jupyter-widgets/controls",
      "model_module_version": "1.5.0",
      "model_name": "DescriptionStyleModel",
      "state": {
       "_model_module": "@jupyter-widgets/controls",
       "_model_module_version": "1.5.0",
       "_model_name": "DescriptionStyleModel",
       "_view_count": null,
       "_view_module": "@jupyter-widgets/base",
       "_view_module_version": "1.2.0",
       "_view_name": "StyleView",
       "description_width": ""
      }
     },
     "9a922fbede5f48a6a906421526cbdcbf": {
      "model_module": "@jupyter-widgets/controls",
      "model_module_version": "1.5.0",
      "model_name": "HTMLModel",
      "state": {
       "_dom_classes": [],
       "_model_module": "@jupyter-widgets/controls",
       "_model_module_version": "1.5.0",
       "_model_name": "HTMLModel",
       "_view_count": null,
       "_view_module": "@jupyter-widgets/controls",
       "_view_module_version": "1.5.0",
       "_view_name": "HTMLView",
       "description": "",
       "description_tooltip": null,
       "layout": "IPY_MODEL_eac5a201d8ee49e29dad9b8efcdb8d1a",
       "placeholder": "​",
       "style": "IPY_MODEL_e3648e3f8f614a7a81460900f7a40bd7",
       "value": "<h3> Top Agencies using Freeway Projects </h3>"
      }
     },
     "dc7357f095f24736a5a3c060a25b374d": {
      "model_module": "@jupyter-widgets/base",
      "model_module_version": "1.2.0",
      "model_name": "LayoutModel",
      "state": {
       "_model_module": "@jupyter-widgets/base",
       "_model_module_version": "1.2.0",
       "_model_name": "LayoutModel",
       "_view_count": null,
       "_view_module": "@jupyter-widgets/base",
       "_view_module_version": "1.2.0",
       "_view_name": "LayoutView",
       "align_content": null,
       "align_items": null,
       "align_self": null,
       "border": null,
       "bottom": null,
       "display": null,
       "flex": null,
       "flex_flow": null,
       "grid_area": null,
       "grid_auto_columns": null,
       "grid_auto_flow": null,
       "grid_auto_rows": null,
       "grid_column": null,
       "grid_gap": null,
       "grid_row": null,
       "grid_template_areas": null,
       "grid_template_columns": null,
       "grid_template_rows": null,
       "height": null,
       "justify_content": null,
       "justify_items": null,
       "left": null,
       "margin": null,
       "max_height": null,
       "max_width": null,
       "min_height": null,
       "min_width": null,
       "object_fit": null,
       "object_position": null,
       "order": null,
       "overflow": null,
       "overflow_x": null,
       "overflow_y": null,
       "padding": null,
       "right": null,
       "top": null,
       "visibility": null,
       "width": null
      }
     },
     "e04474f2ec254d83a690d8aafd769f4a": {
      "model_module": "@jupyter-widgets/base",
      "model_module_version": "1.2.0",
      "model_name": "LayoutModel",
      "state": {
       "_model_module": "@jupyter-widgets/base",
       "_model_module_version": "1.2.0",
       "_model_name": "LayoutModel",
       "_view_count": null,
       "_view_module": "@jupyter-widgets/base",
       "_view_module_version": "1.2.0",
       "_view_name": "LayoutView",
       "align_content": null,
       "align_items": null,
       "align_self": null,
       "border": null,
       "bottom": null,
       "display": null,
       "flex": null,
       "flex_flow": null,
       "grid_area": null,
       "grid_auto_columns": null,
       "grid_auto_flow": null,
       "grid_auto_rows": null,
       "grid_column": null,
       "grid_gap": null,
       "grid_row": null,
       "grid_template_areas": null,
       "grid_template_columns": null,
       "grid_template_rows": null,
       "height": null,
       "justify_content": null,
       "justify_items": null,
       "left": null,
       "margin": null,
       "max_height": null,
       "max_width": null,
       "min_height": null,
       "min_width": null,
       "object_fit": null,
       "object_position": null,
       "order": null,
       "overflow": null,
       "overflow_x": null,
       "overflow_y": null,
       "padding": null,
       "right": null,
       "top": null,
       "visibility": null,
       "width": null
      }
     },
     "e3648e3f8f614a7a81460900f7a40bd7": {
      "model_module": "@jupyter-widgets/controls",
      "model_module_version": "1.5.0",
      "model_name": "DescriptionStyleModel",
      "state": {
       "_model_module": "@jupyter-widgets/controls",
       "_model_module_version": "1.5.0",
       "_model_name": "DescriptionStyleModel",
       "_view_count": null,
       "_view_module": "@jupyter-widgets/base",
       "_view_module_version": "1.2.0",
       "_view_name": "StyleView",
       "description_width": ""
      }
     },
     "e4249a1370bc498690e2a538e472e3f2": {
      "model_module": "@jupyter-widgets/controls",
      "model_module_version": "1.5.0",
      "model_name": "DescriptionStyleModel",
      "state": {
       "_model_module": "@jupyter-widgets/controls",
       "_model_module_version": "1.5.0",
       "_model_name": "DescriptionStyleModel",
       "_view_count": null,
       "_view_module": "@jupyter-widgets/base",
       "_view_module_version": "1.2.0",
       "_view_name": "StyleView",
       "description_width": ""
      }
     },
     "eac5a201d8ee49e29dad9b8efcdb8d1a": {
      "model_module": "@jupyter-widgets/base",
      "model_module_version": "1.2.0",
      "model_name": "LayoutModel",
      "state": {
       "_model_module": "@jupyter-widgets/base",
       "_model_module_version": "1.2.0",
       "_model_name": "LayoutModel",
       "_view_count": null,
       "_view_module": "@jupyter-widgets/base",
       "_view_module_version": "1.2.0",
       "_view_name": "LayoutView",
       "align_content": null,
       "align_items": null,
       "align_self": null,
       "border": null,
       "bottom": null,
       "display": null,
       "flex": null,
       "flex_flow": null,
       "grid_area": null,
       "grid_auto_columns": null,
       "grid_auto_flow": null,
       "grid_auto_rows": null,
       "grid_column": null,
       "grid_gap": null,
       "grid_row": null,
       "grid_template_areas": null,
       "grid_template_columns": null,
       "grid_template_rows": null,
       "height": null,
       "justify_content": null,
       "justify_items": null,
       "left": null,
       "margin": null,
       "max_height": null,
       "max_width": null,
       "min_height": null,
       "min_width": null,
       "object_fit": null,
       "object_position": null,
       "order": null,
       "overflow": null,
       "overflow_x": null,
       "overflow_y": null,
       "padding": null,
       "right": null,
       "top": null,
       "visibility": null,
       "width": null
      }
     },
     "f6d2242da5e045acaef9f57ec69cdd47": {
      "model_module": "@jupyter-widgets/base",
      "model_module_version": "1.2.0",
      "model_name": "LayoutModel",
      "state": {
       "_model_module": "@jupyter-widgets/base",
       "_model_module_version": "1.2.0",
       "_model_name": "LayoutModel",
       "_view_count": null,
       "_view_module": "@jupyter-widgets/base",
       "_view_module_version": "1.2.0",
       "_view_name": "LayoutView",
       "align_content": null,
       "align_items": null,
       "align_self": null,
       "border": null,
       "bottom": null,
       "display": null,
       "flex": null,
       "flex_flow": null,
       "grid_area": null,
       "grid_auto_columns": null,
       "grid_auto_flow": null,
       "grid_auto_rows": null,
       "grid_column": null,
       "grid_gap": null,
       "grid_row": null,
       "grid_template_areas": null,
       "grid_template_columns": null,
       "grid_template_rows": null,
       "height": null,
       "justify_content": null,
       "justify_items": null,
       "left": null,
       "margin": null,
       "max_height": null,
       "max_width": null,
       "min_height": null,
       "min_width": null,
       "object_fit": null,
       "object_position": null,
       "order": null,
       "overflow": null,
       "overflow_x": null,
       "overflow_y": null,
       "padding": null,
       "right": null,
       "top": null,
       "visibility": null,
       "width": null
      }
     }
    },
    "version_major": 2,
    "version_minor": 0
   }
  }
 },
 "nbformat": 4,
 "nbformat_minor": 5
}