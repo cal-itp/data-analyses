{
 "cells": [
  {
   "cell_type": "markdown",
   "id": "c52ac033",
   "metadata": {
    "papermill": {
     "duration": 0.022875,
     "end_time": "2022-05-31T18:39:34.190325",
     "exception": false,
     "start_time": "2022-05-31T18:39:34.167450",
     "status": "completed"
    },
    "pycharm": {
     "name": "#%% md\n"
    },
    "tags": []
   },
   "source": [
    "# **District 8 - San Bernardino**"
   ]
  },
  {
   "cell_type": "markdown",
   "id": "cbf47c38-db0b-458b-b08f-e882ad61d83c",
   "metadata": {
    "papermill": {
     "duration": 0.019699,
     "end_time": "2022-05-31T18:39:34.231954",
     "exception": false,
     "start_time": "2022-05-31T18:39:34.212255",
     "status": "completed"
    },
    "tags": []
   },
   "source": [
    "<hr style=\"height:2px;border-width:0;color:black;background-color:black\">"
   ]
  },
  {
   "cell_type": "markdown",
   "id": "178948e4-f2ee-4978-87a6-e2eb560b0feb",
   "metadata": {
    "papermill": {
     "duration": 0.019809,
     "end_time": "2022-05-31T18:39:34.271601",
     "exception": false,
     "start_time": "2022-05-31T18:39:34.251792",
     "status": "completed"
    },
    "tags": []
   },
   "source": [
    "How does funding for local agencies differ district to district? Using E-76 obligation data, we can gain insight to how agencies in District 8 use federal program funds, and help identify DLA‘s core customers."
   ]
  },
  {
   "cell_type": "code",
   "execution_count": 1,
   "id": "92c5c56a",
   "metadata": {
    "collapsed": false,
    "execution": {
     "iopub.execute_input": "2022-05-31T18:39:34.313799Z",
     "iopub.status.busy": "2022-05-31T18:39:34.312942Z",
     "iopub.status.idle": "2022-05-31T18:39:43.173114Z",
     "shell.execute_reply": "2022-05-31T18:39:43.171943Z"
    },
    "jupyter": {
     "source_hidden": true
    },
    "papermill": {
     "duration": 8.885657,
     "end_time": "2022-05-31T18:39:43.176791",
     "exception": false,
     "start_time": "2022-05-31T18:39:34.291134",
     "status": "completed"
    },
    "pycharm": {
     "name": "#%%\n"
    },
    "tags": [
     "remove_input"
    ]
   },
   "outputs": [],
   "source": [
    "%%capture\n",
    "\n",
    "import numpy as np\n",
    "import pandas as pd\n",
    "from siuba import *\n",
    "\n",
    "import altair as alt\n",
    "import altair_saver\n",
    "from plotnine import *\n",
    "\n",
    "from IPython.display import Markdown, HTML, Image\n",
    "import ipywidgets as widgets\n",
    "from ipywidgets import interact, interactive\n",
    "\n",
    "from calitp import to_snakecase\n",
    "import intake\n",
    "\n",
    "from shared_utils import altair_utils\n",
    "from shared_utils import styleguide\n",
    "\n",
    "from dla_utils import _dla_utils\n"
   ]
  },
  {
   "cell_type": "code",
   "execution_count": 2,
   "id": "82cf8245-73d2-4ed3-93cf-7ee01661b024",
   "metadata": {
    "execution": {
     "iopub.execute_input": "2022-05-31T18:39:43.220422Z",
     "iopub.status.busy": "2022-05-31T18:39:43.219979Z",
     "iopub.status.idle": "2022-05-31T18:39:43.225156Z",
     "shell.execute_reply": "2022-05-31T18:39:43.224330Z"
    },
    "jupyter": {
     "source_hidden": true
    },
    "papermill": {
     "duration": 0.029668,
     "end_time": "2022-05-31T18:39:43.227076",
     "exception": false,
     "start_time": "2022-05-31T18:39:43.197408",
     "status": "completed"
    },
    "tags": [
     "parameters",
     "remove_input"
    ]
   },
   "outputs": [],
   "source": [
    "#Parameter Cell\n",
    "\n",
    "district = 2"
   ]
  },
  {
   "cell_type": "code",
   "execution_count": 3,
   "id": "63037a4b",
   "metadata": {
    "execution": {
     "iopub.execute_input": "2022-05-31T18:39:43.271425Z",
     "iopub.status.busy": "2022-05-31T18:39:43.270819Z",
     "iopub.status.idle": "2022-05-31T18:39:43.278743Z",
     "shell.execute_reply": "2022-05-31T18:39:43.278031Z"
    },
    "jupyter": {
     "source_hidden": true
    },
    "papermill": {
     "duration": 0.032311,
     "end_time": "2022-05-31T18:39:43.280606",
     "exception": false,
     "start_time": "2022-05-31T18:39:43.248295",
     "status": "completed"
    },
    "tags": [
     "injected-parameters",
     "remove_input"
    ]
   },
   "outputs": [],
   "source": [
    "# Parameters\n",
    "district = 8\n",
    "district_title = \"District 8 - San Bernardino\"\n"
   ]
  },
  {
   "cell_type": "code",
   "execution_count": 4,
   "id": "948b2b4f-ef9b-48ff-b109-e7b76361066c",
   "metadata": {
    "execution": {
     "iopub.execute_input": "2022-05-31T18:39:43.329410Z",
     "iopub.status.busy": "2022-05-31T18:39:43.328277Z",
     "iopub.status.idle": "2022-05-31T18:39:43.749319Z",
     "shell.execute_reply": "2022-05-31T18:39:43.748203Z"
    },
    "jupyter": {
     "source_hidden": true
    },
    "papermill": {
     "duration": 0.445814,
     "end_time": "2022-05-31T18:39:43.752270",
     "exception": false,
     "start_time": "2022-05-31T18:39:43.306456",
     "status": "completed"
    },
    "tags": [
     "remove_input"
    ]
   },
   "outputs": [],
   "source": [
    "df= pd.read_parquet(\"gs://calitp-analytics-data/data-analyses/dla/e-76Obligated/dla_df.parquet\")\n"
   ]
  },
  {
   "cell_type": "code",
   "execution_count": 5,
   "id": "be910f27-7608-4522-8d8d-ef93611cb748",
   "metadata": {
    "execution": {
     "iopub.execute_input": "2022-05-31T18:39:43.822021Z",
     "iopub.status.busy": "2022-05-31T18:39:43.821662Z",
     "iopub.status.idle": "2022-05-31T18:39:43.925814Z",
     "shell.execute_reply": "2022-05-31T18:39:43.924923Z"
    },
    "jupyter": {
     "source_hidden": true
    },
    "papermill": {
     "duration": 0.129459,
     "end_time": "2022-05-31T18:39:43.928257",
     "exception": false,
     "start_time": "2022-05-31T18:39:43.798798",
     "status": "completed"
    },
    "tags": [
     "remove_input"
    ]
   },
   "outputs": [],
   "source": [
    "df = (df>>filter(_.dist==district))\n",
    "    \n",
    "    \n",
    "#subsetting the data\n",
    "df_years = _dla_utils.count_all_years(df)\n",
    "df_top = _dla_utils.find_top(df)\n",
    "    "
   ]
  },
  {
   "cell_type": "code",
   "execution_count": 6,
   "id": "7f5ac0a1-a951-4072-8f85-d2c90290907f",
   "metadata": {
    "execution": {
     "iopub.execute_input": "2022-05-31T18:39:43.975871Z",
     "iopub.status.busy": "2022-05-31T18:39:43.974736Z",
     "iopub.status.idle": "2022-05-31T18:39:44.205260Z",
     "shell.execute_reply": "2022-05-31T18:39:44.204568Z"
    },
    "jupyter": {
     "source_hidden": true
    },
    "papermill": {
     "duration": 0.254859,
     "end_time": "2022-05-31T18:39:44.207142",
     "exception": false,
     "start_time": "2022-05-31T18:39:43.952283",
     "status": "completed"
    },
    "tags": [
     "remove_input"
    ]
   },
   "outputs": [
    {
     "data": {
      "text/html": [
       "<h3>Quick Stats</h3>"
      ],
      "text/plain": [
       "<IPython.core.display.HTML object>"
      ]
     },
     "metadata": {},
     "output_type": "display_data"
    },
    {
     "data": {
      "text/html": [
       "There are <strong>64 Unique Agencies</strong>"
      ],
      "text/plain": [
       "<IPython.core.display.HTML object>"
      ]
     },
     "metadata": {},
     "output_type": "display_data"
    },
    {
     "data": {
      "text/html": [
       "Out of <strong>1390</strong> obligations, <strong>10 are transit-related</strong>.<br><strong>Riverside</strong> has the <strong>highest transit</strong> obligations."
      ],
      "text/plain": [
       "<IPython.core.display.HTML object>"
      ]
     },
     "metadata": {},
     "output_type": "display_data"
    },
    {
     "data": {
      "text/html": [
       "There are <strong>4 agencies have over 69.95</strong>obligations (95th percentile) since 2010.0"
      ],
      "text/plain": [
       "<IPython.core.display.HTML object>"
      ]
     },
     "metadata": {},
     "output_type": "display_data"
    },
    {
     "data": {
      "text/html": [
       "There are <strong>3 agencies have less than 3.00</strong> obligations (5th percentile) since 2010.0"
      ],
      "text/plain": [
       "<IPython.core.display.HTML object>"
      ]
     },
     "metadata": {},
     "output_type": "display_data"
    },
    {
     "data": {
      "text/html": [
       "<h4>Number of Unique Prefix Codes by Agency</h4>"
      ],
      "text/plain": [
       "<IPython.core.display.HTML object>"
      ]
     },
     "metadata": {},
     "output_type": "display_data"
    },
    {
     "data": {
      "text/html": [
       "<style type=\"text/css\">\n",
       "#T_eb862 th {\n",
       "  text-align: center;\n",
       "}\n",
       "#T_eb862_row0_col0, #T_eb862_row0_col1, #T_eb862_row1_col0, #T_eb862_row1_col1, #T_eb862_row2_col0, #T_eb862_row2_col1, #T_eb862_row3_col0, #T_eb862_row3_col1, #T_eb862_row4_col0, #T_eb862_row4_col1 {\n",
       "  text-align: center;\n",
       "}\n",
       "</style>\n",
       "<table id=\"T_eb862\">\n",
       "  <thead>\n",
       "    <tr>\n",
       "      <th id=\"T_eb862_level0_col0\" class=\"col_heading level0 col0\" >Agency</th>\n",
       "      <th id=\"T_eb862_level0_col1\" class=\"col_heading level0 col1\" >Number Of Unqiue Prefix Codes</th>\n",
       "    </tr>\n",
       "  </thead>\n",
       "  <tbody>\n",
       "    <tr>\n",
       "      <td id=\"T_eb862_row0_col0\" class=\"data row0 col0\" >San Bernardino Associated Governments</td>\n",
       "      <td id=\"T_eb862_row0_col1\" class=\"data row0 col1\" >28</td>\n",
       "    </tr>\n",
       "    <tr>\n",
       "      <td id=\"T_eb862_row1_col0\" class=\"data row1 col0\" >Riverside County</td>\n",
       "      <td id=\"T_eb862_row1_col1\" class=\"data row1 col1\" >22</td>\n",
       "    </tr>\n",
       "    <tr>\n",
       "      <td id=\"T_eb862_row2_col0\" class=\"data row2 col0\" >Palm Springs</td>\n",
       "      <td id=\"T_eb862_row2_col1\" class=\"data row2 col1\" >18</td>\n",
       "    </tr>\n",
       "    <tr>\n",
       "      <td id=\"T_eb862_row3_col0\" class=\"data row3 col0\" >San Bernardino County</td>\n",
       "      <td id=\"T_eb862_row3_col1\" class=\"data row3 col1\" >16</td>\n",
       "    </tr>\n",
       "    <tr>\n",
       "      <td id=\"T_eb862_row4_col0\" class=\"data row4 col0\" >Indio</td>\n",
       "      <td id=\"T_eb862_row4_col1\" class=\"data row4 col1\" >12</td>\n",
       "    </tr>\n",
       "  </tbody>\n",
       "</table>\n"
      ],
      "text/plain": [
       "<IPython.core.display.HTML object>"
      ]
     },
     "metadata": {},
     "output_type": "display_data"
    },
    {
     "data": {
      "text/html": [
       "<h4>Number of Unique Agencies by Prefix Codes</h4>"
      ],
      "text/plain": [
       "<IPython.core.display.HTML object>"
      ]
     },
     "metadata": {},
     "output_type": "display_data"
    },
    {
     "data": {
      "text/html": [
       "<style type=\"text/css\">\n",
       "#T_de0ba th {\n",
       "  text-align: center;\n",
       "}\n",
       "#T_de0ba_row0_col0, #T_de0ba_row0_col1, #T_de0ba_row1_col0, #T_de0ba_row1_col1, #T_de0ba_row2_col0, #T_de0ba_row2_col1, #T_de0ba_row3_col0, #T_de0ba_row3_col1, #T_de0ba_row4_col0, #T_de0ba_row4_col1 {\n",
       "  text-align: center;\n",
       "}\n",
       "</style>\n",
       "<table id=\"T_de0ba\">\n",
       "  <thead>\n",
       "    <tr>\n",
       "      <th id=\"T_de0ba_level0_col0\" class=\"col_heading level0 col0\" >Prefix</th>\n",
       "      <th id=\"T_de0ba_level0_col1\" class=\"col_heading level0 col1\" >Number Of Unqiue Agencies</th>\n",
       "    </tr>\n",
       "  </thead>\n",
       "  <tbody>\n",
       "    <tr>\n",
       "      <td id=\"T_de0ba_row0_col0\" class=\"data row0 col0\" >HSIPL</td>\n",
       "      <td id=\"T_de0ba_row0_col1\" class=\"data row0 col1\" >39</td>\n",
       "    </tr>\n",
       "    <tr>\n",
       "      <td id=\"T_de0ba_row1_col0\" class=\"data row1 col0\" >STPL</td>\n",
       "      <td id=\"T_de0ba_row1_col1\" class=\"data row1 col1\" >26</td>\n",
       "    </tr>\n",
       "    <tr>\n",
       "      <td id=\"T_de0ba_row2_col0\" class=\"data row2 col0\" >ER</td>\n",
       "      <td id=\"T_de0ba_row2_col1\" class=\"data row2 col1\" >20</td>\n",
       "    </tr>\n",
       "    <tr>\n",
       "      <td id=\"T_de0ba_row3_col0\" class=\"data row3 col0\" >CML</td>\n",
       "      <td id=\"T_de0ba_row3_col1\" class=\"data row3 col1\" >18</td>\n",
       "    </tr>\n",
       "    <tr>\n",
       "      <td id=\"T_de0ba_row4_col0\" class=\"data row4 col0\" >SRTSL</td>\n",
       "      <td id=\"T_de0ba_row4_col1\" class=\"data row4 col1\" >16</td>\n",
       "    </tr>\n",
       "  </tbody>\n",
       "</table>\n"
      ],
      "text/plain": [
       "<IPython.core.display.HTML object>"
      ]
     },
     "metadata": {},
     "output_type": "display_data"
    },
    {
     "data": {
      "text/html": [
       "<h4>Top 5 Types of Work</h4>"
      ],
      "text/plain": [
       "<IPython.core.display.HTML object>"
      ]
     },
     "metadata": {},
     "output_type": "display_data"
    },
    {
     "data": {
      "text/html": [
       "<style type=\"text/css\">\n",
       "#T_26971 th {\n",
       "  text-align: center;\n",
       "}\n",
       "#T_26971_row0_col0, #T_26971_row1_col0, #T_26971_row2_col0, #T_26971_row3_col0, #T_26971_row4_col0 {\n",
       "  text-align: center;\n",
       "}\n",
       "</style>\n",
       "<table id=\"T_26971\">\n",
       "  <thead>\n",
       "    <tr>\n",
       "      <th id=\"T_26971_level0_col0\" class=\"col_heading level0 col0\" >Type Of Work</th>\n",
       "    </tr>\n",
       "  </thead>\n",
       "  <tbody>\n",
       "    <tr>\n",
       "      <td id=\"T_26971_row0_col0\" class=\"data row0 col0\" >Bridge Replacement</td>\n",
       "    </tr>\n",
       "    <tr>\n",
       "      <td id=\"T_26971_row1_col0\" class=\"data row1 col0\" >Road Rehabilitation</td>\n",
       "    </tr>\n",
       "    <tr>\n",
       "      <td id=\"T_26971_row2_col0\" class=\"data row2 col0\" >FTA Transfer</td>\n",
       "    </tr>\n",
       "    <tr>\n",
       "      <td id=\"T_26971_row3_col0\" class=\"data row3 col0\" >Seismic Retrofit</td>\n",
       "    </tr>\n",
       "    <tr>\n",
       "      <td id=\"T_26971_row4_col0\" class=\"data row4 col0\" >Replace Two Lane Timber Bridge With Two Lane Bridge.</td>\n",
       "    </tr>\n",
       "  </tbody>\n",
       "</table>\n"
      ],
      "text/plain": [
       "<IPython.core.display.HTML object>"
      ]
     },
     "metadata": {},
     "output_type": "display_data"
    }
   ],
   "source": [
    "display(HTML(\"<h3>Quick Stats</h3>\"))\n",
    "\n",
    "display(\n",
    "    HTML(\n",
    "        f\"There are <strong>{(df.primary_agency_name.nunique())} Unique Agencies</strong>\"\n",
    "    )\n",
    ")\n",
    "\n",
    "transit = df >> filter(_.transit == 1)\n",
    "\n",
    "def find_transit(df):\n",
    "    if (len(transit)) == 0: \n",
    "        return display((HTML(f\"Out of <strong>{len(df)}</strong> obligations,\" \n",
    "                             f\" <strong>0 are transit realted</strong>\")))\n",
    "    \n",
    "    else:\n",
    "        return display(\n",
    "            HTML(\n",
    "                f\"Out of <strong>{len(df)}</strong> obligations, <strong>{len(transit)} are transit-related</strong>.\"\n",
    "                f\"<br><strong>{(transit>>count(_.primary_agency_name)>>arrange(-_.n)).iloc[0, 0]}</strong> \"\n",
    "                f\"has the <strong>highest transit</strong> obligations.\"\n",
    "            ))\n",
    "    \n",
    "find_transit(df)\n",
    "\n",
    "q = df >> count(_.primary_agency_name) >> arrange(_.n)\n",
    "\n",
    "q2 = q.n.quantile(0.95)\n",
    "\n",
    "display(\n",
    "    HTML(\n",
    "        f\"There are <strong>{len(q>>filter(_.n> (q2)))} agencies have over {('%.2f'%(q2))}</strong>\" \n",
    "        f\"obligations (95th percentile) since {(df.prepared_y.min())}\"\n",
    "    )\n",
    ")\n",
    "\n",
    "q3 = q.n.quantile(0.1)\n",
    "display(\n",
    "    HTML(\n",
    "        (\n",
    "            f\"There are <strong>{len(q>>filter(_.n< (q3)))} agencies have less than\"\n",
    "            f\" {('%.2f'%(q3))}</strong> obligations (5th percentile) since {(df.prepared_y.min())}\"\n",
    "        )\n",
    "    )\n",
    ")\n",
    "\n",
    "## tables\n",
    "display(HTML(\"<h4>Number of Unique Prefix Codes by Agency</h4>\"))\n",
    "nunique_prefix_codes = ((_dla_utils.get_nunique(df, \"prefix\", \"primary_agency_name\"))\n",
    "                        .rename(columns={\"primary_agency_name\": \"Agency\", \"n\": \"Number of Unqiue Prefix Codes\"})\n",
    "                        .head(5))\n",
    "display(HTML(_dla_utils.pretify_tables(nunique_prefix_codes)))\n",
    "\n",
    "display(HTML(\"<h4>Number of Unique Agencies by Prefix Codes</h4>\"))\n",
    "prefix_codes = ((_dla_utils.get_nunique(df, \"primary_agency_name\", \"prefix\"))\n",
    "                .rename(columns={\"prefix\": \"Prefix\", \"n\": \"Number of Unqiue Agencies\"})\n",
    "                .head(5))\n",
    "display(HTML(_dla_utils.pretify_tables(prefix_codes)))\n",
    "\n",
    "\n",
    "display(HTML(\"<h4>Top 5 Types of Work</h4>\"))\n",
    "work_types = (\n",
    "    (df >> count(_.type_of_work) >> arrange(-_.n) >> select(_.type_of_work))\n",
    "    .rename(columns={\"type_of_work\": \"Type of Work\"})\n",
    "    .head(5)\n",
    ")\n",
    "display(HTML(_dla_utils.pretify_tables(work_types)))\n",
    "# get rid of index using:\n",
    "## https://stackoverflow.com/questions/24644656/how-to-print-pandas-dataframe-without-index\n"
   ]
  },
  {
   "cell_type": "markdown",
   "id": "52a161a2-876a-4b42-9c93-3221dce17638",
   "metadata": {
    "papermill": {
     "duration": 0.024591,
     "end_time": "2022-05-31T18:39:44.257649",
     "exception": false,
     "start_time": "2022-05-31T18:39:44.233058",
     "status": "completed"
    },
    "tags": []
   },
   "source": [
    "## Obligations"
   ]
  },
  {
   "cell_type": "markdown",
   "id": "c9d55b3c-f6b6-4980-957c-77d458068fe3",
   "metadata": {
    "papermill": {
     "duration": 0.02492,
     "end_time": "2022-05-31T18:39:44.311676",
     "exception": false,
     "start_time": "2022-05-31T18:39:44.286756",
     "status": "completed"
    },
    "tags": []
   },
   "source": [
    "<hr style=\"height:2px;border-width:0;color:black;background-color:black\">"
   ]
  },
  {
   "cell_type": "markdown",
   "id": "379b61e3-1c1b-4683-b78f-8dee0683f064",
   "metadata": {
    "papermill": {
     "duration": 0.024636,
     "end_time": "2022-05-31T18:39:44.362191",
     "exception": false,
     "start_time": "2022-05-31T18:39:44.337555",
     "status": "completed"
    },
    "tags": []
   },
   "source": [
    "Obligations indicate a unique entry in the E-76 dataset. By counting the obligations for each year, district, and organization, we can see what the volume each as well which organizations are the most and last frequent customers. \n",
    "\n",
    "Metrics:\n",
    "* Obligations by Year\n",
    "* Number of Unique Agencies by District\n",
    "* Agencies With The Most Obligations"
   ]
  },
  {
   "cell_type": "markdown",
   "id": "81ad520b-db91-45b8-a598-a6577cccc24e",
   "metadata": {
    "papermill": {
     "duration": 0.024455,
     "end_time": "2022-05-31T18:39:44.413395",
     "exception": false,
     "start_time": "2022-05-31T18:39:44.388940",
     "status": "completed"
    },
    "tags": []
   },
   "source": [
    "### Number of Obligations by Year"
   ]
  },
  {
   "cell_type": "code",
   "execution_count": 7,
   "id": "ae85287b-0772-4595-8ea2-ccba83dd22cf",
   "metadata": {
    "execution": {
     "iopub.execute_input": "2022-05-31T18:39:44.464509Z",
     "iopub.status.busy": "2022-05-31T18:39:44.464068Z",
     "iopub.status.idle": "2022-05-31T18:39:44.510835Z",
     "shell.execute_reply": "2022-05-31T18:39:44.509998Z"
    },
    "jupyter": {
     "source_hidden": true
    },
    "papermill": {
     "duration": 0.075387,
     "end_time": "2022-05-31T18:39:44.512969",
     "exception": false,
     "start_time": "2022-05-31T18:39:44.437582",
     "status": "completed"
    },
    "tags": [
     "remove_input"
    ]
   },
   "outputs": [
    {
     "data": {
      "text/html": [
       "\n",
       "<div id=\"altair-viz-267790a10f084fe2b1db0bfc8771a966\"></div>\n",
       "<script type=\"text/javascript\">\n",
       "  var VEGA_DEBUG = (typeof VEGA_DEBUG == \"undefined\") ? {} : VEGA_DEBUG;\n",
       "  (function(spec, embedOpt){\n",
       "    let outputDiv = document.currentScript.previousElementSibling;\n",
       "    if (outputDiv.id !== \"altair-viz-267790a10f084fe2b1db0bfc8771a966\") {\n",
       "      outputDiv = document.getElementById(\"altair-viz-267790a10f084fe2b1db0bfc8771a966\");\n",
       "    }\n",
       "    const paths = {\n",
       "      \"vega\": \"https://cdn.jsdelivr.net/npm//vega@5?noext\",\n",
       "      \"vega-lib\": \"https://cdn.jsdelivr.net/npm//vega-lib?noext\",\n",
       "      \"vega-lite\": \"https://cdn.jsdelivr.net/npm//vega-lite@4.17.0?noext\",\n",
       "      \"vega-embed\": \"https://cdn.jsdelivr.net/npm//vega-embed@6?noext\",\n",
       "    };\n",
       "\n",
       "    function maybeLoadScript(lib, version) {\n",
       "      var key = `${lib.replace(\"-\", \"\")}_version`;\n",
       "      return (VEGA_DEBUG[key] == version) ?\n",
       "        Promise.resolve(paths[lib]) :\n",
       "        new Promise(function(resolve, reject) {\n",
       "          var s = document.createElement('script');\n",
       "          document.getElementsByTagName(\"head\")[0].appendChild(s);\n",
       "          s.async = true;\n",
       "          s.onload = () => {\n",
       "            VEGA_DEBUG[key] = version;\n",
       "            return resolve(paths[lib]);\n",
       "          };\n",
       "          s.onerror = () => reject(`Error loading script: ${paths[lib]}`);\n",
       "          s.src = paths[lib];\n",
       "        });\n",
       "    }\n",
       "\n",
       "    function showError(err) {\n",
       "      outputDiv.innerHTML = `<div class=\"error\" style=\"color:red;\">${err}</div>`;\n",
       "      throw err;\n",
       "    }\n",
       "\n",
       "    function displayChart(vegaEmbed) {\n",
       "      vegaEmbed(outputDiv, spec, embedOpt)\n",
       "        .catch(err => showError(`Javascript Error: ${err.message}<br>This usually means there's a typo in your chart specification. See the javascript console for the full traceback.`));\n",
       "    }\n",
       "\n",
       "    if(typeof define === \"function\" && define.amd) {\n",
       "      requirejs.config({paths});\n",
       "      require([\"vega-embed\"], displayChart, err => showError(`Error loading script: ${err.message}`));\n",
       "    } else {\n",
       "      maybeLoadScript(\"vega\", \"5\")\n",
       "        .then(() => maybeLoadScript(\"vega-lite\", \"4.17.0\"))\n",
       "        .then(() => maybeLoadScript(\"vega-embed\", \"6\"))\n",
       "        .catch(showError)\n",
       "        .then(() => displayChart(vegaEmbed));\n",
       "    }\n",
       "  })({\"config\": {\"view\": {\"continuousWidth\": 400, \"continuousHeight\": 300}, \"axis\": {\"domainColor\": \"#cbcbcb\", \"grid\": true, \"gridColor\": \"#cbcbcb\", \"gridWidth\": 1, \"labelColor\": \"#474747\", \"labelFont\": \"Nunito Sans\", \"labelFontSize\": 10, \"labelPadding\": 4, \"tickColor\": \"#cbcbcb\", \"tickSize\": 10, \"titleColor\": \"#333\", \"titleFont\": \"Raleway\", \"titleFontSize\": 12, \"titlePadding\": 10}, \"axisBand\": {\"grid\": false}, \"background\": \"white\", \"font\": \"Raleway\", \"header\": {\"labelFont\": \"Nunito Sans\", \"titleFont\": \"Raleway\"}, \"legend\": {\"labelColor\": \"#333\", \"labelFont\": \"Nunito Sans\", \"labelFontSize\": 11, \"labelLimit\": 0, \"padding\": 1, \"symbolSize\": 30, \"symbolType\": \"square\", \"titleColor\": \"#333\", \"titleFont\": \"Raleway\", \"titleFontSize\": 14, \"titlePadding\": 10}, \"title\": {\"anchor\": \"middle\", \"font\": \"Raleway\", \"fontSize\": 18, \"fontWeight\": 300, \"offset\": 20}}, \"data\": {\"name\": \"data-8072e3cff55f0f67b75c82e8ff736ee9\"}, \"mark\": \"line\", \"encoding\": {\"tooltip\": [{\"field\": \"Year\", \"type\": \"quantitative\"}, {\"field\": \"count\", \"type\": \"quantitative\"}], \"x\": {\"field\": \"Year\", \"title\": \"Prepared Year\", \"type\": \"ordinal\"}, \"y\": {\"field\": \"count\", \"title\": \"Count\", \"type\": \"quantitative\"}}, \"height\": 250, \"width\": 400, \"$schema\": \"https://vega.github.io/schema/vega-lite/v4.17.0.json\", \"datasets\": {\"data-8072e3cff55f0f67b75c82e8ff736ee9\": [{\"Year\": 2021.0, \"count\": 190, \"variable\": \"prepared_y\"}, {\"Year\": 2020.0, \"count\": 177, \"variable\": \"prepared_y\"}, {\"Year\": 2016.0, \"count\": 172, \"variable\": \"prepared_y\"}, {\"Year\": 2014.0, \"count\": 167, \"variable\": \"prepared_y\"}, {\"Year\": 2015.0, \"count\": 154, \"variable\": \"prepared_y\"}, {\"Year\": 2019.0, \"count\": 149, \"variable\": \"prepared_y\"}, {\"Year\": 2018.0, \"count\": 148, \"variable\": \"prepared_y\"}, {\"Year\": 2017.0, \"count\": 143, \"variable\": \"prepared_y\"}, {\"Year\": 2022.0, \"count\": 62, \"variable\": \"prepared_y\"}, {\"Year\": 2013.0, \"count\": 22, \"variable\": \"prepared_y\"}, {\"Year\": 2011.0, \"count\": 3, \"variable\": \"prepared_y\"}, {\"Year\": 2012.0, \"count\": 2, \"variable\": \"prepared_y\"}, {\"Year\": 2010.0, \"count\": 1, \"variable\": \"prepared_y\"}]}}, {\"mode\": \"vega-lite\"});\n",
       "</script>"
      ],
      "text/plain": [
       "alt.Chart(...)"
      ]
     },
     "metadata": {},
     "output_type": "display_data"
    }
   ],
   "source": [
    " #Line chart for Obligations by Year\n",
    "chart_df = (df_top>>filter(_.variable=='prepared_y')).rename(columns= {\"value\":\"Year\"})\n",
    "    \n",
    "chart1= (_dla_utils.basic_line_chart_test_no_save(chart_df, 'Year', 'count', district)).encode(x=alt.X('Year:O', title='Prepared Year'))\n",
    "display(chart1)"
   ]
  },
  {
   "cell_type": "markdown",
   "id": "ff0a6bf9-ddc9-4b6c-b2e1-77de18cf6f80",
   "metadata": {
    "papermill": {
     "duration": 0.024922,
     "end_time": "2022-05-31T18:39:44.562653",
     "exception": false,
     "start_time": "2022-05-31T18:39:44.537731",
     "status": "completed"
    },
    "tags": []
   },
   "source": [
    "### Number of Unique Agencies by District"
   ]
  },
  {
   "cell_type": "code",
   "execution_count": 8,
   "id": "0bc7e34d-545e-4afd-92e9-a17630d0ae89",
   "metadata": {
    "execution": {
     "iopub.execute_input": "2022-05-31T18:39:44.618571Z",
     "iopub.status.busy": "2022-05-31T18:39:44.617915Z",
     "iopub.status.idle": "2022-05-31T18:39:44.671946Z",
     "shell.execute_reply": "2022-05-31T18:39:44.671061Z"
    },
    "jupyter": {
     "source_hidden": true
    },
    "papermill": {
     "duration": 0.083499,
     "end_time": "2022-05-31T18:39:44.673981",
     "exception": false,
     "start_time": "2022-05-31T18:39:44.590482",
     "status": "completed"
    },
    "tags": [
     "remove_input"
    ]
   },
   "outputs": [
    {
     "data": {
      "text/html": [
       "\n",
       "<div id=\"altair-viz-c07af14ad5754ce88ad4fca3beae74f6\"></div>\n",
       "<script type=\"text/javascript\">\n",
       "  var VEGA_DEBUG = (typeof VEGA_DEBUG == \"undefined\") ? {} : VEGA_DEBUG;\n",
       "  (function(spec, embedOpt){\n",
       "    let outputDiv = document.currentScript.previousElementSibling;\n",
       "    if (outputDiv.id !== \"altair-viz-c07af14ad5754ce88ad4fca3beae74f6\") {\n",
       "      outputDiv = document.getElementById(\"altair-viz-c07af14ad5754ce88ad4fca3beae74f6\");\n",
       "    }\n",
       "    const paths = {\n",
       "      \"vega\": \"https://cdn.jsdelivr.net/npm//vega@5?noext\",\n",
       "      \"vega-lib\": \"https://cdn.jsdelivr.net/npm//vega-lib?noext\",\n",
       "      \"vega-lite\": \"https://cdn.jsdelivr.net/npm//vega-lite@4.17.0?noext\",\n",
       "      \"vega-embed\": \"https://cdn.jsdelivr.net/npm//vega-embed@6?noext\",\n",
       "    };\n",
       "\n",
       "    function maybeLoadScript(lib, version) {\n",
       "      var key = `${lib.replace(\"-\", \"\")}_version`;\n",
       "      return (VEGA_DEBUG[key] == version) ?\n",
       "        Promise.resolve(paths[lib]) :\n",
       "        new Promise(function(resolve, reject) {\n",
       "          var s = document.createElement('script');\n",
       "          document.getElementsByTagName(\"head\")[0].appendChild(s);\n",
       "          s.async = true;\n",
       "          s.onload = () => {\n",
       "            VEGA_DEBUG[key] = version;\n",
       "            return resolve(paths[lib]);\n",
       "          };\n",
       "          s.onerror = () => reject(`Error loading script: ${paths[lib]}`);\n",
       "          s.src = paths[lib];\n",
       "        });\n",
       "    }\n",
       "\n",
       "    function showError(err) {\n",
       "      outputDiv.innerHTML = `<div class=\"error\" style=\"color:red;\">${err}</div>`;\n",
       "      throw err;\n",
       "    }\n",
       "\n",
       "    function displayChart(vegaEmbed) {\n",
       "      vegaEmbed(outputDiv, spec, embedOpt)\n",
       "        .catch(err => showError(`Javascript Error: ${err.message}<br>This usually means there's a typo in your chart specification. See the javascript console for the full traceback.`));\n",
       "    }\n",
       "\n",
       "    if(typeof define === \"function\" && define.amd) {\n",
       "      requirejs.config({paths});\n",
       "      require([\"vega-embed\"], displayChart, err => showError(`Error loading script: ${err.message}`));\n",
       "    } else {\n",
       "      maybeLoadScript(\"vega\", \"5\")\n",
       "        .then(() => maybeLoadScript(\"vega-lite\", \"4.17.0\"))\n",
       "        .then(() => maybeLoadScript(\"vega-embed\", \"6\"))\n",
       "        .catch(showError)\n",
       "        .then(() => displayChart(vegaEmbed));\n",
       "    }\n",
       "  })({\"config\": {\"view\": {\"continuousWidth\": 400, \"continuousHeight\": 300}, \"axis\": {\"domainColor\": \"#cbcbcb\", \"grid\": true, \"gridColor\": \"#cbcbcb\", \"gridWidth\": 1, \"labelColor\": \"#474747\", \"labelFont\": \"Nunito Sans\", \"labelFontSize\": 10, \"labelPadding\": 4, \"tickColor\": \"#cbcbcb\", \"tickSize\": 10, \"titleColor\": \"#333\", \"titleFont\": \"Raleway\", \"titleFontSize\": 12, \"titlePadding\": 10}, \"axisBand\": {\"grid\": false}, \"background\": \"white\", \"font\": \"Raleway\", \"header\": {\"labelFont\": \"Nunito Sans\", \"titleFont\": \"Raleway\"}, \"legend\": {\"labelColor\": \"#333\", \"labelFont\": \"Nunito Sans\", \"labelFontSize\": 11, \"labelLimit\": 0, \"padding\": 1, \"symbolSize\": 30, \"symbolType\": \"square\", \"titleColor\": \"#333\", \"titleFont\": \"Raleway\", \"titleFontSize\": 14, \"titlePadding\": 10}, \"title\": {\"anchor\": \"middle\", \"font\": \"Raleway\", \"fontSize\": 18, \"fontWeight\": 300, \"offset\": 20}}, \"data\": {\"name\": \"data-5ea88307baf3d8adfed094cb6c619df9\"}, \"mark\": \"bar\", \"encoding\": {\"color\": {\"field\": \"District\", \"legend\": {\"title\": \"Prepared Year\"}, \"scale\": {\"range\": [\"#B9D6DF\", \"#8CBCCB\", \"#2EA8CE\", \"#136C97\", \"#0B405B\"]}, \"type\": \"nominal\"}, \"column\": {\"field\": \"District\", \"type\": \"nominal\"}, \"tooltip\": [{\"field\": \"prepared_y\", \"type\": \"quantitative\"}, {\"field\": \"Count\", \"type\": \"quantitative\"}], \"x\": {\"field\": \"prepared_y\", \"title\": \"Prepared Year\", \"type\": \"ordinal\"}, \"y\": {\"field\": \"Count\", \"title\": \"Number of Unique Agencies\", \"type\": \"quantitative\"}}, \"height\": 250, \"width\": 400, \"$schema\": \"https://vega.github.io/schema/vega-lite/v4.17.0.json\", \"datasets\": {\"data-5ea88307baf3d8adfed094cb6c619df9\": [{\"prepared_y\": 2022.0, \"District\": 8, \"Count\": 23}, {\"prepared_y\": 2021.0, \"District\": 8, \"Count\": 45}, {\"prepared_y\": 2020.0, \"District\": 8, \"Count\": 44}, {\"prepared_y\": 2019.0, \"District\": 8, \"Count\": 44}, {\"prepared_y\": 2018.0, \"District\": 8, \"Count\": 47}, {\"prepared_y\": 2017.0, \"District\": 8, \"Count\": 43}, {\"prepared_y\": 2016.0, \"District\": 8, \"Count\": 46}, {\"prepared_y\": 2015.0, \"District\": 8, \"Count\": 44}, {\"prepared_y\": 2014.0, \"District\": 8, \"Count\": 45}, {\"prepared_y\": 2013.0, \"District\": 8, \"Count\": 12}, {\"prepared_y\": 2012.0, \"District\": 8, \"Count\": 2}, {\"prepared_y\": 2011.0, \"District\": 8, \"Count\": 2}, {\"prepared_y\": 2010.0, \"District\": 8, \"Count\": 1}]}}, {\"mode\": \"vega-lite\"});\n",
       "</script>"
      ],
      "text/plain": [
       "alt.Chart(...)"
      ]
     },
     "metadata": {},
     "output_type": "display_data"
    }
   ],
   "source": [
    "# Unique Agencies by Dist\n",
    "dist_years_agency = ((\n",
    "        df\n",
    "        >> group_by(_.prepared_y, _.dist)\n",
    "        >> summarize(n=_.primary_agency_name.nunique())\n",
    "        >> arrange(-_.prepared_y)\n",
    "    )\n",
    "        .rename(columns={'dist':'District', 'n':'Count'})\n",
    "    )\n",
    "chart10 = (alt.Chart(dist_years_agency).mark_bar().encode(\n",
    "        column='District:N',\n",
    "        x=alt.X('prepared_y:O', title='Prepared Year'),\n",
    "        y=alt.Y('Count:Q', title='Number of Unique Agencies'),\n",
    "        color = alt.Color(\"District:N\", \n",
    "                              scale=alt.Scale(\n",
    "                                  range=altair_utils.CALITP_SEQUENTIAL_COLORS),  \n",
    "                               legend=alt.Legend(title=\"Prepared Year\")\n",
    "                              )))\n",
    "                              \n",
    "chart10 = styleguide.preset_chart_config(chart10)\n",
    "chart10 = _dla_utils.add_tooltip(chart10, 'prepared_y', 'Count')\n",
    "\n",
    "display(chart10)"
   ]
  },
  {
   "cell_type": "markdown",
   "id": "70c59c39-590d-4136-aa09-ee6ed5afc872",
   "metadata": {
    "papermill": {
     "duration": 0.02792,
     "end_time": "2022-05-31T18:39:44.733600",
     "exception": false,
     "start_time": "2022-05-31T18:39:44.705680",
     "status": "completed"
    },
    "tags": []
   },
   "source": [
    "### Agencies With The Most Obligations"
   ]
  },
  {
   "cell_type": "code",
   "execution_count": 9,
   "id": "faa4758e-8a41-44f8-aec4-b8cc4d75d906",
   "metadata": {
    "execution": {
     "iopub.execute_input": "2022-05-31T18:39:44.788738Z",
     "iopub.status.busy": "2022-05-31T18:39:44.788361Z",
     "iopub.status.idle": "2022-05-31T18:39:44.824253Z",
     "shell.execute_reply": "2022-05-31T18:39:44.823291Z"
    },
    "jupyter": {
     "source_hidden": true
    },
    "papermill": {
     "duration": 0.066434,
     "end_time": "2022-05-31T18:39:44.827275",
     "exception": false,
     "start_time": "2022-05-31T18:39:44.760841",
     "status": "completed"
    },
    "tags": [
     "remove_input"
    ]
   },
   "outputs": [
    {
     "data": {
      "text/html": [
       "\n",
       "<div id=\"altair-viz-23b05e8ff5654addbb38be4c78cefc1a\"></div>\n",
       "<script type=\"text/javascript\">\n",
       "  var VEGA_DEBUG = (typeof VEGA_DEBUG == \"undefined\") ? {} : VEGA_DEBUG;\n",
       "  (function(spec, embedOpt){\n",
       "    let outputDiv = document.currentScript.previousElementSibling;\n",
       "    if (outputDiv.id !== \"altair-viz-23b05e8ff5654addbb38be4c78cefc1a\") {\n",
       "      outputDiv = document.getElementById(\"altair-viz-23b05e8ff5654addbb38be4c78cefc1a\");\n",
       "    }\n",
       "    const paths = {\n",
       "      \"vega\": \"https://cdn.jsdelivr.net/npm//vega@5?noext\",\n",
       "      \"vega-lib\": \"https://cdn.jsdelivr.net/npm//vega-lib?noext\",\n",
       "      \"vega-lite\": \"https://cdn.jsdelivr.net/npm//vega-lite@4.17.0?noext\",\n",
       "      \"vega-embed\": \"https://cdn.jsdelivr.net/npm//vega-embed@6?noext\",\n",
       "    };\n",
       "\n",
       "    function maybeLoadScript(lib, version) {\n",
       "      var key = `${lib.replace(\"-\", \"\")}_version`;\n",
       "      return (VEGA_DEBUG[key] == version) ?\n",
       "        Promise.resolve(paths[lib]) :\n",
       "        new Promise(function(resolve, reject) {\n",
       "          var s = document.createElement('script');\n",
       "          document.getElementsByTagName(\"head\")[0].appendChild(s);\n",
       "          s.async = true;\n",
       "          s.onload = () => {\n",
       "            VEGA_DEBUG[key] = version;\n",
       "            return resolve(paths[lib]);\n",
       "          };\n",
       "          s.onerror = () => reject(`Error loading script: ${paths[lib]}`);\n",
       "          s.src = paths[lib];\n",
       "        });\n",
       "    }\n",
       "\n",
       "    function showError(err) {\n",
       "      outputDiv.innerHTML = `<div class=\"error\" style=\"color:red;\">${err}</div>`;\n",
       "      throw err;\n",
       "    }\n",
       "\n",
       "    function displayChart(vegaEmbed) {\n",
       "      vegaEmbed(outputDiv, spec, embedOpt)\n",
       "        .catch(err => showError(`Javascript Error: ${err.message}<br>This usually means there's a typo in your chart specification. See the javascript console for the full traceback.`));\n",
       "    }\n",
       "\n",
       "    if(typeof define === \"function\" && define.amd) {\n",
       "      requirejs.config({paths});\n",
       "      require([\"vega-embed\"], displayChart, err => showError(`Error loading script: ${err.message}`));\n",
       "    } else {\n",
       "      maybeLoadScript(\"vega\", \"5\")\n",
       "        .then(() => maybeLoadScript(\"vega-lite\", \"4.17.0\"))\n",
       "        .then(() => maybeLoadScript(\"vega-embed\", \"6\"))\n",
       "        .catch(showError)\n",
       "        .then(() => displayChart(vegaEmbed));\n",
       "    }\n",
       "  })({\"config\": {\"view\": {\"continuousWidth\": 400, \"continuousHeight\": 300}, \"axis\": {\"domainColor\": \"#cbcbcb\", \"grid\": true, \"gridColor\": \"#cbcbcb\", \"gridWidth\": 1, \"labelColor\": \"#474747\", \"labelFont\": \"Nunito Sans\", \"labelFontSize\": 10, \"labelPadding\": 4, \"tickColor\": \"#cbcbcb\", \"tickSize\": 10, \"titleColor\": \"#333\", \"titleFont\": \"Raleway\", \"titleFontSize\": 12, \"titlePadding\": 10}, \"axisBand\": {\"grid\": false}, \"background\": \"white\", \"font\": \"Raleway\", \"header\": {\"labelFont\": \"Nunito Sans\", \"titleFont\": \"Raleway\"}, \"legend\": {\"labelColor\": \"#333\", \"labelFont\": \"Nunito Sans\", \"labelFontSize\": 11, \"labelLimit\": 0, \"padding\": 1, \"symbolSize\": 30, \"symbolType\": \"square\", \"titleColor\": \"#333\", \"titleFont\": \"Raleway\", \"titleFontSize\": 14, \"titlePadding\": 10}, \"title\": {\"anchor\": \"middle\", \"font\": \"Raleway\", \"fontSize\": 18, \"fontWeight\": 300, \"offset\": 20}}, \"data\": {\"name\": \"data-d5f9ea66ab472e395beb0e578ad92dff\"}, \"mark\": \"bar\", \"encoding\": {\"color\": {\"field\": \"Agency\", \"legend\": {\"symbolLimit\": 10, \"title\": \"Agency\"}, \"scale\": {\"range\": [\"#2EA8CE\", \"#EB9F3C\", \"#F4D837\", \"#51BF9D\", \"#8CBCCB\", \"#9487C0\"]}, \"type\": \"nominal\"}, \"tooltip\": [{\"field\": \"Agency\", \"type\": \"nominal\"}, {\"field\": \"Number of Obligations\", \"type\": \"quantitative\"}], \"x\": {\"field\": \"Agency\", \"sort\": \"-y\", \"title\": \"Agency\", \"type\": \"nominal\"}, \"y\": {\"field\": \"Number of Obligations\", \"title\": \"Number Of Obligations\", \"type\": \"quantitative\"}}, \"height\": 250, \"width\": 400, \"$schema\": \"https://vega.github.io/schema/vega-lite/v4.17.0.json\", \"datasets\": {\"data-d5f9ea66ab472e395beb0e578ad92dff\": [{\"Agency\": \"San Bernardino County\", \"Number of Obligations\": 139, \"variable\": \"primary_agency_name\"}, {\"Agency\": \"Riverside County\", \"Number of Obligations\": 132, \"variable\": \"primary_agency_name\"}, {\"Agency\": \"San Bernardino Associated Governments\", \"Number of Obligations\": 86, \"variable\": \"primary_agency_name\"}, {\"Agency\": \"Palm Springs\", \"Number of Obligations\": 71, \"variable\": \"primary_agency_name\"}, {\"Agency\": \"Moreno Valley\", \"Number of Obligations\": 64, \"variable\": \"primary_agency_name\"}, {\"Agency\": \"Indio\", \"Number of Obligations\": 54, \"variable\": \"primary_agency_name\"}, {\"Agency\": \"Highland\", \"Number of Obligations\": 50, \"variable\": \"primary_agency_name\"}, {\"Agency\": \"Riverside\", \"Number of Obligations\": 44, \"variable\": \"primary_agency_name\"}, {\"Agency\": \"Riverside County Transportation Commission\", \"Number of Obligations\": 40, \"variable\": \"primary_agency_name\"}, {\"Agency\": \"Victorville\", \"Number of Obligations\": 37, \"variable\": \"primary_agency_name\"}, {\"Agency\": \"Ontario\", \"Number of Obligations\": 34, \"variable\": \"primary_agency_name\"}, {\"Agency\": \"Colton\", \"Number of Obligations\": 33, \"variable\": \"primary_agency_name\"}, {\"Agency\": \"Rancho Mirage\", \"Number of Obligations\": 32, \"variable\": \"primary_agency_name\"}, {\"Agency\": \"San Bernardino County Transportation Authority\", \"Number of Obligations\": 30, \"variable\": \"primary_agency_name\"}, {\"Agency\": \"Redlands\", \"Number of Obligations\": 29, \"variable\": \"primary_agency_name\"}, {\"Agency\": \"Cathedral City\", \"Number of Obligations\": 27, \"variable\": \"primary_agency_name\"}, {\"Agency\": \"Yucaipa\", \"Number of Obligations\": 24, \"variable\": \"primary_agency_name\"}, {\"Agency\": \"San Bernardino\", \"Number of Obligations\": 23, \"variable\": \"primary_agency_name\"}, {\"Agency\": \"Wildomar\", \"Number of Obligations\": 21, \"variable\": \"primary_agency_name\"}, {\"Agency\": \"Apple Valley\", \"Number of Obligations\": 20, \"variable\": \"primary_agency_name\"}]}}, {\"mode\": \"vega-lite\"});\n",
       "</script>"
      ],
      "text/plain": [
       "alt.Chart(...)"
      ]
     },
     "metadata": {},
     "output_type": "display_data"
    }
   ],
   "source": [
    "#Bar chart Agencies With The Most Obligations\n",
    "chart_df = (df_top>>filter(_.variable=='primary_agency_name')).rename(columns={\"value\":\"Agency\",\n",
    "                                 \"count\":\"Number of Obligations\"})\n",
    "chart2 = (_dla_utils.basic_bar_chart_no_save(chart_df, 'Agency', 'Number of Obligations', 'Agency', district))\n",
    "    \n",
    "\n",
    "display(chart2)\n"
   ]
  },
  {
   "cell_type": "markdown",
   "id": "5a3bed5f-4325-47af-9cc7-683f9872817f",
   "metadata": {
    "papermill": {
     "duration": 0.043483,
     "end_time": "2022-05-31T18:39:44.898231",
     "exception": false,
     "start_time": "2022-05-31T18:39:44.854748",
     "status": "completed"
    },
    "tags": []
   },
   "source": [
    "## Prefix Codes"
   ]
  },
  {
   "cell_type": "markdown",
   "id": "339b20d8-68c6-43bd-8aaf-491772bc0995",
   "metadata": {
    "papermill": {
     "duration": 0.028408,
     "end_time": "2022-05-31T18:39:44.969020",
     "exception": false,
     "start_time": "2022-05-31T18:39:44.940612",
     "status": "completed"
    },
    "tags": []
   },
   "source": [
    "<hr style=\"height:2px;border-width:0;color:black;background-color:black\">"
   ]
  },
  {
   "cell_type": "markdown",
   "id": "cfded756-3c93-4089-be41-68e19d28b304",
   "metadata": {
    "papermill": {
     "duration": 0.027081,
     "end_time": "2022-05-31T18:39:45.023668",
     "exception": false,
     "start_time": "2022-05-31T18:39:44.996587",
     "status": "completed"
    },
    "tags": []
   },
   "source": [
    "Prefix Codes refer to the program an obligation is in. Similar to the number of obligations, calcuating the unique prefix codes provides insight to how many progams DLA is involved in each year as well as workload at the district and organization level.\n",
    "\n",
    "Metrics: \n",
    "* Number of Unique Prefix Codes by Districts\n",
    "* Most Used Prefix Codes\n",
    "* Agencies With The Most Unique Prefix Codes"
   ]
  },
  {
   "cell_type": "markdown",
   "id": "f8cb2832-947d-4631-9b4c-c81fb118cab3",
   "metadata": {
    "papermill": {
     "duration": 0.028725,
     "end_time": "2022-05-31T18:39:45.079124",
     "exception": false,
     "start_time": "2022-05-31T18:39:45.050399",
     "status": "completed"
    },
    "tags": []
   },
   "source": [
    "### Number of Unique Prefix Codes by District"
   ]
  },
  {
   "cell_type": "code",
   "execution_count": 10,
   "id": "f661bd63-f8aa-4048-b035-03d5bf1b7e95",
   "metadata": {
    "execution": {
     "iopub.execute_input": "2022-05-31T18:39:45.142005Z",
     "iopub.status.busy": "2022-05-31T18:39:45.141653Z",
     "iopub.status.idle": "2022-05-31T18:39:45.198377Z",
     "shell.execute_reply": "2022-05-31T18:39:45.197447Z"
    },
    "jupyter": {
     "source_hidden": true
    },
    "papermill": {
     "duration": 0.088511,
     "end_time": "2022-05-31T18:39:45.200629",
     "exception": false,
     "start_time": "2022-05-31T18:39:45.112118",
     "status": "completed"
    },
    "tags": [
     "remove_input"
    ]
   },
   "outputs": [
    {
     "data": {
      "text/html": [
       "\n",
       "<div id=\"altair-viz-999f97acb78d440d9cc75a4a81b0f902\"></div>\n",
       "<script type=\"text/javascript\">\n",
       "  var VEGA_DEBUG = (typeof VEGA_DEBUG == \"undefined\") ? {} : VEGA_DEBUG;\n",
       "  (function(spec, embedOpt){\n",
       "    let outputDiv = document.currentScript.previousElementSibling;\n",
       "    if (outputDiv.id !== \"altair-viz-999f97acb78d440d9cc75a4a81b0f902\") {\n",
       "      outputDiv = document.getElementById(\"altair-viz-999f97acb78d440d9cc75a4a81b0f902\");\n",
       "    }\n",
       "    const paths = {\n",
       "      \"vega\": \"https://cdn.jsdelivr.net/npm//vega@5?noext\",\n",
       "      \"vega-lib\": \"https://cdn.jsdelivr.net/npm//vega-lib?noext\",\n",
       "      \"vega-lite\": \"https://cdn.jsdelivr.net/npm//vega-lite@4.17.0?noext\",\n",
       "      \"vega-embed\": \"https://cdn.jsdelivr.net/npm//vega-embed@6?noext\",\n",
       "    };\n",
       "\n",
       "    function maybeLoadScript(lib, version) {\n",
       "      var key = `${lib.replace(\"-\", \"\")}_version`;\n",
       "      return (VEGA_DEBUG[key] == version) ?\n",
       "        Promise.resolve(paths[lib]) :\n",
       "        new Promise(function(resolve, reject) {\n",
       "          var s = document.createElement('script');\n",
       "          document.getElementsByTagName(\"head\")[0].appendChild(s);\n",
       "          s.async = true;\n",
       "          s.onload = () => {\n",
       "            VEGA_DEBUG[key] = version;\n",
       "            return resolve(paths[lib]);\n",
       "          };\n",
       "          s.onerror = () => reject(`Error loading script: ${paths[lib]}`);\n",
       "          s.src = paths[lib];\n",
       "        });\n",
       "    }\n",
       "\n",
       "    function showError(err) {\n",
       "      outputDiv.innerHTML = `<div class=\"error\" style=\"color:red;\">${err}</div>`;\n",
       "      throw err;\n",
       "    }\n",
       "\n",
       "    function displayChart(vegaEmbed) {\n",
       "      vegaEmbed(outputDiv, spec, embedOpt)\n",
       "        .catch(err => showError(`Javascript Error: ${err.message}<br>This usually means there's a typo in your chart specification. See the javascript console for the full traceback.`));\n",
       "    }\n",
       "\n",
       "    if(typeof define === \"function\" && define.amd) {\n",
       "      requirejs.config({paths});\n",
       "      require([\"vega-embed\"], displayChart, err => showError(`Error loading script: ${err.message}`));\n",
       "    } else {\n",
       "      maybeLoadScript(\"vega\", \"5\")\n",
       "        .then(() => maybeLoadScript(\"vega-lite\", \"4.17.0\"))\n",
       "        .then(() => maybeLoadScript(\"vega-embed\", \"6\"))\n",
       "        .catch(showError)\n",
       "        .then(() => displayChart(vegaEmbed));\n",
       "    }\n",
       "  })({\"config\": {\"view\": {\"continuousWidth\": 400, \"continuousHeight\": 300}, \"axis\": {\"domainColor\": \"#cbcbcb\", \"grid\": true, \"gridColor\": \"#cbcbcb\", \"gridWidth\": 1, \"labelColor\": \"#474747\", \"labelFont\": \"Nunito Sans\", \"labelFontSize\": 10, \"labelPadding\": 4, \"tickColor\": \"#cbcbcb\", \"tickSize\": 10, \"titleColor\": \"#333\", \"titleFont\": \"Raleway\", \"titleFontSize\": 12, \"titlePadding\": 10}, \"axisBand\": {\"grid\": false}, \"background\": \"white\", \"font\": \"Raleway\", \"header\": {\"labelFont\": \"Nunito Sans\", \"titleFont\": \"Raleway\"}, \"legend\": {\"labelColor\": \"#333\", \"labelFont\": \"Nunito Sans\", \"labelFontSize\": 11, \"labelLimit\": 0, \"padding\": 1, \"symbolSize\": 30, \"symbolType\": \"square\", \"titleColor\": \"#333\", \"titleFont\": \"Raleway\", \"titleFontSize\": 14, \"titlePadding\": 10}, \"title\": {\"anchor\": \"middle\", \"font\": \"Raleway\", \"fontSize\": 18, \"fontWeight\": 300, \"offset\": 20}}, \"data\": {\"name\": \"data-cb63821c551b050af7849dfc897e0769\"}, \"mark\": \"bar\", \"encoding\": {\"color\": {\"field\": \"District\", \"legend\": {\"title\": \"District\"}, \"scale\": {\"range\": [\"#B9D6DF\", \"#8CBCCB\", \"#2EA8CE\", \"#136C97\", \"#0B405B\"]}, \"type\": \"nominal\"}, \"column\": {\"field\": \"District\", \"type\": \"nominal\"}, \"tooltip\": [{\"field\": \"prepared_y\", \"type\": \"quantitative\"}, {\"field\": \"Count\", \"type\": \"quantitative\"}], \"x\": {\"field\": \"prepared_y\", \"title\": \"Prepared Year\", \"type\": \"ordinal\"}, \"y\": {\"field\": \"Count\", \"title\": \"Number of Unique Agencies\", \"type\": \"quantitative\"}}, \"height\": 250, \"width\": 400, \"$schema\": \"https://vega.github.io/schema/vega-lite/v4.17.0.json\", \"datasets\": {\"data-cb63821c551b050af7849dfc897e0769\": [{\"prepared_y\": 2022.0, \"District\": 8, \"Count\": 20}, {\"prepared_y\": 2021.0, \"District\": 8, \"Count\": 39}, {\"prepared_y\": 2020.0, \"District\": 8, \"Count\": 29}, {\"prepared_y\": 2019.0, \"District\": 8, \"Count\": 36}, {\"prepared_y\": 2018.0, \"District\": 8, \"Count\": 41}, {\"prepared_y\": 2017.0, \"District\": 8, \"Count\": 32}, {\"prepared_y\": 2016.0, \"District\": 8, \"Count\": 37}, {\"prepared_y\": 2015.0, \"District\": 8, \"Count\": 39}, {\"prepared_y\": 2014.0, \"District\": 8, \"Count\": 36}, {\"prepared_y\": 2013.0, \"District\": 8, \"Count\": 13}, {\"prepared_y\": 2012.0, \"District\": 8, \"Count\": 2}, {\"prepared_y\": 2011.0, \"District\": 8, \"Count\": 3}, {\"prepared_y\": 2010.0, \"District\": 8, \"Count\": 1}]}}, {\"mode\": \"vega-lite\"});\n",
       "</script>"
      ],
      "text/plain": [
       "alt.Chart(...)"
      ]
     },
     "metadata": {},
     "output_type": "display_data"
    }
   ],
   "source": [
    "#Unique Prefixes by Dist\n",
    "dist_years_prefix = ((\n",
    "        df\n",
    "        >> group_by(_.prepared_y, _.dist)\n",
    "        >> summarize(n=_.prefix.nunique())\n",
    "        >> arrange(-_.prepared_y)\n",
    "    ).rename(columns={'dist':'District', 'n':'Count'}))\n",
    "\n",
    "chart11 = (alt.Chart(dist_years_prefix).mark_bar().encode(\n",
    "        column='District:N',\n",
    "        x=alt.X('prepared_y:O', title='Prepared Year'),\n",
    "        y=alt.Y('Count:Q', title='Number of Unique Agencies'),\n",
    "        color = alt.Color(\"District:N\", \n",
    "                              scale=alt.Scale(\n",
    "                                  range=altair_utils.CALITP_SEQUENTIAL_COLORS),  \n",
    "                               legend=alt.Legend(title=\"District\")\n",
    "                              )\n",
    "                              ))\n",
    "chart11 = styleguide.preset_chart_config(chart11)\n",
    "chart11 = _dla_utils.add_tooltip(chart11, 'prepared_y','Count')\n",
    "    \n",
    "\n",
    "display(chart11)"
   ]
  },
  {
   "cell_type": "markdown",
   "id": "c52b3650-9c49-4ab9-a72d-52ecf36d4b7a",
   "metadata": {
    "papermill": {
     "duration": 0.02795,
     "end_time": "2022-05-31T18:39:45.256107",
     "exception": false,
     "start_time": "2022-05-31T18:39:45.228157",
     "status": "completed"
    },
    "tags": []
   },
   "source": [
    "### Most Used Prefix Codes"
   ]
  },
  {
   "cell_type": "code",
   "execution_count": 11,
   "id": "0aca2d9a-062a-4c12-9489-5f9de10f3462",
   "metadata": {
    "execution": {
     "iopub.execute_input": "2022-05-31T18:39:45.316595Z",
     "iopub.status.busy": "2022-05-31T18:39:45.315464Z",
     "iopub.status.idle": "2022-05-31T18:39:45.350401Z",
     "shell.execute_reply": "2022-05-31T18:39:45.349495Z"
    },
    "jupyter": {
     "source_hidden": true
    },
    "papermill": {
     "duration": 0.065925,
     "end_time": "2022-05-31T18:39:45.352426",
     "exception": false,
     "start_time": "2022-05-31T18:39:45.286501",
     "status": "completed"
    },
    "tags": [
     "remove_input"
    ]
   },
   "outputs": [
    {
     "data": {
      "text/html": [
       "\n",
       "<div id=\"altair-viz-d086802cc72b4a568f1982056bb9eb8f\"></div>\n",
       "<script type=\"text/javascript\">\n",
       "  var VEGA_DEBUG = (typeof VEGA_DEBUG == \"undefined\") ? {} : VEGA_DEBUG;\n",
       "  (function(spec, embedOpt){\n",
       "    let outputDiv = document.currentScript.previousElementSibling;\n",
       "    if (outputDiv.id !== \"altair-viz-d086802cc72b4a568f1982056bb9eb8f\") {\n",
       "      outputDiv = document.getElementById(\"altair-viz-d086802cc72b4a568f1982056bb9eb8f\");\n",
       "    }\n",
       "    const paths = {\n",
       "      \"vega\": \"https://cdn.jsdelivr.net/npm//vega@5?noext\",\n",
       "      \"vega-lib\": \"https://cdn.jsdelivr.net/npm//vega-lib?noext\",\n",
       "      \"vega-lite\": \"https://cdn.jsdelivr.net/npm//vega-lite@4.17.0?noext\",\n",
       "      \"vega-embed\": \"https://cdn.jsdelivr.net/npm//vega-embed@6?noext\",\n",
       "    };\n",
       "\n",
       "    function maybeLoadScript(lib, version) {\n",
       "      var key = `${lib.replace(\"-\", \"\")}_version`;\n",
       "      return (VEGA_DEBUG[key] == version) ?\n",
       "        Promise.resolve(paths[lib]) :\n",
       "        new Promise(function(resolve, reject) {\n",
       "          var s = document.createElement('script');\n",
       "          document.getElementsByTagName(\"head\")[0].appendChild(s);\n",
       "          s.async = true;\n",
       "          s.onload = () => {\n",
       "            VEGA_DEBUG[key] = version;\n",
       "            return resolve(paths[lib]);\n",
       "          };\n",
       "          s.onerror = () => reject(`Error loading script: ${paths[lib]}`);\n",
       "          s.src = paths[lib];\n",
       "        });\n",
       "    }\n",
       "\n",
       "    function showError(err) {\n",
       "      outputDiv.innerHTML = `<div class=\"error\" style=\"color:red;\">${err}</div>`;\n",
       "      throw err;\n",
       "    }\n",
       "\n",
       "    function displayChart(vegaEmbed) {\n",
       "      vegaEmbed(outputDiv, spec, embedOpt)\n",
       "        .catch(err => showError(`Javascript Error: ${err.message}<br>This usually means there's a typo in your chart specification. See the javascript console for the full traceback.`));\n",
       "    }\n",
       "\n",
       "    if(typeof define === \"function\" && define.amd) {\n",
       "      requirejs.config({paths});\n",
       "      require([\"vega-embed\"], displayChart, err => showError(`Error loading script: ${err.message}`));\n",
       "    } else {\n",
       "      maybeLoadScript(\"vega\", \"5\")\n",
       "        .then(() => maybeLoadScript(\"vega-lite\", \"4.17.0\"))\n",
       "        .then(() => maybeLoadScript(\"vega-embed\", \"6\"))\n",
       "        .catch(showError)\n",
       "        .then(() => displayChart(vegaEmbed));\n",
       "    }\n",
       "  })({\"config\": {\"view\": {\"continuousWidth\": 400, \"continuousHeight\": 300}, \"axis\": {\"domainColor\": \"#cbcbcb\", \"grid\": true, \"gridColor\": \"#cbcbcb\", \"gridWidth\": 1, \"labelColor\": \"#474747\", \"labelFont\": \"Nunito Sans\", \"labelFontSize\": 10, \"labelPadding\": 4, \"tickColor\": \"#cbcbcb\", \"tickSize\": 10, \"titleColor\": \"#333\", \"titleFont\": \"Raleway\", \"titleFontSize\": 12, \"titlePadding\": 10}, \"axisBand\": {\"grid\": false}, \"background\": \"white\", \"font\": \"Raleway\", \"header\": {\"labelFont\": \"Nunito Sans\", \"titleFont\": \"Raleway\"}, \"legend\": {\"labelColor\": \"#333\", \"labelFont\": \"Nunito Sans\", \"labelFontSize\": 11, \"labelLimit\": 0, \"padding\": 1, \"symbolSize\": 30, \"symbolType\": \"square\", \"titleColor\": \"#333\", \"titleFont\": \"Raleway\", \"titleFontSize\": 14, \"titlePadding\": 10}, \"title\": {\"anchor\": \"middle\", \"font\": \"Raleway\", \"fontSize\": 18, \"fontWeight\": 300, \"offset\": 20}}, \"data\": {\"name\": \"data-e692909024c18ec3829620ec70c3e0c2\"}, \"mark\": \"bar\", \"encoding\": {\"color\": {\"field\": \"Prefix\", \"legend\": {\"symbolLimit\": 10, \"title\": \"Prefix\"}, \"scale\": {\"range\": [\"#2EA8CE\", \"#EB9F3C\", \"#F4D837\", \"#51BF9D\", \"#8CBCCB\", \"#9487C0\"]}, \"type\": \"nominal\"}, \"tooltip\": [{\"field\": \"Prefix\", \"type\": \"nominal\"}, {\"field\": \"Number of Obligations\", \"type\": \"quantitative\"}], \"x\": {\"field\": \"Prefix\", \"sort\": \"-y\", \"title\": \"Prefix\", \"type\": \"nominal\"}, \"y\": {\"field\": \"Number of Obligations\", \"title\": \"Number Of Obligations\", \"type\": \"quantitative\"}}, \"height\": 250, \"width\": 400, \"$schema\": \"https://vega.github.io/schema/vega-lite/v4.17.0.json\", \"datasets\": {\"data-e692909024c18ec3829620ec70c3e0c2\": [{\"Prefix\": \"HSIPL\", \"Number of Obligations\": 324, \"variable\": \"prefix\"}, {\"Prefix\": \"BRLS\", \"Number of Obligations\": 120, \"variable\": \"prefix\"}, {\"Prefix\": \"STPL\", \"Number of Obligations\": 91, \"variable\": \"prefix\"}, {\"Prefix\": \"ER\", \"Number of Obligations\": 88, \"variable\": \"prefix\"}, {\"Prefix\": \"CML\", \"Number of Obligations\": 81, \"variable\": \"prefix\"}, {\"Prefix\": \"ATPL\", \"Number of Obligations\": 53, \"variable\": \"prefix\"}, {\"Prefix\": \"STPLN\", \"Number of Obligations\": 53, \"variable\": \"prefix\"}, {\"Prefix\": \"SRTSL\", \"Number of Obligations\": 43, \"variable\": \"prefix\"}, {\"Prefix\": \"BR\", \"Number of Obligations\": 38, \"variable\": \"prefix\"}, {\"Prefix\": \"FTACML\", \"Number of Obligations\": 32, \"variable\": \"prefix\"}, {\"Prefix\": \"CMLN\", \"Number of Obligations\": 31, \"variable\": \"prefix\"}, {\"Prefix\": \"HSIPLN\", \"Number of Obligations\": 30, \"variable\": \"prefix\"}, {\"Prefix\": \"BRLO\", \"Number of Obligations\": 29, \"variable\": \"prefix\"}, {\"Prefix\": \"BHLS\", \"Number of Obligations\": 24, \"variable\": \"prefix\"}, {\"Prefix\": \"STPLZ\", \"Number of Obligations\": 23, \"variable\": \"prefix\"}, {\"Prefix\": \"HPLUL\", \"Number of Obligations\": 22, \"variable\": \"prefix\"}, {\"Prefix\": \"ACSTP\", \"Number of Obligations\": 21, \"variable\": \"prefix\"}, {\"Prefix\": \"BPMPL\", \"Number of Obligations\": 20, \"variable\": \"prefix\"}, {\"Prefix\": \"PLDHL\", \"Number of Obligations\": 13, \"variable\": \"prefix\"}, {\"Prefix\": \"BHLSZ\", \"Number of Obligations\": 12, \"variable\": \"prefix\"}]}}, {\"mode\": \"vega-lite\"});\n",
       "</script>"
      ],
      "text/plain": [
       "alt.Chart(...)"
      ]
     },
     "metadata": {},
     "output_type": "display_data"
    }
   ],
   "source": [
    "#Bar chart with the Most Used Prefix Counts\n",
    "chart_df = (df_top>>filter(_.variable=='prefix')).rename(columns={\"value\":\"Prefix\",\n",
    "                                 \"count\":\"Number of Obligations\"})\n",
    "chart9= (_dla_utils.basic_bar_chart_no_save(chart_df, 'Prefix', 'Number of Obligations', 'Prefix', district))\n",
    "    \n",
    "\n",
    "display(chart9)\n",
    "    "
   ]
  },
  {
   "cell_type": "markdown",
   "id": "46030e63-c1ae-4834-b538-b09937074207",
   "metadata": {
    "papermill": {
     "duration": 0.02806,
     "end_time": "2022-05-31T18:39:45.414511",
     "exception": false,
     "start_time": "2022-05-31T18:39:45.386451",
     "status": "completed"
    },
    "tags": []
   },
   "source": [
    "### Agencies With The Most Unique Prefix Codes"
   ]
  },
  {
   "cell_type": "code",
   "execution_count": 12,
   "id": "3d21c9b2-833b-463a-9a03-a9c83d727d2e",
   "metadata": {
    "execution": {
     "iopub.execute_input": "2022-05-31T18:39:45.472026Z",
     "iopub.status.busy": "2022-05-31T18:39:45.471684Z",
     "iopub.status.idle": "2022-05-31T18:39:45.553428Z",
     "shell.execute_reply": "2022-05-31T18:39:45.552470Z"
    },
    "jupyter": {
     "source_hidden": true
    },
    "papermill": {
     "duration": 0.12274,
     "end_time": "2022-05-31T18:39:45.564676",
     "exception": false,
     "start_time": "2022-05-31T18:39:45.441936",
     "status": "completed"
    },
    "tags": [
     "remove_input"
    ]
   },
   "outputs": [
    {
     "data": {
      "text/html": [
       "\n",
       "<div id=\"altair-viz-69b3b65380404fa0a840bd2e0124f0dc\"></div>\n",
       "<script type=\"text/javascript\">\n",
       "  var VEGA_DEBUG = (typeof VEGA_DEBUG == \"undefined\") ? {} : VEGA_DEBUG;\n",
       "  (function(spec, embedOpt){\n",
       "    let outputDiv = document.currentScript.previousElementSibling;\n",
       "    if (outputDiv.id !== \"altair-viz-69b3b65380404fa0a840bd2e0124f0dc\") {\n",
       "      outputDiv = document.getElementById(\"altair-viz-69b3b65380404fa0a840bd2e0124f0dc\");\n",
       "    }\n",
       "    const paths = {\n",
       "      \"vega\": \"https://cdn.jsdelivr.net/npm//vega@5?noext\",\n",
       "      \"vega-lib\": \"https://cdn.jsdelivr.net/npm//vega-lib?noext\",\n",
       "      \"vega-lite\": \"https://cdn.jsdelivr.net/npm//vega-lite@4.17.0?noext\",\n",
       "      \"vega-embed\": \"https://cdn.jsdelivr.net/npm//vega-embed@6?noext\",\n",
       "    };\n",
       "\n",
       "    function maybeLoadScript(lib, version) {\n",
       "      var key = `${lib.replace(\"-\", \"\")}_version`;\n",
       "      return (VEGA_DEBUG[key] == version) ?\n",
       "        Promise.resolve(paths[lib]) :\n",
       "        new Promise(function(resolve, reject) {\n",
       "          var s = document.createElement('script');\n",
       "          document.getElementsByTagName(\"head\")[0].appendChild(s);\n",
       "          s.async = true;\n",
       "          s.onload = () => {\n",
       "            VEGA_DEBUG[key] = version;\n",
       "            return resolve(paths[lib]);\n",
       "          };\n",
       "          s.onerror = () => reject(`Error loading script: ${paths[lib]}`);\n",
       "          s.src = paths[lib];\n",
       "        });\n",
       "    }\n",
       "\n",
       "    function showError(err) {\n",
       "      outputDiv.innerHTML = `<div class=\"error\" style=\"color:red;\">${err}</div>`;\n",
       "      throw err;\n",
       "    }\n",
       "\n",
       "    function displayChart(vegaEmbed) {\n",
       "      vegaEmbed(outputDiv, spec, embedOpt)\n",
       "        .catch(err => showError(`Javascript Error: ${err.message}<br>This usually means there's a typo in your chart specification. See the javascript console for the full traceback.`));\n",
       "    }\n",
       "\n",
       "    if(typeof define === \"function\" && define.amd) {\n",
       "      requirejs.config({paths});\n",
       "      require([\"vega-embed\"], displayChart, err => showError(`Error loading script: ${err.message}`));\n",
       "    } else {\n",
       "      maybeLoadScript(\"vega\", \"5\")\n",
       "        .then(() => maybeLoadScript(\"vega-lite\", \"4.17.0\"))\n",
       "        .then(() => maybeLoadScript(\"vega-embed\", \"6\"))\n",
       "        .catch(showError)\n",
       "        .then(() => displayChart(vegaEmbed));\n",
       "    }\n",
       "  })({\"config\": {\"view\": {\"continuousWidth\": 400, \"continuousHeight\": 300}, \"axis\": {\"domainColor\": \"#cbcbcb\", \"grid\": true, \"gridColor\": \"#cbcbcb\", \"gridWidth\": 1, \"labelColor\": \"#474747\", \"labelFont\": \"Nunito Sans\", \"labelFontSize\": 10, \"labelPadding\": 4, \"tickColor\": \"#cbcbcb\", \"tickSize\": 10, \"titleColor\": \"#333\", \"titleFont\": \"Raleway\", \"titleFontSize\": 12, \"titlePadding\": 10}, \"axisBand\": {\"grid\": false}, \"background\": \"white\", \"font\": \"Raleway\", \"header\": {\"labelFont\": \"Nunito Sans\", \"titleFont\": \"Raleway\"}, \"legend\": {\"labelColor\": \"#333\", \"labelFont\": \"Nunito Sans\", \"labelFontSize\": 11, \"labelLimit\": 0, \"padding\": 1, \"symbolSize\": 30, \"symbolType\": \"square\", \"titleColor\": \"#333\", \"titleFont\": \"Raleway\", \"titleFontSize\": 14, \"titlePadding\": 10}, \"title\": {\"anchor\": \"middle\", \"font\": \"Raleway\", \"fontSize\": 18, \"fontWeight\": 300, \"offset\": 20}}, \"data\": {\"name\": \"data-5f41ab1a7e3855f7744231a9f691dc8e\"}, \"mark\": \"bar\", \"encoding\": {\"color\": {\"field\": \"primary_agency_name\", \"legend\": {\"symbolLimit\": 10, \"title\": \"Agency\"}, \"scale\": {\"range\": [\"#2EA8CE\", \"#EB9F3C\", \"#F4D837\", \"#51BF9D\", \"#8CBCCB\", \"#9487C0\"]}, \"type\": \"nominal\"}, \"tooltip\": [{\"field\": \"primary_agency_name\", \"type\": \"nominal\"}, {\"field\": \"n\", \"type\": \"quantitative\"}], \"x\": {\"field\": \"primary_agency_name\", \"sort\": \"-y\", \"title\": \"Agency\", \"type\": \"nominal\"}, \"y\": {\"field\": \"n\", \"title\": \"Count\", \"type\": \"quantitative\"}}, \"height\": 250, \"width\": 400, \"$schema\": \"https://vega.github.io/schema/vega-lite/v4.17.0.json\", \"datasets\": {\"data-5f41ab1a7e3855f7744231a9f691dc8e\": [{\"primary_agency_name\": \"San Bernardino Associated Governments\", \"n\": 28}, {\"primary_agency_name\": \"Riverside County\", \"n\": 22}, {\"primary_agency_name\": \"Palm Springs\", \"n\": 18}, {\"primary_agency_name\": \"San Bernardino County\", \"n\": 16}, {\"primary_agency_name\": \"Indio\", \"n\": 12}, {\"primary_agency_name\": \"Riverside County Transportation Commission\", \"n\": 12}, {\"primary_agency_name\": \"Colton\", \"n\": 10}, {\"primary_agency_name\": \"Highland\", \"n\": 10}, {\"primary_agency_name\": \"Moreno Valley\", \"n\": 10}, {\"primary_agency_name\": \"Riverside\", \"n\": 10}, {\"primary_agency_name\": \"Temecula\", \"n\": 10}, {\"primary_agency_name\": \"Victorville\", \"n\": 10}, {\"primary_agency_name\": \"Coachella\", \"n\": 9}, {\"primary_agency_name\": \"Cathedral City\", \"n\": 8}, {\"primary_agency_name\": \"Rancho Mirage\", \"n\": 7}, {\"primary_agency_name\": \"Apple Valley\", \"n\": 6}, {\"primary_agency_name\": \"Corona\", \"n\": 6}, {\"primary_agency_name\": \"Fontana\", \"n\": 6}, {\"primary_agency_name\": \"Murrieta\", \"n\": 6}, {\"primary_agency_name\": \"Ontario\", \"n\": 6}, {\"primary_agency_name\": \"Yucca Valley\", \"n\": 6}, {\"primary_agency_name\": \"Chino Hills\", \"n\": 5}, {\"primary_agency_name\": \"Hesperia\", \"n\": 5}, {\"primary_agency_name\": \"Lake Elsinore\", \"n\": 5}, {\"primary_agency_name\": \"San Bernardino\", \"n\": 5}, {\"primary_agency_name\": \"Wildomar\", \"n\": 5}, {\"primary_agency_name\": \"Yucaipa\", \"n\": 5}, {\"primary_agency_name\": \"Barstow\", \"n\": 4}, {\"primary_agency_name\": \"Calimesa\", \"n\": 4}, {\"primary_agency_name\": \"Caltrans\", \"n\": 4}]}}, {\"mode\": \"vega-lite\"});\n",
       "</script>"
      ],
      "text/plain": [
       "alt.Chart(...)"
      ]
     },
     "metadata": {},
     "output_type": "display_data"
    }
   ],
   "source": [
    "#Bar chart Agencies With The Most Unique Prefix Codes\n",
    "    \n",
    "chart3 = (_dla_utils.basic_bar_chart_no_save(((_dla_utils.get_nunique(df, 'prefix', 'primary_agency_name')).head(30)),\n",
    "                            'primary_agency_name', 'n', 'primary_agency_name', district))\n",
    "    \n",
    "display(chart3)"
   ]
  },
  {
   "cell_type": "markdown",
   "id": "409d25d0-88ee-4eff-ae1f-ca9127618b4d",
   "metadata": {
    "papermill": {
     "duration": 0.028764,
     "end_time": "2022-05-31T18:39:45.634770",
     "exception": false,
     "start_time": "2022-05-31T18:39:45.606006",
     "status": "completed"
    },
    "tags": []
   },
   "source": [
    "## Funding Distributions"
   ]
  },
  {
   "cell_type": "markdown",
   "id": "4ffab2b2-4af7-476b-abe1-8c6c2534b3fb",
   "metadata": {
    "papermill": {
     "duration": 0.028965,
     "end_time": "2022-05-31T18:39:45.691614",
     "exception": false,
     "start_time": "2022-05-31T18:39:45.662649",
     "status": "completed"
    },
    "tags": []
   },
   "source": [
    "<hr style=\"height:2px;border-width:0;color:black;background-color:black\">"
   ]
  },
  {
   "cell_type": "markdown",
   "id": "eacca297-667a-4649-b6ac-351e81729e0d",
   "metadata": {
    "papermill": {
     "duration": 0.030527,
     "end_time": "2022-05-31T18:39:45.750336",
     "exception": false,
     "start_time": "2022-05-31T18:39:45.719809",
     "status": "completed"
    },
    "tags": []
   },
   "source": [
    "With each E-76, three types of funding amounts are included in the obligations: \n",
    "* Total Requested (`total_requested`)\n",
    "* Advance Construction Requested (`ac_requested`)\n",
    "* Federal Requested (`fed_requested`)\n",
    "\n",
    "Using this information, we can determine how much on average an organization recieves with these funds, and the distribution of the funds.\n",
    "\n",
    "\n",
    "Metrics:\n",
    "* Average Total Requested Funds by Agency\n",
    "* Lowest Average Total Funds by Agency\n",
    "* Average Total Requested Funds by Prefix"
   ]
  },
  {
   "cell_type": "markdown",
   "id": "d3caa5e9-9126-4572-8140-f81543c7d26a",
   "metadata": {
    "papermill": {
     "duration": 0.031581,
     "end_time": "2022-05-31T18:39:45.810492",
     "exception": false,
     "start_time": "2022-05-31T18:39:45.778911",
     "status": "completed"
    },
    "tags": []
   },
   "source": [
    "### Average Total Requested Funds by Agency ($2021)"
   ]
  },
  {
   "cell_type": "code",
   "execution_count": 13,
   "id": "3745ca4d-8dd4-4c09-b46b-a2f6db6358ad",
   "metadata": {
    "execution": {
     "iopub.execute_input": "2022-05-31T18:39:45.872074Z",
     "iopub.status.busy": "2022-05-31T18:39:45.870983Z",
     "iopub.status.idle": "2022-05-31T18:39:45.914379Z",
     "shell.execute_reply": "2022-05-31T18:39:45.913506Z"
    },
    "jupyter": {
     "source_hidden": true
    },
    "papermill": {
     "duration": 0.077165,
     "end_time": "2022-05-31T18:39:45.916499",
     "exception": false,
     "start_time": "2022-05-31T18:39:45.839334",
     "status": "completed"
    },
    "tags": [
     "remove_input"
    ]
   },
   "outputs": [
    {
     "data": {
      "text/html": [
       "\n",
       "<div id=\"altair-viz-2a5648aba665436aac8e5a0a29057981\"></div>\n",
       "<script type=\"text/javascript\">\n",
       "  var VEGA_DEBUG = (typeof VEGA_DEBUG == \"undefined\") ? {} : VEGA_DEBUG;\n",
       "  (function(spec, embedOpt){\n",
       "    let outputDiv = document.currentScript.previousElementSibling;\n",
       "    if (outputDiv.id !== \"altair-viz-2a5648aba665436aac8e5a0a29057981\") {\n",
       "      outputDiv = document.getElementById(\"altair-viz-2a5648aba665436aac8e5a0a29057981\");\n",
       "    }\n",
       "    const paths = {\n",
       "      \"vega\": \"https://cdn.jsdelivr.net/npm//vega@5?noext\",\n",
       "      \"vega-lib\": \"https://cdn.jsdelivr.net/npm//vega-lib?noext\",\n",
       "      \"vega-lite\": \"https://cdn.jsdelivr.net/npm//vega-lite@4.17.0?noext\",\n",
       "      \"vega-embed\": \"https://cdn.jsdelivr.net/npm//vega-embed@6?noext\",\n",
       "    };\n",
       "\n",
       "    function maybeLoadScript(lib, version) {\n",
       "      var key = `${lib.replace(\"-\", \"\")}_version`;\n",
       "      return (VEGA_DEBUG[key] == version) ?\n",
       "        Promise.resolve(paths[lib]) :\n",
       "        new Promise(function(resolve, reject) {\n",
       "          var s = document.createElement('script');\n",
       "          document.getElementsByTagName(\"head\")[0].appendChild(s);\n",
       "          s.async = true;\n",
       "          s.onload = () => {\n",
       "            VEGA_DEBUG[key] = version;\n",
       "            return resolve(paths[lib]);\n",
       "          };\n",
       "          s.onerror = () => reject(`Error loading script: ${paths[lib]}`);\n",
       "          s.src = paths[lib];\n",
       "        });\n",
       "    }\n",
       "\n",
       "    function showError(err) {\n",
       "      outputDiv.innerHTML = `<div class=\"error\" style=\"color:red;\">${err}</div>`;\n",
       "      throw err;\n",
       "    }\n",
       "\n",
       "    function displayChart(vegaEmbed) {\n",
       "      vegaEmbed(outputDiv, spec, embedOpt)\n",
       "        .catch(err => showError(`Javascript Error: ${err.message}<br>This usually means there's a typo in your chart specification. See the javascript console for the full traceback.`));\n",
       "    }\n",
       "\n",
       "    if(typeof define === \"function\" && define.amd) {\n",
       "      requirejs.config({paths});\n",
       "      require([\"vega-embed\"], displayChart, err => showError(`Error loading script: ${err.message}`));\n",
       "    } else {\n",
       "      maybeLoadScript(\"vega\", \"5\")\n",
       "        .then(() => maybeLoadScript(\"vega-lite\", \"4.17.0\"))\n",
       "        .then(() => maybeLoadScript(\"vega-embed\", \"6\"))\n",
       "        .catch(showError)\n",
       "        .then(() => displayChart(vegaEmbed));\n",
       "    }\n",
       "  })({\"config\": {\"view\": {\"continuousWidth\": 400, \"continuousHeight\": 300}, \"axis\": {\"domainColor\": \"#cbcbcb\", \"grid\": true, \"gridColor\": \"#cbcbcb\", \"gridWidth\": 1, \"labelColor\": \"#474747\", \"labelFont\": \"Nunito Sans\", \"labelFontSize\": 10, \"labelPadding\": 4, \"tickColor\": \"#cbcbcb\", \"tickSize\": 10, \"titleColor\": \"#333\", \"titleFont\": \"Raleway\", \"titleFontSize\": 12, \"titlePadding\": 10}, \"axisBand\": {\"grid\": false}, \"background\": \"white\", \"font\": \"Raleway\", \"header\": {\"labelFont\": \"Nunito Sans\", \"titleFont\": \"Raleway\"}, \"legend\": {\"labelColor\": \"#333\", \"labelFont\": \"Nunito Sans\", \"labelFontSize\": 11, \"labelLimit\": 0, \"padding\": 1, \"symbolSize\": 30, \"symbolType\": \"square\", \"titleColor\": \"#333\", \"titleFont\": \"Raleway\", \"titleFontSize\": 14, \"titlePadding\": 10}, \"title\": {\"anchor\": \"middle\", \"font\": \"Raleway\", \"fontSize\": 18, \"fontWeight\": 300, \"offset\": 20}}, \"data\": {\"name\": \"data-61df4ec808c0169d9934938f2c4ebd20\"}, \"mark\": \"bar\", \"encoding\": {\"color\": {\"field\": \"primary_agency_name\", \"legend\": {\"symbolLimit\": 10, \"title\": \"Agency\"}, \"scale\": {\"range\": [\"#2EA8CE\", \"#EB9F3C\", \"#F4D837\", \"#51BF9D\", \"#8CBCCB\", \"#9487C0\"]}, \"type\": \"nominal\"}, \"tooltip\": [{\"field\": \"primary_agency_name\", \"type\": \"nominal\"}, {\"field\": \"adjusted_total_requested\", \"type\": \"quantitative\"}], \"x\": {\"field\": \"primary_agency_name\", \"sort\": \"-y\", \"title\": \"Agency\", \"type\": \"nominal\"}, \"y\": {\"field\": \"adjusted_total_requested\", \"title\": \"Total Requested\", \"type\": \"quantitative\"}}, \"height\": 250, \"width\": 400, \"$schema\": \"https://vega.github.io/schema/vega-lite/v4.17.0.json\", \"datasets\": {\"data-61df4ec808c0169d9934938f2c4ebd20\": [{\"primary_agency_name\": \"Caltrans\", \"adjusted_total_requested\": 45158681.60003548}, {\"primary_agency_name\": \"Riverside County Transportation Commission\", \"adjusted_total_requested\": 20589585.32345577}, {\"primary_agency_name\": \"San Bernardino County Transportation Authority\", \"adjusted_total_requested\": 11789315.296203265}, {\"primary_agency_name\": \"Coachella Valley Association of Governments\", \"adjusted_total_requested\": 11597894.114621783}, {\"primary_agency_name\": \"OmniTrans\", \"adjusted_total_requested\": 7843917.8984101135}, {\"primary_agency_name\": \"Riverside Transit Agency\", \"adjusted_total_requested\": 7632701.294852758}, {\"primary_agency_name\": \"Rancho Cucamonga\", \"adjusted_total_requested\": 4810367.732435114}, {\"primary_agency_name\": \"San Bernardino Associated Governments\", \"adjusted_total_requested\": 4520921.156081606}, {\"primary_agency_name\": \"Temecula\", \"adjusted_total_requested\": 2923015.012299963}, {\"primary_agency_name\": \"Beaumont\", \"adjusted_total_requested\": 2466673.126481724}, {\"primary_agency_name\": \"Riverside County\", \"adjusted_total_requested\": 2430584.5318738245}, {\"primary_agency_name\": \"Sunline Transit Agency\", \"adjusted_total_requested\": 2210444.7082198854}, {\"primary_agency_name\": \"Barstow\", \"adjusted_total_requested\": 1958926.5813304721}, {\"primary_agency_name\": \"Victor Valley Transit Authority\", \"adjusted_total_requested\": 1936860.71512354}, {\"primary_agency_name\": \"Cathedral City\", \"adjusted_total_requested\": 1853825.959381277}, {\"primary_agency_name\": \"La Quinta\", \"adjusted_total_requested\": 1657885.9913125583}, {\"primary_agency_name\": \"Victorville\", \"adjusted_total_requested\": 1420814.1556633436}, {\"primary_agency_name\": \"Riverside\", \"adjusted_total_requested\": 1096877.4485543037}, {\"primary_agency_name\": \"Palm Springs\", \"adjusted_total_requested\": 1059273.58730788}, {\"primary_agency_name\": \"Murrieta\", \"adjusted_total_requested\": 1047759.8724911305}, {\"primary_agency_name\": \"Indio\", \"adjusted_total_requested\": 741089.0840283916}, {\"primary_agency_name\": \"Yucaipa\", \"adjusted_total_requested\": 711303.4874307401}, {\"primary_agency_name\": \"Needles\", \"adjusted_total_requested\": 702511.5651965514}, {\"primary_agency_name\": \"Coachella\", \"adjusted_total_requested\": 698931.945079949}, {\"primary_agency_name\": \"Morongo Basin Transit Authority\", \"adjusted_total_requested\": 653946.9495868034}, {\"primary_agency_name\": \"Chino Hills\", \"adjusted_total_requested\": 604270.2273082259}, {\"primary_agency_name\": \"Montclair\", \"adjusted_total_requested\": 571126.6193896523}, {\"primary_agency_name\": \"San Bernardino\", \"adjusted_total_requested\": 559918.7509801652}, {\"primary_agency_name\": \"Chino\", \"adjusted_total_requested\": 557069.1898032654}, {\"primary_agency_name\": \"Rialto\", \"adjusted_total_requested\": 522756.3629162345}]}}, {\"mode\": \"vega-lite\"});\n",
       "</script>"
      ],
      "text/plain": [
       "alt.Chart(...)"
      ]
     },
     "metadata": {},
     "output_type": "display_data"
    }
   ],
   "source": [
    "#Bar chart Average Total Requested Funds by Agency\n",
    "chart4=(_dla_utils.basic_bar_chart_no_save((((_dla_utils.calculate_data_all(df, 'adjusted_total_requested', 'primary_agency_name', aggfunc=\"mean\"))\n",
    "                          >>arrange(-_.adjusted_total_requested)).head(30)\n",
    "                        ), 'primary_agency_name','adjusted_total_requested', 'primary_agency_name', district\n",
    "                          \n",
    "                       ))\n",
    "    \n",
    "display(chart4)"
   ]
  },
  {
   "cell_type": "markdown",
   "id": "84702987-c63c-40c9-aad7-c2d8c1b8ee49",
   "metadata": {
    "papermill": {
     "duration": 0.029591,
     "end_time": "2022-05-31T18:39:45.977080",
     "exception": false,
     "start_time": "2022-05-31T18:39:45.947489",
     "status": "completed"
    },
    "tags": []
   },
   "source": [
    "### Lowest Average Total Funds by Agency ($2021)"
   ]
  },
  {
   "cell_type": "code",
   "execution_count": 14,
   "id": "ce18a74b-9908-40f8-84f1-806552936465",
   "metadata": {
    "execution": {
     "iopub.execute_input": "2022-05-31T18:39:46.043361Z",
     "iopub.status.busy": "2022-05-31T18:39:46.042245Z",
     "iopub.status.idle": "2022-05-31T18:39:46.127592Z",
     "shell.execute_reply": "2022-05-31T18:39:46.126745Z"
    },
    "jupyter": {
     "source_hidden": true
    },
    "papermill": {
     "duration": 0.119055,
     "end_time": "2022-05-31T18:39:46.129668",
     "exception": false,
     "start_time": "2022-05-31T18:39:46.010613",
     "status": "completed"
    },
    "tags": [
     "remove_input"
    ]
   },
   "outputs": [
    {
     "data": {
      "text/html": [
       "\n",
       "<div id=\"altair-viz-a7a9638fd1754c3e85817ebeb45ca012\"></div>\n",
       "<script type=\"text/javascript\">\n",
       "  var VEGA_DEBUG = (typeof VEGA_DEBUG == \"undefined\") ? {} : VEGA_DEBUG;\n",
       "  (function(spec, embedOpt){\n",
       "    let outputDiv = document.currentScript.previousElementSibling;\n",
       "    if (outputDiv.id !== \"altair-viz-a7a9638fd1754c3e85817ebeb45ca012\") {\n",
       "      outputDiv = document.getElementById(\"altair-viz-a7a9638fd1754c3e85817ebeb45ca012\");\n",
       "    }\n",
       "    const paths = {\n",
       "      \"vega\": \"https://cdn.jsdelivr.net/npm//vega@5?noext\",\n",
       "      \"vega-lib\": \"https://cdn.jsdelivr.net/npm//vega-lib?noext\",\n",
       "      \"vega-lite\": \"https://cdn.jsdelivr.net/npm//vega-lite@4.17.0?noext\",\n",
       "      \"vega-embed\": \"https://cdn.jsdelivr.net/npm//vega-embed@6?noext\",\n",
       "    };\n",
       "\n",
       "    function maybeLoadScript(lib, version) {\n",
       "      var key = `${lib.replace(\"-\", \"\")}_version`;\n",
       "      return (VEGA_DEBUG[key] == version) ?\n",
       "        Promise.resolve(paths[lib]) :\n",
       "        new Promise(function(resolve, reject) {\n",
       "          var s = document.createElement('script');\n",
       "          document.getElementsByTagName(\"head\")[0].appendChild(s);\n",
       "          s.async = true;\n",
       "          s.onload = () => {\n",
       "            VEGA_DEBUG[key] = version;\n",
       "            return resolve(paths[lib]);\n",
       "          };\n",
       "          s.onerror = () => reject(`Error loading script: ${paths[lib]}`);\n",
       "          s.src = paths[lib];\n",
       "        });\n",
       "    }\n",
       "\n",
       "    function showError(err) {\n",
       "      outputDiv.innerHTML = `<div class=\"error\" style=\"color:red;\">${err}</div>`;\n",
       "      throw err;\n",
       "    }\n",
       "\n",
       "    function displayChart(vegaEmbed) {\n",
       "      vegaEmbed(outputDiv, spec, embedOpt)\n",
       "        .catch(err => showError(`Javascript Error: ${err.message}<br>This usually means there's a typo in your chart specification. See the javascript console for the full traceback.`));\n",
       "    }\n",
       "\n",
       "    if(typeof define === \"function\" && define.amd) {\n",
       "      requirejs.config({paths});\n",
       "      require([\"vega-embed\"], displayChart, err => showError(`Error loading script: ${err.message}`));\n",
       "    } else {\n",
       "      maybeLoadScript(\"vega\", \"5\")\n",
       "        .then(() => maybeLoadScript(\"vega-lite\", \"4.17.0\"))\n",
       "        .then(() => maybeLoadScript(\"vega-embed\", \"6\"))\n",
       "        .catch(showError)\n",
       "        .then(() => displayChart(vegaEmbed));\n",
       "    }\n",
       "  })({\"config\": {\"view\": {\"continuousWidth\": 400, \"continuousHeight\": 300}, \"axis\": {\"domainColor\": \"#cbcbcb\", \"grid\": true, \"gridColor\": \"#cbcbcb\", \"gridWidth\": 1, \"labelColor\": \"#474747\", \"labelFont\": \"Nunito Sans\", \"labelFontSize\": 10, \"labelPadding\": 4, \"tickColor\": \"#cbcbcb\", \"tickSize\": 10, \"titleColor\": \"#333\", \"titleFont\": \"Raleway\", \"titleFontSize\": 12, \"titlePadding\": 10}, \"axisBand\": {\"grid\": false}, \"background\": \"white\", \"font\": \"Raleway\", \"header\": {\"labelFont\": \"Nunito Sans\", \"titleFont\": \"Raleway\"}, \"legend\": {\"labelColor\": \"#333\", \"labelFont\": \"Nunito Sans\", \"labelFontSize\": 11, \"labelLimit\": 0, \"padding\": 1, \"symbolSize\": 30, \"symbolType\": \"square\", \"titleColor\": \"#333\", \"titleFont\": \"Raleway\", \"titleFontSize\": 14, \"titlePadding\": 10}, \"title\": {\"anchor\": \"middle\", \"font\": \"Raleway\", \"fontSize\": 18, \"fontWeight\": 300, \"offset\": 20}}, \"data\": {\"name\": \"data-d7f1e4824d6517a55697608303d80ff8\"}, \"mark\": \"bar\", \"encoding\": {\"color\": {\"field\": \"primary_agency_name\", \"legend\": {\"symbolLimit\": 10, \"title\": \"Agency\"}, \"scale\": {\"range\": [\"#2EA8CE\", \"#EB9F3C\", \"#F4D837\", \"#51BF9D\", \"#8CBCCB\", \"#9487C0\"]}, \"type\": \"nominal\"}, \"tooltip\": [{\"field\": \"primary_agency_name\", \"type\": \"nominal\"}, {\"field\": \"avg_funds\", \"type\": \"quantitative\"}], \"x\": {\"field\": \"primary_agency_name\", \"sort\": \"-y\", \"title\": \"Agency\", \"type\": \"nominal\"}, \"y\": {\"field\": \"avg_funds\", \"title\": \"Avg Funds\", \"type\": \"quantitative\"}}, \"height\": 250, \"width\": 400, \"$schema\": \"https://vega.github.io/schema/vega-lite/v4.17.0.json\", \"datasets\": {\"data-d7f1e4824d6517a55697608303d80ff8\": [{\"primary_agency_name\": \"Morongo Basin Transit Authority\", \"avg_funds\": 653946.9495868034}, {\"primary_agency_name\": \"Chino Hills\", \"avg_funds\": 604270.2273082259}, {\"primary_agency_name\": \"Montclair\", \"avg_funds\": 571126.6193896523}, {\"primary_agency_name\": \"San Bernardino\", \"avg_funds\": 559918.7509801652}, {\"primary_agency_name\": \"Chino\", \"avg_funds\": 557069.1898032654}, {\"primary_agency_name\": \"Rialto\", \"avg_funds\": 522756.36291623436}, {\"primary_agency_name\": \"Moreno Valley\", \"avg_funds\": 488623.8467033094}, {\"primary_agency_name\": \"Mountain Area Regional Transit Authority\", \"avg_funds\": 468083.0530546384}, {\"primary_agency_name\": \"Calimesa\", \"avg_funds\": 437254.42058662703}, {\"primary_agency_name\": \"Apple Valley\", \"avg_funds\": 423843.0852229128}, {\"primary_agency_name\": \"Fontana\", \"avg_funds\": 371453.00415362505}, {\"primary_agency_name\": \"Corona\", \"avg_funds\": 350743.6859781203}, {\"primary_agency_name\": \"Lake Elsinore\", \"avg_funds\": 308515.91330838855}, {\"primary_agency_name\": \"Hemet\", \"avg_funds\": 280525.63851971633}, {\"primary_agency_name\": \"Rancho Mirage\", \"avg_funds\": 270017.1019840624}, {\"primary_agency_name\": \"Jurupa Valley\", \"avg_funds\": 269886.84588673693}, {\"primary_agency_name\": \"Menifee\", \"avg_funds\": 262541.0517768502}, {\"primary_agency_name\": \"Twentynine Palms\", \"avg_funds\": 248828.6586658732}, {\"primary_agency_name\": \"Ontario\", \"avg_funds\": 197351.05737502614}, {\"primary_agency_name\": \"Highland\", \"avg_funds\": 197027.6950024629}, {\"primary_agency_name\": \"San Bernardino County\", \"avg_funds\": 196676.16709783592}, {\"primary_agency_name\": \"Big Bear Lake\", \"avg_funds\": 189860.60816785245}, {\"primary_agency_name\": \"Colton\", \"avg_funds\": 186604.34582887287}, {\"primary_agency_name\": \"San Jacinto\", \"avg_funds\": 181833.49648487568}, {\"primary_agency_name\": \"Wildomar\", \"avg_funds\": 175233.64145118618}, {\"primary_agency_name\": \"Grand Terrace\", \"avg_funds\": 161829.8664082957}, {\"primary_agency_name\": \"Blythe\", \"avg_funds\": 148174.91285393786}, {\"primary_agency_name\": \"Eastvale\", \"avg_funds\": 144029.31266349985}, {\"primary_agency_name\": \"Indian Wells\", \"avg_funds\": 142556.54626341086}, {\"primary_agency_name\": \"Banning\", \"avg_funds\": 140199.45684480303}, {\"primary_agency_name\": \"Palm Desert\", \"avg_funds\": 124134.44615944522}, {\"primary_agency_name\": \"Department of Water Resources\", \"avg_funds\": 115489.10998845496}, {\"primary_agency_name\": \"Redlands\", \"avg_funds\": 113738.5699756519}, {\"primary_agency_name\": \"Yucca Valley\", \"avg_funds\": 102076.08434615195}, {\"primary_agency_name\": \"Perris\", \"avg_funds\": 91144.52708414385}, {\"primary_agency_name\": \"San Diego County\", \"avg_funds\": 36799.36467319044}, {\"primary_agency_name\": \"Union Pacific Railroad\", \"avg_funds\": 0.0}, {\"primary_agency_name\": \"U.S. Forest Service, Pacific Southwest Region\", \"avg_funds\": -18092.491783842444}, {\"primary_agency_name\": \"Desert Hot Springs\", \"avg_funds\": -250410.58050869958}, {\"primary_agency_name\": \"Hesperia\", \"avg_funds\": -580719.0601571702}]}}, {\"mode\": \"vega-lite\"});\n",
       "</script>"
      ],
      "text/plain": [
       "alt.Chart(...)"
      ]
     },
     "metadata": {},
     "output_type": "display_data"
    }
   ],
   "source": [
    "#Bar chart Bottom Average Total Requested Funds by Agency\n",
    "avg_funds_bottom = (df>>group_by(_.primary_agency_name)>>summarize(avg_funds=_.adjusted_total_requested.mean())>>arrange(-_.avg_funds)).tail(50)\n",
    "\n",
    "chart5=( _dla_utils.basic_bar_chart_no_save((avg_funds_bottom.tail(40)), 'primary_agency_name','avg_funds', 'primary_agency_name', district))\n",
    "    \n",
    "display(chart5)"
   ]
  },
  {
   "cell_type": "markdown",
   "id": "32fb0fb4-2cd3-453d-8be1-cf99fb52f56f",
   "metadata": {
    "papermill": {
     "duration": 0.031788,
     "end_time": "2022-05-31T18:39:46.191425",
     "exception": false,
     "start_time": "2022-05-31T18:39:46.159637",
     "status": "completed"
    },
    "tags": []
   },
   "source": [
    "### Average Total Requested Funds by Prefix ($2021)"
   ]
  },
  {
   "cell_type": "code",
   "execution_count": 15,
   "id": "d18938e5-6fc5-4e53-87b2-7140df57e5a0",
   "metadata": {
    "execution": {
     "iopub.execute_input": "2022-05-31T18:39:46.254317Z",
     "iopub.status.busy": "2022-05-31T18:39:46.253172Z",
     "iopub.status.idle": "2022-05-31T18:39:46.293214Z",
     "shell.execute_reply": "2022-05-31T18:39:46.292361Z"
    },
    "jupyter": {
     "source_hidden": true
    },
    "papermill": {
     "duration": 0.074067,
     "end_time": "2022-05-31T18:39:46.295289",
     "exception": false,
     "start_time": "2022-05-31T18:39:46.221222",
     "status": "completed"
    },
    "tags": [
     "remove_input"
    ]
   },
   "outputs": [
    {
     "data": {
      "text/html": [
       "\n",
       "<div id=\"altair-viz-1220a66ac24a43b8a8b0e1dc7469dc9e\"></div>\n",
       "<script type=\"text/javascript\">\n",
       "  var VEGA_DEBUG = (typeof VEGA_DEBUG == \"undefined\") ? {} : VEGA_DEBUG;\n",
       "  (function(spec, embedOpt){\n",
       "    let outputDiv = document.currentScript.previousElementSibling;\n",
       "    if (outputDiv.id !== \"altair-viz-1220a66ac24a43b8a8b0e1dc7469dc9e\") {\n",
       "      outputDiv = document.getElementById(\"altair-viz-1220a66ac24a43b8a8b0e1dc7469dc9e\");\n",
       "    }\n",
       "    const paths = {\n",
       "      \"vega\": \"https://cdn.jsdelivr.net/npm//vega@5?noext\",\n",
       "      \"vega-lib\": \"https://cdn.jsdelivr.net/npm//vega-lib?noext\",\n",
       "      \"vega-lite\": \"https://cdn.jsdelivr.net/npm//vega-lite@4.17.0?noext\",\n",
       "      \"vega-embed\": \"https://cdn.jsdelivr.net/npm//vega-embed@6?noext\",\n",
       "    };\n",
       "\n",
       "    function maybeLoadScript(lib, version) {\n",
       "      var key = `${lib.replace(\"-\", \"\")}_version`;\n",
       "      return (VEGA_DEBUG[key] == version) ?\n",
       "        Promise.resolve(paths[lib]) :\n",
       "        new Promise(function(resolve, reject) {\n",
       "          var s = document.createElement('script');\n",
       "          document.getElementsByTagName(\"head\")[0].appendChild(s);\n",
       "          s.async = true;\n",
       "          s.onload = () => {\n",
       "            VEGA_DEBUG[key] = version;\n",
       "            return resolve(paths[lib]);\n",
       "          };\n",
       "          s.onerror = () => reject(`Error loading script: ${paths[lib]}`);\n",
       "          s.src = paths[lib];\n",
       "        });\n",
       "    }\n",
       "\n",
       "    function showError(err) {\n",
       "      outputDiv.innerHTML = `<div class=\"error\" style=\"color:red;\">${err}</div>`;\n",
       "      throw err;\n",
       "    }\n",
       "\n",
       "    function displayChart(vegaEmbed) {\n",
       "      vegaEmbed(outputDiv, spec, embedOpt)\n",
       "        .catch(err => showError(`Javascript Error: ${err.message}<br>This usually means there's a typo in your chart specification. See the javascript console for the full traceback.`));\n",
       "    }\n",
       "\n",
       "    if(typeof define === \"function\" && define.amd) {\n",
       "      requirejs.config({paths});\n",
       "      require([\"vega-embed\"], displayChart, err => showError(`Error loading script: ${err.message}`));\n",
       "    } else {\n",
       "      maybeLoadScript(\"vega\", \"5\")\n",
       "        .then(() => maybeLoadScript(\"vega-lite\", \"4.17.0\"))\n",
       "        .then(() => maybeLoadScript(\"vega-embed\", \"6\"))\n",
       "        .catch(showError)\n",
       "        .then(() => displayChart(vegaEmbed));\n",
       "    }\n",
       "  })({\"config\": {\"view\": {\"continuousWidth\": 400, \"continuousHeight\": 300}, \"axis\": {\"domainColor\": \"#cbcbcb\", \"grid\": true, \"gridColor\": \"#cbcbcb\", \"gridWidth\": 1, \"labelColor\": \"#474747\", \"labelFont\": \"Nunito Sans\", \"labelFontSize\": 10, \"labelPadding\": 4, \"tickColor\": \"#cbcbcb\", \"tickSize\": 10, \"titleColor\": \"#333\", \"titleFont\": \"Raleway\", \"titleFontSize\": 12, \"titlePadding\": 10}, \"axisBand\": {\"grid\": false}, \"background\": \"white\", \"font\": \"Raleway\", \"header\": {\"labelFont\": \"Nunito Sans\", \"titleFont\": \"Raleway\"}, \"legend\": {\"labelColor\": \"#333\", \"labelFont\": \"Nunito Sans\", \"labelFontSize\": 11, \"labelLimit\": 0, \"padding\": 1, \"symbolSize\": 30, \"symbolType\": \"square\", \"titleColor\": \"#333\", \"titleFont\": \"Raleway\", \"titleFontSize\": 14, \"titlePadding\": 10}, \"title\": {\"anchor\": \"middle\", \"font\": \"Raleway\", \"fontSize\": 18, \"fontWeight\": 300, \"offset\": 20}}, \"data\": {\"name\": \"data-ea126ba22b930cae97416c3866d189a0\"}, \"mark\": \"bar\", \"encoding\": {\"color\": {\"field\": \"prefix\", \"legend\": {\"symbolLimit\": 10, \"title\": \"Prefix Code\"}, \"scale\": {\"range\": [\"#2EA8CE\", \"#EB9F3C\", \"#F4D837\", \"#51BF9D\", \"#8CBCCB\", \"#9487C0\"]}, \"type\": \"nominal\"}, \"tooltip\": [{\"field\": \"prefix\", \"type\": \"nominal\"}, {\"field\": \"adjusted_total_requested\", \"type\": \"quantitative\"}], \"x\": {\"field\": \"prefix\", \"sort\": \"-y\", \"title\": \"Prefix Code\", \"type\": \"nominal\"}, \"y\": {\"field\": \"adjusted_total_requested\", \"title\": \"Total Requested\", \"type\": \"quantitative\"}}, \"height\": 250, \"width\": 400, \"$schema\": \"https://vega.github.io/schema/vega-lite/v4.17.0.json\", \"datasets\": {\"data-ea126ba22b930cae97416c3866d189a0\": [{\"prefix\": \"CMSTPL\", \"adjusted_total_requested\": 90796802.97197293}, {\"prefix\": \"CMSTPLN\", \"adjusted_total_requested\": 33607867.05343639}, {\"prefix\": \"HPLU21LN\", \"adjusted_total_requested\": 29074352.39849215}, {\"prefix\": \"STBGSB1L\", \"adjusted_total_requested\": 25897322.055227853}, {\"prefix\": \"STPLUL\", \"adjusted_total_requested\": 13561889.249523666}, {\"prefix\": \"CMHPLU\", \"adjusted_total_requested\": 12077394.121495929}, {\"prefix\": \"HP21IMD\", \"adjusted_total_requested\": 10844882.097064769}, {\"prefix\": \"DEM05UBL\", \"adjusted_total_requested\": 10607925.139241865}, {\"prefix\": \"RPSTPL\", \"adjusted_total_requested\": 8829862.674727451}, {\"prefix\": \"INFRALUL\", \"adjusted_total_requested\": 6570005.59528781}, {\"prefix\": \"DEM10L\", \"adjusted_total_requested\": 6420268.824127749}, {\"prefix\": \"CMLN\", \"adjusted_total_requested\": 5536574.328998622}, {\"prefix\": \"FTACML\", \"adjusted_total_requested\": 5307414.906399822}, {\"prefix\": \"HPLULN\", \"adjusted_total_requested\": 4683808.603350802}, {\"prefix\": \"STPTCIFL\", \"adjusted_total_requested\": 4529790.518168369}, {\"prefix\": \"STPLN\", \"adjusted_total_requested\": 4375569.332418146}, {\"prefix\": \"BRLS\", \"adjusted_total_requested\": 3783253.8628388005}, {\"prefix\": \"PNRSLN\", \"adjusted_total_requested\": 2979249.409154726}, {\"prefix\": \"HP21L\", \"adjusted_total_requested\": 2535199.0916952747}, {\"prefix\": \"PNRSTCI\", \"adjusted_total_requested\": 2470499.9604046545}, {\"prefix\": \"FERPL\", \"adjusted_total_requested\": 2349068.487831288}, {\"prefix\": \"STPLER\", \"adjusted_total_requested\": 2112078.4887331743}, {\"prefix\": \"BR\", \"adjusted_total_requested\": 2097296.9977459735}, {\"prefix\": \"BHLS\", \"adjusted_total_requested\": 2029177.7961167197}, {\"prefix\": \"DEM08S\", \"adjusted_total_requested\": 1948749.1199525143}, {\"prefix\": \"BRLSZD\", \"adjusted_total_requested\": 1666315.8217253052}, {\"prefix\": \"ATPSB1L\", \"adjusted_total_requested\": 1635315.3679387223}, {\"prefix\": \"DEM05U\", \"adjusted_total_requested\": 1312708.907426798}, {\"prefix\": \"HP21STP\", \"adjusted_total_requested\": 1186140.2969529924}, {\"prefix\": \"FTASTPL\", \"adjusted_total_requested\": 1135450.7354828648}]}}, {\"mode\": \"vega-lite\"});\n",
       "</script>"
      ],
      "text/plain": [
       "alt.Chart(...)"
      ]
     },
     "metadata": {},
     "output_type": "display_data"
    }
   ],
   "source": [
    "# Bar chart Average Total Requested Funds by Prefix\n",
    "chart8 = (_dla_utils.basic_bar_chart_no_save((((_dla_utils.calculate_data_all(df, 'adjusted_total_requested', 'prefix', aggfunc=\"mean\"))\n",
    "                          >>arrange(-_.adjusted_total_requested)).head(30)), 'prefix','adjusted_total_requested', 'prefix', district\n",
    "                       ))\n",
    "    \n",
    "display(chart8)\n",
    "    "
   ]
  },
  {
   "cell_type": "markdown",
   "id": "c4218a37-675e-40be-9659-d1297a62dc1b",
   "metadata": {
    "papermill": {
     "duration": 0.030385,
     "end_time": "2022-05-31T18:39:46.355746",
     "exception": false,
     "start_time": "2022-05-31T18:39:46.325361",
     "status": "completed"
    },
    "tags": []
   },
   "source": [
    "\n",
    "## Work Categories"
   ]
  },
  {
   "cell_type": "markdown",
   "id": "188d7213-7e0a-4873-8d28-76b86052a06b",
   "metadata": {
    "papermill": {
     "duration": 0.030581,
     "end_time": "2022-05-31T18:39:46.419304",
     "exception": false,
     "start_time": "2022-05-31T18:39:46.388723",
     "status": "completed"
    },
    "tags": []
   },
   "source": [
    "<hr style=\"height:2px;border-width:0;color:black;background-color:black\">"
   ]
  },
  {
   "cell_type": "markdown",
   "id": "d41b493b-2ab7-4c43-96ee-8e64a7c3e11a",
   "metadata": {
    "papermill": {
     "duration": 0.032043,
     "end_time": "2022-05-31T18:39:46.481312",
     "exception": false,
     "start_time": "2022-05-31T18:39:46.449269",
     "status": "completed"
    },
    "tags": []
   },
   "source": [
    "While the data includes a description column, organizations have the option to manually input the descriptions. Using the organizations descriptions of the obligattion type, we can categorize the obligations in terms of types of work. We used the following type of work categories:\n",
    "* Active Transportation\n",
    "* Transit\n",
    "* Bridge\n",
    "* Street\n",
    "* Freeway\n",
    "* Infrastructure/Resiliency/Emergency Relief \n",
    "* Congestion Relief\n",
    "\n",
    "With these categories, we can determine which organizations have the most obligations in that category and what percent of the category that organization accounts for. "
   ]
  },
  {
   "cell_type": "code",
   "execution_count": 16,
   "id": "50a1cf08-17eb-4b2b-9dc0-671ee7551f2d",
   "metadata": {
    "execution": {
     "iopub.execute_input": "2022-05-31T18:39:46.545159Z",
     "iopub.status.busy": "2022-05-31T18:39:46.544113Z",
     "iopub.status.idle": "2022-05-31T18:39:47.354948Z",
     "shell.execute_reply": "2022-05-31T18:39:47.354134Z"
    },
    "jupyter": {
     "source_hidden": true
    },
    "papermill": {
     "duration": 0.844773,
     "end_time": "2022-05-31T18:39:47.356815",
     "exception": false,
     "start_time": "2022-05-31T18:39:46.512042",
     "status": "completed"
    },
    "tags": [
     "remove_input"
    ]
   },
   "outputs": [
    {
     "data": {
      "application/vnd.jupyter.widget-view+json": {
       "model_id": "8a698c5f64094947b6c0678901ecfea3",
       "version_major": 2,
       "version_minor": 0
      },
      "text/plain": [
       "HTML(value='<h3> Top Agencies using Active Transportation Projects </h3>')"
      ]
     },
     "metadata": {},
     "output_type": "display_data"
    },
    {
     "data": {
      "application/vnd.jupyter.widget-view+json": {
       "model_id": "095201f50b6f465c99fdea45ed3eb90e",
       "version_major": 2,
       "version_minor": 0
      },
      "text/plain": [
       "HTML(value='<style type=\"text/css\">\\n#T_d312e th {\\n  text-align: center;\\n}\\n#T_d312e_row0_col0, #T_d312e_row…"
      ]
     },
     "metadata": {},
     "output_type": "display_data"
    },
    {
     "data": {
      "text/html": [
       "\n",
       "<div id=\"altair-viz-67fb75e6d0b44bfca90362ca4fe495f7\"></div>\n",
       "<script type=\"text/javascript\">\n",
       "  var VEGA_DEBUG = (typeof VEGA_DEBUG == \"undefined\") ? {} : VEGA_DEBUG;\n",
       "  (function(spec, embedOpt){\n",
       "    let outputDiv = document.currentScript.previousElementSibling;\n",
       "    if (outputDiv.id !== \"altair-viz-67fb75e6d0b44bfca90362ca4fe495f7\") {\n",
       "      outputDiv = document.getElementById(\"altair-viz-67fb75e6d0b44bfca90362ca4fe495f7\");\n",
       "    }\n",
       "    const paths = {\n",
       "      \"vega\": \"https://cdn.jsdelivr.net/npm//vega@5?noext\",\n",
       "      \"vega-lib\": \"https://cdn.jsdelivr.net/npm//vega-lib?noext\",\n",
       "      \"vega-lite\": \"https://cdn.jsdelivr.net/npm//vega-lite@4.17.0?noext\",\n",
       "      \"vega-embed\": \"https://cdn.jsdelivr.net/npm//vega-embed@6?noext\",\n",
       "    };\n",
       "\n",
       "    function maybeLoadScript(lib, version) {\n",
       "      var key = `${lib.replace(\"-\", \"\")}_version`;\n",
       "      return (VEGA_DEBUG[key] == version) ?\n",
       "        Promise.resolve(paths[lib]) :\n",
       "        new Promise(function(resolve, reject) {\n",
       "          var s = document.createElement('script');\n",
       "          document.getElementsByTagName(\"head\")[0].appendChild(s);\n",
       "          s.async = true;\n",
       "          s.onload = () => {\n",
       "            VEGA_DEBUG[key] = version;\n",
       "            return resolve(paths[lib]);\n",
       "          };\n",
       "          s.onerror = () => reject(`Error loading script: ${paths[lib]}`);\n",
       "          s.src = paths[lib];\n",
       "        });\n",
       "    }\n",
       "\n",
       "    function showError(err) {\n",
       "      outputDiv.innerHTML = `<div class=\"error\" style=\"color:red;\">${err}</div>`;\n",
       "      throw err;\n",
       "    }\n",
       "\n",
       "    function displayChart(vegaEmbed) {\n",
       "      vegaEmbed(outputDiv, spec, embedOpt)\n",
       "        .catch(err => showError(`Javascript Error: ${err.message}<br>This usually means there's a typo in your chart specification. See the javascript console for the full traceback.`));\n",
       "    }\n",
       "\n",
       "    if(typeof define === \"function\" && define.amd) {\n",
       "      requirejs.config({paths});\n",
       "      require([\"vega-embed\"], displayChart, err => showError(`Error loading script: ${err.message}`));\n",
       "    } else {\n",
       "      maybeLoadScript(\"vega\", \"5\")\n",
       "        .then(() => maybeLoadScript(\"vega-lite\", \"4.17.0\"))\n",
       "        .then(() => maybeLoadScript(\"vega-embed\", \"6\"))\n",
       "        .catch(showError)\n",
       "        .then(() => displayChart(vegaEmbed));\n",
       "    }\n",
       "  })({\"config\": {\"view\": {\"continuousWidth\": 400, \"continuousHeight\": 300}}, \"data\": {\"name\": \"data-8e0fee2279075814e0b66c19309939eb\"}, \"mark\": \"bar\", \"encoding\": {\"color\": {\"field\": \"Categories\", \"scale\": {\"range\": [\"#2EA8CE\", \"#EB9F3C\", \"#F4D837\", \"#51BF9D\", \"#8CBCCB\", \"#9487C0\"]}, \"type\": \"nominal\"}, \"row\": {\"field\": \"Categories\", \"type\": \"nominal\"}, \"tooltip\": [{\"field\": \"Agency\", \"type\": \"nominal\"}, {\"field\": \"Funding Amount\", \"type\": \"quantitative\"}], \"x\": {\"axis\": {\"format\": \"$.2s\", \"title\": \"Obligated Funding ($2021)\"}, \"field\": \"Funding Amount\", \"type\": \"quantitative\"}, \"y\": {\"field\": \"Agency\", \"type\": \"nominal\"}}, \"height\": 70, \"width\": 400, \"$schema\": \"https://vega.github.io/schema/vega-lite/v4.17.0.json\", \"datasets\": {\"data-8e0fee2279075814e0b66c19309939eb\": [{\"Agency\": \"Moreno Valley\", \"Categories\": \"Total Requested\", \"Funding Amount\": 275454.6805482823}, {\"Agency\": \"Redlands\", \"Categories\": \"Total Requested\", \"Funding Amount\": 87603.87703607148}, {\"Agency\": \"Wildomar\", \"Categories\": \"Total Requested\", \"Funding Amount\": 225639.9892247188}, {\"Agency\": \"Highland\", \"Categories\": \"Total Requested\", \"Funding Amount\": 321198.4362395287}, {\"Agency\": \"Riverside County\", \"Categories\": \"Total Requested\", \"Funding Amount\": 1007476.0757992497}, {\"Agency\": \"Moreno Valley\", \"Categories\": \"Fed Requested\", \"Funding Amount\": 262316.57455458597}, {\"Agency\": \"Redlands\", \"Categories\": \"Fed Requested\", \"Funding Amount\": 81756.90828419117}, {\"Agency\": \"Wildomar\", \"Categories\": \"Fed Requested\", \"Funding Amount\": 136169.21036058007}, {\"Agency\": \"Highland\", \"Categories\": \"Fed Requested\", \"Funding Amount\": 214336.23350558864}, {\"Agency\": \"Riverside County\", \"Categories\": \"Fed Requested\", \"Funding Amount\": 723571.7519240183}, {\"Agency\": \"Moreno Valley\", \"Categories\": \"AC Requested\", \"Funding Amount\": 0.0}, {\"Agency\": \"Redlands\", \"Categories\": \"AC Requested\", \"Funding Amount\": 0.0}, {\"Agency\": \"Wildomar\", \"Categories\": \"AC Requested\", \"Funding Amount\": 0.0}, {\"Agency\": \"Highland\", \"Categories\": \"AC Requested\", \"Funding Amount\": 0.0}, {\"Agency\": \"Riverside County\", \"Categories\": \"AC Requested\", \"Funding Amount\": 0.0}]}}, {\"mode\": \"vega-lite\"});\n",
       "</script>"
      ],
      "text/plain": [
       "alt.Chart(...)"
      ]
     },
     "metadata": {},
     "output_type": "display_data"
    },
    {
     "data": {
      "application/vnd.jupyter.widget-view+json": {
       "model_id": "06c3f4312f6d4314a4334e44c2c760e3",
       "version_major": 2,
       "version_minor": 0
      },
      "text/plain": [
       "HTML(value='<h3> Top Agencies using Transit Projects </h3>')"
      ]
     },
     "metadata": {},
     "output_type": "display_data"
    },
    {
     "data": {
      "application/vnd.jupyter.widget-view+json": {
       "model_id": "b7bc6c4cf3ba4cf394daa6aa9431578a",
       "version_major": 2,
       "version_minor": 0
      },
      "text/plain": [
       "HTML(value='<style type=\"text/css\">\\n#T_e66ba th {\\n  text-align: center;\\n}\\n#T_e66ba_row0_col0, #T_e66ba_row…"
      ]
     },
     "metadata": {},
     "output_type": "display_data"
    },
    {
     "data": {
      "text/html": [
       "\n",
       "<div id=\"altair-viz-4344a5fc08864a57bee700638e43cca6\"></div>\n",
       "<script type=\"text/javascript\">\n",
       "  var VEGA_DEBUG = (typeof VEGA_DEBUG == \"undefined\") ? {} : VEGA_DEBUG;\n",
       "  (function(spec, embedOpt){\n",
       "    let outputDiv = document.currentScript.previousElementSibling;\n",
       "    if (outputDiv.id !== \"altair-viz-4344a5fc08864a57bee700638e43cca6\") {\n",
       "      outputDiv = document.getElementById(\"altair-viz-4344a5fc08864a57bee700638e43cca6\");\n",
       "    }\n",
       "    const paths = {\n",
       "      \"vega\": \"https://cdn.jsdelivr.net/npm//vega@5?noext\",\n",
       "      \"vega-lib\": \"https://cdn.jsdelivr.net/npm//vega-lib?noext\",\n",
       "      \"vega-lite\": \"https://cdn.jsdelivr.net/npm//vega-lite@4.17.0?noext\",\n",
       "      \"vega-embed\": \"https://cdn.jsdelivr.net/npm//vega-embed@6?noext\",\n",
       "    };\n",
       "\n",
       "    function maybeLoadScript(lib, version) {\n",
       "      var key = `${lib.replace(\"-\", \"\")}_version`;\n",
       "      return (VEGA_DEBUG[key] == version) ?\n",
       "        Promise.resolve(paths[lib]) :\n",
       "        new Promise(function(resolve, reject) {\n",
       "          var s = document.createElement('script');\n",
       "          document.getElementsByTagName(\"head\")[0].appendChild(s);\n",
       "          s.async = true;\n",
       "          s.onload = () => {\n",
       "            VEGA_DEBUG[key] = version;\n",
       "            return resolve(paths[lib]);\n",
       "          };\n",
       "          s.onerror = () => reject(`Error loading script: ${paths[lib]}`);\n",
       "          s.src = paths[lib];\n",
       "        });\n",
       "    }\n",
       "\n",
       "    function showError(err) {\n",
       "      outputDiv.innerHTML = `<div class=\"error\" style=\"color:red;\">${err}</div>`;\n",
       "      throw err;\n",
       "    }\n",
       "\n",
       "    function displayChart(vegaEmbed) {\n",
       "      vegaEmbed(outputDiv, spec, embedOpt)\n",
       "        .catch(err => showError(`Javascript Error: ${err.message}<br>This usually means there's a typo in your chart specification. See the javascript console for the full traceback.`));\n",
       "    }\n",
       "\n",
       "    if(typeof define === \"function\" && define.amd) {\n",
       "      requirejs.config({paths});\n",
       "      require([\"vega-embed\"], displayChart, err => showError(`Error loading script: ${err.message}`));\n",
       "    } else {\n",
       "      maybeLoadScript(\"vega\", \"5\")\n",
       "        .then(() => maybeLoadScript(\"vega-lite\", \"4.17.0\"))\n",
       "        .then(() => maybeLoadScript(\"vega-embed\", \"6\"))\n",
       "        .catch(showError)\n",
       "        .then(() => displayChart(vegaEmbed));\n",
       "    }\n",
       "  })({\"config\": {\"view\": {\"continuousWidth\": 400, \"continuousHeight\": 300}}, \"data\": {\"name\": \"data-7e3bec59dff231dbbb4ccd9cacd9a87e\"}, \"mark\": \"bar\", \"encoding\": {\"color\": {\"field\": \"Categories\", \"scale\": {\"range\": [\"#2EA8CE\", \"#EB9F3C\", \"#F4D837\", \"#51BF9D\", \"#8CBCCB\", \"#9487C0\"]}, \"type\": \"nominal\"}, \"row\": {\"field\": \"Categories\", \"type\": \"nominal\"}, \"tooltip\": [{\"field\": \"Agency\", \"type\": \"nominal\"}, {\"field\": \"Funding Amount\", \"type\": \"quantitative\"}], \"x\": {\"axis\": {\"format\": \"$.2s\", \"title\": \"Obligated Funding ($2021)\"}, \"field\": \"Funding Amount\", \"type\": \"quantitative\"}, \"y\": {\"field\": \"Agency\", \"type\": \"nominal\"}}, \"height\": 70, \"width\": 400, \"$schema\": \"https://vega.github.io/schema/vega-lite/v4.17.0.json\", \"datasets\": {\"data-7e3bec59dff231dbbb4ccd9cacd9a87e\": [{\"Agency\": \"Riverside\", \"Categories\": \"Total Requested\", \"Funding Amount\": 7090038.296307963}, {\"Agency\": \"Colton\", \"Categories\": \"Total Requested\", \"Funding Amount\": 481134.6628800482}, {\"Agency\": \"Riverside County Transportation Commission\", \"Categories\": \"Total Requested\", \"Funding Amount\": 726839.3092741878}, {\"Agency\": \"Riverside\", \"Categories\": \"Fed Requested\", \"Funding Amount\": 3653605.9685691157}, {\"Agency\": \"Colton\", \"Categories\": \"Fed Requested\", \"Funding Amount\": 425948.56489718176}, {\"Agency\": \"Riverside County Transportation Commission\", \"Categories\": \"Fed Requested\", \"Funding Amount\": 689657.6607652511}, {\"Agency\": \"Riverside\", \"Categories\": \"AC Requested\", \"Funding Amount\": 0.0}, {\"Agency\": \"Colton\", \"Categories\": \"AC Requested\", \"Funding Amount\": 0.0}, {\"Agency\": \"Riverside County Transportation Commission\", \"Categories\": \"AC Requested\", \"Funding Amount\": 0.0}]}}, {\"mode\": \"vega-lite\"});\n",
       "</script>"
      ],
      "text/plain": [
       "alt.Chart(...)"
      ]
     },
     "metadata": {},
     "output_type": "display_data"
    },
    {
     "data": {
      "application/vnd.jupyter.widget-view+json": {
       "model_id": "480074e389d042a5a1817a3519990942",
       "version_major": 2,
       "version_minor": 0
      },
      "text/plain": [
       "HTML(value='<h3> Top Agencies using Bridge Projects </h3>')"
      ]
     },
     "metadata": {},
     "output_type": "display_data"
    },
    {
     "data": {
      "application/vnd.jupyter.widget-view+json": {
       "model_id": "e059808a3cfd49b2965a614d7a8acfb4",
       "version_major": 2,
       "version_minor": 0
      },
      "text/plain": [
       "HTML(value='<style type=\"text/css\">\\n#T_b4ff5 th {\\n  text-align: center;\\n}\\n#T_b4ff5_row0_col0, #T_b4ff5_row…"
      ]
     },
     "metadata": {},
     "output_type": "display_data"
    },
    {
     "data": {
      "text/html": [
       "\n",
       "<div id=\"altair-viz-0e15638b686d4233a460556b9e94a087\"></div>\n",
       "<script type=\"text/javascript\">\n",
       "  var VEGA_DEBUG = (typeof VEGA_DEBUG == \"undefined\") ? {} : VEGA_DEBUG;\n",
       "  (function(spec, embedOpt){\n",
       "    let outputDiv = document.currentScript.previousElementSibling;\n",
       "    if (outputDiv.id !== \"altair-viz-0e15638b686d4233a460556b9e94a087\") {\n",
       "      outputDiv = document.getElementById(\"altair-viz-0e15638b686d4233a460556b9e94a087\");\n",
       "    }\n",
       "    const paths = {\n",
       "      \"vega\": \"https://cdn.jsdelivr.net/npm//vega@5?noext\",\n",
       "      \"vega-lib\": \"https://cdn.jsdelivr.net/npm//vega-lib?noext\",\n",
       "      \"vega-lite\": \"https://cdn.jsdelivr.net/npm//vega-lite@4.17.0?noext\",\n",
       "      \"vega-embed\": \"https://cdn.jsdelivr.net/npm//vega-embed@6?noext\",\n",
       "    };\n",
       "\n",
       "    function maybeLoadScript(lib, version) {\n",
       "      var key = `${lib.replace(\"-\", \"\")}_version`;\n",
       "      return (VEGA_DEBUG[key] == version) ?\n",
       "        Promise.resolve(paths[lib]) :\n",
       "        new Promise(function(resolve, reject) {\n",
       "          var s = document.createElement('script');\n",
       "          document.getElementsByTagName(\"head\")[0].appendChild(s);\n",
       "          s.async = true;\n",
       "          s.onload = () => {\n",
       "            VEGA_DEBUG[key] = version;\n",
       "            return resolve(paths[lib]);\n",
       "          };\n",
       "          s.onerror = () => reject(`Error loading script: ${paths[lib]}`);\n",
       "          s.src = paths[lib];\n",
       "        });\n",
       "    }\n",
       "\n",
       "    function showError(err) {\n",
       "      outputDiv.innerHTML = `<div class=\"error\" style=\"color:red;\">${err}</div>`;\n",
       "      throw err;\n",
       "    }\n",
       "\n",
       "    function displayChart(vegaEmbed) {\n",
       "      vegaEmbed(outputDiv, spec, embedOpt)\n",
       "        .catch(err => showError(`Javascript Error: ${err.message}<br>This usually means there's a typo in your chart specification. See the javascript console for the full traceback.`));\n",
       "    }\n",
       "\n",
       "    if(typeof define === \"function\" && define.amd) {\n",
       "      requirejs.config({paths});\n",
       "      require([\"vega-embed\"], displayChart, err => showError(`Error loading script: ${err.message}`));\n",
       "    } else {\n",
       "      maybeLoadScript(\"vega\", \"5\")\n",
       "        .then(() => maybeLoadScript(\"vega-lite\", \"4.17.0\"))\n",
       "        .then(() => maybeLoadScript(\"vega-embed\", \"6\"))\n",
       "        .catch(showError)\n",
       "        .then(() => displayChart(vegaEmbed));\n",
       "    }\n",
       "  })({\"config\": {\"view\": {\"continuousWidth\": 400, \"continuousHeight\": 300}}, \"data\": {\"name\": \"data-5e877afcde287aa05c9cbcb8b9c42743\"}, \"mark\": \"bar\", \"encoding\": {\"color\": {\"field\": \"Categories\", \"scale\": {\"range\": [\"#2EA8CE\", \"#EB9F3C\", \"#F4D837\", \"#51BF9D\", \"#8CBCCB\", \"#9487C0\"]}, \"type\": \"nominal\"}, \"row\": {\"field\": \"Categories\", \"type\": \"nominal\"}, \"tooltip\": [{\"field\": \"Agency\", \"type\": \"nominal\"}, {\"field\": \"Funding Amount\", \"type\": \"quantitative\"}], \"x\": {\"axis\": {\"format\": \"$.2s\", \"title\": \"Obligated Funding ($2021)\"}, \"field\": \"Funding Amount\", \"type\": \"quantitative\"}, \"y\": {\"field\": \"Agency\", \"type\": \"nominal\"}}, \"height\": 70, \"width\": 400, \"$schema\": \"https://vega.github.io/schema/vega-lite/v4.17.0.json\", \"datasets\": {\"data-5e877afcde287aa05c9cbcb8b9c42743\": [{\"Agency\": \"San Bernardino County\", \"Categories\": \"Total Requested\", \"Funding Amount\": 477868.51141411334}, {\"Agency\": \"Riverside County\", \"Categories\": \"Total Requested\", \"Funding Amount\": 2890846.26839163}, {\"Agency\": \"Palm Springs\", \"Categories\": \"Total Requested\", \"Funding Amount\": 1985197.368356461}, {\"Agency\": \"Highland\", \"Categories\": \"Total Requested\", \"Funding Amount\": 67962.13556776676}, {\"Agency\": \"Ontario\", \"Categories\": \"Total Requested\", \"Funding Amount\": 124545.8878162681}, {\"Agency\": \"San Bernardino County\", \"Categories\": \"Fed Requested\", \"Funding Amount\": 292158.6182252485}, {\"Agency\": \"Riverside County\", \"Categories\": \"Fed Requested\", \"Funding Amount\": 982840.5086778846}, {\"Agency\": \"Palm Springs\", \"Categories\": \"Fed Requested\", \"Funding Amount\": 429323.7946090978}, {\"Agency\": \"Highland\", \"Categories\": \"Fed Requested\", \"Funding Amount\": 2700478.563750399}, {\"Agency\": \"Ontario\", \"Categories\": \"Fed Requested\", \"Funding Amount\": 110169.11997965454}, {\"Agency\": \"San Bernardino County\", \"Categories\": \"AC Requested\", \"Funding Amount\": 117056.34901136793}, {\"Agency\": \"Riverside County\", \"Categories\": \"AC Requested\", \"Funding Amount\": 1018054.9918408679}, {\"Agency\": \"Palm Springs\", \"Categories\": \"AC Requested\", \"Funding Amount\": 1132458.5141129338}, {\"Agency\": \"Highland\", \"Categories\": \"AC Requested\", \"Funding Amount\": -599246.3186869291}, {\"Agency\": \"Ontario\", \"Categories\": \"AC Requested\", \"Funding Amount\": 0.0}]}}, {\"mode\": \"vega-lite\"});\n",
       "</script>"
      ],
      "text/plain": [
       "alt.Chart(...)"
      ]
     },
     "metadata": {},
     "output_type": "display_data"
    },
    {
     "data": {
      "application/vnd.jupyter.widget-view+json": {
       "model_id": "0385348e1686476ca3b1de0d8ce5c186",
       "version_major": 2,
       "version_minor": 0
      },
      "text/plain": [
       "HTML(value='<h3> Top Agencies using Street Projects </h3>')"
      ]
     },
     "metadata": {},
     "output_type": "display_data"
    },
    {
     "data": {
      "application/vnd.jupyter.widget-view+json": {
       "model_id": "359e72ae7dfa404eb6c5b3ebe8a27230",
       "version_major": 2,
       "version_minor": 0
      },
      "text/plain": [
       "HTML(value='<style type=\"text/css\">\\n#T_263e8 th {\\n  text-align: center;\\n}\\n#T_263e8_row0_col0, #T_263e8_row…"
      ]
     },
     "metadata": {},
     "output_type": "display_data"
    },
    {
     "data": {
      "text/html": [
       "\n",
       "<div id=\"altair-viz-7a74badb0c2844a9a617da67ac8a8972\"></div>\n",
       "<script type=\"text/javascript\">\n",
       "  var VEGA_DEBUG = (typeof VEGA_DEBUG == \"undefined\") ? {} : VEGA_DEBUG;\n",
       "  (function(spec, embedOpt){\n",
       "    let outputDiv = document.currentScript.previousElementSibling;\n",
       "    if (outputDiv.id !== \"altair-viz-7a74badb0c2844a9a617da67ac8a8972\") {\n",
       "      outputDiv = document.getElementById(\"altair-viz-7a74badb0c2844a9a617da67ac8a8972\");\n",
       "    }\n",
       "    const paths = {\n",
       "      \"vega\": \"https://cdn.jsdelivr.net/npm//vega@5?noext\",\n",
       "      \"vega-lib\": \"https://cdn.jsdelivr.net/npm//vega-lib?noext\",\n",
       "      \"vega-lite\": \"https://cdn.jsdelivr.net/npm//vega-lite@4.17.0?noext\",\n",
       "      \"vega-embed\": \"https://cdn.jsdelivr.net/npm//vega-embed@6?noext\",\n",
       "    };\n",
       "\n",
       "    function maybeLoadScript(lib, version) {\n",
       "      var key = `${lib.replace(\"-\", \"\")}_version`;\n",
       "      return (VEGA_DEBUG[key] == version) ?\n",
       "        Promise.resolve(paths[lib]) :\n",
       "        new Promise(function(resolve, reject) {\n",
       "          var s = document.createElement('script');\n",
       "          document.getElementsByTagName(\"head\")[0].appendChild(s);\n",
       "          s.async = true;\n",
       "          s.onload = () => {\n",
       "            VEGA_DEBUG[key] = version;\n",
       "            return resolve(paths[lib]);\n",
       "          };\n",
       "          s.onerror = () => reject(`Error loading script: ${paths[lib]}`);\n",
       "          s.src = paths[lib];\n",
       "        });\n",
       "    }\n",
       "\n",
       "    function showError(err) {\n",
       "      outputDiv.innerHTML = `<div class=\"error\" style=\"color:red;\">${err}</div>`;\n",
       "      throw err;\n",
       "    }\n",
       "\n",
       "    function displayChart(vegaEmbed) {\n",
       "      vegaEmbed(outputDiv, spec, embedOpt)\n",
       "        .catch(err => showError(`Javascript Error: ${err.message}<br>This usually means there's a typo in your chart specification. See the javascript console for the full traceback.`));\n",
       "    }\n",
       "\n",
       "    if(typeof define === \"function\" && define.amd) {\n",
       "      requirejs.config({paths});\n",
       "      require([\"vega-embed\"], displayChart, err => showError(`Error loading script: ${err.message}`));\n",
       "    } else {\n",
       "      maybeLoadScript(\"vega\", \"5\")\n",
       "        .then(() => maybeLoadScript(\"vega-lite\", \"4.17.0\"))\n",
       "        .then(() => maybeLoadScript(\"vega-embed\", \"6\"))\n",
       "        .catch(showError)\n",
       "        .then(() => displayChart(vegaEmbed));\n",
       "    }\n",
       "  })({\"config\": {\"view\": {\"continuousWidth\": 400, \"continuousHeight\": 300}}, \"data\": {\"name\": \"data-27e52473847a8604c4949d0a891e8ec6\"}, \"mark\": \"bar\", \"encoding\": {\"color\": {\"field\": \"Categories\", \"scale\": {\"range\": [\"#2EA8CE\", \"#EB9F3C\", \"#F4D837\", \"#51BF9D\", \"#8CBCCB\", \"#9487C0\"]}, \"type\": \"nominal\"}, \"row\": {\"field\": \"Categories\", \"type\": \"nominal\"}, \"tooltip\": [{\"field\": \"Agency\", \"type\": \"nominal\"}, {\"field\": \"Funding Amount\", \"type\": \"quantitative\"}], \"x\": {\"axis\": {\"format\": \"$.2s\", \"title\": \"Obligated Funding ($2021)\"}, \"field\": \"Funding Amount\", \"type\": \"quantitative\"}, \"y\": {\"field\": \"Agency\", \"type\": \"nominal\"}}, \"height\": 70, \"width\": 400, \"$schema\": \"https://vega.github.io/schema/vega-lite/v4.17.0.json\", \"datasets\": {\"data-27e52473847a8604c4949d0a891e8ec6\": [{\"Agency\": \"Riverside County\", \"Categories\": \"Total Requested\", \"Funding Amount\": 699918.77594587}, {\"Agency\": \"San Bernardino County\", \"Categories\": \"Total Requested\", \"Funding Amount\": 235974.79923662925}, {\"Agency\": \"Indio\", \"Categories\": \"Total Requested\", \"Funding Amount\": 1078763.359412526}, {\"Agency\": \"Moreno Valley\", \"Categories\": \"Total Requested\", \"Funding Amount\": 647522.318709792}, {\"Agency\": \"Palm Springs\", \"Categories\": \"Total Requested\", \"Funding Amount\": 548865.0362650896}, {\"Agency\": \"Riverside County\", \"Categories\": \"Fed Requested\", \"Funding Amount\": 451581.85246675304}, {\"Agency\": \"San Bernardino County\", \"Categories\": \"Fed Requested\", \"Funding Amount\": 238562.4467887993}, {\"Agency\": \"Indio\", \"Categories\": \"Fed Requested\", \"Funding Amount\": 552644.0122207343}, {\"Agency\": \"Moreno Valley\", \"Categories\": \"Fed Requested\", \"Funding Amount\": 190450.49687019706}, {\"Agency\": \"Palm Springs\", \"Categories\": \"Fed Requested\", \"Funding Amount\": 432395.9518152539}, {\"Agency\": \"Riverside County\", \"Categories\": \"AC Requested\", \"Funding Amount\": 0.0}, {\"Agency\": \"San Bernardino County\", \"Categories\": \"AC Requested\", \"Funding Amount\": -16144.210758338997}, {\"Agency\": \"Indio\", \"Categories\": \"AC Requested\", \"Funding Amount\": 2081.8074996891482}, {\"Agency\": \"Moreno Valley\", \"Categories\": \"AC Requested\", \"Funding Amount\": 0.0}, {\"Agency\": \"Palm Springs\", \"Categories\": \"AC Requested\", \"Funding Amount\": 65.23764053685576}]}}, {\"mode\": \"vega-lite\"});\n",
       "</script>"
      ],
      "text/plain": [
       "alt.Chart(...)"
      ]
     },
     "metadata": {},
     "output_type": "display_data"
    },
    {
     "data": {
      "application/vnd.jupyter.widget-view+json": {
       "model_id": "2b76477e8fa94e77a64b2e786e8507e2",
       "version_major": 2,
       "version_minor": 0
      },
      "text/plain": [
       "HTML(value='<h3> Top Agencies using Freeway Projects </h3>')"
      ]
     },
     "metadata": {},
     "output_type": "display_data"
    },
    {
     "data": {
      "application/vnd.jupyter.widget-view+json": {
       "model_id": "ec2a684eb2b0468fbb72dbc6ed520843",
       "version_major": 2,
       "version_minor": 0
      },
      "text/plain": [
       "HTML(value='<style type=\"text/css\">\\n#T_e0fd4 th {\\n  text-align: center;\\n}\\n#T_e0fd4_row0_col0, #T_e0fd4_row…"
      ]
     },
     "metadata": {},
     "output_type": "display_data"
    },
    {
     "data": {
      "text/html": [
       "\n",
       "<div id=\"altair-viz-37002a2dbed642b989da2524193c465f\"></div>\n",
       "<script type=\"text/javascript\">\n",
       "  var VEGA_DEBUG = (typeof VEGA_DEBUG == \"undefined\") ? {} : VEGA_DEBUG;\n",
       "  (function(spec, embedOpt){\n",
       "    let outputDiv = document.currentScript.previousElementSibling;\n",
       "    if (outputDiv.id !== \"altair-viz-37002a2dbed642b989da2524193c465f\") {\n",
       "      outputDiv = document.getElementById(\"altair-viz-37002a2dbed642b989da2524193c465f\");\n",
       "    }\n",
       "    const paths = {\n",
       "      \"vega\": \"https://cdn.jsdelivr.net/npm//vega@5?noext\",\n",
       "      \"vega-lib\": \"https://cdn.jsdelivr.net/npm//vega-lib?noext\",\n",
       "      \"vega-lite\": \"https://cdn.jsdelivr.net/npm//vega-lite@4.17.0?noext\",\n",
       "      \"vega-embed\": \"https://cdn.jsdelivr.net/npm//vega-embed@6?noext\",\n",
       "    };\n",
       "\n",
       "    function maybeLoadScript(lib, version) {\n",
       "      var key = `${lib.replace(\"-\", \"\")}_version`;\n",
       "      return (VEGA_DEBUG[key] == version) ?\n",
       "        Promise.resolve(paths[lib]) :\n",
       "        new Promise(function(resolve, reject) {\n",
       "          var s = document.createElement('script');\n",
       "          document.getElementsByTagName(\"head\")[0].appendChild(s);\n",
       "          s.async = true;\n",
       "          s.onload = () => {\n",
       "            VEGA_DEBUG[key] = version;\n",
       "            return resolve(paths[lib]);\n",
       "          };\n",
       "          s.onerror = () => reject(`Error loading script: ${paths[lib]}`);\n",
       "          s.src = paths[lib];\n",
       "        });\n",
       "    }\n",
       "\n",
       "    function showError(err) {\n",
       "      outputDiv.innerHTML = `<div class=\"error\" style=\"color:red;\">${err}</div>`;\n",
       "      throw err;\n",
       "    }\n",
       "\n",
       "    function displayChart(vegaEmbed) {\n",
       "      vegaEmbed(outputDiv, spec, embedOpt)\n",
       "        .catch(err => showError(`Javascript Error: ${err.message}<br>This usually means there's a typo in your chart specification. See the javascript console for the full traceback.`));\n",
       "    }\n",
       "\n",
       "    if(typeof define === \"function\" && define.amd) {\n",
       "      requirejs.config({paths});\n",
       "      require([\"vega-embed\"], displayChart, err => showError(`Error loading script: ${err.message}`));\n",
       "    } else {\n",
       "      maybeLoadScript(\"vega\", \"5\")\n",
       "        .then(() => maybeLoadScript(\"vega-lite\", \"4.17.0\"))\n",
       "        .then(() => maybeLoadScript(\"vega-embed\", \"6\"))\n",
       "        .catch(showError)\n",
       "        .then(() => displayChart(vegaEmbed));\n",
       "    }\n",
       "  })({\"config\": {\"view\": {\"continuousWidth\": 400, \"continuousHeight\": 300}}, \"data\": {\"name\": \"data-1218150c1be1dfe9d677f38b59fa20fd\"}, \"mark\": \"bar\", \"encoding\": {\"color\": {\"field\": \"Categories\", \"scale\": {\"range\": [\"#2EA8CE\", \"#EB9F3C\", \"#F4D837\", \"#51BF9D\", \"#8CBCCB\", \"#9487C0\"]}, \"type\": \"nominal\"}, \"row\": {\"field\": \"Categories\", \"type\": \"nominal\"}, \"tooltip\": [{\"field\": \"Agency\", \"type\": \"nominal\"}, {\"field\": \"Funding Amount\", \"type\": \"quantitative\"}], \"x\": {\"axis\": {\"format\": \"$.2s\", \"title\": \"Obligated Funding ($2021)\"}, \"field\": \"Funding Amount\", \"type\": \"quantitative\"}, \"y\": {\"field\": \"Agency\", \"type\": \"nominal\"}}, \"height\": 70, \"width\": 400, \"$schema\": \"https://vega.github.io/schema/vega-lite/v4.17.0.json\", \"datasets\": {\"data-1218150c1be1dfe9d677f38b59fa20fd\": [{\"Agency\": \"San Bernardino Associated Governments\", \"Categories\": \"Total Requested\", \"Funding Amount\": 18288834.11649927}, {\"Agency\": \"Riverside County Transportation Commission\", \"Categories\": \"Total Requested\", \"Funding Amount\": 36056000.28308679}, {\"Agency\": \"Caltrans\", \"Categories\": \"Total Requested\", \"Funding Amount\": 1408992.9688377879}, {\"Agency\": \"Riverside County\", \"Categories\": \"Total Requested\", \"Funding Amount\": 1065496.5143352305}, {\"Agency\": \"San Bernardino Associated Governments\", \"Categories\": \"Fed Requested\", \"Funding Amount\": 12219928.220537668}, {\"Agency\": \"Riverside County Transportation Commission\", \"Categories\": \"Fed Requested\", \"Funding Amount\": 11928469.815483997}, {\"Agency\": \"Caltrans\", \"Categories\": \"Fed Requested\", \"Funding Amount\": 1247381.1167391487}, {\"Agency\": \"Riverside County\", \"Categories\": \"Fed Requested\", \"Funding Amount\": 0.0}, {\"Agency\": \"San Bernardino Associated Governments\", \"Categories\": \"AC Requested\", \"Funding Amount\": 856633.5199718946}, {\"Agency\": \"Riverside County Transportation Commission\", \"Categories\": \"AC Requested\", \"Funding Amount\": 313456.4621296981}, {\"Agency\": \"Caltrans\", \"Categories\": \"AC Requested\", \"Funding Amount\": 0.0}, {\"Agency\": \"Riverside County\", \"Categories\": \"AC Requested\", \"Funding Amount\": 0.0}]}}, {\"mode\": \"vega-lite\"});\n",
       "</script>"
      ],
      "text/plain": [
       "alt.Chart(...)"
      ]
     },
     "metadata": {},
     "output_type": "display_data"
    },
    {
     "data": {
      "application/vnd.jupyter.widget-view+json": {
       "model_id": "92d597708f1a4215a3e5501c831efd0a",
       "version_major": 2,
       "version_minor": 0
      },
      "text/plain": [
       "HTML(value='<h3> Top Agencies using Infrastructure & Emergency Relief Projects </h3>')"
      ]
     },
     "metadata": {},
     "output_type": "display_data"
    },
    {
     "data": {
      "application/vnd.jupyter.widget-view+json": {
       "model_id": "5b1c874b38a943b899ac3b2a7676ddda",
       "version_major": 2,
       "version_minor": 0
      },
      "text/plain": [
       "HTML(value='<style type=\"text/css\">\\n#T_cbeb7 th {\\n  text-align: center;\\n}\\n#T_cbeb7_row0_col0, #T_cbeb7_row…"
      ]
     },
     "metadata": {},
     "output_type": "display_data"
    },
    {
     "data": {
      "text/html": [
       "\n",
       "<div id=\"altair-viz-df08160993674291b8799c12f9608598\"></div>\n",
       "<script type=\"text/javascript\">\n",
       "  var VEGA_DEBUG = (typeof VEGA_DEBUG == \"undefined\") ? {} : VEGA_DEBUG;\n",
       "  (function(spec, embedOpt){\n",
       "    let outputDiv = document.currentScript.previousElementSibling;\n",
       "    if (outputDiv.id !== \"altair-viz-df08160993674291b8799c12f9608598\") {\n",
       "      outputDiv = document.getElementById(\"altair-viz-df08160993674291b8799c12f9608598\");\n",
       "    }\n",
       "    const paths = {\n",
       "      \"vega\": \"https://cdn.jsdelivr.net/npm//vega@5?noext\",\n",
       "      \"vega-lib\": \"https://cdn.jsdelivr.net/npm//vega-lib?noext\",\n",
       "      \"vega-lite\": \"https://cdn.jsdelivr.net/npm//vega-lite@4.17.0?noext\",\n",
       "      \"vega-embed\": \"https://cdn.jsdelivr.net/npm//vega-embed@6?noext\",\n",
       "    };\n",
       "\n",
       "    function maybeLoadScript(lib, version) {\n",
       "      var key = `${lib.replace(\"-\", \"\")}_version`;\n",
       "      return (VEGA_DEBUG[key] == version) ?\n",
       "        Promise.resolve(paths[lib]) :\n",
       "        new Promise(function(resolve, reject) {\n",
       "          var s = document.createElement('script');\n",
       "          document.getElementsByTagName(\"head\")[0].appendChild(s);\n",
       "          s.async = true;\n",
       "          s.onload = () => {\n",
       "            VEGA_DEBUG[key] = version;\n",
       "            return resolve(paths[lib]);\n",
       "          };\n",
       "          s.onerror = () => reject(`Error loading script: ${paths[lib]}`);\n",
       "          s.src = paths[lib];\n",
       "        });\n",
       "    }\n",
       "\n",
       "    function showError(err) {\n",
       "      outputDiv.innerHTML = `<div class=\"error\" style=\"color:red;\">${err}</div>`;\n",
       "      throw err;\n",
       "    }\n",
       "\n",
       "    function displayChart(vegaEmbed) {\n",
       "      vegaEmbed(outputDiv, spec, embedOpt)\n",
       "        .catch(err => showError(`Javascript Error: ${err.message}<br>This usually means there's a typo in your chart specification. See the javascript console for the full traceback.`));\n",
       "    }\n",
       "\n",
       "    if(typeof define === \"function\" && define.amd) {\n",
       "      requirejs.config({paths});\n",
       "      require([\"vega-embed\"], displayChart, err => showError(`Error loading script: ${err.message}`));\n",
       "    } else {\n",
       "      maybeLoadScript(\"vega\", \"5\")\n",
       "        .then(() => maybeLoadScript(\"vega-lite\", \"4.17.0\"))\n",
       "        .then(() => maybeLoadScript(\"vega-embed\", \"6\"))\n",
       "        .catch(showError)\n",
       "        .then(() => displayChart(vegaEmbed));\n",
       "    }\n",
       "  })({\"config\": {\"view\": {\"continuousWidth\": 400, \"continuousHeight\": 300}}, \"data\": {\"name\": \"data-e2cf8a36d6d313e6eaae8a54e0a41aba\"}, \"mark\": \"bar\", \"encoding\": {\"color\": {\"field\": \"Categories\", \"scale\": {\"range\": [\"#2EA8CE\", \"#EB9F3C\", \"#F4D837\", \"#51BF9D\", \"#8CBCCB\", \"#9487C0\"]}, \"type\": \"nominal\"}, \"row\": {\"field\": \"Categories\", \"type\": \"nominal\"}, \"tooltip\": [{\"field\": \"Agency\", \"type\": \"nominal\"}, {\"field\": \"Funding Amount\", \"type\": \"quantitative\"}], \"x\": {\"axis\": {\"format\": \"$.2s\", \"title\": \"Obligated Funding ($2021)\"}, \"field\": \"Funding Amount\", \"type\": \"quantitative\"}, \"y\": {\"field\": \"Agency\", \"type\": \"nominal\"}}, \"height\": 70, \"width\": 400, \"$schema\": \"https://vega.github.io/schema/vega-lite/v4.17.0.json\", \"datasets\": {\"data-e2cf8a36d6d313e6eaae8a54e0a41aba\": [{\"Agency\": \"San Bernardino County\", \"Categories\": \"Total Requested\", \"Funding Amount\": 284652.9145100096}, {\"Agency\": \"Riverside County\", \"Categories\": \"Total Requested\", \"Funding Amount\": 3150715.5379589214}, {\"Agency\": \"San Bernardino Associated Governments\", \"Categories\": \"Total Requested\", \"Funding Amount\": 445433.5352351448}, {\"Agency\": \"Indio\", \"Categories\": \"Total Requested\", \"Funding Amount\": 390056.3943983889}, {\"Agency\": \"Palm Springs\", \"Categories\": \"Total Requested\", \"Funding Amount\": 707327.8953864716}, {\"Agency\": \"San Bernardino County\", \"Categories\": \"Fed Requested\", \"Funding Amount\": 199082.14079540884}, {\"Agency\": \"Riverside County\", \"Categories\": \"Fed Requested\", \"Funding Amount\": 1199642.6454216489}, {\"Agency\": \"San Bernardino Associated Governments\", \"Categories\": \"Fed Requested\", \"Funding Amount\": 1122243.6049878672}, {\"Agency\": \"Indio\", \"Categories\": \"Fed Requested\", \"Funding Amount\": 335335.8879764552}, {\"Agency\": \"Palm Springs\", \"Categories\": \"Fed Requested\", \"Funding Amount\": 342150.87493726163}, {\"Agency\": \"San Bernardino County\", \"Categories\": \"AC Requested\", \"Funding Amount\": 55613.03581782559}, {\"Agency\": \"Riverside County\", \"Categories\": \"AC Requested\", \"Funding Amount\": 368232.65662329266}, {\"Agency\": \"San Bernardino Associated Governments\", \"Categories\": \"AC Requested\", \"Funding Amount\": -286068.8897155344}, {\"Agency\": \"Indio\", \"Categories\": \"AC Requested\", \"Funding Amount\": 1638.5513140734147}, {\"Agency\": \"Palm Springs\", \"Categories\": \"AC Requested\", \"Funding Amount\": 203197.1272814128}]}}, {\"mode\": \"vega-lite\"});\n",
       "</script>"
      ],
      "text/plain": [
       "alt.Chart(...)"
      ]
     },
     "metadata": {},
     "output_type": "display_data"
    },
    {
     "data": {
      "application/vnd.jupyter.widget-view+json": {
       "model_id": "a6eafdf849be444db36b0467ebb9fa92",
       "version_major": 2,
       "version_minor": 0
      },
      "text/plain": [
       "HTML(value='<h3> Top Agencies using Congestion Relief Projects </h3>')"
      ]
     },
     "metadata": {},
     "output_type": "display_data"
    },
    {
     "data": {
      "application/vnd.jupyter.widget-view+json": {
       "model_id": "fe9d7bd961c149f68e451486b2ff5614",
       "version_major": 2,
       "version_minor": 0
      },
      "text/plain": [
       "HTML(value='<style type=\"text/css\">\\n#T_68f70 th {\\n  text-align: center;\\n}\\n#T_68f70_row0_col0, #T_68f70_row…"
      ]
     },
     "metadata": {},
     "output_type": "display_data"
    },
    {
     "data": {
      "text/html": [
       "\n",
       "<div id=\"altair-viz-86c265da0d88420491d90b89f4cafdee\"></div>\n",
       "<script type=\"text/javascript\">\n",
       "  var VEGA_DEBUG = (typeof VEGA_DEBUG == \"undefined\") ? {} : VEGA_DEBUG;\n",
       "  (function(spec, embedOpt){\n",
       "    let outputDiv = document.currentScript.previousElementSibling;\n",
       "    if (outputDiv.id !== \"altair-viz-86c265da0d88420491d90b89f4cafdee\") {\n",
       "      outputDiv = document.getElementById(\"altair-viz-86c265da0d88420491d90b89f4cafdee\");\n",
       "    }\n",
       "    const paths = {\n",
       "      \"vega\": \"https://cdn.jsdelivr.net/npm//vega@5?noext\",\n",
       "      \"vega-lib\": \"https://cdn.jsdelivr.net/npm//vega-lib?noext\",\n",
       "      \"vega-lite\": \"https://cdn.jsdelivr.net/npm//vega-lite@4.17.0?noext\",\n",
       "      \"vega-embed\": \"https://cdn.jsdelivr.net/npm//vega-embed@6?noext\",\n",
       "    };\n",
       "\n",
       "    function maybeLoadScript(lib, version) {\n",
       "      var key = `${lib.replace(\"-\", \"\")}_version`;\n",
       "      return (VEGA_DEBUG[key] == version) ?\n",
       "        Promise.resolve(paths[lib]) :\n",
       "        new Promise(function(resolve, reject) {\n",
       "          var s = document.createElement('script');\n",
       "          document.getElementsByTagName(\"head\")[0].appendChild(s);\n",
       "          s.async = true;\n",
       "          s.onload = () => {\n",
       "            VEGA_DEBUG[key] = version;\n",
       "            return resolve(paths[lib]);\n",
       "          };\n",
       "          s.onerror = () => reject(`Error loading script: ${paths[lib]}`);\n",
       "          s.src = paths[lib];\n",
       "        });\n",
       "    }\n",
       "\n",
       "    function showError(err) {\n",
       "      outputDiv.innerHTML = `<div class=\"error\" style=\"color:red;\">${err}</div>`;\n",
       "      throw err;\n",
       "    }\n",
       "\n",
       "    function displayChart(vegaEmbed) {\n",
       "      vegaEmbed(outputDiv, spec, embedOpt)\n",
       "        .catch(err => showError(`Javascript Error: ${err.message}<br>This usually means there's a typo in your chart specification. See the javascript console for the full traceback.`));\n",
       "    }\n",
       "\n",
       "    if(typeof define === \"function\" && define.amd) {\n",
       "      requirejs.config({paths});\n",
       "      require([\"vega-embed\"], displayChart, err => showError(`Error loading script: ${err.message}`));\n",
       "    } else {\n",
       "      maybeLoadScript(\"vega\", \"5\")\n",
       "        .then(() => maybeLoadScript(\"vega-lite\", \"4.17.0\"))\n",
       "        .then(() => maybeLoadScript(\"vega-embed\", \"6\"))\n",
       "        .catch(showError)\n",
       "        .then(() => displayChart(vegaEmbed));\n",
       "    }\n",
       "  })({\"config\": {\"view\": {\"continuousWidth\": 400, \"continuousHeight\": 300}}, \"data\": {\"name\": \"data-c8cdb002258c29556dde1f4b617e2ebb\"}, \"mark\": \"bar\", \"encoding\": {\"color\": {\"field\": \"Categories\", \"scale\": {\"range\": [\"#2EA8CE\", \"#EB9F3C\", \"#F4D837\", \"#51BF9D\", \"#8CBCCB\", \"#9487C0\"]}, \"type\": \"nominal\"}, \"row\": {\"field\": \"Categories\", \"type\": \"nominal\"}, \"tooltip\": [{\"field\": \"Agency\", \"type\": \"nominal\"}, {\"field\": \"Funding Amount\", \"type\": \"quantitative\"}], \"x\": {\"axis\": {\"format\": \"$.2s\", \"title\": \"Obligated Funding ($2021)\"}, \"field\": \"Funding Amount\", \"type\": \"quantitative\"}, \"y\": {\"field\": \"Agency\", \"type\": \"nominal\"}}, \"height\": 70, \"width\": 400, \"$schema\": \"https://vega.github.io/schema/vega-lite/v4.17.0.json\", \"datasets\": {\"data-c8cdb002258c29556dde1f4b617e2ebb\": [{\"Agency\": \"San Bernardino Associated Governments\", \"Categories\": \"Total Requested\", \"Funding Amount\": 504654.6782345673}, {\"Agency\": \"San Bernardino County Transportation Authority\", \"Categories\": \"Total Requested\", \"Funding Amount\": 1099699.3521928808}, {\"Agency\": \"Riverside County Transportation Commission\", \"Categories\": \"Total Requested\", \"Funding Amount\": 2762861.384502613}, {\"Agency\": \"San Bernardino Associated Governments\", \"Categories\": \"Fed Requested\", \"Funding Amount\": 495824.3661986454}, {\"Agency\": \"San Bernardino County Transportation Authority\", \"Categories\": \"Fed Requested\", \"Funding Amount\": 1081647.217389469}, {\"Agency\": \"Riverside County Transportation Commission\", \"Categories\": \"Fed Requested\", \"Funding Amount\": -49915.02529772034}, {\"Agency\": \"San Bernardino Associated Governments\", \"Categories\": \"AC Requested\", \"Funding Amount\": 0.0}, {\"Agency\": \"San Bernardino County Transportation Authority\", \"Categories\": \"AC Requested\", \"Funding Amount\": 0.0}, {\"Agency\": \"Riverside County Transportation Commission\", \"Categories\": \"AC Requested\", \"Funding Amount\": 0.0}]}}, {\"mode\": \"vega-lite\"});\n",
       "</script>"
      ],
      "text/plain": [
       "alt.Chart(...)"
      ]
     },
     "metadata": {},
     "output_type": "display_data"
    }
   ],
   "source": [
    "# create loop:\n",
    "\n",
    "work_cat = ['active_transp', 'transit', 'bridge', 'street','freeway', 'infra_resiliency_er','congestion_relief']\n",
    "\n",
    "for cat in work_cat:\n",
    "    _dla_utils.project_cat(df, cat, district)"
   ]
  },
  {
   "cell_type": "code",
   "execution_count": null,
   "id": "5a50e751-dd3f-498f-9a28-2edc321b534f",
   "metadata": {
    "jupyter": {
     "source_hidden": true
    },
    "papermill": {
     "duration": 0.03881,
     "end_time": "2022-05-31T18:39:47.447663",
     "exception": false,
     "start_time": "2022-05-31T18:39:47.408853",
     "status": "completed"
    },
    "tags": [
     "remove_input"
    ]
   },
   "outputs": [],
   "source": []
  },
  {
   "cell_type": "code",
   "execution_count": null,
   "id": "746ad86c-3a73-4679-af9c-291559135d5f",
   "metadata": {
    "jupyter": {
     "source_hidden": true
    },
    "papermill": {
     "duration": 0.038851,
     "end_time": "2022-05-31T18:39:47.525437",
     "exception": false,
     "start_time": "2022-05-31T18:39:47.486586",
     "status": "completed"
    },
    "tags": [
     "remove_input"
    ]
   },
   "outputs": [],
   "source": []
  },
  {
   "cell_type": "code",
   "execution_count": null,
   "id": "7e448ea3-e05f-4608-8ce9-7e1d42ff8ecd",
   "metadata": {
    "jupyter": {
     "source_hidden": true
    },
    "papermill": {
     "duration": 0.039742,
     "end_time": "2022-05-31T18:39:47.608351",
     "exception": false,
     "start_time": "2022-05-31T18:39:47.568609",
     "status": "completed"
    },
    "tags": [
     "remove_input"
    ]
   },
   "outputs": [],
   "source": []
  },
  {
   "cell_type": "code",
   "execution_count": null,
   "id": "c7bfc0b4-7f24-40bc-af7b-806641ccd810",
   "metadata": {
    "jupyter": {
     "source_hidden": true
    },
    "papermill": {
     "duration": 0.038139,
     "end_time": "2022-05-31T18:39:47.686421",
     "exception": false,
     "start_time": "2022-05-31T18:39:47.648282",
     "status": "completed"
    },
    "tags": [
     "remove_input"
    ]
   },
   "outputs": [],
   "source": []
  }
 ],
 "metadata": {
  "kernelspec": {
   "display_name": "Python 3 (ipykernel)",
   "language": "python",
   "name": "python3"
  },
  "language_info": {
   "codemirror_mode": {
    "name": "ipython",
    "version": 3
   },
   "file_extension": ".py",
   "mimetype": "text/x-python",
   "name": "python",
   "nbconvert_exporter": "python",
   "pygments_lexer": "ipython3",
   "version": "3.9.12"
  },
  "papermill": {
   "default_parameters": {},
   "duration": 17.076143,
   "end_time": "2022-05-31T18:39:50.065049",
   "environment_variables": {},
   "exception": null,
   "input_path": "dla/e76_obligated_funds/reports/dla_district_report.ipynb",
   "output_path": "portfolio/dla/district_8__district_title_district-8-san-bernardino/0__dla_district_report__district_8__district_title_district-8-san-bernardino.ipynb",
   "parameters": {
    "district": 8,
    "district_title": "District 8 - San Bernardino"
   },
   "start_time": "2022-05-31T18:39:32.988906",
   "version": "2.3.4"
  },
  "widgets": {
   "application/vnd.jupyter.widget-state+json": {
    "state": {
     "0385348e1686476ca3b1de0d8ce5c186": {
      "model_module": "@jupyter-widgets/controls",
      "model_module_version": "1.5.0",
      "model_name": "HTMLModel",
      "state": {
       "_dom_classes": [],
       "_model_module": "@jupyter-widgets/controls",
       "_model_module_version": "1.5.0",
       "_model_name": "HTMLModel",
       "_view_count": null,
       "_view_module": "@jupyter-widgets/controls",
       "_view_module_version": "1.5.0",
       "_view_name": "HTMLView",
       "description": "",
       "description_tooltip": null,
       "layout": "IPY_MODEL_288553a3af5b4d7b85a0c6f7e3d07ca7",
       "placeholder": "​",
       "style": "IPY_MODEL_04f7bfde5b344efdbff1e81380340dd3",
       "value": "<h3> Top Agencies using Street Projects </h3>"
      }
     },
     "04f7bfde5b344efdbff1e81380340dd3": {
      "model_module": "@jupyter-widgets/controls",
      "model_module_version": "1.5.0",
      "model_name": "DescriptionStyleModel",
      "state": {
       "_model_module": "@jupyter-widgets/controls",
       "_model_module_version": "1.5.0",
       "_model_name": "DescriptionStyleModel",
       "_view_count": null,
       "_view_module": "@jupyter-widgets/base",
       "_view_module_version": "1.2.0",
       "_view_name": "StyleView",
       "description_width": ""
      }
     },
     "06c3f4312f6d4314a4334e44c2c760e3": {
      "model_module": "@jupyter-widgets/controls",
      "model_module_version": "1.5.0",
      "model_name": "HTMLModel",
      "state": {
       "_dom_classes": [],
       "_model_module": "@jupyter-widgets/controls",
       "_model_module_version": "1.5.0",
       "_model_name": "HTMLModel",
       "_view_count": null,
       "_view_module": "@jupyter-widgets/controls",
       "_view_module_version": "1.5.0",
       "_view_name": "HTMLView",
       "description": "",
       "description_tooltip": null,
       "layout": "IPY_MODEL_97c08672d9c847f780a96f03a9f27adf",
       "placeholder": "​",
       "style": "IPY_MODEL_4a4115f6cbdc41919c9218aab60c7cc5",
       "value": "<h3> Top Agencies using Transit Projects </h3>"
      }
     },
     "095201f50b6f465c99fdea45ed3eb90e": {
      "model_module": "@jupyter-widgets/controls",
      "model_module_version": "1.5.0",
      "model_name": "HTMLModel",
      "state": {
       "_dom_classes": [],
       "_model_module": "@jupyter-widgets/controls",
       "_model_module_version": "1.5.0",
       "_model_name": "HTMLModel",
       "_view_count": null,
       "_view_module": "@jupyter-widgets/controls",
       "_view_module_version": "1.5.0",
       "_view_name": "HTMLView",
       "description": "",
       "description_tooltip": null,
       "layout": "IPY_MODEL_dc890a931425406a936009aa018e1c8c",
       "placeholder": "​",
       "style": "IPY_MODEL_e10e1b19964a4365b1c88b74ac947b81",
       "value": "<style type=\"text/css\">\n#T_d312e th {\n  text-align: center;\n}\n#T_d312e_row0_col0, #T_d312e_row0_col1, #T_d312e_row0_col2, #T_d312e_row1_col0, #T_d312e_row1_col1, #T_d312e_row1_col2, #T_d312e_row2_col0, #T_d312e_row2_col1, #T_d312e_row2_col2, #T_d312e_row3_col0, #T_d312e_row3_col1, #T_d312e_row3_col2, #T_d312e_row4_col0, #T_d312e_row4_col1, #T_d312e_row4_col2 {\n  text-align: center;\n}\n</style>\n<table id=\"T_d312e\">\n  <thead>\n    <tr>\n      <th id=\"T_d312e_level0_col0\" class=\"col_heading level0 col0\" >Agency</th>\n      <th id=\"T_d312e_level0_col1\" class=\"col_heading level0 col1\" >Active Transportation Obligations</th>\n      <th id=\"T_d312e_level0_col2\" class=\"col_heading level0 col2\" >Percent Of Category</th>\n    </tr>\n  </thead>\n  <tbody>\n    <tr>\n      <td id=\"T_d312e_row0_col0\" class=\"data row0 col0\" >Moreno Valley</td>\n      <td id=\"T_d312e_row0_col1\" class=\"data row0 col1\" >18</td>\n      <td id=\"T_d312e_row0_col2\" class=\"data row0 col2\" >$7.06</td>\n    </tr>\n    <tr>\n      <td id=\"T_d312e_row1_col0\" class=\"data row1 col0\" >Redlands</td>\n      <td id=\"T_d312e_row1_col1\" class=\"data row1 col1\" >15</td>\n      <td id=\"T_d312e_row1_col2\" class=\"data row1 col2\" >$5.88</td>\n    </tr>\n    <tr>\n      <td id=\"T_d312e_row2_col0\" class=\"data row2 col0\" >Wildomar</td>\n      <td id=\"T_d312e_row2_col1\" class=\"data row2 col1\" >14</td>\n      <td id=\"T_d312e_row2_col2\" class=\"data row2 col2\" >$5.49</td>\n    </tr>\n    <tr>\n      <td id=\"T_d312e_row3_col0\" class=\"data row3 col0\" >Highland</td>\n      <td id=\"T_d312e_row3_col1\" class=\"data row3 col1\" >12</td>\n      <td id=\"T_d312e_row3_col2\" class=\"data row3 col2\" >$4.71</td>\n    </tr>\n    <tr>\n      <td id=\"T_d312e_row4_col0\" class=\"data row4 col0\" >Riverside County</td>\n      <td id=\"T_d312e_row4_col1\" class=\"data row4 col1\" >12</td>\n      <td id=\"T_d312e_row4_col2\" class=\"data row4 col2\" >$4.71</td>\n    </tr>\n  </tbody>\n</table>\n"
      }
     },
     "0f9f8228a1cf44e5bfb99f898429107a": {
      "model_module": "@jupyter-widgets/controls",
      "model_module_version": "1.5.0",
      "model_name": "DescriptionStyleModel",
      "state": {
       "_model_module": "@jupyter-widgets/controls",
       "_model_module_version": "1.5.0",
       "_model_name": "DescriptionStyleModel",
       "_view_count": null,
       "_view_module": "@jupyter-widgets/base",
       "_view_module_version": "1.2.0",
       "_view_name": "StyleView",
       "description_width": ""
      }
     },
     "1326466bd0ac4a5c952ca2eaf1e5c858": {
      "model_module": "@jupyter-widgets/base",
      "model_module_version": "1.2.0",
      "model_name": "LayoutModel",
      "state": {
       "_model_module": "@jupyter-widgets/base",
       "_model_module_version": "1.2.0",
       "_model_name": "LayoutModel",
       "_view_count": null,
       "_view_module": "@jupyter-widgets/base",
       "_view_module_version": "1.2.0",
       "_view_name": "LayoutView",
       "align_content": null,
       "align_items": null,
       "align_self": null,
       "border": null,
       "bottom": null,
       "display": null,
       "flex": null,
       "flex_flow": null,
       "grid_area": null,
       "grid_auto_columns": null,
       "grid_auto_flow": null,
       "grid_auto_rows": null,
       "grid_column": null,
       "grid_gap": null,
       "grid_row": null,
       "grid_template_areas": null,
       "grid_template_columns": null,
       "grid_template_rows": null,
       "height": null,
       "justify_content": null,
       "justify_items": null,
       "left": null,
       "margin": null,
       "max_height": null,
       "max_width": null,
       "min_height": null,
       "min_width": null,
       "object_fit": null,
       "object_position": null,
       "order": null,
       "overflow": null,
       "overflow_x": null,
       "overflow_y": null,
       "padding": null,
       "right": null,
       "top": null,
       "visibility": null,
       "width": null
      }
     },
     "168df70fb3364e9a95dbb818c4c8660f": {
      "model_module": "@jupyter-widgets/controls",
      "model_module_version": "1.5.0",
      "model_name": "DescriptionStyleModel",
      "state": {
       "_model_module": "@jupyter-widgets/controls",
       "_model_module_version": "1.5.0",
       "_model_name": "DescriptionStyleModel",
       "_view_count": null,
       "_view_module": "@jupyter-widgets/base",
       "_view_module_version": "1.2.0",
       "_view_name": "StyleView",
       "description_width": ""
      }
     },
     "1a2d27d7ebd04f4e94bd0a2d96752075": {
      "model_module": "@jupyter-widgets/controls",
      "model_module_version": "1.5.0",
      "model_name": "DescriptionStyleModel",
      "state": {
       "_model_module": "@jupyter-widgets/controls",
       "_model_module_version": "1.5.0",
       "_model_name": "DescriptionStyleModel",
       "_view_count": null,
       "_view_module": "@jupyter-widgets/base",
       "_view_module_version": "1.2.0",
       "_view_name": "StyleView",
       "description_width": ""
      }
     },
     "1d42ea3167c543d4b54c0e4ddcf4698c": {
      "model_module": "@jupyter-widgets/base",
      "model_module_version": "1.2.0",
      "model_name": "LayoutModel",
      "state": {
       "_model_module": "@jupyter-widgets/base",
       "_model_module_version": "1.2.0",
       "_model_name": "LayoutModel",
       "_view_count": null,
       "_view_module": "@jupyter-widgets/base",
       "_view_module_version": "1.2.0",
       "_view_name": "LayoutView",
       "align_content": null,
       "align_items": null,
       "align_self": null,
       "border": null,
       "bottom": null,
       "display": null,
       "flex": null,
       "flex_flow": null,
       "grid_area": null,
       "grid_auto_columns": null,
       "grid_auto_flow": null,
       "grid_auto_rows": null,
       "grid_column": null,
       "grid_gap": null,
       "grid_row": null,
       "grid_template_areas": null,
       "grid_template_columns": null,
       "grid_template_rows": null,
       "height": null,
       "justify_content": null,
       "justify_items": null,
       "left": null,
       "margin": null,
       "max_height": null,
       "max_width": null,
       "min_height": null,
       "min_width": null,
       "object_fit": null,
       "object_position": null,
       "order": null,
       "overflow": null,
       "overflow_x": null,
       "overflow_y": null,
       "padding": null,
       "right": null,
       "top": null,
       "visibility": null,
       "width": null
      }
     },
     "288553a3af5b4d7b85a0c6f7e3d07ca7": {
      "model_module": "@jupyter-widgets/base",
      "model_module_version": "1.2.0",
      "model_name": "LayoutModel",
      "state": {
       "_model_module": "@jupyter-widgets/base",
       "_model_module_version": "1.2.0",
       "_model_name": "LayoutModel",
       "_view_count": null,
       "_view_module": "@jupyter-widgets/base",
       "_view_module_version": "1.2.0",
       "_view_name": "LayoutView",
       "align_content": null,
       "align_items": null,
       "align_self": null,
       "border": null,
       "bottom": null,
       "display": null,
       "flex": null,
       "flex_flow": null,
       "grid_area": null,
       "grid_auto_columns": null,
       "grid_auto_flow": null,
       "grid_auto_rows": null,
       "grid_column": null,
       "grid_gap": null,
       "grid_row": null,
       "grid_template_areas": null,
       "grid_template_columns": null,
       "grid_template_rows": null,
       "height": null,
       "justify_content": null,
       "justify_items": null,
       "left": null,
       "margin": null,
       "max_height": null,
       "max_width": null,
       "min_height": null,
       "min_width": null,
       "object_fit": null,
       "object_position": null,
       "order": null,
       "overflow": null,
       "overflow_x": null,
       "overflow_y": null,
       "padding": null,
       "right": null,
       "top": null,
       "visibility": null,
       "width": null
      }
     },
     "2b76477e8fa94e77a64b2e786e8507e2": {
      "model_module": "@jupyter-widgets/controls",
      "model_module_version": "1.5.0",
      "model_name": "HTMLModel",
      "state": {
       "_dom_classes": [],
       "_model_module": "@jupyter-widgets/controls",
       "_model_module_version": "1.5.0",
       "_model_name": "HTMLModel",
       "_view_count": null,
       "_view_module": "@jupyter-widgets/controls",
       "_view_module_version": "1.5.0",
       "_view_name": "HTMLView",
       "description": "",
       "description_tooltip": null,
       "layout": "IPY_MODEL_1d42ea3167c543d4b54c0e4ddcf4698c",
       "placeholder": "​",
       "style": "IPY_MODEL_97638f6aa1b148fab4aefefb16fed287",
       "value": "<h3> Top Agencies using Freeway Projects </h3>"
      }
     },
     "3025be524f124cc9ae9452d6b334c6b9": {
      "model_module": "@jupyter-widgets/base",
      "model_module_version": "1.2.0",
      "model_name": "LayoutModel",
      "state": {
       "_model_module": "@jupyter-widgets/base",
       "_model_module_version": "1.2.0",
       "_model_name": "LayoutModel",
       "_view_count": null,
       "_view_module": "@jupyter-widgets/base",
       "_view_module_version": "1.2.0",
       "_view_name": "LayoutView",
       "align_content": null,
       "align_items": null,
       "align_self": null,
       "border": null,
       "bottom": null,
       "display": null,
       "flex": null,
       "flex_flow": null,
       "grid_area": null,
       "grid_auto_columns": null,
       "grid_auto_flow": null,
       "grid_auto_rows": null,
       "grid_column": null,
       "grid_gap": null,
       "grid_row": null,
       "grid_template_areas": null,
       "grid_template_columns": null,
       "grid_template_rows": null,
       "height": null,
       "justify_content": null,
       "justify_items": null,
       "left": null,
       "margin": null,
       "max_height": null,
       "max_width": null,
       "min_height": null,
       "min_width": null,
       "object_fit": null,
       "object_position": null,
       "order": null,
       "overflow": null,
       "overflow_x": null,
       "overflow_y": null,
       "padding": null,
       "right": null,
       "top": null,
       "visibility": null,
       "width": null
      }
     },
     "359e72ae7dfa404eb6c5b3ebe8a27230": {
      "model_module": "@jupyter-widgets/controls",
      "model_module_version": "1.5.0",
      "model_name": "HTMLModel",
      "state": {
       "_dom_classes": [],
       "_model_module": "@jupyter-widgets/controls",
       "_model_module_version": "1.5.0",
       "_model_name": "HTMLModel",
       "_view_count": null,
       "_view_module": "@jupyter-widgets/controls",
       "_view_module_version": "1.5.0",
       "_view_name": "HTMLView",
       "description": "",
       "description_tooltip": null,
       "layout": "IPY_MODEL_6ef968ea6aa94f86a5e3bc7cac5240b8",
       "placeholder": "​",
       "style": "IPY_MODEL_1a2d27d7ebd04f4e94bd0a2d96752075",
       "value": "<style type=\"text/css\">\n#T_263e8 th {\n  text-align: center;\n}\n#T_263e8_row0_col0, #T_263e8_row0_col1, #T_263e8_row0_col2, #T_263e8_row1_col0, #T_263e8_row1_col1, #T_263e8_row1_col2, #T_263e8_row2_col0, #T_263e8_row2_col1, #T_263e8_row2_col2, #T_263e8_row3_col0, #T_263e8_row3_col1, #T_263e8_row3_col2, #T_263e8_row4_col0, #T_263e8_row4_col1, #T_263e8_row4_col2 {\n  text-align: center;\n}\n</style>\n<table id=\"T_263e8\">\n  <thead>\n    <tr>\n      <th id=\"T_263e8_level0_col0\" class=\"col_heading level0 col0\" >Agency</th>\n      <th id=\"T_263e8_level0_col1\" class=\"col_heading level0 col1\" >Street Obligations</th>\n      <th id=\"T_263e8_level0_col2\" class=\"col_heading level0 col2\" >Percent Of Category</th>\n    </tr>\n  </thead>\n  <tbody>\n    <tr>\n      <td id=\"T_263e8_row0_col0\" class=\"data row0 col0\" >Riverside County</td>\n      <td id=\"T_263e8_row0_col1\" class=\"data row0 col1\" >52</td>\n      <td id=\"T_263e8_row0_col2\" class=\"data row0 col2\" >$8.95</td>\n    </tr>\n    <tr>\n      <td id=\"T_263e8_row1_col0\" class=\"data row1 col0\" >San Bernardino County</td>\n      <td id=\"T_263e8_row1_col1\" class=\"data row1 col1\" >44</td>\n      <td id=\"T_263e8_row1_col2\" class=\"data row1 col2\" >$7.57</td>\n    </tr>\n    <tr>\n      <td id=\"T_263e8_row2_col0\" class=\"data row2 col0\" >Indio</td>\n      <td id=\"T_263e8_row2_col1\" class=\"data row2 col1\" >25</td>\n      <td id=\"T_263e8_row2_col2\" class=\"data row2 col2\" >$4.30</td>\n    </tr>\n    <tr>\n      <td id=\"T_263e8_row3_col0\" class=\"data row3 col0\" >Moreno Valley</td>\n      <td id=\"T_263e8_row3_col1\" class=\"data row3 col1\" >25</td>\n      <td id=\"T_263e8_row3_col2\" class=\"data row3 col2\" >$4.30</td>\n    </tr>\n    <tr>\n      <td id=\"T_263e8_row4_col0\" class=\"data row4 col0\" >Palm Springs</td>\n      <td id=\"T_263e8_row4_col1\" class=\"data row4 col1\" >25</td>\n      <td id=\"T_263e8_row4_col2\" class=\"data row4 col2\" >$4.30</td>\n    </tr>\n  </tbody>\n</table>\n"
      }
     },
     "39325b0399f6452c9d53f44b4422adb2": {
      "model_module": "@jupyter-widgets/base",
      "model_module_version": "1.2.0",
      "model_name": "LayoutModel",
      "state": {
       "_model_module": "@jupyter-widgets/base",
       "_model_module_version": "1.2.0",
       "_model_name": "LayoutModel",
       "_view_count": null,
       "_view_module": "@jupyter-widgets/base",
       "_view_module_version": "1.2.0",
       "_view_name": "LayoutView",
       "align_content": null,
       "align_items": null,
       "align_self": null,
       "border": null,
       "bottom": null,
       "display": null,
       "flex": null,
       "flex_flow": null,
       "grid_area": null,
       "grid_auto_columns": null,
       "grid_auto_flow": null,
       "grid_auto_rows": null,
       "grid_column": null,
       "grid_gap": null,
       "grid_row": null,
       "grid_template_areas": null,
       "grid_template_columns": null,
       "grid_template_rows": null,
       "height": null,
       "justify_content": null,
       "justify_items": null,
       "left": null,
       "margin": null,
       "max_height": null,
       "max_width": null,
       "min_height": null,
       "min_width": null,
       "object_fit": null,
       "object_position": null,
       "order": null,
       "overflow": null,
       "overflow_x": null,
       "overflow_y": null,
       "padding": null,
       "right": null,
       "top": null,
       "visibility": null,
       "width": null
      }
     },
     "480074e389d042a5a1817a3519990942": {
      "model_module": "@jupyter-widgets/controls",
      "model_module_version": "1.5.0",
      "model_name": "HTMLModel",
      "state": {
       "_dom_classes": [],
       "_model_module": "@jupyter-widgets/controls",
       "_model_module_version": "1.5.0",
       "_model_name": "HTMLModel",
       "_view_count": null,
       "_view_module": "@jupyter-widgets/controls",
       "_view_module_version": "1.5.0",
       "_view_name": "HTMLView",
       "description": "",
       "description_tooltip": null,
       "layout": "IPY_MODEL_484a22bbe7404d9baa3059be0987b8cf",
       "placeholder": "​",
       "style": "IPY_MODEL_59a92ce82b9f4e8c8b2215d2129d5555",
       "value": "<h3> Top Agencies using Bridge Projects </h3>"
      }
     },
     "484a22bbe7404d9baa3059be0987b8cf": {
      "model_module": "@jupyter-widgets/base",
      "model_module_version": "1.2.0",
      "model_name": "LayoutModel",
      "state": {
       "_model_module": "@jupyter-widgets/base",
       "_model_module_version": "1.2.0",
       "_model_name": "LayoutModel",
       "_view_count": null,
       "_view_module": "@jupyter-widgets/base",
       "_view_module_version": "1.2.0",
       "_view_name": "LayoutView",
       "align_content": null,
       "align_items": null,
       "align_self": null,
       "border": null,
       "bottom": null,
       "display": null,
       "flex": null,
       "flex_flow": null,
       "grid_area": null,
       "grid_auto_columns": null,
       "grid_auto_flow": null,
       "grid_auto_rows": null,
       "grid_column": null,
       "grid_gap": null,
       "grid_row": null,
       "grid_template_areas": null,
       "grid_template_columns": null,
       "grid_template_rows": null,
       "height": null,
       "justify_content": null,
       "justify_items": null,
       "left": null,
       "margin": null,
       "max_height": null,
       "max_width": null,
       "min_height": null,
       "min_width": null,
       "object_fit": null,
       "object_position": null,
       "order": null,
       "overflow": null,
       "overflow_x": null,
       "overflow_y": null,
       "padding": null,
       "right": null,
       "top": null,
       "visibility": null,
       "width": null
      }
     },
     "4a4115f6cbdc41919c9218aab60c7cc5": {
      "model_module": "@jupyter-widgets/controls",
      "model_module_version": "1.5.0",
      "model_name": "DescriptionStyleModel",
      "state": {
       "_model_module": "@jupyter-widgets/controls",
       "_model_module_version": "1.5.0",
       "_model_name": "DescriptionStyleModel",
       "_view_count": null,
       "_view_module": "@jupyter-widgets/base",
       "_view_module_version": "1.2.0",
       "_view_name": "StyleView",
       "description_width": ""
      }
     },
     "4d6d73a8d8d84ea2b37ef931a9b5a1b5": {
      "model_module": "@jupyter-widgets/controls",
      "model_module_version": "1.5.0",
      "model_name": "DescriptionStyleModel",
      "state": {
       "_model_module": "@jupyter-widgets/controls",
       "_model_module_version": "1.5.0",
       "_model_name": "DescriptionStyleModel",
       "_view_count": null,
       "_view_module": "@jupyter-widgets/base",
       "_view_module_version": "1.2.0",
       "_view_name": "StyleView",
       "description_width": ""
      }
     },
     "59a92ce82b9f4e8c8b2215d2129d5555": {
      "model_module": "@jupyter-widgets/controls",
      "model_module_version": "1.5.0",
      "model_name": "DescriptionStyleModel",
      "state": {
       "_model_module": "@jupyter-widgets/controls",
       "_model_module_version": "1.5.0",
       "_model_name": "DescriptionStyleModel",
       "_view_count": null,
       "_view_module": "@jupyter-widgets/base",
       "_view_module_version": "1.2.0",
       "_view_name": "StyleView",
       "description_width": ""
      }
     },
     "5b1c874b38a943b899ac3b2a7676ddda": {
      "model_module": "@jupyter-widgets/controls",
      "model_module_version": "1.5.0",
      "model_name": "HTMLModel",
      "state": {
       "_dom_classes": [],
       "_model_module": "@jupyter-widgets/controls",
       "_model_module_version": "1.5.0",
       "_model_name": "HTMLModel",
       "_view_count": null,
       "_view_module": "@jupyter-widgets/controls",
       "_view_module_version": "1.5.0",
       "_view_name": "HTMLView",
       "description": "",
       "description_tooltip": null,
       "layout": "IPY_MODEL_a644e812ea03416f85aa07b04240ce58",
       "placeholder": "​",
       "style": "IPY_MODEL_4d6d73a8d8d84ea2b37ef931a9b5a1b5",
       "value": "<style type=\"text/css\">\n#T_cbeb7 th {\n  text-align: center;\n}\n#T_cbeb7_row0_col0, #T_cbeb7_row0_col1, #T_cbeb7_row0_col2, #T_cbeb7_row1_col0, #T_cbeb7_row1_col1, #T_cbeb7_row1_col2, #T_cbeb7_row2_col0, #T_cbeb7_row2_col1, #T_cbeb7_row2_col2, #T_cbeb7_row3_col0, #T_cbeb7_row3_col1, #T_cbeb7_row3_col2, #T_cbeb7_row4_col0, #T_cbeb7_row4_col1, #T_cbeb7_row4_col2 {\n  text-align: center;\n}\n</style>\n<table id=\"T_cbeb7\">\n  <thead>\n    <tr>\n      <th id=\"T_cbeb7_level0_col0\" class=\"col_heading level0 col0\" >Agency</th>\n      <th id=\"T_cbeb7_level0_col1\" class=\"col_heading level0 col1\" >Infrastructure & Emergency Relief Obligations</th>\n      <th id=\"T_cbeb7_level0_col2\" class=\"col_heading level0 col2\" >Percent Of Category</th>\n    </tr>\n  </thead>\n  <tbody>\n    <tr>\n      <td id=\"T_cbeb7_row0_col0\" class=\"data row0 col0\" >San Bernardino County</td>\n      <td id=\"T_cbeb7_row0_col1\" class=\"data row0 col1\" >102</td>\n      <td id=\"T_cbeb7_row0_col2\" class=\"data row0 col2\" >$12.38</td>\n    </tr>\n    <tr>\n      <td id=\"T_cbeb7_row1_col0\" class=\"data row1 col0\" >Riverside County</td>\n      <td id=\"T_cbeb7_row1_col1\" class=\"data row1 col1\" >94</td>\n      <td id=\"T_cbeb7_row1_col2\" class=\"data row1 col2\" >$11.41</td>\n    </tr>\n    <tr>\n      <td id=\"T_cbeb7_row2_col0\" class=\"data row2 col0\" >San Bernardino Associated Governments</td>\n      <td id=\"T_cbeb7_row2_col1\" class=\"data row2 col1\" >40</td>\n      <td id=\"T_cbeb7_row2_col2\" class=\"data row2 col2\" >$4.85</td>\n    </tr>\n    <tr>\n      <td id=\"T_cbeb7_row3_col0\" class=\"data row3 col0\" >Indio</td>\n      <td id=\"T_cbeb7_row3_col1\" class=\"data row3 col1\" >37</td>\n      <td id=\"T_cbeb7_row3_col2\" class=\"data row3 col2\" >$4.49</td>\n    </tr>\n    <tr>\n      <td id=\"T_cbeb7_row4_col0\" class=\"data row4 col0\" >Palm Springs</td>\n      <td id=\"T_cbeb7_row4_col1\" class=\"data row4 col1\" >37</td>\n      <td id=\"T_cbeb7_row4_col2\" class=\"data row4 col2\" >$4.49</td>\n    </tr>\n  </tbody>\n</table>\n"
      }
     },
     "68fadd635b1a41ac85677ebad52aedd2": {
      "model_module": "@jupyter-widgets/controls",
      "model_module_version": "1.5.0",
      "model_name": "DescriptionStyleModel",
      "state": {
       "_model_module": "@jupyter-widgets/controls",
       "_model_module_version": "1.5.0",
       "_model_name": "DescriptionStyleModel",
       "_view_count": null,
       "_view_module": "@jupyter-widgets/base",
       "_view_module_version": "1.2.0",
       "_view_name": "StyleView",
       "description_width": ""
      }
     },
     "69037506f3f043068d3299874c5db480": {
      "model_module": "@jupyter-widgets/base",
      "model_module_version": "1.2.0",
      "model_name": "LayoutModel",
      "state": {
       "_model_module": "@jupyter-widgets/base",
       "_model_module_version": "1.2.0",
       "_model_name": "LayoutModel",
       "_view_count": null,
       "_view_module": "@jupyter-widgets/base",
       "_view_module_version": "1.2.0",
       "_view_name": "LayoutView",
       "align_content": null,
       "align_items": null,
       "align_self": null,
       "border": null,
       "bottom": null,
       "display": null,
       "flex": null,
       "flex_flow": null,
       "grid_area": null,
       "grid_auto_columns": null,
       "grid_auto_flow": null,
       "grid_auto_rows": null,
       "grid_column": null,
       "grid_gap": null,
       "grid_row": null,
       "grid_template_areas": null,
       "grid_template_columns": null,
       "grid_template_rows": null,
       "height": null,
       "justify_content": null,
       "justify_items": null,
       "left": null,
       "margin": null,
       "max_height": null,
       "max_width": null,
       "min_height": null,
       "min_width": null,
       "object_fit": null,
       "object_position": null,
       "order": null,
       "overflow": null,
       "overflow_x": null,
       "overflow_y": null,
       "padding": null,
       "right": null,
       "top": null,
       "visibility": null,
       "width": null
      }
     },
     "6ef968ea6aa94f86a5e3bc7cac5240b8": {
      "model_module": "@jupyter-widgets/base",
      "model_module_version": "1.2.0",
      "model_name": "LayoutModel",
      "state": {
       "_model_module": "@jupyter-widgets/base",
       "_model_module_version": "1.2.0",
       "_model_name": "LayoutModel",
       "_view_count": null,
       "_view_module": "@jupyter-widgets/base",
       "_view_module_version": "1.2.0",
       "_view_name": "LayoutView",
       "align_content": null,
       "align_items": null,
       "align_self": null,
       "border": null,
       "bottom": null,
       "display": null,
       "flex": null,
       "flex_flow": null,
       "grid_area": null,
       "grid_auto_columns": null,
       "grid_auto_flow": null,
       "grid_auto_rows": null,
       "grid_column": null,
       "grid_gap": null,
       "grid_row": null,
       "grid_template_areas": null,
       "grid_template_columns": null,
       "grid_template_rows": null,
       "height": null,
       "justify_content": null,
       "justify_items": null,
       "left": null,
       "margin": null,
       "max_height": null,
       "max_width": null,
       "min_height": null,
       "min_width": null,
       "object_fit": null,
       "object_position": null,
       "order": null,
       "overflow": null,
       "overflow_x": null,
       "overflow_y": null,
       "padding": null,
       "right": null,
       "top": null,
       "visibility": null,
       "width": null
      }
     },
     "8a698c5f64094947b6c0678901ecfea3": {
      "model_module": "@jupyter-widgets/controls",
      "model_module_version": "1.5.0",
      "model_name": "HTMLModel",
      "state": {
       "_dom_classes": [],
       "_model_module": "@jupyter-widgets/controls",
       "_model_module_version": "1.5.0",
       "_model_name": "HTMLModel",
       "_view_count": null,
       "_view_module": "@jupyter-widgets/controls",
       "_view_module_version": "1.5.0",
       "_view_name": "HTMLView",
       "description": "",
       "description_tooltip": null,
       "layout": "IPY_MODEL_3025be524f124cc9ae9452d6b334c6b9",
       "placeholder": "​",
       "style": "IPY_MODEL_168df70fb3364e9a95dbb818c4c8660f",
       "value": "<h3> Top Agencies using Active Transportation Projects </h3>"
      }
     },
     "92d597708f1a4215a3e5501c831efd0a": {
      "model_module": "@jupyter-widgets/controls",
      "model_module_version": "1.5.0",
      "model_name": "HTMLModel",
      "state": {
       "_dom_classes": [],
       "_model_module": "@jupyter-widgets/controls",
       "_model_module_version": "1.5.0",
       "_model_name": "HTMLModel",
       "_view_count": null,
       "_view_module": "@jupyter-widgets/controls",
       "_view_module_version": "1.5.0",
       "_view_name": "HTMLView",
       "description": "",
       "description_tooltip": null,
       "layout": "IPY_MODEL_b761f158e0914545a0e7310d22183057",
       "placeholder": "​",
       "style": "IPY_MODEL_0f9f8228a1cf44e5bfb99f898429107a",
       "value": "<h3> Top Agencies using Infrastructure & Emergency Relief Projects </h3>"
      }
     },
     "97638f6aa1b148fab4aefefb16fed287": {
      "model_module": "@jupyter-widgets/controls",
      "model_module_version": "1.5.0",
      "model_name": "DescriptionStyleModel",
      "state": {
       "_model_module": "@jupyter-widgets/controls",
       "_model_module_version": "1.5.0",
       "_model_name": "DescriptionStyleModel",
       "_view_count": null,
       "_view_module": "@jupyter-widgets/base",
       "_view_module_version": "1.2.0",
       "_view_name": "StyleView",
       "description_width": ""
      }
     },
     "97c08672d9c847f780a96f03a9f27adf": {
      "model_module": "@jupyter-widgets/base",
      "model_module_version": "1.2.0",
      "model_name": "LayoutModel",
      "state": {
       "_model_module": "@jupyter-widgets/base",
       "_model_module_version": "1.2.0",
       "_model_name": "LayoutModel",
       "_view_count": null,
       "_view_module": "@jupyter-widgets/base",
       "_view_module_version": "1.2.0",
       "_view_name": "LayoutView",
       "align_content": null,
       "align_items": null,
       "align_self": null,
       "border": null,
       "bottom": null,
       "display": null,
       "flex": null,
       "flex_flow": null,
       "grid_area": null,
       "grid_auto_columns": null,
       "grid_auto_flow": null,
       "grid_auto_rows": null,
       "grid_column": null,
       "grid_gap": null,
       "grid_row": null,
       "grid_template_areas": null,
       "grid_template_columns": null,
       "grid_template_rows": null,
       "height": null,
       "justify_content": null,
       "justify_items": null,
       "left": null,
       "margin": null,
       "max_height": null,
       "max_width": null,
       "min_height": null,
       "min_width": null,
       "object_fit": null,
       "object_position": null,
       "order": null,
       "overflow": null,
       "overflow_x": null,
       "overflow_y": null,
       "padding": null,
       "right": null,
       "top": null,
       "visibility": null,
       "width": null
      }
     },
     "9df16329606d40bd8bbcc0857c670cb6": {
      "model_module": "@jupyter-widgets/controls",
      "model_module_version": "1.5.0",
      "model_name": "DescriptionStyleModel",
      "state": {
       "_model_module": "@jupyter-widgets/controls",
       "_model_module_version": "1.5.0",
       "_model_name": "DescriptionStyleModel",
       "_view_count": null,
       "_view_module": "@jupyter-widgets/base",
       "_view_module_version": "1.2.0",
       "_view_name": "StyleView",
       "description_width": ""
      }
     },
     "a088022f0a044efebb2948ccaabdb3c4": {
      "model_module": "@jupyter-widgets/base",
      "model_module_version": "1.2.0",
      "model_name": "LayoutModel",
      "state": {
       "_model_module": "@jupyter-widgets/base",
       "_model_module_version": "1.2.0",
       "_model_name": "LayoutModel",
       "_view_count": null,
       "_view_module": "@jupyter-widgets/base",
       "_view_module_version": "1.2.0",
       "_view_name": "LayoutView",
       "align_content": null,
       "align_items": null,
       "align_self": null,
       "border": null,
       "bottom": null,
       "display": null,
       "flex": null,
       "flex_flow": null,
       "grid_area": null,
       "grid_auto_columns": null,
       "grid_auto_flow": null,
       "grid_auto_rows": null,
       "grid_column": null,
       "grid_gap": null,
       "grid_row": null,
       "grid_template_areas": null,
       "grid_template_columns": null,
       "grid_template_rows": null,
       "height": null,
       "justify_content": null,
       "justify_items": null,
       "left": null,
       "margin": null,
       "max_height": null,
       "max_width": null,
       "min_height": null,
       "min_width": null,
       "object_fit": null,
       "object_position": null,
       "order": null,
       "overflow": null,
       "overflow_x": null,
       "overflow_y": null,
       "padding": null,
       "right": null,
       "top": null,
       "visibility": null,
       "width": null
      }
     },
     "a644e812ea03416f85aa07b04240ce58": {
      "model_module": "@jupyter-widgets/base",
      "model_module_version": "1.2.0",
      "model_name": "LayoutModel",
      "state": {
       "_model_module": "@jupyter-widgets/base",
       "_model_module_version": "1.2.0",
       "_model_name": "LayoutModel",
       "_view_count": null,
       "_view_module": "@jupyter-widgets/base",
       "_view_module_version": "1.2.0",
       "_view_name": "LayoutView",
       "align_content": null,
       "align_items": null,
       "align_self": null,
       "border": null,
       "bottom": null,
       "display": null,
       "flex": null,
       "flex_flow": null,
       "grid_area": null,
       "grid_auto_columns": null,
       "grid_auto_flow": null,
       "grid_auto_rows": null,
       "grid_column": null,
       "grid_gap": null,
       "grid_row": null,
       "grid_template_areas": null,
       "grid_template_columns": null,
       "grid_template_rows": null,
       "height": null,
       "justify_content": null,
       "justify_items": null,
       "left": null,
       "margin": null,
       "max_height": null,
       "max_width": null,
       "min_height": null,
       "min_width": null,
       "object_fit": null,
       "object_position": null,
       "order": null,
       "overflow": null,
       "overflow_x": null,
       "overflow_y": null,
       "padding": null,
       "right": null,
       "top": null,
       "visibility": null,
       "width": null
      }
     },
     "a6eafdf849be444db36b0467ebb9fa92": {
      "model_module": "@jupyter-widgets/controls",
      "model_module_version": "1.5.0",
      "model_name": "HTMLModel",
      "state": {
       "_dom_classes": [],
       "_model_module": "@jupyter-widgets/controls",
       "_model_module_version": "1.5.0",
       "_model_name": "HTMLModel",
       "_view_count": null,
       "_view_module": "@jupyter-widgets/controls",
       "_view_module_version": "1.5.0",
       "_view_name": "HTMLView",
       "description": "",
       "description_tooltip": null,
       "layout": "IPY_MODEL_39325b0399f6452c9d53f44b4422adb2",
       "placeholder": "​",
       "style": "IPY_MODEL_9df16329606d40bd8bbcc0857c670cb6",
       "value": "<h3> Top Agencies using Congestion Relief Projects </h3>"
      }
     },
     "b761f158e0914545a0e7310d22183057": {
      "model_module": "@jupyter-widgets/base",
      "model_module_version": "1.2.0",
      "model_name": "LayoutModel",
      "state": {
       "_model_module": "@jupyter-widgets/base",
       "_model_module_version": "1.2.0",
       "_model_name": "LayoutModel",
       "_view_count": null,
       "_view_module": "@jupyter-widgets/base",
       "_view_module_version": "1.2.0",
       "_view_name": "LayoutView",
       "align_content": null,
       "align_items": null,
       "align_self": null,
       "border": null,
       "bottom": null,
       "display": null,
       "flex": null,
       "flex_flow": null,
       "grid_area": null,
       "grid_auto_columns": null,
       "grid_auto_flow": null,
       "grid_auto_rows": null,
       "grid_column": null,
       "grid_gap": null,
       "grid_row": null,
       "grid_template_areas": null,
       "grid_template_columns": null,
       "grid_template_rows": null,
       "height": null,
       "justify_content": null,
       "justify_items": null,
       "left": null,
       "margin": null,
       "max_height": null,
       "max_width": null,
       "min_height": null,
       "min_width": null,
       "object_fit": null,
       "object_position": null,
       "order": null,
       "overflow": null,
       "overflow_x": null,
       "overflow_y": null,
       "padding": null,
       "right": null,
       "top": null,
       "visibility": null,
       "width": null
      }
     },
     "b7bc6c4cf3ba4cf394daa6aa9431578a": {
      "model_module": "@jupyter-widgets/controls",
      "model_module_version": "1.5.0",
      "model_name": "HTMLModel",
      "state": {
       "_dom_classes": [],
       "_model_module": "@jupyter-widgets/controls",
       "_model_module_version": "1.5.0",
       "_model_name": "HTMLModel",
       "_view_count": null,
       "_view_module": "@jupyter-widgets/controls",
       "_view_module_version": "1.5.0",
       "_view_name": "HTMLView",
       "description": "",
       "description_tooltip": null,
       "layout": "IPY_MODEL_a088022f0a044efebb2948ccaabdb3c4",
       "placeholder": "​",
       "style": "IPY_MODEL_68fadd635b1a41ac85677ebad52aedd2",
       "value": "<style type=\"text/css\">\n#T_e66ba th {\n  text-align: center;\n}\n#T_e66ba_row0_col0, #T_e66ba_row0_col1, #T_e66ba_row0_col2, #T_e66ba_row1_col0, #T_e66ba_row1_col1, #T_e66ba_row1_col2, #T_e66ba_row2_col0, #T_e66ba_row2_col1, #T_e66ba_row2_col2 {\n  text-align: center;\n}\n</style>\n<table id=\"T_e66ba\">\n  <thead>\n    <tr>\n      <th id=\"T_e66ba_level0_col0\" class=\"col_heading level0 col0\" >Agency</th>\n      <th id=\"T_e66ba_level0_col1\" class=\"col_heading level0 col1\" >Transit Obligations</th>\n      <th id=\"T_e66ba_level0_col2\" class=\"col_heading level0 col2\" >Percent Of Category</th>\n    </tr>\n  </thead>\n  <tbody>\n    <tr>\n      <td id=\"T_e66ba_row0_col0\" class=\"data row0 col0\" >Riverside</td>\n      <td id=\"T_e66ba_row0_col1\" class=\"data row0 col1\" >5</td>\n      <td id=\"T_e66ba_row0_col2\" class=\"data row0 col2\" >$50.00</td>\n    </tr>\n    <tr>\n      <td id=\"T_e66ba_row1_col0\" class=\"data row1 col0\" >Colton</td>\n      <td id=\"T_e66ba_row1_col1\" class=\"data row1 col1\" >3</td>\n      <td id=\"T_e66ba_row1_col2\" class=\"data row1 col2\" >$30.00</td>\n    </tr>\n    <tr>\n      <td id=\"T_e66ba_row2_col0\" class=\"data row2 col0\" >Riverside County Transportation Commission</td>\n      <td id=\"T_e66ba_row2_col1\" class=\"data row2 col1\" >2</td>\n      <td id=\"T_e66ba_row2_col2\" class=\"data row2 col2\" >$20.00</td>\n    </tr>\n  </tbody>\n</table>\n"
      }
     },
     "b91f68cbbffe4fa4b0987927134f25b9": {
      "model_module": "@jupyter-widgets/base",
      "model_module_version": "1.2.0",
      "model_name": "LayoutModel",
      "state": {
       "_model_module": "@jupyter-widgets/base",
       "_model_module_version": "1.2.0",
       "_model_name": "LayoutModel",
       "_view_count": null,
       "_view_module": "@jupyter-widgets/base",
       "_view_module_version": "1.2.0",
       "_view_name": "LayoutView",
       "align_content": null,
       "align_items": null,
       "align_self": null,
       "border": null,
       "bottom": null,
       "display": null,
       "flex": null,
       "flex_flow": null,
       "grid_area": null,
       "grid_auto_columns": null,
       "grid_auto_flow": null,
       "grid_auto_rows": null,
       "grid_column": null,
       "grid_gap": null,
       "grid_row": null,
       "grid_template_areas": null,
       "grid_template_columns": null,
       "grid_template_rows": null,
       "height": null,
       "justify_content": null,
       "justify_items": null,
       "left": null,
       "margin": null,
       "max_height": null,
       "max_width": null,
       "min_height": null,
       "min_width": null,
       "object_fit": null,
       "object_position": null,
       "order": null,
       "overflow": null,
       "overflow_x": null,
       "overflow_y": null,
       "padding": null,
       "right": null,
       "top": null,
       "visibility": null,
       "width": null
      }
     },
     "dc890a931425406a936009aa018e1c8c": {
      "model_module": "@jupyter-widgets/base",
      "model_module_version": "1.2.0",
      "model_name": "LayoutModel",
      "state": {
       "_model_module": "@jupyter-widgets/base",
       "_model_module_version": "1.2.0",
       "_model_name": "LayoutModel",
       "_view_count": null,
       "_view_module": "@jupyter-widgets/base",
       "_view_module_version": "1.2.0",
       "_view_name": "LayoutView",
       "align_content": null,
       "align_items": null,
       "align_self": null,
       "border": null,
       "bottom": null,
       "display": null,
       "flex": null,
       "flex_flow": null,
       "grid_area": null,
       "grid_auto_columns": null,
       "grid_auto_flow": null,
       "grid_auto_rows": null,
       "grid_column": null,
       "grid_gap": null,
       "grid_row": null,
       "grid_template_areas": null,
       "grid_template_columns": null,
       "grid_template_rows": null,
       "height": null,
       "justify_content": null,
       "justify_items": null,
       "left": null,
       "margin": null,
       "max_height": null,
       "max_width": null,
       "min_height": null,
       "min_width": null,
       "object_fit": null,
       "object_position": null,
       "order": null,
       "overflow": null,
       "overflow_x": null,
       "overflow_y": null,
       "padding": null,
       "right": null,
       "top": null,
       "visibility": null,
       "width": null
      }
     },
     "dd611b9f40514c6383cb5e0d61ef1a7b": {
      "model_module": "@jupyter-widgets/controls",
      "model_module_version": "1.5.0",
      "model_name": "DescriptionStyleModel",
      "state": {
       "_model_module": "@jupyter-widgets/controls",
       "_model_module_version": "1.5.0",
       "_model_name": "DescriptionStyleModel",
       "_view_count": null,
       "_view_module": "@jupyter-widgets/base",
       "_view_module_version": "1.2.0",
       "_view_name": "StyleView",
       "description_width": ""
      }
     },
     "e059808a3cfd49b2965a614d7a8acfb4": {
      "model_module": "@jupyter-widgets/controls",
      "model_module_version": "1.5.0",
      "model_name": "HTMLModel",
      "state": {
       "_dom_classes": [],
       "_model_module": "@jupyter-widgets/controls",
       "_model_module_version": "1.5.0",
       "_model_name": "HTMLModel",
       "_view_count": null,
       "_view_module": "@jupyter-widgets/controls",
       "_view_module_version": "1.5.0",
       "_view_name": "HTMLView",
       "description": "",
       "description_tooltip": null,
       "layout": "IPY_MODEL_1326466bd0ac4a5c952ca2eaf1e5c858",
       "placeholder": "​",
       "style": "IPY_MODEL_fe256b2508a545ec9a5f90a973b7b386",
       "value": "<style type=\"text/css\">\n#T_b4ff5 th {\n  text-align: center;\n}\n#T_b4ff5_row0_col0, #T_b4ff5_row0_col1, #T_b4ff5_row0_col2, #T_b4ff5_row1_col0, #T_b4ff5_row1_col1, #T_b4ff5_row1_col2, #T_b4ff5_row2_col0, #T_b4ff5_row2_col1, #T_b4ff5_row2_col2, #T_b4ff5_row3_col0, #T_b4ff5_row3_col1, #T_b4ff5_row3_col2, #T_b4ff5_row4_col0, #T_b4ff5_row4_col1, #T_b4ff5_row4_col2 {\n  text-align: center;\n}\n</style>\n<table id=\"T_b4ff5\">\n  <thead>\n    <tr>\n      <th id=\"T_b4ff5_level0_col0\" class=\"col_heading level0 col0\" >Agency</th>\n      <th id=\"T_b4ff5_level0_col1\" class=\"col_heading level0 col1\" >Bridge Obligations</th>\n      <th id=\"T_b4ff5_level0_col2\" class=\"col_heading level0 col2\" >Percent Of Category</th>\n    </tr>\n  </thead>\n  <tbody>\n    <tr>\n      <td id=\"T_b4ff5_row0_col0\" class=\"data row0 col0\" >San Bernardino County</td>\n      <td id=\"T_b4ff5_row0_col1\" class=\"data row0 col1\" >54</td>\n      <td id=\"T_b4ff5_row0_col2\" class=\"data row0 col2\" >$21.43</td>\n    </tr>\n    <tr>\n      <td id=\"T_b4ff5_row1_col0\" class=\"data row1 col0\" >Riverside County</td>\n      <td id=\"T_b4ff5_row1_col1\" class=\"data row1 col1\" >34</td>\n      <td id=\"T_b4ff5_row1_col2\" class=\"data row1 col2\" >$13.49</td>\n    </tr>\n    <tr>\n      <td id=\"T_b4ff5_row2_col0\" class=\"data row2 col0\" >Palm Springs</td>\n      <td id=\"T_b4ff5_row2_col1\" class=\"data row2 col1\" >25</td>\n      <td id=\"T_b4ff5_row2_col2\" class=\"data row2 col2\" >$9.92</td>\n    </tr>\n    <tr>\n      <td id=\"T_b4ff5_row3_col0\" class=\"data row3 col0\" >Highland</td>\n      <td id=\"T_b4ff5_row3_col1\" class=\"data row3 col1\" >16</td>\n      <td id=\"T_b4ff5_row3_col2\" class=\"data row3 col2\" >$6.35</td>\n    </tr>\n    <tr>\n      <td id=\"T_b4ff5_row4_col0\" class=\"data row4 col0\" >Ontario</td>\n      <td id=\"T_b4ff5_row4_col1\" class=\"data row4 col1\" >13</td>\n      <td id=\"T_b4ff5_row4_col2\" class=\"data row4 col2\" >$5.16</td>\n    </tr>\n  </tbody>\n</table>\n"
      }
     },
     "e10e1b19964a4365b1c88b74ac947b81": {
      "model_module": "@jupyter-widgets/controls",
      "model_module_version": "1.5.0",
      "model_name": "DescriptionStyleModel",
      "state": {
       "_model_module": "@jupyter-widgets/controls",
       "_model_module_version": "1.5.0",
       "_model_name": "DescriptionStyleModel",
       "_view_count": null,
       "_view_module": "@jupyter-widgets/base",
       "_view_module_version": "1.2.0",
       "_view_name": "StyleView",
       "description_width": ""
      }
     },
     "eaff814a336849a5b5ef6d70222ab629": {
      "model_module": "@jupyter-widgets/controls",
      "model_module_version": "1.5.0",
      "model_name": "DescriptionStyleModel",
      "state": {
       "_model_module": "@jupyter-widgets/controls",
       "_model_module_version": "1.5.0",
       "_model_name": "DescriptionStyleModel",
       "_view_count": null,
       "_view_module": "@jupyter-widgets/base",
       "_view_module_version": "1.2.0",
       "_view_name": "StyleView",
       "description_width": ""
      }
     },
     "ec2a684eb2b0468fbb72dbc6ed520843": {
      "model_module": "@jupyter-widgets/controls",
      "model_module_version": "1.5.0",
      "model_name": "HTMLModel",
      "state": {
       "_dom_classes": [],
       "_model_module": "@jupyter-widgets/controls",
       "_model_module_version": "1.5.0",
       "_model_name": "HTMLModel",
       "_view_count": null,
       "_view_module": "@jupyter-widgets/controls",
       "_view_module_version": "1.5.0",
       "_view_name": "HTMLView",
       "description": "",
       "description_tooltip": null,
       "layout": "IPY_MODEL_69037506f3f043068d3299874c5db480",
       "placeholder": "​",
       "style": "IPY_MODEL_eaff814a336849a5b5ef6d70222ab629",
       "value": "<style type=\"text/css\">\n#T_e0fd4 th {\n  text-align: center;\n}\n#T_e0fd4_row0_col0, #T_e0fd4_row0_col1, #T_e0fd4_row0_col2, #T_e0fd4_row1_col0, #T_e0fd4_row1_col1, #T_e0fd4_row1_col2, #T_e0fd4_row2_col0, #T_e0fd4_row2_col1, #T_e0fd4_row2_col2, #T_e0fd4_row3_col0, #T_e0fd4_row3_col1, #T_e0fd4_row3_col2 {\n  text-align: center;\n}\n</style>\n<table id=\"T_e0fd4\">\n  <thead>\n    <tr>\n      <th id=\"T_e0fd4_level0_col0\" class=\"col_heading level0 col0\" >Agency</th>\n      <th id=\"T_e0fd4_level0_col1\" class=\"col_heading level0 col1\" >Freeway Obligations</th>\n      <th id=\"T_e0fd4_level0_col2\" class=\"col_heading level0 col2\" >Percent Of Category</th>\n    </tr>\n  </thead>\n  <tbody>\n    <tr>\n      <td id=\"T_e0fd4_row0_col0\" class=\"data row0 col0\" >San Bernardino Associated Governments</td>\n      <td id=\"T_e0fd4_row0_col1\" class=\"data row0 col1\" >19</td>\n      <td id=\"T_e0fd4_row0_col2\" class=\"data row0 col2\" >$55.88</td>\n    </tr>\n    <tr>\n      <td id=\"T_e0fd4_row1_col0\" class=\"data row1 col0\" >Riverside County Transportation Commission</td>\n      <td id=\"T_e0fd4_row1_col1\" class=\"data row1 col1\" >13</td>\n      <td id=\"T_e0fd4_row1_col2\" class=\"data row1 col2\" >$38.24</td>\n    </tr>\n    <tr>\n      <td id=\"T_e0fd4_row2_col0\" class=\"data row2 col0\" >Caltrans</td>\n      <td id=\"T_e0fd4_row2_col1\" class=\"data row2 col1\" >1</td>\n      <td id=\"T_e0fd4_row2_col2\" class=\"data row2 col2\" >$2.94</td>\n    </tr>\n    <tr>\n      <td id=\"T_e0fd4_row3_col0\" class=\"data row3 col0\" >Riverside County</td>\n      <td id=\"T_e0fd4_row3_col1\" class=\"data row3 col1\" >1</td>\n      <td id=\"T_e0fd4_row3_col2\" class=\"data row3 col2\" >$2.94</td>\n    </tr>\n  </tbody>\n</table>\n"
      }
     },
     "fe256b2508a545ec9a5f90a973b7b386": {
      "model_module": "@jupyter-widgets/controls",
      "model_module_version": "1.5.0",
      "model_name": "DescriptionStyleModel",
      "state": {
       "_model_module": "@jupyter-widgets/controls",
       "_model_module_version": "1.5.0",
       "_model_name": "DescriptionStyleModel",
       "_view_count": null,
       "_view_module": "@jupyter-widgets/base",
       "_view_module_version": "1.2.0",
       "_view_name": "StyleView",
       "description_width": ""
      }
     },
     "fe9d7bd961c149f68e451486b2ff5614": {
      "model_module": "@jupyter-widgets/controls",
      "model_module_version": "1.5.0",
      "model_name": "HTMLModel",
      "state": {
       "_dom_classes": [],
       "_model_module": "@jupyter-widgets/controls",
       "_model_module_version": "1.5.0",
       "_model_name": "HTMLModel",
       "_view_count": null,
       "_view_module": "@jupyter-widgets/controls",
       "_view_module_version": "1.5.0",
       "_view_name": "HTMLView",
       "description": "",
       "description_tooltip": null,
       "layout": "IPY_MODEL_b91f68cbbffe4fa4b0987927134f25b9",
       "placeholder": "​",
       "style": "IPY_MODEL_dd611b9f40514c6383cb5e0d61ef1a7b",
       "value": "<style type=\"text/css\">\n#T_68f70 th {\n  text-align: center;\n}\n#T_68f70_row0_col0, #T_68f70_row0_col1, #T_68f70_row0_col2, #T_68f70_row1_col0, #T_68f70_row1_col1, #T_68f70_row1_col2, #T_68f70_row2_col0, #T_68f70_row2_col1, #T_68f70_row2_col2 {\n  text-align: center;\n}\n</style>\n<table id=\"T_68f70\">\n  <thead>\n    <tr>\n      <th id=\"T_68f70_level0_col0\" class=\"col_heading level0 col0\" >Agency</th>\n      <th id=\"T_68f70_level0_col1\" class=\"col_heading level0 col1\" >Congestion Relief Obligations</th>\n      <th id=\"T_68f70_level0_col2\" class=\"col_heading level0 col2\" >Percent Of Category</th>\n    </tr>\n  </thead>\n  <tbody>\n    <tr>\n      <td id=\"T_68f70_row0_col0\" class=\"data row0 col0\" >San Bernardino Associated Governments</td>\n      <td id=\"T_68f70_row0_col1\" class=\"data row0 col1\" >7</td>\n      <td id=\"T_68f70_row0_col2\" class=\"data row0 col2\" >$46.67</td>\n    </tr>\n    <tr>\n      <td id=\"T_68f70_row1_col0\" class=\"data row1 col0\" >San Bernardino County Transportation Authority</td>\n      <td id=\"T_68f70_row1_col1\" class=\"data row1 col1\" >7</td>\n      <td id=\"T_68f70_row1_col2\" class=\"data row1 col2\" >$46.67</td>\n    </tr>\n    <tr>\n      <td id=\"T_68f70_row2_col0\" class=\"data row2 col0\" >Riverside County Transportation Commission</td>\n      <td id=\"T_68f70_row2_col1\" class=\"data row2 col1\" >1</td>\n      <td id=\"T_68f70_row2_col2\" class=\"data row2 col2\" >$6.67</td>\n    </tr>\n  </tbody>\n</table>\n"
      }
     }
    },
    "version_major": 2,
    "version_minor": 0
   }
  }
 },
 "nbformat": 4,
 "nbformat_minor": 5
}