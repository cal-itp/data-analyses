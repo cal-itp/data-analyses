{
 "cells": [
  {
   "cell_type": "markdown",
   "id": "f58dc43f",
   "metadata": {
    "collapsed": false,
    "papermill": {
     "duration": 0.006294,
     "end_time": "2022-05-09T21:56:51.614433",
     "exception": false,
     "start_time": "2022-05-09T21:56:51.608139",
     "status": "completed"
    },
    "pycharm": {
     "name": "#%% md\n"
    },
    "tags": []
   },
   "source": [
    "# District 11"
   ]
  },
  {
   "cell_type": "code",
   "execution_count": 1,
   "id": "2faef9b9",
   "metadata": {
    "collapsed": false,
    "execution": {
     "iopub.execute_input": "2022-05-09T21:56:51.626458Z",
     "iopub.status.busy": "2022-05-09T21:56:51.626173Z",
     "iopub.status.idle": "2022-05-09T21:57:04.815041Z",
     "shell.execute_reply": "2022-05-09T21:57:04.814343Z"
    },
    "jupyter": {
     "source_hidden": true
    },
    "papermill": {
     "duration": 13.197354,
     "end_time": "2022-05-09T21:57:04.817242",
     "exception": false,
     "start_time": "2022-05-09T21:56:51.619888",
     "status": "completed"
    },
    "pycharm": {
     "name": "#%%\n"
    },
    "tags": [
     "remove_input"
    ]
   },
   "outputs": [],
   "source": [
    "%%capture\n",
    "\n",
    "import numpy as np\n",
    "import pandas as pd\n",
    "from siuba import *\n",
    "\n",
    "import altair as alt\n",
    "import altair_saver\n",
    "from plotnine import *\n",
    "\n",
    "from IPython.display import Markdown, HTML, Image\n",
    "import ipywidgets as widgets\n",
    "from ipywidgets import interact, interactive\n",
    "\n",
    "from shared_utils import altair_utils\n",
    "from shared_utils import geography_utils\n",
    "from shared_utils import calitp_color_palette as cp\n",
    "from shared_utils import styleguide\n",
    "\n",
    "from calitp import to_snakecase\n",
    "import intake\n",
    "\n",
    "import _dla_utils_reports\n",
    "\n",
    "\n"
   ]
  },
  {
   "cell_type": "code",
   "execution_count": 2,
   "id": "82cf8245-73d2-4ed3-93cf-7ee01661b024",
   "metadata": {
    "execution": {
     "iopub.execute_input": "2022-05-09T21:57:04.830069Z",
     "iopub.status.busy": "2022-05-09T21:57:04.829804Z",
     "iopub.status.idle": "2022-05-09T21:57:04.833294Z",
     "shell.execute_reply": "2022-05-09T21:57:04.832586Z"
    },
    "jupyter": {
     "source_hidden": true
    },
    "papermill": {
     "duration": 0.012022,
     "end_time": "2022-05-09T21:57:04.835382",
     "exception": false,
     "start_time": "2022-05-09T21:57:04.823360",
     "status": "completed"
    },
    "tags": [
     "parameters",
     "remove_input"
    ]
   },
   "outputs": [],
   "source": [
    "#Parameter Cell\n",
    "\n",
    "district = 4"
   ]
  },
  {
   "cell_type": "code",
   "execution_count": 3,
   "id": "5d648b12",
   "metadata": {
    "execution": {
     "iopub.execute_input": "2022-05-09T21:57:04.848074Z",
     "iopub.status.busy": "2022-05-09T21:57:04.847830Z",
     "iopub.status.idle": "2022-05-09T21:57:04.850865Z",
     "shell.execute_reply": "2022-05-09T21:57:04.850319Z"
    },
    "jupyter": {
     "source_hidden": true
    },
    "papermill": {
     "duration": 0.01175,
     "end_time": "2022-05-09T21:57:04.852991",
     "exception": false,
     "start_time": "2022-05-09T21:57:04.841241",
     "status": "completed"
    },
    "tags": [
     "injected-parameters",
     "remove_input"
    ]
   },
   "outputs": [],
   "source": [
    "# Parameters\n",
    "district = 11\n"
   ]
  },
  {
   "cell_type": "code",
   "execution_count": 4,
   "id": "948b2b4f-ef9b-48ff-b109-e7b76361066c",
   "metadata": {
    "execution": {
     "iopub.execute_input": "2022-05-09T21:57:04.865391Z",
     "iopub.status.busy": "2022-05-09T21:57:04.865150Z",
     "iopub.status.idle": "2022-05-09T21:57:07.535312Z",
     "shell.execute_reply": "2022-05-09T21:57:07.534592Z"
    },
    "jupyter": {
     "source_hidden": true
    },
    "papermill": {
     "duration": 2.67876,
     "end_time": "2022-05-09T21:57:07.537541",
     "exception": false,
     "start_time": "2022-05-09T21:57:04.858781",
     "status": "completed"
    },
    "tags": [
     "remove_input"
    ]
   },
   "outputs": [],
   "source": [
    "df= pd.read_parquet(\"gs://calitp-analytics-data/data-analyses/dla/e-76Obligated/dla_df.parquet\")\n"
   ]
  },
  {
   "cell_type": "code",
   "execution_count": 5,
   "id": "be910f27-7608-4522-8d8d-ef93611cb748",
   "metadata": {
    "execution": {
     "iopub.execute_input": "2022-05-09T21:57:07.549812Z",
     "iopub.status.busy": "2022-05-09T21:57:07.549578Z",
     "iopub.status.idle": "2022-05-09T21:57:07.623139Z",
     "shell.execute_reply": "2022-05-09T21:57:07.622647Z"
    },
    "jupyter": {
     "source_hidden": true
    },
    "papermill": {
     "duration": 0.081593,
     "end_time": "2022-05-09T21:57:07.624920",
     "exception": false,
     "start_time": "2022-05-09T21:57:07.543327",
     "status": "completed"
    },
    "tags": [
     "remove_input"
    ]
   },
   "outputs": [],
   "source": [
    "df = (df>>filter(_.dist==district))\n",
    "    \n",
    "    \n",
    "#subsetting the data\n",
    "df_years = _dla_utils_reports.count_all_years(df)\n",
    "df_top = _dla_utils_reports.find_top(df)\n",
    "    "
   ]
  },
  {
   "cell_type": "code",
   "execution_count": 6,
   "id": "7f5ac0a1-a951-4072-8f85-d2c90290907f",
   "metadata": {
    "execution": {
     "iopub.execute_input": "2022-05-09T21:57:07.635643Z",
     "iopub.status.busy": "2022-05-09T21:57:07.635368Z",
     "iopub.status.idle": "2022-05-09T21:57:07.770244Z",
     "shell.execute_reply": "2022-05-09T21:57:07.769706Z"
    },
    "jupyter": {
     "source_hidden": true
    },
    "papermill": {
     "duration": 0.142713,
     "end_time": "2022-05-09T21:57:07.772703",
     "exception": false,
     "start_time": "2022-05-09T21:57:07.629990",
     "status": "completed"
    },
    "tags": [
     "remove_input"
    ]
   },
   "outputs": [
    {
     "data": {
      "text/html": [
       "<h2>Quick Stats</h2>"
      ],
      "text/plain": [
       "<IPython.core.display.HTML object>"
      ]
     },
     "metadata": {},
     "output_type": "display_data"
    },
    {
     "data": {
      "text/html": [
       "There are <strong>31 Unique Agencies</strong>"
      ],
      "text/plain": [
       "<IPython.core.display.HTML object>"
      ]
     },
     "metadata": {},
     "output_type": "display_data"
    },
    {
     "data": {
      "text/html": [
       "Out of <strong>958</strong> obligations, <strong>4 are transit-related</strong>."
      ],
      "text/plain": [
       "<IPython.core.display.HTML object>"
      ]
     },
     "metadata": {},
     "output_type": "display_data"
    },
    {
     "data": {
      "text/html": [
       "<strong>Chula Vista</strong> has the <strong>highest transit</strong> obligations"
      ],
      "text/plain": [
       "<IPython.core.display.HTML object>"
      ]
     },
     "metadata": {},
     "output_type": "display_data"
    },
    {
     "data": {
      "text/html": [
       "There are <strong>2 agencies have over 92.00</strong> obligations (95th percentile) since 2011.0"
      ],
      "text/plain": [
       "<IPython.core.display.HTML object>"
      ]
     },
     "metadata": {},
     "output_type": "display_data"
    },
    {
     "data": {
      "text/html": [
       "There are <strong>2 agencies have less than 2.00</strong> obligations (5th percentile) since 2011.0"
      ],
      "text/plain": [
       "<IPython.core.display.HTML object>"
      ]
     },
     "metadata": {},
     "output_type": "display_data"
    },
    {
     "data": {
      "text/html": [
       "<h4><strong>Number of Unique Prefix Codes by Agency</strong></h4>"
      ],
      "text/plain": [
       "<IPython.core.display.HTML object>"
      ]
     },
     "metadata": {},
     "output_type": "display_data"
    },
    {
     "data": {
      "text/html": [
       "<div>\n",
       "<style scoped>\n",
       "    .dataframe tbody tr th:only-of-type {\n",
       "        vertical-align: middle;\n",
       "    }\n",
       "\n",
       "    .dataframe tbody tr th {\n",
       "        vertical-align: top;\n",
       "    }\n",
       "\n",
       "    .dataframe thead th {\n",
       "        text-align: right;\n",
       "    }\n",
       "</style>\n",
       "<table border=\"1\" class=\"dataframe\">\n",
       "  <thead>\n",
       "    <tr style=\"text-align: right;\">\n",
       "      <th></th>\n",
       "      <th>Agency</th>\n",
       "      <th>Number of Unqiue Prefix Codes</th>\n",
       "    </tr>\n",
       "  </thead>\n",
       "  <tbody>\n",
       "    <tr>\n",
       "      <th>23</th>\n",
       "      <td>San Diego Association of Governments</td>\n",
       "      <td>20</td>\n",
       "    </tr>\n",
       "    <tr>\n",
       "      <th>15</th>\n",
       "      <td>Imperial County</td>\n",
       "      <td>19</td>\n",
       "    </tr>\n",
       "    <tr>\n",
       "      <th>22</th>\n",
       "      <td>San Diego</td>\n",
       "      <td>19</td>\n",
       "    </tr>\n",
       "    <tr>\n",
       "      <th>24</th>\n",
       "      <td>San Diego County</td>\n",
       "      <td>14</td>\n",
       "    </tr>\n",
       "    <tr>\n",
       "      <th>3</th>\n",
       "      <td>Caltrans</td>\n",
       "      <td>11</td>\n",
       "    </tr>\n",
       "  </tbody>\n",
       "</table>\n",
       "</div>"
      ],
      "text/plain": [
       "                                  Agency  Number of Unqiue Prefix Codes\n",
       "23  San Diego Association of Governments                             20\n",
       "15                       Imperial County                             19\n",
       "22                             San Diego                             19\n",
       "24                      San Diego County                             14\n",
       "3                               Caltrans                             11"
      ]
     },
     "metadata": {},
     "output_type": "display_data"
    },
    {
     "data": {
      "text/html": [
       "<h4><strong>Number of Unique Agencies by Prefix Codes</strong></h4>"
      ],
      "text/plain": [
       "<IPython.core.display.HTML object>"
      ]
     },
     "metadata": {},
     "output_type": "display_data"
    },
    {
     "data": {
      "text/html": [
       "<div>\n",
       "<style scoped>\n",
       "    .dataframe tbody tr th:only-of-type {\n",
       "        vertical-align: middle;\n",
       "    }\n",
       "\n",
       "    .dataframe tbody tr th {\n",
       "        vertical-align: top;\n",
       "    }\n",
       "\n",
       "    .dataframe thead th {\n",
       "        text-align: right;\n",
       "    }\n",
       "</style>\n",
       "<table border=\"1\" class=\"dataframe\">\n",
       "  <thead>\n",
       "    <tr style=\"text-align: right;\">\n",
       "      <th></th>\n",
       "      <th>Prefix</th>\n",
       "      <th>Number of Unqiue Agencies</th>\n",
       "    </tr>\n",
       "  </thead>\n",
       "  <tbody>\n",
       "    <tr>\n",
       "      <th>45</th>\n",
       "      <td>HSIPL</td>\n",
       "      <td>16</td>\n",
       "    </tr>\n",
       "    <tr>\n",
       "      <th>62</th>\n",
       "      <td>STPL</td>\n",
       "      <td>14</td>\n",
       "    </tr>\n",
       "    <tr>\n",
       "      <th>21</th>\n",
       "      <td>CML</td>\n",
       "      <td>12</td>\n",
       "    </tr>\n",
       "    <tr>\n",
       "      <th>33</th>\n",
       "      <td>FERPL</td>\n",
       "      <td>9</td>\n",
       "    </tr>\n",
       "    <tr>\n",
       "      <th>39</th>\n",
       "      <td>HPLU</td>\n",
       "      <td>8</td>\n",
       "    </tr>\n",
       "  </tbody>\n",
       "</table>\n",
       "</div>"
      ],
      "text/plain": [
       "   Prefix  Number of Unqiue Agencies\n",
       "45  HSIPL                         16\n",
       "62   STPL                         14\n",
       "21    CML                         12\n",
       "33  FERPL                          9\n",
       "39   HPLU                          8"
      ]
     },
     "metadata": {},
     "output_type": "display_data"
    },
    {
     "data": {
      "text/html": [
       "<h4><strong>Top 5 Types of Work</strong></h4>"
      ],
      "text/plain": [
       "<IPython.core.display.HTML object>"
      ]
     },
     "metadata": {},
     "output_type": "display_data"
    },
    {
     "data": {
      "text/html": [
       "<style type=\"text/css\">\n",
       "</style>\n",
       "<table id=\"T_bc047_\">\n",
       "  <thead>\n",
       "    <tr>\n",
       "      <th class=\"blank level0\" >&nbsp;</th>\n",
       "      <th class=\"col_heading level0 col0\" >Type of Work</th>\n",
       "    </tr>\n",
       "  </thead>\n",
       "  <tbody>\n",
       "    <tr>\n",
       "      <th id=\"T_bc047_level0_row0\" class=\"row_heading level0 row0\" >24</th>\n",
       "      <td id=\"T_bc047_row0_col0\" class=\"data row0 col0\" >Bridge Preventive Maintenance</td>\n",
       "    </tr>\n",
       "    <tr>\n",
       "      <th id=\"T_bc047_level0_row1\" class=\"row_heading level0 row1\" >116</th>\n",
       "      <td id=\"T_bc047_row1_col0\" class=\"data row1 col0\" >FTA Transfer</td>\n",
       "    </tr>\n",
       "    <tr>\n",
       "      <th id=\"T_bc047_level0_row2\" class=\"row_heading level0 row2\" >105</th>\n",
       "      <td id=\"T_bc047_row2_col0\" class=\"data row2 col0\" >Emergency Opening</td>\n",
       "    </tr>\n",
       "    <tr>\n",
       "      <th id=\"T_bc047_level0_row3\" class=\"row_heading level0 row3\" >378</th>\n",
       "      <td id=\"T_bc047_row3_col0\" class=\"data row3 col0\" >Upgrade Traffic Signals (interconnect)</td>\n",
       "    </tr>\n",
       "    <tr>\n",
       "      <th id=\"T_bc047_level0_row4\" class=\"row_heading level0 row4\" >29</th>\n",
       "      <td id=\"T_bc047_row4_col0\" class=\"data row4 col0\" >Bridge Replacement</td>\n",
       "    </tr>\n",
       "  </tbody>\n",
       "</table>\n"
      ],
      "text/plain": [
       "<pandas.io.formats.style.Styler at 0x7feff10c6950>"
      ]
     },
     "metadata": {},
     "output_type": "display_data"
    }
   ],
   "source": [
    "display(HTML(\"<h2>Quick Stats</h2>\"))\n",
    "\n",
    "display(\n",
    "    HTML(\n",
    "        f\"There are <strong>{(df.primary_agency_name.nunique())} Unique Agencies</strong>\"\n",
    "    )\n",
    ")\n",
    "\n",
    "transit = df >> filter(_.transit == 1)\n",
    "\n",
    "display(\n",
    "    HTML(\n",
    "        f\"Out of <strong>{len(df)}</strong> obligations, <strong>{len(transit)} are transit-related</strong>.\"\n",
    "    )\n",
    ")\n",
    "display(\n",
    "    HTML(\n",
    "        f\"<strong>{(transit>>count(_.primary_agency_name)>>arrange(-_.n)).iloc[0, 0]}</strong> has the <strong>highest transit</strong> obligations\"\n",
    "    )\n",
    ")\n",
    "\n",
    "q = df >> count(_.primary_agency_name) >> arrange(_.n)\n",
    "\n",
    "q2 = q.n.quantile(0.95)\n",
    "\n",
    "display(\n",
    "    HTML(\n",
    "        f\"There are <strong>{len(q>>filter(_.n> (q2)))} agencies have over {('%.2f'%(q2))}</strong> obligations (95th percentile) since {(df.prepared_y.min())}\"\n",
    "    )\n",
    ")\n",
    "\n",
    "q3 = q.n.quantile(0.1)\n",
    "display(\n",
    "    HTML(\n",
    "        (\n",
    "            f\"There are <strong>{len(q>>filter(_.n< (q3)))} agencies have less than {('%.2f'%(q3))}</strong> obligations (5th percentile) since {(df.prepared_y.min())}\"\n",
    "        )\n",
    "    )\n",
    ")\n",
    "\n",
    "## tables\n",
    "display(HTML(\"<h4><strong>Number of Unique Prefix Codes by Agency</strong></h4>\"))\n",
    "display(\n",
    "    (_dla_utils_reports.get_nunique(df, \"prefix\", \"primary_agency_name\"))\n",
    "    .rename(\n",
    "        columns={\"primary_agency_name\": \"Agency\", \"n\": \"Number of Unqiue Prefix Codes\"}\n",
    "    )\n",
    "    .head(5)\n",
    ")\n",
    "\n",
    "display(HTML(\"<h4><strong>Number of Unique Agencies by Prefix Codes</strong></h4>\"))\n",
    "display(\n",
    "    (_dla_utils_reports.get_nunique(df, \"primary_agency_name\", \"prefix\"))\n",
    "    .rename(columns={\"prefix\": \"Prefix\", \"n\": \"Number of Unqiue Agencies\"})\n",
    "    .head(5)\n",
    ")\n",
    "\n",
    "display(HTML(\"<h4><strong>Top 5 Types of Work</strong></h4>\"))\n",
    "work_types = (\n",
    "    (df >> count(_.type_of_work) >> arrange(-_.n) >> select(_.type_of_work))\n",
    "    .rename(columns={\"type_of_work\": \"Type of Work\"})\n",
    "    .head(5)\n",
    ")\n",
    "display(work_types.style)"
   ]
  },
  {
   "cell_type": "code",
   "execution_count": 7,
   "id": "88ad1708-b3c0-40b1-859c-67e50724b983",
   "metadata": {
    "execution": {
     "iopub.execute_input": "2022-05-09T21:57:07.785576Z",
     "iopub.status.busy": "2022-05-09T21:57:07.785280Z",
     "iopub.status.idle": "2022-05-09T21:57:07.790754Z",
     "shell.execute_reply": "2022-05-09T21:57:07.789762Z"
    },
    "jupyter": {
     "source_hidden": true
    },
    "papermill": {
     "duration": 0.014305,
     "end_time": "2022-05-09T21:57:07.792980",
     "exception": false,
     "start_time": "2022-05-09T21:57:07.778675",
     "status": "completed"
    },
    "tags": [
     "remove_input"
    ]
   },
   "outputs": [
    {
     "data": {
      "text/markdown": [
       "<h2> Number of Obligations </h2>"
      ],
      "text/plain": [
       "<IPython.core.display.Markdown object>"
      ]
     },
     "metadata": {},
     "output_type": "display_data"
    }
   ],
   "source": [
    " #Visual Charts\n",
    "\n",
    "display(Markdown(\"<h2> Number of Obligations </h2>\"))"
   ]
  },
  {
   "cell_type": "code",
   "execution_count": 8,
   "id": "ae85287b-0772-4595-8ea2-ccba83dd22cf",
   "metadata": {
    "execution": {
     "iopub.execute_input": "2022-05-09T21:57:07.807403Z",
     "iopub.status.busy": "2022-05-09T21:57:07.806854Z",
     "iopub.status.idle": "2022-05-09T21:57:07.888411Z",
     "shell.execute_reply": "2022-05-09T21:57:07.887815Z"
    },
    "jupyter": {
     "source_hidden": true
    },
    "papermill": {
     "duration": 0.09079,
     "end_time": "2022-05-09T21:57:07.890151",
     "exception": false,
     "start_time": "2022-05-09T21:57:07.799361",
     "status": "completed"
    },
    "tags": [
     "remove_input"
    ]
   },
   "outputs": [
    {
     "data": {
      "text/html": [
       "<h4><strong>Obligations by Year</strong></h4>"
      ],
      "text/plain": [
       "<IPython.core.display.HTML object>"
      ]
     },
     "metadata": {},
     "output_type": "display_data"
    },
    {
     "data": {
      "text/html": [
       "\n",
       "<div id=\"altair-viz-08728f06311447d7a91f30ca518d3f16\"></div>\n",
       "<script type=\"text/javascript\">\n",
       "  var VEGA_DEBUG = (typeof VEGA_DEBUG == \"undefined\") ? {} : VEGA_DEBUG;\n",
       "  (function(spec, embedOpt){\n",
       "    let outputDiv = document.currentScript.previousElementSibling;\n",
       "    if (outputDiv.id !== \"altair-viz-08728f06311447d7a91f30ca518d3f16\") {\n",
       "      outputDiv = document.getElementById(\"altair-viz-08728f06311447d7a91f30ca518d3f16\");\n",
       "    }\n",
       "    const paths = {\n",
       "      \"vega\": \"https://cdn.jsdelivr.net/npm//vega@5?noext\",\n",
       "      \"vega-lib\": \"https://cdn.jsdelivr.net/npm//vega-lib?noext\",\n",
       "      \"vega-lite\": \"https://cdn.jsdelivr.net/npm//vega-lite@4.17.0?noext\",\n",
       "      \"vega-embed\": \"https://cdn.jsdelivr.net/npm//vega-embed@6?noext\",\n",
       "    };\n",
       "\n",
       "    function maybeLoadScript(lib, version) {\n",
       "      var key = `${lib.replace(\"-\", \"\")}_version`;\n",
       "      return (VEGA_DEBUG[key] == version) ?\n",
       "        Promise.resolve(paths[lib]) :\n",
       "        new Promise(function(resolve, reject) {\n",
       "          var s = document.createElement('script');\n",
       "          document.getElementsByTagName(\"head\")[0].appendChild(s);\n",
       "          s.async = true;\n",
       "          s.onload = () => {\n",
       "            VEGA_DEBUG[key] = version;\n",
       "            return resolve(paths[lib]);\n",
       "          };\n",
       "          s.onerror = () => reject(`Error loading script: ${paths[lib]}`);\n",
       "          s.src = paths[lib];\n",
       "        });\n",
       "    }\n",
       "\n",
       "    function showError(err) {\n",
       "      outputDiv.innerHTML = `<div class=\"error\" style=\"color:red;\">${err}</div>`;\n",
       "      throw err;\n",
       "    }\n",
       "\n",
       "    function displayChart(vegaEmbed) {\n",
       "      vegaEmbed(outputDiv, spec, embedOpt)\n",
       "        .catch(err => showError(`Javascript Error: ${err.message}<br>This usually means there's a typo in your chart specification. See the javascript console for the full traceback.`));\n",
       "    }\n",
       "\n",
       "    if(typeof define === \"function\" && define.amd) {\n",
       "      requirejs.config({paths});\n",
       "      require([\"vega-embed\"], displayChart, err => showError(`Error loading script: ${err.message}`));\n",
       "    } else {\n",
       "      maybeLoadScript(\"vega\", \"5\")\n",
       "        .then(() => maybeLoadScript(\"vega-lite\", \"4.17.0\"))\n",
       "        .then(() => maybeLoadScript(\"vega-embed\", \"6\"))\n",
       "        .catch(showError)\n",
       "        .then(() => displayChart(vegaEmbed));\n",
       "    }\n",
       "  })({\"config\": {\"view\": {\"continuousWidth\": 400, \"continuousHeight\": 300}, \"axis\": {\"domainColor\": \"#cbcbcb\", \"grid\": true, \"gridColor\": \"#cbcbcb\", \"gridWidth\": 1, \"labelColor\": \"#474747\", \"labelFont\": \"Nunito Sans\", \"labelFontSize\": 10, \"labelPadding\": 4, \"tickColor\": \"#cbcbcb\", \"tickSize\": 10, \"titleColor\": \"#333\", \"titleFont\": \"Raleway\", \"titleFontSize\": 12, \"titlePadding\": 10}, \"axisBand\": {\"grid\": false}, \"background\": \"white\", \"font\": \"Raleway\", \"header\": {\"labelFont\": \"Nunito Sans\", \"titleFont\": \"Raleway\"}, \"legend\": {\"labelColor\": \"#333\", \"labelFont\": \"Nunito Sans\", \"labelFontSize\": 11, \"labelLimit\": 0, \"padding\": 1, \"symbolSize\": 30, \"symbolType\": \"square\", \"titleColor\": \"#333\", \"titleFont\": \"Raleway\", \"titleFontSize\": 14, \"titlePadding\": 10}, \"title\": {\"anchor\": \"middle\", \"font\": \"Raleway\", \"fontSize\": 18, \"fontWeight\": 300, \"offset\": 20}}, \"data\": {\"name\": \"data-ddacb47622a87baf8e803a4da68110a8\"}, \"mark\": \"line\", \"encoding\": {\"tooltip\": [{\"field\": \"Year\", \"type\": \"quantitative\"}, {\"field\": \"count\", \"type\": \"quantitative\"}], \"x\": {\"field\": \"Year\", \"title\": \"Prepared Year\", \"type\": \"ordinal\"}, \"y\": {\"field\": \"count\", \"title\": \"Count\", \"type\": \"quantitative\"}}, \"height\": 250, \"width\": 400, \"$schema\": \"https://vega.github.io/schema/vega-lite/v4.17.0.json\", \"datasets\": {\"data-ddacb47622a87baf8e803a4da68110a8\": [{\"Year\": 2020.0, \"count\": 129, \"variable\": \"prepared_y\"}, {\"Year\": 2014.0, \"count\": 125, \"variable\": \"prepared_y\"}, {\"Year\": 2015.0, \"count\": 125, \"variable\": \"prepared_y\"}, {\"Year\": 2016.0, \"count\": 122, \"variable\": \"prepared_y\"}, {\"Year\": 2019.0, \"count\": 109, \"variable\": \"prepared_y\"}, {\"Year\": 2021.0, \"count\": 107, \"variable\": \"prepared_y\"}, {\"Year\": 2018.0, \"count\": 104, \"variable\": \"prepared_y\"}, {\"Year\": 2017.0, \"count\": 102, \"variable\": \"prepared_y\"}, {\"Year\": 2022.0, \"count\": 24, \"variable\": \"prepared_y\"}, {\"Year\": 2013.0, \"count\": 9, \"variable\": \"prepared_y\"}, {\"Year\": 2011.0, \"count\": 1, \"variable\": \"prepared_y\"}]}}, {\"mode\": \"vega-lite\"});\n",
       "</script>"
      ],
      "text/plain": [
       "alt.Chart(...)"
      ]
     },
     "metadata": {},
     "output_type": "display_data"
    }
   ],
   "source": [
    " #Line chart for Obligations by Year\n",
    "chart_df = (df_top>>filter(_.variable=='prepared_y')).rename(columns= {\"value\":\"Year\"})\n",
    "    \n",
    "chart1= (_dla_utils_reports.basic_line_chart_test_no_save(chart_df, 'Year', 'count', district)).encode(x=alt.X('Year:O', title='Prepared Year'))\n",
    "    \n",
    "display(HTML(\"<h4><strong>Obligations by Year</strong></h4>\"))\n",
    "display(chart1)"
   ]
  },
  {
   "cell_type": "code",
   "execution_count": 9,
   "id": "0bc7e34d-545e-4afd-92e9-a17630d0ae89",
   "metadata": {
    "execution": {
     "iopub.execute_input": "2022-05-09T21:57:07.904671Z",
     "iopub.status.busy": "2022-05-09T21:57:07.904467Z",
     "iopub.status.idle": "2022-05-09T21:57:08.007060Z",
     "shell.execute_reply": "2022-05-09T21:57:08.006398Z"
    },
    "jupyter": {
     "source_hidden": true
    },
    "papermill": {
     "duration": 0.112246,
     "end_time": "2022-05-09T21:57:08.008911",
     "exception": false,
     "start_time": "2022-05-09T21:57:07.896665",
     "status": "completed"
    },
    "tags": [
     "remove_input"
    ]
   },
   "outputs": [
    {
     "data": {
      "text/html": [
       "<h4><strong>Number of Unique Agencies by District</strong></h4>"
      ],
      "text/plain": [
       "<IPython.core.display.HTML object>"
      ]
     },
     "metadata": {},
     "output_type": "display_data"
    },
    {
     "data": {
      "text/html": [
       "\n",
       "<div id=\"altair-viz-1265e94a752742d1859774bbf3555c5c\"></div>\n",
       "<script type=\"text/javascript\">\n",
       "  var VEGA_DEBUG = (typeof VEGA_DEBUG == \"undefined\") ? {} : VEGA_DEBUG;\n",
       "  (function(spec, embedOpt){\n",
       "    let outputDiv = document.currentScript.previousElementSibling;\n",
       "    if (outputDiv.id !== \"altair-viz-1265e94a752742d1859774bbf3555c5c\") {\n",
       "      outputDiv = document.getElementById(\"altair-viz-1265e94a752742d1859774bbf3555c5c\");\n",
       "    }\n",
       "    const paths = {\n",
       "      \"vega\": \"https://cdn.jsdelivr.net/npm//vega@5?noext\",\n",
       "      \"vega-lib\": \"https://cdn.jsdelivr.net/npm//vega-lib?noext\",\n",
       "      \"vega-lite\": \"https://cdn.jsdelivr.net/npm//vega-lite@4.17.0?noext\",\n",
       "      \"vega-embed\": \"https://cdn.jsdelivr.net/npm//vega-embed@6?noext\",\n",
       "    };\n",
       "\n",
       "    function maybeLoadScript(lib, version) {\n",
       "      var key = `${lib.replace(\"-\", \"\")}_version`;\n",
       "      return (VEGA_DEBUG[key] == version) ?\n",
       "        Promise.resolve(paths[lib]) :\n",
       "        new Promise(function(resolve, reject) {\n",
       "          var s = document.createElement('script');\n",
       "          document.getElementsByTagName(\"head\")[0].appendChild(s);\n",
       "          s.async = true;\n",
       "          s.onload = () => {\n",
       "            VEGA_DEBUG[key] = version;\n",
       "            return resolve(paths[lib]);\n",
       "          };\n",
       "          s.onerror = () => reject(`Error loading script: ${paths[lib]}`);\n",
       "          s.src = paths[lib];\n",
       "        });\n",
       "    }\n",
       "\n",
       "    function showError(err) {\n",
       "      outputDiv.innerHTML = `<div class=\"error\" style=\"color:red;\">${err}</div>`;\n",
       "      throw err;\n",
       "    }\n",
       "\n",
       "    function displayChart(vegaEmbed) {\n",
       "      vegaEmbed(outputDiv, spec, embedOpt)\n",
       "        .catch(err => showError(`Javascript Error: ${err.message}<br>This usually means there's a typo in your chart specification. See the javascript console for the full traceback.`));\n",
       "    }\n",
       "\n",
       "    if(typeof define === \"function\" && define.amd) {\n",
       "      requirejs.config({paths});\n",
       "      require([\"vega-embed\"], displayChart, err => showError(`Error loading script: ${err.message}`));\n",
       "    } else {\n",
       "      maybeLoadScript(\"vega\", \"5\")\n",
       "        .then(() => maybeLoadScript(\"vega-lite\", \"4.17.0\"))\n",
       "        .then(() => maybeLoadScript(\"vega-embed\", \"6\"))\n",
       "        .catch(showError)\n",
       "        .then(() => displayChart(vegaEmbed));\n",
       "    }\n",
       "  })({\"config\": {\"view\": {\"continuousWidth\": 400, \"continuousHeight\": 300}, \"axis\": {\"domainColor\": \"#cbcbcb\", \"grid\": true, \"gridColor\": \"#cbcbcb\", \"gridWidth\": 1, \"labelColor\": \"#474747\", \"labelFont\": \"Nunito Sans\", \"labelFontSize\": 10, \"labelPadding\": 4, \"tickColor\": \"#cbcbcb\", \"tickSize\": 10, \"titleColor\": \"#333\", \"titleFont\": \"Raleway\", \"titleFontSize\": 12, \"titlePadding\": 10}, \"axisBand\": {\"grid\": false}, \"background\": \"white\", \"font\": \"Raleway\", \"header\": {\"labelFont\": \"Nunito Sans\", \"titleFont\": \"Raleway\"}, \"legend\": {\"labelColor\": \"#333\", \"labelFont\": \"Nunito Sans\", \"labelFontSize\": 11, \"labelLimit\": 0, \"padding\": 1, \"symbolSize\": 30, \"symbolType\": \"square\", \"titleColor\": \"#333\", \"titleFont\": \"Raleway\", \"titleFontSize\": 14, \"titlePadding\": 10}, \"title\": {\"anchor\": \"middle\", \"font\": \"Raleway\", \"fontSize\": 18, \"fontWeight\": 300, \"offset\": 20}}, \"data\": {\"name\": \"data-62557f1d28ac4db01b0e5b41f06ad900\"}, \"mark\": \"bar\", \"encoding\": {\"color\": {\"field\": \"District\", \"legend\": {\"title\": \"Prepared Year\"}, \"scale\": {\"range\": [\"#B9D6DF\", \"#8CBCCB\", \"#2EA8CE\", \"#136C97\", \"#0B405B\"]}, \"type\": \"nominal\"}, \"column\": {\"field\": \"District\", \"type\": \"nominal\"}, \"tooltip\": [{\"field\": \"prepared_y\", \"type\": \"quantitative\"}, {\"field\": \"Count\", \"type\": \"quantitative\"}], \"x\": {\"field\": \"prepared_y\", \"title\": \"Prepared Year\", \"type\": \"ordinal\"}, \"y\": {\"field\": \"Count\", \"title\": \"Number of Unique Agencies\", \"type\": \"quantitative\"}}, \"height\": 250, \"width\": 400, \"$schema\": \"https://vega.github.io/schema/vega-lite/v4.17.0.json\", \"datasets\": {\"data-62557f1d28ac4db01b0e5b41f06ad900\": [{\"prepared_y\": 2022.0, \"District\": 11, \"Count\": 13}, {\"prepared_y\": 2021.0, \"District\": 11, \"Count\": 22}, {\"prepared_y\": 2020.0, \"District\": 11, \"Count\": 23}, {\"prepared_y\": 2019.0, \"District\": 11, \"Count\": 22}, {\"prepared_y\": 2018.0, \"District\": 11, \"Count\": 21}, {\"prepared_y\": 2017.0, \"District\": 11, \"Count\": 25}, {\"prepared_y\": 2016.0, \"District\": 11, \"Count\": 23}, {\"prepared_y\": 2015.0, \"District\": 11, \"Count\": 21}, {\"prepared_y\": 2014.0, \"District\": 11, \"Count\": 25}, {\"prepared_y\": 2013.0, \"District\": 11, \"Count\": 8}, {\"prepared_y\": 2011.0, \"District\": 11, \"Count\": 1}]}}, {\"mode\": \"vega-lite\"});\n",
       "</script>"
      ],
      "text/plain": [
       "alt.Chart(...)"
      ]
     },
     "metadata": {},
     "output_type": "display_data"
    }
   ],
   "source": [
    "# Unique Agencies by Dist\n",
    "dist_years_agency = ((\n",
    "        df\n",
    "        >> group_by(_.prepared_y, _.dist)\n",
    "        >> summarize(n=_.primary_agency_name.nunique())\n",
    "        >> arrange(-_.prepared_y)\n",
    "    )\n",
    "        .rename(columns={'dist':'District', 'n':'Count'})\n",
    "    )\n",
    "chart10 = (alt.Chart(dist_years_agency).mark_bar().encode(\n",
    "        column='District:N',\n",
    "        x=alt.X('prepared_y:O', title='Prepared Year'),\n",
    "        y=alt.Y('Count:Q', title='Number of Unique Agencies'),\n",
    "        color = alt.Color(\"District:N\", \n",
    "                              scale=alt.Scale(\n",
    "                                  range=altair_utils.CALITP_SEQUENTIAL_COLORS),  \n",
    "                               legend=alt.Legend(title=\"Prepared Year\")\n",
    "                              )))\n",
    "                              \n",
    "chart10 = styleguide.preset_chart_config(chart10)\n",
    "chart10 = _dla_utils_reports.add_tooltip(chart10, 'prepared_y', 'Count')\n",
    "    \n",
    "display(HTML(\"<h4><strong>Number of Unique Agencies by District</strong></h4>\"))\n",
    "display(chart10)"
   ]
  },
  {
   "cell_type": "code",
   "execution_count": 10,
   "id": "faa4758e-8a41-44f8-aec4-b8cc4d75d906",
   "metadata": {
    "execution": {
     "iopub.execute_input": "2022-05-09T21:57:08.028462Z",
     "iopub.status.busy": "2022-05-09T21:57:08.028181Z",
     "iopub.status.idle": "2022-05-09T21:57:08.110702Z",
     "shell.execute_reply": "2022-05-09T21:57:08.110209Z"
    },
    "jupyter": {
     "source_hidden": true
    },
    "papermill": {
     "duration": 0.096268,
     "end_time": "2022-05-09T21:57:08.112447",
     "exception": false,
     "start_time": "2022-05-09T21:57:08.016179",
     "status": "completed"
    },
    "tags": [
     "remove_input"
    ]
   },
   "outputs": [
    {
     "data": {
      "text/html": [
       "<h4><strong>Agencies With The Most Obligations</strong></h4>"
      ],
      "text/plain": [
       "<IPython.core.display.HTML object>"
      ]
     },
     "metadata": {},
     "output_type": "display_data"
    },
    {
     "data": {
      "text/html": [
       "\n",
       "<div id=\"altair-viz-dfa1b78fa6954d829478834e8ffdd6af\"></div>\n",
       "<script type=\"text/javascript\">\n",
       "  var VEGA_DEBUG = (typeof VEGA_DEBUG == \"undefined\") ? {} : VEGA_DEBUG;\n",
       "  (function(spec, embedOpt){\n",
       "    let outputDiv = document.currentScript.previousElementSibling;\n",
       "    if (outputDiv.id !== \"altair-viz-dfa1b78fa6954d829478834e8ffdd6af\") {\n",
       "      outputDiv = document.getElementById(\"altair-viz-dfa1b78fa6954d829478834e8ffdd6af\");\n",
       "    }\n",
       "    const paths = {\n",
       "      \"vega\": \"https://cdn.jsdelivr.net/npm//vega@5?noext\",\n",
       "      \"vega-lib\": \"https://cdn.jsdelivr.net/npm//vega-lib?noext\",\n",
       "      \"vega-lite\": \"https://cdn.jsdelivr.net/npm//vega-lite@4.17.0?noext\",\n",
       "      \"vega-embed\": \"https://cdn.jsdelivr.net/npm//vega-embed@6?noext\",\n",
       "    };\n",
       "\n",
       "    function maybeLoadScript(lib, version) {\n",
       "      var key = `${lib.replace(\"-\", \"\")}_version`;\n",
       "      return (VEGA_DEBUG[key] == version) ?\n",
       "        Promise.resolve(paths[lib]) :\n",
       "        new Promise(function(resolve, reject) {\n",
       "          var s = document.createElement('script');\n",
       "          document.getElementsByTagName(\"head\")[0].appendChild(s);\n",
       "          s.async = true;\n",
       "          s.onload = () => {\n",
       "            VEGA_DEBUG[key] = version;\n",
       "            return resolve(paths[lib]);\n",
       "          };\n",
       "          s.onerror = () => reject(`Error loading script: ${paths[lib]}`);\n",
       "          s.src = paths[lib];\n",
       "        });\n",
       "    }\n",
       "\n",
       "    function showError(err) {\n",
       "      outputDiv.innerHTML = `<div class=\"error\" style=\"color:red;\">${err}</div>`;\n",
       "      throw err;\n",
       "    }\n",
       "\n",
       "    function displayChart(vegaEmbed) {\n",
       "      vegaEmbed(outputDiv, spec, embedOpt)\n",
       "        .catch(err => showError(`Javascript Error: ${err.message}<br>This usually means there's a typo in your chart specification. See the javascript console for the full traceback.`));\n",
       "    }\n",
       "\n",
       "    if(typeof define === \"function\" && define.amd) {\n",
       "      requirejs.config({paths});\n",
       "      require([\"vega-embed\"], displayChart, err => showError(`Error loading script: ${err.message}`));\n",
       "    } else {\n",
       "      maybeLoadScript(\"vega\", \"5\")\n",
       "        .then(() => maybeLoadScript(\"vega-lite\", \"4.17.0\"))\n",
       "        .then(() => maybeLoadScript(\"vega-embed\", \"6\"))\n",
       "        .catch(showError)\n",
       "        .then(() => displayChart(vegaEmbed));\n",
       "    }\n",
       "  })({\"config\": {\"view\": {\"continuousWidth\": 400, \"continuousHeight\": 300}, \"axis\": {\"domainColor\": \"#cbcbcb\", \"grid\": true, \"gridColor\": \"#cbcbcb\", \"gridWidth\": 1, \"labelColor\": \"#474747\", \"labelFont\": \"Nunito Sans\", \"labelFontSize\": 10, \"labelPadding\": 4, \"tickColor\": \"#cbcbcb\", \"tickSize\": 10, \"titleColor\": \"#333\", \"titleFont\": \"Raleway\", \"titleFontSize\": 12, \"titlePadding\": 10}, \"axisBand\": {\"grid\": false}, \"background\": \"white\", \"font\": \"Raleway\", \"header\": {\"labelFont\": \"Nunito Sans\", \"titleFont\": \"Raleway\"}, \"legend\": {\"labelColor\": \"#333\", \"labelFont\": \"Nunito Sans\", \"labelFontSize\": 11, \"labelLimit\": 0, \"padding\": 1, \"symbolSize\": 30, \"symbolType\": \"square\", \"titleColor\": \"#333\", \"titleFont\": \"Raleway\", \"titleFontSize\": 14, \"titlePadding\": 10}, \"title\": {\"anchor\": \"middle\", \"font\": \"Raleway\", \"fontSize\": 18, \"fontWeight\": 300, \"offset\": 20}}, \"data\": {\"name\": \"data-106cdd9bdec4982209897621c6db9270\"}, \"mark\": \"bar\", \"encoding\": {\"color\": {\"field\": \"Agency\", \"legend\": {\"symbolLimit\": 10, \"title\": \"Agency\"}, \"scale\": {\"range\": [\"#2EA8CE\", \"#EB9F3C\", \"#F4D837\", \"#51BF9D\", \"#8CBCCB\", \"#9487C0\"]}, \"type\": \"nominal\"}, \"tooltip\": [{\"field\": \"Agency\", \"type\": \"nominal\"}, {\"field\": \"Number of Obligations\", \"type\": \"quantitative\"}], \"x\": {\"field\": \"Agency\", \"sort\": \"-y\", \"title\": \"Agency\", \"type\": \"nominal\"}, \"y\": {\"field\": \"Number of Obligations\", \"title\": \"Number Of Obligations\", \"type\": \"quantitative\"}}, \"height\": 250, \"width\": 400, \"$schema\": \"https://vega.github.io/schema/vega-lite/v4.17.0.json\", \"datasets\": {\"data-106cdd9bdec4982209897621c6db9270\": [{\"Agency\": \"San Diego County\", \"Number of Obligations\": 104, \"variable\": \"primary_agency_name\"}, {\"Agency\": \"San Diego Association of Governments\", \"Number of Obligations\": 101, \"variable\": \"primary_agency_name\"}, {\"Agency\": \"Imperial County\", \"Number of Obligations\": 83, \"variable\": \"primary_agency_name\"}, {\"Agency\": \"San Diego\", \"Number of Obligations\": 76, \"variable\": \"primary_agency_name\"}, {\"Agency\": \"Chula Vista\", \"Number of Obligations\": 66, \"variable\": \"primary_agency_name\"}, {\"Agency\": \"National City\", \"Number of Obligations\": 45, \"variable\": \"primary_agency_name\"}, {\"Agency\": \"San Marcos\", \"Number of Obligations\": 41, \"variable\": \"primary_agency_name\"}, {\"Agency\": \"El Cajon\", \"Number of Obligations\": 40, \"variable\": \"primary_agency_name\"}, {\"Agency\": \"Brawley\", \"Number of Obligations\": 36, \"variable\": \"primary_agency_name\"}, {\"Agency\": \"Encinitas\", \"Number of Obligations\": 35, \"variable\": \"primary_agency_name\"}, {\"Agency\": \"Holtville\", \"Number of Obligations\": 35, \"variable\": \"primary_agency_name\"}, {\"Agency\": \"La Mesa\", \"Number of Obligations\": 35, \"variable\": \"primary_agency_name\"}, {\"Agency\": \"El Centro\", \"Number of Obligations\": 34, \"variable\": \"primary_agency_name\"}, {\"Agency\": \"Santee\", \"Number of Obligations\": 32, \"variable\": \"primary_agency_name\"}, {\"Agency\": \"Caltrans\", \"Number of Obligations\": 29, \"variable\": \"primary_agency_name\"}, {\"Agency\": \"Imperial\", \"Number of Obligations\": 26, \"variable\": \"primary_agency_name\"}, {\"Agency\": \"Calipatria\", \"Number of Obligations\": 23, \"variable\": \"primary_agency_name\"}, {\"Agency\": \"Vista\", \"Number of Obligations\": 22, \"variable\": \"primary_agency_name\"}, {\"Agency\": \"Carlsbad\", \"Number of Obligations\": 14, \"variable\": \"primary_agency_name\"}, {\"Agency\": \"Oceanside\", \"Number of Obligations\": 14, \"variable\": \"primary_agency_name\"}]}}, {\"mode\": \"vega-lite\"});\n",
       "</script>"
      ],
      "text/plain": [
       "alt.Chart(...)"
      ]
     },
     "metadata": {},
     "output_type": "display_data"
    }
   ],
   "source": [
    "#Bar chart Agencies With The Most Obligations\n",
    "chart_df = (df_top>>filter(_.variable=='primary_agency_name')).rename(columns={\"value\":\"Agency\",\n",
    "                                 \"count\":\"Number of Obligations\"})\n",
    "chart2 = (_dla_utils_reports.basic_bar_chart_no_save(chart_df, 'Agency', 'Number of Obligations', 'Agency', district))\n",
    "    \n",
    "display(HTML(\"<h4><strong>Agencies With The Most Obligations</strong></h4>\"))\n",
    "display(chart2)\n"
   ]
  },
  {
   "cell_type": "code",
   "execution_count": 11,
   "id": "7e78de32-e647-4823-905f-da3ad190a248",
   "metadata": {
    "execution": {
     "iopub.execute_input": "2022-05-09T21:57:08.128751Z",
     "iopub.status.busy": "2022-05-09T21:57:08.128519Z",
     "iopub.status.idle": "2022-05-09T21:57:08.133014Z",
     "shell.execute_reply": "2022-05-09T21:57:08.132264Z"
    },
    "jupyter": {
     "source_hidden": true
    },
    "papermill": {
     "duration": 0.014911,
     "end_time": "2022-05-09T21:57:08.135221",
     "exception": false,
     "start_time": "2022-05-09T21:57:08.120310",
     "status": "completed"
    },
    "tags": [
     "remove_input"
    ]
   },
   "outputs": [
    {
     "data": {
      "text/html": [
       "<h2>Prefix Codes</h2>"
      ],
      "text/plain": [
       "<IPython.core.display.HTML object>"
      ]
     },
     "metadata": {},
     "output_type": "display_data"
    }
   ],
   "source": [
    "display(HTML(\"<h2>Prefix Codes</h2>\"))"
   ]
  },
  {
   "cell_type": "code",
   "execution_count": 12,
   "id": "f661bd63-f8aa-4048-b035-03d5bf1b7e95",
   "metadata": {
    "execution": {
     "iopub.execute_input": "2022-05-09T21:57:08.152890Z",
     "iopub.status.busy": "2022-05-09T21:57:08.152657Z",
     "iopub.status.idle": "2022-05-09T21:57:08.247251Z",
     "shell.execute_reply": "2022-05-09T21:57:08.246820Z"
    },
    "jupyter": {
     "source_hidden": true
    },
    "papermill": {
     "duration": 0.105257,
     "end_time": "2022-05-09T21:57:08.248894",
     "exception": false,
     "start_time": "2022-05-09T21:57:08.143637",
     "status": "completed"
    },
    "tags": [
     "remove_input"
    ]
   },
   "outputs": [
    {
     "data": {
      "text/html": [
       "<h4><strong>Number of Unique Prefix Codes by District</strong></h4>"
      ],
      "text/plain": [
       "<IPython.core.display.HTML object>"
      ]
     },
     "metadata": {},
     "output_type": "display_data"
    },
    {
     "data": {
      "text/html": [
       "\n",
       "<div id=\"altair-viz-3cfe9ee42edb483aa2a5e1f0e7d76381\"></div>\n",
       "<script type=\"text/javascript\">\n",
       "  var VEGA_DEBUG = (typeof VEGA_DEBUG == \"undefined\") ? {} : VEGA_DEBUG;\n",
       "  (function(spec, embedOpt){\n",
       "    let outputDiv = document.currentScript.previousElementSibling;\n",
       "    if (outputDiv.id !== \"altair-viz-3cfe9ee42edb483aa2a5e1f0e7d76381\") {\n",
       "      outputDiv = document.getElementById(\"altair-viz-3cfe9ee42edb483aa2a5e1f0e7d76381\");\n",
       "    }\n",
       "    const paths = {\n",
       "      \"vega\": \"https://cdn.jsdelivr.net/npm//vega@5?noext\",\n",
       "      \"vega-lib\": \"https://cdn.jsdelivr.net/npm//vega-lib?noext\",\n",
       "      \"vega-lite\": \"https://cdn.jsdelivr.net/npm//vega-lite@4.17.0?noext\",\n",
       "      \"vega-embed\": \"https://cdn.jsdelivr.net/npm//vega-embed@6?noext\",\n",
       "    };\n",
       "\n",
       "    function maybeLoadScript(lib, version) {\n",
       "      var key = `${lib.replace(\"-\", \"\")}_version`;\n",
       "      return (VEGA_DEBUG[key] == version) ?\n",
       "        Promise.resolve(paths[lib]) :\n",
       "        new Promise(function(resolve, reject) {\n",
       "          var s = document.createElement('script');\n",
       "          document.getElementsByTagName(\"head\")[0].appendChild(s);\n",
       "          s.async = true;\n",
       "          s.onload = () => {\n",
       "            VEGA_DEBUG[key] = version;\n",
       "            return resolve(paths[lib]);\n",
       "          };\n",
       "          s.onerror = () => reject(`Error loading script: ${paths[lib]}`);\n",
       "          s.src = paths[lib];\n",
       "        });\n",
       "    }\n",
       "\n",
       "    function showError(err) {\n",
       "      outputDiv.innerHTML = `<div class=\"error\" style=\"color:red;\">${err}</div>`;\n",
       "      throw err;\n",
       "    }\n",
       "\n",
       "    function displayChart(vegaEmbed) {\n",
       "      vegaEmbed(outputDiv, spec, embedOpt)\n",
       "        .catch(err => showError(`Javascript Error: ${err.message}<br>This usually means there's a typo in your chart specification. See the javascript console for the full traceback.`));\n",
       "    }\n",
       "\n",
       "    if(typeof define === \"function\" && define.amd) {\n",
       "      requirejs.config({paths});\n",
       "      require([\"vega-embed\"], displayChart, err => showError(`Error loading script: ${err.message}`));\n",
       "    } else {\n",
       "      maybeLoadScript(\"vega\", \"5\")\n",
       "        .then(() => maybeLoadScript(\"vega-lite\", \"4.17.0\"))\n",
       "        .then(() => maybeLoadScript(\"vega-embed\", \"6\"))\n",
       "        .catch(showError)\n",
       "        .then(() => displayChart(vegaEmbed));\n",
       "    }\n",
       "  })({\"config\": {\"view\": {\"continuousWidth\": 400, \"continuousHeight\": 300}, \"axis\": {\"domainColor\": \"#cbcbcb\", \"grid\": true, \"gridColor\": \"#cbcbcb\", \"gridWidth\": 1, \"labelColor\": \"#474747\", \"labelFont\": \"Nunito Sans\", \"labelFontSize\": 10, \"labelPadding\": 4, \"tickColor\": \"#cbcbcb\", \"tickSize\": 10, \"titleColor\": \"#333\", \"titleFont\": \"Raleway\", \"titleFontSize\": 12, \"titlePadding\": 10}, \"axisBand\": {\"grid\": false}, \"background\": \"white\", \"font\": \"Raleway\", \"header\": {\"labelFont\": \"Nunito Sans\", \"titleFont\": \"Raleway\"}, \"legend\": {\"labelColor\": \"#333\", \"labelFont\": \"Nunito Sans\", \"labelFontSize\": 11, \"labelLimit\": 0, \"padding\": 1, \"symbolSize\": 30, \"symbolType\": \"square\", \"titleColor\": \"#333\", \"titleFont\": \"Raleway\", \"titleFontSize\": 14, \"titlePadding\": 10}, \"title\": {\"anchor\": \"middle\", \"font\": \"Raleway\", \"fontSize\": 18, \"fontWeight\": 300, \"offset\": 20}}, \"data\": {\"name\": \"data-99c8bc4921f978ca25e99cea33a2f429\"}, \"mark\": \"bar\", \"encoding\": {\"color\": {\"field\": \"District\", \"legend\": {\"title\": \"District\"}, \"scale\": {\"range\": [\"#B9D6DF\", \"#8CBCCB\", \"#2EA8CE\", \"#136C97\", \"#0B405B\"]}, \"type\": \"nominal\"}, \"column\": {\"field\": \"District\", \"type\": \"nominal\"}, \"tooltip\": [{\"field\": \"prepared_y\", \"type\": \"quantitative\"}, {\"field\": \"Count\", \"type\": \"quantitative\"}], \"x\": {\"field\": \"prepared_y\", \"title\": \"Prepared Year\", \"type\": \"ordinal\"}, \"y\": {\"field\": \"Count\", \"title\": \"Number of Unique Agencies\", \"type\": \"quantitative\"}}, \"height\": 250, \"width\": 400, \"$schema\": \"https://vega.github.io/schema/vega-lite/v4.17.0.json\", \"datasets\": {\"data-99c8bc4921f978ca25e99cea33a2f429\": [{\"prepared_y\": 2022.0, \"District\": 11, \"Count\": 11}, {\"prepared_y\": 2021.0, \"District\": 11, \"Count\": 25}, {\"prepared_y\": 2020.0, \"District\": 11, \"Count\": 27}, {\"prepared_y\": 2019.0, \"District\": 11, \"Count\": 22}, {\"prepared_y\": 2018.0, \"District\": 11, \"Count\": 29}, {\"prepared_y\": 2017.0, \"District\": 11, \"Count\": 22}, {\"prepared_y\": 2016.0, \"District\": 11, \"Count\": 29}, {\"prepared_y\": 2015.0, \"District\": 11, \"Count\": 28}, {\"prepared_y\": 2014.0, \"District\": 11, \"Count\": 29}, {\"prepared_y\": 2013.0, \"District\": 11, \"Count\": 7}, {\"prepared_y\": 2011.0, \"District\": 11, \"Count\": 1}]}}, {\"mode\": \"vega-lite\"});\n",
       "</script>"
      ],
      "text/plain": [
       "alt.Chart(...)"
      ]
     },
     "metadata": {},
     "output_type": "display_data"
    }
   ],
   "source": [
    "#Unique Prefixes by Dist\n",
    "dist_years_prefix = ((\n",
    "        df\n",
    "        >> group_by(_.prepared_y, _.dist)\n",
    "        >> summarize(n=_.prefix.nunique())\n",
    "        >> arrange(-_.prepared_y)\n",
    "    ).rename(columns={'dist':'District', 'n':'Count'}))\n",
    "\n",
    "chart11 = (alt.Chart(dist_years_prefix).mark_bar().encode(\n",
    "        column='District:N',\n",
    "        x=alt.X('prepared_y:O', title='Prepared Year'),\n",
    "        y=alt.Y('Count:Q', title='Number of Unique Agencies'),\n",
    "        color = alt.Color(\"District:N\", \n",
    "                              scale=alt.Scale(\n",
    "                                  range=altair_utils.CALITP_SEQUENTIAL_COLORS),  \n",
    "                               legend=alt.Legend(title=\"District\")\n",
    "                              )\n",
    "                              ))\n",
    "chart11 = styleguide.preset_chart_config(chart11)\n",
    "chart11 = _dla_utils_reports.add_tooltip(chart11, 'prepared_y','Count')\n",
    "    \n",
    "display(HTML(\"<h4><strong>Number of Unique Prefix Codes by District</strong></h4>\"))\n",
    "display(chart11)"
   ]
  },
  {
   "cell_type": "code",
   "execution_count": 13,
   "id": "0aca2d9a-062a-4c12-9489-5f9de10f3462",
   "metadata": {
    "execution": {
     "iopub.execute_input": "2022-05-09T21:57:08.264973Z",
     "iopub.status.busy": "2022-05-09T21:57:08.264759Z",
     "iopub.status.idle": "2022-05-09T21:57:08.343592Z",
     "shell.execute_reply": "2022-05-09T21:57:08.343170Z"
    },
    "jupyter": {
     "source_hidden": true
    },
    "papermill": {
     "duration": 0.088739,
     "end_time": "2022-05-09T21:57:08.345249",
     "exception": false,
     "start_time": "2022-05-09T21:57:08.256510",
     "status": "completed"
    },
    "tags": [
     "remove_input"
    ]
   },
   "outputs": [
    {
     "data": {
      "text/html": [
       "<h4><strong>Most Used Prefix Codes</strong></h4>"
      ],
      "text/plain": [
       "<IPython.core.display.HTML object>"
      ]
     },
     "metadata": {},
     "output_type": "display_data"
    },
    {
     "data": {
      "text/html": [
       "\n",
       "<div id=\"altair-viz-001faa38026c40fab17d0f3f008b3dee\"></div>\n",
       "<script type=\"text/javascript\">\n",
       "  var VEGA_DEBUG = (typeof VEGA_DEBUG == \"undefined\") ? {} : VEGA_DEBUG;\n",
       "  (function(spec, embedOpt){\n",
       "    let outputDiv = document.currentScript.previousElementSibling;\n",
       "    if (outputDiv.id !== \"altair-viz-001faa38026c40fab17d0f3f008b3dee\") {\n",
       "      outputDiv = document.getElementById(\"altair-viz-001faa38026c40fab17d0f3f008b3dee\");\n",
       "    }\n",
       "    const paths = {\n",
       "      \"vega\": \"https://cdn.jsdelivr.net/npm//vega@5?noext\",\n",
       "      \"vega-lib\": \"https://cdn.jsdelivr.net/npm//vega-lib?noext\",\n",
       "      \"vega-lite\": \"https://cdn.jsdelivr.net/npm//vega-lite@4.17.0?noext\",\n",
       "      \"vega-embed\": \"https://cdn.jsdelivr.net/npm//vega-embed@6?noext\",\n",
       "    };\n",
       "\n",
       "    function maybeLoadScript(lib, version) {\n",
       "      var key = `${lib.replace(\"-\", \"\")}_version`;\n",
       "      return (VEGA_DEBUG[key] == version) ?\n",
       "        Promise.resolve(paths[lib]) :\n",
       "        new Promise(function(resolve, reject) {\n",
       "          var s = document.createElement('script');\n",
       "          document.getElementsByTagName(\"head\")[0].appendChild(s);\n",
       "          s.async = true;\n",
       "          s.onload = () => {\n",
       "            VEGA_DEBUG[key] = version;\n",
       "            return resolve(paths[lib]);\n",
       "          };\n",
       "          s.onerror = () => reject(`Error loading script: ${paths[lib]}`);\n",
       "          s.src = paths[lib];\n",
       "        });\n",
       "    }\n",
       "\n",
       "    function showError(err) {\n",
       "      outputDiv.innerHTML = `<div class=\"error\" style=\"color:red;\">${err}</div>`;\n",
       "      throw err;\n",
       "    }\n",
       "\n",
       "    function displayChart(vegaEmbed) {\n",
       "      vegaEmbed(outputDiv, spec, embedOpt)\n",
       "        .catch(err => showError(`Javascript Error: ${err.message}<br>This usually means there's a typo in your chart specification. See the javascript console for the full traceback.`));\n",
       "    }\n",
       "\n",
       "    if(typeof define === \"function\" && define.amd) {\n",
       "      requirejs.config({paths});\n",
       "      require([\"vega-embed\"], displayChart, err => showError(`Error loading script: ${err.message}`));\n",
       "    } else {\n",
       "      maybeLoadScript(\"vega\", \"5\")\n",
       "        .then(() => maybeLoadScript(\"vega-lite\", \"4.17.0\"))\n",
       "        .then(() => maybeLoadScript(\"vega-embed\", \"6\"))\n",
       "        .catch(showError)\n",
       "        .then(() => displayChart(vegaEmbed));\n",
       "    }\n",
       "  })({\"config\": {\"view\": {\"continuousWidth\": 400, \"continuousHeight\": 300}, \"axis\": {\"domainColor\": \"#cbcbcb\", \"grid\": true, \"gridColor\": \"#cbcbcb\", \"gridWidth\": 1, \"labelColor\": \"#474747\", \"labelFont\": \"Nunito Sans\", \"labelFontSize\": 10, \"labelPadding\": 4, \"tickColor\": \"#cbcbcb\", \"tickSize\": 10, \"titleColor\": \"#333\", \"titleFont\": \"Raleway\", \"titleFontSize\": 12, \"titlePadding\": 10}, \"axisBand\": {\"grid\": false}, \"background\": \"white\", \"font\": \"Raleway\", \"header\": {\"labelFont\": \"Nunito Sans\", \"titleFont\": \"Raleway\"}, \"legend\": {\"labelColor\": \"#333\", \"labelFont\": \"Nunito Sans\", \"labelFontSize\": 11, \"labelLimit\": 0, \"padding\": 1, \"symbolSize\": 30, \"symbolType\": \"square\", \"titleColor\": \"#333\", \"titleFont\": \"Raleway\", \"titleFontSize\": 14, \"titlePadding\": 10}, \"title\": {\"anchor\": \"middle\", \"font\": \"Raleway\", \"fontSize\": 18, \"fontWeight\": 300, \"offset\": 20}}, \"data\": {\"name\": \"data-5b6d5c713aafb7a7ba049a1ca44bb5b1\"}, \"mark\": \"bar\", \"encoding\": {\"color\": {\"field\": \"Prefix\", \"legend\": {\"symbolLimit\": 10, \"title\": \"Prefix\"}, \"scale\": {\"range\": [\"#2EA8CE\", \"#EB9F3C\", \"#F4D837\", \"#51BF9D\", \"#8CBCCB\", \"#9487C0\"]}, \"type\": \"nominal\"}, \"tooltip\": [{\"field\": \"Prefix\", \"type\": \"nominal\"}, {\"field\": \"Number of Obligations\", \"type\": \"quantitative\"}], \"x\": {\"field\": \"Prefix\", \"sort\": \"-y\", \"title\": \"Prefix\", \"type\": \"nominal\"}, \"y\": {\"field\": \"Number of Obligations\", \"title\": \"Number Of Obligations\", \"type\": \"quantitative\"}}, \"height\": 250, \"width\": 400, \"$schema\": \"https://vega.github.io/schema/vega-lite/v4.17.0.json\", \"datasets\": {\"data-5b6d5c713aafb7a7ba049a1ca44bb5b1\": [{\"Prefix\": \"HSIPL\", \"Number of Obligations\": 281, \"variable\": \"prefix\"}, {\"Prefix\": \"CML\", \"Number of Obligations\": 103, \"variable\": \"prefix\"}, {\"Prefix\": \"STPL\", \"Number of Obligations\": 99, \"variable\": \"prefix\"}, {\"Prefix\": \"BRLS\", \"Number of Obligations\": 45, \"variable\": \"prefix\"}, {\"Prefix\": \"BPMPL\", \"Number of Obligations\": 37, \"variable\": \"prefix\"}, {\"Prefix\": \"ER\", \"Number of Obligations\": 33, \"variable\": \"prefix\"}, {\"Prefix\": \"FERPL\", \"Number of Obligations\": 27, \"variable\": \"prefix\"}, {\"Prefix\": \"RPSTPL\", \"Number of Obligations\": 24, \"variable\": \"prefix\"}, {\"Prefix\": \"ATPL\", \"Number of Obligations\": 23, \"variable\": \"prefix\"}, {\"Prefix\": \"SRTSL\", \"Number of Obligations\": 20, \"variable\": \"prefix\"}, {\"Prefix\": \"BRLO\", \"Number of Obligations\": 19, \"variable\": \"prefix\"}, {\"Prefix\": \"HPLU\", \"Number of Obligations\": 18, \"variable\": \"prefix\"}, {\"Prefix\": \"CMSTPL\", \"Number of Obligations\": 16, \"variable\": \"prefix\"}, {\"Prefix\": \"FTASTPL\", \"Number of Obligations\": 16, \"variable\": \"prefix\"}, {\"Prefix\": \"HSIP\", \"Number of Obligations\": 15, \"variable\": \"prefix\"}, {\"Prefix\": \"BHLS\", \"Number of Obligations\": 12, \"variable\": \"prefix\"}, {\"Prefix\": \"CMLG\", \"Number of Obligations\": 12, \"variable\": \"prefix\"}, {\"Prefix\": \"HPLUL\", \"Number of Obligations\": 9, \"variable\": \"prefix\"}, {\"Prefix\": \"ACSTP\", \"Number of Obligations\": 8, \"variable\": \"prefix\"}, {\"Prefix\": \"SRTSLNI\", \"Number of Obligations\": 8, \"variable\": \"prefix\"}]}}, {\"mode\": \"vega-lite\"});\n",
       "</script>"
      ],
      "text/plain": [
       "alt.Chart(...)"
      ]
     },
     "metadata": {},
     "output_type": "display_data"
    }
   ],
   "source": [
    "#Bar chart with the Most Used Prefix Counts\n",
    "chart_df = (df_top>>filter(_.variable=='prefix')).rename(columns={\"value\":\"Prefix\",\n",
    "                                 \"count\":\"Number of Obligations\"})\n",
    "chart9= (_dla_utils_reports.basic_bar_chart_no_save(chart_df, 'Prefix', 'Number of Obligations', 'Prefix', district))\n",
    "    \n",
    "display(HTML(\"<h4><strong>Most Used Prefix Codes</strong></h4>\"))\n",
    "display(chart9)\n",
    "    "
   ]
  },
  {
   "cell_type": "code",
   "execution_count": 14,
   "id": "3d21c9b2-833b-463a-9a03-a9c83d727d2e",
   "metadata": {
    "execution": {
     "iopub.execute_input": "2022-05-09T21:57:08.360465Z",
     "iopub.status.busy": "2022-05-09T21:57:08.360274Z",
     "iopub.status.idle": "2022-05-09T21:57:08.451064Z",
     "shell.execute_reply": "2022-05-09T21:57:08.450595Z"
    },
    "jupyter": {
     "source_hidden": true
    },
    "papermill": {
     "duration": 0.100222,
     "end_time": "2022-05-09T21:57:08.452656",
     "exception": false,
     "start_time": "2022-05-09T21:57:08.352434",
     "status": "completed"
    },
    "tags": [
     "remove_input"
    ]
   },
   "outputs": [
    {
     "data": {
      "text/html": [
       "<h4><strong>Agencies With The Most Unique Prefix Codes</strong></h4>"
      ],
      "text/plain": [
       "<IPython.core.display.HTML object>"
      ]
     },
     "metadata": {},
     "output_type": "display_data"
    },
    {
     "data": {
      "text/html": [
       "\n",
       "<div id=\"altair-viz-eb1237215c2a432a8cbb69a60a5a5d5e\"></div>\n",
       "<script type=\"text/javascript\">\n",
       "  var VEGA_DEBUG = (typeof VEGA_DEBUG == \"undefined\") ? {} : VEGA_DEBUG;\n",
       "  (function(spec, embedOpt){\n",
       "    let outputDiv = document.currentScript.previousElementSibling;\n",
       "    if (outputDiv.id !== \"altair-viz-eb1237215c2a432a8cbb69a60a5a5d5e\") {\n",
       "      outputDiv = document.getElementById(\"altair-viz-eb1237215c2a432a8cbb69a60a5a5d5e\");\n",
       "    }\n",
       "    const paths = {\n",
       "      \"vega\": \"https://cdn.jsdelivr.net/npm//vega@5?noext\",\n",
       "      \"vega-lib\": \"https://cdn.jsdelivr.net/npm//vega-lib?noext\",\n",
       "      \"vega-lite\": \"https://cdn.jsdelivr.net/npm//vega-lite@4.17.0?noext\",\n",
       "      \"vega-embed\": \"https://cdn.jsdelivr.net/npm//vega-embed@6?noext\",\n",
       "    };\n",
       "\n",
       "    function maybeLoadScript(lib, version) {\n",
       "      var key = `${lib.replace(\"-\", \"\")}_version`;\n",
       "      return (VEGA_DEBUG[key] == version) ?\n",
       "        Promise.resolve(paths[lib]) :\n",
       "        new Promise(function(resolve, reject) {\n",
       "          var s = document.createElement('script');\n",
       "          document.getElementsByTagName(\"head\")[0].appendChild(s);\n",
       "          s.async = true;\n",
       "          s.onload = () => {\n",
       "            VEGA_DEBUG[key] = version;\n",
       "            return resolve(paths[lib]);\n",
       "          };\n",
       "          s.onerror = () => reject(`Error loading script: ${paths[lib]}`);\n",
       "          s.src = paths[lib];\n",
       "        });\n",
       "    }\n",
       "\n",
       "    function showError(err) {\n",
       "      outputDiv.innerHTML = `<div class=\"error\" style=\"color:red;\">${err}</div>`;\n",
       "      throw err;\n",
       "    }\n",
       "\n",
       "    function displayChart(vegaEmbed) {\n",
       "      vegaEmbed(outputDiv, spec, embedOpt)\n",
       "        .catch(err => showError(`Javascript Error: ${err.message}<br>This usually means there's a typo in your chart specification. See the javascript console for the full traceback.`));\n",
       "    }\n",
       "\n",
       "    if(typeof define === \"function\" && define.amd) {\n",
       "      requirejs.config({paths});\n",
       "      require([\"vega-embed\"], displayChart, err => showError(`Error loading script: ${err.message}`));\n",
       "    } else {\n",
       "      maybeLoadScript(\"vega\", \"5\")\n",
       "        .then(() => maybeLoadScript(\"vega-lite\", \"4.17.0\"))\n",
       "        .then(() => maybeLoadScript(\"vega-embed\", \"6\"))\n",
       "        .catch(showError)\n",
       "        .then(() => displayChart(vegaEmbed));\n",
       "    }\n",
       "  })({\"config\": {\"view\": {\"continuousWidth\": 400, \"continuousHeight\": 300}, \"axis\": {\"domainColor\": \"#cbcbcb\", \"grid\": true, \"gridColor\": \"#cbcbcb\", \"gridWidth\": 1, \"labelColor\": \"#474747\", \"labelFont\": \"Nunito Sans\", \"labelFontSize\": 10, \"labelPadding\": 4, \"tickColor\": \"#cbcbcb\", \"tickSize\": 10, \"titleColor\": \"#333\", \"titleFont\": \"Raleway\", \"titleFontSize\": 12, \"titlePadding\": 10}, \"axisBand\": {\"grid\": false}, \"background\": \"white\", \"font\": \"Raleway\", \"header\": {\"labelFont\": \"Nunito Sans\", \"titleFont\": \"Raleway\"}, \"legend\": {\"labelColor\": \"#333\", \"labelFont\": \"Nunito Sans\", \"labelFontSize\": 11, \"labelLimit\": 0, \"padding\": 1, \"symbolSize\": 30, \"symbolType\": \"square\", \"titleColor\": \"#333\", \"titleFont\": \"Raleway\", \"titleFontSize\": 14, \"titlePadding\": 10}, \"title\": {\"anchor\": \"middle\", \"font\": \"Raleway\", \"fontSize\": 18, \"fontWeight\": 300, \"offset\": 20}}, \"data\": {\"name\": \"data-56a4349596f480a98480a2486b91cfaa\"}, \"mark\": \"bar\", \"encoding\": {\"color\": {\"field\": \"primary_agency_name\", \"legend\": {\"symbolLimit\": 10, \"title\": \"Agency\"}, \"scale\": {\"range\": [\"#2EA8CE\", \"#EB9F3C\", \"#F4D837\", \"#51BF9D\", \"#8CBCCB\", \"#9487C0\"]}, \"type\": \"nominal\"}, \"tooltip\": [{\"field\": \"primary_agency_name\", \"type\": \"nominal\"}, {\"field\": \"n\", \"type\": \"quantitative\"}], \"x\": {\"field\": \"primary_agency_name\", \"sort\": \"-y\", \"title\": \"Agency\", \"type\": \"nominal\"}, \"y\": {\"field\": \"n\", \"title\": \"Count\", \"type\": \"quantitative\"}}, \"height\": 250, \"width\": 400, \"$schema\": \"https://vega.github.io/schema/vega-lite/v4.17.0.json\", \"datasets\": {\"data-56a4349596f480a98480a2486b91cfaa\": [{\"primary_agency_name\": \"San Diego Association of Governments\", \"n\": 20}, {\"primary_agency_name\": \"Imperial County\", \"n\": 19}, {\"primary_agency_name\": \"San Diego\", \"n\": 19}, {\"primary_agency_name\": \"San Diego County\", \"n\": 14}, {\"primary_agency_name\": \"Caltrans\", \"n\": 11}, {\"primary_agency_name\": \"Encinitas\", \"n\": 8}, {\"primary_agency_name\": \"Chula Vista\", \"n\": 7}, {\"primary_agency_name\": \"Imperial\", \"n\": 6}, {\"primary_agency_name\": \"National City\", \"n\": 6}, {\"primary_agency_name\": \"San Marcos\", \"n\": 6}, {\"primary_agency_name\": \"Brawley\", \"n\": 5}, {\"primary_agency_name\": \"Calipatria\", \"n\": 5}, {\"primary_agency_name\": \"El Centro\", \"n\": 5}, {\"primary_agency_name\": \"Escondido\", \"n\": 5}, {\"primary_agency_name\": \"Oceanside\", \"n\": 5}, {\"primary_agency_name\": \"Carlsbad\", \"n\": 4}, {\"primary_agency_name\": \"Holtville\", \"n\": 4}, {\"primary_agency_name\": \"La Mesa\", \"n\": 4}, {\"primary_agency_name\": \"Westmorland\", \"n\": 4}, {\"primary_agency_name\": \"Calexico\", \"n\": 3}, {\"primary_agency_name\": \"Imperial County Transportation Commission\", \"n\": 3}, {\"primary_agency_name\": \"Santee\", \"n\": 3}, {\"primary_agency_name\": \"Vista\", \"n\": 3}, {\"primary_agency_name\": \"Del Mar\", \"n\": 2}, {\"primary_agency_name\": \"El Cajon\", \"n\": 2}, {\"primary_agency_name\": \"Lemon Grove\", \"n\": 2}, {\"primary_agency_name\": \"Chula Vista Elementary School District\", \"n\": 1}, {\"primary_agency_name\": \"Coronado\", \"n\": 1}, {\"primary_agency_name\": \"Poway\", \"n\": 1}, {\"primary_agency_name\": \"San Diego Metropolitan Transit System\", \"n\": 1}]}}, {\"mode\": \"vega-lite\"});\n",
       "</script>"
      ],
      "text/plain": [
       "alt.Chart(...)"
      ]
     },
     "metadata": {},
     "output_type": "display_data"
    }
   ],
   "source": [
    "#Bar chart Agencies With The Most Unique Prefix Codes\n",
    "    \n",
    "chart3 = (_dla_utils_reports.basic_bar_chart_no_save(((_dla_utils_reports.get_nunique(df, 'prefix', 'primary_agency_name')).head(30)),\n",
    "                            'primary_agency_name', 'n', 'primary_agency_name', district))\n",
    "    \n",
    "display(HTML(\"<h4><strong>Agencies With The Most Unique Prefix Codes</strong></h4>\"))\n",
    "display(chart3)"
   ]
  },
  {
   "cell_type": "code",
   "execution_count": 15,
   "id": "8c744cb5-e4f5-4e8e-8cd8-c59641845299",
   "metadata": {
    "execution": {
     "iopub.execute_input": "2022-05-09T21:57:08.471248Z",
     "iopub.status.busy": "2022-05-09T21:57:08.470955Z",
     "iopub.status.idle": "2022-05-09T21:57:08.475476Z",
     "shell.execute_reply": "2022-05-09T21:57:08.474932Z"
    },
    "jupyter": {
     "source_hidden": true
    },
    "papermill": {
     "duration": 0.016551,
     "end_time": "2022-05-09T21:57:08.477243",
     "exception": false,
     "start_time": "2022-05-09T21:57:08.460692",
     "status": "completed"
    },
    "tags": [
     "remove_input"
    ]
   },
   "outputs": [
    {
     "data": {
      "text/html": [
       "<h2>Funding Distribution</h2>"
      ],
      "text/plain": [
       "<IPython.core.display.HTML object>"
      ]
     },
     "metadata": {},
     "output_type": "display_data"
    }
   ],
   "source": [
    "display(HTML(\"<h2>Funding Distribution</h2>\"))"
   ]
  },
  {
   "cell_type": "code",
   "execution_count": 16,
   "id": "3745ca4d-8dd4-4c09-b46b-a2f6db6358ad",
   "metadata": {
    "execution": {
     "iopub.execute_input": "2022-05-09T21:57:08.495678Z",
     "iopub.status.busy": "2022-05-09T21:57:08.495446Z",
     "iopub.status.idle": "2022-05-09T21:57:08.578362Z",
     "shell.execute_reply": "2022-05-09T21:57:08.577695Z"
    },
    "jupyter": {
     "source_hidden": true
    },
    "papermill": {
     "duration": 0.094299,
     "end_time": "2022-05-09T21:57:08.580148",
     "exception": false,
     "start_time": "2022-05-09T21:57:08.485849",
     "status": "completed"
    },
    "tags": [
     "remove_input"
    ]
   },
   "outputs": [
    {
     "data": {
      "text/html": [
       "<h4><strong>Average Total Requested Funds by Agency ($2021)</strong></h4>"
      ],
      "text/plain": [
       "<IPython.core.display.HTML object>"
      ]
     },
     "metadata": {},
     "output_type": "display_data"
    },
    {
     "data": {
      "text/html": [
       "\n",
       "<div id=\"altair-viz-ef397457413744b9854a903928e4462d\"></div>\n",
       "<script type=\"text/javascript\">\n",
       "  var VEGA_DEBUG = (typeof VEGA_DEBUG == \"undefined\") ? {} : VEGA_DEBUG;\n",
       "  (function(spec, embedOpt){\n",
       "    let outputDiv = document.currentScript.previousElementSibling;\n",
       "    if (outputDiv.id !== \"altair-viz-ef397457413744b9854a903928e4462d\") {\n",
       "      outputDiv = document.getElementById(\"altair-viz-ef397457413744b9854a903928e4462d\");\n",
       "    }\n",
       "    const paths = {\n",
       "      \"vega\": \"https://cdn.jsdelivr.net/npm//vega@5?noext\",\n",
       "      \"vega-lib\": \"https://cdn.jsdelivr.net/npm//vega-lib?noext\",\n",
       "      \"vega-lite\": \"https://cdn.jsdelivr.net/npm//vega-lite@4.17.0?noext\",\n",
       "      \"vega-embed\": \"https://cdn.jsdelivr.net/npm//vega-embed@6?noext\",\n",
       "    };\n",
       "\n",
       "    function maybeLoadScript(lib, version) {\n",
       "      var key = `${lib.replace(\"-\", \"\")}_version`;\n",
       "      return (VEGA_DEBUG[key] == version) ?\n",
       "        Promise.resolve(paths[lib]) :\n",
       "        new Promise(function(resolve, reject) {\n",
       "          var s = document.createElement('script');\n",
       "          document.getElementsByTagName(\"head\")[0].appendChild(s);\n",
       "          s.async = true;\n",
       "          s.onload = () => {\n",
       "            VEGA_DEBUG[key] = version;\n",
       "            return resolve(paths[lib]);\n",
       "          };\n",
       "          s.onerror = () => reject(`Error loading script: ${paths[lib]}`);\n",
       "          s.src = paths[lib];\n",
       "        });\n",
       "    }\n",
       "\n",
       "    function showError(err) {\n",
       "      outputDiv.innerHTML = `<div class=\"error\" style=\"color:red;\">${err}</div>`;\n",
       "      throw err;\n",
       "    }\n",
       "\n",
       "    function displayChart(vegaEmbed) {\n",
       "      vegaEmbed(outputDiv, spec, embedOpt)\n",
       "        .catch(err => showError(`Javascript Error: ${err.message}<br>This usually means there's a typo in your chart specification. See the javascript console for the full traceback.`));\n",
       "    }\n",
       "\n",
       "    if(typeof define === \"function\" && define.amd) {\n",
       "      requirejs.config({paths});\n",
       "      require([\"vega-embed\"], displayChart, err => showError(`Error loading script: ${err.message}`));\n",
       "    } else {\n",
       "      maybeLoadScript(\"vega\", \"5\")\n",
       "        .then(() => maybeLoadScript(\"vega-lite\", \"4.17.0\"))\n",
       "        .then(() => maybeLoadScript(\"vega-embed\", \"6\"))\n",
       "        .catch(showError)\n",
       "        .then(() => displayChart(vegaEmbed));\n",
       "    }\n",
       "  })({\"config\": {\"view\": {\"continuousWidth\": 400, \"continuousHeight\": 300}, \"axis\": {\"domainColor\": \"#cbcbcb\", \"grid\": true, \"gridColor\": \"#cbcbcb\", \"gridWidth\": 1, \"labelColor\": \"#474747\", \"labelFont\": \"Nunito Sans\", \"labelFontSize\": 10, \"labelPadding\": 4, \"tickColor\": \"#cbcbcb\", \"tickSize\": 10, \"titleColor\": \"#333\", \"titleFont\": \"Raleway\", \"titleFontSize\": 12, \"titlePadding\": 10}, \"axisBand\": {\"grid\": false}, \"background\": \"white\", \"font\": \"Raleway\", \"header\": {\"labelFont\": \"Nunito Sans\", \"titleFont\": \"Raleway\"}, \"legend\": {\"labelColor\": \"#333\", \"labelFont\": \"Nunito Sans\", \"labelFontSize\": 11, \"labelLimit\": 0, \"padding\": 1, \"symbolSize\": 30, \"symbolType\": \"square\", \"titleColor\": \"#333\", \"titleFont\": \"Raleway\", \"titleFontSize\": 14, \"titlePadding\": 10}, \"title\": {\"anchor\": \"middle\", \"font\": \"Raleway\", \"fontSize\": 18, \"fontWeight\": 300, \"offset\": 20}}, \"data\": {\"name\": \"data-d2e167bed0fad04588ff15cc834ab768\"}, \"mark\": \"bar\", \"encoding\": {\"color\": {\"field\": \"primary_agency_name\", \"legend\": {\"symbolLimit\": 10, \"title\": \"Agency\"}, \"scale\": {\"range\": [\"#2EA8CE\", \"#EB9F3C\", \"#F4D837\", \"#51BF9D\", \"#8CBCCB\", \"#9487C0\"]}, \"type\": \"nominal\"}, \"tooltip\": [{\"field\": \"primary_agency_name\", \"type\": \"nominal\"}, {\"field\": \"adjusted_total_requested\", \"type\": \"quantitative\"}], \"x\": {\"field\": \"primary_agency_name\", \"sort\": \"-y\", \"title\": \"Agency\", \"type\": \"nominal\"}, \"y\": {\"field\": \"adjusted_total_requested\", \"title\": \"Adjusted Total Requested\", \"type\": \"quantitative\"}}, \"height\": 250, \"width\": 400, \"$schema\": \"https://vega.github.io/schema/vega-lite/v4.17.0.json\", \"datasets\": {\"data-d2e167bed0fad04588ff15cc834ab768\": [{\"primary_agency_name\": \"Caltrans\", \"adjusted_total_requested\": 14719662.882284625}, {\"primary_agency_name\": \"Imperial County Transportation Commission\", \"adjusted_total_requested\": 3841476.2598535502}, {\"primary_agency_name\": \"San Diego Association of Governments\", \"adjusted_total_requested\": 3273211.9925696496}, {\"primary_agency_name\": \"San Diego\", \"adjusted_total_requested\": 2795177.723938811}, {\"primary_agency_name\": \"San Diego Metropolitan Transit System\", \"adjusted_total_requested\": 2461123.5608103867}, {\"primary_agency_name\": \"San Marcos\", \"adjusted_total_requested\": 1548849.547744383}, {\"primary_agency_name\": \"Calexico\", \"adjusted_total_requested\": 1133805.362685252}, {\"primary_agency_name\": \"Escondido\", \"adjusted_total_requested\": 881309.6435240433}, {\"primary_agency_name\": \"Chula Vista\", \"adjusted_total_requested\": 734341.9207481712}, {\"primary_agency_name\": \"Coronado\", \"adjusted_total_requested\": 643557.8534245052}, {\"primary_agency_name\": \"Poway\", \"adjusted_total_requested\": 603392.8856609273}, {\"primary_agency_name\": \"Oceanside\", \"adjusted_total_requested\": 435676.0902608746}, {\"primary_agency_name\": \"Del Mar\", \"adjusted_total_requested\": 359884.46589776495}, {\"primary_agency_name\": \"Carlsbad\", \"adjusted_total_requested\": 358836.86881462584}, {\"primary_agency_name\": \"National City\", \"adjusted_total_requested\": 336250.4689205757}, {\"primary_agency_name\": \"El Centro\", \"adjusted_total_requested\": 310606.3187034312}, {\"primary_agency_name\": \"San Diego County\", \"adjusted_total_requested\": 273207.82434499403}, {\"primary_agency_name\": \"San Diego Unified Port District\", \"adjusted_total_requested\": 261995.20970111928}, {\"primary_agency_name\": \"El Cajon\", \"adjusted_total_requested\": 236714.91804264634}, {\"primary_agency_name\": \"Imperial\", \"adjusted_total_requested\": 228428.49752770556}, {\"primary_agency_name\": \"Vista\", \"adjusted_total_requested\": 225241.94229041928}, {\"primary_agency_name\": \"Calipatria\", \"adjusted_total_requested\": 219670.63799721358}, {\"primary_agency_name\": \"La Mesa\", \"adjusted_total_requested\": 208245.8965369442}, {\"primary_agency_name\": \"Imperial County\", \"adjusted_total_requested\": 182182.58998876016}, {\"primary_agency_name\": \"Holtville\", \"adjusted_total_requested\": 137399.7059895034}, {\"primary_agency_name\": \"Santee\", \"adjusted_total_requested\": 121406.24325575367}, {\"primary_agency_name\": \"Encinitas\", \"adjusted_total_requested\": 115126.4132111543}, {\"primary_agency_name\": \"Brawley\", \"adjusted_total_requested\": 103543.09962811094}, {\"primary_agency_name\": \"Westmorland\", \"adjusted_total_requested\": 97414.75697083183}]}}, {\"mode\": \"vega-lite\"});\n",
       "</script>"
      ],
      "text/plain": [
       "alt.Chart(...)"
      ]
     },
     "metadata": {},
     "output_type": "display_data"
    }
   ],
   "source": [
    "#Bar chart Average Total Requested Funds by Agency\n",
    "chart4=(_dla_utils_reports.basic_bar_chart_no_save((((_dla_utils_reports.calculate_data_all(df, 'adjusted_total_requested', 'primary_agency_name', aggfunc=\"mean\"))\n",
    "                          >>arrange(-_.adjusted_total_requested)).head(30)\n",
    "                        ), 'primary_agency_name','adjusted_total_requested', 'primary_agency_name', district\n",
    "                          \n",
    "                       ))\n",
    "    \n",
    "display(HTML(\"<h4><strong>Average Total Requested Funds by Agency ($2021)</strong></h4>\"))\n",
    "display(chart4)"
   ]
  },
  {
   "cell_type": "code",
   "execution_count": 17,
   "id": "ce18a74b-9908-40f8-84f1-806552936465",
   "metadata": {
    "execution": {
     "iopub.execute_input": "2022-05-09T21:57:08.598861Z",
     "iopub.status.busy": "2022-05-09T21:57:08.598648Z",
     "iopub.status.idle": "2022-05-09T21:57:08.695117Z",
     "shell.execute_reply": "2022-05-09T21:57:08.694598Z"
    },
    "jupyter": {
     "source_hidden": true
    },
    "papermill": {
     "duration": 0.107275,
     "end_time": "2022-05-09T21:57:08.696859",
     "exception": false,
     "start_time": "2022-05-09T21:57:08.589584",
     "status": "completed"
    },
    "tags": [
     "remove_input"
    ]
   },
   "outputs": [
    {
     "data": {
      "text/html": [
       "<h4><strong>Lowest Average Total Funds by Agency ($2021)</strong></h4>"
      ],
      "text/plain": [
       "<IPython.core.display.HTML object>"
      ]
     },
     "metadata": {},
     "output_type": "display_data"
    },
    {
     "data": {
      "text/html": [
       "\n",
       "<div id=\"altair-viz-dd052273ce8a4d31b8829c25d060b386\"></div>\n",
       "<script type=\"text/javascript\">\n",
       "  var VEGA_DEBUG = (typeof VEGA_DEBUG == \"undefined\") ? {} : VEGA_DEBUG;\n",
       "  (function(spec, embedOpt){\n",
       "    let outputDiv = document.currentScript.previousElementSibling;\n",
       "    if (outputDiv.id !== \"altair-viz-dd052273ce8a4d31b8829c25d060b386\") {\n",
       "      outputDiv = document.getElementById(\"altair-viz-dd052273ce8a4d31b8829c25d060b386\");\n",
       "    }\n",
       "    const paths = {\n",
       "      \"vega\": \"https://cdn.jsdelivr.net/npm//vega@5?noext\",\n",
       "      \"vega-lib\": \"https://cdn.jsdelivr.net/npm//vega-lib?noext\",\n",
       "      \"vega-lite\": \"https://cdn.jsdelivr.net/npm//vega-lite@4.17.0?noext\",\n",
       "      \"vega-embed\": \"https://cdn.jsdelivr.net/npm//vega-embed@6?noext\",\n",
       "    };\n",
       "\n",
       "    function maybeLoadScript(lib, version) {\n",
       "      var key = `${lib.replace(\"-\", \"\")}_version`;\n",
       "      return (VEGA_DEBUG[key] == version) ?\n",
       "        Promise.resolve(paths[lib]) :\n",
       "        new Promise(function(resolve, reject) {\n",
       "          var s = document.createElement('script');\n",
       "          document.getElementsByTagName(\"head\")[0].appendChild(s);\n",
       "          s.async = true;\n",
       "          s.onload = () => {\n",
       "            VEGA_DEBUG[key] = version;\n",
       "            return resolve(paths[lib]);\n",
       "          };\n",
       "          s.onerror = () => reject(`Error loading script: ${paths[lib]}`);\n",
       "          s.src = paths[lib];\n",
       "        });\n",
       "    }\n",
       "\n",
       "    function showError(err) {\n",
       "      outputDiv.innerHTML = `<div class=\"error\" style=\"color:red;\">${err}</div>`;\n",
       "      throw err;\n",
       "    }\n",
       "\n",
       "    function displayChart(vegaEmbed) {\n",
       "      vegaEmbed(outputDiv, spec, embedOpt)\n",
       "        .catch(err => showError(`Javascript Error: ${err.message}<br>This usually means there's a typo in your chart specification. See the javascript console for the full traceback.`));\n",
       "    }\n",
       "\n",
       "    if(typeof define === \"function\" && define.amd) {\n",
       "      requirejs.config({paths});\n",
       "      require([\"vega-embed\"], displayChart, err => showError(`Error loading script: ${err.message}`));\n",
       "    } else {\n",
       "      maybeLoadScript(\"vega\", \"5\")\n",
       "        .then(() => maybeLoadScript(\"vega-lite\", \"4.17.0\"))\n",
       "        .then(() => maybeLoadScript(\"vega-embed\", \"6\"))\n",
       "        .catch(showError)\n",
       "        .then(() => displayChart(vegaEmbed));\n",
       "    }\n",
       "  })({\"config\": {\"view\": {\"continuousWidth\": 400, \"continuousHeight\": 300}, \"axis\": {\"domainColor\": \"#cbcbcb\", \"grid\": true, \"gridColor\": \"#cbcbcb\", \"gridWidth\": 1, \"labelColor\": \"#474747\", \"labelFont\": \"Nunito Sans\", \"labelFontSize\": 10, \"labelPadding\": 4, \"tickColor\": \"#cbcbcb\", \"tickSize\": 10, \"titleColor\": \"#333\", \"titleFont\": \"Raleway\", \"titleFontSize\": 12, \"titlePadding\": 10}, \"axisBand\": {\"grid\": false}, \"background\": \"white\", \"font\": \"Raleway\", \"header\": {\"labelFont\": \"Nunito Sans\", \"titleFont\": \"Raleway\"}, \"legend\": {\"labelColor\": \"#333\", \"labelFont\": \"Nunito Sans\", \"labelFontSize\": 11, \"labelLimit\": 0, \"padding\": 1, \"symbolSize\": 30, \"symbolType\": \"square\", \"titleColor\": \"#333\", \"titleFont\": \"Raleway\", \"titleFontSize\": 14, \"titlePadding\": 10}, \"title\": {\"anchor\": \"middle\", \"font\": \"Raleway\", \"fontSize\": 18, \"fontWeight\": 300, \"offset\": 20}}, \"data\": {\"name\": \"data-a52ec19301db9d2d2725ebf39845c904\"}, \"mark\": \"bar\", \"encoding\": {\"color\": {\"field\": \"primary_agency_name\", \"legend\": {\"symbolLimit\": 10, \"title\": \"Agency\"}, \"scale\": {\"range\": [\"#2EA8CE\", \"#EB9F3C\", \"#F4D837\", \"#51BF9D\", \"#8CBCCB\", \"#9487C0\"]}, \"type\": \"nominal\"}, \"tooltip\": [{\"field\": \"primary_agency_name\", \"type\": \"nominal\"}, {\"field\": \"avg_funds\", \"type\": \"quantitative\"}], \"x\": {\"field\": \"primary_agency_name\", \"sort\": \"-y\", \"title\": \"Agency\", \"type\": \"nominal\"}, \"y\": {\"field\": \"avg_funds\", \"title\": \"Avg Funds\", \"type\": \"quantitative\"}}, \"height\": 250, \"width\": 400, \"$schema\": \"https://vega.github.io/schema/vega-lite/v4.17.0.json\", \"datasets\": {\"data-a52ec19301db9d2d2725ebf39845c904\": [{\"primary_agency_name\": \"Caltrans\", \"avg_funds\": 14719662.882284623}, {\"primary_agency_name\": \"Imperial County Transportation Commission\", \"avg_funds\": 3841476.2598535502}, {\"primary_agency_name\": \"San Diego Association of Governments\", \"avg_funds\": 3273211.9925696496}, {\"primary_agency_name\": \"San Diego\", \"avg_funds\": 2795177.7239388106}, {\"primary_agency_name\": \"San Diego Metropolitan Transit System\", \"avg_funds\": 2461123.5608103867}, {\"primary_agency_name\": \"San Marcos\", \"avg_funds\": 1548849.5477443833}, {\"primary_agency_name\": \"Calexico\", \"avg_funds\": 1133805.362685252}, {\"primary_agency_name\": \"Escondido\", \"avg_funds\": 881309.6435240434}, {\"primary_agency_name\": \"Chula Vista\", \"avg_funds\": 734341.9207481713}, {\"primary_agency_name\": \"Coronado\", \"avg_funds\": 643557.8534245052}, {\"primary_agency_name\": \"Poway\", \"avg_funds\": 603392.8856609273}, {\"primary_agency_name\": \"Oceanside\", \"avg_funds\": 435676.0902608746}, {\"primary_agency_name\": \"Del Mar\", \"avg_funds\": 359884.46589776495}, {\"primary_agency_name\": \"Carlsbad\", \"avg_funds\": 358836.8688146259}, {\"primary_agency_name\": \"National City\", \"avg_funds\": 336250.4689205757}, {\"primary_agency_name\": \"El Centro\", \"avg_funds\": 310606.3187034313}, {\"primary_agency_name\": \"San Diego County\", \"avg_funds\": 273207.8243449941}, {\"primary_agency_name\": \"San Diego Unified Port District\", \"avg_funds\": 261995.20970111928}, {\"primary_agency_name\": \"El Cajon\", \"avg_funds\": 236714.91804264634}, {\"primary_agency_name\": \"Imperial\", \"avg_funds\": 228428.49752770553}, {\"primary_agency_name\": \"Vista\", \"avg_funds\": 225241.94229041933}, {\"primary_agency_name\": \"Calipatria\", \"avg_funds\": 219670.63799721363}, {\"primary_agency_name\": \"La Mesa\", \"avg_funds\": 208245.8965369442}, {\"primary_agency_name\": \"Imperial County\", \"avg_funds\": 182182.58998876013}, {\"primary_agency_name\": \"Holtville\", \"avg_funds\": 137399.70598950336}, {\"primary_agency_name\": \"Santee\", \"avg_funds\": 121406.24325575368}, {\"primary_agency_name\": \"Encinitas\", \"avg_funds\": 115126.4132111543}, {\"primary_agency_name\": \"Brawley\", \"avg_funds\": 103543.09962811095}, {\"primary_agency_name\": \"Westmorland\", \"avg_funds\": 97414.75697083182}, {\"primary_agency_name\": \"Chula Vista Elementary School District\", \"avg_funds\": -3548.2606562320275}, {\"primary_agency_name\": \"Lemon Grove\", \"avg_funds\": -26033.772906591414}]}}, {\"mode\": \"vega-lite\"});\n",
       "</script>"
      ],
      "text/plain": [
       "alt.Chart(...)"
      ]
     },
     "metadata": {},
     "output_type": "display_data"
    }
   ],
   "source": [
    "#Bar chart Bottom Average Total Requested Funds by Agency\n",
    "avg_funds_bottom = (df>>group_by(_.primary_agency_name)>>summarize(avg_funds=_.adjusted_total_requested.mean())>>arrange(-_.avg_funds)).tail(50)\n",
    "\n",
    "chart5=( _dla_utils_reports.basic_bar_chart_no_save((avg_funds_bottom.tail(40)), 'primary_agency_name','avg_funds', 'primary_agency_name', district))\n",
    "    \n",
    "display(HTML(\"<h4><strong>Lowest Average Total Funds by Agency ($2021)</strong></h4>\"))\n",
    "display(chart5)"
   ]
  },
  {
   "cell_type": "code",
   "execution_count": 18,
   "id": "d18938e5-6fc5-4e53-87b2-7140df57e5a0",
   "metadata": {
    "execution": {
     "iopub.execute_input": "2022-05-09T21:57:08.714336Z",
     "iopub.status.busy": "2022-05-09T21:57:08.714133Z",
     "iopub.status.idle": "2022-05-09T21:57:08.790355Z",
     "shell.execute_reply": "2022-05-09T21:57:08.789939Z"
    },
    "jupyter": {
     "source_hidden": true
    },
    "papermill": {
     "duration": 0.086974,
     "end_time": "2022-05-09T21:57:08.792100",
     "exception": false,
     "start_time": "2022-05-09T21:57:08.705126",
     "status": "completed"
    },
    "tags": [
     "remove_input"
    ]
   },
   "outputs": [
    {
     "data": {
      "text/html": [
       "<h4><strong>Average Total Requested Funds by Prefix ($2021)</strong></h4>"
      ],
      "text/plain": [
       "<IPython.core.display.HTML object>"
      ]
     },
     "metadata": {},
     "output_type": "display_data"
    },
    {
     "data": {
      "text/html": [
       "\n",
       "<div id=\"altair-viz-c32a5f9f92684dcaa85e811a3c20a0c9\"></div>\n",
       "<script type=\"text/javascript\">\n",
       "  var VEGA_DEBUG = (typeof VEGA_DEBUG == \"undefined\") ? {} : VEGA_DEBUG;\n",
       "  (function(spec, embedOpt){\n",
       "    let outputDiv = document.currentScript.previousElementSibling;\n",
       "    if (outputDiv.id !== \"altair-viz-c32a5f9f92684dcaa85e811a3c20a0c9\") {\n",
       "      outputDiv = document.getElementById(\"altair-viz-c32a5f9f92684dcaa85e811a3c20a0c9\");\n",
       "    }\n",
       "    const paths = {\n",
       "      \"vega\": \"https://cdn.jsdelivr.net/npm//vega@5?noext\",\n",
       "      \"vega-lib\": \"https://cdn.jsdelivr.net/npm//vega-lib?noext\",\n",
       "      \"vega-lite\": \"https://cdn.jsdelivr.net/npm//vega-lite@4.17.0?noext\",\n",
       "      \"vega-embed\": \"https://cdn.jsdelivr.net/npm//vega-embed@6?noext\",\n",
       "    };\n",
       "\n",
       "    function maybeLoadScript(lib, version) {\n",
       "      var key = `${lib.replace(\"-\", \"\")}_version`;\n",
       "      return (VEGA_DEBUG[key] == version) ?\n",
       "        Promise.resolve(paths[lib]) :\n",
       "        new Promise(function(resolve, reject) {\n",
       "          var s = document.createElement('script');\n",
       "          document.getElementsByTagName(\"head\")[0].appendChild(s);\n",
       "          s.async = true;\n",
       "          s.onload = () => {\n",
       "            VEGA_DEBUG[key] = version;\n",
       "            return resolve(paths[lib]);\n",
       "          };\n",
       "          s.onerror = () => reject(`Error loading script: ${paths[lib]}`);\n",
       "          s.src = paths[lib];\n",
       "        });\n",
       "    }\n",
       "\n",
       "    function showError(err) {\n",
       "      outputDiv.innerHTML = `<div class=\"error\" style=\"color:red;\">${err}</div>`;\n",
       "      throw err;\n",
       "    }\n",
       "\n",
       "    function displayChart(vegaEmbed) {\n",
       "      vegaEmbed(outputDiv, spec, embedOpt)\n",
       "        .catch(err => showError(`Javascript Error: ${err.message}<br>This usually means there's a typo in your chart specification. See the javascript console for the full traceback.`));\n",
       "    }\n",
       "\n",
       "    if(typeof define === \"function\" && define.amd) {\n",
       "      requirejs.config({paths});\n",
       "      require([\"vega-embed\"], displayChart, err => showError(`Error loading script: ${err.message}`));\n",
       "    } else {\n",
       "      maybeLoadScript(\"vega\", \"5\")\n",
       "        .then(() => maybeLoadScript(\"vega-lite\", \"4.17.0\"))\n",
       "        .then(() => maybeLoadScript(\"vega-embed\", \"6\"))\n",
       "        .catch(showError)\n",
       "        .then(() => displayChart(vegaEmbed));\n",
       "    }\n",
       "  })({\"config\": {\"view\": {\"continuousWidth\": 400, \"continuousHeight\": 300}, \"axis\": {\"domainColor\": \"#cbcbcb\", \"grid\": true, \"gridColor\": \"#cbcbcb\", \"gridWidth\": 1, \"labelColor\": \"#474747\", \"labelFont\": \"Nunito Sans\", \"labelFontSize\": 10, \"labelPadding\": 4, \"tickColor\": \"#cbcbcb\", \"tickSize\": 10, \"titleColor\": \"#333\", \"titleFont\": \"Raleway\", \"titleFontSize\": 12, \"titlePadding\": 10}, \"axisBand\": {\"grid\": false}, \"background\": \"white\", \"font\": \"Raleway\", \"header\": {\"labelFont\": \"Nunito Sans\", \"titleFont\": \"Raleway\"}, \"legend\": {\"labelColor\": \"#333\", \"labelFont\": \"Nunito Sans\", \"labelFontSize\": 11, \"labelLimit\": 0, \"padding\": 1, \"symbolSize\": 30, \"symbolType\": \"square\", \"titleColor\": \"#333\", \"titleFont\": \"Raleway\", \"titleFontSize\": 14, \"titlePadding\": 10}, \"title\": {\"anchor\": \"middle\", \"font\": \"Raleway\", \"fontSize\": 18, \"fontWeight\": 300, \"offset\": 20}}, \"data\": {\"name\": \"data-b6a08871cdb66ef0f597b6a9c2e76585\"}, \"mark\": \"bar\", \"encoding\": {\"color\": {\"field\": \"prefix\", \"legend\": {\"symbolLimit\": 10, \"title\": \"Prefix\"}, \"scale\": {\"range\": [\"#2EA8CE\", \"#EB9F3C\", \"#F4D837\", \"#51BF9D\", \"#8CBCCB\", \"#9487C0\"]}, \"type\": \"nominal\"}, \"tooltip\": [{\"field\": \"prefix\", \"type\": \"nominal\"}, {\"field\": \"adjusted_total_requested\", \"type\": \"quantitative\"}], \"x\": {\"field\": \"prefix\", \"sort\": \"-y\", \"title\": \"Prefix\", \"type\": \"nominal\"}, \"y\": {\"field\": \"adjusted_total_requested\", \"title\": \"Adjusted Total Requested\", \"type\": \"quantitative\"}}, \"height\": 250, \"width\": 400, \"$schema\": \"https://vega.github.io/schema/vega-lite/v4.17.0.json\", \"datasets\": {\"data-b6a08871cdb66ef0f597b6a9c2e76585\": [{\"prefix\": \"STPLN\", \"adjusted_total_requested\": 20579014.798635393}, {\"prefix\": \"CMSTPL\", \"adjusted_total_requested\": 17548111.28151744}, {\"prefix\": \"FTACML\", \"adjusted_total_requested\": 16081578.405882575}, {\"prefix\": \"BHLS\", \"adjusted_total_requested\": 15216437.083605044}, {\"prefix\": \"BUILDL\", \"adjusted_total_requested\": 8698359.456302924}, {\"prefix\": \"FTASTPL\", \"adjusted_total_requested\": 5727506.751623254}, {\"prefix\": \"CMAQL\", \"adjusted_total_requested\": 5234898.032274796}, {\"prefix\": \"CMLG\", \"adjusted_total_requested\": 5100742.356804292}, {\"prefix\": \"BHLO\", \"adjusted_total_requested\": 4349676.775017127}, {\"prefix\": \"RSTP\", \"adjusted_total_requested\": 3768832.978652005}, {\"prefix\": \"STPBIPL\", \"adjusted_total_requested\": 3654133.3231288833}, {\"prefix\": \"HPLUL\", \"adjusted_total_requested\": 3150168.0985766337}, {\"prefix\": \"HP21L\", \"adjusted_total_requested\": 2215374.030910765}, {\"prefix\": \"DEM05\", \"adjusted_total_requested\": 2069824.5038288925}, {\"prefix\": \"ATPL\", \"adjusted_total_requested\": 1795367.5332096708}, {\"prefix\": \"RPSTPL\", \"adjusted_total_requested\": 1790841.336831949}, {\"prefix\": \"RSTPL\", \"adjusted_total_requested\": 1789551.9240471493}, {\"prefix\": \"BRLS\", \"adjusted_total_requested\": 1635844.2254854431}, {\"prefix\": \"HIPL\", \"adjusted_total_requested\": 1211866.0320751083}, {\"prefix\": \"BHLSCR\", \"adjusted_total_requested\": 1208459.0309990097}, {\"prefix\": \"ATPSB1\", \"adjusted_total_requested\": 1066924.8580818644}, {\"prefix\": \"STBGL\", \"adjusted_total_requested\": 908045.5366623737}, {\"prefix\": \"BRLO\", \"adjusted_total_requested\": 790170.2432677689}, {\"prefix\": \"FSP\", \"adjusted_total_requested\": 684332.9533742531}, {\"prefix\": \"ATPLSB1\", \"adjusted_total_requested\": 671000.5714517687}, {\"prefix\": \"RPSTPLE\", \"adjusted_total_requested\": 650075.7415389898}, {\"prefix\": \"STPL\", \"adjusted_total_requested\": 521454.4066874827}, {\"prefix\": \"BRLKS\", \"adjusted_total_requested\": 520972.3248175151}, {\"prefix\": \"BRL\", \"adjusted_total_requested\": 400152.46920443734}, {\"prefix\": \"FERPL\", \"adjusted_total_requested\": 339808.3036183488}]}}, {\"mode\": \"vega-lite\"});\n",
       "</script>"
      ],
      "text/plain": [
       "alt.Chart(...)"
      ]
     },
     "metadata": {},
     "output_type": "display_data"
    }
   ],
   "source": [
    "# Bar chart Average Total Requested Funds by Prefix\n",
    "chart8 = (_dla_utils_reports.basic_bar_chart_no_save((((_dla_utils_reports.calculate_data_all(df, 'adjusted_total_requested', 'prefix', aggfunc=\"mean\"))\n",
    "                          >>arrange(-_.adjusted_total_requested)).head(30)), 'prefix','adjusted_total_requested', 'prefix', district\n",
    "                       ))\n",
    "    \n",
    "display(HTML(\"<h4><strong>Average Total Requested Funds by Prefix ($2021)</strong></h4>\"))\n",
    "display(chart8)\n",
    "    "
   ]
  },
  {
   "cell_type": "code",
   "execution_count": 19,
   "id": "fba57d98-39a1-4a63-bc94-cecf0841aa75",
   "metadata": {
    "execution": {
     "iopub.execute_input": "2022-05-09T21:57:08.810722Z",
     "iopub.status.busy": "2022-05-09T21:57:08.810520Z",
     "iopub.status.idle": "2022-05-09T21:57:08.817137Z",
     "shell.execute_reply": "2022-05-09T21:57:08.815925Z"
    },
    "jupyter": {
     "source_hidden": true
    },
    "papermill": {
     "duration": 0.017765,
     "end_time": "2022-05-09T21:57:08.819216",
     "exception": false,
     "start_time": "2022-05-09T21:57:08.801451",
     "status": "completed"
    },
    "tags": [
     "remove_input"
    ]
   },
   "outputs": [
    {
     "data": {
      "text/html": [
       "<h2>Work Categories</h2>"
      ],
      "text/plain": [
       "<IPython.core.display.HTML object>"
      ]
     },
     "metadata": {},
     "output_type": "display_data"
    }
   ],
   "source": [
    "#work categories info and charts\n",
    "display(HTML(\"<h2>Work Categories</h2>\"))"
   ]
  },
  {
   "cell_type": "code",
   "execution_count": 20,
   "id": "50a1cf08-17eb-4b2b-9dc0-671ee7551f2d",
   "metadata": {
    "execution": {
     "iopub.execute_input": "2022-05-09T21:57:08.841236Z",
     "iopub.status.busy": "2022-05-09T21:57:08.840959Z",
     "iopub.status.idle": "2022-05-09T21:57:09.442728Z",
     "shell.execute_reply": "2022-05-09T21:57:09.442233Z"
    },
    "jupyter": {
     "source_hidden": true
    },
    "papermill": {
     "duration": 0.614738,
     "end_time": "2022-05-09T21:57:09.444379",
     "exception": false,
     "start_time": "2022-05-09T21:57:08.829641",
     "status": "completed"
    },
    "tags": [
     "remove_input"
    ]
   },
   "outputs": [
    {
     "data": {
      "application/vnd.jupyter.widget-view+json": {
       "model_id": "3b7aa914ee274017adf920c1f86c9077",
       "version_major": 2,
       "version_minor": 0
      },
      "text/plain": [
       "HTML(value='<h3> Top Agencies using Active Transportation Projects </h3>')"
      ]
     },
     "metadata": {},
     "output_type": "display_data"
    },
    {
     "data": {
      "text/html": [
       "<style type=\"text/css\">\n",
       "</style>\n",
       "<table id=\"T_3f239_\">\n",
       "  <thead>\n",
       "    <tr>\n",
       "      <th class=\"blank level0\" >&nbsp;</th>\n",
       "      <th class=\"col_heading level0 col0\" >Agency</th>\n",
       "      <th class=\"col_heading level0 col1\" >Active Transportation Obligations</th>\n",
       "      <th class=\"col_heading level0 col2\" >Percent of Category</th>\n",
       "    </tr>\n",
       "  </thead>\n",
       "  <tbody>\n",
       "    <tr>\n",
       "      <th id=\"T_3f239_level0_row0\" class=\"row_heading level0 row0\" >0</th>\n",
       "      <td id=\"T_3f239_row0_col0\" class=\"data row0 col0\" >San Diego Association of Governments</td>\n",
       "      <td id=\"T_3f239_row0_col1\" class=\"data row0 col1\" >36</td>\n",
       "      <td id=\"T_3f239_row0_col2\" class=\"data row0 col2\" >14.63%</td>\n",
       "    </tr>\n",
       "    <tr>\n",
       "      <th id=\"T_3f239_level0_row1\" class=\"row_heading level0 row1\" >1</th>\n",
       "      <td id=\"T_3f239_row1_col0\" class=\"data row1 col0\" >Chula Vista</td>\n",
       "      <td id=\"T_3f239_row1_col1\" class=\"data row1 col1\" >23</td>\n",
       "      <td id=\"T_3f239_row1_col2\" class=\"data row1 col2\" >9.35%</td>\n",
       "    </tr>\n",
       "    <tr>\n",
       "      <th id=\"T_3f239_level0_row2\" class=\"row_heading level0 row2\" >2</th>\n",
       "      <td id=\"T_3f239_row2_col0\" class=\"data row2 col0\" >National City</td>\n",
       "      <td id=\"T_3f239_row2_col1\" class=\"data row2 col1\" >19</td>\n",
       "      <td id=\"T_3f239_row2_col2\" class=\"data row2 col2\" >7.72%</td>\n",
       "    </tr>\n",
       "    <tr>\n",
       "      <th id=\"T_3f239_level0_row3\" class=\"row_heading level0 row3\" >3</th>\n",
       "      <td id=\"T_3f239_row3_col0\" class=\"data row3 col0\" >San Diego</td>\n",
       "      <td id=\"T_3f239_row3_col1\" class=\"data row3 col1\" >19</td>\n",
       "      <td id=\"T_3f239_row3_col2\" class=\"data row3 col2\" >7.72%</td>\n",
       "    </tr>\n",
       "    <tr>\n",
       "      <th id=\"T_3f239_level0_row4\" class=\"row_heading level0 row4\" >4</th>\n",
       "      <td id=\"T_3f239_row4_col0\" class=\"data row4 col0\" >Holtville</td>\n",
       "      <td id=\"T_3f239_row4_col1\" class=\"data row4 col1\" >18</td>\n",
       "      <td id=\"T_3f239_row4_col2\" class=\"data row4 col2\" >7.32%</td>\n",
       "    </tr>\n",
       "  </tbody>\n",
       "</table>\n"
      ],
      "text/plain": [
       "<pandas.io.formats.style.Styler at 0x7ff031d35b10>"
      ]
     },
     "metadata": {},
     "output_type": "display_data"
    },
    {
     "data": {
      "text/html": [
       "\n",
       "<div id=\"altair-viz-401a18b437674e00893fe8f2919204f0\"></div>\n",
       "<script type=\"text/javascript\">\n",
       "  var VEGA_DEBUG = (typeof VEGA_DEBUG == \"undefined\") ? {} : VEGA_DEBUG;\n",
       "  (function(spec, embedOpt){\n",
       "    let outputDiv = document.currentScript.previousElementSibling;\n",
       "    if (outputDiv.id !== \"altair-viz-401a18b437674e00893fe8f2919204f0\") {\n",
       "      outputDiv = document.getElementById(\"altair-viz-401a18b437674e00893fe8f2919204f0\");\n",
       "    }\n",
       "    const paths = {\n",
       "      \"vega\": \"https://cdn.jsdelivr.net/npm//vega@5?noext\",\n",
       "      \"vega-lib\": \"https://cdn.jsdelivr.net/npm//vega-lib?noext\",\n",
       "      \"vega-lite\": \"https://cdn.jsdelivr.net/npm//vega-lite@4.17.0?noext\",\n",
       "      \"vega-embed\": \"https://cdn.jsdelivr.net/npm//vega-embed@6?noext\",\n",
       "    };\n",
       "\n",
       "    function maybeLoadScript(lib, version) {\n",
       "      var key = `${lib.replace(\"-\", \"\")}_version`;\n",
       "      return (VEGA_DEBUG[key] == version) ?\n",
       "        Promise.resolve(paths[lib]) :\n",
       "        new Promise(function(resolve, reject) {\n",
       "          var s = document.createElement('script');\n",
       "          document.getElementsByTagName(\"head\")[0].appendChild(s);\n",
       "          s.async = true;\n",
       "          s.onload = () => {\n",
       "            VEGA_DEBUG[key] = version;\n",
       "            return resolve(paths[lib]);\n",
       "          };\n",
       "          s.onerror = () => reject(`Error loading script: ${paths[lib]}`);\n",
       "          s.src = paths[lib];\n",
       "        });\n",
       "    }\n",
       "\n",
       "    function showError(err) {\n",
       "      outputDiv.innerHTML = `<div class=\"error\" style=\"color:red;\">${err}</div>`;\n",
       "      throw err;\n",
       "    }\n",
       "\n",
       "    function displayChart(vegaEmbed) {\n",
       "      vegaEmbed(outputDiv, spec, embedOpt)\n",
       "        .catch(err => showError(`Javascript Error: ${err.message}<br>This usually means there's a typo in your chart specification. See the javascript console for the full traceback.`));\n",
       "    }\n",
       "\n",
       "    if(typeof define === \"function\" && define.amd) {\n",
       "      requirejs.config({paths});\n",
       "      require([\"vega-embed\"], displayChart, err => showError(`Error loading script: ${err.message}`));\n",
       "    } else {\n",
       "      maybeLoadScript(\"vega\", \"5\")\n",
       "        .then(() => maybeLoadScript(\"vega-lite\", \"4.17.0\"))\n",
       "        .then(() => maybeLoadScript(\"vega-embed\", \"6\"))\n",
       "        .catch(showError)\n",
       "        .then(() => displayChart(vegaEmbed));\n",
       "    }\n",
       "  })({\"config\": {\"view\": {\"continuousWidth\": 400, \"continuousHeight\": 300}}, \"data\": {\"name\": \"data-dd3be70193a40525527e901483809acb\"}, \"mark\": \"bar\", \"encoding\": {\"color\": {\"field\": \"Categories\", \"scale\": {\"range\": [\"#2EA8CE\", \"#EB9F3C\", \"#F4D837\", \"#51BF9D\", \"#8CBCCB\", \"#9487C0\"]}, \"type\": \"nominal\"}, \"row\": {\"field\": \"Categories\", \"type\": \"nominal\"}, \"tooltip\": [{\"field\": \"Agency\", \"type\": \"nominal\"}, {\"field\": \"Funding Amount\", \"type\": \"quantitative\"}], \"x\": {\"axis\": {\"format\": \"$.2s\", \"title\": \"Obligated Funding ($2021)\"}, \"field\": \"Funding Amount\", \"type\": \"quantitative\"}, \"y\": {\"field\": \"Agency\", \"type\": \"nominal\"}}, \"$schema\": \"https://vega.github.io/schema/vega-lite/v4.17.0.json\", \"datasets\": {\"data-dd3be70193a40525527e901483809acb\": [{\"Agency\": \"San Diego Association of Governments\", \"Categories\": \"Total Requested\", \"Funding Amount\": 1632962.4029505376}, {\"Agency\": \"Chula Vista\", \"Categories\": \"Total Requested\", \"Funding Amount\": 293139.8336099144}, {\"Agency\": \"National City\", \"Categories\": \"Total Requested\", \"Funding Amount\": 353152.98651820247}, {\"Agency\": \"San Diego\", \"Categories\": \"Total Requested\", \"Funding Amount\": 1112447.489558629}, {\"Agency\": \"Holtville\", \"Categories\": \"Total Requested\", \"Funding Amount\": 138973.23703729923}, {\"Agency\": \"San Diego Association of Governments\", \"Categories\": \"Fed Requested\", \"Funding Amount\": 1115390.6477101063}, {\"Agency\": \"Chula Vista\", \"Categories\": \"Fed Requested\", \"Funding Amount\": 228368.91787496302}, {\"Agency\": \"National City\", \"Categories\": \"Fed Requested\", \"Funding Amount\": 234119.89790594715}, {\"Agency\": \"San Diego\", \"Categories\": \"Fed Requested\", \"Funding Amount\": 415147.88617833797}, {\"Agency\": \"Holtville\", \"Categories\": \"Fed Requested\", \"Funding Amount\": 116427.52254277602}, {\"Agency\": \"San Diego Association of Governments\", \"Categories\": \"AC Requested\", \"Funding Amount\": 10676.278262101425}, {\"Agency\": \"Chula Vista\", \"Categories\": \"AC Requested\", \"Funding Amount\": 0.0}, {\"Agency\": \"National City\", \"Categories\": \"AC Requested\", \"Funding Amount\": 0.0}, {\"Agency\": \"San Diego\", \"Categories\": \"AC Requested\", \"Funding Amount\": -19965.61539739529}, {\"Agency\": \"Holtville\", \"Categories\": \"AC Requested\", \"Funding Amount\": 0.0}]}}, {\"mode\": \"vega-lite\"});\n",
       "</script>"
      ],
      "text/plain": [
       "alt.Chart(...)"
      ]
     },
     "metadata": {},
     "output_type": "display_data"
    },
    {
     "data": {
      "application/vnd.jupyter.widget-view+json": {
       "model_id": "58803970648d4301874e8d53f2f2ce13",
       "version_major": 2,
       "version_minor": 0
      },
      "text/plain": [
       "HTML(value='<h3> Top Agencies using Transit Projects </h3>')"
      ]
     },
     "metadata": {},
     "output_type": "display_data"
    },
    {
     "data": {
      "text/html": [
       "<style type=\"text/css\">\n",
       "</style>\n",
       "<table id=\"T_30d91_\">\n",
       "  <thead>\n",
       "    <tr>\n",
       "      <th class=\"blank level0\" >&nbsp;</th>\n",
       "      <th class=\"col_heading level0 col0\" >Agency</th>\n",
       "      <th class=\"col_heading level0 col1\" >Transit Obligations</th>\n",
       "      <th class=\"col_heading level0 col2\" >Percent of Category</th>\n",
       "    </tr>\n",
       "  </thead>\n",
       "  <tbody>\n",
       "    <tr>\n",
       "      <th id=\"T_30d91_level0_row0\" class=\"row_heading level0 row0\" >0</th>\n",
       "      <td id=\"T_30d91_row0_col0\" class=\"data row0 col0\" >Chula Vista</td>\n",
       "      <td id=\"T_30d91_row0_col1\" class=\"data row0 col1\" >3</td>\n",
       "      <td id=\"T_30d91_row0_col2\" class=\"data row0 col2\" >75.00%</td>\n",
       "    </tr>\n",
       "    <tr>\n",
       "      <th id=\"T_30d91_level0_row1\" class=\"row_heading level0 row1\" >1</th>\n",
       "      <td id=\"T_30d91_row1_col0\" class=\"data row1 col0\" >San Diego Association of Governments</td>\n",
       "      <td id=\"T_30d91_row1_col1\" class=\"data row1 col1\" >1</td>\n",
       "      <td id=\"T_30d91_row1_col2\" class=\"data row1 col2\" >25.00%</td>\n",
       "    </tr>\n",
       "  </tbody>\n",
       "</table>\n"
      ],
      "text/plain": [
       "<pandas.io.formats.style.Styler at 0x7ff031d2e890>"
      ]
     },
     "metadata": {},
     "output_type": "display_data"
    },
    {
     "data": {
      "text/html": [
       "\n",
       "<div id=\"altair-viz-bade087021bd4e0eb84f3447ec1d3bbe\"></div>\n",
       "<script type=\"text/javascript\">\n",
       "  var VEGA_DEBUG = (typeof VEGA_DEBUG == \"undefined\") ? {} : VEGA_DEBUG;\n",
       "  (function(spec, embedOpt){\n",
       "    let outputDiv = document.currentScript.previousElementSibling;\n",
       "    if (outputDiv.id !== \"altair-viz-bade087021bd4e0eb84f3447ec1d3bbe\") {\n",
       "      outputDiv = document.getElementById(\"altair-viz-bade087021bd4e0eb84f3447ec1d3bbe\");\n",
       "    }\n",
       "    const paths = {\n",
       "      \"vega\": \"https://cdn.jsdelivr.net/npm//vega@5?noext\",\n",
       "      \"vega-lib\": \"https://cdn.jsdelivr.net/npm//vega-lib?noext\",\n",
       "      \"vega-lite\": \"https://cdn.jsdelivr.net/npm//vega-lite@4.17.0?noext\",\n",
       "      \"vega-embed\": \"https://cdn.jsdelivr.net/npm//vega-embed@6?noext\",\n",
       "    };\n",
       "\n",
       "    function maybeLoadScript(lib, version) {\n",
       "      var key = `${lib.replace(\"-\", \"\")}_version`;\n",
       "      return (VEGA_DEBUG[key] == version) ?\n",
       "        Promise.resolve(paths[lib]) :\n",
       "        new Promise(function(resolve, reject) {\n",
       "          var s = document.createElement('script');\n",
       "          document.getElementsByTagName(\"head\")[0].appendChild(s);\n",
       "          s.async = true;\n",
       "          s.onload = () => {\n",
       "            VEGA_DEBUG[key] = version;\n",
       "            return resolve(paths[lib]);\n",
       "          };\n",
       "          s.onerror = () => reject(`Error loading script: ${paths[lib]}`);\n",
       "          s.src = paths[lib];\n",
       "        });\n",
       "    }\n",
       "\n",
       "    function showError(err) {\n",
       "      outputDiv.innerHTML = `<div class=\"error\" style=\"color:red;\">${err}</div>`;\n",
       "      throw err;\n",
       "    }\n",
       "\n",
       "    function displayChart(vegaEmbed) {\n",
       "      vegaEmbed(outputDiv, spec, embedOpt)\n",
       "        .catch(err => showError(`Javascript Error: ${err.message}<br>This usually means there's a typo in your chart specification. See the javascript console for the full traceback.`));\n",
       "    }\n",
       "\n",
       "    if(typeof define === \"function\" && define.amd) {\n",
       "      requirejs.config({paths});\n",
       "      require([\"vega-embed\"], displayChart, err => showError(`Error loading script: ${err.message}`));\n",
       "    } else {\n",
       "      maybeLoadScript(\"vega\", \"5\")\n",
       "        .then(() => maybeLoadScript(\"vega-lite\", \"4.17.0\"))\n",
       "        .then(() => maybeLoadScript(\"vega-embed\", \"6\"))\n",
       "        .catch(showError)\n",
       "        .then(() => displayChart(vegaEmbed));\n",
       "    }\n",
       "  })({\"config\": {\"view\": {\"continuousWidth\": 400, \"continuousHeight\": 300}}, \"data\": {\"name\": \"data-39d84cff43a359936c5aefff6eb701f0\"}, \"mark\": \"bar\", \"encoding\": {\"color\": {\"field\": \"Categories\", \"scale\": {\"range\": [\"#2EA8CE\", \"#EB9F3C\", \"#F4D837\", \"#51BF9D\", \"#8CBCCB\", \"#9487C0\"]}, \"type\": \"nominal\"}, \"row\": {\"field\": \"Categories\", \"type\": \"nominal\"}, \"tooltip\": [{\"field\": \"Agency\", \"type\": \"nominal\"}, {\"field\": \"Funding Amount\", \"type\": \"quantitative\"}], \"x\": {\"axis\": {\"format\": \"$.2s\", \"title\": \"Obligated Funding ($2021)\"}, \"field\": \"Funding Amount\", \"type\": \"quantitative\"}, \"y\": {\"field\": \"Agency\", \"type\": \"nominal\"}}, \"$schema\": \"https://vega.github.io/schema/vega-lite/v4.17.0.json\", \"datasets\": {\"data-39d84cff43a359936c5aefff6eb701f0\": [{\"Agency\": \"Chula Vista\", \"Categories\": \"Total Requested\", \"Funding Amount\": 20751.538136718464}, {\"Agency\": \"San Diego Association of Governments\", \"Categories\": \"Total Requested\", \"Funding Amount\": 6303789.225785894}, {\"Agency\": \"Chula Vista\", \"Categories\": \"Fed Requested\", \"Funding Amount\": 16169.694788192624}, {\"Agency\": \"San Diego Association of Governments\", \"Categories\": \"Fed Requested\", \"Funding Amount\": 3980616.4637417546}, {\"Agency\": \"Chula Vista\", \"Categories\": \"AC Requested\", \"Funding Amount\": 0.0}, {\"Agency\": \"San Diego Association of Governments\", \"Categories\": \"AC Requested\", \"Funding Amount\": 0.0}]}}, {\"mode\": \"vega-lite\"});\n",
       "</script>"
      ],
      "text/plain": [
       "alt.Chart(...)"
      ]
     },
     "metadata": {},
     "output_type": "display_data"
    },
    {
     "data": {
      "application/vnd.jupyter.widget-view+json": {
       "model_id": "8f6c016ae5a6477b97b30e5e3469a8de",
       "version_major": 2,
       "version_minor": 0
      },
      "text/plain": [
       "HTML(value='<h3> Top Agencies using Bridge Projects </h3>')"
      ]
     },
     "metadata": {},
     "output_type": "display_data"
    },
    {
     "data": {
      "text/html": [
       "<style type=\"text/css\">\n",
       "</style>\n",
       "<table id=\"T_8f751_\">\n",
       "  <thead>\n",
       "    <tr>\n",
       "      <th class=\"blank level0\" >&nbsp;</th>\n",
       "      <th class=\"col_heading level0 col0\" >Agency</th>\n",
       "      <th class=\"col_heading level0 col1\" >Bridge Obligations</th>\n",
       "      <th class=\"col_heading level0 col2\" >Percent of Category</th>\n",
       "    </tr>\n",
       "  </thead>\n",
       "  <tbody>\n",
       "    <tr>\n",
       "      <th id=\"T_8f751_level0_row0\" class=\"row_heading level0 row0\" >0</th>\n",
       "      <td id=\"T_8f751_row0_col0\" class=\"data row0 col0\" >San Diego County</td>\n",
       "      <td id=\"T_8f751_row0_col1\" class=\"data row0 col1\" >36</td>\n",
       "      <td id=\"T_8f751_row0_col2\" class=\"data row0 col2\" >25.17%</td>\n",
       "    </tr>\n",
       "    <tr>\n",
       "      <th id=\"T_8f751_level0_row1\" class=\"row_heading level0 row1\" >1</th>\n",
       "      <td id=\"T_8f751_row1_col0\" class=\"data row1 col0\" >San Diego</td>\n",
       "      <td id=\"T_8f751_row1_col1\" class=\"data row1 col1\" >32</td>\n",
       "      <td id=\"T_8f751_row1_col2\" class=\"data row1 col2\" >22.38%</td>\n",
       "    </tr>\n",
       "    <tr>\n",
       "      <th id=\"T_8f751_level0_row2\" class=\"row_heading level0 row2\" >2</th>\n",
       "      <td id=\"T_8f751_row2_col0\" class=\"data row2 col0\" >Imperial County</td>\n",
       "      <td id=\"T_8f751_row2_col1\" class=\"data row2 col1\" >16</td>\n",
       "      <td id=\"T_8f751_row2_col2\" class=\"data row2 col2\" >11.19%</td>\n",
       "    </tr>\n",
       "    <tr>\n",
       "      <th id=\"T_8f751_level0_row3\" class=\"row_heading level0 row3\" >3</th>\n",
       "      <td id=\"T_8f751_row3_col0\" class=\"data row3 col0\" >Chula Vista</td>\n",
       "      <td id=\"T_8f751_row3_col1\" class=\"data row3 col1\" >14</td>\n",
       "      <td id=\"T_8f751_row3_col2\" class=\"data row3 col2\" >9.79%</td>\n",
       "    </tr>\n",
       "    <tr>\n",
       "      <th id=\"T_8f751_level0_row4\" class=\"row_heading level0 row4\" >4</th>\n",
       "      <td id=\"T_8f751_row4_col0\" class=\"data row4 col0\" >San Marcos</td>\n",
       "      <td id=\"T_8f751_row4_col1\" class=\"data row4 col1\" >11</td>\n",
       "      <td id=\"T_8f751_row4_col2\" class=\"data row4 col2\" >7.69%</td>\n",
       "    </tr>\n",
       "  </tbody>\n",
       "</table>\n"
      ],
      "text/plain": [
       "<pandas.io.formats.style.Styler at 0x7feff10d0a90>"
      ]
     },
     "metadata": {},
     "output_type": "display_data"
    },
    {
     "data": {
      "text/html": [
       "\n",
       "<div id=\"altair-viz-35421d08183643e48b7d6ce0198a37a3\"></div>\n",
       "<script type=\"text/javascript\">\n",
       "  var VEGA_DEBUG = (typeof VEGA_DEBUG == \"undefined\") ? {} : VEGA_DEBUG;\n",
       "  (function(spec, embedOpt){\n",
       "    let outputDiv = document.currentScript.previousElementSibling;\n",
       "    if (outputDiv.id !== \"altair-viz-35421d08183643e48b7d6ce0198a37a3\") {\n",
       "      outputDiv = document.getElementById(\"altair-viz-35421d08183643e48b7d6ce0198a37a3\");\n",
       "    }\n",
       "    const paths = {\n",
       "      \"vega\": \"https://cdn.jsdelivr.net/npm//vega@5?noext\",\n",
       "      \"vega-lib\": \"https://cdn.jsdelivr.net/npm//vega-lib?noext\",\n",
       "      \"vega-lite\": \"https://cdn.jsdelivr.net/npm//vega-lite@4.17.0?noext\",\n",
       "      \"vega-embed\": \"https://cdn.jsdelivr.net/npm//vega-embed@6?noext\",\n",
       "    };\n",
       "\n",
       "    function maybeLoadScript(lib, version) {\n",
       "      var key = `${lib.replace(\"-\", \"\")}_version`;\n",
       "      return (VEGA_DEBUG[key] == version) ?\n",
       "        Promise.resolve(paths[lib]) :\n",
       "        new Promise(function(resolve, reject) {\n",
       "          var s = document.createElement('script');\n",
       "          document.getElementsByTagName(\"head\")[0].appendChild(s);\n",
       "          s.async = true;\n",
       "          s.onload = () => {\n",
       "            VEGA_DEBUG[key] = version;\n",
       "            return resolve(paths[lib]);\n",
       "          };\n",
       "          s.onerror = () => reject(`Error loading script: ${paths[lib]}`);\n",
       "          s.src = paths[lib];\n",
       "        });\n",
       "    }\n",
       "\n",
       "    function showError(err) {\n",
       "      outputDiv.innerHTML = `<div class=\"error\" style=\"color:red;\">${err}</div>`;\n",
       "      throw err;\n",
       "    }\n",
       "\n",
       "    function displayChart(vegaEmbed) {\n",
       "      vegaEmbed(outputDiv, spec, embedOpt)\n",
       "        .catch(err => showError(`Javascript Error: ${err.message}<br>This usually means there's a typo in your chart specification. See the javascript console for the full traceback.`));\n",
       "    }\n",
       "\n",
       "    if(typeof define === \"function\" && define.amd) {\n",
       "      requirejs.config({paths});\n",
       "      require([\"vega-embed\"], displayChart, err => showError(`Error loading script: ${err.message}`));\n",
       "    } else {\n",
       "      maybeLoadScript(\"vega\", \"5\")\n",
       "        .then(() => maybeLoadScript(\"vega-lite\", \"4.17.0\"))\n",
       "        .then(() => maybeLoadScript(\"vega-embed\", \"6\"))\n",
       "        .catch(showError)\n",
       "        .then(() => displayChart(vegaEmbed));\n",
       "    }\n",
       "  })({\"config\": {\"view\": {\"continuousWidth\": 400, \"continuousHeight\": 300}}, \"data\": {\"name\": \"data-7b3ab7c5dcee0cabfb78473256bf0114\"}, \"mark\": \"bar\", \"encoding\": {\"color\": {\"field\": \"Categories\", \"scale\": {\"range\": [\"#2EA8CE\", \"#EB9F3C\", \"#F4D837\", \"#51BF9D\", \"#8CBCCB\", \"#9487C0\"]}, \"type\": \"nominal\"}, \"row\": {\"field\": \"Categories\", \"type\": \"nominal\"}, \"tooltip\": [{\"field\": \"Agency\", \"type\": \"nominal\"}, {\"field\": \"Funding Amount\", \"type\": \"quantitative\"}], \"x\": {\"axis\": {\"format\": \"$.2s\", \"title\": \"Obligated Funding ($2021)\"}, \"field\": \"Funding Amount\", \"type\": \"quantitative\"}, \"y\": {\"field\": \"Agency\", \"type\": \"nominal\"}}, \"$schema\": \"https://vega.github.io/schema/vega-lite/v4.17.0.json\", \"datasets\": {\"data-7b3ab7c5dcee0cabfb78473256bf0114\": [{\"Agency\": \"San Diego County\", \"Categories\": \"Total Requested\", \"Funding Amount\": 335049.5609335508}, {\"Agency\": \"San Diego\", \"Categories\": \"Total Requested\", \"Funding Amount\": 5208421.448938236}, {\"Agency\": \"Imperial County\", \"Categories\": \"Total Requested\", \"Funding Amount\": 81293.2389185261}, {\"Agency\": \"Chula Vista\", \"Categories\": \"Total Requested\", \"Funding Amount\": 2525114.3044538037}, {\"Agency\": \"San Marcos\", \"Categories\": \"Total Requested\", \"Funding Amount\": 3234511.657535643}, {\"Agency\": \"San Diego County\", \"Categories\": \"Fed Requested\", \"Funding Amount\": 305253.40314520645}, {\"Agency\": \"San Diego\", \"Categories\": \"Fed Requested\", \"Funding Amount\": 1068501.0985044767}, {\"Agency\": \"Imperial County\", \"Categories\": \"Fed Requested\", \"Funding Amount\": 56162.556778652455}, {\"Agency\": \"Chula Vista\", \"Categories\": \"Fed Requested\", \"Funding Amount\": 2041087.9408565355}, {\"Agency\": \"San Marcos\", \"Categories\": \"Fed Requested\", \"Funding Amount\": 1892548.9338497499}, {\"Agency\": \"San Diego County\", \"Categories\": \"AC Requested\", \"Funding Amount\": 0.0}, {\"Agency\": \"San Diego\", \"Categories\": \"AC Requested\", \"Funding Amount\": 3397656.0417446536}, {\"Agency\": \"Imperial County\", \"Categories\": \"AC Requested\", \"Funding Amount\": 2959.5794371526426}, {\"Agency\": \"Chula Vista\", \"Categories\": \"AC Requested\", \"Funding Amount\": 0.0}, {\"Agency\": \"San Marcos\", \"Categories\": \"AC Requested\", \"Funding Amount\": 518071.8252282115}]}}, {\"mode\": \"vega-lite\"});\n",
       "</script>"
      ],
      "text/plain": [
       "alt.Chart(...)"
      ]
     },
     "metadata": {},
     "output_type": "display_data"
    },
    {
     "data": {
      "application/vnd.jupyter.widget-view+json": {
       "model_id": "c7d816abbba148f88c2d04316d8dabd1",
       "version_major": 2,
       "version_minor": 0
      },
      "text/plain": [
       "HTML(value='<h3> Top Agencies using Street Projects </h3>')"
      ]
     },
     "metadata": {},
     "output_type": "display_data"
    },
    {
     "data": {
      "text/html": [
       "<style type=\"text/css\">\n",
       "</style>\n",
       "<table id=\"T_f0da5_\">\n",
       "  <thead>\n",
       "    <tr>\n",
       "      <th class=\"blank level0\" >&nbsp;</th>\n",
       "      <th class=\"col_heading level0 col0\" >Agency</th>\n",
       "      <th class=\"col_heading level0 col1\" >Street Obligations</th>\n",
       "      <th class=\"col_heading level0 col2\" >Percent of Category</th>\n",
       "    </tr>\n",
       "  </thead>\n",
       "  <tbody>\n",
       "    <tr>\n",
       "      <th id=\"T_f0da5_level0_row0\" class=\"row_heading level0 row0\" >0</th>\n",
       "      <td id=\"T_f0da5_row0_col0\" class=\"data row0 col0\" >Chula Vista</td>\n",
       "      <td id=\"T_f0da5_row0_col1\" class=\"data row0 col1\" >33</td>\n",
       "      <td id=\"T_f0da5_row0_col2\" class=\"data row0 col2\" >7.82%</td>\n",
       "    </tr>\n",
       "    <tr>\n",
       "      <th id=\"T_f0da5_level0_row1\" class=\"row_heading level0 row1\" >1</th>\n",
       "      <td id=\"T_f0da5_row1_col0\" class=\"data row1 col0\" >Imperial County</td>\n",
       "      <td id=\"T_f0da5_row1_col1\" class=\"data row1 col1\" >32</td>\n",
       "      <td id=\"T_f0da5_row1_col2\" class=\"data row1 col2\" >7.58%</td>\n",
       "    </tr>\n",
       "    <tr>\n",
       "      <th id=\"T_f0da5_level0_row2\" class=\"row_heading level0 row2\" >2</th>\n",
       "      <td id=\"T_f0da5_row2_col0\" class=\"data row2 col0\" >National City</td>\n",
       "      <td id=\"T_f0da5_row2_col1\" class=\"data row2 col1\" >31</td>\n",
       "      <td id=\"T_f0da5_row2_col2\" class=\"data row2 col2\" >7.35%</td>\n",
       "    </tr>\n",
       "    <tr>\n",
       "      <th id=\"T_f0da5_level0_row3\" class=\"row_heading level0 row3\" >3</th>\n",
       "      <td id=\"T_f0da5_row3_col0\" class=\"data row3 col0\" >San Diego County</td>\n",
       "      <td id=\"T_f0da5_row3_col1\" class=\"data row3 col1\" >28</td>\n",
       "      <td id=\"T_f0da5_row3_col2\" class=\"data row3 col2\" >6.64%</td>\n",
       "    </tr>\n",
       "    <tr>\n",
       "      <th id=\"T_f0da5_level0_row4\" class=\"row_heading level0 row4\" >4</th>\n",
       "      <td id=\"T_f0da5_row4_col0\" class=\"data row4 col0\" >El Cajon</td>\n",
       "      <td id=\"T_f0da5_row4_col1\" class=\"data row4 col1\" >27</td>\n",
       "      <td id=\"T_f0da5_row4_col2\" class=\"data row4 col2\" >6.40%</td>\n",
       "    </tr>\n",
       "  </tbody>\n",
       "</table>\n"
      ],
      "text/plain": [
       "<pandas.io.formats.style.Styler at 0x7feff10ede50>"
      ]
     },
     "metadata": {},
     "output_type": "display_data"
    },
    {
     "data": {
      "text/html": [
       "\n",
       "<div id=\"altair-viz-b1439f9abbc04e7faaa73052ba34ac3e\"></div>\n",
       "<script type=\"text/javascript\">\n",
       "  var VEGA_DEBUG = (typeof VEGA_DEBUG == \"undefined\") ? {} : VEGA_DEBUG;\n",
       "  (function(spec, embedOpt){\n",
       "    let outputDiv = document.currentScript.previousElementSibling;\n",
       "    if (outputDiv.id !== \"altair-viz-b1439f9abbc04e7faaa73052ba34ac3e\") {\n",
       "      outputDiv = document.getElementById(\"altair-viz-b1439f9abbc04e7faaa73052ba34ac3e\");\n",
       "    }\n",
       "    const paths = {\n",
       "      \"vega\": \"https://cdn.jsdelivr.net/npm//vega@5?noext\",\n",
       "      \"vega-lib\": \"https://cdn.jsdelivr.net/npm//vega-lib?noext\",\n",
       "      \"vega-lite\": \"https://cdn.jsdelivr.net/npm//vega-lite@4.17.0?noext\",\n",
       "      \"vega-embed\": \"https://cdn.jsdelivr.net/npm//vega-embed@6?noext\",\n",
       "    };\n",
       "\n",
       "    function maybeLoadScript(lib, version) {\n",
       "      var key = `${lib.replace(\"-\", \"\")}_version`;\n",
       "      return (VEGA_DEBUG[key] == version) ?\n",
       "        Promise.resolve(paths[lib]) :\n",
       "        new Promise(function(resolve, reject) {\n",
       "          var s = document.createElement('script');\n",
       "          document.getElementsByTagName(\"head\")[0].appendChild(s);\n",
       "          s.async = true;\n",
       "          s.onload = () => {\n",
       "            VEGA_DEBUG[key] = version;\n",
       "            return resolve(paths[lib]);\n",
       "          };\n",
       "          s.onerror = () => reject(`Error loading script: ${paths[lib]}`);\n",
       "          s.src = paths[lib];\n",
       "        });\n",
       "    }\n",
       "\n",
       "    function showError(err) {\n",
       "      outputDiv.innerHTML = `<div class=\"error\" style=\"color:red;\">${err}</div>`;\n",
       "      throw err;\n",
       "    }\n",
       "\n",
       "    function displayChart(vegaEmbed) {\n",
       "      vegaEmbed(outputDiv, spec, embedOpt)\n",
       "        .catch(err => showError(`Javascript Error: ${err.message}<br>This usually means there's a typo in your chart specification. See the javascript console for the full traceback.`));\n",
       "    }\n",
       "\n",
       "    if(typeof define === \"function\" && define.amd) {\n",
       "      requirejs.config({paths});\n",
       "      require([\"vega-embed\"], displayChart, err => showError(`Error loading script: ${err.message}`));\n",
       "    } else {\n",
       "      maybeLoadScript(\"vega\", \"5\")\n",
       "        .then(() => maybeLoadScript(\"vega-lite\", \"4.17.0\"))\n",
       "        .then(() => maybeLoadScript(\"vega-embed\", \"6\"))\n",
       "        .catch(showError)\n",
       "        .then(() => displayChart(vegaEmbed));\n",
       "    }\n",
       "  })({\"config\": {\"view\": {\"continuousWidth\": 400, \"continuousHeight\": 300}}, \"data\": {\"name\": \"data-49a49c2ad20180bbcc021ab13654dfba\"}, \"mark\": \"bar\", \"encoding\": {\"color\": {\"field\": \"Categories\", \"scale\": {\"range\": [\"#2EA8CE\", \"#EB9F3C\", \"#F4D837\", \"#51BF9D\", \"#8CBCCB\", \"#9487C0\"]}, \"type\": \"nominal\"}, \"row\": {\"field\": \"Categories\", \"type\": \"nominal\"}, \"tooltip\": [{\"field\": \"Agency\", \"type\": \"nominal\"}, {\"field\": \"Funding Amount\", \"type\": \"quantitative\"}], \"x\": {\"axis\": {\"format\": \"$.2s\", \"title\": \"Obligated Funding ($2021)\"}, \"field\": \"Funding Amount\", \"type\": \"quantitative\"}, \"y\": {\"field\": \"Agency\", \"type\": \"nominal\"}}, \"$schema\": \"https://vega.github.io/schema/vega-lite/v4.17.0.json\", \"datasets\": {\"data-49a49c2ad20180bbcc021ab13654dfba\": [{\"Agency\": \"Chula Vista\", \"Categories\": \"Total Requested\", \"Funding Amount\": 321066.6809492646}, {\"Agency\": \"Imperial County\", \"Categories\": \"Total Requested\", \"Funding Amount\": 332774.93648752745}, {\"Agency\": \"National City\", \"Categories\": \"Total Requested\", \"Funding Amount\": 363593.68252797367}, {\"Agency\": \"San Diego County\", \"Categories\": \"Total Requested\", \"Funding Amount\": 193218.1849205493}, {\"Agency\": \"El Cajon\", \"Categories\": \"Total Requested\", \"Funding Amount\": 329657.5843330994}, {\"Agency\": \"Chula Vista\", \"Categories\": \"Fed Requested\", \"Funding Amount\": 223549.69049714433}, {\"Agency\": \"Imperial County\", \"Categories\": \"Fed Requested\", \"Funding Amount\": 236588.6198894495}, {\"Agency\": \"National City\", \"Categories\": \"Fed Requested\", \"Funding Amount\": 208843.9566036446}, {\"Agency\": \"San Diego County\", \"Categories\": \"Fed Requested\", \"Funding Amount\": 168556.090430375}, {\"Agency\": \"El Cajon\", \"Categories\": \"Fed Requested\", \"Funding Amount\": 222795.75062710128}, {\"Agency\": \"Chula Vista\", \"Categories\": \"AC Requested\", \"Funding Amount\": 0.0}, {\"Agency\": \"Imperial County\", \"Categories\": \"AC Requested\", \"Funding Amount\": 0.0}, {\"Agency\": \"National City\", \"Categories\": \"AC Requested\", \"Funding Amount\": 0.0}, {\"Agency\": \"San Diego County\", \"Categories\": \"AC Requested\", \"Funding Amount\": 0.0}, {\"Agency\": \"El Cajon\", \"Categories\": \"AC Requested\", \"Funding Amount\": 0.0}]}}, {\"mode\": \"vega-lite\"});\n",
       "</script>"
      ],
      "text/plain": [
       "alt.Chart(...)"
      ]
     },
     "metadata": {},
     "output_type": "display_data"
    },
    {
     "data": {
      "application/vnd.jupyter.widget-view+json": {
       "model_id": "738fc8dbf7ee4544a0b7b9cdc061625b",
       "version_major": 2,
       "version_minor": 0
      },
      "text/plain": [
       "HTML(value='<h3> Top Agencies using Freeway Projects </h3>')"
      ]
     },
     "metadata": {},
     "output_type": "display_data"
    },
    {
     "data": {
      "text/html": [
       "<style type=\"text/css\">\n",
       "</style>\n",
       "<table id=\"T_ce94f_\">\n",
       "  <thead>\n",
       "    <tr>\n",
       "      <th class=\"blank level0\" >&nbsp;</th>\n",
       "      <th class=\"col_heading level0 col0\" >Agency</th>\n",
       "      <th class=\"col_heading level0 col1\" >Freeway Obligations</th>\n",
       "      <th class=\"col_heading level0 col2\" >Percent of Category</th>\n",
       "    </tr>\n",
       "  </thead>\n",
       "  <tbody>\n",
       "    <tr>\n",
       "      <th id=\"T_ce94f_level0_row0\" class=\"row_heading level0 row0\" >0</th>\n",
       "      <td id=\"T_ce94f_row0_col0\" class=\"data row0 col0\" >Caltrans</td>\n",
       "      <td id=\"T_ce94f_row0_col1\" class=\"data row0 col1\" >10</td>\n",
       "      <td id=\"T_ce94f_row0_col2\" class=\"data row0 col2\" >90.91%</td>\n",
       "    </tr>\n",
       "    <tr>\n",
       "      <th id=\"T_ce94f_level0_row1\" class=\"row_heading level0 row1\" >1</th>\n",
       "      <td id=\"T_ce94f_row1_col0\" class=\"data row1 col0\" >Encinitas</td>\n",
       "      <td id=\"T_ce94f_row1_col1\" class=\"data row1 col1\" >1</td>\n",
       "      <td id=\"T_ce94f_row1_col2\" class=\"data row1 col2\" >9.09%</td>\n",
       "    </tr>\n",
       "  </tbody>\n",
       "</table>\n"
      ],
      "text/plain": [
       "<pandas.io.formats.style.Styler at 0x7ff031d188d0>"
      ]
     },
     "metadata": {},
     "output_type": "display_data"
    },
    {
     "data": {
      "text/html": [
       "\n",
       "<div id=\"altair-viz-b7cf91eecc0842e2ac170652cfd91bbb\"></div>\n",
       "<script type=\"text/javascript\">\n",
       "  var VEGA_DEBUG = (typeof VEGA_DEBUG == \"undefined\") ? {} : VEGA_DEBUG;\n",
       "  (function(spec, embedOpt){\n",
       "    let outputDiv = document.currentScript.previousElementSibling;\n",
       "    if (outputDiv.id !== \"altair-viz-b7cf91eecc0842e2ac170652cfd91bbb\") {\n",
       "      outputDiv = document.getElementById(\"altair-viz-b7cf91eecc0842e2ac170652cfd91bbb\");\n",
       "    }\n",
       "    const paths = {\n",
       "      \"vega\": \"https://cdn.jsdelivr.net/npm//vega@5?noext\",\n",
       "      \"vega-lib\": \"https://cdn.jsdelivr.net/npm//vega-lib?noext\",\n",
       "      \"vega-lite\": \"https://cdn.jsdelivr.net/npm//vega-lite@4.17.0?noext\",\n",
       "      \"vega-embed\": \"https://cdn.jsdelivr.net/npm//vega-embed@6?noext\",\n",
       "    };\n",
       "\n",
       "    function maybeLoadScript(lib, version) {\n",
       "      var key = `${lib.replace(\"-\", \"\")}_version`;\n",
       "      return (VEGA_DEBUG[key] == version) ?\n",
       "        Promise.resolve(paths[lib]) :\n",
       "        new Promise(function(resolve, reject) {\n",
       "          var s = document.createElement('script');\n",
       "          document.getElementsByTagName(\"head\")[0].appendChild(s);\n",
       "          s.async = true;\n",
       "          s.onload = () => {\n",
       "            VEGA_DEBUG[key] = version;\n",
       "            return resolve(paths[lib]);\n",
       "          };\n",
       "          s.onerror = () => reject(`Error loading script: ${paths[lib]}`);\n",
       "          s.src = paths[lib];\n",
       "        });\n",
       "    }\n",
       "\n",
       "    function showError(err) {\n",
       "      outputDiv.innerHTML = `<div class=\"error\" style=\"color:red;\">${err}</div>`;\n",
       "      throw err;\n",
       "    }\n",
       "\n",
       "    function displayChart(vegaEmbed) {\n",
       "      vegaEmbed(outputDiv, spec, embedOpt)\n",
       "        .catch(err => showError(`Javascript Error: ${err.message}<br>This usually means there's a typo in your chart specification. See the javascript console for the full traceback.`));\n",
       "    }\n",
       "\n",
       "    if(typeof define === \"function\" && define.amd) {\n",
       "      requirejs.config({paths});\n",
       "      require([\"vega-embed\"], displayChart, err => showError(`Error loading script: ${err.message}`));\n",
       "    } else {\n",
       "      maybeLoadScript(\"vega\", \"5\")\n",
       "        .then(() => maybeLoadScript(\"vega-lite\", \"4.17.0\"))\n",
       "        .then(() => maybeLoadScript(\"vega-embed\", \"6\"))\n",
       "        .catch(showError)\n",
       "        .then(() => displayChart(vegaEmbed));\n",
       "    }\n",
       "  })({\"config\": {\"view\": {\"continuousWidth\": 400, \"continuousHeight\": 300}}, \"data\": {\"name\": \"data-a488881afd29c931d8a99078c156ed48\"}, \"mark\": \"bar\", \"encoding\": {\"color\": {\"field\": \"Categories\", \"scale\": {\"range\": [\"#2EA8CE\", \"#EB9F3C\", \"#F4D837\", \"#51BF9D\", \"#8CBCCB\", \"#9487C0\"]}, \"type\": \"nominal\"}, \"row\": {\"field\": \"Categories\", \"type\": \"nominal\"}, \"tooltip\": [{\"field\": \"Agency\", \"type\": \"nominal\"}, {\"field\": \"Funding Amount\", \"type\": \"quantitative\"}], \"x\": {\"axis\": {\"format\": \"$.2s\", \"title\": \"Obligated Funding ($2021)\"}, \"field\": \"Funding Amount\", \"type\": \"quantitative\"}, \"y\": {\"field\": \"Agency\", \"type\": \"nominal\"}}, \"$schema\": \"https://vega.github.io/schema/vega-lite/v4.17.0.json\", \"datasets\": {\"data-a488881afd29c931d8a99078c156ed48\": [{\"Agency\": \"Caltrans\", \"Categories\": \"Total Requested\", \"Funding Amount\": 43286636.39754894}, {\"Agency\": \"Encinitas\", \"Categories\": \"Total Requested\", \"Funding Amount\": 513124.70512357546}, {\"Agency\": \"Caltrans\", \"Categories\": \"Fed Requested\", \"Funding Amount\": 4475889.508136489}, {\"Agency\": \"Encinitas\", \"Categories\": \"Fed Requested\", \"Funding Amount\": 513124.70512357546}, {\"Agency\": \"Caltrans\", \"Categories\": \"AC Requested\", \"Funding Amount\": 22930504.433433615}, {\"Agency\": \"Encinitas\", \"Categories\": \"AC Requested\", \"Funding Amount\": 0.0}]}}, {\"mode\": \"vega-lite\"});\n",
       "</script>"
      ],
      "text/plain": [
       "alt.Chart(...)"
      ]
     },
     "metadata": {},
     "output_type": "display_data"
    },
    {
     "data": {
      "application/vnd.jupyter.widget-view+json": {
       "model_id": "2f80b68c67f44bc886f826fad9ac05bc",
       "version_major": 2,
       "version_minor": 0
      },
      "text/plain": [
       "HTML(value='<h3> Top Agencies using Infrastructure & Emergency Relief Projects </h3>')"
      ]
     },
     "metadata": {},
     "output_type": "display_data"
    },
    {
     "data": {
      "text/html": [
       "<style type=\"text/css\">\n",
       "</style>\n",
       "<table id=\"T_1879a_\">\n",
       "  <thead>\n",
       "    <tr>\n",
       "      <th class=\"blank level0\" >&nbsp;</th>\n",
       "      <th class=\"col_heading level0 col0\" >Agency</th>\n",
       "      <th class=\"col_heading level0 col1\" >Infrastructure & Emergency Relief Obligations</th>\n",
       "      <th class=\"col_heading level0 col2\" >Percent of Category</th>\n",
       "    </tr>\n",
       "  </thead>\n",
       "  <tbody>\n",
       "    <tr>\n",
       "      <th id=\"T_1879a_level0_row0\" class=\"row_heading level0 row0\" >0</th>\n",
       "      <td id=\"T_1879a_row0_col0\" class=\"data row0 col0\" >San Diego County</td>\n",
       "      <td id=\"T_1879a_row0_col1\" class=\"data row0 col1\" >59</td>\n",
       "      <td id=\"T_1879a_row0_col2\" class=\"data row0 col2\" >12.14%</td>\n",
       "    </tr>\n",
       "    <tr>\n",
       "      <th id=\"T_1879a_level0_row1\" class=\"row_heading level0 row1\" >1</th>\n",
       "      <td id=\"T_1879a_row1_col0\" class=\"data row1 col0\" >Imperial County</td>\n",
       "      <td id=\"T_1879a_row1_col1\" class=\"data row1 col1\" >53</td>\n",
       "      <td id=\"T_1879a_row1_col2\" class=\"data row1 col2\" >10.91%</td>\n",
       "    </tr>\n",
       "    <tr>\n",
       "      <th id=\"T_1879a_level0_row2\" class=\"row_heading level0 row2\" >2</th>\n",
       "      <td id=\"T_1879a_row2_col0\" class=\"data row2 col0\" >San Diego Association of Governments</td>\n",
       "      <td id=\"T_1879a_row2_col1\" class=\"data row2 col1\" >47</td>\n",
       "      <td id=\"T_1879a_row2_col2\" class=\"data row2 col2\" >9.67%</td>\n",
       "    </tr>\n",
       "    <tr>\n",
       "      <th id=\"T_1879a_level0_row3\" class=\"row_heading level0 row3\" >3</th>\n",
       "      <td id=\"T_1879a_row3_col0\" class=\"data row3 col0\" >San Diego</td>\n",
       "      <td id=\"T_1879a_row3_col1\" class=\"data row3 col1\" >36</td>\n",
       "      <td id=\"T_1879a_row3_col2\" class=\"data row3 col2\" >7.41%</td>\n",
       "    </tr>\n",
       "    <tr>\n",
       "      <th id=\"T_1879a_level0_row4\" class=\"row_heading level0 row4\" >4</th>\n",
       "      <td id=\"T_1879a_row4_col0\" class=\"data row4 col0\" >Chula Vista</td>\n",
       "      <td id=\"T_1879a_row4_col1\" class=\"data row4 col1\" >27</td>\n",
       "      <td id=\"T_1879a_row4_col2\" class=\"data row4 col2\" >5.56%</td>\n",
       "    </tr>\n",
       "  </tbody>\n",
       "</table>\n"
      ],
      "text/plain": [
       "<pandas.io.formats.style.Styler at 0x7ff031d16c10>"
      ]
     },
     "metadata": {},
     "output_type": "display_data"
    },
    {
     "data": {
      "text/html": [
       "\n",
       "<div id=\"altair-viz-7827e2b03c69418191601299fb16d539\"></div>\n",
       "<script type=\"text/javascript\">\n",
       "  var VEGA_DEBUG = (typeof VEGA_DEBUG == \"undefined\") ? {} : VEGA_DEBUG;\n",
       "  (function(spec, embedOpt){\n",
       "    let outputDiv = document.currentScript.previousElementSibling;\n",
       "    if (outputDiv.id !== \"altair-viz-7827e2b03c69418191601299fb16d539\") {\n",
       "      outputDiv = document.getElementById(\"altair-viz-7827e2b03c69418191601299fb16d539\");\n",
       "    }\n",
       "    const paths = {\n",
       "      \"vega\": \"https://cdn.jsdelivr.net/npm//vega@5?noext\",\n",
       "      \"vega-lib\": \"https://cdn.jsdelivr.net/npm//vega-lib?noext\",\n",
       "      \"vega-lite\": \"https://cdn.jsdelivr.net/npm//vega-lite@4.17.0?noext\",\n",
       "      \"vega-embed\": \"https://cdn.jsdelivr.net/npm//vega-embed@6?noext\",\n",
       "    };\n",
       "\n",
       "    function maybeLoadScript(lib, version) {\n",
       "      var key = `${lib.replace(\"-\", \"\")}_version`;\n",
       "      return (VEGA_DEBUG[key] == version) ?\n",
       "        Promise.resolve(paths[lib]) :\n",
       "        new Promise(function(resolve, reject) {\n",
       "          var s = document.createElement('script');\n",
       "          document.getElementsByTagName(\"head\")[0].appendChild(s);\n",
       "          s.async = true;\n",
       "          s.onload = () => {\n",
       "            VEGA_DEBUG[key] = version;\n",
       "            return resolve(paths[lib]);\n",
       "          };\n",
       "          s.onerror = () => reject(`Error loading script: ${paths[lib]}`);\n",
       "          s.src = paths[lib];\n",
       "        });\n",
       "    }\n",
       "\n",
       "    function showError(err) {\n",
       "      outputDiv.innerHTML = `<div class=\"error\" style=\"color:red;\">${err}</div>`;\n",
       "      throw err;\n",
       "    }\n",
       "\n",
       "    function displayChart(vegaEmbed) {\n",
       "      vegaEmbed(outputDiv, spec, embedOpt)\n",
       "        .catch(err => showError(`Javascript Error: ${err.message}<br>This usually means there's a typo in your chart specification. See the javascript console for the full traceback.`));\n",
       "    }\n",
       "\n",
       "    if(typeof define === \"function\" && define.amd) {\n",
       "      requirejs.config({paths});\n",
       "      require([\"vega-embed\"], displayChart, err => showError(`Error loading script: ${err.message}`));\n",
       "    } else {\n",
       "      maybeLoadScript(\"vega\", \"5\")\n",
       "        .then(() => maybeLoadScript(\"vega-lite\", \"4.17.0\"))\n",
       "        .then(() => maybeLoadScript(\"vega-embed\", \"6\"))\n",
       "        .catch(showError)\n",
       "        .then(() => displayChart(vegaEmbed));\n",
       "    }\n",
       "  })({\"config\": {\"view\": {\"continuousWidth\": 400, \"continuousHeight\": 300}}, \"data\": {\"name\": \"data-8f576f2af50ef7c5b76f16349b176a0d\"}, \"mark\": \"bar\", \"encoding\": {\"color\": {\"field\": \"Categories\", \"scale\": {\"range\": [\"#2EA8CE\", \"#EB9F3C\", \"#F4D837\", \"#51BF9D\", \"#8CBCCB\", \"#9487C0\"]}, \"type\": \"nominal\"}, \"row\": {\"field\": \"Categories\", \"type\": \"nominal\"}, \"tooltip\": [{\"field\": \"Agency\", \"type\": \"nominal\"}, {\"field\": \"Funding Amount\", \"type\": \"quantitative\"}], \"x\": {\"axis\": {\"format\": \"$.2s\", \"title\": \"Obligated Funding ($2021)\"}, \"field\": \"Funding Amount\", \"type\": \"quantitative\"}, \"y\": {\"field\": \"Agency\", \"type\": \"nominal\"}}, \"$schema\": \"https://vega.github.io/schema/vega-lite/v4.17.0.json\", \"datasets\": {\"data-8f576f2af50ef7c5b76f16349b176a0d\": [{\"Agency\": \"San Diego County\", \"Categories\": \"Total Requested\", \"Funding Amount\": 306730.8507489844}, {\"Agency\": \"Imperial County\", \"Categories\": \"Total Requested\", \"Funding Amount\": 232464.62684008345}, {\"Agency\": \"San Diego Association of Governments\", \"Categories\": \"Total Requested\", \"Funding Amount\": 4361098.924723064}, {\"Agency\": \"San Diego\", \"Categories\": \"Total Requested\", \"Funding Amount\": 4670868.666419034}, {\"Agency\": \"Chula Vista\", \"Categories\": \"Total Requested\", \"Funding Amount\": 1528424.6213397174}, {\"Agency\": \"San Diego County\", \"Categories\": \"Fed Requested\", \"Funding Amount\": 279625.1923140395}, {\"Agency\": \"Imperial County\", \"Categories\": \"Fed Requested\", \"Funding Amount\": 159680.8100112851}, {\"Agency\": \"San Diego Association of Governments\", \"Categories\": \"Fed Requested\", \"Funding Amount\": 4246553.1654396765}, {\"Agency\": \"San Diego\", \"Categories\": \"Fed Requested\", \"Funding Amount\": 835648.8802370722}, {\"Agency\": \"Chula Vista\", \"Categories\": \"Fed Requested\", \"Funding Amount\": 1219266.0958463408}, {\"Agency\": \"San Diego County\", \"Categories\": \"AC Requested\", \"Funding Amount\": 7292.139747589103}, {\"Agency\": \"Imperial County\", \"Categories\": \"AC Requested\", \"Funding Amount\": 893.4579432913638}, {\"Agency\": \"San Diego Association of Governments\", \"Categories\": \"AC Requested\", \"Funding Amount\": 0.0}, {\"Agency\": \"San Diego\", \"Categories\": \"AC Requested\", \"Funding Amount\": 3020138.7037730254}, {\"Agency\": \"Chula Vista\", \"Categories\": \"AC Requested\", \"Funding Amount\": 0.0}]}}, {\"mode\": \"vega-lite\"});\n",
       "</script>"
      ],
      "text/plain": [
       "alt.Chart(...)"
      ]
     },
     "metadata": {},
     "output_type": "display_data"
    },
    {
     "data": {
      "application/vnd.jupyter.widget-view+json": {
       "model_id": "e520cd3b83fc4f9b8ed546e638e7d8c1",
       "version_major": 2,
       "version_minor": 0
      },
      "text/plain": [
       "HTML(value='<h3> Top Agencies using Congestion Relief Projects </h3>')"
      ]
     },
     "metadata": {},
     "output_type": "display_data"
    },
    {
     "data": {
      "text/html": [
       "<style type=\"text/css\">\n",
       "</style>\n",
       "<table id=\"T_d0da9_\">\n",
       "  <thead>\n",
       "    <tr>\n",
       "      <th class=\"blank level0\" >&nbsp;</th>\n",
       "      <th class=\"col_heading level0 col0\" >Agency</th>\n",
       "      <th class=\"col_heading level0 col1\" >Congestion Relief Obligations</th>\n",
       "      <th class=\"col_heading level0 col2\" >Percent of Category</th>\n",
       "    </tr>\n",
       "  </thead>\n",
       "  <tbody>\n",
       "    <tr>\n",
       "      <th id=\"T_d0da9_level0_row0\" class=\"row_heading level0 row0\" >0</th>\n",
       "      <td id=\"T_d0da9_row0_col0\" class=\"data row0 col0\" >San Diego Association of Governments</td>\n",
       "      <td id=\"T_d0da9_row0_col1\" class=\"data row0 col1\" >12</td>\n",
       "      <td id=\"T_d0da9_row0_col2\" class=\"data row0 col2\" >100.00%</td>\n",
       "    </tr>\n",
       "  </tbody>\n",
       "</table>\n"
      ],
      "text/plain": [
       "<pandas.io.formats.style.Styler at 0x7ff031d13810>"
      ]
     },
     "metadata": {},
     "output_type": "display_data"
    },
    {
     "data": {
      "text/html": [
       "\n",
       "<div id=\"altair-viz-9065a94319994852a0d4709fe1060788\"></div>\n",
       "<script type=\"text/javascript\">\n",
       "  var VEGA_DEBUG = (typeof VEGA_DEBUG == \"undefined\") ? {} : VEGA_DEBUG;\n",
       "  (function(spec, embedOpt){\n",
       "    let outputDiv = document.currentScript.previousElementSibling;\n",
       "    if (outputDiv.id !== \"altair-viz-9065a94319994852a0d4709fe1060788\") {\n",
       "      outputDiv = document.getElementById(\"altair-viz-9065a94319994852a0d4709fe1060788\");\n",
       "    }\n",
       "    const paths = {\n",
       "      \"vega\": \"https://cdn.jsdelivr.net/npm//vega@5?noext\",\n",
       "      \"vega-lib\": \"https://cdn.jsdelivr.net/npm//vega-lib?noext\",\n",
       "      \"vega-lite\": \"https://cdn.jsdelivr.net/npm//vega-lite@4.17.0?noext\",\n",
       "      \"vega-embed\": \"https://cdn.jsdelivr.net/npm//vega-embed@6?noext\",\n",
       "    };\n",
       "\n",
       "    function maybeLoadScript(lib, version) {\n",
       "      var key = `${lib.replace(\"-\", \"\")}_version`;\n",
       "      return (VEGA_DEBUG[key] == version) ?\n",
       "        Promise.resolve(paths[lib]) :\n",
       "        new Promise(function(resolve, reject) {\n",
       "          var s = document.createElement('script');\n",
       "          document.getElementsByTagName(\"head\")[0].appendChild(s);\n",
       "          s.async = true;\n",
       "          s.onload = () => {\n",
       "            VEGA_DEBUG[key] = version;\n",
       "            return resolve(paths[lib]);\n",
       "          };\n",
       "          s.onerror = () => reject(`Error loading script: ${paths[lib]}`);\n",
       "          s.src = paths[lib];\n",
       "        });\n",
       "    }\n",
       "\n",
       "    function showError(err) {\n",
       "      outputDiv.innerHTML = `<div class=\"error\" style=\"color:red;\">${err}</div>`;\n",
       "      throw err;\n",
       "    }\n",
       "\n",
       "    function displayChart(vegaEmbed) {\n",
       "      vegaEmbed(outputDiv, spec, embedOpt)\n",
       "        .catch(err => showError(`Javascript Error: ${err.message}<br>This usually means there's a typo in your chart specification. See the javascript console for the full traceback.`));\n",
       "    }\n",
       "\n",
       "    if(typeof define === \"function\" && define.amd) {\n",
       "      requirejs.config({paths});\n",
       "      require([\"vega-embed\"], displayChart, err => showError(`Error loading script: ${err.message}`));\n",
       "    } else {\n",
       "      maybeLoadScript(\"vega\", \"5\")\n",
       "        .then(() => maybeLoadScript(\"vega-lite\", \"4.17.0\"))\n",
       "        .then(() => maybeLoadScript(\"vega-embed\", \"6\"))\n",
       "        .catch(showError)\n",
       "        .then(() => displayChart(vegaEmbed));\n",
       "    }\n",
       "  })({\"config\": {\"view\": {\"continuousWidth\": 400, \"continuousHeight\": 300}}, \"data\": {\"name\": \"data-db4d1296c35463c83bf6fa1f4f07b271\"}, \"mark\": \"bar\", \"encoding\": {\"color\": {\"field\": \"Categories\", \"scale\": {\"range\": [\"#2EA8CE\", \"#EB9F3C\", \"#F4D837\", \"#51BF9D\", \"#8CBCCB\", \"#9487C0\"]}, \"type\": \"nominal\"}, \"row\": {\"field\": \"Categories\", \"type\": \"nominal\"}, \"tooltip\": [{\"field\": \"Agency\", \"type\": \"nominal\"}, {\"field\": \"Funding Amount\", \"type\": \"quantitative\"}], \"x\": {\"axis\": {\"format\": \"$.2s\", \"title\": \"Obligated Funding ($2021)\"}, \"field\": \"Funding Amount\", \"type\": \"quantitative\"}, \"y\": {\"field\": \"Agency\", \"type\": \"nominal\"}}, \"$schema\": \"https://vega.github.io/schema/vega-lite/v4.17.0.json\", \"datasets\": {\"data-db4d1296c35463c83bf6fa1f4f07b271\": [{\"Agency\": \"San Diego Association of Governments\", \"Categories\": \"Total Requested\", \"Funding Amount\": 5100742.356804292}, {\"Agency\": \"San Diego Association of Governments\", \"Categories\": \"Fed Requested\", \"Funding Amount\": 5090659.523936891}, {\"Agency\": \"San Diego Association of Governments\", \"Categories\": \"AC Requested\", \"Funding Amount\": 0.0}]}}, {\"mode\": \"vega-lite\"});\n",
       "</script>"
      ],
      "text/plain": [
       "alt.Chart(...)"
      ]
     },
     "metadata": {},
     "output_type": "display_data"
    }
   ],
   "source": [
    "# create loop:\n",
    "\n",
    "work_cat = ['active_transp', 'transit', 'bridge', 'street','freeway', 'infra_resiliency_er','congestion_relief']\n",
    "\n",
    "for cat in work_cat:\n",
    "    _dla_utils_reports.project_cat(df, cat, district)"
   ]
  },
  {
   "cell_type": "code",
   "execution_count": null,
   "id": "5a50e751-dd3f-498f-9a28-2edc321b534f",
   "metadata": {
    "jupyter": {
     "source_hidden": true
    },
    "papermill": {
     "duration": 0.010572,
     "end_time": "2022-05-09T21:57:09.466333",
     "exception": false,
     "start_time": "2022-05-09T21:57:09.455761",
     "status": "completed"
    },
    "tags": [
     "remove_input"
    ]
   },
   "outputs": [],
   "source": []
  },
  {
   "cell_type": "code",
   "execution_count": 21,
   "id": "cb2f6ba9-df0b-495e-82c5-54743d879743",
   "metadata": {
    "execution": {
     "iopub.execute_input": "2022-05-09T21:57:09.497071Z",
     "iopub.status.busy": "2022-05-09T21:57:09.496862Z",
     "iopub.status.idle": "2022-05-09T21:57:09.500513Z",
     "shell.execute_reply": "2022-05-09T21:57:09.499950Z"
    },
    "jupyter": {
     "source_hidden": true
    },
    "papermill": {
     "duration": 0.019575,
     "end_time": "2022-05-09T21:57:09.502154",
     "exception": false,
     "start_time": "2022-05-09T21:57:09.482579",
     "status": "completed"
    },
    "tags": [
     "remove_input"
    ]
   },
   "outputs": [],
   "source": [
    "#  # code help: https://stackoverflow.com/questions/50842160/how-to-display-matplotlib-plots-in-a-jupyter-tab-widget\n",
    "    \n",
    "# work_cat = ['active_transp', 'transit', 'bridge', 'street','freeway', 'infra_resiliency_er','congestion_relief']\n",
    "\n",
    "# out1 = widgets.Output()\n",
    "# out2 = widgets.Output()\n",
    "# out3 = widgets.Output()\n",
    "# out4 = widgets.Output()\n",
    "# out5 = widgets.Output()\n",
    "# out6 = widgets.Output()\n",
    "# out7 = widgets.Output()\n",
    "\n",
    "#     # children2 = [widgets.Text(description=name) for name in work_cat]\n",
    "#     # tab2 = widgets.Tab(children2)\n",
    "# tab2 = widgets.Tab(children = [out1, out2, out3, out4, out5, out6, out7])\n",
    "\n",
    "# for ii in enumerate(work_cat): \n",
    "#     tab2.set_title(ii[0], f\"{_dla_utils_reports.labeling(ii[1])}\")\n",
    "\n",
    "# display(tab2)\n",
    "    \n",
    "    \n",
    "# with out1:\n",
    "#      _dla_utils_reports.project_cat(df, 'active_transp', district) \n",
    "\n",
    "# #out1.append_display_data(_dla_utils_reports.project_cat(df, 'active_transp', district))\n",
    "# #out1.append_display_data(Image(filename=(f'./chart_outputs/project_cat/bar_{district}_active_transp.png')))\n",
    "\n",
    "# with out2:\n",
    "#      _dla_utils_reports.project_cat(df, 'transit', district)\n",
    "# with out3: \n",
    "#      _dla_utils_reports.project_cat(df, 'bridge', district)\n",
    "# with out4:\n",
    "#     _dla_utils_reports.project_cat(df, 'street', district)\n",
    "# with out5:\n",
    "#      _dla_utils_reports.project_cat(df, 'freeway', district)\n",
    "# with out6:\n",
    "#     _dla_utils_reports.project_cat(df, 'infra_resiliency_er', district)\n",
    "# with out7:\n",
    "#     _dla_utils_reports.project_cat(df, 'congestion_relief', district)\n",
    "    "
   ]
  },
  {
   "cell_type": "code",
   "execution_count": null,
   "id": "d0a253bb-00a4-45d7-875b-7a39bb794219",
   "metadata": {
    "jupyter": {
     "source_hidden": true
    },
    "papermill": {
     "duration": 0.012476,
     "end_time": "2022-05-09T21:57:09.527315",
     "exception": false,
     "start_time": "2022-05-09T21:57:09.514839",
     "status": "completed"
    },
    "tags": [
     "remove_input"
    ]
   },
   "outputs": [],
   "source": []
  },
  {
   "cell_type": "code",
   "execution_count": 22,
   "id": "b4562eb7-a3e1-4829-a23c-058f2f0e30d9",
   "metadata": {
    "execution": {
     "iopub.execute_input": "2022-05-09T21:57:09.554566Z",
     "iopub.status.busy": "2022-05-09T21:57:09.554054Z",
     "iopub.status.idle": "2022-05-09T21:57:09.558902Z",
     "shell.execute_reply": "2022-05-09T21:57:09.558393Z"
    },
    "jupyter": {
     "source_hidden": true
    },
    "papermill": {
     "duration": 0.020576,
     "end_time": "2022-05-09T21:57:09.560602",
     "exception": false,
     "start_time": "2022-05-09T21:57:09.540026",
     "status": "completed"
    },
    "tags": [
     "remove_input"
    ]
   },
   "outputs": [],
   "source": [
    "# # work_cat = ['active_transp', 'transit', 'bridge', 'street','freeway', 'infra_resiliency_er','congestion_relief']\n",
    "\n",
    "# # out1 = widgets.Output()\n",
    "# # out2 = widgets.Output()\n",
    "# # out3 = widgets.Output()\n",
    "# # out4 = widgets.Output()\n",
    "# # out5 = widgets.Output()\n",
    "# # out6 = widgets.Output()\n",
    "# # out7 = widgets.Output()\n",
    "\n",
    "# # tab2 = widgets.Tab(children = [out1, out2, out3, out4, out5, out6, out7])\n",
    "\n",
    "# # for ii in enumerate(work_cat): \n",
    "# #     tab2.set_title(ii[0], f\"{_dla_utils.labeling(ii[1])}\")\n",
    "\n",
    "# # display(tab2)\n",
    "    \n",
    "# # with out1:\n",
    "# #     _dla_utils.project_cat(df, 'active_transp', district) \n",
    "# # with out2:\n",
    "# #      _dla_utils.project_cat(df, 'transit', district)\n",
    "# # with out3: \n",
    "# #      _dla_utils.project_cat(df, 'bridge', district)\n",
    "# # with out4:\n",
    "# #     _dla_utils.project_cat(df, 'street', district)\n",
    "# # with out5:\n",
    "# #      _dla_utils.project_cat(df, 'freeway', district)\n",
    "# # with out6:\n",
    "# #     _dla_utils.project_cat(df, 'infra_resiliency_er', district)\n",
    "# # with out7:\n",
    "# #     _dla_utils.project_cat(df, 'congestion_relief', district)\n",
    "    \n",
    "    \n",
    "# ## https://medium.com/analytics-vidhya/how-to-use-python-to-build-an-image-display-app-in-jupyter-notebook-337c4fd3775f\n",
    "# def show_im():\n",
    "#     CSS = \"\"\"\n",
    "#     .output {\n",
    "#         flex-direction: row;\n",
    "#     }\n",
    "#     \"\"\"\n",
    "#     HTML('<style>{}</style>'.format(CSS))\n",
    "\n",
    "# def image_viewer(district, i): \n",
    "#     image_grid = Image(filename=(f'./chart_outputs/project_cat/bar_{district}_{i}.png'))\n",
    "#     #image_grid_html = HTML(image_grid.to_html(escape=False ,formatters=dict(a=path_to_image_html, \n",
    "#     #b=path_to_image_html)))\n",
    "#     #display(image_grid_html)\n",
    "#     show_im()    \n",
    "    \n",
    "\n",
    "# tab_nest = widgets.Tab()\n",
    "\n",
    "\n",
    "# #interact function in isolation\n",
    "\n",
    "# image = (image_viewer(district, 'active_transp'))\n",
    "# f1 = interactive(image);\n",
    "# tab_nest.children = [widgets.VBox(children = f1.children)]\n",
    "# display(tab_nest)"
   ]
  },
  {
   "cell_type": "code",
   "execution_count": 23,
   "id": "8b015c8d-378b-456e-b486-f8b1f5446a21",
   "metadata": {
    "execution": {
     "iopub.execute_input": "2022-05-09T21:57:09.586662Z",
     "iopub.status.busy": "2022-05-09T21:57:09.586363Z",
     "iopub.status.idle": "2022-05-09T21:57:09.589573Z",
     "shell.execute_reply": "2022-05-09T21:57:09.588976Z"
    },
    "jupyter": {
     "source_hidden": true
    },
    "papermill": {
     "duration": 0.018476,
     "end_time": "2022-05-09T21:57:09.591343",
     "exception": false,
     "start_time": "2022-05-09T21:57:09.572867",
     "status": "completed"
    },
    "tags": [
     "remove_input"
    ]
   },
   "outputs": [],
   "source": [
    "# Image(filename=('./chart_outputs/project_cat/bar_4_active_transp.png'))"
   ]
  },
  {
   "cell_type": "code",
   "execution_count": null,
   "id": "47213b64-555f-4e09-9b1d-fae403f8f595",
   "metadata": {
    "jupyter": {
     "source_hidden": true
    },
    "papermill": {
     "duration": 0.012812,
     "end_time": "2022-05-09T21:57:09.617665",
     "exception": false,
     "start_time": "2022-05-09T21:57:09.604853",
     "status": "completed"
    },
    "tags": [
     "remove_input"
    ]
   },
   "outputs": [],
   "source": []
  },
  {
   "cell_type": "code",
   "execution_count": null,
   "id": "3925b8ed-1cd0-4479-9f6d-4f461ffd70ae",
   "metadata": {
    "jupyter": {
     "source_hidden": true
    },
    "papermill": {
     "duration": 0.013467,
     "end_time": "2022-05-09T21:57:09.644124",
     "exception": false,
     "start_time": "2022-05-09T21:57:09.630657",
     "status": "completed"
    },
    "tags": [
     "remove_input"
    ]
   },
   "outputs": [],
   "source": []
  },
  {
   "cell_type": "code",
   "execution_count": 24,
   "id": "f2da39a6-73d0-4293-b13f-267514cfbc4e",
   "metadata": {
    "execution": {
     "iopub.execute_input": "2022-05-09T21:57:09.672602Z",
     "iopub.status.busy": "2022-05-09T21:57:09.672361Z",
     "iopub.status.idle": "2022-05-09T21:57:09.675013Z",
     "shell.execute_reply": "2022-05-09T21:57:09.674581Z"
    },
    "jupyter": {
     "source_hidden": true
    },
    "papermill": {
     "duration": 0.02001,
     "end_time": "2022-05-09T21:57:09.676611",
     "exception": false,
     "start_time": "2022-05-09T21:57:09.656601",
     "status": "completed"
    },
    "tags": [
     "remove_input"
    ]
   },
   "outputs": [],
   "source": [
    "## to markdown\n",
    "#![pic](./chart_outputs/project_cat/bar_4_active_transp.png)"
   ]
  },
  {
   "cell_type": "code",
   "execution_count": null,
   "id": "10e45722-6789-4357-8d9d-a2f424ba7655",
   "metadata": {
    "jupyter": {
     "source_hidden": true
    },
    "papermill": {
     "duration": 0.012078,
     "end_time": "2022-05-09T21:57:09.701829",
     "exception": false,
     "start_time": "2022-05-09T21:57:09.689751",
     "status": "completed"
    },
    "tags": [
     "remove_input"
    ]
   },
   "outputs": [],
   "source": []
  }
 ],
 "metadata": {
  "kernelspec": {
   "display_name": "Python 3 (ipykernel)",
   "language": "python",
   "name": "python3"
  },
  "language_info": {
   "codemirror_mode": {
    "name": "ipython",
    "version": 3
   },
   "file_extension": ".py",
   "mimetype": "text/x-python",
   "name": "python",
   "nbconvert_exporter": "python",
   "pygments_lexer": "ipython3",
   "version": "3.7.9"
  },
  "papermill": {
   "default_parameters": {},
   "duration": 19.741521,
   "end_time": "2022-05-09T21:57:10.336897",
   "environment_variables": {},
   "exception": null,
   "input_path": "dla/e76_obligated_funds/reports/report_test2.ipynb",
   "output_path": "portfolio/dla/district_11/0__report_test2__district_11.ipynb",
   "parameters": {
    "district": 11
   },
   "start_time": "2022-05-09T21:56:50.595376",
   "version": "2.3.4"
  },
  "widgets": {
   "application/vnd.jupyter.widget-state+json": {
    "state": {
     "2148118f699349d0afc4deef7b40361b": {
      "model_module": "@jupyter-widgets/controls",
      "model_module_version": "1.5.0",
      "model_name": "DescriptionStyleModel",
      "state": {
       "_model_module": "@jupyter-widgets/controls",
       "_model_module_version": "1.5.0",
       "_model_name": "DescriptionStyleModel",
       "_view_count": null,
       "_view_module": "@jupyter-widgets/base",
       "_view_module_version": "1.2.0",
       "_view_name": "StyleView",
       "description_width": ""
      }
     },
     "2f80b68c67f44bc886f826fad9ac05bc": {
      "model_module": "@jupyter-widgets/controls",
      "model_module_version": "1.5.0",
      "model_name": "HTMLModel",
      "state": {
       "_dom_classes": [],
       "_model_module": "@jupyter-widgets/controls",
       "_model_module_version": "1.5.0",
       "_model_name": "HTMLModel",
       "_view_count": null,
       "_view_module": "@jupyter-widgets/controls",
       "_view_module_version": "1.5.0",
       "_view_name": "HTMLView",
       "description": "",
       "description_tooltip": null,
       "layout": "IPY_MODEL_a72ffdcbf9cf4010ae6961cabf8aa018",
       "placeholder": "​",
       "style": "IPY_MODEL_7ac269ddc2284d29aa368a85f5883d7a",
       "value": "<h3> Top Agencies using Infrastructure & Emergency Relief Projects </h3>"
      }
     },
     "376d7234841a4f8ba79993ba1ed695ef": {
      "model_module": "@jupyter-widgets/base",
      "model_module_version": "1.2.0",
      "model_name": "LayoutModel",
      "state": {
       "_model_module": "@jupyter-widgets/base",
       "_model_module_version": "1.2.0",
       "_model_name": "LayoutModel",
       "_view_count": null,
       "_view_module": "@jupyter-widgets/base",
       "_view_module_version": "1.2.0",
       "_view_name": "LayoutView",
       "align_content": null,
       "align_items": null,
       "align_self": null,
       "border": null,
       "bottom": null,
       "display": null,
       "flex": null,
       "flex_flow": null,
       "grid_area": null,
       "grid_auto_columns": null,
       "grid_auto_flow": null,
       "grid_auto_rows": null,
       "grid_column": null,
       "grid_gap": null,
       "grid_row": null,
       "grid_template_areas": null,
       "grid_template_columns": null,
       "grid_template_rows": null,
       "height": null,
       "justify_content": null,
       "justify_items": null,
       "left": null,
       "margin": null,
       "max_height": null,
       "max_width": null,
       "min_height": null,
       "min_width": null,
       "object_fit": null,
       "object_position": null,
       "order": null,
       "overflow": null,
       "overflow_x": null,
       "overflow_y": null,
       "padding": null,
       "right": null,
       "top": null,
       "visibility": null,
       "width": null
      }
     },
     "3b7aa914ee274017adf920c1f86c9077": {
      "model_module": "@jupyter-widgets/controls",
      "model_module_version": "1.5.0",
      "model_name": "HTMLModel",
      "state": {
       "_dom_classes": [],
       "_model_module": "@jupyter-widgets/controls",
       "_model_module_version": "1.5.0",
       "_model_name": "HTMLModel",
       "_view_count": null,
       "_view_module": "@jupyter-widgets/controls",
       "_view_module_version": "1.5.0",
       "_view_name": "HTMLView",
       "description": "",
       "description_tooltip": null,
       "layout": "IPY_MODEL_dea2a6a2add24b149579837752f931a1",
       "placeholder": "​",
       "style": "IPY_MODEL_2148118f699349d0afc4deef7b40361b",
       "value": "<h3> Top Agencies using Active Transportation Projects </h3>"
      }
     },
     "527fd178b40a456a9e9c0ad899b4c1e7": {
      "model_module": "@jupyter-widgets/base",
      "model_module_version": "1.2.0",
      "model_name": "LayoutModel",
      "state": {
       "_model_module": "@jupyter-widgets/base",
       "_model_module_version": "1.2.0",
       "_model_name": "LayoutModel",
       "_view_count": null,
       "_view_module": "@jupyter-widgets/base",
       "_view_module_version": "1.2.0",
       "_view_name": "LayoutView",
       "align_content": null,
       "align_items": null,
       "align_self": null,
       "border": null,
       "bottom": null,
       "display": null,
       "flex": null,
       "flex_flow": null,
       "grid_area": null,
       "grid_auto_columns": null,
       "grid_auto_flow": null,
       "grid_auto_rows": null,
       "grid_column": null,
       "grid_gap": null,
       "grid_row": null,
       "grid_template_areas": null,
       "grid_template_columns": null,
       "grid_template_rows": null,
       "height": null,
       "justify_content": null,
       "justify_items": null,
       "left": null,
       "margin": null,
       "max_height": null,
       "max_width": null,
       "min_height": null,
       "min_width": null,
       "object_fit": null,
       "object_position": null,
       "order": null,
       "overflow": null,
       "overflow_x": null,
       "overflow_y": null,
       "padding": null,
       "right": null,
       "top": null,
       "visibility": null,
       "width": null
      }
     },
     "54f8321506a849c495b7907d14d7d9f6": {
      "model_module": "@jupyter-widgets/base",
      "model_module_version": "1.2.0",
      "model_name": "LayoutModel",
      "state": {
       "_model_module": "@jupyter-widgets/base",
       "_model_module_version": "1.2.0",
       "_model_name": "LayoutModel",
       "_view_count": null,
       "_view_module": "@jupyter-widgets/base",
       "_view_module_version": "1.2.0",
       "_view_name": "LayoutView",
       "align_content": null,
       "align_items": null,
       "align_self": null,
       "border": null,
       "bottom": null,
       "display": null,
       "flex": null,
       "flex_flow": null,
       "grid_area": null,
       "grid_auto_columns": null,
       "grid_auto_flow": null,
       "grid_auto_rows": null,
       "grid_column": null,
       "grid_gap": null,
       "grid_row": null,
       "grid_template_areas": null,
       "grid_template_columns": null,
       "grid_template_rows": null,
       "height": null,
       "justify_content": null,
       "justify_items": null,
       "left": null,
       "margin": null,
       "max_height": null,
       "max_width": null,
       "min_height": null,
       "min_width": null,
       "object_fit": null,
       "object_position": null,
       "order": null,
       "overflow": null,
       "overflow_x": null,
       "overflow_y": null,
       "padding": null,
       "right": null,
       "top": null,
       "visibility": null,
       "width": null
      }
     },
     "58803970648d4301874e8d53f2f2ce13": {
      "model_module": "@jupyter-widgets/controls",
      "model_module_version": "1.5.0",
      "model_name": "HTMLModel",
      "state": {
       "_dom_classes": [],
       "_model_module": "@jupyter-widgets/controls",
       "_model_module_version": "1.5.0",
       "_model_name": "HTMLModel",
       "_view_count": null,
       "_view_module": "@jupyter-widgets/controls",
       "_view_module_version": "1.5.0",
       "_view_name": "HTMLView",
       "description": "",
       "description_tooltip": null,
       "layout": "IPY_MODEL_527fd178b40a456a9e9c0ad899b4c1e7",
       "placeholder": "​",
       "style": "IPY_MODEL_9a03229f94374105bd26fbab8af9c714",
       "value": "<h3> Top Agencies using Transit Projects </h3>"
      }
     },
     "6c640976a8f34b6f947e706da292f350": {
      "model_module": "@jupyter-widgets/controls",
      "model_module_version": "1.5.0",
      "model_name": "DescriptionStyleModel",
      "state": {
       "_model_module": "@jupyter-widgets/controls",
       "_model_module_version": "1.5.0",
       "_model_name": "DescriptionStyleModel",
       "_view_count": null,
       "_view_module": "@jupyter-widgets/base",
       "_view_module_version": "1.2.0",
       "_view_name": "StyleView",
       "description_width": ""
      }
     },
     "738fc8dbf7ee4544a0b7b9cdc061625b": {
      "model_module": "@jupyter-widgets/controls",
      "model_module_version": "1.5.0",
      "model_name": "HTMLModel",
      "state": {
       "_dom_classes": [],
       "_model_module": "@jupyter-widgets/controls",
       "_model_module_version": "1.5.0",
       "_model_name": "HTMLModel",
       "_view_count": null,
       "_view_module": "@jupyter-widgets/controls",
       "_view_module_version": "1.5.0",
       "_view_name": "HTMLView",
       "description": "",
       "description_tooltip": null,
       "layout": "IPY_MODEL_54f8321506a849c495b7907d14d7d9f6",
       "placeholder": "​",
       "style": "IPY_MODEL_e675e449471c440db572066e34790476",
       "value": "<h3> Top Agencies using Freeway Projects </h3>"
      }
     },
     "7ac269ddc2284d29aa368a85f5883d7a": {
      "model_module": "@jupyter-widgets/controls",
      "model_module_version": "1.5.0",
      "model_name": "DescriptionStyleModel",
      "state": {
       "_model_module": "@jupyter-widgets/controls",
       "_model_module_version": "1.5.0",
       "_model_name": "DescriptionStyleModel",
       "_view_count": null,
       "_view_module": "@jupyter-widgets/base",
       "_view_module_version": "1.2.0",
       "_view_name": "StyleView",
       "description_width": ""
      }
     },
     "7c21ec22997f4538be697102df36b593": {
      "model_module": "@jupyter-widgets/controls",
      "model_module_version": "1.5.0",
      "model_name": "DescriptionStyleModel",
      "state": {
       "_model_module": "@jupyter-widgets/controls",
       "_model_module_version": "1.5.0",
       "_model_name": "DescriptionStyleModel",
       "_view_count": null,
       "_view_module": "@jupyter-widgets/base",
       "_view_module_version": "1.2.0",
       "_view_name": "StyleView",
       "description_width": ""
      }
     },
     "81b90459750b4c059544453933692580": {
      "model_module": "@jupyter-widgets/base",
      "model_module_version": "1.2.0",
      "model_name": "LayoutModel",
      "state": {
       "_model_module": "@jupyter-widgets/base",
       "_model_module_version": "1.2.0",
       "_model_name": "LayoutModel",
       "_view_count": null,
       "_view_module": "@jupyter-widgets/base",
       "_view_module_version": "1.2.0",
       "_view_name": "LayoutView",
       "align_content": null,
       "align_items": null,
       "align_self": null,
       "border": null,
       "bottom": null,
       "display": null,
       "flex": null,
       "flex_flow": null,
       "grid_area": null,
       "grid_auto_columns": null,
       "grid_auto_flow": null,
       "grid_auto_rows": null,
       "grid_column": null,
       "grid_gap": null,
       "grid_row": null,
       "grid_template_areas": null,
       "grid_template_columns": null,
       "grid_template_rows": null,
       "height": null,
       "justify_content": null,
       "justify_items": null,
       "left": null,
       "margin": null,
       "max_height": null,
       "max_width": null,
       "min_height": null,
       "min_width": null,
       "object_fit": null,
       "object_position": null,
       "order": null,
       "overflow": null,
       "overflow_x": null,
       "overflow_y": null,
       "padding": null,
       "right": null,
       "top": null,
       "visibility": null,
       "width": null
      }
     },
     "8f6c016ae5a6477b97b30e5e3469a8de": {
      "model_module": "@jupyter-widgets/controls",
      "model_module_version": "1.5.0",
      "model_name": "HTMLModel",
      "state": {
       "_dom_classes": [],
       "_model_module": "@jupyter-widgets/controls",
       "_model_module_version": "1.5.0",
       "_model_name": "HTMLModel",
       "_view_count": null,
       "_view_module": "@jupyter-widgets/controls",
       "_view_module_version": "1.5.0",
       "_view_name": "HTMLView",
       "description": "",
       "description_tooltip": null,
       "layout": "IPY_MODEL_fe890dfb0cff4e07a27e277fab97c565",
       "placeholder": "​",
       "style": "IPY_MODEL_936171aeeea04bc18e3c4415e59e295f",
       "value": "<h3> Top Agencies using Bridge Projects </h3>"
      }
     },
     "936171aeeea04bc18e3c4415e59e295f": {
      "model_module": "@jupyter-widgets/controls",
      "model_module_version": "1.5.0",
      "model_name": "DescriptionStyleModel",
      "state": {
       "_model_module": "@jupyter-widgets/controls",
       "_model_module_version": "1.5.0",
       "_model_name": "DescriptionStyleModel",
       "_view_count": null,
       "_view_module": "@jupyter-widgets/base",
       "_view_module_version": "1.2.0",
       "_view_name": "StyleView",
       "description_width": ""
      }
     },
     "9a03229f94374105bd26fbab8af9c714": {
      "model_module": "@jupyter-widgets/controls",
      "model_module_version": "1.5.0",
      "model_name": "DescriptionStyleModel",
      "state": {
       "_model_module": "@jupyter-widgets/controls",
       "_model_module_version": "1.5.0",
       "_model_name": "DescriptionStyleModel",
       "_view_count": null,
       "_view_module": "@jupyter-widgets/base",
       "_view_module_version": "1.2.0",
       "_view_name": "StyleView",
       "description_width": ""
      }
     },
     "a72ffdcbf9cf4010ae6961cabf8aa018": {
      "model_module": "@jupyter-widgets/base",
      "model_module_version": "1.2.0",
      "model_name": "LayoutModel",
      "state": {
       "_model_module": "@jupyter-widgets/base",
       "_model_module_version": "1.2.0",
       "_model_name": "LayoutModel",
       "_view_count": null,
       "_view_module": "@jupyter-widgets/base",
       "_view_module_version": "1.2.0",
       "_view_name": "LayoutView",
       "align_content": null,
       "align_items": null,
       "align_self": null,
       "border": null,
       "bottom": null,
       "display": null,
       "flex": null,
       "flex_flow": null,
       "grid_area": null,
       "grid_auto_columns": null,
       "grid_auto_flow": null,
       "grid_auto_rows": null,
       "grid_column": null,
       "grid_gap": null,
       "grid_row": null,
       "grid_template_areas": null,
       "grid_template_columns": null,
       "grid_template_rows": null,
       "height": null,
       "justify_content": null,
       "justify_items": null,
       "left": null,
       "margin": null,
       "max_height": null,
       "max_width": null,
       "min_height": null,
       "min_width": null,
       "object_fit": null,
       "object_position": null,
       "order": null,
       "overflow": null,
       "overflow_x": null,
       "overflow_y": null,
       "padding": null,
       "right": null,
       "top": null,
       "visibility": null,
       "width": null
      }
     },
     "c7d816abbba148f88c2d04316d8dabd1": {
      "model_module": "@jupyter-widgets/controls",
      "model_module_version": "1.5.0",
      "model_name": "HTMLModel",
      "state": {
       "_dom_classes": [],
       "_model_module": "@jupyter-widgets/controls",
       "_model_module_version": "1.5.0",
       "_model_name": "HTMLModel",
       "_view_count": null,
       "_view_module": "@jupyter-widgets/controls",
       "_view_module_version": "1.5.0",
       "_view_name": "HTMLView",
       "description": "",
       "description_tooltip": null,
       "layout": "IPY_MODEL_81b90459750b4c059544453933692580",
       "placeholder": "​",
       "style": "IPY_MODEL_6c640976a8f34b6f947e706da292f350",
       "value": "<h3> Top Agencies using Street Projects </h3>"
      }
     },
     "dea2a6a2add24b149579837752f931a1": {
      "model_module": "@jupyter-widgets/base",
      "model_module_version": "1.2.0",
      "model_name": "LayoutModel",
      "state": {
       "_model_module": "@jupyter-widgets/base",
       "_model_module_version": "1.2.0",
       "_model_name": "LayoutModel",
       "_view_count": null,
       "_view_module": "@jupyter-widgets/base",
       "_view_module_version": "1.2.0",
       "_view_name": "LayoutView",
       "align_content": null,
       "align_items": null,
       "align_self": null,
       "border": null,
       "bottom": null,
       "display": null,
       "flex": null,
       "flex_flow": null,
       "grid_area": null,
       "grid_auto_columns": null,
       "grid_auto_flow": null,
       "grid_auto_rows": null,
       "grid_column": null,
       "grid_gap": null,
       "grid_row": null,
       "grid_template_areas": null,
       "grid_template_columns": null,
       "grid_template_rows": null,
       "height": null,
       "justify_content": null,
       "justify_items": null,
       "left": null,
       "margin": null,
       "max_height": null,
       "max_width": null,
       "min_height": null,
       "min_width": null,
       "object_fit": null,
       "object_position": null,
       "order": null,
       "overflow": null,
       "overflow_x": null,
       "overflow_y": null,
       "padding": null,
       "right": null,
       "top": null,
       "visibility": null,
       "width": null
      }
     },
     "e520cd3b83fc4f9b8ed546e638e7d8c1": {
      "model_module": "@jupyter-widgets/controls",
      "model_module_version": "1.5.0",
      "model_name": "HTMLModel",
      "state": {
       "_dom_classes": [],
       "_model_module": "@jupyter-widgets/controls",
       "_model_module_version": "1.5.0",
       "_model_name": "HTMLModel",
       "_view_count": null,
       "_view_module": "@jupyter-widgets/controls",
       "_view_module_version": "1.5.0",
       "_view_name": "HTMLView",
       "description": "",
       "description_tooltip": null,
       "layout": "IPY_MODEL_376d7234841a4f8ba79993ba1ed695ef",
       "placeholder": "​",
       "style": "IPY_MODEL_7c21ec22997f4538be697102df36b593",
       "value": "<h3> Top Agencies using Congestion Relief Projects </h3>"
      }
     },
     "e675e449471c440db572066e34790476": {
      "model_module": "@jupyter-widgets/controls",
      "model_module_version": "1.5.0",
      "model_name": "DescriptionStyleModel",
      "state": {
       "_model_module": "@jupyter-widgets/controls",
       "_model_module_version": "1.5.0",
       "_model_name": "DescriptionStyleModel",
       "_view_count": null,
       "_view_module": "@jupyter-widgets/base",
       "_view_module_version": "1.2.0",
       "_view_name": "StyleView",
       "description_width": ""
      }
     },
     "fe890dfb0cff4e07a27e277fab97c565": {
      "model_module": "@jupyter-widgets/base",
      "model_module_version": "1.2.0",
      "model_name": "LayoutModel",
      "state": {
       "_model_module": "@jupyter-widgets/base",
       "_model_module_version": "1.2.0",
       "_model_name": "LayoutModel",
       "_view_count": null,
       "_view_module": "@jupyter-widgets/base",
       "_view_module_version": "1.2.0",
       "_view_name": "LayoutView",
       "align_content": null,
       "align_items": null,
       "align_self": null,
       "border": null,
       "bottom": null,
       "display": null,
       "flex": null,
       "flex_flow": null,
       "grid_area": null,
       "grid_auto_columns": null,
       "grid_auto_flow": null,
       "grid_auto_rows": null,
       "grid_column": null,
       "grid_gap": null,
       "grid_row": null,
       "grid_template_areas": null,
       "grid_template_columns": null,
       "grid_template_rows": null,
       "height": null,
       "justify_content": null,
       "justify_items": null,
       "left": null,
       "margin": null,
       "max_height": null,
       "max_width": null,
       "min_height": null,
       "min_width": null,
       "object_fit": null,
       "object_position": null,
       "order": null,
       "overflow": null,
       "overflow_x": null,
       "overflow_y": null,
       "padding": null,
       "right": null,
       "top": null,
       "visibility": null,
       "width": null
      }
     }
    },
    "version_major": 2,
    "version_minor": 0
   }
  }
 },
 "nbformat": 4,
 "nbformat_minor": 5
}