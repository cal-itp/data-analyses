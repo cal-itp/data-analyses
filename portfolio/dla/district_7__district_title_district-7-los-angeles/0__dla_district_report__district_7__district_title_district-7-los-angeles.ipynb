{
 "cells": [
  {
   "cell_type": "markdown",
   "id": "c52ac033",
   "metadata": {
    "papermill": {
     "duration": 0.02,
     "end_time": "2022-06-02T22:23:57.454931",
     "exception": false,
     "start_time": "2022-06-02T22:23:57.434931",
     "status": "completed"
    },
    "pycharm": {
     "name": "#%% md\n"
    },
    "tags": []
   },
   "source": [
    "# **District 7 - Los Angeles**"
   ]
  },
  {
   "cell_type": "markdown",
   "id": "69a79097-e42c-4e22-aec5-62594d3f008f",
   "metadata": {
    "papermill": {
     "duration": 0.017201,
     "end_time": "2022-06-02T22:23:57.490499",
     "exception": false,
     "start_time": "2022-06-02T22:23:57.473298",
     "status": "completed"
    },
    "tags": []
   },
   "source": [
    "<hr style=\"height: 2px; background-color:#136C97; border: none\">\n"
   ]
  },
  {
   "cell_type": "markdown",
   "id": "178948e4-f2ee-4978-87a6-e2eb560b0feb",
   "metadata": {
    "papermill": {
     "duration": 0.017314,
     "end_time": "2022-06-02T22:23:57.532128",
     "exception": false,
     "start_time": "2022-06-02T22:23:57.514814",
     "status": "completed"
    },
    "tags": []
   },
   "source": [
    "How does funding for local agencies differ district to district? Using E-76 obligation data, we can gain insight to how agencies in District 7 use federal program funds, and help identify DLA‘s core customers."
   ]
  },
  {
   "cell_type": "code",
   "execution_count": 1,
   "id": "92c5c56a",
   "metadata": {
    "collapsed": false,
    "execution": {
     "iopub.execute_input": "2022-06-02T22:23:57.574146Z",
     "iopub.status.busy": "2022-06-02T22:23:57.573766Z",
     "iopub.status.idle": "2022-06-02T22:24:07.236609Z",
     "shell.execute_reply": "2022-06-02T22:24:07.235547Z"
    },
    "jupyter": {
     "source_hidden": true
    },
    "papermill": {
     "duration": 9.689636,
     "end_time": "2022-06-02T22:24:07.239229",
     "exception": false,
     "start_time": "2022-06-02T22:23:57.549593",
     "status": "completed"
    },
    "pycharm": {
     "name": "#%%\n"
    },
    "tags": [
     "remove_input"
    ]
   },
   "outputs": [],
   "source": [
    "%%capture\n",
    "\n",
    "import numpy as np\n",
    "import pandas as pd\n",
    "from siuba import *\n",
    "\n",
    "import altair as alt\n",
    "import altair_saver\n",
    "from plotnine import *\n",
    "\n",
    "from IPython.display import Markdown, HTML, Image\n",
    "import ipywidgets as widgets\n",
    "from ipywidgets import interact, interactive\n",
    "\n",
    "from calitp import to_snakecase\n",
    "import intake\n",
    "\n",
    "from shared_utils import altair_utils\n",
    "from shared_utils import styleguide\n",
    "\n",
    "from dla_utils import _dla_utils\n"
   ]
  },
  {
   "cell_type": "code",
   "execution_count": 2,
   "id": "82cf8245-73d2-4ed3-93cf-7ee01661b024",
   "metadata": {
    "execution": {
     "iopub.execute_input": "2022-06-02T22:24:07.280654Z",
     "iopub.status.busy": "2022-06-02T22:24:07.280121Z",
     "iopub.status.idle": "2022-06-02T22:24:07.286020Z",
     "shell.execute_reply": "2022-06-02T22:24:07.284130Z"
    },
    "jupyter": {
     "source_hidden": true
    },
    "papermill": {
     "duration": 0.028531,
     "end_time": "2022-06-02T22:24:07.288117",
     "exception": false,
     "start_time": "2022-06-02T22:24:07.259586",
     "status": "completed"
    },
    "tags": [
     "parameters",
     "remove_input"
    ]
   },
   "outputs": [],
   "source": [
    "#Parameter Cell\n",
    "\n",
    "district = 4"
   ]
  },
  {
   "cell_type": "code",
   "execution_count": 3,
   "id": "8915e106",
   "metadata": {
    "execution": {
     "iopub.execute_input": "2022-06-02T22:24:07.328244Z",
     "iopub.status.busy": "2022-06-02T22:24:07.327616Z",
     "iopub.status.idle": "2022-06-02T22:24:07.332129Z",
     "shell.execute_reply": "2022-06-02T22:24:07.331575Z"
    },
    "jupyter": {
     "source_hidden": true
    },
    "papermill": {
     "duration": 0.02742,
     "end_time": "2022-06-02T22:24:07.333982",
     "exception": false,
     "start_time": "2022-06-02T22:24:07.306562",
     "status": "completed"
    },
    "tags": [
     "injected-parameters",
     "remove_input"
    ]
   },
   "outputs": [],
   "source": [
    "# Parameters\n",
    "district = 7\n",
    "district_title = \"District 7 - Los Angeles\"\n"
   ]
  },
  {
   "cell_type": "code",
   "execution_count": 4,
   "id": "948b2b4f-ef9b-48ff-b109-e7b76361066c",
   "metadata": {
    "execution": {
     "iopub.execute_input": "2022-06-02T22:24:07.372878Z",
     "iopub.status.busy": "2022-06-02T22:24:07.372256Z",
     "iopub.status.idle": "2022-06-02T22:24:07.799591Z",
     "shell.execute_reply": "2022-06-02T22:24:07.798786Z"
    },
    "jupyter": {
     "source_hidden": true
    },
    "papermill": {
     "duration": 0.449554,
     "end_time": "2022-06-02T22:24:07.802035",
     "exception": false,
     "start_time": "2022-06-02T22:24:07.352481",
     "status": "completed"
    },
    "tags": [
     "remove_input"
    ]
   },
   "outputs": [],
   "source": [
    "df= pd.read_parquet(\"gs://calitp-analytics-data/data-analyses/dla/e-76Obligated/dla_df.parquet\")\n"
   ]
  },
  {
   "cell_type": "code",
   "execution_count": 5,
   "id": "be910f27-7608-4522-8d8d-ef93611cb748",
   "metadata": {
    "execution": {
     "iopub.execute_input": "2022-06-02T22:24:07.844398Z",
     "iopub.status.busy": "2022-06-02T22:24:07.843873Z",
     "iopub.status.idle": "2022-06-02T22:24:07.986419Z",
     "shell.execute_reply": "2022-06-02T22:24:07.985552Z"
    },
    "jupyter": {
     "source_hidden": true
    },
    "papermill": {
     "duration": 0.167023,
     "end_time": "2022-06-02T22:24:07.988871",
     "exception": false,
     "start_time": "2022-06-02T22:24:07.821848",
     "status": "completed"
    },
    "tags": [
     "remove_input"
    ]
   },
   "outputs": [],
   "source": [
    "df = (df>>filter(_.dist==district))\n",
    "    \n",
    "    \n",
    "#subsetting the data\n",
    "df_years = _dla_utils.count_all_years(df)\n",
    "df_top = _dla_utils.find_top(df)\n",
    "    "
   ]
  },
  {
   "cell_type": "code",
   "execution_count": 6,
   "id": "a5850431-4942-45ef-a3ea-6cb3f07d628e",
   "metadata": {
    "execution": {
     "iopub.execute_input": "2022-06-02T22:24:08.058269Z",
     "iopub.status.busy": "2022-06-02T22:24:08.057912Z",
     "iopub.status.idle": "2022-06-02T22:24:08.071443Z",
     "shell.execute_reply": "2022-06-02T22:24:08.070639Z"
    },
    "jupyter": {
     "source_hidden": true
    },
    "papermill": {
     "duration": 0.050282,
     "end_time": "2022-06-02T22:24:08.074251",
     "exception": false,
     "start_time": "2022-06-02T22:24:08.023969",
     "status": "completed"
    },
    "tags": [
     "remove_input"
    ]
   },
   "outputs": [],
   "source": [
    "df['prepared_y'] = df['prepared_y'].map('{:.0f}'.format)"
   ]
  },
  {
   "cell_type": "code",
   "execution_count": 7,
   "id": "7f5ac0a1-a951-4072-8f85-d2c90290907f",
   "metadata": {
    "execution": {
     "iopub.execute_input": "2022-06-02T22:24:08.139042Z",
     "iopub.status.busy": "2022-06-02T22:24:08.138715Z",
     "iopub.status.idle": "2022-06-02T22:24:08.459284Z",
     "shell.execute_reply": "2022-06-02T22:24:08.458323Z"
    },
    "jupyter": {
     "source_hidden": true
    },
    "papermill": {
     "duration": 0.354598,
     "end_time": "2022-06-02T22:24:08.461695",
     "exception": false,
     "start_time": "2022-06-02T22:24:08.107097",
     "status": "completed"
    },
    "tags": [
     "remove_input"
    ]
   },
   "outputs": [
    {
     "data": {
      "text/html": [
       "<h3>Quick Stats</h3>"
      ],
      "text/plain": [
       "<IPython.core.display.HTML object>"
      ]
     },
     "metadata": {},
     "output_type": "display_data"
    },
    {
     "data": {
      "text/html": [
       "There are <strong>108 Unique Agencies</strong>"
      ],
      "text/plain": [
       "<IPython.core.display.HTML object>"
      ]
     },
     "metadata": {},
     "output_type": "display_data"
    },
    {
     "data": {
      "text/html": [
       "Out of <strong>2,929</strong> obligations, <strong>89 have transit-related</strong> project types<br><strong>Los Angeles</strong> has the <strong>highest transit</strong> obligations"
      ],
      "text/plain": [
       "<IPython.core.display.HTML object>"
      ]
     },
     "metadata": {},
     "output_type": "display_data"
    },
    {
     "data": {
      "text/html": [
       "There are <strong>6 agencies have over 80.90</strong> obligations (95th percentile) since 2012"
      ],
      "text/plain": [
       "<IPython.core.display.HTML object>"
      ]
     },
     "metadata": {},
     "output_type": "display_data"
    },
    {
     "data": {
      "text/html": [
       "There are <strong>6 agencies have less than 2.00</strong> obligations (5th percentile) since 2012"
      ],
      "text/plain": [
       "<IPython.core.display.HTML object>"
      ]
     },
     "metadata": {},
     "output_type": "display_data"
    },
    {
     "data": {
      "text/html": [
       "<h4>Number of Unique Prefix Codes by Agency</h4>"
      ],
      "text/plain": [
       "<IPython.core.display.HTML object>"
      ]
     },
     "metadata": {},
     "output_type": "display_data"
    },
    {
     "data": {
      "text/html": [
       "<style type=\"text/css\">\n",
       "#T_c95c5 th {\n",
       "  text-align: center;\n",
       "}\n",
       "#T_c95c5_row0_col0, #T_c95c5_row0_col1, #T_c95c5_row1_col0, #T_c95c5_row1_col1, #T_c95c5_row2_col0, #T_c95c5_row2_col1, #T_c95c5_row3_col0, #T_c95c5_row3_col1, #T_c95c5_row4_col0, #T_c95c5_row4_col1 {\n",
       "  text-align: center;\n",
       "}\n",
       "</style>\n",
       "<table id=\"T_c95c5\">\n",
       "  <thead>\n",
       "    <tr>\n",
       "      <th id=\"T_c95c5_level0_col0\" class=\"col_heading level0 col0\" >Agency</th>\n",
       "      <th id=\"T_c95c5_level0_col1\" class=\"col_heading level0 col1\" >Number Of Unqiue Prefix Codes</th>\n",
       "    </tr>\n",
       "  </thead>\n",
       "  <tbody>\n",
       "    <tr>\n",
       "      <td id=\"T_c95c5_row0_col0\" class=\"data row0 col0\" >Los Angeles</td>\n",
       "      <td id=\"T_c95c5_row0_col1\" class=\"data row0 col1\" >35</td>\n",
       "    </tr>\n",
       "    <tr>\n",
       "      <td id=\"T_c95c5_row1_col0\" class=\"data row1 col0\" >Los Angeles County</td>\n",
       "      <td id=\"T_c95c5_row1_col1\" class=\"data row1 col1\" >31</td>\n",
       "    </tr>\n",
       "    <tr>\n",
       "      <td id=\"T_c95c5_row2_col0\" class=\"data row2 col0\" >Long Beach</td>\n",
       "      <td id=\"T_c95c5_row2_col1\" class=\"data row2 col1\" >19</td>\n",
       "    </tr>\n",
       "    <tr>\n",
       "      <td id=\"T_c95c5_row3_col0\" class=\"data row3 col0\" >Los Angeles County Metropolitan Transportation Authority</td>\n",
       "      <td id=\"T_c95c5_row3_col1\" class=\"data row3 col1\" >18</td>\n",
       "    </tr>\n",
       "    <tr>\n",
       "      <td id=\"T_c95c5_row4_col0\" class=\"data row4 col0\" >Oxnard</td>\n",
       "      <td id=\"T_c95c5_row4_col1\" class=\"data row4 col1\" >14</td>\n",
       "    </tr>\n",
       "  </tbody>\n",
       "</table>\n"
      ],
      "text/plain": [
       "<IPython.core.display.HTML object>"
      ]
     },
     "metadata": {},
     "output_type": "display_data"
    },
    {
     "data": {
      "text/html": [
       "<h4>Number of Unique Agencies by Prefix Codes</h4>"
      ],
      "text/plain": [
       "<IPython.core.display.HTML object>"
      ]
     },
     "metadata": {},
     "output_type": "display_data"
    },
    {
     "data": {
      "text/html": [
       "<style type=\"text/css\">\n",
       "#T_618e6 th {\n",
       "  text-align: center;\n",
       "}\n",
       "#T_618e6_row0_col0, #T_618e6_row0_col1, #T_618e6_row1_col0, #T_618e6_row1_col1, #T_618e6_row2_col0, #T_618e6_row2_col1, #T_618e6_row3_col0, #T_618e6_row3_col1, #T_618e6_row4_col0, #T_618e6_row4_col1 {\n",
       "  text-align: center;\n",
       "}\n",
       "</style>\n",
       "<table id=\"T_618e6\">\n",
       "  <thead>\n",
       "    <tr>\n",
       "      <th id=\"T_618e6_level0_col0\" class=\"col_heading level0 col0\" >Prefix</th>\n",
       "      <th id=\"T_618e6_level0_col1\" class=\"col_heading level0 col1\" >Number Of Unqiue Agencies</th>\n",
       "    </tr>\n",
       "  </thead>\n",
       "  <tbody>\n",
       "    <tr>\n",
       "      <td id=\"T_618e6_row0_col0\" class=\"data row0 col0\" >HSIPL</td>\n",
       "      <td id=\"T_618e6_row0_col1\" class=\"data row0 col1\" >62</td>\n",
       "    </tr>\n",
       "    <tr>\n",
       "      <td id=\"T_618e6_row1_col0\" class=\"data row1 col0\" >STPL</td>\n",
       "      <td id=\"T_618e6_row1_col1\" class=\"data row1 col1\" >58</td>\n",
       "    </tr>\n",
       "    <tr>\n",
       "      <td id=\"T_618e6_row2_col0\" class=\"data row2 col0\" >HPLUL</td>\n",
       "      <td id=\"T_618e6_row2_col1\" class=\"data row2 col1\" >34</td>\n",
       "    </tr>\n",
       "    <tr>\n",
       "      <td id=\"T_618e6_row3_col0\" class=\"data row3 col0\" >CML</td>\n",
       "      <td id=\"T_618e6_row3_col1\" class=\"data row3 col1\" >27</td>\n",
       "    </tr>\n",
       "    <tr>\n",
       "      <td id=\"T_618e6_row4_col0\" class=\"data row4 col0\" >SRTSL</td>\n",
       "      <td id=\"T_618e6_row4_col1\" class=\"data row4 col1\" >27</td>\n",
       "    </tr>\n",
       "  </tbody>\n",
       "</table>\n"
      ],
      "text/plain": [
       "<IPython.core.display.HTML object>"
      ]
     },
     "metadata": {},
     "output_type": "display_data"
    },
    {
     "data": {
      "text/html": [
       "<h4>Top 5 Types of Work</h4>"
      ],
      "text/plain": [
       "<IPython.core.display.HTML object>"
      ]
     },
     "metadata": {},
     "output_type": "display_data"
    },
    {
     "data": {
      "text/html": [
       "<style type=\"text/css\">\n",
       "#T_4abfd th {\n",
       "  text-align: center;\n",
       "}\n",
       "#T_4abfd_row0_col0, #T_4abfd_row1_col0, #T_4abfd_row2_col0, #T_4abfd_row3_col0, #T_4abfd_row4_col0 {\n",
       "  text-align: center;\n",
       "}\n",
       "</style>\n",
       "<table id=\"T_4abfd\">\n",
       "  <thead>\n",
       "    <tr>\n",
       "      <th id=\"T_4abfd_level0_col0\" class=\"col_heading level0 col0\" >Type Of Work</th>\n",
       "    </tr>\n",
       "  </thead>\n",
       "  <tbody>\n",
       "    <tr>\n",
       "      <td id=\"T_4abfd_row0_col0\" class=\"data row0 col0\" >FTA Transfer</td>\n",
       "    </tr>\n",
       "    <tr>\n",
       "      <td id=\"T_4abfd_row1_col0\" class=\"data row1 col0\" >Emergency Opening</td>\n",
       "    </tr>\n",
       "    <tr>\n",
       "      <td id=\"T_4abfd_row2_col0\" class=\"data row2 col0\" >Bridge Replacement</td>\n",
       "    </tr>\n",
       "    <tr>\n",
       "      <td id=\"T_4abfd_row3_col0\" class=\"data row3 col0\" >Road Rehabilitation (tc)</td>\n",
       "    </tr>\n",
       "    <tr>\n",
       "      <td id=\"T_4abfd_row4_col0\" class=\"data row4 col0\" >Bridge Rehabilitation</td>\n",
       "    </tr>\n",
       "  </tbody>\n",
       "</table>\n"
      ],
      "text/plain": [
       "<IPython.core.display.HTML object>"
      ]
     },
     "metadata": {},
     "output_type": "display_data"
    }
   ],
   "source": [
    "display(HTML(\"<h3>Quick Stats</h3>\"))\n",
    "\n",
    "display(\n",
    "    HTML(\n",
    "        f\"There are <strong>{(df.primary_agency_name.nunique())} Unique Agencies</strong>\"\n",
    "    )\n",
    ")\n",
    "\n",
    "transit = df >> filter(_.transit == 1)\n",
    "\n",
    "def find_transit(df):\n",
    "    if (len(transit)) == 0: \n",
    "        return display((HTML(f\"Out of <strong>{len(df):,}</strong> obligations,\" \n",
    "                             f\" there are <strong>0 transit realted</strong> project types\")))\n",
    "    \n",
    "    else:\n",
    "        return display(\n",
    "            HTML(\n",
    "                f\"Out of <strong>{len(df):,}</strong> obligations, <strong>{len(transit)} have \"\n",
    "                f\"transit-related</strong> project types\"\n",
    "                f\"<br><strong>{(transit>>count(_.primary_agency_name)>>arrange(-_.n)).iloc[0, 0]}</strong> \"\n",
    "                f\"has the <strong>highest transit</strong> obligations\"\n",
    "            ))\n",
    "    \n",
    "find_transit(df)\n",
    "\n",
    "q = df >> count(_.primary_agency_name) >> arrange(_.n)\n",
    "\n",
    "q2 = q.n.quantile(0.95)\n",
    "\n",
    "display(\n",
    "    HTML(\n",
    "        f\"There are <strong>{len(q>>filter(_.n> (q2)))} agencies have over {('%.2f'%(q2))}</strong> \" \n",
    "        f\"obligations (95th percentile) since {(df.prepared_y.min())}\"\n",
    "    )\n",
    ")\n",
    "\n",
    "q3 = q.n.quantile(0.1)\n",
    "display(\n",
    "    HTML(\n",
    "        (\n",
    "            f\"There are <strong>{len(q>>filter(_.n< (q3)))} agencies have less than\"\n",
    "            f\" {('%.2f'%(q3))}</strong> obligations (5th percentile) since {(df.prepared_y.min())}\"\n",
    "        )\n",
    "    )\n",
    ")\n",
    "\n",
    "## tables\n",
    "display(HTML(\"<h4>Number of Unique Prefix Codes by Agency</h4>\"))\n",
    "nunique_prefix_codes = ((_dla_utils.get_nunique(df, \"prefix\", \"primary_agency_name\"))\n",
    "                        .rename(columns={\"primary_agency_name\": \"Agency\", \"n\": \"Number of Unqiue Prefix Codes\"})\n",
    "                        .head(5))\n",
    "display(HTML(_dla_utils.pretify_tables(nunique_prefix_codes)))\n",
    "\n",
    "display(HTML(\"<h4>Number of Unique Agencies by Prefix Codes</h4>\"))\n",
    "prefix_codes = ((_dla_utils.get_nunique(df, \"primary_agency_name\", \"prefix\"))\n",
    "                .rename(columns={\"prefix\": \"Prefix\", \"n\": \"Number of Unqiue Agencies\"})\n",
    "                .head(5))\n",
    "display(HTML(_dla_utils.pretify_tables(prefix_codes)))\n",
    "\n",
    "\n",
    "display(HTML(\"<h4>Top 5 Types of Work</h4>\"))\n",
    "work_types = (\n",
    "    (df >> count(_.type_of_work) >> arrange(-_.n) >> select(_.type_of_work))\n",
    "    .rename(columns={\"type_of_work\": \"Type of Work\"})\n",
    "    .head(5)\n",
    ")\n",
    "display(HTML(_dla_utils.pretify_tables(work_types)))\n",
    "# get rid of index using:\n",
    "## https://stackoverflow.com/questions/24644656/how-to-print-pandas-dataframe-without-index\n"
   ]
  },
  {
   "cell_type": "markdown",
   "id": "52a161a2-876a-4b42-9c93-3221dce17638",
   "metadata": {
    "papermill": {
     "duration": 0.02293,
     "end_time": "2022-06-02T22:24:08.510105",
     "exception": false,
     "start_time": "2022-06-02T22:24:08.487175",
     "status": "completed"
    },
    "tags": []
   },
   "source": [
    "## Obligations"
   ]
  },
  {
   "cell_type": "markdown",
   "id": "c9d55b3c-f6b6-4980-957c-77d458068fe3",
   "metadata": {
    "papermill": {
     "duration": 0.02146,
     "end_time": "2022-06-02T22:24:08.554970",
     "exception": false,
     "start_time": "2022-06-02T22:24:08.533510",
     "status": "completed"
    },
    "tags": []
   },
   "source": [
    "<hr style=\"height: 2px; background-color:#136C97; border: none\">"
   ]
  },
  {
   "cell_type": "markdown",
   "id": "379b61e3-1c1b-4683-b78f-8dee0683f064",
   "metadata": {
    "papermill": {
     "duration": 0.024713,
     "end_time": "2022-06-02T22:24:08.601990",
     "exception": false,
     "start_time": "2022-06-02T22:24:08.577277",
     "status": "completed"
    },
    "tags": []
   },
   "source": [
    "Obligations indicate a unique entry in the E-76 dataset. By counting the obligations for each year, district, and organization, we can see what the volume each as well which organizations are the most and last frequent customers. \n",
    "\n",
    "Metrics:\n",
    "* Obligations by Year\n",
    "* Number of Unique Agencies by District\n",
    "* Agencies With The Most Obligations"
   ]
  },
  {
   "cell_type": "markdown",
   "id": "81ad520b-db91-45b8-a598-a6577cccc24e",
   "metadata": {
    "papermill": {
     "duration": 0.023633,
     "end_time": "2022-06-02T22:24:08.649037",
     "exception": false,
     "start_time": "2022-06-02T22:24:08.625404",
     "status": "completed"
    },
    "tags": []
   },
   "source": [
    "### Number of Obligations by Year"
   ]
  },
  {
   "cell_type": "code",
   "execution_count": 8,
   "id": "ae85287b-0772-4595-8ea2-ccba83dd22cf",
   "metadata": {
    "execution": {
     "iopub.execute_input": "2022-06-02T22:24:08.697656Z",
     "iopub.status.busy": "2022-06-02T22:24:08.696812Z",
     "iopub.status.idle": "2022-06-02T22:24:08.732312Z",
     "shell.execute_reply": "2022-06-02T22:24:08.731456Z"
    },
    "jupyter": {
     "source_hidden": true
    },
    "papermill": {
     "duration": 0.061317,
     "end_time": "2022-06-02T22:24:08.734293",
     "exception": false,
     "start_time": "2022-06-02T22:24:08.672976",
     "status": "completed"
    },
    "tags": [
     "remove_input"
    ]
   },
   "outputs": [
    {
     "data": {
      "text/html": [
       "\n",
       "<div id=\"altair-viz-6e27a672c0864388966b487dd66af30a\"></div>\n",
       "<script type=\"text/javascript\">\n",
       "  var VEGA_DEBUG = (typeof VEGA_DEBUG == \"undefined\") ? {} : VEGA_DEBUG;\n",
       "  (function(spec, embedOpt){\n",
       "    let outputDiv = document.currentScript.previousElementSibling;\n",
       "    if (outputDiv.id !== \"altair-viz-6e27a672c0864388966b487dd66af30a\") {\n",
       "      outputDiv = document.getElementById(\"altair-viz-6e27a672c0864388966b487dd66af30a\");\n",
       "    }\n",
       "    const paths = {\n",
       "      \"vega\": \"https://cdn.jsdelivr.net/npm//vega@5?noext\",\n",
       "      \"vega-lib\": \"https://cdn.jsdelivr.net/npm//vega-lib?noext\",\n",
       "      \"vega-lite\": \"https://cdn.jsdelivr.net/npm//vega-lite@4.17.0?noext\",\n",
       "      \"vega-embed\": \"https://cdn.jsdelivr.net/npm//vega-embed@6?noext\",\n",
       "    };\n",
       "\n",
       "    function maybeLoadScript(lib, version) {\n",
       "      var key = `${lib.replace(\"-\", \"\")}_version`;\n",
       "      return (VEGA_DEBUG[key] == version) ?\n",
       "        Promise.resolve(paths[lib]) :\n",
       "        new Promise(function(resolve, reject) {\n",
       "          var s = document.createElement('script');\n",
       "          document.getElementsByTagName(\"head\")[0].appendChild(s);\n",
       "          s.async = true;\n",
       "          s.onload = () => {\n",
       "            VEGA_DEBUG[key] = version;\n",
       "            return resolve(paths[lib]);\n",
       "          };\n",
       "          s.onerror = () => reject(`Error loading script: ${paths[lib]}`);\n",
       "          s.src = paths[lib];\n",
       "        });\n",
       "    }\n",
       "\n",
       "    function showError(err) {\n",
       "      outputDiv.innerHTML = `<div class=\"error\" style=\"color:red;\">${err}</div>`;\n",
       "      throw err;\n",
       "    }\n",
       "\n",
       "    function displayChart(vegaEmbed) {\n",
       "      vegaEmbed(outputDiv, spec, embedOpt)\n",
       "        .catch(err => showError(`Javascript Error: ${err.message}<br>This usually means there's a typo in your chart specification. See the javascript console for the full traceback.`));\n",
       "    }\n",
       "\n",
       "    if(typeof define === \"function\" && define.amd) {\n",
       "      requirejs.config({paths});\n",
       "      require([\"vega-embed\"], displayChart, err => showError(`Error loading script: ${err.message}`));\n",
       "    } else {\n",
       "      maybeLoadScript(\"vega\", \"5\")\n",
       "        .then(() => maybeLoadScript(\"vega-lite\", \"4.17.0\"))\n",
       "        .then(() => maybeLoadScript(\"vega-embed\", \"6\"))\n",
       "        .catch(showError)\n",
       "        .then(() => displayChart(vegaEmbed));\n",
       "    }\n",
       "  })({\"config\": {\"view\": {\"continuousWidth\": 400, \"continuousHeight\": 300}, \"axis\": {\"domainColor\": \"#cbcbcb\", \"grid\": true, \"gridColor\": \"#cbcbcb\", \"gridWidth\": 1, \"labelColor\": \"#474747\", \"labelFont\": \"Nunito Sans\", \"labelFontSize\": 10, \"labelPadding\": 4, \"tickColor\": \"#cbcbcb\", \"tickSize\": 10, \"titleColor\": \"#333\", \"titleFont\": \"Raleway\", \"titleFontSize\": 12, \"titlePadding\": 10}, \"axisBand\": {\"grid\": false}, \"background\": \"white\", \"font\": \"Raleway\", \"header\": {\"labelFont\": \"Nunito Sans\", \"titleFont\": \"Raleway\"}, \"legend\": {\"labelColor\": \"#333\", \"labelFont\": \"Nunito Sans\", \"labelFontSize\": 11, \"labelLimit\": 0, \"padding\": 1, \"symbolSize\": 30, \"symbolType\": \"square\", \"titleColor\": \"#333\", \"titleFont\": \"Raleway\", \"titleFontSize\": 14, \"titlePadding\": 10}, \"title\": {\"anchor\": \"middle\", \"font\": \"Raleway\", \"fontSize\": 18, \"fontWeight\": 300, \"offset\": 20}}, \"data\": {\"name\": \"data-9e62180dcb16abd7826fe106b87249d9\"}, \"mark\": \"line\", \"encoding\": {\"tooltip\": [{\"field\": \"Year\", \"title\": \"Year\", \"type\": \"quantitative\"}, {\"field\": \"count\", \"title\": \"Count\", \"type\": \"quantitative\"}], \"x\": {\"field\": \"Year\", \"title\": \"Prepared Year\", \"type\": \"ordinal\"}, \"y\": {\"field\": \"count\", \"title\": \"Count\", \"type\": \"quantitative\"}}, \"height\": 250, \"width\": 400, \"$schema\": \"https://vega.github.io/schema/vega-lite/v4.17.0.json\", \"datasets\": {\"data-9e62180dcb16abd7826fe106b87249d9\": [{\"Year\": 2014.0, \"count\": 430, \"variable\": \"prepared_y\"}, {\"Year\": 2016.0, \"count\": 376, \"variable\": \"prepared_y\"}, {\"Year\": 2015.0, \"count\": 370, \"variable\": \"prepared_y\"}, {\"Year\": 2019.0, \"count\": 341, \"variable\": \"prepared_y\"}, {\"Year\": 2018.0, \"count\": 333, \"variable\": \"prepared_y\"}, {\"Year\": 2017.0, \"count\": 326, \"variable\": \"prepared_y\"}, {\"Year\": 2020.0, \"count\": 319, \"variable\": \"prepared_y\"}, {\"Year\": 2021.0, \"count\": 286, \"variable\": \"prepared_y\"}, {\"Year\": 2022.0, \"count\": 110, \"variable\": \"prepared_y\"}, {\"Year\": 2013.0, \"count\": 32, \"variable\": \"prepared_y\"}, {\"Year\": 2012.0, \"count\": 1, \"variable\": \"prepared_y\"}]}}, {\"mode\": \"vega-lite\"});\n",
       "</script>"
      ],
      "text/plain": [
       "alt.Chart(...)"
      ]
     },
     "metadata": {},
     "output_type": "display_data"
    }
   ],
   "source": [
    " #Line chart for Obligations by Year\n",
    "chart_df = (df_top>>filter(_.variable=='prepared_y')).rename(columns= {\"value\":\"Year\"})\n",
    "    \n",
    "chart1= (_dla_utils.basic_line_chart_test_no_save(chart_df, 'Year', 'count', district)).encode(x=alt.X('Year:O', title='Prepared Year'))\n",
    "display(chart1)"
   ]
  },
  {
   "cell_type": "markdown",
   "id": "ff0a6bf9-ddc9-4b6c-b2e1-77de18cf6f80",
   "metadata": {
    "papermill": {
     "duration": 0.029921,
     "end_time": "2022-06-02T22:24:08.786891",
     "exception": false,
     "start_time": "2022-06-02T22:24:08.756970",
     "status": "completed"
    },
    "tags": []
   },
   "source": [
    "### Number of Unique Agencies by District"
   ]
  },
  {
   "cell_type": "code",
   "execution_count": 9,
   "id": "0bc7e34d-545e-4afd-92e9-a17630d0ae89",
   "metadata": {
    "execution": {
     "iopub.execute_input": "2022-06-02T22:24:08.836493Z",
     "iopub.status.busy": "2022-06-02T22:24:08.835502Z",
     "iopub.status.idle": "2022-06-02T22:24:08.889424Z",
     "shell.execute_reply": "2022-06-02T22:24:08.888582Z"
    },
    "jupyter": {
     "source_hidden": true
    },
    "papermill": {
     "duration": 0.081973,
     "end_time": "2022-06-02T22:24:08.891421",
     "exception": false,
     "start_time": "2022-06-02T22:24:08.809448",
     "status": "completed"
    },
    "tags": [
     "remove_input"
    ]
   },
   "outputs": [
    {
     "data": {
      "text/html": [
       "\n",
       "<div id=\"altair-viz-df153c2da4bc46e895831d04f094eddb\"></div>\n",
       "<script type=\"text/javascript\">\n",
       "  var VEGA_DEBUG = (typeof VEGA_DEBUG == \"undefined\") ? {} : VEGA_DEBUG;\n",
       "  (function(spec, embedOpt){\n",
       "    let outputDiv = document.currentScript.previousElementSibling;\n",
       "    if (outputDiv.id !== \"altair-viz-df153c2da4bc46e895831d04f094eddb\") {\n",
       "      outputDiv = document.getElementById(\"altair-viz-df153c2da4bc46e895831d04f094eddb\");\n",
       "    }\n",
       "    const paths = {\n",
       "      \"vega\": \"https://cdn.jsdelivr.net/npm//vega@5?noext\",\n",
       "      \"vega-lib\": \"https://cdn.jsdelivr.net/npm//vega-lib?noext\",\n",
       "      \"vega-lite\": \"https://cdn.jsdelivr.net/npm//vega-lite@4.17.0?noext\",\n",
       "      \"vega-embed\": \"https://cdn.jsdelivr.net/npm//vega-embed@6?noext\",\n",
       "    };\n",
       "\n",
       "    function maybeLoadScript(lib, version) {\n",
       "      var key = `${lib.replace(\"-\", \"\")}_version`;\n",
       "      return (VEGA_DEBUG[key] == version) ?\n",
       "        Promise.resolve(paths[lib]) :\n",
       "        new Promise(function(resolve, reject) {\n",
       "          var s = document.createElement('script');\n",
       "          document.getElementsByTagName(\"head\")[0].appendChild(s);\n",
       "          s.async = true;\n",
       "          s.onload = () => {\n",
       "            VEGA_DEBUG[key] = version;\n",
       "            return resolve(paths[lib]);\n",
       "          };\n",
       "          s.onerror = () => reject(`Error loading script: ${paths[lib]}`);\n",
       "          s.src = paths[lib];\n",
       "        });\n",
       "    }\n",
       "\n",
       "    function showError(err) {\n",
       "      outputDiv.innerHTML = `<div class=\"error\" style=\"color:red;\">${err}</div>`;\n",
       "      throw err;\n",
       "    }\n",
       "\n",
       "    function displayChart(vegaEmbed) {\n",
       "      vegaEmbed(outputDiv, spec, embedOpt)\n",
       "        .catch(err => showError(`Javascript Error: ${err.message}<br>This usually means there's a typo in your chart specification. See the javascript console for the full traceback.`));\n",
       "    }\n",
       "\n",
       "    if(typeof define === \"function\" && define.amd) {\n",
       "      requirejs.config({paths});\n",
       "      require([\"vega-embed\"], displayChart, err => showError(`Error loading script: ${err.message}`));\n",
       "    } else {\n",
       "      maybeLoadScript(\"vega\", \"5\")\n",
       "        .then(() => maybeLoadScript(\"vega-lite\", \"4.17.0\"))\n",
       "        .then(() => maybeLoadScript(\"vega-embed\", \"6\"))\n",
       "        .catch(showError)\n",
       "        .then(() => displayChart(vegaEmbed));\n",
       "    }\n",
       "  })({\"config\": {\"view\": {\"continuousWidth\": 400, \"continuousHeight\": 300}, \"axis\": {\"domainColor\": \"#cbcbcb\", \"grid\": true, \"gridColor\": \"#cbcbcb\", \"gridWidth\": 1, \"labelColor\": \"#474747\", \"labelFont\": \"Nunito Sans\", \"labelFontSize\": 10, \"labelPadding\": 4, \"tickColor\": \"#cbcbcb\", \"tickSize\": 10, \"titleColor\": \"#333\", \"titleFont\": \"Raleway\", \"titleFontSize\": 12, \"titlePadding\": 10}, \"axisBand\": {\"grid\": false}, \"background\": \"white\", \"font\": \"Raleway\", \"header\": {\"labelFont\": \"Nunito Sans\", \"titleFont\": \"Raleway\"}, \"legend\": {\"labelColor\": \"#333\", \"labelFont\": \"Nunito Sans\", \"labelFontSize\": 11, \"labelLimit\": 0, \"padding\": 1, \"symbolSize\": 30, \"symbolType\": \"square\", \"titleColor\": \"#333\", \"titleFont\": \"Raleway\", \"titleFontSize\": 14, \"titlePadding\": 10}, \"title\": {\"anchor\": \"middle\", \"font\": \"Raleway\", \"fontSize\": 18, \"fontWeight\": 300, \"offset\": 20}}, \"data\": {\"name\": \"data-ead9338bd537f288448e9f2dc6bf036d\"}, \"mark\": \"bar\", \"encoding\": {\"color\": {\"field\": \"District\", \"legend\": {\"title\": \"Prepared Year\"}, \"scale\": {\"range\": [\"#B9D6DF\", \"#8CBCCB\", \"#2EA8CE\", \"#136C97\", \"#0B405B\"]}, \"type\": \"nominal\"}, \"column\": {\"field\": \"District\", \"type\": \"nominal\"}, \"tooltip\": [{\"field\": \"prepared_y\", \"title\": \"Year\", \"type\": \"nominal\"}, {\"field\": \"Count\", \"title\": \"Count\", \"type\": \"quantitative\"}], \"x\": {\"field\": \"prepared_y\", \"title\": \"Prepared Year\", \"type\": \"ordinal\"}, \"y\": {\"field\": \"Count\", \"title\": \"Number of Unique Agencies\", \"type\": \"quantitative\"}}, \"height\": 250, \"width\": 400, \"$schema\": \"https://vega.github.io/schema/vega-lite/v4.17.0.json\", \"datasets\": {\"data-ead9338bd537f288448e9f2dc6bf036d\": [{\"prepared_y\": \"nan\", \"District\": 7, \"Count\": 1}, {\"prepared_y\": \"2022\", \"District\": 7, \"Count\": 43}, {\"prepared_y\": \"2021\", \"District\": 7, \"Count\": 63}, {\"prepared_y\": \"2020\", \"District\": 7, \"Count\": 60}, {\"prepared_y\": \"2019\", \"District\": 7, \"Count\": 65}, {\"prepared_y\": \"2018\", \"District\": 7, \"Count\": 63}, {\"prepared_y\": \"2017\", \"District\": 7, \"Count\": 73}, {\"prepared_y\": \"2016\", \"District\": 7, \"Count\": 75}, {\"prepared_y\": \"2015\", \"District\": 7, \"Count\": 85}, {\"prepared_y\": \"2014\", \"District\": 7, \"Count\": 77}, {\"prepared_y\": \"2013\", \"District\": 7, \"Count\": 18}, {\"prepared_y\": \"2012\", \"District\": 7, \"Count\": 1}]}}, {\"mode\": \"vega-lite\"});\n",
       "</script>"
      ],
      "text/plain": [
       "alt.Chart(...)"
      ]
     },
     "metadata": {},
     "output_type": "display_data"
    }
   ],
   "source": [
    "# Unique Agencies by Dist\n",
    "dist_years_agency = ((\n",
    "        df\n",
    "        >> group_by(_.prepared_y, _.dist)\n",
    "        >> summarize(n=_.primary_agency_name.nunique())\n",
    "        >> arrange(-_.prepared_y)\n",
    "    )\n",
    "        .rename(columns={'dist':'District', 'n':'Count'})\n",
    "    )\n",
    "chart10 = (alt.Chart(dist_years_agency).mark_bar().encode(\n",
    "        column='District:N',\n",
    "        x=alt.X('prepared_y:O', title='Prepared Year'),\n",
    "        y=alt.Y('Count:Q', title='Number of Unique Agencies'),\n",
    "        color = alt.Color(\"District:N\", \n",
    "                              scale=alt.Scale(\n",
    "                                  range=altair_utils.CALITP_SEQUENTIAL_COLORS),  \n",
    "                               legend=alt.Legend(title=\"Prepared Year\")\n",
    "                              )))\n",
    "                              \n",
    "chart10 = styleguide.preset_chart_config(chart10)\n",
    "chart10 = _dla_utils.add_tooltip(chart10, 'prepared_y', 'Count')\n",
    "\n",
    "display(chart10)"
   ]
  },
  {
   "cell_type": "markdown",
   "id": "70c59c39-590d-4136-aa09-ee6ed5afc872",
   "metadata": {
    "papermill": {
     "duration": 0.023296,
     "end_time": "2022-06-02T22:24:08.937761",
     "exception": false,
     "start_time": "2022-06-02T22:24:08.914465",
     "status": "completed"
    },
    "tags": []
   },
   "source": [
    "### Agencies With The Most Obligations"
   ]
  },
  {
   "cell_type": "code",
   "execution_count": 10,
   "id": "faa4758e-8a41-44f8-aec4-b8cc4d75d906",
   "metadata": {
    "execution": {
     "iopub.execute_input": "2022-06-02T22:24:08.998937Z",
     "iopub.status.busy": "2022-06-02T22:24:08.998132Z",
     "iopub.status.idle": "2022-06-02T22:24:09.027404Z",
     "shell.execute_reply": "2022-06-02T22:24:09.026287Z"
    },
    "jupyter": {
     "source_hidden": true
    },
    "papermill": {
     "duration": 0.064939,
     "end_time": "2022-06-02T22:24:09.030373",
     "exception": false,
     "start_time": "2022-06-02T22:24:08.965434",
     "status": "completed"
    },
    "tags": [
     "remove_input"
    ]
   },
   "outputs": [
    {
     "data": {
      "text/html": [
       "\n",
       "<div id=\"altair-viz-53d3163d37b242f5981236c0aaac79ca\"></div>\n",
       "<script type=\"text/javascript\">\n",
       "  var VEGA_DEBUG = (typeof VEGA_DEBUG == \"undefined\") ? {} : VEGA_DEBUG;\n",
       "  (function(spec, embedOpt){\n",
       "    let outputDiv = document.currentScript.previousElementSibling;\n",
       "    if (outputDiv.id !== \"altair-viz-53d3163d37b242f5981236c0aaac79ca\") {\n",
       "      outputDiv = document.getElementById(\"altair-viz-53d3163d37b242f5981236c0aaac79ca\");\n",
       "    }\n",
       "    const paths = {\n",
       "      \"vega\": \"https://cdn.jsdelivr.net/npm//vega@5?noext\",\n",
       "      \"vega-lib\": \"https://cdn.jsdelivr.net/npm//vega-lib?noext\",\n",
       "      \"vega-lite\": \"https://cdn.jsdelivr.net/npm//vega-lite@4.17.0?noext\",\n",
       "      \"vega-embed\": \"https://cdn.jsdelivr.net/npm//vega-embed@6?noext\",\n",
       "    };\n",
       "\n",
       "    function maybeLoadScript(lib, version) {\n",
       "      var key = `${lib.replace(\"-\", \"\")}_version`;\n",
       "      return (VEGA_DEBUG[key] == version) ?\n",
       "        Promise.resolve(paths[lib]) :\n",
       "        new Promise(function(resolve, reject) {\n",
       "          var s = document.createElement('script');\n",
       "          document.getElementsByTagName(\"head\")[0].appendChild(s);\n",
       "          s.async = true;\n",
       "          s.onload = () => {\n",
       "            VEGA_DEBUG[key] = version;\n",
       "            return resolve(paths[lib]);\n",
       "          };\n",
       "          s.onerror = () => reject(`Error loading script: ${paths[lib]}`);\n",
       "          s.src = paths[lib];\n",
       "        });\n",
       "    }\n",
       "\n",
       "    function showError(err) {\n",
       "      outputDiv.innerHTML = `<div class=\"error\" style=\"color:red;\">${err}</div>`;\n",
       "      throw err;\n",
       "    }\n",
       "\n",
       "    function displayChart(vegaEmbed) {\n",
       "      vegaEmbed(outputDiv, spec, embedOpt)\n",
       "        .catch(err => showError(`Javascript Error: ${err.message}<br>This usually means there's a typo in your chart specification. See the javascript console for the full traceback.`));\n",
       "    }\n",
       "\n",
       "    if(typeof define === \"function\" && define.amd) {\n",
       "      requirejs.config({paths});\n",
       "      require([\"vega-embed\"], displayChart, err => showError(`Error loading script: ${err.message}`));\n",
       "    } else {\n",
       "      maybeLoadScript(\"vega\", \"5\")\n",
       "        .then(() => maybeLoadScript(\"vega-lite\", \"4.17.0\"))\n",
       "        .then(() => maybeLoadScript(\"vega-embed\", \"6\"))\n",
       "        .catch(showError)\n",
       "        .then(() => displayChart(vegaEmbed));\n",
       "    }\n",
       "  })({\"config\": {\"view\": {\"continuousWidth\": 400, \"continuousHeight\": 300}, \"axis\": {\"domainColor\": \"#cbcbcb\", \"grid\": true, \"gridColor\": \"#cbcbcb\", \"gridWidth\": 1, \"labelColor\": \"#474747\", \"labelFont\": \"Nunito Sans\", \"labelFontSize\": 10, \"labelPadding\": 4, \"tickColor\": \"#cbcbcb\", \"tickSize\": 10, \"titleColor\": \"#333\", \"titleFont\": \"Raleway\", \"titleFontSize\": 12, \"titlePadding\": 10}, \"axisBand\": {\"grid\": false}, \"background\": \"white\", \"font\": \"Raleway\", \"header\": {\"labelFont\": \"Nunito Sans\", \"titleFont\": \"Raleway\"}, \"legend\": {\"labelColor\": \"#333\", \"labelFont\": \"Nunito Sans\", \"labelFontSize\": 11, \"labelLimit\": 0, \"padding\": 1, \"symbolSize\": 30, \"symbolType\": \"square\", \"titleColor\": \"#333\", \"titleFont\": \"Raleway\", \"titleFontSize\": 14, \"titlePadding\": 10}, \"title\": {\"anchor\": \"middle\", \"font\": \"Raleway\", \"fontSize\": 18, \"fontWeight\": 300, \"offset\": 20}}, \"data\": {\"name\": \"data-98c6a0401555948ee1adb6ac193aab38\"}, \"mark\": \"bar\", \"encoding\": {\"color\": {\"field\": \"Agency\", \"legend\": {\"symbolLimit\": 10, \"title\": \"Agency\"}, \"scale\": {\"range\": [\"#2EA8CE\", \"#EB9F3C\", \"#F4D837\", \"#51BF9D\", \"#8CBCCB\", \"#9487C0\"]}, \"type\": \"nominal\"}, \"tooltip\": [{\"field\": \"Agency\", \"title\": \"Agency\", \"type\": \"nominal\"}, {\"field\": \"Number of Obligations\", \"title\": \"Number Of Obligations\", \"type\": \"quantitative\"}], \"x\": {\"field\": \"Agency\", \"sort\": \"-y\", \"title\": \"Agency\", \"type\": \"nominal\"}, \"y\": {\"field\": \"Number of Obligations\", \"title\": \"Number Of Obligations\", \"type\": \"quantitative\"}}, \"height\": 250, \"width\": 400, \"$schema\": \"https://vega.github.io/schema/vega-lite/v4.17.0.json\", \"datasets\": {\"data-98c6a0401555948ee1adb6ac193aab38\": [{\"Agency\": \"Los Angeles\", \"Number of Obligations\": 511, \"variable\": \"primary_agency_name\"}, {\"Agency\": \"Los Angeles County\", \"Number of Obligations\": 481, \"variable\": \"primary_agency_name\"}, {\"Agency\": \"Ventura County\", \"Number of Obligations\": 120, \"variable\": \"primary_agency_name\"}, {\"Agency\": \"Los Angeles County Metropolitan Transportation Authority\", \"Number of Obligations\": 90, \"variable\": \"primary_agency_name\"}, {\"Agency\": \"Santa Clarita\", \"Number of Obligations\": 88, \"variable\": \"primary_agency_name\"}, {\"Agency\": \"Long Beach\", \"Number of Obligations\": 83, \"variable\": \"primary_agency_name\"}, {\"Agency\": \"Oxnard\", \"Number of Obligations\": 77, \"variable\": \"primary_agency_name\"}, {\"Agency\": \"Pasadena\", \"Number of Obligations\": 76, \"variable\": \"primary_agency_name\"}, {\"Agency\": \"Downey\", \"Number of Obligations\": 65, \"variable\": \"primary_agency_name\"}, {\"Agency\": \"Lancaster\", \"Number of Obligations\": 63, \"variable\": \"primary_agency_name\"}, {\"Agency\": \"Simi Valley\", \"Number of Obligations\": 62, \"variable\": \"primary_agency_name\"}, {\"Agency\": \"Palmdale\", \"Number of Obligations\": 48, \"variable\": \"primary_agency_name\"}, {\"Agency\": \"Pico Rivera\", \"Number of Obligations\": 40, \"variable\": \"primary_agency_name\"}, {\"Agency\": \"Thousand Oaks\", \"Number of Obligations\": 40, \"variable\": \"primary_agency_name\"}, {\"Agency\": \"Glendale\", \"Number of Obligations\": 36, \"variable\": \"primary_agency_name\"}, {\"Agency\": \"San Buenaventura\", \"Number of Obligations\": 36, \"variable\": \"primary_agency_name\"}, {\"Agency\": \"Camarillo\", \"Number of Obligations\": 35, \"variable\": \"primary_agency_name\"}, {\"Agency\": \"Culver City\", \"Number of Obligations\": 33, \"variable\": \"primary_agency_name\"}, {\"Agency\": \"Burbank\", \"Number of Obligations\": 32, \"variable\": \"primary_agency_name\"}, {\"Agency\": \"Ventura County Transportation Commission\", \"Number of Obligations\": 32, \"variable\": \"primary_agency_name\"}]}}, {\"mode\": \"vega-lite\"});\n",
       "</script>"
      ],
      "text/plain": [
       "alt.Chart(...)"
      ]
     },
     "metadata": {},
     "output_type": "display_data"
    }
   ],
   "source": [
    "#Bar chart Agencies With The Most Obligations\n",
    "chart_df = (df_top>>filter(_.variable=='primary_agency_name')).rename(columns={\"value\":\"Agency\",\n",
    "                                 \"count\":\"Number of Obligations\"})\n",
    "chart2 = (_dla_utils.basic_bar_chart_no_save(chart_df, 'Agency', 'Number of Obligations', 'Agency', district))\n",
    "    \n",
    "\n",
    "display(chart2)\n"
   ]
  },
  {
   "cell_type": "markdown",
   "id": "5a3bed5f-4325-47af-9cc7-683f9872817f",
   "metadata": {
    "papermill": {
     "duration": 0.023531,
     "end_time": "2022-06-02T22:24:09.078410",
     "exception": false,
     "start_time": "2022-06-02T22:24:09.054879",
     "status": "completed"
    },
    "tags": []
   },
   "source": [
    "## Prefix Codes"
   ]
  },
  {
   "cell_type": "markdown",
   "id": "339b20d8-68c6-43bd-8aaf-491772bc0995",
   "metadata": {
    "papermill": {
     "duration": 0.025815,
     "end_time": "2022-06-02T22:24:09.137799",
     "exception": false,
     "start_time": "2022-06-02T22:24:09.111984",
     "status": "completed"
    },
    "tags": []
   },
   "source": [
    "<hr style=\"height: 2px; background-color:#8CBCCB; border: none\">\n"
   ]
  },
  {
   "cell_type": "markdown",
   "id": "cfded756-3c93-4089-be41-68e19d28b304",
   "metadata": {
    "papermill": {
     "duration": 0.023617,
     "end_time": "2022-06-02T22:24:09.186285",
     "exception": false,
     "start_time": "2022-06-02T22:24:09.162668",
     "status": "completed"
    },
    "tags": []
   },
   "source": [
    "Prefix Codes refer to the program an obligation is in. Similar to the number of obligations, calcuating the unique prefix codes provides insight to how many progams DLA is involved in each year as well as workload at the district and organization level.\n",
    "\n",
    "Metrics: \n",
    "* Number of Unique Prefix Codes by Districts\n",
    "* Most Used Prefix Codes\n",
    "* Agencies With The Most Unique Prefix Codes"
   ]
  },
  {
   "cell_type": "markdown",
   "id": "f8cb2832-947d-4631-9b4c-c81fb118cab3",
   "metadata": {
    "papermill": {
     "duration": 0.024866,
     "end_time": "2022-06-02T22:24:09.235463",
     "exception": false,
     "start_time": "2022-06-02T22:24:09.210597",
     "status": "completed"
    },
    "tags": []
   },
   "source": [
    "### Number of Unique Prefix Codes by District"
   ]
  },
  {
   "cell_type": "code",
   "execution_count": 11,
   "id": "f661bd63-f8aa-4048-b035-03d5bf1b7e95",
   "metadata": {
    "execution": {
     "iopub.execute_input": "2022-06-02T22:24:09.284867Z",
     "iopub.status.busy": "2022-06-02T22:24:09.284499Z",
     "iopub.status.idle": "2022-06-02T22:24:09.333025Z",
     "shell.execute_reply": "2022-06-02T22:24:09.332166Z"
    },
    "jupyter": {
     "source_hidden": true
    },
    "papermill": {
     "duration": 0.076094,
     "end_time": "2022-06-02T22:24:09.335062",
     "exception": false,
     "start_time": "2022-06-02T22:24:09.258968",
     "status": "completed"
    },
    "tags": [
     "remove_input"
    ]
   },
   "outputs": [
    {
     "data": {
      "text/html": [
       "\n",
       "<div id=\"altair-viz-bf0f3885e22042789b0980ac70da9abb\"></div>\n",
       "<script type=\"text/javascript\">\n",
       "  var VEGA_DEBUG = (typeof VEGA_DEBUG == \"undefined\") ? {} : VEGA_DEBUG;\n",
       "  (function(spec, embedOpt){\n",
       "    let outputDiv = document.currentScript.previousElementSibling;\n",
       "    if (outputDiv.id !== \"altair-viz-bf0f3885e22042789b0980ac70da9abb\") {\n",
       "      outputDiv = document.getElementById(\"altair-viz-bf0f3885e22042789b0980ac70da9abb\");\n",
       "    }\n",
       "    const paths = {\n",
       "      \"vega\": \"https://cdn.jsdelivr.net/npm//vega@5?noext\",\n",
       "      \"vega-lib\": \"https://cdn.jsdelivr.net/npm//vega-lib?noext\",\n",
       "      \"vega-lite\": \"https://cdn.jsdelivr.net/npm//vega-lite@4.17.0?noext\",\n",
       "      \"vega-embed\": \"https://cdn.jsdelivr.net/npm//vega-embed@6?noext\",\n",
       "    };\n",
       "\n",
       "    function maybeLoadScript(lib, version) {\n",
       "      var key = `${lib.replace(\"-\", \"\")}_version`;\n",
       "      return (VEGA_DEBUG[key] == version) ?\n",
       "        Promise.resolve(paths[lib]) :\n",
       "        new Promise(function(resolve, reject) {\n",
       "          var s = document.createElement('script');\n",
       "          document.getElementsByTagName(\"head\")[0].appendChild(s);\n",
       "          s.async = true;\n",
       "          s.onload = () => {\n",
       "            VEGA_DEBUG[key] = version;\n",
       "            return resolve(paths[lib]);\n",
       "          };\n",
       "          s.onerror = () => reject(`Error loading script: ${paths[lib]}`);\n",
       "          s.src = paths[lib];\n",
       "        });\n",
       "    }\n",
       "\n",
       "    function showError(err) {\n",
       "      outputDiv.innerHTML = `<div class=\"error\" style=\"color:red;\">${err}</div>`;\n",
       "      throw err;\n",
       "    }\n",
       "\n",
       "    function displayChart(vegaEmbed) {\n",
       "      vegaEmbed(outputDiv, spec, embedOpt)\n",
       "        .catch(err => showError(`Javascript Error: ${err.message}<br>This usually means there's a typo in your chart specification. See the javascript console for the full traceback.`));\n",
       "    }\n",
       "\n",
       "    if(typeof define === \"function\" && define.amd) {\n",
       "      requirejs.config({paths});\n",
       "      require([\"vega-embed\"], displayChart, err => showError(`Error loading script: ${err.message}`));\n",
       "    } else {\n",
       "      maybeLoadScript(\"vega\", \"5\")\n",
       "        .then(() => maybeLoadScript(\"vega-lite\", \"4.17.0\"))\n",
       "        .then(() => maybeLoadScript(\"vega-embed\", \"6\"))\n",
       "        .catch(showError)\n",
       "        .then(() => displayChart(vegaEmbed));\n",
       "    }\n",
       "  })({\"config\": {\"view\": {\"continuousWidth\": 400, \"continuousHeight\": 300}, \"axis\": {\"domainColor\": \"#cbcbcb\", \"grid\": true, \"gridColor\": \"#cbcbcb\", \"gridWidth\": 1, \"labelColor\": \"#474747\", \"labelFont\": \"Nunito Sans\", \"labelFontSize\": 10, \"labelPadding\": 4, \"tickColor\": \"#cbcbcb\", \"tickSize\": 10, \"titleColor\": \"#333\", \"titleFont\": \"Raleway\", \"titleFontSize\": 12, \"titlePadding\": 10}, \"axisBand\": {\"grid\": false}, \"background\": \"white\", \"font\": \"Raleway\", \"header\": {\"labelFont\": \"Nunito Sans\", \"titleFont\": \"Raleway\"}, \"legend\": {\"labelColor\": \"#333\", \"labelFont\": \"Nunito Sans\", \"labelFontSize\": 11, \"labelLimit\": 0, \"padding\": 1, \"symbolSize\": 30, \"symbolType\": \"square\", \"titleColor\": \"#333\", \"titleFont\": \"Raleway\", \"titleFontSize\": 14, \"titlePadding\": 10}, \"title\": {\"anchor\": \"middle\", \"font\": \"Raleway\", \"fontSize\": 18, \"fontWeight\": 300, \"offset\": 20}}, \"data\": {\"name\": \"data-727fdf09b23135e8af1a36aba7c0a0de\"}, \"mark\": \"bar\", \"encoding\": {\"color\": {\"field\": \"District\", \"legend\": {\"title\": \"District\"}, \"scale\": {\"range\": [\"#B9D6DF\", \"#8CBCCB\", \"#2EA8CE\", \"#136C97\", \"#0B405B\"]}, \"type\": \"nominal\"}, \"column\": {\"field\": \"District\", \"type\": \"nominal\"}, \"tooltip\": [{\"field\": \"prepared_y\", \"title\": \"Prepared Year\", \"type\": \"nominal\"}, {\"field\": \"Count\", \"title\": \"Number\", \"type\": \"quantitative\"}], \"x\": {\"field\": \"prepared_y\", \"title\": \"Prepared Year\", \"type\": \"ordinal\"}, \"y\": {\"field\": \"Count\", \"title\": \"Number of Unique Agencies\", \"type\": \"quantitative\"}}, \"height\": 250, \"width\": 400, \"$schema\": \"https://vega.github.io/schema/vega-lite/v4.17.0.json\", \"datasets\": {\"data-727fdf09b23135e8af1a36aba7c0a0de\": [{\"prepared_y\": \"nan\", \"District\": 7, \"Count\": 2}, {\"prepared_y\": \"2022\", \"District\": 7, \"Count\": 23}, {\"prepared_y\": \"2021\", \"District\": 7, \"Count\": 43}, {\"prepared_y\": \"2020\", \"District\": 7, \"Count\": 43}, {\"prepared_y\": \"2019\", \"District\": 7, \"Count\": 36}, {\"prepared_y\": \"2018\", \"District\": 7, \"Count\": 39}, {\"prepared_y\": \"2017\", \"District\": 7, \"Count\": 38}, {\"prepared_y\": \"2016\", \"District\": 7, \"Count\": 43}, {\"prepared_y\": \"2015\", \"District\": 7, \"Count\": 41}, {\"prepared_y\": \"2014\", \"District\": 7, \"Count\": 42}, {\"prepared_y\": \"2013\", \"District\": 7, \"Count\": 20}, {\"prepared_y\": \"2012\", \"District\": 7, \"Count\": 1}]}}, {\"mode\": \"vega-lite\"});\n",
       "</script>"
      ],
      "text/plain": [
       "alt.Chart(...)"
      ]
     },
     "metadata": {},
     "output_type": "display_data"
    }
   ],
   "source": [
    "#Unique Prefixes by Dist\n",
    "dist_years_prefix = ((\n",
    "        df\n",
    "        >> group_by(_.prepared_y, _.dist)\n",
    "        >> summarize(n=_.prefix.nunique())\n",
    "        >> arrange(-_.prepared_y)\n",
    "    ).rename(columns={'dist':'District', 'n':'Count'}))\n",
    "\n",
    "chart11 = (alt.Chart(dist_years_prefix).mark_bar().encode(\n",
    "        column='District:N',\n",
    "        x=alt.X('prepared_y:O', title='Prepared Year'),\n",
    "        y=alt.Y('Count:Q', title='Number of Unique Agencies'),\n",
    "        color = alt.Color(\"District:N\", \n",
    "                              scale=alt.Scale(\n",
    "                                  range=altair_utils.CALITP_SEQUENTIAL_COLORS),  \n",
    "                               legend=alt.Legend(title=\"District\")\n",
    "                              ),\n",
    "       # tooltip=[alt.Tooltip('prepared_y', title='Prepared Year'), \n",
    "       #         alt.Tooltip('Count', title='Number')],\n",
    "                              ))\n",
    "chart11 = styleguide.preset_chart_config(chart11)\n",
    "#chart11 = _dla_utils.add_tooltip(chart11, 'prepared_y','Count')\n",
    "chart11 = chart11.encode(tooltip=[alt.Tooltip('prepared_y', title='Prepared Year'), \n",
    "                alt.Tooltip('Count', title='Number')])\n",
    "    \n",
    "\n",
    "display(chart11)"
   ]
  },
  {
   "cell_type": "markdown",
   "id": "c52b3650-9c49-4ab9-a72d-52ecf36d4b7a",
   "metadata": {
    "papermill": {
     "duration": 0.029335,
     "end_time": "2022-06-02T22:24:09.390450",
     "exception": false,
     "start_time": "2022-06-02T22:24:09.361115",
     "status": "completed"
    },
    "tags": []
   },
   "source": [
    "### Most Used Prefix Codes"
   ]
  },
  {
   "cell_type": "code",
   "execution_count": 12,
   "id": "0aca2d9a-062a-4c12-9489-5f9de10f3462",
   "metadata": {
    "execution": {
     "iopub.execute_input": "2022-06-02T22:24:09.443989Z",
     "iopub.status.busy": "2022-06-02T22:24:09.443320Z",
     "iopub.status.idle": "2022-06-02T22:24:09.468212Z",
     "shell.execute_reply": "2022-06-02T22:24:09.467207Z"
    },
    "jupyter": {
     "source_hidden": true
    },
    "papermill": {
     "duration": 0.055297,
     "end_time": "2022-06-02T22:24:09.470459",
     "exception": false,
     "start_time": "2022-06-02T22:24:09.415162",
     "status": "completed"
    },
    "tags": [
     "remove_input"
    ]
   },
   "outputs": [
    {
     "data": {
      "text/html": [
       "\n",
       "<div id=\"altair-viz-baf7a4c953e644e687f033e25e474e6c\"></div>\n",
       "<script type=\"text/javascript\">\n",
       "  var VEGA_DEBUG = (typeof VEGA_DEBUG == \"undefined\") ? {} : VEGA_DEBUG;\n",
       "  (function(spec, embedOpt){\n",
       "    let outputDiv = document.currentScript.previousElementSibling;\n",
       "    if (outputDiv.id !== \"altair-viz-baf7a4c953e644e687f033e25e474e6c\") {\n",
       "      outputDiv = document.getElementById(\"altair-viz-baf7a4c953e644e687f033e25e474e6c\");\n",
       "    }\n",
       "    const paths = {\n",
       "      \"vega\": \"https://cdn.jsdelivr.net/npm//vega@5?noext\",\n",
       "      \"vega-lib\": \"https://cdn.jsdelivr.net/npm//vega-lib?noext\",\n",
       "      \"vega-lite\": \"https://cdn.jsdelivr.net/npm//vega-lite@4.17.0?noext\",\n",
       "      \"vega-embed\": \"https://cdn.jsdelivr.net/npm//vega-embed@6?noext\",\n",
       "    };\n",
       "\n",
       "    function maybeLoadScript(lib, version) {\n",
       "      var key = `${lib.replace(\"-\", \"\")}_version`;\n",
       "      return (VEGA_DEBUG[key] == version) ?\n",
       "        Promise.resolve(paths[lib]) :\n",
       "        new Promise(function(resolve, reject) {\n",
       "          var s = document.createElement('script');\n",
       "          document.getElementsByTagName(\"head\")[0].appendChild(s);\n",
       "          s.async = true;\n",
       "          s.onload = () => {\n",
       "            VEGA_DEBUG[key] = version;\n",
       "            return resolve(paths[lib]);\n",
       "          };\n",
       "          s.onerror = () => reject(`Error loading script: ${paths[lib]}`);\n",
       "          s.src = paths[lib];\n",
       "        });\n",
       "    }\n",
       "\n",
       "    function showError(err) {\n",
       "      outputDiv.innerHTML = `<div class=\"error\" style=\"color:red;\">${err}</div>`;\n",
       "      throw err;\n",
       "    }\n",
       "\n",
       "    function displayChart(vegaEmbed) {\n",
       "      vegaEmbed(outputDiv, spec, embedOpt)\n",
       "        .catch(err => showError(`Javascript Error: ${err.message}<br>This usually means there's a typo in your chart specification. See the javascript console for the full traceback.`));\n",
       "    }\n",
       "\n",
       "    if(typeof define === \"function\" && define.amd) {\n",
       "      requirejs.config({paths});\n",
       "      require([\"vega-embed\"], displayChart, err => showError(`Error loading script: ${err.message}`));\n",
       "    } else {\n",
       "      maybeLoadScript(\"vega\", \"5\")\n",
       "        .then(() => maybeLoadScript(\"vega-lite\", \"4.17.0\"))\n",
       "        .then(() => maybeLoadScript(\"vega-embed\", \"6\"))\n",
       "        .catch(showError)\n",
       "        .then(() => displayChart(vegaEmbed));\n",
       "    }\n",
       "  })({\"config\": {\"view\": {\"continuousWidth\": 400, \"continuousHeight\": 300}, \"axis\": {\"domainColor\": \"#cbcbcb\", \"grid\": true, \"gridColor\": \"#cbcbcb\", \"gridWidth\": 1, \"labelColor\": \"#474747\", \"labelFont\": \"Nunito Sans\", \"labelFontSize\": 10, \"labelPadding\": 4, \"tickColor\": \"#cbcbcb\", \"tickSize\": 10, \"titleColor\": \"#333\", \"titleFont\": \"Raleway\", \"titleFontSize\": 12, \"titlePadding\": 10}, \"axisBand\": {\"grid\": false}, \"background\": \"white\", \"font\": \"Raleway\", \"header\": {\"labelFont\": \"Nunito Sans\", \"titleFont\": \"Raleway\"}, \"legend\": {\"labelColor\": \"#333\", \"labelFont\": \"Nunito Sans\", \"labelFontSize\": 11, \"labelLimit\": 0, \"padding\": 1, \"symbolSize\": 30, \"symbolType\": \"square\", \"titleColor\": \"#333\", \"titleFont\": \"Raleway\", \"titleFontSize\": 14, \"titlePadding\": 10}, \"title\": {\"anchor\": \"middle\", \"font\": \"Raleway\", \"fontSize\": 18, \"fontWeight\": 300, \"offset\": 20}}, \"data\": {\"name\": \"data-f7267f86cd49986ea33388de33228a87\"}, \"mark\": \"bar\", \"encoding\": {\"color\": {\"field\": \"Prefix\", \"legend\": {\"symbolLimit\": 10, \"title\": \"Prefix\"}, \"scale\": {\"range\": [\"#2EA8CE\", \"#EB9F3C\", \"#F4D837\", \"#51BF9D\", \"#8CBCCB\", \"#9487C0\"]}, \"type\": \"nominal\"}, \"tooltip\": [{\"field\": \"Prefix\", \"title\": \"Prefix\", \"type\": \"nominal\"}, {\"field\": \"Number of Obligations\", \"title\": \"Number Of Obligations\", \"type\": \"quantitative\"}], \"x\": {\"field\": \"Prefix\", \"sort\": \"-y\", \"title\": \"Prefix\", \"type\": \"nominal\"}, \"y\": {\"field\": \"Number of Obligations\", \"title\": \"Number Of Obligations\", \"type\": \"quantitative\"}}, \"height\": 250, \"width\": 400, \"$schema\": \"https://vega.github.io/schema/vega-lite/v4.17.0.json\", \"datasets\": {\"data-f7267f86cd49986ea33388de33228a87\": [{\"Prefix\": \"HSIPL\", \"Number of Obligations\": 749, \"variable\": \"prefix\"}, {\"Prefix\": \"STPL\", \"Number of Obligations\": 452, \"variable\": \"prefix\"}, {\"Prefix\": \"CML\", \"Number of Obligations\": 292, \"variable\": \"prefix\"}, {\"Prefix\": \"ER\", \"Number of Obligations\": 187, \"variable\": \"prefix\"}, {\"Prefix\": \"ATPL\", \"Number of Obligations\": 151, \"variable\": \"prefix\"}, {\"Prefix\": \"HPLUL\", \"Number of Obligations\": 149, \"variable\": \"prefix\"}, {\"Prefix\": \"BHLS\", \"Number of Obligations\": 101, \"variable\": \"prefix\"}, {\"Prefix\": \"FTACML\", \"Number of Obligations\": 100, \"variable\": \"prefix\"}, {\"Prefix\": \"SRTSL\", \"Number of Obligations\": 72, \"variable\": \"prefix\"}, {\"Prefix\": \"RPSTPL\", \"Number of Obligations\": 63, \"variable\": \"prefix\"}, {\"Prefix\": \"BPMPL\", \"Number of Obligations\": 46, \"variable\": \"prefix\"}, {\"Prefix\": \"BRLSZD\", \"Number of Obligations\": 45, \"variable\": \"prefix\"}, {\"Prefix\": \"BRLS\", \"Number of Obligations\": 43, \"variable\": \"prefix\"}, {\"Prefix\": \"ACSTP\", \"Number of Obligations\": 39, \"variable\": \"prefix\"}, {\"Prefix\": \"HP21L\", \"Number of Obligations\": 34, \"variable\": \"prefix\"}, {\"Prefix\": \"BHLO\", \"Number of Obligations\": 22, \"variable\": \"prefix\"}, {\"Prefix\": \"SRTSLNI\", \"Number of Obligations\": 21, \"variable\": \"prefix\"}, {\"Prefix\": \"BRLO\", \"Number of Obligations\": 20, \"variable\": \"prefix\"}, {\"Prefix\": \"ESPL\", \"Number of Obligations\": 19, \"variable\": \"prefix\"}, {\"Prefix\": \"STPLR\", \"Number of Obligations\": 19, \"variable\": \"prefix\"}]}}, {\"mode\": \"vega-lite\"});\n",
       "</script>"
      ],
      "text/plain": [
       "alt.Chart(...)"
      ]
     },
     "metadata": {},
     "output_type": "display_data"
    }
   ],
   "source": [
    "#Bar chart with the Most Used Prefix Counts\n",
    "chart_df = (df_top>>filter(_.variable=='prefix')).rename(columns={\"value\":\"Prefix\",\n",
    "                                 \"count\":\"Number of Obligations\"})\n",
    "chart9= (_dla_utils.basic_bar_chart_no_save(chart_df, 'Prefix', 'Number of Obligations', 'Prefix', district))\n",
    "    \n",
    "\n",
    "display(chart9)\n",
    "    "
   ]
  },
  {
   "cell_type": "markdown",
   "id": "46030e63-c1ae-4834-b538-b09937074207",
   "metadata": {
    "papermill": {
     "duration": 0.026383,
     "end_time": "2022-06-02T22:24:09.528746",
     "exception": false,
     "start_time": "2022-06-02T22:24:09.502363",
     "status": "completed"
    },
    "tags": []
   },
   "source": [
    "### Agencies With The Most Unique Prefix Codes"
   ]
  },
  {
   "cell_type": "code",
   "execution_count": 13,
   "id": "3d21c9b2-833b-463a-9a03-a9c83d727d2e",
   "metadata": {
    "execution": {
     "iopub.execute_input": "2022-06-02T22:24:09.586659Z",
     "iopub.status.busy": "2022-06-02T22:24:09.585784Z",
     "iopub.status.idle": "2022-06-02T22:24:09.688327Z",
     "shell.execute_reply": "2022-06-02T22:24:09.687467Z"
    },
    "jupyter": {
     "source_hidden": true
    },
    "papermill": {
     "duration": 0.136462,
     "end_time": "2022-06-02T22:24:09.690512",
     "exception": false,
     "start_time": "2022-06-02T22:24:09.554050",
     "status": "completed"
    },
    "tags": [
     "remove_input"
    ]
   },
   "outputs": [
    {
     "data": {
      "text/html": [
       "\n",
       "<div id=\"altair-viz-b44a680ad0484b67a9c03dd85cd97c42\"></div>\n",
       "<script type=\"text/javascript\">\n",
       "  var VEGA_DEBUG = (typeof VEGA_DEBUG == \"undefined\") ? {} : VEGA_DEBUG;\n",
       "  (function(spec, embedOpt){\n",
       "    let outputDiv = document.currentScript.previousElementSibling;\n",
       "    if (outputDiv.id !== \"altair-viz-b44a680ad0484b67a9c03dd85cd97c42\") {\n",
       "      outputDiv = document.getElementById(\"altair-viz-b44a680ad0484b67a9c03dd85cd97c42\");\n",
       "    }\n",
       "    const paths = {\n",
       "      \"vega\": \"https://cdn.jsdelivr.net/npm//vega@5?noext\",\n",
       "      \"vega-lib\": \"https://cdn.jsdelivr.net/npm//vega-lib?noext\",\n",
       "      \"vega-lite\": \"https://cdn.jsdelivr.net/npm//vega-lite@4.17.0?noext\",\n",
       "      \"vega-embed\": \"https://cdn.jsdelivr.net/npm//vega-embed@6?noext\",\n",
       "    };\n",
       "\n",
       "    function maybeLoadScript(lib, version) {\n",
       "      var key = `${lib.replace(\"-\", \"\")}_version`;\n",
       "      return (VEGA_DEBUG[key] == version) ?\n",
       "        Promise.resolve(paths[lib]) :\n",
       "        new Promise(function(resolve, reject) {\n",
       "          var s = document.createElement('script');\n",
       "          document.getElementsByTagName(\"head\")[0].appendChild(s);\n",
       "          s.async = true;\n",
       "          s.onload = () => {\n",
       "            VEGA_DEBUG[key] = version;\n",
       "            return resolve(paths[lib]);\n",
       "          };\n",
       "          s.onerror = () => reject(`Error loading script: ${paths[lib]}`);\n",
       "          s.src = paths[lib];\n",
       "        });\n",
       "    }\n",
       "\n",
       "    function showError(err) {\n",
       "      outputDiv.innerHTML = `<div class=\"error\" style=\"color:red;\">${err}</div>`;\n",
       "      throw err;\n",
       "    }\n",
       "\n",
       "    function displayChart(vegaEmbed) {\n",
       "      vegaEmbed(outputDiv, spec, embedOpt)\n",
       "        .catch(err => showError(`Javascript Error: ${err.message}<br>This usually means there's a typo in your chart specification. See the javascript console for the full traceback.`));\n",
       "    }\n",
       "\n",
       "    if(typeof define === \"function\" && define.amd) {\n",
       "      requirejs.config({paths});\n",
       "      require([\"vega-embed\"], displayChart, err => showError(`Error loading script: ${err.message}`));\n",
       "    } else {\n",
       "      maybeLoadScript(\"vega\", \"5\")\n",
       "        .then(() => maybeLoadScript(\"vega-lite\", \"4.17.0\"))\n",
       "        .then(() => maybeLoadScript(\"vega-embed\", \"6\"))\n",
       "        .catch(showError)\n",
       "        .then(() => displayChart(vegaEmbed));\n",
       "    }\n",
       "  })({\"config\": {\"view\": {\"continuousWidth\": 400, \"continuousHeight\": 300}, \"axis\": {\"domainColor\": \"#cbcbcb\", \"grid\": true, \"gridColor\": \"#cbcbcb\", \"gridWidth\": 1, \"labelColor\": \"#474747\", \"labelFont\": \"Nunito Sans\", \"labelFontSize\": 10, \"labelPadding\": 4, \"tickColor\": \"#cbcbcb\", \"tickSize\": 10, \"titleColor\": \"#333\", \"titleFont\": \"Raleway\", \"titleFontSize\": 12, \"titlePadding\": 10}, \"axisBand\": {\"grid\": false}, \"background\": \"white\", \"font\": \"Raleway\", \"header\": {\"labelFont\": \"Nunito Sans\", \"titleFont\": \"Raleway\"}, \"legend\": {\"labelColor\": \"#333\", \"labelFont\": \"Nunito Sans\", \"labelFontSize\": 11, \"labelLimit\": 0, \"padding\": 1, \"symbolSize\": 30, \"symbolType\": \"square\", \"titleColor\": \"#333\", \"titleFont\": \"Raleway\", \"titleFontSize\": 14, \"titlePadding\": 10}, \"title\": {\"anchor\": \"middle\", \"font\": \"Raleway\", \"fontSize\": 18, \"fontWeight\": 300, \"offset\": 20}}, \"data\": {\"name\": \"data-129d647bc9bc8db3c5e767940cae51ef\"}, \"mark\": \"bar\", \"encoding\": {\"color\": {\"field\": \"primary_agency_name\", \"legend\": {\"symbolLimit\": 10, \"title\": \"Agency\"}, \"scale\": {\"range\": [\"#2EA8CE\", \"#EB9F3C\", \"#F4D837\", \"#51BF9D\", \"#8CBCCB\", \"#9487C0\"]}, \"type\": \"nominal\"}, \"tooltip\": [{\"field\": \"primary_agency_name\", \"title\": \"Agency\", \"type\": \"nominal\"}, {\"field\": \"n\", \"title\": \"Count\", \"type\": \"quantitative\"}], \"x\": {\"field\": \"primary_agency_name\", \"sort\": \"-y\", \"title\": \"Agency\", \"type\": \"nominal\"}, \"y\": {\"field\": \"n\", \"title\": \"Count\", \"type\": \"quantitative\"}}, \"height\": 250, \"width\": 400, \"$schema\": \"https://vega.github.io/schema/vega-lite/v4.17.0.json\", \"datasets\": {\"data-129d647bc9bc8db3c5e767940cae51ef\": [{\"primary_agency_name\": \"Los Angeles\", \"n\": 35}, {\"primary_agency_name\": \"Los Angeles County\", \"n\": 31}, {\"primary_agency_name\": \"Long Beach\", \"n\": 19}, {\"primary_agency_name\": \"Los Angeles County Metropolitan Transportation Authority\", \"n\": 18}, {\"primary_agency_name\": \"Oxnard\", \"n\": 14}, {\"primary_agency_name\": \"Santa Clarita\", \"n\": 14}, {\"primary_agency_name\": \"Ventura County\", \"n\": 13}, {\"primary_agency_name\": \"Pasadena\", \"n\": 12}, {\"primary_agency_name\": \"Pico Rivera\", \"n\": 9}, {\"primary_agency_name\": \"San Buenaventura\", \"n\": 9}, {\"primary_agency_name\": \"Santa Monica\", \"n\": 9}, {\"primary_agency_name\": \"Simi Valley\", \"n\": 9}, {\"primary_agency_name\": \"Burbank\", \"n\": 8}, {\"primary_agency_name\": \"Culver City\", \"n\": 8}, {\"primary_agency_name\": \"Glendale\", \"n\": 7}, {\"primary_agency_name\": \"San Gabriel Valley Council of Governments\", \"n\": 7}, {\"primary_agency_name\": \"South Gate\", \"n\": 7}, {\"primary_agency_name\": \"Thousand Oaks\", \"n\": 7}, {\"primary_agency_name\": \"Caltrans\", \"n\": 6}, {\"primary_agency_name\": \"Carson\", \"n\": 6}, {\"primary_agency_name\": \"El Monte\", \"n\": 6}, {\"primary_agency_name\": \"Palmdale\", \"n\": 6}, {\"primary_agency_name\": \"Pomona\", \"n\": 6}, {\"primary_agency_name\": \"Ventura County Transportation Commission\", \"n\": 6}, {\"primary_agency_name\": \"Whittier\", \"n\": 6}, {\"primary_agency_name\": \"Arcadia\", \"n\": 5}, {\"primary_agency_name\": \"Azusa\", \"n\": 5}, {\"primary_agency_name\": \"Bell Gardens\", \"n\": 5}, {\"primary_agency_name\": \"Downey\", \"n\": 5}, {\"primary_agency_name\": \"Inglewood\", \"n\": 5}]}}, {\"mode\": \"vega-lite\"});\n",
       "</script>"
      ],
      "text/plain": [
       "alt.Chart(...)"
      ]
     },
     "metadata": {},
     "output_type": "display_data"
    }
   ],
   "source": [
    "#Bar chart Agencies With The Most Unique Prefix Codes\n",
    "    \n",
    "chart3 = (_dla_utils.basic_bar_chart_no_save(((_dla_utils.get_nunique(df, 'prefix', 'primary_agency_name')).head(30)),\n",
    "                            'primary_agency_name', 'n', 'primary_agency_name', district))\n",
    "    \n",
    "display(chart3)"
   ]
  },
  {
   "cell_type": "markdown",
   "id": "409d25d0-88ee-4eff-ae1f-ca9127618b4d",
   "metadata": {
    "papermill": {
     "duration": 0.030075,
     "end_time": "2022-06-02T22:24:09.748023",
     "exception": false,
     "start_time": "2022-06-02T22:24:09.717948",
     "status": "completed"
    },
    "tags": []
   },
   "source": [
    "## Funding Distributions"
   ]
  },
  {
   "cell_type": "markdown",
   "id": "4ffab2b2-4af7-476b-abe1-8c6c2534b3fb",
   "metadata": {
    "papermill": {
     "duration": 0.028486,
     "end_time": "2022-06-02T22:24:09.802148",
     "exception": false,
     "start_time": "2022-06-02T22:24:09.773662",
     "status": "completed"
    },
    "tags": []
   },
   "source": [
    "<hr style=\"height: 2px; background-color:#136C97; border: none\">"
   ]
  },
  {
   "cell_type": "markdown",
   "id": "eacca297-667a-4649-b6ac-351e81729e0d",
   "metadata": {
    "papermill": {
     "duration": 0.026771,
     "end_time": "2022-06-02T22:24:09.855046",
     "exception": false,
     "start_time": "2022-06-02T22:24:09.828275",
     "status": "completed"
    },
    "tags": []
   },
   "source": [
    "With each E-76, three types of funding amounts are included in the obligations: \n",
    "* Total Requested (`total_requested`)\n",
    "* Advance Construction Requested (`ac_requested`)\n",
    "* Federal Requested (`fed_requested`)\n",
    "\n",
    "Using this information, we can determine how much on average an organization recieves with these funds, and the distribution of the funds.\n",
    "\n",
    "\n",
    "Metrics:\n",
    "* Average Total Requested Funds by Agency\n",
    "* Lowest Average Total Funds by Agency\n",
    "* Average Total Requested Funds by Prefix"
   ]
  },
  {
   "cell_type": "markdown",
   "id": "d3caa5e9-9126-4572-8140-f81543c7d26a",
   "metadata": {
    "papermill": {
     "duration": 0.0267,
     "end_time": "2022-06-02T22:24:09.907258",
     "exception": false,
     "start_time": "2022-06-02T22:24:09.880558",
     "status": "completed"
    },
    "tags": []
   },
   "source": [
    "### Average Total Requested Funds by Agency ($2021)"
   ]
  },
  {
   "cell_type": "code",
   "execution_count": 14,
   "id": "3745ca4d-8dd4-4c09-b46b-a2f6db6358ad",
   "metadata": {
    "execution": {
     "iopub.execute_input": "2022-06-02T22:24:09.964626Z",
     "iopub.status.busy": "2022-06-02T22:24:09.963283Z",
     "iopub.status.idle": "2022-06-02T22:24:10.001853Z",
     "shell.execute_reply": "2022-06-02T22:24:10.000941Z"
    },
    "jupyter": {
     "source_hidden": true
    },
    "papermill": {
     "duration": 0.072524,
     "end_time": "2022-06-02T22:24:10.005980",
     "exception": false,
     "start_time": "2022-06-02T22:24:09.933456",
     "status": "completed"
    },
    "tags": [
     "remove_input"
    ]
   },
   "outputs": [
    {
     "data": {
      "text/html": [
       "\n",
       "<div id=\"altair-viz-1eb78acf3375434085ed7710dd36a8b5\"></div>\n",
       "<script type=\"text/javascript\">\n",
       "  var VEGA_DEBUG = (typeof VEGA_DEBUG == \"undefined\") ? {} : VEGA_DEBUG;\n",
       "  (function(spec, embedOpt){\n",
       "    let outputDiv = document.currentScript.previousElementSibling;\n",
       "    if (outputDiv.id !== \"altair-viz-1eb78acf3375434085ed7710dd36a8b5\") {\n",
       "      outputDiv = document.getElementById(\"altair-viz-1eb78acf3375434085ed7710dd36a8b5\");\n",
       "    }\n",
       "    const paths = {\n",
       "      \"vega\": \"https://cdn.jsdelivr.net/npm//vega@5?noext\",\n",
       "      \"vega-lib\": \"https://cdn.jsdelivr.net/npm//vega-lib?noext\",\n",
       "      \"vega-lite\": \"https://cdn.jsdelivr.net/npm//vega-lite@4.17.0?noext\",\n",
       "      \"vega-embed\": \"https://cdn.jsdelivr.net/npm//vega-embed@6?noext\",\n",
       "    };\n",
       "\n",
       "    function maybeLoadScript(lib, version) {\n",
       "      var key = `${lib.replace(\"-\", \"\")}_version`;\n",
       "      return (VEGA_DEBUG[key] == version) ?\n",
       "        Promise.resolve(paths[lib]) :\n",
       "        new Promise(function(resolve, reject) {\n",
       "          var s = document.createElement('script');\n",
       "          document.getElementsByTagName(\"head\")[0].appendChild(s);\n",
       "          s.async = true;\n",
       "          s.onload = () => {\n",
       "            VEGA_DEBUG[key] = version;\n",
       "            return resolve(paths[lib]);\n",
       "          };\n",
       "          s.onerror = () => reject(`Error loading script: ${paths[lib]}`);\n",
       "          s.src = paths[lib];\n",
       "        });\n",
       "    }\n",
       "\n",
       "    function showError(err) {\n",
       "      outputDiv.innerHTML = `<div class=\"error\" style=\"color:red;\">${err}</div>`;\n",
       "      throw err;\n",
       "    }\n",
       "\n",
       "    function displayChart(vegaEmbed) {\n",
       "      vegaEmbed(outputDiv, spec, embedOpt)\n",
       "        .catch(err => showError(`Javascript Error: ${err.message}<br>This usually means there's a typo in your chart specification. See the javascript console for the full traceback.`));\n",
       "    }\n",
       "\n",
       "    if(typeof define === \"function\" && define.amd) {\n",
       "      requirejs.config({paths});\n",
       "      require([\"vega-embed\"], displayChart, err => showError(`Error loading script: ${err.message}`));\n",
       "    } else {\n",
       "      maybeLoadScript(\"vega\", \"5\")\n",
       "        .then(() => maybeLoadScript(\"vega-lite\", \"4.17.0\"))\n",
       "        .then(() => maybeLoadScript(\"vega-embed\", \"6\"))\n",
       "        .catch(showError)\n",
       "        .then(() => displayChart(vegaEmbed));\n",
       "    }\n",
       "  })({\"config\": {\"view\": {\"continuousWidth\": 400, \"continuousHeight\": 300}, \"axis\": {\"domainColor\": \"#cbcbcb\", \"grid\": true, \"gridColor\": \"#cbcbcb\", \"gridWidth\": 1, \"labelColor\": \"#474747\", \"labelFont\": \"Nunito Sans\", \"labelFontSize\": 10, \"labelPadding\": 4, \"tickColor\": \"#cbcbcb\", \"tickSize\": 10, \"titleColor\": \"#333\", \"titleFont\": \"Raleway\", \"titleFontSize\": 12, \"titlePadding\": 10}, \"axisBand\": {\"grid\": false}, \"background\": \"white\", \"font\": \"Raleway\", \"header\": {\"labelFont\": \"Nunito Sans\", \"titleFont\": \"Raleway\"}, \"legend\": {\"labelColor\": \"#333\", \"labelFont\": \"Nunito Sans\", \"labelFontSize\": 11, \"labelLimit\": 0, \"padding\": 1, \"symbolSize\": 30, \"symbolType\": \"square\", \"titleColor\": \"#333\", \"titleFont\": \"Raleway\", \"titleFontSize\": 14, \"titlePadding\": 10}, \"title\": {\"anchor\": \"middle\", \"font\": \"Raleway\", \"fontSize\": 18, \"fontWeight\": 300, \"offset\": 20}}, \"data\": {\"name\": \"data-5ff7d8d24c13de150c10aa587c329e84\"}, \"mark\": \"bar\", \"encoding\": {\"color\": {\"field\": \"primary_agency_name\", \"legend\": {\"symbolLimit\": 10, \"title\": \"Agency\"}, \"scale\": {\"range\": [\"#2EA8CE\", \"#EB9F3C\", \"#F4D837\", \"#51BF9D\", \"#8CBCCB\", \"#9487C0\"]}, \"type\": \"nominal\"}, \"tooltip\": [{\"field\": \"primary_agency_name\", \"title\": \"Agency\", \"type\": \"nominal\"}, {\"field\": \"adjusted_total_requested\", \"format\": \"$,.2f\", \"title\": \"Total Requested\", \"type\": \"quantitative\"}], \"x\": {\"field\": \"primary_agency_name\", \"sort\": \"-y\", \"title\": \"Agency\", \"type\": \"nominal\"}, \"y\": {\"field\": \"adjusted_total_requested\", \"title\": \"Total Requested\", \"type\": \"quantitative\"}}, \"height\": 250, \"width\": 400, \"$schema\": \"https://vega.github.io/schema/vega-lite/v4.17.0.json\", \"datasets\": {\"data-5ff7d8d24c13de150c10aa587c329e84\": [{\"primary_agency_name\": \"Access Services\", \"adjusted_total_requested\": 37884958.90746346}, {\"primary_agency_name\": \"Los Angeles County Metropolitan Transportation Authority\", \"adjusted_total_requested\": 18859248.215978544}, {\"primary_agency_name\": \"Sunline Transit Agency\", \"adjusted_total_requested\": 18212493.526745472}, {\"primary_agency_name\": \"Caltrans\", \"adjusted_total_requested\": 16799498.722034175}, {\"primary_agency_name\": \"Southern California Regional Rail Authority\", \"adjusted_total_requested\": 7447722.090050459}, {\"primary_agency_name\": \"Long Beach\", \"adjusted_total_requested\": 3137928.379003969}, {\"primary_agency_name\": \"San Gabriel Valley Council of Governments\", \"adjusted_total_requested\": 2974245.3598490334}, {\"primary_agency_name\": \"Antelope Valley Transit Authority\", \"adjusted_total_requested\": 2623349.4523108755}, {\"primary_agency_name\": \"South Coast Area Transit\", \"adjusted_total_requested\": 2322606.22519606}, {\"primary_agency_name\": \"Long Beach Transportation Company\", \"adjusted_total_requested\": 1855503.5765890474}, {\"primary_agency_name\": \"Santa Monica\", \"adjusted_total_requested\": 1802884.454006025}, {\"primary_agency_name\": \"Los Angeles\", \"adjusted_total_requested\": 1707030.870662043}, {\"primary_agency_name\": \"Moorpark\", \"adjusted_total_requested\": 1400102.4470425067}, {\"primary_agency_name\": \"Manhattan Beach\", \"adjusted_total_requested\": 1188554.2908539972}, {\"primary_agency_name\": \"Huntington Park\", \"adjusted_total_requested\": 948793.6836048005}, {\"primary_agency_name\": \"San Dimas\", \"adjusted_total_requested\": 916978.3005584783}, {\"primary_agency_name\": \"Agoura Hills\", \"adjusted_total_requested\": 913170.8545486825}, {\"primary_agency_name\": \"Torrance\", \"adjusted_total_requested\": 843085.2763360154}, {\"primary_agency_name\": \"Vernon\", \"adjusted_total_requested\": 820615.2375874913}, {\"primary_agency_name\": \"Gardena\", \"adjusted_total_requested\": 815829.8725999512}, {\"primary_agency_name\": \"Los Angeles Unified School District\", \"adjusted_total_requested\": 733250.0798771225}, {\"primary_agency_name\": \"San Gabriel\", \"adjusted_total_requested\": 681068.946181001}, {\"primary_agency_name\": \"Palmdale\", \"adjusted_total_requested\": 674332.9674285688}, {\"primary_agency_name\": \"Pasadena\", \"adjusted_total_requested\": 660183.5300008612}, {\"primary_agency_name\": \"South Gate\", \"adjusted_total_requested\": 652817.2658799457}, {\"primary_agency_name\": \"Whittier\", \"adjusted_total_requested\": 637268.2042428495}, {\"primary_agency_name\": \"South Coast Air Quality Management District\", \"adjusted_total_requested\": 625846.2522639616}, {\"primary_agency_name\": \"Ventura County Transportation Commission\", \"adjusted_total_requested\": 610522.565208688}, {\"primary_agency_name\": \"Santa Paula\", \"adjusted_total_requested\": 605843.3291900635}, {\"primary_agency_name\": \"Lancaster\", \"adjusted_total_requested\": 586692.4354043264}]}}, {\"mode\": \"vega-lite\"});\n",
       "</script>"
      ],
      "text/plain": [
       "alt.Chart(...)"
      ]
     },
     "metadata": {},
     "output_type": "display_data"
    }
   ],
   "source": [
    "#Bar chart Average Total Requested Funds by Agency\n",
    "chart4=(_dla_utils.basic_bar_chart_no_save((((_dla_utils.calculate_data_all(df, 'adjusted_total_requested', 'primary_agency_name', aggfunc=\"mean\"))\n",
    "                          >>arrange(-_.adjusted_total_requested)).head(30)\n",
    "                        ), 'primary_agency_name','adjusted_total_requested', 'primary_agency_name', district\n",
    "                       ))\n",
    "chart4=chart4.encode([alt.Tooltip('primary_agency_name', title=_dla_utils.labeling('primary_agency_name')),\n",
    "    alt.Tooltip('adjusted_total_requested', title=_dla_utils.labeling('adjusted_total_requested'), format=\"$,.2f\"),\n",
    "                          ])\n",
    "display(chart4)"
   ]
  },
  {
   "cell_type": "markdown",
   "id": "84702987-c63c-40c9-aad7-c2d8c1b8ee49",
   "metadata": {
    "papermill": {
     "duration": 0.027765,
     "end_time": "2022-06-02T22:24:10.061754",
     "exception": false,
     "start_time": "2022-06-02T22:24:10.033989",
     "status": "completed"
    },
    "tags": []
   },
   "source": [
    "### Lowest Average Total Funds by Agency ($2021)"
   ]
  },
  {
   "cell_type": "code",
   "execution_count": 15,
   "id": "ce18a74b-9908-40f8-84f1-806552936465",
   "metadata": {
    "execution": {
     "iopub.execute_input": "2022-06-02T22:24:10.121107Z",
     "iopub.status.busy": "2022-06-02T22:24:10.120746Z",
     "iopub.status.idle": "2022-06-02T22:24:10.226760Z",
     "shell.execute_reply": "2022-06-02T22:24:10.225816Z"
    },
    "jupyter": {
     "source_hidden": true
    },
    "papermill": {
     "duration": 0.139444,
     "end_time": "2022-06-02T22:24:10.229032",
     "exception": false,
     "start_time": "2022-06-02T22:24:10.089588",
     "status": "completed"
    },
    "tags": [
     "remove_input"
    ]
   },
   "outputs": [
    {
     "data": {
      "text/html": [
       "\n",
       "<div id=\"altair-viz-94a3563c8d1e49ddac1ab16496fd364f\"></div>\n",
       "<script type=\"text/javascript\">\n",
       "  var VEGA_DEBUG = (typeof VEGA_DEBUG == \"undefined\") ? {} : VEGA_DEBUG;\n",
       "  (function(spec, embedOpt){\n",
       "    let outputDiv = document.currentScript.previousElementSibling;\n",
       "    if (outputDiv.id !== \"altair-viz-94a3563c8d1e49ddac1ab16496fd364f\") {\n",
       "      outputDiv = document.getElementById(\"altair-viz-94a3563c8d1e49ddac1ab16496fd364f\");\n",
       "    }\n",
       "    const paths = {\n",
       "      \"vega\": \"https://cdn.jsdelivr.net/npm//vega@5?noext\",\n",
       "      \"vega-lib\": \"https://cdn.jsdelivr.net/npm//vega-lib?noext\",\n",
       "      \"vega-lite\": \"https://cdn.jsdelivr.net/npm//vega-lite@4.17.0?noext\",\n",
       "      \"vega-embed\": \"https://cdn.jsdelivr.net/npm//vega-embed@6?noext\",\n",
       "    };\n",
       "\n",
       "    function maybeLoadScript(lib, version) {\n",
       "      var key = `${lib.replace(\"-\", \"\")}_version`;\n",
       "      return (VEGA_DEBUG[key] == version) ?\n",
       "        Promise.resolve(paths[lib]) :\n",
       "        new Promise(function(resolve, reject) {\n",
       "          var s = document.createElement('script');\n",
       "          document.getElementsByTagName(\"head\")[0].appendChild(s);\n",
       "          s.async = true;\n",
       "          s.onload = () => {\n",
       "            VEGA_DEBUG[key] = version;\n",
       "            return resolve(paths[lib]);\n",
       "          };\n",
       "          s.onerror = () => reject(`Error loading script: ${paths[lib]}`);\n",
       "          s.src = paths[lib];\n",
       "        });\n",
       "    }\n",
       "\n",
       "    function showError(err) {\n",
       "      outputDiv.innerHTML = `<div class=\"error\" style=\"color:red;\">${err}</div>`;\n",
       "      throw err;\n",
       "    }\n",
       "\n",
       "    function displayChart(vegaEmbed) {\n",
       "      vegaEmbed(outputDiv, spec, embedOpt)\n",
       "        .catch(err => showError(`Javascript Error: ${err.message}<br>This usually means there's a typo in your chart specification. See the javascript console for the full traceback.`));\n",
       "    }\n",
       "\n",
       "    if(typeof define === \"function\" && define.amd) {\n",
       "      requirejs.config({paths});\n",
       "      require([\"vega-embed\"], displayChart, err => showError(`Error loading script: ${err.message}`));\n",
       "    } else {\n",
       "      maybeLoadScript(\"vega\", \"5\")\n",
       "        .then(() => maybeLoadScript(\"vega-lite\", \"4.17.0\"))\n",
       "        .then(() => maybeLoadScript(\"vega-embed\", \"6\"))\n",
       "        .catch(showError)\n",
       "        .then(() => displayChart(vegaEmbed));\n",
       "    }\n",
       "  })({\"config\": {\"view\": {\"continuousWidth\": 400, \"continuousHeight\": 300}, \"axis\": {\"domainColor\": \"#cbcbcb\", \"grid\": true, \"gridColor\": \"#cbcbcb\", \"gridWidth\": 1, \"labelColor\": \"#474747\", \"labelFont\": \"Nunito Sans\", \"labelFontSize\": 10, \"labelPadding\": 4, \"tickColor\": \"#cbcbcb\", \"tickSize\": 10, \"titleColor\": \"#333\", \"titleFont\": \"Raleway\", \"titleFontSize\": 12, \"titlePadding\": 10}, \"axisBand\": {\"grid\": false}, \"background\": \"white\", \"font\": \"Raleway\", \"header\": {\"labelFont\": \"Nunito Sans\", \"titleFont\": \"Raleway\"}, \"legend\": {\"labelColor\": \"#333\", \"labelFont\": \"Nunito Sans\", \"labelFontSize\": 11, \"labelLimit\": 0, \"padding\": 1, \"symbolSize\": 30, \"symbolType\": \"square\", \"titleColor\": \"#333\", \"titleFont\": \"Raleway\", \"titleFontSize\": 14, \"titlePadding\": 10}, \"title\": {\"anchor\": \"middle\", \"font\": \"Raleway\", \"fontSize\": 18, \"fontWeight\": 300, \"offset\": 20}}, \"data\": {\"name\": \"data-fd8ffc01af07ba754d2370699150354c\"}, \"mark\": \"bar\", \"encoding\": {\"color\": {\"field\": \"primary_agency_name\", \"legend\": {\"symbolLimit\": 10, \"title\": \"Agency\"}, \"scale\": {\"range\": [\"#2EA8CE\", \"#EB9F3C\", \"#F4D837\", \"#51BF9D\", \"#8CBCCB\", \"#9487C0\"]}, \"type\": \"nominal\"}, \"tooltip\": [{\"field\": \"primary_agency_name\", \"title\": \"Agency\", \"type\": \"nominal\"}, {\"field\": \"avg_funds\", \"format\": \"$,.2f\", \"title\": \"Average Funds\", \"type\": \"quantitative\"}], \"x\": {\"field\": \"primary_agency_name\", \"sort\": \"-y\", \"title\": \"Agency\", \"type\": \"nominal\"}, \"y\": {\"field\": \"avg_funds\", \"title\": \"Average Funds\", \"type\": \"quantitative\"}}, \"height\": 250, \"width\": 400, \"$schema\": \"https://vega.github.io/schema/vega-lite/v4.17.0.json\", \"datasets\": {\"data-fd8ffc01af07ba754d2370699150354c\": [{\"primary_agency_name\": \"Cerritos\", \"avg_funds\": 200706.13087157512}, {\"primary_agency_name\": \"Bell\", \"avg_funds\": 197014.2728211242}, {\"primary_agency_name\": \"Industry\", \"avg_funds\": 186921.5921220841}, {\"primary_agency_name\": \"Montebello\", \"avg_funds\": 179948.04818502392}, {\"primary_agency_name\": \"El Monte\", \"avg_funds\": 179686.06634285746}, {\"primary_agency_name\": \"Irwindale\", \"avg_funds\": 163160.3934697402}, {\"primary_agency_name\": \"Glendora\", \"avg_funds\": 156852.29686112667}, {\"primary_agency_name\": \"Cudahy\", \"avg_funds\": 148614.03522285054}, {\"primary_agency_name\": \"La Mirada\", \"avg_funds\": 146420.9646257053}, {\"primary_agency_name\": \"Bell Gardens\", \"avg_funds\": 133825.06955732615}, {\"primary_agency_name\": \"Rancho Palos Verdes\", \"avg_funds\": 132970.03103482918}, {\"primary_agency_name\": \"Ojai\", \"avg_funds\": 130826.130824513}, {\"primary_agency_name\": \"South El Monte\", \"avg_funds\": 129245.77289873706}, {\"primary_agency_name\": \"West Covina\", \"avg_funds\": 124135.33143052645}, {\"primary_agency_name\": \"Carson\", \"avg_funds\": 114550.53982889366}, {\"primary_agency_name\": \"Claremont\", \"avg_funds\": 107928.72430768568}, {\"primary_agency_name\": \"Artesia\", \"avg_funds\": 93632.00039586436}, {\"primary_agency_name\": \"Temple City\", \"avg_funds\": 76749.88614009363}, {\"primary_agency_name\": \"San Marino\", \"avg_funds\": 76358.13523121568}, {\"primary_agency_name\": \"Azusa\", \"avg_funds\": 68453.77001578527}, {\"primary_agency_name\": \"South Pasadena\", \"avg_funds\": 66908.48109226405}, {\"primary_agency_name\": \"Fillmore\", \"avg_funds\": 50673.01631590156}, {\"primary_agency_name\": \"Hermosa Beach\", \"avg_funds\": 37977.77099961983}, {\"primary_agency_name\": \"Westlake Village\", \"avg_funds\": 9970.948076515962}, {\"primary_agency_name\": \"Calabasas\", \"avg_funds\": 8765.786507970033}, {\"primary_agency_name\": \"Port Hueneme\", \"avg_funds\": 7831.073237359346}, {\"primary_agency_name\": \"Maywood\", \"avg_funds\": 121.19105229125577}, {\"primary_agency_name\": \"El Segundo\", \"avg_funds\": 0.0}, {\"primary_agency_name\": \"Port Of Long Beach\", \"avg_funds\": 0.0}, {\"primary_agency_name\": \"U.S. Forest Service, Pacific Southwest Region\", \"avg_funds\": 0.0}, {\"primary_agency_name\": \"Malibu\", \"avg_funds\": -7964.778456414654}, {\"primary_agency_name\": \"Compton\", \"avg_funds\": -10001.277597168199}, {\"primary_agency_name\": \"Lawndale\", \"avg_funds\": -21436.025599581775}, {\"primary_agency_name\": \"Oxnard\", \"avg_funds\": -31559.172722839012}, {\"primary_agency_name\": \"Signal Hill\", \"avg_funds\": -119243.34472004331}, {\"primary_agency_name\": \"Walnut\", \"avg_funds\": -147121.90326443943}, {\"primary_agency_name\": \"Rolling Hills Estates\", \"avg_funds\": -219299.99025428557}, {\"primary_agency_name\": \"Pomona\", \"avg_funds\": -3231697.859793503}, {\"primary_agency_name\": \"Santa Fe Springs\", \"avg_funds\": -10533609.92653531}, {\"primary_agency_name\": \"Alameda Corridor Transportation Authority\", \"avg_funds\": -16561459.683814544}]}}, {\"mode\": \"vega-lite\"});\n",
       "</script>"
      ],
      "text/plain": [
       "alt.Chart(...)"
      ]
     },
     "metadata": {},
     "output_type": "display_data"
    }
   ],
   "source": [
    "#Bar chart Bottom Average Total Requested Funds by Agency\n",
    "avg_funds_bottom = (df>>group_by(_.primary_agency_name)>>summarize(avg_funds=_.adjusted_total_requested.mean())>>arrange(-_.avg_funds)).tail(50)\n",
    "\n",
    "chart5=( _dla_utils.basic_bar_chart_no_save((avg_funds_bottom.tail(40)), 'primary_agency_name','avg_funds', 'primary_agency_name', district))\n",
    "\n",
    "chart5=chart5.encode([alt.Tooltip('primary_agency_name', title=_dla_utils.labeling('primary_agency_name')),\n",
    "                alt.Tooltip('avg_funds', title=_dla_utils.labeling('avg_funds'), format=\"$,.2f\")\n",
    "                          ]\n",
    "                                   )\n",
    "display(chart5)"
   ]
  },
  {
   "cell_type": "markdown",
   "id": "32fb0fb4-2cd3-453d-8be1-cf99fb52f56f",
   "metadata": {
    "papermill": {
     "duration": 0.031207,
     "end_time": "2022-06-02T22:24:10.287093",
     "exception": false,
     "start_time": "2022-06-02T22:24:10.255886",
     "status": "completed"
    },
    "tags": []
   },
   "source": [
    "### Average Total Requested Funds by Prefix ($2021)"
   ]
  },
  {
   "cell_type": "code",
   "execution_count": 16,
   "id": "d18938e5-6fc5-4e53-87b2-7140df57e5a0",
   "metadata": {
    "execution": {
     "iopub.execute_input": "2022-06-02T22:24:10.349946Z",
     "iopub.status.busy": "2022-06-02T22:24:10.348776Z",
     "iopub.status.idle": "2022-06-02T22:24:10.386045Z",
     "shell.execute_reply": "2022-06-02T22:24:10.381891Z"
    },
    "jupyter": {
     "source_hidden": true
    },
    "papermill": {
     "duration": 0.073356,
     "end_time": "2022-06-02T22:24:10.390253",
     "exception": false,
     "start_time": "2022-06-02T22:24:10.316897",
     "status": "completed"
    },
    "tags": [
     "remove_input"
    ]
   },
   "outputs": [
    {
     "data": {
      "text/html": [
       "\n",
       "<div id=\"altair-viz-9cae29bd7bb443d593065a94d33517d0\"></div>\n",
       "<script type=\"text/javascript\">\n",
       "  var VEGA_DEBUG = (typeof VEGA_DEBUG == \"undefined\") ? {} : VEGA_DEBUG;\n",
       "  (function(spec, embedOpt){\n",
       "    let outputDiv = document.currentScript.previousElementSibling;\n",
       "    if (outputDiv.id !== \"altair-viz-9cae29bd7bb443d593065a94d33517d0\") {\n",
       "      outputDiv = document.getElementById(\"altair-viz-9cae29bd7bb443d593065a94d33517d0\");\n",
       "    }\n",
       "    const paths = {\n",
       "      \"vega\": \"https://cdn.jsdelivr.net/npm//vega@5?noext\",\n",
       "      \"vega-lib\": \"https://cdn.jsdelivr.net/npm//vega-lib?noext\",\n",
       "      \"vega-lite\": \"https://cdn.jsdelivr.net/npm//vega-lite@4.17.0?noext\",\n",
       "      \"vega-embed\": \"https://cdn.jsdelivr.net/npm//vega-embed@6?noext\",\n",
       "    };\n",
       "\n",
       "    function maybeLoadScript(lib, version) {\n",
       "      var key = `${lib.replace(\"-\", \"\")}_version`;\n",
       "      return (VEGA_DEBUG[key] == version) ?\n",
       "        Promise.resolve(paths[lib]) :\n",
       "        new Promise(function(resolve, reject) {\n",
       "          var s = document.createElement('script');\n",
       "          document.getElementsByTagName(\"head\")[0].appendChild(s);\n",
       "          s.async = true;\n",
       "          s.onload = () => {\n",
       "            VEGA_DEBUG[key] = version;\n",
       "            return resolve(paths[lib]);\n",
       "          };\n",
       "          s.onerror = () => reject(`Error loading script: ${paths[lib]}`);\n",
       "          s.src = paths[lib];\n",
       "        });\n",
       "    }\n",
       "\n",
       "    function showError(err) {\n",
       "      outputDiv.innerHTML = `<div class=\"error\" style=\"color:red;\">${err}</div>`;\n",
       "      throw err;\n",
       "    }\n",
       "\n",
       "    function displayChart(vegaEmbed) {\n",
       "      vegaEmbed(outputDiv, spec, embedOpt)\n",
       "        .catch(err => showError(`Javascript Error: ${err.message}<br>This usually means there's a typo in your chart specification. See the javascript console for the full traceback.`));\n",
       "    }\n",
       "\n",
       "    if(typeof define === \"function\" && define.amd) {\n",
       "      requirejs.config({paths});\n",
       "      require([\"vega-embed\"], displayChart, err => showError(`Error loading script: ${err.message}`));\n",
       "    } else {\n",
       "      maybeLoadScript(\"vega\", \"5\")\n",
       "        .then(() => maybeLoadScript(\"vega-lite\", \"4.17.0\"))\n",
       "        .then(() => maybeLoadScript(\"vega-embed\", \"6\"))\n",
       "        .catch(showError)\n",
       "        .then(() => displayChart(vegaEmbed));\n",
       "    }\n",
       "  })({\"config\": {\"view\": {\"continuousWidth\": 400, \"continuousHeight\": 300}, \"axis\": {\"domainColor\": \"#cbcbcb\", \"grid\": true, \"gridColor\": \"#cbcbcb\", \"gridWidth\": 1, \"labelColor\": \"#474747\", \"labelFont\": \"Nunito Sans\", \"labelFontSize\": 10, \"labelPadding\": 4, \"tickColor\": \"#cbcbcb\", \"tickSize\": 10, \"titleColor\": \"#333\", \"titleFont\": \"Raleway\", \"titleFontSize\": 12, \"titlePadding\": 10}, \"axisBand\": {\"grid\": false}, \"background\": \"white\", \"font\": \"Raleway\", \"header\": {\"labelFont\": \"Nunito Sans\", \"titleFont\": \"Raleway\"}, \"legend\": {\"labelColor\": \"#333\", \"labelFont\": \"Nunito Sans\", \"labelFontSize\": 11, \"labelLimit\": 0, \"padding\": 1, \"symbolSize\": 30, \"symbolType\": \"square\", \"titleColor\": \"#333\", \"titleFont\": \"Raleway\", \"titleFontSize\": 14, \"titlePadding\": 10}, \"title\": {\"anchor\": \"middle\", \"font\": \"Raleway\", \"fontSize\": 18, \"fontWeight\": 300, \"offset\": 20}}, \"data\": {\"name\": \"data-5c2e8673c602bc944c6f9dd723ccb45f\"}, \"mark\": \"bar\", \"encoding\": {\"color\": {\"field\": \"prefix\", \"legend\": {\"symbolLimit\": 10, \"title\": \"Prefix Code\"}, \"scale\": {\"range\": [\"#2EA8CE\", \"#EB9F3C\", \"#F4D837\", \"#51BF9D\", \"#8CBCCB\", \"#9487C0\"]}, \"type\": \"nominal\"}, \"tooltip\": [{\"field\": \"prefix\", \"title\": \"Prefix Code\", \"type\": \"nominal\"}, {\"field\": \"adjusted_total_requested\", \"format\": \"$,.2f\", \"title\": \"Total Requested\", \"type\": \"quantitative\"}], \"x\": {\"field\": \"prefix\", \"sort\": \"-y\", \"title\": \"Prefix Code\", \"type\": \"nominal\"}, \"y\": {\"field\": \"adjusted_total_requested\", \"title\": \"Total Requested\", \"type\": \"quantitative\"}}, \"height\": 250, \"width\": 400, \"$schema\": \"https://vega.github.io/schema/vega-lite/v4.17.0.json\", \"datasets\": {\"data-5c2e8673c602bc944c6f9dd723ccb45f\": [{\"prefix\": \"INFRAL\", \"adjusted_total_requested\": 279332352.96236193}, {\"prefix\": \"FTASTPLR\", \"adjusted_total_requested\": 71412734.4420542}, {\"prefix\": \"FTACMSTPL\", \"adjusted_total_requested\": 54514105.74205981}, {\"prefix\": \"STIPL\", \"adjusted_total_requested\": 45361438.42926756}, {\"prefix\": \"FTASTPL\", \"adjusted_total_requested\": 34064449.28934601}, {\"prefix\": \"ACNHPI\", \"adjusted_total_requested\": 33613857.12306856}, {\"prefix\": \"PNRS\", \"adjusted_total_requested\": 21629802.124281783}, {\"prefix\": \"TTDG\", \"adjusted_total_requested\": 18361057.324252836}, {\"prefix\": \"TCEPSB1L\", \"adjusted_total_requested\": 16032072.940059392}, {\"prefix\": \"LPPCML\", \"adjusted_total_requested\": 9653008.220900035}, {\"prefix\": \"BRLSZD\", \"adjusted_total_requested\": 8229554.069357624}, {\"prefix\": \"FTACML\", \"adjusted_total_requested\": 7881421.595686964}, {\"prefix\": \"STPLR\", \"adjusted_total_requested\": 7661182.2866411945}, {\"prefix\": \"HIPL\", \"adjusted_total_requested\": 7431915.9677892495}, {\"prefix\": \"CMLN\", \"adjusted_total_requested\": 5069238.1328232875}, {\"prefix\": \"STP\", \"adjusted_total_requested\": 4128167.994176341}, {\"prefix\": \"CARSI\", \"adjusted_total_requested\": 3774428.218877822}, {\"prefix\": \"BRLS\", \"adjusted_total_requested\": 3575410.2217483493}, {\"prefix\": \"DPC\", \"adjusted_total_requested\": 3323467.139525226}, {\"prefix\": \"BRHIPL\", \"adjusted_total_requested\": 3276680.7905565402}, {\"prefix\": \"FTAATPL\", \"adjusted_total_requested\": 2935539.651118198}, {\"prefix\": \"FERSTP\", \"adjusted_total_requested\": 2820851.3654224426}, {\"prefix\": \"NHPI\", \"adjusted_total_requested\": 2811129.9304223787}, {\"prefix\": \"FTAFBDL\", \"adjusted_total_requested\": 2747058.231006931}, {\"prefix\": \"TILUL\", \"adjusted_total_requested\": 2496503.350121503}, {\"prefix\": \"ATCMTD\", \"adjusted_total_requested\": 1959780.5228689567}, {\"prefix\": \"STPLNZ\", \"adjusted_total_requested\": 1800144.2657944367}, {\"prefix\": \"ATPSB1L\", \"adjusted_total_requested\": 1655767.0454280132}, {\"prefix\": \"RSTPL\", \"adjusted_total_requested\": 1653288.9452259985}, {\"prefix\": \"ATPLNI\", \"adjusted_total_requested\": 1443966.3230193153}]}}, {\"mode\": \"vega-lite\"});\n",
       "</script>"
      ],
      "text/plain": [
       "alt.Chart(...)"
      ]
     },
     "metadata": {},
     "output_type": "display_data"
    }
   ],
   "source": [
    "# Bar chart Average Total Requested Funds by Prefix\n",
    "chart8 = (_dla_utils.basic_bar_chart_no_save((((_dla_utils.calculate_data_all(df, 'adjusted_total_requested', 'prefix', aggfunc=\"mean\"))\n",
    "                          >>arrange(-_.adjusted_total_requested)).head(30)), 'prefix','adjusted_total_requested', 'prefix', district\n",
    "                       ))\n",
    "chart8=chart8.encode([alt.Tooltip('prefix', title=_dla_utils.labeling('prefix')),\n",
    "                      alt.Tooltip('adjusted_total_requested', title=_dla_utils.labeling('adjusted_total_requested'), format=\"$,.2f\")\n",
    "                          ]\n",
    "                                   )\n",
    "display(chart8)\n",
    "    "
   ]
  },
  {
   "cell_type": "markdown",
   "id": "c4218a37-675e-40be-9659-d1297a62dc1b",
   "metadata": {
    "papermill": {
     "duration": 0.029338,
     "end_time": "2022-06-02T22:24:10.447176",
     "exception": false,
     "start_time": "2022-06-02T22:24:10.417838",
     "status": "completed"
    },
    "tags": []
   },
   "source": [
    "\n",
    "## Work Categories"
   ]
  },
  {
   "cell_type": "markdown",
   "id": "188d7213-7e0a-4873-8d28-76b86052a06b",
   "metadata": {
    "papermill": {
     "duration": 0.0311,
     "end_time": "2022-06-02T22:24:10.507681",
     "exception": false,
     "start_time": "2022-06-02T22:24:10.476581",
     "status": "completed"
    },
    "tags": []
   },
   "source": [
    "<hr style=\"height: 2px; background-color:#136C97; border: none\">"
   ]
  },
  {
   "cell_type": "markdown",
   "id": "d41b493b-2ab7-4c43-96ee-8e64a7c3e11a",
   "metadata": {
    "papermill": {
     "duration": 0.029501,
     "end_time": "2022-06-02T22:24:10.565925",
     "exception": false,
     "start_time": "2022-06-02T22:24:10.536424",
     "status": "completed"
    },
    "tags": []
   },
   "source": [
    "While the data includes a description column, organizations have the option to manually input the descriptions. Using the organizations descriptions of the obligattion type, we can categorize the obligations in terms of types of work. We used the following type of work categories:\n",
    "* Active Transportation\n",
    "* Transit\n",
    "* Bridge\n",
    "* Street\n",
    "* Freeway\n",
    "* Infrastructure/Resiliency/Emergency Relief \n",
    "* Congestion Relief\n",
    "\n",
    "With these categories, we can determine which organizations have the most obligations in that category and what percent of the category that organization accounts for. "
   ]
  },
  {
   "cell_type": "code",
   "execution_count": 17,
   "id": "50a1cf08-17eb-4b2b-9dc0-671ee7551f2d",
   "metadata": {
    "execution": {
     "iopub.execute_input": "2022-06-02T22:24:10.626046Z",
     "iopub.status.busy": "2022-06-02T22:24:10.625250Z",
     "iopub.status.idle": "2022-06-02T22:24:11.447172Z",
     "shell.execute_reply": "2022-06-02T22:24:11.446366Z"
    },
    "jupyter": {
     "source_hidden": true
    },
    "papermill": {
     "duration": 0.85579,
     "end_time": "2022-06-02T22:24:11.449814",
     "exception": false,
     "start_time": "2022-06-02T22:24:10.594024",
     "status": "completed"
    },
    "tags": [
     "remove_input"
    ]
   },
   "outputs": [
    {
     "data": {
      "application/vnd.jupyter.widget-view+json": {
       "model_id": "a4678d67e3a54951b8a859023924432e",
       "version_major": 2,
       "version_minor": 0
      },
      "text/plain": [
       "HTML(value='<h3> Top Agencies using Active Transportation Projects </h3>')"
      ]
     },
     "metadata": {},
     "output_type": "display_data"
    },
    {
     "data": {
      "application/vnd.jupyter.widget-view+json": {
       "model_id": "4715907795534d9b9860b8b9d996e992",
       "version_major": 2,
       "version_minor": 0
      },
      "text/plain": [
       "HTML(value='<style type=\"text/css\">\\n#T_5339b th {\\n  text-align: center;\\n}\\n#T_5339b_row0_col0, #T_5339b_row…"
      ]
     },
     "metadata": {},
     "output_type": "display_data"
    },
    {
     "data": {
      "text/html": [
       "\n",
       "<div id=\"altair-viz-750c92b5006a4e78aa6e8115ee9956b8\"></div>\n",
       "<script type=\"text/javascript\">\n",
       "  var VEGA_DEBUG = (typeof VEGA_DEBUG == \"undefined\") ? {} : VEGA_DEBUG;\n",
       "  (function(spec, embedOpt){\n",
       "    let outputDiv = document.currentScript.previousElementSibling;\n",
       "    if (outputDiv.id !== \"altair-viz-750c92b5006a4e78aa6e8115ee9956b8\") {\n",
       "      outputDiv = document.getElementById(\"altair-viz-750c92b5006a4e78aa6e8115ee9956b8\");\n",
       "    }\n",
       "    const paths = {\n",
       "      \"vega\": \"https://cdn.jsdelivr.net/npm//vega@5?noext\",\n",
       "      \"vega-lib\": \"https://cdn.jsdelivr.net/npm//vega-lib?noext\",\n",
       "      \"vega-lite\": \"https://cdn.jsdelivr.net/npm//vega-lite@4.17.0?noext\",\n",
       "      \"vega-embed\": \"https://cdn.jsdelivr.net/npm//vega-embed@6?noext\",\n",
       "    };\n",
       "\n",
       "    function maybeLoadScript(lib, version) {\n",
       "      var key = `${lib.replace(\"-\", \"\")}_version`;\n",
       "      return (VEGA_DEBUG[key] == version) ?\n",
       "        Promise.resolve(paths[lib]) :\n",
       "        new Promise(function(resolve, reject) {\n",
       "          var s = document.createElement('script');\n",
       "          document.getElementsByTagName(\"head\")[0].appendChild(s);\n",
       "          s.async = true;\n",
       "          s.onload = () => {\n",
       "            VEGA_DEBUG[key] = version;\n",
       "            return resolve(paths[lib]);\n",
       "          };\n",
       "          s.onerror = () => reject(`Error loading script: ${paths[lib]}`);\n",
       "          s.src = paths[lib];\n",
       "        });\n",
       "    }\n",
       "\n",
       "    function showError(err) {\n",
       "      outputDiv.innerHTML = `<div class=\"error\" style=\"color:red;\">${err}</div>`;\n",
       "      throw err;\n",
       "    }\n",
       "\n",
       "    function displayChart(vegaEmbed) {\n",
       "      vegaEmbed(outputDiv, spec, embedOpt)\n",
       "        .catch(err => showError(`Javascript Error: ${err.message}<br>This usually means there's a typo in your chart specification. See the javascript console for the full traceback.`));\n",
       "    }\n",
       "\n",
       "    if(typeof define === \"function\" && define.amd) {\n",
       "      requirejs.config({paths});\n",
       "      require([\"vega-embed\"], displayChart, err => showError(`Error loading script: ${err.message}`));\n",
       "    } else {\n",
       "      maybeLoadScript(\"vega\", \"5\")\n",
       "        .then(() => maybeLoadScript(\"vega-lite\", \"4.17.0\"))\n",
       "        .then(() => maybeLoadScript(\"vega-embed\", \"6\"))\n",
       "        .catch(showError)\n",
       "        .then(() => displayChart(vegaEmbed));\n",
       "    }\n",
       "  })({\"config\": {\"view\": {\"continuousWidth\": 400, \"continuousHeight\": 300}}, \"data\": {\"name\": \"data-e402c93702a2b3dbbd37fcc52589fe99\"}, \"mark\": \"bar\", \"encoding\": {\"color\": {\"field\": \"Categories\", \"scale\": {\"range\": [\"#2EA8CE\", \"#EB9F3C\", \"#F4D837\", \"#51BF9D\", \"#8CBCCB\", \"#9487C0\"]}, \"type\": \"nominal\"}, \"row\": {\"field\": \"Categories\", \"type\": \"nominal\"}, \"tooltip\": [{\"field\": \"Agency\", \"title\": \"Agency\", \"type\": \"nominal\"}, {\"field\": \"Funding Amount\", \"format\": \"$,.2f\", \"title\": \"Funding Amount\", \"type\": \"quantitative\"}], \"x\": {\"axis\": {\"format\": \"$.2s\", \"title\": \"Obligated Funding ($2021)\"}, \"field\": \"Funding Amount\", \"type\": \"quantitative\"}, \"y\": {\"field\": \"Agency\", \"type\": \"nominal\"}}, \"height\": 70, \"width\": 400, \"$schema\": \"https://vega.github.io/schema/vega-lite/v4.17.0.json\", \"datasets\": {\"data-e402c93702a2b3dbbd37fcc52589fe99\": [{\"Agency\": \"Los Angeles\", \"Categories\": \"Total Requested\", \"Funding Amount\": 917273.8212585975}, {\"Agency\": \"Los Angeles County\", \"Categories\": \"Total Requested\", \"Funding Amount\": 404878.1757494064}, {\"Agency\": \"Ventura County\", \"Categories\": \"Total Requested\", \"Funding Amount\": 172998.43116784695}, {\"Agency\": \"Long Beach\", \"Categories\": \"Total Requested\", \"Funding Amount\": 1351983.2924941634}, {\"Agency\": \"Oxnard\", \"Categories\": \"Total Requested\", \"Funding Amount\": 116388.23779995118}, {\"Agency\": \"Los Angeles\", \"Categories\": \"Fed Requested\", \"Funding Amount\": 664953.1560553539}, {\"Agency\": \"Los Angeles County\", \"Categories\": \"Fed Requested\", \"Funding Amount\": 268926.84286116034}, {\"Agency\": \"Ventura County\", \"Categories\": \"Fed Requested\", \"Funding Amount\": 131142.29454467268}, {\"Agency\": \"Long Beach\", \"Categories\": \"Fed Requested\", \"Funding Amount\": 727094.2690162971}, {\"Agency\": \"Oxnard\", \"Categories\": \"Fed Requested\", \"Funding Amount\": 87577.26030146328}, {\"Agency\": \"Los Angeles\", \"Categories\": \"AC Requested\", \"Funding Amount\": -1211.9374548559986}, {\"Agency\": \"Los Angeles County\", \"Categories\": \"AC Requested\", \"Funding Amount\": 368.15701469117147}, {\"Agency\": \"Ventura County\", \"Categories\": \"AC Requested\", \"Funding Amount\": 0.0}, {\"Agency\": \"Long Beach\", \"Categories\": \"AC Requested\", \"Funding Amount\": 0.0}, {\"Agency\": \"Oxnard\", \"Categories\": \"AC Requested\", \"Funding Amount\": 0.0}]}}, {\"mode\": \"vega-lite\"});\n",
       "</script>"
      ],
      "text/plain": [
       "alt.Chart(...)"
      ]
     },
     "metadata": {},
     "output_type": "display_data"
    },
    {
     "data": {
      "application/vnd.jupyter.widget-view+json": {
       "model_id": "231c0212efb84840aba8b5477073e560",
       "version_major": 2,
       "version_minor": 0
      },
      "text/plain": [
       "HTML(value='<h3> Top Agencies using Transit Projects </h3>')"
      ]
     },
     "metadata": {},
     "output_type": "display_data"
    },
    {
     "data": {
      "application/vnd.jupyter.widget-view+json": {
       "model_id": "2663dd9665d745ddbe6b3e650bc24a22",
       "version_major": 2,
       "version_minor": 0
      },
      "text/plain": [
       "HTML(value='<style type=\"text/css\">\\n#T_d6a3b th {\\n  text-align: center;\\n}\\n#T_d6a3b_row0_col0, #T_d6a3b_row…"
      ]
     },
     "metadata": {},
     "output_type": "display_data"
    },
    {
     "data": {
      "text/html": [
       "\n",
       "<div id=\"altair-viz-b5ce628b6c254179963b2bc2d98b4049\"></div>\n",
       "<script type=\"text/javascript\">\n",
       "  var VEGA_DEBUG = (typeof VEGA_DEBUG == \"undefined\") ? {} : VEGA_DEBUG;\n",
       "  (function(spec, embedOpt){\n",
       "    let outputDiv = document.currentScript.previousElementSibling;\n",
       "    if (outputDiv.id !== \"altair-viz-b5ce628b6c254179963b2bc2d98b4049\") {\n",
       "      outputDiv = document.getElementById(\"altair-viz-b5ce628b6c254179963b2bc2d98b4049\");\n",
       "    }\n",
       "    const paths = {\n",
       "      \"vega\": \"https://cdn.jsdelivr.net/npm//vega@5?noext\",\n",
       "      \"vega-lib\": \"https://cdn.jsdelivr.net/npm//vega-lib?noext\",\n",
       "      \"vega-lite\": \"https://cdn.jsdelivr.net/npm//vega-lite@4.17.0?noext\",\n",
       "      \"vega-embed\": \"https://cdn.jsdelivr.net/npm//vega-embed@6?noext\",\n",
       "    };\n",
       "\n",
       "    function maybeLoadScript(lib, version) {\n",
       "      var key = `${lib.replace(\"-\", \"\")}_version`;\n",
       "      return (VEGA_DEBUG[key] == version) ?\n",
       "        Promise.resolve(paths[lib]) :\n",
       "        new Promise(function(resolve, reject) {\n",
       "          var s = document.createElement('script');\n",
       "          document.getElementsByTagName(\"head\")[0].appendChild(s);\n",
       "          s.async = true;\n",
       "          s.onload = () => {\n",
       "            VEGA_DEBUG[key] = version;\n",
       "            return resolve(paths[lib]);\n",
       "          };\n",
       "          s.onerror = () => reject(`Error loading script: ${paths[lib]}`);\n",
       "          s.src = paths[lib];\n",
       "        });\n",
       "    }\n",
       "\n",
       "    function showError(err) {\n",
       "      outputDiv.innerHTML = `<div class=\"error\" style=\"color:red;\">${err}</div>`;\n",
       "      throw err;\n",
       "    }\n",
       "\n",
       "    function displayChart(vegaEmbed) {\n",
       "      vegaEmbed(outputDiv, spec, embedOpt)\n",
       "        .catch(err => showError(`Javascript Error: ${err.message}<br>This usually means there's a typo in your chart specification. See the javascript console for the full traceback.`));\n",
       "    }\n",
       "\n",
       "    if(typeof define === \"function\" && define.amd) {\n",
       "      requirejs.config({paths});\n",
       "      require([\"vega-embed\"], displayChart, err => showError(`Error loading script: ${err.message}`));\n",
       "    } else {\n",
       "      maybeLoadScript(\"vega\", \"5\")\n",
       "        .then(() => maybeLoadScript(\"vega-lite\", \"4.17.0\"))\n",
       "        .then(() => maybeLoadScript(\"vega-embed\", \"6\"))\n",
       "        .catch(showError)\n",
       "        .then(() => displayChart(vegaEmbed));\n",
       "    }\n",
       "  })({\"config\": {\"view\": {\"continuousWidth\": 400, \"continuousHeight\": 300}}, \"data\": {\"name\": \"data-7bb635f5bfd02ec5a26e6c51f54b25cf\"}, \"mark\": \"bar\", \"encoding\": {\"color\": {\"field\": \"Categories\", \"scale\": {\"range\": [\"#2EA8CE\", \"#EB9F3C\", \"#F4D837\", \"#51BF9D\", \"#8CBCCB\", \"#9487C0\"]}, \"type\": \"nominal\"}, \"row\": {\"field\": \"Categories\", \"type\": \"nominal\"}, \"tooltip\": [{\"field\": \"Agency\", \"title\": \"Agency\", \"type\": \"nominal\"}, {\"field\": \"Funding Amount\", \"format\": \"$,.2f\", \"title\": \"Funding Amount\", \"type\": \"quantitative\"}], \"x\": {\"axis\": {\"format\": \"$.2s\", \"title\": \"Obligated Funding ($2021)\"}, \"field\": \"Funding Amount\", \"type\": \"quantitative\"}, \"y\": {\"field\": \"Agency\", \"type\": \"nominal\"}}, \"height\": 70, \"width\": 400, \"$schema\": \"https://vega.github.io/schema/vega-lite/v4.17.0.json\", \"datasets\": {\"data-7bb635f5bfd02ec5a26e6c51f54b25cf\": [{\"Agency\": \"Los Angeles\", \"Categories\": \"Total Requested\", \"Funding Amount\": 355574.5540216868}, {\"Agency\": \"Lancaster\", \"Categories\": \"Total Requested\", \"Funding Amount\": 1949102.933649522}, {\"Agency\": \"Los Angeles County\", \"Categories\": \"Total Requested\", \"Funding Amount\": 165880.04962165208}, {\"Agency\": \"Los Angeles County Metropolitan Transportation Authority\", \"Categories\": \"Total Requested\", \"Funding Amount\": 2078443.3653053248}, {\"Agency\": \"San Buenaventura\", \"Categories\": \"Total Requested\", \"Funding Amount\": 75005.53048188676}, {\"Agency\": \"Los Angeles\", \"Categories\": \"Fed Requested\", \"Funding Amount\": 250742.0661295721}, {\"Agency\": \"Lancaster\", \"Categories\": \"Fed Requested\", \"Funding Amount\": 1949102.933649522}, {\"Agency\": \"Los Angeles County\", \"Categories\": \"Fed Requested\", \"Funding Amount\": 71933.7358316173}, {\"Agency\": \"Los Angeles County Metropolitan Transportation Authority\", \"Categories\": \"Fed Requested\", \"Funding Amount\": 2017199.508851508}, {\"Agency\": \"San Buenaventura\", \"Categories\": \"Fed Requested\", \"Funding Amount\": 65841.15195865728}, {\"Agency\": \"Los Angeles\", \"Categories\": \"AC Requested\", \"Funding Amount\": 0.0}, {\"Agency\": \"Lancaster\", \"Categories\": \"AC Requested\", \"Funding Amount\": 0.0}, {\"Agency\": \"Los Angeles County\", \"Categories\": \"AC Requested\", \"Funding Amount\": 0.0}, {\"Agency\": \"Los Angeles County Metropolitan Transportation Authority\", \"Categories\": \"AC Requested\", \"Funding Amount\": 0.0}, {\"Agency\": \"San Buenaventura\", \"Categories\": \"AC Requested\", \"Funding Amount\": 0.0}]}}, {\"mode\": \"vega-lite\"});\n",
       "</script>"
      ],
      "text/plain": [
       "alt.Chart(...)"
      ]
     },
     "metadata": {},
     "output_type": "display_data"
    },
    {
     "data": {
      "application/vnd.jupyter.widget-view+json": {
       "model_id": "60e64abbbefb4291b7e4a80307173871",
       "version_major": 2,
       "version_minor": 0
      },
      "text/plain": [
       "HTML(value='<h3> Top Agencies using Bridge Projects </h3>')"
      ]
     },
     "metadata": {},
     "output_type": "display_data"
    },
    {
     "data": {
      "application/vnd.jupyter.widget-view+json": {
       "model_id": "63c9fae3445d41b59e59cc965ea0dc53",
       "version_major": 2,
       "version_minor": 0
      },
      "text/plain": [
       "HTML(value='<style type=\"text/css\">\\n#T_c2513 th {\\n  text-align: center;\\n}\\n#T_c2513_row0_col0, #T_c2513_row…"
      ]
     },
     "metadata": {},
     "output_type": "display_data"
    },
    {
     "data": {
      "text/html": [
       "\n",
       "<div id=\"altair-viz-18204e2809a64c4ab4a2ea33104dfacb\"></div>\n",
       "<script type=\"text/javascript\">\n",
       "  var VEGA_DEBUG = (typeof VEGA_DEBUG == \"undefined\") ? {} : VEGA_DEBUG;\n",
       "  (function(spec, embedOpt){\n",
       "    let outputDiv = document.currentScript.previousElementSibling;\n",
       "    if (outputDiv.id !== \"altair-viz-18204e2809a64c4ab4a2ea33104dfacb\") {\n",
       "      outputDiv = document.getElementById(\"altair-viz-18204e2809a64c4ab4a2ea33104dfacb\");\n",
       "    }\n",
       "    const paths = {\n",
       "      \"vega\": \"https://cdn.jsdelivr.net/npm//vega@5?noext\",\n",
       "      \"vega-lib\": \"https://cdn.jsdelivr.net/npm//vega-lib?noext\",\n",
       "      \"vega-lite\": \"https://cdn.jsdelivr.net/npm//vega-lite@4.17.0?noext\",\n",
       "      \"vega-embed\": \"https://cdn.jsdelivr.net/npm//vega-embed@6?noext\",\n",
       "    };\n",
       "\n",
       "    function maybeLoadScript(lib, version) {\n",
       "      var key = `${lib.replace(\"-\", \"\")}_version`;\n",
       "      return (VEGA_DEBUG[key] == version) ?\n",
       "        Promise.resolve(paths[lib]) :\n",
       "        new Promise(function(resolve, reject) {\n",
       "          var s = document.createElement('script');\n",
       "          document.getElementsByTagName(\"head\")[0].appendChild(s);\n",
       "          s.async = true;\n",
       "          s.onload = () => {\n",
       "            VEGA_DEBUG[key] = version;\n",
       "            return resolve(paths[lib]);\n",
       "          };\n",
       "          s.onerror = () => reject(`Error loading script: ${paths[lib]}`);\n",
       "          s.src = paths[lib];\n",
       "        });\n",
       "    }\n",
       "\n",
       "    function showError(err) {\n",
       "      outputDiv.innerHTML = `<div class=\"error\" style=\"color:red;\">${err}</div>`;\n",
       "      throw err;\n",
       "    }\n",
       "\n",
       "    function displayChart(vegaEmbed) {\n",
       "      vegaEmbed(outputDiv, spec, embedOpt)\n",
       "        .catch(err => showError(`Javascript Error: ${err.message}<br>This usually means there's a typo in your chart specification. See the javascript console for the full traceback.`));\n",
       "    }\n",
       "\n",
       "    if(typeof define === \"function\" && define.amd) {\n",
       "      requirejs.config({paths});\n",
       "      require([\"vega-embed\"], displayChart, err => showError(`Error loading script: ${err.message}`));\n",
       "    } else {\n",
       "      maybeLoadScript(\"vega\", \"5\")\n",
       "        .then(() => maybeLoadScript(\"vega-lite\", \"4.17.0\"))\n",
       "        .then(() => maybeLoadScript(\"vega-embed\", \"6\"))\n",
       "        .catch(showError)\n",
       "        .then(() => displayChart(vegaEmbed));\n",
       "    }\n",
       "  })({\"config\": {\"view\": {\"continuousWidth\": 400, \"continuousHeight\": 300}}, \"data\": {\"name\": \"data-fdb883ee225b3bec4c31a3ea75f74a33\"}, \"mark\": \"bar\", \"encoding\": {\"color\": {\"field\": \"Categories\", \"scale\": {\"range\": [\"#2EA8CE\", \"#EB9F3C\", \"#F4D837\", \"#51BF9D\", \"#8CBCCB\", \"#9487C0\"]}, \"type\": \"nominal\"}, \"row\": {\"field\": \"Categories\", \"type\": \"nominal\"}, \"tooltip\": [{\"field\": \"Agency\", \"title\": \"Agency\", \"type\": \"nominal\"}, {\"field\": \"Funding Amount\", \"format\": \"$,.2f\", \"title\": \"Funding Amount\", \"type\": \"quantitative\"}], \"x\": {\"axis\": {\"format\": \"$.2s\", \"title\": \"Obligated Funding ($2021)\"}, \"field\": \"Funding Amount\", \"type\": \"quantitative\"}, \"y\": {\"field\": \"Agency\", \"type\": \"nominal\"}}, \"height\": 70, \"width\": 400, \"$schema\": \"https://vega.github.io/schema/vega-lite/v4.17.0.json\", \"datasets\": {\"data-fdb883ee225b3bec4c31a3ea75f74a33\": [{\"Agency\": \"Los Angeles County\", \"Categories\": \"Total Requested\", \"Funding Amount\": 687732.4780559144}, {\"Agency\": \"Los Angeles\", \"Categories\": \"Total Requested\", \"Funding Amount\": 5381098.090912831}, {\"Agency\": \"Santa Clarita\", \"Categories\": \"Total Requested\", \"Funding Amount\": 1038755.8281014625}, {\"Agency\": \"Ventura County\", \"Categories\": \"Total Requested\", \"Funding Amount\": 178391.17023692132}, {\"Agency\": \"Long Beach\", \"Categories\": \"Total Requested\", \"Funding Amount\": 16224190.931136375}, {\"Agency\": \"Los Angeles County\", \"Categories\": \"Fed Requested\", \"Funding Amount\": 553619.5581213025}, {\"Agency\": \"Los Angeles\", \"Categories\": \"Fed Requested\", \"Funding Amount\": 2811678.10104237}, {\"Agency\": \"Santa Clarita\", \"Categories\": \"Fed Requested\", \"Funding Amount\": 793111.3915336704}, {\"Agency\": \"Ventura County\", \"Categories\": \"Fed Requested\", \"Funding Amount\": 84128.48036887348}, {\"Agency\": \"Long Beach\", \"Categories\": \"Fed Requested\", \"Funding Amount\": 3199516.336872362}, {\"Agency\": \"Los Angeles County\", \"Categories\": \"AC Requested\", \"Funding Amount\": 74599.98579858488}, {\"Agency\": \"Los Angeles\", \"Categories\": \"AC Requested\", \"Funding Amount\": 1500599.814198206}, {\"Agency\": \"Santa Clarita\", \"Categories\": \"AC Requested\", \"Funding Amount\": 10098.878300652717}, {\"Agency\": \"Ventura County\", \"Categories\": \"AC Requested\", \"Funding Amount\": 0.0}, {\"Agency\": \"Long Beach\", \"Categories\": \"AC Requested\", \"Funding Amount\": 0.0}]}}, {\"mode\": \"vega-lite\"});\n",
       "</script>"
      ],
      "text/plain": [
       "alt.Chart(...)"
      ]
     },
     "metadata": {},
     "output_type": "display_data"
    },
    {
     "data": {
      "application/vnd.jupyter.widget-view+json": {
       "model_id": "0c58bb2007a14c9e8df6f8f5dbed0b4e",
       "version_major": 2,
       "version_minor": 0
      },
      "text/plain": [
       "HTML(value='<h3> Top Agencies using Street Projects </h3>')"
      ]
     },
     "metadata": {},
     "output_type": "display_data"
    },
    {
     "data": {
      "application/vnd.jupyter.widget-view+json": {
       "model_id": "ea3c3b63649f4446a57180bfc20896e0",
       "version_major": 2,
       "version_minor": 0
      },
      "text/plain": [
       "HTML(value='<style type=\"text/css\">\\n#T_50a16 th {\\n  text-align: center;\\n}\\n#T_50a16_row0_col0, #T_50a16_row…"
      ]
     },
     "metadata": {},
     "output_type": "display_data"
    },
    {
     "data": {
      "text/html": [
       "\n",
       "<div id=\"altair-viz-7b79edce3c514253b91c1b8d05a936bc\"></div>\n",
       "<script type=\"text/javascript\">\n",
       "  var VEGA_DEBUG = (typeof VEGA_DEBUG == \"undefined\") ? {} : VEGA_DEBUG;\n",
       "  (function(spec, embedOpt){\n",
       "    let outputDiv = document.currentScript.previousElementSibling;\n",
       "    if (outputDiv.id !== \"altair-viz-7b79edce3c514253b91c1b8d05a936bc\") {\n",
       "      outputDiv = document.getElementById(\"altair-viz-7b79edce3c514253b91c1b8d05a936bc\");\n",
       "    }\n",
       "    const paths = {\n",
       "      \"vega\": \"https://cdn.jsdelivr.net/npm//vega@5?noext\",\n",
       "      \"vega-lib\": \"https://cdn.jsdelivr.net/npm//vega-lib?noext\",\n",
       "      \"vega-lite\": \"https://cdn.jsdelivr.net/npm//vega-lite@4.17.0?noext\",\n",
       "      \"vega-embed\": \"https://cdn.jsdelivr.net/npm//vega-embed@6?noext\",\n",
       "    };\n",
       "\n",
       "    function maybeLoadScript(lib, version) {\n",
       "      var key = `${lib.replace(\"-\", \"\")}_version`;\n",
       "      return (VEGA_DEBUG[key] == version) ?\n",
       "        Promise.resolve(paths[lib]) :\n",
       "        new Promise(function(resolve, reject) {\n",
       "          var s = document.createElement('script');\n",
       "          document.getElementsByTagName(\"head\")[0].appendChild(s);\n",
       "          s.async = true;\n",
       "          s.onload = () => {\n",
       "            VEGA_DEBUG[key] = version;\n",
       "            return resolve(paths[lib]);\n",
       "          };\n",
       "          s.onerror = () => reject(`Error loading script: ${paths[lib]}`);\n",
       "          s.src = paths[lib];\n",
       "        });\n",
       "    }\n",
       "\n",
       "    function showError(err) {\n",
       "      outputDiv.innerHTML = `<div class=\"error\" style=\"color:red;\">${err}</div>`;\n",
       "      throw err;\n",
       "    }\n",
       "\n",
       "    function displayChart(vegaEmbed) {\n",
       "      vegaEmbed(outputDiv, spec, embedOpt)\n",
       "        .catch(err => showError(`Javascript Error: ${err.message}<br>This usually means there's a typo in your chart specification. See the javascript console for the full traceback.`));\n",
       "    }\n",
       "\n",
       "    if(typeof define === \"function\" && define.amd) {\n",
       "      requirejs.config({paths});\n",
       "      require([\"vega-embed\"], displayChart, err => showError(`Error loading script: ${err.message}`));\n",
       "    } else {\n",
       "      maybeLoadScript(\"vega\", \"5\")\n",
       "        .then(() => maybeLoadScript(\"vega-lite\", \"4.17.0\"))\n",
       "        .then(() => maybeLoadScript(\"vega-embed\", \"6\"))\n",
       "        .catch(showError)\n",
       "        .then(() => displayChart(vegaEmbed));\n",
       "    }\n",
       "  })({\"config\": {\"view\": {\"continuousWidth\": 400, \"continuousHeight\": 300}}, \"data\": {\"name\": \"data-fc0b8598725555e437cfb1742943fa84\"}, \"mark\": \"bar\", \"encoding\": {\"color\": {\"field\": \"Categories\", \"scale\": {\"range\": [\"#2EA8CE\", \"#EB9F3C\", \"#F4D837\", \"#51BF9D\", \"#8CBCCB\", \"#9487C0\"]}, \"type\": \"nominal\"}, \"row\": {\"field\": \"Categories\", \"type\": \"nominal\"}, \"tooltip\": [{\"field\": \"Agency\", \"title\": \"Agency\", \"type\": \"nominal\"}, {\"field\": \"Funding Amount\", \"format\": \"$,.2f\", \"title\": \"Funding Amount\", \"type\": \"quantitative\"}], \"x\": {\"axis\": {\"format\": \"$.2s\", \"title\": \"Obligated Funding ($2021)\"}, \"field\": \"Funding Amount\", \"type\": \"quantitative\"}, \"y\": {\"field\": \"Agency\", \"type\": \"nominal\"}}, \"height\": 70, \"width\": 400, \"$schema\": \"https://vega.github.io/schema/vega-lite/v4.17.0.json\", \"datasets\": {\"data-fc0b8598725555e437cfb1742943fa84\": [{\"Agency\": \"Los Angeles\", \"Categories\": \"Total Requested\", \"Funding Amount\": 829665.701659132}, {\"Agency\": \"Los Angeles County\", \"Categories\": \"Total Requested\", \"Funding Amount\": 381520.6001871891}, {\"Agency\": \"Ventura County\", \"Categories\": \"Total Requested\", \"Funding Amount\": 269443.4054147363}, {\"Agency\": \"Downey\", \"Categories\": \"Total Requested\", \"Funding Amount\": 521630.2191469485}, {\"Agency\": \"Lancaster\", \"Categories\": \"Total Requested\", \"Funding Amount\": 666196.0539883316}, {\"Agency\": \"Los Angeles\", \"Categories\": \"Fed Requested\", \"Funding Amount\": 752357.4030435152}, {\"Agency\": \"Los Angeles County\", \"Categories\": \"Fed Requested\", \"Funding Amount\": 279455.73167145223}, {\"Agency\": \"Ventura County\", \"Categories\": \"Fed Requested\", \"Funding Amount\": 233646.70743495482}, {\"Agency\": \"Downey\", \"Categories\": \"Fed Requested\", \"Funding Amount\": 279024.83937106916}, {\"Agency\": \"Lancaster\", \"Categories\": \"Fed Requested\", \"Funding Amount\": 498936.9341426357}, {\"Agency\": \"Los Angeles\", \"Categories\": \"AC Requested\", \"Funding Amount\": -4947.658641867322}, {\"Agency\": \"Los Angeles County\", \"Categories\": \"AC Requested\", \"Funding Amount\": 9160.152565911876}, {\"Agency\": \"Ventura County\", \"Categories\": \"AC Requested\", \"Funding Amount\": 0.0}, {\"Agency\": \"Downey\", \"Categories\": \"AC Requested\", \"Funding Amount\": 0.0}, {\"Agency\": \"Lancaster\", \"Categories\": \"AC Requested\", \"Funding Amount\": 0.0}]}}, {\"mode\": \"vega-lite\"});\n",
       "</script>"
      ],
      "text/plain": [
       "alt.Chart(...)"
      ]
     },
     "metadata": {},
     "output_type": "display_data"
    },
    {
     "data": {
      "application/vnd.jupyter.widget-view+json": {
       "model_id": "5d70c99864924e8ea71052f232f2d9f2",
       "version_major": 2,
       "version_minor": 0
      },
      "text/plain": [
       "HTML(value='<h3> Top Agencies using Freeway Projects </h3>')"
      ]
     },
     "metadata": {},
     "output_type": "display_data"
    },
    {
     "data": {
      "application/vnd.jupyter.widget-view+json": {
       "model_id": "372ad2adc3f143c9bd179f84f11723a5",
       "version_major": 2,
       "version_minor": 0
      },
      "text/plain": [
       "HTML(value='<style type=\"text/css\">\\n#T_60edb th {\\n  text-align: center;\\n}\\n#T_60edb_row0_col0, #T_60edb_row…"
      ]
     },
     "metadata": {},
     "output_type": "display_data"
    },
    {
     "data": {
      "text/html": [
       "\n",
       "<div id=\"altair-viz-d93574f214f149fabdfe2373326e88f1\"></div>\n",
       "<script type=\"text/javascript\">\n",
       "  var VEGA_DEBUG = (typeof VEGA_DEBUG == \"undefined\") ? {} : VEGA_DEBUG;\n",
       "  (function(spec, embedOpt){\n",
       "    let outputDiv = document.currentScript.previousElementSibling;\n",
       "    if (outputDiv.id !== \"altair-viz-d93574f214f149fabdfe2373326e88f1\") {\n",
       "      outputDiv = document.getElementById(\"altair-viz-d93574f214f149fabdfe2373326e88f1\");\n",
       "    }\n",
       "    const paths = {\n",
       "      \"vega\": \"https://cdn.jsdelivr.net/npm//vega@5?noext\",\n",
       "      \"vega-lib\": \"https://cdn.jsdelivr.net/npm//vega-lib?noext\",\n",
       "      \"vega-lite\": \"https://cdn.jsdelivr.net/npm//vega-lite@4.17.0?noext\",\n",
       "      \"vega-embed\": \"https://cdn.jsdelivr.net/npm//vega-embed@6?noext\",\n",
       "    };\n",
       "\n",
       "    function maybeLoadScript(lib, version) {\n",
       "      var key = `${lib.replace(\"-\", \"\")}_version`;\n",
       "      return (VEGA_DEBUG[key] == version) ?\n",
       "        Promise.resolve(paths[lib]) :\n",
       "        new Promise(function(resolve, reject) {\n",
       "          var s = document.createElement('script');\n",
       "          document.getElementsByTagName(\"head\")[0].appendChild(s);\n",
       "          s.async = true;\n",
       "          s.onload = () => {\n",
       "            VEGA_DEBUG[key] = version;\n",
       "            return resolve(paths[lib]);\n",
       "          };\n",
       "          s.onerror = () => reject(`Error loading script: ${paths[lib]}`);\n",
       "          s.src = paths[lib];\n",
       "        });\n",
       "    }\n",
       "\n",
       "    function showError(err) {\n",
       "      outputDiv.innerHTML = `<div class=\"error\" style=\"color:red;\">${err}</div>`;\n",
       "      throw err;\n",
       "    }\n",
       "\n",
       "    function displayChart(vegaEmbed) {\n",
       "      vegaEmbed(outputDiv, spec, embedOpt)\n",
       "        .catch(err => showError(`Javascript Error: ${err.message}<br>This usually means there's a typo in your chart specification. See the javascript console for the full traceback.`));\n",
       "    }\n",
       "\n",
       "    if(typeof define === \"function\" && define.amd) {\n",
       "      requirejs.config({paths});\n",
       "      require([\"vega-embed\"], displayChart, err => showError(`Error loading script: ${err.message}`));\n",
       "    } else {\n",
       "      maybeLoadScript(\"vega\", \"5\")\n",
       "        .then(() => maybeLoadScript(\"vega-lite\", \"4.17.0\"))\n",
       "        .then(() => maybeLoadScript(\"vega-embed\", \"6\"))\n",
       "        .catch(showError)\n",
       "        .then(() => displayChart(vegaEmbed));\n",
       "    }\n",
       "  })({\"config\": {\"view\": {\"continuousWidth\": 400, \"continuousHeight\": 300}}, \"data\": {\"name\": \"data-cd09aa0af1347f5754ab80e8b307c5af\"}, \"mark\": \"bar\", \"encoding\": {\"color\": {\"field\": \"Categories\", \"scale\": {\"range\": [\"#2EA8CE\", \"#EB9F3C\", \"#F4D837\", \"#51BF9D\", \"#8CBCCB\", \"#9487C0\"]}, \"type\": \"nominal\"}, \"row\": {\"field\": \"Categories\", \"type\": \"nominal\"}, \"tooltip\": [{\"field\": \"Agency\", \"title\": \"Agency\", \"type\": \"nominal\"}, {\"field\": \"Funding Amount\", \"format\": \"$,.2f\", \"title\": \"Funding Amount\", \"type\": \"quantitative\"}], \"x\": {\"axis\": {\"format\": \"$.2s\", \"title\": \"Obligated Funding ($2021)\"}, \"field\": \"Funding Amount\", \"type\": \"quantitative\"}, \"y\": {\"field\": \"Agency\", \"type\": \"nominal\"}}, \"height\": 70, \"width\": 400, \"$schema\": \"https://vega.github.io/schema/vega-lite/v4.17.0.json\", \"datasets\": {\"data-cd09aa0af1347f5754ab80e8b307c5af\": [{\"Agency\": \"Oxnard\", \"Categories\": \"Total Requested\", \"Funding Amount\": -2502311.324883248}, {\"Agency\": \"Lancaster\", \"Categories\": \"Total Requested\", \"Funding Amount\": 1949102.933649522}, {\"Agency\": \"Caltrans\", \"Categories\": \"Total Requested\", \"Funding Amount\": 7046157.10913465}, {\"Agency\": \"Los Angeles County Metropolitan Transportation Authority\", \"Categories\": \"Total Requested\", \"Funding Amount\": 24085841.279153053}, {\"Agency\": \"Los Angeles\", \"Categories\": \"Total Requested\", \"Funding Amount\": 2938883.6831237683}, {\"Agency\": \"Oxnard\", \"Categories\": \"Fed Requested\", \"Funding Amount\": -119629.18434851067}, {\"Agency\": \"Lancaster\", \"Categories\": \"Fed Requested\", \"Funding Amount\": 1949102.933649522}, {\"Agency\": \"Caltrans\", \"Categories\": \"Fed Requested\", \"Funding Amount\": 2958973.185613061}, {\"Agency\": \"Los Angeles County Metropolitan Transportation Authority\", \"Categories\": \"Fed Requested\", \"Funding Amount\": 20566330.4035986}, {\"Agency\": \"Los Angeles\", \"Categories\": \"Fed Requested\", \"Funding Amount\": 2920071.9657107443}, {\"Agency\": \"Oxnard\", \"Categories\": \"AC Requested\", \"Funding Amount\": 0.0}, {\"Agency\": \"Lancaster\", \"Categories\": \"AC Requested\", \"Funding Amount\": 0.0}, {\"Agency\": \"Caltrans\", \"Categories\": \"AC Requested\", \"Funding Amount\": 0.0}, {\"Agency\": \"Los Angeles County Metropolitan Transportation Authority\", \"Categories\": \"AC Requested\", \"Funding Amount\": 606684.1902912945}, {\"Agency\": \"Los Angeles\", \"Categories\": \"AC Requested\", \"Funding Amount\": 0.0}]}}, {\"mode\": \"vega-lite\"});\n",
       "</script>"
      ],
      "text/plain": [
       "alt.Chart(...)"
      ]
     },
     "metadata": {},
     "output_type": "display_data"
    },
    {
     "data": {
      "application/vnd.jupyter.widget-view+json": {
       "model_id": "3b553d1131344f349e003ea72f0979ce",
       "version_major": 2,
       "version_minor": 0
      },
      "text/plain": [
       "HTML(value='<h3> Top Agencies using Infrastructure & Emergency Relief Projects </h3>')"
      ]
     },
     "metadata": {},
     "output_type": "display_data"
    },
    {
     "data": {
      "application/vnd.jupyter.widget-view+json": {
       "model_id": "fc9d3c91831f4bacadb8c3c4ebc0b986",
       "version_major": 2,
       "version_minor": 0
      },
      "text/plain": [
       "HTML(value='<style type=\"text/css\">\\n#T_8fbfb th {\\n  text-align: center;\\n}\\n#T_8fbfb_row0_col0, #T_8fbfb_row…"
      ]
     },
     "metadata": {},
     "output_type": "display_data"
    },
    {
     "data": {
      "text/html": [
       "\n",
       "<div id=\"altair-viz-904a6df9359b42a9879b07f53615d560\"></div>\n",
       "<script type=\"text/javascript\">\n",
       "  var VEGA_DEBUG = (typeof VEGA_DEBUG == \"undefined\") ? {} : VEGA_DEBUG;\n",
       "  (function(spec, embedOpt){\n",
       "    let outputDiv = document.currentScript.previousElementSibling;\n",
       "    if (outputDiv.id !== \"altair-viz-904a6df9359b42a9879b07f53615d560\") {\n",
       "      outputDiv = document.getElementById(\"altair-viz-904a6df9359b42a9879b07f53615d560\");\n",
       "    }\n",
       "    const paths = {\n",
       "      \"vega\": \"https://cdn.jsdelivr.net/npm//vega@5?noext\",\n",
       "      \"vega-lib\": \"https://cdn.jsdelivr.net/npm//vega-lib?noext\",\n",
       "      \"vega-lite\": \"https://cdn.jsdelivr.net/npm//vega-lite@4.17.0?noext\",\n",
       "      \"vega-embed\": \"https://cdn.jsdelivr.net/npm//vega-embed@6?noext\",\n",
       "    };\n",
       "\n",
       "    function maybeLoadScript(lib, version) {\n",
       "      var key = `${lib.replace(\"-\", \"\")}_version`;\n",
       "      return (VEGA_DEBUG[key] == version) ?\n",
       "        Promise.resolve(paths[lib]) :\n",
       "        new Promise(function(resolve, reject) {\n",
       "          var s = document.createElement('script');\n",
       "          document.getElementsByTagName(\"head\")[0].appendChild(s);\n",
       "          s.async = true;\n",
       "          s.onload = () => {\n",
       "            VEGA_DEBUG[key] = version;\n",
       "            return resolve(paths[lib]);\n",
       "          };\n",
       "          s.onerror = () => reject(`Error loading script: ${paths[lib]}`);\n",
       "          s.src = paths[lib];\n",
       "        });\n",
       "    }\n",
       "\n",
       "    function showError(err) {\n",
       "      outputDiv.innerHTML = `<div class=\"error\" style=\"color:red;\">${err}</div>`;\n",
       "      throw err;\n",
       "    }\n",
       "\n",
       "    function displayChart(vegaEmbed) {\n",
       "      vegaEmbed(outputDiv, spec, embedOpt)\n",
       "        .catch(err => showError(`Javascript Error: ${err.message}<br>This usually means there's a typo in your chart specification. See the javascript console for the full traceback.`));\n",
       "    }\n",
       "\n",
       "    if(typeof define === \"function\" && define.amd) {\n",
       "      requirejs.config({paths});\n",
       "      require([\"vega-embed\"], displayChart, err => showError(`Error loading script: ${err.message}`));\n",
       "    } else {\n",
       "      maybeLoadScript(\"vega\", \"5\")\n",
       "        .then(() => maybeLoadScript(\"vega-lite\", \"4.17.0\"))\n",
       "        .then(() => maybeLoadScript(\"vega-embed\", \"6\"))\n",
       "        .catch(showError)\n",
       "        .then(() => displayChart(vegaEmbed));\n",
       "    }\n",
       "  })({\"config\": {\"view\": {\"continuousWidth\": 400, \"continuousHeight\": 300}}, \"data\": {\"name\": \"data-eb57602f26004e72eb71ef6ba2cde49d\"}, \"mark\": \"bar\", \"encoding\": {\"color\": {\"field\": \"Categories\", \"scale\": {\"range\": [\"#2EA8CE\", \"#EB9F3C\", \"#F4D837\", \"#51BF9D\", \"#8CBCCB\", \"#9487C0\"]}, \"type\": \"nominal\"}, \"row\": {\"field\": \"Categories\", \"type\": \"nominal\"}, \"tooltip\": [{\"field\": \"Agency\", \"title\": \"Agency\", \"type\": \"nominal\"}, {\"field\": \"Funding Amount\", \"format\": \"$,.2f\", \"title\": \"Funding Amount\", \"type\": \"quantitative\"}], \"x\": {\"axis\": {\"format\": \"$.2s\", \"title\": \"Obligated Funding ($2021)\"}, \"field\": \"Funding Amount\", \"type\": \"quantitative\"}, \"y\": {\"field\": \"Agency\", \"type\": \"nominal\"}}, \"height\": 70, \"width\": 400, \"$schema\": \"https://vega.github.io/schema/vega-lite/v4.17.0.json\", \"datasets\": {\"data-eb57602f26004e72eb71ef6ba2cde49d\": [{\"Agency\": \"Los Angeles County\", \"Categories\": \"Total Requested\", \"Funding Amount\": 455026.4931724137}, {\"Agency\": \"Los Angeles\", \"Categories\": \"Total Requested\", \"Funding Amount\": 1589496.4631589167}, {\"Agency\": \"Los Angeles County Metropolitan Transportation Authority\", \"Categories\": \"Total Requested\", \"Funding Amount\": 20282044.8700523}, {\"Agency\": \"Ventura County\", \"Categories\": \"Total Requested\", \"Funding Amount\": 303731.41386464366}, {\"Agency\": \"Long Beach\", \"Categories\": \"Total Requested\", \"Funding Amount\": 4270633.582858601}, {\"Agency\": \"Los Angeles County\", \"Categories\": \"Fed Requested\", \"Funding Amount\": 333076.0131352605}, {\"Agency\": \"Los Angeles\", \"Categories\": \"Fed Requested\", \"Funding Amount\": 1080695.0700247984}, {\"Agency\": \"Los Angeles County Metropolitan Transportation Authority\", \"Categories\": \"Fed Requested\", \"Funding Amount\": 13347039.258666692}, {\"Agency\": \"Ventura County\", \"Categories\": \"Fed Requested\", \"Funding Amount\": 218793.38075844917}, {\"Agency\": \"Long Beach\", \"Categories\": \"Fed Requested\", \"Funding Amount\": 1179736.0457319405}, {\"Agency\": \"Los Angeles County\", \"Categories\": \"AC Requested\", \"Funding Amount\": 11795.724083483841}, {\"Agency\": \"Los Angeles\", \"Categories\": \"AC Requested\", \"Funding Amount\": 153499.63062125217}, {\"Agency\": \"Los Angeles County Metropolitan Transportation Authority\", \"Categories\": \"AC Requested\", \"Funding Amount\": 0.0}, {\"Agency\": \"Ventura County\", \"Categories\": \"AC Requested\", \"Funding Amount\": 0.0}, {\"Agency\": \"Long Beach\", \"Categories\": \"AC Requested\", \"Funding Amount\": 0.0}]}}, {\"mode\": \"vega-lite\"});\n",
       "</script>"
      ],
      "text/plain": [
       "alt.Chart(...)"
      ]
     },
     "metadata": {},
     "output_type": "display_data"
    },
    {
     "data": {
      "application/vnd.jupyter.widget-view+json": {
       "model_id": "f4c13ef8039347bf939ce39f66b388a5",
       "version_major": 2,
       "version_minor": 0
      },
      "text/plain": [
       "HTML(value='<h3> Top Agencies using Congestion Relief Projects </h3>')"
      ]
     },
     "metadata": {},
     "output_type": "display_data"
    },
    {
     "data": {
      "application/vnd.jupyter.widget-view+json": {
       "model_id": "30acc88cdaa949a29481c903804ae7bb",
       "version_major": 2,
       "version_minor": 0
      },
      "text/plain": [
       "HTML(value='<style type=\"text/css\">\\n#T_e28da th {\\n  text-align: center;\\n}\\n#T_e28da_row0_col0, #T_e28da_row…"
      ]
     },
     "metadata": {},
     "output_type": "display_data"
    },
    {
     "data": {
      "text/html": [
       "\n",
       "<div id=\"altair-viz-43d4cac47c544c94bd46e4243d28e82b\"></div>\n",
       "<script type=\"text/javascript\">\n",
       "  var VEGA_DEBUG = (typeof VEGA_DEBUG == \"undefined\") ? {} : VEGA_DEBUG;\n",
       "  (function(spec, embedOpt){\n",
       "    let outputDiv = document.currentScript.previousElementSibling;\n",
       "    if (outputDiv.id !== \"altair-viz-43d4cac47c544c94bd46e4243d28e82b\") {\n",
       "      outputDiv = document.getElementById(\"altair-viz-43d4cac47c544c94bd46e4243d28e82b\");\n",
       "    }\n",
       "    const paths = {\n",
       "      \"vega\": \"https://cdn.jsdelivr.net/npm//vega@5?noext\",\n",
       "      \"vega-lib\": \"https://cdn.jsdelivr.net/npm//vega-lib?noext\",\n",
       "      \"vega-lite\": \"https://cdn.jsdelivr.net/npm//vega-lite@4.17.0?noext\",\n",
       "      \"vega-embed\": \"https://cdn.jsdelivr.net/npm//vega-embed@6?noext\",\n",
       "    };\n",
       "\n",
       "    function maybeLoadScript(lib, version) {\n",
       "      var key = `${lib.replace(\"-\", \"\")}_version`;\n",
       "      return (VEGA_DEBUG[key] == version) ?\n",
       "        Promise.resolve(paths[lib]) :\n",
       "        new Promise(function(resolve, reject) {\n",
       "          var s = document.createElement('script');\n",
       "          document.getElementsByTagName(\"head\")[0].appendChild(s);\n",
       "          s.async = true;\n",
       "          s.onload = () => {\n",
       "            VEGA_DEBUG[key] = version;\n",
       "            return resolve(paths[lib]);\n",
       "          };\n",
       "          s.onerror = () => reject(`Error loading script: ${paths[lib]}`);\n",
       "          s.src = paths[lib];\n",
       "        });\n",
       "    }\n",
       "\n",
       "    function showError(err) {\n",
       "      outputDiv.innerHTML = `<div class=\"error\" style=\"color:red;\">${err}</div>`;\n",
       "      throw err;\n",
       "    }\n",
       "\n",
       "    function displayChart(vegaEmbed) {\n",
       "      vegaEmbed(outputDiv, spec, embedOpt)\n",
       "        .catch(err => showError(`Javascript Error: ${err.message}<br>This usually means there's a typo in your chart specification. See the javascript console for the full traceback.`));\n",
       "    }\n",
       "\n",
       "    if(typeof define === \"function\" && define.amd) {\n",
       "      requirejs.config({paths});\n",
       "      require([\"vega-embed\"], displayChart, err => showError(`Error loading script: ${err.message}`));\n",
       "    } else {\n",
       "      maybeLoadScript(\"vega\", \"5\")\n",
       "        .then(() => maybeLoadScript(\"vega-lite\", \"4.17.0\"))\n",
       "        .then(() => maybeLoadScript(\"vega-embed\", \"6\"))\n",
       "        .catch(showError)\n",
       "        .then(() => displayChart(vegaEmbed));\n",
       "    }\n",
       "  })({\"config\": {\"view\": {\"continuousWidth\": 400, \"continuousHeight\": 300}}, \"data\": {\"name\": \"data-4922caaab0e50414b992dacfd2156b40\"}, \"mark\": \"bar\", \"encoding\": {\"color\": {\"field\": \"Categories\", \"scale\": {\"range\": [\"#2EA8CE\", \"#EB9F3C\", \"#F4D837\", \"#51BF9D\", \"#8CBCCB\", \"#9487C0\"]}, \"type\": \"nominal\"}, \"row\": {\"field\": \"Categories\", \"type\": \"nominal\"}, \"tooltip\": [{\"field\": \"Agency\", \"title\": \"Agency\", \"type\": \"nominal\"}, {\"field\": \"Funding Amount\", \"format\": \"$,.2f\", \"title\": \"Funding Amount\", \"type\": \"quantitative\"}], \"x\": {\"axis\": {\"format\": \"$.2s\", \"title\": \"Obligated Funding ($2021)\"}, \"field\": \"Funding Amount\", \"type\": \"quantitative\"}, \"y\": {\"field\": \"Agency\", \"type\": \"nominal\"}}, \"height\": 70, \"width\": 400, \"$schema\": \"https://vega.github.io/schema/vega-lite/v4.17.0.json\", \"datasets\": {\"data-4922caaab0e50414b992dacfd2156b40\": [{\"Agency\": \"Ventura County Transportation Commission\", \"Categories\": \"Total Requested\", \"Funding Amount\": 281102.8874310915}, {\"Agency\": \"Ventura County Transportation Commission\", \"Categories\": \"Fed Requested\", \"Funding Amount\": 281102.8874310915}, {\"Agency\": \"Ventura County Transportation Commission\", \"Categories\": \"AC Requested\", \"Funding Amount\": 0.0}]}}, {\"mode\": \"vega-lite\"});\n",
       "</script>"
      ],
      "text/plain": [
       "alt.Chart(...)"
      ]
     },
     "metadata": {},
     "output_type": "display_data"
    }
   ],
   "source": [
    "# create loop:\n",
    "\n",
    "work_cat = ['active_transp', 'transit', 'bridge', 'street','freeway', 'infra_resiliency_er','congestion_relief']\n",
    "\n",
    "for cat in work_cat:\n",
    "    _dla_utils.project_cat(df, cat, district)"
   ]
  },
  {
   "cell_type": "code",
   "execution_count": null,
   "id": "5a50e751-dd3f-498f-9a28-2edc321b534f",
   "metadata": {
    "jupyter": {
     "source_hidden": true
    },
    "papermill": {
     "duration": 0.035975,
     "end_time": "2022-06-02T22:24:11.536685",
     "exception": false,
     "start_time": "2022-06-02T22:24:11.500710",
     "status": "completed"
    },
    "tags": [
     "remove_input"
    ]
   },
   "outputs": [],
   "source": []
  },
  {
   "cell_type": "code",
   "execution_count": null,
   "id": "9ecbddcd-3d8e-4955-9294-5a63a98ca2a7",
   "metadata": {
    "jupyter": {
     "source_hidden": true
    },
    "papermill": {
     "duration": 0.035251,
     "end_time": "2022-06-02T22:24:11.615220",
     "exception": false,
     "start_time": "2022-06-02T22:24:11.579969",
     "status": "completed"
    },
    "tags": [
     "remove_input"
    ]
   },
   "outputs": [],
   "source": []
  }
 ],
 "metadata": {
  "kernelspec": {
   "display_name": "Python 3 (ipykernel)",
   "language": "python",
   "name": "python3"
  },
  "language_info": {
   "codemirror_mode": {
    "name": "ipython",
    "version": 3
   },
   "file_extension": ".py",
   "mimetype": "text/x-python",
   "name": "python",
   "nbconvert_exporter": "python",
   "pygments_lexer": "ipython3",
   "version": "3.9.12"
  },
  "papermill": {
   "default_parameters": {},
   "duration": 18.101719,
   "end_time": "2022-06-02T22:24:14.213050",
   "environment_variables": {},
   "exception": null,
   "input_path": "dla/e76_obligated_funds/reports/dla_district_report.ipynb",
   "output_path": "portfolio/dla/district_7__district_title_district-7-los-angeles/0__dla_district_report__district_7__district_title_district-7-los-angeles.ipynb",
   "parameters": {
    "district": 7,
    "district_title": "District 7 - Los Angeles"
   },
   "start_time": "2022-06-02T22:23:56.111331",
   "version": "2.3.4"
  },
  "widgets": {
   "application/vnd.jupyter.widget-state+json": {
    "state": {
     "0055228240f14b648ffe9c3ae694bcf3": {
      "model_module": "@jupyter-widgets/controls",
      "model_module_version": "1.5.0",
      "model_name": "DescriptionStyleModel",
      "state": {
       "_model_module": "@jupyter-widgets/controls",
       "_model_module_version": "1.5.0",
       "_model_name": "DescriptionStyleModel",
       "_view_count": null,
       "_view_module": "@jupyter-widgets/base",
       "_view_module_version": "1.2.0",
       "_view_name": "StyleView",
       "description_width": ""
      }
     },
     "06fc4e5dabfb4df097f39270dadad0a1": {
      "model_module": "@jupyter-widgets/base",
      "model_module_version": "1.2.0",
      "model_name": "LayoutModel",
      "state": {
       "_model_module": "@jupyter-widgets/base",
       "_model_module_version": "1.2.0",
       "_model_name": "LayoutModel",
       "_view_count": null,
       "_view_module": "@jupyter-widgets/base",
       "_view_module_version": "1.2.0",
       "_view_name": "LayoutView",
       "align_content": null,
       "align_items": null,
       "align_self": null,
       "border": null,
       "bottom": null,
       "display": null,
       "flex": null,
       "flex_flow": null,
       "grid_area": null,
       "grid_auto_columns": null,
       "grid_auto_flow": null,
       "grid_auto_rows": null,
       "grid_column": null,
       "grid_gap": null,
       "grid_row": null,
       "grid_template_areas": null,
       "grid_template_columns": null,
       "grid_template_rows": null,
       "height": null,
       "justify_content": null,
       "justify_items": null,
       "left": null,
       "margin": null,
       "max_height": null,
       "max_width": null,
       "min_height": null,
       "min_width": null,
       "object_fit": null,
       "object_position": null,
       "order": null,
       "overflow": null,
       "overflow_x": null,
       "overflow_y": null,
       "padding": null,
       "right": null,
       "top": null,
       "visibility": null,
       "width": null
      }
     },
     "0c58bb2007a14c9e8df6f8f5dbed0b4e": {
      "model_module": "@jupyter-widgets/controls",
      "model_module_version": "1.5.0",
      "model_name": "HTMLModel",
      "state": {
       "_dom_classes": [],
       "_model_module": "@jupyter-widgets/controls",
       "_model_module_version": "1.5.0",
       "_model_name": "HTMLModel",
       "_view_count": null,
       "_view_module": "@jupyter-widgets/controls",
       "_view_module_version": "1.5.0",
       "_view_name": "HTMLView",
       "description": "",
       "description_tooltip": null,
       "layout": "IPY_MODEL_faf0bf2c3dbe40d593da8dca17c967af",
       "placeholder": "​",
       "style": "IPY_MODEL_ae7d9a05b36e4e0abab3f72a3b5d1837",
       "value": "<h3> Top Agencies using Street Projects </h3>"
      }
     },
     "1411a60a9984425a995d7e7709a80764": {
      "model_module": "@jupyter-widgets/controls",
      "model_module_version": "1.5.0",
      "model_name": "DescriptionStyleModel",
      "state": {
       "_model_module": "@jupyter-widgets/controls",
       "_model_module_version": "1.5.0",
       "_model_name": "DescriptionStyleModel",
       "_view_count": null,
       "_view_module": "@jupyter-widgets/base",
       "_view_module_version": "1.2.0",
       "_view_name": "StyleView",
       "description_width": ""
      }
     },
     "18a0feef384840dda2066857f78a3ef9": {
      "model_module": "@jupyter-widgets/base",
      "model_module_version": "1.2.0",
      "model_name": "LayoutModel",
      "state": {
       "_model_module": "@jupyter-widgets/base",
       "_model_module_version": "1.2.0",
       "_model_name": "LayoutModel",
       "_view_count": null,
       "_view_module": "@jupyter-widgets/base",
       "_view_module_version": "1.2.0",
       "_view_name": "LayoutView",
       "align_content": null,
       "align_items": null,
       "align_self": null,
       "border": null,
       "bottom": null,
       "display": null,
       "flex": null,
       "flex_flow": null,
       "grid_area": null,
       "grid_auto_columns": null,
       "grid_auto_flow": null,
       "grid_auto_rows": null,
       "grid_column": null,
       "grid_gap": null,
       "grid_row": null,
       "grid_template_areas": null,
       "grid_template_columns": null,
       "grid_template_rows": null,
       "height": null,
       "justify_content": null,
       "justify_items": null,
       "left": null,
       "margin": null,
       "max_height": null,
       "max_width": null,
       "min_height": null,
       "min_width": null,
       "object_fit": null,
       "object_position": null,
       "order": null,
       "overflow": null,
       "overflow_x": null,
       "overflow_y": null,
       "padding": null,
       "right": null,
       "top": null,
       "visibility": null,
       "width": null
      }
     },
     "1972e80046564c9d8b2e36ff4d161f18": {
      "model_module": "@jupyter-widgets/base",
      "model_module_version": "1.2.0",
      "model_name": "LayoutModel",
      "state": {
       "_model_module": "@jupyter-widgets/base",
       "_model_module_version": "1.2.0",
       "_model_name": "LayoutModel",
       "_view_count": null,
       "_view_module": "@jupyter-widgets/base",
       "_view_module_version": "1.2.0",
       "_view_name": "LayoutView",
       "align_content": null,
       "align_items": null,
       "align_self": null,
       "border": null,
       "bottom": null,
       "display": null,
       "flex": null,
       "flex_flow": null,
       "grid_area": null,
       "grid_auto_columns": null,
       "grid_auto_flow": null,
       "grid_auto_rows": null,
       "grid_column": null,
       "grid_gap": null,
       "grid_row": null,
       "grid_template_areas": null,
       "grid_template_columns": null,
       "grid_template_rows": null,
       "height": null,
       "justify_content": null,
       "justify_items": null,
       "left": null,
       "margin": null,
       "max_height": null,
       "max_width": null,
       "min_height": null,
       "min_width": null,
       "object_fit": null,
       "object_position": null,
       "order": null,
       "overflow": null,
       "overflow_x": null,
       "overflow_y": null,
       "padding": null,
       "right": null,
       "top": null,
       "visibility": null,
       "width": null
      }
     },
     "231c0212efb84840aba8b5477073e560": {
      "model_module": "@jupyter-widgets/controls",
      "model_module_version": "1.5.0",
      "model_name": "HTMLModel",
      "state": {
       "_dom_classes": [],
       "_model_module": "@jupyter-widgets/controls",
       "_model_module_version": "1.5.0",
       "_model_name": "HTMLModel",
       "_view_count": null,
       "_view_module": "@jupyter-widgets/controls",
       "_view_module_version": "1.5.0",
       "_view_name": "HTMLView",
       "description": "",
       "description_tooltip": null,
       "layout": "IPY_MODEL_2d9b7ecba6df47029749434b384f86b5",
       "placeholder": "​",
       "style": "IPY_MODEL_f8321f89f2e34261962c454ba02d13f3",
       "value": "<h3> Top Agencies using Transit Projects </h3>"
      }
     },
     "25cfa9890bbb4c91b0c0178c620b282b": {
      "model_module": "@jupyter-widgets/controls",
      "model_module_version": "1.5.0",
      "model_name": "DescriptionStyleModel",
      "state": {
       "_model_module": "@jupyter-widgets/controls",
       "_model_module_version": "1.5.0",
       "_model_name": "DescriptionStyleModel",
       "_view_count": null,
       "_view_module": "@jupyter-widgets/base",
       "_view_module_version": "1.2.0",
       "_view_name": "StyleView",
       "description_width": ""
      }
     },
     "2663dd9665d745ddbe6b3e650bc24a22": {
      "model_module": "@jupyter-widgets/controls",
      "model_module_version": "1.5.0",
      "model_name": "HTMLModel",
      "state": {
       "_dom_classes": [],
       "_model_module": "@jupyter-widgets/controls",
       "_model_module_version": "1.5.0",
       "_model_name": "HTMLModel",
       "_view_count": null,
       "_view_module": "@jupyter-widgets/controls",
       "_view_module_version": "1.5.0",
       "_view_name": "HTMLView",
       "description": "",
       "description_tooltip": null,
       "layout": "IPY_MODEL_958d051301c947f6b76eb298911df6b6",
       "placeholder": "​",
       "style": "IPY_MODEL_87d3075df0fb497baa4239433dd0debf",
       "value": "<style type=\"text/css\">\n#T_d6a3b th {\n  text-align: center;\n}\n#T_d6a3b_row0_col0, #T_d6a3b_row0_col1, #T_d6a3b_row0_col2, #T_d6a3b_row1_col0, #T_d6a3b_row1_col1, #T_d6a3b_row1_col2, #T_d6a3b_row2_col0, #T_d6a3b_row2_col1, #T_d6a3b_row2_col2, #T_d6a3b_row3_col0, #T_d6a3b_row3_col1, #T_d6a3b_row3_col2, #T_d6a3b_row4_col0, #T_d6a3b_row4_col1, #T_d6a3b_row4_col2 {\n  text-align: center;\n}\n</style>\n<table id=\"T_d6a3b\">\n  <thead>\n    <tr>\n      <th id=\"T_d6a3b_level0_col0\" class=\"col_heading level0 col0\" >Agency</th>\n      <th id=\"T_d6a3b_level0_col1\" class=\"col_heading level0 col1\" >Transit Obligations</th>\n      <th id=\"T_d6a3b_level0_col2\" class=\"col_heading level0 col2\" >Percent Of Category</th>\n    </tr>\n  </thead>\n  <tbody>\n    <tr>\n      <td id=\"T_d6a3b_row0_col0\" class=\"data row0 col0\" >Los Angeles</td>\n      <td id=\"T_d6a3b_row0_col1\" class=\"data row0 col1\" >35</td>\n      <td id=\"T_d6a3b_row0_col2\" class=\"data row0 col2\" >$39.33</td>\n    </tr>\n    <tr>\n      <td id=\"T_d6a3b_row1_col0\" class=\"data row1 col0\" >Lancaster</td>\n      <td id=\"T_d6a3b_row1_col1\" class=\"data row1 col1\" >6</td>\n      <td id=\"T_d6a3b_row1_col2\" class=\"data row1 col2\" >$6.74</td>\n    </tr>\n    <tr>\n      <td id=\"T_d6a3b_row2_col0\" class=\"data row2 col0\" >Los Angeles County</td>\n      <td id=\"T_d6a3b_row2_col1\" class=\"data row2 col1\" >6</td>\n      <td id=\"T_d6a3b_row2_col2\" class=\"data row2 col2\" >$6.74</td>\n    </tr>\n    <tr>\n      <td id=\"T_d6a3b_row3_col0\" class=\"data row3 col0\" >Los Angeles County Metropolitan Transportation Authority</td>\n      <td id=\"T_d6a3b_row3_col1\" class=\"data row3 col1\" >6</td>\n      <td id=\"T_d6a3b_row3_col2\" class=\"data row3 col2\" >$6.74</td>\n    </tr>\n    <tr>\n      <td id=\"T_d6a3b_row4_col0\" class=\"data row4 col0\" >San Buenaventura</td>\n      <td id=\"T_d6a3b_row4_col1\" class=\"data row4 col1\" >5</td>\n      <td id=\"T_d6a3b_row4_col2\" class=\"data row4 col2\" >$5.62</td>\n    </tr>\n  </tbody>\n</table>\n"
      }
     },
     "2d9b7ecba6df47029749434b384f86b5": {
      "model_module": "@jupyter-widgets/base",
      "model_module_version": "1.2.0",
      "model_name": "LayoutModel",
      "state": {
       "_model_module": "@jupyter-widgets/base",
       "_model_module_version": "1.2.0",
       "_model_name": "LayoutModel",
       "_view_count": null,
       "_view_module": "@jupyter-widgets/base",
       "_view_module_version": "1.2.0",
       "_view_name": "LayoutView",
       "align_content": null,
       "align_items": null,
       "align_self": null,
       "border": null,
       "bottom": null,
       "display": null,
       "flex": null,
       "flex_flow": null,
       "grid_area": null,
       "grid_auto_columns": null,
       "grid_auto_flow": null,
       "grid_auto_rows": null,
       "grid_column": null,
       "grid_gap": null,
       "grid_row": null,
       "grid_template_areas": null,
       "grid_template_columns": null,
       "grid_template_rows": null,
       "height": null,
       "justify_content": null,
       "justify_items": null,
       "left": null,
       "margin": null,
       "max_height": null,
       "max_width": null,
       "min_height": null,
       "min_width": null,
       "object_fit": null,
       "object_position": null,
       "order": null,
       "overflow": null,
       "overflow_x": null,
       "overflow_y": null,
       "padding": null,
       "right": null,
       "top": null,
       "visibility": null,
       "width": null
      }
     },
     "2fb416ed324c4fd88c22deba5c947477": {
      "model_module": "@jupyter-widgets/base",
      "model_module_version": "1.2.0",
      "model_name": "LayoutModel",
      "state": {
       "_model_module": "@jupyter-widgets/base",
       "_model_module_version": "1.2.0",
       "_model_name": "LayoutModel",
       "_view_count": null,
       "_view_module": "@jupyter-widgets/base",
       "_view_module_version": "1.2.0",
       "_view_name": "LayoutView",
       "align_content": null,
       "align_items": null,
       "align_self": null,
       "border": null,
       "bottom": null,
       "display": null,
       "flex": null,
       "flex_flow": null,
       "grid_area": null,
       "grid_auto_columns": null,
       "grid_auto_flow": null,
       "grid_auto_rows": null,
       "grid_column": null,
       "grid_gap": null,
       "grid_row": null,
       "grid_template_areas": null,
       "grid_template_columns": null,
       "grid_template_rows": null,
       "height": null,
       "justify_content": null,
       "justify_items": null,
       "left": null,
       "margin": null,
       "max_height": null,
       "max_width": null,
       "min_height": null,
       "min_width": null,
       "object_fit": null,
       "object_position": null,
       "order": null,
       "overflow": null,
       "overflow_x": null,
       "overflow_y": null,
       "padding": null,
       "right": null,
       "top": null,
       "visibility": null,
       "width": null
      }
     },
     "30acc88cdaa949a29481c903804ae7bb": {
      "model_module": "@jupyter-widgets/controls",
      "model_module_version": "1.5.0",
      "model_name": "HTMLModel",
      "state": {
       "_dom_classes": [],
       "_model_module": "@jupyter-widgets/controls",
       "_model_module_version": "1.5.0",
       "_model_name": "HTMLModel",
       "_view_count": null,
       "_view_module": "@jupyter-widgets/controls",
       "_view_module_version": "1.5.0",
       "_view_name": "HTMLView",
       "description": "",
       "description_tooltip": null,
       "layout": "IPY_MODEL_dee6c8ed80344d418483e1fb4dd45c18",
       "placeholder": "​",
       "style": "IPY_MODEL_6a51c51b5b254285b959769347bf8e94",
       "value": "<style type=\"text/css\">\n#T_e28da th {\n  text-align: center;\n}\n#T_e28da_row0_col0, #T_e28da_row0_col1, #T_e28da_row0_col2 {\n  text-align: center;\n}\n</style>\n<table id=\"T_e28da\">\n  <thead>\n    <tr>\n      <th id=\"T_e28da_level0_col0\" class=\"col_heading level0 col0\" >Agency</th>\n      <th id=\"T_e28da_level0_col1\" class=\"col_heading level0 col1\" >Congestion Relief Obligations</th>\n      <th id=\"T_e28da_level0_col2\" class=\"col_heading level0 col2\" >Percent Of Category</th>\n    </tr>\n  </thead>\n  <tbody>\n    <tr>\n      <td id=\"T_e28da_row0_col0\" class=\"data row0 col0\" >Ventura County Transportation Commission</td>\n      <td id=\"T_e28da_row0_col1\" class=\"data row0 col1\" >10</td>\n      <td id=\"T_e28da_row0_col2\" class=\"data row0 col2\" >$100.00</td>\n    </tr>\n  </tbody>\n</table>\n"
      }
     },
     "35db0c735daf4a4eaef5bc6eae1f499e": {
      "model_module": "@jupyter-widgets/controls",
      "model_module_version": "1.5.0",
      "model_name": "DescriptionStyleModel",
      "state": {
       "_model_module": "@jupyter-widgets/controls",
       "_model_module_version": "1.5.0",
       "_model_name": "DescriptionStyleModel",
       "_view_count": null,
       "_view_module": "@jupyter-widgets/base",
       "_view_module_version": "1.2.0",
       "_view_name": "StyleView",
       "description_width": ""
      }
     },
     "372ad2adc3f143c9bd179f84f11723a5": {
      "model_module": "@jupyter-widgets/controls",
      "model_module_version": "1.5.0",
      "model_name": "HTMLModel",
      "state": {
       "_dom_classes": [],
       "_model_module": "@jupyter-widgets/controls",
       "_model_module_version": "1.5.0",
       "_model_name": "HTMLModel",
       "_view_count": null,
       "_view_module": "@jupyter-widgets/controls",
       "_view_module_version": "1.5.0",
       "_view_name": "HTMLView",
       "description": "",
       "description_tooltip": null,
       "layout": "IPY_MODEL_cd34efe2d3c14ccb9d37c638eb42f7e4",
       "placeholder": "​",
       "style": "IPY_MODEL_f77fe7ff634f4f7781c0c8deb8a339e6",
       "value": "<style type=\"text/css\">\n#T_60edb th {\n  text-align: center;\n}\n#T_60edb_row0_col0, #T_60edb_row0_col1, #T_60edb_row0_col2, #T_60edb_row1_col0, #T_60edb_row1_col1, #T_60edb_row1_col2, #T_60edb_row2_col0, #T_60edb_row2_col1, #T_60edb_row2_col2, #T_60edb_row3_col0, #T_60edb_row3_col1, #T_60edb_row3_col2, #T_60edb_row4_col0, #T_60edb_row4_col1, #T_60edb_row4_col2 {\n  text-align: center;\n}\n</style>\n<table id=\"T_60edb\">\n  <thead>\n    <tr>\n      <th id=\"T_60edb_level0_col0\" class=\"col_heading level0 col0\" >Agency</th>\n      <th id=\"T_60edb_level0_col1\" class=\"col_heading level0 col1\" >Freeway Obligations</th>\n      <th id=\"T_60edb_level0_col2\" class=\"col_heading level0 col2\" >Percent Of Category</th>\n    </tr>\n  </thead>\n  <tbody>\n    <tr>\n      <td id=\"T_60edb_row0_col0\" class=\"data row0 col0\" >Oxnard</td>\n      <td id=\"T_60edb_row0_col1\" class=\"data row0 col1\" >8</td>\n      <td id=\"T_60edb_row0_col2\" class=\"data row0 col2\" >$19.51</td>\n    </tr>\n    <tr>\n      <td id=\"T_60edb_row1_col0\" class=\"data row1 col0\" >Lancaster</td>\n      <td id=\"T_60edb_row1_col1\" class=\"data row1 col1\" >6</td>\n      <td id=\"T_60edb_row1_col2\" class=\"data row1 col2\" >$14.63</td>\n    </tr>\n    <tr>\n      <td id=\"T_60edb_row2_col0\" class=\"data row2 col0\" >Caltrans</td>\n      <td id=\"T_60edb_row2_col1\" class=\"data row2 col1\" >5</td>\n      <td id=\"T_60edb_row2_col2\" class=\"data row2 col2\" >$12.20</td>\n    </tr>\n    <tr>\n      <td id=\"T_60edb_row3_col0\" class=\"data row3 col0\" >Los Angeles County Metropolitan Transportation Authority</td>\n      <td id=\"T_60edb_row3_col1\" class=\"data row3 col1\" >5</td>\n      <td id=\"T_60edb_row3_col2\" class=\"data row3 col2\" >$12.20</td>\n    </tr>\n    <tr>\n      <td id=\"T_60edb_row4_col0\" class=\"data row4 col0\" >Los Angeles</td>\n      <td id=\"T_60edb_row4_col1\" class=\"data row4 col1\" >4</td>\n      <td id=\"T_60edb_row4_col2\" class=\"data row4 col2\" >$9.76</td>\n    </tr>\n  </tbody>\n</table>\n"
      }
     },
     "3b553d1131344f349e003ea72f0979ce": {
      "model_module": "@jupyter-widgets/controls",
      "model_module_version": "1.5.0",
      "model_name": "HTMLModel",
      "state": {
       "_dom_classes": [],
       "_model_module": "@jupyter-widgets/controls",
       "_model_module_version": "1.5.0",
       "_model_name": "HTMLModel",
       "_view_count": null,
       "_view_module": "@jupyter-widgets/controls",
       "_view_module_version": "1.5.0",
       "_view_name": "HTMLView",
       "description": "",
       "description_tooltip": null,
       "layout": "IPY_MODEL_1972e80046564c9d8b2e36ff4d161f18",
       "placeholder": "​",
       "style": "IPY_MODEL_68671addacb8412284c8e9bdeb4d6b70",
       "value": "<h3> Top Agencies using Infrastructure & Emergency Relief Projects </h3>"
      }
     },
     "4715907795534d9b9860b8b9d996e992": {
      "model_module": "@jupyter-widgets/controls",
      "model_module_version": "1.5.0",
      "model_name": "HTMLModel",
      "state": {
       "_dom_classes": [],
       "_model_module": "@jupyter-widgets/controls",
       "_model_module_version": "1.5.0",
       "_model_name": "HTMLModel",
       "_view_count": null,
       "_view_module": "@jupyter-widgets/controls",
       "_view_module_version": "1.5.0",
       "_view_name": "HTMLView",
       "description": "",
       "description_tooltip": null,
       "layout": "IPY_MODEL_acf65ce8c14d42a0b09245456a24e295",
       "placeholder": "​",
       "style": "IPY_MODEL_25cfa9890bbb4c91b0c0178c620b282b",
       "value": "<style type=\"text/css\">\n#T_5339b th {\n  text-align: center;\n}\n#T_5339b_row0_col0, #T_5339b_row0_col1, #T_5339b_row0_col2, #T_5339b_row1_col0, #T_5339b_row1_col1, #T_5339b_row1_col2, #T_5339b_row2_col0, #T_5339b_row2_col1, #T_5339b_row2_col2, #T_5339b_row3_col0, #T_5339b_row3_col1, #T_5339b_row3_col2, #T_5339b_row4_col0, #T_5339b_row4_col1, #T_5339b_row4_col2 {\n  text-align: center;\n}\n</style>\n<table id=\"T_5339b\">\n  <thead>\n    <tr>\n      <th id=\"T_5339b_level0_col0\" class=\"col_heading level0 col0\" >Agency</th>\n      <th id=\"T_5339b_level0_col1\" class=\"col_heading level0 col1\" >Active Transportation Obligations</th>\n      <th id=\"T_5339b_level0_col2\" class=\"col_heading level0 col2\" >Percent Of Category</th>\n    </tr>\n  </thead>\n  <tbody>\n    <tr>\n      <td id=\"T_5339b_row0_col0\" class=\"data row0 col0\" >Los Angeles</td>\n      <td id=\"T_5339b_row0_col1\" class=\"data row0 col1\" >153</td>\n      <td id=\"T_5339b_row0_col2\" class=\"data row0 col2\" >$18.43</td>\n    </tr>\n    <tr>\n      <td id=\"T_5339b_row1_col0\" class=\"data row1 col0\" >Los Angeles County</td>\n      <td id=\"T_5339b_row1_col1\" class=\"data row1 col1\" >96</td>\n      <td id=\"T_5339b_row1_col2\" class=\"data row1 col2\" >$11.57</td>\n    </tr>\n    <tr>\n      <td id=\"T_5339b_row2_col0\" class=\"data row2 col0\" >Ventura County</td>\n      <td id=\"T_5339b_row2_col1\" class=\"data row2 col1\" >54</td>\n      <td id=\"T_5339b_row2_col2\" class=\"data row2 col2\" >$6.51</td>\n    </tr>\n    <tr>\n      <td id=\"T_5339b_row3_col0\" class=\"data row3 col0\" >Long Beach</td>\n      <td id=\"T_5339b_row3_col1\" class=\"data row3 col1\" >40</td>\n      <td id=\"T_5339b_row3_col2\" class=\"data row3 col2\" >$4.82</td>\n    </tr>\n    <tr>\n      <td id=\"T_5339b_row4_col0\" class=\"data row4 col0\" >Oxnard</td>\n      <td id=\"T_5339b_row4_col1\" class=\"data row4 col1\" >31</td>\n      <td id=\"T_5339b_row4_col2\" class=\"data row4 col2\" >$3.73</td>\n    </tr>\n  </tbody>\n</table>\n"
      }
     },
     "4cd16cf39e7746b0ad0dca52dfe88574": {
      "model_module": "@jupyter-widgets/controls",
      "model_module_version": "1.5.0",
      "model_name": "DescriptionStyleModel",
      "state": {
       "_model_module": "@jupyter-widgets/controls",
       "_model_module_version": "1.5.0",
       "_model_name": "DescriptionStyleModel",
       "_view_count": null,
       "_view_module": "@jupyter-widgets/base",
       "_view_module_version": "1.2.0",
       "_view_name": "StyleView",
       "description_width": ""
      }
     },
     "4f4f0a5748a7445f94d006e1376ab787": {
      "model_module": "@jupyter-widgets/controls",
      "model_module_version": "1.5.0",
      "model_name": "DescriptionStyleModel",
      "state": {
       "_model_module": "@jupyter-widgets/controls",
       "_model_module_version": "1.5.0",
       "_model_name": "DescriptionStyleModel",
       "_view_count": null,
       "_view_module": "@jupyter-widgets/base",
       "_view_module_version": "1.2.0",
       "_view_name": "StyleView",
       "description_width": ""
      }
     },
     "4f9ad2bfeffa4924ad68cbabd3243661": {
      "model_module": "@jupyter-widgets/base",
      "model_module_version": "1.2.0",
      "model_name": "LayoutModel",
      "state": {
       "_model_module": "@jupyter-widgets/base",
       "_model_module_version": "1.2.0",
       "_model_name": "LayoutModel",
       "_view_count": null,
       "_view_module": "@jupyter-widgets/base",
       "_view_module_version": "1.2.0",
       "_view_name": "LayoutView",
       "align_content": null,
       "align_items": null,
       "align_self": null,
       "border": null,
       "bottom": null,
       "display": null,
       "flex": null,
       "flex_flow": null,
       "grid_area": null,
       "grid_auto_columns": null,
       "grid_auto_flow": null,
       "grid_auto_rows": null,
       "grid_column": null,
       "grid_gap": null,
       "grid_row": null,
       "grid_template_areas": null,
       "grid_template_columns": null,
       "grid_template_rows": null,
       "height": null,
       "justify_content": null,
       "justify_items": null,
       "left": null,
       "margin": null,
       "max_height": null,
       "max_width": null,
       "min_height": null,
       "min_width": null,
       "object_fit": null,
       "object_position": null,
       "order": null,
       "overflow": null,
       "overflow_x": null,
       "overflow_y": null,
       "padding": null,
       "right": null,
       "top": null,
       "visibility": null,
       "width": null
      }
     },
     "4fd086c168b4419b80ccad80f540a822": {
      "model_module": "@jupyter-widgets/controls",
      "model_module_version": "1.5.0",
      "model_name": "DescriptionStyleModel",
      "state": {
       "_model_module": "@jupyter-widgets/controls",
       "_model_module_version": "1.5.0",
       "_model_name": "DescriptionStyleModel",
       "_view_count": null,
       "_view_module": "@jupyter-widgets/base",
       "_view_module_version": "1.2.0",
       "_view_name": "StyleView",
       "description_width": ""
      }
     },
     "5d70c99864924e8ea71052f232f2d9f2": {
      "model_module": "@jupyter-widgets/controls",
      "model_module_version": "1.5.0",
      "model_name": "HTMLModel",
      "state": {
       "_dom_classes": [],
       "_model_module": "@jupyter-widgets/controls",
       "_model_module_version": "1.5.0",
       "_model_name": "HTMLModel",
       "_view_count": null,
       "_view_module": "@jupyter-widgets/controls",
       "_view_module_version": "1.5.0",
       "_view_name": "HTMLView",
       "description": "",
       "description_tooltip": null,
       "layout": "IPY_MODEL_4f9ad2bfeffa4924ad68cbabd3243661",
       "placeholder": "​",
       "style": "IPY_MODEL_1411a60a9984425a995d7e7709a80764",
       "value": "<h3> Top Agencies using Freeway Projects </h3>"
      }
     },
     "60e64abbbefb4291b7e4a80307173871": {
      "model_module": "@jupyter-widgets/controls",
      "model_module_version": "1.5.0",
      "model_name": "HTMLModel",
      "state": {
       "_dom_classes": [],
       "_model_module": "@jupyter-widgets/controls",
       "_model_module_version": "1.5.0",
       "_model_name": "HTMLModel",
       "_view_count": null,
       "_view_module": "@jupyter-widgets/controls",
       "_view_module_version": "1.5.0",
       "_view_name": "HTMLView",
       "description": "",
       "description_tooltip": null,
       "layout": "IPY_MODEL_06fc4e5dabfb4df097f39270dadad0a1",
       "placeholder": "​",
       "style": "IPY_MODEL_35db0c735daf4a4eaef5bc6eae1f499e",
       "value": "<h3> Top Agencies using Bridge Projects </h3>"
      }
     },
     "63c9fae3445d41b59e59cc965ea0dc53": {
      "model_module": "@jupyter-widgets/controls",
      "model_module_version": "1.5.0",
      "model_name": "HTMLModel",
      "state": {
       "_dom_classes": [],
       "_model_module": "@jupyter-widgets/controls",
       "_model_module_version": "1.5.0",
       "_model_name": "HTMLModel",
       "_view_count": null,
       "_view_module": "@jupyter-widgets/controls",
       "_view_module_version": "1.5.0",
       "_view_name": "HTMLView",
       "description": "",
       "description_tooltip": null,
       "layout": "IPY_MODEL_18a0feef384840dda2066857f78a3ef9",
       "placeholder": "​",
       "style": "IPY_MODEL_0055228240f14b648ffe9c3ae694bcf3",
       "value": "<style type=\"text/css\">\n#T_c2513 th {\n  text-align: center;\n}\n#T_c2513_row0_col0, #T_c2513_row0_col1, #T_c2513_row0_col2, #T_c2513_row1_col0, #T_c2513_row1_col1, #T_c2513_row1_col2, #T_c2513_row2_col0, #T_c2513_row2_col1, #T_c2513_row2_col2, #T_c2513_row3_col0, #T_c2513_row3_col1, #T_c2513_row3_col2, #T_c2513_row4_col0, #T_c2513_row4_col1, #T_c2513_row4_col2 {\n  text-align: center;\n}\n</style>\n<table id=\"T_c2513\">\n  <thead>\n    <tr>\n      <th id=\"T_c2513_level0_col0\" class=\"col_heading level0 col0\" >Agency</th>\n      <th id=\"T_c2513_level0_col1\" class=\"col_heading level0 col1\" >Bridge Obligations</th>\n      <th id=\"T_c2513_level0_col2\" class=\"col_heading level0 col2\" >Percent Of Category</th>\n    </tr>\n  </thead>\n  <tbody>\n    <tr>\n      <td id=\"T_c2513_row0_col0\" class=\"data row0 col0\" >Los Angeles County</td>\n      <td id=\"T_c2513_row0_col1\" class=\"data row0 col1\" >85</td>\n      <td id=\"T_c2513_row0_col2\" class=\"data row0 col2\" >$28.05</td>\n    </tr>\n    <tr>\n      <td id=\"T_c2513_row1_col0\" class=\"data row1 col0\" >Los Angeles</td>\n      <td id=\"T_c2513_row1_col1\" class=\"data row1 col1\" >75</td>\n      <td id=\"T_c2513_row1_col2\" class=\"data row1 col2\" >$24.75</td>\n    </tr>\n    <tr>\n      <td id=\"T_c2513_row2_col0\" class=\"data row2 col0\" >Santa Clarita</td>\n      <td id=\"T_c2513_row2_col1\" class=\"data row2 col1\" >23</td>\n      <td id=\"T_c2513_row2_col2\" class=\"data row2 col2\" >$7.59</td>\n    </tr>\n    <tr>\n      <td id=\"T_c2513_row3_col0\" class=\"data row3 col0\" >Ventura County</td>\n      <td id=\"T_c2513_row3_col1\" class=\"data row3 col1\" >17</td>\n      <td id=\"T_c2513_row3_col2\" class=\"data row3 col2\" >$5.61</td>\n    </tr>\n    <tr>\n      <td id=\"T_c2513_row4_col0\" class=\"data row4 col0\" >Long Beach</td>\n      <td id=\"T_c2513_row4_col1\" class=\"data row4 col1\" >11</td>\n      <td id=\"T_c2513_row4_col2\" class=\"data row4 col2\" >$3.63</td>\n    </tr>\n  </tbody>\n</table>\n"
      }
     },
     "68671addacb8412284c8e9bdeb4d6b70": {
      "model_module": "@jupyter-widgets/controls",
      "model_module_version": "1.5.0",
      "model_name": "DescriptionStyleModel",
      "state": {
       "_model_module": "@jupyter-widgets/controls",
       "_model_module_version": "1.5.0",
       "_model_name": "DescriptionStyleModel",
       "_view_count": null,
       "_view_module": "@jupyter-widgets/base",
       "_view_module_version": "1.2.0",
       "_view_name": "StyleView",
       "description_width": ""
      }
     },
     "6a51c51b5b254285b959769347bf8e94": {
      "model_module": "@jupyter-widgets/controls",
      "model_module_version": "1.5.0",
      "model_name": "DescriptionStyleModel",
      "state": {
       "_model_module": "@jupyter-widgets/controls",
       "_model_module_version": "1.5.0",
       "_model_name": "DescriptionStyleModel",
       "_view_count": null,
       "_view_module": "@jupyter-widgets/base",
       "_view_module_version": "1.2.0",
       "_view_name": "StyleView",
       "description_width": ""
      }
     },
     "6caa34c7da784a4ea543eacd55e1ffac": {
      "model_module": "@jupyter-widgets/base",
      "model_module_version": "1.2.0",
      "model_name": "LayoutModel",
      "state": {
       "_model_module": "@jupyter-widgets/base",
       "_model_module_version": "1.2.0",
       "_model_name": "LayoutModel",
       "_view_count": null,
       "_view_module": "@jupyter-widgets/base",
       "_view_module_version": "1.2.0",
       "_view_name": "LayoutView",
       "align_content": null,
       "align_items": null,
       "align_self": null,
       "border": null,
       "bottom": null,
       "display": null,
       "flex": null,
       "flex_flow": null,
       "grid_area": null,
       "grid_auto_columns": null,
       "grid_auto_flow": null,
       "grid_auto_rows": null,
       "grid_column": null,
       "grid_gap": null,
       "grid_row": null,
       "grid_template_areas": null,
       "grid_template_columns": null,
       "grid_template_rows": null,
       "height": null,
       "justify_content": null,
       "justify_items": null,
       "left": null,
       "margin": null,
       "max_height": null,
       "max_width": null,
       "min_height": null,
       "min_width": null,
       "object_fit": null,
       "object_position": null,
       "order": null,
       "overflow": null,
       "overflow_x": null,
       "overflow_y": null,
       "padding": null,
       "right": null,
       "top": null,
       "visibility": null,
       "width": null
      }
     },
     "87d3075df0fb497baa4239433dd0debf": {
      "model_module": "@jupyter-widgets/controls",
      "model_module_version": "1.5.0",
      "model_name": "DescriptionStyleModel",
      "state": {
       "_model_module": "@jupyter-widgets/controls",
       "_model_module_version": "1.5.0",
       "_model_name": "DescriptionStyleModel",
       "_view_count": null,
       "_view_module": "@jupyter-widgets/base",
       "_view_module_version": "1.2.0",
       "_view_name": "StyleView",
       "description_width": ""
      }
     },
     "89f21f57788f4f54aec00b4e473e3fe7": {
      "model_module": "@jupyter-widgets/base",
      "model_module_version": "1.2.0",
      "model_name": "LayoutModel",
      "state": {
       "_model_module": "@jupyter-widgets/base",
       "_model_module_version": "1.2.0",
       "_model_name": "LayoutModel",
       "_view_count": null,
       "_view_module": "@jupyter-widgets/base",
       "_view_module_version": "1.2.0",
       "_view_name": "LayoutView",
       "align_content": null,
       "align_items": null,
       "align_self": null,
       "border": null,
       "bottom": null,
       "display": null,
       "flex": null,
       "flex_flow": null,
       "grid_area": null,
       "grid_auto_columns": null,
       "grid_auto_flow": null,
       "grid_auto_rows": null,
       "grid_column": null,
       "grid_gap": null,
       "grid_row": null,
       "grid_template_areas": null,
       "grid_template_columns": null,
       "grid_template_rows": null,
       "height": null,
       "justify_content": null,
       "justify_items": null,
       "left": null,
       "margin": null,
       "max_height": null,
       "max_width": null,
       "min_height": null,
       "min_width": null,
       "object_fit": null,
       "object_position": null,
       "order": null,
       "overflow": null,
       "overflow_x": null,
       "overflow_y": null,
       "padding": null,
       "right": null,
       "top": null,
       "visibility": null,
       "width": null
      }
     },
     "958d051301c947f6b76eb298911df6b6": {
      "model_module": "@jupyter-widgets/base",
      "model_module_version": "1.2.0",
      "model_name": "LayoutModel",
      "state": {
       "_model_module": "@jupyter-widgets/base",
       "_model_module_version": "1.2.0",
       "_model_name": "LayoutModel",
       "_view_count": null,
       "_view_module": "@jupyter-widgets/base",
       "_view_module_version": "1.2.0",
       "_view_name": "LayoutView",
       "align_content": null,
       "align_items": null,
       "align_self": null,
       "border": null,
       "bottom": null,
       "display": null,
       "flex": null,
       "flex_flow": null,
       "grid_area": null,
       "grid_auto_columns": null,
       "grid_auto_flow": null,
       "grid_auto_rows": null,
       "grid_column": null,
       "grid_gap": null,
       "grid_row": null,
       "grid_template_areas": null,
       "grid_template_columns": null,
       "grid_template_rows": null,
       "height": null,
       "justify_content": null,
       "justify_items": null,
       "left": null,
       "margin": null,
       "max_height": null,
       "max_width": null,
       "min_height": null,
       "min_width": null,
       "object_fit": null,
       "object_position": null,
       "order": null,
       "overflow": null,
       "overflow_x": null,
       "overflow_y": null,
       "padding": null,
       "right": null,
       "top": null,
       "visibility": null,
       "width": null
      }
     },
     "a4678d67e3a54951b8a859023924432e": {
      "model_module": "@jupyter-widgets/controls",
      "model_module_version": "1.5.0",
      "model_name": "HTMLModel",
      "state": {
       "_dom_classes": [],
       "_model_module": "@jupyter-widgets/controls",
       "_model_module_version": "1.5.0",
       "_model_name": "HTMLModel",
       "_view_count": null,
       "_view_module": "@jupyter-widgets/controls",
       "_view_module_version": "1.5.0",
       "_view_name": "HTMLView",
       "description": "",
       "description_tooltip": null,
       "layout": "IPY_MODEL_89f21f57788f4f54aec00b4e473e3fe7",
       "placeholder": "​",
       "style": "IPY_MODEL_e0042ed1981643aead127b4190d4e412",
       "value": "<h3> Top Agencies using Active Transportation Projects </h3>"
      }
     },
     "ab810f7e1d714a16bd93f512b006926f": {
      "model_module": "@jupyter-widgets/base",
      "model_module_version": "1.2.0",
      "model_name": "LayoutModel",
      "state": {
       "_model_module": "@jupyter-widgets/base",
       "_model_module_version": "1.2.0",
       "_model_name": "LayoutModel",
       "_view_count": null,
       "_view_module": "@jupyter-widgets/base",
       "_view_module_version": "1.2.0",
       "_view_name": "LayoutView",
       "align_content": null,
       "align_items": null,
       "align_self": null,
       "border": null,
       "bottom": null,
       "display": null,
       "flex": null,
       "flex_flow": null,
       "grid_area": null,
       "grid_auto_columns": null,
       "grid_auto_flow": null,
       "grid_auto_rows": null,
       "grid_column": null,
       "grid_gap": null,
       "grid_row": null,
       "grid_template_areas": null,
       "grid_template_columns": null,
       "grid_template_rows": null,
       "height": null,
       "justify_content": null,
       "justify_items": null,
       "left": null,
       "margin": null,
       "max_height": null,
       "max_width": null,
       "min_height": null,
       "min_width": null,
       "object_fit": null,
       "object_position": null,
       "order": null,
       "overflow": null,
       "overflow_x": null,
       "overflow_y": null,
       "padding": null,
       "right": null,
       "top": null,
       "visibility": null,
       "width": null
      }
     },
     "acf65ce8c14d42a0b09245456a24e295": {
      "model_module": "@jupyter-widgets/base",
      "model_module_version": "1.2.0",
      "model_name": "LayoutModel",
      "state": {
       "_model_module": "@jupyter-widgets/base",
       "_model_module_version": "1.2.0",
       "_model_name": "LayoutModel",
       "_view_count": null,
       "_view_module": "@jupyter-widgets/base",
       "_view_module_version": "1.2.0",
       "_view_name": "LayoutView",
       "align_content": null,
       "align_items": null,
       "align_self": null,
       "border": null,
       "bottom": null,
       "display": null,
       "flex": null,
       "flex_flow": null,
       "grid_area": null,
       "grid_auto_columns": null,
       "grid_auto_flow": null,
       "grid_auto_rows": null,
       "grid_column": null,
       "grid_gap": null,
       "grid_row": null,
       "grid_template_areas": null,
       "grid_template_columns": null,
       "grid_template_rows": null,
       "height": null,
       "justify_content": null,
       "justify_items": null,
       "left": null,
       "margin": null,
       "max_height": null,
       "max_width": null,
       "min_height": null,
       "min_width": null,
       "object_fit": null,
       "object_position": null,
       "order": null,
       "overflow": null,
       "overflow_x": null,
       "overflow_y": null,
       "padding": null,
       "right": null,
       "top": null,
       "visibility": null,
       "width": null
      }
     },
     "ae7d9a05b36e4e0abab3f72a3b5d1837": {
      "model_module": "@jupyter-widgets/controls",
      "model_module_version": "1.5.0",
      "model_name": "DescriptionStyleModel",
      "state": {
       "_model_module": "@jupyter-widgets/controls",
       "_model_module_version": "1.5.0",
       "_model_name": "DescriptionStyleModel",
       "_view_count": null,
       "_view_module": "@jupyter-widgets/base",
       "_view_module_version": "1.2.0",
       "_view_name": "StyleView",
       "description_width": ""
      }
     },
     "cd34efe2d3c14ccb9d37c638eb42f7e4": {
      "model_module": "@jupyter-widgets/base",
      "model_module_version": "1.2.0",
      "model_name": "LayoutModel",
      "state": {
       "_model_module": "@jupyter-widgets/base",
       "_model_module_version": "1.2.0",
       "_model_name": "LayoutModel",
       "_view_count": null,
       "_view_module": "@jupyter-widgets/base",
       "_view_module_version": "1.2.0",
       "_view_name": "LayoutView",
       "align_content": null,
       "align_items": null,
       "align_self": null,
       "border": null,
       "bottom": null,
       "display": null,
       "flex": null,
       "flex_flow": null,
       "grid_area": null,
       "grid_auto_columns": null,
       "grid_auto_flow": null,
       "grid_auto_rows": null,
       "grid_column": null,
       "grid_gap": null,
       "grid_row": null,
       "grid_template_areas": null,
       "grid_template_columns": null,
       "grid_template_rows": null,
       "height": null,
       "justify_content": null,
       "justify_items": null,
       "left": null,
       "margin": null,
       "max_height": null,
       "max_width": null,
       "min_height": null,
       "min_width": null,
       "object_fit": null,
       "object_position": null,
       "order": null,
       "overflow": null,
       "overflow_x": null,
       "overflow_y": null,
       "padding": null,
       "right": null,
       "top": null,
       "visibility": null,
       "width": null
      }
     },
     "dee6c8ed80344d418483e1fb4dd45c18": {
      "model_module": "@jupyter-widgets/base",
      "model_module_version": "1.2.0",
      "model_name": "LayoutModel",
      "state": {
       "_model_module": "@jupyter-widgets/base",
       "_model_module_version": "1.2.0",
       "_model_name": "LayoutModel",
       "_view_count": null,
       "_view_module": "@jupyter-widgets/base",
       "_view_module_version": "1.2.0",
       "_view_name": "LayoutView",
       "align_content": null,
       "align_items": null,
       "align_self": null,
       "border": null,
       "bottom": null,
       "display": null,
       "flex": null,
       "flex_flow": null,
       "grid_area": null,
       "grid_auto_columns": null,
       "grid_auto_flow": null,
       "grid_auto_rows": null,
       "grid_column": null,
       "grid_gap": null,
       "grid_row": null,
       "grid_template_areas": null,
       "grid_template_columns": null,
       "grid_template_rows": null,
       "height": null,
       "justify_content": null,
       "justify_items": null,
       "left": null,
       "margin": null,
       "max_height": null,
       "max_width": null,
       "min_height": null,
       "min_width": null,
       "object_fit": null,
       "object_position": null,
       "order": null,
       "overflow": null,
       "overflow_x": null,
       "overflow_y": null,
       "padding": null,
       "right": null,
       "top": null,
       "visibility": null,
       "width": null
      }
     },
     "e0042ed1981643aead127b4190d4e412": {
      "model_module": "@jupyter-widgets/controls",
      "model_module_version": "1.5.0",
      "model_name": "DescriptionStyleModel",
      "state": {
       "_model_module": "@jupyter-widgets/controls",
       "_model_module_version": "1.5.0",
       "_model_name": "DescriptionStyleModel",
       "_view_count": null,
       "_view_module": "@jupyter-widgets/base",
       "_view_module_version": "1.2.0",
       "_view_name": "StyleView",
       "description_width": ""
      }
     },
     "ea3c3b63649f4446a57180bfc20896e0": {
      "model_module": "@jupyter-widgets/controls",
      "model_module_version": "1.5.0",
      "model_name": "HTMLModel",
      "state": {
       "_dom_classes": [],
       "_model_module": "@jupyter-widgets/controls",
       "_model_module_version": "1.5.0",
       "_model_name": "HTMLModel",
       "_view_count": null,
       "_view_module": "@jupyter-widgets/controls",
       "_view_module_version": "1.5.0",
       "_view_name": "HTMLView",
       "description": "",
       "description_tooltip": null,
       "layout": "IPY_MODEL_2fb416ed324c4fd88c22deba5c947477",
       "placeholder": "​",
       "style": "IPY_MODEL_4cd16cf39e7746b0ad0dca52dfe88574",
       "value": "<style type=\"text/css\">\n#T_50a16 th {\n  text-align: center;\n}\n#T_50a16_row0_col0, #T_50a16_row0_col1, #T_50a16_row0_col2, #T_50a16_row1_col0, #T_50a16_row1_col1, #T_50a16_row1_col2, #T_50a16_row2_col0, #T_50a16_row2_col1, #T_50a16_row2_col2, #T_50a16_row3_col0, #T_50a16_row3_col1, #T_50a16_row3_col2, #T_50a16_row4_col0, #T_50a16_row4_col1, #T_50a16_row4_col2 {\n  text-align: center;\n}\n</style>\n<table id=\"T_50a16\">\n  <thead>\n    <tr>\n      <th id=\"T_50a16_level0_col0\" class=\"col_heading level0 col0\" >Agency</th>\n      <th id=\"T_50a16_level0_col1\" class=\"col_heading level0 col1\" >Street Obligations</th>\n      <th id=\"T_50a16_level0_col2\" class=\"col_heading level0 col2\" >Percent Of Category</th>\n    </tr>\n  </thead>\n  <tbody>\n    <tr>\n      <td id=\"T_50a16_row0_col0\" class=\"data row0 col0\" >Los Angeles</td>\n      <td id=\"T_50a16_row0_col1\" class=\"data row0 col1\" >217</td>\n      <td id=\"T_50a16_row0_col2\" class=\"data row0 col2\" >$14.89</td>\n    </tr>\n    <tr>\n      <td id=\"T_50a16_row1_col0\" class=\"data row1 col0\" >Los Angeles County</td>\n      <td id=\"T_50a16_row1_col1\" class=\"data row1 col1\" >189</td>\n      <td id=\"T_50a16_row1_col2\" class=\"data row1 col2\" >$12.97</td>\n    </tr>\n    <tr>\n      <td id=\"T_50a16_row2_col0\" class=\"data row2 col0\" >Ventura County</td>\n      <td id=\"T_50a16_row2_col1\" class=\"data row2 col1\" >65</td>\n      <td id=\"T_50a16_row2_col2\" class=\"data row2 col2\" >$4.46</td>\n    </tr>\n    <tr>\n      <td id=\"T_50a16_row3_col0\" class=\"data row3 col0\" >Downey</td>\n      <td id=\"T_50a16_row3_col1\" class=\"data row3 col1\" >56</td>\n      <td id=\"T_50a16_row3_col2\" class=\"data row3 col2\" >$3.84</td>\n    </tr>\n    <tr>\n      <td id=\"T_50a16_row4_col0\" class=\"data row4 col0\" >Lancaster</td>\n      <td id=\"T_50a16_row4_col1\" class=\"data row4 col1\" >54</td>\n      <td id=\"T_50a16_row4_col2\" class=\"data row4 col2\" >$3.71</td>\n    </tr>\n  </tbody>\n</table>\n"
      }
     },
     "f4c13ef8039347bf939ce39f66b388a5": {
      "model_module": "@jupyter-widgets/controls",
      "model_module_version": "1.5.0",
      "model_name": "HTMLModel",
      "state": {
       "_dom_classes": [],
       "_model_module": "@jupyter-widgets/controls",
       "_model_module_version": "1.5.0",
       "_model_name": "HTMLModel",
       "_view_count": null,
       "_view_module": "@jupyter-widgets/controls",
       "_view_module_version": "1.5.0",
       "_view_name": "HTMLView",
       "description": "",
       "description_tooltip": null,
       "layout": "IPY_MODEL_6caa34c7da784a4ea543eacd55e1ffac",
       "placeholder": "​",
       "style": "IPY_MODEL_4fd086c168b4419b80ccad80f540a822",
       "value": "<h3> Top Agencies using Congestion Relief Projects </h3>"
      }
     },
     "f77fe7ff634f4f7781c0c8deb8a339e6": {
      "model_module": "@jupyter-widgets/controls",
      "model_module_version": "1.5.0",
      "model_name": "DescriptionStyleModel",
      "state": {
       "_model_module": "@jupyter-widgets/controls",
       "_model_module_version": "1.5.0",
       "_model_name": "DescriptionStyleModel",
       "_view_count": null,
       "_view_module": "@jupyter-widgets/base",
       "_view_module_version": "1.2.0",
       "_view_name": "StyleView",
       "description_width": ""
      }
     },
     "f8321f89f2e34261962c454ba02d13f3": {
      "model_module": "@jupyter-widgets/controls",
      "model_module_version": "1.5.0",
      "model_name": "DescriptionStyleModel",
      "state": {
       "_model_module": "@jupyter-widgets/controls",
       "_model_module_version": "1.5.0",
       "_model_name": "DescriptionStyleModel",
       "_view_count": null,
       "_view_module": "@jupyter-widgets/base",
       "_view_module_version": "1.2.0",
       "_view_name": "StyleView",
       "description_width": ""
      }
     },
     "faf0bf2c3dbe40d593da8dca17c967af": {
      "model_module": "@jupyter-widgets/base",
      "model_module_version": "1.2.0",
      "model_name": "LayoutModel",
      "state": {
       "_model_module": "@jupyter-widgets/base",
       "_model_module_version": "1.2.0",
       "_model_name": "LayoutModel",
       "_view_count": null,
       "_view_module": "@jupyter-widgets/base",
       "_view_module_version": "1.2.0",
       "_view_name": "LayoutView",
       "align_content": null,
       "align_items": null,
       "align_self": null,
       "border": null,
       "bottom": null,
       "display": null,
       "flex": null,
       "flex_flow": null,
       "grid_area": null,
       "grid_auto_columns": null,
       "grid_auto_flow": null,
       "grid_auto_rows": null,
       "grid_column": null,
       "grid_gap": null,
       "grid_row": null,
       "grid_template_areas": null,
       "grid_template_columns": null,
       "grid_template_rows": null,
       "height": null,
       "justify_content": null,
       "justify_items": null,
       "left": null,
       "margin": null,
       "max_height": null,
       "max_width": null,
       "min_height": null,
       "min_width": null,
       "object_fit": null,
       "object_position": null,
       "order": null,
       "overflow": null,
       "overflow_x": null,
       "overflow_y": null,
       "padding": null,
       "right": null,
       "top": null,
       "visibility": null,
       "width": null
      }
     },
     "fc9d3c91831f4bacadb8c3c4ebc0b986": {
      "model_module": "@jupyter-widgets/controls",
      "model_module_version": "1.5.0",
      "model_name": "HTMLModel",
      "state": {
       "_dom_classes": [],
       "_model_module": "@jupyter-widgets/controls",
       "_model_module_version": "1.5.0",
       "_model_name": "HTMLModel",
       "_view_count": null,
       "_view_module": "@jupyter-widgets/controls",
       "_view_module_version": "1.5.0",
       "_view_name": "HTMLView",
       "description": "",
       "description_tooltip": null,
       "layout": "IPY_MODEL_ab810f7e1d714a16bd93f512b006926f",
       "placeholder": "​",
       "style": "IPY_MODEL_4f4f0a5748a7445f94d006e1376ab787",
       "value": "<style type=\"text/css\">\n#T_8fbfb th {\n  text-align: center;\n}\n#T_8fbfb_row0_col0, #T_8fbfb_row0_col1, #T_8fbfb_row0_col2, #T_8fbfb_row1_col0, #T_8fbfb_row1_col1, #T_8fbfb_row1_col2, #T_8fbfb_row2_col0, #T_8fbfb_row2_col1, #T_8fbfb_row2_col2, #T_8fbfb_row3_col0, #T_8fbfb_row3_col1, #T_8fbfb_row3_col2, #T_8fbfb_row4_col0, #T_8fbfb_row4_col1, #T_8fbfb_row4_col2 {\n  text-align: center;\n}\n</style>\n<table id=\"T_8fbfb\">\n  <thead>\n    <tr>\n      <th id=\"T_8fbfb_level0_col0\" class=\"col_heading level0 col0\" >Agency</th>\n      <th id=\"T_8fbfb_level0_col1\" class=\"col_heading level0 col1\" >Infrastructure & Emergency Relief Obligations</th>\n      <th id=\"T_8fbfb_level0_col2\" class=\"col_heading level0 col2\" >Percent Of Category</th>\n    </tr>\n  </thead>\n  <tbody>\n    <tr>\n      <td id=\"T_8fbfb_row0_col0\" class=\"data row0 col0\" >Los Angeles County</td>\n      <td id=\"T_8fbfb_row0_col1\" class=\"data row0 col1\" >317</td>\n      <td id=\"T_8fbfb_row0_col2\" class=\"data row0 col2\" >$20.77</td>\n    </tr>\n    <tr>\n      <td id=\"T_8fbfb_row1_col0\" class=\"data row1 col0\" >Los Angeles</td>\n      <td id=\"T_8fbfb_row1_col1\" class=\"data row1 col1\" >222</td>\n      <td id=\"T_8fbfb_row1_col2\" class=\"data row1 col2\" >$14.55</td>\n    </tr>\n    <tr>\n      <td id=\"T_8fbfb_row2_col0\" class=\"data row2 col0\" >Los Angeles County Metropolitan Transportation Authority</td>\n      <td id=\"T_8fbfb_row2_col1\" class=\"data row2 col1\" >74</td>\n      <td id=\"T_8fbfb_row2_col2\" class=\"data row2 col2\" >$4.85</td>\n    </tr>\n    <tr>\n      <td id=\"T_8fbfb_row3_col0\" class=\"data row3 col0\" >Ventura County</td>\n      <td id=\"T_8fbfb_row3_col1\" class=\"data row3 col1\" >55</td>\n      <td id=\"T_8fbfb_row3_col2\" class=\"data row3 col2\" >$3.60</td>\n    </tr>\n    <tr>\n      <td id=\"T_8fbfb_row4_col0\" class=\"data row4 col0\" >Long Beach</td>\n      <td id=\"T_8fbfb_row4_col1\" class=\"data row4 col1\" >54</td>\n      <td id=\"T_8fbfb_row4_col2\" class=\"data row4 col2\" >$3.54</td>\n    </tr>\n  </tbody>\n</table>\n"
      }
     }
    },
    "version_major": 2,
    "version_minor": 0
   }
  }
 },
 "nbformat": 4,
 "nbformat_minor": 5
}