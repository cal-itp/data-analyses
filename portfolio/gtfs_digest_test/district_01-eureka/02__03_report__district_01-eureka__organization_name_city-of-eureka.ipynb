version https://git-lfs.github.com/spec/v1
oid sha256:14cff11caf45e7d0b1379d1e2da8d2c9b324d1c774ea5e9a45908e4ddcaec94a
size 5235083
