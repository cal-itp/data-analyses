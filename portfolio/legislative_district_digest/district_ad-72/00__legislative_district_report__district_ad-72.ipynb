version https://git-lfs.github.com/spec/v1
oid sha256:5a14c75abef59309315333ebf5d34e5b709560055b01cea37163d9da0c760968
size 7760510
