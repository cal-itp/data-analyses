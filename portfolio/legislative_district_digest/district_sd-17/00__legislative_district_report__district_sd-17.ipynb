version https://git-lfs.github.com/spec/v1
oid sha256:ffae47781423c0b210d8dd4a38accf9401176e5bd14db730dfa39c0a5be1b2f0
size 5094638
