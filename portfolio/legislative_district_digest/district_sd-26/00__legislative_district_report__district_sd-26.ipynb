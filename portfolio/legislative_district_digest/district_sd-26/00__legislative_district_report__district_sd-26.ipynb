version https://git-lfs.github.com/spec/v1
oid sha256:7a807130de99e111c7879b8ad57ce8ff52ee1a9279bb4e82e927ae68ebcff998
size 12484320
