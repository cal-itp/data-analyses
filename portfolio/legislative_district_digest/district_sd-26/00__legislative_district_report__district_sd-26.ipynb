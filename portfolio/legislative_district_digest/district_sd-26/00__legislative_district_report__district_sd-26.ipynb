version https://git-lfs.github.com/spec/v1
oid sha256:4e2ccfe5d8e06f1d96b60e59c86fe1af06741714eae1d5eda766f3403620d186
size 12536885
