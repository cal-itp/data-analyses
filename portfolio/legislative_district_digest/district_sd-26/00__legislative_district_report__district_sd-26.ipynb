version https://git-lfs.github.com/spec/v1
oid sha256:170b8bac74b15779699cf435976e80c0df8e39bed732b1ad2118d7ffc1ccdffc
size 12544341
