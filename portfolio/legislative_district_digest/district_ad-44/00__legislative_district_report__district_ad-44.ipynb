version https://git-lfs.github.com/spec/v1
oid sha256:cab6d29051ba03f8549b106ed9bcf1122cf410dc3db761b5f44bb112beac6d5b
size 143011
