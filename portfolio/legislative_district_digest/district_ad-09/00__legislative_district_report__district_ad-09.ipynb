version https://git-lfs.github.com/spec/v1
oid sha256:d707984980d65e6b7fd505d02a4977728f7173c9f8c5544758d97cd9d7c8bc44
size 5597480
