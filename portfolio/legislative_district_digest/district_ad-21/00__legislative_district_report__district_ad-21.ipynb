version https://git-lfs.github.com/spec/v1
oid sha256:c5b85278b08fe213b45d9ffd75423e6f47881d443e910ade6f4be06a640515c6
size 29879788
