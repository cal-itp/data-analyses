version https://git-lfs.github.com/spec/v1
oid sha256:d3945a20227c92d653906cf51ea60065b8e9e7dc609bebfee1723e259e7e6c3e
size 143429
