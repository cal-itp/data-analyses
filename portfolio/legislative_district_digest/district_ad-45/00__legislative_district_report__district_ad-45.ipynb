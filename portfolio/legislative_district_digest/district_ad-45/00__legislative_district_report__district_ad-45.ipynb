version https://git-lfs.github.com/spec/v1
oid sha256:f9f18ee2a18aecb031b3a3b84ebce2b7ca731ad810a70ad71138c6b0bd89adde
size 10133561
