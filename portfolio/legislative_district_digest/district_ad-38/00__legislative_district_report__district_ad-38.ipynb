version https://git-lfs.github.com/spec/v1
oid sha256:258c1c1ff7a31ae9cacbb92b83c232be7a12169896fb8217a7365fb623722a1e
size 5176199
