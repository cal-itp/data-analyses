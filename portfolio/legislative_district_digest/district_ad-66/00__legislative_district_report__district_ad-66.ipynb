version https://git-lfs.github.com/spec/v1
oid sha256:9dfe518d0295b25c2fe5999edc6511db4a4c2ea913b192270214aa476c1ae100
size 9763167
