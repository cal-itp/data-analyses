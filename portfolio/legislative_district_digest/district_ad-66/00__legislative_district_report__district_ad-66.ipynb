version https://git-lfs.github.com/spec/v1
oid sha256:7593da38858dde09d4a42a8c4943bd2da37ebce711188fcaed96bd571886612d
size 8979877
