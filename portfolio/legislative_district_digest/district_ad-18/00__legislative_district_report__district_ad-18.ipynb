version https://git-lfs.github.com/spec/v1
oid sha256:1b23825c4a4e4117bec761bcd1671d761791b209684b767e2a7b5f2922aafd9d
size 138590
