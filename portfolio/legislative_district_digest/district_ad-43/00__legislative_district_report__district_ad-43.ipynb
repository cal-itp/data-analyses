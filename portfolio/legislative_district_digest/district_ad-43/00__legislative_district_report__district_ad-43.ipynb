version https://git-lfs.github.com/spec/v1
oid sha256:bc389a841a60d3d732f4fa5c44aebe6e88d9713e09edb61f30c9cf9d47befe41
size 7604036
