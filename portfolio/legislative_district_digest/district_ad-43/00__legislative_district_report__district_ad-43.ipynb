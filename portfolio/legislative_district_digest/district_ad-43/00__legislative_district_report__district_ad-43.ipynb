version https://git-lfs.github.com/spec/v1
oid sha256:70f0f922d83e46f6705ab617b84767665dbdc6b36828b5d0dda8a22f001597c5
size 7574467
