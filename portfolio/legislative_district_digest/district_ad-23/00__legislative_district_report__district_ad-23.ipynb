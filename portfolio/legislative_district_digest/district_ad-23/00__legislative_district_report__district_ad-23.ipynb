version https://git-lfs.github.com/spec/v1
oid sha256:679626fe10816fe60da2b558ac9f8638b5c48411b7ae86fe93c016c829b5b991
size 15160722
