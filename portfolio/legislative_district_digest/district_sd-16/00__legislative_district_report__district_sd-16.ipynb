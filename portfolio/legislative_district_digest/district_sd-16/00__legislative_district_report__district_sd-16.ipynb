version https://git-lfs.github.com/spec/v1
oid sha256:bfd85ebf5705881ba7dc00fff087106ebff68b30ff3b5a430e8a9d215e0a74c0
size 142511
