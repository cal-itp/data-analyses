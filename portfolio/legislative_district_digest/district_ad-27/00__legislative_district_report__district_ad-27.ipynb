version https://git-lfs.github.com/spec/v1
oid sha256:a4d7ef39f0439df3bd6ada26c7600eed254b51ef4a2530d3a76cbc48e3d7c6e0
size 4553682
