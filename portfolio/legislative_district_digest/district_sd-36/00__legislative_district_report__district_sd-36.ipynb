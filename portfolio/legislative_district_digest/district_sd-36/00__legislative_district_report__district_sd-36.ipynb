version https://git-lfs.github.com/spec/v1
oid sha256:b73f2f9c724699ec992ebfcb5d19b6056826272db5ac7ff07c2cc45f432b3431
size 8030900
