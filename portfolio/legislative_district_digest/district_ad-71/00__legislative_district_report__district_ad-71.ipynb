version https://git-lfs.github.com/spec/v1
oid sha256:b4903c459ab65ac0634c311d068e35d43ffdbc3fcae8661acf4a14f1a83e4876
size 24136169
