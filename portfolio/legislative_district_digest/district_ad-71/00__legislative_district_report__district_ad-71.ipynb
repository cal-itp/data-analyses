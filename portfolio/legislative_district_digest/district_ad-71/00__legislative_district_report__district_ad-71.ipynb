version https://git-lfs.github.com/spec/v1
oid sha256:f9f872564291c205057b81c390357fc6d3453c820c1ac10d82a0aab07cc649ce
size 7429630
