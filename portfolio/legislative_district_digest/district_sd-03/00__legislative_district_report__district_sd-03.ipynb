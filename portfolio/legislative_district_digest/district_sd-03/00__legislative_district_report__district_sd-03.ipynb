version https://git-lfs.github.com/spec/v1
oid sha256:e64e6bd19fa52a89b5258a55b6b3dcba17bacc6b8974d4df570246b83b7397ea
size 10156628
