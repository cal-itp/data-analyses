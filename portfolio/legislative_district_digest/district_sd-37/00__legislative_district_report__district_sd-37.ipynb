version https://git-lfs.github.com/spec/v1
oid sha256:00b5d7fc7f65b5631a110a0ad31dbc0f84c65277cb02d1b585607644fb03ad86
size 7519347
