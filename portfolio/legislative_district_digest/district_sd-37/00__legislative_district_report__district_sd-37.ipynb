version https://git-lfs.github.com/spec/v1
oid sha256:daea64e60b1ddef8a0a9eca4882b020fabfc2b309d24bf71fc4a86ba88c5cd76
size 25085385
