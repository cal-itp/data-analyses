version https://git-lfs.github.com/spec/v1
oid sha256:c72f23c35506c0f6c9d302050f0658fd8309c468f123f6e1c01972732290c9ad
size 11972286
