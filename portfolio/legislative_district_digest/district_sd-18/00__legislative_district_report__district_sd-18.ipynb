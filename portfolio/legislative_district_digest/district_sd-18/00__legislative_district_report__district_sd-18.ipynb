version https://git-lfs.github.com/spec/v1
oid sha256:4cecffb89940bf6925d93dbfe342a1e6a6cfef67c6d7f7bc1a2df7fa4be445e5
size 20623220
