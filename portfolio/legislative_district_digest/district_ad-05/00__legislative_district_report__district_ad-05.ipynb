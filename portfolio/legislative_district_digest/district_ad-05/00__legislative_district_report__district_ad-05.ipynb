version https://git-lfs.github.com/spec/v1
oid sha256:7412ee824b11bfc21793f1b6c8b365b0d606d6b4cc3756380065afa4c7b9f020
size 24646017
