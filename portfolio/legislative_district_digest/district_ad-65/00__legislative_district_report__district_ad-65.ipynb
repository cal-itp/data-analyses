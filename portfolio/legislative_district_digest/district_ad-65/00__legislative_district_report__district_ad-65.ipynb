version https://git-lfs.github.com/spec/v1
oid sha256:ad590d41785303835aee55dba71ec046c299f8f5a34247d77f91de8bc7c9f318
size 28361463
