version https://git-lfs.github.com/spec/v1
oid sha256:3ca8eca000c97bc7298976ef7db9b4ebb100959b7f908629df36c4298229f8ed
size 11034700
