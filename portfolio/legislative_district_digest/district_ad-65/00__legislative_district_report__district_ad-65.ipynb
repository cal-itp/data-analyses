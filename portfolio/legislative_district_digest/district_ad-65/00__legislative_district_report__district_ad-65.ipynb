version https://git-lfs.github.com/spec/v1
oid sha256:9f969afb3dca0605d034e96ab3e4094eb8bd86de75e25861a50de47141b2902b
size 147306
