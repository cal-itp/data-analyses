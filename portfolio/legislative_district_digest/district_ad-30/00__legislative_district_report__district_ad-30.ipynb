version https://git-lfs.github.com/spec/v1
oid sha256:79fec8adbe2762f2492a910233adbda126db804e75975249fc23ba75b1abdef7
size 4735795
