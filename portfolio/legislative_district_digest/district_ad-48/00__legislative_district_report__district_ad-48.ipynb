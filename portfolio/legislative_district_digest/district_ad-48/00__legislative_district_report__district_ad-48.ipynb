version https://git-lfs.github.com/spec/v1
oid sha256:085c432ebda1a2dfd8dd61c1b328a4c627c87557860df20d3473625b97d90c7b
size 7088957
