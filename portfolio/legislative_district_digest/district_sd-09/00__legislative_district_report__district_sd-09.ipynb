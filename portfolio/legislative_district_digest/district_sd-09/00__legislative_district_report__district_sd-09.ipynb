version https://git-lfs.github.com/spec/v1
oid sha256:927b3e139173f51bfc1f45b3f63f2208becdc09bf7e44e33fe1713f102c0e5d6
size 14143116
