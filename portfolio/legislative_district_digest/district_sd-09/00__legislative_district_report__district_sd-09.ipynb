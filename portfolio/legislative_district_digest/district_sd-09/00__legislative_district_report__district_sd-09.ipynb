version https://git-lfs.github.com/spec/v1
oid sha256:e1f5dc6ae0e3bafafff5ea7e4526ea601be922bf8b2a4e832eb0e68d6b600b22
size 31126578
