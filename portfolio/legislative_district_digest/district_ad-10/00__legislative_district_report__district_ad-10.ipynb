version https://git-lfs.github.com/spec/v1
oid sha256:c5df9d7a81652d197ba6fb10d572cfdbb1b814306540f74ef4e1855a3e0b1513
size 124594
