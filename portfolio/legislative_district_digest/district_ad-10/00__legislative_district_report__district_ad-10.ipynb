version https://git-lfs.github.com/spec/v1
oid sha256:f8d14692049342fdf1346668816771dccf42c4adc0f9c5dcadff29c499898456
size 23377004
