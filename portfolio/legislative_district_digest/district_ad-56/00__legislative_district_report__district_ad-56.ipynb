version https://git-lfs.github.com/spec/v1
oid sha256:e1133b426b07ecbd5071e09987cd2ab4d7b7c2c846d0e0012c57d21d6bb3860c
size 24026286
