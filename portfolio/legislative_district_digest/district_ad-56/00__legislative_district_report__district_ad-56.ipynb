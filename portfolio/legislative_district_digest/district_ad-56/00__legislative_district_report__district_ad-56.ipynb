version https://git-lfs.github.com/spec/v1
oid sha256:703f61b485d6b07f5ab6fa54f095f1deec8a4357dbfe48d0ab99a4c628a660e4
size 7205150
