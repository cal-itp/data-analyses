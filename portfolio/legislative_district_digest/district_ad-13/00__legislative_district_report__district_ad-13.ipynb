version https://git-lfs.github.com/spec/v1
oid sha256:7c203b9d30d9bdd6d8abc70c71df0a129bc88f4a8759cf1d92f7ff945544ae05
size 4272992
