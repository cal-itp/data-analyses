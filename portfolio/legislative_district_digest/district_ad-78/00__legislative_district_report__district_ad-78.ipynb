version https://git-lfs.github.com/spec/v1
oid sha256:a4a06556ea354993af793681a842710ca8f34e3afd4e930b31cc3438b2b58732
size 3867779
