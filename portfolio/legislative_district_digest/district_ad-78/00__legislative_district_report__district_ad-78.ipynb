version https://git-lfs.github.com/spec/v1
oid sha256:f2f24b72a8bea4fd94a3f915e83a022f35aff7f2c5c4f35aa29b2b38f793c253
size 3832995
