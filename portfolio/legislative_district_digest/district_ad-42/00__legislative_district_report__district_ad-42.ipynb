version https://git-lfs.github.com/spec/v1
oid sha256:1454d4cf79c34b6ac750f715b3d0125e506542510e0ccf11a021410af8a65665
size 14225113
