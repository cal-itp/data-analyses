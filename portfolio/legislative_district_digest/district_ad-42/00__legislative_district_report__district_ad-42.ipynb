version https://git-lfs.github.com/spec/v1
oid sha256:1b837153e48bd5dd15f9159f32859db44fc80d5dda67ac026602b5e0e1cd4a5b
size 161171
