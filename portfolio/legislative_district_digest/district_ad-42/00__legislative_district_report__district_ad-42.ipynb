version https://git-lfs.github.com/spec/v1
oid sha256:705d733cb3473f55f7ada55efae5bc313c69c9cbd72ecde80fda259d984ad271
size 14197726
