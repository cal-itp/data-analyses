version https://git-lfs.github.com/spec/v1
oid sha256:d879e073c3e6ad7184872b94abed1fc1e3eb3d7acaf6c3cc2489e0f818ec61f4
size 19826758
