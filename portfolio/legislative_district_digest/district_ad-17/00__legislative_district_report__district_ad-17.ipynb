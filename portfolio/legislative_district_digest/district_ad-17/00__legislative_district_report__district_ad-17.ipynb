version https://git-lfs.github.com/spec/v1
oid sha256:72ef5dbc86c538cf176e0fd242bf5eaf3393547b562de354b8cc84f97d8cf550
size 32291053
