version https://git-lfs.github.com/spec/v1
oid sha256:78defbdc110c6e9d1c75b6f3dc71a9749b49e0e912948fbc8f9ced16c054c1c0
size 2641504
