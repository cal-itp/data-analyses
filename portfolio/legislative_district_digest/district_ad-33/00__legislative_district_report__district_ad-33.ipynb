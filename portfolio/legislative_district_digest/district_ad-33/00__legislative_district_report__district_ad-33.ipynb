version https://git-lfs.github.com/spec/v1
oid sha256:25f7bdfb178069eb750ae88dfbe4f2d3f4d0954f56a0a6a388782cea85ec7457
size 20995456
