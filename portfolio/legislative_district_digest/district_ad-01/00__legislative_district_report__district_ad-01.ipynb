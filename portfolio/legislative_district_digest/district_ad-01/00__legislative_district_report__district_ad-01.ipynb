version https://git-lfs.github.com/spec/v1
oid sha256:70a4bd77f75b18a40a72fd520cabdd5d0ba2ee69f6ec64a45ee287df588e098f
size 23361158
