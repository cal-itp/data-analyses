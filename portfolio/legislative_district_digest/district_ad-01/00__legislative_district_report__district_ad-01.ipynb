version https://git-lfs.github.com/spec/v1
oid sha256:408a4cee7d6fc67ca383af76001678be838d6dc0e717832a1e3674f55d8103d4
size 6155469
