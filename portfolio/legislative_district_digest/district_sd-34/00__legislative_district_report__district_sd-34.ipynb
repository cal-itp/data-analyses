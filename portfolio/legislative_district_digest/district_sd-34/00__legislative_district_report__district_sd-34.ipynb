version https://git-lfs.github.com/spec/v1
oid sha256:6afddca4d54803d343a3804fe10892a60d5db43338cc7c362e464b3c8cce8954
size 12131535
