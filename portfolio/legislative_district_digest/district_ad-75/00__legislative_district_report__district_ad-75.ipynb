version https://git-lfs.github.com/spec/v1
oid sha256:4efd163b2dc69ad7c09751dfbe6b8e762a27f50f7a3d4ecde1375523359f44f5
size 20538782
