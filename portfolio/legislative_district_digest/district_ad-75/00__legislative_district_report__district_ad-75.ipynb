version https://git-lfs.github.com/spec/v1
oid sha256:65f29362e1cb01597f69cb0e41e1e76c6ad7fac93936702c428e8ff6bc1b2a9a
size 3832994
