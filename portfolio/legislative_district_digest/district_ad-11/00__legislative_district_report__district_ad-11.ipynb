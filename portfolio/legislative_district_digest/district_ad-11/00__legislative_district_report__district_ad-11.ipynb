version https://git-lfs.github.com/spec/v1
oid sha256:44b527978f66e0fc857d7b59bc0ba3f9a938cf7a998679ec75579fdaafe6c958
size 6910467
