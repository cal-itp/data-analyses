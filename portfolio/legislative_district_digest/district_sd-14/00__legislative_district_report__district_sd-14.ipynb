version https://git-lfs.github.com/spec/v1
oid sha256:8cde7f9a9f18ca27d5a96991d279617633629a13a4eaabc67de87c1f6740c9c8
size 142787
