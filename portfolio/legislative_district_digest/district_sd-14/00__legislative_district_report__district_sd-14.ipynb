version https://git-lfs.github.com/spec/v1
oid sha256:b91cca75d120d401fa47b83d2c0330f20d83c3e2ce6cc82ba69d1a032d621dbc
size 22916744
