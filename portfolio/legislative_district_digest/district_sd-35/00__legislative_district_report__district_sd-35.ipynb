version https://git-lfs.github.com/spec/v1
oid sha256:0df275a78e9ef29021c94acd0b21952c88c8b4cac5e3d7fe351643ec0cabc8ef
size 11948427
