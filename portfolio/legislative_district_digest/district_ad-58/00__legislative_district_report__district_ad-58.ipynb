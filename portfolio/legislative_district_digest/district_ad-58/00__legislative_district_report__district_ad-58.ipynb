version https://git-lfs.github.com/spec/v1
oid sha256:221dd4bf95093aa64caec1c14a42e34164723a9d843a7d1a48ded9dcb2e3bfc5
size 6667837
