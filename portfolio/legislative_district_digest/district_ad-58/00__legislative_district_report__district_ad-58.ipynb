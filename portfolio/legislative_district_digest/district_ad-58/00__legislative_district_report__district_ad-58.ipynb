version https://git-lfs.github.com/spec/v1
oid sha256:23029c2249394401554fa529cd5bd754fd4e092a26b87abe8a2bbc2300583bd6
size 6755686
