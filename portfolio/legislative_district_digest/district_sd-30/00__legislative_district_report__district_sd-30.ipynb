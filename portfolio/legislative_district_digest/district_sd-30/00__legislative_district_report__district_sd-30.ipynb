version https://git-lfs.github.com/spec/v1
oid sha256:a61dc84f70fe0a91b3570b847d832be02290a94c973c4b7010ac27a6d354ef0d
size 10481585
