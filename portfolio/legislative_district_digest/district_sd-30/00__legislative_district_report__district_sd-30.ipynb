version https://git-lfs.github.com/spec/v1
oid sha256:03d1e5ad488b5415b48f34bec1844bbabd8b57c844e04baeb355aab5aa900c0f
size 27353175
