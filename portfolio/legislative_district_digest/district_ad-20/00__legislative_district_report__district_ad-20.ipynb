version https://git-lfs.github.com/spec/v1
oid sha256:5bc1dee124421d86cfdd1c8434595d9c77a223fd48fe110854001878e683722c
size 12741323
