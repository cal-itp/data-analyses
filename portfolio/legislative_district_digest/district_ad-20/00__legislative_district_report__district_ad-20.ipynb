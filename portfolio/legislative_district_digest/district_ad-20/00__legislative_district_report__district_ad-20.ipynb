version https://git-lfs.github.com/spec/v1
oid sha256:d0a50d422d61e6710f906ee09d01a1adeae6dd0d69dc3b6bbf5344e67d6f029f
size 12806830
