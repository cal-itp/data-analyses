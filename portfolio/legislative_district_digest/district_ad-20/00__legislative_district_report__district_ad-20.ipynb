version https://git-lfs.github.com/spec/v1
oid sha256:5d77bf1274c30fd5e97a17d7cb86c5877309a6069fd06168034e8ffdfc5d9d90
size 12799484
