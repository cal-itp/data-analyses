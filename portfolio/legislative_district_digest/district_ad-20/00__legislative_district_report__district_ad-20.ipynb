version https://git-lfs.github.com/spec/v1
oid sha256:ffb19674e5b7a0f3338ed2f26767b56591023259e18c16f9935237dd2113d38f
size 143080
