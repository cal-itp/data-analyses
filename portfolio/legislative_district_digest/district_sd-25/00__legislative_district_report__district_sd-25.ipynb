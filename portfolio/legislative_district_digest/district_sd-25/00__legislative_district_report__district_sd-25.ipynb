version https://git-lfs.github.com/spec/v1
oid sha256:276cd5766101fba5658f63829fbe4ff9c54885fdb3c40c712e3fe34ed84fb646
size 10814818
