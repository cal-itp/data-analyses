version https://git-lfs.github.com/spec/v1
oid sha256:f2a2a056385d9cfa7334e03e1fa69501314811c5611fc7d8724a4ee7ade7b6a8
size 10757603
