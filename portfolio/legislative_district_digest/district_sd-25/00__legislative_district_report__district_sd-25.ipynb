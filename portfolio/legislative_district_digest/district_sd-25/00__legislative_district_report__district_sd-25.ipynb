version https://git-lfs.github.com/spec/v1
oid sha256:118c0ee2703a5824effc28be9c77d8a377f44538dc9df24cf6fcfa79f9a802a5
size 28591383
