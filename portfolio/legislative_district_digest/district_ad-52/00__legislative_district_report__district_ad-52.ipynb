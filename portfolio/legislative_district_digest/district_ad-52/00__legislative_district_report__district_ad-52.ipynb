version https://git-lfs.github.com/spec/v1
oid sha256:5bc13eaa80dae6363fbca7e669bf6a562be52185bdf8b0893e84f12ec9a02de7
size 10042903
