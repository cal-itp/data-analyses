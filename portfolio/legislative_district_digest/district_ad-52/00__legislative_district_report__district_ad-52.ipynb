version https://git-lfs.github.com/spec/v1
oid sha256:fa3eba04603277e0667f298d07ffc0e60d1eb03a40d3f24aac0d9853fa0536c3
size 10037476
