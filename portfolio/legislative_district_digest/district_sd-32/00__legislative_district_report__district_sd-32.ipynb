version https://git-lfs.github.com/spec/v1
oid sha256:358398a034e48394e3802cf22a8a2997f2eb417c110ef93940372dae85f54350
size 24933006
