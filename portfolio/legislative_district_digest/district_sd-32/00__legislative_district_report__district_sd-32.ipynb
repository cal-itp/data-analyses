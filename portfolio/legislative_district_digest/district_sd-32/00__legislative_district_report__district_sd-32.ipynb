version https://git-lfs.github.com/spec/v1
oid sha256:b62764dd3e01f2e348ff6a8a469b23258faf8634843d1ce3e45e0a3e54679565
size 119958
