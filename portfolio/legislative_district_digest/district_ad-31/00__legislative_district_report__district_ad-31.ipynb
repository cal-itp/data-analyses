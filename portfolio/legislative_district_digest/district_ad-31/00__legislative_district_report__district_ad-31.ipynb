version https://git-lfs.github.com/spec/v1
oid sha256:270de883dca88d00b6aa5a9813d9208878e6fce3edb6bb3e327f86ffd78be0de
size 3449516
