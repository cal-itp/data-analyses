version https://git-lfs.github.com/spec/v1
oid sha256:6a5634c143c46dfac97cfbbb3515c290b69b524d6994c94469b3ee0570ad4d1e
size 10359969
