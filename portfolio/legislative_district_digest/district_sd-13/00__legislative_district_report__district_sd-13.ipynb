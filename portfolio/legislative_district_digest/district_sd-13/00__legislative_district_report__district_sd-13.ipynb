version https://git-lfs.github.com/spec/v1
oid sha256:45589c37616ca8f02ae6f23286f72fd5110671624903bff5f9f906b5fdec739f
size 16541059
