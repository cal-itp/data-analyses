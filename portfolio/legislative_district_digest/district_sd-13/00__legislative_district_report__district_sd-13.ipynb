version https://git-lfs.github.com/spec/v1
oid sha256:ed6df39d4ecb67e65c09c3f755993a3fd96780a43e7aa2ab5ffb264861a39a70
size 33988913
