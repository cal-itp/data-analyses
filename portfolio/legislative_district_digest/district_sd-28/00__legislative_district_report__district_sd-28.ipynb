version https://git-lfs.github.com/spec/v1
oid sha256:ae417d283a43950aa6c259a75912c1d06042a51e9acea7c000244a25e13d0289
size 13717244
