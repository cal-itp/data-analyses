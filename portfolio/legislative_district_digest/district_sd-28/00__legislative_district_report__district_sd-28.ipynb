version https://git-lfs.github.com/spec/v1
oid sha256:f7849584db34f941f715d4281d07040788d83e40a8dda411066709ab203c60f1
size 31346484
