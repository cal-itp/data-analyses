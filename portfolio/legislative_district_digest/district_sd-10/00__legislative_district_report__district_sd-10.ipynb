version https://git-lfs.github.com/spec/v1
oid sha256:7d2fcec787e6c4fbef6179617695b069708c4a3e452a74d2cd7a2e486dc27257
size 13620174
