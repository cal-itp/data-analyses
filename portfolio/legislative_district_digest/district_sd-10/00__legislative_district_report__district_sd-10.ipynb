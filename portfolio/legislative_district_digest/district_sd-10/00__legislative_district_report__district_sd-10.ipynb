version https://git-lfs.github.com/spec/v1
oid sha256:3edb2ac00273c439587a85b93e2a79fd3f3e20063d56d6f0a80151ee7c36e1f9
size 30723046
