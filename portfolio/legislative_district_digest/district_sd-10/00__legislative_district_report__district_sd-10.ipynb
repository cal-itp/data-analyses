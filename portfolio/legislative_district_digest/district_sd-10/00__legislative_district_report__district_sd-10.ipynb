version https://git-lfs.github.com/spec/v1
oid sha256:e8b730037cca5fc5bd892a726849170bad5d164c68509575241598515e353d88
size 13627520
