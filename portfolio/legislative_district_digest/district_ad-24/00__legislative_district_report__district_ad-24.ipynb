version https://git-lfs.github.com/spec/v1
oid sha256:cbfbefb74d52cc48af22a92f92cf7dcb1d5d3f05b6de14589672fe7c8ca411e0
size 133956
