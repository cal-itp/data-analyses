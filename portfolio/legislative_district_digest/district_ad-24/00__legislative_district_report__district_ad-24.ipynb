version https://git-lfs.github.com/spec/v1
oid sha256:169fe10ed92372d04c793cc7f528fd0f843fb68506730bfc21f7d88a1352cc88
size 29887945
