version https://git-lfs.github.com/spec/v1
oid sha256:f50c27e0792f042d40bf9be15ec241c9472735adcbcbf97b1208db3cbf9ec0f3
size 12767508
