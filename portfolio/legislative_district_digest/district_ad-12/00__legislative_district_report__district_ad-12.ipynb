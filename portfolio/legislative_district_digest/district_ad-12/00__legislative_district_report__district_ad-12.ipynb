version https://git-lfs.github.com/spec/v1
oid sha256:ba551af0529fa674c941a136b8f23099c716ecc0d5d3565e12e07c258c57106a
size 23756087
