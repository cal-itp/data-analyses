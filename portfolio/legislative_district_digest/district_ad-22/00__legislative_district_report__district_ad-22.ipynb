version https://git-lfs.github.com/spec/v1
oid sha256:fb63fb25cd7c66c70d7f32a68b2e9284b32e63bd8189a2c329f2a0535118834f
size 19892212
