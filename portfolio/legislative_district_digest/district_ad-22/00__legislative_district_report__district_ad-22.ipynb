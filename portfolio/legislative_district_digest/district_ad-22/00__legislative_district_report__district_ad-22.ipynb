version https://git-lfs.github.com/spec/v1
oid sha256:5a6557a77be0238ece0a155167ba73851c7daf92d1c3923eb9f228163945cd16
size 124566
