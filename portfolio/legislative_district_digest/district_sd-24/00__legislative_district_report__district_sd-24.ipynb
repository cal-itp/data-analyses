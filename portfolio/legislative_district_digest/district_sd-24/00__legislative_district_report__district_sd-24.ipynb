version https://git-lfs.github.com/spec/v1
oid sha256:d08f138cad8c34a1c0188361ac452986c9d983455fe45421cc4a5494cb605530
size 197492
