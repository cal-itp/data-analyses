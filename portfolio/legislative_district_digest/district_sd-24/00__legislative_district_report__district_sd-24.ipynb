version https://git-lfs.github.com/spec/v1
oid sha256:e3132c79cdaf54053e49a4a45def92b8d668cfc70b5c8c31f433820d6c86a82d
size 16694176
