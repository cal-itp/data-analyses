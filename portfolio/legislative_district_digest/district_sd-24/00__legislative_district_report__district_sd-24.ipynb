version https://git-lfs.github.com/spec/v1
oid sha256:d133d7da0e419012000b4d2d0f117438343aa3212367d6939fd68bc792d267e9
size 16723002
