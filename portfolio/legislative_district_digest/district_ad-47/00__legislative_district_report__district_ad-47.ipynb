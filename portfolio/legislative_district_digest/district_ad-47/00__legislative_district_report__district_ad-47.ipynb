version https://git-lfs.github.com/spec/v1
oid sha256:79ef790527bf7717a1b8771f2c49bcb50b4132a819d8cb45b3e5f9488c960aa7
size 24073160
