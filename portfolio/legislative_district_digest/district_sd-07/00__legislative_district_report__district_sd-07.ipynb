version https://git-lfs.github.com/spec/v1
oid sha256:264aa1cdbf57dde82d214f884e81d28d12222d76386371213b0b04efb38274c5
size 12804587
