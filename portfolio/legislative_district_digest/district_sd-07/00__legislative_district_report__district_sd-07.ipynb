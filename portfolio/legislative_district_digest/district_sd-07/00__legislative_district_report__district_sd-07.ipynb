version https://git-lfs.github.com/spec/v1
oid sha256:beba7b719f4d9e325c0ef537dcf324a4950dd527026cc5ae33a84aa4e613be38
size 12858622
