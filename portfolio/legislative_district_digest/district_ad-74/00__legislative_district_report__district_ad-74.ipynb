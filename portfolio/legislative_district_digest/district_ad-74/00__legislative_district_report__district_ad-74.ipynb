version https://git-lfs.github.com/spec/v1
oid sha256:d98337f24264e12932d1931508b2494d0cfab1e93a9da6f9acd13c6c94643378
size 4346238
