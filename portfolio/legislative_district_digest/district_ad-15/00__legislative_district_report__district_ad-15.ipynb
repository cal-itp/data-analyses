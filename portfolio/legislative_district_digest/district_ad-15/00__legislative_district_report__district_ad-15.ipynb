version https://git-lfs.github.com/spec/v1
oid sha256:969071c0345f6509f28154dc2ba159c0fa407c5c8e0cb1aa2dbcf82c108eae0f
size 13454723
