version https://git-lfs.github.com/spec/v1
oid sha256:c7d6c22ccb9397f5fc021f7407c00c21709e26a1d1172efc3e683c42255bbe3c
size 10777434
