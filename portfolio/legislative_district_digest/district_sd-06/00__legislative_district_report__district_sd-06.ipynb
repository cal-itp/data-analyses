version https://git-lfs.github.com/spec/v1
oid sha256:268990f0f1e93056d47747aec8874a6b27b9c15c369ca8c604dc804a4eca4fcb
size 10726182
