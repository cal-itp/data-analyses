version https://git-lfs.github.com/spec/v1
oid sha256:fde47548a0a775bc086b433d9abf2a501923c1a4ef6a3bfdbe89c2623abe1872
size 10954524
