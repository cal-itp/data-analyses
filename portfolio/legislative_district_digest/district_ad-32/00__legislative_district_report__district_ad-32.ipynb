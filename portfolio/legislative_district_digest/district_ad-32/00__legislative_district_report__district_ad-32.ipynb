version https://git-lfs.github.com/spec/v1
oid sha256:d20a3f9eae2f13d7207c9eaac4846fdc922db307ee984d80f839a82f389cfcb1
size 137993
