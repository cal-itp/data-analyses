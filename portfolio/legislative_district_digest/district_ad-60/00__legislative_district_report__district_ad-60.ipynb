version https://git-lfs.github.com/spec/v1
oid sha256:2bd26f326a1aa2ff33b677b3b56708de0e5a8c4e0004041e02b0a66d2caef8fc
size 115405
