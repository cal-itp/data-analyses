version https://git-lfs.github.com/spec/v1
oid sha256:e04ff19cd0f55d63e55b32e85cb011d7b6540d4e3f586c11d2b869f1e685fc92
size 23359183
