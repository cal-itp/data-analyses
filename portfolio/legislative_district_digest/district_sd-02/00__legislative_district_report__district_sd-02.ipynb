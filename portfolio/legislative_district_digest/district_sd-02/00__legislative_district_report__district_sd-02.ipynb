version https://git-lfs.github.com/spec/v1
oid sha256:fe88e79a47053d1d90bd82c78d6fae453c61eed8cc3e5618c950875a7fdbd95e
size 9541182
