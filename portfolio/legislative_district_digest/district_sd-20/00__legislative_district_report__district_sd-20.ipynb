version https://git-lfs.github.com/spec/v1
oid sha256:fba0c6749b822ab7d3d0aa3a935ff8bde2a705c37d3811ce4753c7bad9cafa09
size 12402434
