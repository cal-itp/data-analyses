version https://git-lfs.github.com/spec/v1
oid sha256:70d59dcbda0b7d60ae68716cf6c956801fb003e5ef1b5867fb640597620fb9e2
size 12428887
