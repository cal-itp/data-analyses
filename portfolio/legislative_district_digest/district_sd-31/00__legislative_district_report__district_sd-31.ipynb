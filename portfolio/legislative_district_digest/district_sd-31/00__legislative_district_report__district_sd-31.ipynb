version https://git-lfs.github.com/spec/v1
oid sha256:fb2c650350e144cff833addbe84fa3524aaa5fe0bfd622687738a34354e368e2
size 23263817
