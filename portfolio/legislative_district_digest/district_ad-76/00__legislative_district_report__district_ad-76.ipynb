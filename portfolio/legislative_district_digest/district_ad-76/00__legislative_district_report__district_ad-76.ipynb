version https://git-lfs.github.com/spec/v1
oid sha256:a504685d9aee9a4a7542ad9b958900bb252fd37b20aa98ae043c92f56f738796
size 3832989
