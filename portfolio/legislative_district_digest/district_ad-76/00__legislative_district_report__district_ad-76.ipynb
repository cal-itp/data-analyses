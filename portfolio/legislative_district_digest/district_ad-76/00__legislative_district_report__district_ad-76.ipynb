version https://git-lfs.github.com/spec/v1
oid sha256:fd7a4e9bc7f9f20b90990bbb3562daa877dd46741435cda2eb8dbca356c0b326
size 3867782
