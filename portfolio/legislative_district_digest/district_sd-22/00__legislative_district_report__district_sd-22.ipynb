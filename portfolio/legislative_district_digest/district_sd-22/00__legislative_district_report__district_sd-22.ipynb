version https://git-lfs.github.com/spec/v1
oid sha256:c1296d2a6dc0873dfb1a395a3b93cdaae1df1738b0067df37e179f88393bb090
size 12070364
