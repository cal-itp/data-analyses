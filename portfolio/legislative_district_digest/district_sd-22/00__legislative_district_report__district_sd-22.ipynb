version https://git-lfs.github.com/spec/v1
oid sha256:3af32ac595bfa75747a1564fd2c80dd05b56d78f3404461cee0db1bbffcfc38a
size 12075674
