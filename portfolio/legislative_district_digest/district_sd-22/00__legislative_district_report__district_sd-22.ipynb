version https://git-lfs.github.com/spec/v1
oid sha256:cfa144652ceece9a8573b060a5c4418ffe12315402858a4c09931ce336a683a3
size 28879280
