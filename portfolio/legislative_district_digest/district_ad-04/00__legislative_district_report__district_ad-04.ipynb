version https://git-lfs.github.com/spec/v1
oid sha256:4785bbdf92dea5dcf894885cec180028d6eba8107a4a526c3aeadce8ca8d6b4d
size 7670858
