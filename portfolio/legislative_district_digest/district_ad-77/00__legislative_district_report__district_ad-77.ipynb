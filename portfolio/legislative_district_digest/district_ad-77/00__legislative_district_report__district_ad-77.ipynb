version https://git-lfs.github.com/spec/v1
oid sha256:8a6c1cb0141fbaa282834d36f20f186cf5dfec90219c180d076cb65e8511a0aa
size 111007
