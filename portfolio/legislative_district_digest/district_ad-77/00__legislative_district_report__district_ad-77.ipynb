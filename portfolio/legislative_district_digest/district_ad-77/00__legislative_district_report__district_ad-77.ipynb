version https://git-lfs.github.com/spec/v1
oid sha256:68f380d6cec109cd1fc2ba2aeb1aa5685630b8e5b919fb775dc6f1986400ec98
size 3774837
