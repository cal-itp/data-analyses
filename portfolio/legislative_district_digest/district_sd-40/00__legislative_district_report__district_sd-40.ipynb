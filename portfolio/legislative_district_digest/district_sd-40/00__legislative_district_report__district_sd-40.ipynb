version https://git-lfs.github.com/spec/v1
oid sha256:cc5dac5a0eed28f2f7812887a3bd7ac4d5d81d16ebf2452545236a58fcdf7a2a
size 111000
