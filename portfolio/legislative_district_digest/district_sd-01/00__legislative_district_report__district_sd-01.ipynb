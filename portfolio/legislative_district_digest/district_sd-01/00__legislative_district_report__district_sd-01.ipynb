version https://git-lfs.github.com/spec/v1
oid sha256:e0c039f7993573f55e7b15a6279173046c0bfc80f7a7f72ff0bb605460429e27
size 5914760
