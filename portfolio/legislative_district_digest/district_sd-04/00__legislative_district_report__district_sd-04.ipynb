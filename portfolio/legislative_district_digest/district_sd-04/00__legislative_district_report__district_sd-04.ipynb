version https://git-lfs.github.com/spec/v1
oid sha256:a8779c75c4d41f88f49c34d95bfef21bb3b93514264b119a771dea097870039e
size 23905648
