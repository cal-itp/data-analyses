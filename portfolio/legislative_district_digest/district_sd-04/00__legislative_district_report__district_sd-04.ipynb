version https://git-lfs.github.com/spec/v1
oid sha256:84633fdc08ad295ddf8e48ed94f335fe2ebba96e3b9f3c4edd0843d2d9417865
size 6620907
