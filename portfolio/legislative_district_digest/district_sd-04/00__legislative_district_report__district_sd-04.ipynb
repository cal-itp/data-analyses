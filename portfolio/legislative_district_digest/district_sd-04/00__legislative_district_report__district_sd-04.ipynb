version https://git-lfs.github.com/spec/v1
oid sha256:79aaea99c885c2a680491add874762c46247adf0f5ac35a149345b63dea5fcde
size 6515004
