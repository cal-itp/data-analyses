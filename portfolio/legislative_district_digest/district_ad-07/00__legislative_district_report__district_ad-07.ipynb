version https://git-lfs.github.com/spec/v1
oid sha256:b1609237693eaa0622d334bdb1d801216f07c885f242d23164c511c8f788dbfe
size 25326401
