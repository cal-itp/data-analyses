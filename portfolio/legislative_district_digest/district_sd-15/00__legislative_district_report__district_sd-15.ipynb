version https://git-lfs.github.com/spec/v1
oid sha256:dc09222dba88b618677b99bf387f699767056dd145158b17a9b4d200e8218f8c
size 8043679
