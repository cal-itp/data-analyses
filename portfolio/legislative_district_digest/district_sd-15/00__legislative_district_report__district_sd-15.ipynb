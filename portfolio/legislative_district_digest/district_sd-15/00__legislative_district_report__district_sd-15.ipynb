version https://git-lfs.github.com/spec/v1
oid sha256:d57d55f2ee5520904bd915a61841c050d6d1ced729d60dab2326f0a384ad4b5d
size 6472973
