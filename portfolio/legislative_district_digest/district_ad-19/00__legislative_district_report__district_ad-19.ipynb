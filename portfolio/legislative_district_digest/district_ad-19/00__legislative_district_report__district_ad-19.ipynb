version https://git-lfs.github.com/spec/v1
oid sha256:823ba0e70bc7e4293c2ffe964daf51843a5fa83dc52d9e3222fdb4f2f2c4082a
size 6874188
