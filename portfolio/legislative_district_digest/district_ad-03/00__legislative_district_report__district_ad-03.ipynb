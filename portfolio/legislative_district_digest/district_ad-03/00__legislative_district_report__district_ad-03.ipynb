version https://git-lfs.github.com/spec/v1
oid sha256:44928d0361cf8c98ac66568eab8da4eecc4a1c07585a76c8665929e15799ae65
size 128927
