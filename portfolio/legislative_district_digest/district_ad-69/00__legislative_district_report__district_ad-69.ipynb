version https://git-lfs.github.com/spec/v1
oid sha256:50d711c02a60fb9942a2cfaf872fea860469b0b7af82b6d46cddb41ca0f2fd02
size 10710014
