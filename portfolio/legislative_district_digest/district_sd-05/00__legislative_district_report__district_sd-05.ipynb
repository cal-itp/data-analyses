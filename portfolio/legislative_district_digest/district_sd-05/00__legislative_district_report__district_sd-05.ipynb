version https://git-lfs.github.com/spec/v1
oid sha256:6c59071c560db020bf671083b2cbf842ffc378d61dbe25a01825b873ccd6d375
size 15153706
