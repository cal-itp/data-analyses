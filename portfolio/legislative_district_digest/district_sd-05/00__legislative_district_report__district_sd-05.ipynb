version https://git-lfs.github.com/spec/v1
oid sha256:d4757335ae0aa9ff8b6ffd6c6ac3e8d2c345ef55ebdbd7f39aa19e1b9e285bd9
size 15240123
