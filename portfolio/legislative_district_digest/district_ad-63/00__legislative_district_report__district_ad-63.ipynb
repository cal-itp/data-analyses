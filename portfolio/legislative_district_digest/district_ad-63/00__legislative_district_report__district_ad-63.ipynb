version https://git-lfs.github.com/spec/v1
oid sha256:a84a969975dcd448efefba8e71a844884846616b7771fee9c7363de7e5b53d18
size 110794
