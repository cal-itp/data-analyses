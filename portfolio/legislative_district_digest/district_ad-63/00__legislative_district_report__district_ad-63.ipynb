version https://git-lfs.github.com/spec/v1
oid sha256:245747ca580333aa33ec41e7e4b84a4c0d4bc6b3b8c87a6137f9f5c8da6032fa
size 22369648
