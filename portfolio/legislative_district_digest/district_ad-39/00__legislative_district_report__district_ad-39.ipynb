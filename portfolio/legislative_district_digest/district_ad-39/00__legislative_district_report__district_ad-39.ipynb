version https://git-lfs.github.com/spec/v1
oid sha256:f50ad433187d0cd1f39c08280261fa2b5037e1f1c73612744d655b539ec86ac7
size 22787806
