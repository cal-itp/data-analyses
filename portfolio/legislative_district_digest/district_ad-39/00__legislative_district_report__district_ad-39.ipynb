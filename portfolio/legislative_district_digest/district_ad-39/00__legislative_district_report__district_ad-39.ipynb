version https://git-lfs.github.com/spec/v1
oid sha256:3a22a12ef7e33736eb33b02a5f0cf55662a6be23f9057e7f98ec7351d0c7e0fe
size 120137
