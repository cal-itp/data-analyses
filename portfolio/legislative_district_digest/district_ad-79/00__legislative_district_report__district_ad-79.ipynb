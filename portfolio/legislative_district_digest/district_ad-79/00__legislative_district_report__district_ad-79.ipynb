version https://git-lfs.github.com/spec/v1
oid sha256:4d46f90ac0cb1f709bdd5206e133280a1e24f07e5b11f19a168f1815a21f4945
size 19826757
