version https://git-lfs.github.com/spec/v1
oid sha256:12f09396e44fed975386ea1b484533e13db21bdaddd9c6e61870a8e099bd2c5a
size 3186934
