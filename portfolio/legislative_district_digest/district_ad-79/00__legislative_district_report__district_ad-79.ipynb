version https://git-lfs.github.com/spec/v1
oid sha256:a93d50bbabc995fc483de9a6d13fd38416c879959be6a8c4655e8e1b1602382d
size 3098865
