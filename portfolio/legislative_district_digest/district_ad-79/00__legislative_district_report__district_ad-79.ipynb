version https://git-lfs.github.com/spec/v1
oid sha256:7465634b8d3d3fd4b06c64e331dce1b192365f08d98e966c774f483faec5baf8
size 102021
