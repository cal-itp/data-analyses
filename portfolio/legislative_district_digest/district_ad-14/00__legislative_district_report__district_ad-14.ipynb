version https://git-lfs.github.com/spec/v1
oid sha256:a103e8cf27cfbab8ab30a39a75a97949b0408a334d440e03f8cc019d30a23aa0
size 29869478
