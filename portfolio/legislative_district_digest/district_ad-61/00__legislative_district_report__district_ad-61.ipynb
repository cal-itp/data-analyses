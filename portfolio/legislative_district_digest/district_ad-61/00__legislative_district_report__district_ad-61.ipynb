version https://git-lfs.github.com/spec/v1
oid sha256:5272994482ddd2074a87c3bcc9ec48b4de32db1288352a4b82fc3e099db034a6
size 11550977
