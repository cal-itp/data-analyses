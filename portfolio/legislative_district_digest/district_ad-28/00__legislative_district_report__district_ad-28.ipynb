version https://git-lfs.github.com/spec/v1
oid sha256:75afdc76a56ff40aa152b7791428ff8886e8d5e4beb567bd465e52037efac4be
size 5575323
