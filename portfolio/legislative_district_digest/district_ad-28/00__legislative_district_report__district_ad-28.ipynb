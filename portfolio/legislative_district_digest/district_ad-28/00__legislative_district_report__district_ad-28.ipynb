version https://git-lfs.github.com/spec/v1
oid sha256:6628801024f4dee0c8af60bec7b6ab187bca74feecb607bf84e324562ff4ecab
size 7146260
