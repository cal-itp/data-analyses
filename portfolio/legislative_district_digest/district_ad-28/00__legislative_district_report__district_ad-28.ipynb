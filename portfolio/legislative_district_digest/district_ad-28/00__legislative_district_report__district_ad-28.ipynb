version https://git-lfs.github.com/spec/v1
oid sha256:f2c1cc140af10844efd4024fda1277009449341ee9692ded9a5b91de96ef2a77
size 5517167
