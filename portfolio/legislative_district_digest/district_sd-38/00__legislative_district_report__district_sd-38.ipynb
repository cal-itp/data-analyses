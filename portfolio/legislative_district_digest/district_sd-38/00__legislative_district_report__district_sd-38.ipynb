version https://git-lfs.github.com/spec/v1
oid sha256:4d44b9b920568a7c06bc38996731b42f727601760c98a1955508e7fd0fa6fbdc
size 5524694
