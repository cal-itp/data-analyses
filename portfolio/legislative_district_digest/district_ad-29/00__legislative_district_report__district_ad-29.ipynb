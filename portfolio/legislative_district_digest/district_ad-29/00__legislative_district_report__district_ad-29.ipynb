version https://git-lfs.github.com/spec/v1
oid sha256:aef5914f50251f9e008465e013ba7ab79934dab60a51cf7efc472ce427be00c3
size 6433583
