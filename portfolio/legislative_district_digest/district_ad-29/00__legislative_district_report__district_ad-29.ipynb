version https://git-lfs.github.com/spec/v1
oid sha256:319182e76b0b62ca0003b0acf5dd7411ad5b2ed60c65a631f5fbbc6b68ac7004
size 6397090
