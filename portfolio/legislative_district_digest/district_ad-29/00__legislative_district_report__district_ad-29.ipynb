version https://git-lfs.github.com/spec/v1
oid sha256:08e498da28bc6b9fdd2571e89950bef6f2a4e1b20d53d9f26e624df1342d1aff
size 8004405
