version https://git-lfs.github.com/spec/v1
oid sha256:be5fd7ff96e7ca0f88cda123f40a2206689322d3c98ee6b495ccc1ca1dc55529
size 20271566
