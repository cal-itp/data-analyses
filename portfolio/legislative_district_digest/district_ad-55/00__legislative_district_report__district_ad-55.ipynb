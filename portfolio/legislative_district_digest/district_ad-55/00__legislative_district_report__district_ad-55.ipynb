version https://git-lfs.github.com/spec/v1
oid sha256:efb1a3a83cfdc392fb88842278161cf633a0e3312f35a65bfb3919c0a27ae5b8
size 10812706
