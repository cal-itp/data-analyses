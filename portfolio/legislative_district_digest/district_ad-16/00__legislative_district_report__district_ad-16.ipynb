version https://git-lfs.github.com/spec/v1
oid sha256:17dbdab0a8bf2eb3f5c13ce39904567bde03a56c7d23088b2d0a47e305a36a58
size 32039775
