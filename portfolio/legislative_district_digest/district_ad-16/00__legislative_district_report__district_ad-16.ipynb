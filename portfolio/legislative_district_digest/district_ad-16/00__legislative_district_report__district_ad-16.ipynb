version https://git-lfs.github.com/spec/v1
oid sha256:d080b448e1d95db79d6044ef14c52dc9063185bc6b91cec720ed6dbc02d01590
size 138451
