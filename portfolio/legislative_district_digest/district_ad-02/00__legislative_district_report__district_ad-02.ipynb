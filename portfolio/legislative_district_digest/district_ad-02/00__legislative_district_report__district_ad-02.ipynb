version https://git-lfs.github.com/spec/v1
oid sha256:b85db08510ef46bf3105256778c5519a8075ece0c0bafdd1c6d8e48407e94c30
size 24261389
