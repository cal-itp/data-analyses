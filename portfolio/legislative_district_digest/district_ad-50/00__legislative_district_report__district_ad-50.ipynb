version https://git-lfs.github.com/spec/v1
oid sha256:803da2c15176f0fa6dac7e5278e74e0b58043a116099a9958bba7befa8c23a00
size 9748731
