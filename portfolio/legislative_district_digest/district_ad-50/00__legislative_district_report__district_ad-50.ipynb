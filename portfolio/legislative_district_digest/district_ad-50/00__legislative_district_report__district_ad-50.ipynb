version https://git-lfs.github.com/spec/v1
oid sha256:c8cb117480ba98989f3c24f791cb11f3e3268f211cdfd42047be5ab60f1b44c9
size 124439
