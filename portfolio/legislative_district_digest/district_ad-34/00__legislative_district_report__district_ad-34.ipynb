version https://git-lfs.github.com/spec/v1
oid sha256:d8518e2f459f3f88f63fd3d4e0c994f8fd51e7559d244b6f021ea50c462700b5
size 142822
