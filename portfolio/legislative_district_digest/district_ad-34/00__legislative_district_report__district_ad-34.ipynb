version https://git-lfs.github.com/spec/v1
oid sha256:15f513957145714cb6ce46afe9d8e518fc5f31d54949b86e8bbe535eed89cc59
size 25222454
