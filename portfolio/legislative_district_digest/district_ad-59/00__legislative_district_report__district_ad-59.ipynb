version https://git-lfs.github.com/spec/v1
oid sha256:7e60aa586bec6dfe164dfdc497df7632575fedb09ad53d2680288d4508ff4fc4
size 9532331
