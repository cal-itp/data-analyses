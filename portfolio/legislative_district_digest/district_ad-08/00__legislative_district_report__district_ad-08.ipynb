version https://git-lfs.github.com/spec/v1
oid sha256:24027ddfe3f33b6c3d3b38fb14e659ab656d68ed3dd82b1654b5cf010dd409f1
size 3821223
