version https://git-lfs.github.com/spec/v1
oid sha256:8c314cbb61d53e5fbc3560eb4b332a7d2cd96b11f69a1263894589fb495b6ec5
size 3943008
