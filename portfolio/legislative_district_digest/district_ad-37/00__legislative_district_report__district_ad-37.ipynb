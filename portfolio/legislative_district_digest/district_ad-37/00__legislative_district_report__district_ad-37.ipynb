version https://git-lfs.github.com/spec/v1
oid sha256:611a74b0201f48e38f86cdd2998f2c5371ed600c0523e4c5d960b7299c9fd949
size 7302961
