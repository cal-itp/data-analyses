version https://git-lfs.github.com/spec/v1
oid sha256:f67eece69840e70c742bd75d7ed99a02382b851f738243e25fd1df635f8e9ace
size 235402
