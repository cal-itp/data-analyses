version https://git-lfs.github.com/spec/v1
oid sha256:adf65d064209a4cda305149e3666bcf88be810e798db98a391ceb79454fb96da
size 295573
