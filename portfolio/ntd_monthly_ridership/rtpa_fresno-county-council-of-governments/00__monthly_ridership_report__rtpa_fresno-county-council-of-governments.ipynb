version https://git-lfs.github.com/spec/v1
oid sha256:2ba2bc87d06496b2c4a034cc796a8b1ffecee585f296cd288ae3c6b08d092e40
size 270037
