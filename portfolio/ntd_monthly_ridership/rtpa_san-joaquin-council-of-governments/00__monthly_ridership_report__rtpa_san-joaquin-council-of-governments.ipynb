version https://git-lfs.github.com/spec/v1
oid sha256:3cf105fa7eea1644e9d0e8f7d6869eccf5d698394b333a8d8a7dc0154ff995b2
size 547511
