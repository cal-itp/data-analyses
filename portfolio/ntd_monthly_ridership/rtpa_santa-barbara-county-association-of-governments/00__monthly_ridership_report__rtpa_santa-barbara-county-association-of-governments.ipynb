version https://git-lfs.github.com/spec/v1
oid sha256:c366fee4be7276e3ca7283ed4a62c5456fb4a0402250200d46fe5c0e9d78e780
size 298076
