version https://git-lfs.github.com/spec/v1
oid sha256:a4916f2341f58b9ad8243400e1e7c1e1dde1b70e2e9a051a22ad99c44a27e59b
size 688226
