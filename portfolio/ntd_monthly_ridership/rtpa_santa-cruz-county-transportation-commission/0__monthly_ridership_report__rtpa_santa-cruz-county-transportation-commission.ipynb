version https://git-lfs.github.com/spec/v1
oid sha256:a7f1c249ac78dd98c615b83117164a2b8a86f07f91ea7a7d86c90be90cadffcd
size 143660
