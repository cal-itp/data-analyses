version https://git-lfs.github.com/spec/v1
oid sha256:f0c044c80e2450184b53840b1b9b4af2e51c281650c4db689d270e994d1b86a4
size 317809
