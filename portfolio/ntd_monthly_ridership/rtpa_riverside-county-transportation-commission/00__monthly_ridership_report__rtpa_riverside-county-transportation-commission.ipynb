version https://git-lfs.github.com/spec/v1
oid sha256:5c1cfa879888a368e15922263dc06f82c159b5d6f2fda2558f682fbad98b0e38
size 527560
