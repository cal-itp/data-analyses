version https://git-lfs.github.com/spec/v1
oid sha256:6f06403bc2c6bf83fa677472097edda9cc0f4581deaf4141e06f81323387d7ec
size 623683
