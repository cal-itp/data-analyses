version https://git-lfs.github.com/spec/v1
oid sha256:38746e9f9365fda3ebfca6a4d0e84cf8b70689aba4a4500d3ba9bdebea96b9ec
size 239298
