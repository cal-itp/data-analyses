version https://git-lfs.github.com/spec/v1
oid sha256:61aeee4e31799646adc792a2349a9924391ecf623bb7c70cf1ce4ea301f64607
size 329229
