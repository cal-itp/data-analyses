version https://git-lfs.github.com/spec/v1
oid sha256:1acd2c4f90d819bdffa5f83d50c79f42518b7584db8411a58270dffe81389080
size 309805
