version https://git-lfs.github.com/spec/v1
oid sha256:de85c6c1c0dd1a20fa2b869f28901ae6be2277b14f46294ab8801d46b1daa178
size 270204
