version https://git-lfs.github.com/spec/v1
oid sha256:5a40efbdea5f61bce50371e76f1cec969abf612d0983dc79cf384c2923e1b4e8
size 398244
