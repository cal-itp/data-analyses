version https://git-lfs.github.com/spec/v1
oid sha256:87861b121c9cdd11b4cdf73ebb7c3a971cc336d02c816aa4667898ec094f4cc0
size 320045
