version https://git-lfs.github.com/spec/v1
oid sha256:fcec6c5e43f03e5d9ffee7f1b1e7d7b498202e9ecad720ba4dba9fe92087f84e
size 382064
