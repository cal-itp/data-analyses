version https://git-lfs.github.com/spec/v1
oid sha256:be4ecfb0f8bca6915e1d61e14be10d486580a27863ac7bc36285222e9be82032
size 552888
