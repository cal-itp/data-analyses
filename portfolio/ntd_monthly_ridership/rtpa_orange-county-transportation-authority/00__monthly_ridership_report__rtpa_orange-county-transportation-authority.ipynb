version https://git-lfs.github.com/spec/v1
oid sha256:553be45b1dc4c18f39800efe9960b6d44e6beb2d813c61e92a6c95409a4ec2c6
size 334699
