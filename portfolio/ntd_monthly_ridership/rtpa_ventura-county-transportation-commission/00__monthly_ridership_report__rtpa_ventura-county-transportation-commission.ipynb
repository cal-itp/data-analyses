version https://git-lfs.github.com/spec/v1
oid sha256:925a08adc8115e4057ef0c9ec61da9bbd9cf45bf25498e113c371378a7a4bc85
size 381172
