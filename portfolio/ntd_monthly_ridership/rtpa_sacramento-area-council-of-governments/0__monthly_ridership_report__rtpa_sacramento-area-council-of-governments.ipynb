version https://git-lfs.github.com/spec/v1
oid sha256:c1e2de3855c4cbec6cc5172c518073154c8348bd8651c163ee591028ac79825e
size 307606
