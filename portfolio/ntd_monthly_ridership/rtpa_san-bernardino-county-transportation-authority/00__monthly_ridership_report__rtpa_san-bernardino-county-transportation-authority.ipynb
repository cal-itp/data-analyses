version https://git-lfs.github.com/spec/v1
oid sha256:00105e088e248eba37626950cd0bf231b0a2c878ac68e5e5ddabe5b09c3263c7
size 543970
