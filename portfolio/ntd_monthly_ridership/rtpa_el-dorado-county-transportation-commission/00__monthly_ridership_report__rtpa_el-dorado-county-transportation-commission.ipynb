version https://git-lfs.github.com/spec/v1
oid sha256:7dca2cda41c38e6e17eb262cb707eaccf2d659e87e9889204f7172b5fe13f7b0
size 197673
