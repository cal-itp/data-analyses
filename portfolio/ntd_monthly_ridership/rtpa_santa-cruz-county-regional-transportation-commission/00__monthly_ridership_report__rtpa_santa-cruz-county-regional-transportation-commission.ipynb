version https://git-lfs.github.com/spec/v1
oid sha256:39d1cb4a56abe4a78d29d0d41aab41341afdf8d1230a4b95f05e1f7a3f878e50
size 390616
