version https://git-lfs.github.com/spec/v1
oid sha256:dca9520d7fe2344d00428bb0bee9c8708da6dce59fe9742ea5eab816773ae505
size 307693
