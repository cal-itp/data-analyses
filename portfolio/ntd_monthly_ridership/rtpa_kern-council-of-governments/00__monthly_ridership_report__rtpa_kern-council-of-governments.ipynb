version https://git-lfs.github.com/spec/v1
oid sha256:2cd313bd3458742acd2f76ed62551c59816f5069ea13294032c6237bc7cafe7f
size 296579
