version https://git-lfs.github.com/spec/v1
oid sha256:aa7e98c550c59b873d88edeaadbd02f1e23f013eb686bba4b83b7a1be89e91f2
size 402862
