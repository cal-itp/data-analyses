version https://git-lfs.github.com/spec/v1
oid sha256:da50dc94ee657169780e60f108d7ef14a81a367210603dc957be2506a2c27b24
size 387658
