version https://git-lfs.github.com/spec/v1
oid sha256:525401aad5f2ec7ed826620e5f18cbcc7df6c0b60c65efb7983d1817756e6728
size 421926
