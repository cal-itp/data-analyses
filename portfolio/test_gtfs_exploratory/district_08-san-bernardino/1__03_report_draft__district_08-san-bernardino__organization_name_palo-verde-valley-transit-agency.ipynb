version https://git-lfs.github.com/spec/v1
oid sha256:f4a3240b71a1caf65886a8703acff4a00b6e156ee219c138cccc4d17f4b68edf
size 806400
