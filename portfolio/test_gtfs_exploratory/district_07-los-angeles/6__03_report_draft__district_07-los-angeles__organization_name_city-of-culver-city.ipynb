version https://git-lfs.github.com/spec/v1
oid sha256:d1cfbf4c8a701fe30a10b89f69777a7f340049df10ac1ce9f082f2d69a32f9f7
size 3322470
