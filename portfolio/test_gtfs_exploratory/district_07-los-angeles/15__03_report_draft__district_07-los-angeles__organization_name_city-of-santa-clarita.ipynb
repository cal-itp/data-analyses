version https://git-lfs.github.com/spec/v1
oid sha256:aacb55cc0556e12ddaf2b8ce3f0b507d34e48a3690d008cb842f43db90edd128
size 17842002
