version https://git-lfs.github.com/spec/v1
oid sha256:4973142b0d12c9dafd1ca7aac3f487f09567e9cda1f81821b4de0e48d1f5f1fc
size 22670743
