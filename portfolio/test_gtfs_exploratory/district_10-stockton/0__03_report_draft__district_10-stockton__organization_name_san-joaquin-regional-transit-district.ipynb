version https://git-lfs.github.com/spec/v1
oid sha256:7aefe47e1dee9efe45ed3473869138a27cf9ae4791250e1f68706051054d1e9a
size 14706963
