version https://git-lfs.github.com/spec/v1
oid sha256:3d97986fcf3e7bcd28408f77d4060447c48ada2cd0d4f4c667d3d61daf442489
size 18640891
