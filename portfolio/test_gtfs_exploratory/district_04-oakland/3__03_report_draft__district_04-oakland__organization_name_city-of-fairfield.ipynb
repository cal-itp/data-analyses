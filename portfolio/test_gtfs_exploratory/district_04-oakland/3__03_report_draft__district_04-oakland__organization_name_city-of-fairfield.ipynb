version https://git-lfs.github.com/spec/v1
oid sha256:0ef168aa95dbf7c71358d6b7343d18c74cfd0171e8da4096a88faa2e5c745297
size 3136328
