version https://git-lfs.github.com/spec/v1
oid sha256:dc14ac5fc3c7816a91db4e97ae7a388ba6fe18eae339adb50913b1d248400c3d
size 4979217
