version https://git-lfs.github.com/spec/v1
oid sha256:c995a804e9946af2bbe8410e9afe26a6c08dc18dc2efb8ba2d0605346c3241be
size 15196000
