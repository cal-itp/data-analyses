version https://git-lfs.github.com/spec/v1
oid sha256:9d3048ae2b3245f49b6186fa03df7ee0823c6d5fce18f068b2f1bff4cd3d9fc1
size 12648379
