version https://git-lfs.github.com/spec/v1
oid sha256:fa95ccb25ddf70b1f4a8a6adba0ec0d0d45bfca78eaa7c5fad0dd84fe4c0d9c4
size 49461133
