version https://git-lfs.github.com/spec/v1
oid sha256:99c8a016177aa8aa1a35697add8b12b904f7c61bbacc95c194a71dbe93322282
size 22748487
