version https://git-lfs.github.com/spec/v1
oid sha256:8fdf3c0f0dca3a90e119ab8a640e8a140699caf69a6a1df83384b04c347d1029
size 569100
