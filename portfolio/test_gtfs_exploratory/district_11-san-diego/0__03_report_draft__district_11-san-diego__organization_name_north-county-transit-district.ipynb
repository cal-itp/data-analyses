version https://git-lfs.github.com/spec/v1
oid sha256:ea2339db7eb3075361cd924f397605310ee44c3c7ab01198c2b62b9a31a26417
size 28678091
