version https://git-lfs.github.com/spec/v1
oid sha256:c476d4fedfe11dec78e35f5c1cecdf3b3f823fb375ef41d0b82590e2fe5e5752
size 21744740
