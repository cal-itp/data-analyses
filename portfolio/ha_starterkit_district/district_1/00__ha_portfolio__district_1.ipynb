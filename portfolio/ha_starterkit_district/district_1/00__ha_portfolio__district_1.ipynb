version https://git-lfs.github.com/spec/v1
oid sha256:d628df9d431f7cad06accab072a4d319b0169bb9b99b511f8551a81a63f3a810
size 18087
