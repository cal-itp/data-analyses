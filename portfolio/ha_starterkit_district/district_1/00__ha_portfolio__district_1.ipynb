version https://git-lfs.github.com/spec/v1
oid sha256:4c38bb5913b6ac927ac12de2a7292915cb6d1dfaa8521fb247bd3b9f57a15c46
size 18089
