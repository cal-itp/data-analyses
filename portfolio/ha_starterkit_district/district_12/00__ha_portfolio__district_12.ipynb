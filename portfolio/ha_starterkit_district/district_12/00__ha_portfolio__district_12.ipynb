version https://git-lfs.github.com/spec/v1
oid sha256:b5b5ea17fe11171d4ced9c109bc53f70ef2b67ccec04288bcda856f3464c5e4f
size 25791
