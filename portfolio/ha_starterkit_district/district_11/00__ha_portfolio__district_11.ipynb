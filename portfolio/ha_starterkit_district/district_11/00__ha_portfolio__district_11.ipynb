version https://git-lfs.github.com/spec/v1
oid sha256:5e8ad684dd255ea9a0a62909b8be85ecda561c64d7683bad46d9d0e1523c0a56
size 29004
