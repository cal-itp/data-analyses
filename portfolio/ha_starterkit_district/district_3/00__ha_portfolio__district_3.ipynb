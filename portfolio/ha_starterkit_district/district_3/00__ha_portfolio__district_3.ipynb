version https://git-lfs.github.com/spec/v1
oid sha256:9136e8a5da205dbc13e53c3fda3733e32ffa7606c71f74076d485b8c2ec7fa3d
size 30296
