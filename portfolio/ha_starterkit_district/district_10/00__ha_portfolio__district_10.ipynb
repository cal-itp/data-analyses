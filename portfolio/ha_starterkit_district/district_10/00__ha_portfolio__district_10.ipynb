version https://git-lfs.github.com/spec/v1
oid sha256:2d7a83a5782bf1541851fab8ce19ba549b18067d0c0628fdc6f5c7ab6da460be
size 20922
