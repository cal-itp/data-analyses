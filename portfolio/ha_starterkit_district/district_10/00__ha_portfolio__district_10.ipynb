version https://git-lfs.github.com/spec/v1
oid sha256:e4bf26deea732b1c78fa9da3703ba63f832c241f1396280642b2c0e6b8d16d1a
size 20922
