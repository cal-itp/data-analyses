version https://git-lfs.github.com/spec/v1
oid sha256:c47e40c9eaa9df9630d34a3ad8704cbca7a356fc3279a7ebae609eedb7e74824
size 30827
