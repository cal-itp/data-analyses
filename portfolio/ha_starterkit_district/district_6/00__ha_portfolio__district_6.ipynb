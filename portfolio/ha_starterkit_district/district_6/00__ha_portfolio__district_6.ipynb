version https://git-lfs.github.com/spec/v1
oid sha256:21a982a4eca7b4deb73009fc1dab342966c868bada42da48efb81e263a7059d0
size 23689
