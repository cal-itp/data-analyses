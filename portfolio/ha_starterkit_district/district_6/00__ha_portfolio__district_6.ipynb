version https://git-lfs.github.com/spec/v1
oid sha256:6dd7afa7ec749895ebb240d35a4c28433c38c4b5ee8065e07a610911a20abf0e
size 23706
