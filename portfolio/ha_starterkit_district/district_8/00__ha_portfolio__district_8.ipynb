version https://git-lfs.github.com/spec/v1
oid sha256:1503584a03a7e4738fdebd059a229b105ee832fe6552551787e0a8ae180982ef
size 33542
