version https://git-lfs.github.com/spec/v1
oid sha256:7c3ff7aed9db00a02bd6f39f12484408eee639d08e95895971295cbd02363011
size 102704
