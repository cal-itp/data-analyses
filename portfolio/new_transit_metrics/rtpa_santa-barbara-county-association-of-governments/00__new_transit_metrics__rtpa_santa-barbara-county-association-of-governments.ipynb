version https://git-lfs.github.com/spec/v1
oid sha256:144d83f7ddadf6e7c768ef25f905d1e56260b17652eb341a22c9152fa40e3ad8
size 217697
