version https://git-lfs.github.com/spec/v1
oid sha256:a79e92b7aa70af95b862d5e8f4a18be60b932b97cc080ab4059e22cffb375f6c
size 257671
