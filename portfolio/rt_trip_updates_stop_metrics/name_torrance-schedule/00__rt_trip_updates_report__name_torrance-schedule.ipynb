version https://git-lfs.github.com/spec/v1
oid sha256:61fe378eaad06f4c0105483acb0e0fb9010622a1fe994a8e0ef7fb71ec39286d
size 1109480
