version https://git-lfs.github.com/spec/v1
oid sha256:17065e13be5da561d40c1f042a7e46e3b3a287976a7ad34c568b4a2c307b4152
size 550478
