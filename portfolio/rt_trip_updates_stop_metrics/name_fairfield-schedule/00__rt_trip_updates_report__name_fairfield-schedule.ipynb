version https://git-lfs.github.com/spec/v1
oid sha256:b6dc14be43187ddaa7889c73fd3012a614eaf7d7f4c0d3d683b49cf2b545bbab
size 522093
