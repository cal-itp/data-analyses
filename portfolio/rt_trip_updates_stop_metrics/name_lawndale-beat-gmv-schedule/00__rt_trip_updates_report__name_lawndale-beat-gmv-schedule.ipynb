version https://git-lfs.github.com/spec/v1
oid sha256:932bef5d06cf34cf8bc062f12e194bf05109878e56ae874c7aa7985320a0c1a1
size 331295
