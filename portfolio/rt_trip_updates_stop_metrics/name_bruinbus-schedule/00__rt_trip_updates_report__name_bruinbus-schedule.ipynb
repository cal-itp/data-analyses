version https://git-lfs.github.com/spec/v1
oid sha256:a859b199686799b8b440d50bdda004eff8d27fc39ce86bd58e908299804b1cfe
size 387477
