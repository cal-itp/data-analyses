version https://git-lfs.github.com/spec/v1
oid sha256:bde53a36814475d4b3bc9898371693d797529c2a50cdcd7553348f4ef98fccd0
size 67660
