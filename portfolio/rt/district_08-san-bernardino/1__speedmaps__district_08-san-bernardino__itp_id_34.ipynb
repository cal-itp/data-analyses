version https://git-lfs.github.com/spec/v1
oid sha256:fa5678c0a7d1a0e8fc49d6169eaf28a7dc831b5097c8e0379d8b329a53e243bc
size 61174
