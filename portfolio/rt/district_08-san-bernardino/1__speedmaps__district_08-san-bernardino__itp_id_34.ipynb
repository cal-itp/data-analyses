version https://git-lfs.github.com/spec/v1
oid sha256:9bf05e87b6537e41feabee807e21e557e87db8517de19b60df37b2312d797667
size 19991080
