version https://git-lfs.github.com/spec/v1
oid sha256:6fdfdcfdcf61edd98e3bbfcf07de8de066b35e8bdd9fcbbdfaa95445e005a9ac
size 427773
