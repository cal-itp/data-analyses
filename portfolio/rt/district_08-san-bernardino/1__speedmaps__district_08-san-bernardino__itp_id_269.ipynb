version https://git-lfs.github.com/spec/v1
oid sha256:dda142f711546de00dbea58232f6a0db7cdc119a827a26f2168e2c78262a19e9
size 19439643
