version https://git-lfs.github.com/spec/v1
oid sha256:e1a1c4b87b81dfdb5e5951dfa165e9cc34ceb3c09763c2976d3abce4dbf6686c
size 20166912
