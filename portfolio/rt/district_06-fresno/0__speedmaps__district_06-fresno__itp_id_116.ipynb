version https://git-lfs.github.com/spec/v1
oid sha256:b2b72074e4f3a2357401e416fa9efa6ee8425eb1d4ac14287cdb6929ec389a9a
size 70687
