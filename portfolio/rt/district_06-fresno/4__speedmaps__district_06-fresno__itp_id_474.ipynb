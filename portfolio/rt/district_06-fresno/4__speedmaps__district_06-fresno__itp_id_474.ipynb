{
 "cells": [
  {
   "cell_type": "code",
   "execution_count": 1,
   "id": "46898b5c-b5cc-4096-ab68-8c3e42fab870",
   "metadata": {
    "execution": {
     "iopub.execute_input": "2022-06-03T18:03:56.472006Z",
     "iopub.status.busy": "2022-06-03T18:03:56.471364Z",
     "iopub.status.idle": "2022-06-03T18:04:06.291738Z",
     "shell.execute_reply": "2022-06-03T18:04:06.290336Z"
    },
    "jupyter": {
     "source_hidden": true
    },
    "papermill": {
     "duration": 9.84516,
     "end_time": "2022-06-03T18:04:06.295350",
     "exception": false,
     "start_time": "2022-06-03T18:03:56.450190",
     "status": "completed"
    },
    "tags": [
     "remove_input"
    ]
   },
   "outputs": [],
   "source": [
    "%%capture\n",
    "import warnings\n",
    "warnings.filterwarnings('ignore')\n",
    "\n",
    "import os\n",
    "os.environ[\"CALITP_BQ_MAX_BYTES\"] = str(800_000_000_000)\n",
    "import shared_utils\n",
    "import utils\n",
    "\n",
    "from calitp.tables import tbl\n",
    "from calitp import query_sql\n",
    "import calitp.magics\n",
    "\n",
    "from siuba import *\n",
    "import pandas as pd\n",
    "import geopandas as gpd\n",
    "\n",
    "import datetime as dt\n",
    "\n",
    "import importlib\n",
    "import rt_filter_map_plot\n",
    "\n",
    "from IPython.display import display, Markdown, Latex, HTML\n",
    "import json"
   ]
  },
  {
   "cell_type": "code",
   "execution_count": 2,
   "id": "9f15ed6a-5ab7-4f57-9695-3f762781b74c",
   "metadata": {
    "execution": {
     "iopub.execute_input": "2022-06-03T18:04:06.340637Z",
     "iopub.status.busy": "2022-06-03T18:04:06.338031Z",
     "iopub.status.idle": "2022-06-03T18:04:06.345593Z",
     "shell.execute_reply": "2022-06-03T18:04:06.344540Z"
    },
    "jupyter": {
     "source_hidden": true
    },
    "papermill": {
     "duration": 0.032133,
     "end_time": "2022-06-03T18:04:06.348711",
     "exception": false,
     "start_time": "2022-06-03T18:04:06.316578",
     "status": "completed"
    },
    "tags": [
     "parameters",
     "remove_input"
    ]
   },
   "outputs": [],
   "source": [
    "## parameters cell\n",
    "itp_id = 87"
   ]
  },
  {
   "cell_type": "code",
   "execution_count": 3,
   "id": "6813ddb7",
   "metadata": {
    "execution": {
     "iopub.execute_input": "2022-06-03T18:04:06.388527Z",
     "iopub.status.busy": "2022-06-03T18:04:06.387663Z",
     "iopub.status.idle": "2022-06-03T18:04:06.393547Z",
     "shell.execute_reply": "2022-06-03T18:04:06.392809Z"
    },
    "jupyter": {
     "source_hidden": true
    },
    "papermill": {
     "duration": 0.029551,
     "end_time": "2022-06-03T18:04:06.395699",
     "exception": false,
     "start_time": "2022-06-03T18:04:06.366148",
     "status": "completed"
    },
    "tags": [
     "injected-parameters",
     "remove_input"
    ]
   },
   "outputs": [],
   "source": [
    "# Parameters\n",
    "district = \"06 - Fresno\"\n",
    "itp_id = 474\n"
   ]
  },
  {
   "cell_type": "code",
   "execution_count": 4,
   "id": "6c2e9651-70e4-4403-b43d-da50315ef8fd",
   "metadata": {
    "execution": {
     "iopub.execute_input": "2022-06-03T18:04:06.440476Z",
     "iopub.status.busy": "2022-06-03T18:04:06.434512Z",
     "iopub.status.idle": "2022-06-03T18:04:07.755298Z",
     "shell.execute_reply": "2022-06-03T18:04:07.754238Z"
    },
    "jupyter": {
     "source_hidden": true
    },
    "papermill": {
     "duration": 1.343218,
     "end_time": "2022-06-03T18:04:07.757695",
     "exception": false,
     "start_time": "2022-06-03T18:04:06.414477",
     "status": "completed"
    },
    "tags": [
     "remove_input"
    ]
   },
   "outputs": [],
   "source": [
    "airtable_organizations = (\n",
    "    tbl.airtable.california_transit_organizations()\n",
    "    >> select(_.itp_id, _.name, _.caltrans_district,\n",
    "              _.website, _.ntp_id, _.drmt_organization_name)\n",
    "    >> filter(_.itp_id == itp_id)\n",
    "    >> collect()\n",
    ")"
   ]
  },
  {
   "cell_type": "code",
   "execution_count": 5,
   "id": "cc9c7000-4042-4f64-b7ef-8e8e5f1e706a",
   "metadata": {
    "execution": {
     "iopub.execute_input": "2022-06-03T18:04:07.794851Z",
     "iopub.status.busy": "2022-06-03T18:04:07.794544Z",
     "iopub.status.idle": "2022-06-03T18:04:07.798816Z",
     "shell.execute_reply": "2022-06-03T18:04:07.797949Z"
    },
    "jupyter": {
     "source_hidden": true
    },
    "papermill": {
     "duration": 0.024965,
     "end_time": "2022-06-03T18:04:07.800684",
     "exception": false,
     "start_time": "2022-06-03T18:04:07.775719",
     "status": "completed"
    },
    "tags": [
     "remove_input"
    ]
   },
   "outputs": [],
   "source": [
    "# airtable_organizations"
   ]
  },
  {
   "cell_type": "code",
   "execution_count": 6,
   "id": "306a7053-3fab-4723-a287-111e4eba11f2",
   "metadata": {
    "execution": {
     "iopub.execute_input": "2022-06-03T18:04:07.836528Z",
     "iopub.status.busy": "2022-06-03T18:04:07.835583Z",
     "iopub.status.idle": "2022-06-03T18:04:07.840971Z",
     "shell.execute_reply": "2022-06-03T18:04:07.840391Z"
    },
    "jupyter": {
     "source_hidden": true
    },
    "papermill": {
     "duration": 0.02604,
     "end_time": "2022-06-03T18:04:07.843094",
     "exception": false,
     "start_time": "2022-06-03T18:04:07.817054",
     "status": "completed"
    },
    "tags": [
     "remove_input"
    ]
   },
   "outputs": [],
   "source": [
    "analysis_date = dt.date(2022, 6, 1) ##wednesday, new tables\n",
    "## https://docs.google.com/spreadsheets/d/16tcL3fPdYkrNajDNneSR1b5ImhFOCJ0gWFnEaXyg16A/\n",
    "if itp_id == 273: ##sacRT feed issue, again...\n",
    "    analysis_date = dt.date(2022, 2, 8) ##tuesday for sacRT..."
   ]
  },
  {
   "cell_type": "code",
   "execution_count": 7,
   "id": "47c79d99-c82f-4e1e-b11e-2b1e83c13a1b",
   "metadata": {
    "execution": {
     "iopub.execute_input": "2022-06-03T18:04:07.882002Z",
     "iopub.status.busy": "2022-06-03T18:04:07.881416Z",
     "iopub.status.idle": "2022-06-03T18:04:07.887865Z",
     "shell.execute_reply": "2022-06-03T18:04:07.887002Z"
    },
    "jupyter": {
     "source_hidden": true
    },
    "papermill": {
     "duration": 0.027779,
     "end_time": "2022-06-03T18:04:07.889740",
     "exception": false,
     "start_time": "2022-06-03T18:04:07.861961",
     "status": "completed"
    },
    "tags": [
     "remove_input"
    ]
   },
   "outputs": [],
   "source": [
    "%%capture_parameters\n",
    "human_date = analysis_date.strftime('%B %d (%A)')\n",
    "human_date"
   ]
  },
  {
   "cell_type": "code",
   "execution_count": 8,
   "id": "e4cbefc6-9bbb-4989-85b7-1f31da17fcb8",
   "metadata": {
    "execution": {
     "iopub.execute_input": "2022-06-03T18:04:07.928019Z",
     "iopub.status.busy": "2022-06-03T18:04:07.927745Z",
     "iopub.status.idle": "2022-06-03T18:04:13.269536Z",
     "shell.execute_reply": "2022-06-03T18:04:13.268620Z"
    },
    "jupyter": {
     "source_hidden": true
    },
    "papermill": {
     "duration": 5.36389,
     "end_time": "2022-06-03T18:04:13.272033",
     "exception": false,
     "start_time": "2022-06-03T18:04:07.908143",
     "status": "completed"
    },
    "tags": [
     "remove_input"
    ]
   },
   "outputs": [],
   "source": [
    "%%capture\n",
    "rt_day = rt_filter_map_plot.from_gcs(itp_id, analysis_date)"
   ]
  },
  {
   "cell_type": "code",
   "execution_count": 9,
   "id": "6c335d40-7a7b-4641-8a3d-c970b2823cdf",
   "metadata": {
    "execution": {
     "iopub.execute_input": "2022-06-03T18:04:13.312785Z",
     "iopub.status.busy": "2022-06-03T18:04:13.311985Z",
     "iopub.status.idle": "2022-06-03T18:04:13.320146Z",
     "shell.execute_reply": "2022-06-03T18:04:13.319208Z"
    },
    "jupyter": {
     "source_hidden": true
    },
    "papermill": {
     "duration": 0.030646,
     "end_time": "2022-06-03T18:04:13.322029",
     "exception": false,
     "start_time": "2022-06-03T18:04:13.291383",
     "status": "completed"
    },
    "tags": [
     "remove_input"
    ]
   },
   "outputs": [],
   "source": [
    "%%capture_parameters\n",
    "agency_name = rt_day.calitp_agency_name\n",
    "district = airtable_organizations.caltrans_district.iloc[0]\n",
    "agency_name, district"
   ]
  },
  {
   "cell_type": "markdown",
   "id": "52110155-d104-4043-8376-3f83e82a959a",
   "metadata": {
    "papermill": {
     "duration": 0.018892,
     "end_time": "2022-06-03T18:04:13.363041",
     "exception": false,
     "start_time": "2022-06-03T18:04:13.344149",
     "status": "completed"
    },
    "tags": []
   },
   "source": [
    "# Tulare County Regional Transit Agency"
   ]
  },
  {
   "cell_type": "markdown",
   "id": "7d5572cd-dd67-4e26-b100-a0e7472a4a17",
   "metadata": {
    "papermill": {
     "duration": 0.021096,
     "end_time": "2022-06-03T18:04:13.403104",
     "exception": false,
     "start_time": "2022-06-03T18:04:13.382008",
     "status": "completed"
    },
    "tags": []
   },
   "source": [
    "## About These Maps:\n",
    "\n",
    "* Each map shows bus (and rail, if applicable) speeds for Tulare County Regional Transit Agency, with a map each for the morning peak, midday, and afternoon peak periods on June 01 (Wednesday).\n",
    "* On the map, routes are split into segments corresponding to the distance between two stops, allowing you to focus on specific portions of the route experiencing a slowdown.\n",
    "* Route segments are arrow-shaped to indicate direction of travel.\n",
    "* Hover over, or click, a segment with your mouse to see the exact speed, route name, and transit service frequency in that segment. \n",
    "    * Higher-frequency routes (3+ trips per hour) are especially important, since those slowdowns correspond to more vehicles, and riders, delayed in traffic."
   ]
  },
  {
   "cell_type": "code",
   "execution_count": 10,
   "id": "8e940d3d-c76e-42ba-be8b-739852771ca6",
   "metadata": {
    "execution": {
     "iopub.execute_input": "2022-06-03T18:04:13.442874Z",
     "iopub.status.busy": "2022-06-03T18:04:13.441898Z",
     "iopub.status.idle": "2022-06-03T18:04:13.446529Z",
     "shell.execute_reply": "2022-06-03T18:04:13.445837Z"
    },
    "jupyter": {
     "source_hidden": true
    },
    "papermill": {
     "duration": 0.027864,
     "end_time": "2022-06-03T18:04:13.448560",
     "exception": false,
     "start_time": "2022-06-03T18:04:13.420696",
     "status": "completed"
    },
    "tags": [
     "remove_input"
    ]
   },
   "outputs": [],
   "source": [
    "## avoid papermill errors when map fails to render\n",
    "m = None"
   ]
  },
  {
   "cell_type": "markdown",
   "id": "74fce4a9-514f-405d-9ce0-1cb1998a696b",
   "metadata": {
    "papermill": {
     "duration": 0.020124,
     "end_time": "2022-06-03T18:04:13.487772",
     "exception": false,
     "start_time": "2022-06-03T18:04:13.467648",
     "status": "completed"
    },
    "tags": []
   },
   "source": [
    "## Morning Peak (6AM - 9AM)"
   ]
  },
  {
   "cell_type": "code",
   "execution_count": 11,
   "id": "533a64f4-f374-4f2c-94d3-5146ebe7c036",
   "metadata": {
    "execution": {
     "iopub.execute_input": "2022-06-03T18:04:13.528317Z",
     "iopub.status.busy": "2022-06-03T18:04:13.527426Z",
     "iopub.status.idle": "2022-06-03T18:04:13.540602Z",
     "shell.execute_reply": "2022-06-03T18:04:13.534028Z"
    },
    "jupyter": {
     "source_hidden": true
    },
    "papermill": {
     "duration": 0.036198,
     "end_time": "2022-06-03T18:04:13.543842",
     "exception": false,
     "start_time": "2022-06-03T18:04:13.507644",
     "status": "completed"
    },
    "tags": [
     "remove_input"
    ]
   },
   "outputs": [],
   "source": [
    "%%capture\n",
    "rt_day.set_filter(start_time='06:00', end_time='09:00')"
   ]
  },
  {
   "cell_type": "code",
   "execution_count": 12,
   "id": "2f317120-99ee-435b-96cd-1236b8ee2e0b",
   "metadata": {
    "execution": {
     "iopub.execute_input": "2022-06-03T18:04:13.580833Z",
     "iopub.status.busy": "2022-06-03T18:04:13.580336Z",
     "iopub.status.idle": "2022-06-03T18:04:14.685133Z",
     "shell.execute_reply": "2022-06-03T18:04:14.684011Z"
    },
    "jupyter": {
     "source_hidden": true
    },
    "papermill": {
     "duration": 1.126734,
     "end_time": "2022-06-03T18:04:14.687917",
     "exception": false,
     "start_time": "2022-06-03T18:04:13.561183",
     "status": "completed"
    },
    "tags": [
     "remove_input"
    ]
   },
   "outputs": [],
   "source": [
    "%%capture\n",
    "m = rt_day.segment_speed_map(how='low_speeds', no_title=True)"
   ]
  },
  {
   "cell_type": "code",
   "execution_count": 13,
   "id": "275087be-b46d-4acb-95fe-2dc98c2089a2",
   "metadata": {
    "execution": {
     "iopub.execute_input": "2022-06-03T18:04:14.763856Z",
     "iopub.status.busy": "2022-06-03T18:04:14.763474Z",
     "iopub.status.idle": "2022-06-03T18:04:14.777312Z",
     "shell.execute_reply": "2022-06-03T18:04:14.776193Z"
    },
    "jupyter": {
     "source_hidden": true
    },
    "papermill": {
     "duration": 0.06008,
     "end_time": "2022-06-03T18:04:14.780488",
     "exception": false,
     "start_time": "2022-06-03T18:04:14.720408",
     "status": "completed"
    },
    "tags": [
     "remove_input"
    ]
   },
   "outputs": [],
   "source": [
    "m"
   ]
  },
  {
   "cell_type": "code",
   "execution_count": 14,
   "id": "206d9aa8-9f20-4cb0-a467-eecb4fc8466e",
   "metadata": {
    "execution": {
     "iopub.execute_input": "2022-06-03T18:04:14.848511Z",
     "iopub.status.busy": "2022-06-03T18:04:14.848021Z",
     "iopub.status.idle": "2022-06-03T18:04:14.885117Z",
     "shell.execute_reply": "2022-06-03T18:04:14.884164Z"
    },
    "jupyter": {
     "source_hidden": true
    },
    "papermill": {
     "duration": 0.077974,
     "end_time": "2022-06-03T18:04:14.889699",
     "exception": false,
     "start_time": "2022-06-03T18:04:14.811725",
     "status": "completed"
    },
    "tags": [
     "remove_input"
    ]
   },
   "outputs": [],
   "source": [
    "rt_day.describe_slow_routes()"
   ]
  },
  {
   "cell_type": "markdown",
   "id": "3d263ba2-49ae-4e02-9d06-3181b03f51ba",
   "metadata": {
    "papermill": {
     "duration": 0.036426,
     "end_time": "2022-06-03T18:04:14.959234",
     "exception": false,
     "start_time": "2022-06-03T18:04:14.922808",
     "status": "completed"
    },
    "tags": []
   },
   "source": [
    "## Midday (10AM - 2PM)"
   ]
  },
  {
   "cell_type": "code",
   "execution_count": 15,
   "id": "f5344e63-89d2-43d6-9783-55a3061c99d2",
   "metadata": {
    "execution": {
     "iopub.execute_input": "2022-06-03T18:04:15.029866Z",
     "iopub.status.busy": "2022-06-03T18:04:15.029500Z",
     "iopub.status.idle": "2022-06-03T18:04:15.038348Z",
     "shell.execute_reply": "2022-06-03T18:04:15.037473Z"
    },
    "jupyter": {
     "source_hidden": true
    },
    "papermill": {
     "duration": 0.049845,
     "end_time": "2022-06-03T18:04:15.041009",
     "exception": false,
     "start_time": "2022-06-03T18:04:14.991164",
     "status": "completed"
    },
    "tags": [
     "remove_input"
    ]
   },
   "outputs": [],
   "source": [
    "%%capture\n",
    "rt_day.set_filter(start_time='10:00', end_time='14:00')"
   ]
  },
  {
   "cell_type": "code",
   "execution_count": 16,
   "id": "a4c40f3c-cf35-45d5-9d87-aa4701bed3aa",
   "metadata": {
    "execution": {
     "iopub.execute_input": "2022-06-03T18:04:15.115169Z",
     "iopub.status.busy": "2022-06-03T18:04:15.114787Z",
     "iopub.status.idle": "2022-06-03T18:04:15.927848Z",
     "shell.execute_reply": "2022-06-03T18:04:15.927213Z"
    },
    "jupyter": {
     "source_hidden": true
    },
    "papermill": {
     "duration": 0.851818,
     "end_time": "2022-06-03T18:04:15.929969",
     "exception": false,
     "start_time": "2022-06-03T18:04:15.078151",
     "status": "completed"
    },
    "tags": [
     "remove_input"
    ]
   },
   "outputs": [],
   "source": [
    "%%capture\n",
    "m = rt_day.segment_speed_map(how='low_speeds', no_title=True)"
   ]
  },
  {
   "cell_type": "code",
   "execution_count": 17,
   "id": "a78b7db5-f43f-4bf1-8036-ae972a87fc53",
   "metadata": {
    "execution": {
     "iopub.execute_input": "2022-06-03T18:04:15.971780Z",
     "iopub.status.busy": "2022-06-03T18:04:15.971099Z",
     "iopub.status.idle": "2022-06-03T18:04:15.976286Z",
     "shell.execute_reply": "2022-06-03T18:04:15.975413Z"
    },
    "jupyter": {
     "source_hidden": true
    },
    "papermill": {
     "duration": 0.029638,
     "end_time": "2022-06-03T18:04:15.978581",
     "exception": false,
     "start_time": "2022-06-03T18:04:15.948943",
     "status": "completed"
    },
    "tags": [
     "remove_input"
    ]
   },
   "outputs": [],
   "source": [
    "m"
   ]
  },
  {
   "cell_type": "code",
   "execution_count": 18,
   "id": "41198fd0-f8a8-4903-b242-27a581387707",
   "metadata": {
    "execution": {
     "iopub.execute_input": "2022-06-03T18:04:16.021987Z",
     "iopub.status.busy": "2022-06-03T18:04:16.021117Z",
     "iopub.status.idle": "2022-06-03T18:04:16.054094Z",
     "shell.execute_reply": "2022-06-03T18:04:16.053071Z"
    },
    "jupyter": {
     "source_hidden": true
    },
    "papermill": {
     "duration": 0.056155,
     "end_time": "2022-06-03T18:04:16.056184",
     "exception": false,
     "start_time": "2022-06-03T18:04:16.000029",
     "status": "completed"
    },
    "tags": [
     "remove_input"
    ]
   },
   "outputs": [],
   "source": [
    "rt_day.describe_slow_routes()"
   ]
  },
  {
   "cell_type": "markdown",
   "id": "704f0788-b4a8-497d-b2aa-c7ac6df939f4",
   "metadata": {
    "papermill": {
     "duration": 0.019819,
     "end_time": "2022-06-03T18:04:16.095660",
     "exception": false,
     "start_time": "2022-06-03T18:04:16.075841",
     "status": "completed"
    },
    "tags": []
   },
   "source": [
    "## Afternoon Peak (3PM - 7PM)"
   ]
  },
  {
   "cell_type": "code",
   "execution_count": 19,
   "id": "923f1462-b34a-42d2-a632-c5eb3ac16ac6",
   "metadata": {
    "execution": {
     "iopub.execute_input": "2022-06-03T18:04:16.145531Z",
     "iopub.status.busy": "2022-06-03T18:04:16.144862Z",
     "iopub.status.idle": "2022-06-03T18:04:16.151417Z",
     "shell.execute_reply": "2022-06-03T18:04:16.150666Z"
    },
    "jupyter": {
     "source_hidden": true
    },
    "papermill": {
     "duration": 0.037615,
     "end_time": "2022-06-03T18:04:16.153410",
     "exception": false,
     "start_time": "2022-06-03T18:04:16.115795",
     "status": "completed"
    },
    "tags": [
     "remove_input"
    ]
   },
   "outputs": [],
   "source": [
    "%%capture\n",
    "rt_day.set_filter(start_time='15:00', end_time='19:00')"
   ]
  },
  {
   "cell_type": "code",
   "execution_count": 20,
   "id": "5e46b095-7bc2-4552-a37b-661d076b2b51",
   "metadata": {
    "execution": {
     "iopub.execute_input": "2022-06-03T18:04:16.198048Z",
     "iopub.status.busy": "2022-06-03T18:04:16.197089Z",
     "iopub.status.idle": "2022-06-03T18:04:17.391777Z",
     "shell.execute_reply": "2022-06-03T18:04:17.391064Z"
    },
    "jupyter": {
     "source_hidden": true
    },
    "papermill": {
     "duration": 1.217145,
     "end_time": "2022-06-03T18:04:17.393698",
     "exception": false,
     "start_time": "2022-06-03T18:04:16.176553",
     "status": "completed"
    },
    "tags": [
     "remove_input"
    ]
   },
   "outputs": [],
   "source": [
    "%%capture\n",
    "m = rt_day.segment_speed_map(how='low_speeds', no_title=True)"
   ]
  },
  {
   "cell_type": "code",
   "execution_count": 21,
   "id": "0393f107-e9fe-4982-961a-032f7bf4e0eb",
   "metadata": {
    "execution": {
     "iopub.execute_input": "2022-06-03T18:04:17.437683Z",
     "iopub.status.busy": "2022-06-03T18:04:17.436555Z",
     "iopub.status.idle": "2022-06-03T18:04:17.443214Z",
     "shell.execute_reply": "2022-06-03T18:04:17.442534Z"
    },
    "jupyter": {
     "source_hidden": true
    },
    "papermill": {
     "duration": 0.030002,
     "end_time": "2022-06-03T18:04:17.444901",
     "exception": false,
     "start_time": "2022-06-03T18:04:17.414899",
     "status": "completed"
    },
    "tags": [
     "remove_input"
    ]
   },
   "outputs": [],
   "source": [
    "m"
   ]
  },
  {
   "cell_type": "code",
   "execution_count": 22,
   "id": "c59cf5e3-ea49-4250-867b-d8f651a94fb8",
   "metadata": {
    "execution": {
     "iopub.execute_input": "2022-06-03T18:04:17.490260Z",
     "iopub.status.busy": "2022-06-03T18:04:17.489463Z",
     "iopub.status.idle": "2022-06-03T18:04:17.511316Z",
     "shell.execute_reply": "2022-06-03T18:04:17.510504Z"
    },
    "jupyter": {
     "source_hidden": true
    },
    "papermill": {
     "duration": 0.046989,
     "end_time": "2022-06-03T18:04:17.513429",
     "exception": false,
     "start_time": "2022-06-03T18:04:17.466440",
     "status": "completed"
    },
    "tags": [
     "remove_input"
    ]
   },
   "outputs": [],
   "source": [
    "rt_day.describe_slow_routes()"
   ]
  },
  {
   "cell_type": "code",
   "execution_count": 23,
   "id": "91874f76-635b-4fde-8d61-abc795aca6c6",
   "metadata": {
    "execution": {
     "iopub.execute_input": "2022-06-03T18:04:17.560443Z",
     "iopub.status.busy": "2022-06-03T18:04:17.560149Z",
     "iopub.status.idle": "2022-06-03T18:04:17.588699Z",
     "shell.execute_reply": "2022-06-03T18:04:17.587538Z"
    },
    "jupyter": {
     "source_hidden": true
    },
    "papermill": {
     "duration": 0.057921,
     "end_time": "2022-06-03T18:04:17.590928",
     "exception": false,
     "start_time": "2022-06-03T18:04:17.533007",
     "status": "completed"
    },
    "tags": [
     "remove_input"
    ]
   },
   "outputs": [],
   "source": [
    "try:\n",
    "    metrics_df = (rt_day.rt_trips\n",
    "         >> group_by(_.route_short_name, _.direction_id)\n",
    "         >> summarize(speed_variance = _.mean_speed_mph.var(),\n",
    "                     mean_speed_mph = _.mean_speed_mph.mean(),\n",
    "                     min_hour = _.median_time.min().hour,\n",
    "                     max_hour = _.median_time.max().hour,\n",
    "                     n = _.route_short_name.size)\n",
    "         >> filter(_.min_hour <= 7, _.max_hour >= 15,\n",
    "                   _.mean_speed_mph < _.mean_speed_mph.quantile(.6),\n",
    "                   _.speed_variance, _.n > _.n.quantile(.4))\n",
    "         >> arrange(-_.speed_variance)\n",
    "         >> head(20)\n",
    "        )\n",
    "except Exception as e:\n",
    "    pass\n",
    "    # print(e)\n",
    "## check that route has all-day span..."
   ]
  },
  {
   "cell_type": "code",
   "execution_count": 24,
   "id": "758b0bae-32d0-40dd-a1d1-1d107b0e7e8b",
   "metadata": {
    "execution": {
     "iopub.execute_input": "2022-06-03T18:04:17.632782Z",
     "iopub.status.busy": "2022-06-03T18:04:17.632504Z",
     "iopub.status.idle": "2022-06-03T18:04:17.645953Z",
     "shell.execute_reply": "2022-06-03T18:04:17.644944Z"
    },
    "jupyter": {
     "source_hidden": true
    },
    "papermill": {
     "duration": 0.037398,
     "end_time": "2022-06-03T18:04:17.648597",
     "exception": false,
     "start_time": "2022-06-03T18:04:17.611199",
     "status": "completed"
    },
    "tags": [
     "remove_input"
    ]
   },
   "outputs": [],
   "source": [
    "def map_from_metrics(rt_day, metrics_df):\n",
    "    def show_title_and_map():\n",
    "        try:\n",
    "            am_map = rt_day.segment_speed_map(how='low_speeds', no_title = True)\n",
    "            display(Markdown(f'20th Percentile Vehicle Speeds Between Stops{rt_day.filter_formatted}'))\n",
    "            display(am_map)\n",
    "        except Exception as e:\n",
    "            display(Markdown(f'Map not available for this time/route'))\n",
    "            pass\n",
    "        return\n",
    "    try:\n",
    "        route_name = metrics_df.iloc[1,0]\n",
    "        direction_id = metrics_df.iloc[1,1]\n",
    "        # print(route_name, direction_id)\n",
    "    except Exception as e:\n",
    "        # print(e)\n",
    "        return\n",
    "    rt_day.set_filter(start_time='06:00', end_time='09:00',\n",
    "                      route_names=[route_name], direction_id = direction_id)\n",
    "    show_title_and_map()\n",
    "    \n",
    "    rt_day.set_filter(start_time='10:00', end_time='14:00',\n",
    "                      route_names=[route_name], direction_id = direction_id)\n",
    "    show_title_and_map()\n",
    "\n",
    "    rt_day.set_filter(start_time='15:00', end_time='19:00',\n",
    "                      route_names=[route_name], direction_id = direction_id)\n",
    "    show_title_and_map()\n",
    "\n",
    "    return"
   ]
  },
  {
   "cell_type": "markdown",
   "id": "8594cbd6-f705-4fe4-91f9-9d9722bdad53",
   "metadata": {
    "papermill": {
     "duration": 0.020635,
     "end_time": "2022-06-03T18:04:17.689659",
     "exception": false,
     "start_time": "2022-06-03T18:04:17.669024",
     "status": "completed"
    },
    "tags": []
   },
   "source": [
    "## Daily Speed Patterns\n",
    "\n",
    "* This chart shows the distribution of median trip speeds throughout the day. It can help find times of day where transit riders experience the slowest overall speeds."
   ]
  },
  {
   "cell_type": "code",
   "execution_count": 25,
   "id": "745e9e8f-47c2-4875-afd2-2c55de086aad",
   "metadata": {
    "execution": {
     "iopub.execute_input": "2022-06-03T18:04:17.734730Z",
     "iopub.status.busy": "2022-06-03T18:04:17.734443Z",
     "iopub.status.idle": "2022-06-03T18:04:18.044007Z",
     "shell.execute_reply": "2022-06-03T18:04:18.043034Z"
    },
    "jupyter": {
     "source_hidden": true
    },
    "papermill": {
     "duration": 0.336415,
     "end_time": "2022-06-03T18:04:18.046282",
     "exception": false,
     "start_time": "2022-06-03T18:04:17.709867",
     "status": "completed"
    },
    "tags": [
     "remove_input"
    ]
   },
   "outputs": [
    {
     "data": {
      "text/markdown": [
       "Median Trip Speed by Hour of Day, All Routes, 06:00–22:00, Jun 01 (Wed)"
      ],
      "text/plain": [
       "<IPython.core.display.Markdown object>"
      ]
     },
     "metadata": {},
     "output_type": "display_data"
    },
    {
     "data": {
      "image/png": "[encoded data removed]",
      "text/plain": [
       "<Figure size 432x288 with 1 Axes>"
      ]
     },
     "metadata": {
      "needs_background": "light"
     },
     "output_type": "display_data"
    }
   ],
   "source": [
    "try:\n",
    "    rt_day.set_filter(start_time='06:00', end_time='22:00')\n",
    "    display(Markdown(f'Median Trip Speed by Hour of Day{rt_day.filter_formatted}'))\n",
    "\n",
    "    # rt_day.chart_delays(no_title=True);\n",
    "    rt_day.chart_speeds(no_title=True);\n",
    "except:\n",
    "    display(Markdown(f'Chart not available for this agency'))\n",
    "    pass"
   ]
  },
  {
   "cell_type": "markdown",
   "id": "6ce187c8-c7bf-44f4-970e-b3abd69ddc38",
   "metadata": {
    "papermill": {
     "duration": 0.022818,
     "end_time": "2022-06-03T18:04:18.093042",
     "exception": false,
     "start_time": "2022-06-03T18:04:18.070224",
     "status": "completed"
    },
    "tags": []
   },
   "source": [
    "## Single-Route Detail Example\n",
    "\n",
    "* These maps highlight a single route which runs throughout the day, with a low average trip speed and a high amount of variation in speeds between different trips."
   ]
  },
  {
   "cell_type": "code",
   "execution_count": 26,
   "id": "c7b4b043-6d15-4d9c-8aac-f0f6649e9552",
   "metadata": {
    "execution": {
     "iopub.execute_input": "2022-06-03T18:04:18.138365Z",
     "iopub.status.busy": "2022-06-03T18:04:18.137985Z",
     "iopub.status.idle": "2022-06-03T18:04:18.158135Z",
     "shell.execute_reply": "2022-06-03T18:04:18.156906Z"
    },
    "jupyter": {
     "source_hidden": true
    },
    "papermill": {
     "duration": 0.046837,
     "end_time": "2022-06-03T18:04:18.161352",
     "exception": false,
     "start_time": "2022-06-03T18:04:18.114515",
     "status": "completed"
    },
    "tags": [
     "remove_input"
    ]
   },
   "outputs": [],
   "source": [
    "try:\n",
    "    map_from_metrics(rt_day, metrics_df)\n",
    "except Exception as e:\n",
    "    # print(e)\n",
    "    pass"
   ]
  },
  {
   "cell_type": "markdown",
   "id": "694a24fd-e352-4f26-9e41-e856bc2a98d8",
   "metadata": {
    "papermill": {
     "duration": 0.020595,
     "end_time": "2022-06-03T18:04:18.209272",
     "exception": false,
     "start_time": "2022-06-03T18:04:18.188677",
     "status": "completed"
    },
    "tags": []
   },
   "source": [
    "## Single Route Speed Variability\n",
    "\n",
    "* This chart shows the _variability_ in speeds experienced by afternoon peak trips on the route mapped above. In this chart, each vertical strip corresponds to a segment of the map above. Within each strip, each dot represents the speed experienced in that segment by each trip in the afternoon peak. The segments are labelled by their end stop, generally a cross-street. Segments with high variability (some fast trips and some slow trips) might be better-suited to a different set of projects than segments that experience consistently slow speeds."
   ]
  },
  {
   "cell_type": "code",
   "execution_count": 27,
   "id": "3a87a701-1805-444b-bb5a-4fe83d46d85d",
   "metadata": {
    "execution": {
     "iopub.execute_input": "2022-06-03T18:04:18.252901Z",
     "iopub.status.busy": "2022-06-03T18:04:18.252607Z",
     "iopub.status.idle": "2022-06-03T18:04:18.719911Z",
     "shell.execute_reply": "2022-06-03T18:04:18.718932Z"
    },
    "jupyter": {
     "source_hidden": true
    },
    "papermill": {
     "duration": 0.491876,
     "end_time": "2022-06-03T18:04:18.722146",
     "exception": false,
     "start_time": "2022-06-03T18:04:18.230270",
     "status": "completed"
    },
    "tags": [
     "remove_input"
    ]
   },
   "outputs": [
    {
     "data": {
      "text/markdown": [
       "Speed Variablity by Stop Segment, All Routes, 06:00–22:00, Jun 01 (Wed)"
      ],
      "text/plain": [
       "<IPython.core.display.Markdown object>"
      ]
     },
     "metadata": {},
     "output_type": "display_data"
    },
    {
     "data": {
      "text/markdown": [
       "Chart not available for this agency"
      ],
      "text/plain": [
       "<IPython.core.display.Markdown object>"
      ]
     },
     "metadata": {},
     "output_type": "display_data"
    }
   ],
   "source": [
    "try:\n",
    "    rt_day.filter['shape_ids'] = [(rt_day._filter(rt_day.rt_trips) >> count(_.shape_id)).shape_id.iloc[0]]\n",
    "\n",
    "    display(Markdown(f'Speed Variablity by Stop Segment{rt_day.filter_formatted}'))\n",
    "\n",
    "    ## filter to a max number of segments to display, split out title\n",
    "    rt_day.chart_variability(num_segments=25, no_title=True);\n",
    "except:\n",
    "    display(Markdown(f'Chart not available for this agency'))\n",
    "    pass"
   ]
  }
 ],
 "metadata": {
  "kernelspec": {
   "display_name": "Python 3 (ipykernel)",
   "language": "python",
   "name": "python3"
  },
  "language_info": {
   "codemirror_mode": {
    "name": "ipython",
    "version": 3
   },
   "file_extension": ".py",
   "mimetype": "text/x-python",
   "name": "python",
   "nbconvert_exporter": "python",
   "pygments_lexer": "ipython3",
   "version": "3.9.12"
  },
  "papermill": {
   "default_parameters": {},
   "duration": 25.102348,
   "end_time": "2022-06-03T18:04:20.076029",
   "environment_variables": {},
   "exception": null,
   "input_path": "rt_delay/speedmaps.ipynb",
   "output_path": "portfolio/rt/district_06-fresno/4__speedmaps__district_06-fresno__itp_id_474.ipynb",
   "parameters": {
    "district": "06 - Fresno",
    "itp_id": 474
   },
   "start_time": "2022-06-03T18:03:54.973681",
   "version": "2.3.4"
  }
 },
 "nbformat": 4,
 "nbformat_minor": 5
}