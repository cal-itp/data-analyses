version https://git-lfs.github.com/spec/v1
oid sha256:0ad7c3a111e01737e0eaba39c89dc183b3a165e867bac9307ef462cd9a086adf
size 60628
