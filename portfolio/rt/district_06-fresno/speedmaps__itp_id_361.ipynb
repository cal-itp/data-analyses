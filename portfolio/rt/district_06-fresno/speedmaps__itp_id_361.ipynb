{
 "cells": [
  {
   "cell_type": "code",
   "execution_count": 1,
   "id": "46898b5c-b5cc-4096-ab68-8c3e42fab870",
   "metadata": {
    "execution": {
     "iopub.execute_input": "2022-04-22T03:42:31.958999Z",
     "iopub.status.busy": "2022-04-22T03:42:31.958281Z",
     "iopub.status.idle": "2022-04-22T03:42:40.406663Z",
     "shell.execute_reply": "2022-04-22T03:42:40.405757Z"
    },
    "jupyter": {
     "source_hidden": true
    },
    "papermill": {
     "duration": 8.471165,
     "end_time": "2022-04-22T03:42:40.409315",
     "exception": false,
     "start_time": "2022-04-22T03:42:31.938150",
     "status": "completed"
    },
    "tags": [
     "remove_input"
    ]
   },
   "outputs": [],
   "source": [
    "%%capture\n",
    "import warnings\n",
    "warnings.filterwarnings('ignore')\n",
    "\n",
    "import os\n",
    "os.environ[\"CALITP_BQ_MAX_BYTES\"] = str(800_000_000_000)\n",
    "import shared_utils\n",
    "import utils\n",
    "\n",
    "from calitp.tables import tbl\n",
    "from calitp import query_sql\n",
    "import calitp.magics\n",
    "\n",
    "from siuba import *\n",
    "import pandas as pd\n",
    "import geopandas as gpd\n",
    "\n",
    "import datetime as dt\n",
    "\n",
    "import importlib\n",
    "import rt_filter_map_plot\n",
    "\n",
    "from IPython.display import display, Markdown, Latex, HTML\n",
    "import json"
   ]
  },
  {
   "cell_type": "code",
   "execution_count": 2,
   "id": "9f15ed6a-5ab7-4f57-9695-3f762781b74c",
   "metadata": {
    "execution": {
     "iopub.execute_input": "2022-04-22T03:42:40.447541Z",
     "iopub.status.busy": "2022-04-22T03:42:40.447254Z",
     "iopub.status.idle": "2022-04-22T03:42:40.451378Z",
     "shell.execute_reply": "2022-04-22T03:42:40.450576Z"
    },
    "jupyter": {
     "source_hidden": true
    },
    "papermill": {
     "duration": 0.02575,
     "end_time": "2022-04-22T03:42:40.453185",
     "exception": false,
     "start_time": "2022-04-22T03:42:40.427435",
     "status": "completed"
    },
    "tags": [
     "parameters",
     "remove_input"
    ]
   },
   "outputs": [],
   "source": [
    "## parameters cell\n",
    "itp_id = 135"
   ]
  },
  {
   "cell_type": "code",
   "execution_count": 3,
   "id": "a693272f",
   "metadata": {
    "execution": {
     "iopub.execute_input": "2022-04-22T03:42:40.490883Z",
     "iopub.status.busy": "2022-04-22T03:42:40.490237Z",
     "iopub.status.idle": "2022-04-22T03:42:40.494472Z",
     "shell.execute_reply": "2022-04-22T03:42:40.493843Z"
    },
    "jupyter": {
     "source_hidden": true
    },
    "papermill": {
     "duration": 0.024801,
     "end_time": "2022-04-22T03:42:40.496319",
     "exception": false,
     "start_time": "2022-04-22T03:42:40.471518",
     "status": "completed"
    },
    "tags": [
     "injected-parameters",
     "remove_input"
    ]
   },
   "outputs": [],
   "source": [
    "# Parameters\n",
    "district = \"06 - Fresno\"\n",
    "itp_id = 361\n"
   ]
  },
  {
   "cell_type": "code",
   "execution_count": 4,
   "id": "6c2e9651-70e4-4403-b43d-da50315ef8fd",
   "metadata": {
    "execution": {
     "iopub.execute_input": "2022-04-22T03:42:40.535084Z",
     "iopub.status.busy": "2022-04-22T03:42:40.534045Z",
     "iopub.status.idle": "2022-04-22T03:42:42.137867Z",
     "shell.execute_reply": "2022-04-22T03:42:42.137210Z"
    },
    "jupyter": {
     "source_hidden": true
    },
    "papermill": {
     "duration": 1.625591,
     "end_time": "2022-04-22T03:42:42.140179",
     "exception": false,
     "start_time": "2022-04-22T03:42:40.514588",
     "status": "completed"
    },
    "tags": [
     "remove_input"
    ]
   },
   "outputs": [],
   "source": [
    "airtable_organizations = (\n",
    "    tbl.airtable.california_transit_organizations()\n",
    "    >> select(_.itp_id, _.name, _.caltrans_district,\n",
    "              _.website, _.ntp_id, _.drmt_organization_name)\n",
    "    >> filter(_.itp_id == itp_id)\n",
    "    >> collect()\n",
    ")"
   ]
  },
  {
   "cell_type": "code",
   "execution_count": 5,
   "id": "cc9c7000-4042-4f64-b7ef-8e8e5f1e706a",
   "metadata": {
    "execution": {
     "iopub.execute_input": "2022-04-22T03:42:42.185768Z",
     "iopub.status.busy": "2022-04-22T03:42:42.184797Z",
     "iopub.status.idle": "2022-04-22T03:42:42.189383Z",
     "shell.execute_reply": "2022-04-22T03:42:42.188663Z"
    },
    "jupyter": {
     "source_hidden": true
    },
    "papermill": {
     "duration": 0.032797,
     "end_time": "2022-04-22T03:42:42.191319",
     "exception": false,
     "start_time": "2022-04-22T03:42:42.158522",
     "status": "completed"
    },
    "tags": [
     "remove_input"
    ]
   },
   "outputs": [],
   "source": [
    "# airtable_organizations"
   ]
  },
  {
   "cell_type": "code",
   "execution_count": 6,
   "id": "306a7053-3fab-4723-a287-111e4eba11f2",
   "metadata": {
    "execution": {
     "iopub.execute_input": "2022-04-22T03:42:42.229804Z",
     "iopub.status.busy": "2022-04-22T03:42:42.228838Z",
     "iopub.status.idle": "2022-04-22T03:42:42.233931Z",
     "shell.execute_reply": "2022-04-22T03:42:42.233342Z"
    },
    "jupyter": {
     "source_hidden": true
    },
    "papermill": {
     "duration": 0.026332,
     "end_time": "2022-04-22T03:42:42.235873",
     "exception": false,
     "start_time": "2022-04-22T03:42:42.209541",
     "status": "completed"
    },
    "tags": [
     "remove_input"
    ]
   },
   "outputs": [],
   "source": [
    "analysis_date = dt.date(2022, 3, 30)\n",
    "if itp_id == 273:\n",
    "    analysis_date = dt.date(2022, 2, 8) # #override for SacRT "
   ]
  },
  {
   "cell_type": "code",
   "execution_count": 7,
   "id": "47c79d99-c82f-4e1e-b11e-2b1e83c13a1b",
   "metadata": {
    "execution": {
     "iopub.execute_input": "2022-04-22T03:42:42.276232Z",
     "iopub.status.busy": "2022-04-22T03:42:42.275308Z",
     "iopub.status.idle": "2022-04-22T03:42:42.281412Z",
     "shell.execute_reply": "2022-04-22T03:42:42.280845Z"
    },
    "jupyter": {
     "source_hidden": true
    },
    "papermill": {
     "duration": 0.028208,
     "end_time": "2022-04-22T03:42:42.283171",
     "exception": false,
     "start_time": "2022-04-22T03:42:42.254963",
     "status": "completed"
    },
    "tags": [
     "remove_input"
    ]
   },
   "outputs": [],
   "source": [
    "month_day = analysis_date.strftime('%m_%d')"
   ]
  },
  {
   "cell_type": "code",
   "execution_count": 8,
   "id": "1739d979-cd4d-456c-a1ad-a016cbf69cad",
   "metadata": {
    "execution": {
     "iopub.execute_input": "2022-04-22T03:42:42.324293Z",
     "iopub.status.busy": "2022-04-22T03:42:42.323296Z",
     "iopub.status.idle": "2022-04-22T03:42:42.697810Z",
     "shell.execute_reply": "2022-04-22T03:42:42.696729Z"
    },
    "jupyter": {
     "source_hidden": true
    },
    "papermill": {
     "duration": 0.398951,
     "end_time": "2022-04-22T03:42:42.700344",
     "exception": false,
     "start_time": "2022-04-22T03:42:42.301393",
     "status": "completed"
    },
    "tags": [
     "remove_input"
    ]
   },
   "outputs": [],
   "source": [
    "trips = pd.read_parquet(f'{utils.GCS_FILE_PATH}rt_trips/{itp_id}_{month_day}.parquet')"
   ]
  },
  {
   "cell_type": "code",
   "execution_count": 9,
   "id": "b77a9167-4017-4367-8fed-d4e6bf3999b9",
   "metadata": {
    "execution": {
     "iopub.execute_input": "2022-04-22T03:42:42.738875Z",
     "iopub.status.busy": "2022-04-22T03:42:42.737952Z",
     "iopub.status.idle": "2022-04-22T03:42:43.189671Z",
     "shell.execute_reply": "2022-04-22T03:42:43.188734Z"
    },
    "jupyter": {
     "source_hidden": true
    },
    "papermill": {
     "duration": 0.473597,
     "end_time": "2022-04-22T03:42:43.192023",
     "exception": false,
     "start_time": "2022-04-22T03:42:42.718426",
     "status": "completed"
    },
    "tags": [
     "remove_input"
    ]
   },
   "outputs": [],
   "source": [
    "stop_delay = gpd.read_parquet(f'{utils.GCS_FILE_PATH}stop_delay_views/{itp_id}_{month_day}.parquet')\n",
    "stop_delay['arrival_time'] = stop_delay.arrival_time.map(lambda x: dt.datetime.fromisoformat(x))\n",
    "stop_delay['actual_time'] = stop_delay.actual_time.map(lambda x: dt.datetime.fromisoformat(x))"
   ]
  },
  {
   "cell_type": "code",
   "execution_count": 10,
   "id": "2b2fe439-10af-4140-ab83-69b05c385b40",
   "metadata": {
    "execution": {
     "iopub.execute_input": "2022-04-22T03:42:43.229875Z",
     "iopub.status.busy": "2022-04-22T03:42:43.229188Z",
     "iopub.status.idle": "2022-04-22T03:42:46.101032Z",
     "shell.execute_reply": "2022-04-22T03:42:46.099963Z"
    },
    "jupyter": {
     "source_hidden": true
    },
    "papermill": {
     "duration": 2.893643,
     "end_time": "2022-04-22T03:42:46.103475",
     "exception": false,
     "start_time": "2022-04-22T03:42:43.209832",
     "status": "completed"
    },
    "tags": [
     "remove_input"
    ]
   },
   "outputs": [],
   "source": [
    "%%capture\n",
    "routelines = utils.get_routelines(itp_id, analysis_date)"
   ]
  },
  {
   "cell_type": "code",
   "execution_count": 11,
   "id": "e4cbefc6-9bbb-4989-85b7-1f31da17fcb8",
   "metadata": {
    "execution": {
     "iopub.execute_input": "2022-04-22T03:42:46.144670Z",
     "iopub.status.busy": "2022-04-22T03:42:46.144319Z",
     "iopub.status.idle": "2022-04-22T03:42:48.143463Z",
     "shell.execute_reply": "2022-04-22T03:42:48.142576Z"
    },
    "jupyter": {
     "source_hidden": true
    },
    "papermill": {
     "duration": 2.022682,
     "end_time": "2022-04-22T03:42:48.146755",
     "exception": false,
     "start_time": "2022-04-22T03:42:46.124073",
     "status": "completed"
    },
    "tags": [
     "remove_input"
    ]
   },
   "outputs": [],
   "source": [
    "%%capture\n",
    "rt_day = rt_filter_map_plot.RtFilterMapper(trips, stop_delay, routelines)"
   ]
  },
  {
   "cell_type": "code",
   "execution_count": 12,
   "id": "6c335d40-7a7b-4641-8a3d-c970b2823cdf",
   "metadata": {
    "execution": {
     "iopub.execute_input": "2022-04-22T03:42:48.219905Z",
     "iopub.status.busy": "2022-04-22T03:42:48.219445Z",
     "iopub.status.idle": "2022-04-22T03:42:48.234280Z",
     "shell.execute_reply": "2022-04-22T03:42:48.233383Z"
    },
    "jupyter": {
     "source_hidden": true
    },
    "papermill": {
     "duration": 0.048805,
     "end_time": "2022-04-22T03:42:48.236642",
     "exception": false,
     "start_time": "2022-04-22T03:42:48.187837",
     "status": "completed"
    },
    "tags": [
     "remove_input"
    ]
   },
   "outputs": [],
   "source": [
    "%%capture_parameters\n",
    "agency_name = rt_day.calitp_agency_name\n",
    "district = airtable_organizations.caltrans_district.iloc[0]\n",
    "agency_name, district"
   ]
  },
  {
   "cell_type": "markdown",
   "id": "52110155-d104-4043-8376-3f83e82a959a",
   "metadata": {
    "papermill": {
     "duration": 0.019104,
     "end_time": "2022-04-22T03:42:48.274583",
     "exception": false,
     "start_time": "2022-04-22T03:42:48.255479",
     "status": "completed"
    },
    "tags": []
   },
   "source": [
    "# Visalia Transit"
   ]
  },
  {
   "cell_type": "markdown",
   "id": "7d5572cd-dd67-4e26-b100-a0e7472a4a17",
   "metadata": {
    "papermill": {
     "duration": 0.018887,
     "end_time": "2022-04-22T03:42:48.312123",
     "exception": false,
     "start_time": "2022-04-22T03:42:48.293236",
     "status": "completed"
    },
    "tags": []
   },
   "source": [
    "## About These Maps:\n",
    "\n",
    "* Each map shows bus (and rail, if applicable) speeds for Visalia Transit, with a map each for the morning peak, midday, and afternoon peak periods.\n",
    "* On the map, routes are split into segments corresponding to the distance between two stops, allowing you to focus on specific portions of the route experiencing a slowdown.\n",
    "* Route segments are arrow-shaped to indicate direction of travel.\n",
    "* Hover over, or click, a segment with your mouse to see the exact speed, route name, and transit service frequency in that segment. \n",
    "    * Higher-frequency routes (3+ trips per hour) are especially important, since those slowdowns correspond to more vehicles, and riders, delayed in traffic."
   ]
  },
  {
   "cell_type": "code",
   "execution_count": 13,
   "id": "8e940d3d-c76e-42ba-be8b-739852771ca6",
   "metadata": {
    "execution": {
     "iopub.execute_input": "2022-04-22T03:42:48.351570Z",
     "iopub.status.busy": "2022-04-22T03:42:48.351268Z",
     "iopub.status.idle": "2022-04-22T03:42:48.356068Z",
     "shell.execute_reply": "2022-04-22T03:42:48.355050Z"
    },
    "jupyter": {
     "source_hidden": true
    },
    "papermill": {
     "duration": 0.027351,
     "end_time": "2022-04-22T03:42:48.358287",
     "exception": false,
     "start_time": "2022-04-22T03:42:48.330936",
     "status": "completed"
    },
    "tags": [
     "remove_input"
    ]
   },
   "outputs": [],
   "source": [
    "## avoid papermill errors when map fails to render\n",
    "m = None"
   ]
  },
  {
   "cell_type": "markdown",
   "id": "74fce4a9-514f-405d-9ce0-1cb1998a696b",
   "metadata": {
    "papermill": {
     "duration": 0.018337,
     "end_time": "2022-04-22T03:42:48.398776",
     "exception": false,
     "start_time": "2022-04-22T03:42:48.380439",
     "status": "completed"
    },
    "tags": []
   },
   "source": [
    "## Morning Peak"
   ]
  },
  {
   "cell_type": "code",
   "execution_count": 14,
   "id": "533a64f4-f374-4f2c-94d3-5146ebe7c036",
   "metadata": {
    "execution": {
     "iopub.execute_input": "2022-04-22T03:42:48.439371Z",
     "iopub.status.busy": "2022-04-22T03:42:48.439086Z",
     "iopub.status.idle": "2022-04-22T03:42:48.446040Z",
     "shell.execute_reply": "2022-04-22T03:42:48.445061Z"
    },
    "jupyter": {
     "source_hidden": true
    },
    "papermill": {
     "duration": 0.029949,
     "end_time": "2022-04-22T03:42:48.447860",
     "exception": false,
     "start_time": "2022-04-22T03:42:48.417911",
     "status": "completed"
    },
    "tags": [
     "remove_input"
    ]
   },
   "outputs": [],
   "source": [
    "%%capture\n",
    "rt_day.set_filter(start_time='06:00', end_time='09:00')"
   ]
  },
  {
   "cell_type": "code",
   "execution_count": 15,
   "id": "2f317120-99ee-435b-96cd-1236b8ee2e0b",
   "metadata": {
    "execution": {
     "iopub.execute_input": "2022-04-22T03:42:48.490052Z",
     "iopub.status.busy": "2022-04-22T03:42:48.489740Z",
     "iopub.status.idle": "2022-04-22T03:43:00.267955Z",
     "shell.execute_reply": "2022-04-22T03:43:00.267082Z"
    },
    "jupyter": {
     "source_hidden": true
    },
    "papermill": {
     "duration": 11.80076,
     "end_time": "2022-04-22T03:43:00.270052",
     "exception": false,
     "start_time": "2022-04-22T03:42:48.469292",
     "status": "completed"
    },
    "tags": [
     "remove_input"
    ]
   },
   "outputs": [],
   "source": [
    "%%capture\n",
    "m = rt_day.segment_speed_map(how='low_speeds', no_title=True)"
   ]
  },
  {
   "cell_type": "code",
   "execution_count": 16,
   "id": "275087be-b46d-4acb-95fe-2dc98c2089a2",
   "metadata": {
    "execution": {
     "iopub.execute_input": "2022-04-22T03:43:00.310664Z",
     "iopub.status.busy": "2022-04-22T03:43:00.309879Z",
     "iopub.status.idle": "2022-04-22T03:43:00.317453Z",
     "shell.execute_reply": "2022-04-22T03:43:00.316662Z"
    },
    "jupyter": {
     "source_hidden": true
    },
    "papermill": {
     "duration": 0.029965,
     "end_time": "2022-04-22T03:43:00.319138",
     "exception": false,
     "start_time": "2022-04-22T03:43:00.289173",
     "status": "completed"
    },
    "tags": [
     "remove_input"
    ]
   },
   "outputs": [],
   "source": [
    "m"
   ]
  },
  {
   "cell_type": "code",
   "execution_count": 17,
   "id": "b0cf9b97-7485-4f36-b5e8-124f22fa9661",
   "metadata": {
    "execution": {
     "iopub.execute_input": "2022-04-22T03:43:00.360386Z",
     "iopub.status.busy": "2022-04-22T03:43:00.359379Z",
     "iopub.status.idle": "2022-04-22T03:43:00.425395Z",
     "shell.execute_reply": "2022-04-22T03:43:00.424430Z"
    },
    "jupyter": {
     "source_hidden": true
    },
    "papermill": {
     "duration": 0.089218,
     "end_time": "2022-04-22T03:43:00.427684",
     "exception": false,
     "start_time": "2022-04-22T03:43:00.338466",
     "status": "completed"
    },
    "tags": [
     "remove_input"
    ]
   },
   "outputs": [
    {
     "data": {
      "text/markdown": [
       "AM Peak most delayed routes: \n",
       " * Rt 15, Eastbound: 9.0 minutes late on average\n",
       " * Rt 11X, Northbound: 7.0 minutes late on average\n",
       " * Rt 16, Northbound: 6.0 minutes late on average\n",
       " * Rt 9, Westbound: 5.0 minutes late on average\n",
       " * Rt 15, Westbound: 5.0 minutes late on average"
      ],
      "text/plain": [
       "<IPython.core.display.Markdown object>"
      ]
     },
     "metadata": {},
     "output_type": "display_data"
    }
   ],
   "source": [
    "rt_day.describe_delayed_routes()"
   ]
  },
  {
   "cell_type": "markdown",
   "id": "3d263ba2-49ae-4e02-9d06-3181b03f51ba",
   "metadata": {
    "papermill": {
     "duration": 0.024707,
     "end_time": "2022-04-22T03:43:00.473241",
     "exception": false,
     "start_time": "2022-04-22T03:43:00.448534",
     "status": "completed"
    },
    "tags": []
   },
   "source": [
    "## Midday"
   ]
  },
  {
   "cell_type": "code",
   "execution_count": 18,
   "id": "f5344e63-89d2-43d6-9783-55a3061c99d2",
   "metadata": {
    "execution": {
     "iopub.execute_input": "2022-04-22T03:43:00.515193Z",
     "iopub.status.busy": "2022-04-22T03:43:00.514901Z",
     "iopub.status.idle": "2022-04-22T03:43:00.521415Z",
     "shell.execute_reply": "2022-04-22T03:43:00.520837Z"
    },
    "jupyter": {
     "source_hidden": true
    },
    "papermill": {
     "duration": 0.029934,
     "end_time": "2022-04-22T03:43:00.523447",
     "exception": false,
     "start_time": "2022-04-22T03:43:00.493513",
     "status": "completed"
    },
    "tags": [
     "remove_input"
    ]
   },
   "outputs": [],
   "source": [
    "%%capture\n",
    "rt_day.set_filter(start_time='10:00', end_time='14:00')"
   ]
  },
  {
   "cell_type": "code",
   "execution_count": 19,
   "id": "a4c40f3c-cf35-45d5-9d87-aa4701bed3aa",
   "metadata": {
    "execution": {
     "iopub.execute_input": "2022-04-22T03:43:00.564886Z",
     "iopub.status.busy": "2022-04-22T03:43:00.564262Z",
     "iopub.status.idle": "2022-04-22T03:43:13.661984Z",
     "shell.execute_reply": "2022-04-22T03:43:13.660933Z"
    },
    "jupyter": {
     "source_hidden": true
    },
    "papermill": {
     "duration": 13.12095,
     "end_time": "2022-04-22T03:43:13.664112",
     "exception": false,
     "start_time": "2022-04-22T03:43:00.543162",
     "status": "completed"
    },
    "tags": [
     "remove_input"
    ]
   },
   "outputs": [],
   "source": [
    "%%capture\n",
    "m = rt_day.segment_speed_map(how='low_speeds', no_title=True)"
   ]
  },
  {
   "cell_type": "code",
   "execution_count": 20,
   "id": "a78b7db5-f43f-4bf1-8036-ae972a87fc53",
   "metadata": {
    "execution": {
     "iopub.execute_input": "2022-04-22T03:43:13.709734Z",
     "iopub.status.busy": "2022-04-22T03:43:13.709435Z",
     "iopub.status.idle": "2022-04-22T03:43:13.714307Z",
     "shell.execute_reply": "2022-04-22T03:43:13.713736Z"
    },
    "jupyter": {
     "source_hidden": true
    },
    "papermill": {
     "duration": 0.029534,
     "end_time": "2022-04-22T03:43:13.716042",
     "exception": false,
     "start_time": "2022-04-22T03:43:13.686508",
     "status": "completed"
    },
    "tags": [
     "remove_input"
    ]
   },
   "outputs": [],
   "source": [
    "m"
   ]
  },
  {
   "cell_type": "code",
   "execution_count": 21,
   "id": "6c745570-b50f-4722-b943-2176444f7af6",
   "metadata": {
    "execution": {
     "iopub.execute_input": "2022-04-22T03:43:13.759840Z",
     "iopub.status.busy": "2022-04-22T03:43:13.758829Z",
     "iopub.status.idle": "2022-04-22T03:43:13.825114Z",
     "shell.execute_reply": "2022-04-22T03:43:13.824093Z"
    },
    "jupyter": {
     "source_hidden": true
    },
    "papermill": {
     "duration": 0.09109,
     "end_time": "2022-04-22T03:43:13.827331",
     "exception": false,
     "start_time": "2022-04-22T03:43:13.736241",
     "status": "completed"
    },
    "tags": [
     "remove_input"
    ]
   },
   "outputs": [
    {
     "data": {
      "text/markdown": [
       "Midday most delayed routes: \n",
       " * Rt 1, Northbound: 10.0 minutes late on average\n",
       " * Rt 15, Eastbound: 8.0 minutes late on average\n",
       " * Rt 15, Westbound: 5.0 minutes late on average\n",
       " * Rt 16, Northbound: 5.0 minutes late on average\n",
       " * Rt 16, Southbound: 5.0 minutes late on average"
      ],
      "text/plain": [
       "<IPython.core.display.Markdown object>"
      ]
     },
     "metadata": {},
     "output_type": "display_data"
    }
   ],
   "source": [
    "rt_day.describe_delayed_routes()"
   ]
  },
  {
   "cell_type": "markdown",
   "id": "704f0788-b4a8-497d-b2aa-c7ac6df939f4",
   "metadata": {
    "papermill": {
     "duration": 0.024328,
     "end_time": "2022-04-22T03:43:13.873026",
     "exception": false,
     "start_time": "2022-04-22T03:43:13.848698",
     "status": "completed"
    },
    "tags": []
   },
   "source": [
    "## Afternoon Peak"
   ]
  },
  {
   "cell_type": "code",
   "execution_count": 22,
   "id": "923f1462-b34a-42d2-a632-c5eb3ac16ac6",
   "metadata": {
    "execution": {
     "iopub.execute_input": "2022-04-22T03:43:13.916491Z",
     "iopub.status.busy": "2022-04-22T03:43:13.916208Z",
     "iopub.status.idle": "2022-04-22T03:43:13.924214Z",
     "shell.execute_reply": "2022-04-22T03:43:13.923327Z"
    },
    "jupyter": {
     "source_hidden": true
    },
    "papermill": {
     "duration": 0.032127,
     "end_time": "2022-04-22T03:43:13.926222",
     "exception": false,
     "start_time": "2022-04-22T03:43:13.894095",
     "status": "completed"
    },
    "tags": [
     "remove_input"
    ]
   },
   "outputs": [],
   "source": [
    "%%capture\n",
    "rt_day.set_filter(start_time='15:00', end_time='19:00')"
   ]
  },
  {
   "cell_type": "code",
   "execution_count": 23,
   "id": "5e46b095-7bc2-4552-a37b-661d076b2b51",
   "metadata": {
    "execution": {
     "iopub.execute_input": "2022-04-22T03:43:13.975421Z",
     "iopub.status.busy": "2022-04-22T03:43:13.974621Z",
     "iopub.status.idle": "2022-04-22T03:43:26.665248Z",
     "shell.execute_reply": "2022-04-22T03:43:26.664574Z"
    },
    "jupyter": {
     "source_hidden": true
    },
    "papermill": {
     "duration": 12.717104,
     "end_time": "2022-04-22T03:43:26.667158",
     "exception": false,
     "start_time": "2022-04-22T03:43:13.950054",
     "status": "completed"
    },
    "tags": [
     "remove_input"
    ]
   },
   "outputs": [],
   "source": [
    "%%capture\n",
    "m = rt_day.segment_speed_map(how='low_speeds', no_title=True)"
   ]
  },
  {
   "cell_type": "code",
   "execution_count": 24,
   "id": "0393f107-e9fe-4982-961a-032f7bf4e0eb",
   "metadata": {
    "execution": {
     "iopub.execute_input": "2022-04-22T03:43:26.715818Z",
     "iopub.status.busy": "2022-04-22T03:43:26.714898Z",
     "iopub.status.idle": "2022-04-22T03:43:26.719922Z",
     "shell.execute_reply": "2022-04-22T03:43:26.718862Z"
    },
    "jupyter": {
     "source_hidden": true
    },
    "papermill": {
     "duration": 0.029609,
     "end_time": "2022-04-22T03:43:26.721822",
     "exception": false,
     "start_time": "2022-04-22T03:43:26.692213",
     "status": "completed"
    },
    "tags": [
     "remove_input"
    ]
   },
   "outputs": [],
   "source": [
    "m"
   ]
  },
  {
   "cell_type": "code",
   "execution_count": 25,
   "id": "76580953-2a2b-4295-a41c-20442eae883e",
   "metadata": {
    "execution": {
     "iopub.execute_input": "2022-04-22T03:43:26.766722Z",
     "iopub.status.busy": "2022-04-22T03:43:26.766411Z",
     "iopub.status.idle": "2022-04-22T03:43:26.836319Z",
     "shell.execute_reply": "2022-04-22T03:43:26.835743Z"
    },
    "jupyter": {
     "source_hidden": true
    },
    "papermill": {
     "duration": 0.094988,
     "end_time": "2022-04-22T03:43:26.838281",
     "exception": false,
     "start_time": "2022-04-22T03:43:26.743293",
     "status": "completed"
    },
    "tags": [
     "remove_input"
    ]
   },
   "outputs": [
    {
     "data": {
      "text/markdown": [
       "PM Peak most delayed routes: \n",
       " * Rt 16, Northbound: 17.0 minutes late on average\n",
       " * Rt 2, Eastbound: 9.0 minutes late on average\n",
       " * Rt 15, Eastbound: 6.0 minutes late on average\n",
       " * Rt 8, Northbound: 4.0 minutes late on average\n",
       " * Rt 11X, Northbound: 4.0 minutes late on average"
      ],
      "text/plain": [
       "<IPython.core.display.Markdown object>"
      ]
     },
     "metadata": {},
     "output_type": "display_data"
    }
   ],
   "source": [
    "rt_day.describe_delayed_routes()"
   ]
  },
  {
   "cell_type": "code",
   "execution_count": 26,
   "id": "91874f76-635b-4fde-8d61-abc795aca6c6",
   "metadata": {
    "execution": {
     "iopub.execute_input": "2022-04-22T03:43:26.896753Z",
     "iopub.status.busy": "2022-04-22T03:43:26.896194Z",
     "iopub.status.idle": "2022-04-22T03:43:26.939436Z",
     "shell.execute_reply": "2022-04-22T03:43:26.938577Z"
    },
    "jupyter": {
     "source_hidden": true
    },
    "papermill": {
     "duration": 0.070076,
     "end_time": "2022-04-22T03:43:26.942088",
     "exception": false,
     "start_time": "2022-04-22T03:43:26.872012",
     "status": "completed"
    },
    "tags": [
     "remove_input"
    ]
   },
   "outputs": [],
   "source": [
    "try:\n",
    "    metrics_df = (rt_day.rt_trips\n",
    "         >> group_by(_.route_short_name, _.direction_id)\n",
    "         >> summarize(speed_variance = _.mean_speed_mph.var(),\n",
    "                     mean_speed_mph = _.mean_speed_mph.mean(),\n",
    "                     min_hour = _.median_time.min().hour,\n",
    "                     max_hour = _.median_time.max().hour)\n",
    "         >> filter(_.min_hour <= 7, _.max_hour >= 15,\n",
    "                   _.mean_speed_mph < _.mean_speed_mph.quantile(.6),\n",
    "                   _.speed_variance)\n",
    "         >> arrange(-_.speed_variance)\n",
    "         >> head(20)\n",
    "        )\n",
    "except Exception as e:\n",
    "    pass\n",
    "    # print(e)\n",
    "## check that route has all-day span..."
   ]
  },
  {
   "cell_type": "code",
   "execution_count": 27,
   "id": "758b0bae-32d0-40dd-a1d1-1d107b0e7e8b",
   "metadata": {
    "execution": {
     "iopub.execute_input": "2022-04-22T03:43:26.993862Z",
     "iopub.status.busy": "2022-04-22T03:43:26.993305Z",
     "iopub.status.idle": "2022-04-22T03:43:27.001313Z",
     "shell.execute_reply": "2022-04-22T03:43:27.000733Z"
    },
    "jupyter": {
     "source_hidden": true
    },
    "papermill": {
     "duration": 0.037912,
     "end_time": "2022-04-22T03:43:27.003345",
     "exception": false,
     "start_time": "2022-04-22T03:43:26.965433",
     "status": "completed"
    },
    "tags": [
     "remove_input"
    ]
   },
   "outputs": [],
   "source": [
    "def map_from_metrics(rt_day, metrics_df):\n",
    "    try:\n",
    "        route_name = metrics_df.iloc[1,0]\n",
    "        direction_id = metrics_df.iloc[1,1]\n",
    "        # print(route_name, direction_id)\n",
    "    except Exception as e:\n",
    "        # print(e)\n",
    "        return\n",
    "    # route_name = '281'\n",
    "    # direction_id = '1'\n",
    "    rt_day.set_filter(start_time='06:00', end_time='09:00',\n",
    "                      route_names=[route_name], direction_id = direction_id)\n",
    "    try:\n",
    "        am_map = rt_day.segment_speed_map(how='low_speeds')\n",
    "        display(am_map)\n",
    "    except Exception as e:\n",
    "        # print(e)\n",
    "        pass\n",
    "    \n",
    "    rt_day.set_filter(start_time='10:00', end_time='14:00',\n",
    "                      route_names=[route_name], direction_id = direction_id)\n",
    "    try:\n",
    "        mid_map = rt_day.segment_speed_map(how='low_speeds')\n",
    "        display(mid_map)\n",
    "    except Exception as e:\n",
    "        # print(e)\n",
    "        pass\n",
    "\n",
    "    rt_day.set_filter(start_time='15:00', end_time='19:00',\n",
    "                      route_names=[route_name], direction_id = direction_id)\n",
    "    try:\n",
    "        pm_map = rt_day.segment_speed_map(how='low_speeds')\n",
    "        display(pm_map)\n",
    "    except Exception as e:\n",
    "        # print(e)\n",
    "        pass\n",
    "\n",
    "    return"
   ]
  },
  {
   "cell_type": "markdown",
   "id": "6ce187c8-c7bf-44f4-970e-b3abd69ddc38",
   "metadata": {
    "papermill": {
     "duration": 0.022758,
     "end_time": "2022-04-22T03:43:27.048612",
     "exception": false,
     "start_time": "2022-04-22T03:43:27.025854",
     "status": "completed"
    },
    "tags": []
   },
   "source": [
    "## Single-Route Detail Example"
   ]
  },
  {
   "cell_type": "code",
   "execution_count": 28,
   "id": "c7b4b043-6d15-4d9c-8aac-f0f6649e9552",
   "metadata": {
    "execution": {
     "iopub.execute_input": "2022-04-22T03:43:27.099330Z",
     "iopub.status.busy": "2022-04-22T03:43:27.098771Z",
     "iopub.status.idle": "2022-04-22T03:43:28.513934Z",
     "shell.execute_reply": "2022-04-22T03:43:28.513195Z"
    },
    "jupyter": {
     "source_hidden": true
    },
    "papermill": {
     "duration": 1.440805,
     "end_time": "2022-04-22T03:43:28.516069",
     "exception": false,
     "start_time": "2022-04-22T03:43:27.075264",
     "status": "completed"
    },
    "tags": [
     "remove_input"
    ]
   },
   "outputs": [],
   "source": [
    "try:\n",
    "    map_from_metrics(rt_day, metrics_df)\n",
    "except Exception as e:\n",
    "    # print(e)\n",
    "    pass"
   ]
  },
  {
   "cell_type": "code",
   "execution_count": null,
   "id": "a7d189cb-26d5-4a49-bf0f-2c33fd408f7e",
   "metadata": {
    "jupyter": {
     "source_hidden": true
    },
    "papermill": {
     "duration": 0.02341,
     "end_time": "2022-04-22T03:43:28.562152",
     "exception": false,
     "start_time": "2022-04-22T03:43:28.538742",
     "status": "completed"
    },
    "tags": [
     "remove_input"
    ]
   },
   "outputs": [],
   "source": []
  }
 ],
 "metadata": {
  "kernelspec": {
   "display_name": "Python 3 (ipykernel)",
   "language": "python",
   "name": "python3"
  },
  "language_info": {
   "codemirror_mode": {
    "name": "ipython",
    "version": 3
   },
   "file_extension": ".py",
   "mimetype": "text/x-python",
   "name": "python",
   "nbconvert_exporter": "python",
   "pygments_lexer": "ipython3",
   "version": "3.9.10"
  },
  "papermill": {
   "default_parameters": {},
   "duration": 59.388237,
   "end_time": "2022-04-22T03:43:30.109415",
   "environment_variables": {},
   "exception": null,
   "input_path": "rt_delay/speedmaps.ipynb",
   "output_path": "portfolio/rt/district_06-fresno/speedmaps__itp_id_361.ipynb",
   "parameters": {
    "district": "06 - Fresno",
    "itp_id": 361
   },
   "start_time": "2022-04-22T03:42:30.721178",
   "version": "2.3.4"
  }
 },
 "nbformat": 4,
 "nbformat_minor": 5
}