version https://git-lfs.github.com/spec/v1
oid sha256:2249a48d927f4c310dc4430040b4fc9e007f9e84edaf80097538c52a952fd37c
size 6619887
