version https://git-lfs.github.com/spec/v1
oid sha256:d97e1298f43c673760ed63656b0cd937fc6d9929498f9240b1352bfe5f298c3d
size 67316
